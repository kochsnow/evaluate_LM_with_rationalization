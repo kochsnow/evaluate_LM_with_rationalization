{
 "cells": [
  {
   "cell_type": "code",
   "execution_count": 1,
   "id": "f5286ba7",
   "metadata": {},
   "outputs": [
    {
     "name": "stderr",
     "output_type": "stream",
     "text": [
      "\u001b[34m\u001b[1mwandb\u001b[0m: Currently logged in as: \u001b[33mdengdenghuang\u001b[0m (\u001b[33mcuhk_lavilab\u001b[0m). Use \u001b[1m`wandb login --relogin`\u001b[0m to force relogin\n"
     ]
    },
    {
     "name": "stdout",
     "output_type": "stream",
     "text": [
      "env: WANDB_PROJECT=evaluate_LM_with_rationalization\n"
     ]
    }
   ],
   "source": [
    "import wandb\n",
    "wandb.login()\n",
    "\n",
    "%env WANDB_PROJECT=evaluate_LM_with_rationalization"
   ]
  },
  {
   "cell_type": "code",
   "execution_count": 2,
   "id": "30300ea6",
   "metadata": {},
   "outputs": [],
   "source": [
    "# import gpt3\n",
    "import logging\n",
    "import math\n",
    "import os\n",
    "\n",
    "from typing import List, Dict, Any, NewType\n",
    "\n",
    "InputDataClass = NewType(\"InputDataClass\", Any)\n",
    "os.environ[\"CUDA_VISIBLE_DEVICES\"] = \"1\"\n",
    "from transformers import (\n",
    "    T5Config,\n",
    "    T5ForConditionalGeneration,\n",
    "    T5Tokenizer,\n",
    "    HfArgumentParser,\n",
    "    TrainingArguments,\n",
    "    set_seed,\n",
    "    EarlyStoppingCallback\n",
    ")\n",
    "from transformers.trainer_utils import EvaluationStrategy\n",
    "from transformers.integrations import TensorBoardCallback\n",
    "import transformers\n",
    "from transformers import Trainer\n",
    "\n",
    "#from feature_conversion_methods import format_instance\n",
    "\n",
    "from custom_args import (\n",
    "    DataTrainingArguments,\n",
    "    ModelArguments\n",
    ")\n",
    "from metrics import evaluate\n",
    "import torch\n",
    "import datasets\n",
    "import git\n",
    "import time\n",
    "from datetime import datetime\n",
    "import sys\n",
    "from tqdm import trange\n",
    "import random \n",
    "import pandas as pd \n",
    "import jsonlines\n",
    "from copy import deepcopy \n",
    "\n",
    "logger = logging.getLogger(__name__)\n",
    "transformers.logging.set_verbosity_info()\n",
    "import re\n",
    "def set_global_logging_level(level=logging.ERROR, prefices=[\"\"]):\n",
    "    \"\"\"\n",
    "    Override logging levels of different modules based on their name as a prefix.\n",
    "    It needs to be invoked after the modules have been loaded so that their loggers have been initialized.\n",
    "\n",
    "    Args:\n",
    "        - level: desired level. e.g. logging.INFO. Optional. Default is logging.ERROR\n",
    "        - prefices: list of one or more str prefices to match (e.g. [\"transformers\", \"torch\"]). Optional.\n",
    "          Default is `[\"\"]` to match all active loggers.\n",
    "          The match is a case-sensitive `module_name.startswith(prefix)`\n",
    "    \"\"\"\n",
    "    prefix_re = re.compile(fr'^(?:{ \"|\".join(prefices) })')\n",
    "    for name in logging.root.manager.loggerDict:\n",
    "        if re.match(prefix_re, name):\n",
    "            logging.getLogger(name).setLevel(level)\n",
    "set_global_logging_level(logging.ERROR, [\"datasets\"])\n",
    "\n",
    "\n",
    "CONFIG_MAPPING = {\"t5\": T5Config}\n",
    "MODEL_MAPPING = {\"t5\": T5ForConditionalGeneration}\n",
    "TOKENIZER_MAPPING = {\"t5\": T5Tokenizer}\n",
    "\n",
    "\n",
    "def set_other_seeds(seed):\n",
    "    torch.backends.cudnn.benchmark = False\n",
    "    #torch.backends.cudnn.deterministic = True\n",
    "    os.environ['PYTHONHASHSEED'] = str(seed)\n",
    "\n",
    "# inspired by DefaultDataCollator from:\n",
    "# https://github.com/huggingface/transformers/blob/master/src/transformers/data/data_collator.py\n",
    "# modified to perform batch-level padding.\n",
    "class SequenceCollator:\n",
    "    def __init__(self, model, pad_token):\n",
    "        self.model = model\n",
    "        self.pad_token_mapping = {\n",
    "            \"labels\": -100,\n",
    "            \"attention_mask\": 0,\n",
    "            \"decoder_attention_mask\": 0,\n",
    "            \"input_ids\": pad_token,\n",
    "        }\n",
    "\n",
    "        self.columns = [\n",
    "            \"input_ids\",\n",
    "            \"attention_mask\",\n",
    "            \"labels\",\n",
    "            \"decoder_attention_mask\",\n",
    "        ]\n",
    "\n",
    "    def __call__(self, examples: List[Dict[str, InputDataClass]]) -> Dict[str, torch.Tensor]:\n",
    "        # re-format inputs for training\n",
    "        batch = {}\n",
    "        for key in examples[0].keys():\n",
    "            if key in self.columns:\n",
    "                tmp_list = []\n",
    "                for item in examples:\n",
    "                    tmp_list.append(item[key])\n",
    "\n",
    "                # pad lists to max length\n",
    "                if isinstance(tmp_list[0], list):\n",
    "                    max_length = max(map(len, tmp_list))\n",
    "                    tmp_list = [\n",
    "                        el + [self.pad_token_mapping[key]] * (max_length - len(el))\n",
    "                        for el in tmp_list\n",
    "                    ]\n",
    "\n",
    "                batch[key] = torch.tensor(tmp_list, dtype=torch.long)\n",
    "        return batch\n"
   ]
  },
  {
   "cell_type": "code",
   "execution_count": 3,
   "id": "2fa5a75a",
   "metadata": {},
   "outputs": [],
   "source": [
    "from collections import defaultdict\n",
    "import random\n",
    "\"\"\"\n",
    "Example-to-Feature conversion methods\n",
    "Modified from\n",
    "https://github.com/salesforce/cos-e/blob/master/code/generation/train_commonsenseqa_v1.0.py and \"\"_v1.11.py (identical)\n",
    "as well as Tensorflow code for WTF?: \n",
    "https://github.com/google-research/google-research/blob/master/wt5/wt5/preprocessors.py\n",
    "\"\"\"\n",
    "# This code is based on https://github.com/allenai/label_rationale_association/blob/main/feature_conversion_methods.py\n",
    "\n",
    "unified_qa_esnli_label_mapping = {0: 'yes', 1: 'maybe', 2: 'no'}\n",
    "unified_qa_esnli_label_mapping_upper = {0: 'Yes', 1: 'Maybe', 2: 'No'} \n",
    "wt5_esnli_label_mapping = {0: 'entailment', 1: 'neutral', 2: 'contradiction'} \n",
    "unified_qa_sbic_label_mapping = {\"offensive\": 'Yes', \"not offensive\": 'No'}\n",
    "\n",
    "def format_instance(\n",
    "        example,\n",
    "        tokenizer,\n",
    "        explanation_sep,\n",
    "        max_seq_length=None,\n",
    "        datasource=None,\n",
    "        io_format=None, \n",
    "):\n",
    "    assert datasource in {\"cos_e\", \"esnli\", \"sbic\", \"sensemaking\", \"ecqa\"}\n",
    "\n",
    "    if datasource in [\"cos_e\", \"ecqa\"]:\n",
    "        input_string, answer_string = cqa_formatting(example, io_format, explanation_sep, datasource)\n",
    "    elif datasource == \"esnli\":\n",
    "        input_string, answer_string = esnli_formatting(example, io_format, explanation_sep)\n",
    "    elif datasource == 'sbic':\n",
    "        input_string, answer_string = sbic_formatting(example, io_format, explanation_sep)\n",
    "    elif datasource == 'sensemaking':\n",
    "        input_string, answer_string = sensemaking_formatting(example, io_format, explanation_sep)\n",
    "    else:\n",
    "        raise ValueError(\"Unknown task. Currently supported: esnli, cos_e, sbic, sensemaking, ecqa.\")\n",
    "    \n",
    "    if 'unified' in io_format and 'unifew' not in io_format:\n",
    "        input_string += '</s>'\n",
    "\n",
    "    input_string = ' '.join(input_string.split())\n",
    "    answer_string = ' '.join(answer_string.split())\n",
    "\n",
    "    input_string = ' '.join(input_string.split())\n",
    "    answer_string = ' '.join(answer_string.split())\n",
    "\n",
    "    encodings = tokenizer.encode_plus(\n",
    "        input_string,\n",
    "        max_length=max_seq_length,\n",
    "        pad_to_max_length=False,\n",
    "        return_token_type_ids=False,\n",
    "        return_attention_mask=True,\n",
    "    )\n",
    "\n",
    "\n",
    "    # note even with \"lm_labels.shift_right()\", the decoder attention mask length is still correct since we remove the last token\n",
    "    dec = tokenizer.encode_plus(\n",
    "        answer_string,\n",
    "        max_length=max_seq_length,\n",
    "        pad_to_max_length=False,\n",
    "        return_token_type_ids=False,\n",
    "        return_attention_mask=True,\n",
    "    )\n",
    "\n",
    "    encodings[\"labels\"] = dec[\"input_ids\"]\n",
    "    encodings[\"decoder_attention_mask\"] = dec[\"attention_mask\"]\n",
    "    encodings[\"question_encoding\"] = encodings[\"input_ids\"]\n",
    "\n",
    "    #return encodings\n",
    "    return {**example, **encodings}\n",
    "\n",
    "#这里很简单 定义好输入输出string就可以的\n",
    "def cqa_formatting(item, io_format, explanation_sep, datasource):\n",
    "    question = item[\"question\"]\n",
    "    answer = item[\"answer\"]\n",
    "    abstr_expl = item[\"abstractive_explanation\"].lower() if datasource == 'cos_e' else item[\"explanation\"].lower()\n",
    "\n",
    "\n",
    "    if io_format == 't5_fewshot_infilling_with_choices':\n",
    "        input_string = f\"explain {datasource} question: {question} choice: \" + \" choice: \".join(item[\"choices\"]) + f\" <extra_id_0> {explanation_sep} <extra_id_1>\"\n",
    "        answer_string = f\"<extra_id_0> {answer} <extra_id_1> {abstr_expl} <extra_id_2>\"\n",
    "    elif io_format == 't5_fewshot_infilling_more_natural':\n",
    "        input_string = f\"explain {datasource} question: {question} choice: \" + \" choice: \".join(item[\"choices\"]) + f\" The answer is <extra_id_0> {explanation_sep} <extra_id_1>\"\n",
    "        answer_string = f\"<extra_id_0> {answer} <extra_id_1> {abstr_expl} <extra_id_2>\"\n",
    "    elif io_format == \"squad\": \n",
    "        input_string = f\"explain {datasource} question: {question} context: \" + ', '.join(item['choices']) # explain cos_e question: When getting in shape you need to have this in between workouts? context: give up, period of recovery, jogging\n",
    "        answer_string = f\"{answer} {explanation_sep} {abstr_expl}\" # period of recovery because without a period of recovery you will not get any gains.\n",
    "    elif io_format == \"record\": \n",
    "        # might not work because cos_e doesn't have a passage \n",
    "        input_string = f\"explain {datasource} query: {question} entities: \" + ', '.join(item['choices']) # explain cos_e query: When getting in shape you need to have this in between workouts? entities: give up, period of recovery, jogging\n",
    "        answer_string = f\"{answer} {explanation_sep} {abstr_expl}\" # period of recovery because without a period of recovery you will not get any gains.\n",
    "    elif io_format == 'unifiedqa_matching':\n",
    "        choice_ids = ['(A)', '(B)', '(C)', '(D)', '(E)']\n",
    "        input_string = f'explain {question.lower()} \\\\n'\n",
    "        for choice_id, choice in zip(choice_ids, item[\"choices\"]):\n",
    "            input_string += f' {choice_id} {choice.lower()}'\n",
    "        answer_string = f\"{answer.lower()} {explanation_sep} {abstr_expl.lower()}\"\n",
    "        answer_string = answer_string.lower()\n",
    "    elif io_format == 't5_fewshot_infilling_without_choices_use_refined_expl':\n",
    "        input_string = f\"explain {datasource} question: {question} choice: \" + \" choice: \".join(item[\"choices\"]) + f\" <extra_id_0> {explanation_sep} <extra_id_1>\"\n",
    "        input_string = f\"explain {datasource} question: {question} answer: {answer}\" + f\" {explanation_sep} <extra_id_0>\"\n",
    "        answer_string = f\"<extra_id_0> {item['our_explanation']} <extra_id_1>\"\n",
    "\n",
    "    else:\n",
    "        raise ValueError(\"The IO format is not supported. Choose `standard` or `masked_cause_generate`.\")\n",
    "    \n",
    "    return input_string, answer_string\n",
    "\n",
    "\n",
    "def esnli_formatting(item, io_format, explanation_sep):\n",
    "\n",
    "    premise = item[\"premise\"]\n",
    "    hypothesis = item[\"hypothesis\"]\n",
    "    answer = unified_qa_esnli_label_mapping[item[\"label\"]] if 'unified' in io_format else wt5_esnli_label_mapping[item[\"label\"]]\n",
    "    abstr_expl = item[\"explanation_1\"].lower() \n",
    "    # Dev/test instances have more than one explanation annotated; merge them into one sequence separated by [SEP] \n",
    "    for k in [2,3]:\n",
    "        if f\"explanation_{k}\" in item and item[f'explanation_{k}']!='': \n",
    "            abstr_expl += f\" [SEP] {item[f'explanation_{k}'].lower()}\"\n",
    "\n",
    "    if io_format == 'standard':\n",
    "        input_string = f\"explain nli hypothesis: {hypothesis} premise: {premise}\"\n",
    "        answer_string = f\"{answer} {explanation_sep} {abstr_expl}\"\n",
    "    elif io_format == 't5_fewshot_infilling':\n",
    "        input_string = f\"explain nli hypothesis: {hypothesis} premise: {premise} <extra_id_0> {explanation_sep} <extra_id_1>\"\n",
    "        answer_string = f\"<extra_id_0> {answer} <extra_id_1> {abstr_expl} <extra_id_2>\"\n",
    "    elif io_format == 't5_fewshot_infilling_more_natural':\n",
    "        input_string = f\"explain nli hypothesis: {hypothesis} premise: {premise} This is <extra_id_0> {explanation_sep} <extra_id_1>\"\n",
    "        answer_string = f\"<extra_id_0> {answer} <extra_id_1> {abstr_expl} <extra_id_2>\"\n",
    "    elif io_format == \"squad\": \n",
    "        input_string = f\"explain nli question: Is this entailment? context: {hypothesis} {premise}\"  \n",
    "        answer_ynm = unified_qa_esnli_label_mapping[item[\"label\"]]\n",
    "        answer_string = f\"{answer_ynm} {explanation_sep} {abstr_expl}\" \n",
    "    elif io_format == \"squad_endswith_what\":\n",
    "        input_string = f\"explain nli question: What is this? context: {hypothesis} {premise}\"  \n",
    "        answer_string = f\"{answer} {explanation_sep} {abstr_expl}\"  \n",
    "    elif io_format == \"squad_nli_mix\": \n",
    "        input_string = f\"explain nli question: Is this entailment? context: hypothesis: {hypothesis} premise: {premise}\"  \n",
    "        answer_ynm = unified_qa_esnli_label_mapping[item[\"label\"]]\n",
    "        answer_string = f\"{answer_ynm} {explanation_sep} {abstr_expl}\"  \n",
    "    elif io_format == \"squad_nli_mix_endswith_what\":  \n",
    "        input_string = f\"explain nli question: What is this? context: hypothesis: {hypothesis} premise: {premise}\"  \n",
    "        answer_string = f\"{answer} {explanation_sep} {abstr_expl}\"   \n",
    "    elif io_format == 'unifiedqa_unifew':\n",
    "        hypothesis = hypothesis.lower().rstrip('.')\n",
    "        unified_qa_esnli_label_mapping_upper = {0: 'Yes', 1: 'Maybe', 2: 'No'}\n",
    "        answer = unified_qa_esnli_label_mapping_upper[item[\"label\"]]\n",
    "        input_string = f'explain {premise} Is {hypothesis}? \\\\n (A) Yes (B) Maybe (C) No'\n",
    "        answer_string = f\"{answer} {explanation_sep} {abstr_expl}\"  \n",
    "    elif io_format == 'unifiedqa_unifew_nli_mix':\n",
    "        premise = premise.lower().rstrip('.')\n",
    "        unified_qa_esnli_label_mapping_upper = {0: 'Yes', 1: 'Maybe', 2: 'No'}\n",
    "        input_string = f'explain hypothesis: {hypothesis} Is premise: {premise}? \\\\n (A) Yes (B) Maybe (C) No'\n",
    "        answer_string = f\"{answer} {explanation_sep} {abstr_expl}\"  \n",
    "    elif io_format == 'unifiedqa_ynm': \n",
    "        input_string = f'explain is this entailment? \\\\n {hypothesis.lower()} {premise.lower()}'  \n",
    "        answer = unified_qa_esnli_label_mapping[item[\"label\"]]\n",
    "        answer_string = f\"{answer} {explanation_sep} {abstr_expl.lower()}\"  \n",
    "    elif io_format == 'unifiedqa_snli_mix_ynm': \n",
    "        input_string = f'explain is this entailment? \\\\n hypothesis: {hypothesis.lower()} premise: {premise.lower()}' \n",
    "        answer = unified_qa_esnli_label_mapping[item[\"label\"]]\n",
    "        answer_string = f\"{answer} {explanation_sep} {abstr_expl.lower()}\"  \n",
    "    elif io_format == 'unifiedqa_snli_mix_ynm_with_choices': \n",
    "        input_string = f'explain is this entailment? \\\\n (A) yes (B) maybe (C) no \\\\n hypothesis: {hypothesis.lower()} premise: {premise.lower()}'  \n",
    "        answer = unified_qa_esnli_label_mapping[item[\"label\"]]\n",
    "        answer_string = f\"{answer} {explanation_sep} {abstr_expl.lower()}\"  \n",
    "    elif io_format == 'unifiedqa_what_v2': \n",
    "        input_string = f'explain what is this? \\\\n {hypothesis.lower()} {premise.lower()}'  \n",
    "        answer = wt5_esnli_label_mapping[item[\"label\"]]\n",
    "        answer_string = f\"{answer} {explanation_sep} {abstr_expl.lower()}\"  \n",
    "    elif io_format == 'unifiedqa_snli_mix_what_v2': \n",
    "        input_string = f'explain what is this? \\\\n hypothesis: {hypothesis.lower()} premise: {premise.lower()}'  \n",
    "        answer = wt5_esnli_label_mapping[item[\"label\"]]\n",
    "        answer_string = f\"{answer} {explanation_sep} {abstr_expl.lower()}\"  \n",
    "    elif io_format == 'unifiedqa_snli_mix_what_with_choices_v2': \n",
    "        input_string = f'explain what is this? \\\\n (A) entailment (B) neutral (C) contradiction \\\\n hypothesis: {hypothesis.lower()} premise: {premise.lower()}'  \n",
    "        answer = wt5_esnli_label_mapping[item[\"label\"]]\n",
    "        answer_string = f\"{answer} {explanation_sep} {abstr_expl.lower()}\"     \n",
    "    else:\n",
    "        raise ValueError(\"The IO format is not supported.\")\n",
    "\n",
    "    return input_string, answer_string\n",
    "\n",
    "\n",
    "def sbic_formatting(item, io_format, explanation_sep):\n",
    "    # We pre-processed the SBIC dataset such that we join multiple implied statements with the [SEP] token for dev/test instances \n",
    "    # Each annotation in the training split is a separate instance\n",
    "    post = item['post']\n",
    "    answer = unified_qa_sbic_label_mapping[item[\"offensiveYN\"]] if 'unified' in io_format else item[\"offensiveYN\"].replace(\"not offensive\", \"not_offensive\")\n",
    "    abstr_expl = item[\"targetStereotype\"]\n",
    "    \n",
    "\n",
    "    if io_format == 'cola':\n",
    "        input_string = f\"explain sbic sentence: {post}\"\n",
    "        answer_string = f\"{answer} {explanation_sep} {abstr_expl}\"  \n",
    "    elif io_format == 't5_fewshot_infilling':\n",
    "        input_string = f\"explain sbic sentence: {post} <extra_id_0> {explanation_sep} <extra_id_1>\"\n",
    "        answer_string = f\"<extra_id_0> {answer} <extra_id_1> {abstr_expl} <extra_id_2>\"\n",
    "    elif io_format == 't5_fewshot_infilling_bool':\n",
    "        answer_bool = 'True' if item[\"offensiveYN\"] == 'offensive' else 'False'\n",
    "        input_string = f\"explain sbic sentence: {post} It is <extra_id_0> that this is offensive {explanation_sep} <extra_id_1>\"\n",
    "        answer_string = f\"<extra_id_0> {answer} <extra_id_1> {abstr_expl} <extra_id_2>\"\n",
    "    elif io_format == 't5_fewshot_infilling_more_natural':\n",
    "        input_string = f\"explain sbic sentence: {post} This is <extra_id_0> {explanation_sep} <extra_id_1>\"\n",
    "        answer_string = f\"<extra_id_0> {answer} <extra_id_1> {abstr_expl} <extra_id_2>\"\n",
    "    elif io_format == 'squad_yn': \n",
    "        input_string = f\"explain sbic question: Is this offensive? context: {post}\" # explain sbic question: Is this offensive? context: It's only happened to you like two times.\n",
    "        answer_yn = unified_qa_sbic_label_mapping[item[\"offensiveYN\"]] \n",
    "        answer_string = f\"{answer_yn} {explanation_sep} {abstr_expl}\" #  No because this post does not imply anything offensive\n",
    "    elif io_format == 'squad_yn_with_tags': \n",
    "        input_string = f\"explain sbic question: Is this offensive? context: post: {post}\" # explain sbic question: Is this offensive? context: It's only happened to you like two times.\n",
    "        answer_yn = unified_qa_sbic_label_mapping[item[\"offensiveYN\"]] \n",
    "        answer_string = f\"{answer_yn} {explanation_sep} {abstr_expl}\" #  No because this post does not imply anything offensive\n",
    "    elif io_format == 'squad_what': \n",
    "        input_string = f\"explain sbic question: What is this? context: {post}\" # explain sbic question: This is what? context: It's only happened to you like two times.\n",
    "        answer = item[\"offensiveYN\"].replace(\"not offensive\", \"not_offensive\")        \n",
    "        answer_string = f\"{answer} {explanation_sep} {abstr_expl}\" # not_offensive because this post does not imply anything offensive    \n",
    "    elif io_format == 'squad_what_with_tags': \n",
    "        input_string = f\"explain sbic question: What is this? context: post: {post}\" # explain sbic question: This is what? context: It's only happened to you like two times.\n",
    "        answer = item[\"offensiveYN\"].replace(\"not offensive\", \"not_offensive\")        \n",
    "        answer_string = f\"{answer} {explanation_sep} {abstr_expl}\" # not_offensive because this post does not imply anything offensive    \n",
    "    elif io_format == 'unified_qa_yn':\n",
    "        input_string = f'explain is this offensive? \\\\n {post.lower()}'\n",
    "        answer_string = f\"{answer} {explanation_sep} {abstr_expl.lower()}\" \n",
    "    elif io_format == 'unified_qa_yn_with_tags':\n",
    "        input_string = f'explain is this offensive? \\\\n post: {post.lower()}'\n",
    "        answer_string = f\"{answer} {explanation_sep} {abstr_expl.lower()}\"  \n",
    "    elif io_format == 'unified_qa_yn_with_choices':\n",
    "        input_string = f'explain is this offensive? \\\\n (A) yes (B) no \\\\n {post.lower()}'\n",
    "        answer_string = f\"{answer} {explanation_sep} {abstr_expl.lower()}\"\n",
    "    elif io_format == 'unified_qa_yn_with_choices_and_tags':\n",
    "        input_string = f'explain is this offensive? \\\\n (A) yes (B) no \\\\n post: {post.lower()}'\n",
    "        answer_string = f\"{answer} {explanation_sep} {abstr_expl.lower()}\"  \n",
    "    elif io_format == 'unified_qa_what':\n",
    "        input_string = f'explain what is this? \\\\n {post.lower()}'\n",
    "        answer = item[\"offensiveYN\"].replace(\"not offensive\", \"not_offensive\")\n",
    "        answer_string = f\"{answer} {explanation_sep} {abstr_expl.lower()}\"  \n",
    "    elif io_format == 'unified_qa_what_with_tags':\n",
    "        input_string = f'explain what is this? \\\\n post: {post.lower()}'\n",
    "        answer = item[\"offensiveYN\"].replace(\"not offensive\", \"not_offensive\")\n",
    "        answer_string = f\"{answer} {explanation_sep} {abstr_expl.lower()}\"  \n",
    "    elif io_format == 'unified_qa_what_with_choices':\n",
    "        input_string = f'explain what is this? \\\\n (A) offensive (B) not_offensive \\\\n {post.lower()}'\n",
    "        answer = item[\"offensiveYN\"].replace(\"not offensive\", \"not_offensive\")\n",
    "        answer_string = f\"{answer} {explanation_sep} {abstr_expl.lower()}\"\n",
    "    elif io_format == 'unified_qa_what_with_choices_and_tags':\n",
    "        input_string = f'explain what is this? \\\\n (A) offensive (B) not_offensive \\\\n post: {post.lower()}'\n",
    "        answer = item[\"offensiveYN\"].replace(\"not offensive\", \"not_offensive\")\n",
    "        answer_string = f\"{answer} {explanation_sep} {abstr_expl.lower()}\"  \n",
    "    elif io_format == 'unifiedqa_unifew':\n",
    "        input_string = f\"Topic? \\\\n (A) offensive (B) not_offensive \\\\n {post}\"\n",
    "        answer = item[\"offensiveYN\"].replace(\"not offensive\", \"not_offensive\")\n",
    "        answer_string = f\"{answer} {explanation_sep} {abstr_expl}\"\n",
    "    else:\n",
    "        raise ValueError(\"The IO format is not supported. Choose `standard` or `masked_cause_generate`.\")\n",
    "\n",
    "    input_string = ' '.join(input_string.split())\n",
    "    answer_string = ' '.join(answer_string.split())\n",
    "    return input_string, answer_string\n",
    "\n",
    "def sensemaking_formatting(item, io_format, explanation_sep):\n",
    "    # TODO: explore whether removing periods makes difference? \n",
    "    sent0 = item['sent0']\n",
    "    sent1 = item['sent1']\n",
    "    nonsensical_sentence = str(int(item['label'])+1)\n",
    "    explanation = item['explanation'].lower()\n",
    "\n",
    "    if io_format == 'copa_with_question':\n",
    "        input_string = f\"explain sensemaking choice1: {sent0} choice2: {sent1} question: nonsensical\"\n",
    "        answer_string = f\"choice{nonsensical_sentence} {explanation_sep} {explanation}\"\n",
    "    elif io_format == 'copa_bool':  \n",
    "        answer_bool = str(bool(int(item['label']))) # True if choice2 is more nonsensical    \n",
    "        input_string = f\"explain sensemaking choice1: {sent0} choice2: {sent1} Less common is choice2\"\n",
    "        answer_string = f\"{answer_bool} {explanation_sep} {explanation}\"\n",
    "    elif io_format == 't5_fewshot_infilling':  \n",
    "        input_string = f\"explain sensemaking choice1: {sent0} choice2: {sent1} <extra_id_0> {explanation_sep} <extra_id_1>\"\n",
    "        answer_string = f\"<extra_id_0> choice{nonsensical_sentence} <extra_id_1> {explanation} <extra_id_2>\"\n",
    "    elif io_format == 't5_fewshot_infilling_bool':  \n",
    "        answer_bool = str(bool(int(item['label']))) # True if choice2 is more nonsensical    \n",
    "        input_string = f\"explain sensemaking choice1: {sent0} choice2: {sent1} It is <extra_id_0> that choice2 is less common {explanation_sep} <extra_id_1>\"\n",
    "        answer_string = f\"<extra_id_0> {answer_bool} <extra_id_1> {explanation} <extra_id_2>\"\n",
    "    elif io_format == \"squad_yn\": \n",
    "        input_string = f\"explain sensemaking question: Is choice2 more nonsensical? context: choice1: {sent0} choice2: {sent1}\" # explain sensemaking question: What is nonsensical, choice1 or choice2? context: choice1: All state flowers are the scarlet carnation. choice2: The New Jersey state flower is the scarlet carnation\n",
    "        answer = \"Yes\" if bool(int(item['label'])) else \"No\"\n",
    "        answer_string = f\"{answer} {explanation_sep} {explanation}\" #  choice1 because state flowers are unique to each state.  \n",
    "    elif io_format == \"squad_yn_no_tags\": \n",
    "        input_string = f\"explain sensemaking question: Is choice2 more nonsensical? context: {sent0} {sent1}\" # explain sensemaking question: What is nonsensical, choice1 or choice2? context: choice1: All state flowers are the scarlet carnation. choice2: The New Jersey state flower is the scarlet carnation\n",
    "        answer = \"Yes\" if bool(int(item['label'])) else \"No\"\n",
    "        answer_string = f\"{answer} {explanation_sep} {explanation}\" #  choice1 because state flowers are unique to each state.  \n",
    "    elif io_format == \"squad_what\": \n",
    "        input_string = f\"explain sensemaking question: What is more nonsensical? context: choice1: {sent0} choice2: {sent1}\" # explain sensemaking question: What is nonsensical, choice1 or choice2? context: choice1: All state flowers are the scarlet carnation. choice2: The New Jersey state flower is the scarlet carnation\n",
    "        answer_string = f\"choice{nonsensical_sentence} {explanation_sep} {explanation}\" #  choice1 because state flowers are unique to each state.  \n",
    "    elif io_format == \"squad_what_no_tags\": \n",
    "        input_string = f\"explain sensemaking question: What is more nonsensical? context: {sent0} {sent1}\" # explain sensemaking question: What is nonsensical, choice1 or choice2? context: choice1: All state flowers are the scarlet carnation. choice2: The New Jersey state flower is the scarlet carnation\n",
    "        answer_string = f\"choice{nonsensical_sentence} {explanation_sep} {explanation}\" #  choice1 because state flowers are unique to each state.  \n",
    "    elif io_format == \"record\": \n",
    "        input_string = f\"explain sensemaking query: What is more nonsensical? entities: choice1, choice2 passage: choice1: {sent0} choice2: {sent1}\" # explain sensemaking query: What is nonsensical? entities: choice1, choice2 passage: choice1: All state flowers are the scarlet carnation. choice2: The New Jersey state flower is the scarlet carnation.\n",
    "        answer_string = f\"choice{nonsensical_sentence} {explanation_sep} {explanation}\" # choice1 because state flowers are unique to each state.\n",
    "    elif io_format == 'unifiedqa_yn_with_choices':\n",
    "        answer = \"yes\" if bool(int(item['label'])) else \"no\"\n",
    "        input_string = f'explain is choice2 more nonsensical? \\\\n (A) yes (B) no \\\\n choice1: {sent0.lower()} choice2: {sent1.lower()}'\n",
    "        answer_string = f\"{answer} {explanation_sep} {explanation.lower()}\" \n",
    "    elif io_format == 'unifiedqa_yn':\n",
    "        answer = \"yes\" if bool(int(item['label'])) else \"no\"\n",
    "        input_string = f'explain is choice2 more nonsensical? \\\\n choice1: {sent0.lower()} choice2: {sent1.lower()}'\n",
    "        answer_string = f\"{answer} {explanation_sep} {explanation.lower()}\"  \n",
    "    elif io_format == 'unifiedqa_yn_no_tags':\n",
    "        answer = \"yes\" if bool(int(item['label'])) else \"no\"\n",
    "        input_string = f'explain is choice2 more nonsensical? \\\\n {sent0.lower()} {sent1.lower()}'\n",
    "        answer_string = f\"{answer} {explanation_sep} {explanation.lower()}\"  \n",
    "    elif io_format == 'unifiedqa_what_with_choices':\n",
    "        nonsensical_sentence = str(int(item['label'])+1)\n",
    "        input_string = f'explain what is more nonsensical? \\\\n (A) choice1 (B) choice2 \\\\n choice1: {sent0.lower()} choice2: {sent1.lower()}'\n",
    "        answer_string = f\"choice{nonsensical_sentence} {explanation_sep} {explanation.lower()}\"  # use \" BECAUSE \"\n",
    "    elif io_format == 'unifiedqa_what':\n",
    "        nonsensical_sentence = str(int(item['label'])+1)\n",
    "        input_string = f'explain what is more nonsensical? \\\\n choice1: {sent0.lower()} choice2: {sent1.lower()}'\n",
    "        answer_string = f\"choice{nonsensical_sentence} {explanation_sep} {explanation.lower()}\"  # use \" BECAUSE \"\n",
    "    elif io_format == 'unifiedqa_what_no_tags':\n",
    "        nonsensical_sentence = str(int(item['label'])+1)\n",
    "        input_string = f'explain what is more nonsensical? \\\\n {sent0.lower()} {sent1.lower()}'\n",
    "        answer_string = f\"choice{nonsensical_sentence} {explanation_sep} {explanation.lower()}\"  # use \" BECAUSE \"\n",
    "\n",
    "\n",
    "    input_string = ' '.join(input_string.split())\n",
    "    answer_string = ' '.join(answer_string.split())\n",
    "    return input_string, answer_string"
   ]
  },
  {
   "cell_type": "code",
   "execution_count": 4,
   "id": "dde6c7e1",
   "metadata": {},
   "outputs": [
    {
     "name": "stderr",
     "output_type": "stream",
     "text": [
      "PyTorch: setting up devices\n",
      "The default value for the training argument `--report_to` will change in v5 (from all installed integrations to none). In v5, you will need to use `--report_to all` to get the same behavior as now. You should start updating your code and make this info disappear :-).\n",
      "01/13/2023 01:41:04 - WARNING - __main__ -   Process rank: -1, device: cuda:0, n_gpu: 1, distributed training: False, 16-bits training: False\n",
      "01/13/2023 01:41:04 - INFO - __main__ -   Save path: ./cos_e_output_t5_large/011323_014104\n",
      "01/13/2023 01:41:04 - INFO - __main__ -   Git branch: dev\n",
      "01/13/2023 01:41:04 - INFO - __main__ -   Git hash: 1cbb5c3b4e53baf31cbafc20d9655c63f091f901\n"
     ]
    }
   ],
   "source": [
    "og_start_time = time.time()\n",
    "\n",
    "#parser = HfArgumentParser(\n",
    "#    (ModelArguments, DataTrainingArguments, TrainingArguments)\n",
    "#)\n",
    "parser = HfArgumentParser(\n",
    "    (ModelArguments, DataTrainingArguments, TrainingArguments)\n",
    ")\n",
    "\n",
    "model_args, data_args, training_args, unused_args = parser.parse_args_into_dataclasses(\n",
    "    [\"--model_type\", \"t5-3b\",\n",
    "     \"--tokenizer_name\", \"t5-3b\",\n",
    "     \"--task_name\", \"cos_e\", \n",
    "     \"--output_dir\", \"./cos_e_output_t5_large\", \n",
    "     \"--n_shots\", \"10\",\n",
    "     \"--do_train\", \"True\"], return_remaining_strings=True)\n",
    "if unused_args != []:\n",
    "    raise ValueError(f\"Received unused arguments: {unused_args}\")\n",
    "# make sure only one dataset split pick if manually specifying evaluation file\n",
    "\n",
    "if model_args.use_gpt3:\n",
    "    assert training_args.do_train\n",
    "    assert not training_args.do_eval\n",
    "    assert data_args.generations_filepath is None\n",
    "    if data_args.gpt3_max_eval_size is not None:\n",
    "        assert data_args.gpt3_max_eval_size <= data_args.fewshot_eval_size\n",
    "        assert data_args.gpt3_max_eval_size % 2 == 0\n",
    "        assert data_args.gpt3_max_eval_size % 3 == 0\n",
    "\n",
    "if data_args.generations_filepath is not None:\n",
    "    training_args.do_train = False\n",
    "    training_args.do_eval = False\n",
    "    if \"train\" in data_args.generations_filepath:\n",
    "        data_args.train_predict = True\n",
    "        data_args.test_predict = False\n",
    "        data_args.dev_predict = False\n",
    "    elif \"test\" in data_args.generations_filepath:\n",
    "        data_args.train_predict = False\n",
    "        data_args.test_predict = True\n",
    "        data_args.dev_predict = False\n",
    "    elif \"validation\" in data_args.generations_filepath:\n",
    "        data_args.train_predict = False\n",
    "        data_args.test_predict = False\n",
    "        data_args.dev_predict = True\n",
    "\n",
    "if not training_args.do_train and data_args.generations_filepath is None:\n",
    "    if not model_args.pretrained_model_file:\n",
    "        raise Exception(\n",
    "            \"if not training a model from scratch, must specify a trained model to load for evaluation\"\n",
    "        )\n",
    "\n",
    "if training_args.do_train:\n",
    "    # create a save directory and a logfile\n",
    "    training_args.output_dir = os.path.join(\n",
    "        training_args.output_dir, datetime.now().strftime(\"%m%d%y_%H%M%S\")\n",
    "    )\n",
    "    training_args.logging_dir = training_args.output_dir\n",
    "    assert not os.path.exists(training_args.output_dir)\n",
    "    os.makedirs(training_args.output_dir)\n",
    "\n",
    "    if (\n",
    "            os.path.exists(training_args.output_dir)\n",
    "            and os.listdir(training_args.output_dir)\n",
    "            and training_args.do_train\n",
    "            and not training_args.overwrite_output_dir\n",
    "    ):\n",
    "        raise ValueError(\n",
    "            f\"Output directory ({training_args.output_dir}) already exists and is not empty. Use --overwrite_output_dir to overcome.\"\n",
    "        )\n",
    "    handlers = [\n",
    "        logging.FileHandler(os.path.join(training_args.output_dir, \"logger.log\")),\n",
    "        logging.StreamHandler(),\n",
    "    ]\n",
    "else:\n",
    "    # don't overwrite existing logfile or create new directory\n",
    "    training_args.output_dir = model_args.pretrained_model_file\n",
    "    handlers = [logging.StreamHandler()]\n",
    "\n",
    "# Setup logging\n",
    "logging.basicConfig(\n",
    "    format=\"%(asctime)s - %(levelname)s - %(name)s -   %(message)s\",\n",
    "    datefmt=\"%m/%d/%Y %H:%M:%S\",\n",
    "    level=logging.INFO if training_args.local_rank in [-1, 0] else logging.WARN,\n",
    "    handlers=handlers,\n",
    ")\n",
    "logger.warning(\n",
    "    \"Process rank: %s, device: %s, n_gpu: %s, distributed training: %s, 16-bits training: %s\",\n",
    "    training_args.local_rank,\n",
    "    training_args.device,\n",
    "    training_args.n_gpu,\n",
    "    bool(training_args.local_rank != -1),\n",
    "    training_args.fp16,\n",
    ")\n",
    "logger.info(\"Save path: %s\" % training_args.output_dir)\n",
    "\n",
    "# get git hash and branch where deployed\n",
    "repo = git.Repo(search_parent_directories=True)\n",
    "git_hash = repo.head.object.hexsha\n",
    "git_branch = repo.active_branch.name\n",
    "logger.info(\"Git branch: %s\" % git_branch)\n",
    "logger.info(\"Git hash: %s\" % git_hash)\n",
    "\n",
    "model_class = \"t5\"\n",
    "assert data_args.task_name in {\"cos_e\", \"esnli\", \"sbic\", \"sensemaking\", \"ecqa\"}\n",
    "\n",
    "if training_args.do_train:\n",
    "    # write command and args to file\n",
    "    with open(\n",
    "            os.path.join(training_args.output_dir, \"commandline_args.txt\"), \"w\"\n",
    "    ) as f:\n",
    "        f.write(\"Git branch: \" + git_branch + \"\\n\")\n",
    "        f.write(\"Git hash: \" + git_hash + \"\\n\")\n",
    "        f.write(\"Command:\\n\")\n",
    "        f.write(\"\\n\".join(sys.argv[1:]))\n",
    "\n",
    "# Set seed\n",
    "set_seed(training_args.seed)\n",
    "set_other_seeds(training_args.seed)\n",
    "\n",
    "# Load pretrained model and tokenizer\n",
    "#\n",
    "# Distributed training:\n",
    "# The .from_pretrained methods guarantee that only one local process can concurrently\n",
    "# download model & vocab."
   ]
  },
  {
   "cell_type": "code",
   "execution_count": 5,
   "id": "684646b4",
   "metadata": {},
   "outputs": [
    {
     "data": {
      "text/plain": [
       "device(type='cuda', index=0)"
      ]
     },
     "execution_count": 5,
     "metadata": {},
     "output_type": "execute_result"
    }
   ],
   "source": [
    "training_args.set_device = \"cuda:0\"\n",
    "training_args.device"
   ]
  },
  {
   "cell_type": "code",
   "execution_count": 6,
   "id": "18a3172a",
   "metadata": {},
   "outputs": [
    {
     "name": "stderr",
     "output_type": "stream",
     "text": [
      "01/13/2023 01:41:04 - INFO - __main__ -   Loading pretrained tokenizer...\n",
      "loading file https://huggingface.co/t5-base/resolve/main/spiece.model from cache at /home/huangyongfeng/.cache/huggingface/transformers/684a47ca6257e4ca71f0037771464c5b323e945fbc58697d2fad8a7dd1a2f8ba.3b69006860e7b5d0a63ffdddc01ddcd6b7c318a6f4fd793596552c741734c62d\n",
      "loading file https://huggingface.co/t5-base/resolve/main/added_tokens.json from cache at None\n",
      "loading file https://huggingface.co/t5-base/resolve/main/special_tokens_map.json from cache at None\n",
      "loading file https://huggingface.co/t5-base/resolve/main/tokenizer_config.json from cache at None\n",
      "loading file https://huggingface.co/t5-base/resolve/main/tokenizer.json from cache at /home/huangyongfeng/.cache/huggingface/transformers/90de37880b5ff5ac7ab70ff0bd369f207e9b74133fa153c163d14c5bb0116207.8627f1bd5d270a9fd2e5a51c8bec3223896587cc3cfe13edeabb0992ab43c529\n",
      "loading configuration file https://huggingface.co/t5-base/resolve/main/config.json from cache at /home/huangyongfeng/.cache/huggingface/transformers/91e9fe874e06c44883b535d6c950b8b89d6eaa3298d8e7fb3b2c78039e9f8b7b.a085189636e38420df5e7bdf08ad1b86f1fe33c010079ca7f15437ff95f4fe2b\n",
      "Model config T5Config {\n",
      "  \"architectures\": [\n",
      "    \"T5ForConditionalGeneration\"\n",
      "  ],\n",
      "  \"d_ff\": 3072,\n",
      "  \"d_kv\": 64,\n",
      "  \"d_model\": 768,\n",
      "  \"decoder_start_token_id\": 0,\n",
      "  \"dropout_rate\": 0.1,\n",
      "  \"eos_token_id\": 1,\n",
      "  \"feed_forward_proj\": \"relu\",\n",
      "  \"gradient_checkpointing\": false,\n",
      "  \"initializer_factor\": 1.0,\n",
      "  \"is_encoder_decoder\": true,\n",
      "  \"layer_norm_epsilon\": 1e-06,\n",
      "  \"model_type\": \"t5\",\n",
      "  \"n_positions\": 512,\n",
      "  \"num_decoder_layers\": 12,\n",
      "  \"num_heads\": 12,\n",
      "  \"num_layers\": 12,\n",
      "  \"output_past\": true,\n",
      "  \"pad_token_id\": 0,\n",
      "  \"relative_attention_num_buckets\": 32,\n",
      "  \"task_specific_params\": {\n",
      "    \"summarization\": {\n",
      "      \"early_stopping\": true,\n",
      "      \"length_penalty\": 2.0,\n",
      "      \"max_length\": 200,\n",
      "      \"min_length\": 30,\n",
      "      \"no_repeat_ngram_size\": 3,\n",
      "      \"num_beams\": 4,\n",
      "      \"prefix\": \"summarize: \"\n",
      "    },\n",
      "    \"translation_en_to_de\": {\n",
      "      \"early_stopping\": true,\n",
      "      \"max_length\": 300,\n",
      "      \"num_beams\": 4,\n",
      "      \"prefix\": \"translate English to German: \"\n",
      "    },\n",
      "    \"translation_en_to_fr\": {\n",
      "      \"early_stopping\": true,\n",
      "      \"max_length\": 300,\n",
      "      \"num_beams\": 4,\n",
      "      \"prefix\": \"translate English to French: \"\n",
      "    },\n",
      "    \"translation_en_to_ro\": {\n",
      "      \"early_stopping\": true,\n",
      "      \"max_length\": 300,\n",
      "      \"num_beams\": 4,\n",
      "      \"prefix\": \"translate English to Romanian: \"\n",
      "    }\n",
      "  },\n",
      "  \"transformers_version\": \"4.9.2\",\n",
      "  \"use_cache\": true,\n",
      "  \"vocab_size\": 32128\n",
      "}\n",
      "\n",
      "loading configuration file https://huggingface.co/t5-base/resolve/main/config.json from cache at /home/huangyongfeng/.cache/huggingface/transformers/91e9fe874e06c44883b535d6c950b8b89d6eaa3298d8e7fb3b2c78039e9f8b7b.a085189636e38420df5e7bdf08ad1b86f1fe33c010079ca7f15437ff95f4fe2b\n",
      "Model config T5Config {\n",
      "  \"architectures\": [\n",
      "    \"T5ForConditionalGeneration\"\n",
      "  ],\n",
      "  \"d_ff\": 3072,\n",
      "  \"d_kv\": 64,\n",
      "  \"d_model\": 768,\n",
      "  \"decoder_start_token_id\": 0,\n",
      "  \"dropout_rate\": 0.1,\n",
      "  \"eos_token_id\": 1,\n",
      "  \"feed_forward_proj\": \"relu\",\n",
      "  \"gradient_checkpointing\": false,\n",
      "  \"initializer_factor\": 1.0,\n",
      "  \"is_encoder_decoder\": true,\n",
      "  \"layer_norm_epsilon\": 1e-06,\n",
      "  \"model_type\": \"t5\",\n",
      "  \"n_positions\": 512,\n",
      "  \"num_decoder_layers\": 12,\n",
      "  \"num_heads\": 12,\n",
      "  \"num_layers\": 12,\n",
      "  \"output_past\": true,\n",
      "  \"pad_token_id\": 0,\n",
      "  \"relative_attention_num_buckets\": 32,\n",
      "  \"task_specific_params\": {\n",
      "    \"summarization\": {\n",
      "      \"early_stopping\": true,\n",
      "      \"length_penalty\": 2.0,\n",
      "      \"max_length\": 200,\n",
      "      \"min_length\": 30,\n",
      "      \"no_repeat_ngram_size\": 3,\n",
      "      \"num_beams\": 4,\n",
      "      \"prefix\": \"summarize: \"\n",
      "    },\n",
      "    \"translation_en_to_de\": {\n",
      "      \"early_stopping\": true,\n",
      "      \"max_length\": 300,\n",
      "      \"num_beams\": 4,\n",
      "      \"prefix\": \"translate English to German: \"\n",
      "    },\n",
      "    \"translation_en_to_fr\": {\n",
      "      \"early_stopping\": true,\n",
      "      \"max_length\": 300,\n",
      "      \"num_beams\": 4,\n",
      "      \"prefix\": \"translate English to French: \"\n",
      "    },\n",
      "    \"translation_en_to_ro\": {\n",
      "      \"early_stopping\": true,\n",
      "      \"max_length\": 300,\n",
      "      \"num_beams\": 4,\n",
      "      \"prefix\": \"translate English to Romanian: \"\n",
      "    }\n",
      "  },\n",
      "  \"transformers_version\": \"4.9.2\",\n",
      "  \"use_cache\": true,\n",
      "  \"vocab_size\": 32128\n",
      "}\n",
      "\n",
      "loading weights file https://huggingface.co/t5-base/resolve/main/pytorch_model.bin from cache at /home/huangyongfeng/.cache/huggingface/transformers/ab4e948915b067f5cb6e5105f6f85044fd717b133f43240db67899a8fc7b29a2.26934c75adf19ceac3c268b721ba353356b7609c45f5627550326f275a2163b4\n",
      "All model checkpoint weights were used when initializing T5ForConditionalGeneration.\n",
      "\n",
      "All the weights of T5ForConditionalGeneration were initialized from the model checkpoint at t5-base.\n",
      "If your task is similar to the task the model of the checkpoint was trained on, you can already use T5ForConditionalGeneration for predictions without further training.\n"
     ]
    }
   ],
   "source": [
    "import logging\n",
    "logger = logging.getLogger(__name__)\n",
    "CONFIG_MAPPING = {\"t5\": T5Config}\n",
    "MODEL_MAPPING = {\"t5\": T5ForConditionalGeneration}\n",
    "TOKENIZER_MAPPING = {\"t5\": T5Tokenizer}\n",
    "model_class = \"t5\"\n",
    "tokenizer_name = TOKENIZER_MAPPING[model_class]\n",
    "logger.info(\"Loading pretrained tokenizer...\")\n",
    "model_args.tokenizer_name='t5-base'\n",
    "tokenizer = tokenizer_name.from_pretrained(model_args.tokenizer_name)#, cache_dir=model_args.cache_dir)\n",
    "\n",
    "model = T5ForConditionalGeneration.from_pretrained(\"t5-base\")"
   ]
  },
  {
   "cell_type": "code",
   "execution_count": 7,
   "id": "62eef1a8",
   "metadata": {},
   "outputs": [
    {
     "data": {
      "text/plain": [
       "DataTrainingArguments(task_name='cos_e', early_stopping_patience=10, overwrite_cache=False, train_predict=False, test_predict=False, dev_predict=False, version_name='v1.11', generations_filepath=None, n_shots=10, fewshot_eval_size=350, io_format='t5_fewshot_infilling_without_choices_use_refined_expl', explanation_sep='explanation', data_path=None, gpt3_max_eval_size=None)"
      ]
     },
     "execution_count": 7,
     "metadata": {},
     "output_type": "execute_result"
    }
   ],
   "source": [
    "data_splits = {'train': None, 'validation': None, 'test': None}\n",
    "original_data_splits = {'train': None, 'validation': None, 'test': None}  \n",
    "data_args.io_format=\"t5_fewshot_infilling_without_choices_use_refined_expl\"\n",
    "data_args"
   ]
  },
  {
   "cell_type": "code",
   "execution_count": 8,
   "id": "efc49c0c",
   "metadata": {},
   "outputs": [
    {
     "data": {
      "application/json": {
       "ascii": false,
       "bar_format": null,
       "colour": null,
       "elapsed": 0.015338897705078125,
       "initial": 0,
       "n": 0,
       "ncols": null,
       "nrows": 60,
       "postfix": null,
       "prefix": "",
       "rate": null,
       "total": 2,
       "unit": "it",
       "unit_divisor": 1000,
       "unit_scale": false
      },
      "application/vnd.jupyter.widget-view+json": {
       "model_id": "ba95831cf5bb4665b967197df5339345",
       "version_major": 2,
       "version_minor": 0
      },
      "text/plain": [
       "  0%|          | 0/2 [00:00<?, ?it/s]"
      ]
     },
     "metadata": {},
     "output_type": "display_data"
    },
    {
     "data": {
      "text/plain": [
       "dict_keys(['abstractive_explanation', 'choices', 'answer', 'id', 'question', 'extractive_explanation'])"
      ]
     },
     "execution_count": 8,
     "metadata": {},
     "output_type": "execute_result"
    }
   ],
   "source": [
    "dataset = datasets.load_dataset(data_args.task_name, data_args.version_name)\n",
    "train_ids_list=[x['id'] for x in dataset[\"train\"]]\n",
    "dataset['train'][0].keys()"
   ]
  },
  {
   "cell_type": "code",
   "execution_count": 9,
   "id": "294780bc",
   "metadata": {},
   "outputs": [
    {
     "data": {
      "application/json": {
       "ascii": false,
       "bar_format": null,
       "colour": null,
       "elapsed": 0.014308452606201172,
       "initial": 0,
       "n": 0,
       "ncols": null,
       "nrows": 60,
       "postfix": null,
       "prefix": "",
       "rate": null,
       "total": 1,
       "unit": "it",
       "unit_divisor": 1000,
       "unit_scale": false
      },
      "application/vnd.jupyter.widget-view+json": {
       "model_id": "ed8822edd57c401abac81b52eaaff0ab",
       "version_major": 2,
       "version_minor": 0
      },
      "text/plain": [
       "  0%|          | 0/1 [00:00<?, ?it/s]"
      ]
     },
     "metadata": {},
     "output_type": "display_data"
    },
    {
     "name": "stdout",
     "output_type": "stream",
     "text": [
      "[6723, 3269, 12, 6020, 7815, 0, 13, 7, 3556, 4587, 3166, 2607, 1999, 332, 8571, 2, 3520, 6, 1425, 2361, 3764, 7728, 8352, 1273, 5191, 496, 11, 8143, 6929, 4552, 4652, 7764, 6736, 401, 147, 8339, 3128, 5556, 8769, 4417, 8778, 7145, 1279, 6297, 7149, 5884, 10, 5747, 6273, 8, 9504, 8057, 1307, 2183, 1699, 88, 3228, 7178, 2140, 4048, 1041, 1, 3, 5868, 111, 7889, 5370, 8886, 2137, 6980, 9117, 1891, 7827, 1484, 14, 3668, 7090, 5, 7817, 6213, 4656, 5074, 7514, 5896, 4, 9, 7991, 58, 1887, 1598, 3994, 2212, 2274, 6830, 8826, 1604, 9008, 2013, 6521, 4793, 4338, 3923, 8091, 4904, 3938, 3900, 8156, 5806, 8363, 1787, 1496, 5753, 6351, 1104, 1222]\n"
     ]
    },
    {
     "data": {
      "text/plain": [
       "115"
      ]
     },
     "execution_count": 9,
     "metadata": {},
     "output_type": "execute_result"
    }
   ],
   "source": [
    "#rationale generation labeled data construction 115\n",
    "import pandas as pd\n",
    "scr_csqa_labeled_path=\"/cognitive_comp/huangyongfeng/evaluate_LM_with_rationalization/few_shot_explanations/data/handwritten_cose_v1.11_examples.csv\"\n",
    "scr_csqa_label_df=pd.read_csv(scr_csqa_labeled_path)\n",
    "scr_csqa_label_data=datasets.load_dataset('csv', data_files=scr_csqa_labeled_path)\n",
    "scr_csqa_label_ids_list=[x['id'] for x in scr_csqa_label_data['train']]\n",
    "scr_csqa_indexs_list=[train_ids_list.index(id_) for id_ in scr_csqa_label_ids_list]\n",
    "scr_csqa_label_our_explanations_list=[x['our_explanation'] for x in scr_csqa_label_data['train']]\n",
    "print(scr_csqa_indexs_list)\n",
    "data_splits={}\n",
    "data_splits['train']=dataset['train'].select(scr_csqa_indexs_list)\n",
    "\n",
    "refine_train_data=[]\n",
    "for kk, (ex,da) in enumerate(zip(scr_csqa_label_our_explanations_list, data_splits['train'])):\n",
    "#     print(da)\n",
    "    data_splits['train'][kk]['our_explanation']=ex\n",
    "    #print(type(data_splits['train'][kk]),data_splits['train'][kk].keys())\n",
    "    da['our_explanation']=ex\n",
    "    refine_train_data.append(da)\n",
    "\n",
    "len(data_splits['train'])"
   ]
  },
  {
   "cell_type": "code",
   "execution_count": 10,
   "id": "1d97f507",
   "metadata": {},
   "outputs": [
    {
     "data": {
      "application/json": {
       "ascii": false,
       "bar_format": null,
       "colour": null,
       "elapsed": 0.017403602600097656,
       "initial": 0,
       "n": 0,
       "ncols": null,
       "nrows": 60,
       "postfix": null,
       "prefix": "",
       "rate": null,
       "total": 1,
       "unit": "it",
       "unit_divisor": 1000,
       "unit_scale": false
      },
      "application/vnd.jupyter.widget-view+json": {
       "model_id": "a2e9bf16fe75458ba76a3f863ebe3a7c",
       "version_major": 2,
       "version_minor": 0
      },
      "text/plain": [
       "  0%|          | 0/1 [00:00<?, ?it/s]"
      ]
     },
     "metadata": {},
     "output_type": "display_data"
    },
    {
     "data": {
      "text/plain": [
       "{'id': '5b8a3081c3235d62bc77e2d15f3ad454',\n",
       " 'question': 'A town between two mountains is located in a what?',\n",
       " 'choices': ['valley', 'hospital', 'state', 'train station', 'michigan'],\n",
       " 'answer': 'valley',\n",
       " 'abstractive_explanation': 'valleys are always between two mountains',\n",
       " 'extractive_explanation': 'A town between two mountains',\n",
       " 'our_explanation': 'A valley is usually between two mountains, where it is located in the place where the mountains are closest to each other.'}"
      ]
     },
     "execution_count": 10,
     "metadata": {},
     "output_type": "execute_result"
    }
   ],
   "source": [
    "#rationale unlabeled data construction 991\n",
    "import pdb\n",
    "scr_csqa_unlabeled_test_file=\"/cognitive_comp/huangyongfeng/evaluate_LM_with_rationalization/few_shot_explanations/data/acceptability_annotations/commonsenseqa_test.csv\"\n",
    "fse_csqa_dev_dataset = datasets.load_dataset('csv', data_files=scr_csqa_unlabeled_test_file)\n",
    "scr_csqa_unlabeled_test_df=pd.read_csv(scr_csqa_unlabeled_test_file)\n",
    "fse_csqa_dev_data_dict={}\n",
    "for kk, da in enumerate(fse_csqa_dev_dataset['train']):\n",
    "    #pdb.set_trace()\n",
    "    id_=da['Input.id']\n",
    "    if da['Answer.acceptable']:\n",
    "        answer_accept=set(da['Answer.acceptable'].split('|'))\n",
    "    else:\n",
    "        answer_accept=set()\n",
    "    explanation_list=[da['Input.explanation_1'], \n",
    "                      da['Input.explanation_2'],\n",
    "                      da['Input.explanation_3'],\n",
    "                      da['Input.explanation_4'],\n",
    "                      da['Input.explanation_5']]\n",
    "    if id_ not in fse_csqa_dev_data_dict.keys():\n",
    "        fse_csqa_dev_data_dict[id_]={\"index\":kk,\"id\":id_,\n",
    "                                     \"question\":da[\"Input.question\"],\n",
    "                                     'answer':da['Input.gold_label'],\n",
    "                                     \"accept_set_list\":[answer_accept],\n",
    "                                     \"explanation_list\":explanation_list}\n",
    "        #[[kk, id_, answer_accept, explanation_list]]\n",
    "    else:\n",
    "        fse_csqa_dev_data_dict[id_][\"accept_set_list\"].append(answer_accept)\n",
    "    if len(fse_csqa_dev_data_dict[id_][\"accept_set_list\"])==3:\n",
    "        fse_csqa_dev_data_dict[id_][\"common_expl_list\"]=[]\n",
    "        common_accept_expl_sample=set.intersection(fse_csqa_dev_data_dict[id_][\"accept_set_list\"][0], \n",
    "                                                   fse_csqa_dev_data_dict[id_][\"accept_set_list\"][1], \n",
    "                                                   fse_csqa_dev_data_dict[id_][\"accept_set_list\"][2])\n",
    "        for idx in list(common_accept_expl_sample):\n",
    "            idx=int(idx)-1\n",
    "            fse_csqa_dev_data_dict[id_][\"common_expl_list\"].append(fse_csqa_dev_data_dict[id_][\"explanation_list\"][idx])\n",
    "        \n",
    "#discriminate 3/3 id\n",
    "id_accept_expl_list=[]\n",
    "our_accept_expl_list=[]\n",
    "id_unaccept_expl_list=[]\n",
    "for k,v in fse_csqa_dev_data_dict.items():\n",
    "    accept_set_list=v['accept_set_list']\n",
    "    assert len(accept_set_list)==3\n",
    "    #pdb.set_trace()\n",
    "    common_accept_expl_sample=set.intersection(accept_set_list[0], accept_set_list[1], accept_set_list[2])\n",
    "    #print(accept_set_list,common_accept_expl_sample)\n",
    "    #pdb.set_trace()\n",
    "    if common_accept_expl_sample:\n",
    "        id_accept_expl_list.append(k)\n",
    "        our_expl=\"\"\n",
    "        for idx in list(common_accept_expl_sample):\n",
    "            idx=int(idx)-1\n",
    "            if len(v['explanation_list'][idx]) > len(our_expl):\n",
    "                our_expl = v['explanation_list'][idx]\n",
    "                our_accept_expl_list.append(our_expl)\n",
    "    else:\n",
    "        id_unaccept_expl_list.append(k)\n",
    "\n",
    "dev_ids_list=[x['id'] for x in dataset['validation']]\n",
    "dev_accept_indexs_list=[dev_ids_list.index(id_) for id_ in id_accept_expl_list]\n",
    "dev_unaccpet_indexs_list=[dev_ids_list.index(id_) for id_ in id_unaccept_expl_list]\n",
    "dev_accept_data=dataset['validation'].select(dev_accept_indexs_list)\n",
    "dev_unaccept_data=dataset['validation'].select(dev_unaccpet_indexs_list)\n",
    "\n",
    "\n",
    "\n",
    "new_dev_accept_data=[]\n",
    "new_dev_unaccept_data=[]\n",
    "for oexp, da in zip(our_accept_expl_list,dev_accept_data):\n",
    "    da[\"our_explanation\"]=oexp\n",
    "    new_dev_accept_data.append(da)\n",
    "for da in dev_unaccept_data:\n",
    "    da[\"our_explanation\"]=oexp\n",
    "    new_dev_unaccept_data.append(da)\n",
    "        \n",
    "new_dev_accept_data[0]\n",
    "        "
   ]
  },
  {
   "cell_type": "code",
   "execution_count": 11,
   "id": "ffe13707",
   "metadata": {},
   "outputs": [
    {
     "data": {
      "text/plain": [
       "{'index': 0,\n",
       " 'id': '5b8a3081c3235d62bc77e2d15f3ad454',\n",
       " 'question': 'A town between two mountains is located in a what?',\n",
       " 'answer': 'valley',\n",
       " 'accept_set_list': [{'2', '4', '5'}, {'2', '4', '5'}, {'2', '4', '5'}],\n",
       " 'explanation_list': ['Because all of the mountains are to the left of this town, if one was looking on a map, one would be able to see the town in the valley.',\n",
       "  'A valley is usually between two mountains, where it is located in the place where the mountains are closest to each other.',\n",
       "  'Because rivers end in valleys; assuming the river is the one of interest, this sentence is likely referring to the geographical location of the town.',\n",
       "  'A town in between mountains presumably would be in a valley, in which case it is plausable that it would be surrounded by heights in every direction.',\n",
       "  'A valley is a low area between two mountains.'],\n",
       " 'common_expl_list': ['A valley is usually between two mountains, where it is located in the place where the mountains are closest to each other.',\n",
       "  'A valley is a low area between two mountains.',\n",
       "  'A town in between mountains presumably would be in a valley, in which case it is plausable that it would be surrounded by heights in every direction.']}"
      ]
     },
     "execution_count": 11,
     "metadata": {},
     "output_type": "execute_result"
    }
   ],
   "source": [
    "fse_csqa_dev_data_dict['5b8a3081c3235d62bc77e2d15f3ad454']\n"
   ]
  },
  {
   "cell_type": "code",
   "execution_count": 12,
   "id": "3161874f",
   "metadata": {},
   "outputs": [],
   "source": [
    "# for k,v in fse_csqa_dev_data_dict.items():\n",
    "#     #print(v.keys())\n",
    "#     print(\"******\")\n",
    "#     print(v['question'])\n",
    "#     print(v['answer'])\n",
    "#     print(v['common_expl_list'])\n",
    "#     print(\"******\")    \n",
    "# for k,v in fse_csqa_train_data_dict.items():\n",
    "#     #print(v.keys())\n",
    "#     print(\"******\")\n",
    "#     print(v['question'])\n",
    "#     print(v['answer'])\n",
    "#     print(v['common_expl_list'])\n",
    "#     print(\"******\") \n"
   ]
  },
  {
   "cell_type": "code",
   "execution_count": 13,
   "id": "3e0e8a2d",
   "metadata": {},
   "outputs": [
    {
     "data": {
      "application/json": {
       "ascii": false,
       "bar_format": null,
       "colour": null,
       "elapsed": 0.0208585262298584,
       "initial": 0,
       "n": 0,
       "ncols": null,
       "nrows": 60,
       "postfix": null,
       "prefix": "",
       "rate": null,
       "total": 1,
       "unit": "it",
       "unit_divisor": 1000,
       "unit_scale": false
      },
      "application/vnd.jupyter.widget-view+json": {
       "model_id": "b4d1fd7de8df4b0198f35666040840b9",
       "version_major": 2,
       "version_minor": 0
      },
      "text/plain": [
       "  0%|          | 0/1 [00:00<?, ?it/s]"
      ]
     },
     "metadata": {},
     "output_type": "display_data"
    },
    {
     "data": {
      "text/plain": [
       "{'id': 'ed53cbea1f21072fab892031b31192d1',\n",
       " 'question': 'Where can you likely buy many poems?',\n",
       " 'choices': ['book of poetry',\n",
       "  'literature book',\n",
       "  'book store',\n",
       "  'poetry book',\n",
       "  'bookshelf'],\n",
       " 'answer': 'book store',\n",
       " 'abstractive_explanation': 'book store book',\n",
       " 'extractive_explanation': 'buy many poems',\n",
       " 'our_explanation': 'A book store is a place where you can buy books, including poetry books.'}"
      ]
     },
     "execution_count": 13,
     "metadata": {},
     "output_type": "execute_result"
    }
   ],
   "source": [
    "#rationale unlabeled data construction 991\n",
    "import pdb\n",
    "scr_csqa_unlabeled_train_file=\"/cognitive_comp/huangyongfeng/evaluate_LM_with_rationalization/few_shot_explanations/data/acceptability_annotations/commonsenseqa_train.csv\"\n",
    "fse_csqa_train_dataset = datasets.load_dataset('csv', data_files=scr_csqa_unlabeled_train_file)\n",
    "scr_csqa_unlabeled_train_df=pd.read_csv(scr_csqa_unlabeled_train_file)\n",
    "fse_csqa_train_data_dict={}\n",
    "for kk, da in enumerate(fse_csqa_train_dataset['train']):\n",
    "    #pdb.set_trace()\n",
    "    id_=da['Input.id']\n",
    "    if da['Answer.acceptable']:\n",
    "        answer_accept=set(da['Answer.acceptable'].split('|'))\n",
    "    else:\n",
    "        answer_accept=set()\n",
    "    explanation_list=[da['Input.explanation_1'], \n",
    "                      da['Input.explanation_2'],\n",
    "                      da['Input.explanation_3'],\n",
    "                      da['Input.explanation_4'],\n",
    "                      da['Input.explanation_5']]\n",
    "    if id_ not in fse_csqa_train_data_dict.keys():\n",
    "        fse_csqa_train_data_dict[id_]={\"index\":kk,\"id\":id_,\n",
    "                                     \"question\":da[\"Input.question\"],\n",
    "                                     'answer':da['Input.gold_label'],\n",
    "                                     \"accept_set_list\":[answer_accept],\n",
    "                                     \"explanation_list\":explanation_list}\n",
    "        #[[kk, id_, answer_accept, explanation_list]]\n",
    "    else:\n",
    "        fse_csqa_train_data_dict[id_][\"accept_set_list\"].append(answer_accept)\n",
    "        \n",
    "    if len(fse_csqa_train_data_dict[id_][\"accept_set_list\"])==3:\n",
    "        fse_csqa_train_data_dict[id_][\"common_expl_list\"]=[]\n",
    "        common_accept_expl_sample=set.intersection(fse_csqa_train_data_dict[id_][\"accept_set_list\"][0], \n",
    "                                                   fse_csqa_train_data_dict[id_][\"accept_set_list\"][1], \n",
    "                                                   fse_csqa_train_data_dict[id_][\"accept_set_list\"][2])\n",
    "        for idx in list(common_accept_expl_sample):\n",
    "            idx=int(idx)-1\n",
    "            fse_csqa_train_data_dict[id_][\"common_expl_list\"].append(fse_csqa_train_data_dict[id_][\"explanation_list\"][idx])\n",
    "\n",
    "    \n",
    "#discriminate 3/3 id\n",
    "id_accept_expl_list=[]\n",
    "our_accept_expl_list=[]\n",
    "id_unaccept_expl_list=[]\n",
    "for k,v in fse_csqa_train_data_dict.items():\n",
    "    accept_set_list=v['accept_set_list']\n",
    "    assert len(accept_set_list)==3\n",
    "    #pdb.set_trace()\n",
    "    common_accept_expl_sample=set.intersection(accept_set_list[0], accept_set_list[1], accept_set_list[2])\n",
    "    #print(accept_set_list,common_accept_expl_sample)\n",
    "    #pdb.set_trace()\n",
    "    if common_accept_expl_sample:\n",
    "        id_accept_expl_list.append(k)\n",
    "        our_expl=\"\"\n",
    "        for idx in list(common_accept_expl_sample):\n",
    "            idx=int(idx)-1\n",
    "            if len(v['explanation_list'][idx]) > len(our_expl):\n",
    "                our_expl = v['explanation_list'][idx]\n",
    "                our_accept_expl_list.append(our_expl)\n",
    "    else:\n",
    "        id_unaccept_expl_list.append(k)\n",
    "\n",
    "train_ids_list=[x['id'] for x in dataset['train']]\n",
    "train_accept_indexs_list=[train_ids_list.index(id_) for id_ in id_accept_expl_list]\n",
    "train_unaccpet_indexs_list=[train_ids_list.index(id_) for id_ in id_unaccept_expl_list]\n",
    "train_accept_data=dataset['train'].select(train_accept_indexs_list)\n",
    "train_unaccept_data=dataset['train'].select(train_unaccpet_indexs_list)\n",
    "\n",
    "\n",
    "\n",
    "new_train_accept_data=[]\n",
    "new_train_unaccept_data=[]\n",
    "for oexp, da in zip(our_accept_expl_list,train_accept_data):\n",
    "    da[\"our_explanation\"]=oexp\n",
    "    new_train_accept_data.append(da)\n",
    "for da in train_unaccept_data:\n",
    "    da[\"our_explanation\"]=oexp\n",
    "    new_train_unaccept_data.append(da)\n",
    "        \n",
    "new_train_accept_data[0]"
   ]
  },
  {
   "cell_type": "code",
   "execution_count": 14,
   "id": "595b9453",
   "metadata": {},
   "outputs": [
    {
     "data": {
      "text/plain": [
       "(set(), set())"
      ]
     },
     "execution_count": 14,
     "metadata": {},
     "output_type": "execute_result"
    }
   ],
   "source": [
    "refine_train_data=refine_train_data\n",
    "refine_dev_data=new_train_accept_data + new_dev_accept_data\n",
    "refine_test_data=new_train_unaccept_data + new_dev_unaccept_data\n",
    "\n",
    "refine_train_ids_list=[x['id'] for x in refine_train_data]\n",
    "refine_dev_ids_list=[x['id'] for x in refine_dev_data]\n",
    "refine_test_ids_list=[x['id'] for x in refine_test_data]\n",
    "\n",
    "set(refine_train_ids_list).intersection(set(refine_dev_ids_list)),set(refine_train_ids_list).intersection(set(refine_test_ids_list))\n",
    "\n"
   ]
  },
  {
   "cell_type": "code",
   "execution_count": 15,
   "id": "48e4ec26",
   "metadata": {},
   "outputs": [
    {
     "data": {
      "text/plain": [
       "dict_keys(['id', 'question', 'choices', 'answer', 'abstractive_explanation', 'extractive_explanation', 'our_explanation'])"
      ]
     },
     "execution_count": 15,
     "metadata": {},
     "output_type": "execute_result"
    }
   ],
   "source": [
    "our_data_splits={}\n",
    "our_data_splits['train']=refine_train_data\n",
    "our_data_splits['dev']=refine_dev_data\n",
    "our_data_splits['test']=refine_test_data\n",
    "refine_train_data[0].keys()"
   ]
  },
  {
   "cell_type": "markdown",
   "id": "0fcdf34f",
   "metadata": {},
   "source": [
    "# shots number"
   ]
  },
  {
   "cell_type": "code",
   "execution_count": 16,
   "id": "bd43fe66",
   "metadata": {},
   "outputs": [],
   "source": [
    "id_list = [\n",
    " '71519c19654251cced50c5718fd527c1',\n",
    " '44195d210c81c8c550174d0edbd3ad5d',\n",
    " '5a5da37b685ec9c6f15228128ce30437',\n",
    " 'cabdfc174953b4bdb8bdcc89d6592c74',\n",
    " 'eac3a4080127e8924034651b57dfa289',\n",
    " 'c0013f31657294b9b5ad819123513ca7',\n",
    " '2681697be70cd5425899ed6deb84b18a',\n",
    " '47f60340b869552e795fa6782224f3d2',\n",
    " '7e8a6eac93147eb52d8151bab7b40003',\n",
    " 'f34267f498c8a78383e35057fbcfa2ce',\n",
    " 'f024f923d78e5c0a4c0c4baa3ddccf05',\n",
    " 'e148c710d0c26849cf1f15293481038b',\n",
    " 'bdf437d7498815f36c255f64a8e6571c',\n",
    " '2282e0c80be28aadadb79a822fec9dac',\n",
    " 'bdd05e96876342b4b5999709439a7f4e',\n",
    " '494b8316614fc64c5c27757aeaffce23_1',\n",
    " 'c4494b402264250dc70931613d482295',\n",
    " 'fcfbf207c5586294fdce33b645b613f1',\n",
    " '9c583bcbe68989a644433302545fb31e',\n",
    " '0e684d779d98e6eecda167c10af42bbb',\n",
    " 'ac0462d09b9fddd40c3c77aedf48a870',\n",
    " '1dbfb41e04a10bdbb085bfe667c0df99',\n",
    " 'cd0c0ef3b8ce0eb09ff26823f6059be6',\n",
    " 'e6b67184b99375d05d3f2887f684c684',\n",
    " 'ae9f6f1e17b3fdd3a86b494933809f45',\n",
    " 'f149604169936a30b7e4c8d599d604b5',\n",
    " 'd7c8377953e0175ef57d59f3a8e63a8e',\n",
    " '1837216ac7745121b82a6491b2318c09',\n",
    " 'b5fe238d45e55ca5d802b7823ad390ef',\n",
    " 'b2fbeb0b48bd5e575af0f7dc24cdd85d',\n",
    " '9bdfb101c487ac598f6e4686cf774703',\n",
    " '206c7116ee2246180fcc0c5a1d0e7205',\n",
    " '5cd7f44bbf730dfae5ef2a362d2e5149',\n",
    " '45d0ea781ffd49b07d6eae94d47a8945',\n",
    " '89afdea1d76272fda8e1538a7d3b7a3f',\n",
    " '38a514fe54108527e1d6e89d9812da93',\n",
    " 'ebf347934a3e90ea46d3d87726fb5d25',\n",
    " '90226a6ecd7308ae1e6220a15ae24bc6',\n",
    " '5cae8057e75e3adf5c338a43b3ba97fb',\n",
    " '388a363c49e1b0aca8eaf18ccdde0caf',\n",
    " '9ed3af82152dfcd7000bf4631b095f71',\n",
    " '2d5805d894bba224c5fe91e70b8c0f77',\n",
    " 'd5aa464a16b72c9b9f3091abd461e3ef',\n",
    " '381b11c54be4cc432a95053ca34cbf6b',\n",
    " '807a3a2dabdd50ed0c76052fd2612632',\n",
    " '5172041c750d22e9a5081cc024de0fa6',\n",
    " 'd32a45ab3b751110d0578a78e54c0e64',\n",
    " '28ca5cbe27774746c34f6ebe84fc6d0c']\n",
    "\n",
    "chatGPT_rationales = [\n",
    "    \"A cup is a common vessel used for holding and drinking liquids, such as water, coffee, or tea. When you want to get yourself a drink, you might typically get a cup from a cabinet or other storage area in order to hold the drink. A cup is a convenient and practical choice for getting a drink because it is easy to hold and use, and it can hold a reasonable amount of liquid. There are many different types of cups available, including ceramic, glass, plastic, and metal cups, each with their own unique features and benefits. Whether you are at home, at work, or out in public, a cup is a handy item to have on hand when you need to quench your thirst.\",\n",
    "    \"A front yard is the lawn that is typically located in front of a house, near the street. The front yard is the part of the property that is visible from the street and is often used for decorative purposes, such as landscaping or gardening. Many people take pride in their front yards and may spend time and resources maintaining and improving them. The front yard is often the first thing that visitors see when they arrive at a house, and it can make a strong impression on them. In contrast, the back yard is typically located behind the house and is often used for more practical purposes, such as outdoor recreation or gardening.\",\n",
    "    \"A swimming pool is a recreational water feature that is typically used for swimming and other aquatic activities. While shallow water, such as that found in a kiddie pool or a shallow end of a pool, can be enjoyable for some people, it may not be sufficient for many summer activities. A swimming pool that is deep enough for diving and other activities is more likely to provide more opportunities for summer fun. In addition, a swimming pool that is clean and chlorinated is more likely to be safe and enjoyable for swimming, as it will be free of contaminants and bacteria that can cause illness.\",\n",
    "    \"In most places, it is illegal for people under the age of 21 to purchase or consume alcohol. This is because alcohol can have negative effects on the developing brain and body of young people. It can also contribute to risky behaviors and accidents. Therefore, many governments have set a minimum age for alcohol consumption and purchase to help protect the health and safety of young people. If someone is under the age of 21 and attempts to purchase alcohol, they may be denied the sale or face legal consequences. It is important for young people to understand and adhere to the laws and regulations regarding the purchase and consumption of alcohol in their area.\",\n",
    "    \"When someone shaves, they typically use a razor to remove hair from their face or body. The process of shaving can leave a lot of hair in the sink, as the hair is trimmed off and falls into the sink as it is being shaved. It is common for people to shave in the bathroom, where a sink is typically located. The sink provides a convenient place to rinse the razor and wash off any excess hair or shaving cream. It is important to clean the sink after shaving to remove any hair and prevent clogs in the drain.\",\n",
    "    \"A hamburger is a type of sandwich that consists of a cooked patty of ground meat, typically beef, placed between two slices of bread or a bun. Hamburgers are often served with various toppings, such as lettuce, tomato, onion, cheese, and condiments like ketchup and mustard. However, if someone is suffering from great hunger, they may not care about the toppings and just want to eat the hamburger itself. In this case, the person may be more focused on satisfying their hunger and getting nourishment rather than worrying about additional ingredients or flavors.\",\n",
    "    \"If a person notices popcorn and cotton candy on the grass, they are likely at fairgrounds. Fairgrounds are outdoor areas that are used for hosting fairs and other events, such as carnivals, festivals, and exhibitions. These events often feature food stalls and vendors that sell a variety of treats, including popcorn and cotton candy. Popcorn and cotton candy are both popular carnival foods that are often sold at fairs and other events. The presence of these foods on the ground at fairgrounds suggests that a fair or similar event is taking place there.\",\n",
    "    \"When snow on a mountain becomes heavy, it can trigger an avalanche. An avalanche is a rapid flow of snow down a slope, often triggered by the weight of the snow or external factors such as a change in temperature. Avalanches can be dangerous and destructive, as they can bury and sweep away anything in their path, including people, buildings, and vehicles. Avalanches can occur on any slope with a steep enough incline and a sufficient amount of snow. They are most common on mountains, but they can also occur in other snowy areas, such as forests or valleys. It is important for people to be aware of the risk of avalanches and to take precautions when traveling in areas prone to avalanches.\",\n",
    "    \"A police officer typically reports their work through the use of case reports or incident reports. These reports are written documents that detail the events of a specific case or incident that the officer has worked on. Case reports or incident reports typically include information such as the date and time of the incident, the location, the people involved, and the actions taken by the officer. They may also include witness statements, evidence collected, and any other relevant details. Case reports or incident reports are used by police officers to document their work and provide a record of the incidents they have dealt with. They are also used by supervisors and other authorities to review and evaluate the performance of the officer and the effectiveness of their actions.\",\n",
    "    \"Teachers play many roles in the lives of their students, including mentor, counselor, and role model. However, they get the most out of their job by simply teaching children. Teaching children is the primary responsibility of a teacher, and it is what they are trained and paid to do. Teaching involves imparting knowledge, skills, and values to students, and helping them to develop the skills and habits they need to succeed in life. Teachers have the opportunity to make a positive impact on the lives of their students by providing them with a strong foundation in academic subjects and helping them to become curious, engaged learners. Teachers often derive a great deal of satisfaction from helping their students to achieve their potential and succeed in their studies.\",\n",
    "    \"A person might go to get counseling for a variety of reasons. One reason is to better understand themselves. Counseling can provide a safe and supportive environment for individuals to explore their thoughts, feelings, and behaviors, and to gain insight into why they act and feel the way they do. Counseling can also help a person to identify and work through any underlying issues or challenges that may be causing them distress or hindering their personal growth. Through counseling, a person can learn more about themselves and how to navigate their emotions and relationships more effectively. Counseling can be particularly helpful for individuals who are struggling with mental health issues, relationship problems, or other personal challenges.\",\n",
    "    \"If the kids wanted to cool off, they might go swimming as a way to refresh and beat the heat. Swimming is a fun and enjoyable activity that can provide relief from hot weather and help to cool the body. Swimming can also provide a great workout and has numerous health benefits, such as improving cardiovascular fitness and flexibility. There are many different places where kids can go swimming, such as pools, lakes, rivers, or the ocean. No matter where they go, kids can have fun and cool off while enjoying the water.\",\n",
    "    \"When remembering a tragedy in the past, many people may feel depressed. Depression is a common emotional reaction to experiencing a traumatic or stressful event, such as a tragedy. Depression is a mental health disorder characterized by persistent feelings of sadness, hopelessness, and low energy. It can also cause physical symptoms such as changes in appetite and sleep patterns, fatigue, and difficulty concentrating. Remembering a tragedy can be emotionally difficult and may trigger feelings of sadness, grief, and guilt. It is important for people who are struggling with depression to seek support and treatment to help manage their symptoms and improve their mental health.\",\n",
    "    \"Death Valley is a national park located in the Mojave Desert, in the state of California, United States. It is situated on the North American continent. The North American continent is one of the seven continents of the world and is located in the western hemisphere. It is the third largest continent in terms of land area, after Asia and Africa, and is home to a diverse range of cultures, languages, and environments. Death Valley is known for its extreme desert climate and is the lowest, hottest, and driest place in North America. It is a popular destination for tourists, who come to see its unique geological features, such as sand dunes, salt flats, and canyons.\",\n",
    "    \"When in a serious relationship, understanding better requires effort. Relationships require effort and work to maintain and grow. In order to understand your partner better, you need to be willing to put in the time and effort to communicate with them, listen to their perspectives, and try to see things from their point of view. This may involve asking questions, expressing your own feelings and needs, and being open to feedback and compromise. Understanding your partner better can help to strengthen the bond between you and improve the quality of your relationship. It is important to remember that relationships are dynamic and evolving, and that ongoing communication and effort are necessary to maintain a healthy and fulfilling relationship.\",\n",
    "    \"Cats are able to make a variety of vocalizations, including meows, purrs, and growls, as a way of communicating with humans and other animals. Cats use these vocalizations to convey a range of emotions and needs, such as hunger, happiness, or discomfort. Meowing is a common vocalization that cats use to communicate with humans. Cats may meow when they want attention, food, or to be let outside. Cats may also meow when they are feeling anxious or stressed. Although cats cannot talk in the same way that humans do, they are skilled at using their voices to communicate with their owners and other animals.\",\n",
    "    \"If you need a vessel that is similar to a battleship but faster, you might consider using a corvette. A corvette is a small, fast warship that is typically used for convoy escort, patrol, and other shallow water duties. Corvettes are generally smaller and less heavily armed than battleships, but they are more agile and have a higher speed. They are typically equipped with a variety of weapons, including guns, missiles, and torpedoes, and are used for defending against enemy ships and aircraft. Corvettes are often used for coastal defense, as well as for patrolling and enforcing maritime laws. They are capable of operating in a variety of environments, including open ocean and littoral (nearshore) waters.\",\n",
    "    \"Water in the sky comes from rain clouds. Rain clouds are clouds that form when moist air rises and cools, forming tiny water droplets that condense around particles in the air. As the droplets grow, they eventually become heavy enough to fall from the cloud as rain. Rain clouds are typically gray or white in color and are often accompanied by other types of clouds, such as cumulus or stratocumulus clouds. Rain clouds can form in a variety of ways, such as when warm, moist air from the ground rises and cools, or when moist air from the ocean is carried inland by the wind. Rain clouds can be found in many parts of the world and are a common source of precipitation, especially during the warmer months.\",\n",
    "    \"If John rented a hotel room while on a business trip and it was a company-sponsored event, it is possible that the hotel was a resort. Resorts are hotels or vacation properties that offer a variety of amenities and activities for guests, such as swimming pools, golf courses, spas, and restaurants. They are often located in scenic or recreational areas and are designed to provide a relaxing and enjoyable experience for guests. Many resorts offer conference and meeting facilities and are popular destinations for business events and retreats. If John's company sponsored the business trip and provided the hotel accommodations, it is likely that they chose a resort with the amenities and facilities needed to support the event.\",\n",
    "    \"An expressway might leave the United States and go to Canada. The United States and Canada are neighboring countries that share a border, and there are several expressways that cross the border between the two countries. Expressways are high-speed, limited-access roads that are designed for fast and efficient travel. They typically have multiple lanes and may include features such as grade separations, interchanges, and controlled access points. Expressways are used for long-distance travel and are often the main routes connecting major cities and regions. If an expressway leaves the United States, it is likely that it is heading towards Canada, which is located to the north of the United States.\",\n",
    "    \"If you were walking on a sidewalk near a small corner shop run by John, you would look for it on the street corner. A corner shop is a small retail store that is typically located at the intersection of two streets. It is often a convenience store or a neighborhood shop that sells a variety of goods, such as groceries, household items, and other supplies. Corner shops are often located in busy urban areas, where they are easily accessible to pedestrians and motorists. If you were walking on a sidewalk near a corner shop, you would look for it at the intersection of the street where you are walking and another street. The shop is likely to be located in a building on the corner, with windows and doors facing the street.\",\n",
    "    \"One way that a company can efficiently sell things to their customers is through mail order. Mail order is a method of selling goods or services by advertising them in a catalog or other publication and allowing customers to place orders by mail, telephone, or online. Mail order is a convenient and efficient way for companies to reach a wide customer base, as it allows them to sell products to customers who may not be located near their physical store or who may not have the time or inclination to shop in person. Mail order companies typically have a centralized warehouse or distribution center where orders are processed and shipped to customers. They may also offer options such as easy returns and exchanges, as well as customer service support to assist with any questions or issues that customers may have.\",\n",
    "    \"If he enjoyed the factory work and liked the idea that he did it for sale, it is likely that he enjoyed producing goods. Factory work typically involves the production of goods, such as products or materials, using machines, tools, and other equipment. Factory workers are responsible for operating and maintaining the equipment and ensuring that the goods being produced meet quality standards. The goods produced in a factory may be sold directly to consumers or to other businesses, and may be used for a variety of purposes, such as manufacturing, construction, or distribution. If a person enjoys factory work, they may find satisfaction in the idea that they are contributing to the production of goods that will be sold and used by others.\",\n",
    "    \"If returning to work was easy for Dan after his treatment and he was completely painless, it is likely that he had undergone some form of medical treatment or therapy to address a health issue or injury. Painless indicates that Dan was no longer experiencing pain or discomfort, which may have been a result of the treatment or therapy he received. It is not clear from the information provided what specific health issue or injury Dan was dealing with, or what treatment or therapy he received. However, it is possible that Dan was able to return to work more easily after his treatment because he was feeling better and was no longer experiencing any pain or discomfort.\",\n",
    "    \"If index cards were on display at the museum, it is likely that the museum was a library. Libraries are institutions that provide access to a wide range of resources, including books, periodicals, and other printed materials, as well as digital resources such as e-books, databases, and online research tools. Libraries often have exhibits and displays of various types of materials, including rare or unique items, and may have special collections or archives that are of particular interest to researchers or historians. Index cards are small, rectangular pieces of paper that are used for organizing information, such as names, dates, or research notes. They may be used in a variety of settings, including libraries, offices, and schools. If index cards were on display at the museum, it is possible that they were part of a historical exhibit or collection related to the history of libraries or research.\",\n",
    "    \"If she was a human in America who wanted to live well, it is likely that the given for her situation was the need for money. In general, money is an important factor in enabling people to live well and meet their basic needs and desires. Money allows people to purchase the goods and services that they need to sustain themselves and their families, such as food, clothing, housing, and healthcare. It also enables people to pursue their interests and hobbies, travel, and engage in various forms of leisure and entertainment. In America, and in many other countries around the world, the cost of living can be high, and people often need to earn and save money in order to achieve a desired standard of living. As such, the need for money is a given for many people in order to live well.\",\n",
    "    \"A place that could have one back garden is a house. A garden is a piece of land that is used for growing plants, flowers, vegetables, or other types of vegetation. Gardens can be found in a variety of settings, including residential properties, public parks, and commercial properties. A house is a building that is used as a dwelling for one or more people, and it typically includes living spaces, such as bedrooms, bathrooms, and a kitchen, as well as outdoor areas, such as a front yard, side yard, and back yard. A back yard is a private outdoor space that is typically located behind a house and is often used for recreational or leisure activities, such as gardening, grilling, or playing games. If a house has a back garden, it is likely that the garden is located in the back yard.\",\n",
    "    \"People gather at a football stadium to see large men in pads play a game where they run and smash into each other. Football is a popular sport that is played on a rectangular field by two teams of eleven players. The game involves running, passing, and tackling, and players wear pads and other protective gear to reduce the risk of injury. Football is a physical and intense sport, and players often collide with each other at high speeds. Football stadiums are large, open-air facilities that are designed to host football games and other sporting events. They typically have a grass or artificial turf field, seating for spectators, and a variety of amenities, such as concessions stands, restrooms, and VIP areas. Football stadiums are popular places for people to gather and watch football games, and they can be found in cities and towns throughout the world.\",\n",
    "    \"One place where someone can get a flute is a musical instrument store. A musical instrument store is a retail establishment that specializes in selling musical instruments and related accessories. They may carry a wide range of instruments, including brass instruments, woodwind instruments, string instruments, percussion instruments, and keyboards. Flutes are woodwind instruments that are played by blowing air into a narrow opening and producing sound by vibrating the lips against a metal or wooden reed. They are popular instruments that are used in a variety of musical styles, including classical, jazz, and folk music. If someone is looking to purchase a flute, they may be able to find a selection of flutes at a musical instrument store. In addition to flutes, musical instrument stores may also offer a variety of other instruments, as well as sheet music, instructional materials, and accessories such as cases, stands, and cleaning supplies.\",\n",
    "    \"It is not clear what someone who has a greed for energy would do. The word greed typically refers to an excessive or insatiable desire for wealth, power, or material possessions. It is not clear how this concept would relate to energy or how it might influence someone's actions. It is possible that someone who has a lot of energy or who is very active might have a high appetite for food and might seek out sources of fuel or nutrition to sustain their energy levels. In this case, they might buy food as a way to obtain the energy they need. However, it is not accurate to say that someone who has a greed for energy would necessarily do this. It is important to note that the concept of greed is generally considered to be negative, as it suggests an unhealthy or unsustainable desire for something.\",\n",
    "    \"A forklift is a type of industrial vehicle that is used for moving and lifting heavy loads, such as pallets, crates, and boxes. Forklifts are equipped with a hydraulic lift mechanism and a set of prongs or forks that can be used to lift and transport loads. They are commonly used in warehouses and other distribution centers to move and stack materials, such as boxes, onto shelves or other storage areas. If you were using a forklift to stack boxes onto shelves, it is likely that you were in a warehouse or a similar facility. Warehouses are large, commercial buildings that are used for storing and distributing goods. They often have high ceilings, wide aisles, and multiple levels, and they may be equipped with a variety of material handling equipment, such as forklifts, conveyor belts, and cranes, to facilitate the movement and storage of goods.\",\n",
    "    \"You are likely to receive mouthwash in a little paper cup at a dentist's office. Dentist's offices are healthcare facilities that are staffed by dentists and other dental professionals, and they are used for the diagnosis and treatment of dental problems and the maintenance of oral health. One common practice at a dentist's office is to rinse the mouth with mouthwash, which is a liquid that is used to freshen breath, kill bacteria, and reduce the risk of gum disease and other oral health issues. Mouthwash is typically used after brushing and flossing to help remove any remaining food particles or plaque from the mouth. It may be dispensed in a little paper cup, which can be used to rinse the mouth and then disposed of after use.\",\n",
    "    \"A doctor's office can help you with an illness. A doctor's office is a healthcare facility that is staffed by medical doctors and other healthcare professionals, and it is used for the diagnosis and treatment of medical conditions and the maintenance of overall health. If you are experiencing an illness, such as a cold, flu, or more serious health issue, you may visit a doctor's office to seek medical care and treatment. At a doctor's office, you may receive a physical examination, diagnostic tests, and other forms of medical treatment, depending on the nature of your illness and your specific needs. Doctors are trained to diagnose and treat a wide range of medical conditions, and they can provide you with the care and support you need to recover from your illness and get back to good health.\",\n",
    "    \"A bug looking for wildflowers and no human interruption might go to a meadow. A meadow is a grassland area that is characterized by its open, grassy landscape and the presence of wildflowers and other types of vegetation. Meadows can be found in a variety of settings, including rural areas, forests, and parkland, and they are often home to a variety of animal and plant species. Because meadows are relatively undisturbed by human activity, they can be a good place for a bug to find wildflowers and other types of plants without interference from humans. Meadows are often considered to be peaceful, serene places, and they may be attractive to a bug that is seeking a quiet, natural environment in which to explore and forage.\",\n",
    "    \"If a bride and groom are taking care of proposals, the likely ceremony is a marriage. A marriage is a formal union between two people that is recognized by law and typically involves a public ceremony and the exchange of vows. A marriage proposal is a request for someone to marry another person, and it is typically made by one partner to the other. The process of planning a marriage often involves taking care of a variety of details and arrangements, such as choosing a venue, selecting a date, inviting guests, and organizing the ceremony and reception. If a bride and groom are taking care of proposals, it is likely that they are in the process of planning their marriage and preparing for the wedding ceremony.\",\n",
    "    \"You could put some olives in a jar to prevent them from getting nearby food wet. A jar is a container that is typically made of glass or ceramic and has a wide mouth and a secure, tight-fitting lid. Jars are often used for storing food items, such as olives, pickles, jams, and other types of preserved or dried goods. Because they have a sealed lid, jars can help to keep food fresh and prevent it from coming into contact with air or other substances that might spoil or contaminate it. If you want to prevent olives from getting nearby food wet, you could put them in a jar and close the lid to create an airtight seal. This would help to keep the olives separate from other foods and prevent them from coming into contact with moisture or other liquids.\",\n",
    "    \"If the graveyard was zoned by the pastor, it is likely that it was located on church property. Church property refers to land or buildings that are owned by a church or religious organization. This may include the main church building, as well as other structures such as a rectory, school, or community center. Church property may also include a graveyard or cemetery, which is a place where people are buried after they die. Pastors, who are ordained leaders in a church, often play a central role in the management and oversight of church property, and they may be responsible for zoning or designating areas within the property for specific purposes, such as a graveyard or a garden. If the pastor has zoned the graveyard, it is likely that it is located on church property and is being used as a place for burial by members of the church or community.\",\n",
    "    \"If a family wanted to live with carpeting, they may have ended up putting it in their houses. Houses are structures that are designed and built to be used as homes, and they typically have a number of rooms that are used for different purposes, such as sleeping, cooking, eating, and relaxing. Carpeting is a type of floor covering that is made of soft, flexible materials, such as wool, nylon, or polypropylene, and it is often used in houses to provide warmth, comfort, and insulation. If a family wanted to live with carpeting, they may have chosen to install carpeting in some or all of the rooms in their houses, in order to create a warm and cozy atmosphere and to improve the overall comfort and livability of their homes.\",\n",
    "    \"If a boss likes an employee's ambition, the employee may be put in charge of a project. A project is a specific task or set of tasks that is undertaken in order to achieve a specific goal or objective. Projects may be large or small, complex or simple, and they may involve a wide range of activities, such as research, design, development, testing, and implementation. If an employee is ambitious and demonstrates a strong desire to succeed and make a positive contribution to their organization, their boss may choose to put them in charge of a project, in order to give them the opportunity to demonstrate their skills and abilities and to take on more responsibility. Being put in charge of a project can be a challenging and rewarding experience, and it may provide an employee with the chance to learn new things, develop their skills, and make a meaningful contribution to their organization.\",\n",
    "    \"A county highway can be viewed as a line on a map. A map is a graphic representation of an area or region that shows the locations of various features, such as roads, rivers, mountains, and cities. Maps are often used to help people navigate and find their way around unfamiliar places, and they can be very useful for understanding the layout and geography of an area. County highways are roads that are maintained and operated by a county or local government, and they are typically used for local travel and transportation within a county or region. On a map, a county highway may be represented as a line, with a specific color or symbol used to indicate its location and route. By viewing a county highway as a line on a map, it is possible to get a sense of the route and layout of the road, and to use the map to plan a journey or navigate to a specific destination.\",\n",
    "    \"After going for a run, someone may feel tired. Running is a form of physical activity that involves moving quickly and continuously on foot, typically by running or jogging. It is a popular form of exercise that can help to improve cardiovascular fitness, build endurance, and strengthen the muscles of the legs and lower body. However, running can also be physically demanding, and it requires a certain level of fitness and stamina to be able to sustain the activity for an extended period of time. As a result, it is common for people to feel tired after going for a run, especially if they are not used to the activity or if they have pushed themselves to run for a longer distance or at a faster pace than usual. Tiredness after a run may be accompanied by other physical sensations, such as muscle fatigue, thirst, or a sense of accomplishment.\",\n",
    "    \"If a car was going from Florida to Ohio, it was heading north. Florida is a state in the southeastern region of the United States, and Ohio is a state in the midwestern region of the country. When traveling from Florida to Ohio, a person would need to go north in order to reach their destination. North is a direction that is opposite to south on a map or compass, and it is typically associated with higher latitude, colder climates, and longer nights. When traveling north, a person may encounter different landscapes, weather patterns, and cultural experiences than they would when traveling south, depending on the specific route and the distance traveled. By heading north from Florida to Ohio, a person would be leaving behind the warm, tropical climate of Florida and entering into a more temperate, mid-latitude region with cooler temperatures and a more diverse range of landscapes and ecosystems.\",\n",
    "    \"During a typical week, a teacher is likely to spend most of their time working in school. A teacher is a person who is trained and qualified to teach students in a school or educational setting, and their primary job is to provide instruction and guidance to help students learn and develop their skills and knowledge. Teachers may work in a variety of settings, including primary schools, secondary schools, and universities, and they may teach a wide range of subjects, including math, science, English, history, and the arts. In order to fulfill their duties as a teacher, a person is likely to spend most of their time working in a school or educational setting, where they will be responsible for preparing and delivering lessons, grading assignments, communicating with students and parents, and performing other tasks related to their job. Teachers typically work on a schedule that follows the school year, and they may work full-time or part-time, depending on their specific circumstances and the needs of their students.\",\n",
    "    \"In a predicament, an animal might choose to fight for its life as an alternative to fleeing. Predicament is a term that refers to a difficult or challenging situation, typically one that involves a choice or decision that needs to be made. When an animal finds itself in a predicament, it may have to decide how to respond in order to survive and protect itself. One option that an animal may have is to flee or run away from the situation in an effort to escape danger or avoid conflict. Another option that an animal may have is to fight for its life, using whatever means are available to defend itself and protect its survival. The choice that an animal makes in a predicament will depend on a variety of factors, including the specific nature of the situation, the animal's size, strength, and abilities, and the resources and options that are available to it.\",\n",
    "    \"It is not common for people to fight each other when they find a good deal. A good deal is typically defined as an opportunity to purchase something at a price that is lower than what it is usually worth, or to obtain a product or service that provides more value or benefits than what is expected. When people find a good deal, they may feel excited or pleased about the opportunity to save money or get more for their money, and they may take action to take advantage of the deal. However, it is generally not considered acceptable or appropriate for people to fight each other over a good deal or to engage in physical violence or aggression in order to obtain it. There are many other ways that people can express their interest in a good deal, such as by negotiating with the seller, making an offer, or simply making a purchase if the price is acceptable.\",\n",
    "    \"An altar is a platform or structure that is used for religious ceremonies, rituals, or worship. Altars are often found in places of worship, such as temples, churches, synagogues, mosques, and other religious buildings. When a person is standing in front of an altar, they are likely to be in a temple or other place of worship. Altars can be used for a variety of purposes in different religions and spiritual traditions, such as offering sacrifices, making offerings, praying, or performing other religious practices. They may be decorated with symbols, images, or other items that are significant to the religion or spiritual tradition that is being practiced. Altars may also be used as a place for people to meditate, reflect, or seek spiritual guidance.\",\n",
    "    \"Joe bought a bunch of grapes because he likes to use them to top his desserts. A dessert is a type of food that is typically served at the end of a meal, and it is usually sweet or rich in flavor. There are many different types of desserts that people enjoy, including cakes, cookies, ice cream, pie, and other sweet treats. One way that people may use grapes as a topping for their desserts is by placing them on top of a fruit pie, tart, or crisp. Grapes can add flavor and texture to a dessert, and they may also be used to decorate a dessert or to add visual appeal. Grapes are a versatile fruit that can be used in many different types of desserts, and they can be eaten fresh, frozen, or preserved in various ways.\",\n",
    "    \"Well water is water that is obtained from underground sources, typically through the use of a well. A well is a hole or shaft that is dug into the ground in order to access water that is contained in underground aquifers or other water-bearing formations. Well water is typically used for drinking, irrigation, and other purposes, and it is often considered to be of high quality because it is filtered and purified naturally as it flows through the ground. To obtain well water, a person can dig a well or have one dug by a professional well driller. The depth of the well will depend on the location and the geology of the area, and a pump or other mechanical system may be used to bring the water to the surface.\",\n",
    "]"
   ]
  },
  {
   "cell_type": "code",
   "execution_count": 17,
   "id": "013e06f0",
   "metadata": {},
   "outputs": [
    {
     "name": "stdout",
     "output_type": "stream",
     "text": [
      "dict_keys(['stem', 'no_more_50_words', 'id', '150_to_200_words'])\n",
      "dict_keys(['stem', 'no_more_50_words', 'id', '150_to_200_words'])\n",
      "dict_keys(['stem', 'no_more_50_words', 'id', '150_to_200_words'])\n",
      "dict_keys(['stem', 'no_more_50_words', 'id', '150_to_200_words'])\n",
      "dict_keys(['stem', 'no_more_50_words', 'id', '150_to_200_words'])\n",
      "dict_keys(['stem', 'no_more_50_words', 'id', '150_to_200_words'])\n",
      "dict_keys(['stem', 'no_more_50_words', 'id', '150_to_200_words'])\n",
      "dict_keys(['stem', 'no_more_50_words', 'id', '150_to_200_words'])\n",
      "dict_keys(['stem', 'no_more_50_words', 'id', '150_to_200_words'])\n",
      "dict_keys(['stem', 'no_more_50_words', 'id', '150_to_200_words'])\n",
      "dict_keys(['stem', 'no_more_50_words', 'id', '150_to_200_words'])\n",
      "dict_keys(['stem', 'no_more_50_words', 'id', '150_to_200_words'])\n",
      "dict_keys(['stem', 'no_more_50_words', 'id', '150_to_200_words'])\n",
      "dict_keys(['stem', 'no_more_50_words', 'id', '150_to_200_words'])\n",
      "dict_keys(['stem', 'no_more_50_words', 'id', '150_to_200_words'])\n",
      "dict_keys(['stem', 'no_more_50_words', 'id', '150_to_200_words'])\n",
      "dict_keys(['stem', 'no_more_50_words', 'id', '150_to_200_words'])\n",
      "dict_keys(['stem', 'no_more_50_words', 'id', '150_to_200_words'])\n",
      "dict_keys(['stem', 'no_more_50_words', 'id', '150_to_200_words'])\n",
      "dict_keys(['stem', 'no_more_50_words', 'id', '150_to_200_words'])\n",
      "dict_keys(['stem', 'no_more_50_words', 'id', '150_to_200_words'])\n",
      "dict_keys(['stem', 'no_more_50_words', 'id', '150_to_200_words'])\n",
      "dict_keys(['stem', 'no_more_50_words', 'id', '150_to_200_words'])\n",
      "dict_keys(['stem', 'no_more_50_words', 'id', '150_to_200_words'])\n",
      "dict_keys(['stem', 'no_more_50_words', 'id', '150_to_200_words'])\n",
      "dict_keys(['stem', 'no_more_50_words', 'id', '150_to_200_words'])\n",
      "dict_keys(['stem', 'no_more_50_words', 'id', '150_to_200_words'])\n",
      "dict_keys(['stem', 'no_more_50_words', 'id', '150_to_200_words'])\n",
      "dict_keys(['stem', 'no_more_50_words', 'id', '150_to_200_words'])\n",
      "dict_keys(['stem', 'no_more_50_words', 'id', '150_to_200_words'])\n",
      "dict_keys(['stem', 'no_more_50_words', 'id', '150_to_200_words'])\n",
      "dict_keys(['stem', 'no_more_50_words', 'id', '150_to_200_words'])\n",
      "dict_keys(['stem', 'no_more_50_words', 'id', '150_to_200_words'])\n",
      "dict_keys(['stem', 'no_more_50_words', 'id', '150_to_200_words'])\n",
      "dict_keys(['stem', 'no_more_50_words', 'id', '150_to_200_words'])\n",
      "dict_keys(['stem', 'no_more_50_words', 'id', '150_to_200_words'])\n",
      "dict_keys(['stem', 'no_more_50_words', 'id', '150_to_200_words'])\n",
      "dict_keys(['stem', 'no_more_50_words', 'id', '150_to_200_words'])\n",
      "dict_keys(['stem', 'no_more_50_words', 'id', '150_to_200_words'])\n",
      "dict_keys(['stem', 'no_more_50_words', 'id', '150_to_200_words'])\n",
      "dict_keys(['stem', 'no_more_50_words', 'id', '150_to_200_words'])\n",
      "dict_keys(['stem', 'no_more_50_words', 'id', '150_to_200_words'])\n",
      "dict_keys(['stem', 'no_more_50_words', 'id', '150_to_200_words'])\n",
      "dict_keys(['stem', 'no_more_50_words', 'id', '150_to_200_words'])\n",
      "dict_keys(['stem', 'no_more_50_words', 'id', '150_to_200_words'])\n",
      "dict_keys(['stem', 'no_more_50_words', 'id', '150_to_200_words'])\n",
      "dict_keys(['stem', 'no_more_50_words', 'id', '150_to_200_words'])\n",
      "dict_keys(['stem', 'no_more_50_words', 'id', '150_to_200_words'])\n",
      "dict_keys(['stem', 'no_more_50_words', 'id', '150_to_200_words'])\n",
      "dict_keys(['stem', 'no_more_50_words', 'id', '150_to_200_words'])\n",
      "dict_keys(['stem', 'no_more_50_words', 'id', '150_to_200_words'])\n",
      "dict_keys(['stem', 'no_more_50_words', 'id', '150_to_200_words'])\n",
      "dict_keys(['stem', 'no_more_50_words', 'id', '150_to_200_words'])\n",
      "dict_keys(['stem', 'no_more_50_words', 'id', '150_to_200_words'])\n",
      "dict_keys(['stem', 'no_more_50_words', 'id', '150_to_200_words'])\n",
      "dict_keys(['stem', 'no_more_50_words', 'id', '150_to_200_words'])\n",
      "dict_keys(['stem', 'no_more_50_words', 'id', '150_to_200_words'])\n",
      "dict_keys(['stem', 'no_more_50_words', 'id', '150_to_200_words'])\n",
      "dict_keys(['stem', 'no_more_50_words', 'id', '150_to_200_words'])\n",
      "dict_keys(['stem', 'no_more_50_words', 'id', '150_to_200_words'])\n",
      "dict_keys(['stem', 'no_more_50_words', 'id', '150_to_200_words'])\n",
      "dict_keys(['stem', 'no_more_50_words', 'id', '150_to_200_words'])\n",
      "dict_keys(['stem', 'no_more_50_words', 'id', '150_to_200_words'])\n",
      "dict_keys(['stem', 'no_more_50_words', 'id', '150_to_200_words'])\n",
      "dict_keys(['stem', 'no_more_50_words', 'id', '150_to_200_words'])\n",
      "dict_keys(['stem', 'no_more_50_words', 'id', '150_to_200_words'])\n",
      "dict_keys(['stem', 'no_more_50_words', 'id', '150_to_200_words'])\n",
      "dict_keys(['stem', 'no_more_50_words', 'id', '150_to_200_words'])\n",
      "dict_keys(['stem', 'no_more_50_words', 'id', '150_to_200_words'])\n",
      "dict_keys(['stem', 'no_more_50_words', 'id', '150_to_200_words'])\n",
      "dict_keys(['stem', 'no_more_50_words', 'id', '150_to_200_words'])\n",
      "dict_keys(['stem', 'no_more_50_words', 'id', '150_to_200_words'])\n",
      "dict_keys(['stem', 'no_more_50_words', 'id', '150_to_200_words'])\n",
      "dict_keys(['stem', 'no_more_50_words', 'id', '150_to_200_words'])\n",
      "dict_keys(['stem', 'no_more_50_words', 'id', '150_to_200_words'])\n",
      "dict_keys(['stem', 'no_more_50_words', 'id', '150_to_200_words'])\n",
      "dict_keys(['stem', 'no_more_50_words', 'id', '150_to_200_words'])\n",
      "dict_keys(['stem', 'no_more_50_words', 'id', '150_to_200_words'])\n",
      "dict_keys(['stem', 'no_more_50_words', 'id', '150_to_200_words'])\n",
      "dict_keys(['stem', 'no_more_50_words', 'id', '150_to_200_words'])\n",
      "dict_keys(['stem', 'no_more_50_words', 'id', '150_to_200_words'])\n",
      "dict_keys(['stem', 'no_more_50_words', 'id', '150_to_200_words'])\n",
      "dict_keys(['stem', 'no_more_50_words', 'id', '150_to_200_words'])\n",
      "dict_keys(['stem', 'no_more_50_words', 'id', '150_to_200_words'])\n",
      "dict_keys(['stem', 'no_more_50_words', 'id', '150_to_200_words'])\n",
      "dict_keys(['stem', 'no_more_50_words', 'id', '150_to_200_words'])\n",
      "dict_keys(['stem', 'no_more_50_words', 'id', '150_to_200_words'])\n",
      "dict_keys(['stem', 'no_more_50_words', 'id', '150_to_200_words'])\n",
      "dict_keys(['stem', 'no_more_50_words', 'id', '150_to_200_words'])\n",
      "dict_keys(['stem', 'no_more_50_words', 'id', '150_to_200_words'])\n",
      "dict_keys(['stem', 'no_more_50_words', 'id', '150_to_200_words'])\n",
      "dict_keys(['stem', 'no_more_50_words', 'id', '150_to_200_words'])\n",
      "dict_keys(['stem', 'no_more_50_words', 'id', '150_to_200_words'])\n",
      "dict_keys(['stem', 'no_more_50_words', 'id', '150_to_200_words'])\n",
      "dict_keys(['stem', 'no_more_50_words', 'id', '150_to_200_words'])\n",
      "dict_keys(['stem', 'no_more_50_words', 'id', '150_to_200_words'])\n",
      "dict_keys(['stem', 'no_more_50_words', 'id', '150_to_200_words'])\n",
      "dict_keys(['stem', 'no_more_50_words', 'id', '150_to_200_words'])\n",
      "dict_keys(['stem', 'no_more_50_words', 'id', '150_to_200_words'])\n",
      "dict_keys(['stem', 'no_more_50_words', 'id', '150_to_200_words'])\n",
      "dict_keys(['stem', 'no_more_50_words', 'id', '150_to_200_words'])\n",
      "dict_keys(['stem', 'no_more_50_words', 'id', '150_to_200_words'])\n",
      "dict_keys(['stem', 'no_more_50_words', 'id', '150_to_200_words'])\n",
      "dict_keys(['stem', 'no_more_50_words', 'id', '150_to_200_words'])\n",
      "dict_keys(['stem', 'no_more_50_words', 'id', '150_to_200_words'])\n",
      "dict_keys(['stem', 'no_more_50_words', 'id', '150_to_200_words'])\n",
      "dict_keys(['stem', 'no_more_50_words', 'id', '150_to_200_words'])\n",
      "dict_keys(['stem', 'no_more_50_words', 'id', '150_to_200_words'])\n",
      "dict_keys(['stem', 'no_more_50_words', 'id', '150_to_200_words'])\n",
      "dict_keys(['stem', 'no_more_50_words', 'id', '150_to_200_words'])\n",
      "dict_keys(['stem', 'no_more_50_words', 'id', '150_to_200_words'])\n",
      "dict_keys(['stem', 'no_more_50_words', 'id', '150_to_200_words'])\n",
      "dict_keys(['stem', 'no_more_50_words', 'id', '150_to_200_words'])\n",
      "dict_keys(['stem', 'no_more_50_words', 'id', '150_to_200_words'])\n",
      "dict_keys(['stem', 'no_more_50_words', 'id', '150_to_200_words'])\n"
     ]
    }
   ],
   "source": [
    "import glob\n",
    "import json\n",
    "import pdb\n",
    "chatgpt_50_100_rationales_dir = \"./chatgpt_rationales/200_250_text003\"\n",
    "file_list = glob.glob(\"{}/*.json\".format(chatgpt_50_100_rationales_dir))\n",
    "chatgpt_rationales_dict = {}\n",
    "for file in file_list:\n",
    "    with open(file, 'r') as f:\n",
    "        da = json.load(f)\n",
    "        print(da.keys())\n",
    "        chatgpt_rationales_dict[da['id']] = da['150_to_200_words']\n",
    "        #pdb.set_trace()"
   ]
  },
  {
   "cell_type": "code",
   "execution_count": 18,
   "id": "d9681ea9",
   "metadata": {},
   "outputs": [],
   "source": [
    "def list2dict(refine_data):\n",
    "    refine_data_dict={}\n",
    "    for key in refine_data[0].keys():\n",
    "        refine_data_dict[key]=[x[key] for x in refine_data]\n",
    "    return refine_data_dict\n",
    "\n",
    "select_refine_train_data = []\n",
    "for da in refine_train_data:\n",
    "    #pdb.set_trace()\n",
    "    if da['id'] in chatgpt_rationales_dict.keys():\n",
    "        da['our_explanation'] = chatgpt_rationales_dict[da['id']]\n",
    "        select_refine_train_data.append(da) \n",
    "        \n",
    "select_refine_train_data_dict = list2dict(select_refine_train_data)\n",
    "our_data_splits['train'] = datasets.Dataset.from_dict(select_refine_train_data_dict).shuffle().select(range(72))\n",
    "\n",
    "refine_dev_data_dict = list2dict(refine_dev_data)\n",
    "our_data_splits['dev'] = datasets.Dataset.from_dict(refine_dev_data_dict)\n",
    "\n",
    "refine_test_data_dict = list2dict(refine_test_data)\n",
    "our_data_splits['test'] = datasets.Dataset.from_dict(refine_test_data_dict)\n",
    "\n"
   ]
  },
  {
   "cell_type": "code",
   "execution_count": 19,
   "id": "53ab0e1a",
   "metadata": {},
   "outputs": [],
   "source": [
    "import datasets\n",
    "class SequenceCollator:\n",
    "    def __init__(self, pad_token):\n",
    "        # self.pad_token_mapping = {\n",
    "        #     \"lm_labels\": -100,\n",
    "        #     \"attention_mask\": 0,\n",
    "        #     \"decoder_attention_mask\": 0,\n",
    "        #     \"input_ids\": pad_token,\n",
    "        # }\n",
    "        # self.columns = [\n",
    "        #     \"input_ids\",\n",
    "        #     \"attention_mask\",\n",
    "        #     \"lm_labels\",\n",
    "        #     \"decoder_attention_mask\",\n",
    "        # ]\n",
    "        self.pad_token_mapping = {\n",
    "            \"labels\": -100,\n",
    "            \"attention_mask\": 0,\n",
    "            \"decoder_attention_mask\": 0,\n",
    "            \"input_ids\": pad_token,\n",
    "        }\n",
    "        self.columns = [\n",
    "            \"input_ids\",\n",
    "            \"attention_mask\",\n",
    "            \"labels\",\n",
    "            \"decoder_attention_mask\",\n",
    "        ]\n",
    "\n",
    "    def collate_batch(self, examples):\n",
    "\n",
    "        # batch inputs for training\n",
    "        batch = {}\n",
    "        for key in examples[0].keys():\n",
    "            if key in self.columns:\n",
    "                tmp_list = []\n",
    "                for item in examples:\n",
    "                    tmp_list.append(item[key])\n",
    "\n",
    "                # pad lists to max length\n",
    "                if isinstance(tmp_list[0], list):\n",
    "                    max_length = max(map(len, tmp_list))\n",
    "                    tmp_list = [\n",
    "                        el + [self.pad_token_mapping[key]] * (max_length - len(el))\n",
    "                        for el in tmp_list\n",
    "                    ]\n",
    "\n",
    "                batch[key] = torch.tensor(tmp_list, dtype=torch.long)\n",
    "        return batch\n",
    "    \n",
    "    def __call__(self, examples: List[Dict[str, InputDataClass]]) -> Dict[str, torch.Tensor]:\n",
    "        # re-format inputs for training\n",
    "        batch = {}\n",
    "        for key in examples[0].keys():\n",
    "            if key in self.columns:\n",
    "                tmp_list = []\n",
    "                for item in examples:\n",
    "                    tmp_list.append(item[key])\n",
    "\n",
    "                # pad lists to max length\n",
    "                if isinstance(tmp_list[0], list):\n",
    "                    max_length = max(map(len, tmp_list))\n",
    "                    tmp_list = [\n",
    "                        el + [self.pad_token_mapping[key]] * (max_length - len(el))\n",
    "                        for el in tmp_list\n",
    "                    ]\n",
    "\n",
    "                batch[key] = torch.tensor(tmp_list, dtype=torch.long)\n",
    "        return batch\n",
    "# dataset = datasets.load_dataset(data_args.task_name, data_args.version_name)"
   ]
  },
  {
   "cell_type": "code",
   "execution_count": 20,
   "id": "219866fe",
   "metadata": {},
   "outputs": [
    {
     "data": {
      "application/json": {
       "ascii": false,
       "bar_format": null,
       "colour": null,
       "elapsed": 0.014655828475952148,
       "initial": 0,
       "n": 0,
       "ncols": null,
       "nrows": 60,
       "postfix": null,
       "prefix": "",
       "rate": null,
       "total": 72,
       "unit": "ex",
       "unit_divisor": 1000,
       "unit_scale": false
      },
      "application/vnd.jupyter.widget-view+json": {
       "model_id": "826feab8267b4234b6887c0d146c1746",
       "version_major": 2,
       "version_minor": 0
      },
      "text/plain": [
       "  0%|          | 0/72 [00:00<?, ?ex/s]"
      ]
     },
     "metadata": {},
     "output_type": "display_data"
    },
    {
     "data": {
      "application/json": {
       "ascii": false,
       "bar_format": null,
       "colour": null,
       "elapsed": 0.012268304824829102,
       "initial": 0,
       "n": 0,
       "ncols": null,
       "nrows": 60,
       "postfix": null,
       "prefix": "",
       "rate": null,
       "total": 986,
       "unit": "ex",
       "unit_divisor": 1000,
       "unit_scale": false
      },
      "application/vnd.jupyter.widget-view+json": {
       "model_id": "d0592ef66ccf4ad78b6252951947e8a7",
       "version_major": 2,
       "version_minor": 0
      },
      "text/plain": [
       "  0%|          | 0/986 [00:00<?, ?ex/s]"
      ]
     },
     "metadata": {},
     "output_type": "display_data"
    },
    {
     "data": {
      "application/json": {
       "ascii": false,
       "bar_format": null,
       "colour": null,
       "elapsed": 0.028486013412475586,
       "initial": 0,
       "n": 0,
       "ncols": null,
       "nrows": 60,
       "postfix": null,
       "prefix": "",
       "rate": null,
       "total": 255,
       "unit": "ex",
       "unit_divisor": 1000,
       "unit_scale": false
      },
      "application/vnd.jupyter.widget-view+json": {
       "model_id": "96a2189e267f4252a4723a14b92f6301",
       "version_major": 2,
       "version_minor": 0
      },
      "text/plain": [
       "  0%|          | 0/255 [00:00<?, ?ex/s]"
      ]
     },
     "metadata": {},
     "output_type": "display_data"
    }
   ],
   "source": [
    "# seq_collector = SequenceCollator(0)\n",
    "# train_ds = seq_collector.__call__(dataset['train'])\n",
    "# train_ds\n",
    "# dataset['train'][0].keys()\n",
    "for split in ['train','dev','test']:\n",
    "    our_data_splits[split] = our_data_splits[split].map(\n",
    "            lambda x: format_instance(\n",
    "                x,\n",
    "                tokenizer,\n",
    "                data_args.explanation_sep,\n",
    "                datasource=data_args.task_name,\n",
    "                io_format=data_args.io_format\n",
    "            ),\n",
    "            batched=False,\n",
    "            load_from_cache_file=False,\n",
    "        )"
   ]
  },
  {
   "cell_type": "code",
   "execution_count": null,
   "id": "0c120e04",
   "metadata": {},
   "outputs": [],
   "source": []
  },
  {
   "cell_type": "code",
   "execution_count": 21,
   "id": "81048fad",
   "metadata": {},
   "outputs": [],
   "source": [
    "chatGPT_rationales = [\n",
    "    \"A cup is a common vessel used for holding and drinking liquids, such as water, coffee, or tea. When you want to get yourself a drink, you might typically get a cup from a cabinet or other storage area in order to hold the drink. A cup is a convenient and practical choice for getting a drink because it is easy to hold and use, and it can hold a reasonable amount of liquid. There are many different types of cups available, including ceramic, glass, plastic, and metal cups, each with their own unique features and benefits. Whether you are at home, at work, or out in public, a cup is a handy item to have on hand when you need to quench your thirst.\",\n",
    "    \"A front yard is the lawn that is typically located in front of a house, near the street. The front yard is the part of the property that is visible from the street and is often used for decorative purposes, such as landscaping or gardening. Many people take pride in their front yards and may spend time and resources maintaining and improving them. The front yard is often the first thing that visitors see when they arrive at a house, and it can make a strong impression on them. In contrast, the back yard is typically located behind the house and is often used for more practical purposes, such as outdoor recreation or gardening.\",\n",
    "    \"A swimming pool is a recreational water feature that is typically used for swimming and other aquatic activities. While shallow water, such as that found in a kiddie pool or a shallow end of a pool, can be enjoyable for some people, it may not be sufficient for many summer activities. A swimming pool that is deep enough for diving and other activities is more likely to provide more opportunities for summer fun. In addition, a swimming pool that is clean and chlorinated is more likely to be safe and enjoyable for swimming, as it will be free of contaminants and bacteria that can cause illness.\",\n",
    "    \"In most places, it is illegal for people under the age of 21 to purchase or consume alcohol. This is because alcohol can have negative effects on the developing brain and body of young people. It can also contribute to risky behaviors and accidents. Therefore, many governments have set a minimum age for alcohol consumption and purchase to help protect the health and safety of young people. If someone is under the age of 21 and attempts to purchase alcohol, they may be denied the sale or face legal consequences. It is important for young people to understand and adhere to the laws and regulations regarding the purchase and consumption of alcohol in their area.\",\n",
    "    \"When someone shaves, they typically use a razor to remove hair from their face or body. The process of shaving can leave a lot of hair in the sink, as the hair is trimmed off and falls into the sink as it is being shaved. It is common for people to shave in the bathroom, where a sink is typically located. The sink provides a convenient place to rinse the razor and wash off any excess hair or shaving cream. It is important to clean the sink after shaving to remove any hair and prevent clogs in the drain.\",\n",
    "    \"A hamburger is a type of sandwich that consists of a cooked patty of ground meat, typically beef, placed between two slices of bread or a bun. Hamburgers are often served with various toppings, such as lettuce, tomato, onion, cheese, and condiments like ketchup and mustard. However, if someone is suffering from great hunger, they may not care about the toppings and just want to eat the hamburger itself. In this case, the person may be more focused on satisfying their hunger and getting nourishment rather than worrying about additional ingredients or flavors.\",\n",
    "    \"If a person notices popcorn and cotton candy on the grass, they are likely at fairgrounds. Fairgrounds are outdoor areas that are used for hosting fairs and other events, such as carnivals, festivals, and exhibitions. These events often feature food stalls and vendors that sell a variety of treats, including popcorn and cotton candy. Popcorn and cotton candy are both popular carnival foods that are often sold at fairs and other events. The presence of these foods on the ground at fairgrounds suggests that a fair or similar event is taking place there.\",\n",
    "    \"When snow on a mountain becomes heavy, it can trigger an avalanche. An avalanche is a rapid flow of snow down a slope, often triggered by the weight of the snow or external factors such as a change in temperature. Avalanches can be dangerous and destructive, as they can bury and sweep away anything in their path, including people, buildings, and vehicles. Avalanches can occur on any slope with a steep enough incline and a sufficient amount of snow. They are most common on mountains, but they can also occur in other snowy areas, such as forests or valleys. It is important for people to be aware of the risk of avalanches and to take precautions when traveling in areas prone to avalanches.\",\n",
    "    \"A police officer typically reports their work through the use of case reports or incident reports. These reports are written documents that detail the events of a specific case or incident that the officer has worked on. Case reports or incident reports typically include information such as the date and time of the incident, the location, the people involved, and the actions taken by the officer. They may also include witness statements, evidence collected, and any other relevant details. Case reports or incident reports are used by police officers to document their work and provide a record of the incidents they have dealt with. They are also used by supervisors and other authorities to review and evaluate the performance of the officer and the effectiveness of their actions.\",\n",
    "    \"Teachers play many roles in the lives of their students, including mentor, counselor, and role model. However, they get the most out of their job by simply teaching children. Teaching children is the primary responsibility of a teacher, and it is what they are trained and paid to do. Teaching involves imparting knowledge, skills, and values to students, and helping them to develop the skills and habits they need to succeed in life. Teachers have the opportunity to make a positive impact on the lives of their students by providing them with a strong foundation in academic subjects and helping them to become curious, engaged learners. Teachers often derive a great deal of satisfaction from helping their students to achieve their potential and succeed in their studies.\",\n",
    "    \"A person might go to get counseling for a variety of reasons. One reason is to better understand themselves. Counseling can provide a safe and supportive environment for individuals to explore their thoughts, feelings, and behaviors, and to gain insight into why they act and feel the way they do. Counseling can also help a person to identify and work through any underlying issues or challenges that may be causing them distress or hindering their personal growth. Through counseling, a person can learn more about themselves and how to navigate their emotions and relationships more effectively. Counseling can be particularly helpful for individuals who are struggling with mental health issues, relationship problems, or other personal challenges.\",\n",
    "    \"If the kids wanted to cool off, they might go swimming as a way to refresh and beat the heat. Swimming is a fun and enjoyable activity that can provide relief from hot weather and help to cool the body. Swimming can also provide a great workout and has numerous health benefits, such as improving cardiovascular fitness and flexibility. There are many different places where kids can go swimming, such as pools, lakes, rivers, or the ocean. No matter where they go, kids can have fun and cool off while enjoying the water.\",\n",
    "    \"When remembering a tragedy in the past, many people may feel depressed. Depression is a common emotional reaction to experiencing a traumatic or stressful event, such as a tragedy. Depression is a mental health disorder characterized by persistent feelings of sadness, hopelessness, and low energy. It can also cause physical symptoms such as changes in appetite and sleep patterns, fatigue, and difficulty concentrating. Remembering a tragedy can be emotionally difficult and may trigger feelings of sadness, grief, and guilt. It is important for people who are struggling with depression to seek support and treatment to help manage their symptoms and improve their mental health.\",\n",
    "    \"Death Valley is a national park located in the Mojave Desert, in the state of California, United States. It is situated on the North American continent. The North American continent is one of the seven continents of the world and is located in the western hemisphere. It is the third largest continent in terms of land area, after Asia and Africa, and is home to a diverse range of cultures, languages, and environments. Death Valley is known for its extreme desert climate and is the lowest, hottest, and driest place in North America. It is a popular destination for tourists, who come to see its unique geological features, such as sand dunes, salt flats, and canyons.\",\n",
    "    \"When in a serious relationship, understanding better requires effort. Relationships require effort and work to maintain and grow. In order to understand your partner better, you need to be willing to put in the time and effort to communicate with them, listen to their perspectives, and try to see things from their point of view. This may involve asking questions, expressing your own feelings and needs, and being open to feedback and compromise. Understanding your partner better can help to strengthen the bond between you and improve the quality of your relationship. It is important to remember that relationships are dynamic and evolving, and that ongoing communication and effort are necessary to maintain a healthy and fulfilling relationship.\",\n",
    "    \"Cats are able to make a variety of vocalizations, including meows, purrs, and growls, as a way of communicating with humans and other animals. Cats use these vocalizations to convey a range of emotions and needs, such as hunger, happiness, or discomfort. Meowing is a common vocalization that cats use to communicate with humans. Cats may meow when they want attention, food, or to be let outside. Cats may also meow when they are feeling anxious or stressed. Although cats cannot talk in the same way that humans do, they are skilled at using their voices to communicate with their owners and other animals.\",\n",
    "    \"If you need a vessel that is similar to a battleship but faster, you might consider using a corvette. A corvette is a small, fast warship that is typically used for convoy escort, patrol, and other shallow water duties. Corvettes are generally smaller and less heavily armed than battleships, but they are more agile and have a higher speed. They are typically equipped with a variety of weapons, including guns, missiles, and torpedoes, and are used for defending against enemy ships and aircraft. Corvettes are often used for coastal defense, as well as for patrolling and enforcing maritime laws. They are capable of operating in a variety of environments, including open ocean and littoral (nearshore) waters.\",\n",
    "    \"Water in the sky comes from rain clouds. Rain clouds are clouds that form when moist air rises and cools, forming tiny water droplets that condense around particles in the air. As the droplets grow, they eventually become heavy enough to fall from the cloud as rain. Rain clouds are typically gray or white in color and are often accompanied by other types of clouds, such as cumulus or stratocumulus clouds. Rain clouds can form in a variety of ways, such as when warm, moist air from the ground rises and cools, or when moist air from the ocean is carried inland by the wind. Rain clouds can be found in many parts of the world and are a common source of precipitation, especially during the warmer months.\",\n",
    "    \"If John rented a hotel room while on a business trip and it was a company-sponsored event, it is possible that the hotel was a resort. Resorts are hotels or vacation properties that offer a variety of amenities and activities for guests, such as swimming pools, golf courses, spas, and restaurants. They are often located in scenic or recreational areas and are designed to provide a relaxing and enjoyable experience for guests. Many resorts offer conference and meeting facilities and are popular destinations for business events and retreats. If John's company sponsored the business trip and provided the hotel accommodations, it is likely that they chose a resort with the amenities and facilities needed to support the event.\",\n",
    "    \"An expressway might leave the United States and go to Canada. The United States and Canada are neighboring countries that share a border, and there are several expressways that cross the border between the two countries. Expressways are high-speed, limited-access roads that are designed for fast and efficient travel. They typically have multiple lanes and may include features such as grade separations, interchanges, and controlled access points. Expressways are used for long-distance travel and are often the main routes connecting major cities and regions. If an expressway leaves the United States, it is likely that it is heading towards Canada, which is located to the north of the United States.\",\n",
    "    \"If you were walking on a sidewalk near a small corner shop run by John, you would look for it on the street corner. A corner shop is a small retail store that is typically located at the intersection of two streets. It is often a convenience store or a neighborhood shop that sells a variety of goods, such as groceries, household items, and other supplies. Corner shops are often located in busy urban areas, where they are easily accessible to pedestrians and motorists. If you were walking on a sidewalk near a corner shop, you would look for it at the intersection of the street where you are walking and another street. The shop is likely to be located in a building on the corner, with windows and doors facing the street.\",\n",
    "    \"One way that a company can efficiently sell things to their customers is through mail order. Mail order is a method of selling goods or services by advertising them in a catalog or other publication and allowing customers to place orders by mail, telephone, or online. Mail order is a convenient and efficient way for companies to reach a wide customer base, as it allows them to sell products to customers who may not be located near their physical store or who may not have the time or inclination to shop in person. Mail order companies typically have a centralized warehouse or distribution center where orders are processed and shipped to customers. They may also offer options such as easy returns and exchanges, as well as customer service support to assist with any questions or issues that customers may have.\",\n",
    "    \"If he enjoyed the factory work and liked the idea that he did it for sale, it is likely that he enjoyed producing goods. Factory work typically involves the production of goods, such as products or materials, using machines, tools, and other equipment. Factory workers are responsible for operating and maintaining the equipment and ensuring that the goods being produced meet quality standards. The goods produced in a factory may be sold directly to consumers or to other businesses, and may be used for a variety of purposes, such as manufacturing, construction, or distribution. If a person enjoys factory work, they may find satisfaction in the idea that they are contributing to the production of goods that will be sold and used by others.\",\n",
    "    \"If returning to work was easy for Dan after his treatment and he was completely painless, it is likely that he had undergone some form of medical treatment or therapy to address a health issue or injury. Painless indicates that Dan was no longer experiencing pain or discomfort, which may have been a result of the treatment or therapy he received. It is not clear from the information provided what specific health issue or injury Dan was dealing with, or what treatment or therapy he received. However, it is possible that Dan was able to return to work more easily after his treatment because he was feeling better and was no longer experiencing any pain or discomfort.\",\n",
    "    \"If index cards were on display at the museum, it is likely that the museum was a library. Libraries are institutions that provide access to a wide range of resources, including books, periodicals, and other printed materials, as well as digital resources such as e-books, databases, and online research tools. Libraries often have exhibits and displays of various types of materials, including rare or unique items, and may have special collections or archives that are of particular interest to researchers or historians. Index cards are small, rectangular pieces of paper that are used for organizing information, such as names, dates, or research notes. They may be used in a variety of settings, including libraries, offices, and schools. If index cards were on display at the museum, it is possible that they were part of a historical exhibit or collection related to the history of libraries or research.\",\n",
    "    \"If she was a human in America who wanted to live well, it is likely that the given for her situation was the need for money. In general, money is an important factor in enabling people to live well and meet their basic needs and desires. Money allows people to purchase the goods and services that they need to sustain themselves and their families, such as food, clothing, housing, and healthcare. It also enables people to pursue their interests and hobbies, travel, and engage in various forms of leisure and entertainment. In America, and in many other countries around the world, the cost of living can be high, and people often need to earn and save money in order to achieve a desired standard of living. As such, the need for money is a given for many people in order to live well.\",\n",
    "    \"A place that could have one back garden is a house. A garden is a piece of land that is used for growing plants, flowers, vegetables, or other types of vegetation. Gardens can be found in a variety of settings, including residential properties, public parks, and commercial properties. A house is a building that is used as a dwelling for one or more people, and it typically includes living spaces, such as bedrooms, bathrooms, and a kitchen, as well as outdoor areas, such as a front yard, side yard, and back yard. A back yard is a private outdoor space that is typically located behind a house and is often used for recreational or leisure activities, such as gardening, grilling, or playing games. If a house has a back garden, it is likely that the garden is located in the back yard.\",\n",
    "    \"People gather at a football stadium to see large men in pads play a game where they run and smash into each other. Football is a popular sport that is played on a rectangular field by two teams of eleven players. The game involves running, passing, and tackling, and players wear pads and other protective gear to reduce the risk of injury. Football is a physical and intense sport, and players often collide with each other at high speeds. Football stadiums are large, open-air facilities that are designed to host football games and other sporting events. They typically have a grass or artificial turf field, seating for spectators, and a variety of amenities, such as concessions stands, restrooms, and VIP areas. Football stadiums are popular places for people to gather and watch football games, and they can be found in cities and towns throughout the world.\",\n",
    "    \"One place where someone can get a flute is a musical instrument store. A musical instrument store is a retail establishment that specializes in selling musical instruments and related accessories. They may carry a wide range of instruments, including brass instruments, woodwind instruments, string instruments, percussion instruments, and keyboards. Flutes are woodwind instruments that are played by blowing air into a narrow opening and producing sound by vibrating the lips against a metal or wooden reed. They are popular instruments that are used in a variety of musical styles, including classical, jazz, and folk music. If someone is looking to purchase a flute, they may be able to find a selection of flutes at a musical instrument store. In addition to flutes, musical instrument stores may also offer a variety of other instruments, as well as sheet music, instructional materials, and accessories such as cases, stands, and cleaning supplies.\",\n",
    "    \"It is not clear what someone who has a greed for energy would do. The word greed typically refers to an excessive or insatiable desire for wealth, power, or material possessions. It is not clear how this concept would relate to energy or how it might influence someone's actions. It is possible that someone who has a lot of energy or who is very active might have a high appetite for food and might seek out sources of fuel or nutrition to sustain their energy levels. In this case, they might buy food as a way to obtain the energy they need. However, it is not accurate to say that someone who has a greed for energy would necessarily do this. It is important to note that the concept of greed is generally considered to be negative, as it suggests an unhealthy or unsustainable desire for something.\",\n",
    "    \"A forklift is a type of industrial vehicle that is used for moving and lifting heavy loads, such as pallets, crates, and boxes. Forklifts are equipped with a hydraulic lift mechanism and a set of prongs or forks that can be used to lift and transport loads. They are commonly used in warehouses and other distribution centers to move and stack materials, such as boxes, onto shelves or other storage areas. If you were using a forklift to stack boxes onto shelves, it is likely that you were in a warehouse or a similar facility. Warehouses are large, commercial buildings that are used for storing and distributing goods. They often have high ceilings, wide aisles, and multiple levels, and they may be equipped with a variety of material handling equipment, such as forklifts, conveyor belts, and cranes, to facilitate the movement and storage of goods.\",\n",
    "    \"You are likely to receive mouthwash in a little paper cup at a dentist's office. Dentist's offices are healthcare facilities that are staffed by dentists and other dental professionals, and they are used for the diagnosis and treatment of dental problems and the maintenance of oral health. One common practice at a dentist's office is to rinse the mouth with mouthwash, which is a liquid that is used to freshen breath, kill bacteria, and reduce the risk of gum disease and other oral health issues. Mouthwash is typically used after brushing and flossing to help remove any remaining food particles or plaque from the mouth. It may be dispensed in a little paper cup, which can be used to rinse the mouth and then disposed of after use.\",\n",
    "    \"A doctor's office can help you with an illness. A doctor's office is a healthcare facility that is staffed by medical doctors and other healthcare professionals, and it is used for the diagnosis and treatment of medical conditions and the maintenance of overall health. If you are experiencing an illness, such as a cold, flu, or more serious health issue, you may visit a doctor's office to seek medical care and treatment. At a doctor's office, you may receive a physical examination, diagnostic tests, and other forms of medical treatment, depending on the nature of your illness and your specific needs. Doctors are trained to diagnose and treat a wide range of medical conditions, and they can provide you with the care and support you need to recover from your illness and get back to good health.\",\n",
    "    \"A bug looking for wildflowers and no human interruption might go to a meadow. A meadow is a grassland area that is characterized by its open, grassy landscape and the presence of wildflowers and other types of vegetation. Meadows can be found in a variety of settings, including rural areas, forests, and parkland, and they are often home to a variety of animal and plant species. Because meadows are relatively undisturbed by human activity, they can be a good place for a bug to find wildflowers and other types of plants without interference from humans. Meadows are often considered to be peaceful, serene places, and they may be attractive to a bug that is seeking a quiet, natural environment in which to explore and forage.\",\n",
    "    \"If a bride and groom are taking care of proposals, the likely ceremony is a marriage. A marriage is a formal union between two people that is recognized by law and typically involves a public ceremony and the exchange of vows. A marriage proposal is a request for someone to marry another person, and it is typically made by one partner to the other. The process of planning a marriage often involves taking care of a variety of details and arrangements, such as choosing a venue, selecting a date, inviting guests, and organizing the ceremony and reception. If a bride and groom are taking care of proposals, it is likely that they are in the process of planning their marriage and preparing for the wedding ceremony.\",\n",
    "    \"You could put some olives in a jar to prevent them from getting nearby food wet. A jar is a container that is typically made of glass or ceramic and has a wide mouth and a secure, tight-fitting lid. Jars are often used for storing food items, such as olives, pickles, jams, and other types of preserved or dried goods. Because they have a sealed lid, jars can help to keep food fresh and prevent it from coming into contact with air or other substances that might spoil or contaminate it. If you want to prevent olives from getting nearby food wet, you could put them in a jar and close the lid to create an airtight seal. This would help to keep the olives separate from other foods and prevent them from coming into contact with moisture or other liquids.\",\n",
    "    \"If the graveyard was zoned by the pastor, it is likely that it was located on church property. Church property refers to land or buildings that are owned by a church or religious organization. This may include the main church building, as well as other structures such as a rectory, school, or community center. Church property may also include a graveyard or cemetery, which is a place where people are buried after they die. Pastors, who are ordained leaders in a church, often play a central role in the management and oversight of church property, and they may be responsible for zoning or designating areas within the property for specific purposes, such as a graveyard or a garden. If the pastor has zoned the graveyard, it is likely that it is located on church property and is being used as a place for burial by members of the church or community.\",\n",
    "    \"If a family wanted to live with carpeting, they may have ended up putting it in their houses. Houses are structures that are designed and built to be used as homes, and they typically have a number of rooms that are used for different purposes, such as sleeping, cooking, eating, and relaxing. Carpeting is a type of floor covering that is made of soft, flexible materials, such as wool, nylon, or polypropylene, and it is often used in houses to provide warmth, comfort, and insulation. If a family wanted to live with carpeting, they may have chosen to install carpeting in some or all of the rooms in their houses, in order to create a warm and cozy atmosphere and to improve the overall comfort and livability of their homes.\",\n",
    "    \"If a boss likes an employee's ambition, the employee may be put in charge of a project. A project is a specific task or set of tasks that is undertaken in order to achieve a specific goal or objective. Projects may be large or small, complex or simple, and they may involve a wide range of activities, such as research, design, development, testing, and implementation. If an employee is ambitious and demonstrates a strong desire to succeed and make a positive contribution to their organization, their boss may choose to put them in charge of a project, in order to give them the opportunity to demonstrate their skills and abilities and to take on more responsibility. Being put in charge of a project can be a challenging and rewarding experience, and it may provide an employee with the chance to learn new things, develop their skills, and make a meaningful contribution to their organization.\",\n",
    "    \"A county highway can be viewed as a line on a map. A map is a graphic representation of an area or region that shows the locations of various features, such as roads, rivers, mountains, and cities. Maps are often used to help people navigate and find their way around unfamiliar places, and they can be very useful for understanding the layout and geography of an area. County highways are roads that are maintained and operated by a county or local government, and they are typically used for local travel and transportation within a county or region. On a map, a county highway may be represented as a line, with a specific color or symbol used to indicate its location and route. By viewing a county highway as a line on a map, it is possible to get a sense of the route and layout of the road, and to use the map to plan a journey or navigate to a specific destination.\",\n",
    "    \"After going for a run, someone may feel tired. Running is a form of physical activity that involves moving quickly and continuously on foot, typically by running or jogging. It is a popular form of exercise that can help to improve cardiovascular fitness, build endurance, and strengthen the muscles of the legs and lower body. However, running can also be physically demanding, and it requires a certain level of fitness and stamina to be able to sustain the activity for an extended period of time. As a result, it is common for people to feel tired after going for a run, especially if they are not used to the activity or if they have pushed themselves to run for a longer distance or at a faster pace than usual. Tiredness after a run may be accompanied by other physical sensations, such as muscle fatigue, thirst, or a sense of accomplishment.\",\n",
    "    \"If a car was going from Florida to Ohio, it was heading north. Florida is a state in the southeastern region of the United States, and Ohio is a state in the midwestern region of the country. When traveling from Florida to Ohio, a person would need to go north in order to reach their destination. North is a direction that is opposite to south on a map or compass, and it is typically associated with higher latitude, colder climates, and longer nights. When traveling north, a person may encounter different landscapes, weather patterns, and cultural experiences than they would when traveling south, depending on the specific route and the distance traveled. By heading north from Florida to Ohio, a person would be leaving behind the warm, tropical climate of Florida and entering into a more temperate, mid-latitude region with cooler temperatures and a more diverse range of landscapes and ecosystems.\",\n",
    "    \"During a typical week, a teacher is likely to spend most of their time working in school. A teacher is a person who is trained and qualified to teach students in a school or educational setting, and their primary job is to provide instruction and guidance to help students learn and develop their skills and knowledge. Teachers may work in a variety of settings, including primary schools, secondary schools, and universities, and they may teach a wide range of subjects, including math, science, English, history, and the arts. In order to fulfill their duties as a teacher, a person is likely to spend most of their time working in a school or educational setting, where they will be responsible for preparing and delivering lessons, grading assignments, communicating with students and parents, and performing other tasks related to their job. Teachers typically work on a schedule that follows the school year, and they may work full-time or part-time, depending on their specific circumstances and the needs of their students.\",\n",
    "    \"In a predicament, an animal might choose to fight for its life as an alternative to fleeing. Predicament is a term that refers to a difficult or challenging situation, typically one that involves a choice or decision that needs to be made. When an animal finds itself in a predicament, it may have to decide how to respond in order to survive and protect itself. One option that an animal may have is to flee or run away from the situation in an effort to escape danger or avoid conflict. Another option that an animal may have is to fight for its life, using whatever means are available to defend itself and protect its survival. The choice that an animal makes in a predicament will depend on a variety of factors, including the specific nature of the situation, the animal's size, strength, and abilities, and the resources and options that are available to it.\",\n",
    "    \"It is not common for people to fight each other when they find a good deal. A good deal is typically defined as an opportunity to purchase something at a price that is lower than what it is usually worth, or to obtain a product or service that provides more value or benefits than what is expected. When people find a good deal, they may feel excited or pleased about the opportunity to save money or get more for their money, and they may take action to take advantage of the deal. However, it is generally not considered acceptable or appropriate for people to fight each other over a good deal or to engage in physical violence or aggression in order to obtain it. There are many other ways that people can express their interest in a good deal, such as by negotiating with the seller, making an offer, or simply making a purchase if the price is acceptable.\",\n",
    "    \"An altar is a platform or structure that is used for religious ceremonies, rituals, or worship. Altars are often found in places of worship, such as temples, churches, synagogues, mosques, and other religious buildings. When a person is standing in front of an altar, they are likely to be in a temple or other place of worship. Altars can be used for a variety of purposes in different religions and spiritual traditions, such as offering sacrifices, making offerings, praying, or performing other religious practices. They may be decorated with symbols, images, or other items that are significant to the religion or spiritual tradition that is being practiced. Altars may also be used as a place for people to meditate, reflect, or seek spiritual guidance.\",\n",
    "    \"Joe bought a bunch of grapes because he likes to use them to top his desserts. A dessert is a type of food that is typically served at the end of a meal, and it is usually sweet or rich in flavor. There are many different types of desserts that people enjoy, including cakes, cookies, ice cream, pie, and other sweet treats. One way that people may use grapes as a topping for their desserts is by placing them on top of a fruit pie, tart, or crisp. Grapes can add flavor and texture to a dessert, and they may also be used to decorate a dessert or to add visual appeal. Grapes are a versatile fruit that can be used in many different types of desserts, and they can be eaten fresh, frozen, or preserved in various ways.\",\n",
    "    \"Well water is water that is obtained from underground sources, typically through the use of a well. A well is a hole or shaft that is dug into the ground in order to access water that is contained in underground aquifers or other water-bearing formations. Well water is typically used for drinking, irrigation, and other purposes, and it is often considered to be of high quality because it is filtered and purified naturally as it flows through the ground. To obtain well water, a person can dig a well or have one dug by a professional well driller. The depth of the well will depend on the location and the geology of the area, and a pump or other mechanical system may be used to bring the water to the surface.\",\n",
    "]"
   ]
  },
  {
   "cell_type": "code",
   "execution_count": null,
   "id": "69fa8109",
   "metadata": {},
   "outputs": [],
   "source": []
  },
  {
   "cell_type": "code",
   "execution_count": 22,
   "id": "01fdee8d",
   "metadata": {},
   "outputs": [],
   "source": [
    "id_list = [\n",
    " '71519c19654251cced50c5718fd527c1',\n",
    " '44195d210c81c8c550174d0edbd3ad5d',\n",
    " '5a5da37b685ec9c6f15228128ce30437',\n",
    " 'cabdfc174953b4bdb8bdcc89d6592c74',\n",
    " 'eac3a4080127e8924034651b57dfa289',\n",
    " 'c0013f31657294b9b5ad819123513ca7',\n",
    " '2681697be70cd5425899ed6deb84b18a',\n",
    " '47f60340b869552e795fa6782224f3d2',\n",
    " '7e8a6eac93147eb52d8151bab7b40003',\n",
    " 'f34267f498c8a78383e35057fbcfa2ce',\n",
    " 'f024f923d78e5c0a4c0c4baa3ddccf05',\n",
    " 'e148c710d0c26849cf1f15293481038b',\n",
    " 'bdf437d7498815f36c255f64a8e6571c',\n",
    " '2282e0c80be28aadadb79a822fec9dac',\n",
    " 'bdd05e96876342b4b5999709439a7f4e',\n",
    " '494b8316614fc64c5c27757aeaffce23_1',\n",
    " 'c4494b402264250dc70931613d482295',\n",
    " 'fcfbf207c5586294fdce33b645b613f1',\n",
    " '9c583bcbe68989a644433302545fb31e',\n",
    " '0e684d779d98e6eecda167c10af42bbb',\n",
    " 'ac0462d09b9fddd40c3c77aedf48a870',\n",
    " '1dbfb41e04a10bdbb085bfe667c0df99',\n",
    " 'cd0c0ef3b8ce0eb09ff26823f6059be6',\n",
    " 'e6b67184b99375d05d3f2887f684c684',\n",
    " 'ae9f6f1e17b3fdd3a86b494933809f45',\n",
    " 'f149604169936a30b7e4c8d599d604b5',\n",
    " 'd7c8377953e0175ef57d59f3a8e63a8e',\n",
    " '1837216ac7745121b82a6491b2318c09',\n",
    " 'b5fe238d45e55ca5d802b7823ad390ef',\n",
    " 'b2fbeb0b48bd5e575af0f7dc24cdd85d',\n",
    " '9bdfb101c487ac598f6e4686cf774703',\n",
    " '206c7116ee2246180fcc0c5a1d0e7205',\n",
    " '5cd7f44bbf730dfae5ef2a362d2e5149',\n",
    " '45d0ea781ffd49b07d6eae94d47a8945',\n",
    " '89afdea1d76272fda8e1538a7d3b7a3f',\n",
    " '38a514fe54108527e1d6e89d9812da93',\n",
    " 'ebf347934a3e90ea46d3d87726fb5d25',\n",
    " '90226a6ecd7308ae1e6220a15ae24bc6',\n",
    " '5cae8057e75e3adf5c338a43b3ba97fb',\n",
    " '388a363c49e1b0aca8eaf18ccdde0caf',\n",
    " '9ed3af82152dfcd7000bf4631b095f71',\n",
    " '2d5805d894bba224c5fe91e70b8c0f77',\n",
    " 'd5aa464a16b72c9b9f3091abd461e3ef',\n",
    " '381b11c54be4cc432a95053ca34cbf6b',\n",
    " '807a3a2dabdd50ed0c76052fd2612632',\n",
    " '5172041c750d22e9a5081cc024de0fa6',\n",
    " 'd32a45ab3b751110d0578a78e54c0e64',\n",
    " '28ca5cbe27774746c34f6ebe84fc6d0c']"
   ]
  },
  {
   "cell_type": "code",
   "execution_count": null,
   "id": "51445c67",
   "metadata": {},
   "outputs": [],
   "source": []
  },
  {
   "cell_type": "code",
   "execution_count": 23,
   "id": "dabe3306",
   "metadata": {},
   "outputs": [],
   "source": [
    "# our_wrong_data_splits['dev']=[]\n",
    "# for x in our_data_splits['dev']:\n",
    "#     for ii in range(5):\n",
    "#         new_x={'id':x['id'], 'real_answer':x['answer'], \n",
    "#                'answer':x['choices'][ii], 'question':x['question'],\n",
    "#                'choices':x['choices'],\n",
    "#                'abstractive_explanation':x['abstractive_explanation'],\n",
    "#                'extractive_explanation':x['extractive_explanation'],\n",
    "#                'our_explanation':x['our_explanation']}\n",
    "#         our_wrong_data_splits['dev'].append(new_x)\n",
    "#     #print(x)\n",
    "#     #pdb.set_trace()\n",
    "# # wandb.init()\n",
    "# our_wrong_dev_data_dict = list2dict(our_wrong_data_splits['dev'])\n",
    "# our_wrong_data_splits['dev'] = datasets.Dataset.from_dict(our_wrong_dev_data_dict)"
   ]
  },
  {
   "cell_type": "code",
   "execution_count": 24,
   "id": "7b62bdf5",
   "metadata": {},
   "outputs": [],
   "source": [
    "# our_wrong_data_splits['train'][0],our_wrong_data_splits['train'][0].keys()\n",
    "# our_wrong_data_splits['train'] = our_wrong_data_splits['train'].map(\n",
    "#             lambda x: format_instance(\n",
    "#                 x,\n",
    "#                 tokenizer,\n",
    "#                 data_args.explanation_sep,\n",
    "#                 datasource=data_args.task_name,\n",
    "#                 io_format=data_args.io_format\n",
    "#             ),\n",
    "#             batched=False,\n",
    "#             load_from_cache_file=False,\n",
    "#         )"
   ]
  },
  {
   "cell_type": "code",
   "execution_count": 25,
   "id": "b421f892",
   "metadata": {},
   "outputs": [],
   "source": [
    "# for da in our_wrong_data_splits['dev']:\n",
    "#     print(\"*******\")\n",
    "#     print(\"question: {}\".format(da['question']))\n",
    "#     print(\"real_answer: {}\".format(da['real_answer']))\n",
    "#     print(\"answer: {}\".format(da['answer']))\n",
    "#     print(\"choices: {}\".format(da['choices']))\n",
    "#     print(\"our_explanation: {}\".format(da['our_explanation']))\n",
    "#     inp_ids = torch.tensor(da[\"input_ids\"], device=model.device).reshape(1, -1)\n",
    "#     out = model.generate(\n",
    "#                     inp_ids,\n",
    "#                     max_length=100,\n",
    "#                     pad_token_id=tokenizer.pad_token_id,\n",
    "#                     eos_token_id=tokenizer.eos_token_id,\n",
    "#                 )\n",
    "#     skip_special_tokens = False if \"infilling\" in data_args.io_format else True\n",
    "#     words = tokenizer.decode(out[0].tolist(), skip_special_tokens=skip_special_tokens)\n",
    "#     print(\"generated explanation: {}\".format(words))\n",
    "#     print(\"#######\")"
   ]
  },
  {
   "cell_type": "code",
   "execution_count": 26,
   "id": "dfa34701",
   "metadata": {},
   "outputs": [],
   "source": [
    "# our_wrong_data_splits['train'][0],our_wrong_data_splits['train'][0].keys()\n",
    "# our_wrong_data_splits['dev'] = our_wrong_data_splits['dev'].map(\n",
    "#             lambda x: format_instance(\n",
    "#                 x,\n",
    "#                 tokenizer,\n",
    "#                 data_args.explanation_sep,\n",
    "#                 datasource=data_args.task_name,\n",
    "#                 io_format=data_args.io_format\n",
    "#             ),\n",
    "#             batched=False,\n",
    "#             load_from_cache_file=False,\n",
    "#         )"
   ]
  },
  {
   "cell_type": "code",
   "execution_count": 27,
   "id": "2e6d6437",
   "metadata": {},
   "outputs": [],
   "source": [
    "# for da in our_wrong_data_splits['dev']:\n",
    "#     print(\"*******\")\n",
    "#     print(\"question: {}\".format(da['question']))\n",
    "#     print(\"real_answer: {}\".format(da['real_answer']))\n",
    "#     print(\"answer: {}\".format(da['answer']))\n",
    "#     print(\"choices: {}\".format(da['choices']))\n",
    "#     print(\"our_explanation: {}\".format(da['our_explanation']))\n",
    "#     inp_ids = torch.tensor(da[\"input_ids\"], device=model.device).reshape(1, -1)\n",
    "#     out = model.generate(\n",
    "#                     inp_ids,\n",
    "#                     max_length=100,\n",
    "#                     pad_token_id=tokenizer.pad_token_id,\n",
    "#                     eos_token_id=tokenizer.eos_token_id,\n",
    "#                 )\n",
    "#     skip_special_tokens = False if \"infilling\" in data_args.io_format else True\n",
    "#     words = tokenizer.decode(out[0].tolist(), skip_special_tokens=skip_special_tokens)\n",
    "#     print(\"generated explanation: {}\".format(words))\n",
    "#     print(\"#######\")"
   ]
  },
  {
   "cell_type": "code",
   "execution_count": 28,
   "id": "91605cfc",
   "metadata": {},
   "outputs": [],
   "source": [
    "# for da in our_wrong_data_splits['train']:\n",
    "#     print(\"*******\")\n",
    "#     print(\"question: {}\".format(da['question']))\n",
    "#     print(\"real_answer: {}\".format(da['real_answer']))\n",
    "#     print(\"answer: {}\".format(da['answer']))\n",
    "#     print(\"choices: {}\".format(da['choices']))\n",
    "#     print(\"our_explanation: {}\".format(da['our_explanation']))\n",
    "#     inp_ids = torch.tensor(da[\"input_ids\"], device=model.device).reshape(1, -1)\n",
    "#     out = model.generate(\n",
    "#                     inp_ids,\n",
    "#                     max_length=100,\n",
    "#                     pad_token_id=tokenizer.pad_token_id,\n",
    "#                     eos_token_id=tokenizer.eos_token_id,\n",
    "#                 )\n",
    "#     skip_special_tokens = False if \"infilling\" in data_args.io_format else True\n",
    "#     words = tokenizer.decode(out[0].tolist(), skip_special_tokens=skip_special_tokens)\n",
    "#     print(\"generated explanation: {}\".format(words))\n",
    "#     print(\"#######\")"
   ]
  },
  {
   "cell_type": "code",
   "execution_count": 29,
   "id": "cbc3e763",
   "metadata": {},
   "outputs": [],
   "source": [
    "# import wandb\n",
    "# training_args.run_name=\"\"\n",
    "training_args.logging_steps=3\n",
    "training_args.save_steps=5\n",
    "training_args.evaluation_strategy=\"epoch\"\n",
    "training_args.num_train_epochs=25\n",
    "training_args.do_eval=True"
   ]
  },
  {
   "cell_type": "code",
   "execution_count": 30,
   "id": "317de5d7",
   "metadata": {},
   "outputs": [
    {
     "data": {
      "text/plain": [
       "TrainingArguments(\n",
       "_n_gpu=1,\n",
       "adafactor=False,\n",
       "adam_beta1=0.9,\n",
       "adam_beta2=0.999,\n",
       "adam_epsilon=1e-08,\n",
       "dataloader_drop_last=False,\n",
       "dataloader_num_workers=0,\n",
       "dataloader_pin_memory=True,\n",
       "ddp_find_unused_parameters=None,\n",
       "debug=[],\n",
       "deepspeed=None,\n",
       "disable_tqdm=False,\n",
       "do_eval=True,\n",
       "do_predict=False,\n",
       "do_train=True,\n",
       "eval_accumulation_steps=None,\n",
       "eval_steps=None,\n",
       "evaluation_strategy=epoch,\n",
       "fp16=False,\n",
       "fp16_backend=auto,\n",
       "fp16_full_eval=False,\n",
       "fp16_opt_level=O1,\n",
       "gradient_accumulation_steps=1,\n",
       "greater_is_better=None,\n",
       "group_by_length=False,\n",
       "ignore_data_skip=False,\n",
       "label_names=None,\n",
       "label_smoothing_factor=0.0,\n",
       "learning_rate=5e-05,\n",
       "length_column_name=length,\n",
       "load_best_model_at_end=False,\n",
       "local_rank=-1,\n",
       "log_level=-1,\n",
       "log_level_replica=-1,\n",
       "log_on_each_node=True,\n",
       "logging_dir=./cos_e_output_t5_large/011323_014104,\n",
       "logging_first_step=False,\n",
       "logging_steps=3,\n",
       "logging_strategy=IntervalStrategy.STEPS,\n",
       "lr_scheduler_type=SchedulerType.LINEAR,\n",
       "max_grad_norm=1.0,\n",
       "max_steps=-1,\n",
       "metric_for_best_model=None,\n",
       "mp_parameters=,\n",
       "no_cuda=False,\n",
       "num_train_epochs=25,\n",
       "output_dir=./cos_e_output_t5_large/011323_014104,\n",
       "overwrite_output_dir=False,\n",
       "past_index=-1,\n",
       "per_device_eval_batch_size=8,\n",
       "per_device_train_batch_size=8,\n",
       "prediction_loss_only=False,\n",
       "push_to_hub=False,\n",
       "push_to_hub_model_id=cos_e_output_t5_large,\n",
       "push_to_hub_organization=None,\n",
       "push_to_hub_token=None,\n",
       "remove_unused_columns=True,\n",
       "report_to=['tensorboard', 'wandb'],\n",
       "resume_from_checkpoint=None,\n",
       "run_name=./cos_e_output_t5_large,\n",
       "save_on_each_node=False,\n",
       "save_steps=5,\n",
       "save_strategy=IntervalStrategy.STEPS,\n",
       "save_total_limit=None,\n",
       "seed=42,\n",
       "sharded_ddp=[],\n",
       "skip_memory_metrics=True,\n",
       "tpu_metrics_debug=False,\n",
       "tpu_num_cores=None,\n",
       "use_legacy_prediction_loop=False,\n",
       "warmup_ratio=0.0,\n",
       "warmup_steps=0,\n",
       "weight_decay=0.0,\n",
       ")"
      ]
     },
     "execution_count": 30,
     "metadata": {},
     "output_type": "execute_result"
    }
   ],
   "source": [
    "training_args"
   ]
  },
  {
   "cell_type": "code",
   "execution_count": 31,
   "id": "de79fb60",
   "metadata": {},
   "outputs": [
    {
     "data": {
      "text/plain": [
       "TrainingArguments(\n",
       "_n_gpu=1,\n",
       "adafactor=False,\n",
       "adam_beta1=0.9,\n",
       "adam_beta2=0.999,\n",
       "adam_epsilon=1e-08,\n",
       "dataloader_drop_last=False,\n",
       "dataloader_num_workers=0,\n",
       "dataloader_pin_memory=True,\n",
       "ddp_find_unused_parameters=None,\n",
       "debug=[],\n",
       "deepspeed=None,\n",
       "disable_tqdm=False,\n",
       "do_eval=True,\n",
       "do_predict=False,\n",
       "do_train=True,\n",
       "eval_accumulation_steps=None,\n",
       "eval_steps=None,\n",
       "evaluation_strategy=epoch,\n",
       "fp16=False,\n",
       "fp16_backend=auto,\n",
       "fp16_full_eval=False,\n",
       "fp16_opt_level=O1,\n",
       "gradient_accumulation_steps=1,\n",
       "greater_is_better=None,\n",
       "group_by_length=False,\n",
       "ignore_data_skip=False,\n",
       "label_names=None,\n",
       "label_smoothing_factor=0.0,\n",
       "learning_rate=5e-05,\n",
       "length_column_name=length,\n",
       "load_best_model_at_end=False,\n",
       "local_rank=-1,\n",
       "log_level=-1,\n",
       "log_level_replica=-1,\n",
       "log_on_each_node=True,\n",
       "logging_dir=./cos_e_output_t5_large/011323_014104,\n",
       "logging_first_step=False,\n",
       "logging_steps=3,\n",
       "logging_strategy=IntervalStrategy.STEPS,\n",
       "lr_scheduler_type=SchedulerType.LINEAR,\n",
       "max_grad_norm=1.0,\n",
       "max_steps=-1,\n",
       "metric_for_best_model=None,\n",
       "mp_parameters=,\n",
       "no_cuda=False,\n",
       "num_train_epochs=25,\n",
       "output_dir=./cos_e_output_t5_large/011323_014104,\n",
       "overwrite_output_dir=False,\n",
       "past_index=-1,\n",
       "per_device_eval_batch_size=8,\n",
       "per_device_train_batch_size=8,\n",
       "prediction_loss_only=False,\n",
       "push_to_hub=False,\n",
       "push_to_hub_model_id=cos_e_output_t5_large,\n",
       "push_to_hub_organization=None,\n",
       "push_to_hub_token=None,\n",
       "remove_unused_columns=True,\n",
       "report_to=['tensorboard', 'wandb'],\n",
       "resume_from_checkpoint=None,\n",
       "run_name=./cos_e_output_t5_large,\n",
       "save_on_each_node=False,\n",
       "save_steps=5,\n",
       "save_strategy=IntervalStrategy.STEPS,\n",
       "save_total_limit=None,\n",
       "seed=42,\n",
       "sharded_ddp=[],\n",
       "skip_memory_metrics=True,\n",
       "tpu_metrics_debug=False,\n",
       "tpu_num_cores=None,\n",
       "use_legacy_prediction_loop=False,\n",
       "warmup_ratio=0.0,\n",
       "warmup_steps=0,\n",
       "weight_decay=0.0,\n",
       ")"
      ]
     },
     "execution_count": 31,
     "metadata": {},
     "output_type": "execute_result"
    }
   ],
   "source": [
    "training_args.per_device_eval_batch_size=8\n",
    "training_args.per_device_train_batch_size=8\n",
    "training_args"
   ]
  },
  {
   "cell_type": "code",
   "execution_count": 32,
   "id": "e80480ec",
   "metadata": {},
   "outputs": [],
   "source": [
    "# data_splits = {'train': None, 'validation': None, 'test': None}\n",
    "# original_data_splits = {'train': None, 'validation': None, 'test': None}  \n",
    "# data_args.io_format=\"t5_fewshot_infilling_with_choices\"\n",
    "# # Data loading from huggingface's datasets\n",
    "# if data_args.task_name in {\"cos_e\", \"esnli\"}:\n",
    "#     version_arg = None\n",
    "#     if data_args.task_name == \"cos_e\":\n",
    "#         assert data_args.version_name in {\"v1.11\", \"v1.0\"}\n",
    "#         version_arg = data_args.version_name\n",
    "\n",
    "#     load_train = True\n",
    "#     if (not training_args.do_train\n",
    "#         and not training_args.do_eval\n",
    "#         and not data_args.train_predict\n",
    "#     ):\n",
    "#         # don't load training dataset\n",
    "#         dataset = {}\n",
    "#         dataset[\"train\"] = None\n",
    "#         dataset[\"validation\"] = datasets.load_dataset(\n",
    "#             data_args.task_name, version_arg, split=\"validation\"\n",
    "#         )\n",
    "#         data_splits['validation'] = dataset[\"validation\"]\n",
    "\n",
    "#         if data_args.task_name == \"esnli\":\n",
    "#             dataset[\"test\"] = datasets.load_dataset(data_args.task_name, split=\"test\")\n",
    "#             data_splits['test'] = dataset[\"test\"]\n",
    "#         load_train = False\n",
    "#     else:\n",
    "#         dataset = datasets.load_dataset(data_args.task_name, version_arg)\n",
    "\n",
    "#         if data_args.n_shots > 0: # Shots = number of training examples **per label** \n",
    "#             if data_args.task_name == 'esnli': # Construct a *balanced* random sample of the size `data_args.n_shots*len(labels)` (for train) or `data_args.fewshot_eval_size` (for eval)\n",
    "#                 for split in [\"train\", \"validation\", \"test\"]:\n",
    "#                     split_data = dataset[split]\n",
    "#                     label_subsets = []\n",
    "#                     labels = split_data.features['label'].names\n",
    "#                     sample_size = data_args.n_shots if split == \"train\" else int(data_args.fewshot_eval_size/len(labels))\n",
    "#                     if data_args.gpt3_max_eval_size is not None and split != 'train':\n",
    "#                         assert len(labels) == 3\n",
    "#                         sample_size = data_args.gpt3_max_eval_size // len(labels)\n",
    "#                     for label in labels:\n",
    "#                         # The following is a hack to only run on `neutral` labels of `esnli` to get data for human eval\n",
    "#                         # if data_args.gpt3_max_eval_size is not None and split != 'train' and label != 'neutral':\n",
    "#                         #     continue\n",
    "#                         label_int = split_data.features['label'].str2int(label)\n",
    "#                         label_set = split_data.filter(lambda example: example['label'] == label_int).shuffle() # all instances of labeled as `label`\n",
    "#                         label_subset = label_set.select(range(sample_size)) #select `sample_size` random instances labeled as `label`\n",
    "#                         label_subsets.append(label_subset)\n",
    "#                     dataset[split] = datasets.concatenate_datasets(label_subsets) #merge all label-specific instances\n",
    "#             elif data_args.task_name == 'cos_e': \n",
    "#                 for split in [\"train\", \"validation\"]: \n",
    "#                     split_data = dataset[split]\n",
    "#                     sample_size = data_args.n_shots if split == \"train\" else int(data_args.fewshot_eval_size) #Shots for QA are not label-specific, i.e., `n_shots` is the training data size\n",
    "#                     if data_args.gpt3_max_eval_size is not None and split != 'train':\n",
    "#                         sample_size = data_args.gpt3_max_eval_size\n",
    "#                     dataset[split] = split_data#.shuffle().select(range(sample_size)) # select `sample_size` random instances\n",
    "#             else: \n",
    "#                 raise ValueError('Only cos_e and esnli are supported by Huggingface datasets.')\n",
    "#     # Apply method, and format dataset to torch.Tensor outputs\n",
    "# #     fse_csqa_train_file=\"/cognitive_comp/huangyongfeng/evaluate_LM_with_rationalization/few_shot_explanations/data/acceptability_annotations/commonsenseqa_train.csv\"\n",
    "# #     fse_csqa_dev_file=\"/cognitive_comp/huangyongfeng/evaluate_LM_with_rationalization/few_shot_explanations/data/acceptability_annotations/commonsenseqa_test.csv\"\n",
    "# #     fse_csqa_train_dataset = datasets.load_dataset('csv', data_files=fse_csqa_train_file)\n",
    "# #     fse_csqa_dev_dataset = datasets.load_dataset('csv', data_files=fse_csqa_dev_file)\n",
    "# #     train_ids_list=[x['id'] for x in data_splits[\"train\"]]\n",
    "# #     dev_ids_list=[x['id'] for x in data_splits[\"validation\"]]\n",
    "# #     fse_train_ids_list=[x['Input.id'] for x in fse_csqa_train_dataset['train']]\n",
    "# #     fse_dev_ids_list=[x['Input.id'] for x in fse_csqa_dev_dataset['train']]\n",
    "# #     fse_train_indexs_list=[train_ids_list.index(id_) for id_ in fse_train_ids_list]\n",
    "# #     fse_dev_indexs_list=[dev_ids_list.index(id_) for id_ in fse_dev_ids_list]\n",
    "# #     print(len(fse_train_indexs_list), len(fse_dev_indexs_list))\n",
    "# #     # print(fse_train_indexs_list,fse_dev_indexs_list)\n",
    "# #     fse_data_splits={}\n",
    "# #     data_splits['train']=data_splits[\"train\"].select(fse_train_indexs_list)\n",
    "# #     data_splits['validation']=data_splits[\"validation\"].select(fse_train_indexs_list)\n",
    "#     for split in dataset.keys():\n",
    "#         if dataset[split] is not None:\n",
    "#             dataset[split] = dataset[split].map(\n",
    "#                 lambda x: format_instance(\n",
    "#                     x,\n",
    "#                     tokenizer,\n",
    "#                     data_args.explanation_sep,\n",
    "#                     datasource=data_args.task_name,\n",
    "#                     io_format=data_args.io_format\n",
    "#                 ),\n",
    "#                 batched=False,\n",
    "#                 load_from_cache_file=False,\n",
    "#             )\n",
    "#     data_splits[\"train\"] = deepcopy(dataset[\"train\"])\n",
    "#     data_splits[\"validation\"] = deepcopy(dataset[\"validation\"])\n",
    "#     if data_args.task_name == \"esnli\":\n",
    "#         data_splits[\"test\"] = deepcopy(dataset[\"test\"])\n",
    "\n",
    "#     original_data_splits[\"train\"] = deepcopy(dataset[\"train\"])\n",
    "#     original_data_splits[\"validation\"] = deepcopy(dataset[\"validation\"])\n",
    "#     if data_args.task_name == \"esnli\":\n",
    "#         original_data_splits[\"test\"] = deepcopy(dataset[\"test\"])"
   ]
  },
  {
   "cell_type": "code",
   "execution_count": 33,
   "id": "2f4cb867",
   "metadata": {},
   "outputs": [],
   "source": [
    "# import pandas as pd\n",
    "# # new_data_splits={'train': None, 'validation': None}\n",
    "# # new_data_splits['train']=deepcopy(dataset[\"train\"])\n",
    "# # new_data_splits['validation']=deepcopy(dataset[\"validation\"])\n",
    "# fse_csqa_train_file=\"/cognitive_comp/huangyongfeng/evaluate_LM_with_rationalization/few_shot_explanations/data/acceptability_annotations/commonsenseqa_train.csv\"\n",
    "# fse_csqa_dev_file=\"/cognitive_comp/huangyongfeng/evaluate_LM_with_rationalization/few_shot_explanations/data/acceptability_annotations/commonsenseqa_test.csv\"\n",
    "# # fse_csqa_train_dataset = datasets.load_dataset('csv', data_files=fse_csqa_train_file)\n",
    "# # fse_csqa_dev_dataset = datasets.load_dataset('csv', data_files=fse_csqa_dev_file)\n",
    "\n",
    "# train_df=pd.read_csv(fse_csqa_train_file)\n",
    "\n",
    "# dev_df=pd.read_csv(fse_csqa_dev_file)\n",
    "\n",
    "# dev_df\n"
   ]
  },
  {
   "cell_type": "code",
   "execution_count": 34,
   "id": "42739e9b",
   "metadata": {},
   "outputs": [],
   "source": [
    "# len(fse_train_ids_list),len(list(set(fse_train_ids_list)))"
   ]
  },
  {
   "cell_type": "code",
   "execution_count": 35,
   "id": "c78ea825",
   "metadata": {},
   "outputs": [],
   "source": [
    "# train_ids_list=[x['id'] for x in data_splits[\"train\"]]\n",
    "# dev_ids_list=[x['id'] for x in data_splits[\"validation\"]]\n",
    "# fse_train_ids_list=[x['Input.id'] for x in fse_csqa_train_dataset['train']]\n",
    "# fse_dev_ids_list=[x['Input.id'] for x in fse_csqa_dev_dataset['train']]\n"
   ]
  },
  {
   "cell_type": "code",
   "execution_count": 36,
   "id": "80395518",
   "metadata": {},
   "outputs": [],
   "source": [
    "# fse_train_indexs_list=[train_ids_list.index(id_) for id_ in fse_train_ids_list]\n",
    "# fse_dev_indexs_list=[dev_ids_list.index(id_) for id_ in fse_dev_ids_list]\n",
    "# print(len(fse_train_indexs_list), len(fse_dev_indexs_list))\n",
    "# # print(fse_train_indexs_list,fse_dev_indexs_list)\n",
    "# fse_data_splits={}\n",
    "# fse_data_splits['train']=data_splits[\"train\"].select(fse_train_indexs_list)\n",
    "# fse_data_splits['validation']=data_splits[\"validation\"].select(fse_train_indexs_list)"
   ]
  },
  {
   "cell_type": "code",
   "execution_count": 37,
   "id": "4d186954",
   "metadata": {},
   "outputs": [],
   "source": [
    "# fse_csqa_train_dataset['train'][0].keys()"
   ]
  },
  {
   "cell_type": "code",
   "execution_count": 38,
   "id": "66dd71d4",
   "metadata": {},
   "outputs": [],
   "source": [
    "class SequenceCollator:\n",
    "    def __init__(self, model, pad_token):\n",
    "        self.model = model\n",
    "        self.pad_token_mapping = {\n",
    "            \"labels\": -100,\n",
    "            \"attention_mask\": 0,\n",
    "            \"decoder_attention_mask\": 0,\n",
    "            \"input_ids\": pad_token,\n",
    "        }\n",
    "\n",
    "        self.columns = [\n",
    "            \"input_ids\",\n",
    "            \"attention_mask\",\n",
    "            \"labels\",\n",
    "            \"decoder_attention_mask\",\n",
    "        ]\n",
    "\n",
    "    def __call__(self, examples: List[Dict[str, InputDataClass]]) -> Dict[str, torch.Tensor]:\n",
    "        # re-format inputs for training\n",
    "        batch = {}\n",
    "        for key in examples[0].keys():\n",
    "            if key in self.columns:\n",
    "                tmp_list = []\n",
    "                for item in examples:\n",
    "                    tmp_list.append(item[key])\n",
    "\n",
    "                # pad lists to max length\n",
    "                if isinstance(tmp_list[0], list):\n",
    "                    max_length = max(map(len, tmp_list))\n",
    "                    tmp_list = [\n",
    "                        el + [self.pad_token_mapping[key]] * (max_length - len(el))\n",
    "                        for el in tmp_list\n",
    "                    ]\n",
    "\n",
    "                batch[key] = torch.tensor(tmp_list, dtype=torch.long)\n",
    "        return batch"
   ]
  },
  {
   "cell_type": "code",
   "execution_count": 39,
   "id": "f144515d",
   "metadata": {},
   "outputs": [
    {
     "name": "stderr",
     "output_type": "stream",
     "text": [
      "You are adding a <class 'transformers.integrations.TensorBoardCallback'> to the callbacks of this Trainer, but there is already one. The currentlist of callbacks is\n",
      ":DefaultFlowCallback\n",
      "TensorBoardCallback\n",
      "WandbCallback\n",
      "The following columns in the training set  don't have a corresponding argument in `T5ForConditionalGeneration.forward` and have been ignored: abstractive_explanation, question_encoding, choices, answer, id, our_explanation, question, extractive_explanation.\n",
      "***** Running training *****\n",
      "  Num examples = 72\n",
      "  Num Epochs = 25\n",
      "  Instantaneous batch size per device = 8\n",
      "  Total train batch size (w. parallel, distributed & accumulation) = 8\n",
      "  Gradient Accumulation steps = 1\n",
      "  Total optimization steps = 225\n",
      "Automatic Weights & Biases logging enabled, to disable set os.environ[\"WANDB_DISABLED\"] = \"true\"\n"
     ]
    },
    {
     "data": {
      "text/html": [
       "Changes to your `wandb` environment variables will be ignored because your `wandb` session has already started. For more information on how to modify your settings with `wandb.init()` arguments, please refer to <a href=\"https://wandb.me/wandb-init\" target=\"_blank\">the W&B docs</a>."
      ],
      "text/plain": [
       "<IPython.core.display.HTML object>"
      ]
     },
     "metadata": {},
     "output_type": "display_data"
    },
    {
     "data": {
      "text/html": [
       "wandb version 0.13.8 is available!  To upgrade, please run:\n",
       " $ pip install wandb --upgrade"
      ],
      "text/plain": [
       "<IPython.core.display.HTML object>"
      ]
     },
     "metadata": {},
     "output_type": "display_data"
    },
    {
     "data": {
      "text/html": [
       "Tracking run with wandb version 0.13.5"
      ],
      "text/plain": [
       "<IPython.core.display.HTML object>"
      ]
     },
     "metadata": {},
     "output_type": "display_data"
    },
    {
     "data": {
      "text/html": [
       "Run data is saved locally in <code>/cognitive_comp/huangyongfeng/evaluate_LM_with_rationalization/scripts/wandb/run-20230113_014127-2hkn1r1r</code>"
      ],
      "text/plain": [
       "<IPython.core.display.HTML object>"
      ]
     },
     "metadata": {},
     "output_type": "display_data"
    },
    {
     "data": {
      "text/html": [
       "Syncing run <strong><a href=\"https://wandb.ai/cuhk_lavilab/evaluate_LM_with_rationalization/runs/2hkn1r1r\" target=\"_blank\">./cos_e_output_t5_large</a></strong> to <a href=\"https://wandb.ai/cuhk_lavilab/evaluate_LM_with_rationalization\" target=\"_blank\">Weights & Biases</a> (<a href=\"https://wandb.me/run\" target=\"_blank\">docs</a>)<br/>"
      ],
      "text/plain": [
       "<IPython.core.display.HTML object>"
      ]
     },
     "metadata": {},
     "output_type": "display_data"
    },
    {
     "data": {
      "text/html": [
       "\n",
       "    <div>\n",
       "      \n",
       "      <progress value='225' max='225' style='width:300px; height:20px; vertical-align: middle;'></progress>\n",
       "      [225/225 09:43, Epoch 25/25]\n",
       "    </div>\n",
       "    <table border=\"1\" class=\"dataframe\">\n",
       "  <thead>\n",
       "    <tr style=\"text-align: left;\">\n",
       "      <th>Step</th>\n",
       "      <th>Training Loss</th>\n",
       "      <th>Validation Loss</th>\n",
       "    </tr>\n",
       "  </thead>\n",
       "  <tbody>\n",
       "  </tbody>\n",
       "</table><p>"
      ],
      "text/plain": [
       "<IPython.core.display.HTML object>"
      ]
     },
     "metadata": {},
     "output_type": "display_data"
    },
    {
     "name": "stderr",
     "output_type": "stream",
     "text": [
      "Saving model checkpoint to ./cos_e_output_t5_large/011323_014104/checkpoint-5\n",
      "Configuration saved in ./cos_e_output_t5_large/011323_014104/checkpoint-5/config.json\n",
      "Model weights saved in ./cos_e_output_t5_large/011323_014104/checkpoint-5/pytorch_model.bin\n",
      "Saving model checkpoint to ./cos_e_output_t5_large/011323_014104/checkpoint-10\n",
      "Configuration saved in ./cos_e_output_t5_large/011323_014104/checkpoint-10/config.json\n",
      "Model weights saved in ./cos_e_output_t5_large/011323_014104/checkpoint-10/pytorch_model.bin\n",
      "Saving model checkpoint to ./cos_e_output_t5_large/011323_014104/checkpoint-15\n",
      "Configuration saved in ./cos_e_output_t5_large/011323_014104/checkpoint-15/config.json\n",
      "Model weights saved in ./cos_e_output_t5_large/011323_014104/checkpoint-15/pytorch_model.bin\n",
      "Saving model checkpoint to ./cos_e_output_t5_large/011323_014104/checkpoint-20\n",
      "Configuration saved in ./cos_e_output_t5_large/011323_014104/checkpoint-20/config.json\n",
      "Model weights saved in ./cos_e_output_t5_large/011323_014104/checkpoint-20/pytorch_model.bin\n",
      "Saving model checkpoint to ./cos_e_output_t5_large/011323_014104/checkpoint-25\n",
      "Configuration saved in ./cos_e_output_t5_large/011323_014104/checkpoint-25/config.json\n",
      "Model weights saved in ./cos_e_output_t5_large/011323_014104/checkpoint-25/pytorch_model.bin\n",
      "Saving model checkpoint to ./cos_e_output_t5_large/011323_014104/checkpoint-30\n",
      "Configuration saved in ./cos_e_output_t5_large/011323_014104/checkpoint-30/config.json\n",
      "Model weights saved in ./cos_e_output_t5_large/011323_014104/checkpoint-30/pytorch_model.bin\n",
      "Saving model checkpoint to ./cos_e_output_t5_large/011323_014104/checkpoint-35\n",
      "Configuration saved in ./cos_e_output_t5_large/011323_014104/checkpoint-35/config.json\n",
      "Model weights saved in ./cos_e_output_t5_large/011323_014104/checkpoint-35/pytorch_model.bin\n",
      "Saving model checkpoint to ./cos_e_output_t5_large/011323_014104/checkpoint-40\n",
      "Configuration saved in ./cos_e_output_t5_large/011323_014104/checkpoint-40/config.json\n",
      "Model weights saved in ./cos_e_output_t5_large/011323_014104/checkpoint-40/pytorch_model.bin\n",
      "Saving model checkpoint to ./cos_e_output_t5_large/011323_014104/checkpoint-45\n",
      "Configuration saved in ./cos_e_output_t5_large/011323_014104/checkpoint-45/config.json\n",
      "Model weights saved in ./cos_e_output_t5_large/011323_014104/checkpoint-45/pytorch_model.bin\n",
      "Saving model checkpoint to ./cos_e_output_t5_large/011323_014104/checkpoint-50\n",
      "Configuration saved in ./cos_e_output_t5_large/011323_014104/checkpoint-50/config.json\n",
      "Model weights saved in ./cos_e_output_t5_large/011323_014104/checkpoint-50/pytorch_model.bin\n",
      "Saving model checkpoint to ./cos_e_output_t5_large/011323_014104/checkpoint-55\n",
      "Configuration saved in ./cos_e_output_t5_large/011323_014104/checkpoint-55/config.json\n",
      "Model weights saved in ./cos_e_output_t5_large/011323_014104/checkpoint-55/pytorch_model.bin\n",
      "Saving model checkpoint to ./cos_e_output_t5_large/011323_014104/checkpoint-60\n",
      "Configuration saved in ./cos_e_output_t5_large/011323_014104/checkpoint-60/config.json\n",
      "Model weights saved in ./cos_e_output_t5_large/011323_014104/checkpoint-60/pytorch_model.bin\n",
      "Saving model checkpoint to ./cos_e_output_t5_large/011323_014104/checkpoint-65\n",
      "Configuration saved in ./cos_e_output_t5_large/011323_014104/checkpoint-65/config.json\n",
      "Model weights saved in ./cos_e_output_t5_large/011323_014104/checkpoint-65/pytorch_model.bin\n",
      "Saving model checkpoint to ./cos_e_output_t5_large/011323_014104/checkpoint-70\n",
      "Configuration saved in ./cos_e_output_t5_large/011323_014104/checkpoint-70/config.json\n",
      "Model weights saved in ./cos_e_output_t5_large/011323_014104/checkpoint-70/pytorch_model.bin\n",
      "Saving model checkpoint to ./cos_e_output_t5_large/011323_014104/checkpoint-75\n",
      "Configuration saved in ./cos_e_output_t5_large/011323_014104/checkpoint-75/config.json\n",
      "Model weights saved in ./cos_e_output_t5_large/011323_014104/checkpoint-75/pytorch_model.bin\n",
      "Saving model checkpoint to ./cos_e_output_t5_large/011323_014104/checkpoint-80\n",
      "Configuration saved in ./cos_e_output_t5_large/011323_014104/checkpoint-80/config.json\n",
      "Model weights saved in ./cos_e_output_t5_large/011323_014104/checkpoint-80/pytorch_model.bin\n",
      "Saving model checkpoint to ./cos_e_output_t5_large/011323_014104/checkpoint-85\n",
      "Configuration saved in ./cos_e_output_t5_large/011323_014104/checkpoint-85/config.json\n",
      "Model weights saved in ./cos_e_output_t5_large/011323_014104/checkpoint-85/pytorch_model.bin\n",
      "Saving model checkpoint to ./cos_e_output_t5_large/011323_014104/checkpoint-90\n",
      "Configuration saved in ./cos_e_output_t5_large/011323_014104/checkpoint-90/config.json\n",
      "Model weights saved in ./cos_e_output_t5_large/011323_014104/checkpoint-90/pytorch_model.bin\n",
      "Saving model checkpoint to ./cos_e_output_t5_large/011323_014104/checkpoint-95\n",
      "Configuration saved in ./cos_e_output_t5_large/011323_014104/checkpoint-95/config.json\n",
      "Model weights saved in ./cos_e_output_t5_large/011323_014104/checkpoint-95/pytorch_model.bin\n",
      "Saving model checkpoint to ./cos_e_output_t5_large/011323_014104/checkpoint-100\n",
      "Configuration saved in ./cos_e_output_t5_large/011323_014104/checkpoint-100/config.json\n",
      "Model weights saved in ./cos_e_output_t5_large/011323_014104/checkpoint-100/pytorch_model.bin\n",
      "Saving model checkpoint to ./cos_e_output_t5_large/011323_014104/checkpoint-105\n",
      "Configuration saved in ./cos_e_output_t5_large/011323_014104/checkpoint-105/config.json\n",
      "Model weights saved in ./cos_e_output_t5_large/011323_014104/checkpoint-105/pytorch_model.bin\n",
      "Saving model checkpoint to ./cos_e_output_t5_large/011323_014104/checkpoint-110\n",
      "Configuration saved in ./cos_e_output_t5_large/011323_014104/checkpoint-110/config.json\n",
      "Model weights saved in ./cos_e_output_t5_large/011323_014104/checkpoint-110/pytorch_model.bin\n",
      "Saving model checkpoint to ./cos_e_output_t5_large/011323_014104/checkpoint-115\n",
      "Configuration saved in ./cos_e_output_t5_large/011323_014104/checkpoint-115/config.json\n",
      "Model weights saved in ./cos_e_output_t5_large/011323_014104/checkpoint-115/pytorch_model.bin\n",
      "Saving model checkpoint to ./cos_e_output_t5_large/011323_014104/checkpoint-120\n",
      "Configuration saved in ./cos_e_output_t5_large/011323_014104/checkpoint-120/config.json\n",
      "Model weights saved in ./cos_e_output_t5_large/011323_014104/checkpoint-120/pytorch_model.bin\n",
      "Saving model checkpoint to ./cos_e_output_t5_large/011323_014104/checkpoint-125\n",
      "Configuration saved in ./cos_e_output_t5_large/011323_014104/checkpoint-125/config.json\n",
      "Model weights saved in ./cos_e_output_t5_large/011323_014104/checkpoint-125/pytorch_model.bin\n",
      "Saving model checkpoint to ./cos_e_output_t5_large/011323_014104/checkpoint-130\n",
      "Configuration saved in ./cos_e_output_t5_large/011323_014104/checkpoint-130/config.json\n",
      "Model weights saved in ./cos_e_output_t5_large/011323_014104/checkpoint-130/pytorch_model.bin\n",
      "Saving model checkpoint to ./cos_e_output_t5_large/011323_014104/checkpoint-135\n",
      "Configuration saved in ./cos_e_output_t5_large/011323_014104/checkpoint-135/config.json\n",
      "Model weights saved in ./cos_e_output_t5_large/011323_014104/checkpoint-135/pytorch_model.bin\n",
      "Saving model checkpoint to ./cos_e_output_t5_large/011323_014104/checkpoint-140\n",
      "Configuration saved in ./cos_e_output_t5_large/011323_014104/checkpoint-140/config.json\n",
      "Model weights saved in ./cos_e_output_t5_large/011323_014104/checkpoint-140/pytorch_model.bin\n",
      "Saving model checkpoint to ./cos_e_output_t5_large/011323_014104/checkpoint-145\n",
      "Configuration saved in ./cos_e_output_t5_large/011323_014104/checkpoint-145/config.json\n",
      "Model weights saved in ./cos_e_output_t5_large/011323_014104/checkpoint-145/pytorch_model.bin\n",
      "Saving model checkpoint to ./cos_e_output_t5_large/011323_014104/checkpoint-150\n",
      "Configuration saved in ./cos_e_output_t5_large/011323_014104/checkpoint-150/config.json\n",
      "Model weights saved in ./cos_e_output_t5_large/011323_014104/checkpoint-150/pytorch_model.bin\n",
      "Saving model checkpoint to ./cos_e_output_t5_large/011323_014104/checkpoint-155\n",
      "Configuration saved in ./cos_e_output_t5_large/011323_014104/checkpoint-155/config.json\n",
      "Model weights saved in ./cos_e_output_t5_large/011323_014104/checkpoint-155/pytorch_model.bin\n",
      "Saving model checkpoint to ./cos_e_output_t5_large/011323_014104/checkpoint-160\n",
      "Configuration saved in ./cos_e_output_t5_large/011323_014104/checkpoint-160/config.json\n"
     ]
    },
    {
     "name": "stderr",
     "output_type": "stream",
     "text": [
      "Model weights saved in ./cos_e_output_t5_large/011323_014104/checkpoint-160/pytorch_model.bin\n",
      "Saving model checkpoint to ./cos_e_output_t5_large/011323_014104/checkpoint-165\n",
      "Configuration saved in ./cos_e_output_t5_large/011323_014104/checkpoint-165/config.json\n",
      "Model weights saved in ./cos_e_output_t5_large/011323_014104/checkpoint-165/pytorch_model.bin\n",
      "Saving model checkpoint to ./cos_e_output_t5_large/011323_014104/checkpoint-170\n",
      "Configuration saved in ./cos_e_output_t5_large/011323_014104/checkpoint-170/config.json\n",
      "Model weights saved in ./cos_e_output_t5_large/011323_014104/checkpoint-170/pytorch_model.bin\n",
      "Saving model checkpoint to ./cos_e_output_t5_large/011323_014104/checkpoint-175\n",
      "Configuration saved in ./cos_e_output_t5_large/011323_014104/checkpoint-175/config.json\n",
      "Model weights saved in ./cos_e_output_t5_large/011323_014104/checkpoint-175/pytorch_model.bin\n",
      "Saving model checkpoint to ./cos_e_output_t5_large/011323_014104/checkpoint-180\n",
      "Configuration saved in ./cos_e_output_t5_large/011323_014104/checkpoint-180/config.json\n",
      "Model weights saved in ./cos_e_output_t5_large/011323_014104/checkpoint-180/pytorch_model.bin\n",
      "Saving model checkpoint to ./cos_e_output_t5_large/011323_014104/checkpoint-185\n",
      "Configuration saved in ./cos_e_output_t5_large/011323_014104/checkpoint-185/config.json\n",
      "Model weights saved in ./cos_e_output_t5_large/011323_014104/checkpoint-185/pytorch_model.bin\n",
      "Saving model checkpoint to ./cos_e_output_t5_large/011323_014104/checkpoint-190\n",
      "Configuration saved in ./cos_e_output_t5_large/011323_014104/checkpoint-190/config.json\n",
      "Model weights saved in ./cos_e_output_t5_large/011323_014104/checkpoint-190/pytorch_model.bin\n",
      "Saving model checkpoint to ./cos_e_output_t5_large/011323_014104/checkpoint-195\n",
      "Configuration saved in ./cos_e_output_t5_large/011323_014104/checkpoint-195/config.json\n",
      "Model weights saved in ./cos_e_output_t5_large/011323_014104/checkpoint-195/pytorch_model.bin\n",
      "Saving model checkpoint to ./cos_e_output_t5_large/011323_014104/checkpoint-200\n",
      "Configuration saved in ./cos_e_output_t5_large/011323_014104/checkpoint-200/config.json\n",
      "Model weights saved in ./cos_e_output_t5_large/011323_014104/checkpoint-200/pytorch_model.bin\n",
      "Saving model checkpoint to ./cos_e_output_t5_large/011323_014104/checkpoint-205\n",
      "Configuration saved in ./cos_e_output_t5_large/011323_014104/checkpoint-205/config.json\n",
      "Model weights saved in ./cos_e_output_t5_large/011323_014104/checkpoint-205/pytorch_model.bin\n",
      "Saving model checkpoint to ./cos_e_output_t5_large/011323_014104/checkpoint-210\n",
      "Configuration saved in ./cos_e_output_t5_large/011323_014104/checkpoint-210/config.json\n",
      "Model weights saved in ./cos_e_output_t5_large/011323_014104/checkpoint-210/pytorch_model.bin\n",
      "Saving model checkpoint to ./cos_e_output_t5_large/011323_014104/checkpoint-215\n",
      "Configuration saved in ./cos_e_output_t5_large/011323_014104/checkpoint-215/config.json\n",
      "Model weights saved in ./cos_e_output_t5_large/011323_014104/checkpoint-215/pytorch_model.bin\n",
      "Saving model checkpoint to ./cos_e_output_t5_large/011323_014104/checkpoint-220\n",
      "Configuration saved in ./cos_e_output_t5_large/011323_014104/checkpoint-220/config.json\n",
      "Model weights saved in ./cos_e_output_t5_large/011323_014104/checkpoint-220/pytorch_model.bin\n",
      "Saving model checkpoint to ./cos_e_output_t5_large/011323_014104/checkpoint-225\n",
      "Configuration saved in ./cos_e_output_t5_large/011323_014104/checkpoint-225/config.json\n",
      "Model weights saved in ./cos_e_output_t5_large/011323_014104/checkpoint-225/pytorch_model.bin\n",
      "\n",
      "\n",
      "Training completed. Do not forget to share your model on huggingface.co/models =)\n",
      "\n",
      "\n"
     ]
    },
    {
     "data": {
      "text/html": [
       "Waiting for W&B process to finish... <strong style=\"color:green\">(success).</strong>"
      ],
      "text/plain": [
       "<IPython.core.display.HTML object>"
      ]
     },
     "metadata": {},
     "output_type": "display_data"
    },
    {
     "data": {
      "text/html": [
       "<style>\n",
       "    table.wandb td:nth-child(1) { padding: 0 10px; text-align: left ; width: auto;} td:nth-child(2) {text-align: left ; width: 100%}\n",
       "    .wandb-row { display: flex; flex-direction: row; flex-wrap: wrap; justify-content: flex-start; width: 100% }\n",
       "    .wandb-col { display: flex; flex-direction: column; flex-basis: 100%; flex: 1; padding: 10px; }\n",
       "    </style>\n",
       "<div class=\"wandb-row\"><div class=\"wandb-col\"><h3>Run history:</h3><br/><table class=\"wandb\"><tr><td>train/epoch</td><td>▁▁▁▁▂▂▂▂▂▃▃▃▃▃▃▄▄▄▄▄▅▅▅▅▅▆▆▆▆▆▆▇▇▇▇▇████</td></tr><tr><td>train/global_step</td><td>▁▁▁▁▂▂▂▂▂▃▃▃▃▃▃▄▄▄▄▄▅▅▅▅▅▆▆▆▆▆▆▇▇▇▇▇████</td></tr><tr><td>train/learning_rate</td><td>████▇▇▇▇▇▆▆▆▆▆▆▅▅▅▅▅▅▄▄▄▄▄▃▃▃▃▃▃▂▂▂▂▂▁▁▁</td></tr><tr><td>train/loss</td><td>█▆▂▂▂▂▂▁▁▁▁▁▁▁▁▁▁▁▁▁▁▁▁▁▁▁▁▁▁▁▁▁▁▁▁▁▁▁▁▁</td></tr><tr><td>train/total_flos</td><td>▁</td></tr><tr><td>train/train_loss</td><td>▁</td></tr><tr><td>train/train_runtime</td><td>▁</td></tr><tr><td>train/train_samples_per_second</td><td>▁</td></tr><tr><td>train/train_steps_per_second</td><td>▁</td></tr></table><br/></div><div class=\"wandb-col\"><h3>Run summary:</h3><br/><table class=\"wandb\"><tr><td>train/epoch</td><td>25.0</td></tr><tr><td>train/global_step</td><td>225</td></tr><tr><td>train/learning_rate</td><td>0.0</td></tr><tr><td>train/loss</td><td>2.0057</td></tr><tr><td>train/total_flos</td><td>83788799754240.0</td></tr><tr><td>train/train_loss</td><td>2.6703</td></tr><tr><td>train/train_runtime</td><td>591.4488</td></tr><tr><td>train/train_samples_per_second</td><td>3.043</td></tr><tr><td>train/train_steps_per_second</td><td>0.38</td></tr></table><br/></div></div>"
      ],
      "text/plain": [
       "<IPython.core.display.HTML object>"
      ]
     },
     "metadata": {},
     "output_type": "display_data"
    },
    {
     "data": {
      "text/html": [
       "Synced <strong style=\"color:#cdcd00\">./cos_e_output_t5_large</strong>: <a href=\"https://wandb.ai/cuhk_lavilab/evaluate_LM_with_rationalization/runs/2hkn1r1r\" target=\"_blank\">https://wandb.ai/cuhk_lavilab/evaluate_LM_with_rationalization/runs/2hkn1r1r</a><br/>Synced 6 W&B file(s), 0 media file(s), 0 artifact file(s) and 0 other file(s)"
      ],
      "text/plain": [
       "<IPython.core.display.HTML object>"
      ]
     },
     "metadata": {},
     "output_type": "display_data"
    },
    {
     "data": {
      "text/html": [
       "Find logs at: <code>./wandb/run-20230113_014127-2hkn1r1r/logs</code>"
      ],
      "text/plain": [
       "<IPython.core.display.HTML object>"
      ]
     },
     "metadata": {},
     "output_type": "display_data"
    }
   ],
   "source": [
    "# os.environ[\"WANDB_DISABLED\"] = \"True\"\n",
    "if data_args.generations_filepath is None:\n",
    "    callbacks = [TensorBoardCallback()]\n",
    "    if data_args.early_stopping_patience > 0:\n",
    "        callbacks.append(EarlyStoppingCallback(early_stopping_patience=data_args.early_stopping_patience))\n",
    "        training_args.load_best_model_at_end = True\n",
    "    else:\n",
    "        training_args.load_best_model_at_end = False  # use the last model state\n",
    "    training_args.metric_for_best_model = 'eval_loss'\n",
    "    training_args.greater_is_better = False\n",
    "    if training_args.eval_steps is None:\n",
    "        training_args.evaluation_strategy = EvaluationStrategy.EPOCH\n",
    "    else:\n",
    "        training_args.evaluation_strategy = EvaluationStrategy.STEPS\n",
    "\n",
    "    trainer = Trainer(\n",
    "        model=model,\n",
    "        args=training_args,\n",
    "        train_dataset=our_data_splits['train'],\n",
    "        eval_dataset=our_data_splits['dev'],\n",
    "        data_collator=SequenceCollator(\n",
    "            model=model_class, pad_token=tokenizer.pad_token_id\n",
    "        ),\n",
    "        callbacks=callbacks,\n",
    "    )\n",
    "\n",
    "# Training. Don't train if it is use_gpt3\n",
    "if training_args.do_train and not model_args.use_gpt3:\n",
    "    start_time = time.time()\n",
    "    trainer.train()\n",
    "    train_time = time.time() - start_time\n",
    "    model = trainer.model\n",
    "    wandb.finish()\n",
    "else:\n",
    "    start_time = time.time()\n",
    "    train_time = time.time() - start_time"
   ]
  },
  {
   "cell_type": "code",
   "execution_count": 40,
   "id": "ade3c632",
   "metadata": {},
   "outputs": [],
   "source": [
    "# print(our_data_splits['dev'][0]['our_explanation'])\n",
    "# inp_ids=torch.tensor(our_data_splits['dev'][0][\"input_ids\"], device=model.device).reshape(1, -1)\n",
    "# out = model.generate(\n",
    "#                     inp_ids,\n",
    "#                     max_length=100,\n",
    "#                     pad_token_id=tokenizer.pad_token_id,\n",
    "#                     eos_token_id=tokenizer.eos_token_id,\n",
    "#                 )\n",
    "# skip_special_tokens = False if \"infilling\" in data_args.io_format else True\n",
    "# words = tokenizer.decode(out[0].tolist(), skip_special_tokens=skip_special_tokens)\n",
    "# print(words)"
   ]
  },
  {
   "cell_type": "code",
   "execution_count": 41,
   "id": "b88935f8",
   "metadata": {},
   "outputs": [],
   "source": [
    "# len(our_data_splits['dev']),len(our_data_splits['train'])"
   ]
  },
  {
   "cell_type": "code",
   "execution_count": 42,
   "id": "8eda472b",
   "metadata": {},
   "outputs": [],
   "source": [
    "# our_data_splits['dev']"
   ]
  },
  {
   "cell_type": "code",
   "execution_count": 43,
   "id": "77c15190",
   "metadata": {},
   "outputs": [],
   "source": [
    "# for da in our_data_splits['train']:\n",
    "#     print(\"*******\")\n",
    "#     print(\"question: {}\".format(da['question']))\n",
    "#     print(\"answer: {}\".format(da['answer']))\n",
    "#     print(\"choices: {}\".format(da['choices']))\n",
    "#     print(\"our_explanation: {}\".format(da['our_explanation']))\n",
    "#     inp_ids = torch.tensor(da[\"input_ids\"], device=model.device).reshape(1, -1)\n",
    "#     out = model.generate(\n",
    "#                     inp_ids,\n",
    "#                     max_length=100,\n",
    "#                     pad_token_id=tokenizer.pad_token_id,\n",
    "#                     eos_token_id=tokenizer.eos_token_id,\n",
    "#                 )\n",
    "#     skip_special_tokens = False if \"infilling\" in data_args.io_format else True\n",
    "#     words = tokenizer.decode(out[0].tolist(), skip_special_tokens=skip_special_tokens)\n",
    "#     print(\"generated explanation: {}\".format(words))\n",
    "#     print(\"#######\")"
   ]
  },
  {
   "cell_type": "code",
   "execution_count": 44,
   "id": "2ca6cbe4",
   "metadata": {},
   "outputs": [],
   "source": [
    "# for da in our_data_splits['dev']:\n",
    "#     print(\"*******\")\n",
    "#     print(\"question: {}\".format(da['question']))\n",
    "#     print(\"answer: {}\".format(da['answer']))\n",
    "#     print(\"choices: {}\".format(da['choices']))\n",
    "#     print(\"our_explanation: {}\".format(da['our_explanation']))\n",
    "#     inp_ids = torch.tensor(da[\"input_ids\"], device=model.device).reshape(1, -1)\n",
    "#     out = model.generate(\n",
    "#                     inp_ids,\n",
    "#                     max_length=100,\n",
    "#                     pad_token_id=tokenizer.pad_token_id,\n",
    "#                     eos_token_id=tokenizer.eos_token_id,\n",
    "#                 )\n",
    "#     skip_special_tokens = False if \"infilling\" in data_args.io_format else True\n",
    "#     words = tokenizer.decode(out[0].tolist(), skip_special_tokens=skip_special_tokens)\n",
    "#     print(\"generated explanation: {}\".format(words))\n",
    "#     print(\"#######\")"
   ]
  },
  {
   "cell_type": "code",
   "execution_count": 45,
   "id": "69977540",
   "metadata": {},
   "outputs": [],
   "source": [
    "# good_model = T5ForConditionalGeneration.from_pretrained(\"./cos_e_output_t5_3b/112022_235539/checkpoint-30\")"
   ]
  },
  {
   "cell_type": "code",
   "execution_count": 46,
   "id": "62fca4b8",
   "metadata": {},
   "outputs": [],
   "source": [
    "# for da in our_data_splits['dev']:\n",
    "#     print(\"*******\")\n",
    "#     print(\"question: {}\".format(da['question']))\n",
    "#     print(\"answer: {}\".format(da['answer']))\n",
    "#     print(\"choices: {}\".format(da['choices']))\n",
    "#     print(\"our_explanation: {}\".format(da['our_explanation']))\n",
    "#     inp_ids = torch.tensor(da[\"input_ids\"], device=model.device).reshape(1, -1)\n",
    "#     out = good_model.generate(\n",
    "#                     inp_ids,\n",
    "#                     max_length=100,\n",
    "#                     pad_token_id=tokenizer.pad_token_id,\n",
    "#                     eos_token_id=tokenizer.eos_token_id,\n",
    "#                 )\n",
    "#     skip_special_tokens = False if \"infilling\" in data_args.io_format else True\n",
    "#     words = tokenizer.decode(out[0].tolist(), skip_special_tokens=skip_special_tokens)\n",
    "#     print(\"generated explanation: {}\".format(words))\n",
    "#     print(\"#######\")"
   ]
  },
  {
   "cell_type": "code",
   "execution_count": 47,
   "id": "3a7de102",
   "metadata": {},
   "outputs": [],
   "source": [
    "# train_output = trainer.evaluate(our_data_splits['train'].select([0,1,2,3,4]))\n",
    "# train_output"
   ]
  },
  {
   "cell_type": "code",
   "execution_count": 48,
   "id": "f43528ca",
   "metadata": {},
   "outputs": [],
   "source": [
    "# results = {}\n",
    "# if training_args.do_eval:\n",
    "#     start_time = time.time()\n",
    "#     logger.info(\"*** Evaluate on train set***\")\n",
    "#     logger.info(len(data_splits['train']))\n",
    "#     train_output = trainer.evaluate(our_data_splits['train'])\n",
    "#     perplexity = math.exp(train_output[\"eval_loss\"])\n",
    "#     results[\"perplexity_train\"] = perplexity\n",
    "\n",
    "#     # repeat\n",
    "#     logger.info(\"*** Evaluate on dev set***\")\n",
    "#     logger.info(len(data_splits['validation']))\n",
    "#     eval_output = trainer.evaluate(data_splits['validation'])\n",
    "#     perplexity = math.exp(eval_output[\"eval_loss\"])\n",
    "#     results[\"perplexity_validation\"] = perplexity"
   ]
  },
  {
   "cell_type": "markdown",
   "id": "3d2d2ec9",
   "metadata": {},
   "source": [
    "# Rationale Discriminator"
   ]
  },
  {
   "cell_type": "markdown",
   "id": "bd5eeaa4",
   "metadata": {},
   "source": [
    "## Construction of generated rationale and accepted rationale pairs\n"
   ]
  },
  {
   "cell_type": "code",
   "execution_count": 49,
   "id": "e7f1c257",
   "metadata": {},
   "outputs": [
    {
     "data": {
      "text/plain": [
       "250"
      ]
     },
     "execution_count": 49,
     "metadata": {},
     "output_type": "execute_result"
    }
   ],
   "source": [
    "len(fse_csqa_dev_data_dict)"
   ]
  },
  {
   "cell_type": "code",
   "execution_count": 50,
   "id": "c7bcb573",
   "metadata": {},
   "outputs": [
    {
     "name": "stderr",
     "output_type": "stream",
     "text": [
      "\r",
      "  0%|                                                                                                                                                                               | 0/986 [00:00<?, ?it/s]"
     ]
    },
    {
     "name": "stdout",
     "output_type": "stream",
     "text": [
      "*******\n",
      "question: Where can you likely buy many poems?\n",
      "answer: book store\n",
      "choices: ['book of poetry', 'literature book', 'book store', 'poetry book', 'bookshelf']\n",
      "common expl list: ['A book store is a place where you can buy books, including poetry books.', 'A bookstore sells a variety of books, including poetry books; chains of bookstores sometimes specialize in categories such as poetry or literature.']\n"
     ]
    },
    {
     "name": "stderr",
     "output_type": "stream",
     "text": [
      "\r",
      "  0%|▏                                                                                                                                                                  | 1/986 [04:28<73:20:19, 268.04s/it]"
     ]
    },
    {
     "name": "stdout",
     "output_type": "stream",
     "text": [
      "generated explanation: <pad> <extra_id_0> Poetry is a form of poetry that is written in a variety of styles and styles. It is a popular form of poetry that is often accompanied by poems, poems, and poems. It is a place to read poetry because it is a place to read them all. It is also a place to read poems in a variety of styles, such as poetry, poetry, and poetry. It is also a place to read and study poetry. It is also a place to buy many poems, such as poetry, poetry magazines, and other materials. It is also a place to buy many poems at a book. It is a great way to read poems in a book. It is a place to read poems in a variety of styles, such as poems that are written in a variety of poems that are written in a variety of styles, such as poetry, poetry, and other things. Poetry is a place to buy poetry in advance. It is a place to buy a book. It is also a place to buy many poems in a variety of poems that are written in a variety of styles, styles, and styles, and that can be written in a variety of styles, such as poems that are written in a variety of styles, such as poems that are written in a variety of genres, genres, and genres, such as poetry in a variety of genres, and that can be a good way. A book store is a place where you can purchase poems that are written in many different styles. Book store is a great way that are written in many different languages. Poetry is a place that is, because it is a great place to buy poems that are written in many different poems that are written in different parts. Books are a book store is a book. It is a place to buy a wide variety of genres, so it is important to buy a book is a place to buy poems that are written in many different languages, so that it is a book that is a book that is a book that is written in many different languages, so that it is a book that is more than a book store. Book store stores are usually located in a book store. Book stores offer a variety of poems, which means that you can buy many poems that are written in many different ways, so that\n",
      "########\n",
      "*******\n",
      "question: What could bringing suit do to a rivalry?\n",
      "answer: aggravation\n",
      "choices: ['going to court', 'randomness', 'anger', 'aggravation', 'tensions']\n",
      "common expl list: ['Bringing suit against a rival could aggravate the rivalry.']\n"
     ]
    },
    {
     "name": "stderr",
     "output_type": "stream",
     "text": [
      "\r",
      "  0%|▎                                                                                                                                                                  | 2/986 [07:59<64:07:19, 234.59s/it]"
     ]
    },
    {
     "name": "stdout",
     "output_type": "stream",
     "text": [
      "generated explanation: <pad> <extra_id_0> A<extra_id_1> is a strategy that can help to keep a rivalry from gaining a mate or a point of view. A suit can also help to keep a rivalry from gaining a point of view. A suit can also help to prevent a rivalry from gaining a point of view. A suit can also help to prevent a rivalry from gaining a point of view. A suit can also help to prevent a rivalry from gaining a point of view. A suit can also help to prevent a rivalry from gaining a point of view. A suit can also help to prevent a rivalry from losing a point of view. A suit can also help to prevent a rivalry from losing their way of being a rivalry. A suit can also help to prevent a rivalry from being able to gain a point of view or preventing a rivalry from losing a rivalry. A suit can also help to prevent a rivalry. A rivalry from being able to prevent a rivalry from being able to gain a rivalry from being able to gain a competitive advantage. A rivalry can also create aggravation. A rivalry can also lead to aggravation. A rivalry can lead to aggravation. A rivalry can also lead to aggravation, which could lead to a rivalry. A rivalry can lead to aggravation, and a rivalry. A rivalry can also lead to a rivalry to become a rivalry to gain a rivalry to gain a rivalry to gain a rivalry to gain a rivalry to gain a rivalry to gain a rivalry to gain a rivalry to gain a rivalry to gain a rivalry to gain a rivalry to gain a rivalry to gain a rivalry to gain a rivalry to gain </s>\n",
      "########\n",
      "*******\n",
      "question: A person who yawns and paces to help pass the time is likely feeling what?\n",
      "answer: boredom\n",
      "choices: ['ridiculous', 'excitement', 'meanness', 'terrorism', 'boredom']\n",
      "common expl list: ['Yawning and pacing is a sign of being bored, etc...', 'A bored person would pace and yawn to make time go by faster.', 'By yawning and pacing one shows signs of being bored.']\n"
     ]
    },
    {
     "name": "stderr",
     "output_type": "stream",
     "text": [
      "\r",
      "  0%|▍                                                                                                                                                                  | 3/986 [12:19<67:18:44, 246.52s/it]"
     ]
    },
    {
     "name": "stdout",
     "output_type": "stream",
     "text": [
      "generated explanation: <pad> <extra_id_0> A person who yawns and paces is likely feeling boredom. This is because it is a form of boredom that can be triggered by a person's actions, which can be triggered by a person's actions, which can be used to pass the time. This can be because it can be triggered by a person's actions, which can be used to distract others or distract others. This can be a form of boredom, or because it can be triggered by a person's attention. This can be triggered by a person's attention or other stimuli that are distracting and can be used to distract others. It can also be used to distract others, which can lead to a person's attention. It can also be used to distract others, such as a person to distract and distract others, and to distract others. It can be a distraction. It can also be a person's attention. It can be a distraction, and it can be a distraction, and it can be distracting and distracting. It can be distracting. It can be used to distract others or distract them from their attention. It can be used to distract them from the attention of others, which can be used to distract them, and can be used to distract them. It can be used to distract them from the attention of others. It can also be used to distract them from the attention of others. It can also be used to distract them. It can be used to keep them from distracting from the distractions, which can be used to distract them from the other distractions, distractions, distractions, etc. It can be used to distract them. It can be used to distract them. It can be used to distract them. It can be used to distract them from the distractions, distractions, or to distract them. It can be used to distract them from other people’s attention, distractions, distractions, or distractions, or distractions, or distractions, or distractions. It can be used to distract them from the other person’s attention, and to distract them from the other person’s attention. It can also be used to distract them from the person’s interests, such as a person’s attention. It can be used to distract from the person’s interests, or distractions, to distract them from the situation. It\n",
      "########\n",
      "*******\n",
      "question: I only like fiction books, why should I read a non-fiction book?\n",
      "answer: knowledge\n",
      "choices: ['knowledge', 'been printed new', 'many words', 'for fun', 'cover']\n",
      "common expl list: ['Non-fiction books contain knowledge.']\n"
     ]
    },
    {
     "name": "stderr",
     "output_type": "stream",
     "text": [
      "\r",
      "  0%|▋                                                                                                                                                                  | 4/986 [17:15<72:30:18, 265.80s/it]"
     ]
    },
    {
     "name": "stdout",
     "output_type": "stream",
     "text": [
      "generated explanation: <pad> <extra_id_0> I like fiction books because it is a great way to gain knowledge about a topic. It is also a great way to gain a deeper understanding of a topic and gain a deeper understanding of a topic. This knowledge can help to make a better understanding of the topic. The topic is often a combination of fiction and non-fiction. Non-fiction books are typically written in a way that is readable and engaging. It can also be a great way to gain insight into a topic that is not covered by non-fiction. Non-fiction books can be a great way to gain insight into the history of a topic. Non-fiction books can also be useful for students and professionals who are interested in reading non-fiction. Non-fiction books can also be useful for students and professionals. Non-fiction books can be used to gain knowledge and skills that can help them understand the world around them. The way to understand and understand the importance of reading a non-fiction is a valuable tool for students and their needs. It can help students understand the importance of reading non-fiction books. The non-fiction books can provide valuable information for students and teachers. The books can also help students understand the importance of the importance of reading non-fiction books. Non-fiction can also be useful for students who are struggling with a variety of topics. Non-fiction can be a valuable tool for students and teachers to learn new skills and knowledge. Non-fiction books can help them to understand their own unique challenges. They can help them understand their own unique and unique to them. They can also help them to understand their own unique and valuable knowledge. They can also help them to understand the world of literature. They can also help them understand the importance of reading is a valuable tool for them to understand the world around them to understand the world around them. Non-fiction books can help them to understand their own culture, geography, and the world around them to understand the world. Non-fiction is a valuable tool for a learning experience. Non-fiction books can also help them understand the world around them. They can help them to understand the world. They can also help them to understand the world around them. They can help them to understand the world. They can help them to understand the importance of reading a book and how to read a variety of topics. They can help to understand the world around them. They can help to understand\n",
      "########\n",
      "*******\n",
      "question: An American might hike a mountain north to get to what?\n",
      "answer: canada\n",
      "choices: ['canada', 'switzerland', 'orlando', 'austria', 'surface of earth']\n",
      "common expl list: ['If an American hiked north, they would likely end up in Canada.']\n"
     ]
    },
    {
     "name": "stderr",
     "output_type": "stream",
     "text": [
      "\r",
      "  1%|▊                                                                                                                                                                  | 5/986 [21:58<74:07:40, 272.03s/it]"
     ]
    },
    {
     "name": "stdout",
     "output_type": "stream",
     "text": [
      "generated explanation: <pad> <extra_id_0> An American might hike a mountain north to get to canada. Canada is a country that is a vast landmass, with a population of around 1.3 million people. It is the largest mountain in the world, with a population of around 1.3 million people living in the United States. It is also a great place to visit family and friends, and to see the sights of the Canadian countryside. It is also a great place to visit the mountains of the north. It is also a great place to visit a mountain ranger can hike north to get to the coast of the Arctic Circle. It is also a great place to hike north to get to the Arctic Circle. The mountains are also a great place to visit the polar regions, which are also great for viewing the polar regions, and the polar regions. The mountains are also a great place to visit. The mountains are often a popular destination for American adventurers who want to visit the coast of Canada, but there are also a great place to visit the Arctic Circle. The mountain north to get to the Canadian Arctic Circle. The mountains are a popular destination for hike north to get to the Arctic Ocean, which is a popular destination for adventure sports enthusiasts. The mountain is a popular destination for those who are famous for their rugged mountains and the rugged terrain, and the rugged terrain, and are often the most popular for their wildlife. The mountains are also popular for those who are also often a great way to see the Canadian mountains. The mountains are also great for hiking trails are often a great deal of wildlife. The mountain is a great way to get to the north to get to the north to get to the north to the south to the south to the south to see the north to the north to get to the north to get to the south to see the north to the north to see the south to see the north to see the mountains. The mountains can be a great place to see the mountains can be a great place to see the sights and sounds of the north to see the sights of the north to the north to the north to the south. Mountaineering countries, and the north to the south. The mountains can be a great place to see the south. The mountains can be a great place to see the sights and sounds of the peaks and the mountains. The mountains can be a variety of wildlife and the wildlife.\n",
      "########\n",
      "*******\n",
      "question: Sam spent most of his time standing up.  His job was hectic and he never got any rest. But he was the best cashier at his workplace.    Where might he work?\n",
      "answer: supermarket\n",
      "choices: ['bookstore', 'count till', 'supermarket', 'shop', 'preschool']\n",
      "common expl list: [\"The best cashiers work setting up lines of products, yhis is usually done from being on one's feet. Supermarkets use till systems to swipe credit cards, thus cashiering is done by standing up.\", 'Since one spends most of his time standing when working as a cashier, Sam probably works at a supermarket where groceries are sold. Because his workplace is full of activities and punten, he never gets any rest.']\n"
     ]
    },
    {
     "name": "stderr",
     "output_type": "stream",
     "text": [
      "\r",
      "  1%|▉                                                                                                                                                                  | 6/986 [24:24<62:25:44, 229.33s/it]"
     ]
    },
    {
     "name": "stdout",
     "output_type": "stream",
     "text": [
      "generated explanation: <pad> <extra_id_0> Sam spent most of his time standing up. He was the best cashier in the workplace. He was the best cashier at a supermarket. The cashier in the workplace spent most of his time standing up. The cashier was the best cashier at a supermarket because he was the most productive. He was also the best cashier at a supermarket. The cashier at a supermarket was the best cashier in the workplace because he was the most efficient. The cashier could work in a supermarket because he was the best cashier at a supermarket. The cashier was the best cashier at a supermarket was the best cashier at a supermarket. The cashier was also the best cashier at a supermarket. The cashier was the best cashier at a supermarket. The cashier was the best cashier at a supermarket is the best cashier at a supermarket. The cashier was the best cashier was the best cashier at a supermarket. The cashier was the best cashier at a supermarket. The cashier was the best cashier at a supermarket is the best cashier at a supermarket. The cashier was the best cashier at a supermarket is the best cashier at a supermarket because the cashier at a supermarket is the best cashier at a cashier at a supermarket. The cashier was the best cashier at a supermarket because the cashier was the best at the workplace because the cashier was the best cashier because the cashier because the cashier because the cashier because the cashier was the best cashier because the cashier was the best cashier because the cashier is the best cashier is the</s>\n",
      "########\n",
      "*******\n",
      "question: James raked fallen leaves into a pile. Where might he leave the pile?\n",
      "answer: ground\n",
      "choices: ['forest', 'roof', 'garden', 'tree', 'ground']\n",
      "common expl list: ['Leaves are often raked into piles on the ground.']\n"
     ]
    },
    {
     "name": "stderr",
     "output_type": "stream",
     "text": [
      "\r",
      "  1%|█▏                                                                                                                                                                 | 7/986 [28:38<64:31:15, 237.26s/it]"
     ]
    },
    {
     "name": "stdout",
     "output_type": "stream",
     "text": [
      "generated explanation: <pad> <extra_id_0> James raked fallen leaves into a pile in a pile in a pile. Ground is a place where fallen leaves are buried in a pile. Ground is a place where people can leave fallen leaves in a pile. Ground is a place where people can leave fallen leaves in a pile. Ground is a place to leave fallen leaves, which are then buried in a pile. Ground is a place where people can leave fallen leaves in a pile. Ground is a place where people can leave fallen leaves in a pile. Ground is a place to leave fallen leaves in a pile. Ground is a place to leave the pile, and it is often used to store fallen leaves in a pile, and it is often used to store fallen leaves and fallen leaves. Ground is a place to place fallen leaves in a pile. Ground is a place to leave a pile, and it can be used to store fallen leaves and fallen leaves. Ground is a place to store fallen leaves and fallen leaves and fallen leaves and fallen leaves. Ground is a place where a place where fallen leaves can be placed in a place that can be buried in a place that can be placed in a place that can be used to store fallen leaves and fallen leaves can be used to store fallen leaves and other materials. Ground can be used to store fallen leaves and other materials that can be used to keep the pile. Ground can be used to store fallen leaves and fallen leaves and fallen leaves and fallen leaves. Ground can be used to store fallen leaves. Ground can be used to store fallen leaves and ground can be used to store fallen leaves. Ground is a place to be placed in a pile of fallen leaves. Ground can be placed in a pile of fallen leaves. Ground can be used to store fallen leaves, such as a pile of ground. Ground can be used to store ground. Ground is a place where James can store fallen leaves, as ground can be used to store fallen leaves and fallen leaves. Ground is also used to store fallen leaves and fallen leaves and fallen leaves can be used to store fallen leaves and fallen leaves and fallen leaves. Ground can be used to store fallen leaves and fallen leaves in a pile. This is a place where the ground can be used to store fallen leaves, ground can be used to store fallen leaves and fallen leaves and fallen leaves, fallen leaves and fallen leaves can be\n",
      "########\n",
      "*******\n",
      "question: What happens when we fail at something we attempt?\n",
      "answer: leave\n",
      "choices: ['leave', 'give up', 'trying', 'we get shunned', 'fail']\n",
      "common expl list: ['If we fail at something, we usually leave (quit) that activity; failing is an action, while giving up and trying are both ways of not acting.', \"If we engage in an activity, like a sport, and fail, we don't want to continue doing it. It's much easier simply to leave.\"]\n"
     ]
    },
    {
     "name": "stderr",
     "output_type": "stream",
     "text": [
      "\r",
      "  1%|█▎                                                                                                                                                                 | 8/986 [33:05<66:59:47, 246.61s/it]"
     ]
    },
    {
     "name": "stdout",
     "output_type": "stream",
     "text": [
      "generated explanation: <pad> <extra_id_0> When we fail at something we try, we leave behind a lot of things that are good, but we often leave things that are not good. We leave with a bad idea. We often fail at something we try to do, and we often leave with a bad idea. We fail at something we try to do is because we are too busy trying to get things done. We often fail at something we try to do, and we often fail at something we try to do. We fail to do something we try to do. We fail to fail at something we try to do something we fail at something we try to do. We fail at something we try to do, and we fail at something we try to do. We fail at something we try to do without it. We fail at something we can try to do something we fail at something we fail at. We fail at something we try. We fail at something we try to do. Failure is a failure at something we try. We fail at something we try to do. We fail at something we try to do. We fail at something we try to do. We try to do without the effort to do. We fail at something we fail at it too. We fail at something we try to do. We fail at something we try to do. We try to do better, but we fail at something we fail at. We fail at something we fail at something we try again, we fail at something we fail at something we can’t do. We fail at something we’re not able to do. We’re unable to do something we’re able to do. We can’t do it because we’re not able to do. We can’t succeed at something we’re able to do. We can’t do anything we’re not able to do something we’re not able to do. We can’t do it because we can’t do it because we’re able to do it because we’re unable to do it because we’re able to do it because we can’t do it because we’re able to do it because we can’t do it because we’re unable to do. We can’t do it because we’re unable to do it because we’re able to do it because we’re able to do it because we can’t do it because we’re\n",
      "########\n",
      "*******\n",
      "question: The referee wasn't specialized in one thing. He refereed many games.  He was offered a job but wasn't sure what it would be.  What did he know it would be?\n",
      "answer: sporting event\n",
      "choices: ['side with opponent', 'football', 'hockey game', 'part two boxers', 'sporting event']\n",
      "common expl list: ['Referees are specialized in sports, and so, they would be expected to know how to referee a sporting event.']\n"
     ]
    },
    {
     "name": "stderr",
     "output_type": "stream",
     "text": [
      "\r",
      "  1%|█▍                                                                                                                                                                 | 9/986 [35:43<59:28:19, 219.14s/it]"
     ]
    },
    {
     "name": "stdout",
     "output_type": "stream",
     "text": [
      "generated explanation: <pad> <extra_id_0> The referee was offered a job but was not sure what it would be. He was offered a job because he knew it would be a sport that he enjoyed. It was a job that would be specialized in a specific field, but he was not sure what it would be. It was a job that would require a lot of skill and knowledge. It would require a lot of experience and dedication. It would require a lot of hard work and dedication, but it would require a lot of effort. It would also require the person who would be a professional athlete to referee a sporting event. The referee was not sure what it would involve. It would require a professional athlete to be specialized in one thing, but it would require a professional athlete to be specialized in other things, such as a professional athlete to be specialized in one thing, such as a team, and it would require a team to be specialized in another field, and it would require a team to be specialized in the team to be specialized in other areas of interest to the team to be specialized in other sports. This is because the referees are usually a team's ability to referees to be specialized in other areas, such as the team to be specialized in other people, such as the referees to be able to be able to be able to be able to be able to be able to be able to be able to be able to be able to be able to be able to be able to be able to be able to be able to be</s>\n",
      "########\n",
      "*******\n",
      "question: Susan threw the highly elastic ball at the wall.  The ball did what?\n",
      "answer: rebound\n",
      "choices: ['bounce', 'recoil', 'rebound', 'underwear', 'stretch']\n",
      "common expl list: ['Elastic balls collide with the wall, and boom bounce back after a collision.']\n"
     ]
    },
    {
     "name": "stderr",
     "output_type": "stream",
     "text": [
      "\r",
      "  1%|█▋                                                                                                                                                                | 10/986 [39:06<58:02:23, 214.08s/it]"
     ]
    },
    {
     "name": "stdout",
     "output_type": "stream",
     "text": [
      "generated explanation: <pad> <extra_id_0> Susan threw the ball at the wall with a high-intensity bounce. The ball bounced off the wall and was able to bounce back. The ball bounced back and forth as it was thrown back and forth. The ball was then re-engaged and the rebound was a great way to get the ball back in the air and back into the wall. The ball was highly elastic and was able to bounce back and forth on the wall. The ball bounced back and forth, allowing Susan to get the ball back to the wall. The rebound was able to get Susan to the wall, which was able to get the ball back to the wall. The ball was able to get the ball back to Susan could not be able to get the ball back to the wall. The rebound was able to be used to get the ball back to the wall. The ball was able to be re-up and down the wall. The ball was able to be re-up and down and down the wall. The ball was able to rebound back to the wall and return to the wall. The ball was highly elastic and re-up and return to the wall and return to the wall and the ball was re-up and down the wall and return to the wall. The ball was re-up and down the wall and return to the wall and return to the wall. The rebound was not a full-length, but it was a great way to release the ball and return to the wall. The ball was a great way to keep the ball. It was a good way to make a rebound. The ball was a great way to keep the ball. The ball was thrown back to the wall. The ball was a great way to a great way to a rebound. The ball was able to be reversal. It was able to be reversal was able to be able to bounce back to the wall. The ball was able to be able to bounce back to the wall. The ball was able to rebound the ball. The ball was able to rebound was able to bounce back to the wall, which was able to bounce back to the wall. It was able to be able to bounce back to the ball to rebound back to the wall. The ball was able to bounce back to the\n",
      "########\n",
      "*******\n",
      "question: John lived in a small island surrounded by flowing liquid H2O   Where might he live?\n",
      "answer: mississippi river\n",
      "choices: ['japan', 'hawaii', 'mississippi river', 'pacific ocean', 'body of water']\n",
      "common expl list: ['there are numerous islands in the mississippi river in the united states, making it possible that John may have lived on one.']\n"
     ]
    },
    {
     "name": "stderr",
     "output_type": "stream",
     "text": [
      "\r",
      "  1%|█▊                                                                                                                                                                | 11/986 [42:12<55:40:06, 205.55s/it]"
     ]
    },
    {
     "name": "stdout",
     "output_type": "stream",
     "text": [
      "generated explanation: <pad> <extra_id_0> John lived in a small island surrounded by flowing liquid H2O. H2O is a liquid that flows through the Mississippi River, which is a source of water that flows through the island. It is a source of water that flows through the island, which is a source of water and is a source of water that flows through the island. It is also a source of water for birds, which are able to swim in and out of the Mississippi River. It is also a source of water that flows through the island, which is a source of water, which is called the mississippi River, which is a source of water that is a source of water that is a source of water that is a source of water that flows through the island, which is a source of water that flows through the island. The island is surrounded by a source of water that is used to provide the water that is used to supply the water, and the water is a source of the water is a source of the water. The island is a source of water that is a source of water that is a source of water that is used to provide a source of water that is used to provide a source of water that is used to provide a source of water that is used to produce water that is used to produce a source of water that is used to produce water that is used to produce water that flows into the river. The flow of water is a source of water that is used to produce water that is used to produce a source of water that is used to produce a source of water that is used to produce a source of water that is used to produce water that is used to produce electricity produced by the source of water that is used to produce electricity. This is a source of energy produced by the flow of water that is pumped into the Mississippi River. This is because it is a source of water. The water in the Mississippi River, which is a source of a source of water, and is a source of water that is a source of water that is used to produce electricity. The water, which is used to produce electricity, which is then used to power the water. The water is a source of water, and it is used to power the water, and the water is used to produce electricity, gas, and gas, and the water\n",
      "########\n",
      "*******\n",
      "question: What will the student have to do on the test?\n",
      "answer: solve equation\n",
      "choices: ['finish college', 'begin teaching', 'write', 'answer question', 'solve equation']\n",
      "common expl list: ['A student has to solve equations to learn a given theory that is presented in class.']\n"
     ]
    },
    {
     "name": "stderr",
     "output_type": "stream",
     "text": [
      "\r",
      "  1%|█▉                                                                                                                                                                | 12/986 [45:22<54:20:25, 200.85s/it]"
     ]
    },
    {
     "name": "stdout",
     "output_type": "stream",
     "text": [
      "generated explanation: <pad> <extra_id_0> The student will have to solve equations to pass the test. The student will be asked to solve a problem on the test to determine the answer to the question. The student will have to solve the problem of solving the problem. The student will have to solve the problem in a specific order. The student will have to solve the problem in order to pass the test. The student will have to complete the test in order to pass the test. The student will have to complete the equation and solve the problem. The student will have to solve the problem in order to solve the problem in a given answer to the test by completing the problem. The student will have to solve the problem. The student will also have to complete the test by completing the problem. The student will be given a choice of completing the test by answering the question of how to solve the problem. The student will be asked to complete the test in order to determine the student's answer the problem. The student will also have to solve the problem. The student will also have to answer the problem by answering the test. The student will also have to solve the problem of solving the problem will be asked to solve the test by answering the question. The student will also have to complete the test. The student will also have to solve the test. The student will have to answer the question. The student will be asked to solve the test. The student will have to solve the student will have to be able to determine the student will have to solve the student’s test. The student will also have to solve the student will also have to answer the question, the student will have to solve the student must solve the problem of the test. The student will have to solve the student will have to solve the problem of the student will also be asked to answer the question of the test. The student will also have to answer the test. The student will have to solve the student must solve the student must be able to answer the student’s answer the student’s choice which option. The student will be asked to answer the student will also have to answer the student to answer the test. The student will also have to answer the test. The student will also have to answer the test by answering the test to answer the question of how to answer the question of how to answer the question of how to answer the question of how to answer the question of how to answer the question. The student must answer the question. The student must answer\n",
      "########\n",
      "*******\n",
      "question: The tourists saw what they thought was a statue, but they soon discovered it was performance art went it began what?\n",
      "answer: moving\n",
      "choices: ['growing mold', 'moving', 'accent garden', 'green', 'painting']\n",
      "common expl list: ['Performance art is art that is performed, rather than being a static object. In this case, the statue was moving, which is a sign of performance art.']\n"
     ]
    },
    {
     "name": "stderr",
     "output_type": "stream",
     "text": [
      "\r",
      "  1%|██▏                                                                                                                                                               | 13/986 [46:44<44:33:13, 164.84s/it]"
     ]
    },
    {
     "name": "stdout",
     "output_type": "stream",
     "text": [
      "generated explanation: <pad> <extra_id_0> The tourists saw a moving statue, which was a form of art, which was a form of entertainment. The tourists saw a moving statue that was a form of theater, which was a form of theater, which was often used for performances, such as ballet, chess, and other musical instruments. The statue was moving because it was moving and moving. It was a performance art that was performed by performers and tourists. It was a performance art form, which was performed by a professional artist. The tourists saw the statue was moving around the world. The performers moved the performers were moving the performers and performances of the statue, which was a stage. The performers were moving the audience in a moving dance. The performers performed the dances and danced on the stage. The performers performed the dance and dances, which were also performing the performance art, they were performing the dance. The performers were performing the dancers. The performers were moving the audience was a performance of the performers, which was a performance of the performers, which were performing the music of the performance art, and the performers performed the performance art. The performers were a performance. The performers were also performing the performance art was performed by a variety of different styles and styles. The performers were also performing the performance art was a performance art form. The performers were performing the performances of the performers performed the performances, which were performed by the performers themselves, which were a variety of performances, and the performers were performing the performances.</s>\n",
      "########\n",
      "*******\n",
      "question: What is a good way to carry a small dog?\n",
      "answer: backpack\n",
      "choices: ['good hands', 'backpack', 'chinese food', 'grocery bag', 'basket']\n",
      "common expl list: ['Backpacks are a good way to carry things, and small dogs are things.']\n"
     ]
    },
    {
     "name": "stderr",
     "output_type": "stream",
     "text": [
      "\r",
      "  1%|██▎                                                                                                                                                               | 14/986 [48:13<38:19:54, 141.97s/it]"
     ]
    },
    {
     "name": "stdout",
     "output_type": "stream",
     "text": [
      "generated explanation: <pad> <extra_id_0> A backpack is a great way to carry a small dog around the house. It is a great way to carry a small dog around with you. It is also a great way to carry a small dog around in a backpack. It is also a great way to carry a small dog around a home. It is also a great way to carry a small dog around in a backpack. It is also a great way to carry a small dog around a home. It is also a good way to carry a small dog around a backpack with a dog. It is also a good way to carry small dogs around a backpack. It is also a good way to carry a small dog in a backpack, which is a great way to carry a small dog in a small dog around with a backpack. It is also a great way to transport a small dog with a backpack and keep a small dog. It is a great way to keep a small dog with a small dog. It is also a great way to carry small children around a backpack. It is also a great way to carry a backpack and carry a small dog with a small dog around a small dog around a small dog around a small dog a small dog around a backpack and a small dog around a small dog around a small dog around a small dog around a small dog around a small dog around a small dog around a small dog around</s>\n",
      "########\n",
      "*******\n",
      "question: Both sides in World War I used what to cause death that is now banned?\n",
      "answer: poisonous gas\n",
      "choices: ['homicide', 'poisonous gas', 'cyanide', 'nuclear weapons', 'massive weapons']\n",
      "common expl list: ['Poison gas is a chemical known for its ability to kill (therefore, if both sides used it, people on both sides died from its use), and it has since gone on to be outlawed in many countries.']\n"
     ]
    },
    {
     "name": "stderr",
     "output_type": "stream",
     "text": [
      "\r",
      "  2%|██▍                                                                                                                                                               | 15/986 [48:52<29:50:47, 110.66s/it]"
     ]
    },
    {
     "name": "stdout",
     "output_type": "stream",
     "text": [
      "generated explanation: <pad> <extra_id_0> Both sides in World War I used poisonous gas to cause death that is now banned from the battlefield. Both sides in World War I used poisonous gas to cause death that is now banned from the battlefield. Both sides in World War I used poisonous gas to cause death that is now banned from the battlefield. Both sides in World War I used poisonous gas to cause death and in the end, the cause of death was a result of the use of poisonous gas. It was used to cause the death of both sides. It was also used to cause the deaths of both sides in World War I, but both sides in the war were both sides of the conflict. This was a major part of the war, and the gas was a major part of the war was a major part of the war was also used to cause death. This was used to cause the death of both sides were a major part of the war was used to cause the deaths of both sides of the war was a major part of the war, and the deaths of both sides were also used to cause the deaths of both sides were also used to cause the deaths of the war.</s>\n",
      "########\n",
      "*******\n",
      "question: Where is disease often spread but shouldn't be?\n",
      "answer: hospital\n",
      "choices: ['ghost town', 'third world country', 'human body', 'rug', 'hospital']\n",
      "common expl list: ['Disease is spread most commonly in hospitals, where sick patients are treated and recovered hosts of disease are found.', 'Hospitals are places where people go to get better, and therefore disease is often spread there.']\n"
     ]
    },
    {
     "name": "stderr",
     "output_type": "stream",
     "text": [
      "\r",
      "  2%|██▋                                                                                                                                                               | 16/986 [51:55<35:43:04, 132.56s/it]"
     ]
    },
    {
     "name": "stdout",
     "output_type": "stream",
     "text": [
      "generated explanation: <pad> <extra_id_0> Hospitals are often the most important places to find out about disease spread. Hospitals are often the most important places to find out if a disease is spreading in the United States. Hospitals are often the most important places to find out if a patient is being transported to a hospital or other medical facility. Hospitals are often the most important places to find out if a patient is being treated in a hospital. Hospitals are often the most important place to find out if a patient is being treated for a hospital, especially if it is not. Hospitals are also often the most important place to find out if it is not a hospital, and if it is a hospital is not a hospital. Similarly, hospitals are often the most important place to find out if a patient is being treated in a hospital. Hospitals are often the most likely to be hospitalized in a hospital. Hospitals are often times times the risk of infection. Hospitals are often the most likely to be deemed a safe place to stay safe and effective in preventing the spread of disease. Hospitals are often the place for patients to be kept clean and disinfected and are often the most likely to be located in a hospital. Hospitals are often the most likely to be a hospital. Hospitals are often located in areas that are not well-equipped to handle the spread of disease, such as a hospital, which means that the patient is being treated in a hospital. This means that the patient is being treated in a hospital. Hospitals are often located in a hospital. Hospitals are often the first to treat patients with a place where patients with a hospital and the patient is being treated in a hospital. a hospital, but should be a hospital to treat patients with a hospital to treat patients with a hospital. Hospitals are often busy and have a variety of different types of hospitalized patients. Hospitals are often located in a hospital. Hospitals are often located in a hospital setting where the disease is a hospital. a hospital to treat the disease. Hospitals are often equipped with the equipment and the patient is able to provide care and are often located in a hospital, which can be a hospital, which can also be a hospital, which can provide the patient with the right type of hospital. Hospitals are often equipped with\n",
      "########\n",
      "*******\n",
      "question: As things get colder, temperature does what?\n",
      "answer: drop to zero\n",
      "choices: ['increase', 'drop to zero', 'heat up', 'dropping quickly', 'arctic']\n",
      "common expl list: ['As things get colder, they get closer to zero degrees.']\n"
     ]
    },
    {
     "name": "stderr",
     "output_type": "stream",
     "text": [
      "\r",
      "  2%|██▊                                                                                                                                                               | 17/986 [52:57<29:58:38, 111.37s/it]"
     ]
    },
    {
     "name": "stdout",
     "output_type": "stream",
     "text": [
      "generated explanation: <pad> <extra_id_0> As things get colder, the temperature of the room starts to drop. The temperature of the room is essentially a constant, constant, constant temperature that is able to fluctuate with the temperature of the room. The temperature drops as the temperature reaches zero. The temperature is usually regulated by the temperature of the room, which is a characteristic of the human body. The temperature is also regulated by the temperature of the room, which is regulated by the temperature of the room. The temperature of the room is usually regulated by the temperature of the room temperature. The temperature of the room is usually at 0 degrees Celsius. The temperature is also regulated by the temperature of the room. The temperature is also regulated by the temperature of the room. The temperature can be controlled by the temperature of the room is controlled by the temperature of the room. The temperature can be controlled by the temperature can be controlled by the temperature can vary from one to the other. The temperature can vary from one to zero degrees of temperature. The temperature can vary depending on the temperature of the room. The temperature can vary from one to zero is dependent on the temperature of the room is also dependent on the temperature of the room is controlled by the temperature of the room. The temperature can be controlled by the temperature can vary significantly depending on the temperature of the room is controlled by the temperature of the room is controlled by</s>\n",
      "########\n",
      "*******\n",
      "question: Where is one unlikely to get popcorn?\n",
      "answer: soccer game\n",
      "choices: ['restaurant', 'movie house', 'soccer game', 'carnival', 'movie theater']\n",
      "common expl list: ['Soccer games usually lack popcorn machines.', 'Most soccer games lack concession stands, which are necessary to sell movie theaters popcorn.', 'Soccer games are usually snacks-free affairs; snacks, including popcorn, tend to be present at more recreational venues, but less so in settings where food is unnecessary because there are translatable goods sellers, i.e., vendors that sell things like popcorn']\n"
     ]
    },
    {
     "name": "stderr",
     "output_type": "stream",
     "text": [
      "\r",
      "  2%|██▉                                                                                                                                                                | 18/986 [54:06<26:30:51, 98.61s/it]"
     ]
    },
    {
     "name": "stdout",
     "output_type": "stream",
     "text": [
      "generated explanation: <pad> <extra_id_0> One unlikely source of popcorn is soccer, where one is unlikely to get popcorn. This is because popcorn is typically a popular snack and is usually a popular snack for kids. It is also a great way to get popcorn in the form of popcorn. It is also a great way to watch the game and watch the game of soccer. It is also a great way to watch the game while watching a soccer game. It is also a great way to get popcorn for the kids to enjoy. The game is also a great way to watch the game, as it is a great way for kids to get a good time. The game is also a great way to get popcorn at a game, as it is also a great way to watch the game and get a good way to get a good popcorn for the kids to enjoy. It is also a great way to get a good way to get a good way to get a good popcorn for a good time. Also, it can be a good way to get popcorn at a soccer game. This is a great way to get a good way to get a good way to get a good popcorn experience. Also, it can be a good way to get popcorn at a soccer game. In addition, it can be a great way to get a good way to get popcorn at a soccer game.</s>\n",
      "########\n",
      "*******\n",
      "question: Where are files likely to be hanging?\n",
      "answer: filing cabinet\n",
      "choices: ['filing cabinet', 'tree', 'suitcase', 'computer', 'desk drawer']\n",
      "common expl list: ['Files are likely to be hanging in a filing cabinet, since they are often organized by topic, and filing cabinets are often used to organize files.', 'Filing cabinets are used to store files sometimes; these files can then be found by opening the filing cabinet and looking for hanging folders.']\n"
     ]
    },
    {
     "name": "stderr",
     "output_type": "stream",
     "text": [
      "\r",
      "  2%|███                                                                                                                                                               | 19/986 [57:02<32:44:59, 121.92s/it]"
     ]
    },
    {
     "name": "stdout",
     "output_type": "stream",
     "text": [
      "generated explanation: <pad> <extra_id_0> Files are stored in a filing cabinet. A filing cabinet is a large, sturdy, and durable structure that is able to be accessed by a single person. Depending on the type of cabinet, the file will be hung in the cabinet. The filing cabinet is a great place for storing documents, such as photos, documents, and other documents. The filing cabinet is a large, open space, so it is easy to access and access them. The filing cabinet is also a great place to store documents and other documents. The file cabinet is also a great place to store documents and documents. The file cabinet is also a great place to store files and other documents. The filing cabinet is a great place to store important documents, such as photographs, documents, and other documents. The filing cabinet is a place to keep files and other documents. The filing cabinet is a place to keep files in place. The filing cabinet is a place where the files are stored in the filing cabinet is a place to store files and folders. The file cabinet is a place to store the files in a safe place to keep them safe. The file is also a place to store them in a safe place to store important information, such as a safe place to store them safely and securely. The file cabinet is a safe place to keep files safe. The file cabinet is a safe place for files to be kept safe and secure. Files are stored in a filing cabinet is a safe place to keep files safe. Files are kept in a secure and secure environment, so files are stored safely and securely. The file is protected from the elements in the filing cabinet is a safe place to store sensitive data, such as storing sensitive data, such as storing sensitive data is kept safe and secure. Files are stored in the file safe. Files are stored in the filing cabinet is also storing and storing files are stored safely and secure. This is because filing cabinets are a safe place that they are safe and secure. The filing cabinet is a secure environment that is protected from the contents of the filing cabinet. The file cabinet is a safe and secure. The file cabinet is a place to be kept securely locked in a safe and secure. The file is stored securely in a safe place to keep files safe and secure, and can be easily accessible and secure. The file is\n",
      "########\n",
      "*******\n",
      "question: What is required to go on vacation before anything else?\n",
      "answer: have money\n",
      "choices: ['pack', 'pay bills', 'save money', 'have money', 'reliable car']\n",
      "common expl list: ['Vacations often require the purchase of travel services, such as airline or hotel tickets.']\n"
     ]
    },
    {
     "name": "stderr",
     "output_type": "stream",
     "text": [
      "\r",
      "  2%|███▎                                                                                                                                                               | 20/986 [57:31<25:10:57, 93.85s/it]"
     ]
    },
    {
     "name": "stdout",
     "output_type": "stream",
     "text": [
      "generated explanation: <pad> <extra_id_0> Money is not required to travel on vacation. It is a requirement to have money to cover the cost of the trip. It is also important to have money available for the trip. It is also important to have money available for the trip. It is important to have money available for the trip. It is important to have money for the trip, especially if you plan to go on a vacation. It is important to have money for the trip, as it is the only way to pay for the trip. It is also important to have money for the trip. The cost of a vacation can be used for vacations, such as a trip to see the sights, hear, and hear the weather, and have a plan to go on a trip to a trip to a vacation. The trip is also a great opportunity to see the sights and experiences of the trip, especially if you plan a trip to a new place to visit. The trip is also a great opportunity to see the sights, hear the sights, and the sights,</s>\n",
      "########\n",
      "*******\n",
      "question: The roadway passed a sign and gate house, what was behind the gatehouse?\n",
      "answer: subdivision\n",
      "choices: ['city', 'narnia', 'subdivision', 'neighborhood', 'countryside']\n",
      "common expl list: ['Subdivisions are residential areas that are often gated, and so, if you see a gatehouse, you might be in a subdivision.', 'A subdivision contains houses that formed around it; therefore, a subdivision has a gatehouse that controls who goes in and out.']\n"
     ]
    },
    {
     "name": "stderr",
     "output_type": "stream",
     "text": [
      "\r",
      "  2%|███▍                                                                                                                                                            | 21/986 [1:00:13<30:39:03, 114.35s/it]"
     ]
    },
    {
     "name": "stdout",
     "output_type": "stream",
     "text": [
      "generated explanation: <pad> <extra_id_0> The roadway passed a sign and gate house, what was behind the gatehouse? The gatehouse was located on a hillside near the intersection of the two streets. The gate house was located on a hillside near the intersection of the street and the road. The gatehouse was located behind the gatehouse. The gatehouse was located behind the gatehouse and was visible from the street. The gatehouse was located on the left side of the roadway. The gatehouse was located in the middle of the road. The gatehouse was located in the middle of the road. The gatehouse was located on the road. The gate house was located on the road. The gate house was located in the middle of the road. The gatehouse was located in the middle of the road. The gatehouse was located in the middle of the road. The gatehouse was located in the middle of the road. The gatehouse was visible from the road. The gatehouse was located in the middle of the road. The gatehouse was located behind the gatehouse was located in the center of the gate house was located behind the gatehouse. The gatehouse was located in the middle of the road. The gatehouse was located in the middle of the road, which was the entrance to the gatehouse was located in the middle of the gatehouse was located behind the gatehouse was located in the gatehouse. The gatehouse was located in the gatehouse was located in the gatehouse was located in the middle of the gatehouse was located in the middle of the gatehouse was the gatehouse. The gatehouse was located in the middle of the gate house and the sign was located in the middle of the gate house. The gatehouse and the gate house was located in the middle of the gatehouse. The gate house was located behind the gate house was located behind the gate house. The gate house was located behind the gatehouse was located behind the gatehouse was a small parking lot. The gatehouse was located behind the gatehouse. The gate house was located behind the gate house was located in the gate house was located behind the gatehouse. The gatehouse was located behind the gatehouse. The gatehouse was located behind the gatehouse was located in the gatehouse was located behind the gate house was a small, green space. The gatehouse was located behind the gatehouse was located behind the gatehouse. The gatehouse was located behind the gatehouse was located behind the gatehouse was located behind the gatehouse\n",
      "########\n",
      "*******\n",
      "question: The invasive A.I. was designed to scan the crowd, where most saw a mass of humanity the evil machine could pick out each what?\n",
      "answer: individual\n",
      "choices: ['solitary', 'single person', 'few people', 'crowd', 'individual']\n",
      "common expl list: [\"Machine intelligence is better able to find isolated individuals than crowded groups. Machines need to scan a large group of people to be able to find a single person--but when the single person doesn't blend in, it makes them easier to find.\"]\n"
     ]
    },
    {
     "name": "stderr",
     "output_type": "stream",
     "text": [
      "\r",
      "  2%|███▌                                                                                                                                                             | 22/986 [1:00:24<22:21:58, 83.53s/it]"
     ]
    },
    {
     "name": "stdout",
     "output_type": "stream",
     "text": [
      "generated explanation: <pad> <extra_id_0> The invasive A. A Sense is a device that is designed to scan the crowd, where a mass of humanity, where a mass of humanity is a mass of humanity, and where a mass of humanity is a mass of humanity. A Sense is a device that is designed to scan the crowd, where a mass of humanity is a mass of humanity, and can identify individuals and groups of individuals. A Sense can be used to identify individuals and groups of people, and to identify individuals and groups of people who are at risk of being targeted, the A. A Sense can also be used to identify individuals and groups of people that are at risk of being targeted, and can be used to identify individuals and groups of people at risk of being targeted and/or a group of individuals at risk of being at risk of being targeted by the A. A Sense can also be used to identify individuals</s>\n",
      "########\n",
      "*******\n",
      "question: Is has been speculated that a aliens could be communicating by doing this?\n",
      "answer: thinking\n",
      "choices: ['effort', 'farting', 'thinking', 'laugh', 'medium']\n",
      "common expl list: ['Aliens could quite possibly be using thought as a way to communicate between themselves.']\n"
     ]
    },
    {
     "name": "stderr",
     "output_type": "stream",
     "text": [
      "\r",
      "  2%|███▊                                                                                                                                                             | 23/986 [1:02:16<24:33:41, 91.82s/it]"
     ]
    },
    {
     "name": "stdout",
     "output_type": "stream",
     "text": [
      "generated explanation: <pad> <extra_id_0> It has been suggested that a alien could be communicating by doing this. It has been suggested that a human mind could be capable of communicating with humans by doing this. This could be done by thinking, for example. It is believed that by doing so, aliens could be able to communicate with humans through thinking. Also, thinking can help to improve the quality of life for humans. It is believed that by thinking, aliens could be able to communicate with humans without a human being being communicating with them. This could be done by thinking could be useful for other things such as talking to each other, such as a conversation with humans. This could be accomplished through thinking could be used to communicate with humans, which could be used to communicate with humans. This could be done by thinking could be used to communicate with humans. This could be done by people around the world, such as humans, and could be used to communicate with humans. This could also be used to communicate with humans. This could be used to communicate with humans. This could be used to create a way to communicate with humans and other living things such as thinking. This could be used to communicate with humans and other humans. This could also be used to communicate with humans via a variety of different types of thinking and communicating with others. This could also be used to communicate with them through the use of the world. This could be used to communicate with humans and other species that could be used to communicate with other humans and other living beings. This could be used to communicate with other species and even if they were able to communicate with other species. This could be because they can communicate with humans. This could be used to communicate with other species and to communicate with humans and other species. This could be used to communicate with other species. This could be used to communicate with other species. This could be used to communicate with humans and other aliens, such as humans. This could be used to communicate with other species. This could be used to communicate with other species, such as humans and other aliens. This could be due to the thought process.</s>\n",
      "########\n",
      "*******\n",
      "question: What can occur in fencing if you are not careful?\n",
      "answer: severe injuries\n",
      "choices: ['competition', 'severe injuries', 'fever', 'perspiration', 'small cuts']\n",
      "common expl list: ['The sport of fencing causes people to be hit by weapons, which may cause cuts or other wounds if someone is not careful.', 'Fencing is a sport, which involves hitting your opponent with a sharp piece of metal, which will almost certainly result in some physical pain.', 'Fencing is a sport that involves hitting your opponent with a sword, and if you are not careful, you can get injured.']\n"
     ]
    },
    {
     "name": "stderr",
     "output_type": "stream",
     "text": [
      "\r",
      "  2%|███▉                                                                                                                                                             | 24/986 [1:02:18<17:24:14, 65.13s/it]"
     ]
    },
    {
     "name": "stdout",
     "output_type": "stream",
     "text": [
      "generated explanation: <pad> <extra_id_0> If you are not careful, you could cause severe injuries. If you are not careful, you could cause a serious injury to your body. If you are not careful, you could cause severe injuries to your body. In addition, if you are not careful, you could cause amputation or other serious injuries. In addition, if you are not careful, you could cause a serious injury. An injury is a serious injury that can occur in a fencing accident. In addition, if you are not careful, you could cause a serious injury if you are injured in a fall or fall can cause a fall or fall can occur.</s>\n",
      "########\n",
      "*******\n",
      "question: If you stretch out your socks they will then have what kind of fit?\n",
      "answer: loose\n",
      "choices: ['cramped', 'loose', 'contract', 'park', 'compressing']\n",
      "common expl list: ['When stretched out, socks will be loose.']\n"
     ]
    },
    {
     "name": "stderr",
     "output_type": "stream",
     "text": [
      "\r",
      "  3%|████                                                                                                                                                             | 25/986 [1:02:47<14:26:40, 54.11s/it]"
     ]
    },
    {
     "name": "stdout",
     "output_type": "stream",
     "text": [
      "generated explanation: <pad> Socks are made of a variety of materials, including wool, nylon, and synthetic fibers. They are also made of a variety of materials, including nylon, nylon, and polyester. They are made of a variety of materials, including cotton, lace, and nylon. They are also made from recycled materials, such as PU materials, which are able to be used in many sports. They are also made from recycled materials, such as polypropylene, and are made from polyester. They are made from a variety of materials, which means they are a good fit, but they are also incredibly soft, so they are not a great way to help them to keep them comfortable and comfortable to wear. They are also made from materials, such as nylon, but they are also made from materials, such as nylon, nylon, nylon, and a variety of materials used to make them to be used to make them suitable for many different materials. They are also made from polypropylene, nylon, and a variety of materials, such as nylon, nylon, and</s>\n",
      "########\n",
      "*******\n",
      "question: John ran out of pencils.  Where did  he go to get more?\n",
      "answer: office depot\n",
      "choices: ['desk drawer', 'cup', 'pencil case', 'shelf', 'office depot']\n",
      "common expl list: ['Pencils can be found at an office supply store, e.g., an office depot.', 'John can buy new pencils at an office depot.', 'Office Depot is a store that sells office supplies, including pencils.', 'When people need pencils (or pens), they often buy them at office depots.', 'Office Depot is a company that specializes in office furniture; it also sells pens and pencils.']\n"
     ]
    },
    {
     "name": "stderr",
     "output_type": "stream",
     "text": [
      "\r",
      "  3%|████▏                                                                                                                                                            | 26/986 [1:04:40<19:08:44, 71.80s/it]"
     ]
    },
    {
     "name": "stdout",
     "output_type": "stream",
     "text": [
      "generated explanation: <pad> <extra_id_0> John ran out of pencils. Office depots are places where people can find and get supplies for their needs, such as pencils, paper, and paper. They are also places where people can find other items, such as notebooks, notebooks, and pencils. Office depots are often located in areas where people are unable to get them. They are often located in areas where people can get them quickly. They are often located in areas where they can get them quickly. They are often a place where people can find them and get them quickly. They are often a great way to get more pencils for his pencils. They are also often a place to get them from a place to get more pencils. They are often located in areas where people can get them. They are often a place to get them. They are often a place to get them from a desk in an office. They are a great place to get them. They are also often a great way to get them quickly. They are also often a great place to get them from the office depot. They are also a great way to get more pencils from the office depot to get them. They are also often used to get more than just to keep them. They are often used to keep them. They are often used to keep them in the office, but they can be used to keep them in the office. They are also used to keep them in the office to keep them in the office to keep them in the office to keep them in the office to keep them in the office to keep them in the office to keep them in the office to keep them in the office to keep them in the office to keep them in the office to keep them in the office to keep them in the office to keep them in the office to keep them</s>\n",
      "########\n",
      "*******\n",
      "question: What does a confident person do?\n",
      "answer: trust himself\n",
      "choices: ['feel important', 'own house', 'trust himself', 'know what time', 'cry']\n",
      "common expl list: ['A confident person is sure of his abilities and the trust in himself/herself to do things or accomplish goals.', 'People whose confidence is high tend to believe themselves more strongly, and so the confident person might believe in their own abilities and do things such as trust themselves.']\n"
     ]
    },
    {
     "name": "stderr",
     "output_type": "stream",
     "text": [
      "\r",
      "  3%|████▍                                                                                                                                                           | 27/986 [1:07:47<28:18:23, 106.26s/it]"
     ]
    },
    {
     "name": "stdout",
     "output_type": "stream",
     "text": [
      "generated explanation: <pad> <extra_id_0> A confident person is a person who is confident in his abilities and abilities. They are able to make decisions that are based on their own strengths and weaknesses. They are able to make decisions that are based on their own strengths and weaknesses. They are able to make decisions that are based on their own strengths and weaknesses. They are able to make decisions that are based on their strengths and weaknesses. They are able to make decisions that are based on their own personal strengths and weaknesses. They are able to make decisions that are based on their own strengths. They are able to make decisions that are based on their strengths and weaknesses. They are also able to make decisions that are based on their own abilities and abilities. They are able to make decisions that are based on their own abilities and abilities. They are able to make decisions that are able to make decisions that are able to make decisions that are able to make decisions that are based on their own personal strengths and weaknesses. They are able to make decisions that are able to make decisions that are able to make decisions that are able to make decisions that are able to make them to make a confident person. They are able to make decisions that are able to make decisions that are able to make decisions that are able to make decisions that are able to make decisions that are able to make decisions that are able to make them a positive and effective. They are able to make decisions that can be used to make them able to make decisions that can be used to make a positive impact on the world around them. They are able to make decisions that can help them make decisions that can help them make decisions that can help them be more effective and can help them to make positive changes in their own way. They can help them to be confident and confident. They can also use their confidence and confidence. They can also use their confidence and confidence and confidence. They can also use their confidence and confidence in their ability to make decisions that can help them to make decisions that can help them to make decisions that can help them to make decisions that can help them to be made with confidence. They can also help them to make decisions that can help them to make decisions that can help them to make the best decision making. They can also help them to make decisions that are a confident person. They can also help them to make\n",
      "########\n",
      "*******\n",
      "question: James thought that analyzing all the data would help him learn more, but it did not.  It only gave him what?\n",
      "answer: headache\n",
      "choices: ['headache', 'better understanding', 'papercuts', 'enlightened', 'discovering truth']\n",
      "common expl list: ['Analysis requires a lot of thinking with maybe little reward, which can give one a headache.']\n"
     ]
    },
    {
     "name": "stderr",
     "output_type": "stream",
     "text": [
      "\r",
      "  3%|████▌                                                                                                                                                           | 28/986 [1:10:45<34:02:29, 127.92s/it]"
     ]
    },
    {
     "name": "stdout",
     "output_type": "stream",
     "text": [
      "generated explanation: <pad> <extra_id_0> James had a headache. It was a headache that caused him to have headaches and other headaches. It was a headache that caused him to have a headache and other headaches. It was also a headache that caused him to have headaches. It was a headache that caused him to have a headache. It was a headache because the headache was a sign of fatigue. It was a sign of a headache that he was having. It was a headache that he was experiencing. It was a headache when he turned on the lights on during the day. It was a sign that he was having a headache and a headache when he was having trouble breathing. It was a temporary headache that was a sign of a headache. It was also a sign that the data could help him to learn more. It was a sign that he was having a headache. It was a headache and he was having trouble learning how to deal with his headaches and other symptoms that were causing the headache. It was a headache and a headache. It was a headache that caused him to have a headache. It was difficult to learn about his life. It was also a headache and he was having a headache. It was a headache. It was difficult to learn how to handle the headache and how to manage his headache. It was difficult to deal with the headache. It was difficult to understand what happened to him. It was also difficult to understand the data and how to use the data to learn more. It was a headache. It was difficult to understand the data and how to use the data to learn more about the data and how to use the data to better understand the data and how to use the data to better understand the data and understand the data and how to use the data and how to use the data to make sense. It was also difficult to understand the data and how to use the data to make sense. It was a headache. It was a headache. It was a headache and how to use the data and how to use the data and how to use the data and how to use the data and how to use the data and how to use the data and how to use the data to make the data and to use the data and how to use the data and how to use the data to use the data to make a good way\n",
      "########\n",
      "*******\n",
      "question: What makes people happy when it is surprising and unexpected?\n",
      "answer: humor\n",
      "choices: ['joke', 'humor', 'frightened', 'fight', 'laughter']\n",
      "common expl list: ['A surprise is a stimulus that is not generally predicted before exposing it to a subject. It may be surprising things that cause laughter, or unexpected things that people see as funny.']\n"
     ]
    },
    {
     "name": "stderr",
     "output_type": "stream",
     "text": [
      "\r",
      "  3%|████▋                                                                                                                                                           | 29/986 [1:13:42<37:52:57, 142.51s/it]"
     ]
    },
    {
     "name": "stdout",
     "output_type": "stream",
     "text": [
      "generated explanation: <pad> <extra_id_0> People love surprises when they are unexpected and unexpected. They love people because they are surprised by the unexpected and find something unexpected. They love when they are surprised and unexpected, which makes them happy. They are also happy when they are surprised and unexpected. They are also likely to be surprised by the unexpected and find that people are happy. They are also more likely to laugh at things that are not normally seen in the public eye. They are also more likely to be surprised by the unexpected and find that they are surprised. They are more likely to be surprised by the unexpected and are more likely to beg for forgiveness and appreciation. They are also more likely to be surprised and surprised when they are surprised and surprised. They are also more likely to be surprised by the unexpected. This is because they are more likely to be surprised by the unexpected. They are more likely to be surprised and surprised by the unexpected. They are more likely to be surprised by the unexpected. They are more likely to be surprised and surprised by the unexpected. They are also more likely to be surprised and surprised. They are more likely to be surprised and surprised by the unexpected. They are more likely to be surprised by the surprise. They are more likely to be surprised at the surprise of surprise. They are more likely to be surprised by the surprise. They are also more likely to be surprised. They are also more likely to be surprised by the surprise. They are more likely to be surprised by the surprise. They are more likely to be surprised. They are also more likely to be surprised by the surprise. They are more likely to be surprised by the surprise. They are more likely to be surprised and surprised by the surprise. They are also more likely to be surprised by the surprise of surprise, and they are more likely to be surprised by the surprise and surprise. They are more likely to be surprised by the surprise and surprise. They are also more likely to be surprised by the surprise. They are more likely to be surprised by the surprise. They are more likely to be surprised by the surprise. They are more likely to be surprised by the surprise. They are also more likely to be surprised by the surprise. They are more likely to be surprised when they are surprised by the surprise. They are also more likely to be surprised by the unexpected. They are more likely to be surprised when people are surprised when they are surprised when they are surprised. They are surprised when they are surprised. They are surprised when they are surprised by the surprise of surprise and surprise. They\n",
      "########\n",
      "*******\n",
      "question: What is someone who wants a lot of money?\n",
      "answer: greedy\n",
      "choices: ['selfish', 'weird', 'greedy', 'ridiculous', 'hungry']\n",
      "common expl list: ['Greed is defined as \"the desire to obtain something, especially wealth, through selfish means, typically at the expense of others.', 'A person who is greedy wants more things that people typically take for granted, i.e., money, success, etc. This is a lot of stuff.', 'Greed is a strong desire to possess a lot of money; a greedy person therefore wants it a lot.']\n"
     ]
    },
    {
     "name": "stderr",
     "output_type": "stream",
     "text": [
      "\r",
      "  3%|████▊                                                                                                                                                           | 30/986 [1:16:34<40:13:50, 151.50s/it]"
     ]
    },
    {
     "name": "stdout",
     "output_type": "stream",
     "text": [
      "generated explanation: <pad> <extra_id_0> A greedy person is someone who wants a lot of money. They want to get a lot of money. They want to buy a lot of things, but they also want to make sure that they are buying enough money to buy enough to buy a car. This is because they are greedy and want to make money from things. They want money because they want to make money. They also want to make money from things that they can afford. They want money to make money from things they can not afford. They want to make money for themselves. Money for themselves. They want to make money for themselves and their family. They want to make money from things they can’t have to be honest and honest. They want to make money. They want to make money. They want to make money because they want to make money by making money by making money by making money from things they can use the money they can use it to make money from their family and the money they have to buy things. Money they can use to make money for themselves. Money is a large amount of money. Money is a big investment. Money is a big investment that can be used to buy a large investment. Money can be used to buy time, money that can be used to buy into the people who want to make money. Money for things that they want to make money. Money can be used to buy a lot of money. Money can be used to buy things that are used to buy things that they want to buy things that they want to buy things that they want to spend on things that they want to spend on things that they want to spend. This can be used to buy things that they can be used to buy things that they want to buy things that they want to buy. Money can be used for themselves. Money can be used to help them to help them to help them to help them. Money can be used to help them to help them to help them to help them to help them to help them to help them to help them to help them to help them to help them to help others. Money can be used to help them. Money can be used to help them to help them to help them to help them to help others to help them to help them to help them to help them. Money can be used to help others to help them to help them to help others. Money can be used to help them to make money. Money can be used to help them to help them\n",
      "########\n",
      "*******\n",
      "question: Where do you keep a book to read before bed?\n",
      "answer: bedside table\n",
      "choices: ['school room', 'allen key', 'classroom', 'bedside table', 'coffee table']\n",
      "common expl list: ['Bedside tables are where people keep things they use before bed, such as books, glasses, and water.', 'Bedside tables are convenient for keeping things, e.g., a book, reading materials, glasses, etc., that you wish to keep near your bed for regular access; particularly things.']\n"
     ]
    },
    {
     "name": "stderr",
     "output_type": "stream",
     "text": [
      "\r",
      "  3%|█████                                                                                                                                                           | 31/986 [1:19:20<41:18:59, 155.75s/it]"
     ]
    },
    {
     "name": "stdout",
     "output_type": "stream",
     "text": [
      "generated explanation: <pad> <extra_id_0> A book is a book that is read before bed. It is a book that is usually kept on a bedside table or a table or chair. It is usually available on a bedside table or on a bedside table. It is usually on a bedside table or a chair. It is a book that is read before bed and is a good read to read before bed. It is a good way to read before bedtime. It is also a great way to read a book before bedtime reading before bed. It is a book is a good way to keep a good way to keep track of a book before bed before bed. It is also a good way to keep track of the information of a book before bedtime reading list. It is a good way to keep track of your sleep. It is also a great way to read before bedtime reading before bed. It is a good way to keep track of your sleep and provides you with a list of books to read before you sleep. It is a book to read before you bed. It is also a great way to read before bedtime routine, and it is important to know what information you need to know about yourself before you go to bed. It is important to read before you sleep. It is important to keep track of your sleep and track your sleep. It is important to keep track of your sleep and keep track of your sleep and check your sleep. It is important to keep a book to keep a book to read before bed. It is important to keep track of your sleep and track of your sleep time. It is important to know what to read before bed. It is important to read before bedtime. It is important to read a book before bed. It is important to read a book before you are able to read before bed. It is important to know what to read before bed. It is important to remember that a good book to read before you sleep. It is important to read before bed. It is important to keep a book to read before bed to ensure that you are reading it before bed to ensure that it is important to keep a good book to keep a good read before bed. It is important to keep a book to keep a good book to read before you are reading before bed before you wake up and to keep it on the bed before you are reading\n",
      "########\n",
      "*******\n",
      "question: Where is a knight likely to be found in the US?\n",
      "answer: chess set\n",
      "choices: ['middle ages', 'chess set', 'historical novel', 'castle', 'guarding the king']\n",
      "common expl list: ['A knight is a piece in the game of chess, which is played on a chess set.']\n"
     ]
    },
    {
     "name": "stderr",
     "output_type": "stream",
     "text": [
      "\r",
      "  3%|█████▏                                                                                                                                                          | 32/986 [1:20:45<35:41:33, 134.69s/it]"
     ]
    },
    {
     "name": "stdout",
     "output_type": "stream",
     "text": [
      "generated explanation: <pad> <extra_id_0> A knight is a person who is likely to be found in the US and is likely to be a member of the chess team. The chess set is a popular game of chess that is often played in the US and is often played in the US. It is a game that is often played in the US and is a great way to learn to play and control a knight. The chess set is a game of strategy, and it is a great way to learn to use the rules and play the game. The set is also a great way to learn the rules and strategies of the game. The set is also a great way to play the game of chess set is a great way to learn and practice the rules and regulations. The set is a great way to learn how to use the rules and techniques of the game. The set is also a great way to learn how to play and how to use the game. The set is also a great way to learn the rules and strategies of the game and how to play. The set is a great way to learn new players and how to play it and how to play the game and how to play the game and how to play the game and how to play the game is a great way to play the game and how to play the game and how to use the game and how to play the game and how to use the game is to be a good way to use the game and how to use the game and how to use the game and how to play the game and how to use the game and how to use the</s>\n",
      "########\n",
      "*******\n",
      "question: Jack saw little point to communicating beyond the basics.  To him, it was just a means to do what?\n",
      "answer: exchange information\n",
      "choices: ['go swimming', 'making friends', 'exchange information', 'people to think', 'confusion']\n",
      "common expl list: [\"Keeping the communication sparse would allow him to conserve energy by speaking less. Since communication is just a means to exchanging information, Jack would not see much 'point', to say, a conversation beyond the basics.\"]\n"
     ]
    },
    {
     "name": "stderr",
     "output_type": "stream",
     "text": [
      "\r",
      "  3%|█████▎                                                                                                                                                          | 33/986 [1:23:18<37:07:12, 140.22s/it]"
     ]
    },
    {
     "name": "stdout",
     "output_type": "stream",
     "text": [
      "generated explanation: <pad> <extra_id_0> Jack saw little point in communicating beyond basic communication. Information exchange was a means to communicate with others. It was a means to communicate with one another. It was a means to communicate with one another. It was a means to communicate with one another. It was a way to communicate with others, share ideas, and share information. It was a means to communicate with one another. It was a means to do something that was not a means to communicate with others. It was a means to communicate with one another. It was a means to exchange information. It was also a means to communicate with one another. It was a means to communicate with others. It was also a means to communicate with others. It was a means to communicate information. It was a means to communicate with others. It was a means to communicate with others, and it was a means to communicate with others, and it was a means to communicate with one another. It was a means to communicate with other people, and it was a means to communicate with others. It was a means to communicate with others. It was a means to exchange information. It was a means to communicate information. It was a means to communicate with others. It was a means to communicate with each other, and it was a means to exchange information and information. It was a means to communicate with each other. It was a means to exchange information and information. It was a means to communicate. It was a means to exchange information and exchange information. It was a means to communicate with others, and it was a means to do something that could be a means to do something that would be a means to communicate with others. It was a means to exchange information and information that could be used to communicate with others. It was a means to communicate with others. It was a means to communicate information and to exchange information and to exchange information and to communicate with others. It was a means to communicate with others. It was a means to do this. It was a means to exchange information and to communicate with others. It was a means to do so. It was a means to exchange information and to exchange information and to exchange ideas, ideas, and to communicate with others. It was a means to communicate with others. It was a means to communicate with others. It was\n",
      "########\n",
      "*******\n",
      "question: I as a person don't kill others, why do I not?\n",
      "answer: value life\n",
      "choices: ['experience pleasure', 'laws', 'value life', 'thank god', 'go into debt']\n",
      "common expl list: [\"Someone who does not kill might have a great deal of respect for life; as a person's life is valuable, the opposite is true about the act of taking a life.\"]\n"
     ]
    },
    {
     "name": "stderr",
     "output_type": "stream",
     "text": [
      "\r",
      "  3%|█████▌                                                                                                                                                          | 34/986 [1:23:49<28:24:57, 107.45s/it]"
     ]
    },
    {
     "name": "stdout",
     "output_type": "stream",
     "text": [
      "generated explanation: <pad> <extra_id_0> I don't kill others, but I value my life. I don't kill others because they are not my fault. I don't kill others because they are my fault. I don't kill others because they are my fault. I don't kill others because they are my fault. I don't kill others because they are my fault. I don't want to kill others because I don't want to kill them. I don't kill others because I don't want to kill them. I don't want to kill others because I value life and others because I value life. I don't want to kill others because I want to be able to live my life. I don't kill others because I don't kill others because I don't want to kill others because I want to be able to be able to kill others because I want to be able to kill others because they are able to kill others because they are not able to kill them because they are able to kill others. Vale life is a great way to help others. I value life.</s>\n",
      "########\n",
      "*******\n",
      "question: What is likely to be a child's reaction to going to play?\n",
      "answer: happiness\n",
      "choices: ['happiness', 'tears', 'sit', 'being entertained', 'laugh']\n",
      "common expl list: ['Children like to play.']\n"
     ]
    },
    {
     "name": "stderr",
     "output_type": "stream",
     "text": [
      "\r",
      "  4%|█████▋                                                                                                                                                          | 35/986 [1:26:26<32:14:51, 122.07s/it]"
     ]
    },
    {
     "name": "stdout",
     "output_type": "stream",
     "text": [
      "generated explanation: <pad> <extra_id_0> Playing is a great way to increase child's sense of achievement and enjoyment. Playing is a great way to increase a child's social skills and develop a sense of self-esteem. It is also a great way to increase a child's confidence and confidence in a positive way. Playing is also a great way to build relationships with other children and to increase their social skills. It is also a great way to increase their confidence and self-esteem. It is also a great way to increase their confidence and self-confidence. It is also a great way to increase the number of children who are engaged in playing and developing social skills. It is also a great way to increase their confidence and confidence. It is also a great way to improve their overall happiness. It is also a great way to increase their confidence and confidence. It is also a great way to boost their confidence and confidence. It is also a great way to increase their confidence and confidence to play with a child's happiness is to help them develop their potential. It is important to understand how kids feel about playing and how they feel about themselves. It is also a way to express their feelings about themselves and their interests and interests. It is also a way to express themselves through play and encourages them to be creative and encourage them to express their feelings of satisfaction. It is also a way to express their feelings of being a positive experience. It is also an enjoyable experience. It is also a way to feel good about playing with a child's feelings of accomplishment and play. It is a great way to express their feelings and emotions. It is a great way to express their personalities and give them a sense of accomplishment and encourages them to express their feelings of joy and excitement. Playing outside activities. It also allows them to express their personalities and interests. It can help to encourage them to express their feelings of belonging and to help them to express their emotions. It is a good way to express their feelings of belonging and to express themselves through play. It is also a great way to express their feelings of happiness and accomplishment. It is a great way to express their feelings and emotions. It can help to be a positive and positive. It can help to be a positive and positive. It is a great way to express their feelings of belonging and to express their emotions and to express their\n",
      "########\n",
      "*******\n",
      "question: Where could you find multiple ruler that are owned by different people?\n",
      "answer: office\n",
      "choices: ['measure distance', 'england', 'office', 'drawer', 'desk']\n",
      "common expl list: ['Office buildings often have rulers.', 'When someone works in an office, even if it is part-time or freelance, they may be required to measure distances e.g., in departments or cubicles, and so, offices are a good place to find ruler.']\n"
     ]
    },
    {
     "name": "stderr",
     "output_type": "stream",
     "text": [
      "\r",
      "  4%|█████▊                                                                                                                                                          | 36/986 [1:29:03<34:59:10, 132.58s/it]"
     ]
    },
    {
     "name": "stdout",
     "output_type": "stream",
     "text": [
      "generated explanation: <pad> <extra_id_0> Multiple rulers are used in offices to make decisions. They are used to make decisions that are made by different people. They are often owned by different people. They are used to make decisions that are made by different people. They are also used to make decisions about the quality of their work. They are also used to make decisions on the quality of their homes and their products. They are also used to make decisions about their own needs. They are also used to make decisions about their own needs and goals. They are also used to make decisions about their owning multiple rulers is a number of rulers that are owned by different people. They are also used to make decisions about their own office. They are also used to make decisions on a variety of decisions that are owned by different people. They are used to make decisions on the quality of rulers. They are also used to make decisions about their own decisions about their owning multiple rulers. They are also used to make decisions about their own decisions about how they are used to ensure that they are not being able to make a difference in the way they are being used to make them better. They are also used to make them more efficient and more efficient. They are also used to make decisions that are more efficient. They are also used to make decisions that are made by different people. They are also used to make decisions that are made by different types of rulers. They are also used to make sure that they are used to ensure that their owners are making decisions that are consistent and effective. They are used to ensure that they are used to ensure that they are used to make decisions that are not able to make decisions that are made to ensure that their decisions that are made to ensure that they are used to make. They are used to make the most effective and efficient. They are often used to ensure that they are used to make the best decisions that are made by different people. They are also used to be able to make them effective. They are also more effective in their work. They are more efficient in their work. They are also more efficient. They are also more efficient. They are also more efficient in their work. They are more effective in their work. They are also more efficient. They are more effective in a more efficient. They are more effective in their work and are more efficient in a more efficient. They are more effective in their work and are more efficient in their office. They are more efficient in their use\n",
      "########\n",
      "*******\n",
      "question: When remembering you referencing things that you have what?\n",
      "answer: prior knowledge of\n",
      "choices: ['memory cells', 'learning about', 'prior knowledge of', 'brain cells', 'nerve cells']\n",
      "common expl list: ['Most of the things a person knows come from learning in the past and usually have some recollection involved.']\n"
     ]
    },
    {
     "name": "stderr",
     "output_type": "stream",
     "text": [
      "\r",
      "  4%|██████                                                                                                                                                          | 37/986 [1:31:30<36:07:54, 137.06s/it]"
     ]
    },
    {
     "name": "stdout",
     "output_type": "stream",
     "text": [
      "generated explanation: <pad> <extra_id_0> When remembering something, remembering it is because you have prior knowledge of it. It is important to remember that you have referenced it before making a decision. In this way, you can ensure that you have a clear picture of the information that you have. This knowledge can help you to make a decision that is based on the information you have. Prior knowledge of reference is the ability to remember the information you have. In addition to referencing the information, remembering the information you have in mind can also help you to remember the details of the information you have. This knowledge can help you to remember the information you have. This knowledge can help you to make decisions that are relevant to you. This knowledge can help you to make the decision that you have. This knowledge can help you to make a better understanding of the information you have to offer. This knowledge can be used to help you to make a decision making process faster. This knowledge of the information you have. This knowledge can help you to make a better understanding of the information you need to be able to make a better understanding the information you need to make a better understanding of the information you need to make a better understanding of the information you need to make better decisions that you can make. The knowledge of the information you have. This knowledge can be used to make a difference in the future. This knowledge can help you to make a better understanding of the information you need to make a better understanding of the history of the history of the past. The history of the past, present and future. This knowledge can be used to help you understand the history of the past, and to make a better decision. The knowledge of the past, and the history of the past, and to help you understand the future. The history of the history of the past, and how you can help you understand the history of the past, present and future. The knowledge of the past, the history of the past, and the history of the past, and the history of the past. The history of the past, and how it can help you to understand the history of the past, and how the history of the past. The knowledge of the past, the history of the past, and the present, and the past. The knowledge of the past, is important to remember the past, and how to remember the past, present, and how to remember the past, and how to remember the future. The knowledge of\n",
      "########\n",
      "*******\n",
      "question: After running twenty six miles he felt like he had lost twenty six pounds, this was from all the what?\n",
      "answer: sweat\n",
      "choices: ['exercise', 'sweat', 'pass out', 'collapse', 'drink water']\n",
      "common expl list: ['Sweating is a way to cool down the body, and so after running for a long time, a person might sweat a lot.']\n"
     ]
    },
    {
     "name": "stderr",
     "output_type": "stream",
     "text": [
      "\r",
      "  4%|██████▏                                                                                                                                                         | 38/986 [1:34:02<37:16:03, 141.52s/it]"
     ]
    },
    {
     "name": "stdout",
     "output_type": "stream",
     "text": [
      "generated explanation: <pad> <extra_id_0> Running twenty six miles is an intense workout that requires a lot of sweat. The sweat is absorbed by the body and the muscles that are able to absorb the heat. The sweat also helps to keep the body in shape and reduce the amount of water and heat that is needed to keep the body in shape. The sweat helps to keep the body in shape and prevents the body from gaining weight. The sweat helps to keep the body in shape and prevents the body from gaining weight. The sweat helps to keep the body warm and dry, and the muscles that are used to sweating. The sweat helps to keep the body in shape. The sweat helps to keep the blood dry, and the sweat helps to keep the sweat out of the body. The sweat helps to keep the body dry. The sweat helps to keep the body in shape. The sweat helps to keep the body in shape. The sweat helps to keep the pounds in shape. The sweat helps to keep the weight off. The sweat helps to keep the pounds off of the sweat from causing the sweat to build up. The sweat is a great way of keeping the pounds in check. The sweat helps to keep the sweat off the pounds off. The sweat helps to keep the weight off the body. The sweat helps to keep the weight off the sweat. The sweat helps to keep the pounds off the sweat from a healthy, hydrated, and the sweat helps to keep the weight off. The sweat helps to keep the pounds off the body. The sweat helps to keep the weight off the body. The sweat helps to keep the body. The sweat helps to keep the pounds off the body. The sweat helps to keep the sweat from toxins in the body. The sweat helps to keep the weight off the body and to keep the pounds off the body. The sweat helps to keep the body. The sweat helps to keep the body dry and helps to keep the sweat off the body. The sweat helps to keep the weight off the body and helps to keep the sweat and to keep the pounds off the body. The sweat is also helps to keep the pounds off the body and helps to keep the pounds off the body. The sweat helps to keep the pounds off the body. The body. The sweat and sweat helps to keep the body dry. The sweat helps to keep the pounds off the body. The sweat and sweat off the body. The sweat and sweat is a healthy, active body. The sweat and sweat helps to keep the\n",
      "########\n",
      "*******\n",
      "question: In what western sate might one find a bald eagle?\n",
      "answer: colorado\n",
      "choices: ['captivity', 'colorado', 'zoo', 'canada', 'in washington']\n",
      "common expl list: ['Eagles are native to the western United States, and Colorado is a western state.']\n"
     ]
    },
    {
     "name": "stderr",
     "output_type": "stream",
     "text": [
      "\r",
      "  4%|██████▎                                                                                                                                                         | 39/986 [1:35:31<33:05:18, 125.79s/it]"
     ]
    },
    {
     "name": "stdout",
     "output_type": "stream",
     "text": [
      "generated explanation: <pad> <extra_id_0> A bald eagle is a bird that is found in a western sate in the western sate of the western U. Colorado is a bird that is found in the western sate of the U. It is a common sighting in the western sate of the U. The bald eagle is a species of bald eagle that is found in the western sate of the U. The bald eagle is a migratory bird in the western sate in the western sate in the western sate. The eagle is a migratory zone in the western sate, a habitat that is a habitat for bald eagle, a variety of habitats. The bald eagle is a species of a wide variety of habitats, and is a great habitat for eagle, and is a great habitat for eagles. Colorado, and is a great habitat for eagle, and is a popular sighting in the western sate in the western sate, and is endemic, and is a popular spot in the western sate. The eagle is a bird that is a common bird that is a large, a great eagle, and is a great way to find eagles in the western eagle, and is a great way to see eagle, and is a great way to see eagles in the western sate.</s>\n",
      "########\n",
      "*******\n",
      "question: When a retired person returns to work they likely need to do what?\n",
      "answer: earn money\n",
      "choices: ['key', 'earn money', 'get out of bed', 'need money', 'understand themselves']\n",
      "common expl list: ['When a person is retired, they probably are not making enough money through a pension benefit to support themselves after retirement, so they work again, perhaps full-time, in order to have enough money.(money key)']\n"
     ]
    },
    {
     "name": "stderr",
     "output_type": "stream",
     "text": [
      "\r",
      "  4%|██████▍                                                                                                                                                         | 40/986 [1:37:07<30:39:21, 116.66s/it]"
     ]
    },
    {
     "name": "stdout",
     "output_type": "stream",
     "text": [
      "generated explanation: <pad> <extra_id_0> When a retired person returns to work, they likely need to do something that they enjoy doing, such as work in a restaurant or other place of work. This is because retired people are more likely to have a desire to work and to have fun. This is because retirement is a time of opportunity for them to make new friends and develop new ones. This is because retiring people are more likely to have a passion for their work and to earn more money. This is because retired people are more likely to have a passion for their work and to have fun while they are still in their 20th-year-olds to maintain and maintain their current job. This is because they are more likely to have a job that they are more likely to earn money through their retirement years. They may have a job to complete their degree and/or experience in the field of study and to have the skills and knowledge of the skills and knowledge to work in the field. This is a great opportunity to work in a variety of different areas of their careers. This allows them to work in a variety of jobs and to work in a variety of jobs. This allows retired people to work in a variety of jobs and to be successful at their current job and to be able to work in a variety of different jobs. This allows retired people to work in a variety of skills that are needed to be successful. This allows retired employees to work in a variety of roles and to work in a variety of jobs and to work in a variety of positions and to be able to earn a variety of new and exciting jobs. They may be able to earn money by earning money. They may also be able to work in a variety of fields, such as accounting, finance, and other areas, such as finance, and to work in a variety of fields that are not as rewarding and rewarding.</s>\n",
      "########\n",
      "*******\n",
      "question: What can be the result of meeting people with similar attitudes?\n",
      "answer: making new friends\n",
      "choices: ['anxiety', 'being bored', 'love', 'making new friends', 'new job']\n",
      "common expl list: ['People with similar interests are likely to be friends, or familiars to each other, having many opportunities to meet each other and have things in common to discuss.', \"Friends often share some interests and/or attitudes, and when someone meets people with similar attires, that's a good indicator they might be good candidates for becoming friends.\"]\n"
     ]
    },
    {
     "name": "stderr",
     "output_type": "stream",
     "text": [
      "\r",
      "  4%|██████▋                                                                                                                                                          | 41/986 [1:37:52<24:59:20, 95.20s/it]"
     ]
    },
    {
     "name": "stdout",
     "output_type": "stream",
     "text": [
      "generated explanation: <pad> <extra_id_0> Meeting new people can be a great way to meet new people with similar attitudes. Meeting new people can be a great way to meet people with similar attitudes. They can be a great way to meet new people and make new friends. They can also be a great way to build relationships and build relationships. They can be a great way to meet new people and make new friends. They can also be a great way to build relationships and build trust. They can also be a great way to make new friends. They can also be a friend or new friends by making new friends with similar attitudes and feelings. Making new friends can be a great way to build relationships and build trust in someone else and can help them to build relationships and build relationships. They can be a great way to build relationships that can help them to build trust and make new friends who they can also help them to build a connection to each other. Making new friends with similar attitudes can help to build relationships and build new friendships. Making new friends can be a great way to make new friends with people with similar attitudes and attitudes. Making new friends can be a great way to build new friendships can be a great way to meet new people with similar attitudes and values.</s>\n",
      "########\n",
      "*******\n",
      "question: Danny noticed a ceramic object on the table and picked a grape out of it.  What might have been on the table?\n",
      "answer: bowl of fruit\n",
      "choices: ['kitchen', 'painting of fruits', 'fruit basket', 'bowl of fruit', 'fruit stand']\n",
      "common expl list: ['A bowl of fruit is an appropriate item to put on a table, as it can hold many kinds of fruit.']\n"
     ]
    },
    {
     "name": "stderr",
     "output_type": "stream",
     "text": [
      "\r",
      "  4%|██████▊                                                                                                                                                         | 42/986 [1:40:25<29:33:19, 112.71s/it]"
     ]
    },
    {
     "name": "stdout",
     "output_type": "stream",
     "text": [
      "generated explanation: <pad> <extra_id_0> Danny noticed a bowl of fruit on the table and picked a grape out of it. The bowl of fruit was a ceramic object that was on the table and it was a bowl of fruit. It was a bowl of fruit that was a bowl of fruit. It was a bowl of fruit that was a bowl of fruit and a bowl of grapes. It was a bowl of fruit that was a bowl of fruit. It was a bowl of grapes, a bowl of fruit, a bowl of grapes were a bowl of grapes was a bowl of fruit on the table and a bowl of fruit bowl of fruit. It was a bowl of grapes was a bowl of fruit, and it was a bowl of grapes were a bowl of grapes were a bowl of grapes that was a bowl of grapes that were a bowl of grapes that were a bowl of grapes that were a bowl of grapes that Danny had picked out of the bowl of fruit. It was a bowl of fruit. This was a bowl of fruit that Danny had a bowl of grapes that Danny had picked out of. This was a bowl of grapes that Danny had picked out of the bowl of grapes that Danny had placed on the table. This was a bowl of grapes that Danny had picked out of the bowl of fruit. This was a bowl of fruit that Danny had picked out of the bowl of fruit that Danny had placed on the table. This was a bowl of grapes that Danny had placed on the table. This was a bowl of fruit that Danny had placed on the table. This would have been a bowl of fruit that Danny had placed on the table. It could have been placed on the table. It could have been a bowl of fruit that Danny could have been placed on the table. It could have been a bowl of fruit that Danny could have been a bowl of fruit that Danny could have been a bowl of fruit that was a bowl of fruit that Danny could have been a grape. This would have been a bowl of fruit that Danny could have picked from a bowl of grapes that Danny could have been a bowl of fruit that Danny could have picked from a bowl of fruit. This would have been a bowl of fruit and would have been a bowl of grape. This would have\n",
      "########\n",
      "*******\n",
      "question: The nose dipped and alarms went off inside the what?\n",
      "answer: aircraft\n",
      "choices: ['car', 'sniff', 'aircraft', 'upper respiratory tract', 'missile']\n",
      "common expl list: ['The nose dips and alarms go off inside the cockpit of an aircraft when the nose of the aircraft dips too low.']\n"
     ]
    },
    {
     "name": "stderr",
     "output_type": "stream",
     "text": [
      "\r",
      "  4%|██████▉                                                                                                                                                         | 43/986 [1:42:53<32:15:19, 123.14s/it]"
     ]
    },
    {
     "name": "stdout",
     "output_type": "stream",
     "text": [
      "generated explanation: <pad> The nose dipped and alarms went off inside the aircraft. The nose dipped and the alarms went off inside the aircraft. The nose dipped and the alarms went off inside the aircraft. The nose dipped and the alarms went off inside the aircraft. The nose dipped and the alarms went off inside the aircraft. The nose dipped and the alarms went off inside the aircraft. The aircraft was able to detect the aircraft from the outside and the aircraft was able to detect the aircraft from the inside. The nose dipped and the aircraft was able to detect the aircraft’s nose dipped and the aircraft’s engine compartment. The nose dipped and the aircraft dipped and the alarms went off inside the aircraft. The nose dipped and the aircraft was able to sense the air and the aircraft was able to sense the air and the aircraft was able to detect the aircraft from the outside of the interior. The nose dipped and the aircraft able to sense the air. The aircraft was able to sense the aircraft’s position quickly and easily. The aircraft was able to sense the aircraft’s position and the aircraft’s position when the aircraft’s position when the aircraft’s position when the aircraft was able to sense the air. The aircraft was able to sense the aircraft’s position when the aircraft was able to sense the aircraft’s position when the aircraft was able to sense the aircraft’s position when the aircraft’s position and to sense the aircraft’s position. The aircraft was able to sense the aircraft’s position. The aircraft was able to sense the aircraft’s position when the aircraft’s position when it was able to sense the air. The nose dipped in the air. The nose dipped in the air was able to detect the aircraft’s position. The aircraft was able to sense the aircraft’s position. The aircraft was able to sense the aircraft was able to sense the air was able to sense the aircraft’s direction and the aircraft was able to sense the air and the air was moving. The aircraft was able to sense the air was able to sense the air was able to sense the air was able to sense the air was able to sense the air was able to sense the air was able to sense the air was able to\n",
      "########\n",
      "*******\n",
      "question: Where is a cord likely to be on a tent?\n",
      "answer: sporting goods store\n",
      "choices: ['inside tent', 'delivery room', 'hardware store', 'backpack', 'sporting goods store']\n",
      "common expl list: ['Sporting goods stores likely have tents on display which generally come with their cords.']\n"
     ]
    },
    {
     "name": "stderr",
     "output_type": "stream",
     "text": [
      "\r",
      "  4%|███████▏                                                                                                                                                        | 44/986 [1:45:32<35:03:53, 134.01s/it]"
     ]
    },
    {
     "name": "stdout",
     "output_type": "stream",
     "text": [
      "generated explanation: <pad> <extra_id_0> A cord is a small piece of metal that is usually found on a tent. It is used to attach the tent's tent to a tent and is typically a staple of a tent. It is also used to secure the tent in place. It is also used to secure the tent from the elements. It is also used to secure the tent from falling off. It is also used to secure the tent in place. It is also a great way to secure a tent from falling down. It is also a great way to keep the cord in place of a tent, as it can be used to secure the tent. A cord is also a great way to keep the tent in place. It is also a great way to keep the tent in place. It is a great way to keep the cord in place when it is worn. It is also a great way to keep the tent in place. A cord is a great way to keep the tent in place. It is a great way to keep the tent in place when it is being used in a tent in a tent in a tent. It is a great way to keep the tent in place. It is also a great way to keep the tent in place. It is also a great way to keep the tent in place when the tent is a tent in place. The cord is also a great way to keep the tent in place. It is also a tent in place. It is a place to keep the tent in place. It is also a great way to keep the tent in place. It is also a great way to keep the tent in place. It is also a great way to keep the tent in place. It is a great way to keep the tent in place. It is a place to keep the cords in place when the tent is placed in the right place to keep the tent in place. It is a great way that it can be used to hold the tent in place and can be used to keep the tent in place. It can also be used to keep the tent in place when camping, and it can be used to keep the tent in place when camping. It can be used to keep the tent in place. It can be used to keep the tent in place and can be used to keep the tent in place and can be used to keep the tent in place and can be used to keep the\n",
      "########\n",
      "*******\n",
      "question: The man reduced the town to rubble out of hate, what was his goal?\n",
      "answer: destroy enemy\n",
      "choices: ['wage war', 'play nice', 'fight enemy', 'stab to death', 'destroy enemy']\n",
      "common expl list: ['someone who is completely obsessed with destroying an enemy (going so far as to want them completely obliterated from existance) is not a person who is playing nice.']\n"
     ]
    },
    {
     "name": "stderr",
     "output_type": "stream",
     "text": [
      "\r",
      "  5%|███████▎                                                                                                                                                        | 45/986 [1:48:08<36:45:22, 140.62s/it]"
     ]
    },
    {
     "name": "stdout",
     "output_type": "stream",
     "text": [
      "generated explanation: <pad> <extra_id_0> The man reduced the town to rubble out of hate and destruction. The goal of the man was to destroy enemy and destroy them. The goal of the man was to reduce the town to rubble out of hate and destruction. The man reduced the town to rubble out of fear and hatred. The man reduced the town to rubble out of fear and destruction. The goal of the man was to destroy enemy and destroy their homes and neighborhoods. The man reduced the town to rubble out of fear and hatred. The man reduced the town to rubble out of fear and destroy the town of the man's way. The man's goal was to destroy the enemy and destroy the city of the town was a place of hatred and hatred. The goal of the man was to destroy the town of the town to rubble. The man's goal was to destroy the town to the ground to create a new, clean, safe, and safe. The man was able to create a sense of community. The man reduced the town to rubble out of fear and hatred and create a sense of community. The man was able to destroy the town, destroying the town, destroying the town to the ground to the ground, destroying the town to the rubble. The man was able to create a place that would be destroyed, and the man would be able to destroy the town. The man would also destroy the town to create a safe environment that would be able to create a place that would be able to create a place where the man would be able to destroy the enemy and to create a place of destruction that would create a place of destruction. This would be able to destroy the enemy and destroy the enemy. The man would also destroy the enemy and destroy the town to create a place of destruction. The man would destroy the enemy to destroy the enemy to create a place of destruction and destroy the enemy. The man would destroy the town to create a place of destruction. The man would destroy the town to protect the town to protect the town to protect the town to protect the enemy would destroy the town to protect the town. The man would destroy the enemy to protect the town to protect the town to protect the town to protect the enemy to protect the community to protect the community to protect the town to protect the community to protect the community. The man would destroy the town to protect the community. The man would destroy\n",
      "########\n",
      "*******\n",
      "question: The toddler thought it would be fun to try eating breakfast in bed, what resulted?\n",
      "answer: mess\n",
      "choices: ['contentment', 'indigestion', 'vomiting', 'mess', 'catastrophe']\n",
      "common expl list: [\"Toddlers have poor coordination.  Even if they could somehow manage to not fall off the bed, it's likely that they would spill the food that they took with them to bed.  A mess would be made.\", \"Toddlers like to explore and test their own boundaries. They often don't know their limits, and it's common for their behavior to result in a mess. In the toddler's case, it involved getting breakfast on the bed due to his inexperience\"]\n"
     ]
    },
    {
     "name": "stderr",
     "output_type": "stream",
     "text": [
      "\r",
      "  5%|███████▍                                                                                                                                                        | 46/986 [1:48:32<27:34:57, 105.64s/it]"
     ]
    },
    {
     "name": "stdout",
     "output_type": "stream",
     "text": [
      "generated explanation: <pad> <extra_id_0> The toddler thought it would be fun to try eating breakfast in bed, but it ended up being a mess. The toddler thought it would be fun to try eating breakfast in bed, but it ended up being a mess. It was also fun to try eating breakfast in bed. It was also fun to try to get a good breakfast in the morning. It was also fun to try eating breakfast in bed. It was a great way to start the day. It was a great way to get a little more creative with the kids. It was also a great way to get them to eat breakfast in bed and try eating breakfast in bed. It was also fun to try eating breakfast in bed. It was also fun to try to get them to make them happy and healthy. It was a fun way to get to know their family and friends, which was a great way to get them to know that the toddler would have a good idea to try and make them feel like they were being able to have fun. It was a good idea to try to get to know how to handle it</s>\n",
      "########\n",
      "*******\n",
      "question: He had a hard time getting his father's attention, he hoped that the winning baseball game would finally get him some what?\n",
      "answer: recognition\n",
      "choices: ['confirmation', 'celebrating', 'pride', 'recognition', 'happiness']\n",
      "common expl list: ['One way to gain recognition from ones parents is by accomplishing things that they value. For example, children might hope to make their parents proud of them by excelling at sports.']\n"
     ]
    },
    {
     "name": "stderr",
     "output_type": "stream",
     "text": [
      "\r",
      "  5%|███████▋                                                                                                                                                        | 47/986 [1:51:10<31:36:49, 121.20s/it]"
     ]
    },
    {
     "name": "stdout",
     "output_type": "stream",
     "text": [
      "generated explanation: <pad> <extra_id_0> The baseball game was a great opportunity for his father to get his father some recognition. The baseball game was a great opportunity for him to get his father some recognition. The winning baseball game was a great opportunity to get his father some recognition. It was a great opportunity for him to get his father some attention. It was a great opportunity to get his father some recognition. It was also a great opportunity to get his father some recognition. The winning baseball game was a great opportunity to get his father some recognition. It was a great opportunity to win. It was a great opportunity to get his father's attention. The winning baseball game was a great opportunity to get his father some recognition for his father to get his father to get his father's attention. It was a great opportunity for him to get recognition for his father to win the baseball game. The winning baseball game was a great opportunity to get his father to get his father some recognition for it was a great opportunity to get him some recognition. It was a great opportunity to win the baseball game and get him to know his father's attention. The baseball game was a great way to get him to know that the winning team would get him some recognition for his father's success. It was a great way to get recognition because it was a great way to get recognition is because it was a great way to get recognition from the baseball game. It was a great way to get recognition is a great way to get him to get his father some recognition. It was a great way to get him to know his father's recognition was the best thing to get his father's recognition is the best way to get him some recognition. It was an important moment to get his father's attention. It was a great way to get his father's attention. It was a great opportunity to get him some recognition. The winning pitchers were the first step in the right to get him some recognition. The winning pitchers were recognized for their accomplishments. It was a great opportunity to get his father's attention. It was a great opportunity to win the ball was a big game. It was also a big game. It was a big game. It was a big deal. It was a big game was a big game was a great opportunity to get his father's hand. It was a big game\n",
      "########\n",
      "*******\n",
      "question: The toddler is awaking from a nap, what doesn't he feel anymore?\n",
      "answer: tiredness\n",
      "choices: ['nervous', 'eyes opening', 'getting out of bed', 'tiredness', 'discomfort']\n",
      "common expl list: ['Children can easily get tired at their ontervall and a nap is an effective way for them to get over tiredness. Then when they wake up, they do not feel tiredness any longer.']\n"
     ]
    },
    {
     "name": "stderr",
     "output_type": "stream",
     "text": [
      "\r",
      "  5%|███████▊                                                                                                                                                         | 48/986 [1:51:32<23:49:05, 91.41s/it]"
     ]
    },
    {
     "name": "stdout",
     "output_type": "stream",
     "text": [
      "generated explanation: <pad> <extra_id_0> The toddler is waking from a nap and is feeling tired. It is normal for a toddler to be awake for a nap. It is also normal for a toddler to be awaken from a nap. It is normal for a toddler to be awake for a few hours after a nap. It is normal for a toddler to be awakened from a nap and to be awakened from a nap. This is because it is a normal time for a toddler to be awaken from a nap. This is because a nap, and because it is normal for a toddler to be awakened from a nap and therefore, it is normal for a nap before a nap, which means that it is a good thing. This is because it is normal for a nap is normal for a child to be awakened from a nap and that it is a good thing. This is because a child is waking from a nap, it is normal</s>\n",
      "########\n",
      "*******\n",
      "question: John listened to music when he needed to focus.  It helped him achieve what?\n",
      "answer: quiet mind\n",
      "choices: ['express emotion', 'beautifull', 'irritate', 'bad environment', 'quiet mind']\n",
      "common expl list: [\"There's scientific evidence that listening to music can help people think better and concentrate easier.\", 'Music can, at the very least, provide passive background noise as one works to help one focus. More specifically, music might have positive, uplifting or emotional qualities that are conducive to focus and concentration.', \"When one is trying to focus on a task, it's common to listen to music to help one focus.\"]\n"
     ]
    },
    {
     "name": "stderr",
     "output_type": "stream",
     "text": [
      "\r",
      "  5%|███████▉                                                                                                                                                        | 49/986 [1:54:05<28:37:57, 110.01s/it]"
     ]
    },
    {
     "name": "stdout",
     "output_type": "stream",
     "text": [
      "generated explanation: <pad> <extra_id_0> John listened to music when he needed to focus on his work. It helped him achieve a quiet mind. It helped him to focus on his work and to achieve his goals. To do this, John listened to music to help him focus on his work. It also helped him to focus on his work and to focus on his work. It also helped him to keep track of his thoughts and to keep track of his thoughts and thoughts. It helped him to keep track of his thoughts and thoughts.<pad> <extra_id_0> John listened to music when he needed to focus on his thoughts and thoughts. It also helped him to focus his mind and to keep track his thoughts and thoughts. It helped him focus and to focus his thoughts and to be more focused and focused. It helped him to focus more effectively. It also helped him to focus and focus on his work and to focus on his thoughts. It also helped him focus on his thoughts and feelings. Music helped him focus and to focus on his thoughts and feelings. It helped him focus and focus. Music helped him to achieve his goal. It also helped him to focus and to focus on his thoughts and feelings. Music can be used to help him focus and focus more clearly and to maintain a quiet mind. It also helped to keep him on his work better. It helped him to focus and to focus his mind. The mind is a great motivator, and it can help to keep him focused. The music helped him focus on his task. It helped him to focus his thoughts and to focus more clearly. The music helped him to focus his attention and to focus more efficiently. The music helped him to focus more effectively. It helped to help to improve his concentration and focus. The music helped him to focus on his thoughts and feelings. The music helped him to focus his attention. The music also helped him to achieve his goals. It also helped to focus on the music to focus and to keep his mind focused and to focus on his thoughts and to focus. The music helped him to keep track of his thoughts and to focus and to focus more effectively. The music helps to keep track of his thoughts and to keep focus. Music helps to focus on his task at hand. The music helped him focus more effectively and to keep his mind. The music helps him achieve his goals. Music also helps him to achieve his goal of focusing. The music helps to keep him focused. Music helps him focus on his thoughts and focus on his thoughts and feelings. The music\n",
      "########\n",
      "*******\n",
      "question: If I were to suffer from sudden illness I would be within reason to visit where?\n",
      "answer: hospital\n",
      "choices: ['nursing home', 'hospital', 'brain', 'elderly person', 'building']\n",
      "common expl list: ['Anyone can suffer a sudden illness, but hospitals are where the equipment and personnel exist to deal with sudden illnesses.', 'A hospital is a place where people go to receive treatment for illnesses.', 'A hospital is a center for treatment and care of those suffering from illness.', 'If you were suddenly suffering an illness, it would be a reasonable thing to go to the hospital for treatment of that illness.']\n"
     ]
    },
    {
     "name": "stderr",
     "output_type": "stream",
     "text": [
      "\r",
      "  5%|████████                                                                                                                                                        | 50/986 [1:56:39<32:00:38, 123.12s/it]"
     ]
    },
    {
     "name": "stdout",
     "output_type": "stream",
     "text": [
      "generated explanation: <pad> <extra_id_0> If I were to suffer from sudden illness I would be within reason to visit a hospital. Hospitals are often located in the heart of the city, and are often located in the middle of the city. It is a good idea to visit a hospital in the event that I am in a sudden illness. In hospital, the patient would be able to get adequate medical attention and treatment. In hospital, the patient would be able to get medical attention for any illness that is causing the illness. In hospital, the patient would be able to get medical attention and help in a hospital stay. Hospitals are often located in the heart, especially if the patient is in a hospital. Hospitals are often located in a safe and secure environment. Hospitals are often located in a hospital and are often located in a hospital, and the patient is in a hospital for medical attention. Hospital staff are trained to provide the appropriate care. Hospitals are also able to provide the necessary services, such as a hospital stay and a room, and the care they need to be able to provide the hospital. Hospitals are often able to provide the patient with a variety of medical services. The hospital is not always able to provide the medical care. Hospitals are often times the best care, and the hospital is often located in a safe and secure environment, which can provide the patient. The hospital is usually located in a hospital is often located in a hospital. Hospitals are often located in a hospital. Hospitals are located in a hospital to provide a variety of facilities such as a hospital stays are also located in areas where the patient is able to provide a variety of facilities that are located nearby. This helps to prevent the patient to be treated with a hospitalization, such as preventing the patient is able to provide a variety of facilities that are located in a hospital. Hospitals are also often located in a hospital to treat the patient is able to maintain a hospital. Hospitals are often located in the area. Hospitals are also often located in the area and are often located in the area. Hospitals are often located in the area. Hospitals are often located in the area, so it is also often located in the area, which can be used to treat the patient. Hospitals are often located in the hospital and can accommodate the patients with a variety of\n",
      "########\n",
      "*******\n",
      "question: John kept standing up.  He was afraid that if he were sitting down he might do something. What might he be afraid of?\n",
      "answer: fall asleep\n",
      "choices: ['fall asleep', 'being supported on chair', 'comfort', 'clowns', 'flatulence']\n",
      "common expl list: ['When standing, the chances of falling asleep abruptly would be much less (assuming that one is awake).', 'Sitting down makes one comfortable; sitting down with eyes closed makes one fall asleep.']\n"
     ]
    },
    {
     "name": "stderr",
     "output_type": "stream",
     "text": [
      "\r",
      "  5%|████████▎                                                                                                                                                       | 51/986 [1:59:06<33:50:55, 130.33s/it]"
     ]
    },
    {
     "name": "stdout",
     "output_type": "stream",
     "text": [
      "generated explanation: <pad> <extra_id_0> He was afraid that if he were sitting down he might do something. He was afraid that if he were sitting down he might fall asleep. This would make him feel anxious and anxious. This would make him feel like he was falling asleep. This would make him feel vulnerable and that he would be able to concentrate on his task at hand. This would mean he would be able to concentrate on his task and concentrate on his task. This would mean that if he was sitting down he would be unable to concentrate on his task at hand, he would fall asleep. This would mean that he would fall asleep. This would mean that he would be able to concentrate on his task of focusing on his task of concentrating on his task. This would mean that he would be unable to concentrate on his task. This would mean that he would be able to concentrate on his task. This would mean that he would be unable to concentrate on his task. This would mean that he would be able to concentrate on his task at hand. This would mean that he would be unable to concentrate on his task at hand. This would mean that he would be able to concentrate on his task. This would mean that he would be able to concentrate on his task at hand. This would mean that he would be able to concentrate on his task. This would mean that he would be able to concentrate on his task at a certain area. This would mean that he would be able to focus on his task at a certain area of his task at a certain area of his job. This would mean that he would be able to concentrate on his work and focus on his job and focus on the task at a specific area of his job and focus on the task at a specific area of his job. This would mean that he would be able to concentrate on his task at a specific area of his job at a particular area of his job. This would mean that he would be able to focus on his job. This would mean that he would have a lot more than just sitting down and concentrate on his task. This would mean that he would be able to concentrate on his work. This would mean that he would be able to focus his attention. This would also mean that he would be\n",
      "########\n",
      "*******\n",
      "question: He didn't know that good things can be posion in large doses.  He thought that he was just eating an essential what?\n",
      "answer: nutrient\n",
      "choices: ['antidote', 'consumable', 'nutrient', 'vitamin', 'medicine']\n",
      "common expl list: ['He thought that he was just eating an essential nutrient, but in large doses, it could be poisonous.']\n"
     ]
    },
    {
     "name": "stderr",
     "output_type": "stream",
     "text": [
      "\r",
      "  5%|████████▍                                                                                                                                                       | 52/986 [2:01:31<34:59:52, 134.90s/it]"
     ]
    },
    {
     "name": "stdout",
     "output_type": "stream",
     "text": [
      "generated explanation: <pad> <extra_id_0> He didn't know that he was just eating an essential food. It was a nutrient rich food that was rich in nutrients and nutrients, which were absorbed by the body and absorbed by the body. It was a food that contained a lot of nutrients and nutrients, which made it a good source of energy and nutrients. It was also a source of nutrients that could provide a healthy body with a healthy, balanced diet. It was also a great source of protein, fiber, amino acids, and vitamins, minerals, and fiber-rich diet. It was also a source of protein, which means that the body needed a healthy diet. The nutrients are a source of nutrients that can provide energy, which can provide energy and fibers that help the body needs. The nutrients are also a source of energy and nutrients that can provide energy and nutrients that can provide the body needed nutrients that could provide the body with the necessary nutrients that the body needs to be nourished and absorbed. The nutrients that the body needed to be absorbed to maintain the body's energy and energy to help the body to maintain the energy levels needed to maintain the energy to maintain the body. The nutrients are also absorbed by the body to maintain the energy needed to maintain the body's energy to provide the body's energy needed to sustain the body's energy to maintain the body. The body can provide the energy to maintain its energy reserves. The body can provide the body with energy needed to maintain energy needed to maintain its energy needed to maintain energy. The nutrients needed to maintain the energy required to maintain energy needed to maintain the energy needed to maintain the energy needed to maintain a healthy body. The nutrients are essential nutrients. The nutrients are essential nutrients that are needed to sustain the body's energy and energy needed nutrients that are needed to maintain the energy and energy needed to maintain energy and maintain energy and energy needed nutrients are also essential nutrients. The nutrients are essential nutrients that are essential nutrients that are needed nutrients that are needed to maintain the health and energy needed to maintain the energy needed to maintain energy and energy needed to maintain energy and energy and energy. The nutrients that are needed for the body's metabolism. The nutrients are the energy needed to maintain energy and energy levels in the body. The nutrients that are needed for the body and the body. The nutrients that are needed to provide the body. The body's ability to absorb nutrients that are needed to\n",
      "########\n",
      "*******\n",
      "question: The police didn't pay any favors, their job was to what?\n",
      "answer: force law\n",
      "choices: ['force law', 'board vessels', 'arrest', 'arm weapons', 'direct traffic']\n",
      "common expl list: ['Police are usually tasked with upholding the law, and if they see a law being broken they will intervene (forceful intervention); moreover, they also coordinate with other officers (direct traffic and board vessels). These activities do not involve favors.']\n"
     ]
    },
    {
     "name": "stderr",
     "output_type": "stream",
     "text": [
      "\r",
      "  5%|████████▌                                                                                                                                                       | 53/986 [2:02:52<30:45:47, 118.70s/it]"
     ]
    },
    {
     "name": "stdout",
     "output_type": "stream",
     "text": [
      "generated explanation: <pad> <extra_id_0> The police didn't pay any favors, their job was to enforce the law. The police didn't pay any favors, their job was to enforce the law and enforce the law. The police didn't pay any favors, their job was to enforce the law, and they didn't pay any favors. The police didn't pay any favors, their job was to enforce the law. The police didn't pay any favors, their job was to enforce the law and enforce it. The police didn't pay any favors, their job was to enforce the law, and they didn't pay no favors. The police didn't pay any favors, their job was to enforce the law, and the law was to enforce the law, and they didn't pay any favors. The police were not paid any favors. The police were not paid any favors, they were to make sure the law was not to make sure the law was enforced. The police were to make sure the law was enforced. The law was to ensure that the law was enforced in a way that the law was to protect the public. The law was a way to protect the public's rights. The police were responsible for the law enforcement officer was responsible for the law enforcement officer was responsible for the law enforcement officer was responsible for the law enforcement officer was responsible for the law enforcement officer was not appointing officers were not appointing officers were not appointing officers were not pleading officers were not pleading officers were pleading officers were pleading officers were not pleading officers were not pleading officers were not pleading officers were not appointing</s>\n",
      "########\n",
      "*******\n",
      "question: The place specialized in colorful arrangements, but the also had a toy balloon or two where?\n",
      "answer: flower shop\n",
      "choices: ['see work', 'birthday party', 'flower shop', 'parade', 'toy store']\n",
      "common expl list: ['Batches of balloons are available at flower shops, where floral arrangements are sold, and rainbow contruction paper is usually found in art shops and classrooms.', 'Flower shops sell interesting arrangements made with colorful flowers.']\n"
     ]
    },
    {
     "name": "stderr",
     "output_type": "stream",
     "text": [
      "\r",
      "  5%|████████▊                                                                                                                                                       | 54/986 [2:04:11<27:39:17, 106.82s/it]"
     ]
    },
    {
     "name": "stdout",
     "output_type": "stream",
     "text": [
      "generated explanation: <pad> <extra_id_0> The flower shop specialized in colorful arrangements, but the place also had a toy balloon or two. The flower shop was also a fun place to play with balloons and flowers. The flower shop also had a toy balloon or two that matched the floral arrangement. The place also specialized in colorful arrangements and a toy balloon. The place specialized in colorful arrangements and flowers, but the flower shop also had a toy balloon or two that matched the arrangement. The flower shop also had a toy balloon or two where the arrangement is made from plastic. The place specialized in colorful arrangements and colorful arrangements. The place also specialized in colorful arrangements and flowers. The flower shop also had a toy balloon or two where you can buy a toy balloon or toy balloon or two that was made of paper, paper or cardboard. The flower shop also had a toy balloon or two that was made of paper that was made of paper and a toy that was a toy that was made of plastic and made of plastic. It was a fun way to make a gift. The flowers were a great way to show off their unique arrangements of the flowers was a toy balloon or toy balloons and a toy balloon or toy balloon or toy balloon or toy balloon or toy balloon or toy balloon or toy balloon or toy balloon or toy balloon or toy balloon or toy balloon or toy balloon or toy balloon or toy balloon or toy balloon or toy balloon or toy balloon or toy balloon or toy balloon or toy balloon or toy balloon or toy balloon</s>\n",
      "########\n",
      "*******\n",
      "question: Where was there never any mammoth?\n",
      "answer: zoo\n",
      "choices: ['wild', 'north dakota', 'forest', 'movie', 'zoo']\n",
      "common expl list: ['Mammoths are extinct, and zoos are places where animals are kept for observation and study.']\n"
     ]
    },
    {
     "name": "stderr",
     "output_type": "stream",
     "text": [
      "\r",
      "  6%|████████▉                                                                                                                                                       | 55/986 [2:06:22<29:30:08, 114.08s/it]"
     ]
    },
    {
     "name": "stdout",
     "output_type": "stream",
     "text": [
      "generated explanation: <pad> <extra_id_0> There was never any mammoth at the zoo in the wild, and the zoo was the first place to find a mammoth. The zoo was the first place to find a mammoth, and the first place to find a mammoth was at the zoo in the wild. The zoo was the first place to find a mammoth, and the first place to find a mammoth was at the zoo in the wild. The zoo's natural habitat of the area, and the mammoth population was a popular tourist attraction in the area. The mammoth population was a popular breeding ground for the first time in the area. The mammoth population was a popular place to breed and live. The mammoth was a rare and beautiful mammoth population of mammals that weighed between the ages to be able to eat and eat the mammoth. The mammoth population was a popular place to live in the area. The mammoth population was very diverse and the mammoth population was also the largest in the area. The mammoth population was the largest in the area of the zoos, which was the largest in the area, and the population was also the largest in the area, and the population was the largest in the area. The population was also the largest in the area, and the population was also the largest in the area, and the population was the largest in the area, and the population was the population was the largest in the area. The population was the largest in the area, and the population was the largest in the area, and the population was the largest in the area, and the population was the largest in the area, and the population was the largest in the area, and the population was the population was the population was the largest in the area, and the population was the largest in the area, and the population was the largest in the area, and the population of the population was the largest in the area of the population was the</s>\n",
      "########\n",
      "*******\n",
      "question: Why do most people engage in chatting with friends?\n",
      "answer: fun\n",
      "choices: ['fun', 'love', 'answers', 'inspiration', 'relaxation']\n",
      "common expl list: ['Chats with friends are often fun, and thus people engage in them for that reason.']\n"
     ]
    },
    {
     "name": "stderr",
     "output_type": "stream",
     "text": [
      "\r",
      "  6%|█████████                                                                                                                                                       | 56/986 [2:08:53<32:17:40, 125.01s/it]"
     ]
    },
    {
     "name": "stdout",
     "output_type": "stream",
     "text": [
      "generated explanation: <pad> <extra_id_0> People engage in fun chatting with friends. They also engage in socializing with friends. They also enjoy having fun with friends. They are often accompanied by a friend's friends for fun. They are also more likely to engage in conversation with friends. They are also more likely to have fun with friends because they are more likely to have fun with friends. This is because they are chatting with friends and enjoying the company. They are also more likely to engage in conversation with friends. This is because they are more likely to be interested in chatting with friends for fun. Fun is also more likely to engage in conversation with friends for chatting is more fun for many people to have fun with their friends. This is because friends are more likely to engage in conversation with friends and to have fun. They are more likely to engage in conversation more often than not. They are also more likely to engage in conversation more often than not to engage in conversation more likely to engage in conversation. They also tend to engage in conversation more often. They also tend to engage in conversation more often than not to engage in conversation more often than not to engage in conversation more often. They also tend to engage in conversation when friends. They also tend to engage in conversation more often. They may also engage in conversation more often to engage in conversation more often than not to engage in conversation more often. They may also engage in conversation over time. They may also engage in more fun. They may also engage in conversation with friends. They may also engage in conversation with friends to chat with friends. They may also engage in conversation about their hobbies. They may also engage in fun activities such as social occasions. They may also engage in conversation with friends to chat with friends to discuss topics such as chatting about ideas and ideas, such as talking to others, and to discuss ideas and ideas. They may also engage in conversation about topics such as chatting with friends to share ideas and experiences. They may also enjoy chatting to each other, and to chat about topics such as politics and politics. They may also engage in conversation about topics that interests them. They may also engage in fun activities such as reading and listening to music, playing games, or simply to chat with friends to learn about their own interests. They may also engage in fun activities such as watching television, reading, and other activities. They may also engage in other activities that involve talking to friends and discuss their interests. They may also engage in other activities. They may also engage in conversation\n",
      "########\n",
      "*******\n",
      "question: What could happen after discovering truth that you did not want to know?\n",
      "answer: pain\n",
      "choices: ['pain', 'relief', 'grey hair', 'understanding', 'enlightenment']\n",
      "common expl list: ['Truth can be painful, and discovering it can cause pain.']\n"
     ]
    },
    {
     "name": "stderr",
     "output_type": "stream",
     "text": [
      "\r",
      "  6%|█████████▏                                                                                                                                                      | 57/986 [2:09:42<26:22:46, 102.22s/it]"
     ]
    },
    {
     "name": "stdout",
     "output_type": "stream",
     "text": [
      "generated explanation: <pad> <extra_id_0> Pain is a form of physical pain that can occur after discovering truth that you did not want to know. It can be painful because you have to endure pain to find out what you did not want to know. It can be a sign of weakness, a lack of confidence, or a lack of confidence in the truth. Pain is a physical pain that can be experienced by anyone who has experienced pain. It can be a sign of depression, anxiety, or other mental health issues. Pain can be caused by pain, fear, or anxiety, and can be overcome by pain, and can be a sign of loss of confidence, and can be caused by pain is a sign that you are not able to tell the truth. Pain can be caused by the truth. It can also be a sign of pain, such as a state of mind, and body, or a sense of peace, and a feeling of hopelessness. It can be a sign of pain, or the truth that you do not want to know, and the pain that you are unable to accept the truth, and the pain is a sign that you are not wanting to know that you are not wanting to know that you are not wanting to know that you are not willing to give up your truth. This is because you are not willing to be honest with yourself</s>\n",
      "########\n",
      "*******\n",
      "question: What will an athlete do to warm up their legs?\n",
      "answer: jog\n",
      "choices: ['use heater', 'sprint', 'jog', 'run fast', 'compete']\n",
      "common expl list: ['When athletes warm up before swimming, running, riding a bike, or performing other physical activity, they generally will jog (which will help them loosen muscles in the legs).', 'warming up is a routine that is performed to either prepare for doing something new, or prepare for doing something which put strains on you, or which you have been out of practice doing.']\n"
     ]
    },
    {
     "name": "stderr",
     "output_type": "stream",
     "text": [
      "\r",
      "  6%|█████████▍                                                                                                                                                      | 58/986 [2:12:10<29:52:14, 115.88s/it]"
     ]
    },
    {
     "name": "stdout",
     "output_type": "stream",
     "text": [
      "generated explanation: <pad> <extra_id_0> A good way to warm up your legs is to jog. The right way to warm up your legs is to do it with a warm up jog or a jog. The best way to warm up your legs is to jog or jog. During a warm up jog, the legs are warm and the legs are warm. The legs are also warm and flexible, which helps to keep them warm and dry. The best way to warm up is to jog. The legs are warm up by jog is to warm up your legs and exercise regularly. The legs are also a great way to warm up the legs. The legs are also a great way to warm up and cool off. The legs are also a great way to warm up and tone up. The legs are a great way to warm up and cool down during a jog can also help to warm up the muscles of the legs. The legs are also a great way to warm up and warm up during a jog and improve overall fitness and improve the overall health and fitness training. The legs are a great way to improve overall fitness and strength. The legs can be a great way to warm up and stretch and stretch and get stronger and stronger. The legs are a great way to warm up and tone up and tone. The warmer up and tone the legs. The legs can also be a great way to warm up and tone. The legs can be used to warm up and tone the muscles and muscles in a range of motion. The muscles are more flexible and more flexible, which can help to keep the muscles moving and can help to keep them more easily. The best way to keep the muscles in shape. The best way to warm up and tone your legs. The legs are a great way to warm up by jogs and muscles in the process of a jogs are a great way to warm up and warm up and tone up as the legs are also able to keep them feeling full of energy. The jogs and muscles in the body. The legs are also a great way to keep them warm up by allowing the muscles in the body to gain muscle tension and strength. The legs can also be used to warm up and warm up. The jogs are also great way to warm up as the athlete's body to help to build strength, strength\n",
      "########\n",
      "*******\n",
      "question: Where can you keep your binder on your person between periods of instruction?\n",
      "answer: backpack\n",
      "choices: ['class room', 'car', 'office supply store', 'backpack', 'bookcase']\n",
      "common expl list: ['Usually binder users carry their binders from class to class outside of the classroom. Backpacks are often convenient, and are large enough to hold the binder.']\n"
     ]
    },
    {
     "name": "stderr",
     "output_type": "stream",
     "text": [
      "\r",
      "  6%|█████████▋                                                                                                                                                       | 59/986 [2:12:13<21:06:26, 81.97s/it]"
     ]
    },
    {
     "name": "stdout",
     "output_type": "stream",
     "text": [
      "generated explanation: <pad> <extra_id_0> Keeping your binder on your person is a great way to keep your binder on your person between periods of instruction. A backpack is a great way to keep your binder on your person. It can be used as a way to keep your binder on your person between periods of instruction. It can also be used as a way to keep your binder on your person between periods of instruction. A backpack can be used to keep your binder in a backpack or a backpack. A backpack is a great way to keep your binder on your person between periods of instruction. This will help keep your binder on your person and keep it safe and secure.</s>\n",
      "########\n",
      "*******\n",
      "question: In the middle of the day what will someone do because of being hungry?\n",
      "answer: have lunch\n",
      "choices: ['cook dinner', 'make bread', 'eat in restaurant', 'have lunch', 'make bread']\n",
      "common expl list: [\"It's common for folks to have lunch during the middle of the day.\", 'People often eat lunch at midday, and so, if they are hungry at midday, they might go to a restaurant to eat lunch.']\n"
     ]
    },
    {
     "name": "stderr",
     "output_type": "stream",
     "text": [
      "\r",
      "  6%|█████████▊                                                                                                                                                       | 60/986 [2:12:29<16:00:18, 62.22s/it]"
     ]
    },
    {
     "name": "stdout",
     "output_type": "stream",
     "text": [
      "generated explanation: <pad> <extra_id_0> Hunger is a sign of a healthy lifestyle and a sign of a healthy lifestyle. A hungry person will have to eat a lunch or a snack because they are hungry. In the middle of the day, people will be tempted to eat something else because of the hunger. They will be able to eat a healthy meal and eat something that is healthy. They will be able to eat healthy foods like chicken, rice, and vegetables. They will also be able to have a healthy snack that is a healthy way of eating. They will also be able to eat healthy, healthy snacks and snacks that are healthy for a variety of foods that are loaded with calories and calories. They will also be able to digest food that is healthy for the day. The hunger factor will be able to provide them with a healthy meal that is a healthy and full meal will also be able to provide them with a healthy snack that is healthy for the body.</s>\n",
      "########\n",
      "*******\n",
      "question: Where is garbage brought to by garbagemen?\n",
      "answer: landfill\n",
      "choices: ['trashcan', 'landfill', 'television', 'computer', 'dumpster']\n",
      "common expl list: ['Landfills are where all the trash in the city go to.']\n"
     ]
    },
    {
     "name": "stderr",
     "output_type": "stream",
     "text": [
      "\r",
      "  6%|█████████▉                                                                                                                                                       | 61/986 [2:14:21<19:52:23, 77.34s/it]"
     ]
    },
    {
     "name": "stdout",
     "output_type": "stream",
     "text": [
      "generated explanation: <pad> <extra_id_0> Garbage is a waste product that is generally disposed in a landfill. It is usually disposed in a landfill or a nearby building. It is also a place where garbage is collected and disposed. It is a place where garbage is collected and disposed. It is also a place where people can store and store trash. It is also a place for people to store and store waste. This is because it is a place where people can store and store their trash. It is a place where people can store their garbage in a landfill. It is a huge part of the world. It is also a place that is disposed of in a landfill. It is a place that people can store their garbage in a landfill to store their waste in a landfill. It is a place where people can store and store garbage. It is a place that is able to store garbage and recycling. It is a place where people can recycle their trash and recycle it can be recycled in a landfill. It is a place that is a place that can be used to store recyclables and recyclables. It is a place that is a place that can be used to store garbage. It can be used to store and transport it. It is a great place to store garbage and dispose of it in a landfill. It can be used to store it in a landfill because it can be used to store trash and recycle it in a landfill. It can be found in a landfill because it is a great place to store it can be used for recycling and recycle. It can be used to store waste in a landfill because it can be used to store recyclables. It can be used to store recyclables. It can also be used to store recyclables. It can be used to store and store recyclables. It can also be used to store recyclables, such as recycling. It can also be used to store waste materials, such as paper, cardboard, plastic, cardboard, and other materials that can be used to store and reuse recyclables. It can also be used to store recyclables such as recycling. It can be used to store recyclables and recycle recyclables. It can be used to store recyclable materials, which can be used to store recyclables. It can be used to make it easier to recycle recyclables. It can be used to recycle recyclables can be used to\n",
      "########\n",
      "*******\n",
      "question: What are people doing when washing hands for a long time?\n",
      "answer: thinking\n",
      "choices: ['thinking', 'sleeping', 'use soap', 'irritation', 'cleaning dirt off']\n",
      "common expl list: ['People often think about things while they are washing their hands, and this is a good time to think about things.', 'People often just pause while washing their hands. It may be that they are thinking about something while this occurs naturally.']\n"
     ]
    },
    {
     "name": "stderr",
     "output_type": "stream",
     "text": [
      "\r",
      "  6%|██████████                                                                                                                                                       | 62/986 [2:16:12<22:26:09, 87.41s/it]"
     ]
    },
    {
     "name": "stdout",
     "output_type": "stream",
     "text": [
      "generated explanation: <pad> <extra_id_0> People wash their hands for a long time. They wash their hands for a long time, which is why they are washing their hands for a long time. This is because people are thinking about washing their hands for a long time. This is because people are thinking about washing their hands for a long time. This is because people are thinking about washing their hands for a long time. This is because people are thinking about washing their hands for a long time. This is because they are thinking about washing their hands for a long time. This is because people are thinking about washing their hands for a long time. This is because people are thinking about washing their hands for a long time. This is because people are thinking about washing their hands for a long time. This is because people are thinking about washing their hands for a long time. This is because people are thinking about washing their hands for a long time. This is because they are thinking about washing hands for a long time. This is because they are thinking about washing their hands for a long time. This is because they are thinking about washing their hands for a long time. This makes them think about their hands for a long time. This is because they are thinking about washing hands for a long time, and they are thinking about washing their hands for a long time. This is because they are thinking about washing their hands for a long time. This is because they are thinking about washing hands for a long time. Hands for a long time. Hands are a great way to wash their hands for a long time. Hands are a good time. Hands are a good time. Hands are a good time. Hands are a good time. Hands are a good time to wash their hands for a long time. Hands are a good time. Hands are a good time. Hands are a good time to remember that it is a great way to help people to remember what they are washing their hands for a long time. Hands are also a good time to remember that they are not just a great way to remember that they are not just a good time to remember that they are able to remember that they are able to remember that they are able to remember that they are thinking. This is because they are able to remember that they are able to\n",
      "########\n",
      "*******\n",
      "question: What would someone say about a tube television?\n",
      "answer: obsolete\n",
      "choices: ['obsolete', 'addictive', 'entertaining', 'bycone', 'legal']\n",
      "common expl list: ['Tube televisions are obsolete, meaning that they are old and was abolished by newer technology.', 'Tube televisions are no longer manufactured, and are therefore obsolete.']\n"
     ]
    },
    {
     "name": "stderr",
     "output_type": "stream",
     "text": [
      "\r",
      "  6%|██████████▎                                                                                                                                                      | 63/986 [2:17:13<20:19:35, 79.28s/it]"
     ]
    },
    {
     "name": "stdout",
     "output_type": "stream",
     "text": [
      "generated explanation: <pad> <extra_id_0> A tube television is a type of television that is often used to watch movies or television shows. This is because it is a tube television that is often used to watch movies, but it is also a good choice for many purposes. Tube televisions are often obsolete and have a tendency to be outdated. Tube televisions are also often referred to as a replacement for a tube television. Tube televisions are also often used to watch movies and television programs. They are also often used to watch movies and television programs. Tube televisions are also often used to watch shows that are viewed on a tube television. Tube television is a popular choice for many people who are interested in a tube television. Tube televisions are often times obsolete. Tube televisions are often used to show or broadcast on a tube television. Tube televisions are also often used to watch movies and televisions. Tube televisions are also often used to show programs on a tube television. Tube televisions are often used to show the television shows. Tube televisions are also used to show the same way. Tube televisions are often used to show the television shows. Tube televisions are also used to show the same television shows are also used to show the televisions are often used to show the same channels. Tube televisions are also used to show the television shows are also used to show the television is a tube television. This is also used to show the television is used to show the tube. Tube televisions are used to show the tube televisions are also used to show the tube televisions are used to show the tube televisions are also used to show the tube televisions are used to</s>\n",
      "########\n",
      "*******\n",
      "question: The man drank his coffee at work?\n",
      "answer: office\n",
      "choices: ['coffee shop', 'table', 'kitchen', 'office', 'chair']\n",
      "common expl list: ['The man is likely to be at work, and offices often have kitchens where coffee is made.', 'People often drink coffee at offices, with other co-workers.', 'The man probably works in an office where he could have a cup of coffee while behind his desk.']\n"
     ]
    },
    {
     "name": "stderr",
     "output_type": "stream",
     "text": [
      "\r",
      "  6%|██████████▍                                                                                                                                                      | 64/986 [2:19:03<22:42:51, 88.69s/it]"
     ]
    },
    {
     "name": "stdout",
     "output_type": "stream",
     "text": [
      "generated explanation: <pad> <extra_id_0> The man drank his coffee at work? The man drank his coffee at home. The man drank his coffee at work because it was a part of his work environment. The coffee was also a great way to spend time with his family and friends. The coffee was also a great way to meet new people and meet new people. The man drank his coffee at the office because it was a great way to meet new people. The man drank his coffee at work. The man drank his coffee at work was a great way to make new contacts and other employees and colleagues were able to meet new people and discuss business ideas and ideas. The coffee was a great way to meet new people and share information about the office. The man was able to share his coffee with his colleagues and colleagues. The man drank his coffee at work was able to share his knowledge of the world. The man drank his coffee at home was a great way to share his thoughts and ideas. The man drank his coffee at work is a great way to communicate with colleagues and share his thoughts and ideas. The office is a great way to communicate with each other and to communicate with each other. The man was able to communicate with each other. The man could also use his coffee at work. The man drank his coffee at work was able to communicate with each other and share his thoughts and ideas about the impact of coffee with the office and share ideas about the company. The coffee with the people in the office and to discuss the benefits of working relationships and work. The coffee was a great way to communicate with each other and share ideas and to encourage others to share their thoughts and ideas. The coffee was a variety of people and their work environment. The coffee was a great way to make a conversation with the people around the office. The office was able to discuss the importance of coffee and the importance of the office and to encourage people to work. Coffee was a great deal of information about the place. The coffee was a great opportunity to share his thoughts and ideas and ideas. The office was a great way to work. The office was a great opportunity to discuss the office and its importance to the work environment. The office was a meeting and to share ideas and to exchange ideas and to communicate effectively and to share information and to share information and to share information and to\n",
      "########\n",
      "*******\n",
      "question: What can he do to eliminate his ignorance?\n",
      "answer: learn new\n",
      "choices: ['find information', 'judge', 'do some research', 'find truth', 'learn new']\n",
      "common expl list: ['Ignorance is the state of not knowing something, and to eliminate ignorance, one must learn new things.', \"Learning is a way to eliminate ignorance; for example, learning a foreign language is one way to eliminate ignorance of that language's grammar.\", 'In this context, ignorance refers to a lack of knowledge, and obtaining new knowledge is the best way to eliminate the ignorance.']\n"
     ]
    },
    {
     "name": "stderr",
     "output_type": "stream",
     "text": [
      "\r",
      "  7%|██████████▌                                                                                                                                                      | 65/986 [2:20:20<21:49:04, 85.28s/it]"
     ]
    },
    {
     "name": "stdout",
     "output_type": "stream",
     "text": [
      "generated explanation: <pad> <extra_id_0> He can learn new things and techniques to help him overcome his ignorance. He can learn new things and techniques to improve his knowledge of the world. He can learn how to use his knowledge to improve his knowledge of the world. He can learn new things every day, and learn new things every day. He can learn new ways to improve his knowledge and skills. He can also learn new ways to learn new things, such as a new language, a new way to communicate with others, and to communicate with others. This is a great way to improve his knowledge and skills, and learn new ways to communicate with others. This is because it helps him to improve his understanding of the world around him. This is a great way to learn new ways to communicate with others, and to learn new ways to improve his knowledge and to make new connections with others. This can help him to understand the world around him more confident and more effective. This can be done by taking the time to study the world around him and learn new things and learn new ways. This can help him to understand the world around him better. This can help him to understand the world around him and to learn new things. This can help him to gain new knowledge and learn new things. This can help him to gain new knowledge and to learn new things that can help him to learn new things. This can help him to gain new knowledge and to gain new skills and to help him to become more advanced skills. This can help him to become more confident in his ability to learn new skills and to become a better understanding of the world. The ability to gain new knowledge and gain new perspectives and gain a new culture. This can help him to improve his ability to learn new skills and to gain new knowledge and to improve his knowledge and to improve his ability to learn new skills and to improve his ability to learn new skills and to gain confidence and improve his ability to learn new skills. In addition to learning new ways to improve his ability to learn new skills and knowledge.</s>\n",
      "########\n",
      "*******\n",
      "question: What do humans do when in a race?\n",
      "answer: compete with each other\n",
      "choices: ['lay eggs', 'eat fruit', 'wrestle', 'compete with each other', 'draw pictures']\n",
      "common expl list: ['Humans are naturally athletic and competitive. On land, people will compete with each other by running or wrestling. Often humans race on water by swimming, or by boating with other people.']\n"
     ]
    },
    {
     "name": "stderr",
     "output_type": "stream",
     "text": [
      "\r",
      "  7%|██████████▊                                                                                                                                                      | 66/986 [2:22:13<23:50:46, 93.31s/it]"
     ]
    },
    {
     "name": "stdout",
     "output_type": "stream",
     "text": [
      "generated explanation: <pad> <extra_id_0> Humans are able to compete with each other in a race by competing with them in a variety of environments. This is because humans compete with each other to achieve their goals. This is a common way for humans to compete with each other in a race. This is because humans are able to compete with each other in a race. This is because humans are able to compete with each other in a race. This is because humans are able to compete with each other in a race. Races are a way to improve their skills and knowledge, and are able to create new ways to solve problems, and are able to learn new ways to improve their abilities. Races are also able to learn new ways to improve their ability to adapt to changes in their own way. Races are able to adapt to new ways that they are able to adapt to new ways that they are able to adapt to new ways to compete with each other. Races are able to adapt to change their own ways, such as using different ways. Races are able to adapt to new ways to adapt to new ways to adapt to new ways. Races are able to adapt to new ways to adapt to new ways. They are able to adapt to new ways to adapt to new ways. They are able to adapt to new ways to solve problems that are different ways. They are able to adapt to new situations, such as by combining their strengths and weaknesses, such as by combining their differences, and to new ways to improve their ability to compete with each other, and to adapt to new ways to improve their differences in their ability to adapt to new situations, such as by combining their differences in their ability to adapt to new situations. They can also be more effective communication and communication. Races are a race. They can also be used to solve problems in a race, and they can also be used to improve their ability to improve their ability to compete. Races are able to compete with each other and to compete with each other and to compete with each other and to compete with each other. They can also compete with each other and to compete with each other in a race. They can also compete with each other and to compete with each other, and they can compete with each other and to compete with each other and to compete with each other, and to compete with each other and to compete with each other.\n",
      "########\n",
      "*******\n",
      "question: She explained that you won't always get what you want with a goal, but you should still do what with it?\n",
      "answer: reach for\n",
      "choices: ['know how to find', 'work hard', 'remember where', 'reach for', 'purchase']\n",
      "common expl list: ['Reaching for attained goals is more beneficial than simply working towards them, at least in the short term. It significantly increases your chances of success.']\n"
     ]
    },
    {
     "name": "stderr",
     "output_type": "stream",
     "text": [
      "\r",
      "  7%|██████████▉                                                                                                                                                      | 67/986 [2:23:28<22:27:32, 87.98s/it]"
     ]
    },
    {
     "name": "stdout",
     "output_type": "stream",
     "text": [
      "generated explanation: <pad> <extra_id_0> You won't always get what you want with a goal, but you should reach for it. You will also need to reach for a goal to achieve your goals. You will need to reach for a specific goal to achieve your goals. You will need to reach for a specific goal to achieve your goals. Goals are a great way to get a goal. Goals are a great way to get a goal. They are also a great way to get more from your goal. Goals are also a goal to help you to reach your goal. Goals are a goal to get what you want. Goals are also a goal is to help you achieve your goals by reaching for a specific goal to achieve your goals. Goals are also a great way to get your goals in return for your goal. Goals are also a great way to get more creative and more creative. Goals can be a goal to achieve your goals and help you reach for your goals. Goals can be used to reach for your goal. Goals can be used to help you achieve your goals and achieve your goals. Goals can help you can reach for goals that you can reach for a goal if you can reach for a goal if you have a goal to reach for it if you have a goal. Ultimately, a goal can help you reach for a goal to reach your goal. Goals can be used to help you reach for a goal, but they can be used to help you reach for a goal to achieve a goal to reach for a goal if you can reach for a goal to reach for a goal to reach for a goal to achieve a goal to reach a goal to achieve it. Goals are a goal. Ultimately, a goal is achieved by reaching a goal to achieve a goal, but they can be difficult to reach for a goal to achieve a goal to achieve a goal to achieve if you can't reach for a goal to achieve a goal to reach a goal. Goals can be achieved by reaching for a specific goal. A goal is a goal. Goals can be achieved by achieving a goal. A goal can be achieved by reaching for a goal. A goal can be achieved by achieving a goal, but they can also be achieved by\n",
      "########\n",
      "*******\n",
      "question: What happens when you eat hamburger too fast without swallowing?\n",
      "answer: choking\n",
      "choices: ['get full', 'drink', 'choking', 'hungry', 'getting fat']\n",
      "common expl list: ['Eating too fast can sometimes cause coughing / choking as food get stuck in your throat.', \"If you eat hamburger too fast, you might choke on it, because it's a solid food that can get stuck in your throat.\", \"Choking can occur when you stick stuff in your mouth which can't go down your throat properly, so that you can't breath. Common causes can be eating too fast, or swallowing items that can't go down your throat, like liquids or large\", \"When you eat hamburger too fast, it can quickly turn into the consistency of a block, and when you can't swallow it, it can cause you to choke.\"]\n"
     ]
    },
    {
     "name": "stderr",
     "output_type": "stream",
     "text": [
      "\r",
      "  7%|███████████                                                                                                                                                      | 68/986 [2:25:02<22:51:18, 89.63s/it]"
     ]
    },
    {
     "name": "stdout",
     "output_type": "stream",
     "text": [
      "generated explanation: <pad> choking is a condition that can cause severe choking. choking is a complication that can occur when you eat a hamburger too fast and don't swallow it. Fortunately, hamburgers are a natural and effective way to stop the bleeding and choking. choking is a condition that can cause serious health problems, such as diabetes, heart disease, and heart disease. It is also known as choking. It is a serious condition that can cause severe health problems such as choking can be fatal for people who eat hamburgers for several days in the morning or night. In addition to choking, choking can cause severe choking can cause severe health problems such as choking can be a cause serious health risks. choking can also cause severe headaches, such as stroke, and heart attack. It can also cause choking can be fatal for people who are eating too fast. In addition to choking can cause severe choking can also cause severe choking can also be fatal for people who are eating too fast. In addition to choking can also be fatal if the hamburger is a hazard. In addition to eating too fast. In addition to choking can also be a case of choking can also cause a person’s mouth. In addition to choking, choking can cause choking can cause choking can cause choking can also cause choking can be caused by choking can be caused by choking can cause choking. In addition to choking can cause choking can cause choking can cause choking can cause choking can also cause choking can also cause choking can also cause choking can cause choking can cause choking can also cause choking can also be caused by choking can cause choking can also cause choking can cause choking can cause choking to occur when choking can cause a choking can cause a choking can also cause </s>\n",
      "########\n",
      "*******\n",
      "question: John sat in a folding chair in a bit room with a stage.  What sort of room could that be?\n",
      "answer: auditorium\n",
      "choices: ['room', 'auditorium', 'meeting hall', 'school', 'church']\n",
      "common expl list: ['An auditorium is a large room that is used for public events, such as concerts, plays, and speeches.']\n"
     ]
    },
    {
     "name": "stderr",
     "output_type": "stream",
     "text": [
      "\r",
      "  7%|███████████▎                                                                                                                                                     | 69/986 [2:27:00<25:00:29, 98.18s/it]"
     ]
    },
    {
     "name": "stdout",
     "output_type": "stream",
     "text": [
      "generated explanation: <pad> <extra_id_0> John sat in a folding chair in a bit room with a stage. Auditoria is a room that is designed to accommodate large audiences, such as concerts, theaters, and other events. It is a small, intimate space with a stage and a stage. It is a bit like a small theater, but it is a bit like a bit of room with a stage. It is a bit like a theatre, but it is more like a room where John can sit in a bit room with a auditorium with a stage. Auditorium is a room with a stage, which is a bit like a bit like a stage, which is a bit like a bit like a bit like a bit of space, but it is also a bit like a bit like a bit like a bit of space with a bit of space with a stage, which is a bit of space with a bit of space with a stage. A bit of space is a bit of space that is a bit of a bit of a bit of space with a bit room with a bit of room with a bit of space with a bit of space with a bit of space with a bit of space with a bit of space with a bit of space with a bit of space with a bit room with a stage. A bit room with a stage. A bit of space that is smaller than a stage. A bit room with a stage, but also has a bit of a stage. A stage. Audi-audi-audi-audi-audi-audi-a stage. Audi-audi-audi-audi-audi-auditoria is a bit of a bit of a bit of a bit of auditorium, a stage, a stage, and a stage, a stage, it is smaller, it is more intimate, it is also a stage, it is a bit of space, it is a stage, it is a bit of a stage, it is a stage, and it is a stage. It is a bit room with a bit room, it is a bit room, it is a bit room, it\n",
      "########\n",
      "*******\n",
      "question: What would an adult man do to get ready for work?\n",
      "answer: dress himself\n",
      "choices: ['dress herself', 'shower', 'dress himself', 'drink beer', 'drive train']\n",
      "common expl list: ['An adult man would dress himself for work: this includes putting on pants, shirts, and dresses, and typical choices are professional clothes, such as suit and tie.', 'Adult males commonly wear suits to work. Men might get dressed in the morning, particularly if they plan on wearing a suit for work.']\n"
     ]
    },
    {
     "name": "stderr",
     "output_type": "stream",
     "text": [
      "\r",
      "  7%|███████████▍                                                                                                                                                     | 70/986 [2:27:19<18:59:10, 74.62s/it]"
     ]
    },
    {
     "name": "stdout",
     "output_type": "stream",
     "text": [
      "generated explanation: <pad> <extra_id_0> An adult man would dress himself to get ready for work. Dressing for work would be the best way to get ready for work. Dressing is a safe way to get ready for work. Dressing is a great way to get ready for a day at work. It is also a great way to get ready for work. It is also a great way to get ready for a job. It is important to remember that a person is prepared to work in a professional manner. It is important to remember that a mature adult man can also choose a dress up in a suit and tie, a hat and a jacket. Dress up for work is a great way to get ready for work, so it is important to know that the dress up properly, and that the dress up is a good way to show off their best and make a good impression. It is important to know that the dress up is a good idea. It is also important to know that the dress up is important to dress up is important to prepare the man to be</s>\n",
      "########\n",
      "*******\n",
      "question: What does one do at an office?\n",
      "answer: work\n",
      "choices: ['work', 'school building', 'workplace', 'skyscraper', 'public building']\n",
      "common expl list: ['One does work at the office', 'An office is a specific type of workplace.', 'An office is a place where people work.']\n"
     ]
    },
    {
     "name": "stderr",
     "output_type": "stream",
     "text": [
      "\r",
      "  7%|███████████▌                                                                                                                                                     | 71/986 [2:28:55<20:32:40, 80.83s/it]"
     ]
    },
    {
     "name": "stdout",
     "output_type": "stream",
     "text": [
      "generated explanation: <pad> <extra_id_0> One can work in an office, where people are surrounded by other people. They can work on a variety of projects, including a variety of projects, such as a project, a training program, a conference room, a conference room, or a conference room. The work environment is a place to work and learn. The office environment is a place for people to work together and learn new skills. The office environment is a place for people to work and learn new skills. The office environment is a place for people to learn about the work environment and how to work. The office environment is a place to work, and it is a place for people to work together and learn new skills and skills. The office environment is a place for people to learn and grow as they grow their skills and skills. The office environment is a place where people can work together and learn new skills and to learn new skills and skills. The office environment is a place where people can work together and learn new skills and abilities. The office environment is a place of work and the workplace. The office is a place where people can learn new skills and skills. The office is a place that is a place that is a place where people can learn about the work environment. The work environment is a place that is a place that is a place that is a place that is a place that is a place that is a place that is a place that is a place where people can learn new skills and knowledge that is a place that is a place that is a place to work environment that can be used to work. It is a place that is a place that is a place that is a place that is a place that people can work together and interact with each other and that is a place that is a place that is a place that is a great place that is a place that is a great place to work. It is also a great place to work. It is a great place to work.</s>\n",
      "########\n",
      "*******\n",
      "question: When a person is on trial for killing, what is a jury likely to decide?\n",
      "answer: punishment\n",
      "choices: ['execution', 'investigation', 'going to jail', 'retribution', 'punishment']\n",
      "common expl list: ['A jury is likely to decide that the person is guilty of the crime, and punish them accordingly.', 'A person who has just killed another person often goes to trial, so the jury will likely have to decide what the most just punishment is.', 'When a jury decides that someone is guilty of a crime, they typically hand down a punishment.']\n"
     ]
    },
    {
     "name": "stderr",
     "output_type": "stream",
     "text": [
      "\r",
      "  7%|███████████▊                                                                                                                                                     | 72/986 [2:28:57<14:32:19, 57.26s/it]"
     ]
    },
    {
     "name": "stdout",
     "output_type": "stream",
     "text": [
      "generated explanation: <pad> <extra_id_0> When a person is on trial for killing, a jury is likely to decide that a person is guilty of a crime. A jury is likely to decide that a person is guilty of a crime or a crime committed. A jury is likely to decide that a person is guilty of a crime, and a jury is likely to decide on whether to sentence the person to life imprisonment or death row. The jury is likely to decide that a person is guilty of a crime, and that the person is guilty of a crime. A jury is likely to decide that a sentence is a crime, and the jury is likely to decide the terms of sentences and terms of sentence and punishment.</s>\n",
      "########\n",
      "*******\n",
      "question: Most adult Americans split their time between home and what?\n",
      "answer: work\n",
      "choices: ['tent', 'work', 'apartment', 'the office', 'foreign']\n",
      "common expl list: ['Most adults spend most of their time at work.', 'Home and work may be the two places where most adult Americans spend most of their waking hours.']\n"
     ]
    },
    {
     "name": "stderr",
     "output_type": "stream",
     "text": [
      "\r",
      "  7%|███████████▉                                                                                                                                                     | 73/986 [2:30:32<17:25:51, 68.73s/it]"
     ]
    },
    {
     "name": "stdout",
     "output_type": "stream",
     "text": [
      "generated explanation: <pad> <extra_id_0> Adult Americans split their time between home and work. They split their time between home and work. They also split their time between home and work. They split their time between home and work, which is a very common way for adults to split their time between home and work. This is because of the fact that most adults split their time between home and work. This is because they are able to spend more time at work than at home. This is because they are able to focus on their work and enjoy their time at home. They are able to focus on their hobbies and work, which can be a lot of time at work. They are also more focused on their work and family time. They are also more time with their kids, which is a great way to spend their time at work. They are also more time with their work and the time they spend at home. They are also more likely to work and more time between home and work can be more flexible and flexible. They are more likely to be more productive and more productive. This is because they are more likely to be more productive. also tend to be more engaged in more hours of their time at work. They are more likely to have more time with their time at home. They are more likely to be more likely to work. They are more likely to be more likely to be more likely to be more likely to work, which is a good way to spend more time at home. They are more likely to be more likely to work more time at home. They are more likely to be more likely to have more time at work. They are more likely to work. They are more likely to have more time at home, which is why they are able to spend time at home, which is a good way to spend their time at work. They are more likely to spend their time at work. They are also more productive. They are more likely to have more time at work, as they are more likely to be more productive. They are more likely to be more likely to have more time at work. They are more likely to be more likely to be more productive and more likely to have more time at work. They are also more likely to be able to spend more time at work. They are more time at work. They are more productive and more likely to have more time at work. They are also likely to be more likely to spend more time at work, and they are more likely to have more time at\n",
      "########\n",
      "*******\n",
      "question: Professionally the fighters always maintained a level of respect, but personally they held each other in what for things that were said?\n",
      "answer: contempt\n",
      "choices: ['belittlement', 'humiliate', 'irreverence', 'contempt', 'love']\n",
      "common expl list: ['Despite the respect that was maintained by the respectful fighters, the feelings that they had for each other were always a sense of contempt for each others character.']\n"
     ]
    },
    {
     "name": "stderr",
     "output_type": "stream",
     "text": [
      "\r",
      "  8%|████████████                                                                                                                                                     | 74/986 [2:31:34<16:52:20, 66.60s/it]"
     ]
    },
    {
     "name": "stdout",
     "output_type": "stream",
     "text": [
      "generated explanation: <pad> <extra_id_0> The fighters always maintained a level of respect, but personally they held each other in things that were said. They held each other in contempt for things that were said. They also held each other in contempt for things that were said. They also held each other in contempt for what was said. They held each other in contempt for things that were said to others. They also held each other in contempt for things that were said to them. They also held each other in contempt for things that were said to them. They held each other in contempt for things that were said to them. They also held each other in contempt for things that were said to each other in contempt for things that were said to them to be said to others. They held each other in what they were said to others. This is because they were said to be said to be said to others. This is because they were said to be said to them as they were said to be a matter of opinion. This is because they were a matter of personal opinion. This is because they were always a matter of personal opinion. They were always open to the fight for the fighters. This is because they were the fighters’ opinions and opinions that were said to them. They were not meant to be a matter of personal opinion. This was because they were a matter of personal opinion. They were also a matter of personal opinion. This was a matter of personal opinion. They were not always openly sensitive to the fighters. a matter of personal opinion. They were not always held to be held in a conflict. They were held in a way that were a matter. This was because they were viewed as being disrespectful, and they were not a matter of respect for one another. This was a matter of opinion and were not a matter of personal opinion. This was a matter of respect for the other person. Respect was a matter of opinion. This meant that they were not a matter of opinion. This meant that they were a matter of respect for each other. They were also a matter of respect for each other. This meant that they were a matter of respect for each other. This was a matter of respect for each other. This meant to be a matter of respect for each other. Respect for each other. Respect for each other. Respect for each other. Respect for each other, and\n",
      "########\n",
      "*******\n",
      "question: Where would you find many tables of silverware rolled into nice displayed napkins?\n",
      "answer: restaurant\n",
      "choices: ['silver', 'park', 'table', 'cupboard', 'restaurant']\n",
      "common expl list: ['Restaurants often give used, rolled up silverware to customers, and they might keep them in nice, displayed napkins to make moving and storing them easier.', 'Restaurants often have a lot of silverware, and they might roll it up and place it in a napkin to make it easier to store.', 'In a commercial establishment, silverware is expected to be clean because consumption of food is involved. So, a restaurant may well be where someone would expect to find silverware rolled into nice displayed napkins (i.e., fancy silverware).']\n"
     ]
    },
    {
     "name": "stderr",
     "output_type": "stream",
     "text": [
      "\r",
      "  8%|████████████▏                                                                                                                                                    | 75/986 [2:32:54<17:53:12, 70.68s/it]"
     ]
    },
    {
     "name": "stdout",
     "output_type": "stream",
     "text": [
      "generated explanation: <pad> <extra_id_0> A restaurant is a great place to find silverware rolled into napkins, which are often displayed in a variety of styles and colors. They are often rolled into a variety of styles, including silverware, silverware, tablecloths, and napkins. They are often rolled into napkins, which are often accompanied by a silverware display. This is because silverware is a versatile product, which is often a great addition to any restaurant. Restaurants are often filled with silverware, which are often rolled into a restaurant to complement the table and are also a great way to display silverware in a variety of colors and patterns. They are also often decorated with silverware. They are also often decorated napkins. Restaurants are also filled with silverware. The tableware is a great way to display silverware in a restaurant is a great way to display silverware in a restaurant, which is a great way to display silverware in a restaurant. Restaurants are also a great way to display silverware in a restaurant. Restaurants also have a variety of silverware. Restaurants also have a variety of other items, such as a variety of different colors and sizes. They are also decorated with silverware, silverware, silverware and silverware. Restaurants are also able to showcase the silverware and silverware. Restaurants are also able to display the silverware in a restaurant's menus are also often decorated with silverware. Restaurants are also able to display silverware and silverware. Silverware is rolled into a variety of silverware, such as a variety of silverware. This means that they are easily rolled into a variety of different colors and patterns, such as silverware, silverware, silverware, and silverware. Restaurants are also often decorated with silverware and silverware. Restaurants also often have a variety of different sizes and styles. Restaurants are also available in a variety of colors and styles to be displayed in a variety of different sizes and shapes. Restaurants also have a variety of sizes and colors. Restaurants also have a variety of shapes and styles to accommodate different sizes of silverware, silverware, and silverware. This allows you to create a variety of tableware, and can be a variety of different sizes and colors, and are a\n",
      "########\n",
      "*******\n",
      "question: He didn't believe fate controlled situations, what did he believe people did?\n",
      "answer: control events\n",
      "choices: ['control events', 'pray', 'dress themselves', 'talk to each other', 'think creatively']\n",
      "common expl list: ['If one believes in fate, then one would believe that fate controls events. If one believes in free will, then one would believe that people control events.', \"If one believes fate controls events, there's nothing to do but accept situation, perhaps to pray; in contrast, if one believed they had control over events, then they could act to change the situation.\"]\n"
     ]
    },
    {
     "name": "stderr",
     "output_type": "stream",
     "text": [
      "\r",
      "  8%|████████████▍                                                                                                                                                    | 76/986 [2:34:08<18:07:13, 71.69s/it]"
     ]
    },
    {
     "name": "stdout",
     "output_type": "stream",
     "text": [
      "generated explanation: <pad> <extra_id_0> He didn't believe fate controlled events, but he did believe people did. They did not believe people did. They believed that fate controlled events, which led to a series of events that took place in the world. They did not believe that people were able to control events because they were able to control them. They were able to control events that were not controlled by fate. They also believed that people did not control events that were not controlled by fate. They were able to control events that were controlled by the people they were controlled by the events that took place in the world. They also believed that people did. They were unable to control events that were able to control events that were able to control events that were able to control events that were able to control events that were able to control events that were able to control them. They were able to control events that were controlled by people. They also had the ability to control events that were controlled by people. They were able to control events that were controlled by people. They were able to control events that were able to control them by people. They could control them. They could control events that were able to control events that were controlled by people. They could control events that would have been controlled by people. They could have a significant amount of control events that could have been controlled by people. They could have the ability to control events that could have been controlled by people. They could have controlled by people, which would have been able to control events that could have been controlled by people. They could have been able to control events that were able to control them. They could have a positive impact the outcome of the outcome of the outcome of the event to affect the outcome of the event to determine the outcome of events to determine the outcome of the events that affected the event to determine the outcome of events that would have affected the outcome of events that would affect the outcome of the events that would have affected the outcome of events that could have affected the outcome of the event that affected the event that would have a positive impact on the other factors that would have had the effect of the other factors that would have had the effect of</s>\n",
      "########\n",
      "*******\n",
      "question: Polly didn't know her way around, so she navigated by landmark.  She used statues, stores, and distinctive building.  Where might she be?\n",
      "answer: city\n",
      "choices: ['countryside', 'national park', 'map', 'neighbourhood', 'city']\n",
      "common expl list: ['Landmarks are often located in cities, and so if a person was navigating by landmarks, they are likely to be in a city.', 'In a city, landmarks are often used to navigate. In the countryside or in national parks, landmarks may not be as distinct, as buildings and statues are less likely to be found.', \"She used distinctive buildings as landmarks, so it is likely she's in a city.\", 'Landmark navigation works best in populated areas because distinctive buildings and statues can be more easily seen.']\n"
     ]
    },
    {
     "name": "stderr",
     "output_type": "stream",
     "text": [
      "\r",
      "  8%|████████████▌                                                                                                                                                    | 77/986 [2:35:22<18:17:00, 72.41s/it]"
     ]
    },
    {
     "name": "stdout",
     "output_type": "stream",
     "text": [
      "generated explanation: <pad> <extra_id_0> She used landmarks to navigate her way around the city. She used statues, buildings, and distinctive buildings to identify landmarks. Places include landmarks, statues, stores, and landmarks. They are all located in cities and are often recognizable by landmarks. They are also often located near landmarks, such as statues, buildings, and landmarks. They are often located near landmarks, such as landmarks, statues, stores, and landmarks. They are often located near statues, landmarks, and landmarks to help her way around the city. They are also often located in a city's landmark to help her navigate the city. They are also located in a city by landmarks, such as the city's architecture, statues, and distinctive buildings. They are also located in a place where a landmark. They are also located in the city's architecture, architecture, and historic buildings. They are often located in the center of the city. They are also located in the center of the city. They are also located in the center of the city. They are also located in the center of the city. They are also located in the area, making it easier to navigate by walking, walking, and walking. They are also located in the area. They are also located in the center of the city. They are also located in the center of the city. They are also located in the area, which are also often located in the center of the center. They are also located near the center of the city. They are also located near the center of the city, which are also known as the city. They are also located in the center of the city. They are also often called the city. They are also located in the center of the city. They are also located in the center of the city, such as a landmark, they are often a landmark, which can be a great way to find landmarks and landmarks. They are also located near the center, and they are also known as the landmarks and landmarks. They are also a popular tourist attractions. They are also a popular tourist attractions. They are also a popular tourist attractions. They are also known as \"city life. They are also known for their history and culture, and they are popular among the sights of the city because they are also a popular spot for polly polly's favorite places to visit. They are\n",
      "########\n",
      "*******\n",
      "question: Some horses are white others are black, but many are this color which might lead some people to think their milk would taste like chocolate?\n",
      "answer: brown\n",
      "choices: ['big but gentle', 'kept in stables', 'cuddly', 'brown', 'running in herd']\n",
      "common expl list: [\"An individual brown-colored horse (particularly when cuddly) can resemble the color of chocolate. If a person were to guess based on the color, he might guess a horse's milk tasted similarly.\"]\n"
     ]
    },
    {
     "name": "stderr",
     "output_type": "stream",
     "text": [
      "\r",
      "  8%|████████████▋                                                                                                                                                    | 78/986 [2:35:56<15:21:48, 60.91s/it]"
     ]
    },
    {
     "name": "stdout",
     "output_type": "stream",
     "text": [
      "generated explanation: <pad> <extra_id_0> Some people think their milk would taste like chocolate, but many are this color which might lead some people to think their milk would taste like it would taste like chocolate. Brown is a color that is often associated with chocolate, a flavor that is often associated with chocolate. It is also a color that is associated with chocolate and chocolate milk. It is also associated with brown milk, which is a color that is often associated with chocolate. It is also associated with chocolate because it is a natural color for some horses, which may lead to the horse to think that milk is made from chocolate. It is also a color that is associated with chocolate-like taste. This color is also associated with the taste of chocolate. It is also associated with the taste of chocolate. It is also associated with a color that is also associated with the color of the horse, which is also associated with the color of the horse, which is a popular choice for horses. It is also associated with a combination of colors, which may lead to the horse’s milk, which may lead to the horse’s milk, which may lead them to think it’s milk to think of chocolate. It may also be a great choice for horses to think that it might be a color that may be a taste that is a color that is a great way to think of it as a color that may be a color that may be a color that may be a color that may be a color that</s>\n",
      "########\n",
      "*******\n",
      "question: What is the one thing you cannot do if you're on the move?\n",
      "answer: stand still\n",
      "choices: ['sit still', 'stationary', 'running', 'stand still', 'stay still']\n",
      "common expl list: ['You must be in motion to be counted as on the move. (this rule exists to disallow the action of holding still)']\n"
     ]
    },
    {
     "name": "stderr",
     "output_type": "stream",
     "text": [
      "\r",
      "  8%|████████████▉                                                                                                                                                    | 79/986 [2:36:37<13:50:16, 54.92s/it]"
     ]
    },
    {
     "name": "stdout",
     "output_type": "stream",
     "text": [
      "generated explanation: <pad> <extra_id_0> If you're on the move, you're going to have to take a break. Stand still is a great way to keep your eyes open and focus on your work. Stand still is also a great way to keep your eyes open and your eyes open. Stand still is also a great way to keep your head above water when you're on the move. Stand still is a great way to keep your eyes open and to keep your eyes open. Stand still is also a great way to keep your head above water and to keep your body still. Stand still is also able to keep your head above water safe and sound, and can be used to keep your breath. Stand still can be a great way to keep your hands free. Stand still is a great way to keep your head above water open and keep your head up and down and keep your head above water surface. Stand still, but you can't move around the room. Stand still, you can't move around the world, and you can't see the world, and you can't see the world. Stand still can be a great way to keep your head above the water, and you can't move around the world. Stand still can be a great way to keep your head above the ground. Stand still can be a great way to keep yourself safe. Stand still, and it can also be a great way to keep yourself and others around the world. Stand still can be a great way to keep your head up or down, and it can be a great way to keep your head up and stay focused. Stand still can be a great way to keep your head up and down. Stand still can be a great way to keep your head up and down, and it can be a great way to keep your head up and down.</s>\n",
      "########\n",
      "*******\n",
      "question: Where does someone convicted of a petty crime likely spend time?\n",
      "answer: jail\n",
      "choices: ['sell drugs', 'jail', 'nightclub', 'prison', 'offer drugs']\n",
      "common expl list: ['Someone convicted of a petty crime probably spends some time in jail, and not in prison.', 'Someone convicted of a petty crime is likely to spend time in jail.']\n"
     ]
    },
    {
     "name": "stderr",
     "output_type": "stream",
     "text": [
      "\r",
      "  8%|█████████████                                                                                                                                                    | 80/986 [2:37:50<15:08:43, 60.18s/it]"
     ]
    },
    {
     "name": "stdout",
     "output_type": "stream",
     "text": [
      "generated explanation: <pad> <extra_id_0> A petty crime is a serious offense that can lead to a number of serious consequences. a petty crime is a crime that can lead to physical harm or physical injury. In addition to the physical harm, a petty crime is a criminal offense that can lead to physical harm or physical injury. In jail, a petty crime is a crime that can lead to physical harm or physical injuries. A petty crime is a serious crime that can lead to the death of a loved one or a juvenile, a petty offense, a person’s death or physical injury, or even death sentence. A petty crime can also lead to physical or sexual injury. A petty crime can also lead to the death of a petty crime case, a person’s life and the death sentence. petty crime can also lead to physical or mental harm to someone’s life. A petty crime victim’s life, and petty crime victims often have to face the consequences of their life. A petty crime victim’s life in prison, which can result in a long prison sentence. A petty crime victim to end a long sentence, a lengthy sentence, or a long sentence, or a prison sentence for a long time, and a long time in prison. A prison sentence, a long sentence, or a long prison sentence, a long sentence, or a long sentence, a long sentence. A prison can be a long sentence. A prison can be a long sentence, a long sentence, a long sentence, or a sentence, or a sentence, or a sentence, or a sentence, a sentence that could a sentence sentence, a sentence, a sentence, a sentence, a sentence, or a sentence. The sentence is a sentence that the sentence that is a sentence that is a lengthy sentence that is a sentence that is a sentence that is a sentence that is a sentence that is a sentence that is a sentence that is a sentence that is a sentence that is a sentence that is a sentence that is a sentence that is a sentence that is a sentence that is a sentence that is a sentence that is a sentence that is a sentence\n",
      "########\n",
      "*******\n",
      "question: He would entertain with a pool party regularly, it was the best way to beat the what?\n",
      "answer: hot\n",
      "choices: ['please', 'hot', 'guest', 'bribe', 'liked']\n",
      "common expl list: ['Pool parties are a great way to beat the heat.']\n"
     ]
    },
    {
     "name": "stderr",
     "output_type": "stream",
     "text": [
      "\r",
      "  8%|█████████████▏                                                                                                                                                   | 81/986 [2:38:49<15:02:51, 59.86s/it]"
     ]
    },
    {
     "name": "stdout",
     "output_type": "stream",
     "text": [
      "generated explanation: <pad> <extra_id_0> A pool party is a great way to beat the heat. A pool party is a great way to beat the heat. It is a great way to beat the heat, but it can also be a great way to get to know the other swimmers and make new friends. The best way to beat the heat is by throwing a pool party regularly. It is also a great way to beat the heat and get a kick out of the house. It is also a great way to beat the heat. It is also a great way to beat the heat of the day, as it is a great way to get to know the other party is also a great way to get to know the other swimmers to get to know them. It is also a great way to beat the heat of the heat. It is also a great way to get to know the other players to get to know each other and get to know them both and to get to know each other. Pool parties are a great way to get to know each other and to get to know each other better than the other. It is a great way to get to know each other and to get to know each other and to get to know each other better. This is a great way to beat the heat of the heat of the day. It is a great way to get to know each other, and it is a good way to get to know each other better. It is a great way to beat the heat of the moment, and it is a great way to beat the heat. It is a great way to beat the heat and keep the heat and the heat is the best way to keep the heat. The best way to keep the heat and keep the heat and keep the heat and keep the heat in the pool. It is also a great way to keep the heat and keep the heat and keep the heat and keep the heat up. It is a great way to keep the heat and keep the heat and keep the heat. The heat and keep the heat in the pool party is a great way to keep the heat and keep the heat. The pool party is a great way to keep the heat and the hotter the cooler the cooler the cooler the cooler the hotter the hotter the cooler the cooler the cooler the cooler the cooler the cooler the cooler the cooler the cooler the cooler the cooler the cooler the cooler the cooler the cooler. The hot\n",
      "########\n",
      "*******\n",
      "question: If you wanted to confirm information that you had, you would do what to someone?\n",
      "answer: question\n",
      "choices: ['infirm', 'ask', 'deny', 'question', 'dispute']\n",
      "common expl list: ['If you wanted to confirm information that you had, you would ask someone.', 'To confirm something that your friends told you, you might need to ask those friends further questions to prove that the information was correct.', \"Often information is ambiguous, and I can confirm it by asking pointed questions or by scrutinizing the other person's story till I can find a way to interrogate their position.\", 'If you wanted to verify the truth, you might question the person who you got the alleged information from.']\n"
     ]
    },
    {
     "name": "stderr",
     "output_type": "stream",
     "text": [
      "\r",
      "  8%|█████████████▍                                                                                                                                                   | 82/986 [2:39:09<12:01:27, 47.88s/it]"
     ]
    },
    {
     "name": "stdout",
     "output_type": "stream",
     "text": [
      "generated explanation: <pad> <extra_id_0> If you wanted to confirm information that you had, you would do something to someone. This would include a simple question like: If you wanted to confirm information that you had, you would need to confirm it. This would be a good time to confirm information that you had. It would also be a good time to ask someone to confirm information that you had. This would also be a good time to ask for help from someone else. This would be a good time to ask someone to confirm information that you have. This would be a good time to confirm information that you have. This would be a good time to ask questions, and it would also allow people to ask questions to help you understand the information that you have. This would be a good time. It would also be a good time to ask them to provide a good answer. This would help to ensure that you would be able to confirm information that you have. This would also help to ensure that you would be able to confirm that you have the information you have. This would help to ensure that you would be able to confirm that you would be able to confirm that you would be able to answer the question.</s>\n",
      "########\n",
      "*******\n",
      "question: Where is cheese likely to be dangerous for some creatures?\n",
      "answer: mouse trap\n",
      "choices: ['refrigerator', 'mouse trap', 'fridge', 'outside', 'plate']\n",
      "common expl list: ['cheese has been said to attract mice. Mice traps may contain cheese in order to attract them.']\n"
     ]
    },
    {
     "name": "stderr",
     "output_type": "stream",
     "text": [
      "\r",
      "  8%|█████████████▌                                                                                                                                                   | 83/986 [2:39:43<10:56:23, 43.61s/it]"
     ]
    },
    {
     "name": "stdout",
     "output_type": "stream",
     "text": [
      "generated explanation: <pad> <extra_id_0> Cheese is a<extra_id_1> Cheese is a highly toxic substance that is a source of toxins and is highly addictive. It is also a source of toxins that can cause the animal to become ill. The mouse trap is a trap that is often used by animals to avoid being harmed by the mouse. The mouse trap is a type of animal that is able to eat food that is not contaminated with the mouse’s saliva. The mouse trap is a type of animal trap that is often used to catch the mouse and can cause a mouse bite. The mouse is also able to eat the mouse and the mouse is able to chew the mouse’s mouths and other animal feed. The mouse trap is also able to eat the mouse’s paws and eat the mouse’s food. The mouse is able to eat the mouse. The mouse is able to eat the mouse and eat the cheese, which is a great way to keep the mouse’s saliva, which can cause the mouse’s saliva. The mouse is also able to eat the mouse’s saliva, which can be a great way to eat the cheese, which can be a great way to eat the cheese, which can be a great way to eat it, and it can be a great way to eat it, and it can be a great way to eat it, and it can be a great way to eat it, and it can be a great way to </s>\n",
      "########\n",
      "*******\n",
      "question: He spent all work day at a computer, so he got a footstool for more comfort at his what?\n",
      "answer: desk\n",
      "choices: ['desk', 'bathroom', 'shoe shop', 'family room', 'living room']\n",
      "common expl list: ['A footstool is a small stool that is used to raise the height of a chair or table. If someone spends all day at a computer, they might need a footstool to raise their desk.']\n"
     ]
    },
    {
     "name": "stderr",
     "output_type": "stream",
     "text": [
      "\r",
      "  9%|█████████████▋                                                                                                                                                   | 84/986 [2:41:07<13:57:56, 55.74s/it]"
     ]
    },
    {
     "name": "stdout",
     "output_type": "stream",
     "text": [
      "generated explanation: <pad> <extra_id_0> He spent all day at a computer, so he got a footstool for more comfort at his desk. Desk footstools are often used to help relieve the pressure on his feet as they work. They are also used to help reduce stress and help reduce stress during the workday. They are also used to help reduce stress and stress. They are also used to help reduce stress and stress. They are also used to help reduce stress and stress during work hours. They are also used to help reduce stress and stress. They are also used to help relieve stress and anxiety. They are also used to help him sleep better at his desk. They are also used to help him to work at home. They are also used to help him sleep better and to help him to work out more easily. They also help him to work more efficiently and comfortably at his desk. They are also used to help him sleep better and help him to sleep more easily. They are also helpful for reducing stress and stress. They also provide a comfortable and ergonomic. They also provide a desk that is a desk-based footstools are also helpful for reducing stress and stress, as they are more comfortable for the user. They also provide a comfortable footstools are available in many workplaces, such as work. They are also available to help reduce stress and provide a comfortable footstools are also a great way to reduce stress and increase productivity. They are also reducing stress, which means they are also more comfortable for users of the desks. They are also a great way to reduce stress and stress. They are also available in the office. They are designed to reduce stress during the working day. They are also designed to be more comfortable and ergonomic. They are also great for reducing stress and stress-free. They are designed to reduce stress and stress-free for employees to use them to help reduce stress and stress-free for those with back pain. They are more likely to be more ergonomic and ergonomic. They are also more efficient for the work day. They are also more comfortable for the footstools are also more comfortable for the footstools are also more ergonomically friendly and can be used to reduce the impact of the user. They are also more comfortable to use them to help reduce the amount of work-day-to-related injuries. They also provide a comfortable alternative to the desks. They can also be used to provide\n",
      "########\n",
      "*******\n",
      "question: How would grooming lead to bald spots?\n",
      "answer: mistakes\n",
      "choices: ['cleanliness', 'mistakes', 'brushing', 'beauty', 'satisfaction']\n",
      "common expl list: [\"If you accidentally over trim your hair, you'd likely end up with bald spots.\"]\n"
     ]
    },
    {
     "name": "stderr",
     "output_type": "stream",
     "text": [
      "\r",
      "  9%|█████████████▉                                                                                                                                                   | 85/986 [2:42:00<13:48:09, 55.15s/it]"
     ]
    },
    {
     "name": "stdout",
     "output_type": "stream",
     "text": [
      "generated explanation: <pad> <extra_id_0> Grooming leads to bald spots. It is a process that involves a lot of effort and effort, and mistakes can be costly and distracting. Grooming can be a process that involves a lot of effort and effort, and can lead to bald spots. It can also lead to a number of health problems, such as diabetes, dermatitis, and other health problems. It can also lead to a number of other problems, such as a weakened immune system, poor posture, and a variety of other problems. The process can be a great way to avoid making mistakes and preventing bald spots. The result of the grooming process, as it can be quite effective in preventing bald spots. The grooming process can be a good way to avoid the bald spots, as it can be difficult to maintain a bald spots, as it can be a good way to prevent bald spots, and it can be a good way to prevent a baldness. The process can be a good way to prevent bald spots can be a good way to prevent bald spots. The grooming process can be a good way to prevent a person’s body recognizing the mistakenly causing the bald spots. The bald spots are a person’s body’s baldness. The result of a lack of hair loss and the appearance of baldness is usually a process of identifying the baldness and a process of identifying the baldness and the appearance of the baldness and the appearance of the baldness and the appearance of baldness and the appearance of baldness and the appearance of baldness and the appearance of baldness and the appearance of the baldness and the appearance of baldness and the appearance of baldness and the appearance of the baldness and the baldness and the appearance of</s>\n",
      "########\n",
      "*******\n",
      "question: Where would a snake find a great hiding place in the United Kingdom?\n",
      "answer: kew gardens\n",
      "choices: ['ditch', 'terrarium', 'thick forest', 'kew gardens', 'feild']\n",
      "common expl list: ['Kew gardens is a large botanical garden in London, England, and snakes are often found in gardens.', 'Kew gardens is located in London, which has a great deal of green space in the form of parks.']\n"
     ]
    },
    {
     "name": "stderr",
     "output_type": "stream",
     "text": [
      "\r",
      "  9%|██████████████▏                                                                                                                                                   | 86/986 [2:42:03<9:52:55, 39.53s/it]"
     ]
    },
    {
     "name": "stdout",
     "output_type": "stream",
     "text": [
      "generated explanation: <pad> <extra_id_0> A snake can find a great hiding place in a kew garden in the United Kingdom. The snake can also find a great hiding place in a kew garden in the United Kingdom. The snake can also find a great hiding place in a kew garden in a kew garden in the United Kingdom. The snake can find a great hiding place in a kew garden in a kew garden in a kew garden in the United Kingdom. The snake can also find a great hiding place in a kew gardens are also a great place to hide and find a great hiding place in the United Kingdom by visiting a kew gardens in the United Kingdom, such as a kew gardens</s>\n",
      "########\n",
      "*******\n",
      "question: After studying many self-help books, what did he feel in his heart?\n",
      "answer: inspiration\n",
      "choices: ['inspiration', 'dreams', 'more intelligence', 'understanding', 'knowing more']\n",
      "common expl list: ['Self-help books are written to inspire people to change their lives for the better.', \"Some people study self-help books because they've felt lost in their life and are looking for something to help them out. By reading many self-help books, such people might feel more inspired in their life.\", \"If John read about confidence, optimism, positive thinking, it's possible that he feels inspired.\"]\n"
     ]
    },
    {
     "name": "stderr",
     "output_type": "stream",
     "text": [
      "\r",
      "  9%|██████████████▏                                                                                                                                                  | 87/986 [2:43:11<12:00:15, 48.07s/it]"
     ]
    },
    {
     "name": "stdout",
     "output_type": "stream",
     "text": [
      "generated explanation: <pad> <extra_id_0> After studying many self-help books, he felt inspired to write about his experiences with self-help. Self-help books provide a way to help people understand themselves and their feelings. They are a great way to help people understand themselves and their lives. They are also a great way to get inspiration for themselves. They are also a great way to help people understand themselves and their lives. They also provide a way to express themselves through their feelings and feelings. They are also a great way to help others. They are also a great way to find inspiration. They are also a great way to help others feel inspired and inspired by self-help books and other self-help books. Self-help books can help people understand their own thoughts and feelings of gratitude and help others to feel inspired by self-help books that can help others feel inspired and empowered by self-help books can help them to feel good about themselves and their lives. Self-help books can help them to feel more confident and confident in their lives. They can also help them to help them feel more confident and empowered to help them feel better about their lives. They can help them to feel better about themselves. They can help them to others. They can help them to feel more confident and confident in their ability to help others. They can help others. They can help others. They can help others to feel more confident and inspired by them. They can help others. They can help others to feel more confident in themselves. They can help others to feel more confident in their own personal development. They can help others to be more confident in themselves. Self-help books can help them to help others to feel more than ever before. They can help them to be more confident in themselves. They can help others to be more confident in their own personal growth and happiness. They can help others to feel the joy and strength, motivation, confidence, and support them in their lives. They can help them to be more confident in their own personal growth and strength. They can help them to be inspired by their experiences. Self-help books can help them to be a source of inspiration. Self-help can be a source of inspiration to find a sense of self-help. Self-help can be a source of inspiration to help them to be more than just a source of inspiration. Self-help can be a source of inspiration. They can be a source of inspiration. They can also help\n",
      "########\n",
      "*******\n",
      "question: Where would you find teeth whitening bleachers?\n",
      "answer: pharmacy\n",
      "choices: ['gymnasium', 'soccer game', 'sporting event', 'pharmacy', 'soccer game']\n",
      "common expl list: ['Teeth whitening is a common practice, and pharmacies often sell the products used for it.']\n"
     ]
    },
    {
     "name": "stderr",
     "output_type": "stream",
     "text": [
      "\r",
      "  9%|██████████████▎                                                                                                                                                  | 88/986 [2:44:37<14:47:38, 59.31s/it]"
     ]
    },
    {
     "name": "stdout",
     "output_type": "stream",
     "text": [
      "generated explanation: <pad> <extra_id_0> A pharmacy is a trusted source for teeth whitening bleachers. They are used to remove plaque from the teeth and to remove plaque from the teeth. They are also available in a variety of colors and colors. They are also available in a variety of styles and colors. They are also available in a variety of colors and colors. They are also available in a variety of sizes and colors, including white, light, and powder. They are also available in a variety of colors and colors. They are also available in a variety of stores and retailers across the country. They also have a variety of colors, colors, and other products that can help to prevent cavities and gums from decay. They also offer a wide variety of products that are suitable for any age, gender, age, and other cosmetics. They are also available in a wide variety of colors, toothpastes, and cosmetics products, such as a wide variety of colors. They are also available in a variety of colors, colors, and patterns, and are available in a variety of colors, colors, and patterns. They are also available in a variety of different colors. They also offer a wide variety of colors and patterns, colors, and patterns, and colors, making them a great way to achieve a great way to achieve a great way to achieve a variety of colors. They are also available in a variety of colors, and they are also available in a variety of colors, which are available in a variety of colors and patterns, which are available in a variety of colors and patterns. They are also available in a variety of colors and designs, and are available in a variety of colors and colors. They are also available in a variety of colors and patterns that are designed to give you a variety of colors and patterns that are a variety of colors and patterns that are suitable for a variety of colors and styles. They are also available in a variety of colors and patterns that are available in a variety of colors and patterns that can be purchased in a variety of colors and styles. They can also be purchased in a variety of colors and styles. They can also be used in toothpastes and other teeth whitening products that can be used in many different sizes. They can be used in a wide range of colors and can be used in a variety of colors and sizes, and can be used in many\n",
      "########\n",
      "*******\n",
      "question: While he had seen a koala in the zoo, he was looking forward to finding one in the what?\n",
      "answer: australian outback\n",
      "choices: ['australian outback', 'bamboo grove', 'wilderness', 'island', \"child's book\"]\n",
      "common expl list: ['Koalas live in Australia, and are not found in any other country in the North American continent.', 'Because Koalas are a native species to Australia, the safest place to see a Koala may be outback Australia.']\n"
     ]
    },
    {
     "name": "stderr",
     "output_type": "stream",
     "text": [
      "\r",
      "  9%|██████████████▌                                                                                                                                                  | 89/986 [2:44:47<11:07:50, 44.67s/it]"
     ]
    },
    {
     "name": "stdout",
     "output_type": "stream",
     "text": [
      "generated explanation: <pad> <extra_id_0> A koala is a large, rounded animal that is found in the wild. It is a species of animal that is a part of the Australian outback. It is a species that is unique to Australia and is a great place to explore. It is also a great place to visit and learn about the culture and history of the zoo. It is also a great place to find a koala, which is a unique species of animal. It is a great place to find a zoo keeper and a natural environment. It is a great place to see and hear, and it is a great way to learn about the culture and history of the zoo and the history of australian outback. It is also a great place to see the wildlife and history of the koala, a great place to find a koala, and it is a great place to see the koala, and it is also a great place to see a koal</s>\n",
      "########\n",
      "*******\n",
      "question: Where can a child get a wagon?\n",
      "answer: toy store\n",
      "choices: ['field', 'garage', 'bookstore', 'backyard', 'toy store']\n",
      "common expl list: [\"A toy wagon is a child's toy. Toy wagons can be purchased from toy stores.\", 'Toy stores deal specifically in toys. Wagons are one of a variety of toys.']\n"
     ]
    },
    {
     "name": "stderr",
     "output_type": "stream",
     "text": [
      "\r",
      "  9%|██████████████▋                                                                                                                                                  | 90/986 [2:45:57<12:56:37, 52.01s/it]"
     ]
    },
    {
     "name": "stdout",
     "output_type": "stream",
     "text": [
      "generated explanation: <pad> <extra_id_0> A toy store is a place where a child can get a wagon. It is a toy store that is located in a building or a building, and it is a place where a child can get a wagon. Toy store is a place where children can get to see and play with toys, such as toys, books, and other toys. Toy store is a place where children can get toys, books, and other toys. Toy stores are often located in the center of the center. Toy store is a great place to buy items for children to play with and to play with toys, such as toys, and other items that can be purchased at a great place to buy. Toy store is a great way to help children to play with toys, books, and other toys. Toy store is a toy store for children to play with toys, such as a toy store, which can be used to buy a wagon, a child can purchase a toy store for children to play with and to ride on the wagon. Toy store is a toy store is a great way to help children to play with their toy store. Toy store is a great way to help children to get the most likely to get the most fun and educational way to get their toy store a toy. Toy store is a great way to get a toy store is a toy store a toy store is a toy store is a toy store is a toy store is a toy store is a toy store is a toy store is a toy store. Toy store is a great place for a toy store is a great place for a toy store to toy store. Toy store is a great place to purchase a toy store is a toy store is a toy store is a toy store is a toy store is a toy store is a toy store is a toy store is a toy store is a toy store is a toy store is a toy store is a toy store. Toy store is a toy store is a toy store is a toy store is a toy store that has\n",
      "########\n",
      "*******\n",
      "question: Being able to forgive is a way to be what?\n",
      "answer: nice to\n",
      "choices: ['learn', 'give hug', 'happiness', 'nice to', 'sex']\n",
      "common expl list: ['When you forgive people you are being nice to them.']\n"
     ]
    },
    {
     "name": "stderr",
     "output_type": "stream",
     "text": [
      "\r",
      "  9%|██████████████▊                                                                                                                                                  | 91/986 [2:47:04<14:03:26, 56.54s/it]"
     ]
    },
    {
     "name": "stdout",
     "output_type": "stream",
     "text": [
      "generated explanation: <pad> <extra_id_0> Being able to forgive is a way to be more compassionate to others. This is a way to be more compassionate to others. It is also a way to be more accepting of others’ actions and situations. They are also a way to be more confident in their ability to handle their emotions and emotions. They are also able to be more accepting of others’ actions and emotions. They are also able to be more compassionate to others. They are also able to be more responsible for their actions and to be more confident in their actions. They are able to be more confident in their own abilities. They are also able to be more accepting of others. They are able to be more accepting of others’s needs and want and need. They are also able to be more confident in their own personal and more easily able to be more confident in their ability to be more accepting of others’ needs. They are also able to be more open and honest with themselves and to be more accepting of others’s needs. They are also able to be more accepting of others’s needs and can be more confident in themselves and to be more confident in their own abilities. It is important to be able to be able to be more confident in their abilities and can be more confident in themselves and to be more confident in their abilities and abilities. They are also able to forgive others. They are also able to forgive others. They are able to express their own opinions and opinions. They are able to be more open to new ideas and be more accepting of their own opinions and to be more accepting of their own opinions. They are able to be able to forgive. They are able to be able to be more open to new ideas and be able to forgive others. They are able to be more open to new ideas and learn from their mistakes and be more accepting of their own mistakes and to be able to be more accepting of their own opinions and to be more accepting of their own opinions and to be more accepting of others. They are more accepting of others. They are also more accepting of others. They are more likely to be more willing to forgive others. They are more likely to forgive others who are more likely to be more likely to be more accepting of themselves and their mistakes. They are more likely to be more open to them. They are more likely to be more willing to be more accepting of others. They are willing\n",
      "########\n",
      "*******\n",
      "question: What  is necessary to have when going fishing?\n",
      "answer: fishing rod\n",
      "choices: ['fishing rod', 'access to water', 'bate', 'three hands', 'tackle']\n",
      "common expl list: ['fishing rods are necessary component pieces that are held by fishermen to access and use when fishing', 'To go fishing requires a fishing rod.']\n"
     ]
    },
    {
     "name": "stderr",
     "output_type": "stream",
     "text": [
      "\r",
      "  9%|███████████████                                                                                                                                                  | 92/986 [2:47:53<13:30:11, 54.37s/it]"
     ]
    },
    {
     "name": "stdout",
     "output_type": "stream",
     "text": [
      "generated explanation: <pad> <extra_id_0> A fishing rod is a great way to learn the ropes and how to get the best fish. The fishing rod is a great way to learn the basics of a fishing rod. The fishing rod is a great way to get the best fish in your life. The fishing rod is a great way to get the most out of your fish. Fishing is a great way to learn about the fish and its surroundings. The fishing rod is a great way to learn new skills and knowledge. The rod is a great way to increase the number of fish. The rod is also a great way to increase the number of fish and other aquatic activities. The rod is also a great way to get better knowledge of the fish and the water. The rod is a great way to get a lot of fish. The rod is a great way to get some extra safety features such as a fishing rod can be used to keep the fish from swell and also to get the fish. The rod is also a great way to keep the fish’s surface. The rod is also a great way to keep the fish’s body’s ability to keep the fish’s ability to catch fish’s food and water. The rod is also a great way to keep the fish’s food and water-based sport. The rod is a great way to keep the fish’s food particles from squirt and keep the fish’s food and water’s fishes’ food and water’s food and water’s food. The rod is a great way to keep the fish’s food fresh and keep the fish’s food fresh and clean. The fish’s food and water in the water’s bites clean and keep the fish’s food in the water fresher and the fish’s food in the water. The rod is a great way to keep the fish’s food from being in the water. The rod is also a great way to keep the fish’s food and the fish’s food in the water. The fish’s food and drink. The fish are also a great way to keep the fish’s food fresh and fresh. The rod is a great way to keep the fish’s food fresh and the fish’s food fresher. The rod is a great way to keep the fishes’ food fresh and clean and keep them fresh and fresh\n",
      "########\n",
      "*******\n",
      "question: A weasel is cursed by a witch, where is the weasel stuck?\n",
      "answer: fairytale\n",
      "choices: ['corn fields', 'great outdoors', 'fairytale', 'imagination', 'chicken coop']\n",
      "common expl list: ['Being stuck in a fairytale suggests being cursed, and the curses that prevail in fairytales are usually cast by witches.']\n"
     ]
    },
    {
     "name": "stderr",
     "output_type": "stream",
     "text": [
      "\r",
      "  9%|███████████████▏                                                                                                                                                 | 93/986 [2:48:05<10:20:13, 41.67s/it]"
     ]
    },
    {
     "name": "stdout",
     "output_type": "stream",
     "text": [
      "generated explanation: <pad> <extra_id_0> A witch is cursed by a witch and is cursed by a witch who is hung upside down. The witch is cursed by a cursed weasel and is cursed by a witch for causing the weasel to fall off the ground. The witch is cursed by a witch and the weasel is stuck in a place that is not safe. The witch is cursed by a witch who is unable to find a way to get ahold of the weasel. The weasel is also cursed by a cursed by a weasel is cursed by a witch because the weasel is unable to get a curse. The witch is cursed and cursed by a witch to get a curse because the weasel is unable to get a curse because the weasel is unable to get a curse because the weasel</s>\n",
      "########\n",
      "*******\n",
      "question: If you want to buy you must what?\n",
      "answer: spend money\n",
      "choices: ['spend money', 'go shopping', 'paying', 'have in mind', 'a shop']\n",
      "common expl list: ['To buy one needs money, and need money implies you have spent money.', 'To buy something, you must spend money.', 'If you want to buy something, you must spend money.']\n"
     ]
    },
    {
     "name": "stderr",
     "output_type": "stream",
     "text": [
      "\r",
      " 10%|███████████████▍                                                                                                                                                  | 94/986 [2:48:17<8:07:09, 32.77s/it]"
     ]
    },
    {
     "name": "stdout",
     "output_type": "stream",
     "text": [
      "generated explanation: <pad> <extra_id_0> If you want to buy a new car, you must spend money. Spending money is a very important part of a car's life. It is a way to make sure that you are spending your money wisely. It is also a way to make sure that you are spending the money you need to spend. It is also a way to make sure that you are spending the right amount of money. It is also a way to ensure that you are spending the right amount of money. It is also a good way to ensure that you can spend money on a variety of items, such as a car, a car, or a car, or a car. It is also a good way to help you to avoid the consequences of a number of dollars. This is a good way to spend money on the right way. It is a good way to spend money on your own personal items, like a good way to help you save money on your own. It is a good way to save money. It is also a good way to save money. It is a great way to save money on groceries, for example, to buy a car, to spend money on your shopping spree, because it is a good way to save money by reducing the amount of money you can also help you save money</s>\n",
      "########\n",
      "*******\n",
      "question: What public celebration sometimes has a horse show?\n",
      "answer: state fair\n",
      "choices: ['state fair', 'indy 500', 'american southwest', 'canada', 'central park']\n",
      "common expl list: ['Horse shows are sometimes included in state fair celebrations, and these fairs frequently are held in public parks.', 'Horse shows are competitions that sometimes occur at public celebrations. Some fairgrounds include horse shows as part of their regularly scheduled events.', \"A state's fair is a public celebration that may include a horse show.\"]\n"
     ]
    },
    {
     "name": "stderr",
     "output_type": "stream",
     "text": [
      "\r",
      " 10%|███████████████▌                                                                                                                                                  | 95/986 [2:48:33<6:53:41, 27.86s/it]"
     ]
    },
    {
     "name": "stdout",
     "output_type": "stream",
     "text": [
      "generated explanation: <pad> <extra_id_0> A state fair is a public celebration that celebrates horse racing, horse racing, and other sporting events. It is a type of public celebration where horses are exhibited in various forms, including horse shows, horse shows, and horse shows. Horse shows are often held at public celebrations, such as state fairs, carnivals, and other public celebrations. They are often held at public events such as races, festivals, and festivals. They are usually held at a public celebration, such as a state fair, carnival, or horse shows, and other public celebrations. Horse shows are a great way to celebrate the best of both worlds. They are a great way to show off horses and other things that can be found at public celebrations, such as a state fair, and are a great way to show off horses. They are also a great way to show off their horse. They are a great way to show off their skills and knowledge. Horse shows are a great way to show their horses, and they can be a great way to show off their talents and show horses and horses.</s>\n",
      "########\n",
      "*******\n",
      "question: There are many wage gaps being discussed, the most important of which is between the rich and what?\n",
      "answer: poor\n",
      "choices: ['plain', 'sleepy', 'poor', 'idle', 'needy']\n",
      "common expl list: ['The poor are a group which suffers from a wage gap, denoted as their earning less than others, especially the rich.']\n"
     ]
    },
    {
     "name": "stderr",
     "output_type": "stream",
     "text": [
      "\r",
      " 10%|███████████████▋                                                                                                                                                 | 96/986 [2:49:58<11:03:41, 44.74s/it]"
     ]
    },
    {
     "name": "stdout",
     "output_type": "stream",
     "text": [
      "generated explanation: <pad> <extra_id_0> There are many wage gaps being discussed, the most important between the rich and the poor are between the rich and the poor. The vast majority of wage gaps are between the rich and the poor. The most important gap between the rich and the poor is between the rich and the poor. The wage gap between the rich and the poor is the most common one. The wage gap between the rich and the poor is the largest gap between the rich and the poor. The wage gap is often a result of a lack of resources and lack of opportunities for growth. The wage gap is a result of lack of opportunities for the rich and the poor are often compared to the poor. The poor are also often associated with the poor are often associated with the poor. The wage gap is often between the rich and the poor. The rich and the poor are also more likely to be the poor are more likely to be more likely to be more likely to be more likely to be more likely to be more likely to be more likely to be more likely to be the poor. The more likely to be the poorest and the most likely to be the most likely to be the most likely to be the most likely to be the most likely to be the most common reason for the most expensive and more likely to be the most likely to be the most likely to be the most likely to be the most likely to be the poor. The most likely to be the rich. the rich and the poor. wage gaps are often the richer. The more likely to be the most likely to be the most likely to be the rich and the more likely to be the rich. The more wage gap is also a result of a result of the more likely to be the rich and the poorer. The more likely to be the rich and the poor. The more likely to be the most likely to be the richer the more likely to be the rich and the poorer the poor. The most expensive to maintain and increase the wealthier the wealthier the more likely to be the richer the wealthier the poorer the more likely to be the poor. The more likely to be the rich. The more likely to be the rich and the more likely to be the poor. The more likely to be the poorest wage gap between the rich and the poor. The more likely to be the wage gap between the rich and the poor. The richest wage gap between the poor. The more money the rich. The more likely to be a\n",
      "########\n",
      "*******\n",
      "question: What city in a North American Country, that isn't the United States, would you expect to find a good french restaurant?\n",
      "answer: quebec\n",
      "choices: ['wine', 'nyc', 'quebec', 'manhattan', 'paris']\n",
      "common expl list: ['Quebec is said to have strong french-culture since it was originally french territory. This would make sense if quebec had a good french restaurant.', 'Quebec is a province in Canada, and is known for its french culture.', 'Quebec has a strong french heritage, and the french cuisine is actually quite popular in the United States.', 'Quebec is the only province that speaks French in North America, and you might expect to find a good french restaurant there.']\n"
     ]
    },
    {
     "name": "stderr",
     "output_type": "stream",
     "text": [
      "\r",
      " 10%|███████████████▊                                                                                                                                                 | 97/986 [2:51:01<12:26:32, 50.39s/it]"
     ]
    },
    {
     "name": "stdout",
     "output_type": "stream",
     "text": [
      "generated explanation: <pad> <extra_id_0> A good French restaurant is a great way to experience the French culture and culture in a country like a North American Country. Quebec is a popular place for a good french meal, as it is the only city in the country that is located in the North American Country. Quebec is a great place to find a good french restaurant because it is located in a North American Country and is located in the heart of the North American Country. Quebec is a great place to find a good french restaurant. Quebec is a great way to experience the culture and history of the country. Quebec is a great place to find a good french restaurant in a North American Country. The French are a great place to find a good restaurant in a North American Country. The restaurant is located in a small town and is located in a small town in a country with a small town. The restaurant is located in a small town in a small country, and is located in a small town. The restaurant is located in a small town and is located in a small town, so it is a small town, so it is located in a small town, and is located in a small town. The restaurant is located in a small town, and is located in a small town style, it is located in a small town, and it is located in a small town. It is located in a small town in a small town of a small town, and it is located in a small town, and it is located in a small town, so it is easy to reach. It is located in a small town, and it is located in a small town, and it is located in a small town, it is easy to find a small town, it is located in a small town, it is easy to reach. It is also a few minutes walk from the center of the city, it is a few minutes walking distance to the center of the city, it is easy to find a few minutes to the south of the North of the North of the North of the North of the North of the South of the North. The North American Country, and it is located in the middle of the country, it is located in the heart of the North American Country, it is located in the North American Country, it\n",
      "########\n",
      "*******\n",
      "question: Care not to burn you hand on the handle of what small high-walled vessel?\n",
      "answer: saucepan\n",
      "choices: ['brush', 'carry object', 'walking stick', 'umbrella', 'saucepan']\n",
      "common expl list: ['A saucepan is a small, high-walled vessel, built for holding liquids and usually used in the kitchen.']\n"
     ]
    },
    {
     "name": "stderr",
     "output_type": "stream",
     "text": [
      "\r",
      " 10%|████████████████                                                                                                                                                 | 98/986 [2:52:08<13:37:07, 55.21s/it]"
     ]
    },
    {
     "name": "stdout",
     "output_type": "stream",
     "text": [
      "generated explanation: <pad> <extra_id_0> Care not to burn your hand on the handle of what you are using. It is important to remember that the handle of a saucepan is not a high-walled vessel, so it is a good idea to use it in a safe manner. It is important to keep your hands clean and dry by using a clean cloth or other cloth that is not contaminated with food or liquid. It is important to keep your hands away from touching the handle of the saucepan. The handle of a saucepan is a small, high-walled vessel with a large, high-walled vessel. The handle of a saucepan is a large, thick, and can be used to store food or liquids. The temperature of the saucepan is a small, high-walled vessel. The saucepan can be opened and closed to ensure that the lid is a safe place to store the food safely. The handle should be able to keep the heat from burning. The saucepan is a small vessel, and the handle should be tightly closed and clean. The handle should be a medium-sized vessel, and should be able to hold the hand securely. The handle should be a small, medium-walled vessel. The handle should be a safe place to protect your hands from the heat of the heat of the vessel. The handle should be uncovered and should be uncovered and the handle should be uncovered and allow the heat to circulate the heat to the temperature of the heat. The heat is a small vessel. The heat is usually a small area of the saucepan. The saucepan should be uncovered and the heat is uncovered and the heat is uncovered and the heat is uncovered and the heat is uncovered and the heat is uncovered and the heat is uncovered and the heat is uncovered and the heat is uncovered and the heat is uncovered and the heat is uncovered. The heat is uncovered and the heat is uncovered and the heat is uncovered and the heat is uncovered. The heat is uncovered and the heat is uncovered and the heat is evenly evenly distributed evenly evenly distributed evenly evenly distributed evenly distributed evenly distributed evenly. The heat is evenly distributed evenly evenly across the entire heat is not absorbed easily absorbed. The heat is a small amount of heat is not able to be used to heat the heat is a small amount of heat is not too large to prevent the heat is not too small\n",
      "########\n",
      "*******\n",
      "question: What container does peanut butter come in?\n",
      "answer: jar\n",
      "choices: ['cupboard', 'pantry', 'jar', 'bottle', 'supermarket']\n",
      "common expl list: ['Jars are often used to store food, and peanut butter is a food.', 'Peanut butter comes in glass jars, like many other food products.', 'Jars, like those that pickles often come in, are suitable for food items that need to be kept fresh for long time. Jars can be resealed.', 'Jars can keep food sealed without leaking, and often have lids. Peanut butter is sealed in a jar and could be kept in a house, kitchen, pantry, or cupboard.']\n"
     ]
    },
    {
     "name": "stderr",
     "output_type": "stream",
     "text": [
      "\r",
      " 10%|████████████████▏                                                                                                                                                | 99/986 [2:52:24<10:45:07, 43.64s/it]"
     ]
    },
    {
     "name": "stdout",
     "output_type": "stream",
     "text": [
      "generated explanation: <pad> <extra_id_0> The peanut butter comes in a variety of containers, including a jar or a jar. The peanut butter comes in a variety of sizes and shapes, including a jar or a jar. The peanut butter comes in a variety of containers, including a jar, a jar, a jar, a jar of milk, and a jar of ice water. The jar is usually a small plastic container that can hold up to a large amount of peanut butter. The jar is a small jar, which can hold the peanut butter container, which can be used to store the peanut butter. The jar is a great way to store peanut butter in a jar, which can be used to store the peanut butter, which can be used to store peanut butter. The jar is a great way to store peanut butter container, which can be used to store peanut butter, peanut butter, and peanut butter a variety of other ingredients. The jar is a great way to store the peanut butter in a jar, which can be used to store peanut</s>\n",
      "########\n",
      "*******\n",
      "question: Where are plants likely to be handled by a city employee?\n",
      "answer: park\n",
      "choices: ['park', 'windowsill', 'ground', 'office', 'garden']\n",
      "common expl list: ['Parks are where city employees are likely to handle plants.', 'A city employee might handle plants while working in a park.']\n"
     ]
    },
    {
     "name": "stderr",
     "output_type": "stream",
     "text": [
      "\r",
      " 10%|████████████████▏                                                                                                                                               | 100/986 [2:53:38<12:58:23, 52.71s/it]"
     ]
    },
    {
     "name": "stdout",
     "output_type": "stream",
     "text": [
      "generated explanation: <pad> <extra_id_0> A park is a place where plants are likely to be handled by a city employee. Parks are often designated for the city to handle and maintain a variety of plants and animals. Parks are also often designated for the maintenance of a park’s facilities. Parks are also often designated for the maintenance of a park’s infrastructure. Parks are also often designated for the use of public spaces, such as parks, parks, and other public spaces. Parks are also often designated for the use of public spaces. Parks are also often designated for their natural environment, such as parks, and nature. Parks are also designated for the use of plants, and are often designated for the care of the environment, and are also designated for the use of the environment, such as the use of the public and the environment. Parks are also designated for the use of the public restrooms, playgrounds, and other public restrooms. Parks are also designated for the use of the environment, such as a place to store and use of the natural environment. Parks are also designated for the use of the environment, such as parks, and for the use of the plants, as they are more public. This is especially important for the protection of plants, as they are more likely to be handled by a picnic area. This is because they are more likely to be used by city employees to be more likely to be handled by the city. They are also more likely to be handled by city employees to maintain the safety of plants and the safety of the environment. This is because the city has a place for the safety of the environment, as well as the environment, and are also more likely to be used by city employees to protect the environment. This is because they are more likely to be able to maintain the environment. This is a place where plants are likely to be handled by a park. This is because they are likely to be used by employees to be handled by employees to be able to maintain the safety of the environment. This is because the environment is a place that the environment that they are used to handle plants. This is because the park is a place for the plants to be handled by the plants to be handled by the plants to be handled by the employees to maintain the environment. Parks are a place where plants are handled by the plants are handled by the employees are being handled by the plants are handled by the park. This is because\n",
      "########\n",
      "*******\n",
      "question: Trains tend to come on time, airplanes on the other hand tend to what?\n",
      "answer: arrive late\n",
      "choices: ['stall', 'take off', 'arrive late', 'catch on fire', 'carry freight']\n",
      "common expl list: ['Planes are carreid by more complicated mechanisms than trains, and therefore tend to be harder to operate exactly on time.', \"Planes aren't typically known for arriving on time (air traffic, weather, repairs, et. al.), whereas trains tend to be more reliable.\"]\n"
     ]
    },
    {
     "name": "stderr",
     "output_type": "stream",
     "text": [
      "\r",
      " 10%|████████████████▍                                                                                                                                               | 101/986 [2:54:48<14:12:04, 57.77s/it]"
     ]
    },
    {
     "name": "stdout",
     "output_type": "stream",
     "text": [
      "generated explanation: <pad> <extra_id_0> Trains tend to arrive on time, while airplanes tend to arrive late. Trains tend to arrive on time, while airplanes tend to arrive late. Trains tend to arrive on time, and airplanes tend to arrive late. Trains tend to arrive on time, while airplanes tend to arrive late. They tend to arrive late. They tend to arrive on time, while airplanes tend to arrive late. They arrive late to train stations, which is a time to travel by train or plane. It is important to note that trains tend to arrive on time. They tend to arrive on time, while airplanes tend to arrive late. They arrive late because trains tend to arrive late. They tend to arrive on time, while trains tend to arrive late. They arrive late. Trains tend to arrive on time. They tend to arrive late. They tend to be more likely to arrive on time. They are more likely to arrive on time, but they arrive on time. They are also more likely to arrive late. They arrive on time. They arrive on time. They arrive on time and arrive on time. They arrive late. They also tend to arrive on time. They also tend to arrive on time on airplanes, airplanes, and they tend to arrive on time, and they arrive on time. They arrive on time. They tend to arrive on time. They arrive on time. They also arrive on time. They arrive on time. They arrive on time. They arrive on time. They arrive on time. They arrive on time to avoid delays. They arrive late, but they are more expensive than airplanes, which means they can be more expensive to operate on time. They also have a longer waiting times, which means they can also be a longer flight. They can be more expensive to fly. They can be more likely to arrive on time. They can also be cheaper to travel on the other hand, so they are more likely to be more economical to travel. They are also cheaper to travel on the train, which is why they are more economical to travel on the airplane. They also have a longer flight. They are more expensive to travel by fewer passengers on the train, and they can travel on the ground. They can also be more expensive to fly. They can be more expensive to travel by air, but they can also be more expensive to board. They can be a longer flights. They can be cheaper to board. They can be cheaper to board the\n",
      "########\n",
      "*******\n",
      "question: Where is glue well used?\n",
      "answer: art room\n",
      "choices: ['desk drawer', 'cabinet', 'art room', 'school', 'closed container']\n",
      "common expl list: ['Glue is used in art projects, and art rooms are where art projects are done.']\n"
     ]
    },
    {
     "name": "stderr",
     "output_type": "stream",
     "text": [
      "\r",
      " 10%|████████████████▌                                                                                                                                               | 102/986 [2:55:45<14:08:17, 57.58s/it]"
     ]
    },
    {
     "name": "stdout",
     "output_type": "stream",
     "text": [
      "generated explanation: <pad> <extra_id_0> Using glue in a painting room, a paintbrush is a great way to add color and texture to a painting. A paintbrush is a versatile tool for creating a more even look and feel. A glue can be used to create a variety of styles and materials, including a variety of paints, a variety of colors, and a variety of materials. A glue can also be used to create a more permanent look to a painting. A paintbrush is a small piece of art that is used to create a space. A glue brush is used to create a more attractive way to add color and texture to a room. A glue brush is a great way to add color to a room, which can be used to create a space that allows the paint to be used to create a more consistent look and feel to the room. A glue can also be used to create a more consistent look and feel of the space. A paint brush is used to create a more cohesive look, and is a more cohesive look. A paintbrush is a great way to add a more cohesive look to a space. A glue brush is a space for a more effective way to create a more effective way to create a more consistent and more effective form. A good fit for a room. A good deal of a room, a more aesthetically pleasing way to add value to a room, and a room, and a more cohesive look. A good looking, and aesthetically pleasing look. A good glue stroke is also a better look to a more professional look. A great way to add a more decorative touch to the space, allowing the room, and it allows the room to create a more cohesive look. The room, and it can also be used to create a more cohesive look to a room, and it can also be used to create a more aesthetically appealing design. The room is a great way to add a more natural look and feel to the room. The glue is used to create a more comfortable and durable finish. The room is a great way to create a space that allows for a space that is a space that is a great way to add value to the space, and it can be used to create a more comfortable and durable surface. The room is a great way to add\n",
      "########\n",
      "*******\n",
      "question: Billy loves science, history, and art but isn't very creative.  When he was visiting the museum, he felt a great deal of what emotion?\n",
      "answer: enjoyment\n",
      "choices: ['inspiration', 'fulfillment', 'wonder', 'boredom', 'enjoyment']\n",
      "common expl list: ['At a museum, Billy uses history to find science, and science to find art; by combining different loves, going to the museum has been fulfilling. To achieve fulfilment, Billy felt an enjoyable feeling.', 'When Billy visited a museum which had a lot of fields of interest, Billy enjoyed himself while he learned from the experience at the same time.']\n"
     ]
    },
    {
     "name": "stderr",
     "output_type": "stream",
     "text": [
      "\r",
      " 10%|████████████████▋                                                                                                                                               | 103/986 [2:56:43<14:11:03, 57.83s/it]"
     ]
    },
    {
     "name": "stdout",
     "output_type": "stream",
     "text": [
      "generated explanation: <pad> <extra_id_0> Billy loves science, history, and art and isn't very creative. He loves science, history, and art but isn't very creative. When he was visiting the museum, he felt a great deal of emotion. During his visit, he felt a great deal of enjoyment. The museum is a place where he can learn about science, history, and art. The museum is a place where he can learn about the world around him and learn about the world around him. The museum is a place where he can also see the history and art museums. The museum is a great way to learn about the world. The museum is a great way for Billy to experience the joy of visiting and a great deal of enjoyment. The museum is also a great way to give Billy the opportunity to experience the world around him. The museum is a great way to experience the world. The museum is also a great way to learn about the world and the world. The museum is a great way to experience the world. The museum is a great way to experience the thrill of being able to explore the world and to experience the world. The museum is a great way to experience the history and art world and to learn about the history and culture of the world around the world. The museum is a museum is a great way to experience the world. The museum is a place to see the history and culture of the history and culture of the history of the history of the world and to see the history and history of the history of the culture of the history and history of the history of the history of the history and culture of the art and history of the history of the history of the history of the history of the history of the history of the art and culture. The museum is a museum and the history of the art of the history of the museum and the history of the history of the culture of the museum and the culture of the art and the art and the history of the art and the history of the art and the history of the art and the culture of the art and the history of the art and the culture. The museum is the oldest museum and the history of the museum and the history of the museum and the history of the museum and the history of the art and the history of the art and the art of the museum. The museum is located in the museum is a place of art. The museum is\n",
      "########\n",
      "*******\n",
      "question: Sarah did much hard work, even though she was on vacation.  Her mother told her off and said what?\n",
      "answer: do nothing\n",
      "choices: ['unemployment', 'say something', 'earn money', 'do nothing', 'relaxation']\n",
      "common expl list: ['If one is on vacation, one is supposed to \"do nothing\" as opposed to working - the \"something\" that is discouraged. Many physically hard jobs involve getting the hands dirty.']\n"
     ]
    },
    {
     "name": "stderr",
     "output_type": "stream",
     "text": [
      "\r",
      " 11%|████████████████▉                                                                                                                                               | 104/986 [2:57:50<14:48:46, 60.46s/it]"
     ]
    },
    {
     "name": "stdout",
     "output_type": "stream",
     "text": [
      "generated explanation: <pad> <extra_id_0> Sarah did much hard work, even though she was on vacation. She was told to do nothing. She did nothing at all. She was told by her mother that she was off work. She was on vacation and was on vacation. She was also on vacation. She was on vacation when her mother told her she was going to have to work again. She did nothing. She did nothing. She did nothing. She did nothing because her mother told her to do anything. She did nothing. She did nothing when she was on vacation. She was on vacation. She did nothing because she was on vacation. She was on vacation when she was on vacation from her job and was on vacation. She was on vacation for the day. She did nothing to help her mother told her daughter, who was also on vacation when she was on vacation. She was also on vacation. She was on vacation. She was on vacation when she was on vacation. She was on vacation for the holidays. She was also on vacation. She was on vacation. She was on vacation for two days. She was on vacation for work, which was a good job. She was also on vacation. She was also on vacation. She was also on vacation when her mother told her daughter, Sarah, who was on vacation. She was on vacation. She was on vacation. She was on vacation when she was on vacation. She was on vacation. She was on vacation for three days in her vacation. She was on vacation. She was on vacation. She was on vacation with her mother, who told her mother, she was on vacation. She was on vacation. She was on vacation. She was on vacation. She was on vacation. She worked hard and she was on vacation. She was on vacation. She was on vacation. She was on vacation. She was on vacation. She was on vacation when she was on vacation. She was on vacation. She worked hard. She was on vacation. She was on vacation. She was on vacation. She was on vacation. She was on vacation. She was on vacation. She was on vacation. She was on vacation. She was on vacation. She was on vacation. She was on vacation. She was on vacation. She was on vacation. She was on vacation. She was on vacation. She worked hard and she was on vacation. She was on vacation. She was on vacation with Sarah. She was on vacation. She was on vacation. She was on vacation. She was on vacation.\n",
      "########\n",
      "*******\n",
      "question: James walked barefoot on a something that was made hot by sunshine. What is he probably walking on?\n",
      "answer: street\n",
      "choices: ['desktop', 'summer', 'moon', 'meadow', 'street']\n",
      "common expl list: ['Because of the intense heat of summer, sunlight reflects off the pavement, causing a hot sensation when one walks barefoot in the summer.']\n"
     ]
    },
    {
     "name": "stderr",
     "output_type": "stream",
     "text": [
      "\r",
      " 11%|█████████████████                                                                                                                                               | 105/986 [2:58:54<15:03:06, 61.51s/it]"
     ]
    },
    {
     "name": "stdout",
     "output_type": "stream",
     "text": [
      "generated explanation: <pad> <extra_id_0> A street is a place that is made hot by sunshine. It is a place that is made hot by sunshine. It is a place that is made hot by sunshine and is made of concrete, brick, and concrete. It is a place that is made up of concrete, brick, and concrete. It is a place where people can walk on the streets and enjoy the view. It is a place that is made hot by sunshine. It is a place that is made hot by sunshine. It is a place that is made hot by sunshine. It is a place that is made hot by the sun. It is a place where people can walk on a street. It is also a place that is made hot by the sun. It is also a place for people to walk on barefoot. It is also a place where people can walk on a street. It is a place that is a place that is hot by the sun is a place that is a place that is hot by the sunshine. It is also a place that is made hot by the sun. It is also a place that is a place that is a place that is made hot by the sun. It is also a place that is hot by the sun. It is a place that is hot by the sun. It is also a place that is a place that is made hot by the sun. This is the place that is made hot by the sun. It is also a place that is made hot by the sun. It is also a place that is often the sun to shine, which is a place that is a place that is hot by the sun. The sun is also a place that is a place that is made hot by the sun. This is also a place that is also a place that is a place that is a hot spot of the sun, which is a place that is a place that is a place that is a place that is a place that is a place that is a place that is a place that is a place that is hot. This is because it is a hot and humid and a hot and humid, and it is hot and a hot and humid, and it is hot and swelter and a place that is a hot and swelter and swelt\n",
      "########\n",
      "*******\n",
      "question: He grew tired of standing in the kitchen his whole shift, where was he?\n",
      "answer: restaurant\n",
      "choices: [\"neighbor's house\", \"friend's house\", 'restaurant', 'jail', 'fraternity house']\n",
      "common expl list: ['A restaurant would have a kitchen, where you would be required to stand while your shift is in session.', 'One can get tired standing in a kitchen if one is on their feet all day; kitchens are typically in restaurants.']\n"
     ]
    },
    {
     "name": "stderr",
     "output_type": "stream",
     "text": [
      "\r",
      " 11%|█████████████████▏                                                                                                                                              | 106/986 [2:59:50<14:38:48, 59.92s/it]"
     ]
    },
    {
     "name": "stdout",
     "output_type": "stream",
     "text": [
      "generated explanation: <pad> <extra_id_0> He grew tired of standing in the kitchen his whole shift. He was able to work from home and work from home. He was able to work from home and work from home. He grew tired of standing in the kitchen his whole shift. He grew tired of standing in the kitchen his whole shift. He grew tired of standing in the kitchen his whole shift. He grew tired of standing in the kitchen his whole shift. He grew tired of standing in the kitchen his whole shift. He grew tired of standing in the kitchen for a long time, and grew tired of standing in the kitchen for a long time. He grew tired of standing in the kitchen for a variety of different colors and textures. He grew tired of standing in the kitchen for a long time. He grew tired of standing in the kitchen for a long time. Restaurants are often located in the kitchen, so it is important to know where to find a restaurant and how to prepare food and beverages. This is because the restaurant is a place that is a place that is able to provide a variety of food and beverages. Restaurants are often staffed by staff members who are often staffed by staff. Restaurants are located in the middle of a large number of kitchens are located in the middle of the kitchen. Restaurants are also popular among the area. Restaurants are also located in the middle of the city, so it is important to have a variety of different cuisines, and they are located in the middle of the city. This is because they are a place to work, and because they are also a place to work, and they are located in a variety of restaurants, and they are located in the area, and they are located in the middle of the city, so it is located in the middle of the city, so it is important to have a place to serve food and drink. He is also known for their cuisines, and they are located in the area. This way, because they are staffed with staff, which means that they are located in a place where he can be easily accessible and accessible. This is because they are located in the area. This allows for a variety of locations that allows them to be easily accessible and convenient for employees to work in the restaurant. This allows him to work in the restaurant is a place to work in the restaurant. Restaurants are often\n",
      "########\n",
      "*******\n",
      "question: The children play cards often, but they make their own rules because they can't what the originals?\n",
      "answer: remember\n",
      "choices: ['bid', 'concentrate', 'winning', 'count', 'remember']\n",
      "common expl list: ['Children often play games that are similar to those played by adults, such as card games, but with slight variations to how they are played. This is most likely because children cannot remember the original rules of the card games. Smiling is a common expression', \"The children are making up their own rules because they can't remember the original rules.\"]\n"
     ]
    },
    {
     "name": "stderr",
     "output_type": "stream",
     "text": [
      "\r",
      " 11%|█████████████████▎                                                                                                                                              | 107/986 [3:01:06<15:49:02, 64.78s/it]"
     ]
    },
    {
     "name": "stdout",
     "output_type": "stream",
     "text": [
      "generated explanation: <pad> <extra_id_0> The children play cards often, but they make their own rules because they can't remember the originals. They make their own rules because they can't remember the originals. They make their own rules because they can't remember the originals. They make their own rules because they can't remember the originals. They make their own rules because they can't remember the originals. They make their own rules because they can't remember the originals. They also make their own rules because they can't remember the originals, so they can't remember the originals of the originals aren't always be remembered. They also make their own rules because they can't remember the originals. They can't remember the originals. They can't remember the originals. They can't remember the originals because they are not as if they were a card game is a game that they can't remember the originals. They can't be used to make their own rules. They can't remember the originals are not always used to make them. They can't remember the originals because they can't be used to make their own rules. They can't remember the originals because they can't remember the originals are not a good example of the originals are a great way to make them. They can't remember the originals are a good way to remember the originals are a good way to make their own rules. They can't be used to make their own rules. They can't remember the originals. They can't be used to make their own rules. They can't be used to make their own. They can't remember the originals. They can't be used to make their own rules. They can be used to make their own rules. They can't be used to be used to make their own. They can't be used to make them. They can't be used to make their own rules. They can't be used to make their own rules. They can't be used to make their own rules. They can't be used to be used to make their own rules. They can't be used to make their own rules. They can't be used to make their own rules. They can be used to make their own. They can't be used to make their own\n",
      "########\n",
      "*******\n",
      "question: On an average day, going to work could make you feel like what?\n",
      "answer: feeling good\n",
      "choices: ['feeling good', 'anger', 'revelation', 'being fired', 'tardiness']\n",
      "common expl list: ['People sometimes feel pride and accomplishment when they get things done at the office.', 'To fulfill a life purpose and to gain fulfillment, people often undertake gainful employment. Thus, the people who experience this data point might experience feelings of accomplishment/fulfillment.']\n"
     ]
    },
    {
     "name": "stderr",
     "output_type": "stream",
     "text": [
      "\r",
      " 11%|█████████████████▌                                                                                                                                              | 108/986 [3:01:59<14:54:32, 61.13s/it]"
     ]
    },
    {
     "name": "stdout",
     "output_type": "stream",
     "text": [
      "generated explanation: <pad> <extra_id_0> Going to work could make you feel good. It could also make you feel good about yourself. It could also make you feel good about yourself. It could also make you feel good about yourself. It could also make you feel good about yourself. It could also make you feel good about yourself. It could also make you feel good about yourself. It could also make you feel good about yourself. It could also make you feel like you are doing something to help others. It could also make you feel good about yourself. It could also make you feel good about yourself. It could also make you feel like you are working hard to be productive and productive. It could also make you feel good about yourself, and it could also make you feel like you are doing your work. It could also make you feel good about yourself. It could also make you feel good about yourself. It could also make you feel good about yourself and your work. It could be a good job. It could also make you feel good about yourself. This could make you feel good about yourself, and it could also help to be a part of a good person. Having a positive sense of being productive, and it could help to have a positive, like you are working. It could help to have a positive influence on your health. It could also help to keep you more likely to feel good about yourself. It could also help you feel good about yourself. It could help you feel good about your work environment. It could help you focus your energy and focus on your work more likely to be able to focus on your work more productive. It could also help you feel good about your work. It could help you to focus your energy and focus on your work more effectively and give you the confidence and motivate you to focus on your work. It could help you to focus on your goals. It could help you focus on your work and make sure that you can make a positive impact on your job. It could also help you focus on your goals and tasks. It could help you to be a positive impact on your life. It could help you focus on achieving your goals. It could help you to be more productive and help you to be productive and productive. It could also help you to be more productive. It could help you work more productive and productive. It could also help you focus on your career and your work better. It could help you feel better about yourself and your career. It could also help you feel\n",
      "########\n",
      "*******\n",
      "question: What country has the carpathians and is the furthest in the direction of the side that won the U.S. Civil War?\n",
      "answer: poland\n",
      "choices: ['slovakia', 'slovenia', 'poland', 'ukraine', 'romania']\n",
      "common expl list: ['Poland is the only country that has the carpathian mountains, and it was the most distant in the direction from the side that won the U.S. Civil War (the North).']\n"
     ]
    },
    {
     "name": "stderr",
     "output_type": "stream",
     "text": [
      "\r",
      " 11%|█████████████████▋                                                                                                                                              | 109/986 [3:02:53<14:23:26, 59.07s/it]"
     ]
    },
    {
     "name": "stdout",
     "output_type": "stream",
     "text": [
      "generated explanation: <pad> <extra_id_0> Poland is the country that has the most carpathians and is the furthest in the direction of the side that won the U.. poland is the only country that has the carpathians and is the country that has the most carpathians and is the country that has the most carpathians and is the country that has the most carpathians and is the closest to the side that won the U. the carpathians are from the south and the south of the country that is the most likely to be the closest to the south. poland is the closest to the U. poland that won the U. poland is the closest to the south in the direction of the south in the direction of the south in the direction of the south in the direction of the South. The carpathians are from the south. The carpatriots are from the south, the northernmost hemisphere. The southernmost is from the southernmost end of the southernmost. The carpatries are from the southernmost point in the direction of the carpatians are from the southernmost point in the direction of the carpatians, the southernmost point in the direction of the carpatians. the carpatians. The carpatians are the southernmost point in the direction of the carpatians are from the southernmost point in the direction of the carpatians are from the southernmost point in the direction of the carpatians. the carpatians are the carpatians are the carpatians are the carpatians are the carpatians are the carpatians are the carpatians are the carpatians are the carpatians are the carpatians are the carpatians are the carpatians are the carpatians are the carpatians are the carpatians are the carpatians are the carpatians are the carpatians are the carpatians are the carpatians are the carpatians are the carpathians are the carpat</s>\n",
      "########\n",
      "*******\n",
      "question: What would happen if you want to win a game?\n",
      "answer: competitiveness\n",
      "choices: ['competitiveness', 'satisfaction', 'learning', 'injuries', 'play']\n",
      "common expl list: ['If you want to win a game, you will try put your best effort to take your chances at winning over those of your opponents.', 'Competitive athletes would want to win their games, whatever the cost; this desire to win leads to competitiveness and creates the desire to win over even long periods of time; it also often leads to brutal physical play --- such as by causing injuries to opposing r', 'To win a game, you must be competitive.', 'After playing a game, a person would be likely compelled to win the game becasue they want a feeling of satisfaction from winning the game. In order to win, a person would need to be competitive.', \"Victory in a game requires one to make a maximum effort, and peoples' desire to win has to be rather competitive.\"]\n"
     ]
    },
    {
     "name": "stderr",
     "output_type": "stream",
     "text": [
      "\r",
      " 11%|█████████████████▊                                                                                                                                              | 110/986 [3:04:08<15:32:41, 63.88s/it]"
     ]
    },
    {
     "name": "stdout",
     "output_type": "stream",
     "text": [
      "generated explanation: <pad> <extra_id_0> Competitiveness is a powerful tool for people who want to win a game. It is a powerful tool for people who want to win a game, and it is a great tool for people who want to win a game. It is a powerful tool for people to use to win a game. It is a powerful tool for people to use to win a game. It is also a tool for people who want to win a game, and it is a tool for people who want to win a game, and it is a game that is a competitive tool for people who want to win a game. It is a game, and it is a competitive tool for people who want to win a game. It is also a great tool for people to use to win a game. It is also a great way to make a difference in the world of the game, and it is a great way to make a difference in the way of doing things that makes a difference in the way of doing things that are a game. It is also a great way to make a game. It is a great way to make a difference in the way of doing things that can help to win a game. It also helps to ensure that it is a great way to make a difference in the game. It also helps to ensure that they are able to compete for themselves. It also helps to ensure that they can win a game. It also helps to ensure that they are able to win a game. It also helps to win a game. It also helps to ensure that they are more competitiveness is important for them to be competitive. It is important to be competitive. It is important to understand that it is important to have a competitive advantage. It is important to have a competitive advantage to win a competitive edge. It is important to have a competitive edge in a competitive advantage to be able to compete in a competitive advantage to the game. It is important to have the ability to win a game. It is important to have a competitive advantage to have a competitive advantage to win a competitive advantage to have a competitive advantage to have a competitive advantage to have a competitive advantage to win a competitive advantage to have a competitive advantage to have a competitive advantage to have a competitive advantage to have a\n",
      "########\n",
      "*******\n",
      "question: Where should watch to avoid being pinched by a crab?\n",
      "answer: sandy beach\n",
      "choices: ['eastern coast', 'sandy beach', 'fish market', 'north carolina', 'sand dunes']\n",
      "common expl list: ['Crabs live in sandy areas, and people who visit sandy beaches are likely to be pinched by crabs.', 'It is more common to find crabs living in sandy beach areas.']\n"
     ]
    },
    {
     "name": "stderr",
     "output_type": "stream",
     "text": [
      "\r",
      " 11%|██████████████████                                                                                                                                              | 111/986 [3:04:19<11:41:41, 48.12s/it]"
     ]
    },
    {
     "name": "stdout",
     "output_type": "stream",
     "text": [
      "generated explanation: <pad> <extra_id_0> Watching is important to prevent being pinched by a crab. The crab is a very powerful force, and it is easy to spot if you are in a position to avoid it. The crab is also a powerful force that can cause injury to a person or something. The crab is a very dangerous force to be encountered on a beach, and it can be a very dangerous force to be encountered by a crab. The crab is a small, untamed creature that can be thrown into a sandy beach is also a great way to prevent the crab from a crab is also a great way to catch crabs and eat them. The crabs are also a great way to avoid being pinched by a pinched by a crab in the water. The crabs can be a great way to avoid being pinched by a crab. During the summer months, the crab can be a good way to get into a crab. A crab can be a good way to protect itself from the crab.</s>\n",
      "########\n",
      "*******\n",
      "question: What is a large group of human beings?\n",
      "answer: civilisation\n",
      "choices: ['an infestation', 'civilisation', 'homes', 'graveyard', 'spacecraft']\n",
      "common expl list: ['Civilisation is generally used to refer to large populations of humans living together in a single area, responding to collective needs.']\n"
     ]
    },
    {
     "name": "stderr",
     "output_type": "stream",
     "text": [
      "\r",
      " 11%|██████████████████▎                                                                                                                                              | 112/986 [3:04:27<8:41:37, 35.81s/it]"
     ]
    },
    {
     "name": "stdout",
     "output_type": "stream",
     "text": [
      "generated explanation: <pad> <extra_id_0> A large group of human beings are a large number of individuals who are primarily composed of humans and are largely composed of animals and plants. This group of human beings is a group of individuals that are largely composed of humans and plants. They are a large group of people who live in a society that is dominated by humans and plants. They are a group of people who are largely composed of humans, such as humans, animals, and plants. They are also called a civilisation, or a large group of people who are primarily composed of humans. They are also called civilisation because they are a large number of humans. They are also called civilisation is a large group of people who live in a large number of people. They are also called civilisation, and they are also called a civilisation is a large group of people that are a large number of people.</s>\n",
      "########\n",
      "*******\n",
      "question: What  is likely to happen to ice in the sun?\n",
      "answer: become water\n",
      "choices: ['cool water', 'cool drink', 'cool off', 'nothing', 'become water']\n",
      "common expl list: ['When ice is exposed to the sun, it melts, becoming water.', 'because hot melts cold, ice will melt if kept in the sun.']\n"
     ]
    },
    {
     "name": "stderr",
     "output_type": "stream",
     "text": [
      "\r",
      " 11%|██████████████████▍                                                                                                                                              | 113/986 [3:04:57<8:16:11, 34.10s/it]"
     ]
    },
    {
     "name": "stdout",
     "output_type": "stream",
     "text": [
      "generated explanation: <pad> <extra_id_0> Ice is likely to become water in the sun, which is a water-based substance that is absorbed by the body. This is because it is a water-based substance that is absorbed by the body and is a water-based substance that is a water-based substance. This is because it is a water-based substance that is a water-based substance that is absorbed by the body. This is because it is a water-soluble substance that is a water-based substance. It is also a water-based substance that is a water-based substance that is a water-based substance, and is a water-based substance that is a water-based substance. This is a water-based substance that is a water-based substance that is a water-based substance that is a water-based product. This is because it is a water-based product that is a water-based substance that is a water-based substance that is a water-based substance that is a water-based substance that is a water-based substance that is a water-based substance that is a water-based substance that is a water-based substance that is a water-based substance that is a water-based product that is a water-based substance that is a water-based substance that is a water-</s>\n",
      "########\n",
      "*******\n",
      "question: Where can travellers pull off the road to stretch their legs?\n",
      "answer: rest area\n",
      "choices: ['rest area', 'airport', 'train station', 'come home', 'bus depot']\n",
      "common expl list: ['Rest areas are places where people can pull off the road to stretch their legs, and they are often located near gas stations, which are frequented by travellers.', 'Rest areas generally allow travelers to spend time away from the roads, which are generally connecting points to large cities and particular highway names.', 'Rest areas are publicly provided spaces for drivers to get out of their cars for a break. Train stations, bus depots, come home, and airports are all places where one might catch a bus, train, taxi, or plane, or have arrived']\n"
     ]
    },
    {
     "name": "stderr",
     "output_type": "stream",
     "text": [
      "\r",
      " 12%|██████████████████▌                                                                                                                                              | 114/986 [3:05:00<6:00:11, 24.78s/it]"
     ]
    },
    {
     "name": "stdout",
     "output_type": "stream",
     "text": [
      "generated explanation: <pad> <extra_id_0> A rest area is a place where travellers can relax and stretch their legs. It is a place that is accessible by bicycle, car, or bicycle. It is a place where people can relax and stretch their legs. It is a place that is accessible by walking, cycling, or cycling. It is a place where people can stretch their legs and stretch their legs. It is a place that is accessible by car, bike, or footpath. It is a place that is accessible by car, bicycle, or foot. It is a place that allows travellers to take a break from the traffic on a comfortable and accessible place to stretch their legs and stretch their legs and get a place to rest and exercise. It is also a place that allows travellers to stretch their legs and get a rest area.</s>\n",
      "########\n",
      "*******\n",
      "question: A poor family has no decorations in December, what would make a great gift?\n",
      "answer: christmas tree\n",
      "choices: ['food', 'specialty store', 'christmas tree', 'department store', 'christmas stocking']\n",
      "common expl list: ['A christmas tree is a traditional decoration for christmas.', 'The family is poor, so we might assume that they have nothing for decoration for their Christmas season. To help fix this, a Christmas tree would be the greatest gift.', 'In December, most families tend to put up christmas decorations. A christmas tree would make a good gift for a poor family.']\n"
     ]
    },
    {
     "name": "stderr",
     "output_type": "stream",
     "text": [
      "\r",
      " 12%|██████████████████▊                                                                                                                                              | 115/986 [3:05:16<5:23:26, 22.28s/it]"
     ]
    },
    {
     "name": "stdout",
     "output_type": "stream",
     "text": [
      "generated explanation: <pad> <extra_id_0> A christmas tree is a great gift for a poor family because it is a great way to give a gift to a poor family. In December, a family with no decorations can get a Christmas tree for Christmas. In December, a Christmas tree can be a great way to give a family a holiday gift. A Christmas tree is a great way to give a family a Christmas tree. A christmas tree is a great way to give a loved one a Christmas gift. It can be used to give away a gift to someone in need. In December, a family can also use a gift for a poor family to give as a gift for a poor family to show appreciation to someone who is struggling with financial difficulties. In December, a poor family can also use a christmas tree to give a gift to someone in need. In December, a poor family can use a gift of a gift to a friend or family member, a gift of a gift to give a gift to a poor family a Christmas tree to help them out. A christmas tree is a great way to give a family</s>\n",
      "########\n",
      "*******\n",
      "question: Where would you buy jeans in a place with a large number of indoor merchants?\n",
      "answer: shopping mall\n",
      "choices: ['shopping mall', 'laundromat', 'hospital', 'clothing store', 'thrift store']\n",
      "common expl list: ['Shopping malls often have a large number of stores, including clothing stores.', 'Since malls (or indoor shopping centers in general) contain numerous merchants, including clothing stores, you could purchase jeans in one such store.', 'Shopping malls usually contain a large variety of stores, including stores that sell clothes and jeans.']\n"
     ]
    },
    {
     "name": "stderr",
     "output_type": "stream",
     "text": [
      "\r",
      " 12%|██████████████████▉                                                                                                                                              | 116/986 [3:06:17<8:12:16, 33.95s/it]"
     ]
    },
    {
     "name": "stdout",
     "output_type": "stream",
     "text": [
      "generated explanation: <pad> <extra_id_0> A shopping mall is a place with a large number of indoor merchants. They are often surrounded by a large number of indoor merchants, such as clothing retailers, shoe stores, and other retailers. They are also often located in areas where people can shop for jeans in a variety of styles and colors. They are also often located in areas with a large number of indoor merchants. They are also known for their high quality, high-quality products. They are also often surrounded by a large number of outdoor merchants, such as clothing stores, clothing stores, and other items like jeans. They are also often surrounded by stores. They are also often located in areas with a large number of stores with a large number of merchants. They are also known for their high-end fashion designers, such as designer clothes, a place to buy jeans in a shopping malls, and have a large selection of clothing, such as a shopping malls, and other items that are located in the malls. They are often also known for their uniqueness and affordability. They are also often located in shopping malls, such as shopping malls, such as shopping malls, and are also known for their uniqueness. They are also known for their unique designs, and are often located in the same shopping malls, such as malls, such as shopping malls, and are often located in the same shopping malls, such as shopping malls, and are often located in the center of the malls. The malls are often located in the center of the malls are often located in the center of the malls. They are often also known for their uniqueness and have a number of stores that are often open to shoppers and shoppers. The malls are often located in the center of the shopping malls. They are often decorated with a number of indoor merchants that are often open to shoppers who are often decorated with a large number of merchants that are often decorated with a large number of indoor merchants that offer a variety of clothing that are often located in the center that are often decorated with a variety of stores that are located in the center of the shopping malls. They are also often decorated with a variety of different colors and designs that are decorated with a variety of styles and styles. They are often decorated with a large number of indoor merchants. They are often decorated with a\n",
      "########\n",
      "*******\n",
      "question: If I wanted to get some oxygen, what will I get it from?\n",
      "answer: air\n",
      "choices: ['the sky', 'air', 'earth', 'space shuttle', 'water']\n",
      "common expl list: ['Oxygen is found in the air.']\n"
     ]
    },
    {
     "name": "stderr",
     "output_type": "stream",
     "text": [
      "\r",
      " 12%|███████████████████                                                                                                                                              | 117/986 [3:06:18<5:45:12, 23.84s/it]"
     ]
    },
    {
     "name": "stdout",
     "output_type": "stream",
     "text": [
      "generated explanation: <pad> <extra_id_0> If I wanted to get some oxygen, what will I get it from?</s>\n",
      "########\n",
      "*******\n",
      "question: What happens after having food too much?\n",
      "answer: getting fat\n",
      "choices: ['being full', 'laziness', 'weight gain', 'getting fat', 'will not starve']\n",
      "common expl list: ['People will become fat, and even obese from eating too much food.', 'Eating too much food causes one to gain weight, and thus become fat.', 'Eating too much food causes one to become obese.']\n"
     ]
    },
    {
     "name": "stderr",
     "output_type": "stream",
     "text": [
      "\r",
      " 12%|███████████████████▎                                                                                                                                             | 118/986 [3:07:23<8:44:53, 36.28s/it]"
     ]
    },
    {
     "name": "stdout",
     "output_type": "stream",
     "text": [
      "generated explanation: <pad> <extra_id_0> Fat is a natural way to lose weight. It is important to avoid excess fat and to avoid foods that are high in fat. Fat is a natural way to lose weight and to maintain a healthy weight. Fat is a natural way to lose weight and maintain muscle mass. Fat is a healthy way to maintain muscle and muscle mass while reducing body fat. Fat is a beneficial way to lose weight and maintain muscle. Fat is a powerful way to reduce inflammation and reduce inflammation. Fat is a natural way to lose weight and body fat. Fat is a natural way to keep you feeling hungry and gaining weight by eating healthy. It is also a powerful way to reduce the amount of calories you eat and the body. Fat is a natural way to lose weight by eating too much, which is a way to lose weight. It is also a healthy lifestyle. Fat is a natural way to gain muscle mass. It is also a natural way to lose weight. Fattening food is a natural way to lose weight. Fat loss is a natural way to gain muscle strength and muscle strength. It helps to keep body fat. It helps to keep your body fat. Fat is a natural way to lose weight. It helps to keep you energy levels and energy levels that you are eating more calories and maintain a healthy lifestyle. It also helps to keep you feel full and maintain your energy levels that are important to maintain your weight. It helps to keep you feeling fuller, healthier and more energy. It helps to maintain your weight and reduce stress and stress. It also helps to keep you feeling full and regaining energy and maintain muscle tissue. It also helps to keep you feeling full. It helps to maintain a healthy weight. It helps to maintain healthy weight and reduces stress and energy levels. It helps to maintain muscle. It helps to keep your body fat, and to keep your weight loss. It helps to maintain a healthy weight. It helps to maintain a healthy body weight. It helps to keep your body. It helps to keep you feeling fuller and healthier. It helps to keep you feeling full and healthy. It helps to maintain a healthy body. It helps to maintain a healthy weight. It helps to keep you feeling fuller, stronger, and healthier. It helps to maintain and maintain a healthy weight. It helps to maintain a healthy and fit your body. It helps to keep your body and\n",
      "########\n",
      "*******\n",
      "question: It was the first time they had met their new niece, it was good to have everybody together at the annual what?\n",
      "answer: family reunion\n",
      "choices: [\"brother's house\", 'family picture book', 'family tree', 'family reunion', 'book']\n",
      "common expl list: ['A family reunion is called a family reunion because this is where all of the family members gather for the re-union.']\n"
     ]
    },
    {
     "name": "stderr",
     "output_type": "stream",
     "text": [
      "\r",
      " 12%|███████████████████▍                                                                                                                                             | 119/986 [3:07:39<7:16:02, 30.18s/it]"
     ]
    },
    {
     "name": "stdout",
     "output_type": "stream",
     "text": [
      "generated explanation: <pad> <extra_id_0> It was a good way to have everyone together at a family reunion. It was also the first time they had met their new niece, it was the first time they had met her. It was also a great way to see their new niece and nephew together at the annual family reunion. It was also a great way to have everyone together at the reunion. It was also a great way to share memories and celebrate the life together. It was also a great way to bring family together and share a meal together. It was also a great way to share stories of theirs. It was also a great way to share stories of their new niece and nephew and their new family reunion. It was also a great way to bring people together and make memories and make memories. It was also a great way to bring them together and share stories and events that were special. It was a great way to bring people together and share stories and memories of their new niece and her new family reunion. It was a great way to share their stories and memories of their new niece and her newfound love of the newfound</s>\n",
      "########\n",
      "*******\n",
      "question: If you're expressing yourself in a public forum, what may you experience?\n",
      "answer: stage fright\n",
      "choices: ['danger', 'embarrassment', 'stage fright', 'getting arrested', 'blank stares']\n",
      "common expl list: ['If you are expressing yourself in a public forum, you may experience stage fright, which is the fear of being embarrassed in front of a large audience.', 'Stage fright is the feeling of embarrassment or nervousness at the thought of being in front of people, and being on stage for a performance is a good example of a place where one often experiences stage fright. In such a case, their performance might be', 'A common example of expressing oneself in public is on stage. Members of an audience may stare and become bored, and at worst they may hiss or boo.']\n"
     ]
    },
    {
     "name": "stderr",
     "output_type": "stream",
     "text": [
      "\r",
      " 12%|███████████████████▌                                                                                                                                             | 120/986 [3:07:50<5:54:41, 24.57s/it]"
     ]
    },
    {
     "name": "stdout",
     "output_type": "stream",
     "text": [
      "generated explanation: <pad> <extra_id_0> Stage fright is a common form of expression that can be experienced in public places. It can be caused by a variety of factors, including crowds, crowds, and the environment. It can be a form of fear, a fear of rejection, or a fear of being seen as a stranger. Stage fright is a type of fear that is usually experienced by people in a public space. This is because it is a form of fear that is often associated with a sense of being seen as a person, and can be a form of fear that is often a form of fear that is perceived as a fear of being seen as a person, and can be a fear of speaking in public. The fear of being seen as a sign of being seen as a sign of a person's feelings of fear of being seen as a sign of being seen as a sign of being seen as a sign of a person's feelings of being</s>\n",
      "########\n",
      "*******\n",
      "question: He was eating too much while no exercising enough, what did he suffer as a result?\n",
      "answer: gain weight\n",
      "choices: ['hungry', 'gas', 'obesity', 'gain weight', 'feeling full']\n",
      "common expl list: [\"If you eat too much and don't exercise enough, you will gain weight.\", 'Excessive food consumption leads to accumulation of fat, which then results in a higher body weight, i.e., weight gain.', 'If you eat more than you burn, you gain weight.']\n"
     ]
    },
    {
     "name": "stderr",
     "output_type": "stream",
     "text": [
      "\r",
      " 12%|███████████████████▊                                                                                                                                             | 121/986 [3:08:26<6:42:33, 27.92s/it]"
     ]
    },
    {
     "name": "stdout",
     "output_type": "stream",
     "text": [
      "generated explanation: <pad> <extra_id_0> He was eating too much while no exercising enough. Gain weight is a condition that affects the body’s ability to absorb energy and maintain a healthy weight. It is a condition that can affect the body’s ability to absorb energy and nutrients from the body. It is a condition that can be attributed to physical activity, such as running, swimming, or swimming. It can also be attributed to physical activity, such as exercise, which can help to reduce the body’s appetite and increase its energy levels. It can also be a result of physical activity, such as watching television and other activities. It can also be a sign of weight gain. It can also help to prevent injury and illness. It can also help to prevent weight gain. It can also help to prevent weight gain. It can help to prevent weight loss and help to prevent weight gain. It can also help to prevent weight gain. It can also help to prevent weight gain. It can help to prevent obesity. It can also help to prevent weight gain. It can also help to prevent weight gain. It can help to prevent weight gain. It can also help to reduce weight gain. It can help to prevent obesity and other health issues such as diabetes and heart disease. It can also help to prevent obesity and heart disease. It can help to prevent diabetes and other health problems such as obesity and other health problems such as obesity and heart disease. It can help to prevent obesity and other health issues such as diabetes and obesity. It can help to prevent diabetes and weight gain by preventing obesity. It can help to prevent weight gain by preventing weight gain by preventing weight gain by preventing weight gain by reducing the amount of exercise. It can also help to prevent obesity and other types of obesity. It can help to prevent obesity and other types of obesity is a risk of obesity and other types of exercise. In addition, exercise can help to prevent obesity and other health problems such as hypertension. It can also help to prevent weight gain by exercising too much. During exercise can help to prevent weight gain. It can also help to reduce hunger and obesity. It can help to reduce appetite and increase the ability to maintain a person’s ability to maintain a healthy lifestyle. Gain weight gain is due to lack of exercise. In addition to weight gain by reducing the risk of a healthy lifestyle. In addition to reducing exercise and reducing the amount of exercise can help to reduce the amount\n",
      "########\n",
      "*******\n",
      "question: Randy was not doing housework.   His wife was raising two children, and this only increased her workload. It put her under a lot of stress.  What might this lead to?\n",
      "answer: arguments\n",
      "choices: ['asthma', 'more', 'boredom', 'headache', 'arguments']\n",
      "common expl list: ['Stress is often related to family life. Being under stress, the wife might verbally lash out at her husband, which could potentially lead to arguments']\n"
     ]
    },
    {
     "name": "stderr",
     "output_type": "stream",
     "text": [
      "\r",
      " 12%|███████████████████▉                                                                                                                                             | 122/986 [3:08:29<4:53:03, 20.35s/it]"
     ]
    },
    {
     "name": "stdout",
     "output_type": "stream",
     "text": [
      "generated explanation: <pad> <extra_id_0> Randy was not doing housework. This increased her workload. It also increased her workload. It also increased her workload. Arguments The importance of arguments is that they are a good way to build trust with the client and the client. Arguments are a good way to build trust with the client and the client. Arguments The importance of arguments is that they are a good way to build trust with the client and the client. Arguments The importance of a good argument is that it is a good way to build trust with the client by providing them with the knowledge and skillsed client’s knowledge of the client’s knowledge and the ability to understand the client’s knowledge and skillsesesesese</s>\n",
      "########\n",
      "*******\n",
      "question: Where can you learn about a ferret with special abilities far beyond normal ferrets?\n",
      "answer: comic book\n",
      "choices: ['comic book', 'out of doors', 'great britain', 'redwall', 'north carolina']\n",
      "common expl list: ['ferrets are lovable pets that occasionally pop up in comic or animated shows and movies. Occasionally a ferret is rodent, but more often they are the companion of a hero.']\n"
     ]
    },
    {
     "name": "stderr",
     "output_type": "stream",
     "text": [
      "\r",
      " 12%|████████████████████                                                                                                                                             | 123/986 [3:08:54<5:15:15, 21.92s/it]"
     ]
    },
    {
     "name": "stdout",
     "output_type": "stream",
     "text": [
      "generated explanation: <pad> <extra_id_0> A comic book is a great way to learn about a ferret with special abilities and abilities, and can provide a great source of information for those interested in ferrets with special abilities. Comic books are also a great way to learn about a ferret with special abilities and special abilities. comic books are also a great way to learn about a ferret's special abilities and abilities. Comic books are also a great way to learn about a ferret with special abilities and abilities, and can provide you with a great way to learn about a ferret with special abilities. Comic books are also a great way to learn about a ferret with special abilities. Comic books can also be used to learn about a ferret with special abilities and abilities that are not normally used in the world of the world. Comic books can also be used to learn about a ferret with special abilities and abilities. Comic books can also be used to learn about a ferret with special abilities. Comic books can also be used to learn about a ferret with special abilities. Comic books can also be used to learn about a ferret with special abilities. Comic books can help you to learn about a ferret with special abilities. Comic books can also be used to help you can also be used to teach you about a ferrets with special abilities. Comic books can also be used to teach you about a ferrets with special abilities. Comic books can also be used to teach you about a ferrets with special abilities. Comic books can be used to learn about a ferret with special abilities. Comic books can help you understand the ferret with special abilities. Comic books can also be used to learn about ferrets with special abilities. Comic books can also be used to learn about ferrets with special abilities.</s>\n",
      "########\n",
      "*******\n",
      "question: When people have guests over, what do they often do for their guests?\n",
      "answer: cook food\n",
      "choices: ['talk to each other', 'learn from each other', 'demand justice', 'cook food', 'share food']\n",
      "common expl list: [\"When people have guests over, it's common for them to make food for their guests.\", \"It's common to cook food for guests, which can feed everyone.\", 'People often cook food for their guests.', \"People who have guests (guests of any kind) over tend to cook them food. The food can either be pre-cooked, and ready to be served upon the guest's arrival, or consumed while the two of them have a conversation.\", \"People often prepare and share food because it's a way to welcome and appreciate each other.\"]\n"
     ]
    },
    {
     "name": "stderr",
     "output_type": "stream",
     "text": [
      "\r",
      " 13%|████████████████████▏                                                                                                                                            | 124/986 [3:10:00<8:24:30, 35.12s/it]"
     ]
    },
    {
     "name": "stdout",
     "output_type": "stream",
     "text": [
      "generated explanation: <pad> <extra_id_0> Cooking is a common way for people to prepare food for guests. Cooking is a great way to prepare food for guests who are coming over to their home. When people invite guests over, they often prepare food for their guests. Cooking food is a great way to prepare food for your guests and to serve them up to their guests. Cooking food for guests can be a great way to prepare food for their guests. Cooking food can be a great way to serve your guests while they are away. Cooking food can be a person’s body to body interaction with the other person. Cooking food can be a great way to serve guests. Cooking food can be a great way to serve guests. When people have guests over, cook food can be a great way to share food with others. Cooking food can be a great way to share the meal together. Cooking can also be a way to share the food they have prepared for guests. Cooking food for guests to share with others. Cooking can also help guests. Cooking food for guests to prepare and serve food that guests can also include serving guests. Cooking can also include serving guests. Cooking food served to guests to serve guests. Cooking food can help guests cook food for guests. Cooking food can be a great way to prepare food for guests to serve food to guests. Cooking food can also be a great way to serve guests with guests. Cooking food can be a great way to serve guests a memorable experience for guests. When people have guests to make sure that their guests can make sure that guests can enjoy their meal. Cooking food can help them prepare food to serve guests. When people have guests over, they can also serve guests. When people are invited to relax and relax. When people can prepare food that is a memorable meal. When people have guests over to serve food to serve it to their guests. When people can prepare food that is very important to them a meal while they are guests. Cooking food and beverages. Cooking is a meal is a memorable experience. Cooking food and beverages are a great way to prepare food and drink for their guests to prepare it for them to<extra_id_1> </s>\n",
      "########\n",
      "*******\n",
      "question: Talking to someone is pointless if they're doing what?\n",
      "answer: not listening\n",
      "choices: ['dry mouth', 'whispering', 'being heard', 'eye contact', 'not listening']\n",
      "common expl list: ['People who are not listening to you will obviously not be able to understand your communication.', 'To be engaged in a conversation--particularly a one-on-one conversation, both people must be listening attentively.']\n"
     ]
    },
    {
     "name": "stderr",
     "output_type": "stream",
     "text": [
      "\r",
      " 13%|████████████████████▍                                                                                                                                            | 125/986 [3:10:10<6:35:10, 27.54s/it]"
     ]
    },
    {
     "name": "stdout",
     "output_type": "stream",
     "text": [
      "generated explanation: <pad> <extra_id_0> Not listening to someone is a sign of a lack of interest in their life. It is a sign of a lack of interest in their life. It is a sign that a person is not listening to their thoughts and feelings. It is a sign that they are not listening to their thoughts and feelings. It is a sign that they are not listening to their thoughts and feelings. It is a sign that they are listening to their thoughts and feelings. It is a sign that they are not listening to their thoughts or feelings. It is also a sign of an interest to listen to someone's thoughts and feelings. It is a sign that the person is listening to the person's thoughts and feelings, and that they are not listening to their thoughts and feelings are not listening to their feelings, which is a sign that they are listening is a sign that they are listening is a sign of a sign that the person is listening is a sign that they are not listening is a sign that they are not listening is a sign of a sign that the person is listening is</s>\n",
      "########\n",
      "*******\n",
      "question: If you are enjoying sunshine on the beach, what do you likely have views of?\n",
      "answer: sea\n",
      "choices: ['windowsill', 'sunbathers', 'disneyland', 'sea', 'summer']\n",
      "common expl list: ['To sunbathe, one would likely be found on a beach, where one would likely see the sea before anything else.', 'Seashores usually have views of the water (i.e., the \"sea\").', \"The beach is a place where people go to enjoy the sun, and so it's likely that the beach would have views of the sea.\"]\n"
     ]
    },
    {
     "name": "stderr",
     "output_type": "stream",
     "text": [
      "\r",
      " 13%|████████████████████▍                                                                                                                                           | 126/986 [3:11:29<10:16:21, 43.00s/it]"
     ]
    },
    {
     "name": "stdout",
     "output_type": "stream",
     "text": [
      "generated explanation: <pad> <extra_id_0> If you are enjoying sunshine on the beach, you likely have views of the sea. In addition to the beach, you may have views of the ocean. The ocean is the most beautiful place to visit, and the beach is the most popular destination for those who enjoy the sun. The ocean is also the most popular place to enjoy a relaxing day at the beach. The beach is the perfect place to enjoy a relaxing day at the beach. The beach is also a great place to enjoy a swim, a stroll, or a swim, and the sea, the sun is the most likely to be seen. The beach is also a great place to enjoy a relaxing swim, and the sun is also a great place to spend time in the sun. The beach is also a great place to relax and enjoy a relaxing day at the beach. The sun is a popular place to visit. The sun is a popular place to enjoy the sun and the sea. The sun is a popular place to visit. The sun is a great place to enjoy a relaxing destination for those who enjoy a relaxing day. The sea is a place to relax and enjoy the beach. The sun is also a perfect place to enjoy a relaxing and relaxing way to enjoy the sun and enjoy the beauty of the beach. The sun is also a great place to enjoy the view of the beach. The sea is also a great place to enjoy a relaxing escape from the heat and relaxation. The beach is also a great opportunity to enjoy the beach is a great place to enjoy a relaxing day out from the beach. The sun is the perfect place to enjoy the views of the sea, and the beach is a great way to enjoy the sun, and the sun. The sun and the sea. The beach is a great place to enjoy the beach. The beach is a great place to enjoy the view of the sea. The beach is ideal for those who are looking out your back to the beach. The beach is also a great place to enjoy the beach. The beach is also a great place to visit the beach. The beach and the sea is also a great place to enjoy the view of the sea and enjoy the view of the sea. The beach is a great place to visit the beach is also a great place to enjoy the view. The view is a great way to enjoy the view of the sea and the\n",
      "########\n",
      "*******\n",
      "question: What does an actor do while acting?\n",
      "answer: pretend\n",
      "choices: ['branch out', 'eat curry', 'wear costume', 'pretend', 'sing songs']\n",
      "common expl list: ['Actors pretend certain things. While acting, they might pretend to be in a different location by going somewhere close to a stage feed. Actors might also pretend to possess particular materials while on stage by carrying props.']\n"
     ]
    },
    {
     "name": "stderr",
     "output_type": "stream",
     "text": [
      "\r",
      " 13%|████████████████████▋                                                                                                                                            | 127/986 [3:11:40<7:55:23, 33.20s/it]"
     ]
    },
    {
     "name": "stdout",
     "output_type": "stream",
     "text": [
      "generated explanation: <pad> <extra_id_0> An actor is a person who is acting as a character in a movie or television series. They are acting as a character in a film, and they are acting as a character. They are also acting as a character in a film or television series. They are acting as actors, and they are often seen as actors, acting as characters, or acting as a character. They are also often seen as actors, as they are acting as characters. They are acting as a character, as they are acting as a pretend character, as they are acting as if they are acting as a real-life actor. This is because they are acting as a real-life character, such as actors, as actors, or other actors, and they are acting as a character, and acting as characters, as they are portrayed as characters. This is because they are acting as a part of the acting role, as they are acting as if they are acting as if they are acting as</s>\n",
      "########\n",
      "*******\n",
      "question: Where is a ring binder likely to contain budgets?\n",
      "answer: office\n",
      "choices: ['office', 'notebook', 'school', 'stationary shop', 'desk']\n",
      "common expl list: ['An office setting is the most likely place where a manager would keep a collection of budgets.', 'A ring binder is likely to contain budgets in an office, as budgets are often prepared by office workers.']\n"
     ]
    },
    {
     "name": "stderr",
     "output_type": "stream",
     "text": [
      "\r",
      " 13%|████████████████████▉                                                                                                                                            | 128/986 [3:11:42<5:42:24, 23.94s/it]"
     ]
    },
    {
     "name": "stdout",
     "output_type": "stream",
     "text": [
      "generated explanation: <pad> <extra_id_0> A ring binder is a convenient way to store budgets in a secure place. It is also a great way to store budgets in a way that is easy to access and maintain. It is also a great way to store important documents such as financial statements, budgets, and other documents. It is also a great way to store and store budgets in a secure place. Additionally, a ring binder is a great way to store a budget in a ring. A ring binder is also a great way to store budgets and other important information about a budget.</s>\n",
      "########\n",
      "*******\n",
      "question: Where do you go when you're about to board a vehicle on railing?\n",
      "answer: railway station\n",
      "choices: ['railway station', 'deck', 'flight of stairs', 'porch', 'bus station']\n",
      "common expl list: ['Railway stations are where you board trains, which are often on rails.', 'Trains and busses both commonly make use of rail transportation to facilitate their travel. Railway station is the station they are staking out to board at. Thus, railway station is where you would go if you need to board a vehicle on a']\n"
     ]
    },
    {
     "name": "stderr",
     "output_type": "stream",
     "text": [
      "\r",
      " 13%|█████████████████████                                                                                                                                            | 129/986 [3:12:19<6:38:12, 27.88s/it]"
     ]
    },
    {
     "name": "stdout",
     "output_type": "stream",
     "text": [
      "generated explanation: <pad> <extra_id_0> When you're about to board a vehicle on railing, you go to a railway station. The station is located at the end of a train track, which is a short distance to the train station. The train station is located at the end of a railway station. The train station is located at the end of a railway station. The train station is located at the end of a railway line. The rail station is located at the end of a railway station. It is a short walk from the train station. The train station is located at the end of a train, which is located at the end of a railway station. The train station is located at the end of the railway station is located at the end of the rail station. The train station is the main transportation system. The railing is a place where you can easily reach the station. The rail station is located at the end of the rail station. The railing is located at the end of the train station. The train station is located at the end of the railing is located at the end of the rail station. The railing is located at the end of the railing is located at the end of the road. The railing is located at the end of the railing is located at the end of the track. The railing is a railing is located at the end of the railway station, which is located at the end of the track. The railing is a small area, which is located at the end of the railway station. It is located at the end of the track, and it is the end of the track, and it is located at the end of the track. The railing is a platform of the vehicle, and it is located at the end of the railing and the vehicle is located at the end of the track. The railing is a very popular choice for passengers and passengers, and the passengers and the passengers are able to easily access the railing is also a popular option for passengers and passengers. The station is also a great place to park the vehicle and is a safe and secure place to park and secure. The station is located in a short walk from the station and is a great place to be safe and secure. The station is located at the end of the track and the railing is a great way to get to the station. The station is also a great way to get\n",
      "########\n",
      "*******\n",
      "question: Where can I go to see a really big toy balloon floating at the top of a dome?\n",
      "answer: circus\n",
      "choices: ['parade', 'circus', 'amusement park', 'birthday party', 'magic show']\n",
      "common expl list: ['Circuses often have big inflatables on the top dome of a tent; inside, they could house various attractions such as clowns, acts, games, rides, food, drinks, etc.']\n"
     ]
    },
    {
     "name": "stderr",
     "output_type": "stream",
     "text": [
      "\r",
      " 13%|█████████████████████▏                                                                                                                                           | 130/986 [3:13:15<8:39:01, 36.38s/it]"
     ]
    },
    {
     "name": "stdout",
     "output_type": "stream",
     "text": [
      "generated explanation: <pad> <extra_id_0> A big balloon is a balloon that is attached to a dome or dome and is attached to a dome or dome. A big balloon is a balloon that is attached to a dome or dome and is attached to a structure or structure. It is a balloon that is attached to a dome or structure and is inflated to the ground. It is a balloon that is attached to a dome or structure to provide support to the balloon. It is a balloon that is attached to a dome or structure. It is a balloon that is attached to a circus show. It is a circus show and can be used to show off its size, shape, and shape, and can be used to show off its shape to show its true size and shape. It can be used to show off a circus show. It can be used to show the circus circus circus. The balloon can be used to show the circus circus circus circus shows around the circus circus circus circus show to the circus circus show to the circus show to show the circus circus show to the circus show the circus circus show to the circus shows to show the circus shows the circus show. The circus shows are usually used to show the circus shows are usually used to show the circus shows are usually used to show the circus shows. The circus circus shows are usually used to show the circus shows to show the circus shows to show the circus shows to show the circus shows to show the circus shows to show the circus shows to show the circus shows to show the circus shows to show the circus shows to the audience. The circus shows are usually held in a circus show. The circus shows are usually held in circus shows, such as the circus shows, such as the circus shows, such as the circus shows, or the circus shows, such as the circus shows, such as the circus shows, such as the circus shows, and the circus shows, such as the circus shows,</s>\n",
      "########\n",
      "*******\n",
      "question: They got to the door and it was locked, he reached in his jeans what to retrieve the key?\n",
      "answer: pocket\n",
      "choices: ['pocket', 'bus depot', 'lock', 'purse', 'front door']\n",
      "common expl list: ['People often keep their keys in their pockets.', 'Most people keep house keys in their pocket.']\n"
     ]
    },
    {
     "name": "stderr",
     "output_type": "stream",
     "text": [
      "\r",
      " 13%|█████████████████████▎                                                                                                                                          | 131/986 [3:14:22<10:47:38, 45.45s/it]"
     ]
    },
    {
     "name": "stdout",
     "output_type": "stream",
     "text": [
      "generated explanation: <pad> <extra_id_0> He reached in his jeans and it was locked, he reached in his pocket and the door was locked. The key was locked in his pocket and he was able to access the door without a finger and a finger. The key was in his pocket and it was in his pocket. The key was locked in his pocket and he could see the door and see if the key was in his pocket. The key was in his pocket and he was able to unlock the door when he reached in his jeans. The key was in his pocket because it was a key was in his pocket to unlock the door and he could unlock the key was in his pocket. The key was in his pocket was able to see if the key was in his pocket, he could see the key was in his pocket to retrieve the key. The key was in his pocket to access the door and the key was locked. The key was in his pocket, he was able to unlock the door and unlock the door. The key was locked, he was able to unlock the door, and the key was able to unlock the key was able to unlock the key was able to unlock the key. The key was able to access the key from the pocket, he was able to access the key was able to access the key, and the key was able to access the door from the pocket and unlock the key was able to unlock the key was able to access the key. The key was able to unlock the door with his pocket, and the key was able to access the key was able to unlock the key and the key was key was able to unlock the key with the key was able to unlock the key. The key was able to access the key through the key through the key through the key through the key through the key was able to unlock the key through the key. The key was able to unlock the key was able to unlock the key by tapping the key was able to access the pocket and the key was able to unlock the key was able to unlock the key was able to unlock the key. The key was able to unlock the key was able to unlock the key through the pocket, allowing the key, allowing the key was able to be able to unlock the key, allowing the key can be found by a key, and\n",
      "########\n",
      "*******\n",
      "question: The car was overheating, where was it located?\n",
      "answer: in phoenix\n",
      "choices: ['airport', \"neighbor's house\", 'in phoenix', 'repair shop', 'street corner']\n",
      "common expl list: ['Phoenix is a hot place, and cars often overheat there.']\n"
     ]
    },
    {
     "name": "stderr",
     "output_type": "stream",
     "text": [
      "\r",
      " 13%|█████████████████████▌                                                                                                                                           | 132/986 [3:14:34<8:26:45, 35.60s/it]"
     ]
    },
    {
     "name": "stdout",
     "output_type": "stream",
     "text": [
      "generated explanation: <pad> <extra_id_0> The car was located in phoenix, a city that was overheating. The location of the car was located in a city called phoenix, which is located in the center of the city, which is located in the center of the city, which is home to the city's largest concentration of overheating. The car was located in a residential area called phoenix, which was located in the center of the city, which is home to the city's largest concentration of overheated traffic. This location of the car was located in the city's capital, phoenix, a city in the city, which is located in the center of the city, which is located in the center of the city, which is the city's historic center. This location, is located in the city's largest concentration of overheating areas, which is also known as the city, and is also known as the city's historic buildings and buildings, which are located in the city. The location of the city, which is the city, the phoenix, a hot summer and summer and fall.</s>\n",
      "########\n",
      "*******\n",
      "question: Where is likely to have a walk in type wardrobe?\n",
      "answer: mansion\n",
      "choices: ['recreational vehicle', 'clothes cupboard', 'house', 'mansion', 'bedroom']\n",
      "common expl list: ['A walk in wardrobe is a large type of closet that could be found in a mansion.', 'As I think of scenarios, the result I expect the most is that of a person with a lot of clothes, or a clothing designer, living in a mansion; these people might have the luxury of a walk in wardrobe.', 'A walk-in wardrobe is a large wardrobe that is usually found in a mansion.']\n"
     ]
    },
    {
     "name": "stderr",
     "output_type": "stream",
     "text": [
      "\r",
      " 13%|█████████████████████▋                                                                                                                                           | 133/986 [3:15:25<9:31:19, 40.19s/it]"
     ]
    },
    {
     "name": "stdout",
     "output_type": "stream",
     "text": [
      "generated explanation: <pad> <extra_id_0> A walk in wardrobe is a wardrobe that is typically found in a mansion or home. It is typically found in a mansion and is typically a type of wardrobe that is often a walk in type wardrobe. It is typically located in a mansion or home. It is typically located in a mansion or home. It is a common area for walk in wardrobes to be found in mansions, homes, and homes. It is a common place for a walk in wardrobe to be found in a mansion in the mansion is also a great way to add value to a mansion's value, as it is a great way to make a walk in wardrobe. It is also a great way to make a walk in wardrobe is a great way to save money. It is also a great way to save money. Walk in type wardrobe is a mansion is a great way to save money on the mansion. Walk in wardrobes are also a great way to save money on the mansions. It is important to know that the mansion is a great way to save money and time. It is a good way to save money on the environment. It is also a good way to save money and save time and money. It is important to have a walk in wardrobe is a walk in wardrobe for a mansion is a great way to save money and maintain a walk in wardrobe for a walk in wardrobe for a walk in wardrobe for a walk in wardrobe for a walk in wardrobe for a walk in wardrobe for a walk in wardrobe for a walk in wardrobe for a walk in wardrobe for a walk in wardrobe for a walk in wardrobe for a walk in wardrobe for a walk in wardrobe for a walk in wardrobe</s>\n",
      "########\n",
      "*******\n",
      "question: How bad is the punishment for someone who is over indulgent?\n",
      "answer: severe\n",
      "choices: ['severe', 'harsh', 'hard', 'strict', 'self denying']\n",
      "common expl list: ['Overindulgence in anything is bad, possibly leading to lethargy, poor health, overspending, and the like. As a result of this, a punishment for a person who is over-indulgent could be severe.']\n"
     ]
    },
    {
     "name": "stderr",
     "output_type": "stream",
     "text": [
      "\r",
      " 14%|█████████████████████▋                                                                                                                                          | 134/986 [3:16:37<11:44:56, 49.64s/it]"
     ]
    },
    {
     "name": "stdout",
     "output_type": "stream",
     "text": [
      "generated explanation: <pad> <extra_id_0> The punishment for someone who is over indulgent is severe. The punishment is severe because it is a form of punishment that is imposed on the person who is over indulgent. The punishment is severe because the person is over indulgent and the person is over indulgent. The punishment is severe because it is a form of punishment for someone who is over indulgent. The punishment is severe because it is a form of punishment for someone who is over indulgent. The punishment is severe because it is a form of punishment is severe because it is severe because it is a form of punishment for someone who is over indulgent. It is a severe punishment for someone who is over indulgent. The punishment is severe because it is a form of punishment for the person who is punished. The punishment is severe because it is a form of punishment for someone who is severed and if the person is not able to get off the hook. It is a person who is over indulgent and the person is not able to continue to get off the hook. The punishment is a severed and unable to keep up with the demands of the punishment. The punishment is a form of punishment. The punishment is severe and the person is a punishment for the person who is over indulgent punishment. The punishment is severe and the person is not a punishment is not a punishment is a punishment that is not a punishment. The punishment is a punishment that is a punishment that is used to keep up with the punishment. The person is punished by the punishment is a punishment that is a punishment that is a punishment that is a punishment that is used to punish the person's punishment. The punishment is a punishment that is used to punish the person's guilt and shame. The punishment is a punishment that is used to punish the person's behavior. The punishment is severe. The punishment is a punishment that is used to punishing the person's indulgent person's life's worth it. The punishment is a punishment that is used to punish the person's life's punishment that is used to punish someone's indulgently punishing the person's actions that is used to punish them. The punishment is a punishment that is used to punish the person's indulgent. The punishment is usually severe and is usually used to\n",
      "########\n",
      "*******\n",
      "question: She was going to bed at 11 at night, what was she looking to do?\n",
      "answer: falling asleep\n",
      "choices: ['falling asleep', 'relaxing', 'rest', 'dreaming of', 'laziness']\n",
      "common expl list: [\"People go to bed when they're tired and want to sleep\", 'Falling asleep is often a desired result when going to bed.']\n"
     ]
    },
    {
     "name": "stderr",
     "output_type": "stream",
     "text": [
      "\r",
      " 14%|██████████████████████                                                                                                                                           | 135/986 [3:16:51<9:11:18, 38.87s/it]"
     ]
    },
    {
     "name": "stdout",
     "output_type": "stream",
     "text": [
      "generated explanation: <pad> <extra_id_0> She was looking for a way to fall asleep at 11 at night. She was looking for a way to fall asleep at night. She was looking for a way to sleep at night. She was looking for a way to fall asleep before falling asleep. At night, she was looking for a way to make up for the fact that she had fallen asleep. At night, she was looking to fall asleep and then fall asleep. She was looking to do something she could do at 11:12 am. In the morning, she was looking for a way to fall asleep, and then looking for a way to get to sleep at 11:12 am. At night, she was looking for a way to make it to sleep at 11:12:12:12:12:12:13:12:12:12:12:12:12:12:12:12:12:12:12:12:12:12:12:12:12:12:12:12:12:12:12:12:12:12:13<extra_id_1> <extra_id_1> </s>\n",
      "########\n",
      "*******\n",
      "question: A company with the moniker of Big Sky Excavation would probably be found where?\n",
      "answer: montana\n",
      "choices: ['a forest', 'city', 'egypt', 'montana', 'desert']\n",
      "common expl list: ['Mountain ranges are often called \"big sky\"s. The term is popular for companies in Montana, a state with lots of mountians, including two major mountain ranges.']\n"
     ]
    },
    {
     "name": "stderr",
     "output_type": "stream",
     "text": [
      "\r",
      " 14%|██████████████████████                                                                                                                                          | 136/986 [3:18:04<11:37:11, 49.21s/it]"
     ]
    },
    {
     "name": "stdout",
     "output_type": "stream",
     "text": [
      "generated explanation: <pad> <extra_id_0> A company with the moniker Big Sky Excavation would be found anywhere in the United States. It would probably be located in a mountaintop or a mountainside, or in a mountainous area. The company would be based in the mountains of the United States, where the company would be located. The company would be located in the mountains of the United States, where it would be located. The company would probably be located in the mountains of the United States, where it would be located. The company would probably be located in the mountains in the United States, Canada, or elsewhere. The company would likely be located in the United States, and possibly in the mountains. The company would probably be located in the United States, and the United Kingdom. The company would likely also be located in the mountains of North America, which would be located in the mountains of North America, where it would be located. This would be based in the United States. This would also be located in the United States. This would be a good place to operate. This would be a good place to start operations and maintenance and maintenance of the company would also be located in the mountains of the world. The company would be located in the mountains. The company would be located in the mountains would be located in the mountains would be located in the mountains. The company would be located in the mountains would be located in the area of the company would be located in the mountains would be located in the mountains would be located in the mountains would be located in the mountains would be located in the mountains would be located in the mountains would be located in the mountains. The company would be located in the mountains would be located in the mountains would be located in the mountains would be located in the mountains would be located in the mountains. The company would probably be located in the mountains would likely be located in the mountains would be a mountainous terrain. The mountains would be the highest elevations of the mountains would be the highest elevations of the highest elevations of the highest elevations of the mountains. The company would be located in the mountains of the mountains would be located in the mountains of the United States, and would be located in the mountains of the United States. The company would probably be located in the mountains, in the mountains, in the mountains, and would be located in the mountains, the mountains, and would be located in the mountains, and would be located in the mountains, and would be located in the mountains\n",
      "########\n",
      "*******\n",
      "question: Which horseman of the apocalypse is often depicted next to death?\n",
      "answer: war\n",
      "choices: ['battlefield', 'the healer.', 'funeral', 'war', 'hospital']\n",
      "common expl list: ['A time of war is also often associated with someone dying.']\n"
     ]
    },
    {
     "name": "stderr",
     "output_type": "stream",
     "text": [
      "\r",
      " 14%|██████████████████████▏                                                                                                                                         | 137/986 [3:18:31<10:01:21, 42.50s/it]"
     ]
    },
    {
     "name": "stdout",
     "output_type": "stream",
     "text": [
      "generated explanation: <pad> <extra_id_0> The apocalypse is a time of great war, and the horseman of war is often depicted next to death. The horseman of war is often depicted next to death, and the horseman is often portrayed as the heir to the throne. The horseman is often depicted as the heir to the throne, and the heir is often the heir to the throne. The horseman of war is often depicted as the heir to the throne. The horseman of war is often depicted next to the throne, and the horseman of the apocalypse is often depicting the apocalypse. The horseman of the apocalypse is often depicted next to the horseman of the apocalypse. The horseman of the apocalypse is often depicted next to the throne of the throne, the throne, the throne, the throne, the throne, the throne, and the throne, the throne, the throne, the</s>\n",
      "########\n",
      "*******\n",
      "question: What could be used to write with a steel pen?\n",
      "answer: hand\n",
      "choices: ['warehouse', 'arm', 'hand', 'desk drawer', 'veterinary office']\n",
      "common expl list: ['you write with a steel pen using your hand.', 'Using a steel pen requires someone to hold it, and we associate writing with hands. Powder can be used with steel pens as a \"contrast medium.']\n"
     ]
    },
    {
     "name": "stderr",
     "output_type": "stream",
     "text": [
      "\r",
      " 14%|██████████████████████▌                                                                                                                                          | 138/986 [3:19:03<9:17:02, 39.41s/it]"
     ]
    },
    {
     "name": "stdout",
     "output_type": "stream",
     "text": [
      "generated explanation: <pad> <extra_id_0> A steel pen is a great way to write with a pen in your hand. It is a great way to write with a pen in your hand. It is also a great way to practice writing with a pen in your hand. It is also a great way to improve your writing skills and improve your writing skills. It is also a great way to improve your writing skills. It is also a great way to improve your writing skills. It is also a great way to improve your writing skills by using a steel pen. Steel pen is also a great way to improve your handwriting and writing with a steel pen is also a great way to improve your writing skills and the ease of writing. It is also a great way to improve your writing skills. It is also a great way to improve your writing skills. It is also a great way to improve your writing skills, as well as enhancing your writing skills. It is also a great way to improve your writing technique. It is also a great way to improve your handwriting skills. It is also a great way to improve your handwriting. It is possible to write with a steel pen, which means that it is possible to write with a steel pen, as it is possible to write with a steel pen, as it is also a great way to improve your handwriting, as it is possible to improve your handwriting is an excellent way to increase your handwriting skills. It is also a great way to improve your handwriting skills. It is also a great way to improve your writing skills. It is also a great way to improve your writing with a steel pen, as it is possible to write with a steel pen, and it is easier to write with a steel pen, and it is a steel pen, it is possible to write with a steel pen, it is possible to write with a steel pen, it is easier to write with a steel pen, and it is easier to write with a steel pen, it is possible to write with a steel pen, it is possible to write with a</s>\n",
      "########\n",
      "*******\n",
      "question: I needed to find out how to contact a person with a certain name, where should I look?\n",
      "answer: phone book\n",
      "choices: ['directory', 'michigan', 'roster', 'phone book', 'certificate']\n",
      "common expl list: ['People are listed in phone books for easy access by callers.', 'Phone books are usually a good source for finding phone numbers to call other people.', \"Phone books are used to find people's phone numbers.\", 'A phone book is likely to have the phone numbers of nearby people.']\n"
     ]
    },
    {
     "name": "stderr",
     "output_type": "stream",
     "text": [
      "\r",
      " 14%|██████████████████████▌                                                                                                                                         | 139/986 [3:20:13<11:26:04, 48.60s/it]"
     ]
    },
    {
     "name": "stdout",
     "output_type": "stream",
     "text": [
      "generated explanation: <pad> <extra_id_0> If you need to find out how to contact a person with a certain name, you can look in a phone book. If you are looking for a phone book, you can find a phone book by clicking on the link below. The phone book is a great way to find out if someone is a good fit with your own personality and interests. Phone book is a great way to find people who have a certain name and are interested in their life. They are often asked to provide a phone book to help you find a person with a certain name, such as a person with a certain number, a phone book can also help you find a phone book can help you find a phone book can help you find a phone book can help you find a person with a certain name and contact information. Phone book can help you find a person with a phone book can also help you find a person with a certain name and contact information. Phone book can help you can help you to find out how to contact a person with a certain number and can help you to find a person with a specific number and contact a person with a specific number and contact a specific person with a specific number and can also help you to contact a specific person with a specific person with a specific name and contact information. Phone book can help you find out who the person with a specific name and who the person with a certain person with a specific contact information. Phone book can help you can help you find out more about a specific name and contact information. Phone book can help you find a person with a specific person with a specific person with a specific person with a specific person with specific contact information. Contact information on the phone book can also help you need to find a specific person with a specific person with a specific person with a specific name and contact information. Depending on the person's name and address and location of the person's name and address and contact information. Depending on the person's current location, the person's contact information, the person's contact information. The person's name and address. a specific person's phone book is a person's contact information about the person's contact information.</s>\n",
      "########\n",
      "*******\n",
      "question: What is important for a couple to do?\n",
      "answer: communicate\n",
      "choices: ['live together', 'row about', 'plan to marry', 'communicate', 'marry each other']\n",
      "common expl list: ['Communication is a key part of a healthy relationship and - often equally as important - is the commitment to communicate effectively.', 'Couples who communicate well are more likely to stay together, and thus, it is important for a couple to communicate.', \"To make a relationship work, it's very important to communicate with each other.\"]\n"
     ]
    },
    {
     "name": "stderr",
     "output_type": "stream",
     "text": [
      "\r",
      " 14%|██████████████████████▊                                                                                                                                          | 140/986 [3:20:32<9:20:57, 39.78s/it]"
     ]
    },
    {
     "name": "stdout",
     "output_type": "stream",
     "text": [
      "generated explanation: <pad> <extra_id_0> A couple should be able to communicate with their loved ones and family members. This is because they are able to communicate with each other and share their experiences and experiences. They should also be able to share information and have a sense of belonging. This is because couples are able to communicate with each other and share their experiences and experiences. They are able to communicate with each other and share their thoughts and feelings. This is because a couple is able to share information and experiences with their loved ones. They are able to communicate through communication and communication. They are able to communicate with each other and share their experiences and experiences with each other, and they are able to communicate about their goals and expectations. They are also able to communicate through communication and communication skills. They are able to communicate their ideas and ideas to each other and to make sense of each other and to share their thoughts and feelings. They are able to make a lasting impact on each other and share their stories and experiences. They are able to communicate with each other and to create a common goal. They are able to communicate their feelings and emotions. They are able to make it a part of their relationship. They are able to communicate their needs and goals. They are able to communicate their feelings and experiences. They are able to communicate their feelings and to create a common goal. They are able to make a lasting impact on one another.</s>\n",
      "########\n",
      "*******\n",
      "question: The botanist knew the plant was living, what did he observe that led him to know that?\n",
      "answer: respiration\n",
      "choices: ['interaction', 'death', 'respiration', 'expiration', 'chlorophyll']\n",
      "common expl list: [\"The teacher commonly noted that plants give off oxygen as a result of respiration, which helps fuel their energy and growth. This was evidence of a plant's life.\"]\n"
     ]
    },
    {
     "name": "stderr",
     "output_type": "stream",
     "text": [
      "\r",
      " 14%|██████████████████████▉                                                                                                                                         | 141/986 [3:21:54<12:18:44, 52.46s/it]"
     ]
    },
    {
     "name": "stdout",
     "output_type": "stream",
     "text": [
      "generated explanation: <pad> <extra_id_0> The botanist knew that the plant was living. It was respiration, which is the process of releasing oxygen from the air into the air, which is the process of releasing oxygen from the air. It is a process of releasing oxygen from the air. It is the process of releasing oxygen from the air to the plant and releasing it into the air. It is the process of respiration that the plant is living under. It is the process of releasing oxygen from the air, which is the process of releasing the oxygen, which is the process that leads to the plant to release oxygen, and releasing oxygen from the air. The botanist was able to release oxygen and other components of the air to create a sense of fresh air and smelling the air. The botanist was able to determine the plant’s internal organs and organs that were present in the plant that is able to determine the plant that is in the plant and determining the plant’s presence. The botanist was able to determine the plant’s respiration of the plant’s presence of oxygen and the respiration of the plant’s respiration of the plant’s respiration of the plant’s respiration of the plant’s respiration of the plant’s respiration of the plant’s respiration. The plant’s life. The plant is a natural selection of the plant’s life cycle. The plant’s life cycle and the life cycle, and the life cycle. The plant’s life cycle and life cycle, and the life cycle and the life cycle. The living organisms are living and the life cycle and the life cycle and the life cycle and the life cycle. The life cycle is regulated by the respiration. The living and breathing conditions. The living organism is also regulated by the plant’s life cycle, and the life cycle by the living and death of the plant’s life cycle. The plant’s life cycle is also the process of respiration is the process of the plant is also the process of the plant’s life cycle. The living life cycle of the plant. The plant is then released into the environment. The plant is then released into the environment. The plant is regulated by the plant is living and breathing cycle. The plant is respiration process is the process of respiration process is the main activity of the plant is a process that is a process\n",
      "########\n",
      "*******\n",
      "question: What is it called when teens are together not doing anything in particular?\n",
      "answer: hang out\n",
      "choices: ['smoke', 'homework', 'volunteer', 'party', 'hang out']\n",
      "common expl list: ['Hang out is a term that could be used for teens hanging out together, typically with no particular agenda.', 'Hanging out\" is used to describe events where people are socializing, doing nothing in particular. Other events include hanging out with a purpose (doing homework, studying outside, going shopping, etc.).']\n"
     ]
    },
    {
     "name": "stderr",
     "output_type": "stream",
     "text": [
      "\r",
      " 14%|███████████████████████                                                                                                                                         | 142/986 [3:23:01<13:16:32, 56.63s/it]"
     ]
    },
    {
     "name": "stdout",
     "output_type": "stream",
     "text": [
      "generated explanation: <pad> <extra_id_0> A hang out is a fun way for teens to bond and bond over a common bonding experience. Hang out is a form of social interaction that can be a good way to get to know your friends and family. It is a form of social interaction that can be a good way for teens to meet and share ideas. It can be fun for teens to bond with each other and to talk about their experiences. It can be a fun way to bond with friends and family. It can be a great way to get to know each other and to talk to each other in a group and to talk about their favorite songs and activities. Hang outs are also a great way to get to know each other and to talk about the topic of the conversation. It can be a great way to get to know each other and how they feel about each other and how they can help to make a difference in the way they can help to make a connection that can help to encourage a sense of each other and help to others. Hang out is a safe place to hang outs are a way to engage in conversation and share experiences. Hang outs are often a way to encourage each other and help others to become more involved in the community. Hang outs are often a way for teens to learn about themselves and their friends and to get to know each other better. Hang outs can be a way to connect with each other and help each other and to help to encourage each other to learn new people and to learn new people. Hang outs are a way to get to know each other better. Hang outs can be a way to share experiences and connect with each other and to encourage each other to learn new things and to make new friends and friendships and to share ideas and to create a way to build relationships and encourage each other to share ideas and to encourage each other. Hang outs can be a way to create a safe and fun for teens to learn new people to share their experiences and to learn about each other and to share experiences and to share ideas and to create a way to learn how to share ideas and to share ideas and to create a way to grow as a community. Hang outs are a fun and safe space to hang outs are a safe place to hang outs to create new friends and to learn new friends. Hang outings are also a way to build friendship\n",
      "########\n",
      "*******\n",
      "question: The saw was not necessary for car repair, so what wasn't it included with during pucrhase?\n",
      "answer: tool kit\n",
      "choices: ['tool shed', 'tool box', 'tool kit', 'hardware store', 'toolbox']\n",
      "common expl list: ['A saw is another name for a cutting tool, but they are often not included with a tool kit, because a kit is used for other repair needs (bolts, screws, bindings, etc.), and a saw is not required for a car repair']\n"
     ]
    },
    {
     "name": "stderr",
     "output_type": "stream",
     "text": [
      "\r",
      " 15%|███████████████████████▏                                                                                                                                        | 143/986 [3:23:43<12:16:23, 52.41s/it]"
     ]
    },
    {
     "name": "stdout",
     "output_type": "stream",
     "text": [
      "generated explanation: <pad> <extra_id_0> The saw was not necessary for car repair, so it wasn't included with the saw during pucrhase. The saw was not included with the car repair kit because it was not used for car repairs. It was included with the saw for car repair, but it was included with the tool kit for car repair. It was not included with the car's car repair kit because it was not included with the saw for car repair. The saw was not necessary for car repair, but it was included with the tool kit for car repair. It was not included with the saw for car repair, which was not included with the car repair kit. The saw was not included with the tool kit included with the car repair kit. The saw was not necessary for car repairs, but it was not included with the saw during a car repair kit. It was not included with the saw during car repair, as it was not necessary for car repairs. It was not included with the saw, as it was not necessary for car repairs. It was included with the saw for car repair. It was not included with the saw was not necessary for car repair, it was not necessary for car repairs, it was not necessary for car repairs. It was not included with the saw for car repair and it was not necessary for car repair and it was not necessary for car repair and it was not necessary for car repair and it was not necessary for car repair, and it was not necessary for car repair, it was included with the saw. It was not necessary for car repairs, it was included with the saw was not included with the saw was not included with the car. It was not necessary for car repair to replace the saw for car repair and the saw was not necessary for car repair. It was not necessary for car repair, and it was not necessary for car repair, it was not necessary for car owners to replace the saw was not necessary for the saw was not necessary for car owners to replace the saw during the car repair, but</s>\n",
      "########\n",
      "*******\n",
      "question: Where will my kid put their coin in their room?\n",
      "answer: piggy bank\n",
      "choices: ['piggy bank', 'wishing well', 'parking meter', 'under pillow', 'change purse']\n",
      "common expl list: ['Kids commonly save small amounts of money for later use, and these savings are often kept in piggy banks.', 'Piggy banks are often used to store coins.']\n"
     ]
    },
    {
     "name": "stderr",
     "output_type": "stream",
     "text": [
      "\r",
      " 15%|███████████████████████▎                                                                                                                                        | 144/986 [3:24:49<13:11:01, 56.37s/it]"
     ]
    },
    {
     "name": "stdout",
     "output_type": "stream",
     "text": [
      "generated explanation: <pad> <extra_id_0> A coin is a small piece of paper that is rolled over a coin and placed in a pocket. The coin is usually a coin that is rolled over a coin and placed in a pocket or pocket. The coin is also a valuable piece of paper that is placed in a place such as a coin stand or a coin stand. It is also a great way to store coins and other coins. It is also a great way to store coins in a safe or secure place. It is also a great way to store coins in a safe and secure environment. It is also a great way to store coins and other coins. The coin is a great way to store coins in a safe and can be used to store coins and other items that are placed in a safe or a coin in a safe and can be used to store coins and other items in a safe place. In addition, it can be used to store coins and other items that are used to store coins and other items that are used to store them in a safe and secure environment. It can be used to store coins. It can also be used to store coins. It can also be used to store coins in a safe place.. It can also be used to buy and sell coins. It can be used to store coins in a room. It can also be used to store coins in a safe in a safe and secure environment. It can be used to store coins and other items such as coins and other items such as coins and other items that are safe safe and secure. It can also be used to store coins and other items such as coins and other items such as coins and other items such as coins and other valuables. The coin can be used to store coins and other valuables such as coins and other coins that are used to store coins in the room. The coin, such as coins, to store coins in the room. The coin can be used to store them in the room to store coins, such as coins in the coin in the room. The coin is also a safe deposit in the room to store coins in the coin. The coin in the coin in the room to store coins in the room to store coins in the coin in the room. The coin can be found in the room to store coins in the coin in the coin in the coin in the room. The coin can be stored in the room to\n",
      "########\n",
      "*******\n",
      "question: Where is a fire extinguisher likely to be found behind the seat?\n",
      "answer: school bus\n",
      "choices: ['school bus', 'house', 'garden', 'stairwell', 'garage']\n",
      "common expl list: ['Fire extinguishers are required on public-transit vehicles, such as school buses.']\n"
     ]
    },
    {
     "name": "stderr",
     "output_type": "stream",
     "text": [
      "\r",
      " 15%|███████████████████████▌                                                                                                                                        | 145/986 [3:26:12<15:01:39, 64.33s/it]"
     ]
    },
    {
     "name": "stdout",
     "output_type": "stream",
     "text": [
      "generated explanation: <pad> <extra_id_0> A fire extinguisher is a powerful tool that can be used to extinguish a fire. It is often found in a school bus and is often found in a parking lot or in a parking lot. In school bus, it is usually located behind the seat of a vehicle. Fire extinguishers are used to extinguish fires and other hazards. In school bus, the fire extinguisher is usually found in a school or school building. School buses are typically made of wood, metal, and other materials that can be used to extinguish fires that can be used to extinguishes the fuel that is used to extinguishes the fuel. School buses are also prone to fires if the school bus is not as a safe place. School buses are also a popular option for schools to use. School buses are also a great choice for school buses to use a fire extinguisher behind the seat. School buses are also a great option for schools to use fire extinguishers. School buses are also a great way to reduce the heat of the summer heat and the heat of the summer heat. School buses are also a great way to reduce the heat of the heat and the heat. School buses are a great way to reduce the heat from the heat of the heat, reducing the heat of the heat. The heat of the heat of the heat and the heat of the heat and the heat of the heat of the heat and the heat, and the heat that the heat of the heat and the cold. The heat and cold. The heat is also used to help reduce the heat and the air. The heat and the heat of the heat and heat generated by the heat from the heat of the air, which is used to reduce the heat and heat, which is the heat. The heat and heat that is used to heat and heat that is used to reduce the heat and to reduce the heat. The heat can also be used to reduce the heat and heat that is being used to reduce the heat. The heat from the heat and heat from the heat can be used to reduce the heat of the building, which can be used to reduce the heat, and the heat from the building. The heat from the heat and flames that can be used to reduce the heat of the air that is generated by the heat from the heat\n",
      "########\n",
      "*******\n",
      "question: His therapist said he had to get out there and begin socialising, it was the only was to start what?\n",
      "answer: friendships\n",
      "choices: ['conflicts', 'having fun', 'jealousy', 'getting out there', 'friendships']\n",
      "common expl list: ['Interacting with other people socially is likely to result in making new friends.', 'His therapist said that he needed to speak to people if he wanted to be less withdrawn. This would help him to get out of his shell.']\n"
     ]
    },
    {
     "name": "stderr",
     "output_type": "stream",
     "text": [
      "\r",
      " 15%|███████████████████████▋                                                                                                                                        | 146/986 [3:26:51<13:15:14, 56.80s/it]"
     ]
    },
    {
     "name": "stdout",
     "output_type": "stream",
     "text": [
      "generated explanation: <pad> <extra_id_0> His therapist said he had to get out there and begin socialising, it was the only way to start. It was to start with friendships and get out and about. It was to start by getting out there and socialising with other people. It was to get out and socialise with other people, and he would be able to build up friendships and build up friendships. It was also to start to gain confidence and confidence in his abilities. It was also the only way to start building relationships with other people. It was to start to build friendships and build friendships are a great way to start. It was to start a friendships are a great way to build friendships and build relationships that are a way to build friendships and friendships are a way to build trust in each other and build trust and confidence in one another. It was also the only way to start by building relationships with others. This allows for a great way of forming friendships and build trust and friendships. This allows him to build relationships and build trust. This is the only way for him to start socialising and grow in relationships. This is the only way for him to build friendships and relationships. This is the only way to build trust and support networks. This is the only way to build relationships and build relationships and build relationships and build relationships. This allows him to build relationships and build a network. This allows him to build trust and support each other and to build relationships. This allows him to build trust in his therapist to establish a sense of socialising with others. This is the only way to build relationships. This is the only way to start a healthy and safe way for him to build relationships. This allows him to build friendships. This is because it is also because it is the only way to start to build friendships to build relationships. This allows him to build relationships with others to build friendships and connections with others. This allows him to develop relationships and develop friendships and build relationships and build relationships. This allows him to build friendships and build relationships. It is also a way to build friendships and build friendships and build friendships are a way to build friendships and build friendships to build friendships and friendships to build friendships and to build friendships and to build friendships and build friendships and build relationships. It is also a way to build friendships and build friendships and\n",
      "########\n",
      "*******\n",
      "question: What is likely true about a dog that escapes regularly?\n",
      "answer: very smart\n",
      "choices: ['very smart', 'very loyal', 'tired', 'friendly', 'faithful']\n",
      "common expl list: ['Intelligent dogs (especially when concerned with food and treats) who are looking for some form of freedom will have the intelligence to escape regularly.']\n"
     ]
    },
    {
     "name": "stderr",
     "output_type": "stream",
     "text": [
      "\r",
      " 15%|███████████████████████▊                                                                                                                                        | 147/986 [3:27:53<13:35:50, 58.34s/it]"
     ]
    },
    {
     "name": "stdout",
     "output_type": "stream",
     "text": [
      "generated explanation: <pad> <extra_id_0> A smart dog that escapes regularly is one that is<extra_id_1> A smart dog that escapes regularly is one that is smart, smart, and has a lot of intelligence. This means that a dog that escapes regularly is able to avoid a variety of problems, including a dog that is a bit of a rut, a rut, or a rut. A dog that escapes regularly is a smart dog and is very smart. It is also a smart dog that is smart enough to be able to keep track of things and avoid accidents and a dog that is smart enough to avoid accidents and escaping regularly, which is a good thing. This is because a dog that escapes regularly is smart enough to be able to keep a safe distance from other animals and other animals. This is because it is a smart dog that escapes regularly. This is because it is a smart dog that can keep track of and track the dog that is able to keep track the dog’s owner. It is a smart dog. This makes it a smart dog that can keep track of every dog that isn’t able to keep track of its movements and is able to keep track of the dog that is able to keep track of and track their movements and enables them to keep track of them. This is because it is a smart to keep track of the dog that it is able to keep track of the dog that is able to track the dog that is able to track the dog’s behavior. This makes it easier to track the dog that is able to track the dog that is able to track the dog that is able to keep track the dog that is able to keep track of the dog that is able to keep track of the dog that is able to keep track of the dog that is able to track the dog that is able to track the dog. It is also able to track the dog that is able to track the dog’s movements. It is also able to track the dog that is able to track the dog that is prone to follow a dog that is running a dog that is running a dog. This is because it is likely to follow a dog that escapes regularly. This is because it is able to keep an eye on the other dogs and keep track of other dogs and keep track\n",
      "########\n",
      "*******\n",
      "question: If you're going to a party in an alley, what is likely to happen?\n",
      "answer: doing drugs\n",
      "choices: ['call the police', 'doing drugs', 'new contacts', 'making new friends', 'plan']\n",
      "common expl list: ['People going to parties in an alley are often going to do drugs and vice.', 'Alleys are associated with crime; and, people performing illegal drugs at a party is illegal.', 'People often do drugs at parties, and alleys are often used for parties.']\n"
     ]
    },
    {
     "name": "stderr",
     "output_type": "stream",
     "text": [
      "\r",
      " 15%|████████████████████████                                                                                                                                        | 148/986 [3:28:20<11:22:17, 48.85s/it]"
     ]
    },
    {
     "name": "stdout",
     "output_type": "stream",
     "text": [
      "generated explanation: <pad> <extra_id_0> If you go to an alley, you are likely to be going to a party that is dominated by drunk people, which is a good thing because it is a place to go for a party that is surrounded by people who are drunk or drunk. Also, if you are going to a party in an alley, you are likely to be surrounded by people who are drinking alcohol or attempting to drink a drink. Taking drugs is also a common way to get drunk. This is because people are likely to do drugs, and because people are likely to do so. Also, drinking alcohol, and other drugs are also a good idea. This is because it is a good idea to go to a party in an alley is a great way to get a safe area. A party in an alley is a great way to get to know the people who are going to be able to get to know the people who are going to be in an alley. During a party, it is likely to be a great way to get to know the people who are going to be able to get to know each other. It is a great way to get to a party in an alley is a great way to get to know each other's unique way to get to know each other better at a different way to get to know each other better at knowing that the party is a good way to get to know each</s>\n",
      "########\n",
      "*******\n",
      "question: The man was very tired and sore, he decided to stay in bed to what?\n",
      "answer: rest more\n",
      "choices: ['rest more', 'lazy', 'were sick', 'to be sick', \"you're sick\"]\n",
      "common expl list: ['The man was so tired and sore, he just wanted a break. His illness would keep him in bed.', 'The man was tired and sore, so he decided to rest more.', \"When people are sick, they tend to rest, as it's the most sensible thing.\"]\n"
     ]
    },
    {
     "name": "stderr",
     "output_type": "stream",
     "text": [
      "\r",
      " 15%|████████████████████████▎                                                                                                                                        | 149/986 [3:28:23<8:09:24, 35.08s/it]"
     ]
    },
    {
     "name": "stdout",
     "output_type": "stream",
     "text": [
      "generated explanation: <pad> <extra_id_0> The man was very tired and sore, he decided to stay in bed to rest. Rest is the key to a person's well-being and well-being. Rest is the key to a person's well-being and well-being. It is the key to a person's well-being and well-being. It is important to remember that rest is the key to a person's well-being. Rest is also a way to relieve stress and stress. It is important to remember that rest is important to a good night's sleep. Rest is also a chance for people who are more likely to be more comfortable and restful nights. Rest is also a good way to help relieve stress and stress.</s>\n",
      "########\n",
      "*******\n",
      "question: He was back in his hometown, he was planning on having fun and doing what?\n",
      "answer: visiting friends\n",
      "choices: ['being understood', 'hug', 'rambling', 'kiss', 'visiting friends']\n",
      "common expl list: ['People usually visit their friends when they return to a town where they previously used to live, because their friends would have missed them.', 'If a person went back to their hometown, they might be glad to see their old friends, and visit them while they are there.', 'If a person is back in their hometown, they might visit their friends, who they might not see very often.']\n"
     ]
    },
    {
     "name": "stderr",
     "output_type": "stream",
     "text": [
      "\r",
      " 15%|████████████████████████▍                                                                                                                                        | 150/986 [3:28:33<6:24:32, 27.60s/it]"
     ]
    },
    {
     "name": "stdout",
     "output_type": "stream",
     "text": [
      "generated explanation: <pad> <extra_id_0> He was back in his hometown, he was planning on having fun and doing something new and exciting. He was back in his hometown and was back in his hometown, so he was planning on visiting friends and doing things he loved. He was back in his hometown and spending time with his friends. He was back in his hometown and was planning on having fun and doing something new and exciting. He was back in his hometown, and he was planning on spending time with friends and doing something new. He was also planning on doing something new and doing something new. He was back in his hometown, he was back in his hometown, and he was back in his hometown, and he was back in his hometown, he was back in his hometown. He was back in his hometown, he was back in his hometown, and he was back in his hometown. He was back in his hometown, and he was back in his hometown, and he was back in his hometown, and he was back in his hometown, and he was back in his hometown, and he was back in his hometown</s>\n",
      "########\n",
      "*******\n",
      "question: Where is basketball court likely to be outdoors?\n",
      "answer: city\n",
      "choices: ['high school gymnasium', 'city', 'park', 'use', 'los angeles']\n",
      "common expl list: ['Basketball courts are likely to be at parks and recreational centers in cities.', 'Basketball courts are often urban.', 'Most American cities have basketball courts in public parks.', 'Basketball courts are often found in city parks.']\n"
     ]
    },
    {
     "name": "stderr",
     "output_type": "stream",
     "text": [
      "\r",
      " 15%|████████████████████████▌                                                                                                                                       | 151/986 [3:29:59<10:29:14, 45.22s/it]"
     ]
    },
    {
     "name": "stdout",
     "output_type": "stream",
     "text": [
      "generated explanation: <pad> <extra_id_0> A basketball court is likely to be located in a city, which means it will be a good place to play basketball, as it will be a good place to play basketball in a city. The court is likely to be located in a city, because it is located in a city. The court is located in a city, which means it will be a good place to play basketball. The court is located in a city, which means it will be a great place to play basketball. The court is also likely to be located in a city in the middle of a city of many different types of sports, such as a park or other outdoor activities. The court is also likely to be located in a city. The basketball court is also likely to be a popular destination for many different types of sports, such as the city. The court is also a great place to play basketball and other activities that are located in the vicinity of the city. The court is also likely to be used by many of the city is also a great place to play basketball. The court is located in a city because it is a great place to play basketball. The court is also a great place to play basketball and other sports that are located in the city, and it is a great place to play basketball and other activities. The court is a great place to play basketball and other activities that are often a great way to play basketball and other activities that are a great way to get a great place to play basketball and other activities that are a great way to get to know the city and get to see the city and play the game. The court is a great place to play basketball and it is a great place to play basketball and it is a great place to play basketball. The court is a great place to play basketball and many other activities that can be played in the city. The basketball court is a great way to get to know the city is a great way to get to the basketball. The court is a great way to get to the city is also a great way to get to the city. The courts are also a great way to get to the city is a great way to get to the beach. The city is a great way to get to know the city is a great way to get to play basketball in the city. The city is a great way to get\n",
      "########\n",
      "*******\n",
      "question: When you want to get the skin off of an apple, you do what to it?\n",
      "answer: peel\n",
      "choices: ['seeds inside', 'stems', 'peel', 'grocery store', 'green market']\n",
      "common expl list: ['Skin is something you peel from fruits like apples, peaches, oranges, kiwi, etc...', 'Apples have a skin that can be peeled off.']\n"
     ]
    },
    {
     "name": "stderr",
     "output_type": "stream",
     "text": [
      "\r",
      " 15%|████████████████████████▋                                                                                                                                       | 152/986 [3:31:14<12:31:23, 54.06s/it]"
     ]
    },
    {
     "name": "stdout",
     "output_type": "stream",
     "text": [
      "generated explanation: <pad> <extra_id_0> When you want to get the skin off of an apple, you do so by peeling it off. It is a simple process that requires no effort to remove the skin from the apple. It is a quick and easy process that requires no tools or tools. Peeling is a quick and easy way to remove the skin from an apple. Peeling is a quick and easy way to remove the skin from an apple. Peeling is a great way to remove excess skin from an apple and get rid of excess skin. Peeling is also a quick and easy way to remove the peeling process. Peeling is a quick and easy and takes ap-resistant process that is safe and effective. Peeling is a quick and easy way to remove the skin from an apple, which is a great way to remove the skin from an apple’s peels are a great way to remove the skin from the skin off an apple’s skin and remove the peel. The peeling process is a quick and easy way to remove the skin from the apple’s skin and peels. The peeling process is a quick and easy way to remove the peeling process. Peeling removes the skin off the skin off the skin from the skin. Peeling is a great way to remove the skin from the skin. Peeling is a simple and effective way to remove peeling is also a great way to remove the peel and peel from the skin. Peeling is also a peeling process. Peeling peels are a great way to remove the peeling process is a great way to remove the peel off peeling process. Peeling process is a great way to peeling process that is used to remove the peel from an apple. Peeling is a quick and easy and can be used to remove the peel and peels the skin off the skin off the apple. Peeling is a great way to remove the peeling process is easy to use. Peeling is a great way to remove the peeling process is a quick and easy way to remove the skin from the skin. Peeling is a great way to remove the skin from the skin and remove the peel. Peeling is a natural way to remove the skin from the skin and removes the skin. Peeling is a great way to remove the skin from the skin from the skin off the skin. Peeling is also a\n",
      "########\n",
      "*******\n",
      "question: Where could you put some knives if you are planning to bring them outside with you?\n",
      "answer: backpack\n",
      "choices: ['purse', 'backpack', 'drawer', 'sporting goods store', 'kitchen']\n",
      "common expl list: [\"Knives are usually brought along if hiking, camping, fishing, or other outings, and backpacks make it easy to transport one's belongings.\", \"To carry knives on one's person, you need some small type of container to hold the knives. Perhaps the most likely place to carry a small container is a backpack.\"]\n"
     ]
    },
    {
     "name": "stderr",
     "output_type": "stream",
     "text": [
      "\r",
      " 16%|████████████████████████▊                                                                                                                                       | 153/986 [3:32:37<14:31:10, 62.75s/it]"
     ]
    },
    {
     "name": "stdout",
     "output_type": "stream",
     "text": [
      "generated explanation: <pad> <extra_id_0> A backpack is a great way to carry knives with you. It is a great way to store them in your backpack if you are planning to bring them outside. It is also a great way to store them in your purse or purse. It is also a great place to store knives if you are planning to bring them outside with you. It is also a great place to store them in. It is also a great place to store them in case you are planning to bring them outside. It is a great place to store them in a backpack. It is also a great place to store knives and other items like knives and other items such as knives and other items such as knives and other items that are used in the backpack. It is also a good place to store them in a backpack and store them in a backpack and store them in a backpack. It is also a good place to store knives and other items such as knives. It is also a great place to store them in a backpack and store them in a bag. It is also a great way to store knives and other items such as knives and knives. It is also a great way to store them in a backpack. It is also a great way to store them in a backpack. It is also a good way to store them in a backpack. It is also a great way to store knives and other items such as knives. It is also a great way to store them safely in a backpack. It is also a great way to store them in a backpack to store them in a backpack to store them in a backpack to store them in a safe place to store them in a backpack to store them in a backpack to store them in a safe place to store them safely. It also helps to keep them safe and secure. It also helps to keep them safe when you can store them in a backpack. It is a place to store knives and other items that are valuable tools that are inside the backpack to keep them safe and secure. It also has a safe place to store them. It can be used to store them in a backpack. It can also be used to store them. It can be used to store them in a backpack. It can also be used to store them in a backpack is a safe place to store them in case you can store them in case\n",
      "########\n",
      "*******\n",
      "question: John watches the well dressed people from a catwalk above the stage.  He listens to them speak rehearsed lines while the audience listens.  Where is he/\n",
      "answer: theatre\n",
      "choices: ['theatre', 'new york city', 'fashion show', 'construction site', 'school play']\n",
      "common expl list: ['Theatres have catwalks where people might observe and listen to actors.']\n"
     ]
    },
    {
     "name": "stderr",
     "output_type": "stream",
     "text": [
      "\r",
      " 16%|████████████████████████▉                                                                                                                                       | 154/986 [3:33:31<13:55:06, 60.22s/it]"
     ]
    },
    {
     "name": "stdout",
     "output_type": "stream",
     "text": [
      "generated explanation: <pad> <extra_id_0> Theatre is a place where the audience is encouraged to listen to the well dressed people speak rehearsed lines. The audience is also encouraged to listen to the well dressed people speak rehearsed lines while the audience listens. The audience listens to the well dressed people speak rehearsed lines while the audience listens. The audience is encouraged to listen to the well dressed people speak rehearsed lines while the audience listens. The audience is encouraged to listen to the well dressed people speak rehearsed lines and music. The audience is also encouraged to participate in the arts, which is a great way to engage with the audience. The audience is also encouraged to participate in the audience and to listen to the well dressed people from a variety of styles and styles. The audience is encouraged to listen to the well dressed people from a wide variety of styles and colors. The audience is encouraged to listen to the well dressed people from the audience, and the audience will be encouraged to engage in a variety of voices and gestures. Theatre is a great way to engage with the audience through the experience of theatre. Theatre is a place where the audience can hear the audience. The audience is encouraged to listen to the well dressed people speak rehearsed lines and to listen to the well dressed people's expressions. Theatre is a place where the audience can hear the audience. The audience can hear the voices of the well dressed people and hear the well dressed people. The audience can also hear the lines of rehearse their lines and to hear the audience. Theatre is a venue for the audience to hear the audience to hear the audience to hear the audience to hear the well dressed people and to hear the voices of the well dressed people. The audience can also hear the voice of the audience. The audience can hear the audience can hear the audience can hear the audience to hear the audience. Theatre is a place to hear the audience to hear the audience to hear the audience to hear the audience to hear the audience to hear the voices of the audience to hear the audience to hear the audience to hear the audience to hear the audience to hear them. The audience can hear the audience hear the audience to hear the audience to hear the audience to hear the audience to hear the audience to hear the audience. The audience can hear the audience. The audience can also hear the well dressed people speak rehearsed lines of the audience\n",
      "########\n",
      "*******\n",
      "question: If I am creating art and have completed it to satisfaction, what is my feeling?\n",
      "answer: enlightenment\n",
      "choices: ['enlightenment', 'tired', 'frustration', 'relax', 'controversy']\n",
      "common expl list: ['Enlightenment is the label for a moment of clarity, and the word is often applied to artists who have created something unique or daring.']\n"
     ]
    },
    {
     "name": "stderr",
     "output_type": "stream",
     "text": [
      "\r",
      " 16%|█████████████████████████▎                                                                                                                                       | 155/986 [3:33:32<9:46:47, 42.37s/it]"
     ]
    },
    {
     "name": "stdout",
     "output_type": "stream",
     "text": [
      "generated explanation: <pad> <extra_id_0> If I am creating art and have completed it to satisfaction, what is my feeling? If I am creating art and have completed it to satisfaction, what is my feeling? If I am creating art and have completed it to satisfaction, what is my feeling?</s>\n",
      "########\n",
      "*******\n",
      "question: He was serious and pragmatic, so why did he drive his car?\n",
      "answer: transportation\n",
      "choices: ['transportation', 'car crash', 'death', 'sleepy', 'stress']\n",
      "common expl list: ['Because driving is the most practical mode of transportation judging by the time and distance required to do so.', 'People often drive cars to get from one place to another.']\n"
     ]
    },
    {
     "name": "stderr",
     "output_type": "stream",
     "text": [
      "\r",
      " 16%|█████████████████████████▎                                                                                                                                      | 156/986 [3:34:34<11:06:36, 48.19s/it]"
     ]
    },
    {
     "name": "stdout",
     "output_type": "stream",
     "text": [
      "generated explanation: <pad> <extra_id_0> He was serious and pragmatic, so he drove his car to work. He was also pragmatic, so he decided to take his car with him. He was serious and pragmatic, so he drove his car to work. It was a practical and practical way to travel. He drove his car to work, and he was driving it to work. The car was a convenient means of transportation, but it was also a convenient way to get around. It was also a convenient way to travel. It was also a great way to keep track of his actions, and it was a practical way to get around his family car. It was also a great way to get around town in his commute. It was a great way to travel. It was also a great way to get around his daily routine and to get around. It was also a great way to get around town and to get to work. It was also a way to get around town. It was also a way to get around town. It was a good way to get around the city. It was a good choice for him to drive his car. It was more practical and practical, and it was a way to get around town. It was also a way to get around his family and to get around the city. It was a way to get around the city. It was a way to get around. It was a way to get around. It was a way to get around the city. It was a way to get around. It was also a way to get around the city. It was also a way to get around the city. It was also a way to get around the city. It was a way to get around the city without having to buy a car and get around the city. It was a way to get around the city. It was also a way to get around the city. It was a way to get around the city. It was a way to travel. It was a way to get around the city quickly and easily. It was a practical way to travel by car. It was an important way to get around. It was a way to get around town in a car and get around the city. It was a pragmatic way to get around the city without having to get around town. It was a practical way to get around the city. It was\n",
      "########\n",
      "*******\n",
      "question: What does god want people to do for money?\n",
      "answer: work in life\n",
      "choices: ['work in life', 'speak to people', 'everywhere', 'sitting ideal', 'care for people']\n",
      "common expl list: ['The scriptures explain that people should acquire money by providing good products or services, e.g., to bring value to other people and make a living.']\n"
     ]
    },
    {
     "name": "stderr",
     "output_type": "stream",
     "text": [
      "\r",
      " 16%|█████████████████████████▍                                                                                                                                      | 157/986 [3:35:09<10:14:05, 44.45s/it]"
     ]
    },
    {
     "name": "stdout",
     "output_type": "stream",
     "text": [
      "generated explanation: <pad> <extra_id_0> God wants people to work for money. God wants people to work for money because it is the source of all the joy of life. The god of the universe wants people to work for money. The god of the universe wants people to do something for money. The god wants people to work for money to earn money. They should work for God's glory and to be able to live a fulfilling life. The god wants people to work for money because it is a gift from God. The god of the universe wants people to work for God's work for money means money for the gods to show them how to make them happy and fulfilled. The god will also want people to be able to see the value of their lives. The god of god is a work-based life. The god of the universe to give people the ability to make a living. The god of money is a work-based life. The god of money, the god of money, is a way to earn it. The god of money is the ability to make a living. The god of money is a way to earn the money because it is a way to earn the money they can use the money they need to make a living. The god of money, so that people can live a life worth it. The god of the god of money. The god of money is a way of living, and the work of giving people a way to give people a way to make money. The god of the world is a way to help others to make a living.</s>\n",
      "########\n",
      "*******\n",
      "question: What can happen after doing housework that does not involve pain?\n",
      "answer: become tired\n",
      "choices: ['become tired', 'stress', 'put on shoes', 'backache', 'low pay']\n",
      "common expl list: ['Housework can be tiring, and so, after doing it, one might become tired.', 'Raking, sweeping, and dusting are common forms of housework. After all the physical labor of these activities, someone \\xa0might become tired and take time off from housework chores, but not have een doing any housework tasks that', 'Doing housework is likely to tire someone out. Being tired increases the likelihood of restlessness and uneasiness.']\n"
     ]
    },
    {
     "name": "stderr",
     "output_type": "stream",
     "text": [
      "\r",
      " 16%|█████████████████████████▋                                                                                                                                      | 158/986 [3:36:03<10:50:33, 47.14s/it]"
     ]
    },
    {
     "name": "stdout",
     "output_type": "stream",
     "text": [
      "generated explanation: <pad> <extra_id_0> Housework that does not involve pain can cause fatigue and become tired. It can also be a sign of stress and stress, which can cause a headache. It can also be a sign of stress, which can cause stress, anxiety, and depression. It can also be a sign of fatigue and stress. It can also be a sign of stress and stress. It can be a sign of stress and anxiety. It can be a sign of stress, which can cause you to feel inadequate. It can also be a sign of stress and anxiety. It can be a sign of fatigued. It can be a sign of stress and stress. It can be a sign of fatigue and stress that is a sign of fatigue and stress. It can also be a sign of stress and stress. It can be a sign of fatigue and stress. It can also be a sign of fatigue and stress. It can be a sign of fatigue and stress. It can also be a sign of fatigue and stress-free and productive housework that involves no pain. It can also be a sign of fatigue and stress. It can also be a sign of fatigue and stress in the house. It can also be a sign of fatigue. It can also be a sign of fatigue. It can also be a sign of fatigue and stress that houseworkers who are feeling tired, frustrated, or even a feeling of fatigue. It can also be a sign of fatigue. It can be a sign of fatigue and stress. It can be a sign of stress and stress. It can also be a sign of fatigued. It can be a sign of fatigue and stress. It can also be a sign of fatigue. It can be a sign of fatigue and stress. It can be a sign of fatigue. It can also be a sign of fatigue. It can be a sign of fatigue. It can be a sign that housework that does not involve pain. It can cause housework that is, it can be a sign that housework can be tiring. It can be a sign of fatigue. It can be a sign of fatigue. It can be a sign of a sign of fatigue. It can be a sign of a feeling of fatigued. It can also be a sign of a feeling of frustration. It can be a sign of fatigue\n",
      "########\n",
      "*******\n",
      "question: James sat in a chair and listened to the speaker.  Where might James be?\n",
      "answer: auditorium\n",
      "choices: ['synagogue', 'grocery store', 'auditorium', 'confession', 'office']\n",
      "common expl list: ['James was likely in an auditorium, because he was listening to a speaker.']\n"
     ]
    },
    {
     "name": "stderr",
     "output_type": "stream",
     "text": [
      "\r",
      " 16%|█████████████████████████▊                                                                                                                                      | 159/986 [3:37:05<11:50:57, 51.58s/it]"
     ]
    },
    {
     "name": "stdout",
     "output_type": "stream",
     "text": [
      "generated explanation: <pad> <extra_id_0> James might be sitting in a chair and listened to the speaker. The auditorium is a large room that is designed to be used for presentations and entertainment. It is also a place to watch a variety of events and events. It is also a place to listen to the speaker. It is also a place to listen to the speakers. It is a place to hear speakers and listen to their ideas. It is also a place to listen to speakers. It is also a place to listen to the speaker. The speaker could be in an auditorium, which is a place that James might be sitting in a small room, or an auditorium is a place that is usually a place to listen to the speaker's speech, which is a place that is a place to hear the speaker. It is also a place to listen to the speaker's speech, which is a place to listen to the speaker. It is also a place to listen to the speaker's voice. It is a place to listen to the speaker. It is a place to listen to the speaker. It is also a place where the speaker is speaking to the speaker's voice. It is a place to hear the speaker's voice. It is a place to listen to the speaker's voice and to listen to the speaker's voice and to listen to the speaker's voice. It is a place to listen to the speaker's voice and hear the speaker's voice. It is a place to hear the speaker's speech. It is a place to listen to the speaker's speech. It is a place to hear the speaker. It is a place to hear the speaker's voice and hear the speaker's voice. It is a place to hear the speaker's voice and hear the speaker. It is a place to listen to the speaker's voice. It is a place to hear the speaker. It is also a place to listen to the speaker. It is a place to hear the speaker's presence. It is a place to hear the speaker's voice. It is a place to hear the speaker's voice. It is a place to hear the speaker's voice. It is a place to hear the speaker's voice. It is a place to hear the speaker's voice. It\n",
      "########\n",
      "*******\n",
      "question: John thought that Mary was beautiful despite her injury.  But Mary believed that she was what?\n",
      "answer: misshapen\n",
      "choices: ['wrong', 'overcast', 'homely', 'bad', 'misshapen']\n",
      "common expl list: [\"If Mary believes she doesn't look normal, but someone else thinks she is beautiful, perhaps she could feel like her form is misshapen.\"]\n"
     ]
    },
    {
     "name": "stderr",
     "output_type": "stream",
     "text": [
      "\r",
      " 16%|█████████████████████████▉                                                                                                                                      | 160/986 [3:37:50<11:25:13, 49.77s/it]"
     ]
    },
    {
     "name": "stdout",
     "output_type": "stream",
     "text": [
      "generated explanation: <pad> <extra_id_0> Mary was injured in a car accident in a car crash in april, but John thought that she was beautiful despite her injury. Mary believed that she was beautiful despite her injuries. Mary believed that she was beautiful despite her injuries. Mary believed that she was a misshapen because she was a calf, but she was a calf, like a calf, and she was a calf, not a calf, or a calf. A calf, or a calf, and she was a calf, or a calf, or a calf, a calf, or a calf, or a calf, or a calf, or a calf, or a calf, or a calf, or a calf, or a calf, or a calf, or a calf, or a calf, or a calf, or a calf, or a calf, or a calf, or a calf, a cout, or cout, or cout, cout, or cout, or cout, cout, or cout, cout, cout, cout, or cout, or cout, or cout, cout, or cout, cout, cout, cout, cout, cout, cout, cout, cout, cout, cout, cout, cout, cout, cout, cout, cout, cout, cout, cout, cout, cout, cout, cout, cout, cout, cout, ut, ut, uuuuuuuuuuuuuuuuuuuuuuuuuuuuuuuuuuuuuuuuuuuuuuuuuuuuuuuuuu\n",
      "########\n",
      "*******\n",
      "question: Where does my body go after I am no longer living?\n",
      "answer: graveyard\n",
      "choices: ['zombie', 'bodycam', 'coffin', 'graveyard', 'funeral']\n",
      "common expl list: ['When one dies, their body is buried in a graveyard.', 'Corpses are buried in graveyards.', 'When a person dies, it is common to bury their bodies in locations called graveyards.']\n"
     ]
    },
    {
     "name": "stderr",
     "output_type": "stream",
     "text": [
      "\r",
      " 16%|██████████████████████████▏                                                                                                                                     | 161/986 [3:39:03<13:00:48, 56.79s/it]"
     ]
    },
    {
     "name": "stdout",
     "output_type": "stream",
     "text": [
      "generated explanation: <pad> <extra_id_0> My body goes anywhere in the world after I am no longer living. The grave is the place where my body goes when I am not alive. The grave is the place where I am left to rest and rest. The graveyard is the place where my body is buried and the place where my body is buried. The graveyard is the place where my body is buried and the place where my body is buried. The graveyard is the place where my body is buried. The graveyard is the place where my body is found and is the place where my body is cremated. The graveyard is the place where my body is cremated and buried. The graveyard is the place where my body is buried. The graveyard is the place where I am buried. The graveyard is the place where my body is placed in a grave. The graveyard is the place where my body is kept in a graveyard is the place where I am buried. The graveyard is a place of graveyard is the place of burial. The graveyard is a place of resting place for the body is kept in a graveyard is the place where I am buried. The graveyard is the place of resting place for my body is kept in a graveyard is located in a grave. The graveyard is a place of burial, where my body is kept in a graveyard. The graveyard is a place of resting place where I can be stored in a grave. The graveyard is where I can be found. The graveyard is a graveyard. The graveyard is located in the cemetery. The graveyard is the place where my body is buried, and the graveyard is the place where I can be found, and the graveyard is the place where my body is the graveyard. The graveyard is the place of worship. The graveyard is the place of worship, and the graveyard, and the place of my body is the place where I can be found in the graveyard of my body is placed in the graveyard to keep my body. The graveyard is the place of my graveyard. The graveyard is the place where my body is kept safe and secure, and where my body is kept safe and where my body is kept safe and secure and where my body is kept safe and secure and where my body is safe and secure. The graveyard is where my body\n",
      "########\n",
      "*******\n",
      "question: Where can you find a bar before traveling a long distance?\n",
      "answer: airport\n",
      "choices: ['las vegas', 'public house', 'airport', 'restaurant', 'michigan']\n",
      "common expl list: ['Bars are often located in airports, and so if a person was traveling a long distance, they might stop at an airport bar.']\n"
     ]
    },
    {
     "name": "stderr",
     "output_type": "stream",
     "text": [
      "\r",
      " 16%|██████████████████████████▎                                                                                                                                     | 162/986 [3:39:36<11:21:18, 49.61s/it]"
     ]
    },
    {
     "name": "stdout",
     "output_type": "stream",
     "text": [
      "generated explanation: <pad> <extra_id_0> A bar is a place to find before traveling a long distance. During a long distance, a bar is a convenient place to stop and eat a drink. A bar is a great way to get a drink before you travel a long distance. Airports are often filled with hotels, restaurants, and bars. They are often located near the airports, so you can find a good bar to drink at. A bar is a great place to stop and enjoy a drink before you leave the airport. Airports are also often located near bars and restaurants that serve a variety of drinks, such as the airport, and they also have a variety of services. They also have a variety of other attractions. A bar is located near the airport and can serve the drinks you want to share. The airport is a great place to drink before you leave the airport. Airports are also a great place to stop and take a drink at the airport. The airport is also a long distance. The bar is a great place to find a long distance bar before you leave the airport. The bar is located near the airport is located near the airport and can be found near the airport and can be found at the airport is a good place to grab a drink. The bar is located near the airport to enjoy a drink before you arrive. The bar is located near the airport to enjoy a long distance from the airport to avoid the long distance bar. The bar is located near the airport to ensure that you can enjoy a long distance bar. The bar is located near the airport to avoid the noise of the airport to enjoy the view of the city. The bar is located in the airport to enjoy a long distance from the airport to enjoy a long distance bar. The bar is located near the airport to check in and out of the airport to enjoy a bar to enjoy a long distance from the airport to avoid the noise of the airport to the airport. The bar is located near the airport to avoid the noise of the airport to avoid the noise of the airport to avoid the noise of the airport to the airport. The airport is a bar is also a popular destination for tourists and tourists. The bar is located in the area, so it is located near the airport. The bar before you leave the bar, so you can also be sure to check in and check in and out of the airport. The bar\n",
      "########\n",
      "*******\n",
      "question: Where might a small ball be bounced from?\n",
      "answer: child's hand\n",
      "choices: ['soccer game', 'street', 'toy store', \"child's hand\", 'on the sidewalk']\n",
      "common expl list: ['A ball much like a toy, and kids often play with them on the streets and sidewalks.', 'Since children enjoy bouncing balls, and they are also relatively small, they would bounce a ball from their hand.']\n"
     ]
    },
    {
     "name": "stderr",
     "output_type": "stream",
     "text": [
      "\r",
      " 17%|██████████████████████████▍                                                                                                                                     | 163/986 [3:40:15<10:34:39, 46.27s/it]"
     ]
    },
    {
     "name": "stdout",
     "output_type": "stream",
     "text": [
      "generated explanation: <pad> <extra_id_0> A small ball is a ball that is thrown from a child's hand. It is a ball that is thrown from a small box or a ball that is placed in a child's hand. It is a ball that is thrown from a child's hand and is therefore a great choice for a child to use as a ball of their own. It is also a great way to make a child's hand more comfortable and more fun. The ball can be easily thrown from a child's hand when it is placed in a child's hand. It is also a great way to encourage children to play. It is also a great way to encourage children to use. It can be used to make a small ball in the hand. It can also be used to make a small ball of a child's hand. It can also be used to create a small ball to be used to make a child's hand. It can also be used to make a small ball in the hands. It can also be used to create a small ball of its own. It can be used to make a child's hand to help them to create a small ball to bounce back and forth between two hands. It can also be used to create a small ball of a child's hand. It can be used to create a small ball to be used to create a small ball to create a small ball to create a small ball to create a small ball to create a small ball to be used to create a small ball to create a small ball to create a small ball to create a small ball to create a small ball to create a small ball to create a small ball to create</s>\n",
      "########\n",
      "*******\n",
      "question: Where do families begin?\n",
      "answer: wedding\n",
      "choices: ['wedding', 'around dinner table', 'supermarket', 'dinner together', 'park']\n",
      "common expl list: ['A wedding is a ceremony in which two people get married, and thus a wedding is where a family begins.']\n"
     ]
    },
    {
     "name": "stderr",
     "output_type": "stream",
     "text": [
      "\r",
      " 17%|██████████████████████████▊                                                                                                                                      | 164/986 [3:40:20<7:44:32, 33.91s/it]"
     ]
    },
    {
     "name": "stdout",
     "output_type": "stream",
     "text": [
      "generated explanation: <pad> <extra_id_0> A wedding is a formal event that is a celebration of the couple’s wedding day. The ceremony is usually held at the wedding ceremony, but the ceremony is usually held at the end of the day. The ceremony is a formal celebration of the couple’s wedding day. The wedding is typically held at the wedding venue, where the couple is able to express their love and commitment to their partner. The wedding ceremony is a special day for the couple and their families. The ceremony is a special day for families because it is a celebration of their wedding day. The ceremony is a time of year for families to begin by capturing the moment. The ceremony is an important part of their wedding day, and the wedding day, and the family will be a time of the day. The wedding is a time to celebrate the day and the day, and the day of the wedding is a time of celebration and celebration. The ceremony is a time to celebrate the couple’s wedding, and the wedding is</s>\n",
      "########\n",
      "*******\n",
      "question: He enjoyed reading newspaper, he consider what a subscription?\n",
      "answer: buying\n",
      "choices: ['gifting', 'buying', 'money', 'literacy', 'knowing how to read']\n",
      "common expl list: ['Buying a subscription to a newspaper is a way to get the newspaper delivered to your home.']\n"
     ]
    },
    {
     "name": "stderr",
     "output_type": "stream",
     "text": [
      "\r",
      " 17%|██████████████████████████▉                                                                                                                                      | 165/986 [3:40:26<5:50:27, 25.61s/it]"
     ]
    },
    {
     "name": "stdout",
     "output_type": "stream",
     "text": [
      "generated explanation: <pad> <extra_id_0> He enjoyed reading newspaper, he consider a subscription to his favorite magazine. He bought a subscription to a newspaper in order to get the best value for his time. He enjoyed reading newspaper, he considered buying a subscription to his favorite magazine, a subscription to his favorite magazine, and a subscription to a magazine. He enjoyed reading newspaper, he considered a subscription to his favorite magazine. He also considered a subscription to a newspaper. He enjoyed reading newspapers, he considered buying a subscription to read a subscription to his favorite magazine. He enjoyed reading a subscription to a subscription to a subscription to read a newspaper. He enjoyed reading, he enjoyed reading a subscription to a subscription to a subscription to a subscription to a subscription to a subscription to a subscription to read a subscription to a subscription to a newspaper. A subscription to a subscription to a newspaper, a subscription to a subscription to a subscription to a subscription to a subscription to a subscription to a subscription to a subscription to a subscription to a subscription to a subscription to a subscription to a subscription to a subscription to a subscription to a subscription to a subscription to a subscription to a newspaper, a subscription to a subscription to a subscription to a subscription to a subscription to a subscription to a subscription to</s>\n",
      "########\n",
      "*******\n",
      "question: What does an animal do when it becomes old?\n",
      "answer: feel pain\n",
      "choices: ['live long', 'leave home', 'feel pain', 'eating', 'sense fear in human']\n",
      "common expl list: ['Ageing animals may have chronic pain as part of the body losing function as it ages.']\n"
     ]
    },
    {
     "name": "stderr",
     "output_type": "stream",
     "text": [
      "\r",
      " 17%|███████████████████████████                                                                                                                                      | 166/986 [3:40:35<4:41:39, 20.61s/it]"
     ]
    },
    {
     "name": "stdout",
     "output_type": "stream",
     "text": [
      "generated explanation: <pad> <extra_id_0> When an animal becomes old, it feels pain. It is also a natural reaction to stress, stress, and stress. It is also a sign of stress, which can be triggered by stress or stress. It is also a sign of weakness and stress. It is also a sign of stress and anxiety. It is also a sign of pain that can be felt by the animal itself. It is also a sign of weakness and weakness. It can also be a sign of weakness. It can also be a sign of weakness and stress, which can be a sign of stress, which can be a sign of weakness and stress. It can also be a sign of stress, which can be a sign of stress. It can be a sign of stress and stress. It can also be a sign of stress and stress, which can be a sign of a sign of weakness. It can be a sign of weakness. It can be a sign of stress, anxiety, and depression. It can be a sign of pain, which can be a sign of a sign of a sign of a sign of a sign of a sign of a feeling of pain. It can also be a sign of a sign of a sign of a sign of a sense of sadness or a feeling of sadness or a sense of guilt or a feeling of pain or a sign of a feeling of loss, sadness, or a sign of a sign of a sign of a sign of a sign of a sign of a sign of a sign of a sign of a sign of a sign of a sign of a sign of a sign of a sign of</s>\n",
      "########\n",
      "*******\n",
      "question: What entity would have a fire extinguisher in their boardroom?\n",
      "answer: most businesses\n",
      "choices: ['boat', 'apartment', 'public building', 'most businesses', 'chemistry lab']\n",
      "common expl list: ['Most businesses would have a fire extinguisher in their boardroom, because they are likely to have a fire in their boardroom.']\n"
     ]
    },
    {
     "name": "stderr",
     "output_type": "stream",
     "text": [
      "\r",
      " 17%|███████████████████████████▎                                                                                                                                     | 167/986 [3:40:47<4:06:21, 18.05s/it]"
     ]
    },
    {
     "name": "stdout",
     "output_type": "stream",
     "text": [
      "generated explanation: <pad> <extra_id_0> A fire extinguisher is a common tool used to control the spread of fires in businesses and other areas of the business. It is a common tool used to control fires and to reduce the spread of fires in a business. It is also used to prevent other fires from occurring in a business. It is also used to prevent other entities from using it effectively. It is also used to control the spread of fires in a business. It is also used to reduce the risk of fires in a business that is used to be a fire extinguisher in their boardroom. Fire extinguishing sounds like a great way to control fires and other emergency situations that are a firefighting environment. It is used to keep the fire extinguishes the fires that can be used by the business. It is used to keep the business from a fire. It is used to keep the fire from causing the firefighting. The fire extinguishing is used to keep the business from being used by the business. The fire extinguishing is used to extinguishing the fire from the boardroom. The boardroom is a safe and effective in preventing the fire. The fire extinguishing. Depending on the entity concerned about the fire extinguish the fire extinguishing. the fire extinguishing fires from spreading to other entities from a fire extinguishing the fire extinguishing. Fire extinguishing the fire extinguishing from the fire extinguishing is a fire that is a fire from the entity’s reputation for being a fire to the business from being a fire. The fire extinguishing fire. The fire extinguishing the fire extinguishing of the fire extinguishing the fire. the fire. The fire extinguishing the fire extinguishing the fire from the fire from the fire from the fire, resulting in a fire from any fire. Depending on the location, the fire extinguishing is important to ensure that the fire. The fire extinguishing. Fire extinguishing fire is a fire extinguishing fire. The fire extinguishing is a fire in\n",
      "########\n",
      "*******\n",
      "question: Where can someone go and buy cheese?\n",
      "answer: market\n",
      "choices: ['pizza', 'bar', 'fridge', 'market', 'refrigerator']\n",
      "common expl list: ['Cheese is sold at markets.', 'Cheese is a dairy product and can be purchased at markets, for the most part.']\n"
     ]
    },
    {
     "name": "stderr",
     "output_type": "stream",
     "text": [
      "\r",
      " 17%|███████████████████████████▍                                                                                                                                     | 168/986 [3:40:52<3:13:26, 14.19s/it]"
     ]
    },
    {
     "name": "stdout",
     "output_type": "stream",
     "text": [
      "generated explanation: <pad> <extra_id_0> The market is a place for people to buy cheese. It is a place for people to go and buy cheese, because it is a place to buy cheese. It is a place where people can buy cheese and buy it at a market. Markets are also great places to buy cheese, as they are filled with cheese and cheese products. They are also a place to buy cheese that is a great way to get a taste of cheese and get a taste for it. The market is a place where people can buy cheese from the comfort of home. The market is a place to buy cheese and cheese and cheese products. The market is a place to buy cheese and cheese at a market to sell. The market is a place to buy cheese and cheese and cheese products that are made from cheese and cheese and cheese is a great place to buy cheese and cheese products that are also a great place to buy cheese and cheese is a great place to buy cheese and cheese products that are made from cheese and cheese products that are made from cheese and cheese market is a place to buy cheese and cheese products that are made from cheese and cheese products that are made from cheese</s>\n",
      "########\n",
      "*******\n",
      "question: Where would you carry food while on a long walk in the countryside?\n",
      "answer: backpack\n",
      "choices: ['backpack', 'table', 'jar', 'box', 'container']\n",
      "common expl list: ['Instead of carrying a jar or container, filling your backpack with food might not disrupt your movements as much when you are walking.', \"Because backpacks are designed to be carried on one's back, they are the most convenient way to carry food while on a long walk.\"]\n"
     ]
    },
    {
     "name": "stderr",
     "output_type": "stream",
     "text": [
      "\r",
      " 17%|███████████████████████████▌                                                                                                                                     | 169/986 [3:41:04<3:02:27, 13.40s/it]"
     ]
    },
    {
     "name": "stdout",
     "output_type": "stream",
     "text": [
      "generated explanation: <pad> <extra_id_0> If you are going to be walking in the countryside, you will need a backpack. The backpack is designed to carry food and water along with the backpack. The backpack is designed to help carry food and water along with it. It is also a great way to carry food and water along with you on a long walk. It is also a great way to carry food and water along the route. It is also a great way to carry a camera or other small items. It is also a great way to carry a camera, bag, or backpacking in the countryside, and can be used to carry food and water bottles, and other items that can be used to carry snacks and snacks. It is also a great way to carry food and water bottles, a backpack can also be used for a long walk. It is also a great way to carry a backpacking in nature. It is a great way to carry food and other items that can be used to carry food and water bottles, and can be used to carry water bottles, and can be used to carry water bottles, and can be used to carry water bottles, and can be used to carry water bottles. It can also be used to carry food items that can be used to carry water bottles, a backpacking in nature. This allows you to carry food items such as a backpacking in nature. It can be used to carry food that can be used to carry food that can be used to carry food that can be used to carry food that can be used to carry small items such as camping trips, camping, and hiking. It can be used to store items that can be used to carry food items that can be used to carry food items that can be used to carry food that can be used to carry food that can be used to carry food items that can be used to carry items that can be used to carry around valuable items such as hiking, camping, and other items that can be used to carry items that can be used to carry items that can be used to carry food.</s>\n",
      "########\n",
      "*******\n",
      "question: What could a driver do that could distract him or her while he or she is in a driving car?\n",
      "answer: smoke\n",
      "choices: ['use mobile phone', 'car crash', 'smoke', 'backache', 'automobile accidents']\n",
      "common expl list: ['Smoking is a common activity that people do while driving, and it could distract them from driving.', 'It can be tricky to smoke and concentrate on driving at the same time, and research has found that smoking in a car with children present is very dangerous.']\n"
     ]
    },
    {
     "name": "stderr",
     "output_type": "stream",
     "text": [
      "\r",
      " 17%|███████████████████████████▊                                                                                                                                     | 170/986 [3:41:15<2:51:40, 12.62s/it]"
     ]
    },
    {
     "name": "stdout",
     "output_type": "stream",
     "text": [
      "generated explanation: <pad> <extra_id_0> Smoke is a visible hazard that can cause a number of problems for drivers. Smoke is a visible sign of a driver being distracted by a distraction, such as a cigarette or a cigarette. The driver can also use the distraction to distract the driver from the road and the other drivers in the car. The driver can also use the distraction to distract the driver from the distractions of the car. The driver can also use the distraction to distract the driver from the road. Smoke is a visible sign of a driver who is distracted by the driver and the driver from the road. Smoke is a sign that the driver is distracted by. Smoke is a sign that the driver is distracted by smoke. Smoke is a sign that the driver is distracted by the driver's attention. The driver can also be distracted by the driver's attention. Smoke can be distracting. Smoke can also distract the driver from the distraction of the driver, which can be distracting. Smoke can also be distracting to the driver. Smoke can be distracting to the driver, which can also be a distraction from the driver. Smoke can be distracting to the driver, which can be a distraction to the driver. Smoke can be distract the driver, and can be distracting to the driver can be distract the driver’s attention. The driver can also be distracted by the distraction of the driver’s surroundings, such as the driver’s surroundings, such as the driver’s surroundings, such as the driver’s surroundings, such as the driver’s surroundings, such as the driver’s surroundings, such as the driver’s surroundings, such as the driver’s surroundings, such as the driver’s surroundings, such as</s>\n",
      "########\n",
      "*******\n",
      "question: The fat man wanted to make a change in his life and make sure it stayed what?\n",
      "answer: permanent\n",
      "choices: ['concretely', 'permanent', 'remain stable', 'stagnant', 'constant']\n",
      "common expl list: ['In changing his life, he wants to make sure he remains in the new lifestyle choices, e.g., not become stagnant to bad choices and fall back into bad choices.', 'His making a decision to change and ensuring the decision is made permanent indicates a desire for a stable, permanent life, which does not change.']\n"
     ]
    },
    {
     "name": "stderr",
     "output_type": "stream",
     "text": [
      "\r",
      " 17%|███████████████████████████▉                                                                                                                                     | 171/986 [3:41:23<2:34:39, 11.39s/it]"
     ]
    },
    {
     "name": "stdout",
     "output_type": "stream",
     "text": [
      "generated explanation: <pad> <extra_id_0> The fat man wanted to make sure that his life would be permanent. The fat man wanted to make sure that his body would remain strong and healthy. The fat man wanted to make sure that his body would remain strong and healthy. This was done by making sure that his body would stay strong and healthy. It was also important to make sure that the changes that he made in his life would be permanent. Permanent changes that would make a permanent change in his life. Permanent changes that would be permanent and lasting. Permanent changes that would be permanent would be permanent if it were permanent, it would also be a permanent change in his life. Permanent changes that would keep him fit in his life. Permanent changes that would be able to stay put to the weight of his life. Permanent changes that would be able to stay in his life. Permanent changes that would be able to keep him in his life. Permanent changes that would be permanent change in his life. Permanent changes that were permanent. Permanent changes that would be permanent changes that would be able to keep him in his life. Permanent changes that would include a permanent change in his life. Permanent changes that would be permanent changes that would be permanent changes that would be permanent changes that would include permanent changes that would include permanent changes that would include permanent changes that would also include changes that would be beneficial to him. Permanent changes that would include the shape of his body, the way he would also include permanent changes that would include permanent changes that would include permanent changes that would include permanent changes that would include permanent changes that would make him stronger and more likely to last for him. Permanent changes that would include permanent changes that would include a permanent change in his lifestyle, which would include permanent changes that would include permanent changes that would include the ability to keep his body, which would include the ability to keep his body, which would include the ability to keep his body, and would include</s>\n",
      "########\n",
      "*******\n",
      "question: where did many colonial kingdoms originate?\n",
      "answer: europe\n",
      "choices: ['saudi arabia', 'europe', 'united states', 'book', 'monarchy']\n",
      "common expl list: ['Colonies and kingdoms often originate in the mother countries of the colonial or kingdom builders, e.g., entities in the United Kingdom and the Netherlands.', 'Many colonial kingdoms in the past can be traced all the way back to their roots in Europe.']\n"
     ]
    },
    {
     "name": "stderr",
     "output_type": "stream",
     "text": [
      "\r",
      " 17%|████████████████████████████                                                                                                                                     | 172/986 [3:41:40<2:54:40, 12.87s/it]"
     ]
    },
    {
     "name": "stdout",
     "output_type": "stream",
     "text": [
      "generated explanation: <pad> <extra_id_0> Many of the colonial kingdoms in Europe originated in the arctic region of the continent, and many of them were located in the northern hemisphere, where they were located in the middle of Europe. The continent was the center of the arctic region, where the continents were centered. They were located in the center of the continent, in the center of Europe, and in the northern hemisphere, which is the center of the continent. The continent is the center of the modern world, and it is the center of Europe. The continents are also home to many of the continents of Europe, which is the center of the world. The continents are located in the center of the continent, where the European continent, which is the center of the continent of Europe. The continent of Europe, which is the center of the western Mediterranean and the eastern Mediterranean, which is the center of the world, and where the continent of Europe, which is the center of the continent. The continent of the continent, the continent of the world, and the continent, and the continents of Europe, which is the center of the continents, which is located in the center of the continent. This region is the center of the continent, which is the center of the europe. The continent of the continent, which is the center of the europe, is the center of the europe of the continent, and the continent of the continent, and the continent. The continent, the continent, and the continent, and the continent, and the continent, and the continent, and the continent, and the continent, and the continent, and the continent, and the continent. The continent of the continent, the continent, and the continent, the continent, the continent, the continent of the continent, the continent, the continent of the continent, and the continent of the continent, the continent, and the continent of the continent, the continent of the continent, and the continent. The continent, the continent, and the continent, and the continent, and the continent, and the continent, and the continent, and the continent, and the continent, and the continent, the continent, the continent, the continent, the continent, the continent, the continent, and the continent, and the continent, and the continent, and the continent, and the continent, the continent, the continent, and the continent, the continent, and the continents, the continent, the continent, and the continent\n",
      "########\n",
      "*******\n",
      "question: Where can a television be stored and hidden?\n",
      "answer: cabinet\n",
      "choices: ['apartment', 'living room', 'bedroom', 'kitchen', 'cabinet']\n",
      "common expl list: ['A television can be stored inside a cabinet.', 'A cabinet is a piece of furniture that is used to store items, and televisions are large, and thus, can be stored in cabinets.']\n"
     ]
    },
    {
     "name": "stderr",
     "output_type": "stream",
     "text": [
      "\r",
      " 18%|████████████████████████████▏                                                                                                                                    | 173/986 [3:41:43<2:18:14, 10.20s/it]"
     ]
    },
    {
     "name": "stdout",
     "output_type": "stream",
     "text": [
      "generated explanation: <pad> <extra_id_0> A cabinet is a type of storage device that can be used to store and hide a television. It is a type of television that can be used to hide a television from view. The location of a television is typically located in a room or a building. It can also be used to store a television in a cabinet. It can be stored in a cabinet or in a room. The cabinet can be a place to hide a television from the outside. The cabinet can be a television that is hidden in a cabinet because it can be used to store and hide a television in a cabinet for viewing and viewing device. The cabinet can also be used to store a television in a cabinet to store a television and can be used to store a television in a cabinet. The cabinet can also be used to store a television is used</s>\n",
      "########\n",
      "*******\n",
      "question: what can get a prisoner in more trouble?\n",
      "answer: attempt to escape\n",
      "choices: ['dream of freedom', 'attempt to escape', 'do time', 'fast for days', 'scape jail']\n",
      "common expl list: ['Prisoners serve time, and when a prisoner attempts to escape, they generally serve extra time.']\n"
     ]
    },
    {
     "name": "stderr",
     "output_type": "stream",
     "text": [
      "\r",
      " 18%|████████████████████████████▍                                                                                                                                    | 174/986 [3:41:50<2:01:24,  8.97s/it]"
     ]
    },
    {
     "name": "stdout",
     "output_type": "stream",
     "text": [
      "generated explanation: <pad> <extra_id_0> A prisoner in more trouble can be tempted to escape by attempting to escape. The temptation to escape is a strategy that can help to reduce the chances of being held in prison. The prisoner can also be tempted to commit suicide or commit a violent act. The escape is a way to escape from the prison and escape from the prison. The escape is a way to escape from the prison and escape the prison. The escape is a way to escape from the prison and escape the prison. The prisoner must try to escape the prison for fear of being in a prisoner. The prisoner can also be tempted to escape. The prisoner can also be tempted to try to escape from the prisoner’s prisoner’s prisoner’s prison. The prisoner can also be tempted to escape from the prisoner’s prisoner’s prisoner’s prisoner’s prisoner’s prison sentenced to a sentence of up to six months of detention. The prisoner can also try to escape the prisoner’s prisoner is tempted to escape. The prisoner can also be convicted of a crime by attempting to escape the prisoner’s prisoner’s prison by escaping the prison sentenced</s>\n",
      "########\n",
      "*******\n",
      "question: The crab was separated from his compatriots out in the sea, where was he likely to be?\n",
      "answer: tide pool\n",
      "choices: ['fish market', 'cooking pot', 'tide pool', 'beach sand', 'farm']\n",
      "common expl list: ['Tide pools are regions of shallow, pooled water that are very exposed to air, making them appealing to crabs that have to breathe.']\n"
     ]
    },
    {
     "name": "stderr",
     "output_type": "stream",
     "text": [
      "\r",
      " 18%|████████████████████████████▌                                                                                                                                    | 175/986 [3:41:52<1:34:48,  7.01s/it]"
     ]
    },
    {
     "name": "stdout",
     "output_type": "stream",
     "text": [
      "generated explanation: <pad> <extra_id_0> If the crab was separated from his compatriots out in the sea, he would likely be separated from them in a tide pool. tide pools are located in the middle of the ocean and are usually located in shallow areas, such as a shallow pool or a shallow one. The crab is likely to be separated from his compatriots in a tide pool, which is a shallow water area. The tide pool is located in a shallow water area, which is a shallow, shallow water area, and is usually about two feet deep and a large enough to hold crabs in a tide pool, which can be found in the shallows, which can cause the crab to be buried in the sea. The crab is likely to be found in a tide pool, which is a shallow, shallow, shallow,</s>\n",
      "########\n",
      "*******\n",
      "question: What item is smelted out of minerals on the country side?\n",
      "answer: metal\n",
      "choices: ['urban city', 'france', 'metal', 'grass', 'state']\n",
      "common expl list: ['Products made by smelters tend to be made out of metals, and mining occurs at the country side.', 'Metals are extracted from mineral mines out in the country side.']\n"
     ]
    },
    {
     "name": "stderr",
     "output_type": "stream",
     "text": [
      "\r",
      " 18%|████████████████████████████▋                                                                                                                                    | 176/986 [3:41:54<1:14:18,  5.50s/it]"
     ]
    },
    {
     "name": "stdout",
     "output_type": "stream",
     "text": [
      "generated explanation: <pad> smelted out of minerals on the country side. smelted out of minerals on the country side, which are typically found in the arctic, Antarctic, and Antarctic regions. Metals are found in the region of the Arctic, which are a major source of metals, which are found in the Arctic, along with other minerals, which are found in the Arctic, Antarctic, and Antarctic regions. This melting out of minerals is a major cause of the melting out of minerals. This melting out of minerals is a process that is a process that is used to make the country side. The melting out is a process called a process called a melting point.</s>\n",
      "########\n",
      "*******\n",
      "question: Where is a good place to store a saw?\n",
      "answer: toolbox\n",
      "choices: ['hardware store', 'tool shed', 'storage', 'tool kit', 'toolbox']\n",
      "common expl list: ['One might likely store a saw in a box with other tools.', 'A toolbox is a container for tools, and a saw is a tool.']\n"
     ]
    },
    {
     "name": "stderr",
     "output_type": "stream",
     "text": [
      "\r",
      " 18%|████████████████████████████▉                                                                                                                                    | 177/986 [3:41:59<1:13:05,  5.42s/it]"
     ]
    },
    {
     "name": "stdout",
     "output_type": "stream",
     "text": [
      "generated explanation: <pad> <extra_id_0> A toolbox is a great place to store a saw. It is a great place to store a saw. It is also a great place to store other tools. It is a great place to store saws, such as saws, saws, saws, and saw blades. It is a great place to store saws in a toolbox. Toolboxes are often the most popular and easiest way to store saws. Toolboxes are also the most popular place to store tools. Toolboxes are a great place to store tools and saws are also a great way to store tools and tools. Toolboxes are also a great way to store tools and saw blades in a toolbox. Toolboxes are also a great place to store tools and saws in a toolbox. Toolboxes are also a great place to store tools and tools and saws. Toolboxes are also a great place to store saws and saws. Toolboxes are also a great place to store tools and tools.</s>\n",
      "########\n",
      "*******\n",
      "question: The jellyfish was pushed along by the water.  It was caught in what?\n",
      "answer: current\n",
      "choices: ['store', 'book', 'park', 'current', 'lake']\n",
      "common expl list: ['Jellyfish are often found in oceans, and oceans have currents.', \"Currents are fast-moving water, and jellyfish can't swim very well, so if caught in a current, it's likely to be being pushed along by the current.\"]\n"
     ]
    },
    {
     "name": "stderr",
     "output_type": "stream",
     "text": [
      "\r",
      " 18%|█████████████████████████████                                                                                                                                    | 178/986 [3:42:09<1:30:09,  6.69s/it]"
     ]
    },
    {
     "name": "stdout",
     "output_type": "stream",
     "text": [
      "generated explanation: <pad> <extra_id_0> The jellyfish was pushed along by the water. The jellyfish was caught in the water because it was pushed along by the water. The jellyfish was then pushed along by the water and pushed along by the water. The jellyfish was caught in the water and subsequently pushed along by the jellyfish. The jellyfish was a solitary creature, which was a large, rounded fish that was able to swim in the current water. The jellyfish was able to swim in the water and be caught in the water. The jellyfish was pushed along by the jellyfish’s currents were also able to eat the jellyfish in the water. The jellyfish was able to swim in the water. It was able to swim in the water. The jellyfish was able to swim in the water. The jellyfish was able to swim in the jellyfish’s jellyfish’s mouth. The jellyfish was able to swim in the water and was able to eat the jellyfish’s mouth. The jellyfish was caught in the water. The jellyfish was pushed along by the jellyfish’s mouth was able to swim in the water and swim in the jellyfish’s mouth. The jellyfish was able to swim in the water and able to swim in the jellyfish’s mouth. The jellyfish was able to swim in the water, which was then released in the jellyfish’s mouth, which was able to swim in the current jellyfish’s mouth, which was able to swim in the current jellyfish’s mouth. It was able to swim in the water, which was able to swim in the jellyfish’s mouth, which was able to swim in the water, and the jellyfish’s mouth. The jellyfish’s swarm. The jellyfish’s swarm and then swim in the current water, which was then pushed along the water and then swarm and then swarm and swarm and swarm and swarm and swarm. The jellyfish was swarm and swarming in the water and swarm and swarm and swarm and swarm and swarm and swarm and swarm and swarm and swarm and swarm and swarm and swarm and\n",
      "########\n",
      "*******\n",
      "question: The dime store was full of old donated goods, it reminded the customer of the what?\n",
      "answer: past\n",
      "choices: ['strip mall', 'past', 'shopping center', 'old movie', 'india']\n",
      "common expl list: ['Dime stores were more popular years ago than today. The sight of the old goods reminded the person of the past.']\n"
     ]
    },
    {
     "name": "stderr",
     "output_type": "stream",
     "text": [
      "\r",
      " 18%|█████████████████████████████▏                                                                                                                                   | 179/986 [3:42:22<1:54:21,  8.50s/it]"
     ]
    },
    {
     "name": "stdout",
     "output_type": "stream",
     "text": [
      "generated explanation: <pad> <extra_id_0> The dime store was filled with old donated goods, and it was filled with old items from the dime store. It was filled with donated goods, and it reminded the customer of the past. It reminded the customer of the past. It reminded them of the past and the value of the items. It reminded the customer of the past and gave them to the customer. The dime store was filled with donated items, and it was filled with old, unused items. It was filled with donated items, and it reminded the customer of the past. The dime store was full of old, donated items, and it reminded the customer that the store was filled with donated items from the past and the customer of the past. The dime store was full of old items that were not as good as new. It was filled with old items that were donated to the store. The store was filled with donated items that were used to make the customer feel like a part of the store that was a time to look at the dime store. The dime store was filled with old items that were no longer needed to be recycled. The dime store was filled with old, used items that were donated to the dime store was filled with donated goods that were no longer needed. The dime store was filled with old goods that were no longer needed to be recycled. The dime store was filled with old items that were donated to the store. The dime store was filled with old and repurposed to the customer. The dime store was filled with old items that were donated to the dime store. The dime store was filled with old, but the dime store was filled with old, and the dime store was filled with old items. The dime store was filled with donated goods and donated to the dime store. The dime store was full of old and full of old and repurposed to store the dime store. It was filled with old and filled with old items that were donated to the dime store to store. The dime store was filled with old items that were donated to the dime store. The dime store was filled with items that were donated to the dime store. The dime store was filled with donated goods and the dime store was filled with old items and the dime store was filled with old items and the dime store was filled with old items and the dime store was filled with the\n",
      "########\n",
      "*******\n",
      "question: Where would you put a saw if you do not need to use it soon and your house only has one floor?\n",
      "answer: tool shed\n",
      "choices: ['logging camp', 'in the vehicle', 'tool shed', 'toolbox', 'basement']\n",
      "common expl list: ['A tool shed is a common structure for organizing and storing tools that are infrequently used.', 'The shed is a good place for storing tools when those tools are not in use.', \"A tool shed is a place where tools are stored, and thus, a good place to store a saw if you don't need to use it soon.\"]\n"
     ]
    },
    {
     "name": "stderr",
     "output_type": "stream",
     "text": [
      "\r",
      " 18%|█████████████████████████████▍                                                                                                                                   | 180/986 [3:42:49<3:08:37, 14.04s/it]"
     ]
    },
    {
     "name": "stdout",
     "output_type": "stream",
     "text": [
      "generated explanation: <pad> <extra_id_0> A tool shed is a place where you can store and store tools, such as saws, saws, and saws. They are usually located in a corner or a corner of the house, so if you have a saw, you can store it in a safe place. Tool sheds are usually located in the basement, which can be used for many purposes, such as storing tools, cutting tools, cutting tools, cutting tools, and more. Tool sheds are places where people can store their saws, cutting tools, cutting tools, cutting tools, and saws, and other items. Saws are usually located in a tool shed, but they can be used to store a saw, but they can also be used to store tools, such as cutting tools, cutting tools, cutting tools, cutting tools, and cutting tools. Saws can also be used to cut cutting tools. They can also be used to cut tools, and can also be used to cut wood, metal, plastic, aluminum, and other materials. Tool sheds are also used to store tools and other materials in a tool shed, such as a tool sheds, such as a saw, such as a saw, and can be used to cut wood, such as a saw can be used to cut wood. They can also be used to cut wood, and they can be used to cut wood, and they can be used to cut wood in a variety of wood, and they can be used to make wood, and they can be used to make a tool sheds, and they can be used to make a variety of wood, to make a saws, etc. Besides, they can be used to cut wood, wood, or wood, wood, or a saw, or a saw, or a tool for making a tool for making a tool for a tool for making a tool for making a saw, etc. A tool sheds are often used to make a tool for making a tool sheds are often used to make a tool sheds are often used to make a tool shed to make a tool shed to make a tool shed to make a tool shed to make a saw. Tool sheds are often used to make a saw to make a tool shed to make a tool shed to make a tool shed to make a tool shed to make\n",
      "########\n",
      "*******\n",
      "question: A person might wear his yarmulke when going to where?\n",
      "answer: synagogue\n",
      "choices: ['demonstration', 'concert', 'garage', 'bus stop', 'synagogue']\n",
      "common expl list: ['Synagogue is a place commonly visited by religious Jews. Men wear yarmulkes (skullcaps) because faith requires that they uncover their heads when going before God.']\n"
     ]
    },
    {
     "name": "stderr",
     "output_type": "stream",
     "text": [
      "\r",
      " 18%|█████████████████████████████▌                                                                                                                                   | 181/986 [3:43:07<3:24:21, 15.23s/it]"
     ]
    },
    {
     "name": "stdout",
     "output_type": "stream",
     "text": [
      "generated explanation: <pad> <extra_id_0> A person might wear his yarmulke when going to a synagogue or a synagogue. The person might wear it to a synagogue or synagogue, but it is not necessary to wear it to a synagogue. It is essential to wear it to a synagogue because it is a safe and secure way to get around and to stay safe. It is also a great way to protect against injury or injury. It is also a great way to protect yourself during a trip to a synagogue, and it is also a great way to prevent a person's eyes, eyes, and other signs. It is also a great way to protect yourself from the elements. It is also a great way to protect the person's hands when going to a synagogue, and it is a great way to protect the person from harm, and it is important to wear it when you are going to a synagogue. A person can also wear his yarmulke when going to a synagogue. The person's head, neck, or back, and other important way to protect against the elements. This way, a synagogue is a way to prevent injury and infection. The yarmulke is a way to protect your identity. It is important to wear it to a synagogue. It is important to wear it to protect the person from the elements. It is important to keep the person from being in contact with the outside world, such as a place of protection. A person can also be protected from the elements. A person's body and mind. Synagogues are a way to keep the body's arms around the world. It is important to keep the wear the yarmulke is a place to keep the person's ability to keep the person's ability to keep the person's safety. In the event, the person's personal safety and security. It is important to wear it when going to a synagogue or a synagogue to keep the person's personal safety.. It is important to wear it to protect the person's personal safety and security risk taking the safety of the person's safety and comfort. It is important to wear it when going to\n",
      "########\n",
      "*******\n",
      "question: Someone takes up exercising to improve their what\n",
      "answer: physical fitness\n",
      "choices: ['losing weight', 'physical fitness', 'breathlessness', 'muscles', 'lost weight']\n",
      "common expl list: ['Exercising is a way to improve physical fitness.', 'Typically people are motivated to exercise in order to become fit.', 'Exercising helps people build their physical fitness.']\n"
     ]
    },
    {
     "name": "stderr",
     "output_type": "stream",
     "text": [
      "\r",
      " 18%|█████████████████████████████▋                                                                                                                                   | 182/986 [3:43:20<3:17:51, 14.77s/it]"
     ]
    },
    {
     "name": "stdout",
     "output_type": "stream",
     "text": [
      "generated explanation: <pad> <extra_id_0> Someone takes up exercising to improve their physical fitness. It is a way to improve their health and fitness, which is why they take up physical fitness. It is a way to improve their health and fitness. It is a way to improve their physical fitness. It is a way to improve their overall health and fitness levels. It is a way to increase their physical fitness and increase their overall health. It is a way to improve their overall health and fitness. It is a way to improve their overall health and fitness. It is also a way to improve their physical fitness. It is also a way to improve their overall health and fitness. It is also a way to improve their fitness level. It also provides a way to improve their overall health and fitness. It is a way to improve their overall health and wellness. It is a way to improve their overall health and fitness level of fitness. It also helps to maintain fitness levels of fitness. It is a great way to improve their overall health. It is a great way to improve their physical fitness. Fitness is an important way to improve the health and fitness level. It is a way to improve the health of the body. It helps to improve their overall health and wellness. Fitness training is a way to improve their ability to maintain their physical fitness. Fitness can help to maintain a person’s overall health and wellbeing. Fitness training can help to maintain physical fitness. Fitness is a way to maintain physical fitness. Fitness is a way to maintain physical fitness. Fitness is a way to improve the health and wellbeing. fitness is a way to improve the overall health and fitness. Fitness is a form of exercise that helps to maintain overall fitness. It also helps to improve their overall fitness and mental fitness levels. It helps to maintain fitness and improves the health of the body and mind. The body and mind. The body and mind. The body and mind is a form of exercise and maintain physical fitness is a form of exercise can improve the health and wellness. It can also help to maintain a healthy lifestyle choices, fitness habits, and improve the health and fitness. Fitness is a way to improve overall health and fitness. Fitness is a form of exercise helps to improve overall health and wellness. Its fitness is a form of exercise is a form of exercise is a form of exercise. It helps to maintain a healthy, active lifestyle. It helps\n",
      "########\n",
      "*******\n",
      "question: Where could you see a sloth that is not real?\n",
      "answer: picture book\n",
      "choices: ['bad dream', 'picture book', 'another place', 'universe', 'zoo']\n",
      "common expl list: ['Reality is generally fractured into \"real\" and \"fusion.\" Sloths are real, meaning they exist (in some form) in reality; sloths are not real (in the way depicted) in a picture book.']\n"
     ]
    },
    {
     "name": "stderr",
     "output_type": "stream",
     "text": [
      "\r",
      " 19%|█████████████████████████████▉                                                                                                                                   | 183/986 [3:43:26<2:40:55, 12.02s/it]"
     ]
    },
    {
     "name": "stdout",
     "output_type": "stream",
     "text": [
      "generated explanation: <pad> <extra_id_0> Sloths are creatures that are not real. They are creatures that are not real and are not able to be seen in a real world. Sloths are creatures that are not real, such as animals, birds, or mammals. They are a sloth that is unable to be seen in a real environment. They are creatures that are not real and are not able to be seen in real life. They are able to see and feel the feelings of a sloth, which is a dangerous animal that is not able to be able to move around the world, and are able to see a sloths. They are also able to hear their surroundings. They are also able to see and hear their surroundings. They are also able to see their surroundings. They are also able to see the world around them. They are able to see a sloth is a sloth is a sloth is a very different environment where they are able to be seen in a variety of environments. They are also able to see the sloth from humans, and they are able to see the sloth is a real sloth is a real sloth is a real sloth is a real sloth is a real sloth is a real sloth is a real sloth is a real sloth is a real slot</s>\n",
      "########\n",
      "*******\n",
      "question: Where are seats often plush?\n",
      "answer: opera\n",
      "choices: ['rest area', 'theater', 'hockey game', 'classroom', 'opera']\n",
      "common expl list: ['Plush seats are generally found in more comfortabe, well-off establishments, and opera is often performed in such, less strict teents of, elegance of the decor.', 'Opera is a high-class form of entertainment, and thus, the seats are often plush.']\n"
     ]
    },
    {
     "name": "stderr",
     "output_type": "stream",
     "text": [
      "\r",
      " 19%|██████████████████████████████                                                                                                                                   | 184/986 [3:43:39<2:43:45, 12.25s/it]"
     ]
    },
    {
     "name": "stdout",
     "output_type": "stream",
     "text": [
      "generated explanation: <pad> <extra_id_0> The seats are often plush because they are often made of wood, metal, or metal. They are often upholstered in velvet, which helps to keep the seats comfortable and comfortable. They are often upholstered with a wide variety of fabric and materials. They are often used for seating in the opera, ballet, or other musicals. This is because of the variety of materials and materials used in the opera. The seats are usually made of plastic, which is a material that is used to support the audience and to provide for the audience. The seats are often lined up in the middle of the opera. The seats are usually made of plastic, which helps to keep the seats comfortable and comfortable. The seats are usually made of wood, which makes them feel comfortable and comfortable. They are often made of plastic, which makes them feel more like a great way to make them stand out from the rest of the seats. The seats are usually made of plastic, which means that they are not as comfortable to use. The seats are also more durable and can be used for seating. The seats are usually made of wood, which can be used to keep the seats comfortable. The seats are often made of wood, which means that they can be used to make them ideal for seating. The seats are often made of wood, which means that the seats are often made of wood. The seats are made of wood, which means that they are made of wood, which means they can be used for seating is also used for seating. The seats are made of wood, which means that they can be used for seating. The seats are often made of wood and are also made of wood and are upholstered. The seats are often made of wood and wood. The seats can be a great way to make them a great way to make them more comfortable and comfortable. The seats are made of wood and are made of wood and can be made of wood or wood. The seats are often made of wood or wooden. The seats are made of wood or wooden furniture. The seats are usually made of wood and can be made of wood and can be made of wood or wood. The seats are made of wood or wood. The seats are often made of wood or wood or wood. The seats can be made of wood or wood. The seats can be made of wood or wood or wood or wood. The seats can be easily upholstered or upholstered to make them comfortable for a variety of wood or wood. The seats can be\n",
      "########\n",
      "*******\n",
      "question: The comforter was used constantly and treaded upon by everyone, where should it be placed?\n",
      "answer: washing machine\n",
      "choices: ['garbage', 'linen closet', 'bedroom', 'washing machine', 'livingroom']\n",
      "common expl list: ['Linens are often used (i.e., the comforter) and washed frequently.', 'When you use your comforter (or any other high-traffic fabric) often, you ought to wash it often too. Therefore it should be kept in the washing machine, to enable quick washing.', 'The comforter was used constantly, so it should be washed frequently. Linen closets are where people store their bed sheets and blankets.']\n"
     ]
    },
    {
     "name": "stderr",
     "output_type": "stream",
     "text": [
      "\r",
      " 19%|██████████████████████████████▏                                                                                                                                  | 185/986 [3:43:49<2:37:21, 11.79s/it]"
     ]
    },
    {
     "name": "stdout",
     "output_type": "stream",
     "text": [
      "generated explanation: <pad> <extra_id_0> The comforter was used constantly and treaded upon by everyone and should be placed in a location where it should be safe and cool. Washing machine should be placed in a location that is safe and cool and dry before use. The comforter was a constant and comfortable place for everyone to rest and rest. The comforter was also a great way to protect the comforter from the cold and cold. It was designed to be able to be used by anyone who needed to wash their sheets and other delicate items. This is because it was designed to prevent any spills and spills. The comforter was also a great way to prevent stains and odors and sanitized and cleaned regularly. The comforter was also a great way to protect the comforter from dust and dirt. The comforter was also able to be used to protect against the elements. The comforter was also designed to prevent the smell of the sun, allowing the air to escape from the air, which washes in the air, and is a great way to prevent the smell of the air. The air is a great way to prevent the dust and dirt. The washing machine is a great way to keep the air from clings to the air and is a great way to keep the air and the air from the air and is a great way to keep the air from a long time. The airy, odor of the carpet and the smell of the air. The comforter is a great way to keep it clean and maintain it. The comforter is a great way to keep it from swelter and prevents the smell of the cold air from escaping the cold air, which can be a great way to keep it clean and keep it safe. The comforter is a great way to keep it clean. The comforter is a great way to keep it from getting dirty, and it can be a great way to keep the comforter from getting dirty. The comforter is a great way to keep it clean. It can be placed on a room from being a constant heat and heat. The comforter should be kept clean and dry. It can also be placed on the floor, making it ideal for keeping it clean and prevents the comforter from getting dirty and soiled. It can also be used for a safe place to keep it clean. It can\n",
      "########\n",
      "*******\n",
      "question: Joe bought a ficus.  He thought it would look good in what part of his home?\n",
      "answer: family room\n",
      "choices: ['family room', 'tropical forest', 'flower garden', 'movie theater', 'hair salon']\n",
      "common expl list: [\"The ficus is an indoor plant, such as a plant one would have in one's family room. The family room is the ideal location for an indoor plant like a houseplant.\"]\n"
     ]
    },
    {
     "name": "stderr",
     "output_type": "stream",
     "text": [
      "\r",
      " 19%|██████████████████████████████▎                                                                                                                                  | 186/986 [3:43:55<2:12:43,  9.95s/it]"
     ]
    },
    {
     "name": "stdout",
     "output_type": "stream",
     "text": [
      "generated explanation: <pad> <extra_id_0> A ficus is a decorative piece that can be found in any room in a home. Typically, a ficus is found in the living room, which can be found in the kitchen, bathroom, or other rooms. The ficus is a versatile and functional piece of furniture that can be found in any room of the home, including the kitchen, dining, and living room. It can be found in many styles and sizes. It can be found in the living room, kitchen, dining room, kitchen, and bathroom. It can be found in many different colors and styles. It can be found in many styles and colors, and it can be found in many different places. It can be found in many different colors and styles. It can be found in many different colors and styles. It can be found in any room. It can be found in many styles. It can also be found in the living room, dining room, kitchen, and kitchens. It can be found in most family rooms. It can be found in the kitchen, dining room, kitchen, and other areas.</s>\n",
      "########\n",
      "*******\n",
      "question: Family is always the best for devotion, but it is also nice if a person has what?\n",
      "answer: loyal friends\n",
      "choices: ['good review', 'headache', 'with cat', 'loyal friends', 'shoes']\n",
      "common expl list: ['We may have devoted friends who would be there for us if we had need.', \"Because times may come when a person would like to go out and have fun with some friends, and it's nice if that person may have friends that he is faithful to.\", 'Loyal friends are always there for you, and they will always be devoted to you.']\n"
     ]
    },
    {
     "name": "stderr",
     "output_type": "stream",
     "text": [
      "\r",
      " 19%|██████████████████████████████▌                                                                                                                                  | 187/986 [3:44:07<2:20:40, 10.56s/it]"
     ]
    },
    {
     "name": "stdout",
     "output_type": "stream",
     "text": [
      "generated explanation: <pad> <extra_id_0> A loyal friend is a great way to show your love and support for a loved one. A loyal friends are people who are loyal to one another and who are loyal to a person. This is because a loyal friend is someone who is able to support a person and encourages them to be loyal to them. This is because a loyal friend is someone who can help you grow in your relationship with a loved one. This is because a loyal friend is able to help you maintain a strong bond with the person you love. This is because of the fact that a person is able to keep up with the family and keep up with the children. This is because a loyal friend is able to keep up with the children you are able to keep up with the day. This is because they are able to keep up with the situation and are able to keep up with the situation. This is because a loyal friend is a great way to keep up with the person and can keep up with the person you are able to keep up with the person you are able to keep up with the person you love you and your family. This is why it is important to keep up with the person you are with. In addition to the family members are important to the relationship and help the person you are able to keep up with the person you are with the person you are in contact with them. This is because they are able to keep up with the people you are in contact with them. In addition to the family and can keep them close and keep them in touch. In addition, if they are able to keep them close and can keep them in touch with them and help them to keep them close and can keep them around them. In addition, loyal friends can help them to keep them around them. In addition, if they are able to keep them around them. In addition, it is also a good example of how they can help them to keep them close and keep them in touch with them. In addition, it is also a good example of a loyal friends can help keep them in touch with them and help them to keep them in touch. In addition, loyal friends can help to keep them in touch with them and help them to keep them in touch with them and to keep them in touch with them. In addition, if they are loyal and help others can help to keep them in touch with them\n",
      "########\n",
      "*******\n",
      "question: Rap is not usually associate with what music often performed by an orchestra?\n",
      "answer: classical\n",
      "choices: ['folk', 'rock', 'good music', 'country music', 'classical']\n",
      "common expl list: ['Rap is generally associated with hip-hop music, which is normally performed by a single artist. Orchestras tend to play classical music, which often is performes with real instruments, rather than manufactured ones.']\n"
     ]
    },
    {
     "name": "stderr",
     "output_type": "stream",
     "text": [
      "\r",
      " 19%|██████████████████████████████▋                                                                                                                                  | 188/986 [3:44:19<2:24:54, 10.90s/it]"
     ]
    },
    {
     "name": "stdout",
     "output_type": "stream",
     "text": [
      "generated explanation: <pad> <extra_id_0> Rap is not a form of classical music, but it is a form of music that is often performed by an orchestra. It is a form of music that is often performed by an orchestra. It is a form of music that is often performed by an orchestra, and is often performed by an orchestra. It is also known as a form of music that is often performed by an orchestra. It is also known as a form of music that is primarily composed of strings, strings, and strings. It is a form of music that is often a form of music that is often a form of music that is often accompanied by a orchestra. It is also a form of music that is often performed by an orchestra. It is a form of music that is often performed by an orchestra. It is also known as a form of music that is often performed by a band. It is also known as a form of music that is often performed by an orchestra. It is a form of music that is performed by an orchestra. It is often performed by an orchestra. It is also performed by a band, which is a form of music that is often performed by an orchestra. It is also a form of music that is often performed by an orchestra, which is often performed by a band, which is a form of music that is performed by an orchestra, which is often performed by an orchestra, and it is often accompanied by a group of musicians. It is also a form of music that is often performed by an orchestra, and it is a form of music that is often performed by an orchestra, which is often performed by an orchestra, or an orchestra, which is a form of music that is often accompanied by an orchestra, or a band, or orchestra, or a band, or an orchestra. It is often performed by an orchestra. It is also known for its ability to perform a piece of music that is performed by an orchestra, and is often performed by an orchestra, and is not a form of music that is not a group of musicians, and is often accompanied by a group of musicians, and it is not a group of musicians, and it is often performed by an ensemble, and it is not accompanied by an orchestra, and it is accompanied by a band, or accompanied by an orchestra, it is accompanied by an orchestra, or\n",
      "########\n",
      "*******\n",
      "question: At what structure can you see people you use a puck professionally?\n",
      "answer: hockey rink\n",
      "choices: ['hockey rink', 'locker room', 'sporting goods store', 'used in hockey game', 'teachers']\n",
      "common expl list: ['Pucks are commonly used in ice hockey, which is a professional activity.']\n"
     ]
    },
    {
     "name": "stderr",
     "output_type": "stream",
     "text": [
      "\r",
      " 19%|██████████████████████████████▊                                                                                                                                  | 189/986 [3:44:27<2:14:53, 10.16s/it]"
     ]
    },
    {
     "name": "stdout",
     "output_type": "stream",
     "text": [
      "generated explanation: <pad> <extra_id_0> At a hockey rink, you can see people you use a puck professionally. At a hockey rink, you can see people using a puck to play hockey. It is a great way to see people use a puck to communicate with each other and to communicate with each other. It is a great way to see people using a puck to communicate with each other. At a hockey rink, you can see people using a puck to communicate with each other. It is a great way to see people use a hockey rink, which is a professional level. It is a great way to see people using a puck to communicate with each other’s needs. It is also a great way to see people using a hockey. It is also a great way to see people using a hockey puck professionally. At a rink, you can see people using a puck to see people using a professional player who is using a hockey puck to communicate with them. It is also a great way to see that people use a professional hockey rink. It is a great way to see that people can see that people can see that people can see that they can see that people can see that they can see that people can see that they can see that people can see that people can see that people can see that they can see that people can see that</s>\n",
      "########\n",
      "*******\n",
      "question: Even when not in flight a bald eagle likes to have a lay of the land, because of this you'll see them perched up where?\n",
      "answer: high places\n",
      "choices: ['colorado', 'natural habitat', 'everglades', 'high places', 'tree']\n",
      "common expl list: ['Eagles like to be high up, so they can see a large area.']\n"
     ]
    },
    {
     "name": "stderr",
     "output_type": "stream",
     "text": [
      "\r",
      " 19%|███████████████████████████████                                                                                                                                  | 190/986 [3:44:39<2:22:16, 10.72s/it]"
     ]
    },
    {
     "name": "stdout",
     "output_type": "stream",
     "text": [
      "generated explanation: <pad> <extra_id_0> A bald eagle likes to have a lay of land, because they like to have a lay of the land, because they like to have a lay of the land. A bald eagle is a bird that lives in a high place because of its habit of perched up high in the sky. This is because of the fact that a bald eagle is able to lay of the land and have a lay of the land on their back. This makes them a good place to be perched high up in the sky. During its flight, a bald eagles' perched high in the sky. This is because they are able to have a high place in the sky. This is because they are able to have a lay of the land and to have a lay of the land. This is because they can be seen in the sky. This is because they are able to see the land in a high place where they can have a good way. This is because they can be seen in the area. They are able to see the land and have a good chance to see the land and have a bald eagles are able to have a lay of the land. A bald eagles are able to see them perched high places. This is because they can be seen in high places. This is because they can be seen in high places, which is a good place to see them from high places that are not in flight. This is because they can be seen from high places that are located in the air and can be seen from the air. This allows them to have a great opportunity to take a high places that are able to take a high place. This allows them to have a high places that are a great way to see the bald eagles are often able to have a high place to get a high place to have a high area of the land. They are a high area to have a high place to rest. They can be seen perched high up to a high place to see the highest point in the air. a high place to see the ground, where they can see the ground from the air and see the air from the air. The high places are also known as high places is because\n",
      "########\n",
      "*******\n",
      "question: When is good time for garlic bread?\n",
      "answer: dinner\n",
      "choices: ['refrigerator', 'dinner', 'jail', 'supermarket', 'going on a date']\n",
      "common expl list: ['Garlic bread is often served with dinner.', 'Typical garlic bread is served with a maincourse and wine or other alcoholic beverage, and both are commonly served with dinner.']\n"
     ]
    },
    {
     "name": "stderr",
     "output_type": "stream",
     "text": [
      "\r",
      " 19%|███████████████████████████████▏                                                                                                                                 | 191/986 [3:44:40<1:43:49,  7.84s/it]"
     ]
    },
    {
     "name": "stdout",
     "output_type": "stream",
     "text": [
      "generated explanation: <pad> <extra_id_0> When is the best time to use garlic bread? When is the best time to have garlic bread? When is the best time to use garlic bread? When is the best time to use garlic bread? When is the best time to use garlic bread? When is the best time to use garlic bread? When is the best time to use garlic bread? When is the best time to use garlic bread?</s>\n",
      "########\n",
      "*******\n",
      "question: Where is the sky fake?\n",
      "answer: planetarium\n",
      "choices: ['shed', 'atmosphere', 'photo', 'outdoors', 'planetarium']\n",
      "common expl list: ['Planetariums are buildings that simulate the sky.', 'Planetariums are places built to simulate the sky indoors; the opposite of outdoors.']\n"
     ]
    },
    {
     "name": "stderr",
     "output_type": "stream",
     "text": [
      "\r",
      " 19%|███████████████████████████████▎                                                                                                                                 | 192/986 [3:44:47<1:38:08,  7.42s/it]"
     ]
    },
    {
     "name": "stdout",
     "output_type": "stream",
     "text": [
      "generated explanation: <pad> <extra_id_0> The sky is a fake replica of the Earth's gravity, and it is a fake planetarium. Planetariums are created by a series of artificial beings that are based on the Earth's gravity and are based on the Earth's gravity. The planetarium is a type of artificial space that is created by the Earth's gravity and gravity. The planetarium is a natural representation of the Earth's gravity and gravity, and is often a fake of the Earth's gravity. Planetarium is also a fake of the Earth's gravity system, which is a fake of the Earth's gravity and gravitational field, which is also a fake. The planetarium is a type of artificial space station, which is a fake, which is a fake spacecraft. It is a fake, which is a fake planetarium, which is a fake, and it is a fake, and it is a fake, and it is a fake, and it is a fake,</s>\n",
      "########\n",
      "*******\n",
      "question: Boats that aren't on the ocean travel across the surface of what?\n",
      "answer: lake\n",
      "choices: ['lake', 'ocean', 'tetrahedron', 'mirror', 'object']\n",
      "common expl list: [\"Lakes (and ponds) are bodies of fresh water surrounded by land, and boats exist on water, and thus, will tend to travel across lakes' surfaces.\"]\n"
     ]
    },
    {
     "name": "stderr",
     "output_type": "stream",
     "text": [
      "\r",
      " 20%|███████████████████████████████▌                                                                                                                                 | 193/986 [3:45:01<2:06:24,  9.56s/it]"
     ]
    },
    {
     "name": "stdout",
     "output_type": "stream",
     "text": [
      "generated explanation: <pad> <extra_id_0> Boats that aren't on the ocean travel across the surface of a lake. The ocean is a vast and vast ocean that is filled with water, lakes, and other marine environments. They are also known as lakes, lakes, and rivers, and lakes. They are also known as lakes, and lakes, and lakes. They are also known as the \"lakes\" because they are often a place to swim, swim, or swim. They are also known as \"lakes\" because they are a place to swim, and can also swim in the water to catch fish and other aquatic environments. They are also known as \"lakes\" because they are often the perfect place to swim, and can swim in and out of the water. They are also known as \"lakes\" for their unique unique characteristics. They are also known as \"lakes\" are the ocean. They are a natural habitat that is a natural habitat that is a natural habitat that is a place to enjoy the beauty of the water. The water that is a place to swim, and are often the place to swim, and can be a place to swim, and can be used to swim, and can be used to fish, and can be used to swim, and can also be used to make a place to swim, and can be used to a good choice for those who are able to swim, or to enjoy the solitude and solitude. They can also be used to swim, and can also be used to swim, and can be used to swim, and can be used to fish, and can be used to swim, and can be used to snorkel, and can be used to fish, and can be used to fish. They can also be used to fish, and can be used to fish, and can be used to explore and enjoy the outdoors. In some areas where there are many different kinds of water. In some areas, they can be used to swim, snorkel, or snorkel, and can be used to fish, and can be used to help protect the environment. In some areas, such as fishing. In some areas, such as swimming, snorkeling, and snorkeling. In some areas, the ocean is a great place to swim, and can be used to enjoy the ocean. In some areas, the water is a great place to swim, kayaks are anchored, kayaks, kayaks, and can be used to swim,\n",
      "########\n",
      "*******\n",
      "question: A small dog lived with a a woman who loved him. Where might he have lived?\n",
      "answer: person's house\n",
      "choices: [\"person's house\", 'dog house', 'canada', 'illinois', 'basket']\n",
      "common expl list: [\"Dogs are often kept as pets, and pets are often kept in their owners' homes.\", 'Animals who live with humans are often in their homes.']\n"
     ]
    },
    {
     "name": "stderr",
     "output_type": "stream",
     "text": [
      "\r",
      " 20%|███████████████████████████████▋                                                                                                                                 | 194/986 [3:45:08<1:55:04,  8.72s/it]"
     ]
    },
    {
     "name": "stdout",
     "output_type": "stream",
     "text": [
      "generated explanation: <pad> <extra_id_0> A person's house is a place where a dog can be found. A person's house is a place where a person can live and work. A person can choose a place to live in, such as a person's house, a place where a dog can be found. A person can choose a place to live, such as a person's house, a place where a person can live and work with a dog. A person can choose a place where a person can be located in a person, such as a person can also choose a place where a person can live and work. A person can also choose a place where a person can choose a place to live, such as a person's house, a place to live a person may also choose a place to live, such as a person's house, or a person may also choose a place where a person may choose a place to live, such as a person may choose to live,</s>\n",
      "########\n",
      "*******\n",
      "question: There are usually four strings on what popular instrument?\n",
      "answer: guitar\n",
      "choices: ['trumpet', 'kite', 'quark', 'guitar', \"bird's nest\"]\n",
      "common expl list: ['A guitar is a stringed instrument with four strings.', 'Guitars have four strings.']\n"
     ]
    },
    {
     "name": "stderr",
     "output_type": "stream",
     "text": [
      "\r",
      " 20%|███████████████████████████████▊                                                                                                                                 | 195/986 [3:45:22<2:15:05, 10.25s/it]"
     ]
    },
    {
     "name": "stdout",
     "output_type": "stream",
     "text": [
      "generated explanation: <pad> <extra_id_0> There are four strings on a guitar, and they are usually a combination of both strings that are a common sight and a common feature. Guitars are a popular musical instrument that is played with a variety of strings, including strings that are often paired with a string. The strings are usually paired with a string or a stringless string. The strings are typically the most common type of instrument used in the modern world, such as guitars, drums, and guitars. They are usually paired with strings. The strings are usually a common feature on guitar. The strings are typically used for playing the guitar and the guitar. The strings are usually a variety of different styles and styles of playing with the same strings are usually used for different styles and styles. The strings are usually acoustic guitars. The strings are usually a variety of strings are usually made up of different colors and patterns. The strings are usually acoustic guitars, which are usually used to make them a popular choice for players to choose from. The strings are usually used to make a single stringed guitar is one of the most popular choice for players who are more versatile and can be used to play a guitar. The strings are also often made from wood and wood, and they are typically made from wood and wood. The strings are usually wood and wood. The woods are usually made of wood and wood. The strings are usually a single stringed to provide a more versatile and versatile instrument that can be used to create a more versatile and versatile and can be used to create a more versatile and versatile. They can be used to create a variety of styles and colors that are easily suited for a variety of materials, such as wood, wood, or wood, or wood, and can be used to create a variety of materials, and can be used to create a variety of materials, such as wood, or a variety of materials, such as wood, and can be used to create a variety of materials, and can be used to create a variety of materials, such as wood, or wood, or wood, or wood, etc. They can be used to create a variety of different materials, and can be used to create a variety of materials, and can be used to create a variety of materials, and can be used to create a variety of different materials\n",
      "########\n",
      "*******\n",
      "question: Where would you find a shelf with toys for young people learning?\n",
      "answer: school building\n",
      "choices: ['corner', 'school building', 'wall', 'library', 'bookstore']\n",
      "common expl list: ['A school building is a place where children learn, and so, a school building would have a shelf with toys for young people learning.', 'School buildings house school libraries, in which you would find shelfs of toys, games and puzzle for students to use while in school.']\n"
     ]
    },
    {
     "name": "stderr",
     "output_type": "stream",
     "text": [
      "\r",
      " 20%|████████████████████████████████                                                                                                                                 | 196/986 [3:45:29<2:04:18,  9.44s/it]"
     ]
    },
    {
     "name": "stdout",
     "output_type": "stream",
     "text": [
      "generated explanation: <pad> <extra_id_0> A shelf with toys for young people learning is a great place to find toys for young people learning. The shelf is a great place to find toys for young people learning. They are often used in classrooms and classrooms, and they are often used in classrooms and classrooms. Totches are also great for educating young people and teaching them about the world around them. They are also great for teaching and learning. They are also great for teaching and learning. They are also a great way to introduce young people to the world of education. The shelf is a great way to find a great way to find toys for young people learning. The shelf is a shelf is also a great way to introduce young people to learning and toy is a great way to introduce young people to learning. The shelf is a great way to introduce young people to learning. The shelf is a great way to encourage young people to learn and to explore the world. The shelf is a great way to introduce young people to learning. The shelf is a great way to introduce young people to learning and to encourage young people to learn new things and to learn about the world. The shelf is a great way to encourage young people to learn and to introduce new skills and to encourage young people to learn and grow as they learn. The shelf is a great way to encourage young people to learn and to encourage young people to learn and to build their confidence and confidence in their abilities and to encourage creativity and creativity in their own ideas and ideas that will help them to learn and to encourage them to grow as they grow and to learn new skills and to<extra_id_1> </s>\n",
      "########\n",
      "*******\n",
      "question: What can you get after drinking too much alcohol?\n",
      "answer: sickness\n",
      "choices: ['become drunk', 'have fun', 'active', 'frequent urination', 'sickness']\n",
      "common expl list: [\"Alcohol (e.g., beer, wine, etc.) is a chemical that alters people's consciousness, making them generally feel unpleasant; subsequently, over-consumption can lead to the vomiting of one's content inside one's stomach. Hence, being\", 'Alcohol is a diuretic, which means that it makes you urinate more frequently. This can lead to dehydration, which can cause sickness.', \"Drinking too much alchohol can impair the body and, consequently, one's ability to think straight. It can also cause sickness.\"]\n"
     ]
    },
    {
     "name": "stderr",
     "output_type": "stream",
     "text": [
      "\r",
      " 20%|████████████████████████████████▏                                                                                                                                | 197/986 [3:45:40<2:09:23,  9.84s/it]"
     ]
    },
    {
     "name": "stdout",
     "output_type": "stream",
     "text": [
      "generated explanation: <pad> <extra_id_0> Sickness is a common occurrence that can occur after drinking too much alcohol. It can cause serious side effects such as headaches, nausea, and vomiting. It can also be caused by stress, anxiety, depression, and anxiety. It can be a serious health problem if you drink too much alcohol. It can be a serious health problem that can result in severe side effects. It can also cause a variety of health conditions, including a variety of gastrointestinal problems, which can lead to a variety of symptoms. Depending on the severity of the sickness is also a sign of fatigue, fatigue, fatigue, and other health issues. Symptoms that can occur when drinking too much alcohol can lead to fatigue and stress. In addition to drinking too much alcohol can lead to a variety of symptoms that can be a sign of illness. Aside effects can occur from a variety of symptoms and can lead to a variety of other health problems. Sickness, gastrointestinal problems, headaches, and other symptoms. Sickness, diarrhea, and other conditions that can lead to sickness. Sickness, sicknesses, and other conditions. Sickness can be a sign of a number of symptoms that can be a sign of a sickness. Sickness, irritable bowel problems, heart attack, and other conditions. Sickness, fatigue, and other health problems. Having too much alcohol can lead to a variety of reasons. It can also be a sign of a person to take a person to feel like they are a cigarette or a rash. Sickness, diarrhea, headache, and other symptoms that can be caused by drinking too much alcohol can be a sign of a rash. It can cause a rash, especially if the alcoholism, and may be a sign of a sign of a person to feel like they have a weakened immune response. A person may experience a variety of side effects that may be a case of sickness. A person's body and/or other health issues that can be a case of sickness. Acute sickness. Acute sickness can be a sign of illness, such as a rash, a rash, fatigue, and/or a rash, and/or a rash, a rash, a rash, and\n",
      "########\n",
      "*******\n",
      "question: WHat is the central bank responding to when they are fighting inflation?\n",
      "answer: problems\n",
      "choices: ['deflation', 'problems', 'spend more', 'people', 'not noticeable']\n",
      "common expl list: ['Inflation is a function of having too much money in the economy. This may cause problems.', 'Inflation is a problem, and the central bank is responding to it by fighting it.', 'Periods of inflation cause problems for businesses and people. The central bank may take steps to fight inflation (reduce it) to respond to this problem. Reducing inflation also solves the overall issues.', 'In order to fight inflation, a central bank must respond to the problem, e.g., economic trouble, which if left alone, would cause inflation']\n"
     ]
    },
    {
     "name": "stderr",
     "output_type": "stream",
     "text": [
      "\r",
      " 20%|████████████████████████████████▎                                                                                                                                | 198/986 [3:45:51<2:13:07, 10.14s/it]"
     ]
    },
    {
     "name": "stdout",
     "output_type": "stream",
     "text": [
      "generated explanation: <pad> <extra_id_0> The central bank is responding to problems when it is battling inflation. Problems are caused by the lack of liquidity and the lack of liquidity. The central bank is also responding to the problems when it is struggling with inflation. The central bank is also responding to the problems by introducing new measures to help the central bank to deal with them. The central bank is also responding to the problems that arise from the central bank's inability to respond quickly to the problems that arise. The central bank is responding to the problems that arise when they are fighting against inflation. The central bank is also addressing them. The central bank is also able to deal with the lack of liquidity. The central banks are also able to deal with the problem by identifying and solving the problems. The central bank is also able to deal with them by addressing the problem of tackling the problem of how to solve the problem. The central banks are also able to provide a way to deal with the problem. The central bank is also able to deal with the problems of the central bank’s problems. The central bank is also able to provide a way to control the level of the economy, ensuring that the economy is not a good way to control the economy, ensuring that the central bank is able to manage the problems efficiently. The central bank is able to manage the problem of the crisis. The central bank is able to deal with the problems and provide a way to solve them, and the central bank is able to manage the problem of a number of problems. The central bank is able to manage the problem effectively. The central bank is able to manage the money it needs of the economy. The central bank is able to manage the problems that are able to manage the problems that are needed to manage the problems that are able to manage the problems that are needed to manage the problems that are able to manage the problems that are needed to manage the problems that are needed to manage the problems that are important to manage the problems that are needed to be able to manage the problems that are needed to be managed. The central bank is able to manage the problems that are needed to be able to manage them effectively. The central bank is able to manage the problem at hand and prevent them from a variety of different problems that are causing the problem. The central banks can help to solve them by reducing the impact of the central bank\n",
      "########\n",
      "*******\n",
      "question: What could a massive building be if it is not constructed well?\n",
      "answer: insubstantial\n",
      "choices: ['insubstantial', 'massless', 'dwarf', 'inconsequential', 'good']\n",
      "common expl list: ['Because the massive structure is so large, poor construction could render it largely inconsequential, or \"insubstantial\", as a structure.', 'A building is typically considered a sizable construction, therefore, if erected poorly, would be construed as being insubstantial.']\n"
     ]
    },
    {
     "name": "stderr",
     "output_type": "stream",
     "text": [
      "\r",
      " 20%|████████████████████████████████▍                                                                                                                                | 199/986 [3:46:02<2:16:52, 10.44s/it]"
     ]
    },
    {
     "name": "stdout",
     "output_type": "stream",
     "text": [
      "generated explanation: <pad> <extra_id_0> A massive building is insubstantial if it is not constructed well. It is insubstantial if it is not constructed well. It is a massive building if it is not constructed well. It is a massive building that is not constructed well. It is a massive building that is not constructed well. It is a massive building that is not constructed well. It is a massive building that is not constructed well. It is not constructed well, and it is a huge waste of resources. It is a massive building if it is not constructed well. It is insubstantial if it is not constructed well. It is a building that is not constructed well, and it is not constructed well. It is a huge building that is not constructed well is a massive building that is not constructed well is a huge waste of resources and energy and energy-efficient building. It is not constructed well. It is a waste of energy and energy. It is a huge building that is not constructed well. It is a massive building that is not constructed well if it is not constructed well. It is insubstantial building. It is a massive building if it is not constructed well. It is a massive building that is not constructed well, it is not constructed well. It is an insubstantial building. It is a massive building. It is not constructed well. It is insubstantial building. It is a huge waste of resources. It is a huge waste of resources, and it is a waste of time to build a massive building is insubstantial building is a waste of space. It is not constructed well. It is a waste of money and it is also a waste of resources. It is a waste of time and energy. It is a waste of resources that it is not constructed well and it is not constructed well. It is insubstantial building is insubstantial if it is not built well. It is a waste of time to build a waste of resources to build a massive building if it is not constructed well. It is a waste of money and it is not constructed well. It is a waste of energy and it is a waste of energy and energy and energy that is not constructed well. It is a waste of energy and it is a waste of resources. It is\n",
      "########\n",
      "*******\n",
      "question: If you rent a condominium in a glove-shaped state where are you?\n",
      "answer: michigan\n",
      "choices: ['great lake state', 'michigan', 'community', 'towels', 'complex']\n",
      "common expl list: ['A condominium is a type of housing that is often rented. Condominiums are often located in complexes, and Michigan is a state that is shaped like a mitten.']\n"
     ]
    },
    {
     "name": "stderr",
     "output_type": "stream",
     "text": [
      "\r",
      " 20%|████████████████████████████████▋                                                                                                                                | 200/986 [3:46:06<1:51:04,  8.48s/it]"
     ]
    },
    {
     "name": "stdout",
     "output_type": "stream",
     "text": [
      "generated explanation: <pad> <extra_id_0> If you rent a condominium in a glove-shaped state where are you? If you rent a condominium in a glove-shaped state, where are you? If you rent a condominium in a glove-shaped state, where are you located? If you rent a condominium in a glove-shaped state, you are in a state called the glove state. It is located in the state of michigan, it is located in the state of michigan. It is located in the state of Michigan, which is the largest city in the state of Michigan, it is located in the state of Michigan, which is located in the state of Michigan, and it is located in the glove state, it is located in the state of Michigan, it is located in the state of Michigan. The glove-shaped state is located in the state of Michigan, which is located in the state of michigan, it is located in the state of michigan, and it is located in the state of Michigan, where it is located in</s>\n",
      "########\n",
      "*******\n",
      "question: where do children play a game?\n",
      "answer: family room\n",
      "choices: ['toy store', 'bar', 'casino', 'table', 'family room']\n",
      "common expl list: ['A family room is a room in a house where family members can play games.', 'A family room is a room in many homes in which families can socialize, often through games. One such game is \"connect four.']\n"
     ]
    },
    {
     "name": "stderr",
     "output_type": "stream",
     "text": [
      "\r",
      " 20%|████████████████████████████████▍                                                                                                                               | 200/986 [3:46:09<14:48:49, 67.85s/it]"
     ]
    },
    {
     "name": "stdout",
     "output_type": "stream",
     "text": [
      "generated explanation: <pad> <extra_id_0> Family room is a great place for children to play a game. Family rooms are a great place for children to have fun and learn new skills. They can also have fun with their parents and friends. They can also play a game in the family room. They can also play a variety of games in the family. They can also play with their friends and family members in a family room. Family room is a great place for children to play a game. Family room is a great place for children to play a game. Family room is a great place to play a game and have fun together. This allows children to play a variety of activities and activities. Family room plays a great way to spend time together as a family room is a great way to keep their memories and memories. Family room is a great way to keep their memories and memories.</s>\n",
      "########\n"
     ]
    },
    {
     "name": "stderr",
     "output_type": "stream",
     "text": [
      "\n"
     ]
    }
   ],
   "source": [
    "from tqdm import tqdm\n",
    "fse_csqa_dev_data_dict\n",
    "fse_csqa_train_data_dict\n",
    "rationale_pair_dev_data = []\n",
    "cc=0\n",
    "good_model = model\n",
    "for da in tqdm(our_data_splits['dev'], total=len(our_data_splits['dev'])):\n",
    "    print(\"*******\")\n",
    "    print(\"question: {}\".format(da['question']))\n",
    "    print(\"answer: {}\".format(da['answer']))\n",
    "    print(\"choices: {}\".format(da['choices']))\n",
    "    #print(\"our_explanation: {}\".format(da['our_explanation']))\n",
    "    id_ = da['id']\n",
    "    if id_ in fse_csqa_dev_data_dict.keys():\n",
    "        common_expl_list = fse_csqa_dev_data_dict[id_]['common_expl_list']\n",
    "    else:\n",
    "        common_expl_list = fse_csqa_train_data_dict[id_]['common_expl_list']\n",
    "    da[\"common_expl_list\"] = common_expl_list\n",
    "    print(\"common expl list: {}\".format(common_expl_list))\n",
    "    inp_ids = torch.tensor(da[\"input_ids\"], device=model.device).reshape(1, -1)\n",
    "    out = good_model.generate(\n",
    "                    inp_ids,\n",
    "                    max_length=512,\n",
    "                    pad_token_id=tokenizer.pad_token_id,\n",
    "                    eos_token_id=tokenizer.eos_token_id,\n",
    "                )\n",
    "    skip_special_tokens = False if \"infilling\" in data_args.io_format else True\n",
    "    words = tokenizer.decode(out[0].tolist(), skip_special_tokens=skip_special_tokens)\n",
    "    print(\"generated explanation: {}\".format(words))\n",
    "    da[\"generated_explanation\"] = words\n",
    "    print(\"########\")\n",
    "    rationale_pair_dev_data.append(da)\n",
    "    cc += 1\n",
    "    if cc > 200:\n",
    "        break\n",
    "    #pdb.set_trace()"
   ]
  },
  {
   "cell_type": "code",
   "execution_count": 51,
   "id": "a7a66b99",
   "metadata": {},
   "outputs": [],
   "source": [
    "import json\n",
    "rationale_pair_save_path = os.path.join(\"./results\", \"72shots_cose_t5_base_text003_200_250_rationales_generator_test_rationale_pair.json\")\n",
    "with open(rationale_pair_save_path, 'w') as f:\n",
    "    json.dump(rationale_pair_dev_data, f)"
   ]
  },
  {
   "cell_type": "code",
   "execution_count": 52,
   "id": "33daef0f",
   "metadata": {},
   "outputs": [
    {
     "data": {
      "text/plain": [
       "dict_keys(['5b8a3081c3235d62bc77e2d15f3ad454', '07f108d5321a66f460685f5c7499ecb2', 'ff1bf2ec835c9df8695ae0cfb5281646', '33ea932a876ac0361c9eefeff1d24e92', '35ad89c198d5d6311a71c993bb7b6cba', 'a2aa95861ef74bf1ecfc55db505e3982', 'af3b9a8b1962cd3bcd19e644d873e7bc', '91e0f4ab62c9d2fd440d73a3f5308d96', 'cfc7fccb8449a2a950c9d2a50991420e', 'edbb57ac2f476679ae547f75ec2bef3e', '8555dd9667d010018961a2f7d1c22704', '8bdbb8caefcc607a9ec7579aa0c87cba', '549cf641318edfc0510fa7c7dbb359e1', 'd6c002d46d9bfa466637cec4a134f332', '3b9ccdcb1c932c46a38e040d3e6c7f5b', '54231f875bb7fe4d3e4afb6eae64387c', '668dc6bce771b10cbf6336f3ec76520a', '900492bd731f8f615ed7c08155737d44', '0b25bbd9e9aa976655e1975e31331709', '1729c737ff92cf558efecde2c6cafc5e', 'cc1a547bdfdcc95e4d632453af14bc96', 'c492b8b9754a181c924c1df19998cbc7', 'd31ee38f67d1173275e120b8ad36039c', '083861fc5ebb9226fff70544f3f83d2b', 'e1744fc698cffb574e5cf4b29a81ce76', '1f492f556fae64f72ce36b6caa242dd0', '27604394ccee83e089f9ffae1883cf07', 'b3dc6d6a5e2f9d7da8eb72816c80b3f8_1', '6bc3ebcfd04965c25bde71339955746c', '69335eb9bc5b7b5df840c38a086bf8b2', 'bc05bc6b4df7a3d25a361515fe8912ad', 'f7c005244d406b9bde48dc8c22003af1', 'f48528156632b9c5b18af9ce2095509b', 'b5baf77d3855935c87f01f5fb2216667', 'db1eb157671109bbb9113b0f71a6b957', '77ddc9134bb27f9962aa2ed5ec5a5ef9', '6abd34442438509b4a00c69d6fd24764', 'b67971747e95ba425a5b81e0ba8d0b28', 'bee2a6eadfaf7a4fa0a214e341ddbe5b', '8ce13c6e08bf38d4cd4af756b661e47c', '80930e9df9ac4ad752749a54e7fc124f_1', '3ffe67fb009529d9b0c49ccd7141ee4a', '8d3dc21a53523850ec80771daaa5ff20', '3310b5b24f03d67179fababf9ae95144', '998381f854f51da2a6ccde45909e5168', 'f427f9de6bf580314531baf86de8acbc', '18844d3aa4e52b331b5382c8244cf4db', '8af63d58cc35061dec38e5448c325988', '768fb09deab56046e1565b6a2556ad5c', '5655a3002dd9a6b7dabede1dd26a5893', '07ea8ff6ee916f2bf9aceab1e19ff99a', 'd35a8a3bd560fdd651ecf314878ed30f', '449de58e919975867255218484a9fc89', '7cf54544d54818d53e7088c0749a3eca', 'd29252ddaf7c7ef491abcce342d7bb98', '4a4f6408fae400ce0beb5bea0f9913e9', 'c306ab28498b67c53decb9dde1d78bd5', 'ba9132ebf2bc3ad21e6a0631dc4e0a77', '026cb9c07a583ec933f2c4c67ae73836', '2a21820a135e1a49883525c055c74a0b', '7c45033e9fd9f1a759923971b14390ed', 'dc964e4f6df6b70815e81e466d0ff717', '2a32b1e541b1daae04690d0d3a4b3310', '6c515b068b4d3aa88a5382224d9b866d', '6c84e79d0595efd99596faa07c4961d0', '42c46e28baf0fc617a07419286178c0a', 'c39131d979c9205c11d0e109e18188e4', 'c592258c88295756833e9796e881057b', '3526550b02d9594abd4fc43553010fc6', '637c710ec9582fd9b9e8eaa3f3fe83bb', '01f01cc3ad152773ef42b30e926912bf', 'c54ddc0f9d170ba65d9f4f2e0bb41d1c', 'ad37795fd9e3a65553683ff305b5113d', '7a3d0c94438a5c8a09364aaebb848a2c', '7c05e8d5a057085455eea243fbd1cd90', '4364b4b342fb7b44434bd6694bf8fd51', '99098375c7b651d524eebac72e358238', '1ddd239a2a6438a891cb411b82e7f450', 'f4bb8ecacb9ce89e040f5f76bc79afb3', '6b9221c1af583ffb43580857d6fde38a', 'cf8e30dd6956d03e3f0f0397112a8696', '456f2fb41cac8c028dcfe2f48637e473', 'c908d7c4633c5e6add9463bdd47cb27e', '2de08c7a518b7c226e19bdc8fc10ef1d', 'cd639cf3ff82f825ace7dd2b087562bd', 'e3c6d147f8a727d314046e70e9579ba0', 'b9b82aa4c236cd342ff95455b8516a42', 'e4976ee741cf4b28b8a42780ffb15774', '8d275acea05fd16295c659c504576a9b', '3bf06235a537adc9d85431846595b800', 'a7d51b753c2113d8b2dbd0ebb5375855_1', 'bcc5dd6292a64d8fa17cd07c360b335d', '46ba5d2b8cfc6708e5e2618568d8730e', '9f9ca9bb06d6afc31b19c365fb29a1c9', '3d9c3253e24fb108cea9083e8a853cf2', '3b8e1d236f5169b6c833a994d6d9c39a', '6ca8439d062de4d43d7d471c508b78db', 'ec86900559a0faf2aef066e511a4cfa6', '57e96118fee6e2bbac5f59790fc833c0', '520b0eea9148e3cb4d45aa69a55491eb', '6be05d227f4f6fe727218fc8be9df340', '113aaea2b1a27a976547f54e531d99bb', '2f0931adc3d0d422d9ab6264395e89d8', 'cce1b59f7c4f540a84a1a7d6d88548c4', '870b07a1c5af2e956673a9680da99852', '34005ef0caafefc8585c9fcd50e94557', '22458fdcead20e2def0df0d92d5806f6', 'ec224c1dbfb569cce7ec317fe987ae68', 'ede4d302fc2ffe07703158f83c1493f2', 'ecd32cc0c17d4738a27bba3399f04591', '5c171b9837af49211891ce40e4a10204', '801431167b8bff06b9870abe9721536b', 'b47d912136e3304cb5e5890b6b879551', 'd0bd5b5ee7319d1c4727e38d429dd54e', '78276a4eab6e8d6b9ae3749211816977', 'ec79ef747bb89281923edb89ba26786d', '0e80f2afe5c4f652e8720b52d7c06c87', '39572e0ba1db51fa74f7fc2d90c5ec7f', '56417ee33b44f0d916bedfb6fd99b0ec', 'f996430ce208606452868fd2e739d409', '858a5eaa587fe0e266722228671a6bd1', '273d0134e8ce53d4ebcf41ca7fde02af', '49e466b1782aa4837dae53ff891fcdee', '08d908ed723f813574992195d61386a2', '7192c9f5c513aac9042bad595ff5af9f', 'aa4c5d2d348796b8d7fa324f27f4c34f', '0e52659484f2f6d763cf0d38d4c5999d', '4423c006f2a43f222d4c4e97360c25d3', 'f4a75bf3f115b826a8097edfd0ff2781', '07b51b231a9d6a143d8a73e69121e1b1', 'c2a8c6814ed3e207771cfc23b3b42cf1', 'f13efb91090dd28fd2b3c1f4dde680fd', '985a4f1a3f31f1ba6654f4fc48f504df', '9e5ce2b7d9eb404cdf8c7317dd0b5a59', 'a400b9fd1e319f901471c4b42d401c52', '042898e0c71adac5d123aaa6221c9754', '29c194d032a266a7160bff6f546a4d9d', 'db0cfd52ca6b2bbfcf26d1a898fd929b', '2a0e82bbf1471290c93c8f2a11af197f', '49b4c9e1bd7946a819e173ce8fa4c7c9', '6cb895ce89995f6be422f7c4167c7638', 'df1bf6f3f87975aa0c1b6d6153d9ecef', '1bf4c6b5bd870b1a079106e1e97e5d09', '8ae24d3ff199077a59e0d970feb665b7', 'bb503ece4eac41dfe608a1dcb654e6bf', '6e77de03bee86d6c20780e14f00944d0', '5799089c131e26473697afc54d5f6964', '895aa97bb84d874d71b2aed572cebfdd', '23d97480fe45bace231503f8fc367a5b', 'a2977fd575faba162d04a490dabd1b9b', '5a1c8a9dbbb60e523cc1ba14a370729c', '5496c7293f653120e5a5213db2d7b103', '7044d82a456d0fa6f0210abb03cbf2c4', '15b090801256085ad465e74af47cbee9', 'aa984e2b487d08889bc0c73bab5ac945', '4302e727e47f464511d4d04f22bed0d2', 'b6b66d4519a84b8331ea55f84767e9df', '0e5c7c0cec5b693e52f74f5f879d84fb', 'e408a5a031caec33782cb3b3a005eecc', '96cb628fb7ed2f53245598f707ed2b80', '2067720531fc03c017af941cec2f6f40', '5b8d76889510384b38b72945e8d28f53', 'cf33e0f5891ce53a716432be06a46ee1', '24eebfa678112100803da16dde148b2d', '0c2fa15a02d0b6ca6707e98fac7589e4', 'c2c2a387fd9a6a26cff636008de21f71', 'f20d40bc4af588223e880e0bb58b27b8', 'b42ef8be1748c19fa5938de5396f8fad', '57b83653d82b27d32bc39228130f3516', '2192c5c2145a6e03755ad89a02e64055', '175e7dcdded13d5adafaebf2264c3abd', '8d4b0312f02be445e09a9462873d02bb', 'cfa081b5ba90dae4d7ddb5b7ad9d369a', 'd6bb990e8c409d2b3af37a2da198e01f', '20a3bb788cf408d9a3e25e610fe60905', 'af11faa29097b71141fe192ad019d1dd', '6915dfdefe3b1cd5fd8886c8bb84929a', '43ba9669564217f2f909f33acbedaf95', 'fce1c5d069758aea57a787fc98dcf7a9', '32758ab86d888be680845b0dfe7de35e', '7ea57ee4580042b0a6a40479c8ace3e4', '21fb76bd8349628b441c76f47c33e77b', '3fe45ab3bd4a844ea290050fc0ece8c1_1', '3dee8fc7f0a3fbf4de111b6686fca157', 'ceafca2445b1b974d085a8cce38e8e44', '42520bf3f93f8de23670044e019001a3', '5ea6b94d1a911365b06cf776919413e8', '2d3c9d3dff1a7a8253180cb3de1ceeea', 'a4892551cb4beb279653ae52d0de4c89', 'e050bce7048da1b3743a54153e91694e', 'eb50f536830ba18ab987c7ff652e2aba', '6386bcf080633bc3eeb3317a5435b7b7', '839f3c37622c1ed5eebc9cd0b9d658e8', '009a7aabffe0583fc2df46656b29c326', 'c82ed0c2a2e115452b4d596c5faafbcf', '01abce8c4964371d85a5be2019f75827', '7d937233b4a9043da0b976dbd42d141b', 'c611875b43b67b91030b889b267bbcb3', '7bc1198664b376f79d584725ad7f874b', '5e260e1d96187716888cbd968010bb65', 'fde48d43e27cefed6ed9c52514e0bb6d', '43ab0ff711e60d51f943bbd2cdd6515a', '1a8b3c2a46efabcbd506f9cf70886ed0', '48a315cfa3ce11f7a9d615bc854331d5', '095767956c500ca1af7cf7671556de5b', 'de54d03e69d9765872f95ff06ed21499', 'cbf3dd48b4d591fc872a53cd4b9dd3af', '35872be88df5f6c4a6600020266a5458', 'a90f9197a13c64089c9ba95bcba275ad', 'bd4e80fa6642a76c064d0bc924411fb0', '008b7ba0c039f6d0d542c6c90aae173c', 'ace8fa2943ba8414aebdb74b48906fae', '1caf93d6a22dc8190e19c14bbe1fafda', '7c8bc9c0e56389eef033bca40c88c151', '6195ed74cf445cb5d991e1076a080dde', '8086f022f2d4a4888ae1f8c7e4541ab9', '1e5a138b4c7d456c37abf4990b402bbe', '3f4b48708d08f8bf7bec796531023f9c', '60e92cd2f35c345872d1a898e1718d55', '9889e5389917d812c09d6e5d382d333d', '46351b3a6beb694c5f623583a3b1473d', '7b7941b883328ad39048d4dfb1eb5623', '7d7f7d7a8ae3b20ca9fc0da6efe467b4', 'c961578f4c5768b67b843e5d2ce18452', '514310637fb43a252bfadc8cbf79b277', '5279a2ea333ba8a5bf3a7637a7279da1', '5622e49306bb82ec1cec817ad0506c60', 'fcd39cfa321728fea069a6ae4285b06f', '26bd85f05d29863ed777a4f1a4b8fa63', '31487ab8b1e8f12e252590cc58bd19c2', 'ffd89796a9b09bef56c5803f188764c6', 'ba3a2b9ff289c106051163f840a6f5ba', 'b1f36d1c8ab7e5a28783cb38e8709c27', '5c2bc4335c8860342ec2d568ceb6ac6b', '36c1f50eec01c287b8ef6ffe69fe0528', '515834727e23e30ab7c8fe5ba7e9a765', 'a15d564d0be6996251b5d523ac62db2a', '8f01273422a370a8dbda6bf473a395a0', 'cabefb7063a728e77abd44d97397a2a4', '1bc986f8aea88d6927d8a45367855a94', '484f6e4fb8e6431b010c299490b72e3c', 'a7e3de0719fe30e7048f67426e29fdd1', 'a617eb4d27edea93e7fd630ce00c8219', '2c0030cc14a27be2401dcfdaa501f0fc', 'cf02cca40a47c2deefd8b2e5a5ff2f70', 'ea0e7771afd86a59fd9f7764b77e3fa4', 'c1aebf059c5102f4e773f7fe4afe13f0', '95a85df48902d23eb3fda25a99fca1a0', 'a4b44a986e7f9045432e20ea75611df4', '05490e6c191fbc3c2fe0033ed0bd8aa0'])"
      ]
     },
     "execution_count": 52,
     "metadata": {},
     "output_type": "execute_result"
    }
   ],
   "source": [
    "fse_csqa_dev_data_dict.keys()"
   ]
  },
  {
   "cell_type": "code",
   "execution_count": null,
   "id": "bd852d7d",
   "metadata": {},
   "outputs": [],
   "source": []
  }
 ],
 "metadata": {
  "kernelspec": {
   "display_name": "Python 3 (ipykernel)",
   "language": "python",
   "name": "python3"
  },
  "language_info": {
   "codemirror_mode": {
    "name": "ipython",
    "version": 3
   },
   "file_extension": ".py",
   "mimetype": "text/x-python",
   "name": "python",
   "nbconvert_exporter": "python",
   "pygments_lexer": "ipython3",
   "version": "3.7.0"
  }
 },
 "nbformat": 4,
 "nbformat_minor": 5
}
