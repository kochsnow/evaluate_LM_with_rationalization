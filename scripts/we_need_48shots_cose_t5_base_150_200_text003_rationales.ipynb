{
 "cells": [
  {
   "cell_type": "code",
   "execution_count": 1,
   "id": "f5286ba7",
   "metadata": {},
   "outputs": [],
   "source": [
    "import wandb\n",
    "# wandb.login()\n",
    "import os\n",
    "# os.environ[\"WANDB_DISABLED\"] = \"true\"\n",
    "# %env WANDB_PROJECT=evaluate_LM_with_rationalization"
   ]
  },
  {
   "cell_type": "code",
   "execution_count": 2,
   "id": "30300ea6",
   "metadata": {},
   "outputs": [],
   "source": [
    "# import gpt3\n",
    "import logging\n",
    "import math\n",
    "import os\n",
    "\n",
    "from typing import List, Dict, Any, NewType\n",
    "\n",
    "InputDataClass = NewType(\"InputDataClass\", Any)\n",
    "os.environ[\"CUDA_VISIBLE_DEVICES\"] = \"0\"\n",
    "from transformers import (\n",
    "    T5Config,\n",
    "    T5ForConditionalGeneration,\n",
    "    T5Tokenizer,\n",
    "    HfArgumentParser,\n",
    "    TrainingArguments,\n",
    "    set_seed,\n",
    "    EarlyStoppingCallback\n",
    ")\n",
    "from transformers.trainer_utils import EvaluationStrategy\n",
    "from transformers.integrations import TensorBoardCallback\n",
    "import transformers\n",
    "from transformers import Trainer\n",
    "\n",
    "#from feature_conversion_methods import format_instance\n",
    "\n",
    "from custom_args import (\n",
    "    DataTrainingArguments,\n",
    "    ModelArguments\n",
    ")\n",
    "from metrics import evaluate\n",
    "import torch\n",
    "import datasets\n",
    "import git\n",
    "import time\n",
    "from datetime import datetime\n",
    "import sys\n",
    "from tqdm import trange\n",
    "import random \n",
    "import pandas as pd \n",
    "import jsonlines\n",
    "from copy import deepcopy \n",
    "\n",
    "logger = logging.getLogger(__name__)\n",
    "transformers.logging.set_verbosity_info()\n",
    "import re\n",
    "def set_global_logging_level(level=logging.ERROR, prefices=[\"\"]):\n",
    "    \"\"\"\n",
    "    Override logging levels of different modules based on their name as a prefix.\n",
    "    It needs to be invoked after the modules have been loaded so that their loggers have been initialized.\n",
    "\n",
    "    Args:\n",
    "        - level: desired level. e.g. logging.INFO. Optional. Default is logging.ERROR\n",
    "        - prefices: list of one or more str prefices to match (e.g. [\"transformers\", \"torch\"]). Optional.\n",
    "          Default is `[\"\"]` to match all active loggers.\n",
    "          The match is a case-sensitive `module_name.startswith(prefix)`\n",
    "    \"\"\"\n",
    "    prefix_re = re.compile(fr'^(?:{ \"|\".join(prefices) })')\n",
    "    for name in logging.root.manager.loggerDict:\n",
    "        if re.match(prefix_re, name):\n",
    "            logging.getLogger(name).setLevel(level)\n",
    "set_global_logging_level(logging.ERROR, [\"datasets\"])\n",
    "\n",
    "\n",
    "CONFIG_MAPPING = {\"t5\": T5Config}\n",
    "MODEL_MAPPING = {\"t5\": T5ForConditionalGeneration}\n",
    "TOKENIZER_MAPPING = {\"t5\": T5Tokenizer}\n",
    "\n",
    "\n",
    "def set_other_seeds(seed):\n",
    "    torch.backends.cudnn.benchmark = False\n",
    "    #torch.backends.cudnn.deterministic = True\n",
    "    os.environ['PYTHONHASHSEED'] = str(seed)\n",
    "\n",
    "# inspired by DefaultDataCollator from:\n",
    "# https://github.com/huggingface/transformers/blob/master/src/transformers/data/data_collator.py\n",
    "# modified to perform batch-level padding.\n",
    "class SequenceCollator:\n",
    "    def __init__(self, model, pad_token):\n",
    "        self.model = model\n",
    "        self.pad_token_mapping = {\n",
    "            \"labels\": -100,\n",
    "            \"attention_mask\": 0,\n",
    "            \"decoder_attention_mask\": 0,\n",
    "            \"input_ids\": pad_token,\n",
    "        }\n",
    "\n",
    "        self.columns = [\n",
    "            \"input_ids\",\n",
    "            \"attention_mask\",\n",
    "            \"labels\",\n",
    "            \"decoder_attention_mask\",\n",
    "        ]\n",
    "\n",
    "    def __call__(self, examples: List[Dict[str, InputDataClass]]) -> Dict[str, torch.Tensor]:\n",
    "        # re-format inputs for training\n",
    "        batch = {}\n",
    "        for key in examples[0].keys():\n",
    "            if key in self.columns:\n",
    "                tmp_list = []\n",
    "                for item in examples:\n",
    "                    tmp_list.append(item[key])\n",
    "\n",
    "                # pad lists to max length\n",
    "                if isinstance(tmp_list[0], list):\n",
    "                    max_length = max(map(len, tmp_list))\n",
    "                    tmp_list = [\n",
    "                        el + [self.pad_token_mapping[key]] * (max_length - len(el))\n",
    "                        for el in tmp_list\n",
    "                    ]\n",
    "\n",
    "                batch[key] = torch.tensor(tmp_list, dtype=torch.long)\n",
    "        return batch\n"
   ]
  },
  {
   "cell_type": "code",
   "execution_count": 3,
   "id": "2fa5a75a",
   "metadata": {},
   "outputs": [],
   "source": [
    "from collections import defaultdict\n",
    "import random\n",
    "\"\"\"\n",
    "Example-to-Feature conversion methods\n",
    "Modified from\n",
    "https://github.com/salesforce/cos-e/blob/master/code/generation/train_commonsenseqa_v1.0.py and \"\"_v1.11.py (identical)\n",
    "as well as Tensorflow code for WTF?: \n",
    "https://github.com/google-research/google-research/blob/master/wt5/wt5/preprocessors.py\n",
    "\"\"\"\n",
    "# This code is based on https://github.com/allenai/label_rationale_association/blob/main/feature_conversion_methods.py\n",
    "\n",
    "unified_qa_esnli_label_mapping = {0: 'yes', 1: 'maybe', 2: 'no'}\n",
    "unified_qa_esnli_label_mapping_upper = {0: 'Yes', 1: 'Maybe', 2: 'No'} \n",
    "wt5_esnli_label_mapping = {0: 'entailment', 1: 'neutral', 2: 'contradiction'} \n",
    "unified_qa_sbic_label_mapping = {\"offensive\": 'Yes', \"not offensive\": 'No'}\n",
    "\n",
    "def format_instance(\n",
    "        example,\n",
    "        tokenizer,\n",
    "        explanation_sep,\n",
    "        max_seq_length=None,\n",
    "        datasource=None,\n",
    "        io_format=None, \n",
    "):\n",
    "    assert datasource in {\"cos_e\", \"esnli\", \"sbic\", \"sensemaking\", \"ecqa\"}\n",
    "\n",
    "    if datasource in [\"cos_e\", \"ecqa\"]:\n",
    "        input_string, answer_string = cqa_formatting(example, io_format, explanation_sep, datasource)\n",
    "    elif datasource == \"esnli\":\n",
    "        input_string, answer_string = esnli_formatting(example, io_format, explanation_sep)\n",
    "    elif datasource == 'sbic':\n",
    "        input_string, answer_string = sbic_formatting(example, io_format, explanation_sep)\n",
    "    elif datasource == 'sensemaking':\n",
    "        input_string, answer_string = sensemaking_formatting(example, io_format, explanation_sep)\n",
    "    else:\n",
    "        raise ValueError(\"Unknown task. Currently supported: esnli, cos_e, sbic, sensemaking, ecqa.\")\n",
    "    \n",
    "    if 'unified' in io_format and 'unifew' not in io_format:\n",
    "        input_string += '</s>'\n",
    "\n",
    "    input_string = ' '.join(input_string.split())\n",
    "    answer_string = ' '.join(answer_string.split())\n",
    "\n",
    "    input_string = ' '.join(input_string.split())\n",
    "    answer_string = ' '.join(answer_string.split())\n",
    "\n",
    "    encodings = tokenizer.encode_plus(\n",
    "        input_string,\n",
    "        max_length=max_seq_length,\n",
    "        pad_to_max_length=False,\n",
    "        return_token_type_ids=False,\n",
    "        return_attention_mask=True,\n",
    "    )\n",
    "\n",
    "\n",
    "    # note even with \"lm_labels.shift_right()\", the decoder attention mask length is still correct since we remove the last token\n",
    "    dec = tokenizer.encode_plus(\n",
    "        answer_string,\n",
    "        max_length=max_seq_length,\n",
    "        pad_to_max_length=False,\n",
    "        return_token_type_ids=False,\n",
    "        return_attention_mask=True,\n",
    "    )\n",
    "\n",
    "    encodings[\"labels\"] = dec[\"input_ids\"]\n",
    "    encodings[\"decoder_attention_mask\"] = dec[\"attention_mask\"]\n",
    "    encodings[\"question_encoding\"] = encodings[\"input_ids\"]\n",
    "\n",
    "    #return encodings\n",
    "    return {**example, **encodings}\n",
    "\n",
    "#这里很简单 定义好输入输出string就可以的\n",
    "def cqa_formatting(item, io_format, explanation_sep, datasource):\n",
    "    question = item[\"question\"]\n",
    "    answer = item[\"answer\"]\n",
    "    abstr_expl = item[\"abstractive_explanation\"].lower() if datasource == 'cos_e' else item[\"explanation\"].lower()\n",
    "\n",
    "\n",
    "    if io_format == 't5_fewshot_infilling_with_choices':\n",
    "        input_string = f\"explain {datasource} question: {question} choice: \" + \" choice: \".join(item[\"choices\"]) + f\" <extra_id_0> {explanation_sep} <extra_id_1>\"\n",
    "        answer_string = f\"<extra_id_0> {answer} <extra_id_1> {abstr_expl} <extra_id_2>\"\n",
    "    elif io_format == 't5_fewshot_infilling_more_natural':\n",
    "        input_string = f\"explain {datasource} question: {question} choice: \" + \" choice: \".join(item[\"choices\"]) + f\" The answer is <extra_id_0> {explanation_sep} <extra_id_1>\"\n",
    "        answer_string = f\"<extra_id_0> {answer} <extra_id_1> {abstr_expl} <extra_id_2>\"\n",
    "    elif io_format == \"squad\": \n",
    "        input_string = f\"explain {datasource} question: {question} context: \" + ', '.join(item['choices']) # explain cos_e question: When getting in shape you need to have this in between workouts? context: give up, period of recovery, jogging\n",
    "        answer_string = f\"{answer} {explanation_sep} {abstr_expl}\" # period of recovery because without a period of recovery you will not get any gains.\n",
    "    elif io_format == \"record\": \n",
    "        # might not work because cos_e doesn't have a passage \n",
    "        input_string = f\"explain {datasource} query: {question} entities: \" + ', '.join(item['choices']) # explain cos_e query: When getting in shape you need to have this in between workouts? entities: give up, period of recovery, jogging\n",
    "        answer_string = f\"{answer} {explanation_sep} {abstr_expl}\" # period of recovery because without a period of recovery you will not get any gains.\n",
    "    elif io_format == 'unifiedqa_matching':\n",
    "        choice_ids = ['(A)', '(B)', '(C)', '(D)', '(E)']\n",
    "        input_string = f'explain {question.lower()} \\\\n'\n",
    "        for choice_id, choice in zip(choice_ids, item[\"choices\"]):\n",
    "            input_string += f' {choice_id} {choice.lower()}'\n",
    "        answer_string = f\"{answer.lower()} {explanation_sep} {abstr_expl.lower()}\"\n",
    "        answer_string = answer_string.lower()\n",
    "    elif io_format == 't5_fewshot_infilling_without_choices_use_refined_expl':\n",
    "        input_string = f\"explain {datasource} question: {question} choice: \" + \" choice: \".join(item[\"choices\"]) + f\" <extra_id_0> {explanation_sep} <extra_id_1>\"\n",
    "        input_string = f\"explain {datasource} question: {question} answer: {answer}\" + f\" {explanation_sep} <extra_id_0>\"\n",
    "        answer_string = f\"<extra_id_0> {item['our_explanation']} <extra_id_1>\"\n",
    "\n",
    "    else:\n",
    "        raise ValueError(\"The IO format is not supported. Choose `standard` or `masked_cause_generate`.\")\n",
    "    \n",
    "    return input_string, answer_string\n",
    "\n",
    "\n",
    "def esnli_formatting(item, io_format, explanation_sep):\n",
    "\n",
    "    premise = item[\"premise\"]\n",
    "    hypothesis = item[\"hypothesis\"]\n",
    "    answer = unified_qa_esnli_label_mapping[item[\"label\"]] if 'unified' in io_format else wt5_esnli_label_mapping[item[\"label\"]]\n",
    "    abstr_expl = item[\"explanation_1\"].lower() \n",
    "    # Dev/test instances have more than one explanation annotated; merge them into one sequence separated by [SEP] \n",
    "    for k in [2,3]:\n",
    "        if f\"explanation_{k}\" in item and item[f'explanation_{k}']!='': \n",
    "            abstr_expl += f\" [SEP] {item[f'explanation_{k}'].lower()}\"\n",
    "\n",
    "    if io_format == 'standard':\n",
    "        input_string = f\"explain nli hypothesis: {hypothesis} premise: {premise}\"\n",
    "        answer_string = f\"{answer} {explanation_sep} {abstr_expl}\"\n",
    "    elif io_format == 't5_fewshot_infilling':\n",
    "        input_string = f\"explain nli hypothesis: {hypothesis} premise: {premise} <extra_id_0> {explanation_sep} <extra_id_1>\"\n",
    "        answer_string = f\"<extra_id_0> {answer} <extra_id_1> {abstr_expl} <extra_id_2>\"\n",
    "    elif io_format == 't5_fewshot_infilling_more_natural':\n",
    "        input_string = f\"explain nli hypothesis: {hypothesis} premise: {premise} This is <extra_id_0> {explanation_sep} <extra_id_1>\"\n",
    "        answer_string = f\"<extra_id_0> {answer} <extra_id_1> {abstr_expl} <extra_id_2>\"\n",
    "    elif io_format == \"squad\": \n",
    "        input_string = f\"explain nli question: Is this entailment? context: {hypothesis} {premise}\"  \n",
    "        answer_ynm = unified_qa_esnli_label_mapping[item[\"label\"]]\n",
    "        answer_string = f\"{answer_ynm} {explanation_sep} {abstr_expl}\" \n",
    "    elif io_format == \"squad_endswith_what\":\n",
    "        input_string = f\"explain nli question: What is this? context: {hypothesis} {premise}\"  \n",
    "        answer_string = f\"{answer} {explanation_sep} {abstr_expl}\"  \n",
    "    elif io_format == \"squad_nli_mix\": \n",
    "        input_string = f\"explain nli question: Is this entailment? context: hypothesis: {hypothesis} premise: {premise}\"  \n",
    "        answer_ynm = unified_qa_esnli_label_mapping[item[\"label\"]]\n",
    "        answer_string = f\"{answer_ynm} {explanation_sep} {abstr_expl}\"  \n",
    "    elif io_format == \"squad_nli_mix_endswith_what\":  \n",
    "        input_string = f\"explain nli question: What is this? context: hypothesis: {hypothesis} premise: {premise}\"  \n",
    "        answer_string = f\"{answer} {explanation_sep} {abstr_expl}\"   \n",
    "    elif io_format == 'unifiedqa_unifew':\n",
    "        hypothesis = hypothesis.lower().rstrip('.')\n",
    "        unified_qa_esnli_label_mapping_upper = {0: 'Yes', 1: 'Maybe', 2: 'No'}\n",
    "        answer = unified_qa_esnli_label_mapping_upper[item[\"label\"]]\n",
    "        input_string = f'explain {premise} Is {hypothesis}? \\\\n (A) Yes (B) Maybe (C) No'\n",
    "        answer_string = f\"{answer} {explanation_sep} {abstr_expl}\"  \n",
    "    elif io_format == 'unifiedqa_unifew_nli_mix':\n",
    "        premise = premise.lower().rstrip('.')\n",
    "        unified_qa_esnli_label_mapping_upper = {0: 'Yes', 1: 'Maybe', 2: 'No'}\n",
    "        input_string = f'explain hypothesis: {hypothesis} Is premise: {premise}? \\\\n (A) Yes (B) Maybe (C) No'\n",
    "        answer_string = f\"{answer} {explanation_sep} {abstr_expl}\"  \n",
    "    elif io_format == 'unifiedqa_ynm': \n",
    "        input_string = f'explain is this entailment? \\\\n {hypothesis.lower()} {premise.lower()}'  \n",
    "        answer = unified_qa_esnli_label_mapping[item[\"label\"]]\n",
    "        answer_string = f\"{answer} {explanation_sep} {abstr_expl.lower()}\"  \n",
    "    elif io_format == 'unifiedqa_snli_mix_ynm': \n",
    "        input_string = f'explain is this entailment? \\\\n hypothesis: {hypothesis.lower()} premise: {premise.lower()}' \n",
    "        answer = unified_qa_esnli_label_mapping[item[\"label\"]]\n",
    "        answer_string = f\"{answer} {explanation_sep} {abstr_expl.lower()}\"  \n",
    "    elif io_format == 'unifiedqa_snli_mix_ynm_with_choices': \n",
    "        input_string = f'explain is this entailment? \\\\n (A) yes (B) maybe (C) no \\\\n hypothesis: {hypothesis.lower()} premise: {premise.lower()}'  \n",
    "        answer = unified_qa_esnli_label_mapping[item[\"label\"]]\n",
    "        answer_string = f\"{answer} {explanation_sep} {abstr_expl.lower()}\"  \n",
    "    elif io_format == 'unifiedqa_what_v2': \n",
    "        input_string = f'explain what is this? \\\\n {hypothesis.lower()} {premise.lower()}'  \n",
    "        answer = wt5_esnli_label_mapping[item[\"label\"]]\n",
    "        answer_string = f\"{answer} {explanation_sep} {abstr_expl.lower()}\"  \n",
    "    elif io_format == 'unifiedqa_snli_mix_what_v2': \n",
    "        input_string = f'explain what is this? \\\\n hypothesis: {hypothesis.lower()} premise: {premise.lower()}'  \n",
    "        answer = wt5_esnli_label_mapping[item[\"label\"]]\n",
    "        answer_string = f\"{answer} {explanation_sep} {abstr_expl.lower()}\"  \n",
    "    elif io_format == 'unifiedqa_snli_mix_what_with_choices_v2': \n",
    "        input_string = f'explain what is this? \\\\n (A) entailment (B) neutral (C) contradiction \\\\n hypothesis: {hypothesis.lower()} premise: {premise.lower()}'  \n",
    "        answer = wt5_esnli_label_mapping[item[\"label\"]]\n",
    "        answer_string = f\"{answer} {explanation_sep} {abstr_expl.lower()}\"     \n",
    "    else:\n",
    "        raise ValueError(\"The IO format is not supported.\")\n",
    "\n",
    "    return input_string, answer_string\n",
    "\n",
    "\n",
    "def sbic_formatting(item, io_format, explanation_sep):\n",
    "    # We pre-processed the SBIC dataset such that we join multiple implied statements with the [SEP] token for dev/test instances \n",
    "    # Each annotation in the training split is a separate instance\n",
    "    post = item['post']\n",
    "    answer = unified_qa_sbic_label_mapping[item[\"offensiveYN\"]] if 'unified' in io_format else item[\"offensiveYN\"].replace(\"not offensive\", \"not_offensive\")\n",
    "    abstr_expl = item[\"targetStereotype\"]\n",
    "    \n",
    "\n",
    "    if io_format == 'cola':\n",
    "        input_string = f\"explain sbic sentence: {post}\"\n",
    "        answer_string = f\"{answer} {explanation_sep} {abstr_expl}\"  \n",
    "    elif io_format == 't5_fewshot_infilling':\n",
    "        input_string = f\"explain sbic sentence: {post} <extra_id_0> {explanation_sep} <extra_id_1>\"\n",
    "        answer_string = f\"<extra_id_0> {answer} <extra_id_1> {abstr_expl} <extra_id_2>\"\n",
    "    elif io_format == 't5_fewshot_infilling_bool':\n",
    "        answer_bool = 'True' if item[\"offensiveYN\"] == 'offensive' else 'False'\n",
    "        input_string = f\"explain sbic sentence: {post} It is <extra_id_0> that this is offensive {explanation_sep} <extra_id_1>\"\n",
    "        answer_string = f\"<extra_id_0> {answer} <extra_id_1> {abstr_expl} <extra_id_2>\"\n",
    "    elif io_format == 't5_fewshot_infilling_more_natural':\n",
    "        input_string = f\"explain sbic sentence: {post} This is <extra_id_0> {explanation_sep} <extra_id_1>\"\n",
    "        answer_string = f\"<extra_id_0> {answer} <extra_id_1> {abstr_expl} <extra_id_2>\"\n",
    "    elif io_format == 'squad_yn': \n",
    "        input_string = f\"explain sbic question: Is this offensive? context: {post}\" # explain sbic question: Is this offensive? context: It's only happened to you like two times.\n",
    "        answer_yn = unified_qa_sbic_label_mapping[item[\"offensiveYN\"]] \n",
    "        answer_string = f\"{answer_yn} {explanation_sep} {abstr_expl}\" #  No because this post does not imply anything offensive\n",
    "    elif io_format == 'squad_yn_with_tags': \n",
    "        input_string = f\"explain sbic question: Is this offensive? context: post: {post}\" # explain sbic question: Is this offensive? context: It's only happened to you like two times.\n",
    "        answer_yn = unified_qa_sbic_label_mapping[item[\"offensiveYN\"]] \n",
    "        answer_string = f\"{answer_yn} {explanation_sep} {abstr_expl}\" #  No because this post does not imply anything offensive\n",
    "    elif io_format == 'squad_what': \n",
    "        input_string = f\"explain sbic question: What is this? context: {post}\" # explain sbic question: This is what? context: It's only happened to you like two times.\n",
    "        answer = item[\"offensiveYN\"].replace(\"not offensive\", \"not_offensive\")        \n",
    "        answer_string = f\"{answer} {explanation_sep} {abstr_expl}\" # not_offensive because this post does not imply anything offensive    \n",
    "    elif io_format == 'squad_what_with_tags': \n",
    "        input_string = f\"explain sbic question: What is this? context: post: {post}\" # explain sbic question: This is what? context: It's only happened to you like two times.\n",
    "        answer = item[\"offensiveYN\"].replace(\"not offensive\", \"not_offensive\")        \n",
    "        answer_string = f\"{answer} {explanation_sep} {abstr_expl}\" # not_offensive because this post does not imply anything offensive    \n",
    "    elif io_format == 'unified_qa_yn':\n",
    "        input_string = f'explain is this offensive? \\\\n {post.lower()}'\n",
    "        answer_string = f\"{answer} {explanation_sep} {abstr_expl.lower()}\" \n",
    "    elif io_format == 'unified_qa_yn_with_tags':\n",
    "        input_string = f'explain is this offensive? \\\\n post: {post.lower()}'\n",
    "        answer_string = f\"{answer} {explanation_sep} {abstr_expl.lower()}\"  \n",
    "    elif io_format == 'unified_qa_yn_with_choices':\n",
    "        input_string = f'explain is this offensive? \\\\n (A) yes (B) no \\\\n {post.lower()}'\n",
    "        answer_string = f\"{answer} {explanation_sep} {abstr_expl.lower()}\"\n",
    "    elif io_format == 'unified_qa_yn_with_choices_and_tags':\n",
    "        input_string = f'explain is this offensive? \\\\n (A) yes (B) no \\\\n post: {post.lower()}'\n",
    "        answer_string = f\"{answer} {explanation_sep} {abstr_expl.lower()}\"  \n",
    "    elif io_format == 'unified_qa_what':\n",
    "        input_string = f'explain what is this? \\\\n {post.lower()}'\n",
    "        answer = item[\"offensiveYN\"].replace(\"not offensive\", \"not_offensive\")\n",
    "        answer_string = f\"{answer} {explanation_sep} {abstr_expl.lower()}\"  \n",
    "    elif io_format == 'unified_qa_what_with_tags':\n",
    "        input_string = f'explain what is this? \\\\n post: {post.lower()}'\n",
    "        answer = item[\"offensiveYN\"].replace(\"not offensive\", \"not_offensive\")\n",
    "        answer_string = f\"{answer} {explanation_sep} {abstr_expl.lower()}\"  \n",
    "    elif io_format == 'unified_qa_what_with_choices':\n",
    "        input_string = f'explain what is this? \\\\n (A) offensive (B) not_offensive \\\\n {post.lower()}'\n",
    "        answer = item[\"offensiveYN\"].replace(\"not offensive\", \"not_offensive\")\n",
    "        answer_string = f\"{answer} {explanation_sep} {abstr_expl.lower()}\"\n",
    "    elif io_format == 'unified_qa_what_with_choices_and_tags':\n",
    "        input_string = f'explain what is this? \\\\n (A) offensive (B) not_offensive \\\\n post: {post.lower()}'\n",
    "        answer = item[\"offensiveYN\"].replace(\"not offensive\", \"not_offensive\")\n",
    "        answer_string = f\"{answer} {explanation_sep} {abstr_expl.lower()}\"  \n",
    "    elif io_format == 'unifiedqa_unifew':\n",
    "        input_string = f\"Topic? \\\\n (A) offensive (B) not_offensive \\\\n {post}\"\n",
    "        answer = item[\"offensiveYN\"].replace(\"not offensive\", \"not_offensive\")\n",
    "        answer_string = f\"{answer} {explanation_sep} {abstr_expl}\"\n",
    "    else:\n",
    "        raise ValueError(\"The IO format is not supported. Choose `standard` or `masked_cause_generate`.\")\n",
    "\n",
    "    input_string = ' '.join(input_string.split())\n",
    "    answer_string = ' '.join(answer_string.split())\n",
    "    return input_string, answer_string\n",
    "\n",
    "def sensemaking_formatting(item, io_format, explanation_sep):\n",
    "    # TODO: explore whether removing periods makes difference? \n",
    "    sent0 = item['sent0']\n",
    "    sent1 = item['sent1']\n",
    "    nonsensical_sentence = str(int(item['label'])+1)\n",
    "    explanation = item['explanation'].lower()\n",
    "\n",
    "    if io_format == 'copa_with_question':\n",
    "        input_string = f\"explain sensemaking choice1: {sent0} choice2: {sent1} question: nonsensical\"\n",
    "        answer_string = f\"choice{nonsensical_sentence} {explanation_sep} {explanation}\"\n",
    "    elif io_format == 'copa_bool':  \n",
    "        answer_bool = str(bool(int(item['label']))) # True if choice2 is more nonsensical    \n",
    "        input_string = f\"explain sensemaking choice1: {sent0} choice2: {sent1} Less common is choice2\"\n",
    "        answer_string = f\"{answer_bool} {explanation_sep} {explanation}\"\n",
    "    elif io_format == 't5_fewshot_infilling':  \n",
    "        input_string = f\"explain sensemaking choice1: {sent0} choice2: {sent1} <extra_id_0> {explanation_sep} <extra_id_1>\"\n",
    "        answer_string = f\"<extra_id_0> choice{nonsensical_sentence} <extra_id_1> {explanation} <extra_id_2>\"\n",
    "    elif io_format == 't5_fewshot_infilling_bool':  \n",
    "        answer_bool = str(bool(int(item['label']))) # True if choice2 is more nonsensical    \n",
    "        input_string = f\"explain sensemaking choice1: {sent0} choice2: {sent1} It is <extra_id_0> that choice2 is less common {explanation_sep} <extra_id_1>\"\n",
    "        answer_string = f\"<extra_id_0> {answer_bool} <extra_id_1> {explanation} <extra_id_2>\"\n",
    "    elif io_format == \"squad_yn\": \n",
    "        input_string = f\"explain sensemaking question: Is choice2 more nonsensical? context: choice1: {sent0} choice2: {sent1}\" # explain sensemaking question: What is nonsensical, choice1 or choice2? context: choice1: All state flowers are the scarlet carnation. choice2: The New Jersey state flower is the scarlet carnation\n",
    "        answer = \"Yes\" if bool(int(item['label'])) else \"No\"\n",
    "        answer_string = f\"{answer} {explanation_sep} {explanation}\" #  choice1 because state flowers are unique to each state.  \n",
    "    elif io_format == \"squad_yn_no_tags\": \n",
    "        input_string = f\"explain sensemaking question: Is choice2 more nonsensical? context: {sent0} {sent1}\" # explain sensemaking question: What is nonsensical, choice1 or choice2? context: choice1: All state flowers are the scarlet carnation. choice2: The New Jersey state flower is the scarlet carnation\n",
    "        answer = \"Yes\" if bool(int(item['label'])) else \"No\"\n",
    "        answer_string = f\"{answer} {explanation_sep} {explanation}\" #  choice1 because state flowers are unique to each state.  \n",
    "    elif io_format == \"squad_what\": \n",
    "        input_string = f\"explain sensemaking question: What is more nonsensical? context: choice1: {sent0} choice2: {sent1}\" # explain sensemaking question: What is nonsensical, choice1 or choice2? context: choice1: All state flowers are the scarlet carnation. choice2: The New Jersey state flower is the scarlet carnation\n",
    "        answer_string = f\"choice{nonsensical_sentence} {explanation_sep} {explanation}\" #  choice1 because state flowers are unique to each state.  \n",
    "    elif io_format == \"squad_what_no_tags\": \n",
    "        input_string = f\"explain sensemaking question: What is more nonsensical? context: {sent0} {sent1}\" # explain sensemaking question: What is nonsensical, choice1 or choice2? context: choice1: All state flowers are the scarlet carnation. choice2: The New Jersey state flower is the scarlet carnation\n",
    "        answer_string = f\"choice{nonsensical_sentence} {explanation_sep} {explanation}\" #  choice1 because state flowers are unique to each state.  \n",
    "    elif io_format == \"record\": \n",
    "        input_string = f\"explain sensemaking query: What is more nonsensical? entities: choice1, choice2 passage: choice1: {sent0} choice2: {sent1}\" # explain sensemaking query: What is nonsensical? entities: choice1, choice2 passage: choice1: All state flowers are the scarlet carnation. choice2: The New Jersey state flower is the scarlet carnation.\n",
    "        answer_string = f\"choice{nonsensical_sentence} {explanation_sep} {explanation}\" # choice1 because state flowers are unique to each state.\n",
    "    elif io_format == 'unifiedqa_yn_with_choices':\n",
    "        answer = \"yes\" if bool(int(item['label'])) else \"no\"\n",
    "        input_string = f'explain is choice2 more nonsensical? \\\\n (A) yes (B) no \\\\n choice1: {sent0.lower()} choice2: {sent1.lower()}'\n",
    "        answer_string = f\"{answer} {explanation_sep} {explanation.lower()}\" \n",
    "    elif io_format == 'unifiedqa_yn':\n",
    "        answer = \"yes\" if bool(int(item['label'])) else \"no\"\n",
    "        input_string = f'explain is choice2 more nonsensical? \\\\n choice1: {sent0.lower()} choice2: {sent1.lower()}'\n",
    "        answer_string = f\"{answer} {explanation_sep} {explanation.lower()}\"  \n",
    "    elif io_format == 'unifiedqa_yn_no_tags':\n",
    "        answer = \"yes\" if bool(int(item['label'])) else \"no\"\n",
    "        input_string = f'explain is choice2 more nonsensical? \\\\n {sent0.lower()} {sent1.lower()}'\n",
    "        answer_string = f\"{answer} {explanation_sep} {explanation.lower()}\"  \n",
    "    elif io_format == 'unifiedqa_what_with_choices':\n",
    "        nonsensical_sentence = str(int(item['label'])+1)\n",
    "        input_string = f'explain what is more nonsensical? \\\\n (A) choice1 (B) choice2 \\\\n choice1: {sent0.lower()} choice2: {sent1.lower()}'\n",
    "        answer_string = f\"choice{nonsensical_sentence} {explanation_sep} {explanation.lower()}\"  # use \" BECAUSE \"\n",
    "    elif io_format == 'unifiedqa_what':\n",
    "        nonsensical_sentence = str(int(item['label'])+1)\n",
    "        input_string = f'explain what is more nonsensical? \\\\n choice1: {sent0.lower()} choice2: {sent1.lower()}'\n",
    "        answer_string = f\"choice{nonsensical_sentence} {explanation_sep} {explanation.lower()}\"  # use \" BECAUSE \"\n",
    "    elif io_format == 'unifiedqa_what_no_tags':\n",
    "        nonsensical_sentence = str(int(item['label'])+1)\n",
    "        input_string = f'explain what is more nonsensical? \\\\n {sent0.lower()} {sent1.lower()}'\n",
    "        answer_string = f\"choice{nonsensical_sentence} {explanation_sep} {explanation.lower()}\"  # use \" BECAUSE \"\n",
    "\n",
    "\n",
    "    input_string = ' '.join(input_string.split())\n",
    "    answer_string = ' '.join(answer_string.split())\n",
    "    return input_string, answer_string"
   ]
  },
  {
   "cell_type": "code",
   "execution_count": 4,
   "id": "dde6c7e1",
   "metadata": {},
   "outputs": [
    {
     "name": "stderr",
     "output_type": "stream",
     "text": [
      "PyTorch: setting up devices\n",
      "The default value for the training argument `--report_to` will change in v5 (from all installed integrations to none). In v5, you will need to use `--report_to all` to get the same behavior as now. You should start updating your code and make this info disappear :-).\n",
      "01/13/2023 00:55:13 - WARNING - __main__ -   Process rank: -1, device: cuda:0, n_gpu: 1, distributed training: False, 16-bits training: False\n",
      "01/13/2023 00:55:13 - INFO - __main__ -   Save path: ./cos_e_output_t5_large/011323_005513\n",
      "01/13/2023 00:55:13 - INFO - __main__ -   Git branch: dev\n",
      "01/13/2023 00:55:13 - INFO - __main__ -   Git hash: 1cbb5c3b4e53baf31cbafc20d9655c63f091f901\n"
     ]
    }
   ],
   "source": [
    "og_start_time = time.time()\n",
    "\n",
    "#parser = HfArgumentParser(\n",
    "#    (ModelArguments, DataTrainingArguments, TrainingArguments)\n",
    "#)\n",
    "parser = HfArgumentParser(\n",
    "    (ModelArguments, DataTrainingArguments, TrainingArguments)\n",
    ")\n",
    "\n",
    "model_args, data_args, training_args, unused_args = parser.parse_args_into_dataclasses(\n",
    "    [\"--model_type\", \"t5-3b\",\n",
    "     \"--tokenizer_name\", \"t5-3b\",\n",
    "     \"--task_name\", \"cos_e\", \n",
    "     \"--output_dir\", \"./cos_e_output_t5_large\", \n",
    "     \"--n_shots\", \"10\",\n",
    "     \"--do_train\", \"True\"], return_remaining_strings=True)\n",
    "if unused_args != []:\n",
    "    raise ValueError(f\"Received unused arguments: {unused_args}\")\n",
    "# make sure only one dataset split pick if manually specifying evaluation file\n",
    "\n",
    "if model_args.use_gpt3:\n",
    "    assert training_args.do_train\n",
    "    assert not training_args.do_eval\n",
    "    assert data_args.generations_filepath is None\n",
    "    if data_args.gpt3_max_eval_size is not None:\n",
    "        assert data_args.gpt3_max_eval_size <= data_args.fewshot_eval_size\n",
    "        assert data_args.gpt3_max_eval_size % 2 == 0\n",
    "        assert data_args.gpt3_max_eval_size % 3 == 0\n",
    "\n",
    "if data_args.generations_filepath is not None:\n",
    "    training_args.do_train = False\n",
    "    training_args.do_eval = False\n",
    "    if \"train\" in data_args.generations_filepath:\n",
    "        data_args.train_predict = True\n",
    "        data_args.test_predict = False\n",
    "        data_args.dev_predict = False\n",
    "    elif \"test\" in data_args.generations_filepath:\n",
    "        data_args.train_predict = False\n",
    "        data_args.test_predict = True\n",
    "        data_args.dev_predict = False\n",
    "    elif \"validation\" in data_args.generations_filepath:\n",
    "        data_args.train_predict = False\n",
    "        data_args.test_predict = False\n",
    "        data_args.dev_predict = True\n",
    "\n",
    "if not training_args.do_train and data_args.generations_filepath is None:\n",
    "    if not model_args.pretrained_model_file:\n",
    "        raise Exception(\n",
    "            \"if not training a model from scratch, must specify a trained model to load for evaluation\"\n",
    "        )\n",
    "\n",
    "if training_args.do_train:\n",
    "    # create a save directory and a logfile\n",
    "    training_args.output_dir = os.path.join(\n",
    "        training_args.output_dir, datetime.now().strftime(\"%m%d%y_%H%M%S\")\n",
    "    )\n",
    "    training_args.logging_dir = training_args.output_dir\n",
    "    assert not os.path.exists(training_args.output_dir)\n",
    "    os.makedirs(training_args.output_dir)\n",
    "\n",
    "    if (\n",
    "            os.path.exists(training_args.output_dir)\n",
    "            and os.listdir(training_args.output_dir)\n",
    "            and training_args.do_train\n",
    "            and not training_args.overwrite_output_dir\n",
    "    ):\n",
    "        raise ValueError(\n",
    "            f\"Output directory ({training_args.output_dir}) already exists and is not empty. Use --overwrite_output_dir to overcome.\"\n",
    "        )\n",
    "    handlers = [\n",
    "        logging.FileHandler(os.path.join(training_args.output_dir, \"logger.log\")),\n",
    "        logging.StreamHandler(),\n",
    "    ]\n",
    "else:\n",
    "    # don't overwrite existing logfile or create new directory\n",
    "    training_args.output_dir = model_args.pretrained_model_file\n",
    "    handlers = [logging.StreamHandler()]\n",
    "\n",
    "# Setup logging\n",
    "logging.basicConfig(\n",
    "    format=\"%(asctime)s - %(levelname)s - %(name)s -   %(message)s\",\n",
    "    datefmt=\"%m/%d/%Y %H:%M:%S\",\n",
    "    level=logging.INFO if training_args.local_rank in [-1, 0] else logging.WARN,\n",
    "    handlers=handlers,\n",
    ")\n",
    "logger.warning(\n",
    "    \"Process rank: %s, device: %s, n_gpu: %s, distributed training: %s, 16-bits training: %s\",\n",
    "    training_args.local_rank,\n",
    "    training_args.device,\n",
    "    training_args.n_gpu,\n",
    "    bool(training_args.local_rank != -1),\n",
    "    training_args.fp16,\n",
    ")\n",
    "logger.info(\"Save path: %s\" % training_args.output_dir)\n",
    "\n",
    "# get git hash and branch where deployed\n",
    "repo = git.Repo(search_parent_directories=True)\n",
    "git_hash = repo.head.object.hexsha\n",
    "git_branch = repo.active_branch.name\n",
    "logger.info(\"Git branch: %s\" % git_branch)\n",
    "logger.info(\"Git hash: %s\" % git_hash)\n",
    "\n",
    "model_class = \"t5\"\n",
    "assert data_args.task_name in {\"cos_e\", \"esnli\", \"sbic\", \"sensemaking\", \"ecqa\"}\n",
    "\n",
    "if training_args.do_train:\n",
    "    # write command and args to file\n",
    "    with open(\n",
    "            os.path.join(training_args.output_dir, \"commandline_args.txt\"), \"w\"\n",
    "    ) as f:\n",
    "        f.write(\"Git branch: \" + git_branch + \"\\n\")\n",
    "        f.write(\"Git hash: \" + git_hash + \"\\n\")\n",
    "        f.write(\"Command:\\n\")\n",
    "        f.write(\"\\n\".join(sys.argv[1:]))\n",
    "\n",
    "# Set seed\n",
    "set_seed(training_args.seed)\n",
    "set_other_seeds(training_args.seed)\n",
    "\n",
    "# Load pretrained model and tokenizer\n",
    "#\n",
    "# Distributed training:\n",
    "# The .from_pretrained methods guarantee that only one local process can concurrently\n",
    "# download model & vocab."
   ]
  },
  {
   "cell_type": "code",
   "execution_count": 5,
   "id": "684646b4",
   "metadata": {},
   "outputs": [
    {
     "data": {
      "text/plain": [
       "device(type='cuda', index=0)"
      ]
     },
     "execution_count": 5,
     "metadata": {},
     "output_type": "execute_result"
    }
   ],
   "source": [
    "training_args.set_device = \"cuda:0\"\n",
    "training_args.device"
   ]
  },
  {
   "cell_type": "code",
   "execution_count": 6,
   "id": "18a3172a",
   "metadata": {},
   "outputs": [
    {
     "name": "stderr",
     "output_type": "stream",
     "text": [
      "01/13/2023 00:55:13 - INFO - __main__ -   Loading pretrained tokenizer...\n",
      "loading file https://huggingface.co/t5-base/resolve/main/spiece.model from cache at /home/huangyongfeng/.cache/huggingface/transformers/684a47ca6257e4ca71f0037771464c5b323e945fbc58697d2fad8a7dd1a2f8ba.3b69006860e7b5d0a63ffdddc01ddcd6b7c318a6f4fd793596552c741734c62d\n",
      "loading file https://huggingface.co/t5-base/resolve/main/added_tokens.json from cache at None\n",
      "loading file https://huggingface.co/t5-base/resolve/main/special_tokens_map.json from cache at None\n",
      "loading file https://huggingface.co/t5-base/resolve/main/tokenizer_config.json from cache at None\n",
      "loading file https://huggingface.co/t5-base/resolve/main/tokenizer.json from cache at /home/huangyongfeng/.cache/huggingface/transformers/90de37880b5ff5ac7ab70ff0bd369f207e9b74133fa153c163d14c5bb0116207.8627f1bd5d270a9fd2e5a51c8bec3223896587cc3cfe13edeabb0992ab43c529\n",
      "loading configuration file https://huggingface.co/t5-base/resolve/main/config.json from cache at /home/huangyongfeng/.cache/huggingface/transformers/91e9fe874e06c44883b535d6c950b8b89d6eaa3298d8e7fb3b2c78039e9f8b7b.a085189636e38420df5e7bdf08ad1b86f1fe33c010079ca7f15437ff95f4fe2b\n",
      "Model config T5Config {\n",
      "  \"architectures\": [\n",
      "    \"T5ForConditionalGeneration\"\n",
      "  ],\n",
      "  \"d_ff\": 3072,\n",
      "  \"d_kv\": 64,\n",
      "  \"d_model\": 768,\n",
      "  \"decoder_start_token_id\": 0,\n",
      "  \"dropout_rate\": 0.1,\n",
      "  \"eos_token_id\": 1,\n",
      "  \"feed_forward_proj\": \"relu\",\n",
      "  \"gradient_checkpointing\": false,\n",
      "  \"initializer_factor\": 1.0,\n",
      "  \"is_encoder_decoder\": true,\n",
      "  \"layer_norm_epsilon\": 1e-06,\n",
      "  \"model_type\": \"t5\",\n",
      "  \"n_positions\": 512,\n",
      "  \"num_decoder_layers\": 12,\n",
      "  \"num_heads\": 12,\n",
      "  \"num_layers\": 12,\n",
      "  \"output_past\": true,\n",
      "  \"pad_token_id\": 0,\n",
      "  \"relative_attention_num_buckets\": 32,\n",
      "  \"task_specific_params\": {\n",
      "    \"summarization\": {\n",
      "      \"early_stopping\": true,\n",
      "      \"length_penalty\": 2.0,\n",
      "      \"max_length\": 200,\n",
      "      \"min_length\": 30,\n",
      "      \"no_repeat_ngram_size\": 3,\n",
      "      \"num_beams\": 4,\n",
      "      \"prefix\": \"summarize: \"\n",
      "    },\n",
      "    \"translation_en_to_de\": {\n",
      "      \"early_stopping\": true,\n",
      "      \"max_length\": 300,\n",
      "      \"num_beams\": 4,\n",
      "      \"prefix\": \"translate English to German: \"\n",
      "    },\n",
      "    \"translation_en_to_fr\": {\n",
      "      \"early_stopping\": true,\n",
      "      \"max_length\": 300,\n",
      "      \"num_beams\": 4,\n",
      "      \"prefix\": \"translate English to French: \"\n",
      "    },\n",
      "    \"translation_en_to_ro\": {\n",
      "      \"early_stopping\": true,\n",
      "      \"max_length\": 300,\n",
      "      \"num_beams\": 4,\n",
      "      \"prefix\": \"translate English to Romanian: \"\n",
      "    }\n",
      "  },\n",
      "  \"transformers_version\": \"4.9.2\",\n",
      "  \"use_cache\": true,\n",
      "  \"vocab_size\": 32128\n",
      "}\n",
      "\n",
      "loading configuration file https://huggingface.co/t5-base/resolve/main/config.json from cache at /home/huangyongfeng/.cache/huggingface/transformers/91e9fe874e06c44883b535d6c950b8b89d6eaa3298d8e7fb3b2c78039e9f8b7b.a085189636e38420df5e7bdf08ad1b86f1fe33c010079ca7f15437ff95f4fe2b\n",
      "Model config T5Config {\n",
      "  \"architectures\": [\n",
      "    \"T5ForConditionalGeneration\"\n",
      "  ],\n",
      "  \"d_ff\": 3072,\n",
      "  \"d_kv\": 64,\n",
      "  \"d_model\": 768,\n",
      "  \"decoder_start_token_id\": 0,\n",
      "  \"dropout_rate\": 0.1,\n",
      "  \"eos_token_id\": 1,\n",
      "  \"feed_forward_proj\": \"relu\",\n",
      "  \"gradient_checkpointing\": false,\n",
      "  \"initializer_factor\": 1.0,\n",
      "  \"is_encoder_decoder\": true,\n",
      "  \"layer_norm_epsilon\": 1e-06,\n",
      "  \"model_type\": \"t5\",\n",
      "  \"n_positions\": 512,\n",
      "  \"num_decoder_layers\": 12,\n",
      "  \"num_heads\": 12,\n",
      "  \"num_layers\": 12,\n",
      "  \"output_past\": true,\n",
      "  \"pad_token_id\": 0,\n",
      "  \"relative_attention_num_buckets\": 32,\n",
      "  \"task_specific_params\": {\n",
      "    \"summarization\": {\n",
      "      \"early_stopping\": true,\n",
      "      \"length_penalty\": 2.0,\n",
      "      \"max_length\": 200,\n",
      "      \"min_length\": 30,\n",
      "      \"no_repeat_ngram_size\": 3,\n",
      "      \"num_beams\": 4,\n",
      "      \"prefix\": \"summarize: \"\n",
      "    },\n",
      "    \"translation_en_to_de\": {\n",
      "      \"early_stopping\": true,\n",
      "      \"max_length\": 300,\n",
      "      \"num_beams\": 4,\n",
      "      \"prefix\": \"translate English to German: \"\n",
      "    },\n",
      "    \"translation_en_to_fr\": {\n",
      "      \"early_stopping\": true,\n",
      "      \"max_length\": 300,\n",
      "      \"num_beams\": 4,\n",
      "      \"prefix\": \"translate English to French: \"\n",
      "    },\n",
      "    \"translation_en_to_ro\": {\n",
      "      \"early_stopping\": true,\n",
      "      \"max_length\": 300,\n",
      "      \"num_beams\": 4,\n",
      "      \"prefix\": \"translate English to Romanian: \"\n",
      "    }\n",
      "  },\n",
      "  \"transformers_version\": \"4.9.2\",\n",
      "  \"use_cache\": true,\n",
      "  \"vocab_size\": 32128\n",
      "}\n",
      "\n",
      "loading weights file https://huggingface.co/t5-base/resolve/main/pytorch_model.bin from cache at /home/huangyongfeng/.cache/huggingface/transformers/ab4e948915b067f5cb6e5105f6f85044fd717b133f43240db67899a8fc7b29a2.26934c75adf19ceac3c268b721ba353356b7609c45f5627550326f275a2163b4\n",
      "All model checkpoint weights were used when initializing T5ForConditionalGeneration.\n",
      "\n",
      "All the weights of T5ForConditionalGeneration were initialized from the model checkpoint at t5-base.\n",
      "If your task is similar to the task the model of the checkpoint was trained on, you can already use T5ForConditionalGeneration for predictions without further training.\n"
     ]
    }
   ],
   "source": [
    "import logging\n",
    "logger = logging.getLogger(__name__)\n",
    "CONFIG_MAPPING = {\"t5\": T5Config}\n",
    "MODEL_MAPPING = {\"t5\": T5ForConditionalGeneration}\n",
    "TOKENIZER_MAPPING = {\"t5\": T5Tokenizer}\n",
    "model_class = \"t5\"\n",
    "tokenizer_name = TOKENIZER_MAPPING[model_class]\n",
    "logger.info(\"Loading pretrained tokenizer...\")\n",
    "model_args.tokenizer_name='t5-base'\n",
    "tokenizer = tokenizer_name.from_pretrained(model_args.tokenizer_name)#, cache_dir=model_args.cache_dir)\n",
    "\n",
    "model = T5ForConditionalGeneration.from_pretrained(\"t5-base\")"
   ]
  },
  {
   "cell_type": "code",
   "execution_count": 7,
   "id": "62eef1a8",
   "metadata": {},
   "outputs": [
    {
     "data": {
      "text/plain": [
       "DataTrainingArguments(task_name='cos_e', early_stopping_patience=10, overwrite_cache=False, train_predict=False, test_predict=False, dev_predict=False, version_name='v1.11', generations_filepath=None, n_shots=10, fewshot_eval_size=350, io_format='t5_fewshot_infilling_without_choices_use_refined_expl', explanation_sep='explanation', data_path=None, gpt3_max_eval_size=None)"
      ]
     },
     "execution_count": 7,
     "metadata": {},
     "output_type": "execute_result"
    }
   ],
   "source": [
    "data_splits = {'train': None, 'validation': None, 'test': None}\n",
    "original_data_splits = {'train': None, 'validation': None, 'test': None}  \n",
    "data_args.io_format=\"t5_fewshot_infilling_without_choices_use_refined_expl\"\n",
    "data_args"
   ]
  },
  {
   "cell_type": "code",
   "execution_count": 8,
   "id": "efc49c0c",
   "metadata": {},
   "outputs": [
    {
     "data": {
      "application/json": {
       "ascii": false,
       "bar_format": null,
       "colour": null,
       "elapsed": 0.013289213180541992,
       "initial": 0,
       "n": 0,
       "ncols": null,
       "nrows": 60,
       "postfix": null,
       "prefix": "",
       "rate": null,
       "total": 2,
       "unit": "it",
       "unit_divisor": 1000,
       "unit_scale": false
      },
      "application/vnd.jupyter.widget-view+json": {
       "model_id": "25ec17ecb8df45ec89b7c305f1312f21",
       "version_major": 2,
       "version_minor": 0
      },
      "text/plain": [
       "  0%|          | 0/2 [00:00<?, ?it/s]"
      ]
     },
     "metadata": {},
     "output_type": "display_data"
    },
    {
     "data": {
      "text/plain": [
       "dict_keys(['extractive_explanation', 'answer', 'choices', 'abstractive_explanation', 'question', 'id'])"
      ]
     },
     "execution_count": 8,
     "metadata": {},
     "output_type": "execute_result"
    }
   ],
   "source": [
    "dataset = datasets.load_dataset(data_args.task_name, data_args.version_name)\n",
    "train_ids_list=[x['id'] for x in dataset[\"train\"]]\n",
    "dataset['train'][0].keys()"
   ]
  },
  {
   "cell_type": "code",
   "execution_count": 9,
   "id": "294780bc",
   "metadata": {},
   "outputs": [
    {
     "data": {
      "application/json": {
       "ascii": false,
       "bar_format": null,
       "colour": null,
       "elapsed": 0.012660503387451172,
       "initial": 0,
       "n": 0,
       "ncols": null,
       "nrows": 60,
       "postfix": null,
       "prefix": "",
       "rate": null,
       "total": 1,
       "unit": "it",
       "unit_divisor": 1000,
       "unit_scale": false
      },
      "application/vnd.jupyter.widget-view+json": {
       "model_id": "d4a62cfe015340c29aff21c60da275d1",
       "version_major": 2,
       "version_minor": 0
      },
      "text/plain": [
       "  0%|          | 0/1 [00:00<?, ?it/s]"
      ]
     },
     "metadata": {},
     "output_type": "display_data"
    },
    {
     "name": "stdout",
     "output_type": "stream",
     "text": [
      "[6723, 3269, 12, 6020, 7815, 0, 13, 7, 3556, 4587, 3166, 2607, 1999, 332, 8571, 2, 3520, 6, 1425, 2361, 3764, 7728, 8352, 1273, 5191, 496, 11, 8143, 6929, 4552, 4652, 7764, 6736, 401, 147, 8339, 3128, 5556, 8769, 4417, 8778, 7145, 1279, 6297, 7149, 5884, 10, 5747, 6273, 8, 9504, 8057, 1307, 2183, 1699, 88, 3228, 7178, 2140, 4048, 1041, 1, 3, 5868, 111, 7889, 5370, 8886, 2137, 6980, 9117, 1891, 7827, 1484, 14, 3668, 7090, 5, 7817, 6213, 4656, 5074, 7514, 5896, 4, 9, 7991, 58, 1887, 1598, 3994, 2212, 2274, 6830, 8826, 1604, 9008, 2013, 6521, 4793, 4338, 3923, 8091, 4904, 3938, 3900, 8156, 5806, 8363, 1787, 1496, 5753, 6351, 1104, 1222]\n"
     ]
    },
    {
     "data": {
      "text/plain": [
       "115"
      ]
     },
     "execution_count": 9,
     "metadata": {},
     "output_type": "execute_result"
    }
   ],
   "source": [
    "#rationale generation labeled data construction 115\n",
    "import pandas as pd\n",
    "scr_csqa_labeled_path=\"/cognitive_comp/huangyongfeng/evaluate_LM_with_rationalization/few_shot_explanations/data/handwritten_cose_v1.11_examples.csv\"\n",
    "scr_csqa_label_df=pd.read_csv(scr_csqa_labeled_path)\n",
    "scr_csqa_label_data=datasets.load_dataset('csv', data_files=scr_csqa_labeled_path)\n",
    "scr_csqa_label_ids_list=[x['id'] for x in scr_csqa_label_data['train']]\n",
    "scr_csqa_indexs_list=[train_ids_list.index(id_) for id_ in scr_csqa_label_ids_list]\n",
    "scr_csqa_label_our_explanations_list=[x['our_explanation'] for x in scr_csqa_label_data['train']]\n",
    "print(scr_csqa_indexs_list)\n",
    "data_splits={}\n",
    "data_splits['train']=dataset['train'].select(scr_csqa_indexs_list)\n",
    "\n",
    "refine_train_data=[]\n",
    "for kk, (ex,da) in enumerate(zip(scr_csqa_label_our_explanations_list, data_splits['train'])):\n",
    "#     print(da)\n",
    "    data_splits['train'][kk]['our_explanation']=ex\n",
    "    #print(type(data_splits['train'][kk]),data_splits['train'][kk].keys())\n",
    "    da['our_explanation']=ex\n",
    "    refine_train_data.append(da)\n",
    "\n",
    "len(data_splits['train'])"
   ]
  },
  {
   "cell_type": "code",
   "execution_count": 10,
   "id": "1d97f507",
   "metadata": {},
   "outputs": [
    {
     "data": {
      "application/json": {
       "ascii": false,
       "bar_format": null,
       "colour": null,
       "elapsed": 0.012658357620239258,
       "initial": 0,
       "n": 0,
       "ncols": null,
       "nrows": 60,
       "postfix": null,
       "prefix": "",
       "rate": null,
       "total": 1,
       "unit": "it",
       "unit_divisor": 1000,
       "unit_scale": false
      },
      "application/vnd.jupyter.widget-view+json": {
       "model_id": "e3a50d4b62ed4ff795a990c048efdeb3",
       "version_major": 2,
       "version_minor": 0
      },
      "text/plain": [
       "  0%|          | 0/1 [00:00<?, ?it/s]"
      ]
     },
     "metadata": {},
     "output_type": "display_data"
    },
    {
     "data": {
      "text/plain": [
       "{'id': '5b8a3081c3235d62bc77e2d15f3ad454',\n",
       " 'question': 'A town between two mountains is located in a what?',\n",
       " 'choices': ['valley', 'hospital', 'state', 'train station', 'michigan'],\n",
       " 'answer': 'valley',\n",
       " 'abstractive_explanation': 'valleys are always between two mountains',\n",
       " 'extractive_explanation': 'A town between two mountains',\n",
       " 'our_explanation': 'A valley is usually between two mountains, where it is located in the place where the mountains are closest to each other.'}"
      ]
     },
     "execution_count": 10,
     "metadata": {},
     "output_type": "execute_result"
    }
   ],
   "source": [
    "#rationale unlabeled data construction 991\n",
    "import pdb\n",
    "scr_csqa_unlabeled_test_file=\"/cognitive_comp/huangyongfeng/evaluate_LM_with_rationalization/few_shot_explanations/data/acceptability_annotations/commonsenseqa_test.csv\"\n",
    "fse_csqa_dev_dataset = datasets.load_dataset('csv', data_files=scr_csqa_unlabeled_test_file)\n",
    "scr_csqa_unlabeled_test_df=pd.read_csv(scr_csqa_unlabeled_test_file)\n",
    "fse_csqa_dev_data_dict={}\n",
    "for kk, da in enumerate(fse_csqa_dev_dataset['train']):\n",
    "    #pdb.set_trace()\n",
    "    id_=da['Input.id']\n",
    "    if da['Answer.acceptable']:\n",
    "        answer_accept=set(da['Answer.acceptable'].split('|'))\n",
    "    else:\n",
    "        answer_accept=set()\n",
    "    explanation_list=[da['Input.explanation_1'], \n",
    "                      da['Input.explanation_2'],\n",
    "                      da['Input.explanation_3'],\n",
    "                      da['Input.explanation_4'],\n",
    "                      da['Input.explanation_5']]\n",
    "    if id_ not in fse_csqa_dev_data_dict.keys():\n",
    "        fse_csqa_dev_data_dict[id_]={\"index\":kk,\"id\":id_,\n",
    "                                     \"question\":da[\"Input.question\"],\n",
    "                                     'answer':da['Input.gold_label'],\n",
    "                                     \"accept_set_list\":[answer_accept],\n",
    "                                     \"explanation_list\":explanation_list}\n",
    "        #[[kk, id_, answer_accept, explanation_list]]\n",
    "    else:\n",
    "        fse_csqa_dev_data_dict[id_][\"accept_set_list\"].append(answer_accept)\n",
    "    if len(fse_csqa_dev_data_dict[id_][\"accept_set_list\"])==3:\n",
    "        fse_csqa_dev_data_dict[id_][\"common_expl_list\"]=[]\n",
    "        common_accept_expl_sample=set.intersection(fse_csqa_dev_data_dict[id_][\"accept_set_list\"][0], \n",
    "                                                   fse_csqa_dev_data_dict[id_][\"accept_set_list\"][1], \n",
    "                                                   fse_csqa_dev_data_dict[id_][\"accept_set_list\"][2])\n",
    "        for idx in list(common_accept_expl_sample):\n",
    "            idx=int(idx)-1\n",
    "            fse_csqa_dev_data_dict[id_][\"common_expl_list\"].append(fse_csqa_dev_data_dict[id_][\"explanation_list\"][idx])\n",
    "        \n",
    "#discriminate 3/3 id\n",
    "id_accept_expl_list=[]\n",
    "our_accept_expl_list=[]\n",
    "id_unaccept_expl_list=[]\n",
    "for k,v in fse_csqa_dev_data_dict.items():\n",
    "    accept_set_list=v['accept_set_list']\n",
    "    assert len(accept_set_list)==3\n",
    "    #pdb.set_trace()\n",
    "    common_accept_expl_sample=set.intersection(accept_set_list[0], accept_set_list[1], accept_set_list[2])\n",
    "    #print(accept_set_list,common_accept_expl_sample)\n",
    "    #pdb.set_trace()\n",
    "    if common_accept_expl_sample:\n",
    "        id_accept_expl_list.append(k)\n",
    "        our_expl=\"\"\n",
    "        for idx in list(common_accept_expl_sample):\n",
    "            idx=int(idx)-1\n",
    "            if len(v['explanation_list'][idx]) > len(our_expl):\n",
    "                our_expl = v['explanation_list'][idx]\n",
    "                our_accept_expl_list.append(our_expl)\n",
    "    else:\n",
    "        id_unaccept_expl_list.append(k)\n",
    "\n",
    "dev_ids_list=[x['id'] for x in dataset['validation']]\n",
    "dev_accept_indexs_list=[dev_ids_list.index(id_) for id_ in id_accept_expl_list]\n",
    "dev_unaccpet_indexs_list=[dev_ids_list.index(id_) for id_ in id_unaccept_expl_list]\n",
    "dev_accept_data=dataset['validation'].select(dev_accept_indexs_list)\n",
    "dev_unaccept_data=dataset['validation'].select(dev_unaccpet_indexs_list)\n",
    "\n",
    "\n",
    "\n",
    "new_dev_accept_data=[]\n",
    "new_dev_unaccept_data=[]\n",
    "for oexp, da in zip(our_accept_expl_list,dev_accept_data):\n",
    "    da[\"our_explanation\"]=oexp\n",
    "    new_dev_accept_data.append(da)\n",
    "for da in dev_unaccept_data:\n",
    "    da[\"our_explanation\"]=oexp\n",
    "    new_dev_unaccept_data.append(da)\n",
    "        \n",
    "new_dev_accept_data[0]\n",
    "        "
   ]
  },
  {
   "cell_type": "code",
   "execution_count": 11,
   "id": "ffe13707",
   "metadata": {},
   "outputs": [
    {
     "data": {
      "text/plain": [
       "{'index': 0,\n",
       " 'id': '5b8a3081c3235d62bc77e2d15f3ad454',\n",
       " 'question': 'A town between two mountains is located in a what?',\n",
       " 'answer': 'valley',\n",
       " 'accept_set_list': [{'2', '4', '5'}, {'2', '4', '5'}, {'2', '4', '5'}],\n",
       " 'explanation_list': ['Because all of the mountains are to the left of this town, if one was looking on a map, one would be able to see the town in the valley.',\n",
       "  'A valley is usually between two mountains, where it is located in the place where the mountains are closest to each other.',\n",
       "  'Because rivers end in valleys; assuming the river is the one of interest, this sentence is likely referring to the geographical location of the town.',\n",
       "  'A town in between mountains presumably would be in a valley, in which case it is plausable that it would be surrounded by heights in every direction.',\n",
       "  'A valley is a low area between two mountains.'],\n",
       " 'common_expl_list': ['A valley is usually between two mountains, where it is located in the place where the mountains are closest to each other.',\n",
       "  'A town in between mountains presumably would be in a valley, in which case it is plausable that it would be surrounded by heights in every direction.',\n",
       "  'A valley is a low area between two mountains.']}"
      ]
     },
     "execution_count": 11,
     "metadata": {},
     "output_type": "execute_result"
    }
   ],
   "source": [
    "fse_csqa_dev_data_dict['5b8a3081c3235d62bc77e2d15f3ad454']\n"
   ]
  },
  {
   "cell_type": "code",
   "execution_count": 12,
   "id": "3161874f",
   "metadata": {},
   "outputs": [],
   "source": [
    "# for k,v in fse_csqa_dev_data_dict.items():\n",
    "#     #print(v.keys())\n",
    "#     print(\"******\")\n",
    "#     print(v['question'])\n",
    "#     print(v['answer'])\n",
    "#     print(v['common_expl_list'])\n",
    "#     print(\"******\")    \n",
    "# for k,v in fse_csqa_train_data_dict.items():\n",
    "#     #print(v.keys())\n",
    "#     print(\"******\")\n",
    "#     print(v['question'])\n",
    "#     print(v['answer'])\n",
    "#     print(v['common_expl_list'])\n",
    "#     print(\"******\") \n"
   ]
  },
  {
   "cell_type": "code",
   "execution_count": 13,
   "id": "3e0e8a2d",
   "metadata": {},
   "outputs": [
    {
     "data": {
      "application/json": {
       "ascii": false,
       "bar_format": null,
       "colour": null,
       "elapsed": 0.012647151947021484,
       "initial": 0,
       "n": 0,
       "ncols": null,
       "nrows": 60,
       "postfix": null,
       "prefix": "",
       "rate": null,
       "total": 1,
       "unit": "it",
       "unit_divisor": 1000,
       "unit_scale": false
      },
      "application/vnd.jupyter.widget-view+json": {
       "model_id": "856b24943e8246b08e1453484408170a",
       "version_major": 2,
       "version_minor": 0
      },
      "text/plain": [
       "  0%|          | 0/1 [00:00<?, ?it/s]"
      ]
     },
     "metadata": {},
     "output_type": "display_data"
    },
    {
     "data": {
      "text/plain": [
       "{'id': 'ed53cbea1f21072fab892031b31192d1',\n",
       " 'question': 'Where can you likely buy many poems?',\n",
       " 'choices': ['book of poetry',\n",
       "  'literature book',\n",
       "  'book store',\n",
       "  'poetry book',\n",
       "  'bookshelf'],\n",
       " 'answer': 'book store',\n",
       " 'abstractive_explanation': 'book store book',\n",
       " 'extractive_explanation': 'buy many poems',\n",
       " 'our_explanation': 'A bookstore sells a variety of books, including poetry books; chains of bookstores sometimes specialize in categories such as poetry or literature.'}"
      ]
     },
     "execution_count": 13,
     "metadata": {},
     "output_type": "execute_result"
    }
   ],
   "source": [
    "#rationale unlabeled data construction 991\n",
    "import pdb\n",
    "scr_csqa_unlabeled_train_file=\"/cognitive_comp/huangyongfeng/evaluate_LM_with_rationalization/few_shot_explanations/data/acceptability_annotations/commonsenseqa_train.csv\"\n",
    "fse_csqa_train_dataset = datasets.load_dataset('csv', data_files=scr_csqa_unlabeled_train_file)\n",
    "scr_csqa_unlabeled_train_df=pd.read_csv(scr_csqa_unlabeled_train_file)\n",
    "fse_csqa_train_data_dict={}\n",
    "for kk, da in enumerate(fse_csqa_train_dataset['train']):\n",
    "    #pdb.set_trace()\n",
    "    id_=da['Input.id']\n",
    "    if da['Answer.acceptable']:\n",
    "        answer_accept=set(da['Answer.acceptable'].split('|'))\n",
    "    else:\n",
    "        answer_accept=set()\n",
    "    explanation_list=[da['Input.explanation_1'], \n",
    "                      da['Input.explanation_2'],\n",
    "                      da['Input.explanation_3'],\n",
    "                      da['Input.explanation_4'],\n",
    "                      da['Input.explanation_5']]\n",
    "    if id_ not in fse_csqa_train_data_dict.keys():\n",
    "        fse_csqa_train_data_dict[id_]={\"index\":kk,\"id\":id_,\n",
    "                                     \"question\":da[\"Input.question\"],\n",
    "                                     'answer':da['Input.gold_label'],\n",
    "                                     \"accept_set_list\":[answer_accept],\n",
    "                                     \"explanation_list\":explanation_list}\n",
    "        #[[kk, id_, answer_accept, explanation_list]]\n",
    "    else:\n",
    "        fse_csqa_train_data_dict[id_][\"accept_set_list\"].append(answer_accept)\n",
    "        \n",
    "    if len(fse_csqa_train_data_dict[id_][\"accept_set_list\"])==3:\n",
    "        fse_csqa_train_data_dict[id_][\"common_expl_list\"]=[]\n",
    "        common_accept_expl_sample=set.intersection(fse_csqa_train_data_dict[id_][\"accept_set_list\"][0], \n",
    "                                                   fse_csqa_train_data_dict[id_][\"accept_set_list\"][1], \n",
    "                                                   fse_csqa_train_data_dict[id_][\"accept_set_list\"][2])\n",
    "        for idx in list(common_accept_expl_sample):\n",
    "            idx=int(idx)-1\n",
    "            fse_csqa_train_data_dict[id_][\"common_expl_list\"].append(fse_csqa_train_data_dict[id_][\"explanation_list\"][idx])\n",
    "\n",
    "    \n",
    "#discriminate 3/3 id\n",
    "id_accept_expl_list=[]\n",
    "our_accept_expl_list=[]\n",
    "id_unaccept_expl_list=[]\n",
    "for k,v in fse_csqa_train_data_dict.items():\n",
    "    accept_set_list=v['accept_set_list']\n",
    "    assert len(accept_set_list)==3\n",
    "    #pdb.set_trace()\n",
    "    common_accept_expl_sample=set.intersection(accept_set_list[0], accept_set_list[1], accept_set_list[2])\n",
    "    #print(accept_set_list,common_accept_expl_sample)\n",
    "    #pdb.set_trace()\n",
    "    if common_accept_expl_sample:\n",
    "        id_accept_expl_list.append(k)\n",
    "        our_expl=\"\"\n",
    "        for idx in list(common_accept_expl_sample):\n",
    "            idx=int(idx)-1\n",
    "            if len(v['explanation_list'][idx]) > len(our_expl):\n",
    "                our_expl = v['explanation_list'][idx]\n",
    "                our_accept_expl_list.append(our_expl)\n",
    "    else:\n",
    "        id_unaccept_expl_list.append(k)\n",
    "\n",
    "train_ids_list=[x['id'] for x in dataset['train']]\n",
    "train_accept_indexs_list=[train_ids_list.index(id_) for id_ in id_accept_expl_list]\n",
    "train_unaccpet_indexs_list=[train_ids_list.index(id_) for id_ in id_unaccept_expl_list]\n",
    "train_accept_data=dataset['train'].select(train_accept_indexs_list)\n",
    "train_unaccept_data=dataset['train'].select(train_unaccpet_indexs_list)\n",
    "\n",
    "\n",
    "\n",
    "new_train_accept_data=[]\n",
    "new_train_unaccept_data=[]\n",
    "for oexp, da in zip(our_accept_expl_list,train_accept_data):\n",
    "    da[\"our_explanation\"]=oexp\n",
    "    new_train_accept_data.append(da)\n",
    "for da in train_unaccept_data:\n",
    "    da[\"our_explanation\"]=oexp\n",
    "    new_train_unaccept_data.append(da)\n",
    "        \n",
    "new_train_accept_data[0]"
   ]
  },
  {
   "cell_type": "code",
   "execution_count": 14,
   "id": "595b9453",
   "metadata": {},
   "outputs": [
    {
     "data": {
      "text/plain": [
       "(set(), set())"
      ]
     },
     "execution_count": 14,
     "metadata": {},
     "output_type": "execute_result"
    }
   ],
   "source": [
    "refine_train_data=refine_train_data\n",
    "refine_dev_data=new_train_accept_data + new_dev_accept_data\n",
    "refine_test_data=new_train_unaccept_data + new_dev_unaccept_data\n",
    "\n",
    "refine_train_ids_list=[x['id'] for x in refine_train_data]\n",
    "refine_dev_ids_list=[x['id'] for x in refine_dev_data]\n",
    "refine_test_ids_list=[x['id'] for x in refine_test_data]\n",
    "\n",
    "set(refine_train_ids_list).intersection(set(refine_dev_ids_list)),set(refine_train_ids_list).intersection(set(refine_test_ids_list))\n",
    "\n"
   ]
  },
  {
   "cell_type": "code",
   "execution_count": 15,
   "id": "48e4ec26",
   "metadata": {},
   "outputs": [
    {
     "data": {
      "text/plain": [
       "dict_keys(['id', 'question', 'choices', 'answer', 'abstractive_explanation', 'extractive_explanation', 'our_explanation'])"
      ]
     },
     "execution_count": 15,
     "metadata": {},
     "output_type": "execute_result"
    }
   ],
   "source": [
    "our_data_splits={}\n",
    "our_data_splits['train']=refine_train_data\n",
    "our_data_splits['dev']=refine_dev_data\n",
    "our_data_splits['test']=refine_test_data\n",
    "refine_train_data[0].keys()"
   ]
  },
  {
   "cell_type": "markdown",
   "id": "0fcdf34f",
   "metadata": {},
   "source": [
    "# shots number"
   ]
  },
  {
   "cell_type": "code",
   "execution_count": 16,
   "id": "bd43fe66",
   "metadata": {},
   "outputs": [],
   "source": [
    "id_list = [\n",
    " '71519c19654251cced50c5718fd527c1',\n",
    " '44195d210c81c8c550174d0edbd3ad5d',\n",
    " '5a5da37b685ec9c6f15228128ce30437',\n",
    " 'cabdfc174953b4bdb8bdcc89d6592c74',\n",
    " 'eac3a4080127e8924034651b57dfa289',\n",
    " 'c0013f31657294b9b5ad819123513ca7',\n",
    " '2681697be70cd5425899ed6deb84b18a',\n",
    " '47f60340b869552e795fa6782224f3d2',\n",
    " '7e8a6eac93147eb52d8151bab7b40003',\n",
    " 'f34267f498c8a78383e35057fbcfa2ce',\n",
    " 'f024f923d78e5c0a4c0c4baa3ddccf05',\n",
    " 'e148c710d0c26849cf1f15293481038b',\n",
    " 'bdf437d7498815f36c255f64a8e6571c',\n",
    " '2282e0c80be28aadadb79a822fec9dac',\n",
    " 'bdd05e96876342b4b5999709439a7f4e',\n",
    " '494b8316614fc64c5c27757aeaffce23_1',\n",
    " 'c4494b402264250dc70931613d482295',\n",
    " 'fcfbf207c5586294fdce33b645b613f1',\n",
    " '9c583bcbe68989a644433302545fb31e',\n",
    " '0e684d779d98e6eecda167c10af42bbb',\n",
    " 'ac0462d09b9fddd40c3c77aedf48a870',\n",
    " '1dbfb41e04a10bdbb085bfe667c0df99',\n",
    " 'cd0c0ef3b8ce0eb09ff26823f6059be6',\n",
    " 'e6b67184b99375d05d3f2887f684c684',\n",
    " 'ae9f6f1e17b3fdd3a86b494933809f45',\n",
    " 'f149604169936a30b7e4c8d599d604b5',\n",
    " 'd7c8377953e0175ef57d59f3a8e63a8e',\n",
    " '1837216ac7745121b82a6491b2318c09',\n",
    " 'b5fe238d45e55ca5d802b7823ad390ef',\n",
    " 'b2fbeb0b48bd5e575af0f7dc24cdd85d',\n",
    " '9bdfb101c487ac598f6e4686cf774703',\n",
    " '206c7116ee2246180fcc0c5a1d0e7205',\n",
    " '5cd7f44bbf730dfae5ef2a362d2e5149',\n",
    " '45d0ea781ffd49b07d6eae94d47a8945',\n",
    " '89afdea1d76272fda8e1538a7d3b7a3f',\n",
    " '38a514fe54108527e1d6e89d9812da93',\n",
    " 'ebf347934a3e90ea46d3d87726fb5d25',\n",
    " '90226a6ecd7308ae1e6220a15ae24bc6',\n",
    " '5cae8057e75e3adf5c338a43b3ba97fb',\n",
    " '388a363c49e1b0aca8eaf18ccdde0caf',\n",
    " '9ed3af82152dfcd7000bf4631b095f71',\n",
    " '2d5805d894bba224c5fe91e70b8c0f77',\n",
    " 'd5aa464a16b72c9b9f3091abd461e3ef',\n",
    " '381b11c54be4cc432a95053ca34cbf6b',\n",
    " '807a3a2dabdd50ed0c76052fd2612632',\n",
    " '5172041c750d22e9a5081cc024de0fa6',\n",
    " 'd32a45ab3b751110d0578a78e54c0e64',\n",
    " '28ca5cbe27774746c34f6ebe84fc6d0c']\n",
    "\n",
    "chatGPT_rationales = [\n",
    "    \"A cup is a common vessel used for holding and drinking liquids, such as water, coffee, or tea. When you want to get yourself a drink, you might typically get a cup from a cabinet or other storage area in order to hold the drink. A cup is a convenient and practical choice for getting a drink because it is easy to hold and use, and it can hold a reasonable amount of liquid. There are many different types of cups available, including ceramic, glass, plastic, and metal cups, each with their own unique features and benefits. Whether you are at home, at work, or out in public, a cup is a handy item to have on hand when you need to quench your thirst.\",\n",
    "    \"A front yard is the lawn that is typically located in front of a house, near the street. The front yard is the part of the property that is visible from the street and is often used for decorative purposes, such as landscaping or gardening. Many people take pride in their front yards and may spend time and resources maintaining and improving them. The front yard is often the first thing that visitors see when they arrive at a house, and it can make a strong impression on them. In contrast, the back yard is typically located behind the house and is often used for more practical purposes, such as outdoor recreation or gardening.\",\n",
    "    \"A swimming pool is a recreational water feature that is typically used for swimming and other aquatic activities. While shallow water, such as that found in a kiddie pool or a shallow end of a pool, can be enjoyable for some people, it may not be sufficient for many summer activities. A swimming pool that is deep enough for diving and other activities is more likely to provide more opportunities for summer fun. In addition, a swimming pool that is clean and chlorinated is more likely to be safe and enjoyable for swimming, as it will be free of contaminants and bacteria that can cause illness.\",\n",
    "    \"In most places, it is illegal for people under the age of 21 to purchase or consume alcohol. This is because alcohol can have negative effects on the developing brain and body of young people. It can also contribute to risky behaviors and accidents. Therefore, many governments have set a minimum age for alcohol consumption and purchase to help protect the health and safety of young people. If someone is under the age of 21 and attempts to purchase alcohol, they may be denied the sale or face legal consequences. It is important for young people to understand and adhere to the laws and regulations regarding the purchase and consumption of alcohol in their area.\",\n",
    "    \"When someone shaves, they typically use a razor to remove hair from their face or body. The process of shaving can leave a lot of hair in the sink, as the hair is trimmed off and falls into the sink as it is being shaved. It is common for people to shave in the bathroom, where a sink is typically located. The sink provides a convenient place to rinse the razor and wash off any excess hair or shaving cream. It is important to clean the sink after shaving to remove any hair and prevent clogs in the drain.\",\n",
    "    \"A hamburger is a type of sandwich that consists of a cooked patty of ground meat, typically beef, placed between two slices of bread or a bun. Hamburgers are often served with various toppings, such as lettuce, tomato, onion, cheese, and condiments like ketchup and mustard. However, if someone is suffering from great hunger, they may not care about the toppings and just want to eat the hamburger itself. In this case, the person may be more focused on satisfying their hunger and getting nourishment rather than worrying about additional ingredients or flavors.\",\n",
    "    \"If a person notices popcorn and cotton candy on the grass, they are likely at fairgrounds. Fairgrounds are outdoor areas that are used for hosting fairs and other events, such as carnivals, festivals, and exhibitions. These events often feature food stalls and vendors that sell a variety of treats, including popcorn and cotton candy. Popcorn and cotton candy are both popular carnival foods that are often sold at fairs and other events. The presence of these foods on the ground at fairgrounds suggests that a fair or similar event is taking place there.\",\n",
    "    \"When snow on a mountain becomes heavy, it can trigger an avalanche. An avalanche is a rapid flow of snow down a slope, often triggered by the weight of the snow or external factors such as a change in temperature. Avalanches can be dangerous and destructive, as they can bury and sweep away anything in their path, including people, buildings, and vehicles. Avalanches can occur on any slope with a steep enough incline and a sufficient amount of snow. They are most common on mountains, but they can also occur in other snowy areas, such as forests or valleys. It is important for people to be aware of the risk of avalanches and to take precautions when traveling in areas prone to avalanches.\",\n",
    "    \"A police officer typically reports their work through the use of case reports or incident reports. These reports are written documents that detail the events of a specific case or incident that the officer has worked on. Case reports or incident reports typically include information such as the date and time of the incident, the location, the people involved, and the actions taken by the officer. They may also include witness statements, evidence collected, and any other relevant details. Case reports or incident reports are used by police officers to document their work and provide a record of the incidents they have dealt with. They are also used by supervisors and other authorities to review and evaluate the performance of the officer and the effectiveness of their actions.\",\n",
    "    \"Teachers play many roles in the lives of their students, including mentor, counselor, and role model. However, they get the most out of their job by simply teaching children. Teaching children is the primary responsibility of a teacher, and it is what they are trained and paid to do. Teaching involves imparting knowledge, skills, and values to students, and helping them to develop the skills and habits they need to succeed in life. Teachers have the opportunity to make a positive impact on the lives of their students by providing them with a strong foundation in academic subjects and helping them to become curious, engaged learners. Teachers often derive a great deal of satisfaction from helping their students to achieve their potential and succeed in their studies.\",\n",
    "    \"A person might go to get counseling for a variety of reasons. One reason is to better understand themselves. Counseling can provide a safe and supportive environment for individuals to explore their thoughts, feelings, and behaviors, and to gain insight into why they act and feel the way they do. Counseling can also help a person to identify and work through any underlying issues or challenges that may be causing them distress or hindering their personal growth. Through counseling, a person can learn more about themselves and how to navigate their emotions and relationships more effectively. Counseling can be particularly helpful for individuals who are struggling with mental health issues, relationship problems, or other personal challenges.\",\n",
    "    \"If the kids wanted to cool off, they might go swimming as a way to refresh and beat the heat. Swimming is a fun and enjoyable activity that can provide relief from hot weather and help to cool the body. Swimming can also provide a great workout and has numerous health benefits, such as improving cardiovascular fitness and flexibility. There are many different places where kids can go swimming, such as pools, lakes, rivers, or the ocean. No matter where they go, kids can have fun and cool off while enjoying the water.\",\n",
    "    \"When remembering a tragedy in the past, many people may feel depressed. Depression is a common emotional reaction to experiencing a traumatic or stressful event, such as a tragedy. Depression is a mental health disorder characterized by persistent feelings of sadness, hopelessness, and low energy. It can also cause physical symptoms such as changes in appetite and sleep patterns, fatigue, and difficulty concentrating. Remembering a tragedy can be emotionally difficult and may trigger feelings of sadness, grief, and guilt. It is important for people who are struggling with depression to seek support and treatment to help manage their symptoms and improve their mental health.\",\n",
    "    \"Death Valley is a national park located in the Mojave Desert, in the state of California, United States. It is situated on the North American continent. The North American continent is one of the seven continents of the world and is located in the western hemisphere. It is the third largest continent in terms of land area, after Asia and Africa, and is home to a diverse range of cultures, languages, and environments. Death Valley is known for its extreme desert climate and is the lowest, hottest, and driest place in North America. It is a popular destination for tourists, who come to see its unique geological features, such as sand dunes, salt flats, and canyons.\",\n",
    "    \"When in a serious relationship, understanding better requires effort. Relationships require effort and work to maintain and grow. In order to understand your partner better, you need to be willing to put in the time and effort to communicate with them, listen to their perspectives, and try to see things from their point of view. This may involve asking questions, expressing your own feelings and needs, and being open to feedback and compromise. Understanding your partner better can help to strengthen the bond between you and improve the quality of your relationship. It is important to remember that relationships are dynamic and evolving, and that ongoing communication and effort are necessary to maintain a healthy and fulfilling relationship.\",\n",
    "    \"Cats are able to make a variety of vocalizations, including meows, purrs, and growls, as a way of communicating with humans and other animals. Cats use these vocalizations to convey a range of emotions and needs, such as hunger, happiness, or discomfort. Meowing is a common vocalization that cats use to communicate with humans. Cats may meow when they want attention, food, or to be let outside. Cats may also meow when they are feeling anxious or stressed. Although cats cannot talk in the same way that humans do, they are skilled at using their voices to communicate with their owners and other animals.\",\n",
    "    \"If you need a vessel that is similar to a battleship but faster, you might consider using a corvette. A corvette is a small, fast warship that is typically used for convoy escort, patrol, and other shallow water duties. Corvettes are generally smaller and less heavily armed than battleships, but they are more agile and have a higher speed. They are typically equipped with a variety of weapons, including guns, missiles, and torpedoes, and are used for defending against enemy ships and aircraft. Corvettes are often used for coastal defense, as well as for patrolling and enforcing maritime laws. They are capable of operating in a variety of environments, including open ocean and littoral (nearshore) waters.\",\n",
    "    \"Water in the sky comes from rain clouds. Rain clouds are clouds that form when moist air rises and cools, forming tiny water droplets that condense around particles in the air. As the droplets grow, they eventually become heavy enough to fall from the cloud as rain. Rain clouds are typically gray or white in color and are often accompanied by other types of clouds, such as cumulus or stratocumulus clouds. Rain clouds can form in a variety of ways, such as when warm, moist air from the ground rises and cools, or when moist air from the ocean is carried inland by the wind. Rain clouds can be found in many parts of the world and are a common source of precipitation, especially during the warmer months.\",\n",
    "    \"If John rented a hotel room while on a business trip and it was a company-sponsored event, it is possible that the hotel was a resort. Resorts are hotels or vacation properties that offer a variety of amenities and activities for guests, such as swimming pools, golf courses, spas, and restaurants. They are often located in scenic or recreational areas and are designed to provide a relaxing and enjoyable experience for guests. Many resorts offer conference and meeting facilities and are popular destinations for business events and retreats. If John's company sponsored the business trip and provided the hotel accommodations, it is likely that they chose a resort with the amenities and facilities needed to support the event.\",\n",
    "    \"An expressway might leave the United States and go to Canada. The United States and Canada are neighboring countries that share a border, and there are several expressways that cross the border between the two countries. Expressways are high-speed, limited-access roads that are designed for fast and efficient travel. They typically have multiple lanes and may include features such as grade separations, interchanges, and controlled access points. Expressways are used for long-distance travel and are often the main routes connecting major cities and regions. If an expressway leaves the United States, it is likely that it is heading towards Canada, which is located to the north of the United States.\",\n",
    "    \"If you were walking on a sidewalk near a small corner shop run by John, you would look for it on the street corner. A corner shop is a small retail store that is typically located at the intersection of two streets. It is often a convenience store or a neighborhood shop that sells a variety of goods, such as groceries, household items, and other supplies. Corner shops are often located in busy urban areas, where they are easily accessible to pedestrians and motorists. If you were walking on a sidewalk near a corner shop, you would look for it at the intersection of the street where you are walking and another street. The shop is likely to be located in a building on the corner, with windows and doors facing the street.\",\n",
    "    \"One way that a company can efficiently sell things to their customers is through mail order. Mail order is a method of selling goods or services by advertising them in a catalog or other publication and allowing customers to place orders by mail, telephone, or online. Mail order is a convenient and efficient way for companies to reach a wide customer base, as it allows them to sell products to customers who may not be located near their physical store or who may not have the time or inclination to shop in person. Mail order companies typically have a centralized warehouse or distribution center where orders are processed and shipped to customers. They may also offer options such as easy returns and exchanges, as well as customer service support to assist with any questions or issues that customers may have.\",\n",
    "    \"If he enjoyed the factory work and liked the idea that he did it for sale, it is likely that he enjoyed producing goods. Factory work typically involves the production of goods, such as products or materials, using machines, tools, and other equipment. Factory workers are responsible for operating and maintaining the equipment and ensuring that the goods being produced meet quality standards. The goods produced in a factory may be sold directly to consumers or to other businesses, and may be used for a variety of purposes, such as manufacturing, construction, or distribution. If a person enjoys factory work, they may find satisfaction in the idea that they are contributing to the production of goods that will be sold and used by others.\",\n",
    "    \"If returning to work was easy for Dan after his treatment and he was completely painless, it is likely that he had undergone some form of medical treatment or therapy to address a health issue or injury. Painless indicates that Dan was no longer experiencing pain or discomfort, which may have been a result of the treatment or therapy he received. It is not clear from the information provided what specific health issue or injury Dan was dealing with, or what treatment or therapy he received. However, it is possible that Dan was able to return to work more easily after his treatment because he was feeling better and was no longer experiencing any pain or discomfort.\",\n",
    "    \"If index cards were on display at the museum, it is likely that the museum was a library. Libraries are institutions that provide access to a wide range of resources, including books, periodicals, and other printed materials, as well as digital resources such as e-books, databases, and online research tools. Libraries often have exhibits and displays of various types of materials, including rare or unique items, and may have special collections or archives that are of particular interest to researchers or historians. Index cards are small, rectangular pieces of paper that are used for organizing information, such as names, dates, or research notes. They may be used in a variety of settings, including libraries, offices, and schools. If index cards were on display at the museum, it is possible that they were part of a historical exhibit or collection related to the history of libraries or research.\",\n",
    "    \"If she was a human in America who wanted to live well, it is likely that the given for her situation was the need for money. In general, money is an important factor in enabling people to live well and meet their basic needs and desires. Money allows people to purchase the goods and services that they need to sustain themselves and their families, such as food, clothing, housing, and healthcare. It also enables people to pursue their interests and hobbies, travel, and engage in various forms of leisure and entertainment. In America, and in many other countries around the world, the cost of living can be high, and people often need to earn and save money in order to achieve a desired standard of living. As such, the need for money is a given for many people in order to live well.\",\n",
    "    \"A place that could have one back garden is a house. A garden is a piece of land that is used for growing plants, flowers, vegetables, or other types of vegetation. Gardens can be found in a variety of settings, including residential properties, public parks, and commercial properties. A house is a building that is used as a dwelling for one or more people, and it typically includes living spaces, such as bedrooms, bathrooms, and a kitchen, as well as outdoor areas, such as a front yard, side yard, and back yard. A back yard is a private outdoor space that is typically located behind a house and is often used for recreational or leisure activities, such as gardening, grilling, or playing games. If a house has a back garden, it is likely that the garden is located in the back yard.\",\n",
    "    \"People gather at a football stadium to see large men in pads play a game where they run and smash into each other. Football is a popular sport that is played on a rectangular field by two teams of eleven players. The game involves running, passing, and tackling, and players wear pads and other protective gear to reduce the risk of injury. Football is a physical and intense sport, and players often collide with each other at high speeds. Football stadiums are large, open-air facilities that are designed to host football games and other sporting events. They typically have a grass or artificial turf field, seating for spectators, and a variety of amenities, such as concessions stands, restrooms, and VIP areas. Football stadiums are popular places for people to gather and watch football games, and they can be found in cities and towns throughout the world.\",\n",
    "    \"One place where someone can get a flute is a musical instrument store. A musical instrument store is a retail establishment that specializes in selling musical instruments and related accessories. They may carry a wide range of instruments, including brass instruments, woodwind instruments, string instruments, percussion instruments, and keyboards. Flutes are woodwind instruments that are played by blowing air into a narrow opening and producing sound by vibrating the lips against a metal or wooden reed. They are popular instruments that are used in a variety of musical styles, including classical, jazz, and folk music. If someone is looking to purchase a flute, they may be able to find a selection of flutes at a musical instrument store. In addition to flutes, musical instrument stores may also offer a variety of other instruments, as well as sheet music, instructional materials, and accessories such as cases, stands, and cleaning supplies.\",\n",
    "    \"It is not clear what someone who has a greed for energy would do. The word greed typically refers to an excessive or insatiable desire for wealth, power, or material possessions. It is not clear how this concept would relate to energy or how it might influence someone's actions. It is possible that someone who has a lot of energy or who is very active might have a high appetite for food and might seek out sources of fuel or nutrition to sustain their energy levels. In this case, they might buy food as a way to obtain the energy they need. However, it is not accurate to say that someone who has a greed for energy would necessarily do this. It is important to note that the concept of greed is generally considered to be negative, as it suggests an unhealthy or unsustainable desire for something.\",\n",
    "    \"A forklift is a type of industrial vehicle that is used for moving and lifting heavy loads, such as pallets, crates, and boxes. Forklifts are equipped with a hydraulic lift mechanism and a set of prongs or forks that can be used to lift and transport loads. They are commonly used in warehouses and other distribution centers to move and stack materials, such as boxes, onto shelves or other storage areas. If you were using a forklift to stack boxes onto shelves, it is likely that you were in a warehouse or a similar facility. Warehouses are large, commercial buildings that are used for storing and distributing goods. They often have high ceilings, wide aisles, and multiple levels, and they may be equipped with a variety of material handling equipment, such as forklifts, conveyor belts, and cranes, to facilitate the movement and storage of goods.\",\n",
    "    \"You are likely to receive mouthwash in a little paper cup at a dentist's office. Dentist's offices are healthcare facilities that are staffed by dentists and other dental professionals, and they are used for the diagnosis and treatment of dental problems and the maintenance of oral health. One common practice at a dentist's office is to rinse the mouth with mouthwash, which is a liquid that is used to freshen breath, kill bacteria, and reduce the risk of gum disease and other oral health issues. Mouthwash is typically used after brushing and flossing to help remove any remaining food particles or plaque from the mouth. It may be dispensed in a little paper cup, which can be used to rinse the mouth and then disposed of after use.\",\n",
    "    \"A doctor's office can help you with an illness. A doctor's office is a healthcare facility that is staffed by medical doctors and other healthcare professionals, and it is used for the diagnosis and treatment of medical conditions and the maintenance of overall health. If you are experiencing an illness, such as a cold, flu, or more serious health issue, you may visit a doctor's office to seek medical care and treatment. At a doctor's office, you may receive a physical examination, diagnostic tests, and other forms of medical treatment, depending on the nature of your illness and your specific needs. Doctors are trained to diagnose and treat a wide range of medical conditions, and they can provide you with the care and support you need to recover from your illness and get back to good health.\",\n",
    "    \"A bug looking for wildflowers and no human interruption might go to a meadow. A meadow is a grassland area that is characterized by its open, grassy landscape and the presence of wildflowers and other types of vegetation. Meadows can be found in a variety of settings, including rural areas, forests, and parkland, and they are often home to a variety of animal and plant species. Because meadows are relatively undisturbed by human activity, they can be a good place for a bug to find wildflowers and other types of plants without interference from humans. Meadows are often considered to be peaceful, serene places, and they may be attractive to a bug that is seeking a quiet, natural environment in which to explore and forage.\",\n",
    "    \"If a bride and groom are taking care of proposals, the likely ceremony is a marriage. A marriage is a formal union between two people that is recognized by law and typically involves a public ceremony and the exchange of vows. A marriage proposal is a request for someone to marry another person, and it is typically made by one partner to the other. The process of planning a marriage often involves taking care of a variety of details and arrangements, such as choosing a venue, selecting a date, inviting guests, and organizing the ceremony and reception. If a bride and groom are taking care of proposals, it is likely that they are in the process of planning their marriage and preparing for the wedding ceremony.\",\n",
    "    \"You could put some olives in a jar to prevent them from getting nearby food wet. A jar is a container that is typically made of glass or ceramic and has a wide mouth and a secure, tight-fitting lid. Jars are often used for storing food items, such as olives, pickles, jams, and other types of preserved or dried goods. Because they have a sealed lid, jars can help to keep food fresh and prevent it from coming into contact with air or other substances that might spoil or contaminate it. If you want to prevent olives from getting nearby food wet, you could put them in a jar and close the lid to create an airtight seal. This would help to keep the olives separate from other foods and prevent them from coming into contact with moisture or other liquids.\",\n",
    "    \"If the graveyard was zoned by the pastor, it is likely that it was located on church property. Church property refers to land or buildings that are owned by a church or religious organization. This may include the main church building, as well as other structures such as a rectory, school, or community center. Church property may also include a graveyard or cemetery, which is a place where people are buried after they die. Pastors, who are ordained leaders in a church, often play a central role in the management and oversight of church property, and they may be responsible for zoning or designating areas within the property for specific purposes, such as a graveyard or a garden. If the pastor has zoned the graveyard, it is likely that it is located on church property and is being used as a place for burial by members of the church or community.\",\n",
    "    \"If a family wanted to live with carpeting, they may have ended up putting it in their houses. Houses are structures that are designed and built to be used as homes, and they typically have a number of rooms that are used for different purposes, such as sleeping, cooking, eating, and relaxing. Carpeting is a type of floor covering that is made of soft, flexible materials, such as wool, nylon, or polypropylene, and it is often used in houses to provide warmth, comfort, and insulation. If a family wanted to live with carpeting, they may have chosen to install carpeting in some or all of the rooms in their houses, in order to create a warm and cozy atmosphere and to improve the overall comfort and livability of their homes.\",\n",
    "    \"If a boss likes an employee's ambition, the employee may be put in charge of a project. A project is a specific task or set of tasks that is undertaken in order to achieve a specific goal or objective. Projects may be large or small, complex or simple, and they may involve a wide range of activities, such as research, design, development, testing, and implementation. If an employee is ambitious and demonstrates a strong desire to succeed and make a positive contribution to their organization, their boss may choose to put them in charge of a project, in order to give them the opportunity to demonstrate their skills and abilities and to take on more responsibility. Being put in charge of a project can be a challenging and rewarding experience, and it may provide an employee with the chance to learn new things, develop their skills, and make a meaningful contribution to their organization.\",\n",
    "    \"A county highway can be viewed as a line on a map. A map is a graphic representation of an area or region that shows the locations of various features, such as roads, rivers, mountains, and cities. Maps are often used to help people navigate and find their way around unfamiliar places, and they can be very useful for understanding the layout and geography of an area. County highways are roads that are maintained and operated by a county or local government, and they are typically used for local travel and transportation within a county or region. On a map, a county highway may be represented as a line, with a specific color or symbol used to indicate its location and route. By viewing a county highway as a line on a map, it is possible to get a sense of the route and layout of the road, and to use the map to plan a journey or navigate to a specific destination.\",\n",
    "    \"After going for a run, someone may feel tired. Running is a form of physical activity that involves moving quickly and continuously on foot, typically by running or jogging. It is a popular form of exercise that can help to improve cardiovascular fitness, build endurance, and strengthen the muscles of the legs and lower body. However, running can also be physically demanding, and it requires a certain level of fitness and stamina to be able to sustain the activity for an extended period of time. As a result, it is common for people to feel tired after going for a run, especially if they are not used to the activity or if they have pushed themselves to run for a longer distance or at a faster pace than usual. Tiredness after a run may be accompanied by other physical sensations, such as muscle fatigue, thirst, or a sense of accomplishment.\",\n",
    "    \"If a car was going from Florida to Ohio, it was heading north. Florida is a state in the southeastern region of the United States, and Ohio is a state in the midwestern region of the country. When traveling from Florida to Ohio, a person would need to go north in order to reach their destination. North is a direction that is opposite to south on a map or compass, and it is typically associated with higher latitude, colder climates, and longer nights. When traveling north, a person may encounter different landscapes, weather patterns, and cultural experiences than they would when traveling south, depending on the specific route and the distance traveled. By heading north from Florida to Ohio, a person would be leaving behind the warm, tropical climate of Florida and entering into a more temperate, mid-latitude region with cooler temperatures and a more diverse range of landscapes and ecosystems.\",\n",
    "    \"During a typical week, a teacher is likely to spend most of their time working in school. A teacher is a person who is trained and qualified to teach students in a school or educational setting, and their primary job is to provide instruction and guidance to help students learn and develop their skills and knowledge. Teachers may work in a variety of settings, including primary schools, secondary schools, and universities, and they may teach a wide range of subjects, including math, science, English, history, and the arts. In order to fulfill their duties as a teacher, a person is likely to spend most of their time working in a school or educational setting, where they will be responsible for preparing and delivering lessons, grading assignments, communicating with students and parents, and performing other tasks related to their job. Teachers typically work on a schedule that follows the school year, and they may work full-time or part-time, depending on their specific circumstances and the needs of their students.\",\n",
    "    \"In a predicament, an animal might choose to fight for its life as an alternative to fleeing. Predicament is a term that refers to a difficult or challenging situation, typically one that involves a choice or decision that needs to be made. When an animal finds itself in a predicament, it may have to decide how to respond in order to survive and protect itself. One option that an animal may have is to flee or run away from the situation in an effort to escape danger or avoid conflict. Another option that an animal may have is to fight for its life, using whatever means are available to defend itself and protect its survival. The choice that an animal makes in a predicament will depend on a variety of factors, including the specific nature of the situation, the animal's size, strength, and abilities, and the resources and options that are available to it.\",\n",
    "    \"It is not common for people to fight each other when they find a good deal. A good deal is typically defined as an opportunity to purchase something at a price that is lower than what it is usually worth, or to obtain a product or service that provides more value or benefits than what is expected. When people find a good deal, they may feel excited or pleased about the opportunity to save money or get more for their money, and they may take action to take advantage of the deal. However, it is generally not considered acceptable or appropriate for people to fight each other over a good deal or to engage in physical violence or aggression in order to obtain it. There are many other ways that people can express their interest in a good deal, such as by negotiating with the seller, making an offer, or simply making a purchase if the price is acceptable.\",\n",
    "    \"An altar is a platform or structure that is used for religious ceremonies, rituals, or worship. Altars are often found in places of worship, such as temples, churches, synagogues, mosques, and other religious buildings. When a person is standing in front of an altar, they are likely to be in a temple or other place of worship. Altars can be used for a variety of purposes in different religions and spiritual traditions, such as offering sacrifices, making offerings, praying, or performing other religious practices. They may be decorated with symbols, images, or other items that are significant to the religion or spiritual tradition that is being practiced. Altars may also be used as a place for people to meditate, reflect, or seek spiritual guidance.\",\n",
    "    \"Joe bought a bunch of grapes because he likes to use them to top his desserts. A dessert is a type of food that is typically served at the end of a meal, and it is usually sweet or rich in flavor. There are many different types of desserts that people enjoy, including cakes, cookies, ice cream, pie, and other sweet treats. One way that people may use grapes as a topping for their desserts is by placing them on top of a fruit pie, tart, or crisp. Grapes can add flavor and texture to a dessert, and they may also be used to decorate a dessert or to add visual appeal. Grapes are a versatile fruit that can be used in many different types of desserts, and they can be eaten fresh, frozen, or preserved in various ways.\",\n",
    "    \"Well water is water that is obtained from underground sources, typically through the use of a well. A well is a hole or shaft that is dug into the ground in order to access water that is contained in underground aquifers or other water-bearing formations. Well water is typically used for drinking, irrigation, and other purposes, and it is often considered to be of high quality because it is filtered and purified naturally as it flows through the ground. To obtain well water, a person can dig a well or have one dug by a professional well driller. The depth of the well will depend on the location and the geology of the area, and a pump or other mechanical system may be used to bring the water to the surface.\",\n",
    "]"
   ]
  },
  {
   "cell_type": "code",
   "execution_count": 17,
   "id": "013e06f0",
   "metadata": {},
   "outputs": [],
   "source": [
    "import glob\n",
    "import json\n",
    "import pdb\n",
    "chatgpt_50_100_rationales_dir = \"./chatgpt_rationales/150_200_text003\"\n",
    "file_list = glob.glob(\"{}/*.json\".format(chatgpt_50_100_rationales_dir))\n",
    "chatgpt_rationales_dict = {}\n",
    "for file in file_list:\n",
    "    with open(file, 'r') as f:\n",
    "        da = json.load(f)\n",
    "        #print(da.keys())\n",
    "        chatgpt_rationales_dict[da['id']] = da['150_to_200_words']\n",
    "        #pdb.set_trace()"
   ]
  },
  {
   "cell_type": "code",
   "execution_count": 18,
   "id": "d9681ea9",
   "metadata": {},
   "outputs": [],
   "source": [
    "def list2dict(refine_data):\n",
    "    refine_data_dict={}\n",
    "    for key in refine_data[0].keys():\n",
    "        refine_data_dict[key]=[x[key] for x in refine_data]\n",
    "    return refine_data_dict\n",
    "\n",
    "select_refine_train_data = []\n",
    "for da in refine_train_data:\n",
    "    #pdb.set_trace()\n",
    "    if da['id'] in chatgpt_rationales_dict.keys():\n",
    "        da['our_explanation'] = chatgpt_rationales_dict[da['id']]\n",
    "        select_refine_train_data.append(da) \n",
    "        \n",
    "select_refine_train_data_dict = list2dict(select_refine_train_data)\n",
    "our_data_splits['train'] = datasets.Dataset.from_dict(select_refine_train_data_dict).shuffle().select(range(48))\n",
    "\n",
    "refine_dev_data_dict = list2dict(refine_dev_data)\n",
    "our_data_splits['dev'] = datasets.Dataset.from_dict(refine_dev_data_dict)\n",
    "\n",
    "refine_test_data_dict = list2dict(refine_test_data)\n",
    "our_data_splits['test'] = datasets.Dataset.from_dict(refine_test_data_dict)\n",
    "\n"
   ]
  },
  {
   "cell_type": "code",
   "execution_count": 19,
   "id": "53ab0e1a",
   "metadata": {},
   "outputs": [],
   "source": [
    "import datasets\n",
    "class SequenceCollator:\n",
    "    def __init__(self, pad_token):\n",
    "        # self.pad_token_mapping = {\n",
    "        #     \"lm_labels\": -100,\n",
    "        #     \"attention_mask\": 0,\n",
    "        #     \"decoder_attention_mask\": 0,\n",
    "        #     \"input_ids\": pad_token,\n",
    "        # }\n",
    "        # self.columns = [\n",
    "        #     \"input_ids\",\n",
    "        #     \"attention_mask\",\n",
    "        #     \"lm_labels\",\n",
    "        #     \"decoder_attention_mask\",\n",
    "        # ]\n",
    "        self.pad_token_mapping = {\n",
    "            \"labels\": -100,\n",
    "            \"attention_mask\": 0,\n",
    "            \"decoder_attention_mask\": 0,\n",
    "            \"input_ids\": pad_token,\n",
    "        }\n",
    "        self.columns = [\n",
    "            \"input_ids\",\n",
    "            \"attention_mask\",\n",
    "            \"labels\",\n",
    "            \"decoder_attention_mask\",\n",
    "        ]\n",
    "\n",
    "    def collate_batch(self, examples):\n",
    "\n",
    "        # batch inputs for training\n",
    "        batch = {}\n",
    "        for key in examples[0].keys():\n",
    "            if key in self.columns:\n",
    "                tmp_list = []\n",
    "                for item in examples:\n",
    "                    tmp_list.append(item[key])\n",
    "\n",
    "                # pad lists to max length\n",
    "                if isinstance(tmp_list[0], list):\n",
    "                    max_length = max(map(len, tmp_list))\n",
    "                    tmp_list = [\n",
    "                        el + [self.pad_token_mapping[key]] * (max_length - len(el))\n",
    "                        for el in tmp_list\n",
    "                    ]\n",
    "\n",
    "                batch[key] = torch.tensor(tmp_list, dtype=torch.long)\n",
    "        return batch\n",
    "    \n",
    "    def __call__(self, examples: List[Dict[str, InputDataClass]]) -> Dict[str, torch.Tensor]:\n",
    "        # re-format inputs for training\n",
    "        batch = {}\n",
    "        for key in examples[0].keys():\n",
    "            if key in self.columns:\n",
    "                tmp_list = []\n",
    "                for item in examples:\n",
    "                    tmp_list.append(item[key])\n",
    "\n",
    "                # pad lists to max length\n",
    "                if isinstance(tmp_list[0], list):\n",
    "                    max_length = max(map(len, tmp_list))\n",
    "                    tmp_list = [\n",
    "                        el + [self.pad_token_mapping[key]] * (max_length - len(el))\n",
    "                        for el in tmp_list\n",
    "                    ]\n",
    "\n",
    "                batch[key] = torch.tensor(tmp_list, dtype=torch.long)\n",
    "        return batch\n",
    "# dataset = datasets.load_dataset(data_args.task_name, data_args.version_name)"
   ]
  },
  {
   "cell_type": "code",
   "execution_count": 20,
   "id": "219866fe",
   "metadata": {},
   "outputs": [
    {
     "data": {
      "application/json": {
       "ascii": false,
       "bar_format": null,
       "colour": null,
       "elapsed": 0.012515068054199219,
       "initial": 0,
       "n": 0,
       "ncols": null,
       "nrows": 60,
       "postfix": null,
       "prefix": "",
       "rate": null,
       "total": 48,
       "unit": "ex",
       "unit_divisor": 1000,
       "unit_scale": false
      },
      "application/vnd.jupyter.widget-view+json": {
       "model_id": "f0abbedc8ec443fca054f5e14d82ae5b",
       "version_major": 2,
       "version_minor": 0
      },
      "text/plain": [
       "  0%|          | 0/48 [00:00<?, ?ex/s]"
      ]
     },
     "metadata": {},
     "output_type": "display_data"
    },
    {
     "data": {
      "application/json": {
       "ascii": false,
       "bar_format": null,
       "colour": null,
       "elapsed": 0.012111902236938477,
       "initial": 0,
       "n": 0,
       "ncols": null,
       "nrows": 60,
       "postfix": null,
       "prefix": "",
       "rate": null,
       "total": 986,
       "unit": "ex",
       "unit_divisor": 1000,
       "unit_scale": false
      },
      "application/vnd.jupyter.widget-view+json": {
       "model_id": "b765932c85964e37852954b1236b946c",
       "version_major": 2,
       "version_minor": 0
      },
      "text/plain": [
       "  0%|          | 0/986 [00:00<?, ?ex/s]"
      ]
     },
     "metadata": {},
     "output_type": "display_data"
    },
    {
     "data": {
      "application/json": {
       "ascii": false,
       "bar_format": null,
       "colour": null,
       "elapsed": 0.012560367584228516,
       "initial": 0,
       "n": 0,
       "ncols": null,
       "nrows": 60,
       "postfix": null,
       "prefix": "",
       "rate": null,
       "total": 255,
       "unit": "ex",
       "unit_divisor": 1000,
       "unit_scale": false
      },
      "application/vnd.jupyter.widget-view+json": {
       "model_id": "bece557b90f1487ab9a05d3c19055f76",
       "version_major": 2,
       "version_minor": 0
      },
      "text/plain": [
       "  0%|          | 0/255 [00:00<?, ?ex/s]"
      ]
     },
     "metadata": {},
     "output_type": "display_data"
    }
   ],
   "source": [
    "# seq_collector = SequenceCollator(0)\n",
    "# train_ds = seq_collector.__call__(dataset['train'])\n",
    "# train_ds\n",
    "# dataset['train'][0].keys()\n",
    "for split in ['train','dev','test']:\n",
    "    our_data_splits[split] = our_data_splits[split].map(\n",
    "            lambda x: format_instance(\n",
    "                x,\n",
    "                tokenizer,\n",
    "                data_args.explanation_sep,\n",
    "                datasource=data_args.task_name,\n",
    "                io_format=data_args.io_format\n",
    "            ),\n",
    "            batched=False,\n",
    "            load_from_cache_file=False,\n",
    "        )"
   ]
  },
  {
   "cell_type": "code",
   "execution_count": null,
   "id": "0c120e04",
   "metadata": {},
   "outputs": [],
   "source": []
  },
  {
   "cell_type": "code",
   "execution_count": 21,
   "id": "81048fad",
   "metadata": {},
   "outputs": [],
   "source": [
    "chatGPT_rationales = [\n",
    "    \"A cup is a common vessel used for holding and drinking liquids, such as water, coffee, or tea. When you want to get yourself a drink, you might typically get a cup from a cabinet or other storage area in order to hold the drink. A cup is a convenient and practical choice for getting a drink because it is easy to hold and use, and it can hold a reasonable amount of liquid. There are many different types of cups available, including ceramic, glass, plastic, and metal cups, each with their own unique features and benefits. Whether you are at home, at work, or out in public, a cup is a handy item to have on hand when you need to quench your thirst.\",\n",
    "    \"A front yard is the lawn that is typically located in front of a house, near the street. The front yard is the part of the property that is visible from the street and is often used for decorative purposes, such as landscaping or gardening. Many people take pride in their front yards and may spend time and resources maintaining and improving them. The front yard is often the first thing that visitors see when they arrive at a house, and it can make a strong impression on them. In contrast, the back yard is typically located behind the house and is often used for more practical purposes, such as outdoor recreation or gardening.\",\n",
    "    \"A swimming pool is a recreational water feature that is typically used for swimming and other aquatic activities. While shallow water, such as that found in a kiddie pool or a shallow end of a pool, can be enjoyable for some people, it may not be sufficient for many summer activities. A swimming pool that is deep enough for diving and other activities is more likely to provide more opportunities for summer fun. In addition, a swimming pool that is clean and chlorinated is more likely to be safe and enjoyable for swimming, as it will be free of contaminants and bacteria that can cause illness.\",\n",
    "    \"In most places, it is illegal for people under the age of 21 to purchase or consume alcohol. This is because alcohol can have negative effects on the developing brain and body of young people. It can also contribute to risky behaviors and accidents. Therefore, many governments have set a minimum age for alcohol consumption and purchase to help protect the health and safety of young people. If someone is under the age of 21 and attempts to purchase alcohol, they may be denied the sale or face legal consequences. It is important for young people to understand and adhere to the laws and regulations regarding the purchase and consumption of alcohol in their area.\",\n",
    "    \"When someone shaves, they typically use a razor to remove hair from their face or body. The process of shaving can leave a lot of hair in the sink, as the hair is trimmed off and falls into the sink as it is being shaved. It is common for people to shave in the bathroom, where a sink is typically located. The sink provides a convenient place to rinse the razor and wash off any excess hair or shaving cream. It is important to clean the sink after shaving to remove any hair and prevent clogs in the drain.\",\n",
    "    \"A hamburger is a type of sandwich that consists of a cooked patty of ground meat, typically beef, placed between two slices of bread or a bun. Hamburgers are often served with various toppings, such as lettuce, tomato, onion, cheese, and condiments like ketchup and mustard. However, if someone is suffering from great hunger, they may not care about the toppings and just want to eat the hamburger itself. In this case, the person may be more focused on satisfying their hunger and getting nourishment rather than worrying about additional ingredients or flavors.\",\n",
    "    \"If a person notices popcorn and cotton candy on the grass, they are likely at fairgrounds. Fairgrounds are outdoor areas that are used for hosting fairs and other events, such as carnivals, festivals, and exhibitions. These events often feature food stalls and vendors that sell a variety of treats, including popcorn and cotton candy. Popcorn and cotton candy are both popular carnival foods that are often sold at fairs and other events. The presence of these foods on the ground at fairgrounds suggests that a fair or similar event is taking place there.\",\n",
    "    \"When snow on a mountain becomes heavy, it can trigger an avalanche. An avalanche is a rapid flow of snow down a slope, often triggered by the weight of the snow or external factors such as a change in temperature. Avalanches can be dangerous and destructive, as they can bury and sweep away anything in their path, including people, buildings, and vehicles. Avalanches can occur on any slope with a steep enough incline and a sufficient amount of snow. They are most common on mountains, but they can also occur in other snowy areas, such as forests or valleys. It is important for people to be aware of the risk of avalanches and to take precautions when traveling in areas prone to avalanches.\",\n",
    "    \"A police officer typically reports their work through the use of case reports or incident reports. These reports are written documents that detail the events of a specific case or incident that the officer has worked on. Case reports or incident reports typically include information such as the date and time of the incident, the location, the people involved, and the actions taken by the officer. They may also include witness statements, evidence collected, and any other relevant details. Case reports or incident reports are used by police officers to document their work and provide a record of the incidents they have dealt with. They are also used by supervisors and other authorities to review and evaluate the performance of the officer and the effectiveness of their actions.\",\n",
    "    \"Teachers play many roles in the lives of their students, including mentor, counselor, and role model. However, they get the most out of their job by simply teaching children. Teaching children is the primary responsibility of a teacher, and it is what they are trained and paid to do. Teaching involves imparting knowledge, skills, and values to students, and helping them to develop the skills and habits they need to succeed in life. Teachers have the opportunity to make a positive impact on the lives of their students by providing them with a strong foundation in academic subjects and helping them to become curious, engaged learners. Teachers often derive a great deal of satisfaction from helping their students to achieve their potential and succeed in their studies.\",\n",
    "    \"A person might go to get counseling for a variety of reasons. One reason is to better understand themselves. Counseling can provide a safe and supportive environment for individuals to explore their thoughts, feelings, and behaviors, and to gain insight into why they act and feel the way they do. Counseling can also help a person to identify and work through any underlying issues or challenges that may be causing them distress or hindering their personal growth. Through counseling, a person can learn more about themselves and how to navigate their emotions and relationships more effectively. Counseling can be particularly helpful for individuals who are struggling with mental health issues, relationship problems, or other personal challenges.\",\n",
    "    \"If the kids wanted to cool off, they might go swimming as a way to refresh and beat the heat. Swimming is a fun and enjoyable activity that can provide relief from hot weather and help to cool the body. Swimming can also provide a great workout and has numerous health benefits, such as improving cardiovascular fitness and flexibility. There are many different places where kids can go swimming, such as pools, lakes, rivers, or the ocean. No matter where they go, kids can have fun and cool off while enjoying the water.\",\n",
    "    \"When remembering a tragedy in the past, many people may feel depressed. Depression is a common emotional reaction to experiencing a traumatic or stressful event, such as a tragedy. Depression is a mental health disorder characterized by persistent feelings of sadness, hopelessness, and low energy. It can also cause physical symptoms such as changes in appetite and sleep patterns, fatigue, and difficulty concentrating. Remembering a tragedy can be emotionally difficult and may trigger feelings of sadness, grief, and guilt. It is important for people who are struggling with depression to seek support and treatment to help manage their symptoms and improve their mental health.\",\n",
    "    \"Death Valley is a national park located in the Mojave Desert, in the state of California, United States. It is situated on the North American continent. The North American continent is one of the seven continents of the world and is located in the western hemisphere. It is the third largest continent in terms of land area, after Asia and Africa, and is home to a diverse range of cultures, languages, and environments. Death Valley is known for its extreme desert climate and is the lowest, hottest, and driest place in North America. It is a popular destination for tourists, who come to see its unique geological features, such as sand dunes, salt flats, and canyons.\",\n",
    "    \"When in a serious relationship, understanding better requires effort. Relationships require effort and work to maintain and grow. In order to understand your partner better, you need to be willing to put in the time and effort to communicate with them, listen to their perspectives, and try to see things from their point of view. This may involve asking questions, expressing your own feelings and needs, and being open to feedback and compromise. Understanding your partner better can help to strengthen the bond between you and improve the quality of your relationship. It is important to remember that relationships are dynamic and evolving, and that ongoing communication and effort are necessary to maintain a healthy and fulfilling relationship.\",\n",
    "    \"Cats are able to make a variety of vocalizations, including meows, purrs, and growls, as a way of communicating with humans and other animals. Cats use these vocalizations to convey a range of emotions and needs, such as hunger, happiness, or discomfort. Meowing is a common vocalization that cats use to communicate with humans. Cats may meow when they want attention, food, or to be let outside. Cats may also meow when they are feeling anxious or stressed. Although cats cannot talk in the same way that humans do, they are skilled at using their voices to communicate with their owners and other animals.\",\n",
    "    \"If you need a vessel that is similar to a battleship but faster, you might consider using a corvette. A corvette is a small, fast warship that is typically used for convoy escort, patrol, and other shallow water duties. Corvettes are generally smaller and less heavily armed than battleships, but they are more agile and have a higher speed. They are typically equipped with a variety of weapons, including guns, missiles, and torpedoes, and are used for defending against enemy ships and aircraft. Corvettes are often used for coastal defense, as well as for patrolling and enforcing maritime laws. They are capable of operating in a variety of environments, including open ocean and littoral (nearshore) waters.\",\n",
    "    \"Water in the sky comes from rain clouds. Rain clouds are clouds that form when moist air rises and cools, forming tiny water droplets that condense around particles in the air. As the droplets grow, they eventually become heavy enough to fall from the cloud as rain. Rain clouds are typically gray or white in color and are often accompanied by other types of clouds, such as cumulus or stratocumulus clouds. Rain clouds can form in a variety of ways, such as when warm, moist air from the ground rises and cools, or when moist air from the ocean is carried inland by the wind. Rain clouds can be found in many parts of the world and are a common source of precipitation, especially during the warmer months.\",\n",
    "    \"If John rented a hotel room while on a business trip and it was a company-sponsored event, it is possible that the hotel was a resort. Resorts are hotels or vacation properties that offer a variety of amenities and activities for guests, such as swimming pools, golf courses, spas, and restaurants. They are often located in scenic or recreational areas and are designed to provide a relaxing and enjoyable experience for guests. Many resorts offer conference and meeting facilities and are popular destinations for business events and retreats. If John's company sponsored the business trip and provided the hotel accommodations, it is likely that they chose a resort with the amenities and facilities needed to support the event.\",\n",
    "    \"An expressway might leave the United States and go to Canada. The United States and Canada are neighboring countries that share a border, and there are several expressways that cross the border between the two countries. Expressways are high-speed, limited-access roads that are designed for fast and efficient travel. They typically have multiple lanes and may include features such as grade separations, interchanges, and controlled access points. Expressways are used for long-distance travel and are often the main routes connecting major cities and regions. If an expressway leaves the United States, it is likely that it is heading towards Canada, which is located to the north of the United States.\",\n",
    "    \"If you were walking on a sidewalk near a small corner shop run by John, you would look for it on the street corner. A corner shop is a small retail store that is typically located at the intersection of two streets. It is often a convenience store or a neighborhood shop that sells a variety of goods, such as groceries, household items, and other supplies. Corner shops are often located in busy urban areas, where they are easily accessible to pedestrians and motorists. If you were walking on a sidewalk near a corner shop, you would look for it at the intersection of the street where you are walking and another street. The shop is likely to be located in a building on the corner, with windows and doors facing the street.\",\n",
    "    \"One way that a company can efficiently sell things to their customers is through mail order. Mail order is a method of selling goods or services by advertising them in a catalog or other publication and allowing customers to place orders by mail, telephone, or online. Mail order is a convenient and efficient way for companies to reach a wide customer base, as it allows them to sell products to customers who may not be located near their physical store or who may not have the time or inclination to shop in person. Mail order companies typically have a centralized warehouse or distribution center where orders are processed and shipped to customers. They may also offer options such as easy returns and exchanges, as well as customer service support to assist with any questions or issues that customers may have.\",\n",
    "    \"If he enjoyed the factory work and liked the idea that he did it for sale, it is likely that he enjoyed producing goods. Factory work typically involves the production of goods, such as products or materials, using machines, tools, and other equipment. Factory workers are responsible for operating and maintaining the equipment and ensuring that the goods being produced meet quality standards. The goods produced in a factory may be sold directly to consumers or to other businesses, and may be used for a variety of purposes, such as manufacturing, construction, or distribution. If a person enjoys factory work, they may find satisfaction in the idea that they are contributing to the production of goods that will be sold and used by others.\",\n",
    "    \"If returning to work was easy for Dan after his treatment and he was completely painless, it is likely that he had undergone some form of medical treatment or therapy to address a health issue or injury. Painless indicates that Dan was no longer experiencing pain or discomfort, which may have been a result of the treatment or therapy he received. It is not clear from the information provided what specific health issue or injury Dan was dealing with, or what treatment or therapy he received. However, it is possible that Dan was able to return to work more easily after his treatment because he was feeling better and was no longer experiencing any pain or discomfort.\",\n",
    "    \"If index cards were on display at the museum, it is likely that the museum was a library. Libraries are institutions that provide access to a wide range of resources, including books, periodicals, and other printed materials, as well as digital resources such as e-books, databases, and online research tools. Libraries often have exhibits and displays of various types of materials, including rare or unique items, and may have special collections or archives that are of particular interest to researchers or historians. Index cards are small, rectangular pieces of paper that are used for organizing information, such as names, dates, or research notes. They may be used in a variety of settings, including libraries, offices, and schools. If index cards were on display at the museum, it is possible that they were part of a historical exhibit or collection related to the history of libraries or research.\",\n",
    "    \"If she was a human in America who wanted to live well, it is likely that the given for her situation was the need for money. In general, money is an important factor in enabling people to live well and meet their basic needs and desires. Money allows people to purchase the goods and services that they need to sustain themselves and their families, such as food, clothing, housing, and healthcare. It also enables people to pursue their interests and hobbies, travel, and engage in various forms of leisure and entertainment. In America, and in many other countries around the world, the cost of living can be high, and people often need to earn and save money in order to achieve a desired standard of living. As such, the need for money is a given for many people in order to live well.\",\n",
    "    \"A place that could have one back garden is a house. A garden is a piece of land that is used for growing plants, flowers, vegetables, or other types of vegetation. Gardens can be found in a variety of settings, including residential properties, public parks, and commercial properties. A house is a building that is used as a dwelling for one or more people, and it typically includes living spaces, such as bedrooms, bathrooms, and a kitchen, as well as outdoor areas, such as a front yard, side yard, and back yard. A back yard is a private outdoor space that is typically located behind a house and is often used for recreational or leisure activities, such as gardening, grilling, or playing games. If a house has a back garden, it is likely that the garden is located in the back yard.\",\n",
    "    \"People gather at a football stadium to see large men in pads play a game where they run and smash into each other. Football is a popular sport that is played on a rectangular field by two teams of eleven players. The game involves running, passing, and tackling, and players wear pads and other protective gear to reduce the risk of injury. Football is a physical and intense sport, and players often collide with each other at high speeds. Football stadiums are large, open-air facilities that are designed to host football games and other sporting events. They typically have a grass or artificial turf field, seating for spectators, and a variety of amenities, such as concessions stands, restrooms, and VIP areas. Football stadiums are popular places for people to gather and watch football games, and they can be found in cities and towns throughout the world.\",\n",
    "    \"One place where someone can get a flute is a musical instrument store. A musical instrument store is a retail establishment that specializes in selling musical instruments and related accessories. They may carry a wide range of instruments, including brass instruments, woodwind instruments, string instruments, percussion instruments, and keyboards. Flutes are woodwind instruments that are played by blowing air into a narrow opening and producing sound by vibrating the lips against a metal or wooden reed. They are popular instruments that are used in a variety of musical styles, including classical, jazz, and folk music. If someone is looking to purchase a flute, they may be able to find a selection of flutes at a musical instrument store. In addition to flutes, musical instrument stores may also offer a variety of other instruments, as well as sheet music, instructional materials, and accessories such as cases, stands, and cleaning supplies.\",\n",
    "    \"It is not clear what someone who has a greed for energy would do. The word greed typically refers to an excessive or insatiable desire for wealth, power, or material possessions. It is not clear how this concept would relate to energy or how it might influence someone's actions. It is possible that someone who has a lot of energy or who is very active might have a high appetite for food and might seek out sources of fuel or nutrition to sustain their energy levels. In this case, they might buy food as a way to obtain the energy they need. However, it is not accurate to say that someone who has a greed for energy would necessarily do this. It is important to note that the concept of greed is generally considered to be negative, as it suggests an unhealthy or unsustainable desire for something.\",\n",
    "    \"A forklift is a type of industrial vehicle that is used for moving and lifting heavy loads, such as pallets, crates, and boxes. Forklifts are equipped with a hydraulic lift mechanism and a set of prongs or forks that can be used to lift and transport loads. They are commonly used in warehouses and other distribution centers to move and stack materials, such as boxes, onto shelves or other storage areas. If you were using a forklift to stack boxes onto shelves, it is likely that you were in a warehouse or a similar facility. Warehouses are large, commercial buildings that are used for storing and distributing goods. They often have high ceilings, wide aisles, and multiple levels, and they may be equipped with a variety of material handling equipment, such as forklifts, conveyor belts, and cranes, to facilitate the movement and storage of goods.\",\n",
    "    \"You are likely to receive mouthwash in a little paper cup at a dentist's office. Dentist's offices are healthcare facilities that are staffed by dentists and other dental professionals, and they are used for the diagnosis and treatment of dental problems and the maintenance of oral health. One common practice at a dentist's office is to rinse the mouth with mouthwash, which is a liquid that is used to freshen breath, kill bacteria, and reduce the risk of gum disease and other oral health issues. Mouthwash is typically used after brushing and flossing to help remove any remaining food particles or plaque from the mouth. It may be dispensed in a little paper cup, which can be used to rinse the mouth and then disposed of after use.\",\n",
    "    \"A doctor's office can help you with an illness. A doctor's office is a healthcare facility that is staffed by medical doctors and other healthcare professionals, and it is used for the diagnosis and treatment of medical conditions and the maintenance of overall health. If you are experiencing an illness, such as a cold, flu, or more serious health issue, you may visit a doctor's office to seek medical care and treatment. At a doctor's office, you may receive a physical examination, diagnostic tests, and other forms of medical treatment, depending on the nature of your illness and your specific needs. Doctors are trained to diagnose and treat a wide range of medical conditions, and they can provide you with the care and support you need to recover from your illness and get back to good health.\",\n",
    "    \"A bug looking for wildflowers and no human interruption might go to a meadow. A meadow is a grassland area that is characterized by its open, grassy landscape and the presence of wildflowers and other types of vegetation. Meadows can be found in a variety of settings, including rural areas, forests, and parkland, and they are often home to a variety of animal and plant species. Because meadows are relatively undisturbed by human activity, they can be a good place for a bug to find wildflowers and other types of plants without interference from humans. Meadows are often considered to be peaceful, serene places, and they may be attractive to a bug that is seeking a quiet, natural environment in which to explore and forage.\",\n",
    "    \"If a bride and groom are taking care of proposals, the likely ceremony is a marriage. A marriage is a formal union between two people that is recognized by law and typically involves a public ceremony and the exchange of vows. A marriage proposal is a request for someone to marry another person, and it is typically made by one partner to the other. The process of planning a marriage often involves taking care of a variety of details and arrangements, such as choosing a venue, selecting a date, inviting guests, and organizing the ceremony and reception. If a bride and groom are taking care of proposals, it is likely that they are in the process of planning their marriage and preparing for the wedding ceremony.\",\n",
    "    \"You could put some olives in a jar to prevent them from getting nearby food wet. A jar is a container that is typically made of glass or ceramic and has a wide mouth and a secure, tight-fitting lid. Jars are often used for storing food items, such as olives, pickles, jams, and other types of preserved or dried goods. Because they have a sealed lid, jars can help to keep food fresh and prevent it from coming into contact with air or other substances that might spoil or contaminate it. If you want to prevent olives from getting nearby food wet, you could put them in a jar and close the lid to create an airtight seal. This would help to keep the olives separate from other foods and prevent them from coming into contact with moisture or other liquids.\",\n",
    "    \"If the graveyard was zoned by the pastor, it is likely that it was located on church property. Church property refers to land or buildings that are owned by a church or religious organization. This may include the main church building, as well as other structures such as a rectory, school, or community center. Church property may also include a graveyard or cemetery, which is a place where people are buried after they die. Pastors, who are ordained leaders in a church, often play a central role in the management and oversight of church property, and they may be responsible for zoning or designating areas within the property for specific purposes, such as a graveyard or a garden. If the pastor has zoned the graveyard, it is likely that it is located on church property and is being used as a place for burial by members of the church or community.\",\n",
    "    \"If a family wanted to live with carpeting, they may have ended up putting it in their houses. Houses are structures that are designed and built to be used as homes, and they typically have a number of rooms that are used for different purposes, such as sleeping, cooking, eating, and relaxing. Carpeting is a type of floor covering that is made of soft, flexible materials, such as wool, nylon, or polypropylene, and it is often used in houses to provide warmth, comfort, and insulation. If a family wanted to live with carpeting, they may have chosen to install carpeting in some or all of the rooms in their houses, in order to create a warm and cozy atmosphere and to improve the overall comfort and livability of their homes.\",\n",
    "    \"If a boss likes an employee's ambition, the employee may be put in charge of a project. A project is a specific task or set of tasks that is undertaken in order to achieve a specific goal or objective. Projects may be large or small, complex or simple, and they may involve a wide range of activities, such as research, design, development, testing, and implementation. If an employee is ambitious and demonstrates a strong desire to succeed and make a positive contribution to their organization, their boss may choose to put them in charge of a project, in order to give them the opportunity to demonstrate their skills and abilities and to take on more responsibility. Being put in charge of a project can be a challenging and rewarding experience, and it may provide an employee with the chance to learn new things, develop their skills, and make a meaningful contribution to their organization.\",\n",
    "    \"A county highway can be viewed as a line on a map. A map is a graphic representation of an area or region that shows the locations of various features, such as roads, rivers, mountains, and cities. Maps are often used to help people navigate and find their way around unfamiliar places, and they can be very useful for understanding the layout and geography of an area. County highways are roads that are maintained and operated by a county or local government, and they are typically used for local travel and transportation within a county or region. On a map, a county highway may be represented as a line, with a specific color or symbol used to indicate its location and route. By viewing a county highway as a line on a map, it is possible to get a sense of the route and layout of the road, and to use the map to plan a journey or navigate to a specific destination.\",\n",
    "    \"After going for a run, someone may feel tired. Running is a form of physical activity that involves moving quickly and continuously on foot, typically by running or jogging. It is a popular form of exercise that can help to improve cardiovascular fitness, build endurance, and strengthen the muscles of the legs and lower body. However, running can also be physically demanding, and it requires a certain level of fitness and stamina to be able to sustain the activity for an extended period of time. As a result, it is common for people to feel tired after going for a run, especially if they are not used to the activity or if they have pushed themselves to run for a longer distance or at a faster pace than usual. Tiredness after a run may be accompanied by other physical sensations, such as muscle fatigue, thirst, or a sense of accomplishment.\",\n",
    "    \"If a car was going from Florida to Ohio, it was heading north. Florida is a state in the southeastern region of the United States, and Ohio is a state in the midwestern region of the country. When traveling from Florida to Ohio, a person would need to go north in order to reach their destination. North is a direction that is opposite to south on a map or compass, and it is typically associated with higher latitude, colder climates, and longer nights. When traveling north, a person may encounter different landscapes, weather patterns, and cultural experiences than they would when traveling south, depending on the specific route and the distance traveled. By heading north from Florida to Ohio, a person would be leaving behind the warm, tropical climate of Florida and entering into a more temperate, mid-latitude region with cooler temperatures and a more diverse range of landscapes and ecosystems.\",\n",
    "    \"During a typical week, a teacher is likely to spend most of their time working in school. A teacher is a person who is trained and qualified to teach students in a school or educational setting, and their primary job is to provide instruction and guidance to help students learn and develop their skills and knowledge. Teachers may work in a variety of settings, including primary schools, secondary schools, and universities, and they may teach a wide range of subjects, including math, science, English, history, and the arts. In order to fulfill their duties as a teacher, a person is likely to spend most of their time working in a school or educational setting, where they will be responsible for preparing and delivering lessons, grading assignments, communicating with students and parents, and performing other tasks related to their job. Teachers typically work on a schedule that follows the school year, and they may work full-time or part-time, depending on their specific circumstances and the needs of their students.\",\n",
    "    \"In a predicament, an animal might choose to fight for its life as an alternative to fleeing. Predicament is a term that refers to a difficult or challenging situation, typically one that involves a choice or decision that needs to be made. When an animal finds itself in a predicament, it may have to decide how to respond in order to survive and protect itself. One option that an animal may have is to flee or run away from the situation in an effort to escape danger or avoid conflict. Another option that an animal may have is to fight for its life, using whatever means are available to defend itself and protect its survival. The choice that an animal makes in a predicament will depend on a variety of factors, including the specific nature of the situation, the animal's size, strength, and abilities, and the resources and options that are available to it.\",\n",
    "    \"It is not common for people to fight each other when they find a good deal. A good deal is typically defined as an opportunity to purchase something at a price that is lower than what it is usually worth, or to obtain a product or service that provides more value or benefits than what is expected. When people find a good deal, they may feel excited or pleased about the opportunity to save money or get more for their money, and they may take action to take advantage of the deal. However, it is generally not considered acceptable or appropriate for people to fight each other over a good deal or to engage in physical violence or aggression in order to obtain it. There are many other ways that people can express their interest in a good deal, such as by negotiating with the seller, making an offer, or simply making a purchase if the price is acceptable.\",\n",
    "    \"An altar is a platform or structure that is used for religious ceremonies, rituals, or worship. Altars are often found in places of worship, such as temples, churches, synagogues, mosques, and other religious buildings. When a person is standing in front of an altar, they are likely to be in a temple or other place of worship. Altars can be used for a variety of purposes in different religions and spiritual traditions, such as offering sacrifices, making offerings, praying, or performing other religious practices. They may be decorated with symbols, images, or other items that are significant to the religion or spiritual tradition that is being practiced. Altars may also be used as a place for people to meditate, reflect, or seek spiritual guidance.\",\n",
    "    \"Joe bought a bunch of grapes because he likes to use them to top his desserts. A dessert is a type of food that is typically served at the end of a meal, and it is usually sweet or rich in flavor. There are many different types of desserts that people enjoy, including cakes, cookies, ice cream, pie, and other sweet treats. One way that people may use grapes as a topping for their desserts is by placing them on top of a fruit pie, tart, or crisp. Grapes can add flavor and texture to a dessert, and they may also be used to decorate a dessert or to add visual appeal. Grapes are a versatile fruit that can be used in many different types of desserts, and they can be eaten fresh, frozen, or preserved in various ways.\",\n",
    "    \"Well water is water that is obtained from underground sources, typically through the use of a well. A well is a hole or shaft that is dug into the ground in order to access water that is contained in underground aquifers or other water-bearing formations. Well water is typically used for drinking, irrigation, and other purposes, and it is often considered to be of high quality because it is filtered and purified naturally as it flows through the ground. To obtain well water, a person can dig a well or have one dug by a professional well driller. The depth of the well will depend on the location and the geology of the area, and a pump or other mechanical system may be used to bring the water to the surface.\",\n",
    "]"
   ]
  },
  {
   "cell_type": "code",
   "execution_count": null,
   "id": "69fa8109",
   "metadata": {},
   "outputs": [],
   "source": []
  },
  {
   "cell_type": "code",
   "execution_count": 22,
   "id": "01fdee8d",
   "metadata": {},
   "outputs": [],
   "source": [
    "id_list = [\n",
    " '71519c19654251cced50c5718fd527c1',\n",
    " '44195d210c81c8c550174d0edbd3ad5d',\n",
    " '5a5da37b685ec9c6f15228128ce30437',\n",
    " 'cabdfc174953b4bdb8bdcc89d6592c74',\n",
    " 'eac3a4080127e8924034651b57dfa289',\n",
    " 'c0013f31657294b9b5ad819123513ca7',\n",
    " '2681697be70cd5425899ed6deb84b18a',\n",
    " '47f60340b869552e795fa6782224f3d2',\n",
    " '7e8a6eac93147eb52d8151bab7b40003',\n",
    " 'f34267f498c8a78383e35057fbcfa2ce',\n",
    " 'f024f923d78e5c0a4c0c4baa3ddccf05',\n",
    " 'e148c710d0c26849cf1f15293481038b',\n",
    " 'bdf437d7498815f36c255f64a8e6571c',\n",
    " '2282e0c80be28aadadb79a822fec9dac',\n",
    " 'bdd05e96876342b4b5999709439a7f4e',\n",
    " '494b8316614fc64c5c27757aeaffce23_1',\n",
    " 'c4494b402264250dc70931613d482295',\n",
    " 'fcfbf207c5586294fdce33b645b613f1',\n",
    " '9c583bcbe68989a644433302545fb31e',\n",
    " '0e684d779d98e6eecda167c10af42bbb',\n",
    " 'ac0462d09b9fddd40c3c77aedf48a870',\n",
    " '1dbfb41e04a10bdbb085bfe667c0df99',\n",
    " 'cd0c0ef3b8ce0eb09ff26823f6059be6',\n",
    " 'e6b67184b99375d05d3f2887f684c684',\n",
    " 'ae9f6f1e17b3fdd3a86b494933809f45',\n",
    " 'f149604169936a30b7e4c8d599d604b5',\n",
    " 'd7c8377953e0175ef57d59f3a8e63a8e',\n",
    " '1837216ac7745121b82a6491b2318c09',\n",
    " 'b5fe238d45e55ca5d802b7823ad390ef',\n",
    " 'b2fbeb0b48bd5e575af0f7dc24cdd85d',\n",
    " '9bdfb101c487ac598f6e4686cf774703',\n",
    " '206c7116ee2246180fcc0c5a1d0e7205',\n",
    " '5cd7f44bbf730dfae5ef2a362d2e5149',\n",
    " '45d0ea781ffd49b07d6eae94d47a8945',\n",
    " '89afdea1d76272fda8e1538a7d3b7a3f',\n",
    " '38a514fe54108527e1d6e89d9812da93',\n",
    " 'ebf347934a3e90ea46d3d87726fb5d25',\n",
    " '90226a6ecd7308ae1e6220a15ae24bc6',\n",
    " '5cae8057e75e3adf5c338a43b3ba97fb',\n",
    " '388a363c49e1b0aca8eaf18ccdde0caf',\n",
    " '9ed3af82152dfcd7000bf4631b095f71',\n",
    " '2d5805d894bba224c5fe91e70b8c0f77',\n",
    " 'd5aa464a16b72c9b9f3091abd461e3ef',\n",
    " '381b11c54be4cc432a95053ca34cbf6b',\n",
    " '807a3a2dabdd50ed0c76052fd2612632',\n",
    " '5172041c750d22e9a5081cc024de0fa6',\n",
    " 'd32a45ab3b751110d0578a78e54c0e64',\n",
    " '28ca5cbe27774746c34f6ebe84fc6d0c']"
   ]
  },
  {
   "cell_type": "code",
   "execution_count": null,
   "id": "51445c67",
   "metadata": {},
   "outputs": [],
   "source": []
  },
  {
   "cell_type": "code",
   "execution_count": 23,
   "id": "dabe3306",
   "metadata": {},
   "outputs": [],
   "source": [
    "# our_wrong_data_splits['dev']=[]\n",
    "# for x in our_data_splits['dev']:\n",
    "#     for ii in range(5):\n",
    "#         new_x={'id':x['id'], 'real_answer':x['answer'], \n",
    "#                'answer':x['choices'][ii], 'question':x['question'],\n",
    "#                'choices':x['choices'],\n",
    "#                'abstractive_explanation':x['abstractive_explanation'],\n",
    "#                'extractive_explanation':x['extractive_explanation'],\n",
    "#                'our_explanation':x['our_explanation']}\n",
    "#         our_wrong_data_splits['dev'].append(new_x)\n",
    "#     #print(x)\n",
    "#     #pdb.set_trace()\n",
    "# # wandb.init()\n",
    "# our_wrong_dev_data_dict = list2dict(our_wrong_data_splits['dev'])\n",
    "# our_wrong_data_splits['dev'] = datasets.Dataset.from_dict(our_wrong_dev_data_dict)"
   ]
  },
  {
   "cell_type": "code",
   "execution_count": 24,
   "id": "7b62bdf5",
   "metadata": {},
   "outputs": [],
   "source": [
    "# our_wrong_data_splits['train'][0],our_wrong_data_splits['train'][0].keys()\n",
    "# our_wrong_data_splits['train'] = our_wrong_data_splits['train'].map(\n",
    "#             lambda x: format_instance(\n",
    "#                 x,\n",
    "#                 tokenizer,\n",
    "#                 data_args.explanation_sep,\n",
    "#                 datasource=data_args.task_name,\n",
    "#                 io_format=data_args.io_format\n",
    "#             ),\n",
    "#             batched=False,\n",
    "#             load_from_cache_file=False,\n",
    "#         )"
   ]
  },
  {
   "cell_type": "code",
   "execution_count": 25,
   "id": "b421f892",
   "metadata": {},
   "outputs": [],
   "source": [
    "# for da in our_wrong_data_splits['dev']:\n",
    "#     print(\"*******\")\n",
    "#     print(\"question: {}\".format(da['question']))\n",
    "#     print(\"real_answer: {}\".format(da['real_answer']))\n",
    "#     print(\"answer: {}\".format(da['answer']))\n",
    "#     print(\"choices: {}\".format(da['choices']))\n",
    "#     print(\"our_explanation: {}\".format(da['our_explanation']))\n",
    "#     inp_ids = torch.tensor(da[\"input_ids\"], device=model.device).reshape(1, -1)\n",
    "#     out = model.generate(\n",
    "#                     inp_ids,\n",
    "#                     max_length=100,\n",
    "#                     pad_token_id=tokenizer.pad_token_id,\n",
    "#                     eos_token_id=tokenizer.eos_token_id,\n",
    "#                 )\n",
    "#     skip_special_tokens = False if \"infilling\" in data_args.io_format else True\n",
    "#     words = tokenizer.decode(out[0].tolist(), skip_special_tokens=skip_special_tokens)\n",
    "#     print(\"generated explanation: {}\".format(words))\n",
    "#     print(\"#######\")"
   ]
  },
  {
   "cell_type": "code",
   "execution_count": 26,
   "id": "dfa34701",
   "metadata": {},
   "outputs": [],
   "source": [
    "# our_wrong_data_splits['train'][0],our_wrong_data_splits['train'][0].keys()\n",
    "# our_wrong_data_splits['dev'] = our_wrong_data_splits['dev'].map(\n",
    "#             lambda x: format_instance(\n",
    "#                 x,\n",
    "#                 tokenizer,\n",
    "#                 data_args.explanation_sep,\n",
    "#                 datasource=data_args.task_name,\n",
    "#                 io_format=data_args.io_format\n",
    "#             ),\n",
    "#             batched=False,\n",
    "#             load_from_cache_file=False,\n",
    "#         )"
   ]
  },
  {
   "cell_type": "code",
   "execution_count": 27,
   "id": "2e6d6437",
   "metadata": {},
   "outputs": [],
   "source": [
    "# for da in our_wrong_data_splits['dev']:\n",
    "#     print(\"*******\")\n",
    "#     print(\"question: {}\".format(da['question']))\n",
    "#     print(\"real_answer: {}\".format(da['real_answer']))\n",
    "#     print(\"answer: {}\".format(da['answer']))\n",
    "#     print(\"choices: {}\".format(da['choices']))\n",
    "#     print(\"our_explanation: {}\".format(da['our_explanation']))\n",
    "#     inp_ids = torch.tensor(da[\"input_ids\"], device=model.device).reshape(1, -1)\n",
    "#     out = model.generate(\n",
    "#                     inp_ids,\n",
    "#                     max_length=100,\n",
    "#                     pad_token_id=tokenizer.pad_token_id,\n",
    "#                     eos_token_id=tokenizer.eos_token_id,\n",
    "#                 )\n",
    "#     skip_special_tokens = False if \"infilling\" in data_args.io_format else True\n",
    "#     words = tokenizer.decode(out[0].tolist(), skip_special_tokens=skip_special_tokens)\n",
    "#     print(\"generated explanation: {}\".format(words))\n",
    "#     print(\"#######\")"
   ]
  },
  {
   "cell_type": "code",
   "execution_count": 28,
   "id": "91605cfc",
   "metadata": {},
   "outputs": [],
   "source": [
    "# for da in our_wrong_data_splits['train']:\n",
    "#     print(\"*******\")\n",
    "#     print(\"question: {}\".format(da['question']))\n",
    "#     print(\"real_answer: {}\".format(da['real_answer']))\n",
    "#     print(\"answer: {}\".format(da['answer']))\n",
    "#     print(\"choices: {}\".format(da['choices']))\n",
    "#     print(\"our_explanation: {}\".format(da['our_explanation']))\n",
    "#     inp_ids = torch.tensor(da[\"input_ids\"], device=model.device).reshape(1, -1)\n",
    "#     out = model.generate(\n",
    "#                     inp_ids,\n",
    "#                     max_length=100,\n",
    "#                     pad_token_id=tokenizer.pad_token_id,\n",
    "#                     eos_token_id=tokenizer.eos_token_id,\n",
    "#                 )\n",
    "#     skip_special_tokens = False if \"infilling\" in data_args.io_format else True\n",
    "#     words = tokenizer.decode(out[0].tolist(), skip_special_tokens=skip_special_tokens)\n",
    "#     print(\"generated explanation: {}\".format(words))\n",
    "#     print(\"#######\")"
   ]
  },
  {
   "cell_type": "code",
   "execution_count": 29,
   "id": "cbc3e763",
   "metadata": {},
   "outputs": [],
   "source": [
    "# import wandb\n",
    "# training_args.run_name=\"\"\n",
    "training_args.logging_steps=3\n",
    "training_args.save_steps=5\n",
    "training_args.evaluation_strategy=\"epoch\"\n",
    "training_args.num_train_epochs=25\n",
    "training_args.do_eval=True"
   ]
  },
  {
   "cell_type": "code",
   "execution_count": 30,
   "id": "317de5d7",
   "metadata": {},
   "outputs": [],
   "source": [
    "training_args.report_to = [\"wandb\"]"
   ]
  },
  {
   "cell_type": "code",
   "execution_count": 31,
   "id": "de79fb60",
   "metadata": {},
   "outputs": [
    {
     "data": {
      "text/plain": [
       "TrainingArguments(\n",
       "_n_gpu=1,\n",
       "adafactor=False,\n",
       "adam_beta1=0.9,\n",
       "adam_beta2=0.999,\n",
       "adam_epsilon=1e-08,\n",
       "dataloader_drop_last=False,\n",
       "dataloader_num_workers=0,\n",
       "dataloader_pin_memory=True,\n",
       "ddp_find_unused_parameters=None,\n",
       "debug=[],\n",
       "deepspeed=None,\n",
       "disable_tqdm=False,\n",
       "do_eval=True,\n",
       "do_predict=False,\n",
       "do_train=True,\n",
       "eval_accumulation_steps=None,\n",
       "eval_steps=None,\n",
       "evaluation_strategy=epoch,\n",
       "fp16=False,\n",
       "fp16_backend=auto,\n",
       "fp16_full_eval=False,\n",
       "fp16_opt_level=O1,\n",
       "gradient_accumulation_steps=1,\n",
       "greater_is_better=None,\n",
       "group_by_length=False,\n",
       "ignore_data_skip=False,\n",
       "label_names=None,\n",
       "label_smoothing_factor=0.0,\n",
       "learning_rate=5e-05,\n",
       "length_column_name=length,\n",
       "load_best_model_at_end=False,\n",
       "local_rank=-1,\n",
       "log_level=-1,\n",
       "log_level_replica=-1,\n",
       "log_on_each_node=True,\n",
       "logging_dir=./cos_e_output_t5_large/011323_005513,\n",
       "logging_first_step=False,\n",
       "logging_steps=3,\n",
       "logging_strategy=IntervalStrategy.STEPS,\n",
       "lr_scheduler_type=SchedulerType.LINEAR,\n",
       "max_grad_norm=1.0,\n",
       "max_steps=-1,\n",
       "metric_for_best_model=None,\n",
       "mp_parameters=,\n",
       "no_cuda=False,\n",
       "num_train_epochs=25,\n",
       "output_dir=./cos_e_output_t5_large/011323_005513,\n",
       "overwrite_output_dir=False,\n",
       "past_index=-1,\n",
       "per_device_eval_batch_size=8,\n",
       "per_device_train_batch_size=8,\n",
       "prediction_loss_only=False,\n",
       "push_to_hub=False,\n",
       "push_to_hub_model_id=cos_e_output_t5_large,\n",
       "push_to_hub_organization=None,\n",
       "push_to_hub_token=None,\n",
       "remove_unused_columns=True,\n",
       "report_to=['wandb'],\n",
       "resume_from_checkpoint=None,\n",
       "run_name=./cos_e_output_t5_large,\n",
       "save_on_each_node=False,\n",
       "save_steps=5,\n",
       "save_strategy=IntervalStrategy.STEPS,\n",
       "save_total_limit=None,\n",
       "seed=42,\n",
       "sharded_ddp=[],\n",
       "skip_memory_metrics=True,\n",
       "tpu_metrics_debug=False,\n",
       "tpu_num_cores=None,\n",
       "use_legacy_prediction_loop=False,\n",
       "warmup_ratio=0.0,\n",
       "warmup_steps=0,\n",
       "weight_decay=0.0,\n",
       ")"
      ]
     },
     "execution_count": 31,
     "metadata": {},
     "output_type": "execute_result"
    }
   ],
   "source": [
    "training_args.per_device_eval_batch_size=8\n",
    "training_args.per_device_train_batch_size=8\n",
    "training_args"
   ]
  },
  {
   "cell_type": "code",
   "execution_count": 32,
   "id": "e80480ec",
   "metadata": {},
   "outputs": [],
   "source": [
    "# data_splits = {'train': None, 'validation': None, 'test': None}\n",
    "# original_data_splits = {'train': None, 'validation': None, 'test': None}  \n",
    "# data_args.io_format=\"t5_fewshot_infilling_with_choices\"\n",
    "# # Data loading from huggingface's datasets\n",
    "# if data_args.task_name in {\"cos_e\", \"esnli\"}:\n",
    "#     version_arg = None\n",
    "#     if data_args.task_name == \"cos_e\":\n",
    "#         assert data_args.version_name in {\"v1.11\", \"v1.0\"}\n",
    "#         version_arg = data_args.version_name\n",
    "\n",
    "#     load_train = True\n",
    "#     if (not training_args.do_train\n",
    "#         and not training_args.do_eval\n",
    "#         and not data_args.train_predict\n",
    "#     ):\n",
    "#         # don't load training dataset\n",
    "#         dataset = {}\n",
    "#         dataset[\"train\"] = None\n",
    "#         dataset[\"validation\"] = datasets.load_dataset(\n",
    "#             data_args.task_name, version_arg, split=\"validation\"\n",
    "#         )\n",
    "#         data_splits['validation'] = dataset[\"validation\"]\n",
    "\n",
    "#         if data_args.task_name == \"esnli\":\n",
    "#             dataset[\"test\"] = datasets.load_dataset(data_args.task_name, split=\"test\")\n",
    "#             data_splits['test'] = dataset[\"test\"]\n",
    "#         load_train = False\n",
    "#     else:\n",
    "#         dataset = datasets.load_dataset(data_args.task_name, version_arg)\n",
    "\n",
    "#         if data_args.n_shots > 0: # Shots = number of training examples **per label** \n",
    "#             if data_args.task_name == 'esnli': # Construct a *balanced* random sample of the size `data_args.n_shots*len(labels)` (for train) or `data_args.fewshot_eval_size` (for eval)\n",
    "#                 for split in [\"train\", \"validation\", \"test\"]:\n",
    "#                     split_data = dataset[split]\n",
    "#                     label_subsets = []\n",
    "#                     labels = split_data.features['label'].names\n",
    "#                     sample_size = data_args.n_shots if split == \"train\" else int(data_args.fewshot_eval_size/len(labels))\n",
    "#                     if data_args.gpt3_max_eval_size is not None and split != 'train':\n",
    "#                         assert len(labels) == 3\n",
    "#                         sample_size = data_args.gpt3_max_eval_size // len(labels)\n",
    "#                     for label in labels:\n",
    "#                         # The following is a hack to only run on `neutral` labels of `esnli` to get data for human eval\n",
    "#                         # if data_args.gpt3_max_eval_size is not None and split != 'train' and label != 'neutral':\n",
    "#                         #     continue\n",
    "#                         label_int = split_data.features['label'].str2int(label)\n",
    "#                         label_set = split_data.filter(lambda example: example['label'] == label_int).shuffle() # all instances of labeled as `label`\n",
    "#                         label_subset = label_set.select(range(sample_size)) #select `sample_size` random instances labeled as `label`\n",
    "#                         label_subsets.append(label_subset)\n",
    "#                     dataset[split] = datasets.concatenate_datasets(label_subsets) #merge all label-specific instances\n",
    "#             elif data_args.task_name == 'cos_e': \n",
    "#                 for split in [\"train\", \"validation\"]: \n",
    "#                     split_data = dataset[split]\n",
    "#                     sample_size = data_args.n_shots if split == \"train\" else int(data_args.fewshot_eval_size) #Shots for QA are not label-specific, i.e., `n_shots` is the training data size\n",
    "#                     if data_args.gpt3_max_eval_size is not None and split != 'train':\n",
    "#                         sample_size = data_args.gpt3_max_eval_size\n",
    "#                     dataset[split] = split_data#.shuffle().select(range(sample_size)) # select `sample_size` random instances\n",
    "#             else: \n",
    "#                 raise ValueError('Only cos_e and esnli are supported by Huggingface datasets.')\n",
    "#     # Apply method, and format dataset to torch.Tensor outputs\n",
    "# #     fse_csqa_train_file=\"/cognitive_comp/huangyongfeng/evaluate_LM_with_rationalization/few_shot_explanations/data/acceptability_annotations/commonsenseqa_train.csv\"\n",
    "# #     fse_csqa_dev_file=\"/cognitive_comp/huangyongfeng/evaluate_LM_with_rationalization/few_shot_explanations/data/acceptability_annotations/commonsenseqa_test.csv\"\n",
    "# #     fse_csqa_train_dataset = datasets.load_dataset('csv', data_files=fse_csqa_train_file)\n",
    "# #     fse_csqa_dev_dataset = datasets.load_dataset('csv', data_files=fse_csqa_dev_file)\n",
    "# #     train_ids_list=[x['id'] for x in data_splits[\"train\"]]\n",
    "# #     dev_ids_list=[x['id'] for x in data_splits[\"validation\"]]\n",
    "# #     fse_train_ids_list=[x['Input.id'] for x in fse_csqa_train_dataset['train']]\n",
    "# #     fse_dev_ids_list=[x['Input.id'] for x in fse_csqa_dev_dataset['train']]\n",
    "# #     fse_train_indexs_list=[train_ids_list.index(id_) for id_ in fse_train_ids_list]\n",
    "# #     fse_dev_indexs_list=[dev_ids_list.index(id_) for id_ in fse_dev_ids_list]\n",
    "# #     print(len(fse_train_indexs_list), len(fse_dev_indexs_list))\n",
    "# #     # print(fse_train_indexs_list,fse_dev_indexs_list)\n",
    "# #     fse_data_splits={}\n",
    "# #     data_splits['train']=data_splits[\"train\"].select(fse_train_indexs_list)\n",
    "# #     data_splits['validation']=data_splits[\"validation\"].select(fse_train_indexs_list)\n",
    "#     for split in dataset.keys():\n",
    "#         if dataset[split] is not None:\n",
    "#             dataset[split] = dataset[split].map(\n",
    "#                 lambda x: format_instance(\n",
    "#                     x,\n",
    "#                     tokenizer,\n",
    "#                     data_args.explanation_sep,\n",
    "#                     datasource=data_args.task_name,\n",
    "#                     io_format=data_args.io_format\n",
    "#                 ),\n",
    "#                 batched=False,\n",
    "#                 load_from_cache_file=False,\n",
    "#             )\n",
    "#     data_splits[\"train\"] = deepcopy(dataset[\"train\"])\n",
    "#     data_splits[\"validation\"] = deepcopy(dataset[\"validation\"])\n",
    "#     if data_args.task_name == \"esnli\":\n",
    "#         data_splits[\"test\"] = deepcopy(dataset[\"test\"])\n",
    "\n",
    "#     original_data_splits[\"train\"] = deepcopy(dataset[\"train\"])\n",
    "#     original_data_splits[\"validation\"] = deepcopy(dataset[\"validation\"])\n",
    "#     if data_args.task_name == \"esnli\":\n",
    "#         original_data_splits[\"test\"] = deepcopy(dataset[\"test\"])"
   ]
  },
  {
   "cell_type": "code",
   "execution_count": 33,
   "id": "2f4cb867",
   "metadata": {},
   "outputs": [],
   "source": [
    "# import pandas as pd\n",
    "# # new_data_splits={'train': None, 'validation': None}\n",
    "# # new_data_splits['train']=deepcopy(dataset[\"train\"])\n",
    "# # new_data_splits['validation']=deepcopy(dataset[\"validation\"])\n",
    "# fse_csqa_train_file=\"/cognitive_comp/huangyongfeng/evaluate_LM_with_rationalization/few_shot_explanations/data/acceptability_annotations/commonsenseqa_train.csv\"\n",
    "# fse_csqa_dev_file=\"/cognitive_comp/huangyongfeng/evaluate_LM_with_rationalization/few_shot_explanations/data/acceptability_annotations/commonsenseqa_test.csv\"\n",
    "# # fse_csqa_train_dataset = datasets.load_dataset('csv', data_files=fse_csqa_train_file)\n",
    "# # fse_csqa_dev_dataset = datasets.load_dataset('csv', data_files=fse_csqa_dev_file)\n",
    "\n",
    "# train_df=pd.read_csv(fse_csqa_train_file)\n",
    "\n",
    "# dev_df=pd.read_csv(fse_csqa_dev_file)\n",
    "\n",
    "# dev_df\n"
   ]
  },
  {
   "cell_type": "code",
   "execution_count": 34,
   "id": "42739e9b",
   "metadata": {},
   "outputs": [],
   "source": [
    "# len(fse_train_ids_list),len(list(set(fse_train_ids_list)))"
   ]
  },
  {
   "cell_type": "code",
   "execution_count": 35,
   "id": "c78ea825",
   "metadata": {},
   "outputs": [],
   "source": [
    "# train_ids_list=[x['id'] for x in data_splits[\"train\"]]\n",
    "# dev_ids_list=[x['id'] for x in data_splits[\"validation\"]]\n",
    "# fse_train_ids_list=[x['Input.id'] for x in fse_csqa_train_dataset['train']]\n",
    "# fse_dev_ids_list=[x['Input.id'] for x in fse_csqa_dev_dataset['train']]\n"
   ]
  },
  {
   "cell_type": "code",
   "execution_count": 36,
   "id": "80395518",
   "metadata": {},
   "outputs": [],
   "source": [
    "# fse_train_indexs_list=[train_ids_list.index(id_) for id_ in fse_train_ids_list]\n",
    "# fse_dev_indexs_list=[dev_ids_list.index(id_) for id_ in fse_dev_ids_list]\n",
    "# print(len(fse_train_indexs_list), len(fse_dev_indexs_list))\n",
    "# # print(fse_train_indexs_list,fse_dev_indexs_list)\n",
    "# fse_data_splits={}\n",
    "# fse_data_splits['train']=data_splits[\"train\"].select(fse_train_indexs_list)\n",
    "# fse_data_splits['validation']=data_splits[\"validation\"].select(fse_train_indexs_list)"
   ]
  },
  {
   "cell_type": "code",
   "execution_count": 37,
   "id": "4d186954",
   "metadata": {},
   "outputs": [],
   "source": [
    "# fse_csqa_train_dataset['train'][0].keys()"
   ]
  },
  {
   "cell_type": "code",
   "execution_count": 38,
   "id": "66dd71d4",
   "metadata": {},
   "outputs": [],
   "source": [
    "class SequenceCollator:\n",
    "    def __init__(self, model, pad_token):\n",
    "        self.model = model\n",
    "        self.pad_token_mapping = {\n",
    "            \"labels\": -100,\n",
    "            \"attention_mask\": 0,\n",
    "            \"decoder_attention_mask\": 0,\n",
    "            \"input_ids\": pad_token,\n",
    "        }\n",
    "\n",
    "        self.columns = [\n",
    "            \"input_ids\",\n",
    "            \"attention_mask\",\n",
    "            \"labels\",\n",
    "            \"decoder_attention_mask\",\n",
    "        ]\n",
    "\n",
    "    def __call__(self, examples: List[Dict[str, InputDataClass]]) -> Dict[str, torch.Tensor]:\n",
    "        # re-format inputs for training\n",
    "        batch = {}\n",
    "        for key in examples[0].keys():\n",
    "            if key in self.columns:\n",
    "                tmp_list = []\n",
    "                for item in examples:\n",
    "                    tmp_list.append(item[key])\n",
    "\n",
    "                # pad lists to max length\n",
    "                if isinstance(tmp_list[0], list):\n",
    "                    max_length = max(map(len, tmp_list))\n",
    "                    tmp_list = [\n",
    "                        el + [self.pad_token_mapping[key]] * (max_length - len(el))\n",
    "                        for el in tmp_list\n",
    "                    ]\n",
    "\n",
    "                batch[key] = torch.tensor(tmp_list, dtype=torch.long)\n",
    "        return batch"
   ]
  },
  {
   "cell_type": "code",
   "execution_count": 39,
   "id": "f144515d",
   "metadata": {},
   "outputs": [
    {
     "name": "stderr",
     "output_type": "stream",
     "text": [
      "The following columns in the training set  don't have a corresponding argument in `T5ForConditionalGeneration.forward` and have been ignored: extractive_explanation, answer, choices, abstractive_explanation, question, our_explanation, id, question_encoding.\n",
      "***** Running training *****\n",
      "  Num examples = 48\n",
      "  Num Epochs = 25\n",
      "  Instantaneous batch size per device = 8\n",
      "  Total train batch size (w. parallel, distributed & accumulation) = 8\n",
      "  Gradient Accumulation steps = 1\n",
      "  Total optimization steps = 150\n",
      "Automatic Weights & Biases logging enabled, to disable set os.environ[\"WANDB_DISABLED\"] = \"true\"\n",
      "\u001b[34m\u001b[1mwandb\u001b[0m: Currently logged in as: \u001b[33mdengdenghuang\u001b[0m (\u001b[33mcuhk_lavilab\u001b[0m). Use \u001b[1m`wandb login --relogin`\u001b[0m to force relogin\n"
     ]
    },
    {
     "data": {
      "text/html": [
       "wandb version 0.13.8 is available!  To upgrade, please run:\n",
       " $ pip install wandb --upgrade"
      ],
      "text/plain": [
       "<IPython.core.display.HTML object>"
      ]
     },
     "metadata": {},
     "output_type": "display_data"
    },
    {
     "data": {
      "text/html": [
       "Tracking run with wandb version 0.13.5"
      ],
      "text/plain": [
       "<IPython.core.display.HTML object>"
      ]
     },
     "metadata": {},
     "output_type": "display_data"
    },
    {
     "data": {
      "text/html": [
       "Run data is saved locally in <code>/cognitive_comp/huangyongfeng/evaluate_LM_with_rationalization/scripts/wandb/run-20230113_005536-1vxb8sd4</code>"
      ],
      "text/plain": [
       "<IPython.core.display.HTML object>"
      ]
     },
     "metadata": {},
     "output_type": "display_data"
    },
    {
     "data": {
      "text/html": [
       "Syncing run <strong><a href=\"https://wandb.ai/cuhk_lavilab/huggingface/runs/1vxb8sd4\" target=\"_blank\">./cos_e_output_t5_large</a></strong> to <a href=\"https://wandb.ai/cuhk_lavilab/huggingface\" target=\"_blank\">Weights & Biases</a> (<a href=\"https://wandb.me/run\" target=\"_blank\">docs</a>)<br/>"
      ],
      "text/plain": [
       "<IPython.core.display.HTML object>"
      ]
     },
     "metadata": {},
     "output_type": "display_data"
    },
    {
     "data": {
      "text/html": [
       "\n",
       "    <div>\n",
       "      \n",
       "      <progress value='150' max='150' style='width:300px; height:20px; vertical-align: middle;'></progress>\n",
       "      [150/150 02:12, Epoch 25/25]\n",
       "    </div>\n",
       "    <table border=\"1\" class=\"dataframe\">\n",
       "  <thead>\n",
       "    <tr style=\"text-align: left;\">\n",
       "      <th>Step</th>\n",
       "      <th>Training Loss</th>\n",
       "      <th>Validation Loss</th>\n",
       "    </tr>\n",
       "  </thead>\n",
       "  <tbody>\n",
       "  </tbody>\n",
       "</table><p>"
      ],
      "text/plain": [
       "<IPython.core.display.HTML object>"
      ]
     },
     "metadata": {},
     "output_type": "display_data"
    },
    {
     "name": "stderr",
     "output_type": "stream",
     "text": [
      "Saving model checkpoint to ./cos_e_output_t5_large/011323_005513/checkpoint-5\n",
      "Configuration saved in ./cos_e_output_t5_large/011323_005513/checkpoint-5/config.json\n",
      "Model weights saved in ./cos_e_output_t5_large/011323_005513/checkpoint-5/pytorch_model.bin\n",
      "Saving model checkpoint to ./cos_e_output_t5_large/011323_005513/checkpoint-10\n",
      "Configuration saved in ./cos_e_output_t5_large/011323_005513/checkpoint-10/config.json\n",
      "Model weights saved in ./cos_e_output_t5_large/011323_005513/checkpoint-10/pytorch_model.bin\n",
      "Saving model checkpoint to ./cos_e_output_t5_large/011323_005513/checkpoint-15\n",
      "Configuration saved in ./cos_e_output_t5_large/011323_005513/checkpoint-15/config.json\n",
      "Model weights saved in ./cos_e_output_t5_large/011323_005513/checkpoint-15/pytorch_model.bin\n",
      "Saving model checkpoint to ./cos_e_output_t5_large/011323_005513/checkpoint-20\n",
      "Configuration saved in ./cos_e_output_t5_large/011323_005513/checkpoint-20/config.json\n",
      "Model weights saved in ./cos_e_output_t5_large/011323_005513/checkpoint-20/pytorch_model.bin\n",
      "Saving model checkpoint to ./cos_e_output_t5_large/011323_005513/checkpoint-25\n",
      "Configuration saved in ./cos_e_output_t5_large/011323_005513/checkpoint-25/config.json\n",
      "Model weights saved in ./cos_e_output_t5_large/011323_005513/checkpoint-25/pytorch_model.bin\n",
      "Saving model checkpoint to ./cos_e_output_t5_large/011323_005513/checkpoint-30\n",
      "Configuration saved in ./cos_e_output_t5_large/011323_005513/checkpoint-30/config.json\n",
      "Model weights saved in ./cos_e_output_t5_large/011323_005513/checkpoint-30/pytorch_model.bin\n",
      "Saving model checkpoint to ./cos_e_output_t5_large/011323_005513/checkpoint-35\n",
      "Configuration saved in ./cos_e_output_t5_large/011323_005513/checkpoint-35/config.json\n",
      "Model weights saved in ./cos_e_output_t5_large/011323_005513/checkpoint-35/pytorch_model.bin\n",
      "Saving model checkpoint to ./cos_e_output_t5_large/011323_005513/checkpoint-40\n",
      "Configuration saved in ./cos_e_output_t5_large/011323_005513/checkpoint-40/config.json\n",
      "Model weights saved in ./cos_e_output_t5_large/011323_005513/checkpoint-40/pytorch_model.bin\n",
      "Saving model checkpoint to ./cos_e_output_t5_large/011323_005513/checkpoint-45\n",
      "Configuration saved in ./cos_e_output_t5_large/011323_005513/checkpoint-45/config.json\n",
      "Model weights saved in ./cos_e_output_t5_large/011323_005513/checkpoint-45/pytorch_model.bin\n",
      "Saving model checkpoint to ./cos_e_output_t5_large/011323_005513/checkpoint-50\n",
      "Configuration saved in ./cos_e_output_t5_large/011323_005513/checkpoint-50/config.json\n",
      "Model weights saved in ./cos_e_output_t5_large/011323_005513/checkpoint-50/pytorch_model.bin\n",
      "Saving model checkpoint to ./cos_e_output_t5_large/011323_005513/checkpoint-55\n",
      "Configuration saved in ./cos_e_output_t5_large/011323_005513/checkpoint-55/config.json\n",
      "Model weights saved in ./cos_e_output_t5_large/011323_005513/checkpoint-55/pytorch_model.bin\n",
      "Saving model checkpoint to ./cos_e_output_t5_large/011323_005513/checkpoint-60\n",
      "Configuration saved in ./cos_e_output_t5_large/011323_005513/checkpoint-60/config.json\n",
      "Model weights saved in ./cos_e_output_t5_large/011323_005513/checkpoint-60/pytorch_model.bin\n",
      "Saving model checkpoint to ./cos_e_output_t5_large/011323_005513/checkpoint-65\n",
      "Configuration saved in ./cos_e_output_t5_large/011323_005513/checkpoint-65/config.json\n",
      "Model weights saved in ./cos_e_output_t5_large/011323_005513/checkpoint-65/pytorch_model.bin\n",
      "Saving model checkpoint to ./cos_e_output_t5_large/011323_005513/checkpoint-70\n",
      "Configuration saved in ./cos_e_output_t5_large/011323_005513/checkpoint-70/config.json\n",
      "Model weights saved in ./cos_e_output_t5_large/011323_005513/checkpoint-70/pytorch_model.bin\n",
      "Saving model checkpoint to ./cos_e_output_t5_large/011323_005513/checkpoint-75\n",
      "Configuration saved in ./cos_e_output_t5_large/011323_005513/checkpoint-75/config.json\n",
      "Model weights saved in ./cos_e_output_t5_large/011323_005513/checkpoint-75/pytorch_model.bin\n",
      "Saving model checkpoint to ./cos_e_output_t5_large/011323_005513/checkpoint-80\n",
      "Configuration saved in ./cos_e_output_t5_large/011323_005513/checkpoint-80/config.json\n",
      "Model weights saved in ./cos_e_output_t5_large/011323_005513/checkpoint-80/pytorch_model.bin\n",
      "Saving model checkpoint to ./cos_e_output_t5_large/011323_005513/checkpoint-85\n",
      "Configuration saved in ./cos_e_output_t5_large/011323_005513/checkpoint-85/config.json\n",
      "Model weights saved in ./cos_e_output_t5_large/011323_005513/checkpoint-85/pytorch_model.bin\n",
      "Saving model checkpoint to ./cos_e_output_t5_large/011323_005513/checkpoint-90\n",
      "Configuration saved in ./cos_e_output_t5_large/011323_005513/checkpoint-90/config.json\n",
      "Model weights saved in ./cos_e_output_t5_large/011323_005513/checkpoint-90/pytorch_model.bin\n",
      "Saving model checkpoint to ./cos_e_output_t5_large/011323_005513/checkpoint-95\n",
      "Configuration saved in ./cos_e_output_t5_large/011323_005513/checkpoint-95/config.json\n",
      "Model weights saved in ./cos_e_output_t5_large/011323_005513/checkpoint-95/pytorch_model.bin\n",
      "Saving model checkpoint to ./cos_e_output_t5_large/011323_005513/checkpoint-100\n",
      "Configuration saved in ./cos_e_output_t5_large/011323_005513/checkpoint-100/config.json\n",
      "Model weights saved in ./cos_e_output_t5_large/011323_005513/checkpoint-100/pytorch_model.bin\n",
      "Saving model checkpoint to ./cos_e_output_t5_large/011323_005513/checkpoint-105\n",
      "Configuration saved in ./cos_e_output_t5_large/011323_005513/checkpoint-105/config.json\n",
      "Model weights saved in ./cos_e_output_t5_large/011323_005513/checkpoint-105/pytorch_model.bin\n",
      "Saving model checkpoint to ./cos_e_output_t5_large/011323_005513/checkpoint-110\n",
      "Configuration saved in ./cos_e_output_t5_large/011323_005513/checkpoint-110/config.json\n",
      "Model weights saved in ./cos_e_output_t5_large/011323_005513/checkpoint-110/pytorch_model.bin\n",
      "Saving model checkpoint to ./cos_e_output_t5_large/011323_005513/checkpoint-115\n",
      "Configuration saved in ./cos_e_output_t5_large/011323_005513/checkpoint-115/config.json\n",
      "Model weights saved in ./cos_e_output_t5_large/011323_005513/checkpoint-115/pytorch_model.bin\n",
      "Saving model checkpoint to ./cos_e_output_t5_large/011323_005513/checkpoint-120\n",
      "Configuration saved in ./cos_e_output_t5_large/011323_005513/checkpoint-120/config.json\n",
      "Model weights saved in ./cos_e_output_t5_large/011323_005513/checkpoint-120/pytorch_model.bin\n",
      "Saving model checkpoint to ./cos_e_output_t5_large/011323_005513/checkpoint-125\n",
      "Configuration saved in ./cos_e_output_t5_large/011323_005513/checkpoint-125/config.json\n",
      "Model weights saved in ./cos_e_output_t5_large/011323_005513/checkpoint-125/pytorch_model.bin\n",
      "Saving model checkpoint to ./cos_e_output_t5_large/011323_005513/checkpoint-130\n",
      "Configuration saved in ./cos_e_output_t5_large/011323_005513/checkpoint-130/config.json\n",
      "Model weights saved in ./cos_e_output_t5_large/011323_005513/checkpoint-130/pytorch_model.bin\n",
      "Saving model checkpoint to ./cos_e_output_t5_large/011323_005513/checkpoint-135\n",
      "Configuration saved in ./cos_e_output_t5_large/011323_005513/checkpoint-135/config.json\n",
      "Model weights saved in ./cos_e_output_t5_large/011323_005513/checkpoint-135/pytorch_model.bin\n",
      "Saving model checkpoint to ./cos_e_output_t5_large/011323_005513/checkpoint-140\n",
      "Configuration saved in ./cos_e_output_t5_large/011323_005513/checkpoint-140/config.json\n",
      "Model weights saved in ./cos_e_output_t5_large/011323_005513/checkpoint-140/pytorch_model.bin\n",
      "Saving model checkpoint to ./cos_e_output_t5_large/011323_005513/checkpoint-145\n",
      "Configuration saved in ./cos_e_output_t5_large/011323_005513/checkpoint-145/config.json\n",
      "Model weights saved in ./cos_e_output_t5_large/011323_005513/checkpoint-145/pytorch_model.bin\n",
      "Saving model checkpoint to ./cos_e_output_t5_large/011323_005513/checkpoint-150\n",
      "Configuration saved in ./cos_e_output_t5_large/011323_005513/checkpoint-150/config.json\n",
      "Model weights saved in ./cos_e_output_t5_large/011323_005513/checkpoint-150/pytorch_model.bin\n",
      "\n",
      "\n",
      "Training completed. Do not forget to share your model on huggingface.co/models =)\n",
      "\n",
      "\n"
     ]
    }
   ],
   "source": [
    "# os.environ[\"WANDB_DISABLED\"] = \"True\"\n",
    "if data_args.generations_filepath is None:\n",
    "    callbacks = [TensorBoardCallback()]\n",
    "    if data_args.early_stopping_patience > 0:\n",
    "        callbacks.append(EarlyStoppingCallback(early_stopping_patience=data_args.early_stopping_patience))\n",
    "        training_args.load_best_model_at_end = True\n",
    "    else:\n",
    "        training_args.load_best_model_at_end = False  # use the last model state\n",
    "    training_args.metric_for_best_model = 'eval_loss'\n",
    "    training_args.greater_is_better = False\n",
    "    if training_args.eval_steps is None:\n",
    "        training_args.evaluation_strategy = EvaluationStrategy.EPOCH\n",
    "    else:\n",
    "        training_args.evaluation_strategy = EvaluationStrategy.STEPS\n",
    "\n",
    "    trainer = Trainer(\n",
    "        model=model,\n",
    "        args=training_args,\n",
    "        train_dataset=our_data_splits['train'],\n",
    "        eval_dataset=our_data_splits['dev'],\n",
    "        data_collator=SequenceCollator(\n",
    "            model=model_class, pad_token=tokenizer.pad_token_id\n",
    "        ),\n",
    "        callbacks=callbacks,\n",
    "    )\n",
    "\n",
    "# Training. Don't train if it is use_gpt3\n",
    "if training_args.do_train and not model_args.use_gpt3:\n",
    "    start_time = time.time()\n",
    "    trainer.train()\n",
    "    train_time = time.time() - start_time\n",
    "    model = trainer.model\n",
    "#     wandb.finish()\n",
    "else:\n",
    "    start_time = time.time()\n",
    "    train_time = time.time() - start_time"
   ]
  },
  {
   "cell_type": "code",
   "execution_count": 40,
   "id": "ade3c632",
   "metadata": {},
   "outputs": [],
   "source": [
    "# print(our_data_splits['dev'][0]['our_explanation'])\n",
    "# inp_ids=torch.tensor(our_data_splits['dev'][0][\"input_ids\"], device=model.device).reshape(1, -1)\n",
    "# out = model.generate(\n",
    "#                     inp_ids,\n",
    "#                     max_length=100,\n",
    "#                     pad_token_id=tokenizer.pad_token_id,\n",
    "#                     eos_token_id=tokenizer.eos_token_id,\n",
    "#                 )\n",
    "# skip_special_tokens = False if \"infilling\" in data_args.io_format else True\n",
    "# words = tokenizer.decode(out[0].tolist(), skip_special_tokens=skip_special_tokens)\n",
    "# print(words)"
   ]
  },
  {
   "cell_type": "code",
   "execution_count": 41,
   "id": "b88935f8",
   "metadata": {},
   "outputs": [],
   "source": [
    "# len(our_data_splits['dev']),len(our_data_splits['train'])"
   ]
  },
  {
   "cell_type": "code",
   "execution_count": 42,
   "id": "8eda472b",
   "metadata": {},
   "outputs": [],
   "source": [
    "# our_data_splits['dev']"
   ]
  },
  {
   "cell_type": "code",
   "execution_count": 43,
   "id": "77c15190",
   "metadata": {},
   "outputs": [],
   "source": [
    "# for da in our_data_splits['train']:\n",
    "#     print(\"*******\")\n",
    "#     print(\"question: {}\".format(da['question']))\n",
    "#     print(\"answer: {}\".format(da['answer']))\n",
    "#     print(\"choices: {}\".format(da['choices']))\n",
    "#     print(\"our_explanation: {}\".format(da['our_explanation']))\n",
    "#     inp_ids = torch.tensor(da[\"input_ids\"], device=model.device).reshape(1, -1)\n",
    "#     out = model.generate(\n",
    "#                     inp_ids,\n",
    "#                     max_length=100,\n",
    "#                     pad_token_id=tokenizer.pad_token_id,\n",
    "#                     eos_token_id=tokenizer.eos_token_id,\n",
    "#                 )\n",
    "#     skip_special_tokens = False if \"infilling\" in data_args.io_format else True\n",
    "#     words = tokenizer.decode(out[0].tolist(), skip_special_tokens=skip_special_tokens)\n",
    "#     print(\"generated explanation: {}\".format(words))\n",
    "#     print(\"#######\")"
   ]
  },
  {
   "cell_type": "code",
   "execution_count": 44,
   "id": "2ca6cbe4",
   "metadata": {},
   "outputs": [],
   "source": [
    "# for da in our_data_splits['dev']:\n",
    "#     print(\"*******\")\n",
    "#     print(\"question: {}\".format(da['question']))\n",
    "#     print(\"answer: {}\".format(da['answer']))\n",
    "#     print(\"choices: {}\".format(da['choices']))\n",
    "#     print(\"our_explanation: {}\".format(da['our_explanation']))\n",
    "#     inp_ids = torch.tensor(da[\"input_ids\"], device=model.device).reshape(1, -1)\n",
    "#     out = model.generate(\n",
    "#                     inp_ids,\n",
    "#                     max_length=100,\n",
    "#                     pad_token_id=tokenizer.pad_token_id,\n",
    "#                     eos_token_id=tokenizer.eos_token_id,\n",
    "#                 )\n",
    "#     skip_special_tokens = False if \"infilling\" in data_args.io_format else True\n",
    "#     words = tokenizer.decode(out[0].tolist(), skip_special_tokens=skip_special_tokens)\n",
    "#     print(\"generated explanation: {}\".format(words))\n",
    "#     print(\"#######\")"
   ]
  },
  {
   "cell_type": "code",
   "execution_count": 45,
   "id": "69977540",
   "metadata": {},
   "outputs": [],
   "source": [
    "# good_model = T5ForConditionalGeneration.from_pretrained(\"./cos_e_output_t5_3b/112022_235539/checkpoint-30\")"
   ]
  },
  {
   "cell_type": "code",
   "execution_count": 46,
   "id": "62fca4b8",
   "metadata": {},
   "outputs": [],
   "source": [
    "# for da in our_data_splits['dev']:\n",
    "#     print(\"*******\")\n",
    "#     print(\"question: {}\".format(da['question']))\n",
    "#     print(\"answer: {}\".format(da['answer']))\n",
    "#     print(\"choices: {}\".format(da['choices']))\n",
    "#     print(\"our_explanation: {}\".format(da['our_explanation']))\n",
    "#     inp_ids = torch.tensor(da[\"input_ids\"], device=model.device).reshape(1, -1)\n",
    "#     out = good_model.generate(\n",
    "#                     inp_ids,\n",
    "#                     max_length=100,\n",
    "#                     pad_token_id=tokenizer.pad_token_id,\n",
    "#                     eos_token_id=tokenizer.eos_token_id,\n",
    "#                 )\n",
    "#     skip_special_tokens = False if \"infilling\" in data_args.io_format else True\n",
    "#     words = tokenizer.decode(out[0].tolist(), skip_special_tokens=skip_special_tokens)\n",
    "#     print(\"generated explanation: {}\".format(words))\n",
    "#     print(\"#######\")"
   ]
  },
  {
   "cell_type": "code",
   "execution_count": 47,
   "id": "3a7de102",
   "metadata": {},
   "outputs": [],
   "source": [
    "# train_output = trainer.evaluate(our_data_splits['train'].select([0,1,2,3,4]))\n",
    "# train_output"
   ]
  },
  {
   "cell_type": "code",
   "execution_count": 48,
   "id": "f43528ca",
   "metadata": {},
   "outputs": [],
   "source": [
    "# results = {}\n",
    "# if training_args.do_eval:\n",
    "#     start_time = time.time()\n",
    "#     logger.info(\"*** Evaluate on train set***\")\n",
    "#     logger.info(len(data_splits['train']))\n",
    "#     train_output = trainer.evaluate(our_data_splits['train'])\n",
    "#     perplexity = math.exp(train_output[\"eval_loss\"])\n",
    "#     results[\"perplexity_train\"] = perplexity\n",
    "\n",
    "#     # repeat\n",
    "#     logger.info(\"*** Evaluate on dev set***\")\n",
    "#     logger.info(len(data_splits['validation']))\n",
    "#     eval_output = trainer.evaluate(data_splits['validation'])\n",
    "#     perplexity = math.exp(eval_output[\"eval_loss\"])\n",
    "#     results[\"perplexity_validation\"] = perplexity"
   ]
  },
  {
   "cell_type": "markdown",
   "id": "3d2d2ec9",
   "metadata": {},
   "source": [
    "# Rationale Discriminator"
   ]
  },
  {
   "cell_type": "markdown",
   "id": "bd5eeaa4",
   "metadata": {},
   "source": [
    "## Construction of generated rationale and accepted rationale pairs\n"
   ]
  },
  {
   "cell_type": "code",
   "execution_count": 49,
   "id": "e7f1c257",
   "metadata": {},
   "outputs": [
    {
     "data": {
      "text/plain": [
       "250"
      ]
     },
     "execution_count": 49,
     "metadata": {},
     "output_type": "execute_result"
    }
   ],
   "source": [
    "len(fse_csqa_dev_data_dict)"
   ]
  },
  {
   "cell_type": "code",
   "execution_count": 50,
   "id": "c7bcb573",
   "metadata": {},
   "outputs": [
    {
     "name": "stderr",
     "output_type": "stream",
     "text": [
      "\r",
      "  0%|                                                                                                                                                                               | 0/986 [00:00<?, ?it/s]"
     ]
    },
    {
     "name": "stdout",
     "output_type": "stream",
     "text": [
      "*******\n",
      "question: Where can you likely buy many poems?\n",
      "answer: book store\n",
      "choices: ['book of poetry', 'literature book', 'book store', 'poetry book', 'bookshelf']\n",
      "common expl list: ['A bookstore sells a variety of books, including poetry books; chains of bookstores sometimes specialize in categories such as poetry or literature.', 'A book store is a place where you can buy books, including poetry books.']\n"
     ]
    },
    {
     "name": "stderr",
     "output_type": "stream",
     "text": [
      "\r",
      "  0%|▏                                                                                                                                                                      | 1/986 [00:01<28:18,  1.72s/it]"
     ]
    },
    {
     "name": "stdout",
     "output_type": "stream",
     "text": [
      "generated explanation: <pad> <extra_id_0> Book store is a great place to buy many poems. It is a great place to find poems because they are often available in a variety of styles and styles. It is also a great place to buy poems from other people because they are often categorized into a variety of categories. For example, book store is a great place to buy poems from, as it allows you to easily browse through the pages of a book and find them. It is also a great place to buy poems, as it allows you to choose the best place to purchase many poems, as well as to choose from many of them.</s>\n",
      "########\n",
      "*******\n",
      "question: What could bringing suit do to a rivalry?\n",
      "answer: aggravation\n",
      "choices: ['going to court', 'randomness', 'anger', 'aggravation', 'tensions']\n",
      "common expl list: ['Bringing suit against a rival could aggravate the rivalry.']\n"
     ]
    },
    {
     "name": "stderr",
     "output_type": "stream",
     "text": [
      "\r",
      "  0%|▎                                                                                                                                                                      | 2/986 [00:03<26:18,  1.60s/it]"
     ]
    },
    {
     "name": "stdout",
     "output_type": "stream",
     "text": [
      "generated explanation: <pad> <extra_id_0> Bringing suit can cause a rivalry to be a little more serious than a normal suit. It can also cause a fight to be more difficult to manage, as the suit can be a valuable tool in preventing the rivalry from becoming a reality. It can also help to prevent the rivalry from becoming a reality. It can also help to prevent the rivalry from becoming a reality. It can also help to prevent the rivalry from becoming a reality. It can also help to prevent the rivalry from happening.</s>\n",
      "########\n",
      "*******\n",
      "question: A person who yawns and paces to help pass the time is likely feeling what?\n",
      "answer: boredom\n",
      "choices: ['ridiculous', 'excitement', 'meanness', 'terrorism', 'boredom']\n",
      "common expl list: ['By yawning and pacing one shows signs of being bored.', 'Yawning and pacing is a sign of being bored, etc...', 'A bored person would pace and yawn to make time go by faster.']\n"
     ]
    },
    {
     "name": "stderr",
     "output_type": "stream",
     "text": [
      "\r",
      "  0%|▌                                                                                                                                                                      | 3/986 [00:03<16:12,  1.01it/s]"
     ]
    },
    {
     "name": "stdout",
     "output_type": "stream",
     "text": [
      "generated explanation: <pad> <extra_id_0> A person who yawns and paces is likely feeling what?</s>\n",
      "########\n",
      "*******\n",
      "question: I only like fiction books, why should I read a non-fiction book?\n",
      "answer: knowledge\n",
      "choices: ['knowledge', 'been printed new', 'many words', 'for fun', 'cover']\n",
      "common expl list: ['Non-fiction books contain knowledge.']\n"
     ]
    },
    {
     "name": "stderr",
     "output_type": "stream",
     "text": [
      "\r",
      "  0%|▋                                                                                                                                                                      | 4/986 [00:08<41:00,  2.51s/it]"
     ]
    },
    {
     "name": "stdout",
     "output_type": "stream",
     "text": [
      "generated explanation: <pad> <extra_id_0> Non-fiction books are more popular than fiction books. They are more complex, and they are often more complex than fiction books. They are often written in a variety of styles and styles, and they are often written in a variety of styles and styles. They are often written in a variety of styles and styles. They are often written in a variety of styles and genres, and they are often written in a variety of styles and genres. They are often written in a variety of styles and styles. They are often written in a variety of genres, and they are often written in a variety of genres, and are often written in a variety of styles, and they are often written in a variety of styles, and they are often written in a variety of genres, and they are written in a variety of styles, and are often written in a variety of styles. They are often written in a variety of genres, and they are often written in a variety of styles, and can be written in a variety of styles, and often in a variety of styles, and are often written in a variety of genres, and can be difficult to read.</s>\n",
      "########\n",
      "*******\n",
      "question: An American might hike a mountain north to get to what?\n",
      "answer: canada\n",
      "choices: ['canada', 'switzerland', 'orlando', 'austria', 'surface of earth']\n",
      "common expl list: ['If an American hiked north, they would likely end up in Canada.']\n"
     ]
    },
    {
     "name": "stderr",
     "output_type": "stream",
     "text": [
      "\r",
      "  1%|▊                                                                                                                                                                      | 5/986 [00:10<40:00,  2.45s/it]"
     ]
    },
    {
     "name": "stdout",
     "output_type": "stream",
     "text": [
      "generated explanation: <pad> <extra_id_0> An American might hike a mountain north to get to what? canada hikes a mountain north to get to what. The mountain is a great way to get to canada, which is a great way to get to the Canadian border. The mountain north is a great way to get to the Canadian border, which is a great way to get to the Canadian border. The mountain north is a great way to get to the Canadian border, which is a great way to get to a Canadian border town. The mountain north is also a great way to get to where the Canadian border. The mountain is a great deal of the country's top of the mountain, and can be reached by foot, and can be a great way to get to the Canadian border.</s>\n",
      "########\n",
      "*******\n",
      "question: Sam spent most of his time standing up.  His job was hectic and he never got any rest. But he was the best cashier at his workplace.    Where might he work?\n",
      "answer: supermarket\n",
      "choices: ['bookstore', 'count till', 'supermarket', 'shop', 'preschool']\n",
      "common expl list: ['Since one spends most of his time standing when working as a cashier, Sam probably works at a supermarket where groceries are sold. Because his workplace is full of activities and punten, he never gets any rest.', \"The best cashiers work setting up lines of products, yhis is usually done from being on one's feet. Supermarkets use till systems to swipe credit cards, thus cashiering is done by standing up.\"]\n"
     ]
    },
    {
     "name": "stderr",
     "output_type": "stream",
     "text": [
      "\r",
      "  1%|█                                                                                                                                                                      | 6/986 [00:12<34:53,  2.14s/it]"
     ]
    },
    {
     "name": "stdout",
     "output_type": "stream",
     "text": [
      "generated explanation: <pad> <extra_id_0> Sam was the best cashier at his workplace. He worked in a supermarket. He was the best cashier in the world. He was the best cashier in the world. He was the best cashier in the world. He was the best cashier in the supermarket. He was the best cashier in the supermarket. He was the best cashier in the world. Sam was the best cashier at his workplace. He was the best cashier at his workplace. He was the best cashier in the world. He was the best cashier at his job.</s>\n",
      "########\n",
      "*******\n",
      "question: James raked fallen leaves into a pile. Where might he leave the pile?\n",
      "answer: ground\n",
      "choices: ['forest', 'roof', 'garden', 'tree', 'ground']\n",
      "common expl list: ['Leaves are often raked into piles on the ground.']\n"
     ]
    },
    {
     "name": "stderr",
     "output_type": "stream",
     "text": [
      "\r",
      "  1%|█▏                                                                                                                                                                     | 7/986 [00:17<49:05,  3.01s/it]"
     ]
    },
    {
     "name": "stdout",
     "output_type": "stream",
     "text": [
      "generated explanation: <pad> <extra_id_0> James raked fallen leaves into a pile of fallen leaves. Ground is a place where fallen leaves can be deposited in the soil. Ground is a place where fallen leaves can be found. Ground is a place where fallen leaves can be found. Ground is a place where fallen leaves can be found. Ground is a place where fallen leaves can be found in the soil. It is a place where fallen leaves can be deposited. Ground is a place where fallen leaves can be deposited. Ground is a place where a place where a place where a pile of fallen leaves can be a place where a place to leave the pile. Ground is a place where fallen leaves can be found. Ground is a place to place to place to preserve the soil. Ground is a place to preserve the soil. Ground is a place to leave fallen leaves can be found in the soil. Ground is a place to leave a place to be a place to be used to preserve the soil. Ground is a place to preserve the soil. James may leave the pile of fallen leaves can be found to preserve the soil.</s>\n",
      "########\n",
      "*******\n",
      "question: What happens when we fail at something we attempt?\n",
      "answer: leave\n",
      "choices: ['leave', 'give up', 'trying', 'we get shunned', 'fail']\n",
      "common expl list: [\"If we engage in an activity, like a sport, and fail, we don't want to continue doing it. It's much easier simply to leave.\", 'If we fail at something, we usually leave (quit) that activity; failing is an action, while giving up and trying are both ways of not acting.']\n"
     ]
    },
    {
     "name": "stderr",
     "output_type": "stream",
     "text": [
      "\r",
      "  1%|█▎                                                                                                                                                                     | 8/986 [00:20<52:16,  3.21s/it]"
     ]
    },
    {
     "name": "stdout",
     "output_type": "stream",
     "text": [
      "generated explanation: <pad> <extra_id_0> When we fail at something we attempt, we fail at it. When we fail at something, we fail at something we try to do. Failure is a common problem that can be avoided by focusing on the task at hand. Failure can also be a cause of confusion, and can lead to a lot of stress. This can lead to a lot of stress, and it can lead to a lot of unnecessary effort. It can lead to a lot of stress, and can lead to a lot of stress. It can lead to a lot of stress, which can lead to a lot of stress, and can lead to a lot of things that can be a lot of them, and it can lead to a lot of stress, and can lead to a lot of stress, and it can lead to a lot of stress, and frustration, which can lead to a lot of stress and stress.</s>\n",
      "########\n",
      "*******\n",
      "question: The referee wasn't specialized in one thing. He refereed many games.  He was offered a job but wasn't sure what it would be.  What did he know it would be?\n",
      "answer: sporting event\n",
      "choices: ['side with opponent', 'football', 'hockey game', 'part two boxers', 'sporting event']\n",
      "common expl list: ['Referees are specialized in sports, and so, they would be expected to know how to referee a sporting event.']\n"
     ]
    },
    {
     "name": "stderr",
     "output_type": "stream",
     "text": [
      "\r",
      "  1%|█▌                                                                                                                                                                     | 9/986 [00:22<44:51,  2.75s/it]"
     ]
    },
    {
     "name": "stdout",
     "output_type": "stream",
     "text": [
      "generated explanation: <pad> <extra_id_0> The referee was specialized in many sports. He refereed many sporting events. He was offered a job but wasn't sure what it would be. He was offered a job because he was a professional athlete. He was also offered a job because he was specialized in other things. He was offered a job because he was specialized in a sporting event. He was also offered a job because he was specialized in other things. He was offered a job because he was specialized in sports event. He was also offered a job that he was specialized in.</s>\n",
      "########\n",
      "*******\n",
      "question: Susan threw the highly elastic ball at the wall.  The ball did what?\n",
      "answer: rebound\n",
      "choices: ['bounce', 'recoil', 'rebound', 'underwear', 'stretch']\n",
      "common expl list: ['Elastic balls collide with the wall, and boom bounce back after a collision.']\n"
     ]
    },
    {
     "name": "stderr",
     "output_type": "stream",
     "text": [
      "\r",
      "  1%|█▋                                                                                                                                                                    | 10/986 [00:23<38:38,  2.38s/it]"
     ]
    },
    {
     "name": "stdout",
     "output_type": "stream",
     "text": [
      "generated explanation: <pad> <extra_id_0> Susan threw the highly elastic ball at the wall. The ball did what? The ball rebounded. The ball was designed to be thrown at the wall and then bounced back. The ball rebounded because it was a highly elastic ball. It was a great way to get the ball back from the wall. It was a great way to get the ball back from the wall. It was a great way to get the ball back into the air. It was a great way to get the ball back into the air.</s>\n",
      "########\n",
      "*******\n",
      "question: John lived in a small island surrounded by flowing liquid H2O   Where might he live?\n",
      "answer: mississippi river\n",
      "choices: ['japan', 'hawaii', 'mississippi river', 'pacific ocean', 'body of water']\n",
      "common expl list: ['there are numerous islands in the mississippi river in the united states, making it possible that John may have lived on one.']\n"
     ]
    },
    {
     "name": "stderr",
     "output_type": "stream",
     "text": [
      "\r",
      "  1%|█▊                                                                                                                                                                    | 11/986 [00:25<35:01,  2.16s/it]"
     ]
    },
    {
     "name": "stdout",
     "output_type": "stream",
     "text": [
      "generated explanation: <pad> <extra_id_0> John lived in a small island in the mississippi river. He was surrounded by flowing liquid water and lived in a small island. He lived in a small island surrounded by flowing water and a small island. He lived in a small island in the mississippi river. The water was flowing through the river and flowing through the island. The river is a natural habitat for the fish and turtles living in the river. The water is a natural habitat for the fish and turtles. The water is a natural habitat for fish and wildlife.</s>\n",
      "########\n",
      "*******\n",
      "question: What will the student have to do on the test?\n",
      "answer: solve equation\n",
      "choices: ['finish college', 'begin teaching', 'write', 'answer question', 'solve equation']\n",
      "common expl list: ['A student has to solve equations to learn a given theory that is presented in class.']\n"
     ]
    },
    {
     "name": "stderr",
     "output_type": "stream",
     "text": [
      "\r",
      "  1%|██                                                                                                                                                                    | 12/986 [00:28<40:23,  2.49s/it]"
     ]
    },
    {
     "name": "stdout",
     "output_type": "stream",
     "text": [
      "generated explanation: <pad> <extra_id_0> The student will have to solve a number of equations to pass the test. This is because the student will be asked to solve a number of equations. This is because the student will have to solve a number that is not a simple equation. This is because the student will have to solve a number of equations to get the answer. This is because the student will have to solve a number of equations to get the answer. This is because the student will have to solve the equation. This is because the student will have to solve the equations in order to get the answer to the equations in order. This will be the student will have to solve the equations in order to get the answer on the test. This is the student will have to solve the equations in order to solve the equation in order to get the answer to the equation in order to solve the equations in order to get the answer.</s>\n",
      "########\n",
      "*******\n",
      "question: The tourists saw what they thought was a statue, but they soon discovered it was performance art went it began what?\n",
      "answer: moving\n",
      "choices: ['growing mold', 'moving', 'accent garden', 'green', 'painting']\n",
      "common expl list: ['Performance art is art that is performed, rather than being a static object. In this case, the statue was moving, which is a sign of performance art.']\n"
     ]
    },
    {
     "name": "stderr",
     "output_type": "stream",
     "text": [
      "\r",
      "  1%|██▏                                                                                                                                                                 | 13/986 [00:37<1:11:45,  4.43s/it]"
     ]
    },
    {
     "name": "stdout",
     "output_type": "stream",
     "text": [
      "generated explanation: <pad> <extra_id_0> The tourists saw what they thought was a statue and were immediately moved by the performance art they saw. Moving art is often performed by performers performing in front of a crowd. It is often performed by performers performing their own music, dance, or other musical instruments. Performance art is performed by performers performing their own music, dancing, or dancing. The performances are often performed in the public spaces of the world, and are often performed in the public spaces of the world. The performers perform in a variety of ways, including dancing, dancing, and performing arts, performance art. The performance art began to perform in the world of performance art, performing arts, performing in the world of the performers, and performing arts, performing arts, and performing arts, performing arts, performing arts, performing arts, and other cultural expressions, performing arts, performance art, and dance, performing arts, dance, dance, and other forms of performance art, performing arts, and other forms of performance arts, performing arts, performing arts, and performing arts, performing arts, performing arts, performing arts, and performing arts, performing arts, performing arts, performing arts, performing arts, performing arts, performing arts, performing arts, performing arts, and other forms of performing arts, performing arts, performance arts, performance art, performing arts, and performing arts, performing arts, performing arts, or performing arts, performing arts, performing arts, performing arts, performing arts, performing arts, performing arts, performing arts, performing arts, performing arts, performing arts, performance arts, performing arts, performing arts, performing arts, performing arts, performing arts, and other forms, performing arts, performance art, a variety of arts, and arts, performing arts, performance arts, performing arts, performing arts, performing arts, performance arts, performance arts, and performance arts, performance arts, performance arts, performance arts, performing arts, performance arts, performance arts, performance arts, performance arts, performance arts, performing arts, performance arts, performance arts, performing arts, performing arts, performance arts, performance arts, performing arts, performance arts, performing arts, performance arts, performance arts, performance arts, performance arts, performance arts, performance arts, performance arts, performing arts, performance arts, performance arts, performance arts, performance arts, performance arts, performance arts, performance arts, performance arts, performance arts, performance arts, performance arts, performance arts, performance arts, performance arts, performance arts, performance arts, performance arts, performance arts, performance arts,\n",
      "########\n",
      "*******\n",
      "question: What is a good way to carry a small dog?\n",
      "answer: backpack\n",
      "choices: ['good hands', 'backpack', 'chinese food', 'grocery bag', 'basket']\n",
      "common expl list: ['Backpacks are a good way to carry things, and small dogs are things.']\n"
     ]
    },
    {
     "name": "stderr",
     "output_type": "stream",
     "text": [
      "\r",
      "  1%|██▎                                                                                                                                                                 | 14/986 [00:42<1:15:33,  4.66s/it]"
     ]
    },
    {
     "name": "stdout",
     "output_type": "stream",
     "text": [
      "generated explanation: <pad> <extra_id_0> A backpack is a great way to carry a small dog. It is also a great way to carry a small dog. It is also a great way to carry small dogs. It is also a great way to carry a small dog with you. It is also a great way to carry small dogs. It is also a great way to carry small dogs. It is also a great way to carry a small dog in a backpack. It is a great way to carry small dogs. It is also a great way to carry a small dog around with you, and it is a great way to carry a small dog with you. It is also a great way to carry a small dog with you. It is also a great way to carry a small dog with you. It is also a great way to carry small dog with you when you can carry a small dog with you. It is also a great way to carry a small dog with you when you can carry a small dog with you. It is a great way to carry a small dog with you. It is a good way to carry small dog with you when you can carry small dogs with you. It is also a great way to carry a small dog with you.</s>\n",
      "########\n",
      "*******\n",
      "question: Both sides in World War I used what to cause death that is now banned?\n",
      "answer: poisonous gas\n",
      "choices: ['homicide', 'poisonous gas', 'cyanide', 'nuclear weapons', 'massive weapons']\n",
      "common expl list: ['Poison gas is a chemical known for its ability to kill (therefore, if both sides used it, people on both sides died from its use), and it has since gone on to be outlawed in many countries.']\n"
     ]
    },
    {
     "name": "stderr",
     "output_type": "stream",
     "text": [
      "\r",
      "  2%|██▍                                                                                                                                                                 | 15/986 [00:49<1:22:33,  5.10s/it]"
     ]
    },
    {
     "name": "stdout",
     "output_type": "stream",
     "text": [
      "generated explanation: <pad> <extra_id_0> Both sides in World War I used what is now banned as poisonous gas. Both sides in World War I used what is now banned as poisonous gas. Both sides in World War I used poisonous gas to cause death that is now banned as poisonous gas. Both sides in World War I used what is now banned as poisonous gas. Both sides in World War I used what is now banned as poisonous gas. Both sides in World War I both sides in World War I used what is now banned as a way to cause death. Both sides in World War I used poisonous gas in World War I used poisonous gas in World War I in the warsaw occupied parts of the warsaw occupied parts of the warsaw occupied parts of the warsaw region. Both sides in the warsaw area were also used poisonous gas. Both sides in the warsaw area were used to cause the use of poisonous gas is now banned as a way to cause death. Both sides in the warsaw region, both sides in the warsaw region were used to cause death by the warsaw region, both sides in the warsaw region, both sides in the warsaw region, both sides in the warsaw region, both sides used poisons were used poisonous gas, and the gas was used poisons were used to cause the use of poisonous gas, and both sides in the warsaw area, the gas was used as a weapon, both sides in the warsaw, the gas was used to cause the gas was used to cause the warsaw, the warsaw, the warsaw, and the warsaw, the war between</s>\n",
      "########\n",
      "*******\n",
      "question: Where is disease often spread but shouldn't be?\n",
      "answer: hospital\n",
      "choices: ['ghost town', 'third world country', 'human body', 'rug', 'hospital']\n",
      "common expl list: ['Hospitals are places where people go to get better, and therefore disease is often spread there.', 'Disease is spread most commonly in hospitals, where sick patients are treated and recovered hosts of disease are found.']\n"
     ]
    },
    {
     "name": "stderr",
     "output_type": "stream",
     "text": [
      "\r",
      "  2%|██▋                                                                                                                                                                 | 16/986 [00:53<1:17:45,  4.81s/it]"
     ]
    },
    {
     "name": "stdout",
     "output_type": "stream",
     "text": [
      "generated explanation: <pad> <extra_id_0> The hospital is the most likely place to be affected by a disease, especially if it is not treated properly. The hospital is often the most likely place to be affected by a disease, especially if it is treated with care. Hospitals are often the most likely places to get a diagnosis of a disease, and they are often the first to report a case. Often, the spread of a disease is a sign of a health problem. This is because the hospital is not equipped to handle the disease, which can be difficult to detect and act quickly. The hospital is often not equipped to handle the disease, and the hospital is a good place to be able to identify the disease, and the hospital is also able to prevent it from the disease, and often the first to monitor the disease, and the patient's health, which can be the first to understand the risk of the disease, and the health of the health risk, and the hospital is also able to assess the disease, and the disease is</s>\n",
      "########\n",
      "*******\n",
      "question: As things get colder, temperature does what?\n",
      "answer: drop to zero\n",
      "choices: ['increase', 'drop to zero', 'heat up', 'dropping quickly', 'arctic']\n",
      "common expl list: ['As things get colder, they get closer to zero degrees.']\n"
     ]
    },
    {
     "name": "stderr",
     "output_type": "stream",
     "text": [
      "\r",
      "  2%|██▊                                                                                                                                                                 | 17/986 [00:58<1:18:00,  4.83s/it]"
     ]
    },
    {
     "name": "stdout",
     "output_type": "stream",
     "text": [
      "generated explanation: <pad> <extra_id_0> As things get colder, temperature drops to zero. As temperatures drop to zero, they can cause the temperature to drop to zero. As temperatures drop, they can cause the temperature to drop to zero. This is a result of the drop in temperature. As temperatures drop to zero, the temperature drops to zero. This is a result, the temperature will drop to zero when the weather gets colder. Temperatures can drop to zero as temperatures drop. Temperatures can drop to zero when temperatures become colder. Temperatures drop to zero when the temperature drops to zero when the temperature drops to zero when the temperature drops to zero when the temperature drops to zero when temperatures drop to zero, the temperature drops to zero when temperatures drop to zero when temperatures drop to zero when temperatures drop to zero when temperatures drop to zero when temperatures drop to zero when the temperature drops to zero when temperatures drop to zero when temperatures drop to zero when temperatures drop to zero when temperatures drop to zero when temperatures drop to zero when temperatures drop to zero when temperatures drop to zero when temperatures drop to zero when temperatures drop to zero when temperatures drop to zero when temperatures drop to zero when temperatures rise to zero </s>\n",
      "########\n",
      "*******\n",
      "question: Where is one unlikely to get popcorn?\n",
      "answer: soccer game\n",
      "choices: ['restaurant', 'movie house', 'soccer game', 'carnival', 'movie theater']\n",
      "common expl list: ['Soccer games usually lack popcorn machines.', 'Soccer games are usually snacks-free affairs; snacks, including popcorn, tend to be present at more recreational venues, but less so in settings where food is unnecessary because there are translatable goods sellers, i.e., vendors that sell things like popcorn', 'Most soccer games lack concession stands, which are necessary to sell movie theaters popcorn.']\n"
     ]
    },
    {
     "name": "stderr",
     "output_type": "stream",
     "text": [
      "\r",
      "  2%|██▉                                                                                                                                                                 | 18/986 [01:04<1:24:15,  5.22s/it]"
     ]
    },
    {
     "name": "stdout",
     "output_type": "stream",
     "text": [
      "generated explanation: <pad> <extra_id_0> Soccer is a great way to enjoy a game of games, especially during the game. The popcorn is a great way to enjoy a game of sports, especially if you are a fan of soccer and are interested in watching them play. They are also a great way to enjoy a game of sports, especially when they are playing soccer. They are also a great way to enjoy a game of soccer. They are also a great way to enjoy a game with friends and family. They are also a great way to get a great way to enjoy a game of sports, especially when they are watching soccer matches, and they are a great way to watch soccer, especially if they are watching a game, and are likely to get popcorn. They may also enjoy a game of sports. They also have a game. The game, and they may also have a good game of popcorn is a great way to enjoy a great way to get a great way to get a great way to get a great way to get a great way to get a great way to get a great way to get a great way to get a great way to get a great way to get a great way to get a great way to get a great way to get a great way to get a great way to get a great way to get a great way to get a great way to get a great way to get a lot of people to get a lot of people to a lot of people to a lot of things to play a great game of soccer.</s>\n",
      "########\n",
      "*******\n",
      "question: Where are files likely to be hanging?\n",
      "answer: filing cabinet\n",
      "choices: ['filing cabinet', 'tree', 'suitcase', 'computer', 'desk drawer']\n",
      "common expl list: ['Files are likely to be hanging in a filing cabinet, since they are often organized by topic, and filing cabinets are often used to organize files.', 'Filing cabinets are used to store files sometimes; these files can then be found by opening the filing cabinet and looking for hanging folders.']\n"
     ]
    },
    {
     "name": "stderr",
     "output_type": "stream",
     "text": [
      "\r",
      "  2%|███▏                                                                                                                                                                | 19/986 [01:06<1:08:35,  4.26s/it]"
     ]
    },
    {
     "name": "stdout",
     "output_type": "stream",
     "text": [
      "generated explanation: <pad> <extra_id_0> Files likely to be hanging in filing cabinet are likely to be mounted in a filing cabinet. The filing cabinet is a great place to hang files as they are likely to be used for storage, storage, and storage. Files are likely to be hung in a filing cabinet, or in a walled, unattended area. Files are likely to be placed in a filing cabinet, filing cabinet, or other storage units. These cabinets are usually located in a filing cabinet or other storage units. They are usually located in a filing cabinet is usually located in a filing cabinet is a great place to hang files are likely to be used to store storage and storage cabinet.</s>\n",
      "########\n",
      "*******\n",
      "question: What is required to go on vacation before anything else?\n",
      "answer: have money\n",
      "choices: ['pack', 'pay bills', 'save money', 'have money', 'reliable car']\n",
      "common expl list: ['Vacations often require the purchase of travel services, such as airline or hotel tickets.']\n"
     ]
    },
    {
     "name": "stderr",
     "output_type": "stream",
     "text": [
      "\r",
      "  2%|███▎                                                                                                                                                                  | 20/986 [01:08<57:07,  3.55s/it]"
     ]
    },
    {
     "name": "stdout",
     "output_type": "stream",
     "text": [
      "generated explanation: <pad> <extra_id_0> Have money? Having money is a must when traveling to a destination. It is important to have money to spend on a vacation. It is important to have money to spend on a vacation. It is important to have money to spend on vacation. It is important to have money to spend on vacation. It is important to have money to spend on vacation. It is important to have money to go on vacation. It is important to have money to spend on vacation. It is important to have money to spend on vacation. It is important to have money to spend it on vacation before you plan to go on vacation. It is important to go on vacations to spend money on vacation.</s>\n",
      "########\n",
      "*******\n",
      "question: The roadway passed a sign and gate house, what was behind the gatehouse?\n",
      "answer: subdivision\n",
      "choices: ['city', 'narnia', 'subdivision', 'neighborhood', 'countryside']\n",
      "common expl list: ['Subdivisions are residential areas that are often gated, and so, if you see a gatehouse, you might be in a subdivision.', 'A subdivision contains houses that formed around it; therefore, a subdivision has a gatehouse that controls who goes in and out.']\n"
     ]
    },
    {
     "name": "stderr",
     "output_type": "stream",
     "text": [
      "\r",
      "  2%|███▍                                                                                                                                                                | 21/986 [01:27<2:12:01,  8.21s/it]"
     ]
    },
    {
     "name": "stdout",
     "output_type": "stream",
     "text": [
      "generated explanation: <pad> <extra_id_0> The roadway passed a sign and gatehouse, what was behind the gatehouse? The gatehouse was located on the roadway and was visible from the street. The gatehouse was located on the street and was visible from the street. The gatehouse was located on the street. The gatehouse was visible from the roadway and was visible from the street. The gatehouse was located on the street. The gatehouse was visible from the street. The gatehouse was visible from the street and was visible from the street. The gatehouse was visible from the road. The gatehouse was visible from the road. The gatehouse was visible from the gatehouse was visible from the street. The gatehouse was visible from the street. The gatehouse was visible from the street was visible from the gatehouse was visible from the street. The gatehouse was visible from the street and was visible from the gatehouse was visible from the gatehouse was visible from the road. The gatehouse was visible from the gatehouse was visible from the road. The gatehouse was visible from the roadway. The gatehouse was visible from the gatehouse was visible from the gatehouse was visible from the gatehouse was visible from the gatehouse was visible from the gatehouse was visible from the gatehouse was visible from the gatehouse was visible from the gatehouse was visible from the gatehouse was visible from the gatehouse was visible from the gatehouse was visible from the gatehouse was visible from the gatehouse was visible from the gatehouse was visible from the gatehouse was visible from the gatehouse was visible from the gatehouse was visible from the gatehouse was visible from the gatehouse was visible from the gatehouse was visible from the gatehouse was visible from the gatehouse was visible from the gatehouse was visible from the gatehouses and the gatehouse was visible from the gatehouse was visible from the gatehouse was visible from the gatehouse was visible from the gatehouse was visible from the gatehouse was visible from the gatehouse was visible from the gatehouse was visible from the gatehouse was visible from the gatehouse was visible from the gatehouse was visible from the gatehouse was visible from the gatehouse was visible from the gatehouse was visible from the gatehouse was visible from the gatehouse is visible from the gatehouse is visible from the gate house is visible from the gatehouse. The gatehouse is visible from the gatehouse is visible from the gatehouse is visible from the gatehouse is visible from the gatehouse is visible from the gate\n",
      "########\n",
      "*******\n",
      "question: The invasive A.I. was designed to scan the crowd, where most saw a mass of humanity the evil machine could pick out each what?\n",
      "answer: individual\n",
      "choices: ['solitary', 'single person', 'few people', 'crowd', 'individual']\n",
      "common expl list: [\"Machine intelligence is better able to find isolated individuals than crowded groups. Machines need to scan a large group of people to be able to find a single person--but when the single person doesn't blend in, it makes them easier to find.\"]\n"
     ]
    },
    {
     "name": "stderr",
     "output_type": "stream",
     "text": [
      "\r",
      "  2%|███▋                                                                                                                                                                | 22/986 [01:31<1:54:19,  7.12s/it]"
     ]
    },
    {
     "name": "stdout",
     "output_type": "stream",
     "text": [
      "generated explanation: <pad> <extra_id_0> The invasive A.I. was designed to scan the crowd, where most saw the mass of humanity, and pick out each individual. The invasive A.I. was designed to scan the crowd, and can pick up individual individuals. The machines were designed to scan the crowd, and can pick out individual individuals. The machines could also pick individual individuals from the crowd, allowing them to pick out individual individuals, allowing them to be able to identify individuals and their surroundings. The machines could also detect individual individuals, and even a small group of individuals could be able to identify individual individuals, and could also detect individual personalities, and even make them aware of each other. The machines could also monitor individual individuals and their surroundings, and even those individuals, and that could be used to identify individuals and the machine could also be used to pick out individual individuals and groups of people and groups of people, thereby thereby enabling them to identify individual</s>\n",
      "########\n",
      "*******\n",
      "question: Is has been speculated that a aliens could be communicating by doing this?\n",
      "answer: thinking\n",
      "choices: ['effort', 'farting', 'thinking', 'laugh', 'medium']\n",
      "common expl list: ['Aliens could quite possibly be using thought as a way to communicate between themselves.']\n"
     ]
    },
    {
     "name": "stderr",
     "output_type": "stream",
     "text": [
      "\r",
      "  2%|███▊                                                                                                                                                                | 23/986 [01:44<2:21:42,  8.83s/it]"
     ]
    },
    {
     "name": "stdout",
     "output_type": "stream",
     "text": [
      "generated explanation: <pad> <extra_id_0> A thought is a way of communicating with other humans and animals. It is a way for humans to communicate with humans and other living creatures. It is a way for humans and other living beings to communicate with each other. It is also a way for humans to communicate with each other. It is also a way to communicate with other humans. It is a way for humans to communicate by thinking, which is a way to communicate with humans and other animals. It is a way for humans to communicate with humans and other creatures. It is also a way for humans to communicate with each other, and thus, it is a way for humans to communicate with each other, and to communicate by thinking, and to communicate through the mind, and to communicate with each other, and to communicate with each other, and to communicate with each other, and to communicate with each other, and to communicate with each other, and to communicate with each other, and to communicate with each other, and to communicate with each other, and to communicate with each other, and to communicate with each other, and to communicate through the conversation, and to communicate through the world, and to communicate through the world, and to communicate through the world, and to communicate through the world, and to communicate through the world, and to communicate through the world, and to communicate through the world, and to communicate through the world, and to communicate with the world, and to communicate through a shared by the world, and to communicate through the world, to communicate through the world, to a different way, to communicate with each other, to communicate through the world, to communicate through the world, to communicate through the world, to communicate through the world, to communicate through the world, to communicate in a mutually communicate with each other, to communicate in a mutually communicate through the world, and to communicate through the world.</s>\n",
      "########\n",
      "*******\n",
      "question: What can occur in fencing if you are not careful?\n",
      "answer: severe injuries\n",
      "choices: ['competition', 'severe injuries', 'fever', 'perspiration', 'small cuts']\n",
      "common expl list: ['Fencing is a sport that involves hitting your opponent with a sword, and if you are not careful, you can get injured.', 'Fencing is a sport, which involves hitting your opponent with a sharp piece of metal, which will almost certainly result in some physical pain.', 'The sport of fencing causes people to be hit by weapons, which may cause cuts or other wounds if someone is not careful.']\n"
     ]
    },
    {
     "name": "stderr",
     "output_type": "stream",
     "text": [
      "\r",
      "  2%|███▉                                                                                                                                                                | 24/986 [01:46<1:47:52,  6.73s/it]"
     ]
    },
    {
     "name": "stdout",
     "output_type": "stream",
     "text": [
      "generated explanation: <pad> <extra_id_0> If you are not careful, you can become prone to severe injuries. This is especially true when you are not careful with your fencing. In addition, if you are not careful, you can cause severe injuries. This can lead to serious injuries if you are not careful... This is because fencing is a great way to protect yourself from the elements. It is also a great way to prevent injuries if you are not careful. It is also a great way to prevent injuries that could cause serious injuries. It is also a fencers to be careful when using the fencing.</s>\n",
      "########\n",
      "*******\n",
      "question: If you stretch out your socks they will then have what kind of fit?\n",
      "answer: loose\n",
      "choices: ['cramped', 'loose', 'contract', 'park', 'compressing']\n",
      "common expl list: ['When stretched out, socks will be loose.']\n"
     ]
    },
    {
     "name": "stderr",
     "output_type": "stream",
     "text": [
      "\r",
      "  3%|████▏                                                                                                                                                               | 25/986 [01:49<1:29:40,  5.60s/it]"
     ]
    },
    {
     "name": "stdout",
     "output_type": "stream",
     "text": [
      "generated explanation: <pad> <extra_id_0> If you stretch out your socks they will have a loose fit. This is because it is a loose fit, which is a good idea if you are using a loose pair. This is because it is a good idea to wear loose socks, which are great for a casual or casual look. This is because they are a great way to stretch out your socks. This is because they are comfortable and comfortable. They are also able to be worn in a comfortable and comfortable way. Having loose socks can be a good fit for your feet, they are a good idea to keep them in a loose fit. They also allows you to keep your feet and ankles. It can be worn in a loose fit. It is a good fit. It can also be worn in a looser, more comfortable and more comfortable to wear.</s>\n",
      "########\n",
      "*******\n",
      "question: John ran out of pencils.  Where did  he go to get more?\n",
      "answer: office depot\n",
      "choices: ['desk drawer', 'cup', 'pencil case', 'shelf', 'office depot']\n",
      "common expl list: ['Office Depot is a store that sells office supplies, including pencils.', 'Pencils can be found at an office supply store, e.g., an office depot.', 'When people need pencils (or pens), they often buy them at office depots.', 'John can buy new pencils at an office depot.', 'Office Depot is a company that specializes in office furniture; it also sells pens and pencils.']\n"
     ]
    },
    {
     "name": "stderr",
     "output_type": "stream",
     "text": [
      "\r",
      "  3%|████▎                                                                                                                                                               | 26/986 [01:54<1:28:10,  5.51s/it]"
     ]
    },
    {
     "name": "stdout",
     "output_type": "stream",
     "text": [
      "generated explanation: <pad> <extra_id_0> John ran out of pencils. Office depot has a lot of pencils. Office Depot has a lot of pencils. Office depot has a lot of pencils. Office depot has a lot of pencils. Office Depot has a lot of pencils. The office depot has a lot of pencils. The office has a lot of pencils. The office depot has a lot of pencils. John ran out of pencils. He went to the office to get more. The office depot has a lot of pencils is a lot of pencils. Office Depot has a lot of pencils, office supplies, office supplies, and office supplies, office supplies. Office Depot has a lot of pencils. Office Depot has pencils. Office Depot pencils, pencils are also a lot of pencils. The office supplies are a lot of pencils. pencils are also has a lot of pencils, pencils, pencils, pencil cases, and pencils. Office Depot has a lot of pencils.</s>\n",
      "########\n",
      "*******\n",
      "question: What does a confident person do?\n",
      "answer: trust himself\n",
      "choices: ['feel important', 'own house', 'trust himself', 'know what time', 'cry']\n",
      "common expl list: ['A confident person is sure of his abilities and the trust in himself/herself to do things or accomplish goals.', 'People whose confidence is high tend to believe themselves more strongly, and so the confident person might believe in their own abilities and do things such as trust themselves.']\n"
     ]
    },
    {
     "name": "stderr",
     "output_type": "stream",
     "text": [
      "\r",
      "  3%|████▍                                                                                                                                                               | 27/986 [01:56<1:09:18,  4.34s/it]"
     ]
    },
    {
     "name": "stdout",
     "output_type": "stream",
     "text": [
      "generated explanation: <pad> <extra_id_0> A confident person can trust himself to be trusted with his own feelings and actions. Trust yourself to be able to make decisions based on the facts and circumstances of his life. Trust yourself to be able to make decisions that are based on the facts and circumstances of his life. Trust yourself to be able to make decisions that are based on the facts and circumstances of his life. Trust yourself to be trusted by his own feelings and actions. Trust yourself to be able to make decisions that are based on the facts and circumstances of his life.</s>\n",
      "########\n",
      "*******\n",
      "question: James thought that analyzing all the data would help him learn more, but it did not.  It only gave him what?\n",
      "answer: headache\n",
      "choices: ['headache', 'better understanding', 'papercuts', 'enlightened', 'discovering truth']\n",
      "common expl list: ['Analysis requires a lot of thinking with maybe little reward, which can give one a headache.']\n"
     ]
    },
    {
     "name": "stderr",
     "output_type": "stream",
     "text": [
      "\r",
      "  3%|████▋                                                                                                                                                                 | 28/986 [01:57<54:30,  3.41s/it]"
     ]
    },
    {
     "name": "stdout",
     "output_type": "stream",
     "text": [
      "generated explanation: <pad> <extra_id_0> James thought that analyzing all the data would help him learn more, but it did not. He thought that it would give him more information, but it gave him more information, which he could use to learn more about his life. It also gave him a headache. It also gave him a headache. He thought that analyzing all the data would help him learn more, but it did not. It only gave him what?</s>\n",
      "########\n",
      "*******\n",
      "question: What makes people happy when it is surprising and unexpected?\n",
      "answer: humor\n",
      "choices: ['joke', 'humor', 'frightened', 'fight', 'laughter']\n",
      "common expl list: ['A surprise is a stimulus that is not generally predicted before exposing it to a subject. It may be surprising things that cause laughter, or unexpected things that people see as funny.']\n"
     ]
    },
    {
     "name": "stderr",
     "output_type": "stream",
     "text": [
      "\r",
      "  3%|████▉                                                                                                                                                                 | 29/986 [01:59<45:59,  2.88s/it]"
     ]
    },
    {
     "name": "stdout",
     "output_type": "stream",
     "text": [
      "generated explanation: <pad> <extra_id_0> People are more likely to be happy when it is unexpected and unexpected. People are more likely to be happy when it is unexpected and unexpected. People are more likely to be happy when it is unexpected and unexpected. People are more likely to be happy when it is unexpected and unexpected. People are more likely to be happy when it is unexpected and unexpected. People are more likely to be happy when it is unexpected and unexpected. People are more likely to be happy when it is unexpected and unexpected. People are more likely to be happy when it is unexpected and unexpected.</s>\n",
      "########\n",
      "*******\n",
      "question: What is someone who wants a lot of money?\n",
      "answer: greedy\n",
      "choices: ['selfish', 'weird', 'greedy', 'ridiculous', 'hungry']\n",
      "common expl list: ['Greed is defined as \"the desire to obtain something, especially wealth, through selfish means, typically at the expense of others.', 'Greed is a strong desire to possess a lot of money; a greedy person therefore wants it a lot.', 'A person who is greedy wants more things that people typically take for granted, i.e., money, success, etc. This is a lot of stuff.']\n"
     ]
    },
    {
     "name": "stderr",
     "output_type": "stream",
     "text": [
      "\r",
      "  3%|████▉                                                                                                                                                               | 30/986 [02:09<1:22:25,  5.17s/it]"
     ]
    },
    {
     "name": "stdout",
     "output_type": "stream",
     "text": [
      "generated explanation: <pad> <extra_id_0> A greedy person is greedy because they want to make money from their own hands. This is because they want to make a living off of their own money. This is because they want to make a living off of their own money. This is because they want to make a living off of their own money. This is because they want to make a living off of their own money. This is because they want to make money from their own personal possessions. This is because they want to make a living on their own. This is because they want to make money from their own. This is because they want to make a living off their own money. This is because they want to make money. This is because they want to make a living off of their own money. This is because they are a lot of money. This is because they want to make money from their own pocket. This is because they want to make a lot of money from their own. This is because they want to make money, they are a lot of money. This is because they want to make a lot of money to make a person want to make a person to make a person to make money. The person to make a lot of money. The person wants to make a lot of money because they want to make money from their own money to make money from their money from their money. This is because they want to make money from their own money, they want to make money from this money, they want to make money, they want to make money by making money from the money is a lot of money to make a lot of money, they want to make money from the money is a lot of money. This is the money, they want to make money, they want to make money from their own money, they want to make money, they want to make money, they want to make money, they want to make money, they want to make money, they want to make money by making money.</s>\n",
      "########\n",
      "*******\n",
      "question: Where do you keep a book to read before bed?\n",
      "answer: bedside table\n",
      "choices: ['school room', 'allen key', 'classroom', 'bedside table', 'coffee table']\n",
      "common expl list: ['Bedside tables are where people keep things they use before bed, such as books, glasses, and water.', 'Bedside tables are convenient for keeping things, e.g., a book, reading materials, glasses, etc., that you wish to keep near your bed for regular access; particularly things.']\n"
     ]
    },
    {
     "name": "stderr",
     "output_type": "stream",
     "text": [
      "\r",
      "  3%|█████▏                                                                                                                                                              | 31/986 [02:11<1:05:57,  4.14s/it]"
     ]
    },
    {
     "name": "stdout",
     "output_type": "stream",
     "text": [
      "generated explanation: <pad> <extra_id_0> A bedside table is a great place to keep a book to read before bed. It is a great place to keep a book to read before bed. It is also a great place to read a book before bed. It is also a great place to read a book before bed. It is also a great place to read before bed. It is also a great place to read a book before bed. It is also a great place to keep a book to read before bed. It is a great place to keep a book to read before bed.</s>\n",
      "########\n",
      "*******\n",
      "question: Where is a knight likely to be found in the US?\n",
      "answer: chess set\n",
      "choices: ['middle ages', 'chess set', 'historical novel', 'castle', 'guarding the king']\n",
      "common expl list: ['A knight is a piece in the game of chess, which is played on a chess set.']\n"
     ]
    },
    {
     "name": "stderr",
     "output_type": "stream",
     "text": [
      "\r",
      "  3%|█████▎                                                                                                                                                              | 32/986 [02:22<1:40:39,  6.33s/it]"
     ]
    },
    {
     "name": "stdout",
     "output_type": "stream",
     "text": [
      "generated explanation: <pad> <extra_id_0> A knight is likely to be found in the US. A knight is a knight who is likely to be found in the US. A knight is likely to be found in the US. A knight is a knight who is likely to be found in the US. It is likely to be found in the US if a knight is a member of the royal family. A knight is likely to be found in the US. A knight is a member of the royal family, and is likely to be found in the US. A knight is likely to be found in the US for a chess set is a knight is likely to be a knight in the US, and is likely to be found in the US, and is likely to be found in the US during the US during the course of a chess set is a member of the royal family, and is likely to be found in the US during the course of a chess set is a knight is a knight is likely to be a knight is a knight is likely to be found in the US during the game of the US during the game of the game, and knight is likely to be found in the US during the course of the game of the game during the game during the game during the game during the game during the game during the game during the game during the game during the game during the game. The game is a knight is a knight is a knight is a knight is a knight is the knight is a knight is a knight is a knight is a knight is a knight is a knight is a knight is a knight is a knight is a knight is a knight is a knight is a knight is a knight is a knight is a knight is a knight is a knight's game. A knight is a knight is a knight is a knight is knight is knight is knight is knight is knight is knight is knight is a knight is a knight is knight is a knight is a knight is knight is knight is knight is knight is knight is knight is knight is knight is knight is knight is knight is knight is knight is a knight is knight is knight is knight is knight. A knight is knight is knight is knight is knight is knight. chess set. chess set is a knight is knight is a knight is\n",
      "########\n",
      "*******\n",
      "question: Jack saw little point to communicating beyond the basics.  To him, it was just a means to do what?\n",
      "answer: exchange information\n",
      "choices: ['go swimming', 'making friends', 'exchange information', 'people to think', 'confusion']\n",
      "common expl list: [\"Keeping the communication sparse would allow him to conserve energy by speaking less. Since communication is just a means to exchanging information, Jack would not see much 'point', to say, a conversation beyond the basics.\"]\n"
     ]
    },
    {
     "name": "stderr",
     "output_type": "stream",
     "text": [
      "\r",
      "  3%|█████▍                                                                                                                                                              | 33/986 [02:35<2:09:47,  8.17s/it]"
     ]
    },
    {
     "name": "stdout",
     "output_type": "stream",
     "text": [
      "generated explanation: <pad> <extra_id_0> Jack saw little point in communicating beyond the basics. He saw little point in a way to communicate beyond the basics. It was a way to communicate with others. It was a means to communicate with others. It was a way to communicate with others. It was a way to communicate with others. It was a way to communicate with others. It was a means to communicate with others. It was also a means to communicate with others. It was a way to communicate with others. It was a way to communicate beyond the basics. It was a means of communication. It was a way to communicate and to communicate, it was a way to communicate with others, and it was a means to communicate with others, and it was a way to communicate, and it was a way to communicate. It was a way to communicate, and it was a way to communicate, and it was a means to communicate, and it was also a way to communicate, and it was a way to communicate and to communicate, and it was a means to communicate, and it was a way to communicate with others, and it was a way to share information. It was a way to share information, and it was a way to communicate with others, and it was a way to communicate with others, and it was a way to communicate with others, and it was a way to share information, and it was a way to share information, and it was a way to share information, and it was a way to exchange information. It was a way to exchange information was a way to share information with others, and it was a way to exchange information was a way to exchange information was a way to exchange information. It was a way to exchange information. It was the way to exchange information with others. It was the way to exchange information was the way to exchange information was the way to exchange information was the way to exchange information was the way to exchange information was the way to exchange information was the way to exchange information was the way to exchange information was the way to exchange information between people. It was the way to exchange information was the way to exchange information was the way to exchange information with people who are a way to exchange information was the way to exchange information. It was the way to exchange information with others. It was the way to exchange information was the way to\n",
      "########\n",
      "*******\n",
      "question: I as a person don't kill others, why do I not?\n",
      "answer: value life\n",
      "choices: ['experience pleasure', 'laws', 'value life', 'thank god', 'go into debt']\n",
      "common expl list: [\"Someone who does not kill might have a great deal of respect for life; as a person's life is valuable, the opposite is true about the act of taking a life.\"]\n"
     ]
    },
    {
     "name": "stderr",
     "output_type": "stream",
     "text": [
      "\r",
      "  3%|█████▋                                                                                                                                                              | 34/986 [02:43<2:07:36,  8.04s/it]"
     ]
    },
    {
     "name": "stdout",
     "output_type": "stream",
     "text": [
      "generated explanation: <pad> <extra_id_0> I don't kill others, I value life. I value life. I value life. I value life. I value life. I value life. I value life is a way to live a life that is meaningful to others. I value life is a way to value others. I value the value of life. I value life. I value the value of others and value it. I value life. I value life more than killing others. I value life. I value life because I value others. I value life because I value others, I value life is a way to live a way to live a way to live a life. I value life. I value life. I value life. I value the value of life is a person can value life. I value life. I value life. I value life is a person. I value value life is a person. I value life is a person's value life. I value life is a person's life is a person's value life is a person's value life is a person's value life. I value life is a person's value life is a person's value life is a person's life is a person's value life is a person's life is a person's life is a person's life is a person's life is a person's value life is a person's life is a person's life is a person's value that person's value that means that means that people value life is a person's value that</s>\n",
      "########\n",
      "*******\n",
      "question: What is likely to be a child's reaction to going to play?\n",
      "answer: happiness\n",
      "choices: ['happiness', 'tears', 'sit', 'being entertained', 'laugh']\n",
      "common expl list: ['Children like to play.']\n"
     ]
    },
    {
     "name": "stderr",
     "output_type": "stream",
     "text": [
      "\r",
      "  4%|█████▊                                                                                                                                                              | 35/986 [02:48<1:54:09,  7.20s/it]"
     ]
    },
    {
     "name": "stdout",
     "output_type": "stream",
     "text": [
      "generated explanation: <pad> <extra_id_0> A child's happiness is likely to be the result of going to play, and it is likely to be a positive experience. A child's happiness is likely to be the result of going to play. This is likely to be a child's reaction to going to play, and it is likely to be a child's reaction to going to play. This is likely to be a child's reaction to going to play. This is likely to be a child's reaction to going to play. This is likely to be a child's reaction to going to play in the moment, and it is likely to be a child's reaction to going to play is likely to be a child's reaction to going to play. This is likely to be a child's reaction to going to play is likely to be a child's reaction to going to play as a child's reaction to going to play plays a child's reaction to going to play is likely to be a positive reaction to going to play is likely to be positive</s>\n",
      "########\n",
      "*******\n",
      "question: Where could you find multiple ruler that are owned by different people?\n",
      "answer: office\n",
      "choices: ['measure distance', 'england', 'office', 'drawer', 'desk']\n",
      "common expl list: ['Office buildings often have rulers.', 'When someone works in an office, even if it is part-time or freelance, they may be required to measure distances e.g., in departments or cubicles, and so, offices are a good place to find ruler.']\n"
     ]
    },
    {
     "name": "stderr",
     "output_type": "stream",
     "text": [
      "\r",
      "  4%|█████▉                                                                                                                                                              | 36/986 [02:54<1:51:31,  7.04s/it]"
     ]
    },
    {
     "name": "stdout",
     "output_type": "stream",
     "text": [
      "generated explanation: <pad> <extra_id_0> Office is a place to find multiple rulers that are owned by different people. They are also used to make a variety of household items, such as books, books, and other items. They are also used to make sure they are properly positioned in a room. They are also used to make a variety of items, such as a table, a desk, and a large desk. They are also used to make a variety of different items. They are also used to make a variety of items, such as desks, desks and desks. They are also used to make a variety of different types of rulers, and they are used to make them more efficient and more efficient. They are also used to make them more efficient and more efficient use of more efficient use of less expensive. They are also used to make them more efficient and more efficient use of the same items, such as desks, and to make them more efficient and more efficient use of the same items, such as the same or similar, and to make them more efficient use of different peoples' owns and use their owns and other items, such as the same or different peoples' rulers. This is because they are more efficient and efficient. This is a great source of power and resources that are available to them. This makes it easier for the owner.</s>\n",
      "########\n",
      "*******\n",
      "question: When remembering you referencing things that you have what?\n",
      "answer: prior knowledge of\n",
      "choices: ['memory cells', 'learning about', 'prior knowledge of', 'brain cells', 'nerve cells']\n",
      "common expl list: ['Most of the things a person knows come from learning in the past and usually have some recollection involved.']\n"
     ]
    },
    {
     "name": "stderr",
     "output_type": "stream",
     "text": [
      "\r",
      "  4%|██████▏                                                                                                                                                             | 37/986 [02:56<1:25:42,  5.42s/it]"
     ]
    },
    {
     "name": "stdout",
     "output_type": "stream",
     "text": [
      "generated explanation: <pad> <extra_id_0> s and concepts that you have prior knowledge of. For example, you may have knowledge of the meaning of a particular word or phrase. This is because you are referencing the same word or phrase that you have previously used. This is because you have prior knowledge of the meaning of a word or phrase or phrase. This is because you have prior knowledge of the meaning of a word or phrase. This is because it is a way of describing or describing a situation. For example, a person can use a dictionary to help them to help them.</s>\n",
      "########\n",
      "*******\n",
      "question: After running twenty six miles he felt like he had lost twenty six pounds, this was from all the what?\n",
      "answer: sweat\n",
      "choices: ['exercise', 'sweat', 'pass out', 'collapse', 'drink water']\n",
      "common expl list: ['Sweating is a way to cool down the body, and so after running for a long time, a person might sweat a lot.']\n"
     ]
    },
    {
     "name": "stderr",
     "output_type": "stream",
     "text": [
      "\r",
      "  4%|██████▎                                                                                                                                                             | 38/986 [02:58<1:08:05,  4.31s/it]"
     ]
    },
    {
     "name": "stdout",
     "output_type": "stream",
     "text": [
      "generated explanation: <pad> <extra_id_0> After running twenty six miles he felt like he had lost twenty six pounds, this was because of sweat, which was a great source of energy and energy. He also had a great sense of self-esteem and a great sense of accomplishment. This is because sweat is a great source of energy and motivation. It is also a great source of energy for running, which is important for anyone who wants to run a marathon. It is also a great source of energy and energy. It is also important to keep track of the calories, and it is also a great deal of energy.</s>\n",
      "########\n",
      "*******\n",
      "question: In what western sate might one find a bald eagle?\n",
      "answer: colorado\n",
      "choices: ['captivity', 'colorado', 'zoo', 'canada', 'in washington']\n",
      "common expl list: ['Eagles are native to the western United States, and Colorado is a western state.']\n"
     ]
    },
    {
     "name": "stderr",
     "output_type": "stream",
     "text": [
      "\r",
      "  4%|██████▌                                                                                                                                                               | 39/986 [03:00<58:11,  3.69s/it]"
     ]
    },
    {
     "name": "stdout",
     "output_type": "stream",
     "text": [
      "generated explanation: <pad> <extra_id_0> In what western sate might one find a bald eagle? colorado is the most common sate in the United States and is considered to be the most common. The bald eagle is found in the western sate of the United States and is often found in the western sate of the United States. The bald eagle is a common sight in the western sate of the United States and Canada. The colorado is the most common and most common species in the western sate in the United States, the United States, and the western world, the most common place in the western sate in the western eagle is the United States.</s>\n",
      "########\n",
      "*******\n",
      "question: When a retired person returns to work they likely need to do what?\n",
      "answer: earn money\n",
      "choices: ['key', 'earn money', 'get out of bed', 'need money', 'understand themselves']\n",
      "common expl list: ['When a person is retired, they probably are not making enough money through a pension benefit to support themselves after retirement, so they work again, perhaps full-time, in order to have enough money.(money key)']\n"
     ]
    },
    {
     "name": "stderr",
     "output_type": "stream",
     "text": [
      "\r",
      "  4%|██████▋                                                                                                                                                             | 40/986 [03:07<1:11:24,  4.53s/it]"
     ]
    },
    {
     "name": "stdout",
     "output_type": "stream",
     "text": [
      "generated explanation: <pad> <extra_id_0> When a retired person returns to work they likely need to earn money. Earn money is the most important thing a person can do when they retire. Earn money is the most important thing a retired person can do when they return to work. Earn money is the most important thing a retired person can do when they retire. Earn money is the most important thing a person can do when they return to work. Earn money is the most important thing a retired person can do. It is also the most important thing a retired person can do when they return to work. Earn money is the most important thing a retired person can do. Earn money is the most important thing for a retired person’s job. Earn money is the most important thing a retired person can do when they can do when they return to work, so earning money is the most important thing for a person’s retirement. Earn money is the most important thing for a retired person’s job, and it is the most important thing for a retired person’s job is to earn money. Earn money is to earn money is the most important factor for a retired person’s job is the most important factor in retirement. Earn money is the most important factor in the retirement. Earn money is the most important factor in the retirement.</s>\n",
      "########\n",
      "*******\n",
      "question: What can be the result of meeting people with similar attitudes?\n",
      "answer: making new friends\n",
      "choices: ['anxiety', 'being bored', 'love', 'making new friends', 'new job']\n",
      "common expl list: ['People with similar interests are likely to be friends, or familiars to each other, having many opportunities to meet each other and have things in common to discuss.', \"Friends often share some interests and/or attitudes, and when someone meets people with similar attires, that's a good indicator they might be good candidates for becoming friends.\"]\n"
     ]
    },
    {
     "name": "stderr",
     "output_type": "stream",
     "text": [
      "\r",
      "  4%|██████▉                                                                                                                                                               | 41/986 [03:08<57:18,  3.64s/it]"
     ]
    },
    {
     "name": "stdout",
     "output_type": "stream",
     "text": [
      "generated explanation: <pad> <extra_id_0> Meeting people with similar attitudes can lead to new friends. Meeting people with similar attitudes can lead to new relationships and improve relationships. Meeting new friends can lead to new friendships and improve relationships. Making new friends can lead to new friendships and improve relationships. Meeting new people with similar attitudes can lead to new friendships and improve relationships. Meeting new friends can also lead to new relationships and improve relationships. Meeting people with similar attitudes can also lead to new ones. Making new friends can also lead to new relationships. New friendships can also lead to new relationships and relationships.</s>\n",
      "########\n",
      "*******\n",
      "question: Danny noticed a ceramic object on the table and picked a grape out of it.  What might have been on the table?\n",
      "answer: bowl of fruit\n",
      "choices: ['kitchen', 'painting of fruits', 'fruit basket', 'bowl of fruit', 'fruit stand']\n",
      "common expl list: ['A bowl of fruit is an appropriate item to put on a table, as it can hold many kinds of fruit.']\n"
     ]
    },
    {
     "name": "stderr",
     "output_type": "stream",
     "text": [
      "\r",
      "  4%|██████▉                                                                                                                                                             | 42/986 [03:21<1:42:51,  6.54s/it]"
     ]
    },
    {
     "name": "stdout",
     "output_type": "stream",
     "text": [
      "generated explanation: <pad> <extra_id_0> Danny noticed a ceramic object on the table and picked a bowl of fruit from it. The grape was a bowl of fruit that Danny picked out of the ceramic object. The grape was a bowl of fruit that Danny picked out of the ceramic object. The grape was a bowl of fruit that Danny ate. The bowl of fruit was a bowl of fruit. The bowl of fruit was a bowl of fruit, which Danny ate from the ceramic object. The bowl of fruit was a bowl of fruit, which Danny ate out of the bowl of fruit. The bowl was a bowl of fruit was a bowl of fruit was a bowl of fruit. The bowl of fruit was a bowl of fruit. The bowl of fruit was a bowl of fruit. The bowl of fruit was a bowl of fruit. The bowl of fruit was a bowl of fruit. The bowl of fruit was a bowl of fruit, which Danny ate out of it, and the bowl of fruit. The bowl of fruit is a bowl of fruit is a bowl of fruit. The bowl of fruit is a bowl of fruit is a bowl of fruit, which Danny ate out of the bowl of fruit is a bowl of fruit. The bowl of fruit is a bowl of fruit is a bowl of fruit is a bowl of fruit. The bowl of fruit is a bowl of fruit is a bowl of fruit is a bowl of fruit is a bowl of fruit is a bowl of fruit is a bowl of fruit. The bowl of fruit is a bowl of fruit is a bowl of fruit, and the bowl of fruit, and the bowl of fruit, and the bowl of fruit, and the bowl of fruit, and the bowl of fruit, and Danny’s bowl of fruit is a bowl of fruit, and the bowl of fruit, and Danny’s bowl of fruit, and Danny’s bowl of fruit is a bowl of fruit, and Danny’s bowl of fruit, and Danny’s bowl of fruit, and Danny’s bowl of fruit, and a bowl of fruit is a bowl of fruit. Fruit is a bowl of fruit, and the bowl of fruit is a bowl of fruit is a bowl of fruit is a bowl of fruit is a bowl of fruit is a bowl of fruit is a bowl of fruit is a bowl of fruit is a bowl of\n",
      "########\n",
      "*******\n",
      "question: The nose dipped and alarms went off inside the what?\n",
      "answer: aircraft\n",
      "choices: ['car', 'sniff', 'aircraft', 'upper respiratory tract', 'missile']\n",
      "common expl list: ['The nose dips and alarms go off inside the cockpit of an aircraft when the nose of the aircraft dips too low.']\n"
     ]
    },
    {
     "name": "stderr",
     "output_type": "stream",
     "text": [
      "\r",
      "  4%|███████▏                                                                                                                                                            | 43/986 [03:23<1:20:21,  5.11s/it]"
     ]
    },
    {
     "name": "stdout",
     "output_type": "stream",
     "text": [
      "generated explanation: <pad> <extra_id_0> The aircraft is designed to be used as a security system and a way to prevent a potential fire. During the flight, the nose dipped and the aircraft was equipped with a safety system to prevent the alarms from going off. The aircraft is designed to prevent the aircraft from slipping and causing the aircraft to fall. The nose dipped and the alarm went off inside the aircraft. The aircraft is designed to be used to protect the aircraft from dangerous conditions. The aircraft is designed to protect the aircraft from damage and dangers of the aircraft and can be used to prevent the aircraft from falling hazards.</s>\n",
      "########\n",
      "*******\n",
      "question: Where is a cord likely to be on a tent?\n",
      "answer: sporting goods store\n",
      "choices: ['inside tent', 'delivery room', 'hardware store', 'backpack', 'sporting goods store']\n",
      "common expl list: ['Sporting goods stores likely have tents on display which generally come with their cords.']\n"
     ]
    },
    {
     "name": "stderr",
     "output_type": "stream",
     "text": [
      "\r",
      "  4%|███████▎                                                                                                                                                            | 44/986 [03:25<1:04:13,  4.09s/it]"
     ]
    },
    {
     "name": "stdout",
     "output_type": "stream",
     "text": [
      "generated explanation: <pad> <extra_id_0> A sporting goods store is a good place to buy a cord for camping. A sporting goods store is a great place to find a cord to hang from a tent. A cord is a great way to store a tent, as it is cheaper than a cord that is usually on a camping trip. A cord is a great way to store a tent, as it is more convenient to use than a cord that is used to carry a cord. A cord is also a great way to store a cord on a camping trip.</s>\n",
      "########\n",
      "*******\n",
      "question: The man reduced the town to rubble out of hate, what was his goal?\n",
      "answer: destroy enemy\n",
      "choices: ['wage war', 'play nice', 'fight enemy', 'stab to death', 'destroy enemy']\n",
      "common expl list: ['someone who is completely obsessed with destroying an enemy (going so far as to want them completely obliterated from existance) is not a person who is playing nice.']\n"
     ]
    },
    {
     "name": "stderr",
     "output_type": "stream",
     "text": [
      "\r",
      "  5%|███████▌                                                                                                                                                              | 45/986 [03:27<52:33,  3.35s/it]"
     ]
    },
    {
     "name": "stdout",
     "output_type": "stream",
     "text": [
      "generated explanation: <pad> <extra_id_0> The man reduced the town to rubble out of hate, and destroyed it, causing the town to become a pit of ruins. The man destroyed the town and destroyed it, destroying it, and destroying it. This was the goal of the man, who destroyed the town. This was done to destroy hate and destroy the enemy. This was done to destroy the town and destroy it. This was also done to destroy the town and destroy the enemy. This was done to destroy the enemy. This was done to destroy the town and destroy the enemy.</s>\n",
      "########\n",
      "*******\n",
      "question: The toddler thought it would be fun to try eating breakfast in bed, what resulted?\n",
      "answer: mess\n",
      "choices: ['contentment', 'indigestion', 'vomiting', 'mess', 'catastrophe']\n",
      "common expl list: [\"Toddlers have poor coordination.  Even if they could somehow manage to not fall off the bed, it's likely that they would spill the food that they took with them to bed.  A mess would be made.\", \"Toddlers like to explore and test their own boundaries. They often don't know their limits, and it's common for their behavior to result in a mess. In the toddler's case, it involved getting breakfast on the bed due to his inexperience\"]\n"
     ]
    },
    {
     "name": "stderr",
     "output_type": "stream",
     "text": [
      "\r",
      "  5%|███████▋                                                                                                                                                              | 46/986 [03:29<46:13,  2.95s/it]"
     ]
    },
    {
     "name": "stdout",
     "output_type": "stream",
     "text": [
      "generated explanation: <pad> <extra_id_0> The toddler thought it would be fun to try eating breakfast in bed, but the toddler thought it would be messy. The toddler thought it would be fun to try eating breakfast in bed, but the mess was so messy that it was difficult to clean up. The toddler thought it would be fun to try eating breakfast in bed. The toddler then ate it in bed and ate it in bed. The mess was made up of a variety of foods, including cereal, milk, and water. It was fun to try eating breakfast in bed, and it was fun to try it out in bed. It was also makes it fun to eat it in bed.</s>\n",
      "########\n",
      "*******\n",
      "question: He had a hard time getting his father's attention, he hoped that the winning baseball game would finally get him some what?\n",
      "answer: recognition\n",
      "choices: ['confirmation', 'celebrating', 'pride', 'recognition', 'happiness']\n",
      "common expl list: ['One way to gain recognition from ones parents is by accomplishing things that they value. For example, children might hope to make their parents proud of them by excelling at sports.']\n"
     ]
    },
    {
     "name": "stderr",
     "output_type": "stream",
     "text": [
      "\r",
      "  5%|███████▉                                                                                                                                                              | 47/986 [03:30<40:14,  2.57s/it]"
     ]
    },
    {
     "name": "stdout",
     "output_type": "stream",
     "text": [
      "generated explanation: <pad> <extra_id_0> He had a hard time getting his father's attention, he had a hard time getting his attention because he was not getting his father's attention. He had a hard time getting his father's attention. He was hoping that the winning baseball game would give him some recognition for his efforts. He was also hoping that he would get some sort of recognition from his father, who was able to get him some kind of attention. He had a hard time getting his father's attention, but he was hoping to get recognition would give him some other thing?</s>\n",
      "########\n",
      "*******\n",
      "question: The toddler is awaking from a nap, what doesn't he feel anymore?\n",
      "answer: tiredness\n",
      "choices: ['nervous', 'eyes opening', 'getting out of bed', 'tiredness', 'discomfort']\n",
      "common expl list: ['Children can easily get tired at their ontervall and a nap is an effective way for them to get over tiredness. Then when they wake up, they do not feel tiredness any longer.']\n"
     ]
    },
    {
     "name": "stderr",
     "output_type": "stream",
     "text": [
      "\r",
      "  5%|████████                                                                                                                                                              | 48/986 [03:32<35:31,  2.27s/it]"
     ]
    },
    {
     "name": "stdout",
     "output_type": "stream",
     "text": [
      "generated explanation: <pad> <extra_id_0> The toddler is awaking from a nap, what doesn't he feel anymore? The toddler is awaking from a nap, and he is tired. The toddler is awaking from a nap, and he is tired. The toddler is tired because he is tired and tired, and he is tired. The toddler is tired and he is tired. The toddler is tired because he is tired. The toddler is tired, so he is tired. The toddler is tired and he is tiredness.</s>\n",
      "########\n",
      "*******\n",
      "question: John listened to music when he needed to focus.  It helped him achieve what?\n",
      "answer: quiet mind\n",
      "choices: ['express emotion', 'beautifull', 'irritate', 'bad environment', 'quiet mind']\n",
      "common expl list: [\"When one is trying to focus on a task, it's common to listen to music to help one focus.\", \"There's scientific evidence that listening to music can help people think better and concentrate easier.\", 'Music can, at the very least, provide passive background noise as one works to help one focus. More specifically, music might have positive, uplifting or emotional qualities that are conducive to focus and concentration.']\n"
     ]
    },
    {
     "name": "stderr",
     "output_type": "stream",
     "text": [
      "\r",
      "  5%|████████▏                                                                                                                                                             | 49/986 [03:33<32:34,  2.09s/it]"
     ]
    },
    {
     "name": "stdout",
     "output_type": "stream",
     "text": [
      "generated explanation: <pad> <extra_id_0> John listened to music when he needed to focus. It helped him achieve what he wanted to achieve. It also helped him achieve a quiet mind. Music also helped him to focus and focus. It helped him to achieve what he wanted to achieve. It also helped him to achieve a quieter and more focused state. Music also helped John achieve what he wanted to achieve. It also helped John to achieve his goals. It helped John achieve a quieter and more focused mind. It also helped him to focus more effectively. It helped him achieve his goal.</s>\n",
      "########\n",
      "*******\n",
      "question: If I were to suffer from sudden illness I would be within reason to visit where?\n",
      "answer: hospital\n",
      "choices: ['nursing home', 'hospital', 'brain', 'elderly person', 'building']\n",
      "common expl list: ['Anyone can suffer a sudden illness, but hospitals are where the equipment and personnel exist to deal with sudden illnesses.', 'If you were suddenly suffering an illness, it would be a reasonable thing to go to the hospital for treatment of that illness.', 'A hospital is a center for treatment and care of those suffering from illness.', 'A hospital is a place where people go to receive treatment for illnesses.']\n"
     ]
    },
    {
     "name": "stderr",
     "output_type": "stream",
     "text": [
      "\r",
      "  5%|████████▎                                                                                                                                                           | 50/986 [03:44<1:13:28,  4.71s/it]"
     ]
    },
    {
     "name": "stdout",
     "output_type": "stream",
     "text": [
      "generated explanation: <pad> <extra_id_0> If I had a sudden illness I would be within reason to visit a hospital. Hospitals are the most convenient choice for patients with a medical condition. Hospitals are the best choice for patients with a medical condition, as they are more convenient for them to get treatment. Hospitals are also the most convenient choice for patients with a medical condition. Hospitals are also the best place for patients with a medical condition, such as a heart attack, stroke, or other medical problems. Hospitals are also the best place for patients who have a hospital bed, as they are not a good choice. Hospitals also offer a variety of different types of services, as they are more convenient for patients with sudden illness, as they are a longer stay. Hospitals also have the ability to get help in the most convenient way to visit a hospital bed. Hospitals are also a short stay if they are able to get a short-term, long-term, and often the best way to see a short-term, and can be able to get a long-term, and can also offer a variety of services that are often the best place for patients to visit the hospital. Hospitals can be a short-term and can be a short-term and can provide a long-term and can be a long-term and can be a short-term and can be a long-term illness. Hospitals can also offer a long-term illness can also offer a long-term and often the best choice for patients to visit the hospital is the best place to visit the best possible care. hospital stays are often the best place to visit the hospital. In some cases, hospital is usually the best place to visit a hospital is the best place to visit a hospital is the best place to visit a hospitalization. Hospitals are also the best choice for patients to visit a hospital.</s>\n",
      "########\n",
      "*******\n",
      "question: John kept standing up.  He was afraid that if he were sitting down he might do something. What might he be afraid of?\n",
      "answer: fall asleep\n",
      "choices: ['fall asleep', 'being supported on chair', 'comfort', 'clowns', 'flatulence']\n",
      "common expl list: ['Sitting down makes one comfortable; sitting down with eyes closed makes one fall asleep.', 'When standing, the chances of falling asleep abruptly would be much less (assuming that one is awake).']\n"
     ]
    },
    {
     "name": "stderr",
     "output_type": "stream",
     "text": [
      "\r",
      "  5%|████████▍                                                                                                                                                           | 51/986 [03:49<1:12:40,  4.66s/it]"
     ]
    },
    {
     "name": "stdout",
     "output_type": "stream",
     "text": [
      "generated explanation: <pad> <extra_id_0> John kept standing up. He was afraid that if he were sitting down he might fall asleep. He was afraid that if he were sitting down he might fall asleep. He was afraid that if he was sitting down he might fall asleep. He was afraid that he might fall asleep because he was standing up. He was afraid that he would fall asleep. He was afraid that he might fall asleep because he was sitting down. He was afraid of falling asleep because he was standing up. He was afraid of falling asleep because he was afraid of falling asleep. He was afraid of falling asleep because he was afraid of falling asleep. He was afraid of falling asleep, which he was afraid of falling asleep, which he was afraid of falling asleep, which is a good thing to fall asleep, and because he was afraid of falling asleep. This was a good thing to fall asleep is a good thing to fall asleep.</s>\n",
      "########\n",
      "*******\n",
      "question: He didn't know that good things can be posion in large doses.  He thought that he was just eating an essential what?\n",
      "answer: nutrient\n",
      "choices: ['antidote', 'consumable', 'nutrient', 'vitamin', 'medicine']\n",
      "common expl list: ['He thought that he was just eating an essential nutrient, but in large doses, it could be poisonous.']\n"
     ]
    },
    {
     "name": "stderr",
     "output_type": "stream",
     "text": [
      "\r",
      "  5%|████████▊                                                                                                                                                             | 52/986 [03:51<58:31,  3.76s/it]"
     ]
    },
    {
     "name": "stdout",
     "output_type": "stream",
     "text": [
      "generated explanation: <pad> <extra_id_0> He didn't know that good things can be eaten in large doses. This is because he was eating an essential food that is a good source of nutrients. This is because he was eating healthy foods that are a good source of nutrients. They are also known as vitamins and minerals. They are also known to help you to maintain your health. They are also known to help you to maintain your body's vitality. They are also known to help you to maintain a healthy, balanced diet. They are also known to help you to maintain a healthy lifestyle.</s>\n",
      "########\n",
      "*******\n",
      "question: The police didn't pay any favors, their job was to what?\n",
      "answer: force law\n",
      "choices: ['force law', 'board vessels', 'arrest', 'arm weapons', 'direct traffic']\n",
      "common expl list: ['Police are usually tasked with upholding the law, and if they see a law being broken they will intervene (forceful intervention); moreover, they also coordinate with other officers (direct traffic and board vessels). These activities do not involve favors.']\n"
     ]
    },
    {
     "name": "stderr",
     "output_type": "stream",
     "text": [
      "\r",
      "  5%|████████▉                                                                                                                                                             | 53/986 [03:52<48:43,  3.13s/it]"
     ]
    },
    {
     "name": "stdout",
     "output_type": "stream",
     "text": [
      "generated explanation: <pad> <extra_id_0> The police didn't pay any favors, their job was to make sure they did their job was done properly. The police didn't pay any favors, their job was to make sure that the public was protected. The police were a force of law, and they were not a force to be trusted. The police were not allowed to make a living out of the law, and they were not able to make a living out of the law. They were also not allowed to be paid any favors by the public, they were not.</s>\n",
      "########\n",
      "*******\n",
      "question: The place specialized in colorful arrangements, but the also had a toy balloon or two where?\n",
      "answer: flower shop\n",
      "choices: ['see work', 'birthday party', 'flower shop', 'parade', 'toy store']\n",
      "common expl list: ['Batches of balloons are available at flower shops, where floral arrangements are sold, and rainbow contruction paper is usually found in art shops and classrooms.', 'Flower shops sell interesting arrangements made with colorful flowers.']\n"
     ]
    },
    {
     "name": "stderr",
     "output_type": "stream",
     "text": [
      "\r",
      "  5%|█████████                                                                                                                                                             | 54/986 [03:54<43:23,  2.79s/it]"
     ]
    },
    {
     "name": "stdout",
     "output_type": "stream",
     "text": [
      "generated explanation: <pad> <extra_id_0> The place specialized in colorful arrangements, but the also had a toy balloon or two. The place specialized in colorful arrangements, but the also had a balloon or two. The flower shop was a great place to shop for flowers, as it was a great place to buy flowers. The store also had a flower shop, which is a great place to buy flowers for the kids to play with. The flower shop also had a balloon that can be used to decorate the flowers. The flower shop is a great place to buy flowers, but the larger the larger, which also has a toy balloon can be used to decorate the flowers and other accessories.</s>\n",
      "########\n",
      "*******\n",
      "question: Where was there never any mammoth?\n",
      "answer: zoo\n",
      "choices: ['wild', 'north dakota', 'forest', 'movie', 'zoo']\n",
      "common expl list: ['Mammoths are extinct, and zoos are places where animals are kept for observation and study.']\n"
     ]
    },
    {
     "name": "stderr",
     "output_type": "stream",
     "text": [
      "\r",
      "  6%|█████████▎                                                                                                                                                            | 55/986 [03:56<37:45,  2.43s/it]"
     ]
    },
    {
     "name": "stdout",
     "output_type": "stream",
     "text": [
      "generated explanation: <pad> <extra_id_0> Mammoth is a species of mammals that is primarily found in the zoo. It is a large species of mammals that are found in the zoo and are often found in the aquariums, aquariums, and other animals. Mammoth are found in the zoo, and are often found in the zoos, zoos, and other places. Mammoths are also found in the wild, and are often found in the zoos.</s>\n",
      "########\n",
      "*******\n",
      "question: Why do most people engage in chatting with friends?\n",
      "answer: fun\n",
      "choices: ['fun', 'love', 'answers', 'inspiration', 'relaxation']\n",
      "common expl list: ['Chats with friends are often fun, and thus people engage in them for that reason.']\n"
     ]
    },
    {
     "name": "stderr",
     "output_type": "stream",
     "text": [
      "\r",
      "  6%|█████████▍                                                                                                                                                            | 56/986 [03:58<34:55,  2.25s/it]"
     ]
    },
    {
     "name": "stdout",
     "output_type": "stream",
     "text": [
      "generated explanation: <pad> <extra_id_0> People engage in conversation with friends because it is a fun and fun way to spend time together. This is because friends are a great way to make new friends. Friendship is a great way to make new friends and make new friends. This is a great way to have fun while chatting with new friends. Friendship is a great way to make new friends and make new friends. Friendship is a great way to make new friends and make new ones. This is a great way to make new friends and make new ones. Friendship is a great way to make new friends and new friends.</s>\n",
      "########\n",
      "*******\n",
      "question: What could happen after discovering truth that you did not want to know?\n",
      "answer: pain\n",
      "choices: ['pain', 'relief', 'grey hair', 'understanding', 'enlightenment']\n",
      "common expl list: ['Truth can be painful, and discovering it can cause pain.']\n"
     ]
    },
    {
     "name": "stderr",
     "output_type": "stream",
     "text": [
      "\r",
      "  6%|█████████▌                                                                                                                                                            | 57/986 [03:58<25:26,  1.64s/it]"
     ]
    },
    {
     "name": "stdout",
     "output_type": "stream",
     "text": [
      "generated explanation: <pad> <extra_id_0> What could happen after discovering truth that you did not want to know?</s>\n",
      "########\n",
      "*******\n",
      "question: What will an athlete do to warm up their legs?\n",
      "answer: jog\n",
      "choices: ['use heater', 'sprint', 'jog', 'run fast', 'compete']\n",
      "common expl list: ['When athletes warm up before swimming, running, riding a bike, or performing other physical activity, they generally will jog (which will help them loosen muscles in the legs).', 'warming up is a routine that is performed to either prepare for doing something new, or prepare for doing something which put strains on you, or which you have been out of practice doing.']\n"
     ]
    },
    {
     "name": "stderr",
     "output_type": "stream",
     "text": [
      "\r",
      "  6%|█████████▊                                                                                                                                                            | 58/986 [03:59<25:07,  1.62s/it]"
     ]
    },
    {
     "name": "stdout",
     "output_type": "stream",
     "text": [
      "generated explanation: <pad> <extra_id_0> An athlete will warm up their legs by jog. A jog is a great way to warm up your legs. It is a great way to warm up your legs and increase your strength. It is also a great way to warm up your legs. It is also a great way to warm up your legs. It is also a great way to increase your fitness and confidence. It is also a great way to increase your cardiovascular capacity. It is a great way to warm up your legs and help to warm up your legs.</s>\n",
      "########\n",
      "*******\n",
      "question: Where can you keep your binder on your person between periods of instruction?\n",
      "answer: backpack\n",
      "choices: ['class room', 'car', 'office supply store', 'backpack', 'bookcase']\n",
      "common expl list: ['Usually binder users carry their binders from class to class outside of the classroom. Backpacks are often convenient, and are large enough to hold the binder.']\n"
     ]
    },
    {
     "name": "stderr",
     "output_type": "stream",
     "text": [
      "\r",
      "  6%|█████████▉                                                                                                                                                            | 59/986 [04:01<27:10,  1.76s/it]"
     ]
    },
    {
     "name": "stdout",
     "output_type": "stream",
     "text": [
      "generated explanation: <pad> <extra_id_0> Keeping your binder on your person can be a good way to keep track of your instruction. Binders are designed to be easily carried by backpacks and other devices. They can also be worn in backpacks, backpacks, and other items that are used to carry the instruction. They are designed to be used in conjunction with other items such as books, magazines, and other items. Depending on the size of the binder, it is a good idea to carry it with you when you are out of the classroom. This is because they are lightweight and portable. Question: Keeping your binder on your person during instruction.</s>\n",
      "########\n",
      "*******\n",
      "question: In the middle of the day what will someone do because of being hungry?\n",
      "answer: have lunch\n",
      "choices: ['cook dinner', 'make bread', 'eat in restaurant', 'have lunch', 'make bread']\n",
      "common expl list: ['People often eat lunch at midday, and so, if they are hungry at midday, they might go to a restaurant to eat lunch.', \"It's common for folks to have lunch during the middle of the day.\"]\n"
     ]
    },
    {
     "name": "stderr",
     "output_type": "stream",
     "text": [
      "\r",
      "  6%|██████████                                                                                                                                                            | 60/986 [04:02<19:55,  1.29s/it]"
     ]
    },
    {
     "name": "stdout",
     "output_type": "stream",
     "text": [
      "generated explanation: <pad> <extra_id_0> Someone will be hungry in the middle of the day.</s>\n",
      "########\n",
      "*******\n",
      "question: Where is garbage brought to by garbagemen?\n",
      "answer: landfill\n",
      "choices: ['trashcan', 'landfill', 'television', 'computer', 'dumpster']\n",
      "common expl list: ['Landfills are where all the trash in the city go to.']\n"
     ]
    },
    {
     "name": "stderr",
     "output_type": "stream",
     "text": [
      "\r",
      "  6%|██████████▎                                                                                                                                                           | 61/986 [04:12<59:57,  3.89s/it]"
     ]
    },
    {
     "name": "stdout",
     "output_type": "stream",
     "text": [
      "generated explanation: <pad> <extra_id_0> Waste is a waste that is brought to the landfill by garbagemen. This is where the garbage is collected and disposed. Waste is disposed of in the landfill by the owner. The garbage is disposed in the landfill and is disposed in a safe and clean manner. The garbage is collected in the city, and is not disposed of in the city. This is because it is a waste that is not being used for commercial purposes.. This is because garbage is disposed of in a landfill, which is a great way to dispose of in a garbageman's work that is not considered a waste that is not a waste that is not disposed of in a landfill is also a great way to dispose of in a landfill is a great way to dispose of in the city. This is a waste that is not a great way to dispose of in the city of the garbage is not being used for commercial purposes. This is a great way to dispose of waste. It is also a great way to dispose of the garbage in the city.</s>\n",
      "########\n",
      "*******\n",
      "question: What are people doing when washing hands for a long time?\n",
      "answer: thinking\n",
      "choices: ['thinking', 'sleeping', 'use soap', 'irritation', 'cleaning dirt off']\n",
      "common expl list: ['People often think about things while they are washing their hands, and this is a good time to think about things.', 'People often just pause while washing their hands. It may be that they are thinking about something while this occurs naturally.']\n"
     ]
    },
    {
     "name": "stderr",
     "output_type": "stream",
     "text": [
      "\r",
      "  6%|██████████▎                                                                                                                                                         | 62/986 [04:26<1:46:39,  6.93s/it]"
     ]
    },
    {
     "name": "stdout",
     "output_type": "stream",
     "text": [
      "generated explanation: <pad> <extra_id_0> People are thinking about washing their hands for long periods of time. This is because they are thinking about how to wash their hands. This is because they are thinking about how to use their hands to clean their hands. This is because they are thinking about how to clean their hands and to wash their hands. This is because they are thinking about how to use their hands. This is because they are thinking about how to use their hands for a longer time. Using the hands for a long time is a process that is a lot more efficient and efficient way to wash hands for a longer time. This is because they are thinking about how to use their hands and to wash hands for a longer time. This is because they are used to washing hands for a long time is a process that is often used to wash their hands for a long time is a process that is a process that is a long time is also a lot of people are using their hands and to wash their hands and to wash their hands for a longer time is a good way to wash their hands and to wash their hands and to wash them and to wash them and to wash them and to wash them. Using the hands and to wash them and to wash their hands and to wash them and to wash them and to wash them and to wash their hands and to wash them and to wash them and to wash them and to wash them and to wash hands and to wash them and to wash them and to wash their hands and to clean them and to wash them and to clean them and to clean them and to wash them and to wash them and to hand wash them and to clean them and to clean them and to clean them and to clean them and to wash them and to dry them and to clean them to be washes them to be. This is a great way to clean them to remove the hands and to clean them to remove them to remove them to remove them to remove them to remove them to remove them to remove them to remove them to remove them to remove them to remove them to remove them to remove them to remove them to remove them to remove them to remove them to remove them to remove them to remove them to remove them to remove them to remove them to remove them to remove them to remove them to remove them to remove the hands to remove them to remove them to prevent them to remove them to be used to remove them to remove the hands to remove the hands to remove the old\n",
      "########\n",
      "*******\n",
      "question: What would someone say about a tube television?\n",
      "answer: obsolete\n",
      "choices: ['obsolete', 'addictive', 'entertaining', 'bycone', 'legal']\n",
      "common expl list: ['Tube televisions are no longer manufactured, and are therefore obsolete.', 'Tube televisions are obsolete, meaning that they are old and was abolished by newer technology.']\n"
     ]
    },
    {
     "name": "stderr",
     "output_type": "stream",
     "text": [
      "  6%|██████████▋                                                                                                                                                         | 64/986 [04:33<1:17:43,  5.06s/it]"
     ]
    },
    {
     "name": "stdout",
     "output_type": "stream",
     "text": [
      "generated explanation: <pad> <extra_id_0> A tube television is obsolete. It is a very common misconception that is a bit of a distraction from the everyday life. It is a very common misconception that is often used to make the viewer feel like they are being watched by a large audience. Tube television is a very common form of entertainment, especially when it is connected to a computer. It is also a great way to watch movies on the go. It is also a great way to watch television on the go. Tube television is a very common device that is used to watch television is a bit of entertainment. Tube television is a very common place to watch. Tube television is also used to watch shows that are not necessarily a tube television is not necessarily a tube television is not necessarily a tube television is a useful tool that can be used to watch movies on a tube television. Tube television is a useful tool that can be used to watch movies on a tube television is often used to watch movies, television is also used to watch and use is also used to watch television is also used to watch and use. Tube television is also used to watch televisions are used to watch movies, television is a tube is used to watch television is a device that is used to watch television is also used to watch television is also used to watch television is used to watch television is also used to watch the television is also used to watch.</s>\n",
      "########\n",
      "*******\n",
      "question: The man drank his coffee at work?\n",
      "answer: office\n",
      "choices: ['coffee shop', 'table', 'kitchen', 'office', 'chair']\n",
      "common expl list: ['The man is likely to be at work, and offices often have kitchens where coffee is made.', 'The man probably works in an office where he could have a cup of coffee while behind his desk.', 'People often drink coffee at offices, with other co-workers.']\n",
      "generated explanation: <pad> <extra_id_0> The man drank his coffee at work?</s>\n",
      "########\n",
      "*******\n",
      "question: What can he do to eliminate his ignorance?\n",
      "answer: learn new\n",
      "choices: ['find information', 'judge', 'do some research', 'find truth', 'learn new']\n",
      "common expl list: ['In this context, ignorance refers to a lack of knowledge, and obtaining new knowledge is the best way to eliminate the ignorance.', 'Ignorance is the state of not knowing something, and to eliminate ignorance, one must learn new things.', \"Learning is a way to eliminate ignorance; for example, learning a foreign language is one way to eliminate ignorance of that language's grammar.\"]\n"
     ]
    },
    {
     "name": "stderr",
     "output_type": "stream",
     "text": [
      "\r",
      "  7%|██████████▊                                                                                                                                                         | 65/986 [04:35<1:01:39,  4.02s/it]"
     ]
    },
    {
     "name": "stdout",
     "output_type": "stream",
     "text": [
      "generated explanation: <pad> <extra_id_0> s and techniques to eliminate his ignorance. He can learn new ways to explain himself and his thoughts and feelings. He can also learn how to explain himself and others. He can learn new ways to understand himself and others. He can learn new ways to understand and understand the world. He can also learn new ways to express himself and his thoughts. He can also learn to understand and understand the world around him. He can learn new ways to understand and understand the world around him. He can learn new ways to understand himself and his world. He can learn new ways to understand the world.</s>\n",
      "########\n",
      "*******\n",
      "question: What do humans do when in a race?\n",
      "answer: compete with each other\n",
      "choices: ['lay eggs', 'eat fruit', 'wrestle', 'compete with each other', 'draw pictures']\n",
      "common expl list: ['Humans are naturally athletic and competitive. On land, people will compete with each other by running or wrestling. Often humans race on water by swimming, or by boating with other people.']\n"
     ]
    },
    {
     "name": "stderr",
     "output_type": "stream",
     "text": [
      "\r",
      "  7%|███████████                                                                                                                                                           | 66/986 [04:37<50:10,  3.27s/it]"
     ]
    },
    {
     "name": "stdout",
     "output_type": "stream",
     "text": [
      "generated explanation: <pad> <extra_id_0> Humans compete with each other when competing in a race. This competition is a competitive act that allows them to compete with each other. Competing with each other is a competitive act, which is often a form of social interaction, which can lead to a competitive environment. Competing with each other is a form of competition, which allows humans to compete with each other, and to compete with each other. Competing in a race is a form of social interaction that allows humans to compete with each other, which can lead to competition.</s>\n",
      "########\n",
      "*******\n",
      "question: She explained that you won't always get what you want with a goal, but you should still do what with it?\n",
      "answer: reach for\n",
      "choices: ['know how to find', 'work hard', 'remember where', 'reach for', 'purchase']\n",
      "common expl list: ['Reaching for attained goals is more beneficial than simply working towards them, at least in the short term. It significantly increases your chances of success.']\n"
     ]
    },
    {
     "name": "stderr",
     "output_type": "stream",
     "text": [
      "\r",
      "  7%|███████████▎                                                                                                                                                          | 67/986 [04:38<42:56,  2.80s/it]"
     ]
    },
    {
     "name": "stdout",
     "output_type": "stream",
     "text": [
      "generated explanation: <pad> <extra_id_0> You won't always get what you want with a goal, but you should always reach for it. She also said that you should reach for a goal because you want to achieve something. She said that you should reach for something that you want to achieve, and reach for it. She also said that a goal is a way to get what you want. She also said that you should reach for something that you want, and reach for it when you are ready to achieve it. She said that she believes that reaching for something is a good goal, and that you should reach for it.</s>\n",
      "########\n",
      "*******\n",
      "question: What happens when you eat hamburger too fast without swallowing?\n",
      "answer: choking\n",
      "choices: ['get full', 'drink', 'choking', 'hungry', 'getting fat']\n",
      "common expl list: ['Eating too fast can sometimes cause coughing / choking as food get stuck in your throat.', \"When you eat hamburger too fast, it can quickly turn into the consistency of a block, and when you can't swallow it, it can cause you to choke.\", \"Choking can occur when you stick stuff in your mouth which can't go down your throat properly, so that you can't breath. Common causes can be eating too fast, or swallowing items that can't go down your throat, like liquids or large\", \"If you eat hamburger too fast, you might choke on it, because it's a solid food that can get stuck in your throat.\"]\n"
     ]
    },
    {
     "name": "stderr",
     "output_type": "stream",
     "text": [
      "\r",
      "  7%|███████████▍                                                                                                                                                          | 68/986 [04:40<37:18,  2.44s/it]"
     ]
    },
    {
     "name": "stdout",
     "output_type": "stream",
     "text": [
      "generated explanation: <pad> <extra_id_0> choking is a condition that can be cured by a variety of foods. Usually, a hamburger is eaten too fast, and it is usually eaten by a person who is unable to swallow. choking is a condition that can be cured by a variety of foods. choking is a condition that can cause a person to eat too fast. choking is a condition that can cause a person to eat too fast, and it is important to eat hamburgers in the morning and night.</s>\n",
      "########\n",
      "*******\n",
      "question: John sat in a folding chair in a bit room with a stage.  What sort of room could that be?\n",
      "answer: auditorium\n",
      "choices: ['room', 'auditorium', 'meeting hall', 'school', 'church']\n",
      "common expl list: ['An auditorium is a large room that is used for public events, such as concerts, plays, and speeches.']\n"
     ]
    },
    {
     "name": "stderr",
     "output_type": "stream",
     "text": [
      "\r",
      "  7%|███████████▌                                                                                                                                                          | 69/986 [04:46<52:34,  3.44s/it]"
     ]
    },
    {
     "name": "stdout",
     "output_type": "stream",
     "text": [
      "generated explanation: <pad> <extra_id_0> A stage is a room that can be used to hold a stage. It can be used to hold a stage, or to hold a stage. The auditorium is a room that can be used to hold a stage. It can be used to display a stage, or to display a stage. The auditorium can also be used to display a stage, or to display a stage. It can also be used to display a stage, or to display a piece of furniture. The auditorium is a stage can also be used to display the work of art. The auditorium can also be used to display a stage, or to display a stage. The auditorium can also be used to display a stage in a bit of art, such as a stage, or to show the audience. The auditorium can also be used to display a stage, or to display a piece of art, or to display a piece of art, or to display a piece of art, or to display a stage.</s>\n",
      "########\n",
      "*******\n",
      "question: What would an adult man do to get ready for work?\n",
      "answer: dress himself\n",
      "choices: ['dress herself', 'shower', 'dress himself', 'drink beer', 'drive train']\n",
      "common expl list: ['An adult man would dress himself for work: this includes putting on pants, shirts, and dresses, and typical choices are professional clothes, such as suit and tie.', 'Adult males commonly wear suits to work. Men might get dressed in the morning, particularly if they plan on wearing a suit for work.']\n"
     ]
    },
    {
     "name": "stderr",
     "output_type": "stream",
     "text": [
      "\r",
      "  7%|███████████▊                                                                                                                                                          | 70/986 [04:48<47:22,  3.10s/it]"
     ]
    },
    {
     "name": "stdout",
     "output_type": "stream",
     "text": [
      "generated explanation: <pad> <extra_id_0> An adult man would do something to get ready for work. Dress yourself would help him get ready for work. Also, it would help him get ready for the day. The dress is a great way to get ready for work. It is also a great way to get ready for work. Dress yourself is a great way to get ready for work. It is also a great way to get dressed for work. It is also a great way to get ready for the day. Dress yourself would help you get ready for work. Dress yourself is a great way to get ready for work. Dress yourself in a way to get ready for work.</s>\n",
      "########\n",
      "*******\n",
      "question: What does one do at an office?\n",
      "answer: work\n",
      "choices: ['work', 'school building', 'workplace', 'skyscraper', 'public building']\n",
      "common expl list: ['An office is a place where people work.', 'An office is a specific type of workplace.', 'One does work at the office']\n"
     ]
    },
    {
     "name": "stderr",
     "output_type": "stream",
     "text": [
      "\r",
      "  7%|███████████▉                                                                                                                                                          | 71/986 [04:50<41:40,  2.73s/it]"
     ]
    },
    {
     "name": "stdout",
     "output_type": "stream",
     "text": [
      "generated explanation: <pad> <extra_id_0> One does work at an office. Work is a form of physical activity that is often performed in front of a computer monitor or computer. Work is a form of physical activity that is often referred to as physical activity. Work is a form of physical activity that is often referred to as a physical activity. Work is a form of physical activity that is primarily used to help people work in a given office. Work is also a place of study that can be used to help others learn and grow. Work is a place of work. Work is also used to help others learn and use their work.</s>\n",
      "########\n",
      "*******\n",
      "question: When a person is on trial for killing, what is a jury likely to decide?\n",
      "answer: punishment\n",
      "choices: ['execution', 'investigation', 'going to jail', 'retribution', 'punishment']\n",
      "common expl list: ['A jury is likely to decide that the person is guilty of the crime, and punish them accordingly.', 'When a jury decides that someone is guilty of a crime, they typically hand down a punishment.', 'A person who has just killed another person often goes to trial, so the jury will likely have to decide what the most just punishment is.']\n"
     ]
    },
    {
     "name": "stderr",
     "output_type": "stream",
     "text": [
      "\r",
      "  7%|████████████                                                                                                                                                          | 72/986 [04:50<31:54,  2.09s/it]"
     ]
    },
    {
     "name": "stdout",
     "output_type": "stream",
     "text": [
      "generated explanation: <pad> <extra_id_0> A jury is likely to decide on a person's fate after killing someone. A jury is likely to decide on a jury's verdict and the amount of punishment a jury will be sentenced to.</s>\n",
      "########\n",
      "*******\n",
      "question: Most adult Americans split their time between home and what?\n",
      "answer: work\n",
      "choices: ['tent', 'work', 'apartment', 'the office', 'foreign']\n",
      "common expl list: ['Most adults spend most of their time at work.', 'Home and work may be the two places where most adult Americans spend most of their waking hours.']\n"
     ]
    },
    {
     "name": "stderr",
     "output_type": "stream",
     "text": [
      "\r",
      "  7%|████████████▎                                                                                                                                                         | 73/986 [04:52<29:43,  1.95s/it]"
     ]
    },
    {
     "name": "stdout",
     "output_type": "stream",
     "text": [
      "generated explanation: <pad> <extra_id_0> Most adult Americans split their time between home and work. Work is a great way to get a better understanding of the world and the world. Work is also a great way to get a better understanding of the world and its people. Work is also a great way to get to know the people and places that they work at. Work is also a great way to get to know other people and places. Most adults split their time between home and work. Work is also a great way to get a better understanding of the world and the world and the world at large.</s>\n",
      "########\n",
      "*******\n",
      "question: Professionally the fighters always maintained a level of respect, but personally they held each other in what for things that were said?\n",
      "answer: contempt\n",
      "choices: ['belittlement', 'humiliate', 'irreverence', 'contempt', 'love']\n",
      "common expl list: ['Despite the respect that was maintained by the respectful fighters, the feelings that they had for each other were always a sense of contempt for each others character.']\n"
     ]
    },
    {
     "name": "stderr",
     "output_type": "stream",
     "text": [
      "\r",
      "  8%|████████████▍                                                                                                                                                         | 74/986 [04:53<23:11,  1.53s/it]"
     ]
    },
    {
     "name": "stdout",
     "output_type": "stream",
     "text": [
      "generated explanation: <pad> <extra_id_0> Fighters always maintained a level of respect for each other, but personally they held each other in what they said in what they said. Personally they held each other in what they said.</s>\n",
      "########\n",
      "*******\n",
      "question: Where would you find many tables of silverware rolled into nice displayed napkins?\n",
      "answer: restaurant\n",
      "choices: ['silver', 'park', 'table', 'cupboard', 'restaurant']\n",
      "common expl list: ['In a commercial establishment, silverware is expected to be clean because consumption of food is involved. So, a restaurant may well be where someone would expect to find silverware rolled into nice displayed napkins (i.e., fancy silverware).', 'Restaurants often give used, rolled up silverware to customers, and they might keep them in nice, displayed napkins to make moving and storing them easier.', 'Restaurants often have a lot of silverware, and they might roll it up and place it in a napkin to make it easier to store.']\n"
     ]
    },
    {
     "name": "stderr",
     "output_type": "stream",
     "text": [
      "\r",
      "  8%|████████████▋                                                                                                                                                         | 75/986 [05:00<47:40,  3.14s/it]"
     ]
    },
    {
     "name": "stdout",
     "output_type": "stream",
     "text": [
      "generated explanation: <pad> <extra_id_0> There are many tables of silverware rolled into nice displayed napkins. Tables of silverware rolled into nice displayed napkins would be a nice display for a table of silverware. Tables of silverware would be rolled into nice displayed napkins and serve as a display for a table at a restaurant. This is because the napkins are usually rolled into a large piece of silverware. Tables of silverware would be rolled into nice displayed napkins and served on a table. The table would be rolled into nice table napkin-shaped napkins. Tables would be rolled into nice displayed napkins. Tables would be rolled into nice rolled into nice displayed napkins. Tables of silverware would be served on the table. Tables would be rolled into nice displayed napkin. Tables would be rolled into nice displayed napkins. Tables would be rolled into napkins would be rolled into nice displayed napkins. Tables would be rolled into rolled into napkin. Tables would be rolled into rolled into rolled napkins. Tables would be rolled into a rolled into nice displayed in a set of napkins would be rolled into nice displayed napkins would be displayed in a set of napkins would be displayed in a set of napkins.</s>\n",
      "########\n",
      "*******\n",
      "question: He didn't believe fate controlled situations, what did he believe people did?\n",
      "answer: control events\n",
      "choices: ['control events', 'pray', 'dress themselves', 'talk to each other', 'think creatively']\n",
      "common expl list: [\"If one believes fate controls events, there's nothing to do but accept situation, perhaps to pray; in contrast, if one believed they had control over events, then they could act to change the situation.\", 'If one believes in fate, then one would believe that fate controls events. If one believes in free will, then one would believe that people control events.']\n"
     ]
    },
    {
     "name": "stderr",
     "output_type": "stream",
     "text": [
      "\r",
      "  8%|████████████▊                                                                                                                                                         | 76/986 [05:01<40:29,  2.67s/it]"
     ]
    },
    {
     "name": "stdout",
     "output_type": "stream",
     "text": [
      "generated explanation: <pad> <extra_id_0> He didn't believe fate controlled situations, what did he believe people did? He didn't believe people were able to control events because they were able to control events. He didn't believe people were able to control events because they were able to control events. He didn't believe people were able to control events because they were able to control events because they were able to control events. He believed that fate controlled situations, such as fate controlled situations, and that fate controlled events. He didn't believe people did.</s>\n",
      "########\n",
      "*******\n",
      "question: Polly didn't know her way around, so she navigated by landmark.  She used statues, stores, and distinctive building.  Where might she be?\n",
      "answer: city\n",
      "choices: ['countryside', 'national park', 'map', 'neighbourhood', 'city']\n",
      "common expl list: ['Landmarks are often located in cities, and so if a person was navigating by landmarks, they are likely to be in a city.', 'Landmark navigation works best in populated areas because distinctive buildings and statues can be more easily seen.', \"She used distinctive buildings as landmarks, so it is likely she's in a city.\", 'In a city, landmarks are often used to navigate. In the countryside or in national parks, landmarks may not be as distinct, as buildings and statues are less likely to be found.']\n"
     ]
    },
    {
     "name": "stderr",
     "output_type": "stream",
     "text": [
      "\r",
      "  8%|████████████▉                                                                                                                                                         | 77/986 [05:03<35:41,  2.36s/it]"
     ]
    },
    {
     "name": "stdout",
     "output_type": "stream",
     "text": [
      "generated explanation: <pad> <extra_id_0> Polly used landmarks to navigate through the city. She used statues, stores, and distinctive buildings to navigate the city. She used landmarks to find her way around. She used landmarks to find her way around. She used landmarks to find her way around the city. She used landmarks to find her way around. She used landmarks to find her way around. She used landmarks to find her way around. She also used landmarks to find her way around. She used landmarks to find her way around. She used landmarks to find her way around the city.</s>\n",
      "########\n",
      "*******\n",
      "question: Some horses are white others are black, but many are this color which might lead some people to think their milk would taste like chocolate?\n",
      "answer: brown\n",
      "choices: ['big but gentle', 'kept in stables', 'cuddly', 'brown', 'running in herd']\n",
      "common expl list: [\"An individual brown-colored horse (particularly when cuddly) can resemble the color of chocolate. If a person were to guess based on the color, he might guess a horse's milk tasted similarly.\"]\n"
     ]
    },
    {
     "name": "stderr",
     "output_type": "stream",
     "text": [
      "\r",
      "  8%|█████████████▏                                                                                                                                                        | 78/986 [05:04<31:47,  2.10s/it]"
     ]
    },
    {
     "name": "stdout",
     "output_type": "stream",
     "text": [
      "generated explanation: <pad> <extra_id_0> Some horses are white, others are brown, which makes them less likely to be eaten with milk. Some horses are white, others are brown, which makes them more likely to be eaten with milk. This may also be because they are more likely to be a result of their color and their color. This is because some horses are white, others are brown, and others are brown. This may also be because they are white, and others are brown in color. This may also be because they are more likely to be a result of the color.</s>\n",
      "########\n",
      "*******\n",
      "question: What is the one thing you cannot do if you're on the move?\n",
      "answer: stand still\n",
      "choices: ['sit still', 'stationary', 'running', 'stand still', 'stay still']\n",
      "common expl list: ['You must be in motion to be counted as on the move. (this rule exists to disallow the action of holding still)']\n"
     ]
    },
    {
     "name": "stderr",
     "output_type": "stream",
     "text": [
      "\r",
      "  8%|█████████████▎                                                                                                                                                        | 79/986 [05:05<24:19,  1.61s/it]"
     ]
    },
    {
     "name": "stdout",
     "output_type": "stream",
     "text": [
      "generated explanation: <pad> <extra_id_0> If you're on the move, you can't do anything if you're standing still. This is because you're on the move.</s>\n",
      "########\n",
      "*******\n",
      "question: Where does someone convicted of a petty crime likely spend time?\n",
      "answer: jail\n",
      "choices: ['sell drugs', 'jail', 'nightclub', 'prison', 'offer drugs']\n",
      "common expl list: ['Someone convicted of a petty crime is likely to spend time in jail.', 'Someone convicted of a petty crime probably spends some time in jail, and not in prison.']\n"
     ]
    },
    {
     "name": "stderr",
     "output_type": "stream",
     "text": [
      "\r",
      "  8%|█████████████▍                                                                                                                                                        | 80/986 [05:06<24:22,  1.61s/it]"
     ]
    },
    {
     "name": "stdout",
     "output_type": "stream",
     "text": [
      "generated explanation: <pad> <extra_id_0> Someone convicted of a petty crime likely spends time in jail. In jail is the most common place to spend time is in the courtroom. In addition, jail is the most common place for a person to spend time in the courtroom. In jail is the most common place for a person to spend time in the courtroom. In addition, in the courtroom, a person may spend time with a judge or a judge to determine whether they are eligible for parole. In jail is the most common place for petty crimes.</s>\n",
      "########\n",
      "*******\n",
      "question: He would entertain with a pool party regularly, it was the best way to beat the what?\n",
      "answer: hot\n",
      "choices: ['please', 'hot', 'guest', 'bribe', 'liked']\n",
      "common expl list: ['Pool parties are a great way to beat the heat.']\n"
     ]
    },
    {
     "name": "stderr",
     "output_type": "stream",
     "text": [
      "\r",
      "  8%|█████████████▋                                                                                                                                                        | 81/986 [05:08<24:21,  1.61s/it]"
     ]
    },
    {
     "name": "stdout",
     "output_type": "stream",
     "text": [
      "generated explanation: <pad> <extra_id_0> He would entertain with a pool party regularly, it would be the best way to beat the hot pool. He would entertain with a pool party regularly, it would be the best way to beat the hot pool. He would entertain with a pool party, it would be the best way to beat the hot pool, it would be the best way to beat the hot pool. He would also entertain with a pool party, which would beat the hot pool. He would entertain with a pool party, it would be the best way to beat the hot pool.</s>\n",
      "########\n",
      "*******\n",
      "question: If you wanted to confirm information that you had, you would do what to someone?\n",
      "answer: question\n",
      "choices: ['infirm', 'ask', 'deny', 'question', 'dispute']\n",
      "common expl list: ['If you wanted to confirm information that you had, you would ask someone.', 'To confirm something that your friends told you, you might need to ask those friends further questions to prove that the information was correct.', 'If you wanted to verify the truth, you might question the person who you got the alleged information from.', \"Often information is ambiguous, and I can confirm it by asking pointed questions or by scrutinizing the other person's story till I can find a way to interrogate their position.\"]\n"
     ]
    },
    {
     "name": "stderr",
     "output_type": "stream",
     "text": [
      "\r",
      "  8%|█████████████▊                                                                                                                                                        | 82/986 [05:10<26:08,  1.73s/it]"
     ]
    },
    {
     "name": "stdout",
     "output_type": "stream",
     "text": [
      "generated explanation: <pad> <extra_id_0> If you wanted to confirm information, you would ask someone to confirm it. This is because it is a way to confirm information that you have. It is a way to make sure that someone is aware of what you are doing. This is a way to ensure that the information is accurate, accurate, and reliable. This is a way to ensure that the information is accurate, and that the person is able to provide accurate and accurate information. This is a way to make sure that the information is accurate, and that it is not enough to provide the right person's identity, and that they are able to make a difference in the person's identity is important.</s>\n",
      "########\n",
      "*******\n",
      "question: Where is cheese likely to be dangerous for some creatures?\n",
      "answer: mouse trap\n",
      "choices: ['refrigerator', 'mouse trap', 'fridge', 'outside', 'plate']\n",
      "common expl list: ['cheese has been said to attract mice. Mice traps may contain cheese in order to attract them.']\n"
     ]
    },
    {
     "name": "stderr",
     "output_type": "stream",
     "text": [
      "\r",
      "  8%|█████████████▉                                                                                                                                                        | 83/986 [05:13<32:24,  2.15s/it]"
     ]
    },
    {
     "name": "stdout",
     "output_type": "stream",
     "text": [
      "generated explanation: <pad> <extra_id_0> Cheese is likely to be dangerous for some creatures, such as mouse traps, mice, rats, and other mammals. Cheese is also known to be a major source of stress and can be a source of toxins, such as toxins, and can cause a mouse to be unable to move. Mouse traps are also likely to cause gastrointestinal problems, such as gastrointestinal problems, and can cause gastrointestinal problems. Mouse traps can also be used to help control other animals, such as mice, rats, and mice. The cheese is also likely to cause the mouse to become a mouse, and can also cause the mouse to become a source of toxins, such as a source of a mouse and other gastrointestinal gastrointestinal oxies, which can cause gastrointestinal upset, gastrointestinal upset, and can be dangerous for some animals to eat it.</s>\n",
      "########\n",
      "*******\n",
      "question: He spent all work day at a computer, so he got a footstool for more comfort at his what?\n",
      "answer: desk\n",
      "choices: ['desk', 'bathroom', 'shoe shop', 'family room', 'living room']\n",
      "common expl list: ['A footstool is a small stool that is used to raise the height of a chair or table. If someone spends all day at a computer, they might need a footstool to raise their desk.']\n"
     ]
    },
    {
     "name": "stderr",
     "output_type": "stream",
     "text": [
      "\r",
      "  9%|█████████████▉                                                                                                                                                      | 84/986 [05:22<1:02:11,  4.14s/it]"
     ]
    },
    {
     "name": "stdout",
     "output_type": "stream",
     "text": [
      "generated explanation: <pad> <extra_id_0> He spent all day at a computer, so he got a footstool for more comfort at his desk. It was also a great way to get around the office without having to walk around the room. It was also a great way to get around the office, and it was also a great way to get around the office. It was also a great way to get around the office and get comfortable at work. It was also a great way to get around the office. It was also a great way to get around the office. It was also a great way to get a footstool for more comfortable and comfortable to get around the computer, so he could get a footstool for a desk, and it was a great way to get to the office. It was also a great way to get to the office. It was also a great way to get to the office. It was a great deal of comfort to get to the office, and it was also a great way to get to the office, and it was the footstool for the job for him to get to the office, and it was a great way to get to the office, and to get to the office, and it was a great way to get to the office, and it was a great way to get to the office, and it was a great way to get to the office, and it was a great way to get to the office, and it was a great way to get to the office, and the best way to get to the office, so it was a great way to get to the office, to get to the office, and so it was.</s>\n",
      "########\n",
      "*******\n",
      "question: How would grooming lead to bald spots?\n",
      "answer: mistakes\n",
      "choices: ['cleanliness', 'mistakes', 'brushing', 'beauty', 'satisfaction']\n",
      "common expl list: [\"If you accidentally over trim your hair, you'd likely end up with bald spots.\"]\n"
     ]
    },
    {
     "name": "stderr",
     "output_type": "stream",
     "text": [
      "\r",
      "  9%|██████████████▎                                                                                                                                                       | 85/986 [05:24<51:19,  3.42s/it]"
     ]
    },
    {
     "name": "stdout",
     "output_type": "stream",
     "text": [
      "generated explanation: <pad> <extra_id_0> Grooming can lead to bald spots. It can also lead to bald spots. It can also lead to bald spots. It can lead to bald spots. It can lead to bald spots. It can also lead to bald spots. It can also lead to bald spots. It can lead to bald spots. It can also lead to bald spots. It can also lead to bald spots. It can lead to bald spots. It can also lead to bald spots. It can lead to bald spots when the hairs are a person to bald spots to bald spots.</s>\n",
      "########\n",
      "*******\n",
      "question: Where would a snake find a great hiding place in the United Kingdom?\n",
      "answer: kew gardens\n",
      "choices: ['ditch', 'terrarium', 'thick forest', 'kew gardens', 'feild']\n",
      "common expl list: ['Kew gardens is located in London, which has a great deal of green space in the form of parks.', 'Kew gardens is a large botanical garden in London, England, and snakes are often found in gardens.']\n"
     ]
    },
    {
     "name": "stderr",
     "output_type": "stream",
     "text": [
      "\r",
      "  9%|██████████████▍                                                                                                                                                       | 86/986 [05:25<43:07,  2.87s/it]"
     ]
    },
    {
     "name": "stdout",
     "output_type": "stream",
     "text": [
      "generated explanation: <pad> <extra_id_0> A snake can find a great hiding place in a great place to hide. A snake can find a great hiding place in a kew garden. A snake can find a great hiding place in a kew garden. A snake can also find a great place to hide in a kew garden. A snake can also find a great place to hide in a great place to hide in a garden. A snake can also find a great place to hide in a great place to hide in kew gardens and other wildlife.</s>\n",
      "########\n",
      "*******\n",
      "question: After studying many self-help books, what did he feel in his heart?\n",
      "answer: inspiration\n",
      "choices: ['inspiration', 'dreams', 'more intelligence', 'understanding', 'knowing more']\n",
      "common expl list: ['Self-help books are written to inspire people to change their lives for the better.', \"If John read about confidence, optimism, positive thinking, it's possible that he feels inspired.\", \"Some people study self-help books because they've felt lost in their life and are looking for something to help them out. By reading many self-help books, such people might feel more inspired in their life.\"]\n"
     ]
    },
    {
     "name": "stderr",
     "output_type": "stream",
     "text": [
      "\r",
      "  9%|██████████████▋                                                                                                                                                       | 87/986 [05:27<37:31,  2.50s/it]"
     ]
    },
    {
     "name": "stdout",
     "output_type": "stream",
     "text": [
      "generated explanation: <pad> <extra_id_0> After studying many self-help books, inspiration is the key to a successful self-help book. It is the only book that gives you the tools to become a better writer. The book gives you the tools to become a better person. It gives you the tools to become a better person. It gives you the tools to become a better person. It also gives you the tools to become a better person. It gives you the tools to become a better person. It gives you the tools to become a better person.</s>\n",
      "########\n",
      "*******\n",
      "question: Where would you find teeth whitening bleachers?\n",
      "answer: pharmacy\n",
      "choices: ['gymnasium', 'soccer game', 'sporting event', 'pharmacy', 'soccer game']\n",
      "common expl list: ['Teeth whitening is a common practice, and pharmacies often sell the products used for it.']\n"
     ]
    },
    {
     "name": "stderr",
     "output_type": "stream",
     "text": [
      "\r",
      "  9%|██████████████▊                                                                                                                                                       | 88/986 [05:34<56:19,  3.76s/it]"
     ]
    },
    {
     "name": "stdout",
     "output_type": "stream",
     "text": [
      "generated explanation: <pad> <extra_id_0> : a pharmacy<extra_id_1> : a dentists office is a great place to find teeth whitening bleachers. In addition, a dentist can also help with a variety of other tasks, such as removing excess teeth, removing excess plaque, and removing excess hair. In addition, a dentist can also help with removing excess hair, removing accumulated hair, and removing excess hair. In addition, a dentist can help you with removing excess hair, and removing excess hair from the mouth. In addition, they can also help with a dentist can also help to prevent removing excess hair, and other cosmetics, and other dental whitening bleachers can be used to remove excess hair, and removing excess hair, and other cosmetics, and other cosmetics, and other items, such as removing excess hair, and removing excess hair, and other cosmetics, and other cosmetics, and other cosmetics, which can be used to remove excess hairs, and other types of hair, and other cosmetics, and other cosmetics, and the use of removing excess excess hair, and can also be used to remove excess excess hair.</s>\n",
      "########\n",
      "*******\n",
      "question: While he had seen a koala in the zoo, he was looking forward to finding one in the what?\n",
      "answer: australian outback\n",
      "choices: ['australian outback', 'bamboo grove', 'wilderness', 'island', \"child's book\"]\n",
      "common expl list: ['Koalas live in Australia, and are not found in any other country in the North American continent.', 'Because Koalas are a native species to Australia, the safest place to see a Koala may be outback Australia.']\n"
     ]
    },
    {
     "name": "stderr",
     "output_type": "stream",
     "text": [
      "\r",
      "  9%|██████████████▉                                                                                                                                                       | 89/986 [05:35<46:28,  3.11s/it]"
     ]
    },
    {
     "name": "stdout",
     "output_type": "stream",
     "text": [
      "generated explanation: <pad> <extra_id_0> The australian outback is a popular animal in the zoo. It is known for its ability to move and move quickly, and it is a popular place to live in the wild. It is also a popular place to hunt for animals in the wild, especially in the wild. It is also a great place to hunt for koalas, which are a popular way to hunt for koalas. It is also a great place to see a koala in the zo</s>\n",
      "########\n",
      "*******\n",
      "question: Where can a child get a wagon?\n",
      "answer: toy store\n",
      "choices: ['field', 'garage', 'bookstore', 'backyard', 'toy store']\n",
      "common expl list: [\"A toy wagon is a child's toy. Toy wagons can be purchased from toy stores.\", 'Toy stores deal specifically in toys. Wagons are one of a variety of toys.']\n"
     ]
    },
    {
     "name": "stderr",
     "output_type": "stream",
     "text": [
      "\r",
      "  9%|███████████████▏                                                                                                                                                      | 90/986 [05:37<39:41,  2.66s/it]"
     ]
    },
    {
     "name": "stdout",
     "output_type": "stream",
     "text": [
      "generated explanation: <pad> <extra_id_0> A toy store is a great place to get a wagon for a child. It is also a great place for a child to get a toy that fits their needs and preferences. It is also a great place for a child to get a wagon. It is also a great place to get a toy that fits their needs. It is also a great place to get a toy that fits their needs. It is also a great place to get a toy that fits in a toy store.</s>\n",
      "########\n",
      "*******\n",
      "question: Being able to forgive is a way to be what?\n",
      "answer: nice to\n",
      "choices: ['learn', 'give hug', 'happiness', 'nice to', 'sex']\n",
      "common expl list: ['When you forgive people you are being nice to them.']\n"
     ]
    },
    {
     "name": "stderr",
     "output_type": "stream",
     "text": [
      "\r",
      "  9%|███████████████▏                                                                                                                                                    | 91/986 [05:48<1:18:36,  5.27s/it]"
     ]
    },
    {
     "name": "stdout",
     "output_type": "stream",
     "text": [
      "generated explanation: <pad> <extra_id_0> Being able to forgive is a way to be what is important to you. It is a way to be able to be nice to others. It is a way to be able to be able to forgive is a way to be what you are. It is a way to be able to be what you are. It is also a way to be able to be what you are. It is a way to be nice to others. It is a way to be what you are. It is also a way to be able to be what you are able to be. It is also able to be able to be nice to others. It is a way to be nice to be able to be what you are. It is a way to be nice to be able to be what you are able to be what you are able to be nice to others. It is a way to be nice to being nice to others. It is a way to be nice to yourself. It is also able to be nice to be nice to be able to be nice to be nice to be nice to be nice to be nice to be nice to be nice to be nice to be nice to be able to be nice to being nice to be nice to be able to be nice to be nice to be nice to be nice to be nice to be nice to be nice to be nice to be nice to be nice to be nice to others’s nature. It is nice to be nice to be nice to be nice to be nice to be nice to be nice to be nice to being nice to be nice to be a nice to be nice to be nice to be nice to be nice to be nice to be nice to be nice to be nice to be nice to be nice to be nice to be nice to be nice to be nice to be nice to be nice to be nice to be nice to be able to be nice to be nice to be nice to be nice to be able to be nice to be nice to be nice to be nice to be the same being</s>\n",
      "########\n",
      "*******\n",
      "question: What  is necessary to have when going fishing?\n",
      "answer: fishing rod\n",
      "choices: ['fishing rod', 'access to water', 'bate', 'three hands', 'tackle']\n",
      "common expl list: ['fishing rods are necessary component pieces that are held by fishermen to access and use when fishing', 'To go fishing requires a fishing rod.']\n"
     ]
    },
    {
     "name": "stderr",
     "output_type": "stream",
     "text": [
      "\r",
      "  9%|███████████████▎                                                                                                                                                    | 92/986 [05:53<1:18:34,  5.27s/it]"
     ]
    },
    {
     "name": "stdout",
     "output_type": "stream",
     "text": [
      "generated explanation: <pad> <extra_id_0> Fishing rod is a fishing rod that is used for a variety of sports and is used to transport fish and bait. It is a great way to get a good grip on the water and to get a grip on the water. It is a great way to get a good grip on the water and to get the best results. It is also a great way to get a good grip on the rod and catch fish. It is also a great way to get the most out of your fishing trip. It is also a great way to get the best way to get a good deal of fish. It is also a good way to get a good deal of fun while fishing. It is also a great way to get a good fishing rod and rod is a great way to get the best results. It is also a good deal of fun and excitement that you can get out of the water. It is also a great way to get the most important tool to get the most enjoyment and enjoyment of the fishing experience.</s>\n",
      "########\n",
      "*******\n",
      "question: A weasel is cursed by a witch, where is the weasel stuck?\n",
      "answer: fairytale\n",
      "choices: ['corn fields', 'great outdoors', 'fairytale', 'imagination', 'chicken coop']\n",
      "common expl list: ['Being stuck in a fairytale suggests being cursed, and the curses that prevail in fairytales are usually cast by witches.']\n"
     ]
    },
    {
     "name": "stderr",
     "output_type": "stream",
     "text": [
      "\r",
      "  9%|███████████████▍                                                                                                                                                    | 93/986 [06:02<1:34:55,  6.38s/it]"
     ]
    },
    {
     "name": "stdout",
     "output_type": "stream",
     "text": [
      "generated explanation: <pad> <extra_id_0> A weasel is cursed by a witch by a fairytale witch. A weasel is cursed by a witch because it is a creature of the fairytale. Weasel is a creature of the fairytale genre, and is a creature of the fairytale fairytale. Weasel is cursed by a witch because it is a creature of the fairytale. Witches are able to remove a weasel from the weasel is cursed by a witch because it is unable to remove the weasel is unable to remove the weasel. Witches are unable to remove the weasel. Weasel is cursed by a witch is unable to remove the weasel by a witch is unable to remove the weasel in the fairytale. Weasel is unable to remove the weasel is unable to remove the weasel from the weasel from the weasel. Weasel is unable to remove the weasel from the weasel from the weasel from the weasel from the weasel. Weasel from the weasel from the weasel from the witch's weasel's weasel's fairytale weasel's weasel's weasel's weasel's weasel's magic. Weasel's magic.</s>\n",
      "########\n",
      "*******\n",
      "question: If you want to buy you must what?\n",
      "answer: spend money\n",
      "choices: ['spend money', 'go shopping', 'paying', 'have in mind', 'a shop']\n",
      "common expl list: ['If you want to buy something, you must spend money.', 'To buy one needs money, and need money implies you have spent money.', 'To buy something, you must spend money.']\n"
     ]
    },
    {
     "name": "stderr",
     "output_type": "stream",
     "text": [
      "\r",
      " 10%|███████████████▋                                                                                                                                                    | 94/986 [06:04<1:13:50,  4.97s/it]"
     ]
    },
    {
     "name": "stdout",
     "output_type": "stream",
     "text": [
      "generated explanation: <pad> <extra_id_0> If you want to buy you must spend money. This is because it is a way to make money and it is a way to make money. This is also a way to make money and to make money. This is because it is a way to make money and to make money. It is also a way to make money and to make money. It is also a way to make money. It is also a way to make money and to make money. It is also a way to make money. It is also a way to make money by making money.</s>\n",
      "########\n",
      "*******\n",
      "question: What public celebration sometimes has a horse show?\n",
      "answer: state fair\n",
      "choices: ['state fair', 'indy 500', 'american southwest', 'canada', 'central park']\n",
      "common expl list: ['Horse shows are sometimes included in state fair celebrations, and these fairs frequently are held in public parks.', \"A state's fair is a public celebration that may include a horse show.\", 'Horse shows are competitions that sometimes occur at public celebrations. Some fairgrounds include horse shows as part of their regularly scheduled events.']\n"
     ]
    },
    {
     "name": "stderr",
     "output_type": "stream",
     "text": [
      "\r",
      " 10%|███████████████▉                                                                                                                                                      | 95/986 [06:06<58:16,  3.92s/it]"
     ]
    },
    {
     "name": "stdout",
     "output_type": "stream",
     "text": [
      "generated explanation: <pad> <extra_id_0> A public celebration sometimes has a horse show. A horse show is a public celebration that is held in a public place. This is because horses are a popular attraction for horse lovers and show enthusiasts. This is also known as a horse show because it is a great way to show horses and other animals around the world. This is also known as a horse show because it is a great way to show horses and other animals. This is also known as a horse show. This is also known as a horse show.</s>\n",
      "########\n",
      "*******\n",
      "question: There are many wage gaps being discussed, the most important of which is between the rich and what?\n",
      "answer: poor\n",
      "choices: ['plain', 'sleepy', 'poor', 'idle', 'needy']\n",
      "common expl list: ['The poor are a group which suffers from a wage gap, denoted as their earning less than others, especially the rich.']\n"
     ]
    },
    {
     "name": "stderr",
     "output_type": "stream",
     "text": [
      "\r",
      " 10%|███████████████▉                                                                                                                                                    | 96/986 [06:11<1:04:18,  4.34s/it]"
     ]
    },
    {
     "name": "stdout",
     "output_type": "stream",
     "text": [
      "generated explanation: <pad> <extra_id_0> wage gap is a problem for many people because it is often a problem for many. Poor pay is the reason why many people are struggling to earn a living. Poor pay is a problem because poorer workers are often unable to afford to pay for their services and living expenses. Poor pay is a problem for many people because it is difficult to afford to pay the bills and to earn enough to afford to live comfortably. Poor wages are often a problem for the poor. Poor wages are often the reason for poorer workers to be able to afford to be able to afford to have to pay for a living. Poor wages are often the reason why poorer than the wage gap is a problem for many people to afford to pay the bills and are often unable to afford to pay the bills and to make it difficult to get the job they are often a good wage. Poor wages are often the most important reason for poor people to earn enough to earn enough to earn a good wage. Poor wages are often the reason for poor wages are often the reason for poor wages. Poor wages are often the reason for poverty.</s>\n",
      "########\n",
      "*******\n",
      "question: What city in a North American Country, that isn't the United States, would you expect to find a good french restaurant?\n",
      "answer: quebec\n",
      "choices: ['wine', 'nyc', 'quebec', 'manhattan', 'paris']\n",
      "common expl list: ['Quebec is said to have strong french-culture since it was originally french territory. This would make sense if quebec had a good french restaurant.', 'Quebec is the only province that speaks French in North America, and you might expect to find a good french restaurant there.', 'Quebec is a province in Canada, and is known for its french culture.', 'Quebec has a strong french heritage, and the french cuisine is actually quite popular in the United States.']\n"
     ]
    },
    {
     "name": "stderr",
     "output_type": "stream",
     "text": [
      "\r",
      " 10%|████████████████▎                                                                                                                                                     | 97/986 [06:13<54:21,  3.67s/it]"
     ]
    },
    {
     "name": "stdout",
     "output_type": "stream",
     "text": [
      "generated explanation: <pad> <extra_id_0> Québec is a city in North America. It is a place to find a good French restaurant. It is located in a city that is located in the heart of the country, and is surrounded by mountains, lakes, and other natural resources. It is also located in the center of the city, and is a great place to find a good selection of restaurants. This is a great place to find a good French restaurant. It is also a great place to visit a French restaurant. Quebec is a great place to visit a french restaurant in the center of the country, and it is located in the center of the country, and is a great place to visit the city.</s>\n",
      "########\n",
      "*******\n",
      "question: Care not to burn you hand on the handle of what small high-walled vessel?\n",
      "answer: saucepan\n",
      "choices: ['brush', 'carry object', 'walking stick', 'umbrella', 'saucepan']\n",
      "common expl list: ['A saucepan is a small, high-walled vessel, built for holding liquids and usually used in the kitchen.']\n"
     ]
    },
    {
     "name": "stderr",
     "output_type": "stream",
     "text": [
      "\r",
      " 10%|████████████████▎                                                                                                                                                   | 98/986 [06:27<1:40:36,  6.80s/it]"
     ]
    },
    {
     "name": "stdout",
     "output_type": "stream",
     "text": [
      "generated explanation: <pad> <extra_id_0> A saucepan is a small, heavy-duty, high-walled vessel that holds enough water to hold it in a single layer. It is a safe way to store and use water in a container. It is important to keep hands away from the handle of the saucepan. It is important to keep your hands away from the handle of the saucepan. It is important to keep hands away from the handle of the saucepan. It is important to keep your hands away from the handle of the saucepan. It is important to keep your hands away from the handle of a saucepan, and keep your hands safe. It is important to keep your hands safe. It is important to keep your hands safe. It is important to keep your hands away from the handle of the saucepan is important to keep your hands from touching the handle of the saucepan, and to keep your hands away from the heat evenly distributed the heat evenly distributed the heat evenly evenly distributed evenly. It is important to keep your hands and to keep your hands safe. It is important to keep your hands away from touching the handle of the saucepan, and to keep your hands away from the handle of the saucepan, and to keep your hands away from the handle of the handle of the handle of the saucepan, and to keep your hand at the handle of the saucepan, and to keep the saucepan, and to keep the heat evenly distributed evenly throughout the saucepan. The handle of the saucepan, and to keep your hand protected from accidental burns are not accidentally touching the handle of the handle of the saucepan, and to keep the handle of the saucepan, and to keep the handle of the saucepan, and to keep the saucepan, and to keep the saucepan, and to keep the heat and to keep the heat and to keep the saucepan. The saucepan is the saucepan safe and secure. The saucepan is the saucepan, and the saucepan, and to keep it safe. The saucepan, and to keep it safe. The handle is a saucepan, and to keep the handle of the saucepan safe. The handle of the handle of the saucepan, and to keep the heat evenly distributed evenly distributed evenly distributed evenly distributed evenly distributed evenly distributed evenly distributed evenly distributed throughout the entire surface of the saucepan, and to keep the saucepan from the heat evenly distributed evenly distributed evenly distributed evenly distributed evenly distributed evenly distributed evenly distributed evenly distributed evenly distributed evenly distributed evenly distributed evenly distributed evenly distributed evenly distributed evenly evenly distribute evenly evenly distributed evenly evenly spaced evenly distributed evenly distributed evenly distributed evenly evenly distributed evenly distributed evenly distributed evenly distributed\n",
      "########\n",
      "*******\n",
      "question: What container does peanut butter come in?\n",
      "answer: jar\n",
      "choices: ['cupboard', 'pantry', 'jar', 'bottle', 'supermarket']\n",
      "common expl list: ['Jars are often used to store food, and peanut butter is a food.', 'Jars can keep food sealed without leaking, and often have lids. Peanut butter is sealed in a jar and could be kept in a house, kitchen, pantry, or cupboard.', 'Jars, like those that pickles often come in, are suitable for food items that need to be kept fresh for long time. Jars can be resealed.', 'Peanut butter comes in glass jars, like many other food products.']\n"
     ]
    },
    {
     "name": "stderr",
     "output_type": "stream",
     "text": [
      "\r",
      " 10%|████████████████▍                                                                                                                                                   | 99/986 [06:32<1:32:44,  6.27s/it]"
     ]
    },
    {
     "name": "stdout",
     "output_type": "stream",
     "text": [
      "generated explanation: <pad> <extra_id_0> Jar peanut butter is found in a variety of containers, including jars, jars, and other containers. Jars contain peanut butter, jelly, and other nuts, and other nuts, and other nuts. Jar peanut butter is found in a variety of containers, including jars, jars, and other containers. Peanut butter is found in a variety of different containers, including a variety of sizes, shapes, and sizes. Jar peanut butter comes in a variety of sizes and shapes, which are used to make it a variety of containers, which are used to make it easier to store and process the peanut butter and jelly, jars, and other items that are used to make it easier to store it in a variety of products that are used to store peanut butter and peanut butter products, and jars, and other containers, such as a variety of sizes, which can be used to store peanut butters, peanut butter and jelly jars, jelly, jars that are used to store peanut butter and jelly.</s>\n",
      "########\n",
      "*******\n",
      "question: Where are plants likely to be handled by a city employee?\n",
      "answer: park\n",
      "choices: ['park', 'windowsill', 'ground', 'office', 'garden']\n",
      "common expl list: ['Parks are where city employees are likely to handle plants.', 'A city employee might handle plants while working in a park.']\n"
     ]
    },
    {
     "name": "stderr",
     "output_type": "stream",
     "text": [
      "\r",
      " 10%|████████████████▌                                                                                                                                                  | 100/986 [06:39<1:34:14,  6.38s/it]"
     ]
    },
    {
     "name": "stdout",
     "output_type": "stream",
     "text": [
      "generated explanation: <pad> <extra_id_0> Parks are often used by city employees to handle plants. Parks are often used to provide a park for a city employee to use to maintain a green space. Parks are also used to maintain a green space and to maintain a healthy environment. Parks are often used to maintain a healthy environment and to maintain a healthy environment. Parks are often used to maintain a healthy environment and to maintain a healthy, healthy environment. Parks are often used to maintain a healthy environment and to maintain healthy plants. This is often used to maintain healthy, green, and healthy plants. Parks are often used to maintain a healthy environment. Parks are often used to maintain healthy, clean, and to maintain healthy, green space. Parks are often used to maintain a healthy, healthy, and safe, and are often used to maintain a healthy, and are often used to maintain a healthy, healthy, and safe environment. Parks are often used to protect the plants. Parks are used to maintain and maintain a healthy environment. Parks are often used to maintain healthy, and to maintain healthy, healthy, and to maintain healthy, and to maintain healthy, safe, and to maintain healthy, and to maintain healthy, healthy, and to maintain healthy, healthy, and to maintain healthy, healthy, healthy, healthy, healthy, and healthy environment. Parks are also used to protect the environment.</s>\n",
      "########\n",
      "*******\n",
      "question: Trains tend to come on time, airplanes on the other hand tend to what?\n",
      "answer: arrive late\n",
      "choices: ['stall', 'take off', 'arrive late', 'catch on fire', 'carry freight']\n",
      "common expl list: [\"Planes aren't typically known for arriving on time (air traffic, weather, repairs, et. al.), whereas trains tend to be more reliable.\", 'Planes are carreid by more complicated mechanisms than trains, and therefore tend to be harder to operate exactly on time.']\n"
     ]
    },
    {
     "name": "stderr",
     "output_type": "stream",
     "text": [
      "\r",
      " 10%|████████████████▋                                                                                                                                                  | 101/986 [06:41<1:15:55,  5.15s/it]"
     ]
    },
    {
     "name": "stdout",
     "output_type": "stream",
     "text": [
      "generated explanation: <pad> <extra_id_0> Trains tend to come on time, airplanes tend to arrive late. Trains tend to come on time, airplanes arrive late, airplanes arrive late, trains arrive late, and planes arrive late. Trains arrive late, airplanes arrive late, airplanes arrive late, trains arrive late, and planes arrive late. Trains arrive late, airplanes arrive late, and airplanes arrive late. Trains arrive late, airplanes arrive late, and trains arrive late. Trains arrive late, and airplanes arrive late. They arrive late on time, airplanes arrive late on time, airplanes arrive late on time, airplanes arrive late on time, airplanes arrive late on time, airplanes arrive late on-time, airplanes arrive late on-time.</s>\n",
      "########\n",
      "*******\n",
      "question: Where is glue well used?\n",
      "answer: art room\n",
      "choices: ['desk drawer', 'cabinet', 'art room', 'school', 'closed container']\n",
      "common expl list: ['Glue is used in art projects, and art rooms are where art projects are done.']\n"
     ]
    },
    {
     "name": "stderr",
     "output_type": "stream",
     "text": [
      "\r",
      " 10%|█████████████████                                                                                                                                                    | 102/986 [06:43<59:58,  4.07s/it]"
     ]
    },
    {
     "name": "stdout",
     "output_type": "stream",
     "text": [
      "generated explanation: <pad> <extra_id_0> Glue is used in art rooms, which are often used to create a decorative effect. It is also used in decorative items such as vases, books, and other spaces. It is also used in the kitchen, and in the kitchen, where it is used to make a statement of the room. It is also used in many other places, such as in the kitchen, where it is used to create a decorative effect. It is also used in the bathroom, which is often used to make a room look more inviting and inviting.</s>\n",
      "########\n",
      "*******\n",
      "question: Billy loves science, history, and art but isn't very creative.  When he was visiting the museum, he felt a great deal of what emotion?\n",
      "answer: enjoyment\n",
      "choices: ['inspiration', 'fulfillment', 'wonder', 'boredom', 'enjoyment']\n",
      "common expl list: ['At a museum, Billy uses history to find science, and science to find art; by combining different loves, going to the museum has been fulfilling. To achieve fulfilment, Billy felt an enjoyable feeling.', 'When Billy visited a museum which had a lot of fields of interest, Billy enjoyed himself while he learned from the experience at the same time.']\n"
     ]
    },
    {
     "name": "stderr",
     "output_type": "stream",
     "text": [
      "\r",
      " 10%|█████████████████▏                                                                                                                                                   | 103/986 [06:44<48:42,  3.31s/it]"
     ]
    },
    {
     "name": "stdout",
     "output_type": "stream",
     "text": [
      "generated explanation: <pad> <extra_id_0> Billy loves science, history, and art but isn't very creative. When he was visiting the museum, he felt a great deal of enjoyment. He felt a great deal of excitement and joy. When he was visiting the museum, he felt a great deal of excitement and joy. He felt a great deal of excitement and joy in the museum. He also felt a great sense of accomplishment and accomplishment. He felt a great sense of accomplishment and pride in the museum. He also felt a sense of accomplishment.</s>\n",
      "########\n",
      "*******\n",
      "question: Sarah did much hard work, even though she was on vacation.  Her mother told her off and said what?\n",
      "answer: do nothing\n",
      "choices: ['unemployment', 'say something', 'earn money', 'do nothing', 'relaxation']\n",
      "common expl list: ['If one is on vacation, one is supposed to \"do nothing\" as opposed to working - the \"something\" that is discouraged. Many physically hard jobs involve getting the hands dirty.']\n"
     ]
    },
    {
     "name": "stderr",
     "output_type": "stream",
     "text": [
      "\r",
      " 11%|█████████████████▍                                                                                                                                                   | 104/986 [06:46<40:35,  2.76s/it]"
     ]
    },
    {
     "name": "stdout",
     "output_type": "stream",
     "text": [
      "generated explanation: <pad> <extra_id_0> Sarah did nothing when she was on vacation. She was on vacation for a few days, and she was on a vacation to enjoy the company of friends and family. She was also on vacation to work, study and enjoy the company. She was also on vacation to see her family and friends. She was also on vacation to see her mother, who was also on vacation. She was on vacation for the day. She was on vacation to work and enjoy the company of friends and family. Sarah did nothing for her mother, who was on vacation.</s>\n",
      "########\n",
      "*******\n",
      "question: James walked barefoot on a something that was made hot by sunshine. What is he probably walking on?\n",
      "answer: street\n",
      "choices: ['desktop', 'summer', 'moon', 'meadow', 'street']\n",
      "common expl list: ['Because of the intense heat of summer, sunlight reflects off the pavement, causing a hot sensation when one walks barefoot in the summer.']\n"
     ]
    },
    {
     "name": "stderr",
     "output_type": "stream",
     "text": [
      "\r",
      " 11%|█████████████████▌                                                                                                                                                   | 105/986 [06:46<30:07,  2.05s/it]"
     ]
    },
    {
     "name": "stdout",
     "output_type": "stream",
     "text": [
      "generated explanation: <pad> <extra_id_0> James probably walking on a street that was made hot by sunshine. James probably walking on a street that was made hot by sunshine.</s>\n",
      "########\n",
      "*******\n",
      "question: He grew tired of standing in the kitchen his whole shift, where was he?\n",
      "answer: restaurant\n",
      "choices: [\"neighbor's house\", \"friend's house\", 'restaurant', 'jail', 'fraternity house']\n",
      "common expl list: ['One can get tired standing in a kitchen if one is on their feet all day; kitchens are typically in restaurants.', 'A restaurant would have a kitchen, where you would be required to stand while your shift is in session.']\n"
     ]
    },
    {
     "name": "stderr",
     "output_type": "stream",
     "text": [
      "\r",
      " 11%|█████████████████▌                                                                                                                                                 | 106/986 [07:05<1:45:14,  7.18s/it]"
     ]
    },
    {
     "name": "stdout",
     "output_type": "stream",
     "text": [
      "generated explanation: <pad> <extra_id_0> He grew tired standing in the kitchen his whole shift, where was he? Restaurants are places where a person can work, and they can work in a variety of different environments. For example, a restaurant is a place where a person can work in a restaurant, and a person can work in a restaurant, or work in a restaurant. Restaurants are places where people can work in a restaurant, or work in a restaurant, and they can work in a variety of ways. Restaurants can work in the kitchen, and restaurants can work in the restaurant, and he can work in the kitchen, and restaurants can work in a restaurant is a restaurant is a restaurant is a restaurant is a restaurant is a restaurant is a restaurant is a restaurant is a restaurant is a restaurant is a restaurant is a restaurant, and it is a restaurant is a restaurant, it is a restaurant that serves a restaurant. Restaurants can serve a restaurant. Restaurants can be a restaurant is a restaurant. Restaurants can be a restaurant is a restaurant. Restaurants that serve a restaurant is a restaurant. Restaurants can serve a restaurant. The restaurant is a restaurant is a restaurant. Restaurants can serve a restaurant. Restaurants can serve a restaurant is a restaurant is a restaurant is a restaurant serves a restaurant. The restaurant is a restaurant is a restaurant is a restaurant is a restaurant is a restaurant is a restaurant is a restaurant is a restaurant is a restaurant is a restaurant is a restaurant is a restaurant is a restaurant is a restaurant is a restaurant is a restaurant is a restaurant is a restaurant is a restaurant is a restaurant is a restaurant is a restaurant is a restaurant is a restaurant is a restaurant is a restaurant is a restaurant is a restaurant is a restaurant is a restaurant is a restaurant is a restaurant is a restaurant is a restaurant is a restaurant is a restaurant is a restaurant serves restaurant serves a restaurant serves a restaurant is a restaurant is a restaurant is a restaurant is</s>\n",
      "########\n",
      "*******\n",
      "question: The children play cards often, but they make their own rules because they can't what the originals?\n",
      "answer: remember\n",
      "choices: ['bid', 'concentrate', 'winning', 'count', 'remember']\n",
      "common expl list: ['Children often play games that are similar to those played by adults, such as card games, but with slight variations to how they are played. This is most likely because children cannot remember the original rules of the card games. Smiling is a common expression', \"The children are making up their own rules because they can't remember the original rules.\"]\n"
     ]
    },
    {
     "name": "stderr",
     "output_type": "stream",
     "text": [
      "\r",
      " 11%|█████████████████▋                                                                                                                                                 | 107/986 [07:10<1:37:09,  6.63s/it]"
     ]
    },
    {
     "name": "stdout",
     "output_type": "stream",
     "text": [
      "generated explanation: <pad> <extra_id_0> The children play cards often because they are afraid of being played with cards. The children play cards often because they are afraid of being played with a card. The children play cards often because they are afraid of being played with. The children play cards often because they are afraid of being played with. The children play cards because they are afraid of being able to play with others. This is because they are afraid to play with their friends and family. The children play cards often because they are afraid of being robbed of their own money. They play cards to keep their own rules because they are afraid of being played with cards. They also have to be robbed of the cards and are afraid of being robbed of their own cards and their own rules. The children play cards are robbed of their own rules because they are afraid of being robbed of their own rules because they are not aware of their own rules because they are afraid of being robbed of their own rules because they are afraid to be robbed of their own rules because they are afraid of being robbed of their own rules because they are afraid of being robrobrobated by robrobrobrober</s>\n",
      "########\n",
      "*******\n",
      "question: On an average day, going to work could make you feel like what?\n",
      "answer: feeling good\n",
      "choices: ['feeling good', 'anger', 'revelation', 'being fired', 'tardiness']\n",
      "common expl list: ['To fulfill a life purpose and to gain fulfillment, people often undertake gainful employment. Thus, the people who experience this data point might experience feelings of accomplishment/fulfillment.', 'People sometimes feel pride and accomplishment when they get things done at the office.']\n"
     ]
    },
    {
     "name": "stderr",
     "output_type": "stream",
     "text": [
      "\r",
      " 11%|█████████████████▊                                                                                                                                                 | 108/986 [07:12<1:15:26,  5.16s/it]"
     ]
    },
    {
     "name": "stdout",
     "output_type": "stream",
     "text": [
      "generated explanation: <pad> <extra_id_0> Working at home can make you feel like you are doing something important. It can also make you feel like you are doing something important. Working at work can make you feel like you are doing something important. Working at home can make you feel good. It can also make you feel good about yourself and your work. This is a common habit that people do not have to do to work. Working at work can make you feel good about yourself and your life. It can also make you feel like you are doing something important. Working at work can also make you feel good about the day. It can make you feel good about your body.</s>\n",
      "########\n",
      "*******\n",
      "question: What country has the carpathians and is the furthest in the direction of the side that won the U.S. Civil War?\n",
      "answer: poland\n",
      "choices: ['slovakia', 'slovenia', 'poland', 'ukraine', 'romania']\n",
      "common expl list: ['Poland is the only country that has the carpathian mountains, and it was the most distant in the direction from the side that won the U.S. Civil War (the North).']\n"
     ]
    },
    {
     "name": "stderr",
     "output_type": "stream",
     "text": [
      "\r",
      " 11%|██████████████████                                                                                                                                                 | 109/986 [07:17<1:13:50,  5.05s/it]"
     ]
    },
    {
     "name": "stdout",
     "output_type": "stream",
     "text": [
      "generated explanation: <pad> <extra_id_0> Poland is the country that won the U.S. Civil War. It is the carpathians that have the furthest in the direction that the United States is heading. The carpathians are the furthest in the direction that the United States is heading. The carpathians are the countries that are the furthest in the direction that the United States is heading. The carpathians are the carpathians that are the furthest in the direction that the U.S. the carpathians are the furthest in the direction of the most in the direction of the most in the direction of the most in the direction of the carpathians are the furthest in the direction that the carpathians are the furthest in the direction that the carpathians are the furthest in the direction that the carpathians are the furthest in the direction of the country in the direction of the direction of the carpathians are the furthest in the direction of the country in the direction of the most in the direction of the</s>\n",
      "########\n",
      "*******\n",
      "question: What would happen if you want to win a game?\n",
      "answer: competitiveness\n",
      "choices: ['competitiveness', 'satisfaction', 'learning', 'injuries', 'play']\n",
      "common expl list: ['To win a game, you must be competitive.', 'If you want to win a game, you will try put your best effort to take your chances at winning over those of your opponents.', 'After playing a game, a person would be likely compelled to win the game becasue they want a feeling of satisfaction from winning the game. In order to win, a person would need to be competitive.', 'Competitive athletes would want to win their games, whatever the cost; this desire to win leads to competitiveness and creates the desire to win over even long periods of time; it also often leads to brutal physical play --- such as by causing injuries to opposing r', \"Victory in a game requires one to make a maximum effort, and peoples' desire to win has to be rather competitive.\"]\n"
     ]
    },
    {
     "name": "stderr",
     "output_type": "stream",
     "text": [
      "\r",
      " 11%|██████████████████▍                                                                                                                                                  | 110/986 [07:18<54:54,  3.76s/it]"
     ]
    },
    {
     "name": "stdout",
     "output_type": "stream",
     "text": [
      "generated explanation: <pad> <extra_id_0> Competitiveness is a form of physical and mental fitness that can be used to improve your game. Competitiveness is also a form of competition that can be used to win games. It can be used to improve the quality of a team, player, or player.</s>\n",
      "########\n",
      "*******\n",
      "question: Where should watch to avoid being pinched by a crab?\n",
      "answer: sandy beach\n",
      "choices: ['eastern coast', 'sandy beach', 'fish market', 'north carolina', 'sand dunes']\n",
      "common expl list: ['Crabs live in sandy areas, and people who visit sandy beaches are likely to be pinched by crabs.', 'It is more common to find crabs living in sandy beach areas.']\n"
     ]
    },
    {
     "name": "stderr",
     "output_type": "stream",
     "text": [
      "\r",
      " 11%|██████████████████▎                                                                                                                                                | 111/986 [07:25<1:08:52,  4.72s/it]"
     ]
    },
    {
     "name": "stdout",
     "output_type": "stream",
     "text": [
      "generated explanation: <pad> <extra_id_0> A crab is a crab that is a natural food for the crabs, so it is a good idea to watch closely to avoid being pinched by a crab on the beach. A crab is a food that is eaten on the beach and is a great way to avoid being pinched by a crab. It is also a great way to avoid being pinched by a crab. It is also a great way to avoid being pinched by a crab, as it is a great way to avoid being pinched by a crab's bite on the beach. It is also a good idea to watch carefully and to watch carefully to avoid being pinched by a crab's bites. The crab's bites. The crabs. The crabs are a great way to avoid being pinched by the crab's bites. The crab's bites that are a crab's claws and to avoid being pinched by a crab's bites and to avoid being pinched by a crab's bites and to avoid being pinched by a crab's bites and to prevent being pinched by a crab's bites and to avoid being pinched by a crab's a crab's bites and to avoid being pinched by a crab's bites and to prevent being pinched.</s>\n",
      "########\n",
      "*******\n",
      "question: What is a large group of human beings?\n",
      "answer: civilisation\n",
      "choices: ['an infestation', 'civilisation', 'homes', 'graveyard', 'spacecraft']\n",
      "common expl list: ['Civilisation is generally used to refer to large populations of humans living together in a single area, responding to collective needs.']\n"
     ]
    },
    {
     "name": "stderr",
     "output_type": "stream",
     "text": [
      "\r",
      " 11%|██████████████████▌                                                                                                                                                | 112/986 [07:39<1:51:07,  7.63s/it]"
     ]
    },
    {
     "name": "stdout",
     "output_type": "stream",
     "text": [
      "generated explanation: <pad> <extra_id_0> A large group of human beings is a large group of humans that are a large group of people. They are called civilisation, or civilisation in general, which is a group of people who are a large group of people. This group of people is called a large group of people, and it is called a civilisation, or a collective of people. This group of people is called a human being, and they are called a human being. This group of people is called a civilisation, or civilisation is a large group of people. This group of peoples are also called a large group of humans. This group of peoples, or a large group of people, and are a large group of people, and the group of peoples, and the group of people, and the group of people is the group of human being, and the group of human beings, and the group of people, and the group of people, or groups of people, or groups of people, called the group of people, or groups of people, or groups of people, or groups of people, and the group of people, or group of people, and thus, the group of people, the group of people, and the group of people, civil society, civil society, civilisation, civilisation, civil society, civilisation, civil society, civil society, civilisation, civil society, civil society, civil society, civilisation, civil society, civil society, civil society, civil society, civil society, civilisation, civilisation, civilisation, civilisation, civilisation, civilisation, civilisation, civilisation, civilisation, civilisation, civilisation, civilisation, civilisation, civilisation, civilisation, civilization, civilisation, civilisation, civilisation, civilisation, civilisation, civilisation, civilisation, civilisation, and civilisation, civilisation, civilisation, civilisation, civilisation, civilisation, human groups, human groups, civilisation, civilisation, civilisation, civilisation, civilisation, civilisation, civilisation, civilisation, civilisation, civilisation, civilisation, civilisation, civilisation, civilisation, civilisation, human beings, civilisation, human beings, civilization, civilisation, civilisation, civilisation, civilisation, human beings, human beings, civilisation, human beings, civilisation, civilisation, human\n",
      "########\n",
      "*******\n",
      "question: What  is likely to happen to ice in the sun?\n",
      "answer: become water\n",
      "choices: ['cool water', 'cool drink', 'cool off', 'nothing', 'become water']\n",
      "common expl list: ['because hot melts cold, ice will melt if kept in the sun.', 'When ice is exposed to the sun, it melts, becoming water.']\n"
     ]
    },
    {
     "name": "stderr",
     "output_type": "stream",
     "text": [
      "\r",
      " 11%|██████████████████▋                                                                                                                                                | 113/986 [07:58<2:40:48, 11.05s/it]"
     ]
    },
    {
     "name": "stdout",
     "output_type": "stream",
     "text": [
      "generated explanation: <pad> <extra_id_0> ice will become more watery in the summer, resulting in more ice. The sun will also become more polarized, resulting in more ice and ice. The sun will also become warmer, resulting in more water. The sun will also become more polarized, which will make it easier to get used to the sun. The sun will also become more polar, which will cause the sun to become more icey in the winter. The sun will also become more polarized, which will make it more ice will become more ice in the winter. The sun will also become more ice, which will increase the temperature of the sun, which will also increase the temperature of the sun. The sun will also increase the amount of water, which will also increase the temperature of the sun's surface and thus, the ice will become more ice in the sun's surface to become more ice will also increase the temperature of the sun. The sun will also increase the temperature of the sun to make it more difficult to make it more difficult to make it more difficult to absorb the heat of the sun will become ice will also increase the temperature of water, making it more difficult to absorb water and make it more difficult to absorb water and to produce water and thus make it more difficult to absorb water and ice and water and ice and water to absorb water to absorb water and ice to absorb ice and ice to absorb ice and ice and ice and ice and ice and ice and ice and ice and ice and ice and water to absorb ice and water to absorb ice and ice and ice and ice and ice and ice and ice and ice and ice and become water to absorb ice and ice and ice and ice and ice and ice and ice and ice and water to ice and ice and ice and ice and ice and ice and ice and ice and ice and ice and ice and ice and ice and ice and ice and ice and ice and ice and ice and ice and ice and ice and ice and ice and ice and ice and ice and ice and ice and ice and ice and water and ice and ice and ice and ice and ice and\n",
      "########\n",
      "*******\n",
      "question: Where can travellers pull off the road to stretch their legs?\n",
      "answer: rest area\n",
      "choices: ['rest area', 'airport', 'train station', 'come home', 'bus depot']\n",
      "common expl list: ['Rest areas are places where people can pull off the road to stretch their legs, and they are often located near gas stations, which are frequented by travellers.', 'Rest areas are publicly provided spaces for drivers to get out of their cars for a break. Train stations, bus depots, come home, and airports are all places where one might catch a bus, train, taxi, or plane, or have arrived', 'Rest areas generally allow travelers to spend time away from the roads, which are generally connecting points to large cities and particular highway names.']\n"
     ]
    },
    {
     "name": "stderr",
     "output_type": "stream",
     "text": [
      "\r",
      " 12%|██████████████████▊                                                                                                                                                | 114/986 [08:00<1:59:57,  8.25s/it]"
     ]
    },
    {
     "name": "stdout",
     "output_type": "stream",
     "text": [
      "generated explanation: <pad> <extra_id_0> Rest areas are places where travellers can pull off the road to stretch their legs. This is because they can stretch their legs in a variety of ways. Having a rest area is a great way to stretch their legs. Having a rest area is a great way to stretch legs. It is also a great way to stretch your legs. It is also a great way to stretch your legs. It is also a great way to stretch your legs. It is also a great way to stretch your legs. Using a rest area is a great way to stretch your legs.</s>\n",
      "########\n",
      "*******\n",
      "question: A poor family has no decorations in December, what would make a great gift?\n",
      "answer: christmas tree\n",
      "choices: ['food', 'specialty store', 'christmas tree', 'department store', 'christmas stocking']\n",
      "common expl list: ['The family is poor, so we might assume that they have nothing for decoration for their Christmas season. To help fix this, a Christmas tree would be the greatest gift.', 'In December, most families tend to put up christmas decorations. A christmas tree would make a good gift for a poor family.', 'A christmas tree is a traditional decoration for christmas.']\n"
     ]
    },
    {
     "name": "stderr",
     "output_type": "stream",
     "text": [
      "\r",
      " 12%|███████████████████                                                                                                                                                | 115/986 [08:07<1:53:13,  7.80s/it]"
     ]
    },
    {
     "name": "stdout",
     "output_type": "stream",
     "text": [
      "generated explanation: <pad> <extra_id_0> A poor family has no decorations in December, what would make a great gift? A christmas tree is a great gift for a poor family that has no decorations in December. A christmas tree is a great gift for a family who has no decorations. A christmas tree is a great gift for a family that has no decorations in December. A christmas tree is a great gift for a family who has no decorations. A christmas tree is a great gift for a family. It is a great gift for a family has no decorations in December. A family has no decorations in December. A family has no decorations in December, which would make a great gift for a family of children, and a family has no decorations in December. A Christmas tree is a great gift for a family's family to make a great holiday gift for a family of children, and it would make a great gift for a family to make a Christmas tree is a great gift for a family of the family to make a great gift for a family to make a Christmas tree is a tree is a great gift for a christmas tree is a great gift for a family to make a family</s>\n",
      "########\n",
      "*******\n",
      "question: Where would you buy jeans in a place with a large number of indoor merchants?\n",
      "answer: shopping mall\n",
      "choices: ['shopping mall', 'laundromat', 'hospital', 'clothing store', 'thrift store']\n",
      "common expl list: ['Shopping malls usually contain a large variety of stores, including stores that sell clothes and jeans.', 'Shopping malls often have a large number of stores, including clothing stores.', 'Since malls (or indoor shopping centers in general) contain numerous merchants, including clothing stores, you could purchase jeans in one such store.']\n"
     ]
    },
    {
     "name": "stderr",
     "output_type": "stream",
     "text": [
      "\r",
      " 12%|███████████████████▏                                                                                                                                               | 116/986 [08:11<1:40:32,  6.93s/it]"
     ]
    },
    {
     "name": "stdout",
     "output_type": "stream",
     "text": [
      "generated explanation: <pad> <extra_id_0> A shopping mall is a place where people buy jeans. The mall is a place that is a great place to buy jeans. The malls are often crowded and busy, making it a great place to shop. The mall is also a great place to buy jeans in a mall. The malls are also great places to buy jeans. The malls are also great places to buy jeans. The malls are also great places to buy jeans. The malls are also great places to buy jeans, as they are more accessible to the outdoor, as they are more popular amongst the malls. The malls are also great places to buy jeans in the malls, as they are more popular amongst the mall, and also offers a great place to buy jeans in a mall, as they are more popular amongst the mall, as they are more popular among the mall, as they are also more popular amongst the mall, as they are more popular amongst the most popular amongst the most popular sellers of jeans.</s>\n",
      "########\n",
      "*******\n",
      "question: If I wanted to get some oxygen, what will I get it from?\n",
      "answer: air\n",
      "choices: ['the sky', 'air', 'earth', 'space shuttle', 'water']\n",
      "common expl list: ['Oxygen is found in the air.']\n"
     ]
    },
    {
     "name": "stderr",
     "output_type": "stream",
     "text": [
      "\r",
      " 12%|███████████████████▎                                                                                                                                               | 117/986 [08:13<1:16:53,  5.31s/it]"
     ]
    },
    {
     "name": "stdout",
     "output_type": "stream",
     "text": [
      "generated explanation: <pad> <extra_id_0> I am a fan of air and would like to get some oxygen from it. The air is a source of oxygen and oxygen, which is what oxygen is made from. The air is also used to make a variety of other products that help to provide oxygen to the body. The air is also used to make a variety of other products, such as coffee, tea, and coffee. The air is also used to help to provide oxygen to the body. The air is also used to create a atmosphere that helps to provide oxygen to the body.</s>\n",
      "########\n",
      "*******\n",
      "question: What happens after having food too much?\n",
      "answer: getting fat\n",
      "choices: ['being full', 'laziness', 'weight gain', 'getting fat', 'will not starve']\n",
      "common expl list: ['People will become fat, and even obese from eating too much food.', 'Eating too much food causes one to become obese.', 'Eating too much food causes one to gain weight, and thus become fat.']\n"
     ]
    },
    {
     "name": "stderr",
     "output_type": "stream",
     "text": [
      "\r",
      " 12%|███████████████████▌                                                                                                                                               | 118/986 [08:15<1:00:21,  4.17s/it]"
     ]
    },
    {
     "name": "stdout",
     "output_type": "stream",
     "text": [
      "generated explanation: <pad> <extra_id_0> After having food too much, you'll get fat. Fat is a common dietary characteristic of many people. Fat is a natural and natural way to get rid of fat. Fat is a common dietary characteristic of many people. It is also a characteristic of many people that are overweight or obese. Fat is a common cause of weight gain and weight gain. This is because fat is a natural way to get fat. It is also a great way to reduce your fat intake. It is also a common cause of getting fat.</s>\n",
      "########\n",
      "*******\n",
      "question: It was the first time they had met their new niece, it was good to have everybody together at the annual what?\n",
      "answer: family reunion\n",
      "choices: [\"brother's house\", 'family picture book', 'family tree', 'family reunion', 'book']\n",
      "common expl list: ['A family reunion is called a family reunion because this is where all of the family members gather for the re-union.']\n"
     ]
    },
    {
     "name": "stderr",
     "output_type": "stream",
     "text": [
      "\r",
      " 12%|███████████████████▋                                                                                                                                               | 119/986 [08:22<1:13:54,  5.11s/it]"
     ]
    },
    {
     "name": "stdout",
     "output_type": "stream",
     "text": [
      "generated explanation: <pad> <extra_id_0> The family reunion was a great way to celebrate the anniversary of their new niece. The family reunion was a great way to celebrate the special day of their lives. The reunion was a great way to celebrate the milestone of their lives. The family reunion was a great way to share memories of their lives and their lives. During the family reunion, the family reunion was a great way to celebrate the milestone of their lives. The family was able to enjoy the special moments of the day together, as they shared the same values and values of family reunions. The reunion was a great way to celebrate the milestone of a great way to celebrate the milestones of their lives. The family reunion was a great way to celebrate their new niece, her newfound friendship and friendship and friendship that they shared. It was a great way to celebrate the milestone of a great reunion that year, as it was a great way to celebrate the milestone of a family reunion, and it was a great way to celebrate their new family reunion, and to share the excitement and celebration of their new family reunion. Family reunions are a great way to celebrate family reunions that are a great way to celebrate their new family.</s>\n",
      "########\n",
      "*******\n",
      "question: If you're expressing yourself in a public forum, what may you experience?\n",
      "answer: stage fright\n",
      "choices: ['danger', 'embarrassment', 'stage fright', 'getting arrested', 'blank stares']\n",
      "common expl list: ['If you are expressing yourself in a public forum, you may experience stage fright, which is the fear of being embarrassed in front of a large audience.', 'A common example of expressing oneself in public is on stage. Members of an audience may stare and become bored, and at worst they may hiss or boo.', 'Stage fright is the feeling of embarrassment or nervousness at the thought of being in front of people, and being on stage for a performance is a good example of a place where one often experiences stage fright. In such a case, their performance might be']\n"
     ]
    },
    {
     "name": "stderr",
     "output_type": "stream",
     "text": [
      "\r",
      " 12%|███████████████████▊                                                                                                                                               | 120/986 [08:27<1:14:22,  5.15s/it]"
     ]
    },
    {
     "name": "stdout",
     "output_type": "stream",
     "text": [
      "generated explanation: <pad> <extra_id_0> If you're in a public forum, you may experience stage fright. Stage fright is a fear of speaking out in a public forum. It can be a form of communication that can be used to express your feelings and feelings. It can be a form of communication that can be used to express your feelings in a public forum. It can be a form of communication that can be used to express yourself in a public forum. It can be a form of communication that can be used to express your feelings in a public forum, such as a public forum, and it can also be used to express your feelings in a public forum, and it can be used to express your feelings in a public forum, which can be used to express your feelings in a public forum, such as a public forum, which can be used to express your feelings in a way that may be used to express your feelings in a way that may be used to express your feelings in a way that you may be used to express</s>\n",
      "########\n",
      "*******\n",
      "question: He was eating too much while no exercising enough, what did he suffer as a result?\n",
      "answer: gain weight\n",
      "choices: ['hungry', 'gas', 'obesity', 'gain weight', 'feeling full']\n",
      "common expl list: ['If you eat more than you burn, you gain weight.', \"If you eat too much and don't exercise enough, you will gain weight.\", 'Excessive food consumption leads to accumulation of fat, which then results in a higher body weight, i.e., weight gain.']\n"
     ]
    },
    {
     "name": "stderr",
     "output_type": "stream",
     "text": [
      "\r",
      " 12%|████████████████████▏                                                                                                                                                | 121/986 [08:29<59:01,  4.09s/it]"
     ]
    },
    {
     "name": "stdout",
     "output_type": "stream",
     "text": [
      "generated explanation: <pad> <extra_id_0> He was eating too much while no exercising enough, what did he suffer as a result? He was eating too much while no exercising enough, what did he suffer as a result? He was eating too much while no exercising enough, what did he suffer as a result of this? He was eating too much while no exercising enough, what did he suffer as a result? He was eating too much while no exercising enough, what did he suffer as a result? He was eating too much while no exercising enough,</s>\n",
      "########\n",
      "*******\n",
      "question: Randy was not doing housework.   His wife was raising two children, and this only increased her workload. It put her under a lot of stress.  What might this lead to?\n",
      "answer: arguments\n",
      "choices: ['asthma', 'more', 'boredom', 'headache', 'arguments']\n",
      "common expl list: ['Stress is often related to family life. Being under stress, the wife might verbally lash out at her husband, which could potentially lead to arguments']\n"
     ]
    },
    {
     "name": "stderr",
     "output_type": "stream",
     "text": [
      "\r",
      " 12%|████████████████████▍                                                                                                                                                | 122/986 [08:31<49:18,  3.42s/it]"
     ]
    },
    {
     "name": "stdout",
     "output_type": "stream",
     "text": [
      "generated explanation: <pad> <extra_id_0> Randy was not doing housework. It put her under a lot of stress. It also increased her workload. It also increased her stress level. It also increased her stress levels. It also increased her stress levels. It also increased her stress levels. It also increased her stress levels. It also increased her stress levels. It also increased her workload. This increased her stress levels. It also increased her stress levels. It also increased her stress levels. This only increased her workload, and it also increased her stress levels. This increased her stress levels. It also increased her stress levels.</s>\n",
      "########\n",
      "*******\n",
      "question: Where can you learn about a ferret with special abilities far beyond normal ferrets?\n",
      "answer: comic book\n",
      "choices: ['comic book', 'out of doors', 'great britain', 'redwall', 'north carolina']\n",
      "common expl list: ['ferrets are lovable pets that occasionally pop up in comic or animated shows and movies. Occasionally a ferret is rodent, but more often they are the companion of a hero.']\n"
     ]
    },
    {
     "name": "stderr",
     "output_type": "stream",
     "text": [
      "\r",
      " 12%|████████████████████▎                                                                                                                                              | 123/986 [08:57<2:26:38, 10.19s/it]"
     ]
    },
    {
     "name": "stdout",
     "output_type": "stream",
     "text": [
      "generated explanation: <pad> <extra_id_0> A ferret with special abilities is a character with special abilities that are not found in normal ferrets. They have special abilities that are not found in normal ferrets. They are also known to have special abilities, such as special abilities, such as agility, agility, and endurance. They are also known to have special abilities, such as agility, agility, and strength. They are also known to have special abilities that are not found in comic books. They are also known to have special abilities that are not found in comic books. They are also known as \"special abilities\" when compared to other ferrets. They are also known to have special abilities that aren't known to be able to use to make a comic book character. This makes them a ferrets with special abilities, and are also known to be able to use special abilities, and aren't normally used to other animals, and are often used to make them special abilities that aren't normally used to be used to make them use to make them to be able to use to other animals. This can be used to make them more than just used to make them more than normal ferrets, this allows them to be used to make them to make them more than normal, so they can be used to make them more useful for special for special abilities, and they can be used to make them a ferrets. They are also used to make them a ferrets with special abilities, which they can be used to make them a ferrets, and can be used to make them a ferrets. They can also be used to make them a part of the animals that they can be used to make them a part of the same part of the same part of the same part of the same part of the same part of the same part of the same part of the same part of the same abilities. They can also be used to be used to make them to be used to make them to make them more likely to make them more likely to make them more likely to make them more likely to make them more likely to make them more likely to make them more likely to make them more likely to make them more likely to make them more likely to make them more likely to make them more likely to be a part of the same abilities. They also make ferrets. They are also more likely\n",
      "########\n",
      "*******\n",
      "question: When people have guests over, what do they often do for their guests?\n",
      "answer: cook food\n",
      "choices: ['talk to each other', 'learn from each other', 'demand justice', 'cook food', 'share food']\n",
      "common expl list: ['People often cook food for their guests.', \"When people have guests over, it's common for them to make food for their guests.\", \"People who have guests (guests of any kind) over tend to cook them food. The food can either be pre-cooked, and ready to be served upon the guest's arrival, or consumed while the two of them have a conversation.\", \"It's common to cook food for guests, which can feed everyone.\", \"People often prepare and share food because it's a way to welcome and appreciate each other.\"]\n"
     ]
    },
    {
     "name": "stderr",
     "output_type": "stream",
     "text": [
      "\r",
      " 13%|████████████████████▍                                                                                                                                              | 124/986 [09:09<2:35:25, 10.82s/it]"
     ]
    },
    {
     "name": "stdout",
     "output_type": "stream",
     "text": [
      "generated explanation: <pad> <extra_id_0> Cook food for guests<extra_id_1> Cook food for guests to prepare for their guests before serving it to their guests. Cook food for guests to prepare for their guests. They cook food for their guests to prepare for their guests. Cook food for guests to prepare for their guests. Cook food is a great way to prepare food for guests to enjoy. Cook food is a great way to prepare food for guests to enjoy. Cook food is a great way to prepare food for guests to enjoy. Cook food is a great way to prepare food for guests to enjoy their stay. Cook food is a great way to prepare food for guests to enjoy. Cooke food is a great way to prepare food is the most important part of the meal. Cook food is a great way to prepare food is cooked food is a good meal. Cook food is a great way to prepare food that is a great way to prepare food for guests to enjoy. Cook food is a great way to prepare food is a good way to prepare food is cooking is a great way to prepare food is cooking is cooking is cooking is cooking is cooking is preparing food is cooking is preparing food is cooking is cooking is cooking is cooking is cooking is cooking is cooking is cooking food is cooking is cooking is cooking is cooking is cooking is cooking is cooking is preparing food is cooking is cooking is cooking is cooking is preparing food is cooking is cooking is cooking is cooking is cooking is cooking meals are cooking is cooking is cooking is cooking is cooking cooking is cooking cooking food preparation preparation is cooking food preparations cooking is cooking is cooking is cooking food preparation</s>\n",
      "########\n",
      "*******\n",
      "question: Talking to someone is pointless if they're doing what?\n",
      "answer: not listening\n",
      "choices: ['dry mouth', 'whispering', 'being heard', 'eye contact', 'not listening']\n",
      "common expl list: ['People who are not listening to you will obviously not be able to understand your communication.', 'To be engaged in a conversation--particularly a one-on-one conversation, both people must be listening attentively.']\n"
     ]
    },
    {
     "name": "stderr",
     "output_type": "stream",
     "text": [
      "\r",
      " 13%|████████████████████▋                                                                                                                                              | 125/986 [09:11<1:58:57,  8.29s/it]"
     ]
    },
    {
     "name": "stdout",
     "output_type": "stream",
     "text": [
      "generated explanation: <pad> <extra_id_0> Talking to someone is pointless if they're doing what? Then, it's not pointless to talk to someone. This is because it's not a good thing. It's important to be able to understand that listening is important. It's important to be aware of the consequences of listening to someone. Also, it's important to be aware of the consequences of talking to someone. It's important to understand that it is important to listen to them. Similarly, listening is important if you're not listening isn't listening is important to listen to them is important to listen to them, and it's important to be aware of the consequences of listening is important.</s>\n",
      "########\n",
      "*******\n",
      "question: If you are enjoying sunshine on the beach, what do you likely have views of?\n",
      "answer: sea\n",
      "choices: ['windowsill', 'sunbathers', 'disneyland', 'sea', 'summer']\n",
      "common expl list: ['To sunbathe, one would likely be found on a beach, where one would likely see the sea before anything else.', \"The beach is a place where people go to enjoy the sun, and so it's likely that the beach would have views of the sea.\", 'Seashores usually have views of the water (i.e., the \"sea\").']\n"
     ]
    },
    {
     "name": "stderr",
     "output_type": "stream",
     "text": [
      "\r",
      " 13%|████████████████████▊                                                                                                                                              | 126/986 [09:13<1:31:45,  6.40s/it]"
     ]
    },
    {
     "name": "stdout",
     "output_type": "stream",
     "text": [
      "generated explanation: <pad> <extra_id_0> The sea is a great place to relax and enjoy the sun. It is also a great place to relax and enjoy the sun. It is also a great place to enjoy the sun. The sea is also a great place to enjoy the sun. The sea is also a great place to relax and enjoy the sun. It is also a great place to enjoy the sun because it is a great place to enjoy the sun. It is also a great place to enjoy the sun and enjoy the sun. The view is a great place to enjoy the sun can be a great place to relax and enjoy the sun is a great place to enjoy the sea.</s>\n",
      "########\n",
      "*******\n",
      "question: What does an actor do while acting?\n",
      "answer: pretend\n",
      "choices: ['branch out', 'eat curry', 'wear costume', 'pretend', 'sing songs']\n",
      "common expl list: ['Actors pretend certain things. While acting, they might pretend to be in a different location by going somewhere close to a stage feed. Actors might also pretend to possess particular materials while on stage by carrying props.']\n"
     ]
    },
    {
     "name": "stderr",
     "output_type": "stream",
     "text": [
      "\r",
      " 13%|████████████████████▉                                                                                                                                              | 127/986 [09:15<1:12:39,  5.07s/it]"
     ]
    },
    {
     "name": "stdout",
     "output_type": "stream",
     "text": [
      "generated explanation: <pad> <extra_id_0> Acting is a form of acting that requires a strong sense of physicality and physical ability. Acting is a form of acting that requires a strong sense of physical physicality and mental stability. This is a form of acting that requires a strong sense of physical strength and mental stability. It requires a strong sense of physical strength and mental stability. This is the most common way for an actor to act while acting, and is often used to create a scene or scene. This is also a form of acting that requires the actor must also be a strong physical strength, and can also be used to perform.</s>\n",
      "########\n",
      "*******\n",
      "question: Where is a ring binder likely to contain budgets?\n",
      "answer: office\n",
      "choices: ['office', 'notebook', 'school', 'stationary shop', 'desk']\n",
      "common expl list: ['An office setting is the most likely place where a manager would keep a collection of budgets.', 'A ring binder is likely to contain budgets in an office, as budgets are often prepared by office workers.']\n"
     ]
    },
    {
     "name": "stderr",
     "output_type": "stream",
     "text": [
      "\r",
      " 13%|█████████████████████▏                                                                                                                                             | 128/986 [09:19<1:08:04,  4.76s/it]"
     ]
    },
    {
     "name": "stdout",
     "output_type": "stream",
     "text": [
      "generated explanation: <pad> <extra_id_0> A ring binder is a type of ring binder used to store budgets for office use. Offices typically store budgets in a ring binder, which is used to store items such as budgets and other documents. This is because budgets are typically stored in a ring binder, which is used to keep budgets in a ring binder. This is because it is used to store budgets in a ring binder. This is because budgets are stored in a ring binder is used to store budgets in an office. Offices have a ring binder is used to store budgets in a ring binder is used to store budgets in a ring binder to keep budgets in a ring binder is used to keep budgets in a ring binder.</s>\n",
      "########\n",
      "*******\n",
      "question: Where do you go when you're about to board a vehicle on railing?\n",
      "answer: railway station\n",
      "choices: ['railway station', 'deck', 'flight of stairs', 'porch', 'bus station']\n",
      "common expl list: ['Railway stations are where you board trains, which are often on rails.', 'Trains and busses both commonly make use of rail transportation to facilitate their travel. Railway station is the station they are staking out to board at. Thus, railway station is where you would go if you need to board a vehicle on a']\n"
     ]
    },
    {
     "name": "stderr",
     "output_type": "stream",
     "text": [
      "\r",
      " 13%|█████████████████████▌                                                                                                                                               | 129/986 [09:21<55:41,  3.90s/it]"
     ]
    },
    {
     "name": "stdout",
     "output_type": "stream",
     "text": [
      "generated explanation: <pad> <extra_id_0> When you're about to board a vehicle on railing, you go to a railway station. Usually, trains are used to travel along a railing, but they are often not used to travel along the railing. Railway stations are often used to transport passengers and passengers on railings, and they are often used to travelling along railings. They are often used to travelling along a railing, and are often used to transport passengers. They are also used to travelling along the railing, and are often used to carrying passengers.</s>\n",
      "########\n",
      "*******\n",
      "question: Where can I go to see a really big toy balloon floating at the top of a dome?\n",
      "answer: circus\n",
      "choices: ['parade', 'circus', 'amusement park', 'birthday party', 'magic show']\n",
      "common expl list: ['Circuses often have big inflatables on the top dome of a tent; inside, they could house various attractions such as clowns, acts, games, rides, food, drinks, etc.']\n"
     ]
    },
    {
     "name": "stderr",
     "output_type": "stream",
     "text": [
      "\r",
      " 13%|█████████████████████▊                                                                                                                                               | 130/986 [09:23<46:24,  3.25s/it]"
     ]
    },
    {
     "name": "stdout",
     "output_type": "stream",
     "text": [
      "generated explanation: <pad> <extra_id_0> A toy balloon can be found in the circus exhibit at the circus. It can be seen in the circus exhibit at the circus museum. It can be seen in the circus exhibit at the circus. It can be seen in the circus exhibit at the circus. The toy balloon can be seen floating at the top of a dome. It can be seen in the circus exhibit. It can be seen in the circus exhibit. It can be seen in the circus exhibit. The toy balloon is a huge toy balloon that can be seen in the circus show.</s>\n",
      "########\n",
      "*******\n",
      "question: They got to the door and it was locked, he reached in his jeans what to retrieve the key?\n",
      "answer: pocket\n",
      "choices: ['pocket', 'bus depot', 'lock', 'purse', 'front door']\n",
      "common expl list: ['Most people keep house keys in their pocket.', 'People often keep their keys in their pockets.']\n"
     ]
    },
    {
     "name": "stderr",
     "output_type": "stream",
     "text": [
      "\r",
      " 13%|█████████████████████▉                                                                                                                                               | 131/986 [09:25<40:24,  2.84s/it]"
     ]
    },
    {
     "name": "stdout",
     "output_type": "stream",
     "text": [
      "generated explanation: <pad> <extra_id_0> He reached in his jeans to unlock the door and it was locked, he reached in his pocket to retrieve the key. The key is a key that is a pocket item that is a key that is often found in the pocket of the jeans. He also has a key that is key to the door and it is a key that is often found in the pocket of his jeans. He has a pocket key that is often used to retrieve the key. It is also used to retrieve the key from the lock. It is a pocket is the key.</s>\n",
      "########\n",
      "*******\n",
      "question: The car was overheating, where was it located?\n",
      "answer: in phoenix\n",
      "choices: ['airport', \"neighbor's house\", 'in phoenix', 'repair shop', 'street corner']\n",
      "common expl list: ['Phoenix is a hot place, and cars often overheat there.']\n"
     ]
    },
    {
     "name": "stderr",
     "output_type": "stream",
     "text": [
      "\r",
      " 13%|█████████████████████▊                                                                                                                                             | 132/986 [09:55<2:35:38, 10.94s/it]"
     ]
    },
    {
     "name": "stdout",
     "output_type": "stream",
     "text": [
      "generated explanation: <pad> <extra_id_0> The car was overheating, where it was located? The car was located in phoenix, arizona, and it was overheating. The car was located in a residential area, and it was rated as a safe place to drive. It was located in a residential area, and it was rated as a safe place to drive. It was located in a residential area. It was located in a residential area, and it was located in a residential area. It was located in phoenix, arizona, arizona, and it was not overheated. It was located in phoenix, a residential area, and it was not rated as a safe place to store and use. It was located in a residential area, and it was not overheated. It was not overheated. It was located in a residential area. It was not underheating was not under the vehicle was not under the car was not under the car was overheating was not under the car was located in the car was located in the city. It was not. The car was located in the city of phoenix, phoenix, phoenix, phoenix, phoenix, phoenix, phoenix, phoenix, phoenix, phoenix, phoenix, phoenix, it was located in phoenix, phoenix, phoenix, phoenix, phoenix, phoenix, phoenix, phoenix, phoenix, phoenix, phoenix, phoenix, phoenix, phoenix, phoenix, phoenix, phoenix, phoenix, phoenix, phoenix, phoenix, phoenix, phoenix, phoenix, phoenix, phoen, phoenix, phoenix, phoenix, phoenix, phoenix, phoenix, phoen- phoen-it, it was a a a a a a a a a a a a\n",
      "########\n",
      "*******\n",
      "question: Where is likely to have a walk in type wardrobe?\n",
      "answer: mansion\n",
      "choices: ['recreational vehicle', 'clothes cupboard', 'house', 'mansion', 'bedroom']\n",
      "common expl list: ['A walk in wardrobe is a large type of closet that could be found in a mansion.', 'A walk-in wardrobe is a large wardrobe that is usually found in a mansion.', 'As I think of scenarios, the result I expect the most is that of a person with a lot of clothes, or a clothing designer, living in a mansion; these people might have the luxury of a walk in wardrobe.']\n"
     ]
    },
    {
     "name": "stderr",
     "output_type": "stream",
     "text": [
      "\r",
      " 13%|█████████████████████▉                                                                                                                                             | 133/986 [10:13<3:05:44, 13.07s/it]"
     ]
    },
    {
     "name": "stdout",
     "output_type": "stream",
     "text": [
      "generated explanation: <pad> <extra_id_0> A mansion is likely to have a walk in type wardrobe. It is likely to have a walk in wardrobe, which is usually found in a bedroom, bathroom, or bedroom. This is often due to the fact that it is often located in a mansion, or in a mansion. It is likely to have a walk in wardrobe, which is often a common feature in a mansion. It is also likely to have a walk in wardrobe, which is often found in a mansion. It is also likely to have a walk in wardrobe, which is likely to have a walk in wardrobe, which is a common style. It is also a common style is also found in a mansion is also a walk in wardrobe. It is also likely to have a walk in wardrobe. It is also possible to have a walk in wardrobe in a mansion is also likely to have a walk in wardrobe is a mansion is likely to have a mansion, which is a mansion, which is likely to have a mansion, or a walk in wardrobe, which means that it is possible to have a walk in wardrobe, which means that it is possible to have a mansion, and it is possible to have a walk in wardrobe, which means that it is possible to have</s>\n",
      "########\n",
      "*******\n",
      "question: How bad is the punishment for someone who is over indulgent?\n",
      "answer: severe\n",
      "choices: ['severe', 'harsh', 'hard', 'strict', 'self denying']\n",
      "common expl list: ['Overindulgence in anything is bad, possibly leading to lethargy, poor health, overspending, and the like. As a result of this, a punishment for a person who is over-indulgent could be severe.']\n"
     ]
    },
    {
     "name": "stderr",
     "output_type": "stream",
     "text": [
      "\r",
      " 14%|██████████████████████▏                                                                                                                                            | 134/986 [10:14<2:17:25,  9.68s/it]"
     ]
    },
    {
     "name": "stdout",
     "output_type": "stream",
     "text": [
      "generated explanation: <pad> <extra_id_0> The punishment for someone who is over indulgent is severe. The punishment is severe because the punishment is severe and can be severe. The punishment is severe because it is a punishment that is severe and can be imposed with a fine. The punishment is severe and can be very severe. The punishment is severe and can be severe enough to be severe. The punishment is severe because it can be severe and can be severe enough to cause a severe injury. The punishment can be severe because it can be severe enough to cause a severe injury.</s>\n",
      "########\n",
      "*******\n",
      "question: She was going to bed at 11 at night, what was she looking to do?\n",
      "answer: falling asleep\n",
      "choices: ['falling asleep', 'relaxing', 'rest', 'dreaming of', 'laziness']\n",
      "common expl list: [\"People go to bed when they're tired and want to sleep\", 'Falling asleep is often a desired result when going to bed.']\n"
     ]
    },
    {
     "name": "stderr",
     "output_type": "stream",
     "text": [
      "\r",
      " 14%|██████████████████████▎                                                                                                                                            | 135/986 [10:17<1:49:18,  7.71s/it]"
     ]
    },
    {
     "name": "stdout",
     "output_type": "stream",
     "text": [
      "generated explanation: <pad> <extra_id_0> She was going to bed at 11 at night, what was she looking for? She was going to bed at 11 at night, and falling asleep was the first thing she was looking for. This is because she was going to bed at 11 at night. She was going to bed at 11 at night. It was also going to be the last thing she wanted to do. It was to fall asleep. It was time to go to bed at 11 at night. It was a very difficult time to sleep. It was a very difficult time for her to fall asleep at 11 at night. It was a very difficult time. It was not easy task for her to sleep at night. It was a very difficult time for her to do. It was the most common thing that led to a very difficult time for her to do.</s>\n",
      "########\n",
      "*******\n",
      "question: A company with the moniker of Big Sky Excavation would probably be found where?\n",
      "answer: montana\n",
      "choices: ['a forest', 'city', 'egypt', 'montana', 'desert']\n",
      "common expl list: ['Mountain ranges are often called \"big sky\"s. The term is popular for companies in Montana, a state with lots of mountians, including two major mountain ranges.']\n"
     ]
    },
    {
     "name": "stderr",
     "output_type": "stream",
     "text": [
      "\r",
      " 14%|██████████████████████▍                                                                                                                                            | 136/986 [10:20<1:28:13,  6.23s/it]"
     ]
    },
    {
     "name": "stdout",
     "output_type": "stream",
     "text": [
      "generated explanation: <pad> <extra_id_0> Big Sky Excavation would probably be found in the mountains of Colorado. The company is a part of the montana ecosystem, which is a natural habitat for the animals and plants. It is also known as the Monteana Company, which is a company that is located in the mountains of Colorado. It is also known as the Big Sky Excavation Company, and is headquartered in the mountains of Colorado. It is located in the mountains of Colorado, and is located in the mountains of Colorado. It is also known as Big Sky Excavation Company, which is located in the area. It is located in the mountains of Colorado. The company would probably be a good place to work with the name of the company, and is located in the mountains.</s>\n",
      "########\n",
      "*******\n",
      "question: Which horseman of the apocalypse is often depicted next to death?\n",
      "answer: war\n",
      "choices: ['battlefield', 'the healer.', 'funeral', 'war', 'hospital']\n",
      "common expl list: ['A time of war is also often associated with someone dying.']\n"
     ]
    },
    {
     "name": "stderr",
     "output_type": "stream",
     "text": [
      "\r",
      " 14%|██████████████████████▋                                                                                                                                            | 137/986 [10:30<1:42:52,  7.27s/it]"
     ]
    },
    {
     "name": "stdout",
     "output_type": "stream",
     "text": [
      "generated explanation: <pad> <extra_id_0> Horseman of the Apolypse is often depicted next to death. During the apocalypse, death is often depicted as a symbol of the apocalypse. The horseman is often depicted next to death as a symbol of the apocalypse. The horseman is often depicted as a symbol of the apocalypse. Death is often depicted as a symbol of the apocalypse is often depicted as a symbol of the a symbol of the a symbol of the a symbol of the a symbol of the a symbol of the a symbol of the a symbol of the a symbol of the a symbol of the a symbol of the a symbol of the a symbol of the a symbol of the a symbol of the a symbol of the a symbol of the a symbol of the symbol of the symbol of the human </s>\n",
      "########\n",
      "*******\n",
      "question: What could be used to write with a steel pen?\n",
      "answer: hand\n",
      "choices: ['warehouse', 'arm', 'hand', 'desk drawer', 'veterinary office']\n",
      "common expl list: ['you write with a steel pen using your hand.', 'Using a steel pen requires someone to hold it, and we associate writing with hands. Powder can be used with steel pens as a \"contrast medium.']\n"
     ]
    },
    {
     "name": "stderr",
     "output_type": "stream",
     "text": [
      "\r",
      " 14%|██████████████████████▊                                                                                                                                            | 138/986 [11:00<3:20:43, 14.20s/it]"
     ]
    },
    {
     "name": "stdout",
     "output_type": "stream",
     "text": [
      "generated explanation: <pad> <extra_id_0> A steel pen is a type of pen that can be used to write with a steel pen. A steel pen can be used to write with a steel pen, which can be used to write with a pen. The steel pen can be used to write with a steel pen, which is a type of pen that is used to write with a steel pen. The steel pen is used to write with a steel pen. The pen is a type of pen that is used to write with a steel pen. The pen can be used to write with a steel pen. The steel pen can be used to write with a steel pen, which can be used to write with a steel pen, which can be used to write with a steel pen, which can be used to write with a steel pen, which can be used to write with a steel pen, which can be used to write with a steel pen, which can be used to write with a steel pen, which can be used to write with a steel pen, which can be used to write with a steel pen, which can be used to write with a steel pen, which can be used to write with a steel pen, or to write with a steel pen, which can be used to write with a steel pen, which can be used to write with a steel pen, and can be used to write with a steel pen, which can be used to write with a steel pen, which can be used to write with a steel pen, which can be used to write with a steel pen, which can be used to write with a steel pen, which is also used to write with a steel pen, which is used to write with a steel pen, to write with a steel pen, to write with a steel pen, to write with a steel pen, to write with a steel a steel pen, to write with a steel pen, to write with a steel pens, to write with a steel pen, to write with a steel pen, and to write with a steel pen, to write with a steel pen, to write with a steel pen, to write with a steel pen, to write with a steel pen, to write with a steel pen, to write with a steel pen, to write with a steel pen, to write with\n",
      "########\n",
      "*******\n",
      "question: I needed to find out how to contact a person with a certain name, where should I look?\n",
      "answer: phone book\n",
      "choices: ['directory', 'michigan', 'roster', 'phone book', 'certificate']\n",
      "common expl list: [\"Phone books are used to find people's phone numbers.\", 'A phone book is likely to have the phone numbers of nearby people.', 'People are listed in phone books for easy access by callers.', 'Phone books are usually a good source for finding phone numbers to call other people.']\n"
     ]
    },
    {
     "name": "stderr",
     "output_type": "stream",
     "text": [
      "\r",
      " 14%|██████████████████████▉                                                                                                                                            | 139/986 [11:11<3:04:30, 13.07s/it]"
     ]
    },
    {
     "name": "stdout",
     "output_type": "stream",
     "text": [
      "generated explanation: <pad> <extra_id_0> I needed to find out how to contact a person with a certain name, where should I look? phone book is a great place to find out how to contact a person with a certain name. It is a great place to find out how to find out how to contact a person with a certain name. It is a great place to find out how to contact a person with a certain name. It is also a great place to find out how to contact a person with a certain name. Usually, phone book is a good place to look for a person with a person with a person with a person with a person with a certain name. It is also a person with a person with a person with a certain name. It is also a person with a certain name. a person with a certain name. It is also a phone book is a phone book is a good place to find a person with a person with a certain name. It is a phone book is a phone book is a person with a certain name. It is a person with a certain name.</s>\n",
      "########\n",
      "*******\n",
      "question: What is important for a couple to do?\n",
      "answer: communicate\n",
      "choices: ['live together', 'row about', 'plan to marry', 'communicate', 'marry each other']\n",
      "common expl list: ['Communication is a key part of a healthy relationship and - often equally as important - is the commitment to communicate effectively.', \"To make a relationship work, it's very important to communicate with each other.\", 'Couples who communicate well are more likely to stay together, and thus, it is important for a couple to communicate.']\n"
     ]
    },
    {
     "name": "stderr",
     "output_type": "stream",
     "text": [
      "\r",
      " 14%|███████████████████████▏                                                                                                                                           | 140/986 [11:12<2:16:19,  9.67s/it]"
     ]
    },
    {
     "name": "stdout",
     "output_type": "stream",
     "text": [
      "generated explanation: <pad> <extra_id_0> A couple should communicate with their spouse. A couple should communicate clearly and clearly what they are doing. A couple should communicate clearly and clearly. A couple should be able to communicate clearly and clearly. A couple should be able to communicate clearly and clearly. A couple should be able to communicate clearly and clearly. A couple should be able to communicate clearly and clearly. A couple should communicate clearly and clearly. A couple should be able to communicate clearly and clearly. A couple should also be able to communicate clearly and clearly. A couple should also be able to communicate their feelings and situations. This is the two of them.</s>\n",
      "########\n",
      "*******\n",
      "question: The botanist knew the plant was living, what did he observe that led him to know that?\n",
      "answer: respiration\n",
      "choices: ['interaction', 'death', 'respiration', 'expiration', 'chlorophyll']\n",
      "common expl list: [\"The teacher commonly noted that plants give off oxygen as a result of respiration, which helps fuel their energy and growth. This was evidence of a plant's life.\"]\n"
     ]
    },
    {
     "name": "stderr",
     "output_type": "stream",
     "text": [
      "\r",
      " 14%|███████████████████████▎                                                                                                                                           | 141/986 [11:15<1:44:35,  7.43s/it]"
     ]
    },
    {
     "name": "stdout",
     "output_type": "stream",
     "text": [
      "generated explanation: <pad> <extra_id_0> The botanist knew that the plant was living, which is why he observed respiration. The respiration is the most important part of the plant’s life. The respiration is the most important part of the plant’s life. The respiration is the most important factor in the plant’s survival. The respiration is the most important factor in the plant’s survival. The respiration is the most important part of the plant’s life cycle. The respiration is the most important factor in the plant’s survival. The respiration is the most important part of the plant was the most important factor in the respiration is the most important factor in the respiration process.</s>\n",
      "########\n",
      "*******\n",
      "question: What is it called when teens are together not doing anything in particular?\n",
      "answer: hang out\n",
      "choices: ['smoke', 'homework', 'volunteer', 'party', 'hang out']\n",
      "common expl list: ['Hang out is a term that could be used for teens hanging out together, typically with no particular agenda.', 'Hanging out\" is used to describe events where people are socializing, doing nothing in particular. Other events include hanging out with a purpose (doing homework, studying outside, going shopping, etc.).']\n"
     ]
    },
    {
     "name": "stderr",
     "output_type": "stream",
     "text": [
      "\r",
      " 14%|███████████████████████▍                                                                                                                                           | 142/986 [11:16<1:20:08,  5.70s/it]"
     ]
    },
    {
     "name": "stdout",
     "output_type": "stream",
     "text": [
      "generated explanation: <pad> <extra_id_0> when teens are together not doing anything particular. It is called a hang out when teens are together not doing anything particular. Hang out is the time when teens are together and are not doing anything special. Hang out is when teens are together and are not doing anything particular. Hang out is the term for a time when teens are together and are not doing anything particular. It is also called hang out when teens are together and are not doing anything particular. Hang out is the term for a time when teens are not doing anything particular. Hang out is an ideal place to hang out together and are not doing anything particular.</s>\n",
      "########\n",
      "*******\n",
      "question: The saw was not necessary for car repair, so what wasn't it included with during pucrhase?\n",
      "answer: tool kit\n",
      "choices: ['tool shed', 'tool box', 'tool kit', 'hardware store', 'toolbox']\n",
      "common expl list: ['A saw is another name for a cutting tool, but they are often not included with a tool kit, because a kit is used for other repair needs (bolts, screws, bindings, etc.), and a saw is not required for a car repair']\n"
     ]
    },
    {
     "name": "stderr",
     "output_type": "stream",
     "text": [
      "\r",
      " 15%|███████████████████████▋                                                                                                                                           | 143/986 [11:18<1:03:25,  4.51s/it]"
     ]
    },
    {
     "name": "stdout",
     "output_type": "stream",
     "text": [
      "generated explanation: <pad> <extra_id_0> The saw was not necessary for car repair, so it was not included in the tool kit. The saw was also used to repair the vehicle, but was not used for car repair. The tool kit was designed to be used for car repair. The saw was designed to be used for car repairs, and was not used for car maintenance. The saw was also used to repair the car, so it was not included in the tool kit. It was also used to help prevent abrasion and other mechanical damage. It was also used to help prevent the car's wheels. It was also used to prevent damage.</s>\n",
      "########\n",
      "*******\n",
      "question: Where will my kid put their coin in their room?\n",
      "answer: piggy bank\n",
      "choices: ['piggy bank', 'wishing well', 'parking meter', 'under pillow', 'change purse']\n",
      "common expl list: ['Kids commonly save small amounts of money for later use, and these savings are often kept in piggy banks.', 'Piggy banks are often used to store coins.']\n"
     ]
    },
    {
     "name": "stderr",
     "output_type": "stream",
     "text": [
      "\r",
      " 15%|███████████████████████▊                                                                                                                                           | 144/986 [11:38<2:09:42,  9.24s/it]"
     ]
    },
    {
     "name": "stdout",
     "output_type": "stream",
     "text": [
      "generated explanation: <pad> <extra_id_0> Where will my kid put their coin in their room? piggy bank is a safe place for coins, which is a safe place for coins to be stored in a safe place. It is also a safe place for coins, which is a great place for kids to put their coin in their room. It is also a great place for kids to put coins in their room. It is a great place to store coins in a safe place. It is also a great place for kids to put their coins in the room, which is a safe place, and it is a good place to put their coins in the room, which is a great place to put coins in the room, which is a great place to put coins in the room, which is a great place to put coins in the room, and it is also a great place to put coins in the room, and it is a great place to store coins, and it is also a great place to store coins in the room, and it is a great place to put coins, coins in the room for the kid, and it is a great place to store coins. It is a great place to put coins, and it is important to the kid to put coins in the room, and it is important to have coins in the room for the kid to put coins in the room for the kid to put coins in the room for the kid to put coins in the room for the kid to put their coins in the room for them to put coins in the room for the kid to put coins in the room for the kid to put coins in the room for the kid to put coins in the room for the kid to put coins in the room for the kid to put coins in the room for the kids to put coins in the room for the kid to put coins in the</s>\n",
      "########\n",
      "*******\n",
      "question: Where is a fire extinguisher likely to be found behind the seat?\n",
      "answer: school bus\n",
      "choices: ['school bus', 'house', 'garden', 'stairwell', 'garage']\n",
      "common expl list: ['Fire extinguishers are required on public-transit vehicles, such as school buses.']\n"
     ]
    },
    {
     "name": "stderr",
     "output_type": "stream",
     "text": [
      "\r",
      " 15%|███████████████████████▉                                                                                                                                           | 145/986 [11:47<2:08:38,  9.18s/it]"
     ]
    },
    {
     "name": "stdout",
     "output_type": "stream",
     "text": [
      "generated explanation: <pad> <extra_id_0> School bus is a good place to find a fire extinguisher. School Bus is a safe place to find a fire extinguisher, especially when traveling on a school bus. School bus is a safe place to find a fire extinguisher, especially when traveling on a school bus. School bus drivers are often unsure of the safety of a fire extinguisher, and are unsure of the safety of the device. School bus drivers are often asked to use a fire extinguisher in the vehicle, which means that the school bus is not. School bus driver is not always a fire extinguisher is not a school bus driver is not a safe place to store a fire extinguisher, which means that the fire extinguisher is not a school bus. School bus is not a school bus, which means that a school bus is a school bus, which means that a school bus is not a school bus is not a school bus is not a school bus is not a school bus is not a school bus.</s>\n",
      "########\n",
      "*******\n",
      "question: His therapist said he had to get out there and begin socialising, it was the only was to start what?\n",
      "answer: friendships\n",
      "choices: ['conflicts', 'having fun', 'jealousy', 'getting out there', 'friendships']\n",
      "common expl list: ['Interacting with other people socially is likely to result in making new friends.', 'His therapist said that he needed to speak to people if he wanted to be less withdrawn. This would help him to get out of his shell.']\n"
     ]
    },
    {
     "name": "stderr",
     "output_type": "stream",
     "text": [
      "\r",
      " 15%|████████████████████████▏                                                                                                                                          | 146/986 [11:49<1:36:42,  6.91s/it]"
     ]
    },
    {
     "name": "stdout",
     "output_type": "stream",
     "text": [
      "generated explanation: <pad> <extra_id_0> He had to get out there and start socialising, it was the only way to start socialising, it was to start socialising with others, it was to get out there and start socialising, it was to get out there and start socialising, it was to get out there and start socialising, it was to start socialising, it was to start a friendship, it was to start socialising, it was to start a new friendship, it was to start a new relationship, it was to start a new relationship, it was to start socialising</s>\n",
      "########\n",
      "*******\n",
      "question: What is likely true about a dog that escapes regularly?\n",
      "answer: very smart\n",
      "choices: ['very smart', 'very loyal', 'tired', 'friendly', 'faithful']\n",
      "common expl list: ['Intelligent dogs (especially when concerned with food and treats) who are looking for some form of freedom will have the intelligence to escape regularly.']\n"
     ]
    },
    {
     "name": "stderr",
     "output_type": "stream",
     "text": [
      "\r",
      " 15%|████████████████████████▎                                                                                                                                          | 147/986 [12:15<2:56:57, 12.66s/it]"
     ]
    },
    {
     "name": "stdout",
     "output_type": "stream",
     "text": [
      "generated explanation: <pad> <extra_id_0> A dog that escapes regularly is likely to escape a dog that is very smart and intelligent. This is because a dog that escapes regularly is likely to be smart and intelligent. This is because a dog that escapes regularly is a smart dog and is likely to be a smart choice for a dog that escapes from the house. This is because a dog that escapes regularly is likely to be a smarter dog and is likely to be more intelligent than a human. This is because a dog that escapes regularly is smartly and effectively. This is often the dog that escapes regularly and effectively. This is because a dog that escapes regularly and is a smart dog that is likely to be a smart dog that is likely to be a smart dog. This is likely to be a smart dog that escapes regularly. This is a dog that escapes regularly. This is likely to be a smart dog. This is a smart dog that escapes regularly. This is likely to be a smart dog that escapes regularly. This is likely to be a smart dog that escapes regularly is likely to be a smart dog that escapes regularly. This is a dog that escapes regularly. This is also a dog that escapes regularly. This dog that escapes regularly is a dog that escapes regularly is a dog that escapes regularly, and it is a dog that escapes often a dog that escapes frequently, and it is a dog that escapes often a dog that escapes often a dog that escapes regularly. It is a dog that escapes regularly. It is a dog that escapes regularly. It is a dog that escapes frequently, and it is a dog that is a dog that escapes often, and it is a dog that is often a dog that escapes frequently, and it is likely to be a dog that is more likely to escapes regularly. It is likely to be a dog that can escapes to escapes to escape to escape to escape to escape to escape to escape to a dog that is likely to be a dog that escapes to escape to escape to a smart and smart dog that is likely to escape to escape from the dog that escape to the dog that is a smart dog that is a smart move and is a smart move and escapes to\n",
      "########\n",
      "*******\n",
      "question: If you're going to a party in an alley, what is likely to happen?\n",
      "answer: doing drugs\n",
      "choices: ['call the police', 'doing drugs', 'new contacts', 'making new friends', 'plan']\n",
      "common expl list: ['People going to parties in an alley are often going to do drugs and vice.', 'People often do drugs at parties, and alleys are often used for parties.', 'Alleys are associated with crime; and, people performing illegal drugs at a party is illegal.']\n"
     ]
    },
    {
     "name": "stderr",
     "output_type": "stream",
     "text": [
      "\r",
      " 15%|████████████████████████▍                                                                                                                                          | 148/986 [12:17<2:10:02,  9.31s/it]"
     ]
    },
    {
     "name": "stdout",
     "output_type": "stream",
     "text": [
      "generated explanation: <pad> <extra_id_0> If you're going to a party in an alley, it's possible that you'll be doing drugs. This is because drugs are a common problem in alleys. This is because they can cause people to feel ill or have trouble with their bodies. This is because they are prone to a drug addiction. This is because they are prone to drug use and are more likely to be able to control their own behavior. This is because they are more likely to be able to control their own behavior.</s>\n",
      "########\n",
      "*******\n",
      "question: The man was very tired and sore, he decided to stay in bed to what?\n",
      "answer: rest more\n",
      "choices: ['rest more', 'lazy', 'were sick', 'to be sick', \"you're sick\"]\n",
      "common expl list: ['The man was so tired and sore, he just wanted a break. His illness would keep him in bed.', \"When people are sick, they tend to rest, as it's the most sensible thing.\", 'The man was tired and sore, so he decided to rest more.']\n"
     ]
    },
    {
     "name": "stderr",
     "output_type": "stream",
     "text": [
      "\r",
      " 15%|████████████████████████▋                                                                                                                                          | 149/986 [12:25<2:07:52,  9.17s/it]"
     ]
    },
    {
     "name": "stdout",
     "output_type": "stream",
     "text": [
      "generated explanation: <pad> <extra_id_0> The man was tired and sore, he decided to stay in bed to rest more rest more rest more rest more rest more rest more restmore restmore restmore restmore restmore restmore he was tired and sore, he decided to stay in bed to what? he was tired and sore, he was tired and sore, he decided to stay in bed to rest more restmore restmore restmore he was tired and sore, he decided to stay in bed to rest more restless, he rest more restless, he was tired, he was tired, and he was tired, and he was tired, he was tired, he was tired, he was tired, he was tired, he was tired, he was tired, and he was tired, he was tired, he was tired, he was tired, he was restless, he was tired, he was tired, he was tired, he was tired, he was sleep in bed to rest more. he was tired, he was tired, he was rest in bed to rest.</s>\n",
      "########\n",
      "*******\n",
      "question: He was back in his hometown, he was planning on having fun and doing what?\n",
      "answer: visiting friends\n",
      "choices: ['being understood', 'hug', 'rambling', 'kiss', 'visiting friends']\n",
      "common expl list: ['People usually visit their friends when they return to a town where they previously used to live, because their friends would have missed them.', 'If a person is back in their hometown, they might visit their friends, who they might not see very often.', 'If a person went back to their hometown, they might be glad to see their old friends, and visit them while they are there.']\n"
     ]
    },
    {
     "name": "stderr",
     "output_type": "stream",
     "text": [
      "\r",
      " 15%|████████████████████████▊                                                                                                                                          | 150/986 [12:58<3:45:00, 16.15s/it]"
     ]
    },
    {
     "name": "stdout",
     "output_type": "stream",
     "text": [
      "generated explanation: <pad> <extra_id_0> He was visiting friends in his hometown. He was also planning to visit his family in the future, visiting friends in person, and visiting friends. This was his first time visiting friends and visiting friends in the past, and he was planning to spend the rest of the summer with his family. He was also planning to visit friends in the future, and he was going to visit friends. He was also planning to visit friends in the future, and he was planning on spending time with friends in the future. He was also planning to visit friends in person, he was planning to visit friends in person, and they were visiting friends is a great way to make new connections and make new friends. He was planning to spend the rest of the summer in the summer, and he was going to visit friends in the summer at the end of the summer, and he was going to visit friends in the summer in the summer, and he was going to visit friends in the summer in the summer, and he was going to visit friends in the summer, and he would visit friends in the summer, and it would be a great way to make new friends, and it would be fun, and it would be fun and he would visit friends in the summer in the summer in the summer in the summer, and he would visit friends in the summer, and to spend the summer in the summer, and to visit friends in the summer summer, and to visit friends in the summer months and summer months and to spend the summer months and to<extra_id_1> </s>\n",
      "########\n",
      "*******\n",
      "question: Where is basketball court likely to be outdoors?\n",
      "answer: city\n",
      "choices: ['high school gymnasium', 'city', 'park', 'use', 'los angeles']\n",
      "common expl list: ['Basketball courts are likely to be at parks and recreational centers in cities.', 'Basketball courts are often found in city parks.', 'Most American cities have basketball courts in public parks.', 'Basketball courts are often urban.']\n"
     ]
    },
    {
     "name": "stderr",
     "output_type": "stream",
     "text": [
      "\r",
      " 15%|████████████████████████▉                                                                                                                                          | 151/986 [13:00<2:45:16, 11.88s/it]"
     ]
    },
    {
     "name": "stdout",
     "output_type": "stream",
     "text": [
      "generated explanation: <pad> <extra_id_0> Basketball court is likely to be located in a city or city. The city is likely to have a basketball court located in the city, which is a common place for basketball courts. The city is likely to have a basketball court located in a city or city. The city is likely to have a basketball court, but the court is likely to be located in a city. The city is likely to have a basketball court, which is located in the city of Phoenix. This is a city that has a basketball court in the city of Phoenix. The city has a basketball court, which is a city.</s>\n",
      "########\n",
      "*******\n",
      "question: When you want to get the skin off of an apple, you do what to it?\n",
      "answer: peel\n",
      "choices: ['seeds inside', 'stems', 'peel', 'grocery store', 'green market']\n",
      "common expl list: ['Skin is something you peel from fruits like apples, peaches, oranges, kiwi, etc...', 'Apples have a skin that can be peeled off.']\n"
     ]
    },
    {
     "name": "stderr",
     "output_type": "stream",
     "text": [
      "\r",
      " 15%|█████████████████████████▏                                                                                                                                         | 152/986 [13:21<3:23:55, 14.67s/it]"
     ]
    },
    {
     "name": "stdout",
     "output_type": "stream",
     "text": [
      "generated explanation: <pad> <extra_id_0> Peeling is a simple process that removes the skin from the apple. Peeling an apple is a great way to remove the skin from the apple. Peeling an apple is a great way to remove the skin from the apple. Peeling an apple can be a great way to remove the skin from the skin. Peeling an apple can also be a great way to remove the skin from the skin. Peeling an apple can be a simple way to remove the skin from the skin. Peeling an apple can be a great way to remove the skin off an apple. Peeling an apple can be a great way to remove the skin off an apple peeling apple to remove the skin off the skin before you peel it. Peeling an apple is a peeling apple is a great way to remove the skin from the skin of an apple is a great way to remove the skin of an apple is to remove the skin of an apple is a great way to remove the skin. Peeling an apple is a great way to remove the skin of an apple is a great way to remove the skin of apples to remove the skin of an apple is also a peeling apple is to remove the peeling apple is to remove the skin of an apple is to remove the skin of the apple is to remove the peel off an apple is also to remove the peel from an apple is to remove the skin from the peel.</s>\n",
      "########\n",
      "*******\n",
      "question: Where could you put some knives if you are planning to bring them outside with you?\n",
      "answer: backpack\n",
      "choices: ['purse', 'backpack', 'drawer', 'sporting goods store', 'kitchen']\n",
      "common expl list: [\"To carry knives on one's person, you need some small type of container to hold the knives. Perhaps the most likely place to carry a small container is a backpack.\", \"Knives are usually brought along if hiking, camping, fishing, or other outings, and backpacks make it easy to transport one's belongings.\"]\n"
     ]
    },
    {
     "name": "stderr",
     "output_type": "stream",
     "text": [
      "\r",
      " 16%|█████████████████████████▎                                                                                                                                         | 153/986 [13:23<2:29:08, 10.74s/it]"
     ]
    },
    {
     "name": "stdout",
     "output_type": "stream",
     "text": [
      "generated explanation: <pad> <extra_id_0> Taking knives outside can be a great way to store them. They are usually stored in a backpack. They can be stored in a bag or bag. They are also stored in a backpack. They can be stored in a small area of the backpack. They can be stored in a small space. They can be stored in a dark place. They can also be stored in a small plastic bag or a small plastic bag. They can also be stored in a backpack. They can be stored in a small space.</s>\n",
      "########\n",
      "*******\n",
      "question: John watches the well dressed people from a catwalk above the stage.  He listens to them speak rehearsed lines while the audience listens.  Where is he/\n",
      "answer: theatre\n",
      "choices: ['theatre', 'new york city', 'fashion show', 'construction site', 'school play']\n",
      "common expl list: ['Theatres have catwalks where people might observe and listen to actors.']\n"
     ]
    },
    {
     "name": "stderr",
     "output_type": "stream",
     "text": [
      "\r",
      " 16%|█████████████████████████▍                                                                                                                                         | 154/986 [13:24<1:50:59,  8.00s/it]"
     ]
    },
    {
     "name": "stdout",
     "output_type": "stream",
     "text": [
      "generated explanation: <pad> <extra_id_0> John watches the well dressed people from a catwalk above the stage while the audience listens. John is a professional actor who is trained to perform in a theatre setting. He is also trained to perform in a musical style. He is also trained to perform in a theatre setting. He is trained to perform in a musical style. He is trained to perform rehearsed lines while the audience listens to them. He is also trained to perform in a musical style. John is trained to perform in a theatre.</s>\n",
      "########\n",
      "*******\n",
      "question: If I am creating art and have completed it to satisfaction, what is my feeling?\n",
      "answer: enlightenment\n",
      "choices: ['enlightenment', 'tired', 'frustration', 'relax', 'controversy']\n",
      "common expl list: ['Enlightenment is the label for a moment of clarity, and the word is often applied to artists who have created something unique or daring.']\n"
     ]
    },
    {
     "name": "stderr",
     "output_type": "stream",
     "text": [
      "\r",
      " 16%|█████████████████████████▌                                                                                                                                         | 155/986 [13:26<1:24:54,  6.13s/it]"
     ]
    },
    {
     "name": "stdout",
     "output_type": "stream",
     "text": [
      "generated explanation: <pad> <extra_id_0> I am creating art and have completed it to my satisfaction. I am creating art and have completed it to enlightenment. I am creating art and have completed it to satisfaction. I am creating art to enlightenment. I am creating art to enlightenment. I am creating art to satisfy my enlightenment. I am creating art to fulfill my inner enlightenment. I am creating art to enlightenment. I am creating art to be able to feel the enlightenment</s>\n",
      "########\n",
      "*******\n",
      "question: He was serious and pragmatic, so why did he drive his car?\n",
      "answer: transportation\n",
      "choices: ['transportation', 'car crash', 'death', 'sleepy', 'stress']\n",
      "common expl list: ['Because driving is the most practical mode of transportation judging by the time and distance required to do so.', 'People often drive cars to get from one place to another.']\n"
     ]
    },
    {
     "name": "stderr",
     "output_type": "stream",
     "text": [
      "\r",
      " 16%|█████████████████████████▊                                                                                                                                         | 156/986 [13:29<1:10:14,  5.08s/it]"
     ]
    },
    {
     "name": "stdout",
     "output_type": "stream",
     "text": [
      "generated explanation: <pad> <extra_id_0> He was serious and pragmatic, so why did he drive his car? He was pragmatic and pragmatic, so he drove his car. He was pragmatic and pragmatic, so he drove his car to get around town. He was also pragmatic and pragmatic, so he drove his car to work. He was also pragmatic and pragmatic, so he drove his car to work. He was also pragmatic and practical, so why did he drive his car? Because he was pragmatic and pragmatic, he drove his car to work. He was also pragmatic and pragmatic. He was also a driver, and he drove a car to work. The car was a way of getting around town, and he was able to get around town.</s>\n",
      "########\n",
      "*******\n",
      "question: What does god want people to do for money?\n",
      "answer: work in life\n",
      "choices: ['work in life', 'speak to people', 'everywhere', 'sitting ideal', 'care for people']\n",
      "common expl list: ['The scriptures explain that people should acquire money by providing good products or services, e.g., to bring value to other people and make a living.']\n"
     ]
    },
    {
     "name": "stderr",
     "output_type": "stream",
     "text": [
      "\r",
      " 16%|██████████████████████████▎                                                                                                                                          | 157/986 [13:30<56:23,  4.08s/it]"
     ]
    },
    {
     "name": "stdout",
     "output_type": "stream",
     "text": [
      "generated explanation: <pad> <extra_id_0> God wants people to do work in life for money, which is a great way to earn money. This is because god wants people to work in life for money. Also, god wants people to work for money to make money. This is a great way to earn money and live a fulfilling life. This is because god wants people to work for money. This is because god wants people to work for money. This is because god wants people to work for money. This is because god wants people to work for money. This is because money is a way to earn money for money.</s>\n",
      "########\n",
      "*******\n",
      "question: What can happen after doing housework that does not involve pain?\n",
      "answer: become tired\n",
      "choices: ['become tired', 'stress', 'put on shoes', 'backache', 'low pay']\n",
      "common expl list: ['Housework can be tiring, and so, after doing it, one might become tired.', 'Doing housework is likely to tire someone out. Being tired increases the likelihood of restlessness and uneasiness.', 'Raking, sweeping, and dusting are common forms of housework. After all the physical labor of these activities, someone \\xa0might become tired and take time off from housework chores, but not have een doing any housework tasks that']\n"
     ]
    },
    {
     "name": "stderr",
     "output_type": "stream",
     "text": [
      "\r",
      " 16%|██████████████████████████▍                                                                                                                                          | 158/986 [13:32<47:34,  3.45s/it]"
     ]
    },
    {
     "name": "stdout",
     "output_type": "stream",
     "text": [
      "generated explanation: <pad> <extra_id_0> After doing housework, you may feel tired. You may also feel tired, which can cause you to feel a lot of stress. This can cause you to become tired. You may also experience a headache after doing housework that does not involve pain. It is important to remember that pain is a natural part of housework. It is important to be aware of the pain and discomfort that comes with it. This can cause you to feel tired and can cause you to become tired. tired. You may also feel tired and tired after a tiredness and tiredness during the work that makes it more tired.</s>\n",
      "########\n",
      "*******\n",
      "question: James sat in a chair and listened to the speaker.  Where might James be?\n",
      "answer: auditorium\n",
      "choices: ['synagogue', 'grocery store', 'auditorium', 'confession', 'office']\n",
      "common expl list: ['James was likely in an auditorium, because he was listening to a speaker.']\n"
     ]
    },
    {
     "name": "stderr",
     "output_type": "stream",
     "text": [
      "\r",
      " 16%|██████████████████████████▎                                                                                                                                        | 159/986 [13:46<1:30:12,  6.54s/it]"
     ]
    },
    {
     "name": "stdout",
     "output_type": "stream",
     "text": [
      "generated explanation: <pad> <extra_id_0> James sat in a chair and listened to the speaker. The speaker gave James a brief introduction to the speaker and gave James a brief introduction to the speaker. James sat in a chair and listened to the speaker. The speaker gave James a brief introduction to the speaker and then sat in a chair and listened to the speaker. The speaker then took the opportunity to speak to the speaker. The speaker asked James to sit in a chair and listened to the speaker. The speaker was able to discuss the speaker's point of view of the audience. The audience was a brief introduction to the speaker. The audience was able to discuss the speaker's point of view of the auditorium was able to discuss the speaker's point of view of the speaker's point of view of the speaker's point of view of the speaker's point of view of the speaker's point of view of the speaker's point of view of the audience. The speaker's point of view of the auditorium was able to listen to the speaker's point of view.</s>\n",
      "########\n",
      "*******\n",
      "question: John thought that Mary was beautiful despite her injury.  But Mary believed that she was what?\n",
      "answer: misshapen\n",
      "choices: ['wrong', 'overcast', 'homely', 'bad', 'misshapen']\n",
      "common expl list: [\"If Mary believes she doesn't look normal, but someone else thinks she is beautiful, perhaps she could feel like her form is misshapen.\"]\n"
     ]
    },
    {
     "name": "stderr",
     "output_type": "stream",
     "text": [
      "\r",
      " 16%|██████████████████████████▍                                                                                                                                        | 160/986 [13:48<1:11:13,  5.17s/it]"
     ]
    },
    {
     "name": "stdout",
     "output_type": "stream",
     "text": [
      "generated explanation: <pad> <extra_id_0> Mary believed that she was misshapen despite her injury. Mary believed that she was misshapen because she was a misshapen person. Mary believed that she was misshapen because she was a misshapen person. Mary believed that she was misshapen because she was injured in her wrist. John thought that Mary was misshapen because she was a misshapen person. Mary believed that she was beautiful because she was a misshapen person. Mary believed that she was misshapen because she was physically able to move forward and maintains that she was physically able to move around the world.</s>\n",
      "########\n",
      "*******\n",
      "question: Where does my body go after I am no longer living?\n",
      "answer: graveyard\n",
      "choices: ['zombie', 'bodycam', 'coffin', 'graveyard', 'funeral']\n",
      "common expl list: ['Corpses are buried in graveyards.', 'When a person dies, it is common to bury their bodies in locations called graveyards.', 'When one dies, their body is buried in a graveyard.']\n"
     ]
    },
    {
     "name": "stderr",
     "output_type": "stream",
     "text": [
      "\r",
      " 16%|██████████████████████████▉                                                                                                                                          | 161/986 [13:50<59:45,  4.35s/it]"
     ]
    },
    {
     "name": "stdout",
     "output_type": "stream",
     "text": [
      "generated explanation: <pad> <extra_id_0> I am no longer living and I am no longer living. My body goes to the graveyard after I am dead. This is the place where I am no longer living and I am buried. My body goes to the graveyard after I am no longer living. This is the place where I am buried. My body is buried in the graveyard. This is the place where my body goes to when I am no longer living. This is the place where I can find my body after I am dead. This is the place where my body goes to the graveyard after I am no longer living. The graveyard is located in the graveyard is the place where my body is kept in the graveyard. This is the place I am no longer living.</s>\n",
      "########\n",
      "*******\n",
      "question: Where can you find a bar before traveling a long distance?\n",
      "answer: airport\n",
      "choices: ['las vegas', 'public house', 'airport', 'restaurant', 'michigan']\n",
      "common expl list: ['Bars are often located in airports, and so if a person was traveling a long distance, they might stop at an airport bar.']\n"
     ]
    },
    {
     "name": "stderr",
     "output_type": "stream",
     "text": [
      "\r",
      " 16%|███████████████████████████                                                                                                                                          | 162/986 [13:52<48:48,  3.55s/it]"
     ]
    },
    {
     "name": "stdout",
     "output_type": "stream",
     "text": [
      "generated explanation: <pad> <extra_id_0> A bar is a place to enjoy a drink at an airport. It is a great way to enjoy a drink at an airport. It is a great place to enjoy a meal at an airport. It is a great place to find a bar before traveling a long distance. It is also a great place to relax at a bar. It is also a great place to relax at a hotel before or after a long flight. It is also a great place to relax and relax after a long flight.</s>\n",
      "########\n",
      "*******\n",
      "question: Where might a small ball be bounced from?\n",
      "answer: child's hand\n",
      "choices: ['soccer game', 'street', 'toy store', \"child's hand\", 'on the sidewalk']\n",
      "common expl list: ['Since children enjoy bouncing balls, and they are also relatively small, they would bounce a ball from their hand.', 'A ball much like a toy, and kids often play with them on the streets and sidewalks.']\n"
     ]
    },
    {
     "name": "stderr",
     "output_type": "stream",
     "text": [
      "\r",
      " 17%|███████████████████████████▎                                                                                                                                         | 163/986 [13:55<44:09,  3.22s/it]"
     ]
    },
    {
     "name": "stdout",
     "output_type": "stream",
     "text": [
      "generated explanation: <pad> <extra_id_0> A small ball can bounce from a small object from a small ball's hand. This is because a small ball can bounce from a small ball from a child's hand. This is because a small ball can bounce from a small ball's hand. The ball can be bounced from a small ball in a child's hand. The ball is a safe and effective way to bounce from a small ball. This is because a small ball can be bounced from a small ball and is used to bounce from a small ball is a small ball is a small ball is a small ball can be bounce from a small ball is a small ball's hand.</s>\n",
      "########\n",
      "*******\n",
      "question: Where do families begin?\n",
      "answer: wedding\n",
      "choices: ['wedding', 'around dinner table', 'supermarket', 'dinner together', 'park']\n",
      "common expl list: ['A wedding is a ceremony in which two people get married, and thus a wedding is where a family begins.']\n"
     ]
    },
    {
     "name": "stderr",
     "output_type": "stream",
     "text": [
      "\r",
      " 17%|███████████████████████████▍                                                                                                                                         | 164/986 [14:00<51:14,  3.74s/it]"
     ]
    },
    {
     "name": "stdout",
     "output_type": "stream",
     "text": [
      "generated explanation: <pad> <extra_id_0> Weddings are usually celebrated at the end of the day, and the celebration of the big day is usually celebrated at the end of the day, and the ceremony is usually held at the end of the day. Weddings are usually held at the end of the year, and are usually a great way to start a new life. Weddings are also a great way to start a new life, as they can be a great way to make memories, and to make the most of the special moments. Weddings are usually held at the end of the year, and weddings are a great way to make a great way for families to make a memorable moment, and they can be a great way for families to make a wedding day, as they can make a memorable time, as they can be a memorable way to end of the day, and to make a lasting impression</s>\n",
      "########\n",
      "*******\n",
      "question: He enjoyed reading newspaper, he consider what a subscription?\n",
      "answer: buying\n",
      "choices: ['gifting', 'buying', 'money', 'literacy', 'knowing how to read']\n",
      "common expl list: ['Buying a subscription to a newspaper is a way to get the newspaper delivered to your home.']\n"
     ]
    },
    {
     "name": "stderr",
     "output_type": "stream",
     "text": [
      "\r",
      " 17%|███████████████████████████▌                                                                                                                                         | 165/986 [14:02<44:57,  3.29s/it]"
     ]
    },
    {
     "name": "stdout",
     "output_type": "stream",
     "text": [
      "generated explanation: <pad> <extra_id_0> He enjoyed reading newspaper, he enjoyed buying a subscription. The subscriptions are a great way to spend time with the family and friends. The subscriptions are a great way to keep in touch with the news and to read the latest news. The subscriptions are a great way to keep in touch with the readers and to keep in touch with the news. The subscriptions are a great way to keep in touch with the news and to make it easier to find the right news. The subscriptions are also a great way to keep in touch with the news on the phone and to keep in touch with the news in a great way to keep in touch with the news.</s>\n",
      "########\n",
      "*******\n",
      "question: What does an animal do when it becomes old?\n",
      "answer: feel pain\n",
      "choices: ['live long', 'leave home', 'feel pain', 'eating', 'sense fear in human']\n",
      "common expl list: ['Ageing animals may have chronic pain as part of the body losing function as it ages.']\n"
     ]
    },
    {
     "name": "stderr",
     "output_type": "stream",
     "text": [
      "\r",
      " 17%|███████████████████████████▊                                                                                                                                         | 166/986 [14:04<39:21,  2.88s/it]"
     ]
    },
    {
     "name": "stdout",
     "output_type": "stream",
     "text": [
      "generated explanation: <pad> <extra_id_0> An animal can feel pain when it becomes old. It can also feel pain when it is tired, or when it is tired. It can also feel pain when it is old. This is because animals can feel pain when they are old. This is because animals can feel pain when they are old. This is because they can feel pain when they are old. This is because animals can feel pain when they are old enough to live. This is because animals can feel pain when they become old. This is because they can feel pain when they become old. This pain is a sign of pain when they are old.</s>\n",
      "########\n",
      "*******\n",
      "question: What entity would have a fire extinguisher in their boardroom?\n",
      "answer: most businesses\n",
      "choices: ['boat', 'apartment', 'public building', 'most businesses', 'chemistry lab']\n",
      "common expl list: ['Most businesses would have a fire extinguisher in their boardroom, because they are likely to have a fire in their boardroom.']\n"
     ]
    },
    {
     "name": "stderr",
     "output_type": "stream",
     "text": [
      "\r",
      " 17%|███████████████████████████▉                                                                                                                                         | 167/986 [14:05<34:33,  2.53s/it]"
     ]
    },
    {
     "name": "stdout",
     "output_type": "stream",
     "text": [
      "generated explanation: <pad> <extra_id_0> Most businesses have a fire extinguisher in their boardroom. Most businesses would have a fire extinguisher in their boardroom. Most businesses would have a fire extinguisher in their boardroom, which would be a great addition to their boardroom. Most businesses have a fire extinguisher in their boardroom, which would be a great addition to any workplace. Most businesses would have a fire extinguisher in their boardroom, which would be a great addition to any workplace.</s>\n",
      "########\n",
      "*******\n",
      "question: Where can someone go and buy cheese?\n",
      "answer: market\n",
      "choices: ['pizza', 'bar', 'fridge', 'market', 'refrigerator']\n",
      "common expl list: ['Cheese is a dairy product and can be purchased at markets, for the most part.', 'Cheese is sold at markets.']\n"
     ]
    },
    {
     "name": "stderr",
     "output_type": "stream",
     "text": [
      "\r",
      " 17%|████████████████████████████                                                                                                                                         | 168/986 [14:07<32:03,  2.35s/it]"
     ]
    },
    {
     "name": "stdout",
     "output_type": "stream",
     "text": [
      "generated explanation: <pad> <extra_id_0> Cheese is sold at a market. It is a place to buy cheese at a market. It is also a place to buy cheese at a market. It is also a place to buy cheese at a market. It is also a place to buy cheese at a market. It is also a place to buy cheese at a market. It is also a place to buy cheese at a market. Cheese is a popular cheese product and is sold at a market. It is also sold at a market has to be a market.</s>\n",
      "########\n",
      "*******\n",
      "question: Where would you carry food while on a long walk in the countryside?\n",
      "answer: backpack\n",
      "choices: ['backpack', 'table', 'jar', 'box', 'container']\n",
      "common expl list: [\"Because backpacks are designed to be carried on one's back, they are the most convenient way to carry food while on a long walk.\", 'Instead of carrying a jar or container, filling your backpack with food might not disrupt your movements as much when you are walking.']\n"
     ]
    },
    {
     "name": "stderr",
     "output_type": "stream",
     "text": [
      "\r",
      " 17%|███████████████████████████▉                                                                                                                                       | 169/986 [14:20<1:13:31,  5.40s/it]"
     ]
    },
    {
     "name": "stdout",
     "output_type": "stream",
     "text": [
      "generated explanation: <pad> <extra_id_0> If you were on a long walk in the countryside, you would carry food in a backpack. This is a great way to carry food on the long walk. It is also a great way to carry food on a long walk. It is also a great way to carry food on a long walk. It is also a great way to carry food while hiking. It is also a great way to take your food on a long walk. It is also a great way to take your food on a long walk in the countryside, it is a great way to carry food on a backpack, and it is also a great way to carry food on a long walk in the countryside. It is a great way to carry food on a long walk in the countryside. It is also a great way to carry food on long walk in the countryside. It is also a great way to carry food on long walks in the countryside. It is also a great way to carry food on a long way to carry food on long walks in the countryside. It is also a great way to carry food on long walks in the countryside.</s>\n",
      "########\n",
      "*******\n",
      "question: What could a driver do that could distract him or her while he or she is in a driving car?\n",
      "answer: smoke\n",
      "choices: ['use mobile phone', 'car crash', 'smoke', 'backache', 'automobile accidents']\n",
      "common expl list: ['It can be tricky to smoke and concentrate on driving at the same time, and research has found that smoking in a car with children present is very dangerous.', 'Smoking is a common activity that people do while driving, and it could distract them from driving.']\n"
     ]
    },
    {
     "name": "stderr",
     "output_type": "stream",
     "text": [
      "\r",
      " 17%|████████████████████████████                                                                                                                                       | 170/986 [14:22<1:00:23,  4.44s/it]"
     ]
    },
    {
     "name": "stdout",
     "output_type": "stream",
     "text": [
      "generated explanation: <pad> <extra_id_0> A driver could smoke while driving while he or she is distracted by a distraction. Smoking is a distraction that can distract a driver while driving. Smoking can also be a distraction for a driver, as it can distract a driver from the road. Smoking can also distract a driver from the road. Smoking can also be a distraction for a driver, as it can distract a driver from the road. Smoking can also distract a driver from the traffic while driving, such as driving in a car can also distract the driver, and drivers can also distract the driver's attention when driving. Smoking can also distract drivers.</s>\n",
      "########\n",
      "*******\n",
      "question: The fat man wanted to make a change in his life and make sure it stayed what?\n",
      "answer: permanent\n",
      "choices: ['concretely', 'permanent', 'remain stable', 'stagnant', 'constant']\n",
      "common expl list: ['His making a decision to change and ensuring the decision is made permanent indicates a desire for a stable, permanent life, which does not change.', 'In changing his life, he wants to make sure he remains in the new lifestyle choices, e.g., not become stagnant to bad choices and fall back into bad choices.']\n"
     ]
    },
    {
     "name": "stderr",
     "output_type": "stream",
     "text": [
      "\r",
      " 17%|████████████████████████████▌                                                                                                                                        | 171/986 [14:24<48:50,  3.60s/it]"
     ]
    },
    {
     "name": "stdout",
     "output_type": "stream",
     "text": [
      "generated explanation: <pad> <extra_id_0> The fat man wanted to make sure it stayed what? The fat man wanted to make sure it stayed in his life and stay in his body. He wanted to make sure it stayed the same. He wanted to make sure it stayed the same. He wanted to make sure it stayed the same. He wanted to make sure it stayed the same. The fat man wanted to make sure it stayed the same. The fat man wanted to make sure it stayed the same. The fat man wanted to make sure it stayed in his life.</s>\n",
      "########\n",
      "*******\n",
      "question: where did many colonial kingdoms originate?\n",
      "answer: europe\n",
      "choices: ['saudi arabia', 'europe', 'united states', 'book', 'monarchy']\n",
      "common expl list: ['Many colonial kingdoms in the past can be traced all the way back to their roots in Europe.', 'Colonies and kingdoms often originate in the mother countries of the colonial or kingdom builders, e.g., entities in the United Kingdom and the Netherlands.']\n"
     ]
    },
    {
     "name": "stderr",
     "output_type": "stream",
     "text": [
      "\r",
      " 17%|████████████████████████████▍                                                                                                                                      | 172/986 [14:53<2:32:49, 11.27s/it]"
     ]
    },
    {
     "name": "stdout",
     "output_type": "stream",
     "text": [
      "generated explanation: <pad> <extra_id_0> europe is the center of the world and the largest continent in the world. It is the center of the world and the largest continent in the world. It is the center of the world and the largest continent in the world. It is the center of the world, and the largest continent in the world. It is the center of the world and the largest continent in the world. It is the center of the world, and the largest continent in the world. It is the center of the world, and the largest continent in the world. It is the center of the world, and it is the largest continent, and it is the largest continent, and the largest continent, and the largest continent, and the largest continent, and the largest continent. It is the largest continent, and the largest continent, and the largest continent, and the largest continent. It is the largest continent, and it is the largest continent. It is the largest continent, and it is the largest continent, and it is the largest continent, and it is the largest continent. Its largest continent, and it is the largest continent, it is the largest continent, and it is the continent continent. Its kingdoms are the largest continent. Its kingdoms are the largest continents are the continent of the continent, and the continent, the continent of the world, and the continent, and the continent. Its continent, and the continent of the continent, and the continents, and the continent of the continents are the continents are the continent of the continents are the continent of the continents are the continents of the continents are the continent of the continent.</s>\n",
      "########\n",
      "*******\n",
      "question: Where can a television be stored and hidden?\n",
      "answer: cabinet\n",
      "choices: ['apartment', 'living room', 'bedroom', 'kitchen', 'cabinet']\n",
      "common expl list: ['A television can be stored inside a cabinet.', 'A cabinet is a piece of furniture that is used to store items, and televisions are large, and thus, can be stored in cabinets.']\n"
     ]
    },
    {
     "name": "stderr",
     "output_type": "stream",
     "text": [
      "\r",
      " 18%|████████████████████████████▌                                                                                                                                      | 173/986 [15:05<2:37:23, 11.62s/it]"
     ]
    },
    {
     "name": "stdout",
     "output_type": "stream",
     "text": [
      "generated explanation: <pad> <extra_id_0> A cabinet is a great place to store and hide a television. It can be easily accessed from a remote or a remote. It can also be used to hide a television from view. The cabinet is a great place to store a television. The television can also be used to hide a television from view. The cabinet is a great place to store and hide a television. The cabinet is a great place to store and hide a television. It is also a great place to store a television in a television and can be used to show and display items. The cabinet is a great place to store a television in a cabinet is a great place to store a television is also a great place to store and hide a television is also a great place to store and hide a television is also a great way to hide a television is also a great place to store and hide a television is a great place to store and hide a television is also a great place to store</s>\n",
      "########\n",
      "*******\n",
      "question: what can get a prisoner in more trouble?\n",
      "answer: attempt to escape\n",
      "choices: ['dream of freedom', 'attempt to escape', 'do time', 'fast for days', 'scape jail']\n",
      "common expl list: ['Prisoners serve time, and when a prisoner attempts to escape, they generally serve extra time.']\n"
     ]
    },
    {
     "name": "stderr",
     "output_type": "stream",
     "text": [
      "\r",
      " 18%|████████████████████████████▊                                                                                                                                      | 174/986 [15:06<1:51:27,  8.24s/it]"
     ]
    },
    {
     "name": "stdout",
     "output_type": "stream",
     "text": [
      "generated explanation: <pad> <extra_id_0> Escape from prisoner in more trouble. Escape from prisoner in more trouble. Escape from prisoner in more trouble.</s>\n",
      "########\n",
      "*******\n",
      "question: The crab was separated from his compatriots out in the sea, where was he likely to be?\n",
      "answer: tide pool\n",
      "choices: ['fish market', 'cooking pot', 'tide pool', 'beach sand', 'farm']\n",
      "common expl list: ['Tide pools are regions of shallow, pooled water that are very exposed to air, making them appealing to crabs that have to breathe.']\n"
     ]
    },
    {
     "name": "stderr",
     "output_type": "stream",
     "text": [
      "\r",
      " 18%|████████████████████████████▉                                                                                                                                      | 175/986 [15:08<1:25:48,  6.35s/it]"
     ]
    },
    {
     "name": "stdout",
     "output_type": "stream",
     "text": [
      "generated explanation: <pad> <extra_id_0> The crab was likely to be out in the sea in the tide pool, which is a popular place to be found in the Mediterranean Sea, and is often found in the Mediterranean, where it is a good place to be if you are in the Mediterranean. The crab is likely to be out in the sea in the tide pool, which is a great place to be in the Mediterranean. The crab is likely to be in the pool, but it is not as confined as it is to be in the water. It is not as a tide pool, and it is not as a place where he is likely to be in the sea.</s>\n",
      "########\n",
      "*******\n",
      "question: What item is smelted out of minerals on the country side?\n",
      "answer: metal\n",
      "choices: ['urban city', 'france', 'metal', 'grass', 'state']\n",
      "common expl list: ['Metals are extracted from mineral mines out in the country side.', 'Products made by smelters tend to be made out of metals, and mining occurs at the country side.']\n"
     ]
    },
    {
     "name": "stderr",
     "output_type": "stream",
     "text": [
      "\r",
      " 18%|█████████████████████████████                                                                                                                                      | 176/986 [15:42<3:19:26, 14.77s/it]"
     ]
    },
    {
     "name": "stdout",
     "output_type": "stream",
     "text": [
      "generated explanation: <pad> <extra_id_0> Metal is melted out of minerals on the country side. Metal is melted out of metal by smelted into a powder. During this process, metal is melted into a metal, which is then smelted into a solid. This is called smelting. Metal is smelted into a powder that is then smelted into a powder and then smelted into a powder. The result is a powder that is smelted into a metal. This is because it is smelted out of minerals that are smelted into a country side. Metal is smelted into a country side. It is also smelting is smelting is also known as smelting is also smelting is smelting. It is smelted into a powder that is smelting process, and it is smelting. It is smelting metal, and it is smelting smelting metals are smelting metal, a process of smelting, smelting, smelting, and smelting metals smelting powder, which is smelting metals. It is smelted into smelting smelting metal, which is then smelting metals are smelting smelting metals in smelting metals, which is melting, and then smelting metals, which is smelting metal.</s>\n",
      "########\n",
      "*******\n",
      "question: Where is a good place to store a saw?\n",
      "answer: toolbox\n",
      "choices: ['hardware store', 'tool shed', 'storage', 'tool kit', 'toolbox']\n",
      "common expl list: ['One might likely store a saw in a box with other tools.', 'A toolbox is a container for tools, and a saw is a tool.']\n"
     ]
    },
    {
     "name": "stderr",
     "output_type": "stream",
     "text": [
      "\r",
      " 18%|█████████████████████████████▎                                                                                                                                     | 177/986 [15:44<2:26:04, 10.83s/it]"
     ]
    },
    {
     "name": "stdout",
     "output_type": "stream",
     "text": [
      "generated explanation: <pad> <extra_id_0> A toolbox is a good place to store a saw. It is also a great place to store tools. It is a great place to store tools. It is also a great place to store tools. Toolboxes are great places to store tools. Using a saw, you can store tools in a toolbox, such as a saw blade, a saw, or a saw. Toolboxes are a great place to store tools. It is also a great place to store tools.</s>\n",
      "########\n",
      "*******\n",
      "question: The jellyfish was pushed along by the water.  It was caught in what?\n",
      "answer: current\n",
      "choices: ['store', 'book', 'park', 'current', 'lake']\n",
      "common expl list: ['Jellyfish are often found in oceans, and oceans have currents.', \"Currents are fast-moving water, and jellyfish can't swim very well, so if caught in a current, it's likely to be being pushed along by the current.\"]\n"
     ]
    },
    {
     "name": "stderr",
     "output_type": "stream",
     "text": [
      "\r",
      " 18%|█████████████████████████████▍                                                                                                                                     | 178/986 [16:53<6:21:38, 28.34s/it]"
     ]
    },
    {
     "name": "stdout",
     "output_type": "stream",
     "text": [
      "generated explanation: <pad> <extra_id_0> The jellyfish was caught in the current of the current in the water. It was pushed along by the current of the water. The jellyfish was caught in the current of the current in the water. The current is a jellyfish that is caught in the water in the current of the current. The jellyfish is caught in the current of the water in the current. The jellyfish was caught in the current of the water in the current. The jellyfish was caught in the current of the current in the current. The jellyfish was caught in the current is a jellyfish was caught in the current at the current of the current to help the current to help the jellyfish was caught in the current to help it to help the jellyfish to help it to help the current to help it to help it to help it to help it to help it to help it to help it to help it to help it to be caught in the current is a current is a great deal of water. The current is a jellyfish is pushed along by the current is a great deal of the current to help it to help the current to help it to help it to catch it to help it to a great deal of the current is a great deal of help it to catch it to help it to catch it to catch the current. The jellyfish to catch it to catch it to catch it to catch it to catch it to catch it to catch it catch it to catch it. The jellyfish to catch it to catch it to catch it to catch it to catch it to catch it to catch it to catch it to catch it to catch it to catch it to catch it to catch it to catch it to catch it to catch it to catch it to catch it to catch it to catch it to catch it to catch it to catch it to catch it to capture it to capture it to the current to capture it to capture it to capture it to capture it to capture it to capture it to capture it to capture the current to capture it to capture it to capture it to capture it to capture it to capture it to capture the current to capture it to capture it to the current to capture it to capture it to capture it to the current to capture it to capture it to capture it to capture it to capture it to capture. The jelly fish to capture the water to capture it to capture it to capture the current to capture the current to capture it to capture the current current to capture it to the\n",
      "########\n",
      "*******\n",
      "question: The dime store was full of old donated goods, it reminded the customer of the what?\n",
      "answer: past\n",
      "choices: ['strip mall', 'past', 'shopping center', 'old movie', 'india']\n",
      "common expl list: ['Dime stores were more popular years ago than today. The sight of the old goods reminded the person of the past.']\n"
     ]
    },
    {
     "name": "stderr",
     "output_type": "stream",
     "text": [
      "\r",
      " 18%|█████████████████████████████▌                                                                                                                                     | 179/986 [16:54<4:33:35, 20.34s/it]"
     ]
    },
    {
     "name": "stdout",
     "output_type": "stream",
     "text": [
      "generated explanation: <pad> <extra_id_0> The dime store was full of old donated goods. It was full of old donated items, which were often found in the dime store. This is because the store was filled with old donated goods, which were often found in the dime store. This was because the store was full of old donated goods, which were often found in the dime store. This was a great way to get a better understanding of the store. It also reminded the customer of the past. It also reminded the customer of the past, which was a great deal of old donated items.</s>\n",
      "########\n",
      "*******\n",
      "question: Where would you put a saw if you do not need to use it soon and your house only has one floor?\n",
      "answer: tool shed\n",
      "choices: ['logging camp', 'in the vehicle', 'tool shed', 'toolbox', 'basement']\n",
      "common expl list: ['A tool shed is a common structure for organizing and storing tools that are infrequently used.', \"A tool shed is a place where tools are stored, and thus, a good place to store a saw if you don't need to use it soon.\", 'The shed is a good place for storing tools when those tools are not in use.']\n"
     ]
    },
    {
     "name": "stderr",
     "output_type": "stream",
     "text": [
      "\r",
      " 18%|█████████████████████████████▊                                                                                                                                     | 180/986 [17:21<4:58:02, 22.19s/it]"
     ]
    },
    {
     "name": "stdout",
     "output_type": "stream",
     "text": [
      "generated explanation: <pad> <extra_id_0> If you only have one floor, a tool shed is the best place to place a saw. Using a saw is a great way to store tools and tools. It also allows you to store them in a storage container. It is a great place to store tools and tools. It is also a great place to store tools and tools in the shed if you have one floor. It is also a great place to store tools and other tools. It is also a great place to store tools and other tools. It is also a great way to store them in the shed. It is also a great way to store tools and other items that can be used to store tools and other materials in the shed. It is also a great place to store tools and other tools. It is also a great place to store them in the shed if you can store them in the shed to store them in the shed. It is also a great place to store tools and other toolsets and toolsets that can be used to store them in the shed. It is also a great place to store tools and other items such as tools and other tools and other items such as saws, saws, and other tools and other items such as saws and other tools. It is also important to store tools and other items that are used to store and store them in the shed. It is important to store them in the shed for storage and storage. It is important to store the tools and other equipment.</s>\n",
      "########\n",
      "*******\n",
      "question: A person might wear his yarmulke when going to where?\n",
      "answer: synagogue\n",
      "choices: ['demonstration', 'concert', 'garage', 'bus stop', 'synagogue']\n",
      "common expl list: ['Synagogue is a place commonly visited by religious Jews. Men wear yarmulkes (skullcaps) because faith requires that they uncover their heads when going before God.']\n"
     ]
    },
    {
     "name": "stderr",
     "output_type": "stream",
     "text": [
      "\r",
      " 18%|█████████████████████████████▉                                                                                                                                     | 181/986 [17:23<3:37:49, 16.24s/it]"
     ]
    },
    {
     "name": "stdout",
     "output_type": "stream",
     "text": [
      "generated explanation: <pad> <extra_id_0> A person might wear his armulke when going to a synagogue when going to where? synagogue is a place where a person might wear his armulke when going to a synagogue. The synagogue is a place where a person might wear his armulke when going to a synagogue, a place where a person might wear his armulke when going to a synagogue. The person might wear his armulke when going to a synagogue when going to where a person might wear his armulke when going to </s>\n",
      "########\n",
      "*******\n",
      "question: Someone takes up exercising to improve their what\n",
      "answer: physical fitness\n",
      "choices: ['losing weight', 'physical fitness', 'breathlessness', 'muscles', 'lost weight']\n",
      "common expl list: ['Exercising helps people build their physical fitness.', 'Exercising is a way to improve physical fitness.', 'Typically people are motivated to exercise in order to become fit.']\n"
     ]
    },
    {
     "name": "stderr",
     "output_type": "stream",
     "text": [
      "\r",
      " 18%|██████████████████████████████                                                                                                                                     | 182/986 [17:25<2:39:02, 11.87s/it]"
     ]
    },
    {
     "name": "stdout",
     "output_type": "stream",
     "text": [
      "generated explanation: <pad> <extra_id_0> Someone takes up exercise to improve their physical fitness by exercising to improve their health and fitness. This helps to improve the overall health and fitness of the body. Exercise is also a great way to improve the overall health of the body and reduce stress and anxiety. It also helps to improve the overall health of the body and reduce stress and anxiety associated with exercise. Exercise also helps to improve the cardiovascular system and blood pressure. Exercise also helps to improve the cardiovascular system and reduces the risk of injury. Exercise also helps to reduce the risk of injury and other health.</s>\n",
      "########\n",
      "*******\n",
      "question: Where could you see a sloth that is not real?\n",
      "answer: picture book\n",
      "choices: ['bad dream', 'picture book', 'another place', 'universe', 'zoo']\n",
      "common expl list: ['Reality is generally fractured into \"real\" and \"fusion.\" Sloths are real, meaning they exist (in some form) in reality; sloths are not real (in the way depicted) in a picture book.']\n"
     ]
    },
    {
     "name": "stderr",
     "output_type": "stream",
     "text": [
      "\r",
      " 19%|██████████████████████████████▎                                                                                                                                    | 183/986 [17:34<2:26:52, 10.97s/it]"
     ]
    },
    {
     "name": "stdout",
     "output_type": "stream",
     "text": [
      "generated explanation: <pad> <extra_id_0> A picture book could show a sloth that is not real. Picture books are a great way to see sloth that is not real. Picture books are also great ways to see sloth that is not real. Picture books are also great ways to see sloths that are not real. Picture books are also great ways to see sloths that are not real. Picture books are often used to show sloths that are not real. Picture books are great tools for showing sloths that are not real. Picture books are great tools for showing sloths that are not real as they are not real as they are not real as they are not real as they are not real as they are not real as they are not real as they are not real as they are not real as they are not real as picture books are often used to show sloths that are not real as a way to show a sloths that are not real as they are not real as they aren'</s>\n",
      "########\n",
      "*******\n",
      "question: Where are seats often plush?\n",
      "answer: opera\n",
      "choices: ['rest area', 'theater', 'hockey game', 'classroom', 'opera']\n",
      "common expl list: ['Opera is a high-class form of entertainment, and thus, the seats are often plush.', 'Plush seats are generally found in more comfortabe, well-off establishments, and opera is often performed in such, less strict teents of, elegance of the decor.']\n"
     ]
    },
    {
     "name": "stderr",
     "output_type": "stream",
     "text": [
      "\r",
      " 19%|██████████████████████████████▍                                                                                                                                    | 184/986 [17:57<3:14:11, 14.53s/it]"
     ]
    },
    {
     "name": "stdout",
     "output_type": "stream",
     "text": [
      "generated explanation: <pad> <extra_id_0> Opera seats are often often plush. Opera seats are often a great way to enjoy a concert or a performance. Opera seats are often often a great way to enjoy a performance. They are also often used to make the experience more enjoyable. Opera seats are often used to make the experience more enjoyable. Opera seats are also often used for a variety of functions, such as a concert, a concert, or a performance. Opera seats are often used to make the experience more comfortable and comfortable. Opera seats are often used to make the opera seats are often used to make it more comfortable and more comfortable. Opera seats are often used to make opera seats are also used to make the experience more comfortable and a more comfortable to move around. opera is also used to make the opera a great place to move around the world. Opera is also used to entertain and entertain and entertain guests. The opera is a great place to watch the most comfortable and more comfortable for those who have to entertain and entertain and entertain the most popular choice for those who have to be more comfortable and more convenient for opera performances are often a great place to sit when performing. The opera is a great way to entertain and entertain guests are more comfortable to sit and entertain guests are more comfortable to watch a great experience for opera is also a great way to make a great way to enjoy the experience</s>\n",
      "########\n",
      "*******\n",
      "question: The comforter was used constantly and treaded upon by everyone, where should it be placed?\n",
      "answer: washing machine\n",
      "choices: ['garbage', 'linen closet', 'bedroom', 'washing machine', 'livingroom']\n",
      "common expl list: ['The comforter was used constantly, so it should be washed frequently. Linen closets are where people store their bed sheets and blankets.', 'Linens are often used (i.e., the comforter) and washed frequently.', 'When you use your comforter (or any other high-traffic fabric) often, you ought to wash it often too. Therefore it should be kept in the washing machine, to enable quick washing.']\n"
     ]
    },
    {
     "name": "stderr",
     "output_type": "stream",
     "text": [
      "\r",
      " 19%|██████████████████████████████▌                                                                                                                                    | 185/986 [17:58<2:22:52, 10.70s/it]"
     ]
    },
    {
     "name": "stdout",
     "output_type": "stream",
     "text": [
      "generated explanation: <pad> <extra_id_0> The comforter was used constantly and was treaded upon by everyone who was in the house. It was placed in a comfortable spot where it was hung and worn by the house. It was placed in a small compartment and washed with a cloth. The comforter was also used to keep the room warm and comfortable. It was also used to keep the room warm and comfortable. It was also used to keep the house clean and dry. It was also used to keep the comforter warm and dry. It was also used to keep the house warm.</s>\n",
      "########\n",
      "*******\n",
      "question: Joe bought a ficus.  He thought it would look good in what part of his home?\n",
      "answer: family room\n",
      "choices: ['family room', 'tropical forest', 'flower garden', 'movie theater', 'hair salon']\n",
      "common expl list: [\"The ficus is an indoor plant, such as a plant one would have in one's family room. The family room is the ideal location for an indoor plant like a houseplant.\"]\n"
     ]
    },
    {
     "name": "stderr",
     "output_type": "stream",
     "text": [
      "\r",
      " 19%|██████████████████████████████▋                                                                                                                                    | 186/986 [18:11<2:28:30, 11.14s/it]"
     ]
    },
    {
     "name": "stdout",
     "output_type": "stream",
     "text": [
      "generated explanation: <pad> <extra_id_0> Joe loves a ficus and he loves it because it looks good in every room. He also loves the kitchen, and likes the bathroom. He also loves the kitchen, and he loves the kitchen. He also loves the kitchen, and he loves the ficus. The family room is the corner of the house that looks like a great place to live. The family room is the corner of the house. The family room is the corner of the house that Joe loves. The family room is the main living area. The family room is the perfect place to live in the house. The family room is the perfect place to live in the kitchen, and the kitchen is the family room. The family room is the perfect place to gather around the family room. The family room is the perfect place to gather around the house. The family room is the perfect place to relax in the family room. The family room is the perfect place to gather around and enjoy the relaxing and relaxing atmosphere. The family room is the perfect place to gather around the family room is the perfect place to gather and enjoy the family</s>\n",
      "########\n",
      "*******\n",
      "question: Family is always the best for devotion, but it is also nice if a person has what?\n",
      "answer: loyal friends\n",
      "choices: ['good review', 'headache', 'with cat', 'loyal friends', 'shoes']\n",
      "common expl list: ['We may have devoted friends who would be there for us if we had need.', 'Loyal friends are always there for you, and they will always be devoted to you.', \"Because times may come when a person would like to go out and have fun with some friends, and it's nice if that person may have friends that he is faithful to.\"]\n"
     ]
    },
    {
     "name": "stderr",
     "output_type": "stream",
     "text": [
      "\r",
      " 19%|██████████████████████████████▉                                                                                                                                    | 187/986 [18:13<1:52:02,  8.41s/it]"
     ]
    },
    {
     "name": "stdout",
     "output_type": "stream",
     "text": [
      "generated explanation: <pad> <extra_id_0> A person who is loyal to their family is a person who is devoted to their family. Family is always the best for devotion, but it is also important to have a good relationship with a good friend. Loving friends are the best way to show appreciation for a person and to show appreciation for their family. They are the ones who show their support for a person and their family. They are the ones who are the best at a time. They are the ones who show appreciation for the person and the family. They are the one who is the most important thing for the person and will always be the best for devotion.</s>\n",
      "########\n",
      "*******\n",
      "question: Rap is not usually associate with what music often performed by an orchestra?\n",
      "answer: classical\n",
      "choices: ['folk', 'rock', 'good music', 'country music', 'classical']\n",
      "common expl list: ['Rap is generally associated with hip-hop music, which is normally performed by a single artist. Orchestras tend to play classical music, which often is performes with real instruments, rather than manufactured ones.']\n"
     ]
    },
    {
     "name": "stderr",
     "output_type": "stream",
     "text": [
      "\r",
      " 19%|███████████████████████████████                                                                                                                                    | 188/986 [18:15<1:26:23,  6.50s/it]"
     ]
    },
    {
     "name": "stdout",
     "output_type": "stream",
     "text": [
      "generated explanation: <pad> <extra_id_0> Rap is not usually associated with classical music, but it is often performed by orchestras, which is a form of music that is often associated with music, such as classical music, jazz, and rock music. This is because it is the music that is most often associated with the orchestra, and it is often associated with the music of the orchestra. It is also often associated with the music of the classical genre, such as jazz, classical music, and jazz. It is also associated with the music of the classical period, which is often associated with the orchestral genre, and is often associated with the music of the classical genre.</s>\n",
      "########\n",
      "*******\n",
      "question: At what structure can you see people you use a puck professionally?\n",
      "answer: hockey rink\n",
      "choices: ['hockey rink', 'locker room', 'sporting goods store', 'used in hockey game', 'teachers']\n",
      "common expl list: ['Pucks are commonly used in ice hockey, which is a professional activity.']\n"
     ]
    },
    {
     "name": "stderr",
     "output_type": "stream",
     "text": [
      "\r",
      " 19%|███████████████████████████████▏                                                                                                                                   | 189/986 [18:50<3:21:03, 15.14s/it]"
     ]
    },
    {
     "name": "stdout",
     "output_type": "stream",
     "text": [
      "generated explanation: <pad> <extra_id_0> People use pucks at a rink at least once a week. This is because pucks are used in hockey games and are used to help them move the puck. They are used to help them move the puck around the rink. They can also use a puck to move the puck at the rink. They can also use a puck at a rink at home, at the rink, or at the rink. They can also use a puck at home, at the rink, or at the rink at home, at the rink at the rink professionally. They can use a professional hockey rink at the rink, and at the rink is a professional hockey rink is used to move the puck at the rink and the rink and can be used to move the puck at the rink. The rink at the rink at the rink at the rink, and the rink at the rink, and the rink to move the rink to the rink to move the puck to the rink to the rink to move the puck to move the puck to move the puck to move the puck to move the puck to move the puck to move the puck to move the puck to move the puck to move the puck to move the puck to move the puck to move the puck to move the puck to move the puck to move the puck to move around the puck to move the puck to move the puck to move the puck to move the puck to move the puck to move the puck to move the puck to a certain</s>\n",
      "########\n",
      "*******\n",
      "question: Even when not in flight a bald eagle likes to have a lay of the land, because of this you'll see them perched up where?\n",
      "answer: high places\n",
      "choices: ['colorado', 'natural habitat', 'everglades', 'high places', 'tree']\n",
      "common expl list: ['Eagles like to be high up, so they can see a large area.']\n"
     ]
    },
    {
     "name": "stderr",
     "output_type": "stream",
     "text": [
      "\r",
      " 19%|███████████████████████████████▍                                                                                                                                   | 190/986 [18:58<2:52:00, 12.97s/it]"
     ]
    },
    {
     "name": "stdout",
     "output_type": "stream",
     "text": [
      "generated explanation: <pad> <extra_id_0> A bald eagle likes to lay their eggs high up in the air. They like to lay their eggs high up in the air, which is why they like to lay their eggs high up in the air. This is because they are able to lay their eggs high in the air, which is why they like to lay their eggs high in the air. This is because they like to lay their eggs high up in the air, which is why they are able to lay their eggs high up in the air. This is because they are able to lay their eggs high in the air, and that is why they are able to lay their eggs high in the air, and they can lay their eggs high in the air, which is why they are able to lay their eggs high up in the air, and this is why they are able to lay their eggs high in the air, and that is why they are a lay of the land, which is why they are able to lay their</s>\n",
      "########\n",
      "*******\n",
      "question: When is good time for garlic bread?\n",
      "answer: dinner\n",
      "choices: ['refrigerator', 'dinner', 'jail', 'supermarket', 'going on a date']\n",
      "common expl list: ['Garlic bread is often served with dinner.', 'Typical garlic bread is served with a maincourse and wine or other alcoholic beverage, and both are commonly served with dinner.']\n"
     ]
    },
    {
     "name": "stderr",
     "output_type": "stream",
     "text": [
      "\r",
      " 19%|███████████████████████████████▌                                                                                                                                   | 191/986 [19:00<2:09:25,  9.77s/it]"
     ]
    },
    {
     "name": "stdout",
     "output_type": "stream",
     "text": [
      "generated explanation: <pad> <extra_id_0> When is good time for garlic bread? When is the best time to eat garlic bread? When is the best time to eat garlic bread? When is the best time to eat garlic bread? When is the best time to eat garlic bread? When is the best time to eat garlic bread? When is the best time to eat garlic bread? When is the best time to eat garlic bread? When is the best time to eat garlic bread? When is the best time to eat garlic bread? When is the best time to eat it in the evening, the best time to eat garlic bread is the best for a healthy and a good time to eat garlic bread?</s>\n",
      "########\n",
      "*******\n",
      "question: Where is the sky fake?\n",
      "answer: planetarium\n",
      "choices: ['shed', 'atmosphere', 'photo', 'outdoors', 'planetarium']\n",
      "common expl list: ['Planetariums are buildings that simulate the sky.', 'Planetariums are places built to simulate the sky indoors; the opposite of outdoors.']\n"
     ]
    },
    {
     "name": "stderr",
     "output_type": "stream",
     "text": [
      "\r",
      " 19%|███████████████████████████████▋                                                                                                                                   | 192/986 [19:14<2:25:53, 11.02s/it]"
     ]
    },
    {
     "name": "stdout",
     "output_type": "stream",
     "text": [
      "generated explanation: <pad> <extra_id_0> The sky is a fake. It is a fake planetarium. It is a planetarium that is located on the planet Earth. It is a fake planetarium that is located on the planet Earth. It is a planet that is a fake. It is a fake planetarium, which is a planetarium that is a fake. It is a fake planetarium. It is located in the middle of the earth, and it is a fake. It is a fake planetariums are faked out of space. It is a fake planetarium is a fake planetarium is a fake spacecraft is a fake space, which is a fake planetarium is a fake planetarium is a fake planetarium is a fake planetarium is a fake space station, and it is a fake planetarium is a fake planetarium is a fake space is a fake space is a fake space station is a fake space station is a fake space is a fake space station is a fake space</s>\n",
      "########\n",
      "*******\n",
      "question: Boats that aren't on the ocean travel across the surface of what?\n",
      "answer: lake\n",
      "choices: ['lake', 'ocean', 'tetrahedron', 'mirror', 'object']\n",
      "common expl list: [\"Lakes (and ponds) are bodies of fresh water surrounded by land, and boats exist on water, and thus, will tend to travel across lakes' surfaces.\"]\n"
     ]
    },
    {
     "name": "stderr",
     "output_type": "stream",
     "text": [
      "\r",
      " 20%|███████████████████████████████▉                                                                                                                                   | 193/986 [19:22<2:13:50, 10.13s/it]"
     ]
    },
    {
     "name": "stdout",
     "output_type": "stream",
     "text": [
      "generated explanation: <pad> <extra_id_0> Boats that aren't on the ocean travel across the surface of the lake. They travel across the surface of the lake in a watery way, often in the form of a boat that isn't on the ocean. Often times they travel on the surface of the lake, and they travel across the surface of the surface of the lake. During a lake's life, they travel across the surface of the lake, and they travel across the surface of the water. During a lake, they travel across the surface of the surface of the lake in a lake. They travel across the surface of the lake. During a lake's surface, they travel between the surface of the lake. During the surface of the lake, they travel across the surface of the lake. This is because they are on the ocean. During the lake, they travel between the lake's surface of the surface of the lake, and the surface of the lake to the surface of the lake.</s>\n",
      "########\n",
      "*******\n",
      "question: A small dog lived with a a woman who loved him. Where might he have lived?\n",
      "answer: person's house\n",
      "choices: [\"person's house\", 'dog house', 'canada', 'illinois', 'basket']\n",
      "common expl list: [\"Dogs are often kept as pets, and pets are often kept in their owners' homes.\", 'Animals who live with humans are often in their homes.']\n"
     ]
    },
    {
     "name": "stderr",
     "output_type": "stream",
     "text": [
      "\r",
      " 20%|████████████████████████████████                                                                                                                                   | 194/986 [19:24<1:39:58,  7.57s/it]"
     ]
    },
    {
     "name": "stdout",
     "output_type": "stream",
     "text": [
      "generated explanation: <pad> <extra_id_0> A small dog lived with a woman who loved him in a person's house. The woman who loved him would have loved him in the same house as the woman who loved him. The woman would have loved him in a house where he would have lived, and she would have loved him. The woman who loved him would have loved him in a house, and he would have lived in a woman's house. The woman would have loved him if he lived in a house that was a safe place.</s>\n",
      "########\n",
      "*******\n",
      "question: There are usually four strings on what popular instrument?\n",
      "answer: guitar\n",
      "choices: ['trumpet', 'kite', 'quark', 'guitar', \"bird's nest\"]\n",
      "common expl list: ['Guitars have four strings.', 'A guitar is a stringed instrument with four strings.']\n"
     ]
    },
    {
     "name": "stderr",
     "output_type": "stream",
     "text": [
      "\r",
      " 20%|████████████████████████████████▏                                                                                                                                  | 195/986 [19:36<1:56:39,  8.85s/it]"
     ]
    },
    {
     "name": "stdout",
     "output_type": "stream",
     "text": [
      "generated explanation: <pad> <extra_id_0> There are usually four strings on a guitar, which are usually used to play music on a regular basis. The guitar is also used for playing instruments with a string. The guitar is also used for playing a variety of instruments, such as the guitar, guitar, and piano. The strings are also used to play various instruments, such as the piano, keyboard, and keys. The strings are usually usually used to play music on a regular basis. The strings are usually used to play music on a variety of instruments, including the guitar, piano, piano, and drums. The guitar is a popular choice for many different types of instruments, and is used to play a variety of different types of music is used to play a variety of styles and styles, and also to play a variety of different sounds and styles can be used to play a variety of different styles and styles of instruments, such as the guitar, guitar is used to play on a variety of different types of music that can be used to perform on a variety of different kinds of instruments.</s>\n",
      "########\n",
      "*******\n",
      "question: Where would you find a shelf with toys for young people learning?\n",
      "answer: school building\n",
      "choices: ['corner', 'school building', 'wall', 'library', 'bookstore']\n",
      "common expl list: ['A school building is a place where children learn, and so, a school building would have a shelf with toys for young people learning.', 'School buildings house school libraries, in which you would find shelfs of toys, games and puzzle for students to use while in school.']\n"
     ]
    },
    {
     "name": "stderr",
     "output_type": "stream",
     "text": [
      "\r",
      " 20%|████████████████████████████████▍                                                                                                                                  | 196/986 [19:37<1:28:44,  6.74s/it]"
     ]
    },
    {
     "name": "stdout",
     "output_type": "stream",
     "text": [
      "generated explanation: <pad> <extra_id_0> A shelf with toys for young people learning is a great way to display educational toys in a classroom. It is a great way to display toys for young people as they build their own homes. It is also a great way to display books and other educational materials, such as books, games, and other educational materials. It is also a great way to display toys for young people to use in their classrooms. It is also a great way to display toys for young people to use in their classroom. It is also a great way to display toys for young people to display their own school building.</s>\n",
      "########\n",
      "*******\n",
      "question: What can you get after drinking too much alcohol?\n",
      "answer: sickness\n",
      "choices: ['become drunk', 'have fun', 'active', 'frequent urination', 'sickness']\n",
      "common expl list: [\"Drinking too much alchohol can impair the body and, consequently, one's ability to think straight. It can also cause sickness.\", 'Alcohol is a diuretic, which means that it makes you urinate more frequently. This can lead to dehydration, which can cause sickness.', \"Alcohol (e.g., beer, wine, etc.) is a chemical that alters people's consciousness, making them generally feel unpleasant; subsequently, over-consumption can lead to the vomiting of one's content inside one's stomach. Hence, being\"]\n"
     ]
    },
    {
     "name": "stderr",
     "output_type": "stream",
     "text": [
      "\r",
      " 20%|████████████████████████████████▌                                                                                                                                  | 197/986 [19:40<1:11:24,  5.43s/it]"
     ]
    },
    {
     "name": "stdout",
     "output_type": "stream",
     "text": [
      "generated explanation: <pad> <extra_id_0> When you drink too much alcohol, you may have a health problem. This can cause symptoms such as vomiting, diarrhea, and other symptoms. It can also lead to a severe illness. It is also known as a chronic condition, and can cause serious health problems. It is also known as a chronic condition, and it can also lead to a number of other symptoms. It is also known as a mental illness, and it can lead to physical or mental health problems. It is also known as a chronic illness, such as a person can also have a chronic illness, and can lead to a mental or physical activity related to the alcohol abuse.</s>\n",
      "########\n",
      "*******\n",
      "question: WHat is the central bank responding to when they are fighting inflation?\n",
      "answer: problems\n",
      "choices: ['deflation', 'problems', 'spend more', 'people', 'not noticeable']\n",
      "common expl list: ['Inflation is a function of having too much money in the economy. This may cause problems.', 'In order to fight inflation, a central bank must respond to the problem, e.g., economic trouble, which if left alone, would cause inflation', 'Inflation is a problem, and the central bank is responding to it by fighting it.', 'Periods of inflation cause problems for businesses and people. The central bank may take steps to fight inflation (reduce it) to respond to this problem. Reducing inflation also solves the overall issues.']\n"
     ]
    },
    {
     "name": "stderr",
     "output_type": "stream",
     "text": [
      "\r",
      " 20%|████████████████████████████████▋                                                                                                                                  | 198/986 [20:03<2:19:49, 10.65s/it]"
     ]
    },
    {
     "name": "stdout",
     "output_type": "stream",
     "text": [
      "generated explanation: <pad> <extra_id_0> When the central bank is fighting inflation, they are fighting inflation. When inflation is causing inflation, central banks are fighting inflation. This is because inflation is causing the central bank to fight inflation. The central bank is responding to inflation when they are fighting inflation. This is because the central bank is responding to inflation when inflation is fighting inflation. This is because the central bank is responding to inflation. This is because inflation is a problem that is often a problem for the central bank. This is because the central bank is responding to the inflation by a crisis. The central bank is responding to inflation. The central bank is responding to inflation, and the central bank is able to respond to inflation. The central bank is able to respond to inflation, and inflation is responding to inflation, and the central bank is responding to inflation, and the central bank is responding to inflation, which is the central bank is responding to inflation, and the central bank is responding to inflation. The central bank is responding to inflation, and the central bank is able to respond to inflation, and the central bank is also responding to inflation, the central bank is responding to inflation, and the central bank is responding to inflation, which is the central bank is responding to inflation. Inflation is able to respond to inflation, the central bank is responding to inflation, the central bank is able to respond to inflation, the central bank is able to respond to inflation, the central bank is able to respond to inflation, the central bank is responding to inflation, the central bank is responding to inflation, thereby resulting in inflation, the central bank is able to respond to inflation, while inflation. inflation is able to respond to inflation, a crisis. inflation is able to respond to inflation. Inflation is able to respond to inflation when inflation is able to fight inflation.</s>\n",
      "########\n",
      "*******\n",
      "question: What could a massive building be if it is not constructed well?\n",
      "answer: insubstantial\n",
      "choices: ['insubstantial', 'massless', 'dwarf', 'inconsequential', 'good']\n",
      "common expl list: ['Because the massive structure is so large, poor construction could render it largely inconsequential, or \"insubstantial\", as a structure.', 'A building is typically considered a sizable construction, therefore, if erected poorly, would be construed as being insubstantial.']\n"
     ]
    },
    {
     "name": "stderr",
     "output_type": "stream",
     "text": [
      "\r",
      " 20%|████████████████████████████████▉                                                                                                                                  | 199/986 [20:35<3:44:53, 17.15s/it]"
     ]
    },
    {
     "name": "stdout",
     "output_type": "stream",
     "text": [
      "generated explanation: <pad> <extra_id_0> A building is constructed well and is not constructed well. This is because it is constructed in a way that it is not constructed well. This is because it is not constructed properly. This is because it is a matter of the building itself. This is because it is constructed well and is not constructed well. It is also known as a massive building. It is a huge building that is not constructed well. This is because it is not constructed well. It is because it is constructed well. It is not constructed well. It is also because it is not constructed properly, it is not constructed well. It is not constructed well. It is also because it is constructed well. This is because it is a massive building is not constructed well, and because it is not constructed well, it is not constructed well, and it is constructed well, it is constructed well. It is also constructed well, and it is not constructed well, and it is not constructed well, it is constructed well because it is a massive building is constructed well. It is constructed well. It is also because it is not constructed well, it is not constructed well, it is not constructed well, and it is not constructed well, and it is not constructed well, it is not constructed well, and it is not constructed well, it is not constructed well, it is not constructed well, and it is not constructed well, it is not constructed well, it is not constructed well, it is not constructed well, it is not constructed well, it is not constructed well. It is not constructed well, it is constructed well, it is not constructed well, it is not constructed well, it is not constructed well, it is not a massive building is not a massive building is not a massive building is not a building is not a building is not constructed well, it is not constructed well, it is constructed well, it is not constructed well, it is not constructed well, it is not constructed well, it is not constructed well, it is not insufficient, it is not constructed well, it is not constructed well, it is not constructed well, it is not constructed in the building is not a massive building</s>\n",
      "########\n",
      "*******\n",
      "question: If you rent a condominium in a glove-shaped state where are you?\n",
      "answer: michigan\n",
      "choices: ['great lake state', 'michigan', 'community', 'towels', 'complex']\n",
      "common expl list: ['A condominium is a type of housing that is often rented. Condominiums are often located in complexes, and Michigan is a state that is shaped like a mitten.']\n"
     ]
    },
    {
     "name": "stderr",
     "output_type": "stream",
     "text": [
      "\r",
      " 20%|█████████████████████████████████                                                                                                                                  | 200/986 [20:37<2:43:55, 12.51s/it]"
     ]
    },
    {
     "name": "stdout",
     "output_type": "stream",
     "text": [
      "generated explanation: <pad> <extra_id_0> If you rent a condominium in a glove-shaped state where are you? If you rent a condominium in a glove-shaped state where are you? You can rent a condo in a glove-shaped state where you can live in a glove-shaped state where you can work, play, and play. You can also rent a condo in a condo in a glove-shaped state where you can work, play, and play. You can also rent a condo in a state where you can work, play, and play</s>\n",
      "########\n",
      "*******\n",
      "question: where do children play a game?\n",
      "answer: family room\n",
      "choices: ['toy store', 'bar', 'casino', 'table', 'family room']\n",
      "common expl list: ['A family room is a room in a house where family members can play games.', 'A family room is a room in many homes in which families can socialize, often through games. One such game is \"connect four.']\n"
     ]
    },
    {
     "name": "stderr",
     "output_type": "stream",
     "text": [
      "\r",
      " 20%|█████████████████████████████████                                                                                                                                  | 200/986 [20:39<1:21:09,  6.20s/it]"
     ]
    },
    {
     "name": "stdout",
     "output_type": "stream",
     "text": [
      "generated explanation: <pad> <extra_id_0> Family room is a great place to play a game. It is a great place to get a good sense of humor and the play is a great way to get a sense of the atmosphere in the room. It is also a great way to get a sense of the world around you. It is also a great way to get a sense of humor and fun. It is also a great way to get a sense of the world around you. It is also a great place to play games in the family room.</s>\n",
      "########\n"
     ]
    },
    {
     "name": "stderr",
     "output_type": "stream",
     "text": [
      "\n"
     ]
    }
   ],
   "source": [
    "from tqdm import tqdm\n",
    "fse_csqa_dev_data_dict\n",
    "fse_csqa_train_data_dict\n",
    "rationale_pair_dev_data = []\n",
    "cc=0\n",
    "good_model = model\n",
    "for da in tqdm(our_data_splits['dev'], total=len(our_data_splits['dev'])):\n",
    "    print(\"*******\")\n",
    "    print(\"question: {}\".format(da['question']))\n",
    "    print(\"answer: {}\".format(da['answer']))\n",
    "    print(\"choices: {}\".format(da['choices']))\n",
    "    #print(\"our_explanation: {}\".format(da['our_explanation']))\n",
    "    id_ = da['id']\n",
    "    if id_ in fse_csqa_dev_data_dict.keys():\n",
    "        common_expl_list = fse_csqa_dev_data_dict[id_]['common_expl_list']\n",
    "    else:\n",
    "        common_expl_list = fse_csqa_train_data_dict[id_]['common_expl_list']\n",
    "    da[\"common_expl_list\"] = common_expl_list\n",
    "    print(\"common expl list: {}\".format(common_expl_list))\n",
    "    inp_ids = torch.tensor(da[\"input_ids\"], device=model.device).reshape(1, -1)\n",
    "    out = good_model.generate(\n",
    "                    inp_ids,\n",
    "                    max_length=512,\n",
    "                    pad_token_id=tokenizer.pad_token_id,\n",
    "                    eos_token_id=tokenizer.eos_token_id,\n",
    "                )\n",
    "    skip_special_tokens = False if \"infilling\" in data_args.io_format else True\n",
    "    words = tokenizer.decode(out[0].tolist(), skip_special_tokens=skip_special_tokens)\n",
    "    print(\"generated explanation: {}\".format(words))\n",
    "    da[\"generated_explanation\"] = words\n",
    "    print(\"########\")\n",
    "    rationale_pair_dev_data.append(da)\n",
    "    cc += 1\n",
    "    if cc > 200:\n",
    "        break\n",
    "    #pdb.set_trace()"
   ]
  },
  {
   "cell_type": "code",
   "execution_count": 51,
   "id": "a7a66b99",
   "metadata": {},
   "outputs": [],
   "source": [
    "import json\n",
    "rationale_pair_save_path = os.path.join(\"./results\", \"48shots_cose_t5_base_text003_150_200_rationales_generator_test_rationale_pair.json\")\n",
    "with open(rationale_pair_save_path, 'w') as f:\n",
    "    json.dump(rationale_pair_dev_data, f)"
   ]
  },
  {
   "cell_type": "code",
   "execution_count": 52,
   "id": "33daef0f",
   "metadata": {},
   "outputs": [
    {
     "data": {
      "text/plain": [
       "dict_keys(['5b8a3081c3235d62bc77e2d15f3ad454', '07f108d5321a66f460685f5c7499ecb2', 'ff1bf2ec835c9df8695ae0cfb5281646', '33ea932a876ac0361c9eefeff1d24e92', '35ad89c198d5d6311a71c993bb7b6cba', 'a2aa95861ef74bf1ecfc55db505e3982', 'af3b9a8b1962cd3bcd19e644d873e7bc', '91e0f4ab62c9d2fd440d73a3f5308d96', 'cfc7fccb8449a2a950c9d2a50991420e', 'edbb57ac2f476679ae547f75ec2bef3e', '8555dd9667d010018961a2f7d1c22704', '8bdbb8caefcc607a9ec7579aa0c87cba', '549cf641318edfc0510fa7c7dbb359e1', 'd6c002d46d9bfa466637cec4a134f332', '3b9ccdcb1c932c46a38e040d3e6c7f5b', '54231f875bb7fe4d3e4afb6eae64387c', '668dc6bce771b10cbf6336f3ec76520a', '900492bd731f8f615ed7c08155737d44', '0b25bbd9e9aa976655e1975e31331709', '1729c737ff92cf558efecde2c6cafc5e', 'cc1a547bdfdcc95e4d632453af14bc96', 'c492b8b9754a181c924c1df19998cbc7', 'd31ee38f67d1173275e120b8ad36039c', '083861fc5ebb9226fff70544f3f83d2b', 'e1744fc698cffb574e5cf4b29a81ce76', '1f492f556fae64f72ce36b6caa242dd0', '27604394ccee83e089f9ffae1883cf07', 'b3dc6d6a5e2f9d7da8eb72816c80b3f8_1', '6bc3ebcfd04965c25bde71339955746c', '69335eb9bc5b7b5df840c38a086bf8b2', 'bc05bc6b4df7a3d25a361515fe8912ad', 'f7c005244d406b9bde48dc8c22003af1', 'f48528156632b9c5b18af9ce2095509b', 'b5baf77d3855935c87f01f5fb2216667', 'db1eb157671109bbb9113b0f71a6b957', '77ddc9134bb27f9962aa2ed5ec5a5ef9', '6abd34442438509b4a00c69d6fd24764', 'b67971747e95ba425a5b81e0ba8d0b28', 'bee2a6eadfaf7a4fa0a214e341ddbe5b', '8ce13c6e08bf38d4cd4af756b661e47c', '80930e9df9ac4ad752749a54e7fc124f_1', '3ffe67fb009529d9b0c49ccd7141ee4a', '8d3dc21a53523850ec80771daaa5ff20', '3310b5b24f03d67179fababf9ae95144', '998381f854f51da2a6ccde45909e5168', 'f427f9de6bf580314531baf86de8acbc', '18844d3aa4e52b331b5382c8244cf4db', '8af63d58cc35061dec38e5448c325988', '768fb09deab56046e1565b6a2556ad5c', '5655a3002dd9a6b7dabede1dd26a5893', '07ea8ff6ee916f2bf9aceab1e19ff99a', 'd35a8a3bd560fdd651ecf314878ed30f', '449de58e919975867255218484a9fc89', '7cf54544d54818d53e7088c0749a3eca', 'd29252ddaf7c7ef491abcce342d7bb98', '4a4f6408fae400ce0beb5bea0f9913e9', 'c306ab28498b67c53decb9dde1d78bd5', 'ba9132ebf2bc3ad21e6a0631dc4e0a77', '026cb9c07a583ec933f2c4c67ae73836', '2a21820a135e1a49883525c055c74a0b', '7c45033e9fd9f1a759923971b14390ed', 'dc964e4f6df6b70815e81e466d0ff717', '2a32b1e541b1daae04690d0d3a4b3310', '6c515b068b4d3aa88a5382224d9b866d', '6c84e79d0595efd99596faa07c4961d0', '42c46e28baf0fc617a07419286178c0a', 'c39131d979c9205c11d0e109e18188e4', 'c592258c88295756833e9796e881057b', '3526550b02d9594abd4fc43553010fc6', '637c710ec9582fd9b9e8eaa3f3fe83bb', '01f01cc3ad152773ef42b30e926912bf', 'c54ddc0f9d170ba65d9f4f2e0bb41d1c', 'ad37795fd9e3a65553683ff305b5113d', '7a3d0c94438a5c8a09364aaebb848a2c', '7c05e8d5a057085455eea243fbd1cd90', '4364b4b342fb7b44434bd6694bf8fd51', '99098375c7b651d524eebac72e358238', '1ddd239a2a6438a891cb411b82e7f450', 'f4bb8ecacb9ce89e040f5f76bc79afb3', '6b9221c1af583ffb43580857d6fde38a', 'cf8e30dd6956d03e3f0f0397112a8696', '456f2fb41cac8c028dcfe2f48637e473', 'c908d7c4633c5e6add9463bdd47cb27e', '2de08c7a518b7c226e19bdc8fc10ef1d', 'cd639cf3ff82f825ace7dd2b087562bd', 'e3c6d147f8a727d314046e70e9579ba0', 'b9b82aa4c236cd342ff95455b8516a42', 'e4976ee741cf4b28b8a42780ffb15774', '8d275acea05fd16295c659c504576a9b', '3bf06235a537adc9d85431846595b800', 'a7d51b753c2113d8b2dbd0ebb5375855_1', 'bcc5dd6292a64d8fa17cd07c360b335d', '46ba5d2b8cfc6708e5e2618568d8730e', '9f9ca9bb06d6afc31b19c365fb29a1c9', '3d9c3253e24fb108cea9083e8a853cf2', '3b8e1d236f5169b6c833a994d6d9c39a', '6ca8439d062de4d43d7d471c508b78db', 'ec86900559a0faf2aef066e511a4cfa6', '57e96118fee6e2bbac5f59790fc833c0', '520b0eea9148e3cb4d45aa69a55491eb', '6be05d227f4f6fe727218fc8be9df340', '113aaea2b1a27a976547f54e531d99bb', '2f0931adc3d0d422d9ab6264395e89d8', 'cce1b59f7c4f540a84a1a7d6d88548c4', '870b07a1c5af2e956673a9680da99852', '34005ef0caafefc8585c9fcd50e94557', '22458fdcead20e2def0df0d92d5806f6', 'ec224c1dbfb569cce7ec317fe987ae68', 'ede4d302fc2ffe07703158f83c1493f2', 'ecd32cc0c17d4738a27bba3399f04591', '5c171b9837af49211891ce40e4a10204', '801431167b8bff06b9870abe9721536b', 'b47d912136e3304cb5e5890b6b879551', 'd0bd5b5ee7319d1c4727e38d429dd54e', '78276a4eab6e8d6b9ae3749211816977', 'ec79ef747bb89281923edb89ba26786d', '0e80f2afe5c4f652e8720b52d7c06c87', '39572e0ba1db51fa74f7fc2d90c5ec7f', '56417ee33b44f0d916bedfb6fd99b0ec', 'f996430ce208606452868fd2e739d409', '858a5eaa587fe0e266722228671a6bd1', '273d0134e8ce53d4ebcf41ca7fde02af', '49e466b1782aa4837dae53ff891fcdee', '08d908ed723f813574992195d61386a2', '7192c9f5c513aac9042bad595ff5af9f', 'aa4c5d2d348796b8d7fa324f27f4c34f', '0e52659484f2f6d763cf0d38d4c5999d', '4423c006f2a43f222d4c4e97360c25d3', 'f4a75bf3f115b826a8097edfd0ff2781', '07b51b231a9d6a143d8a73e69121e1b1', 'c2a8c6814ed3e207771cfc23b3b42cf1', 'f13efb91090dd28fd2b3c1f4dde680fd', '985a4f1a3f31f1ba6654f4fc48f504df', '9e5ce2b7d9eb404cdf8c7317dd0b5a59', 'a400b9fd1e319f901471c4b42d401c52', '042898e0c71adac5d123aaa6221c9754', '29c194d032a266a7160bff6f546a4d9d', 'db0cfd52ca6b2bbfcf26d1a898fd929b', '2a0e82bbf1471290c93c8f2a11af197f', '49b4c9e1bd7946a819e173ce8fa4c7c9', '6cb895ce89995f6be422f7c4167c7638', 'df1bf6f3f87975aa0c1b6d6153d9ecef', '1bf4c6b5bd870b1a079106e1e97e5d09', '8ae24d3ff199077a59e0d970feb665b7', 'bb503ece4eac41dfe608a1dcb654e6bf', '6e77de03bee86d6c20780e14f00944d0', '5799089c131e26473697afc54d5f6964', '895aa97bb84d874d71b2aed572cebfdd', '23d97480fe45bace231503f8fc367a5b', 'a2977fd575faba162d04a490dabd1b9b', '5a1c8a9dbbb60e523cc1ba14a370729c', '5496c7293f653120e5a5213db2d7b103', '7044d82a456d0fa6f0210abb03cbf2c4', '15b090801256085ad465e74af47cbee9', 'aa984e2b487d08889bc0c73bab5ac945', '4302e727e47f464511d4d04f22bed0d2', 'b6b66d4519a84b8331ea55f84767e9df', '0e5c7c0cec5b693e52f74f5f879d84fb', 'e408a5a031caec33782cb3b3a005eecc', '96cb628fb7ed2f53245598f707ed2b80', '2067720531fc03c017af941cec2f6f40', '5b8d76889510384b38b72945e8d28f53', 'cf33e0f5891ce53a716432be06a46ee1', '24eebfa678112100803da16dde148b2d', '0c2fa15a02d0b6ca6707e98fac7589e4', 'c2c2a387fd9a6a26cff636008de21f71', 'f20d40bc4af588223e880e0bb58b27b8', 'b42ef8be1748c19fa5938de5396f8fad', '57b83653d82b27d32bc39228130f3516', '2192c5c2145a6e03755ad89a02e64055', '175e7dcdded13d5adafaebf2264c3abd', '8d4b0312f02be445e09a9462873d02bb', 'cfa081b5ba90dae4d7ddb5b7ad9d369a', 'd6bb990e8c409d2b3af37a2da198e01f', '20a3bb788cf408d9a3e25e610fe60905', 'af11faa29097b71141fe192ad019d1dd', '6915dfdefe3b1cd5fd8886c8bb84929a', '43ba9669564217f2f909f33acbedaf95', 'fce1c5d069758aea57a787fc98dcf7a9', '32758ab86d888be680845b0dfe7de35e', '7ea57ee4580042b0a6a40479c8ace3e4', '21fb76bd8349628b441c76f47c33e77b', '3fe45ab3bd4a844ea290050fc0ece8c1_1', '3dee8fc7f0a3fbf4de111b6686fca157', 'ceafca2445b1b974d085a8cce38e8e44', '42520bf3f93f8de23670044e019001a3', '5ea6b94d1a911365b06cf776919413e8', '2d3c9d3dff1a7a8253180cb3de1ceeea', 'a4892551cb4beb279653ae52d0de4c89', 'e050bce7048da1b3743a54153e91694e', 'eb50f536830ba18ab987c7ff652e2aba', '6386bcf080633bc3eeb3317a5435b7b7', '839f3c37622c1ed5eebc9cd0b9d658e8', '009a7aabffe0583fc2df46656b29c326', 'c82ed0c2a2e115452b4d596c5faafbcf', '01abce8c4964371d85a5be2019f75827', '7d937233b4a9043da0b976dbd42d141b', 'c611875b43b67b91030b889b267bbcb3', '7bc1198664b376f79d584725ad7f874b', '5e260e1d96187716888cbd968010bb65', 'fde48d43e27cefed6ed9c52514e0bb6d', '43ab0ff711e60d51f943bbd2cdd6515a', '1a8b3c2a46efabcbd506f9cf70886ed0', '48a315cfa3ce11f7a9d615bc854331d5', '095767956c500ca1af7cf7671556de5b', 'de54d03e69d9765872f95ff06ed21499', 'cbf3dd48b4d591fc872a53cd4b9dd3af', '35872be88df5f6c4a6600020266a5458', 'a90f9197a13c64089c9ba95bcba275ad', 'bd4e80fa6642a76c064d0bc924411fb0', '008b7ba0c039f6d0d542c6c90aae173c', 'ace8fa2943ba8414aebdb74b48906fae', '1caf93d6a22dc8190e19c14bbe1fafda', '7c8bc9c0e56389eef033bca40c88c151', '6195ed74cf445cb5d991e1076a080dde', '8086f022f2d4a4888ae1f8c7e4541ab9', '1e5a138b4c7d456c37abf4990b402bbe', '3f4b48708d08f8bf7bec796531023f9c', '60e92cd2f35c345872d1a898e1718d55', '9889e5389917d812c09d6e5d382d333d', '46351b3a6beb694c5f623583a3b1473d', '7b7941b883328ad39048d4dfb1eb5623', '7d7f7d7a8ae3b20ca9fc0da6efe467b4', 'c961578f4c5768b67b843e5d2ce18452', '514310637fb43a252bfadc8cbf79b277', '5279a2ea333ba8a5bf3a7637a7279da1', '5622e49306bb82ec1cec817ad0506c60', 'fcd39cfa321728fea069a6ae4285b06f', '26bd85f05d29863ed777a4f1a4b8fa63', '31487ab8b1e8f12e252590cc58bd19c2', 'ffd89796a9b09bef56c5803f188764c6', 'ba3a2b9ff289c106051163f840a6f5ba', 'b1f36d1c8ab7e5a28783cb38e8709c27', '5c2bc4335c8860342ec2d568ceb6ac6b', '36c1f50eec01c287b8ef6ffe69fe0528', '515834727e23e30ab7c8fe5ba7e9a765', 'a15d564d0be6996251b5d523ac62db2a', '8f01273422a370a8dbda6bf473a395a0', 'cabefb7063a728e77abd44d97397a2a4', '1bc986f8aea88d6927d8a45367855a94', '484f6e4fb8e6431b010c299490b72e3c', 'a7e3de0719fe30e7048f67426e29fdd1', 'a617eb4d27edea93e7fd630ce00c8219', '2c0030cc14a27be2401dcfdaa501f0fc', 'cf02cca40a47c2deefd8b2e5a5ff2f70', 'ea0e7771afd86a59fd9f7764b77e3fa4', 'c1aebf059c5102f4e773f7fe4afe13f0', '95a85df48902d23eb3fda25a99fca1a0', 'a4b44a986e7f9045432e20ea75611df4', '05490e6c191fbc3c2fe0033ed0bd8aa0'])"
      ]
     },
     "execution_count": 52,
     "metadata": {},
     "output_type": "execute_result"
    }
   ],
   "source": [
    "fse_csqa_dev_data_dict.keys()"
   ]
  },
  {
   "cell_type": "code",
   "execution_count": null,
   "id": "bd852d7d",
   "metadata": {},
   "outputs": [],
   "source": []
  }
 ],
 "metadata": {
  "kernelspec": {
   "display_name": "Python 3 (ipykernel)",
   "language": "python",
   "name": "python3"
  },
  "language_info": {
   "codemirror_mode": {
    "name": "ipython",
    "version": 3
   },
   "file_extension": ".py",
   "mimetype": "text/x-python",
   "name": "python",
   "nbconvert_exporter": "python",
   "pygments_lexer": "ipython3",
   "version": "3.7.0"
  }
 },
 "nbformat": 4,
 "nbformat_minor": 5
}
