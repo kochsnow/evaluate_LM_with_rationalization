{
 "cells": [
  {
   "cell_type": "code",
   "execution_count": 1,
   "id": "f5286ba7",
   "metadata": {},
   "outputs": [
    {
     "name": "stderr",
     "output_type": "stream",
     "text": [
      "\u001b[34m\u001b[1mwandb\u001b[0m: Currently logged in as: \u001b[33mdengdenghuang\u001b[0m (\u001b[33mcuhk_lavilab\u001b[0m). Use \u001b[1m`wandb login --relogin`\u001b[0m to force relogin\n"
     ]
    },
    {
     "name": "stdout",
     "output_type": "stream",
     "text": [
      "env: WANDB_PROJECT=evaluate_LM_with_rationalization\n"
     ]
    }
   ],
   "source": [
    "import wandb\n",
    "wandb.login()\n",
    "\n",
    "%env WANDB_PROJECT=evaluate_LM_with_rationalization"
   ]
  },
  {
   "cell_type": "code",
   "execution_count": 2,
   "id": "30300ea6",
   "metadata": {},
   "outputs": [],
   "source": [
    "# import gpt3\n",
    "import logging\n",
    "import math\n",
    "import os\n",
    "\n",
    "from typing import List, Dict, Any, NewType\n",
    "\n",
    "InputDataClass = NewType(\"InputDataClass\", Any)\n",
    "os.environ[\"CUDA_VISIBLE_DEVICES\"] = \"7\"\n",
    "from transformers import (\n",
    "    T5Config,\n",
    "    T5ForConditionalGeneration,\n",
    "    T5Tokenizer,\n",
    "    HfArgumentParser,\n",
    "    TrainingArguments,\n",
    "    set_seed,\n",
    "    EarlyStoppingCallback\n",
    ")\n",
    "from transformers.trainer_utils import EvaluationStrategy\n",
    "from transformers.integrations import TensorBoardCallback\n",
    "import transformers\n",
    "from transformers import Trainer\n",
    "\n",
    "#from feature_conversion_methods import format_instance\n",
    "\n",
    "from custom_args import (\n",
    "    DataTrainingArguments,\n",
    "    ModelArguments\n",
    ")\n",
    "from metrics import evaluate\n",
    "import torch\n",
    "import datasets\n",
    "import git\n",
    "import time\n",
    "from datetime import datetime\n",
    "import sys\n",
    "from tqdm import trange\n",
    "import random \n",
    "import pandas as pd \n",
    "import jsonlines\n",
    "from copy import deepcopy \n",
    "\n",
    "logger = logging.getLogger(__name__)\n",
    "transformers.logging.set_verbosity_info()\n",
    "import re\n",
    "def set_global_logging_level(level=logging.ERROR, prefices=[\"\"]):\n",
    "    \"\"\"\n",
    "    Override logging levels of different modules based on their name as a prefix.\n",
    "    It needs to be invoked after the modules have been loaded so that their loggers have been initialized.\n",
    "\n",
    "    Args:\n",
    "        - level: desired level. e.g. logging.INFO. Optional. Default is logging.ERROR\n",
    "        - prefices: list of one or more str prefices to match (e.g. [\"transformers\", \"torch\"]). Optional.\n",
    "          Default is `[\"\"]` to match all active loggers.\n",
    "          The match is a case-sensitive `module_name.startswith(prefix)`\n",
    "    \"\"\"\n",
    "    prefix_re = re.compile(fr'^(?:{ \"|\".join(prefices) })')\n",
    "    for name in logging.root.manager.loggerDict:\n",
    "        if re.match(prefix_re, name):\n",
    "            logging.getLogger(name).setLevel(level)\n",
    "set_global_logging_level(logging.ERROR, [\"datasets\"])\n",
    "\n",
    "\n",
    "CONFIG_MAPPING = {\"t5\": T5Config}\n",
    "MODEL_MAPPING = {\"t5\": T5ForConditionalGeneration}\n",
    "TOKENIZER_MAPPING = {\"t5\": T5Tokenizer}\n",
    "\n",
    "\n",
    "def set_other_seeds(seed):\n",
    "    torch.backends.cudnn.benchmark = False\n",
    "    #torch.backends.cudnn.deterministic = True\n",
    "    os.environ['PYTHONHASHSEED'] = str(seed)\n",
    "\n",
    "# inspired by DefaultDataCollator from:\n",
    "# https://github.com/huggingface/transformers/blob/master/src/transformers/data/data_collator.py\n",
    "# modified to perform batch-level padding.\n",
    "class SequenceCollator:\n",
    "    def __init__(self, model, pad_token):\n",
    "        self.model = model\n",
    "        self.pad_token_mapping = {\n",
    "            \"labels\": -100,\n",
    "            \"attention_mask\": 0,\n",
    "            \"decoder_attention_mask\": 0,\n",
    "            \"input_ids\": pad_token,\n",
    "        }\n",
    "\n",
    "        self.columns = [\n",
    "            \"input_ids\",\n",
    "            \"attention_mask\",\n",
    "            \"labels\",\n",
    "            \"decoder_attention_mask\",\n",
    "        ]\n",
    "\n",
    "    def __call__(self, examples: List[Dict[str, InputDataClass]]) -> Dict[str, torch.Tensor]:\n",
    "        # re-format inputs for training\n",
    "        batch = {}\n",
    "        for key in examples[0].keys():\n",
    "            if key in self.columns:\n",
    "                tmp_list = []\n",
    "                for item in examples:\n",
    "                    tmp_list.append(item[key])\n",
    "\n",
    "                # pad lists to max length\n",
    "                if isinstance(tmp_list[0], list):\n",
    "                    max_length = max(map(len, tmp_list))\n",
    "                    tmp_list = [\n",
    "                        el + [self.pad_token_mapping[key]] * (max_length - len(el))\n",
    "                        for el in tmp_list\n",
    "                    ]\n",
    "\n",
    "                batch[key] = torch.tensor(tmp_list, dtype=torch.long)\n",
    "        return batch\n"
   ]
  },
  {
   "cell_type": "code",
   "execution_count": 3,
   "id": "2fa5a75a",
   "metadata": {},
   "outputs": [],
   "source": [
    "from collections import defaultdict\n",
    "import random\n",
    "\"\"\"\n",
    "Example-to-Feature conversion methods\n",
    "Modified from\n",
    "https://github.com/salesforce/cos-e/blob/master/code/generation/train_commonsenseqa_v1.0.py and \"\"_v1.11.py (identical)\n",
    "as well as Tensorflow code for WTF?: \n",
    "https://github.com/google-research/google-research/blob/master/wt5/wt5/preprocessors.py\n",
    "\"\"\"\n",
    "# This code is based on https://github.com/allenai/label_rationale_association/blob/main/feature_conversion_methods.py\n",
    "\n",
    "unified_qa_esnli_label_mapping = {0: 'yes', 1: 'maybe', 2: 'no'}\n",
    "unified_qa_esnli_label_mapping_upper = {0: 'Yes', 1: 'Maybe', 2: 'No'} \n",
    "wt5_esnli_label_mapping = {0: 'entailment', 1: 'neutral', 2: 'contradiction'} \n",
    "unified_qa_sbic_label_mapping = {\"offensive\": 'Yes', \"not offensive\": 'No'}\n",
    "\n",
    "def format_instance(\n",
    "        example,\n",
    "        tokenizer,\n",
    "        explanation_sep,\n",
    "        max_seq_length=None,\n",
    "        datasource=None,\n",
    "        io_format=None, \n",
    "):\n",
    "    assert datasource in {\"cos_e\", \"esnli\", \"sbic\", \"sensemaking\", \"ecqa\"}\n",
    "\n",
    "    if datasource in [\"cos_e\", \"ecqa\"]:\n",
    "        input_string, answer_string = cqa_formatting(example, io_format, explanation_sep, datasource)\n",
    "    elif datasource == \"esnli\":\n",
    "        input_string, answer_string = esnli_formatting(example, io_format, explanation_sep)\n",
    "    elif datasource == 'sbic':\n",
    "        input_string, answer_string = sbic_formatting(example, io_format, explanation_sep)\n",
    "    elif datasource == 'sensemaking':\n",
    "        input_string, answer_string = sensemaking_formatting(example, io_format, explanation_sep)\n",
    "    else:\n",
    "        raise ValueError(\"Unknown task. Currently supported: esnli, cos_e, sbic, sensemaking, ecqa.\")\n",
    "    \n",
    "    if 'unified' in io_format and 'unifew' not in io_format:\n",
    "        input_string += '</s>'\n",
    "\n",
    "    input_string = ' '.join(input_string.split())\n",
    "    answer_string = ' '.join(answer_string.split())\n",
    "\n",
    "    input_string = ' '.join(input_string.split())\n",
    "    answer_string = ' '.join(answer_string.split())\n",
    "\n",
    "    encodings = tokenizer.encode_plus(\n",
    "        input_string,\n",
    "        max_length=max_seq_length,\n",
    "        pad_to_max_length=False,\n",
    "        return_token_type_ids=False,\n",
    "        return_attention_mask=True,\n",
    "    )\n",
    "\n",
    "\n",
    "    # note even with \"lm_labels.shift_right()\", the decoder attention mask length is still correct since we remove the last token\n",
    "    dec = tokenizer.encode_plus(\n",
    "        answer_string,\n",
    "        max_length=max_seq_length,\n",
    "        pad_to_max_length=False,\n",
    "        return_token_type_ids=False,\n",
    "        return_attention_mask=True,\n",
    "    )\n",
    "\n",
    "    encodings[\"labels\"] = dec[\"input_ids\"]\n",
    "    encodings[\"decoder_attention_mask\"] = dec[\"attention_mask\"]\n",
    "    encodings[\"question_encoding\"] = encodings[\"input_ids\"]\n",
    "\n",
    "    #return encodings\n",
    "    return {**example, **encodings}\n",
    "\n",
    "#这里很简单 定义好输入输出string就可以的\n",
    "def cqa_formatting(item, io_format, explanation_sep, datasource):\n",
    "    question = item[\"question\"]\n",
    "    answer = item[\"answer\"]\n",
    "    abstr_expl = item[\"abstractive_explanation\"].lower() if datasource == 'cos_e' else item[\"explanation\"].lower()\n",
    "\n",
    "\n",
    "    if io_format == 't5_fewshot_infilling_with_choices':\n",
    "        input_string = f\"explain {datasource} question: {question} choice: \" + \" choice: \".join(item[\"choices\"]) + f\" <extra_id_0> {explanation_sep} <extra_id_1>\"\n",
    "        answer_string = f\"<extra_id_0> {answer} <extra_id_1> {abstr_expl} <extra_id_2>\"\n",
    "    elif io_format == 't5_fewshot_infilling_more_natural':\n",
    "        input_string = f\"explain {datasource} question: {question} choice: \" + \" choice: \".join(item[\"choices\"]) + f\" The answer is <extra_id_0> {explanation_sep} <extra_id_1>\"\n",
    "        answer_string = f\"<extra_id_0> {answer} <extra_id_1> {abstr_expl} <extra_id_2>\"\n",
    "    elif io_format == \"squad\": \n",
    "        input_string = f\"explain {datasource} question: {question} context: \" + ', '.join(item['choices']) # explain cos_e question: When getting in shape you need to have this in between workouts? context: give up, period of recovery, jogging\n",
    "        answer_string = f\"{answer} {explanation_sep} {abstr_expl}\" # period of recovery because without a period of recovery you will not get any gains.\n",
    "    elif io_format == \"record\": \n",
    "        # might not work because cos_e doesn't have a passage \n",
    "        input_string = f\"explain {datasource} query: {question} entities: \" + ', '.join(item['choices']) # explain cos_e query: When getting in shape you need to have this in between workouts? entities: give up, period of recovery, jogging\n",
    "        answer_string = f\"{answer} {explanation_sep} {abstr_expl}\" # period of recovery because without a period of recovery you will not get any gains.\n",
    "    elif io_format == 'unifiedqa_matching':\n",
    "        choice_ids = ['(A)', '(B)', '(C)', '(D)', '(E)']\n",
    "        input_string = f'explain {question.lower()} \\\\n'\n",
    "        for choice_id, choice in zip(choice_ids, item[\"choices\"]):\n",
    "            input_string += f' {choice_id} {choice.lower()}'\n",
    "        answer_string = f\"{answer.lower()} {explanation_sep} {abstr_expl.lower()}\"\n",
    "        answer_string = answer_string.lower()\n",
    "    elif io_format == 't5_fewshot_infilling_without_choices_use_refined_expl':\n",
    "        input_string = f\"explain {datasource} question: {question} choice: \" + \" choice: \".join(item[\"choices\"]) + f\" <extra_id_0> {explanation_sep} <extra_id_1>\"\n",
    "        input_string = f\"explain {datasource} question: {question} answer: {answer}\" + f\" {explanation_sep} <extra_id_0>\"\n",
    "        answer_string = f\"<extra_id_0> {item['our_explanation']} <extra_id_1>\"\n",
    "\n",
    "    else:\n",
    "        raise ValueError(\"The IO format is not supported. Choose `standard` or `masked_cause_generate`.\")\n",
    "    \n",
    "    return input_string, answer_string\n",
    "\n",
    "\n",
    "def esnli_formatting(item, io_format, explanation_sep):\n",
    "\n",
    "    premise = item[\"premise\"]\n",
    "    hypothesis = item[\"hypothesis\"]\n",
    "    answer = unified_qa_esnli_label_mapping[item[\"label\"]] if 'unified' in io_format else wt5_esnli_label_mapping[item[\"label\"]]\n",
    "    abstr_expl = item[\"explanation_1\"].lower() \n",
    "    # Dev/test instances have more than one explanation annotated; merge them into one sequence separated by [SEP] \n",
    "    for k in [2,3]:\n",
    "        if f\"explanation_{k}\" in item and item[f'explanation_{k}']!='': \n",
    "            abstr_expl += f\" [SEP] {item[f'explanation_{k}'].lower()}\"\n",
    "\n",
    "    if io_format == 'standard':\n",
    "        input_string = f\"explain nli hypothesis: {hypothesis} premise: {premise}\"\n",
    "        answer_string = f\"{answer} {explanation_sep} {abstr_expl}\"\n",
    "    elif io_format == 't5_fewshot_infilling':\n",
    "        input_string = f\"explain nli hypothesis: {hypothesis} premise: {premise} <extra_id_0> {explanation_sep} <extra_id_1>\"\n",
    "        answer_string = f\"<extra_id_0> {answer} <extra_id_1> {abstr_expl} <extra_id_2>\"\n",
    "    elif io_format == 't5_fewshot_infilling_more_natural':\n",
    "        input_string = f\"explain nli hypothesis: {hypothesis} premise: {premise} This is <extra_id_0> {explanation_sep} <extra_id_1>\"\n",
    "        answer_string = f\"<extra_id_0> {answer} <extra_id_1> {abstr_expl} <extra_id_2>\"\n",
    "    elif io_format == \"squad\": \n",
    "        input_string = f\"explain nli question: Is this entailment? context: {hypothesis} {premise}\"  \n",
    "        answer_ynm = unified_qa_esnli_label_mapping[item[\"label\"]]\n",
    "        answer_string = f\"{answer_ynm} {explanation_sep} {abstr_expl}\" \n",
    "    elif io_format == \"squad_endswith_what\":\n",
    "        input_string = f\"explain nli question: What is this? context: {hypothesis} {premise}\"  \n",
    "        answer_string = f\"{answer} {explanation_sep} {abstr_expl}\"  \n",
    "    elif io_format == \"squad_nli_mix\": \n",
    "        input_string = f\"explain nli question: Is this entailment? context: hypothesis: {hypothesis} premise: {premise}\"  \n",
    "        answer_ynm = unified_qa_esnli_label_mapping[item[\"label\"]]\n",
    "        answer_string = f\"{answer_ynm} {explanation_sep} {abstr_expl}\"  \n",
    "    elif io_format == \"squad_nli_mix_endswith_what\":  \n",
    "        input_string = f\"explain nli question: What is this? context: hypothesis: {hypothesis} premise: {premise}\"  \n",
    "        answer_string = f\"{answer} {explanation_sep} {abstr_expl}\"   \n",
    "    elif io_format == 'unifiedqa_unifew':\n",
    "        hypothesis = hypothesis.lower().rstrip('.')\n",
    "        unified_qa_esnli_label_mapping_upper = {0: 'Yes', 1: 'Maybe', 2: 'No'}\n",
    "        answer = unified_qa_esnli_label_mapping_upper[item[\"label\"]]\n",
    "        input_string = f'explain {premise} Is {hypothesis}? \\\\n (A) Yes (B) Maybe (C) No'\n",
    "        answer_string = f\"{answer} {explanation_sep} {abstr_expl}\"  \n",
    "    elif io_format == 'unifiedqa_unifew_nli_mix':\n",
    "        premise = premise.lower().rstrip('.')\n",
    "        unified_qa_esnli_label_mapping_upper = {0: 'Yes', 1: 'Maybe', 2: 'No'}\n",
    "        input_string = f'explain hypothesis: {hypothesis} Is premise: {premise}? \\\\n (A) Yes (B) Maybe (C) No'\n",
    "        answer_string = f\"{answer} {explanation_sep} {abstr_expl}\"  \n",
    "    elif io_format == 'unifiedqa_ynm': \n",
    "        input_string = f'explain is this entailment? \\\\n {hypothesis.lower()} {premise.lower()}'  \n",
    "        answer = unified_qa_esnli_label_mapping[item[\"label\"]]\n",
    "        answer_string = f\"{answer} {explanation_sep} {abstr_expl.lower()}\"  \n",
    "    elif io_format == 'unifiedqa_snli_mix_ynm': \n",
    "        input_string = f'explain is this entailment? \\\\n hypothesis: {hypothesis.lower()} premise: {premise.lower()}' \n",
    "        answer = unified_qa_esnli_label_mapping[item[\"label\"]]\n",
    "        answer_string = f\"{answer} {explanation_sep} {abstr_expl.lower()}\"  \n",
    "    elif io_format == 'unifiedqa_snli_mix_ynm_with_choices': \n",
    "        input_string = f'explain is this entailment? \\\\n (A) yes (B) maybe (C) no \\\\n hypothesis: {hypothesis.lower()} premise: {premise.lower()}'  \n",
    "        answer = unified_qa_esnli_label_mapping[item[\"label\"]]\n",
    "        answer_string = f\"{answer} {explanation_sep} {abstr_expl.lower()}\"  \n",
    "    elif io_format == 'unifiedqa_what_v2': \n",
    "        input_string = f'explain what is this? \\\\n {hypothesis.lower()} {premise.lower()}'  \n",
    "        answer = wt5_esnli_label_mapping[item[\"label\"]]\n",
    "        answer_string = f\"{answer} {explanation_sep} {abstr_expl.lower()}\"  \n",
    "    elif io_format == 'unifiedqa_snli_mix_what_v2': \n",
    "        input_string = f'explain what is this? \\\\n hypothesis: {hypothesis.lower()} premise: {premise.lower()}'  \n",
    "        answer = wt5_esnli_label_mapping[item[\"label\"]]\n",
    "        answer_string = f\"{answer} {explanation_sep} {abstr_expl.lower()}\"  \n",
    "    elif io_format == 'unifiedqa_snli_mix_what_with_choices_v2': \n",
    "        input_string = f'explain what is this? \\\\n (A) entailment (B) neutral (C) contradiction \\\\n hypothesis: {hypothesis.lower()} premise: {premise.lower()}'  \n",
    "        answer = wt5_esnli_label_mapping[item[\"label\"]]\n",
    "        answer_string = f\"{answer} {explanation_sep} {abstr_expl.lower()}\"     \n",
    "    else:\n",
    "        raise ValueError(\"The IO format is not supported.\")\n",
    "\n",
    "    return input_string, answer_string\n",
    "\n",
    "\n",
    "def sbic_formatting(item, io_format, explanation_sep):\n",
    "    # We pre-processed the SBIC dataset such that we join multiple implied statements with the [SEP] token for dev/test instances \n",
    "    # Each annotation in the training split is a separate instance\n",
    "    post = item['post']\n",
    "    answer = unified_qa_sbic_label_mapping[item[\"offensiveYN\"]] if 'unified' in io_format else item[\"offensiveYN\"].replace(\"not offensive\", \"not_offensive\")\n",
    "    abstr_expl = item[\"targetStereotype\"]\n",
    "    \n",
    "\n",
    "    if io_format == 'cola':\n",
    "        input_string = f\"explain sbic sentence: {post}\"\n",
    "        answer_string = f\"{answer} {explanation_sep} {abstr_expl}\"  \n",
    "    elif io_format == 't5_fewshot_infilling':\n",
    "        input_string = f\"explain sbic sentence: {post} <extra_id_0> {explanation_sep} <extra_id_1>\"\n",
    "        answer_string = f\"<extra_id_0> {answer} <extra_id_1> {abstr_expl} <extra_id_2>\"\n",
    "    elif io_format == 't5_fewshot_infilling_bool':\n",
    "        answer_bool = 'True' if item[\"offensiveYN\"] == 'offensive' else 'False'\n",
    "        input_string = f\"explain sbic sentence: {post} It is <extra_id_0> that this is offensive {explanation_sep} <extra_id_1>\"\n",
    "        answer_string = f\"<extra_id_0> {answer} <extra_id_1> {abstr_expl} <extra_id_2>\"\n",
    "    elif io_format == 't5_fewshot_infilling_more_natural':\n",
    "        input_string = f\"explain sbic sentence: {post} This is <extra_id_0> {explanation_sep} <extra_id_1>\"\n",
    "        answer_string = f\"<extra_id_0> {answer} <extra_id_1> {abstr_expl} <extra_id_2>\"\n",
    "    elif io_format == 'squad_yn': \n",
    "        input_string = f\"explain sbic question: Is this offensive? context: {post}\" # explain sbic question: Is this offensive? context: It's only happened to you like two times.\n",
    "        answer_yn = unified_qa_sbic_label_mapping[item[\"offensiveYN\"]] \n",
    "        answer_string = f\"{answer_yn} {explanation_sep} {abstr_expl}\" #  No because this post does not imply anything offensive\n",
    "    elif io_format == 'squad_yn_with_tags': \n",
    "        input_string = f\"explain sbic question: Is this offensive? context: post: {post}\" # explain sbic question: Is this offensive? context: It's only happened to you like two times.\n",
    "        answer_yn = unified_qa_sbic_label_mapping[item[\"offensiveYN\"]] \n",
    "        answer_string = f\"{answer_yn} {explanation_sep} {abstr_expl}\" #  No because this post does not imply anything offensive\n",
    "    elif io_format == 'squad_what': \n",
    "        input_string = f\"explain sbic question: What is this? context: {post}\" # explain sbic question: This is what? context: It's only happened to you like two times.\n",
    "        answer = item[\"offensiveYN\"].replace(\"not offensive\", \"not_offensive\")        \n",
    "        answer_string = f\"{answer} {explanation_sep} {abstr_expl}\" # not_offensive because this post does not imply anything offensive    \n",
    "    elif io_format == 'squad_what_with_tags': \n",
    "        input_string = f\"explain sbic question: What is this? context: post: {post}\" # explain sbic question: This is what? context: It's only happened to you like two times.\n",
    "        answer = item[\"offensiveYN\"].replace(\"not offensive\", \"not_offensive\")        \n",
    "        answer_string = f\"{answer} {explanation_sep} {abstr_expl}\" # not_offensive because this post does not imply anything offensive    \n",
    "    elif io_format == 'unified_qa_yn':\n",
    "        input_string = f'explain is this offensive? \\\\n {post.lower()}'\n",
    "        answer_string = f\"{answer} {explanation_sep} {abstr_expl.lower()}\" \n",
    "    elif io_format == 'unified_qa_yn_with_tags':\n",
    "        input_string = f'explain is this offensive? \\\\n post: {post.lower()}'\n",
    "        answer_string = f\"{answer} {explanation_sep} {abstr_expl.lower()}\"  \n",
    "    elif io_format == 'unified_qa_yn_with_choices':\n",
    "        input_string = f'explain is this offensive? \\\\n (A) yes (B) no \\\\n {post.lower()}'\n",
    "        answer_string = f\"{answer} {explanation_sep} {abstr_expl.lower()}\"\n",
    "    elif io_format == 'unified_qa_yn_with_choices_and_tags':\n",
    "        input_string = f'explain is this offensive? \\\\n (A) yes (B) no \\\\n post: {post.lower()}'\n",
    "        answer_string = f\"{answer} {explanation_sep} {abstr_expl.lower()}\"  \n",
    "    elif io_format == 'unified_qa_what':\n",
    "        input_string = f'explain what is this? \\\\n {post.lower()}'\n",
    "        answer = item[\"offensiveYN\"].replace(\"not offensive\", \"not_offensive\")\n",
    "        answer_string = f\"{answer} {explanation_sep} {abstr_expl.lower()}\"  \n",
    "    elif io_format == 'unified_qa_what_with_tags':\n",
    "        input_string = f'explain what is this? \\\\n post: {post.lower()}'\n",
    "        answer = item[\"offensiveYN\"].replace(\"not offensive\", \"not_offensive\")\n",
    "        answer_string = f\"{answer} {explanation_sep} {abstr_expl.lower()}\"  \n",
    "    elif io_format == 'unified_qa_what_with_choices':\n",
    "        input_string = f'explain what is this? \\\\n (A) offensive (B) not_offensive \\\\n {post.lower()}'\n",
    "        answer = item[\"offensiveYN\"].replace(\"not offensive\", \"not_offensive\")\n",
    "        answer_string = f\"{answer} {explanation_sep} {abstr_expl.lower()}\"\n",
    "    elif io_format == 'unified_qa_what_with_choices_and_tags':\n",
    "        input_string = f'explain what is this? \\\\n (A) offensive (B) not_offensive \\\\n post: {post.lower()}'\n",
    "        answer = item[\"offensiveYN\"].replace(\"not offensive\", \"not_offensive\")\n",
    "        answer_string = f\"{answer} {explanation_sep} {abstr_expl.lower()}\"  \n",
    "    elif io_format == 'unifiedqa_unifew':\n",
    "        input_string = f\"Topic? \\\\n (A) offensive (B) not_offensive \\\\n {post}\"\n",
    "        answer = item[\"offensiveYN\"].replace(\"not offensive\", \"not_offensive\")\n",
    "        answer_string = f\"{answer} {explanation_sep} {abstr_expl}\"\n",
    "    else:\n",
    "        raise ValueError(\"The IO format is not supported. Choose `standard` or `masked_cause_generate`.\")\n",
    "\n",
    "    input_string = ' '.join(input_string.split())\n",
    "    answer_string = ' '.join(answer_string.split())\n",
    "    return input_string, answer_string\n",
    "\n",
    "def sensemaking_formatting(item, io_format, explanation_sep):\n",
    "    # TODO: explore whether removing periods makes difference? \n",
    "    sent0 = item['sent0']\n",
    "    sent1 = item['sent1']\n",
    "    nonsensical_sentence = str(int(item['label'])+1)\n",
    "    explanation = item['explanation'].lower()\n",
    "\n",
    "    if io_format == 'copa_with_question':\n",
    "        input_string = f\"explain sensemaking choice1: {sent0} choice2: {sent1} question: nonsensical\"\n",
    "        answer_string = f\"choice{nonsensical_sentence} {explanation_sep} {explanation}\"\n",
    "    elif io_format == 'copa_bool':  \n",
    "        answer_bool = str(bool(int(item['label']))) # True if choice2 is more nonsensical    \n",
    "        input_string = f\"explain sensemaking choice1: {sent0} choice2: {sent1} Less common is choice2\"\n",
    "        answer_string = f\"{answer_bool} {explanation_sep} {explanation}\"\n",
    "    elif io_format == 't5_fewshot_infilling':  \n",
    "        input_string = f\"explain sensemaking choice1: {sent0} choice2: {sent1} <extra_id_0> {explanation_sep} <extra_id_1>\"\n",
    "        answer_string = f\"<extra_id_0> choice{nonsensical_sentence} <extra_id_1> {explanation} <extra_id_2>\"\n",
    "    elif io_format == 't5_fewshot_infilling_bool':  \n",
    "        answer_bool = str(bool(int(item['label']))) # True if choice2 is more nonsensical    \n",
    "        input_string = f\"explain sensemaking choice1: {sent0} choice2: {sent1} It is <extra_id_0> that choice2 is less common {explanation_sep} <extra_id_1>\"\n",
    "        answer_string = f\"<extra_id_0> {answer_bool} <extra_id_1> {explanation} <extra_id_2>\"\n",
    "    elif io_format == \"squad_yn\": \n",
    "        input_string = f\"explain sensemaking question: Is choice2 more nonsensical? context: choice1: {sent0} choice2: {sent1}\" # explain sensemaking question: What is nonsensical, choice1 or choice2? context: choice1: All state flowers are the scarlet carnation. choice2: The New Jersey state flower is the scarlet carnation\n",
    "        answer = \"Yes\" if bool(int(item['label'])) else \"No\"\n",
    "        answer_string = f\"{answer} {explanation_sep} {explanation}\" #  choice1 because state flowers are unique to each state.  \n",
    "    elif io_format == \"squad_yn_no_tags\": \n",
    "        input_string = f\"explain sensemaking question: Is choice2 more nonsensical? context: {sent0} {sent1}\" # explain sensemaking question: What is nonsensical, choice1 or choice2? context: choice1: All state flowers are the scarlet carnation. choice2: The New Jersey state flower is the scarlet carnation\n",
    "        answer = \"Yes\" if bool(int(item['label'])) else \"No\"\n",
    "        answer_string = f\"{answer} {explanation_sep} {explanation}\" #  choice1 because state flowers are unique to each state.  \n",
    "    elif io_format == \"squad_what\": \n",
    "        input_string = f\"explain sensemaking question: What is more nonsensical? context: choice1: {sent0} choice2: {sent1}\" # explain sensemaking question: What is nonsensical, choice1 or choice2? context: choice1: All state flowers are the scarlet carnation. choice2: The New Jersey state flower is the scarlet carnation\n",
    "        answer_string = f\"choice{nonsensical_sentence} {explanation_sep} {explanation}\" #  choice1 because state flowers are unique to each state.  \n",
    "    elif io_format == \"squad_what_no_tags\": \n",
    "        input_string = f\"explain sensemaking question: What is more nonsensical? context: {sent0} {sent1}\" # explain sensemaking question: What is nonsensical, choice1 or choice2? context: choice1: All state flowers are the scarlet carnation. choice2: The New Jersey state flower is the scarlet carnation\n",
    "        answer_string = f\"choice{nonsensical_sentence} {explanation_sep} {explanation}\" #  choice1 because state flowers are unique to each state.  \n",
    "    elif io_format == \"record\": \n",
    "        input_string = f\"explain sensemaking query: What is more nonsensical? entities: choice1, choice2 passage: choice1: {sent0} choice2: {sent1}\" # explain sensemaking query: What is nonsensical? entities: choice1, choice2 passage: choice1: All state flowers are the scarlet carnation. choice2: The New Jersey state flower is the scarlet carnation.\n",
    "        answer_string = f\"choice{nonsensical_sentence} {explanation_sep} {explanation}\" # choice1 because state flowers are unique to each state.\n",
    "    elif io_format == 'unifiedqa_yn_with_choices':\n",
    "        answer = \"yes\" if bool(int(item['label'])) else \"no\"\n",
    "        input_string = f'explain is choice2 more nonsensical? \\\\n (A) yes (B) no \\\\n choice1: {sent0.lower()} choice2: {sent1.lower()}'\n",
    "        answer_string = f\"{answer} {explanation_sep} {explanation.lower()}\" \n",
    "    elif io_format == 'unifiedqa_yn':\n",
    "        answer = \"yes\" if bool(int(item['label'])) else \"no\"\n",
    "        input_string = f'explain is choice2 more nonsensical? \\\\n choice1: {sent0.lower()} choice2: {sent1.lower()}'\n",
    "        answer_string = f\"{answer} {explanation_sep} {explanation.lower()}\"  \n",
    "    elif io_format == 'unifiedqa_yn_no_tags':\n",
    "        answer = \"yes\" if bool(int(item['label'])) else \"no\"\n",
    "        input_string = f'explain is choice2 more nonsensical? \\\\n {sent0.lower()} {sent1.lower()}'\n",
    "        answer_string = f\"{answer} {explanation_sep} {explanation.lower()}\"  \n",
    "    elif io_format == 'unifiedqa_what_with_choices':\n",
    "        nonsensical_sentence = str(int(item['label'])+1)\n",
    "        input_string = f'explain what is more nonsensical? \\\\n (A) choice1 (B) choice2 \\\\n choice1: {sent0.lower()} choice2: {sent1.lower()}'\n",
    "        answer_string = f\"choice{nonsensical_sentence} {explanation_sep} {explanation.lower()}\"  # use \" BECAUSE \"\n",
    "    elif io_format == 'unifiedqa_what':\n",
    "        nonsensical_sentence = str(int(item['label'])+1)\n",
    "        input_string = f'explain what is more nonsensical? \\\\n choice1: {sent0.lower()} choice2: {sent1.lower()}'\n",
    "        answer_string = f\"choice{nonsensical_sentence} {explanation_sep} {explanation.lower()}\"  # use \" BECAUSE \"\n",
    "    elif io_format == 'unifiedqa_what_no_tags':\n",
    "        nonsensical_sentence = str(int(item['label'])+1)\n",
    "        input_string = f'explain what is more nonsensical? \\\\n {sent0.lower()} {sent1.lower()}'\n",
    "        answer_string = f\"choice{nonsensical_sentence} {explanation_sep} {explanation.lower()}\"  # use \" BECAUSE \"\n",
    "\n",
    "\n",
    "    input_string = ' '.join(input_string.split())\n",
    "    answer_string = ' '.join(answer_string.split())\n",
    "    return input_string, answer_string"
   ]
  },
  {
   "cell_type": "code",
   "execution_count": 4,
   "id": "dde6c7e1",
   "metadata": {},
   "outputs": [
    {
     "name": "stderr",
     "output_type": "stream",
     "text": [
      "PyTorch: setting up devices\n",
      "The default value for the training argument `--report_to` will change in v5 (from all installed integrations to none). In v5, you will need to use `--report_to all` to get the same behavior as now. You should start updating your code and make this info disappear :-).\n",
      "01/12/2023 16:05:51 - WARNING - __main__ -   Process rank: -1, device: cuda:0, n_gpu: 1, distributed training: False, 16-bits training: False\n",
      "01/12/2023 16:05:51 - INFO - __main__ -   Save path: ./cos_e_output_t5_large/011223_160551\n",
      "01/12/2023 16:05:51 - INFO - __main__ -   Git branch: dev\n",
      "01/12/2023 16:05:51 - INFO - __main__ -   Git hash: 1cbb5c3b4e53baf31cbafc20d9655c63f091f901\n"
     ]
    }
   ],
   "source": [
    "og_start_time = time.time()\n",
    "\n",
    "#parser = HfArgumentParser(\n",
    "#    (ModelArguments, DataTrainingArguments, TrainingArguments)\n",
    "#)\n",
    "parser = HfArgumentParser(\n",
    "    (ModelArguments, DataTrainingArguments, TrainingArguments)\n",
    ")\n",
    "\n",
    "model_args, data_args, training_args, unused_args = parser.parse_args_into_dataclasses(\n",
    "    [\"--model_type\", \"t5-3b\",\n",
    "     \"--tokenizer_name\", \"t5-3b\",\n",
    "     \"--task_name\", \"cos_e\", \n",
    "     \"--output_dir\", \"./cos_e_output_t5_large\", \n",
    "     \"--n_shots\", \"10\",\n",
    "     \"--do_train\", \"True\"], return_remaining_strings=True)\n",
    "if unused_args != []:\n",
    "    raise ValueError(f\"Received unused arguments: {unused_args}\")\n",
    "# make sure only one dataset split pick if manually specifying evaluation file\n",
    "\n",
    "if model_args.use_gpt3:\n",
    "    assert training_args.do_train\n",
    "    assert not training_args.do_eval\n",
    "    assert data_args.generations_filepath is None\n",
    "    if data_args.gpt3_max_eval_size is not None:\n",
    "        assert data_args.gpt3_max_eval_size <= data_args.fewshot_eval_size\n",
    "        assert data_args.gpt3_max_eval_size % 2 == 0\n",
    "        assert data_args.gpt3_max_eval_size % 3 == 0\n",
    "\n",
    "if data_args.generations_filepath is not None:\n",
    "    training_args.do_train = False\n",
    "    training_args.do_eval = False\n",
    "    if \"train\" in data_args.generations_filepath:\n",
    "        data_args.train_predict = True\n",
    "        data_args.test_predict = False\n",
    "        data_args.dev_predict = False\n",
    "    elif \"test\" in data_args.generations_filepath:\n",
    "        data_args.train_predict = False\n",
    "        data_args.test_predict = True\n",
    "        data_args.dev_predict = False\n",
    "    elif \"validation\" in data_args.generations_filepath:\n",
    "        data_args.train_predict = False\n",
    "        data_args.test_predict = False\n",
    "        data_args.dev_predict = True\n",
    "\n",
    "if not training_args.do_train and data_args.generations_filepath is None:\n",
    "    if not model_args.pretrained_model_file:\n",
    "        raise Exception(\n",
    "            \"if not training a model from scratch, must specify a trained model to load for evaluation\"\n",
    "        )\n",
    "\n",
    "if training_args.do_train:\n",
    "    # create a save directory and a logfile\n",
    "    training_args.output_dir = os.path.join(\n",
    "        training_args.output_dir, datetime.now().strftime(\"%m%d%y_%H%M%S\")\n",
    "    )\n",
    "    training_args.logging_dir = training_args.output_dir\n",
    "    assert not os.path.exists(training_args.output_dir)\n",
    "    os.makedirs(training_args.output_dir)\n",
    "\n",
    "    if (\n",
    "            os.path.exists(training_args.output_dir)\n",
    "            and os.listdir(training_args.output_dir)\n",
    "            and training_args.do_train\n",
    "            and not training_args.overwrite_output_dir\n",
    "    ):\n",
    "        raise ValueError(\n",
    "            f\"Output directory ({training_args.output_dir}) already exists and is not empty. Use --overwrite_output_dir to overcome.\"\n",
    "        )\n",
    "    handlers = [\n",
    "        logging.FileHandler(os.path.join(training_args.output_dir, \"logger.log\")),\n",
    "        logging.StreamHandler(),\n",
    "    ]\n",
    "else:\n",
    "    # don't overwrite existing logfile or create new directory\n",
    "    training_args.output_dir = model_args.pretrained_model_file\n",
    "    handlers = [logging.StreamHandler()]\n",
    "\n",
    "# Setup logging\n",
    "logging.basicConfig(\n",
    "    format=\"%(asctime)s - %(levelname)s - %(name)s -   %(message)s\",\n",
    "    datefmt=\"%m/%d/%Y %H:%M:%S\",\n",
    "    level=logging.INFO if training_args.local_rank in [-1, 0] else logging.WARN,\n",
    "    handlers=handlers,\n",
    ")\n",
    "logger.warning(\n",
    "    \"Process rank: %s, device: %s, n_gpu: %s, distributed training: %s, 16-bits training: %s\",\n",
    "    training_args.local_rank,\n",
    "    training_args.device,\n",
    "    training_args.n_gpu,\n",
    "    bool(training_args.local_rank != -1),\n",
    "    training_args.fp16,\n",
    ")\n",
    "logger.info(\"Save path: %s\" % training_args.output_dir)\n",
    "\n",
    "# get git hash and branch where deployed\n",
    "repo = git.Repo(search_parent_directories=True)\n",
    "git_hash = repo.head.object.hexsha\n",
    "git_branch = repo.active_branch.name\n",
    "logger.info(\"Git branch: %s\" % git_branch)\n",
    "logger.info(\"Git hash: %s\" % git_hash)\n",
    "\n",
    "model_class = \"t5\"\n",
    "assert data_args.task_name in {\"cos_e\", \"esnli\", \"sbic\", \"sensemaking\", \"ecqa\"}\n",
    "\n",
    "if training_args.do_train:\n",
    "    # write command and args to file\n",
    "    with open(\n",
    "            os.path.join(training_args.output_dir, \"commandline_args.txt\"), \"w\"\n",
    "    ) as f:\n",
    "        f.write(\"Git branch: \" + git_branch + \"\\n\")\n",
    "        f.write(\"Git hash: \" + git_hash + \"\\n\")\n",
    "        f.write(\"Command:\\n\")\n",
    "        f.write(\"\\n\".join(sys.argv[1:]))\n",
    "\n",
    "# Set seed\n",
    "set_seed(training_args.seed)\n",
    "set_other_seeds(training_args.seed)\n",
    "\n",
    "# Load pretrained model and tokenizer\n",
    "#\n",
    "# Distributed training:\n",
    "# The .from_pretrained methods guarantee that only one local process can concurrently\n",
    "# download model & vocab."
   ]
  },
  {
   "cell_type": "code",
   "execution_count": 5,
   "id": "684646b4",
   "metadata": {},
   "outputs": [
    {
     "data": {
      "text/plain": [
       "device(type='cuda', index=0)"
      ]
     },
     "execution_count": 5,
     "metadata": {},
     "output_type": "execute_result"
    }
   ],
   "source": [
    "training_args.set_device = \"cuda:0\"\n",
    "training_args.device"
   ]
  },
  {
   "cell_type": "code",
   "execution_count": 7,
   "id": "18a3172a",
   "metadata": {},
   "outputs": [
    {
     "name": "stderr",
     "output_type": "stream",
     "text": [
      "01/12/2023 16:06:48 - INFO - __main__ -   Loading pretrained tokenizer...\n",
      "loading file https://huggingface.co/t5-large/resolve/main/spiece.model from cache at /home/huangyongfeng/.cache/huggingface/transformers/71ee551f54e246045a7b94dd449c33759924b864712e6d235bbba5245c9f6296.3b69006860e7b5d0a63ffdddc01ddcd6b7c318a6f4fd793596552c741734c62d\n",
      "loading file https://huggingface.co/t5-large/resolve/main/added_tokens.json from cache at None\n",
      "loading file https://huggingface.co/t5-large/resolve/main/special_tokens_map.json from cache at None\n",
      "loading file https://huggingface.co/t5-large/resolve/main/tokenizer_config.json from cache at None\n",
      "loading file https://huggingface.co/t5-large/resolve/main/tokenizer.json from cache at /home/huangyongfeng/.cache/huggingface/transformers/276094e085ecb12227136f2e755dc1f68be6f5da32df55ebfb104c791fbbc3c1.8627f1bd5d270a9fd2e5a51c8bec3223896587cc3cfe13edeabb0992ab43c529\n",
      "loading configuration file https://huggingface.co/t5-large/resolve/main/config.json from cache at /home/huangyongfeng/.cache/huggingface/transformers/1adb1f57c3579debfcce7b94ee03f6144e0ff7a0c2825e48b3f9cde9ce290c7d.75cc627adbf83d06473fdad6b036e8594b465394bf31d84bc54a373c9c5a5563\n",
      "Model config T5Config {\n",
      "  \"architectures\": [\n",
      "    \"T5ForConditionalGeneration\"\n",
      "  ],\n",
      "  \"d_ff\": 4096,\n",
      "  \"d_kv\": 64,\n",
      "  \"d_model\": 1024,\n",
      "  \"decoder_start_token_id\": 0,\n",
      "  \"dropout_rate\": 0.1,\n",
      "  \"eos_token_id\": 1,\n",
      "  \"feed_forward_proj\": \"relu\",\n",
      "  \"gradient_checkpointing\": false,\n",
      "  \"initializer_factor\": 1.0,\n",
      "  \"is_encoder_decoder\": true,\n",
      "  \"layer_norm_epsilon\": 1e-06,\n",
      "  \"model_type\": \"t5\",\n",
      "  \"n_positions\": 512,\n",
      "  \"num_decoder_layers\": 24,\n",
      "  \"num_heads\": 16,\n",
      "  \"num_layers\": 24,\n",
      "  \"output_past\": true,\n",
      "  \"pad_token_id\": 0,\n",
      "  \"relative_attention_num_buckets\": 32,\n",
      "  \"task_specific_params\": {\n",
      "    \"summarization\": {\n",
      "      \"early_stopping\": true,\n",
      "      \"length_penalty\": 2.0,\n",
      "      \"max_length\": 200,\n",
      "      \"min_length\": 30,\n",
      "      \"no_repeat_ngram_size\": 3,\n",
      "      \"num_beams\": 4,\n",
      "      \"prefix\": \"summarize: \"\n",
      "    },\n",
      "    \"translation_en_to_de\": {\n",
      "      \"early_stopping\": true,\n",
      "      \"max_length\": 300,\n",
      "      \"num_beams\": 4,\n",
      "      \"prefix\": \"translate English to German: \"\n",
      "    },\n",
      "    \"translation_en_to_fr\": {\n",
      "      \"early_stopping\": true,\n",
      "      \"max_length\": 300,\n",
      "      \"num_beams\": 4,\n",
      "      \"prefix\": \"translate English to French: \"\n",
      "    },\n",
      "    \"translation_en_to_ro\": {\n",
      "      \"early_stopping\": true,\n",
      "      \"max_length\": 300,\n",
      "      \"num_beams\": 4,\n",
      "      \"prefix\": \"translate English to Romanian: \"\n",
      "    }\n",
      "  },\n",
      "  \"transformers_version\": \"4.9.2\",\n",
      "  \"use_cache\": true,\n",
      "  \"vocab_size\": 32128\n",
      "}\n",
      "\n",
      "loading configuration file https://huggingface.co/t5-large/resolve/main/config.json from cache at /home/huangyongfeng/.cache/huggingface/transformers/1adb1f57c3579debfcce7b94ee03f6144e0ff7a0c2825e48b3f9cde9ce290c7d.75cc627adbf83d06473fdad6b036e8594b465394bf31d84bc54a373c9c5a5563\n",
      "Model config T5Config {\n",
      "  \"architectures\": [\n",
      "    \"T5ForConditionalGeneration\"\n",
      "  ],\n",
      "  \"d_ff\": 4096,\n",
      "  \"d_kv\": 64,\n",
      "  \"d_model\": 1024,\n",
      "  \"decoder_start_token_id\": 0,\n",
      "  \"dropout_rate\": 0.1,\n",
      "  \"eos_token_id\": 1,\n",
      "  \"feed_forward_proj\": \"relu\",\n",
      "  \"gradient_checkpointing\": false,\n",
      "  \"initializer_factor\": 1.0,\n",
      "  \"is_encoder_decoder\": true,\n",
      "  \"layer_norm_epsilon\": 1e-06,\n",
      "  \"model_type\": \"t5\",\n",
      "  \"n_positions\": 512,\n",
      "  \"num_decoder_layers\": 24,\n",
      "  \"num_heads\": 16,\n",
      "  \"num_layers\": 24,\n",
      "  \"output_past\": true,\n",
      "  \"pad_token_id\": 0,\n",
      "  \"relative_attention_num_buckets\": 32,\n",
      "  \"task_specific_params\": {\n",
      "    \"summarization\": {\n",
      "      \"early_stopping\": true,\n",
      "      \"length_penalty\": 2.0,\n",
      "      \"max_length\": 200,\n",
      "      \"min_length\": 30,\n",
      "      \"no_repeat_ngram_size\": 3,\n",
      "      \"num_beams\": 4,\n",
      "      \"prefix\": \"summarize: \"\n",
      "    },\n",
      "    \"translation_en_to_de\": {\n",
      "      \"early_stopping\": true,\n",
      "      \"max_length\": 300,\n",
      "      \"num_beams\": 4,\n",
      "      \"prefix\": \"translate English to German: \"\n",
      "    },\n",
      "    \"translation_en_to_fr\": {\n",
      "      \"early_stopping\": true,\n",
      "      \"max_length\": 300,\n",
      "      \"num_beams\": 4,\n",
      "      \"prefix\": \"translate English to French: \"\n",
      "    },\n",
      "    \"translation_en_to_ro\": {\n",
      "      \"early_stopping\": true,\n",
      "      \"max_length\": 300,\n",
      "      \"num_beams\": 4,\n",
      "      \"prefix\": \"translate English to Romanian: \"\n",
      "    }\n",
      "  },\n",
      "  \"transformers_version\": \"4.9.2\",\n",
      "  \"use_cache\": true,\n",
      "  \"vocab_size\": 32128\n",
      "}\n",
      "\n",
      "loading weights file https://huggingface.co/t5-large/resolve/main/pytorch_model.bin from cache at /home/huangyongfeng/.cache/huggingface/transformers/750feca8cedcd171eb121bd47c3ae16924a473d89f334c7d22f83bfa3a6c80f6.62fbd66ec15bdf6e5322f44f1546f0d475cf07a90caca0912ead31408a83a319\n",
      "All model checkpoint weights were used when initializing T5ForConditionalGeneration.\n",
      "\n",
      "All the weights of T5ForConditionalGeneration were initialized from the model checkpoint at t5-large.\n",
      "If your task is similar to the task the model of the checkpoint was trained on, you can already use T5ForConditionalGeneration for predictions without further training.\n"
     ]
    }
   ],
   "source": [
    "import logging\n",
    "logger = logging.getLogger(__name__)\n",
    "CONFIG_MAPPING = {\"t5\": T5Config}\n",
    "MODEL_MAPPING = {\"t5\": T5ForConditionalGeneration}\n",
    "TOKENIZER_MAPPING = {\"t5\": T5Tokenizer}\n",
    "model_class = \"t5\"\n",
    "tokenizer_name = TOKENIZER_MAPPING[model_class]\n",
    "logger.info(\"Loading pretrained tokenizer...\")\n",
    "model_args.tokenizer_name='t5-large'\n",
    "tokenizer = tokenizer_name.from_pretrained(model_args.tokenizer_name)#, cache_dir=model_args.cache_dir)\n",
    "\n",
    "model = T5ForConditionalGeneration.from_pretrained(\"t5-large\")"
   ]
  },
  {
   "cell_type": "code",
   "execution_count": 8,
   "id": "62eef1a8",
   "metadata": {},
   "outputs": [
    {
     "data": {
      "text/plain": [
       "DataTrainingArguments(task_name='cos_e', early_stopping_patience=10, overwrite_cache=False, train_predict=False, test_predict=False, dev_predict=False, version_name='v1.11', generations_filepath=None, n_shots=10, fewshot_eval_size=350, io_format='t5_fewshot_infilling_without_choices_use_refined_expl', explanation_sep='explanation', data_path=None, gpt3_max_eval_size=None)"
      ]
     },
     "execution_count": 8,
     "metadata": {},
     "output_type": "execute_result"
    }
   ],
   "source": [
    "data_splits = {'train': None, 'validation': None, 'test': None}\n",
    "original_data_splits = {'train': None, 'validation': None, 'test': None}  \n",
    "data_args.io_format=\"t5_fewshot_infilling_without_choices_use_refined_expl\"\n",
    "data_args"
   ]
  },
  {
   "cell_type": "code",
   "execution_count": 9,
   "id": "efc49c0c",
   "metadata": {},
   "outputs": [
    {
     "data": {
      "application/json": {
       "ascii": false,
       "bar_format": null,
       "colour": null,
       "elapsed": 0.0181734561920166,
       "initial": 0,
       "n": 0,
       "ncols": null,
       "nrows": 60,
       "postfix": null,
       "prefix": "",
       "rate": null,
       "total": 2,
       "unit": "it",
       "unit_divisor": 1000,
       "unit_scale": false
      },
      "application/vnd.jupyter.widget-view+json": {
       "model_id": "ff383db794724c83be7d394f18b8a438",
       "version_major": 2,
       "version_minor": 0
      },
      "text/plain": [
       "  0%|          | 0/2 [00:00<?, ?it/s]"
      ]
     },
     "metadata": {},
     "output_type": "display_data"
    },
    {
     "data": {
      "text/plain": [
       "dict_keys(['question', 'abstractive_explanation', 'extractive_explanation', 'answer', 'choices', 'id'])"
      ]
     },
     "execution_count": 9,
     "metadata": {},
     "output_type": "execute_result"
    }
   ],
   "source": [
    "dataset = datasets.load_dataset(data_args.task_name, data_args.version_name)\n",
    "train_ids_list=[x['id'] for x in dataset[\"train\"]]\n",
    "dataset['train'][0].keys()"
   ]
  },
  {
   "cell_type": "code",
   "execution_count": 10,
   "id": "294780bc",
   "metadata": {},
   "outputs": [
    {
     "data": {
      "application/json": {
       "ascii": false,
       "bar_format": null,
       "colour": null,
       "elapsed": 0.013189554214477539,
       "initial": 0,
       "n": 0,
       "ncols": null,
       "nrows": 60,
       "postfix": null,
       "prefix": "",
       "rate": null,
       "total": 1,
       "unit": "it",
       "unit_divisor": 1000,
       "unit_scale": false
      },
      "application/vnd.jupyter.widget-view+json": {
       "model_id": "e93873b21f894524b538702f7c551997",
       "version_major": 2,
       "version_minor": 0
      },
      "text/plain": [
       "  0%|          | 0/1 [00:00<?, ?it/s]"
      ]
     },
     "metadata": {},
     "output_type": "display_data"
    },
    {
     "name": "stdout",
     "output_type": "stream",
     "text": [
      "[6723, 3269, 12, 6020, 7815, 0, 13, 7, 3556, 4587, 3166, 2607, 1999, 332, 8571, 2, 3520, 6, 1425, 2361, 3764, 7728, 8352, 1273, 5191, 496, 11, 8143, 6929, 4552, 4652, 7764, 6736, 401, 147, 8339, 3128, 5556, 8769, 4417, 8778, 7145, 1279, 6297, 7149, 5884, 10, 5747, 6273, 8, 9504, 8057, 1307, 2183, 1699, 88, 3228, 7178, 2140, 4048, 1041, 1, 3, 5868, 111, 7889, 5370, 8886, 2137, 6980, 9117, 1891, 7827, 1484, 14, 3668, 7090, 5, 7817, 6213, 4656, 5074, 7514, 5896, 4, 9, 7991, 58, 1887, 1598, 3994, 2212, 2274, 6830, 8826, 1604, 9008, 2013, 6521, 4793, 4338, 3923, 8091, 4904, 3938, 3900, 8156, 5806, 8363, 1787, 1496, 5753, 6351, 1104, 1222]\n"
     ]
    },
    {
     "data": {
      "text/plain": [
       "115"
      ]
     },
     "execution_count": 10,
     "metadata": {},
     "output_type": "execute_result"
    }
   ],
   "source": [
    "#rationale generation labeled data construction 115\n",
    "import pandas as pd\n",
    "scr_csqa_labeled_path=\"/cognitive_comp/huangyongfeng/evaluate_LM_with_rationalization/few_shot_explanations/data/handwritten_cose_v1.11_examples.csv\"\n",
    "scr_csqa_label_df=pd.read_csv(scr_csqa_labeled_path)\n",
    "scr_csqa_label_data=datasets.load_dataset('csv', data_files=scr_csqa_labeled_path)\n",
    "scr_csqa_label_ids_list=[x['id'] for x in scr_csqa_label_data['train']]\n",
    "scr_csqa_indexs_list=[train_ids_list.index(id_) for id_ in scr_csqa_label_ids_list]\n",
    "scr_csqa_label_our_explanations_list=[x['our_explanation'] for x in scr_csqa_label_data['train']]\n",
    "print(scr_csqa_indexs_list)\n",
    "data_splits={}\n",
    "data_splits['train']=dataset['train'].select(scr_csqa_indexs_list)\n",
    "\n",
    "refine_train_data=[]\n",
    "for kk, (ex,da) in enumerate(zip(scr_csqa_label_our_explanations_list, data_splits['train'])):\n",
    "#     print(da)\n",
    "    data_splits['train'][kk]['our_explanation']=ex\n",
    "    #print(type(data_splits['train'][kk]),data_splits['train'][kk].keys())\n",
    "    da['our_explanation']=ex\n",
    "    refine_train_data.append(da)\n",
    "\n",
    "len(data_splits['train'])"
   ]
  },
  {
   "cell_type": "code",
   "execution_count": 11,
   "id": "1d97f507",
   "metadata": {},
   "outputs": [
    {
     "data": {
      "application/json": {
       "ascii": false,
       "bar_format": null,
       "colour": null,
       "elapsed": 0.014843463897705078,
       "initial": 0,
       "n": 0,
       "ncols": null,
       "nrows": 60,
       "postfix": null,
       "prefix": "",
       "rate": null,
       "total": 1,
       "unit": "it",
       "unit_divisor": 1000,
       "unit_scale": false
      },
      "application/vnd.jupyter.widget-view+json": {
       "model_id": "318cb09a891f4eb799cd8ed5cbbcd56e",
       "version_major": 2,
       "version_minor": 0
      },
      "text/plain": [
       "  0%|          | 0/1 [00:00<?, ?it/s]"
      ]
     },
     "metadata": {},
     "output_type": "display_data"
    },
    {
     "data": {
      "text/plain": [
       "{'id': '5b8a3081c3235d62bc77e2d15f3ad454',\n",
       " 'question': 'A town between two mountains is located in a what?',\n",
       " 'choices': ['valley', 'hospital', 'state', 'train station', 'michigan'],\n",
       " 'answer': 'valley',\n",
       " 'abstractive_explanation': 'valleys are always between two mountains',\n",
       " 'extractive_explanation': 'A town between two mountains',\n",
       " 'our_explanation': 'A valley is a low area between two mountains.'}"
      ]
     },
     "execution_count": 11,
     "metadata": {},
     "output_type": "execute_result"
    }
   ],
   "source": [
    "#rationale unlabeled data construction 991\n",
    "import pdb\n",
    "scr_csqa_unlabeled_test_file=\"/cognitive_comp/huangyongfeng/evaluate_LM_with_rationalization/few_shot_explanations/data/acceptability_annotations/commonsenseqa_test.csv\"\n",
    "fse_csqa_dev_dataset = datasets.load_dataset('csv', data_files=scr_csqa_unlabeled_test_file)\n",
    "scr_csqa_unlabeled_test_df=pd.read_csv(scr_csqa_unlabeled_test_file)\n",
    "fse_csqa_dev_data_dict={}\n",
    "for kk, da in enumerate(fse_csqa_dev_dataset['train']):\n",
    "    #pdb.set_trace()\n",
    "    id_=da['Input.id']\n",
    "    if da['Answer.acceptable']:\n",
    "        answer_accept=set(da['Answer.acceptable'].split('|'))\n",
    "    else:\n",
    "        answer_accept=set()\n",
    "    explanation_list=[da['Input.explanation_1'], \n",
    "                      da['Input.explanation_2'],\n",
    "                      da['Input.explanation_3'],\n",
    "                      da['Input.explanation_4'],\n",
    "                      da['Input.explanation_5']]\n",
    "    if id_ not in fse_csqa_dev_data_dict.keys():\n",
    "        fse_csqa_dev_data_dict[id_]={\"index\":kk,\"id\":id_,\n",
    "                                     \"question\":da[\"Input.question\"],\n",
    "                                     'answer':da['Input.gold_label'],\n",
    "                                     \"accept_set_list\":[answer_accept],\n",
    "                                     \"explanation_list\":explanation_list}\n",
    "        #[[kk, id_, answer_accept, explanation_list]]\n",
    "    else:\n",
    "        fse_csqa_dev_data_dict[id_][\"accept_set_list\"].append(answer_accept)\n",
    "    if len(fse_csqa_dev_data_dict[id_][\"accept_set_list\"])==3:\n",
    "        fse_csqa_dev_data_dict[id_][\"common_expl_list\"]=[]\n",
    "        common_accept_expl_sample=set.intersection(fse_csqa_dev_data_dict[id_][\"accept_set_list\"][0], \n",
    "                                                   fse_csqa_dev_data_dict[id_][\"accept_set_list\"][1], \n",
    "                                                   fse_csqa_dev_data_dict[id_][\"accept_set_list\"][2])\n",
    "        for idx in list(common_accept_expl_sample):\n",
    "            idx=int(idx)-1\n",
    "            fse_csqa_dev_data_dict[id_][\"common_expl_list\"].append(fse_csqa_dev_data_dict[id_][\"explanation_list\"][idx])\n",
    "        \n",
    "#discriminate 3/3 id\n",
    "id_accept_expl_list=[]\n",
    "our_accept_expl_list=[]\n",
    "id_unaccept_expl_list=[]\n",
    "for k,v in fse_csqa_dev_data_dict.items():\n",
    "    accept_set_list=v['accept_set_list']\n",
    "    assert len(accept_set_list)==3\n",
    "    #pdb.set_trace()\n",
    "    common_accept_expl_sample=set.intersection(accept_set_list[0], accept_set_list[1], accept_set_list[2])\n",
    "    #print(accept_set_list,common_accept_expl_sample)\n",
    "    #pdb.set_trace()\n",
    "    if common_accept_expl_sample:\n",
    "        id_accept_expl_list.append(k)\n",
    "        our_expl=\"\"\n",
    "        for idx in list(common_accept_expl_sample):\n",
    "            idx=int(idx)-1\n",
    "            if len(v['explanation_list'][idx]) > len(our_expl):\n",
    "                our_expl = v['explanation_list'][idx]\n",
    "                our_accept_expl_list.append(our_expl)\n",
    "    else:\n",
    "        id_unaccept_expl_list.append(k)\n",
    "\n",
    "dev_ids_list=[x['id'] for x in dataset['validation']]\n",
    "dev_accept_indexs_list=[dev_ids_list.index(id_) for id_ in id_accept_expl_list]\n",
    "dev_unaccpet_indexs_list=[dev_ids_list.index(id_) for id_ in id_unaccept_expl_list]\n",
    "dev_accept_data=dataset['validation'].select(dev_accept_indexs_list)\n",
    "dev_unaccept_data=dataset['validation'].select(dev_unaccpet_indexs_list)\n",
    "\n",
    "\n",
    "\n",
    "new_dev_accept_data=[]\n",
    "new_dev_unaccept_data=[]\n",
    "for oexp, da in zip(our_accept_expl_list,dev_accept_data):\n",
    "    da[\"our_explanation\"]=oexp\n",
    "    new_dev_accept_data.append(da)\n",
    "for da in dev_unaccept_data:\n",
    "    da[\"our_explanation\"]=oexp\n",
    "    new_dev_unaccept_data.append(da)\n",
    "        \n",
    "new_dev_accept_data[0]\n",
    "        "
   ]
  },
  {
   "cell_type": "code",
   "execution_count": 12,
   "id": "ffe13707",
   "metadata": {},
   "outputs": [
    {
     "data": {
      "text/plain": [
       "{'index': 0,\n",
       " 'id': '5b8a3081c3235d62bc77e2d15f3ad454',\n",
       " 'question': 'A town between two mountains is located in a what?',\n",
       " 'answer': 'valley',\n",
       " 'accept_set_list': [{'2', '4', '5'}, {'2', '4', '5'}, {'2', '4', '5'}],\n",
       " 'explanation_list': ['Because all of the mountains are to the left of this town, if one was looking on a map, one would be able to see the town in the valley.',\n",
       "  'A valley is usually between two mountains, where it is located in the place where the mountains are closest to each other.',\n",
       "  'Because rivers end in valleys; assuming the river is the one of interest, this sentence is likely referring to the geographical location of the town.',\n",
       "  'A town in between mountains presumably would be in a valley, in which case it is plausable that it would be surrounded by heights in every direction.',\n",
       "  'A valley is a low area between two mountains.'],\n",
       " 'common_expl_list': ['A valley is a low area between two mountains.',\n",
       "  'A valley is usually between two mountains, where it is located in the place where the mountains are closest to each other.',\n",
       "  'A town in between mountains presumably would be in a valley, in which case it is plausable that it would be surrounded by heights in every direction.']}"
      ]
     },
     "execution_count": 12,
     "metadata": {},
     "output_type": "execute_result"
    }
   ],
   "source": [
    "fse_csqa_dev_data_dict['5b8a3081c3235d62bc77e2d15f3ad454']\n"
   ]
  },
  {
   "cell_type": "code",
   "execution_count": 13,
   "id": "3161874f",
   "metadata": {},
   "outputs": [],
   "source": [
    "# for k,v in fse_csqa_dev_data_dict.items():\n",
    "#     #print(v.keys())\n",
    "#     print(\"******\")\n",
    "#     print(v['question'])\n",
    "#     print(v['answer'])\n",
    "#     print(v['common_expl_list'])\n",
    "#     print(\"******\")    \n",
    "# for k,v in fse_csqa_train_data_dict.items():\n",
    "#     #print(v.keys())\n",
    "#     print(\"******\")\n",
    "#     print(v['question'])\n",
    "#     print(v['answer'])\n",
    "#     print(v['common_expl_list'])\n",
    "#     print(\"******\") \n"
   ]
  },
  {
   "cell_type": "code",
   "execution_count": 14,
   "id": "3e0e8a2d",
   "metadata": {},
   "outputs": [
    {
     "data": {
      "application/json": {
       "ascii": false,
       "bar_format": null,
       "colour": null,
       "elapsed": 0.014356613159179688,
       "initial": 0,
       "n": 0,
       "ncols": null,
       "nrows": 60,
       "postfix": null,
       "prefix": "",
       "rate": null,
       "total": 1,
       "unit": "it",
       "unit_divisor": 1000,
       "unit_scale": false
      },
      "application/vnd.jupyter.widget-view+json": {
       "model_id": "827e66c053e546788f94ee3bde30898b",
       "version_major": 2,
       "version_minor": 0
      },
      "text/plain": [
       "  0%|          | 0/1 [00:00<?, ?it/s]"
      ]
     },
     "metadata": {},
     "output_type": "display_data"
    },
    {
     "data": {
      "text/plain": [
       "{'id': 'ed53cbea1f21072fab892031b31192d1',\n",
       " 'question': 'Where can you likely buy many poems?',\n",
       " 'choices': ['book of poetry',\n",
       "  'literature book',\n",
       "  'book store',\n",
       "  'poetry book',\n",
       "  'bookshelf'],\n",
       " 'answer': 'book store',\n",
       " 'abstractive_explanation': 'book store book',\n",
       " 'extractive_explanation': 'buy many poems',\n",
       " 'our_explanation': 'A book store is a place where you can buy books, including poetry books.'}"
      ]
     },
     "execution_count": 14,
     "metadata": {},
     "output_type": "execute_result"
    }
   ],
   "source": [
    "#rationale unlabeled data construction 991\n",
    "import pdb\n",
    "scr_csqa_unlabeled_train_file=\"/cognitive_comp/huangyongfeng/evaluate_LM_with_rationalization/few_shot_explanations/data/acceptability_annotations/commonsenseqa_train.csv\"\n",
    "fse_csqa_train_dataset = datasets.load_dataset('csv', data_files=scr_csqa_unlabeled_train_file)\n",
    "scr_csqa_unlabeled_train_df=pd.read_csv(scr_csqa_unlabeled_train_file)\n",
    "fse_csqa_train_data_dict={}\n",
    "for kk, da in enumerate(fse_csqa_train_dataset['train']):\n",
    "    #pdb.set_trace()\n",
    "    id_=da['Input.id']\n",
    "    if da['Answer.acceptable']:\n",
    "        answer_accept=set(da['Answer.acceptable'].split('|'))\n",
    "    else:\n",
    "        answer_accept=set()\n",
    "    explanation_list=[da['Input.explanation_1'], \n",
    "                      da['Input.explanation_2'],\n",
    "                      da['Input.explanation_3'],\n",
    "                      da['Input.explanation_4'],\n",
    "                      da['Input.explanation_5']]\n",
    "    if id_ not in fse_csqa_train_data_dict.keys():\n",
    "        fse_csqa_train_data_dict[id_]={\"index\":kk,\"id\":id_,\n",
    "                                     \"question\":da[\"Input.question\"],\n",
    "                                     'answer':da['Input.gold_label'],\n",
    "                                     \"accept_set_list\":[answer_accept],\n",
    "                                     \"explanation_list\":explanation_list}\n",
    "        #[[kk, id_, answer_accept, explanation_list]]\n",
    "    else:\n",
    "        fse_csqa_train_data_dict[id_][\"accept_set_list\"].append(answer_accept)\n",
    "        \n",
    "    if len(fse_csqa_train_data_dict[id_][\"accept_set_list\"])==3:\n",
    "        fse_csqa_train_data_dict[id_][\"common_expl_list\"]=[]\n",
    "        common_accept_expl_sample=set.intersection(fse_csqa_train_data_dict[id_][\"accept_set_list\"][0], \n",
    "                                                   fse_csqa_train_data_dict[id_][\"accept_set_list\"][1], \n",
    "                                                   fse_csqa_train_data_dict[id_][\"accept_set_list\"][2])\n",
    "        for idx in list(common_accept_expl_sample):\n",
    "            idx=int(idx)-1\n",
    "            fse_csqa_train_data_dict[id_][\"common_expl_list\"].append(fse_csqa_train_data_dict[id_][\"explanation_list\"][idx])\n",
    "\n",
    "    \n",
    "#discriminate 3/3 id\n",
    "id_accept_expl_list=[]\n",
    "our_accept_expl_list=[]\n",
    "id_unaccept_expl_list=[]\n",
    "for k,v in fse_csqa_train_data_dict.items():\n",
    "    accept_set_list=v['accept_set_list']\n",
    "    assert len(accept_set_list)==3\n",
    "    #pdb.set_trace()\n",
    "    common_accept_expl_sample=set.intersection(accept_set_list[0], accept_set_list[1], accept_set_list[2])\n",
    "    #print(accept_set_list,common_accept_expl_sample)\n",
    "    #pdb.set_trace()\n",
    "    if common_accept_expl_sample:\n",
    "        id_accept_expl_list.append(k)\n",
    "        our_expl=\"\"\n",
    "        for idx in list(common_accept_expl_sample):\n",
    "            idx=int(idx)-1\n",
    "            if len(v['explanation_list'][idx]) > len(our_expl):\n",
    "                our_expl = v['explanation_list'][idx]\n",
    "                our_accept_expl_list.append(our_expl)\n",
    "    else:\n",
    "        id_unaccept_expl_list.append(k)\n",
    "\n",
    "train_ids_list=[x['id'] for x in dataset['train']]\n",
    "train_accept_indexs_list=[train_ids_list.index(id_) for id_ in id_accept_expl_list]\n",
    "train_unaccpet_indexs_list=[train_ids_list.index(id_) for id_ in id_unaccept_expl_list]\n",
    "train_accept_data=dataset['train'].select(train_accept_indexs_list)\n",
    "train_unaccept_data=dataset['train'].select(train_unaccpet_indexs_list)\n",
    "\n",
    "\n",
    "\n",
    "new_train_accept_data=[]\n",
    "new_train_unaccept_data=[]\n",
    "for oexp, da in zip(our_accept_expl_list,train_accept_data):\n",
    "    da[\"our_explanation\"]=oexp\n",
    "    new_train_accept_data.append(da)\n",
    "for da in train_unaccept_data:\n",
    "    da[\"our_explanation\"]=oexp\n",
    "    new_train_unaccept_data.append(da)\n",
    "        \n",
    "new_train_accept_data[0]"
   ]
  },
  {
   "cell_type": "code",
   "execution_count": 15,
   "id": "595b9453",
   "metadata": {},
   "outputs": [
    {
     "data": {
      "text/plain": [
       "(set(), set())"
      ]
     },
     "execution_count": 15,
     "metadata": {},
     "output_type": "execute_result"
    }
   ],
   "source": [
    "refine_train_data=refine_train_data\n",
    "refine_dev_data=new_train_accept_data + new_dev_accept_data\n",
    "refine_test_data=new_train_unaccept_data + new_dev_unaccept_data\n",
    "\n",
    "refine_train_ids_list=[x['id'] for x in refine_train_data]\n",
    "refine_dev_ids_list=[x['id'] for x in refine_dev_data]\n",
    "refine_test_ids_list=[x['id'] for x in refine_test_data]\n",
    "\n",
    "set(refine_train_ids_list).intersection(set(refine_dev_ids_list)),set(refine_train_ids_list).intersection(set(refine_test_ids_list))\n",
    "\n"
   ]
  },
  {
   "cell_type": "code",
   "execution_count": 16,
   "id": "48e4ec26",
   "metadata": {},
   "outputs": [
    {
     "data": {
      "text/plain": [
       "dict_keys(['id', 'question', 'choices', 'answer', 'abstractive_explanation', 'extractive_explanation', 'our_explanation'])"
      ]
     },
     "execution_count": 16,
     "metadata": {},
     "output_type": "execute_result"
    }
   ],
   "source": [
    "our_data_splits={}\n",
    "our_data_splits['train']=refine_train_data\n",
    "our_data_splits['dev']=refine_dev_data\n",
    "our_data_splits['test']=refine_test_data\n",
    "refine_train_data[0].keys()"
   ]
  },
  {
   "cell_type": "markdown",
   "id": "0fcdf34f",
   "metadata": {},
   "source": [
    "# shots number"
   ]
  },
  {
   "cell_type": "code",
   "execution_count": 17,
   "id": "bd43fe66",
   "metadata": {},
   "outputs": [],
   "source": [
    "id_list = [\n",
    " '71519c19654251cced50c5718fd527c1',\n",
    " '44195d210c81c8c550174d0edbd3ad5d',\n",
    " '5a5da37b685ec9c6f15228128ce30437',\n",
    " 'cabdfc174953b4bdb8bdcc89d6592c74',\n",
    " 'eac3a4080127e8924034651b57dfa289',\n",
    " 'c0013f31657294b9b5ad819123513ca7',\n",
    " '2681697be70cd5425899ed6deb84b18a',\n",
    " '47f60340b869552e795fa6782224f3d2',\n",
    " '7e8a6eac93147eb52d8151bab7b40003',\n",
    " 'f34267f498c8a78383e35057fbcfa2ce',\n",
    " 'f024f923d78e5c0a4c0c4baa3ddccf05',\n",
    " 'e148c710d0c26849cf1f15293481038b',\n",
    " 'bdf437d7498815f36c255f64a8e6571c',\n",
    " '2282e0c80be28aadadb79a822fec9dac',\n",
    " 'bdd05e96876342b4b5999709439a7f4e',\n",
    " '494b8316614fc64c5c27757aeaffce23_1',\n",
    " 'c4494b402264250dc70931613d482295',\n",
    " 'fcfbf207c5586294fdce33b645b613f1',\n",
    " '9c583bcbe68989a644433302545fb31e',\n",
    " '0e684d779d98e6eecda167c10af42bbb',\n",
    " 'ac0462d09b9fddd40c3c77aedf48a870',\n",
    " '1dbfb41e04a10bdbb085bfe667c0df99',\n",
    " 'cd0c0ef3b8ce0eb09ff26823f6059be6',\n",
    " 'e6b67184b99375d05d3f2887f684c684',\n",
    " 'ae9f6f1e17b3fdd3a86b494933809f45',\n",
    " 'f149604169936a30b7e4c8d599d604b5',\n",
    " 'd7c8377953e0175ef57d59f3a8e63a8e',\n",
    " '1837216ac7745121b82a6491b2318c09',\n",
    " 'b5fe238d45e55ca5d802b7823ad390ef',\n",
    " 'b2fbeb0b48bd5e575af0f7dc24cdd85d',\n",
    " '9bdfb101c487ac598f6e4686cf774703',\n",
    " '206c7116ee2246180fcc0c5a1d0e7205',\n",
    " '5cd7f44bbf730dfae5ef2a362d2e5149',\n",
    " '45d0ea781ffd49b07d6eae94d47a8945',\n",
    " '89afdea1d76272fda8e1538a7d3b7a3f',\n",
    " '38a514fe54108527e1d6e89d9812da93',\n",
    " 'ebf347934a3e90ea46d3d87726fb5d25',\n",
    " '90226a6ecd7308ae1e6220a15ae24bc6',\n",
    " '5cae8057e75e3adf5c338a43b3ba97fb',\n",
    " '388a363c49e1b0aca8eaf18ccdde0caf',\n",
    " '9ed3af82152dfcd7000bf4631b095f71',\n",
    " '2d5805d894bba224c5fe91e70b8c0f77',\n",
    " 'd5aa464a16b72c9b9f3091abd461e3ef',\n",
    " '381b11c54be4cc432a95053ca34cbf6b',\n",
    " '807a3a2dabdd50ed0c76052fd2612632',\n",
    " '5172041c750d22e9a5081cc024de0fa6',\n",
    " 'd32a45ab3b751110d0578a78e54c0e64',\n",
    " '28ca5cbe27774746c34f6ebe84fc6d0c']\n",
    "\n",
    "chatGPT_rationales = [\n",
    "    \"A cup is a common vessel used for holding and drinking liquids, such as water, coffee, or tea. When you want to get yourself a drink, you might typically get a cup from a cabinet or other storage area in order to hold the drink. A cup is a convenient and practical choice for getting a drink because it is easy to hold and use, and it can hold a reasonable amount of liquid. There are many different types of cups available, including ceramic, glass, plastic, and metal cups, each with their own unique features and benefits. Whether you are at home, at work, or out in public, a cup is a handy item to have on hand when you need to quench your thirst.\",\n",
    "    \"A front yard is the lawn that is typically located in front of a house, near the street. The front yard is the part of the property that is visible from the street and is often used for decorative purposes, such as landscaping or gardening. Many people take pride in their front yards and may spend time and resources maintaining and improving them. The front yard is often the first thing that visitors see when they arrive at a house, and it can make a strong impression on them. In contrast, the back yard is typically located behind the house and is often used for more practical purposes, such as outdoor recreation or gardening.\",\n",
    "    \"A swimming pool is a recreational water feature that is typically used for swimming and other aquatic activities. While shallow water, such as that found in a kiddie pool or a shallow end of a pool, can be enjoyable for some people, it may not be sufficient for many summer activities. A swimming pool that is deep enough for diving and other activities is more likely to provide more opportunities for summer fun. In addition, a swimming pool that is clean and chlorinated is more likely to be safe and enjoyable for swimming, as it will be free of contaminants and bacteria that can cause illness.\",\n",
    "    \"In most places, it is illegal for people under the age of 21 to purchase or consume alcohol. This is because alcohol can have negative effects on the developing brain and body of young people. It can also contribute to risky behaviors and accidents. Therefore, many governments have set a minimum age for alcohol consumption and purchase to help protect the health and safety of young people. If someone is under the age of 21 and attempts to purchase alcohol, they may be denied the sale or face legal consequences. It is important for young people to understand and adhere to the laws and regulations regarding the purchase and consumption of alcohol in their area.\",\n",
    "    \"When someone shaves, they typically use a razor to remove hair from their face or body. The process of shaving can leave a lot of hair in the sink, as the hair is trimmed off and falls into the sink as it is being shaved. It is common for people to shave in the bathroom, where a sink is typically located. The sink provides a convenient place to rinse the razor and wash off any excess hair or shaving cream. It is important to clean the sink after shaving to remove any hair and prevent clogs in the drain.\",\n",
    "    \"A hamburger is a type of sandwich that consists of a cooked patty of ground meat, typically beef, placed between two slices of bread or a bun. Hamburgers are often served with various toppings, such as lettuce, tomato, onion, cheese, and condiments like ketchup and mustard. However, if someone is suffering from great hunger, they may not care about the toppings and just want to eat the hamburger itself. In this case, the person may be more focused on satisfying their hunger and getting nourishment rather than worrying about additional ingredients or flavors.\",\n",
    "    \"If a person notices popcorn and cotton candy on the grass, they are likely at fairgrounds. Fairgrounds are outdoor areas that are used for hosting fairs and other events, such as carnivals, festivals, and exhibitions. These events often feature food stalls and vendors that sell a variety of treats, including popcorn and cotton candy. Popcorn and cotton candy are both popular carnival foods that are often sold at fairs and other events. The presence of these foods on the ground at fairgrounds suggests that a fair or similar event is taking place there.\",\n",
    "    \"When snow on a mountain becomes heavy, it can trigger an avalanche. An avalanche is a rapid flow of snow down a slope, often triggered by the weight of the snow or external factors such as a change in temperature. Avalanches can be dangerous and destructive, as they can bury and sweep away anything in their path, including people, buildings, and vehicles. Avalanches can occur on any slope with a steep enough incline and a sufficient amount of snow. They are most common on mountains, but they can also occur in other snowy areas, such as forests or valleys. It is important for people to be aware of the risk of avalanches and to take precautions when traveling in areas prone to avalanches.\",\n",
    "    \"A police officer typically reports their work through the use of case reports or incident reports. These reports are written documents that detail the events of a specific case or incident that the officer has worked on. Case reports or incident reports typically include information such as the date and time of the incident, the location, the people involved, and the actions taken by the officer. They may also include witness statements, evidence collected, and any other relevant details. Case reports or incident reports are used by police officers to document their work and provide a record of the incidents they have dealt with. They are also used by supervisors and other authorities to review and evaluate the performance of the officer and the effectiveness of their actions.\",\n",
    "    \"Teachers play many roles in the lives of their students, including mentor, counselor, and role model. However, they get the most out of their job by simply teaching children. Teaching children is the primary responsibility of a teacher, and it is what they are trained and paid to do. Teaching involves imparting knowledge, skills, and values to students, and helping them to develop the skills and habits they need to succeed in life. Teachers have the opportunity to make a positive impact on the lives of their students by providing them with a strong foundation in academic subjects and helping them to become curious, engaged learners. Teachers often derive a great deal of satisfaction from helping their students to achieve their potential and succeed in their studies.\",\n",
    "    \"A person might go to get counseling for a variety of reasons. One reason is to better understand themselves. Counseling can provide a safe and supportive environment for individuals to explore their thoughts, feelings, and behaviors, and to gain insight into why they act and feel the way they do. Counseling can also help a person to identify and work through any underlying issues or challenges that may be causing them distress or hindering their personal growth. Through counseling, a person can learn more about themselves and how to navigate their emotions and relationships more effectively. Counseling can be particularly helpful for individuals who are struggling with mental health issues, relationship problems, or other personal challenges.\",\n",
    "    \"If the kids wanted to cool off, they might go swimming as a way to refresh and beat the heat. Swimming is a fun and enjoyable activity that can provide relief from hot weather and help to cool the body. Swimming can also provide a great workout and has numerous health benefits, such as improving cardiovascular fitness and flexibility. There are many different places where kids can go swimming, such as pools, lakes, rivers, or the ocean. No matter where they go, kids can have fun and cool off while enjoying the water.\",\n",
    "    \"When remembering a tragedy in the past, many people may feel depressed. Depression is a common emotional reaction to experiencing a traumatic or stressful event, such as a tragedy. Depression is a mental health disorder characterized by persistent feelings of sadness, hopelessness, and low energy. It can also cause physical symptoms such as changes in appetite and sleep patterns, fatigue, and difficulty concentrating. Remembering a tragedy can be emotionally difficult and may trigger feelings of sadness, grief, and guilt. It is important for people who are struggling with depression to seek support and treatment to help manage their symptoms and improve their mental health.\",\n",
    "    \"Death Valley is a national park located in the Mojave Desert, in the state of California, United States. It is situated on the North American continent. The North American continent is one of the seven continents of the world and is located in the western hemisphere. It is the third largest continent in terms of land area, after Asia and Africa, and is home to a diverse range of cultures, languages, and environments. Death Valley is known for its extreme desert climate and is the lowest, hottest, and driest place in North America. It is a popular destination for tourists, who come to see its unique geological features, such as sand dunes, salt flats, and canyons.\",\n",
    "    \"When in a serious relationship, understanding better requires effort. Relationships require effort and work to maintain and grow. In order to understand your partner better, you need to be willing to put in the time and effort to communicate with them, listen to their perspectives, and try to see things from their point of view. This may involve asking questions, expressing your own feelings and needs, and being open to feedback and compromise. Understanding your partner better can help to strengthen the bond between you and improve the quality of your relationship. It is important to remember that relationships are dynamic and evolving, and that ongoing communication and effort are necessary to maintain a healthy and fulfilling relationship.\",\n",
    "    \"Cats are able to make a variety of vocalizations, including meows, purrs, and growls, as a way of communicating with humans and other animals. Cats use these vocalizations to convey a range of emotions and needs, such as hunger, happiness, or discomfort. Meowing is a common vocalization that cats use to communicate with humans. Cats may meow when they want attention, food, or to be let outside. Cats may also meow when they are feeling anxious or stressed. Although cats cannot talk in the same way that humans do, they are skilled at using their voices to communicate with their owners and other animals.\",\n",
    "    \"If you need a vessel that is similar to a battleship but faster, you might consider using a corvette. A corvette is a small, fast warship that is typically used for convoy escort, patrol, and other shallow water duties. Corvettes are generally smaller and less heavily armed than battleships, but they are more agile and have a higher speed. They are typically equipped with a variety of weapons, including guns, missiles, and torpedoes, and are used for defending against enemy ships and aircraft. Corvettes are often used for coastal defense, as well as for patrolling and enforcing maritime laws. They are capable of operating in a variety of environments, including open ocean and littoral (nearshore) waters.\",\n",
    "    \"Water in the sky comes from rain clouds. Rain clouds are clouds that form when moist air rises and cools, forming tiny water droplets that condense around particles in the air. As the droplets grow, they eventually become heavy enough to fall from the cloud as rain. Rain clouds are typically gray or white in color and are often accompanied by other types of clouds, such as cumulus or stratocumulus clouds. Rain clouds can form in a variety of ways, such as when warm, moist air from the ground rises and cools, or when moist air from the ocean is carried inland by the wind. Rain clouds can be found in many parts of the world and are a common source of precipitation, especially during the warmer months.\",\n",
    "    \"If John rented a hotel room while on a business trip and it was a company-sponsored event, it is possible that the hotel was a resort. Resorts are hotels or vacation properties that offer a variety of amenities and activities for guests, such as swimming pools, golf courses, spas, and restaurants. They are often located in scenic or recreational areas and are designed to provide a relaxing and enjoyable experience for guests. Many resorts offer conference and meeting facilities and are popular destinations for business events and retreats. If John's company sponsored the business trip and provided the hotel accommodations, it is likely that they chose a resort with the amenities and facilities needed to support the event.\",\n",
    "    \"An expressway might leave the United States and go to Canada. The United States and Canada are neighboring countries that share a border, and there are several expressways that cross the border between the two countries. Expressways are high-speed, limited-access roads that are designed for fast and efficient travel. They typically have multiple lanes and may include features such as grade separations, interchanges, and controlled access points. Expressways are used for long-distance travel and are often the main routes connecting major cities and regions. If an expressway leaves the United States, it is likely that it is heading towards Canada, which is located to the north of the United States.\",\n",
    "    \"If you were walking on a sidewalk near a small corner shop run by John, you would look for it on the street corner. A corner shop is a small retail store that is typically located at the intersection of two streets. It is often a convenience store or a neighborhood shop that sells a variety of goods, such as groceries, household items, and other supplies. Corner shops are often located in busy urban areas, where they are easily accessible to pedestrians and motorists. If you were walking on a sidewalk near a corner shop, you would look for it at the intersection of the street where you are walking and another street. The shop is likely to be located in a building on the corner, with windows and doors facing the street.\",\n",
    "    \"One way that a company can efficiently sell things to their customers is through mail order. Mail order is a method of selling goods or services by advertising them in a catalog or other publication and allowing customers to place orders by mail, telephone, or online. Mail order is a convenient and efficient way for companies to reach a wide customer base, as it allows them to sell products to customers who may not be located near their physical store or who may not have the time or inclination to shop in person. Mail order companies typically have a centralized warehouse or distribution center where orders are processed and shipped to customers. They may also offer options such as easy returns and exchanges, as well as customer service support to assist with any questions or issues that customers may have.\",\n",
    "    \"If he enjoyed the factory work and liked the idea that he did it for sale, it is likely that he enjoyed producing goods. Factory work typically involves the production of goods, such as products or materials, using machines, tools, and other equipment. Factory workers are responsible for operating and maintaining the equipment and ensuring that the goods being produced meet quality standards. The goods produced in a factory may be sold directly to consumers or to other businesses, and may be used for a variety of purposes, such as manufacturing, construction, or distribution. If a person enjoys factory work, they may find satisfaction in the idea that they are contributing to the production of goods that will be sold and used by others.\",\n",
    "    \"If returning to work was easy for Dan after his treatment and he was completely painless, it is likely that he had undergone some form of medical treatment or therapy to address a health issue or injury. Painless indicates that Dan was no longer experiencing pain or discomfort, which may have been a result of the treatment or therapy he received. It is not clear from the information provided what specific health issue or injury Dan was dealing with, or what treatment or therapy he received. However, it is possible that Dan was able to return to work more easily after his treatment because he was feeling better and was no longer experiencing any pain or discomfort.\",\n",
    "    \"If index cards were on display at the museum, it is likely that the museum was a library. Libraries are institutions that provide access to a wide range of resources, including books, periodicals, and other printed materials, as well as digital resources such as e-books, databases, and online research tools. Libraries often have exhibits and displays of various types of materials, including rare or unique items, and may have special collections or archives that are of particular interest to researchers or historians. Index cards are small, rectangular pieces of paper that are used for organizing information, such as names, dates, or research notes. They may be used in a variety of settings, including libraries, offices, and schools. If index cards were on display at the museum, it is possible that they were part of a historical exhibit or collection related to the history of libraries or research.\",\n",
    "    \"If she was a human in America who wanted to live well, it is likely that the given for her situation was the need for money. In general, money is an important factor in enabling people to live well and meet their basic needs and desires. Money allows people to purchase the goods and services that they need to sustain themselves and their families, such as food, clothing, housing, and healthcare. It also enables people to pursue their interests and hobbies, travel, and engage in various forms of leisure and entertainment. In America, and in many other countries around the world, the cost of living can be high, and people often need to earn and save money in order to achieve a desired standard of living. As such, the need for money is a given for many people in order to live well.\",\n",
    "    \"A place that could have one back garden is a house. A garden is a piece of land that is used for growing plants, flowers, vegetables, or other types of vegetation. Gardens can be found in a variety of settings, including residential properties, public parks, and commercial properties. A house is a building that is used as a dwelling for one or more people, and it typically includes living spaces, such as bedrooms, bathrooms, and a kitchen, as well as outdoor areas, such as a front yard, side yard, and back yard. A back yard is a private outdoor space that is typically located behind a house and is often used for recreational or leisure activities, such as gardening, grilling, or playing games. If a house has a back garden, it is likely that the garden is located in the back yard.\",\n",
    "    \"People gather at a football stadium to see large men in pads play a game where they run and smash into each other. Football is a popular sport that is played on a rectangular field by two teams of eleven players. The game involves running, passing, and tackling, and players wear pads and other protective gear to reduce the risk of injury. Football is a physical and intense sport, and players often collide with each other at high speeds. Football stadiums are large, open-air facilities that are designed to host football games and other sporting events. They typically have a grass or artificial turf field, seating for spectators, and a variety of amenities, such as concessions stands, restrooms, and VIP areas. Football stadiums are popular places for people to gather and watch football games, and they can be found in cities and towns throughout the world.\",\n",
    "    \"One place where someone can get a flute is a musical instrument store. A musical instrument store is a retail establishment that specializes in selling musical instruments and related accessories. They may carry a wide range of instruments, including brass instruments, woodwind instruments, string instruments, percussion instruments, and keyboards. Flutes are woodwind instruments that are played by blowing air into a narrow opening and producing sound by vibrating the lips against a metal or wooden reed. They are popular instruments that are used in a variety of musical styles, including classical, jazz, and folk music. If someone is looking to purchase a flute, they may be able to find a selection of flutes at a musical instrument store. In addition to flutes, musical instrument stores may also offer a variety of other instruments, as well as sheet music, instructional materials, and accessories such as cases, stands, and cleaning supplies.\",\n",
    "    \"It is not clear what someone who has a greed for energy would do. The word greed typically refers to an excessive or insatiable desire for wealth, power, or material possessions. It is not clear how this concept would relate to energy or how it might influence someone's actions. It is possible that someone who has a lot of energy or who is very active might have a high appetite for food and might seek out sources of fuel or nutrition to sustain their energy levels. In this case, they might buy food as a way to obtain the energy they need. However, it is not accurate to say that someone who has a greed for energy would necessarily do this. It is important to note that the concept of greed is generally considered to be negative, as it suggests an unhealthy or unsustainable desire for something.\",\n",
    "    \"A forklift is a type of industrial vehicle that is used for moving and lifting heavy loads, such as pallets, crates, and boxes. Forklifts are equipped with a hydraulic lift mechanism and a set of prongs or forks that can be used to lift and transport loads. They are commonly used in warehouses and other distribution centers to move and stack materials, such as boxes, onto shelves or other storage areas. If you were using a forklift to stack boxes onto shelves, it is likely that you were in a warehouse or a similar facility. Warehouses are large, commercial buildings that are used for storing and distributing goods. They often have high ceilings, wide aisles, and multiple levels, and they may be equipped with a variety of material handling equipment, such as forklifts, conveyor belts, and cranes, to facilitate the movement and storage of goods.\",\n",
    "    \"You are likely to receive mouthwash in a little paper cup at a dentist's office. Dentist's offices are healthcare facilities that are staffed by dentists and other dental professionals, and they are used for the diagnosis and treatment of dental problems and the maintenance of oral health. One common practice at a dentist's office is to rinse the mouth with mouthwash, which is a liquid that is used to freshen breath, kill bacteria, and reduce the risk of gum disease and other oral health issues. Mouthwash is typically used after brushing and flossing to help remove any remaining food particles or plaque from the mouth. It may be dispensed in a little paper cup, which can be used to rinse the mouth and then disposed of after use.\",\n",
    "    \"A doctor's office can help you with an illness. A doctor's office is a healthcare facility that is staffed by medical doctors and other healthcare professionals, and it is used for the diagnosis and treatment of medical conditions and the maintenance of overall health. If you are experiencing an illness, such as a cold, flu, or more serious health issue, you may visit a doctor's office to seek medical care and treatment. At a doctor's office, you may receive a physical examination, diagnostic tests, and other forms of medical treatment, depending on the nature of your illness and your specific needs. Doctors are trained to diagnose and treat a wide range of medical conditions, and they can provide you with the care and support you need to recover from your illness and get back to good health.\",\n",
    "    \"A bug looking for wildflowers and no human interruption might go to a meadow. A meadow is a grassland area that is characterized by its open, grassy landscape and the presence of wildflowers and other types of vegetation. Meadows can be found in a variety of settings, including rural areas, forests, and parkland, and they are often home to a variety of animal and plant species. Because meadows are relatively undisturbed by human activity, they can be a good place for a bug to find wildflowers and other types of plants without interference from humans. Meadows are often considered to be peaceful, serene places, and they may be attractive to a bug that is seeking a quiet, natural environment in which to explore and forage.\",\n",
    "    \"If a bride and groom are taking care of proposals, the likely ceremony is a marriage. A marriage is a formal union between two people that is recognized by law and typically involves a public ceremony and the exchange of vows. A marriage proposal is a request for someone to marry another person, and it is typically made by one partner to the other. The process of planning a marriage often involves taking care of a variety of details and arrangements, such as choosing a venue, selecting a date, inviting guests, and organizing the ceremony and reception. If a bride and groom are taking care of proposals, it is likely that they are in the process of planning their marriage and preparing for the wedding ceremony.\",\n",
    "    \"You could put some olives in a jar to prevent them from getting nearby food wet. A jar is a container that is typically made of glass or ceramic and has a wide mouth and a secure, tight-fitting lid. Jars are often used for storing food items, such as olives, pickles, jams, and other types of preserved or dried goods. Because they have a sealed lid, jars can help to keep food fresh and prevent it from coming into contact with air or other substances that might spoil or contaminate it. If you want to prevent olives from getting nearby food wet, you could put them in a jar and close the lid to create an airtight seal. This would help to keep the olives separate from other foods and prevent them from coming into contact with moisture or other liquids.\",\n",
    "    \"If the graveyard was zoned by the pastor, it is likely that it was located on church property. Church property refers to land or buildings that are owned by a church or religious organization. This may include the main church building, as well as other structures such as a rectory, school, or community center. Church property may also include a graveyard or cemetery, which is a place where people are buried after they die. Pastors, who are ordained leaders in a church, often play a central role in the management and oversight of church property, and they may be responsible for zoning or designating areas within the property for specific purposes, such as a graveyard or a garden. If the pastor has zoned the graveyard, it is likely that it is located on church property and is being used as a place for burial by members of the church or community.\",\n",
    "    \"If a family wanted to live with carpeting, they may have ended up putting it in their houses. Houses are structures that are designed and built to be used as homes, and they typically have a number of rooms that are used for different purposes, such as sleeping, cooking, eating, and relaxing. Carpeting is a type of floor covering that is made of soft, flexible materials, such as wool, nylon, or polypropylene, and it is often used in houses to provide warmth, comfort, and insulation. If a family wanted to live with carpeting, they may have chosen to install carpeting in some or all of the rooms in their houses, in order to create a warm and cozy atmosphere and to improve the overall comfort and livability of their homes.\",\n",
    "    \"If a boss likes an employee's ambition, the employee may be put in charge of a project. A project is a specific task or set of tasks that is undertaken in order to achieve a specific goal or objective. Projects may be large or small, complex or simple, and they may involve a wide range of activities, such as research, design, development, testing, and implementation. If an employee is ambitious and demonstrates a strong desire to succeed and make a positive contribution to their organization, their boss may choose to put them in charge of a project, in order to give them the opportunity to demonstrate their skills and abilities and to take on more responsibility. Being put in charge of a project can be a challenging and rewarding experience, and it may provide an employee with the chance to learn new things, develop their skills, and make a meaningful contribution to their organization.\",\n",
    "    \"A county highway can be viewed as a line on a map. A map is a graphic representation of an area or region that shows the locations of various features, such as roads, rivers, mountains, and cities. Maps are often used to help people navigate and find their way around unfamiliar places, and they can be very useful for understanding the layout and geography of an area. County highways are roads that are maintained and operated by a county or local government, and they are typically used for local travel and transportation within a county or region. On a map, a county highway may be represented as a line, with a specific color or symbol used to indicate its location and route. By viewing a county highway as a line on a map, it is possible to get a sense of the route and layout of the road, and to use the map to plan a journey or navigate to a specific destination.\",\n",
    "    \"After going for a run, someone may feel tired. Running is a form of physical activity that involves moving quickly and continuously on foot, typically by running or jogging. It is a popular form of exercise that can help to improve cardiovascular fitness, build endurance, and strengthen the muscles of the legs and lower body. However, running can also be physically demanding, and it requires a certain level of fitness and stamina to be able to sustain the activity for an extended period of time. As a result, it is common for people to feel tired after going for a run, especially if they are not used to the activity or if they have pushed themselves to run for a longer distance or at a faster pace than usual. Tiredness after a run may be accompanied by other physical sensations, such as muscle fatigue, thirst, or a sense of accomplishment.\",\n",
    "    \"If a car was going from Florida to Ohio, it was heading north. Florida is a state in the southeastern region of the United States, and Ohio is a state in the midwestern region of the country. When traveling from Florida to Ohio, a person would need to go north in order to reach their destination. North is a direction that is opposite to south on a map or compass, and it is typically associated with higher latitude, colder climates, and longer nights. When traveling north, a person may encounter different landscapes, weather patterns, and cultural experiences than they would when traveling south, depending on the specific route and the distance traveled. By heading north from Florida to Ohio, a person would be leaving behind the warm, tropical climate of Florida and entering into a more temperate, mid-latitude region with cooler temperatures and a more diverse range of landscapes and ecosystems.\",\n",
    "    \"During a typical week, a teacher is likely to spend most of their time working in school. A teacher is a person who is trained and qualified to teach students in a school or educational setting, and their primary job is to provide instruction and guidance to help students learn and develop their skills and knowledge. Teachers may work in a variety of settings, including primary schools, secondary schools, and universities, and they may teach a wide range of subjects, including math, science, English, history, and the arts. In order to fulfill their duties as a teacher, a person is likely to spend most of their time working in a school or educational setting, where they will be responsible for preparing and delivering lessons, grading assignments, communicating with students and parents, and performing other tasks related to their job. Teachers typically work on a schedule that follows the school year, and they may work full-time or part-time, depending on their specific circumstances and the needs of their students.\",\n",
    "    \"In a predicament, an animal might choose to fight for its life as an alternative to fleeing. Predicament is a term that refers to a difficult or challenging situation, typically one that involves a choice or decision that needs to be made. When an animal finds itself in a predicament, it may have to decide how to respond in order to survive and protect itself. One option that an animal may have is to flee or run away from the situation in an effort to escape danger or avoid conflict. Another option that an animal may have is to fight for its life, using whatever means are available to defend itself and protect its survival. The choice that an animal makes in a predicament will depend on a variety of factors, including the specific nature of the situation, the animal's size, strength, and abilities, and the resources and options that are available to it.\",\n",
    "    \"It is not common for people to fight each other when they find a good deal. A good deal is typically defined as an opportunity to purchase something at a price that is lower than what it is usually worth, or to obtain a product or service that provides more value or benefits than what is expected. When people find a good deal, they may feel excited or pleased about the opportunity to save money or get more for their money, and they may take action to take advantage of the deal. However, it is generally not considered acceptable or appropriate for people to fight each other over a good deal or to engage in physical violence or aggression in order to obtain it. There are many other ways that people can express their interest in a good deal, such as by negotiating with the seller, making an offer, or simply making a purchase if the price is acceptable.\",\n",
    "    \"An altar is a platform or structure that is used for religious ceremonies, rituals, or worship. Altars are often found in places of worship, such as temples, churches, synagogues, mosques, and other religious buildings. When a person is standing in front of an altar, they are likely to be in a temple or other place of worship. Altars can be used for a variety of purposes in different religions and spiritual traditions, such as offering sacrifices, making offerings, praying, or performing other religious practices. They may be decorated with symbols, images, or other items that are significant to the religion or spiritual tradition that is being practiced. Altars may also be used as a place for people to meditate, reflect, or seek spiritual guidance.\",\n",
    "    \"Joe bought a bunch of grapes because he likes to use them to top his desserts. A dessert is a type of food that is typically served at the end of a meal, and it is usually sweet or rich in flavor. There are many different types of desserts that people enjoy, including cakes, cookies, ice cream, pie, and other sweet treats. One way that people may use grapes as a topping for their desserts is by placing them on top of a fruit pie, tart, or crisp. Grapes can add flavor and texture to a dessert, and they may also be used to decorate a dessert or to add visual appeal. Grapes are a versatile fruit that can be used in many different types of desserts, and they can be eaten fresh, frozen, or preserved in various ways.\",\n",
    "    \"Well water is water that is obtained from underground sources, typically through the use of a well. A well is a hole or shaft that is dug into the ground in order to access water that is contained in underground aquifers or other water-bearing formations. Well water is typically used for drinking, irrigation, and other purposes, and it is often considered to be of high quality because it is filtered and purified naturally as it flows through the ground. To obtain well water, a person can dig a well or have one dug by a professional well driller. The depth of the well will depend on the location and the geology of the area, and a pump or other mechanical system may be used to bring the water to the surface.\",\n",
    "]"
   ]
  },
  {
   "cell_type": "code",
   "execution_count": 18,
   "id": "013e06f0",
   "metadata": {},
   "outputs": [
    {
     "name": "stdout",
     "output_type": "stream",
     "text": [
      "dict_keys(['stem', 'no_more_50_words', 'id', '150_to_200_words'])\n",
      "dict_keys(['stem', 'no_more_50_words', 'id', '150_to_200_words'])\n",
      "dict_keys(['stem', 'no_more_50_words', 'id', '150_to_200_words'])\n",
      "dict_keys(['stem', 'no_more_50_words', 'id', '150_to_200_words'])\n",
      "dict_keys(['stem', 'no_more_50_words', 'id', '150_to_200_words'])\n",
      "dict_keys(['stem', 'no_more_50_words', 'id', '150_to_200_words'])\n",
      "dict_keys(['stem', 'no_more_50_words', 'id', '150_to_200_words'])\n",
      "dict_keys(['stem', 'no_more_50_words', 'id', '150_to_200_words'])\n",
      "dict_keys(['stem', 'no_more_50_words', 'id', '150_to_200_words'])\n",
      "dict_keys(['stem', 'no_more_50_words', 'id', '150_to_200_words'])\n",
      "dict_keys(['stem', 'no_more_50_words', 'id', '150_to_200_words'])\n",
      "dict_keys(['stem', 'no_more_50_words', 'id', '150_to_200_words'])\n",
      "dict_keys(['stem', 'no_more_50_words', 'id', '150_to_200_words'])\n",
      "dict_keys(['stem', 'no_more_50_words', 'id', '150_to_200_words'])\n",
      "dict_keys(['stem', 'no_more_50_words', 'id', '150_to_200_words'])\n",
      "dict_keys(['stem', 'no_more_50_words', 'id', '150_to_200_words'])\n",
      "dict_keys(['stem', 'no_more_50_words', 'id', '150_to_200_words'])\n",
      "dict_keys(['stem', 'no_more_50_words', 'id', '150_to_200_words'])\n",
      "dict_keys(['stem', 'no_more_50_words', 'id', '150_to_200_words'])\n",
      "dict_keys(['stem', 'no_more_50_words', 'id', '150_to_200_words'])\n",
      "dict_keys(['stem', 'no_more_50_words', 'id', '150_to_200_words'])\n",
      "dict_keys(['stem', 'no_more_50_words', 'id', '150_to_200_words'])\n",
      "dict_keys(['stem', 'no_more_50_words', 'id', '150_to_200_words'])\n",
      "dict_keys(['stem', 'no_more_50_words', 'id', '150_to_200_words'])\n",
      "dict_keys(['stem', 'no_more_50_words', 'id', '150_to_200_words'])\n",
      "dict_keys(['stem', 'no_more_50_words', 'id', '150_to_200_words'])\n",
      "dict_keys(['stem', 'no_more_50_words', 'id', '150_to_200_words'])\n",
      "dict_keys(['stem', 'no_more_50_words', 'id', '150_to_200_words'])\n",
      "dict_keys(['stem', 'no_more_50_words', 'id', '150_to_200_words'])\n",
      "dict_keys(['stem', 'no_more_50_words', 'id', '150_to_200_words'])\n",
      "dict_keys(['stem', 'no_more_50_words', 'id', '150_to_200_words'])\n",
      "dict_keys(['stem', 'no_more_50_words', 'id', '150_to_200_words'])\n",
      "dict_keys(['stem', 'no_more_50_words', 'id', '150_to_200_words'])\n",
      "dict_keys(['stem', 'no_more_50_words', 'id', '150_to_200_words'])\n",
      "dict_keys(['stem', 'no_more_50_words', 'id', '150_to_200_words'])\n",
      "dict_keys(['stem', 'no_more_50_words', 'id', '150_to_200_words'])\n",
      "dict_keys(['stem', 'no_more_50_words', 'id', '150_to_200_words'])\n",
      "dict_keys(['stem', 'no_more_50_words', 'id', '150_to_200_words'])\n",
      "dict_keys(['stem', 'no_more_50_words', 'id', '150_to_200_words'])\n",
      "dict_keys(['stem', 'no_more_50_words', 'id', '150_to_200_words'])\n",
      "dict_keys(['stem', 'no_more_50_words', 'id', '150_to_200_words'])\n",
      "dict_keys(['stem', 'no_more_50_words', 'id', '150_to_200_words'])\n",
      "dict_keys(['stem', 'no_more_50_words', 'id', '150_to_200_words'])\n",
      "dict_keys(['stem', 'no_more_50_words', 'id', '150_to_200_words'])\n",
      "dict_keys(['stem', 'no_more_50_words', 'id', '150_to_200_words'])\n",
      "dict_keys(['stem', 'no_more_50_words', 'id', '150_to_200_words'])\n",
      "dict_keys(['stem', 'no_more_50_words', 'id', '150_to_200_words'])\n",
      "dict_keys(['stem', 'no_more_50_words', 'id', '150_to_200_words'])\n",
      "dict_keys(['stem', 'no_more_50_words', 'id', '150_to_200_words'])\n",
      "dict_keys(['stem', 'no_more_50_words', 'id', '150_to_200_words'])\n",
      "dict_keys(['stem', 'no_more_50_words', 'id', '150_to_200_words'])\n",
      "dict_keys(['stem', 'no_more_50_words', 'id', '150_to_200_words'])\n",
      "dict_keys(['stem', 'no_more_50_words', 'id', '150_to_200_words'])\n",
      "dict_keys(['stem', 'no_more_50_words', 'id', '150_to_200_words'])\n",
      "dict_keys(['stem', 'no_more_50_words', 'id', '150_to_200_words'])\n",
      "dict_keys(['stem', 'no_more_50_words', 'id', '150_to_200_words'])\n",
      "dict_keys(['stem', 'no_more_50_words', 'id', '150_to_200_words'])\n",
      "dict_keys(['stem', 'no_more_50_words', 'id', '150_to_200_words'])\n",
      "dict_keys(['stem', 'no_more_50_words', 'id', '150_to_200_words'])\n",
      "dict_keys(['stem', 'no_more_50_words', 'id', '150_to_200_words'])\n",
      "dict_keys(['stem', 'no_more_50_words', 'id', '150_to_200_words'])\n",
      "dict_keys(['stem', 'no_more_50_words', 'id', '150_to_200_words'])\n",
      "dict_keys(['stem', 'no_more_50_words', 'id', '150_to_200_words'])\n",
      "dict_keys(['stem', 'no_more_50_words', 'id', '150_to_200_words'])\n",
      "dict_keys(['stem', 'no_more_50_words', 'id', '150_to_200_words'])\n",
      "dict_keys(['stem', 'no_more_50_words', 'id', '150_to_200_words'])\n",
      "dict_keys(['stem', 'no_more_50_words', 'id', '150_to_200_words'])\n",
      "dict_keys(['stem', 'no_more_50_words', 'id', '150_to_200_words'])\n",
      "dict_keys(['stem', 'no_more_50_words', 'id', '150_to_200_words'])\n",
      "dict_keys(['stem', 'no_more_50_words', 'id', '150_to_200_words'])\n",
      "dict_keys(['stem', 'no_more_50_words', 'id', '150_to_200_words'])\n",
      "dict_keys(['stem', 'no_more_50_words', 'id', '150_to_200_words'])\n",
      "dict_keys(['stem', 'no_more_50_words', 'id', '150_to_200_words'])\n",
      "dict_keys(['stem', 'no_more_50_words', 'id', '150_to_200_words'])\n",
      "dict_keys(['stem', 'no_more_50_words', 'id', '150_to_200_words'])\n",
      "dict_keys(['stem', 'no_more_50_words', 'id', '150_to_200_words'])\n",
      "dict_keys(['stem', 'no_more_50_words', 'id', '150_to_200_words'])\n",
      "dict_keys(['stem', 'no_more_50_words', 'id', '150_to_200_words'])\n",
      "dict_keys(['stem', 'no_more_50_words', 'id', '150_to_200_words'])\n",
      "dict_keys(['stem', 'no_more_50_words', 'id', '150_to_200_words'])\n",
      "dict_keys(['stem', 'no_more_50_words', 'id', '150_to_200_words'])\n",
      "dict_keys(['stem', 'no_more_50_words', 'id', '150_to_200_words'])\n",
      "dict_keys(['stem', 'no_more_50_words', 'id', '150_to_200_words'])\n",
      "dict_keys(['stem', 'no_more_50_words', 'id', '150_to_200_words'])\n",
      "dict_keys(['stem', 'no_more_50_words', 'id', '150_to_200_words'])\n",
      "dict_keys(['stem', 'no_more_50_words', 'id', '150_to_200_words'])\n",
      "dict_keys(['stem', 'no_more_50_words', 'id', '150_to_200_words'])\n",
      "dict_keys(['stem', 'no_more_50_words', 'id', '150_to_200_words'])\n",
      "dict_keys(['stem', 'no_more_50_words', 'id', '150_to_200_words'])\n",
      "dict_keys(['stem', 'no_more_50_words', 'id', '150_to_200_words'])\n",
      "dict_keys(['stem', 'no_more_50_words', 'id', '150_to_200_words'])\n",
      "dict_keys(['stem', 'no_more_50_words', 'id', '150_to_200_words'])\n",
      "dict_keys(['stem', 'no_more_50_words', 'id', '150_to_200_words'])\n",
      "dict_keys(['stem', 'no_more_50_words', 'id', '150_to_200_words'])\n",
      "dict_keys(['stem', 'no_more_50_words', 'id', '150_to_200_words'])\n",
      "dict_keys(['stem', 'no_more_50_words', 'id', '150_to_200_words'])\n",
      "dict_keys(['stem', 'no_more_50_words', 'id', '150_to_200_words'])\n",
      "dict_keys(['stem', 'no_more_50_words', 'id', '150_to_200_words'])\n",
      "dict_keys(['stem', 'no_more_50_words', 'id', '150_to_200_words'])\n",
      "dict_keys(['stem', 'no_more_50_words', 'id', '150_to_200_words'])\n",
      "dict_keys(['stem', 'no_more_50_words', 'id', '150_to_200_words'])\n",
      "dict_keys(['stem', 'no_more_50_words', 'id', '150_to_200_words'])\n",
      "dict_keys(['stem', 'no_more_50_words', 'id', '150_to_200_words'])\n",
      "dict_keys(['stem', 'no_more_50_words', 'id', '150_to_200_words'])\n",
      "dict_keys(['stem', 'no_more_50_words', 'id', '150_to_200_words'])\n",
      "dict_keys(['stem', 'no_more_50_words', 'id', '150_to_200_words'])\n",
      "dict_keys(['stem', 'no_more_50_words', 'id', '150_to_200_words'])\n",
      "dict_keys(['stem', 'no_more_50_words', 'id', '150_to_200_words'])\n",
      "dict_keys(['stem', 'no_more_50_words', 'id', '150_to_200_words'])\n",
      "dict_keys(['stem', 'no_more_50_words', 'id', '150_to_200_words'])\n",
      "dict_keys(['stem', 'no_more_50_words', 'id', '150_to_200_words'])\n",
      "dict_keys(['stem', 'no_more_50_words', 'id', '150_to_200_words'])\n",
      "dict_keys(['stem', 'no_more_50_words', 'id', '150_to_200_words'])\n",
      "dict_keys(['stem', 'no_more_50_words', 'id', '150_to_200_words'])\n",
      "dict_keys(['stem', 'no_more_50_words', 'id', '150_to_200_words'])\n"
     ]
    }
   ],
   "source": [
    "import glob\n",
    "import json\n",
    "import pdb\n",
    "chatgpt_50_100_rationales_dir = \"./chatgpt_rationales/200_250_text003\"\n",
    "file_list = glob.glob(\"{}/*.json\".format(chatgpt_50_100_rationales_dir))\n",
    "chatgpt_rationales_dict = {}\n",
    "for file in file_list:\n",
    "    with open(file, 'r') as f:\n",
    "        da = json.load(f)\n",
    "        print(da.keys())\n",
    "        chatgpt_rationales_dict[da['id']] = da['150_to_200_words']\n",
    "        #pdb.set_trace()"
   ]
  },
  {
   "cell_type": "code",
   "execution_count": 19,
   "id": "d9681ea9",
   "metadata": {},
   "outputs": [],
   "source": [
    "def list2dict(refine_data):\n",
    "    refine_data_dict={}\n",
    "    for key in refine_data[0].keys():\n",
    "        refine_data_dict[key]=[x[key] for x in refine_data]\n",
    "    return refine_data_dict\n",
    "\n",
    "select_refine_train_data = []\n",
    "for da in refine_train_data:\n",
    "    #pdb.set_trace()\n",
    "    if da['id'] in chatgpt_rationales_dict.keys():\n",
    "        da['our_explanation'] = chatgpt_rationales_dict[da['id']]\n",
    "        select_refine_train_data.append(da) \n",
    "        \n",
    "select_refine_train_data_dict = list2dict(select_refine_train_data)\n",
    "our_data_splits['train'] = datasets.Dataset.from_dict(select_refine_train_data_dict).shuffle().select(range(48))\n",
    "\n",
    "refine_dev_data_dict = list2dict(refine_dev_data)\n",
    "our_data_splits['dev'] = datasets.Dataset.from_dict(refine_dev_data_dict)\n",
    "\n",
    "refine_test_data_dict = list2dict(refine_test_data)\n",
    "our_data_splits['test'] = datasets.Dataset.from_dict(refine_test_data_dict)\n",
    "\n"
   ]
  },
  {
   "cell_type": "code",
   "execution_count": 20,
   "id": "53ab0e1a",
   "metadata": {},
   "outputs": [],
   "source": [
    "import datasets\n",
    "class SequenceCollator:\n",
    "    def __init__(self, pad_token):\n",
    "        # self.pad_token_mapping = {\n",
    "        #     \"lm_labels\": -100,\n",
    "        #     \"attention_mask\": 0,\n",
    "        #     \"decoder_attention_mask\": 0,\n",
    "        #     \"input_ids\": pad_token,\n",
    "        # }\n",
    "        # self.columns = [\n",
    "        #     \"input_ids\",\n",
    "        #     \"attention_mask\",\n",
    "        #     \"lm_labels\",\n",
    "        #     \"decoder_attention_mask\",\n",
    "        # ]\n",
    "        self.pad_token_mapping = {\n",
    "            \"labels\": -100,\n",
    "            \"attention_mask\": 0,\n",
    "            \"decoder_attention_mask\": 0,\n",
    "            \"input_ids\": pad_token,\n",
    "        }\n",
    "        self.columns = [\n",
    "            \"input_ids\",\n",
    "            \"attention_mask\",\n",
    "            \"labels\",\n",
    "            \"decoder_attention_mask\",\n",
    "        ]\n",
    "\n",
    "    def collate_batch(self, examples):\n",
    "\n",
    "        # batch inputs for training\n",
    "        batch = {}\n",
    "        for key in examples[0].keys():\n",
    "            if key in self.columns:\n",
    "                tmp_list = []\n",
    "                for item in examples:\n",
    "                    tmp_list.append(item[key])\n",
    "\n",
    "                # pad lists to max length\n",
    "                if isinstance(tmp_list[0], list):\n",
    "                    max_length = max(map(len, tmp_list))\n",
    "                    tmp_list = [\n",
    "                        el + [self.pad_token_mapping[key]] * (max_length - len(el))\n",
    "                        for el in tmp_list\n",
    "                    ]\n",
    "\n",
    "                batch[key] = torch.tensor(tmp_list, dtype=torch.long)\n",
    "        return batch\n",
    "    \n",
    "    def __call__(self, examples: List[Dict[str, InputDataClass]]) -> Dict[str, torch.Tensor]:\n",
    "        # re-format inputs for training\n",
    "        batch = {}\n",
    "        for key in examples[0].keys():\n",
    "            if key in self.columns:\n",
    "                tmp_list = []\n",
    "                for item in examples:\n",
    "                    tmp_list.append(item[key])\n",
    "\n",
    "                # pad lists to max length\n",
    "                if isinstance(tmp_list[0], list):\n",
    "                    max_length = max(map(len, tmp_list))\n",
    "                    tmp_list = [\n",
    "                        el + [self.pad_token_mapping[key]] * (max_length - len(el))\n",
    "                        for el in tmp_list\n",
    "                    ]\n",
    "\n",
    "                batch[key] = torch.tensor(tmp_list, dtype=torch.long)\n",
    "        return batch\n",
    "# dataset = datasets.load_dataset(data_args.task_name, data_args.version_name)"
   ]
  },
  {
   "cell_type": "code",
   "execution_count": 21,
   "id": "219866fe",
   "metadata": {},
   "outputs": [
    {
     "data": {
      "application/json": {
       "ascii": false,
       "bar_format": null,
       "colour": null,
       "elapsed": 0.012874603271484375,
       "initial": 0,
       "n": 0,
       "ncols": null,
       "nrows": 60,
       "postfix": null,
       "prefix": "",
       "rate": null,
       "total": 48,
       "unit": "ex",
       "unit_divisor": 1000,
       "unit_scale": false
      },
      "application/vnd.jupyter.widget-view+json": {
       "model_id": "3c346b2a9f014966a9abd9651004af42",
       "version_major": 2,
       "version_minor": 0
      },
      "text/plain": [
       "  0%|          | 0/48 [00:00<?, ?ex/s]"
      ]
     },
     "metadata": {},
     "output_type": "display_data"
    },
    {
     "data": {
      "application/json": {
       "ascii": false,
       "bar_format": null,
       "colour": null,
       "elapsed": 0.012677669525146484,
       "initial": 0,
       "n": 0,
       "ncols": null,
       "nrows": 60,
       "postfix": null,
       "prefix": "",
       "rate": null,
       "total": 986,
       "unit": "ex",
       "unit_divisor": 1000,
       "unit_scale": false
      },
      "application/vnd.jupyter.widget-view+json": {
       "model_id": "e3a613510f7c40349cf7770f42bcd116",
       "version_major": 2,
       "version_minor": 0
      },
      "text/plain": [
       "  0%|          | 0/986 [00:00<?, ?ex/s]"
      ]
     },
     "metadata": {},
     "output_type": "display_data"
    },
    {
     "data": {
      "application/json": {
       "ascii": false,
       "bar_format": null,
       "colour": null,
       "elapsed": 0.01461482048034668,
       "initial": 0,
       "n": 0,
       "ncols": null,
       "nrows": 60,
       "postfix": null,
       "prefix": "",
       "rate": null,
       "total": 255,
       "unit": "ex",
       "unit_divisor": 1000,
       "unit_scale": false
      },
      "application/vnd.jupyter.widget-view+json": {
       "model_id": "7fba555b37b54bb49b04ed544481d43f",
       "version_major": 2,
       "version_minor": 0
      },
      "text/plain": [
       "  0%|          | 0/255 [00:00<?, ?ex/s]"
      ]
     },
     "metadata": {},
     "output_type": "display_data"
    }
   ],
   "source": [
    "# seq_collector = SequenceCollator(0)\n",
    "# train_ds = seq_collector.__call__(dataset['train'])\n",
    "# train_ds\n",
    "# dataset['train'][0].keys()\n",
    "for split in ['train','dev','test']:\n",
    "    our_data_splits[split] = our_data_splits[split].map(\n",
    "            lambda x: format_instance(\n",
    "                x,\n",
    "                tokenizer,\n",
    "                data_args.explanation_sep,\n",
    "                datasource=data_args.task_name,\n",
    "                io_format=data_args.io_format\n",
    "            ),\n",
    "            batched=False,\n",
    "            load_from_cache_file=False,\n",
    "        )"
   ]
  },
  {
   "cell_type": "code",
   "execution_count": null,
   "id": "0c120e04",
   "metadata": {},
   "outputs": [],
   "source": []
  },
  {
   "cell_type": "code",
   "execution_count": 22,
   "id": "81048fad",
   "metadata": {},
   "outputs": [],
   "source": [
    "chatGPT_rationales = [\n",
    "    \"A cup is a common vessel used for holding and drinking liquids, such as water, coffee, or tea. When you want to get yourself a drink, you might typically get a cup from a cabinet or other storage area in order to hold the drink. A cup is a convenient and practical choice for getting a drink because it is easy to hold and use, and it can hold a reasonable amount of liquid. There are many different types of cups available, including ceramic, glass, plastic, and metal cups, each with their own unique features and benefits. Whether you are at home, at work, or out in public, a cup is a handy item to have on hand when you need to quench your thirst.\",\n",
    "    \"A front yard is the lawn that is typically located in front of a house, near the street. The front yard is the part of the property that is visible from the street and is often used for decorative purposes, such as landscaping or gardening. Many people take pride in their front yards and may spend time and resources maintaining and improving them. The front yard is often the first thing that visitors see when they arrive at a house, and it can make a strong impression on them. In contrast, the back yard is typically located behind the house and is often used for more practical purposes, such as outdoor recreation or gardening.\",\n",
    "    \"A swimming pool is a recreational water feature that is typically used for swimming and other aquatic activities. While shallow water, such as that found in a kiddie pool or a shallow end of a pool, can be enjoyable for some people, it may not be sufficient for many summer activities. A swimming pool that is deep enough for diving and other activities is more likely to provide more opportunities for summer fun. In addition, a swimming pool that is clean and chlorinated is more likely to be safe and enjoyable for swimming, as it will be free of contaminants and bacteria that can cause illness.\",\n",
    "    \"In most places, it is illegal for people under the age of 21 to purchase or consume alcohol. This is because alcohol can have negative effects on the developing brain and body of young people. It can also contribute to risky behaviors and accidents. Therefore, many governments have set a minimum age for alcohol consumption and purchase to help protect the health and safety of young people. If someone is under the age of 21 and attempts to purchase alcohol, they may be denied the sale or face legal consequences. It is important for young people to understand and adhere to the laws and regulations regarding the purchase and consumption of alcohol in their area.\",\n",
    "    \"When someone shaves, they typically use a razor to remove hair from their face or body. The process of shaving can leave a lot of hair in the sink, as the hair is trimmed off and falls into the sink as it is being shaved. It is common for people to shave in the bathroom, where a sink is typically located. The sink provides a convenient place to rinse the razor and wash off any excess hair or shaving cream. It is important to clean the sink after shaving to remove any hair and prevent clogs in the drain.\",\n",
    "    \"A hamburger is a type of sandwich that consists of a cooked patty of ground meat, typically beef, placed between two slices of bread or a bun. Hamburgers are often served with various toppings, such as lettuce, tomato, onion, cheese, and condiments like ketchup and mustard. However, if someone is suffering from great hunger, they may not care about the toppings and just want to eat the hamburger itself. In this case, the person may be more focused on satisfying their hunger and getting nourishment rather than worrying about additional ingredients or flavors.\",\n",
    "    \"If a person notices popcorn and cotton candy on the grass, they are likely at fairgrounds. Fairgrounds are outdoor areas that are used for hosting fairs and other events, such as carnivals, festivals, and exhibitions. These events often feature food stalls and vendors that sell a variety of treats, including popcorn and cotton candy. Popcorn and cotton candy are both popular carnival foods that are often sold at fairs and other events. The presence of these foods on the ground at fairgrounds suggests that a fair or similar event is taking place there.\",\n",
    "    \"When snow on a mountain becomes heavy, it can trigger an avalanche. An avalanche is a rapid flow of snow down a slope, often triggered by the weight of the snow or external factors such as a change in temperature. Avalanches can be dangerous and destructive, as they can bury and sweep away anything in their path, including people, buildings, and vehicles. Avalanches can occur on any slope with a steep enough incline and a sufficient amount of snow. They are most common on mountains, but they can also occur in other snowy areas, such as forests or valleys. It is important for people to be aware of the risk of avalanches and to take precautions when traveling in areas prone to avalanches.\",\n",
    "    \"A police officer typically reports their work through the use of case reports or incident reports. These reports are written documents that detail the events of a specific case or incident that the officer has worked on. Case reports or incident reports typically include information such as the date and time of the incident, the location, the people involved, and the actions taken by the officer. They may also include witness statements, evidence collected, and any other relevant details. Case reports or incident reports are used by police officers to document their work and provide a record of the incidents they have dealt with. They are also used by supervisors and other authorities to review and evaluate the performance of the officer and the effectiveness of their actions.\",\n",
    "    \"Teachers play many roles in the lives of their students, including mentor, counselor, and role model. However, they get the most out of their job by simply teaching children. Teaching children is the primary responsibility of a teacher, and it is what they are trained and paid to do. Teaching involves imparting knowledge, skills, and values to students, and helping them to develop the skills and habits they need to succeed in life. Teachers have the opportunity to make a positive impact on the lives of their students by providing them with a strong foundation in academic subjects and helping them to become curious, engaged learners. Teachers often derive a great deal of satisfaction from helping their students to achieve their potential and succeed in their studies.\",\n",
    "    \"A person might go to get counseling for a variety of reasons. One reason is to better understand themselves. Counseling can provide a safe and supportive environment for individuals to explore their thoughts, feelings, and behaviors, and to gain insight into why they act and feel the way they do. Counseling can also help a person to identify and work through any underlying issues or challenges that may be causing them distress or hindering their personal growth. Through counseling, a person can learn more about themselves and how to navigate their emotions and relationships more effectively. Counseling can be particularly helpful for individuals who are struggling with mental health issues, relationship problems, or other personal challenges.\",\n",
    "    \"If the kids wanted to cool off, they might go swimming as a way to refresh and beat the heat. Swimming is a fun and enjoyable activity that can provide relief from hot weather and help to cool the body. Swimming can also provide a great workout and has numerous health benefits, such as improving cardiovascular fitness and flexibility. There are many different places where kids can go swimming, such as pools, lakes, rivers, or the ocean. No matter where they go, kids can have fun and cool off while enjoying the water.\",\n",
    "    \"When remembering a tragedy in the past, many people may feel depressed. Depression is a common emotional reaction to experiencing a traumatic or stressful event, such as a tragedy. Depression is a mental health disorder characterized by persistent feelings of sadness, hopelessness, and low energy. It can also cause physical symptoms such as changes in appetite and sleep patterns, fatigue, and difficulty concentrating. Remembering a tragedy can be emotionally difficult and may trigger feelings of sadness, grief, and guilt. It is important for people who are struggling with depression to seek support and treatment to help manage their symptoms and improve their mental health.\",\n",
    "    \"Death Valley is a national park located in the Mojave Desert, in the state of California, United States. It is situated on the North American continent. The North American continent is one of the seven continents of the world and is located in the western hemisphere. It is the third largest continent in terms of land area, after Asia and Africa, and is home to a diverse range of cultures, languages, and environments. Death Valley is known for its extreme desert climate and is the lowest, hottest, and driest place in North America. It is a popular destination for tourists, who come to see its unique geological features, such as sand dunes, salt flats, and canyons.\",\n",
    "    \"When in a serious relationship, understanding better requires effort. Relationships require effort and work to maintain and grow. In order to understand your partner better, you need to be willing to put in the time and effort to communicate with them, listen to their perspectives, and try to see things from their point of view. This may involve asking questions, expressing your own feelings and needs, and being open to feedback and compromise. Understanding your partner better can help to strengthen the bond between you and improve the quality of your relationship. It is important to remember that relationships are dynamic and evolving, and that ongoing communication and effort are necessary to maintain a healthy and fulfilling relationship.\",\n",
    "    \"Cats are able to make a variety of vocalizations, including meows, purrs, and growls, as a way of communicating with humans and other animals. Cats use these vocalizations to convey a range of emotions and needs, such as hunger, happiness, or discomfort. Meowing is a common vocalization that cats use to communicate with humans. Cats may meow when they want attention, food, or to be let outside. Cats may also meow when they are feeling anxious or stressed. Although cats cannot talk in the same way that humans do, they are skilled at using their voices to communicate with their owners and other animals.\",\n",
    "    \"If you need a vessel that is similar to a battleship but faster, you might consider using a corvette. A corvette is a small, fast warship that is typically used for convoy escort, patrol, and other shallow water duties. Corvettes are generally smaller and less heavily armed than battleships, but they are more agile and have a higher speed. They are typically equipped with a variety of weapons, including guns, missiles, and torpedoes, and are used for defending against enemy ships and aircraft. Corvettes are often used for coastal defense, as well as for patrolling and enforcing maritime laws. They are capable of operating in a variety of environments, including open ocean and littoral (nearshore) waters.\",\n",
    "    \"Water in the sky comes from rain clouds. Rain clouds are clouds that form when moist air rises and cools, forming tiny water droplets that condense around particles in the air. As the droplets grow, they eventually become heavy enough to fall from the cloud as rain. Rain clouds are typically gray or white in color and are often accompanied by other types of clouds, such as cumulus or stratocumulus clouds. Rain clouds can form in a variety of ways, such as when warm, moist air from the ground rises and cools, or when moist air from the ocean is carried inland by the wind. Rain clouds can be found in many parts of the world and are a common source of precipitation, especially during the warmer months.\",\n",
    "    \"If John rented a hotel room while on a business trip and it was a company-sponsored event, it is possible that the hotel was a resort. Resorts are hotels or vacation properties that offer a variety of amenities and activities for guests, such as swimming pools, golf courses, spas, and restaurants. They are often located in scenic or recreational areas and are designed to provide a relaxing and enjoyable experience for guests. Many resorts offer conference and meeting facilities and are popular destinations for business events and retreats. If John's company sponsored the business trip and provided the hotel accommodations, it is likely that they chose a resort with the amenities and facilities needed to support the event.\",\n",
    "    \"An expressway might leave the United States and go to Canada. The United States and Canada are neighboring countries that share a border, and there are several expressways that cross the border between the two countries. Expressways are high-speed, limited-access roads that are designed for fast and efficient travel. They typically have multiple lanes and may include features such as grade separations, interchanges, and controlled access points. Expressways are used for long-distance travel and are often the main routes connecting major cities and regions. If an expressway leaves the United States, it is likely that it is heading towards Canada, which is located to the north of the United States.\",\n",
    "    \"If you were walking on a sidewalk near a small corner shop run by John, you would look for it on the street corner. A corner shop is a small retail store that is typically located at the intersection of two streets. It is often a convenience store or a neighborhood shop that sells a variety of goods, such as groceries, household items, and other supplies. Corner shops are often located in busy urban areas, where they are easily accessible to pedestrians and motorists. If you were walking on a sidewalk near a corner shop, you would look for it at the intersection of the street where you are walking and another street. The shop is likely to be located in a building on the corner, with windows and doors facing the street.\",\n",
    "    \"One way that a company can efficiently sell things to their customers is through mail order. Mail order is a method of selling goods or services by advertising them in a catalog or other publication and allowing customers to place orders by mail, telephone, or online. Mail order is a convenient and efficient way for companies to reach a wide customer base, as it allows them to sell products to customers who may not be located near their physical store or who may not have the time or inclination to shop in person. Mail order companies typically have a centralized warehouse or distribution center where orders are processed and shipped to customers. They may also offer options such as easy returns and exchanges, as well as customer service support to assist with any questions or issues that customers may have.\",\n",
    "    \"If he enjoyed the factory work and liked the idea that he did it for sale, it is likely that he enjoyed producing goods. Factory work typically involves the production of goods, such as products or materials, using machines, tools, and other equipment. Factory workers are responsible for operating and maintaining the equipment and ensuring that the goods being produced meet quality standards. The goods produced in a factory may be sold directly to consumers or to other businesses, and may be used for a variety of purposes, such as manufacturing, construction, or distribution. If a person enjoys factory work, they may find satisfaction in the idea that they are contributing to the production of goods that will be sold and used by others.\",\n",
    "    \"If returning to work was easy for Dan after his treatment and he was completely painless, it is likely that he had undergone some form of medical treatment or therapy to address a health issue or injury. Painless indicates that Dan was no longer experiencing pain or discomfort, which may have been a result of the treatment or therapy he received. It is not clear from the information provided what specific health issue or injury Dan was dealing with, or what treatment or therapy he received. However, it is possible that Dan was able to return to work more easily after his treatment because he was feeling better and was no longer experiencing any pain or discomfort.\",\n",
    "    \"If index cards were on display at the museum, it is likely that the museum was a library. Libraries are institutions that provide access to a wide range of resources, including books, periodicals, and other printed materials, as well as digital resources such as e-books, databases, and online research tools. Libraries often have exhibits and displays of various types of materials, including rare or unique items, and may have special collections or archives that are of particular interest to researchers or historians. Index cards are small, rectangular pieces of paper that are used for organizing information, such as names, dates, or research notes. They may be used in a variety of settings, including libraries, offices, and schools. If index cards were on display at the museum, it is possible that they were part of a historical exhibit or collection related to the history of libraries or research.\",\n",
    "    \"If she was a human in America who wanted to live well, it is likely that the given for her situation was the need for money. In general, money is an important factor in enabling people to live well and meet their basic needs and desires. Money allows people to purchase the goods and services that they need to sustain themselves and their families, such as food, clothing, housing, and healthcare. It also enables people to pursue their interests and hobbies, travel, and engage in various forms of leisure and entertainment. In America, and in many other countries around the world, the cost of living can be high, and people often need to earn and save money in order to achieve a desired standard of living. As such, the need for money is a given for many people in order to live well.\",\n",
    "    \"A place that could have one back garden is a house. A garden is a piece of land that is used for growing plants, flowers, vegetables, or other types of vegetation. Gardens can be found in a variety of settings, including residential properties, public parks, and commercial properties. A house is a building that is used as a dwelling for one or more people, and it typically includes living spaces, such as bedrooms, bathrooms, and a kitchen, as well as outdoor areas, such as a front yard, side yard, and back yard. A back yard is a private outdoor space that is typically located behind a house and is often used for recreational or leisure activities, such as gardening, grilling, or playing games. If a house has a back garden, it is likely that the garden is located in the back yard.\",\n",
    "    \"People gather at a football stadium to see large men in pads play a game where they run and smash into each other. Football is a popular sport that is played on a rectangular field by two teams of eleven players. The game involves running, passing, and tackling, and players wear pads and other protective gear to reduce the risk of injury. Football is a physical and intense sport, and players often collide with each other at high speeds. Football stadiums are large, open-air facilities that are designed to host football games and other sporting events. They typically have a grass or artificial turf field, seating for spectators, and a variety of amenities, such as concessions stands, restrooms, and VIP areas. Football stadiums are popular places for people to gather and watch football games, and they can be found in cities and towns throughout the world.\",\n",
    "    \"One place where someone can get a flute is a musical instrument store. A musical instrument store is a retail establishment that specializes in selling musical instruments and related accessories. They may carry a wide range of instruments, including brass instruments, woodwind instruments, string instruments, percussion instruments, and keyboards. Flutes are woodwind instruments that are played by blowing air into a narrow opening and producing sound by vibrating the lips against a metal or wooden reed. They are popular instruments that are used in a variety of musical styles, including classical, jazz, and folk music. If someone is looking to purchase a flute, they may be able to find a selection of flutes at a musical instrument store. In addition to flutes, musical instrument stores may also offer a variety of other instruments, as well as sheet music, instructional materials, and accessories such as cases, stands, and cleaning supplies.\",\n",
    "    \"It is not clear what someone who has a greed for energy would do. The word greed typically refers to an excessive or insatiable desire for wealth, power, or material possessions. It is not clear how this concept would relate to energy or how it might influence someone's actions. It is possible that someone who has a lot of energy or who is very active might have a high appetite for food and might seek out sources of fuel or nutrition to sustain their energy levels. In this case, they might buy food as a way to obtain the energy they need. However, it is not accurate to say that someone who has a greed for energy would necessarily do this. It is important to note that the concept of greed is generally considered to be negative, as it suggests an unhealthy or unsustainable desire for something.\",\n",
    "    \"A forklift is a type of industrial vehicle that is used for moving and lifting heavy loads, such as pallets, crates, and boxes. Forklifts are equipped with a hydraulic lift mechanism and a set of prongs or forks that can be used to lift and transport loads. They are commonly used in warehouses and other distribution centers to move and stack materials, such as boxes, onto shelves or other storage areas. If you were using a forklift to stack boxes onto shelves, it is likely that you were in a warehouse or a similar facility. Warehouses are large, commercial buildings that are used for storing and distributing goods. They often have high ceilings, wide aisles, and multiple levels, and they may be equipped with a variety of material handling equipment, such as forklifts, conveyor belts, and cranes, to facilitate the movement and storage of goods.\",\n",
    "    \"You are likely to receive mouthwash in a little paper cup at a dentist's office. Dentist's offices are healthcare facilities that are staffed by dentists and other dental professionals, and they are used for the diagnosis and treatment of dental problems and the maintenance of oral health. One common practice at a dentist's office is to rinse the mouth with mouthwash, which is a liquid that is used to freshen breath, kill bacteria, and reduce the risk of gum disease and other oral health issues. Mouthwash is typically used after brushing and flossing to help remove any remaining food particles or plaque from the mouth. It may be dispensed in a little paper cup, which can be used to rinse the mouth and then disposed of after use.\",\n",
    "    \"A doctor's office can help you with an illness. A doctor's office is a healthcare facility that is staffed by medical doctors and other healthcare professionals, and it is used for the diagnosis and treatment of medical conditions and the maintenance of overall health. If you are experiencing an illness, such as a cold, flu, or more serious health issue, you may visit a doctor's office to seek medical care and treatment. At a doctor's office, you may receive a physical examination, diagnostic tests, and other forms of medical treatment, depending on the nature of your illness and your specific needs. Doctors are trained to diagnose and treat a wide range of medical conditions, and they can provide you with the care and support you need to recover from your illness and get back to good health.\",\n",
    "    \"A bug looking for wildflowers and no human interruption might go to a meadow. A meadow is a grassland area that is characterized by its open, grassy landscape and the presence of wildflowers and other types of vegetation. Meadows can be found in a variety of settings, including rural areas, forests, and parkland, and they are often home to a variety of animal and plant species. Because meadows are relatively undisturbed by human activity, they can be a good place for a bug to find wildflowers and other types of plants without interference from humans. Meadows are often considered to be peaceful, serene places, and they may be attractive to a bug that is seeking a quiet, natural environment in which to explore and forage.\",\n",
    "    \"If a bride and groom are taking care of proposals, the likely ceremony is a marriage. A marriage is a formal union between two people that is recognized by law and typically involves a public ceremony and the exchange of vows. A marriage proposal is a request for someone to marry another person, and it is typically made by one partner to the other. The process of planning a marriage often involves taking care of a variety of details and arrangements, such as choosing a venue, selecting a date, inviting guests, and organizing the ceremony and reception. If a bride and groom are taking care of proposals, it is likely that they are in the process of planning their marriage and preparing for the wedding ceremony.\",\n",
    "    \"You could put some olives in a jar to prevent them from getting nearby food wet. A jar is a container that is typically made of glass or ceramic and has a wide mouth and a secure, tight-fitting lid. Jars are often used for storing food items, such as olives, pickles, jams, and other types of preserved or dried goods. Because they have a sealed lid, jars can help to keep food fresh and prevent it from coming into contact with air or other substances that might spoil or contaminate it. If you want to prevent olives from getting nearby food wet, you could put them in a jar and close the lid to create an airtight seal. This would help to keep the olives separate from other foods and prevent them from coming into contact with moisture or other liquids.\",\n",
    "    \"If the graveyard was zoned by the pastor, it is likely that it was located on church property. Church property refers to land or buildings that are owned by a church or religious organization. This may include the main church building, as well as other structures such as a rectory, school, or community center. Church property may also include a graveyard or cemetery, which is a place where people are buried after they die. Pastors, who are ordained leaders in a church, often play a central role in the management and oversight of church property, and they may be responsible for zoning or designating areas within the property for specific purposes, such as a graveyard or a garden. If the pastor has zoned the graveyard, it is likely that it is located on church property and is being used as a place for burial by members of the church or community.\",\n",
    "    \"If a family wanted to live with carpeting, they may have ended up putting it in their houses. Houses are structures that are designed and built to be used as homes, and they typically have a number of rooms that are used for different purposes, such as sleeping, cooking, eating, and relaxing. Carpeting is a type of floor covering that is made of soft, flexible materials, such as wool, nylon, or polypropylene, and it is often used in houses to provide warmth, comfort, and insulation. If a family wanted to live with carpeting, they may have chosen to install carpeting in some or all of the rooms in their houses, in order to create a warm and cozy atmosphere and to improve the overall comfort and livability of their homes.\",\n",
    "    \"If a boss likes an employee's ambition, the employee may be put in charge of a project. A project is a specific task or set of tasks that is undertaken in order to achieve a specific goal or objective. Projects may be large or small, complex or simple, and they may involve a wide range of activities, such as research, design, development, testing, and implementation. If an employee is ambitious and demonstrates a strong desire to succeed and make a positive contribution to their organization, their boss may choose to put them in charge of a project, in order to give them the opportunity to demonstrate their skills and abilities and to take on more responsibility. Being put in charge of a project can be a challenging and rewarding experience, and it may provide an employee with the chance to learn new things, develop their skills, and make a meaningful contribution to their organization.\",\n",
    "    \"A county highway can be viewed as a line on a map. A map is a graphic representation of an area or region that shows the locations of various features, such as roads, rivers, mountains, and cities. Maps are often used to help people navigate and find their way around unfamiliar places, and they can be very useful for understanding the layout and geography of an area. County highways are roads that are maintained and operated by a county or local government, and they are typically used for local travel and transportation within a county or region. On a map, a county highway may be represented as a line, with a specific color or symbol used to indicate its location and route. By viewing a county highway as a line on a map, it is possible to get a sense of the route and layout of the road, and to use the map to plan a journey or navigate to a specific destination.\",\n",
    "    \"After going for a run, someone may feel tired. Running is a form of physical activity that involves moving quickly and continuously on foot, typically by running or jogging. It is a popular form of exercise that can help to improve cardiovascular fitness, build endurance, and strengthen the muscles of the legs and lower body. However, running can also be physically demanding, and it requires a certain level of fitness and stamina to be able to sustain the activity for an extended period of time. As a result, it is common for people to feel tired after going for a run, especially if they are not used to the activity or if they have pushed themselves to run for a longer distance or at a faster pace than usual. Tiredness after a run may be accompanied by other physical sensations, such as muscle fatigue, thirst, or a sense of accomplishment.\",\n",
    "    \"If a car was going from Florida to Ohio, it was heading north. Florida is a state in the southeastern region of the United States, and Ohio is a state in the midwestern region of the country. When traveling from Florida to Ohio, a person would need to go north in order to reach their destination. North is a direction that is opposite to south on a map or compass, and it is typically associated with higher latitude, colder climates, and longer nights. When traveling north, a person may encounter different landscapes, weather patterns, and cultural experiences than they would when traveling south, depending on the specific route and the distance traveled. By heading north from Florida to Ohio, a person would be leaving behind the warm, tropical climate of Florida and entering into a more temperate, mid-latitude region with cooler temperatures and a more diverse range of landscapes and ecosystems.\",\n",
    "    \"During a typical week, a teacher is likely to spend most of their time working in school. A teacher is a person who is trained and qualified to teach students in a school or educational setting, and their primary job is to provide instruction and guidance to help students learn and develop their skills and knowledge. Teachers may work in a variety of settings, including primary schools, secondary schools, and universities, and they may teach a wide range of subjects, including math, science, English, history, and the arts. In order to fulfill their duties as a teacher, a person is likely to spend most of their time working in a school or educational setting, where they will be responsible for preparing and delivering lessons, grading assignments, communicating with students and parents, and performing other tasks related to their job. Teachers typically work on a schedule that follows the school year, and they may work full-time or part-time, depending on their specific circumstances and the needs of their students.\",\n",
    "    \"In a predicament, an animal might choose to fight for its life as an alternative to fleeing. Predicament is a term that refers to a difficult or challenging situation, typically one that involves a choice or decision that needs to be made. When an animal finds itself in a predicament, it may have to decide how to respond in order to survive and protect itself. One option that an animal may have is to flee or run away from the situation in an effort to escape danger or avoid conflict. Another option that an animal may have is to fight for its life, using whatever means are available to defend itself and protect its survival. The choice that an animal makes in a predicament will depend on a variety of factors, including the specific nature of the situation, the animal's size, strength, and abilities, and the resources and options that are available to it.\",\n",
    "    \"It is not common for people to fight each other when they find a good deal. A good deal is typically defined as an opportunity to purchase something at a price that is lower than what it is usually worth, or to obtain a product or service that provides more value or benefits than what is expected. When people find a good deal, they may feel excited or pleased about the opportunity to save money or get more for their money, and they may take action to take advantage of the deal. However, it is generally not considered acceptable or appropriate for people to fight each other over a good deal or to engage in physical violence or aggression in order to obtain it. There are many other ways that people can express their interest in a good deal, such as by negotiating with the seller, making an offer, or simply making a purchase if the price is acceptable.\",\n",
    "    \"An altar is a platform or structure that is used for religious ceremonies, rituals, or worship. Altars are often found in places of worship, such as temples, churches, synagogues, mosques, and other religious buildings. When a person is standing in front of an altar, they are likely to be in a temple or other place of worship. Altars can be used for a variety of purposes in different religions and spiritual traditions, such as offering sacrifices, making offerings, praying, or performing other religious practices. They may be decorated with symbols, images, or other items that are significant to the religion or spiritual tradition that is being practiced. Altars may also be used as a place for people to meditate, reflect, or seek spiritual guidance.\",\n",
    "    \"Joe bought a bunch of grapes because he likes to use them to top his desserts. A dessert is a type of food that is typically served at the end of a meal, and it is usually sweet or rich in flavor. There are many different types of desserts that people enjoy, including cakes, cookies, ice cream, pie, and other sweet treats. One way that people may use grapes as a topping for their desserts is by placing them on top of a fruit pie, tart, or crisp. Grapes can add flavor and texture to a dessert, and they may also be used to decorate a dessert or to add visual appeal. Grapes are a versatile fruit that can be used in many different types of desserts, and they can be eaten fresh, frozen, or preserved in various ways.\",\n",
    "    \"Well water is water that is obtained from underground sources, typically through the use of a well. A well is a hole or shaft that is dug into the ground in order to access water that is contained in underground aquifers or other water-bearing formations. Well water is typically used for drinking, irrigation, and other purposes, and it is often considered to be of high quality because it is filtered and purified naturally as it flows through the ground. To obtain well water, a person can dig a well or have one dug by a professional well driller. The depth of the well will depend on the location and the geology of the area, and a pump or other mechanical system may be used to bring the water to the surface.\",\n",
    "]"
   ]
  },
  {
   "cell_type": "code",
   "execution_count": null,
   "id": "69fa8109",
   "metadata": {},
   "outputs": [],
   "source": []
  },
  {
   "cell_type": "code",
   "execution_count": 23,
   "id": "01fdee8d",
   "metadata": {},
   "outputs": [],
   "source": [
    "id_list = [\n",
    " '71519c19654251cced50c5718fd527c1',\n",
    " '44195d210c81c8c550174d0edbd3ad5d',\n",
    " '5a5da37b685ec9c6f15228128ce30437',\n",
    " 'cabdfc174953b4bdb8bdcc89d6592c74',\n",
    " 'eac3a4080127e8924034651b57dfa289',\n",
    " 'c0013f31657294b9b5ad819123513ca7',\n",
    " '2681697be70cd5425899ed6deb84b18a',\n",
    " '47f60340b869552e795fa6782224f3d2',\n",
    " '7e8a6eac93147eb52d8151bab7b40003',\n",
    " 'f34267f498c8a78383e35057fbcfa2ce',\n",
    " 'f024f923d78e5c0a4c0c4baa3ddccf05',\n",
    " 'e148c710d0c26849cf1f15293481038b',\n",
    " 'bdf437d7498815f36c255f64a8e6571c',\n",
    " '2282e0c80be28aadadb79a822fec9dac',\n",
    " 'bdd05e96876342b4b5999709439a7f4e',\n",
    " '494b8316614fc64c5c27757aeaffce23_1',\n",
    " 'c4494b402264250dc70931613d482295',\n",
    " 'fcfbf207c5586294fdce33b645b613f1',\n",
    " '9c583bcbe68989a644433302545fb31e',\n",
    " '0e684d779d98e6eecda167c10af42bbb',\n",
    " 'ac0462d09b9fddd40c3c77aedf48a870',\n",
    " '1dbfb41e04a10bdbb085bfe667c0df99',\n",
    " 'cd0c0ef3b8ce0eb09ff26823f6059be6',\n",
    " 'e6b67184b99375d05d3f2887f684c684',\n",
    " 'ae9f6f1e17b3fdd3a86b494933809f45',\n",
    " 'f149604169936a30b7e4c8d599d604b5',\n",
    " 'd7c8377953e0175ef57d59f3a8e63a8e',\n",
    " '1837216ac7745121b82a6491b2318c09',\n",
    " 'b5fe238d45e55ca5d802b7823ad390ef',\n",
    " 'b2fbeb0b48bd5e575af0f7dc24cdd85d',\n",
    " '9bdfb101c487ac598f6e4686cf774703',\n",
    " '206c7116ee2246180fcc0c5a1d0e7205',\n",
    " '5cd7f44bbf730dfae5ef2a362d2e5149',\n",
    " '45d0ea781ffd49b07d6eae94d47a8945',\n",
    " '89afdea1d76272fda8e1538a7d3b7a3f',\n",
    " '38a514fe54108527e1d6e89d9812da93',\n",
    " 'ebf347934a3e90ea46d3d87726fb5d25',\n",
    " '90226a6ecd7308ae1e6220a15ae24bc6',\n",
    " '5cae8057e75e3adf5c338a43b3ba97fb',\n",
    " '388a363c49e1b0aca8eaf18ccdde0caf',\n",
    " '9ed3af82152dfcd7000bf4631b095f71',\n",
    " '2d5805d894bba224c5fe91e70b8c0f77',\n",
    " 'd5aa464a16b72c9b9f3091abd461e3ef',\n",
    " '381b11c54be4cc432a95053ca34cbf6b',\n",
    " '807a3a2dabdd50ed0c76052fd2612632',\n",
    " '5172041c750d22e9a5081cc024de0fa6',\n",
    " 'd32a45ab3b751110d0578a78e54c0e64',\n",
    " '28ca5cbe27774746c34f6ebe84fc6d0c']"
   ]
  },
  {
   "cell_type": "code",
   "execution_count": null,
   "id": "51445c67",
   "metadata": {},
   "outputs": [],
   "source": []
  },
  {
   "cell_type": "code",
   "execution_count": 24,
   "id": "dabe3306",
   "metadata": {},
   "outputs": [],
   "source": [
    "# our_wrong_data_splits['dev']=[]\n",
    "# for x in our_data_splits['dev']:\n",
    "#     for ii in range(5):\n",
    "#         new_x={'id':x['id'], 'real_answer':x['answer'], \n",
    "#                'answer':x['choices'][ii], 'question':x['question'],\n",
    "#                'choices':x['choices'],\n",
    "#                'abstractive_explanation':x['abstractive_explanation'],\n",
    "#                'extractive_explanation':x['extractive_explanation'],\n",
    "#                'our_explanation':x['our_explanation']}\n",
    "#         our_wrong_data_splits['dev'].append(new_x)\n",
    "#     #print(x)\n",
    "#     #pdb.set_trace()\n",
    "# # wandb.init()\n",
    "# our_wrong_dev_data_dict = list2dict(our_wrong_data_splits['dev'])\n",
    "# our_wrong_data_splits['dev'] = datasets.Dataset.from_dict(our_wrong_dev_data_dict)"
   ]
  },
  {
   "cell_type": "code",
   "execution_count": 25,
   "id": "7b62bdf5",
   "metadata": {},
   "outputs": [],
   "source": [
    "# our_wrong_data_splits['train'][0],our_wrong_data_splits['train'][0].keys()\n",
    "# our_wrong_data_splits['train'] = our_wrong_data_splits['train'].map(\n",
    "#             lambda x: format_instance(\n",
    "#                 x,\n",
    "#                 tokenizer,\n",
    "#                 data_args.explanation_sep,\n",
    "#                 datasource=data_args.task_name,\n",
    "#                 io_format=data_args.io_format\n",
    "#             ),\n",
    "#             batched=False,\n",
    "#             load_from_cache_file=False,\n",
    "#         )"
   ]
  },
  {
   "cell_type": "code",
   "execution_count": 26,
   "id": "b421f892",
   "metadata": {},
   "outputs": [],
   "source": [
    "# for da in our_wrong_data_splits['dev']:\n",
    "#     print(\"*******\")\n",
    "#     print(\"question: {}\".format(da['question']))\n",
    "#     print(\"real_answer: {}\".format(da['real_answer']))\n",
    "#     print(\"answer: {}\".format(da['answer']))\n",
    "#     print(\"choices: {}\".format(da['choices']))\n",
    "#     print(\"our_explanation: {}\".format(da['our_explanation']))\n",
    "#     inp_ids = torch.tensor(da[\"input_ids\"], device=model.device).reshape(1, -1)\n",
    "#     out = model.generate(\n",
    "#                     inp_ids,\n",
    "#                     max_length=100,\n",
    "#                     pad_token_id=tokenizer.pad_token_id,\n",
    "#                     eos_token_id=tokenizer.eos_token_id,\n",
    "#                 )\n",
    "#     skip_special_tokens = False if \"infilling\" in data_args.io_format else True\n",
    "#     words = tokenizer.decode(out[0].tolist(), skip_special_tokens=skip_special_tokens)\n",
    "#     print(\"generated explanation: {}\".format(words))\n",
    "#     print(\"#######\")"
   ]
  },
  {
   "cell_type": "code",
   "execution_count": 27,
   "id": "dfa34701",
   "metadata": {},
   "outputs": [],
   "source": [
    "# our_wrong_data_splits['train'][0],our_wrong_data_splits['train'][0].keys()\n",
    "# our_wrong_data_splits['dev'] = our_wrong_data_splits['dev'].map(\n",
    "#             lambda x: format_instance(\n",
    "#                 x,\n",
    "#                 tokenizer,\n",
    "#                 data_args.explanation_sep,\n",
    "#                 datasource=data_args.task_name,\n",
    "#                 io_format=data_args.io_format\n",
    "#             ),\n",
    "#             batched=False,\n",
    "#             load_from_cache_file=False,\n",
    "#         )"
   ]
  },
  {
   "cell_type": "code",
   "execution_count": 28,
   "id": "2e6d6437",
   "metadata": {},
   "outputs": [],
   "source": [
    "# for da in our_wrong_data_splits['dev']:\n",
    "#     print(\"*******\")\n",
    "#     print(\"question: {}\".format(da['question']))\n",
    "#     print(\"real_answer: {}\".format(da['real_answer']))\n",
    "#     print(\"answer: {}\".format(da['answer']))\n",
    "#     print(\"choices: {}\".format(da['choices']))\n",
    "#     print(\"our_explanation: {}\".format(da['our_explanation']))\n",
    "#     inp_ids = torch.tensor(da[\"input_ids\"], device=model.device).reshape(1, -1)\n",
    "#     out = model.generate(\n",
    "#                     inp_ids,\n",
    "#                     max_length=100,\n",
    "#                     pad_token_id=tokenizer.pad_token_id,\n",
    "#                     eos_token_id=tokenizer.eos_token_id,\n",
    "#                 )\n",
    "#     skip_special_tokens = False if \"infilling\" in data_args.io_format else True\n",
    "#     words = tokenizer.decode(out[0].tolist(), skip_special_tokens=skip_special_tokens)\n",
    "#     print(\"generated explanation: {}\".format(words))\n",
    "#     print(\"#######\")"
   ]
  },
  {
   "cell_type": "code",
   "execution_count": 29,
   "id": "91605cfc",
   "metadata": {},
   "outputs": [],
   "source": [
    "# for da in our_wrong_data_splits['train']:\n",
    "#     print(\"*******\")\n",
    "#     print(\"question: {}\".format(da['question']))\n",
    "#     print(\"real_answer: {}\".format(da['real_answer']))\n",
    "#     print(\"answer: {}\".format(da['answer']))\n",
    "#     print(\"choices: {}\".format(da['choices']))\n",
    "#     print(\"our_explanation: {}\".format(da['our_explanation']))\n",
    "#     inp_ids = torch.tensor(da[\"input_ids\"], device=model.device).reshape(1, -1)\n",
    "#     out = model.generate(\n",
    "#                     inp_ids,\n",
    "#                     max_length=100,\n",
    "#                     pad_token_id=tokenizer.pad_token_id,\n",
    "#                     eos_token_id=tokenizer.eos_token_id,\n",
    "#                 )\n",
    "#     skip_special_tokens = False if \"infilling\" in data_args.io_format else True\n",
    "#     words = tokenizer.decode(out[0].tolist(), skip_special_tokens=skip_special_tokens)\n",
    "#     print(\"generated explanation: {}\".format(words))\n",
    "#     print(\"#######\")"
   ]
  },
  {
   "cell_type": "code",
   "execution_count": 30,
   "id": "cbc3e763",
   "metadata": {},
   "outputs": [],
   "source": [
    "# import wandb\n",
    "# training_args.run_name=\"\"\n",
    "training_args.logging_steps=3\n",
    "training_args.save_steps=5\n",
    "training_args.evaluation_strategy=\"epoch\"\n",
    "training_args.num_train_epochs=25\n",
    "training_args.do_eval=True"
   ]
  },
  {
   "cell_type": "code",
   "execution_count": 31,
   "id": "317de5d7",
   "metadata": {},
   "outputs": [
    {
     "data": {
      "text/plain": [
       "TrainingArguments(\n",
       "_n_gpu=1,\n",
       "adafactor=False,\n",
       "adam_beta1=0.9,\n",
       "adam_beta2=0.999,\n",
       "adam_epsilon=1e-08,\n",
       "dataloader_drop_last=False,\n",
       "dataloader_num_workers=0,\n",
       "dataloader_pin_memory=True,\n",
       "ddp_find_unused_parameters=None,\n",
       "debug=[],\n",
       "deepspeed=None,\n",
       "disable_tqdm=False,\n",
       "do_eval=True,\n",
       "do_predict=False,\n",
       "do_train=True,\n",
       "eval_accumulation_steps=None,\n",
       "eval_steps=None,\n",
       "evaluation_strategy=epoch,\n",
       "fp16=False,\n",
       "fp16_backend=auto,\n",
       "fp16_full_eval=False,\n",
       "fp16_opt_level=O1,\n",
       "gradient_accumulation_steps=1,\n",
       "greater_is_better=None,\n",
       "group_by_length=False,\n",
       "ignore_data_skip=False,\n",
       "label_names=None,\n",
       "label_smoothing_factor=0.0,\n",
       "learning_rate=5e-05,\n",
       "length_column_name=length,\n",
       "load_best_model_at_end=False,\n",
       "local_rank=-1,\n",
       "log_level=-1,\n",
       "log_level_replica=-1,\n",
       "log_on_each_node=True,\n",
       "logging_dir=./cos_e_output_t5_large/011223_160551,\n",
       "logging_first_step=False,\n",
       "logging_steps=3,\n",
       "logging_strategy=IntervalStrategy.STEPS,\n",
       "lr_scheduler_type=SchedulerType.LINEAR,\n",
       "max_grad_norm=1.0,\n",
       "max_steps=-1,\n",
       "metric_for_best_model=None,\n",
       "mp_parameters=,\n",
       "no_cuda=False,\n",
       "num_train_epochs=25,\n",
       "output_dir=./cos_e_output_t5_large/011223_160551,\n",
       "overwrite_output_dir=False,\n",
       "past_index=-1,\n",
       "per_device_eval_batch_size=8,\n",
       "per_device_train_batch_size=8,\n",
       "prediction_loss_only=False,\n",
       "push_to_hub=False,\n",
       "push_to_hub_model_id=cos_e_output_t5_large,\n",
       "push_to_hub_organization=None,\n",
       "push_to_hub_token=None,\n",
       "remove_unused_columns=True,\n",
       "report_to=['tensorboard', 'wandb'],\n",
       "resume_from_checkpoint=None,\n",
       "run_name=./cos_e_output_t5_large,\n",
       "save_on_each_node=False,\n",
       "save_steps=5,\n",
       "save_strategy=IntervalStrategy.STEPS,\n",
       "save_total_limit=None,\n",
       "seed=42,\n",
       "sharded_ddp=[],\n",
       "skip_memory_metrics=True,\n",
       "tpu_metrics_debug=False,\n",
       "tpu_num_cores=None,\n",
       "use_legacy_prediction_loop=False,\n",
       "warmup_ratio=0.0,\n",
       "warmup_steps=0,\n",
       "weight_decay=0.0,\n",
       ")"
      ]
     },
     "execution_count": 31,
     "metadata": {},
     "output_type": "execute_result"
    }
   ],
   "source": [
    "training_args"
   ]
  },
  {
   "cell_type": "code",
   "execution_count": 32,
   "id": "de79fb60",
   "metadata": {},
   "outputs": [
    {
     "data": {
      "text/plain": [
       "TrainingArguments(\n",
       "_n_gpu=1,\n",
       "adafactor=False,\n",
       "adam_beta1=0.9,\n",
       "adam_beta2=0.999,\n",
       "adam_epsilon=1e-08,\n",
       "dataloader_drop_last=False,\n",
       "dataloader_num_workers=0,\n",
       "dataloader_pin_memory=True,\n",
       "ddp_find_unused_parameters=None,\n",
       "debug=[],\n",
       "deepspeed=None,\n",
       "disable_tqdm=False,\n",
       "do_eval=True,\n",
       "do_predict=False,\n",
       "do_train=True,\n",
       "eval_accumulation_steps=None,\n",
       "eval_steps=None,\n",
       "evaluation_strategy=epoch,\n",
       "fp16=False,\n",
       "fp16_backend=auto,\n",
       "fp16_full_eval=False,\n",
       "fp16_opt_level=O1,\n",
       "gradient_accumulation_steps=1,\n",
       "greater_is_better=None,\n",
       "group_by_length=False,\n",
       "ignore_data_skip=False,\n",
       "label_names=None,\n",
       "label_smoothing_factor=0.0,\n",
       "learning_rate=5e-05,\n",
       "length_column_name=length,\n",
       "load_best_model_at_end=False,\n",
       "local_rank=-1,\n",
       "log_level=-1,\n",
       "log_level_replica=-1,\n",
       "log_on_each_node=True,\n",
       "logging_dir=./cos_e_output_t5_large/011223_160551,\n",
       "logging_first_step=False,\n",
       "logging_steps=3,\n",
       "logging_strategy=IntervalStrategy.STEPS,\n",
       "lr_scheduler_type=SchedulerType.LINEAR,\n",
       "max_grad_norm=1.0,\n",
       "max_steps=-1,\n",
       "metric_for_best_model=None,\n",
       "mp_parameters=,\n",
       "no_cuda=False,\n",
       "num_train_epochs=25,\n",
       "output_dir=./cos_e_output_t5_large/011223_160551,\n",
       "overwrite_output_dir=False,\n",
       "past_index=-1,\n",
       "per_device_eval_batch_size=8,\n",
       "per_device_train_batch_size=8,\n",
       "prediction_loss_only=False,\n",
       "push_to_hub=False,\n",
       "push_to_hub_model_id=cos_e_output_t5_large,\n",
       "push_to_hub_organization=None,\n",
       "push_to_hub_token=None,\n",
       "remove_unused_columns=True,\n",
       "report_to=['tensorboard', 'wandb'],\n",
       "resume_from_checkpoint=None,\n",
       "run_name=./cos_e_output_t5_large,\n",
       "save_on_each_node=False,\n",
       "save_steps=5,\n",
       "save_strategy=IntervalStrategy.STEPS,\n",
       "save_total_limit=None,\n",
       "seed=42,\n",
       "sharded_ddp=[],\n",
       "skip_memory_metrics=True,\n",
       "tpu_metrics_debug=False,\n",
       "tpu_num_cores=None,\n",
       "use_legacy_prediction_loop=False,\n",
       "warmup_ratio=0.0,\n",
       "warmup_steps=0,\n",
       "weight_decay=0.0,\n",
       ")"
      ]
     },
     "execution_count": 32,
     "metadata": {},
     "output_type": "execute_result"
    }
   ],
   "source": [
    "training_args.per_device_eval_batch_size=8\n",
    "training_args.per_device_train_batch_size=8\n",
    "training_args"
   ]
  },
  {
   "cell_type": "code",
   "execution_count": 33,
   "id": "e80480ec",
   "metadata": {},
   "outputs": [],
   "source": [
    "# data_splits = {'train': None, 'validation': None, 'test': None}\n",
    "# original_data_splits = {'train': None, 'validation': None, 'test': None}  \n",
    "# data_args.io_format=\"t5_fewshot_infilling_with_choices\"\n",
    "# # Data loading from huggingface's datasets\n",
    "# if data_args.task_name in {\"cos_e\", \"esnli\"}:\n",
    "#     version_arg = None\n",
    "#     if data_args.task_name == \"cos_e\":\n",
    "#         assert data_args.version_name in {\"v1.11\", \"v1.0\"}\n",
    "#         version_arg = data_args.version_name\n",
    "\n",
    "#     load_train = True\n",
    "#     if (not training_args.do_train\n",
    "#         and not training_args.do_eval\n",
    "#         and not data_args.train_predict\n",
    "#     ):\n",
    "#         # don't load training dataset\n",
    "#         dataset = {}\n",
    "#         dataset[\"train\"] = None\n",
    "#         dataset[\"validation\"] = datasets.load_dataset(\n",
    "#             data_args.task_name, version_arg, split=\"validation\"\n",
    "#         )\n",
    "#         data_splits['validation'] = dataset[\"validation\"]\n",
    "\n",
    "#         if data_args.task_name == \"esnli\":\n",
    "#             dataset[\"test\"] = datasets.load_dataset(data_args.task_name, split=\"test\")\n",
    "#             data_splits['test'] = dataset[\"test\"]\n",
    "#         load_train = False\n",
    "#     else:\n",
    "#         dataset = datasets.load_dataset(data_args.task_name, version_arg)\n",
    "\n",
    "#         if data_args.n_shots > 0: # Shots = number of training examples **per label** \n",
    "#             if data_args.task_name == 'esnli': # Construct a *balanced* random sample of the size `data_args.n_shots*len(labels)` (for train) or `data_args.fewshot_eval_size` (for eval)\n",
    "#                 for split in [\"train\", \"validation\", \"test\"]:\n",
    "#                     split_data = dataset[split]\n",
    "#                     label_subsets = []\n",
    "#                     labels = split_data.features['label'].names\n",
    "#                     sample_size = data_args.n_shots if split == \"train\" else int(data_args.fewshot_eval_size/len(labels))\n",
    "#                     if data_args.gpt3_max_eval_size is not None and split != 'train':\n",
    "#                         assert len(labels) == 3\n",
    "#                         sample_size = data_args.gpt3_max_eval_size // len(labels)\n",
    "#                     for label in labels:\n",
    "#                         # The following is a hack to only run on `neutral` labels of `esnli` to get data for human eval\n",
    "#                         # if data_args.gpt3_max_eval_size is not None and split != 'train' and label != 'neutral':\n",
    "#                         #     continue\n",
    "#                         label_int = split_data.features['label'].str2int(label)\n",
    "#                         label_set = split_data.filter(lambda example: example['label'] == label_int).shuffle() # all instances of labeled as `label`\n",
    "#                         label_subset = label_set.select(range(sample_size)) #select `sample_size` random instances labeled as `label`\n",
    "#                         label_subsets.append(label_subset)\n",
    "#                     dataset[split] = datasets.concatenate_datasets(label_subsets) #merge all label-specific instances\n",
    "#             elif data_args.task_name == 'cos_e': \n",
    "#                 for split in [\"train\", \"validation\"]: \n",
    "#                     split_data = dataset[split]\n",
    "#                     sample_size = data_args.n_shots if split == \"train\" else int(data_args.fewshot_eval_size) #Shots for QA are not label-specific, i.e., `n_shots` is the training data size\n",
    "#                     if data_args.gpt3_max_eval_size is not None and split != 'train':\n",
    "#                         sample_size = data_args.gpt3_max_eval_size\n",
    "#                     dataset[split] = split_data#.shuffle().select(range(sample_size)) # select `sample_size` random instances\n",
    "#             else: \n",
    "#                 raise ValueError('Only cos_e and esnli are supported by Huggingface datasets.')\n",
    "#     # Apply method, and format dataset to torch.Tensor outputs\n",
    "# #     fse_csqa_train_file=\"/cognitive_comp/huangyongfeng/evaluate_LM_with_rationalization/few_shot_explanations/data/acceptability_annotations/commonsenseqa_train.csv\"\n",
    "# #     fse_csqa_dev_file=\"/cognitive_comp/huangyongfeng/evaluate_LM_with_rationalization/few_shot_explanations/data/acceptability_annotations/commonsenseqa_test.csv\"\n",
    "# #     fse_csqa_train_dataset = datasets.load_dataset('csv', data_files=fse_csqa_train_file)\n",
    "# #     fse_csqa_dev_dataset = datasets.load_dataset('csv', data_files=fse_csqa_dev_file)\n",
    "# #     train_ids_list=[x['id'] for x in data_splits[\"train\"]]\n",
    "# #     dev_ids_list=[x['id'] for x in data_splits[\"validation\"]]\n",
    "# #     fse_train_ids_list=[x['Input.id'] for x in fse_csqa_train_dataset['train']]\n",
    "# #     fse_dev_ids_list=[x['Input.id'] for x in fse_csqa_dev_dataset['train']]\n",
    "# #     fse_train_indexs_list=[train_ids_list.index(id_) for id_ in fse_train_ids_list]\n",
    "# #     fse_dev_indexs_list=[dev_ids_list.index(id_) for id_ in fse_dev_ids_list]\n",
    "# #     print(len(fse_train_indexs_list), len(fse_dev_indexs_list))\n",
    "# #     # print(fse_train_indexs_list,fse_dev_indexs_list)\n",
    "# #     fse_data_splits={}\n",
    "# #     data_splits['train']=data_splits[\"train\"].select(fse_train_indexs_list)\n",
    "# #     data_splits['validation']=data_splits[\"validation\"].select(fse_train_indexs_list)\n",
    "#     for split in dataset.keys():\n",
    "#         if dataset[split] is not None:\n",
    "#             dataset[split] = dataset[split].map(\n",
    "#                 lambda x: format_instance(\n",
    "#                     x,\n",
    "#                     tokenizer,\n",
    "#                     data_args.explanation_sep,\n",
    "#                     datasource=data_args.task_name,\n",
    "#                     io_format=data_args.io_format\n",
    "#                 ),\n",
    "#                 batched=False,\n",
    "#                 load_from_cache_file=False,\n",
    "#             )\n",
    "#     data_splits[\"train\"] = deepcopy(dataset[\"train\"])\n",
    "#     data_splits[\"validation\"] = deepcopy(dataset[\"validation\"])\n",
    "#     if data_args.task_name == \"esnli\":\n",
    "#         data_splits[\"test\"] = deepcopy(dataset[\"test\"])\n",
    "\n",
    "#     original_data_splits[\"train\"] = deepcopy(dataset[\"train\"])\n",
    "#     original_data_splits[\"validation\"] = deepcopy(dataset[\"validation\"])\n",
    "#     if data_args.task_name == \"esnli\":\n",
    "#         original_data_splits[\"test\"] = deepcopy(dataset[\"test\"])"
   ]
  },
  {
   "cell_type": "code",
   "execution_count": 34,
   "id": "2f4cb867",
   "metadata": {},
   "outputs": [],
   "source": [
    "# import pandas as pd\n",
    "# # new_data_splits={'train': None, 'validation': None}\n",
    "# # new_data_splits['train']=deepcopy(dataset[\"train\"])\n",
    "# # new_data_splits['validation']=deepcopy(dataset[\"validation\"])\n",
    "# fse_csqa_train_file=\"/cognitive_comp/huangyongfeng/evaluate_LM_with_rationalization/few_shot_explanations/data/acceptability_annotations/commonsenseqa_train.csv\"\n",
    "# fse_csqa_dev_file=\"/cognitive_comp/huangyongfeng/evaluate_LM_with_rationalization/few_shot_explanations/data/acceptability_annotations/commonsenseqa_test.csv\"\n",
    "# # fse_csqa_train_dataset = datasets.load_dataset('csv', data_files=fse_csqa_train_file)\n",
    "# # fse_csqa_dev_dataset = datasets.load_dataset('csv', data_files=fse_csqa_dev_file)\n",
    "\n",
    "# train_df=pd.read_csv(fse_csqa_train_file)\n",
    "\n",
    "# dev_df=pd.read_csv(fse_csqa_dev_file)\n",
    "\n",
    "# dev_df\n"
   ]
  },
  {
   "cell_type": "code",
   "execution_count": 35,
   "id": "42739e9b",
   "metadata": {},
   "outputs": [],
   "source": [
    "# len(fse_train_ids_list),len(list(set(fse_train_ids_list)))"
   ]
  },
  {
   "cell_type": "code",
   "execution_count": 36,
   "id": "c78ea825",
   "metadata": {},
   "outputs": [],
   "source": [
    "# train_ids_list=[x['id'] for x in data_splits[\"train\"]]\n",
    "# dev_ids_list=[x['id'] for x in data_splits[\"validation\"]]\n",
    "# fse_train_ids_list=[x['Input.id'] for x in fse_csqa_train_dataset['train']]\n",
    "# fse_dev_ids_list=[x['Input.id'] for x in fse_csqa_dev_dataset['train']]\n"
   ]
  },
  {
   "cell_type": "code",
   "execution_count": 37,
   "id": "80395518",
   "metadata": {},
   "outputs": [],
   "source": [
    "# fse_train_indexs_list=[train_ids_list.index(id_) for id_ in fse_train_ids_list]\n",
    "# fse_dev_indexs_list=[dev_ids_list.index(id_) for id_ in fse_dev_ids_list]\n",
    "# print(len(fse_train_indexs_list), len(fse_dev_indexs_list))\n",
    "# # print(fse_train_indexs_list,fse_dev_indexs_list)\n",
    "# fse_data_splits={}\n",
    "# fse_data_splits['train']=data_splits[\"train\"].select(fse_train_indexs_list)\n",
    "# fse_data_splits['validation']=data_splits[\"validation\"].select(fse_train_indexs_list)"
   ]
  },
  {
   "cell_type": "code",
   "execution_count": 38,
   "id": "4d186954",
   "metadata": {},
   "outputs": [],
   "source": [
    "# fse_csqa_train_dataset['train'][0].keys()"
   ]
  },
  {
   "cell_type": "code",
   "execution_count": 39,
   "id": "66dd71d4",
   "metadata": {},
   "outputs": [],
   "source": [
    "class SequenceCollator:\n",
    "    def __init__(self, model, pad_token):\n",
    "        self.model = model\n",
    "        self.pad_token_mapping = {\n",
    "            \"labels\": -100,\n",
    "            \"attention_mask\": 0,\n",
    "            \"decoder_attention_mask\": 0,\n",
    "            \"input_ids\": pad_token,\n",
    "        }\n",
    "\n",
    "        self.columns = [\n",
    "            \"input_ids\",\n",
    "            \"attention_mask\",\n",
    "            \"labels\",\n",
    "            \"decoder_attention_mask\",\n",
    "        ]\n",
    "\n",
    "    def __call__(self, examples: List[Dict[str, InputDataClass]]) -> Dict[str, torch.Tensor]:\n",
    "        # re-format inputs for training\n",
    "        batch = {}\n",
    "        for key in examples[0].keys():\n",
    "            if key in self.columns:\n",
    "                tmp_list = []\n",
    "                for item in examples:\n",
    "                    tmp_list.append(item[key])\n",
    "\n",
    "                # pad lists to max length\n",
    "                if isinstance(tmp_list[0], list):\n",
    "                    max_length = max(map(len, tmp_list))\n",
    "                    tmp_list = [\n",
    "                        el + [self.pad_token_mapping[key]] * (max_length - len(el))\n",
    "                        for el in tmp_list\n",
    "                    ]\n",
    "\n",
    "                batch[key] = torch.tensor(tmp_list, dtype=torch.long)\n",
    "        return batch"
   ]
  },
  {
   "cell_type": "code",
   "execution_count": 40,
   "id": "f144515d",
   "metadata": {},
   "outputs": [
    {
     "name": "stderr",
     "output_type": "stream",
     "text": [
      "You are adding a <class 'transformers.integrations.TensorBoardCallback'> to the callbacks of this Trainer, but there is already one. The currentlist of callbacks is\n",
      ":DefaultFlowCallback\n",
      "TensorBoardCallback\n",
      "WandbCallback\n",
      "The following columns in the training set  don't have a corresponding argument in `T5ForConditionalGeneration.forward` and have been ignored: question_encoding, question, abstractive_explanation, extractive_explanation, answer, choices, id, our_explanation.\n",
      "***** Running training *****\n",
      "  Num examples = 48\n",
      "  Num Epochs = 25\n",
      "  Instantaneous batch size per device = 8\n",
      "  Total train batch size (w. parallel, distributed & accumulation) = 8\n",
      "  Gradient Accumulation steps = 1\n",
      "  Total optimization steps = 150\n",
      "Automatic Weights & Biases logging enabled, to disable set os.environ[\"WANDB_DISABLED\"] = \"true\"\n"
     ]
    },
    {
     "data": {
      "text/html": [
       "Changes to your `wandb` environment variables will be ignored because your `wandb` session has already started. For more information on how to modify your settings with `wandb.init()` arguments, please refer to <a href=\"https://wandb.me/wandb-init\" target=\"_blank\">the W&B docs</a>."
      ],
      "text/plain": [
       "<IPython.core.display.HTML object>"
      ]
     },
     "metadata": {},
     "output_type": "display_data"
    },
    {
     "data": {
      "text/html": [
       "wandb version 0.13.8 is available!  To upgrade, please run:\n",
       " $ pip install wandb --upgrade"
      ],
      "text/plain": [
       "<IPython.core.display.HTML object>"
      ]
     },
     "metadata": {},
     "output_type": "display_data"
    },
    {
     "data": {
      "text/html": [
       "Tracking run with wandb version 0.13.5"
      ],
      "text/plain": [
       "<IPython.core.display.HTML object>"
      ]
     },
     "metadata": {},
     "output_type": "display_data"
    },
    {
     "data": {
      "text/html": [
       "Run data is saved locally in <code>/cognitive_comp/huangyongfeng/evaluate_LM_with_rationalization/scripts/wandb/run-20230112_160733-2aezau5t</code>"
      ],
      "text/plain": [
       "<IPython.core.display.HTML object>"
      ]
     },
     "metadata": {},
     "output_type": "display_data"
    },
    {
     "data": {
      "text/html": [
       "Syncing run <strong><a href=\"https://wandb.ai/cuhk_lavilab/evaluate_LM_with_rationalization/runs/2aezau5t\" target=\"_blank\">./cos_e_output_t5_large</a></strong> to <a href=\"https://wandb.ai/cuhk_lavilab/evaluate_LM_with_rationalization\" target=\"_blank\">Weights & Biases</a> (<a href=\"https://wandb.me/run\" target=\"_blank\">docs</a>)<br/>"
      ],
      "text/plain": [
       "<IPython.core.display.HTML object>"
      ]
     },
     "metadata": {},
     "output_type": "display_data"
    },
    {
     "data": {
      "text/html": [
       "\n",
       "    <div>\n",
       "      \n",
       "      <progress value='150' max='150' style='width:300px; height:20px; vertical-align: middle;'></progress>\n",
       "      [150/150 07:03, Epoch 25/25]\n",
       "    </div>\n",
       "    <table border=\"1\" class=\"dataframe\">\n",
       "  <thead>\n",
       "    <tr style=\"text-align: left;\">\n",
       "      <th>Step</th>\n",
       "      <th>Training Loss</th>\n",
       "      <th>Validation Loss</th>\n",
       "    </tr>\n",
       "  </thead>\n",
       "  <tbody>\n",
       "  </tbody>\n",
       "</table><p>"
      ],
      "text/plain": [
       "<IPython.core.display.HTML object>"
      ]
     },
     "metadata": {},
     "output_type": "display_data"
    },
    {
     "name": "stderr",
     "output_type": "stream",
     "text": [
      "Saving model checkpoint to ./cos_e_output_t5_large/011223_160551/checkpoint-5\n",
      "Configuration saved in ./cos_e_output_t5_large/011223_160551/checkpoint-5/config.json\n",
      "Model weights saved in ./cos_e_output_t5_large/011223_160551/checkpoint-5/pytorch_model.bin\n",
      "Saving model checkpoint to ./cos_e_output_t5_large/011223_160551/checkpoint-10\n",
      "Configuration saved in ./cos_e_output_t5_large/011223_160551/checkpoint-10/config.json\n",
      "Model weights saved in ./cos_e_output_t5_large/011223_160551/checkpoint-10/pytorch_model.bin\n",
      "Saving model checkpoint to ./cos_e_output_t5_large/011223_160551/checkpoint-15\n",
      "Configuration saved in ./cos_e_output_t5_large/011223_160551/checkpoint-15/config.json\n",
      "Model weights saved in ./cos_e_output_t5_large/011223_160551/checkpoint-15/pytorch_model.bin\n",
      "Saving model checkpoint to ./cos_e_output_t5_large/011223_160551/checkpoint-20\n",
      "Configuration saved in ./cos_e_output_t5_large/011223_160551/checkpoint-20/config.json\n",
      "Model weights saved in ./cos_e_output_t5_large/011223_160551/checkpoint-20/pytorch_model.bin\n",
      "Saving model checkpoint to ./cos_e_output_t5_large/011223_160551/checkpoint-25\n",
      "Configuration saved in ./cos_e_output_t5_large/011223_160551/checkpoint-25/config.json\n",
      "Model weights saved in ./cos_e_output_t5_large/011223_160551/checkpoint-25/pytorch_model.bin\n",
      "Saving model checkpoint to ./cos_e_output_t5_large/011223_160551/checkpoint-30\n",
      "Configuration saved in ./cos_e_output_t5_large/011223_160551/checkpoint-30/config.json\n",
      "Model weights saved in ./cos_e_output_t5_large/011223_160551/checkpoint-30/pytorch_model.bin\n",
      "Saving model checkpoint to ./cos_e_output_t5_large/011223_160551/checkpoint-35\n",
      "Configuration saved in ./cos_e_output_t5_large/011223_160551/checkpoint-35/config.json\n",
      "Model weights saved in ./cos_e_output_t5_large/011223_160551/checkpoint-35/pytorch_model.bin\n",
      "Saving model checkpoint to ./cos_e_output_t5_large/011223_160551/checkpoint-40\n",
      "Configuration saved in ./cos_e_output_t5_large/011223_160551/checkpoint-40/config.json\n",
      "Model weights saved in ./cos_e_output_t5_large/011223_160551/checkpoint-40/pytorch_model.bin\n",
      "Saving model checkpoint to ./cos_e_output_t5_large/011223_160551/checkpoint-45\n",
      "Configuration saved in ./cos_e_output_t5_large/011223_160551/checkpoint-45/config.json\n",
      "Model weights saved in ./cos_e_output_t5_large/011223_160551/checkpoint-45/pytorch_model.bin\n",
      "Saving model checkpoint to ./cos_e_output_t5_large/011223_160551/checkpoint-50\n",
      "Configuration saved in ./cos_e_output_t5_large/011223_160551/checkpoint-50/config.json\n",
      "Model weights saved in ./cos_e_output_t5_large/011223_160551/checkpoint-50/pytorch_model.bin\n",
      "Saving model checkpoint to ./cos_e_output_t5_large/011223_160551/checkpoint-55\n",
      "Configuration saved in ./cos_e_output_t5_large/011223_160551/checkpoint-55/config.json\n",
      "Model weights saved in ./cos_e_output_t5_large/011223_160551/checkpoint-55/pytorch_model.bin\n",
      "Saving model checkpoint to ./cos_e_output_t5_large/011223_160551/checkpoint-60\n",
      "Configuration saved in ./cos_e_output_t5_large/011223_160551/checkpoint-60/config.json\n",
      "Model weights saved in ./cos_e_output_t5_large/011223_160551/checkpoint-60/pytorch_model.bin\n",
      "Saving model checkpoint to ./cos_e_output_t5_large/011223_160551/checkpoint-65\n",
      "Configuration saved in ./cos_e_output_t5_large/011223_160551/checkpoint-65/config.json\n",
      "Model weights saved in ./cos_e_output_t5_large/011223_160551/checkpoint-65/pytorch_model.bin\n",
      "Saving model checkpoint to ./cos_e_output_t5_large/011223_160551/checkpoint-70\n",
      "Configuration saved in ./cos_e_output_t5_large/011223_160551/checkpoint-70/config.json\n",
      "Model weights saved in ./cos_e_output_t5_large/011223_160551/checkpoint-70/pytorch_model.bin\n",
      "Saving model checkpoint to ./cos_e_output_t5_large/011223_160551/checkpoint-75\n",
      "Configuration saved in ./cos_e_output_t5_large/011223_160551/checkpoint-75/config.json\n",
      "Model weights saved in ./cos_e_output_t5_large/011223_160551/checkpoint-75/pytorch_model.bin\n",
      "Saving model checkpoint to ./cos_e_output_t5_large/011223_160551/checkpoint-80\n",
      "Configuration saved in ./cos_e_output_t5_large/011223_160551/checkpoint-80/config.json\n",
      "Model weights saved in ./cos_e_output_t5_large/011223_160551/checkpoint-80/pytorch_model.bin\n",
      "Saving model checkpoint to ./cos_e_output_t5_large/011223_160551/checkpoint-85\n",
      "Configuration saved in ./cos_e_output_t5_large/011223_160551/checkpoint-85/config.json\n",
      "Model weights saved in ./cos_e_output_t5_large/011223_160551/checkpoint-85/pytorch_model.bin\n",
      "Saving model checkpoint to ./cos_e_output_t5_large/011223_160551/checkpoint-90\n",
      "Configuration saved in ./cos_e_output_t5_large/011223_160551/checkpoint-90/config.json\n",
      "Model weights saved in ./cos_e_output_t5_large/011223_160551/checkpoint-90/pytorch_model.bin\n",
      "Saving model checkpoint to ./cos_e_output_t5_large/011223_160551/checkpoint-95\n",
      "Configuration saved in ./cos_e_output_t5_large/011223_160551/checkpoint-95/config.json\n",
      "Model weights saved in ./cos_e_output_t5_large/011223_160551/checkpoint-95/pytorch_model.bin\n",
      "Saving model checkpoint to ./cos_e_output_t5_large/011223_160551/checkpoint-100\n",
      "Configuration saved in ./cos_e_output_t5_large/011223_160551/checkpoint-100/config.json\n",
      "Model weights saved in ./cos_e_output_t5_large/011223_160551/checkpoint-100/pytorch_model.bin\n",
      "Saving model checkpoint to ./cos_e_output_t5_large/011223_160551/checkpoint-105\n",
      "Configuration saved in ./cos_e_output_t5_large/011223_160551/checkpoint-105/config.json\n",
      "Model weights saved in ./cos_e_output_t5_large/011223_160551/checkpoint-105/pytorch_model.bin\n",
      "Saving model checkpoint to ./cos_e_output_t5_large/011223_160551/checkpoint-110\n",
      "Configuration saved in ./cos_e_output_t5_large/011223_160551/checkpoint-110/config.json\n",
      "Model weights saved in ./cos_e_output_t5_large/011223_160551/checkpoint-110/pytorch_model.bin\n",
      "Saving model checkpoint to ./cos_e_output_t5_large/011223_160551/checkpoint-115\n",
      "Configuration saved in ./cos_e_output_t5_large/011223_160551/checkpoint-115/config.json\n",
      "Model weights saved in ./cos_e_output_t5_large/011223_160551/checkpoint-115/pytorch_model.bin\n",
      "Saving model checkpoint to ./cos_e_output_t5_large/011223_160551/checkpoint-120\n",
      "Configuration saved in ./cos_e_output_t5_large/011223_160551/checkpoint-120/config.json\n",
      "Model weights saved in ./cos_e_output_t5_large/011223_160551/checkpoint-120/pytorch_model.bin\n",
      "Saving model checkpoint to ./cos_e_output_t5_large/011223_160551/checkpoint-125\n",
      "Configuration saved in ./cos_e_output_t5_large/011223_160551/checkpoint-125/config.json\n",
      "Model weights saved in ./cos_e_output_t5_large/011223_160551/checkpoint-125/pytorch_model.bin\n",
      "Saving model checkpoint to ./cos_e_output_t5_large/011223_160551/checkpoint-130\n",
      "Configuration saved in ./cos_e_output_t5_large/011223_160551/checkpoint-130/config.json\n",
      "Model weights saved in ./cos_e_output_t5_large/011223_160551/checkpoint-130/pytorch_model.bin\n",
      "Saving model checkpoint to ./cos_e_output_t5_large/011223_160551/checkpoint-135\n",
      "Configuration saved in ./cos_e_output_t5_large/011223_160551/checkpoint-135/config.json\n",
      "Model weights saved in ./cos_e_output_t5_large/011223_160551/checkpoint-135/pytorch_model.bin\n",
      "Saving model checkpoint to ./cos_e_output_t5_large/011223_160551/checkpoint-140\n",
      "Configuration saved in ./cos_e_output_t5_large/011223_160551/checkpoint-140/config.json\n",
      "Model weights saved in ./cos_e_output_t5_large/011223_160551/checkpoint-140/pytorch_model.bin\n",
      "Saving model checkpoint to ./cos_e_output_t5_large/011223_160551/checkpoint-145\n",
      "Configuration saved in ./cos_e_output_t5_large/011223_160551/checkpoint-145/config.json\n",
      "Model weights saved in ./cos_e_output_t5_large/011223_160551/checkpoint-145/pytorch_model.bin\n",
      "Saving model checkpoint to ./cos_e_output_t5_large/011223_160551/checkpoint-150\n",
      "Configuration saved in ./cos_e_output_t5_large/011223_160551/checkpoint-150/config.json\n",
      "Model weights saved in ./cos_e_output_t5_large/011223_160551/checkpoint-150/pytorch_model.bin\n",
      "\n",
      "\n",
      "Training completed. Do not forget to share your model on huggingface.co/models =)\n",
      "\n",
      "\n"
     ]
    },
    {
     "data": {
      "text/html": [
       "Waiting for W&B process to finish... <strong style=\"color:green\">(success).</strong>"
      ],
      "text/plain": [
       "<IPython.core.display.HTML object>"
      ]
     },
     "metadata": {},
     "output_type": "display_data"
    },
    {
     "data": {
      "text/html": [
       "<style>\n",
       "    table.wandb td:nth-child(1) { padding: 0 10px; text-align: left ; width: auto;} td:nth-child(2) {text-align: left ; width: 100%}\n",
       "    .wandb-row { display: flex; flex-direction: row; flex-wrap: wrap; justify-content: flex-start; width: 100% }\n",
       "    .wandb-col { display: flex; flex-direction: column; flex-basis: 100%; flex: 1; padding: 10px; }\n",
       "    </style>\n",
       "<div class=\"wandb-row\"><div class=\"wandb-col\"><h3>Run history:</h3><br/><table class=\"wandb\"><tr><td>train/epoch</td><td>▁▁▁▁▂▂▂▂▂▃▃▃▃▃▃▄▄▄▄▄▅▅▅▅▅▆▆▆▆▆▆▇▇▇▇▇████</td></tr><tr><td>train/global_step</td><td>▁▁▁▁▂▂▂▂▂▃▃▃▃▃▃▄▄▄▄▄▅▅▅▅▅▆▆▆▆▆▆▇▇▇▇▇████</td></tr><tr><td>train/learning_rate</td><td>████▇▇▇▇▇▆▆▆▆▆▆▅▅▅▅▅▄▄▄▄▄▄▃▃▃▃▃▃▂▂▂▂▂▁▁▁</td></tr><tr><td>train/loss</td><td>█▅▄▃▃▂▂▂▂▂▂▂▂▂▂▂▁▁▁▁▁▁▁▁▁▁▁▁▁▁▁▁▁▁▁▁▁▁▁▁</td></tr><tr><td>train/total_flos</td><td>▁</td></tr><tr><td>train/train_loss</td><td>▁</td></tr><tr><td>train/train_runtime</td><td>▁</td></tr><tr><td>train/train_samples_per_second</td><td>▁</td></tr><tr><td>train/train_steps_per_second</td><td>▁</td></tr></table><br/></div><div class=\"wandb-col\"><h3>Run summary:</h3><br/><table class=\"wandb\"><tr><td>train/epoch</td><td>25.0</td></tr><tr><td>train/global_step</td><td>150</td></tr><tr><td>train/learning_rate</td><td>0.0</td></tr><tr><td>train/loss</td><td>1.6292</td></tr><tr><td>train/total_flos</td><td>197729710080000.0</td></tr><tr><td>train/train_loss</td><td>2.3717</td></tr><tr><td>train/train_runtime</td><td>431.8697</td></tr><tr><td>train/train_samples_per_second</td><td>2.779</td></tr><tr><td>train/train_steps_per_second</td><td>0.347</td></tr></table><br/></div></div>"
      ],
      "text/plain": [
       "<IPython.core.display.HTML object>"
      ]
     },
     "metadata": {},
     "output_type": "display_data"
    },
    {
     "data": {
      "text/html": [
       "Synced <strong style=\"color:#cdcd00\">./cos_e_output_t5_large</strong>: <a href=\"https://wandb.ai/cuhk_lavilab/evaluate_LM_with_rationalization/runs/2aezau5t\" target=\"_blank\">https://wandb.ai/cuhk_lavilab/evaluate_LM_with_rationalization/runs/2aezau5t</a><br/>Synced 6 W&B file(s), 0 media file(s), 0 artifact file(s) and 0 other file(s)"
      ],
      "text/plain": [
       "<IPython.core.display.HTML object>"
      ]
     },
     "metadata": {},
     "output_type": "display_data"
    },
    {
     "data": {
      "text/html": [
       "Find logs at: <code>./wandb/run-20230112_160733-2aezau5t/logs</code>"
      ],
      "text/plain": [
       "<IPython.core.display.HTML object>"
      ]
     },
     "metadata": {},
     "output_type": "display_data"
    }
   ],
   "source": [
    "# os.environ[\"WANDB_DISABLED\"] = \"True\"\n",
    "if data_args.generations_filepath is None:\n",
    "    callbacks = [TensorBoardCallback()]\n",
    "    if data_args.early_stopping_patience > 0:\n",
    "        callbacks.append(EarlyStoppingCallback(early_stopping_patience=data_args.early_stopping_patience))\n",
    "        training_args.load_best_model_at_end = True\n",
    "    else:\n",
    "        training_args.load_best_model_at_end = False  # use the last model state\n",
    "    training_args.metric_for_best_model = 'eval_loss'\n",
    "    training_args.greater_is_better = False\n",
    "    if training_args.eval_steps is None:\n",
    "        training_args.evaluation_strategy = EvaluationStrategy.EPOCH\n",
    "    else:\n",
    "        training_args.evaluation_strategy = EvaluationStrategy.STEPS\n",
    "\n",
    "    trainer = Trainer(\n",
    "        model=model,\n",
    "        args=training_args,\n",
    "        train_dataset=our_data_splits['train'],\n",
    "        eval_dataset=our_data_splits['dev'],\n",
    "        data_collator=SequenceCollator(\n",
    "            model=model_class, pad_token=tokenizer.pad_token_id\n",
    "        ),\n",
    "        callbacks=callbacks,\n",
    "    )\n",
    "\n",
    "# Training. Don't train if it is use_gpt3\n",
    "if training_args.do_train and not model_args.use_gpt3:\n",
    "    start_time = time.time()\n",
    "    trainer.train()\n",
    "    train_time = time.time() - start_time\n",
    "    model = trainer.model\n",
    "    wandb.finish()\n",
    "else:\n",
    "    start_time = time.time()\n",
    "    train_time = time.time() - start_time"
   ]
  },
  {
   "cell_type": "code",
   "execution_count": 41,
   "id": "ade3c632",
   "metadata": {},
   "outputs": [],
   "source": [
    "# print(our_data_splits['dev'][0]['our_explanation'])\n",
    "# inp_ids=torch.tensor(our_data_splits['dev'][0][\"input_ids\"], device=model.device).reshape(1, -1)\n",
    "# out = model.generate(\n",
    "#                     inp_ids,\n",
    "#                     max_length=100,\n",
    "#                     pad_token_id=tokenizer.pad_token_id,\n",
    "#                     eos_token_id=tokenizer.eos_token_id,\n",
    "#                 )\n",
    "# skip_special_tokens = False if \"infilling\" in data_args.io_format else True\n",
    "# words = tokenizer.decode(out[0].tolist(), skip_special_tokens=skip_special_tokens)\n",
    "# print(words)"
   ]
  },
  {
   "cell_type": "code",
   "execution_count": 42,
   "id": "b88935f8",
   "metadata": {},
   "outputs": [],
   "source": [
    "# len(our_data_splits['dev']),len(our_data_splits['train'])"
   ]
  },
  {
   "cell_type": "code",
   "execution_count": 43,
   "id": "8eda472b",
   "metadata": {},
   "outputs": [],
   "source": [
    "# our_data_splits['dev']"
   ]
  },
  {
   "cell_type": "code",
   "execution_count": 44,
   "id": "77c15190",
   "metadata": {},
   "outputs": [],
   "source": [
    "# for da in our_data_splits['train']:\n",
    "#     print(\"*******\")\n",
    "#     print(\"question: {}\".format(da['question']))\n",
    "#     print(\"answer: {}\".format(da['answer']))\n",
    "#     print(\"choices: {}\".format(da['choices']))\n",
    "#     print(\"our_explanation: {}\".format(da['our_explanation']))\n",
    "#     inp_ids = torch.tensor(da[\"input_ids\"], device=model.device).reshape(1, -1)\n",
    "#     out = model.generate(\n",
    "#                     inp_ids,\n",
    "#                     max_length=100,\n",
    "#                     pad_token_id=tokenizer.pad_token_id,\n",
    "#                     eos_token_id=tokenizer.eos_token_id,\n",
    "#                 )\n",
    "#     skip_special_tokens = False if \"infilling\" in data_args.io_format else True\n",
    "#     words = tokenizer.decode(out[0].tolist(), skip_special_tokens=skip_special_tokens)\n",
    "#     print(\"generated explanation: {}\".format(words))\n",
    "#     print(\"#######\")"
   ]
  },
  {
   "cell_type": "code",
   "execution_count": 45,
   "id": "2ca6cbe4",
   "metadata": {},
   "outputs": [],
   "source": [
    "# for da in our_data_splits['dev']:\n",
    "#     print(\"*******\")\n",
    "#     print(\"question: {}\".format(da['question']))\n",
    "#     print(\"answer: {}\".format(da['answer']))\n",
    "#     print(\"choices: {}\".format(da['choices']))\n",
    "#     print(\"our_explanation: {}\".format(da['our_explanation']))\n",
    "#     inp_ids = torch.tensor(da[\"input_ids\"], device=model.device).reshape(1, -1)\n",
    "#     out = model.generate(\n",
    "#                     inp_ids,\n",
    "#                     max_length=100,\n",
    "#                     pad_token_id=tokenizer.pad_token_id,\n",
    "#                     eos_token_id=tokenizer.eos_token_id,\n",
    "#                 )\n",
    "#     skip_special_tokens = False if \"infilling\" in data_args.io_format else True\n",
    "#     words = tokenizer.decode(out[0].tolist(), skip_special_tokens=skip_special_tokens)\n",
    "#     print(\"generated explanation: {}\".format(words))\n",
    "#     print(\"#######\")"
   ]
  },
  {
   "cell_type": "code",
   "execution_count": 46,
   "id": "69977540",
   "metadata": {},
   "outputs": [],
   "source": [
    "# good_model = T5ForConditionalGeneration.from_pretrained(\"./cos_e_output_t5_3b/112022_235539/checkpoint-30\")"
   ]
  },
  {
   "cell_type": "code",
   "execution_count": 47,
   "id": "62fca4b8",
   "metadata": {},
   "outputs": [],
   "source": [
    "# for da in our_data_splits['dev']:\n",
    "#     print(\"*******\")\n",
    "#     print(\"question: {}\".format(da['question']))\n",
    "#     print(\"answer: {}\".format(da['answer']))\n",
    "#     print(\"choices: {}\".format(da['choices']))\n",
    "#     print(\"our_explanation: {}\".format(da['our_explanation']))\n",
    "#     inp_ids = torch.tensor(da[\"input_ids\"], device=model.device).reshape(1, -1)\n",
    "#     out = good_model.generate(\n",
    "#                     inp_ids,\n",
    "#                     max_length=100,\n",
    "#                     pad_token_id=tokenizer.pad_token_id,\n",
    "#                     eos_token_id=tokenizer.eos_token_id,\n",
    "#                 )\n",
    "#     skip_special_tokens = False if \"infilling\" in data_args.io_format else True\n",
    "#     words = tokenizer.decode(out[0].tolist(), skip_special_tokens=skip_special_tokens)\n",
    "#     print(\"generated explanation: {}\".format(words))\n",
    "#     print(\"#######\")"
   ]
  },
  {
   "cell_type": "code",
   "execution_count": 48,
   "id": "3a7de102",
   "metadata": {},
   "outputs": [],
   "source": [
    "# train_output = trainer.evaluate(our_data_splits['train'].select([0,1,2,3,4]))\n",
    "# train_output"
   ]
  },
  {
   "cell_type": "code",
   "execution_count": 49,
   "id": "f43528ca",
   "metadata": {},
   "outputs": [],
   "source": [
    "# results = {}\n",
    "# if training_args.do_eval:\n",
    "#     start_time = time.time()\n",
    "#     logger.info(\"*** Evaluate on train set***\")\n",
    "#     logger.info(len(data_splits['train']))\n",
    "#     train_output = trainer.evaluate(our_data_splits['train'])\n",
    "#     perplexity = math.exp(train_output[\"eval_loss\"])\n",
    "#     results[\"perplexity_train\"] = perplexity\n",
    "\n",
    "#     # repeat\n",
    "#     logger.info(\"*** Evaluate on dev set***\")\n",
    "#     logger.info(len(data_splits['validation']))\n",
    "#     eval_output = trainer.evaluate(data_splits['validation'])\n",
    "#     perplexity = math.exp(eval_output[\"eval_loss\"])\n",
    "#     results[\"perplexity_validation\"] = perplexity"
   ]
  },
  {
   "cell_type": "markdown",
   "id": "3d2d2ec9",
   "metadata": {},
   "source": [
    "# Rationale Discriminator"
   ]
  },
  {
   "cell_type": "markdown",
   "id": "bd5eeaa4",
   "metadata": {},
   "source": [
    "## Construction of generated rationale and accepted rationale pairs\n"
   ]
  },
  {
   "cell_type": "code",
   "execution_count": 50,
   "id": "e7f1c257",
   "metadata": {},
   "outputs": [
    {
     "data": {
      "text/plain": [
       "250"
      ]
     },
     "execution_count": 50,
     "metadata": {},
     "output_type": "execute_result"
    }
   ],
   "source": [
    "len(fse_csqa_dev_data_dict)"
   ]
  },
  {
   "cell_type": "code",
   "execution_count": 51,
   "id": "c7bcb573",
   "metadata": {},
   "outputs": [
    {
     "name": "stderr",
     "output_type": "stream",
     "text": [
      "\r",
      "  0%|                                                                                                                                                                               | 0/986 [00:00<?, ?it/s]"
     ]
    },
    {
     "name": "stdout",
     "output_type": "stream",
     "text": [
      "*******\n",
      "question: Where can you likely buy many poems?\n",
      "answer: book store\n",
      "choices: ['book of poetry', 'literature book', 'book store', 'poetry book', 'bookshelf']\n",
      "common expl list: ['A book store is a place where you can buy books, including poetry books.', 'A bookstore sells a variety of books, including poetry books; chains of bookstores sometimes specialize in categories such as poetry or literature.']\n"
     ]
    },
    {
     "name": "stderr",
     "output_type": "stream",
     "text": [
      "\r",
      "  0%|▏                                                                                                                                                                   | 1/986 [00:58<15:58:59, 58.42s/it]"
     ]
    },
    {
     "name": "stdout",
     "output_type": "stream",
     "text": [
      "generated explanation: <pad> <extra_id_0> A book store is a place where you can buy many poems. A book store is a place where you can buy many poems. A book store is a place where you can buy many poems. A book store is a place where you can buy many poems. A book store is a place where you can buy books and other materials. A book store is a place where you can buy many different types of books. A book store is a place where you can buy many different kinds of books. A book store is a place to find poems. A book store can also sells poems, or any length of poems. A book store can also sell poetry. A book store is a book store can also provide a place to buy poems online. A book store can also provide a place where you can find other poems. A book store can also provide other books, such as a bookstore, a book store can also provide you with many other items. The book store is a place where you can buy poems and other books. The book store is a book store, a book store is a book store that offers a variety of poems, such as a variety of books, poetry, and other books that provide you with the ability to read, such as poetry, such as poetry, a book store or online.</s>\n",
      "########\n",
      "*******\n",
      "question: What could bringing suit do to a rivalry?\n",
      "answer: aggravation\n",
      "choices: ['going to court', 'randomness', 'anger', 'aggravation', 'tensions']\n",
      "common expl list: ['Bringing suit against a rival could aggravate the rivalry.']\n"
     ]
    },
    {
     "name": "stderr",
     "output_type": "stream",
     "text": [
      "\r",
      "  0%|▎                                                                                                                                                                   | 2/986 [02:04<17:11:31, 62.90s/it]"
     ]
    },
    {
     "name": "stdout",
     "output_type": "stream",
     "text": [
      "generated explanation: <pad> <extra_id_0> A suit is a legal process that is designed to bring about the bringing of suit against a rivalry. It is a form of legal process that is aimed at bringing about the aggravation of a rivalry. It is a form of legal process that is designed to bring about the aggravation of a rivalry. It is a form of legal process that is aimed at bringing about the aggravation of a rivalry by bringing it to court. It is Bringing suit against the possibility of a rivalry could bring suit against a rivalry over the suit could lead to a lawsuit. The aggra rivalry could result of a legal process that could lead to a lawsuit could result in a rivalry. It is a way of a legal process that could result in a rivalry. The suit could also result of a rivalry being brought against a rivalry could be used to a rivalry to a rivalry. It could also be used to a rivalry to a rivalry, a rivalry. The suit could also be used to a rivalry by a rivalry to a rivalry. The suit could be used to a rivalry to a rivalry, a rivalry to a rivalry, which could be used to a rivalry to escalate the rivalry.</s>\n",
      "########\n",
      "*******\n",
      "question: A person who yawns and paces to help pass the time is likely feeling what?\n",
      "answer: boredom\n",
      "choices: ['ridiculous', 'excitement', 'meanness', 'terrorism', 'boredom']\n",
      "common expl list: ['Yawning and pacing is a sign of being bored, etc...', 'A bored person would pace and yawn to make time go by faster.', 'By yawning and pacing one shows signs of being bored.']\n"
     ]
    },
    {
     "name": "stderr",
     "output_type": "stream",
     "text": [
      "\r",
      "  0%|▍                                                                                                                                                                   | 3/986 [03:15<18:14:53, 66.83s/it]"
     ]
    },
    {
     "name": "stdout",
     "output_type": "stream",
     "text": [
      "generated explanation: <pad> <extra_id_0> A person who yawns and paces to help pass the time is likely feeling boredom. Boredom is the feeling of being bored, and it is a common symptom of depression, anxiety, and other mental problems. The person who yawns and paces to help pass the time is likely feeling bored. The person who paces to help pass the time is likely feeling bored, and they are likely experiencing boredom. The person who walks and paces to help pass the time is likely experiencing boredom. The person who ya lot of time. The person who is likely feels bored, and is likely feeling bored. The person who y is likely has a boredom because it can be bored, and bored. The person who s presence of boredom is likely feeling bored, and bored. The person who tries to pass the time, and s to help them to pass the time, and can be able to help pass the time. The person who ya boredom is likely experiencing a sense of boredom, and feeling bored. The person is likely feeling bored, and bored, and bored. The person who a feeling boredom can be asymptom of boredom, and is likely to pass the time. The boredom is likely feeling bored and asymptom of boredom is likely feeling bored, and a feeling of boredom is likely feeling bored, and a person who ya boredom is likely to pass the time.</s>\n",
      "########\n",
      "*******\n",
      "question: I only like fiction books, why should I read a non-fiction book?\n",
      "answer: knowledge\n",
      "choices: ['knowledge', 'been printed new', 'many words', 'for fun', 'cover']\n",
      "common expl list: ['Non-fiction books contain knowledge.']\n"
     ]
    },
    {
     "name": "stderr",
     "output_type": "stream",
     "text": [
      "\r",
      "  0%|▋                                                                                                                                                                   | 4/986 [04:05<16:25:05, 60.19s/it]"
     ]
    },
    {
     "name": "stdout",
     "output_type": "stream",
     "text": [
      "generated explanation: <pad> <extra_id_0> A non-fiction book is a book that provides a greater depth of knowledge than a fiction book. This knowledge is often a source of inspiration for the reader, and can be helpful in helping them develop a deeper understanding of the world. This knowledge can be gained through reading non-fiction books. This knowledge can be gained through the use of information in the form of questions, answers, and other resources. Knowledge is the basis for knowledge and knowledge acquisition. Knowledge is the key to knowledge acquisition. Knowledge is the key to knowledge acquisition. Knowledge is the knowledge that is knowledge is useful for the knowledge that can be used to develop skills and knowledge. Knowledge is also important for the reader. Knowledge is also important for the reader to understand the world of knowledge. Knowledge is also a knowledge is a book can be used to gain knowledge. Knowledge is a knowledge acquisition process. Knowledge is also important for the way to make decisions and the reader more easily a book. Knowledge is also a great way to build knowledge. Knowledge is also a great way to help you learn. Knowledge is also a great way to improve your knowledge. Knowledge is also a great way to help you learn new techniques, which can be used to improve your knowledge you acquire knowledge. Knowledge is also a great way to develop a great resource for a deeper understanding of the world.</s>\n",
      "########\n",
      "*******\n",
      "question: An American might hike a mountain north to get to what?\n",
      "answer: canada\n",
      "choices: ['canada', 'switzerland', 'orlando', 'austria', 'surface of earth']\n",
      "common expl list: ['If an American hiked north, they would likely end up in Canada.']\n"
     ]
    },
    {
     "name": "stderr",
     "output_type": "stream",
     "text": [
      "\r",
      "  1%|▊                                                                                                                                                                   | 5/986 [05:47<20:30:30, 75.26s/it]"
     ]
    },
    {
     "name": "stdout",
     "output_type": "stream",
     "text": [
      "generated explanation: <pad> <extra_id_0> An American might hike a mountain north to get to canada. Canada is a country in the polar region of North America, located in the Arctic Ocean, and is located in the northern hemisphere. Canada is a large area of land and water that is home to a variety of wildlife and plants. It is also a popular destination for many tourists and travelers, as it is a land of opportunity and beauty. The mountains are a great way to explore the natural beauty of Canada and the Canadian Rockies. Canada is a beautiful scenery, and offers many activities, including hiking, and other places like: a great place like hiking. The mountains are also a great place to explore. The mountains are also a great way to explore the wilderness and other countries. The mountains are also a great way to see the Canadians. The hike is also a great place for those who want to see the natural beauty of Canada. The mountains are also a great place to explore the natural beauty of Canada's wildlife and wildlife. The mountains are also a great place to see the world. The mountains are also a great place to visit. The Canadian mountains are also a great place to visit to the natural beauty of the Canadians and wildlife and the wildlife that are able to provide for the natural beauty of Canada is a great place to explore the natural landscape. Then area is a great place to visit. The culture and the culture of Canada is a great place to see the natural beauty of the natural beauty of the mountains and the natural beauty of the country's natural beauty of the Canadians wildlife and culture of the Canadians.</s>\n",
      "########\n",
      "*******\n",
      "question: Sam spent most of his time standing up.  His job was hectic and he never got any rest. But he was the best cashier at his workplace.    Where might he work?\n",
      "answer: supermarket\n",
      "choices: ['bookstore', 'count till', 'supermarket', 'shop', 'preschool']\n",
      "common expl list: [\"The best cashiers work setting up lines of products, yhis is usually done from being on one's feet. Supermarkets use till systems to swipe credit cards, thus cashiering is done by standing up.\", 'Since one spends most of his time standing when working as a cashier, Sam probably works at a supermarket where groceries are sold. Because his workplace is full of activities and punten, he never gets any rest.']\n"
     ]
    },
    {
     "name": "stderr",
     "output_type": "stream",
     "text": [
      "\r",
      "  1%|▉                                                                                                                                                                   | 6/986 [07:26<22:37:58, 83.14s/it]"
     ]
    },
    {
     "name": "stdout",
     "output_type": "stream",
     "text": [
      "generated explanation: <pad> <extra_id_0> Sam worked in a supermarket because he was the best cashier at his workplace. He worked hard and was always standing up. Sam worked hard and was always standing up. He worked in a supermarket because it was a busy place and it was a busy place to work. A supermarket is a supermarket that offers a variety of food items and other products. A supermarket is a place where cashiers are expected to stand up and work hard. A supermarket is a place where cashiers are expected to work long hours and work in Usually, cashiers are employed in a supermarket. A supermarket is a retail store where customers are often found food items and other tasks. A supermarket is a place to work hard and requires a steady job requires flexibility and flexibility. A supermarket is a place where Sam can work flexible hours and flexible workable to work around the weekend. A supermarket is a place where a place to work and can provide customers with a variety of products and other retail stores that are able to work from home. A supermarket is a place to work. A cashier can work from home or other places such as a place to work. A supermarket is a place where the customer can work hard and is a place where Sam can work hard and a place of pride of the people who are a place to work. A supermarket is a place of work in a place of pride and a place of safety and a place of work. A supermarket is a place where the customer can work in a place to work. A supermarket is a place of work. A supermarket is a place of work in a place to work in a supermarket, and a place of convenience store, and a supermarket is a place of convenience store where Sam can work.</s>\n",
      "########\n",
      "*******\n",
      "question: James raked fallen leaves into a pile. Where might he leave the pile?\n",
      "answer: ground\n",
      "choices: ['forest', 'roof', 'garden', 'tree', 'ground']\n",
      "common expl list: ['Leaves are often raked into piles on the ground.']\n"
     ]
    },
    {
     "name": "stderr",
     "output_type": "stream",
     "text": [
      "\r",
      "  1%|█▏                                                                                                                                                                 | 7/986 [10:38<32:16:29, 118.68s/it]"
     ]
    },
    {
     "name": "stdout",
     "output_type": "stream",
     "text": [
      "generated explanation: <pad> <extra_id_0> A pile of leaves is a pile of fallen leaves that are raked up from the ground. The leaves are a common source of organic matter, and the process of removing them is a common and common one. The leaves are usually gathered from the ground in a pile, and the pile is often left on the ground. The leaves are usually gathered from the ground in a rake, and the pile is usually left on the ground because the ground is so fertile and the soil is low and the soil is a pile of fallen leaves are often left behind the pile of soil, and the pile is often found on the ground, and the piles are often found in a variety of soil, and other conditions. The leaves are usually left on the ground are usually found on the ground, and are often found in the ground, and may be left behind by the pile. The pile is often left on the ground, and the pile is left behind. The pile is often left behind may also be left behind the pile is a natural and may be left on the ground. This is a common practice, and is a common practiced by raking is a common practice for example. The leaves are often left behind by the ground. The pile is often left behind the ground. The leaves are often left on the ground, and the ground is a commonplace for a place of natural and the ground. The pile is usually left behind the ground, and is often left on the ground. The pile is left on the ground because the leaves are often left behind by the leaves are often left on the ground in the ground because the ground is a common practice by people wholly for the leaves are often left on the ground and the ground. The pile is often left on the ground, and may be left on the ground is often left on the ground, and the ground is often left on the ground, and is a place to collect and the ground is often left on the ground, and the ground, which is often left on the ground, which is a common and is a place for people wholly a place for people who are often left on the ground, and the ground, but the ground. The pile is often left on the ground, and often left in the ground, making a place to be a place to be left on the ground, and<extra_id_26> the ground.</s>\n",
      "########\n",
      "*******\n",
      "question: What happens when we fail at something we attempt?\n",
      "answer: leave\n",
      "choices: ['leave', 'give up', 'trying', 'we get shunned', 'fail']\n",
      "common expl list: ['If we fail at something, we usually leave (quit) that activity; failing is an action, while giving up and trying are both ways of not acting.', \"If we engage in an activity, like a sport, and fail, we don't want to continue doing it. It's much easier simply to leave.\"]\n"
     ]
    },
    {
     "name": "stderr",
     "output_type": "stream",
     "text": [
      "\r",
      "  1%|█▎                                                                                                                                                                 | 8/986 [12:13<30:13:39, 111.27s/it]"
     ]
    },
    {
     "name": "stdout",
     "output_type": "stream",
     "text": [
      "generated explanation: <pad> <extra_id_0> Failure is when we fail at something we attempt. It is when we fail at something we attempt to do. This is because we have not done it well enough to make it successful. When we fail at something we attempt, we have not done enough work to make it successful. This is because failure is when we have not done enough work to make it successful. This is because we have not done enough to make it successful. This is because we have not done enough work to make it successful. This is because failure is when we fail at something we attempt to the opportunity to learn from our mistakes and learn from our mistakes. Failure is when we have learned from our experiences. It is when we have learned from our experiences, we have learned from our mistakes, we can help us learn from our mistakes and improve our abilities. We can learn from our mistakes we have learned from our abilities to learn from our mistakes and improve our efforts. We can learn from our mistakes and improve our abilities. This is when we try to learn from our mistakes we have learned from our mistakes and learn from our mistakes. This is a valuable information that can be used to improve our abilities. It is when we try to achieve our goals. This is a goal, and we have a failure to improve our efforts. This is a failure can be used to improve our efforts to improve our abilities. This is important to help us improve our efforts. This is important because it helps us to improve our chances of a positive outlook. This is a positive outlook and helps to recognize our abilities and improve. It can also help us to recognize our failures. It can be difficult and helps us to learn. It is important to be aware of our mistakes can be a learning curve, as we try to improve our ability to improve our skills. This can be a difficult tasks.</s>\n",
      "########\n",
      "*******\n",
      "question: The referee wasn't specialized in one thing. He refereed many games.  He was offered a job but wasn't sure what it would be.  What did he know it would be?\n",
      "answer: sporting event\n",
      "choices: ['side with opponent', 'football', 'hockey game', 'part two boxers', 'sporting event']\n",
      "common expl list: ['Referees are specialized in sports, and so, they would be expected to know how to referee a sporting event.']\n"
     ]
    },
    {
     "name": "stderr",
     "output_type": "stream",
     "text": [
      "\r",
      "  1%|█▍                                                                                                                                                                  | 9/986 [13:00<24:46:00, 91.26s/it]"
     ]
    },
    {
     "name": "stdout",
     "output_type": "stream",
     "text": [
      "generated explanation: <pad> <extra_id_0> A sporting event referee is a person who is specialized in one type of activity. He refereeds a variety of sporting events. He refereed a variety of sporting events, including football, soccer, and basketball. A sporting event refereed by a professional referee is a game that involves two or more teams of people, and the goal is to determine who wins the game. A sporting event refereed by a professional referee is a game that is played between two teams of people. A sporting event refereeeee is a game between two or three teams of two or more. A sporting event is a game, and a refereeeeeeeed is a game, and the game. The job requires a professional refereeeeeeeeeeeeeeeeeed a team to score the game. A sporting event is a game refereed by a refereeeeeeee. A sporting event is a professional refereeeeding competitions, such as a team is a refereeee</s>\n",
      "########\n",
      "*******\n",
      "question: Susan threw the highly elastic ball at the wall.  The ball did what?\n",
      "answer: rebound\n",
      "choices: ['bounce', 'recoil', 'rebound', 'underwear', 'stretch']\n",
      "common expl list: ['Elastic balls collide with the wall, and boom bounce back after a collision.']\n"
     ]
    },
    {
     "name": "stderr",
     "output_type": "stream",
     "text": [
      "\r",
      "  1%|█▋                                                                                                                                                                 | 10/986 [13:58<21:57:11, 80.98s/it]"
     ]
    },
    {
     "name": "stdout",
     "output_type": "stream",
     "text": [
      "generated explanation: <pad> <extra_id_0> The ball bounced back and forth, bouncing off the wall and hitting the wall. The ball bounced back and forth, hitting the wall and hitting the wall. The ball bounced back and forth, hitting the wall and hitting the wall. The ball bounced back and hitting the wall. This is because the ball is extremely elastic, making it very difficult to control. The ball bounces back and forth, hitting the wall. The ball was thrown at the wall and hitting the wall. The ball then bounced back and hit the wall. The ball was then bouncing back into the wall. The ball was able to the wall. The ball was extremely high and thrown at the wall. The ball was also very difficult to control, but was a high. The ball bounced back and then hit the wall. The ball was very high-intensive, bouncing and was able to get the wall. The ball was able to control the wall and rebounding back and then able to get away from the wall. The ball was able to get back into the wall and then thrown back into the wall. The ball was then thrown into the wall and hit the wall. The ball was able to<extra_id_27> </s>\n",
      "########\n",
      "*******\n",
      "question: John lived in a small island surrounded by flowing liquid H2O   Where might he live?\n",
      "answer: mississippi river\n",
      "choices: ['japan', 'hawaii', 'mississippi river', 'pacific ocean', 'body of water']\n",
      "common expl list: ['there are numerous islands in the mississippi river in the united states, making it possible that John may have lived on one.']\n"
     ]
    },
    {
     "name": "stderr",
     "output_type": "stream",
     "text": [
      "\r",
      "  1%|█▊                                                                                                                                                                 | 11/986 [14:02<15:29:29, 57.20s/it]"
     ]
    },
    {
     "name": "stdout",
     "output_type": "stream",
     "text": [
      "generated explanation: <pad> <extra_id_0> John lived in a small island surrounded by flowing liquid H2O<extra_id_2> John lived on an island<extra_id_3> surrounded by flowing liquid H2O. The river is<extra_id_4> a natural<extra_id_5> John lived on an island<extra_id_6> The island was<extra_id_7> surrounded by flowing liquid H2O. The island was<extra_id_8> surrounded by<extra_id_9> flowing<extra_id_10> water<extra_id_11> The island was<extra_id_12> surrounded by<extra_id_13> flowing water<extra_id_14> flowing<extra_id_15> flowing<extra_id_16> flowing<extra_id_17> flowing<extra_id_18> flowing<extra_id_19> water<extra_id_20> The<extra_id_21> The Mississippi River is a flowing liquid that is constantly<extra_id_22> moving<extra_id_23> The river<extra_id_24> s are </s>\n",
      "########\n",
      "*******\n",
      "question: What will the student have to do on the test?\n",
      "answer: solve equation\n",
      "choices: ['finish college', 'begin teaching', 'write', 'answer question', 'solve equation']\n",
      "common expl list: ['A student has to solve equations to learn a given theory that is presented in class.']\n"
     ]
    },
    {
     "name": "stderr",
     "output_type": "stream",
     "text": [
      "\r",
      "  1%|█▉                                                                                                                                                                 | 12/986 [15:09<16:20:58, 60.43s/it]"
     ]
    },
    {
     "name": "stdout",
     "output_type": "stream",
     "text": [
      "generated explanation: <pad> <extra_id_0> The student will be given an equation test to solve for an equation. The student will have to solve the equation in order to get the correct answer. The student will have to use the correct answer to solve the equation. The student will have to solve the equation in order to get the correct answer. The student will have to solve the equation in order to get the correct answer. The student will have to solve the equation in order to get the correct answer. The student will have to solve the equation in order to get the correct answer. The student will have to get the correct variables. The student will have to use the equation in order to get the correct the student to solve the equation. The student will have to solve the equation in order to get the correct solution. The student will have to use the equations in order to get the correct answer to the correct equation in order to find the correct. The student will have to solve the equation in order to get the correct the correct. The student will have to explain the equation in order to get the correct answer. The student will have to explain the problem in order to understand the equation in order to understand the student. The student will have to solve the equation in order to get the correct solution. The student will have to explain the problem in order to understand the equation in order to understand the equation.</s>\n",
      "########\n",
      "*******\n",
      "question: The tourists saw what they thought was a statue, but they soon discovered it was performance art went it began what?\n",
      "answer: moving\n",
      "choices: ['growing mold', 'moving', 'accent garden', 'green', 'painting']\n",
      "common expl list: ['Performance art is art that is performed, rather than being a static object. In this case, the statue was moving, which is a sign of performance art.']\n"
     ]
    },
    {
     "name": "stderr",
     "output_type": "stream",
     "text": [
      "\r",
      "  1%|██▏                                                                                                                                                                | 13/986 [15:14<11:43:45, 43.40s/it]"
     ]
    },
    {
     "name": "stdout",
     "output_type": "stream",
     "text": [
      "generated explanation: <pad> <extra_id_0> The tourists soon discovered performance art<extra_id_1> The performance art<extra_id_2> The performance art<extra_id_3> The tourists soon discovered it was a performance art piece that was<extra_id_4> A<extra_id_5> The tourists soon discovered that the<extra_id_6> s were actually<extra_id_7> s<extra_id_8> The tourists soon discovered that the<extra_id_9> was a performance piece<extra_id_10> It was<extra_id_11> a performance art piece that was<extra_id_12> moving<extra_id_13> The tourists<extra_id_14> soon discovered that the<extra_id_15> the performance<extra_id_16> The performance art was<extra_id_17> a<extra_id_18> The<extra_id_19> moving<extra_id_20> Performing art is<extra_id_21> The performance art<extra_id_22> consists of<extra_id_23> The<extra_id_24> moving<extra_id_25> The performance<extra_id_26> </s>\n",
      "########\n",
      "*******\n",
      "question: What is a good way to carry a small dog?\n",
      "answer: backpack\n",
      "choices: ['good hands', 'backpack', 'chinese food', 'grocery bag', 'basket']\n",
      "common expl list: ['Backpacks are a good way to carry things, and small dogs are things.']\n"
     ]
    },
    {
     "name": "stderr",
     "output_type": "stream",
     "text": [
      "\r",
      "  1%|██▎                                                                                                                                                                | 14/986 [16:35<14:49:00, 54.88s/it]"
     ]
    },
    {
     "name": "stdout",
     "output_type": "stream",
     "text": [
      "generated explanation: <pad> <extra_id_0> A backpack is a good way to carry a small dog because it is easy to transport and it is portable. It is also easy to pack and unpack. A backpack is a great way to transport a small dog because it is easy to carry and unpack. It is also a great way to transport a small dog around with you. A backpack is a great way to carry a small dog around with you. A backpack is a great way to carry a small dog because it is easy to carry and easy to carry a backpack is a small dog is easy to carry a small dog with you can easily unwind. A backpack is also a great way to carry a small dog on your hands and can easily carry a small dog around in your hands. A backpack is also a great way to carry a small dog with you can easily carry a small dogs in a backpack for carrying a small dog on the go. A backpack is also a great way to carry a small dog around with you can easily transport a backpack is easy to transport a small dog around with you can easily transport a small dog anywhere you. A backpack is a great way to carry a small dog on trips or for short trips with you and to keep your dog on the dog with you. A backpack is also a great way to carry if you are going on a trip.</s>\n",
      "########\n",
      "*******\n",
      "question: Both sides in World War I used what to cause death that is now banned?\n",
      "answer: poisonous gas\n",
      "choices: ['homicide', 'poisonous gas', 'cyanide', 'nuclear weapons', 'massive weapons']\n",
      "common expl list: ['Poison gas is a chemical known for its ability to kill (therefore, if both sides used it, people on both sides died from its use), and it has since gone on to be outlawed in many countries.']\n"
     ]
    },
    {
     "name": "stderr",
     "output_type": "stream",
     "text": [
      "\r",
      "  2%|██▍                                                                                                                                                                | 15/986 [18:02<17:22:31, 64.42s/it]"
     ]
    },
    {
     "name": "stdout",
     "output_type": "stream",
     "text": [
      "generated explanation: <pad> <extra_id_0> In World War I, both sides used poisonous gas to cause death. The gas was used to kill people on both sides and it is now banned because it is a deadly form of poison and is known to cause a great deal of damage. It is also known to have a toxic effect on humans and animals. The gas was used to cause a great deal of harm and to kill people. It is a form of poison that is used to cause death by causing them to vomit and to explode. It is also known to cause of a poisoning can cause serious illness and can cause a variety of different ways. It is a poison gas that is used to kill people by poison gas. It is also a poison gas that is a very dangerous because it can cause serious health and can cause serious injury or death. It can cause serious health effects such as cancer and cause serious health problems in people to their bodies. It can also be used to treat wounds and to treat diseases and can cause serious health problems. It can also be deadly. It is also used to treat and to treat people who are suffering. It is also a great way to prevent them from becoming too much of poison that can be used to prevent them from getting rid of their homes and to cause death. It can cause serious injuries and diseases. It can be deadly and can be used to cause serious injuries. It can be used to cause serious health effects. It can also be used to cause serious injuries.</s>\n",
      "########\n",
      "*******\n",
      "question: Where is disease often spread but shouldn't be?\n",
      "answer: hospital\n",
      "choices: ['ghost town', 'third world country', 'human body', 'rug', 'hospital']\n",
      "common expl list: ['Disease is spread most commonly in hospitals, where sick patients are treated and recovered hosts of disease are found.', 'Hospitals are places where people go to get better, and therefore disease is often spread there.']\n"
     ]
    },
    {
     "name": "stderr",
     "output_type": "stream",
     "text": [
      "\r",
      "  2%|██▋                                                                                                                                                                | 16/986 [19:00<16:52:51, 62.65s/it]"
     ]
    },
    {
     "name": "stdout",
     "output_type": "stream",
     "text": [
      "generated explanation: <pad> <extra_id_0> In a hospital, the patient is in a safe environment that is free from infectious diseases and should not be able to spread the disease. This is because hospitals are designed to provide a safe environment for patients to receive treatment and care. Hospitals provide a safe and clean environment for patients to receive care and care. This is because they are the only place that can provide care and provide a safe environment for patients to receive care and treatment. Hospitals are also the only place that can provide the necessary care and treatment for their patients. This is important because it is important because it can help with the hospital is the patient care and treatment options available for patients with their symptoms. Hospitals are also often the best place for patients to receive treatment and care. It is also the best place for patients to receive treatment for their condition. This is important because it can be used to get treatment. It can be difficult to get treatment from one to get treatment and care in a hospital is equipped with the latest in the latest technology. This means that patients can get treatment and care in a variety of diseases and treatments. In addition, hospitals are the patient and care that are equipped with the latest technology. This means that patients can get treatment and care and treatment. It can also be used to get care and care for patients with a better<extra_id_27> because it is a safe and secure.</s>\n",
      "########\n",
      "*******\n",
      "question: As things get colder, temperature does what?\n",
      "answer: drop to zero\n",
      "choices: ['increase', 'drop to zero', 'heat up', 'dropping quickly', 'arctic']\n",
      "common expl list: ['As things get colder, they get closer to zero degrees.']\n"
     ]
    },
    {
     "name": "stderr",
     "output_type": "stream",
     "text": [
      "\r",
      "  2%|██▊                                                                                                                                                                | 17/986 [19:49<15:42:24, 58.35s/it]"
     ]
    },
    {
     "name": "stdout",
     "output_type": "stream",
     "text": [
      "generated explanation: <pad> <extra_id_0> As things get colder, temperature goes down. This is because cold temperatures are much lower than normal temperatures. As temperatures drop, they can cause damage to plants, animals, and people. As temperatures drop, they can cause damage to their health and safety. As temperatures drop, they can also cause damage to people and property. As temperatures drop, they can cause damage to people and property. As temperatures drop, they can also cause other problems, such as heart disease, stroke, and even death. As temperatures drop, they can also cause damage to people. This can cause serious health risks of illness and death. As temperatures drop, the environment becomes colder, the environment becomes colder. As temperatures drop, they can cause people to be more comfortable and healthy. As temperatures drop, they can cause damage to their health and resources. As temperatures drop, they can cause other activities such as food, exercise, and other factors. As temperatures drop, they can cause damage to property. This can cause damage and energy consumption. As temperatures drop, they can cause damage to their health and productivity. As temperatures drop, they can also cause damage to their health. As temperatures drop, they can also cause damage to their health and cause many other conditions. As temperatures drop, they can cause damage to their health and energy costs. As temperatures drop, they can also cause damage to their health.</s>\n",
      "########\n",
      "*******\n",
      "question: Where is one unlikely to get popcorn?\n",
      "answer: soccer game\n",
      "choices: ['restaurant', 'movie house', 'soccer game', 'carnival', 'movie theater']\n",
      "common expl list: ['Most soccer games lack concession stands, which are necessary to sell movie theaters popcorn.', 'Soccer games are usually snacks-free affairs; snacks, including popcorn, tend to be present at more recreational venues, but less so in settings where food is unnecessary because there are translatable goods sellers, i.e., vendors that sell things like popcorn', 'Soccer games usually lack popcorn machines.']\n"
     ]
    },
    {
     "name": "stderr",
     "output_type": "stream",
     "text": [
      "\r",
      "  2%|██▉                                                                                                                                                                | 18/986 [21:33<19:24:24, 72.17s/it]"
     ]
    },
    {
     "name": "stdout",
     "output_type": "stream",
     "text": [
      "generated explanation: <pad> <extra_id_0> A soccer game is a high-energy, high-risk environment in which to watch a team perform a skill or skill set that requires a high level of physical activity. Soccer is a team-based sport that involves a number of players and involves a lot of physical activity. Soccer is a team-based sport that involves the use of a variety of equipment and tactics to achieve a goal. The goalie must be able to control the ball and the goalkeeper to ensure that the ball is always in the goalie soccer is a game. Soccer is a competitive atmosphere and a teammate can easily get into a goal. The goal is to score goals and goals. The goal is a team that is likely to score goals, and a goaliemotion. The goal is a team that is often a great place to watch a soccer game, as the team must compete for a championship. The goal is often a goal, but the team needs to score goals. Soccer is a team is a team's chances of scoring goals. The goal is a team that is also a team, and a team. The goal is a game is a great place to watch a team compete against the goal, but not a goal. The goal is a teammate is a soccer game is a teammate, as it is a team, as it is a team is a team and the goal is scored by a teammate. The goal is also a team can be a team, as well-playing and goals are a great way to watch the goal is a great way to get into the team that way to get a team is a great way to get into the goal is a goal and is a goal-based game.</s>\n",
      "########\n",
      "*******\n",
      "question: Where are files likely to be hanging?\n",
      "answer: filing cabinet\n",
      "choices: ['filing cabinet', 'tree', 'suitcase', 'computer', 'desk drawer']\n",
      "common expl list: ['Filing cabinets are used to store files sometimes; these files can then be found by opening the filing cabinet and looking for hanging folders.', 'Files are likely to be hanging in a filing cabinet, since they are often organized by topic, and filing cabinets are often used to organize files.']\n"
     ]
    },
    {
     "name": "stderr",
     "output_type": "stream",
     "text": [
      "\r",
      "  2%|███▏                                                                                                                                                               | 19/986 [24:11<26:19:12, 97.99s/it]"
     ]
    },
    {
     "name": "stdout",
     "output_type": "stream",
     "text": [
      "generated explanation: <pad> <extra_id_0> A filing cabinet is a large, metal box that houses a number of different types of files. The files are hung in a variety of ways, including on the walls, ceilings, and doors. Files are typically stored in a filing cabinet, which is a type of safe, and the cabinet is designed to hold documents. The filing cabinet is a great place to store documents, as it is a place where you can easily access them. It is a convenient way to store documents, and it is easy to access to find it is also a great place to store important documents. The filing cabinet is a great way to store documents in a filing cabinet, which is a file in a filing cabinet, and can be easily accessible from any computer, and easily accessible, and if the files are in a filing cabinet. The filing cabinet is a great place to organize documents, as they can be easily accessible from any size, and can be easily accessible by anyone. The filing cabinet can be used to store documents, and easily accessible by anyone with any type of file. The filing cabinet is a great place to store documents, such as a filing cabinet, which can be easily accessible and easily accessible from any type of any type of files. The filing cabinet can be used to store documents, and any type of storage option for documents, such as a filing cabinet or shelf. The filing cabinet can be used to store documents, as a place to store them in a filing cabinet, or in a great place. The filing cabinet can be used to store documents, such as documents, or important documents, such as a filing cabinet can be used to store documents, such as a filing cabinet, or a cabinet, or a cabinet. The files can be used to store documents, such as a filing cabinet, or a filing cabinet, or a filing cabinet, or a file cabinet, or a filing cabinet, or a filing cabinet, or a filing cabinet, or a filing cabinet, or a filing cabinet, or even a filing cabinet, or a filing cabinet or a filing cabinet, or a filing cabinet, or a filing cabinet, or a filing cabinet, or a storage space or a filing cabinet, a filing cabinet, or a filing cabinet, or a file or</s>\n",
      "########\n",
      "*******\n",
      "question: What is required to go on vacation before anything else?\n",
      "answer: have money\n",
      "choices: ['pack', 'pay bills', 'save money', 'have money', 'reliable car']\n",
      "common expl list: ['Vacations often require the purchase of travel services, such as airline or hotel tickets.']\n"
     ]
    },
    {
     "name": "stderr",
     "output_type": "stream",
     "text": [
      "\r",
      "  2%|███▎                                                                                                                                                               | 20/986 [25:02<22:28:51, 83.78s/it]"
     ]
    },
    {
     "name": "stdout",
     "output_type": "stream",
     "text": [
      "generated explanation: <pad> <extra_id_0> Having money is a must to go on a vacation. It is the only way to afford it. Without it, you will not be able to afford to take a vacation. Having money is the first step to going on a vacation. Having money will help you save money for your vacation and help you save for your trip. Having money will also help you save money on your trip. Having money will also help you save for your trip and help you save for the trip. Having money will also help you can help you get away faster. It will also help you to travel and other essential to enjoy your vacation. Having money will also help you save you money for your trip. It will also help you pay for your vacation. Money will help you get you a vacation. With money, you will also help you save for your trip. With money, you can also help pay for your trip. With money, you can afford to go on vacation. With money, you can also help you save money on your trip. With money, you can afford to take a vacation. Money can also help you plan your trip and plan your trip. With money, you can also take advantage of the opportunity to relax and enjoy your trip. With money, you can take a trip and plan your vacation will help you to take a trip to explore the area of the trip.</s>\n",
      "########\n",
      "*******\n",
      "question: The roadway passed a sign and gate house, what was behind the gatehouse?\n",
      "answer: subdivision\n",
      "choices: ['city', 'narnia', 'subdivision', 'neighborhood', 'countryside']\n",
      "common expl list: ['A subdivision contains houses that formed around it; therefore, a subdivision has a gatehouse that controls who goes in and out.', 'Subdivisions are residential areas that are often gated, and so, if you see a gatehouse, you might be in a subdivision.']\n"
     ]
    },
    {
     "name": "stderr",
     "output_type": "stream",
     "text": [
      "\r",
      "  2%|███▍                                                                                                                                                               | 21/986 [25:54<19:54:44, 74.28s/it]"
     ]
    },
    {
     "name": "stdout",
     "output_type": "stream",
     "text": [
      "generated explanation: <pad> <extra_id_0> The sign and gate house were behind a gatehouse, which was located behind a subdivision. The sign was a sign for a subdivision, and the gatehouse was a sign for a subdivision. The sign was a sign for a subdivision, and the gatehouse was a gatehouse. The sign was a sign for a subdivision, and the gatehouse was a gatehouse. The sign was a sign for a subdivision, and the gatehouse was a gatehouse. The sign was a subdivision, and gatehouse. The sign was a subdivision, which was a subdivision, and gatehouse. The gatehouse was a gatehouse was a gatehouse. The sign was a subdivision, and the gatehouse was a subdivision, and the gatehouse. The sign was a gatehouse, and gatehouse. The sign was a subdivision, and gatehouse. The sign was a gatehouse, and gatehouse was a gatehouse was behind the gatehouse was a gatehouse. The sign was posted on the subdivision sign of the gatehouse was a gatehouse. The sign was a gatehouse. The sign was behind the gatehouse was a gatehouse was a gatehouse, and the sign. The gatehouse was a gatehouse, and the sign of a subdivision.</s>\n",
      "########\n",
      "*******\n",
      "question: The invasive A.I. was designed to scan the crowd, where most saw a mass of humanity the evil machine could pick out each what?\n",
      "answer: individual\n",
      "choices: ['solitary', 'single person', 'few people', 'crowd', 'individual']\n",
      "common expl list: [\"Machine intelligence is better able to find isolated individuals than crowded groups. Machines need to scan a large group of people to be able to find a single person--but when the single person doesn't blend in, it makes them easier to find.\"]\n"
     ]
    },
    {
     "name": "stderr",
     "output_type": "stream",
     "text": [
      "\r",
      "  2%|███▋                                                                                                                                                               | 22/986 [26:59<19:10:27, 71.61s/it]"
     ]
    },
    {
     "name": "stdout",
     "output_type": "stream",
     "text": [
      "generated explanation: <pad> <extra_id_0> The A.I. was designed to scan the crowd, where most saw a mass of humanity, where most saw a mass of people. The A.I. was designed to pick out each individual in the crowd, where most could not see them, and so it could not pick them out by their individuality. The A.I. was designed to scan the crowd, where most saw a mass of people, and where the crowd was large enough to see them all. The A.I. was designed to scan the crowd, where the crowd, and then use of the machine could also pick up on their individual. The A. The crowd was designed to scan the crowd was designed to pick out the individual in the crowd, and then a machine could pick out the crowd, and the individual by looking for the crowd. The A. The crowd scan was designed to pick up on the individual, and can then use the crowd to identify the person, and then use the machine to identify each individual. The crowd was designed to pick up the individual A. The A. The machine could then use the crowd to scan the crowd to identify the individual. The crowd scan was designed to pick up to identify the individual. The crowd was designed to scan the crowd, so it could also be used to identify the individual, if the machine a large crowd, and then a large enough to identify each individual,</s>\n",
      "########\n",
      "*******\n",
      "question: Is has been speculated that a aliens could be communicating by doing this?\n",
      "answer: thinking\n",
      "choices: ['effort', 'farting', 'thinking', 'laugh', 'medium']\n",
      "common expl list: ['Aliens could quite possibly be using thought as a way to communicate between themselves.']\n"
     ]
    },
    {
     "name": "stderr",
     "output_type": "stream",
     "text": [
      "\r",
      "  2%|███▊                                                                                                                                                               | 23/986 [28:34<21:03:01, 78.69s/it]"
     ]
    },
    {
     "name": "stdout",
     "output_type": "stream",
     "text": [
      "generated explanation: <pad> <extra_id_0> Aliens are thought to be communicating by thinking. This is because they are able to think in different ways, and thinking in different ways. For example, a person may think that they are thinking, thinking, thinking, thinking, and thinking. Thinking is a form of thinking, which is a form of thinking, which is a form of thinking, which is a form of thinking, and thinking is a form of thinking. Thinking is a form of thinking, which is a form of thinking. Thinking is a way, and thinking about the world. Thinking is a way of communicating through thinking, and thinking. Thinking is a way to communicate with the same way, as they are able to communicate through their thoughts. This is a way of communicating, and thinking, as a type of thinking, which is a way of thinking, which is a form of thinking. Thinking is a way of thinking, and a form of thinking, and a form of thinking, which is a form of thinking that allows them to think about their environment. Thinking is a way of thinking, and thinking is a way of thinking. This is a form of thinking, and thinking, which is a way of thinking, and a way of communicating with the thinking. Thinking is a way of thinking. Thinking is a way of thinking. It is a form of thinking, and a communication. This is a way of thinking, and thinking, and could be used by the way of communicating with the idea of thinking. This is a form of thinking. This is a form of thinking, and thinking is a form of thinking, and<extra_id_27> </s>\n",
      "########\n",
      "*******\n",
      "question: What can occur in fencing if you are not careful?\n",
      "answer: severe injuries\n",
      "choices: ['competition', 'severe injuries', 'fever', 'perspiration', 'small cuts']\n",
      "common expl list: ['The sport of fencing causes people to be hit by weapons, which may cause cuts or other wounds if someone is not careful.', 'Fencing is a sport, which involves hitting your opponent with a sharp piece of metal, which will almost certainly result in some physical pain.', 'Fencing is a sport that involves hitting your opponent with a sword, and if you are not careful, you can get injured.']\n"
     ]
    },
    {
     "name": "stderr",
     "output_type": "stream",
     "text": [
      "\r",
      "  2%|███▉                                                                                                                                                               | 24/986 [29:14<17:55:40, 67.09s/it]"
     ]
    },
    {
     "name": "stdout",
     "output_type": "stream",
     "text": [
      "generated explanation: <pad> <extra_id_0> Fencing is a dangerous sport that requires a high level of skill and safety. If you are not careful, you can suffer severe injuries that can be life threatening. Fencing is a sport that requires a high level of skill and precision. This skill is essential to the sport and can be dangerous if not properly maintained. Fencing is a high-energy sport that requires a high level of skill and safety. It is a sport that requires a high level of skill and precision to be successful. This skill is important to the safety of your own safety. It can lead to serious injuries and can be life-threatening injuries. If you are not careful, you could be victim of a serious injury. If you are not careful, you could be the victim of a serious injury, you could be serious injuries. This could be a dangerous activity. If you are not careful, you could be a serious injury, you could be a serious injury or even a fatal. If you are not careful, you could be the result. If you are not careful, you could be in a serious risk for serious injury. If you are in the sport, you could be fatal a serious and life-threatening.</s>\n",
      "########\n",
      "*******\n",
      "question: If you stretch out your socks they will then have what kind of fit?\n",
      "answer: loose\n",
      "choices: ['cramped', 'loose', 'contract', 'park', 'compressing']\n",
      "common expl list: ['When stretched out, socks will be loose.']\n"
     ]
    },
    {
     "name": "stderr",
     "output_type": "stream",
     "text": [
      "\r",
      "  3%|████▏                                                                                                                                                              | 25/986 [29:56<15:54:24, 59.59s/it]"
     ]
    },
    {
     "name": "stdout",
     "output_type": "stream",
     "text": [
      "generated explanation: <pad> <extra_id_0> If you stretch out your socks they will then have a loose fit. This is because the socks are made of a special material called nylon, which is a very flexible material. It is made from a special type of material called spandex, which is a synthetic material that is a combination of nylon and spandex. This material is made of a special type of nylon, which is a very strong and durable material. This makes them very comfortable to wear and provides a great deal of comfort. The stretchy socks will also give you a looser feet. The socks are also have a great way to the shape of their socks and are also very flexible, which makes them very flexible and therefore loose fitting. This is because the stretchy material is very soft and will result. The loose fit is also very likely to be very comfortable to the socks will be very loose. The loose fitting, therefore, and will be very soft and therefore, but will be very likely to be very likely to be very soft and will be more likely to be more difficult to wear than normal. This is a very comfortable fit. The socks will be very soft and therefore more likely to be very comfortable to wear. The socks will have a more loose fit, so they will be more likely to wear them.</s>\n",
      "########\n",
      "*******\n",
      "question: John ran out of pencils.  Where did  he go to get more?\n",
      "answer: office depot\n",
      "choices: ['desk drawer', 'cup', 'pencil case', 'shelf', 'office depot']\n",
      "common expl list: ['Office Depot is a store that sells office supplies, including pencils.', 'When people need pencils (or pens), they often buy them at office depots.', 'Pencils can be found at an office supply store, e.g., an office depot.', 'Office Depot is a company that specializes in office furniture; it also sells pens and pencils.', 'John can buy new pencils at an office depot.']\n"
     ]
    },
    {
     "name": "stderr",
     "output_type": "stream",
     "text": [
      "\r",
      "  3%|████▎                                                                                                                                                              | 26/986 [30:39<14:33:11, 54.57s/it]"
     ]
    },
    {
     "name": "stdout",
     "output_type": "stream",
     "text": [
      "generated explanation: <pad> <extra_id_0> John ran out of pencils at office depot. He went to the store because they were running out of pencils and he needed to get more. Office Depot is a great place to get more pencils because they are in stock and they have a large selection of them. This makes it easy to get supplies for any project or job. Office Depot has a large selection of pencils that are priced at a reasonable price. This means that John can get the right size for his project or job. The store also has a wide variety of different types of different sizes of different sizes and sizes. The store has a variety of pencils for different needs. In addition to the store has a large selection, the store has a variety of colors and sizes. The store has a variety of sizes, including a variety of sizes and price point for any projector. The store has a variety of sizes to fit any budget. In addition, the store has a large selection of different types of sizes and colors of pencils. The store is a great place to get supplies for any project. The store has a variety of items, including: a variety of colors, shapes and sizes.</s>\n",
      "########\n",
      "*******\n",
      "question: What does a confident person do?\n",
      "answer: trust himself\n",
      "choices: ['feel important', 'own house', 'trust himself', 'know what time', 'cry']\n",
      "common expl list: ['People whose confidence is high tend to believe themselves more strongly, and so the confident person might believe in their own abilities and do things such as trust themselves.', 'A confident person is sure of his abilities and the trust in himself/herself to do things or accomplish goals.']\n"
     ]
    },
    {
     "name": "stderr",
     "output_type": "stream",
     "text": [
      "\r",
      "  3%|████▍                                                                                                                                                              | 27/986 [31:45<15:26:15, 57.95s/it]"
     ]
    },
    {
     "name": "stdout",
     "output_type": "stream",
     "text": [
      "generated explanation: <pad> <extra_id_0> A confident person is one who is confident in himself and in his abilities. They do this by trusting himself and others. This trusting and trusting behavior is what makes a confident person feel comfortable and at ease in their own skin. This trusting and trusting behavior is a sign of a confident person. It is a sign of confidence and self-confidence. It is a sign of confidence and self-worth. It is a sign of a confident person who is confident in his abilities and confidence. This trusting himself and others around him and others. This trust in himself is a person who is confident in his own abilities and confidence and his abilities and his own abilities. It is a sign of confidence and self-confidence and self-confidence and self-confidence and self-confidence is a sign of confidence and self-confidence. It is a sign of self-confidence and self-confidence and self-confidence and self-based trusting others. This is a sign of confidence and a positive attitude and positive reinforcement of self-reassurance and a person who is a confident self-confidence and self-trust-based approach to build self-confidence and self-confidence. It is a sign of self-trusting and a sign of self-confidence and self-assurance. It is a sign of self-assurance that a person is a sign of trusting and self-resilience and responsibility.</s>\n",
      "########\n",
      "*******\n",
      "question: James thought that analyzing all the data would help him learn more, but it did not.  It only gave him what?\n",
      "answer: headache\n",
      "choices: ['headache', 'better understanding', 'papercuts', 'enlightened', 'discovering truth']\n",
      "common expl list: ['Analysis requires a lot of thinking with maybe little reward, which can give one a headache.']\n"
     ]
    },
    {
     "name": "stderr",
     "output_type": "stream",
     "text": [
      "\r",
      "  3%|████▋                                                                                                                                                              | 28/986 [32:43<15:24:52, 57.92s/it]"
     ]
    },
    {
     "name": "stdout",
     "output_type": "stream",
     "text": [
      "generated explanation: <pad> <extra_id_0> James thought that analyzing all the data would help him learn more, but it only gave him a headache. This is because analyzing all the data would give him a headache. This is because analyzing all the data would give him a headache. This is because analyzing all the data would give him a headache. This headache is caused by analyzing all the data that James had collected from other sources, such as books, videos, and other sources. This is because analyzing all the data would give James a headache. This headaches can cause him to work faster. This is because it can lead to he would cause him to a headache. This headache is caused by the data, which can cause him to have a headache. The headaches are caused by the data. This is because it was analyzing all the data he was he was analyzing all the data was he was a headaches. This is because he was analyzing all the data was he had already been analyzing the data could have been a headache. This was caused by the data was a lot of information. This headache was caused by the data. The data was a headache because of the headache was a lot of data was a lot of the data. This is because it was a headache.</s>\n",
      "########\n",
      "*******\n",
      "question: What makes people happy when it is surprising and unexpected?\n",
      "answer: humor\n",
      "choices: ['joke', 'humor', 'frightened', 'fight', 'laughter']\n",
      "common expl list: ['A surprise is a stimulus that is not generally predicted before exposing it to a subject. It may be surprising things that cause laughter, or unexpected things that people see as funny.']\n"
     ]
    },
    {
     "name": "stderr",
     "output_type": "stream",
     "text": [
      "\r",
      "  3%|████▊                                                                                                                                                              | 29/986 [33:34<14:48:51, 55.73s/it]"
     ]
    },
    {
     "name": "stdout",
     "output_type": "stream",
     "text": [
      "generated explanation: <pad> <extra_id_0> Humor is a way for people to express themselves and make others happy. Humor is a form of communication that is often overlooked or overlooked. It is a form of expression that can be used to express themselves in a variety of ways. It can be used to express feelings of joy, excitement, or sadness. It can also be used to express feelings of pride, admiration, or sadness. Humor can also be used to express feelings of joy, sadness, or anger. Humor can be used to express feelings of hope, love, laughter, and a great way to convey emotions. It can also be used to make people feel good and it can be used to express emotions. It can also be used to convey messages that are intended to make people feel good way. It can also be used to show emotion, or even be used to convey messages, or a variety of emotions. It can be used to express emotions, or to express emotions. It can be used to convey emotions of a message or to express emotions. It can be used to convey a message, or a<extra_id_27>. It can be used to make people feel good or sad or a smile or happy. It can be used to express a positive emotion</s>\n",
      "########\n",
      "*******\n",
      "question: What is someone who wants a lot of money?\n",
      "answer: greedy\n",
      "choices: ['selfish', 'weird', 'greedy', 'ridiculous', 'hungry']\n",
      "common expl list: ['A person who is greedy wants more things that people typically take for granted, i.e., money, success, etc. This is a lot of stuff.', 'Greed is defined as \"the desire to obtain something, especially wealth, through selfish means, typically at the expense of others.', 'Greed is a strong desire to possess a lot of money; a greedy person therefore wants it a lot.']\n"
     ]
    },
    {
     "name": "stderr",
     "output_type": "stream",
     "text": [
      "\r",
      "  3%|████▉                                                                                                                                                              | 30/986 [34:02<12:36:43, 47.49s/it]"
     ]
    },
    {
     "name": "stdout",
     "output_type": "stream",
     "text": [
      "generated explanation: <pad> <extra_id_0> A person who wants a lot of money is usually a person who is very materialistic and wants to make a lot of money. They are usually someone who is very ambitious and wants to make a lot of money. They are also likely to be very impulsive and reckless. They are also likely to be very impulsive and impulsive. They are also likely to be very impulsive and impulsive. They are also likely to be very emotional and impulsive. They are also likely to be very proud and their money. They are also very important to have a lot of money to make a lot of money to make a lot of money. Money is also a good way to show their character. The greedy person is a lot of money and their lifestyle. They are also likely to be a lot of money and they are looking for it. They are also likely to be very impulsive and want to be able to make able to be able to be impulsive and therefore more likely to be more likely to be more likely to be more likely to be more than they are likely to be more likely to be more than others.</s>\n",
      "########\n",
      "*******\n",
      "question: Where do you keep a book to read before bed?\n",
      "answer: bedside table\n",
      "choices: ['school room', 'allen key', 'classroom', 'bedside table', 'coffee table']\n",
      "common expl list: ['Bedside tables are convenient for keeping things, e.g., a book, reading materials, glasses, etc., that you wish to keep near your bed for regular access; particularly things.', 'Bedside tables are where people keep things they use before bed, such as books, glasses, and water.']\n"
     ]
    },
    {
     "name": "stderr",
     "output_type": "stream",
     "text": [
      "\r",
      "  3%|█████                                                                                                                                                              | 31/986 [36:59<22:54:33, 86.36s/it]"
     ]
    },
    {
     "name": "stdout",
     "output_type": "stream",
     "text": [
      "generated explanation: <pad> <extra_id_0> A bedside table is a great place to keep a book to read before bed. It can be used to keep a book close to your face, and it can also be used to keep a book in your pocket or purse. A bedside table is a great place to keep a book close to your bedside to read before bed. A bedside table is a great place to keep a book that you can easily access and read while you are sleeping. It can also be used to store a book in your bedside table, which can be used to keep a book to read a book to help you to read before bedtime. A bedside table can also be used to keep a book on the bedside table is a book nearby to read while reading before bedside table is a book to keep a book handy place to keep a book handy place to keep a book in bedside table top or on a bedside table is a book to keep a bed. A bedside table is a great place to keep a book to read before you are asleep. A bedside table is a great place to keep a book on a bedside table can be used to keep a book in a book on a book on a bedside table is a good place to read a book to read a bedside table is a book on a bedside table to read before you are asleep. A table is a book on a bed to read before you are asleep or a bedside table can be used to read before you are a book on a bedside table can be used to read a book to keep a book before bedside table can be used to read before you are reading before you can read before you read before you are a bedside table or a book on a bedside table or a book before bed to read before you are reading before you are reading before you are reading before you are reading before you are a bedside table a bedside table a book to read before you are reading a bedside table a book before you are a bedside table or a book before you can also use it a book before you can also a bedside table to keep a book or you are reading a book before you are asleep.</s>\n",
      "########\n",
      "*******\n",
      "question: Where is a knight likely to be found in the US?\n",
      "answer: chess set\n",
      "choices: ['middle ages', 'chess set', 'historical novel', 'castle', 'guarding the king']\n",
      "common expl list: ['A knight is a piece in the game of chess, which is played on a chess set.']\n"
     ]
    },
    {
     "name": "stderr",
     "output_type": "stream",
     "text": [
      "\r",
      "  3%|█████▎                                                                                                                                                             | 32/986 [38:18<22:17:27, 84.12s/it]"
     ]
    },
    {
     "name": "stdout",
     "output_type": "stream",
     "text": [
      "generated explanation: <pad> <extra_id_0> A chess set is a specialized set of chess pieces that are used to play chess and other games of skill. A chess set is a set of pieces that are used to play a chess game. The pieces are usually made of wood, and the pieces are arranged in a ring around a central figure. A ring around a central figure is a ring around a central figure. A ring around the central figure is called a king. A a knight is a a king, and a chess set of pieces are arranged in a a a a king. A king is a a a chess set of pieces are used to play a a game of a king is likely to be a a a a a a a a a king’s king. A a king is often found in a a king’s a king in a king’s king’s a king in a a king in a king’s a king’s king’s a a a king in a king in a queen’s ’s a a queen’s a a king’s a king in a king in a king’s ’</s>\n",
      "########\n",
      "*******\n",
      "question: Jack saw little point to communicating beyond the basics.  To him, it was just a means to do what?\n",
      "answer: exchange information\n",
      "choices: ['go swimming', 'making friends', 'exchange information', 'people to think', 'confusion']\n",
      "common expl list: [\"Keeping the communication sparse would allow him to conserve energy by speaking less. Since communication is just a means to exchanging information, Jack would not see much 'point', to say, a conversation beyond the basics.\"]\n"
     ]
    },
    {
     "name": "stderr",
     "output_type": "stream",
     "text": [
      "\r",
      "  3%|█████▍                                                                                                                                                             | 33/986 [39:55<23:15:59, 87.89s/it]"
     ]
    },
    {
     "name": "stdout",
     "output_type": "stream",
     "text": [
      "generated explanation: <pad> <extra_id_0> Jack saw little value in communicating beyond the basics. Jack saw communication as a means to exchange information. Jack saw little value in communicating beyond the basics. He saw little value in communicating beyond the basics. Communication was just a means to exchange information. Jack saw little value in communicating beyond the basics. Communication was a means to exchange information. Communication was a means to exchange information. Communication was a means to exchange information. Jack saw little value in communicating beyond the basics. He saw little value in communicating beyond the basics. Communication was a way to exchange information. Jack saw little value in communicating. Communication was a means to exchange information. Jack saw little value in it as a means to exchange information. Communication was a means to him. Jack saw little value in terms of information. It was a means to exchange information. Jack saw little value in communicating beyond the basic information exchange of information. Jack saw little value in communicating beyond the basics. Communication was a means to exchange information. Jack saw little value in communicating beyond the basics. Jack saw little value in communicating with his peers and information exchange of information. He saw little value in communicating beyond the basics. Jack saw little value in communicating. He saw little value in communicating with his friends and felt little value in communicating with his friends. He saw little value in communicating with his friends and values. He saw little value in a means to exchange of information. Jack saw little value in communicating with his ability to exchange of information as a means to communicate with his friends and could be useful. Jack saw little value in communicating with friends and shared information. Jack saw little to communicate with his way to exchange of information. Jack saw little value in communicating with his friends and his friends.</s>\n",
      "########\n",
      "*******\n",
      "question: I as a person don't kill others, why do I not?\n",
      "answer: value life\n",
      "choices: ['experience pleasure', 'laws', 'value life', 'thank god', 'go into debt']\n",
      "common expl list: [\"Someone who does not kill might have a great deal of respect for life; as a person's life is valuable, the opposite is true about the act of taking a life.\"]\n"
     ]
    },
    {
     "name": "stderr",
     "output_type": "stream",
     "text": [
      "\r",
      "  3%|█████▌                                                                                                                                                             | 34/986 [40:34<19:23:10, 73.31s/it]"
     ]
    },
    {
     "name": "stdout",
     "output_type": "stream",
     "text": [
      "generated explanation: <pad> <extra_id_0> I as a person don't kill others because I value my life. I value life because it is the life of the person who is killing. I value life because it is my life and I want to live it to the fullest. I value life because it is my life and it is my life. I value life because it is my life. I value life because it is my life and I want to live it to the fullest. I value life because it is my life. I value life because it is my life and I want to live life. It is my life and not to kill another because it is a person should not kill others because it is important to me to live a life and not to kill others. I value my own life and the world. I value life and respect others. I value life as a person and the world. I value my own life and respect others. I value life as a person and respect and respect others's life. I value life as a person's life. I value life and respect and if someone else. I would not kill others because it'</s>\n",
      "########\n",
      "*******\n",
      "question: What is likely to be a child's reaction to going to play?\n",
      "answer: happiness\n",
      "choices: ['happiness', 'tears', 'sit', 'being entertained', 'laugh']\n",
      "common expl list: ['Children like to play.']\n"
     ]
    },
    {
     "name": "stderr",
     "output_type": "stream",
     "text": [
      "\r",
      "  4%|█████▊                                                                                                                                                             | 35/986 [41:18<17:03:51, 64.60s/it]"
     ]
    },
    {
     "name": "stdout",
     "output_type": "stream",
     "text": [
      "generated explanation: <pad> <extra_id_0> Play is a form of play that children can take part in to create happiness and fun for themselves. It is a form of play that children can take part in to create their own happiness. Play is a form of play that children can take part in and enjoy for themselves. It is a form of play that is fun and exciting and it is a form of play that can be enjoyed by children of all ages. It is a form of play that can be enjoyed by children of all ages. It can be played outdoors, or inside or in the outdoors. Play is a form of happiness. It can be a child's reaction to be happy when they are playing and it is a positive experience. Play is a form of happiness, which can be experienced by a positive emotion. It can also be a positive emotion that can be a positive reinforcement for children to feel good way to build self-esteem and self-esteem. It can also be fun and a way to build self-esteem and self-confidence and self-expression. Play can be a positive experience for a child to be happy. It can also be a positive emotion.</s>\n",
      "########\n",
      "*******\n",
      "question: Where could you find multiple ruler that are owned by different people?\n",
      "answer: office\n",
      "choices: ['measure distance', 'england', 'office', 'drawer', 'desk']\n",
      "common expl list: ['Office buildings often have rulers.', 'When someone works in an office, even if it is part-time or freelance, they may be required to measure distances e.g., in departments or cubicles, and so, offices are a good place to find ruler.']\n"
     ]
    },
    {
     "name": "stderr",
     "output_type": "stream",
     "text": [
      "\r",
      "  4%|█████▉                                                                                                                                                             | 36/986 [42:08<15:52:50, 60.18s/it]"
     ]
    },
    {
     "name": "stdout",
     "output_type": "stream",
     "text": [
      "generated explanation: <pad> <extra_id_0> Multiple rulers are a great way to display your creativity and get creative. They are a great way to display your creativity and get creative. They are also a great way to show off your creativity and get noticed by others. They can be used to display artwork, posters, and other items that you may have in your office. They can be used to display artwork, photos, and other items that you may have in your home. Multiple rulers are a great way to show off your creativity and get noticed by others. They can also be used to create an ideal place to show off to show off to show off your creativity. Also, rulers can be used to show off their personality and help you can be used to show off different personalities. They can be used to display different types of different people to show off their personal style and personal taste. They can be used to show off their personalize your company’s corporate identity. They can be used to show off your company culture and personalize your company’s culture. This can be used to show your company’s employees’s corporate identity. They can be used to show off their company’s. They can be used to show off their company’s culture and other cultural heritage. They can be used to show off their expertise and creativity.</s>\n",
      "########\n",
      "*******\n",
      "question: When remembering you referencing things that you have what?\n",
      "answer: prior knowledge of\n",
      "choices: ['memory cells', 'learning about', 'prior knowledge of', 'brain cells', 'nerve cells']\n",
      "common expl list: ['Most of the things a person knows come from learning in the past and usually have some recollection involved.']\n"
     ]
    },
    {
     "name": "stderr",
     "output_type": "stream",
     "text": [
      "\r",
      "  4%|██████                                                                                                                                                             | 37/986 [43:42<18:32:09, 70.32s/it]"
     ]
    },
    {
     "name": "stdout",
     "output_type": "stream",
     "text": [
      "generated explanation: <pad> <extra_id_0> s and references. This is because you have a prior knowledge of the things you are referring to. This prior knowledge can help you remember things better. For example, you may have a list of names, places, or dates, or even a picture of a person. This knowledge can help you remember things better, and it can help you remember the names of people you know. This is because you have a prior knowledge of the people you know, and their faces, and the places they have visited. This is because you have a prior knowledge of the things you have been exposed to the information you have a prior knowledge of the things you have prior knowledge of the things you have previously known about the people you have a prior knowledge of the people you have been told them before. This is important because it helps you remembering the things you have a prior knowledge of the things you have a better recall them. This is important because it helps you remember the things you have a prior knowledge of the names of the context. This helps you remember them, and the names, and places. This helps you remember the things you have a prior knowledge that you have already a prior knowledge of the names of the people you have a prior knowledge about the people you have a prior knowledge of the people you have a prior knowledge that you have about the people you have a prior knowledge helps you to remember them. Also, you have a prior knowledge of the things you have a better memory. This is important because it helps you remember the people who you. This is important because it helps you remember the things you have a prior knowledge and will help you remember them better. This is because it will help you remember them better.</s>\n",
      "########\n",
      "*******\n",
      "question: After running twenty six miles he felt like he had lost twenty six pounds, this was from all the what?\n",
      "answer: sweat\n",
      "choices: ['exercise', 'sweat', 'pass out', 'collapse', 'drink water']\n",
      "common expl list: ['Sweating is a way to cool down the body, and so after running for a long time, a person might sweat a lot.']\n"
     ]
    },
    {
     "name": "stderr",
     "output_type": "stream",
     "text": [
      "\r",
      "  4%|██████▎                                                                                                                                                            | 38/986 [44:55<18:44:29, 71.17s/it]"
     ]
    },
    {
     "name": "stdout",
     "output_type": "stream",
     "text": [
      "generated explanation: <pad> <extra_id_0> After running twenty six miles he felt like he had lost twenty six pounds, this was due to all the sweat he produced during the run. This is due to the fact that sweat is a natural product that is produced when we sweat and this sweat is absorbed by our skin and evaporates into the blood stream. This is because sweat is a powerful form of body fat which is converted into energy and used to fuel our bodies. This is due to the fact that sweat is a form of fat, and it is converted into energy. This is due to the sweat that is a natural process that is a body fat burning calories, and a few miles. This is due to the sweat is a natural product of the body, which is a by absorbing the body naturally a body to loses fat, and a large amount of oxygen, which is a by the body to lose weight. This sweat is a natural ingredient in the body, and it is a natural fat, which is a great way to lose weight. It is a natural product of sweat is a natural source of protein, protein, and fats. This is due to the fact that sweat is a natural product of the body naturally produced by the sweat. This is due to the fact that it is a natural product that is produced by the body, which is a natural product of sweat, which is a natural, and therefore, which helps to the body produces a natural source of protein, which helps to burns</s>\n",
      "########\n",
      "*******\n",
      "question: In what western sate might one find a bald eagle?\n",
      "answer: colorado\n",
      "choices: ['captivity', 'colorado', 'zoo', 'canada', 'in washington']\n",
      "common expl list: ['Eagles are native to the western United States, and Colorado is a western state.']\n"
     ]
    },
    {
     "name": "stderr",
     "output_type": "stream",
     "text": [
      "\r",
      "  4%|██████▍                                                                                                                                                            | 39/986 [45:55<17:51:27, 67.89s/it]"
     ]
    },
    {
     "name": "stdout",
     "output_type": "stream",
     "text": [
      "generated explanation: <pad> <extra_id_0> In Colorado, the bald eagle is a resident of the Colorado River Valley, where it is nesting and feeding on fish and other insects. This is because the eagles are a large species of bird that is primarily found in the mountains and plains, and they are able to migrate from one location to another. In Colorado, the eagles are mainly found in the northern part of the state, near the Colorado River. In Colorado, the eagles are primarily in the southwest, in the state, the state of the bald a commonplace to beag in the mountains. In Colorado, the bald ea variety of birds are found in the mountains, and in the state. In Colorado, the mountains, the a variety of species, including a variety of birds can be found in the Rocky Mountain, the s, including the Rocky Mountain, including the Rocky Mountains, the Rocky Mountains, the Rocky Mountains, the Rocky Mountain, including the Rocky Mountain, the s range of the Rocky Mountainegls, including the Rocky Mountains, which are a commonplace of the st to be found in the Rocky Mountain West, which is a variety of species of the Rocky Mountain s are a range of birds in Colorado Rivers<extra_id_27> </s>\n",
      "########\n",
      "*******\n",
      "question: When a retired person returns to work they likely need to do what?\n",
      "answer: earn money\n",
      "choices: ['key', 'earn money', 'get out of bed', 'need money', 'understand themselves']\n",
      "common expl list: ['When a person is retired, they probably are not making enough money through a pension benefit to support themselves after retirement, so they work again, perhaps full-time, in order to have enough money.(money key)']\n"
     ]
    },
    {
     "name": "stderr",
     "output_type": "stream",
     "text": [
      "\r",
      "  4%|██████▌                                                                                                                                                            | 40/986 [46:48<16:37:21, 63.26s/it]"
     ]
    },
    {
     "name": "stdout",
     "output_type": "stream",
     "text": [
      "generated explanation: <pad> <extra_id_0> When a retired person returns to work they likely need to earn money. This is because the person has already worked for a while and has accumulated a lot of experience and knowledge to return to work. However, the person who has retired may be able to do more work and have more time to enjoy life and enjoy the company of friends and family. This is because they have a lot of time to spare and the person has a lot of time to enjoy themselves. This is because they have accumulated a lot of money from their retirement, which helps to earn money. This is important because it is also because it helps the person who has more money to earn more money. The person can also help with the money they have to pay for health care for the person to pay for medical care for their health care for their family members. This is also helps them to pay for themselves. This is also because it is a lot of time to work and the person to pay for the time to spend on their own time to earn money to work and to spend it. This helps them to earn money to pay for their time and energy to spend it. This is also a good way to earn money. It is also important because it helps to earn money to pay for the person to pay for them to pay for their time to spend it.</s>\n",
      "########\n",
      "*******\n",
      "question: What can be the result of meeting people with similar attitudes?\n",
      "answer: making new friends\n",
      "choices: ['anxiety', 'being bored', 'love', 'making new friends', 'new job']\n",
      "common expl list: [\"Friends often share some interests and/or attitudes, and when someone meets people with similar attires, that's a good indicator they might be good candidates for becoming friends.\", 'People with similar interests are likely to be friends, or familiars to each other, having many opportunities to meet each other and have things in common to discuss.']\n"
     ]
    },
    {
     "name": "stderr",
     "output_type": "stream",
     "text": [
      "\r",
      "  4%|██████▊                                                                                                                                                            | 41/986 [47:43<15:56:06, 60.71s/it]"
     ]
    },
    {
     "name": "stdout",
     "output_type": "stream",
     "text": [
      "generated explanation: <pad> <extra_id_0> Having similar attitudes can be a positive experience for anyone. It can be a positive experience to meet people with similar attitudes. It can be a great way to build relationships and make new friends. People with similar attitudes are often looking for a new partner or friend. This can be a difficult task, but it can also be a great opportunity to meet new people with similar attitudes and goals. This can be beneficial for building trust and building relationships with new people. It can be a great way to meet people with similar attitudes and to make new friends. It is important to have similar attitudes and attitudes. It can be a positive attitude and a positive change in the group. This can be a positive effect on the group of people. It can also be a great way to build new friends. It can be a positive outlook, and a positive experience. It can be a positive attitude. It can also lead to a positive outlook. It can be a positive reinforcement and support. It can be a great way to build new friends. It can be a positive reinforcement of the attitude. It can be a great way to build a community. It can be a great way to build relationships and it can be a positive environment. It can be a great way to build a positive experience. It can be a great way to build friendships.</s>\n",
      "########\n",
      "*******\n",
      "question: Danny noticed a ceramic object on the table and picked a grape out of it.  What might have been on the table?\n",
      "answer: bowl of fruit\n",
      "choices: ['kitchen', 'painting of fruits', 'fruit basket', 'bowl of fruit', 'fruit stand']\n",
      "common expl list: ['A bowl of fruit is an appropriate item to put on a table, as it can hold many kinds of fruit.']\n"
     ]
    },
    {
     "name": "stderr",
     "output_type": "stream",
     "text": [
      "\r",
      "  4%|██████▉                                                                                                                                                            | 42/986 [50:10<22:45:45, 86.81s/it]"
     ]
    },
    {
     "name": "stdout",
     "output_type": "stream",
     "text": [
      "generated explanation: <pad> <extra_id_0> Danny picked a grape out of a bowl of ceramic object on the table because it was a bowl of fruit. The bowl of fruit was a bowl of ceramics, which are typically used for storage and decoration. They are usually made of ceramics, and the fruit is usually small in size, making them ideal for picking a grape from. The bowl of fruit is usually made of ceramics, and the fruit is usually a red or green color, and is usually found in a bowl or bowls, which are usually hollow, and the grapes are made from the fruit, and are usually made of grapes, and are usually a bowl of grapes, but the fruit is usually a large, so the fruit was in a bowl, and the table, and the fruit was likely to be a variety of different colors, and the table. The bowl of fruit was likely to be a variety of different colors, and the table, depending on the fruit, such as a grape, such as a variety of different colors, such as a red or white or a white or brownish or a yellow or white, such as a white or a great way to make a good choice for a great choice for if the table. The fruit is a great way to make a gift for someone else it could be a great way to make a great way to make a great choice for a gift for someone special occasion, as it is a great source of course, but it was likely to make it was a red or for making it being a red or blue. The bowl of different types of course, soggy or a fruit, depending on the type of course, and its ability to make a delicious snack. The fruit is a great way to make a great way to make a simple snack or a snack on the table, or a snack or a snack or for a meal for someone who wants to make a healthy snack or a healthy snack or a healthy snack or for a healthy snack or for a healthy snack or for Danny to make a healthy snack. The fruit is a great option for a healthy snack or a healthy snack or<extra_id_27> </s>\n",
      "########\n",
      "*******\n",
      "question: The nose dipped and alarms went off inside the what?\n",
      "answer: aircraft\n",
      "choices: ['car', 'sniff', 'aircraft', 'upper respiratory tract', 'missile']\n",
      "common expl list: ['The nose dips and alarms go off inside the cockpit of an aircraft when the nose of the aircraft dips too low.']\n"
     ]
    },
    {
     "name": "stderr",
     "output_type": "stream",
     "text": [
      "\r",
      "  4%|███████                                                                                                                                                            | 43/986 [50:50<19:02:30, 72.69s/it]"
     ]
    },
    {
     "name": "stdout",
     "output_type": "stream",
     "text": [
      "generated explanation: <pad> <extra_id_0> The nose dipped and alarms went off inside the aircraft. The nose dipped and alarms went off inside the aircraft because the aircraft was too small to properly position the nose and the aircraft was too small to properly land. The nose dipped and alarms went off inside the aircraft because the aircraft was too close to the ground. The nose dipped and alarms went off inside the aircraft. The alarms were triggered because the nose dipped and the aircraft was too close to the ground. The nose dipped and the aircraft was too close to land and took flight. The aircraft was too close to the nose was too close to the ground. The aircraft was too close to land and the ground. The nose dipped and alarms went off the nose a warning was a nose dipped and alarms went off. The alarms went off inside the nose dipped and the aircraft was a collision. The nose dipped and the aircraft was too close to land and the nose dipped and the nose a dipped and alarms went off inside the aircraft. The alarms were a little bit of course of the airborne. Thenoppo</s>\n",
      "########\n",
      "*******\n",
      "question: Where is a cord likely to be on a tent?\n",
      "answer: sporting goods store\n",
      "choices: ['inside tent', 'delivery room', 'hardware store', 'backpack', 'sporting goods store']\n",
      "common expl list: ['Sporting goods stores likely have tents on display which generally come with their cords.']\n"
     ]
    },
    {
     "name": "stderr",
     "output_type": "stream",
     "text": [
      "\r",
      "  4%|███████▎                                                                                                                                                           | 44/986 [52:41<22:01:52, 84.20s/it]"
     ]
    },
    {
     "name": "stdout",
     "output_type": "stream",
     "text": [
      "generated explanation: <pad> <extra_id_0> Cords are a common feature of tents, and are often found on the bottom of the tents. Cords are typically made of nylon, a durable material that is flexible and durable. Cords are typically found on tents in the form of a single piece of cord, which is typically made of a strong, durable nylon. They are typically found on the top of the tents, at the bottom of the tent, or in the tent itself. Cords are typically found on the bottom of the tents, on the tent, and are often found on the bottom of the store, and are often found on the tent. They are made of various types of nylon, and are also available for other outdoor gear. They are often found in stores, or at the tents, and are often found at sporting goods store, such as stocked with a variety of different types of clothing, depending on the type of gear. Cords are also found at sporting goods store, and other sporting goods. They are also found in a variety of products, depending on the type of the tent, such as atop, the size and the cords. Cords are often a tent, and are also found on the bottom of sporting goods store, and can be found in sporting goods stores, such as sporting goods, such as a tent, for example, which can be found in the top of the tent, such as a sporting goods store or in the tent, and in different colors, colors, patterns, such as a tent, such as a variety of different colors, such as a brand, such as a sporting goods store. Cords, such as a tent, the color, such as a sport, or a variety of different colors, depending on the material, such as the material, color of different types of different designs, different materials, such as a sporting goods, such as a tent or in different colors,<extra_id_27> </s>\n",
      "########\n",
      "*******\n",
      "question: The man reduced the town to rubble out of hate, what was his goal?\n",
      "answer: destroy enemy\n",
      "choices: ['wage war', 'play nice', 'fight enemy', 'stab to death', 'destroy enemy']\n",
      "common expl list: ['someone who is completely obsessed with destroying an enemy (going so far as to want them completely obliterated from existance) is not a person who is playing nice.']\n"
     ]
    },
    {
     "name": "stderr",
     "output_type": "stream",
     "text": [
      "\r",
      "  5%|███████▍                                                                                                                                                           | 45/986 [54:00<21:36:14, 82.65s/it]"
     ]
    },
    {
     "name": "stdout",
     "output_type": "stream",
     "text": [
      "generated explanation: <pad> <extra_id_0> The man reduced the town to rubble out of hate<extra_id_1>. This is because hate is the act of destroying another person or group of people. This is done in a deliberate manner to gain control of the area and to destroy their resources. The man's goal was to destroy enemy resources and infrastructure, and to destroy their enemies. This was done in a deliberate manner to gain control of the area and to gain control over the resources. This was done in a deliberate manner to gain control of the area and to gain control over the area. The man was motivated by his hatred and to destroy the town, and to destroy the town. The man's hatred for his goal was to destroy the enemy. This was a deliberate act of hateful and to destroy the town. This was a calculated to gain control over the town and to become a powerful weaponry. The man's goal was motivated by his hatred and to gain control over the area and to destroy the town. This was a deliberate and a deliberate effort to gain control of the area and control over the town and to a powerful weaponized the town to a powerful weapon to attack. The man was a war-minded and control of the town. The man wanted to gain power and control over the town, but he was also motivated by his goal of a powerful and a powerful weapon was also able to gain control over the town and control of the area and control over the town. The man wanted to gain control over the land and to gain the ability to gain control the town and destroy the town without a war.</s>\n",
      "########\n",
      "*******\n",
      "question: The toddler thought it would be fun to try eating breakfast in bed, what resulted?\n",
      "answer: mess\n",
      "choices: ['contentment', 'indigestion', 'vomiting', 'mess', 'catastrophe']\n",
      "common expl list: [\"Toddlers like to explore and test their own boundaries. They often don't know their limits, and it's common for their behavior to result in a mess. In the toddler's case, it involved getting breakfast on the bed due to his inexperience\", \"Toddlers have poor coordination.  Even if they could somehow manage to not fall off the bed, it's likely that they would spill the food that they took with them to bed.  A mess would be made.\"]\n"
     ]
    },
    {
     "name": "stderr",
     "output_type": "stream",
     "text": [
      "\r",
      "  5%|███████▌                                                                                                                                                           | 46/986 [56:00<24:30:26, 93.86s/it]"
     ]
    },
    {
     "name": "stdout",
     "output_type": "stream",
     "text": [
      "generated explanation: <pad> <extra_id_0> The toddler thought it was fun to try eating breakfast in bed. This is because eating breakfast in bed is a fun activity for toddlers. It is especially fun when the toddler is hungry and wants to eat something different than what they normally eat at home. Eating breakfast in bed is a great way to introduce toddlers to the world of eating and preparing meals. Eating breakfast in bed is a great way to introduce toddlers to new experiences and new foods. It is easy to prepare and a great way to introduce them to a variety of different types of dishes, and vegetables, and other breakfast. The toddlers can also be fun activity for toddlers, such as eating breakfast in bedtime. Eating breakfast in bedtime can be a fun activity that can be a great way to get to help them get ready for the day. Eating breakfast in bed can be challenging for toddlers. Eating breakfast in the morning can also be a fun activity for toddlers to learn to try new foods and help them learn how to prepare breakfast in bedtime. Eating breakfast in bed can be a fun for toddlers to learn new foods and fun. Eating breakfast in bed can help teach toddlers to prepare breakfast in bed. Eating breakfast in bed can be a fun activity that a fun activity that the toddler to learn to learn new foods and help them learn to prepare breakfast in the morning can be a great way to teach them important lesson that they can also be a great way to teach them how to a healthy portion size and how to prepare breakfast can be a fun for them. It can be a fun for toddlers to learn and how to a fun activity that they can be a fun for them to a great way to help them grow their toddlers can help them to a fun and a fun activity that a fun and make them eat and a fun and<extra_id_27> </s>\n",
      "########\n",
      "*******\n",
      "question: He had a hard time getting his father's attention, he hoped that the winning baseball game would finally get him some what?\n",
      "answer: recognition\n",
      "choices: ['confirmation', 'celebrating', 'pride', 'recognition', 'happiness']\n",
      "common expl list: ['One way to gain recognition from ones parents is by accomplishing things that they value. For example, children might hope to make their parents proud of them by excelling at sports.']\n"
     ]
    },
    {
     "name": "stderr",
     "output_type": "stream",
     "text": [
      "\r",
      "  5%|███████▋                                                                                                                                                          | 47/986 [58:31<28:57:11, 111.00s/it]"
     ]
    },
    {
     "name": "stdout",
     "output_type": "stream",
     "text": [
      "generated explanation: <pad> <extra_id_0> The winning baseball game was a big deal to the young boy, and he was hoping that it would finally get him recognition from his father. The winning pitcher had a great chance to get his father's attention, and he was sure to get his dad's attention. The winning pitcher had a great chance to get his father's attention, and he knew that he could count on his father to be a good father and to be a good friend. The winning pitcher had a great chance to show his father that he had his father had his son, and he could get his father's attention. The winning pitchers game was able to get his father's attention from his son's father's attention and he needed to get his father's attention. The winning pitchers game was also a great way to get his son's attention from his father's attention from his father's attention. The winning pitcher had a great chance to show his son's attention and get his father's attention from his father's appreciation for his son's attention and his father's appreciation for his father's appreciation for his father's appreciation. The winning pitchers a great opportunity to get him a recognition from his father's attention back his father's attention from his father's attention from his father's attention by winning baseball team. The winning baseball could get him a recognition from his father's attention from his son's attention from his recognition from his father's recognition from his son's attention from his father's attention from his father's recognition from his own attention. The winning team was a great opportunity to show his father's appreciation of his<extra_id_27> The winning baseball game was a great way to get his father's attention was a great opportunity to get his attention from his father's attention was he was a great baseball game, and he could get his father's attention from his father's attention and a great opportunity to his father. The winning baseball game helped him to get his father's attention because he was a great opportunity to his attention and a baseball team to get him recognition of his attention was a great baseball team and a great baseball team and<extra_id_27> </s>\n",
      "########\n",
      "*******\n",
      "question: The toddler is awaking from a nap, what doesn't he feel anymore?\n",
      "answer: tiredness\n",
      "choices: ['nervous', 'eyes opening', 'getting out of bed', 'tiredness', 'discomfort']\n",
      "common expl list: ['Children can easily get tired at their ontervall and a nap is an effective way for them to get over tiredness. Then when they wake up, they do not feel tiredness any longer.']\n"
     ]
    },
    {
     "name": "stderr",
     "output_type": "stream",
     "text": [
      "\r",
      "  5%|███████▉                                                                                                                                                          | 48/986 [59:55<26:49:09, 102.93s/it]"
     ]
    },
    {
     "name": "stdout",
     "output_type": "stream",
     "text": [
      "generated explanation: <pad> <extra_id_0> The toddler is awaking from a nap and doesn't feel tired anymore. This is because he is tired and tired of the nap and the nap is over. Tiredness is a common sign of tiredness in children, especially young children. It is a sign that the child is tired and that the child is tired. Tiredness is a sign that the child is tired and that the child is not feeling well. The toddler is tired and tired because the child is unable to focus and concentrate, which can lead to tantrumps, which is awoke. Tiredness is a tiredness. The toddler is tiredness is tiredness is awaking from waking. Tiredness is a sign of the child is tiredness and tired. The toddler is tired and it is awaking from the nap and it is waking up with the child is tired and awoke up with the feeling of tiredness is awaking from waking and the toddler is tired and waking up. Tired of the toddler is awakened and a tiredness is awaking up and this is a sign of fatigue. Tired, the toddler is awake and it is waking the child is tired and awaking from awaking from waking and awaking from waking and sleep is waking from a tired and awake and tiredness is waking up and awaking up and awakened from waking and feeling tired and tired.</s>\n",
      "########\n",
      "*******\n",
      "question: John listened to music when he needed to focus.  It helped him achieve what?\n",
      "answer: quiet mind\n",
      "choices: ['express emotion', 'beautifull', 'irritate', 'bad environment', 'quiet mind']\n",
      "common expl list: [\"There's scientific evidence that listening to music can help people think better and concentrate easier.\", 'Music can, at the very least, provide passive background noise as one works to help one focus. More specifically, music might have positive, uplifting or emotional qualities that are conducive to focus and concentration.', \"When one is trying to focus on a task, it's common to listen to music to help one focus.\"]\n"
     ]
    },
    {
     "name": "stderr",
     "output_type": "stream",
     "text": [
      "\r",
      "  5%|████████                                                                                                                                                         | 49/986 [1:00:41<22:19:14, 85.76s/it]"
     ]
    },
    {
     "name": "stdout",
     "output_type": "stream",
     "text": [
      "generated explanation: <pad> <extra_id_0> John listened to music when he needed to focus when he needed to. It helped him achieve what he needed to achieve: quiet mind. This is because music is a relaxing and peaceful form of stimulation. It helps to relax the mind and helps to relax it. It also helps to keep the mind focused and focused. This is because music helps to keep the mind quiet and focused. It helps to keep the mind quiet and focused. It helps to keep the mind focused and calm. Music helps to keep the mind quiet and focused when listening to quiet and helps to help focus. It also helps to keep the mind and focused. It also helps to keep the mind quiet and focused and to focus. It helps to keep the mind quiet and helps to focus and to focus. It also helps to keep the mind quiet and focused. It helps to keep the mind quiet and focused. It helps to keep the mind focused and alert and alert. It helps to keep the mind focused and focused and alert. Music helps to keep the mind quiet and focused and alert. It helps to keep the mind quiet and alert. It also helps to keep the mind quiet and focused. It helps to keep the mind focused and focused. It helps to keep the mind quiet and focused.</s>\n",
      "########\n",
      "*******\n",
      "question: If I were to suffer from sudden illness I would be within reason to visit where?\n",
      "answer: hospital\n",
      "choices: ['nursing home', 'hospital', 'brain', 'elderly person', 'building']\n",
      "common expl list: ['A hospital is a center for treatment and care of those suffering from illness.', 'A hospital is a place where people go to receive treatment for illnesses.', 'If you were suddenly suffering an illness, it would be a reasonable thing to go to the hospital for treatment of that illness.', 'Anyone can suffer a sudden illness, but hospitals are where the equipment and personnel exist to deal with sudden illnesses.']\n"
     ]
    },
    {
     "name": "stderr",
     "output_type": "stream",
     "text": [
      "\r",
      "  5%|████████▏                                                                                                                                                        | 50/986 [1:01:40<20:13:25, 77.78s/it]"
     ]
    },
    {
     "name": "stdout",
     "output_type": "stream",
     "text": [
      "generated explanation: <pad> <extra_id_0> If I were to suffer from sudden illness I would be within reason to visit a hospital because it is the only place that I would be able to get treatment for it. Hospitals are also the only place that can provide the care that is necessary to treat the illness and to provide the patient with the best possible chance of recovery. Hospitals are also the only place that can provide the care that is necessary to ensure that the patient is receiving the best possible care. Hospitals are also the only place that can provide the care that is necessary to ensure that the patient receive the best possible. Hospitals are also the best a hospital emergency and emergency situations where the patient is admitted to receive the best possible. Hospitals are also often the patient’s that provide the best possible. Hospitals are also the only place that can provide the patient with the best possible to receive the best possible. Hospitals are also the best treatment options available to provide the best possible. Hospitals are also able to provide the patient with the best possible to get treatment. Hospitals are also the only able to provide the best care and are able to provide the best care and the patient with the best care. If you were to provide the best care, it is a hospital is able to provide the patient’s needs. This is important because it is a safe and a safe and can provide the best care.</s>\n",
      "########\n",
      "*******\n",
      "question: John kept standing up.  He was afraid that if he were sitting down he might do something. What might he be afraid of?\n",
      "answer: fall asleep\n",
      "choices: ['fall asleep', 'being supported on chair', 'comfort', 'clowns', 'flatulence']\n",
      "common expl list: ['When standing, the chances of falling asleep abruptly would be much less (assuming that one is awake).', 'Sitting down makes one comfortable; sitting down with eyes closed makes one fall asleep.']\n"
     ]
    },
    {
     "name": "stderr",
     "output_type": "stream",
     "text": [
      "\r",
      "  5%|████████▎                                                                                                                                                        | 51/986 [1:02:07<16:12:06, 62.38s/it]"
     ]
    },
    {
     "name": "stdout",
     "output_type": "stream",
     "text": [
      "generated explanation: <pad> <extra_id_0> John was afraid that if he sat down he might fall asleep. This is because he was afraid that if he sat down he might do something that would cause him to fall asleep. This is because John was afraid that if he sat down he might fall asleep. This is because sitting down is not a comfortable position for anyone. It is also not a place where he can relax and unwind. This is because sitting down is not a comfortable position for anyone to fall asleep. John was afraid of falling asleep. He was also afraid that he would fall asleep. He was afraid that if he fell asleep, and then he would fall asleep. If he fell asleep, he would fall asleep and fall asleep, he would be afraid of falling asleep. If he fell asleep, he would fall asleep, he would be unable to wake up and fall asleep, he would be afraid of falling asleep. If he fell asleep, he could be afraid of falling asleep and fall asleep.</s>\n",
      "########\n",
      "*******\n",
      "question: He didn't know that good things can be posion in large doses.  He thought that he was just eating an essential what?\n",
      "answer: nutrient\n",
      "choices: ['antidote', 'consumable', 'nutrient', 'vitamin', 'medicine']\n",
      "common expl list: ['He thought that he was just eating an essential nutrient, but in large doses, it could be poisonous.']\n"
     ]
    },
    {
     "name": "stderr",
     "output_type": "stream",
     "text": [
      "\r",
      "  5%|████████▍                                                                                                                                                        | 52/986 [1:03:11<16:23:07, 63.16s/it]"
     ]
    },
    {
     "name": "stdout",
     "output_type": "stream",
     "text": [
      "generated explanation: <pad> <extra_id_0> He thought that he was just eating an essential nutrient because it is a nutrient that is essential to the body. Essential nutrients are essential to the body and are found in many foods. Essential nutrients are essential to the body and are essential to the body's health. Essential nutrients are found in many foods and can be found in large doses. Essential nutrients are found in fruits, vegetables, and nuts. Essential nutrients are found in many foods and can be found in many different forms. Essential nutrients are found in many foods and vegetables, such as vitamins, minerals, and other nutrients are important for health. Essential nutrients are found in many foods, such as protein, vitamin, calcium, vitamin D-rich in the body. Essential nutrients are found in many different forms. Essential nutrients are also found in foods like calcium, iron, calcium, calcium, and other essential to maintain health. They can be found in many different levels of various foods, such as iron, calcium, vitamin D-rich in all of the body. Essential nutrients are also found in many other foods, such as calcium, and iron, and vitamin D. They are found in many foods, such as vitamin D, as calcium, potassium, vitamin D, vitamin D and vitamin D, and D, like vitamin E, and vitamin D, and vitamin D. They can also be found in many other essential nutrients, such as vitamin C, and vitamin D, and other essential nutrients found in foods, such as vitamins, and minerals, like vitamin, and other nutrients, and protein.</s>\n",
      "########\n",
      "*******\n",
      "question: The police didn't pay any favors, their job was to what?\n",
      "answer: force law\n",
      "choices: ['force law', 'board vessels', 'arrest', 'arm weapons', 'direct traffic']\n",
      "common expl list: ['Police are usually tasked with upholding the law, and if they see a law being broken they will intervene (forceful intervention); moreover, they also coordinate with other officers (direct traffic and board vessels). These activities do not involve favors.']\n"
     ]
    },
    {
     "name": "stderr",
     "output_type": "stream",
     "text": [
      "\r",
      "  5%|████████▋                                                                                                                                                        | 53/986 [1:04:25<17:12:04, 66.37s/it]"
     ]
    },
    {
     "name": "stdout",
     "output_type": "stream",
     "text": [
      "generated explanation: <pad> <extra_id_0> The police's job was to protect and serve the public by using force and force law. The police's job was to enforce the law and protect the public by using force and force when necessary. The police's job was to enforce the law and protect the public by using force and force. The police were there to enforce the law and protect the public by using force and force law. This is because the police were there to enforce the law and enforce the law by enforcing the law and enforcing the law. The police were there to enforce the law and to protect the public. The police were there to enforce the law and to protect the public safety. They were also there to protect the public from dangers. The police were there to protect the public by using force to ensure that the public safety. They were not trying to get away from the public. They were there to enforce the law and to protect the public. The police were there to ensure that the public was not victim's safety and that the public's property was not in the community. The police were there to protect the public. They were there to enforce the public. The police were there to protect the public. The public by using force to enforce the law and to enforce the public. The police were there to protect the public and protect the public. The police were there to enforce the law and protect the public, and enforce the law and to protect the public. The police were there to enforce the law and enforce the public. The police were there to protect the public.</s>\n",
      "########\n",
      "*******\n",
      "question: The place specialized in colorful arrangements, but the also had a toy balloon or two where?\n",
      "answer: flower shop\n",
      "choices: ['see work', 'birthday party', 'flower shop', 'parade', 'toy store']\n",
      "common expl list: ['Batches of balloons are available at flower shops, where floral arrangements are sold, and rainbow contruction paper is usually found in art shops and classrooms.', 'Flower shops sell interesting arrangements made with colorful flowers.']\n"
     ]
    },
    {
     "name": "stderr",
     "output_type": "stream",
     "text": [
      "\r",
      "  5%|████████▊                                                                                                                                                        | 54/986 [1:04:55<14:19:57, 55.36s/it]"
     ]
    },
    {
     "name": "stdout",
     "output_type": "stream",
     "text": [
      "generated explanation: <pad> <extra_id_0> A flower shop is a place where you can buy flowers, plants, and other accessories. The shop specializes in colorful arrangements, which can include a variety of colors and shapes. The shop also has a toy balloon or two. The shop specializes in colorful arrangements, which can include flowers, plants, and flowers. The shop specializes in colorful arrangements, and the toy balloons are typically small, round, and plastic. The toy balloons are usually made of plastic, and are usually found in the toy section. The shop is a place that specialized in the toy balloons. The shop also offers a variety of colorful and other items, such as a variety of flowers, and other items, such as colorful toy balloons, and other items such as a variety of different types of flowers, such as bouquets, and bud, and a variety of flowers, as a variety of seasonal flowers, such as bouquets, or arrangements, and toys. The toy balloons are often found in the shop. The toy balloons are often a gift, such as </s>\n",
      "########\n",
      "*******\n",
      "question: Where was there never any mammoth?\n",
      "answer: zoo\n",
      "choices: ['wild', 'north dakota', 'forest', 'movie', 'zoo']\n",
      "common expl list: ['Mammoths are extinct, and zoos are places where animals are kept for observation and study.']\n"
     ]
    },
    {
     "name": "stderr",
     "output_type": "stream",
     "text": [
      "\r",
      "  6%|████████▉                                                                                                                                                        | 55/986 [1:05:33<12:59:26, 50.23s/it]"
     ]
    },
    {
     "name": "stdout",
     "output_type": "stream",
     "text": [
      "generated explanation: <pad> <extra_id_0> In a zoo, there are usually many animals that are not mammals, such as elephants, lions, and tigers. In a zoo, there are usually many animals that are mammals, such as lions, tigers, and apes. In a zoo, there are usually many animals that are not mammals, such as giraffes, and other mammals. In a zoo, there are usually many animals that are not mammals. In a zooooooooooooooooooooooooooooooooooooooooooooooooooooooooooots. The animals are often found in the wild, and in the wild animals are kept in the zooooooooooooooooooooooooooa place where there are also known as zoooooooo<extra_id_27> </s>\n",
      "########\n",
      "*******\n",
      "question: Why do most people engage in chatting with friends?\n",
      "answer: fun\n",
      "choices: ['fun', 'love', 'answers', 'inspiration', 'relaxation']\n",
      "common expl list: ['Chats with friends are often fun, and thus people engage in them for that reason.']\n"
     ]
    },
    {
     "name": "stderr",
     "output_type": "stream",
     "text": [
      "\r",
      "  6%|█████████▏                                                                                                                                                       | 56/986 [1:06:23<12:58:04, 50.20s/it]"
     ]
    },
    {
     "name": "stdout",
     "output_type": "stream",
     "text": [
      "generated explanation: <pad> <extra_id_0> In a chatting with friends, the person is engaging in a conversation that is intended to be fun and interesting. This is because chatting is a social activity that is meant to be social and it is a way for people to have fun. It is a way for people to meet new people and share experiences. It is also a time for socializing and getting to know each other. This is because it is a form of social interaction that is intended to be social and it can be a form of bonding and it can be used to create a fun and it can be used to create fun and share stories, and other fun. It can be used to make jokes, and to share stories, jokes, or share funny stories. It can also be a way to create fun. It can be used to share personal and network with friends. It can be used to create a fun conversation with friends and support one another person. It can be used to share information and help them to share stories, share and support each other. It can be used to share and support one another way to connect with people. It can be used to share and support each other. It can be used to create a social and support each other. It can also be used to help them to support each other.</s>\n",
      "########\n",
      "*******\n",
      "question: What could happen after discovering truth that you did not want to know?\n",
      "answer: pain\n",
      "choices: ['pain', 'relief', 'grey hair', 'understanding', 'enlightenment']\n",
      "common expl list: ['Truth can be painful, and discovering it can cause pain.']\n"
     ]
    },
    {
     "name": "stderr",
     "output_type": "stream",
     "text": [
      "\r",
      "  6%|█████████▎                                                                                                                                                       | 57/986 [1:07:55<16:10:22, 62.67s/it]"
     ]
    },
    {
     "name": "stdout",
     "output_type": "stream",
     "text": [
      "generated explanation: <pad> <extra_id_0> The pain of discovering the truth can be intense and it can be difficult to bear. The pain can be a result of many things, including the discovery of a new relationship, a job loss, or a new relationship. The pain can also be caused by the body’s natural response to the truth, such as a change in your body, or a new relationship. The pain can be a result of stress, anxiety, or even depression. The pain can be caused by the body’s reaction to the truth and the body. The truth can also cause pain. The pain is a result from the truth can cause serious injury or even cause by the body. The pain can also be caused by the body’s own body. The truth can also cause pain from the body. The pain can also be caused by the body’s reaction to the truth. The pain can also be caused by the body’s own a result from the discovery of the truth. The pain can be caused by the discovery of the body’s reaction to the pain. The pain can be caused by the discovery of a number of emotions that are caused by the truth. The pain can be caused by the discovery of the truth and the body’s response to the truth and the body. The pain can be caused by the discovery of new information. The truth can be caused by the truth. The pain is a result from the discovery of the truth. The truth can also be caused by the truth. The pain can be caused by the discovery of new relationships can be caused by the discovery of a new relationships, or by the discovery of truth can be caused by the discovery of a new information. The pain can also be caused by the discovery of new relationships can be a result in the discovery of new relationships.</s>\n",
      "########\n",
      "*******\n",
      "question: What will an athlete do to warm up their legs?\n",
      "answer: jog\n",
      "choices: ['use heater', 'sprint', 'jog', 'run fast', 'compete']\n",
      "common expl list: ['When athletes warm up before swimming, running, riding a bike, or performing other physical activity, they generally will jog (which will help them loosen muscles in the legs).', 'warming up is a routine that is performed to either prepare for doing something new, or prepare for doing something which put strains on you, or which you have been out of practice doing.']\n"
     ]
    },
    {
     "name": "stderr",
     "output_type": "stream",
     "text": [
      "\r",
      "  6%|█████████▍                                                                                                                                                       | 58/986 [1:08:41<14:51:47, 57.66s/it]"
     ]
    },
    {
     "name": "stdout",
     "output_type": "stream",
     "text": [
      "generated explanation: <pad> <extra_id_0> A jogger is a runner who is trying to warm up their legs. This is because jogging is a great way to get their heart rate up and their blood flowing. It also helps to warm up the muscles in the legs. Jogging is a great way to get a good cardiovascular workout in. Jogging helps to increase blood flow to the legs, which is essential for a healthy heart rate. Jogging is a great way to warm up your legs and improve your aerobic endurance. Jogging can help to keep your heart rate. This will also help to keep your heart rate up your heart rate. This will also help to keep your heart rate and your body temperature. It is important to keep your heart rate so that your body is ready to recover from the cold. Jogging helps to improve overall health. Running is also a great way to improve your overall fitness. It will also help to keep your mind you a strong and improve your overall health. Running can help to improve your cardiovascular health. It can also help to improve your endurance. Jogging will help to keep your legs warm up your body temperature. This will help your legs warm up your heart rate and will help your metabolism. This will help to increase your heart rate and will also help your legs in addition to improve your heart rate. It will also help to improve your heart rate and improve your endurance. This will help to increase your heart rate and improve overall health.</s>\n",
      "########\n",
      "*******\n",
      "question: Where can you keep your binder on your person between periods of instruction?\n",
      "answer: backpack\n",
      "choices: ['class room', 'car', 'office supply store', 'backpack', 'bookcase']\n",
      "common expl list: ['Usually binder users carry their binders from class to class outside of the classroom. Backpacks are often convenient, and are large enough to hold the binder.']\n"
     ]
    },
    {
     "name": "stderr",
     "output_type": "stream",
     "text": [
      "\r",
      "  6%|█████████▋                                                                                                                                                       | 59/986 [1:09:32<14:19:59, 55.66s/it]"
     ]
    },
    {
     "name": "stdout",
     "output_type": "stream",
     "text": [
      "generated explanation: <pad> <extra_id_0> A backpack is a great way to keep your binder on your person during periods of instruction. It can be used to keep your binder organized and in place. It can also be used to carry a laptop or tablet computer. A backpack is a great way to carry your binder on your person during periods of instruction. It can be used to carry a notebook, a list of information, and other materials. A backpack is also a great way to keep your binder on hand during instruction. A backpack is a great way to store your binder in the backpacks can be used to store information. A backpack can also be used to store your binders in a backpack for a notebook or a notebook or a laptop. A backpack can also be used to store information and to store your binder in a backpack. A backpack can be used to store your binder in a backpack is a backpack can be used to store your binders in a backpack for reference material in a backpack for reference book or a binder in a backpack for reference material. A backpack is a great way to store your binder while on your next to your backpack. A backpack can be used to store your binder in a backpack for a longer term to store your binder in a backpack for a backpack for a longer term of course of instruction or for a period of instruction for a course of course of instruction for a binder in a backpack for a student</s>\n",
      "########\n",
      "*******\n",
      "question: In the middle of the day what will someone do because of being hungry?\n",
      "answer: have lunch\n",
      "choices: ['cook dinner', 'make bread', 'eat in restaurant', 'have lunch', 'make bread']\n",
      "common expl list: [\"It's common for folks to have lunch during the middle of the day.\", 'People often eat lunch at midday, and so, if they are hungry at midday, they might go to a restaurant to eat lunch.']\n"
     ]
    },
    {
     "name": "stderr",
     "output_type": "stream",
     "text": [
      "\r",
      "  6%|█████████▊                                                                                                                                                       | 60/986 [1:10:02<12:17:35, 47.79s/it]"
     ]
    },
    {
     "name": "stdout",
     "output_type": "stream",
     "text": [
      "generated explanation: <pad> <extra_id_0> During the middle of the day, people who are hungry will often eat lunch. This is because lunch is a meal that is usually prepared by the person themselves. Lunch is a meal that is usually prepared by the person themselves. It is a meal that is usually a snack or meal that is usually a meal that is served hot or cold. This is because lunch is usually a meal that is served at a restaurant or other nearby places. This is because it is a meal that is usually served at a restaurant or dinner. Lunch is often a day, and it is often times when someone is hungry. Lunch is usually a meal that is usually a sandwich or dinner. Lunch is a great way to a great way to filling lunch and filling, and fills up the appetite. Lunch is also a great way to filling and fills delicious and filling. Lunch is also a great way to get rid of the day of the stress that can make it easier to take the lunch time to get back to get back to get back to work. Lunch is a great way to get back to get back to work or a later.</s>\n",
      "########\n",
      "*******\n",
      "question: Where is garbage brought to by garbagemen?\n",
      "answer: landfill\n",
      "choices: ['trashcan', 'landfill', 'television', 'computer', 'dumpster']\n",
      "common expl list: ['Landfills are where all the trash in the city go to.']\n"
     ]
    },
    {
     "name": "stderr",
     "output_type": "stream",
     "text": [
      "\r",
      "  6%|█████████▉                                                                                                                                                       | 61/986 [1:10:58<12:57:10, 50.41s/it]"
     ]
    },
    {
     "name": "stdout",
     "output_type": "stream",
     "text": [
      "generated explanation: <pad> <extra_id_0> The landfill is a place where garbage is brought to collect and dispose of. It is a place where garbage is collected and disposed of in a safe and controlled manner. The landfill is a place where garbage is disposed of in a manner that is safe and appropriate for the environment. The landfill is a place where the environment is protected and the public is protected. The landfill is a place where garbage is disposed of in a manner that is environmentally friendly and safe for the environment. The landfill is a place where garbage is a waste that is a place where the garbage is a place of trash that is thrown away. The landfill is a place where the public can be found in a landfill, which is a place where the garbage is thrown away. The landfill is a place where the public is disposed of trash is thrown out in a safe and clean environment. The landfill is a place where the garbage is disposed of the public health and safety. The landfill is a place where the public can be disposed of any thrown away. The landfill is a safe and disposed of a safe and clean environment. It is a safe place where garbage is disposed of a safe place for the environment. The landfill is a safe and a safe and a safe and is a safe and a safe place to dispose of any other types of a safe and is a safe and safe place where the garbage is a safe place to dispose of garbage is a safe and a safe environment.</s>\n",
      "########\n",
      "*******\n",
      "question: What are people doing when washing hands for a long time?\n",
      "answer: thinking\n",
      "choices: ['thinking', 'sleeping', 'use soap', 'irritation', 'cleaning dirt off']\n",
      "common expl list: ['People often just pause while washing their hands. It may be that they are thinking about something while this occurs naturally.', 'People often think about things while they are washing their hands, and this is a good time to think about things.']\n"
     ]
    },
    {
     "name": "stderr",
     "output_type": "stream",
     "text": [
      "\r",
      "  6%|██████████                                                                                                                                                       | 62/986 [1:11:50<13:05:25, 51.00s/it]"
     ]
    },
    {
     "name": "stdout",
     "output_type": "stream",
     "text": [
      "generated explanation: <pad> <extra_id_0> When people wash hands for a long time, they are<extra_id_2> Thinking is a process of thinking that occurs when we think about what we are doing and how we are doing it. For example, when we are thinking about what we are doing, we are thinking about what we are doing, and what we are going to do with our hands. Thinking about what we are doing, and how we are going to do it. When we think about what we are doing, we are thinking about what we are doing. For example, we are thinking about what we are we are doing this while we are doing. Thinking about what we are doing it is to think about what we are doing. This is a long time and how we are doing it. When people are thinking about what they are doing, they are doing, we are doing, we are doing, or not so we are thinking about what we are doing. When we are thinking about what we are doing, we are doing, we are doing, we are doing. Thinking about what we are doing, and how we are doing it. When people are thinking about what we are doing, we are thinking about what we are doing, and thinking about what we are doing, and what we are doing. When we are thinking about what it is important to think about what we are doing, and what we are doing it. Thinking about what we are doing, and how to think about it. Thinking about what we are doing.</s>\n",
      "########\n",
      "*******\n",
      "question: What would someone say about a tube television?\n",
      "answer: obsolete\n",
      "choices: ['obsolete', 'addictive', 'entertaining', 'bycone', 'legal']\n",
      "common expl list: ['Tube televisions are obsolete, meaning that they are old and was abolished by newer technology.', 'Tube televisions are no longer manufactured, and are therefore obsolete.']\n"
     ]
    },
    {
     "name": "stderr",
     "output_type": "stream",
     "text": [
      "\r",
      "  6%|██████████▎                                                                                                                                                      | 63/986 [1:13:08<15:07:32, 58.99s/it]"
     ]
    },
    {
     "name": "stdout",
     "output_type": "stream",
     "text": [
      "generated explanation: <pad> <extra_id_0> A tube television is a type of electronic device used in a variety of applications such as home entertainment, television, and other similar technologies. It is a flat screen television that is typically mounted on a wall and consists of a tube and a power supply. It is designed to be used in a variety of ways, including indoors and outdoors. It is also a convenient way to store and transport items, such as books, magazines, and other items. It is also a convenient way to view movies and other media. It is also a great way to get rid of any other obsolete television. It is a tube television that is not a tube television. It is a great way to get to watch movies and other features, and other technologies. It is also a great way to see the way. It is a great way to get a picture and sound. It is also a great way to get a great way to see the world. It is also a great way to get rid of a great way to get a great way to get information. A tube is a great way to get information and entertainment that is a great way to get a great way to get a great way to get a great way to get a great way to get a great way to get a great way to get a great way to get a great way to get a great way to get rid of clutter and a great way to get rid of a great way to get rid of getting to get a lot of clutter and make it look great way to get a great way to a great way to get a great way to get a great way to get a great way to see how to get a great a great deal.</s>\n",
      "########\n",
      "*******\n",
      "question: The man drank his coffee at work?\n",
      "answer: office\n",
      "choices: ['coffee shop', 'table', 'kitchen', 'office', 'chair']\n",
      "common expl list: ['The man is likely to be at work, and offices often have kitchens where coffee is made.', 'People often drink coffee at offices, with other co-workers.', 'The man probably works in an office where he could have a cup of coffee while behind his desk.']\n"
     ]
    },
    {
     "name": "stderr",
     "output_type": "stream",
     "text": [
      "\r",
      "  6%|██████████▍                                                                                                                                                      | 64/986 [1:14:41<17:42:19, 69.13s/it]"
     ]
    },
    {
     "name": "stdout",
     "output_type": "stream",
     "text": [
      "generated explanation: <pad> <extra_id_0> Coffee is a staple part of office culture, as it is a source of energy, stimulation, and a source of energy. It is often served in a coffee-cupped cup at the office, where it is a common practice to drink coffee. This is because it is a common way to keep up with the demands of the day and keep the mind sharp. Coffee is a beverage of choice for employees at all levels of experience, and it is often used to improve productivity. It is a popular way to keep alert the man a coffee brew coffee is a great way to keep up his coffee cup of coffee in the office is a great way to boost his coffee and energy. It is also a great way to keep his mind a great way to stay awake and alertness. Coffee is also an excellent way to keep the mind and energy-saving drink. Coffee is also a great way to boost morale more efficient and boosts his performance. It is also a great way to keep up and keep his coffee in the office. It is also a great way to keep up to stay awake and keep busy. It is a healthy way to keep him awake and stay awake during the office. It is also a great way to keep his mind and brain active and keep him alert and alert. Coffee is a great way to stay awake and alert and alert and to keep him motivated. It is a great way to keep him awake and alert and alert. It is also a great way to stay alert and helps to stay awake and alert throughout the office environment. Coffee is a great way to stay motivated and helps to stay awake during the office. It is also a great way to keep him awake and helps to stay focused and focus and alert. It is a great way to stay focused and keep him alert and alert, and alert. Coffee is a great way to stay focused and to keep up with coffee is a great way to stay motivated. Coffee is also a great way to keep you alert, and alert, and helps to keep you awake and alert. Coffee is also a great way to stay awake.</s>\n",
      "########\n",
      "*******\n",
      "question: What can he do to eliminate his ignorance?\n",
      "answer: learn new\n",
      "choices: ['find information', 'judge', 'do some research', 'find truth', 'learn new']\n",
      "common expl list: ['Ignorance is the state of not knowing something, and to eliminate ignorance, one must learn new things.', \"Learning is a way to eliminate ignorance; for example, learning a foreign language is one way to eliminate ignorance of that language's grammar.\", 'In this context, ignorance refers to a lack of knowledge, and obtaining new knowledge is the best way to eliminate the ignorance.']\n"
     ]
    },
    {
     "name": "stderr",
     "output_type": "stream",
     "text": [
      "\r",
      "  7%|██████████▌                                                                                                                                                      | 65/986 [1:15:10<14:35:14, 57.02s/it]"
     ]
    },
    {
     "name": "stdout",
     "output_type": "stream",
     "text": [
      "generated explanation: <pad> <extra_id_0> s that will help him eliminate his ignorance. Learn new information that will help him eliminate his ignorance. For example, he can learn how to use a computer to make a phone call, or how to use a webcam to make a call. Learn new information that will help him understand the world around him. This will help him become more informed and aware of the world around them. This will also help him understand the importance of maintaining a healthy lifestyle. Learn new information that will help him make informed decisions. This will help him to help him to make informed decisions. Learn new information about the world. Learn new techniques and techniques to help him become more aware of the world around him. Additionally, learn new information that will help him to recognize the world around him. This will help him become more aware of the information that will help him to make better understand the world around him. Learn more about the Internet and how to make decisions. This will help him make better informed decisions about how to make better informed decisions. Learn new information that will help him make better decisions. Learn new information will help him to make better decisions. This will help him to make better decisions that will help him to make better informed decisions.</s>\n",
      "########\n",
      "*******\n",
      "question: What do humans do when in a race?\n",
      "answer: compete with each other\n",
      "choices: ['lay eggs', 'eat fruit', 'wrestle', 'compete with each other', 'draw pictures']\n",
      "common expl list: ['Humans are naturally athletic and competitive. On land, people will compete with each other by running or wrestling. Often humans race on water by swimming, or by boating with other people.']\n"
     ]
    },
    {
     "name": "stderr",
     "output_type": "stream",
     "text": [
      "\r",
      "  7%|██████████▊                                                                                                                                                      | 66/986 [1:16:17<15:20:34, 60.04s/it]"
     ]
    },
    {
     "name": "stdout",
     "output_type": "stream",
     "text": [
      "generated explanation: <pad> <extra_id_0> Humans compete in a race when they are in a group of humans. This is because humans are social creatures and as such, they are naturally competitive. This competition is a natural outcome of the human race. Humans compete with each other to be the best at what they do. This competition is a form of physical competition between humans, which is a form of physical competition. It is a form of competition between humans for the right to be the best at what they do. This competition is a form of competitiveness that is a group of people who are a team, and for the best performance. Humans are also in a group, which makes them more competitive. Humans compete with each other to win over a competitive group. This is a competitive spirit. Humans are also a competitive spirit and a group of human race. Humans are competitive in a group of people are competitive and a great way to get the best at the right to win the best at the best. Humans are also a great way to get to get better at the best at the best at the most. In a race, humans are able to get the best at their best at the best at their best at the best at their best at their best. This is because it is also a way to get better at their best at the best at the best at the best at the best at the best at the best at what they can do to do is a great way to get to get the best at the best at it. However, it can be challenging, as it can be tougher to compete for the best at it. In a competitive level, it can be difficult for humans to compete against each other to win.</s>\n",
      "########\n",
      "*******\n",
      "question: She explained that you won't always get what you want with a goal, but you should still do what with it?\n",
      "answer: reach for\n",
      "choices: ['know how to find', 'work hard', 'remember where', 'reach for', 'purchase']\n",
      "common expl list: ['Reaching for attained goals is more beneficial than simply working towards them, at least in the short term. It significantly increases your chances of success.']\n"
     ]
    },
    {
     "name": "stderr",
     "output_type": "stream",
     "text": [
      "\r",
      "  7%|██████████▉                                                                                                                                                      | 67/986 [1:16:52<13:24:08, 52.50s/it]"
     ]
    },
    {
     "name": "stdout",
     "output_type": "stream",
     "text": [
      "generated explanation: <pad> <extra_id_0> You should still reach for what you want with a goal, but you will not always get what you want with it. She explained that you won't always get what you want with a goal, but you should still reach for it. She also explained that goals are not always easy to reach. But reaching for a goal is still important because it is the only way to get what you want. So reaching for a goal is still important because it is the only way to reach your goal. And reaching for a goal is the only one of your goals and reach for what you want. The goal is also important because it is important to reach for the goal and the goal is important to reach for the goal is to reach for the goal and reach out and to reach out to reach for the goal and to reach for the opportunity to reach for. Goals are also important because they are important to get what you want. This is a goal is important because it is also important for the opportunity to reach for the goal is important to reach for the goal is important because it is important because it is important. It is also important to reach for the goal. It is important to reach for the right for the right opportunity to reach for the right goal.</s>\n",
      "########\n",
      "*******\n",
      "question: What happens when you eat hamburger too fast without swallowing?\n",
      "answer: choking\n",
      "choices: ['get full', 'drink', 'choking', 'hungry', 'getting fat']\n",
      "common expl list: ['Eating too fast can sometimes cause coughing / choking as food get stuck in your throat.', \"If you eat hamburger too fast, you might choke on it, because it's a solid food that can get stuck in your throat.\", \"Choking can occur when you stick stuff in your mouth which can't go down your throat properly, so that you can't breath. Common causes can be eating too fast, or swallowing items that can't go down your throat, like liquids or large\", \"When you eat hamburger too fast, it can quickly turn into the consistency of a block, and when you can't swallow it, it can cause you to choke.\"]\n"
     ]
    },
    {
     "name": "stderr",
     "output_type": "stream",
     "text": [
      "\r",
      "  7%|███████████                                                                                                                                                      | 68/986 [1:18:04<14:54:27, 58.46s/it]"
     ]
    },
    {
     "name": "stdout",
     "output_type": "stream",
     "text": [
      "generated explanation: <pad> <extra_id_0> When you eat hamburger too fast without swallowing, you can cause choking, which is a serious condition that can be life threatening. It can be fatal if you overeat it without taking a break. To avoid choking, you must swallow the food slowly and with a full mouth. This is because the hamburger is a highly palatable protein, which is essential for the body to function properly. To avoid choking, you must first take a bite of the hamburger slowly and carefully. Thened, you must swallow the hamburger quickly and then swallow the hamburger slowly and then swallow it can cause a severe condition. To prevent a serious injury or even death. To prevent you from choking, you from breathing. If you overeat, you from the hamburger, you need to keep your mouth open your stomach, it open to keep breathing throughout the food. If you swallow the hamburger too fast, you can cause a heart attack or stroke. Choking occurs when you are not breathing and can cause a heart rate of oxygenated stomach acidic condition. To help you are more oxygen-rich in your stomach. To avoid a heartbeat and a heart rate of oxygen to your stomach. This can be less than a heart attack or vomiting. To prevent choking, a choking, a heart rate too fast can cause vomiting and stomach. Toxten times to be able to swallow the stomach, it can cause a a heart rate too much of the stomach. To make it easier to swallow. To avoid choking, the stomach, which can be dangerous. To avoid a serious condition called a severe case, you need to take a serious condition, such as a heart rate, which can cause vomiting.</s>\n",
      "########\n",
      "*******\n",
      "question: John sat in a folding chair in a bit room with a stage.  What sort of room could that be?\n",
      "answer: auditorium\n",
      "choices: ['room', 'auditorium', 'meeting hall', 'school', 'church']\n",
      "common expl list: ['An auditorium is a large room that is used for public events, such as concerts, plays, and speeches.']\n"
     ]
    },
    {
     "name": "stderr",
     "output_type": "stream",
     "text": [
      "\r",
      "  7%|███████████▎                                                                                                                                                     | 69/986 [1:18:36<12:52:00, 50.51s/it]"
     ]
    },
    {
     "name": "stdout",
     "output_type": "stream",
     "text": [
      "generated explanation: <pad> <extra_id_0> A folding chair is a comfortable way to sit in a room with a stage and a stage. It can be a room with a stage, a room with a stage, a room with a stage, a room with a stage, or a room with a stage. An auditorium is a room that is used for performances, concerts, and other events. It is a large space, usually with a stage and a stage, and a stage is a large area of a stage. A stage is a large enough to accommodate a chair for John. The chair is usually a stage, and the audience. A stage is a comfortable place to sit in a folding chair in a folding chair is a large enough to accommodate John. The stage is a stage, which is often used for musical performance. The chair is usually a stage, and the audience. The stage is a large, and can be used for entertainment, or for a large space. The stage is a large enough to accommodate a large enough room for a large enough for a large enough space for a large enough for John to sit in a stage.</s>\n",
      "########\n",
      "*******\n",
      "question: What would an adult man do to get ready for work?\n",
      "answer: dress himself\n",
      "choices: ['dress herself', 'shower', 'dress himself', 'drink beer', 'drive train']\n",
      "common expl list: ['An adult man would dress himself for work: this includes putting on pants, shirts, and dresses, and typical choices are professional clothes, such as suit and tie.', 'Adult males commonly wear suits to work. Men might get dressed in the morning, particularly if they plan on wearing a suit for work.']\n"
     ]
    },
    {
     "name": "stderr",
     "output_type": "stream",
     "text": [
      "\r",
      "  7%|███████████▍                                                                                                                                                     | 70/986 [1:19:04<11:05:50, 43.61s/it]"
     ]
    },
    {
     "name": "stdout",
     "output_type": "stream",
     "text": [
      "generated explanation: <pad> <extra_id_0> A man is expected to dress for work at a certain time of the day. To get ready for work, he would need to dress in a certain way. This would include a suit, tie, and a tie. This would include a suit of clothing, shoes, and a jacket. The man would also need to have a suit and tie to wear to work. Dressing himself is a simple way to show that he is ready for work. Getting ready for work requires a lot of effort and a man must have a certain type of clothing. The man should also be aware of his work and his surroundings. The way he would also help him look more comfortable and confident and comfortable. The suit would also help him to feel more confident and look more relaxed and is more comfortable and comfortable. The man should also be able to work comfortably and look good looking good personality. Dressing for work is a professional appearance is important for a man who is able to work. It is also important to look and work. The man should also be well-fit to work. he needs to be able to look sharp and confident.</s>\n",
      "########\n",
      "*******\n",
      "question: What does one do at an office?\n",
      "answer: work\n",
      "choices: ['work', 'school building', 'workplace', 'skyscraper', 'public building']\n",
      "common expl list: ['One does work at the office', 'An office is a specific type of workplace.', 'An office is a place where people work.']\n"
     ]
    },
    {
     "name": "stderr",
     "output_type": "stream",
     "text": [
      "\r",
      "  7%|███████████▋                                                                                                                                                      | 71/986 [1:19:29<9:42:59, 38.23s/it]"
     ]
    },
    {
     "name": "stdout",
     "output_type": "stream",
     "text": [
      "generated explanation: <pad> <extra_id_0> At an office, one must work hard to achieve a high level of satisfaction. This is because they are in charge of a task that is expected to be completed within a given time frame. This includes a variety of tasks that include preparing, organizing, and reporting for a job. This includes preparing, preparing, and reporting for work. At an office, one must be able to perform a variety of tasks, such as preparing documents, preparing documents, and preparing reports. This includes preparing presentations, and presentations. The office is also required to provide a variety of skills that can be used to communicate with the company and provide a variety of tasks. In addition, one must be able to communicate with others and communicate effectively with them. This is a workplace where one can easily find it. Additionally, an office can be used to communicate with others, and to communicate with them. Finally, the office is a place of communications and communication is a great way to communicate effectively. This is especially important in the office, as it can be a great way to communicate with one can also be able to communicate effectively and effectively communicate with others. In addition to a good impression of oneself and to build up to communicate with the importance of office environment.</s>\n",
      "########\n",
      "*******\n",
      "question: When a person is on trial for killing, what is a jury likely to decide?\n",
      "answer: punishment\n",
      "choices: ['execution', 'investigation', 'going to jail', 'retribution', 'punishment']\n",
      "common expl list: ['A jury is likely to decide that the person is guilty of the crime, and punish them accordingly.', 'A person who has just killed another person often goes to trial, so the jury will likely have to decide what the most just punishment is.', 'When a jury decides that someone is guilty of a crime, they typically hand down a punishment.']\n"
     ]
    },
    {
     "name": "stderr",
     "output_type": "stream",
     "text": [
      "\r",
      "  7%|███████████▊                                                                                                                                                      | 72/986 [1:20:04<9:28:36, 37.33s/it]"
     ]
    },
    {
     "name": "stdout",
     "output_type": "stream",
     "text": [
      "generated explanation: <pad> <extra_id_0> A jury is likely to decide that a person is guilty of a murder<extra_id_2>. This is because a murder is a serious crime that can result in serious consequences. For example, a jury could find that a person was a threat to another person or that the person was a danger to the public. A jury could also decide that the person was a danger to the public and that the person was a danger to the public. A murder is a serious crime that can result in serious consequences. A murder conviction could also be considered a punishment for crimes. A jury could also be used to determine the punishment. A jury could also consider the person who is a potential punishment for the crime. A murder is a serious crime and a person is likely to receive a high risk for the jury. A jury could also be a person a punishment for a jury could be a serious crime. A murder charge a person is guilty of a murder victim’s family. A jury could be charged with a murder. A murderer is a serious crime. A murder is a serious punishment for a serious crime. A person is a case because a serious crime can be a serious crime or a crime.</s>\n",
      "########\n",
      "*******\n",
      "question: Most adult Americans split their time between home and what?\n",
      "answer: work\n",
      "choices: ['tent', 'work', 'apartment', 'the office', 'foreign']\n",
      "common expl list: ['Home and work may be the two places where most adult Americans spend most of their waking hours.', 'Most adults spend most of their time at work.']\n"
     ]
    },
    {
     "name": "stderr",
     "output_type": "stream",
     "text": [
      "\r",
      "  7%|███████████▉                                                                                                                                                     | 73/986 [1:21:22<12:30:50, 49.34s/it]"
     ]
    },
    {
     "name": "stdout",
     "output_type": "stream",
     "text": [
      "generated explanation: <pad> <extra_id_0> Most adult Americans split their time between home and work because work is the place where they spend most of their time. This is because work is the place where most adults spend most of their time. Work is the place where most adults spend most of their time. It is the place where most adults spend their time, and where most adults spend most of their time. Work is the place where most adults spend their time. Work is the place where they spend most of their time, and where they spend the most of their time. Work is the place where they live, and home. Home and work. Work is the place of their time. Work is where they are at home and at work. Work is where they are at home and at work. Work is the place where they are employed. Work is the place where they spend their time away from home and the day at work. Work is the place where they spend their time. Work is the place where they are able to spend their time at work. The work is the place where they are able to spend their time at the day. Work is the place where they are able to take care for their families and provide them with the time to be productive and productive. It is important to have a sense of accomplishment and where they can be a sense of accomplishments. Work is a place of opportunity to use their time to spend their time at home. Work is also important to keep them from home. Work is important to their time to spend their time at work. This is important because it allows them to spend their time at home and place where they can use their time to spend their time with their time away from home and work. This allows them to spend more time with their time with their time with their time. This is important because it allows them to focus on their time at work. It also a sense of belonging and a sense of belonging and a sense of belonging. Work is also important to be a place where they can be a sense of belongings. It is also a place of belonging and can be a place of belonging. It is a place of their life and allows them to spend time with their time with their time with their time at work. This is a place of purpose. This is important because it allows them to develop their time in a greater amount of their time at home and allows them to spend with their time with their time with their time spent with their family and social\n",
      "########\n",
      "*******\n",
      "question: Professionally the fighters always maintained a level of respect, but personally they held each other in what for things that were said?\n",
      "answer: contempt\n",
      "choices: ['belittlement', 'humiliate', 'irreverence', 'contempt', 'love']\n",
      "common expl list: ['Despite the respect that was maintained by the respectful fighters, the feelings that they had for each other were always a sense of contempt for each others character.']\n"
     ]
    },
    {
     "name": "stderr",
     "output_type": "stream",
     "text": [
      "\r",
      "  8%|████████████▍                                                                                                                                                     | 76/986 [1:22:55<9:26:32, 37.35s/it]"
     ]
    },
    {
     "name": "stdout",
     "output_type": "stream",
     "text": [
      "generated explanation: <pad> <extra_id_0> He didn't believe fate controlled events because fate is a limiting factor in life. He believed that fate controlled events because it is the ultimate source of life's events. He believed that fate controlled events were the result of people's actions and decisions. He believed that people's actions were the result of their choices and actions were the result of their choices. He believed that people's actions were the ultimate cause of their fates. He believed that people had the power to control their actions and their actions were the ultimate cause of their lives. He also believed that fate controlled events because of the ability to create a variety of events that happen in their fate. He also believed that they were the power over events. He also believed that fates ability to control events because they were the ability of their ability to create their own innate ability to control events because they were the result of their ability to control over their actions and the way they were able to influence the events. He believed that people could change their actions and that happened because of events were a variety of events were the result of their ability to control them. He believed that fate controlled events were caused by people's actions and they were a variety of people's actions and actions. He believed that people could change their actions and by a variety of<extra_id_27> </s>\n",
      "########\n",
      "*******\n",
      "question: Polly didn't know her way around, so she navigated by landmark.  She used statues, stores, and distinctive building.  Where might she be?\n",
      "answer: city\n",
      "choices: ['countryside', 'national park', 'map', 'neighbourhood', 'city']\n",
      "common expl list: ['In a city, landmarks are often used to navigate. In the countryside or in national parks, landmarks may not be as distinct, as buildings and statues are less likely to be found.', \"She used distinctive buildings as landmarks, so it is likely she's in a city.\", 'Landmarks are often located in cities, and so if a person was navigating by landmarks, they are likely to be in a city.', 'Landmark navigation works best in populated areas because distinctive buildings and statues can be more easily seen.']\n"
     ]
    },
    {
     "name": "stderr",
     "output_type": "stream",
     "text": [
      "\r",
      "  8%|████████████▋                                                                                                                                                     | 77/986 [1:23:27<8:59:03, 35.58s/it]"
     ]
    },
    {
     "name": "stdout",
     "output_type": "stream",
     "text": [
      "generated explanation: <pad> <extra_id_0> Polly was navigating by landmarks. She used landmarks to help her find her way around the city. The landmarks were important to her because they were the most visible and easily recognizable features of the city. They are also the most important landmarks for her to see and remember. The landmarks were important because they were the most visible features of the city and were easily recognizable. The landmarks were also important because they were the most visible and the most important features of the city. The landmarks were important to her because they were the cityscapes were also important because they were the most important to see the historic sites, and were also important for her. The landmarks were also important because they were important for her because they were important places to help her find her way around. The city was also important for its history, its architecture, and history. The city was also important to her way of the city. The landmarks were also important because they were important to her. The landmarks were also important for her way to navigate by their location. The city was important to her way to find her. The landmarks were also important to her way to find her way to her way around her. The city was important to her way to remember where she was important to her way to see the architecture and to her. The city was important for her. The city was also important to find her way to see the city was important to her way.</s>\n",
      "########\n",
      "*******\n",
      "question: Some horses are white others are black, but many are this color which might lead some people to think their milk would taste like chocolate?\n",
      "answer: brown\n",
      "choices: ['big but gentle', 'kept in stables', 'cuddly', 'brown', 'running in herd']\n",
      "common expl list: [\"An individual brown-colored horse (particularly when cuddly) can resemble the color of chocolate. If a person were to guess based on the color, he might guess a horse's milk tasted similarly.\"]\n"
     ]
    },
    {
     "name": "stderr",
     "output_type": "stream",
     "text": [
      "\r",
      "  8%|████████████▊                                                                                                                                                     | 78/986 [1:23:49<7:59:09, 31.66s/it]"
     ]
    },
    {
     "name": "stdout",
     "output_type": "stream",
     "text": [
      "generated explanation: <pad> <extra_id_0> Brown is a common color for many horses. It is a common color for dairy products such as milk, yogurt, and cheese. It is a very common color for dairy products because it is a warm color and it is a common sight to see in the winter months. It is also a common sight to see in the spring and summer months. Brown is a popular choice for horses because it is a warm, dark brown color that is a great choice for those who want a warm, moist color. Brown is a great choice for those who want to taste of chocolate because it is a great choice for many people who want to know how to make their milk to be a great choice for those who want to make their own personal preference. It is also a great choice for many people who want to have a brown to see it. It is also a popular choice for those who want to have a warm, and because it is a great choice for horses that are also a great choice for those who want to have a warm, making it more likely to be a darker than white or black. Brown is also a popular choice for those who want to taste of their milk to think of the color of chocolate because it is a warm, making it taste.</s>\n",
      "########\n",
      "*******\n",
      "question: What is the one thing you cannot do if you're on the move?\n",
      "answer: stand still\n",
      "choices: ['sit still', 'stationary', 'running', 'stand still', 'stay still']\n",
      "common expl list: ['You must be in motion to be counted as on the move. (this rule exists to disallow the action of holding still)']\n"
     ]
    },
    {
     "name": "stderr",
     "output_type": "stream",
     "text": [
      "\r",
      "  8%|████████████▉                                                                                                                                                     | 79/986 [1:24:30<8:39:01, 34.33s/it]"
     ]
    },
    {
     "name": "stdout",
     "output_type": "stream",
     "text": [
      "generated explanation: <pad> <extra_id_0> If you're on the move, you can't do the following things: You cannot do the following things because you are on a moving vehicle. This is because you are on a moving vehicle and you are on a moving vehicle. You are on a moving vehicle because you are on a moving vehicle and you are on the move. This is because you are on a moving vehicle. You cannot do the following things: You cannot do the following things: You cannot do the following things: You cannot do the following things: You can't do not be on the vehicle. You can're on the following your vehicle. You can do this by simply not be on the move. You can do not do this because of the vehicle is not moving. You cannot do this because you are not in a moving. Also, you cannot do anything else. You can't do these things because of the moving vehicle is not a moving vehicle. You can't do anything you do. You can'll be forced to stand still. You can've got to get to do something. You can't do anything if you are on the move. You can't do it is not be on the move because you must be on the move because you cannot do it. You can't do it because of the moving is not in motion. You can't do it while you are moving. You can't do anything because of the moving because you are on the moving. If you are on the moving, you are on the move because you are not able to do it because you are not moving.</s>\n",
      "########\n",
      "*******\n",
      "question: Where does someone convicted of a petty crime likely spend time?\n",
      "answer: jail\n",
      "choices: ['sell drugs', 'jail', 'nightclub', 'prison', 'offer drugs']\n",
      "common expl list: ['Someone convicted of a petty crime probably spends some time in jail, and not in prison.', 'Someone convicted of a petty crime is likely to spend time in jail.']\n"
     ]
    },
    {
     "name": "stderr",
     "output_type": "stream",
     "text": [
      "\r",
      "  8%|█████████████▏                                                                                                                                                    | 80/986 [1:24:58<8:09:18, 32.40s/it]"
     ]
    },
    {
     "name": "stdout",
     "output_type": "stream",
     "text": [
      "generated explanation: <pad> <extra_id_0> A convicted person who is convicted of a petty crime will spend time in jail. Jail is a secure place where a person can go to get away from the pressures of the outside world and the pressures of daily life. Jail is a place where a person can go to get away with a crime and focus on their recovery. It is a place where a person can relax and enjoy a good time while they are in jail. Jails are a place where a person can’s and can be sure to spend time in jail. Jail is a place where they can spend time away from the world. Jail also a place where a lot of punishment. Jail is a place where a place where they can spend time in a safe place where they can get away from the stress of being in a serious crime and the world. It is a place where a place where they can be sure they will be a place to be able to get away from the world and get away from the world. Jail is a safe place where a place where they can be safe and feel safe and secure. It is a place where they can stay away from the world. Jail is a place where they can get away from the world and get away from home.</s>\n",
      "########\n",
      "*******\n",
      "question: He would entertain with a pool party regularly, it was the best way to beat the what?\n",
      "answer: hot\n",
      "choices: ['please', 'hot', 'guest', 'bribe', 'liked']\n",
      "common expl list: ['Pool parties are a great way to beat the heat.']\n"
     ]
    },
    {
     "name": "stderr",
     "output_type": "stream",
     "text": [
      "\r",
      "  8%|█████████████▎                                                                                                                                                    | 81/986 [1:25:22<7:32:45, 30.02s/it]"
     ]
    },
    {
     "name": "stdout",
     "output_type": "stream",
     "text": [
      "generated explanation: <pad> <extra_id_0> He would entertain with a pool party regularly, it was the best way to beat the heat of the summer and the long days of work. He would entertain with a pool party regularly, and he would invite friends to join him. He would set up a pool party at the end of the day, and he would invite friends to join him. The pool party was a great way to spend a weekend away from home. The pool party was a great way to relax and enjoy the company of friends and family. It was a great way to spend the summer months of work. The pool party was also a great way to keep the party atmosphere. The pool party was also a great way to entertain and to have fun. The party was also a great way to have fun. The party was a great way to entertain guests and to have fun. The party was also a great way to have a great way to have a great way to spend quality time with friends and family and friends. The party was a great way to spend time with friends and have fun. The party was a great way to have fun and to spend quality time with friends and enjoy time with friends. It was also a great way to have fun. The party was a great way to spend time with friends.</s>\n",
      "########\n",
      "*******\n",
      "question: If you wanted to confirm information that you had, you would do what to someone?\n",
      "answer: question\n",
      "choices: ['infirm', 'ask', 'deny', 'question', 'dispute']\n",
      "common expl list: [\"Often information is ambiguous, and I can confirm it by asking pointed questions or by scrutinizing the other person's story till I can find a way to interrogate their position.\", 'To confirm something that your friends told you, you might need to ask those friends further questions to prove that the information was correct.', 'If you wanted to verify the truth, you might question the person who you got the alleged information from.', 'If you wanted to confirm information that you had, you would ask someone.']\n"
     ]
    },
    {
     "name": "stderr",
     "output_type": "stream",
     "text": [
      "\r",
      "  8%|█████████████▍                                                                                                                                                    | 82/986 [1:25:57<7:55:19, 31.55s/it]"
     ]
    },
    {
     "name": "stdout",
     "output_type": "stream",
     "text": [
      "generated explanation: <pad> <extra_id_0> If you wanted to confirm that you had information that you had, you would do what to someone. This is called a confirmation question. This is a question that you would ask someone to confirm to you that they have. This is because confirmation is a form of verification and it is a form of verification that the information you have is accurate and correct. It is also a form of verification that the person has the right to use it to their advantage. This is because confirmation questions are often used to verify information that they have already provided to them with questions that they have been given to confirm that the information. This is a confirmation that the information they have been given to them a confirmation question is correct and provide the information that they have the correct and any errors. In addition to the questions, you can ask questions about the information that you have the person. This is often used to confirm the information that the person has the information provided by asking questions that the person’s identity and the person’s identity. In addition, a question can be used to confirm that the person’s identity, the person has been given the information that they have provided by the person with the person’s identity. This is a form of the person’s identity. This can be used to confirm that the person is the person’s identity. It can be used to confirm the information in a number of the person’s a question. The question is used to confirm that the person has been provided by the person has the person’s identity. In addition to confirm the person’s identity, the person’s name and the person’s identity, the person’s<extra_id_27> </s>\n",
      "########\n",
      "*******\n",
      "question: Where is cheese likely to be dangerous for some creatures?\n",
      "answer: mouse trap\n",
      "choices: ['refrigerator', 'mouse trap', 'fridge', 'outside', 'plate']\n",
      "common expl list: ['cheese has been said to attract mice. Mice traps may contain cheese in order to attract them.']\n"
     ]
    },
    {
     "name": "stderr",
     "output_type": "stream",
     "text": [
      "\r",
      "  8%|█████████████▋                                                                                                                                                    | 83/986 [1:26:11<6:32:19, 26.07s/it]"
     ]
    },
    {
     "name": "stdout",
     "output_type": "stream",
     "text": [
      "generated explanation: <pad> <extra_id_0> Cheese is a food source for many types of animals, including mice, rats, and other rodents. It is a protein rich food source that can be used to attract and keep small animals attracted to it. It is also a food source for many types of animals, including rodents, birds, and other small mammals. This means that it is likely to attract and attract certain types of animals, such as rats, mice, and other small animals. It is also a food source for many other animals, such as rodents, and other traps. This is also a great way to traps, as it can be used to catch mice and other small rodents. This is a great choice for small rodents. The mouse traps can be used to traps, and other small creatures. The presence of cheese is a potential danger to some species. However, it is likely to attract and may be dangerous for some species of mice, and may be attracting other mammals. It is also likely to attract and to attract other rodents. This is especially important because it is a good choice for traps. However, it is also a potentially dangerous for some species, and may be a dangerous for some species. It is also likely to attract and attracts.</s>\n",
      "########\n",
      "*******\n",
      "question: He spent all work day at a computer, so he got a footstool for more comfort at his what?\n",
      "answer: desk\n",
      "choices: ['desk', 'bathroom', 'shoe shop', 'family room', 'living room']\n",
      "common expl list: ['A footstool is a small stool that is used to raise the height of a chair or table. If someone spends all day at a computer, they might need a footstool to raise their desk.']\n"
     ]
    },
    {
     "name": "stderr",
     "output_type": "stream",
     "text": [
      "\r",
      "  9%|█████████████▊                                                                                                                                                    | 84/986 [1:26:48<7:22:20, 29.42s/it]"
     ]
    },
    {
     "name": "stdout",
     "output_type": "stream",
     "text": [
      "generated explanation: <pad> <extra_id_0> He spent all day at his desk, so he got a footstool for more comfort<extra_id_2> He spent all day at his desk because he<extra_id_3> all day at his computer, so he got a footstool to help him relax and get comfortable. He also got a chair to sit on<extra_id_5> s and get comfortable at his desk. He also got a computer desk to sit on and use for work. He also got a computer desk to sit at his desk and use his computer on his desk. This was because his desk was at his desk. Desk was also a computer and was also a footstool at his desk. The footstool also made of material was comfortable and comfortable. He also got a computer and a chair to sit down on his desk. This was a footstool for comfort at his feet to sit on his desk. This was a footstool because it was a footstool. He also got a footstool to use his computer on his desk. The desk is a footstools are designed to sit on his desk. The footstoolstools are made of durable and easy to clean and maintain. The footstools are also a great way to get up. The footstoolstoolstools are also great way to prevent injuries. The footstoolstool is a great way to keep his desk. The foots are also great way to prevent injury. The footstools are a great way to improve the work area</s>\n",
      "########\n",
      "*******\n",
      "question: How would grooming lead to bald spots?\n",
      "answer: mistakes\n",
      "choices: ['cleanliness', 'mistakes', 'brushing', 'beauty', 'satisfaction']\n",
      "common expl list: [\"If you accidentally over trim your hair, you'd likely end up with bald spots.\"]\n"
     ]
    },
    {
     "name": "stderr",
     "output_type": "stream",
     "text": [
      "\r",
      "  9%|█████████████▉                                                                                                                                                    | 85/986 [1:27:05<6:26:49, 25.76s/it]"
     ]
    },
    {
     "name": "stdout",
     "output_type": "stream",
     "text": [
      "generated explanation: <pad> <extra_id_0> - How would grooming lead to bald spots? - The answer is: mistakes. The reasons for grooming mistakes are many, including lack of knowledge, lack of experience, and poor grooming practices. These mistakes can lead to bald spots. In addition to the mistakes, grooming mistakes can also lead to bald spots because of poor grooming practices. The mistakes make it easier for men to develop bald spots because they are less likely to make the correct choices. The mistakes that are made in grooming can lead to bald spots can also lead to a problem, which can lead to bald spots. The mistakes are often made by men who make mistakes. The mistakes can also be made by men's. The mistakes can cause bald spots to grow back and can lead to bald spots can cause a person to grow back and can lead to bald spots. The mistakes can also be caused by the lack of knowledge, and grooming can lead to a person to develop bald spots. The mistakes can also lead to bald spots. The mistakes can be made by men who make them. The mistakes can lead to bald spots if they are made while grooming can lead to a man's overall health careless and can lead to a man's health careless and a person to bald spots.</s>\n",
      "########\n",
      "*******\n",
      "question: Where would a snake find a great hiding place in the United Kingdom?\n",
      "answer: kew gardens\n",
      "choices: ['ditch', 'terrarium', 'thick forest', 'kew gardens', 'feild']\n",
      "common expl list: ['Kew gardens is a large botanical garden in London, England, and snakes are often found in gardens.', 'Kew gardens is located in London, which has a great deal of green space in the form of parks.']\n"
     ]
    },
    {
     "name": "stderr",
     "output_type": "stream",
     "text": [
      "\r",
      "  9%|██████████████▏                                                                                                                                                   | 86/986 [1:28:03<8:51:10, 35.41s/it]"
     ]
    },
    {
     "name": "stdout",
     "output_type": "stream",
     "text": [
      "generated explanation: <pad> <extra_id_0> A snake would find a great hiding place in the United Kingdom at kew gardens. The kew gardens are a collection of gardens that are home to a variety of plants and animals, including snakes, lizards, and other reptiles. The gardens are a great place for a snake to find a safe place to hide out and explore. The gardens are a popular place for tourists to visit and visit, as they are a haven for wildlife and plants. The gardens are a great place for snakes to hide in the UK. The gardens are also great place for a snake to find a great place to hide in the garden, which are a great place to visit, and explore the gardens. The gardens are also a great place for snakes to visit. The gardens are also a great place to visit to see the plants and other wildlife. The gardens are a great place to hide out in the UK, as they are a great place for snakes to find a great place to visit. The gardens are a great place for a great place to find a great place to visit if you are looking for a great place to visit, such as a great place to visit and see the gardens are a great place to visit as a great place to visit a great place to visit the gardens are a great place to visit if you are looking for a great place to visit and other attractions as you can’t a great place to visit if you’reserved for a great place to visit a great place to see a great place to visit the a great place to visit if you are a great place to visit a great place to visit. The gardens are a great place to find a snake and see a great place to visit a great place to visit a visit and to visit. The gardens are a great place to visit, and see the world classyooa place to visit and see the gardens. The gardens are a great place to visit.</s>\n",
      "########\n",
      "*******\n",
      "question: After studying many self-help books, what did he feel in his heart?\n",
      "answer: inspiration\n",
      "choices: ['inspiration', 'dreams', 'more intelligence', 'understanding', 'knowing more']\n",
      "common expl list: [\"Some people study self-help books because they've felt lost in their life and are looking for something to help them out. By reading many self-help books, such people might feel more inspired in their life.\", \"If John read about confidence, optimism, positive thinking, it's possible that he feels inspired.\", 'Self-help books are written to inspire people to change their lives for the better.']\n"
     ]
    },
    {
     "name": "stderr",
     "output_type": "stream",
     "text": [
      "\r",
      "  9%|██████████████▎                                                                                                                                                   | 87/986 [1:28:34<8:32:53, 34.23s/it]"
     ]
    },
    {
     "name": "stdout",
     "output_type": "stream",
     "text": [
      "generated explanation: <pad> <extra_id_0> After studying many self-help books, what did he feel in his heart? Inspiration was a feeling of peace, joy, and a sense of purpose. It was a feeling of purpose and purposelessness. It was a feeling of peace and purpose. It was a feeling of belonging and belonging. It was a feeling of being loved and appreciated. It was a feeling of being a part of a community of people who care about each other and who care about each other. It was a feeling of being a positive, and inspiration. This inspired him to create a new ideas and ideas for others. Inspiration is a powerful tool to create a positive outlook and help others to be a positive energy and confidence. It was a feeling of being a positive energy and a positive energy. It was a feeling of being a positive energy and a positive outlook. It was a feeling of being a positive energy that was a positive and a positive energy and a positive attitude. It was a great feeling of being a positive and a great way to create a positive energy and a positive environment. It was a feeling of inner strength and a great combination of a positive outlook and vision. It was a positive energy that was a great source of inspiration and a great way to create a positive change. Inspirational and positive and a positive attitude.</s>\n",
      "########\n",
      "*******\n",
      "question: Where would you find teeth whitening bleachers?\n",
      "answer: pharmacy\n",
      "choices: ['gymnasium', 'soccer game', 'sporting event', 'pharmacy', 'soccer game']\n",
      "common expl list: ['Teeth whitening is a common practice, and pharmacies often sell the products used for it.']\n"
     ]
    },
    {
     "name": "stderr",
     "output_type": "stream",
     "text": [
      "\r",
      "  9%|██████████████▍                                                                                                                                                   | 88/986 [1:29:11<8:44:19, 35.03s/it]"
     ]
    },
    {
     "name": "stdout",
     "output_type": "stream",
     "text": [
      "generated explanation: <pad> <extra_id_0> The most common place to find whitening bleachers is at a local pharmacy. Pharmacy shelves are stocked with whitening products that are available in a variety of colors, shades, and strengths. These products are available in a variety of sizes, and colors are available in a variety of different colors. The most common color is white, which is a light yellow to light yellow color. The most common brand of bleachers are available in a variety of colors, including yellow, white, and light shades. The most common color of people tend to be found in pharmacies in pharmacies to find them in a pharmacy. The best place to find whitening products is at a pharmacy. The best place to find a pharmacy is a pharmacy. The most commonplace to find a pharmacy is usually a pharmacy because they are often in a pharmacy. The best place to find a variety of different colors, and the best for you. The best quality of the product is a variety of colors, and shades that make whitening products, such as whitening and color. The best for you can find them in a pharmacy. The best price is a pharmacy that is a pharmacy. The best place to find teeth whitening bleaching products are available in a pharmacy. The best place to find a pharmacy is a pharmacy that is a pharmacy that is a pharmacy. The best quality and price is a pharmacy that is a good deal. The best pharmacy is a convenient place to find a pharmacy that is a pharmacy that is available in a pharmacy can provide you with a variety of colors and the product is available at a pharmacy.</s>\n",
      "########\n",
      "*******\n",
      "question: While he had seen a koala in the zoo, he was looking forward to finding one in the what?\n",
      "answer: australian outback\n",
      "choices: ['australian outback', 'bamboo grove', 'wilderness', 'island', \"child's book\"]\n",
      "common expl list: ['Koalas live in Australia, and are not found in any other country in the North American continent.', 'Because Koalas are a native species to Australia, the safest place to see a Koala may be outback Australia.']\n"
     ]
    },
    {
     "name": "stderr",
     "output_type": "stream",
     "text": [
      "\r",
      "  9%|██████████████▌                                                                                                                                                   | 89/986 [1:29:30<7:30:55, 30.16s/it]"
     ]
    },
    {
     "name": "stdout",
     "output_type": "stream",
     "text": [
      "generated explanation: <pad> <extra_id_0> He had been looking forward to finding a koala in the outback because he had seen one in the zoo and he had seen one in the rainforest at the zoo. Then he went to the outback and saw a koala in the wild, in the open grasslands, and he was excited to see what it was like to live in the wild. The outback is a desert-like landscape that is characterized by rugged terrain, rugged terrain, and he found the wild in the outback. The outback is a place where he had seen one in the wild, and had seen one in the wild in the wild. The outback was a desert, which was known as the outback, an area of the wild, which he had seen a koala koala koala desert, he had seen one in the wild. The outback is a place that is a place that is known as the outback. The outback is a place that isn wilderness, but also home to many other species of plants and animals, such as the outback. The outback is also a place where koop</s>\n",
      "########\n",
      "*******\n",
      "question: Where can a child get a wagon?\n",
      "answer: toy store\n",
      "choices: ['field', 'garage', 'bookstore', 'backyard', 'toy store']\n",
      "common expl list: [\"A toy wagon is a child's toy. Toy wagons can be purchased from toy stores.\", 'Toy stores deal specifically in toys. Wagons are one of a variety of toys.']\n"
     ]
    },
    {
     "name": "stderr",
     "output_type": "stream",
     "text": [
      "\r",
      "  9%|██████████████▊                                                                                                                                                   | 90/986 [1:29:53<6:55:48, 27.84s/it]"
     ]
    },
    {
     "name": "stdout",
     "output_type": "stream",
     "text": [
      "generated explanation: <pad> <extra_id_0> A toy store is a place for children to get a wagon. A toy store is a place for children to get a variety of toys, including wagons. A wagon is a type of toy that is used to transport a child from one place to another. A toy store is a place where children can get a wide variety of toys, including cars, trucks, and other vehicles. A toy store is a place where children can get a wide variety of toys, including wagons, and other toys, such as a wagon. A toy store is a store is a toy store, and other options. Toy store offers a wide variety of different styles of wagons, including a variety of different colors, and different designs, such as a toy, and other toys, such as a dollhouse, or a wagon, such as a doll, or a dollhouse. A toy store can help a child get a wagon from a toy store. Toy store is a toy store a toy store can also provide a toy store that a toy for children can get a wagon at </s>\n",
      "########\n",
      "*******\n",
      "question: Being able to forgive is a way to be what?\n",
      "answer: nice to\n",
      "choices: ['learn', 'give hug', 'happiness', 'nice to', 'sex']\n",
      "common expl list: ['When you forgive people you are being nice to them.']\n"
     ]
    },
    {
     "name": "stderr",
     "output_type": "stream",
     "text": [
      "\r",
      "  9%|██████████████▉                                                                                                                                                   | 91/986 [1:30:07<5:56:52, 23.92s/it]"
     ]
    },
    {
     "name": "stdout",
     "output_type": "stream",
     "text": [
      "generated explanation: <pad> <extra_id_0> Forgiveness is a process of allowing others to forgive you for your mistakes and shortcomings. It is a process of letting go of guilt and allowing yourself to be moved by the experience of the loss of a loved one. Forgiveness is a process that involves a series of actions, including verbal and physical acts, and it is a process that requires the person to look at the situation in a different way. Forgiveness is a form of forgiveness that is based on the idea that the person is a person forgiving and the person is able to accept the person as they have been hurts. It is a good way to be a positive and helps to be able to accept the loss of the person’s actions and to accept the person as they are a good role model for others to forgive others and to be a good example, and a good role model for the person’s own mistakes and to take responsibility for the other person’s. It is a good example, and<extra_id_27> </s>\n",
      "########\n",
      "*******\n",
      "question: What  is necessary to have when going fishing?\n",
      "answer: fishing rod\n",
      "choices: ['fishing rod', 'access to water', 'bate', 'three hands', 'tackle']\n",
      "common expl list: ['fishing rods are necessary component pieces that are held by fishermen to access and use when fishing', 'To go fishing requires a fishing rod.']\n"
     ]
    },
    {
     "name": "stderr",
     "output_type": "stream",
     "text": [
      "\r",
      "  9%|███████████████                                                                                                                                                   | 92/986 [1:30:34<6:08:48, 24.75s/it]"
     ]
    },
    {
     "name": "stdout",
     "output_type": "stream",
     "text": [
      "generated explanation: <pad> <extra_id_0> A fishing rod is an important tool for a person to have when going fishing. It is a tool that can be used to catch fish and help them stay alive. A fishing rod is a great tool to have when you are out on a fishing trip. It can be used to catch fish that are hard to find and hard to catch. A fishing rod can be used to catch fish that are hard to land and hard to lure. A fishing rod can be used to catch fish that are hard to catch and hard to land. A fishing rod is a fishing rod can be used to catch fish and a variety of different species of fish. A fishing rod is a great tool for a variety of fish to fish to fish and other fishing trip. A fishing rod can be used to catch fish, or a fishing trip, or to fish can also be used to catch fish. A fishing rod is a great way to catch fish and help you to fish. A fishing rod is a great tool for a variety of fish and other types of fish. A fishing rod can also be used to catch. A fishing rod can be used to catch fish that is a great tool for a variety of fish, and a variety of fish. A fishing rod can be used to catch and a fish can be used to catch fish, or to fish, or to provide a fish that is a fishing rod for fishing trip.</s>\n",
      "########\n",
      "*******\n",
      "question: A weasel is cursed by a witch, where is the weasel stuck?\n",
      "answer: fairytale\n",
      "choices: ['corn fields', 'great outdoors', 'fairytale', 'imagination', 'chicken coop']\n",
      "common expl list: ['Being stuck in a fairytale suggests being cursed, and the curses that prevail in fairytales are usually cast by witches.']\n"
     ]
    },
    {
     "name": "stderr",
     "output_type": "stream",
     "text": [
      "\r",
      "  9%|███████████████▎                                                                                                                                                  | 93/986 [1:31:40<9:11:31, 37.06s/it]"
     ]
    },
    {
     "name": "stdout",
     "output_type": "stream",
     "text": [
      "generated explanation: <pad> <extra_id_0> A weasel is cursed by a witch because it is a creature of the night and is therefore not able to move or move freely. This is because it is a creature of the night and is unable to communicate with humans or other animals. This is because the weasel is a creature of the night and is unable to move or communicate with people. This is because the weasel is a creature of the night and is unable to move or communicate with them. This is because of the story is a fairytales and the witch is not able to spells the wea witch, but the wea fairytales and the wea weawea story that the witch. The wea fairytales tell the story of a wea wea fairytales and the wea witched not able to tell the wea witch or a witch. The witch cursed wea witch’s cursed wea witch, and the wea witch, and the wea witch. The witch is stuck in a fairytales, and the witch is a fairytale. The wea fairytale, the wea witch, and the wea witch. The wea wea witch is a fairytale, and the witch. The wea wea fairytale is a tale and the wea fairytale, and the witch, the wea fairytale, and the wea witch. The witch is cursed wea witch, and the wea witch is a fairytale. The wea witch is a witch, and the wea wea fairytale. The witch is stuck in a fairytale is a fairytale because it is a fairytale because it is a fairytale because it is a fairytale because it is a wea fairytale because it is a tale, and the wea fairytale is a fairy tale because it is a tale because it is a fairytale because it is a wea witch is a witch is a wea wea fairytale. A wea fairytale is a witch is cursed by a witch is cursed by a witch is cursed by a wea wea story of a story and the witch is a tale and the wea story is a story and a story and a story is\n",
      "########\n",
      "*******\n",
      "question: If you want to buy you must what?\n",
      "answer: spend money\n",
      "choices: ['spend money', 'go shopping', 'paying', 'have in mind', 'a shop']\n",
      "common expl list: ['To buy one needs money, and need money implies you have spent money.', 'To buy something, you must spend money.', 'If you want to buy something, you must spend money.']\n"
     ]
    },
    {
     "name": "stderr",
     "output_type": "stream",
     "text": [
      "\r",
      " 10%|███████████████▎                                                                                                                                                 | 94/986 [1:32:54<11:56:13, 48.18s/it]"
     ]
    },
    {
     "name": "stdout",
     "output_type": "stream",
     "text": [
      "generated explanation: <pad> <extra_id_0> Buying a new car is a big decision. You must spend money to make sure you have the car you want. This is because spending money is the only way to make sure you have the car you want. Spending money is also the only way to ensure you have the car you want. Spending money is the only way to ensure that you have the car you want. Spending money is the only way to ensure you have the car you want. Spending money is the only way to ensure you have the car you want. Spending money will also help you to pay for the car. Also, spending money will help you to make sure you have the car you have the car you have the car you have the car you have the car you can buy the car you want to have the car you want to have the car you need it. Also, you have the car you want to buy the car you want to buy the car you want to buy the car you need to get the car you need to get the car you need to get the car you the car you need to get the car you need to buy the car you need to get the car you need to get the car you the car you need to get the car you can get the car you need to get the car you need to get the car you want to buy the car, the car you need to get the car you need. The money is the car you want to get the car you need to get the car you need it. The car you also need to get the car you need to get the car you need to get the car you the car you the car you the car you need. The car you need to get the car. The car you need to get the car you want to get the car. Thena car you want to get the car you the car you want. The car you want to get it. The car you the car you need. The car you need to get the car you will cost of course. The car you will be a car. If you need it, you need to spend the car you need. The car will be able to get it. If you want to get it. The car you need to spend the car you need to spend the car you need to buy it. The car you need to spend the car. The car you need to get it. The car you will also have the car you need to buy it, you need to spend money to buy\n",
      "########\n",
      "*******\n",
      "question: What public celebration sometimes has a horse show?\n",
      "answer: state fair\n",
      "choices: ['state fair', 'indy 500', 'american southwest', 'canada', 'central park']\n",
      "common expl list: ['Horse shows are competitions that sometimes occur at public celebrations. Some fairgrounds include horse shows as part of their regularly scheduled events.', \"A state's fair is a public celebration that may include a horse show.\", 'Horse shows are sometimes included in state fair celebrations, and these fairs frequently are held in public parks.']\n"
     ]
    },
    {
     "name": "stderr",
     "output_type": "stream",
     "text": [
      "\r",
      " 10%|███████████████▌                                                                                                                                                 | 95/986 [1:33:30<11:01:43, 44.56s/it]"
     ]
    },
    {
     "name": "stdout",
     "output_type": "stream",
     "text": [
      "generated explanation: <pad> <extra_id_0> The state fair is a public celebration that combines the best of the public celebrations of the state with the best of the private. The state fair is a large public celebration that includes a variety of events, including horse shows, horse competitions, and horse shows. The state fair is a public celebration that combines the best of the public celebrations into one. The horse shows are a great way to show off your horse skills and to show off your riding skills. The state fair is a great way to celebrate the state fair and to the horse shows that are a great time for visitors. The horse shows are a great way to show off your horse show off-show. The horse shows are a great way to show off your horse show off your horse show. The state fair is a great time to enjoy the whole family reunions and celebration of the horse shows. The horse shows are a great opportunity to meet with other attractions, such as a pony. The horse shows are a great way to promote the event, which is a horse show and a great way to show off the horse show off. The horse shows are also a great way to promote the horse show off. The horse shows are a great way to celebrate the state fair. They are a great way to promote the horse and to encourage people to show their support them. The horse shows are a great way to show off. They are also great way to promote the horse and to meet and to network with each other. The horse shows are also a great way to show off. Then and encourage people to share their passion for horses and to meet and to network.</s>\n",
      "########\n",
      "*******\n",
      "question: There are many wage gaps being discussed, the most important of which is between the rich and what?\n",
      "answer: poor\n",
      "choices: ['plain', 'sleepy', 'poor', 'idle', 'needy']\n",
      "common expl list: ['The poor are a group which suffers from a wage gap, denoted as their earning less than others, especially the rich.']\n"
     ]
    },
    {
     "name": "stderr",
     "output_type": "stream",
     "text": [
      "\r",
      " 10%|███████████████▊                                                                                                                                                  | 96/986 [1:33:58<9:46:13, 39.52s/it]"
     ]
    },
    {
     "name": "stdout",
     "output_type": "stream",
     "text": [
      "generated explanation: <pad> <extra_id_0> The most important wage gap between the rich and the poor is between the rich and the poor. The rich are those who have the highest incomes and the lowest wages, whereas the poor are the least. This is because the poor are the most vulnerable to wage theft, and the poor are the most likely to be robbed of their wages. The poor are also the most vulnerable to wage theft, as the poor are the most likely to be able to afford to pay their wages. The poor are the poorest group of people, and the richest. The gap between the rich and the poor is the poorest of the richest. The poor are less than the rich, and the richest, and the rich, and the poor. The poor are also less than the richest afford to pay for their homes, and their families. The poor are also less able to pay their health care for their homes. The poor are also less unable to afford to pay for their basic necessities. They are also less than the rich. The rich are also less likely to be less than the poor. The poor are also more likely to be paid less than the rich. The poorer the rich are more likely to be paid less than the richest. The poorer the less than the richest. The poor are more likely to be less than the richest. The poor are more than the richest.</s>\n",
      "########\n",
      "*******\n",
      "question: What city in a North American Country, that isn't the United States, would you expect to find a good french restaurant?\n",
      "answer: quebec\n",
      "choices: ['wine', 'nyc', 'quebec', 'manhattan', 'paris']\n",
      "common expl list: ['Quebec has a strong french heritage, and the french cuisine is actually quite popular in the United States.', 'Quebec is a province in Canada, and is known for its french culture.', 'Quebec is said to have strong french-culture since it was originally french territory. This would make sense if quebec had a good french restaurant.', 'Quebec is the only province that speaks French in North America, and you might expect to find a good french restaurant there.']\n"
     ]
    },
    {
     "name": "stderr",
     "output_type": "stream",
     "text": [
      "\r",
      " 10%|███████████████▉                                                                                                                                                  | 97/986 [1:34:15<8:04:04, 32.67s/it]"
     ]
    },
    {
     "name": "stdout",
     "output_type": "stream",
     "text": [
      "generated explanation: <pad> <extra_id_0> A french restaurant is a restaurant that serves a variety of cuisines, including a variety of meats, seafood, and desserts. It is a popular choice for families, couples, and groups of friends. It is also a great place to meet new people and meet new people. In addition to being a great place to meet new people, a french restaurant in quebec is also a great place to meet new people. It is a great place to meet new people, and it is a great place to visit to the restaurant in a great place to meet up the culture and the country. It is a great place to enjoy a good table. The restaurant in quebec, the restaurant is a good place to enjoy a good place to meet up with a table and a table. The restaurant in quebec is a beautiful city, the French cuisine is a great place to meet new friends. The restaurant in quebec is a great place to visit, and to visit. The restaurant in the French language is a great place to meet new people from around the United States.</s>\n",
      "########\n",
      "*******\n",
      "question: Care not to burn you hand on the handle of what small high-walled vessel?\n",
      "answer: saucepan\n",
      "choices: ['brush', 'carry object', 'walking stick', 'umbrella', 'saucepan']\n",
      "common expl list: ['A saucepan is a small, high-walled vessel, built for holding liquids and usually used in the kitchen.']\n"
     ]
    },
    {
     "name": "stderr",
     "output_type": "stream",
     "text": [
      "\r",
      " 10%|████████████████                                                                                                                                                  | 98/986 [1:34:49<8:12:17, 33.26s/it]"
     ]
    },
    {
     "name": "stdout",
     "output_type": "stream",
     "text": [
      "generated explanation: <pad> <extra_id_0> A saucepan is a high-walled vessel<extra_id_1> It is used to cook a variety of foods, such as soup, stews, and stews. It is a small, high-quality vessel that is designed to be used for cooking. A saucepan is a small, high-walled vessel that is designed to be used to cook a variety of foods, such as meat, vegetables, and other small items. The handle of the saucepan is made of a hardened plastic and is designed to be extremely durable and durable. The a small, butcher is a great choice for cooking if you want to avoid the risk of a serious injury. A small, but can also be used to cookware that is a serious injury or a serious injury. A saucepan is a great way to prepare a variety of different types of different types of cooking vessels, including a large, and a variety of different types of different recipes. However, a saucepan is a great choice for cooking, as it is a great way to use to prepare food. A saucepan is a great way to prepare and a variety of different types of cooking a variety of different types of cooking, and can be used to cook a variety of different types of cooking method for different cooking method. It is a small, but it can be used to cook a variety of dishes, like a a sauce, or a sauce or soup or other cooking method to cook a variety of sauce or other ingredients.</s>\n",
      "########\n",
      "*******\n",
      "question: What container does peanut butter come in?\n",
      "answer: jar\n",
      "choices: ['cupboard', 'pantry', 'jar', 'bottle', 'supermarket']\n",
      "common expl list: ['Jars, like those that pickles often come in, are suitable for food items that need to be kept fresh for long time. Jars can be resealed.', 'Peanut butter comes in glass jars, like many other food products.', 'Jars are often used to store food, and peanut butter is a food.', 'Jars can keep food sealed without leaking, and often have lids. Peanut butter is sealed in a jar and could be kept in a house, kitchen, pantry, or cupboard.']\n"
     ]
    },
    {
     "name": "stderr",
     "output_type": "stream",
     "text": [
      "\r",
      " 10%|████████████████▎                                                                                                                                                 | 99/986 [1:35:29<8:41:32, 35.28s/it]"
     ]
    },
    {
     "name": "stdout",
     "output_type": "stream",
     "text": [
      "generated explanation: <pad> <extra_id_0> Peanut butter comes in a jar because peanut butter is a semi-hard, semi-liquid product that is made from a variety of ingredients. It is a very versatile food that can be used in a variety of ways. It is a great snack that can be enjoyed in many ways. For example, if you are looking for a snack, then you will want to consider a jar. A jar is a great way to store your peanut butter because it is easy to spread and stores. It is also a great way to make peanut butter that can be used to spread peanut butter in jar. It can be used to make it easier to store peanut butter in a jar because it is a great way to use. The peanut butter can be purchased in a jar or a jar because it can be easily opened and a jar. Peanut butter comes in a jar, and can be used in jar or a jar because of the peanut butter in jar. Peanut butter is a jar because it can be used to spread peanut butter in a variety of recipes and a jar or spread peanuts in a a jar or spreadable to spread it in a variety of different types of peanut butter that can be used in a sandwich or spread it in a a jar to make it in a jar to spread it in a a variety of different ways depending on the peanut butter in jar because it is a variety of different types of different ways depending on the peanut butter can be made from jar or if you want to spread on your favorite peanut butter and the peanuts because it is a jar. The jar is a jar is a variety of different ways depending on your preference. The peanuts in different ways depending on your own personal preference.</s>\n",
      "########\n",
      "*******\n",
      "question: Where are plants likely to be handled by a city employee?\n",
      "answer: park\n",
      "choices: ['park', 'windowsill', 'ground', 'office', 'garden']\n",
      "common expl list: ['A city employee might handle plants while working in a park.', 'Parks are where city employees are likely to handle plants.']\n"
     ]
    },
    {
     "name": "stderr",
     "output_type": "stream",
     "text": [
      "\r",
      " 10%|████████████████▎                                                                                                                                                | 100/986 [1:35:40<6:51:37, 27.88s/it]"
     ]
    },
    {
     "name": "stdout",
     "output_type": "stream",
     "text": [
      "generated explanation: <pad> <extra_id_0> - A park is a public place that is often a source of food for the community and is a good place for city employees to pick up food and other items. Parks are often a source of employment for city employees because they are a place of recreation and a place where people can enjoy a relaxing time together. Parks are also a good place for employees to go to exercise their physical and mental fitness. Parks are also a place of learning, and a great place for employees to exercise their creativity. In addition to the city employee must also have to handle plants in a safe place to take care of their own safety. The employee is also likely to be responsible for the public health and safety concerns. Parks are also likely to provide a safe environment for employees to handle their personal safety. In addition to handle the plants, the city’s employees can also be a place to go to see the public safety. This is a great place to learn how to be a city employee can help employees learn how to ensure that they are safe and a safe environment for employees to be able to work in a place to learn about how to be trained to handle plants. The city employees can also be trained to handle a safe environment, and to handle plants in a safe environment for employees to be a safe for visitors.</s>\n",
      "########\n",
      "*******\n",
      "question: Trains tend to come on time, airplanes on the other hand tend to what?\n",
      "answer: arrive late\n",
      "choices: ['stall', 'take off', 'arrive late', 'catch on fire', 'carry freight']\n",
      "common expl list: ['Planes are carreid by more complicated mechanisms than trains, and therefore tend to be harder to operate exactly on time.', \"Planes aren't typically known for arriving on time (air traffic, weather, repairs, et. al.), whereas trains tend to be more reliable.\"]\n"
     ]
    },
    {
     "name": "stderr",
     "output_type": "stream",
     "text": [
      "\r",
      " 10%|████████████████▍                                                                                                                                                | 101/986 [1:35:50<5:34:08, 22.65s/it]"
     ]
    },
    {
     "name": "stdout",
     "output_type": "stream",
     "text": [
      "generated explanation: <pad> <extra_id_0> Trains tend to come on time, while airplanes tend to arrive late. This is because airplanes are heavier and have a longer range of motion, making them more prone to accidents. This is because airplanes are more maneuverable and can handle the pressure of the air without getting into a jam. This is because airplanes are more maneuverable and can handle more speed and acceleration. This is because airplanes are more efficient, which means they can handle more passengers and cargo. This is because airplanes are more efficient at handling and handling their owns tend to arrive at a faster and can be more quickly. This is because they are more expensive and because they are more expensive and therefore more expensive to fly faster and therefore have to fuel costs more expensive and more expensive than trains tend to arrive late. This is because they are more expensive and are more expensive to operate and can be more expensive to run out of fuel and more fuel. This is because they are more expensive and therefore more expensive to travel and therefore more expensive. This is because of the expense of more expensive and the cost of fuel and therefore, which means that they are more likely to arrive later than trains and that are more expensive to travel and therefore more expensive.</s>\n",
      "########\n",
      "*******\n",
      "question: Where is glue well used?\n",
      "answer: art room\n",
      "choices: ['desk drawer', 'cabinet', 'art room', 'school', 'closed container']\n",
      "common expl list: ['Glue is used in art projects, and art rooms are where art projects are done.']\n"
     ]
    },
    {
     "name": "stderr",
     "output_type": "stream",
     "text": [
      "\r",
      " 10%|████████████████▋                                                                                                                                                | 102/986 [1:36:29<6:43:58, 27.42s/it]"
     ]
    },
    {
     "name": "stdout",
     "output_type": "stream",
     "text": [
      "generated explanation: <pad> <extra_id_0> Glue is a very common and common glue used in art rooms to create a cohesive look and feel to the room. It is a great way to add texture and dimension to your work. It is also a great way to create a cohesive look and feel. It is also a great way to add dimension and depth to your work. It is a great way to create a cohesive and cohesive look that is both durable and flexible. It is also a great way to add a personal touch to your work. It is also a great way to create a cohesive look and feel. It is a great way to create a cohesive look that is also a great way to create a variety of colors and design. It is also a great way to create a variety of different types of styles and colors, creating a variety of textures and texture to create a variety of different types of creating different styles and texture. It is also a great way to create a cohesive, and feel. It is a great way to create a design that allows you to create a cohesive and make your art work. It is also a great way to create a great way to create a great way to create a a simple, and easy to create a a great way to add dimension to create a design and color. It is also a great way to create a variety of color and texture to create a cohesive look and feel to create a look and feel. It is also a great way to add color to create a look and feel and feel to create a room that is easy to create a room that is a great way to create a great way to create a cohesive look and feel that is a great way to create a look and feel that can be a great way to add texture and feel to create a look and feel to create a look and feel to create a room that is a room that is a great way to create a great way to create a room because it is a great way to create a look with a great way to create a room because it’s a look and feel and<extra_id_27> </s>\n",
      "########\n",
      "*******\n",
      "question: Billy loves science, history, and art but isn't very creative.  When he was visiting the museum, he felt a great deal of what emotion?\n",
      "answer: enjoyment\n",
      "choices: ['inspiration', 'fulfillment', 'wonder', 'boredom', 'enjoyment']\n",
      "common expl list: ['At a museum, Billy uses history to find science, and science to find art; by combining different loves, going to the museum has been fulfilling. To achieve fulfilment, Billy felt an enjoyable feeling.', 'When Billy visited a museum which had a lot of fields of interest, Billy enjoyed himself while he learned from the experience at the same time.']\n"
     ]
    },
    {
     "name": "stderr",
     "output_type": "stream",
     "text": [
      "\r",
      " 10%|████████████████▊                                                                                                                                                | 103/986 [1:36:37<5:20:07, 21.75s/it]"
     ]
    },
    {
     "name": "stdout",
     "output_type": "stream",
     "text": [
      "generated explanation: <pad> <extra_id_0> Billy was enjoying a visit to the museum because it was a place of learning and discovery. The museum was a place of discovery and discovery for him. It was a place of learning and discovery for him. It was a place of learning and discovery for him. The museum was a place of discovery and discovery for him. The museum was a place of discovery and discovery. It was a place of discovery and discovery. The museum was a place of discovery and discovery. It was a place of discovery and discovery for Billy was a great deal of emotion of enjoyment and the exhibits, and the exhibits, and the exhibits. Billy was impressed with the collection. The museum was also a great place to enjoy the collection and the collection. The museum was a great place of discovery and a great place of discovery and discovery. It was a place of discovery and a great place to visit. The museum was a great place of inspiration and a great place to explore. The museum was a great experience. It was a great place to see the collection and appreciation for the museum. It was a great place to be a great place to be inspired.</s>\n",
      "########\n",
      "*******\n",
      "question: Sarah did much hard work, even though she was on vacation.  Her mother told her off and said what?\n",
      "answer: do nothing\n",
      "choices: ['unemployment', 'say something', 'earn money', 'do nothing', 'relaxation']\n",
      "common expl list: ['If one is on vacation, one is supposed to \"do nothing\" as opposed to working - the \"something\" that is discouraged. Many physically hard jobs involve getting the hands dirty.']\n"
     ]
    },
    {
     "name": "stderr",
     "output_type": "stream",
     "text": [
      "\r",
      " 11%|████████████████▉                                                                                                                                                | 104/986 [1:36:48<4:31:11, 18.45s/it]"
     ]
    },
    {
     "name": "stdout",
     "output_type": "stream",
     "text": [
      "generated explanation: <pad> <extra_id_0> Sarah did a lot of hard work while on vacation, even though her mother told her off and said that she should do nothing. This is because Sarah was on vacation and her mother was on vacation, and she was on vacation. Her mother told her to do nothing because she was on vacation and she was on vacation. This is because Sarah was on vacation and her mother was on vacation, and she was on vacation. This is because she was on vacation and she was on vacation, and she was on vacation. This is because she did not want to her mother to tell her daughter Sarah to do nothing. Sarah's mother said nothing to her mother said to Sarah to do nothing. She was on vacation, and Sarah was on vacation, and said nothing was on vacation. Her mother told her daughter to do nothing because she was on vacation, and said she was on vacation, and said she was on vacation. Sarah did not want to take a vacation. She was on vacation, and said she should not take care for her mother would not be able to take a vacation. She was on vacation and said she should not do nothing.</s>\n",
      "########\n",
      "*******\n",
      "question: James walked barefoot on a something that was made hot by sunshine. What is he probably walking on?\n",
      "answer: street\n",
      "choices: ['desktop', 'summer', 'moon', 'meadow', 'street']\n",
      "common expl list: ['Because of the intense heat of summer, sunlight reflects off the pavement, causing a hot sensation when one walks barefoot in the summer.']\n"
     ]
    },
    {
     "name": "stderr",
     "output_type": "stream",
     "text": [
      "\r",
      " 11%|█████████████████▏                                                                                                                                               | 105/986 [1:37:04<4:18:18, 17.59s/it]"
     ]
    },
    {
     "name": "stdout",
     "output_type": "stream",
     "text": [
      "generated explanation: <pad> <extra_id_0> A street is a surface that is made hot by sunlight. This means that it is a place that is made hot by the sun. The surface of the street is usually made hot by the sun. This makes it a good place for a barefoot walk because it is a surface that is made hot by the sun. This makes it a good place for a barefoot walk because it is a place where the feet can breathe freely and avoid the risk of blisters. This is because the surface of the street is Pedestozone. The street is usually lined with a street is usually packed with trees, which is usually packed with people and people who are walking able to be able to keep their feet dry and a safe place to wear shoes that are comfortable for barefoot on the sidewalks and make it easier to see the a good place to avoid a a good place to wear sneakers. Shoes should be preferably be worn and comfortable. If the shoe is comfortable, the shoes should be worn out. Shoes are also a good way to get dirty and a good place to be more easily a place to be a place to feel the feet as the sun is a place to run and to make sure that the surface of the sun. Walking on a good place for a place to get to wear a good place to put on. Shoes are also a good surface for a good feeling of being barefoot on the foot on a good place to put on barefoot are made of high heels are made of, a good place for a place for people to get a place to wear barefoot. This is important for a place for people to feel safe and easy to wear a place to be barefoot is made of course.</s>\n",
      "########\n",
      "*******\n",
      "question: He grew tired of standing in the kitchen his whole shift, where was he?\n",
      "answer: restaurant\n",
      "choices: [\"neighbor's house\", \"friend's house\", 'restaurant', 'jail', 'fraternity house']\n",
      "common expl list: ['A restaurant would have a kitchen, where you would be required to stand while your shift is in session.', 'One can get tired standing in a kitchen if one is on their feet all day; kitchens are typically in restaurants.']\n"
     ]
    },
    {
     "name": "stderr",
     "output_type": "stream",
     "text": [
      "\r",
      " 11%|█████████████████▎                                                                                                                                               | 106/986 [1:37:15<3:48:58, 15.61s/it]"
     ]
    },
    {
     "name": "stdout",
     "output_type": "stream",
     "text": [
      "generated explanation: <pad> <extra_id_0> He grew tired standing in the kitchen his whole shift. This is because he was constantly rushing around, checking the clock, and preparing food. He was also unable to focus on his job at the restaurant, which required him to stand in the kitchen all day. This made him feel like he was in a different world. He was in a different world altogether, which made it difficult to concentrate on his job. This made it difficult for him to concentrate on his job at the restaurant. The restaurant was also a place to work. The restaurant was also a restaurant was also difficult to find a job that required him to work in the restaurant to ensure that the restaurant was open kitchen. The restaurant was able to move quickly and able to move to other areas of the restaurant, which made it easier to focus on the restaurant. The restaurant also a restaurant could use their staff to provide a competitive environment for employees and to work in the restaurant. The restaurant was a great place to have a job. The restaurant was a great place to work and could also be a great place to have a place where a place where he could relax and have a job.</s>\n",
      "########\n",
      "*******\n",
      "question: The children play cards often, but they make their own rules because they can't what the originals?\n",
      "answer: remember\n",
      "choices: ['bid', 'concentrate', 'winning', 'count', 'remember']\n",
      "common expl list: ['Children often play games that are similar to those played by adults, such as card games, but with slight variations to how they are played. This is most likely because children cannot remember the original rules of the card games. Smiling is a common expression', \"The children are making up their own rules because they can't remember the original rules.\"]\n"
     ]
    },
    {
     "name": "stderr",
     "output_type": "stream",
     "text": [
      "\r",
      " 11%|█████████████████▍                                                                                                                                               | 107/986 [1:37:30<3:45:35, 15.40s/it]"
     ]
    },
    {
     "name": "stdout",
     "output_type": "stream",
     "text": [
      "generated explanation: <pad> <extra_id_0> The children play cards often, but they make their own rules because they can't play by the original rules. This is because children make their own rules for playing cards because they can't find the original rules for playing cards. This is because the original rules for playing cards are not the rules for playing cards. This is because the original rules were written by the original authors, so the rules they made were not the same. The children make their own rules for playing cards because they can't always find the original rules. This is because the originals are often change, and the originals are often change. The children make their own rules often change as the original rules. The rules that the original rules are often change as the rules of the originals. The original rules are often include the ability to keep up their own rules, and the originals. The children make up their own rules they make up their own, and follow them. This is because the original rules are often times. The rules are often based on the original rules are based on their own. This is because the original rules are often difficult to remember. The original rules are also difficult to remember the original. The children play their own rules are often based on the original rules are often difficult to remember the original rules are not always the original. The children make their own rules are not always based on the original rules. The original rules are often based on their own rules, but they can be made up their own rules. The rules are often based on their own rules are not the original rules are not the original rules are often changed to reflect the rules are not always the original rules of the original rules are often based on their own rules.</s>\n",
      "########\n",
      "*******\n",
      "question: On an average day, going to work could make you feel like what?\n",
      "answer: feeling good\n",
      "choices: ['feeling good', 'anger', 'revelation', 'being fired', 'tardiness']\n",
      "common expl list: ['People sometimes feel pride and accomplishment when they get things done at the office.', 'To fulfill a life purpose and to gain fulfillment, people often undertake gainful employment. Thus, the people who experience this data point might experience feelings of accomplishment/fulfillment.']\n"
     ]
    },
    {
     "name": "stderr",
     "output_type": "stream",
     "text": [
      "\r",
      " 11%|█████████████████▋                                                                                                                                               | 108/986 [1:37:44<3:39:40, 15.01s/it]"
     ]
    },
    {
     "name": "stdout",
     "output_type": "stream",
     "text": [
      "generated explanation: <pad> <extra_id_0> A good feeling is a positive feeling that comes with a good day of work. It is a feeling that is often associated with being productive and having fun. It is a feeling that is often associated with being productive and having fun. A good feeling is a state of mind that is associated with being productive and having fun. A good feeling is a feeling that is associated with being productive and having fun. A good feeling is a feeling of being productive and having fun. A good feeling is a feeling of accomplishment and accomplishment. A good feeling of satisfaction and satisfaction level of satisfaction and satisfaction and satisfaction. This is a day of work can be achieved by making you feel good about the day. It can also be a good feeling good, and a good mood. This can also be a good mood, which can help to help you work and having fun. A good feeling good day can also help to be positive and help you feel good about the day. A good day can also help you to have a good time to relax and provide a good overall. Overall, working at work can make a good overall happier and a good feeling good experience. It can also be a great way to be positive, and it can be a good time to feel good to be a good time to be able to help you feel good to work and help you feel good. Overall, working environment at work can help you feel good day of being a good time to work can make you feel good mood can make you feel good to feel good overall.</s>\n",
      "########\n",
      "*******\n",
      "question: What country has the carpathians and is the furthest in the direction of the side that won the U.S. Civil War?\n",
      "answer: poland\n",
      "choices: ['slovakia', 'slovenia', 'poland', 'ukraine', 'romania']\n",
      "common expl list: ['Poland is the only country that has the carpathian mountains, and it was the most distant in the direction from the side that won the U.S. Civil War (the North).']\n"
     ]
    },
    {
     "name": "stderr",
     "output_type": "stream",
     "text": [
      "\r",
      " 11%|█████████████████▊                                                                                                                                               | 109/986 [1:37:46<2:46:09, 11.37s/it]"
     ]
    },
    {
     "name": "stdout",
     "output_type": "stream",
     "text": [
      "generated explanation: <pad> <extra_id_0> The carpathians are a group of mountains in central Europe that are located in the region of Poland. They are located in the Carpathians, a region of Europe that is located in central Europe, and are a part of the Polish culture and history. They are a part of the Polish lands, and are a part of the Carpathians, a group of mountains that are surrounded by mountains and peaks. The carpathians are a mountain range in central Europe that is a part of the Czechoesonacho</s>\n",
      "########\n",
      "*******\n",
      "question: What would happen if you want to win a game?\n",
      "answer: competitiveness\n",
      "choices: ['competitiveness', 'satisfaction', 'learning', 'injuries', 'play']\n",
      "common expl list: ['To win a game, you must be competitive.', 'After playing a game, a person would be likely compelled to win the game becasue they want a feeling of satisfaction from winning the game. In order to win, a person would need to be competitive.', 'If you want to win a game, you will try put your best effort to take your chances at winning over those of your opponents.', \"Victory in a game requires one to make a maximum effort, and peoples' desire to win has to be rather competitive.\", 'Competitive athletes would want to win their games, whatever the cost; this desire to win leads to competitiveness and creates the desire to win over even long periods of time; it also often leads to brutal physical play --- such as by causing injuries to opposing r']\n"
     ]
    },
    {
     "name": "stderr",
     "output_type": "stream",
     "text": [
      "\r",
      " 11%|█████████████████▉                                                                                                                                               | 110/986 [1:38:00<2:53:16, 11.87s/it]"
     ]
    },
    {
     "name": "stdout",
     "output_type": "stream",
     "text": [
      "generated explanation: <pad> <extra_id_0> If you want to win a game, you need to be competitive and have the skills and mental ability to win. This means that you need to be able to compete with other players in the game and be able to win. This competitiveness is crucial to win a game because it helps you to stay ahead of your opponents. This competitiveness is also important to keep up with the competition and win a game. This is because competitiveness is the only way to win a game. This is because it is the only way to keep up and to win the game. This is important because it is a game. Competitiveness is also important to stay on the game. This means that you have to be competitiveness to win the game. This means that you need to be able to keep up with your competitive and your opponents. Competitiveness is also important to win a game. It is important to win a game. Competitiveness is the game. It is also important to remember to keep your own personal and your team’s interests. Competitiveness is also important to keep you in the game. Competitiveness is a key to win a team’s competitive spirit. This is important to keep you in the game. This competitiveness is also important to keep you’re in the game. Competitiveness in the game. It is also important to keep your mind and keep up with the competition. It is important to keep your mind your mind and keep up with your mind. This is important to keep you engaged and keeps you focused and focused on your opponents and their emotions.</s>\n",
      "########\n",
      "*******\n",
      "question: Where should watch to avoid being pinched by a crab?\n",
      "answer: sandy beach\n",
      "choices: ['eastern coast', 'sandy beach', 'fish market', 'north carolina', 'sand dunes']\n",
      "common expl list: ['It is more common to find crabs living in sandy beach areas.', 'Crabs live in sandy areas, and people who visit sandy beaches are likely to be pinched by crabs.']\n"
     ]
    },
    {
     "name": "stderr",
     "output_type": "stream",
     "text": [
      "\r",
      " 11%|██████████████████                                                                                                                                               | 111/986 [1:38:11<2:53:02, 11.87s/it]"
     ]
    },
    {
     "name": "stdout",
     "output_type": "stream",
     "text": [
      "generated explanation: <pad> <extra_id_0> A sandy beach is a great place to watch for crabs because it is a great place to watch for crabs and avoid being pinched by them. A crab is a small, round, or oval shaped creature that can be caught in a web and swam across the beach. Crabs are usually found on sandy beaches, and they are usually found in large numbers, especially in the summer months. Crabs are generally found in large numbers, and they are usually found near the shore, near a water. This is important to watch for crabs, as they can get into your boating, and can be a crab, and can be easily a crab. Crabs can be found in a sandy beach can be a great place to watch for a crab. Crabs can also be found in the if they are in the s that are looking for food, or a sandy beach. Crabs can be found at a sandy beach, or in the water and can be found in the s. Crabs are often found in the shallower and can be found in the shallower, if the beach. Crabs can be found in the shallow and may be s looking for food and food.</s>\n",
      "########\n",
      "*******\n",
      "question: What is a large group of human beings?\n",
      "answer: civilisation\n",
      "choices: ['an infestation', 'civilisation', 'homes', 'graveyard', 'spacecraft']\n",
      "common expl list: ['Civilisation is generally used to refer to large populations of humans living together in a single area, responding to collective needs.']\n"
     ]
    },
    {
     "name": "stderr",
     "output_type": "stream",
     "text": [
      "\r",
      " 11%|██████████████████▎                                                                                                                                              | 112/986 [1:38:47<4:35:56, 18.94s/it]"
     ]
    },
    {
     "name": "stdout",
     "output_type": "stream",
     "text": [
      "generated explanation: <pad> <extra_id_0> Civilisation is the collective practice of humans to create, maintain and improve their lives. Civilisation is the process of forming and maintaining relationships with each other, and with each other, to create a harmonious society. Civilisation is the process of forming relationships that allow people to share ideas and knowledge, and to create new ones. Civilisation is the process of forming and maintaining relationships that allow people to interact with each other and to create new forms of community and culture. Civilisation is the process of forming and maintaining a community of people who are a large group of people who are diverse and cultural diversity, and diverse groups. Civilisation is the process of a large group of exchange of knowledge and the world. Civilisation is a group of people who live in the world. Civilisation is the result of a collectively a globalised society that a common goal of a common good and a common goal of a common goal. Civilisation is a common goal of knowledge and to achieve a common goal of human beings and a shared goal. Civilisation is a large group of people who are a common ground for the human beings that are a common goal. Civilisation is a collective of people who are a common to exchange of culture, and a large group of people who are a large group of people who are a large number of people who are a collective goal and a common goal. Civilisation of people who are a common goal and who are a common goal and a common goal and a common goal. Civilisation is a common goal. Civilisation is a collective goal and a common goal. Civilisation is a collective. Civilisation and a common goal. Civilisation is a group of people who are a common goal and a commonality and shared by a common goal and who share a collective. Civilisation is a common goal and a large group of people who are a common good and share a common goal and a common goal and a common goal and a common goal and a common goal. Civilisation is a common goal and a large group of people who are a common goal and a community of people who are common and a common goal and a common goal for them to share their culture and they are a common goal and a common goal and not a\n",
      "########\n",
      "*******\n",
      "question: What  is likely to happen to ice in the sun?\n",
      "answer: become water\n",
      "choices: ['cool water', 'cool drink', 'cool off', 'nothing', 'become water']\n",
      "common expl list: ['When ice is exposed to the sun, it melts, becoming water.', 'because hot melts cold, ice will melt if kept in the sun.']\n"
     ]
    },
    {
     "name": "stderr",
     "output_type": "stream",
     "text": [
      "\r",
      " 11%|██████████████████▍                                                                                                                                              | 113/986 [1:39:01<4:14:51, 17.52s/it]"
     ]
    },
    {
     "name": "stdout",
     "output_type": "stream",
     "text": [
      "generated explanation: <pad> <extra_id_0> Ice is a solid material that is made of water, sand, and other solid substances. It is a solid material that is made of ice and other solid substances. The water in ice is a liquid form that is composed of ice and water. The water is a liquid form that is dissolved in the sun and is a liquid state. Water is a polar liquid that is essentially water. It is a clear and stable state of matter and is a good source of energy. Water is a water that is a solid and a liquid that is a solid and a liquid water. Water is a clear and dense material that can easily a solid and can be found in the water and a solid. This is a very difficult to keep a solid. In the sun, a solid and can easily melts water and can be found in water. Water can be a liquid or even a solid and a liquid. It is a liquid that is a solid and can be a solid and can be used to create a liquid. This is a solid and a liquid. In the water can be used to make a liquid. In the sun can also be used to make it into a liquid. This is a good source of water and it can be used to make it a solid and it is a good source of water source of heat and it can be used to make it into a liquid. This is a solid when temperatures are used to make it a good source of water that can be used to make it into a solid when the water is not a good source of water source of course of course of course of course. This is important because it can be used to make it easier to make it easier for water.</s>\n",
      "########\n",
      "*******\n",
      "question: Where can travellers pull off the road to stretch their legs?\n",
      "answer: rest area\n",
      "choices: ['rest area', 'airport', 'train station', 'come home', 'bus depot']\n",
      "common expl list: ['Rest areas generally allow travelers to spend time away from the roads, which are generally connecting points to large cities and particular highway names.', 'Rest areas are publicly provided spaces for drivers to get out of their cars for a break. Train stations, bus depots, come home, and airports are all places where one might catch a bus, train, taxi, or plane, or have arrived', 'Rest areas are places where people can pull off the road to stretch their legs, and they are often located near gas stations, which are frequented by travellers.']\n"
     ]
    },
    {
     "name": "stderr",
     "output_type": "stream",
     "text": [
      "\r",
      " 12%|██████████████████▌                                                                                                                                              | 114/986 [1:39:11<3:43:20, 15.37s/it]"
     ]
    },
    {
     "name": "stdout",
     "output_type": "stream",
     "text": [
      "generated explanation: <pad> <extra_id_0> A rest area is a place for travellers to stop and stretch their legs and relax. It is a place where travellers can pull off the road to stretch their legs and relax. It is a place where they can stop and take a break and enjoy the view of the road. It is a place where they can take a break from the hustle and bustle of the city and relax with their friends and family. It is a place where they can relax and enjoy the scenery. It is a place where they can take a place to enjoy the view of the city. It is a place where they can take a break from the city. The rest areas are often include a variety of activities. The rest areas are often have a variety of different types of people and businesses. It is a place where the peace and can take a break from the road. It can also be a place to rest. It is a place where the road is a place to take a break. It is a place where travellers can take a break from the road and relax. It is a place of peace and a place of peace and enjoy the city. It is a place of peace and a place where travellers can take a break and relax and feel the city. It is a place of peace and relaxation and relaxation. It is a place of peace and a place of relaxation and relax and relax.</s>\n",
      "########\n",
      "*******\n",
      "question: A poor family has no decorations in December, what would make a great gift?\n",
      "answer: christmas tree\n",
      "choices: ['food', 'specialty store', 'christmas tree', 'department store', 'christmas stocking']\n",
      "common expl list: ['A christmas tree is a traditional decoration for christmas.', 'The family is poor, so we might assume that they have nothing for decoration for their Christmas season. To help fix this, a Christmas tree would be the greatest gift.', 'In December, most families tend to put up christmas decorations. A christmas tree would make a good gift for a poor family.']\n"
     ]
    },
    {
     "name": "stderr",
     "output_type": "stream",
     "text": [
      "\r",
      " 12%|██████████████████▊                                                                                                                                              | 115/986 [1:39:26<3:39:33, 15.12s/it]"
     ]
    },
    {
     "name": "stdout",
     "output_type": "stream",
     "text": [
      "generated explanation: <pad> <extra_id_0> A Christmas tree is a great gift for a family that has no money to spend in December. It is a great way to give a family a gift of hope and joy during a time of great need. A Christmas tree is a great way to give a family a sense of hope and joy during a time of need. A Christmas tree is a great way to give a family a sense of belonging and a sense of pride and accomplishment. It is a great way to give a family a Christmas tree is a great gift for a great idea for a family to decorate their home. A Christmas tree is a great way to decorate a family and spread holiday cheer. A Christmas tree is a great way to give a great way to give a family a Christmas tree can be used to decorate the holidays. It is a great way to show off to give a great way to give a family a holiday season. It can be used to give a gift to a family Christmas cheer and to give to give to give to a family a great way to give them a Christmas tree as a great way to give a holiday to give to a family. It can be used to decorate a Christmas tree can be used to give a family with no decorations for a Christmas tree<extra_id_27> of Christmas tree is a great way to give a great gift to give a family a great way to give a family to give them a great way to give a gift to give to a family to give them a family a gift to a family a holiday spirit.</s>\n",
      "########\n",
      "*******\n",
      "question: Where would you buy jeans in a place with a large number of indoor merchants?\n",
      "answer: shopping mall\n",
      "choices: ['shopping mall', 'laundromat', 'hospital', 'clothing store', 'thrift store']\n",
      "common expl list: ['Shopping malls often have a large number of stores, including clothing stores.', 'Since malls (or indoor shopping centers in general) contain numerous merchants, including clothing stores, you could purchase jeans in one such store.', 'Shopping malls usually contain a large variety of stores, including stores that sell clothes and jeans.']\n"
     ]
    },
    {
     "name": "stderr",
     "output_type": "stream",
     "text": [
      "\r",
      " 12%|██████████████████▉                                                                                                                                              | 116/986 [1:39:45<3:56:17, 16.30s/it]"
     ]
    },
    {
     "name": "stdout",
     "output_type": "stream",
     "text": [
      "generated explanation: <pad> <extra_id_0> Shopping malls are a popular place to shop for jeans because they are filled with a large number of indoor merchants. Shopping malls are a popular place for people to shop for jeans because they are a popular place to shop for clothing and accessories. Shopping malls are a great place to shop for jeans because they are a place to shop for clothing and accessories. Shopping malls are also a great place to find new styles and styles of clothing. Shopping malls are also a great place to find bargains and bargains. Shopping malls are also known as they are also a great place to find the best for jeans. Shopping malls are also a great place to find the jeans in a shopping experience. Shopping malls are also a great place to find new styles, and accessories. Shopping malls are also a shopping experience. Shopping malls are often a great place to find the latest trends and other stores. Shopping malls are also a great place to find the latest trends and fashion. Shopping malls are a great place to find jeans in a shopping mall is a great place to find the latest styles and styles. Shopping malls are also a great place to find new and to find the latest styles and styles that are also available in a place to find the best prices. Shopping malls are also a great place to visit for those who are looking for new and fashion trendsetters that are often a great place to find new jeans that are also a great place to shop for people who are looking for jeans that are also a place to find great place to shop for those who are looking for their favorite.</s>\n",
      "########\n",
      "*******\n",
      "question: If I wanted to get some oxygen, what will I get it from?\n",
      "answer: air\n",
      "choices: ['the sky', 'air', 'earth', 'space shuttle', 'water']\n",
      "common expl list: ['Oxygen is found in the air.']\n"
     ]
    },
    {
     "name": "stderr",
     "output_type": "stream",
     "text": [
      "\r",
      " 12%|███████████████████                                                                                                                                              | 117/986 [1:39:55<3:26:41, 14.27s/it]"
     ]
    },
    {
     "name": "stdout",
     "output_type": "stream",
     "text": [
      "generated explanation: <pad> <extra_id_0> Air is the most common form of oxygen that is used in the body to provide the oxygen needed to function properly and to help us breathe. Air is a source of oxygen that is found in the air we breathe in. It is a natural gas that is produced naturally in the atmosphere and is a good source of oxygen for the body. Air is a great source of oxygen and is therefore a great source of oxygen. Air is a good source of oxygen because it is a natural source of oxygen and can be found in many different atmosphere. Air is a great source of oxygen. Air is a great source of oxygen and can be used to create a healthy lung health condition. Air is a great source of oxygen and is a great way to get oxygen in the body, and can be used to help with the body to breathe. Air is a great source of oxygenated cells, which can be used to help you breathe. Air is a great source of oxygen-rich with oxygen-rich with a variety of nutrients and tastes of different types of different. Air is a great source of oxygenated to get a great source of oxygen-rich, and can help you breathe. Air is a great source of oxygen is also a great source of oxygen in the body, because it can help you breathe.</s>\n",
      "########\n",
      "*******\n",
      "question: What happens after having food too much?\n",
      "answer: getting fat\n",
      "choices: ['being full', 'laziness', 'weight gain', 'getting fat', 'will not starve']\n",
      "common expl list: ['Eating too much food causes one to become obese.', 'Eating too much food causes one to gain weight, and thus become fat.', 'People will become fat, and even obese from eating too much food.']\n"
     ]
    },
    {
     "name": "stderr",
     "output_type": "stream",
     "text": [
      "\r",
      " 12%|███████████████████▎                                                                                                                                             | 118/986 [1:40:06<3:13:45, 13.39s/it]"
     ]
    },
    {
     "name": "stdout",
     "output_type": "stream",
     "text": [
      "generated explanation: <pad> <extra_id_0> After eating too much food, the body begins to store fat, which is a result of the body storing fat. This is because fat is a byproduct of the metabolism, which is responsible for the body storing energy and storing it as a form of stored energy. This is because the food you eat is stored as energy, which is converted into fat. This is because the body stores energy in the form of stored food, which is stored as fat. This is because the body stores energy from stored energy in the form of fat, which is not being filled with food, which can lead to a larger amount of calories, which can cause problems. This can lead to a number of calories, which can be difficult to absorb, as well as it can be a large number of calories, which can be a large amount of calories, which can cause a large number of fat storage capacity. This can lead to a large amount of calories, which can cause problems, such as obesity, and diabetes and obesity. This is a result of a high in the body, which can be used to absorbs and can lead to a large number of calories. This can cause a number of calories, which can be used to a large, which can be used to a variety of foods, which can be used to reduce the body.</s>\n",
      "########\n",
      "*******\n",
      "question: It was the first time they had met their new niece, it was good to have everybody together at the annual what?\n",
      "answer: family reunion\n",
      "choices: [\"brother's house\", 'family picture book', 'family tree', 'family reunion', 'book']\n",
      "common expl list: ['A family reunion is called a family reunion because this is where all of the family members gather for the re-union.']\n"
     ]
    },
    {
     "name": "stderr",
     "output_type": "stream",
     "text": [
      "\r",
      " 12%|███████████████████▍                                                                                                                                             | 119/986 [1:40:17<3:02:38, 12.64s/it]"
     ]
    },
    {
     "name": "stdout",
     "output_type": "stream",
     "text": [
      "generated explanation: <pad> <extra_id_0> A family reunion is a gathering of family and friends who come together to celebrate the birth of a child. A family reunion is a time of celebration and celebration, and it is a great way to bond with family and friends. It is also a time to renew relationships and reconnect with family members. A family reunion is a time for family and friends to bond and celebrate the birth of a child. It is a time for family bonding and sharing, and it is a time for family bonding and sharing. A family reunion is a time of fun-filled day of fun day of laughter, and bonding with friends, and to share stories, and to laugh, and enjoy each other family time. The reunion is a time of fun-filled time with family, and fun-filled time togetherness. The reunion is a time of family and fun for the whole family bonding and fun time to spend time together. The family is a time for the whole family to spend quality time with their new generation. It is a time to share in a time for them and to spend time with one another year. The family reunion is a time of fun and memories. It is a time for the whole family bond and to bonding.</s>\n",
      "########\n",
      "*******\n",
      "question: If you're expressing yourself in a public forum, what may you experience?\n",
      "answer: stage fright\n",
      "choices: ['danger', 'embarrassment', 'stage fright', 'getting arrested', 'blank stares']\n",
      "common expl list: ['If you are expressing yourself in a public forum, you may experience stage fright, which is the fear of being embarrassed in front of a large audience.', 'Stage fright is the feeling of embarrassment or nervousness at the thought of being in front of people, and being on stage for a performance is a good example of a place where one often experiences stage fright. In such a case, their performance might be', 'A common example of expressing oneself in public is on stage. Members of an audience may stare and become bored, and at worst they may hiss or boo.']\n"
     ]
    },
    {
     "name": "stderr",
     "output_type": "stream",
     "text": [
      "\r",
      " 12%|███████████████████▌                                                                                                                                             | 120/986 [1:40:25<2:45:36, 11.47s/it]"
     ]
    },
    {
     "name": "stdout",
     "output_type": "stream",
     "text": [
      "generated explanation: <pad> <extra_id_0> Stage fright is a common fear of public speaking and public speaking. It can be caused by anxiety, fear, and even panic. It can be caused by stress, anxiety, and nervousness. It can also be caused by a lack of confidence, fear of public speaking, or any other form of public speaking. Stage fright is a common fear that can affect anyone, especially in public speaking situations. It can be caused by anxiety, fear, and fear of public speaking. It can also be caused by a lack of stage a person is that can cause you to speak in public speaking, or speaking on stage. It can be caused by a public speaking publicly, or speaking in front of others, or speaking publicly. It can also be a sign of a public speaking or a public speaking in frontalizing your own life. It can also be caused by a public speaking in front-sider a public speaking in a public speaking engagement, or being in front-side a public speaking in front of your audience. It can be a result from a lack of confidence, or a public speaking in public speaking in front of your own.</s>\n",
      "########\n",
      "*******\n",
      "question: He was eating too much while no exercising enough, what did he suffer as a result?\n",
      "answer: gain weight\n",
      "choices: ['hungry', 'gas', 'obesity', 'gain weight', 'feeling full']\n",
      "common expl list: [\"If you eat too much and don't exercise enough, you will gain weight.\", 'Excessive food consumption leads to accumulation of fat, which then results in a higher body weight, i.e., weight gain.', 'If you eat more than you burn, you gain weight.']\n"
     ]
    },
    {
     "name": "stderr",
     "output_type": "stream",
     "text": [
      "\r",
      " 12%|███████████████████▊                                                                                                                                             | 121/986 [1:40:44<3:15:47, 13.58s/it]"
     ]
    },
    {
     "name": "stdout",
     "output_type": "stream",
     "text": [
      "generated explanation: <pad> <extra_id_0> He was eating too much while no exercising enough, resulting in a gain of weight. This is because he was eating too much and not exercising enough. This can lead to a gain of weight, which can be a serious problem if not managed properly. Eating too much can lead to a variety of health problems, such as obesity, diabetes, and heart disease. Eating too much can also lead to obesity, which can lead to weight gain. Eating too much can lead to a rise in blood sugar levels, and diabetes. Eating too much can also lead to diabetes and other complications such as diabetes, heart disease. Eating too much can also be a serious health careless and preventative measures can also help prevent weight loss. Eating too much of calories can also contribute to weight gain weight gain weight gain weight gain weight can also lead to a higher risk of heart disease, which can cause weight gain weight gain weight gain weight loss. Eating too much can also be a high in turn out in addition to a poor health and can also be a result of a person’s health problems. Eating too much can lead to a high blood sugar levels, diabetes and other health problems. Eating too much can also lead to health problems. Eating too much can also lead to a heart disease. If the man is not exercising enough, it can lead to a high blood pressure and high levels. Exercise can also lead to heart disease.</s>\n",
      "########\n",
      "*******\n",
      "question: Randy was not doing housework.   His wife was raising two children, and this only increased her workload. It put her under a lot of stress.  What might this lead to?\n",
      "answer: arguments\n",
      "choices: ['asthma', 'more', 'boredom', 'headache', 'arguments']\n",
      "common expl list: ['Stress is often related to family life. Being under stress, the wife might verbally lash out at her husband, which could potentially lead to arguments']\n"
     ]
    },
    {
     "name": "stderr",
     "output_type": "stream",
     "text": [
      "\r",
      " 12%|███████████████████▉                                                                                                                                             | 122/986 [1:40:55<3:05:20, 12.87s/it]"
     ]
    },
    {
     "name": "stdout",
     "output_type": "stream",
     "text": [
      "generated explanation: <pad> <extra_id_0> Randy’s wife was raising children, and this increased her workload. This put her in a lot of stress, and could have led to arguments. Randy was not doing housework, and this only increased her workload. This increased her workload and could have led to arguments. This could have led to Randy becoming irritable and irritable. Randy and his wife were not doing enough housework, and this could have led to arguments. Arguments can be triggered by many things, including: 1) Whether Randy was doing housework, 2) Randy was not doing housework, and 2) Randy was not doing his wife was also not doing the house, and 2) Randy was more time with the children, and the children). This could have led to arguments. This could have led to arguments. This could have caused Randy to lose his wife’s ability to more time to stress and stress levels. 2) Randy’s wife was not doing housework could have a lot more time with the children. 3) Randy’s wife was not doing housework could be more time to spend time with the children. This could have led to 3) Randy’s workload was not doing the housework could have been a lot of stress. This could have been caused Randy’s workload could have led to arguments about his wife was not doing housework could have led to arguments about Randy’s wife’s children.</s>\n",
      "########\n",
      "*******\n",
      "question: Where can you learn about a ferret with special abilities far beyond normal ferrets?\n",
      "answer: comic book\n",
      "choices: ['comic book', 'out of doors', 'great britain', 'redwall', 'north carolina']\n",
      "common expl list: ['ferrets are lovable pets that occasionally pop up in comic or animated shows and movies. Occasionally a ferret is rodent, but more often they are the companion of a hero.']\n"
     ]
    },
    {
     "name": "stderr",
     "output_type": "stream",
     "text": [
      "\r",
      " 12%|████████████████████                                                                                                                                             | 123/986 [1:41:12<3:23:08, 14.12s/it]"
     ]
    },
    {
     "name": "stdout",
     "output_type": "stream",
     "text": [
      "generated explanation: <pad> <extra_id_0> A ferret with special abilities far beyond normal ferrets is a fictional animal that is often depicted in comic books and other media such as newspapers, magazines, and television. Comic books often feature animals with special abilities such as flying, soaring, and jumping. A ferret with special abilities is a fictional animal that is often portrayed in a comic book as a superhero, a race car, or a flying saucer. A comic book featuring a ferret with special abilities is a character with an animal with an amazing imagination and imagination. A comic book character with an amazing ability to fly. A ferret with special abilities is often a character who has special abilities such as flying, or a flying. A ferret with special abilities is a flying, or if you can read a ferret with special abilities, such as a flying, or a flying saucer. A comic book with a character with special abilities. A ferret with special abilities is a character who has special abilities that make them a great way to be a ferret with special abilities. A comic book features a ferret with special abilities that makes it a comic book that a great way to learn about a ferret with special abilities and a great way to help them. A comic book also features that make them a special ability to help them fly and a great way to learn about a special ability to help people and a character with special abilities such as flying, or a special ability to help from a special ability to help people learn about their own. A comic book can also help people with disabilities, such as a character can also help with special abilities that can help humans and other animals to help people and their abilities can help them to help them to learn and to help them to help them to learn about ferret<extra_id_26> </s>\n",
      "########\n",
      "*******\n",
      "question: When people have guests over, what do they often do for their guests?\n",
      "answer: cook food\n",
      "choices: ['talk to each other', 'learn from each other', 'demand justice', 'cook food', 'share food']\n",
      "common expl list: ['People often cook food for their guests.', \"People who have guests (guests of any kind) over tend to cook them food. The food can either be pre-cooked, and ready to be served upon the guest's arrival, or consumed while the two of them have a conversation.\", \"When people have guests over, it's common for them to make food for their guests.\", \"People often prepare and share food because it's a way to welcome and appreciate each other.\", \"It's common to cook food for guests, which can feed everyone.\"]\n"
     ]
    },
    {
     "name": "stderr",
     "output_type": "stream",
     "text": [
      "\r",
      " 13%|████████████████████▏                                                                                                                                            | 124/986 [1:41:20<2:54:03, 12.12s/it]"
     ]
    },
    {
     "name": "stdout",
     "output_type": "stream",
     "text": [
      "generated explanation: <pad> <extra_id_0> When guests have guests over, they often cook food for their guests to enjoy with their guests. This is because guests are likely to be hungry and thirsty, which can lead to a crowded house and a crowded house. Cooking food for guests can be a great way to relax and enjoy the company of their guests. It can also be a great way to introduce your guests to your guests and to introduce them to your company. Cooking food for guests can be a great way to relax and socialize with your guests. This can be used to provide them with a variety of different dishes, drinks, desserts, drinks, desserts, and other special occasions. Cooking food can also be a great way to help make it a great way to make them feel comfortable and the guests will appreciate their guests. Cooking can also be fun and a great way to enjoy their guests and to enjoy the company of their guests. Cooking can be a great way to entertain them and a great way to get to meet their guests and to enjoy their guests.</s>\n",
      "########\n",
      "*******\n",
      "question: Talking to someone is pointless if they're doing what?\n",
      "answer: not listening\n",
      "choices: ['dry mouth', 'whispering', 'being heard', 'eye contact', 'not listening']\n",
      "common expl list: ['To be engaged in a conversation--particularly a one-on-one conversation, both people must be listening attentively.', 'People who are not listening to you will obviously not be able to understand your communication.']\n"
     ]
    },
    {
     "name": "stderr",
     "output_type": "stream",
     "text": [
      "\r",
      " 13%|████████████████████▍                                                                                                                                            | 125/986 [1:41:28<2:38:12, 11.02s/it]"
     ]
    },
    {
     "name": "stdout",
     "output_type": "stream",
     "text": [
      "generated explanation: <pad> <extra_id_0> Not listening is a sign that someone is not listening to you. It is a sign that someone is not listening to you and is not paying attention to you. Not listening to someone is a sign that you are not listening to them and that you are not listening to them. Not listening is a sign that someone is not paying attention to you and is not listening to them. Not listening is a sign that someone is not listening to you and is not paying attention to you. Not listening is a sign that someone is not paying attention to them. Not listening is a sign of not listening is not listening. Not listening is not listening is not being a sign that someone is not paying attention to you are not paying attention to them. Not Listening is not listening is a sign that you are not paying attention to them. Not listening is a sign that you are not paying attention to you are not paying attention to you are not listening to them. Not listening is not listening is a sign that they are not paying attention to you. Not listening is a sign that you are not listening to them. Not listening is a sign that you are not listening to them. Not listening is a sign that you are not paying attention to them.</s>\n",
      "########\n",
      "*******\n",
      "question: If you are enjoying sunshine on the beach, what do you likely have views of?\n",
      "answer: sea\n",
      "choices: ['windowsill', 'sunbathers', 'disneyland', 'sea', 'summer']\n",
      "common expl list: [\"The beach is a place where people go to enjoy the sun, and so it's likely that the beach would have views of the sea.\", 'Seashores usually have views of the water (i.e., the \"sea\").', 'To sunbathe, one would likely be found on a beach, where one would likely see the sea before anything else.']\n"
     ]
    },
    {
     "name": "stderr",
     "output_type": "stream",
     "text": [
      "\r",
      " 13%|████████████████████▌                                                                                                                                            | 126/986 [1:41:50<3:26:12, 14.39s/it]"
     ]
    },
    {
     "name": "stdout",
     "output_type": "stream",
     "text": [
      "generated explanation: <pad> <extra_id_0> When you are enjoying sunshine on the beach, you are likely to have views of the sea. The sea is the most common view that people enjoy on the beach. The sea is the most common view that people have on the beach. The sea is the most common view that people have on the beach because it is the most visible part of the day. The sea is the most visible part of the day. The view that people enjoy on the beach is the sea. The sea is the most common view that people have on the beach. The sea is the most often the most visible from the shore, the waves and the shore. The waves are often the shore, which is the most common for people who are enjoying the beach. The waves are often seen from the shore, the sea. The shore is often the most common sight that people enjoy the beach because of the shore. The waves are often the shore, and the waves. The waves are often seen from the shore, and the shoreline. The sun is often the waves reflected in the a great way to enjoy the beach. The waves a great way to enjoy the beach. The beach is a great way to relax and enjoy the beach. The waves are also a great way to enjoy the beach. The waves are also a great way to enjoy the beach. The beach is a great way to relax and enjoy the beach. The waves are often a great way to enjoy the beach. The views of the beach are often clear and the waves are reflected in a great way to enjoy the beach. The views are also great way to enjoy the beach and the scenery and the natural landscape. The waves are a great way to enjoy the beach is a great way to relax and enjoy the scenery is<extra_id_27> </s>\n",
      "########\n",
      "*******\n",
      "question: What does an actor do while acting?\n",
      "answer: pretend\n",
      "choices: ['branch out', 'eat curry', 'wear costume', 'pretend', 'sing songs']\n",
      "common expl list: ['Actors pretend certain things. While acting, they might pretend to be in a different location by going somewhere close to a stage feed. Actors might also pretend to possess particular materials while on stage by carrying props.']\n"
     ]
    },
    {
     "name": "stderr",
     "output_type": "stream",
     "text": [
      "\r",
      " 13%|████████████████████▋                                                                                                                                            | 127/986 [1:41:58<2:55:42, 12.27s/it]"
     ]
    },
    {
     "name": "stdout",
     "output_type": "stream",
     "text": [
      "generated explanation: <pad> <extra_id_0> An actor does something while he or she is acting. While acting, an actor does something called a pretend. A pretend is a physical activity that is performed in a controlled environment. A pretend is a physical activity that involves moving, breathing, and/or speaking. A pretend is a physical act that involves the use of a prop such as a puppet, a prop, or a piece of clothing. A pretend is a physical activity that is performed to simulate the action of an actual person. A pretend is a person’s’s presence. The actor is in a role, or other activities. The actor is usually engaged in a pretending activity. While acting, the actor is a pretend is a physical activity such as s own body, a real-like, a physical act, such as a physical activity. The pretending is a physical act. The actor is a physical activity that allows the imagination and physical activity. The actor can use a physical activity to create a real-like appearance. The act of a physical activity, such as a a musical or a character.</s>\n",
      "########\n",
      "*******\n",
      "question: Where is a ring binder likely to contain budgets?\n",
      "answer: office\n",
      "choices: ['office', 'notebook', 'school', 'stationary shop', 'desk']\n",
      "common expl list: ['An office setting is the most likely place where a manager would keep a collection of budgets.', 'A ring binder is likely to contain budgets in an office, as budgets are often prepared by office workers.']\n"
     ]
    },
    {
     "name": "stderr",
     "output_type": "stream",
     "text": [
      "\r",
      " 13%|████████████████████▉                                                                                                                                            | 128/986 [1:42:21<3:44:37, 15.71s/it]"
     ]
    },
    {
     "name": "stdout",
     "output_type": "stream",
     "text": [
      "generated explanation: <pad> <extra_id_0> A ring binder is a type of binder used to store budgets and other financial documents. It is a convenient way to store and organize budgets and other financial documents, such as letters, invoices, and other financial documents. It is also a convenient way to store and organize documents, such as letters, forms, and other financial documents. Ring binders are typically used for storing documents in an office environment, such as a kitchen, bathroom, or kitchen. They are typically used to store documents, such as well as ring binders, cabinets, or other documents, and other documents. Ring binders are typically used to be used to store budgets in rings, or other documents, such as budgets, or other financial documents. They are likely to be used in a budget is likely to be used to store documents such as payroll, taxes, or other financial information. The ring binders are used to store and organize budgets in a variety of budgeting tools, such as a a ring binder, or other documents, such as a a a budget or other documents. Ring binders are designed to be used to store and organize documents, such as a variety of different types of documents, such as a company’s, such as a company’s, or personal documents, such as a company’s, such as a company’s, such as a company’s annual budget, such as a company’s, or other documents, such as a company’s, or other documents, such as a company’s, or a company’s, or other documents, or a a company’s, such as ring binders, or a company or a company’s a company’s, or a company’ budget, such as a company’s, or a company logos, or other documents, or other documents, or other documents. The a company logos, or logos, logos, or logos, or logos, or other company logos, or other documents, logo, or logos logo, logo, or other documents, or other documents, or logo, or logo, or other documents, or a company logo, logo, or other documents, logo or logo, or logo, or other documents, or logo,\n",
      "########\n",
      "*******\n",
      "question: Where do you go when you're about to board a vehicle on railing?\n",
      "answer: railway station\n",
      "choices: ['railway station', 'deck', 'flight of stairs', 'porch', 'bus station']\n",
      "common expl list: ['Railway stations are where you board trains, which are often on rails.', 'Trains and busses both commonly make use of rail transportation to facilitate their travel. Railway station is the station they are staking out to board at. Thus, railway station is where you would go if you need to board a vehicle on a']\n"
     ]
    },
    {
     "name": "stderr",
     "output_type": "stream",
     "text": [
      "\r",
      " 13%|█████████████████████                                                                                                                                            | 129/986 [1:42:31<3:17:07, 13.80s/it]"
     ]
    },
    {
     "name": "stdout",
     "output_type": "stream",
     "text": [
      "generated explanation: <pad> <extra_id_0> A railway station is a place where people go to get a train or other transportation, such as a bus, train, or other vehicle. It is a place where people go to get to and from the railway station. It is a place where people go to board a train or other transportation, such as a bus, train, or other vehicle. It is a place of safety and security, and it is a place where people go to get a train or other vehicle. It is a place where people, and safety issues, and other passengers. The railway station is a place where people go to board a train and other passengers. The station is a railway station is a place where people go to wait for them. The railway station is a place where you can get a ticket or other passengers. The railway station is a railway station, and a place of security. The railway station is a place where people can be seen on railing can be seen by the railing. The railway station is a safe place for passengers. The railway station is a place to board a safe and safe place to get a safe place to be sure to get to get to board a train is safe and secure. The station is a safe place to get a safe place to get to board a ticket and a safe place to get a train is safe and a safe place to go to board a safe place to get if you need to get a ticket.</s>\n",
      "########\n",
      "*******\n",
      "question: Where can I go to see a really big toy balloon floating at the top of a dome?\n",
      "answer: circus\n",
      "choices: ['parade', 'circus', 'amusement park', 'birthday party', 'magic show']\n",
      "common expl list: ['Circuses often have big inflatables on the top dome of a tent; inside, they could house various attractions such as clowns, acts, games, rides, food, drinks, etc.']\n"
     ]
    },
    {
     "name": "stderr",
     "output_type": "stream",
     "text": [
      "\r",
      " 13%|█████████████████████▏                                                                                                                                           | 130/986 [1:42:42<3:07:12, 13.12s/it]"
     ]
    },
    {
     "name": "stdout",
     "output_type": "stream",
     "text": [
      "generated explanation: <pad> <extra_id_0> A circus is a circus that uses a lot of energy and imagination to keep the audience entertained and entertained. A circus is a circus that uses energy to keep the audience entertained. A circus is a circus that uses a lot of imagination and imagination to keep the crowd entertained and entertained. A circus is a circus that uses a lot of imagination and imagination to keep the audience entertained. A circus is a circus that uses a lot of energy and imagination to keep the audience entertained. A circus is a circus that uses balloons toy toy toy toy toya big balloon toy toy balloon toy toy toy toy balloons toy toy toy toy balloons toy balloons toy toy toy toy balloons to keep the audience entertained. The balloons are used toy to keep the audience entertained by performing tricks and to keep the audience entertained. The circus also provides a place to see the audience. The balloons are used to entertain the crowd and are used to entertain the audience. The circus is a place to provide entertainment for the audience. The circus is a great place to see a variety of entertainment. The circusequipment</s>\n",
      "########\n",
      "*******\n",
      "question: They got to the door and it was locked, he reached in his jeans what to retrieve the key?\n",
      "answer: pocket\n",
      "choices: ['pocket', 'bus depot', 'lock', 'purse', 'front door']\n",
      "common expl list: ['People often keep their keys in their pockets.', 'Most people keep house keys in their pocket.']\n"
     ]
    },
    {
     "name": "stderr",
     "output_type": "stream",
     "text": [
      "\r",
      " 13%|█████████████████████▍                                                                                                                                           | 131/986 [1:42:54<3:00:29, 12.67s/it]"
     ]
    },
    {
     "name": "stdout",
     "output_type": "stream",
     "text": [
      "generated explanation: <pad> <extra_id_0> The key was locked in the pocket of the man who was waiting for the door to open. The key was in the pocket of his pocket, which he reached into to retrieve the key. The key was in the pocket of his jeans, which he had thrown in his pocket to retrieve. The key was in the pocket of the man who was waiting for the door to open, and the door was locked. The man reached into his pocket and pulled out the key from the pocket, which he had left open. The key was in the pocket, and the key was in the pocket. The man who was waiting for the door was locked. The key was in the pocket of his jeans, which was in the jeans, and he had the key in his jeans. The key was in his pocket, and he pulled the key from his jeans. The man was waiting for the door and the key in his jeans, which he had been left the door open the pocket, and pulled the door open the pocket, and the door was locked. The man was waiting for the door was in his jeans, and the pocket. The man was waiting for the door was locked the door was locked, and the door. The man had to retrieve the key from the pocket and the pocket. Then's were locked the door was in his jeans. The man was waiting for the door open, and was waiting for the pocket of his</s>\n",
      "########\n",
      "*******\n",
      "question: The car was overheating, where was it located?\n",
      "answer: in phoenix\n",
      "choices: ['airport', \"neighbor's house\", 'in phoenix', 'repair shop', 'street corner']\n",
      "common expl list: ['Phoenix is a hot place, and cars often overheat there.']\n"
     ]
    },
    {
     "name": "stderr",
     "output_type": "stream",
     "text": [
      "\r",
      " 13%|█████████████████████▌                                                                                                                                           | 132/986 [1:43:17<3:43:19, 15.69s/it]"
     ]
    },
    {
     "name": "stdout",
     "output_type": "stream",
     "text": [
      "generated explanation: <pad> <extra_id_0> The car was overheating because the radiator was not working properly. The radiator was not cooling properly and was not able to keep up with the load. The radiator was also not able to keep up with the load, which caused the car to overheat. The radiator was also not able to keep up with the load. The radiator was not able to keep up with the load, which caused the car to overheat. The radiator was not able to keep up with the demand of the heat. The radiator was not a reliable and reliable service provider. The car was overheating problem was not able to fix the problem. The car was overheating in Phoenix was causing the car to overheating, which can lead to causing the car to overheating. The radiator was also not able to keep up with the proper maintenance. The radiator is able to be replaced, and the car to keep up with the car running until the car is back on a newer. The radiator is not able to keep up with the car overheating, and causing the car to overheating. The car was overheating the temperature to the car to keep up with the a new, which can be a few minutes. The radiator was in a few minutes to causing the car to overheating could cause the car to overheating, which could cause the car to overheating, which could cause the car to overheating, which could cause the car to be replaced, which could cause the car to repair shop for the car to repairman to keep up to keep up with the temperature, which could cause the car to overhe</s>\n",
      "########\n",
      "*******\n",
      "question: Where is likely to have a walk in type wardrobe?\n",
      "answer: mansion\n",
      "choices: ['recreational vehicle', 'clothes cupboard', 'house', 'mansion', 'bedroom']\n",
      "common expl list: ['A walk in wardrobe is a large type of closet that could be found in a mansion.', 'As I think of scenarios, the result I expect the most is that of a person with a lot of clothes, or a clothing designer, living in a mansion; these people might have the luxury of a walk in wardrobe.', 'A walk-in wardrobe is a large wardrobe that is usually found in a mansion.']\n"
     ]
    },
    {
     "name": "stderr",
     "output_type": "stream",
     "text": [
      "\r",
      " 13%|█████████████████████▋                                                                                                                                           | 133/986 [1:43:31<3:36:56, 15.26s/it]"
     ]
    },
    {
     "name": "stdout",
     "output_type": "stream",
     "text": [
      "generated explanation: <pad> <extra_id_0> A mansion is a mansion that is designed to be a luxurious living space. It is a large space, with many rooms, and a variety of rooms. It is a place of relaxation and relaxation, and a great place to be able to relax and enjoy the company of friends and family. A mansion is a luxurious place to live, with many rooms able to accommodate guests and provide a range of amenities. A mansion is a large, open space, with a large number of rooms. A walk in a mansion is a great place for guests. It is a great place to enjoy a romantic getaway or a romantic getaway. A mansion is also a great place for a great place to enjoy the company of people can enjoy a walk in a comfortable space. A mansion is a great place to enjoy the company of friends and relax. A mansion is a great place to enjoy the company of guests. A mansion is a great place to relax and enjoy the company. A mansion is a great place to enjoy the company of friends and family. Mansions are also a great place to relax and a great place to relax and enjoy the company of guests. The mansion is also a great place to relax and enjoy the company of people. A mansion is a great place to spend time with friends and enjoy a great place to enjoy a private space for guests and enjoy the company.</s>\n",
      "########\n",
      "*******\n",
      "question: How bad is the punishment for someone who is over indulgent?\n",
      "answer: severe\n",
      "choices: ['severe', 'harsh', 'hard', 'strict', 'self denying']\n",
      "common expl list: ['Overindulgence in anything is bad, possibly leading to lethargy, poor health, overspending, and the like. As a result of this, a punishment for a person who is over-indulgent could be severe.']\n"
     ]
    },
    {
     "name": "stderr",
     "output_type": "stream",
     "text": [
      "\r",
      " 14%|█████████████████████▉                                                                                                                                           | 134/986 [1:43:38<3:02:26, 12.85s/it]"
     ]
    },
    {
     "name": "stdout",
     "output_type": "stream",
     "text": [
      "generated explanation: <pad> <extra_id_0> Over indulgence is a serious offense that can result in serious consequences. It can be as severe as a fine or jail time. This is because it is a serious offense for someone to indulge in an excessive amount of food or drink. It can also be a serious offence because it can be a sign of weakness and weakness. This is because it is a sign of weakness and weakness. It can also be a sign of weakness or weakness. It can also be a sign of weakness. It can also be a person may be punished for being over indulgent in if they are not careful. It can be a serious punishment for someone who is over indulgenty. It can be a serious injury or even worse. It can be a serious injury or even death. It can be a serious injury or illness. It can be a serious injury or illness. It can be a serious condition. It can be a serious injury or even fatal.</s>\n",
      "########\n",
      "*******\n",
      "question: She was going to bed at 11 at night, what was she looking to do?\n",
      "answer: falling asleep\n",
      "choices: ['falling asleep', 'relaxing', 'rest', 'dreaming of', 'laziness']\n",
      "common expl list: [\"People go to bed when they're tired and want to sleep\", 'Falling asleep is often a desired result when going to bed.']\n"
     ]
    },
    {
     "name": "stderr",
     "output_type": "stream",
     "text": [
      "\r",
      " 14%|██████████████████████                                                                                                                                           | 135/986 [1:44:09<4:19:50, 18.32s/it]"
     ]
    },
    {
     "name": "stdout",
     "output_type": "stream",
     "text": [
      "generated explanation: <pad> <extra_id_0> If she was going to bed at 11 at night, what she was looking for was to fall asleep. If she was going to fall asleep at 11 at night, then she was looking to fall asleep at the same time. If she fell asleep at the same time, then she would have to go to bed earlier. If she fell asleep at the same time, she would have to go to bed earlier than she normally would have to do. If she fell asleep at the same time every night, then she would have to go to bed earlier than usual. If she were to wake up at 11 at 11 at night, she would probably not have to go to wake up at around midnight, so she could wake up at the same time. If she fell asleep at around 11 or was looking for something else, she would have to sleep at the time. If she were to be awake, then she would have to get ready to sleep at the time, then she would have to get up early morning, and get up at around 11 pm. If she was looking to get up at around 11 PM, then she would have to get up at around 11 pm. If she was looking to fall asleep at 11 at night, she would be a different time, and then be able to get up earlier in the next day, or later in the morning, then she would be able to get up and sleep at 11 pm, then she would be able to get up earlier in the same time to get up and be asleep at 11 pm. If she were to get up earlier, she would be able to get up at the same time to get up at night to get up at least get up and be able to get up at night, then she would be asleep at 11 pm, she would be able to get to sleep at 11 and be able to get up at 11 and be able to sleep at night. If she was going to get up and fall asleep again, she would have to get to get up again and get up and then again. If possible to get up earlier, or later than usual. If she was going to get up and fall asleep before the same time, or at night, then to sleep would be able to get up and get up earlier and then again. If she was looking to sleep earlier than usual. If she was looking to get up earlier and to get up earlier, and be able to get up earlier and fall asleep earlier, then to get\n",
      "########\n",
      "*******\n",
      "question: A company with the moniker of Big Sky Excavation would probably be found where?\n",
      "answer: montana\n",
      "choices: ['a forest', 'city', 'egypt', 'montana', 'desert']\n",
      "common expl list: ['Mountain ranges are often called \"big sky\"s. The term is popular for companies in Montana, a state with lots of mountians, including two major mountain ranges.']\n"
     ]
    },
    {
     "name": "stderr",
     "output_type": "stream",
     "text": [
      "\r",
      " 14%|██████████████████████▏                                                                                                                                          | 136/986 [1:44:22<3:54:26, 16.55s/it]"
     ]
    },
    {
     "name": "stdout",
     "output_type": "stream",
     "text": [
      "generated explanation: <pad> <extra_id_0> A company with the moniker of Big Sky Excavation would probably find itself in the mountains of the western United States, where it is headquartered. The company is a privately held company with a headquarters in Great Falls, Montana, which is a state in the western United States. The company is a mining contractor, and is a major supplier of mining equipment, supplies, and services to the mining industry. The company is based in Great Falls, Montana, where it is headquartered. The company is a mining company that a state, and has a number of different types of mining companies, including: in the mountains of the mountains, and other mountain ranges, in the Rocky Mountains, which are found in the Rocky Mountains, in the Rocky Mountains, and the Rocky Mountain Region of the Rocky Mountains. The company is a mining operation in the Rocky Mountains, where it is located in the Rocky Mountain, the state of the Rocky Mountain National Parks, and other parts of the Rocky Mountains. The company is a major mining industry in the Rocky Mountain, and a large company that based in the Rocky Mountains, and are a company that is a great place to the Rocky Mountains, and is located in the Rocky Mountains. The company is located in the Rocky Mountains, and the Rocky Mountains, and the Rocky Mountains, and the Rocky Mountains. The company is based in the Rocky Mountains, which is a large, and is located in the Rocky Mountains, which is a large, and is located in the Rocky Mountains. The company is based in the Rocky Mountains, which is a small, and is based in the Rocky Mountains.</s>\n",
      "########\n",
      "*******\n",
      "question: Which horseman of the apocalypse is often depicted next to death?\n",
      "answer: war\n",
      "choices: ['battlefield', 'the healer.', 'funeral', 'war', 'hospital']\n",
      "common expl list: ['A time of war is also often associated with someone dying.']\n"
     ]
    },
    {
     "name": "stderr",
     "output_type": "stream",
     "text": [
      "\r",
      " 14%|██████████████████████▎                                                                                                                                          | 137/986 [1:45:03<5:40:44, 24.08s/it]"
     ]
    },
    {
     "name": "stdout",
     "output_type": "stream",
     "text": [
      "generated explanation: <pad> <extra_id_0> The horseman of the apocalypse is often depicted next to death because war is a major cause of human suffering and death. It is often depicted as a horseman or horseman riding alongside a dead body, often a soldier or a soldier in combat gear. This is because war is a major cause of human suffering and death. It is also a symbol of the end of the world and of the end of civilization. The horseman of the apocalyps are often depicted as a war is a warrior, and the a horseman of the horseman of war is often a horseman riding apoca symbol of the end of peace that is apoca apocapoca a soldier or a soldier fighting in battle a horseman of death and apoca sign of the end of the end of war is apocapocapocapocapocapocapoca time and the end of war is often apocapocapocapocapocapocapocapocapoca horseman of death. War is a symbol of the end of the end of war is apocapocapoca horseman of the end of the end of the end of the end of war. War is apocapocapocapocapocapocapocapocapocapocapocapocapocapocapocapocapocapocapocapocapocapocapocapocapocapocapocapocapocapocapocapocapocapocapocapocapocapocapocapocapocapoca apocapocapocapocapocapocapocapocapocapocapocapocapocapocapocapoca apoca apoca apocapocapoca apocapoca apoca apocapocapocapocapoca apocapocapoca apocapoca apocapocapocapocapocapocapoca apocapoca apocapocapocapocapoca apoca a a apocapocapoc\n",
      "########\n",
      "*******\n",
      "question: What could be used to write with a steel pen?\n",
      "answer: hand\n",
      "choices: ['warehouse', 'arm', 'hand', 'desk drawer', 'veterinary office']\n",
      "common expl list: ['Using a steel pen requires someone to hold it, and we associate writing with hands. Powder can be used with steel pens as a \"contrast medium.', 'you write with a steel pen using your hand.']\n"
     ]
    },
    {
     "name": "stderr",
     "output_type": "stream",
     "text": [
      "\r",
      " 14%|██████████████████████▌                                                                                                                                          | 138/986 [1:45:16<4:51:57, 20.66s/it]"
     ]
    },
    {
     "name": "stdout",
     "output_type": "stream",
     "text": [
      "generated explanation: <pad> <extra_id_0> A handwritten note can be written with a steel pen because it is a solid, durable pen that is made of steel. A handwritten note can be written with a steel pen because it is made of a strong material that is durable and can be used to write on any surface. A handwritten note can be written on any surface with a steel pen because it is made of a hard, durable material that is easy to hold and use. The handwriting is done by placing the pen in the palm of the hand and holding the pencil is a pen can be used to write on any of steel pen is a great tool for writing on any type of the pen can be used to write on any of any type of steel pen can be used to write on any type of steel pen can be used to write any type. Steel can be used to write on any type of paper or pencil or paper, or pencil to be used to write on any typewriter. The steel pen can be used to write on any paper or any paper or paper that is a steel pen in any typed to write on the pen is made of the tip of the tip of the pen to be used to write on the paper. The steel can be used to write on any paper or to create a steel pen with a pen. The steel pen can be used to write on any paper or any paper or a paper, or to create any paper or a paper.</s>\n",
      "########\n",
      "*******\n",
      "question: I needed to find out how to contact a person with a certain name, where should I look?\n",
      "answer: phone book\n",
      "choices: ['directory', 'michigan', 'roster', 'phone book', 'certificate']\n",
      "common expl list: ['People are listed in phone books for easy access by callers.', 'Phone books are usually a good source for finding phone numbers to call other people.', \"Phone books are used to find people's phone numbers.\", 'A phone book is likely to have the phone numbers of nearby people.']\n"
     ]
    },
    {
     "name": "stderr",
     "output_type": "stream",
     "text": [
      "\r",
      " 14%|██████████████████████▋                                                                                                                                          | 139/986 [1:45:27<4:12:01, 17.85s/it]"
     ]
    },
    {
     "name": "stdout",
     "output_type": "stream",
     "text": [
      "generated explanation: <pad> <extra_id_0> Phone book is a great resource for finding information about people and their names. It is a great resource for finding information about people and their names. It is a great resource for finding information about people and their names. Phone books are a great resource for finding information about people and their names. Phone books are a great resource for finding information about people and their names. Phone books are a great resource for finding out who a person is and how to contact them. Phone books are a great resource for finding out about a person’s are important for anyone seeking out how to contact someone with a person with a person’s name, and other information about the person’s name of their address, and their name, as well as it is a good source for finding information about people with a variety of people. Phone books are also a great way to find out who they can also be used to find out their address, and other information. Phone books are also great way to find out about a person’s name of all kinds of people’s location, including the phone book. Phone books are a great way to find out who they are also a great way to find out about who they are also a person’s location. Phone books are also a great way to find out who they are also a great way to find out about who they are also a great way to find out who they are also a great way to find out how to contact someone’s and how to find out who they are<extra_id_27> </s>\n",
      "########\n",
      "*******\n",
      "question: What is important for a couple to do?\n",
      "answer: communicate\n",
      "choices: ['live together', 'row about', 'plan to marry', 'communicate', 'marry each other']\n",
      "common expl list: [\"To make a relationship work, it's very important to communicate with each other.\", 'Couples who communicate well are more likely to stay together, and thus, it is important for a couple to communicate.', 'Communication is a key part of a healthy relationship and - often equally as important - is the commitment to communicate effectively.']\n"
     ]
    },
    {
     "name": "stderr",
     "output_type": "stream",
     "text": [
      "\r",
      " 14%|██████████████████████▊                                                                                                                                          | 140/986 [1:45:39<3:47:16, 16.12s/it]"
     ]
    },
    {
     "name": "stdout",
     "output_type": "stream",
     "text": [
      "generated explanation: <pad> <extra_id_0> Communication is the process of establishing and maintaining relationships. Communication is the process by which two people can establish a relationship. Communication is the process by which two people can establish a relationship. Communication is the process by which two people can establish a relationship. It is important for a couple to communicate in order to establish a relationship. Communication is the process of establishing a relationship and maintaining a relationship. Communication is the process of establishing a relationship and establishing trust. Communication is the process by which a couple can establish a relationship. Communication is important for couples to maintain a relationship. This communication is a couple’s relationship. Communication is important for couples to establish trust and respect each other’s opinions, respect and respect each other’s feelings and trust each other’s needs and to support each other. It is also important for them to establish trust and to communicate their feelings and to each other’s own needs and to understand each other’s needs and to be able to communicate with each other people. It is also important to be able to establish and maintain relationships. This is important for establishing a positive and maintain a relationship. Communication is important for a healthy and maintain a healthy partnership. It is also important to maintain a relationship and maintain a positive and maintain a healthy relationship. It is important to communicate and maintain a positive and a positive and encourage each other. It is important to communicate with each other and to be honest and to build trust. In addition to communicate. Communication is important to be openness and to be a positive and supportive of one another.</s>\n",
      "########\n",
      "*******\n",
      "question: The botanist knew the plant was living, what did he observe that led him to know that?\n",
      "answer: respiration\n",
      "choices: ['interaction', 'death', 'respiration', 'expiration', 'chlorophyll']\n",
      "common expl list: [\"The teacher commonly noted that plants give off oxygen as a result of respiration, which helps fuel their energy and growth. This was evidence of a plant's life.\"]\n"
     ]
    },
    {
     "name": "stderr",
     "output_type": "stream",
     "text": [
      "\r",
      " 14%|███████████████████████                                                                                                                                          | 141/986 [1:45:56<3:47:51, 16.18s/it]"
     ]
    },
    {
     "name": "stdout",
     "output_type": "stream",
     "text": [
      "generated explanation: <pad> <extra_id_0> The botanist knew the plant was living because it was breathing. The plant was living because it was breathing and breathing was a natural process. The plant was breathing and it was breathing. The plant was breathing and breathing because it was breathing. The plant was breathing and breathing was a natural process. It was breathing and breathing was a natural process. The plant was breathing and breathing was a natural process that the plant was able to control its own breathing rate. The plant was breathing and breathing was able to regulate its own breathing rate. The plant was breathing and its respiration. The plant was breathing was breathing and then able to maintain its own respiration and to keep the plant was breathing was able to maintain its own breathing and its own oxygenated. The plant was breathing and its own body was breathing and its own oxygen. The plant was breathing and its own respiration rate was able to maintain its own oxygen levels. The plant was able to keep its own oxygen and oxygenated. The plant was breathing and it was able to maintain its own oxygen to keep its own. The plant was also able to keep up to maintain its own oxygen-producing oxygen to keep it alive. It also a constant, which allowed it to maintain its own oxygenated. The plant was able to produce more oxygen and oxygenated. It was breathing and oxygenated, able to maintain its own oxygenated, which was able to maintain its own oxygen levels. This was able to maintain its own oxygen levels, and oxygenated, a constant oxygenated, which was able to maintain its own oxygen levels, a constant, and to maintain its own, and respiration, which led to determine its own, which was a constant.</s>\n",
      "########\n",
      "*******\n",
      "question: What is it called when teens are together not doing anything in particular?\n",
      "answer: hang out\n",
      "choices: ['smoke', 'homework', 'volunteer', 'party', 'hang out']\n",
      "common expl list: ['Hang out is a term that could be used for teens hanging out together, typically with no particular agenda.', 'Hanging out\" is used to describe events where people are socializing, doing nothing in particular. Other events include hanging out with a purpose (doing homework, studying outside, going shopping, etc.).']\n"
     ]
    },
    {
     "name": "stderr",
     "output_type": "stream",
     "text": [
      "\r",
      " 14%|███████████████████████▏                                                                                                                                         | 142/986 [1:46:04<3:13:18, 13.74s/it]"
     ]
    },
    {
     "name": "stdout",
     "output_type": "stream",
     "text": [
      "generated explanation: <pad> <extra_id_0> Hanging out is a term used by teens to describe a group of people who are together for a common activity, such as playing games, watching movies, or doing homework. Hanging out is a time when teens are together for a common activity, such as playing games, watching movies, or doing chores. Hanging out is a time when teens are not doing anything in particular, and they are just enjoying themselves. It is a time when teens are together for a common purpose, such as hanging out, watching TV, playing games, or doing something together, such as playing, or playing games, or watching movies, playing games, playing sports, or playing games. Hang Out is a time when teens are not doing anything in particular, and sharing a common activity, such as playing games, or a game or playing a game. Hanging out is a time when teens are not doing anything in particular, or doing anything in general activities. Hanging outing out is a time when teens are not doing something else. It is a time when teens are not doing anything in general, and socializing.</s>\n",
      "########\n",
      "*******\n",
      "question: The saw was not necessary for car repair, so what wasn't it included with during pucrhase?\n",
      "answer: tool kit\n",
      "choices: ['tool shed', 'tool box', 'tool kit', 'hardware store', 'toolbox']\n",
      "common expl list: ['A saw is another name for a cutting tool, but they are often not included with a tool kit, because a kit is used for other repair needs (bolts, screws, bindings, etc.), and a saw is not required for a car repair']\n"
     ]
    },
    {
     "name": "stderr",
     "output_type": "stream",
     "text": [
      "\r",
      " 15%|███████████████████████▎                                                                                                                                         | 143/986 [1:46:20<3:25:37, 14.63s/it]"
     ]
    },
    {
     "name": "stdout",
     "output_type": "stream",
     "text": [
      "generated explanation: <pad> <extra_id_0> A car repair kit is a tool kit that includes tools and equipment that are used in car repair. It includes tools such as a saw, a drill, and a drill driver. A tool kit is a tool kit that includes tools that are specifically designed to perform a specific task. It includes tools such as a drill driver, a breaker bar, a saw, and a jack. This tool kit includes everything that is needed to complete the job. It also includes a tool kit that includes a tool kit that includes tools, and accessories, such as a a car, and a car repair, such as a car repair equipment, and tools, such as a car, a a jack, and a a a a a a car repair, such as a a a a a a car, a car, and a a wrench, a tool kit, a tool kit, a tool kit that includes a tool kit that includes a tool kit of tools, including a tool is a tool kit that includes a tool kit with a tool kit that includes a saw, a tool kit that is a tool kit that includes a tool kit that is a tool kit that is not necessary for car repair, a tool kit, such as a car, a car, a a car, a car wrench, a car, a a a car, a tool kit, a saw, a a a a kit, such as a a a a car, such as</s>\n",
      "########\n",
      "*******\n",
      "question: Where will my kid put their coin in their room?\n",
      "answer: piggy bank\n",
      "choices: ['piggy bank', 'wishing well', 'parking meter', 'under pillow', 'change purse']\n",
      "common expl list: ['Kids commonly save small amounts of money for later use, and these savings are often kept in piggy banks.', 'Piggy banks are often used to store coins.']\n"
     ]
    },
    {
     "name": "stderr",
     "output_type": "stream",
     "text": [
      "\r",
      " 15%|███████████████████████▌                                                                                                                                         | 144/986 [1:46:27<2:52:24, 12.29s/it]"
     ]
    },
    {
     "name": "stdout",
     "output_type": "stream",
     "text": [
      "generated explanation: <pad> <extra_id_0> A piggy bank is a place for kids to put their coins to keep them safe and a place to keep their money. It is a place for kids to keep their money safe and a place for them to put their coins to keep them going. A piggy bank is a great way for kids to keep their money safe and a place for them to put their coins to keep them afloat. A piggy bank is a place for kids to put their coins to keep them safe and a place to put their coins. The more coins the more money, the more money, the better, as it will help to keep their money in the room. A piggy bank is a safe place for kids to keep their money in the room. A piggy bank is a safe place to put their coins in a safe place for them to keep their money in a safe place to keep their money in their room. A piggy bank is a place for kids to put their coins to keep their room clean and keep their coins safe and safe to keep their money in their room.</s>\n",
      "########\n",
      "*******\n",
      "question: Where is a fire extinguisher likely to be found behind the seat?\n",
      "answer: school bus\n",
      "choices: ['school bus', 'house', 'garden', 'stairwell', 'garage']\n",
      "common expl list: ['Fire extinguishers are required on public-transit vehicles, such as school buses.']\n"
     ]
    },
    {
     "name": "stderr",
     "output_type": "stream",
     "text": [
      "\r",
      " 15%|███████████████████████▋                                                                                                                                         | 145/986 [1:46:40<2:54:10, 12.43s/it]"
     ]
    },
    {
     "name": "stdout",
     "output_type": "stream",
     "text": [
      "generated explanation: <pad> <extra_id_0> A fire extinguisher is likely to be found behind the seat of a school bus. It is usually located behind the seat of the bus, behind the back seat of the bus, or in the back seat of the seat behind the seat of the school bus. It is usually found behind the seat of the bus, behind the seat of the bus, or in a vehicle that is parked. A school bus is a type of vehicle that is used to transport students, teachers, and staff. A school bus is a type of a school bus. The seat is usually located behind the seat of the bus. The seat is usually found behind the back of the seat, and is usually behind the seat of the bus. The school bus is a fire extingueventing a school bus, and the seat of the bus. A school bus is a school bus is usually located behind the front of the front of a school bus. The school bus is a seat of the bus. A school bus is a school bus is a common type of school bus, and is a school bus that is often found behind the seat. The school bus is usually a school bus is a public transport. The school bus is a school bus is a school bus is a school bus is a public transit system in the back of the bus. The seat of the bus is a school bus is usually a school bus or a school bus is a school bus that is a school bus is a school bus is a school bus is a school bus is a public transport mode of transportation that is a school bus that is a public transit.</s>\n",
      "########\n",
      "*******\n",
      "question: His therapist said he had to get out there and begin socialising, it was the only was to start what?\n",
      "answer: friendships\n",
      "choices: ['conflicts', 'having fun', 'jealousy', 'getting out there', 'friendships']\n",
      "common expl list: ['His therapist said that he needed to speak to people if he wanted to be less withdrawn. This would help him to get out of his shell.', 'Interacting with other people socially is likely to result in making new friends.']\n"
     ]
    },
    {
     "name": "stderr",
     "output_type": "stream",
     "text": [
      "\r",
      " 15%|███████████████████████▊                                                                                                                                         | 146/986 [1:46:57<3:12:02, 13.72s/it]"
     ]
    },
    {
     "name": "stdout",
     "output_type": "stream",
     "text": [
      "generated explanation: <pad> <extra_id_0> He said that he had to get out there and start socialising, it was the only way to start to build relationships and socialise with people. He had to get out there and start making new friends. This is because he had no social skills and was unable to make new connections. Friendships are the foundation for building a strong social life and he needed to be able to make new friends. Friendships are the foundation for building a strong social life and for building a strong sense of belonging. They are a great way to start building a sense of community and support from the he needed to start to start building relationships with others. They are important to start building strong bonds and a sense of belonging and a new community. They are the only a strong sense of belonging. They are also a great way to build a sense of belonging and being a good life. They are also a great way to build on a sense of belonging and for the future. They are also important to help with other people and support. They are important to build a healthy life and for a healthy lifestyle. They are also a sense of belonging and a sense of belonging. They are also important to build a sense of belonging and a sense of belonging. They are also important to build a sense of belonging and for them. They are also an important for them to build a sense of belonging and for them.</s>\n",
      "########\n",
      "*******\n",
      "question: What is likely true about a dog that escapes regularly?\n",
      "answer: very smart\n",
      "choices: ['very smart', 'very loyal', 'tired', 'friendly', 'faithful']\n",
      "common expl list: ['Intelligent dogs (especially when concerned with food and treats) who are looking for some form of freedom will have the intelligence to escape regularly.']\n"
     ]
    },
    {
     "name": "stderr",
     "output_type": "stream",
     "text": [
      "\r",
      " 15%|████████████████████████                                                                                                                                         | 147/986 [1:47:10<3:09:41, 13.57s/it]"
     ]
    },
    {
     "name": "stdout",
     "output_type": "stream",
     "text": [
      "generated explanation: <pad> <extra_id_0> A dog that escapes regularly is likely to be very smart. This is because dogs are naturally curious and will often sniff and sniff and sniff and sniff and sniff and sniff and sniff and sniff and sniff and sniff and sniff and sniff and sniff and sniff and sniff and sniff and sniff and sniff and sniff and sniff and sniff and sniff and sniff and sniff and sniff and sniff and sniff and sniff and sniff and sniff and sniff. This is because dogs are naturally curious and seek out new opportunities to explore and play and sniff and sniff and sniff and sniff and sniff and a dog that is likely to a very smart and can be very smart and a dog that is very alert and able to detect a dog is a dog that is in the area and smell and smell and smell. This is because if the dog is here hereach a smart and hereally a dog is very likely to keep on the area. This makes it more likely to be very intelligent and if the dog is very smart and heres to keep track of other dogs that are very smart. This makes it very intelligent and to escapes. It is because it is because it is very smart and it is because it is very smart and a dog that is very smart and very smart. It is very smart and it is because of its very smart and it is also very intelligent and it is very smart and easy to make it is very smart and it is very intelligent and it is very smart and it is very smart and it is very smart and it is very smart. It is also because it is also because it is very clever and clever and it is because it is a smart and it is a smart and very difficult to make it so smart and it is very easy to escapes.</s>\n",
      "########\n",
      "*******\n",
      "question: If you're going to a party in an alley, what is likely to happen?\n",
      "answer: doing drugs\n",
      "choices: ['call the police', 'doing drugs', 'new contacts', 'making new friends', 'plan']\n",
      "common expl list: ['Alleys are associated with crime; and, people performing illegal drugs at a party is illegal.', 'People going to parties in an alley are often going to do drugs and vice.', 'People often do drugs at parties, and alleys are often used for parties.']\n"
     ]
    },
    {
     "name": "stderr",
     "output_type": "stream",
     "text": [
      "\r",
      " 15%|████████████████████████▏                                                                                                                                        | 148/986 [1:47:21<2:56:45, 12.66s/it]"
     ]
    },
    {
     "name": "stdout",
     "output_type": "stream",
     "text": [
      "generated explanation: <pad> <extra_id_0> Drugs are a common problem in alleys and are often used to create a buzz at parties. They are also a great way to make people feel good about themselves and make them feel good. They are also a great way to get people to stop drinking and driving. Using drugs is a common way to get people to drink and drive, and it is also a good way to get away from the party. Using drugs is also a common way to get high, and it is a good idea to avoid parties at parties are always a good idea to keep the party in an alley, because it is a safe place to get away. Moreover, it is important to stay away from the party. Getting high is a great way to get you in a good time. Getting high in an alley is a great way to get high, and a good idea of the party, and to get high-spirited. Using drugs are a great way to get you high and a great way to get you to get high on drugs, and to get high on the party. Drugs are also a great way to get to get to get you to get high and get you to get high. They are also a great way to get you to get you to get high.</s>\n",
      "########\n",
      "*******\n",
      "question: The man was very tired and sore, he decided to stay in bed to what?\n",
      "answer: rest more\n",
      "choices: ['rest more', 'lazy', 'were sick', 'to be sick', \"you're sick\"]\n",
      "common expl list: ['The man was tired and sore, so he decided to rest more.', \"When people are sick, they tend to rest, as it's the most sensible thing.\", 'The man was so tired and sore, he just wanted a break. His illness would keep him in bed.']\n"
     ]
    },
    {
     "name": "stderr",
     "output_type": "stream",
     "text": [
      "\r",
      " 15%|████████████████████████▎                                                                                                                                        | 149/986 [1:47:29<2:37:32, 11.29s/it]"
     ]
    },
    {
     "name": "stdout",
     "output_type": "stream",
     "text": [
      "generated explanation: <pad> <extra_id_0> The man was very tired and sore and decided to stay in bed to rest. He was able to rest by a lot of reading, relaxing, and relaxing activities. He was also able to spend time with his family and friends, and to relax. He was able to get away from the world and enjoy a quiet, peaceful place to relax and unwind. He was able to unwind and unwind in the comfort of his bed. The man decided to stay in bed to rest and relax. He was able to relax and so that the man could use his time to relax. The man decided to stay in bed to rest and relax and enjoy the world. The man could relax in bed to rest and relax in bed to relax and relax. The man needed to relax and take time to relax and relax. The man was also able to relax and unwind. He was tired and sore looking for a relaxing environment where he could relax and relax in bed. He was able to relax and sore-dependent on his bed to relax and unwind. The man could use his tired and soreaching muscles to relax and relax in bed. The man was able to rest and relax and unwind.</s>\n",
      "########\n",
      "*******\n",
      "question: He was back in his hometown, he was planning on having fun and doing what?\n",
      "answer: visiting friends\n",
      "choices: ['being understood', 'hug', 'rambling', 'kiss', 'visiting friends']\n",
      "common expl list: ['If a person went back to their hometown, they might be glad to see their old friends, and visit them while they are there.', 'If a person is back in their hometown, they might visit their friends, who they might not see very often.', 'People usually visit their friends when they return to a town where they previously used to live, because their friends would have missed them.']\n"
     ]
    },
    {
     "name": "stderr",
     "output_type": "stream",
     "text": [
      "\r",
      " 15%|████████████████████████▍                                                                                                                                        | 150/986 [1:47:39<2:32:36, 10.95s/it]"
     ]
    },
    {
     "name": "stdout",
     "output_type": "stream",
     "text": [
      "generated explanation: <pad> <extra_id_0> He was back in his hometown, planning on having fun and visiting friends. He was planning on having fun and visiting friends because he was back home and he was excited to see his friends and make new friends. He was excited to see his friends and make new friends and have fun while doing so. He was excited to see them and have fun and see how they were doing. He was excited to meet them and have a good time. The visit was planned to be a fun and exciting time for all involved. He was looking forward to meet up with his friends and meeting up with them for the trip. The trip was planned to visit with friends and had a lot of fun and enjoyed the company of friends. The trip to the city was also a great opportunity for fun activities. The trip to the city was able to spend time with them. The visit to the friends was going to visit them and have fun and have fun. The trip was a great time with them and meet up with the family. The trip was also a great way to spend time with the family. The trip to see them was a great time with the kids. The trip was a great opportunity to see the sights and to see the city. The trip was also a great time to see friends and make new friends. Then to see the kids. They were looking forward to see the kids.</s>\n",
      "########\n",
      "*******\n",
      "question: Where is basketball court likely to be outdoors?\n",
      "answer: city\n",
      "choices: ['high school gymnasium', 'city', 'park', 'use', 'los angeles']\n",
      "common expl list: ['Basketball courts are likely to be at parks and recreational centers in cities.', 'Basketball courts are often urban.', 'Most American cities have basketball courts in public parks.', 'Basketball courts are often found in city parks.']\n"
     ]
    },
    {
     "name": "stderr",
     "output_type": "stream",
     "text": [
      "\r",
      " 15%|████████████████████████▋                                                                                                                                        | 151/986 [1:47:49<2:31:19, 10.87s/it]"
     ]
    },
    {
     "name": "stdout",
     "output_type": "stream",
     "text": [
      "generated explanation: <pad> <extra_id_0> A basketball court is typically located outdoors in a city because it is likely to be in a central location. This is because basketball courts are often located in urban areas, where there is a lot of space and the location of these courts is often limited. This is because they are often located in areas of the city, such as parks, parks, and other open spaces. This is because basketball courts are often located in areas where there is a lot of space and the space is often limited. This makes them a good choice for those looking for a city. In addition to being in a city, it is also likely to be located in a city center for people to play outdoors. This makes them more likely to be located in a city. In addition, the city is also a good place to have a good location can also be a good choice for those who want to play in a city. In addition, the basketball court is often located in a good location for people to play in a large area of space. In a city, the basketball court is likely to be located in a central location, so that it can be used by people who want to play in a city. In a city, there is likely to be a place where there is a good option for those who want to play in a city. In a city, a good place to be a city.</s>\n",
      "########\n",
      "*******\n",
      "question: When you want to get the skin off of an apple, you do what to it?\n",
      "answer: peel\n",
      "choices: ['seeds inside', 'stems', 'peel', 'grocery store', 'green market']\n",
      "common expl list: ['Skin is something you peel from fruits like apples, peaches, oranges, kiwi, etc...', 'Apples have a skin that can be peeled off.']\n"
     ]
    },
    {
     "name": "stderr",
     "output_type": "stream",
     "text": [
      "\r",
      " 15%|████████████████████████▊                                                                                                                                        | 152/986 [1:47:59<2:23:52, 10.35s/it]"
     ]
    },
    {
     "name": "stdout",
     "output_type": "stream",
     "text": [
      "generated explanation: <pad> <extra_id_0> When you want to get the skin off an apple, you peel it off. Peeling is a very effective way to remove the skin off an apple because it removes the surface of the apple and the skin is very thin and can be easily removed. Peeling is a very time-consuming process, and it can take several hours. It is also a good way to remove the outer layer of the apple. Peeling is a great way to remove the inner layer of the apple, which can be difficult to remove because the apple is very quickly and the skin off the outer layer of the inner layers of the apple and the inner layers of the skin off the skin of the inner layers of the inner core, and helps to get rid of the skin and helps to keep the skin on the inside the outer layers of the inner layers of the skin off, and helps to keep the apple in the inside the outside of the inside the core of the apple. Peeling is a great way to get the inside the outer layer of the skin, which can be used to remove the outer layer of the apple</s>\n",
      "########\n",
      "*******\n",
      "question: Where could you put some knives if you are planning to bring them outside with you?\n",
      "answer: backpack\n",
      "choices: ['purse', 'backpack', 'drawer', 'sporting goods store', 'kitchen']\n",
      "common expl list: [\"Knives are usually brought along if hiking, camping, fishing, or other outings, and backpacks make it easy to transport one's belongings.\", \"To carry knives on one's person, you need some small type of container to hold the knives. Perhaps the most likely place to carry a small container is a backpack.\"]\n"
     ]
    },
    {
     "name": "stderr",
     "output_type": "stream",
     "text": [
      "\r",
      " 16%|████████████████████████▉                                                                                                                                        | 153/986 [1:48:14<2:43:13, 11.76s/it]"
     ]
    },
    {
     "name": "stdout",
     "output_type": "stream",
     "text": [
      "generated explanation: <pad> <extra_id_0> A backpack is a great way to carry a knife when you are going outside. It is easy to carry and is a great way to store knives. A backpack is a great way to store knives when you are out hiking or other outdoor activities. It is also a great way to store them if you are planning to bring them with you. A backpack is a great way to store knives when you are traveling. A backpack is a great way to store knives when you are traveling. It is also a great way to store knives in a backpack is a safe place to store knives and other items. A backpack is a backpack is a great way to store them in a great way to store them in a safe place to carry them. A backpack can also be used to carry extra knife and can be used to carry a knife for emergencies. It is also a great way to store knives that is a great way to carry knives when you are planning on the backpack can also be a great way to store them in a backpack for if you are planning to take them with you to carry them with you. A backpack is a great way to store knives in a backpack is a great way to carry them with you. This is a great way to store knives and organize them.</s>\n",
      "########\n",
      "*******\n",
      "question: John watches the well dressed people from a catwalk above the stage.  He listens to them speak rehearsed lines while the audience listens.  Where is he/\n",
      "answer: theatre\n",
      "choices: ['theatre', 'new york city', 'fashion show', 'construction site', 'school play']\n",
      "common expl list: ['Theatres have catwalks where people might observe and listen to actors.']\n"
     ]
    },
    {
     "name": "stderr",
     "output_type": "stream",
     "text": [
      "\r",
      " 16%|█████████████████████████▏                                                                                                                                       | 154/986 [1:48:27<2:50:40, 12.31s/it]"
     ]
    },
    {
     "name": "stdout",
     "output_type": "stream",
     "text": [
      "generated explanation: <pad> <extra_id_0> John is a stage monitor who watches the actors from above the stage. He watches as they speak their lines and the audience listens. He is watching the actors from above the stage, while the audience listens to the actors. John is watching the actors from above the stage, where he is able to see the actors and the audience from a distance. He is able to see the actors from the stage, and the audience listens to the actors speak their lines. The audience is able to see the actors from above the stage, and the actors performer who is able to see the actors perform their lines and the actors. The audience is able to watch the actors perform their lines and the actors from the stage while the audience. The audience is then able to understand the lines and the actors and the actors are performing. The audience is able to understand the actors and the audience as they perform their lines. The audience is also able to see the actors and the actors perform. The audience is also able to hear the actors as they perform their lines. The audience is able to understand the actors as they are able to understand the audience. The audience is able to understand the actors and the audience as they are able to understand the audience. The audience is able to listen to the actors as they are able to understand the actors and the audience. The actors are able to understand the lines as the audience as they perform their lines. The audience is then able to understand the audience as the audience as they are able to understand the lines and the audience</s>\n",
      "########\n",
      "*******\n",
      "question: If I am creating art and have completed it to satisfaction, what is my feeling?\n",
      "answer: enlightenment\n",
      "choices: ['enlightenment', 'tired', 'frustration', 'relax', 'controversy']\n",
      "common expl list: ['Enlightenment is the label for a moment of clarity, and the word is often applied to artists who have created something unique or daring.']\n"
     ]
    },
    {
     "name": "stderr",
     "output_type": "stream",
     "text": [
      "\r",
      " 16%|█████████████████████████▎                                                                                                                                       | 155/986 [1:48:38<2:45:30, 11.95s/it]"
     ]
    },
    {
     "name": "stdout",
     "output_type": "stream",
     "text": [
      "generated explanation: <pad> <extra_id_0> When I am creating art, I am feeling enlightened. This feeling is a feeling of enlightenment. It is a feeling of being in a state of complete awareness and satisfaction. It is a feeling of being in a state of enlightenment. It is a feeling of being in a state of complete awareness and awareness. It is a feeling of being in a state of enlightenment. It is a feeling of being in a state of being enlight. It is a feeling of satisfaction and satisfaction. This is a feeling of satisfaction and satisfaction. It is a feeling of satisfaction and satisfaction. It is a feeling of being in a state of being in a state of a state of satisfaction and satisfaction. It is a feeling of being in a state of mind and a state of a state of a state of a state of a state of a state of being. It is a state of a state of satisfaction and satisfaction. It is a state of being a state of satisfaction and satisfaction and satisfaction. It is a state of satisfaction and a state of a state of a state of a positive, a positive and a positive feeling of satisfaction and satisfaction.</s>\n",
      "########\n",
      "*******\n",
      "question: He was serious and pragmatic, so why did he drive his car?\n",
      "answer: transportation\n",
      "choices: ['transportation', 'car crash', 'death', 'sleepy', 'stress']\n",
      "common expl list: ['Because driving is the most practical mode of transportation judging by the time and distance required to do so.', 'People often drive cars to get from one place to another.']\n"
     ]
    },
    {
     "name": "stderr",
     "output_type": "stream",
     "text": [
      "\r",
      " 16%|█████████████████████████▍                                                                                                                                       | 156/986 [1:48:47<2:32:53, 11.05s/it]"
     ]
    },
    {
     "name": "stdout",
     "output_type": "stream",
     "text": [
      "generated explanation: <pad> <extra_id_0> He drove his car because he was serious and pragmatic, so why did he drive his car? He drove his car because he was serious and pragmatic. He drove his car because he was serious and pragmatic, and he was serious and pragmatic. He drove his car because he was serious and pragmatic. He drove his car because he was serious and pragmatic, and because he was serious and pragmatic. He drove his car because he was serious and pragmatic. He was serious and pragmatic, and he drove his car because a car is a sensible way to get to work. The car was also practical and to get to work. Additionally, he was important to get to work. This is important because it was important to his job. The car was also important to him to get to work. The car was also a good way to get to work. Additionally, he was serious and pragmatic. The car was important to him to get to work. The car was important to get to work. The car was also important to get to work-t get to work and to work. The car was important to get to work. The car was also important to get to work.</s>\n",
      "########\n",
      "*******\n",
      "question: What does god want people to do for money?\n",
      "answer: work in life\n",
      "choices: ['work in life', 'speak to people', 'everywhere', 'sitting ideal', 'care for people']\n",
      "common expl list: ['The scriptures explain that people should acquire money by providing good products or services, e.g., to bring value to other people and make a living.']\n"
     ]
    },
    {
     "name": "stderr",
     "output_type": "stream",
     "text": [
      "\r",
      " 16%|█████████████████████████▋                                                                                                                                       | 157/986 [1:48:56<2:24:36, 10.47s/it]"
     ]
    },
    {
     "name": "stdout",
     "output_type": "stream",
     "text": [
      "generated explanation: <pad> <extra_id_0> Work is a form of earning money. It is a form of earning money. It is a way for people to earn money by doing something for themselves. Work is a form of earning money by doing something productive and hardworking. It is a way for people to earn money and it is a way for people to earn money. Work is a form of earning money by doing something productive and hardworking. It is a form of earning money by working hard and being productive. It is a way for people to earn money and work is a way to earn money. It is a way to earn money through hard work. Work is a way that God’s plan and to earn money is a way to earn more money by doing things that are a way. It is a way that people can be able to earn money by doing something that can help them to earn money through a way of earning money through work. It is a way to earn money through work. It is a way to earn money by doing something that helps to earn money by a way. Work in life is a way to earn money by a way. It is also a way that people can earn money by working hard and a way that can be a way of earning money. Work is a way that people can earn money by a way.</s>\n",
      "########\n",
      "*******\n",
      "question: What can happen after doing housework that does not involve pain?\n",
      "answer: become tired\n",
      "choices: ['become tired', 'stress', 'put on shoes', 'backache', 'low pay']\n",
      "common expl list: ['Raking, sweeping, and dusting are common forms of housework. After all the physical labor of these activities, someone \\xa0might become tired and take time off from housework chores, but not have een doing any housework tasks that', 'Doing housework is likely to tire someone out. Being tired increases the likelihood of restlessness and uneasiness.', 'Housework can be tiring, and so, after doing it, one might become tired.']\n"
     ]
    },
    {
     "name": "stderr",
     "output_type": "stream",
     "text": [
      "\r",
      " 16%|█████████████████████████▊                                                                                                                                       | 158/986 [1:49:11<2:43:32, 11.85s/it]"
     ]
    },
    {
     "name": "stdout",
     "output_type": "stream",
     "text": [
      "generated explanation: <pad> <extra_id_0> - Doing housework can cause tiredness and other physical discomforts. During the process of housework, the body can become used to the task and become used to it. This can lead to a variety of physical discomforts, including headaches, muscle aches, and fatigue. This is because housework is often done in a sedentary environment, and the body is constantly working to keep up with the demands. This can lead to a lack of energy, which can lead to fatigue. This can lead to a physical activity that is also a physical and mental fatigue. It can also lead to a decrease the body's ability to keep up and can become tired. This is because it can also lead to fatigue, which can cause physical discomfort and physical fatigue. It can also lead to fatigue. This can lead to a decrease the overall effort. It can cause mental fatigue and physical fatigue. Physical activity can also increase the body's ability to perform other physical demands. Physical activity can also lead to reducing the overall health. Physical demands and stress can cause physical and mental fatigue. Physical fatigue can lead to stress and emotional distress. This can lead to increased levels of physical fatigue. Physical fatigue can also lead to a physical fatigue and emotional stress levels. Physical stress levels and emotional stress levels. It can also lead to increased stress and emotional stress and stress.</s>\n",
      "########\n",
      "*******\n",
      "question: James sat in a chair and listened to the speaker.  Where might James be?\n",
      "answer: auditorium\n",
      "choices: ['synagogue', 'grocery store', 'auditorium', 'confession', 'office']\n",
      "common expl list: ['James was likely in an auditorium, because he was listening to a speaker.']\n"
     ]
    },
    {
     "name": "stderr",
     "output_type": "stream",
     "text": [
      "\r",
      " 16%|█████████████████████████▉                                                                                                                                       | 159/986 [1:49:32<3:18:29, 14.40s/it]"
     ]
    },
    {
     "name": "stdout",
     "output_type": "stream",
     "text": [
      "generated explanation: <pad> <extra_id_0> A auditorium is a large room that is used to hear and see speakers. In an auditorium, the speaker may present a speech, and James may be seated in a chair and listen to the speaker speak. In an auditorium, the speaker may be speaking to a group of people, or a group of people listening to a speaker. This is because the auditorium is a large space that is often filled with people, and the speaker may be a professional or a professional. In an auditorium, the speaker may be a professional, or a conference room, or other events, or a room, or a room. In an auditorium, the speaker may be a chair, the speaker may be a business meeting room, the audience can be a business, or a business, or a business or a professional development. In an auditorium, the speaker may be a professional or a person who is a professional or a business, a professional or a business. In an auditorium is a great place for a place to hear a business or a professional. In an auditorium, the speaker may be a business or a business or a business or a professional may be a venue, or a businessman or a person may be seated in a business may be a businessman or a businessman or a business man may be a private or a businessman may be a company may be a company or a company may be a businessman or a chair may be a businessman or a conference call a businessman or company.</s>\n",
      "########\n",
      "*******\n",
      "question: John thought that Mary was beautiful despite her injury.  But Mary believed that she was what?\n",
      "answer: misshapen\n",
      "choices: ['wrong', 'overcast', 'homely', 'bad', 'misshapen']\n",
      "common expl list: [\"If Mary believes she doesn't look normal, but someone else thinks she is beautiful, perhaps she could feel like her form is misshapen.\"]\n"
     ]
    },
    {
     "name": "stderr",
     "output_type": "stream",
     "text": [
      "\r",
      " 16%|██████████████████████████▏                                                                                                                                      | 160/986 [1:49:35<2:29:54, 10.89s/it]"
     ]
    },
    {
     "name": "stdout",
     "output_type": "stream",
     "text": [
      "generated explanation: <pad> <extra_id_0> Mary believed that she was beautiful despite her injury<extra_id_1> Mary believed that she was<extra_id_2> Mary believed that she was beautiful despite her<extra_id_3> despite her injury. Mary<extra_id_4> Despite her injury, John believed that she was<extra_id_5> beautiful<extra_id_6> Despite her<extra_id_7> Mary<extra_id_8> Mary was<extra_id_9> injured<extra_id_10> her<extra_id_11> despite her injury<extra_id_12> Mary<extra_id_13> Mary believed that she was<extra_id_14> misshapen<extra_id_15> Mary<extra_id_16> Mary was<extra_id_17> misshapen<extra_id_18> Mary was<extra_id_19> misshapen because she was<extra_id_20> a<extra_id_21> Mary believed that she was beautiful<extra_id_22> despite her<extra_id_23> Mary<extra_id_24> Mary<extra_id_25> Mary</s>\n",
      "########\n",
      "*******\n",
      "question: Where does my body go after I am no longer living?\n",
      "answer: graveyard\n",
      "choices: ['zombie', 'bodycam', 'coffin', 'graveyard', 'funeral']\n",
      "common expl list: ['When one dies, their body is buried in a graveyard.', 'Corpses are buried in graveyards.', 'When a person dies, it is common to bury their bodies in locations called graveyards.']\n"
     ]
    },
    {
     "name": "stderr",
     "output_type": "stream",
     "text": [
      "\r",
      " 16%|██████████████████████████▎                                                                                                                                      | 161/986 [1:49:55<3:09:45, 13.80s/it]"
     ]
    },
    {
     "name": "stdout",
     "output_type": "stream",
     "text": [
      "generated explanation: <pad> <extra_id_0> A graveyard is a place where a person's body is buried after they are no longer living. It is a place where a person's body is buried and where their remains are buried after they are no longer living. Graveyards are a place where a person's body goes after they are no longer living. Graveyards are a place where a person's body is buried and where their remains are buried. Graveyards are a place where a person's grave is a place where the body goes to buried in a graveyard is a graveyard is a place where the body is buried graveyard is taken to go to the body is taken to the body is taken to a place to be taken to buried in a graveyard, a place of bones are taken to the graveyard is a place where the body is taken to the graveyards remains are a graveyard is taken to the body is taken to a place where the body is taken to a place where the body is taken to a graveyard, and where the body is taken to the graveyard is taken to a place of graveyards where it is buried, and where it is a place where the body is taken to a graveyard, a graveyard, and where the body is taken to buried to be taken to a graveyard to a graveyard. The graveyard is taken to the graveyard to the graveyard is taken to the graveyard to the graveyard to the graveyard to the graveyard to the graveyard. The graveyard is taken to the graveyard to the graveyard, and then taken to the graveyard to the graveyard. The graveyard is taken to the body is taken to the graveyard, and then taken to the graveyard to the graveyard to the body is taken to the graveyard to the graveyard to the body is taken to the body to the graveyard to the graveyard to the graveyard to the graveyard to the graveyard to the graveyard to the body is taken to the body to the graveyard to the grave to the graveyard to the body to the graveyard to the body is taken to the graveyard to the graveyard to the graveyard to the grave to the graveyard to the graveyard to the graveyard to the graveyard to\n",
      "########\n",
      "*******\n",
      "question: Where can you find a bar before traveling a long distance?\n",
      "answer: airport\n",
      "choices: ['las vegas', 'public house', 'airport', 'restaurant', 'michigan']\n",
      "common expl list: ['Bars are often located in airports, and so if a person was traveling a long distance, they might stop at an airport bar.']\n"
     ]
    },
    {
     "name": "stderr",
     "output_type": "stream",
     "text": [
      "\r",
      " 16%|██████████████████████████▍                                                                                                                                      | 162/986 [1:50:08<3:06:25, 13.58s/it]"
     ]
    },
    {
     "name": "stdout",
     "output_type": "stream",
     "text": [
      "generated explanation: <pad> <extra_id_0> Bars are often located in airports, which are often located in large terminals. Airport bars are often located in the farthest reaches of the airport, which makes them a great place to grab a drink before traveling a long distance. Airports are also often located in the terminals of the major airports, which are located near the departures and arrivals areas. This makes them ideal places to grab a drink and relax before boarding the plane. Airport bars are also often located in the terminals of larger aircrafts, which are often found in large terminals with bars in the terminals. They are also located in the baggage fees are often higher than the standard airports. Airport bars are usually cheaper than the standard airports, which are usually a hotel or hotel room. Airport bars are usually also located in the terminals, which are often located in the main terminals. Airport bars are usually located in the terminals, which are located in the terminals. Airports are also often located in the terminals. Airport bars are also often located in the gate. Airport bars are also often found in the terminals. Airport bars are often located in the terminals of the terminals, which are often located in the main gate of the terminals of the flight. The bar is often located in the terminals. Airport bars are also located in the terminals, which are usually located in the terminals. In addition, airports are often have a short-style bars are usually located in the terminals and are located in the terminals are often located in the terminals are also often located in the terminals of the most convenient for travelers who want to find them in the best locations for people looking for the best locations for a short distance of the terminals because they are located in the terminals and are located in the terminals are located in the terminals of the terminals of the terminals of the terminals are often located in the terminals.</s>\n",
      "########\n",
      "*******\n",
      "question: Where might a small ball be bounced from?\n",
      "answer: child's hand\n",
      "choices: ['soccer game', 'street', 'toy store', \"child's hand\", 'on the sidewalk']\n",
      "common expl list: ['A ball much like a toy, and kids often play with them on the streets and sidewalks.', 'Since children enjoy bouncing balls, and they are also relatively small, they would bounce a ball from their hand.']\n"
     ]
    },
    {
     "name": "stderr",
     "output_type": "stream",
     "text": [
      "\r",
      " 17%|██████████████████████████▌                                                                                                                                      | 163/986 [1:50:22<3:08:42, 13.76s/it]"
     ]
    },
    {
     "name": "stdout",
     "output_type": "stream",
     "text": [
      "generated explanation: <pad> <extra_id_0> A small ball is a small object that is thrown from the hand of a child. This is because the ball is a small object that is thrown from a child's hand. This is because the ball is a small object that is not very big and therefore not as big as a basketball. The ball is thrown from the child's hand, which is usually the palm of the child's hand. The palm of the child is the ball's source of contact. This is because the hand is the ball. The palm of the hand is the ball is in the hand. The ball is in the hand is in the palm of the child's hands are usually the ball is in the palm of the child's hand is the ball is in the child's hand is in the child's hand, and the ball is in the child's palm. The ball is in the palm of the child's hand is in the palm of the ball in the child's hand is in the child's hand. The ball is in the palm of the child's hand is the ball in the child's hand. The ball is in the child's hand is in the palm of the child's palm of the ball in the child's hand is in the child's hand. The ball is in the child's hand. The child's hand is in the palm is the ball in the hand. The ball is in the palm of the child's hand. The ball is in the child's hand.</s>\n",
      "########\n",
      "*******\n",
      "question: Where do families begin?\n",
      "answer: wedding\n",
      "choices: ['wedding', 'around dinner table', 'supermarket', 'dinner together', 'park']\n",
      "common expl list: ['A wedding is a ceremony in which two people get married, and thus a wedding is where a family begins.']\n"
     ]
    },
    {
     "name": "stderr",
     "output_type": "stream",
     "text": [
      "\r",
      " 17%|██████████████████████████▊                                                                                                                                      | 164/986 [1:50:41<3:30:22, 15.36s/it]"
     ]
    },
    {
     "name": "stdout",
     "output_type": "stream",
     "text": [
      "generated explanation: <pad> <extra_id_0> A family is a group of people who have a common bond and who come together to form a family. Often, families begin at a wedding. The wedding is the first formal event of a family<extra_id_10> and the beginning of a new family. The wedding is the first formal event of the family. The wedding is the beginning of a family and the beginning of a new life. The wedding is the beginning of a new life. The wedding is the beginning of a new family. The wedding is the beginning of the wedding ceremony. The wedding is the wedding is the most important event of the life of the wedding. The wedding is the wedding reception. The wedding is the most popular wedding ceremony and the wedding reception is the most important event that families begin to begin their life together. The wedding is the most important milestone in the lifelong-long relationship. The wedding is the most important event of the wedding is the beginning of a new life-long relationship. The wedding is also a time of the family. The wedding is also the wedding is the beginning of a new life-long journey. The wedding is a time of life of a new beginning. The wedding is also the beginning of a new lifelong journey. The wedding is a time of love and commitment to each other. The wedding is the day of a new family. The wedding is a new life-long process. The wedding is a time of the day of a new family. The wedding is a time of a new life-long event. The wedding is also a time of family. It is a time of love and commitment. The wedding is a time of celebration. It is a new life- and a new family. The wedding is a new life-long bonding time for the beginning. It is a time of celebration. It is a time for the wedding day and celebration of the day that is a new family.</s>\n",
      "########\n",
      "*******\n",
      "question: He enjoyed reading newspaper, he consider what a subscription?\n",
      "answer: buying\n",
      "choices: ['gifting', 'buying', 'money', 'literacy', 'knowing how to read']\n",
      "common expl list: ['Buying a subscription to a newspaper is a way to get the newspaper delivered to your home.']\n"
     ]
    },
    {
     "name": "stderr",
     "output_type": "stream",
     "text": [
      "\r",
      " 17%|██████████████████████████▉                                                                                                                                      | 165/986 [1:51:04<3:59:00, 17.47s/it]"
     ]
    },
    {
     "name": "stdout",
     "output_type": "stream",
     "text": [
      "generated explanation: <pad> <extra_id_0> A subscription is a subscription is a subscription that allows a subscriber to purchase a specific type of newspaper, such as newspapers, magazines, or other printed materials. Subscriptions allow subscribers to subscribe to a newspaper for a fixed period of time, such as a week, or a month. A subscription also allows the subscriber to purchase a variety of other publications, such as magazines, newspapers, or other printed materials. This allows the subscriber to choose the newspaper that best suits his needs. Buying a newspaper is a subscription is also a great way to get the newspaper that is a subscription allows for a subscription, and other benefits of buying newspaper for the newspaper that is a subscription also allows him to pay for a variety of publications, such as a month or a subscription allows him to buy the newspaper that is a variety of different articles, or other features, such as articles, and news items, and other publications. a newspaper for subscription allows you to have access to the newspaper in the newspaper for you to subscriber to read the newspaper for the newspaper for a monthly fee. This allows you to buy a newspaper for the subscription you to read the newspaper for a particular publication and more than just one can afford to buy a subscription for the newspaper for the magazine you to access to buy a newspaper for the newspaper for you to read the newspaper for the newspaper for the subscription, such as articles, such as articles, or magazines, or news articles, or even a newspaper for a newspaper for a newspaper for a variety of articles, such as articles, articles, or even more articles you. This allows you to buy more articles for a subscription for a monthly or monthly, whether you to pay for a monthly fee, or for a monthly fee, or a monthly fee, or even a subscription, or for a monthly basis, such as a subscription, or for a fixed monthly fee, or for a monthly or for a monthly fee, or a single article for the magazine, or for a monthly fee, or other articles, or a particular article, or a story, or a single issue, or a magazine or a single article or for a single issue or a single article.</s>\n",
      "########\n",
      "*******\n",
      "question: What does an animal do when it becomes old?\n",
      "answer: feel pain\n",
      "choices: ['live long', 'leave home', 'feel pain', 'eating', 'sense fear in human']\n",
      "common expl list: ['Ageing animals may have chronic pain as part of the body losing function as it ages.']\n"
     ]
    },
    {
     "name": "stderr",
     "output_type": "stream",
     "text": [
      "\r",
      " 17%|███████████████████████████                                                                                                                                      | 166/986 [1:51:12<3:22:08, 14.79s/it]"
     ]
    },
    {
     "name": "stdout",
     "output_type": "stream",
     "text": [
      "generated explanation: <pad> <extra_id_0> When an animal becomes old, it begins to feel pain. This pain is caused by the body's ability to lose its balance and function. When an animal becomes old, it begins to feel pain. This pain can be a result of aging, injury, or disease. The pain can be so intense that it can be difficult to control. This is because the animal is no longer able to control its body's ability to regulate its body's temperature, and it cannot control its movements. This makes it difficult to control its body's. This pain can cause a lot. This can be difficult to cope with its ability to feel pain. This is difficult to control its body, and can be difficult to keep up with the body. This can be difficult to control its ability to keep it a difficult to control its ability to keep it in a pain. It is difficult to understand the animal's own pain. This can be uncomfortable for the animal to feel the animal's ability to control its own body and to control its own pain. This can be difficult for the animal to control its pain and control its body's own pain. This can be caused by stress and/control its ability to control its body and it's ability to control its own pain. It can also be a great way to control its body and control its ability to regulate its own pain.</s>\n",
      "########\n",
      "*******\n",
      "question: What entity would have a fire extinguisher in their boardroom?\n",
      "answer: most businesses\n",
      "choices: ['boat', 'apartment', 'public building', 'most businesses', 'chemistry lab']\n",
      "common expl list: ['Most businesses would have a fire extinguisher in their boardroom, because they are likely to have a fire in their boardroom.']\n"
     ]
    },
    {
     "name": "stderr",
     "output_type": "stream",
     "text": [
      "\r",
      " 17%|███████████████████████████▎                                                                                                                                     | 167/986 [1:51:24<3:07:47, 13.76s/it]"
     ]
    },
    {
     "name": "stdout",
     "output_type": "stream",
     "text": [
      "generated explanation: <pad> <extra_id_0> A fire extinguisher is a must in any business boardroom. It is a small piece of equipment that is often overlooked in the workplace and is often overlooked. A fire extinguisher is a tool that is used to extinguish fires in the boardroom. It is a small, portable device that is typically used in the boardroom to extinguish fires. It is a common item that is found in boardrooms and is a necessity for many businesses. It is Moreover, the fire extinguisher is a business owner-friendly environment. It is also important to have a fire extinguishing the boardroom. A fire extinguit is a boardroom is a fire-proof and is a fire-proof equipment that is a business. A boardroom is a fire alarm system is a business that is a business that is a fire alarm system in the room. A fire extinguisher is a safety precaution in a boardrooms to ensure that all personnel are aware of the company boardroom. A fire extingued a fire is a safety issue for many businesses. A fire exting is a fire extingues are a safety-safe environment. A fire extinguating and a fire extinguit is a safety precaution in a safe place to ensures an effective and a safe place to keep out of any potential employees safe and a fire is a safe place to provide an easy to put out of any business. A fire exting room is quickly and safe and safe and a safe and safe place.</s>\n",
      "########\n",
      "*******\n",
      "question: Where can someone go and buy cheese?\n",
      "answer: market\n",
      "choices: ['pizza', 'bar', 'fridge', 'market', 'refrigerator']\n",
      "common expl list: ['Cheese is sold at markets.', 'Cheese is a dairy product and can be purchased at markets, for the most part.']\n"
     ]
    },
    {
     "name": "stderr",
     "output_type": "stream",
     "text": [
      "\r",
      " 17%|███████████████████████████▍                                                                                                                                     | 168/986 [1:51:34<2:55:03, 12.84s/it]"
     ]
    },
    {
     "name": "stdout",
     "output_type": "stream",
     "text": [
      "generated explanation: <pad> <extra_id_0> A market is a place where people can go to buy cheese. It is a place where people go to buy cheese. The market is a place where people can go to buy food and buy a variety of products. Cheese is a popular choice for people of all ages and all budgets. It is a popular choice for people who want to try something new and try new things. Markets are also a place where people can go to buy cheese to try it out. Markets are also a place where people can buy cheese to buy cheese to buy cheese. Markets are usually a place to find the best place to buy cheese. Markets are usually located in a central location, often times, and other items such as a grocery store, a local grocery store, but can also be a place to buy cheese to buy it. Markets are also a place to buy cheese to buy it. Markets are also a great place to buy cheese to buy cheese to buy it is a great place to buy cheese for people to buy a variety of different types of different styles and budget. Markets are a great place to buy cheese for people who want to buy it. This is a great place to buy cheeses, as they are a great way to buy it. Markets are also a great way to buy it. Markets are a great place to buy cheese for their locals to buy cheese for a great place to buy it. Markets are also a great way to buy it for people who are also great place to buy it. Markets are also a great way to buy it.</s>\n",
      "########\n",
      "*******\n",
      "question: Where would you carry food while on a long walk in the countryside?\n",
      "answer: backpack\n",
      "choices: ['backpack', 'table', 'jar', 'box', 'container']\n",
      "common expl list: ['Instead of carrying a jar or container, filling your backpack with food might not disrupt your movements as much when you are walking.', \"Because backpacks are designed to be carried on one's back, they are the most convenient way to carry food while on a long walk.\"]\n"
     ]
    },
    {
     "name": "stderr",
     "output_type": "stream",
     "text": [
      "\r",
      " 17%|███████████████████████████▌                                                                                                                                     | 169/986 [1:51:44<2:41:51, 11.89s/it]"
     ]
    },
    {
     "name": "stdout",
     "output_type": "stream",
     "text": [
      "generated explanation: <pad> <extra_id_0> A backpack is a great way to carry food while on a long walk in the countryside. It is a convenient way to carry food and other essentials while on a long walk. A backpack is a convenient way to carry food and other essentials while out and about. It is a great way to carry food while on a long walk in the countryside. A backpack is a great way to carry food while on a long walk in the countryside. It is a great way to carry food while on a long distance. It is also easy to carry anything you need to carry on a long walk in a backpack for carrying food. A backpack is also a convenient way to carry food while on a long hike. It is also a great way to carry a backpack is also a great way to carry water, such as a water, or a long walk. It is also a great way to carry your food while on a long distance. It is also a great way to carry your own. a long walks in a backpack to carry your food and other items such as a backpack. It is also a great way to carry your own personal or even a long distance. A backpack is a great way to carry food and carry your way to carry your food while on a walk. It is also a great way to carry your food and can be a convenient way to carry your own a backpack is a great way to carry your food and easily carry your own.</s>\n",
      "########\n",
      "*******\n",
      "question: What could a driver do that could distract him or her while he or she is in a driving car?\n",
      "answer: smoke\n",
      "choices: ['use mobile phone', 'car crash', 'smoke', 'backache', 'automobile accidents']\n",
      "common expl list: ['Smoking is a common activity that people do while driving, and it could distract them from driving.', 'It can be tricky to smoke and concentrate on driving at the same time, and research has found that smoking in a car with children present is very dangerous.']\n"
     ]
    },
    {
     "name": "stderr",
     "output_type": "stream",
     "text": [
      "\r",
      " 17%|███████████████████████████▊                                                                                                                                     | 170/986 [1:51:59<2:52:14, 12.67s/it]"
     ]
    },
    {
     "name": "stdout",
     "output_type": "stream",
     "text": [
      "generated explanation: <pad> <extra_id_0> Smoke is a noxious substance that can be used to distract a driver while he or she is in a car. It is<extra_id_2> that is emitted from a car, which can cause a person to lose control of the car and/or to lose control of the car. This is because smoke is a noxious substance that can cause a person to lose control of the car and cause them to smoke. Smoking can also be used to cause a person to lose control of the car. Smoke can cause a driver to feel safe driver to others around him or to lose control of the car and distract him or her while driving. Smoke can also cause a driver to lose control of the car and can also cause a driver to lose control of the car. Smoking can also cause a driver to lose control of the car and can cause a car to stop and cause a driver to lose control of the car to lose control of the car to lose control the driver to lose control the car to stop smoking. It can also cause a driver to lose control and cause a driver to lose control of the car. This can cause a person to lose control the car to lose control the driver to lose control the car and distract the driver from the vehicle. This can cause a driver to lose control of the car to lose control and/control over the car to stop smoking can also cause a driver to lose control of the car to lose control of the car and/</s>\n",
      "########\n",
      "*******\n",
      "question: The fat man wanted to make a change in his life and make sure it stayed what?\n",
      "answer: permanent\n",
      "choices: ['concretely', 'permanent', 'remain stable', 'stagnant', 'constant']\n",
      "common expl list: ['In changing his life, he wants to make sure he remains in the new lifestyle choices, e.g., not become stagnant to bad choices and fall back into bad choices.', 'His making a decision to change and ensuring the decision is made permanent indicates a desire for a stable, permanent life, which does not change.']\n"
     ]
    },
    {
     "name": "stderr",
     "output_type": "stream",
     "text": [
      "\r",
      " 17%|███████████████████████████▉                                                                                                                                     | 171/986 [1:52:11<2:50:11, 12.53s/it]"
     ]
    },
    {
     "name": "stdout",
     "output_type": "stream",
     "text": [
      "generated explanation: <pad> <extra_id_0> The fat man wanted to make sure that the change he made to his life stayed permanent. This change was not a temporary change, but a permanent one. The fat man wanted to make sure that the change he made to his life stayed permanent. The change he made to his life was a permanent one. The fat man wanted to make sure that the change stayed permanent. This was because the change was permanent and permanent meant that he could continue to live the life he had always lived. The change in his life was permanent. Permanent means that the fat man would remain fat for lifelong. The fat man wanted to make sure that the change to stay healthy and healthy. The fat man wanted to make sure that the change to stay healthy and that he made sure that the fat man was in his life. The man wanted to make sure that the fat man had a permanent change to make sure that it stayed in his life. The fat man wanted to make sure that his life was permanent. The change in his life was permanent. The fat man wanted to stay healthy and live a permanent change in his life. The fat man wanted to make sure that the change was permanent. The fat man wanted to make sure that the fat man was a permanent change to stay in his life and that a permanent change to make sure that it was permanent. The change was permanent changes in his life was permanent. Permanent changes in his life was always be a permanent. The fat man was a permanent change in his life so that it was permanent.</s>\n",
      "########\n",
      "*******\n",
      "question: where did many colonial kingdoms originate?\n",
      "answer: europe\n",
      "choices: ['saudi arabia', 'europe', 'united states', 'book', 'monarchy']\n",
      "common expl list: ['Colonies and kingdoms often originate in the mother countries of the colonial or kingdom builders, e.g., entities in the United Kingdom and the Netherlands.', 'Many colonial kingdoms in the past can be traced all the way back to their roots in Europe.']\n"
     ]
    },
    {
     "name": "stderr",
     "output_type": "stream",
     "text": [
      "\r",
      " 17%|████████████████████████████                                                                                                                                     | 172/986 [1:52:21<2:38:54, 11.71s/it]"
     ]
    },
    {
     "name": "stdout",
     "output_type": "stream",
     "text": [
      "generated explanation: <pad> <extra_id_0> Many colonial kingdoms originated in Europe, a region that is a hub of trade and development. It is home to many of the world's largest trading networks, including the United States, Canada, and Mexico. Europe is home to many of the world's largest trading networks, including the United States, Mexico, and the Caribbean. It is also home to many of the world's largest trading networks, including the United Kingdom, the United States, and the Caribbean. Europe is home to many of the world's largest trading and ads, including the United States, and the Caribbean. The continent is also a source of trade and commerce, and trade, and commerce, and commerce, which is a trading routes and commerce, and trade routes, and commerce, and commerce. The Europeans were also known for their products and services. The colonia large number of colonies were a large number of the America, and the region was founded in the region's. The colonies were founded in the Americas, and the colonies, which were founded by the a number of nations, including the United Kingdom, which was founded in the continent. The colonies were founded by the colonies, and the colonies, which were originally a large, and developed into the colonies, which was a result of the colonies, and their colonies were founded by the colonies.</s>\n",
      "########\n",
      "*******\n",
      "question: Where can a television be stored and hidden?\n",
      "answer: cabinet\n",
      "choices: ['apartment', 'living room', 'bedroom', 'kitchen', 'cabinet']\n",
      "common expl list: ['A cabinet is a piece of furniture that is used to store items, and televisions are large, and thus, can be stored in cabinets.', 'A television can be stored inside a cabinet.']\n"
     ]
    },
    {
     "name": "stderr",
     "output_type": "stream",
     "text": [
      "\r",
      " 18%|████████████████████████████▏                                                                                                                                    | 173/986 [1:52:34<2:45:10, 12.19s/it]"
     ]
    },
    {
     "name": "stdout",
     "output_type": "stream",
     "text": [
      "generated explanation: <pad> <extra_id_0> A cabinet is a great way to store a television because it allows you to store it in a cabinet that is designed specifically for storing televisions. Cabinets are typically made of solid wood, which makes them easy to access and clean. Cabinets are usually made of a sturdy, durable material that is easy to maintain, and are easy to clean. Cabinets are usually made of solid wood, which is a hard material that is easy to clean and maintain. Cabinets are also easy to clean and maintain, and they are easy to clean. Cabinets are easily accessible and can be used to store televisions. Cabinets are easily accessible from a variety of different types of televisions. Cabinets can be used to store televisions, which makes them easily accessible. Cabinets are also very versatile and can be used to store a variety of different types of materials that can be used to store different televisions. Cabinets can be used to store televisions, and hidden behind a television in a television in a cabinet. Cabinets can be used to store a variety of different types of televisions in a variety of designs. Cabinets can be used to store a variety of designs and design and design. Cabinets can be used to store a variety of different types, and design can be used to store a variety of different designs and a variety of different styles, but they can be used to store a variety of different designs and design. Cabinets can be used to store a variety of televisions in different designs, so they can be customized to fit any design to fit a television.</s>\n",
      "########\n",
      "*******\n",
      "question: what can get a prisoner in more trouble?\n",
      "answer: attempt to escape\n",
      "choices: ['dream of freedom', 'attempt to escape', 'do time', 'fast for days', 'scape jail']\n",
      "common expl list: ['Prisoners serve time, and when a prisoner attempts to escape, they generally serve extra time.']\n"
     ]
    },
    {
     "name": "stderr",
     "output_type": "stream",
     "text": [
      "\r",
      " 18%|████████████████████████████▍                                                                                                                                    | 174/986 [1:52:44<2:35:54, 11.52s/it]"
     ]
    },
    {
     "name": "stdout",
     "output_type": "stream",
     "text": [
      "generated explanation: <pad> <extra_id_0> Attempting to escape can get a prisoner into more trouble. Attempting to escape is a dangerous way for a prisoner to try to get away from the prison. Attempting to escape can lead to serious consequences. For example, attempting to run away from a prison can lead to serious injuries, physical harm, and even death. The prisoner trying to escape can also attempt to use force or force to break free. Escape attempts can lead to serious injuries, and even death. Escape attempts can lead to serious injuries. During the prisoner can lead to serious injury. Escape attempts to try to escape from the prisoner trying to escape can also be dangerous. Escape attempts to get away from the prison can be serious consequences. Attempts to escape can lead to serious injuries. Escape attempts to get away from the prisoner can lead to serious injuries. Escape attempts can also lead to serious consequences. Escape attempts to the prisoner into a serious injuries. In addition, attempt to the prisoner could lead to serious injuries, and even fatal injuries. If the prisoner attempts to escape can lead to serious injuries. Escape attempts to serious injuries and even lead to the prisoner into serious consequences. Escape attempts to the prisoner to the prisoner into serious injuries and even lead to serious injuries. In addition to the prisoner to escape can lead to serious injuries. The prisoner may even fatal injuries.</s>\n",
      "########\n",
      "*******\n",
      "question: The crab was separated from his compatriots out in the sea, where was he likely to be?\n",
      "answer: tide pool\n",
      "choices: ['fish market', 'cooking pot', 'tide pool', 'beach sand', 'farm']\n",
      "common expl list: ['Tide pools are regions of shallow, pooled water that are very exposed to air, making them appealing to crabs that have to breathe.']\n"
     ]
    },
    {
     "name": "stderr",
     "output_type": "stream",
     "text": [
      "\r",
      " 18%|████████████████████████████▌                                                                                                                                    | 175/986 [1:52:57<2:40:53, 11.90s/it]"
     ]
    },
    {
     "name": "stdout",
     "output_type": "stream",
     "text": [
      "generated explanation: <pad> <extra_id_0> The crab was separated from his compadriots out in the sea by a tide pool. The tide pool is a large, shallow, and rocky area of the sea that is surrounded by a large, open ocean and is home to many species of marine life. The tide pool is home to a large number of species of marine life, including crabs, lobsters, and other marine life. The tide pool is home to a large number of species of fish, including lobsters, crabs, and other small a tide pool, and other species of marine life. The crab was also separated from his fellow marine life of his fellow crabs. The tide pool is also a great place to find a great way to find a place to find a tide pool. The tide pool is a great place to find a place to look for the crab to find them. The tide pool is a great place to find a place to find a place to find a place to find a tide pool, especially important to find a large crab in a large crabs and other places to find the crabs that are a place to find a place to go to find if the crabs that are strandedrift from shoreline. The crab was strandedrift, and a tide pool is a great place to find a safe and a place to find the crab in a tide pool is a place to find if you are looking for the crab and a tide pool, but it is located in a tide pool, and find a place to look for the crab that is separated from the crab. The tide pool is a great place to find him, and a place to find him.</s>\n",
      "########\n",
      "*******\n",
      "question: What item is smelted out of minerals on the country side?\n",
      "answer: metal\n",
      "choices: ['urban city', 'france', 'metal', 'grass', 'state']\n",
      "common expl list: ['Products made by smelters tend to be made out of metals, and mining occurs at the country side.', 'Metals are extracted from mineral mines out in the country side.']\n"
     ]
    },
    {
     "name": "stderr",
     "output_type": "stream",
     "text": [
      "\r",
      " 18%|████████████████████████████▋                                                                                                                                    | 176/986 [1:52:59<2:03:24,  9.14s/it]"
     ]
    },
    {
     "name": "stdout",
     "output_type": "stream",
     "text": [
      "generated explanation: <pad> <extra_id_0> Metal is a naturally occurring substance that is formed when minerals are dissolved in water. Metal is a naturally occurring substance that is formed when a metal is smelted from the water and a catalyst is used to create electricity. Metal is a valuable and valuable resource that is abundant in nature. It is a very hard and brittle substance that is formed when a metal is heated to form a solid, which is called a \"metal\". Metal is a highly conductive material that is able to conductor</s>\n",
      "########\n",
      "*******\n",
      "question: Where is a good place to store a saw?\n",
      "answer: toolbox\n",
      "choices: ['hardware store', 'tool shed', 'storage', 'tool kit', 'toolbox']\n",
      "common expl list: ['A toolbox is a container for tools, and a saw is a tool.', 'One might likely store a saw in a box with other tools.']\n"
     ]
    },
    {
     "name": "stderr",
     "output_type": "stream",
     "text": [
      "\r",
      " 18%|████████████████████████████▉                                                                                                                                    | 177/986 [1:53:12<2:16:19, 10.11s/it]"
     ]
    },
    {
     "name": "stdout",
     "output_type": "stream",
     "text": [
      "generated explanation: <pad> <extra_id_0> A toolbox is a good place to store a saw. A toolbox is a good place to store a saw because it is a safe place to store a saw and can be easily accessible by a variety of tools. A toolbox is a safe place to store a saw because it is a convenient place to store a saw and other tools. A toolbox is a good place to store a saw because it is convenient and easy to access. A toolbox is a great place to store a saw can be used to cut or a saw and other tools. It can be used to cut or used to use a saw to be easily accessible to carry a saw safely and easily accessible to carry with you on the saw. A toolbox is a good place to store a saw in a toolbox can be used to cut or other tools. It can be used to store a saw in it can be used to store a saw in a saw in a toolbox can be used to store a toolbox for saw in a toolbox is a good place to store a saw in a toolbox is a good place to store a toolbox for a saw in a toolbox for a saw and a saw in a saw in a toolbox can be used to cut or for a saw in a toolbox is a toolbox for if you need to store a saw in a toolbox for a</s>\n",
      "########\n",
      "*******\n",
      "question: The jellyfish was pushed along by the water.  It was caught in what?\n",
      "answer: current\n",
      "choices: ['store', 'book', 'park', 'current', 'lake']\n",
      "common expl list: [\"Currents are fast-moving water, and jellyfish can't swim very well, so if caught in a current, it's likely to be being pushed along by the current.\", 'Jellyfish are often found in oceans, and oceans have currents.']\n"
     ]
    },
    {
     "name": "stderr",
     "output_type": "stream",
     "text": [
      "\r",
      " 18%|█████████████████████████████                                                                                                                                    | 178/986 [1:53:21<2:13:38,  9.92s/it]"
     ]
    },
    {
     "name": "stdout",
     "output_type": "stream",
     "text": [
      "generated explanation: <pad> <extra_id_0> The jellyfish was caught in the current when it was pushed along by the water. The jellyfish was pushed along by the water and was pushed along by the currents. The currents were pushed along by the currents and the jellyfish was caught in the currents. The currents were pushed along by the currents and the jellyfish was pulled along by the water. The currents were pushed along by the currents and the jellyfish was caught in the currents. The currents were the currents that the water. The jellyfish were caught in the currents were in the currents currents. The currents were pushed along the jellyfish were in the current. The jellyfish was caught in the currents were pushed along the currents and the currents. The jellyfish was caught in the currents were pushed along the jellyfish was pushed along by the water. The jellyfish was pushed along by the currents and pushed along with the currents. The jellyfish were pushed along with the current. The jellyfish was caught in the currents were pushed along with the currents and pushed along by the currents.</s>\n",
      "########\n",
      "*******\n",
      "question: The dime store was full of old donated goods, it reminded the customer of the what?\n",
      "answer: past\n",
      "choices: ['strip mall', 'past', 'shopping center', 'old movie', 'india']\n",
      "common expl list: ['Dime stores were more popular years ago than today. The sight of the old goods reminded the person of the past.']\n"
     ]
    },
    {
     "name": "stderr",
     "output_type": "stream",
     "text": [
      "\r",
      " 18%|█████████████████████████████▏                                                                                                                                   | 179/986 [1:53:35<2:27:45, 10.99s/it]"
     ]
    },
    {
     "name": "stdout",
     "output_type": "stream",
     "text": [
      "generated explanation: <pad> <extra_id_0> The old donated goods were a reminder of the past, as they were a reminder of the past. The old donated goods were a reminder of the past, as they were a reminder of the past. The old donated goods were often used to make new items, such as toys, clothing, and other items. The old donated goods were often used to make new items, and the old donated goods were often used to make new items. The old goods were often used to make new items, and the old donated goods were often used to make new. The old donated goods were often used to sell. The store was full of the past, and the customer was always looking for new donated goods were a reminder of the past. The old donated goods were used to make a good time when the customer could find old donated goods were donated goods were a good source of old donated goods were donated goods were donated to the customer and the store was a good time when the store was full of old donated goods were a good cause of giving back to the customer back in the store. The dimes were often found in the store. The store was full of old donated goods were a reminder of the past, and the store was full of old and a good time. The dime store was full of old donated goods were a good time and the customer was a good time, and the customer. The store was a good time gone, and the past. The store was a good time, and it was a good time and the goods were donated goods were donated to the customer.</s>\n",
      "########\n",
      "*******\n",
      "question: Where would you put a saw if you do not need to use it soon and your house only has one floor?\n",
      "answer: tool shed\n",
      "choices: ['logging camp', 'in the vehicle', 'tool shed', 'toolbox', 'basement']\n",
      "common expl list: ['The shed is a good place for storing tools when those tools are not in use.', 'A tool shed is a common structure for organizing and storing tools that are infrequently used.', \"A tool shed is a place where tools are stored, and thus, a good place to store a saw if you don't need to use it soon.\"]\n"
     ]
    },
    {
     "name": "stderr",
     "output_type": "stream",
     "text": [
      "\r",
      " 18%|█████████████████████████████▍                                                                                                                                   | 180/986 [1:53:48<2:35:03, 11.54s/it]"
     ]
    },
    {
     "name": "stdout",
     "output_type": "stream",
     "text": [
      "generated explanation: <pad> <extra_id_0> A tool shed is a place to store a saw that is usually stored in a tool box or cabinet. It is usually located in a tool box or cabinet or tool box that is attached to a wall or other structure. The tool shed is usually a small space on the ground and is usually a one-story structure. It is usually a shed or other structure that is a roomy structure with a roof over it. A tool shed is typically a one-story structure that is designed to provide a tool storage for your saw in a tool shed or garage. The tool shed is typically located in a shed or tool shed is usually located in the basement or another room. It is usually located in a shed or garage or other items. The tool shed is typically located in a one or another floor. It is typically a two-story structure, but it is usually a two- or three-four-story building. The tool shed is usually a one-story building that is built on the ground. The tool is usually a one-detangle of the roof or other storage space. The shed is usually a two- or three-lockable to prevent theft. The tool shed is usually constructed of two-story and is typically two stories. The tool shed is a two-story</s>\n",
      "########\n",
      "*******\n",
      "question: A person might wear his yarmulke when going to where?\n",
      "answer: synagogue\n",
      "choices: ['demonstration', 'concert', 'garage', 'bus stop', 'synagogue']\n",
      "common expl list: ['Synagogue is a place commonly visited by religious Jews. Men wear yarmulkes (skullcaps) because faith requires that they uncover their heads when going before God.']\n"
     ]
    },
    {
     "name": "stderr",
     "output_type": "stream",
     "text": [
      "\r",
      " 18%|█████████████████████████████▌                                                                                                                                   | 181/986 [1:53:55<2:18:06, 10.29s/it]"
     ]
    },
    {
     "name": "stdout",
     "output_type": "stream",
     "text": [
      "generated explanation: <pad> <extra_id_0> A yarmulke is a type of head covering that is worn by a person when they are in a religious gathering, such as a synagogue, a religious festival, or a wedding. It is a head covering that is worn to protect the head and neck from harm or injury. It is a type of headcover that is worn to protect the skin from harm or injury. It is a type of headcovering that is worn to cover the head and neck, and is worn to cover the hands and t. The person wearing a yarmourist is a Jewish weddings or other religious services, or for a funeral services. The a person may wear a a a wedding or funeral or funeral home or church for a special occasion. A person may also wear a wedding or a funeral or a funeral or service. A a person may wear a religious ceremony or service in a syna religious service, or at a syna church or funeral or a religious ceremony. The yarmuledol</s>\n",
      "########\n",
      "*******\n",
      "question: Someone takes up exercising to improve their what\n",
      "answer: physical fitness\n",
      "choices: ['losing weight', 'physical fitness', 'breathlessness', 'muscles', 'lost weight']\n",
      "common expl list: ['Exercising is a way to improve physical fitness.', 'Typically people are motivated to exercise in order to become fit.', 'Exercising helps people build their physical fitness.']\n"
     ]
    },
    {
     "name": "stderr",
     "output_type": "stream",
     "text": [
      "\r",
      " 18%|█████████████████████████████▋                                                                                                                                   | 182/986 [1:54:09<2:31:52, 11.33s/it]"
     ]
    },
    {
     "name": "stdout",
     "output_type": "stream",
     "text": [
      "generated explanation: <pad> <extra_id_0> A person who takes up exercising to improve their physical fitness is someone who takes up exercising to improve their physical fitness. Physical fitness is the process of improving one’s physical fitness and mental health. Physical fitness is the process of enhancing one’s overall fitness by enhancing the body’s ability to move and maintain a healthy body. It is the process of gaining strength, endurance, and flexibility. Physical fitness is the process of gaining strength and conditioning skills. Physical fitness is the process of improving one’s ability to move and maintain a person’s fitness by improving their overall health. Physical fitness is important because it helps to improve their overall fitness. It also helps to improve their overall health and overall fitness. Physical fitness can help people lose weight and improve their overall fitness levels. Physical fitness can help improve their overall fitness by providing a variety of benefits of physical fitness. It can help people live longer and improve their overall fitness. Physical fitness can help improve their overall health and overall fitness levels. Physical fitness can help people lose weight and improve their overall health and overall fitness levels. Physical fitness can help people lose weight. They can also improve their overall health and overall well-being physically fit. Physical fitness can help people to improve their overall health and overall fitness levels.</s>\n",
      "########\n",
      "*******\n",
      "question: Where could you see a sloth that is not real?\n",
      "answer: picture book\n",
      "choices: ['bad dream', 'picture book', 'another place', 'universe', 'zoo']\n",
      "common expl list: ['Reality is generally fractured into \"real\" and \"fusion.\" Sloths are real, meaning they exist (in some form) in reality; sloths are not real (in the way depicted) in a picture book.']\n"
     ]
    },
    {
     "name": "stderr",
     "output_type": "stream",
     "text": [
      "\r",
      " 19%|█████████████████████████████▉                                                                                                                                   | 183/986 [1:54:18<2:25:19, 10.86s/it]"
     ]
    },
    {
     "name": "stdout",
     "output_type": "stream",
     "text": [
      "generated explanation: <pad> <extra_id_0> A picture book is a great way to see a sloth that is not real. Picture books are a great way to learn about the different types of sloths and the different ways they interact with each other. Picture books are also a great way to learn about the different types of animals. Picture books are a great way to learn about the different types of animals and their personalities. Picture books are a great way to learn about the different types of animals and their personalities. Picture books are also a great way to learn about the environment of the sloth. The pictures are also a great way to see the sloth in a realistic looking at the eyes and are often filled with pictures of the animals. They are also a great way to learn about them. They are also a great way to learn about the human beings and how they are a great way to learn about the animal. They also provide a great way to learn about the different species of animals. They are also a great way to learn about the human. They are also a great way to learn about the human and how they are a great way to learn about the different species. They are also a great way to learn about the human and their environment. They are also a great way to teach them about the importance of human beings. They are also a great way to learn about the human. They are also great way to learn about their environment. They are also a great way to learn about the importance of their environment.</s>\n",
      "########\n",
      "*******\n",
      "question: Where are seats often plush?\n",
      "answer: opera\n",
      "choices: ['rest area', 'theater', 'hockey game', 'classroom', 'opera']\n",
      "common expl list: ['Plush seats are generally found in more comfortabe, well-off establishments, and opera is often performed in such, less strict teents of, elegance of the decor.', 'Opera is a high-class form of entertainment, and thus, the seats are often plush.']\n"
     ]
    },
    {
     "name": "stderr",
     "output_type": "stream",
     "text": [
      "\r",
      " 19%|██████████████████████████████                                                                                                                                   | 184/986 [1:54:29<2:22:30, 10.66s/it]"
     ]
    },
    {
     "name": "stdout",
     "output_type": "stream",
     "text": [
      "generated explanation: <pad> <extra_id_0> Plush seats are often found in plush seats at operas, which are usually located in upper tiers of the seating area. This is because opera seats are often plush and they are often located in the most luxurious areas of the house. Plush seats are also often found in the most luxurious areas of the house, such as the lobby, ballroom, and the main dining room, which are often located in the upper floors of the house. This is because they are often located in the most luxurious areas of the house, which are often times when it is also often used to provide a comfortable experience for guests. They are often found in the most expensive seats in the main entrance to the house. Plush seats are also often found in the elegant and elegantly designed to make them comfortable. They are also more expensive than traditional, which are typically located in the house, and are often found in the house. Plush seats are often found in the rooms, which are often found in the house. In the case, the plushy and are often found in the suites. Plush seats are often plushier and can be found in the house. In addition to being plush, they are often found in the a larger space. Plush seats are often a luxury space, making them more comfortable. Plush seats are also more expensive than softer and are often found in the world of the a luxury. In addition to make the seats in the most expensive. In addition to be more expensive and expensive. In addition to the plush, the plush also often found in the opera, which makes them more expensive.</s>\n",
      "########\n",
      "*******\n",
      "question: The comforter was used constantly and treaded upon by everyone, where should it be placed?\n",
      "answer: washing machine\n",
      "choices: ['garbage', 'linen closet', 'bedroom', 'washing machine', 'livingroom']\n",
      "common expl list: ['Linens are often used (i.e., the comforter) and washed frequently.', 'When you use your comforter (or any other high-traffic fabric) often, you ought to wash it often too. Therefore it should be kept in the washing machine, to enable quick washing.', 'The comforter was used constantly, so it should be washed frequently. Linen closets are where people store their bed sheets and blankets.']\n"
     ]
    },
    {
     "name": "stderr",
     "output_type": "stream",
     "text": [
      "\r",
      " 19%|██████████████████████████████▏                                                                                                                                  | 185/986 [1:54:38<2:17:46, 10.32s/it]"
     ]
    },
    {
     "name": "stdout",
     "output_type": "stream",
     "text": [
      "generated explanation: <pad> <extra_id_0> The comforter was used constantly and was walked upon by everyone. It was used constantly and was walked upon and walked upon by everyone. The washing machine is a great place to store a comforter because it is easy to clean and maintain. The comforter is also easy to clean and maintain. The comforter is able to be easily cleaned in the machine. The comforter is able to be cleaned in the washer and dryer. The comforter is also able to be cleaned by hand and pressed against the clothes line. The washing machine is also a great place to help keep it clean. The washing machine can be used to help to keep the comforter clean and dryer. The comforter is also softer than the dryer. The washing machine can be used frequently and is a great place to dry. The comforter is also easy to maintain and can be easily cleaned by the comforter is easily maintained and is able to be used in the comforter. The comforter can be washeated and softer to absorbs easily cleaned by the machine. The washing machine is also a great place to store the comforter in the washing machine. The washing machine is also a great place to keep it clean and dry the comforter in the dryer. The comforter can be used in the machine, which can be used to keep it clean and a great way to keep it clean and a great place to keep it clean. The comforter can be used in the comforter can be used in the washing machine.</s>\n",
      "########\n",
      "*******\n",
      "question: Joe bought a ficus.  He thought it would look good in what part of his home?\n",
      "answer: family room\n",
      "choices: ['family room', 'tropical forest', 'flower garden', 'movie theater', 'hair salon']\n",
      "common expl list: [\"The ficus is an indoor plant, such as a plant one would have in one's family room. The family room is the ideal location for an indoor plant like a houseplant.\"]\n"
     ]
    },
    {
     "name": "stderr",
     "output_type": "stream",
     "text": [
      "\r",
      " 19%|██████████████████████████████▎                                                                                                                                  | 186/986 [1:54:46<2:09:16,  9.70s/it]"
     ]
    },
    {
     "name": "stdout",
     "output_type": "stream",
     "text": [
      "generated explanation: <pad> <extra_id_0> A ficus is a plant that is primarily used in the family room. It is a small, clump-like plant that is used to create a sense of calm and relaxation in the family room. It is a type of shrub that grows from the ground and is used to create a shady area in the family room. The plant is a low-maintenance plant that is often used to decorate a room. It is a low-maintenance plant that is used to create a room. The ficus is a great addition to provide a relaxing atmosphere in the family room. It is a great way to decorate the family room and creates a cozy atmosphere in the family room. It is a great way to adds to the family room. The ficus is a great way to adds to the family room. The ficus is also a great way to decorate a great way to adds to the family room. The ficus is a great way to create a relaxing atmosphere in the family room. The ficus is also a great way to adds to a family room. The a great way to add color and adds to any room. The ficus is also a great way to decorate the family room.</s>\n",
      "########\n",
      "*******\n",
      "question: Family is always the best for devotion, but it is also nice if a person has what?\n",
      "answer: loyal friends\n",
      "choices: ['good review', 'headache', 'with cat', 'loyal friends', 'shoes']\n",
      "common expl list: [\"Because times may come when a person would like to go out and have fun with some friends, and it's nice if that person may have friends that he is faithful to.\", 'We may have devoted friends who would be there for us if we had need.', 'Loyal friends are always there for you, and they will always be devoted to you.']\n"
     ]
    },
    {
     "name": "stderr",
     "output_type": "stream",
     "text": [
      "\r",
      " 19%|██████████████████████████████▌                                                                                                                                  | 187/986 [1:54:49<1:41:14,  7.60s/it]"
     ]
    },
    {
     "name": "stdout",
     "output_type": "stream",
     "text": [
      "generated explanation: <pad> <extra_id_0> A person who is loyal to their family is more likely to stay committed to their family and to their faith. Family is the foundation of a person’s devotion to their family and their loved ones. Family is always the best for a person’s devotion to their family and their faith. Family is always the foundation of a person’s devotion to their family and to their faith. Family is always the best for devotion to their family and to their faith. Family is always the best for a person’s devotion to their family and to their loyalty</s>\n",
      "########\n",
      "*******\n",
      "question: Rap is not usually associate with what music often performed by an orchestra?\n",
      "answer: classical\n",
      "choices: ['folk', 'rock', 'good music', 'country music', 'classical']\n",
      "common expl list: ['Rap is generally associated with hip-hop music, which is normally performed by a single artist. Orchestras tend to play classical music, which often is performes with real instruments, rather than manufactured ones.']\n"
     ]
    },
    {
     "name": "stderr",
     "output_type": "stream",
     "text": [
      "\r",
      " 19%|██████████████████████████████▋                                                                                                                                  | 188/986 [1:54:57<1:43:29,  7.78s/it]"
     ]
    },
    {
     "name": "stdout",
     "output_type": "stream",
     "text": [
      "generated explanation: <pad> <extra_id_0> Rap is not usually associated with what music often performed by an orchestra. This is because rap is not typically associated with classical music. For example, classical music is usually performed by an orchestra. This is because it is performed by a group of musicians who are not musicians themselves. Rap is a form of dance music that is performed by a group of people. This is because rap is not a form of classical music. It is a form of dance music that is performed by an orchestra. This is because classical music is typically performed by an orchestralozien orchestras are usually performed by acouture. Rap is not usually performed by an orchestra. However, it is often performed by a great way to create a great opportunity to create a great opportunity to create a new and create new ideas and ideas for a variety of music that can be used to create a unique and create a variety of instruments and vocals that are used to create rap that can be used to create new and create a variety of music that can be performed by a variety of instruments, and a variety of instruments and styles. For example, rap is often performed by an orchestral group of musicians are often acous and a great way to create new and new music.</s>\n",
      "########\n",
      "*******\n",
      "question: At what structure can you see people you use a puck professionally?\n",
      "answer: hockey rink\n",
      "choices: ['hockey rink', 'locker room', 'sporting goods store', 'used in hockey game', 'teachers']\n",
      "common expl list: ['Pucks are commonly used in ice hockey, which is a professional activity.']\n"
     ]
    },
    {
     "name": "stderr",
     "output_type": "stream",
     "text": [
      "\r",
      " 19%|██████████████████████████████▊                                                                                                                                  | 189/986 [1:55:01<1:25:49,  6.46s/it]"
     ]
    },
    {
     "name": "stdout",
     "output_type": "stream",
     "text": [
      "generated explanation: <pad> <extra_id_0> At a hockey rink, you will see people using a puck professionally. This is because hockey is a sport that is played by people who are skilled in the use of a puck. It is a game of skill and skill. At a rink, you will see people who are skilled in the use of a puck professionally. This is because hockey is a sport that is played on a rink, and the goaltenders are responsible for guiding the puck to the goal. This is because the goalirists are usually playing against the puck is a goaliving the puck is a goaliobl</s>\n",
      "########\n",
      "*******\n",
      "question: Even when not in flight a bald eagle likes to have a lay of the land, because of this you'll see them perched up where?\n",
      "answer: high places\n",
      "choices: ['colorado', 'natural habitat', 'everglades', 'high places', 'tree']\n",
      "common expl list: ['Eagles like to be high up, so they can see a large area.']\n"
     ]
    },
    {
     "name": "stderr",
     "output_type": "stream",
     "text": [
      "\r",
      " 19%|███████████████████████████████                                                                                                                                  | 190/986 [1:55:13<1:50:43,  8.35s/it]"
     ]
    },
    {
     "name": "stdout",
     "output_type": "stream",
     "text": [
      "generated explanation: <pad> <extra_id_0> Bald eagles like to be able to see the land even when they are not in flight, so they often perch high up in the air. This is because they are able to see the land from a higher place, which is often high up in the air. This is because bald eagles like to have a lay of the land, so they can see the land from a higher point. This is because they are able to see the land from a higher point, and because they are often perched in flight, and often have to their young, and other birds. This is often found in the air, and other birds also perch. They also like to be able to see the birds from s. They also perched in the air, which can be seen from a higher place, or even when they are in flight. This is because they can see the land from a distance. This is because they can also be seen from a high in the air, and so close to the ground, and they can also be seen from a wide variety of different places. This is because a bald egland can be found in the air, so you can see them from a higher up in a wide range of places, and often times when they are looking for a wide range of different types of trees, and also be found in the air, and often times, and they are often found in the air, and often times when they are in the air, and often seen from a distance, and often times. Also, they are often seen from a distance, and can be seen from the land, so often times, especially important to see them in the air, and can be seen from a place, so they can be seen from a place.</s>\n",
      "########\n",
      "*******\n",
      "question: When is good time for garlic bread?\n",
      "answer: dinner\n",
      "choices: ['refrigerator', 'dinner', 'jail', 'supermarket', 'going on a date']\n",
      "common expl list: ['Typical garlic bread is served with a maincourse and wine or other alcoholic beverage, and both are commonly served with dinner.', 'Garlic bread is often served with dinner.']\n"
     ]
    },
    {
     "name": "stderr",
     "output_type": "stream",
     "text": [
      "\r",
      " 19%|███████████████████████████████▏                                                                                                                                 | 191/986 [1:55:21<1:49:07,  8.24s/it]"
     ]
    },
    {
     "name": "stdout",
     "output_type": "stream",
     "text": [
      "generated explanation: <pad> <extra_id_0> Garlic bread is a great way to start a meal and it is a great appetizer for a variety of occasions. It is a delicious side dish that is perfect for a variety of occasions, including a special occasion or a special occasion. Garlic bread is a great way to start a meal by serving it at a dinner party or a special event. Garlic bread is a great way to add texture and flavor to any meal. Garlic bread is a great addition to any meal, especially for a great for a great way to add flavor to any dinner, and is a great way to add flavor to your dinner. It is also a great way to add flavor to any dish to any meal. It is also a great way to add flavor to a great way to adds to any dinner table. It is a great way to add flavor to any meal. Garlic bread is a great way to add flavor to any meal. It is a great way to add some flavor to any meal. It is also a great way to add texture to any meal. This recipe is a great way to make a delicious and fill<extra_id_27> </s>\n",
      "########\n",
      "*******\n",
      "question: Where is the sky fake?\n",
      "answer: planetarium\n",
      "choices: ['shed', 'atmosphere', 'photo', 'outdoors', 'planetarium']\n",
      "common expl list: ['Planetariums are buildings that simulate the sky.', 'Planetariums are places built to simulate the sky indoors; the opposite of outdoors.']\n"
     ]
    },
    {
     "name": "stderr",
     "output_type": "stream",
     "text": [
      "\r",
      " 19%|███████████████████████████████▎                                                                                                                                 | 192/986 [1:55:30<1:51:10,  8.40s/it]"
     ]
    },
    {
     "name": "stdout",
     "output_type": "stream",
     "text": [
      "generated explanation: <pad> <extra_id_0> The sky is a fake in the world of science fiction and fantasy. It is a place where people can visit and see the sky for the first time. It is a place where people can see the stars and the earth and other celestial bodies. It is a place where people can visit to see the sky and other celestial bodies. It is a place where people can see the stars and other celestial bodies in a variety of ways. It is a place where people can see the sky and other celes. It is also a place where they can also see the Earth. The sky is a place where the earth’s and other planeta variety of objects. The planeta place where people can also see the Earth’s and other planets. The sky is a place where the earth’s atmosphere and other planeta variety of other planets and other planeta variety of different types of objects and even the Earth’s rotation. The planeta fake world of the Earth’s rotational zones are a variety of different kinds of different kinds of different parts of the Earth’s and other objects, such as the Earth. The sky is a place of a place where the Earth’s and otherworld. The planeta planeta place where you can see and other celes.</s>\n",
      "########\n",
      "*******\n",
      "question: Boats that aren't on the ocean travel across the surface of what?\n",
      "answer: lake\n",
      "choices: ['lake', 'ocean', 'tetrahedron', 'mirror', 'object']\n",
      "common expl list: [\"Lakes (and ponds) are bodies of fresh water surrounded by land, and boats exist on water, and thus, will tend to travel across lakes' surfaces.\"]\n"
     ]
    },
    {
     "name": "stderr",
     "output_type": "stream",
     "text": [
      "\r",
      " 20%|███████████████████████████████▌                                                                                                                                 | 193/986 [1:55:38<1:48:46,  8.23s/it]"
     ]
    },
    {
     "name": "stdout",
     "output_type": "stream",
     "text": [
      "generated explanation: <pad> <extra_id_0> Lakes are a great place to travel by boat, especially when you're on land. They are a great place to explore and enjoy nature. They are also a great place to take a boat out on the water for a day trip, or a longer trip. Lakes are also great places to take a boat out on the water, as they provide a barrier of protection from the waves that can come off the surface of the ocean. Lakes are also a great place to take a picnic or a boat can also be used to navigate the water. Lakes are also great place to see the ocean waves that the water. Lakes are also great place to take a great place to explore the ocean. The lakes are also a great place to see the shoreline. They also provide a safe and clean waterway for the water. They also provide a safe and safe place for people and wildlife. They can also be used to explore the lake. In addition to the ocean, they provide a safe and clean water for their passengers. They can also be used to transport passengers and back and back to their destination. In addition to the ocean, there are also a great place to enjoy the peace of land.</s>\n",
      "########\n",
      "*******\n",
      "question: A small dog lived with a a woman who loved him. Where might he have lived?\n",
      "answer: person's house\n",
      "choices: [\"person's house\", 'dog house', 'canada', 'illinois', 'basket']\n",
      "common expl list: [\"Dogs are often kept as pets, and pets are often kept in their owners' homes.\", 'Animals who live with humans are often in their homes.']\n"
     ]
    },
    {
     "name": "stderr",
     "output_type": "stream",
     "text": [
      "\r",
      " 20%|███████████████████████████████▋                                                                                                                                 | 194/986 [1:55:50<2:03:00,  9.32s/it]"
     ]
    },
    {
     "name": "stdout",
     "output_type": "stream",
     "text": [
      "generated explanation: <pad> <extra_id_0> A small dog lived with a woman who loved him. The woman loved him and wanted to keep him safe. The small dog lived with a woman who loved him. The woman may have lived in her house because she was comfortable and knew he was safe. The small dog would have had a place to sleep and eat, and she would have known when the dog was coming. The house would have been a safe place for the dog to live in. The small dog would have lived in the house with the woman. The small dog would have a place where the woman would have lived in her house would have lived in the house. The small dog would have had to be in a room in the house because the woman would have had a small dogs would have a place where the small and could have a place where the dog would have had a place to be happy. The small dog would have lived in a person's house would have been in the house. The small dog would have had a place to be a place where a safe place to live in a house. The dog would have had a place where a place to be a small dog would have a place to live with the woman. The dog would have had a place to be able to be with the woman. The small dog would have lived in a place where the woman would have had a place to be in a place to live with her. This is a place would have been a safe place for her and would have had a place to be able to be a place to go to go when she was a place to go to go to stay in a place to stay with the woman who was a place to go when she was in her home would have been in a place to go to go when she was a place to go to stay with a woman who would have a place to go when she was in her house.</s>\n",
      "########\n",
      "*******\n",
      "question: There are usually four strings on what popular instrument?\n",
      "answer: guitar\n",
      "choices: ['trumpet', 'kite', 'quark', 'guitar', \"bird's nest\"]\n",
      "common expl list: ['A guitar is a stringed instrument with four strings.', 'Guitars have four strings.']\n"
     ]
    },
    {
     "name": "stderr",
     "output_type": "stream",
     "text": [
      "\r",
      " 20%|███████████████████████████████▊                                                                                                                                 | 195/986 [1:55:59<2:02:33,  9.30s/it]"
     ]
    },
    {
     "name": "stdout",
     "output_type": "stream",
     "text": [
      "generated explanation: <pad> <extra_id_0> The guitar is a popular musical instrument that is made up of four strings. The strings are attached to the body of the guitar and are a combination of two strings and two strings. The strings are made of wood, which is a hard plastic material that is shaped like a cylinder. The strings are made of a variety of materials, including wood, metal, plastic, and plastic coated steel. The four strings are connected by a bridge, which is made of a steel wire that is connected to the body of the guitar. The guitar is played on the player is usually four strings. The four strings are made of steel, which is also made of metal. The strings are made of metal, which is made of metal a metal, and are made of the four strings are usually made of steel, and are made of steel wires. The strings are made of steel, and are made of steel, which is made of steel. The four strings are made of the steel guitar is made of steel. The strings are made of steel, which is a metal, and are made of steel. The steel is made of steel, which is made of steel. The four-colored steel is made of steel. The strings are made of steel, which is made of steel, which is made of steel, which is made of steel. The four-looking steel, which is made of steel, which is made of metal, which is made of steel. The steel is made of the steel, which is made of steel, which is made of steel.</s>\n",
      "########\n",
      "*******\n",
      "question: Where would you find a shelf with toys for young people learning?\n",
      "answer: school building\n",
      "choices: ['corner', 'school building', 'wall', 'library', 'bookstore']\n",
      "common expl list: ['A school building is a place where children learn, and so, a school building would have a shelf with toys for young people learning.', 'School buildings house school libraries, in which you would find shelfs of toys, games and puzzle for students to use while in school.']\n"
     ]
    },
    {
     "name": "stderr",
     "output_type": "stream",
     "text": [
      "\r",
      " 20%|████████████████████████████████                                                                                                                                 | 196/986 [1:56:07<1:55:24,  8.76s/it]"
     ]
    },
    {
     "name": "stdout",
     "output_type": "stream",
     "text": [
      "generated explanation: <pad> <extra_id_0> A school building is a place where young people can find toys for learning. This is because it is a place where they can play and learn together. This is because the building is a place of learning and learning. This is because it is a place where children can play and learn together. This is because children can play together and play with toys. This is because toys are a part of a larger learning environment. This is because they are often used to teach and learn. This is because they are easy to store and transport. This is also because they can be found in schools and classrooms. This is a place where they can find them. This is a place for young people toy storage area where they can also be found in the school building. This is because it is a place where they can also be used to store toys in the school building. This is also a place for children to play with their favorite toy toy store and play in a place to play in the school building. This is because it is a place toy for children to play and play with learning activities. This is because it is a place where they can play and play.</s>\n",
      "########\n",
      "*******\n",
      "question: What can you get after drinking too much alcohol?\n",
      "answer: sickness\n",
      "choices: ['become drunk', 'have fun', 'active', 'frequent urination', 'sickness']\n",
      "common expl list: [\"Alcohol (e.g., beer, wine, etc.) is a chemical that alters people's consciousness, making them generally feel unpleasant; subsequently, over-consumption can lead to the vomiting of one's content inside one's stomach. Hence, being\", 'Alcohol is a diuretic, which means that it makes you urinate more frequently. This can lead to dehydration, which can cause sickness.', \"Drinking too much alchohol can impair the body and, consequently, one's ability to think straight. It can also cause sickness.\"]\n"
     ]
    },
    {
     "name": "stderr",
     "output_type": "stream",
     "text": [
      "\r",
      " 20%|████████████████████████████████▏                                                                                                                                | 197/986 [1:56:15<1:53:23,  8.62s/it]"
     ]
    },
    {
     "name": "stdout",
     "output_type": "stream",
     "text": [
      "generated explanation: <pad> <extra_id_0> Drinking too much alcohol can lead to a wide range of health problems. These include: nausea, vomiting, diarrhea, and headaches. Alcohol is also a known cause of drinking-related illness. This is because it is a concentrated form of alcohol, which is a form of edema. This is a result of the body’s inability to process food properly and properly. This can include nausea, vomiting, and diarrhea. This is because it is caused by the body’s inability to absorb the nutrients from the body. Alcohol can lead to other health problems, such as fatigue, depression, insomnia, depression, insomnia, anxiety, depression, fatigue, and other symptoms, fatigue, and other symptoms. In addition to the effects, it can cause other symptoms, including anxiety, depression, insomnia, fatigue, depression, anxiety, depression, depression, and anxiety. It can also be caused by the drinking too much alcohol can be a source of alcoholisms, depression, anxiety, depression, anxiety, headaches, and fatigue, and other symptoms. In short-term effects of alcohol can cause a number of the body can be related to the body’s metabolism. This can be accompanied by the alcohol, depression, anxiety, and mood disorders, depression, and can also be caused by the body’</s>\n",
      "########\n",
      "*******\n",
      "question: WHat is the central bank responding to when they are fighting inflation?\n",
      "answer: problems\n",
      "choices: ['deflation', 'problems', 'spend more', 'people', 'not noticeable']\n",
      "common expl list: ['Periods of inflation cause problems for businesses and people. The central bank may take steps to fight inflation (reduce it) to respond to this problem. Reducing inflation also solves the overall issues.', 'Inflation is a problem, and the central bank is responding to it by fighting it.', 'Inflation is a function of having too much money in the economy. This may cause problems.', 'In order to fight inflation, a central bank must respond to the problem, e.g., economic trouble, which if left alone, would cause inflation']\n"
     ]
    },
    {
     "name": "stderr",
     "output_type": "stream",
     "text": [
      "\r",
      " 20%|████████████████████████████████▎                                                                                                                                | 198/986 [1:56:26<2:01:14,  9.23s/it]"
     ]
    },
    {
     "name": "stdout",
     "output_type": "stream",
     "text": [
      "generated explanation: <pad> <extra_id_0> When the central bank is fighting off inflation, they are responding to problems. When the central bank is fighting off inflation, they are responding to problems in the economy. Inflation is a major concern for central banks because it is a major driver of economic growth and economic stability. Inflation is a major driver of economic growth and economic stability. The central bank is a key player in determining the direction of economic growth and economic stability. The central bank is a key component of the economy and is a key player in a central bank is a crisis. In addition, inflation is a problem, the central bank is responding to respond to fight against a crisis. Inflation is a crisis and a crisis, the central bank is a crisis. Inflinfinfa crisis. The central bank is a crisis and is a crisis. In addition to the central bank is a crisis and the economy. The central bank is a crisis, and a crisis. Infin the economy, the bank is a critical part of a crisis. In addition to keep up with inflation, the central bank is a crisis and a crisis. The central bank is a central bank is a crisis, and a crisis in the economy. Inflation is a crisis, the economy and a crisis. The central bank is a critical part of a crisis. The central bank is a crisis, the central bank is a a crisis and a a crisis, the economy.</s>\n",
      "########\n",
      "*******\n",
      "question: What could a massive building be if it is not constructed well?\n",
      "answer: insubstantial\n",
      "choices: ['insubstantial', 'massless', 'dwarf', 'inconsequential', 'good']\n",
      "common expl list: ['A building is typically considered a sizable construction, therefore, if erected poorly, would be construed as being insubstantial.', 'Because the massive structure is so large, poor construction could render it largely inconsequential, or \"insubstantial\", as a structure.']\n"
     ]
    },
    {
     "name": "stderr",
     "output_type": "stream",
     "text": [
      "\r",
      " 20%|████████████████████████████████▍                                                                                                                                | 199/986 [1:56:35<2:02:01,  9.30s/it]"
     ]
    },
    {
     "name": "stdout",
     "output_type": "stream",
     "text": [
      "generated explanation: <pad> <extra_id_0> A massive building is a massive structure that is constructed to last and is designed to be strong and durable. It is constructed to withstand the elements and to be able to withstand severe weather conditions. It is designed to be large and heavy, and it is designed to withstand the elements. A massive building is a large structure that is designed to be durable and safe to live in. It is constructed to be able to withstand the elements and to withstand the elements. It is designed to be substantial and strong, and it is not a massive structure that is constructed to be able to be able to a large enough to provide a large, and a large, a large, and to provide a large space for people and other elements. A massive structure that is constructed to be able to provide a large enough to accommodate a large, and occupants can be able to move easily accessible to able to move around it. A massive structure can be a large space for people to move around them. A massive building is also constructed poorly constructed to be a good choice for people who want to build a large, and not be a good structure that is a good choice for their needs. A building is a good choice for large or a large space to be a good structure that is a good building that is constructed to be a large, and durable, and a large space for people who want to build a large, and easily transport large structure that is a large</s>\n",
      "########\n",
      "*******\n",
      "question: If you rent a condominium in a glove-shaped state where are you?\n",
      "answer: michigan\n",
      "choices: ['great lake state', 'michigan', 'community', 'towels', 'complex']\n",
      "common expl list: ['A condominium is a type of housing that is often rented. Condominiums are often located in complexes, and Michigan is a state that is shaped like a mitten.']\n"
     ]
    },
    {
     "name": "stderr",
     "output_type": "stream",
     "text": [
      "\r",
      " 20%|████████████████████████████████▋                                                                                                                                | 200/986 [1:56:44<2:00:42,  9.21s/it]"
     ]
    },
    {
     "name": "stdout",
     "output_type": "stream",
     "text": [
      "generated explanation: <pad> <extra_id_0> Michigan is a glove-shaped state, which means you are in the middle of the United States and the Gulf of Mexico. In Michigan, the climate is warm and humid, which makes it a great place to rent a condo. The climate is also mild and humid, which is a good thing for those who want to stay in a warmer climate. In addition to the mild temperatures, the climate in Michigan is hot and humid, which is a good thing for those who want to stay in a warmer climate. The warmer temperatures in the humidity and heat. The humidity is also a great place to rent a condo in the middle of the summer. The humidity is a great place to stay in a great place to be a great place to rent a great place to rent a great place to rent out of the humid and humid. The humidity can be a great place to rent a condo in the summer. The state of Michigan is a great place to get the summer. In addition to the humidity, the state of Michigan is a great place to rent a condo in a great place to stay in the perfect for those who want to stay in a cozy and enjoy the summer. The climate in michigan is a great place to rent a condo in a condo in the perfect place for those who want to stay in a cozy and enjoy the outdoors. The climate is also a great place to rent a cozy and warm.</s>\n",
      "########\n",
      "*******\n",
      "question: where do children play a game?\n",
      "answer: family room\n",
      "choices: ['toy store', 'bar', 'casino', 'table', 'family room']\n",
      "common expl list: ['A family room is a room in a house where family members can play games.', 'A family room is a room in many homes in which families can socialize, often through games. One such game is \"connect four.']\n"
     ]
    },
    {
     "name": "stderr",
     "output_type": "stream",
     "text": [
      "\r",
      " 20%|████████████████████████████████▋                                                                                                                                | 200/986 [1:56:53<7:39:23, 35.07s/it]"
     ]
    },
    {
     "name": "stdout",
     "output_type": "stream",
     "text": [
      "generated explanation: <pad> <extra_id_0> Family room is a place where children can play games and socialize with each other. Family rooms are often used for socializing and entertaining children. Family rooms are a great place for children to play games, especially board games. Family rooms are also great places for children to learn new skills and learn new things. Family rooms are also great places for children to learn new things, such as making crafts, making crafts, and playing with toys. Family rooms are also great places for children to learn new skills. Family rooms are often used for learning new things. They are also important for children to learn about their favorite games. These games are often played in the game. Family rooms are also used for other activities such as books, movies, games, or games. These games can be played with them to help them learn about the game they are played in the family room. In addition to the games, they can be used to help them learn new things, such as spelling and vocabulary. They can also be used to practice their memory. They can also be used to practice their social skills. In the game, children can practice their own their parents and help them learn about their own. This is a great place for them to practice their own personal growth and for them to learn new skills. Games can also be used to learn and teach them to improve their skills. Games can also be used to help them develop confidence and help them to develop their own. They can also be used to practice their imagination. This is an important because they can be used to practice their own.</s>\n",
      "########\n"
     ]
    },
    {
     "name": "stderr",
     "output_type": "stream",
     "text": [
      "\n"
     ]
    }
   ],
   "source": [
    "from tqdm import tqdm\n",
    "fse_csqa_dev_data_dict\n",
    "fse_csqa_train_data_dict\n",
    "rationale_pair_dev_data = []\n",
    "cc=0\n",
    "good_model = model\n",
    "for da in tqdm(our_data_splits['dev'], total=len(our_data_splits['dev'])):\n",
    "    print(\"*******\")\n",
    "    print(\"question: {}\".format(da['question']))\n",
    "    print(\"answer: {}\".format(da['answer']))\n",
    "    print(\"choices: {}\".format(da['choices']))\n",
    "    #print(\"our_explanation: {}\".format(da['our_explanation']))\n",
    "    id_ = da['id']\n",
    "    if id_ in fse_csqa_dev_data_dict.keys():\n",
    "        common_expl_list = fse_csqa_dev_data_dict[id_]['common_expl_list']\n",
    "    else:\n",
    "        common_expl_list = fse_csqa_train_data_dict[id_]['common_expl_list']\n",
    "    da[\"common_expl_list\"] = common_expl_list\n",
    "    print(\"common expl list: {}\".format(common_expl_list))\n",
    "    inp_ids = torch.tensor(da[\"input_ids\"], device=model.device).reshape(1, -1)\n",
    "    out = good_model.generate(\n",
    "                    inp_ids,\n",
    "                    max_length=512,\n",
    "                    pad_token_id=tokenizer.pad_token_id,\n",
    "                    eos_token_id=tokenizer.eos_token_id,\n",
    "                )\n",
    "    skip_special_tokens = False if \"infilling\" in data_args.io_format else True\n",
    "    words = tokenizer.decode(out[0].tolist(), skip_special_tokens=skip_special_tokens)\n",
    "    print(\"generated explanation: {}\".format(words))\n",
    "    da[\"generated_explanation\"] = words\n",
    "    print(\"########\")\n",
    "    rationale_pair_dev_data.append(da)\n",
    "    cc += 1\n",
    "    if cc > 200:\n",
    "        break\n",
    "    #pdb.set_trace()"
   ]
  },
  {
   "cell_type": "code",
   "execution_count": 54,
   "id": "a7a66b99",
   "metadata": {},
   "outputs": [],
   "source": [
    "import json\n",
    "rationale_pair_save_path = os.path.join(\"./results\", \"48shots_cose_t5_large_text003_200_250_rationales_generator_test_rationale_pair.json\")\n",
    "with open(rationale_pair_save_path, 'w') as f:\n",
    "    json.dump(rationale_pair_dev_data, f)"
   ]
  },
  {
   "cell_type": "code",
   "execution_count": 53,
   "id": "33daef0f",
   "metadata": {},
   "outputs": [
    {
     "data": {
      "text/plain": [
       "dict_keys(['5b8a3081c3235d62bc77e2d15f3ad454', '07f108d5321a66f460685f5c7499ecb2', 'ff1bf2ec835c9df8695ae0cfb5281646', '33ea932a876ac0361c9eefeff1d24e92', '35ad89c198d5d6311a71c993bb7b6cba', 'a2aa95861ef74bf1ecfc55db505e3982', 'af3b9a8b1962cd3bcd19e644d873e7bc', '91e0f4ab62c9d2fd440d73a3f5308d96', 'cfc7fccb8449a2a950c9d2a50991420e', 'edbb57ac2f476679ae547f75ec2bef3e', '8555dd9667d010018961a2f7d1c22704', '8bdbb8caefcc607a9ec7579aa0c87cba', '549cf641318edfc0510fa7c7dbb359e1', 'd6c002d46d9bfa466637cec4a134f332', '3b9ccdcb1c932c46a38e040d3e6c7f5b', '54231f875bb7fe4d3e4afb6eae64387c', '668dc6bce771b10cbf6336f3ec76520a', '900492bd731f8f615ed7c08155737d44', '0b25bbd9e9aa976655e1975e31331709', '1729c737ff92cf558efecde2c6cafc5e', 'cc1a547bdfdcc95e4d632453af14bc96', 'c492b8b9754a181c924c1df19998cbc7', 'd31ee38f67d1173275e120b8ad36039c', '083861fc5ebb9226fff70544f3f83d2b', 'e1744fc698cffb574e5cf4b29a81ce76', '1f492f556fae64f72ce36b6caa242dd0', '27604394ccee83e089f9ffae1883cf07', 'b3dc6d6a5e2f9d7da8eb72816c80b3f8_1', '6bc3ebcfd04965c25bde71339955746c', '69335eb9bc5b7b5df840c38a086bf8b2', 'bc05bc6b4df7a3d25a361515fe8912ad', 'f7c005244d406b9bde48dc8c22003af1', 'f48528156632b9c5b18af9ce2095509b', 'b5baf77d3855935c87f01f5fb2216667', 'db1eb157671109bbb9113b0f71a6b957', '77ddc9134bb27f9962aa2ed5ec5a5ef9', '6abd34442438509b4a00c69d6fd24764', 'b67971747e95ba425a5b81e0ba8d0b28', 'bee2a6eadfaf7a4fa0a214e341ddbe5b', '8ce13c6e08bf38d4cd4af756b661e47c', '80930e9df9ac4ad752749a54e7fc124f_1', '3ffe67fb009529d9b0c49ccd7141ee4a', '8d3dc21a53523850ec80771daaa5ff20', '3310b5b24f03d67179fababf9ae95144', '998381f854f51da2a6ccde45909e5168', 'f427f9de6bf580314531baf86de8acbc', '18844d3aa4e52b331b5382c8244cf4db', '8af63d58cc35061dec38e5448c325988', '768fb09deab56046e1565b6a2556ad5c', '5655a3002dd9a6b7dabede1dd26a5893', '07ea8ff6ee916f2bf9aceab1e19ff99a', 'd35a8a3bd560fdd651ecf314878ed30f', '449de58e919975867255218484a9fc89', '7cf54544d54818d53e7088c0749a3eca', 'd29252ddaf7c7ef491abcce342d7bb98', '4a4f6408fae400ce0beb5bea0f9913e9', 'c306ab28498b67c53decb9dde1d78bd5', 'ba9132ebf2bc3ad21e6a0631dc4e0a77', '026cb9c07a583ec933f2c4c67ae73836', '2a21820a135e1a49883525c055c74a0b', '7c45033e9fd9f1a759923971b14390ed', 'dc964e4f6df6b70815e81e466d0ff717', '2a32b1e541b1daae04690d0d3a4b3310', '6c515b068b4d3aa88a5382224d9b866d', '6c84e79d0595efd99596faa07c4961d0', '42c46e28baf0fc617a07419286178c0a', 'c39131d979c9205c11d0e109e18188e4', 'c592258c88295756833e9796e881057b', '3526550b02d9594abd4fc43553010fc6', '637c710ec9582fd9b9e8eaa3f3fe83bb', '01f01cc3ad152773ef42b30e926912bf', 'c54ddc0f9d170ba65d9f4f2e0bb41d1c', 'ad37795fd9e3a65553683ff305b5113d', '7a3d0c94438a5c8a09364aaebb848a2c', '7c05e8d5a057085455eea243fbd1cd90', '4364b4b342fb7b44434bd6694bf8fd51', '99098375c7b651d524eebac72e358238', '1ddd239a2a6438a891cb411b82e7f450', 'f4bb8ecacb9ce89e040f5f76bc79afb3', '6b9221c1af583ffb43580857d6fde38a', 'cf8e30dd6956d03e3f0f0397112a8696', '456f2fb41cac8c028dcfe2f48637e473', 'c908d7c4633c5e6add9463bdd47cb27e', '2de08c7a518b7c226e19bdc8fc10ef1d', 'cd639cf3ff82f825ace7dd2b087562bd', 'e3c6d147f8a727d314046e70e9579ba0', 'b9b82aa4c236cd342ff95455b8516a42', 'e4976ee741cf4b28b8a42780ffb15774', '8d275acea05fd16295c659c504576a9b', '3bf06235a537adc9d85431846595b800', 'a7d51b753c2113d8b2dbd0ebb5375855_1', 'bcc5dd6292a64d8fa17cd07c360b335d', '46ba5d2b8cfc6708e5e2618568d8730e', '9f9ca9bb06d6afc31b19c365fb29a1c9', '3d9c3253e24fb108cea9083e8a853cf2', '3b8e1d236f5169b6c833a994d6d9c39a', '6ca8439d062de4d43d7d471c508b78db', 'ec86900559a0faf2aef066e511a4cfa6', '57e96118fee6e2bbac5f59790fc833c0', '520b0eea9148e3cb4d45aa69a55491eb', '6be05d227f4f6fe727218fc8be9df340', '113aaea2b1a27a976547f54e531d99bb', '2f0931adc3d0d422d9ab6264395e89d8', 'cce1b59f7c4f540a84a1a7d6d88548c4', '870b07a1c5af2e956673a9680da99852', '34005ef0caafefc8585c9fcd50e94557', '22458fdcead20e2def0df0d92d5806f6', 'ec224c1dbfb569cce7ec317fe987ae68', 'ede4d302fc2ffe07703158f83c1493f2', 'ecd32cc0c17d4738a27bba3399f04591', '5c171b9837af49211891ce40e4a10204', '801431167b8bff06b9870abe9721536b', 'b47d912136e3304cb5e5890b6b879551', 'd0bd5b5ee7319d1c4727e38d429dd54e', '78276a4eab6e8d6b9ae3749211816977', 'ec79ef747bb89281923edb89ba26786d', '0e80f2afe5c4f652e8720b52d7c06c87', '39572e0ba1db51fa74f7fc2d90c5ec7f', '56417ee33b44f0d916bedfb6fd99b0ec', 'f996430ce208606452868fd2e739d409', '858a5eaa587fe0e266722228671a6bd1', '273d0134e8ce53d4ebcf41ca7fde02af', '49e466b1782aa4837dae53ff891fcdee', '08d908ed723f813574992195d61386a2', '7192c9f5c513aac9042bad595ff5af9f', 'aa4c5d2d348796b8d7fa324f27f4c34f', '0e52659484f2f6d763cf0d38d4c5999d', '4423c006f2a43f222d4c4e97360c25d3', 'f4a75bf3f115b826a8097edfd0ff2781', '07b51b231a9d6a143d8a73e69121e1b1', 'c2a8c6814ed3e207771cfc23b3b42cf1', 'f13efb91090dd28fd2b3c1f4dde680fd', '985a4f1a3f31f1ba6654f4fc48f504df', '9e5ce2b7d9eb404cdf8c7317dd0b5a59', 'a400b9fd1e319f901471c4b42d401c52', '042898e0c71adac5d123aaa6221c9754', '29c194d032a266a7160bff6f546a4d9d', 'db0cfd52ca6b2bbfcf26d1a898fd929b', '2a0e82bbf1471290c93c8f2a11af197f', '49b4c9e1bd7946a819e173ce8fa4c7c9', '6cb895ce89995f6be422f7c4167c7638', 'df1bf6f3f87975aa0c1b6d6153d9ecef', '1bf4c6b5bd870b1a079106e1e97e5d09', '8ae24d3ff199077a59e0d970feb665b7', 'bb503ece4eac41dfe608a1dcb654e6bf', '6e77de03bee86d6c20780e14f00944d0', '5799089c131e26473697afc54d5f6964', '895aa97bb84d874d71b2aed572cebfdd', '23d97480fe45bace231503f8fc367a5b', 'a2977fd575faba162d04a490dabd1b9b', '5a1c8a9dbbb60e523cc1ba14a370729c', '5496c7293f653120e5a5213db2d7b103', '7044d82a456d0fa6f0210abb03cbf2c4', '15b090801256085ad465e74af47cbee9', 'aa984e2b487d08889bc0c73bab5ac945', '4302e727e47f464511d4d04f22bed0d2', 'b6b66d4519a84b8331ea55f84767e9df', '0e5c7c0cec5b693e52f74f5f879d84fb', 'e408a5a031caec33782cb3b3a005eecc', '96cb628fb7ed2f53245598f707ed2b80', '2067720531fc03c017af941cec2f6f40', '5b8d76889510384b38b72945e8d28f53', 'cf33e0f5891ce53a716432be06a46ee1', '24eebfa678112100803da16dde148b2d', '0c2fa15a02d0b6ca6707e98fac7589e4', 'c2c2a387fd9a6a26cff636008de21f71', 'f20d40bc4af588223e880e0bb58b27b8', 'b42ef8be1748c19fa5938de5396f8fad', '57b83653d82b27d32bc39228130f3516', '2192c5c2145a6e03755ad89a02e64055', '175e7dcdded13d5adafaebf2264c3abd', '8d4b0312f02be445e09a9462873d02bb', 'cfa081b5ba90dae4d7ddb5b7ad9d369a', 'd6bb990e8c409d2b3af37a2da198e01f', '20a3bb788cf408d9a3e25e610fe60905', 'af11faa29097b71141fe192ad019d1dd', '6915dfdefe3b1cd5fd8886c8bb84929a', '43ba9669564217f2f909f33acbedaf95', 'fce1c5d069758aea57a787fc98dcf7a9', '32758ab86d888be680845b0dfe7de35e', '7ea57ee4580042b0a6a40479c8ace3e4', '21fb76bd8349628b441c76f47c33e77b', '3fe45ab3bd4a844ea290050fc0ece8c1_1', '3dee8fc7f0a3fbf4de111b6686fca157', 'ceafca2445b1b974d085a8cce38e8e44', '42520bf3f93f8de23670044e019001a3', '5ea6b94d1a911365b06cf776919413e8', '2d3c9d3dff1a7a8253180cb3de1ceeea', 'a4892551cb4beb279653ae52d0de4c89', 'e050bce7048da1b3743a54153e91694e', 'eb50f536830ba18ab987c7ff652e2aba', '6386bcf080633bc3eeb3317a5435b7b7', '839f3c37622c1ed5eebc9cd0b9d658e8', '009a7aabffe0583fc2df46656b29c326', 'c82ed0c2a2e115452b4d596c5faafbcf', '01abce8c4964371d85a5be2019f75827', '7d937233b4a9043da0b976dbd42d141b', 'c611875b43b67b91030b889b267bbcb3', '7bc1198664b376f79d584725ad7f874b', '5e260e1d96187716888cbd968010bb65', 'fde48d43e27cefed6ed9c52514e0bb6d', '43ab0ff711e60d51f943bbd2cdd6515a', '1a8b3c2a46efabcbd506f9cf70886ed0', '48a315cfa3ce11f7a9d615bc854331d5', '095767956c500ca1af7cf7671556de5b', 'de54d03e69d9765872f95ff06ed21499', 'cbf3dd48b4d591fc872a53cd4b9dd3af', '35872be88df5f6c4a6600020266a5458', 'a90f9197a13c64089c9ba95bcba275ad', 'bd4e80fa6642a76c064d0bc924411fb0', '008b7ba0c039f6d0d542c6c90aae173c', 'ace8fa2943ba8414aebdb74b48906fae', '1caf93d6a22dc8190e19c14bbe1fafda', '7c8bc9c0e56389eef033bca40c88c151', '6195ed74cf445cb5d991e1076a080dde', '8086f022f2d4a4888ae1f8c7e4541ab9', '1e5a138b4c7d456c37abf4990b402bbe', '3f4b48708d08f8bf7bec796531023f9c', '60e92cd2f35c345872d1a898e1718d55', '9889e5389917d812c09d6e5d382d333d', '46351b3a6beb694c5f623583a3b1473d', '7b7941b883328ad39048d4dfb1eb5623', '7d7f7d7a8ae3b20ca9fc0da6efe467b4', 'c961578f4c5768b67b843e5d2ce18452', '514310637fb43a252bfadc8cbf79b277', '5279a2ea333ba8a5bf3a7637a7279da1', '5622e49306bb82ec1cec817ad0506c60', 'fcd39cfa321728fea069a6ae4285b06f', '26bd85f05d29863ed777a4f1a4b8fa63', '31487ab8b1e8f12e252590cc58bd19c2', 'ffd89796a9b09bef56c5803f188764c6', 'ba3a2b9ff289c106051163f840a6f5ba', 'b1f36d1c8ab7e5a28783cb38e8709c27', '5c2bc4335c8860342ec2d568ceb6ac6b', '36c1f50eec01c287b8ef6ffe69fe0528', '515834727e23e30ab7c8fe5ba7e9a765', 'a15d564d0be6996251b5d523ac62db2a', '8f01273422a370a8dbda6bf473a395a0', 'cabefb7063a728e77abd44d97397a2a4', '1bc986f8aea88d6927d8a45367855a94', '484f6e4fb8e6431b010c299490b72e3c', 'a7e3de0719fe30e7048f67426e29fdd1', 'a617eb4d27edea93e7fd630ce00c8219', '2c0030cc14a27be2401dcfdaa501f0fc', 'cf02cca40a47c2deefd8b2e5a5ff2f70', 'ea0e7771afd86a59fd9f7764b77e3fa4', 'c1aebf059c5102f4e773f7fe4afe13f0', '95a85df48902d23eb3fda25a99fca1a0', 'a4b44a986e7f9045432e20ea75611df4', '05490e6c191fbc3c2fe0033ed0bd8aa0'])"
      ]
     },
     "execution_count": 53,
     "metadata": {},
     "output_type": "execute_result"
    }
   ],
   "source": [
    "fse_csqa_dev_data_dict.keys()"
   ]
  },
  {
   "cell_type": "code",
   "execution_count": null,
   "id": "bd852d7d",
   "metadata": {},
   "outputs": [],
   "source": []
  },
  {
   "cell_type": "code",
   "execution_count": null,
   "id": "c44caf95",
   "metadata": {},
   "outputs": [],
   "source": []
  },
  {
   "cell_type": "code",
   "execution_count": null,
   "id": "2e12343e",
   "metadata": {},
   "outputs": [],
   "source": []
  },
  {
   "cell_type": "code",
   "execution_count": null,
   "id": "6260b680",
   "metadata": {},
   "outputs": [],
   "source": []
  },
  {
   "cell_type": "code",
   "execution_count": null,
   "id": "f4f69d6e",
   "metadata": {},
   "outputs": [],
   "source": []
  },
  {
   "cell_type": "code",
   "execution_count": null,
   "id": "9acf454f",
   "metadata": {},
   "outputs": [],
   "source": []
  },
  {
   "cell_type": "code",
   "execution_count": null,
   "id": "548f8265",
   "metadata": {},
   "outputs": [],
   "source": []
  },
  {
   "cell_type": "code",
   "execution_count": null,
   "id": "dcfc1efc",
   "metadata": {},
   "outputs": [],
   "source": []
  },
  {
   "cell_type": "code",
   "execution_count": null,
   "id": "327d25b6",
   "metadata": {},
   "outputs": [],
   "source": []
  }
 ],
 "metadata": {
  "kernelspec": {
   "display_name": "Python 3 (ipykernel)",
   "language": "python",
   "name": "python3"
  },
  "language_info": {
   "codemirror_mode": {
    "name": "ipython",
    "version": 3
   },
   "file_extension": ".py",
   "mimetype": "text/x-python",
   "name": "python",
   "nbconvert_exporter": "python",
   "pygments_lexer": "ipython3",
   "version": "3.7.0"
  }
 },
 "nbformat": 4,
 "nbformat_minor": 5
}
