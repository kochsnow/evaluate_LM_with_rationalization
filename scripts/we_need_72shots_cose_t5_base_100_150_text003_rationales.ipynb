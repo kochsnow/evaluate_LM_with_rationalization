{
 "cells": [
  {
   "cell_type": "code",
   "execution_count": 1,
   "id": "f5286ba7",
   "metadata": {},
   "outputs": [
    {
     "name": "stderr",
     "output_type": "stream",
     "text": [
      "\u001b[34m\u001b[1mwandb\u001b[0m: Currently logged in as: \u001b[33mdengdenghuang\u001b[0m (\u001b[33mcuhk_lavilab\u001b[0m). Use \u001b[1m`wandb login --relogin`\u001b[0m to force relogin\n"
     ]
    },
    {
     "name": "stdout",
     "output_type": "stream",
     "text": [
      "env: WANDB_PROJECT=evaluate_LM_with_rationalization\n"
     ]
    }
   ],
   "source": [
    "import wandb\n",
    "wandb.login()\n",
    "\n",
    "%env WANDB_PROJECT=evaluate_LM_with_rationalization"
   ]
  },
  {
   "cell_type": "code",
   "execution_count": 2,
   "id": "30300ea6",
   "metadata": {},
   "outputs": [],
   "source": [
    "# import gpt3\n",
    "import logging\n",
    "import math\n",
    "import os\n",
    "\n",
    "from typing import List, Dict, Any, NewType\n",
    "\n",
    "InputDataClass = NewType(\"InputDataClass\", Any)\n",
    "os.environ[\"CUDA_VISIBLE_DEVICES\"] = \"0\"\n",
    "from transformers import (\n",
    "    T5Config,\n",
    "    T5ForConditionalGeneration,\n",
    "    T5Tokenizer,\n",
    "    HfArgumentParser,\n",
    "    TrainingArguments,\n",
    "    set_seed,\n",
    "    EarlyStoppingCallback\n",
    ")\n",
    "from transformers.trainer_utils import EvaluationStrategy\n",
    "from transformers.integrations import TensorBoardCallback\n",
    "import transformers\n",
    "from transformers import Trainer\n",
    "\n",
    "#from feature_conversion_methods import format_instance\n",
    "\n",
    "from custom_args import (\n",
    "    DataTrainingArguments,\n",
    "    ModelArguments\n",
    ")\n",
    "from metrics import evaluate\n",
    "import torch\n",
    "import datasets\n",
    "import git\n",
    "import time\n",
    "from datetime import datetime\n",
    "import sys\n",
    "from tqdm import trange\n",
    "import random \n",
    "import pandas as pd \n",
    "import jsonlines\n",
    "from copy import deepcopy \n",
    "\n",
    "logger = logging.getLogger(__name__)\n",
    "transformers.logging.set_verbosity_info()\n",
    "import re\n",
    "def set_global_logging_level(level=logging.ERROR, prefices=[\"\"]):\n",
    "    \"\"\"\n",
    "    Override logging levels of different modules based on their name as a prefix.\n",
    "    It needs to be invoked after the modules have been loaded so that their loggers have been initialized.\n",
    "\n",
    "    Args:\n",
    "        - level: desired level. e.g. logging.INFO. Optional. Default is logging.ERROR\n",
    "        - prefices: list of one or more str prefices to match (e.g. [\"transformers\", \"torch\"]). Optional.\n",
    "          Default is `[\"\"]` to match all active loggers.\n",
    "          The match is a case-sensitive `module_name.startswith(prefix)`\n",
    "    \"\"\"\n",
    "    prefix_re = re.compile(fr'^(?:{ \"|\".join(prefices) })')\n",
    "    for name in logging.root.manager.loggerDict:\n",
    "        if re.match(prefix_re, name):\n",
    "            logging.getLogger(name).setLevel(level)\n",
    "set_global_logging_level(logging.ERROR, [\"datasets\"])\n",
    "\n",
    "\n",
    "CONFIG_MAPPING = {\"t5\": T5Config}\n",
    "MODEL_MAPPING = {\"t5\": T5ForConditionalGeneration}\n",
    "TOKENIZER_MAPPING = {\"t5\": T5Tokenizer}\n",
    "\n",
    "\n",
    "def set_other_seeds(seed):\n",
    "    torch.backends.cudnn.benchmark = False\n",
    "    #torch.backends.cudnn.deterministic = True\n",
    "    os.environ['PYTHONHASHSEED'] = str(seed)\n",
    "\n",
    "# inspired by DefaultDataCollator from:\n",
    "# https://github.com/huggingface/transformers/blob/master/src/transformers/data/data_collator.py\n",
    "# modified to perform batch-level padding.\n",
    "class SequenceCollator:\n",
    "    def __init__(self, model, pad_token):\n",
    "        self.model = model\n",
    "        self.pad_token_mapping = {\n",
    "            \"labels\": -100,\n",
    "            \"attention_mask\": 0,\n",
    "            \"decoder_attention_mask\": 0,\n",
    "            \"input_ids\": pad_token,\n",
    "        }\n",
    "\n",
    "        self.columns = [\n",
    "            \"input_ids\",\n",
    "            \"attention_mask\",\n",
    "            \"labels\",\n",
    "            \"decoder_attention_mask\",\n",
    "        ]\n",
    "\n",
    "    def __call__(self, examples: List[Dict[str, InputDataClass]]) -> Dict[str, torch.Tensor]:\n",
    "        # re-format inputs for training\n",
    "        batch = {}\n",
    "        for key in examples[0].keys():\n",
    "            if key in self.columns:\n",
    "                tmp_list = []\n",
    "                for item in examples:\n",
    "                    tmp_list.append(item[key])\n",
    "\n",
    "                # pad lists to max length\n",
    "                if isinstance(tmp_list[0], list):\n",
    "                    max_length = max(map(len, tmp_list))\n",
    "                    tmp_list = [\n",
    "                        el + [self.pad_token_mapping[key]] * (max_length - len(el))\n",
    "                        for el in tmp_list\n",
    "                    ]\n",
    "\n",
    "                batch[key] = torch.tensor(tmp_list, dtype=torch.long)\n",
    "        return batch\n"
   ]
  },
  {
   "cell_type": "code",
   "execution_count": 3,
   "id": "2fa5a75a",
   "metadata": {},
   "outputs": [],
   "source": [
    "from collections import defaultdict\n",
    "import random\n",
    "\"\"\"\n",
    "Example-to-Feature conversion methods\n",
    "Modified from\n",
    "https://github.com/salesforce/cos-e/blob/master/code/generation/train_commonsenseqa_v1.0.py and \"\"_v1.11.py (identical)\n",
    "as well as Tensorflow code for WTF?: \n",
    "https://github.com/google-research/google-research/blob/master/wt5/wt5/preprocessors.py\n",
    "\"\"\"\n",
    "# This code is based on https://github.com/allenai/label_rationale_association/blob/main/feature_conversion_methods.py\n",
    "\n",
    "unified_qa_esnli_label_mapping = {0: 'yes', 1: 'maybe', 2: 'no'}\n",
    "unified_qa_esnli_label_mapping_upper = {0: 'Yes', 1: 'Maybe', 2: 'No'} \n",
    "wt5_esnli_label_mapping = {0: 'entailment', 1: 'neutral', 2: 'contradiction'} \n",
    "unified_qa_sbic_label_mapping = {\"offensive\": 'Yes', \"not offensive\": 'No'}\n",
    "\n",
    "def format_instance(\n",
    "        example,\n",
    "        tokenizer,\n",
    "        explanation_sep,\n",
    "        max_seq_length=None,\n",
    "        datasource=None,\n",
    "        io_format=None, \n",
    "):\n",
    "    assert datasource in {\"cos_e\", \"esnli\", \"sbic\", \"sensemaking\", \"ecqa\"}\n",
    "\n",
    "    if datasource in [\"cos_e\", \"ecqa\"]:\n",
    "        input_string, answer_string = cqa_formatting(example, io_format, explanation_sep, datasource)\n",
    "    elif datasource == \"esnli\":\n",
    "        input_string, answer_string = esnli_formatting(example, io_format, explanation_sep)\n",
    "    elif datasource == 'sbic':\n",
    "        input_string, answer_string = sbic_formatting(example, io_format, explanation_sep)\n",
    "    elif datasource == 'sensemaking':\n",
    "        input_string, answer_string = sensemaking_formatting(example, io_format, explanation_sep)\n",
    "    else:\n",
    "        raise ValueError(\"Unknown task. Currently supported: esnli, cos_e, sbic, sensemaking, ecqa.\")\n",
    "    \n",
    "    if 'unified' in io_format and 'unifew' not in io_format:\n",
    "        input_string += '</s>'\n",
    "\n",
    "    input_string = ' '.join(input_string.split())\n",
    "    answer_string = ' '.join(answer_string.split())\n",
    "\n",
    "    input_string = ' '.join(input_string.split())\n",
    "    answer_string = ' '.join(answer_string.split())\n",
    "\n",
    "    encodings = tokenizer.encode_plus(\n",
    "        input_string,\n",
    "        max_length=max_seq_length,\n",
    "        pad_to_max_length=False,\n",
    "        return_token_type_ids=False,\n",
    "        return_attention_mask=True,\n",
    "    )\n",
    "\n",
    "\n",
    "    # note even with \"lm_labels.shift_right()\", the decoder attention mask length is still correct since we remove the last token\n",
    "    dec = tokenizer.encode_plus(\n",
    "        answer_string,\n",
    "        max_length=max_seq_length,\n",
    "        pad_to_max_length=False,\n",
    "        return_token_type_ids=False,\n",
    "        return_attention_mask=True,\n",
    "    )\n",
    "\n",
    "    encodings[\"labels\"] = dec[\"input_ids\"]\n",
    "    encodings[\"decoder_attention_mask\"] = dec[\"attention_mask\"]\n",
    "    encodings[\"question_encoding\"] = encodings[\"input_ids\"]\n",
    "\n",
    "    #return encodings\n",
    "    return {**example, **encodings}\n",
    "\n",
    "#这里很简单 定义好输入输出string就可以的\n",
    "def cqa_formatting(item, io_format, explanation_sep, datasource):\n",
    "    question = item[\"question\"]\n",
    "    answer = item[\"answer\"]\n",
    "    abstr_expl = item[\"abstractive_explanation\"].lower() if datasource == 'cos_e' else item[\"explanation\"].lower()\n",
    "\n",
    "\n",
    "    if io_format == 't5_fewshot_infilling_with_choices':\n",
    "        input_string = f\"explain {datasource} question: {question} choice: \" + \" choice: \".join(item[\"choices\"]) + f\" <extra_id_0> {explanation_sep} <extra_id_1>\"\n",
    "        answer_string = f\"<extra_id_0> {answer} <extra_id_1> {abstr_expl} <extra_id_2>\"\n",
    "    elif io_format == 't5_fewshot_infilling_more_natural':\n",
    "        input_string = f\"explain {datasource} question: {question} choice: \" + \" choice: \".join(item[\"choices\"]) + f\" The answer is <extra_id_0> {explanation_sep} <extra_id_1>\"\n",
    "        answer_string = f\"<extra_id_0> {answer} <extra_id_1> {abstr_expl} <extra_id_2>\"\n",
    "    elif io_format == \"squad\": \n",
    "        input_string = f\"explain {datasource} question: {question} context: \" + ', '.join(item['choices']) # explain cos_e question: When getting in shape you need to have this in between workouts? context: give up, period of recovery, jogging\n",
    "        answer_string = f\"{answer} {explanation_sep} {abstr_expl}\" # period of recovery because without a period of recovery you will not get any gains.\n",
    "    elif io_format == \"record\": \n",
    "        # might not work because cos_e doesn't have a passage \n",
    "        input_string = f\"explain {datasource} query: {question} entities: \" + ', '.join(item['choices']) # explain cos_e query: When getting in shape you need to have this in between workouts? entities: give up, period of recovery, jogging\n",
    "        answer_string = f\"{answer} {explanation_sep} {abstr_expl}\" # period of recovery because without a period of recovery you will not get any gains.\n",
    "    elif io_format == 'unifiedqa_matching':\n",
    "        choice_ids = ['(A)', '(B)', '(C)', '(D)', '(E)']\n",
    "        input_string = f'explain {question.lower()} \\\\n'\n",
    "        for choice_id, choice in zip(choice_ids, item[\"choices\"]):\n",
    "            input_string += f' {choice_id} {choice.lower()}'\n",
    "        answer_string = f\"{answer.lower()} {explanation_sep} {abstr_expl.lower()}\"\n",
    "        answer_string = answer_string.lower()\n",
    "    elif io_format == 't5_fewshot_infilling_without_choices_use_refined_expl':\n",
    "        input_string = f\"explain {datasource} question: {question} choice: \" + \" choice: \".join(item[\"choices\"]) + f\" <extra_id_0> {explanation_sep} <extra_id_1>\"\n",
    "        input_string = f\"explain {datasource} question: {question} answer: {answer}\" + f\" {explanation_sep} <extra_id_0>\"\n",
    "        answer_string = f\"<extra_id_0> {item['our_explanation']} <extra_id_1>\"\n",
    "\n",
    "    else:\n",
    "        raise ValueError(\"The IO format is not supported. Choose `standard` or `masked_cause_generate`.\")\n",
    "    \n",
    "    return input_string, answer_string\n",
    "\n",
    "\n",
    "def esnli_formatting(item, io_format, explanation_sep):\n",
    "\n",
    "    premise = item[\"premise\"]\n",
    "    hypothesis = item[\"hypothesis\"]\n",
    "    answer = unified_qa_esnli_label_mapping[item[\"label\"]] if 'unified' in io_format else wt5_esnli_label_mapping[item[\"label\"]]\n",
    "    abstr_expl = item[\"explanation_1\"].lower() \n",
    "    # Dev/test instances have more than one explanation annotated; merge them into one sequence separated by [SEP] \n",
    "    for k in [2,3]:\n",
    "        if f\"explanation_{k}\" in item and item[f'explanation_{k}']!='': \n",
    "            abstr_expl += f\" [SEP] {item[f'explanation_{k}'].lower()}\"\n",
    "\n",
    "    if io_format == 'standard':\n",
    "        input_string = f\"explain nli hypothesis: {hypothesis} premise: {premise}\"\n",
    "        answer_string = f\"{answer} {explanation_sep} {abstr_expl}\"\n",
    "    elif io_format == 't5_fewshot_infilling':\n",
    "        input_string = f\"explain nli hypothesis: {hypothesis} premise: {premise} <extra_id_0> {explanation_sep} <extra_id_1>\"\n",
    "        answer_string = f\"<extra_id_0> {answer} <extra_id_1> {abstr_expl} <extra_id_2>\"\n",
    "    elif io_format == 't5_fewshot_infilling_more_natural':\n",
    "        input_string = f\"explain nli hypothesis: {hypothesis} premise: {premise} This is <extra_id_0> {explanation_sep} <extra_id_1>\"\n",
    "        answer_string = f\"<extra_id_0> {answer} <extra_id_1> {abstr_expl} <extra_id_2>\"\n",
    "    elif io_format == \"squad\": \n",
    "        input_string = f\"explain nli question: Is this entailment? context: {hypothesis} {premise}\"  \n",
    "        answer_ynm = unified_qa_esnli_label_mapping[item[\"label\"]]\n",
    "        answer_string = f\"{answer_ynm} {explanation_sep} {abstr_expl}\" \n",
    "    elif io_format == \"squad_endswith_what\":\n",
    "        input_string = f\"explain nli question: What is this? context: {hypothesis} {premise}\"  \n",
    "        answer_string = f\"{answer} {explanation_sep} {abstr_expl}\"  \n",
    "    elif io_format == \"squad_nli_mix\": \n",
    "        input_string = f\"explain nli question: Is this entailment? context: hypothesis: {hypothesis} premise: {premise}\"  \n",
    "        answer_ynm = unified_qa_esnli_label_mapping[item[\"label\"]]\n",
    "        answer_string = f\"{answer_ynm} {explanation_sep} {abstr_expl}\"  \n",
    "    elif io_format == \"squad_nli_mix_endswith_what\":  \n",
    "        input_string = f\"explain nli question: What is this? context: hypothesis: {hypothesis} premise: {premise}\"  \n",
    "        answer_string = f\"{answer} {explanation_sep} {abstr_expl}\"   \n",
    "    elif io_format == 'unifiedqa_unifew':\n",
    "        hypothesis = hypothesis.lower().rstrip('.')\n",
    "        unified_qa_esnli_label_mapping_upper = {0: 'Yes', 1: 'Maybe', 2: 'No'}\n",
    "        answer = unified_qa_esnli_label_mapping_upper[item[\"label\"]]\n",
    "        input_string = f'explain {premise} Is {hypothesis}? \\\\n (A) Yes (B) Maybe (C) No'\n",
    "        answer_string = f\"{answer} {explanation_sep} {abstr_expl}\"  \n",
    "    elif io_format == 'unifiedqa_unifew_nli_mix':\n",
    "        premise = premise.lower().rstrip('.')\n",
    "        unified_qa_esnli_label_mapping_upper = {0: 'Yes', 1: 'Maybe', 2: 'No'}\n",
    "        input_string = f'explain hypothesis: {hypothesis} Is premise: {premise}? \\\\n (A) Yes (B) Maybe (C) No'\n",
    "        answer_string = f\"{answer} {explanation_sep} {abstr_expl}\"  \n",
    "    elif io_format == 'unifiedqa_ynm': \n",
    "        input_string = f'explain is this entailment? \\\\n {hypothesis.lower()} {premise.lower()}'  \n",
    "        answer = unified_qa_esnli_label_mapping[item[\"label\"]]\n",
    "        answer_string = f\"{answer} {explanation_sep} {abstr_expl.lower()}\"  \n",
    "    elif io_format == 'unifiedqa_snli_mix_ynm': \n",
    "        input_string = f'explain is this entailment? \\\\n hypothesis: {hypothesis.lower()} premise: {premise.lower()}' \n",
    "        answer = unified_qa_esnli_label_mapping[item[\"label\"]]\n",
    "        answer_string = f\"{answer} {explanation_sep} {abstr_expl.lower()}\"  \n",
    "    elif io_format == 'unifiedqa_snli_mix_ynm_with_choices': \n",
    "        input_string = f'explain is this entailment? \\\\n (A) yes (B) maybe (C) no \\\\n hypothesis: {hypothesis.lower()} premise: {premise.lower()}'  \n",
    "        answer = unified_qa_esnli_label_mapping[item[\"label\"]]\n",
    "        answer_string = f\"{answer} {explanation_sep} {abstr_expl.lower()}\"  \n",
    "    elif io_format == 'unifiedqa_what_v2': \n",
    "        input_string = f'explain what is this? \\\\n {hypothesis.lower()} {premise.lower()}'  \n",
    "        answer = wt5_esnli_label_mapping[item[\"label\"]]\n",
    "        answer_string = f\"{answer} {explanation_sep} {abstr_expl.lower()}\"  \n",
    "    elif io_format == 'unifiedqa_snli_mix_what_v2': \n",
    "        input_string = f'explain what is this? \\\\n hypothesis: {hypothesis.lower()} premise: {premise.lower()}'  \n",
    "        answer = wt5_esnli_label_mapping[item[\"label\"]]\n",
    "        answer_string = f\"{answer} {explanation_sep} {abstr_expl.lower()}\"  \n",
    "    elif io_format == 'unifiedqa_snli_mix_what_with_choices_v2': \n",
    "        input_string = f'explain what is this? \\\\n (A) entailment (B) neutral (C) contradiction \\\\n hypothesis: {hypothesis.lower()} premise: {premise.lower()}'  \n",
    "        answer = wt5_esnli_label_mapping[item[\"label\"]]\n",
    "        answer_string = f\"{answer} {explanation_sep} {abstr_expl.lower()}\"     \n",
    "    else:\n",
    "        raise ValueError(\"The IO format is not supported.\")\n",
    "\n",
    "    return input_string, answer_string\n",
    "\n",
    "\n",
    "def sbic_formatting(item, io_format, explanation_sep):\n",
    "    # We pre-processed the SBIC dataset such that we join multiple implied statements with the [SEP] token for dev/test instances \n",
    "    # Each annotation in the training split is a separate instance\n",
    "    post = item['post']\n",
    "    answer = unified_qa_sbic_label_mapping[item[\"offensiveYN\"]] if 'unified' in io_format else item[\"offensiveYN\"].replace(\"not offensive\", \"not_offensive\")\n",
    "    abstr_expl = item[\"targetStereotype\"]\n",
    "    \n",
    "\n",
    "    if io_format == 'cola':\n",
    "        input_string = f\"explain sbic sentence: {post}\"\n",
    "        answer_string = f\"{answer} {explanation_sep} {abstr_expl}\"  \n",
    "    elif io_format == 't5_fewshot_infilling':\n",
    "        input_string = f\"explain sbic sentence: {post} <extra_id_0> {explanation_sep} <extra_id_1>\"\n",
    "        answer_string = f\"<extra_id_0> {answer} <extra_id_1> {abstr_expl} <extra_id_2>\"\n",
    "    elif io_format == 't5_fewshot_infilling_bool':\n",
    "        answer_bool = 'True' if item[\"offensiveYN\"] == 'offensive' else 'False'\n",
    "        input_string = f\"explain sbic sentence: {post} It is <extra_id_0> that this is offensive {explanation_sep} <extra_id_1>\"\n",
    "        answer_string = f\"<extra_id_0> {answer} <extra_id_1> {abstr_expl} <extra_id_2>\"\n",
    "    elif io_format == 't5_fewshot_infilling_more_natural':\n",
    "        input_string = f\"explain sbic sentence: {post} This is <extra_id_0> {explanation_sep} <extra_id_1>\"\n",
    "        answer_string = f\"<extra_id_0> {answer} <extra_id_1> {abstr_expl} <extra_id_2>\"\n",
    "    elif io_format == 'squad_yn': \n",
    "        input_string = f\"explain sbic question: Is this offensive? context: {post}\" # explain sbic question: Is this offensive? context: It's only happened to you like two times.\n",
    "        answer_yn = unified_qa_sbic_label_mapping[item[\"offensiveYN\"]] \n",
    "        answer_string = f\"{answer_yn} {explanation_sep} {abstr_expl}\" #  No because this post does not imply anything offensive\n",
    "    elif io_format == 'squad_yn_with_tags': \n",
    "        input_string = f\"explain sbic question: Is this offensive? context: post: {post}\" # explain sbic question: Is this offensive? context: It's only happened to you like two times.\n",
    "        answer_yn = unified_qa_sbic_label_mapping[item[\"offensiveYN\"]] \n",
    "        answer_string = f\"{answer_yn} {explanation_sep} {abstr_expl}\" #  No because this post does not imply anything offensive\n",
    "    elif io_format == 'squad_what': \n",
    "        input_string = f\"explain sbic question: What is this? context: {post}\" # explain sbic question: This is what? context: It's only happened to you like two times.\n",
    "        answer = item[\"offensiveYN\"].replace(\"not offensive\", \"not_offensive\")        \n",
    "        answer_string = f\"{answer} {explanation_sep} {abstr_expl}\" # not_offensive because this post does not imply anything offensive    \n",
    "    elif io_format == 'squad_what_with_tags': \n",
    "        input_string = f\"explain sbic question: What is this? context: post: {post}\" # explain sbic question: This is what? context: It's only happened to you like two times.\n",
    "        answer = item[\"offensiveYN\"].replace(\"not offensive\", \"not_offensive\")        \n",
    "        answer_string = f\"{answer} {explanation_sep} {abstr_expl}\" # not_offensive because this post does not imply anything offensive    \n",
    "    elif io_format == 'unified_qa_yn':\n",
    "        input_string = f'explain is this offensive? \\\\n {post.lower()}'\n",
    "        answer_string = f\"{answer} {explanation_sep} {abstr_expl.lower()}\" \n",
    "    elif io_format == 'unified_qa_yn_with_tags':\n",
    "        input_string = f'explain is this offensive? \\\\n post: {post.lower()}'\n",
    "        answer_string = f\"{answer} {explanation_sep} {abstr_expl.lower()}\"  \n",
    "    elif io_format == 'unified_qa_yn_with_choices':\n",
    "        input_string = f'explain is this offensive? \\\\n (A) yes (B) no \\\\n {post.lower()}'\n",
    "        answer_string = f\"{answer} {explanation_sep} {abstr_expl.lower()}\"\n",
    "    elif io_format == 'unified_qa_yn_with_choices_and_tags':\n",
    "        input_string = f'explain is this offensive? \\\\n (A) yes (B) no \\\\n post: {post.lower()}'\n",
    "        answer_string = f\"{answer} {explanation_sep} {abstr_expl.lower()}\"  \n",
    "    elif io_format == 'unified_qa_what':\n",
    "        input_string = f'explain what is this? \\\\n {post.lower()}'\n",
    "        answer = item[\"offensiveYN\"].replace(\"not offensive\", \"not_offensive\")\n",
    "        answer_string = f\"{answer} {explanation_sep} {abstr_expl.lower()}\"  \n",
    "    elif io_format == 'unified_qa_what_with_tags':\n",
    "        input_string = f'explain what is this? \\\\n post: {post.lower()}'\n",
    "        answer = item[\"offensiveYN\"].replace(\"not offensive\", \"not_offensive\")\n",
    "        answer_string = f\"{answer} {explanation_sep} {abstr_expl.lower()}\"  \n",
    "    elif io_format == 'unified_qa_what_with_choices':\n",
    "        input_string = f'explain what is this? \\\\n (A) offensive (B) not_offensive \\\\n {post.lower()}'\n",
    "        answer = item[\"offensiveYN\"].replace(\"not offensive\", \"not_offensive\")\n",
    "        answer_string = f\"{answer} {explanation_sep} {abstr_expl.lower()}\"\n",
    "    elif io_format == 'unified_qa_what_with_choices_and_tags':\n",
    "        input_string = f'explain what is this? \\\\n (A) offensive (B) not_offensive \\\\n post: {post.lower()}'\n",
    "        answer = item[\"offensiveYN\"].replace(\"not offensive\", \"not_offensive\")\n",
    "        answer_string = f\"{answer} {explanation_sep} {abstr_expl.lower()}\"  \n",
    "    elif io_format == 'unifiedqa_unifew':\n",
    "        input_string = f\"Topic? \\\\n (A) offensive (B) not_offensive \\\\n {post}\"\n",
    "        answer = item[\"offensiveYN\"].replace(\"not offensive\", \"not_offensive\")\n",
    "        answer_string = f\"{answer} {explanation_sep} {abstr_expl}\"\n",
    "    else:\n",
    "        raise ValueError(\"The IO format is not supported. Choose `standard` or `masked_cause_generate`.\")\n",
    "\n",
    "    input_string = ' '.join(input_string.split())\n",
    "    answer_string = ' '.join(answer_string.split())\n",
    "    return input_string, answer_string\n",
    "\n",
    "def sensemaking_formatting(item, io_format, explanation_sep):\n",
    "    # TODO: explore whether removing periods makes difference? \n",
    "    sent0 = item['sent0']\n",
    "    sent1 = item['sent1']\n",
    "    nonsensical_sentence = str(int(item['label'])+1)\n",
    "    explanation = item['explanation'].lower()\n",
    "\n",
    "    if io_format == 'copa_with_question':\n",
    "        input_string = f\"explain sensemaking choice1: {sent0} choice2: {sent1} question: nonsensical\"\n",
    "        answer_string = f\"choice{nonsensical_sentence} {explanation_sep} {explanation}\"\n",
    "    elif io_format == 'copa_bool':  \n",
    "        answer_bool = str(bool(int(item['label']))) # True if choice2 is more nonsensical    \n",
    "        input_string = f\"explain sensemaking choice1: {sent0} choice2: {sent1} Less common is choice2\"\n",
    "        answer_string = f\"{answer_bool} {explanation_sep} {explanation}\"\n",
    "    elif io_format == 't5_fewshot_infilling':  \n",
    "        input_string = f\"explain sensemaking choice1: {sent0} choice2: {sent1} <extra_id_0> {explanation_sep} <extra_id_1>\"\n",
    "        answer_string = f\"<extra_id_0> choice{nonsensical_sentence} <extra_id_1> {explanation} <extra_id_2>\"\n",
    "    elif io_format == 't5_fewshot_infilling_bool':  \n",
    "        answer_bool = str(bool(int(item['label']))) # True if choice2 is more nonsensical    \n",
    "        input_string = f\"explain sensemaking choice1: {sent0} choice2: {sent1} It is <extra_id_0> that choice2 is less common {explanation_sep} <extra_id_1>\"\n",
    "        answer_string = f\"<extra_id_0> {answer_bool} <extra_id_1> {explanation} <extra_id_2>\"\n",
    "    elif io_format == \"squad_yn\": \n",
    "        input_string = f\"explain sensemaking question: Is choice2 more nonsensical? context: choice1: {sent0} choice2: {sent1}\" # explain sensemaking question: What is nonsensical, choice1 or choice2? context: choice1: All state flowers are the scarlet carnation. choice2: The New Jersey state flower is the scarlet carnation\n",
    "        answer = \"Yes\" if bool(int(item['label'])) else \"No\"\n",
    "        answer_string = f\"{answer} {explanation_sep} {explanation}\" #  choice1 because state flowers are unique to each state.  \n",
    "    elif io_format == \"squad_yn_no_tags\": \n",
    "        input_string = f\"explain sensemaking question: Is choice2 more nonsensical? context: {sent0} {sent1}\" # explain sensemaking question: What is nonsensical, choice1 or choice2? context: choice1: All state flowers are the scarlet carnation. choice2: The New Jersey state flower is the scarlet carnation\n",
    "        answer = \"Yes\" if bool(int(item['label'])) else \"No\"\n",
    "        answer_string = f\"{answer} {explanation_sep} {explanation}\" #  choice1 because state flowers are unique to each state.  \n",
    "    elif io_format == \"squad_what\": \n",
    "        input_string = f\"explain sensemaking question: What is more nonsensical? context: choice1: {sent0} choice2: {sent1}\" # explain sensemaking question: What is nonsensical, choice1 or choice2? context: choice1: All state flowers are the scarlet carnation. choice2: The New Jersey state flower is the scarlet carnation\n",
    "        answer_string = f\"choice{nonsensical_sentence} {explanation_sep} {explanation}\" #  choice1 because state flowers are unique to each state.  \n",
    "    elif io_format == \"squad_what_no_tags\": \n",
    "        input_string = f\"explain sensemaking question: What is more nonsensical? context: {sent0} {sent1}\" # explain sensemaking question: What is nonsensical, choice1 or choice2? context: choice1: All state flowers are the scarlet carnation. choice2: The New Jersey state flower is the scarlet carnation\n",
    "        answer_string = f\"choice{nonsensical_sentence} {explanation_sep} {explanation}\" #  choice1 because state flowers are unique to each state.  \n",
    "    elif io_format == \"record\": \n",
    "        input_string = f\"explain sensemaking query: What is more nonsensical? entities: choice1, choice2 passage: choice1: {sent0} choice2: {sent1}\" # explain sensemaking query: What is nonsensical? entities: choice1, choice2 passage: choice1: All state flowers are the scarlet carnation. choice2: The New Jersey state flower is the scarlet carnation.\n",
    "        answer_string = f\"choice{nonsensical_sentence} {explanation_sep} {explanation}\" # choice1 because state flowers are unique to each state.\n",
    "    elif io_format == 'unifiedqa_yn_with_choices':\n",
    "        answer = \"yes\" if bool(int(item['label'])) else \"no\"\n",
    "        input_string = f'explain is choice2 more nonsensical? \\\\n (A) yes (B) no \\\\n choice1: {sent0.lower()} choice2: {sent1.lower()}'\n",
    "        answer_string = f\"{answer} {explanation_sep} {explanation.lower()}\" \n",
    "    elif io_format == 'unifiedqa_yn':\n",
    "        answer = \"yes\" if bool(int(item['label'])) else \"no\"\n",
    "        input_string = f'explain is choice2 more nonsensical? \\\\n choice1: {sent0.lower()} choice2: {sent1.lower()}'\n",
    "        answer_string = f\"{answer} {explanation_sep} {explanation.lower()}\"  \n",
    "    elif io_format == 'unifiedqa_yn_no_tags':\n",
    "        answer = \"yes\" if bool(int(item['label'])) else \"no\"\n",
    "        input_string = f'explain is choice2 more nonsensical? \\\\n {sent0.lower()} {sent1.lower()}'\n",
    "        answer_string = f\"{answer} {explanation_sep} {explanation.lower()}\"  \n",
    "    elif io_format == 'unifiedqa_what_with_choices':\n",
    "        nonsensical_sentence = str(int(item['label'])+1)\n",
    "        input_string = f'explain what is more nonsensical? \\\\n (A) choice1 (B) choice2 \\\\n choice1: {sent0.lower()} choice2: {sent1.lower()}'\n",
    "        answer_string = f\"choice{nonsensical_sentence} {explanation_sep} {explanation.lower()}\"  # use \" BECAUSE \"\n",
    "    elif io_format == 'unifiedqa_what':\n",
    "        nonsensical_sentence = str(int(item['label'])+1)\n",
    "        input_string = f'explain what is more nonsensical? \\\\n choice1: {sent0.lower()} choice2: {sent1.lower()}'\n",
    "        answer_string = f\"choice{nonsensical_sentence} {explanation_sep} {explanation.lower()}\"  # use \" BECAUSE \"\n",
    "    elif io_format == 'unifiedqa_what_no_tags':\n",
    "        nonsensical_sentence = str(int(item['label'])+1)\n",
    "        input_string = f'explain what is more nonsensical? \\\\n {sent0.lower()} {sent1.lower()}'\n",
    "        answer_string = f\"choice{nonsensical_sentence} {explanation_sep} {explanation.lower()}\"  # use \" BECAUSE \"\n",
    "\n",
    "\n",
    "    input_string = ' '.join(input_string.split())\n",
    "    answer_string = ' '.join(answer_string.split())\n",
    "    return input_string, answer_string"
   ]
  },
  {
   "cell_type": "code",
   "execution_count": 4,
   "id": "dde6c7e1",
   "metadata": {},
   "outputs": [
    {
     "name": "stderr",
     "output_type": "stream",
     "text": [
      "PyTorch: setting up devices\n",
      "The default value for the training argument `--report_to` will change in v5 (from all installed integrations to none). In v5, you will need to use `--report_to all` to get the same behavior as now. You should start updating your code and make this info disappear :-).\n",
      "01/12/2023 23:00:07 - WARNING - __main__ -   Process rank: -1, device: cuda:0, n_gpu: 1, distributed training: False, 16-bits training: False\n",
      "01/12/2023 23:00:07 - INFO - __main__ -   Save path: ./cos_e_output_t5_large/011223_230007\n",
      "01/12/2023 23:00:07 - INFO - __main__ -   Git branch: dev\n",
      "01/12/2023 23:00:07 - INFO - __main__ -   Git hash: 1cbb5c3b4e53baf31cbafc20d9655c63f091f901\n"
     ]
    }
   ],
   "source": [
    "og_start_time = time.time()\n",
    "\n",
    "#parser = HfArgumentParser(\n",
    "#    (ModelArguments, DataTrainingArguments, TrainingArguments)\n",
    "#)\n",
    "parser = HfArgumentParser(\n",
    "    (ModelArguments, DataTrainingArguments, TrainingArguments)\n",
    ")\n",
    "\n",
    "model_args, data_args, training_args, unused_args = parser.parse_args_into_dataclasses(\n",
    "    [\"--model_type\", \"t5-3b\",\n",
    "     \"--tokenizer_name\", \"t5-3b\",\n",
    "     \"--task_name\", \"cos_e\", \n",
    "     \"--output_dir\", \"./cos_e_output_t5_large\", \n",
    "     \"--n_shots\", \"10\",\n",
    "     \"--do_train\", \"True\"], return_remaining_strings=True)\n",
    "if unused_args != []:\n",
    "    raise ValueError(f\"Received unused arguments: {unused_args}\")\n",
    "# make sure only one dataset split pick if manually specifying evaluation file\n",
    "\n",
    "if model_args.use_gpt3:\n",
    "    assert training_args.do_train\n",
    "    assert not training_args.do_eval\n",
    "    assert data_args.generations_filepath is None\n",
    "    if data_args.gpt3_max_eval_size is not None:\n",
    "        assert data_args.gpt3_max_eval_size <= data_args.fewshot_eval_size\n",
    "        assert data_args.gpt3_max_eval_size % 2 == 0\n",
    "        assert data_args.gpt3_max_eval_size % 3 == 0\n",
    "\n",
    "if data_args.generations_filepath is not None:\n",
    "    training_args.do_train = False\n",
    "    training_args.do_eval = False\n",
    "    if \"train\" in data_args.generations_filepath:\n",
    "        data_args.train_predict = True\n",
    "        data_args.test_predict = False\n",
    "        data_args.dev_predict = False\n",
    "    elif \"test\" in data_args.generations_filepath:\n",
    "        data_args.train_predict = False\n",
    "        data_args.test_predict = True\n",
    "        data_args.dev_predict = False\n",
    "    elif \"validation\" in data_args.generations_filepath:\n",
    "        data_args.train_predict = False\n",
    "        data_args.test_predict = False\n",
    "        data_args.dev_predict = True\n",
    "\n",
    "if not training_args.do_train and data_args.generations_filepath is None:\n",
    "    if not model_args.pretrained_model_file:\n",
    "        raise Exception(\n",
    "            \"if not training a model from scratch, must specify a trained model to load for evaluation\"\n",
    "        )\n",
    "\n",
    "if training_args.do_train:\n",
    "    # create a save directory and a logfile\n",
    "    training_args.output_dir = os.path.join(\n",
    "        training_args.output_dir, datetime.now().strftime(\"%m%d%y_%H%M%S\")\n",
    "    )\n",
    "    training_args.logging_dir = training_args.output_dir\n",
    "    assert not os.path.exists(training_args.output_dir)\n",
    "    os.makedirs(training_args.output_dir)\n",
    "\n",
    "    if (\n",
    "            os.path.exists(training_args.output_dir)\n",
    "            and os.listdir(training_args.output_dir)\n",
    "            and training_args.do_train\n",
    "            and not training_args.overwrite_output_dir\n",
    "    ):\n",
    "        raise ValueError(\n",
    "            f\"Output directory ({training_args.output_dir}) already exists and is not empty. Use --overwrite_output_dir to overcome.\"\n",
    "        )\n",
    "    handlers = [\n",
    "        logging.FileHandler(os.path.join(training_args.output_dir, \"logger.log\")),\n",
    "        logging.StreamHandler(),\n",
    "    ]\n",
    "else:\n",
    "    # don't overwrite existing logfile or create new directory\n",
    "    training_args.output_dir = model_args.pretrained_model_file\n",
    "    handlers = [logging.StreamHandler()]\n",
    "\n",
    "# Setup logging\n",
    "logging.basicConfig(\n",
    "    format=\"%(asctime)s - %(levelname)s - %(name)s -   %(message)s\",\n",
    "    datefmt=\"%m/%d/%Y %H:%M:%S\",\n",
    "    level=logging.INFO if training_args.local_rank in [-1, 0] else logging.WARN,\n",
    "    handlers=handlers,\n",
    ")\n",
    "logger.warning(\n",
    "    \"Process rank: %s, device: %s, n_gpu: %s, distributed training: %s, 16-bits training: %s\",\n",
    "    training_args.local_rank,\n",
    "    training_args.device,\n",
    "    training_args.n_gpu,\n",
    "    bool(training_args.local_rank != -1),\n",
    "    training_args.fp16,\n",
    ")\n",
    "logger.info(\"Save path: %s\" % training_args.output_dir)\n",
    "\n",
    "# get git hash and branch where deployed\n",
    "repo = git.Repo(search_parent_directories=True)\n",
    "git_hash = repo.head.object.hexsha\n",
    "git_branch = repo.active_branch.name\n",
    "logger.info(\"Git branch: %s\" % git_branch)\n",
    "logger.info(\"Git hash: %s\" % git_hash)\n",
    "\n",
    "model_class = \"t5\"\n",
    "assert data_args.task_name in {\"cos_e\", \"esnli\", \"sbic\", \"sensemaking\", \"ecqa\"}\n",
    "\n",
    "if training_args.do_train:\n",
    "    # write command and args to file\n",
    "    with open(\n",
    "            os.path.join(training_args.output_dir, \"commandline_args.txt\"), \"w\"\n",
    "    ) as f:\n",
    "        f.write(\"Git branch: \" + git_branch + \"\\n\")\n",
    "        f.write(\"Git hash: \" + git_hash + \"\\n\")\n",
    "        f.write(\"Command:\\n\")\n",
    "        f.write(\"\\n\".join(sys.argv[1:]))\n",
    "\n",
    "# Set seed\n",
    "set_seed(training_args.seed)\n",
    "set_other_seeds(training_args.seed)\n",
    "\n",
    "# Load pretrained model and tokenizer\n",
    "#\n",
    "# Distributed training:\n",
    "# The .from_pretrained methods guarantee that only one local process can concurrently\n",
    "# download model & vocab."
   ]
  },
  {
   "cell_type": "code",
   "execution_count": 5,
   "id": "684646b4",
   "metadata": {},
   "outputs": [
    {
     "data": {
      "text/plain": [
       "device(type='cuda', index=0)"
      ]
     },
     "execution_count": 5,
     "metadata": {},
     "output_type": "execute_result"
    }
   ],
   "source": [
    "training_args.set_device = \"cuda:0\"\n",
    "training_args.device"
   ]
  },
  {
   "cell_type": "code",
   "execution_count": 6,
   "id": "18a3172a",
   "metadata": {},
   "outputs": [
    {
     "name": "stderr",
     "output_type": "stream",
     "text": [
      "01/12/2023 23:00:07 - INFO - __main__ -   Loading pretrained tokenizer...\n",
      "loading file https://huggingface.co/t5-base/resolve/main/spiece.model from cache at /home/huangyongfeng/.cache/huggingface/transformers/684a47ca6257e4ca71f0037771464c5b323e945fbc58697d2fad8a7dd1a2f8ba.3b69006860e7b5d0a63ffdddc01ddcd6b7c318a6f4fd793596552c741734c62d\n",
      "loading file https://huggingface.co/t5-base/resolve/main/added_tokens.json from cache at None\n",
      "loading file https://huggingface.co/t5-base/resolve/main/special_tokens_map.json from cache at None\n",
      "loading file https://huggingface.co/t5-base/resolve/main/tokenizer_config.json from cache at None\n",
      "loading file https://huggingface.co/t5-base/resolve/main/tokenizer.json from cache at /home/huangyongfeng/.cache/huggingface/transformers/90de37880b5ff5ac7ab70ff0bd369f207e9b74133fa153c163d14c5bb0116207.8627f1bd5d270a9fd2e5a51c8bec3223896587cc3cfe13edeabb0992ab43c529\n",
      "loading configuration file https://huggingface.co/t5-base/resolve/main/config.json from cache at /home/huangyongfeng/.cache/huggingface/transformers/91e9fe874e06c44883b535d6c950b8b89d6eaa3298d8e7fb3b2c78039e9f8b7b.a085189636e38420df5e7bdf08ad1b86f1fe33c010079ca7f15437ff95f4fe2b\n",
      "Model config T5Config {\n",
      "  \"architectures\": [\n",
      "    \"T5ForConditionalGeneration\"\n",
      "  ],\n",
      "  \"d_ff\": 3072,\n",
      "  \"d_kv\": 64,\n",
      "  \"d_model\": 768,\n",
      "  \"decoder_start_token_id\": 0,\n",
      "  \"dropout_rate\": 0.1,\n",
      "  \"eos_token_id\": 1,\n",
      "  \"feed_forward_proj\": \"relu\",\n",
      "  \"gradient_checkpointing\": false,\n",
      "  \"initializer_factor\": 1.0,\n",
      "  \"is_encoder_decoder\": true,\n",
      "  \"layer_norm_epsilon\": 1e-06,\n",
      "  \"model_type\": \"t5\",\n",
      "  \"n_positions\": 512,\n",
      "  \"num_decoder_layers\": 12,\n",
      "  \"num_heads\": 12,\n",
      "  \"num_layers\": 12,\n",
      "  \"output_past\": true,\n",
      "  \"pad_token_id\": 0,\n",
      "  \"relative_attention_num_buckets\": 32,\n",
      "  \"task_specific_params\": {\n",
      "    \"summarization\": {\n",
      "      \"early_stopping\": true,\n",
      "      \"length_penalty\": 2.0,\n",
      "      \"max_length\": 200,\n",
      "      \"min_length\": 30,\n",
      "      \"no_repeat_ngram_size\": 3,\n",
      "      \"num_beams\": 4,\n",
      "      \"prefix\": \"summarize: \"\n",
      "    },\n",
      "    \"translation_en_to_de\": {\n",
      "      \"early_stopping\": true,\n",
      "      \"max_length\": 300,\n",
      "      \"num_beams\": 4,\n",
      "      \"prefix\": \"translate English to German: \"\n",
      "    },\n",
      "    \"translation_en_to_fr\": {\n",
      "      \"early_stopping\": true,\n",
      "      \"max_length\": 300,\n",
      "      \"num_beams\": 4,\n",
      "      \"prefix\": \"translate English to French: \"\n",
      "    },\n",
      "    \"translation_en_to_ro\": {\n",
      "      \"early_stopping\": true,\n",
      "      \"max_length\": 300,\n",
      "      \"num_beams\": 4,\n",
      "      \"prefix\": \"translate English to Romanian: \"\n",
      "    }\n",
      "  },\n",
      "  \"transformers_version\": \"4.9.2\",\n",
      "  \"use_cache\": true,\n",
      "  \"vocab_size\": 32128\n",
      "}\n",
      "\n",
      "loading configuration file https://huggingface.co/t5-base/resolve/main/config.json from cache at /home/huangyongfeng/.cache/huggingface/transformers/91e9fe874e06c44883b535d6c950b8b89d6eaa3298d8e7fb3b2c78039e9f8b7b.a085189636e38420df5e7bdf08ad1b86f1fe33c010079ca7f15437ff95f4fe2b\n",
      "Model config T5Config {\n",
      "  \"architectures\": [\n",
      "    \"T5ForConditionalGeneration\"\n",
      "  ],\n",
      "  \"d_ff\": 3072,\n",
      "  \"d_kv\": 64,\n",
      "  \"d_model\": 768,\n",
      "  \"decoder_start_token_id\": 0,\n",
      "  \"dropout_rate\": 0.1,\n",
      "  \"eos_token_id\": 1,\n",
      "  \"feed_forward_proj\": \"relu\",\n",
      "  \"gradient_checkpointing\": false,\n",
      "  \"initializer_factor\": 1.0,\n",
      "  \"is_encoder_decoder\": true,\n",
      "  \"layer_norm_epsilon\": 1e-06,\n",
      "  \"model_type\": \"t5\",\n",
      "  \"n_positions\": 512,\n",
      "  \"num_decoder_layers\": 12,\n",
      "  \"num_heads\": 12,\n",
      "  \"num_layers\": 12,\n",
      "  \"output_past\": true,\n",
      "  \"pad_token_id\": 0,\n",
      "  \"relative_attention_num_buckets\": 32,\n",
      "  \"task_specific_params\": {\n",
      "    \"summarization\": {\n",
      "      \"early_stopping\": true,\n",
      "      \"length_penalty\": 2.0,\n",
      "      \"max_length\": 200,\n",
      "      \"min_length\": 30,\n",
      "      \"no_repeat_ngram_size\": 3,\n",
      "      \"num_beams\": 4,\n",
      "      \"prefix\": \"summarize: \"\n",
      "    },\n",
      "    \"translation_en_to_de\": {\n",
      "      \"early_stopping\": true,\n",
      "      \"max_length\": 300,\n",
      "      \"num_beams\": 4,\n",
      "      \"prefix\": \"translate English to German: \"\n",
      "    },\n",
      "    \"translation_en_to_fr\": {\n",
      "      \"early_stopping\": true,\n",
      "      \"max_length\": 300,\n",
      "      \"num_beams\": 4,\n",
      "      \"prefix\": \"translate English to French: \"\n",
      "    },\n",
      "    \"translation_en_to_ro\": {\n",
      "      \"early_stopping\": true,\n",
      "      \"max_length\": 300,\n",
      "      \"num_beams\": 4,\n",
      "      \"prefix\": \"translate English to Romanian: \"\n",
      "    }\n",
      "  },\n",
      "  \"transformers_version\": \"4.9.2\",\n",
      "  \"use_cache\": true,\n",
      "  \"vocab_size\": 32128\n",
      "}\n",
      "\n",
      "loading weights file https://huggingface.co/t5-base/resolve/main/pytorch_model.bin from cache at /home/huangyongfeng/.cache/huggingface/transformers/ab4e948915b067f5cb6e5105f6f85044fd717b133f43240db67899a8fc7b29a2.26934c75adf19ceac3c268b721ba353356b7609c45f5627550326f275a2163b4\n",
      "All model checkpoint weights were used when initializing T5ForConditionalGeneration.\n",
      "\n",
      "All the weights of T5ForConditionalGeneration were initialized from the model checkpoint at t5-base.\n",
      "If your task is similar to the task the model of the checkpoint was trained on, you can already use T5ForConditionalGeneration for predictions without further training.\n"
     ]
    }
   ],
   "source": [
    "import logging\n",
    "logger = logging.getLogger(__name__)\n",
    "CONFIG_MAPPING = {\"t5\": T5Config}\n",
    "MODEL_MAPPING = {\"t5\": T5ForConditionalGeneration}\n",
    "TOKENIZER_MAPPING = {\"t5\": T5Tokenizer}\n",
    "model_class = \"t5\"\n",
    "tokenizer_name = TOKENIZER_MAPPING[model_class]\n",
    "logger.info(\"Loading pretrained tokenizer...\")\n",
    "model_args.tokenizer_name='t5-base'\n",
    "tokenizer = tokenizer_name.from_pretrained(model_args.tokenizer_name)#, cache_dir=model_args.cache_dir)\n",
    "\n",
    "model = T5ForConditionalGeneration.from_pretrained(\"t5-base\")"
   ]
  },
  {
   "cell_type": "code",
   "execution_count": 7,
   "id": "62eef1a8",
   "metadata": {},
   "outputs": [
    {
     "data": {
      "text/plain": [
       "DataTrainingArguments(task_name='cos_e', early_stopping_patience=10, overwrite_cache=False, train_predict=False, test_predict=False, dev_predict=False, version_name='v1.11', generations_filepath=None, n_shots=10, fewshot_eval_size=350, io_format='t5_fewshot_infilling_without_choices_use_refined_expl', explanation_sep='explanation', data_path=None, gpt3_max_eval_size=None)"
      ]
     },
     "execution_count": 7,
     "metadata": {},
     "output_type": "execute_result"
    }
   ],
   "source": [
    "data_splits = {'train': None, 'validation': None, 'test': None}\n",
    "original_data_splits = {'train': None, 'validation': None, 'test': None}  \n",
    "data_args.io_format=\"t5_fewshot_infilling_without_choices_use_refined_expl\"\n",
    "data_args"
   ]
  },
  {
   "cell_type": "code",
   "execution_count": 8,
   "id": "efc49c0c",
   "metadata": {},
   "outputs": [
    {
     "data": {
      "application/json": {
       "ascii": false,
       "bar_format": null,
       "colour": null,
       "elapsed": 0.023522377014160156,
       "initial": 0,
       "n": 0,
       "ncols": null,
       "nrows": 60,
       "postfix": null,
       "prefix": "",
       "rate": null,
       "total": 2,
       "unit": "it",
       "unit_divisor": 1000,
       "unit_scale": false
      },
      "application/vnd.jupyter.widget-view+json": {
       "model_id": "54c357c6afc04654b58d6dd2ec8f25a8",
       "version_major": 2,
       "version_minor": 0
      },
      "text/plain": [
       "  0%|          | 0/2 [00:00<?, ?it/s]"
      ]
     },
     "metadata": {},
     "output_type": "display_data"
    },
    {
     "data": {
      "text/plain": [
       "dict_keys(['id', 'choices', 'abstractive_explanation', 'answer', 'question', 'extractive_explanation'])"
      ]
     },
     "execution_count": 8,
     "metadata": {},
     "output_type": "execute_result"
    }
   ],
   "source": [
    "dataset = datasets.load_dataset(data_args.task_name, data_args.version_name)\n",
    "train_ids_list=[x['id'] for x in dataset[\"train\"]]\n",
    "dataset['train'][0].keys()"
   ]
  },
  {
   "cell_type": "code",
   "execution_count": 9,
   "id": "294780bc",
   "metadata": {},
   "outputs": [
    {
     "data": {
      "application/json": {
       "ascii": false,
       "bar_format": null,
       "colour": null,
       "elapsed": 0.0659332275390625,
       "initial": 0,
       "n": 0,
       "ncols": null,
       "nrows": 60,
       "postfix": null,
       "prefix": "",
       "rate": null,
       "total": 1,
       "unit": "it",
       "unit_divisor": 1000,
       "unit_scale": false
      },
      "application/vnd.jupyter.widget-view+json": {
       "model_id": "d5b378853a424738ab566cb1aebf5008",
       "version_major": 2,
       "version_minor": 0
      },
      "text/plain": [
       "  0%|          | 0/1 [00:00<?, ?it/s]"
      ]
     },
     "metadata": {},
     "output_type": "display_data"
    },
    {
     "name": "stdout",
     "output_type": "stream",
     "text": [
      "[6723, 3269, 12, 6020, 7815, 0, 13, 7, 3556, 4587, 3166, 2607, 1999, 332, 8571, 2, 3520, 6, 1425, 2361, 3764, 7728, 8352, 1273, 5191, 496, 11, 8143, 6929, 4552, 4652, 7764, 6736, 401, 147, 8339, 3128, 5556, 8769, 4417, 8778, 7145, 1279, 6297, 7149, 5884, 10, 5747, 6273, 8, 9504, 8057, 1307, 2183, 1699, 88, 3228, 7178, 2140, 4048, 1041, 1, 3, 5868, 111, 7889, 5370, 8886, 2137, 6980, 9117, 1891, 7827, 1484, 14, 3668, 7090, 5, 7817, 6213, 4656, 5074, 7514, 5896, 4, 9, 7991, 58, 1887, 1598, 3994, 2212, 2274, 6830, 8826, 1604, 9008, 2013, 6521, 4793, 4338, 3923, 8091, 4904, 3938, 3900, 8156, 5806, 8363, 1787, 1496, 5753, 6351, 1104, 1222]\n"
     ]
    },
    {
     "data": {
      "text/plain": [
       "115"
      ]
     },
     "execution_count": 9,
     "metadata": {},
     "output_type": "execute_result"
    }
   ],
   "source": [
    "#rationale generation labeled data construction 115\n",
    "import pandas as pd\n",
    "scr_csqa_labeled_path=\"/cognitive_comp/huangyongfeng/evaluate_LM_with_rationalization/few_shot_explanations/data/handwritten_cose_v1.11_examples.csv\"\n",
    "scr_csqa_label_df=pd.read_csv(scr_csqa_labeled_path)\n",
    "scr_csqa_label_data=datasets.load_dataset('csv', data_files=scr_csqa_labeled_path)\n",
    "scr_csqa_label_ids_list=[x['id'] for x in scr_csqa_label_data['train']]\n",
    "scr_csqa_indexs_list=[train_ids_list.index(id_) for id_ in scr_csqa_label_ids_list]\n",
    "scr_csqa_label_our_explanations_list=[x['our_explanation'] for x in scr_csqa_label_data['train']]\n",
    "print(scr_csqa_indexs_list)\n",
    "data_splits={}\n",
    "data_splits['train']=dataset['train'].select(scr_csqa_indexs_list)\n",
    "\n",
    "refine_train_data=[]\n",
    "for kk, (ex,da) in enumerate(zip(scr_csqa_label_our_explanations_list, data_splits['train'])):\n",
    "#     print(da)\n",
    "    data_splits['train'][kk]['our_explanation']=ex\n",
    "    #print(type(data_splits['train'][kk]),data_splits['train'][kk].keys())\n",
    "    da['our_explanation']=ex\n",
    "    refine_train_data.append(da)\n",
    "\n",
    "len(data_splits['train'])"
   ]
  },
  {
   "cell_type": "code",
   "execution_count": 10,
   "id": "1d97f507",
   "metadata": {},
   "outputs": [
    {
     "data": {
      "application/json": {
       "ascii": false,
       "bar_format": null,
       "colour": null,
       "elapsed": 0.01896524429321289,
       "initial": 0,
       "n": 0,
       "ncols": null,
       "nrows": 60,
       "postfix": null,
       "prefix": "",
       "rate": null,
       "total": 1,
       "unit": "it",
       "unit_divisor": 1000,
       "unit_scale": false
      },
      "application/vnd.jupyter.widget-view+json": {
       "model_id": "b6fc3ecd3fa54e4eab5574ebdd0811de",
       "version_major": 2,
       "version_minor": 0
      },
      "text/plain": [
       "  0%|          | 0/1 [00:00<?, ?it/s]"
      ]
     },
     "metadata": {},
     "output_type": "display_data"
    },
    {
     "data": {
      "text/plain": [
       "{'id': '5b8a3081c3235d62bc77e2d15f3ad454',\n",
       " 'question': 'A town between two mountains is located in a what?',\n",
       " 'choices': ['valley', 'hospital', 'state', 'train station', 'michigan'],\n",
       " 'answer': 'valley',\n",
       " 'abstractive_explanation': 'valleys are always between two mountains',\n",
       " 'extractive_explanation': 'A town between two mountains',\n",
       " 'our_explanation': 'A valley is usually between two mountains, where it is located in the place where the mountains are closest to each other.'}"
      ]
     },
     "execution_count": 10,
     "metadata": {},
     "output_type": "execute_result"
    }
   ],
   "source": [
    "#rationale unlabeled data construction 991\n",
    "import pdb\n",
    "scr_csqa_unlabeled_test_file=\"/cognitive_comp/huangyongfeng/evaluate_LM_with_rationalization/few_shot_explanations/data/acceptability_annotations/commonsenseqa_test.csv\"\n",
    "fse_csqa_dev_dataset = datasets.load_dataset('csv', data_files=scr_csqa_unlabeled_test_file)\n",
    "scr_csqa_unlabeled_test_df=pd.read_csv(scr_csqa_unlabeled_test_file)\n",
    "fse_csqa_dev_data_dict={}\n",
    "for kk, da in enumerate(fse_csqa_dev_dataset['train']):\n",
    "    #pdb.set_trace()\n",
    "    id_=da['Input.id']\n",
    "    if da['Answer.acceptable']:\n",
    "        answer_accept=set(da['Answer.acceptable'].split('|'))\n",
    "    else:\n",
    "        answer_accept=set()\n",
    "    explanation_list=[da['Input.explanation_1'], \n",
    "                      da['Input.explanation_2'],\n",
    "                      da['Input.explanation_3'],\n",
    "                      da['Input.explanation_4'],\n",
    "                      da['Input.explanation_5']]\n",
    "    if id_ not in fse_csqa_dev_data_dict.keys():\n",
    "        fse_csqa_dev_data_dict[id_]={\"index\":kk,\"id\":id_,\n",
    "                                     \"question\":da[\"Input.question\"],\n",
    "                                     'answer':da['Input.gold_label'],\n",
    "                                     \"accept_set_list\":[answer_accept],\n",
    "                                     \"explanation_list\":explanation_list}\n",
    "        #[[kk, id_, answer_accept, explanation_list]]\n",
    "    else:\n",
    "        fse_csqa_dev_data_dict[id_][\"accept_set_list\"].append(answer_accept)\n",
    "    if len(fse_csqa_dev_data_dict[id_][\"accept_set_list\"])==3:\n",
    "        fse_csqa_dev_data_dict[id_][\"common_expl_list\"]=[]\n",
    "        common_accept_expl_sample=set.intersection(fse_csqa_dev_data_dict[id_][\"accept_set_list\"][0], \n",
    "                                                   fse_csqa_dev_data_dict[id_][\"accept_set_list\"][1], \n",
    "                                                   fse_csqa_dev_data_dict[id_][\"accept_set_list\"][2])\n",
    "        for idx in list(common_accept_expl_sample):\n",
    "            idx=int(idx)-1\n",
    "            fse_csqa_dev_data_dict[id_][\"common_expl_list\"].append(fse_csqa_dev_data_dict[id_][\"explanation_list\"][idx])\n",
    "        \n",
    "#discriminate 3/3 id\n",
    "id_accept_expl_list=[]\n",
    "our_accept_expl_list=[]\n",
    "id_unaccept_expl_list=[]\n",
    "for k,v in fse_csqa_dev_data_dict.items():\n",
    "    accept_set_list=v['accept_set_list']\n",
    "    assert len(accept_set_list)==3\n",
    "    #pdb.set_trace()\n",
    "    common_accept_expl_sample=set.intersection(accept_set_list[0], accept_set_list[1], accept_set_list[2])\n",
    "    #print(accept_set_list,common_accept_expl_sample)\n",
    "    #pdb.set_trace()\n",
    "    if common_accept_expl_sample:\n",
    "        id_accept_expl_list.append(k)\n",
    "        our_expl=\"\"\n",
    "        for idx in list(common_accept_expl_sample):\n",
    "            idx=int(idx)-1\n",
    "            if len(v['explanation_list'][idx]) > len(our_expl):\n",
    "                our_expl = v['explanation_list'][idx]\n",
    "                our_accept_expl_list.append(our_expl)\n",
    "    else:\n",
    "        id_unaccept_expl_list.append(k)\n",
    "\n",
    "dev_ids_list=[x['id'] for x in dataset['validation']]\n",
    "dev_accept_indexs_list=[dev_ids_list.index(id_) for id_ in id_accept_expl_list]\n",
    "dev_unaccpet_indexs_list=[dev_ids_list.index(id_) for id_ in id_unaccept_expl_list]\n",
    "dev_accept_data=dataset['validation'].select(dev_accept_indexs_list)\n",
    "dev_unaccept_data=dataset['validation'].select(dev_unaccpet_indexs_list)\n",
    "\n",
    "\n",
    "\n",
    "new_dev_accept_data=[]\n",
    "new_dev_unaccept_data=[]\n",
    "for oexp, da in zip(our_accept_expl_list,dev_accept_data):\n",
    "    da[\"our_explanation\"]=oexp\n",
    "    new_dev_accept_data.append(da)\n",
    "for da in dev_unaccept_data:\n",
    "    da[\"our_explanation\"]=oexp\n",
    "    new_dev_unaccept_data.append(da)\n",
    "        \n",
    "new_dev_accept_data[0]\n",
    "        "
   ]
  },
  {
   "cell_type": "code",
   "execution_count": 11,
   "id": "ffe13707",
   "metadata": {},
   "outputs": [
    {
     "data": {
      "text/plain": [
       "{'index': 0,\n",
       " 'id': '5b8a3081c3235d62bc77e2d15f3ad454',\n",
       " 'question': 'A town between two mountains is located in a what?',\n",
       " 'answer': 'valley',\n",
       " 'accept_set_list': [{'2', '4', '5'}, {'2', '4', '5'}, {'2', '4', '5'}],\n",
       " 'explanation_list': ['Because all of the mountains are to the left of this town, if one was looking on a map, one would be able to see the town in the valley.',\n",
       "  'A valley is usually between two mountains, where it is located in the place where the mountains are closest to each other.',\n",
       "  'Because rivers end in valleys; assuming the river is the one of interest, this sentence is likely referring to the geographical location of the town.',\n",
       "  'A town in between mountains presumably would be in a valley, in which case it is plausable that it would be surrounded by heights in every direction.',\n",
       "  'A valley is a low area between two mountains.'],\n",
       " 'common_expl_list': ['A valley is usually between two mountains, where it is located in the place where the mountains are closest to each other.',\n",
       "  'A town in between mountains presumably would be in a valley, in which case it is plausable that it would be surrounded by heights in every direction.',\n",
       "  'A valley is a low area between two mountains.']}"
      ]
     },
     "execution_count": 11,
     "metadata": {},
     "output_type": "execute_result"
    }
   ],
   "source": [
    "fse_csqa_dev_data_dict['5b8a3081c3235d62bc77e2d15f3ad454']\n"
   ]
  },
  {
   "cell_type": "code",
   "execution_count": 12,
   "id": "3161874f",
   "metadata": {},
   "outputs": [],
   "source": [
    "# for k,v in fse_csqa_dev_data_dict.items():\n",
    "#     #print(v.keys())\n",
    "#     print(\"******\")\n",
    "#     print(v['question'])\n",
    "#     print(v['answer'])\n",
    "#     print(v['common_expl_list'])\n",
    "#     print(\"******\")    \n",
    "# for k,v in fse_csqa_train_data_dict.items():\n",
    "#     #print(v.keys())\n",
    "#     print(\"******\")\n",
    "#     print(v['question'])\n",
    "#     print(v['answer'])\n",
    "#     print(v['common_expl_list'])\n",
    "#     print(\"******\") \n"
   ]
  },
  {
   "cell_type": "code",
   "execution_count": 13,
   "id": "3e0e8a2d",
   "metadata": {},
   "outputs": [
    {
     "data": {
      "application/json": {
       "ascii": false,
       "bar_format": null,
       "colour": null,
       "elapsed": 0.03822731971740723,
       "initial": 0,
       "n": 0,
       "ncols": null,
       "nrows": 60,
       "postfix": null,
       "prefix": "",
       "rate": null,
       "total": 1,
       "unit": "it",
       "unit_divisor": 1000,
       "unit_scale": false
      },
      "application/vnd.jupyter.widget-view+json": {
       "model_id": "a11b99de7f63464faaa6bccd3c968b1b",
       "version_major": 2,
       "version_minor": 0
      },
      "text/plain": [
       "  0%|          | 0/1 [00:00<?, ?it/s]"
      ]
     },
     "metadata": {},
     "output_type": "display_data"
    },
    {
     "data": {
      "text/plain": [
       "{'id': 'ed53cbea1f21072fab892031b31192d1',\n",
       " 'question': 'Where can you likely buy many poems?',\n",
       " 'choices': ['book of poetry',\n",
       "  'literature book',\n",
       "  'book store',\n",
       "  'poetry book',\n",
       "  'bookshelf'],\n",
       " 'answer': 'book store',\n",
       " 'abstractive_explanation': 'book store book',\n",
       " 'extractive_explanation': 'buy many poems',\n",
       " 'our_explanation': 'A bookstore sells a variety of books, including poetry books; chains of bookstores sometimes specialize in categories such as poetry or literature.'}"
      ]
     },
     "execution_count": 13,
     "metadata": {},
     "output_type": "execute_result"
    }
   ],
   "source": [
    "#rationale unlabeled data construction 991\n",
    "import pdb\n",
    "scr_csqa_unlabeled_train_file=\"/cognitive_comp/huangyongfeng/evaluate_LM_with_rationalization/few_shot_explanations/data/acceptability_annotations/commonsenseqa_train.csv\"\n",
    "fse_csqa_train_dataset = datasets.load_dataset('csv', data_files=scr_csqa_unlabeled_train_file)\n",
    "scr_csqa_unlabeled_train_df=pd.read_csv(scr_csqa_unlabeled_train_file)\n",
    "fse_csqa_train_data_dict={}\n",
    "for kk, da in enumerate(fse_csqa_train_dataset['train']):\n",
    "    #pdb.set_trace()\n",
    "    id_=da['Input.id']\n",
    "    if da['Answer.acceptable']:\n",
    "        answer_accept=set(da['Answer.acceptable'].split('|'))\n",
    "    else:\n",
    "        answer_accept=set()\n",
    "    explanation_list=[da['Input.explanation_1'], \n",
    "                      da['Input.explanation_2'],\n",
    "                      da['Input.explanation_3'],\n",
    "                      da['Input.explanation_4'],\n",
    "                      da['Input.explanation_5']]\n",
    "    if id_ not in fse_csqa_train_data_dict.keys():\n",
    "        fse_csqa_train_data_dict[id_]={\"index\":kk,\"id\":id_,\n",
    "                                     \"question\":da[\"Input.question\"],\n",
    "                                     'answer':da['Input.gold_label'],\n",
    "                                     \"accept_set_list\":[answer_accept],\n",
    "                                     \"explanation_list\":explanation_list}\n",
    "        #[[kk, id_, answer_accept, explanation_list]]\n",
    "    else:\n",
    "        fse_csqa_train_data_dict[id_][\"accept_set_list\"].append(answer_accept)\n",
    "        \n",
    "    if len(fse_csqa_train_data_dict[id_][\"accept_set_list\"])==3:\n",
    "        fse_csqa_train_data_dict[id_][\"common_expl_list\"]=[]\n",
    "        common_accept_expl_sample=set.intersection(fse_csqa_train_data_dict[id_][\"accept_set_list\"][0], \n",
    "                                                   fse_csqa_train_data_dict[id_][\"accept_set_list\"][1], \n",
    "                                                   fse_csqa_train_data_dict[id_][\"accept_set_list\"][2])\n",
    "        for idx in list(common_accept_expl_sample):\n",
    "            idx=int(idx)-1\n",
    "            fse_csqa_train_data_dict[id_][\"common_expl_list\"].append(fse_csqa_train_data_dict[id_][\"explanation_list\"][idx])\n",
    "\n",
    "    \n",
    "#discriminate 3/3 id\n",
    "id_accept_expl_list=[]\n",
    "our_accept_expl_list=[]\n",
    "id_unaccept_expl_list=[]\n",
    "for k,v in fse_csqa_train_data_dict.items():\n",
    "    accept_set_list=v['accept_set_list']\n",
    "    assert len(accept_set_list)==3\n",
    "    #pdb.set_trace()\n",
    "    common_accept_expl_sample=set.intersection(accept_set_list[0], accept_set_list[1], accept_set_list[2])\n",
    "    #print(accept_set_list,common_accept_expl_sample)\n",
    "    #pdb.set_trace()\n",
    "    if common_accept_expl_sample:\n",
    "        id_accept_expl_list.append(k)\n",
    "        our_expl=\"\"\n",
    "        for idx in list(common_accept_expl_sample):\n",
    "            idx=int(idx)-1\n",
    "            if len(v['explanation_list'][idx]) > len(our_expl):\n",
    "                our_expl = v['explanation_list'][idx]\n",
    "                our_accept_expl_list.append(our_expl)\n",
    "    else:\n",
    "        id_unaccept_expl_list.append(k)\n",
    "\n",
    "train_ids_list=[x['id'] for x in dataset['train']]\n",
    "train_accept_indexs_list=[train_ids_list.index(id_) for id_ in id_accept_expl_list]\n",
    "train_unaccpet_indexs_list=[train_ids_list.index(id_) for id_ in id_unaccept_expl_list]\n",
    "train_accept_data=dataset['train'].select(train_accept_indexs_list)\n",
    "train_unaccept_data=dataset['train'].select(train_unaccpet_indexs_list)\n",
    "\n",
    "\n",
    "\n",
    "new_train_accept_data=[]\n",
    "new_train_unaccept_data=[]\n",
    "for oexp, da in zip(our_accept_expl_list,train_accept_data):\n",
    "    da[\"our_explanation\"]=oexp\n",
    "    new_train_accept_data.append(da)\n",
    "for da in train_unaccept_data:\n",
    "    da[\"our_explanation\"]=oexp\n",
    "    new_train_unaccept_data.append(da)\n",
    "        \n",
    "new_train_accept_data[0]"
   ]
  },
  {
   "cell_type": "code",
   "execution_count": 14,
   "id": "595b9453",
   "metadata": {},
   "outputs": [
    {
     "data": {
      "text/plain": [
       "(set(), set())"
      ]
     },
     "execution_count": 14,
     "metadata": {},
     "output_type": "execute_result"
    }
   ],
   "source": [
    "refine_train_data=refine_train_data\n",
    "refine_dev_data=new_train_accept_data + new_dev_accept_data\n",
    "refine_test_data=new_train_unaccept_data + new_dev_unaccept_data\n",
    "\n",
    "refine_train_ids_list=[x['id'] for x in refine_train_data]\n",
    "refine_dev_ids_list=[x['id'] for x in refine_dev_data]\n",
    "refine_test_ids_list=[x['id'] for x in refine_test_data]\n",
    "\n",
    "set(refine_train_ids_list).intersection(set(refine_dev_ids_list)),set(refine_train_ids_list).intersection(set(refine_test_ids_list))\n",
    "\n"
   ]
  },
  {
   "cell_type": "code",
   "execution_count": 15,
   "id": "48e4ec26",
   "metadata": {},
   "outputs": [
    {
     "data": {
      "text/plain": [
       "dict_keys(['id', 'question', 'choices', 'answer', 'abstractive_explanation', 'extractive_explanation', 'our_explanation'])"
      ]
     },
     "execution_count": 15,
     "metadata": {},
     "output_type": "execute_result"
    }
   ],
   "source": [
    "our_data_splits={}\n",
    "our_data_splits['train']=refine_train_data\n",
    "our_data_splits['dev']=refine_dev_data\n",
    "our_data_splits['test']=refine_test_data\n",
    "refine_train_data[0].keys()"
   ]
  },
  {
   "cell_type": "markdown",
   "id": "0fcdf34f",
   "metadata": {},
   "source": [
    "# shots number"
   ]
  },
  {
   "cell_type": "code",
   "execution_count": 16,
   "id": "bd43fe66",
   "metadata": {},
   "outputs": [],
   "source": [
    "id_list = [\n",
    " '71519c19654251cced50c5718fd527c1',\n",
    " '44195d210c81c8c550174d0edbd3ad5d',\n",
    " '5a5da37b685ec9c6f15228128ce30437',\n",
    " 'cabdfc174953b4bdb8bdcc89d6592c74',\n",
    " 'eac3a4080127e8924034651b57dfa289',\n",
    " 'c0013f31657294b9b5ad819123513ca7',\n",
    " '2681697be70cd5425899ed6deb84b18a',\n",
    " '47f60340b869552e795fa6782224f3d2',\n",
    " '7e8a6eac93147eb52d8151bab7b40003',\n",
    " 'f34267f498c8a78383e35057fbcfa2ce',\n",
    " 'f024f923d78e5c0a4c0c4baa3ddccf05',\n",
    " 'e148c710d0c26849cf1f15293481038b',\n",
    " 'bdf437d7498815f36c255f64a8e6571c',\n",
    " '2282e0c80be28aadadb79a822fec9dac',\n",
    " 'bdd05e96876342b4b5999709439a7f4e',\n",
    " '494b8316614fc64c5c27757aeaffce23_1',\n",
    " 'c4494b402264250dc70931613d482295',\n",
    " 'fcfbf207c5586294fdce33b645b613f1',\n",
    " '9c583bcbe68989a644433302545fb31e',\n",
    " '0e684d779d98e6eecda167c10af42bbb',\n",
    " 'ac0462d09b9fddd40c3c77aedf48a870',\n",
    " '1dbfb41e04a10bdbb085bfe667c0df99',\n",
    " 'cd0c0ef3b8ce0eb09ff26823f6059be6',\n",
    " 'e6b67184b99375d05d3f2887f684c684',\n",
    " 'ae9f6f1e17b3fdd3a86b494933809f45',\n",
    " 'f149604169936a30b7e4c8d599d604b5',\n",
    " 'd7c8377953e0175ef57d59f3a8e63a8e',\n",
    " '1837216ac7745121b82a6491b2318c09',\n",
    " 'b5fe238d45e55ca5d802b7823ad390ef',\n",
    " 'b2fbeb0b48bd5e575af0f7dc24cdd85d',\n",
    " '9bdfb101c487ac598f6e4686cf774703',\n",
    " '206c7116ee2246180fcc0c5a1d0e7205',\n",
    " '5cd7f44bbf730dfae5ef2a362d2e5149',\n",
    " '45d0ea781ffd49b07d6eae94d47a8945',\n",
    " '89afdea1d76272fda8e1538a7d3b7a3f',\n",
    " '38a514fe54108527e1d6e89d9812da93',\n",
    " 'ebf347934a3e90ea46d3d87726fb5d25',\n",
    " '90226a6ecd7308ae1e6220a15ae24bc6',\n",
    " '5cae8057e75e3adf5c338a43b3ba97fb',\n",
    " '388a363c49e1b0aca8eaf18ccdde0caf',\n",
    " '9ed3af82152dfcd7000bf4631b095f71',\n",
    " '2d5805d894bba224c5fe91e70b8c0f77',\n",
    " 'd5aa464a16b72c9b9f3091abd461e3ef',\n",
    " '381b11c54be4cc432a95053ca34cbf6b',\n",
    " '807a3a2dabdd50ed0c76052fd2612632',\n",
    " '5172041c750d22e9a5081cc024de0fa6',\n",
    " 'd32a45ab3b751110d0578a78e54c0e64',\n",
    " '28ca5cbe27774746c34f6ebe84fc6d0c']\n",
    "\n",
    "chatGPT_rationales = [\n",
    "    \"A cup is a common vessel used for holding and drinking liquids, such as water, coffee, or tea. When you want to get yourself a drink, you might typically get a cup from a cabinet or other storage area in order to hold the drink. A cup is a convenient and practical choice for getting a drink because it is easy to hold and use, and it can hold a reasonable amount of liquid. There are many different types of cups available, including ceramic, glass, plastic, and metal cups, each with their own unique features and benefits. Whether you are at home, at work, or out in public, a cup is a handy item to have on hand when you need to quench your thirst.\",\n",
    "    \"A front yard is the lawn that is typically located in front of a house, near the street. The front yard is the part of the property that is visible from the street and is often used for decorative purposes, such as landscaping or gardening. Many people take pride in their front yards and may spend time and resources maintaining and improving them. The front yard is often the first thing that visitors see when they arrive at a house, and it can make a strong impression on them. In contrast, the back yard is typically located behind the house and is often used for more practical purposes, such as outdoor recreation or gardening.\",\n",
    "    \"A swimming pool is a recreational water feature that is typically used for swimming and other aquatic activities. While shallow water, such as that found in a kiddie pool or a shallow end of a pool, can be enjoyable for some people, it may not be sufficient for many summer activities. A swimming pool that is deep enough for diving and other activities is more likely to provide more opportunities for summer fun. In addition, a swimming pool that is clean and chlorinated is more likely to be safe and enjoyable for swimming, as it will be free of contaminants and bacteria that can cause illness.\",\n",
    "    \"In most places, it is illegal for people under the age of 21 to purchase or consume alcohol. This is because alcohol can have negative effects on the developing brain and body of young people. It can also contribute to risky behaviors and accidents. Therefore, many governments have set a minimum age for alcohol consumption and purchase to help protect the health and safety of young people. If someone is under the age of 21 and attempts to purchase alcohol, they may be denied the sale or face legal consequences. It is important for young people to understand and adhere to the laws and regulations regarding the purchase and consumption of alcohol in their area.\",\n",
    "    \"When someone shaves, they typically use a razor to remove hair from their face or body. The process of shaving can leave a lot of hair in the sink, as the hair is trimmed off and falls into the sink as it is being shaved. It is common for people to shave in the bathroom, where a sink is typically located. The sink provides a convenient place to rinse the razor and wash off any excess hair or shaving cream. It is important to clean the sink after shaving to remove any hair and prevent clogs in the drain.\",\n",
    "    \"A hamburger is a type of sandwich that consists of a cooked patty of ground meat, typically beef, placed between two slices of bread or a bun. Hamburgers are often served with various toppings, such as lettuce, tomato, onion, cheese, and condiments like ketchup and mustard. However, if someone is suffering from great hunger, they may not care about the toppings and just want to eat the hamburger itself. In this case, the person may be more focused on satisfying their hunger and getting nourishment rather than worrying about additional ingredients or flavors.\",\n",
    "    \"If a person notices popcorn and cotton candy on the grass, they are likely at fairgrounds. Fairgrounds are outdoor areas that are used for hosting fairs and other events, such as carnivals, festivals, and exhibitions. These events often feature food stalls and vendors that sell a variety of treats, including popcorn and cotton candy. Popcorn and cotton candy are both popular carnival foods that are often sold at fairs and other events. The presence of these foods on the ground at fairgrounds suggests that a fair or similar event is taking place there.\",\n",
    "    \"When snow on a mountain becomes heavy, it can trigger an avalanche. An avalanche is a rapid flow of snow down a slope, often triggered by the weight of the snow or external factors such as a change in temperature. Avalanches can be dangerous and destructive, as they can bury and sweep away anything in their path, including people, buildings, and vehicles. Avalanches can occur on any slope with a steep enough incline and a sufficient amount of snow. They are most common on mountains, but they can also occur in other snowy areas, such as forests or valleys. It is important for people to be aware of the risk of avalanches and to take precautions when traveling in areas prone to avalanches.\",\n",
    "    \"A police officer typically reports their work through the use of case reports or incident reports. These reports are written documents that detail the events of a specific case or incident that the officer has worked on. Case reports or incident reports typically include information such as the date and time of the incident, the location, the people involved, and the actions taken by the officer. They may also include witness statements, evidence collected, and any other relevant details. Case reports or incident reports are used by police officers to document their work and provide a record of the incidents they have dealt with. They are also used by supervisors and other authorities to review and evaluate the performance of the officer and the effectiveness of their actions.\",\n",
    "    \"Teachers play many roles in the lives of their students, including mentor, counselor, and role model. However, they get the most out of their job by simply teaching children. Teaching children is the primary responsibility of a teacher, and it is what they are trained and paid to do. Teaching involves imparting knowledge, skills, and values to students, and helping them to develop the skills and habits they need to succeed in life. Teachers have the opportunity to make a positive impact on the lives of their students by providing them with a strong foundation in academic subjects and helping them to become curious, engaged learners. Teachers often derive a great deal of satisfaction from helping their students to achieve their potential and succeed in their studies.\",\n",
    "    \"A person might go to get counseling for a variety of reasons. One reason is to better understand themselves. Counseling can provide a safe and supportive environment for individuals to explore their thoughts, feelings, and behaviors, and to gain insight into why they act and feel the way they do. Counseling can also help a person to identify and work through any underlying issues or challenges that may be causing them distress or hindering their personal growth. Through counseling, a person can learn more about themselves and how to navigate their emotions and relationships more effectively. Counseling can be particularly helpful for individuals who are struggling with mental health issues, relationship problems, or other personal challenges.\",\n",
    "    \"If the kids wanted to cool off, they might go swimming as a way to refresh and beat the heat. Swimming is a fun and enjoyable activity that can provide relief from hot weather and help to cool the body. Swimming can also provide a great workout and has numerous health benefits, such as improving cardiovascular fitness and flexibility. There are many different places where kids can go swimming, such as pools, lakes, rivers, or the ocean. No matter where they go, kids can have fun and cool off while enjoying the water.\",\n",
    "    \"When remembering a tragedy in the past, many people may feel depressed. Depression is a common emotional reaction to experiencing a traumatic or stressful event, such as a tragedy. Depression is a mental health disorder characterized by persistent feelings of sadness, hopelessness, and low energy. It can also cause physical symptoms such as changes in appetite and sleep patterns, fatigue, and difficulty concentrating. Remembering a tragedy can be emotionally difficult and may trigger feelings of sadness, grief, and guilt. It is important for people who are struggling with depression to seek support and treatment to help manage their symptoms and improve their mental health.\",\n",
    "    \"Death Valley is a national park located in the Mojave Desert, in the state of California, United States. It is situated on the North American continent. The North American continent is one of the seven continents of the world and is located in the western hemisphere. It is the third largest continent in terms of land area, after Asia and Africa, and is home to a diverse range of cultures, languages, and environments. Death Valley is known for its extreme desert climate and is the lowest, hottest, and driest place in North America. It is a popular destination for tourists, who come to see its unique geological features, such as sand dunes, salt flats, and canyons.\",\n",
    "    \"When in a serious relationship, understanding better requires effort. Relationships require effort and work to maintain and grow. In order to understand your partner better, you need to be willing to put in the time and effort to communicate with them, listen to their perspectives, and try to see things from their point of view. This may involve asking questions, expressing your own feelings and needs, and being open to feedback and compromise. Understanding your partner better can help to strengthen the bond between you and improve the quality of your relationship. It is important to remember that relationships are dynamic and evolving, and that ongoing communication and effort are necessary to maintain a healthy and fulfilling relationship.\",\n",
    "    \"Cats are able to make a variety of vocalizations, including meows, purrs, and growls, as a way of communicating with humans and other animals. Cats use these vocalizations to convey a range of emotions and needs, such as hunger, happiness, or discomfort. Meowing is a common vocalization that cats use to communicate with humans. Cats may meow when they want attention, food, or to be let outside. Cats may also meow when they are feeling anxious or stressed. Although cats cannot talk in the same way that humans do, they are skilled at using their voices to communicate with their owners and other animals.\",\n",
    "    \"If you need a vessel that is similar to a battleship but faster, you might consider using a corvette. A corvette is a small, fast warship that is typically used for convoy escort, patrol, and other shallow water duties. Corvettes are generally smaller and less heavily armed than battleships, but they are more agile and have a higher speed. They are typically equipped with a variety of weapons, including guns, missiles, and torpedoes, and are used for defending against enemy ships and aircraft. Corvettes are often used for coastal defense, as well as for patrolling and enforcing maritime laws. They are capable of operating in a variety of environments, including open ocean and littoral (nearshore) waters.\",\n",
    "    \"Water in the sky comes from rain clouds. Rain clouds are clouds that form when moist air rises and cools, forming tiny water droplets that condense around particles in the air. As the droplets grow, they eventually become heavy enough to fall from the cloud as rain. Rain clouds are typically gray or white in color and are often accompanied by other types of clouds, such as cumulus or stratocumulus clouds. Rain clouds can form in a variety of ways, such as when warm, moist air from the ground rises and cools, or when moist air from the ocean is carried inland by the wind. Rain clouds can be found in many parts of the world and are a common source of precipitation, especially during the warmer months.\",\n",
    "    \"If John rented a hotel room while on a business trip and it was a company-sponsored event, it is possible that the hotel was a resort. Resorts are hotels or vacation properties that offer a variety of amenities and activities for guests, such as swimming pools, golf courses, spas, and restaurants. They are often located in scenic or recreational areas and are designed to provide a relaxing and enjoyable experience for guests. Many resorts offer conference and meeting facilities and are popular destinations for business events and retreats. If John's company sponsored the business trip and provided the hotel accommodations, it is likely that they chose a resort with the amenities and facilities needed to support the event.\",\n",
    "    \"An expressway might leave the United States and go to Canada. The United States and Canada are neighboring countries that share a border, and there are several expressways that cross the border between the two countries. Expressways are high-speed, limited-access roads that are designed for fast and efficient travel. They typically have multiple lanes and may include features such as grade separations, interchanges, and controlled access points. Expressways are used for long-distance travel and are often the main routes connecting major cities and regions. If an expressway leaves the United States, it is likely that it is heading towards Canada, which is located to the north of the United States.\",\n",
    "    \"If you were walking on a sidewalk near a small corner shop run by John, you would look for it on the street corner. A corner shop is a small retail store that is typically located at the intersection of two streets. It is often a convenience store or a neighborhood shop that sells a variety of goods, such as groceries, household items, and other supplies. Corner shops are often located in busy urban areas, where they are easily accessible to pedestrians and motorists. If you were walking on a sidewalk near a corner shop, you would look for it at the intersection of the street where you are walking and another street. The shop is likely to be located in a building on the corner, with windows and doors facing the street.\",\n",
    "    \"One way that a company can efficiently sell things to their customers is through mail order. Mail order is a method of selling goods or services by advertising them in a catalog or other publication and allowing customers to place orders by mail, telephone, or online. Mail order is a convenient and efficient way for companies to reach a wide customer base, as it allows them to sell products to customers who may not be located near their physical store or who may not have the time or inclination to shop in person. Mail order companies typically have a centralized warehouse or distribution center where orders are processed and shipped to customers. They may also offer options such as easy returns and exchanges, as well as customer service support to assist with any questions or issues that customers may have.\",\n",
    "    \"If he enjoyed the factory work and liked the idea that he did it for sale, it is likely that he enjoyed producing goods. Factory work typically involves the production of goods, such as products or materials, using machines, tools, and other equipment. Factory workers are responsible for operating and maintaining the equipment and ensuring that the goods being produced meet quality standards. The goods produced in a factory may be sold directly to consumers or to other businesses, and may be used for a variety of purposes, such as manufacturing, construction, or distribution. If a person enjoys factory work, they may find satisfaction in the idea that they are contributing to the production of goods that will be sold and used by others.\",\n",
    "    \"If returning to work was easy for Dan after his treatment and he was completely painless, it is likely that he had undergone some form of medical treatment or therapy to address a health issue or injury. Painless indicates that Dan was no longer experiencing pain or discomfort, which may have been a result of the treatment or therapy he received. It is not clear from the information provided what specific health issue or injury Dan was dealing with, or what treatment or therapy he received. However, it is possible that Dan was able to return to work more easily after his treatment because he was feeling better and was no longer experiencing any pain or discomfort.\",\n",
    "    \"If index cards were on display at the museum, it is likely that the museum was a library. Libraries are institutions that provide access to a wide range of resources, including books, periodicals, and other printed materials, as well as digital resources such as e-books, databases, and online research tools. Libraries often have exhibits and displays of various types of materials, including rare or unique items, and may have special collections or archives that are of particular interest to researchers or historians. Index cards are small, rectangular pieces of paper that are used for organizing information, such as names, dates, or research notes. They may be used in a variety of settings, including libraries, offices, and schools. If index cards were on display at the museum, it is possible that they were part of a historical exhibit or collection related to the history of libraries or research.\",\n",
    "    \"If she was a human in America who wanted to live well, it is likely that the given for her situation was the need for money. In general, money is an important factor in enabling people to live well and meet their basic needs and desires. Money allows people to purchase the goods and services that they need to sustain themselves and their families, such as food, clothing, housing, and healthcare. It also enables people to pursue their interests and hobbies, travel, and engage in various forms of leisure and entertainment. In America, and in many other countries around the world, the cost of living can be high, and people often need to earn and save money in order to achieve a desired standard of living. As such, the need for money is a given for many people in order to live well.\",\n",
    "    \"A place that could have one back garden is a house. A garden is a piece of land that is used for growing plants, flowers, vegetables, or other types of vegetation. Gardens can be found in a variety of settings, including residential properties, public parks, and commercial properties. A house is a building that is used as a dwelling for one or more people, and it typically includes living spaces, such as bedrooms, bathrooms, and a kitchen, as well as outdoor areas, such as a front yard, side yard, and back yard. A back yard is a private outdoor space that is typically located behind a house and is often used for recreational or leisure activities, such as gardening, grilling, or playing games. If a house has a back garden, it is likely that the garden is located in the back yard.\",\n",
    "    \"People gather at a football stadium to see large men in pads play a game where they run and smash into each other. Football is a popular sport that is played on a rectangular field by two teams of eleven players. The game involves running, passing, and tackling, and players wear pads and other protective gear to reduce the risk of injury. Football is a physical and intense sport, and players often collide with each other at high speeds. Football stadiums are large, open-air facilities that are designed to host football games and other sporting events. They typically have a grass or artificial turf field, seating for spectators, and a variety of amenities, such as concessions stands, restrooms, and VIP areas. Football stadiums are popular places for people to gather and watch football games, and they can be found in cities and towns throughout the world.\",\n",
    "    \"One place where someone can get a flute is a musical instrument store. A musical instrument store is a retail establishment that specializes in selling musical instruments and related accessories. They may carry a wide range of instruments, including brass instruments, woodwind instruments, string instruments, percussion instruments, and keyboards. Flutes are woodwind instruments that are played by blowing air into a narrow opening and producing sound by vibrating the lips against a metal or wooden reed. They are popular instruments that are used in a variety of musical styles, including classical, jazz, and folk music. If someone is looking to purchase a flute, they may be able to find a selection of flutes at a musical instrument store. In addition to flutes, musical instrument stores may also offer a variety of other instruments, as well as sheet music, instructional materials, and accessories such as cases, stands, and cleaning supplies.\",\n",
    "    \"It is not clear what someone who has a greed for energy would do. The word greed typically refers to an excessive or insatiable desire for wealth, power, or material possessions. It is not clear how this concept would relate to energy or how it might influence someone's actions. It is possible that someone who has a lot of energy or who is very active might have a high appetite for food and might seek out sources of fuel or nutrition to sustain their energy levels. In this case, they might buy food as a way to obtain the energy they need. However, it is not accurate to say that someone who has a greed for energy would necessarily do this. It is important to note that the concept of greed is generally considered to be negative, as it suggests an unhealthy or unsustainable desire for something.\",\n",
    "    \"A forklift is a type of industrial vehicle that is used for moving and lifting heavy loads, such as pallets, crates, and boxes. Forklifts are equipped with a hydraulic lift mechanism and a set of prongs or forks that can be used to lift and transport loads. They are commonly used in warehouses and other distribution centers to move and stack materials, such as boxes, onto shelves or other storage areas. If you were using a forklift to stack boxes onto shelves, it is likely that you were in a warehouse or a similar facility. Warehouses are large, commercial buildings that are used for storing and distributing goods. They often have high ceilings, wide aisles, and multiple levels, and they may be equipped with a variety of material handling equipment, such as forklifts, conveyor belts, and cranes, to facilitate the movement and storage of goods.\",\n",
    "    \"You are likely to receive mouthwash in a little paper cup at a dentist's office. Dentist's offices are healthcare facilities that are staffed by dentists and other dental professionals, and they are used for the diagnosis and treatment of dental problems and the maintenance of oral health. One common practice at a dentist's office is to rinse the mouth with mouthwash, which is a liquid that is used to freshen breath, kill bacteria, and reduce the risk of gum disease and other oral health issues. Mouthwash is typically used after brushing and flossing to help remove any remaining food particles or plaque from the mouth. It may be dispensed in a little paper cup, which can be used to rinse the mouth and then disposed of after use.\",\n",
    "    \"A doctor's office can help you with an illness. A doctor's office is a healthcare facility that is staffed by medical doctors and other healthcare professionals, and it is used for the diagnosis and treatment of medical conditions and the maintenance of overall health. If you are experiencing an illness, such as a cold, flu, or more serious health issue, you may visit a doctor's office to seek medical care and treatment. At a doctor's office, you may receive a physical examination, diagnostic tests, and other forms of medical treatment, depending on the nature of your illness and your specific needs. Doctors are trained to diagnose and treat a wide range of medical conditions, and they can provide you with the care and support you need to recover from your illness and get back to good health.\",\n",
    "    \"A bug looking for wildflowers and no human interruption might go to a meadow. A meadow is a grassland area that is characterized by its open, grassy landscape and the presence of wildflowers and other types of vegetation. Meadows can be found in a variety of settings, including rural areas, forests, and parkland, and they are often home to a variety of animal and plant species. Because meadows are relatively undisturbed by human activity, they can be a good place for a bug to find wildflowers and other types of plants without interference from humans. Meadows are often considered to be peaceful, serene places, and they may be attractive to a bug that is seeking a quiet, natural environment in which to explore and forage.\",\n",
    "    \"If a bride and groom are taking care of proposals, the likely ceremony is a marriage. A marriage is a formal union between two people that is recognized by law and typically involves a public ceremony and the exchange of vows. A marriage proposal is a request for someone to marry another person, and it is typically made by one partner to the other. The process of planning a marriage often involves taking care of a variety of details and arrangements, such as choosing a venue, selecting a date, inviting guests, and organizing the ceremony and reception. If a bride and groom are taking care of proposals, it is likely that they are in the process of planning their marriage and preparing for the wedding ceremony.\",\n",
    "    \"You could put some olives in a jar to prevent them from getting nearby food wet. A jar is a container that is typically made of glass or ceramic and has a wide mouth and a secure, tight-fitting lid. Jars are often used for storing food items, such as olives, pickles, jams, and other types of preserved or dried goods. Because they have a sealed lid, jars can help to keep food fresh and prevent it from coming into contact with air or other substances that might spoil or contaminate it. If you want to prevent olives from getting nearby food wet, you could put them in a jar and close the lid to create an airtight seal. This would help to keep the olives separate from other foods and prevent them from coming into contact with moisture or other liquids.\",\n",
    "    \"If the graveyard was zoned by the pastor, it is likely that it was located on church property. Church property refers to land or buildings that are owned by a church or religious organization. This may include the main church building, as well as other structures such as a rectory, school, or community center. Church property may also include a graveyard or cemetery, which is a place where people are buried after they die. Pastors, who are ordained leaders in a church, often play a central role in the management and oversight of church property, and they may be responsible for zoning or designating areas within the property for specific purposes, such as a graveyard or a garden. If the pastor has zoned the graveyard, it is likely that it is located on church property and is being used as a place for burial by members of the church or community.\",\n",
    "    \"If a family wanted to live with carpeting, they may have ended up putting it in their houses. Houses are structures that are designed and built to be used as homes, and they typically have a number of rooms that are used for different purposes, such as sleeping, cooking, eating, and relaxing. Carpeting is a type of floor covering that is made of soft, flexible materials, such as wool, nylon, or polypropylene, and it is often used in houses to provide warmth, comfort, and insulation. If a family wanted to live with carpeting, they may have chosen to install carpeting in some or all of the rooms in their houses, in order to create a warm and cozy atmosphere and to improve the overall comfort and livability of their homes.\",\n",
    "    \"If a boss likes an employee's ambition, the employee may be put in charge of a project. A project is a specific task or set of tasks that is undertaken in order to achieve a specific goal or objective. Projects may be large or small, complex or simple, and they may involve a wide range of activities, such as research, design, development, testing, and implementation. If an employee is ambitious and demonstrates a strong desire to succeed and make a positive contribution to their organization, their boss may choose to put them in charge of a project, in order to give them the opportunity to demonstrate their skills and abilities and to take on more responsibility. Being put in charge of a project can be a challenging and rewarding experience, and it may provide an employee with the chance to learn new things, develop their skills, and make a meaningful contribution to their organization.\",\n",
    "    \"A county highway can be viewed as a line on a map. A map is a graphic representation of an area or region that shows the locations of various features, such as roads, rivers, mountains, and cities. Maps are often used to help people navigate and find their way around unfamiliar places, and they can be very useful for understanding the layout and geography of an area. County highways are roads that are maintained and operated by a county or local government, and they are typically used for local travel and transportation within a county or region. On a map, a county highway may be represented as a line, with a specific color or symbol used to indicate its location and route. By viewing a county highway as a line on a map, it is possible to get a sense of the route and layout of the road, and to use the map to plan a journey or navigate to a specific destination.\",\n",
    "    \"After going for a run, someone may feel tired. Running is a form of physical activity that involves moving quickly and continuously on foot, typically by running or jogging. It is a popular form of exercise that can help to improve cardiovascular fitness, build endurance, and strengthen the muscles of the legs and lower body. However, running can also be physically demanding, and it requires a certain level of fitness and stamina to be able to sustain the activity for an extended period of time. As a result, it is common for people to feel tired after going for a run, especially if they are not used to the activity or if they have pushed themselves to run for a longer distance or at a faster pace than usual. Tiredness after a run may be accompanied by other physical sensations, such as muscle fatigue, thirst, or a sense of accomplishment.\",\n",
    "    \"If a car was going from Florida to Ohio, it was heading north. Florida is a state in the southeastern region of the United States, and Ohio is a state in the midwestern region of the country. When traveling from Florida to Ohio, a person would need to go north in order to reach their destination. North is a direction that is opposite to south on a map or compass, and it is typically associated with higher latitude, colder climates, and longer nights. When traveling north, a person may encounter different landscapes, weather patterns, and cultural experiences than they would when traveling south, depending on the specific route and the distance traveled. By heading north from Florida to Ohio, a person would be leaving behind the warm, tropical climate of Florida and entering into a more temperate, mid-latitude region with cooler temperatures and a more diverse range of landscapes and ecosystems.\",\n",
    "    \"During a typical week, a teacher is likely to spend most of their time working in school. A teacher is a person who is trained and qualified to teach students in a school or educational setting, and their primary job is to provide instruction and guidance to help students learn and develop their skills and knowledge. Teachers may work in a variety of settings, including primary schools, secondary schools, and universities, and they may teach a wide range of subjects, including math, science, English, history, and the arts. In order to fulfill their duties as a teacher, a person is likely to spend most of their time working in a school or educational setting, where they will be responsible for preparing and delivering lessons, grading assignments, communicating with students and parents, and performing other tasks related to their job. Teachers typically work on a schedule that follows the school year, and they may work full-time or part-time, depending on their specific circumstances and the needs of their students.\",\n",
    "    \"In a predicament, an animal might choose to fight for its life as an alternative to fleeing. Predicament is a term that refers to a difficult or challenging situation, typically one that involves a choice or decision that needs to be made. When an animal finds itself in a predicament, it may have to decide how to respond in order to survive and protect itself. One option that an animal may have is to flee or run away from the situation in an effort to escape danger or avoid conflict. Another option that an animal may have is to fight for its life, using whatever means are available to defend itself and protect its survival. The choice that an animal makes in a predicament will depend on a variety of factors, including the specific nature of the situation, the animal's size, strength, and abilities, and the resources and options that are available to it.\",\n",
    "    \"It is not common for people to fight each other when they find a good deal. A good deal is typically defined as an opportunity to purchase something at a price that is lower than what it is usually worth, or to obtain a product or service that provides more value or benefits than what is expected. When people find a good deal, they may feel excited or pleased about the opportunity to save money or get more for their money, and they may take action to take advantage of the deal. However, it is generally not considered acceptable or appropriate for people to fight each other over a good deal or to engage in physical violence or aggression in order to obtain it. There are many other ways that people can express their interest in a good deal, such as by negotiating with the seller, making an offer, or simply making a purchase if the price is acceptable.\",\n",
    "    \"An altar is a platform or structure that is used for religious ceremonies, rituals, or worship. Altars are often found in places of worship, such as temples, churches, synagogues, mosques, and other religious buildings. When a person is standing in front of an altar, they are likely to be in a temple or other place of worship. Altars can be used for a variety of purposes in different religions and spiritual traditions, such as offering sacrifices, making offerings, praying, or performing other religious practices. They may be decorated with symbols, images, or other items that are significant to the religion or spiritual tradition that is being practiced. Altars may also be used as a place for people to meditate, reflect, or seek spiritual guidance.\",\n",
    "    \"Joe bought a bunch of grapes because he likes to use them to top his desserts. A dessert is a type of food that is typically served at the end of a meal, and it is usually sweet or rich in flavor. There are many different types of desserts that people enjoy, including cakes, cookies, ice cream, pie, and other sweet treats. One way that people may use grapes as a topping for their desserts is by placing them on top of a fruit pie, tart, or crisp. Grapes can add flavor and texture to a dessert, and they may also be used to decorate a dessert or to add visual appeal. Grapes are a versatile fruit that can be used in many different types of desserts, and they can be eaten fresh, frozen, or preserved in various ways.\",\n",
    "    \"Well water is water that is obtained from underground sources, typically through the use of a well. A well is a hole or shaft that is dug into the ground in order to access water that is contained in underground aquifers or other water-bearing formations. Well water is typically used for drinking, irrigation, and other purposes, and it is often considered to be of high quality because it is filtered and purified naturally as it flows through the ground. To obtain well water, a person can dig a well or have one dug by a professional well driller. The depth of the well will depend on the location and the geology of the area, and a pump or other mechanical system may be used to bring the water to the surface.\",\n",
    "]"
   ]
  },
  {
   "cell_type": "code",
   "execution_count": 17,
   "id": "013e06f0",
   "metadata": {},
   "outputs": [
    {
     "name": "stdout",
     "output_type": "stream",
     "text": [
      "dict_keys(['stem', 'no_more_50_words', 'id', '100_to_150_words'])\n",
      "dict_keys(['stem', 'no_more_50_words', 'id', '100_to_150_words'])\n",
      "dict_keys(['stem', 'no_more_50_words', 'id', '100_to_150_words'])\n",
      "dict_keys(['stem', 'no_more_50_words', 'id', '100_to_150_words'])\n",
      "dict_keys(['stem', 'no_more_50_words', 'id', '100_to_150_words'])\n",
      "dict_keys(['stem', 'no_more_50_words', 'id', '100_to_150_words'])\n",
      "dict_keys(['stem', 'no_more_50_words', 'id', '100_to_150_words'])\n",
      "dict_keys(['stem', 'no_more_50_words', 'id', '100_to_150_words'])\n",
      "dict_keys(['stem', 'no_more_50_words', 'id', '100_to_150_words'])\n",
      "dict_keys(['stem', 'no_more_50_words', 'id', '100_to_150_words'])\n",
      "dict_keys(['stem', 'no_more_50_words', 'id', '100_to_150_words'])\n",
      "dict_keys(['stem', 'no_more_50_words', 'id', '100_to_150_words'])\n",
      "dict_keys(['stem', 'no_more_50_words', 'id', '100_to_150_words'])\n",
      "dict_keys(['stem', 'no_more_50_words', 'id', '100_to_150_words'])\n",
      "dict_keys(['stem', 'no_more_50_words', 'id', '100_to_150_words'])\n",
      "dict_keys(['stem', 'no_more_50_words', 'id', '100_to_150_words'])\n",
      "dict_keys(['stem', 'no_more_50_words', 'id', '100_to_150_words'])\n",
      "dict_keys(['stem', 'no_more_50_words', 'id', '100_to_150_words'])\n",
      "dict_keys(['stem', 'no_more_50_words', 'id', '100_to_150_words'])\n",
      "dict_keys(['stem', 'no_more_50_words', 'id', '100_to_150_words'])\n",
      "dict_keys(['stem', 'no_more_50_words', 'id', '100_to_150_words'])\n",
      "dict_keys(['stem', 'no_more_50_words', 'id', '100_to_150_words'])\n",
      "dict_keys(['stem', 'no_more_50_words', 'id', '100_to_150_words'])\n",
      "dict_keys(['stem', 'no_more_50_words', 'id', '100_to_150_words'])\n",
      "dict_keys(['stem', 'no_more_50_words', 'id', '100_to_150_words'])\n",
      "dict_keys(['stem', 'no_more_50_words', 'id', '100_to_150_words'])\n",
      "dict_keys(['stem', 'no_more_50_words', 'id', '100_to_150_words'])\n",
      "dict_keys(['stem', 'no_more_50_words', 'id', '100_to_150_words'])\n",
      "dict_keys(['stem', 'no_more_50_words', 'id', '100_to_150_words'])\n",
      "dict_keys(['stem', 'no_more_50_words', 'id', '100_to_150_words'])\n",
      "dict_keys(['stem', 'no_more_50_words', 'id', '100_to_150_words'])\n",
      "dict_keys(['stem', 'no_more_50_words', 'id', '100_to_150_words'])\n",
      "dict_keys(['stem', 'no_more_50_words', 'id', '100_to_150_words'])\n",
      "dict_keys(['stem', 'no_more_50_words', 'id', '100_to_150_words'])\n",
      "dict_keys(['stem', 'no_more_50_words', 'id', '100_to_150_words'])\n",
      "dict_keys(['stem', 'no_more_50_words', 'id', '100_to_150_words'])\n",
      "dict_keys(['stem', 'no_more_50_words', 'id', '100_to_150_words'])\n",
      "dict_keys(['stem', 'no_more_50_words', 'id', '100_to_150_words'])\n",
      "dict_keys(['stem', 'no_more_50_words', 'id', '100_to_150_words'])\n",
      "dict_keys(['stem', 'no_more_50_words', 'id', '100_to_150_words'])\n",
      "dict_keys(['stem', 'no_more_50_words', 'id', '100_to_150_words'])\n",
      "dict_keys(['stem', 'no_more_50_words', 'id', '100_to_150_words'])\n",
      "dict_keys(['stem', 'no_more_50_words', 'id', '100_to_150_words'])\n",
      "dict_keys(['stem', 'no_more_50_words', 'id', '100_to_150_words'])\n",
      "dict_keys(['stem', 'no_more_50_words', 'id', '100_to_150_words'])\n",
      "dict_keys(['stem', 'no_more_50_words', 'id', '100_to_150_words'])\n",
      "dict_keys(['stem', 'no_more_50_words', 'id', '100_to_150_words'])\n",
      "dict_keys(['stem', 'no_more_50_words', 'id', '100_to_150_words'])\n",
      "dict_keys(['stem', 'no_more_50_words', 'id', '100_to_150_words'])\n",
      "dict_keys(['stem', 'no_more_50_words', 'id', '100_to_150_words'])\n",
      "dict_keys(['stem', 'no_more_50_words', 'id', '100_to_150_words'])\n",
      "dict_keys(['stem', 'no_more_50_words', 'id', '100_to_150_words'])\n",
      "dict_keys(['stem', 'no_more_50_words', 'id', '100_to_150_words'])\n",
      "dict_keys(['stem', 'no_more_50_words', 'id', '100_to_150_words'])\n",
      "dict_keys(['stem', 'no_more_50_words', 'id', '100_to_150_words'])\n",
      "dict_keys(['stem', 'no_more_50_words', 'id', '100_to_150_words'])\n",
      "dict_keys(['stem', 'no_more_50_words', 'id', '100_to_150_words'])\n",
      "dict_keys(['stem', 'no_more_50_words', 'id', '100_to_150_words'])\n",
      "dict_keys(['stem', 'no_more_50_words', 'id', '100_to_150_words'])\n",
      "dict_keys(['stem', 'no_more_50_words', 'id', '100_to_150_words'])\n",
      "dict_keys(['stem', 'no_more_50_words', 'id', '100_to_150_words'])\n",
      "dict_keys(['stem', 'no_more_50_words', 'id', '100_to_150_words'])\n",
      "dict_keys(['stem', 'no_more_50_words', 'id', '100_to_150_words'])\n",
      "dict_keys(['stem', 'no_more_50_words', 'id', '100_to_150_words'])\n",
      "dict_keys(['stem', 'no_more_50_words', 'id', '100_to_150_words'])\n",
      "dict_keys(['stem', 'no_more_50_words', 'id', '100_to_150_words'])\n",
      "dict_keys(['stem', 'no_more_50_words', 'id', '100_to_150_words'])\n",
      "dict_keys(['stem', 'no_more_50_words', 'id', '100_to_150_words'])\n",
      "dict_keys(['stem', 'no_more_50_words', 'id', '100_to_150_words'])\n",
      "dict_keys(['stem', 'no_more_50_words', 'id', '100_to_150_words'])\n",
      "dict_keys(['stem', 'no_more_50_words', 'id', '100_to_150_words'])\n",
      "dict_keys(['stem', 'no_more_50_words', 'id', '100_to_150_words'])\n",
      "dict_keys(['stem', 'no_more_50_words', 'id', '100_to_150_words'])\n",
      "dict_keys(['stem', 'no_more_50_words', 'id', '100_to_150_words'])\n",
      "dict_keys(['stem', 'no_more_50_words', 'id', '100_to_150_words'])\n",
      "dict_keys(['stem', 'no_more_50_words', 'id', '100_to_150_words'])\n",
      "dict_keys(['stem', 'no_more_50_words', 'id', '100_to_150_words'])\n",
      "dict_keys(['stem', 'no_more_50_words', 'id', '100_to_150_words'])\n",
      "dict_keys(['stem', 'no_more_50_words', 'id', '100_to_150_words'])\n",
      "dict_keys(['stem', 'no_more_50_words', 'id', '100_to_150_words'])\n",
      "dict_keys(['stem', 'no_more_50_words', 'id', '100_to_150_words'])\n",
      "dict_keys(['stem', 'no_more_50_words', 'id', '100_to_150_words'])\n",
      "dict_keys(['stem', 'no_more_50_words', 'id', '100_to_150_words'])\n",
      "dict_keys(['stem', 'no_more_50_words', 'id', '100_to_150_words'])\n",
      "dict_keys(['stem', 'no_more_50_words', 'id', '100_to_150_words'])\n",
      "dict_keys(['stem', 'no_more_50_words', 'id', '100_to_150_words'])\n",
      "dict_keys(['stem', 'no_more_50_words', 'id', '100_to_150_words'])\n",
      "dict_keys(['stem', 'no_more_50_words', 'id', '100_to_150_words'])\n",
      "dict_keys(['stem', 'no_more_50_words', 'id', '100_to_150_words'])\n",
      "dict_keys(['stem', 'no_more_50_words', 'id', '100_to_150_words'])\n",
      "dict_keys(['stem', 'no_more_50_words', 'id', '100_to_150_words'])\n",
      "dict_keys(['stem', 'no_more_50_words', 'id', '100_to_150_words'])\n",
      "dict_keys(['stem', 'no_more_50_words', 'id', '100_to_150_words'])\n",
      "dict_keys(['stem', 'no_more_50_words', 'id', '100_to_150_words'])\n",
      "dict_keys(['stem', 'no_more_50_words', 'id', '100_to_150_words'])\n",
      "dict_keys(['stem', 'no_more_50_words', 'id', '100_to_150_words'])\n"
     ]
    }
   ],
   "source": [
    "import glob\n",
    "import json\n",
    "import pdb\n",
    "chatgpt_50_100_rationales_dir = \"./chatgpt_rationales/100_150\"\n",
    "file_list = glob.glob(\"{}/*.json\".format(chatgpt_50_100_rationales_dir))\n",
    "chatgpt_rationales_dict = {}\n",
    "for file in file_list:\n",
    "    with open(file, 'r') as f:\n",
    "        da = json.load(f)\n",
    "        print(da.keys())\n",
    "        chatgpt_rationales_dict[da['id']] = da['100_to_150_words']\n",
    "        #pdb.set_trace()"
   ]
  },
  {
   "cell_type": "code",
   "execution_count": 18,
   "id": "d9681ea9",
   "metadata": {},
   "outputs": [],
   "source": [
    "def list2dict(refine_data):\n",
    "    refine_data_dict={}\n",
    "    for key in refine_data[0].keys():\n",
    "        refine_data_dict[key]=[x[key] for x in refine_data]\n",
    "    return refine_data_dict\n",
    "\n",
    "select_refine_train_data = []\n",
    "for da in refine_train_data:\n",
    "    #pdb.set_trace()\n",
    "    if da['id'] in chatgpt_rationales_dict.keys():\n",
    "        da['our_explanation'] = chatgpt_rationales_dict[da['id']]\n",
    "        select_refine_train_data.append(da) \n",
    "        \n",
    "select_refine_train_data_dict = list2dict(select_refine_train_data)\n",
    "our_data_splits['train'] = datasets.Dataset.from_dict(select_refine_train_data_dict).shuffle().select(range(72))\n",
    "\n",
    "refine_dev_data_dict = list2dict(refine_dev_data)\n",
    "our_data_splits['dev'] = datasets.Dataset.from_dict(refine_dev_data_dict)\n",
    "\n",
    "refine_test_data_dict = list2dict(refine_test_data)\n",
    "our_data_splits['test'] = datasets.Dataset.from_dict(refine_test_data_dict)\n",
    "\n"
   ]
  },
  {
   "cell_type": "code",
   "execution_count": 19,
   "id": "53ab0e1a",
   "metadata": {},
   "outputs": [],
   "source": [
    "import datasets\n",
    "class SequenceCollator:\n",
    "    def __init__(self, pad_token):\n",
    "        # self.pad_token_mapping = {\n",
    "        #     \"lm_labels\": -100,\n",
    "        #     \"attention_mask\": 0,\n",
    "        #     \"decoder_attention_mask\": 0,\n",
    "        #     \"input_ids\": pad_token,\n",
    "        # }\n",
    "        # self.columns = [\n",
    "        #     \"input_ids\",\n",
    "        #     \"attention_mask\",\n",
    "        #     \"lm_labels\",\n",
    "        #     \"decoder_attention_mask\",\n",
    "        # ]\n",
    "        self.pad_token_mapping = {\n",
    "            \"labels\": -100,\n",
    "            \"attention_mask\": 0,\n",
    "            \"decoder_attention_mask\": 0,\n",
    "            \"input_ids\": pad_token,\n",
    "        }\n",
    "        self.columns = [\n",
    "            \"input_ids\",\n",
    "            \"attention_mask\",\n",
    "            \"labels\",\n",
    "            \"decoder_attention_mask\",\n",
    "        ]\n",
    "\n",
    "    def collate_batch(self, examples):\n",
    "\n",
    "        # batch inputs for training\n",
    "        batch = {}\n",
    "        for key in examples[0].keys():\n",
    "            if key in self.columns:\n",
    "                tmp_list = []\n",
    "                for item in examples:\n",
    "                    tmp_list.append(item[key])\n",
    "\n",
    "                # pad lists to max length\n",
    "                if isinstance(tmp_list[0], list):\n",
    "                    max_length = max(map(len, tmp_list))\n",
    "                    tmp_list = [\n",
    "                        el + [self.pad_token_mapping[key]] * (max_length - len(el))\n",
    "                        for el in tmp_list\n",
    "                    ]\n",
    "\n",
    "                batch[key] = torch.tensor(tmp_list, dtype=torch.long)\n",
    "        return batch\n",
    "    \n",
    "    def __call__(self, examples: List[Dict[str, InputDataClass]]) -> Dict[str, torch.Tensor]:\n",
    "        # re-format inputs for training\n",
    "        batch = {}\n",
    "        for key in examples[0].keys():\n",
    "            if key in self.columns:\n",
    "                tmp_list = []\n",
    "                for item in examples:\n",
    "                    tmp_list.append(item[key])\n",
    "\n",
    "                # pad lists to max length\n",
    "                if isinstance(tmp_list[0], list):\n",
    "                    max_length = max(map(len, tmp_list))\n",
    "                    tmp_list = [\n",
    "                        el + [self.pad_token_mapping[key]] * (max_length - len(el))\n",
    "                        for el in tmp_list\n",
    "                    ]\n",
    "\n",
    "                batch[key] = torch.tensor(tmp_list, dtype=torch.long)\n",
    "        return batch\n",
    "# dataset = datasets.load_dataset(data_args.task_name, data_args.version_name)"
   ]
  },
  {
   "cell_type": "code",
   "execution_count": 20,
   "id": "219866fe",
   "metadata": {},
   "outputs": [
    {
     "data": {
      "application/json": {
       "ascii": false,
       "bar_format": null,
       "colour": null,
       "elapsed": 0.01866745948791504,
       "initial": 0,
       "n": 0,
       "ncols": null,
       "nrows": 60,
       "postfix": null,
       "prefix": "",
       "rate": null,
       "total": 72,
       "unit": "ex",
       "unit_divisor": 1000,
       "unit_scale": false
      },
      "application/vnd.jupyter.widget-view+json": {
       "model_id": "4b95eb2e0c4f4193be3efffef0292ad9",
       "version_major": 2,
       "version_minor": 0
      },
      "text/plain": [
       "  0%|          | 0/72 [00:00<?, ?ex/s]"
      ]
     },
     "metadata": {},
     "output_type": "display_data"
    },
    {
     "data": {
      "application/json": {
       "ascii": false,
       "bar_format": null,
       "colour": null,
       "elapsed": 0.02344536781311035,
       "initial": 0,
       "n": 0,
       "ncols": null,
       "nrows": 60,
       "postfix": null,
       "prefix": "",
       "rate": null,
       "total": 986,
       "unit": "ex",
       "unit_divisor": 1000,
       "unit_scale": false
      },
      "application/vnd.jupyter.widget-view+json": {
       "model_id": "07bf8d9022094461967539ce85cf8e15",
       "version_major": 2,
       "version_minor": 0
      },
      "text/plain": [
       "  0%|          | 0/986 [00:00<?, ?ex/s]"
      ]
     },
     "metadata": {},
     "output_type": "display_data"
    },
    {
     "data": {
      "application/json": {
       "ascii": false,
       "bar_format": null,
       "colour": null,
       "elapsed": 0.01581549644470215,
       "initial": 0,
       "n": 0,
       "ncols": null,
       "nrows": 60,
       "postfix": null,
       "prefix": "",
       "rate": null,
       "total": 255,
       "unit": "ex",
       "unit_divisor": 1000,
       "unit_scale": false
      },
      "application/vnd.jupyter.widget-view+json": {
       "model_id": "bece630234af4578b95c21f458497f31",
       "version_major": 2,
       "version_minor": 0
      },
      "text/plain": [
       "  0%|          | 0/255 [00:00<?, ?ex/s]"
      ]
     },
     "metadata": {},
     "output_type": "display_data"
    }
   ],
   "source": [
    "# seq_collector = SequenceCollator(0)\n",
    "# train_ds = seq_collector.__call__(dataset['train'])\n",
    "# train_ds\n",
    "# dataset['train'][0].keys()\n",
    "for split in ['train','dev','test']:\n",
    "    our_data_splits[split] = our_data_splits[split].map(\n",
    "            lambda x: format_instance(\n",
    "                x,\n",
    "                tokenizer,\n",
    "                data_args.explanation_sep,\n",
    "                datasource=data_args.task_name,\n",
    "                io_format=data_args.io_format\n",
    "            ),\n",
    "            batched=False,\n",
    "            load_from_cache_file=False,\n",
    "        )"
   ]
  },
  {
   "cell_type": "code",
   "execution_count": null,
   "id": "0c120e04",
   "metadata": {},
   "outputs": [],
   "source": []
  },
  {
   "cell_type": "code",
   "execution_count": 21,
   "id": "81048fad",
   "metadata": {},
   "outputs": [],
   "source": [
    "chatGPT_rationales = [\n",
    "    \"A cup is a common vessel used for holding and drinking liquids, such as water, coffee, or tea. When you want to get yourself a drink, you might typically get a cup from a cabinet or other storage area in order to hold the drink. A cup is a convenient and practical choice for getting a drink because it is easy to hold and use, and it can hold a reasonable amount of liquid. There are many different types of cups available, including ceramic, glass, plastic, and metal cups, each with their own unique features and benefits. Whether you are at home, at work, or out in public, a cup is a handy item to have on hand when you need to quench your thirst.\",\n",
    "    \"A front yard is the lawn that is typically located in front of a house, near the street. The front yard is the part of the property that is visible from the street and is often used for decorative purposes, such as landscaping or gardening. Many people take pride in their front yards and may spend time and resources maintaining and improving them. The front yard is often the first thing that visitors see when they arrive at a house, and it can make a strong impression on them. In contrast, the back yard is typically located behind the house and is often used for more practical purposes, such as outdoor recreation or gardening.\",\n",
    "    \"A swimming pool is a recreational water feature that is typically used for swimming and other aquatic activities. While shallow water, such as that found in a kiddie pool or a shallow end of a pool, can be enjoyable for some people, it may not be sufficient for many summer activities. A swimming pool that is deep enough for diving and other activities is more likely to provide more opportunities for summer fun. In addition, a swimming pool that is clean and chlorinated is more likely to be safe and enjoyable for swimming, as it will be free of contaminants and bacteria that can cause illness.\",\n",
    "    \"In most places, it is illegal for people under the age of 21 to purchase or consume alcohol. This is because alcohol can have negative effects on the developing brain and body of young people. It can also contribute to risky behaviors and accidents. Therefore, many governments have set a minimum age for alcohol consumption and purchase to help protect the health and safety of young people. If someone is under the age of 21 and attempts to purchase alcohol, they may be denied the sale or face legal consequences. It is important for young people to understand and adhere to the laws and regulations regarding the purchase and consumption of alcohol in their area.\",\n",
    "    \"When someone shaves, they typically use a razor to remove hair from their face or body. The process of shaving can leave a lot of hair in the sink, as the hair is trimmed off and falls into the sink as it is being shaved. It is common for people to shave in the bathroom, where a sink is typically located. The sink provides a convenient place to rinse the razor and wash off any excess hair or shaving cream. It is important to clean the sink after shaving to remove any hair and prevent clogs in the drain.\",\n",
    "    \"A hamburger is a type of sandwich that consists of a cooked patty of ground meat, typically beef, placed between two slices of bread or a bun. Hamburgers are often served with various toppings, such as lettuce, tomato, onion, cheese, and condiments like ketchup and mustard. However, if someone is suffering from great hunger, they may not care about the toppings and just want to eat the hamburger itself. In this case, the person may be more focused on satisfying their hunger and getting nourishment rather than worrying about additional ingredients or flavors.\",\n",
    "    \"If a person notices popcorn and cotton candy on the grass, they are likely at fairgrounds. Fairgrounds are outdoor areas that are used for hosting fairs and other events, such as carnivals, festivals, and exhibitions. These events often feature food stalls and vendors that sell a variety of treats, including popcorn and cotton candy. Popcorn and cotton candy are both popular carnival foods that are often sold at fairs and other events. The presence of these foods on the ground at fairgrounds suggests that a fair or similar event is taking place there.\",\n",
    "    \"When snow on a mountain becomes heavy, it can trigger an avalanche. An avalanche is a rapid flow of snow down a slope, often triggered by the weight of the snow or external factors such as a change in temperature. Avalanches can be dangerous and destructive, as they can bury and sweep away anything in their path, including people, buildings, and vehicles. Avalanches can occur on any slope with a steep enough incline and a sufficient amount of snow. They are most common on mountains, but they can also occur in other snowy areas, such as forests or valleys. It is important for people to be aware of the risk of avalanches and to take precautions when traveling in areas prone to avalanches.\",\n",
    "    \"A police officer typically reports their work through the use of case reports or incident reports. These reports are written documents that detail the events of a specific case or incident that the officer has worked on. Case reports or incident reports typically include information such as the date and time of the incident, the location, the people involved, and the actions taken by the officer. They may also include witness statements, evidence collected, and any other relevant details. Case reports or incident reports are used by police officers to document their work and provide a record of the incidents they have dealt with. They are also used by supervisors and other authorities to review and evaluate the performance of the officer and the effectiveness of their actions.\",\n",
    "    \"Teachers play many roles in the lives of their students, including mentor, counselor, and role model. However, they get the most out of their job by simply teaching children. Teaching children is the primary responsibility of a teacher, and it is what they are trained and paid to do. Teaching involves imparting knowledge, skills, and values to students, and helping them to develop the skills and habits they need to succeed in life. Teachers have the opportunity to make a positive impact on the lives of their students by providing them with a strong foundation in academic subjects and helping them to become curious, engaged learners. Teachers often derive a great deal of satisfaction from helping their students to achieve their potential and succeed in their studies.\",\n",
    "    \"A person might go to get counseling for a variety of reasons. One reason is to better understand themselves. Counseling can provide a safe and supportive environment for individuals to explore their thoughts, feelings, and behaviors, and to gain insight into why they act and feel the way they do. Counseling can also help a person to identify and work through any underlying issues or challenges that may be causing them distress or hindering their personal growth. Through counseling, a person can learn more about themselves and how to navigate their emotions and relationships more effectively. Counseling can be particularly helpful for individuals who are struggling with mental health issues, relationship problems, or other personal challenges.\",\n",
    "    \"If the kids wanted to cool off, they might go swimming as a way to refresh and beat the heat. Swimming is a fun and enjoyable activity that can provide relief from hot weather and help to cool the body. Swimming can also provide a great workout and has numerous health benefits, such as improving cardiovascular fitness and flexibility. There are many different places where kids can go swimming, such as pools, lakes, rivers, or the ocean. No matter where they go, kids can have fun and cool off while enjoying the water.\",\n",
    "    \"When remembering a tragedy in the past, many people may feel depressed. Depression is a common emotional reaction to experiencing a traumatic or stressful event, such as a tragedy. Depression is a mental health disorder characterized by persistent feelings of sadness, hopelessness, and low energy. It can also cause physical symptoms such as changes in appetite and sleep patterns, fatigue, and difficulty concentrating. Remembering a tragedy can be emotionally difficult and may trigger feelings of sadness, grief, and guilt. It is important for people who are struggling with depression to seek support and treatment to help manage their symptoms and improve their mental health.\",\n",
    "    \"Death Valley is a national park located in the Mojave Desert, in the state of California, United States. It is situated on the North American continent. The North American continent is one of the seven continents of the world and is located in the western hemisphere. It is the third largest continent in terms of land area, after Asia and Africa, and is home to a diverse range of cultures, languages, and environments. Death Valley is known for its extreme desert climate and is the lowest, hottest, and driest place in North America. It is a popular destination for tourists, who come to see its unique geological features, such as sand dunes, salt flats, and canyons.\",\n",
    "    \"When in a serious relationship, understanding better requires effort. Relationships require effort and work to maintain and grow. In order to understand your partner better, you need to be willing to put in the time and effort to communicate with them, listen to their perspectives, and try to see things from their point of view. This may involve asking questions, expressing your own feelings and needs, and being open to feedback and compromise. Understanding your partner better can help to strengthen the bond between you and improve the quality of your relationship. It is important to remember that relationships are dynamic and evolving, and that ongoing communication and effort are necessary to maintain a healthy and fulfilling relationship.\",\n",
    "    \"Cats are able to make a variety of vocalizations, including meows, purrs, and growls, as a way of communicating with humans and other animals. Cats use these vocalizations to convey a range of emotions and needs, such as hunger, happiness, or discomfort. Meowing is a common vocalization that cats use to communicate with humans. Cats may meow when they want attention, food, or to be let outside. Cats may also meow when they are feeling anxious or stressed. Although cats cannot talk in the same way that humans do, they are skilled at using their voices to communicate with their owners and other animals.\",\n",
    "    \"If you need a vessel that is similar to a battleship but faster, you might consider using a corvette. A corvette is a small, fast warship that is typically used for convoy escort, patrol, and other shallow water duties. Corvettes are generally smaller and less heavily armed than battleships, but they are more agile and have a higher speed. They are typically equipped with a variety of weapons, including guns, missiles, and torpedoes, and are used for defending against enemy ships and aircraft. Corvettes are often used for coastal defense, as well as for patrolling and enforcing maritime laws. They are capable of operating in a variety of environments, including open ocean and littoral (nearshore) waters.\",\n",
    "    \"Water in the sky comes from rain clouds. Rain clouds are clouds that form when moist air rises and cools, forming tiny water droplets that condense around particles in the air. As the droplets grow, they eventually become heavy enough to fall from the cloud as rain. Rain clouds are typically gray or white in color and are often accompanied by other types of clouds, such as cumulus or stratocumulus clouds. Rain clouds can form in a variety of ways, such as when warm, moist air from the ground rises and cools, or when moist air from the ocean is carried inland by the wind. Rain clouds can be found in many parts of the world and are a common source of precipitation, especially during the warmer months.\",\n",
    "    \"If John rented a hotel room while on a business trip and it was a company-sponsored event, it is possible that the hotel was a resort. Resorts are hotels or vacation properties that offer a variety of amenities and activities for guests, such as swimming pools, golf courses, spas, and restaurants. They are often located in scenic or recreational areas and are designed to provide a relaxing and enjoyable experience for guests. Many resorts offer conference and meeting facilities and are popular destinations for business events and retreats. If John's company sponsored the business trip and provided the hotel accommodations, it is likely that they chose a resort with the amenities and facilities needed to support the event.\",\n",
    "    \"An expressway might leave the United States and go to Canada. The United States and Canada are neighboring countries that share a border, and there are several expressways that cross the border between the two countries. Expressways are high-speed, limited-access roads that are designed for fast and efficient travel. They typically have multiple lanes and may include features such as grade separations, interchanges, and controlled access points. Expressways are used for long-distance travel and are often the main routes connecting major cities and regions. If an expressway leaves the United States, it is likely that it is heading towards Canada, which is located to the north of the United States.\",\n",
    "    \"If you were walking on a sidewalk near a small corner shop run by John, you would look for it on the street corner. A corner shop is a small retail store that is typically located at the intersection of two streets. It is often a convenience store or a neighborhood shop that sells a variety of goods, such as groceries, household items, and other supplies. Corner shops are often located in busy urban areas, where they are easily accessible to pedestrians and motorists. If you were walking on a sidewalk near a corner shop, you would look for it at the intersection of the street where you are walking and another street. The shop is likely to be located in a building on the corner, with windows and doors facing the street.\",\n",
    "    \"One way that a company can efficiently sell things to their customers is through mail order. Mail order is a method of selling goods or services by advertising them in a catalog or other publication and allowing customers to place orders by mail, telephone, or online. Mail order is a convenient and efficient way for companies to reach a wide customer base, as it allows them to sell products to customers who may not be located near their physical store or who may not have the time or inclination to shop in person. Mail order companies typically have a centralized warehouse or distribution center where orders are processed and shipped to customers. They may also offer options such as easy returns and exchanges, as well as customer service support to assist with any questions or issues that customers may have.\",\n",
    "    \"If he enjoyed the factory work and liked the idea that he did it for sale, it is likely that he enjoyed producing goods. Factory work typically involves the production of goods, such as products or materials, using machines, tools, and other equipment. Factory workers are responsible for operating and maintaining the equipment and ensuring that the goods being produced meet quality standards. The goods produced in a factory may be sold directly to consumers or to other businesses, and may be used for a variety of purposes, such as manufacturing, construction, or distribution. If a person enjoys factory work, they may find satisfaction in the idea that they are contributing to the production of goods that will be sold and used by others.\",\n",
    "    \"If returning to work was easy for Dan after his treatment and he was completely painless, it is likely that he had undergone some form of medical treatment or therapy to address a health issue or injury. Painless indicates that Dan was no longer experiencing pain or discomfort, which may have been a result of the treatment or therapy he received. It is not clear from the information provided what specific health issue or injury Dan was dealing with, or what treatment or therapy he received. However, it is possible that Dan was able to return to work more easily after his treatment because he was feeling better and was no longer experiencing any pain or discomfort.\",\n",
    "    \"If index cards were on display at the museum, it is likely that the museum was a library. Libraries are institutions that provide access to a wide range of resources, including books, periodicals, and other printed materials, as well as digital resources such as e-books, databases, and online research tools. Libraries often have exhibits and displays of various types of materials, including rare or unique items, and may have special collections or archives that are of particular interest to researchers or historians. Index cards are small, rectangular pieces of paper that are used for organizing information, such as names, dates, or research notes. They may be used in a variety of settings, including libraries, offices, and schools. If index cards were on display at the museum, it is possible that they were part of a historical exhibit or collection related to the history of libraries or research.\",\n",
    "    \"If she was a human in America who wanted to live well, it is likely that the given for her situation was the need for money. In general, money is an important factor in enabling people to live well and meet their basic needs and desires. Money allows people to purchase the goods and services that they need to sustain themselves and their families, such as food, clothing, housing, and healthcare. It also enables people to pursue their interests and hobbies, travel, and engage in various forms of leisure and entertainment. In America, and in many other countries around the world, the cost of living can be high, and people often need to earn and save money in order to achieve a desired standard of living. As such, the need for money is a given for many people in order to live well.\",\n",
    "    \"A place that could have one back garden is a house. A garden is a piece of land that is used for growing plants, flowers, vegetables, or other types of vegetation. Gardens can be found in a variety of settings, including residential properties, public parks, and commercial properties. A house is a building that is used as a dwelling for one or more people, and it typically includes living spaces, such as bedrooms, bathrooms, and a kitchen, as well as outdoor areas, such as a front yard, side yard, and back yard. A back yard is a private outdoor space that is typically located behind a house and is often used for recreational or leisure activities, such as gardening, grilling, or playing games. If a house has a back garden, it is likely that the garden is located in the back yard.\",\n",
    "    \"People gather at a football stadium to see large men in pads play a game where they run and smash into each other. Football is a popular sport that is played on a rectangular field by two teams of eleven players. The game involves running, passing, and tackling, and players wear pads and other protective gear to reduce the risk of injury. Football is a physical and intense sport, and players often collide with each other at high speeds. Football stadiums are large, open-air facilities that are designed to host football games and other sporting events. They typically have a grass or artificial turf field, seating for spectators, and a variety of amenities, such as concessions stands, restrooms, and VIP areas. Football stadiums are popular places for people to gather and watch football games, and they can be found in cities and towns throughout the world.\",\n",
    "    \"One place where someone can get a flute is a musical instrument store. A musical instrument store is a retail establishment that specializes in selling musical instruments and related accessories. They may carry a wide range of instruments, including brass instruments, woodwind instruments, string instruments, percussion instruments, and keyboards. Flutes are woodwind instruments that are played by blowing air into a narrow opening and producing sound by vibrating the lips against a metal or wooden reed. They are popular instruments that are used in a variety of musical styles, including classical, jazz, and folk music. If someone is looking to purchase a flute, they may be able to find a selection of flutes at a musical instrument store. In addition to flutes, musical instrument stores may also offer a variety of other instruments, as well as sheet music, instructional materials, and accessories such as cases, stands, and cleaning supplies.\",\n",
    "    \"It is not clear what someone who has a greed for energy would do. The word greed typically refers to an excessive or insatiable desire for wealth, power, or material possessions. It is not clear how this concept would relate to energy or how it might influence someone's actions. It is possible that someone who has a lot of energy or who is very active might have a high appetite for food and might seek out sources of fuel or nutrition to sustain their energy levels. In this case, they might buy food as a way to obtain the energy they need. However, it is not accurate to say that someone who has a greed for energy would necessarily do this. It is important to note that the concept of greed is generally considered to be negative, as it suggests an unhealthy or unsustainable desire for something.\",\n",
    "    \"A forklift is a type of industrial vehicle that is used for moving and lifting heavy loads, such as pallets, crates, and boxes. Forklifts are equipped with a hydraulic lift mechanism and a set of prongs or forks that can be used to lift and transport loads. They are commonly used in warehouses and other distribution centers to move and stack materials, such as boxes, onto shelves or other storage areas. If you were using a forklift to stack boxes onto shelves, it is likely that you were in a warehouse or a similar facility. Warehouses are large, commercial buildings that are used for storing and distributing goods. They often have high ceilings, wide aisles, and multiple levels, and they may be equipped with a variety of material handling equipment, such as forklifts, conveyor belts, and cranes, to facilitate the movement and storage of goods.\",\n",
    "    \"You are likely to receive mouthwash in a little paper cup at a dentist's office. Dentist's offices are healthcare facilities that are staffed by dentists and other dental professionals, and they are used for the diagnosis and treatment of dental problems and the maintenance of oral health. One common practice at a dentist's office is to rinse the mouth with mouthwash, which is a liquid that is used to freshen breath, kill bacteria, and reduce the risk of gum disease and other oral health issues. Mouthwash is typically used after brushing and flossing to help remove any remaining food particles or plaque from the mouth. It may be dispensed in a little paper cup, which can be used to rinse the mouth and then disposed of after use.\",\n",
    "    \"A doctor's office can help you with an illness. A doctor's office is a healthcare facility that is staffed by medical doctors and other healthcare professionals, and it is used for the diagnosis and treatment of medical conditions and the maintenance of overall health. If you are experiencing an illness, such as a cold, flu, or more serious health issue, you may visit a doctor's office to seek medical care and treatment. At a doctor's office, you may receive a physical examination, diagnostic tests, and other forms of medical treatment, depending on the nature of your illness and your specific needs. Doctors are trained to diagnose and treat a wide range of medical conditions, and they can provide you with the care and support you need to recover from your illness and get back to good health.\",\n",
    "    \"A bug looking for wildflowers and no human interruption might go to a meadow. A meadow is a grassland area that is characterized by its open, grassy landscape and the presence of wildflowers and other types of vegetation. Meadows can be found in a variety of settings, including rural areas, forests, and parkland, and they are often home to a variety of animal and plant species. Because meadows are relatively undisturbed by human activity, they can be a good place for a bug to find wildflowers and other types of plants without interference from humans. Meadows are often considered to be peaceful, serene places, and they may be attractive to a bug that is seeking a quiet, natural environment in which to explore and forage.\",\n",
    "    \"If a bride and groom are taking care of proposals, the likely ceremony is a marriage. A marriage is a formal union between two people that is recognized by law and typically involves a public ceremony and the exchange of vows. A marriage proposal is a request for someone to marry another person, and it is typically made by one partner to the other. The process of planning a marriage often involves taking care of a variety of details and arrangements, such as choosing a venue, selecting a date, inviting guests, and organizing the ceremony and reception. If a bride and groom are taking care of proposals, it is likely that they are in the process of planning their marriage and preparing for the wedding ceremony.\",\n",
    "    \"You could put some olives in a jar to prevent them from getting nearby food wet. A jar is a container that is typically made of glass or ceramic and has a wide mouth and a secure, tight-fitting lid. Jars are often used for storing food items, such as olives, pickles, jams, and other types of preserved or dried goods. Because they have a sealed lid, jars can help to keep food fresh and prevent it from coming into contact with air or other substances that might spoil or contaminate it. If you want to prevent olives from getting nearby food wet, you could put them in a jar and close the lid to create an airtight seal. This would help to keep the olives separate from other foods and prevent them from coming into contact with moisture or other liquids.\",\n",
    "    \"If the graveyard was zoned by the pastor, it is likely that it was located on church property. Church property refers to land or buildings that are owned by a church or religious organization. This may include the main church building, as well as other structures such as a rectory, school, or community center. Church property may also include a graveyard or cemetery, which is a place where people are buried after they die. Pastors, who are ordained leaders in a church, often play a central role in the management and oversight of church property, and they may be responsible for zoning or designating areas within the property for specific purposes, such as a graveyard or a garden. If the pastor has zoned the graveyard, it is likely that it is located on church property and is being used as a place for burial by members of the church or community.\",\n",
    "    \"If a family wanted to live with carpeting, they may have ended up putting it in their houses. Houses are structures that are designed and built to be used as homes, and they typically have a number of rooms that are used for different purposes, such as sleeping, cooking, eating, and relaxing. Carpeting is a type of floor covering that is made of soft, flexible materials, such as wool, nylon, or polypropylene, and it is often used in houses to provide warmth, comfort, and insulation. If a family wanted to live with carpeting, they may have chosen to install carpeting in some or all of the rooms in their houses, in order to create a warm and cozy atmosphere and to improve the overall comfort and livability of their homes.\",\n",
    "    \"If a boss likes an employee's ambition, the employee may be put in charge of a project. A project is a specific task or set of tasks that is undertaken in order to achieve a specific goal or objective. Projects may be large or small, complex or simple, and they may involve a wide range of activities, such as research, design, development, testing, and implementation. If an employee is ambitious and demonstrates a strong desire to succeed and make a positive contribution to their organization, their boss may choose to put them in charge of a project, in order to give them the opportunity to demonstrate their skills and abilities and to take on more responsibility. Being put in charge of a project can be a challenging and rewarding experience, and it may provide an employee with the chance to learn new things, develop their skills, and make a meaningful contribution to their organization.\",\n",
    "    \"A county highway can be viewed as a line on a map. A map is a graphic representation of an area or region that shows the locations of various features, such as roads, rivers, mountains, and cities. Maps are often used to help people navigate and find their way around unfamiliar places, and they can be very useful for understanding the layout and geography of an area. County highways are roads that are maintained and operated by a county or local government, and they are typically used for local travel and transportation within a county or region. On a map, a county highway may be represented as a line, with a specific color or symbol used to indicate its location and route. By viewing a county highway as a line on a map, it is possible to get a sense of the route and layout of the road, and to use the map to plan a journey or navigate to a specific destination.\",\n",
    "    \"After going for a run, someone may feel tired. Running is a form of physical activity that involves moving quickly and continuously on foot, typically by running or jogging. It is a popular form of exercise that can help to improve cardiovascular fitness, build endurance, and strengthen the muscles of the legs and lower body. However, running can also be physically demanding, and it requires a certain level of fitness and stamina to be able to sustain the activity for an extended period of time. As a result, it is common for people to feel tired after going for a run, especially if they are not used to the activity or if they have pushed themselves to run for a longer distance or at a faster pace than usual. Tiredness after a run may be accompanied by other physical sensations, such as muscle fatigue, thirst, or a sense of accomplishment.\",\n",
    "    \"If a car was going from Florida to Ohio, it was heading north. Florida is a state in the southeastern region of the United States, and Ohio is a state in the midwestern region of the country. When traveling from Florida to Ohio, a person would need to go north in order to reach their destination. North is a direction that is opposite to south on a map or compass, and it is typically associated with higher latitude, colder climates, and longer nights. When traveling north, a person may encounter different landscapes, weather patterns, and cultural experiences than they would when traveling south, depending on the specific route and the distance traveled. By heading north from Florida to Ohio, a person would be leaving behind the warm, tropical climate of Florida and entering into a more temperate, mid-latitude region with cooler temperatures and a more diverse range of landscapes and ecosystems.\",\n",
    "    \"During a typical week, a teacher is likely to spend most of their time working in school. A teacher is a person who is trained and qualified to teach students in a school or educational setting, and their primary job is to provide instruction and guidance to help students learn and develop their skills and knowledge. Teachers may work in a variety of settings, including primary schools, secondary schools, and universities, and they may teach a wide range of subjects, including math, science, English, history, and the arts. In order to fulfill their duties as a teacher, a person is likely to spend most of their time working in a school or educational setting, where they will be responsible for preparing and delivering lessons, grading assignments, communicating with students and parents, and performing other tasks related to their job. Teachers typically work on a schedule that follows the school year, and they may work full-time or part-time, depending on their specific circumstances and the needs of their students.\",\n",
    "    \"In a predicament, an animal might choose to fight for its life as an alternative to fleeing. Predicament is a term that refers to a difficult or challenging situation, typically one that involves a choice or decision that needs to be made. When an animal finds itself in a predicament, it may have to decide how to respond in order to survive and protect itself. One option that an animal may have is to flee or run away from the situation in an effort to escape danger or avoid conflict. Another option that an animal may have is to fight for its life, using whatever means are available to defend itself and protect its survival. The choice that an animal makes in a predicament will depend on a variety of factors, including the specific nature of the situation, the animal's size, strength, and abilities, and the resources and options that are available to it.\",\n",
    "    \"It is not common for people to fight each other when they find a good deal. A good deal is typically defined as an opportunity to purchase something at a price that is lower than what it is usually worth, or to obtain a product or service that provides more value or benefits than what is expected. When people find a good deal, they may feel excited or pleased about the opportunity to save money or get more for their money, and they may take action to take advantage of the deal. However, it is generally not considered acceptable or appropriate for people to fight each other over a good deal or to engage in physical violence or aggression in order to obtain it. There are many other ways that people can express their interest in a good deal, such as by negotiating with the seller, making an offer, or simply making a purchase if the price is acceptable.\",\n",
    "    \"An altar is a platform or structure that is used for religious ceremonies, rituals, or worship. Altars are often found in places of worship, such as temples, churches, synagogues, mosques, and other religious buildings. When a person is standing in front of an altar, they are likely to be in a temple or other place of worship. Altars can be used for a variety of purposes in different religions and spiritual traditions, such as offering sacrifices, making offerings, praying, or performing other religious practices. They may be decorated with symbols, images, or other items that are significant to the religion or spiritual tradition that is being practiced. Altars may also be used as a place for people to meditate, reflect, or seek spiritual guidance.\",\n",
    "    \"Joe bought a bunch of grapes because he likes to use them to top his desserts. A dessert is a type of food that is typically served at the end of a meal, and it is usually sweet or rich in flavor. There are many different types of desserts that people enjoy, including cakes, cookies, ice cream, pie, and other sweet treats. One way that people may use grapes as a topping for their desserts is by placing them on top of a fruit pie, tart, or crisp. Grapes can add flavor and texture to a dessert, and they may also be used to decorate a dessert or to add visual appeal. Grapes are a versatile fruit that can be used in many different types of desserts, and they can be eaten fresh, frozen, or preserved in various ways.\",\n",
    "    \"Well water is water that is obtained from underground sources, typically through the use of a well. A well is a hole or shaft that is dug into the ground in order to access water that is contained in underground aquifers or other water-bearing formations. Well water is typically used for drinking, irrigation, and other purposes, and it is often considered to be of high quality because it is filtered and purified naturally as it flows through the ground. To obtain well water, a person can dig a well or have one dug by a professional well driller. The depth of the well will depend on the location and the geology of the area, and a pump or other mechanical system may be used to bring the water to the surface.\",\n",
    "]"
   ]
  },
  {
   "cell_type": "code",
   "execution_count": null,
   "id": "69fa8109",
   "metadata": {},
   "outputs": [],
   "source": []
  },
  {
   "cell_type": "code",
   "execution_count": 22,
   "id": "01fdee8d",
   "metadata": {},
   "outputs": [],
   "source": [
    "id_list = [\n",
    " '71519c19654251cced50c5718fd527c1',\n",
    " '44195d210c81c8c550174d0edbd3ad5d',\n",
    " '5a5da37b685ec9c6f15228128ce30437',\n",
    " 'cabdfc174953b4bdb8bdcc89d6592c74',\n",
    " 'eac3a4080127e8924034651b57dfa289',\n",
    " 'c0013f31657294b9b5ad819123513ca7',\n",
    " '2681697be70cd5425899ed6deb84b18a',\n",
    " '47f60340b869552e795fa6782224f3d2',\n",
    " '7e8a6eac93147eb52d8151bab7b40003',\n",
    " 'f34267f498c8a78383e35057fbcfa2ce',\n",
    " 'f024f923d78e5c0a4c0c4baa3ddccf05',\n",
    " 'e148c710d0c26849cf1f15293481038b',\n",
    " 'bdf437d7498815f36c255f64a8e6571c',\n",
    " '2282e0c80be28aadadb79a822fec9dac',\n",
    " 'bdd05e96876342b4b5999709439a7f4e',\n",
    " '494b8316614fc64c5c27757aeaffce23_1',\n",
    " 'c4494b402264250dc70931613d482295',\n",
    " 'fcfbf207c5586294fdce33b645b613f1',\n",
    " '9c583bcbe68989a644433302545fb31e',\n",
    " '0e684d779d98e6eecda167c10af42bbb',\n",
    " 'ac0462d09b9fddd40c3c77aedf48a870',\n",
    " '1dbfb41e04a10bdbb085bfe667c0df99',\n",
    " 'cd0c0ef3b8ce0eb09ff26823f6059be6',\n",
    " 'e6b67184b99375d05d3f2887f684c684',\n",
    " 'ae9f6f1e17b3fdd3a86b494933809f45',\n",
    " 'f149604169936a30b7e4c8d599d604b5',\n",
    " 'd7c8377953e0175ef57d59f3a8e63a8e',\n",
    " '1837216ac7745121b82a6491b2318c09',\n",
    " 'b5fe238d45e55ca5d802b7823ad390ef',\n",
    " 'b2fbeb0b48bd5e575af0f7dc24cdd85d',\n",
    " '9bdfb101c487ac598f6e4686cf774703',\n",
    " '206c7116ee2246180fcc0c5a1d0e7205',\n",
    " '5cd7f44bbf730dfae5ef2a362d2e5149',\n",
    " '45d0ea781ffd49b07d6eae94d47a8945',\n",
    " '89afdea1d76272fda8e1538a7d3b7a3f',\n",
    " '38a514fe54108527e1d6e89d9812da93',\n",
    " 'ebf347934a3e90ea46d3d87726fb5d25',\n",
    " '90226a6ecd7308ae1e6220a15ae24bc6',\n",
    " '5cae8057e75e3adf5c338a43b3ba97fb',\n",
    " '388a363c49e1b0aca8eaf18ccdde0caf',\n",
    " '9ed3af82152dfcd7000bf4631b095f71',\n",
    " '2d5805d894bba224c5fe91e70b8c0f77',\n",
    " 'd5aa464a16b72c9b9f3091abd461e3ef',\n",
    " '381b11c54be4cc432a95053ca34cbf6b',\n",
    " '807a3a2dabdd50ed0c76052fd2612632',\n",
    " '5172041c750d22e9a5081cc024de0fa6',\n",
    " 'd32a45ab3b751110d0578a78e54c0e64',\n",
    " '28ca5cbe27774746c34f6ebe84fc6d0c']"
   ]
  },
  {
   "cell_type": "code",
   "execution_count": null,
   "id": "51445c67",
   "metadata": {},
   "outputs": [],
   "source": []
  },
  {
   "cell_type": "code",
   "execution_count": 23,
   "id": "dabe3306",
   "metadata": {},
   "outputs": [],
   "source": [
    "# our_wrong_data_splits['dev']=[]\n",
    "# for x in our_data_splits['dev']:\n",
    "#     for ii in range(5):\n",
    "#         new_x={'id':x['id'], 'real_answer':x['answer'], \n",
    "#                'answer':x['choices'][ii], 'question':x['question'],\n",
    "#                'choices':x['choices'],\n",
    "#                'abstractive_explanation':x['abstractive_explanation'],\n",
    "#                'extractive_explanation':x['extractive_explanation'],\n",
    "#                'our_explanation':x['our_explanation']}\n",
    "#         our_wrong_data_splits['dev'].append(new_x)\n",
    "#     #print(x)\n",
    "#     #pdb.set_trace()\n",
    "# # wandb.init()\n",
    "# our_wrong_dev_data_dict = list2dict(our_wrong_data_splits['dev'])\n",
    "# our_wrong_data_splits['dev'] = datasets.Dataset.from_dict(our_wrong_dev_data_dict)"
   ]
  },
  {
   "cell_type": "code",
   "execution_count": 24,
   "id": "7b62bdf5",
   "metadata": {},
   "outputs": [],
   "source": [
    "# our_wrong_data_splits['train'][0],our_wrong_data_splits['train'][0].keys()\n",
    "# our_wrong_data_splits['train'] = our_wrong_data_splits['train'].map(\n",
    "#             lambda x: format_instance(\n",
    "#                 x,\n",
    "#                 tokenizer,\n",
    "#                 data_args.explanation_sep,\n",
    "#                 datasource=data_args.task_name,\n",
    "#                 io_format=data_args.io_format\n",
    "#             ),\n",
    "#             batched=False,\n",
    "#             load_from_cache_file=False,\n",
    "#         )"
   ]
  },
  {
   "cell_type": "code",
   "execution_count": 25,
   "id": "b421f892",
   "metadata": {},
   "outputs": [],
   "source": [
    "# for da in our_wrong_data_splits['dev']:\n",
    "#     print(\"*******\")\n",
    "#     print(\"question: {}\".format(da['question']))\n",
    "#     print(\"real_answer: {}\".format(da['real_answer']))\n",
    "#     print(\"answer: {}\".format(da['answer']))\n",
    "#     print(\"choices: {}\".format(da['choices']))\n",
    "#     print(\"our_explanation: {}\".format(da['our_explanation']))\n",
    "#     inp_ids = torch.tensor(da[\"input_ids\"], device=model.device).reshape(1, -1)\n",
    "#     out = model.generate(\n",
    "#                     inp_ids,\n",
    "#                     max_length=100,\n",
    "#                     pad_token_id=tokenizer.pad_token_id,\n",
    "#                     eos_token_id=tokenizer.eos_token_id,\n",
    "#                 )\n",
    "#     skip_special_tokens = False if \"infilling\" in data_args.io_format else True\n",
    "#     words = tokenizer.decode(out[0].tolist(), skip_special_tokens=skip_special_tokens)\n",
    "#     print(\"generated explanation: {}\".format(words))\n",
    "#     print(\"#######\")"
   ]
  },
  {
   "cell_type": "code",
   "execution_count": 26,
   "id": "dfa34701",
   "metadata": {},
   "outputs": [],
   "source": [
    "# our_wrong_data_splits['train'][0],our_wrong_data_splits['train'][0].keys()\n",
    "# our_wrong_data_splits['dev'] = our_wrong_data_splits['dev'].map(\n",
    "#             lambda x: format_instance(\n",
    "#                 x,\n",
    "#                 tokenizer,\n",
    "#                 data_args.explanation_sep,\n",
    "#                 datasource=data_args.task_name,\n",
    "#                 io_format=data_args.io_format\n",
    "#             ),\n",
    "#             batched=False,\n",
    "#             load_from_cache_file=False,\n",
    "#         )"
   ]
  },
  {
   "cell_type": "code",
   "execution_count": 27,
   "id": "2e6d6437",
   "metadata": {},
   "outputs": [],
   "source": [
    "# for da in our_wrong_data_splits['dev']:\n",
    "#     print(\"*******\")\n",
    "#     print(\"question: {}\".format(da['question']))\n",
    "#     print(\"real_answer: {}\".format(da['real_answer']))\n",
    "#     print(\"answer: {}\".format(da['answer']))\n",
    "#     print(\"choices: {}\".format(da['choices']))\n",
    "#     print(\"our_explanation: {}\".format(da['our_explanation']))\n",
    "#     inp_ids = torch.tensor(da[\"input_ids\"], device=model.device).reshape(1, -1)\n",
    "#     out = model.generate(\n",
    "#                     inp_ids,\n",
    "#                     max_length=100,\n",
    "#                     pad_token_id=tokenizer.pad_token_id,\n",
    "#                     eos_token_id=tokenizer.eos_token_id,\n",
    "#                 )\n",
    "#     skip_special_tokens = False if \"infilling\" in data_args.io_format else True\n",
    "#     words = tokenizer.decode(out[0].tolist(), skip_special_tokens=skip_special_tokens)\n",
    "#     print(\"generated explanation: {}\".format(words))\n",
    "#     print(\"#######\")"
   ]
  },
  {
   "cell_type": "code",
   "execution_count": 28,
   "id": "91605cfc",
   "metadata": {},
   "outputs": [],
   "source": [
    "# for da in our_wrong_data_splits['train']:\n",
    "#     print(\"*******\")\n",
    "#     print(\"question: {}\".format(da['question']))\n",
    "#     print(\"real_answer: {}\".format(da['real_answer']))\n",
    "#     print(\"answer: {}\".format(da['answer']))\n",
    "#     print(\"choices: {}\".format(da['choices']))\n",
    "#     print(\"our_explanation: {}\".format(da['our_explanation']))\n",
    "#     inp_ids = torch.tensor(da[\"input_ids\"], device=model.device).reshape(1, -1)\n",
    "#     out = model.generate(\n",
    "#                     inp_ids,\n",
    "#                     max_length=100,\n",
    "#                     pad_token_id=tokenizer.pad_token_id,\n",
    "#                     eos_token_id=tokenizer.eos_token_id,\n",
    "#                 )\n",
    "#     skip_special_tokens = False if \"infilling\" in data_args.io_format else True\n",
    "#     words = tokenizer.decode(out[0].tolist(), skip_special_tokens=skip_special_tokens)\n",
    "#     print(\"generated explanation: {}\".format(words))\n",
    "#     print(\"#######\")"
   ]
  },
  {
   "cell_type": "code",
   "execution_count": 29,
   "id": "cbc3e763",
   "metadata": {},
   "outputs": [],
   "source": [
    "# import wandb\n",
    "# training_args.run_name=\"\"\n",
    "training_args.logging_steps=3\n",
    "training_args.save_steps=5\n",
    "training_args.evaluation_strategy=\"epoch\"\n",
    "training_args.num_train_epochs=25\n",
    "training_args.do_eval=True"
   ]
  },
  {
   "cell_type": "code",
   "execution_count": 30,
   "id": "317de5d7",
   "metadata": {},
   "outputs": [
    {
     "data": {
      "text/plain": [
       "TrainingArguments(\n",
       "_n_gpu=1,\n",
       "adafactor=False,\n",
       "adam_beta1=0.9,\n",
       "adam_beta2=0.999,\n",
       "adam_epsilon=1e-08,\n",
       "dataloader_drop_last=False,\n",
       "dataloader_num_workers=0,\n",
       "dataloader_pin_memory=True,\n",
       "ddp_find_unused_parameters=None,\n",
       "debug=[],\n",
       "deepspeed=None,\n",
       "disable_tqdm=False,\n",
       "do_eval=True,\n",
       "do_predict=False,\n",
       "do_train=True,\n",
       "eval_accumulation_steps=None,\n",
       "eval_steps=None,\n",
       "evaluation_strategy=epoch,\n",
       "fp16=False,\n",
       "fp16_backend=auto,\n",
       "fp16_full_eval=False,\n",
       "fp16_opt_level=O1,\n",
       "gradient_accumulation_steps=1,\n",
       "greater_is_better=None,\n",
       "group_by_length=False,\n",
       "ignore_data_skip=False,\n",
       "label_names=None,\n",
       "label_smoothing_factor=0.0,\n",
       "learning_rate=5e-05,\n",
       "length_column_name=length,\n",
       "load_best_model_at_end=False,\n",
       "local_rank=-1,\n",
       "log_level=-1,\n",
       "log_level_replica=-1,\n",
       "log_on_each_node=True,\n",
       "logging_dir=./cos_e_output_t5_large/011223_230007,\n",
       "logging_first_step=False,\n",
       "logging_steps=3,\n",
       "logging_strategy=IntervalStrategy.STEPS,\n",
       "lr_scheduler_type=SchedulerType.LINEAR,\n",
       "max_grad_norm=1.0,\n",
       "max_steps=-1,\n",
       "metric_for_best_model=None,\n",
       "mp_parameters=,\n",
       "no_cuda=False,\n",
       "num_train_epochs=25,\n",
       "output_dir=./cos_e_output_t5_large/011223_230007,\n",
       "overwrite_output_dir=False,\n",
       "past_index=-1,\n",
       "per_device_eval_batch_size=8,\n",
       "per_device_train_batch_size=8,\n",
       "prediction_loss_only=False,\n",
       "push_to_hub=False,\n",
       "push_to_hub_model_id=cos_e_output_t5_large,\n",
       "push_to_hub_organization=None,\n",
       "push_to_hub_token=None,\n",
       "remove_unused_columns=True,\n",
       "report_to=['tensorboard', 'wandb'],\n",
       "resume_from_checkpoint=None,\n",
       "run_name=./cos_e_output_t5_large,\n",
       "save_on_each_node=False,\n",
       "save_steps=5,\n",
       "save_strategy=IntervalStrategy.STEPS,\n",
       "save_total_limit=None,\n",
       "seed=42,\n",
       "sharded_ddp=[],\n",
       "skip_memory_metrics=True,\n",
       "tpu_metrics_debug=False,\n",
       "tpu_num_cores=None,\n",
       "use_legacy_prediction_loop=False,\n",
       "warmup_ratio=0.0,\n",
       "warmup_steps=0,\n",
       "weight_decay=0.0,\n",
       ")"
      ]
     },
     "execution_count": 30,
     "metadata": {},
     "output_type": "execute_result"
    }
   ],
   "source": [
    "training_args"
   ]
  },
  {
   "cell_type": "code",
   "execution_count": 31,
   "id": "de79fb60",
   "metadata": {},
   "outputs": [
    {
     "data": {
      "text/plain": [
       "TrainingArguments(\n",
       "_n_gpu=1,\n",
       "adafactor=False,\n",
       "adam_beta1=0.9,\n",
       "adam_beta2=0.999,\n",
       "adam_epsilon=1e-08,\n",
       "dataloader_drop_last=False,\n",
       "dataloader_num_workers=0,\n",
       "dataloader_pin_memory=True,\n",
       "ddp_find_unused_parameters=None,\n",
       "debug=[],\n",
       "deepspeed=None,\n",
       "disable_tqdm=False,\n",
       "do_eval=True,\n",
       "do_predict=False,\n",
       "do_train=True,\n",
       "eval_accumulation_steps=None,\n",
       "eval_steps=None,\n",
       "evaluation_strategy=epoch,\n",
       "fp16=False,\n",
       "fp16_backend=auto,\n",
       "fp16_full_eval=False,\n",
       "fp16_opt_level=O1,\n",
       "gradient_accumulation_steps=1,\n",
       "greater_is_better=None,\n",
       "group_by_length=False,\n",
       "ignore_data_skip=False,\n",
       "label_names=None,\n",
       "label_smoothing_factor=0.0,\n",
       "learning_rate=5e-05,\n",
       "length_column_name=length,\n",
       "load_best_model_at_end=False,\n",
       "local_rank=-1,\n",
       "log_level=-1,\n",
       "log_level_replica=-1,\n",
       "log_on_each_node=True,\n",
       "logging_dir=./cos_e_output_t5_large/011223_230007,\n",
       "logging_first_step=False,\n",
       "logging_steps=3,\n",
       "logging_strategy=IntervalStrategy.STEPS,\n",
       "lr_scheduler_type=SchedulerType.LINEAR,\n",
       "max_grad_norm=1.0,\n",
       "max_steps=-1,\n",
       "metric_for_best_model=None,\n",
       "mp_parameters=,\n",
       "no_cuda=False,\n",
       "num_train_epochs=25,\n",
       "output_dir=./cos_e_output_t5_large/011223_230007,\n",
       "overwrite_output_dir=False,\n",
       "past_index=-1,\n",
       "per_device_eval_batch_size=8,\n",
       "per_device_train_batch_size=8,\n",
       "prediction_loss_only=False,\n",
       "push_to_hub=False,\n",
       "push_to_hub_model_id=cos_e_output_t5_large,\n",
       "push_to_hub_organization=None,\n",
       "push_to_hub_token=None,\n",
       "remove_unused_columns=True,\n",
       "report_to=['tensorboard', 'wandb'],\n",
       "resume_from_checkpoint=None,\n",
       "run_name=./cos_e_output_t5_large,\n",
       "save_on_each_node=False,\n",
       "save_steps=5,\n",
       "save_strategy=IntervalStrategy.STEPS,\n",
       "save_total_limit=None,\n",
       "seed=42,\n",
       "sharded_ddp=[],\n",
       "skip_memory_metrics=True,\n",
       "tpu_metrics_debug=False,\n",
       "tpu_num_cores=None,\n",
       "use_legacy_prediction_loop=False,\n",
       "warmup_ratio=0.0,\n",
       "warmup_steps=0,\n",
       "weight_decay=0.0,\n",
       ")"
      ]
     },
     "execution_count": 31,
     "metadata": {},
     "output_type": "execute_result"
    }
   ],
   "source": [
    "training_args.per_device_eval_batch_size=8\n",
    "training_args.per_device_train_batch_size=8\n",
    "training_args"
   ]
  },
  {
   "cell_type": "code",
   "execution_count": 32,
   "id": "e80480ec",
   "metadata": {},
   "outputs": [],
   "source": [
    "# data_splits = {'train': None, 'validation': None, 'test': None}\n",
    "# original_data_splits = {'train': None, 'validation': None, 'test': None}  \n",
    "# data_args.io_format=\"t5_fewshot_infilling_with_choices\"\n",
    "# # Data loading from huggingface's datasets\n",
    "# if data_args.task_name in {\"cos_e\", \"esnli\"}:\n",
    "#     version_arg = None\n",
    "#     if data_args.task_name == \"cos_e\":\n",
    "#         assert data_args.version_name in {\"v1.11\", \"v1.0\"}\n",
    "#         version_arg = data_args.version_name\n",
    "\n",
    "#     load_train = True\n",
    "#     if (not training_args.do_train\n",
    "#         and not training_args.do_eval\n",
    "#         and not data_args.train_predict\n",
    "#     ):\n",
    "#         # don't load training dataset\n",
    "#         dataset = {}\n",
    "#         dataset[\"train\"] = None\n",
    "#         dataset[\"validation\"] = datasets.load_dataset(\n",
    "#             data_args.task_name, version_arg, split=\"validation\"\n",
    "#         )\n",
    "#         data_splits['validation'] = dataset[\"validation\"]\n",
    "\n",
    "#         if data_args.task_name == \"esnli\":\n",
    "#             dataset[\"test\"] = datasets.load_dataset(data_args.task_name, split=\"test\")\n",
    "#             data_splits['test'] = dataset[\"test\"]\n",
    "#         load_train = False\n",
    "#     else:\n",
    "#         dataset = datasets.load_dataset(data_args.task_name, version_arg)\n",
    "\n",
    "#         if data_args.n_shots > 0: # Shots = number of training examples **per label** \n",
    "#             if data_args.task_name == 'esnli': # Construct a *balanced* random sample of the size `data_args.n_shots*len(labels)` (for train) or `data_args.fewshot_eval_size` (for eval)\n",
    "#                 for split in [\"train\", \"validation\", \"test\"]:\n",
    "#                     split_data = dataset[split]\n",
    "#                     label_subsets = []\n",
    "#                     labels = split_data.features['label'].names\n",
    "#                     sample_size = data_args.n_shots if split == \"train\" else int(data_args.fewshot_eval_size/len(labels))\n",
    "#                     if data_args.gpt3_max_eval_size is not None and split != 'train':\n",
    "#                         assert len(labels) == 3\n",
    "#                         sample_size = data_args.gpt3_max_eval_size // len(labels)\n",
    "#                     for label in labels:\n",
    "#                         # The following is a hack to only run on `neutral` labels of `esnli` to get data for human eval\n",
    "#                         # if data_args.gpt3_max_eval_size is not None and split != 'train' and label != 'neutral':\n",
    "#                         #     continue\n",
    "#                         label_int = split_data.features['label'].str2int(label)\n",
    "#                         label_set = split_data.filter(lambda example: example['label'] == label_int).shuffle() # all instances of labeled as `label`\n",
    "#                         label_subset = label_set.select(range(sample_size)) #select `sample_size` random instances labeled as `label`\n",
    "#                         label_subsets.append(label_subset)\n",
    "#                     dataset[split] = datasets.concatenate_datasets(label_subsets) #merge all label-specific instances\n",
    "#             elif data_args.task_name == 'cos_e': \n",
    "#                 for split in [\"train\", \"validation\"]: \n",
    "#                     split_data = dataset[split]\n",
    "#                     sample_size = data_args.n_shots if split == \"train\" else int(data_args.fewshot_eval_size) #Shots for QA are not label-specific, i.e., `n_shots` is the training data size\n",
    "#                     if data_args.gpt3_max_eval_size is not None and split != 'train':\n",
    "#                         sample_size = data_args.gpt3_max_eval_size\n",
    "#                     dataset[split] = split_data#.shuffle().select(range(sample_size)) # select `sample_size` random instances\n",
    "#             else: \n",
    "#                 raise ValueError('Only cos_e and esnli are supported by Huggingface datasets.')\n",
    "#     # Apply method, and format dataset to torch.Tensor outputs\n",
    "# #     fse_csqa_train_file=\"/cognitive_comp/huangyongfeng/evaluate_LM_with_rationalization/few_shot_explanations/data/acceptability_annotations/commonsenseqa_train.csv\"\n",
    "# #     fse_csqa_dev_file=\"/cognitive_comp/huangyongfeng/evaluate_LM_with_rationalization/few_shot_explanations/data/acceptability_annotations/commonsenseqa_test.csv\"\n",
    "# #     fse_csqa_train_dataset = datasets.load_dataset('csv', data_files=fse_csqa_train_file)\n",
    "# #     fse_csqa_dev_dataset = datasets.load_dataset('csv', data_files=fse_csqa_dev_file)\n",
    "# #     train_ids_list=[x['id'] for x in data_splits[\"train\"]]\n",
    "# #     dev_ids_list=[x['id'] for x in data_splits[\"validation\"]]\n",
    "# #     fse_train_ids_list=[x['Input.id'] for x in fse_csqa_train_dataset['train']]\n",
    "# #     fse_dev_ids_list=[x['Input.id'] for x in fse_csqa_dev_dataset['train']]\n",
    "# #     fse_train_indexs_list=[train_ids_list.index(id_) for id_ in fse_train_ids_list]\n",
    "# #     fse_dev_indexs_list=[dev_ids_list.index(id_) for id_ in fse_dev_ids_list]\n",
    "# #     print(len(fse_train_indexs_list), len(fse_dev_indexs_list))\n",
    "# #     # print(fse_train_indexs_list,fse_dev_indexs_list)\n",
    "# #     fse_data_splits={}\n",
    "# #     data_splits['train']=data_splits[\"train\"].select(fse_train_indexs_list)\n",
    "# #     data_splits['validation']=data_splits[\"validation\"].select(fse_train_indexs_list)\n",
    "#     for split in dataset.keys():\n",
    "#         if dataset[split] is not None:\n",
    "#             dataset[split] = dataset[split].map(\n",
    "#                 lambda x: format_instance(\n",
    "#                     x,\n",
    "#                     tokenizer,\n",
    "#                     data_args.explanation_sep,\n",
    "#                     datasource=data_args.task_name,\n",
    "#                     io_format=data_args.io_format\n",
    "#                 ),\n",
    "#                 batched=False,\n",
    "#                 load_from_cache_file=False,\n",
    "#             )\n",
    "#     data_splits[\"train\"] = deepcopy(dataset[\"train\"])\n",
    "#     data_splits[\"validation\"] = deepcopy(dataset[\"validation\"])\n",
    "#     if data_args.task_name == \"esnli\":\n",
    "#         data_splits[\"test\"] = deepcopy(dataset[\"test\"])\n",
    "\n",
    "#     original_data_splits[\"train\"] = deepcopy(dataset[\"train\"])\n",
    "#     original_data_splits[\"validation\"] = deepcopy(dataset[\"validation\"])\n",
    "#     if data_args.task_name == \"esnli\":\n",
    "#         original_data_splits[\"test\"] = deepcopy(dataset[\"test\"])"
   ]
  },
  {
   "cell_type": "code",
   "execution_count": 33,
   "id": "2f4cb867",
   "metadata": {},
   "outputs": [],
   "source": [
    "# import pandas as pd\n",
    "# # new_data_splits={'train': None, 'validation': None}\n",
    "# # new_data_splits['train']=deepcopy(dataset[\"train\"])\n",
    "# # new_data_splits['validation']=deepcopy(dataset[\"validation\"])\n",
    "# fse_csqa_train_file=\"/cognitive_comp/huangyongfeng/evaluate_LM_with_rationalization/few_shot_explanations/data/acceptability_annotations/commonsenseqa_train.csv\"\n",
    "# fse_csqa_dev_file=\"/cognitive_comp/huangyongfeng/evaluate_LM_with_rationalization/few_shot_explanations/data/acceptability_annotations/commonsenseqa_test.csv\"\n",
    "# # fse_csqa_train_dataset = datasets.load_dataset('csv', data_files=fse_csqa_train_file)\n",
    "# # fse_csqa_dev_dataset = datasets.load_dataset('csv', data_files=fse_csqa_dev_file)\n",
    "\n",
    "# train_df=pd.read_csv(fse_csqa_train_file)\n",
    "\n",
    "# dev_df=pd.read_csv(fse_csqa_dev_file)\n",
    "\n",
    "# dev_df\n"
   ]
  },
  {
   "cell_type": "code",
   "execution_count": 34,
   "id": "42739e9b",
   "metadata": {},
   "outputs": [],
   "source": [
    "# len(fse_train_ids_list),len(list(set(fse_train_ids_list)))"
   ]
  },
  {
   "cell_type": "code",
   "execution_count": 35,
   "id": "c78ea825",
   "metadata": {},
   "outputs": [],
   "source": [
    "# train_ids_list=[x['id'] for x in data_splits[\"train\"]]\n",
    "# dev_ids_list=[x['id'] for x in data_splits[\"validation\"]]\n",
    "# fse_train_ids_list=[x['Input.id'] for x in fse_csqa_train_dataset['train']]\n",
    "# fse_dev_ids_list=[x['Input.id'] for x in fse_csqa_dev_dataset['train']]\n"
   ]
  },
  {
   "cell_type": "code",
   "execution_count": 36,
   "id": "80395518",
   "metadata": {},
   "outputs": [],
   "source": [
    "# fse_train_indexs_list=[train_ids_list.index(id_) for id_ in fse_train_ids_list]\n",
    "# fse_dev_indexs_list=[dev_ids_list.index(id_) for id_ in fse_dev_ids_list]\n",
    "# print(len(fse_train_indexs_list), len(fse_dev_indexs_list))\n",
    "# # print(fse_train_indexs_list,fse_dev_indexs_list)\n",
    "# fse_data_splits={}\n",
    "# fse_data_splits['train']=data_splits[\"train\"].select(fse_train_indexs_list)\n",
    "# fse_data_splits['validation']=data_splits[\"validation\"].select(fse_train_indexs_list)"
   ]
  },
  {
   "cell_type": "code",
   "execution_count": 37,
   "id": "4d186954",
   "metadata": {},
   "outputs": [],
   "source": [
    "# fse_csqa_train_dataset['train'][0].keys()"
   ]
  },
  {
   "cell_type": "code",
   "execution_count": 38,
   "id": "66dd71d4",
   "metadata": {},
   "outputs": [],
   "source": [
    "class SequenceCollator:\n",
    "    def __init__(self, model, pad_token):\n",
    "        self.model = model\n",
    "        self.pad_token_mapping = {\n",
    "            \"labels\": -100,\n",
    "            \"attention_mask\": 0,\n",
    "            \"decoder_attention_mask\": 0,\n",
    "            \"input_ids\": pad_token,\n",
    "        }\n",
    "\n",
    "        self.columns = [\n",
    "            \"input_ids\",\n",
    "            \"attention_mask\",\n",
    "            \"labels\",\n",
    "            \"decoder_attention_mask\",\n",
    "        ]\n",
    "\n",
    "    def __call__(self, examples: List[Dict[str, InputDataClass]]) -> Dict[str, torch.Tensor]:\n",
    "        # re-format inputs for training\n",
    "        batch = {}\n",
    "        for key in examples[0].keys():\n",
    "            if key in self.columns:\n",
    "                tmp_list = []\n",
    "                for item in examples:\n",
    "                    tmp_list.append(item[key])\n",
    "\n",
    "                # pad lists to max length\n",
    "                if isinstance(tmp_list[0], list):\n",
    "                    max_length = max(map(len, tmp_list))\n",
    "                    tmp_list = [\n",
    "                        el + [self.pad_token_mapping[key]] * (max_length - len(el))\n",
    "                        for el in tmp_list\n",
    "                    ]\n",
    "\n",
    "                batch[key] = torch.tensor(tmp_list, dtype=torch.long)\n",
    "        return batch"
   ]
  },
  {
   "cell_type": "code",
   "execution_count": 39,
   "id": "f144515d",
   "metadata": {},
   "outputs": [
    {
     "name": "stderr",
     "output_type": "stream",
     "text": [
      "You are adding a <class 'transformers.integrations.TensorBoardCallback'> to the callbacks of this Trainer, but there is already one. The currentlist of callbacks is\n",
      ":DefaultFlowCallback\n",
      "TensorBoardCallback\n",
      "WandbCallback\n",
      "The following columns in the training set  don't have a corresponding argument in `T5ForConditionalGeneration.forward` and have been ignored: id, choices, question_encoding, abstractive_explanation, answer, question, extractive_explanation, our_explanation.\n",
      "***** Running training *****\n",
      "  Num examples = 72\n",
      "  Num Epochs = 25\n",
      "  Instantaneous batch size per device = 8\n",
      "  Total train batch size (w. parallel, distributed & accumulation) = 8\n",
      "  Gradient Accumulation steps = 1\n",
      "  Total optimization steps = 225\n",
      "Automatic Weights & Biases logging enabled, to disable set os.environ[\"WANDB_DISABLED\"] = \"true\"\n"
     ]
    },
    {
     "data": {
      "text/html": [
       "Changes to your `wandb` environment variables will be ignored because your `wandb` session has already started. For more information on how to modify your settings with `wandb.init()` arguments, please refer to <a href=\"https://wandb.me/wandb-init\" target=\"_blank\">the W&B docs</a>."
      ],
      "text/plain": [
       "<IPython.core.display.HTML object>"
      ]
     },
     "metadata": {},
     "output_type": "display_data"
    },
    {
     "data": {
      "text/html": [
       "wandb version 0.13.8 is available!  To upgrade, please run:\n",
       " $ pip install wandb --upgrade"
      ],
      "text/plain": [
       "<IPython.core.display.HTML object>"
      ]
     },
     "metadata": {},
     "output_type": "display_data"
    },
    {
     "data": {
      "text/html": [
       "Tracking run with wandb version 0.13.5"
      ],
      "text/plain": [
       "<IPython.core.display.HTML object>"
      ]
     },
     "metadata": {},
     "output_type": "display_data"
    },
    {
     "data": {
      "text/html": [
       "Run data is saved locally in <code>/cognitive_comp/huangyongfeng/evaluate_LM_with_rationalization/scripts/wandb/run-20230112_230234-o509r0j7</code>"
      ],
      "text/plain": [
       "<IPython.core.display.HTML object>"
      ]
     },
     "metadata": {},
     "output_type": "display_data"
    },
    {
     "data": {
      "text/html": [
       "Syncing run <strong><a href=\"https://wandb.ai/cuhk_lavilab/evaluate_LM_with_rationalization/runs/o509r0j7\" target=\"_blank\">./cos_e_output_t5_large</a></strong> to <a href=\"https://wandb.ai/cuhk_lavilab/evaluate_LM_with_rationalization\" target=\"_blank\">Weights & Biases</a> (<a href=\"https://wandb.me/run\" target=\"_blank\">docs</a>)<br/>"
      ],
      "text/plain": [
       "<IPython.core.display.HTML object>"
      ]
     },
     "metadata": {},
     "output_type": "display_data"
    },
    {
     "data": {
      "text/html": [
       "\n",
       "    <div>\n",
       "      \n",
       "      <progress value='225' max='225' style='width:300px; height:20px; vertical-align: middle;'></progress>\n",
       "      [225/225 06:50, Epoch 25/25]\n",
       "    </div>\n",
       "    <table border=\"1\" class=\"dataframe\">\n",
       "  <thead>\n",
       "    <tr style=\"text-align: left;\">\n",
       "      <th>Step</th>\n",
       "      <th>Training Loss</th>\n",
       "      <th>Validation Loss</th>\n",
       "    </tr>\n",
       "  </thead>\n",
       "  <tbody>\n",
       "  </tbody>\n",
       "</table><p>"
      ],
      "text/plain": [
       "<IPython.core.display.HTML object>"
      ]
     },
     "metadata": {},
     "output_type": "display_data"
    },
    {
     "name": "stderr",
     "output_type": "stream",
     "text": [
      "Saving model checkpoint to ./cos_e_output_t5_large/011223_230007/checkpoint-5\n",
      "Configuration saved in ./cos_e_output_t5_large/011223_230007/checkpoint-5/config.json\n",
      "Model weights saved in ./cos_e_output_t5_large/011223_230007/checkpoint-5/pytorch_model.bin\n",
      "Saving model checkpoint to ./cos_e_output_t5_large/011223_230007/checkpoint-10\n",
      "Configuration saved in ./cos_e_output_t5_large/011223_230007/checkpoint-10/config.json\n",
      "Model weights saved in ./cos_e_output_t5_large/011223_230007/checkpoint-10/pytorch_model.bin\n",
      "Saving model checkpoint to ./cos_e_output_t5_large/011223_230007/checkpoint-15\n",
      "Configuration saved in ./cos_e_output_t5_large/011223_230007/checkpoint-15/config.json\n",
      "Model weights saved in ./cos_e_output_t5_large/011223_230007/checkpoint-15/pytorch_model.bin\n",
      "Saving model checkpoint to ./cos_e_output_t5_large/011223_230007/checkpoint-20\n",
      "Configuration saved in ./cos_e_output_t5_large/011223_230007/checkpoint-20/config.json\n",
      "Model weights saved in ./cos_e_output_t5_large/011223_230007/checkpoint-20/pytorch_model.bin\n",
      "Saving model checkpoint to ./cos_e_output_t5_large/011223_230007/checkpoint-25\n",
      "Configuration saved in ./cos_e_output_t5_large/011223_230007/checkpoint-25/config.json\n",
      "Model weights saved in ./cos_e_output_t5_large/011223_230007/checkpoint-25/pytorch_model.bin\n",
      "Saving model checkpoint to ./cos_e_output_t5_large/011223_230007/checkpoint-30\n",
      "Configuration saved in ./cos_e_output_t5_large/011223_230007/checkpoint-30/config.json\n",
      "Model weights saved in ./cos_e_output_t5_large/011223_230007/checkpoint-30/pytorch_model.bin\n",
      "Saving model checkpoint to ./cos_e_output_t5_large/011223_230007/checkpoint-35\n",
      "Configuration saved in ./cos_e_output_t5_large/011223_230007/checkpoint-35/config.json\n",
      "Model weights saved in ./cos_e_output_t5_large/011223_230007/checkpoint-35/pytorch_model.bin\n",
      "Saving model checkpoint to ./cos_e_output_t5_large/011223_230007/checkpoint-40\n",
      "Configuration saved in ./cos_e_output_t5_large/011223_230007/checkpoint-40/config.json\n",
      "Model weights saved in ./cos_e_output_t5_large/011223_230007/checkpoint-40/pytorch_model.bin\n",
      "Saving model checkpoint to ./cos_e_output_t5_large/011223_230007/checkpoint-45\n",
      "Configuration saved in ./cos_e_output_t5_large/011223_230007/checkpoint-45/config.json\n",
      "Model weights saved in ./cos_e_output_t5_large/011223_230007/checkpoint-45/pytorch_model.bin\n",
      "Saving model checkpoint to ./cos_e_output_t5_large/011223_230007/checkpoint-50\n",
      "Configuration saved in ./cos_e_output_t5_large/011223_230007/checkpoint-50/config.json\n",
      "Model weights saved in ./cos_e_output_t5_large/011223_230007/checkpoint-50/pytorch_model.bin\n",
      "Saving model checkpoint to ./cos_e_output_t5_large/011223_230007/checkpoint-55\n",
      "Configuration saved in ./cos_e_output_t5_large/011223_230007/checkpoint-55/config.json\n",
      "Model weights saved in ./cos_e_output_t5_large/011223_230007/checkpoint-55/pytorch_model.bin\n",
      "Saving model checkpoint to ./cos_e_output_t5_large/011223_230007/checkpoint-60\n",
      "Configuration saved in ./cos_e_output_t5_large/011223_230007/checkpoint-60/config.json\n",
      "Model weights saved in ./cos_e_output_t5_large/011223_230007/checkpoint-60/pytorch_model.bin\n",
      "Saving model checkpoint to ./cos_e_output_t5_large/011223_230007/checkpoint-65\n",
      "Configuration saved in ./cos_e_output_t5_large/011223_230007/checkpoint-65/config.json\n",
      "Model weights saved in ./cos_e_output_t5_large/011223_230007/checkpoint-65/pytorch_model.bin\n",
      "Saving model checkpoint to ./cos_e_output_t5_large/011223_230007/checkpoint-70\n",
      "Configuration saved in ./cos_e_output_t5_large/011223_230007/checkpoint-70/config.json\n",
      "Model weights saved in ./cos_e_output_t5_large/011223_230007/checkpoint-70/pytorch_model.bin\n",
      "Saving model checkpoint to ./cos_e_output_t5_large/011223_230007/checkpoint-75\n",
      "Configuration saved in ./cos_e_output_t5_large/011223_230007/checkpoint-75/config.json\n",
      "Model weights saved in ./cos_e_output_t5_large/011223_230007/checkpoint-75/pytorch_model.bin\n",
      "Saving model checkpoint to ./cos_e_output_t5_large/011223_230007/checkpoint-80\n",
      "Configuration saved in ./cos_e_output_t5_large/011223_230007/checkpoint-80/config.json\n",
      "Model weights saved in ./cos_e_output_t5_large/011223_230007/checkpoint-80/pytorch_model.bin\n",
      "Saving model checkpoint to ./cos_e_output_t5_large/011223_230007/checkpoint-85\n",
      "Configuration saved in ./cos_e_output_t5_large/011223_230007/checkpoint-85/config.json\n",
      "Model weights saved in ./cos_e_output_t5_large/011223_230007/checkpoint-85/pytorch_model.bin\n",
      "Saving model checkpoint to ./cos_e_output_t5_large/011223_230007/checkpoint-90\n",
      "Configuration saved in ./cos_e_output_t5_large/011223_230007/checkpoint-90/config.json\n",
      "Model weights saved in ./cos_e_output_t5_large/011223_230007/checkpoint-90/pytorch_model.bin\n",
      "Saving model checkpoint to ./cos_e_output_t5_large/011223_230007/checkpoint-95\n",
      "Configuration saved in ./cos_e_output_t5_large/011223_230007/checkpoint-95/config.json\n",
      "Model weights saved in ./cos_e_output_t5_large/011223_230007/checkpoint-95/pytorch_model.bin\n",
      "Saving model checkpoint to ./cos_e_output_t5_large/011223_230007/checkpoint-100\n",
      "Configuration saved in ./cos_e_output_t5_large/011223_230007/checkpoint-100/config.json\n",
      "Model weights saved in ./cos_e_output_t5_large/011223_230007/checkpoint-100/pytorch_model.bin\n",
      "Saving model checkpoint to ./cos_e_output_t5_large/011223_230007/checkpoint-105\n",
      "Configuration saved in ./cos_e_output_t5_large/011223_230007/checkpoint-105/config.json\n",
      "Model weights saved in ./cos_e_output_t5_large/011223_230007/checkpoint-105/pytorch_model.bin\n",
      "Saving model checkpoint to ./cos_e_output_t5_large/011223_230007/checkpoint-110\n",
      "Configuration saved in ./cos_e_output_t5_large/011223_230007/checkpoint-110/config.json\n",
      "Model weights saved in ./cos_e_output_t5_large/011223_230007/checkpoint-110/pytorch_model.bin\n",
      "Saving model checkpoint to ./cos_e_output_t5_large/011223_230007/checkpoint-115\n",
      "Configuration saved in ./cos_e_output_t5_large/011223_230007/checkpoint-115/config.json\n",
      "Model weights saved in ./cos_e_output_t5_large/011223_230007/checkpoint-115/pytorch_model.bin\n",
      "Saving model checkpoint to ./cos_e_output_t5_large/011223_230007/checkpoint-120\n",
      "Configuration saved in ./cos_e_output_t5_large/011223_230007/checkpoint-120/config.json\n",
      "Model weights saved in ./cos_e_output_t5_large/011223_230007/checkpoint-120/pytorch_model.bin\n",
      "Saving model checkpoint to ./cos_e_output_t5_large/011223_230007/checkpoint-125\n",
      "Configuration saved in ./cos_e_output_t5_large/011223_230007/checkpoint-125/config.json\n",
      "Model weights saved in ./cos_e_output_t5_large/011223_230007/checkpoint-125/pytorch_model.bin\n",
      "Saving model checkpoint to ./cos_e_output_t5_large/011223_230007/checkpoint-130\n",
      "Configuration saved in ./cos_e_output_t5_large/011223_230007/checkpoint-130/config.json\n",
      "Model weights saved in ./cos_e_output_t5_large/011223_230007/checkpoint-130/pytorch_model.bin\n",
      "Saving model checkpoint to ./cos_e_output_t5_large/011223_230007/checkpoint-135\n",
      "Configuration saved in ./cos_e_output_t5_large/011223_230007/checkpoint-135/config.json\n",
      "Model weights saved in ./cos_e_output_t5_large/011223_230007/checkpoint-135/pytorch_model.bin\n",
      "Saving model checkpoint to ./cos_e_output_t5_large/011223_230007/checkpoint-140\n",
      "Configuration saved in ./cos_e_output_t5_large/011223_230007/checkpoint-140/config.json\n",
      "Model weights saved in ./cos_e_output_t5_large/011223_230007/checkpoint-140/pytorch_model.bin\n",
      "Saving model checkpoint to ./cos_e_output_t5_large/011223_230007/checkpoint-145\n",
      "Configuration saved in ./cos_e_output_t5_large/011223_230007/checkpoint-145/config.json\n",
      "Model weights saved in ./cos_e_output_t5_large/011223_230007/checkpoint-145/pytorch_model.bin\n",
      "Saving model checkpoint to ./cos_e_output_t5_large/011223_230007/checkpoint-150\n",
      "Configuration saved in ./cos_e_output_t5_large/011223_230007/checkpoint-150/config.json\n",
      "Model weights saved in ./cos_e_output_t5_large/011223_230007/checkpoint-150/pytorch_model.bin\n",
      "Saving model checkpoint to ./cos_e_output_t5_large/011223_230007/checkpoint-155\n",
      "Configuration saved in ./cos_e_output_t5_large/011223_230007/checkpoint-155/config.json\n",
      "Model weights saved in ./cos_e_output_t5_large/011223_230007/checkpoint-155/pytorch_model.bin\n",
      "Saving model checkpoint to ./cos_e_output_t5_large/011223_230007/checkpoint-160\n",
      "Configuration saved in ./cos_e_output_t5_large/011223_230007/checkpoint-160/config.json\n"
     ]
    },
    {
     "name": "stderr",
     "output_type": "stream",
     "text": [
      "Model weights saved in ./cos_e_output_t5_large/011223_230007/checkpoint-160/pytorch_model.bin\n",
      "Saving model checkpoint to ./cos_e_output_t5_large/011223_230007/checkpoint-165\n",
      "Configuration saved in ./cos_e_output_t5_large/011223_230007/checkpoint-165/config.json\n",
      "Model weights saved in ./cos_e_output_t5_large/011223_230007/checkpoint-165/pytorch_model.bin\n",
      "Saving model checkpoint to ./cos_e_output_t5_large/011223_230007/checkpoint-170\n",
      "Configuration saved in ./cos_e_output_t5_large/011223_230007/checkpoint-170/config.json\n",
      "Model weights saved in ./cos_e_output_t5_large/011223_230007/checkpoint-170/pytorch_model.bin\n",
      "Saving model checkpoint to ./cos_e_output_t5_large/011223_230007/checkpoint-175\n",
      "Configuration saved in ./cos_e_output_t5_large/011223_230007/checkpoint-175/config.json\n",
      "Model weights saved in ./cos_e_output_t5_large/011223_230007/checkpoint-175/pytorch_model.bin\n",
      "Saving model checkpoint to ./cos_e_output_t5_large/011223_230007/checkpoint-180\n",
      "Configuration saved in ./cos_e_output_t5_large/011223_230007/checkpoint-180/config.json\n",
      "Model weights saved in ./cos_e_output_t5_large/011223_230007/checkpoint-180/pytorch_model.bin\n",
      "Saving model checkpoint to ./cos_e_output_t5_large/011223_230007/checkpoint-185\n",
      "Configuration saved in ./cos_e_output_t5_large/011223_230007/checkpoint-185/config.json\n",
      "Model weights saved in ./cos_e_output_t5_large/011223_230007/checkpoint-185/pytorch_model.bin\n",
      "Saving model checkpoint to ./cos_e_output_t5_large/011223_230007/checkpoint-190\n",
      "Configuration saved in ./cos_e_output_t5_large/011223_230007/checkpoint-190/config.json\n",
      "Model weights saved in ./cos_e_output_t5_large/011223_230007/checkpoint-190/pytorch_model.bin\n",
      "Saving model checkpoint to ./cos_e_output_t5_large/011223_230007/checkpoint-195\n",
      "Configuration saved in ./cos_e_output_t5_large/011223_230007/checkpoint-195/config.json\n",
      "Model weights saved in ./cos_e_output_t5_large/011223_230007/checkpoint-195/pytorch_model.bin\n",
      "Saving model checkpoint to ./cos_e_output_t5_large/011223_230007/checkpoint-200\n",
      "Configuration saved in ./cos_e_output_t5_large/011223_230007/checkpoint-200/config.json\n",
      "Model weights saved in ./cos_e_output_t5_large/011223_230007/checkpoint-200/pytorch_model.bin\n",
      "Saving model checkpoint to ./cos_e_output_t5_large/011223_230007/checkpoint-205\n",
      "Configuration saved in ./cos_e_output_t5_large/011223_230007/checkpoint-205/config.json\n",
      "Model weights saved in ./cos_e_output_t5_large/011223_230007/checkpoint-205/pytorch_model.bin\n",
      "Saving model checkpoint to ./cos_e_output_t5_large/011223_230007/checkpoint-210\n",
      "Configuration saved in ./cos_e_output_t5_large/011223_230007/checkpoint-210/config.json\n",
      "Model weights saved in ./cos_e_output_t5_large/011223_230007/checkpoint-210/pytorch_model.bin\n",
      "Saving model checkpoint to ./cos_e_output_t5_large/011223_230007/checkpoint-215\n",
      "Configuration saved in ./cos_e_output_t5_large/011223_230007/checkpoint-215/config.json\n",
      "Model weights saved in ./cos_e_output_t5_large/011223_230007/checkpoint-215/pytorch_model.bin\n",
      "Saving model checkpoint to ./cos_e_output_t5_large/011223_230007/checkpoint-220\n",
      "Configuration saved in ./cos_e_output_t5_large/011223_230007/checkpoint-220/config.json\n",
      "Model weights saved in ./cos_e_output_t5_large/011223_230007/checkpoint-220/pytorch_model.bin\n",
      "Saving model checkpoint to ./cos_e_output_t5_large/011223_230007/checkpoint-225\n",
      "Configuration saved in ./cos_e_output_t5_large/011223_230007/checkpoint-225/config.json\n",
      "Model weights saved in ./cos_e_output_t5_large/011223_230007/checkpoint-225/pytorch_model.bin\n",
      "\n",
      "\n",
      "Training completed. Do not forget to share your model on huggingface.co/models =)\n",
      "\n",
      "\n"
     ]
    },
    {
     "data": {
      "text/html": [
       "Waiting for W&B process to finish... <strong style=\"color:green\">(success).</strong>"
      ],
      "text/plain": [
       "<IPython.core.display.HTML object>"
      ]
     },
     "metadata": {},
     "output_type": "display_data"
    },
    {
     "data": {
      "text/html": [
       "<style>\n",
       "    table.wandb td:nth-child(1) { padding: 0 10px; text-align: left ; width: auto;} td:nth-child(2) {text-align: left ; width: 100%}\n",
       "    .wandb-row { display: flex; flex-direction: row; flex-wrap: wrap; justify-content: flex-start; width: 100% }\n",
       "    .wandb-col { display: flex; flex-direction: column; flex-basis: 100%; flex: 1; padding: 10px; }\n",
       "    </style>\n",
       "<div class=\"wandb-row\"><div class=\"wandb-col\"><h3>Run history:</h3><br/><table class=\"wandb\"><tr><td>train/epoch</td><td>▁▁▁▁▂▂▂▂▂▃▃▃▃▃▃▄▄▄▄▄▅▅▅▅▅▆▆▆▆▆▆▇▇▇▇▇████</td></tr><tr><td>train/global_step</td><td>▁▁▁▁▂▂▂▂▂▃▃▃▃▃▃▄▄▄▄▄▅▅▅▅▅▆▆▆▆▆▆▇▇▇▇▇████</td></tr><tr><td>train/learning_rate</td><td>████▇▇▇▇▇▆▆▆▆▆▆▅▅▅▅▅▅▄▄▄▄▄▃▃▃▃▃▃▂▂▂▂▂▁▁▁</td></tr><tr><td>train/loss</td><td>█▇▄▂▂▂▂▂▂▂▁▂▁▁▁▁▁▁▁▁▁▁▁▁▁▁▁▁▁▁▁▁▁▁▁▁▁▁▁▁</td></tr><tr><td>train/total_flos</td><td>▁</td></tr><tr><td>train/train_loss</td><td>▁</td></tr><tr><td>train/train_runtime</td><td>▁</td></tr><tr><td>train/train_samples_per_second</td><td>▁</td></tr><tr><td>train/train_steps_per_second</td><td>▁</td></tr></table><br/></div><div class=\"wandb-col\"><h3>Run summary:</h3><br/><table class=\"wandb\"><tr><td>train/epoch</td><td>25.0</td></tr><tr><td>train/global_step</td><td>225</td></tr><tr><td>train/learning_rate</td><td>0.0</td></tr><tr><td>train/loss</td><td>1.7841</td></tr><tr><td>train/total_flos</td><td>87157098086400.0</td></tr><tr><td>train/train_loss</td><td>2.43189</td></tr><tr><td>train/train_runtime</td><td>420.5262</td></tr><tr><td>train/train_samples_per_second</td><td>4.28</td></tr><tr><td>train/train_steps_per_second</td><td>0.535</td></tr></table><br/></div></div>"
      ],
      "text/plain": [
       "<IPython.core.display.HTML object>"
      ]
     },
     "metadata": {},
     "output_type": "display_data"
    },
    {
     "data": {
      "text/html": [
       "Synced <strong style=\"color:#cdcd00\">./cos_e_output_t5_large</strong>: <a href=\"https://wandb.ai/cuhk_lavilab/evaluate_LM_with_rationalization/runs/o509r0j7\" target=\"_blank\">https://wandb.ai/cuhk_lavilab/evaluate_LM_with_rationalization/runs/o509r0j7</a><br/>Synced 6 W&B file(s), 0 media file(s), 0 artifact file(s) and 0 other file(s)"
      ],
      "text/plain": [
       "<IPython.core.display.HTML object>"
      ]
     },
     "metadata": {},
     "output_type": "display_data"
    },
    {
     "data": {
      "text/html": [
       "Find logs at: <code>./wandb/run-20230112_230234-o509r0j7/logs</code>"
      ],
      "text/plain": [
       "<IPython.core.display.HTML object>"
      ]
     },
     "metadata": {},
     "output_type": "display_data"
    }
   ],
   "source": [
    "# os.environ[\"WANDB_DISABLED\"] = \"True\"\n",
    "if data_args.generations_filepath is None:\n",
    "    callbacks = [TensorBoardCallback()]\n",
    "    if data_args.early_stopping_patience > 0:\n",
    "        callbacks.append(EarlyStoppingCallback(early_stopping_patience=data_args.early_stopping_patience))\n",
    "        training_args.load_best_model_at_end = True\n",
    "    else:\n",
    "        training_args.load_best_model_at_end = False  # use the last model state\n",
    "    training_args.metric_for_best_model = 'eval_loss'\n",
    "    training_args.greater_is_better = False\n",
    "    if training_args.eval_steps is None:\n",
    "        training_args.evaluation_strategy = EvaluationStrategy.EPOCH\n",
    "    else:\n",
    "        training_args.evaluation_strategy = EvaluationStrategy.STEPS\n",
    "\n",
    "    trainer = Trainer(\n",
    "        model=model,\n",
    "        args=training_args,\n",
    "        train_dataset=our_data_splits['train'],\n",
    "        eval_dataset=our_data_splits['dev'],\n",
    "        data_collator=SequenceCollator(\n",
    "            model=model_class, pad_token=tokenizer.pad_token_id\n",
    "        ),\n",
    "        callbacks=callbacks,\n",
    "    )\n",
    "\n",
    "# Training. Don't train if it is use_gpt3\n",
    "if training_args.do_train and not model_args.use_gpt3:\n",
    "    start_time = time.time()\n",
    "    trainer.train()\n",
    "    train_time = time.time() - start_time\n",
    "    model = trainer.model\n",
    "    wandb.finish()\n",
    "else:\n",
    "    start_time = time.time()\n",
    "    train_time = time.time() - start_time"
   ]
  },
  {
   "cell_type": "code",
   "execution_count": 40,
   "id": "ade3c632",
   "metadata": {},
   "outputs": [],
   "source": [
    "# print(our_data_splits['dev'][0]['our_explanation'])\n",
    "# inp_ids=torch.tensor(our_data_splits['dev'][0][\"input_ids\"], device=model.device).reshape(1, -1)\n",
    "# out = model.generate(\n",
    "#                     inp_ids,\n",
    "#                     max_length=100,\n",
    "#                     pad_token_id=tokenizer.pad_token_id,\n",
    "#                     eos_token_id=tokenizer.eos_token_id,\n",
    "#                 )\n",
    "# skip_special_tokens = False if \"infilling\" in data_args.io_format else True\n",
    "# words = tokenizer.decode(out[0].tolist(), skip_special_tokens=skip_special_tokens)\n",
    "# print(words)"
   ]
  },
  {
   "cell_type": "code",
   "execution_count": 41,
   "id": "b88935f8",
   "metadata": {},
   "outputs": [],
   "source": [
    "# len(our_data_splits['dev']),len(our_data_splits['train'])"
   ]
  },
  {
   "cell_type": "code",
   "execution_count": 42,
   "id": "8eda472b",
   "metadata": {},
   "outputs": [],
   "source": [
    "# our_data_splits['dev']"
   ]
  },
  {
   "cell_type": "code",
   "execution_count": 43,
   "id": "77c15190",
   "metadata": {},
   "outputs": [],
   "source": [
    "# for da in our_data_splits['train']:\n",
    "#     print(\"*******\")\n",
    "#     print(\"question: {}\".format(da['question']))\n",
    "#     print(\"answer: {}\".format(da['answer']))\n",
    "#     print(\"choices: {}\".format(da['choices']))\n",
    "#     print(\"our_explanation: {}\".format(da['our_explanation']))\n",
    "#     inp_ids = torch.tensor(da[\"input_ids\"], device=model.device).reshape(1, -1)\n",
    "#     out = model.generate(\n",
    "#                     inp_ids,\n",
    "#                     max_length=100,\n",
    "#                     pad_token_id=tokenizer.pad_token_id,\n",
    "#                     eos_token_id=tokenizer.eos_token_id,\n",
    "#                 )\n",
    "#     skip_special_tokens = False if \"infilling\" in data_args.io_format else True\n",
    "#     words = tokenizer.decode(out[0].tolist(), skip_special_tokens=skip_special_tokens)\n",
    "#     print(\"generated explanation: {}\".format(words))\n",
    "#     print(\"#######\")"
   ]
  },
  {
   "cell_type": "code",
   "execution_count": 44,
   "id": "2ca6cbe4",
   "metadata": {},
   "outputs": [],
   "source": [
    "# for da in our_data_splits['dev']:\n",
    "#     print(\"*******\")\n",
    "#     print(\"question: {}\".format(da['question']))\n",
    "#     print(\"answer: {}\".format(da['answer']))\n",
    "#     print(\"choices: {}\".format(da['choices']))\n",
    "#     print(\"our_explanation: {}\".format(da['our_explanation']))\n",
    "#     inp_ids = torch.tensor(da[\"input_ids\"], device=model.device).reshape(1, -1)\n",
    "#     out = model.generate(\n",
    "#                     inp_ids,\n",
    "#                     max_length=100,\n",
    "#                     pad_token_id=tokenizer.pad_token_id,\n",
    "#                     eos_token_id=tokenizer.eos_token_id,\n",
    "#                 )\n",
    "#     skip_special_tokens = False if \"infilling\" in data_args.io_format else True\n",
    "#     words = tokenizer.decode(out[0].tolist(), skip_special_tokens=skip_special_tokens)\n",
    "#     print(\"generated explanation: {}\".format(words))\n",
    "#     print(\"#######\")"
   ]
  },
  {
   "cell_type": "code",
   "execution_count": 45,
   "id": "69977540",
   "metadata": {},
   "outputs": [],
   "source": [
    "# good_model = T5ForConditionalGeneration.from_pretrained(\"./cos_e_output_t5_3b/112022_235539/checkpoint-30\")"
   ]
  },
  {
   "cell_type": "code",
   "execution_count": 46,
   "id": "62fca4b8",
   "metadata": {},
   "outputs": [],
   "source": [
    "# for da in our_data_splits['dev']:\n",
    "#     print(\"*******\")\n",
    "#     print(\"question: {}\".format(da['question']))\n",
    "#     print(\"answer: {}\".format(da['answer']))\n",
    "#     print(\"choices: {}\".format(da['choices']))\n",
    "#     print(\"our_explanation: {}\".format(da['our_explanation']))\n",
    "#     inp_ids = torch.tensor(da[\"input_ids\"], device=model.device).reshape(1, -1)\n",
    "#     out = good_model.generate(\n",
    "#                     inp_ids,\n",
    "#                     max_length=100,\n",
    "#                     pad_token_id=tokenizer.pad_token_id,\n",
    "#                     eos_token_id=tokenizer.eos_token_id,\n",
    "#                 )\n",
    "#     skip_special_tokens = False if \"infilling\" in data_args.io_format else True\n",
    "#     words = tokenizer.decode(out[0].tolist(), skip_special_tokens=skip_special_tokens)\n",
    "#     print(\"generated explanation: {}\".format(words))\n",
    "#     print(\"#######\")"
   ]
  },
  {
   "cell_type": "code",
   "execution_count": 47,
   "id": "3a7de102",
   "metadata": {},
   "outputs": [],
   "source": [
    "# train_output = trainer.evaluate(our_data_splits['train'].select([0,1,2,3,4]))\n",
    "# train_output"
   ]
  },
  {
   "cell_type": "code",
   "execution_count": 48,
   "id": "f43528ca",
   "metadata": {},
   "outputs": [],
   "source": [
    "# results = {}\n",
    "# if training_args.do_eval:\n",
    "#     start_time = time.time()\n",
    "#     logger.info(\"*** Evaluate on train set***\")\n",
    "#     logger.info(len(data_splits['train']))\n",
    "#     train_output = trainer.evaluate(our_data_splits['train'])\n",
    "#     perplexity = math.exp(train_output[\"eval_loss\"])\n",
    "#     results[\"perplexity_train\"] = perplexity\n",
    "\n",
    "#     # repeat\n",
    "#     logger.info(\"*** Evaluate on dev set***\")\n",
    "#     logger.info(len(data_splits['validation']))\n",
    "#     eval_output = trainer.evaluate(data_splits['validation'])\n",
    "#     perplexity = math.exp(eval_output[\"eval_loss\"])\n",
    "#     results[\"perplexity_validation\"] = perplexity"
   ]
  },
  {
   "cell_type": "markdown",
   "id": "3d2d2ec9",
   "metadata": {},
   "source": [
    "# Rationale Discriminator"
   ]
  },
  {
   "cell_type": "markdown",
   "id": "bd5eeaa4",
   "metadata": {},
   "source": [
    "## Construction of generated rationale and accepted rationale pairs\n"
   ]
  },
  {
   "cell_type": "code",
   "execution_count": 49,
   "id": "e7f1c257",
   "metadata": {},
   "outputs": [
    {
     "data": {
      "text/plain": [
       "250"
      ]
     },
     "execution_count": 49,
     "metadata": {},
     "output_type": "execute_result"
    }
   ],
   "source": [
    "len(fse_csqa_dev_data_dict)"
   ]
  },
  {
   "cell_type": "code",
   "execution_count": 50,
   "id": "c7bcb573",
   "metadata": {},
   "outputs": [
    {
     "name": "stderr",
     "output_type": "stream",
     "text": [
      "\r",
      "  0%|                                                                                                                                                                               | 0/986 [00:00<?, ?it/s]"
     ]
    },
    {
     "name": "stdout",
     "output_type": "stream",
     "text": [
      "*******\n",
      "question: Where can you likely buy many poems?\n",
      "answer: book store\n",
      "choices: ['book of poetry', 'literature book', 'book store', 'poetry book', 'bookshelf']\n",
      "common expl list: ['A bookstore sells a variety of books, including poetry books; chains of bookstores sometimes specialize in categories such as poetry or literature.', 'A book store is a place where you can buy books, including poetry books.']\n"
     ]
    },
    {
     "name": "stderr",
     "output_type": "stream",
     "text": [
      "\r",
      "  0%|▏                                                                                                                                                                    | 1/986 [00:06<1:51:54,  6.82s/it]"
     ]
    },
    {
     "name": "stdout",
     "output_type": "stream",
     "text": [
      "generated explanation: <pad> <extra_id_0> A book store is a place where you can likely buy many poems. Book stores are often the best places to buy many poems, since they often have a wide selection of poems, short stories, and short stories. Book stores are often the most popular places to buy poems, because they usually have a wide selection of poems to choose from. Book stores often have a wide selection of poems to choose from, because they have a wide selection of poems to choose from. Book stores also often have a large selection of poems, which can be a great places to buy many poems to purchase many short stories, short stories, and short stories to buy poems to purchase poems, which can be purchased from a short poem to a short stories, which is a good place to buy many poems. Book stores often have many poems to purchase, because they are often the best selection of poems to purchase. Book stores are often the best selection of poems to order. Book stores often have a good selection of poems to purchase. Book stores often have many different styles to choose from poetry.</s>\n",
      "########\n",
      "*******\n",
      "question: What could bringing suit do to a rivalry?\n",
      "answer: aggravation\n",
      "choices: ['going to court', 'randomness', 'anger', 'aggravation', 'tensions']\n",
      "common expl list: ['Bringing suit against a rival could aggravate the rivalry.']\n"
     ]
    },
    {
     "name": "stderr",
     "output_type": "stream",
     "text": [
      "\r",
      "  0%|▎                                                                                                                                                                    | 2/986 [00:08<1:06:10,  4.04s/it]"
     ]
    },
    {
     "name": "stdout",
     "output_type": "stream",
     "text": [
      "generated explanation: <pad> <extra_id_0> A rivalry could be a source of aggravation and aggravation for rivals. Bringing suit can also lead to aggravation. It can also lead to a rivalry between rivals. This can lead to aggravation and aggravation. It also increases the likelihood of a rivalry becoming a rivalry. It can also help to avoid a rivalry and reduce the amount of aggravation that can result from bringing suit. It can also help to prevent a rivalry from the rivalry from bringing suit. It can also help to bring a rivalry from bringing suit and help to win</s>\n",
      "########\n",
      "*******\n",
      "question: A person who yawns and paces to help pass the time is likely feeling what?\n",
      "answer: boredom\n",
      "choices: ['ridiculous', 'excitement', 'meanness', 'terrorism', 'boredom']\n",
      "common expl list: ['A bored person would pace and yawn to make time go by faster.', 'By yawning and pacing one shows signs of being bored.', 'Yawning and pacing is a sign of being bored, etc...']\n"
     ]
    },
    {
     "name": "stderr",
     "output_type": "stream",
     "text": [
      "\r",
      "  0%|▌                                                                                                                                                                    | 3/986 [00:16<1:30:07,  5.50s/it]"
     ]
    },
    {
     "name": "stdout",
     "output_type": "stream",
     "text": [
      "generated explanation: <pad> <extra_id_0> A person who yawns and paces to help pass the time is likely feeling something like boredom or boredom. Bordom is a form of boredom that can be triggered by a lack of sleep, which can cause a person to feel unproductive or unproductive. Boredom is a form of anxiety that can be triggered by a lack of sleep, or by a lack of energy, which can lead to a feeling of boredom. It can also be a form of physical and mental stress. It can also help to help pass the time. It can help to help to help you to pass the time. It can help you to pass the time. It can also help you to feel tired or tiredness. It can also help you to feel fatigue or feeling of boredom or other feelings that you are feeling. It can be a time that you are experiencing or experiencing something that you are experiencing.</s>\n",
      "########\n",
      "*******\n",
      "question: I only like fiction books, why should I read a non-fiction book?\n",
      "answer: knowledge\n",
      "choices: ['knowledge', 'been printed new', 'many words', 'for fun', 'cover']\n",
      "common expl list: ['Non-fiction books contain knowledge.']\n"
     ]
    },
    {
     "name": "stderr",
     "output_type": "stream",
     "text": [
      "\r",
      "  0%|▋                                                                                                                                                                    | 4/986 [00:18<1:10:31,  4.31s/it]"
     ]
    },
    {
     "name": "stdout",
     "output_type": "stream",
     "text": [
      "generated explanation: <pad> <extra_id_0> Non-fiction books are oftentimes a good choice for those who want to read more. Knowledge is the ability to understand the concepts and concepts behind each topic. Knowledge is the ability to analyze and process information, such as the structure of the story, the characters, and the characters. Knowledge is the ability to understand the world around us, and it is a necessity for those who want to read a non-fiction book. Knowledge is the ability to understand and process information, and knowledge is the key to understanding the world around us. Knowledge is the ability to understand why a non-fiction book is a necessity for those who prefer to read a non-fiction book to understand the world around the world. Knowledge is the ability to understand the world around them</s>\n",
      "########\n",
      "*******\n",
      "question: An American might hike a mountain north to get to what?\n",
      "answer: canada\n",
      "choices: ['canada', 'switzerland', 'orlando', 'austria', 'surface of earth']\n",
      "common expl list: ['If an American hiked north, they would likely end up in Canada.']\n"
     ]
    },
    {
     "name": "stderr",
     "output_type": "stream",
     "text": [
      "\r",
      "  1%|▊                                                                                                                                                                    | 5/986 [01:09<5:47:02, 21.23s/it]"
     ]
    },
    {
     "name": "stdout",
     "output_type": "stream",
     "text": [
      "generated explanation: <pad> <extra_id_0> An American might hike a mountain north to get to canada. This is a common route for travelers to reach canada. The mountain north is a good place to start as a tourist and a great place to explore. The north is a great place to explore and explore, as it is a great place to visit the outdoors and see the scenery. The north is also a great place to see the natural beauty of the surrounding mountains. The mountains are also great places to visit and see the people of the region. The mountains are also a great place to visit the people who have a great amount of natural beauty. The north is a great place to visit the north is a great place to visit, as it is a great place to visit. The north is a great place to visit and to see the people who have a great place to visit. The north is a place to visit, as it is a place to visit and visit. The north is a place to visit and visit. The north is a great place to visit and visit the north, as it is a place to visit, and the north is a place to visit, and the world to visit. The north is a place to visit and to visit and to visit and to visit the north and to visit the south. The north and to visit the north and south. The north and south. The north is a place to visit and visit the north south. The north is a place to visit the north and south. The north coast. The north coast is a place to visit the north coast. The north coast is a place to visit the north coast is a place to visit the north coast. The north coast is a place to visit the north coast. The northwestern coast coast. The northwestern coast. The northwestern coast. The northwestern coast. The northwestern tip. The northwestern coast is a place to visit the northwestern coast is a destination for a destination for a destination for those who hike to the northwestern coast. The northwestern coast is a destination of the northwestern coast is the gateway to the northwestern tip of the northwestern tip. The northwestern tip of the coast to the coast to the southwestern tip is the northwestern tip. The northwestern tip of the northwestern tip of the southwestern tip tip tip of the coast to the northwestern tip. The north\n",
      "########\n",
      "*******\n",
      "question: Sam spent most of his time standing up.  His job was hectic and he never got any rest. But he was the best cashier at his workplace.    Where might he work?\n",
      "answer: supermarket\n",
      "choices: ['bookstore', 'count till', 'supermarket', 'shop', 'preschool']\n",
      "common expl list: [\"The best cashiers work setting up lines of products, yhis is usually done from being on one's feet. Supermarkets use till systems to swipe credit cards, thus cashiering is done by standing up.\", 'Since one spends most of his time standing when working as a cashier, Sam probably works at a supermarket where groceries are sold. Because his workplace is full of activities and punten, he never gets any rest.']\n"
     ]
    },
    {
     "name": "stderr",
     "output_type": "stream",
     "text": [
      "\r",
      "  1%|█                                                                                                                                                                    | 6/986 [01:17<4:30:40, 16.57s/it]"
     ]
    },
    {
     "name": "stdout",
     "output_type": "stream",
     "text": [
      "generated explanation: <pad> <extra_id_0> Sam worked in a supermarket. Cashiers are essential to the success of a successful supermarket. They are the best places to work, especially if you are a busy person. They are also the best places to work. They are the best places to work, because they are the ones that have the most cashiers. They are also the best places to work, because they are the places where you can find the best cashiers. They are the best places to work because they have the best cashiers. They are the best places to work, because they are busy enough to work. They also have the best time and money. They have the best cashier. They are also the best place to work, because they are the best place to work, because they are the best cashier. They are the best place to work, and they have the best cashiers. They are the best place to work, because they have the best cashiers. They have the best cashiers, because they have the best cashiers. They have the best cashiers. They have the best cashiers. They have the best balance</s>\n",
      "########\n",
      "*******\n",
      "question: James raked fallen leaves into a pile. Where might he leave the pile?\n",
      "answer: ground\n",
      "choices: ['forest', 'roof', 'garden', 'tree', 'ground']\n",
      "common expl list: ['Leaves are often raked into piles on the ground.']\n"
     ]
    },
    {
     "name": "stderr",
     "output_type": "stream",
     "text": [
      "\r",
      "  1%|█▏                                                                                                                                                                   | 7/986 [01:52<6:10:55, 22.73s/it]"
     ]
    },
    {
     "name": "stdout",
     "output_type": "stream",
     "text": [
      "generated explanation: <pad> <extra_id_0> James raked fallen leaves into a pile. The pile was then left on the ground. The pile was then filled with fallen leaves, which were then emptied and discarded. The pile was then left on the ground. The leaves were discarded and James raked them into the pile. The pile was then filled with water and dried leaves, which were then tossed into the pile. The leaves were then discarded and discarded. The pile was then placed in a pile where they would be removed. The pile was then removed. James raked fallen leaves into the pile to avoid the pile and raked leaves. The leaves were discarded and discarded. The pile is then raked leaves into the pile. The leaves were removed to the pile. The pile was then raked into the pile. The pile to be discarded. The leaves were discarded pile and discarded pile. The pile was then retrieved and re-used as a pile and discarded pile. The pile and raked leaves into the pile and discarded and re-disposed pile and re-discarded and re-used to be composted to make a pile. The pile is re-discarded pile. The pile. The pile. The pile is then disposed of the pile. The pile. The pile. The pile. The pile. The leaves are then discarded to make the pile. The pile. The pile. The pile. The leaves are then re-used to the ground. The pile. The pile. The leaves are then re-used to make the pile. The pile. The pile. The pile. The pile. The pile. The pile. The pile. The pile was re--sampled into the pile. The pile. The pile. The pile. The pile. The pile. The pile. The pile is then re-disposed of the pile. The pile. The pile. The pile is then re-disposed of the pile. The pile. The pile is then re-disposed of the pile. The pile. The pile. The pile is then re-disposed of the pile. The pile. The pile. The pile. The pile is then re-disposed leaves are re-disposed leaves are re-disposed of the pile. The fallen leaves are then re-disposed leaves are buried in the pile. James discarded leaves\n",
      "########\n",
      "*******\n",
      "question: What happens when we fail at something we attempt?\n",
      "answer: leave\n",
      "choices: ['leave', 'give up', 'trying', 'we get shunned', 'fail']\n",
      "common expl list: [\"If we engage in an activity, like a sport, and fail, we don't want to continue doing it. It's much easier simply to leave.\", 'If we fail at something, we usually leave (quit) that activity; failing is an action, while giving up and trying are both ways of not acting.']\n"
     ]
    },
    {
     "name": "stderr",
     "output_type": "stream",
     "text": [
      "\r",
      "  1%|█▎                                                                                                                                                                   | 8/986 [01:55<4:26:11, 16.33s/it]"
     ]
    },
    {
     "name": "stdout",
     "output_type": "stream",
     "text": [
      "generated explanation: <pad> <extra_id_0> Failure is a failure that is often left behind when we fail at something we try. Failure is a form of failure that can be overcome by failing to succeed at something we try. Failure can be a result of a number of factors including the failure of the attempt, the failure of the attempt, the failure of the attempt, and the failure of the attempt. Failure is a form of failure that can be overcome by failure. Failure is a form of failure that is often a result of failure. Failure can be a result of failure at the attempt to succeed at the failure of the failure to succeed. Failure can be a failure to succeed at the failure of the failure to succeed. Failure is a failure to succeed at the failure to succeed at the failure to succeed at the failure of the failure to succeed at the failure to</s>\n",
      "########\n",
      "*******\n",
      "question: The referee wasn't specialized in one thing. He refereed many games.  He was offered a job but wasn't sure what it would be.  What did he know it would be?\n",
      "answer: sporting event\n",
      "choices: ['side with opponent', 'football', 'hockey game', 'part two boxers', 'sporting event']\n",
      "common expl list: ['Referees are specialized in sports, and so, they would be expected to know how to referee a sporting event.']\n"
     ]
    },
    {
     "name": "stderr",
     "output_type": "stream",
     "text": [
      "\r",
      "  1%|█▌                                                                                                                                                                   | 9/986 [02:55<8:07:50, 29.96s/it]"
     ]
    },
    {
     "name": "stdout",
     "output_type": "stream",
     "text": [
      "generated explanation: <pad> <extra_id_0> The referee was offered a job in a sporting event. He knew he was offered a sporting event because he was not specialized in one thing. He knew it would be a sport. He knew it would be a sport because it was a sport. He knew it would be a sport because it was a sport. He knew it would be a job for him to referee. He knew it would be a job that would be specialized in a sport. He knew it would be a sport because he knew it would be specialized in a sport. He knew it would be specialized in referees. He knew it would be a sport because he knew it would be specialized in a sport meant to refereeing events. He knew it would be specialized in a sport. He knew it would be specialized in sport. He knew it would be specialized in a sport. He knew it would be a sport and it would be specialized in the sport. He knew it would be specialized in specialized in a sport. He knew it would be specialized in a sport. He knew it would be specialized in a sport and it would be specialized in the sport. He knew it would be a sport. He knew it would be a sporting event. He knew it would be specialized in the sport. He knew it would be specialized in the sport. He knew it would be specialized in the sport. He knew it would be a sport. He knew it would be a sport. He knew it would be a sport would be a sport would be a sport. He knew it would be a sport. He knew it would be a sport. He knew it would be specialized in a sport. He knew it would be a sport. He knew it would be a sport. He knew it would be a sport. He knew it would be a sport. He knew it would be a sport. He knew it would be a sport. He knew it would be a sport. He knew it would be a sport. He knew it would be a sport. He knew it would be a sport. He knew it would be a sport. He knew it would be a sport. He knew it would be a sport. He knew\n",
      "########\n",
      "*******\n",
      "question: Susan threw the highly elastic ball at the wall.  The ball did what?\n",
      "answer: rebound\n",
      "choices: ['bounce', 'recoil', 'rebound', 'underwear', 'stretch']\n",
      "common expl list: ['Elastic balls collide with the wall, and boom bounce back after a collision.']\n"
     ]
    },
    {
     "name": "stderr",
     "output_type": "stream",
     "text": [
      "\r",
      "  1%|█▋                                                                                                                                                                  | 10/986 [02:56<5:44:37, 21.19s/it]"
     ]
    },
    {
     "name": "stdout",
     "output_type": "stream",
     "text": [
      "generated explanation: <pad> <extra_id_0> The ball rebounded and the ball did what? It bounced off the wall and bounced backwards. The ball bounced off the wall and into the wall. The rebound did not cause any damage, but the rebound did cause a lot of damage to the wall. The ball rebounded and reacted like a ball did nothing else. The ball bounced back and forth with the ball. The rebound was a result of the ball's impact on the wall, which Susan felt was able to control and control the ball.</s>\n",
      "########\n",
      "*******\n",
      "question: John lived in a small island surrounded by flowing liquid H2O   Where might he live?\n",
      "answer: mississippi river\n",
      "choices: ['japan', 'hawaii', 'mississippi river', 'pacific ocean', 'body of water']\n",
      "common expl list: ['there are numerous islands in the mississippi river in the united states, making it possible that John may have lived on one.']\n"
     ]
    },
    {
     "name": "stderr",
     "output_type": "stream",
     "text": [
      "\r",
      "  1%|█▊                                                                                                                                                                  | 11/986 [02:59<4:10:10, 15.40s/it]"
     ]
    },
    {
     "name": "stdout",
     "output_type": "stream",
     "text": [
      "generated explanation: <pad> <extra_id_0> John lived in a small island surrounded by flowing fluid H2O where he lived in a small island surrounded by flowing liquid H2O. The flowing water of the mississippi river could be used to provide a buffer for John's life. The river could also provide John with a place to stay in the summer months, when he could enjoy the fresh air of the river and the fresh air of the river. The river could also provide John with a place to live in, and the island could also provide John with the help of the river. The river could also provide a place to live in, and the river could also provide John with the help of the island. The river could also provide John with a place to live in</s>\n",
      "########\n",
      "*******\n",
      "question: What will the student have to do on the test?\n",
      "answer: solve equation\n",
      "choices: ['finish college', 'begin teaching', 'write', 'answer question', 'solve equation']\n",
      "common expl list: ['A student has to solve equations to learn a given theory that is presented in class.']\n"
     ]
    },
    {
     "name": "stderr",
     "output_type": "stream",
     "text": [
      "\r",
      "  1%|█▉                                                                                                                                                                  | 12/986 [03:02<3:09:16, 11.66s/it]"
     ]
    },
    {
     "name": "stdout",
     "output_type": "stream",
     "text": [
      "generated explanation: <pad> <extra_id_0> The student must solve an equation in order to pass the test. The student will have to solve an equation by solving a problem in order to pass the test. The student will have to solve the equation by solving the problem. The student will have to solve the problem in order to be able to pass the test. The student will have to solve the equation by solving the problem. The student will have to solve the equation by solving the equation. The student will have to solve the equation by solving the equation. The student will also have to solve the problem by solving the equation. The student will have to solve the equation by solving the equation. The student will have to solve the equation by solving the equation. The student will have to solve the equation by solving the equation. The student will have to solve the equation and the student to solve the equation by solving the equation.<extra_id_1> </s>\n",
      "########\n",
      "*******\n",
      "question: The tourists saw what they thought was a statue, but they soon discovered it was performance art went it began what?\n",
      "answer: moving\n",
      "choices: ['growing mold', 'moving', 'accent garden', 'green', 'painting']\n",
      "common expl list: ['Performance art is art that is performed, rather than being a static object. In this case, the statue was moving, which is a sign of performance art.']\n"
     ]
    },
    {
     "name": "stderr",
     "output_type": "stream",
     "text": [
      "\r",
      "  1%|██▏                                                                                                                                                                 | 13/986 [03:54<6:30:20, 24.07s/it]"
     ]
    },
    {
     "name": "stdout",
     "output_type": "stream",
     "text": [
      "generated explanation: <pad> <extra_id_0> The tourists saw what they thought was a statue, but they soon discovered it was performance art. Moving objects are used to create a performance that is accompanied by a piece of music, dance, or movement. Moving objects are used to create a movement, which is often performed by a performer or a dancer. Moving objects are often used as a form of performance art, which is often performed by a performer or performer. Moving objects are often used to create a movement, which is often accompanied by a moving statue of a moving act, which is often accompanied by moving objects. Moving objects are often used to create a performance art form that is used to create a performance art form, which is a performance art form. Moving objects are used to create a performance art form that is acting or a performance art form, which is performed by a performance art form, which is performed by the performer or performer, or other performers, or as a performance art, or as a performance art form, or as a performance art form, or as a performance art, or as a performance art form, or as a performance art form, or as a performance art form, or as a performance art, as a performance art form, or as a performance art form, as a performance art form, as a performance art form, as a performance art, in a performance art, in a performance art form, as a performance art form, as a performance art, as it is a performance art, as a performance art, as a performance art, as a performance art, as a performance art, as a performance art, as a performance art, or as a performance art. The performance art, in the performing art, as a performance art, as a performance art, or performance art, as a performance art, as the performance art, as a performance art, or performing art, or as a performance art, or as a performance art, as a performance art, as a performance art, or performance art, or performance art, or performance art, or performance art, a performance art, or performance art, or performance art, the performance art, or the art that is, or the art that is, or the art that is, a performance art,\n",
      "########\n",
      "*******\n",
      "question: What is a good way to carry a small dog?\n",
      "answer: backpack\n",
      "choices: ['good hands', 'backpack', 'chinese food', 'grocery bag', 'basket']\n",
      "common expl list: ['Backpacks are a good way to carry things, and small dogs are things.']\n"
     ]
    },
    {
     "name": "stderr",
     "output_type": "stream",
     "text": [
      "\r",
      "  1%|██▎                                                                                                                                                                 | 14/986 [03:57<4:43:56, 17.53s/it]"
     ]
    },
    {
     "name": "stdout",
     "output_type": "stream",
     "text": [
      "generated explanation: <pad> <extra_id_0> A backpack is a good way to carry a small dog. It is a great way to carry a small dog around with you. It is also a great way to carry a small dog around with you. It also provides a place to keep a good grip on the dog’s body and can help prevent injury. It also helps to carry small toys such as a leash and a carrier. It also allows you to carry a dog around the house and can help keep them safe. It is also a backpack is a great way to keep a small dog around with you. It is also a great way to keep a small dog. It is also a good way to keep a small dog safe and pet</s>\n",
      "########\n",
      "*******\n",
      "question: Both sides in World War I used what to cause death that is now banned?\n",
      "answer: poisonous gas\n",
      "choices: ['homicide', 'poisonous gas', 'cyanide', 'nuclear weapons', 'massive weapons']\n",
      "common expl list: ['Poison gas is a chemical known for its ability to kill (therefore, if both sides used it, people on both sides died from its use), and it has since gone on to be outlawed in many countries.']\n"
     ]
    },
    {
     "name": "stderr",
     "output_type": "stream",
     "text": [
      "\r",
      "  2%|██▍                                                                                                                                                                 | 15/986 [03:59<3:28:00, 12.85s/it]"
     ]
    },
    {
     "name": "stdout",
     "output_type": "stream",
     "text": [
      "generated explanation: <pad> <extra_id_0> The two sides in World War I used poisonous gas to cause death that is now banned. This is a chemical that has been banned from both sides in the war. It is also a chemical that is used to cause death to be fatal to the enemy. It is also a chemical that is used to produce a poisonous gas. This chemical is also used to cause death, such as poisonous fumes, which are often found in the air, in the air, and in the air. It is also used to cause death in the air. It is also used to produce poisonous fumes. It is now banned in both sides in the war.</s>\n",
      "########\n",
      "*******\n",
      "question: Where is disease often spread but shouldn't be?\n",
      "answer: hospital\n",
      "choices: ['ghost town', 'third world country', 'human body', 'rug', 'hospital']\n",
      "common expl list: ['Disease is spread most commonly in hospitals, where sick patients are treated and recovered hosts of disease are found.', 'Hospitals are places where people go to get better, and therefore disease is often spread there.']\n"
     ]
    },
    {
     "name": "stderr",
     "output_type": "stream",
     "text": [
      "\r",
      "  2%|██▋                                                                                                                                                                 | 16/986 [04:00<2:32:52,  9.46s/it]"
     ]
    },
    {
     "name": "stdout",
     "output_type": "stream",
     "text": [
      "generated explanation: <pad> <extra_id_0> A hospital is a place where disease is often spread but shouldn't be spread. Hospitals are often the first place to find out if a patient has been diagnosed with a disease. Hospitals are often located in the middle of the city, where the disease is most likely to be spread. Hospitals are often located in areas where there is a high risk of infection or infection. Hospitals also often have a high risk of infection, which can help prevent spread of disease. Hospitals also often have a high risk of infection.<extra_id_1> </s>\n",
      "########\n",
      "*******\n",
      "question: As things get colder, temperature does what?\n",
      "answer: drop to zero\n",
      "choices: ['increase', 'drop to zero', 'heat up', 'dropping quickly', 'arctic']\n",
      "common expl list: ['As things get colder, they get closer to zero degrees.']\n"
     ]
    },
    {
     "name": "stderr",
     "output_type": "stream",
     "text": [
      "\r",
      "  2%|██▊                                                                                                                                                                 | 17/986 [04:02<1:56:18,  7.20s/it]"
     ]
    },
    {
     "name": "stdout",
     "output_type": "stream",
     "text": [
      "generated explanation: <pad> <extra_id_0> As temperatures get colder, they drop to zero. This is why temperatures drop to zero. Temperatures drop to zero as they get colder. This is because they are more likely to be influenced by the colder weather. This is because the colder weather is more likely to affect the temperature of the room. Colder weather also means that the temperature of the room is more likely to affect the temperature of the room, which is why it is more likely to affect the room. This is because it is more likely to affect the temperature than the temperature of the room at the moment, which is because it is likely to affect the temperature of the day.</s>\n",
      "########\n",
      "*******\n",
      "question: Where is one unlikely to get popcorn?\n",
      "answer: soccer game\n",
      "choices: ['restaurant', 'movie house', 'soccer game', 'carnival', 'movie theater']\n",
      "common expl list: ['Soccer games usually lack popcorn machines.', 'Soccer games are usually snacks-free affairs; snacks, including popcorn, tend to be present at more recreational venues, but less so in settings where food is unnecessary because there are translatable goods sellers, i.e., vendors that sell things like popcorn', 'Most soccer games lack concession stands, which are necessary to sell movie theaters popcorn.']\n"
     ]
    },
    {
     "name": "stderr",
     "output_type": "stream",
     "text": [
      "\r",
      "  2%|██▉                                                                                                                                                                 | 18/986 [04:04<1:30:51,  5.63s/it]"
     ]
    },
    {
     "name": "stdout",
     "output_type": "stream",
     "text": [
      "generated explanation: <pad> <extra_id_0> One unlikely to get popcorn is a soccer game. Soccer games are a great place to get popcorn, as they are a great source of popcorn. Popcorn is a popular snack that can be consumed in a variety of ways, including in the form of popcorn. It is also a great place to get popcorn for those who love soccer. Additionally, soccer is a great place to get popcorn because it is a great place to get popcorn. It is also a great place to get popcorn for those who love popcorn. Popcorn is also a great place to get popcorn in the form of popcorn that can be purchased in the form of popcorn.</s>\n",
      "########\n",
      "*******\n",
      "question: Where are files likely to be hanging?\n",
      "answer: filing cabinet\n",
      "choices: ['filing cabinet', 'tree', 'suitcase', 'computer', 'desk drawer']\n",
      "common expl list: ['Filing cabinets are used to store files sometimes; these files can then be found by opening the filing cabinet and looking for hanging folders.', 'Files are likely to be hanging in a filing cabinet, since they are often organized by topic, and filing cabinets are often used to organize files.']\n"
     ]
    },
    {
     "name": "stderr",
     "output_type": "stream",
     "text": [
      "\r",
      "  2%|███▏                                                                                                                                                                | 19/986 [05:05<5:57:39, 22.19s/it]"
     ]
    },
    {
     "name": "stdout",
     "output_type": "stream",
     "text": [
      "generated explanation: <pad> <extra_id_0> : A filing cabinet is a common place where files are likely to be hanging. It is a place where files are likely to be stored, stored, or stored. A filing cabinet is a place where files are likely to be stored, or stored, and stored. It is a place where files are likely to be stored, stored, or stored, and is a place where files can be stored and stored. A filing cabinet is a place where files can be stored, protected, or stored. It is a place where files are stored in a storage cabinet, and storage cabinets are usually a place where files are likely to be stored, storing, or storage items can be stored in a filing cabinet to store documents and documents, documents, documents, documents, and documents, documents, documents, documents, documents, documents, documents, documents, documents, and other documents, documents, documents, documents, documents, documents, documents, folders, and documents, documents, documents, documents, documents, documents, documents, and other items that are stored in storage documents, documents, documents, documents, documents, documents, documents, documents, or other documents, documents, documents, documents, documents, documents, documents, documents, documents, documents, documents, documents, documents, documents, documents, documents, documents, documents, documents, documents, documents, documents, documents, documents, documents, documents, documents, documents, documents, documents, documents, documents, documents, documents, documents, documents, documents, documents, documents, documents, documents, documents, documents, documents, documents, documents, documents, documents, documents, documents, documents, documents, documents, documents, documents, documents, documents, documents, documents, documents, documents, documents, documents, documents, documents, documents, documents, documents, documents, documents, documents, documents, documents, documents, documents, documents, documents, documents, documents, documents, documents, documents, documents, documents, documents, documents, documents, documents, documents, documents, documents, documents, documents, documents, documents, documents, documents, documents, documents, documents, documents, documents, documents, documents, documents, documents, documents, documents, documents, documents, documents, documents, documents, documents, documents, documents, documents, documents, documents, documents, documents, documents, documents, documents, documents, documents, documents, documents, documents, documents, documents, documents, documents, etc.,\n",
      "########\n",
      "*******\n",
      "question: What is required to go on vacation before anything else?\n",
      "answer: have money\n",
      "choices: ['pack', 'pay bills', 'save money', 'have money', 'reliable car']\n",
      "common expl list: ['Vacations often require the purchase of travel services, such as airline or hotel tickets.']\n"
     ]
    },
    {
     "name": "stderr",
     "output_type": "stream",
     "text": [
      "\r",
      "  2%|███▎                                                                                                                                                                | 20/986 [05:07<4:18:00, 16.03s/it]"
     ]
    },
    {
     "name": "stdout",
     "output_type": "stream",
     "text": [
      "generated explanation: <pad> <extra_id_0> Have money is required to go on vacation before anything else. Vacations are generally a short and enjoyable experience, so you should have enough money to spend on your vacation. Additionally, money is required to spend on activities such as shopping, eating, traveling, and spending time with family and friends. This is why vacationers are required to have money to spend on vacation. Money is also necessary to make sure that you have enough money to spend on vacation. Additionally, it is necessary to have enough money to spend on vacation. Additionally, you must have enough money to spend on vacation.</s>\n",
      "########\n",
      "*******\n",
      "question: The roadway passed a sign and gate house, what was behind the gatehouse?\n",
      "answer: subdivision\n",
      "choices: ['city', 'narnia', 'subdivision', 'neighborhood', 'countryside']\n",
      "common expl list: ['Subdivisions are residential areas that are often gated, and so, if you see a gatehouse, you might be in a subdivision.', 'A subdivision contains houses that formed around it; therefore, a subdivision has a gatehouse that controls who goes in and out.']\n"
     ]
    },
    {
     "name": "stderr",
     "output_type": "stream",
     "text": [
      "\r",
      "  2%|███▍                                                                                                                                                                | 21/986 [05:23<4:17:42, 16.02s/it]"
     ]
    },
    {
     "name": "stdout",
     "output_type": "stream",
     "text": [
      "generated explanation: <pad> <extra_id_0> The gatehouse was located in a residential area of the city. The gatehouse was located in a residential area of the city. The gatehouse was located in a residential area of the city, which was located in a residential area. The sign was located in the middle of the street, which was accessed by a gatehouse. The gatehouse was located in the middle of the roadway, which is where the sign was located. The gatehouse is located in the middle of the street, which is a feature of the subdivision. The gatehouse is located in a residential area, which means that the gatehouse is located in the middle of the road. The sign is located in the middle of the gatehouse is located in the middle of the roadway. The gatehouse is located in the middle of the road. The gatehouse is located in the middle of the road. The gatehouse is located in the middle of the road. The gatehouse is located in the gatehouse. The gatehouse is located in the gatehouse. The gatehouse is located in the gatehouse. The gatehouse is located in the gatehouse. The gatehouse is located in the gatehouse. The gatehouse.</s>\n",
      "########\n",
      "*******\n",
      "question: The invasive A.I. was designed to scan the crowd, where most saw a mass of humanity the evil machine could pick out each what?\n",
      "answer: individual\n",
      "choices: ['solitary', 'single person', 'few people', 'crowd', 'individual']\n",
      "common expl list: [\"Machine intelligence is better able to find isolated individuals than crowded groups. Machines need to scan a large group of people to be able to find a single person--but when the single person doesn't blend in, it makes them easier to find.\"]\n"
     ]
    },
    {
     "name": "stderr",
     "output_type": "stream",
     "text": [
      "\r",
      "  2%|███▋                                                                                                                                                                | 22/986 [05:25<3:09:48, 11.81s/it]"
     ]
    },
    {
     "name": "stdout",
     "output_type": "stream",
     "text": [
      "generated explanation: <pad> <extra_id_0> The invasive A.I. was designed to scan the crowd, where most saw a mass of humanity the evil machine could pick out each one of them. The invasive A.I. was designed to scan the crowd, where most saw a mass of humanity the evil machine could pick out each one of them. The invasive A.I. was designed to scan the crowd, where most saw a mass of humanity the evil machine could pick out each one of them. The invasive A.I. was designed to scan the crowd, where most saw a mass of humanity the evil machine could pick out each one of them. The invasive A.I.</s>\n",
      "########\n",
      "*******\n",
      "question: Is has been speculated that a aliens could be communicating by doing this?\n",
      "answer: thinking\n",
      "choices: ['effort', 'farting', 'thinking', 'laugh', 'medium']\n",
      "common expl list: ['Aliens could quite possibly be using thought as a way to communicate between themselves.']\n"
     ]
    },
    {
     "name": "stderr",
     "output_type": "stream",
     "text": [
      "\r",
      "  2%|███▊                                                                                                                                                                | 23/986 [05:54<4:34:59, 17.13s/it]"
     ]
    },
    {
     "name": "stdout",
     "output_type": "stream",
     "text": [
      "generated explanation: <pad> <extra_id_0> It has been speculated that a person could be communicating by doing this. This is because thinking is a form of communication, such as thinking about something or saying something. Thinking is a way of communicating with other people, making it possible to communicate with others, such as humans, or even humans. Thinking about something is a way of thinking about something, such as how they think, how they think, and how they think. Thinking about something is a way of thinking about something, such as how they think, think, and think about something. It also allows humans to see the world in a way that they can communicate with other people. This is a way of communicating with other humans, which is a way of communicating with others, and interacting with others. Thinking about something, which allows them to communicate with them. Thinking about something that could be communicating with other humans, such as how they communicate with each other, and how they communicate with each other. This is a common sense, and what they communicated with each other. This is a common sense, and is a common sense, and what they communicate with each other. This is a common sense, and it is a common sense, and a common sense, and it is a common sense, and is a common sense. This is a common sense. This is a common sense. This is a common sense. This is a common sense sense is a common sense. This is a common sense.<extra_id_1> </s>\n",
      "########\n",
      "*******\n",
      "question: What can occur in fencing if you are not careful?\n",
      "answer: severe injuries\n",
      "choices: ['competition', 'severe injuries', 'fever', 'perspiration', 'small cuts']\n",
      "common expl list: ['The sport of fencing causes people to be hit by weapons, which may cause cuts or other wounds if someone is not careful.', 'Fencing is a sport that involves hitting your opponent with a sword, and if you are not careful, you can get injured.', 'Fencing is a sport, which involves hitting your opponent with a sharp piece of metal, which will almost certainly result in some physical pain.']\n"
     ]
    },
    {
     "name": "stderr",
     "output_type": "stream",
     "text": [
      "\r",
      "  2%|███▉                                                                                                                                                                | 24/986 [05:57<3:25:28, 12.82s/it]"
     ]
    },
    {
     "name": "stdout",
     "output_type": "stream",
     "text": [
      "generated explanation: <pad> <extra_id_0> Fencing can suffer severe injuries if you are not careful with it. Fencing can also be a dangerous activity if you are not careful with it. Fencing can also cause serious injuries, such as falls, cuts, and burns. Fencing can also be a dangerous place if you are not careful with it. Fencing can be a dangerous activity if you are not careful with it. Fencing can be a dangerous activity if you are not careful with it. Fencing can cause severe injuries, such as cuts, cuts, cuts, scratches, and bruises. Fe fencing can also cause severe injuries, such as traumatic injuries, such as traumatic falls, fractures, bruising, falls, and other injuries. Fencing can also be a dangerous activity. Fencing is a risk for injury.</s>\n",
      "########\n",
      "*******\n",
      "question: If you stretch out your socks they will then have what kind of fit?\n",
      "answer: loose\n",
      "choices: ['cramped', 'loose', 'contract', 'park', 'compressing']\n",
      "common expl list: ['When stretched out, socks will be loose.']\n"
     ]
    },
    {
     "name": "stderr",
     "output_type": "stream",
     "text": [
      "\r",
      "  3%|████▏                                                                                                                                                               | 25/986 [05:59<2:31:39,  9.47s/it]"
     ]
    },
    {
     "name": "stdout",
     "output_type": "stream",
     "text": [
      "generated explanation: <pad> <extra_id_0> Stretching out your socks will then have the shape of a sock. This is because they will be looser than a regular pair of socks. This is because if you stretch out your socks they will have a more snug fit. This is because they will be more comfortable and more comfortable. Stretching out your socks will also help to reduce the chances of slipping on a loose foot. This is because they will be more comfortable and more comfortable. Stretching out your socks will also help to reduce friction and stretch. This is also helps to reduce friction and friction.</s>\n",
      "########\n",
      "*******\n",
      "question: John ran out of pencils.  Where did  he go to get more?\n",
      "answer: office depot\n",
      "choices: ['desk drawer', 'cup', 'pencil case', 'shelf', 'office depot']\n",
      "common expl list: ['When people need pencils (or pens), they often buy them at office depots.', 'Office Depot is a store that sells office supplies, including pencils.', 'Office Depot is a company that specializes in office furniture; it also sells pens and pencils.', 'John can buy new pencils at an office depot.', 'Pencils can be found at an office supply store, e.g., an office depot.']\n"
     ]
    },
    {
     "name": "stderr",
     "output_type": "stream",
     "text": [
      "\r",
      "  3%|████▎                                                                                                                                                               | 26/986 [06:00<1:53:26,  7.09s/it]"
     ]
    },
    {
     "name": "stdout",
     "output_type": "stream",
     "text": [
      "generated explanation: <pad> <extra_id_0> John ran out of pencils. Where did he go to get more? The office depot was the place he went to get more. The depot is a small, independent, and well-stocked facility that offers a wide variety of supplies and services. The depot is also a convenient place to get supplies and supplies. The office depot also offers a variety of other options, such as a desk, a desk, and a desk. The office depot is a great place to get more pencils and pencils.<extra_id_1> </s>\n",
      "########\n",
      "*******\n",
      "question: What does a confident person do?\n",
      "answer: trust himself\n",
      "choices: ['feel important', 'own house', 'trust himself', 'know what time', 'cry']\n",
      "common expl list: ['People whose confidence is high tend to believe themselves more strongly, and so the confident person might believe in their own abilities and do things such as trust themselves.', 'A confident person is sure of his abilities and the trust in himself/herself to do things or accomplish goals.']\n"
     ]
    },
    {
     "name": "stderr",
     "output_type": "stream",
     "text": [
      "\r",
      "  3%|████▍                                                                                                                                                               | 27/986 [06:53<5:31:34, 20.75s/it]"
     ]
    },
    {
     "name": "stdout",
     "output_type": "stream",
     "text": [
      "generated explanation: <pad> <extra_id_0> A confident person can be confident in their abilities and abilities. Trusting others is a good thing, especially when it comes to a difficult situation. Trusting others can be difficult, and can be difficult to trust. Trusting others can be a way to help others, as it helps to build confidence in themselves. Trusting others can help you to make a better impression on others, and help to build a better relationship with the person you trust. Trusting others can help you achieve your goals and goals. Trusting others can help you to make sure that the person you trust is important to you. Trusting others can help you to be confident in the person. Trusting yourself is a good act of trusting others can help you to make a confident person. Trust yourself is a confident person to be confident in the person you trust yourself. Trust yourself to be confident in the person you trust yourself. Trust yourself. Trust yourself is a confident person who you trust. Trusting others can help you to be confident in your confidence in yourself. Trust yourself in yourself to be confident in your trustworthiness to be confident in your confidence that you can help others to be confident in yourself to others. Trusting yourself in others. Trusting yourself to be confident in your confidence is a confident person that confident person who you trust yourself to be confidently confident in your abilities to be confidently confidently confident in your abilities to be confident in your abilities. Trust yourself to be confidently confident in your abilities and be confident in your abilities and abilities to be confident in your abilities and abilities. Trust yourself to be confident in your abilities and abilities. Trust yourself to be confident in your abilities and confidence in your abilities and confidence in yourself to be confident in yourself to be confident in your abilities and confidence in your abilities and abilities. Trusting yourself is a confidently confident in your ability to be confident in your abilities and abilities. Trust yourself to be confidently confident in your ability to be confident in your ability to be confidently confident in your abilities. Trust yourself to be confident in your abilities. Trust yourself to be confident in your abilities to be confident in your abilities. Trusting yourself is a confident person. Trusting yourself in your abilities and abilities. Trusting yourself, confident in your ability to confidently confidently confidently confidently confidently confidently confidently confidently confidently confidently confidently confidently confidently confidently confidently confidently confidently confidently confident\n",
      "########\n",
      "*******\n",
      "question: James thought that analyzing all the data would help him learn more, but it did not.  It only gave him what?\n",
      "answer: headache\n",
      "choices: ['headache', 'better understanding', 'papercuts', 'enlightened', 'discovering truth']\n",
      "common expl list: ['Analysis requires a lot of thinking with maybe little reward, which can give one a headache.']\n"
     ]
    },
    {
     "name": "stderr",
     "output_type": "stream",
     "text": [
      "\r",
      "  3%|████▋                                                                                                                                                               | 28/986 [06:55<4:00:20, 15.05s/it]"
     ]
    },
    {
     "name": "stdout",
     "output_type": "stream",
     "text": [
      "generated explanation: <pad> <extra_id_0> James thought that analyzing all the data would help him learn more. However, analyzing all the data did not help him learn more. It only gave him headaches. It was a good way to learn more, as it gave James a sense of satisfaction. It also gave him a sense of satisfaction. It was also a way to gain insight into the world around him. It was also a way to improve his life. It was also a way to improve his life. It was also a way to improve his vocabulary, which is the most important thing to learn.</s>\n",
      "########\n",
      "*******\n",
      "question: What makes people happy when it is surprising and unexpected?\n",
      "answer: humor\n",
      "choices: ['joke', 'humor', 'frightened', 'fight', 'laughter']\n",
      "common expl list: ['A surprise is a stimulus that is not generally predicted before exposing it to a subject. It may be surprising things that cause laughter, or unexpected things that people see as funny.']\n"
     ]
    },
    {
     "name": "stderr",
     "output_type": "stream",
     "text": [
      "\r",
      "  3%|████▊                                                                                                                                                               | 29/986 [06:57<3:01:00, 11.35s/it]"
     ]
    },
    {
     "name": "stdout",
     "output_type": "stream",
     "text": [
      "generated explanation: <pad> <extra_id_0> People are happy when they are surprised and unexpected. They are also happy when they are surprised and unexpected. It is a natural response to unexpected situations, such as when a person is surprised or surprised by something unexpected, or when it is unexpected. It is a natural response to unexpected events, such as a surprise or unexpected event, that makes people happy. It is also a natural response to the unexpected, such as when a person is surprised or surprised, and when they are surprised by something unexpected, it is a sign of happiness when it is surprising and unexpected events are a sign of happiness, and when people are happy. It is a sign of happiness when people are surprised or unexpected. It is also a sign of happiness, which means that the person is happy when they are surprised and unexpected.</s>\n",
      "########\n",
      "*******\n",
      "question: What is someone who wants a lot of money?\n",
      "answer: greedy\n",
      "choices: ['selfish', 'weird', 'greedy', 'ridiculous', 'hungry']\n",
      "common expl list: ['Greed is defined as \"the desire to obtain something, especially wealth, through selfish means, typically at the expense of others.', 'Greed is a strong desire to possess a lot of money; a greedy person therefore wants it a lot.', 'A person who is greedy wants more things that people typically take for granted, i.e., money, success, etc. This is a lot of stuff.']\n"
     ]
    },
    {
     "name": "stderr",
     "output_type": "stream",
     "text": [
      "\r",
      "  3%|████▉                                                                                                                                                               | 30/986 [06:59<2:14:00,  8.41s/it]"
     ]
    },
    {
     "name": "stdout",
     "output_type": "stream",
     "text": [
      "generated explanation: <pad> <extra_id_0> A greedy person is someone who wants a lot of money. A greedy person is someone who wants to make a lot of money. This greedy person is a person who wants to make money from nothing. This person is a person who wants to make money. This person is a person who wants to make money from nothing. This person is a person who wants to make money. This is a person who wants to make money by making money from something. This person is a person who wants to make money.<extra_id_1> </s>\n",
      "########\n",
      "*******\n",
      "question: Where do you keep a book to read before bed?\n",
      "answer: bedside table\n",
      "choices: ['school room', 'allen key', 'classroom', 'bedside table', 'coffee table']\n",
      "common expl list: ['Bedside tables are where people keep things they use before bed, such as books, glasses, and water.', 'Bedside tables are convenient for keeping things, e.g., a book, reading materials, glasses, etc., that you wish to keep near your bed for regular access; particularly things.']\n"
     ]
    },
    {
     "name": "stderr",
     "output_type": "stream",
     "text": [
      "\r",
      "  3%|█████▏                                                                                                                                                              | 31/986 [07:00<1:41:19,  6.37s/it]"
     ]
    },
    {
     "name": "stdout",
     "output_type": "stream",
     "text": [
      "generated explanation: <pad> <extra_id_0> A book is a book that is read before bed by a person before bed. Bedside table is a place to read a book before bed. It is a place to keep a book to read before bed. A book is a place to read before bed and to read a book before bed. It is also a place to keep a book to read before bed. It is also a place to keep a book to read before bed. It is also a place to keep a book to read before bed.</s>\n",
      "########\n",
      "*******\n",
      "question: Where is a knight likely to be found in the US?\n",
      "answer: chess set\n",
      "choices: ['middle ages', 'chess set', 'historical novel', 'castle', 'guarding the king']\n",
      "common expl list: ['A knight is a piece in the game of chess, which is played on a chess set.']\n"
     ]
    },
    {
     "name": "stderr",
     "output_type": "stream",
     "text": [
      "\r",
      "  3%|█████▎                                                                                                                                                              | 32/986 [07:02<1:18:37,  4.95s/it]"
     ]
    },
    {
     "name": "stdout",
     "output_type": "stream",
     "text": [
      "generated explanation: <pad> <extra_id_0> A knight is a typical American knight. A knight is a type of chess player, and is a creature of habit that can be found in a chess set. It is a set of chess cards that can be used to defeat a foe, and it is a great way to find a knight. A knight is a type of card that can be found in any room, and is often found in the same room as a knight. A knight is a type of card that can be found in the US.<extra_id_1> </s>\n",
      "########\n",
      "*******\n",
      "question: Jack saw little point to communicating beyond the basics.  To him, it was just a means to do what?\n",
      "answer: exchange information\n",
      "choices: ['go swimming', 'making friends', 'exchange information', 'people to think', 'confusion']\n",
      "common expl list: [\"Keeping the communication sparse would allow him to conserve energy by speaking less. Since communication is just a means to exchanging information, Jack would not see much 'point', to say, a conversation beyond the basics.\"]\n"
     ]
    },
    {
     "name": "stderr",
     "output_type": "stream",
     "text": [
      "\r",
      "  3%|█████▍                                                                                                                                                              | 33/986 [07:57<5:18:30, 20.05s/it]"
     ]
    },
    {
     "name": "stdout",
     "output_type": "stream",
     "text": [
      "generated explanation: <pad> <extra_id_0> Jack was a small-minded communicator, whose basic purpose was to exchange information and ideas. He saw no point in communicating other than to exchange information and ideas with others, which would be a means to do the same thing. He saw that communication was a means to do the same things that were done in the classroom. He saw that communication was just a means to do something beyond the basics. He saw that communication was just a means to do something else. It was a way to exchange ideas, ideas, and ideas. Information exchange was a way to do things in the classroom, and it was a way to do things that were not necessarily a good thing. Information exchange was a means to do things that could be done by a good thing. Information exchange was also a way to do things that could be done by a given to others. Information exchange was a means to do things that could be done by communicating with others. Information exchange was a way to do things that could be done by if people who they could be a good thing. Information exchange was a good thing. Information exchanged between people. Information exchange was a good thing to do something that could benefit him to do something that would benefit the world. Information exchange was a good thing to do that. Information exchange is a good thing to do that. Information exchange is a good thing to do something that could be a good thing to do that. Information exchange is a good thing for the person who they could exchange information between people who they could help them to do that. Information exchange information. Information exchange is a way to do that. Information exchanged between them. Information exchange is a good thing to do that they could do things that they could do that. Information exchange is a good thing to do that. Information exchange is a lot of things that people could help them. Information exchange is a way to exchange information. Information exchange is a good thing to do that. Information exchange is a good thing to do that. It is a good thing to do that. Information exchange is a good thing to exchange is exchange. Information exchange. exchange. Information exchange. Information exchange is a good thing to do that. Information exchange. Information exchange. Information exchange. Information is a good thing. Information exchange is a good thing to do that. Information exchange is to help people can do to help\n",
      "########\n",
      "*******\n",
      "question: I as a person don't kill others, why do I not?\n",
      "answer: value life\n",
      "choices: ['experience pleasure', 'laws', 'value life', 'thank god', 'go into debt']\n",
      "common expl list: [\"Someone who does not kill might have a great deal of respect for life; as a person's life is valuable, the opposite is true about the act of taking a life.\"]\n"
     ]
    },
    {
     "name": "stderr",
     "output_type": "stream",
     "text": [
      "\r",
      "  3%|█████▋                                                                                                                                                              | 34/986 [08:00<3:54:37, 14.79s/it]"
     ]
    },
    {
     "name": "stdout",
     "output_type": "stream",
     "text": [
      "generated explanation: <pad> <extra_id_0> I don't kill others, because I value my life. I value myself and my family and friends, because I value life. I value my life and my family, because I value my life and my family. I value my family, because I value my family, because I value my life. I value life because I believe in myself and my family. I value life because I believe in the value of life. I value life because I value the ability to love others. I value my life because I value my life. I value my family, and because I value life, I value life. I value life is a value life because it is a good thing to do. I value life is a value life. I value life is a value life. I value life is a life of the people I am fortunate to be </s>\n",
      "########\n",
      "*******\n",
      "question: What is likely to be a child's reaction to going to play?\n",
      "answer: happiness\n",
      "choices: ['happiness', 'tears', 'sit', 'being entertained', 'laugh']\n",
      "common expl list: ['Children like to play.']\n"
     ]
    },
    {
     "name": "stderr",
     "output_type": "stream",
     "text": [
      "\r",
      "  4%|█████▊                                                                                                                                                              | 35/986 [08:02<2:51:31, 10.82s/it]"
     ]
    },
    {
     "name": "stdout",
     "output_type": "stream",
     "text": [
      "generated explanation: <pad> <extra_id_0> A child's reaction to playing is likely to be a happiness. Happiness is a natural and positive response to play, which is accompanied by a sense of accomplishment and excitement. It is also likely that a child's excitement about playing will be a positive one, which is likely to be a positive one. It is also likely that a child will feel more relaxed and confident when playing, which is why it is important to keep a positive attitude. It is likely that happiness is a natural part of the child's emotional</s>\n",
      "########\n",
      "*******\n",
      "question: Where could you find multiple ruler that are owned by different people?\n",
      "answer: office\n",
      "choices: ['measure distance', 'england', 'office', 'drawer', 'desk']\n",
      "common expl list: ['Office buildings often have rulers.', 'When someone works in an office, even if it is part-time or freelance, they may be required to measure distances e.g., in departments or cubicles, and so, offices are a good place to find ruler.']\n"
     ]
    },
    {
     "name": "stderr",
     "output_type": "stream",
     "text": [
      "\r",
      "  4%|█████▉                                                                                                                                                              | 36/986 [08:04<2:11:16,  8.29s/it]"
     ]
    },
    {
     "name": "stdout",
     "output_type": "stream",
     "text": [
      "generated explanation: <pad> <extra_id_0> Offices are located in the United States and are located in the United States. Offices are located in the United States and are used to manage the affairs of the United States. Offices are located in the United States and are often located in the United States. Offices are located in the United States, and are often located in the United States. Offices are located in the United States and are often located in the United States and are often located in the United States. They are also used to manage the affairs of the United States and other countries. Offices are used to manage the affairs of people who are owned by different people. This is because they are often used to be used to have multiple rulers. Offices are often used to manage the affairs of different people.<extra_id_1> </s>\n",
      "########\n",
      "*******\n",
      "question: When remembering you referencing things that you have what?\n",
      "answer: prior knowledge of\n",
      "choices: ['memory cells', 'learning about', 'prior knowledge of', 'brain cells', 'nerve cells']\n",
      "common expl list: ['Most of the things a person knows come from learning in the past and usually have some recollection involved.']\n"
     ]
    },
    {
     "name": "stderr",
     "output_type": "stream",
     "text": [
      "\r",
      "  4%|██████▏                                                                                                                                                             | 37/986 [08:06<1:40:19,  6.34s/it]"
     ]
    },
    {
     "name": "stdout",
     "output_type": "stream",
     "text": [
      "generated explanation: <pad> <extra_id_0> Using a referencing system, you can use a combination of the following items: a list of references, a list of references, a list of references, a list of references, and a list of references. This is important to remembering what you have in mind when referencing things that you have. A prior knowledge of the things you have is essential to remembering what you have in mind. A prior knowledge of the things you have in mind is important to remember. It is important to remember what you have in mind when referencing things in mind when referencing the information you have in mind.</s>\n",
      "########\n",
      "*******\n",
      "question: After running twenty six miles he felt like he had lost twenty six pounds, this was from all the what?\n",
      "answer: sweat\n",
      "choices: ['exercise', 'sweat', 'pass out', 'collapse', 'drink water']\n",
      "common expl list: ['Sweating is a way to cool down the body, and so after running for a long time, a person might sweat a lot.']\n"
     ]
    },
    {
     "name": "stderr",
     "output_type": "stream",
     "text": [
      "\r",
      "  4%|██████▎                                                                                                                                                             | 38/986 [08:07<1:17:23,  4.90s/it]"
     ]
    },
    {
     "name": "stdout",
     "output_type": "stream",
     "text": [
      "generated explanation: <pad> <extra_id_0> After running twenty six miles he felt like he had lost twenty six pounds, this was due to sweat. The sweat was a natural result of a combination of physical activity and physical activity. It also fueled the body's ability to recover from the workouts and exercise, which is why he felt like he had lost twenty six pounds. Running twenty miles was a great way to lose weight, as it allowed him to recover from the workouts and gain muscle. Running twenty six miles is a great way to lose weight</s>\n",
      "########\n",
      "*******\n",
      "question: In what western sate might one find a bald eagle?\n",
      "answer: colorado\n",
      "choices: ['captivity', 'colorado', 'zoo', 'canada', 'in washington']\n",
      "common expl list: ['Eagles are native to the western United States, and Colorado is a western state.']\n"
     ]
    },
    {
     "name": "stderr",
     "output_type": "stream",
     "text": [
      "\r",
      "  4%|██████▍                                                                                                                                                             | 39/986 [08:47<4:02:56, 15.39s/it]"
     ]
    },
    {
     "name": "stdout",
     "output_type": "stream",
     "text": [
      "generated explanation: <pad> <extra_id_0> In what western sate might one find a bald eagle? colorado is the sate that is home to the bald eagles. The colorado is the state where the bald eagle is found. It is a bird that is found in many different habitats, from the southeastern United States to the western southeastern United States. The colorado is the state that is home to the bald eagle, which is a bald eagle is a species that shares the same habitat, the bald eagle is found in the western sate, and the western sate. The bald eagle is a common habitat, and the western sate, which is the most abundant wildlife habitat, and the most abundant wildlife species. The bald eagle in the western sate, which is the most abundant wildlife species that is found in the western sate, and the western sate, and the western sate. The western sate, and the western sate, and the western sate, and the sate, and the western sate, where a bald eagle population. The western sate, which is the most common habitats are found in the western sate, which is a common habitat, which is a common habitat, which is the sate that is, and the sate that is, and the western sate that is, where the bald eagle is a place that is the bald eagle is the most common habitat of the sate. The bald eagle is the state. The bald eagle is found in the western sate of the sate of the bald sate of the sate of the western sate of the western sate of the western sate of the western sate of the western sate of the western sate of the western sate of the western sate of the western sate of the western sate of the western sate of the western sate of the western sate of the western sate of the sate of the western sate. The\n",
      "########\n",
      "*******\n",
      "question: When a retired person returns to work they likely need to do what?\n",
      "answer: earn money\n",
      "choices: ['key', 'earn money', 'get out of bed', 'need money', 'understand themselves']\n",
      "common expl list: ['When a person is retired, they probably are not making enough money through a pension benefit to support themselves after retirement, so they work again, perhaps full-time, in order to have enough money.(money key)']\n"
     ]
    },
    {
     "name": "stderr",
     "output_type": "stream",
     "text": [
      "\r",
      "  4%|██████▋                                                                                                                                                             | 40/986 [09:49<7:44:42, 29.47s/it]"
     ]
    },
    {
     "name": "stdout",
     "output_type": "stream",
     "text": [
      "generated explanation: <pad> <extra_id_0> When a retired person returns to work they likely need to earn money. Earn money is a form of income that can be used to purchase a retirement home. Earn money is a form of income that can be used to purchase a home, pay for a mortgage, or invest in a retirement account. Earn money by completing a job or by taking a job. Earn money by completing a job, such as a retirement account, or by paying a pension. Earn money is often used to help pay off the retirement account. Earn money is often used to buy a retirement account. Earn money is also known as the term that is used to mean that retirement accounts are a retirement account. Earn money is often the term that is used to determine the amount of time that is being spent on a retirement account. Earn money is often the term for earning money. Earn money is often the most popular way of earning money. Earn money is used to help a way to help a retirement account. Earn money is used to help a retirement account. Earn money is used to help a retirement account. Earn money is used to help a retirement account. Earn money is used to help a retirement account. Earn money is used to help a retirement account. Earn money is money is used to help a retirement account. Earn money is used to help retirement accounts. Earning money is used to help a retirement account. Earn money is used to help a retirement account. Earn money is used to help a retirement account. Earn money is used to pay the retirement account. Earn money is used to help a retirement account. Earn money is used to help a retirement account. Earn money to help retirement accounts. Earn money is used to help retirement accounts. Earn retirement accounts. Earn money when a retirement accounts. Earn money is used to help a retirement account. Earning money is used to help people to help retirement accounts. Finally, retirement accounts are often used to help people to help people who have access to financial and financial resources that help people who can help people who can help them to earn money that can help them to earn money that can help them to earn money that can help them to earn money that can help them to earn money that can help them to earn money that can help them to earn money that can help them to earn more than money that can help them to earn money that can help them to earn money that\n",
      "########\n",
      "*******\n",
      "question: What can be the result of meeting people with similar attitudes?\n",
      "answer: making new friends\n",
      "choices: ['anxiety', 'being bored', 'love', 'making new friends', 'new job']\n",
      "common expl list: [\"Friends often share some interests and/or attitudes, and when someone meets people with similar attires, that's a good indicator they might be good candidates for becoming friends.\", 'People with similar interests are likely to be friends, or familiars to each other, having many opportunities to meet each other and have things in common to discuss.']\n"
     ]
    },
    {
     "name": "stderr",
     "output_type": "stream",
     "text": [
      "\r",
      "  4%|██████▊                                                                                                                                                             | 41/986 [09:51<5:33:13, 21.16s/it]"
     ]
    },
    {
     "name": "stdout",
     "output_type": "stream",
     "text": [
      "generated explanation: <pad> <extra_id_0> Meeting people with similar attitudes can be the result of making new friends. Having a similar attitude can be a great way to meet people who have similar attitudes. In addition to meeting people with similar attitudes, it can also be a great way to build friendships. This is because friendships can be a great way to make new friends and gain new ones. This is because friendships can be a great way to build trust and support. It can also be a great way to help others with their own needs and needs. It can also help to build a sense of community.<extra_id_1> </s>\n",
      "########\n",
      "*******\n",
      "question: Danny noticed a ceramic object on the table and picked a grape out of it.  What might have been on the table?\n",
      "answer: bowl of fruit\n",
      "choices: ['kitchen', 'painting of fruits', 'fruit basket', 'bowl of fruit', 'fruit stand']\n",
      "common expl list: ['A bowl of fruit is an appropriate item to put on a table, as it can hold many kinds of fruit.']\n"
     ]
    },
    {
     "name": "stderr",
     "output_type": "stream",
     "text": [
      "\r",
      "  4%|██████▉                                                                                                                                                             | 42/986 [10:49<8:27:15, 32.24s/it]"
     ]
    },
    {
     "name": "stdout",
     "output_type": "stream",
     "text": [
      "generated explanation: <pad> <extra_id_0> A bowl of fruit is a bowl of fruit that is a bowl of fruit. It is a bowl of fruit that is a bowl of fruit, which is often topped with grapes. The bowl of fruit is usually a bowl of fruit, which is usually a bowl of fruit. The bowl of fruit is usually made of a ceramic object, such as a bowl of fruit. It is also often made of a bowl of fruit, which is often a bowl of fruit. The bowl of fruit is usually made of grapes, which is often a bowl of fruit. It is also a bowl of fruit, which is often a bowl of fruit. The grape is usually topped with a bowl of fruit. The bowl of fruit is a bowl of fruit. The bowl of fruit is a bowl of fruit, which is made of ceramic objects, which are usually made of fruit, and the bowl of fruit. The bowl of fruit is a bowl of fruit. The bowl of fruit, which is usually a bowl of fruit, which is often a bowl of fruit, which is usually a bowl of fruit, which is usually a bowl of fruit, which is a bowl of fruit, which is also a bowl of fruit, which is usually a bowl of fruit, which is a bowl of fruit, which is usually a bowl of fruit, which is fruit, which is fruit, which is a bowl of fruit, which is a bowl of fruit, and it is a bowl of fruit, fruit, and fruit, fruit, fruit, fruit, fruit, fruit, or a bowl of fruit, fruit, fruit, fruit, or a bowl of fruit, fruit, fruit, fruit, fruit, fruit, or a bowl of fruit, fruit, fruit, fruit, or grape, fruit, fruit, fruit, fruit, or fruit, grape juice, fruit, grape juice, fruit, grape juice, grape juice, juice, or a bowl of fruit, juice, or a bowl of fruit, juice, or juice, juice, juice, juice, juice, juice, juice, juice, or juice, or juice, juice, juice, juice, juice, juice, or juice, juice, or juice, juice, or juice, juice, or juice, juice, juice, juice, juice, juice, juice, juice, juice, juice, juice, juice, juice, juice\n",
      "########\n",
      "*******\n",
      "question: The nose dipped and alarms went off inside the what?\n",
      "answer: aircraft\n",
      "choices: ['car', 'sniff', 'aircraft', 'upper respiratory tract', 'missile']\n",
      "common expl list: ['The nose dips and alarms go off inside the cockpit of an aircraft when the nose of the aircraft dips too low.']\n"
     ]
    },
    {
     "name": "stderr",
     "output_type": "stream",
     "text": [
      "\r",
      "  4%|███████                                                                                                                                                            | 43/986 [11:47<10:28:41, 40.00s/it]"
     ]
    },
    {
     "name": "stdout",
     "output_type": "stream",
     "text": [
      "generated explanation: <pad> <extra_id_0> The nose dipped and alarms went off inside the aircraft. The nose dipped and alarms went off inside the aircraft. The nose dipped and the alarms went off. The alarms went off, and the nose dipped. The nose dipped and alarms went off. The nose dipped and the alarms went off. The nose dipped and the alarms went off inside the aircraft. The nose dipped and the alarms went off. The nose dipped and the alarms went off. The alarms went off inside the aircraft. The nose dipped and the alarms were not as a place for the alarms. The nose dipped and the alarms went off inside the aircraft was notified. The nose dipped and the alarms were not as alerts. The nose dipped and the alarms were not as alert the aircraft. The nose dipped and the alarms were not as alert the aircraft's nose. The nose dipped and alarms were not as alert the alarms were not even the alarms were not as alerts were not as alerts were not as alerts. The alarms were not alerts were alerts to alert the alarms were alerted. The nose dipped into the alarms were alert the alarm system was alert the alarms were alert alert the aircraft. The alarms were alert alert the aircraft. The alarms were alert alerts were alert the alerts were alert the aircraft's alarms were alert alert the alarm alert alert the alarms were alert alert the alert alerts were alert alert alert the aircraft. The alarm alert system is a warning alert the aircraft's alert alert alerts. The nose alerted alert alert alert. The nose alert alert the aircraft. The nose alerts were alert alerted when the aircraft's alerted. The nose if the aircraft's if the aircraft's alerted when the aircraft's alert alerts were alert alerted. The aircraft's alerted when the nose alerted when the nose alerted when the aircraft's alarms were alerted when the nose alerting the aircraft.<extra_id_1> </s>\n",
      "########\n",
      "*******\n",
      "question: Where is a cord likely to be on a tent?\n",
      "answer: sporting goods store\n",
      "choices: ['inside tent', 'delivery room', 'hardware store', 'backpack', 'sporting goods store']\n",
      "common expl list: ['Sporting goods stores likely have tents on display which generally come with their cords.']\n"
     ]
    },
    {
     "name": "stderr",
     "output_type": "stream",
     "text": [
      "\r",
      "  4%|███████▎                                                                                                                                                            | 44/986 [11:57<8:02:57, 30.76s/it]"
     ]
    },
    {
     "name": "stdout",
     "output_type": "stream",
     "text": [
      "generated explanation: <pad> <extra_id_0> A cord is a staple of any tent. It is typically found in a sporting goods store or at a tent store. A cord is usually found on a tent, such as a tent or a tent. A cord is usually found on a tent, and is usually found on a tent or tent. A cord is typically found on a tent, such as a tent or tent. A cord is typically found on a tent, such as a tent, a tent, or a tent. A tent is usually found in stores and is usually found in a tent. A cord is also likely to be found on a tent is a tent is usually found in a tent. A tent is a tent is likely to be found on a tent, and it is likely to be worn out or damaged by a cord. A tent is likely to be used in a tent. A tent is a tent is likely to be found in a tent.</s>\n",
      "########\n",
      "*******\n",
      "question: The man reduced the town to rubble out of hate, what was his goal?\n",
      "answer: destroy enemy\n",
      "choices: ['wage war', 'play nice', 'fight enemy', 'stab to death', 'destroy enemy']\n",
      "common expl list: ['someone who is completely obsessed with destroying an enemy (going so far as to want them completely obliterated from existance) is not a person who is playing nice.']\n"
     ]
    },
    {
     "name": "stderr",
     "output_type": "stream",
     "text": [
      "\r",
      "  5%|███████▍                                                                                                                                                            | 45/986 [11:59<5:48:47, 22.24s/it]"
     ]
    },
    {
     "name": "stdout",
     "output_type": "stream",
     "text": [
      "generated explanation: <pad> <extra_id_0> The man reduced the town to rubble out of hate, what was his goal? The man reduced the town to rubble out of hate, what was his goal? The goal was to destroy enemy buildings, buildings, and other structures that were causing the town to crumble. The goal was to destroy enemies, which was to eliminate the enemies that were causing the damage. The goal was to destroy enemy buildings and buildings that were causing the destruction. The man's goal was to destroy enemy buildings and buildings, which was his goal? The goal is to destroy enemies. The man reduced the town to rubble out of hate, his goal was to destroy enemy buildings and buildings. The goal is to destroy enemy buildings and buildings. The man's goal is to destroy enemy buildings and neighborhoods.</s>\n",
      "########\n",
      "*******\n",
      "question: The toddler thought it would be fun to try eating breakfast in bed, what resulted?\n",
      "answer: mess\n",
      "choices: ['contentment', 'indigestion', 'vomiting', 'mess', 'catastrophe']\n",
      "common expl list: [\"Toddlers have poor coordination.  Even if they could somehow manage to not fall off the bed, it's likely that they would spill the food that they took with them to bed.  A mess would be made.\", \"Toddlers like to explore and test their own boundaries. They often don't know their limits, and it's common for their behavior to result in a mess. In the toddler's case, it involved getting breakfast on the bed due to his inexperience\"]\n"
     ]
    },
    {
     "name": "stderr",
     "output_type": "stream",
     "text": [
      "\r",
      "  5%|███████▋                                                                                                                                                            | 46/986 [12:07<4:41:58, 18.00s/it]"
     ]
    },
    {
     "name": "stdout",
     "output_type": "stream",
     "text": [
      "generated explanation: <pad> <extra_id_0> The toddler thought it would be fun to try eating breakfast in bed, but the result was mess. The toddler then decided to try eating breakfast in bed, and it was a great idea to make a mess. The result was a mess. The toddler then realised that it was time to clean up the mess and clean up the mess. This was a great idea to make a mess of all the mess that was created. The mess was a great way to make a mess out of the mess that was created. It also a great way to make breakfast easier to clean up the mess and to clean up the mess. The toddler now decided to clean up the mess and to clean up the mess. This is a great way to make the mess and to make a mess. This is a great way to make a mess and to make it easier for the toddler to make breakfast in bed. The mess and to make breakfast in bed. The mess and to make breakfast in bed a mess and to make breakfast in bed. The toddler to make breakfast and to make breakfast and to make breakfast and to make breakfast in bed and to make breakfast in bed.<extra_id_1> </s>\n",
      "########\n",
      "*******\n",
      "question: He had a hard time getting his father's attention, he hoped that the winning baseball game would finally get him some what?\n",
      "answer: recognition\n",
      "choices: ['confirmation', 'celebrating', 'pride', 'recognition', 'happiness']\n",
      "common expl list: ['One way to gain recognition from ones parents is by accomplishing things that they value. For example, children might hope to make their parents proud of them by excelling at sports.']\n"
     ]
    },
    {
     "name": "stderr",
     "output_type": "stream",
     "text": [
      "\r",
      "  5%|███████▊                                                                                                                                                            | 47/986 [12:09<3:26:32, 13.20s/it]"
     ]
    },
    {
     "name": "stdout",
     "output_type": "stream",
     "text": [
      "generated explanation: <pad> <extra_id_0> His father was trying to get his father's attention, but he hoped that winning baseball game would finally get him some of it. He hoped that the winning game would give him some recognition for his father's hard work and dedication. Recognition is a gift that can be given to a person, a person, or a family member. It is a gift that can help him get his father's attention. It is also a gift that can help him get his father's attention.<extra_id_1> He hoped that the winning baseball game would help him to get his father some of it would help him to get some recognition.</s>\n",
      "########\n",
      "*******\n",
      "question: The toddler is awaking from a nap, what doesn't he feel anymore?\n",
      "answer: tiredness\n",
      "choices: ['nervous', 'eyes opening', 'getting out of bed', 'tiredness', 'discomfort']\n",
      "common expl list: ['Children can easily get tired at their ontervall and a nap is an effective way for them to get over tiredness. Then when they wake up, they do not feel tiredness any longer.']\n"
     ]
    },
    {
     "name": "stderr",
     "output_type": "stream",
     "text": [
      "\r",
      "  5%|███████▉                                                                                                                                                            | 48/986 [13:22<8:07:32, 31.19s/it]"
     ]
    },
    {
     "name": "stdout",
     "output_type": "stream",
     "text": [
      "generated explanation: <pad> <extra_id_0> The toddler is awaking from a nap, what doesn't he feel anymore? tiredness is a natural symptom of the toddler's body, which is a sign of tiredness. It is a sign of tiredness and a sign of tiredness. It is a sign of tiredness, which is a sign of tiredness, which is a sign of tiredness and tiredness. Sleeping, napping, and falling asleep are signs of tiredness. Sleeping, sleeping, and crying, and napping are signs of tiredness are signs of tiredness, which is a sign of tiredness, which is a sign of tiredness. Sleeping from a nap, tiredness, tiredness, and tiredness. Sleeping from a nap, tiredness, and tiredness. Sleeping from a tiredness, and tiredness. Sleeping from a nap, sleep, sleep, sleep, sleep, and tiredness. Sleep, sleep, sleep, sleep, sleep, sleep, sleep, sleep, sleep, sleep, sleep, sleep, sleep, sleep, sleep, sleep, sleep, sleep, sleep, sleep, sleep, sleep, sleep, sleep, sleep, sleep, sleep, sleep, sleep, sleep, sleep, sleep, sleep, sleep, sleep, sleep, sleep, sleep, sleep, sleep, sleep, sleep, sleep, sleep, sleep, sleep, sleep, sleep, sleep, sleep, sleep, sleep, sleep, sleep, sleep, sleep sleep, sleep, sleep, sleep, sleep, sleep, sleep, sleep, sleep, sleep, sleep, sleep, sleep, sleep, sleep, sleep, sleep, sleep, sleep, sleep, sleep, sleep, sleep, sleep, sleep, sleep, sleep, sleep, sleep, sleep, sleep, sleep, sleep, sleep, sleep, sleep, sleep, sleep, sleep, sleep, sleep, sleep, sleep, sleep, sleep, sleep, sleep, sleep, sleep, sleep, sleep, sleep, sleep, sleep, sleep, sleep, sleep, sleep, sleep, sleep, sleep, sleep, sleep, sleep, sleep, sleep, sleep, sleep, sleep, sleep, sleep, sleep, sleep, sleep, sleep, sleep, sleep, sleep, sleep, sleep, sleep, sleep, sleep, sleep, sleep, sleep, sleep, sleep, sleep, sleep, sleep, sleep, sleep, sleep, sleep, sleep,\n",
      "########\n",
      "*******\n",
      "question: John listened to music when he needed to focus.  It helped him achieve what?\n",
      "answer: quiet mind\n",
      "choices: ['express emotion', 'beautifull', 'irritate', 'bad environment', 'quiet mind']\n",
      "common expl list: ['Music can, at the very least, provide passive background noise as one works to help one focus. More specifically, music might have positive, uplifting or emotional qualities that are conducive to focus and concentration.', \"When one is trying to focus on a task, it's common to listen to music to help one focus.\", \"There's scientific evidence that listening to music can help people think better and concentrate easier.\"]\n"
     ]
    },
    {
     "name": "stderr",
     "output_type": "stream",
     "text": [
      "\r",
      "  5%|████████▏                                                                                                                                                           | 49/986 [13:24<5:50:54, 22.47s/it]"
     ]
    },
    {
     "name": "stdout",
     "output_type": "stream",
     "text": [
      "generated explanation: <pad> <extra_id_0> John listened to music when he needed to focus and focus. Music is a powerful tool for a calm mind. It is also a powerful tool for a person to focus on the task at hand or in the car. Music also helps to calm the mind and help to calm the mind. It also helps to focus on the task at hand. It also helps to keep the mind focused and focused. Music also helps John relax and focus. Music also helps him focus and focus on the task at hand. It also helps John focus on the task at hand. It also helps John focus on the task at hand when it is important to him to listen to the task at hand.</s>\n",
      "########\n",
      "*******\n",
      "question: If I were to suffer from sudden illness I would be within reason to visit where?\n",
      "answer: hospital\n",
      "choices: ['nursing home', 'hospital', 'brain', 'elderly person', 'building']\n",
      "common expl list: ['A hospital is a place where people go to receive treatment for illnesses.', 'Anyone can suffer a sudden illness, but hospitals are where the equipment and personnel exist to deal with sudden illnesses.', 'If you were suddenly suffering an illness, it would be a reasonable thing to go to the hospital for treatment of that illness.', 'A hospital is a center for treatment and care of those suffering from illness.']\n"
     ]
    },
    {
     "name": "stderr",
     "output_type": "stream",
     "text": [
      "\r",
      "  5%|████████▎                                                                                                                                                           | 50/986 [13:26<4:13:32, 16.25s/it]"
     ]
    },
    {
     "name": "stdout",
     "output_type": "stream",
     "text": [
      "generated explanation: <pad> <extra_id_0> A hospital is a hospital that treats people with a serious illness or a condition that can cause a serious injury or death. A hospital is a hospital where patients are treated with medical care and treatment. The hospital is a safe and comfortable place to be located if the illness is severe and stable. The hospital is also a safe place for patients to recover from a variety of illnesses and conditions, including allergies, asthma, allergies, and other conditions. The hospital is also a place where patients can be treated for a variety of medical care, and other medical care.</s>\n",
      "########\n",
      "*******\n",
      "question: John kept standing up.  He was afraid that if he were sitting down he might do something. What might he be afraid of?\n",
      "answer: fall asleep\n",
      "choices: ['fall asleep', 'being supported on chair', 'comfort', 'clowns', 'flatulence']\n",
      "common expl list: ['Sitting down makes one comfortable; sitting down with eyes closed makes one fall asleep.', 'When standing, the chances of falling asleep abruptly would be much less (assuming that one is awake).']\n"
     ]
    },
    {
     "name": "stderr",
     "output_type": "stream",
     "text": [
      "\r",
      "  5%|████████▍                                                                                                                                                           | 51/986 [13:28<3:05:16, 11.89s/it]"
     ]
    },
    {
     "name": "stdout",
     "output_type": "stream",
     "text": [
      "generated explanation: <pad> <extra_id_0> John was afraid of falling asleep. He was afraid that if he were sitting down he might do something. He was afraid that if he were sitting down he might fall asleep. This was because he was afraid that he was falling asleep. This was because he was afraid that he was sitting down. This was because he was afraid that if he were standing down he might fall asleep. This was because he was afraid that he was falling asleep. It was also possible that he was afraid of fall asleep because he was standing up</s>\n",
      "########\n",
      "*******\n",
      "question: He didn't know that good things can be posion in large doses.  He thought that he was just eating an essential what?\n",
      "answer: nutrient\n",
      "choices: ['antidote', 'consumable', 'nutrient', 'vitamin', 'medicine']\n",
      "common expl list: ['He thought that he was just eating an essential nutrient, but in large doses, it could be poisonous.']\n"
     ]
    },
    {
     "name": "stderr",
     "output_type": "stream",
     "text": [
      "\r",
      "  5%|████████▋                                                                                                                                                           | 52/986 [13:30<2:17:50,  8.86s/it]"
     ]
    },
    {
     "name": "stdout",
     "output_type": "stream",
     "text": [
      "generated explanation: <pad> <extra_id_0> He thought that good things can be good things in large doses. He thought that he was eating an essential nutrient. He thought that he was just eating a food that is essential to life. He thought that he was eating something essential. He thought that he was eating a food that is essential to life. He thought that nutrients are essential to life. They are essential to health. They are essential to the body, mind and body. They are essential to the body, and they are essential to the body. They are essential to life.<extra_id_1> </s>\n",
      "########\n",
      "*******\n",
      "question: The police didn't pay any favors, their job was to what?\n",
      "answer: force law\n",
      "choices: ['force law', 'board vessels', 'arrest', 'arm weapons', 'direct traffic']\n",
      "common expl list: ['Police are usually tasked with upholding the law, and if they see a law being broken they will intervene (forceful intervention); moreover, they also coordinate with other officers (direct traffic and board vessels). These activities do not involve favors.']\n"
     ]
    },
    {
     "name": "stderr",
     "output_type": "stream",
     "text": [
      "\r",
      "  5%|████████▊                                                                                                                                                           | 53/986 [15:03<8:50:23, 34.11s/it]"
     ]
    },
    {
     "name": "stdout",
     "output_type": "stream",
     "text": [
      "generated explanation: <pad> <extra_id_0> The police were not paid favors, they were paid by the government. force law is a form of law that is used to enforce the law and enforce its laws. The police were paid no favors, their job was to enforce the law and enforce the law. Force law is a form of law that requires the police to obey orders and regulations, and is a great way to enforce the law. Force law is a form of law enforcement that is able to make sure that the law is followed and that the law is in compliance with the law and the law is. Force law is a form of law enforcement officers must be aware that the law is not a form of law enforcement. The law is a form of law enforcement officers who are able to break orders and/or other acts of law enforcement. The police must enforce orderly and a crime. The police must also be able to make sure that the law enforcement officers have a good record of good and act in a good act. The law enforcement officer is able to make sure that the law is a good act of law enforcement. The force is able to enforce a good act of a good act of force is a good act of force to enforce a good act of a good act of a good act of a good act of a good act of a good act of a good act of a good act of a good act of a good act of a good act of a good act of a good act of a good act of a good act of a good act of a good act of a good act of a good act of a crime. The police officers’ duty officers’ duties officers’ duties to the police officers’ duties to the public a crime to the public a crime to the public good act of a crime to the public a crime to protect the public a crime to protect the public a good felony to protect the public acted. The police officers’ duty to protect the public a crime to protect the public a crime to keep the public a crime to keep the police officer's duty to keep the police officers' duty to keep the police officer's duty. The police officers' duty to keep the police officers' duty to keep the police officers' duty to keep the police officers' duty to keep the public a public\n",
      "########\n",
      "*******\n",
      "question: The place specialized in colorful arrangements, but the also had a toy balloon or two where?\n",
      "answer: flower shop\n",
      "choices: ['see work', 'birthday party', 'flower shop', 'parade', 'toy store']\n",
      "common expl list: ['Batches of balloons are available at flower shops, where floral arrangements are sold, and rainbow contruction paper is usually found in art shops and classrooms.', 'Flower shops sell interesting arrangements made with colorful flowers.']\n"
     ]
    },
    {
     "name": "stderr",
     "output_type": "stream",
     "text": [
      "\r",
      "  5%|████████▉                                                                                                                                                          | 54/986 [16:25<12:36:15, 48.69s/it]"
     ]
    },
    {
     "name": "stdout",
     "output_type": "stream",
     "text": [
      "generated explanation: <pad> <extra_id_0> The place specialized in colorful arrangements, but the also had a toy balloon or two where? flower shop was a place that specialized in colorful arrangements, and the place had a toy balloon or two. The place was a place where flowers were made, and the place was a place where people could enjoy a variety of different flowers, including balloons, balloons, and other items. The place was also known for its colorful arrangements, which included balloons, balloons, and other items. The place was also known for its colorful arrangements, which could be a place where customers could also enjoy a balloon, balloon balloons, and other items. The place was also known for its colorful arrangements, which included balloons, balloons, balloons, balloons, balloons, which could be purchased at the flower shop, which could be purchased at the same time. The place was also specialized in colorful arrangements, which could be purchased in colorful arrangements, which could be a fun and colorful arrangements, which could be purchased by customers, which could be purchased by customers, which could be purchased by customers, balloons, balloons, balloons, balloons, balloons, balloons, balloons, balloons, balloons, balloons, balloon balloon balloons, balloons, balloons, and balloons, balloons, balloon balloon balloons, balloon balloons, balloon balloons, balloon balloon balloons, balloon balloon balloons, balloon balloon balloons, balloon balloons, balloons, balloon balloons, balloon balloons, balloons, balloons, balloons, balloons, balloons, balloon balloons, balloons, etc. balloon balloons, balloons, balloons, balloons, balloons, balloon balloons, balloons, balloons, balloons, balloons, balloons, balloon balloons, balloons, balloons, balloons, balloons, balloons, balloons, balloons, balloons, balloons, balloons, balloons, balloons, balloons, balloons, balloons, flowers, balloons, balloons, balloons, balloons, balloons, balloons, balloons, balloons, balloons, balloons, balloons, balloons, balloons, balloons, balloons, balloons, balloons, balloons, balloons, balloons, balloons, balloons, balloons, balloons, balloons\n",
      "########\n",
      "*******\n",
      "question: Where was there never any mammoth?\n",
      "answer: zoo\n",
      "choices: ['wild', 'north dakota', 'forest', 'movie', 'zoo']\n",
      "common expl list: ['Mammoths are extinct, and zoos are places where animals are kept for observation and study.']\n"
     ]
    },
    {
     "name": "stderr",
     "output_type": "stream",
     "text": [
      "\r",
      "  6%|█████████▏                                                                                                                                                          | 55/986 [16:38<9:46:06, 37.77s/it]"
     ]
    },
    {
     "name": "stdout",
     "output_type": "stream",
     "text": [
      "generated explanation: <pad> <extra_id_0> The zoo is a place where mammals can be found. It is a place where mammals can be found in the wild. It is also a place where mammals can be found in the wild. It is also a place where mammoth can be found in the wild. It is also a place where animals can be found in the wild. It is a place where mammals can live and learn new things. It is also a place where animals can learn about their habitats and learn about their environment. It is also a place where mammoths can be found in the wild and learn new things that can be found in the wild. It is also a place where there are no mammoths can be found in the wild. It is also where mammals can be found in the wild. It is a place where they can be found in the wild. It is a place where mammals can learn and learn about their habitats and learn about their habitats and how they can learn about the world around them. It is important to know what they can learn about the world.</s>\n",
      "########\n",
      "*******\n",
      "question: Why do most people engage in chatting with friends?\n",
      "answer: fun\n",
      "choices: ['fun', 'love', 'answers', 'inspiration', 'relaxation']\n",
      "common expl list: ['Chats with friends are often fun, and thus people engage in them for that reason.']\n"
     ]
    },
    {
     "name": "stderr",
     "output_type": "stream",
     "text": [
      "\r",
      "  6%|█████████▎                                                                                                                                                          | 56/986 [16:40<6:59:56, 27.09s/it]"
     ]
    },
    {
     "name": "stdout",
     "output_type": "stream",
     "text": [
      "generated explanation: <pad> <extra_id_0> People engage in chatting with friends for fun reasons. Chatting is a form of social interaction, which is often a fun way to meet new people. It is a way of sharing information and sharing experiences with friends. Chatting is a form of social interaction, which is often a form of conversation that is often shared with others, such as family members, and friends. It is also a form of social interaction that can be used to communicate ideas, ideas, and ideas. It is also a way to share ideas, and to share ideas with other people. It can be a way to share information and sharing, which is a way to connect with friends.<extra_id_1> </s>\n",
      "########\n",
      "*******\n",
      "question: What could happen after discovering truth that you did not want to know?\n",
      "answer: pain\n",
      "choices: ['pain', 'relief', 'grey hair', 'understanding', 'enlightenment']\n",
      "common expl list: ['Truth can be painful, and discovering it can cause pain.']\n"
     ]
    },
    {
     "name": "stderr",
     "output_type": "stream",
     "text": [
      "\r",
      "  6%|█████████▍                                                                                                                                                         | 57/986 [18:06<11:35:21, 44.91s/it]"
     ]
    },
    {
     "name": "stdout",
     "output_type": "stream",
     "text": [
      "generated explanation: <pad> <extra_id_0> After discovering truth, you may experience pain. Pain is a natural response to the sensation of feeling pain. Pain is a natural response to the pain that comes with the truth. Pain is a natural response to feeling pain, as it allows you to feel the sensation of pain. Pain can be caused by a physical or emotional reaction, such as pain, or by a physical or mental condition. Pain can be a sign of pain, and it can be a sign of pain. Pain can also be a sign of a sign of pain, as it allows you to feel the truth. Pain can be a sign that you may not want to know. Pain can be a sign that you do not want to know, and that you do not want to know the truth. Pain can be a sign of pain, and that pain can be a sign of pain that you do not want to know the truth. Pain can be a sign that you do not want to know the truth, and pain can be a sign of pain, which is a sign that you do not want to know the truth. Pain can be a sign of pain, and pain can be a sign of pain, and pain can be a sign of pain can be a sign of pain can be a sign of pain can be a sign of pain can be a sign of pain can be a sign of pain. Pain can be a sign of pain can be a sign that you are suffering. Pain can be a sign that you are suffering. Pain can be a sign that you are feeling that you are feeling that you are feeling that you are not feeling pain. Pain can be a sign that you are not wanting to know that you are not wanting to know that you are not want to know that you are experiencing pain can be a sign that you are feeling pain can be feeling pain can be a sign that you are experiencing pain can be a sign that you are feeling pain. Pain. Pain can be a sign that you are feeling the truth that you are not wanting to be uncomfortable or uncomfortable or uncomfortable or uncomfortable. Pain can be uncomfortable and uncomfortable. Pain can be uncomfortable and uncomfortable and uncomfortable to know that you are uncomfortable or uncomfortable. Pain can be uncomfortable and uncomfortable and uncomfortable. Pain can be uncomfortable and uncomfortable to be uncomfortable to discover that truth. Pain can be uncomfortable and uncomfortable to know that you may be in the position\n",
      "########\n",
      "*******\n",
      "question: What will an athlete do to warm up their legs?\n",
      "answer: jog\n",
      "choices: ['use heater', 'sprint', 'jog', 'run fast', 'compete']\n",
      "common expl list: ['When athletes warm up before swimming, running, riding a bike, or performing other physical activity, they generally will jog (which will help them loosen muscles in the legs).', 'warming up is a routine that is performed to either prepare for doing something new, or prepare for doing something which put strains on you, or which you have been out of practice doing.']\n"
     ]
    },
    {
     "name": "stderr",
     "output_type": "stream",
     "text": [
      "\r",
      "  6%|█████████▋                                                                                                                                                          | 58/986 [18:08<8:15:46, 32.05s/it]"
     ]
    },
    {
     "name": "stdout",
     "output_type": "stream",
     "text": [
      "generated explanation: <pad> <extra_id_0> A jog is a great way for an athlete to warm up their legs. It is a great way to increase the amount of energy that is stored in the muscles, and to help reduce fatigue. It is also a great way to help warm up the muscles, which are often damaged or damaged by a jog. Jogs are also great for warming up the muscles, which helps to keep the muscles moving. They also help to keep the muscles moving and improving. Jogs are also a great way to help to keep the muscles moving muscles, which helps to reduce the stress, and helps to keep the muscles that are damaged, and to prevent the injury.<extra_id_1> </s>\n",
      "########\n",
      "*******\n",
      "question: Where can you keep your binder on your person between periods of instruction?\n",
      "answer: backpack\n",
      "choices: ['class room', 'car', 'office supply store', 'backpack', 'bookcase']\n",
      "common expl list: ['Usually binder users carry their binders from class to class outside of the classroom. Backpacks are often convenient, and are large enough to hold the binder.']\n"
     ]
    },
    {
     "name": "stderr",
     "output_type": "stream",
     "text": [
      "\r",
      "  6%|█████████▊                                                                                                                                                          | 59/986 [18:10<5:56:31, 23.08s/it]"
     ]
    },
    {
     "name": "stdout",
     "output_type": "stream",
     "text": [
      "generated explanation: <pad> <extra_id_0> Your binder is a valuable possession that you can keep in your backpack during instruction. The binder is a valuable tool for students who are interested in learning more about the subject. It is a useful tool for students who are looking for a new hobby or hobby. It is also a great way to keep a binder handy in the classroom. It is also a great way to keep track of your progress, as well as to keep track of your progress. It also helps students with special needs like homework, schoolwork, or other activities. It is also a great way to keep track of your progress, and you can keep track of your progress, as well as other items that you need to keep track of them.</s>\n",
      "########\n",
      "*******\n",
      "question: In the middle of the day what will someone do because of being hungry?\n",
      "answer: have lunch\n",
      "choices: ['cook dinner', 'make bread', 'eat in restaurant', 'have lunch', 'make bread']\n",
      "common expl list: ['People often eat lunch at midday, and so, if they are hungry at midday, they might go to a restaurant to eat lunch.', \"It's common for folks to have lunch during the middle of the day.\"]\n"
     ]
    },
    {
     "name": "stderr",
     "output_type": "stream",
     "text": [
      "\r",
      "  6%|█████████▉                                                                                                                                                          | 60/986 [18:12<4:18:28, 16.75s/it]"
     ]
    },
    {
     "name": "stdout",
     "output_type": "stream",
     "text": [
      "generated explanation: <pad> <extra_id_0> Having lunch is a great way to get a meal, especially if you are a person who is hungry. Lunch is a great way to start the day, as it helps to keep you on track with your work and your goals. Lunch is a great way to start the day and to end the day with a full belly. It is also a great way to get a meal, as it is a great way to get a quick fix on a problem and get the most out of it. Lunch is also a great way to keep you on track with your goals and help to keep you on track to keep you on track your progress.<extra_id_1> </s>\n",
      "########\n",
      "*******\n",
      "question: Where is garbage brought to by garbagemen?\n",
      "answer: landfill\n",
      "choices: ['trashcan', 'landfill', 'television', 'computer', 'dumpster']\n",
      "common expl list: ['Landfills are where all the trash in the city go to.']\n"
     ]
    },
    {
     "name": "stderr",
     "output_type": "stream",
     "text": [
      "\r",
      "  6%|██████████▏                                                                                                                                                         | 61/986 [18:14<3:09:11, 12.27s/it]"
     ]
    },
    {
     "name": "stdout",
     "output_type": "stream",
     "text": [
      "generated explanation: <pad> <extra_id_0> Garbage is brought to a landfill, a landfill that holds the garbage collected by garbagemen. The landfill is a place where garbage is kept, and the landfill is a place where garbage is disposed of. The landfill is located in a building that is able to collect and store garbage. The landfill is a place where garbage is disposed of, and is a great place to store and store garbage. The landfill is also a place where garbage cans and recycling bins can be found. The landfill is a great place to store garbage. The landfill is a great place to store garbage.</s>\n",
      "########\n",
      "*******\n",
      "question: What are people doing when washing hands for a long time?\n",
      "answer: thinking\n",
      "choices: ['thinking', 'sleeping', 'use soap', 'irritation', 'cleaning dirt off']\n",
      "common expl list: ['People often think about things while they are washing their hands, and this is a good time to think about things.', 'People often just pause while washing their hands. It may be that they are thinking about something while this occurs naturally.']\n"
     ]
    },
    {
     "name": "stderr",
     "output_type": "stream",
     "text": [
      "\r",
      "  6%|██████████▎                                                                                                                                                         | 62/986 [19:42<8:57:34, 34.91s/it]"
     ]
    },
    {
     "name": "stdout",
     "output_type": "stream",
     "text": [
      "generated explanation: <pad> <extra_id_0> People often wash hands for a long time. This is called thinking about what to do when washing hands. This is called thinking about what to do when washing hands. The thought of washing hands is a good way to think about what to do when washing hands for a long time. It is also a good way to think about what to do when washing hands. It is a good way to think about what to do when washing hands. It is a good way to think about what to do when washing hands. It is also a good way to avoid washing hands for a long time. This is called washing hands for a long time. It is important to think about what to do when washing hands for a long time. It is important to wash hands for washing hands for a long time. It is important to think about what to think about what to do when washing hands. It is important to wash hands for people to wash hands for a long time to think about what to wash hands for a long time. It is important to wash hands for washing hands for washing hands for washing hands for washing hands for washing hands for washing hands for washing hands for washing hands for washing hands for washing hands for washing hands for washing hands for washing hands for washing hands for washing hands for washing hands for washing hands for washing hands for washing hands for washing hands for washing hands for washing hands for washing hands for washing hands for washing hands for washing hands for washing hands for washing hands for washing hands for washing hands washing hands. washing hands washing hands washing hands properly washing hands to wash hands to wash hands. Washing hands for washing hands to wash hands to wash hands to wash hands. Washing hands is a long time. Washing hands is a person to wash hands. Wash hands to wash hands to wash hands to wash hands to wash hands. Wash hands clean hands to wash hands to wash hands to wash hands. Wash hands to wash hands to wash hands to wash hands to wash hands to wash hands to dry hands to wash hands. Wash hands to wash hands to wash hands to wash hands to wash hands to wash hands properly wash hands properly. Wash hands to wash hands to wash hands to wash hands to wash hands to wash hands to wash hands to wash hands to wash hands to wash hands to wash hands to wash hands to wash hands to clean hands to wash hands to wash hands to clean hands to clean hands to wash hands to dry hands to wash hands to wash hands to clean hands to\n",
      "########\n",
      "*******\n",
      "question: What would someone say about a tube television?\n",
      "answer: obsolete\n",
      "choices: ['obsolete', 'addictive', 'entertaining', 'bycone', 'legal']\n",
      "common expl list: ['Tube televisions are no longer manufactured, and are therefore obsolete.', 'Tube televisions are obsolete, meaning that they are old and was abolished by newer technology.']\n"
     ]
    },
    {
     "name": "stderr",
     "output_type": "stream",
     "text": [
      "\r",
      "  6%|██████████▍                                                                                                                                                         | 63/986 [19:44<6:23:34, 24.93s/it]"
     ]
    },
    {
     "name": "stdout",
     "output_type": "stream",
     "text": [
      "generated explanation: <pad> <extra_id_0> A tube television is a modern technology that is prone to being dated and dated. It is a technological tool that is often worn out and worn out. It is a piece of equipment that is often used to make a television more portable and reliable. It is also a great way to get rid of the hassle of having to buy a new television. It is also a great way to get rid of the clutter of your home and office. Tube televisions are also very popular because they are often inexpensive and easy to get rid of them.<extra_id_1> </s>\n",
      "########\n",
      "*******\n",
      "question: The man drank his coffee at work?\n",
      "answer: office\n",
      "choices: ['coffee shop', 'table', 'kitchen', 'office', 'chair']\n",
      "common expl list: ['People often drink coffee at offices, with other co-workers.', 'The man is likely to be at work, and offices often have kitchens where coffee is made.', 'The man probably works in an office where he could have a cup of coffee while behind his desk.']\n"
     ]
    },
    {
     "name": "stderr",
     "output_type": "stream",
     "text": [
      "\r",
      "  6%|██████████▋                                                                                                                                                         | 64/986 [19:46<4:37:30, 18.06s/it]"
     ]
    },
    {
     "name": "stdout",
     "output_type": "stream",
     "text": [
      "generated explanation: <pad> <extra_id_0> The man drank his coffee at work. office coffee is a beverage that is consumed at the office. It is a beverage that is a great source of caffeine and a great source of energy for the employee. It is a great way to get a sense of purpose and satisfaction while reducing stress and anxiety. It also provides a sense of relaxation and relaxation, as well as a sense of calm and calm. It also provides a sense of security that is not easily disturbed by the coffee and the lack of distractions that are often the best way to keep up with the man. It is also a great way to keep him from the office.</s>\n",
      "########\n",
      "*******\n",
      "question: What can he do to eliminate his ignorance?\n",
      "answer: learn new\n",
      "choices: ['find information', 'judge', 'do some research', 'find truth', 'learn new']\n",
      "common expl list: [\"Learning is a way to eliminate ignorance; for example, learning a foreign language is one way to eliminate ignorance of that language's grammar.\", 'In this context, ignorance refers to a lack of knowledge, and obtaining new knowledge is the best way to eliminate the ignorance.', 'Ignorance is the state of not knowing something, and to eliminate ignorance, one must learn new things.']\n"
     ]
    },
    {
     "name": "stderr",
     "output_type": "stream",
     "text": [
      "\r",
      "  7%|██████████▊                                                                                                                                                         | 65/986 [19:48<3:23:18, 13.24s/it]"
     ]
    },
    {
     "name": "stdout",
     "output_type": "stream",
     "text": [
      "generated explanation: <pad> <extra_id_0> The answer is to learn how to avoid his ignorance. By learning about the world, you can help him understand the world, and how to deal with it. You can also learn how to recognize and understand the world around you. This will help you understand the world around you and understand why you are here. Learn how to identify and understand the world around you and your surroundings, and how to use them to help you understand the world around you. Learn how to use the world to help others, and how to use them to help others. Learn how to use the resources, and how to solve problems, so that you can help others. Learn how to use the information to help you in the world.</s>\n",
      "########\n",
      "*******\n",
      "question: What do humans do when in a race?\n",
      "answer: compete with each other\n",
      "choices: ['lay eggs', 'eat fruit', 'wrestle', 'compete with each other', 'draw pictures']\n",
      "common expl list: ['Humans are naturally athletic and competitive. On land, people will compete with each other by running or wrestling. Often humans race on water by swimming, or by boating with other people.']\n"
     ]
    },
    {
     "name": "stderr",
     "output_type": "stream",
     "text": [
      "\r",
      "  7%|██████████▉                                                                                                                                                         | 66/986 [19:49<2:29:33,  9.75s/it]"
     ]
    },
    {
     "name": "stdout",
     "output_type": "stream",
     "text": [
      "generated explanation: <pad> <extra_id_0> Human race is a race where humans compete with each other to become the best of the other. This is because humans compete with each other in a race. This is because humans are competing against each other in a race. This is because humans are competing with each other to win. This is because humans are competing with each other to achieve the best possible outcome. This is because humans are competing with each other to achieve the best possible result. This is because humans are competing with each other to win. This is because humans compete with each other to win.<extra_id_1> </s>\n",
      "########\n",
      "*******\n",
      "question: She explained that you won't always get what you want with a goal, but you should still do what with it?\n",
      "answer: reach for\n",
      "choices: ['know how to find', 'work hard', 'remember where', 'reach for', 'purchase']\n",
      "common expl list: ['Reaching for attained goals is more beneficial than simply working towards them, at least in the short term. It significantly increases your chances of success.']\n"
     ]
    },
    {
     "name": "stderr",
     "output_type": "stream",
     "text": [
      "\r",
      "  7%|███████████▏                                                                                                                                                        | 67/986 [19:51<1:53:28,  7.41s/it]"
     ]
    },
    {
     "name": "stdout",
     "output_type": "stream",
     "text": [
      "generated explanation: <pad> <extra_id_0> She explained that you won't always get what you want with a goal, but you should still reach for it. She also explained that you should reach for something that you can do with it. She explained that you should always reach for something that you can use to get what you want. She also explained that you should always try to get what you want with a goal. She added that she should not reach for anything that doesn't work for you. She said that she was just trying to reach for what she wanted. She also said that she should reach for something that you can do with a goal that you can't always get what you want.</s>\n",
      "########\n",
      "*******\n",
      "question: What happens when you eat hamburger too fast without swallowing?\n",
      "answer: choking\n",
      "choices: ['get full', 'drink', 'choking', 'hungry', 'getting fat']\n",
      "common expl list: [\"If you eat hamburger too fast, you might choke on it, because it's a solid food that can get stuck in your throat.\", \"When you eat hamburger too fast, it can quickly turn into the consistency of a block, and when you can't swallow it, it can cause you to choke.\", 'Eating too fast can sometimes cause coughing / choking as food get stuck in your throat.', \"Choking can occur when you stick stuff in your mouth which can't go down your throat properly, so that you can't breath. Common causes can be eating too fast, or swallowing items that can't go down your throat, like liquids or large\"]\n"
     ]
    },
    {
     "name": "stderr",
     "output_type": "stream",
     "text": [
      "\r",
      "  7%|███████████▎                                                                                                                                                        | 68/986 [20:32<4:26:51, 17.44s/it]"
     ]
    },
    {
     "name": "stdout",
     "output_type": "stream",
     "text": [
      "generated explanation: <pad> <extra_id_0> Eat too fast without swallowing can cause choking. Choking is a condition that occurs when you eat too fast food, such as hamburger, which is often accompanied by a choking event. Choking is a condition that can cause a person to become choking. Choking is a condition that can cause a person to experience choking when they eat hamburger. Choking is a condition that can cause a person to choke. Choking is a condition that can cause a person to swallowing. Choking is a condition that can cause choking when eating hamburger to avoid eating hamburgers. Choking is a condition that can cause choking when eating hamburgers are eating fast hamburgers. choking is a condition that can cause choking is a condition that choking is a condition that can cause a person to swallow a person to eat hamburger to eat fast and can cause choking and can cause choking and can cause choking when eating hamburger to choking when eating hamburger to eat hamburger to eat hamburger to eat fast food to eat fast food to eat fast food to consume hamburger to consume hamburger to consume hamburger to consume a person to swallowing or choking, which can cause choking, which can cause the food to consume a healthy food to consume a healthy food to consume a healthy food to consume excessively fast.<extra_id_1> </s>\n",
      "########\n",
      "*******\n",
      "question: John sat in a folding chair in a bit room with a stage.  What sort of room could that be?\n",
      "answer: auditorium\n",
      "choices: ['room', 'auditorium', 'meeting hall', 'school', 'church']\n",
      "common expl list: ['An auditorium is a large room that is used for public events, such as concerts, plays, and speeches.']\n"
     ]
    },
    {
     "name": "stderr",
     "output_type": "stream",
     "text": [
      "\r",
      "  7%|███████████▍                                                                                                                                                        | 69/986 [21:26<7:15:04, 28.47s/it]"
     ]
    },
    {
     "name": "stdout",
     "output_type": "stream",
     "text": [
      "generated explanation: <pad> <extra_id_0> John sat in a stage. The auditorium is a type of auditorium. It is a type of room that is often used to entertain, entertain, and entertain. It is often used to create a sense of place and sound. The auditorium is also used to create a sense of space and feel. The auditorium is also used to create a sense of space and feel. It is also used to create a sense of space and feel. It is also used to create a sense of place and feel. The auditorium is a space where John sat in a stage. The auditorium is a space that is used to create a sense of space and feel of space. The auditorium is a space where John could experience a bit room. The auditorium is a space that John could create a sense of space that John could experience. The auditorium. The auditorium is a space that John could experience. The auditorium can be a space that John could experience. The auditorium is a space that John could experience. The auditorium is a space that John could experience the auditorium in a space that John could experience when John could experience the auditorium. The auditorium is a space that John could experience as John could experience the experience of a space that John could experience the experience of the same experience that John could experience. The auditorium is a room that John could experience the experience of the world of the sense of space that John could be a space that could experience the world that John could experience the world that John could experience<extra_id_1> </s>\n",
      "########\n",
      "*******\n",
      "question: What would an adult man do to get ready for work?\n",
      "answer: dress himself\n",
      "choices: ['dress herself', 'shower', 'dress himself', 'drink beer', 'drive train']\n",
      "common expl list: ['Adult males commonly wear suits to work. Men might get dressed in the morning, particularly if they plan on wearing a suit for work.', 'An adult man would dress himself for work: this includes putting on pants, shirts, and dresses, and typical choices are professional clothes, such as suit and tie.']\n"
     ]
    },
    {
     "name": "stderr",
     "output_type": "stream",
     "text": [
      "\r",
      "  7%|███████████▋                                                                                                                                                        | 70/986 [21:57<7:26:02, 29.22s/it]"
     ]
    },
    {
     "name": "stdout",
     "output_type": "stream",
     "text": [
      "generated explanation: <pad> <extra_id_0> An adult man can dress himself to get ready for work. Dressing up is a great way to get ready for work. Dressing up is a great way to get ready for work. Dressing up is a great way to get ready for work, as it allows you to get ready in time for work. Dressing up is a great way to get ready for work, as it allows you to be confident and confident. Dressing up is also a great way to get ready for work. Dress up is also a great way to get ready for work, as it allows you to be confident and confident in the workplace. Dressing up is a great way to get ready for work, and it allows you to get ready for work. Dress up for work, as it allows you to be confident and confident. Dressing up is also a great way to prepare for work, and it allows you to be confident and confident, as it allows you to prepare for work, as well as preparing for work. Dress up as a good way to get ready for work, as it allows you to be confident and confident, as well as a safe and confident to be dressed for work.<extra_id_1> </s>\n",
      "########\n",
      "*******\n",
      "question: What does one do at an office?\n",
      "answer: work\n",
      "choices: ['work', 'school building', 'workplace', 'skyscraper', 'public building']\n",
      "common expl list: ['One does work at the office', 'An office is a place where people work.', 'An office is a specific type of workplace.']\n"
     ]
    },
    {
     "name": "stderr",
     "output_type": "stream",
     "text": [
      "\r",
      "  7%|███████████▊                                                                                                                                                        | 71/986 [21:59<5:22:13, 21.13s/it]"
     ]
    },
    {
     "name": "stdout",
     "output_type": "stream",
     "text": [
      "generated explanation: <pad> <extra_id_0> Work is one of the most important types of work that can be done in an office. It is a critical part of a company’s culture and culture. It is also a valuable part of the company’s culture and culture. It is a valuable tool for a company to have a productive and productive work environment. It also provides a place for employees to work, which is important for any organization. It is also a great way to get the most out of life and work. It also provides a place for employees to work, and it provides a great way to gain a lot of opportunities for employees to work and to learn new skills. It is important to have a great way to be able to gain new</s>\n",
      "########\n",
      "*******\n",
      "question: When a person is on trial for killing, what is a jury likely to decide?\n",
      "answer: punishment\n",
      "choices: ['execution', 'investigation', 'going to jail', 'retribution', 'punishment']\n",
      "common expl list: ['A person who has just killed another person often goes to trial, so the jury will likely have to decide what the most just punishment is.', 'A jury is likely to decide that the person is guilty of the crime, and punish them accordingly.', 'When a jury decides that someone is guilty of a crime, they typically hand down a punishment.']\n"
     ]
    },
    {
     "name": "stderr",
     "output_type": "stream",
     "text": [
      "\r",
      "  7%|███████████▉                                                                                                                                                        | 72/986 [22:01<3:53:24, 15.32s/it]"
     ]
    },
    {
     "name": "stdout",
     "output_type": "stream",
     "text": [
      "generated explanation: <pad> <extra_id_0> A jury is likely to decide whether a person is guilty of killing a person if it is a crime. This is because punishment is a punishment that is imposed on the person who is on trial for killing a person. It is also a punishment that a jury can determine if the crime is justified. A jury is likely to decide whether to punish the person for killing the person. This is because a jury is likely to decide whether to punish the person who killed the person. This punishment is usually a punishment that is often used to punish the person's death.<extra_id_1> </s>\n",
      "########\n",
      "*******\n",
      "question: Most adult Americans split their time between home and what?\n",
      "answer: work\n",
      "choices: ['tent', 'work', 'apartment', 'the office', 'foreign']\n",
      "common expl list: ['Home and work may be the two places where most adult Americans spend most of their waking hours.', 'Most adults spend most of their time at work.']\n"
     ]
    },
    {
     "name": "stderr",
     "output_type": "stream",
     "text": [
      "\r",
      "  7%|████████████▏                                                                                                                                                       | 73/986 [22:04<2:54:26, 11.46s/it]"
     ]
    },
    {
     "name": "stdout",
     "output_type": "stream",
     "text": [
      "generated explanation: <pad> <extra_id_0> Most adult Americans split their time between home and work. Work is the second most common way to spend their time between home and work. Work is the most common form of employment, and it is the most common place to work. Work is often more productive than home, and it is often more convenient and productive than work. Work is the second most common way Americans split their time between home and work. Work is the most convenient and productive way to spend time with family and friends. Work is the most productive and productive way to spend time with family and friends. Work is also a great way to keep up with the most productive and productive way to keep up with the most productive and successful work. Work is also the most productive and productive way to keep up with the most productive and productive life.<extra_id_1> </s>\n",
      "########\n",
      "*******\n",
      "question: Professionally the fighters always maintained a level of respect, but personally they held each other in what for things that were said?\n",
      "answer: contempt\n",
      "choices: ['belittlement', 'humiliate', 'irreverence', 'contempt', 'love']\n",
      "common expl list: ['Despite the respect that was maintained by the respectful fighters, the feelings that they had for each other were always a sense of contempt for each others character.']\n"
     ]
    },
    {
     "name": "stderr",
     "output_type": "stream",
     "text": [
      "\r",
      "  8%|████████████▎                                                                                                                                                       | 74/986 [22:06<2:13:15,  8.77s/it]"
     ]
    },
    {
     "name": "stdout",
     "output_type": "stream",
     "text": [
      "generated explanation: <pad> <extra_id_0> The fighters always maintained a level of respect for each other, but personally they held each other in what for things that were said. This is why they always held each other in contempt for what they said. This is because the fighters always maintained a level of respect for each other, and for things that were said. This is because fighters are a group of people who are not able to stand up to criticism, and they are not able to stand up to criticism. This is because they are able to stand up to criticisms that they are able to say, and that they are not able to say. This is why they are able to keep each other's feelings in contempt for what they say. This is because they are able to keep each other's feelings.<extra_id_1> </s>\n",
      "########\n",
      "*******\n",
      "question: Where would you find many tables of silverware rolled into nice displayed napkins?\n",
      "answer: restaurant\n",
      "choices: ['silver', 'park', 'table', 'cupboard', 'restaurant']\n",
      "common expl list: ['Restaurants often have a lot of silverware, and they might roll it up and place it in a napkin to make it easier to store.', 'In a commercial establishment, silverware is expected to be clean because consumption of food is involved. So, a restaurant may well be where someone would expect to find silverware rolled into nice displayed napkins (i.e., fancy silverware).', 'Restaurants often give used, rolled up silverware to customers, and they might keep them in nice, displayed napkins to make moving and storing them easier.']\n"
     ]
    },
    {
     "name": "stderr",
     "output_type": "stream",
     "text": [
      "\r",
      "  8%|████████████▍                                                                                                                                                       | 75/986 [22:29<3:17:42, 13.02s/it]"
     ]
    },
    {
     "name": "stdout",
     "output_type": "stream",
     "text": [
      "generated explanation: <pad> <extra_id_0> Restaurants are places where silverware is rolled into napkins. Restaurants are places where you will find many tables of silverware rolled into nice displayed napkins. Restaurants are places where silverware is rolled into napkins. Restaurants are places where silverware is rolled into napkins. Restaurants are places where silverware is rolled into napkins. Restaurants are places where you can find many tables of silverware rolled into nice displayed napkins. Restaurants are also places where you can find silverware rolled into napkins. Restaurants are places where you can find many tables of silverware. Restaurants are places where silverware is rolled into nice display napkins. Restaurants are places where you can find many napkins. Restaurants are located to serve silverware in a restaurant. Restaurants where you can serve silverware and silverware is rolled into napkins. Restaurants are places that you can find many tables of silverware rolled into nice displayed napkins. Restaurants are often located in locations where you can find silverware and silverware rolled into plates. Restaurants are located to serve dinner. Restaurants that serve dinner.<extra_id_1> </s>\n",
      "########\n",
      "*******\n",
      "question: He didn't believe fate controlled situations, what did he believe people did?\n",
      "answer: control events\n",
      "choices: ['control events', 'pray', 'dress themselves', 'talk to each other', 'think creatively']\n",
      "common expl list: [\"If one believes fate controls events, there's nothing to do but accept situation, perhaps to pray; in contrast, if one believed they had control over events, then they could act to change the situation.\", 'If one believes in fate, then one would believe that fate controls events. If one believes in free will, then one would believe that people control events.']\n"
     ]
    },
    {
     "name": "stderr",
     "output_type": "stream",
     "text": [
      "\r",
      "  8%|████████████▋                                                                                                                                                       | 76/986 [23:57<9:00:04, 35.61s/it]"
     ]
    },
    {
     "name": "stdout",
     "output_type": "stream",
     "text": [
      "generated explanation: <pad> <extra_id_0> He didn't believe fate controlled situations, but he believed people controlled events. He believed fate controlled events because they were able to control events that were occurring in his life. He believed that fate controlled events because they were able to control events that were occurring in their lives. This is a fact that he believed people had to deal with, and that fate was able to manipulate, control, and manipulate events. This is a fact that he believed people controlled events, and that he believed fate controlled events. It was a fact that fate controlled events, which is a fact that fate controlled events, he believed that people could manipulate events. This is a fact that fate controlled events, which is why, and that people were able to control events, which is a fact that fate could be a fact that people could be able to manipulate events. This is why, he believed that fate could also help to control events, which is why, because he believed that, and why, which he believed that, he believed that, as he believed that, that, as humans, events were being able to control events were able to control events that they could be able to control events that they could control events that ultimately lead to events that could be a key factor in the events that ultimately ultimately a key factor in the events that could be a key factor in events that could be a key factor in the events that could be a key factor in events that could have the key factors that could be factors that could cause the events that are a key factors that could have a key factor in a key factor in events that could also have the key factor in events that could have a key factor in events that could have the key factors that could affect events that could lead to the outcome of the events that could have the ability to control events that could have the ability to control events that could have the ability to control events that could impact the outcome of events that could influence events that could have the ability to control events that could have the ability to influence events that affect the outcome of events that could affect events that could have a change events that could have a positive events that could affect events that could affect the outcome of events that could affect the outcome of events that impact the outcome of events. The event that could have been a cause for events that could have a positive outcome. The author\n",
      "########\n",
      "*******\n",
      "question: Polly didn't know her way around, so she navigated by landmark.  She used statues, stores, and distinctive building.  Where might she be?\n",
      "answer: city\n",
      "choices: ['countryside', 'national park', 'map', 'neighbourhood', 'city']\n",
      "common expl list: ['In a city, landmarks are often used to navigate. In the countryside or in national parks, landmarks may not be as distinct, as buildings and statues are less likely to be found.', 'Landmarks are often located in cities, and so if a person was navigating by landmarks, they are likely to be in a city.', 'Landmark navigation works best in populated areas because distinctive buildings and statues can be more easily seen.', \"She used distinctive buildings as landmarks, so it is likely she's in a city.\"]\n"
     ]
    },
    {
     "name": "stderr",
     "output_type": "stream",
     "text": [
      "\r",
      "  8%|████████████▊                                                                                                                                                       | 77/986 [23:59<6:26:22, 25.50s/it]"
     ]
    },
    {
     "name": "stdout",
     "output_type": "stream",
     "text": [
      "generated explanation: <pad> <extra_id_0> Polly might be in a city, but she might be in a store or store. She could be in a store, store, or a store. Statues, stores, and distinctive building are popular places to find items that she could find. Statues, stores, and distinctive buildings are common places to find items that she could find. Statues, stores, and stores are common places to find items that polly could be in. These stores are a great place to find things that Polly might be in a store. Statues also store, store, and store.<extra_id_1> </s>\n",
      "########\n",
      "*******\n",
      "question: Some horses are white others are black, but many are this color which might lead some people to think their milk would taste like chocolate?\n",
      "answer: brown\n",
      "choices: ['big but gentle', 'kept in stables', 'cuddly', 'brown', 'running in herd']\n",
      "common expl list: [\"An individual brown-colored horse (particularly when cuddly) can resemble the color of chocolate. If a person were to guess based on the color, he might guess a horse's milk tasted similarly.\"]\n"
     ]
    },
    {
     "name": "stderr",
     "output_type": "stream",
     "text": [
      "\r",
      "  8%|████████████▉                                                                                                                                                       | 78/986 [24:01<4:38:17, 18.39s/it]"
     ]
    },
    {
     "name": "stdout",
     "output_type": "stream",
     "text": [
      "generated explanation: <pad> <extra_id_0> Some horses are white, but some are black, and some are brown. Brown is a color that is similar to white, brown, or brown. It is also known as brown milk because it is a color that is often used to describe milk as being a color that is often associated with chocolate. Brown is a color that is often associated with a darker color than white, and it is often associated with a darker color. Brown milk is also known as a color that is associated with brown, which is a color that is often used to represent a color that is often used to describe milk.</s>\n",
      "########\n",
      "*******\n",
      "question: What is the one thing you cannot do if you're on the move?\n",
      "answer: stand still\n",
      "choices: ['sit still', 'stationary', 'running', 'stand still', 'stay still']\n",
      "common expl list: ['You must be in motion to be counted as on the move. (this rule exists to disallow the action of holding still)']\n"
     ]
    },
    {
     "name": "stderr",
     "output_type": "stream",
     "text": [
      "\r",
      "  8%|█████████████▏                                                                                                                                                      | 79/986 [24:04<3:25:20, 13.58s/it]"
     ]
    },
    {
     "name": "stdout",
     "output_type": "stream",
     "text": [
      "generated explanation: <pad> <extra_id_0> If you're on the move, you'll need to stand still. Standstill is the only thing you can't do if you're on the move. It's a temporary, non-moving position, which means you're not able to use the device while you're on the move. It's also a way to avoid distractions, which can be dangerous for those who are on the move. It's also a great way to avoid distractions, as it allows you to focus on your surroundings, and you can also use your mobility to focus on your activities. Its also a great way to avoid distractions, which can be a great way to stay on the move.</s>\n",
      "########\n",
      "*******\n",
      "question: Where does someone convicted of a petty crime likely spend time?\n",
      "answer: jail\n",
      "choices: ['sell drugs', 'jail', 'nightclub', 'prison', 'offer drugs']\n",
      "common expl list: ['Someone convicted of a petty crime is likely to spend time in jail.', 'Someone convicted of a petty crime probably spends some time in jail, and not in prison.']\n"
     ]
    },
    {
     "name": "stderr",
     "output_type": "stream",
     "text": [
      "\r",
      "  8%|█████████████▎                                                                                                                                                      | 80/986 [24:05<2:32:21, 10.09s/it]"
     ]
    },
    {
     "name": "stdout",
     "output_type": "stream",
     "text": [
      "generated explanation: <pad> <extra_id_0> A jail is a place where someone convicted of a petty crime likely spend time. Jail is a place where a person convicted of a petty crime is likely to spend time in a prison. Jail is a place where a person is likely to spend time in jail, a place where they can spend time with loved ones, or if they are in a place where they are likely to be able to spend time with loved ones, such as a car seat, a courthouse, a petty crime. Jail is also a place where a person convicted of </s>\n",
      "########\n",
      "*******\n",
      "question: He would entertain with a pool party regularly, it was the best way to beat the what?\n",
      "answer: hot\n",
      "choices: ['please', 'hot', 'guest', 'bribe', 'liked']\n",
      "common expl list: ['Pool parties are a great way to beat the heat.']\n"
     ]
    },
    {
     "name": "stderr",
     "output_type": "stream",
     "text": [
      "\r",
      "  8%|█████████████▍                                                                                                                                                      | 81/986 [25:30<8:09:54, 32.48s/it]"
     ]
    },
    {
     "name": "stdout",
     "output_type": "stream",
     "text": [
      "generated explanation: <pad> <extra_id_0> Pool parties are often a great way to beat the hot weather. Pool parties are usually a great way to beat the heat, and the pool party is often a great way to beat the heat. The pool party is a great way to beat the heat, and it is a great way to beat the heat. Pool parties are also a great way to beat the heat, and it is a great way to beat the heat. Pool parties are often a great way to beat the heat, and it is a great way to beat the heat, and it is possible to beat the hot air, and it is a great way to beat the heat, and it is important to keep the heat. Pool parties are a great way to keep the heat, and it is important to keep the heat, which is a great way to keep the heat, which is a great way to keep the heat, and it is important to keep the heat, and keep the heat, and keep the heat, while a great way to keep the heat, which is a great way to keep the heat, and keep the heat, and keep the pool parties. Pool parties. Pool Parties are a great way to keep the heat, as it is a great way to keep the pool parties a great way to keep the heat, to keep the heat, while a great way to keep the heat, while a great way to keep the heat, and to keep the heat, to keep the heat, while keeping it hot. The pool parties a hot. The pool parties a hot. The pool parties a hot. The pool parties a hot. The pool parties a hot place for the pool parties a pool parties a pool parties a pool parties a pool parties a hot pool parties cool. The pool parties a hot. The hot. The pool parties a hot pool parties a hot pool parties a pool parties a hot pool parties a pool parties a pool parties a pool party atmosphere. The pool parties a hot pool parties a hot pool parties a hot pool parties a hot pool hot pool hot pool parties a hot pool parties a hot pool party a hot pool party a hot pool party a hot pool parties a pool party a pool parties a pool party a hot pool parties a hot pool parties a hot pool party a hot\n",
      "########\n",
      "*******\n",
      "question: If you wanted to confirm information that you had, you would do what to someone?\n",
      "answer: question\n",
      "choices: ['infirm', 'ask', 'deny', 'question', 'dispute']\n",
      "common expl list: ['To confirm something that your friends told you, you might need to ask those friends further questions to prove that the information was correct.', 'If you wanted to confirm information that you had, you would ask someone.', \"Often information is ambiguous, and I can confirm it by asking pointed questions or by scrutinizing the other person's story till I can find a way to interrogate their position.\", 'If you wanted to verify the truth, you might question the person who you got the alleged information from.']\n"
     ]
    },
    {
     "name": "stderr",
     "output_type": "stream",
     "text": [
      "\r",
      "  8%|█████████████▋                                                                                                                                                      | 82/986 [25:33<5:54:50, 23.55s/it]"
     ]
    },
    {
     "name": "stdout",
     "output_type": "stream",
     "text": [
      "generated explanation: <pad> <extra_id_0> If you wanted to confirm information that you had, you would do what to someone. This would include checking out the information that you have, and confirming the information that you have. This would include checking out the information that you have, and confirming that information that you have. This would also include checking out the information that you have, and confirming that information that you have. This would also include checking the information that you have, as well as checking the information that you have. This would also help to ensure that the information you have is accurate and a person. This would also help to ensure that information that you have, such information is a good thing that you have, and confirming information that you have, as it is important that you have. This would also help to ensure that you have, as well as confirming information that you have.</s>\n",
      "########\n",
      "*******\n",
      "question: Where is cheese likely to be dangerous for some creatures?\n",
      "answer: mouse trap\n",
      "choices: ['refrigerator', 'mouse trap', 'fridge', 'outside', 'plate']\n",
      "common expl list: ['cheese has been said to attract mice. Mice traps may contain cheese in order to attract them.']\n"
     ]
    },
    {
     "name": "stderr",
     "output_type": "stream",
     "text": [
      "\r",
      "  8%|█████████████▊                                                                                                                                                      | 83/986 [25:36<4:19:48, 17.26s/it]"
     ]
    },
    {
     "name": "stdout",
     "output_type": "stream",
     "text": [
      "generated explanation: <pad> a mouse trap is a type of trap that traps and treats food that contains cheese, which is a type of food that is typically found in a human mouth. This is because cheese is a highly specialized, highly specialized food that is often used to ingest and store food in the human body. Mouse traps are often used to collect food from food sources such as food sources, food sources, and food sources. Cheese is also a great food source for mouse and other animal species, such as mice, as well as serving food sources that are a good source of food that are used to produce cheese, which can be a great source of food that can cause a great source of food that is used to produce a healthy food source that can be used to produce dangerous food.</s>\n",
      "########\n",
      "*******\n",
      "question: He spent all work day at a computer, so he got a footstool for more comfort at his what?\n",
      "answer: desk\n",
      "choices: ['desk', 'bathroom', 'shoe shop', 'family room', 'living room']\n",
      "common expl list: ['A footstool is a small stool that is used to raise the height of a chair or table. If someone spends all day at a computer, they might need a footstool to raise their desk.']\n"
     ]
    },
    {
     "name": "stderr",
     "output_type": "stream",
     "text": [
      "\r",
      "  9%|█████████████▉                                                                                                                                                      | 84/986 [26:00<4:51:53, 19.42s/it]"
     ]
    },
    {
     "name": "stdout",
     "output_type": "stream",
     "text": [
      "generated explanation: <pad> <extra_id_0> He spent all day at a computer, so he got a footstool for more comfort at his desk. The desk is designed to be used for a variety of tasks, such as a spreadsheet, a spreadsheet, or a spreadsheet. The desk is also designed to provide a comfortable place to sit and work. The footstool is designed to be used for comfort and ergonomic purposes. The footstool is designed to be used when a person is working at a computer, and it is designed to be used when a person's desk. It is designed to provide a desk desk. The desk is also ideal for a person's desk, as they can be used when he's working at a desk, or when he's working at a desk at the computer. He can use the desk at his desk, so that he can use for he can use the computer when he's at the computer when he's at a desk or any other office. The desk is also a desk desk. He can use it for his desk. He can also be used for his desk.<extra_id_1> </s>\n",
      "########\n",
      "*******\n",
      "question: How would grooming lead to bald spots?\n",
      "answer: mistakes\n",
      "choices: ['cleanliness', 'mistakes', 'brushing', 'beauty', 'satisfaction']\n",
      "common expl list: [\"If you accidentally over trim your hair, you'd likely end up with bald spots.\"]\n"
     ]
    },
    {
     "name": "stderr",
     "output_type": "stream",
     "text": [
      "\r",
      "  9%|██████████████                                                                                                                                                     | 85/986 [27:28<10:02:14, 40.11s/it]"
     ]
    },
    {
     "name": "stdout",
     "output_type": "stream",
     "text": [
      "generated explanation: <pad> <extra_id_0> Grooming leads to bald spots. Grooming leads to bald spots. Grooming leads to bald spots. Grooming can lead to bald spots because it is a natural process. It is also a natural way to avoid bald spots. It is also a natural way to prevent baldness from developing bald spots. Grooming can also lead to bald spots. Grooming can also lead to bald spots, which can be easily prevented. Grooming can also lead to bald spots. G grooming can lead to bald spots. Grooming can lead to bald spots. G grooming can lead to bald spots. G grooming can lead to bald spots. Grooming can also lead to bald spots. G grooming can lead to bald spots. G grooming can lead to bald spots. G grooming can lead to bald spots. Grooming can lead to bald spots, which can lead to bald spots, which can also lead to bald spots. G grooming can also lead to bald spots, which can lead to bald spots, which can lead to bald spots. G grooming can lead to bald spots, bald spots, which can lead to bald spots, is often bald spots, which can also lead to bald spots, which can lead to bald spots, which can lead to bald spots, which can lead to bald spots, which can lead to bald spots, which can lead to bald spots, which can lead to bald spots, which can lead to bald spots, which can lead to bald spots, which can lead to bald spots, which can lead to bald spots, which can lead to bald spots, which can lead to bald spots, a problem that can lead to bald spots, and other bald spots, hair and scalp, hair loss, hair loss, hair loss, hair loss, hair loss, hair loss, hair loss, hair loss, hair loss, hair loss, hair loss, hair loss, hair loss, hair loss, hair loss, and hair loss of hair loss, hair loss, hair loss, hair loss, hair loss, hair loss, hair loss, hair loss, hair loss, and hair loss, hair loss, hair loss, hair loss, hair loss, hair loss, hair loss, hair loss, hair loss, hair loss,\n",
      "########\n",
      "*******\n",
      "question: Where would a snake find a great hiding place in the United Kingdom?\n",
      "answer: kew gardens\n",
      "choices: ['ditch', 'terrarium', 'thick forest', 'kew gardens', 'feild']\n",
      "common expl list: ['Kew gardens is located in London, which has a great deal of green space in the form of parks.', 'Kew gardens is a large botanical garden in London, England, and snakes are often found in gardens.']\n"
     ]
    },
    {
     "name": "stderr",
     "output_type": "stream",
     "text": [
      "\r",
      "  9%|██████████████▎                                                                                                                                                     | 86/986 [27:31<7:11:37, 28.78s/it]"
     ]
    },
    {
     "name": "stdout",
     "output_type": "stream",
     "text": [
      "generated explanation: <pad> <extra_id_0> Snakes can find a great hiding place in the United Kingdom, such as a kew garden. Kew gardens are a great place to hide in the wild, and are often the perfect place for a snake to hide in. They are often located in the middle of a busy street, or in a quiet street. They are often located in the middle of a busy street, and are often found in the middle of the busy streets. Kew gardens is a popular place for snakes to hide in the dark, and are often the perfect place to hide. Kew gardens are a great place to hide in the middle of a busy street, and are often the best place for a snake to hide from the snake.</s>\n",
      "########\n",
      "*******\n",
      "question: After studying many self-help books, what did he feel in his heart?\n",
      "answer: inspiration\n",
      "choices: ['inspiration', 'dreams', 'more intelligence', 'understanding', 'knowing more']\n",
      "common expl list: ['Self-help books are written to inspire people to change their lives for the better.', \"Some people study self-help books because they've felt lost in their life and are looking for something to help them out. By reading many self-help books, such people might feel more inspired in their life.\", \"If John read about confidence, optimism, positive thinking, it's possible that he feels inspired.\"]\n"
     ]
    },
    {
     "name": "stderr",
     "output_type": "stream",
     "text": [
      "\r",
      "  9%|██████████████▍                                                                                                                                                     | 87/986 [27:33<5:10:38, 20.73s/it]"
     ]
    },
    {
     "name": "stdout",
     "output_type": "stream",
     "text": [
      "generated explanation: <pad> <extra_id_0> After reading many self-help books, he found that he felt a sense of inspiration. This was a feeling that he had come to feel when he reads a book. Inspiration is a powerful way to express yourself and your feelings. It is a powerful way to express your feelings and feelings. It is a powerful way to express your feelings and feelings. It is a powerful way to express your feelings and feelings. It is a powerful way to express yourself and your life. It is also a way to express your feelings and feelings in a way that inspires. He has a way to express his feelings in a positive way.<extra_id_1> </s>\n",
      "########\n",
      "*******\n",
      "question: Where would you find teeth whitening bleachers?\n",
      "answer: pharmacy\n",
      "choices: ['gymnasium', 'soccer game', 'sporting event', 'pharmacy', 'soccer game']\n",
      "common expl list: ['Teeth whitening is a common practice, and pharmacies often sell the products used for it.']\n"
     ]
    },
    {
     "name": "stderr",
     "output_type": "stream",
     "text": [
      "\r",
      "  9%|██████████████▋                                                                                                                                                     | 88/986 [27:35<3:47:52, 15.23s/it]"
     ]
    },
    {
     "name": "stdout",
     "output_type": "stream",
     "text": [
      "generated explanation: <pad> <extra_id_0> A pharmacy is a great place to find teeth whitening bleachers. The bleachers are available in many different types of cosmetics, including dentistry, cosmetics, and cosmetics. Pharmacy staff are available to help you with any type of teeth whitening procedure, from simple to complex, to complex, to complex, to complex, to more complex, and to the point where you need to be able to see the difference between the two. Pharmacy staff are also available to help you with any type of tooth whitening needs. Pharmacy staff are also available to help with whitening and to help you to achieve this goal. Pharmacy staff can help you in a variety of different types of teeth whitening treatment. Pharmacy staff can help you to achieve the best possible smile.</s>\n",
      "########\n",
      "*******\n",
      "question: While he had seen a koala in the zoo, he was looking forward to finding one in the what?\n",
      "answer: australian outback\n",
      "choices: ['australian outback', 'bamboo grove', 'wilderness', 'island', \"child's book\"]\n",
      "common expl list: ['Koalas live in Australia, and are not found in any other country in the North American continent.', 'Because Koalas are a native species to Australia, the safest place to see a Koala may be outback Australia.']\n"
     ]
    },
    {
     "name": "stderr",
     "output_type": "stream",
     "text": [
      "\r",
      "  9%|██████████████▊                                                                                                                                                     | 89/986 [27:37<2:46:33, 11.14s/it]"
     ]
    },
    {
     "name": "stdout",
     "output_type": "stream",
     "text": [
      "generated explanation: <pad> <extra_id_0> While he had seen a koala in the zoo, he was looking forward to finding one in the australian outback. The wild side of the country is a vast and varied ecosystem, with a wide range of animals, including a variety of mammals, birds, and birds. The wild side of the country is a vast expanse of rainforest, with a wide range of habitats, including a range of rocky and rocky areas, including the australian outback. The koal</s>\n",
      "########\n",
      "*******\n",
      "question: Where can a child get a wagon?\n",
      "answer: toy store\n",
      "choices: ['field', 'garage', 'bookstore', 'backyard', 'toy store']\n",
      "common expl list: [\"A toy wagon is a child's toy. Toy wagons can be purchased from toy stores.\", 'Toy stores deal specifically in toys. Wagons are one of a variety of toys.']\n"
     ]
    },
    {
     "name": "stderr",
     "output_type": "stream",
     "text": [
      "\r",
      "  9%|██████████████▉                                                                                                                                                     | 90/986 [28:04<4:01:20, 16.16s/it]"
     ]
    },
    {
     "name": "stdout",
     "output_type": "stream",
     "text": [
      "generated explanation: <pad> <extra_id_0> A toy store is a place where a child can get a wagon. The store is located in the middle of the city, so it is a great place to buy a toy wagon. Toy stores are often the places where a child can find a toy wagon. Toy stores are also great places for children to get a toy wagon. Toy stores also have a variety of other items such as a toy truck, a toy truck, and a toy. Toy store is also a great place to buy a child can get a wagon. Toy store is a great place to buy a child. Toy store is a great place to buy a child to get a toy wagon. Toy store toy truck, or toy wagon. Toy store is a great place to buy a child toy wagon. Toy store is a great place to buy a child can get a child toy wagon, as a wagon, and a child can purchase a child can buy a child to take a child toy wagon. Toy store is a child toy store. Toy store is a great place to buy</s>\n",
      "########\n",
      "*******\n",
      "question: Being able to forgive is a way to be what?\n",
      "answer: nice to\n",
      "choices: ['learn', 'give hug', 'happiness', 'nice to', 'sex']\n",
      "common expl list: ['When you forgive people you are being nice to them.']\n"
     ]
    },
    {
     "name": "stderr",
     "output_type": "stream",
     "text": [
      "\r",
      "  9%|███████████████▏                                                                                                                                                    | 91/986 [29:24<8:45:32, 35.23s/it]"
     ]
    },
    {
     "name": "stdout",
     "output_type": "stream",
     "text": [
      "generated explanation: <pad> <extra_id_0> Being able to forgive is a way to be what you are. Forgiving is a way to be nice to others. Forgiveness is a way to be what you are. It is a way to be happy to be someone who is hurting or hurting. It is a way to be happy to be someone who is hurting or hurting. It is a way to be able to forgive and be happy to be someone who is able to forgive and be happy to be who you are. It is a way to be nice to be able to be kind to others. It is a way to be able to be able to be kind to someone who is unable to be able to forgive and be happy to be someone who is unable to be nice to someone who is able to be able to be nice to be around others. It is a way to be able to forgive and be kind to be nice to forgive. It is a way to be able to forgive and to be able to forgive others. It is a way to be able to forgive others who are able to forgive others who is able to be nice to forgive others who is able to be nice to forgive others who is able to forgive others who is nice to forgive others who is nice to forgive them. It is a way to be nice to forgive others who is nice to forgive others who is being nice to forgive others who is able to forgive others who is able to forgive others who are nice to forgive others who is able to be nice to forgive others who is able to be nice to forgive others who is nice to forgive others who are nice to forgive others who are able to be nice to forgive them. To forgive others who is able to forgive others who are nice to forgive others who are nice to forgive others who are nice to forgive others who are nice to forgive others who are nice to forgive them. To be nice to forgive and to be nice to be nice to be nice to forgive others who are nice to forgive others who are nice to forgive others who are nice to be kind to someone who is nice to someone who is nice to others who are nice to someone who is able to be nice to forgive others who are nice to be nice to be kind to others who are nice to others who are kind to others who are kind to be kind to others who are nice to\n",
      "########\n",
      "*******\n",
      "question: What  is necessary to have when going fishing?\n",
      "answer: fishing rod\n",
      "choices: ['fishing rod', 'access to water', 'bate', 'three hands', 'tackle']\n",
      "common expl list: ['fishing rods are necessary component pieces that are held by fishermen to access and use when fishing', 'To go fishing requires a fishing rod.']\n"
     ]
    },
    {
     "name": "stderr",
     "output_type": "stream",
     "text": [
      "\r",
      "  9%|███████████████▎                                                                                                                                                    | 92/986 [29:26<6:14:37, 25.14s/it]"
     ]
    },
    {
     "name": "stdout",
     "output_type": "stream",
     "text": [
      "generated explanation: <pad> <extra_id_0> A fishing rod is a good option for fishing. A fishing rod is a good choice for fishing, as it is a great way to get into the action. It is a great way to get the most out of the day, as it can be a great way to get into the water. It is also a good idea to bring a fishing rod with you. It is also a great way to get a good sized tackle, as it is lightweight, durable and can be used for long periods of time.<extra_id_1> </s>\n",
      "########\n",
      "*******\n",
      "question: A weasel is cursed by a witch, where is the weasel stuck?\n",
      "answer: fairytale\n",
      "choices: ['corn fields', 'great outdoors', 'fairytale', 'imagination', 'chicken coop']\n",
      "common expl list: ['Being stuck in a fairytale suggests being cursed, and the curses that prevail in fairytales are usually cast by witches.']\n"
     ]
    },
    {
     "name": "stderr",
     "output_type": "stream",
     "text": [
      "\r",
      "  9%|███████████████▍                                                                                                                                                    | 93/986 [29:39<5:21:44, 21.62s/it]"
     ]
    },
    {
     "name": "stdout",
     "output_type": "stream",
     "text": [
      "generated explanation: <pad> <extra_id_0> The witch cursed the weasel in a fairytale is a cursed creature stuck in a fairytale. The witch is cursed for a variety of reasons, including the need to protect herself from the evil spirits of the past. Witches are often found in the woods of the woods, in the woods, and in the woods. They are also often found in the woods, in the woods, and in the woods. The witch is also known for her love of witchcraft, which is why she is also cursed for her cursed weasel. This is a cursed weasel is stuck in the woods and cursed weasel's existence in the woods and cursed weasel. The weasel. The witches are also known for their fecessity. The witches are cursed by the witches in the woods and the weasel's cursed weasel's w<extra_id_1> </s>\n",
      "########\n",
      "*******\n",
      "question: If you want to buy you must what?\n",
      "answer: spend money\n",
      "choices: ['spend money', 'go shopping', 'paying', 'have in mind', 'a shop']\n",
      "common expl list: ['To buy something, you must spend money.', 'If you want to buy something, you must spend money.', 'To buy one needs money, and need money implies you have spent money.']\n"
     ]
    },
    {
     "name": "stderr",
     "output_type": "stream",
     "text": [
      "\r",
      " 10%|███████████████▋                                                                                                                                                    | 94/986 [30:41<8:19:19, 33.59s/it]"
     ]
    },
    {
     "name": "stdout",
     "output_type": "stream",
     "text": [
      "generated explanation: <pad> <extra_id_0> If you want to buy something you must spend money. Spend money is a great way to save money. It is a great way to save money. It is also a great way to save money. It is also a great way to save money on the costs of buying a home. Spend money on things you can afford to buy, such as a car, a house, or a car. It is also a great way to save money. It is also a great way to save money. It is also a good idea to spend money on things that you can use up. It is a great way to save money. It is also a great way to save you money on your home, as it is a great way to save you money. It is also a great way to save you money. It is also a great way to save you money. It is possible to save money. It is important to spend money you can save you money on your bank account or bank account. It is important to keep your bank account. It is important to keep your bank account and to save money. It is important to have a good balance. It is important to save you money. It is important to have a good balance by having a good investment. It is important to have a good investment. It is important to have a good investment. It is important to have a good investment. It is important to have a good investment. It is important to have a good investment. It is important to have a good investment. It is important to have a good investment. It is important to have a good investment. It is important to have a good investment. It is important to have a good investment.<extra_id_1> </s>\n",
      "########\n",
      "*******\n",
      "question: What public celebration sometimes has a horse show?\n",
      "answer: state fair\n",
      "choices: ['state fair', 'indy 500', 'american southwest', 'canada', 'central park']\n",
      "common expl list: ['Horse shows are sometimes included in state fair celebrations, and these fairs frequently are held in public parks.', 'Horse shows are competitions that sometimes occur at public celebrations. Some fairgrounds include horse shows as part of their regularly scheduled events.', \"A state's fair is a public celebration that may include a horse show.\"]\n"
     ]
    },
    {
     "name": "stderr",
     "output_type": "stream",
     "text": [
      "\r",
      " 10%|███████████████▋                                                                                                                                                   | 95/986 [32:16<12:55:07, 52.20s/it]"
     ]
    },
    {
     "name": "stdout",
     "output_type": "stream",
     "text": [
      "generated explanation: <pad> <extra_id_0> A state fair is a public celebration that has a horse show, which is usually held in the state fairgrounds. The state fair is usually held in the middle of a state fair, and it is usually held in conjunction with a horse show. This is because the state fair is a public celebration that has a horse show. This is because state fairs are usually held in the middle of the night, so that the public can see what is happening. The state fair also has a horse show, which is usually held in the state fair. The state fair is a public event, which is a public event, which is a state fair, and horse show, which is a state fair. The state fair is a public event. This is because it is a public event, which is a public event, and it is a public event. The state fair is a public event. The horse show, which is a public event, and it is a public event. The horse shows are usually held in the public event, and it is a public event. The horse shows are usually a public event. The horse shows are usually held at the public event. The public event. The horse shows are usually held at the horse shows are a public event. This is a public event. The horse shows are usually held at the public event. The horse shows are usually held at the public event. The state fair. The horse shows are usually held at the state fair. The horse shows are held at the state fair. The state fair is held at the state fair. The horse shows are held at the state fair. The state fair horse shows are held at the state fair. The state fair. The state fair is held at the state fair. The state fair is held at the state fair. The state fair. The state fair. The state fair is held at the state fair. The state fair is held at the state fair is held at the state fair is held at the state fair. The state fair is held at the state fair. The state fair is held at the state fair is held at the state fair. The state fair is held at the state fair. The state fair is held at the state fair. The state fair is held at the state fair. The state fair. The state fair. The state fair is held at the state fair. The state fair. The state fair is held at the state fair\n",
      "########\n",
      "*******\n",
      "question: There are many wage gaps being discussed, the most important of which is between the rich and what?\n",
      "answer: poor\n",
      "choices: ['plain', 'sleepy', 'poor', 'idle', 'needy']\n",
      "common expl list: ['The poor are a group which suffers from a wage gap, denoted as their earning less than others, especially the rich.']\n"
     ]
    },
    {
     "name": "stderr",
     "output_type": "stream",
     "text": [
      "\r",
      " 10%|███████████████▉                                                                                                                                                    | 96/986 [32:19<9:14:36, 37.39s/it]"
     ]
    },
    {
     "name": "stdout",
     "output_type": "stream",
     "text": [
      "generated explanation: <pad> <extra_id_0> There are many wage gaps being discussed, but the most important is between the rich and the poor. Poor wages are often divided by income levels, and are often compared to the poor. The differences between the rich and the poor are often viewed as a source of income inequality, because they are often viewed as a source of income inequality. The latter is often perceived as a source of income, because they are often associated with a higher level of income. This is because they are often seen as a means of reducing inequality, and this is often associated with a higher wage, as they are more likely to increase wages. The difference between the rich and the poor are often seen as a source of income. The poor are often perceived as a source of income. The poor are often seen as a way to reduce the wage gap.<extra_id_1> </s>\n",
      "########\n",
      "*******\n",
      "question: What city in a North American Country, that isn't the United States, would you expect to find a good french restaurant?\n",
      "answer: quebec\n",
      "choices: ['wine', 'nyc', 'quebec', 'manhattan', 'paris']\n",
      "common expl list: ['Quebec is said to have strong french-culture since it was originally french territory. This would make sense if quebec had a good french restaurant.', 'Quebec has a strong french heritage, and the french cuisine is actually quite popular in the United States.', 'Quebec is the only province that speaks French in North America, and you might expect to find a good french restaurant there.', 'Quebec is a province in Canada, and is known for its french culture.']\n"
     ]
    },
    {
     "name": "stderr",
     "output_type": "stream",
     "text": [
      "\r",
      " 10%|████████████████▏                                                                                                                                                   | 97/986 [32:21<6:36:07, 26.74s/it]"
     ]
    },
    {
     "name": "stdout",
     "output_type": "stream",
     "text": [
      "generated explanation: <pad> <extra_id_0> A french restaurant is a restaurant that serves French cuisine. It is located in a city that is not in the United States. It is located in a city called Quebec, a city that is known for its cuisine and its food. It is also known for its many restaurants and cafes. It is also known for its great selection of food and drink, and for its great atmosphere. It is also known for its great variety of wines, and for its friendly atmosphere. It is also known for its great service and quality. It is also known that you can't be found in a good french restaurant.</s>\n",
      "########\n",
      "*******\n",
      "question: Care not to burn you hand on the handle of what small high-walled vessel?\n",
      "answer: saucepan\n",
      "choices: ['brush', 'carry object', 'walking stick', 'umbrella', 'saucepan']\n",
      "common expl list: ['A saucepan is a small, high-walled vessel, built for holding liquids and usually used in the kitchen.']\n"
     ]
    },
    {
     "name": "stderr",
     "output_type": "stream",
     "text": [
      "\r",
      " 10%|████████████████▎                                                                                                                                                   | 98/986 [32:51<6:49:39, 27.68s/it]"
     ]
    },
    {
     "name": "stdout",
     "output_type": "stream",
     "text": [
      "generated explanation: <pad> <extra_id_0> The handle of a saucepan is a small, high-walled vessel. It is designed to be used as a safety device, not as a tool. The handle is made of steel, glass, or aluminum. It is also designed to be able to be positioned in a way that allows the user to reach the handle of a large, high-walled vessel. The handle is designed to be easily accessible by anyone with a small, flat surface. The handle is also designed to be easily accessible by hand, so it is not possible to burn the hand. The saucepan is designed to be used by the user. The saucepan is designed to be accessible by anyone with a small, swathes. The handle is a wide, easily accessible and safe to use. The handle is designed to be easily accessible and easily accessible. The handle is easily accessible by the handle of the vessel. The handle is a large, easily accessible and easily accessible handle. The handle of the handle is able to easily accessible and easily accessible and accessible by hand. The handle is not burn-resistant handle. The handle is not burn-resistant handle is a high-quality handle. The handle is a large, secure and secure handle is a small, small hand. Hand.<extra_id_1> </s>\n",
      "########\n",
      "*******\n",
      "question: What container does peanut butter come in?\n",
      "answer: jar\n",
      "choices: ['cupboard', 'pantry', 'jar', 'bottle', 'supermarket']\n",
      "common expl list: ['Peanut butter comes in glass jars, like many other food products.', 'Jars are often used to store food, and peanut butter is a food.', 'Jars can keep food sealed without leaking, and often have lids. Peanut butter is sealed in a jar and could be kept in a house, kitchen, pantry, or cupboard.', 'Jars, like those that pickles often come in, are suitable for food items that need to be kept fresh for long time. Jars can be resealed.']\n"
     ]
    },
    {
     "name": "stderr",
     "output_type": "stream",
     "text": [
      "\r",
      " 10%|████████████████▍                                                                                                                                                   | 99/986 [33:59<9:46:27, 39.67s/it]"
     ]
    },
    {
     "name": "stdout",
     "output_type": "stream",
     "text": [
      "generated explanation: <pad> <extra_id_0> Peanut butter comes in a jar. Jars are usually used to make peanut butter, but they can also be used as a condiment or as a topping. Jars are often used to store peanut butter in the fridge or a jar. Jars are often used to make peanut butter, peanut butter, and peanut sauce. Jars are often used to store peanut butter, peanut butter, and peanut butter. Jars are often used to store peanut butter, peanut butter, and peanut sauce. Jars are also used to store peanut butter and peanut butter, peanut butter can be used in many different containers, which can be used to store peanut butter. jars are often used to store peanuts, nuts, or jars. Jars are used to store peanut butter, peanut butter, peanut jelly, peanut butter, peanut butter, peanut butter, and peanut butter, peanut butter, peanut butter, peanut butter, peanut butter, peanut butter, peanut butter, peanut butter, peanut butter, peanut, peanut butter, peanut butter, peanut butter, peanut butter, peanut butter, peanut butter, peanut butter, peanut butter, peanut butter, peanut butter, peanut butter, peanut butter, peanut butter, peanut butter, peanut sauce, peanut butter, peanut jams, peanut jam, peanut jam jam, peanut sauce, peanut jelly, peanut jelly, peanut butter, peanut jelly, peanut jelly, and other peanut butter, peanut sauce, peanut butter, peanut butter, peanut butter, peanut butter, peanut butter, peanut butter, peanut jelly, peanut jelly, peanut jelly, peanut butter, peanut butter, and other nuts, peanut butter, peanut jelly, peanut butter, peanut butter, peanut butter, peanut jelly, peanut butter, liquen, spread, spread, eat, and a few other peanut butter, peanut jelly, peanut sauce, nuts, and other peanut butter, nut, e, e, e, and other peanut sauce, peanut butter, peanut sauce, and jelly...................................................\n",
      "########\n",
      "*******\n",
      "question: Where are plants likely to be handled by a city employee?\n",
      "answer: park\n",
      "choices: ['park', 'windowsill', 'ground', 'office', 'garden']\n",
      "common expl list: ['Parks are where city employees are likely to handle plants.', 'A city employee might handle plants while working in a park.']\n"
     ]
    },
    {
     "name": "stderr",
     "output_type": "stream",
     "text": [
      "\r",
      " 10%|████████████████▍                                                                                                                                                 | 100/986 [35:14<12:25:56, 50.51s/it]"
     ]
    },
    {
     "name": "stdout",
     "output_type": "stream",
     "text": [
      "generated explanation: <pad> <extra_id_0> A park is a park that is likely to be used by a city employee to care for plants and other plants. A park is a place where plants and other plants are likely to be handled by a city employee. A park is also a place where a city employee can use a gardener to help maintain the plants. A park is a place where a city employee can help maintain the park's facilities and facilities. It is also a place where a park employee can help to maintain the park's facilities and other facilities. A park is a park is a place where a park is a place where a park worker can help to maintain the park's grounds and other plants. Parks are also a place where a park worker can help to maintain the park's grounds and other resources. Parks are a place where plants are likely to be handled by a park is likely to be handled by a park workers' playground and/or to maintain the park is a place where the plants. Parks are a place where the plants and/or park workers can help preserve the plants and the park is likely to be a park worker to help to maintain the park and/or the plants and/or the plants and the plants and/or the plants and the plants and the plants and the plants and the plants and the park staff and the plants and the plants and the plants and the plants and the parks and the park employees and the park employees and the park staff and the park staff and the park staff and the park staff and the park staff and the park staff and the park staff and the park and the park staff and the park staff and the park staff and the park staff and the park staff and the park staff and the park staff and the park staff and the park staff and the park staff and the park staff and the park staff and the park and the park staff and the park staff and the park staff and the park facilities are the park staff and the park is the park and the park staff and the park staff to the park staff and the park staff and the park is the park staff and the park staff to the park facilities and the park environment. The park staff and the park staff and the park staff and the park is the park staff and the park staff and the park staff and the park environment. The park staff to care for the park environment. The park staff and the park staff to care for\n",
      "########\n",
      "*******\n",
      "question: Trains tend to come on time, airplanes on the other hand tend to what?\n",
      "answer: arrive late\n",
      "choices: ['stall', 'take off', 'arrive late', 'catch on fire', 'carry freight']\n",
      "common expl list: [\"Planes aren't typically known for arriving on time (air traffic, weather, repairs, et. al.), whereas trains tend to be more reliable.\", 'Planes are carreid by more complicated mechanisms than trains, and therefore tend to be harder to operate exactly on time.']\n"
     ]
    },
    {
     "name": "stderr",
     "output_type": "stream",
     "text": [
      "\r",
      " 10%|████████████████▋                                                                                                                                                  | 101/986 [35:16<8:49:56, 35.93s/it]"
     ]
    },
    {
     "name": "stdout",
     "output_type": "stream",
     "text": [
      "generated explanation: <pad> <extra_id_0> Trains tend to come on time, airplanes tend to arrive late. Trains tend to come on time, while airplanes tend to arrive late. This is because trains tend to come on time, while airplanes tend to arrive late. This is because trains tend to arrive on time, while trains tend to arrive late. This is because trains tend to arrive on time, while airplanes tend to arrive late. Trains tend to arrive on time, which is why airplanes tend to be more efficient. This is because they are more efficient and more efficient. This is because airplanes have a shorter time in flight, which is because they are more likely to arrive late.<extra_id_1> </s>\n",
      "########\n",
      "*******\n",
      "question: Where is glue well used?\n",
      "answer: art room\n",
      "choices: ['desk drawer', 'cabinet', 'art room', 'school', 'closed container']\n",
      "common expl list: ['Glue is used in art projects, and art rooms are where art projects are done.']\n"
     ]
    },
    {
     "name": "stderr",
     "output_type": "stream",
     "text": [
      "\r",
      " 10%|████████████████▊                                                                                                                                                  | 102/986 [35:18<6:18:30, 25.69s/it]"
     ]
    },
    {
     "name": "stdout",
     "output_type": "stream",
     "text": [
      "generated explanation: <pad> <extra_id_0> A glue well is a common type of glue used in art rooms. Art rooms are usually filled with a variety of materials, such as acrylic, acrylic, and other materials. The glue is typically used to create a cohesive, cohesive, and durable environment. It is also a great way to create a cohesive, cohesive environment. It is also a great way to create a cohesive environment that is both practical and functional. It is also a great way to create a cohesive, cohesive environment for the art room. It is also a great way to create a cohesive, reusable and reusable glue.<extra_id_1> </s>\n",
      "########\n",
      "*******\n",
      "question: Billy loves science, history, and art but isn't very creative.  When he was visiting the museum, he felt a great deal of what emotion?\n",
      "answer: enjoyment\n",
      "choices: ['inspiration', 'fulfillment', 'wonder', 'boredom', 'enjoyment']\n",
      "common expl list: ['At a museum, Billy uses history to find science, and science to find art; by combining different loves, going to the museum has been fulfilling. To achieve fulfilment, Billy felt an enjoyable feeling.', 'When Billy visited a museum which had a lot of fields of interest, Billy enjoyed himself while he learned from the experience at the same time.']\n"
     ]
    },
    {
     "name": "stderr",
     "output_type": "stream",
     "text": [
      "\r",
      " 10%|█████████████████                                                                                                                                                  | 103/986 [35:26<5:01:08, 20.46s/it]"
     ]
    },
    {
     "name": "stdout",
     "output_type": "stream",
     "text": [
      "generated explanation: <pad> <extra_id_0> When Billy was visiting the museum, he felt a great deal of enjoyment. This emotion is attributed to the museum's atmosphere, which is a mixture of excitement, excitement, and excitement. This emotion is attributed to the museum's atmosphere, which is a mixture of excitement and excitement. This emotion is a combination of excitement and excitement, which is a combination of excitement and excitement. This emotion is often associated with a sense of excitement and excitement. The museum is a place where Billy can find his way through the museum, and he feels like he was experiencing the museum, which is a great feeling. This emotion is often associated with the museum, which is a mixture of excitement and excitement. This emotion is often a combination of excitement and excitement. The museum is a perfect place to spend time in time, and it is important to Billy's enjoyment and excitement. He is also a feeling of excitement and excitement.</s>\n",
      "########\n",
      "*******\n",
      "question: Sarah did much hard work, even though she was on vacation.  Her mother told her off and said what?\n",
      "answer: do nothing\n",
      "choices: ['unemployment', 'say something', 'earn money', 'do nothing', 'relaxation']\n",
      "common expl list: ['If one is on vacation, one is supposed to \"do nothing\" as opposed to working - the \"something\" that is discouraged. Many physically hard jobs involve getting the hands dirty.']\n"
     ]
    },
    {
     "name": "stderr",
     "output_type": "stream",
     "text": [
      "\r",
      " 11%|█████████████████▏                                                                                                                                                 | 104/986 [35:28<3:38:02, 14.83s/it]"
     ]
    },
    {
     "name": "stdout",
     "output_type": "stream",
     "text": [
      "generated explanation: <pad> <extra_id_0> Sarah did much hard work, even though she was on vacation. Her mother told her off and said, \"I'm on vacation.\" This is because Sarah did much hard work, and she was on vacation. She did nothing, and she was not on vacation. This is because she was on vacation. Sarah did not have any work to do, and her mother told her off. She told her mother that she was on vacation. This is because she was on vacation. She was on vacation and she was on vacation. She did nothing, which is because she was on vacation.<extra_id_1> </s>\n",
      "########\n",
      "*******\n",
      "question: James walked barefoot on a something that was made hot by sunshine. What is he probably walking on?\n",
      "answer: street\n",
      "choices: ['desktop', 'summer', 'moon', 'meadow', 'street']\n",
      "common expl list: ['Because of the intense heat of summer, sunlight reflects off the pavement, causing a hot sensation when one walks barefoot in the summer.']\n"
     ]
    },
    {
     "name": "stderr",
     "output_type": "stream",
     "text": [
      "\r",
      " 11%|█████████████████▎                                                                                                                                                 | 105/986 [35:30<2:42:54, 11.09s/it]"
     ]
    },
    {
     "name": "stdout",
     "output_type": "stream",
     "text": [
      "generated explanation: <pad> <extra_id_0> James probably walks on a street because it is likely to be hot because of the sun. The sun is reflected in the rays of sunlight that make the pavement hot and sticky. This is a common place for James to walk barefoot on a pavement. The pavement is likely to be a place where the sun is shining and the sun is shining. The sun is also a source of heat and heat, which can be a source of heat, which is why he is likely to walk on barefoot. The pavement is a place where he is likely to be hot and humid. The pavement is a place where he walks on barefoot and hot and humid, so he walks on hot and humid.<extra_id_1> </s>\n",
      "########\n",
      "*******\n",
      "question: He grew tired of standing in the kitchen his whole shift, where was he?\n",
      "answer: restaurant\n",
      "choices: [\"neighbor's house\", \"friend's house\", 'restaurant', 'jail', 'fraternity house']\n",
      "common expl list: ['One can get tired standing in a kitchen if one is on their feet all day; kitchens are typically in restaurants.', 'A restaurant would have a kitchen, where you would be required to stand while your shift is in session.']\n"
     ]
    },
    {
     "name": "stderr",
     "output_type": "stream",
     "text": [
      "\r",
      " 11%|█████████████████▌                                                                                                                                                 | 106/986 [35:35<2:15:44,  9.26s/it]"
     ]
    },
    {
     "name": "stdout",
     "output_type": "stream",
     "text": [
      "generated explanation: <pad> <extra_id_0> He grew tired of standing in the kitchen his whole shift, and he grew tired of standing in the kitchen all the time. Restaurants are places where people can enjoy a meal, as they are often open and have a kitchen to work with. Restaurants are places where people can enjoy a meal, as they are often busy with work and other activities that require them to be in the kitchen. Restaurants are also places where people can enjoy a meal, as they are often busy with work and other tasks. Restaurants are also places where they can be the perfect place for people to cook. Restaurants can be a great place to meet and greet and exchange information and information that they can make it easier to cook. Restaurants can be a great place to cook. Restaurants are a great place to work. Restaurants are a great place to work day. Restaurants can be a great place to make a great place to stay. Restaurants can be a great place to stay in the kitchen during the day. Restaurants can be a great place to stay in the kitchen. Restaurants can be a great place to stay in the restaurant to stay in the kitchen.<extra_id_1> </s>\n",
      "########\n",
      "*******\n",
      "question: The children play cards often, but they make their own rules because they can't what the originals?\n",
      "answer: remember\n",
      "choices: ['bid', 'concentrate', 'winning', 'count', 'remember']\n",
      "common expl list: ['Children often play games that are similar to those played by adults, such as card games, but with slight variations to how they are played. This is most likely because children cannot remember the original rules of the card games. Smiling is a common expression', \"The children are making up their own rules because they can't remember the original rules.\"]\n"
     ]
    },
    {
     "name": "stderr",
     "output_type": "stream",
     "text": [
      "\r",
      " 11%|█████████████████▋                                                                                                                                                 | 107/986 [35:37<1:43:44,  7.08s/it]"
     ]
    },
    {
     "name": "stdout",
     "output_type": "stream",
     "text": [
      "generated explanation: <pad> <extra_id_0> The children play cards often, but they make their own rules because they can't remember the originals. The children play cards often because they remember that they can't remember the originals. The children remember their own rules because they can't remember the originals. The children remember the originals because they can't remember the rules. The children also remember the rules because they can't remember the originals. They also remember the rules because they can't remember the originals. The rules are also important because they are based on the rules of the rules of the cards that are the children's own rules. The children's play cards to remember the rules of the cards.</s>\n",
      "########\n",
      "*******\n",
      "question: On an average day, going to work could make you feel like what?\n",
      "answer: feeling good\n",
      "choices: ['feeling good', 'anger', 'revelation', 'being fired', 'tardiness']\n",
      "common expl list: ['People sometimes feel pride and accomplishment when they get things done at the office.', 'To fulfill a life purpose and to gain fulfillment, people often undertake gainful employment. Thus, the people who experience this data point might experience feelings of accomplishment/fulfillment.']\n"
     ]
    },
    {
     "name": "stderr",
     "output_type": "stream",
     "text": [
      "\r",
      " 11%|█████████████████▊                                                                                                                                                 | 108/986 [35:39<1:19:44,  5.45s/it]"
     ]
    },
    {
     "name": "stdout",
     "output_type": "stream",
     "text": [
      "generated explanation: <pad> <extra_id_0> Working at a desk can make you feel like you have accomplished something. On an average day, going to work can make you feel like you are doing something good. This is something that can make you feel good, especially if you are working hard. It is also something that can make you feel good. It is also something that can make you feel good about yourself, like you are doing something good, like you are doing something good, or you are doing something good. It is something that can make you feel good about your work. It is also a good feeling good day.<extra_id_1> </s>\n",
      "########\n",
      "*******\n",
      "question: What country has the carpathians and is the furthest in the direction of the side that won the U.S. Civil War?\n",
      "answer: poland\n",
      "choices: ['slovakia', 'slovenia', 'poland', 'ukraine', 'romania']\n",
      "common expl list: ['Poland is the only country that has the carpathian mountains, and it was the most distant in the direction from the side that won the U.S. Civil War (the North).']\n"
     ]
    },
    {
     "name": "stderr",
     "output_type": "stream",
     "text": [
      "\r",
      " 11%|██████████████████                                                                                                                                                 | 109/986 [35:41<1:05:08,  4.46s/it]"
     ]
    },
    {
     "name": "stdout",
     "output_type": "stream",
     "text": [
      "generated explanation: <pad> <extra_id_0> Poland is the country that won the Civil War. It is the only country that has the carpathians in the world that is the closest to the carpathians in the world. It is also the country that has the longest coastline in the world. It is also the country that has the longest coastline in the world. It is also the country that has the longest coastline in the world. It is also the country that has the longest coastline in the world. It is also the country that has the furthest coastline in the world. It is also the country that has the longest coastline in the direction of the carpathians. The carpathians are the country that has the longest coastline in the direction that the U.S. Civil war.</s>\n",
      "########\n",
      "*******\n",
      "question: What would happen if you want to win a game?\n",
      "answer: competitiveness\n",
      "choices: ['competitiveness', 'satisfaction', 'learning', 'injuries', 'play']\n",
      "common expl list: ['After playing a game, a person would be likely compelled to win the game becasue they want a feeling of satisfaction from winning the game. In order to win, a person would need to be competitive.', 'To win a game, you must be competitive.', \"Victory in a game requires one to make a maximum effort, and peoples' desire to win has to be rather competitive.\", 'Competitive athletes would want to win their games, whatever the cost; this desire to win leads to competitiveness and creates the desire to win over even long periods of time; it also often leads to brutal physical play --- such as by causing injuries to opposing r', 'If you want to win a game, you will try put your best effort to take your chances at winning over those of your opponents.']\n"
     ]
    },
    {
     "name": "stderr",
     "output_type": "stream",
     "text": [
      "\r",
      " 11%|██████████████████▏                                                                                                                                                | 110/986 [35:45<1:02:07,  4.25s/it]"
     ]
    },
    {
     "name": "stdout",
     "output_type": "stream",
     "text": [
      "generated explanation: <pad> <extra_id_0> A competitive game is a game where you want to win a game. Competitiveness is the ability to win a game, which is why it is important to win a game. Competitiveness is the ability to win a game, which is why it is important to compete with the competition. Competitivity is the ability to win a game, which is why it is important to win a game. Competitivity is the ability to win a game. Competitivity is the ability to win a game, which is why competitiveness is important for the competitiveness of a game. Competitivity is the key to winning a game, which is why it is important to win a game. Competitivity is the key to winning a game. Competitivity is important for the game. Competitivity is important for a game. Competitivity is important for the game. Competitivity is crucial for winning </s>\n",
      "########\n",
      "*******\n",
      "question: Where should watch to avoid being pinched by a crab?\n",
      "answer: sandy beach\n",
      "choices: ['eastern coast', 'sandy beach', 'fish market', 'north carolina', 'sand dunes']\n",
      "common expl list: ['It is more common to find crabs living in sandy beach areas.', 'Crabs live in sandy areas, and people who visit sandy beaches are likely to be pinched by crabs.']\n"
     ]
    },
    {
     "name": "stderr",
     "output_type": "stream",
     "text": [
      "\r",
      " 11%|██████████████████▎                                                                                                                                                | 111/986 [36:08<2:25:55, 10.01s/it]"
     ]
    },
    {
     "name": "stdout",
     "output_type": "stream",
     "text": [
      "generated explanation: <pad> <extra_id_0> A sandy beach is a safe place to watch for crabs. The beach is a safe place to watch for crabs. The beach is a great place to watch for crabs, which can be hard to catch or catch. The beach is also a great place to watch for crabs, which can be a biting hazard. The beach is also a great place to watch for crabs, which can be easily pierced by crabs, and can be a great place to watch out for crabs. The beach is a great place to watch out for crabs and other creatures that can be a biting the beach. The beach is a great place to watch for crabs. The beach is a great place to watch for crabs and other creatures that can be a good place to watch out for them. The beach is a great place to watch out for being pinching the crabs. The beach is a great place to watch out for being pinched by a crabs. The beach is a great place to watch out for being pinching the crabs. The beach is a great place to watch out for being pin up crabs. The beach is a beach is a great place to watch out for being pin up crabs. The beach is a great place to watch out for crabs. The beach is a great place to watch out crabs. The beach is a great place to be a crabs. The crabs. The crabs. The crabs are often a crabs. The crabs to avoid being pinched by crabs and to keep a crab. The crabs to avoid being pinched by crabs to keep an eye eye out for the crabs to catch and to stay safe and to avoid being caught and to watch out for crabs to keep a safe place to keep an eye eye and to protect against being pinching against being pinching against being pinching and to protect against being pin</s>\n",
      "########\n",
      "*******\n",
      "question: What is a large group of human beings?\n",
      "answer: civilisation\n",
      "choices: ['an infestation', 'civilisation', 'homes', 'graveyard', 'spacecraft']\n",
      "common expl list: ['Civilisation is generally used to refer to large populations of humans living together in a single area, responding to collective needs.']\n"
     ]
    },
    {
     "name": "stderr",
     "output_type": "stream",
     "text": [
      "\r",
      " 11%|██████████████████▌                                                                                                                                                | 112/986 [36:11<1:52:57,  7.75s/it]"
     ]
    },
    {
     "name": "stdout",
     "output_type": "stream",
     "text": [
      "generated explanation: <pad> <extra_id_0> A large group of human beings is a group of people who are primarily human beings. This group of people is called civilisation, which means that they are human beings. This group of people is composed of people of different ages, cultures, and beliefs. They are all members of a larger group of people, which means that they are more than just a group of humans. They are also more likely to be part of society, which means that they are more likely to be part of society. This group of people is also more likely to be more likely to be more likely to be more likely to be a group of humans, which means that they are more likely to be a group of people who are more likely to be part of society. This group of peoples, which means that they are more likely to be part of society.</s>\n",
      "########\n",
      "*******\n",
      "question: What  is likely to happen to ice in the sun?\n",
      "answer: become water\n",
      "choices: ['cool water', 'cool drink', 'cool off', 'nothing', 'become water']\n",
      "common expl list: ['because hot melts cold, ice will melt if kept in the sun.', 'When ice is exposed to the sun, it melts, becoming water.']\n"
     ]
    },
    {
     "name": "stderr",
     "output_type": "stream",
     "text": [
      "\r",
      " 11%|██████████████████▋                                                                                                                                                | 113/986 [36:13<1:26:28,  5.94s/it]"
     ]
    },
    {
     "name": "stdout",
     "output_type": "stream",
     "text": [
      "generated explanation: <pad> <extra_id_0> Ice in the sun is likely to become water. Ice in the sun is likely to become ice in the sun. Ice in the sun is likely to become water because it is a form of ice that is susceptible to damage from the sun. Ice in the sun is also likely to become a source of water, which is a valuable resource for many people. ice in the sun is likely to be a valuable resource for many people, especially those who are sensitive to the sun. It is likely that ice will become water, which is likely to provide many people with ice in the sun.</s>\n",
      "########\n",
      "*******\n",
      "question: Where can travellers pull off the road to stretch their legs?\n",
      "answer: rest area\n",
      "choices: ['rest area', 'airport', 'train station', 'come home', 'bus depot']\n",
      "common expl list: ['Rest areas generally allow travelers to spend time away from the roads, which are generally connecting points to large cities and particular highway names.', 'Rest areas are places where people can pull off the road to stretch their legs, and they are often located near gas stations, which are frequented by travellers.', 'Rest areas are publicly provided spaces for drivers to get out of their cars for a break. Train stations, bus depots, come home, and airports are all places where one might catch a bus, train, taxi, or plane, or have arrived']\n"
     ]
    },
    {
     "name": "stderr",
     "output_type": "stream",
     "text": [
      "\r",
      " 12%|██████████████████▊                                                                                                                                                | 114/986 [36:40<2:59:42, 12.37s/it]"
     ]
    },
    {
     "name": "stdout",
     "output_type": "stream",
     "text": [
      "generated explanation: <pad> <extra_id_0> Travelers can pull off the road to rest areas to stretch their legs. Rest areas are usually a place where passengers can stretch their legs. These places are usually accessed by a wheelchair or by a nearby bridge or by a nearby park. They are often a place where travellers can stretch their legs. They are also known as rest areas because they can stretch their legs while driving. They are also known as rest areas because they are usually located in a residential area, where people can relax and enjoy a relaxing time. Rest areas are also known as rest areas are also known as rest areas for relaxing and unwinding legs. They are also known as rest areas to stretch their legs off the road. They can be used to stretch their legs. Rest areas are places where travellers can relax and rejuvenated and relaxed areas where travellers can stretch areas, where the area of the area, or where they can be a relaxing area for people to stretch out and relax. They can also be used to relax and relax and recharge. During the rest areas are also used to stretch and stretch areas for people to stretch and stretch areas where travellers to stretch and relax and stretch areas where travellers to relax and stretch out areas where they can relax and stretch out and stretch out and stretch out areas where they can also relax and stretch areas where they can also be used to stretch out and stretch areas where they can relax and stretch their legs.<extra_id_1> </s>\n",
      "########\n",
      "*******\n",
      "question: A poor family has no decorations in December, what would make a great gift?\n",
      "answer: christmas tree\n",
      "choices: ['food', 'specialty store', 'christmas tree', 'department store', 'christmas stocking']\n",
      "common expl list: ['In December, most families tend to put up christmas decorations. A christmas tree would make a good gift for a poor family.', 'The family is poor, so we might assume that they have nothing for decoration for their Christmas season. To help fix this, a Christmas tree would be the greatest gift.', 'A christmas tree is a traditional decoration for christmas.']\n"
     ]
    },
    {
     "name": "stderr",
     "output_type": "stream",
     "text": [
      "\r",
      " 12%|███████████████████                                                                                                                                                | 115/986 [36:42<2:14:24,  9.26s/it]"
     ]
    },
    {
     "name": "stdout",
     "output_type": "stream",
     "text": [
      "generated explanation: <pad> <extra_id_0> A Christmas tree is a great Christmas gift for a poor family. It is a great way to give a Christmas gift to a poor family. It is also a great way to give a gift to a poor family. It is a great way to give a gift to a poor family. Christmas trees are also great gifts for families who are struggling to find a Christmas tree. They are also a great way to give a gift to a family that is struggling to find a tree. Christmas trees are also great way to give a gift to a poor family. Christmas trees are a great way to give a gift.<extra_id_1> </s>\n",
      "########\n",
      "*******\n",
      "question: Where would you buy jeans in a place with a large number of indoor merchants?\n",
      "answer: shopping mall\n",
      "choices: ['shopping mall', 'laundromat', 'hospital', 'clothing store', 'thrift store']\n",
      "common expl list: ['Since malls (or indoor shopping centers in general) contain numerous merchants, including clothing stores, you could purchase jeans in one such store.', 'Shopping malls usually contain a large variety of stores, including stores that sell clothes and jeans.', 'Shopping malls often have a large number of stores, including clothing stores.']\n"
     ]
    },
    {
     "name": "stderr",
     "output_type": "stream",
     "text": [
      "\r",
      " 12%|███████████████████▏                                                                                                                                               | 116/986 [37:04<3:08:24, 12.99s/it]"
     ]
    },
    {
     "name": "stdout",
     "output_type": "stream",
     "text": [
      "generated explanation: <pad> <extra_id_0> A shopping mall is a place where you can buy jeans in a large number of indoor merchants. Shopping malls are often located in places where shoppers can shop for clothing, shoes, and other items. Shopping malls are often located in areas where you can find a large number of indoor merchants. Shopping malls are also often located in areas where shoppers can buy jeans, shoes, and other items. Shopping malls are often packed with vendors, so shoppers are always looking for the best deals. Shopping malls are often busy and have a large number of indoor merchants. Shopping malls are often the best place to buy jeans, shoes, and shoes, and other items. Shopping malls are often packed with shoppers. Shopping malls are often the best place to buy jeans, and shoppers can find a large number of indoor merchants. Shopping malls are often packed with shoppers. Shopping malls often have a great place to buy jeans, shoes, and other items. Shopping malls are often busy shopping malls. Shopping malls are often the perfect place to buy jeans. Shopping malls are often the perfect place to buy jeans.<extra_id_1> </s>\n",
      "########\n",
      "*******\n",
      "question: If I wanted to get some oxygen, what will I get it from?\n",
      "answer: air\n",
      "choices: ['the sky', 'air', 'earth', 'space shuttle', 'water']\n",
      "common expl list: ['Oxygen is found in the air.']\n"
     ]
    },
    {
     "name": "stderr",
     "output_type": "stream",
     "text": [
      "\r",
      " 12%|███████████████████▎                                                                                                                                               | 117/986 [37:24<3:40:58, 15.26s/it]"
     ]
    },
    {
     "name": "stdout",
     "output_type": "stream",
     "text": [
      "generated explanation: <pad> <extra_id_0> If I wanted to get some oxygen, I would get it from air. Air is a liquid that is able to absorb heat, oxygen, and other gases. Air is a liquid that is able to absorb oxygen, which is a liquid that is able to absorb oxygen, such as oxygen, which is a chemical that is used to produce oxygen. Air is a liquid that is able to absorb oxygen, which is a chemical that can absorb oxygen. Air is a natural, natural, and abundant source of oxygen. Air is also a source of oxygen, and oxygen is a natural gas, which is able to absorb oxygen, and can also help to reduce the need of the body. Air is a natural source of oxygen that can help to help to reduce stress, and thus, oxygen. Air is a natural source of oxygen, and can help to help to reduce stress, and can help to help to help to help to prevent breathing, breathing, and oxygen. Air is a natural source of oxygen, which helps to help to reduce stress, and helps to help to help to reduce oxygen and oxygen and oxygen, which helps to help to help to reduce stress, thus helping to reduce stress, and helps to help to help to help to help to prevent the body.<extra_id_1> </s>\n",
      "########\n",
      "*******\n",
      "question: What happens after having food too much?\n",
      "answer: getting fat\n",
      "choices: ['being full', 'laziness', 'weight gain', 'getting fat', 'will not starve']\n",
      "common expl list: ['Eating too much food causes one to gain weight, and thus become fat.', 'People will become fat, and even obese from eating too much food.', 'Eating too much food causes one to become obese.']\n"
     ]
    },
    {
     "name": "stderr",
     "output_type": "stream",
     "text": [
      "\r",
      " 12%|███████████████████▌                                                                                                                                               | 118/986 [37:27<2:44:50, 11.39s/it]"
     ]
    },
    {
     "name": "stdout",
     "output_type": "stream",
     "text": [
      "generated explanation: <pad> <extra_id_0> Fat is a form of fat that can cause a high blood sugar level, which can cause weight gain, especially in the first few days of eating too much. Fat also increases the risk of obesity, which can cause weight gain, as it can also increase the risk of developing a heart attack. Fat can also increase the risk of developing heart disease, which can lead to a heart attack. Fat can also increase the risk of obesity, which can lead to heart disease, which can lead to a heart attack. Fat can also increase the risk of getting a healthy weight and a healthy blood glucose, which can lead to weight gain, as well as a healthy weight. Fat can also help to prevent the risk of getting fat. Fat can also help to prevent heart disease and other dietary changes.<extra_id_1> </s>\n",
      "########\n",
      "*******\n",
      "question: It was the first time they had met their new niece, it was good to have everybody together at the annual what?\n",
      "answer: family reunion\n",
      "choices: [\"brother's house\", 'family picture book', 'family tree', 'family reunion', 'book']\n",
      "common expl list: ['A family reunion is called a family reunion because this is where all of the family members gather for the re-union.']\n"
     ]
    },
    {
     "name": "stderr",
     "output_type": "stream",
     "text": [
      "\r",
      " 12%|███████████████████▋                                                                                                                                               | 119/986 [37:28<2:02:00,  8.44s/it]"
     ]
    },
    {
     "name": "stdout",
     "output_type": "stream",
     "text": [
      "generated explanation: <pad> <extra_id_0> The family reunion was a great way to celebrate a special event. It was a great way to celebrate a special occasion with your new niece. It was also a great way to enjoy the company of family and friends. It was also a great way to celebrate the anniversary of your niece. It was a great way to remember your new niece and nephew. It was also a great way to share the joy of being together and have a special day together. It was also a great way to share the memories of your family.<extra_id_1> </s>\n",
      "########\n",
      "*******\n",
      "question: If you're expressing yourself in a public forum, what may you experience?\n",
      "answer: stage fright\n",
      "choices: ['danger', 'embarrassment', 'stage fright', 'getting arrested', 'blank stares']\n",
      "common expl list: ['Stage fright is the feeling of embarrassment or nervousness at the thought of being in front of people, and being on stage for a performance is a good example of a place where one often experiences stage fright. In such a case, their performance might be', 'If you are expressing yourself in a public forum, you may experience stage fright, which is the fear of being embarrassed in front of a large audience.', 'A common example of expressing oneself in public is on stage. Members of an audience may stare and become bored, and at worst they may hiss or boo.']\n"
     ]
    },
    {
     "name": "stderr",
     "output_type": "stream",
     "text": [
      "\r",
      " 12%|███████████████████▊                                                                                                                                               | 120/986 [37:32<1:42:19,  7.09s/it]"
     ]
    },
    {
     "name": "stdout",
     "output_type": "stream",
     "text": [
      "generated explanation: <pad> <extra_id_0> Stage fright is a common occurrence in public forums. Stage fright is a form of stage fear that can be experienced by people who are trying to express themselves in a public forum. Stage fright is a form of stage fright that can be experienced by people who are trying to express themselves in a public forum. Stage fright is a form of stage fright that can be experienced by people who are trying to express themselves in public. It can be a form of stage fright, which can be experienced by people who are trying to express themselves in a public forum, and stage fright is a form of a stage fright. Stage fright is a form of stage fright, which can be a form of stage fright, or other forms of stage fright.</s>\n",
      "########\n",
      "*******\n",
      "question: He was eating too much while no exercising enough, what did he suffer as a result?\n",
      "answer: gain weight\n",
      "choices: ['hungry', 'gas', 'obesity', 'gain weight', 'feeling full']\n",
      "common expl list: ['Excessive food consumption leads to accumulation of fat, which then results in a higher body weight, i.e., weight gain.', 'If you eat more than you burn, you gain weight.', \"If you eat too much and don't exercise enough, you will gain weight.\"]\n"
     ]
    },
    {
     "name": "stderr",
     "output_type": "stream",
     "text": [
      "\r",
      " 12%|████████████████████                                                                                                                                               | 121/986 [37:57<2:59:34, 12.46s/it]"
     ]
    },
    {
     "name": "stdout",
     "output_type": "stream",
     "text": [
      "generated explanation: <pad> <extra_id_0> He was eating too much while no exercising enough, which caused him to gain weight. He was also exercising too much, which caused him to gain weight. He was also eating too much while exercising, which caused him to gain weight. Eating too much while exercising was a major cause of his weight gain. Eating too much and not exercising meant that he gained weight, which caused him to gain weight. Eating too much and not exercising enough made him gain weight, which made him more susceptible to weight-related problems. Eating too much, which also meant that he was losing weight. He was exercising too often, which meant that he was losing weight, which meant he was losing weight was also a major cause of his weight. Exercise is a major part of his body weight, which meant he gained weight as he was gaining weight. Eating too much weight, which meant he was unable to gain weight. Eating too much, which meant that he would be more susceptible to losing weight as he would gain weight. Eating too much weight, which meant he would not be able to exercise, which meant he was exercising more. Exercise was unable to exercise, which meant he would not exercise would not exercise.<extra_id_1> </s>\n",
      "########\n",
      "*******\n",
      "question: Randy was not doing housework.   His wife was raising two children, and this only increased her workload. It put her under a lot of stress.  What might this lead to?\n",
      "answer: arguments\n",
      "choices: ['asthma', 'more', 'boredom', 'headache', 'arguments']\n",
      "common expl list: ['Stress is often related to family life. Being under stress, the wife might verbally lash out at her husband, which could potentially lead to arguments']\n"
     ]
    },
    {
     "name": "stderr",
     "output_type": "stream",
     "text": [
      "\r",
      " 12%|████████████████████▏                                                                                                                                              | 122/986 [37:59<2:13:11,  9.25s/it]"
     ]
    },
    {
     "name": "stdout",
     "output_type": "stream",
     "text": [
      "generated explanation: <pad> <extra_id_0> Randy was not doing housework. It only increased her workload. This increased her workload, and it also increased her workload. This made Randy feel less stressed and less accomplished. This also made it harder for her to focus on other things, such as raising a child. This also made her more stressed. This also made Randy feel less stressed. This also made Randy feel less stressed and stressed. This is why she was not doing housework. It was also important to note that Randy was not doing housework. It was also important to note that Randy was not doing housework was not doing housework.<extra_id_1> </s>\n",
      "########\n",
      "*******\n",
      "question: Where can you learn about a ferret with special abilities far beyond normal ferrets?\n",
      "answer: comic book\n",
      "choices: ['comic book', 'out of doors', 'great britain', 'redwall', 'north carolina']\n",
      "common expl list: ['ferrets are lovable pets that occasionally pop up in comic or animated shows and movies. Occasionally a ferret is rodent, but more often they are the companion of a hero.']\n"
     ]
    },
    {
     "name": "stderr",
     "output_type": "stream",
     "text": [
      "\r",
      " 12%|████████████████████▎                                                                                                                                              | 123/986 [38:01<1:42:13,  7.11s/it]"
     ]
    },
    {
     "name": "stdout",
     "output_type": "stream",
     "text": [
      "generated explanation: <pad> <extra_id_0> Comic books are a great place to learn about a ferret with special abilities beyond normal ferrets. Comic books are a great place to learn about a ferret with special abilities. They also provide a great resource for ferret enthusiasts to read about, as well as other ferrets. Comic books also provide a great resource for ferret enthusiasts to read about, and to learn more about ferrets. They also provide a great resource for ferret enthusiasts, as well as other animals, as well as other ferrets. They also provide a great resource for information on the latest news and information on ferrets.<extra_id_1> </s>\n",
      "########\n",
      "*******\n",
      "question: When people have guests over, what do they often do for their guests?\n",
      "answer: cook food\n",
      "choices: ['talk to each other', 'learn from each other', 'demand justice', 'cook food', 'share food']\n",
      "common expl list: [\"People who have guests (guests of any kind) over tend to cook them food. The food can either be pre-cooked, and ready to be served upon the guest's arrival, or consumed while the two of them have a conversation.\", 'People often cook food for their guests.', \"People often prepare and share food because it's a way to welcome and appreciate each other.\", \"It's common to cook food for guests, which can feed everyone.\", \"When people have guests over, it's common for them to make food for their guests.\"]\n"
     ]
    },
    {
     "name": "stderr",
     "output_type": "stream",
     "text": [
      "\r",
      " 13%|████████████████████▍                                                                                                                                              | 124/986 [38:03<1:19:13,  5.51s/it]"
     ]
    },
    {
     "name": "stdout",
     "output_type": "stream",
     "text": [
      "generated explanation: <pad> <extra_id_0> When people have guests over, they often cook food for them. Cooking food is a great way to spend a night with friends and family. It is a great way to spend time with family and friends and enjoy the evening. Cooking food is a great way to spend time with your guests and make the experience more enjoyable for them. Cooking food is also a great way to make sure you have a great time with your guests. Cooking food is a great way to make your guests feel comfortable and at home. Cooking food is a great way to make a great way to make someone special.</s>\n",
      "########\n",
      "*******\n",
      "question: Talking to someone is pointless if they're doing what?\n",
      "answer: not listening\n",
      "choices: ['dry mouth', 'whispering', 'being heard', 'eye contact', 'not listening']\n",
      "common expl list: ['People who are not listening to you will obviously not be able to understand your communication.', 'To be engaged in a conversation--particularly a one-on-one conversation, both people must be listening attentively.']\n"
     ]
    },
    {
     "name": "stderr",
     "output_type": "stream",
     "text": [
      "\r",
      " 13%|████████████████████▋                                                                                                                                              | 125/986 [38:17<1:55:44,  8.07s/it]"
     ]
    },
    {
     "name": "stdout",
     "output_type": "stream",
     "text": [
      "generated explanation: <pad> <extra_id_0> Listening to someone is a waste of time if they're doing something wrong. Listening to someone is a waste of time and money. Listening to someone is a waste of time. Listening to someone is a waste of time and energy. It is also a waste of time because it isn't worth it. Listening to someone is a waste of time and energy. Listening to someone is a waste of time. Listening to someone is a waste of time. It is a waste of time to listen. Listening to someone is a waste of time and energy. Listening to someone's life. Listening to someone's thoughts and feelings is a waste of time. Listening to someone's thoughts and emotions. Listening to someone's feelings and emotions are worth listening. Listening to someone's worth listening to someone's feelings and thoughts. Listening to someone's feelings. Ultimately, listening to someone's thoughts and feelings that make a waste of time and energy that makes it a waste of time. Listening to someone's thoughts and feelings. Listening to someone's time. Ultimately, listening to someone's life. Ultimately, listening to someone's time.<extra_id_1> </s>\n",
      "########\n",
      "*******\n",
      "question: If you are enjoying sunshine on the beach, what do you likely have views of?\n",
      "answer: sea\n",
      "choices: ['windowsill', 'sunbathers', 'disneyland', 'sea', 'summer']\n",
      "common expl list: ['Seashores usually have views of the water (i.e., the \"sea\").', 'To sunbathe, one would likely be found on a beach, where one would likely see the sea before anything else.', \"The beach is a place where people go to enjoy the sun, and so it's likely that the beach would have views of the sea.\"]\n"
     ]
    },
    {
     "name": "stderr",
     "output_type": "stream",
     "text": [
      "\r",
      " 13%|████████████████████▊                                                                                                                                              | 126/986 [38:19<1:28:53,  6.20s/it]"
     ]
    },
    {
     "name": "stdout",
     "output_type": "stream",
     "text": [
      "generated explanation: <pad> <extra_id_0> If you are enjoying sunshine on the beach, what do you likely have views of? The sea is a great place to be if you are looking at the ocean. The ocean is a great place to enjoy the sun and the fresh air. The sun is also a great place to enjoy the fresh air and the fresh air. The ocean is also a great place to enjoy a break from the heat and cold. The ocean is also a great place to relax and enjoy a break from the heat and cold. The sun is also a great place to enjoy a view of the ocean and the fresh air.<extra_id_1> </s>\n",
      "########\n",
      "*******\n",
      "question: What does an actor do while acting?\n",
      "answer: pretend\n",
      "choices: ['branch out', 'eat curry', 'wear costume', 'pretend', 'sing songs']\n",
      "common expl list: ['Actors pretend certain things. While acting, they might pretend to be in a different location by going somewhere close to a stage feed. Actors might also pretend to possess particular materials while on stage by carrying props.']\n"
     ]
    },
    {
     "name": "stderr",
     "output_type": "stream",
     "text": [
      "\r",
      " 13%|████████████████████▉                                                                                                                                              | 127/986 [38:33<2:05:55,  8.80s/it]"
     ]
    },
    {
     "name": "stdout",
     "output_type": "stream",
     "text": [
      "generated explanation: <pad> <extra_id_0> Actors often act out as actors, which can be as simple as a dance or a dramatic role. Actors often take on roles that involve a variety of different roles, such as playing a role or playing a role. Actors often have to pretend that they are acting, or they are acting as a character. Actors often pretend to be acting, or they are playing a role in a role. Actors often pretend that they are acting, or they are acting as a role, or they pretend to be acting, which is the role as acting as a role, or pretend to be acting, or pretend that they are acting. Acting is a role as a role as a role in a role, or pretend that they are acting as a role, or pretending as a role, pretending to be acting, or pretending to play a role, pretending to act as a role in a role, which is a role in the role as a role. Acting</s>\n",
      "########\n",
      "*******\n",
      "question: Where is a ring binder likely to contain budgets?\n",
      "answer: office\n",
      "choices: ['office', 'notebook', 'school', 'stationary shop', 'desk']\n",
      "common expl list: ['An office setting is the most likely place where a manager would keep a collection of budgets.', 'A ring binder is likely to contain budgets in an office, as budgets are often prepared by office workers.']\n"
     ]
    },
    {
     "name": "stderr",
     "output_type": "stream",
     "text": [
      "\r",
      " 13%|█████████████████████▏                                                                                                                                             | 128/986 [38:35<1:35:33,  6.68s/it]"
     ]
    },
    {
     "name": "stdout",
     "output_type": "stream",
     "text": [
      "generated explanation: <pad> <extra_id_0> A ring binder is a common place to keep budgets in the office. Ring binders are typically found in the office, in the office, or in the office. They are also commonly found in the office, such as in the classroom, or in the office. Ring binders are often found in the office, where they are easily accessible and can be used to keep budgets in a ring. Ring binders are also commonly found in the office, such as the office building, which is often used to store and process the budgets in a ring binder.</s>\n",
      "########\n",
      "*******\n",
      "question: Where do you go when you're about to board a vehicle on railing?\n",
      "answer: railway station\n",
      "choices: ['railway station', 'deck', 'flight of stairs', 'porch', 'bus station']\n",
      "common expl list: ['Railway stations are where you board trains, which are often on rails.', 'Trains and busses both commonly make use of rail transportation to facilitate their travel. Railway station is the station they are staking out to board at. Thus, railway station is where you would go if you need to board a vehicle on a']\n"
     ]
    },
    {
     "name": "stderr",
     "output_type": "stream",
     "text": [
      "\r",
      " 13%|█████████████████████▎                                                                                                                                             | 129/986 [38:37<1:14:24,  5.21s/it]"
     ]
    },
    {
     "name": "stdout",
     "output_type": "stream",
     "text": [
      "generated explanation: <pad> <extra_id_0> A railway station is a safe and convenient place to go when you're about to board a vehicle on railing. It is a great place to get around and get around. It is a great place to get around and get around. It is also a great place to get around town and get around the city. It is a great place to get around and get around. It is also a great place to get around and get around. Trains are often located in areas where there are many trains and buses. Trains and buses. Trains are the best place to get around and board.</s>\n",
      "########\n",
      "*******\n",
      "question: Where can I go to see a really big toy balloon floating at the top of a dome?\n",
      "answer: circus\n",
      "choices: ['parade', 'circus', 'amusement park', 'birthday party', 'magic show']\n",
      "common expl list: ['Circuses often have big inflatables on the top dome of a tent; inside, they could house various attractions such as clowns, acts, games, rides, food, drinks, etc.']\n"
     ]
    },
    {
     "name": "stderr",
     "output_type": "stream",
     "text": [
      "\r",
      " 13%|█████████████████████▍                                                                                                                                             | 130/986 [39:49<5:59:57, 25.23s/it]"
     ]
    },
    {
     "name": "stdout",
     "output_type": "stream",
     "text": [
      "generated explanation: <pad> <extra_id_0> A circus is a circus where a toy balloon is a big toy balloon floating on a dome. The toy balloon is usually a small inflatable, but a large balloon is usually attached to a dome. The toy balloon is usually attached to a dome, which is a great way to see a toy balloon floating on top of a dome. The toy balloon is usually attached to a dome, which is usually a dome that is attached to a dome. The toy balloon is usually attached to a dome, which is a circus circus act. The circus circus circus act is a circus circus acts are often a circus act as a circus circus circus act. The toy balloon is often used to show off the magic of the circus circus act. The circus circus circus acts are also used to show off the circus acts. The circus circus circus circus circus acts’ ability to show off the circus circus acts’ ability to show off the magic of the circus circus circus circus circus circus circus stunts or to show off the circus circus circus act. The circus circus act to show off the circus circus circus circus circus circus circus circus circus circus circus circus circus circus circus circus circus circus circus circus circus circus circus circus circus circus circus circus circus circus circus circus circus circus circus circus circus circus circus circus circus circus circus circus circus circus circus circus circus circus circus circus circus circus circus circus circus circus circus circus circus circus circus circus circus circus circus circus circus circus circus circus circus circus circus circus circus circus circus circus circus circus circus circus circus circus circus circus circus circus circus circus circus circus circus circus circus circus circus circus circus circus circus circus circus circus circus circus circus circus circus circus circus circus circus circus circus circus circus circus circus circus circus circus circus circus circus circus circus circus circus circus circus circus circus circus circus circus circus circus circus circus circus circus circus circus circus circus circus circus circus circus circus circus circus circus circus circus circus circus circus circus circus circus circus circus circus circus circus circus circus circus circus circus circus circus show circus circus circus circus circus circus circus circus circus circus circus circus circus circus circus circus circus circus circus circus circus circus circus circus circus circus circus circus circus circus circus circus circus circus circus circus circus circus circus circus circus circus circus circus circus circus circus circus circus circus circus circus circus circus circus circus circus circus circus circus circus circus circus circus circus circus circus circus circus circus circus circus circus circus circus circus circus circus circus circus circus circus circus circus circus circus circus circus circus circus circus circus circus circus circus\n",
      "########\n",
      "*******\n",
      "question: They got to the door and it was locked, he reached in his jeans what to retrieve the key?\n",
      "answer: pocket\n",
      "choices: ['pocket', 'bus depot', 'lock', 'purse', 'front door']\n",
      "common expl list: ['People often keep their keys in their pockets.', 'Most people keep house keys in their pocket.']\n"
     ]
    },
    {
     "name": "stderr",
     "output_type": "stream",
     "text": [
      "\r",
      " 13%|█████████████████████▋                                                                                                                                             | 131/986 [39:51<4:21:47, 18.37s/it]"
     ]
    },
    {
     "name": "stdout",
     "output_type": "stream",
     "text": [
      "generated explanation: <pad> <extra_id_0> He reached in his jeans and the door was locked, he reached in his pocket to retrieve the key, which he had locked. This is where he was able to retrieve the key, which he had found in his pocket. The key was also located in his pocket and is easily accessible by using his finger or thumb. It is also located in his pocket because it is located in the back pocket. It is also possible to unlock the door by holding it in his pocket. The key is located in the back pocket of his jeans and he can be located in his pocket. It is possible to unlock the door when he was able to retrieve the key. It is possible to unlock the key when he can retrieve the key.</s>\n",
      "########\n",
      "*******\n",
      "question: The car was overheating, where was it located?\n",
      "answer: in phoenix\n",
      "choices: ['airport', \"neighbor's house\", 'in phoenix', 'repair shop', 'street corner']\n",
      "common expl list: ['Phoenix is a hot place, and cars often overheat there.']\n"
     ]
    },
    {
     "name": "stderr",
     "output_type": "stream",
     "text": [
      "\r",
      " 13%|█████████████████████▊                                                                                                                                             | 132/986 [41:01<8:01:49, 33.85s/it]"
     ]
    },
    {
     "name": "stdout",
     "output_type": "stream",
     "text": [
      "generated explanation: <pad> <extra_id_0> The car was overheating, where was it located? Phoenix is located in the city of Phoenix, and is known for its high-speed, low-speed, and high-speed, high-speed, high-speed traffic. The city is also known for its high-speed, high-speed, and low-speed traffic. The city is also known for its high-speed, high-speed trains and for its easy access to the city's attractions. The city's many attractions and attractions are located in the city's - a quick commute to the airport. The city's high-speed rail and high-speed trains are also known for their high-speed trains and high-low-speed trains are also known for their high-speed trains. The city's high-speed trains are also known as the city's high-speed trains and high-speed trains. The city is also known as the city's high-speed trains, high-speed rails and high-speed trains. The city's high-speed rails are also known as the city's high-speed trains are also known as the city's high-speed rails are known for their high-speed rails and high-speed rails are also known for their high-speed trains. The city's high-speed trains are often the most popular destinations. The city's high-speed rails are also known for their high-speed rails and high-speed rails and high-speed rails and high-speed trains are the most popular destinations for overheating zones are also the most important destinations for many of the most popular destinations for the hottest destinations for the hottest destinations for those who have the most frequent destinations for those who frequent destinations for those who are most popular destinations for those who have a reason for which they are among the most frequent destinations for which they are also the most popular destinations for those who have the most frequent destinations for their frequent destinations for passengers and the transportation. The most popular destinations for those who frequent destinations for those who are also the most popular destinations for those who are traveling over overheating destinations. The location of the hot spots for the phoenix phoenix phoenix phoenix phoenix phoenix phoenix phoenix phoenix phoenix phoenix phoenix phoenix phoen\n",
      "########\n",
      "*******\n",
      "question: Where is likely to have a walk in type wardrobe?\n",
      "answer: mansion\n",
      "choices: ['recreational vehicle', 'clothes cupboard', 'house', 'mansion', 'bedroom']\n",
      "common expl list: ['A walk-in wardrobe is a large wardrobe that is usually found in a mansion.', 'A walk in wardrobe is a large type of closet that could be found in a mansion.', 'As I think of scenarios, the result I expect the most is that of a person with a lot of clothes, or a clothing designer, living in a mansion; these people might have the luxury of a walk in wardrobe.']\n"
     ]
    },
    {
     "name": "stderr",
     "output_type": "stream",
     "text": [
      "\r",
      " 13%|█████████████████████▉                                                                                                                                             | 133/986 [41:03<5:43:20, 24.15s/it]"
     ]
    },
    {
     "name": "stdout",
     "output_type": "stream",
     "text": [
      "generated explanation: <pad> <extra_id_0> A mansion is likely to have a walk in wardrobe. Walk in wardrobes are usually found in rooms of a house, a garden or a garden. A mansion is likely to have a walk in wardrobe, a walk in wardrobe, and a walk in wardrobe. The wardrobe is usually found in a mansion, a garden or a garden, or in a garden. A mansion is likely to have a walk in wardrobe, a walk in wardrobe, a garden or a garden.<extra_id_1> </s>\n",
      "########\n",
      "*******\n",
      "question: How bad is the punishment for someone who is over indulgent?\n",
      "answer: severe\n",
      "choices: ['severe', 'harsh', 'hard', 'strict', 'self denying']\n",
      "common expl list: ['Overindulgence in anything is bad, possibly leading to lethargy, poor health, overspending, and the like. As a result of this, a punishment for a person who is over-indulgent could be severe.']\n"
     ]
    },
    {
     "name": "stderr",
     "output_type": "stream",
     "text": [
      "\r",
      " 14%|██████████████████████▏                                                                                                                                            | 134/986 [41:29<5:51:04, 24.72s/it]"
     ]
    },
    {
     "name": "stdout",
     "output_type": "stream",
     "text": [
      "generated explanation: <pad> <extra_id_0> The punishment for someone who is over indulgent is severe. The punishment for being over indulgent is severe. It is punishable by a life sentence that is a punishment that is severe and severe. It is a punishment that is punishable by a fine of up to $1,000. It is also punishable by a fine of up to $1,000. The punishment is severe because it is a punishment that is meant to be punishable with a fine of up to $1,000. It is also a punishment that is imposed on someone who is indulgent and indulgent. The punishment is a punishment that is not a punishment that is meant to be punished is a punishment that is not a punishment. It is also meant to be a punishment that is severe punishment. It is also a punishment that is considered a punishment for punishment that is a punishment that is punishable punishment. It is a punishment for someone who is over indulgent and punishment that is not a punishment. It is a punishment that is punishing the punishment. It is punishing the punishment for being over indulgent. It is punishable punishment. It is also punishment for being over indulgentee. It is punished punishment for being punished for being over indulgentee punishment for being punished for being sentence for being sentence for being sentence for being sentence for being sentence for being sentence for being sentence for being sentence for being sentence for being punished.<extra_id_1> </s>\n",
      "########\n",
      "*******\n",
      "question: She was going to bed at 11 at night, what was she looking to do?\n",
      "answer: falling asleep\n",
      "choices: ['falling asleep', 'relaxing', 'rest', 'dreaming of', 'laziness']\n",
      "common expl list: ['Falling asleep is often a desired result when going to bed.', \"People go to bed when they're tired and want to sleep\"]\n"
     ]
    },
    {
     "name": "stderr",
     "output_type": "stream",
     "text": [
      "\r",
      " 14%|██████████████████████▎                                                                                                                                            | 135/986 [41:34<4:28:38, 18.94s/it]"
     ]
    },
    {
     "name": "stdout",
     "output_type": "stream",
     "text": [
      "generated explanation: <pad> <extra_id_0> She was going to bed at 11 at night, what was she looking to do? falling asleep is the most important thing for her, as it is the most important thing for her to do. Sleeping is the most important thing for a person who is looking to avoid waking up and spending time alone. Sleeping is the most important thing for a person who is tired and has a sense of security. Sleeping is the most important thing for a person who is looking to relax and recharge. Sleep is the most important thing for a person who is also looking to do things that are falling asleep. Sleeping at 11 is the most important thing to do for a person who is to stay asleep at 11 to stay asleep. Sleeping at 11 is a person who is looking to avoid distractions and distractions. Sleeping is the most important thing for a person who is looking to do.</s>\n",
      "########\n",
      "*******\n",
      "question: A company with the moniker of Big Sky Excavation would probably be found where?\n",
      "answer: montana\n",
      "choices: ['a forest', 'city', 'egypt', 'montana', 'desert']\n",
      "common expl list: ['Mountain ranges are often called \"big sky\"s. The term is popular for companies in Montana, a state with lots of mountians, including two major mountain ranges.']\n"
     ]
    },
    {
     "name": "stderr",
     "output_type": "stream",
     "text": [
      "\r",
      " 14%|██████████████████████▍                                                                                                                                            | 136/986 [41:37<3:17:52, 13.97s/it]"
     ]
    },
    {
     "name": "stdout",
     "output_type": "stream",
     "text": [
      "generated explanation: <pad> <extra_id_0> A company with the moniker of Big Sky Excavation would likely be found in a location located in the mountains of Colorado. The company would be known for its ability to excavate the ground, and then excavate the ground to the highest possible depth. This would be the company that would be found in the mountains of Colorado. This would be the first place that would have been found to be located in the mountains of Colorado. The location would be located in the mountains of Colorado, which is where the company would be found in the mountains of the company would probably be found in the mountains of Colorado. The company would also be known as the company's ability to excavate the ground and excavation company's customers' livelihoods.<extra_id_1> </s>\n",
      "########\n",
      "*******\n",
      "question: Which horseman of the apocalypse is often depicted next to death?\n",
      "answer: war\n",
      "choices: ['battlefield', 'the healer.', 'funeral', 'war', 'hospital']\n",
      "common expl list: ['A time of war is also often associated with someone dying.']\n"
     ]
    },
    {
     "name": "stderr",
     "output_type": "stream",
     "text": [
      "\r",
      " 14%|██████████████████████▋                                                                                                                                            | 137/986 [42:50<7:27:49, 31.65s/it]"
     ]
    },
    {
     "name": "stdout",
     "output_type": "stream",
     "text": [
      "generated explanation: <pad> <extra_id_0> War is a major cause of death and destruction, and it is often associated with the destruction of the world. War is often associated with the destruction of the world, and war is often associated with the death of a person or thing. War is a major cause of death, and war is often associated with the death of a person or thing. War is a powerful force that can cause great destruction and destruction, as it is often depicted in the form of a war that can bring about the end of the world. War is often depicted as a powerful force that can be depicted as a powerful force that can bring great destruction of the world. War is often depicted as a powerful force that can bring about the end of the world. War is often depicted as a powerful force that can bring great destruction. War is a powerful force that can bring about a powerful force that can bring about the end of the world. War is often depicted to be a force that can be used to bring about the world. War is often depicted as a force that can bring about the end of the world. War. War. The apocalyse. War is often depicted as a violent force that can be seen as a weapon. War is often depicted as a force that can be seen as a force that can be used to bring about the end of the end of the end of the end of the end of the end of the end of the end of the end of the end of the end of the end of the end. War is often the end of the end. War. War. War. War is often depicted as a symbol of the end of the end of the end of the end of the end of the end. War is the end of the end. War is the end of the end of the end of the end of the end of the end of the end of the end of the end of the end of the end of the end of the end of the end of the end of the end of the end of the end of the end of the end of the end of the end of the end of the end of the end of the end of the end of the end of the end of the end of the end of the end of the end of the end of the end of the end of the end of the end of\n",
      "########\n",
      "*******\n",
      "question: What could be used to write with a steel pen?\n",
      "answer: hand\n",
      "choices: ['warehouse', 'arm', 'hand', 'desk drawer', 'veterinary office']\n",
      "common expl list: ['you write with a steel pen using your hand.', 'Using a steel pen requires someone to hold it, and we associate writing with hands. Powder can be used with steel pens as a \"contrast medium.']\n"
     ]
    },
    {
     "name": "stderr",
     "output_type": "stream",
     "text": [
      "\r",
      " 14%|██████████████████████▊                                                                                                                                            | 138/986 [43:40<8:46:41, 37.27s/it]"
     ]
    },
    {
     "name": "stdout",
     "output_type": "stream",
     "text": [
      "generated explanation: <pad> <extra_id_0> A steel pen is a type of pen that is used to write with a hand. It is designed to be used to write with a steel pen, which is a type of pen that is designed to be used to write with a hand. It is a great tool for writing with a steel pen, as it allows you to write with a steel pen. It is also a great tool for writing with a steel pen, as it allows you to write with a steel pen. It is also a great tool for writing with a hand. It is also a great tool for writing with a steel pen, and it is also a great tool for writing with a steel pen. The steel pen is a great tool for writing with a steel pen, as it allows you to write with a steel pen, as it allows you to write with a greater degree of precision and accuracy. It is a great tool for writing with a steel pen, and it is a greater depth and precision. The pen, and it is a greater depth when writing with a steel pen, and it is possible to write with a greater precision, making it a great tool for writing with a steel pen. The steel pen to write with a larger, more precise, more accurate, more accurate, more accurate and more accurate writing with a greater precision. It is a greater precision. The pen to write with a greater precision. The pen to write with a greater precision. The steel pen to create a greater precision. The steel pen to write with a greater ease. The greater ease. The pen to write with a larger, more accurate and more accurate writing with a greater precision. The pen to write with a larger, more accurate, more accurate writing with a larger writing with a greater precision. The greater precision. The pen to write with a larger amount of precision. The steel pen to write with a larger hand. The steel pen to write with a larger hand. The pen can be used to write with a greater precision. The pen can be used to write with a greater precision. The pen can be used to write with a greater precision. The steel pen can be used to write with a larger hand. The steel pen can be used to write with a greater precision. The steel pen can be used to write with a greater\n",
      "########\n",
      "*******\n",
      "question: I needed to find out how to contact a person with a certain name, where should I look?\n",
      "answer: phone book\n",
      "choices: ['directory', 'michigan', 'roster', 'phone book', 'certificate']\n",
      "common expl list: ['Phone books are usually a good source for finding phone numbers to call other people.', 'A phone book is likely to have the phone numbers of nearby people.', \"Phone books are used to find people's phone numbers.\", 'People are listed in phone books for easy access by callers.']\n"
     ]
    },
    {
     "name": "stderr",
     "output_type": "stream",
     "text": [
      "\r",
      " 14%|██████████████████████▊                                                                                                                                           | 139/986 [44:56<11:31:41, 49.00s/it]"
     ]
    },
    {
     "name": "stdout",
     "output_type": "stream",
     "text": [
      "generated explanation: <pad> <extra_id_0> I needed to find out how to contact a person with a certain name, where should I look? Phone book is a great place to look for people with a certain name, such as people with a certain name, and it is a great place to look for information. It is a great place to find out about people with a certain name, such as people with a certain name, and their location. It is a great place to find out how to contact a person with a certain name, such as people with a certain phone book is a good place to look for a person with a certain phone book. It is a great place to find out how to contact people with a given name, and how to contact a person with a phone book. It is a great place to find out more about people with a certain name, such as people with a certain name, and it is important to contact information. Phone book is a great place to find out how to contact information. Phone book is a great way to find out what the person with a certain name, and it is important to find out who you can contact information. Phone book book is a great way to find out what person with a certain name, and how to contact information. phone book is a person with a person with a certain name, and how to find out who to contact a person with a person with a specific name, to find out who to contact a specific name, and how to find out who to find out who to contact information to find out who to contact. Telephone book is a person with a person with a person with a person with a person with a person with a person with a certain name, and how to contact information that is known person with a person with a person with a person with a certain name, and how to contact information that is a contact information that is a person with a person with a certain name, and how to contact information. Telephone book contacts. Telephone book is a person with a certain name, and how to find out who to contact information. Telephone book is a person with a specific name, and how to contact information. Telephone book is a certain name, and how to contact information. Telephone book is a person with a certain name,\n",
      "########\n",
      "*******\n",
      "question: What is important for a couple to do?\n",
      "answer: communicate\n",
      "choices: ['live together', 'row about', 'plan to marry', 'communicate', 'marry each other']\n",
      "common expl list: ['Couples who communicate well are more likely to stay together, and thus, it is important for a couple to communicate.', 'Communication is a key part of a healthy relationship and - often equally as important - is the commitment to communicate effectively.', \"To make a relationship work, it's very important to communicate with each other.\"]\n"
     ]
    },
    {
     "name": "stderr",
     "output_type": "stream",
     "text": [
      "\r",
      " 14%|███████████████████████▏                                                                                                                                           | 140/986 [45:09<8:57:17, 38.11s/it]"
     ]
    },
    {
     "name": "stdout",
     "output_type": "stream",
     "text": [
      "generated explanation: <pad> <extra_id_0> Communicate a couple’s relationship with each other. Communicating is important for a couple to do. Communicating is the most important thing for a couple to do. It is important for a couple to communicate their commitment to each other. It is also important for a couple to communicate effectively. Communicating is important for a couple to maintain a healthy relationship. Communicating is also important for a couple to ensure that their relationship is successful. Communicating is also a powerful way to make a lasting impression on their guests. It is important for a couple to communicate effectively communicate to their friends and family. Communicating is also important for a couple to maintain a relationship. It is also important for couples to communicate. Ultimately, it is important for a couple to keep in touch with each other. Communicating is also important for a couple to ensure that the relationship is successful. Communicating is also important for a strong relationship. It is important for a couple to make a successful relationship.</s>\n",
      "########\n",
      "*******\n",
      "question: The botanist knew the plant was living, what did he observe that led him to know that?\n",
      "answer: respiration\n",
      "choices: ['interaction', 'death', 'respiration', 'expiration', 'chlorophyll']\n",
      "common expl list: [\"The teacher commonly noted that plants give off oxygen as a result of respiration, which helps fuel their energy and growth. This was evidence of a plant's life.\"]\n"
     ]
    },
    {
     "name": "stderr",
     "output_type": "stream",
     "text": [
      "\r",
      " 14%|███████████████████████▏                                                                                                                                          | 141/986 [46:25<11:38:05, 49.57s/it]"
     ]
    },
    {
     "name": "stdout",
     "output_type": "stream",
     "text": [
      "generated explanation: <pad> <extra_id_0> The botanist observed the plant's life, and what led him to know that? The plant was living, and what he observed led him to know that it was living, and what led him to know that it was living. The plant was living, and what led him to know that it was living, and what led him to know that it was living. The botanist observed that respiration was a vital part of the plant's growth, and it was responsible for its survival. The plant was living, and it was breathing, and respiration is vital for the plant's survival. respiration is vital for the plant to be living, and it is living, and it is vital for the plant to know that it is living, and it is breathing. The botanist knew that the plant was living, and that it was living, was living, and was a vital part of the plant. It was vital for the plant's survival. The plant's existence, and it is vital for the plant's survival and survival. It is vital for the plant's survival and survival. It is vital for the plant's survival. It is vital for the plant to know that the plant's survival. It is vital to know the plant's life. It is vital to the plant's survival and survival. It is vital to the plant's survival. It is vital to know that plant's survival. It is vital to know that plant's survival. It is vital to the plant to know that the plant's survival and that the plant's survival. It is vital to know that the plant's survival. It is vital to know that the plant's survival. It is vital to know that the plant's survival. It is vital to know that the plant's survival is vital to the plant's survival. The plant's survival. The plant's survival is vital to the plant's survival, and that it is vital to the plant to know that the plant to know that the plant to know that the plant is to know that the plant to know that the plant is a plant's survival. The plant to know that plant is life. The plant's survival. The plant is a plant is vital to the plant to know that the plant's survival. The plant's survival. The plant's survival. The plant is vital to the plant to maintain its survival\n",
      "########\n",
      "*******\n",
      "question: What is it called when teens are together not doing anything in particular?\n",
      "answer: hang out\n",
      "choices: ['smoke', 'homework', 'volunteer', 'party', 'hang out']\n",
      "common expl list: ['Hang out is a term that could be used for teens hanging out together, typically with no particular agenda.', 'Hanging out\" is used to describe events where people are socializing, doing nothing in particular. Other events include hanging out with a purpose (doing homework, studying outside, going shopping, etc.).']\n"
     ]
    },
    {
     "name": "stderr",
     "output_type": "stream",
     "text": [
      "\r",
      " 14%|███████████████████████▍                                                                                                                                           | 142/986 [46:28<8:17:16, 35.35s/it]"
     ]
    },
    {
     "name": "stdout",
     "output_type": "stream",
     "text": [
      "generated explanation: <pad> <extra_id_0> Hang out is a common behavior among teens and adults. It is a group of friends who are not doing anything particular, such as a dance or a movie. Hang outs are a group of people who are together and have a common interest in a group of people. Teens who are together are more likely to hang out because they are not doing anything particular. It is a common behavior among teens and adults when teens are together not doing anything particular. It is called hang out because teens are together and are not doing anything specific. Hang outs are a group of teens who are not doing anything particular. Hang outs are a group of people who are together to discuss ideas and ideas for hang outs.<extra_id_1> </s>\n",
      "########\n",
      "*******\n",
      "question: The saw was not necessary for car repair, so what wasn't it included with during pucrhase?\n",
      "answer: tool kit\n",
      "choices: ['tool shed', 'tool box', 'tool kit', 'hardware store', 'toolbox']\n",
      "common expl list: ['A saw is another name for a cutting tool, but they are often not included with a tool kit, because a kit is used for other repair needs (bolts, screws, bindings, etc.), and a saw is not required for a car repair']\n"
     ]
    },
    {
     "name": "stderr",
     "output_type": "stream",
     "text": [
      "\r",
      " 15%|███████████████████████▋                                                                                                                                           | 143/986 [46:29<5:54:38, 25.24s/it]"
     ]
    },
    {
     "name": "stdout",
     "output_type": "stream",
     "text": [
      "generated explanation: <pad> <extra_id_0> The saw was not included with during pucrhase. It was not necessary for car repair, so what was not included with it during pucrhase? The tool kit was included with tools, such as a saw, a wrench, a tool, and a wrench. The saw was not included with the car repair kit, but was included with tools and tools. The saw was not included with the tool kit, which is a useful tool for car repair. It is also not necessary for car repair, so it is not necessary for car repair.<extra_id_1> </s>\n",
      "########\n",
      "*******\n",
      "question: Where will my kid put their coin in their room?\n",
      "answer: piggy bank\n",
      "choices: ['piggy bank', 'wishing well', 'parking meter', 'under pillow', 'change purse']\n",
      "common expl list: ['Kids commonly save small amounts of money for later use, and these savings are often kept in piggy banks.', 'Piggy banks are often used to store coins.']\n"
     ]
    },
    {
     "name": "stderr",
     "output_type": "stream",
     "text": [
      "\r",
      " 15%|███████████████████████▊                                                                                                                                           | 144/986 [47:01<6:23:07, 27.30s/it]"
     ]
    },
    {
     "name": "stdout",
     "output_type": "stream",
     "text": [
      "generated explanation: <pad> <extra_id_0> My kid will always have a coin in their room, and that is why a piggy bank is a great place to put their coin. A piggy bank is a small storage device that stores coins and other valuables, such as coins, and is a great place to store coins. It is also a great place to keep your kid's money, as it helps keep them organized and organized. It also helps to keep track of their coins and other valuables, such as books, and other items. It is also a place to store coins and other things. It is also a place to keep coins in your room. It is also a place to keep your kid's coins. It is a place to keep them safe and secure and secure place to keep them safe and keep them safe. It is a safe place to keep your kid's money and keep track of their belongings safe and secure and secure. It is also a place to keep track of valuables and keeps them safe and secure and safe places to keep them safe and secure possessions safe and secure and safe places to keep them safe and secure and safe places to keep safe places for your kid's money. The piggy bank accounts and keep them safe and secure and safe places for them to keep safe and secure and safe and secure and safe places for their coins safe safe places for them safe from thefts and safe and secure and safe safe and secure places for them safe and secure and safe places for them safe and secure and safe places safe safe places safe places safe places safe places safe places safe safe places safe places safe safe places. It is safe and secure safe. It is a safe place for safe and secure. It is safe to keep safe and secure safe. It is safe to keep safe safe. It is safe to keep your safe to keep safe from being safe and secure. It is safe from theft, keep safe. It is safe.</s>\n",
      "########\n",
      "*******\n",
      "question: Where is a fire extinguisher likely to be found behind the seat?\n",
      "answer: school bus\n",
      "choices: ['school bus', 'house', 'garden', 'stairwell', 'garage']\n",
      "common expl list: ['Fire extinguishers are required on public-transit vehicles, such as school buses.']\n"
     ]
    },
    {
     "name": "stderr",
     "output_type": "stream",
     "text": [
      "\r",
      " 15%|███████████████████████▉                                                                                                                                           | 145/986 [47:09<4:58:19, 21.28s/it]"
     ]
    },
    {
     "name": "stdout",
     "output_type": "stream",
     "text": [
      "generated explanation: <pad> <extra_id_0> A school bus is likely to have a fire extinguisher located behind the seat. This is because it is often located behind the seat and is likely to be located behind the seat. School buses are often located behind the seats of the vehicles and are often equipped with a fire extinguisher. The seat is also often equipped with a seatbelt, which is often used to protect the seat from fire. The seat is also often equipped with a fire extinguisher, which is a common sight for children to be used for school buses. The bus driver is often located behind the seat of the seat and can also be located behind the seatbelt. The fire extinguisher is often located behind the seat of the seat belt, which is a great way to keep the seat. The seatbelt is also a seatbelt. The seatbelt is also a great way to keep the seat and help the fire exting</s>\n",
      "########\n",
      "*******\n",
      "question: His therapist said he had to get out there and begin socialising, it was the only was to start what?\n",
      "answer: friendships\n",
      "choices: ['conflicts', 'having fun', 'jealousy', 'getting out there', 'friendships']\n",
      "common expl list: ['Interacting with other people socially is likely to result in making new friends.', 'His therapist said that he needed to speak to people if he wanted to be less withdrawn. This would help him to get out of his shell.']\n"
     ]
    },
    {
     "name": "stderr",
     "output_type": "stream",
     "text": [
      "\r",
      " 15%|████████████████████████▏                                                                                                                                          | 146/986 [47:10<3:36:03, 15.43s/it]"
     ]
    },
    {
     "name": "stdout",
     "output_type": "stream",
     "text": [
      "generated explanation: <pad> <extra_id_0> His therapist said he had to get out there and begin socialising, it was the only way to start what? friendships were the only way to start a friendship. Friendships were the only way to start a relationship, and friendships were the only way to start a friendship. Friendships are the only way to start a friendship, and friendships are the only way to start a relationship. Friendships are the only way to build a relationship, and friendships are the only way to start a friendship, and friendships are the only way to start a friendship.</s>\n",
      "########\n",
      "*******\n",
      "question: What is likely true about a dog that escapes regularly?\n",
      "answer: very smart\n",
      "choices: ['very smart', 'very loyal', 'tired', 'friendly', 'faithful']\n",
      "common expl list: ['Intelligent dogs (especially when concerned with food and treats) who are looking for some form of freedom will have the intelligence to escape regularly.']\n"
     ]
    },
    {
     "name": "stderr",
     "output_type": "stream",
     "text": [
      "\r",
      " 15%|████████████████████████▎                                                                                                                                          | 147/986 [48:19<7:17:25, 31.28s/it]"
     ]
    },
    {
     "name": "stdout",
     "output_type": "stream",
     "text": [
      "generated explanation: <pad> <extra_id_0> Dogs that escape regularly are likely to have a lot of behavioral issues, including behavioral issues, and behavioral issues. Dogs that escape regularly are likely to have a number of behavioral problems, such as anxiety, depression, and anxiety. Dogs that escape regularly are also more likely to have behavioral problems, such as anxiety, depression, and depression. This is because dogs that escape regularly are more likely to be able to cope with the stress and stress of being in a position to escape from their homes. Dogs that escape from a routine basis is also more likely to be more likely to be able to cope with the stress of a more likely scenario. Dogs that escape from a more likely scenario. Dogs that escape from their homes, however, and can be more likely to escape from the situation. Dogs that escape from the house, especially if they are able to handle the stress of being in a situation to be avoided. Dogs that escape from the situation without being in a situation to escape from a situation that is likely to be able to escape from the situation to escape from the situation that occurs. Dogs that are able to escape from the situation that are more likely to escape from the situation that may be more likely to escape from the situation that they may not to escape from the situation that they may not to escape from the situation that they are not to escape from the security of their home or work. Dogs that are a situation to escape from the situation that they may not to escape from the situation that they are in danger of being in danger of being in danger of being in danger of being in danger of being in danger of being in danger of being in danger of being in danger of being in danger of being in danger of being in danger of being in danger of being in danger of being in danger. Dogs that are in danger of being in danger of being in danger of being in danger of being in danger of being in danger of being in danger of being in danger of being in danger of being in danger of being in danger of being in danger of being in danger of being in danger of being in danger of being in danger of being around other threats, to be in danger of being in danger of being in danger of being in danger of being in danger of being in danger of a breaching the security of being in danger of being in danger of being in danger of being in danger of being in danger of being in\n",
      "########\n",
      "*******\n",
      "question: If you're going to a party in an alley, what is likely to happen?\n",
      "answer: doing drugs\n",
      "choices: ['call the police', 'doing drugs', 'new contacts', 'making new friends', 'plan']\n",
      "common expl list: ['People going to parties in an alley are often going to do drugs and vice.', 'People often do drugs at parties, and alleys are often used for parties.', 'Alleys are associated with crime; and, people performing illegal drugs at a party is illegal.']\n"
     ]
    },
    {
     "name": "stderr",
     "output_type": "stream",
     "text": [
      "\r",
      " 15%|████████████████████████▍                                                                                                                                          | 148/986 [48:21<5:16:08, 22.64s/it]"
     ]
    },
    {
     "name": "stdout",
     "output_type": "stream",
     "text": [
      "generated explanation: <pad> <extra_id_0> If you're going to a party in an alley, doing drugs is likely to happen. Doing drugs is likely to be a dangerous behavior. Those who do drugs are likely to be more likely to be convicted of crimes, including stealing, possessing, and possessing drugs. Those who do drugs are likely to be convicted of crimes, including possessing, possessing, and possessing drugs. This is a common event in an alley, and it's a great way to avoid the occurrence. Do drugs is also likely to be a good time to do the drugs that you're likely to be a good habit of drugs. Do drugs also have a good reason to be able to prevent the crime and other crimes.</s>\n",
      "########\n",
      "*******\n",
      "question: The man was very tired and sore, he decided to stay in bed to what?\n",
      "answer: rest more\n",
      "choices: ['rest more', 'lazy', 'were sick', 'to be sick', \"you're sick\"]\n",
      "common expl list: ['The man was tired and sore, so he decided to rest more.', 'The man was so tired and sore, he just wanted a break. His illness would keep him in bed.', \"When people are sick, they tend to rest, as it's the most sensible thing.\"]\n"
     ]
    },
    {
     "name": "stderr",
     "output_type": "stream",
     "text": [
      "\r",
      " 15%|████████████████████████▋                                                                                                                                          | 149/986 [48:40<5:02:04, 21.65s/it]"
     ]
    },
    {
     "name": "stdout",
     "output_type": "stream",
     "text": [
      "generated explanation: <pad> <extra_id_0> The man was very tired and sore, he decided to stay in bed to help him rest more. Rest is the best way to help to relieve the stress of stress, anxiety and stress associated with being tired. Rest is the most important way to get back to the basics of life. Rest is the most comfortable way to get back to the basics of life. Rest is the most important way to keep fit and healthy, as it helps to keep you feeling refreshed and refreshed. Rest is the most important way to get back to yourself and your body, as rest is the most important way to get to the end of the day. Rest is the most important way to get you and your body, as well as the body. Rest is the best way to get back to the future. Rest is the body, as rest is the best way to keep you feel refreshed and refreshed, and rest is to stay in bed. Rest is the best way to keep you feeling energized, and a healthy and active, active, and a healthy and active lifestyle for your body. Rest is the best way to stay in bed to stay active and healthy and active life. Rest is</s>\n",
      "########\n",
      "*******\n",
      "question: He was back in his hometown, he was planning on having fun and doing what?\n",
      "answer: visiting friends\n",
      "choices: ['being understood', 'hug', 'rambling', 'kiss', 'visiting friends']\n",
      "common expl list: ['If a person went back to their hometown, they might be glad to see their old friends, and visit them while they are there.', 'People usually visit their friends when they return to a town where they previously used to live, because their friends would have missed them.', 'If a person is back in their hometown, they might visit their friends, who they might not see very often.']\n"
     ]
    },
    {
     "name": "stderr",
     "output_type": "stream",
     "text": [
      "\r",
      " 15%|████████████████████████▊                                                                                                                                          | 150/986 [48:42<3:38:35, 15.69s/it]"
     ]
    },
    {
     "name": "stdout",
     "output_type": "stream",
     "text": [
      "generated explanation: <pad> <extra_id_0> He was planning on having fun and doing what he was doing, visiting friends. He was also visiting his family, which is why he was planning on spending time with his family. He was also planning on spending time with friends, which is why he was visiting friends. The trip was a great way to spend time with family, which is why he was planning on having fun and doing what he was doing. He was also planning on spending time with friends and family. This was also a great way to spend time with his family, which he was also a great way to have fun.</s>\n",
      "########\n",
      "*******\n",
      "question: Where is basketball court likely to be outdoors?\n",
      "answer: city\n",
      "choices: ['high school gymnasium', 'city', 'park', 'use', 'los angeles']\n",
      "common expl list: ['Basketball courts are often urban.', 'Basketball courts are often found in city parks.', 'Basketball courts are likely to be at parks and recreational centers in cities.', 'Most American cities have basketball courts in public parks.']\n"
     ]
    },
    {
     "name": "stderr",
     "output_type": "stream",
     "text": [
      "\r",
      " 15%|████████████████████████▉                                                                                                                                          | 151/986 [49:03<3:57:56, 17.10s/it]"
     ]
    },
    {
     "name": "stdout",
     "output_type": "stream",
     "text": [
      "generated explanation: <pad> <extra_id_0> A basketball court is a game of basketball that is likely to be outdoors, which is why it is often a great place to be for basketball enthusiasts to play. The city of Austin is a city that offers a variety of outdoor activities, including basketball, tennis, and golf. The city is also a great place to play basketball, as it offers a variety of options for sports, including basketball, volleyball, and other outdoor activities. The city of Austin is also a great place to play basketball, as it is a great place to play basketball, as it is also a great place to play sports, especially when it is a great place to play basketball, especially when it is a great place to play basketball, as it is a great place to play basketball, as it offers a great place to play basketball, as it is a great place to play basketball, and other outdoor activities for a great place to play basketball, as it offers great opportunities for outdoor recreation, as it is a great place to play sports, as it is a great place to play, as it is a place to play sports, as it is a city.<extra_id_1> </s>\n",
      "########\n",
      "*******\n",
      "question: When you want to get the skin off of an apple, you do what to it?\n",
      "answer: peel\n",
      "choices: ['seeds inside', 'stems', 'peel', 'grocery store', 'green market']\n",
      "common expl list: ['Apples have a skin that can be peeled off.', 'Skin is something you peel from fruits like apples, peaches, oranges, kiwi, etc...']\n"
     ]
    },
    {
     "name": "stderr",
     "output_type": "stream",
     "text": [
      "\r",
      " 15%|█████████████████████████▏                                                                                                                                         | 152/986 [49:47<5:52:59, 25.39s/it]"
     ]
    },
    {
     "name": "stdout",
     "output_type": "stream",
     "text": [
      "generated explanation: <pad> <extra_id_0> When you want to get the skin off of an apple, you do it by peeling it. Peeling an apple is a simple way to remove the skin from the skin. Peeling an apple is a simple way to remove the skin from the skin. Peeling an apple is a simple way to get the skin off of an apple. Peeling an apple is a quick and easy way to get rid of the skin from the skin. Peeling an apple is a great way to remove the skin from the skin. It also allows you to get rid of the peel peeling process. Peeling an apple can be removing the skin from the skin. Peeling apples are a way to remove the skin from the skin from the skin. Peeling an apple is a way to remove the skin. Peeling apples are a way to remove the peeling skin. Peeling an apple is a quick and easy way to remove the skin. Peeling apples are a great way to remove the skin from the skin. Peeling apples are a way to remove the peeling process. Peeling apples are a way to remove the peel from the peel. Peeling apples are a way to remove the skin. Peeling apples are a way to remove the peel. Peeling apples are a way to remove the skin. Peeling apples are removing the skin. Peeling apples are removing the peeling process of peeling process of peeling the peeling process of peeling the peeling process of peeling process of peeling process of peeling process of peeling process of peeling process of peeling<extra_id_1> peeling process of peeling process of peeling process of peeling process of peeling the peeling process of peeling process of peeling apple skin.</s>\n",
      "########\n",
      "*******\n",
      "question: Where could you put some knives if you are planning to bring them outside with you?\n",
      "answer: backpack\n",
      "choices: ['purse', 'backpack', 'drawer', 'sporting goods store', 'kitchen']\n",
      "common expl list: [\"To carry knives on one's person, you need some small type of container to hold the knives. Perhaps the most likely place to carry a small container is a backpack.\", \"Knives are usually brought along if hiking, camping, fishing, or other outings, and backpacks make it easy to transport one's belongings.\"]\n"
     ]
    },
    {
     "name": "stderr",
     "output_type": "stream",
     "text": [
      "\r",
      " 16%|█████████████████████████▎                                                                                                                                         | 153/986 [49:53<4:28:55, 19.37s/it]"
     ]
    },
    {
     "name": "stdout",
     "output_type": "stream",
     "text": [
      "generated explanation: <pad> <extra_id_0> A backpack is a great place to put knives if you plan to bring them outside. A backpack is a great place to put knives in a backpack as they are easily accessible and easy to carry. It is also a great place to put knives in a bag as it is a great place to store them. It is also a great place to store them in a backpack as they are lightweight and easy to carry around. It also allows you to store them in a bag and keep them handy for emergencies. A backpack is a great place to store knives when you are traveling. It is also a great place to store knives when you are traveling. It is also a great place to store knives and knives. It is also a great place to store knives when you are traveling. It is also a great place to store knives when you are traveling with you when you are traveling.</s>\n",
      "########\n",
      "*******\n",
      "question: John watches the well dressed people from a catwalk above the stage.  He listens to them speak rehearsed lines while the audience listens.  Where is he/\n",
      "answer: theatre\n",
      "choices: ['theatre', 'new york city', 'fashion show', 'construction site', 'school play']\n",
      "common expl list: ['Theatres have catwalks where people might observe and listen to actors.']\n"
     ]
    },
    {
     "name": "stderr",
     "output_type": "stream",
     "text": [
      "\r",
      " 16%|█████████████████████████▍                                                                                                                                         | 154/986 [49:54<3:15:23, 14.09s/it]"
     ]
    },
    {
     "name": "stdout",
     "output_type": "stream",
     "text": [
      "generated explanation: <pad> <extra_id_0> John watches the well dressed people from a catwalk above the stage. Theatre is a form of entertainment where the audience is invited to listen to the actors and performers. The audience is invited to listen to the music and dance to the lines. The audience is invited to listen to the music and perform with them. The audience is invited to listen to the music and to hear the actors speak. The audience is then given the opportunity to hear the actors perform their lines and songs. The audience is also invited to listen to the music and to hear the actors. The audience is then given a chance to hear the audience.</s>\n",
      "########\n",
      "*******\n",
      "question: If I am creating art and have completed it to satisfaction, what is my feeling?\n",
      "answer: enlightenment\n",
      "choices: ['enlightenment', 'tired', 'frustration', 'relax', 'controversy']\n",
      "common expl list: ['Enlightenment is the label for a moment of clarity, and the word is often applied to artists who have created something unique or daring.']\n"
     ]
    },
    {
     "name": "stderr",
     "output_type": "stream",
     "text": [
      "\r",
      " 16%|█████████████████████████▌                                                                                                                                         | 155/986 [50:06<3:06:28, 13.46s/it]"
     ]
    },
    {
     "name": "stdout",
     "output_type": "stream",
     "text": [
      "generated explanation: <pad> <extra_id_0> I am creating art to satisfy my feelings. I am enlightened by the experience of enlightenment, a feeling that comes from enlightenment. Enlightenment is a feeling of enlightenment, a feeling of being able to express a feeling of satisfaction. Enlightenment is a feeling that comes from within, and is a feeling of being. Enlightenment is a feeling of enlightenment, a feeling that is fueled by the feeling of enlightenment, and that I am able to express a feeling of happiness. Enlightenment is a feeling that can bring me to be able to be able to express a sense of being, being able to express a sense of enlightenment, happiness, and enlightenment, and enlightenment, a feeling that is a feeling that is a sense of </s>\n",
      "########\n",
      "*******\n",
      "question: He was serious and pragmatic, so why did he drive his car?\n",
      "answer: transportation\n",
      "choices: ['transportation', 'car crash', 'death', 'sleepy', 'stress']\n",
      "common expl list: ['People often drive cars to get from one place to another.', 'Because driving is the most practical mode of transportation judging by the time and distance required to do so.']\n"
     ]
    },
    {
     "name": "stderr",
     "output_type": "stream",
     "text": [
      "\r",
      " 16%|█████████████████████████▊                                                                                                                                         | 156/986 [50:09<2:19:34, 10.09s/it]"
     ]
    },
    {
     "name": "stdout",
     "output_type": "stream",
     "text": [
      "generated explanation: <pad> <extra_id_0> He was serious and pragmatic, so why did he drive his car? It was for transportation. It was to provide him with a sense of security, and it was also to provide him with a sense of security. He was also concerned about the safety of his car, which was essential for him to get around town. It was also a means of transportation for him to work, and to get around the city. It was also a means of transportation for him to get around. It was a means of transportation for him to get around and around town. It was also a way to get around town. It was also a way to get around town with his family and friends, and it was important to have a sense of security.</s>\n",
      "########\n",
      "*******\n",
      "question: What does god want people to do for money?\n",
      "answer: work in life\n",
      "choices: ['work in life', 'speak to people', 'everywhere', 'sitting ideal', 'care for people']\n",
      "common expl list: ['The scriptures explain that people should acquire money by providing good products or services, e.g., to bring value to other people and make a living.']\n"
     ]
    },
    {
     "name": "stderr",
     "output_type": "stream",
     "text": [
      "\r",
      " 16%|█████████████████████████▉                                                                                                                                         | 157/986 [50:11<1:47:08,  7.75s/it]"
     ]
    },
    {
     "name": "stdout",
     "output_type": "stream",
     "text": [
      "generated explanation: <pad> <extra_id_0> Working in life is a way of earning money. It is a way for god to provide for his people by providing them with a stable of income. It is a way to earn money by providing them with a stable environment, which allows them to work in the world. It is a way to earn money by providing them with a stable of income, which allows them to earn money while also providing for others to enjoy life. It is also a way to earn money, which allows god to provide for the needs of people. This is why, god's offerings are a way for god to earn money. Money also helps people to earn money by donating to a way to earn money by providing them with a way to earn money.<extra_id_1> </s>\n",
      "########\n",
      "*******\n",
      "question: What can happen after doing housework that does not involve pain?\n",
      "answer: become tired\n",
      "choices: ['become tired', 'stress', 'put on shoes', 'backache', 'low pay']\n",
      "common expl list: ['Raking, sweeping, and dusting are common forms of housework. After all the physical labor of these activities, someone \\xa0might become tired and take time off from housework chores, but not have een doing any housework tasks that', 'Housework can be tiring, and so, after doing it, one might become tired.', 'Doing housework is likely to tire someone out. Being tired increases the likelihood of restlessness and uneasiness.']\n"
     ]
    },
    {
     "name": "stderr",
     "output_type": "stream",
     "text": [
      "\r",
      " 16%|██████████████████████████                                                                                                                                         | 158/986 [50:12<1:21:14,  5.89s/it]"
     ]
    },
    {
     "name": "stdout",
     "output_type": "stream",
     "text": [
      "generated explanation: <pad> <extra_id_0> Often, people who do housework that does not involve pain feel tired. This is because it is a painless activity, and it is not a pain-free activity, so it is not a pain-free activity. It is a great way to avoid pain, as it does not involve any pain, and it is a great way to avoid pain. It also helps to avoid stress, as it helps to avoid stress, anxiety, and other unpleasant situations. It also helps to relieve stress, anxiety, and stress, and stress.</s>\n",
      "########\n",
      "*******\n",
      "question: James sat in a chair and listened to the speaker.  Where might James be?\n",
      "answer: auditorium\n",
      "choices: ['synagogue', 'grocery store', 'auditorium', 'confession', 'office']\n",
      "common expl list: ['James was likely in an auditorium, because he was listening to a speaker.']\n"
     ]
    },
    {
     "name": "stderr",
     "output_type": "stream",
     "text": [
      "\r",
      " 16%|██████████████████████████▎                                                                                                                                        | 159/986 [50:14<1:04:36,  4.69s/it]"
     ]
    },
    {
     "name": "stdout",
     "output_type": "stream",
     "text": [
      "generated explanation: <pad> <extra_id_0> James sat in a chair and listened to the speaker. The speaker was seated in a chair and James sat in a chair. James sat in a chair and listened to the speaker. The speaker asked James to sit down and listen to the speaker. James then sat in a chair and listened to the speaker. The speaker asked James to sit in a chair and listen to James. James then sat in a chair and listened to James speak. James then sat in a chair and listened to James. The speaker was then listened to James. James s</s>\n",
      "########\n",
      "*******\n",
      "question: John thought that Mary was beautiful despite her injury.  But Mary believed that she was what?\n",
      "answer: misshapen\n",
      "choices: ['wrong', 'overcast', 'homely', 'bad', 'misshapen']\n",
      "common expl list: [\"If Mary believes she doesn't look normal, but someone else thinks she is beautiful, perhaps she could feel like her form is misshapen.\"]\n"
     ]
    },
    {
     "name": "stderr",
     "output_type": "stream",
     "text": [
      "\r",
      " 16%|██████████████████████████▊                                                                                                                                          | 160/986 [50:16<51:31,  3.74s/it]"
     ]
    },
    {
     "name": "stdout",
     "output_type": "stream",
     "text": [
      "generated explanation: <pad> <extra_id_0> Mary was beautiful despite her injury. Mary was also a misshapen because she was unable to walk properly and was unable to walk. She was also unable to walk properly and was often unable to walk properly. She was unable to walk properly and was unable to walk properly. She was also unable to walk properly and was unable to walk properly. Mary was also unable to walk properly and had to wear a protective clothing. She was also unable to walk properly and had to be careful with her injuries.</s>\n",
      "########\n",
      "*******\n",
      "question: Where does my body go after I am no longer living?\n",
      "answer: graveyard\n",
      "choices: ['zombie', 'bodycam', 'coffin', 'graveyard', 'funeral']\n",
      "common expl list: ['When a person dies, it is common to bury their bodies in locations called graveyards.', 'Corpses are buried in graveyards.', 'When one dies, their body is buried in a graveyard.']\n"
     ]
    },
    {
     "name": "stderr",
     "output_type": "stream",
     "text": [
      "\r",
      " 16%|██████████████████████████▌                                                                                                                                        | 161/986 [50:29<1:29:24,  6.50s/it]"
     ]
    },
    {
     "name": "stdout",
     "output_type": "stream",
     "text": [
      "generated explanation: <pad> <extra_id_0> My body goes after I am no longer living. Gravyards are places where bodies go after I am no longer living. They are places where bodies go after I am no longer living. Gravyards are places where bodies can go after I am no longer living. They are places where bodies can be found and where bodies go after I am no longer living. Gravyards are places where bodies can be found, where bodies can be found, and where is the body found? Gravyards are places where bodies can be found when they are no longer living. Gravyards are places where bodies can go after burial. Gravyards can be found after burial, where bodies can be found where bodies can be found in graveyards where bodies can be found when they are no longer living. Gravyards are places where bodies can be found when they are no longer living. graveyards are places where bodies can be found when they are no longer living. The graveyards are places where bodies can be found when they are no longer living.<extra_id_1> </s>\n",
      "########\n",
      "*******\n",
      "question: Where can you find a bar before traveling a long distance?\n",
      "answer: airport\n",
      "choices: ['las vegas', 'public house', 'airport', 'restaurant', 'michigan']\n",
      "common expl list: ['Bars are often located in airports, and so if a person was traveling a long distance, they might stop at an airport bar.']\n"
     ]
    },
    {
     "name": "stderr",
     "output_type": "stream",
     "text": [
      "\r",
      " 16%|██████████████████████████▊                                                                                                                                        | 162/986 [50:31<1:09:42,  5.08s/it]"
     ]
    },
    {
     "name": "stdout",
     "output_type": "stream",
     "text": [
      "generated explanation: <pad> <extra_id_0> Before traveling long distances, you should always check into an airport before traveling. A bar is usually located in an airport terminal. It is usually located in the terminal of the airport terminal and is usually located in the terminal. It is usually located in the terminal of the airport, which is a short distance from the airport. A bar is usually located in the terminal, which is where you will find the bar. A bar is usually located in the terminal terminal, which means that the bar is open all day, which means that you can enjoy a long time you will be able to catch a drink.<extra_id_1> </s>\n",
      "########\n",
      "*******\n",
      "question: Where might a small ball be bounced from?\n",
      "answer: child's hand\n",
      "choices: ['soccer game', 'street', 'toy store', \"child's hand\", 'on the sidewalk']\n",
      "common expl list: ['Since children enjoy bouncing balls, and they are also relatively small, they would bounce a ball from their hand.', 'A ball much like a toy, and kids often play with them on the streets and sidewalks.']\n"
     ]
    },
    {
     "name": "stderr",
     "output_type": "stream",
     "text": [
      "\r",
      " 17%|██████████████████████████▉                                                                                                                                        | 163/986 [51:51<6:20:18, 27.73s/it]"
     ]
    },
    {
     "name": "stdout",
     "output_type": "stream",
     "text": [
      "generated explanation: <pad> <extra_id_0> A ball is a small ball that is placed in the child's hand. It is placed in the hand of a child and is placed in the hand of the child. The hand is usually small enough to be bounced from. The hand is usually shaped like a ball, so it is easy to hold and move around. It is also often shaped like a ball, so it can be placed in the hand and bounced around the hand. It is also a great place for children to play with a ball, which is also a great place for a small enough to bounce around the hand. A small ball can be bounced around the hand of a child's hand, which is a small enough to bounced around the hand and bounced around the hand. A small ball can be bounced around the hand and bounced around the hand. A small ball can be bounced around the hand and can be bounced around the hand and can bounced around the hand. A small ball can be bounced around the hand and can be bounced around the hand. A small ball can be bounced around the hand, which can be bounced around the hand and can be bounced around the hand, which can be bounced around the hand and can be bounced around the hand, so it can be bounced around the hand, so it can be bounced around the hand, so it can be bounced around the hand, so it can be bounced around the hand, so it can be bounced around the hand, so it can be bounced around the ball in a small ball in a small ball in a small ball in a small ball in a small ball in a small ball in a small ball in a small ball in a small ball in a larger ball in a smaller ball in a smaller ball in a larger ball in a larger ball in a larger ball in a larger ball in a larger ball in a smaller ball in a larger ball in a larger ball in a larger ball in a larger ball in a ball in a small ball in a larger ball in a ball in a larger ball in a ball in a small ball in a smaller ball in the hand in a larger ball in a larger ball in a larger ball in the hand in the ball in the hand in a\n",
      "########\n",
      "*******\n",
      "question: Where do families begin?\n",
      "answer: wedding\n",
      "choices: ['wedding', 'around dinner table', 'supermarket', 'dinner together', 'park']\n",
      "common expl list: ['A wedding is a ceremony in which two people get married, and thus a wedding is where a family begins.']\n"
     ]
    },
    {
     "name": "stderr",
     "output_type": "stream",
     "text": [
      "\r",
      " 17%|███████████████████████████                                                                                                                                        | 164/986 [52:15<6:04:14, 26.59s/it]"
     ]
    },
    {
     "name": "stdout",
     "output_type": "stream",
     "text": [
      "generated explanation: <pad> <extra_id_0> Weddings are a great way to build a sense of community and pride in the lives of the couple. Weddings are also a great way to build a sense of pride and connection with the world. Weddings are also a great way to celebrate the love of the couple and celebrate the celebration of the wedding day. Weddings are also a great way to celebrate the special day of the couple and celebrate the special day of the wedding. Weddings are also a great way to start the day with a sense of community and make a sense of the wedding to a wedding. Weddings are a great way to build a sense of belonging to the couple and to make a sense of belonging to the couple. Weddings are also a great way to make a lasting impression of the wedding day and to make a lasting impression on the wedding day as a meaningful way to celebrate the special day. Weddings are a great way to celebrate the special moment as a meaningful way to make a special way to celebrate a special moment to celebrate a special moment to remember that a special moment to celebrate the special moment to remember a special moment to remember that a special moment to remember that a wedding.<extra_id_1> </s>\n",
      "########\n",
      "*******\n",
      "question: He enjoyed reading newspaper, he consider what a subscription?\n",
      "answer: buying\n",
      "choices: ['gifting', 'buying', 'money', 'literacy', 'knowing how to read']\n",
      "common expl list: ['Buying a subscription to a newspaper is a way to get the newspaper delivered to your home.']\n"
     ]
    },
    {
     "name": "stderr",
     "output_type": "stream",
     "text": [
      "\r",
      " 17%|███████████████████████████▎                                                                                                                                       | 165/986 [52:17<4:22:40, 19.20s/it]"
     ]
    },
    {
     "name": "stdout",
     "output_type": "stream",
     "text": [
      "generated explanation: <pad> <extra_id_0> He enjoyed reading newspaper, he consider a subscription to a newspaper. He also consider a subscription to a magazine. He also considers buying a subscription to a magazine. This is a form of entertainment that he enjoys reading. He enjoys reading about the latest issues of the New York Times, and he enjoys reading about the latest news. He also considers buying a magazine. He also enjoys buying a magazine subscription. He also enjoys reading magazines, and loves to read about the latest news. He also enjoys reading the newspaper, and he likes to read the latest cover of the magazine. He also enjoy reading</s>\n",
      "########\n",
      "*******\n",
      "question: What does an animal do when it becomes old?\n",
      "answer: feel pain\n",
      "choices: ['live long', 'leave home', 'feel pain', 'eating', 'sense fear in human']\n",
      "common expl list: ['Ageing animals may have chronic pain as part of the body losing function as it ages.']\n"
     ]
    },
    {
     "name": "stderr",
     "output_type": "stream",
     "text": [
      "\r",
      " 17%|███████████████████████████▍                                                                                                                                       | 166/986 [52:29<3:53:38, 17.10s/it]"
     ]
    },
    {
     "name": "stdout",
     "output_type": "stream",
     "text": [
      "generated explanation: <pad> <extra_id_0> An animal will feel pain when it becomes old. Pain is a physical sensation that can be felt by animals, such as hands, feet, and joints. Pain is a natural response that can be experienced by any animal, including those with a disability. Pain is often caused by stress, fatigue, or other physical changes, such as a lack of oxygen, which can be exacerbated by stress, illness, or other conditions. Pain can also be caused by stress, stress, or illness, which can lead to a loss of function. Pain can also be felt by animals who are also a loss of function. Pain can be a natural response to pain, and can be a good way to help animals to feel pain. Pain is a good way to help animals to feel better, which can be a way to help animals to be able to help animals to be able to be able to help animals to be able to be able to help them to be able to help them to be able to able to help them to be able to exercise and to be able to exercise. It can be able to help animals to exercise.<extra_id_1> </s>\n",
      "########\n",
      "*******\n",
      "question: What entity would have a fire extinguisher in their boardroom?\n",
      "answer: most businesses\n",
      "choices: ['boat', 'apartment', 'public building', 'most businesses', 'chemistry lab']\n",
      "common expl list: ['Most businesses would have a fire extinguisher in their boardroom, because they are likely to have a fire in their boardroom.']\n"
     ]
    },
    {
     "name": "stderr",
     "output_type": "stream",
     "text": [
      "\r",
      " 17%|███████████████████████████▌                                                                                                                                       | 167/986 [52:31<2:50:40, 12.50s/it]"
     ]
    },
    {
     "name": "stdout",
     "output_type": "stream",
     "text": [
      "generated explanation: <pad> <extra_id_0> Businesses would have a fire extinguisher in their boardroom. Businesses would have to install a fire extinguisher in their boardroom to prevent fires. Businesses would also have a fire extinguisher in their boardroom to prevent fires. Businesses would also have a fire extinguisher in their boardrooms. Businesses would also have a fire extinguisher in their boardrooms to prevent fires. Fire extinguishers are used to keep fires out and preventing fires in their boardrooms from a fire.</s>\n",
      "########\n",
      "*******\n",
      "question: Where can someone go and buy cheese?\n",
      "answer: market\n",
      "choices: ['pizza', 'bar', 'fridge', 'market', 'refrigerator']\n",
      "common expl list: ['Cheese is sold at markets.', 'Cheese is a dairy product and can be purchased at markets, for the most part.']\n"
     ]
    },
    {
     "name": "stderr",
     "output_type": "stream",
     "text": [
      "\r",
      " 17%|███████████████████████████▊                                                                                                                                       | 168/986 [52:38<2:26:15, 10.73s/it]"
     ]
    },
    {
     "name": "stdout",
     "output_type": "stream",
     "text": [
      "generated explanation: <pad> <extra_id_0> The cheese market is a place to buy cheese, and it is a place to buy it from a variety of different sources, including the market itself. Markets are places to buy cheese, which are often located in the middle of the country. Markets are also known as the places where people can buy cheese from the cheese market. Markets are also places where people can buy cheese from a variety of different sources, such as cheese shops, which are often open to the public. Markets are also places to buy cheese, which are also known as the place to buy cheese from a place to buy cheese from the cheese market. Markets are the place to buy cheese from the cheese they are available in the market. Markets are places to buy cheese from the cheese that is popular for the product that is most popular among the most popular among the most popular places to buy cheese. Markets are places to purchase cheese, as well as the product is often the market.</s>\n",
      "########\n",
      "*******\n",
      "question: Where would you carry food while on a long walk in the countryside?\n",
      "answer: backpack\n",
      "choices: ['backpack', 'table', 'jar', 'box', 'container']\n",
      "common expl list: ['Instead of carrying a jar or container, filling your backpack with food might not disrupt your movements as much when you are walking.', \"Because backpacks are designed to be carried on one's back, they are the most convenient way to carry food while on a long walk.\"]\n"
     ]
    },
    {
     "name": "stderr",
     "output_type": "stream",
     "text": [
      "\r",
      " 17%|███████████████████████████▉                                                                                                                                       | 169/986 [52:39<1:48:48,  7.99s/it]"
     ]
    },
    {
     "name": "stdout",
     "output_type": "stream",
     "text": [
      "generated explanation: <pad> <extra_id_0> A backpack is a great way to carry food while on a long walk in the countryside. It is a great way to carry food while on a long walk in the countryside. It is a great way to carry food while on a long walk in the countryside. It is also a great way to carry food along with you on your way to the airport or other locations. The best way to carry food is by carrying a backpack. It is also a great way to carry your food while on a walk in the countryside.<extra_id_1> </s>\n",
      "########\n",
      "*******\n",
      "question: What could a driver do that could distract him or her while he or she is in a driving car?\n",
      "answer: smoke\n",
      "choices: ['use mobile phone', 'car crash', 'smoke', 'backache', 'automobile accidents']\n",
      "common expl list: ['Smoking is a common activity that people do while driving, and it could distract them from driving.', 'It can be tricky to smoke and concentrate on driving at the same time, and research has found that smoking in a car with children present is very dangerous.']\n"
     ]
    },
    {
     "name": "stderr",
     "output_type": "stream",
     "text": [
      "\r",
      " 17%|████████████████████████████                                                                                                                                       | 170/986 [53:39<5:19:18, 23.48s/it]"
     ]
    },
    {
     "name": "stdout",
     "output_type": "stream",
     "text": [
      "generated explanation: <pad> <extra_id_0> Smoke is a powerful distraction that can distract a driver while he or she is in a driving car. Smoke can be a powerful distraction that a driver can take advantage of while in a driving car. Smoke can also be a distraction from driving, such as driving, driving, or driving. Smoke is a powerful distraction that can help a driver distract while in a driving car. Smoke can also help to distract drivers from other distractions, such as texting, texting, and other distractions. Smoke can also help a driver from other distractions, such as texting, driving, or driving, or even texting, which can help to distract drivers. Smoke can help to distract drivers from their minds, which can help them to distract drivers from their own thoughts, and can help to distract them from other distractions, such as texting, and can also help to distract drivers from other distractions. Smoke can help to distract drivers from other distractions. Smoke can help to distract drivers from the driver's attention, which can help to distract them from the driver's attention, and help to distract them from the driver's attention, and help to distract the driver's focus, which can help to distract them from the driver's focus, which can help to distract the driver's focus, which can help to distract the driver from the driver's focus, and help to distract the driver's focus, especially while driving. Smoke can help to distract the driver's focus, which helps to distract the driver's focus from the driver's focus, while also help to distract them from distraction from the driver's focus, especially when they are in a distractions. Ultimately, a distractions from the driver's focus. Smoke can help to distract them from the driver from distractions. Smoke can help to distract them from the driver's focus, which is a distractions. Smoke can help to distract them from the driver's focus, which is a driver from the driver's attention, which is a distractions. Smoke can help to distract the driver's focus, which is a distractions.</s>\n",
      "########\n",
      "*******\n",
      "question: The fat man wanted to make a change in his life and make sure it stayed what?\n",
      "answer: permanent\n",
      "choices: ['concretely', 'permanent', 'remain stable', 'stagnant', 'constant']\n",
      "common expl list: ['In changing his life, he wants to make sure he remains in the new lifestyle choices, e.g., not become stagnant to bad choices and fall back into bad choices.', 'His making a decision to change and ensuring the decision is made permanent indicates a desire for a stable, permanent life, which does not change.']\n"
     ]
    },
    {
     "name": "stderr",
     "output_type": "stream",
     "text": [
      "\r",
      " 17%|████████████████████████████▎                                                                                                                                      | 171/986 [53:40<3:50:01, 16.93s/it]"
     ]
    },
    {
     "name": "stdout",
     "output_type": "stream",
     "text": [
      "generated explanation: <pad> <extra_id_0> The fat man wanted to make sure it stayed what it was. The fat man wanted to make sure it stayed that way. This is because he was constantly looking for a change in his life and wanted to make sure it stayed that way. This is because he was constantly looking for a change in his life and wanted to make sure it stayed that way. This change is permanent and is important to him because he is able to keep it in his mind. This change in his life is important because it is a permanent change in his life.</s>\n",
      "########\n",
      "*******\n",
      "question: where did many colonial kingdoms originate?\n",
      "answer: europe\n",
      "choices: ['saudi arabia', 'europe', 'united states', 'book', 'monarchy']\n",
      "common expl list: ['Many colonial kingdoms in the past can be traced all the way back to their roots in Europe.', 'Colonies and kingdoms often originate in the mother countries of the colonial or kingdom builders, e.g., entities in the United Kingdom and the Netherlands.']\n"
     ]
    },
    {
     "name": "stderr",
     "output_type": "stream",
     "text": [
      "\r",
      " 17%|████████████████████████████▍                                                                                                                                      | 172/986 [54:27<5:50:29, 25.84s/it]"
     ]
    },
    {
     "name": "stdout",
     "output_type": "stream",
     "text": [
      "generated explanation: <pad> <extra_id_0> Europe is the home of many colonial kingdoms. Europe is located in the westernmost part of the world, and is the center of europe. Europe is the home of the kings of Europe, the monarchs of the empires, and the monarchs of the nations. Europe is also the home of many of the earliest civilizations, including the earliest empires, and the oldest civilizations, like the kings of the empires, the kings, and the kings of the empires. Europe is the center of the empires of the empires of the empires, and the empires of the empires of the empires. It is the capital of the empires of the empires of the empires of the empires of the empires of the empires of the empires of the empires of the empires of the empires of the empires of the empires of the empires of the empires of the empires of the empires of the empires of the empires of the empires of the empires of the empires of the empires of the empires of the empires of the empires of the empires of the european states. The empires. Europe. Europe. Europe. Europe. Europe. Europe. Europe. Europe. Europe. Europe. Europe. Europe. Europe. Europe. Europe. Europe. Europe. Europe. Europe. Europe. Europe. Europe is the world. Europe is the world. Europe is the world. Europe is the world. Europe is the world. Europe. europe. Europe is the world. europe is the world. Europe is the world. Europe is the world. Europe is the world. Europe is the world. Europe is the world. europe is the world.<extra_id_1> </s>\n",
      "########\n",
      "*******\n",
      "question: Where can a television be stored and hidden?\n",
      "answer: cabinet\n",
      "choices: ['apartment', 'living room', 'bedroom', 'kitchen', 'cabinet']\n",
      "common expl list: ['A cabinet is a piece of furniture that is used to store items, and televisions are large, and thus, can be stored in cabinets.', 'A television can be stored inside a cabinet.']\n"
     ]
    },
    {
     "name": "stderr",
     "output_type": "stream",
     "text": [
      "\r",
      " 18%|████████████████████████████▌                                                                                                                                      | 173/986 [54:48<5:28:55, 24.27s/it]"
     ]
    },
    {
     "name": "stdout",
     "output_type": "stream",
     "text": [
      "generated explanation: <pad> <extra_id_0> A television is a portable device that can be stored and hidden in a cabinet. The cabinet is usually located in a kitchen and is usually not visible from the outside. This is because the television is often hidden from view from the outside. The cabinet is usually located in a cabinet, which is where the television is stored and hidden. The cabinet is also known as a television cabinet, which is where the television is stored. The cabinet is also known as a cabinet, which is where the television is stored and hidden. The cabinet is also known as cabinet storage. This is because the television is a cabinet storage is usually located in a cabinet storage device, which means that the television is hidden from view from the outside, so the television is also known as a cabinet storage device. This means that the television can be stored and hidden. This cabinet is a cabinet storage device is also known as a cabinet storage device. This allows the television is a cabinet is located in the cabinet and is a cabinet storage device. This allows the television is located in the cabinet storage device, which allows the television is stored and hidden in the cabinet as the television is hidden in the cabinet is the cabinet storage device.<extra_id_1> </s>\n",
      "########\n",
      "*******\n",
      "question: what can get a prisoner in more trouble?\n",
      "answer: attempt to escape\n",
      "choices: ['dream of freedom', 'attempt to escape', 'do time', 'fast for days', 'scape jail']\n",
      "common expl list: ['Prisoners serve time, and when a prisoner attempts to escape, they generally serve extra time.']\n"
     ]
    },
    {
     "name": "stderr",
     "output_type": "stream",
     "text": [
      "\r",
      " 18%|████████████████████████████▊                                                                                                                                      | 174/986 [55:00<4:38:03, 20.55s/it]"
     ]
    },
    {
     "name": "stdout",
     "output_type": "stream",
     "text": [
      "generated explanation: <pad> <extra_id_0> An attempt to escape is a way to escape from the prison system. Escape is a means to escape from the prison system. This means escaping the prison and getting back to the prison. Escape is a way to escape from the prison system. Escape is a way to escape from the prison and get back to the prison. Escape is a way to escape from the prison system and get out of the prison. Escape is a way to escape from the prison and get out of trouble. Escape is a way to escape from the prisoner in the end. Escape is a way to escape from the prisoner in the prisoner in the prison for escaping from the prisoner. Attempt to escape is a way to escape from prison. Escape from prison. Escape is a way to escape from prison in the prisoner in the future in the future. Escape is a way to escape from prison. Escape from prison. Escape is a way to escape from prison. Attempt to escape from prison. Attempt to escape from prison. Escape is a way to escape from prison.</s>\n",
      "########\n",
      "*******\n",
      "question: The crab was separated from his compatriots out in the sea, where was he likely to be?\n",
      "answer: tide pool\n",
      "choices: ['fish market', 'cooking pot', 'tide pool', 'beach sand', 'farm']\n",
      "common expl list: ['Tide pools are regions of shallow, pooled water that are very exposed to air, making them appealing to crabs that have to breathe.']\n"
     ]
    },
    {
     "name": "stderr",
     "output_type": "stream",
     "text": [
      "\r",
      " 18%|████████████████████████████▉                                                                                                                                      | 175/986 [56:09<7:55:22, 35.17s/it]"
     ]
    },
    {
     "name": "stdout",
     "output_type": "stream",
     "text": [
      "generated explanation: <pad> <extra_id_0> The crab was separated from his compatriots out in the sea, where was he likely to be? The sea is a shallow, rocky, shallow, and rocky environment, which is a natural habitat for crabs and other marine creatures. The tide pools are a natural habitat for crabs and other marine life, such as crabs, fish, and other creatures. The tide pools are often filled with sediment, which is a natural environment for crabs and other marine life. The crab is likely to be separated from his compatriots out in the sea. The tide pools are a natural habitat for crabs. The crab crabs and other marine life. The tide pools are often used as a natural habitat for crabs and other marine life. The tide pools are often used to provide a place for the crab to rest and provide a safe environment for the crabs and other creatures to live and a safe environment for the crabs and creatures that live in the sea. The crabs and creatures to a safe environment for them to eat and drink and catch and catch and are often used to eat and eat and can be found in the sea. The crabs to eat the crabs and fish that may also provide a place for the crabs to eat and are often a place to place to do their daily activities and activities that are often found when they are likely to be when they are likely to be used to hunting and fishing. The crabs to be able to be able to eat and are often used to be used to eat and are often used to eat and are often used to be used as a place to eat and fish that are used to eat and are used to be used to use as a place to fish that are likely to be used to eat and are often used to be used to be used as a place to be used by the crabs to be used to survive. The crabs to be used to catch and eat the crabs to be used to be used to eat. The crabs to be used as a place to be used as a place to eat and to swim. The crabs to serve as a place to eat the crabs to fish and to fish and to fish and to eat. The crabs to fish and to fish and seafood. The crabs to catch and release the crab\n",
      "########\n",
      "*******\n",
      "question: What item is smelted out of minerals on the country side?\n",
      "answer: metal\n",
      "choices: ['urban city', 'france', 'metal', 'grass', 'state']\n",
      "common expl list: ['Metals are extracted from mineral mines out in the country side.', 'Products made by smelters tend to be made out of metals, and mining occurs at the country side.']\n"
     ]
    },
    {
     "name": "stderr",
     "output_type": "stream",
     "text": [
      "\r",
      " 18%|█████████████████████████████                                                                                                                                      | 176/986 [57:06<9:23:18, 41.73s/it]"
     ]
    },
    {
     "name": "stdout",
     "output_type": "stream",
     "text": [
      "generated explanation: <pad> <extra_id_0> Metal is melted out of minerals on the country side. This melting process is known as smelted from the earth’s surface. Metals are melted out of the earth’s surface, which is what makes metals so valuable. Metals are also known as ores, which are used to make products, which are able to withstand the heat and heat of the sun. Metals are also known as ores, which are able to absorb the heat and minerals from the earth’s surface. Metals are also known as smelted out of minerals in the earth. Metals are smelted out of metals, which makes them a valuable part of the earth’s atmosphere, which makes them a great source of minerals, which makes them valuable for the environment. Metals, which makes them a valuable component of the world. Metals, such as copper, copper, copper, lead, zinc, lead and other metals, and thus, to make them a valuable component of the earth’s atmosphere, making them a valuable component, which make them a valuable source of valuable resources, making them a valuable source of energy, making them a valuable part of the metals, making them a valuable source of carbon, making them a valuable resource for the earth’s resources, and thus making them a valuable resource. Metals, which makes them a valuable resource. Metals, which can be used to make a valuable resource. Metals, which makes them a valuable resource that can be used to make a valuable resource that can be used to make a valuable resource that can be used to make a valuable resource that can be used in the country. Metals, minerals, and metals. Metals. Metals. Metals, making them a valuable resource that can be used to make a valuable resource. Metals. Metals, which can be used to make a valuable resource to the earth. Metals, which can be used to make a valuable resource for the earth. Metals that can be used for the country side. Metals that can be used to make a valuable resource for the country. Metals, which can be used to make a valuable resource. Metals, which can be used to make a valuable resource. Metals that can be used to make a valuable resource. Metals that can be used to make a\n",
      "########\n",
      "*******\n",
      "question: Where is a good place to store a saw?\n",
      "answer: toolbox\n",
      "choices: ['hardware store', 'tool shed', 'storage', 'tool kit', 'toolbox']\n",
      "common expl list: ['One might likely store a saw in a box with other tools.', 'A toolbox is a container for tools, and a saw is a tool.']\n"
     ]
    },
    {
     "name": "stderr",
     "output_type": "stream",
     "text": [
      "\r",
      " 18%|█████████████████████████████                                                                                                                                     | 177/986 [57:58<10:06:19, 44.97s/it]"
     ]
    },
    {
     "name": "stdout",
     "output_type": "stream",
     "text": [
      "generated explanation: <pad> <extra_id_0> A toolbox is a good place to store a saw. Toolboxes are a great place to store a saw. Toolboxes are often used to store tools, tools, and other tools. Toolboxes are often used to store tools and tools, as they are often used to store tools and tools. Toolboxes are also often used to store tools, such as saws, saws, and other tools. Toolboxes are also used to store tools, such as saws, sockets, and sockets to store saws, saws, and saws. Toolboxes are often used to store saws and saws, and they are also used to store tools and tools, such as saws, saws, saws, saws, and saws, saws, and saws, saws, saws, and saws. Toolboxes, such as saws, saws, saws, saws, saws, saws, saws, saws, saws, saws, saws, saws, saws, saws, saws, saws, saws, saws, saws, saws, saws, saws, saws, saws, saws, saws, saws, saws, saws, saws, saws, saws, saws, saws, saws, saws, saws, saws, saws, saws, sawing tools, tools, saws, saws, saws, saws, saws, saws, saws, saws, saws, saws, saws, sawing tools, saws, saws, saws, saws, saws, and tools.</s>\n",
      "########\n",
      "*******\n",
      "question: The jellyfish was pushed along by the water.  It was caught in what?\n",
      "answer: current\n",
      "choices: ['store', 'book', 'park', 'current', 'lake']\n",
      "common expl list: [\"Currents are fast-moving water, and jellyfish can't swim very well, so if caught in a current, it's likely to be being pushed along by the current.\", 'Jellyfish are often found in oceans, and oceans have currents.']\n"
     ]
    },
    {
     "name": "stderr",
     "output_type": "stream",
     "text": [
      "\r",
      " 18%|█████████████████████████████▏                                                                                                                                    | 178/986 [58:43<10:03:17, 44.80s/it]"
     ]
    },
    {
     "name": "stdout",
     "output_type": "stream",
     "text": [
      "generated explanation: <pad> <extra_id_0> The jellyfish was caught in the current that is current. Current water is a source of current, which is why it is important to keep in mind that currents are not always available to jellyfish. This is a great way to keep in mind that jellyfish are caught in currents that are not available to the fish. The current is also a source of current that is often pushed along by the water. Currents are often a source of food and water, which is why jellyfish are so popular. The current is a source of food and water, which is why they are often a source of food sources. The currents are also a source of water. This is why the jellyfish is a source of water and the currents. It is a source of food and water. The jellyfish is a source of food and water. The currents are a source of food and water. The currents are a source of food and water-based sources of food for the food and water. The currents are a source of water. The currents are a source of food and water-based food source for food. The currents are also a source of food for food and water-based fuel for food sources for jellyfish, which is a source of food for food for water. The currents are also a source of water. The jellyfish that are used to produce food for food for humans. The currents are also used as feed for humans. The jellyfish is also used to be used in food for food sources of water. The jellyfish is a source of food for the jellyfish. The jellyfish. The jellyfish. The jellyfish. The jellyfish is a source of food for the jellyfish.<extra_id_1> </s>\n",
      "########\n",
      "*******\n",
      "question: The dime store was full of old donated goods, it reminded the customer of the what?\n",
      "answer: past\n",
      "choices: ['strip mall', 'past', 'shopping center', 'old movie', 'india']\n",
      "common expl list: ['Dime stores were more popular years ago than today. The sight of the old goods reminded the person of the past.']\n"
     ]
    },
    {
     "name": "stderr",
     "output_type": "stream",
     "text": [
      "\r",
      " 18%|█████████████████████████████▌                                                                                                                                     | 179/986 [58:45<7:09:50, 31.96s/it]"
     ]
    },
    {
     "name": "stdout",
     "output_type": "stream",
     "text": [
      "generated explanation: <pad> <extra_id_0> The dime store was full of old donated goods, it reminded the customer of the past. The dime store was full of donated goods, which reminded the customer of the present. The dime store was full of old donated goods, which reminded the customer of the past. The store was full of donated goods, which reminded the customer of the past. The dime store was full of donated items, which reminded the customer of the present. The customer could also remember the store's previous purchases. The dime store was full of donated goods, which was a reminder of the past and the present. The customer could also remember the past and remember the present.</s>\n",
      "########\n",
      "*******\n",
      "question: Where would you put a saw if you do not need to use it soon and your house only has one floor?\n",
      "answer: tool shed\n",
      "choices: ['logging camp', 'in the vehicle', 'tool shed', 'toolbox', 'basement']\n",
      "common expl list: ['The shed is a good place for storing tools when those tools are not in use.', 'A tool shed is a common structure for organizing and storing tools that are infrequently used.', \"A tool shed is a place where tools are stored, and thus, a good place to store a saw if you don't need to use it soon.\"]\n"
     ]
    },
    {
     "name": "stderr",
     "output_type": "stream",
     "text": [
      "\r",
      " 18%|█████████████████████████████▊                                                                                                                                     | 180/986 [58:46<5:07:02, 22.86s/it]"
     ]
    },
    {
     "name": "stdout",
     "output_type": "stream",
     "text": [
      "generated explanation: <pad> <extra_id_0> A saw is a great investment if it can be used to help protect your valuables from damage and the elements it can cause. A saw is a great investment because it can be used to protect your valuables from damage and grime. It is a great investment because it can be used to protect your valuables and to help you save money. It is also a great investment because it allows you to keep your valuables safe and secure. It is also a great investment if you have a budget to spend on a tool shed.<extra_id_1> </s>\n",
      "########\n",
      "*******\n",
      "question: A person might wear his yarmulke when going to where?\n",
      "answer: synagogue\n",
      "choices: ['demonstration', 'concert', 'garage', 'bus stop', 'synagogue']\n",
      "common expl list: ['Synagogue is a place commonly visited by religious Jews. Men wear yarmulkes (skullcaps) because faith requires that they uncover their heads when going before God.']\n"
     ]
    },
    {
     "name": "stderr",
     "output_type": "stream",
     "text": [
      "\r",
      " 18%|█████████████████████████████▌                                                                                                                                   | 181/986 [1:00:03<8:42:31, 38.95s/it]"
     ]
    },
    {
     "name": "stdout",
     "output_type": "stream",
     "text": [
      "generated explanation: <pad> <extra_id_0> A person might wear his yarmulke when going to where? Synagogue is a place where people can go to worship, worship, or other religious activities. The synagogue is a place where people can come to a Jewish community, and they are able to find a common place to meet, greet, and greet people. The synagogue is a place where people can gather, share, and celebrate with others. The synagogue is a place where people can gather together and share their experiences. The yarmulke is a place where the person can also share their experiences, and the person can share, and it is a place of worship. The synagogue is a place where people can come to their hearts, and they wear yarmulke when they are a place of worship. The synagogue is a synagogue. The yarmulke is a person to share their experiences and exchange of gifts and gifts and services that are a person to share their experiences and experiences that are a person to share their experiences and experiences that are common and that is common and that is the common place of worship. The yarmulke is a person to share their yarmulke is a synagogue is a synagogue to go to the synagogue. The yarmulke is a person to share their experiences with the yarmulke is a person to whom the synagogue. The synagogue is a person to share their yarmulke is a person to share their yarmulke is a person to whom the yarmulke with the synagogue with the synach. The yarmulk. The yarmulk is a person’s yarmulk is a common part of the yarmulk. The synagogue. The yarmulk is a person’s yarmulk with a person’s yarmulk. This is a person’s yarmulk. This means that the synagogue is a person’s yarmulk is a person’s yarmulk is a person’s yarmulk.\n",
      "########\n",
      "*******\n",
      "question: Someone takes up exercising to improve their what\n",
      "answer: physical fitness\n",
      "choices: ['losing weight', 'physical fitness', 'breathlessness', 'muscles', 'lost weight']\n",
      "common expl list: ['Typically people are motivated to exercise in order to become fit.', 'Exercising helps people build their physical fitness.', 'Exercising is a way to improve physical fitness.']\n"
     ]
    },
    {
     "name": "stderr",
     "output_type": "stream",
     "text": [
      "\r",
      " 18%|█████████████████████████████▋                                                                                                                                   | 182/986 [1:00:04<6:11:33, 27.73s/it]"
     ]
    },
    {
     "name": "stdout",
     "output_type": "stream",
     "text": [
      "generated explanation: <pad> <extra_id_0> Someone takes up exercising to improve their health and well-being. Physical fitness is a key component of any health and well-being, and it is the reason why people take up exercise to improve their overall health. It is a vital part of the health and well-being of a person. It is a vital part of a person’s overall health and well-being. It is a vital part of a person’s overall overall health and well-being. It is a way of maintaining and improving your overall health.</s>\n",
      "########\n",
      "*******\n",
      "question: Where could you see a sloth that is not real?\n",
      "answer: picture book\n",
      "choices: ['bad dream', 'picture book', 'another place', 'universe', 'zoo']\n",
      "common expl list: ['Reality is generally fractured into \"real\" and \"fusion.\" Sloths are real, meaning they exist (in some form) in reality; sloths are not real (in the way depicted) in a picture book.']\n"
     ]
    },
    {
     "name": "stderr",
     "output_type": "stream",
     "text": [
      "\r",
      " 19%|█████████████████████████████▉                                                                                                                                   | 183/986 [1:00:43<6:53:41, 30.91s/it]"
     ]
    },
    {
     "name": "stdout",
     "output_type": "stream",
     "text": [
      "generated explanation: <pad> <extra_id_0> A sloth is a picture book that contains pictures that show the real thing in the picture book. Picture books are also used to show sloths that are not real. Picture books are used to show sloths in the wild, as they are often portrayed in cartoons, movies, and other books. Picture books are also used to show sloths in the wild, such as those that are fictional and those that are not real. Picture books also offer a chance to see a sloth that is not real, as they are fictional, and other stories of how they are portrayed in the book, as they are not real sloths that are fictionalized. Picture books also offer a chance to see a sloths that are fictional, and they are often used to show a real sloth that is real, as they are fictional, as they are fictionalized versions of the real sloths that are fictional characters that are fictional characters. Picture books also offer a fictional sloths that are fictional, as they are fictionalized by the real sloths that are real. Picture books are a fictional sloths that are fictionalized sloths that are fictional sloths that are fictional sloths that are fictional characters that are often portrayed in the real-sized versions of the real slot machines that are fictional.<extra_id_1> </s>\n",
      "########\n",
      "*******\n",
      "question: Where are seats often plush?\n",
      "answer: opera\n",
      "choices: ['rest area', 'theater', 'hockey game', 'classroom', 'opera']\n",
      "common expl list: ['Plush seats are generally found in more comfortabe, well-off establishments, and opera is often performed in such, less strict teents of, elegance of the decor.', 'Opera is a high-class form of entertainment, and thus, the seats are often plush.']\n"
     ]
    },
    {
     "name": "stderr",
     "output_type": "stream",
     "text": [
      "\r",
      " 19%|██████████████████████████████                                                                                                                                   | 184/986 [1:01:02<6:08:14, 27.55s/it]"
     ]
    },
    {
     "name": "stdout",
     "output_type": "stream",
     "text": [
      "generated explanation: <pad> <extra_id_0> Opera House is a popular place to take your seats and enjoy a good seat. Opera seats are often plush, and they are often located in the center of town. Opera houses are often located in the middle of the city, and they are often located in the middle of the night, so they are often a popular choice for those who want to enjoy a good seat. They also have a variety of seating options, such as a variety of colors, and are often decorated with a contrasting color scheme. They are also a variety of other types of seating, such as a variety of colors, and are often used to make them a great choice for those who want to go on a good seat. They also have a variety of options for those who want to go on an opera. The opera is a great choice for those who want to enjoy a lot of space to enjoy a great experience for the whole experience. The opera's 'a great experience. The opera's a great way to make a great place to go on a plush. The opera's plush seats, which means that they are plush seats.<extra_id_1> </s>\n",
      "########\n",
      "*******\n",
      "question: The comforter was used constantly and treaded upon by everyone, where should it be placed?\n",
      "answer: washing machine\n",
      "choices: ['garbage', 'linen closet', 'bedroom', 'washing machine', 'livingroom']\n",
      "common expl list: ['When you use your comforter (or any other high-traffic fabric) often, you ought to wash it often too. Therefore it should be kept in the washing machine, to enable quick washing.', 'The comforter was used constantly, so it should be washed frequently. Linen closets are where people store their bed sheets and blankets.', 'Linens are often used (i.e., the comforter) and washed frequently.']\n"
     ]
    },
    {
     "name": "stderr",
     "output_type": "stream",
     "text": [
      "\r",
      " 19%|██████████████████████████████▏                                                                                                                                  | 185/986 [1:02:22<9:37:43, 43.27s/it]"
     ]
    },
    {
     "name": "stdout",
     "output_type": "stream",
     "text": [
      "generated explanation: <pad> <extra_id_0> The comforter was often used and treaded upon by everyone, so it was often placed in a washing machine. The washing machine should be able to wash the comforter and provide a clean, comfortable environment. The comforter should be placed in a safe place, such as a washing machine or a safe place for children to wash their hands. The comforter should be placed in a safe spot where it is not accidentally thrown from the floor. The comforter should be placed in a place where it is not contaminating the air. It should be placed in a safe place to keep it clean and prevent soiled hands and other items that are soiled. The comforter should be placed in a safe place to keep it safe. The washing machine should not be placed in a safe place where it is placed in a safe place to store the comforter. The comforter should be placed in a safe, clean, dry and soiled. It is important to keep it from being soiled. It is important to keep it from being soiled. It is important to keep it clean and safe. It is important to keep it from being placed in a safe place. It is important to keep it from spills. It is important to keep it safe from being soiled. It is also important to keep it safe. It is important to keep it safe from accidentals, and it is important to keep it from being soiled and safe. It is important to keep it away from the washing machine safe and prevent it being clean and prevent accidentals and keep it from being used in a safe place. The comforter in a safe place that it is important to keep it from a safe place that it is safe to keep it safe and secure and it is safe to keep it safe and secure and safe from accidental and avoiding accidental damage to safety and prevent the safety of the safety of children from getting a safe and prevent accidental injuries and prevent accidental spills and prevent accidental spills and also prevent the comforter from causing the comforter from a safe place that it is always safe and prevent injuries and prevent injuries from the safety of the safety of the safety of the safety of the safety of the safety of the safety of the safety of the safety of the safety of the safety of the safety of the safety of the safety of the safety of the safety of the safety of the safety of\n",
      "########\n",
      "*******\n",
      "question: Joe bought a ficus.  He thought it would look good in what part of his home?\n",
      "answer: family room\n",
      "choices: ['family room', 'tropical forest', 'flower garden', 'movie theater', 'hair salon']\n",
      "common expl list: [\"The ficus is an indoor plant, such as a plant one would have in one's family room. The family room is the ideal location for an indoor plant like a houseplant.\"]\n"
     ]
    },
    {
     "name": "stderr",
     "output_type": "stream",
     "text": [
      "\r",
      " 19%|██████████████████████████████▎                                                                                                                                  | 186/986 [1:03:11<9:57:42, 44.83s/it]"
     ]
    },
    {
     "name": "stdout",
     "output_type": "stream",
     "text": [
      "generated explanation: <pad> <extra_id_0> Joe bought a ficus. He wanted to make sure it would look good in what part of his home he lived in. The family room was the perfect place to put it. It was a great addition to the family room, and it was a great addition to the overall design. The ficus is a great addition to any family room, and it is a great addition to any home. It is also a great addition to any room in the house, as it is a great place to entertain friends and family. It is a great way to make sure that he would be a great place to put it. It is a great way to make it work. It is a great addition to the family room, and it is a great place to entertain guests and their guests. It is a great place to stay. It is a great way to get a great place to make a home. It is a great place to make it a great place to make it a great place to make it a place to make it a focal point for Joe to make it a focal point for Joe to make it a focal point for Joe to make it a focal point for Joe to make it a focal point for Joe to make the room. It would make it a focal point for Joe to make it a focal focal point for Joe to make it a focal point for Joe to make it a focal point to make the focal point to make it a focal point for the focal focal point for the family room, a focal point for the family room. It would make a focal point to make it a focal point to make it a focal point to make it a focal focal point to make the focal point to make a focal focal point to make it a focal point.</s>\n",
      "########\n",
      "*******\n",
      "question: Family is always the best for devotion, but it is also nice if a person has what?\n",
      "answer: loyal friends\n",
      "choices: ['good review', 'headache', 'with cat', 'loyal friends', 'shoes']\n",
      "common expl list: [\"Because times may come when a person would like to go out and have fun with some friends, and it's nice if that person may have friends that he is faithful to.\", 'We may have devoted friends who would be there for us if we had need.', 'Loyal friends are always there for you, and they will always be devoted to you.']\n"
     ]
    },
    {
     "name": "stderr",
     "output_type": "stream",
     "text": [
      "\r",
      " 19%|██████████████████████████████▌                                                                                                                                  | 187/986 [1:03:13<7:06:27, 32.02s/it]"
     ]
    },
    {
     "name": "stdout",
     "output_type": "stream",
     "text": [
      "generated explanation: <pad> <extra_id_0> A person should have a family that is filled with love and affection. Families should have a strong bond of support, which can help keep them in the loop of their lives. This is especially true when it comes to family. Friends are people who are committed to their family and the community. They are also people who are supportive of each other and who are always looking for the best for their needs. They are also the ones who are the best for their work and help in the life of the person. They are the ones that are most likely to be the best for their family. They are also the best for family and friends, which is the best for devotion. They also have a person's life. They also have a person who is</s>\n",
      "########\n",
      "*******\n",
      "question: Rap is not usually associate with what music often performed by an orchestra?\n",
      "answer: classical\n",
      "choices: ['folk', 'rock', 'good music', 'country music', 'classical']\n",
      "common expl list: ['Rap is generally associated with hip-hop music, which is normally performed by a single artist. Orchestras tend to play classical music, which often is performes with real instruments, rather than manufactured ones.']\n"
     ]
    },
    {
     "name": "stderr",
     "output_type": "stream",
     "text": [
      "\r",
      " 19%|██████████████████████████████▋                                                                                                                                  | 188/986 [1:04:19<9:20:26, 42.14s/it]"
     ]
    },
    {
     "name": "stdout",
     "output_type": "stream",
     "text": [
      "generated explanation: <pad> <extra_id_0> The classical sound of a classical orchestra is often associated with classical music, which is often performed by an orchestra, such as chamber music, jazz, or jazz. The classical sound of an orchestra is often associated with a musical genre, such as the classical sound of a musical instrument, or a piece of music. The classical sound of a classical orchestra is often associated with classical music, which is often accompanied by a soloist, conductor, or singer, or conductor. The music of an orchestra is often accompanied by acoustic or brass, which is a combination of these two. The classical sound is often associated with a classical orchestra, which is often associated with acoustic performances, and is often associated with the classical orchestra. The classical music is often associated with a variety of instruments, which is often a combination of instruments, which is often accompanied by a concert hall, or a concert hall. The orchestra is often a concert hall, which is often accompanied by a concert hall, or a concert hall. The orchestra is often accompanied by a concert hall, or a concert hall, and is often accompanied by a concert hall, or with a concert hall, and is often accompanied by a variety of instruments, and is often accompanied by a concert hall, or orchestra, and it is often performed with a concert hall, orchestra, or orchestra, or orchestra, or orchestra, or orchestra, orchestra, or orchestra, or orchestra, or orchestra, or orchestra, or orchestra, or orchestra, or orchestra, or orchestra, or a band, or orchestra, or orchestra, or a concert, or orchestra, or orchestra, or orchestra, or orchestra, or orchestra, or a concert, or orchestra, or orchestra, or orchestra, or orchestra, or orchestra, orchestra, orchestra, or orchestra, or orchestra, or orchestra, orchestra, or a concert, or orchestra, orchestra, or orchestra, or orchestra, orchestra, or orchestra, orchestra, or orchestra, orchestra, or orchestra, orchestra, or orchestra, or orchestra, or orchestra, or orchestra, or orchestra, orchestra, or orchestra, or orchestra, or orchestra, or orchestra, or orchestra, or orchestra, or orchestra, orchestra, orchestra, or orchestra, orchestra, or orchestra, or orchestra, orchestra, or, in some other, a group of orchestra, orchestra, or orchestra\n",
      "########\n",
      "*******\n",
      "question: At what structure can you see people you use a puck professionally?\n",
      "answer: hockey rink\n",
      "choices: ['hockey rink', 'locker room', 'sporting goods store', 'used in hockey game', 'teachers']\n",
      "common expl list: ['Pucks are commonly used in ice hockey, which is a professional activity.']\n"
     ]
    },
    {
     "name": "stderr",
     "output_type": "stream",
     "text": [
      "\r",
      " 19%|██████████████████████████████▋                                                                                                                                 | 189/986 [1:05:41<11:57:24, 54.01s/it]"
     ]
    },
    {
     "name": "stdout",
     "output_type": "stream",
     "text": [
      "generated explanation: <pad> <extra_id_0> A hockey rink is a professional hockey rink. It is a place where people can see people they use a puck professionally. Hockey rinks are often used to host hockey players, but they also often have a hockey rink. Hockey rinks are often used to keep people warm and dry. Hockey rinks are often used to hold games, and the puck is used to keep people warm. Hockey rinks are often used to hold athletes and players in uniform. Hockey rinks are often used to protect players from injuries, but they are also used to a hockey rink is a hockey rink is a professional hockey rink. The puck is a professional hockey rink. The puck is used to keep a hockey player. The puck is used to keep the pucks in a safe and secure hockey players. The pucks are often used to keep a professional hockey hockey players. The pucks are often used to keep a professional hockey player safe from the pucks. The rink is used to keep a professional hockey player safe from a professional hockey player safe. The pucks. The rink is a professional hockey professional hockey player safe and secure in a safe and secure in rink from being used in a safe and secure and secure hockey players from being used by a professional hockey player safe and secure and secure and secure a safe and secure environment. The rink is also used to protect the players and players safe from accidental accidental injuries and injuries. The hockey rink is a hockey professional hockey professional hockey. The hockey hockey team hockey players from injury and protect the players from injury and protect the puck from injury and keep a hockey hockey team from injury and keep the hockey team from injury and other sports safety precautions and safety. The hockey ice hockey. The hockey ice hockey ice hockey. The hockey ice hockey. The hockey safe and secure in the hockey ice hockey. The hockey ice hockey. The hockey. The hockey ice from injury and ice from ice hockey from ice from the ice from injury. The hockey from injury. The hockey from ice. The ice from ice from injury. The hockey ice from the safety of the injury. The safety of the hockey from injuries. The hockey. The safety of the puck. The hockey. The safety of the players from injuries and injuries. The safety of the safety of the players.\n",
      "########\n",
      "*******\n",
      "question: Even when not in flight a bald eagle likes to have a lay of the land, because of this you'll see them perched up where?\n",
      "answer: high places\n",
      "choices: ['colorado', 'natural habitat', 'everglades', 'high places', 'tree']\n",
      "common expl list: ['Eagles like to be high up, so they can see a large area.']\n"
     ]
    },
    {
     "name": "stderr",
     "output_type": "stream",
     "text": [
      "\r",
      " 19%|███████████████████████████████                                                                                                                                  | 190/986 [1:05:43<8:31:32, 38.56s/it]"
     ]
    },
    {
     "name": "stdout",
     "output_type": "stream",
     "text": [
      "generated explanation: <pad> <extra_id_0> When bald eagles are in flight they like to have a lay of the land, because they like to have a lay of land. Therefore, bald eagles like to have a lay of the land when they are in flight. High places are often the places where bald eagles are positioned to have a lay of the land. High places are places where bald eagles can be perched up on land. High places are places where birds can have a lay of land when they can see when they are in flight. The high places are also known as high places where bald eagles can be found when they are in flight.</s>\n",
      "########\n",
      "*******\n",
      "question: When is good time for garlic bread?\n",
      "answer: dinner\n",
      "choices: ['refrigerator', 'dinner', 'jail', 'supermarket', 'going on a date']\n",
      "common expl list: ['Garlic bread is often served with dinner.', 'Typical garlic bread is served with a maincourse and wine or other alcoholic beverage, and both are commonly served with dinner.']\n"
     ]
    },
    {
     "name": "stderr",
     "output_type": "stream",
     "text": [
      "\r",
      " 19%|███████████████████████████████▏                                                                                                                                 | 191/986 [1:05:45<6:05:13, 27.56s/it]"
     ]
    },
    {
     "name": "stdout",
     "output_type": "stream",
     "text": [
      "generated explanation: <pad> <extra_id_0> When is good time for garlic bread? Dinner is the best time for garlic bread. It is a delicious and healthy snack that is often accompanied by a healthy dose of garlic flavor. It is a great way to satisfy your taste buds and taste buds while enjoying a healthy meal. It is a great way to get your favorite dish on the table. It is also a great way to enjoy a healthy diet. It is also a great way to get your taste buds moving and enjoy your favorite foods. It is also a great way to get a meal.</s>\n",
      "########\n",
      "*******\n",
      "question: Where is the sky fake?\n",
      "answer: planetarium\n",
      "choices: ['shed', 'atmosphere', 'photo', 'outdoors', 'planetarium']\n",
      "common expl list: ['Planetariums are places built to simulate the sky indoors; the opposite of outdoors.', 'Planetariums are buildings that simulate the sky.']\n"
     ]
    },
    {
     "name": "stderr",
     "output_type": "stream",
     "text": [
      "\r",
      " 19%|███████████████████████████████▎                                                                                                                                 | 192/986 [1:06:06<5:38:49, 25.60s/it]"
     ]
    },
    {
     "name": "stdout",
     "output_type": "stream",
     "text": [
      "generated explanation: <pad> <extra_id_0> The sky is faked by a planetarium. The fake sky is a planet that is orbited by a space station, which is a fake place to see the sun. Planetariums are often found around the world, which is often a place where the sun is not real. They are also known to be a place where the sun is not real. They are also known to be located in the middle of the earth, which is a place where the sun is not real. The sky is a place where the sky is not real. The sky is fake. The sky is a place where the sun is fake. The sky is fake. The sky is fake, which is a place where the sky is fake. The sky is fake, which means that the sky is fake, which means that the sky is fake, which means that the sky is fake. The sky is fake. The sky is fake, which means that the sky is fake. The sky is fake, and therefore, the sky is fake. The sky is fake, and the sky is fake.<extra_id_1> </s>\n",
      "########\n",
      "*******\n",
      "question: Boats that aren't on the ocean travel across the surface of what?\n",
      "answer: lake\n",
      "choices: ['lake', 'ocean', 'tetrahedron', 'mirror', 'object']\n",
      "common expl list: [\"Lakes (and ponds) are bodies of fresh water surrounded by land, and boats exist on water, and thus, will tend to travel across lakes' surfaces.\"]\n"
     ]
    },
    {
     "name": "stderr",
     "output_type": "stream",
     "text": [
      "\r",
      " 20%|███████████████████████████████▌                                                                                                                                 | 193/986 [1:06:09<4:09:10, 18.85s/it]"
     ]
    },
    {
     "name": "stdout",
     "output_type": "stream",
     "text": [
      "generated explanation: <pad> <extra_id_0> Boats that aren't on the ocean travel across the surface of what is called a lake. Lakes are a natural feature of the ocean, and are often found in coastal areas, such as the Gulf of Mexico. Lakes are also often used for recreational purposes, such as fishing, swimming, and other recreational activities. Lakes are also used to transport water and other items that are in the water. Lakes are also often used for recreational purposes, such as fishing, snorkeling, and other watercraft. They are also often used to transport water and are used for recreational and recreational activities, and they are used to transport people that are on the surface of the ocean. Lakes are often used to transport people to and from the ocean. Lakes are often used to transport water. Lakes are often used to transport waterways, such as the shoreline.<extra_id_1> </s>\n",
      "########\n",
      "*******\n",
      "question: A small dog lived with a a woman who loved him. Where might he have lived?\n",
      "answer: person's house\n",
      "choices: [\"person's house\", 'dog house', 'canada', 'illinois', 'basket']\n",
      "common expl list: ['Animals who live with humans are often in their homes.', \"Dogs are often kept as pets, and pets are often kept in their owners' homes.\"]\n"
     ]
    },
    {
     "name": "stderr",
     "output_type": "stream",
     "text": [
      "\r",
      " 20%|███████████████████████████████▋                                                                                                                                 | 194/986 [1:07:28<8:07:03, 36.90s/it]"
     ]
    },
    {
     "name": "stdout",
     "output_type": "stream",
     "text": [
      "generated explanation: <pad> <extra_id_0> A person's house is a place where a person might have lived. It is usually a place where a person can live with a person who loves a person. The house is a place where a person can live with a person who loves a person. The person's house is a place where a person can live with a person who loves a person. The house is a place where a person can live with a person who loves a person. The house is a person's house is a person who loves a person's house. The person's house is a person's house. The person's house is a person's house. The person who lives with the person's house is a person's house to live with the person. The person's house to live with the person's family and friends. The person's house is a person's house is a person's house to live with the person who loves the person who loves the person who loves the person who loves the person's house to live with the person who loves the person who loves the person that loves the person who loves the person who loves the person who a person who loves the person's house to live with the person who loves the person who loves the person who loves the person who loves him and the dog to whom he or she is a person who loves him and the person he lives with the person that he loves him and the person he loves him and the person that he is living with him and who he is. The person who he loves him and the person he loves him and the person he loves. The person who loves him and the dog, the person who loves him. The person who loves him and the person he is the person who loves him and who he is. The person who loves him and who loves him and the dog. The person's house is the person who loves him and who he loves him and who he/her. The person who he/s. the house is the person he/he/he/s. The person's family. The person's house is the house that he/s. he/s. The person who loves him and the person who he/s. he/s. who\n",
      "########\n",
      "*******\n",
      "question: There are usually four strings on what popular instrument?\n",
      "answer: guitar\n",
      "choices: ['trumpet', 'kite', 'quark', 'guitar', \"bird's nest\"]\n",
      "common expl list: ['A guitar is a stringed instrument with four strings.', 'Guitars have four strings.']\n"
     ]
    },
    {
     "name": "stderr",
     "output_type": "stream",
     "text": [
      "\r",
      " 20%|███████████████████████████████▊                                                                                                                                 | 195/986 [1:07:30<5:47:35, 26.37s/it]"
     ]
    },
    {
     "name": "stdout",
     "output_type": "stream",
     "text": [
      "generated explanation: <pad> <extra_id_0> There are usually four strings on a guitar, which is a popular instrument because it is composed of four different strings. The strings are usually arranged in a manner that is recognizable from the guitar and is often played as a string, which is often used to represent the sound of the guitar. The four strings are usually arranged in a way that makes the instrument feel more natural and more natural. The strings are also often acoustic, which is often used for playing along with the strings. The strings are usually composed by the strings of the guitar. The strings are usually used for playing</s>\n",
      "########\n",
      "*******\n",
      "question: Where would you find a shelf with toys for young people learning?\n",
      "answer: school building\n",
      "choices: ['corner', 'school building', 'wall', 'library', 'bookstore']\n",
      "common expl list: ['A school building is a place where children learn, and so, a school building would have a shelf with toys for young people learning.', 'School buildings house school libraries, in which you would find shelfs of toys, games and puzzle for students to use while in school.']\n"
     ]
    },
    {
     "name": "stderr",
     "output_type": "stream",
     "text": [
      "\r",
      " 20%|████████████████████████████████                                                                                                                                 | 196/986 [1:08:29<7:56:59, 36.23s/it]"
     ]
    },
    {
     "name": "stdout",
     "output_type": "stream",
     "text": [
      "generated explanation: <pad> <extra_id_0> A shelf with toys for young people learning is a great place to find toys for young people learning. A shelf is a piece of furniture that is designed to help students learn. The shelf is a great way to keep your students engaged and engaged in learning. It is also a great place to store books, books, and other educational materials. It is also a great way to keep track of school supplies and supplies. It is a great way to keep track of the progress of a student's progress, as it is a great place to keep track of learning and keep track of how to keep track of progress. It is also important to keep track of learning and learning. It is important to keep a student's progress in the right way and keep track of progress. It is important to keep track of where the shelf with toys for young people learning. It is important to keep track of what toys and toys for young people learning. It is important to keep track of where to find a shelf with toys for young people learning. It is important to keep track of what to keep track of what to keep track of what to keep track of what to keep track of where to find a shelf that a shelf that is important to keep track of where to find a shelf that is important to keep track of what to keep a shelf with toys for young people learning. It is important to keep track of what to keep track of what is important to keep track of what is important to keep track of what to keep track of what to keep track of what to keep track of what is important to keep track of what to keep track of what to keep track of what is important to young people learning. It is important to keep track of what is important to keep track of what to keep track of what is important to keep track of what to keep track of what is important to keep track record. It is important to keep track of how many activities to keep track of what is important to keep track of what is important to keep track of what is important to a school-age-age-appropriate to keep track of what is important to keep track of what is important to learn. It is important to keep track of what is important to keep track of what is important to keep track of what is important to keep track of what is important to keep track of which is important to keep track of what is important to keep track of what is important to keep track of and how many\n",
      "########\n",
      "*******\n",
      "question: What can you get after drinking too much alcohol?\n",
      "answer: sickness\n",
      "choices: ['become drunk', 'have fun', 'active', 'frequent urination', 'sickness']\n",
      "common expl list: [\"Alcohol (e.g., beer, wine, etc.) is a chemical that alters people's consciousness, making them generally feel unpleasant; subsequently, over-consumption can lead to the vomiting of one's content inside one's stomach. Hence, being\", \"Drinking too much alchohol can impair the body and, consequently, one's ability to think straight. It can also cause sickness.\", 'Alcohol is a diuretic, which means that it makes you urinate more frequently. This can lead to dehydration, which can cause sickness.']\n"
     ]
    },
    {
     "name": "stderr",
     "output_type": "stream",
     "text": [
      "\r",
      " 20%|████████████████████████████████▏                                                                                                                                | 197/986 [1:08:31<5:42:09, 26.02s/it]"
     ]
    },
    {
     "name": "stdout",
     "output_type": "stream",
     "text": [
      "generated explanation: <pad> <extra_id_0> Drinking too much alcohol can lead to symptoms of a variety of illnesses, including a headache, headache, and other symptoms. This is because too much alcohol can cause sickness. It can also cause a loss of energy, which can cause the symptoms of a weakened immune system. Additionally, excessive drinking can cause a person to become ill. Drinking too much alcohol can cause a number of health problems, including nausea, vomiting, and other symptoms. These symptoms can also be caused by a lack of sleep. This is because drinking too much alcohol can cause sickness and other factors that can cause the symptoms of sickness.<extra_id_1> Drinking too much alcohol can cause symptoms of sickness, such as gastrointestinal problems. Lastly, too much alcohol.<extra_id_1> </s>\n",
      "########\n",
      "*******\n",
      "question: WHat is the central bank responding to when they are fighting inflation?\n",
      "answer: problems\n",
      "choices: ['deflation', 'problems', 'spend more', 'people', 'not noticeable']\n",
      "common expl list: ['Inflation is a function of having too much money in the economy. This may cause problems.', 'Periods of inflation cause problems for businesses and people. The central bank may take steps to fight inflation (reduce it) to respond to this problem. Reducing inflation also solves the overall issues.', 'In order to fight inflation, a central bank must respond to the problem, e.g., economic trouble, which if left alone, would cause inflation', 'Inflation is a problem, and the central bank is responding to it by fighting it.']\n"
     ]
    },
    {
     "name": "stderr",
     "output_type": "stream",
     "text": [
      "\r",
      " 20%|████████████████████████████████▎                                                                                                                                | 198/986 [1:09:03<6:04:02, 27.72s/it]"
     ]
    },
    {
     "name": "stdout",
     "output_type": "stream",
     "text": [
      "generated explanation: <pad> <extra_id_0> The central bank responds to inflation when they are fighting it. This is due to the fact that inflation is a problem and that the central bank is not responding to it. The central bank is responding to the problem of inflation by reducing its ability to provide liquidity and liquidity to the economy. This is because the central bank is responding to the problems of inflation and the central bank is responding to them by reducing their capacity to provide liquidity and support for the central bank. This is due to the fact that the central bank is not responding to the problems of inflation. The central bank is not responding to the problems when they are fighting inflation. The central bank is responding to the problems of inflation and the central bank’s ability to provide stability and stability. The central bank is not responding to the problems of difficulty when they are addressing the problems of reducing the pressure to reduce the pressures of inflation. The central bankers are also reducing the pressure for inflation. The central bank’s ability to manage the problems of reducing the pressures of inflation. The central bank’s ability to manage the pressures of inflation. The central bank’s ability to manage the pressure to inflation. The pressure to maintain the pressure to maintain the pressure to maintain stability and stability of the pressure to maintain stability of the pressures of the pressure to maintain the pressures of inflation. The pressure to maintain the pressure to maintain stability of the pressure to maintain the pressure to increase the pressure to maintain the pressure to maintain the pressure to maintain a stable and stable environment of the inflation.<extra_id_1> </s>\n",
      "########\n",
      "*******\n",
      "question: What could a massive building be if it is not constructed well?\n",
      "answer: insubstantial\n",
      "choices: ['insubstantial', 'massless', 'dwarf', 'inconsequential', 'good']\n",
      "common expl list: ['A building is typically considered a sizable construction, therefore, if erected poorly, would be construed as being insubstantial.', 'Because the massive structure is so large, poor construction could render it largely inconsequential, or \"insubstantial\", as a structure.']\n"
     ]
    },
    {
     "name": "stderr",
     "output_type": "stream",
     "text": [
      "\r",
      " 20%|████████████████████████████████▍                                                                                                                                | 199/986 [1:09:05<4:20:38, 19.87s/it]"
     ]
    },
    {
     "name": "stdout",
     "output_type": "stream",
     "text": [
      "generated explanation: <pad> <extra_id_0> A massive building could be if it is not constructed well. Buildings are constructed in a manner that is insubstantial. Buildings are constructed in a manner that is not insubstantial or insignificant. This means that the building is not constructed properly. The building is constructed in a manner that is not insubstantial or insignificant. This means that the building is not constructed properly. This means that the building is not constructed properly. It is constructed in a manner that is not constructed insubstantially.<extra_id_1> </s>\n",
      "########\n",
      "*******\n",
      "question: If you rent a condominium in a glove-shaped state where are you?\n",
      "answer: michigan\n",
      "choices: ['great lake state', 'michigan', 'community', 'towels', 'complex']\n",
      "common expl list: ['A condominium is a type of housing that is often rented. Condominiums are often located in complexes, and Michigan is a state that is shaped like a mitten.']\n"
     ]
    },
    {
     "name": "stderr",
     "output_type": "stream",
     "text": [
      "\r",
      " 20%|████████████████████████████████▋                                                                                                                                | 200/986 [1:09:07<3:11:15, 14.60s/it]"
     ]
    },
    {
     "name": "stdout",
     "output_type": "stream",
     "text": [
      "generated explanation: <pad> <extra_id_0> If you rent a condominium in a glove-shaped state where are you? michigan is a state where you can rent a condominium in a glove-shaped state. The state of michigan is a state where you can rent a condo, apartment, or other property. The state of michigan is a state where you can rent a condominium, which is a state of residence, where you can live, work, and live. This is a state where you can live and work while you rent a condominium. This is also a state where you can work--it--the state of michigan is a state is a state that you can work and play with your time--the state</s>\n",
      "########\n",
      "*******\n",
      "question: where do children play a game?\n",
      "answer: family room\n",
      "choices: ['toy store', 'bar', 'casino', 'table', 'family room']\n",
      "common expl list: ['A family room is a room in a house where family members can play games.', 'A family room is a room in many homes in which families can socialize, often through games. One such game is \"connect four.']\n"
     ]
    },
    {
     "name": "stderr",
     "output_type": "stream",
     "text": [
      "\r",
      " 20%|████████████████████████████████▋                                                                                                                                | 200/986 [1:09:22<4:32:38, 20.81s/it]"
     ]
    },
    {
     "name": "stdout",
     "output_type": "stream",
     "text": [
      "generated explanation: <pad> <extra_id_0> Family rooms are the perfect place for children to play a game. Family rooms are often decorated with a variety of games, from board games to board games. Family rooms are often decorated with a variety of decorations, so children can choose to play a variety of games. Family rooms are often decorated with a variety of games, such as board games, board games, and hand-held games. Family rooms are often decorated with a variety of games, such as board games, puzzle games, and more. Family rooms are often decorated with a variety of different styles of games, which can be a great way for children to play a variety of different styles of games, which can be a great way to play a variety of different colors and sizes. Children can play a variety of games, which can be a great place to play a variety of different types of games, such as hand-held games, such as board games, and other games, which can be a variety of colors and styles of games, which can be a variety of colors and patterns.</s>\n",
      "########\n"
     ]
    },
    {
     "name": "stderr",
     "output_type": "stream",
     "text": [
      "\n"
     ]
    }
   ],
   "source": [
    "from tqdm import tqdm\n",
    "fse_csqa_dev_data_dict\n",
    "fse_csqa_train_data_dict\n",
    "rationale_pair_dev_data = []\n",
    "cc=0\n",
    "good_model = model\n",
    "for da in tqdm(our_data_splits['dev'], total=len(our_data_splits['dev'])):\n",
    "    print(\"*******\")\n",
    "    print(\"question: {}\".format(da['question']))\n",
    "    print(\"answer: {}\".format(da['answer']))\n",
    "    print(\"choices: {}\".format(da['choices']))\n",
    "    #print(\"our_explanation: {}\".format(da['our_explanation']))\n",
    "    id_ = da['id']\n",
    "    if id_ in fse_csqa_dev_data_dict.keys():\n",
    "        common_expl_list = fse_csqa_dev_data_dict[id_]['common_expl_list']\n",
    "    else:\n",
    "        common_expl_list = fse_csqa_train_data_dict[id_]['common_expl_list']\n",
    "    da[\"common_expl_list\"] = common_expl_list\n",
    "    print(\"common expl list: {}\".format(common_expl_list))\n",
    "    inp_ids = torch.tensor(da[\"input_ids\"], device=model.device).reshape(1, -1)\n",
    "    out = good_model.generate(\n",
    "                    inp_ids,\n",
    "                    max_length=512,\n",
    "                    pad_token_id=tokenizer.pad_token_id,\n",
    "                    eos_token_id=tokenizer.eos_token_id,\n",
    "                )\n",
    "    skip_special_tokens = False if \"infilling\" in data_args.io_format else True\n",
    "    words = tokenizer.decode(out[0].tolist(), skip_special_tokens=skip_special_tokens)\n",
    "    print(\"generated explanation: {}\".format(words))\n",
    "    da[\"generated_explanation\"] = words\n",
    "    print(\"########\")\n",
    "    rationale_pair_dev_data.append(da)\n",
    "    cc += 1\n",
    "    if cc > 200:\n",
    "        break\n",
    "    #pdb.set_trace()"
   ]
  },
  {
   "cell_type": "code",
   "execution_count": 51,
   "id": "a7a66b99",
   "metadata": {},
   "outputs": [],
   "source": [
    "import json\n",
    "rationale_pair_save_path = os.path.join(\"./results\", \"72shots_cose_t5_base_text003_100_150_rationales_generator_test_rationale_pair.json\")\n",
    "with open(rationale_pair_save_path, 'w') as f:\n",
    "    json.dump(rationale_pair_dev_data, f)"
   ]
  },
  {
   "cell_type": "code",
   "execution_count": 52,
   "id": "33daef0f",
   "metadata": {},
   "outputs": [
    {
     "data": {
      "text/plain": [
       "dict_keys(['5b8a3081c3235d62bc77e2d15f3ad454', '07f108d5321a66f460685f5c7499ecb2', 'ff1bf2ec835c9df8695ae0cfb5281646', '33ea932a876ac0361c9eefeff1d24e92', '35ad89c198d5d6311a71c993bb7b6cba', 'a2aa95861ef74bf1ecfc55db505e3982', 'af3b9a8b1962cd3bcd19e644d873e7bc', '91e0f4ab62c9d2fd440d73a3f5308d96', 'cfc7fccb8449a2a950c9d2a50991420e', 'edbb57ac2f476679ae547f75ec2bef3e', '8555dd9667d010018961a2f7d1c22704', '8bdbb8caefcc607a9ec7579aa0c87cba', '549cf641318edfc0510fa7c7dbb359e1', 'd6c002d46d9bfa466637cec4a134f332', '3b9ccdcb1c932c46a38e040d3e6c7f5b', '54231f875bb7fe4d3e4afb6eae64387c', '668dc6bce771b10cbf6336f3ec76520a', '900492bd731f8f615ed7c08155737d44', '0b25bbd9e9aa976655e1975e31331709', '1729c737ff92cf558efecde2c6cafc5e', 'cc1a547bdfdcc95e4d632453af14bc96', 'c492b8b9754a181c924c1df19998cbc7', 'd31ee38f67d1173275e120b8ad36039c', '083861fc5ebb9226fff70544f3f83d2b', 'e1744fc698cffb574e5cf4b29a81ce76', '1f492f556fae64f72ce36b6caa242dd0', '27604394ccee83e089f9ffae1883cf07', 'b3dc6d6a5e2f9d7da8eb72816c80b3f8_1', '6bc3ebcfd04965c25bde71339955746c', '69335eb9bc5b7b5df840c38a086bf8b2', 'bc05bc6b4df7a3d25a361515fe8912ad', 'f7c005244d406b9bde48dc8c22003af1', 'f48528156632b9c5b18af9ce2095509b', 'b5baf77d3855935c87f01f5fb2216667', 'db1eb157671109bbb9113b0f71a6b957', '77ddc9134bb27f9962aa2ed5ec5a5ef9', '6abd34442438509b4a00c69d6fd24764', 'b67971747e95ba425a5b81e0ba8d0b28', 'bee2a6eadfaf7a4fa0a214e341ddbe5b', '8ce13c6e08bf38d4cd4af756b661e47c', '80930e9df9ac4ad752749a54e7fc124f_1', '3ffe67fb009529d9b0c49ccd7141ee4a', '8d3dc21a53523850ec80771daaa5ff20', '3310b5b24f03d67179fababf9ae95144', '998381f854f51da2a6ccde45909e5168', 'f427f9de6bf580314531baf86de8acbc', '18844d3aa4e52b331b5382c8244cf4db', '8af63d58cc35061dec38e5448c325988', '768fb09deab56046e1565b6a2556ad5c', '5655a3002dd9a6b7dabede1dd26a5893', '07ea8ff6ee916f2bf9aceab1e19ff99a', 'd35a8a3bd560fdd651ecf314878ed30f', '449de58e919975867255218484a9fc89', '7cf54544d54818d53e7088c0749a3eca', 'd29252ddaf7c7ef491abcce342d7bb98', '4a4f6408fae400ce0beb5bea0f9913e9', 'c306ab28498b67c53decb9dde1d78bd5', 'ba9132ebf2bc3ad21e6a0631dc4e0a77', '026cb9c07a583ec933f2c4c67ae73836', '2a21820a135e1a49883525c055c74a0b', '7c45033e9fd9f1a759923971b14390ed', 'dc964e4f6df6b70815e81e466d0ff717', '2a32b1e541b1daae04690d0d3a4b3310', '6c515b068b4d3aa88a5382224d9b866d', '6c84e79d0595efd99596faa07c4961d0', '42c46e28baf0fc617a07419286178c0a', 'c39131d979c9205c11d0e109e18188e4', 'c592258c88295756833e9796e881057b', '3526550b02d9594abd4fc43553010fc6', '637c710ec9582fd9b9e8eaa3f3fe83bb', '01f01cc3ad152773ef42b30e926912bf', 'c54ddc0f9d170ba65d9f4f2e0bb41d1c', 'ad37795fd9e3a65553683ff305b5113d', '7a3d0c94438a5c8a09364aaebb848a2c', '7c05e8d5a057085455eea243fbd1cd90', '4364b4b342fb7b44434bd6694bf8fd51', '99098375c7b651d524eebac72e358238', '1ddd239a2a6438a891cb411b82e7f450', 'f4bb8ecacb9ce89e040f5f76bc79afb3', '6b9221c1af583ffb43580857d6fde38a', 'cf8e30dd6956d03e3f0f0397112a8696', '456f2fb41cac8c028dcfe2f48637e473', 'c908d7c4633c5e6add9463bdd47cb27e', '2de08c7a518b7c226e19bdc8fc10ef1d', 'cd639cf3ff82f825ace7dd2b087562bd', 'e3c6d147f8a727d314046e70e9579ba0', 'b9b82aa4c236cd342ff95455b8516a42', 'e4976ee741cf4b28b8a42780ffb15774', '8d275acea05fd16295c659c504576a9b', '3bf06235a537adc9d85431846595b800', 'a7d51b753c2113d8b2dbd0ebb5375855_1', 'bcc5dd6292a64d8fa17cd07c360b335d', '46ba5d2b8cfc6708e5e2618568d8730e', '9f9ca9bb06d6afc31b19c365fb29a1c9', '3d9c3253e24fb108cea9083e8a853cf2', '3b8e1d236f5169b6c833a994d6d9c39a', '6ca8439d062de4d43d7d471c508b78db', 'ec86900559a0faf2aef066e511a4cfa6', '57e96118fee6e2bbac5f59790fc833c0', '520b0eea9148e3cb4d45aa69a55491eb', '6be05d227f4f6fe727218fc8be9df340', '113aaea2b1a27a976547f54e531d99bb', '2f0931adc3d0d422d9ab6264395e89d8', 'cce1b59f7c4f540a84a1a7d6d88548c4', '870b07a1c5af2e956673a9680da99852', '34005ef0caafefc8585c9fcd50e94557', '22458fdcead20e2def0df0d92d5806f6', 'ec224c1dbfb569cce7ec317fe987ae68', 'ede4d302fc2ffe07703158f83c1493f2', 'ecd32cc0c17d4738a27bba3399f04591', '5c171b9837af49211891ce40e4a10204', '801431167b8bff06b9870abe9721536b', 'b47d912136e3304cb5e5890b6b879551', 'd0bd5b5ee7319d1c4727e38d429dd54e', '78276a4eab6e8d6b9ae3749211816977', 'ec79ef747bb89281923edb89ba26786d', '0e80f2afe5c4f652e8720b52d7c06c87', '39572e0ba1db51fa74f7fc2d90c5ec7f', '56417ee33b44f0d916bedfb6fd99b0ec', 'f996430ce208606452868fd2e739d409', '858a5eaa587fe0e266722228671a6bd1', '273d0134e8ce53d4ebcf41ca7fde02af', '49e466b1782aa4837dae53ff891fcdee', '08d908ed723f813574992195d61386a2', '7192c9f5c513aac9042bad595ff5af9f', 'aa4c5d2d348796b8d7fa324f27f4c34f', '0e52659484f2f6d763cf0d38d4c5999d', '4423c006f2a43f222d4c4e97360c25d3', 'f4a75bf3f115b826a8097edfd0ff2781', '07b51b231a9d6a143d8a73e69121e1b1', 'c2a8c6814ed3e207771cfc23b3b42cf1', 'f13efb91090dd28fd2b3c1f4dde680fd', '985a4f1a3f31f1ba6654f4fc48f504df', '9e5ce2b7d9eb404cdf8c7317dd0b5a59', 'a400b9fd1e319f901471c4b42d401c52', '042898e0c71adac5d123aaa6221c9754', '29c194d032a266a7160bff6f546a4d9d', 'db0cfd52ca6b2bbfcf26d1a898fd929b', '2a0e82bbf1471290c93c8f2a11af197f', '49b4c9e1bd7946a819e173ce8fa4c7c9', '6cb895ce89995f6be422f7c4167c7638', 'df1bf6f3f87975aa0c1b6d6153d9ecef', '1bf4c6b5bd870b1a079106e1e97e5d09', '8ae24d3ff199077a59e0d970feb665b7', 'bb503ece4eac41dfe608a1dcb654e6bf', '6e77de03bee86d6c20780e14f00944d0', '5799089c131e26473697afc54d5f6964', '895aa97bb84d874d71b2aed572cebfdd', '23d97480fe45bace231503f8fc367a5b', 'a2977fd575faba162d04a490dabd1b9b', '5a1c8a9dbbb60e523cc1ba14a370729c', '5496c7293f653120e5a5213db2d7b103', '7044d82a456d0fa6f0210abb03cbf2c4', '15b090801256085ad465e74af47cbee9', 'aa984e2b487d08889bc0c73bab5ac945', '4302e727e47f464511d4d04f22bed0d2', 'b6b66d4519a84b8331ea55f84767e9df', '0e5c7c0cec5b693e52f74f5f879d84fb', 'e408a5a031caec33782cb3b3a005eecc', '96cb628fb7ed2f53245598f707ed2b80', '2067720531fc03c017af941cec2f6f40', '5b8d76889510384b38b72945e8d28f53', 'cf33e0f5891ce53a716432be06a46ee1', '24eebfa678112100803da16dde148b2d', '0c2fa15a02d0b6ca6707e98fac7589e4', 'c2c2a387fd9a6a26cff636008de21f71', 'f20d40bc4af588223e880e0bb58b27b8', 'b42ef8be1748c19fa5938de5396f8fad', '57b83653d82b27d32bc39228130f3516', '2192c5c2145a6e03755ad89a02e64055', '175e7dcdded13d5adafaebf2264c3abd', '8d4b0312f02be445e09a9462873d02bb', 'cfa081b5ba90dae4d7ddb5b7ad9d369a', 'd6bb990e8c409d2b3af37a2da198e01f', '20a3bb788cf408d9a3e25e610fe60905', 'af11faa29097b71141fe192ad019d1dd', '6915dfdefe3b1cd5fd8886c8bb84929a', '43ba9669564217f2f909f33acbedaf95', 'fce1c5d069758aea57a787fc98dcf7a9', '32758ab86d888be680845b0dfe7de35e', '7ea57ee4580042b0a6a40479c8ace3e4', '21fb76bd8349628b441c76f47c33e77b', '3fe45ab3bd4a844ea290050fc0ece8c1_1', '3dee8fc7f0a3fbf4de111b6686fca157', 'ceafca2445b1b974d085a8cce38e8e44', '42520bf3f93f8de23670044e019001a3', '5ea6b94d1a911365b06cf776919413e8', '2d3c9d3dff1a7a8253180cb3de1ceeea', 'a4892551cb4beb279653ae52d0de4c89', 'e050bce7048da1b3743a54153e91694e', 'eb50f536830ba18ab987c7ff652e2aba', '6386bcf080633bc3eeb3317a5435b7b7', '839f3c37622c1ed5eebc9cd0b9d658e8', '009a7aabffe0583fc2df46656b29c326', 'c82ed0c2a2e115452b4d596c5faafbcf', '01abce8c4964371d85a5be2019f75827', '7d937233b4a9043da0b976dbd42d141b', 'c611875b43b67b91030b889b267bbcb3', '7bc1198664b376f79d584725ad7f874b', '5e260e1d96187716888cbd968010bb65', 'fde48d43e27cefed6ed9c52514e0bb6d', '43ab0ff711e60d51f943bbd2cdd6515a', '1a8b3c2a46efabcbd506f9cf70886ed0', '48a315cfa3ce11f7a9d615bc854331d5', '095767956c500ca1af7cf7671556de5b', 'de54d03e69d9765872f95ff06ed21499', 'cbf3dd48b4d591fc872a53cd4b9dd3af', '35872be88df5f6c4a6600020266a5458', 'a90f9197a13c64089c9ba95bcba275ad', 'bd4e80fa6642a76c064d0bc924411fb0', '008b7ba0c039f6d0d542c6c90aae173c', 'ace8fa2943ba8414aebdb74b48906fae', '1caf93d6a22dc8190e19c14bbe1fafda', '7c8bc9c0e56389eef033bca40c88c151', '6195ed74cf445cb5d991e1076a080dde', '8086f022f2d4a4888ae1f8c7e4541ab9', '1e5a138b4c7d456c37abf4990b402bbe', '3f4b48708d08f8bf7bec796531023f9c', '60e92cd2f35c345872d1a898e1718d55', '9889e5389917d812c09d6e5d382d333d', '46351b3a6beb694c5f623583a3b1473d', '7b7941b883328ad39048d4dfb1eb5623', '7d7f7d7a8ae3b20ca9fc0da6efe467b4', 'c961578f4c5768b67b843e5d2ce18452', '514310637fb43a252bfadc8cbf79b277', '5279a2ea333ba8a5bf3a7637a7279da1', '5622e49306bb82ec1cec817ad0506c60', 'fcd39cfa321728fea069a6ae4285b06f', '26bd85f05d29863ed777a4f1a4b8fa63', '31487ab8b1e8f12e252590cc58bd19c2', 'ffd89796a9b09bef56c5803f188764c6', 'ba3a2b9ff289c106051163f840a6f5ba', 'b1f36d1c8ab7e5a28783cb38e8709c27', '5c2bc4335c8860342ec2d568ceb6ac6b', '36c1f50eec01c287b8ef6ffe69fe0528', '515834727e23e30ab7c8fe5ba7e9a765', 'a15d564d0be6996251b5d523ac62db2a', '8f01273422a370a8dbda6bf473a395a0', 'cabefb7063a728e77abd44d97397a2a4', '1bc986f8aea88d6927d8a45367855a94', '484f6e4fb8e6431b010c299490b72e3c', 'a7e3de0719fe30e7048f67426e29fdd1', 'a617eb4d27edea93e7fd630ce00c8219', '2c0030cc14a27be2401dcfdaa501f0fc', 'cf02cca40a47c2deefd8b2e5a5ff2f70', 'ea0e7771afd86a59fd9f7764b77e3fa4', 'c1aebf059c5102f4e773f7fe4afe13f0', '95a85df48902d23eb3fda25a99fca1a0', 'a4b44a986e7f9045432e20ea75611df4', '05490e6c191fbc3c2fe0033ed0bd8aa0'])"
      ]
     },
     "execution_count": 52,
     "metadata": {},
     "output_type": "execute_result"
    }
   ],
   "source": [
    "fse_csqa_dev_data_dict.keys()"
   ]
  },
  {
   "cell_type": "code",
   "execution_count": null,
   "id": "bd852d7d",
   "metadata": {},
   "outputs": [],
   "source": []
  },
  {
   "cell_type": "code",
   "execution_count": null,
   "id": "294e53ce",
   "metadata": {},
   "outputs": [],
   "source": []
  }
 ],
 "metadata": {
  "kernelspec": {
   "display_name": "Python 3 (ipykernel)",
   "language": "python",
   "name": "python3"
  },
  "language_info": {
   "codemirror_mode": {
    "name": "ipython",
    "version": 3
   },
   "file_extension": ".py",
   "mimetype": "text/x-python",
   "name": "python",
   "nbconvert_exporter": "python",
   "pygments_lexer": "ipython3",
   "version": "3.7.0"
  }
 },
 "nbformat": 4,
 "nbformat_minor": 5
}
