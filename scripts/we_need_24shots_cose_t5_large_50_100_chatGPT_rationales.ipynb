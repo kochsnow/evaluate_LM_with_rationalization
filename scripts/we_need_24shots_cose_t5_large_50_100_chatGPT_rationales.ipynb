{
 "cells": [
  {
   "cell_type": "code",
   "execution_count": 1,
   "id": "f5286ba7",
   "metadata": {},
   "outputs": [
    {
     "name": "stderr",
     "output_type": "stream",
     "text": [
      "\u001b[34m\u001b[1mwandb\u001b[0m: Currently logged in as: \u001b[33mdengdenghuang\u001b[0m (\u001b[33mcuhk_lavilab\u001b[0m). Use \u001b[1m`wandb login --relogin`\u001b[0m to force relogin\n"
     ]
    },
    {
     "name": "stdout",
     "output_type": "stream",
     "text": [
      "env: WANDB_PROJECT=evaluate_LM_with_rationalization\n"
     ]
    }
   ],
   "source": [
    "import wandb\n",
    "wandb.login()\n",
    "\n",
    "%env WANDB_PROJECT=evaluate_LM_with_rationalization"
   ]
  },
  {
   "cell_type": "code",
   "execution_count": 2,
   "id": "30300ea6",
   "metadata": {},
   "outputs": [],
   "source": [
    "# import gpt3\n",
    "import logging\n",
    "import math\n",
    "import os\n",
    "\n",
    "from typing import List, Dict, Any, NewType\n",
    "\n",
    "InputDataClass = NewType(\"InputDataClass\", Any)\n",
    "os.environ[\"CUDA_VISIBLE_DEVICES\"] = \"1\"\n",
    "from transformers import (\n",
    "    T5Config,\n",
    "    T5ForConditionalGeneration,\n",
    "    T5Tokenizer,\n",
    "    HfArgumentParser,\n",
    "    TrainingArguments,\n",
    "    set_seed,\n",
    "    EarlyStoppingCallback\n",
    ")\n",
    "from transformers.trainer_utils import EvaluationStrategy\n",
    "from transformers.integrations import TensorBoardCallback\n",
    "import transformers\n",
    "from transformers import Trainer\n",
    "\n",
    "#from feature_conversion_methods import format_instance\n",
    "\n",
    "from custom_args import (\n",
    "    DataTrainingArguments,\n",
    "    ModelArguments\n",
    ")\n",
    "from metrics import evaluate\n",
    "import torch\n",
    "import datasets\n",
    "import git\n",
    "import time\n",
    "from datetime import datetime\n",
    "import sys\n",
    "from tqdm import trange\n",
    "import random \n",
    "import pandas as pd \n",
    "import jsonlines\n",
    "from copy import deepcopy \n",
    "\n",
    "logger = logging.getLogger(__name__)\n",
    "transformers.logging.set_verbosity_info()\n",
    "import re\n",
    "def set_global_logging_level(level=logging.ERROR, prefices=[\"\"]):\n",
    "    \"\"\"\n",
    "    Override logging levels of different modules based on their name as a prefix.\n",
    "    It needs to be invoked after the modules have been loaded so that their loggers have been initialized.\n",
    "\n",
    "    Args:\n",
    "        - level: desired level. e.g. logging.INFO. Optional. Default is logging.ERROR\n",
    "        - prefices: list of one or more str prefices to match (e.g. [\"transformers\", \"torch\"]). Optional.\n",
    "          Default is `[\"\"]` to match all active loggers.\n",
    "          The match is a case-sensitive `module_name.startswith(prefix)`\n",
    "    \"\"\"\n",
    "    prefix_re = re.compile(fr'^(?:{ \"|\".join(prefices) })')\n",
    "    for name in logging.root.manager.loggerDict:\n",
    "        if re.match(prefix_re, name):\n",
    "            logging.getLogger(name).setLevel(level)\n",
    "set_global_logging_level(logging.ERROR, [\"datasets\"])\n",
    "\n",
    "\n",
    "CONFIG_MAPPING = {\"t5\": T5Config}\n",
    "MODEL_MAPPING = {\"t5\": T5ForConditionalGeneration}\n",
    "TOKENIZER_MAPPING = {\"t5\": T5Tokenizer}\n",
    "\n",
    "\n",
    "def set_other_seeds(seed):\n",
    "    torch.backends.cudnn.benchmark = False\n",
    "    #torch.backends.cudnn.deterministic = True\n",
    "    os.environ['PYTHONHASHSEED'] = str(seed)\n",
    "\n",
    "# inspired by DefaultDataCollator from:\n",
    "# https://github.com/huggingface/transformers/blob/master/src/transformers/data/data_collator.py\n",
    "# modified to perform batch-level padding.\n",
    "class SequenceCollator:\n",
    "    def __init__(self, model, pad_token):\n",
    "        self.model = model\n",
    "        self.pad_token_mapping = {\n",
    "            \"labels\": -100,\n",
    "            \"attention_mask\": 0,\n",
    "            \"decoder_attention_mask\": 0,\n",
    "            \"input_ids\": pad_token,\n",
    "        }\n",
    "\n",
    "        self.columns = [\n",
    "            \"input_ids\",\n",
    "            \"attention_mask\",\n",
    "            \"labels\",\n",
    "            \"decoder_attention_mask\",\n",
    "        ]\n",
    "\n",
    "    def __call__(self, examples: List[Dict[str, InputDataClass]]) -> Dict[str, torch.Tensor]:\n",
    "        # re-format inputs for training\n",
    "        batch = {}\n",
    "        for key in examples[0].keys():\n",
    "            if key in self.columns:\n",
    "                tmp_list = []\n",
    "                for item in examples:\n",
    "                    tmp_list.append(item[key])\n",
    "\n",
    "                # pad lists to max length\n",
    "                if isinstance(tmp_list[0], list):\n",
    "                    max_length = max(map(len, tmp_list))\n",
    "                    tmp_list = [\n",
    "                        el + [self.pad_token_mapping[key]] * (max_length - len(el))\n",
    "                        for el in tmp_list\n",
    "                    ]\n",
    "\n",
    "                batch[key] = torch.tensor(tmp_list, dtype=torch.long)\n",
    "        return batch\n"
   ]
  },
  {
   "cell_type": "code",
   "execution_count": 3,
   "id": "2fa5a75a",
   "metadata": {},
   "outputs": [],
   "source": [
    "from collections import defaultdict\n",
    "import random\n",
    "\"\"\"\n",
    "Example-to-Feature conversion methods\n",
    "Modified from\n",
    "https://github.com/salesforce/cos-e/blob/master/code/generation/train_commonsenseqa_v1.0.py and \"\"_v1.11.py (identical)\n",
    "as well as Tensorflow code for WTF?: \n",
    "https://github.com/google-research/google-research/blob/master/wt5/wt5/preprocessors.py\n",
    "\"\"\"\n",
    "# This code is based on https://github.com/allenai/label_rationale_association/blob/main/feature_conversion_methods.py\n",
    "\n",
    "unified_qa_esnli_label_mapping = {0: 'yes', 1: 'maybe', 2: 'no'}\n",
    "unified_qa_esnli_label_mapping_upper = {0: 'Yes', 1: 'Maybe', 2: 'No'} \n",
    "wt5_esnli_label_mapping = {0: 'entailment', 1: 'neutral', 2: 'contradiction'} \n",
    "unified_qa_sbic_label_mapping = {\"offensive\": 'Yes', \"not offensive\": 'No'}\n",
    "\n",
    "def format_instance(\n",
    "        example,\n",
    "        tokenizer,\n",
    "        explanation_sep,\n",
    "        max_seq_length=None,\n",
    "        datasource=None,\n",
    "        io_format=None, \n",
    "):\n",
    "    assert datasource in {\"cos_e\", \"esnli\", \"sbic\", \"sensemaking\", \"ecqa\"}\n",
    "\n",
    "    if datasource in [\"cos_e\", \"ecqa\"]:\n",
    "        input_string, answer_string = cqa_formatting(example, io_format, explanation_sep, datasource)\n",
    "    elif datasource == \"esnli\":\n",
    "        input_string, answer_string = esnli_formatting(example, io_format, explanation_sep)\n",
    "    elif datasource == 'sbic':\n",
    "        input_string, answer_string = sbic_formatting(example, io_format, explanation_sep)\n",
    "    elif datasource == 'sensemaking':\n",
    "        input_string, answer_string = sensemaking_formatting(example, io_format, explanation_sep)\n",
    "    else:\n",
    "        raise ValueError(\"Unknown task. Currently supported: esnli, cos_e, sbic, sensemaking, ecqa.\")\n",
    "    \n",
    "    if 'unified' in io_format and 'unifew' not in io_format:\n",
    "        input_string += '</s>'\n",
    "\n",
    "    input_string = ' '.join(input_string.split())\n",
    "    answer_string = ' '.join(answer_string.split())\n",
    "\n",
    "    input_string = ' '.join(input_string.split())\n",
    "    answer_string = ' '.join(answer_string.split())\n",
    "\n",
    "    encodings = tokenizer.encode_plus(\n",
    "        input_string,\n",
    "        max_length=max_seq_length,\n",
    "        pad_to_max_length=False,\n",
    "        return_token_type_ids=False,\n",
    "        return_attention_mask=True,\n",
    "    )\n",
    "\n",
    "\n",
    "    # note even with \"lm_labels.shift_right()\", the decoder attention mask length is still correct since we remove the last token\n",
    "    dec = tokenizer.encode_plus(\n",
    "        answer_string,\n",
    "        max_length=max_seq_length,\n",
    "        pad_to_max_length=False,\n",
    "        return_token_type_ids=False,\n",
    "        return_attention_mask=True,\n",
    "    )\n",
    "\n",
    "    encodings[\"labels\"] = dec[\"input_ids\"]\n",
    "    encodings[\"decoder_attention_mask\"] = dec[\"attention_mask\"]\n",
    "    encodings[\"question_encoding\"] = encodings[\"input_ids\"]\n",
    "\n",
    "    #return encodings\n",
    "    return {**example, **encodings}\n",
    "\n",
    "#这里很简单 定义好输入输出string就可以的\n",
    "def cqa_formatting(item, io_format, explanation_sep, datasource):\n",
    "    question = item[\"question\"]\n",
    "    answer = item[\"answer\"]\n",
    "    abstr_expl = item[\"abstractive_explanation\"].lower() if datasource == 'cos_e' else item[\"explanation\"].lower()\n",
    "\n",
    "\n",
    "    if io_format == 't5_fewshot_infilling_with_choices':\n",
    "        input_string = f\"explain {datasource} question: {question} choice: \" + \" choice: \".join(item[\"choices\"]) + f\" <extra_id_0> {explanation_sep} <extra_id_1>\"\n",
    "        answer_string = f\"<extra_id_0> {answer} <extra_id_1> {abstr_expl} <extra_id_2>\"\n",
    "    elif io_format == 't5_fewshot_infilling_more_natural':\n",
    "        input_string = f\"explain {datasource} question: {question} choice: \" + \" choice: \".join(item[\"choices\"]) + f\" The answer is <extra_id_0> {explanation_sep} <extra_id_1>\"\n",
    "        answer_string = f\"<extra_id_0> {answer} <extra_id_1> {abstr_expl} <extra_id_2>\"\n",
    "    elif io_format == \"squad\": \n",
    "        input_string = f\"explain {datasource} question: {question} context: \" + ', '.join(item['choices']) # explain cos_e question: When getting in shape you need to have this in between workouts? context: give up, period of recovery, jogging\n",
    "        answer_string = f\"{answer} {explanation_sep} {abstr_expl}\" # period of recovery because without a period of recovery you will not get any gains.\n",
    "    elif io_format == \"record\": \n",
    "        # might not work because cos_e doesn't have a passage \n",
    "        input_string = f\"explain {datasource} query: {question} entities: \" + ', '.join(item['choices']) # explain cos_e query: When getting in shape you need to have this in between workouts? entities: give up, period of recovery, jogging\n",
    "        answer_string = f\"{answer} {explanation_sep} {abstr_expl}\" # period of recovery because without a period of recovery you will not get any gains.\n",
    "    elif io_format == 'unifiedqa_matching':\n",
    "        choice_ids = ['(A)', '(B)', '(C)', '(D)', '(E)']\n",
    "        input_string = f'explain {question.lower()} \\\\n'\n",
    "        for choice_id, choice in zip(choice_ids, item[\"choices\"]):\n",
    "            input_string += f' {choice_id} {choice.lower()}'\n",
    "        answer_string = f\"{answer.lower()} {explanation_sep} {abstr_expl.lower()}\"\n",
    "        answer_string = answer_string.lower()\n",
    "    elif io_format == 't5_fewshot_infilling_without_choices_use_refined_expl':\n",
    "        input_string = f\"explain {datasource} question: {question} choice: \" + \" choice: \".join(item[\"choices\"]) + f\" <extra_id_0> {explanation_sep} <extra_id_1>\"\n",
    "        input_string = f\"explain {datasource} question: {question} answer: {answer}\" + f\" {explanation_sep} <extra_id_0>\"\n",
    "        answer_string = f\"<extra_id_0> {item['our_explanation']} <extra_id_1>\"\n",
    "\n",
    "    else:\n",
    "        raise ValueError(\"The IO format is not supported. Choose `standard` or `masked_cause_generate`.\")\n",
    "    \n",
    "    return input_string, answer_string\n",
    "\n",
    "\n",
    "def esnli_formatting(item, io_format, explanation_sep):\n",
    "\n",
    "    premise = item[\"premise\"]\n",
    "    hypothesis = item[\"hypothesis\"]\n",
    "    answer = unified_qa_esnli_label_mapping[item[\"label\"]] if 'unified' in io_format else wt5_esnli_label_mapping[item[\"label\"]]\n",
    "    abstr_expl = item[\"explanation_1\"].lower() \n",
    "    # Dev/test instances have more than one explanation annotated; merge them into one sequence separated by [SEP] \n",
    "    for k in [2,3]:\n",
    "        if f\"explanation_{k}\" in item and item[f'explanation_{k}']!='': \n",
    "            abstr_expl += f\" [SEP] {item[f'explanation_{k}'].lower()}\"\n",
    "\n",
    "    if io_format == 'standard':\n",
    "        input_string = f\"explain nli hypothesis: {hypothesis} premise: {premise}\"\n",
    "        answer_string = f\"{answer} {explanation_sep} {abstr_expl}\"\n",
    "    elif io_format == 't5_fewshot_infilling':\n",
    "        input_string = f\"explain nli hypothesis: {hypothesis} premise: {premise} <extra_id_0> {explanation_sep} <extra_id_1>\"\n",
    "        answer_string = f\"<extra_id_0> {answer} <extra_id_1> {abstr_expl} <extra_id_2>\"\n",
    "    elif io_format == 't5_fewshot_infilling_more_natural':\n",
    "        input_string = f\"explain nli hypothesis: {hypothesis} premise: {premise} This is <extra_id_0> {explanation_sep} <extra_id_1>\"\n",
    "        answer_string = f\"<extra_id_0> {answer} <extra_id_1> {abstr_expl} <extra_id_2>\"\n",
    "    elif io_format == \"squad\": \n",
    "        input_string = f\"explain nli question: Is this entailment? context: {hypothesis} {premise}\"  \n",
    "        answer_ynm = unified_qa_esnli_label_mapping[item[\"label\"]]\n",
    "        answer_string = f\"{answer_ynm} {explanation_sep} {abstr_expl}\" \n",
    "    elif io_format == \"squad_endswith_what\":\n",
    "        input_string = f\"explain nli question: What is this? context: {hypothesis} {premise}\"  \n",
    "        answer_string = f\"{answer} {explanation_sep} {abstr_expl}\"  \n",
    "    elif io_format == \"squad_nli_mix\": \n",
    "        input_string = f\"explain nli question: Is this entailment? context: hypothesis: {hypothesis} premise: {premise}\"  \n",
    "        answer_ynm = unified_qa_esnli_label_mapping[item[\"label\"]]\n",
    "        answer_string = f\"{answer_ynm} {explanation_sep} {abstr_expl}\"  \n",
    "    elif io_format == \"squad_nli_mix_endswith_what\":  \n",
    "        input_string = f\"explain nli question: What is this? context: hypothesis: {hypothesis} premise: {premise}\"  \n",
    "        answer_string = f\"{answer} {explanation_sep} {abstr_expl}\"   \n",
    "    elif io_format == 'unifiedqa_unifew':\n",
    "        hypothesis = hypothesis.lower().rstrip('.')\n",
    "        unified_qa_esnli_label_mapping_upper = {0: 'Yes', 1: 'Maybe', 2: 'No'}\n",
    "        answer = unified_qa_esnli_label_mapping_upper[item[\"label\"]]\n",
    "        input_string = f'explain {premise} Is {hypothesis}? \\\\n (A) Yes (B) Maybe (C) No'\n",
    "        answer_string = f\"{answer} {explanation_sep} {abstr_expl}\"  \n",
    "    elif io_format == 'unifiedqa_unifew_nli_mix':\n",
    "        premise = premise.lower().rstrip('.')\n",
    "        unified_qa_esnli_label_mapping_upper = {0: 'Yes', 1: 'Maybe', 2: 'No'}\n",
    "        input_string = f'explain hypothesis: {hypothesis} Is premise: {premise}? \\\\n (A) Yes (B) Maybe (C) No'\n",
    "        answer_string = f\"{answer} {explanation_sep} {abstr_expl}\"  \n",
    "    elif io_format == 'unifiedqa_ynm': \n",
    "        input_string = f'explain is this entailment? \\\\n {hypothesis.lower()} {premise.lower()}'  \n",
    "        answer = unified_qa_esnli_label_mapping[item[\"label\"]]\n",
    "        answer_string = f\"{answer} {explanation_sep} {abstr_expl.lower()}\"  \n",
    "    elif io_format == 'unifiedqa_snli_mix_ynm': \n",
    "        input_string = f'explain is this entailment? \\\\n hypothesis: {hypothesis.lower()} premise: {premise.lower()}' \n",
    "        answer = unified_qa_esnli_label_mapping[item[\"label\"]]\n",
    "        answer_string = f\"{answer} {explanation_sep} {abstr_expl.lower()}\"  \n",
    "    elif io_format == 'unifiedqa_snli_mix_ynm_with_choices': \n",
    "        input_string = f'explain is this entailment? \\\\n (A) yes (B) maybe (C) no \\\\n hypothesis: {hypothesis.lower()} premise: {premise.lower()}'  \n",
    "        answer = unified_qa_esnli_label_mapping[item[\"label\"]]\n",
    "        answer_string = f\"{answer} {explanation_sep} {abstr_expl.lower()}\"  \n",
    "    elif io_format == 'unifiedqa_what_v2': \n",
    "        input_string = f'explain what is this? \\\\n {hypothesis.lower()} {premise.lower()}'  \n",
    "        answer = wt5_esnli_label_mapping[item[\"label\"]]\n",
    "        answer_string = f\"{answer} {explanation_sep} {abstr_expl.lower()}\"  \n",
    "    elif io_format == 'unifiedqa_snli_mix_what_v2': \n",
    "        input_string = f'explain what is this? \\\\n hypothesis: {hypothesis.lower()} premise: {premise.lower()}'  \n",
    "        answer = wt5_esnli_label_mapping[item[\"label\"]]\n",
    "        answer_string = f\"{answer} {explanation_sep} {abstr_expl.lower()}\"  \n",
    "    elif io_format == 'unifiedqa_snli_mix_what_with_choices_v2': \n",
    "        input_string = f'explain what is this? \\\\n (A) entailment (B) neutral (C) contradiction \\\\n hypothesis: {hypothesis.lower()} premise: {premise.lower()}'  \n",
    "        answer = wt5_esnli_label_mapping[item[\"label\"]]\n",
    "        answer_string = f\"{answer} {explanation_sep} {abstr_expl.lower()}\"     \n",
    "    else:\n",
    "        raise ValueError(\"The IO format is not supported.\")\n",
    "\n",
    "    return input_string, answer_string\n",
    "\n",
    "\n",
    "def sbic_formatting(item, io_format, explanation_sep):\n",
    "    # We pre-processed the SBIC dataset such that we join multiple implied statements with the [SEP] token for dev/test instances \n",
    "    # Each annotation in the training split is a separate instance\n",
    "    post = item['post']\n",
    "    answer = unified_qa_sbic_label_mapping[item[\"offensiveYN\"]] if 'unified' in io_format else item[\"offensiveYN\"].replace(\"not offensive\", \"not_offensive\")\n",
    "    abstr_expl = item[\"targetStereotype\"]\n",
    "    \n",
    "\n",
    "    if io_format == 'cola':\n",
    "        input_string = f\"explain sbic sentence: {post}\"\n",
    "        answer_string = f\"{answer} {explanation_sep} {abstr_expl}\"  \n",
    "    elif io_format == 't5_fewshot_infilling':\n",
    "        input_string = f\"explain sbic sentence: {post} <extra_id_0> {explanation_sep} <extra_id_1>\"\n",
    "        answer_string = f\"<extra_id_0> {answer} <extra_id_1> {abstr_expl} <extra_id_2>\"\n",
    "    elif io_format == 't5_fewshot_infilling_bool':\n",
    "        answer_bool = 'True' if item[\"offensiveYN\"] == 'offensive' else 'False'\n",
    "        input_string = f\"explain sbic sentence: {post} It is <extra_id_0> that this is offensive {explanation_sep} <extra_id_1>\"\n",
    "        answer_string = f\"<extra_id_0> {answer} <extra_id_1> {abstr_expl} <extra_id_2>\"\n",
    "    elif io_format == 't5_fewshot_infilling_more_natural':\n",
    "        input_string = f\"explain sbic sentence: {post} This is <extra_id_0> {explanation_sep} <extra_id_1>\"\n",
    "        answer_string = f\"<extra_id_0> {answer} <extra_id_1> {abstr_expl} <extra_id_2>\"\n",
    "    elif io_format == 'squad_yn': \n",
    "        input_string = f\"explain sbic question: Is this offensive? context: {post}\" # explain sbic question: Is this offensive? context: It's only happened to you like two times.\n",
    "        answer_yn = unified_qa_sbic_label_mapping[item[\"offensiveYN\"]] \n",
    "        answer_string = f\"{answer_yn} {explanation_sep} {abstr_expl}\" #  No because this post does not imply anything offensive\n",
    "    elif io_format == 'squad_yn_with_tags': \n",
    "        input_string = f\"explain sbic question: Is this offensive? context: post: {post}\" # explain sbic question: Is this offensive? context: It's only happened to you like two times.\n",
    "        answer_yn = unified_qa_sbic_label_mapping[item[\"offensiveYN\"]] \n",
    "        answer_string = f\"{answer_yn} {explanation_sep} {abstr_expl}\" #  No because this post does not imply anything offensive\n",
    "    elif io_format == 'squad_what': \n",
    "        input_string = f\"explain sbic question: What is this? context: {post}\" # explain sbic question: This is what? context: It's only happened to you like two times.\n",
    "        answer = item[\"offensiveYN\"].replace(\"not offensive\", \"not_offensive\")        \n",
    "        answer_string = f\"{answer} {explanation_sep} {abstr_expl}\" # not_offensive because this post does not imply anything offensive    \n",
    "    elif io_format == 'squad_what_with_tags': \n",
    "        input_string = f\"explain sbic question: What is this? context: post: {post}\" # explain sbic question: This is what? context: It's only happened to you like two times.\n",
    "        answer = item[\"offensiveYN\"].replace(\"not offensive\", \"not_offensive\")        \n",
    "        answer_string = f\"{answer} {explanation_sep} {abstr_expl}\" # not_offensive because this post does not imply anything offensive    \n",
    "    elif io_format == 'unified_qa_yn':\n",
    "        input_string = f'explain is this offensive? \\\\n {post.lower()}'\n",
    "        answer_string = f\"{answer} {explanation_sep} {abstr_expl.lower()}\" \n",
    "    elif io_format == 'unified_qa_yn_with_tags':\n",
    "        input_string = f'explain is this offensive? \\\\n post: {post.lower()}'\n",
    "        answer_string = f\"{answer} {explanation_sep} {abstr_expl.lower()}\"  \n",
    "    elif io_format == 'unified_qa_yn_with_choices':\n",
    "        input_string = f'explain is this offensive? \\\\n (A) yes (B) no \\\\n {post.lower()}'\n",
    "        answer_string = f\"{answer} {explanation_sep} {abstr_expl.lower()}\"\n",
    "    elif io_format == 'unified_qa_yn_with_choices_and_tags':\n",
    "        input_string = f'explain is this offensive? \\\\n (A) yes (B) no \\\\n post: {post.lower()}'\n",
    "        answer_string = f\"{answer} {explanation_sep} {abstr_expl.lower()}\"  \n",
    "    elif io_format == 'unified_qa_what':\n",
    "        input_string = f'explain what is this? \\\\n {post.lower()}'\n",
    "        answer = item[\"offensiveYN\"].replace(\"not offensive\", \"not_offensive\")\n",
    "        answer_string = f\"{answer} {explanation_sep} {abstr_expl.lower()}\"  \n",
    "    elif io_format == 'unified_qa_what_with_tags':\n",
    "        input_string = f'explain what is this? \\\\n post: {post.lower()}'\n",
    "        answer = item[\"offensiveYN\"].replace(\"not offensive\", \"not_offensive\")\n",
    "        answer_string = f\"{answer} {explanation_sep} {abstr_expl.lower()}\"  \n",
    "    elif io_format == 'unified_qa_what_with_choices':\n",
    "        input_string = f'explain what is this? \\\\n (A) offensive (B) not_offensive \\\\n {post.lower()}'\n",
    "        answer = item[\"offensiveYN\"].replace(\"not offensive\", \"not_offensive\")\n",
    "        answer_string = f\"{answer} {explanation_sep} {abstr_expl.lower()}\"\n",
    "    elif io_format == 'unified_qa_what_with_choices_and_tags':\n",
    "        input_string = f'explain what is this? \\\\n (A) offensive (B) not_offensive \\\\n post: {post.lower()}'\n",
    "        answer = item[\"offensiveYN\"].replace(\"not offensive\", \"not_offensive\")\n",
    "        answer_string = f\"{answer} {explanation_sep} {abstr_expl.lower()}\"  \n",
    "    elif io_format == 'unifiedqa_unifew':\n",
    "        input_string = f\"Topic? \\\\n (A) offensive (B) not_offensive \\\\n {post}\"\n",
    "        answer = item[\"offensiveYN\"].replace(\"not offensive\", \"not_offensive\")\n",
    "        answer_string = f\"{answer} {explanation_sep} {abstr_expl}\"\n",
    "    else:\n",
    "        raise ValueError(\"The IO format is not supported. Choose `standard` or `masked_cause_generate`.\")\n",
    "\n",
    "    input_string = ' '.join(input_string.split())\n",
    "    answer_string = ' '.join(answer_string.split())\n",
    "    return input_string, answer_string\n",
    "\n",
    "def sensemaking_formatting(item, io_format, explanation_sep):\n",
    "    # TODO: explore whether removing periods makes difference? \n",
    "    sent0 = item['sent0']\n",
    "    sent1 = item['sent1']\n",
    "    nonsensical_sentence = str(int(item['label'])+1)\n",
    "    explanation = item['explanation'].lower()\n",
    "\n",
    "    if io_format == 'copa_with_question':\n",
    "        input_string = f\"explain sensemaking choice1: {sent0} choice2: {sent1} question: nonsensical\"\n",
    "        answer_string = f\"choice{nonsensical_sentence} {explanation_sep} {explanation}\"\n",
    "    elif io_format == 'copa_bool':  \n",
    "        answer_bool = str(bool(int(item['label']))) # True if choice2 is more nonsensical    \n",
    "        input_string = f\"explain sensemaking choice1: {sent0} choice2: {sent1} Less common is choice2\"\n",
    "        answer_string = f\"{answer_bool} {explanation_sep} {explanation}\"\n",
    "    elif io_format == 't5_fewshot_infilling':  \n",
    "        input_string = f\"explain sensemaking choice1: {sent0} choice2: {sent1} <extra_id_0> {explanation_sep} <extra_id_1>\"\n",
    "        answer_string = f\"<extra_id_0> choice{nonsensical_sentence} <extra_id_1> {explanation} <extra_id_2>\"\n",
    "    elif io_format == 't5_fewshot_infilling_bool':  \n",
    "        answer_bool = str(bool(int(item['label']))) # True if choice2 is more nonsensical    \n",
    "        input_string = f\"explain sensemaking choice1: {sent0} choice2: {sent1} It is <extra_id_0> that choice2 is less common {explanation_sep} <extra_id_1>\"\n",
    "        answer_string = f\"<extra_id_0> {answer_bool} <extra_id_1> {explanation} <extra_id_2>\"\n",
    "    elif io_format == \"squad_yn\": \n",
    "        input_string = f\"explain sensemaking question: Is choice2 more nonsensical? context: choice1: {sent0} choice2: {sent1}\" # explain sensemaking question: What is nonsensical, choice1 or choice2? context: choice1: All state flowers are the scarlet carnation. choice2: The New Jersey state flower is the scarlet carnation\n",
    "        answer = \"Yes\" if bool(int(item['label'])) else \"No\"\n",
    "        answer_string = f\"{answer} {explanation_sep} {explanation}\" #  choice1 because state flowers are unique to each state.  \n",
    "    elif io_format == \"squad_yn_no_tags\": \n",
    "        input_string = f\"explain sensemaking question: Is choice2 more nonsensical? context: {sent0} {sent1}\" # explain sensemaking question: What is nonsensical, choice1 or choice2? context: choice1: All state flowers are the scarlet carnation. choice2: The New Jersey state flower is the scarlet carnation\n",
    "        answer = \"Yes\" if bool(int(item['label'])) else \"No\"\n",
    "        answer_string = f\"{answer} {explanation_sep} {explanation}\" #  choice1 because state flowers are unique to each state.  \n",
    "    elif io_format == \"squad_what\": \n",
    "        input_string = f\"explain sensemaking question: What is more nonsensical? context: choice1: {sent0} choice2: {sent1}\" # explain sensemaking question: What is nonsensical, choice1 or choice2? context: choice1: All state flowers are the scarlet carnation. choice2: The New Jersey state flower is the scarlet carnation\n",
    "        answer_string = f\"choice{nonsensical_sentence} {explanation_sep} {explanation}\" #  choice1 because state flowers are unique to each state.  \n",
    "    elif io_format == \"squad_what_no_tags\": \n",
    "        input_string = f\"explain sensemaking question: What is more nonsensical? context: {sent0} {sent1}\" # explain sensemaking question: What is nonsensical, choice1 or choice2? context: choice1: All state flowers are the scarlet carnation. choice2: The New Jersey state flower is the scarlet carnation\n",
    "        answer_string = f\"choice{nonsensical_sentence} {explanation_sep} {explanation}\" #  choice1 because state flowers are unique to each state.  \n",
    "    elif io_format == \"record\": \n",
    "        input_string = f\"explain sensemaking query: What is more nonsensical? entities: choice1, choice2 passage: choice1: {sent0} choice2: {sent1}\" # explain sensemaking query: What is nonsensical? entities: choice1, choice2 passage: choice1: All state flowers are the scarlet carnation. choice2: The New Jersey state flower is the scarlet carnation.\n",
    "        answer_string = f\"choice{nonsensical_sentence} {explanation_sep} {explanation}\" # choice1 because state flowers are unique to each state.\n",
    "    elif io_format == 'unifiedqa_yn_with_choices':\n",
    "        answer = \"yes\" if bool(int(item['label'])) else \"no\"\n",
    "        input_string = f'explain is choice2 more nonsensical? \\\\n (A) yes (B) no \\\\n choice1: {sent0.lower()} choice2: {sent1.lower()}'\n",
    "        answer_string = f\"{answer} {explanation_sep} {explanation.lower()}\" \n",
    "    elif io_format == 'unifiedqa_yn':\n",
    "        answer = \"yes\" if bool(int(item['label'])) else \"no\"\n",
    "        input_string = f'explain is choice2 more nonsensical? \\\\n choice1: {sent0.lower()} choice2: {sent1.lower()}'\n",
    "        answer_string = f\"{answer} {explanation_sep} {explanation.lower()}\"  \n",
    "    elif io_format == 'unifiedqa_yn_no_tags':\n",
    "        answer = \"yes\" if bool(int(item['label'])) else \"no\"\n",
    "        input_string = f'explain is choice2 more nonsensical? \\\\n {sent0.lower()} {sent1.lower()}'\n",
    "        answer_string = f\"{answer} {explanation_sep} {explanation.lower()}\"  \n",
    "    elif io_format == 'unifiedqa_what_with_choices':\n",
    "        nonsensical_sentence = str(int(item['label'])+1)\n",
    "        input_string = f'explain what is more nonsensical? \\\\n (A) choice1 (B) choice2 \\\\n choice1: {sent0.lower()} choice2: {sent1.lower()}'\n",
    "        answer_string = f\"choice{nonsensical_sentence} {explanation_sep} {explanation.lower()}\"  # use \" BECAUSE \"\n",
    "    elif io_format == 'unifiedqa_what':\n",
    "        nonsensical_sentence = str(int(item['label'])+1)\n",
    "        input_string = f'explain what is more nonsensical? \\\\n choice1: {sent0.lower()} choice2: {sent1.lower()}'\n",
    "        answer_string = f\"choice{nonsensical_sentence} {explanation_sep} {explanation.lower()}\"  # use \" BECAUSE \"\n",
    "    elif io_format == 'unifiedqa_what_no_tags':\n",
    "        nonsensical_sentence = str(int(item['label'])+1)\n",
    "        input_string = f'explain what is more nonsensical? \\\\n {sent0.lower()} {sent1.lower()}'\n",
    "        answer_string = f\"choice{nonsensical_sentence} {explanation_sep} {explanation.lower()}\"  # use \" BECAUSE \"\n",
    "\n",
    "\n",
    "    input_string = ' '.join(input_string.split())\n",
    "    answer_string = ' '.join(answer_string.split())\n",
    "    return input_string, answer_string"
   ]
  },
  {
   "cell_type": "code",
   "execution_count": 4,
   "id": "dde6c7e1",
   "metadata": {},
   "outputs": [
    {
     "name": "stderr",
     "output_type": "stream",
     "text": [
      "PyTorch: setting up devices\n",
      "The default value for the training argument `--report_to` will change in v5 (from all installed integrations to none). In v5, you will need to use `--report_to all` to get the same behavior as now. You should start updating your code and make this info disappear :-).\n",
      "01/12/2023 10:57:41 - WARNING - __main__ -   Process rank: -1, device: cuda:0, n_gpu: 1, distributed training: False, 16-bits training: False\n",
      "01/12/2023 10:57:41 - INFO - __main__ -   Save path: ./cos_e_output_t5_large/011223_105741\n",
      "01/12/2023 10:57:41 - INFO - __main__ -   Git branch: dev\n",
      "01/12/2023 10:57:41 - INFO - __main__ -   Git hash: 1cbb5c3b4e53baf31cbafc20d9655c63f091f901\n"
     ]
    }
   ],
   "source": [
    "og_start_time = time.time()\n",
    "\n",
    "#parser = HfArgumentParser(\n",
    "#    (ModelArguments, DataTrainingArguments, TrainingArguments)\n",
    "#)\n",
    "parser = HfArgumentParser(\n",
    "    (ModelArguments, DataTrainingArguments, TrainingArguments)\n",
    ")\n",
    "\n",
    "model_args, data_args, training_args, unused_args = parser.parse_args_into_dataclasses(\n",
    "    [\"--model_type\", \"t5-3b\",\n",
    "     \"--tokenizer_name\", \"t5-3b\",\n",
    "     \"--task_name\", \"cos_e\", \n",
    "     \"--output_dir\", \"./cos_e_output_t5_large\", \n",
    "     \"--n_shots\", \"10\",\n",
    "     \"--do_train\", \"True\"], return_remaining_strings=True)\n",
    "if unused_args != []:\n",
    "    raise ValueError(f\"Received unused arguments: {unused_args}\")\n",
    "# make sure only one dataset split pick if manually specifying evaluation file\n",
    "\n",
    "if model_args.use_gpt3:\n",
    "    assert training_args.do_train\n",
    "    assert not training_args.do_eval\n",
    "    assert data_args.generations_filepath is None\n",
    "    if data_args.gpt3_max_eval_size is not None:\n",
    "        assert data_args.gpt3_max_eval_size <= data_args.fewshot_eval_size\n",
    "        assert data_args.gpt3_max_eval_size % 2 == 0\n",
    "        assert data_args.gpt3_max_eval_size % 3 == 0\n",
    "\n",
    "if data_args.generations_filepath is not None:\n",
    "    training_args.do_train = False\n",
    "    training_args.do_eval = False\n",
    "    if \"train\" in data_args.generations_filepath:\n",
    "        data_args.train_predict = True\n",
    "        data_args.test_predict = False\n",
    "        data_args.dev_predict = False\n",
    "    elif \"test\" in data_args.generations_filepath:\n",
    "        data_args.train_predict = False\n",
    "        data_args.test_predict = True\n",
    "        data_args.dev_predict = False\n",
    "    elif \"validation\" in data_args.generations_filepath:\n",
    "        data_args.train_predict = False\n",
    "        data_args.test_predict = False\n",
    "        data_args.dev_predict = True\n",
    "\n",
    "if not training_args.do_train and data_args.generations_filepath is None:\n",
    "    if not model_args.pretrained_model_file:\n",
    "        raise Exception(\n",
    "            \"if not training a model from scratch, must specify a trained model to load for evaluation\"\n",
    "        )\n",
    "\n",
    "if training_args.do_train:\n",
    "    # create a save directory and a logfile\n",
    "    training_args.output_dir = os.path.join(\n",
    "        training_args.output_dir, datetime.now().strftime(\"%m%d%y_%H%M%S\")\n",
    "    )\n",
    "    training_args.logging_dir = training_args.output_dir\n",
    "    assert not os.path.exists(training_args.output_dir)\n",
    "    os.makedirs(training_args.output_dir)\n",
    "\n",
    "    if (\n",
    "            os.path.exists(training_args.output_dir)\n",
    "            and os.listdir(training_args.output_dir)\n",
    "            and training_args.do_train\n",
    "            and not training_args.overwrite_output_dir\n",
    "    ):\n",
    "        raise ValueError(\n",
    "            f\"Output directory ({training_args.output_dir}) already exists and is not empty. Use --overwrite_output_dir to overcome.\"\n",
    "        )\n",
    "    handlers = [\n",
    "        logging.FileHandler(os.path.join(training_args.output_dir, \"logger.log\")),\n",
    "        logging.StreamHandler(),\n",
    "    ]\n",
    "else:\n",
    "    # don't overwrite existing logfile or create new directory\n",
    "    training_args.output_dir = model_args.pretrained_model_file\n",
    "    handlers = [logging.StreamHandler()]\n",
    "\n",
    "# Setup logging\n",
    "logging.basicConfig(\n",
    "    format=\"%(asctime)s - %(levelname)s - %(name)s -   %(message)s\",\n",
    "    datefmt=\"%m/%d/%Y %H:%M:%S\",\n",
    "    level=logging.INFO if training_args.local_rank in [-1, 0] else logging.WARN,\n",
    "    handlers=handlers,\n",
    ")\n",
    "logger.warning(\n",
    "    \"Process rank: %s, device: %s, n_gpu: %s, distributed training: %s, 16-bits training: %s\",\n",
    "    training_args.local_rank,\n",
    "    training_args.device,\n",
    "    training_args.n_gpu,\n",
    "    bool(training_args.local_rank != -1),\n",
    "    training_args.fp16,\n",
    ")\n",
    "logger.info(\"Save path: %s\" % training_args.output_dir)\n",
    "\n",
    "# get git hash and branch where deployed\n",
    "repo = git.Repo(search_parent_directories=True)\n",
    "git_hash = repo.head.object.hexsha\n",
    "git_branch = repo.active_branch.name\n",
    "logger.info(\"Git branch: %s\" % git_branch)\n",
    "logger.info(\"Git hash: %s\" % git_hash)\n",
    "\n",
    "model_class = \"t5\"\n",
    "assert data_args.task_name in {\"cos_e\", \"esnli\", \"sbic\", \"sensemaking\", \"ecqa\"}\n",
    "\n",
    "if training_args.do_train:\n",
    "    # write command and args to file\n",
    "    with open(\n",
    "            os.path.join(training_args.output_dir, \"commandline_args.txt\"), \"w\"\n",
    "    ) as f:\n",
    "        f.write(\"Git branch: \" + git_branch + \"\\n\")\n",
    "        f.write(\"Git hash: \" + git_hash + \"\\n\")\n",
    "        f.write(\"Command:\\n\")\n",
    "        f.write(\"\\n\".join(sys.argv[1:]))\n",
    "\n",
    "# Set seed\n",
    "set_seed(training_args.seed)\n",
    "set_other_seeds(training_args.seed)\n",
    "\n",
    "# Load pretrained model and tokenizer\n",
    "#\n",
    "# Distributed training:\n",
    "# The .from_pretrained methods guarantee that only one local process can concurrently\n",
    "# download model & vocab."
   ]
  },
  {
   "cell_type": "code",
   "execution_count": 5,
   "id": "684646b4",
   "metadata": {},
   "outputs": [
    {
     "data": {
      "text/plain": [
       "device(type='cuda', index=0)"
      ]
     },
     "execution_count": 5,
     "metadata": {},
     "output_type": "execute_result"
    }
   ],
   "source": [
    "training_args.set_device = \"cuda:0\"\n",
    "training_args.device"
   ]
  },
  {
   "cell_type": "code",
   "execution_count": 6,
   "id": "18a3172a",
   "metadata": {},
   "outputs": [
    {
     "name": "stderr",
     "output_type": "stream",
     "text": [
      "01/12/2023 10:57:41 - INFO - __main__ -   Loading pretrained tokenizer...\n",
      "loading file https://huggingface.co/t5-large/resolve/main/spiece.model from cache at /home/huangyongfeng/.cache/huggingface/transformers/71ee551f54e246045a7b94dd449c33759924b864712e6d235bbba5245c9f6296.3b69006860e7b5d0a63ffdddc01ddcd6b7c318a6f4fd793596552c741734c62d\n",
      "loading file https://huggingface.co/t5-large/resolve/main/added_tokens.json from cache at None\n",
      "loading file https://huggingface.co/t5-large/resolve/main/special_tokens_map.json from cache at None\n",
      "loading file https://huggingface.co/t5-large/resolve/main/tokenizer_config.json from cache at None\n",
      "loading file https://huggingface.co/t5-large/resolve/main/tokenizer.json from cache at /home/huangyongfeng/.cache/huggingface/transformers/276094e085ecb12227136f2e755dc1f68be6f5da32df55ebfb104c791fbbc3c1.8627f1bd5d270a9fd2e5a51c8bec3223896587cc3cfe13edeabb0992ab43c529\n",
      "loading configuration file https://huggingface.co/t5-large/resolve/main/config.json from cache at /home/huangyongfeng/.cache/huggingface/transformers/1adb1f57c3579debfcce7b94ee03f6144e0ff7a0c2825e48b3f9cde9ce290c7d.35a5d3297357a9ea0fccdf170df8d287f1cad2ee810bca042f98c531c0cab2c6\n",
      "Model config T5Config {\n",
      "  \"architectures\": [\n",
      "    \"T5WithLMHeadModel\"\n",
      "  ],\n",
      "  \"d_ff\": 4096,\n",
      "  \"d_kv\": 64,\n",
      "  \"d_model\": 1024,\n",
      "  \"decoder_start_token_id\": 0,\n",
      "  \"dropout_rate\": 0.1,\n",
      "  \"eos_token_id\": 1,\n",
      "  \"feed_forward_proj\": \"relu\",\n",
      "  \"gradient_checkpointing\": false,\n",
      "  \"initializer_factor\": 1.0,\n",
      "  \"is_encoder_decoder\": true,\n",
      "  \"layer_norm_epsilon\": 1e-06,\n",
      "  \"model_type\": \"t5\",\n",
      "  \"n_positions\": 512,\n",
      "  \"num_decoder_layers\": 24,\n",
      "  \"num_heads\": 16,\n",
      "  \"num_layers\": 24,\n",
      "  \"output_past\": true,\n",
      "  \"pad_token_id\": 0,\n",
      "  \"relative_attention_num_buckets\": 32,\n",
      "  \"task_specific_params\": {\n",
      "    \"summarization\": {\n",
      "      \"early_stopping\": true,\n",
      "      \"length_penalty\": 2.0,\n",
      "      \"max_length\": 200,\n",
      "      \"min_length\": 30,\n",
      "      \"no_repeat_ngram_size\": 3,\n",
      "      \"num_beams\": 4,\n",
      "      \"prefix\": \"summarize: \"\n",
      "    },\n",
      "    \"translation_en_to_de\": {\n",
      "      \"early_stopping\": true,\n",
      "      \"max_length\": 300,\n",
      "      \"num_beams\": 4,\n",
      "      \"prefix\": \"translate English to German: \"\n",
      "    },\n",
      "    \"translation_en_to_fr\": {\n",
      "      \"early_stopping\": true,\n",
      "      \"max_length\": 300,\n",
      "      \"num_beams\": 4,\n",
      "      \"prefix\": \"translate English to French: \"\n",
      "    },\n",
      "    \"translation_en_to_ro\": {\n",
      "      \"early_stopping\": true,\n",
      "      \"max_length\": 300,\n",
      "      \"num_beams\": 4,\n",
      "      \"prefix\": \"translate English to Romanian: \"\n",
      "    }\n",
      "  },\n",
      "  \"transformers_version\": \"4.9.2\",\n",
      "  \"use_cache\": true,\n",
      "  \"vocab_size\": 32128\n",
      "}\n",
      "\n",
      "loading configuration file https://huggingface.co/t5-large/resolve/main/config.json from cache at /home/huangyongfeng/.cache/huggingface/transformers/1adb1f57c3579debfcce7b94ee03f6144e0ff7a0c2825e48b3f9cde9ce290c7d.35a5d3297357a9ea0fccdf170df8d287f1cad2ee810bca042f98c531c0cab2c6\n",
      "Model config T5Config {\n",
      "  \"architectures\": [\n",
      "    \"T5WithLMHeadModel\"\n",
      "  ],\n",
      "  \"d_ff\": 4096,\n",
      "  \"d_kv\": 64,\n",
      "  \"d_model\": 1024,\n",
      "  \"decoder_start_token_id\": 0,\n",
      "  \"dropout_rate\": 0.1,\n",
      "  \"eos_token_id\": 1,\n",
      "  \"feed_forward_proj\": \"relu\",\n",
      "  \"gradient_checkpointing\": false,\n",
      "  \"initializer_factor\": 1.0,\n",
      "  \"is_encoder_decoder\": true,\n",
      "  \"layer_norm_epsilon\": 1e-06,\n",
      "  \"model_type\": \"t5\",\n",
      "  \"n_positions\": 512,\n",
      "  \"num_decoder_layers\": 24,\n",
      "  \"num_heads\": 16,\n",
      "  \"num_layers\": 24,\n",
      "  \"output_past\": true,\n",
      "  \"pad_token_id\": 0,\n",
      "  \"relative_attention_num_buckets\": 32,\n",
      "  \"task_specific_params\": {\n",
      "    \"summarization\": {\n",
      "      \"early_stopping\": true,\n",
      "      \"length_penalty\": 2.0,\n",
      "      \"max_length\": 200,\n",
      "      \"min_length\": 30,\n",
      "      \"no_repeat_ngram_size\": 3,\n",
      "      \"num_beams\": 4,\n",
      "      \"prefix\": \"summarize: \"\n",
      "    },\n",
      "    \"translation_en_to_de\": {\n",
      "      \"early_stopping\": true,\n",
      "      \"max_length\": 300,\n",
      "      \"num_beams\": 4,\n",
      "      \"prefix\": \"translate English to German: \"\n",
      "    },\n",
      "    \"translation_en_to_fr\": {\n",
      "      \"early_stopping\": true,\n",
      "      \"max_length\": 300,\n",
      "      \"num_beams\": 4,\n",
      "      \"prefix\": \"translate English to French: \"\n",
      "    },\n",
      "    \"translation_en_to_ro\": {\n",
      "      \"early_stopping\": true,\n",
      "      \"max_length\": 300,\n",
      "      \"num_beams\": 4,\n",
      "      \"prefix\": \"translate English to Romanian: \"\n",
      "    }\n",
      "  },\n",
      "  \"transformers_version\": \"4.9.2\",\n",
      "  \"use_cache\": true,\n",
      "  \"vocab_size\": 32128\n",
      "}\n",
      "\n",
      "loading weights file https://huggingface.co/t5-large/resolve/main/pytorch_model.bin from cache at /home/huangyongfeng/.cache/huggingface/transformers/750feca8cedcd171eb121bd47c3ae16924a473d89f334c7d22f83bfa3a6c80f6.62fbd66ec15bdf6e5322f44f1546f0d475cf07a90caca0912ead31408a83a319\n",
      "All model checkpoint weights were used when initializing T5ForConditionalGeneration.\n",
      "\n",
      "All the weights of T5ForConditionalGeneration were initialized from the model checkpoint at t5-large.\n",
      "If your task is similar to the task the model of the checkpoint was trained on, you can already use T5ForConditionalGeneration for predictions without further training.\n"
     ]
    }
   ],
   "source": [
    "import logging\n",
    "logger = logging.getLogger(__name__)\n",
    "CONFIG_MAPPING = {\"t5\": T5Config}\n",
    "MODEL_MAPPING = {\"t5\": T5ForConditionalGeneration}\n",
    "TOKENIZER_MAPPING = {\"t5\": T5Tokenizer}\n",
    "model_class = \"t5\"\n",
    "tokenizer_name = TOKENIZER_MAPPING[model_class]\n",
    "logger.info(\"Loading pretrained tokenizer...\")\n",
    "model_args.tokenizer_name='t5-large'\n",
    "tokenizer = tokenizer_name.from_pretrained(model_args.tokenizer_name)#, cache_dir=model_args.cache_dir)\n",
    "\n",
    "model = T5ForConditionalGeneration.from_pretrained(\"t5-large\")"
   ]
  },
  {
   "cell_type": "code",
   "execution_count": 7,
   "id": "62eef1a8",
   "metadata": {},
   "outputs": [
    {
     "data": {
      "text/plain": [
       "DataTrainingArguments(task_name='cos_e', early_stopping_patience=10, overwrite_cache=False, train_predict=False, test_predict=False, dev_predict=False, version_name='v1.11', generations_filepath=None, n_shots=10, fewshot_eval_size=350, io_format='t5_fewshot_infilling_without_choices_use_refined_expl', explanation_sep='explanation', data_path=None, gpt3_max_eval_size=None)"
      ]
     },
     "execution_count": 7,
     "metadata": {},
     "output_type": "execute_result"
    }
   ],
   "source": [
    "data_splits = {'train': None, 'validation': None, 'test': None}\n",
    "original_data_splits = {'train': None, 'validation': None, 'test': None}  \n",
    "data_args.io_format=\"t5_fewshot_infilling_without_choices_use_refined_expl\"\n",
    "data_args"
   ]
  },
  {
   "cell_type": "code",
   "execution_count": 8,
   "id": "efc49c0c",
   "metadata": {},
   "outputs": [
    {
     "data": {
      "application/json": {
       "ascii": false,
       "bar_format": null,
       "colour": null,
       "elapsed": 0.02007126808166504,
       "initial": 0,
       "n": 0,
       "ncols": null,
       "nrows": 60,
       "postfix": null,
       "prefix": "",
       "rate": null,
       "total": 2,
       "unit": "it",
       "unit_divisor": 1000,
       "unit_scale": false
      },
      "application/vnd.jupyter.widget-view+json": {
       "model_id": "c738e3a9336440689851387c98759a59",
       "version_major": 2,
       "version_minor": 0
      },
      "text/plain": [
       "  0%|          | 0/2 [00:00<?, ?it/s]"
      ]
     },
     "metadata": {},
     "output_type": "display_data"
    },
    {
     "data": {
      "text/plain": [
       "dict_keys(['choices', 'extractive_explanation', 'abstractive_explanation', 'question', 'id', 'answer'])"
      ]
     },
     "execution_count": 8,
     "metadata": {},
     "output_type": "execute_result"
    }
   ],
   "source": [
    "dataset = datasets.load_dataset(data_args.task_name, data_args.version_name)\n",
    "train_ids_list=[x['id'] for x in dataset[\"train\"]]\n",
    "dataset['train'][0].keys()"
   ]
  },
  {
   "cell_type": "code",
   "execution_count": 9,
   "id": "294780bc",
   "metadata": {},
   "outputs": [
    {
     "data": {
      "application/json": {
       "ascii": false,
       "bar_format": null,
       "colour": null,
       "elapsed": 0.013096809387207031,
       "initial": 0,
       "n": 0,
       "ncols": null,
       "nrows": 60,
       "postfix": null,
       "prefix": "",
       "rate": null,
       "total": 1,
       "unit": "it",
       "unit_divisor": 1000,
       "unit_scale": false
      },
      "application/vnd.jupyter.widget-view+json": {
       "model_id": "a95bec18b4264f4987885d315e23278e",
       "version_major": 2,
       "version_minor": 0
      },
      "text/plain": [
       "  0%|          | 0/1 [00:00<?, ?it/s]"
      ]
     },
     "metadata": {},
     "output_type": "display_data"
    },
    {
     "name": "stdout",
     "output_type": "stream",
     "text": [
      "[6723, 3269, 12, 6020, 7815, 0, 13, 7, 3556, 4587, 3166, 2607, 1999, 332, 8571, 2, 3520, 6, 1425, 2361, 3764, 7728, 8352, 1273, 5191, 496, 11, 8143, 6929, 4552, 4652, 7764, 6736, 401, 147, 8339, 3128, 5556, 8769, 4417, 8778, 7145, 1279, 6297, 7149, 5884, 10, 5747, 6273, 8, 9504, 8057, 1307, 2183, 1699, 88, 3228, 7178, 2140, 4048, 1041, 1, 3, 5868, 111, 7889, 5370, 8886, 2137, 6980, 9117, 1891, 7827, 1484, 14, 3668, 7090, 5, 7817, 6213, 4656, 5074, 7514, 5896, 4, 9, 7991, 58, 1887, 1598, 3994, 2212, 2274, 6830, 8826, 1604, 9008, 2013, 6521, 4793, 4338, 3923, 8091, 4904, 3938, 3900, 8156, 5806, 8363, 1787, 1496, 5753, 6351, 1104, 1222]\n"
     ]
    },
    {
     "data": {
      "text/plain": [
       "115"
      ]
     },
     "execution_count": 9,
     "metadata": {},
     "output_type": "execute_result"
    }
   ],
   "source": [
    "#rationale generation labeled data construction 115\n",
    "import pandas as pd\n",
    "scr_csqa_labeled_path=\"/cognitive_comp/huangyongfeng/evaluate_LM_with_rationalization/few_shot_explanations/data/handwritten_cose_v1.11_examples.csv\"\n",
    "scr_csqa_label_df=pd.read_csv(scr_csqa_labeled_path)\n",
    "scr_csqa_label_data=datasets.load_dataset('csv', data_files=scr_csqa_labeled_path)\n",
    "scr_csqa_label_ids_list=[x['id'] for x in scr_csqa_label_data['train']]\n",
    "scr_csqa_indexs_list=[train_ids_list.index(id_) for id_ in scr_csqa_label_ids_list]\n",
    "scr_csqa_label_our_explanations_list=[x['our_explanation'] for x in scr_csqa_label_data['train']]\n",
    "print(scr_csqa_indexs_list)\n",
    "data_splits={}\n",
    "data_splits['train']=dataset['train'].select(scr_csqa_indexs_list)\n",
    "\n",
    "refine_train_data=[]\n",
    "for kk, (ex,da) in enumerate(zip(scr_csqa_label_our_explanations_list, data_splits['train'])):\n",
    "#     print(da)\n",
    "    data_splits['train'][kk]['our_explanation']=ex\n",
    "    #print(type(data_splits['train'][kk]),data_splits['train'][kk].keys())\n",
    "    da['our_explanation']=ex\n",
    "    refine_train_data.append(da)\n",
    "\n",
    "len(data_splits['train'])"
   ]
  },
  {
   "cell_type": "code",
   "execution_count": 10,
   "id": "1d97f507",
   "metadata": {},
   "outputs": [
    {
     "data": {
      "application/json": {
       "ascii": false,
       "bar_format": null,
       "colour": null,
       "elapsed": 0.026442766189575195,
       "initial": 0,
       "n": 0,
       "ncols": null,
       "nrows": 60,
       "postfix": null,
       "prefix": "",
       "rate": null,
       "total": 1,
       "unit": "it",
       "unit_divisor": 1000,
       "unit_scale": false
      },
      "application/vnd.jupyter.widget-view+json": {
       "model_id": "052ac47587f846b89dc578145d9ea91d",
       "version_major": 2,
       "version_minor": 0
      },
      "text/plain": [
       "  0%|          | 0/1 [00:00<?, ?it/s]"
      ]
     },
     "metadata": {},
     "output_type": "display_data"
    },
    {
     "data": {
      "text/plain": [
       "{'id': '5b8a3081c3235d62bc77e2d15f3ad454',\n",
       " 'question': 'A town between two mountains is located in a what?',\n",
       " 'choices': ['valley', 'hospital', 'state', 'train station', 'michigan'],\n",
       " 'answer': 'valley',\n",
       " 'abstractive_explanation': 'valleys are always between two mountains',\n",
       " 'extractive_explanation': 'A town between two mountains',\n",
       " 'our_explanation': 'A valley is a low area between two mountains.'}"
      ]
     },
     "execution_count": 10,
     "metadata": {},
     "output_type": "execute_result"
    }
   ],
   "source": [
    "#rationale unlabeled data construction 991\n",
    "import pdb\n",
    "scr_csqa_unlabeled_test_file=\"/cognitive_comp/huangyongfeng/evaluate_LM_with_rationalization/few_shot_explanations/data/acceptability_annotations/commonsenseqa_test.csv\"\n",
    "fse_csqa_dev_dataset = datasets.load_dataset('csv', data_files=scr_csqa_unlabeled_test_file)\n",
    "scr_csqa_unlabeled_test_df=pd.read_csv(scr_csqa_unlabeled_test_file)\n",
    "fse_csqa_dev_data_dict={}\n",
    "for kk, da in enumerate(fse_csqa_dev_dataset['train']):\n",
    "    #pdb.set_trace()\n",
    "    id_=da['Input.id']\n",
    "    if da['Answer.acceptable']:\n",
    "        answer_accept=set(da['Answer.acceptable'].split('|'))\n",
    "    else:\n",
    "        answer_accept=set()\n",
    "    explanation_list=[da['Input.explanation_1'], \n",
    "                      da['Input.explanation_2'],\n",
    "                      da['Input.explanation_3'],\n",
    "                      da['Input.explanation_4'],\n",
    "                      da['Input.explanation_5']]\n",
    "    if id_ not in fse_csqa_dev_data_dict.keys():\n",
    "        fse_csqa_dev_data_dict[id_]={\"index\":kk,\"id\":id_,\n",
    "                                     \"question\":da[\"Input.question\"],\n",
    "                                     'answer':da['Input.gold_label'],\n",
    "                                     \"accept_set_list\":[answer_accept],\n",
    "                                     \"explanation_list\":explanation_list}\n",
    "        #[[kk, id_, answer_accept, explanation_list]]\n",
    "    else:\n",
    "        fse_csqa_dev_data_dict[id_][\"accept_set_list\"].append(answer_accept)\n",
    "    if len(fse_csqa_dev_data_dict[id_][\"accept_set_list\"])==3:\n",
    "        fse_csqa_dev_data_dict[id_][\"common_expl_list\"]=[]\n",
    "        common_accept_expl_sample=set.intersection(fse_csqa_dev_data_dict[id_][\"accept_set_list\"][0], \n",
    "                                                   fse_csqa_dev_data_dict[id_][\"accept_set_list\"][1], \n",
    "                                                   fse_csqa_dev_data_dict[id_][\"accept_set_list\"][2])\n",
    "        for idx in list(common_accept_expl_sample):\n",
    "            idx=int(idx)-1\n",
    "            fse_csqa_dev_data_dict[id_][\"common_expl_list\"].append(fse_csqa_dev_data_dict[id_][\"explanation_list\"][idx])\n",
    "        \n",
    "#discriminate 3/3 id\n",
    "id_accept_expl_list=[]\n",
    "our_accept_expl_list=[]\n",
    "id_unaccept_expl_list=[]\n",
    "for k,v in fse_csqa_dev_data_dict.items():\n",
    "    accept_set_list=v['accept_set_list']\n",
    "    assert len(accept_set_list)==3\n",
    "    #pdb.set_trace()\n",
    "    common_accept_expl_sample=set.intersection(accept_set_list[0], accept_set_list[1], accept_set_list[2])\n",
    "    #print(accept_set_list,common_accept_expl_sample)\n",
    "    #pdb.set_trace()\n",
    "    if common_accept_expl_sample:\n",
    "        id_accept_expl_list.append(k)\n",
    "        our_expl=\"\"\n",
    "        for idx in list(common_accept_expl_sample):\n",
    "            idx=int(idx)-1\n",
    "            if len(v['explanation_list'][idx]) > len(our_expl):\n",
    "                our_expl = v['explanation_list'][idx]\n",
    "                our_accept_expl_list.append(our_expl)\n",
    "    else:\n",
    "        id_unaccept_expl_list.append(k)\n",
    "\n",
    "dev_ids_list=[x['id'] for x in dataset['validation']]\n",
    "dev_accept_indexs_list=[dev_ids_list.index(id_) for id_ in id_accept_expl_list]\n",
    "dev_unaccpet_indexs_list=[dev_ids_list.index(id_) for id_ in id_unaccept_expl_list]\n",
    "dev_accept_data=dataset['validation'].select(dev_accept_indexs_list)\n",
    "dev_unaccept_data=dataset['validation'].select(dev_unaccpet_indexs_list)\n",
    "\n",
    "\n",
    "\n",
    "new_dev_accept_data=[]\n",
    "new_dev_unaccept_data=[]\n",
    "for oexp, da in zip(our_accept_expl_list,dev_accept_data):\n",
    "    da[\"our_explanation\"]=oexp\n",
    "    new_dev_accept_data.append(da)\n",
    "for da in dev_unaccept_data:\n",
    "    da[\"our_explanation\"]=oexp\n",
    "    new_dev_unaccept_data.append(da)\n",
    "        \n",
    "new_dev_accept_data[0]\n",
    "        "
   ]
  },
  {
   "cell_type": "code",
   "execution_count": 11,
   "id": "ffe13707",
   "metadata": {},
   "outputs": [
    {
     "data": {
      "text/plain": [
       "{'index': 0,\n",
       " 'id': '5b8a3081c3235d62bc77e2d15f3ad454',\n",
       " 'question': 'A town between two mountains is located in a what?',\n",
       " 'answer': 'valley',\n",
       " 'accept_set_list': [{'2', '4', '5'}, {'2', '4', '5'}, {'2', '4', '5'}],\n",
       " 'explanation_list': ['Because all of the mountains are to the left of this town, if one was looking on a map, one would be able to see the town in the valley.',\n",
       "  'A valley is usually between two mountains, where it is located in the place where the mountains are closest to each other.',\n",
       "  'Because rivers end in valleys; assuming the river is the one of interest, this sentence is likely referring to the geographical location of the town.',\n",
       "  'A town in between mountains presumably would be in a valley, in which case it is plausable that it would be surrounded by heights in every direction.',\n",
       "  'A valley is a low area between two mountains.'],\n",
       " 'common_expl_list': ['A valley is a low area between two mountains.',\n",
       "  'A valley is usually between two mountains, where it is located in the place where the mountains are closest to each other.',\n",
       "  'A town in between mountains presumably would be in a valley, in which case it is plausable that it would be surrounded by heights in every direction.']}"
      ]
     },
     "execution_count": 11,
     "metadata": {},
     "output_type": "execute_result"
    }
   ],
   "source": [
    "fse_csqa_dev_data_dict['5b8a3081c3235d62bc77e2d15f3ad454']\n"
   ]
  },
  {
   "cell_type": "code",
   "execution_count": 12,
   "id": "3161874f",
   "metadata": {},
   "outputs": [],
   "source": [
    "# for k,v in fse_csqa_dev_data_dict.items():\n",
    "#     #print(v.keys())\n",
    "#     print(\"******\")\n",
    "#     print(v['question'])\n",
    "#     print(v['answer'])\n",
    "#     print(v['common_expl_list'])\n",
    "#     print(\"******\")    \n",
    "# for k,v in fse_csqa_train_data_dict.items():\n",
    "#     #print(v.keys())\n",
    "#     print(\"******\")\n",
    "#     print(v['question'])\n",
    "#     print(v['answer'])\n",
    "#     print(v['common_expl_list'])\n",
    "#     print(\"******\") \n"
   ]
  },
  {
   "cell_type": "code",
   "execution_count": 13,
   "id": "3e0e8a2d",
   "metadata": {},
   "outputs": [
    {
     "data": {
      "application/json": {
       "ascii": false,
       "bar_format": null,
       "colour": null,
       "elapsed": 0.013472557067871094,
       "initial": 0,
       "n": 0,
       "ncols": null,
       "nrows": 60,
       "postfix": null,
       "prefix": "",
       "rate": null,
       "total": 1,
       "unit": "it",
       "unit_divisor": 1000,
       "unit_scale": false
      },
      "application/vnd.jupyter.widget-view+json": {
       "model_id": "188fcd22e9034cb3a0a044c5959ad45d",
       "version_major": 2,
       "version_minor": 0
      },
      "text/plain": [
       "  0%|          | 0/1 [00:00<?, ?it/s]"
      ]
     },
     "metadata": {},
     "output_type": "display_data"
    },
    {
     "data": {
      "text/plain": [
       "{'id': 'ed53cbea1f21072fab892031b31192d1',\n",
       " 'question': 'Where can you likely buy many poems?',\n",
       " 'choices': ['book of poetry',\n",
       "  'literature book',\n",
       "  'book store',\n",
       "  'poetry book',\n",
       "  'bookshelf'],\n",
       " 'answer': 'book store',\n",
       " 'abstractive_explanation': 'book store book',\n",
       " 'extractive_explanation': 'buy many poems',\n",
       " 'our_explanation': 'A book store is a place where you can buy books, including poetry books.'}"
      ]
     },
     "execution_count": 13,
     "metadata": {},
     "output_type": "execute_result"
    }
   ],
   "source": [
    "#rationale unlabeled data construction 991\n",
    "import pdb\n",
    "scr_csqa_unlabeled_train_file=\"/cognitive_comp/huangyongfeng/evaluate_LM_with_rationalization/few_shot_explanations/data/acceptability_annotations/commonsenseqa_train.csv\"\n",
    "fse_csqa_train_dataset = datasets.load_dataset('csv', data_files=scr_csqa_unlabeled_train_file)\n",
    "scr_csqa_unlabeled_train_df=pd.read_csv(scr_csqa_unlabeled_train_file)\n",
    "fse_csqa_train_data_dict={}\n",
    "for kk, da in enumerate(fse_csqa_train_dataset['train']):\n",
    "    #pdb.set_trace()\n",
    "    id_=da['Input.id']\n",
    "    if da['Answer.acceptable']:\n",
    "        answer_accept=set(da['Answer.acceptable'].split('|'))\n",
    "    else:\n",
    "        answer_accept=set()\n",
    "    explanation_list=[da['Input.explanation_1'], \n",
    "                      da['Input.explanation_2'],\n",
    "                      da['Input.explanation_3'],\n",
    "                      da['Input.explanation_4'],\n",
    "                      da['Input.explanation_5']]\n",
    "    if id_ not in fse_csqa_train_data_dict.keys():\n",
    "        fse_csqa_train_data_dict[id_]={\"index\":kk,\"id\":id_,\n",
    "                                     \"question\":da[\"Input.question\"],\n",
    "                                     'answer':da['Input.gold_label'],\n",
    "                                     \"accept_set_list\":[answer_accept],\n",
    "                                     \"explanation_list\":explanation_list}\n",
    "        #[[kk, id_, answer_accept, explanation_list]]\n",
    "    else:\n",
    "        fse_csqa_train_data_dict[id_][\"accept_set_list\"].append(answer_accept)\n",
    "        \n",
    "    if len(fse_csqa_train_data_dict[id_][\"accept_set_list\"])==3:\n",
    "        fse_csqa_train_data_dict[id_][\"common_expl_list\"]=[]\n",
    "        common_accept_expl_sample=set.intersection(fse_csqa_train_data_dict[id_][\"accept_set_list\"][0], \n",
    "                                                   fse_csqa_train_data_dict[id_][\"accept_set_list\"][1], \n",
    "                                                   fse_csqa_train_data_dict[id_][\"accept_set_list\"][2])\n",
    "        for idx in list(common_accept_expl_sample):\n",
    "            idx=int(idx)-1\n",
    "            fse_csqa_train_data_dict[id_][\"common_expl_list\"].append(fse_csqa_train_data_dict[id_][\"explanation_list\"][idx])\n",
    "\n",
    "    \n",
    "#discriminate 3/3 id\n",
    "id_accept_expl_list=[]\n",
    "our_accept_expl_list=[]\n",
    "id_unaccept_expl_list=[]\n",
    "for k,v in fse_csqa_train_data_dict.items():\n",
    "    accept_set_list=v['accept_set_list']\n",
    "    assert len(accept_set_list)==3\n",
    "    #pdb.set_trace()\n",
    "    common_accept_expl_sample=set.intersection(accept_set_list[0], accept_set_list[1], accept_set_list[2])\n",
    "    #print(accept_set_list,common_accept_expl_sample)\n",
    "    #pdb.set_trace()\n",
    "    if common_accept_expl_sample:\n",
    "        id_accept_expl_list.append(k)\n",
    "        our_expl=\"\"\n",
    "        for idx in list(common_accept_expl_sample):\n",
    "            idx=int(idx)-1\n",
    "            if len(v['explanation_list'][idx]) > len(our_expl):\n",
    "                our_expl = v['explanation_list'][idx]\n",
    "                our_accept_expl_list.append(our_expl)\n",
    "    else:\n",
    "        id_unaccept_expl_list.append(k)\n",
    "\n",
    "train_ids_list=[x['id'] for x in dataset['train']]\n",
    "train_accept_indexs_list=[train_ids_list.index(id_) for id_ in id_accept_expl_list]\n",
    "train_unaccpet_indexs_list=[train_ids_list.index(id_) for id_ in id_unaccept_expl_list]\n",
    "train_accept_data=dataset['train'].select(train_accept_indexs_list)\n",
    "train_unaccept_data=dataset['train'].select(train_unaccpet_indexs_list)\n",
    "\n",
    "\n",
    "\n",
    "new_train_accept_data=[]\n",
    "new_train_unaccept_data=[]\n",
    "for oexp, da in zip(our_accept_expl_list,train_accept_data):\n",
    "    da[\"our_explanation\"]=oexp\n",
    "    new_train_accept_data.append(da)\n",
    "for da in train_unaccept_data:\n",
    "    da[\"our_explanation\"]=oexp\n",
    "    new_train_unaccept_data.append(da)\n",
    "        \n",
    "new_train_accept_data[0]"
   ]
  },
  {
   "cell_type": "code",
   "execution_count": 14,
   "id": "595b9453",
   "metadata": {},
   "outputs": [
    {
     "data": {
      "text/plain": [
       "(set(), set())"
      ]
     },
     "execution_count": 14,
     "metadata": {},
     "output_type": "execute_result"
    }
   ],
   "source": [
    "refine_train_data=refine_train_data\n",
    "refine_dev_data=new_train_accept_data + new_dev_accept_data\n",
    "refine_test_data=new_train_unaccept_data + new_dev_unaccept_data\n",
    "\n",
    "refine_train_ids_list=[x['id'] for x in refine_train_data]\n",
    "refine_dev_ids_list=[x['id'] for x in refine_dev_data]\n",
    "refine_test_ids_list=[x['id'] for x in refine_test_data]\n",
    "\n",
    "set(refine_train_ids_list).intersection(set(refine_dev_ids_list)),set(refine_train_ids_list).intersection(set(refine_test_ids_list))\n",
    "\n"
   ]
  },
  {
   "cell_type": "code",
   "execution_count": 15,
   "id": "48e4ec26",
   "metadata": {},
   "outputs": [
    {
     "data": {
      "text/plain": [
       "dict_keys(['id', 'question', 'choices', 'answer', 'abstractive_explanation', 'extractive_explanation', 'our_explanation'])"
      ]
     },
     "execution_count": 15,
     "metadata": {},
     "output_type": "execute_result"
    }
   ],
   "source": [
    "our_data_splits={}\n",
    "our_data_splits['train']=refine_train_data\n",
    "our_data_splits['dev']=refine_dev_data\n",
    "our_data_splits['test']=refine_test_data\n",
    "refine_train_data[0].keys()"
   ]
  },
  {
   "cell_type": "markdown",
   "id": "0fcdf34f",
   "metadata": {},
   "source": [
    "# shots number"
   ]
  },
  {
   "cell_type": "code",
   "execution_count": 16,
   "id": "bd43fe66",
   "metadata": {},
   "outputs": [],
   "source": [
    "id_list = [\n",
    " '71519c19654251cced50c5718fd527c1',\n",
    " '44195d210c81c8c550174d0edbd3ad5d',\n",
    " '5a5da37b685ec9c6f15228128ce30437',\n",
    " 'cabdfc174953b4bdb8bdcc89d6592c74',\n",
    " 'eac3a4080127e8924034651b57dfa289',\n",
    " 'c0013f31657294b9b5ad819123513ca7',\n",
    " '2681697be70cd5425899ed6deb84b18a',\n",
    " '47f60340b869552e795fa6782224f3d2',\n",
    " '7e8a6eac93147eb52d8151bab7b40003',\n",
    " 'f34267f498c8a78383e35057fbcfa2ce',\n",
    " 'f024f923d78e5c0a4c0c4baa3ddccf05',\n",
    " 'e148c710d0c26849cf1f15293481038b',\n",
    " 'bdf437d7498815f36c255f64a8e6571c',\n",
    " '2282e0c80be28aadadb79a822fec9dac',\n",
    " 'bdd05e96876342b4b5999709439a7f4e',\n",
    " '494b8316614fc64c5c27757aeaffce23_1',\n",
    " 'c4494b402264250dc70931613d482295',\n",
    " 'fcfbf207c5586294fdce33b645b613f1',\n",
    " '9c583bcbe68989a644433302545fb31e',\n",
    " '0e684d779d98e6eecda167c10af42bbb',\n",
    " 'ac0462d09b9fddd40c3c77aedf48a870',\n",
    " '1dbfb41e04a10bdbb085bfe667c0df99',\n",
    " 'cd0c0ef3b8ce0eb09ff26823f6059be6',\n",
    " 'e6b67184b99375d05d3f2887f684c684',\n",
    " 'ae9f6f1e17b3fdd3a86b494933809f45',\n",
    " 'f149604169936a30b7e4c8d599d604b5',\n",
    " 'd7c8377953e0175ef57d59f3a8e63a8e',\n",
    " '1837216ac7745121b82a6491b2318c09',\n",
    " 'b5fe238d45e55ca5d802b7823ad390ef',\n",
    " 'b2fbeb0b48bd5e575af0f7dc24cdd85d',\n",
    " '9bdfb101c487ac598f6e4686cf774703',\n",
    " '206c7116ee2246180fcc0c5a1d0e7205',\n",
    " '5cd7f44bbf730dfae5ef2a362d2e5149',\n",
    " '45d0ea781ffd49b07d6eae94d47a8945',\n",
    " '89afdea1d76272fda8e1538a7d3b7a3f',\n",
    " '38a514fe54108527e1d6e89d9812da93',\n",
    " 'ebf347934a3e90ea46d3d87726fb5d25',\n",
    " '90226a6ecd7308ae1e6220a15ae24bc6',\n",
    " '5cae8057e75e3adf5c338a43b3ba97fb',\n",
    " '388a363c49e1b0aca8eaf18ccdde0caf',\n",
    " '9ed3af82152dfcd7000bf4631b095f71',\n",
    " '2d5805d894bba224c5fe91e70b8c0f77',\n",
    " 'd5aa464a16b72c9b9f3091abd461e3ef',\n",
    " '381b11c54be4cc432a95053ca34cbf6b',\n",
    " '807a3a2dabdd50ed0c76052fd2612632',\n",
    " '5172041c750d22e9a5081cc024de0fa6',\n",
    " 'd32a45ab3b751110d0578a78e54c0e64',\n",
    " '28ca5cbe27774746c34f6ebe84fc6d0c']\n",
    "\n",
    "chatGPT_rationales = [\n",
    "    \"A cup is a common vessel used for holding and drinking liquids, such as water, coffee, or tea. When you want to get yourself a drink, you might typically get a cup from a cabinet or other storage area in order to hold the drink. A cup is a convenient and practical choice for getting a drink because it is easy to hold and use, and it can hold a reasonable amount of liquid. There are many different types of cups available, including ceramic, glass, plastic, and metal cups, each with their own unique features and benefits. Whether you are at home, at work, or out in public, a cup is a handy item to have on hand when you need to quench your thirst.\",\n",
    "    \"A front yard is the lawn that is typically located in front of a house, near the street. The front yard is the part of the property that is visible from the street and is often used for decorative purposes, such as landscaping or gardening. Many people take pride in their front yards and may spend time and resources maintaining and improving them. The front yard is often the first thing that visitors see when they arrive at a house, and it can make a strong impression on them. In contrast, the back yard is typically located behind the house and is often used for more practical purposes, such as outdoor recreation or gardening.\",\n",
    "    \"A swimming pool is a recreational water feature that is typically used for swimming and other aquatic activities. While shallow water, such as that found in a kiddie pool or a shallow end of a pool, can be enjoyable for some people, it may not be sufficient for many summer activities. A swimming pool that is deep enough for diving and other activities is more likely to provide more opportunities for summer fun. In addition, a swimming pool that is clean and chlorinated is more likely to be safe and enjoyable for swimming, as it will be free of contaminants and bacteria that can cause illness.\",\n",
    "    \"In most places, it is illegal for people under the age of 21 to purchase or consume alcohol. This is because alcohol can have negative effects on the developing brain and body of young people. It can also contribute to risky behaviors and accidents. Therefore, many governments have set a minimum age for alcohol consumption and purchase to help protect the health and safety of young people. If someone is under the age of 21 and attempts to purchase alcohol, they may be denied the sale or face legal consequences. It is important for young people to understand and adhere to the laws and regulations regarding the purchase and consumption of alcohol in their area.\",\n",
    "    \"When someone shaves, they typically use a razor to remove hair from their face or body. The process of shaving can leave a lot of hair in the sink, as the hair is trimmed off and falls into the sink as it is being shaved. It is common for people to shave in the bathroom, where a sink is typically located. The sink provides a convenient place to rinse the razor and wash off any excess hair or shaving cream. It is important to clean the sink after shaving to remove any hair and prevent clogs in the drain.\",\n",
    "    \"A hamburger is a type of sandwich that consists of a cooked patty of ground meat, typically beef, placed between two slices of bread or a bun. Hamburgers are often served with various toppings, such as lettuce, tomato, onion, cheese, and condiments like ketchup and mustard. However, if someone is suffering from great hunger, they may not care about the toppings and just want to eat the hamburger itself. In this case, the person may be more focused on satisfying their hunger and getting nourishment rather than worrying about additional ingredients or flavors.\",\n",
    "    \"If a person notices popcorn and cotton candy on the grass, they are likely at fairgrounds. Fairgrounds are outdoor areas that are used for hosting fairs and other events, such as carnivals, festivals, and exhibitions. These events often feature food stalls and vendors that sell a variety of treats, including popcorn and cotton candy. Popcorn and cotton candy are both popular carnival foods that are often sold at fairs and other events. The presence of these foods on the ground at fairgrounds suggests that a fair or similar event is taking place there.\",\n",
    "    \"When snow on a mountain becomes heavy, it can trigger an avalanche. An avalanche is a rapid flow of snow down a slope, often triggered by the weight of the snow or external factors such as a change in temperature. Avalanches can be dangerous and destructive, as they can bury and sweep away anything in their path, including people, buildings, and vehicles. Avalanches can occur on any slope with a steep enough incline and a sufficient amount of snow. They are most common on mountains, but they can also occur in other snowy areas, such as forests or valleys. It is important for people to be aware of the risk of avalanches and to take precautions when traveling in areas prone to avalanches.\",\n",
    "    \"A police officer typically reports their work through the use of case reports or incident reports. These reports are written documents that detail the events of a specific case or incident that the officer has worked on. Case reports or incident reports typically include information such as the date and time of the incident, the location, the people involved, and the actions taken by the officer. They may also include witness statements, evidence collected, and any other relevant details. Case reports or incident reports are used by police officers to document their work and provide a record of the incidents they have dealt with. They are also used by supervisors and other authorities to review and evaluate the performance of the officer and the effectiveness of their actions.\",\n",
    "    \"Teachers play many roles in the lives of their students, including mentor, counselor, and role model. However, they get the most out of their job by simply teaching children. Teaching children is the primary responsibility of a teacher, and it is what they are trained and paid to do. Teaching involves imparting knowledge, skills, and values to students, and helping them to develop the skills and habits they need to succeed in life. Teachers have the opportunity to make a positive impact on the lives of their students by providing them with a strong foundation in academic subjects and helping them to become curious, engaged learners. Teachers often derive a great deal of satisfaction from helping their students to achieve their potential and succeed in their studies.\",\n",
    "    \"A person might go to get counseling for a variety of reasons. One reason is to better understand themselves. Counseling can provide a safe and supportive environment for individuals to explore their thoughts, feelings, and behaviors, and to gain insight into why they act and feel the way they do. Counseling can also help a person to identify and work through any underlying issues or challenges that may be causing them distress or hindering their personal growth. Through counseling, a person can learn more about themselves and how to navigate their emotions and relationships more effectively. Counseling can be particularly helpful for individuals who are struggling with mental health issues, relationship problems, or other personal challenges.\",\n",
    "    \"If the kids wanted to cool off, they might go swimming as a way to refresh and beat the heat. Swimming is a fun and enjoyable activity that can provide relief from hot weather and help to cool the body. Swimming can also provide a great workout and has numerous health benefits, such as improving cardiovascular fitness and flexibility. There are many different places where kids can go swimming, such as pools, lakes, rivers, or the ocean. No matter where they go, kids can have fun and cool off while enjoying the water.\",\n",
    "    \"When remembering a tragedy in the past, many people may feel depressed. Depression is a common emotional reaction to experiencing a traumatic or stressful event, such as a tragedy. Depression is a mental health disorder characterized by persistent feelings of sadness, hopelessness, and low energy. It can also cause physical symptoms such as changes in appetite and sleep patterns, fatigue, and difficulty concentrating. Remembering a tragedy can be emotionally difficult and may trigger feelings of sadness, grief, and guilt. It is important for people who are struggling with depression to seek support and treatment to help manage their symptoms and improve their mental health.\",\n",
    "    \"Death Valley is a national park located in the Mojave Desert, in the state of California, United States. It is situated on the North American continent. The North American continent is one of the seven continents of the world and is located in the western hemisphere. It is the third largest continent in terms of land area, after Asia and Africa, and is home to a diverse range of cultures, languages, and environments. Death Valley is known for its extreme desert climate and is the lowest, hottest, and driest place in North America. It is a popular destination for tourists, who come to see its unique geological features, such as sand dunes, salt flats, and canyons.\",\n",
    "    \"When in a serious relationship, understanding better requires effort. Relationships require effort and work to maintain and grow. In order to understand your partner better, you need to be willing to put in the time and effort to communicate with them, listen to their perspectives, and try to see things from their point of view. This may involve asking questions, expressing your own feelings and needs, and being open to feedback and compromise. Understanding your partner better can help to strengthen the bond between you and improve the quality of your relationship. It is important to remember that relationships are dynamic and evolving, and that ongoing communication and effort are necessary to maintain a healthy and fulfilling relationship.\",\n",
    "    \"Cats are able to make a variety of vocalizations, including meows, purrs, and growls, as a way of communicating with humans and other animals. Cats use these vocalizations to convey a range of emotions and needs, such as hunger, happiness, or discomfort. Meowing is a common vocalization that cats use to communicate with humans. Cats may meow when they want attention, food, or to be let outside. Cats may also meow when they are feeling anxious or stressed. Although cats cannot talk in the same way that humans do, they are skilled at using their voices to communicate with their owners and other animals.\",\n",
    "    \"If you need a vessel that is similar to a battleship but faster, you might consider using a corvette. A corvette is a small, fast warship that is typically used for convoy escort, patrol, and other shallow water duties. Corvettes are generally smaller and less heavily armed than battleships, but they are more agile and have a higher speed. They are typically equipped with a variety of weapons, including guns, missiles, and torpedoes, and are used for defending against enemy ships and aircraft. Corvettes are often used for coastal defense, as well as for patrolling and enforcing maritime laws. They are capable of operating in a variety of environments, including open ocean and littoral (nearshore) waters.\",\n",
    "    \"Water in the sky comes from rain clouds. Rain clouds are clouds that form when moist air rises and cools, forming tiny water droplets that condense around particles in the air. As the droplets grow, they eventually become heavy enough to fall from the cloud as rain. Rain clouds are typically gray or white in color and are often accompanied by other types of clouds, such as cumulus or stratocumulus clouds. Rain clouds can form in a variety of ways, such as when warm, moist air from the ground rises and cools, or when moist air from the ocean is carried inland by the wind. Rain clouds can be found in many parts of the world and are a common source of precipitation, especially during the warmer months.\",\n",
    "    \"If John rented a hotel room while on a business trip and it was a company-sponsored event, it is possible that the hotel was a resort. Resorts are hotels or vacation properties that offer a variety of amenities and activities for guests, such as swimming pools, golf courses, spas, and restaurants. They are often located in scenic or recreational areas and are designed to provide a relaxing and enjoyable experience for guests. Many resorts offer conference and meeting facilities and are popular destinations for business events and retreats. If John's company sponsored the business trip and provided the hotel accommodations, it is likely that they chose a resort with the amenities and facilities needed to support the event.\",\n",
    "    \"An expressway might leave the United States and go to Canada. The United States and Canada are neighboring countries that share a border, and there are several expressways that cross the border between the two countries. Expressways are high-speed, limited-access roads that are designed for fast and efficient travel. They typically have multiple lanes and may include features such as grade separations, interchanges, and controlled access points. Expressways are used for long-distance travel and are often the main routes connecting major cities and regions. If an expressway leaves the United States, it is likely that it is heading towards Canada, which is located to the north of the United States.\",\n",
    "    \"If you were walking on a sidewalk near a small corner shop run by John, you would look for it on the street corner. A corner shop is a small retail store that is typically located at the intersection of two streets. It is often a convenience store or a neighborhood shop that sells a variety of goods, such as groceries, household items, and other supplies. Corner shops are often located in busy urban areas, where they are easily accessible to pedestrians and motorists. If you were walking on a sidewalk near a corner shop, you would look for it at the intersection of the street where you are walking and another street. The shop is likely to be located in a building on the corner, with windows and doors facing the street.\",\n",
    "    \"One way that a company can efficiently sell things to their customers is through mail order. Mail order is a method of selling goods or services by advertising them in a catalog or other publication and allowing customers to place orders by mail, telephone, or online. Mail order is a convenient and efficient way for companies to reach a wide customer base, as it allows them to sell products to customers who may not be located near their physical store or who may not have the time or inclination to shop in person. Mail order companies typically have a centralized warehouse or distribution center where orders are processed and shipped to customers. They may also offer options such as easy returns and exchanges, as well as customer service support to assist with any questions or issues that customers may have.\",\n",
    "    \"If he enjoyed the factory work and liked the idea that he did it for sale, it is likely that he enjoyed producing goods. Factory work typically involves the production of goods, such as products or materials, using machines, tools, and other equipment. Factory workers are responsible for operating and maintaining the equipment and ensuring that the goods being produced meet quality standards. The goods produced in a factory may be sold directly to consumers or to other businesses, and may be used for a variety of purposes, such as manufacturing, construction, or distribution. If a person enjoys factory work, they may find satisfaction in the idea that they are contributing to the production of goods that will be sold and used by others.\",\n",
    "    \"If returning to work was easy for Dan after his treatment and he was completely painless, it is likely that he had undergone some form of medical treatment or therapy to address a health issue or injury. Painless indicates that Dan was no longer experiencing pain or discomfort, which may have been a result of the treatment or therapy he received. It is not clear from the information provided what specific health issue or injury Dan was dealing with, or what treatment or therapy he received. However, it is possible that Dan was able to return to work more easily after his treatment because he was feeling better and was no longer experiencing any pain or discomfort.\",\n",
    "    \"If index cards were on display at the museum, it is likely that the museum was a library. Libraries are institutions that provide access to a wide range of resources, including books, periodicals, and other printed materials, as well as digital resources such as e-books, databases, and online research tools. Libraries often have exhibits and displays of various types of materials, including rare or unique items, and may have special collections or archives that are of particular interest to researchers or historians. Index cards are small, rectangular pieces of paper that are used for organizing information, such as names, dates, or research notes. They may be used in a variety of settings, including libraries, offices, and schools. If index cards were on display at the museum, it is possible that they were part of a historical exhibit or collection related to the history of libraries or research.\",\n",
    "    \"If she was a human in America who wanted to live well, it is likely that the given for her situation was the need for money. In general, money is an important factor in enabling people to live well and meet their basic needs and desires. Money allows people to purchase the goods and services that they need to sustain themselves and their families, such as food, clothing, housing, and healthcare. It also enables people to pursue their interests and hobbies, travel, and engage in various forms of leisure and entertainment. In America, and in many other countries around the world, the cost of living can be high, and people often need to earn and save money in order to achieve a desired standard of living. As such, the need for money is a given for many people in order to live well.\",\n",
    "    \"A place that could have one back garden is a house. A garden is a piece of land that is used for growing plants, flowers, vegetables, or other types of vegetation. Gardens can be found in a variety of settings, including residential properties, public parks, and commercial properties. A house is a building that is used as a dwelling for one or more people, and it typically includes living spaces, such as bedrooms, bathrooms, and a kitchen, as well as outdoor areas, such as a front yard, side yard, and back yard. A back yard is a private outdoor space that is typically located behind a house and is often used for recreational or leisure activities, such as gardening, grilling, or playing games. If a house has a back garden, it is likely that the garden is located in the back yard.\",\n",
    "    \"People gather at a football stadium to see large men in pads play a game where they run and smash into each other. Football is a popular sport that is played on a rectangular field by two teams of eleven players. The game involves running, passing, and tackling, and players wear pads and other protective gear to reduce the risk of injury. Football is a physical and intense sport, and players often collide with each other at high speeds. Football stadiums are large, open-air facilities that are designed to host football games and other sporting events. They typically have a grass or artificial turf field, seating for spectators, and a variety of amenities, such as concessions stands, restrooms, and VIP areas. Football stadiums are popular places for people to gather and watch football games, and they can be found in cities and towns throughout the world.\",\n",
    "    \"One place where someone can get a flute is a musical instrument store. A musical instrument store is a retail establishment that specializes in selling musical instruments and related accessories. They may carry a wide range of instruments, including brass instruments, woodwind instruments, string instruments, percussion instruments, and keyboards. Flutes are woodwind instruments that are played by blowing air into a narrow opening and producing sound by vibrating the lips against a metal or wooden reed. They are popular instruments that are used in a variety of musical styles, including classical, jazz, and folk music. If someone is looking to purchase a flute, they may be able to find a selection of flutes at a musical instrument store. In addition to flutes, musical instrument stores may also offer a variety of other instruments, as well as sheet music, instructional materials, and accessories such as cases, stands, and cleaning supplies.\",\n",
    "    \"It is not clear what someone who has a greed for energy would do. The word greed typically refers to an excessive or insatiable desire for wealth, power, or material possessions. It is not clear how this concept would relate to energy or how it might influence someone's actions. It is possible that someone who has a lot of energy or who is very active might have a high appetite for food and might seek out sources of fuel or nutrition to sustain their energy levels. In this case, they might buy food as a way to obtain the energy they need. However, it is not accurate to say that someone who has a greed for energy would necessarily do this. It is important to note that the concept of greed is generally considered to be negative, as it suggests an unhealthy or unsustainable desire for something.\",\n",
    "    \"A forklift is a type of industrial vehicle that is used for moving and lifting heavy loads, such as pallets, crates, and boxes. Forklifts are equipped with a hydraulic lift mechanism and a set of prongs or forks that can be used to lift and transport loads. They are commonly used in warehouses and other distribution centers to move and stack materials, such as boxes, onto shelves or other storage areas. If you were using a forklift to stack boxes onto shelves, it is likely that you were in a warehouse or a similar facility. Warehouses are large, commercial buildings that are used for storing and distributing goods. They often have high ceilings, wide aisles, and multiple levels, and they may be equipped with a variety of material handling equipment, such as forklifts, conveyor belts, and cranes, to facilitate the movement and storage of goods.\",\n",
    "    \"You are likely to receive mouthwash in a little paper cup at a dentist's office. Dentist's offices are healthcare facilities that are staffed by dentists and other dental professionals, and they are used for the diagnosis and treatment of dental problems and the maintenance of oral health. One common practice at a dentist's office is to rinse the mouth with mouthwash, which is a liquid that is used to freshen breath, kill bacteria, and reduce the risk of gum disease and other oral health issues. Mouthwash is typically used after brushing and flossing to help remove any remaining food particles or plaque from the mouth. It may be dispensed in a little paper cup, which can be used to rinse the mouth and then disposed of after use.\",\n",
    "    \"A doctor's office can help you with an illness. A doctor's office is a healthcare facility that is staffed by medical doctors and other healthcare professionals, and it is used for the diagnosis and treatment of medical conditions and the maintenance of overall health. If you are experiencing an illness, such as a cold, flu, or more serious health issue, you may visit a doctor's office to seek medical care and treatment. At a doctor's office, you may receive a physical examination, diagnostic tests, and other forms of medical treatment, depending on the nature of your illness and your specific needs. Doctors are trained to diagnose and treat a wide range of medical conditions, and they can provide you with the care and support you need to recover from your illness and get back to good health.\",\n",
    "    \"A bug looking for wildflowers and no human interruption might go to a meadow. A meadow is a grassland area that is characterized by its open, grassy landscape and the presence of wildflowers and other types of vegetation. Meadows can be found in a variety of settings, including rural areas, forests, and parkland, and they are often home to a variety of animal and plant species. Because meadows are relatively undisturbed by human activity, they can be a good place for a bug to find wildflowers and other types of plants without interference from humans. Meadows are often considered to be peaceful, serene places, and they may be attractive to a bug that is seeking a quiet, natural environment in which to explore and forage.\",\n",
    "    \"If a bride and groom are taking care of proposals, the likely ceremony is a marriage. A marriage is a formal union between two people that is recognized by law and typically involves a public ceremony and the exchange of vows. A marriage proposal is a request for someone to marry another person, and it is typically made by one partner to the other. The process of planning a marriage often involves taking care of a variety of details and arrangements, such as choosing a venue, selecting a date, inviting guests, and organizing the ceremony and reception. If a bride and groom are taking care of proposals, it is likely that they are in the process of planning their marriage and preparing for the wedding ceremony.\",\n",
    "    \"You could put some olives in a jar to prevent them from getting nearby food wet. A jar is a container that is typically made of glass or ceramic and has a wide mouth and a secure, tight-fitting lid. Jars are often used for storing food items, such as olives, pickles, jams, and other types of preserved or dried goods. Because they have a sealed lid, jars can help to keep food fresh and prevent it from coming into contact with air or other substances that might spoil or contaminate it. If you want to prevent olives from getting nearby food wet, you could put them in a jar and close the lid to create an airtight seal. This would help to keep the olives separate from other foods and prevent them from coming into contact with moisture or other liquids.\",\n",
    "    \"If the graveyard was zoned by the pastor, it is likely that it was located on church property. Church property refers to land or buildings that are owned by a church or religious organization. This may include the main church building, as well as other structures such as a rectory, school, or community center. Church property may also include a graveyard or cemetery, which is a place where people are buried after they die. Pastors, who are ordained leaders in a church, often play a central role in the management and oversight of church property, and they may be responsible for zoning or designating areas within the property for specific purposes, such as a graveyard or a garden. If the pastor has zoned the graveyard, it is likely that it is located on church property and is being used as a place for burial by members of the church or community.\",\n",
    "    \"If a family wanted to live with carpeting, they may have ended up putting it in their houses. Houses are structures that are designed and built to be used as homes, and they typically have a number of rooms that are used for different purposes, such as sleeping, cooking, eating, and relaxing. Carpeting is a type of floor covering that is made of soft, flexible materials, such as wool, nylon, or polypropylene, and it is often used in houses to provide warmth, comfort, and insulation. If a family wanted to live with carpeting, they may have chosen to install carpeting in some or all of the rooms in their houses, in order to create a warm and cozy atmosphere and to improve the overall comfort and livability of their homes.\",\n",
    "    \"If a boss likes an employee's ambition, the employee may be put in charge of a project. A project is a specific task or set of tasks that is undertaken in order to achieve a specific goal or objective. Projects may be large or small, complex or simple, and they may involve a wide range of activities, such as research, design, development, testing, and implementation. If an employee is ambitious and demonstrates a strong desire to succeed and make a positive contribution to their organization, their boss may choose to put them in charge of a project, in order to give them the opportunity to demonstrate their skills and abilities and to take on more responsibility. Being put in charge of a project can be a challenging and rewarding experience, and it may provide an employee with the chance to learn new things, develop their skills, and make a meaningful contribution to their organization.\",\n",
    "    \"A county highway can be viewed as a line on a map. A map is a graphic representation of an area or region that shows the locations of various features, such as roads, rivers, mountains, and cities. Maps are often used to help people navigate and find their way around unfamiliar places, and they can be very useful for understanding the layout and geography of an area. County highways are roads that are maintained and operated by a county or local government, and they are typically used for local travel and transportation within a county or region. On a map, a county highway may be represented as a line, with a specific color or symbol used to indicate its location and route. By viewing a county highway as a line on a map, it is possible to get a sense of the route and layout of the road, and to use the map to plan a journey or navigate to a specific destination.\",\n",
    "    \"After going for a run, someone may feel tired. Running is a form of physical activity that involves moving quickly and continuously on foot, typically by running or jogging. It is a popular form of exercise that can help to improve cardiovascular fitness, build endurance, and strengthen the muscles of the legs and lower body. However, running can also be physically demanding, and it requires a certain level of fitness and stamina to be able to sustain the activity for an extended period of time. As a result, it is common for people to feel tired after going for a run, especially if they are not used to the activity or if they have pushed themselves to run for a longer distance or at a faster pace than usual. Tiredness after a run may be accompanied by other physical sensations, such as muscle fatigue, thirst, or a sense of accomplishment.\",\n",
    "    \"If a car was going from Florida to Ohio, it was heading north. Florida is a state in the southeastern region of the United States, and Ohio is a state in the midwestern region of the country. When traveling from Florida to Ohio, a person would need to go north in order to reach their destination. North is a direction that is opposite to south on a map or compass, and it is typically associated with higher latitude, colder climates, and longer nights. When traveling north, a person may encounter different landscapes, weather patterns, and cultural experiences than they would when traveling south, depending on the specific route and the distance traveled. By heading north from Florida to Ohio, a person would be leaving behind the warm, tropical climate of Florida and entering into a more temperate, mid-latitude region with cooler temperatures and a more diverse range of landscapes and ecosystems.\",\n",
    "    \"During a typical week, a teacher is likely to spend most of their time working in school. A teacher is a person who is trained and qualified to teach students in a school or educational setting, and their primary job is to provide instruction and guidance to help students learn and develop their skills and knowledge. Teachers may work in a variety of settings, including primary schools, secondary schools, and universities, and they may teach a wide range of subjects, including math, science, English, history, and the arts. In order to fulfill their duties as a teacher, a person is likely to spend most of their time working in a school or educational setting, where they will be responsible for preparing and delivering lessons, grading assignments, communicating with students and parents, and performing other tasks related to their job. Teachers typically work on a schedule that follows the school year, and they may work full-time or part-time, depending on their specific circumstances and the needs of their students.\",\n",
    "    \"In a predicament, an animal might choose to fight for its life as an alternative to fleeing. Predicament is a term that refers to a difficult or challenging situation, typically one that involves a choice or decision that needs to be made. When an animal finds itself in a predicament, it may have to decide how to respond in order to survive and protect itself. One option that an animal may have is to flee or run away from the situation in an effort to escape danger or avoid conflict. Another option that an animal may have is to fight for its life, using whatever means are available to defend itself and protect its survival. The choice that an animal makes in a predicament will depend on a variety of factors, including the specific nature of the situation, the animal's size, strength, and abilities, and the resources and options that are available to it.\",\n",
    "    \"It is not common for people to fight each other when they find a good deal. A good deal is typically defined as an opportunity to purchase something at a price that is lower than what it is usually worth, or to obtain a product or service that provides more value or benefits than what is expected. When people find a good deal, they may feel excited or pleased about the opportunity to save money or get more for their money, and they may take action to take advantage of the deal. However, it is generally not considered acceptable or appropriate for people to fight each other over a good deal or to engage in physical violence or aggression in order to obtain it. There are many other ways that people can express their interest in a good deal, such as by negotiating with the seller, making an offer, or simply making a purchase if the price is acceptable.\",\n",
    "    \"An altar is a platform or structure that is used for religious ceremonies, rituals, or worship. Altars are often found in places of worship, such as temples, churches, synagogues, mosques, and other religious buildings. When a person is standing in front of an altar, they are likely to be in a temple or other place of worship. Altars can be used for a variety of purposes in different religions and spiritual traditions, such as offering sacrifices, making offerings, praying, or performing other religious practices. They may be decorated with symbols, images, or other items that are significant to the religion or spiritual tradition that is being practiced. Altars may also be used as a place for people to meditate, reflect, or seek spiritual guidance.\",\n",
    "    \"Joe bought a bunch of grapes because he likes to use them to top his desserts. A dessert is a type of food that is typically served at the end of a meal, and it is usually sweet or rich in flavor. There are many different types of desserts that people enjoy, including cakes, cookies, ice cream, pie, and other sweet treats. One way that people may use grapes as a topping for their desserts is by placing them on top of a fruit pie, tart, or crisp. Grapes can add flavor and texture to a dessert, and they may also be used to decorate a dessert or to add visual appeal. Grapes are a versatile fruit that can be used in many different types of desserts, and they can be eaten fresh, frozen, or preserved in various ways.\",\n",
    "    \"Well water is water that is obtained from underground sources, typically through the use of a well. A well is a hole or shaft that is dug into the ground in order to access water that is contained in underground aquifers or other water-bearing formations. Well water is typically used for drinking, irrigation, and other purposes, and it is often considered to be of high quality because it is filtered and purified naturally as it flows through the ground. To obtain well water, a person can dig a well or have one dug by a professional well driller. The depth of the well will depend on the location and the geology of the area, and a pump or other mechanical system may be used to bring the water to the surface.\",\n",
    "]"
   ]
  },
  {
   "cell_type": "code",
   "execution_count": 17,
   "id": "013e06f0",
   "metadata": {},
   "outputs": [],
   "source": [
    "import glob\n",
    "import json\n",
    "import pdb\n",
    "chatgpt_50_100_rationales_dir = \"./chatgpt_rationales/50_100\"\n",
    "file_list = glob.glob(\"{}/*.json\".format(chatgpt_50_100_rationales_dir))\n",
    "chatgpt_rationales_dict = {}\n",
    "for file in file_list:\n",
    "    with open(file, 'r') as f:\n",
    "        da = json.load(f)\n",
    "        #print(da.keys())\n",
    "        chatgpt_rationales_dict[da['id']] = da['50_to_100_words']\n",
    "        #pdb.set_trace()"
   ]
  },
  {
   "cell_type": "code",
   "execution_count": 18,
   "id": "d9681ea9",
   "metadata": {},
   "outputs": [],
   "source": [
    "def list2dict(refine_data):\n",
    "    refine_data_dict={}\n",
    "    for key in refine_data[0].keys():\n",
    "        refine_data_dict[key]=[x[key] for x in refine_data]\n",
    "    return refine_data_dict\n",
    "\n",
    "select_refine_train_data = []\n",
    "for da in refine_train_data:\n",
    "    #pdb.set_trace()\n",
    "    if da['id'] in chatgpt_rationales_dict.keys():\n",
    "        da['our_explanation'] = chatgpt_rationales_dict[da['id']]\n",
    "        select_refine_train_data.append(da) \n",
    "        \n",
    "select_refine_train_data_dict = list2dict(select_refine_train_data)\n",
    "our_data_splits['train'] = datasets.Dataset.from_dict(select_refine_train_data_dict).shuffle().select(range(24))\n",
    "\n",
    "refine_dev_data_dict = list2dict(refine_dev_data)\n",
    "our_data_splits['dev'] = datasets.Dataset.from_dict(refine_dev_data_dict)\n",
    "\n",
    "refine_test_data_dict = list2dict(refine_test_data)\n",
    "our_data_splits['test'] = datasets.Dataset.from_dict(refine_test_data_dict)\n",
    "\n"
   ]
  },
  {
   "cell_type": "code",
   "execution_count": 19,
   "id": "53ab0e1a",
   "metadata": {},
   "outputs": [],
   "source": [
    "import datasets\n",
    "class SequenceCollator:\n",
    "    def __init__(self, pad_token):\n",
    "        # self.pad_token_mapping = {\n",
    "        #     \"lm_labels\": -100,\n",
    "        #     \"attention_mask\": 0,\n",
    "        #     \"decoder_attention_mask\": 0,\n",
    "        #     \"input_ids\": pad_token,\n",
    "        # }\n",
    "        # self.columns = [\n",
    "        #     \"input_ids\",\n",
    "        #     \"attention_mask\",\n",
    "        #     \"lm_labels\",\n",
    "        #     \"decoder_attention_mask\",\n",
    "        # ]\n",
    "        self.pad_token_mapping = {\n",
    "            \"labels\": -100,\n",
    "            \"attention_mask\": 0,\n",
    "            \"decoder_attention_mask\": 0,\n",
    "            \"input_ids\": pad_token,\n",
    "        }\n",
    "        self.columns = [\n",
    "            \"input_ids\",\n",
    "            \"attention_mask\",\n",
    "            \"labels\",\n",
    "            \"decoder_attention_mask\",\n",
    "        ]\n",
    "\n",
    "    def collate_batch(self, examples):\n",
    "\n",
    "        # batch inputs for training\n",
    "        batch = {}\n",
    "        for key in examples[0].keys():\n",
    "            if key in self.columns:\n",
    "                tmp_list = []\n",
    "                for item in examples:\n",
    "                    tmp_list.append(item[key])\n",
    "\n",
    "                # pad lists to max length\n",
    "                if isinstance(tmp_list[0], list):\n",
    "                    max_length = max(map(len, tmp_list))\n",
    "                    tmp_list = [\n",
    "                        el + [self.pad_token_mapping[key]] * (max_length - len(el))\n",
    "                        for el in tmp_list\n",
    "                    ]\n",
    "\n",
    "                batch[key] = torch.tensor(tmp_list, dtype=torch.long)\n",
    "        return batch\n",
    "    \n",
    "    def __call__(self, examples: List[Dict[str, InputDataClass]]) -> Dict[str, torch.Tensor]:\n",
    "        # re-format inputs for training\n",
    "        batch = {}\n",
    "        for key in examples[0].keys():\n",
    "            if key in self.columns:\n",
    "                tmp_list = []\n",
    "                for item in examples:\n",
    "                    tmp_list.append(item[key])\n",
    "\n",
    "                # pad lists to max length\n",
    "                if isinstance(tmp_list[0], list):\n",
    "                    max_length = max(map(len, tmp_list))\n",
    "                    tmp_list = [\n",
    "                        el + [self.pad_token_mapping[key]] * (max_length - len(el))\n",
    "                        for el in tmp_list\n",
    "                    ]\n",
    "\n",
    "                batch[key] = torch.tensor(tmp_list, dtype=torch.long)\n",
    "        return batch\n",
    "# dataset = datasets.load_dataset(data_args.task_name, data_args.version_name)"
   ]
  },
  {
   "cell_type": "code",
   "execution_count": 20,
   "id": "219866fe",
   "metadata": {},
   "outputs": [
    {
     "data": {
      "application/json": {
       "ascii": false,
       "bar_format": null,
       "colour": null,
       "elapsed": 0.013610124588012695,
       "initial": 0,
       "n": 0,
       "ncols": null,
       "nrows": 60,
       "postfix": null,
       "prefix": "",
       "rate": null,
       "total": 24,
       "unit": "ex",
       "unit_divisor": 1000,
       "unit_scale": false
      },
      "application/vnd.jupyter.widget-view+json": {
       "model_id": "0f6c38db555b48a68765094c9d18d60e",
       "version_major": 2,
       "version_minor": 0
      },
      "text/plain": [
       "  0%|          | 0/24 [00:00<?, ?ex/s]"
      ]
     },
     "metadata": {},
     "output_type": "display_data"
    },
    {
     "data": {
      "application/json": {
       "ascii": false,
       "bar_format": null,
       "colour": null,
       "elapsed": 0.017872095108032227,
       "initial": 0,
       "n": 0,
       "ncols": null,
       "nrows": 60,
       "postfix": null,
       "prefix": "",
       "rate": null,
       "total": 986,
       "unit": "ex",
       "unit_divisor": 1000,
       "unit_scale": false
      },
      "application/vnd.jupyter.widget-view+json": {
       "model_id": "954891eadc7b4d798eb3461cca341c1a",
       "version_major": 2,
       "version_minor": 0
      },
      "text/plain": [
       "  0%|          | 0/986 [00:00<?, ?ex/s]"
      ]
     },
     "metadata": {},
     "output_type": "display_data"
    },
    {
     "data": {
      "application/json": {
       "ascii": false,
       "bar_format": null,
       "colour": null,
       "elapsed": 0.013918876647949219,
       "initial": 0,
       "n": 0,
       "ncols": null,
       "nrows": 60,
       "postfix": null,
       "prefix": "",
       "rate": null,
       "total": 255,
       "unit": "ex",
       "unit_divisor": 1000,
       "unit_scale": false
      },
      "application/vnd.jupyter.widget-view+json": {
       "model_id": "423fb9c60af0404f8a8836927579210d",
       "version_major": 2,
       "version_minor": 0
      },
      "text/plain": [
       "  0%|          | 0/255 [00:00<?, ?ex/s]"
      ]
     },
     "metadata": {},
     "output_type": "display_data"
    }
   ],
   "source": [
    "# seq_collector = SequenceCollator(0)\n",
    "# train_ds = seq_collector.__call__(dataset['train'])\n",
    "# train_ds\n",
    "# dataset['train'][0].keys()\n",
    "for split in ['train','dev','test']:\n",
    "    our_data_splits[split] = our_data_splits[split].map(\n",
    "            lambda x: format_instance(\n",
    "                x,\n",
    "                tokenizer,\n",
    "                data_args.explanation_sep,\n",
    "                datasource=data_args.task_name,\n",
    "                io_format=data_args.io_format\n",
    "            ),\n",
    "            batched=False,\n",
    "            load_from_cache_file=False,\n",
    "        )"
   ]
  },
  {
   "cell_type": "code",
   "execution_count": null,
   "id": "0c120e04",
   "metadata": {},
   "outputs": [],
   "source": []
  },
  {
   "cell_type": "code",
   "execution_count": 21,
   "id": "81048fad",
   "metadata": {},
   "outputs": [],
   "source": [
    "chatGPT_rationales = [\n",
    "    \"A cup is a common vessel used for holding and drinking liquids, such as water, coffee, or tea. When you want to get yourself a drink, you might typically get a cup from a cabinet or other storage area in order to hold the drink. A cup is a convenient and practical choice for getting a drink because it is easy to hold and use, and it can hold a reasonable amount of liquid. There are many different types of cups available, including ceramic, glass, plastic, and metal cups, each with their own unique features and benefits. Whether you are at home, at work, or out in public, a cup is a handy item to have on hand when you need to quench your thirst.\",\n",
    "    \"A front yard is the lawn that is typically located in front of a house, near the street. The front yard is the part of the property that is visible from the street and is often used for decorative purposes, such as landscaping or gardening. Many people take pride in their front yards and may spend time and resources maintaining and improving them. The front yard is often the first thing that visitors see when they arrive at a house, and it can make a strong impression on them. In contrast, the back yard is typically located behind the house and is often used for more practical purposes, such as outdoor recreation or gardening.\",\n",
    "    \"A swimming pool is a recreational water feature that is typically used for swimming and other aquatic activities. While shallow water, such as that found in a kiddie pool or a shallow end of a pool, can be enjoyable for some people, it may not be sufficient for many summer activities. A swimming pool that is deep enough for diving and other activities is more likely to provide more opportunities for summer fun. In addition, a swimming pool that is clean and chlorinated is more likely to be safe and enjoyable for swimming, as it will be free of contaminants and bacteria that can cause illness.\",\n",
    "    \"In most places, it is illegal for people under the age of 21 to purchase or consume alcohol. This is because alcohol can have negative effects on the developing brain and body of young people. It can also contribute to risky behaviors and accidents. Therefore, many governments have set a minimum age for alcohol consumption and purchase to help protect the health and safety of young people. If someone is under the age of 21 and attempts to purchase alcohol, they may be denied the sale or face legal consequences. It is important for young people to understand and adhere to the laws and regulations regarding the purchase and consumption of alcohol in their area.\",\n",
    "    \"When someone shaves, they typically use a razor to remove hair from their face or body. The process of shaving can leave a lot of hair in the sink, as the hair is trimmed off and falls into the sink as it is being shaved. It is common for people to shave in the bathroom, where a sink is typically located. The sink provides a convenient place to rinse the razor and wash off any excess hair or shaving cream. It is important to clean the sink after shaving to remove any hair and prevent clogs in the drain.\",\n",
    "    \"A hamburger is a type of sandwich that consists of a cooked patty of ground meat, typically beef, placed between two slices of bread or a bun. Hamburgers are often served with various toppings, such as lettuce, tomato, onion, cheese, and condiments like ketchup and mustard. However, if someone is suffering from great hunger, they may not care about the toppings and just want to eat the hamburger itself. In this case, the person may be more focused on satisfying their hunger and getting nourishment rather than worrying about additional ingredients or flavors.\",\n",
    "    \"If a person notices popcorn and cotton candy on the grass, they are likely at fairgrounds. Fairgrounds are outdoor areas that are used for hosting fairs and other events, such as carnivals, festivals, and exhibitions. These events often feature food stalls and vendors that sell a variety of treats, including popcorn and cotton candy. Popcorn and cotton candy are both popular carnival foods that are often sold at fairs and other events. The presence of these foods on the ground at fairgrounds suggests that a fair or similar event is taking place there.\",\n",
    "    \"When snow on a mountain becomes heavy, it can trigger an avalanche. An avalanche is a rapid flow of snow down a slope, often triggered by the weight of the snow or external factors such as a change in temperature. Avalanches can be dangerous and destructive, as they can bury and sweep away anything in their path, including people, buildings, and vehicles. Avalanches can occur on any slope with a steep enough incline and a sufficient amount of snow. They are most common on mountains, but they can also occur in other snowy areas, such as forests or valleys. It is important for people to be aware of the risk of avalanches and to take precautions when traveling in areas prone to avalanches.\",\n",
    "    \"A police officer typically reports their work through the use of case reports or incident reports. These reports are written documents that detail the events of a specific case or incident that the officer has worked on. Case reports or incident reports typically include information such as the date and time of the incident, the location, the people involved, and the actions taken by the officer. They may also include witness statements, evidence collected, and any other relevant details. Case reports or incident reports are used by police officers to document their work and provide a record of the incidents they have dealt with. They are also used by supervisors and other authorities to review and evaluate the performance of the officer and the effectiveness of their actions.\",\n",
    "    \"Teachers play many roles in the lives of their students, including mentor, counselor, and role model. However, they get the most out of their job by simply teaching children. Teaching children is the primary responsibility of a teacher, and it is what they are trained and paid to do. Teaching involves imparting knowledge, skills, and values to students, and helping them to develop the skills and habits they need to succeed in life. Teachers have the opportunity to make a positive impact on the lives of their students by providing them with a strong foundation in academic subjects and helping them to become curious, engaged learners. Teachers often derive a great deal of satisfaction from helping their students to achieve their potential and succeed in their studies.\",\n",
    "    \"A person might go to get counseling for a variety of reasons. One reason is to better understand themselves. Counseling can provide a safe and supportive environment for individuals to explore their thoughts, feelings, and behaviors, and to gain insight into why they act and feel the way they do. Counseling can also help a person to identify and work through any underlying issues or challenges that may be causing them distress or hindering their personal growth. Through counseling, a person can learn more about themselves and how to navigate their emotions and relationships more effectively. Counseling can be particularly helpful for individuals who are struggling with mental health issues, relationship problems, or other personal challenges.\",\n",
    "    \"If the kids wanted to cool off, they might go swimming as a way to refresh and beat the heat. Swimming is a fun and enjoyable activity that can provide relief from hot weather and help to cool the body. Swimming can also provide a great workout and has numerous health benefits, such as improving cardiovascular fitness and flexibility. There are many different places where kids can go swimming, such as pools, lakes, rivers, or the ocean. No matter where they go, kids can have fun and cool off while enjoying the water.\",\n",
    "    \"When remembering a tragedy in the past, many people may feel depressed. Depression is a common emotional reaction to experiencing a traumatic or stressful event, such as a tragedy. Depression is a mental health disorder characterized by persistent feelings of sadness, hopelessness, and low energy. It can also cause physical symptoms such as changes in appetite and sleep patterns, fatigue, and difficulty concentrating. Remembering a tragedy can be emotionally difficult and may trigger feelings of sadness, grief, and guilt. It is important for people who are struggling with depression to seek support and treatment to help manage their symptoms and improve their mental health.\",\n",
    "    \"Death Valley is a national park located in the Mojave Desert, in the state of California, United States. It is situated on the North American continent. The North American continent is one of the seven continents of the world and is located in the western hemisphere. It is the third largest continent in terms of land area, after Asia and Africa, and is home to a diverse range of cultures, languages, and environments. Death Valley is known for its extreme desert climate and is the lowest, hottest, and driest place in North America. It is a popular destination for tourists, who come to see its unique geological features, such as sand dunes, salt flats, and canyons.\",\n",
    "    \"When in a serious relationship, understanding better requires effort. Relationships require effort and work to maintain and grow. In order to understand your partner better, you need to be willing to put in the time and effort to communicate with them, listen to their perspectives, and try to see things from their point of view. This may involve asking questions, expressing your own feelings and needs, and being open to feedback and compromise. Understanding your partner better can help to strengthen the bond between you and improve the quality of your relationship. It is important to remember that relationships are dynamic and evolving, and that ongoing communication and effort are necessary to maintain a healthy and fulfilling relationship.\",\n",
    "    \"Cats are able to make a variety of vocalizations, including meows, purrs, and growls, as a way of communicating with humans and other animals. Cats use these vocalizations to convey a range of emotions and needs, such as hunger, happiness, or discomfort. Meowing is a common vocalization that cats use to communicate with humans. Cats may meow when they want attention, food, or to be let outside. Cats may also meow when they are feeling anxious or stressed. Although cats cannot talk in the same way that humans do, they are skilled at using their voices to communicate with their owners and other animals.\",\n",
    "    \"If you need a vessel that is similar to a battleship but faster, you might consider using a corvette. A corvette is a small, fast warship that is typically used for convoy escort, patrol, and other shallow water duties. Corvettes are generally smaller and less heavily armed than battleships, but they are more agile and have a higher speed. They are typically equipped with a variety of weapons, including guns, missiles, and torpedoes, and are used for defending against enemy ships and aircraft. Corvettes are often used for coastal defense, as well as for patrolling and enforcing maritime laws. They are capable of operating in a variety of environments, including open ocean and littoral (nearshore) waters.\",\n",
    "    \"Water in the sky comes from rain clouds. Rain clouds are clouds that form when moist air rises and cools, forming tiny water droplets that condense around particles in the air. As the droplets grow, they eventually become heavy enough to fall from the cloud as rain. Rain clouds are typically gray or white in color and are often accompanied by other types of clouds, such as cumulus or stratocumulus clouds. Rain clouds can form in a variety of ways, such as when warm, moist air from the ground rises and cools, or when moist air from the ocean is carried inland by the wind. Rain clouds can be found in many parts of the world and are a common source of precipitation, especially during the warmer months.\",\n",
    "    \"If John rented a hotel room while on a business trip and it was a company-sponsored event, it is possible that the hotel was a resort. Resorts are hotels or vacation properties that offer a variety of amenities and activities for guests, such as swimming pools, golf courses, spas, and restaurants. They are often located in scenic or recreational areas and are designed to provide a relaxing and enjoyable experience for guests. Many resorts offer conference and meeting facilities and are popular destinations for business events and retreats. If John's company sponsored the business trip and provided the hotel accommodations, it is likely that they chose a resort with the amenities and facilities needed to support the event.\",\n",
    "    \"An expressway might leave the United States and go to Canada. The United States and Canada are neighboring countries that share a border, and there are several expressways that cross the border between the two countries. Expressways are high-speed, limited-access roads that are designed for fast and efficient travel. They typically have multiple lanes and may include features such as grade separations, interchanges, and controlled access points. Expressways are used for long-distance travel and are often the main routes connecting major cities and regions. If an expressway leaves the United States, it is likely that it is heading towards Canada, which is located to the north of the United States.\",\n",
    "    \"If you were walking on a sidewalk near a small corner shop run by John, you would look for it on the street corner. A corner shop is a small retail store that is typically located at the intersection of two streets. It is often a convenience store or a neighborhood shop that sells a variety of goods, such as groceries, household items, and other supplies. Corner shops are often located in busy urban areas, where they are easily accessible to pedestrians and motorists. If you were walking on a sidewalk near a corner shop, you would look for it at the intersection of the street where you are walking and another street. The shop is likely to be located in a building on the corner, with windows and doors facing the street.\",\n",
    "    \"One way that a company can efficiently sell things to their customers is through mail order. Mail order is a method of selling goods or services by advertising them in a catalog or other publication and allowing customers to place orders by mail, telephone, or online. Mail order is a convenient and efficient way for companies to reach a wide customer base, as it allows them to sell products to customers who may not be located near their physical store or who may not have the time or inclination to shop in person. Mail order companies typically have a centralized warehouse or distribution center where orders are processed and shipped to customers. They may also offer options such as easy returns and exchanges, as well as customer service support to assist with any questions or issues that customers may have.\",\n",
    "    \"If he enjoyed the factory work and liked the idea that he did it for sale, it is likely that he enjoyed producing goods. Factory work typically involves the production of goods, such as products or materials, using machines, tools, and other equipment. Factory workers are responsible for operating and maintaining the equipment and ensuring that the goods being produced meet quality standards. The goods produced in a factory may be sold directly to consumers or to other businesses, and may be used for a variety of purposes, such as manufacturing, construction, or distribution. If a person enjoys factory work, they may find satisfaction in the idea that they are contributing to the production of goods that will be sold and used by others.\",\n",
    "    \"If returning to work was easy for Dan after his treatment and he was completely painless, it is likely that he had undergone some form of medical treatment or therapy to address a health issue or injury. Painless indicates that Dan was no longer experiencing pain or discomfort, which may have been a result of the treatment or therapy he received. It is not clear from the information provided what specific health issue or injury Dan was dealing with, or what treatment or therapy he received. However, it is possible that Dan was able to return to work more easily after his treatment because he was feeling better and was no longer experiencing any pain or discomfort.\",\n",
    "    \"If index cards were on display at the museum, it is likely that the museum was a library. Libraries are institutions that provide access to a wide range of resources, including books, periodicals, and other printed materials, as well as digital resources such as e-books, databases, and online research tools. Libraries often have exhibits and displays of various types of materials, including rare or unique items, and may have special collections or archives that are of particular interest to researchers or historians. Index cards are small, rectangular pieces of paper that are used for organizing information, such as names, dates, or research notes. They may be used in a variety of settings, including libraries, offices, and schools. If index cards were on display at the museum, it is possible that they were part of a historical exhibit or collection related to the history of libraries or research.\",\n",
    "    \"If she was a human in America who wanted to live well, it is likely that the given for her situation was the need for money. In general, money is an important factor in enabling people to live well and meet their basic needs and desires. Money allows people to purchase the goods and services that they need to sustain themselves and their families, such as food, clothing, housing, and healthcare. It also enables people to pursue their interests and hobbies, travel, and engage in various forms of leisure and entertainment. In America, and in many other countries around the world, the cost of living can be high, and people often need to earn and save money in order to achieve a desired standard of living. As such, the need for money is a given for many people in order to live well.\",\n",
    "    \"A place that could have one back garden is a house. A garden is a piece of land that is used for growing plants, flowers, vegetables, or other types of vegetation. Gardens can be found in a variety of settings, including residential properties, public parks, and commercial properties. A house is a building that is used as a dwelling for one or more people, and it typically includes living spaces, such as bedrooms, bathrooms, and a kitchen, as well as outdoor areas, such as a front yard, side yard, and back yard. A back yard is a private outdoor space that is typically located behind a house and is often used for recreational or leisure activities, such as gardening, grilling, or playing games. If a house has a back garden, it is likely that the garden is located in the back yard.\",\n",
    "    \"People gather at a football stadium to see large men in pads play a game where they run and smash into each other. Football is a popular sport that is played on a rectangular field by two teams of eleven players. The game involves running, passing, and tackling, and players wear pads and other protective gear to reduce the risk of injury. Football is a physical and intense sport, and players often collide with each other at high speeds. Football stadiums are large, open-air facilities that are designed to host football games and other sporting events. They typically have a grass or artificial turf field, seating for spectators, and a variety of amenities, such as concessions stands, restrooms, and VIP areas. Football stadiums are popular places for people to gather and watch football games, and they can be found in cities and towns throughout the world.\",\n",
    "    \"One place where someone can get a flute is a musical instrument store. A musical instrument store is a retail establishment that specializes in selling musical instruments and related accessories. They may carry a wide range of instruments, including brass instruments, woodwind instruments, string instruments, percussion instruments, and keyboards. Flutes are woodwind instruments that are played by blowing air into a narrow opening and producing sound by vibrating the lips against a metal or wooden reed. They are popular instruments that are used in a variety of musical styles, including classical, jazz, and folk music. If someone is looking to purchase a flute, they may be able to find a selection of flutes at a musical instrument store. In addition to flutes, musical instrument stores may also offer a variety of other instruments, as well as sheet music, instructional materials, and accessories such as cases, stands, and cleaning supplies.\",\n",
    "    \"It is not clear what someone who has a greed for energy would do. The word greed typically refers to an excessive or insatiable desire for wealth, power, or material possessions. It is not clear how this concept would relate to energy or how it might influence someone's actions. It is possible that someone who has a lot of energy or who is very active might have a high appetite for food and might seek out sources of fuel or nutrition to sustain their energy levels. In this case, they might buy food as a way to obtain the energy they need. However, it is not accurate to say that someone who has a greed for energy would necessarily do this. It is important to note that the concept of greed is generally considered to be negative, as it suggests an unhealthy or unsustainable desire for something.\",\n",
    "    \"A forklift is a type of industrial vehicle that is used for moving and lifting heavy loads, such as pallets, crates, and boxes. Forklifts are equipped with a hydraulic lift mechanism and a set of prongs or forks that can be used to lift and transport loads. They are commonly used in warehouses and other distribution centers to move and stack materials, such as boxes, onto shelves or other storage areas. If you were using a forklift to stack boxes onto shelves, it is likely that you were in a warehouse or a similar facility. Warehouses are large, commercial buildings that are used for storing and distributing goods. They often have high ceilings, wide aisles, and multiple levels, and they may be equipped with a variety of material handling equipment, such as forklifts, conveyor belts, and cranes, to facilitate the movement and storage of goods.\",\n",
    "    \"You are likely to receive mouthwash in a little paper cup at a dentist's office. Dentist's offices are healthcare facilities that are staffed by dentists and other dental professionals, and they are used for the diagnosis and treatment of dental problems and the maintenance of oral health. One common practice at a dentist's office is to rinse the mouth with mouthwash, which is a liquid that is used to freshen breath, kill bacteria, and reduce the risk of gum disease and other oral health issues. Mouthwash is typically used after brushing and flossing to help remove any remaining food particles or plaque from the mouth. It may be dispensed in a little paper cup, which can be used to rinse the mouth and then disposed of after use.\",\n",
    "    \"A doctor's office can help you with an illness. A doctor's office is a healthcare facility that is staffed by medical doctors and other healthcare professionals, and it is used for the diagnosis and treatment of medical conditions and the maintenance of overall health. If you are experiencing an illness, such as a cold, flu, or more serious health issue, you may visit a doctor's office to seek medical care and treatment. At a doctor's office, you may receive a physical examination, diagnostic tests, and other forms of medical treatment, depending on the nature of your illness and your specific needs. Doctors are trained to diagnose and treat a wide range of medical conditions, and they can provide you with the care and support you need to recover from your illness and get back to good health.\",\n",
    "    \"A bug looking for wildflowers and no human interruption might go to a meadow. A meadow is a grassland area that is characterized by its open, grassy landscape and the presence of wildflowers and other types of vegetation. Meadows can be found in a variety of settings, including rural areas, forests, and parkland, and they are often home to a variety of animal and plant species. Because meadows are relatively undisturbed by human activity, they can be a good place for a bug to find wildflowers and other types of plants without interference from humans. Meadows are often considered to be peaceful, serene places, and they may be attractive to a bug that is seeking a quiet, natural environment in which to explore and forage.\",\n",
    "    \"If a bride and groom are taking care of proposals, the likely ceremony is a marriage. A marriage is a formal union between two people that is recognized by law and typically involves a public ceremony and the exchange of vows. A marriage proposal is a request for someone to marry another person, and it is typically made by one partner to the other. The process of planning a marriage often involves taking care of a variety of details and arrangements, such as choosing a venue, selecting a date, inviting guests, and organizing the ceremony and reception. If a bride and groom are taking care of proposals, it is likely that they are in the process of planning their marriage and preparing for the wedding ceremony.\",\n",
    "    \"You could put some olives in a jar to prevent them from getting nearby food wet. A jar is a container that is typically made of glass or ceramic and has a wide mouth and a secure, tight-fitting lid. Jars are often used for storing food items, such as olives, pickles, jams, and other types of preserved or dried goods. Because they have a sealed lid, jars can help to keep food fresh and prevent it from coming into contact with air or other substances that might spoil or contaminate it. If you want to prevent olives from getting nearby food wet, you could put them in a jar and close the lid to create an airtight seal. This would help to keep the olives separate from other foods and prevent them from coming into contact with moisture or other liquids.\",\n",
    "    \"If the graveyard was zoned by the pastor, it is likely that it was located on church property. Church property refers to land or buildings that are owned by a church or religious organization. This may include the main church building, as well as other structures such as a rectory, school, or community center. Church property may also include a graveyard or cemetery, which is a place where people are buried after they die. Pastors, who are ordained leaders in a church, often play a central role in the management and oversight of church property, and they may be responsible for zoning or designating areas within the property for specific purposes, such as a graveyard or a garden. If the pastor has zoned the graveyard, it is likely that it is located on church property and is being used as a place for burial by members of the church or community.\",\n",
    "    \"If a family wanted to live with carpeting, they may have ended up putting it in their houses. Houses are structures that are designed and built to be used as homes, and they typically have a number of rooms that are used for different purposes, such as sleeping, cooking, eating, and relaxing. Carpeting is a type of floor covering that is made of soft, flexible materials, such as wool, nylon, or polypropylene, and it is often used in houses to provide warmth, comfort, and insulation. If a family wanted to live with carpeting, they may have chosen to install carpeting in some or all of the rooms in their houses, in order to create a warm and cozy atmosphere and to improve the overall comfort and livability of their homes.\",\n",
    "    \"If a boss likes an employee's ambition, the employee may be put in charge of a project. A project is a specific task or set of tasks that is undertaken in order to achieve a specific goal or objective. Projects may be large or small, complex or simple, and they may involve a wide range of activities, such as research, design, development, testing, and implementation. If an employee is ambitious and demonstrates a strong desire to succeed and make a positive contribution to their organization, their boss may choose to put them in charge of a project, in order to give them the opportunity to demonstrate their skills and abilities and to take on more responsibility. Being put in charge of a project can be a challenging and rewarding experience, and it may provide an employee with the chance to learn new things, develop their skills, and make a meaningful contribution to their organization.\",\n",
    "    \"A county highway can be viewed as a line on a map. A map is a graphic representation of an area or region that shows the locations of various features, such as roads, rivers, mountains, and cities. Maps are often used to help people navigate and find their way around unfamiliar places, and they can be very useful for understanding the layout and geography of an area. County highways are roads that are maintained and operated by a county or local government, and they are typically used for local travel and transportation within a county or region. On a map, a county highway may be represented as a line, with a specific color or symbol used to indicate its location and route. By viewing a county highway as a line on a map, it is possible to get a sense of the route and layout of the road, and to use the map to plan a journey or navigate to a specific destination.\",\n",
    "    \"After going for a run, someone may feel tired. Running is a form of physical activity that involves moving quickly and continuously on foot, typically by running or jogging. It is a popular form of exercise that can help to improve cardiovascular fitness, build endurance, and strengthen the muscles of the legs and lower body. However, running can also be physically demanding, and it requires a certain level of fitness and stamina to be able to sustain the activity for an extended period of time. As a result, it is common for people to feel tired after going for a run, especially if they are not used to the activity or if they have pushed themselves to run for a longer distance or at a faster pace than usual. Tiredness after a run may be accompanied by other physical sensations, such as muscle fatigue, thirst, or a sense of accomplishment.\",\n",
    "    \"If a car was going from Florida to Ohio, it was heading north. Florida is a state in the southeastern region of the United States, and Ohio is a state in the midwestern region of the country. When traveling from Florida to Ohio, a person would need to go north in order to reach their destination. North is a direction that is opposite to south on a map or compass, and it is typically associated with higher latitude, colder climates, and longer nights. When traveling north, a person may encounter different landscapes, weather patterns, and cultural experiences than they would when traveling south, depending on the specific route and the distance traveled. By heading north from Florida to Ohio, a person would be leaving behind the warm, tropical climate of Florida and entering into a more temperate, mid-latitude region with cooler temperatures and a more diverse range of landscapes and ecosystems.\",\n",
    "    \"During a typical week, a teacher is likely to spend most of their time working in school. A teacher is a person who is trained and qualified to teach students in a school or educational setting, and their primary job is to provide instruction and guidance to help students learn and develop their skills and knowledge. Teachers may work in a variety of settings, including primary schools, secondary schools, and universities, and they may teach a wide range of subjects, including math, science, English, history, and the arts. In order to fulfill their duties as a teacher, a person is likely to spend most of their time working in a school or educational setting, where they will be responsible for preparing and delivering lessons, grading assignments, communicating with students and parents, and performing other tasks related to their job. Teachers typically work on a schedule that follows the school year, and they may work full-time or part-time, depending on their specific circumstances and the needs of their students.\",\n",
    "    \"In a predicament, an animal might choose to fight for its life as an alternative to fleeing. Predicament is a term that refers to a difficult or challenging situation, typically one that involves a choice or decision that needs to be made. When an animal finds itself in a predicament, it may have to decide how to respond in order to survive and protect itself. One option that an animal may have is to flee or run away from the situation in an effort to escape danger or avoid conflict. Another option that an animal may have is to fight for its life, using whatever means are available to defend itself and protect its survival. The choice that an animal makes in a predicament will depend on a variety of factors, including the specific nature of the situation, the animal's size, strength, and abilities, and the resources and options that are available to it.\",\n",
    "    \"It is not common for people to fight each other when they find a good deal. A good deal is typically defined as an opportunity to purchase something at a price that is lower than what it is usually worth, or to obtain a product or service that provides more value or benefits than what is expected. When people find a good deal, they may feel excited or pleased about the opportunity to save money or get more for their money, and they may take action to take advantage of the deal. However, it is generally not considered acceptable or appropriate for people to fight each other over a good deal or to engage in physical violence or aggression in order to obtain it. There are many other ways that people can express their interest in a good deal, such as by negotiating with the seller, making an offer, or simply making a purchase if the price is acceptable.\",\n",
    "    \"An altar is a platform or structure that is used for religious ceremonies, rituals, or worship. Altars are often found in places of worship, such as temples, churches, synagogues, mosques, and other religious buildings. When a person is standing in front of an altar, they are likely to be in a temple or other place of worship. Altars can be used for a variety of purposes in different religions and spiritual traditions, such as offering sacrifices, making offerings, praying, or performing other religious practices. They may be decorated with symbols, images, or other items that are significant to the religion or spiritual tradition that is being practiced. Altars may also be used as a place for people to meditate, reflect, or seek spiritual guidance.\",\n",
    "    \"Joe bought a bunch of grapes because he likes to use them to top his desserts. A dessert is a type of food that is typically served at the end of a meal, and it is usually sweet or rich in flavor. There are many different types of desserts that people enjoy, including cakes, cookies, ice cream, pie, and other sweet treats. One way that people may use grapes as a topping for their desserts is by placing them on top of a fruit pie, tart, or crisp. Grapes can add flavor and texture to a dessert, and they may also be used to decorate a dessert or to add visual appeal. Grapes are a versatile fruit that can be used in many different types of desserts, and they can be eaten fresh, frozen, or preserved in various ways.\",\n",
    "    \"Well water is water that is obtained from underground sources, typically through the use of a well. A well is a hole or shaft that is dug into the ground in order to access water that is contained in underground aquifers or other water-bearing formations. Well water is typically used for drinking, irrigation, and other purposes, and it is often considered to be of high quality because it is filtered and purified naturally as it flows through the ground. To obtain well water, a person can dig a well or have one dug by a professional well driller. The depth of the well will depend on the location and the geology of the area, and a pump or other mechanical system may be used to bring the water to the surface.\",\n",
    "]"
   ]
  },
  {
   "cell_type": "code",
   "execution_count": null,
   "id": "69fa8109",
   "metadata": {},
   "outputs": [],
   "source": []
  },
  {
   "cell_type": "code",
   "execution_count": 22,
   "id": "01fdee8d",
   "metadata": {},
   "outputs": [],
   "source": [
    "id_list = [\n",
    " '71519c19654251cced50c5718fd527c1',\n",
    " '44195d210c81c8c550174d0edbd3ad5d',\n",
    " '5a5da37b685ec9c6f15228128ce30437',\n",
    " 'cabdfc174953b4bdb8bdcc89d6592c74',\n",
    " 'eac3a4080127e8924034651b57dfa289',\n",
    " 'c0013f31657294b9b5ad819123513ca7',\n",
    " '2681697be70cd5425899ed6deb84b18a',\n",
    " '47f60340b869552e795fa6782224f3d2',\n",
    " '7e8a6eac93147eb52d8151bab7b40003',\n",
    " 'f34267f498c8a78383e35057fbcfa2ce',\n",
    " 'f024f923d78e5c0a4c0c4baa3ddccf05',\n",
    " 'e148c710d0c26849cf1f15293481038b',\n",
    " 'bdf437d7498815f36c255f64a8e6571c',\n",
    " '2282e0c80be28aadadb79a822fec9dac',\n",
    " 'bdd05e96876342b4b5999709439a7f4e',\n",
    " '494b8316614fc64c5c27757aeaffce23_1',\n",
    " 'c4494b402264250dc70931613d482295',\n",
    " 'fcfbf207c5586294fdce33b645b613f1',\n",
    " '9c583bcbe68989a644433302545fb31e',\n",
    " '0e684d779d98e6eecda167c10af42bbb',\n",
    " 'ac0462d09b9fddd40c3c77aedf48a870',\n",
    " '1dbfb41e04a10bdbb085bfe667c0df99',\n",
    " 'cd0c0ef3b8ce0eb09ff26823f6059be6',\n",
    " 'e6b67184b99375d05d3f2887f684c684',\n",
    " 'ae9f6f1e17b3fdd3a86b494933809f45',\n",
    " 'f149604169936a30b7e4c8d599d604b5',\n",
    " 'd7c8377953e0175ef57d59f3a8e63a8e',\n",
    " '1837216ac7745121b82a6491b2318c09',\n",
    " 'b5fe238d45e55ca5d802b7823ad390ef',\n",
    " 'b2fbeb0b48bd5e575af0f7dc24cdd85d',\n",
    " '9bdfb101c487ac598f6e4686cf774703',\n",
    " '206c7116ee2246180fcc0c5a1d0e7205',\n",
    " '5cd7f44bbf730dfae5ef2a362d2e5149',\n",
    " '45d0ea781ffd49b07d6eae94d47a8945',\n",
    " '89afdea1d76272fda8e1538a7d3b7a3f',\n",
    " '38a514fe54108527e1d6e89d9812da93',\n",
    " 'ebf347934a3e90ea46d3d87726fb5d25',\n",
    " '90226a6ecd7308ae1e6220a15ae24bc6',\n",
    " '5cae8057e75e3adf5c338a43b3ba97fb',\n",
    " '388a363c49e1b0aca8eaf18ccdde0caf',\n",
    " '9ed3af82152dfcd7000bf4631b095f71',\n",
    " '2d5805d894bba224c5fe91e70b8c0f77',\n",
    " 'd5aa464a16b72c9b9f3091abd461e3ef',\n",
    " '381b11c54be4cc432a95053ca34cbf6b',\n",
    " '807a3a2dabdd50ed0c76052fd2612632',\n",
    " '5172041c750d22e9a5081cc024de0fa6',\n",
    " 'd32a45ab3b751110d0578a78e54c0e64',\n",
    " '28ca5cbe27774746c34f6ebe84fc6d0c']"
   ]
  },
  {
   "cell_type": "code",
   "execution_count": null,
   "id": "51445c67",
   "metadata": {},
   "outputs": [],
   "source": []
  },
  {
   "cell_type": "code",
   "execution_count": 23,
   "id": "dabe3306",
   "metadata": {},
   "outputs": [],
   "source": [
    "# our_wrong_data_splits['dev']=[]\n",
    "# for x in our_data_splits['dev']:\n",
    "#     for ii in range(5):\n",
    "#         new_x={'id':x['id'], 'real_answer':x['answer'], \n",
    "#                'answer':x['choices'][ii], 'question':x['question'],\n",
    "#                'choices':x['choices'],\n",
    "#                'abstractive_explanation':x['abstractive_explanation'],\n",
    "#                'extractive_explanation':x['extractive_explanation'],\n",
    "#                'our_explanation':x['our_explanation']}\n",
    "#         our_wrong_data_splits['dev'].append(new_x)\n",
    "#     #print(x)\n",
    "#     #pdb.set_trace()\n",
    "# # wandb.init()\n",
    "# our_wrong_dev_data_dict = list2dict(our_wrong_data_splits['dev'])\n",
    "# our_wrong_data_splits['dev'] = datasets.Dataset.from_dict(our_wrong_dev_data_dict)"
   ]
  },
  {
   "cell_type": "code",
   "execution_count": 24,
   "id": "7b62bdf5",
   "metadata": {},
   "outputs": [],
   "source": [
    "# our_wrong_data_splits['train'][0],our_wrong_data_splits['train'][0].keys()\n",
    "# our_wrong_data_splits['train'] = our_wrong_data_splits['train'].map(\n",
    "#             lambda x: format_instance(\n",
    "#                 x,\n",
    "#                 tokenizer,\n",
    "#                 data_args.explanation_sep,\n",
    "#                 datasource=data_args.task_name,\n",
    "#                 io_format=data_args.io_format\n",
    "#             ),\n",
    "#             batched=False,\n",
    "#             load_from_cache_file=False,\n",
    "#         )"
   ]
  },
  {
   "cell_type": "code",
   "execution_count": 25,
   "id": "b421f892",
   "metadata": {},
   "outputs": [],
   "source": [
    "# for da in our_wrong_data_splits['dev']:\n",
    "#     print(\"*******\")\n",
    "#     print(\"question: {}\".format(da['question']))\n",
    "#     print(\"real_answer: {}\".format(da['real_answer']))\n",
    "#     print(\"answer: {}\".format(da['answer']))\n",
    "#     print(\"choices: {}\".format(da['choices']))\n",
    "#     print(\"our_explanation: {}\".format(da['our_explanation']))\n",
    "#     inp_ids = torch.tensor(da[\"input_ids\"], device=model.device).reshape(1, -1)\n",
    "#     out = model.generate(\n",
    "#                     inp_ids,\n",
    "#                     max_length=100,\n",
    "#                     pad_token_id=tokenizer.pad_token_id,\n",
    "#                     eos_token_id=tokenizer.eos_token_id,\n",
    "#                 )\n",
    "#     skip_special_tokens = False if \"infilling\" in data_args.io_format else True\n",
    "#     words = tokenizer.decode(out[0].tolist(), skip_special_tokens=skip_special_tokens)\n",
    "#     print(\"generated explanation: {}\".format(words))\n",
    "#     print(\"#######\")"
   ]
  },
  {
   "cell_type": "code",
   "execution_count": 26,
   "id": "dfa34701",
   "metadata": {},
   "outputs": [],
   "source": [
    "# our_wrong_data_splits['train'][0],our_wrong_data_splits['train'][0].keys()\n",
    "# our_wrong_data_splits['dev'] = our_wrong_data_splits['dev'].map(\n",
    "#             lambda x: format_instance(\n",
    "#                 x,\n",
    "#                 tokenizer,\n",
    "#                 data_args.explanation_sep,\n",
    "#                 datasource=data_args.task_name,\n",
    "#                 io_format=data_args.io_format\n",
    "#             ),\n",
    "#             batched=False,\n",
    "#             load_from_cache_file=False,\n",
    "#         )"
   ]
  },
  {
   "cell_type": "code",
   "execution_count": 27,
   "id": "2e6d6437",
   "metadata": {},
   "outputs": [],
   "source": [
    "# for da in our_wrong_data_splits['dev']:\n",
    "#     print(\"*******\")\n",
    "#     print(\"question: {}\".format(da['question']))\n",
    "#     print(\"real_answer: {}\".format(da['real_answer']))\n",
    "#     print(\"answer: {}\".format(da['answer']))\n",
    "#     print(\"choices: {}\".format(da['choices']))\n",
    "#     print(\"our_explanation: {}\".format(da['our_explanation']))\n",
    "#     inp_ids = torch.tensor(da[\"input_ids\"], device=model.device).reshape(1, -1)\n",
    "#     out = model.generate(\n",
    "#                     inp_ids,\n",
    "#                     max_length=100,\n",
    "#                     pad_token_id=tokenizer.pad_token_id,\n",
    "#                     eos_token_id=tokenizer.eos_token_id,\n",
    "#                 )\n",
    "#     skip_special_tokens = False if \"infilling\" in data_args.io_format else True\n",
    "#     words = tokenizer.decode(out[0].tolist(), skip_special_tokens=skip_special_tokens)\n",
    "#     print(\"generated explanation: {}\".format(words))\n",
    "#     print(\"#######\")"
   ]
  },
  {
   "cell_type": "code",
   "execution_count": 28,
   "id": "91605cfc",
   "metadata": {},
   "outputs": [],
   "source": [
    "# for da in our_wrong_data_splits['train']:\n",
    "#     print(\"*******\")\n",
    "#     print(\"question: {}\".format(da['question']))\n",
    "#     print(\"real_answer: {}\".format(da['real_answer']))\n",
    "#     print(\"answer: {}\".format(da['answer']))\n",
    "#     print(\"choices: {}\".format(da['choices']))\n",
    "#     print(\"our_explanation: {}\".format(da['our_explanation']))\n",
    "#     inp_ids = torch.tensor(da[\"input_ids\"], device=model.device).reshape(1, -1)\n",
    "#     out = model.generate(\n",
    "#                     inp_ids,\n",
    "#                     max_length=100,\n",
    "#                     pad_token_id=tokenizer.pad_token_id,\n",
    "#                     eos_token_id=tokenizer.eos_token_id,\n",
    "#                 )\n",
    "#     skip_special_tokens = False if \"infilling\" in data_args.io_format else True\n",
    "#     words = tokenizer.decode(out[0].tolist(), skip_special_tokens=skip_special_tokens)\n",
    "#     print(\"generated explanation: {}\".format(words))\n",
    "#     print(\"#######\")"
   ]
  },
  {
   "cell_type": "code",
   "execution_count": 29,
   "id": "cbc3e763",
   "metadata": {},
   "outputs": [],
   "source": [
    "# import wandb\n",
    "# training_args.run_name=\"\"\n",
    "training_args.logging_steps=3\n",
    "training_args.save_steps=5\n",
    "training_args.evaluation_strategy=\"epoch\"\n",
    "training_args.num_train_epochs=25\n",
    "training_args.do_eval=True"
   ]
  },
  {
   "cell_type": "code",
   "execution_count": 30,
   "id": "317de5d7",
   "metadata": {},
   "outputs": [
    {
     "data": {
      "text/plain": [
       "TrainingArguments(\n",
       "_n_gpu=1,\n",
       "adafactor=False,\n",
       "adam_beta1=0.9,\n",
       "adam_beta2=0.999,\n",
       "adam_epsilon=1e-08,\n",
       "dataloader_drop_last=False,\n",
       "dataloader_num_workers=0,\n",
       "dataloader_pin_memory=True,\n",
       "ddp_find_unused_parameters=None,\n",
       "debug=[],\n",
       "deepspeed=None,\n",
       "disable_tqdm=False,\n",
       "do_eval=True,\n",
       "do_predict=False,\n",
       "do_train=True,\n",
       "eval_accumulation_steps=None,\n",
       "eval_steps=None,\n",
       "evaluation_strategy=epoch,\n",
       "fp16=False,\n",
       "fp16_backend=auto,\n",
       "fp16_full_eval=False,\n",
       "fp16_opt_level=O1,\n",
       "gradient_accumulation_steps=1,\n",
       "greater_is_better=None,\n",
       "group_by_length=False,\n",
       "ignore_data_skip=False,\n",
       "label_names=None,\n",
       "label_smoothing_factor=0.0,\n",
       "learning_rate=5e-05,\n",
       "length_column_name=length,\n",
       "load_best_model_at_end=False,\n",
       "local_rank=-1,\n",
       "log_level=-1,\n",
       "log_level_replica=-1,\n",
       "log_on_each_node=True,\n",
       "logging_dir=./cos_e_output_t5_large/011223_105741,\n",
       "logging_first_step=False,\n",
       "logging_steps=3,\n",
       "logging_strategy=IntervalStrategy.STEPS,\n",
       "lr_scheduler_type=SchedulerType.LINEAR,\n",
       "max_grad_norm=1.0,\n",
       "max_steps=-1,\n",
       "metric_for_best_model=None,\n",
       "mp_parameters=,\n",
       "no_cuda=False,\n",
       "num_train_epochs=25,\n",
       "output_dir=./cos_e_output_t5_large/011223_105741,\n",
       "overwrite_output_dir=False,\n",
       "past_index=-1,\n",
       "per_device_eval_batch_size=8,\n",
       "per_device_train_batch_size=8,\n",
       "prediction_loss_only=False,\n",
       "push_to_hub=False,\n",
       "push_to_hub_model_id=cos_e_output_t5_large,\n",
       "push_to_hub_organization=None,\n",
       "push_to_hub_token=None,\n",
       "remove_unused_columns=True,\n",
       "report_to=['tensorboard', 'wandb'],\n",
       "resume_from_checkpoint=None,\n",
       "run_name=./cos_e_output_t5_large,\n",
       "save_on_each_node=False,\n",
       "save_steps=5,\n",
       "save_strategy=IntervalStrategy.STEPS,\n",
       "save_total_limit=None,\n",
       "seed=42,\n",
       "sharded_ddp=[],\n",
       "skip_memory_metrics=True,\n",
       "tpu_metrics_debug=False,\n",
       "tpu_num_cores=None,\n",
       "use_legacy_prediction_loop=False,\n",
       "warmup_ratio=0.0,\n",
       "warmup_steps=0,\n",
       "weight_decay=0.0,\n",
       ")"
      ]
     },
     "execution_count": 30,
     "metadata": {},
     "output_type": "execute_result"
    }
   ],
   "source": [
    "training_args"
   ]
  },
  {
   "cell_type": "code",
   "execution_count": 31,
   "id": "de79fb60",
   "metadata": {},
   "outputs": [
    {
     "data": {
      "text/plain": [
       "TrainingArguments(\n",
       "_n_gpu=1,\n",
       "adafactor=False,\n",
       "adam_beta1=0.9,\n",
       "adam_beta2=0.999,\n",
       "adam_epsilon=1e-08,\n",
       "dataloader_drop_last=False,\n",
       "dataloader_num_workers=0,\n",
       "dataloader_pin_memory=True,\n",
       "ddp_find_unused_parameters=None,\n",
       "debug=[],\n",
       "deepspeed=None,\n",
       "disable_tqdm=False,\n",
       "do_eval=True,\n",
       "do_predict=False,\n",
       "do_train=True,\n",
       "eval_accumulation_steps=None,\n",
       "eval_steps=None,\n",
       "evaluation_strategy=epoch,\n",
       "fp16=False,\n",
       "fp16_backend=auto,\n",
       "fp16_full_eval=False,\n",
       "fp16_opt_level=O1,\n",
       "gradient_accumulation_steps=1,\n",
       "greater_is_better=None,\n",
       "group_by_length=False,\n",
       "ignore_data_skip=False,\n",
       "label_names=None,\n",
       "label_smoothing_factor=0.0,\n",
       "learning_rate=5e-05,\n",
       "length_column_name=length,\n",
       "load_best_model_at_end=False,\n",
       "local_rank=-1,\n",
       "log_level=-1,\n",
       "log_level_replica=-1,\n",
       "log_on_each_node=True,\n",
       "logging_dir=./cos_e_output_t5_large/011223_105741,\n",
       "logging_first_step=False,\n",
       "logging_steps=3,\n",
       "logging_strategy=IntervalStrategy.STEPS,\n",
       "lr_scheduler_type=SchedulerType.LINEAR,\n",
       "max_grad_norm=1.0,\n",
       "max_steps=-1,\n",
       "metric_for_best_model=None,\n",
       "mp_parameters=,\n",
       "no_cuda=False,\n",
       "num_train_epochs=25,\n",
       "output_dir=./cos_e_output_t5_large/011223_105741,\n",
       "overwrite_output_dir=False,\n",
       "past_index=-1,\n",
       "per_device_eval_batch_size=8,\n",
       "per_device_train_batch_size=8,\n",
       "prediction_loss_only=False,\n",
       "push_to_hub=False,\n",
       "push_to_hub_model_id=cos_e_output_t5_large,\n",
       "push_to_hub_organization=None,\n",
       "push_to_hub_token=None,\n",
       "remove_unused_columns=True,\n",
       "report_to=['tensorboard', 'wandb'],\n",
       "resume_from_checkpoint=None,\n",
       "run_name=./cos_e_output_t5_large,\n",
       "save_on_each_node=False,\n",
       "save_steps=5,\n",
       "save_strategy=IntervalStrategy.STEPS,\n",
       "save_total_limit=None,\n",
       "seed=42,\n",
       "sharded_ddp=[],\n",
       "skip_memory_metrics=True,\n",
       "tpu_metrics_debug=False,\n",
       "tpu_num_cores=None,\n",
       "use_legacy_prediction_loop=False,\n",
       "warmup_ratio=0.0,\n",
       "warmup_steps=0,\n",
       "weight_decay=0.0,\n",
       ")"
      ]
     },
     "execution_count": 31,
     "metadata": {},
     "output_type": "execute_result"
    }
   ],
   "source": [
    "training_args.per_device_eval_batch_size=8\n",
    "training_args.per_device_train_batch_size=8\n",
    "training_args"
   ]
  },
  {
   "cell_type": "code",
   "execution_count": 32,
   "id": "e80480ec",
   "metadata": {},
   "outputs": [],
   "source": [
    "# data_splits = {'train': None, 'validation': None, 'test': None}\n",
    "# original_data_splits = {'train': None, 'validation': None, 'test': None}  \n",
    "# data_args.io_format=\"t5_fewshot_infilling_with_choices\"\n",
    "# # Data loading from huggingface's datasets\n",
    "# if data_args.task_name in {\"cos_e\", \"esnli\"}:\n",
    "#     version_arg = None\n",
    "#     if data_args.task_name == \"cos_e\":\n",
    "#         assert data_args.version_name in {\"v1.11\", \"v1.0\"}\n",
    "#         version_arg = data_args.version_name\n",
    "\n",
    "#     load_train = True\n",
    "#     if (not training_args.do_train\n",
    "#         and not training_args.do_eval\n",
    "#         and not data_args.train_predict\n",
    "#     ):\n",
    "#         # don't load training dataset\n",
    "#         dataset = {}\n",
    "#         dataset[\"train\"] = None\n",
    "#         dataset[\"validation\"] = datasets.load_dataset(\n",
    "#             data_args.task_name, version_arg, split=\"validation\"\n",
    "#         )\n",
    "#         data_splits['validation'] = dataset[\"validation\"]\n",
    "\n",
    "#         if data_args.task_name == \"esnli\":\n",
    "#             dataset[\"test\"] = datasets.load_dataset(data_args.task_name, split=\"test\")\n",
    "#             data_splits['test'] = dataset[\"test\"]\n",
    "#         load_train = False\n",
    "#     else:\n",
    "#         dataset = datasets.load_dataset(data_args.task_name, version_arg)\n",
    "\n",
    "#         if data_args.n_shots > 0: # Shots = number of training examples **per label** \n",
    "#             if data_args.task_name == 'esnli': # Construct a *balanced* random sample of the size `data_args.n_shots*len(labels)` (for train) or `data_args.fewshot_eval_size` (for eval)\n",
    "#                 for split in [\"train\", \"validation\", \"test\"]:\n",
    "#                     split_data = dataset[split]\n",
    "#                     label_subsets = []\n",
    "#                     labels = split_data.features['label'].names\n",
    "#                     sample_size = data_args.n_shots if split == \"train\" else int(data_args.fewshot_eval_size/len(labels))\n",
    "#                     if data_args.gpt3_max_eval_size is not None and split != 'train':\n",
    "#                         assert len(labels) == 3\n",
    "#                         sample_size = data_args.gpt3_max_eval_size // len(labels)\n",
    "#                     for label in labels:\n",
    "#                         # The following is a hack to only run on `neutral` labels of `esnli` to get data for human eval\n",
    "#                         # if data_args.gpt3_max_eval_size is not None and split != 'train' and label != 'neutral':\n",
    "#                         #     continue\n",
    "#                         label_int = split_data.features['label'].str2int(label)\n",
    "#                         label_set = split_data.filter(lambda example: example['label'] == label_int).shuffle() # all instances of labeled as `label`\n",
    "#                         label_subset = label_set.select(range(sample_size)) #select `sample_size` random instances labeled as `label`\n",
    "#                         label_subsets.append(label_subset)\n",
    "#                     dataset[split] = datasets.concatenate_datasets(label_subsets) #merge all label-specific instances\n",
    "#             elif data_args.task_name == 'cos_e': \n",
    "#                 for split in [\"train\", \"validation\"]: \n",
    "#                     split_data = dataset[split]\n",
    "#                     sample_size = data_args.n_shots if split == \"train\" else int(data_args.fewshot_eval_size) #Shots for QA are not label-specific, i.e., `n_shots` is the training data size\n",
    "#                     if data_args.gpt3_max_eval_size is not None and split != 'train':\n",
    "#                         sample_size = data_args.gpt3_max_eval_size\n",
    "#                     dataset[split] = split_data#.shuffle().select(range(sample_size)) # select `sample_size` random instances\n",
    "#             else: \n",
    "#                 raise ValueError('Only cos_e and esnli are supported by Huggingface datasets.')\n",
    "#     # Apply method, and format dataset to torch.Tensor outputs\n",
    "# #     fse_csqa_train_file=\"/cognitive_comp/huangyongfeng/evaluate_LM_with_rationalization/few_shot_explanations/data/acceptability_annotations/commonsenseqa_train.csv\"\n",
    "# #     fse_csqa_dev_file=\"/cognitive_comp/huangyongfeng/evaluate_LM_with_rationalization/few_shot_explanations/data/acceptability_annotations/commonsenseqa_test.csv\"\n",
    "# #     fse_csqa_train_dataset = datasets.load_dataset('csv', data_files=fse_csqa_train_file)\n",
    "# #     fse_csqa_dev_dataset = datasets.load_dataset('csv', data_files=fse_csqa_dev_file)\n",
    "# #     train_ids_list=[x['id'] for x in data_splits[\"train\"]]\n",
    "# #     dev_ids_list=[x['id'] for x in data_splits[\"validation\"]]\n",
    "# #     fse_train_ids_list=[x['Input.id'] for x in fse_csqa_train_dataset['train']]\n",
    "# #     fse_dev_ids_list=[x['Input.id'] for x in fse_csqa_dev_dataset['train']]\n",
    "# #     fse_train_indexs_list=[train_ids_list.index(id_) for id_ in fse_train_ids_list]\n",
    "# #     fse_dev_indexs_list=[dev_ids_list.index(id_) for id_ in fse_dev_ids_list]\n",
    "# #     print(len(fse_train_indexs_list), len(fse_dev_indexs_list))\n",
    "# #     # print(fse_train_indexs_list,fse_dev_indexs_list)\n",
    "# #     fse_data_splits={}\n",
    "# #     data_splits['train']=data_splits[\"train\"].select(fse_train_indexs_list)\n",
    "# #     data_splits['validation']=data_splits[\"validation\"].select(fse_train_indexs_list)\n",
    "#     for split in dataset.keys():\n",
    "#         if dataset[split] is not None:\n",
    "#             dataset[split] = dataset[split].map(\n",
    "#                 lambda x: format_instance(\n",
    "#                     x,\n",
    "#                     tokenizer,\n",
    "#                     data_args.explanation_sep,\n",
    "#                     datasource=data_args.task_name,\n",
    "#                     io_format=data_args.io_format\n",
    "#                 ),\n",
    "#                 batched=False,\n",
    "#                 load_from_cache_file=False,\n",
    "#             )\n",
    "#     data_splits[\"train\"] = deepcopy(dataset[\"train\"])\n",
    "#     data_splits[\"validation\"] = deepcopy(dataset[\"validation\"])\n",
    "#     if data_args.task_name == \"esnli\":\n",
    "#         data_splits[\"test\"] = deepcopy(dataset[\"test\"])\n",
    "\n",
    "#     original_data_splits[\"train\"] = deepcopy(dataset[\"train\"])\n",
    "#     original_data_splits[\"validation\"] = deepcopy(dataset[\"validation\"])\n",
    "#     if data_args.task_name == \"esnli\":\n",
    "#         original_data_splits[\"test\"] = deepcopy(dataset[\"test\"])"
   ]
  },
  {
   "cell_type": "code",
   "execution_count": 33,
   "id": "2f4cb867",
   "metadata": {},
   "outputs": [],
   "source": [
    "# import pandas as pd\n",
    "# # new_data_splits={'train': None, 'validation': None}\n",
    "# # new_data_splits['train']=deepcopy(dataset[\"train\"])\n",
    "# # new_data_splits['validation']=deepcopy(dataset[\"validation\"])\n",
    "# fse_csqa_train_file=\"/cognitive_comp/huangyongfeng/evaluate_LM_with_rationalization/few_shot_explanations/data/acceptability_annotations/commonsenseqa_train.csv\"\n",
    "# fse_csqa_dev_file=\"/cognitive_comp/huangyongfeng/evaluate_LM_with_rationalization/few_shot_explanations/data/acceptability_annotations/commonsenseqa_test.csv\"\n",
    "# # fse_csqa_train_dataset = datasets.load_dataset('csv', data_files=fse_csqa_train_file)\n",
    "# # fse_csqa_dev_dataset = datasets.load_dataset('csv', data_files=fse_csqa_dev_file)\n",
    "\n",
    "# train_df=pd.read_csv(fse_csqa_train_file)\n",
    "\n",
    "# dev_df=pd.read_csv(fse_csqa_dev_file)\n",
    "\n",
    "# dev_df\n"
   ]
  },
  {
   "cell_type": "code",
   "execution_count": 34,
   "id": "42739e9b",
   "metadata": {},
   "outputs": [],
   "source": [
    "# len(fse_train_ids_list),len(list(set(fse_train_ids_list)))"
   ]
  },
  {
   "cell_type": "code",
   "execution_count": 35,
   "id": "c78ea825",
   "metadata": {},
   "outputs": [],
   "source": [
    "# train_ids_list=[x['id'] for x in data_splits[\"train\"]]\n",
    "# dev_ids_list=[x['id'] for x in data_splits[\"validation\"]]\n",
    "# fse_train_ids_list=[x['Input.id'] for x in fse_csqa_train_dataset['train']]\n",
    "# fse_dev_ids_list=[x['Input.id'] for x in fse_csqa_dev_dataset['train']]\n"
   ]
  },
  {
   "cell_type": "code",
   "execution_count": 36,
   "id": "80395518",
   "metadata": {},
   "outputs": [],
   "source": [
    "# fse_train_indexs_list=[train_ids_list.index(id_) for id_ in fse_train_ids_list]\n",
    "# fse_dev_indexs_list=[dev_ids_list.index(id_) for id_ in fse_dev_ids_list]\n",
    "# print(len(fse_train_indexs_list), len(fse_dev_indexs_list))\n",
    "# # print(fse_train_indexs_list,fse_dev_indexs_list)\n",
    "# fse_data_splits={}\n",
    "# fse_data_splits['train']=data_splits[\"train\"].select(fse_train_indexs_list)\n",
    "# fse_data_splits['validation']=data_splits[\"validation\"].select(fse_train_indexs_list)"
   ]
  },
  {
   "cell_type": "code",
   "execution_count": 37,
   "id": "4d186954",
   "metadata": {},
   "outputs": [],
   "source": [
    "# fse_csqa_train_dataset['train'][0].keys()"
   ]
  },
  {
   "cell_type": "code",
   "execution_count": 38,
   "id": "66dd71d4",
   "metadata": {},
   "outputs": [],
   "source": [
    "class SequenceCollator:\n",
    "    def __init__(self, model, pad_token):\n",
    "        self.model = model\n",
    "        self.pad_token_mapping = {\n",
    "            \"labels\": -100,\n",
    "            \"attention_mask\": 0,\n",
    "            \"decoder_attention_mask\": 0,\n",
    "            \"input_ids\": pad_token,\n",
    "        }\n",
    "\n",
    "        self.columns = [\n",
    "            \"input_ids\",\n",
    "            \"attention_mask\",\n",
    "            \"labels\",\n",
    "            \"decoder_attention_mask\",\n",
    "        ]\n",
    "\n",
    "    def __call__(self, examples: List[Dict[str, InputDataClass]]) -> Dict[str, torch.Tensor]:\n",
    "        # re-format inputs for training\n",
    "        batch = {}\n",
    "        for key in examples[0].keys():\n",
    "            if key in self.columns:\n",
    "                tmp_list = []\n",
    "                for item in examples:\n",
    "                    tmp_list.append(item[key])\n",
    "\n",
    "                # pad lists to max length\n",
    "                if isinstance(tmp_list[0], list):\n",
    "                    max_length = max(map(len, tmp_list))\n",
    "                    tmp_list = [\n",
    "                        el + [self.pad_token_mapping[key]] * (max_length - len(el))\n",
    "                        for el in tmp_list\n",
    "                    ]\n",
    "\n",
    "                batch[key] = torch.tensor(tmp_list, dtype=torch.long)\n",
    "        return batch"
   ]
  },
  {
   "cell_type": "code",
   "execution_count": 1,
   "id": "f144515d",
   "metadata": {},
   "outputs": [
    {
     "ename": "NameError",
     "evalue": "name 'data_args' is not defined",
     "output_type": "error",
     "traceback": [
      "\u001b[0;31m---------------------------------------------------------------------------\u001b[0m",
      "\u001b[0;31mNameError\u001b[0m                                 Traceback (most recent call last)",
      "\u001b[0;32m/tmp/ipykernel_1737650/4231526452.py\u001b[0m in \u001b[0;36m<module>\u001b[0;34m\u001b[0m\n\u001b[1;32m      1\u001b[0m \u001b[0;31m# os.environ[\"WANDB_DISABLED\"] = \"True\"\u001b[0m\u001b[0;34m\u001b[0m\u001b[0;34m\u001b[0m\u001b[0m\n\u001b[0;32m----> 2\u001b[0;31m \u001b[0;32mif\u001b[0m \u001b[0mdata_args\u001b[0m\u001b[0;34m.\u001b[0m\u001b[0mgenerations_filepath\u001b[0m \u001b[0;32mis\u001b[0m \u001b[0;32mNone\u001b[0m\u001b[0;34m:\u001b[0m\u001b[0;34m\u001b[0m\u001b[0m\n\u001b[0m\u001b[1;32m      3\u001b[0m     \u001b[0mcallbacks\u001b[0m \u001b[0;34m=\u001b[0m \u001b[0;34m[\u001b[0m\u001b[0mTensorBoardCallback\u001b[0m\u001b[0;34m(\u001b[0m\u001b[0;34m)\u001b[0m\u001b[0;34m]\u001b[0m\u001b[0;34m\u001b[0m\u001b[0m\n\u001b[1;32m      4\u001b[0m     \u001b[0;32mif\u001b[0m \u001b[0mdata_args\u001b[0m\u001b[0;34m.\u001b[0m\u001b[0mearly_stopping_patience\u001b[0m \u001b[0;34m>\u001b[0m \u001b[0;36m0\u001b[0m\u001b[0;34m:\u001b[0m\u001b[0;34m\u001b[0m\u001b[0m\n\u001b[1;32m      5\u001b[0m         \u001b[0mcallbacks\u001b[0m\u001b[0;34m.\u001b[0m\u001b[0mappend\u001b[0m\u001b[0;34m(\u001b[0m\u001b[0mEarlyStoppingCallback\u001b[0m\u001b[0;34m(\u001b[0m\u001b[0mearly_stopping_patience\u001b[0m\u001b[0;34m=\u001b[0m\u001b[0mdata_args\u001b[0m\u001b[0;34m.\u001b[0m\u001b[0mearly_stopping_patience\u001b[0m\u001b[0;34m)\u001b[0m\u001b[0;34m)\u001b[0m\u001b[0;34m\u001b[0m\u001b[0m\n",
      "\u001b[0;31mNameError\u001b[0m: name 'data_args' is not defined"
     ]
    }
   ],
   "source": [
    "# os.environ[\"WANDB_DISABLED\"] = \"True\"\n",
    "if data_args.generations_filepath is None:\n",
    "    callbacks = [TensorBoardCallback()]\n",
    "    if data_args.early_stopping_patience > 0:\n",
    "        callbacks.append(EarlyStoppingCallback(early_stopping_patience=data_args.early_stopping_patience))\n",
    "        training_args.load_best_model_at_end = True\n",
    "    else:\n",
    "        training_args.load_best_model_at_end = False  # use the last model state\n",
    "    training_args.metric_for_best_model = 'eval_loss'\n",
    "    training_args.greater_is_better = False\n",
    "    if training_args.eval_steps is None:\n",
    "        training_args.evaluation_strategy = EvaluationStrategy.EPOCH\n",
    "    else:\n",
    "        training_args.evaluation_strategy = EvaluationStrategy.STEPS\n",
    "\n",
    "    trainer = Trainer(\n",
    "        model=model,\n",
    "        args=training_args,\n",
    "        train_dataset=our_data_splits['train'],\n",
    "        eval_dataset=our_data_splits['dev'],\n",
    "        data_collator=SequenceCollator(\n",
    "            model=model_class, pad_token=tokenizer.pad_token_id\n",
    "        ),\n",
    "        callbacks=callbacks,\n",
    "    )\n",
    "\n",
    "# Training. Don't train if it is use_gpt3\n",
    "if training_args.do_train and not model_args.use_gpt3:\n",
    "    start_time = time.time()\n",
    "    trainer.train()\n",
    "    train_time = time.time() - start_time\n",
    "    model = trainer.model\n",
    "    wandb.finish()\n",
    "else:\n",
    "    start_time = time.time()\n",
    "    train_time = time.time() - start_time"
   ]
  },
  {
   "cell_type": "code",
   "execution_count": 40,
   "id": "ade3c632",
   "metadata": {},
   "outputs": [],
   "source": [
    "# print(our_data_splits['dev'][0]['our_explanation'])\n",
    "# inp_ids=torch.tensor(our_data_splits['dev'][0][\"input_ids\"], device=model.device).reshape(1, -1)\n",
    "# out = model.generate(\n",
    "#                     inp_ids,\n",
    "#                     max_length=100,\n",
    "#                     pad_token_id=tokenizer.pad_token_id,\n",
    "#                     eos_token_id=tokenizer.eos_token_id,\n",
    "#                 )\n",
    "# skip_special_tokens = False if \"infilling\" in data_args.io_format else True\n",
    "# words = tokenizer.decode(out[0].tolist(), skip_special_tokens=skip_special_tokens)\n",
    "# print(words)"
   ]
  },
  {
   "cell_type": "code",
   "execution_count": 41,
   "id": "b88935f8",
   "metadata": {},
   "outputs": [],
   "source": [
    "# len(our_data_splits['dev']),len(our_data_splits['train'])"
   ]
  },
  {
   "cell_type": "code",
   "execution_count": 42,
   "id": "8eda472b",
   "metadata": {},
   "outputs": [],
   "source": [
    "# our_data_splits['dev']"
   ]
  },
  {
   "cell_type": "code",
   "execution_count": 43,
   "id": "77c15190",
   "metadata": {},
   "outputs": [],
   "source": [
    "# for da in our_data_splits['train']:\n",
    "#     print(\"*******\")\n",
    "#     print(\"question: {}\".format(da['question']))\n",
    "#     print(\"answer: {}\".format(da['answer']))\n",
    "#     print(\"choices: {}\".format(da['choices']))\n",
    "#     print(\"our_explanation: {}\".format(da['our_explanation']))\n",
    "#     inp_ids = torch.tensor(da[\"input_ids\"], device=model.device).reshape(1, -1)\n",
    "#     out = model.generate(\n",
    "#                     inp_ids,\n",
    "#                     max_length=100,\n",
    "#                     pad_token_id=tokenizer.pad_token_id,\n",
    "#                     eos_token_id=tokenizer.eos_token_id,\n",
    "#                 )\n",
    "#     skip_special_tokens = False if \"infilling\" in data_args.io_format else True\n",
    "#     words = tokenizer.decode(out[0].tolist(), skip_special_tokens=skip_special_tokens)\n",
    "#     print(\"generated explanation: {}\".format(words))\n",
    "#     print(\"#######\")"
   ]
  },
  {
   "cell_type": "code",
   "execution_count": 44,
   "id": "2ca6cbe4",
   "metadata": {},
   "outputs": [],
   "source": [
    "# for da in our_data_splits['dev']:\n",
    "#     print(\"*******\")\n",
    "#     print(\"question: {}\".format(da['question']))\n",
    "#     print(\"answer: {}\".format(da['answer']))\n",
    "#     print(\"choices: {}\".format(da['choices']))\n",
    "#     print(\"our_explanation: {}\".format(da['our_explanation']))\n",
    "#     inp_ids = torch.tensor(da[\"input_ids\"], device=model.device).reshape(1, -1)\n",
    "#     out = model.generate(\n",
    "#                     inp_ids,\n",
    "#                     max_length=100,\n",
    "#                     pad_token_id=tokenizer.pad_token_id,\n",
    "#                     eos_token_id=tokenizer.eos_token_id,\n",
    "#                 )\n",
    "#     skip_special_tokens = False if \"infilling\" in data_args.io_format else True\n",
    "#     words = tokenizer.decode(out[0].tolist(), skip_special_tokens=skip_special_tokens)\n",
    "#     print(\"generated explanation: {}\".format(words))\n",
    "#     print(\"#######\")"
   ]
  },
  {
   "cell_type": "code",
   "execution_count": 45,
   "id": "69977540",
   "metadata": {},
   "outputs": [],
   "source": [
    "# good_model = T5ForConditionalGeneration.from_pretrained(\"./cos_e_output_t5_3b/112022_235539/checkpoint-30\")"
   ]
  },
  {
   "cell_type": "code",
   "execution_count": 46,
   "id": "62fca4b8",
   "metadata": {},
   "outputs": [],
   "source": [
    "# for da in our_data_splits['dev']:\n",
    "#     print(\"*******\")\n",
    "#     print(\"question: {}\".format(da['question']))\n",
    "#     print(\"answer: {}\".format(da['answer']))\n",
    "#     print(\"choices: {}\".format(da['choices']))\n",
    "#     print(\"our_explanation: {}\".format(da['our_explanation']))\n",
    "#     inp_ids = torch.tensor(da[\"input_ids\"], device=model.device).reshape(1, -1)\n",
    "#     out = good_model.generate(\n",
    "#                     inp_ids,\n",
    "#                     max_length=100,\n",
    "#                     pad_token_id=tokenizer.pad_token_id,\n",
    "#                     eos_token_id=tokenizer.eos_token_id,\n",
    "#                 )\n",
    "#     skip_special_tokens = False if \"infilling\" in data_args.io_format else True\n",
    "#     words = tokenizer.decode(out[0].tolist(), skip_special_tokens=skip_special_tokens)\n",
    "#     print(\"generated explanation: {}\".format(words))\n",
    "#     print(\"#######\")"
   ]
  },
  {
   "cell_type": "code",
   "execution_count": 47,
   "id": "3a7de102",
   "metadata": {},
   "outputs": [],
   "source": [
    "# train_output = trainer.evaluate(our_data_splits['train'].select([0,1,2,3,4]))\n",
    "# train_output"
   ]
  },
  {
   "cell_type": "code",
   "execution_count": 48,
   "id": "f43528ca",
   "metadata": {},
   "outputs": [],
   "source": [
    "# results = {}\n",
    "# if training_args.do_eval:\n",
    "#     start_time = time.time()\n",
    "#     logger.info(\"*** Evaluate on train set***\")\n",
    "#     logger.info(len(data_splits['train']))\n",
    "#     train_output = trainer.evaluate(our_data_splits['train'])\n",
    "#     perplexity = math.exp(train_output[\"eval_loss\"])\n",
    "#     results[\"perplexity_train\"] = perplexity\n",
    "\n",
    "#     # repeat\n",
    "#     logger.info(\"*** Evaluate on dev set***\")\n",
    "#     logger.info(len(data_splits['validation']))\n",
    "#     eval_output = trainer.evaluate(data_splits['validation'])\n",
    "#     perplexity = math.exp(eval_output[\"eval_loss\"])\n",
    "#     results[\"perplexity_validation\"] = perplexity"
   ]
  },
  {
   "cell_type": "markdown",
   "id": "3d2d2ec9",
   "metadata": {},
   "source": [
    "# Rationale Discriminator"
   ]
  },
  {
   "cell_type": "markdown",
   "id": "bd5eeaa4",
   "metadata": {},
   "source": [
    "## Construction of generated rationale and accepted rationale pairs\n"
   ]
  },
  {
   "cell_type": "code",
   "execution_count": 49,
   "id": "e7f1c257",
   "metadata": {},
   "outputs": [
    {
     "data": {
      "text/plain": [
       "250"
      ]
     },
     "execution_count": 49,
     "metadata": {},
     "output_type": "execute_result"
    }
   ],
   "source": [
    "len(fse_csqa_dev_data_dict)"
   ]
  },
  {
   "cell_type": "code",
   "execution_count": 50,
   "id": "c7bcb573",
   "metadata": {},
   "outputs": [
    {
     "name": "stderr",
     "output_type": "stream",
     "text": [
      "\r",
      "  0%|                                                                                                                                                                               | 0/986 [00:00<?, ?it/s]"
     ]
    },
    {
     "name": "stdout",
     "output_type": "stream",
     "text": [
      "*******\n",
      "question: Where can you likely buy many poems?\n",
      "answer: book store\n",
      "choices: ['book of poetry', 'literature book', 'book store', 'poetry book', 'bookshelf']\n",
      "common expl list: ['A book store is a place where you can buy books, including poetry books.', 'A bookstore sells a variety of books, including poetry books; chains of bookstores sometimes specialize in categories such as poetry or literature.']\n"
     ]
    },
    {
     "name": "stderr",
     "output_type": "stream",
     "text": [
      "\r",
      "  0%|▏                                                                                                                                                                   | 1/986 [00:38<10:35:42, 38.72s/it]"
     ]
    },
    {
     "name": "stdout",
     "output_type": "stream",
     "text": [
      "generated explanation: <pad> <extra_id_0> A book store is a bookstore that sells books and other books, such as poetry, novels, and comic books. This can often make it easy to find a wide variety of poems in a variety of different styles and types. Also, a book store’s inventory is likely to be stocked with a wide variety of titles, which can help to make finding the right kind of book for you easier. Also, a book store’s inventory of books can help to provide a wide variety of titles and styles to choose</s>\n",
      "########\n",
      "*******\n",
      "question: What could bringing suit do to a rivalry?\n",
      "answer: aggravation\n",
      "choices: ['going to court', 'randomness', 'anger', 'aggravation', 'tensions']\n",
      "common expl list: ['Bringing suit against a rival could aggravate the rivalry.']\n"
     ]
    },
    {
     "name": "stderr",
     "output_type": "stream",
     "text": [
      "\r",
      "  0%|▎                                                                                                                                                                    | 2/986 [00:43<5:03:34, 18.51s/it]"
     ]
    },
    {
     "name": "stdout",
     "output_type": "stream",
     "text": [
      "generated explanation: <pad> <extra_id_0> A lawsuit is a legal action that is initiated to prevent a rivalry from continuing. The lawsuit can be brought to end a rivalry, or to resolve a dispute, or to simply to settle a dispute. The lawsuit is a legal action that is taken to end a rivalry, or to resolve a dispute. The lawsuit is an effective means of preventing the loss of property or damage to property, or both. It can also be used to enforce a law or order, which can be used to gain access to the case, the lawsuits against the parties involved in a dispute, or to the dispute, or to be used to as, or to the relationship, or to the relationship.</s>\n",
      "########\n",
      "*******\n",
      "question: A person who yawns and paces to help pass the time is likely feeling what?\n",
      "answer: boredom\n",
      "choices: ['ridiculous', 'excitement', 'meanness', 'terrorism', 'boredom']\n",
      "common expl list: ['Yawning and pacing is a sign of being bored, etc...', 'By yawning and pacing one shows signs of being bored.', 'A bored person would pace and yawn to make time go by faster.']\n"
     ]
    },
    {
     "name": "stderr",
     "output_type": "stream",
     "text": [
      "\r",
      "  0%|▌                                                                                                                                                                    | 3/986 [00:47<3:18:59, 12.15s/it]"
     ]
    },
    {
     "name": "stdout",
     "output_type": "stream",
     "text": [
      "generated explanation: <pad> <extra_id_0> A person who yawns and paces to help pass the time is likely feeling bored. This is because they are likely feeling bored or anxious, which can lead to increased activity and increased stress levels. Additionally, they are likely feeling bored or anxious, which can lead to increased activity and stress. Additionally, they may be feeling stressed or anxious, which can lead to an increase in stress and anxiety. Additionally, a person who yawns and paces to help pass the time is likely feeling bored or anxious, which can be a.</s>\n",
      "########\n",
      "*******\n",
      "question: I only like fiction books, why should I read a non-fiction book?\n",
      "answer: knowledge\n",
      "choices: ['knowledge', 'been printed new', 'many words', 'for fun', 'cover']\n",
      "common expl list: ['Non-fiction books contain knowledge.']\n"
     ]
    },
    {
     "name": "stderr",
     "output_type": "stream",
     "text": [
      "\r",
      "  0%|▋                                                                                                                                                                    | 4/986 [00:52<2:28:23,  9.07s/it]"
     ]
    },
    {
     "name": "stdout",
     "output_type": "stream",
     "text": [
      "generated explanation: <pad> <extra_id_0> : I like fiction books, why should I read a non-fiction book? Knowledge is the ability to gain knowledge and to acquire new knowledge. Knowledge is the ability to acquire new information and to acquire new skills. Knowledge is the ability to acquire new skills and knowledge. Knowledge is the ability to acquire new knowledge. Knowledge is the ability to acquire new knowledge. Knowledge is the ability to acquire new knowledge. Knowledge is the ability to acquire new knowledge. Knowledge is the ability to acquire new knowledge. Knowledge is the ability to acquire new skills and knowledge is the knowledge.</s>\n",
      "########\n",
      "*******\n",
      "question: An American might hike a mountain north to get to what?\n",
      "answer: canada\n",
      "choices: ['canada', 'switzerland', 'orlando', 'austria', 'surface of earth']\n",
      "common expl list: ['If an American hiked north, they would likely end up in Canada.']\n"
     ]
    },
    {
     "name": "stderr",
     "output_type": "stream",
     "text": [
      "\r",
      "  1%|▊                                                                                                                                                                    | 5/986 [01:08<3:09:23, 11.58s/it]"
     ]
    },
    {
     "name": "stdout",
     "output_type": "stream",
     "text": [
      "generated explanation: <pad> <extra_id_0> A hiker would hike a mountain north to get to canada. This is because the mountain is a high altitude mountain and the elevation is about 2,000 feet. The mountain is also a good place to camp and rest, and it is a popular place to visit for those who want to get out of the country. The mountain also provides a great place to see the northern lights of Canada. The mountain is also a great place to enjoy the outdoors and enjoy the fresh air.</s>\n",
      "########\n",
      "*******\n",
      "question: Sam spent most of his time standing up.  His job was hectic and he never got any rest. But he was the best cashier at his workplace.    Where might he work?\n",
      "answer: supermarket\n",
      "choices: ['bookstore', 'count till', 'supermarket', 'shop', 'preschool']\n",
      "common expl list: ['Since one spends most of his time standing when working as a cashier, Sam probably works at a supermarket where groceries are sold. Because his workplace is full of activities and punten, he never gets any rest.', \"The best cashiers work setting up lines of products, yhis is usually done from being on one's feet. Supermarkets use till systems to swipe credit cards, thus cashiering is done by standing up.\"]\n"
     ]
    },
    {
     "name": "stderr",
     "output_type": "stream",
     "text": [
      "\r",
      "  1%|█                                                                                                                                                                    | 6/986 [01:11<2:24:47,  8.86s/it]"
     ]
    },
    {
     "name": "stdout",
     "output_type": "stream",
     "text": [
      "generated explanation: <pad> <extra_id_0> Sam worked as a cashier at a supermarket. His job was very busy and he often stood up. This made it difficult for him to relax and take a rest. He also had to pay attention to his surroundings and keep himself hydrated. This made it easier for him to concentrate on his work and concentrate on other things, such as eating, cleaning, and preparing food. This job was very physical and he was constantly standing up. This made him a good cashier because he could get up and walk around easily</s>\n",
      "########\n",
      "*******\n",
      "question: James raked fallen leaves into a pile. Where might he leave the pile?\n",
      "answer: ground\n",
      "choices: ['forest', 'roof', 'garden', 'tree', 'ground']\n",
      "common expl list: ['Leaves are often raked into piles on the ground.']\n"
     ]
    },
    {
     "name": "stderr",
     "output_type": "stream",
     "text": [
      "\r",
      "  1%|█▏                                                                                                                                                                   | 7/986 [01:14<1:55:12,  7.06s/it]"
     ]
    },
    {
     "name": "stdout",
     "output_type": "stream",
     "text": [
      "generated explanation: <pad> <extra_id_0> The leaves<extra_id_1> The leaves are raked up and piled into a pile. The pile is usually left on the ground. The leaves are then thrown into the pile and the pile is then left to dry and decay. The leaves are then placed in a pile to form a pile that can be left on the ground. The pile is then left on the ground until the leaves are fully dried. The leaves can then be left on the ground to dry and become a mulch or a mulch, which can then be left on the next. The leaves are then raked.</s>\n",
      "########\n",
      "*******\n",
      "question: What happens when we fail at something we attempt?\n",
      "answer: leave\n",
      "choices: ['leave', 'give up', 'trying', 'we get shunned', 'fail']\n",
      "common expl list: [\"If we engage in an activity, like a sport, and fail, we don't want to continue doing it. It's much easier simply to leave.\", 'If we fail at something, we usually leave (quit) that activity; failing is an action, while giving up and trying are both ways of not acting.']\n"
     ]
    },
    {
     "name": "stderr",
     "output_type": "stream",
     "text": [
      "\r",
      "  1%|█▎                                                                                                                                                                   | 8/986 [01:21<1:50:42,  6.79s/it]"
     ]
    },
    {
     "name": "stdout",
     "output_type": "stream",
     "text": [
      "generated explanation: <pad> <extra_id_0> When we fail at something we attempt, we are essentially attempting to make a new attempt at something. This is because we are attempting to learn something new and therefore we are attempting to improve our skills. This is because we are unable to perform the task successfully and thus learn something new. In this case, we are able to learn new things and we are able to move on. This is because we have learned how to improve and thus we have a better chance of success. We also have learned how to be more about of the a failure, we are as.</s>\n",
      "########\n",
      "*******\n",
      "question: The referee wasn't specialized in one thing. He refereed many games.  He was offered a job but wasn't sure what it would be.  What did he know it would be?\n",
      "answer: sporting event\n",
      "choices: ['side with opponent', 'football', 'hockey game', 'part two boxers', 'sporting event']\n",
      "common expl list: ['Referees are specialized in sports, and so, they would be expected to know how to referee a sporting event.']\n"
     ]
    },
    {
     "name": "stderr",
     "output_type": "stream",
     "text": [
      "\r",
      "  1%|█▌                                                                                                                                                                   | 9/986 [01:25<1:38:40,  6.06s/it]"
     ]
    },
    {
     "name": "stdout",
     "output_type": "stream",
     "text": [
      "generated explanation: <pad> <extra_id_0> The referee wasn't specialized in one thing. He was offered a job but wasn't sure what it would be. He wasn't sure what it would be. He was offered a job but wasn't sure what it would be. He was offered a job but wasn't sure what it would be. He was offered a job but wasn't sure what it would be. He was offered a job at a sporting event. He was offered a job at a sporting event. He</s>\n",
      "########\n",
      "*******\n",
      "question: Susan threw the highly elastic ball at the wall.  The ball did what?\n",
      "answer: rebound\n",
      "choices: ['bounce', 'recoil', 'rebound', 'underwear', 'stretch']\n",
      "common expl list: ['Elastic balls collide with the wall, and boom bounce back after a collision.']\n"
     ]
    },
    {
     "name": "stderr",
     "output_type": "stream",
     "text": [
      "\r",
      "  1%|█▋                                                                                                                                                                  | 10/986 [01:29<1:26:41,  5.33s/it]"
     ]
    },
    {
     "name": "stdout",
     "output_type": "stream",
     "text": [
      "generated explanation: <pad> <extra_id_0> Susan threw the highly elastic ball at the wall. The ball bounced off the wall and bounced back. The rebound was a rebound of the ball, which was a rebound of the ball. The rebound was a rebound of the ball, which was a rebound of the ball, which is a process that results in a rebound of the ball. The rebound is a process that involves the release of energy from the ball and the release of energy from the ball. The rebound is a result of the rebound of energy.</s>\n",
      "########\n",
      "*******\n",
      "question: John lived in a small island surrounded by flowing liquid H2O   Where might he live?\n",
      "answer: mississippi river\n",
      "choices: ['japan', 'hawaii', 'mississippi river', 'pacific ocean', 'body of water']\n",
      "common expl list: ['there are numerous islands in the mississippi river in the united states, making it possible that John may have lived on one.']\n"
     ]
    },
    {
     "name": "stderr",
     "output_type": "stream",
     "text": [
      "\r",
      "  1%|█▊                                                                                                                                                                  | 11/986 [01:34<1:24:31,  5.20s/it]"
     ]
    },
    {
     "name": "stdout",
     "output_type": "stream",
     "text": [
      "generated explanation: <pad> <extra_id_0> John lived in a small island surrounded by flowing liquid H2O. This would be the area that is currently surrounded by flowing liquid H2O. The island would be surrounded by flowing liquid H2O. The island would be surrounded by flowing liquid H2O. The island would be a small, open-sided, isolated, isolated area that would be surrounded by flowing liquid H2O. The island would be surrounded by flowing liquid H2O. The island would be a small, isolated, floating island, and would be located in the Mississippi River is the Mississippi River<extra_id_9> </s>\n",
      "########\n",
      "*******\n",
      "question: What will the student have to do on the test?\n",
      "answer: solve equation\n",
      "choices: ['finish college', 'begin teaching', 'write', 'answer question', 'solve equation']\n",
      "common expl list: ['A student has to solve equations to learn a given theory that is presented in class.']\n"
     ]
    },
    {
     "name": "stderr",
     "output_type": "stream",
     "text": [
      "\r",
      "  1%|█▉                                                                                                                                                                 | 12/986 [04:38<16:06:46, 59.55s/it]"
     ]
    },
    {
     "name": "stdout",
     "output_type": "stream",
     "text": [
      "generated explanation: <pad> <extra_id_0> The student will have to solve the equations on the test. The student will be given a number of questions to solve to get the correct answer. The test will also include a section on math and science, and a section on reading comprehension. The student will be given a score of 100 on the test. The test will also include a section on writing and reading comprehension. Finally, the student will have to complete a written response to the test. The student will also have to complete a written response to the question.</s>\n",
      "########\n",
      "*******\n",
      "question: The tourists saw what they thought was a statue, but they soon discovered it was performance art went it began what?\n",
      "answer: moving\n",
      "choices: ['growing mold', 'moving', 'accent garden', 'green', 'painting']\n",
      "common expl list: ['Performance art is art that is performed, rather than being a static object. In this case, the statue was moving, which is a sign of performance art.']\n"
     ]
    },
    {
     "name": "stderr",
     "output_type": "stream",
     "text": [
      "\r",
      "  1%|██▏                                                                                                                                                                | 13/986 [04:46<11:56:04, 44.16s/it]"
     ]
    },
    {
     "name": "stdout",
     "output_type": "stream",
     "text": [
      "generated explanation: <pad> <extra_id_0> The tourists saw what they thought they saw as a statue, but they soon discovered it was performance art. The tourists were able to see the performance art, which was moving and bouncing around the sculptures. This is because it was a moving sculpture, which is a form of performance art. The moving sculptures were able to move and move objects, and move objects around, which was a unique experience for the tourists. The moving sculptures were also able to be seen from different angles, which is also a moving.</s>\n",
      "########\n",
      "*******\n",
      "question: What is a good way to carry a small dog?\n",
      "answer: backpack\n",
      "choices: ['good hands', 'backpack', 'chinese food', 'grocery bag', 'basket']\n",
      "common expl list: ['Backpacks are a good way to carry things, and small dogs are things.']\n"
     ]
    },
    {
     "name": "stderr",
     "output_type": "stream",
     "text": [
      "\r",
      "  1%|██▎                                                                                                                                                                 | 14/986 [04:49<8:33:42, 31.71s/it]"
     ]
    },
    {
     "name": "stdout",
     "output_type": "stream",
     "text": [
      "generated explanation: <pad> <extra_id_0> A backpack is a lightweight, compact, and easy to carry backpack. The backpack is a lightweight, and easy to carry, backpack that can be used as a backpack for carrying a small dog. The backpack can be a convenient and comfortable way to transport a small dog, and it can also be a good weight-management tool for keeping the dog in a small space. A backpack also provides a convenient way to store and transport a small dog. A backpack also provides a convenient way to carry a small dog.</s>\n",
      "########\n",
      "*******\n",
      "question: Both sides in World War I used what to cause death that is now banned?\n",
      "answer: poisonous gas\n",
      "choices: ['homicide', 'poisonous gas', 'cyanide', 'nuclear weapons', 'massive weapons']\n",
      "common expl list: ['Poison gas is a chemical known for its ability to kill (therefore, if both sides used it, people on both sides died from its use), and it has since gone on to be outlawed in many countries.']\n"
     ]
    },
    {
     "name": "stderr",
     "output_type": "stream",
     "text": [
      "\r",
      "  2%|██▍                                                                                                                                                               | 15/986 [10:55<35:40:30, 132.27s/it]"
     ]
    },
    {
     "name": "stdout",
     "output_type": "stream",
     "text": [
      "generated explanation: <pad> <extra_id_0> In World War I, both sides used poisonous gas to cause death. This gas was used to create a gas that was a mixture of gas and air, which could have caused death. The gas was used to create a gas that could have caused a gas explosion or a sonic boom, which could have been used to cause damage to the lungs. This gas was also used to create a toxic atmosphere, which could have caused the death of many people. The gas was also used to create a gas that could have been banned.</s>\n",
      "########\n",
      "*******\n",
      "question: Where is disease often spread but shouldn't be?\n",
      "answer: hospital\n",
      "choices: ['ghost town', 'third world country', 'human body', 'rug', 'hospital']\n",
      "common expl list: ['Hospitals are places where people go to get better, and therefore disease is often spread there.', 'Disease is spread most commonly in hospitals, where sick patients are treated and recovered hosts of disease are found.']\n"
     ]
    },
    {
     "name": "stderr",
     "output_type": "stream",
     "text": [
      "\r",
      "  2%|██▋                                                                                                                                                               | 16/986 [11:49<29:20:16, 108.88s/it]"
     ]
    },
    {
     "name": "stdout",
     "output_type": "stream",
     "text": [
      "generated explanation: <pad> <extra_id_0> Hospitals are the main source of disease and often spread disease in a way that is harmful to the patient and the staff. They are also the places where the disease is often spread and where it is often a waste of time and money. Hospitals are also often the places where people can get sick and get sick. They are also the places where people can get sick and get sick easily. They are also the places where people can get sick and get sick quickly. This is because they are the place where people can go to get sick and get to get disease</s>\n",
      "########\n",
      "*******\n",
      "question: As things get colder, temperature does what?\n",
      "answer: drop to zero\n",
      "choices: ['increase', 'drop to zero', 'heat up', 'dropping quickly', 'arctic']\n",
      "common expl list: ['As things get colder, they get closer to zero degrees.']\n"
     ]
    },
    {
     "name": "stderr",
     "output_type": "stream",
     "text": [
      "\r",
      "  2%|██▊                                                                                                                                                                | 17/986 [11:50<20:32:16, 76.30s/it]"
     ]
    },
    {
     "name": "stdout",
     "output_type": "stream",
     "text": [
      "generated explanation: <pad> <extra_id_0> As things get colder, temperature does what? drop to zero.</s>\n",
      "########\n",
      "*******\n",
      "question: Where is one unlikely to get popcorn?\n",
      "answer: soccer game\n",
      "choices: ['restaurant', 'movie house', 'soccer game', 'carnival', 'movie theater']\n",
      "common expl list: ['Most soccer games lack concession stands, which are necessary to sell movie theaters popcorn.', 'Soccer games usually lack popcorn machines.', 'Soccer games are usually snacks-free affairs; snacks, including popcorn, tend to be present at more recreational venues, but less so in settings where food is unnecessary because there are translatable goods sellers, i.e., vendors that sell things like popcorn']\n"
     ]
    },
    {
     "name": "stderr",
     "output_type": "stream",
     "text": [
      "\r",
      "  2%|██▉                                                                                                                                                                | 18/986 [11:53<14:36:08, 54.31s/it]"
     ]
    },
    {
     "name": "stdout",
     "output_type": "stream",
     "text": [
      "generated explanation: <pad> <extra_id_0> Soccer games are the most likely place to get popcorn. However, soccer games are also the most likely places to find the snack. For example, soccer games are often viewed as games in which the goalie is likely to be a player, and the goalkeeper is likely to be a player. This is because soccer games are often played in stadiums and stadiums, which means that popcorn is likely to be available for purchase, and therefore, unlikely to be purchased. Also, soccer games are often played during the off-season, which is the game.</s>\n",
      "########\n",
      "*******\n",
      "question: Where are files likely to be hanging?\n",
      "answer: filing cabinet\n",
      "choices: ['filing cabinet', 'tree', 'suitcase', 'computer', 'desk drawer']\n",
      "common expl list: ['Files are likely to be hanging in a filing cabinet, since they are often organized by topic, and filing cabinets are often used to organize files.', 'Filing cabinets are used to store files sometimes; these files can then be found by opening the filing cabinet and looking for hanging folders.']\n"
     ]
    },
    {
     "name": "stderr",
     "output_type": "stream",
     "text": [
      "\r",
      "  2%|███▏                                                                                                                                                               | 19/986 [11:57<10:32:08, 39.22s/it]"
     ]
    },
    {
     "name": "stdout",
     "output_type": "stream",
     "text": [
      "generated explanation: <pad> <extra_id_0> A filing cabinet is a cabinet that houses the files that are stored inside it. The cabinet is typically a wooden or metal structure, and is typically built for storage purposes, such as storing documents or other important documents. The cabinets are typically made of wood, and are typically fitted with shelves to accommodate a variety of sizes and types of files. Additionally, a filing cabinet is a place where files and other important documents are stored, such as a filing cabinet, and is often designed with a sliding door or shelf. This allows for the organization and cabinet is likely to be located in the files and a cabinet in which is likely to be as.</s>\n",
      "########\n",
      "*******\n",
      "question: What is required to go on vacation before anything else?\n",
      "answer: have money\n",
      "choices: ['pack', 'pay bills', 'save money', 'have money', 'reliable car']\n",
      "common expl list: ['Vacations often require the purchase of travel services, such as airline or hotel tickets.']\n"
     ]
    },
    {
     "name": "stderr",
     "output_type": "stream",
     "text": [
      "\r",
      "  2%|███▎                                                                                                                                                                | 20/986 [12:00<7:37:47, 28.43s/it]"
     ]
    },
    {
     "name": "stdout",
     "output_type": "stream",
     "text": [
      "generated explanation: <pad> <extra_id_0> Having money is a very important factor in going on vacation. It is not enough to just go on a vacation and enjoy yourself. It is also a very important factor in determining whether or not you can afford to take a vacation. In addition, having money is a major factor in determining whether or not you can take a vacation. Money is a very important factor in determining whether or not you can afford to take a vacation. It is also important to have a budget for vacations and other travel. Vacations.</s>\n",
      "########\n",
      "*******\n",
      "question: The roadway passed a sign and gate house, what was behind the gatehouse?\n",
      "answer: subdivision\n",
      "choices: ['city', 'narnia', 'subdivision', 'neighborhood', 'countryside']\n",
      "common expl list: ['A subdivision contains houses that formed around it; therefore, a subdivision has a gatehouse that controls who goes in and out.', 'Subdivisions are residential areas that are often gated, and so, if you see a gatehouse, you might be in a subdivision.']\n"
     ]
    },
    {
     "name": "stderr",
     "output_type": "stream",
     "text": [
      "\r",
      "  2%|███▍                                                                                                                                                                | 21/986 [12:03<5:33:48, 20.76s/it]"
     ]
    },
    {
     "name": "stdout",
     "output_type": "stream",
     "text": [
      "generated explanation: <pad> <extra_id_0> The roadway passed a sign and gate house, what was behind the gatehouse? The roadway passed a sign and gate house, what was behind the gatehouse? and what was behind the gatehouse? The roadway passed a sign and gate house, what was behind the gatehouse? and what was behind the gatehouse? a subdivision, or a gatehouse that was used as a gate for a subdivision, or a gatehouse that was used as a gatehouse for a subdivision?</s>\n",
      "########\n",
      "*******\n",
      "question: The invasive A.I. was designed to scan the crowd, where most saw a mass of humanity the evil machine could pick out each what?\n",
      "answer: individual\n",
      "choices: ['solitary', 'single person', 'few people', 'crowd', 'individual']\n",
      "common expl list: [\"Machine intelligence is better able to find isolated individuals than crowded groups. Machines need to scan a large group of people to be able to find a single person--but when the single person doesn't blend in, it makes them easier to find.\"]\n"
     ]
    },
    {
     "name": "stderr",
     "output_type": "stream",
     "text": [
      "\r",
      "  2%|███▋                                                                                                                                                                | 22/986 [12:39<6:48:19, 25.41s/it]"
     ]
    },
    {
     "name": "stdout",
     "output_type": "stream",
     "text": [
      "generated explanation: <pad> <extra_id_0> The A.I. was designed to scan the crowd, where most saw a mass of humanity, where most saw a large number of people. The machine could then pick out individual individuals and then use its intelligence to attack them. This is because the machine could be able to identify each individual and attack them, causing them to become more vulnerable to attack. This is because the machine could also be able to detect the individual’s movements and emotions, and thus, causing them to become more vulnerable to attack. Additionally, the machine could also be a. The invasive technology was designed to scans, and identify the crowd, and identify the crowd, and thus, and then, and then, and thus, and thus, and thus, and as, and thus, and as to scans, and then, and, and identify each person, and as, and thus, and as to be as to be a a a as to be as to be s,, s, a a, as a, a,, and</s>\n",
      "########\n",
      "*******\n",
      "question: Is has been speculated that a aliens could be communicating by doing this?\n",
      "answer: thinking\n",
      "choices: ['effort', 'farting', 'thinking', 'laugh', 'medium']\n",
      "common expl list: ['Aliens could quite possibly be using thought as a way to communicate between themselves.']\n"
     ]
    },
    {
     "name": "stderr",
     "output_type": "stream",
     "text": [
      "\r",
      "  2%|███▊                                                                                                                                                                | 23/986 [12:42<5:00:03, 18.69s/it]"
     ]
    },
    {
     "name": "stdout",
     "output_type": "stream",
     "text": [
      "generated explanation: <pad> <extra_id_0> It has been speculated that a alien could be communicating by thinking. This is because a thinking alien could be communicating by doing things that are similar to our own brain cells. This could be a form of communication between two people, or between two people who are different species. This could be a way for the aliens to communicate with each other, or by using their brain cells to think and communicate. This could be a way for the aliens to communicate with each other, or by allowing them to think about other things that they</s>\n",
      "########\n",
      "*******\n",
      "question: What can occur in fencing if you are not careful?\n",
      "answer: severe injuries\n",
      "choices: ['competition', 'severe injuries', 'fever', 'perspiration', 'small cuts']\n",
      "common expl list: ['Fencing is a sport that involves hitting your opponent with a sword, and if you are not careful, you can get injured.', 'Fencing is a sport, which involves hitting your opponent with a sharp piece of metal, which will almost certainly result in some physical pain.', 'The sport of fencing causes people to be hit by weapons, which may cause cuts or other wounds if someone is not careful.']\n"
     ]
    },
    {
     "name": "stderr",
     "output_type": "stream",
     "text": [
      "\r",
      "  2%|███▉                                                                                                                                                                | 24/986 [12:45<3:44:31, 14.00s/it]"
     ]
    },
    {
     "name": "stdout",
     "output_type": "stream",
     "text": [
      "generated explanation: <pad> <extra_id_0> In the fencing industry, you can suffer serious injuries.<extra_id_1> In the fencing industry, injuries can be<extra_id_2> In the fencing industry,<extra_id_3> In the fencing industry, injuries can occur<extra_id_4> In the<extra_id_5> In the fencing industry,<extra_id_6> In the<extra_id_7> In the fencing industry,<extra_id_8> In the<extra_id_9> In the<extra_id_10> In the<extra_id_11> if you are<extra_id_12> <extra_id_13> In<extra_id_14> In the<extra_id_15> In the fencing industry, injuries can<extra_id_16> Injuries can occur in<extra_id_17> In the fencing<extra_id_18> Injuries can occur in<extra_id_19> In the<extra_id_20> In the<extra_id_21> In the<extra_id_22> In<extra_id_23> </s>\n",
      "########\n",
      "*******\n",
      "question: If you stretch out your socks they will then have what kind of fit?\n",
      "answer: loose\n",
      "choices: ['cramped', 'loose', 'contract', 'park', 'compressing']\n",
      "common expl list: ['When stretched out, socks will be loose.']\n"
     ]
    },
    {
     "name": "stderr",
     "output_type": "stream",
     "text": [
      "\r",
      "  3%|████▏                                                                                                                                                               | 25/986 [12:47<2:42:55, 10.17s/it]"
     ]
    },
    {
     "name": "stdout",
     "output_type": "stream",
     "text": [
      "generated explanation: <pad> <extra_id_0> If you stretch out your socks they will have a loose fit. This is because they are not as snug as they would be if they were tight. This is because they are not as tight as they would normally be.</s>\n",
      "########\n",
      "*******\n",
      "question: John ran out of pencils.  Where did  he go to get more?\n",
      "answer: office depot\n",
      "choices: ['desk drawer', 'cup', 'pencil case', 'shelf', 'office depot']\n",
      "common expl list: ['John can buy new pencils at an office depot.', 'Office Depot is a company that specializes in office furniture; it also sells pens and pencils.', 'Office Depot is a store that sells office supplies, including pencils.', 'Pencils can be found at an office supply store, e.g., an office depot.', 'When people need pencils (or pens), they often buy them at office depots.']\n"
     ]
    },
    {
     "name": "stderr",
     "output_type": "stream",
     "text": [
      "\r",
      "  3%|████▎                                                                                                                                                               | 26/986 [13:02<3:05:20, 11.58s/it]"
     ]
    },
    {
     "name": "stdout",
     "output_type": "stream",
     "text": [
      "generated explanation: <pad> <extra_id_0> John ran out of pencils. He went to get more at the office depot. The office depot has a large selection of pencils and other office supplies. The office depot has a large selection of pencils and other office supplies, and is a great place to get them. The office depot also has a large selection of paper and other supplies, which means that John can get more for his needs. The office depot also has a large selection of paper and pencils for sale. This can be a convenient place to get a pencils. a pencils and paper, and for his penmany to get more of paper and for his a pencils and for as and for the pencils, and as, and as, and is as, and as. as, and a pencils and is as, and as, as as, as, and is a as, and a as toners, as and as, and a</s>\n",
      "########\n",
      "*******\n",
      "question: What does a confident person do?\n",
      "answer: trust himself\n",
      "choices: ['feel important', 'own house', 'trust himself', 'know what time', 'cry']\n",
      "common expl list: ['A confident person is sure of his abilities and the trust in himself/herself to do things or accomplish goals.', 'People whose confidence is high tend to believe themselves more strongly, and so the confident person might believe in their own abilities and do things such as trust themselves.']\n"
     ]
    },
    {
     "name": "stderr",
     "output_type": "stream",
     "text": [
      "\r",
      "  3%|████▍                                                                                                                                                               | 27/986 [13:04<2:22:19,  8.90s/it]"
     ]
    },
    {
     "name": "stdout",
     "output_type": "stream",
     "text": [
      "generated explanation: <pad> <extra_id_0> A confident person does not have to be perfect to be a confident person. Rather, a confident person must be able to trust himself and his abilities to perform tasks independently. This can be done by putting in place a system of checks and balances, and by establishing a routine of routines that allow for self-confidence. This can be done by establishing a baseline of trust in the self and his abilities.</s>\n",
      "########\n",
      "*******\n",
      "question: James thought that analyzing all the data would help him learn more, but it did not.  It only gave him what?\n",
      "answer: headache\n",
      "choices: ['headache', 'better understanding', 'papercuts', 'enlightened', 'discovering truth']\n",
      "common expl list: ['Analysis requires a lot of thinking with maybe little reward, which can give one a headache.']\n"
     ]
    },
    {
     "name": "stderr",
     "output_type": "stream",
     "text": [
      "\r",
      "  3%|████▋                                                                                                                                                               | 28/986 [13:58<5:58:23, 22.45s/it]"
     ]
    },
    {
     "name": "stdout",
     "output_type": "stream",
     "text": [
      "generated explanation: <pad> <extra_id_0> James thought that analyzing all the data would help him learn more, but it did not help him. Instead, it gave him a headache. This is because analyzing all the data did not help him learn more, it only gave him headaches. This is because analyzing all the data did not help him learn more, and headaches are a symptom of a more complex brain. This is because analyzing all the data did not help him learn more, and only gave him a headache. This is because analyzing all the data can only lead to be a headaches and headaches, and headaches.</s>\n",
      "########\n",
      "*******\n",
      "question: What makes people happy when it is surprising and unexpected?\n",
      "answer: humor\n",
      "choices: ['joke', 'humor', 'frightened', 'fight', 'laughter']\n",
      "common expl list: ['A surprise is a stimulus that is not generally predicted before exposing it to a subject. It may be surprising things that cause laughter, or unexpected things that people see as funny.']\n"
     ]
    },
    {
     "name": "stderr",
     "output_type": "stream",
     "text": [
      "\r",
      "  3%|████▊                                                                                                                                                               | 29/986 [14:02<4:28:25, 16.83s/it]"
     ]
    },
    {
     "name": "stdout",
     "output_type": "stream",
     "text": [
      "generated explanation: <pad> <extra_id_0> Humor is a powerful emotion that can make people feel happy when it is unexpected and unexpected. It can also be a source of happiness for people when it is unexpected and unexpected. It can make people happy when it is unexpected and unexpected. This is because humor can make people happy when it is unexpected and unexpected. It can also make people happy when it is unexpected and unexpected. This is because humor can make people feel happy when it is unexpected and unexpected. It can also make people happy when it is unexpected and unexpected. It can also make people happy, it is because it is ad</s>\n",
      "########\n",
      "*******\n",
      "question: What is someone who wants a lot of money?\n",
      "answer: greedy\n",
      "choices: ['selfish', 'weird', 'greedy', 'ridiculous', 'hungry']\n",
      "common expl list: ['A person who is greedy wants more things that people typically take for granted, i.e., money, success, etc. This is a lot of stuff.', 'Greed is defined as \"the desire to obtain something, especially wealth, through selfish means, typically at the expense of others.', 'Greed is a strong desire to possess a lot of money; a greedy person therefore wants it a lot.']\n"
     ]
    },
    {
     "name": "stderr",
     "output_type": "stream",
     "text": [
      "\r",
      "  3%|████▉                                                                                                                                                               | 30/986 [14:38<6:02:24, 22.75s/it]"
     ]
    },
    {
     "name": "stdout",
     "output_type": "stream",
     "text": [
      "generated explanation: <pad> <extra_id_0> A person who wants a lot of money is a greedy person. A greedy person is someone who wants to make a lot of money. A greedy person is someone who wants to make a lot of money, and who wants to make a lot of money. A greedy person is someone who wants to make a lot of money, and who wants to be rich. A greedy person is someone who wants to have a lot of money, and who wants to be a successful person. A greedy person is also known as a lot of money. It is someone who is a person, which is also known as well as a lot of money, and has a lot of money, and is a lot of money, and has a lot of money to be a lot of money, a lot of money, and to have a lot of money, and has a a lot of money to get a lot of money to be a lot of money, and has a lot of money, or is a, or a lot of, or, and has to be a, and has to have a, or, and, or has an a, or has a, or, or, has, or, and has, and has, a, or, and wants to have, or, and has, or,, or, and, or, or, and has, or, or, or, or, or, or, or, or, or, or, or, or</s>\n",
      "########\n",
      "*******\n",
      "question: Where do you keep a book to read before bed?\n",
      "answer: bedside table\n",
      "choices: ['school room', 'allen key', 'classroom', 'bedside table', 'coffee table']\n",
      "common expl list: ['Bedside tables are convenient for keeping things, e.g., a book, reading materials, glasses, etc., that you wish to keep near your bed for regular access; particularly things.', 'Bedside tables are where people keep things they use before bed, such as books, glasses, and water.']\n"
     ]
    },
    {
     "name": "stderr",
     "output_type": "stream",
     "text": [
      "\r",
      "  3%|█████▏                                                                                                                                                              | 31/986 [15:13<6:56:48, 26.19s/it]"
     ]
    },
    {
     "name": "stdout",
     "output_type": "stream",
     "text": [
      "generated explanation: <pad> <extra_id_0> A bedside table is a place where you can set a book or other item to read before bed. The table is usually located near the bed and is a place where you can sit and rest your head and read a book before going to sleep. The table is also a place where you can place a book or other item to read on a nightstand or on a nightstand. The bedside table is also a place where you can place a book or other item to read on, such as a book and a bedside table. The book is an ideal for the book is also an important for the nighttime reading book on the night is the bedside the bedside, and where you can be a book or read before bedside the book or read or read and a book to keep a book or a book on to read before you can be a book or read before you can easily accessible to read or a book, and to read before you can be a book to read before a book is a book to read a book, such as a book and is a book, or a book, or an easy to be easily accessible to read or</s>\n",
      "########\n",
      "*******\n",
      "question: Where is a knight likely to be found in the US?\n",
      "answer: chess set\n",
      "choices: ['middle ages', 'chess set', 'historical novel', 'castle', 'guarding the king']\n",
      "common expl list: ['A knight is a piece in the game of chess, which is played on a chess set.']\n"
     ]
    },
    {
     "name": "stderr",
     "output_type": "stream",
     "text": [
      "\r",
      "  3%|█████▎                                                                                                                                                              | 32/986 [15:17<5:10:44, 19.54s/it]"
     ]
    },
    {
     "name": "stdout",
     "output_type": "stream",
     "text": [
      "generated explanation: <pad> <extra_id_0> A chess set is a set of chess pieces that are used to play a game of chess. The pieces are arranged in a chess board and are typically found in a chess board. The chess board is a chess set that is used to play chess. The pieces are arranged in a logical sequence that is logical for the player to move around the board. The order of the pieces in the set is determined by the number of pieces, or the knight is likely to be a a US a knight is likely to be found in a a game.</s>\n",
      "########\n",
      "*******\n",
      "question: Jack saw little point to communicating beyond the basics.  To him, it was just a means to do what?\n",
      "answer: exchange information\n",
      "choices: ['go swimming', 'making friends', 'exchange information', 'people to think', 'confusion']\n",
      "common expl list: [\"Keeping the communication sparse would allow him to conserve energy by speaking less. Since communication is just a means to exchanging information, Jack would not see much 'point', to say, a conversation beyond the basics.\"]\n"
     ]
    },
    {
     "name": "stderr",
     "output_type": "stream",
     "text": [
      "\r",
      "  3%|█████▍                                                                                                                                                              | 33/986 [15:20<3:53:06, 14.68s/it]"
     ]
    },
    {
     "name": "stdout",
     "output_type": "stream",
     "text": [
      "generated explanation: <pad> <extra_id_0> Jack saw little point to communicating beyond the basics. To him, it was a means to exchange information and to do so effectively. To him, communication was a means to an end. To him, it was a means to an end. To Jack, communicating was a means to an end. To Jack, communicating was a means to exchange information and to do so effectively. To Jack, communication was a means to do what? To do what? To do what? To exchange information and to do so effectively. To Jack, communication</s>\n",
      "########\n",
      "*******\n",
      "question: I as a person don't kill others, why do I not?\n",
      "answer: value life\n",
      "choices: ['experience pleasure', 'laws', 'value life', 'thank god', 'go into debt']\n",
      "common expl list: [\"Someone who does not kill might have a great deal of respect for life; as a person's life is valuable, the opposite is true about the act of taking a life.\"]\n"
     ]
    },
    {
     "name": "stderr",
     "output_type": "stream",
     "text": [
      "\r",
      "  3%|█████▋                                                                                                                                                              | 34/986 [15:25<3:07:07, 11.79s/it]"
     ]
    },
    {
     "name": "stdout",
     "output_type": "stream",
     "text": [
      "generated explanation: <pad> <extra_id_0> I value life because I value my own life and I value others' lives. I value my own life and I value life's quality of life. I value life because it is my life and my life's quality of life. I value life because I value my own life and I value my own life. I value life and I value my own life and I value my own life. I value life because I value my own life and I value my own life. I value life because it is my life and I value my own life. I do not killing others as well as well as well as well as well as well as well as well as well as well being alive and I am I am I am I am human being human being alive.</s>\n",
      "########\n",
      "*******\n",
      "question: What is likely to be a child's reaction to going to play?\n",
      "answer: happiness\n",
      "choices: ['happiness', 'tears', 'sit', 'being entertained', 'laugh']\n",
      "common expl list: ['Children like to play.']\n"
     ]
    },
    {
     "name": "stderr",
     "output_type": "stream",
     "text": [
      "\r",
      "  4%|█████▊                                                                                                                                                              | 35/986 [15:28<2:25:32,  9.18s/it]"
     ]
    },
    {
     "name": "stdout",
     "output_type": "stream",
     "text": [
      "generated explanation: <pad> <extra_id_0> : A child's happiness is likely to be a result of going to play. This is because playing can bring a child happiness, which can be translated into a smile or a feeling of accomplishment. It is also likely that a child will be happy and engaged in the activity, which can lead to a positive attitude and a sense of accomplishment. This is because children are naturally curious and naturally curious, which can lead to a positive reaction and a positive attitude. A positive attitude is also likely to be a sign.</s>\n",
      "########\n",
      "*******\n",
      "question: Where could you find multiple ruler that are owned by different people?\n",
      "answer: office\n",
      "choices: ['measure distance', 'england', 'office', 'drawer', 'desk']\n",
      "common expl list: ['Office buildings often have rulers.', 'When someone works in an office, even if it is part-time or freelance, they may be required to measure distances e.g., in departments or cubicles, and so, offices are a good place to find ruler.']\n"
     ]
    },
    {
     "name": "stderr",
     "output_type": "stream",
     "text": [
      "\r",
      "  4%|█████▉                                                                                                                                                              | 36/986 [15:34<2:08:26,  8.11s/it]"
     ]
    },
    {
     "name": "stdout",
     "output_type": "stream",
     "text": [
      "generated explanation: <pad> <extra_id_0> Multiple rulers that are owned by different people are often found in offices that have multiple departments and offices. These types of offices are often used to store and organize documents, documents, and other information. This can be useful for anyone who needs to access information, such as important documents, or important documents. This can also help to organize files and organize documents into specific categories, such as specific departments, departments, or even individual files. Additionally, multiple rulers can be owned by different people, which can be helpful for multiple people, as different people may have the office, and the office space.</s>\n",
      "########\n",
      "*******\n",
      "question: When remembering you referencing things that you have what?\n",
      "answer: prior knowledge of\n",
      "choices: ['memory cells', 'learning about', 'prior knowledge of', 'brain cells', 'nerve cells']\n",
      "common expl list: ['Most of the things a person knows come from learning in the past and usually have some recollection involved.']\n"
     ]
    },
    {
     "name": "stderr",
     "output_type": "stream",
     "text": [
      "\r",
      "  4%|██████▏                                                                                                                                                             | 37/986 [15:40<1:59:04,  7.53s/it]"
     ]
    },
    {
     "name": "stdout",
     "output_type": "stream",
     "text": [
      "generated explanation: <pad> <extra_id_0> When you refer to things that you have prior knowledge of, you are likely to be referring to things that you have prior knowledge of, or have used in the past. This is because you have a prior knowledge of the subject matter that you are recalling, and this is likely the source of information that you are using when you are recalling information. This can include knowledge of the subject, or knowledge of the subject itself. This can also include having previous knowledge of the subject matter, or knowledge of the subject matter. This can help you remember, and memory, as well as well as well as well as well as well as well as well as you have previously, you have, or, you have you have previously, or a.</s>\n",
      "########\n",
      "*******\n",
      "question: After running twenty six miles he felt like he had lost twenty six pounds, this was from all the what?\n",
      "answer: sweat\n",
      "choices: ['exercise', 'sweat', 'pass out', 'collapse', 'drink water']\n",
      "common expl list: ['Sweating is a way to cool down the body, and so after running for a long time, a person might sweat a lot.']\n"
     ]
    },
    {
     "name": "stderr",
     "output_type": "stream",
     "text": [
      "\r",
      "  4%|██████▎                                                                                                                                                             | 38/986 [16:08<3:37:04, 13.74s/it]"
     ]
    },
    {
     "name": "stdout",
     "output_type": "stream",
     "text": [
      "generated explanation: <pad> <extra_id_0> After running twenty six miles he felt like he had lost twenty six pounds, this was from all the sweat, sweat is the sweat that comes from running and it is what causes the body to sweat, and it also helps to shed pounds. This is because sweat causes the body to sweat, which is what causes sweat to be lost, and it also causes the body to sweat, which in turn causes sweat to sweat. This is why after running twenty six miles he felt like he had lost twenty six pounds, this was because sweat helps to cause of the body sweating, body to lose weight loss training and exercise is also a body fat to run, and sweating, this is also causes to be sweating to shed a body to feel like dieting to lose the sweat to help to be a he was a a a loss of sweat to be a weight to bea hehe a loss, because of a a loss of the body to sweat, which helps to bela as to lose the weight, as ad, as he was from sweating and is because of the he as sweat to be ad, which is because of the a a<extra_id_26> : a<extra_id_27> </s>\n",
      "########\n",
      "*******\n",
      "question: In what western sate might one find a bald eagle?\n",
      "answer: colorado\n",
      "choices: ['captivity', 'colorado', 'zoo', 'canada', 'in washington']\n",
      "common expl list: ['Eagles are native to the western United States, and Colorado is a western state.']\n"
     ]
    },
    {
     "name": "stderr",
     "output_type": "stream",
     "text": [
      "\r",
      "  4%|██████▍                                                                                                                                                             | 39/986 [16:12<2:48:34, 10.68s/it]"
     ]
    },
    {
     "name": "stdout",
     "output_type": "stream",
     "text": [
      "generated explanation: <pad> <extra_id_0> A bald eagle is a large, swift-moving, and territorial bird that lives in the western United States, where it is commonly found. The eagle is a migratory bird that lives in the Rocky Mountains and is considered a species of endemic species. It is also known to be a breeding bird and is a popular bird for hunting and nesting. Bald eagles are also commonly known as bald eagles because they are able to ea ea es, and are often seen in Colorado and are often seen in western states.</s>\n",
      "########\n",
      "*******\n",
      "question: When a retired person returns to work they likely need to do what?\n",
      "answer: earn money\n",
      "choices: ['key', 'earn money', 'get out of bed', 'need money', 'understand themselves']\n",
      "common expl list: ['When a person is retired, they probably are not making enough money through a pension benefit to support themselves after retirement, so they work again, perhaps full-time, in order to have enough money.(money key)']\n"
     ]
    },
    {
     "name": "stderr",
     "output_type": "stream",
     "text": [
      "\r",
      "  4%|██████▋                                                                                                                                                             | 40/986 [16:15<2:14:33,  8.53s/it]"
     ]
    },
    {
     "name": "stdout",
     "output_type": "stream",
     "text": [
      "generated explanation: <pad> <extra_id_0> A retiree returning to work will likely need to earn money. This is because the amount of money they have left over from their retirement will likely be used to purchase new items and services, such as new computers and software. This will also help to supplement any income they have earned. This will help to keep their finances stable and help them maintain their lifestyle. Also, a return to work for a retiree will likely mean that they will need to purchase new items and services, which will help to generate income. In addition, the person will need to continue to continue to retirees.</s>\n",
      "########\n",
      "*******\n",
      "question: What can be the result of meeting people with similar attitudes?\n",
      "answer: making new friends\n",
      "choices: ['anxiety', 'being bored', 'love', 'making new friends', 'new job']\n",
      "common expl list: ['People with similar interests are likely to be friends, or familiars to each other, having many opportunities to meet each other and have things in common to discuss.', \"Friends often share some interests and/or attitudes, and when someone meets people with similar attires, that's a good indicator they might be good candidates for becoming friends.\"]\n"
     ]
    },
    {
     "name": "stderr",
     "output_type": "stream",
     "text": [
      "\r",
      "  4%|██████▊                                                                                                                                                             | 41/986 [16:19<1:51:57,  7.11s/it]"
     ]
    },
    {
     "name": "stdout",
     "output_type": "stream",
     "text": [
      "generated explanation: <pad> <extra_id_0> Meeting people with similar attitudes can result in meeting new people with similar attitudes and interests. This can be a result of meeting people with similar attitudes and interests, or even just similar attitudes. Often, meeting people with similar attitudes and interests can lead to new friendships. Often, these new friendships are formed through mutually beneficial relationships that result in the formation of new friendships. Often, these relationships are formed through the exchange of information and ideas that can be shared, and sometimes new ideas can be created. These relationships can also be formed by meeting, and as and attitudes.</s>\n",
      "########\n",
      "*******\n",
      "question: Danny noticed a ceramic object on the table and picked a grape out of it.  What might have been on the table?\n",
      "answer: bowl of fruit\n",
      "choices: ['kitchen', 'painting of fruits', 'fruit basket', 'bowl of fruit', 'fruit stand']\n",
      "common expl list: ['A bowl of fruit is an appropriate item to put on a table, as it can hold many kinds of fruit.']\n"
     ]
    },
    {
     "name": "stderr",
     "output_type": "stream",
     "text": [
      "\r",
      "  4%|██████▉                                                                                                                                                             | 42/986 [16:23<1:37:14,  6.18s/it]"
     ]
    },
    {
     "name": "stdout",
     "output_type": "stream",
     "text": [
      "generated explanation: <pad> <extra_id_0> A ceramic object on the table and a grape was picked out of it. This is because the object was on the table and the grape was picked out of it. This is because the object was made of ceramic and is therefore likely to be a ceramic or ceramic object. The object could be a bowl of fruit or a bowl of other types of fruit. The object could be a bowl or a bowl of other types of fruit. The fruit could be a bowl or a bowl of other types of fruit. The fruit could be a grapes or even though.</s>\n",
      "########\n",
      "*******\n",
      "question: The nose dipped and alarms went off inside the what?\n",
      "answer: aircraft\n",
      "choices: ['car', 'sniff', 'aircraft', 'upper respiratory tract', 'missile']\n",
      "common expl list: ['The nose dips and alarms go off inside the cockpit of an aircraft when the nose of the aircraft dips too low.']\n"
     ]
    },
    {
     "name": "stderr",
     "output_type": "stream",
     "text": [
      "\r",
      "  4%|███████▏                                                                                                                                                            | 43/986 [16:26<1:23:29,  5.31s/it]"
     ]
    },
    {
     "name": "stdout",
     "output_type": "stream",
     "text": [
      "generated explanation: <pad> <extra_id_0> The nose dipped and alarms went off inside the aircraft<extra_id_2> The nose dipped and alarms went off inside the aircraft is a type of aircraft that operates in an aerodynamic environment. The aircraft’s nose dipped and alarms are triggered when a device on the nose is detected. This is called an “aeroplane” or “aequipment” and is a type of aircraft that is designed to be capable of controlling and controlling an aircraft. The alarms are typically set on the aircraft and are the nose d)</s>\n",
      "########\n",
      "*******\n",
      "question: Where is a cord likely to be on a tent?\n",
      "answer: sporting goods store\n",
      "choices: ['inside tent', 'delivery room', 'hardware store', 'backpack', 'sporting goods store']\n",
      "common expl list: ['Sporting goods stores likely have tents on display which generally come with their cords.']\n"
     ]
    },
    {
     "name": "stderr",
     "output_type": "stream",
     "text": [
      "\r",
      "  4%|███████▎                                                                                                                                                            | 44/986 [16:57<3:21:22, 12.83s/it]"
     ]
    },
    {
     "name": "stdout",
     "output_type": "stream",
     "text": [
      "generated explanation: <pad> <extra_id_0> A tent cord is a flexible, lightweight, and durable material that can be used to provide a comfortable, and comfortable environment for camping. It can also be used to hang a number of different types of items, including a sleeping bag, tent, or sleeping bag. A tent cord can also be used to tie up a tent or other outdoor accessory, such as a sleeping bag, or a sleeping bag. A tent cord can also be used to provide a longer reach to the tent or other outdoor equipment, such as a tents.</s>\n",
      "########\n",
      "*******\n",
      "question: The man reduced the town to rubble out of hate, what was his goal?\n",
      "answer: destroy enemy\n",
      "choices: ['wage war', 'play nice', 'fight enemy', 'stab to death', 'destroy enemy']\n",
      "common expl list: ['someone who is completely obsessed with destroying an enemy (going so far as to want them completely obliterated from existance) is not a person who is playing nice.']\n"
     ]
    },
    {
     "name": "stderr",
     "output_type": "stream",
     "text": [
      "\r",
      "  5%|███████▍                                                                                                                                                            | 45/986 [17:46<6:10:50, 23.65s/it]"
     ]
    },
    {
     "name": "stdout",
     "output_type": "stream",
     "text": [
      "generated explanation: <pad> <extra_id_0> The man reduced the town to rubble because he was hate. The man destroyed the town because he hated the town because he hated the emoynment. He also wanted to destroy the enemy. This is a common and common reason for hateful behavior, but it is also a common motive for destruction.</s>\n",
      "########\n",
      "*******\n",
      "question: The toddler thought it would be fun to try eating breakfast in bed, what resulted?\n",
      "answer: mess\n",
      "choices: ['contentment', 'indigestion', 'vomiting', 'mess', 'catastrophe']\n",
      "common expl list: [\"Toddlers like to explore and test their own boundaries. They often don't know their limits, and it's common for their behavior to result in a mess. In the toddler's case, it involved getting breakfast on the bed due to his inexperience\", \"Toddlers have poor coordination.  Even if they could somehow manage to not fall off the bed, it's likely that they would spill the food that they took with them to bed.  A mess would be made.\"]\n"
     ]
    },
    {
     "name": "stderr",
     "output_type": "stream",
     "text": [
      "\r",
      "  5%|███████▋                                                                                                                                                            | 46/986 [17:49<4:36:33, 17.65s/it]"
     ]
    },
    {
     "name": "stdout",
     "output_type": "stream",
     "text": [
      "generated explanation: <pad> <extra_id_0> The toddler thought it was fun to try eating breakfast in bed. The mess was a result of the toddler eating breakfast in bed. The mess was a mess of cereal, toast, and other food. The mess was a mess of food, and the mess was a mess of food. The mess was a mess of food and other food that the toddler had made. The mess was a mess of food and other things that the toddler had made. The mess was a mess of food and other items that the toddler had made.</s>\n",
      "########\n",
      "*******\n",
      "question: He had a hard time getting his father's attention, he hoped that the winning baseball game would finally get him some what?\n",
      "answer: recognition\n",
      "choices: ['confirmation', 'celebrating', 'pride', 'recognition', 'happiness']\n",
      "common expl list: ['One way to gain recognition from ones parents is by accomplishing things that they value. For example, children might hope to make their parents proud of them by excelling at sports.']\n"
     ]
    },
    {
     "name": "stderr",
     "output_type": "stream",
     "text": [
      "\r",
      "  5%|███████▊                                                                                                                                                            | 47/986 [17:53<3:31:11, 13.49s/it]"
     ]
    },
    {
     "name": "stdout",
     "output_type": "stream",
     "text": [
      "generated explanation: <pad> <extra_id_0> He had a hard time getting his father's attention, he hoped that the winning baseball game would finally get him some recognition from his father. This could be because he had been working hard to get his father's attention, but he was struggling to get his father's attention. This could be because he was hoping that the winning baseball game would finally get him some recognition from his father, which would finally get him some recognition from his father. This would also help him get some recognition from his father, who would in the game.</s>\n",
      "########\n",
      "*******\n",
      "question: The toddler is awaking from a nap, what doesn't he feel anymore?\n",
      "answer: tiredness\n",
      "choices: ['nervous', 'eyes opening', 'getting out of bed', 'tiredness', 'discomfort']\n",
      "common expl list: ['Children can easily get tired at their ontervall and a nap is an effective way for them to get over tiredness. Then when they wake up, they do not feel tiredness any longer.']\n"
     ]
    },
    {
     "name": "stderr",
     "output_type": "stream",
     "text": [
      "\r",
      "  5%|███████▉                                                                                                                                                            | 48/986 [17:59<2:53:14, 11.08s/it]"
     ]
    },
    {
     "name": "stdout",
     "output_type": "stream",
     "text": [
      "generated explanation: <pad> <extra_id_0> When a toddler wakes from a nap, he may feel tired. This is because he may be feeling tired. This is because he is tired and tired can be a sign of a sleep disorder or simply a general lack of sleep. Tiredness is also a sign that the toddler is tired and needs to be re-awakened. Tiredness is a sign that he is tired and tired can also be a sign of a sleep disorder. It is also a sign that a sleep is a napping can be a toddlers are feeling tiredness is due to a sleep and/s a sleep a a a a awaking from a sleep awaking from a a sleep<extra_id_8> </s>\n",
      "########\n",
      "*******\n",
      "question: John listened to music when he needed to focus.  It helped him achieve what?\n",
      "answer: quiet mind\n",
      "choices: ['express emotion', 'beautifull', 'irritate', 'bad environment', 'quiet mind']\n",
      "common expl list: [\"There's scientific evidence that listening to music can help people think better and concentrate easier.\", \"When one is trying to focus on a task, it's common to listen to music to help one focus.\", 'Music can, at the very least, provide passive background noise as one works to help one focus. More specifically, music might have positive, uplifting or emotional qualities that are conducive to focus and concentration.']\n"
     ]
    },
    {
     "name": "stderr",
     "output_type": "stream",
     "text": [
      "\r",
      "  5%|████████▏                                                                                                                                                           | 49/986 [18:02<2:15:14,  8.66s/it]"
     ]
    },
    {
     "name": "stdout",
     "output_type": "stream",
     "text": [
      "generated explanation: <pad> <extra_id_0> John listened to music when he needed to focus. This helped him achieve a more focused and relaxed state of mind. In addition, listening to music helped him to have a more relaxed and relaxed state of mind. This is a very important aspect of achieving a calm mind. It also helps to maintain a more relaxed and calm environment. This is a very important aspect of achieving a calm and relaxed environment. It also helps to maintain a more relaxed and calm environment. This is especially important for a person.</s>\n",
      "########\n",
      "*******\n",
      "question: If I were to suffer from sudden illness I would be within reason to visit where?\n",
      "answer: hospital\n",
      "choices: ['nursing home', 'hospital', 'brain', 'elderly person', 'building']\n",
      "common expl list: ['A hospital is a center for treatment and care of those suffering from illness.', 'Anyone can suffer a sudden illness, but hospitals are where the equipment and personnel exist to deal with sudden illnesses.', 'If you were suddenly suffering an illness, it would be a reasonable thing to go to the hospital for treatment of that illness.', 'A hospital is a place where people go to receive treatment for illnesses.']\n"
     ]
    },
    {
     "name": "stderr",
     "output_type": "stream",
     "text": [
      "\r",
      "  5%|████████▎                                                                                                                                                           | 50/986 [18:05<1:51:31,  7.15s/it]"
     ]
    },
    {
     "name": "stdout",
     "output_type": "stream",
     "text": [
      "generated explanation: <pad> <extra_id_0> If I were to suffer from sudden illness I would be within reason to visit a hospital. A hospital is a medical facility that is usually located in a hospital or hospital-owned facility. A hospital is a medical facility that is used to treat and treat illness and injuries. A hospital is a medical facility that is staffed with trained professionals and is able to provide the necessary medical care at a particular time and place. A hospital is a medical facility that is a medical facility that is designed to provide care and treatment for sudden illness or sudden</s>\n",
      "########\n",
      "*******\n",
      "question: John kept standing up.  He was afraid that if he were sitting down he might do something. What might he be afraid of?\n",
      "answer: fall asleep\n",
      "choices: ['fall asleep', 'being supported on chair', 'comfort', 'clowns', 'flatulence']\n",
      "common expl list: ['Sitting down makes one comfortable; sitting down with eyes closed makes one fall asleep.', 'When standing, the chances of falling asleep abruptly would be much less (assuming that one is awake).']\n"
     ]
    },
    {
     "name": "stderr",
     "output_type": "stream",
     "text": [
      "\r",
      "  5%|████████▍                                                                                                                                                           | 51/986 [18:09<1:37:29,  6.26s/it]"
     ]
    },
    {
     "name": "stdout",
     "output_type": "stream",
     "text": [
      "generated explanation: <pad> <extra_id_0> John was afraid that if he were sitting down he might do something. This is why he kept standing up. This is because he was afraid to sit down and fall asleep. This is why he kept standing up. This is because he was afraid to fall asleep. This is an example of a fall, which is when someone can fall asleep. A fall is when someone can fall asleep. This is because falling asleep can lead to a person falling asleep. This is because falling asleep can lead to a person falling asleep. This is because it is also can be something that could cause of fall asleep.</s>\n",
      "########\n",
      "*******\n",
      "question: He didn't know that good things can be posion in large doses.  He thought that he was just eating an essential what?\n",
      "answer: nutrient\n",
      "choices: ['antidote', 'consumable', 'nutrient', 'vitamin', 'medicine']\n",
      "common expl list: ['He thought that he was just eating an essential nutrient, but in large doses, it could be poisonous.']\n"
     ]
    },
    {
     "name": "stderr",
     "output_type": "stream",
     "text": [
      "\r",
      "  5%|████████▋                                                                                                                                                           | 52/986 [18:11<1:15:49,  4.87s/it]"
     ]
    },
    {
     "name": "stdout",
     "output_type": "stream",
     "text": [
      "generated explanation: <pad> <extra_id_0> He thought that he was just eating an essential what he thought was just an essential thing in small doses. This is because he thought that he was just eating an essential thing in small doses. This is because he thought that he was just eating an essential thing in small doses.</s>\n",
      "########\n",
      "*******\n",
      "question: The police didn't pay any favors, their job was to what?\n",
      "answer: force law\n",
      "choices: ['force law', 'board vessels', 'arrest', 'arm weapons', 'direct traffic']\n",
      "common expl list: ['Police are usually tasked with upholding the law, and if they see a law being broken they will intervene (forceful intervention); moreover, they also coordinate with other officers (direct traffic and board vessels). These activities do not involve favors.']\n"
     ]
    },
    {
     "name": "stderr",
     "output_type": "stream",
     "text": [
      "\r",
      "  5%|████████▊                                                                                                                                                           | 53/986 [18:15<1:09:37,  4.48s/it]"
     ]
    },
    {
     "name": "stdout",
     "output_type": "stream",
     "text": [
      "generated explanation: <pad> <extra_id_0> The police's job was to enforce law and order, and they were not allowed to do any favors. The police's job was to enforce the law and to enforce the law, and they were not allowed to do so. The police's job was to protect the public and their rights, and to enforce the law. The police were not allowed to do favors, and they were not paid any favors for that reason. The police were not allowed to do favors, and they were not allowed to do favors. The law enforcement of force was to ensure that was to ensure that the law enforcement.</s>\n",
      "########\n",
      "*******\n",
      "question: The place specialized in colorful arrangements, but the also had a toy balloon or two where?\n",
      "answer: flower shop\n",
      "choices: ['see work', 'birthday party', 'flower shop', 'parade', 'toy store']\n",
      "common expl list: ['Batches of balloons are available at flower shops, where floral arrangements are sold, and rainbow contruction paper is usually found in art shops and classrooms.', 'Flower shops sell interesting arrangements made with colorful flowers.']\n"
     ]
    },
    {
     "name": "stderr",
     "output_type": "stream",
     "text": [
      "\r",
      "  5%|████████▉                                                                                                                                                           | 54/986 [18:18<1:02:40,  4.03s/it]"
     ]
    },
    {
     "name": "stdout",
     "output_type": "stream",
     "text": [
      "generated explanation: <pad> <extra_id_0> The flower shop specialized in colorful arrangements, but the also had a toy balloon or two or two. The toy balloons were a part of the colorful arrangements that were available at the shop. The toy balloons were a part of the colorful arrangements that were available at the shop. The toy balloons were a novelty item that could be purchased for a small fee, but were not a part of the floral arrangements. The balloons were a novelty item, and were not a part of the floral shop.</s>\n",
      "########\n",
      "*******\n",
      "question: Where was there never any mammoth?\n",
      "answer: zoo\n",
      "choices: ['wild', 'north dakota', 'forest', 'movie', 'zoo']\n",
      "common expl list: ['Mammoths are extinct, and zoos are places where animals are kept for observation and study.']\n"
     ]
    },
    {
     "name": "stderr",
     "output_type": "stream",
     "text": [
      "\r",
      "  6%|█████████▎                                                                                                                                                            | 55/986 [18:21<59:11,  3.81s/it]"
     ]
    },
    {
     "name": "stdout",
     "output_type": "stream",
     "text": [
      "generated explanation: <pad> <extra_id_0> zoos are large, enclosed areas that are often used for breeding mammoths. These areas are often referred to as \"zoos\" because they are a place where animals are kept and the animals are kept in an environment that is controlled by a variety of experts, including zoologists and curators. Zoos are often the only place where there are mammals that are not found in the wild, and therefore are a great place to observe and observe the mammal population, and are often zooos are also called</s>\n",
      "########\n",
      "*******\n",
      "question: Why do most people engage in chatting with friends?\n",
      "answer: fun\n",
      "choices: ['fun', 'love', 'answers', 'inspiration', 'relaxation']\n",
      "common expl list: ['Chats with friends are often fun, and thus people engage in them for that reason.']\n"
     ]
    },
    {
     "name": "stderr",
     "output_type": "stream",
     "text": [
      "\r",
      "  6%|█████████▍                                                                                                                                                            | 56/986 [18:23<50:15,  3.24s/it]"
     ]
    },
    {
     "name": "stdout",
     "output_type": "stream",
     "text": [
      "generated explanation: <pad> During a chatting session, people are able to exchange information, and often a variety of topics, which can be of interest to both the chattering partner and the other person. This can be beneficial for both the parties involved and the conversational partner, as it can lead to new and interesting conversations.</s>\n",
      "########\n",
      "*******\n",
      "question: What could happen after discovering truth that you did not want to know?\n",
      "answer: pain\n",
      "choices: ['pain', 'relief', 'grey hair', 'understanding', 'enlightenment']\n",
      "common expl list: ['Truth can be painful, and discovering it can cause pain.']\n"
     ]
    },
    {
     "name": "stderr",
     "output_type": "stream",
     "text": [
      "\r",
      "  6%|█████████▌                                                                                                                                                            | 57/986 [18:28<57:56,  3.74s/it]"
     ]
    },
    {
     "name": "stdout",
     "output_type": "stream",
     "text": [
      "generated explanation: <pad> <extra_id_0> The truth is painful and it can cause you pain, and you may experience pain after discovering it. The pain can be a feeling of loss, confusion, and even depression. The pain can be a source of stress, anxiety, and depression, and it can be a source of depression, anxiety, depression, and depression. The pain can also be a source of emotional and physical discomfort. This is because the pain is a reaction to the truth, and not a cause of happiness or happiness. The pain is a result of the truth, and may cause and may cause you have been honest truth, and pain, and emotional and pain is that you have been discovered. This is often causes you have been exposed to your life.</s>\n",
      "########\n",
      "*******\n",
      "question: What will an athlete do to warm up their legs?\n",
      "answer: jog\n",
      "choices: ['use heater', 'sprint', 'jog', 'run fast', 'compete']\n",
      "common expl list: ['When athletes warm up before swimming, running, riding a bike, or performing other physical activity, they generally will jog (which will help them loosen muscles in the legs).', 'warming up is a routine that is performed to either prepare for doing something new, or prepare for doing something which put strains on you, or which you have been out of practice doing.']\n"
     ]
    },
    {
     "name": "stderr",
     "output_type": "stream",
     "text": [
      "\r",
      "  6%|█████████▊                                                                                                                                                            | 58/986 [18:30<50:41,  3.28s/it]"
     ]
    },
    {
     "name": "stdout",
     "output_type": "stream",
     "text": [
      "generated explanation: <pad> <extra_id_0> A jogger will warm up their legs by jogging. This will help them to stretch and stretch, and to stretch their muscles. It will also help to increase the blood flow to the area being warm, which will help to increase blood flow to the muscles. This will help to increase circulation and help to increase blood flow to the area being warm.</s>\n",
      "########\n",
      "*******\n",
      "question: Where can you keep your binder on your person between periods of instruction?\n",
      "answer: backpack\n",
      "choices: ['class room', 'car', 'office supply store', 'backpack', 'bookcase']\n",
      "common expl list: ['Usually binder users carry their binders from class to class outside of the classroom. Backpacks are often convenient, and are large enough to hold the binder.']\n"
     ]
    },
    {
     "name": "stderr",
     "output_type": "stream",
     "text": [
      "\r",
      "  6%|█████████▉                                                                                                                                                            | 59/986 [18:33<50:57,  3.30s/it]"
     ]
    },
    {
     "name": "stdout",
     "output_type": "stream",
     "text": [
      "generated explanation: <pad> <extra_id_0> A backpack is a backpack that can be used to keep your binder on your person between periods of instruction. The backpack is a convenient place to keep your binder and to carry it around with you. It can also be used to store your notebooks and other documents. A backpack can be used to carry your binder and other documents, such as a passport or a shopping bag. It can also be a convenient place to keep your notebooks and other important documents. A backpack can also be used to carry your notebooks and to your binders.</s>\n",
      "########\n",
      "*******\n",
      "question: In the middle of the day what will someone do because of being hungry?\n",
      "answer: have lunch\n",
      "choices: ['cook dinner', 'make bread', 'eat in restaurant', 'have lunch', 'make bread']\n",
      "common expl list: ['People often eat lunch at midday, and so, if they are hungry at midday, they might go to a restaurant to eat lunch.', \"It's common for folks to have lunch during the middle of the day.\"]\n"
     ]
    },
    {
     "name": "stderr",
     "output_type": "stream",
     "text": [
      "\r",
      "  6%|██████████                                                                                                                                                            | 60/986 [18:36<49:13,  3.19s/it]"
     ]
    },
    {
     "name": "stdout",
     "output_type": "stream",
     "text": [
      "generated explanation: <pad> <extra_id_0> In the middle of the day what will someone do because of being hungry? Have lunch. Having lunch will allow you to eat more and stay fuller longer. Having lunch will also help you to stay satiated and satisfied. It will also help to keep you hydrated and satiated. Having lunch will also help you to stay awake and alert throughout the day. This will help you to stay awake and alert. Having a healthy diet will also help you to stay alert and energized. Having a healthy</s>\n",
      "########\n",
      "*******\n",
      "question: Where is garbage brought to by garbagemen?\n",
      "answer: landfill\n",
      "choices: ['trashcan', 'landfill', 'television', 'computer', 'dumpster']\n",
      "common expl list: ['Landfills are where all the trash in the city go to.']\n"
     ]
    },
    {
     "name": "stderr",
     "output_type": "stream",
     "text": [
      "\r",
      "  6%|██████████▎                                                                                                                                                           | 61/986 [18:41<56:07,  3.64s/it]"
     ]
    },
    {
     "name": "stdout",
     "output_type": "stream",
     "text": [
      "generated explanation: <pad> <extra_id_0> A landfill is a place where waste materials are disposed of, which is why they are often brought to the site. The landfill is a place where the waste is disposed of, and the garbage is then disposed of. The landfill is a place where the waste is disposed of, and the waste is then disposed of, which is why it is a good place to store it. Also, it is a place where the waste is removed from the ground, and where it is disposed of. The landfill is as landfills, which is the garbage is a landfills, and is a landfills. Waste is as, and is also a, and is as, and the garbage is.</s>\n",
      "########\n",
      "*******\n",
      "question: What are people doing when washing hands for a long time?\n",
      "answer: thinking\n",
      "choices: ['thinking', 'sleeping', 'use soap', 'irritation', 'cleaning dirt off']\n",
      "common expl list: ['People often just pause while washing their hands. It may be that they are thinking about something while this occurs naturally.', 'People often think about things while they are washing their hands, and this is a good time to think about things.']\n"
     ]
    },
    {
     "name": "stderr",
     "output_type": "stream",
     "text": [
      "\r",
      "  6%|██████████▍                                                                                                                                                           | 62/986 [18:45<58:51,  3.82s/it]"
     ]
    },
    {
     "name": "stdout",
     "output_type": "stream",
     "text": [
      "generated explanation: <pad> <extra_id_0> s During long periods of time, people wash their hands frequently, which can lead to a prolonged period of time of washing. This can also lead to a prolonged period of time of not feeling comfortable or comfortable, which can lead to a feeling of discomfort or discomfort. People also tend to spend more time in this activity than they would normally do, which can lead to a longer period of time of feeling comfortable and relaxed. This can also lead to a greater sense of relaxation and relaxation, which can also lead to a longer period of the bathroom and a long, and a long time, especially when they are also, and a long.</s>\n",
      "########\n",
      "*******\n",
      "question: What would someone say about a tube television?\n",
      "answer: obsolete\n",
      "choices: ['obsolete', 'addictive', 'entertaining', 'bycone', 'legal']\n",
      "common expl list: ['Tube televisions are no longer manufactured, and are therefore obsolete.', 'Tube televisions are obsolete, meaning that they are old and was abolished by newer technology.']\n"
     ]
    },
    {
     "name": "stderr",
     "output_type": "stream",
     "text": [
      "\r",
      "  6%|██████████▌                                                                                                                                                           | 63/986 [18:49<56:55,  3.70s/it]"
     ]
    },
    {
     "name": "stdout",
     "output_type": "stream",
     "text": [
      "generated explanation: <pad> <extra_id_0> A tube television is an obsolete device that is used to transmit information from one location to another. This can be a good thing for those who want to use the television for entertainment purposes, as it can be inexpensive and easy to install, and it can be a useful tool for those who want to watch television. Moreover, a tube television is a very versatile and versatile device that can be used for a variety of purposes, including to watch sports, movies, and other programs. It can also be used to watch television shows, such as it is obsolete because it is a tube television.</s>\n",
      "########\n",
      "*******\n",
      "question: The man drank his coffee at work?\n",
      "answer: office\n",
      "choices: ['coffee shop', 'table', 'kitchen', 'office', 'chair']\n",
      "common expl list: ['The man is likely to be at work, and offices often have kitchens where coffee is made.', 'The man probably works in an office where he could have a cup of coffee while behind his desk.', 'People often drink coffee at offices, with other co-workers.']\n"
     ]
    },
    {
     "name": "stderr",
     "output_type": "stream",
     "text": [
      "\r",
      "  6%|██████████▊                                                                                                                                                           | 64/986 [18:52<55:06,  3.59s/it]"
     ]
    },
    {
     "name": "stdout",
     "output_type": "stream",
     "text": [
      "generated explanation: <pad> <extra_id_0> The man drank his coffee at work. The office is the place where he drinks his coffee, and it is a common place for him to drink his coffee. The office is usually a place where he is able to get a cup of coffee and other beverages, such as hot water, milk, or even tea. This is because the office is a place where he drinks his coffee, and it is also a place where he can get his coffee from. This is because it is a common place</s>\n",
      "########\n",
      "*******\n",
      "question: What can he do to eliminate his ignorance?\n",
      "answer: learn new\n",
      "choices: ['find information', 'judge', 'do some research', 'find truth', 'learn new']\n",
      "common expl list: ['Ignorance is the state of not knowing something, and to eliminate ignorance, one must learn new things.', 'In this context, ignorance refers to a lack of knowledge, and obtaining new knowledge is the best way to eliminate the ignorance.', \"Learning is a way to eliminate ignorance; for example, learning a foreign language is one way to eliminate ignorance of that language's grammar.\"]\n"
     ]
    },
    {
     "name": "stderr",
     "output_type": "stream",
     "text": [
      "\r",
      "  7%|██████████▉                                                                                                                                                           | 65/986 [18:53<42:28,  2.77s/it]"
     ]
    },
    {
     "name": "stdout",
     "output_type": "stream",
     "text": [
      "generated explanation: <pad> <extra_id_0> s and become more aware of the world around him. This will help him to eliminate his ignorance and to become more aware of the world around him.</s>\n",
      "########\n",
      "*******\n",
      "question: What do humans do when in a race?\n",
      "answer: compete with each other\n",
      "choices: ['lay eggs', 'eat fruit', 'wrestle', 'compete with each other', 'draw pictures']\n",
      "common expl list: ['Humans are naturally athletic and competitive. On land, people will compete with each other by running or wrestling. Often humans race on water by swimming, or by boating with other people.']\n"
     ]
    },
    {
     "name": "stderr",
     "output_type": "stream",
     "text": [
      "\r",
      "  7%|███████████                                                                                                                                                           | 66/986 [18:56<46:53,  3.06s/it]"
     ]
    },
    {
     "name": "stdout",
     "output_type": "stream",
     "text": [
      "generated explanation: <pad> <extra_id_0> Humans are a social species that live in a world where they compete with each other to be the best at what they do best. This is because humans are naturally competitive and can win against each other, which can lead to a competitive environment and increase the chances of winning. Additionally, humans are also social creatures, which can lead to a competitive environment and can also be a social group that is able to thrive in a diverse environment. This can lead to a competitive environment and greater success for the individual. Furthermore, competition between each other in their environment.</s>\n",
      "########\n",
      "*******\n",
      "question: She explained that you won't always get what you want with a goal, but you should still do what with it?\n",
      "answer: reach for\n",
      "choices: ['know how to find', 'work hard', 'remember where', 'reach for', 'purchase']\n",
      "common expl list: ['Reaching for attained goals is more beneficial than simply working towards them, at least in the short term. It significantly increases your chances of success.']\n"
     ]
    },
    {
     "name": "stderr",
     "output_type": "stream",
     "text": [
      "\r",
      "  7%|███████████▎                                                                                                                                                          | 67/986 [19:00<47:37,  3.11s/it]"
     ]
    },
    {
     "name": "stdout",
     "output_type": "stream",
     "text": [
      "generated explanation: <pad> <extra_id_0> She explained that you won't always get what you want with a goal, but you should still reach for a goal. She explained that this is because goals aren't always the best things to achieve, but they can help you reach for something. This is because goals aren't always easy to achieve, and they can be difficult to reach for. This is because goals aren't always easy to reach for. Goals can also be difficult to achieve, and they can be difficult to reach. But, reaching for a goal can help you to achieve.</s>\n",
      "########\n",
      "*******\n",
      "question: What happens when you eat hamburger too fast without swallowing?\n",
      "answer: choking\n",
      "choices: ['get full', 'drink', 'choking', 'hungry', 'getting fat']\n",
      "common expl list: ['Eating too fast can sometimes cause coughing / choking as food get stuck in your throat.', \"When you eat hamburger too fast, it can quickly turn into the consistency of a block, and when you can't swallow it, it can cause you to choke.\", \"Choking can occur when you stick stuff in your mouth which can't go down your throat properly, so that you can't breath. Common causes can be eating too fast, or swallowing items that can't go down your throat, like liquids or large\", \"If you eat hamburger too fast, you might choke on it, because it's a solid food that can get stuck in your throat.\"]\n"
     ]
    },
    {
     "name": "stderr",
     "output_type": "stream",
     "text": [
      "\r",
      "  7%|███████████▍                                                                                                                                                          | 68/986 [19:03<48:46,  3.19s/it]"
     ]
    },
    {
     "name": "stdout",
     "output_type": "stream",
     "text": [
      "generated explanation: <pad> <extra_id_0> Choking is a serious condition that occurs when you eat too fast. It can also be caused by a combination of pressure and air pressure. This can lead to a rapid loss of food or air and a rapid increase in blood pressure. It can also cause a choking sensation, which can cause a person to choke when they are trying to eat fast food. This can lead to a loss of control and a weakened immune system, which can cause a person to stop breathing or a blockage.</s>\n",
      "########\n",
      "*******\n",
      "question: John sat in a folding chair in a bit room with a stage.  What sort of room could that be?\n",
      "answer: auditorium\n",
      "choices: ['room', 'auditorium', 'meeting hall', 'school', 'church']\n",
      "common expl list: ['An auditorium is a large room that is used for public events, such as concerts, plays, and speeches.']\n"
     ]
    },
    {
     "name": "stderr",
     "output_type": "stream",
     "text": [
      "\r",
      "  7%|███████████▌                                                                                                                                                          | 69/986 [19:07<50:48,  3.32s/it]"
     ]
    },
    {
     "name": "stdout",
     "output_type": "stream",
     "text": [
      "generated explanation: <pad> <extra_id_0> An auditorium is a room that is large enough to accommodate a stage and a number of people. The auditorium is a large room that is usually a large room with a stage and a number of people. The stage is usually a large, enclosed area with a stage and a large, open area for people to sit and listen to music. The audience is usually a group of people who are seated together, and the audience is usually a large group of people who are seated together. The aeaes.</s>\n",
      "########\n",
      "*******\n",
      "question: What would an adult man do to get ready for work?\n",
      "answer: dress himself\n",
      "choices: ['dress herself', 'shower', 'dress himself', 'drink beer', 'drive train']\n",
      "common expl list: ['An adult man would dress himself for work: this includes putting on pants, shirts, and dresses, and typical choices are professional clothes, such as suit and tie.', 'Adult males commonly wear suits to work. Men might get dressed in the morning, particularly if they plan on wearing a suit for work.']\n"
     ]
    },
    {
     "name": "stderr",
     "output_type": "stream",
     "text": [
      "\r",
      "  7%|███████████▊                                                                                                                                                          | 70/986 [19:10<52:08,  3.42s/it]"
     ]
    },
    {
     "name": "stdout",
     "output_type": "stream",
     "text": [
      "generated explanation: <pad> <extra_id_0> A man would get ready for work by dressing himself in a way that would allow him to look professional and presentable. This would include getting ready for work, getting dressed and getting ready for any social or business occasions. This would include getting a suit on, getting out of the shower, getting dressed and getting dressed for a meeting with clients, and getting ready for a night out on the town. This would also include getting ready for any other important events such as a wedding or a special occasion. Finally, he would also</s>\n",
      "########\n",
      "*******\n",
      "question: What does one do at an office?\n",
      "answer: work\n",
      "choices: ['work', 'school building', 'workplace', 'skyscraper', 'public building']\n",
      "common expl list: ['An office is a place where people work.', 'An office is a specific type of workplace.', 'One does work at the office']\n"
     ]
    },
    {
     "name": "stderr",
     "output_type": "stream",
     "text": [
      "\r",
      "  7%|███████████▉                                                                                                                                                          | 71/986 [19:14<53:06,  3.48s/it]"
     ]
    },
    {
     "name": "stdout",
     "output_type": "stream",
     "text": [
      "generated explanation: <pad> <extra_id_0> At an office, one works in a workplace that is a place of work. Working in an office is a type of work that involves the physical, mental, and emotional activities that are required in order to perform the tasks that are required of an employee. These activities include: Performing routine tasks, such as filing, preparing documents, and arranging files. In an office, the work is done in a workplace known as an office environment, which is a place of work, where people can be expected to work in a</s>\n",
      "########\n",
      "*******\n",
      "question: When a person is on trial for killing, what is a jury likely to decide?\n",
      "answer: punishment\n",
      "choices: ['execution', 'investigation', 'going to jail', 'retribution', 'punishment']\n",
      "common expl list: ['A jury is likely to decide that the person is guilty of the crime, and punish them accordingly.', 'When a jury decides that someone is guilty of a crime, they typically hand down a punishment.', 'A person who has just killed another person often goes to trial, so the jury will likely have to decide what the most just punishment is.']\n"
     ]
    },
    {
     "name": "stderr",
     "output_type": "stream",
     "text": [
      "\r",
      "  7%|████████████                                                                                                                                                          | 72/986 [19:18<53:47,  3.53s/it]"
     ]
    },
    {
     "name": "stdout",
     "output_type": "stream",
     "text": [
      "generated explanation: <pad> <extra_id_0> A jury is likely to decide on a murder case for a variety of reasons, including the need for a capital<extra_id_2>,<extra_id_3>,<extra_id_4>,<extra_id_5>,<extra_id_6>,<extra_id_7>,<extra_id_8>,<extra_id_9>,<extra_id_10>,<extra_id_11> a person is on trial for killing,<extra_id_12> a jury<extra_id_13>,<extra_id_14> a jury<extra_id_15>,<extra_id_16>, punishment<extra_id_17>,<extra_id_18>,<extra_id_19> A jury is likely to decide on punishment for a murder, or for any other crime, for any crime, for which the defendant is charged. This includes the<extra_id_20> that the jury<extra_id_21>,</s>\n",
      "########\n",
      "*******\n",
      "question: Most adult Americans split their time between home and what?\n",
      "answer: work\n",
      "choices: ['tent', 'work', 'apartment', 'the office', 'foreign']\n",
      "common expl list: ['Most adults spend most of their time at work.', 'Home and work may be the two places where most adult Americans spend most of their waking hours.']\n"
     ]
    },
    {
     "name": "stderr",
     "output_type": "stream",
     "text": [
      "\r",
      "  7%|████████████▏                                                                                                                                                       | 73/986 [19:54<3:24:01, 13.41s/it]"
     ]
    },
    {
     "name": "stdout",
     "output_type": "stream",
     "text": [
      "generated explanation: <pad> <extra_id_0> Most adult Americans split their time between home and work. Most adult Americans spend most of their time at home and at work, and spend most of their time at work working. This is because most Americans spend most of their time at home, and most of their time at work, working, being at home. This is because most Americans spend most of their time at work, and most people spend most of their time at work, and most people spend more time at work than home. This is because they spend more time at work, and most people spend more at home and work, and work, and time. This is also means that they spend more time at home and more time at home and work is less often spend at home. More than they are more time at home and work is more time at least half of their time at least part of their time at home and their time at home and work and work is a) and spend more of their time at home and work a a a higher, and less time at least as a a higher, and the a) and a) and) more of their time in the a) are more ) and) and are more of their time) and are also, which is also because of the a) and is a)</s>\n",
      "########\n",
      "*******\n",
      "question: Professionally the fighters always maintained a level of respect, but personally they held each other in what for things that were said?\n",
      "answer: contempt\n",
      "choices: ['belittlement', 'humiliate', 'irreverence', 'contempt', 'love']\n",
      "common expl list: ['Despite the respect that was maintained by the respectful fighters, the feelings that they had for each other were always a sense of contempt for each others character.']\n"
     ]
    },
    {
     "name": "stderr",
     "output_type": "stream",
     "text": [
      "\r",
      "  8%|████████████▎                                                                                                                                                       | 74/986 [19:58<2:39:57, 10.52s/it]"
     ]
    },
    {
     "name": "stdout",
     "output_type": "stream",
     "text": [
      "generated explanation: <pad> <extra_id_0> In the UFC, the fighters held each other in contempt. This is because they did not always have the same level of respect as each other, and the fighters did not always have the same level of respect for each other. This is because the fighters did not always have the same level of respect for each other, and this is reflected in the way they spoke and acted. This is because they did not always have the same level of respect for each other, and this can be seen in the way they acted and speak</s>\n",
      "########\n",
      "*******\n",
      "question: Where would you find many tables of silverware rolled into nice displayed napkins?\n",
      "answer: restaurant\n",
      "choices: ['silver', 'park', 'table', 'cupboard', 'restaurant']\n",
      "common expl list: ['Restaurants often give used, rolled up silverware to customers, and they might keep them in nice, displayed napkins to make moving and storing them easier.', 'In a commercial establishment, silverware is expected to be clean because consumption of food is involved. So, a restaurant may well be where someone would expect to find silverware rolled into nice displayed napkins (i.e., fancy silverware).', 'Restaurants often have a lot of silverware, and they might roll it up and place it in a napkin to make it easier to store.']\n"
     ]
    },
    {
     "name": "stderr",
     "output_type": "stream",
     "text": [
      "\r",
      "  8%|████████████▍                                                                                                                                                       | 75/986 [20:01<2:05:31,  8.27s/it]"
     ]
    },
    {
     "name": "stdout",
     "output_type": "stream",
     "text": [
      "generated explanation: <pad> <extra_id_0> s Restaurants are a great place to find silverware and napkins. They are also a great place to find a variety of different types of silverware and napkins. Restaurants often have a variety of silverware and napkins displayed in different areas, such as the dining room, bar, and lounge areas. In some restaurants, the display of silverware and napkins is a common practice, and this is why they are popular choices for guests.</s>\n",
      "########\n",
      "*******\n",
      "question: He didn't believe fate controlled situations, what did he believe people did?\n",
      "answer: control events\n",
      "choices: ['control events', 'pray', 'dress themselves', 'talk to each other', 'think creatively']\n",
      "common expl list: [\"If one believes fate controls events, there's nothing to do but accept situation, perhaps to pray; in contrast, if one believed they had control over events, then they could act to change the situation.\", 'If one believes in fate, then one would believe that fate controls events. If one believes in free will, then one would believe that people control events.']\n"
     ]
    },
    {
     "name": "stderr",
     "output_type": "stream",
     "text": [
      "\r",
      "  8%|████████████▋                                                                                                                                                       | 76/986 [20:04<1:43:43,  6.84s/it]"
     ]
    },
    {
     "name": "stdout",
     "output_type": "stream",
     "text": [
      "generated explanation: <pad> <extra_id_0> -<extra_id_1> - He didn't believe fate controlled situations, what did he believe people did that controlled events? He didn't believe fate controlled situations, what did he believe people did that controlled events? He believed people did that controlled events to occur, and he believed people could control events to occur. He believed people could control events to occur, and he believed people could control events to occur. He believed people could control events to occur, and he believed people could control events to occur. He believed people could control events</s>\n",
      "########\n",
      "*******\n",
      "question: Polly didn't know her way around, so she navigated by landmark.  She used statues, stores, and distinctive building.  Where might she be?\n",
      "answer: city\n",
      "choices: ['countryside', 'national park', 'map', 'neighbourhood', 'city']\n",
      "common expl list: ['Landmarks are often located in cities, and so if a person was navigating by landmarks, they are likely to be in a city.', \"She used distinctive buildings as landmarks, so it is likely she's in a city.\", 'In a city, landmarks are often used to navigate. In the countryside or in national parks, landmarks may not be as distinct, as buildings and statues are less likely to be found.', 'Landmark navigation works best in populated areas because distinctive buildings and statues can be more easily seen.']\n"
     ]
    },
    {
     "name": "stderr",
     "output_type": "stream",
     "text": [
      "\r",
      "  8%|████████████▊                                                                                                                                                       | 77/986 [20:08<1:28:22,  5.83s/it]"
     ]
    },
    {
     "name": "stdout",
     "output_type": "stream",
     "text": [
      "generated explanation: <pad> <extra_id_0> A city is a large area of a city that is surrounded by buildings, statues, and other distinctive structures that help people navigate the city. These landmarks are often associated with specific areas of the city, such as shopping malls and public buildings. These landmarks are often used to signpost people and places, and to help them find their way around. These landmarks are also often used to help people find their way around the city. These landmarks are often associated with specific areas, such as parks, parks, and shopping centers.</s>\n",
      "########\n",
      "*******\n",
      "question: Some horses are white others are black, but many are this color which might lead some people to think their milk would taste like chocolate?\n",
      "answer: brown\n",
      "choices: ['big but gentle', 'kept in stables', 'cuddly', 'brown', 'running in herd']\n",
      "common expl list: [\"An individual brown-colored horse (particularly when cuddly) can resemble the color of chocolate. If a person were to guess based on the color, he might guess a horse's milk tasted similarly.\"]\n"
     ]
    },
    {
     "name": "stderr",
     "output_type": "stream",
     "text": [
      "\r",
      "  8%|████████████▉                                                                                                                                                       | 78/986 [20:11<1:17:16,  5.11s/it]"
     ]
    },
    {
     "name": "stdout",
     "output_type": "stream",
     "text": [
      "generated explanation: <pad> <extra_id_0> The milk of many horses is a brown color which might lead some people to think their milk tastes like chocolate. This is because they are a color that is naturally occurring in the milk and is a result of the pigments in the milk. This can be due to the fact that they are darker in color and have a deeper hue than the surrounding milk. Brown milk is also a color that is found in the milk of many other species, including horses. This color is also known as chocolate and is associated with the color of milk.</s>\n",
      "########\n",
      "*******\n",
      "question: What is the one thing you cannot do if you're on the move?\n",
      "answer: stand still\n",
      "choices: ['sit still', 'stationary', 'running', 'stand still', 'stay still']\n",
      "common expl list: ['You must be in motion to be counted as on the move. (this rule exists to disallow the action of holding still)']\n"
     ]
    },
    {
     "name": "stderr",
     "output_type": "stream",
     "text": [
      "\r",
      "  8%|█████████████▏                                                                                                                                                      | 79/986 [20:16<1:13:44,  4.88s/it]"
     ]
    },
    {
     "name": "stdout",
     "output_type": "stream",
     "text": [
      "generated explanation: <pad> <extra_id_0> Standing still is the one thing you cannot do if you're on the move. You cannot stand still, move, or even think about anything. You cannot walk, talk, or act. You cannot move, think, or act because you are on the move. You cannot move, act, or think because you cannot move. You cannot stand still because you cannot move, move, or act, or think. You cannot stand still because you cannot move, and you cannot stand still because you cannot stand still. Standing still is the only thing you can's you can's, like, and you can't allow you can's.</s>\n",
      "########\n",
      "*******\n",
      "question: Where does someone convicted of a petty crime likely spend time?\n",
      "answer: jail\n",
      "choices: ['sell drugs', 'jail', 'nightclub', 'prison', 'offer drugs']\n",
      "common expl list: ['Someone convicted of a petty crime probably spends some time in jail, and not in prison.', 'Someone convicted of a petty crime is likely to spend time in jail.']\n"
     ]
    },
    {
     "name": "stderr",
     "output_type": "stream",
     "text": [
      "\r",
      "  8%|█████████████▎                                                                                                                                                      | 80/986 [20:19<1:07:46,  4.49s/it]"
     ]
    },
    {
     "name": "stdout",
     "output_type": "stream",
     "text": [
      "generated explanation: <pad> <extra_id_0> A person convicted of a petty crime likely spends time in a jail. A jail is a place where a person can spend time in a jail for a number of reasons, including the fact that it is a place where they can get behind bars and where they can get the necessary legal and administrative support to properly complete their case. In addition, a jail is a place where a person can legally keep their property and conduct their rights, which can include the use of force, such as locking up.</s>\n",
      "########\n",
      "*******\n",
      "question: He would entertain with a pool party regularly, it was the best way to beat the what?\n",
      "answer: hot\n",
      "choices: ['please', 'hot', 'guest', 'bribe', 'liked']\n",
      "common expl list: ['Pool parties are a great way to beat the heat.']\n"
     ]
    },
    {
     "name": "stderr",
     "output_type": "stream",
     "text": [
      "\r",
      "  8%|█████████████▍                                                                                                                                                      | 81/986 [20:23<1:04:28,  4.27s/it]"
     ]
    },
    {
     "name": "stdout",
     "output_type": "stream",
     "text": [
      "generated explanation: <pad> <extra_id_0> A hot man would entertain with a pool party regularly, it was the best way to beat the heat. A hot man would entertain with a pool party regularly, it was the best way to beat the heat. A hot man would entertain with a pool party regularly, it was the best way to beat the heat. A hot man would entertain with a pool party regularly, it was the best way to entertain the family. A hot person would entertain the family by playing pool and drinking, and the best way to beat the heat is to have been a hot.</s>\n",
      "########\n",
      "*******\n",
      "question: If you wanted to confirm information that you had, you would do what to someone?\n",
      "answer: question\n",
      "choices: ['infirm', 'ask', 'deny', 'question', 'dispute']\n",
      "common expl list: [\"Often information is ambiguous, and I can confirm it by asking pointed questions or by scrutinizing the other person's story till I can find a way to interrogate their position.\", 'If you wanted to confirm information that you had, you would ask someone.', 'If you wanted to verify the truth, you might question the person who you got the alleged information from.', 'To confirm something that your friends told you, you might need to ask those friends further questions to prove that the information was correct.']\n"
     ]
    },
    {
     "name": "stderr",
     "output_type": "stream",
     "text": [
      "\r",
      "  8%|█████████████▋                                                                                                                                                      | 82/986 [20:27<1:01:25,  4.08s/it]"
     ]
    },
    {
     "name": "stdout",
     "output_type": "stream",
     "text": [
      "generated explanation: <pad> <extra_id_0> : If you wanted to confirm information that you had, you would do what to someone. This would include a phone call, email, or a text message. This would be a direct message, or a written message, or a letter, which would be used to confirm information that you had previously provided to someone. This would be a direct message, or a written message, which would be used to confirm information that you had already provided to someone. This would be a direct message, and would not be a direct</s>\n",
      "########\n",
      "*******\n",
      "question: Where is cheese likely to be dangerous for some creatures?\n",
      "answer: mouse trap\n",
      "choices: ['refrigerator', 'mouse trap', 'fridge', 'outside', 'plate']\n",
      "common expl list: ['cheese has been said to attract mice. Mice traps may contain cheese in order to attract them.']\n"
     ]
    },
    {
     "name": "stderr",
     "output_type": "stream",
     "text": [
      "\r",
      "  8%|█████████████▊                                                                                                                                                      | 83/986 [21:31<5:32:27, 22.09s/it]"
     ]
    },
    {
     "name": "stdout",
     "output_type": "stream",
     "text": [
      "generated explanation: <pad> <extra_id_0> Cheese is likely to be dangerous for some creatures, such as mice, because it can be dangerous for them to eat it. In a mouse trap, cheese is likely to be a source of food for mice, since mice are likely to eat the cheese and eat it, which could lead to an attack. In addition, cheese can also be a source of a poisonous gas that can be harmful to humans, which can lead to an infection or death. This can lead to the development of an infection or death. Also, cheese can be dangerous for some species, as well as it could be found in cheese intoxic to be dangerous for humans, because it can be dangerous for some mice, which is likely to be as, and could be dangerous for some animals to be a dangerous for some species, and dangerous for some, and for some animals, and the cheese is likely to be as, as are likely to be as to be ad adis as such as well as it is likely to ad.</s>\n",
      "########\n",
      "*******\n",
      "question: He spent all work day at a computer, so he got a footstool for more comfort at his what?\n",
      "answer: desk\n",
      "choices: ['desk', 'bathroom', 'shoe shop', 'family room', 'living room']\n",
      "common expl list: ['A footstool is a small stool that is used to raise the height of a chair or table. If someone spends all day at a computer, they might need a footstool to raise their desk.']\n"
     ]
    },
    {
     "name": "stderr",
     "output_type": "stream",
     "text": [
      "\r",
      "  9%|█████████████▉                                                                                                                                                      | 84/986 [21:35<4:10:31, 16.66s/it]"
     ]
    },
    {
     "name": "stdout",
     "output_type": "stream",
     "text": [
      "generated explanation: <pad> <extra_id_0> A desk is a computer-equipped area of a home that is used for work and for comfort. A desk is a computer-equipped area that is used for work and for comfort. A desk is a computer-equipped area that is used for working and consuming information, such as text, emails, and research. A desk is a computer-equipped area that is used for carrying out tasks and completing tasks, such as writing, and is also used for storing documents and other office supplies. A desk is a desk or office, and is a desk is comfortable.</s>\n",
      "########\n",
      "*******\n",
      "question: How would grooming lead to bald spots?\n",
      "answer: mistakes\n",
      "choices: ['cleanliness', 'mistakes', 'brushing', 'beauty', 'satisfaction']\n",
      "common expl list: [\"If you accidentally over trim your hair, you'd likely end up with bald spots.\"]\n"
     ]
    },
    {
     "name": "stderr",
     "output_type": "stream",
     "text": [
      "\r",
      "  9%|██████████████▏                                                                                                                                                     | 85/986 [21:38<3:11:33, 12.76s/it]"
     ]
    },
    {
     "name": "stdout",
     "output_type": "stream",
     "text": [
      "generated explanation: <pad> <extra_id_0> Grooming leads to bald spots, which are a result of a lack of care and attention. The result is bald spots that are difficult to see and are difficult to cover up. This is because a lack of proper grooming can lead to bald spots, which are difficult to cover up and can be difficult to identify. In addition, grooming can also lead to a lack of confidence in your appearance, which can lead to a lack of confidence and confidence in your ability to effectively remove a bald spot.</s>\n",
      "########\n",
      "*******\n",
      "question: Where would a snake find a great hiding place in the United Kingdom?\n",
      "answer: kew gardens\n",
      "choices: ['ditch', 'terrarium', 'thick forest', 'kew gardens', 'feild']\n",
      "common expl list: ['Kew gardens is a large botanical garden in London, England, and snakes are often found in gardens.', 'Kew gardens is located in London, which has a great deal of green space in the form of parks.']\n"
     ]
    },
    {
     "name": "stderr",
     "output_type": "stream",
     "text": [
      "\r",
      "  9%|██████████████▏                                                                                                                                                    | 86/986 [25:36<20:04:38, 80.31s/it]"
     ]
    },
    {
     "name": "stdout",
     "output_type": "stream",
     "text": [
      "generated explanation: <pad> <extra_id_0> A snake would find a great hiding place in the United Kingdom a kew garden is a large, enclosed, well-lit area that is ideal for hiding from the elements and for a quick escape. The garden is also a great place for a snake to find a great place to rest and a place to play. The kew garden is also a great place for a young snake to learn to swim and play in. The kew gardens are a popular place for young snakes to find a, which is a great to find a great place to find great place to find a great to find a great to find great a great to find a snake to find a a great to find a great to find a great to find a great to find a snake to find to hide, as it is a great to find to find a a great to find a snake to find a a a snake to a great to find as to a snakes to find a great for a a a s to a great place to find a a snake to a great a asn’s to find a snake to s to a great a a a great a a a a great a a snake to a a to<extra_id_27> </s>\n",
      "########\n",
      "*******\n",
      "question: After studying many self-help books, what did he feel in his heart?\n",
      "answer: inspiration\n",
      "choices: ['inspiration', 'dreams', 'more intelligence', 'understanding', 'knowing more']\n",
      "common expl list: [\"Some people study self-help books because they've felt lost in their life and are looking for something to help them out. By reading many self-help books, such people might feel more inspired in their life.\", 'Self-help books are written to inspire people to change their lives for the better.', \"If John read about confidence, optimism, positive thinking, it's possible that he feels inspired.\"]\n"
     ]
    },
    {
     "name": "stderr",
     "output_type": "stream",
     "text": [
      "\r",
      "  9%|██████████████▍                                                                                                                                                    | 87/986 [25:40<14:18:48, 57.32s/it]"
     ]
    },
    {
     "name": "stdout",
     "output_type": "stream",
     "text": [
      "generated explanation: <pad> <extra_id_0> After studying many self-help books, what did he feel in his heart? Inspiration is a feeling that comes from within and is a result of self-love and self-awareness. It can be found in the subconscious mind of the person who reads the book, which can be a source of inspiration for him to feel inspired to do something new and exciting. This feeling can be a source of motivation, inspiration, or just a sense of peace and calm that comes from being inspired by the words he reads</s>\n",
      "########\n",
      "*******\n",
      "question: Where would you find teeth whitening bleachers?\n",
      "answer: pharmacy\n",
      "choices: ['gymnasium', 'soccer game', 'sporting event', 'pharmacy', 'soccer game']\n",
      "common expl list: ['Teeth whitening is a common practice, and pharmacies often sell the products used for it.']\n"
     ]
    },
    {
     "name": "stderr",
     "output_type": "stream",
     "text": [
      "\r",
      "  9%|██████████████▌                                                                                                                                                    | 88/986 [25:45<10:22:58, 41.62s/it]"
     ]
    },
    {
     "name": "stdout",
     "output_type": "stream",
     "text": [
      "generated explanation: <pad> <extra_id_0> A pharmacy is a store where you can buy a whitening product and get it mixed with other products to make a whitening solution. The pharmacy is a place where you can find a variety of products that are used to make a whitening solution. The pharmacy is a place where you can get a variety of products to make a whitening solution for your teeth. The pharmacy has a wide range of products that include whitening products, such as toothpastes, whitening products, and other products. The pharmacy is another place where you can also be found in the pharmacy for the whitening powders in the pharmacy pharmacy for whitening products, and a pharmacy is another important for dental whitening pharmacy</s>\n",
      "########\n",
      "*******\n",
      "question: While he had seen a koala in the zoo, he was looking forward to finding one in the what?\n",
      "answer: australian outback\n",
      "choices: ['australian outback', 'bamboo grove', 'wilderness', 'island', \"child's book\"]\n",
      "common expl list: ['Koalas live in Australia, and are not found in any other country in the North American continent.', 'Because Koalas are a native species to Australia, the safest place to see a Koala may be outback Australia.']\n"
     ]
    },
    {
     "name": "stderr",
     "output_type": "stream",
     "text": [
      "\r",
      "  9%|██████████████▋                                                                                                                                                    | 89/986 [26:22<10:02:55, 40.33s/it]"
     ]
    },
    {
     "name": "stdout",
     "output_type": "stream",
     "text": [
      "generated explanation: <pad> <extra_id_0> A koala is a large animal that is found in the Australian outback. They are often<extra_id_2> A koala is a<extra_id_3> a nocturnal animal that can be seen in the wild. They can<extra_id_4> A koala<extra_id_5> A<extra_id_6> A koala can<extra_id_7> A<extra_id_8> A<extra_id_9> A<extra_id_10> a<extra_id_11> A<extra_id_12> or<extra_id_13> a<extra_id_14> A<extra_id_15> A<extra_id_16> A<extra_id_17> A<extra_id_18> A<extra_id_19> A<extra_id_20>. A koala can<extra_id_21> A<extra_id_22> A ko</s>\n",
      "########\n",
      "*******\n",
      "question: Where can a child get a wagon?\n",
      "answer: toy store\n",
      "choices: ['field', 'garage', 'bookstore', 'backyard', 'toy store']\n",
      "common expl list: [\"A toy wagon is a child's toy. Toy wagons can be purchased from toy stores.\", 'Toy stores deal specifically in toys. Wagons are one of a variety of toys.']\n"
     ]
    },
    {
     "name": "stderr",
     "output_type": "stream",
     "text": [
      "\r",
      "  9%|██████████████▉                                                                                                                                                     | 90/986 [26:26<7:18:34, 29.37s/it]"
     ]
    },
    {
     "name": "stdout",
     "output_type": "stream",
     "text": [
      "generated explanation: <pad> <extra_id_0> A wagon is a toy that a child can get from a toy store. The toy store is a place that a child can go to get a new toy or a used one. The store will have a variety of different wagons and other types of toys, including vehicles, cars, and other accessories. The store will also have a variety of different wagons and other accessories, such as a whistle, and a horn. The store will also have a selection of different wagons, and also have been a wagons, and play, and play a child will be a wagons and the toy store.</s>\n",
      "########\n",
      "*******\n",
      "question: Being able to forgive is a way to be what?\n",
      "answer: nice to\n",
      "choices: ['learn', 'give hug', 'happiness', 'nice to', 'sex']\n",
      "common expl list: ['When you forgive people you are being nice to them.']\n"
     ]
    },
    {
     "name": "stderr",
     "output_type": "stream",
     "text": [
      "\r",
      "  9%|███████████████▏                                                                                                                                                    | 91/986 [26:30<5:23:16, 21.67s/it]"
     ]
    },
    {
     "name": "stdout",
     "output_type": "stream",
     "text": [
      "generated explanation: <pad> <extra_id_0> : Being able to forgive is a way of being what it is to be able to forgive. It is a way of being a person who is able to forgive others and move on with their lives. Forgiveness is a form of forgiveness, and it is a form of self-acceptance and acceptance that can lead to a sense of peace and harmony. It is a way of being a person who is able to forgive others and move on with their lives. It is a way of being, and it is to be a person, and being.</s>\n",
      "########\n",
      "*******\n",
      "question: What  is necessary to have when going fishing?\n",
      "answer: fishing rod\n",
      "choices: ['fishing rod', 'access to water', 'bate', 'three hands', 'tackle']\n",
      "common expl list: ['fishing rods are necessary component pieces that are held by fishermen to access and use when fishing', 'To go fishing requires a fishing rod.']\n"
     ]
    },
    {
     "name": "stderr",
     "output_type": "stream",
     "text": [
      "\r",
      "  9%|███████████████▎                                                                                                                                                    | 92/986 [26:55<5:40:22, 22.84s/it]"
     ]
    },
    {
     "name": "stdout",
     "output_type": "stream",
     "text": [
      "generated explanation: <pad> <extra_id_0> A fishing rod is a piece of equipment that is used for fishing. The fishing rod is a piece of equipment that is used for the purpose of carrying out a variety of different tasks, such as casting, casting, and retrieving fish. The fishing rod is a long, lightweight, and durable piece of equipment that is designed to be used by fishermen to carry a variety of different types of fish, including bait, and other baits. It is also necessary to have a fishing reel, which is a tool that is used for the fishing. The a fishing rod that is necessary to fish to catch and to catch, and fishing to catch of fish to catch and to fish to catch of the fishing, and is a fishing, and to catch, and for the purposes, and for fishing, and fores, and to have a fishing, and to fish, to catch, and to a fishing, and to catch, including, and for the, and for, and for the, or for fish to fish to fish to a<extra_id_27>, including, to catch, a fishing to provide for the fish to a fishing to a fishing to be a</s>\n",
      "########\n",
      "*******\n",
      "question: A weasel is cursed by a witch, where is the weasel stuck?\n",
      "answer: fairytale\n",
      "choices: ['corn fields', 'great outdoors', 'fairytale', 'imagination', 'chicken coop']\n",
      "common expl list: ['Being stuck in a fairytale suggests being cursed, and the curses that prevail in fairytales are usually cast by witches.']\n"
     ]
    },
    {
     "name": "stderr",
     "output_type": "stream",
     "text": [
      "\r",
      "  9%|███████████████▍                                                                                                                                                    | 93/986 [26:59<4:14:59, 17.13s/it]"
     ]
    },
    {
     "name": "stdout",
     "output_type": "stream",
     "text": [
      "generated explanation: <pad> <extra_id_0> A weasel is cursed by a witch, where is the weasel stuck? The weasel is stuck because the cursed creature is stuck in a trap and cannot escape it. The cursed creature is then able to fly away and live a normal life. The weasel is then able to hunt for food and escape from the trap. The trap is a fairytale or a fictional, often fictional, trap that is designed to trap and trap the wea.</s>\n",
      "########\n",
      "*******\n",
      "question: If you want to buy you must what?\n",
      "answer: spend money\n",
      "choices: ['spend money', 'go shopping', 'paying', 'have in mind', 'a shop']\n",
      "common expl list: ['To buy one needs money, and need money implies you have spent money.', 'If you want to buy something, you must spend money.', 'To buy something, you must spend money.']\n"
     ]
    },
    {
     "name": "stderr",
     "output_type": "stream",
     "text": [
      "\r",
      " 10%|███████████████▋                                                                                                                                                    | 94/986 [27:05<3:24:45, 13.77s/it]"
     ]
    },
    {
     "name": "stdout",
     "output_type": "stream",
     "text": [
      "generated explanation: <pad> <extra_id_0> If you want to buy something you must spend money on it. This is because money is the currency of the world and it is used for purchasing goods and services. Moreover, it is also the currency of the country and therefore must be used for the purchase of goods and services. This is because if you want to buy something you must spend money on it. Also, if you want to buy something, you must spend money on it. This is because money is the currency of the country and therefore must be spent on goods and services. Also, it is the best buy as and also means you must be spent on the money, and also, or, you must be spent on the country and therefore, you must be spent on the country.</s>\n",
      "########\n",
      "*******\n",
      "question: What public celebration sometimes has a horse show?\n",
      "answer: state fair\n",
      "choices: ['state fair', 'indy 500', 'american southwest', 'canada', 'central park']\n",
      "common expl list: ['Horse shows are competitions that sometimes occur at public celebrations. Some fairgrounds include horse shows as part of their regularly scheduled events.', 'Horse shows are sometimes included in state fair celebrations, and these fairs frequently are held in public parks.', \"A state's fair is a public celebration that may include a horse show.\"]\n"
     ]
    },
    {
     "name": "stderr",
     "output_type": "stream",
     "text": [
      "\r",
      " 10%|███████████████▊                                                                                                                                                    | 95/986 [27:10<2:46:46, 11.23s/it]"
     ]
    },
    {
     "name": "stdout",
     "output_type": "stream",
     "text": [
      "generated explanation: <pad> <extra_id_0> A state fair is a public event that features a horse show. This event is usually held during the state fair. The fair is a public event that is open to the public and is open to the public. The public can enter the fair and participate in a horse show. The fairgrounds are usually a place where people can enter and view a variety of horses, including stallions, horses, and stalls. The fairgrounds are a public event that is open to the public and is usually a horse show. The horses are often a public event.<extra_id_8> </s>\n",
      "########\n",
      "*******\n",
      "question: There are many wage gaps being discussed, the most important of which is between the rich and what?\n",
      "answer: poor\n",
      "choices: ['plain', 'sleepy', 'poor', 'idle', 'needy']\n",
      "common expl list: ['The poor are a group which suffers from a wage gap, denoted as their earning less than others, especially the rich.']\n"
     ]
    },
    {
     "name": "stderr",
     "output_type": "stream",
     "text": [
      "\r",
      " 10%|███████████████▉                                                                                                                                                    | 96/986 [27:15<2:17:50,  9.29s/it]"
     ]
    },
    {
     "name": "stdout",
     "output_type": "stream",
     "text": [
      "generated explanation: <pad> <extra_id_0> The most important wage gap being discussed is between the rich and poor. This gap is most important because it is the most important one to discuss. The rich are typically the ones who have the highest incomes and the most control over their own lives. The poor are typically the ones who have the highest levels of education and the highest levels of education. The poor are the ones who are most likely to have higher education and higher salaries. The poor are also the ones who have the highest levels of education. The poor are also more likely to have higher education attaining as.</s>\n",
      "########\n",
      "*******\n",
      "question: What city in a North American Country, that isn't the United States, would you expect to find a good french restaurant?\n",
      "answer: quebec\n",
      "choices: ['wine', 'nyc', 'quebec', 'manhattan', 'paris']\n",
      "common expl list: ['Quebec has a strong french heritage, and the french cuisine is actually quite popular in the United States.', 'Quebec is said to have strong french-culture since it was originally french territory. This would make sense if quebec had a good french restaurant.', 'Quebec is a province in Canada, and is known for its french culture.', 'Quebec is the only province that speaks French in North America, and you might expect to find a good french restaurant there.']\n"
     ]
    },
    {
     "name": "stderr",
     "output_type": "stream",
     "text": [
      "\r",
      " 10%|████████████████▏                                                                                                                                                   | 97/986 [27:20<1:57:17,  7.92s/it]"
     ]
    },
    {
     "name": "stdout",
     "output_type": "stream",
     "text": [
      "generated explanation: <pad> <extra_id_0> A good french restaurant in a city in a North American Country is a good way to satisfy your appetite and satisfy your taste buds. A good french restaurant is a restaurant that serves a variety of cuisines, including a wide variety of french dishes, and is a great place to spend time with your family. A good french restaurant is a good place to spend time with your family, and can be found in any city in Canada. A good french restaurant is a place where people gather to share food and enjoy the experience.</s>\n",
      "########\n",
      "*******\n",
      "question: Care not to burn you hand on the handle of what small high-walled vessel?\n",
      "answer: saucepan\n",
      "choices: ['brush', 'carry object', 'walking stick', 'umbrella', 'saucepan']\n",
      "common expl list: ['A saucepan is a small, high-walled vessel, built for holding liquids and usually used in the kitchen.']\n"
     ]
    },
    {
     "name": "stderr",
     "output_type": "stream",
     "text": [
      "\r",
      " 10%|████████████████▎                                                                                                                                                   | 98/986 [27:25<1:45:50,  7.15s/it]"
     ]
    },
    {
     "name": "stdout",
     "output_type": "stream",
     "text": [
      "generated explanation: <pad> <extra_id_0> A saucepan is a high-walled, high-pressure vessel that is used for cooking. It is a small, high-volume vessel that is used for heating liquids. It is a high-volume, high-temperature vessel that is used for boiling liquids. The handle of the saucepan is the part of the vessel that is held in place by a metal rod or other metal object. The metal rod or metal piece is used to hold the handle of the saucepan and prevent it from touching the handle. The handle of the a a small, the a small, a small,</s>\n",
      "########\n",
      "*******\n",
      "question: What container does peanut butter come in?\n",
      "answer: jar\n",
      "choices: ['cupboard', 'pantry', 'jar', 'bottle', 'supermarket']\n",
      "common expl list: ['Jars, like those that pickles often come in, are suitable for food items that need to be kept fresh for long time. Jars can be resealed.', 'Jars are often used to store food, and peanut butter is a food.', 'Peanut butter comes in glass jars, like many other food products.', 'Jars can keep food sealed without leaking, and often have lids. Peanut butter is sealed in a jar and could be kept in a house, kitchen, pantry, or cupboard.']\n"
     ]
    },
    {
     "name": "stderr",
     "output_type": "stream",
     "text": [
      "\r",
      " 10%|████████████████▍                                                                                                                                                   | 99/986 [27:30<1:35:10,  6.44s/it]"
     ]
    },
    {
     "name": "stdout",
     "output_type": "stream",
     "text": [
      "generated explanation: <pad> <extra_id_0> Peanut butter comes in a jar. The jar is used to store the peanut butter and it is used to store the peanuts. The jar is used to store the peanut butter and it is sealed with a lid. The lid is used to seal the peanut butter and to prevent it from being broken or damaged. The jar is also used as a storage container for other products, such as cookies, cookies, and peanut butter. The jar is used to store the peanut butter and other products, such as peanut butter. The peanut butter</s>\n",
      "########\n",
      "*******\n",
      "question: Where are plants likely to be handled by a city employee?\n",
      "answer: park\n",
      "choices: ['park', 'windowsill', 'ground', 'office', 'garden']\n",
      "common expl list: ['A city employee might handle plants while working in a park.', 'Parks are where city employees are likely to handle plants.']\n"
     ]
    },
    {
     "name": "stderr",
     "output_type": "stream",
     "text": [
      "\r",
      " 10%|████████████████▌                                                                                                                                                  | 100/986 [27:35<1:28:32,  6.00s/it]"
     ]
    },
    {
     "name": "stdout",
     "output_type": "stream",
     "text": [
      "generated explanation: <pad> <extra_id_0> A city employee is typically assigned a park or a public place where plants are in bloom or thriving. Park employees are typically responsible for the care and maintenance of any park or public place that has plants that need to be handled. These plants include trees, shrubs, and shrubs, and are often located in or near parks and open spaces. Park employees are also likely to have access to a wide range of equipment and tools that can be used to safely manage the plants, including a variety of hand tools and equipment that can be used to a city employee to handle any plant.</s>\n",
      "########\n",
      "*******\n",
      "question: Trains tend to come on time, airplanes on the other hand tend to what?\n",
      "answer: arrive late\n",
      "choices: ['stall', 'take off', 'arrive late', 'catch on fire', 'carry freight']\n",
      "common expl list: [\"Planes aren't typically known for arriving on time (air traffic, weather, repairs, et. al.), whereas trains tend to be more reliable.\", 'Planes are carreid by more complicated mechanisms than trains, and therefore tend to be harder to operate exactly on time.']\n"
     ]
    },
    {
     "name": "stderr",
     "output_type": "stream",
     "text": [
      "\r",
      " 10%|████████████████▋                                                                                                                                                  | 101/986 [27:39<1:21:24,  5.52s/it]"
     ]
    },
    {
     "name": "stdout",
     "output_type": "stream",
     "text": [
      "generated explanation: <pad> <extra_id_0> : Trains tend to come on time, airplanes tend to arrive late. Airplanes on the other hand tend to arrive late. This is because they are more likely to be late than trains, which tend to be more likely to be late. This is because trains are more likely to be on time than airplanes, which are more likely to be late. This is because airplanes are more likely to be on time than trains, which tend to be on time. Also, because airplanes are more likely to be on time, they are more often arrive on their.</s>\n",
      "########\n",
      "*******\n",
      "question: Where is glue well used?\n",
      "answer: art room\n",
      "choices: ['desk drawer', 'cabinet', 'art room', 'school', 'closed container']\n",
      "common expl list: ['Glue is used in art projects, and art rooms are where art projects are done.']\n"
     ]
    },
    {
     "name": "stderr",
     "output_type": "stream",
     "text": [
      "\r",
      " 10%|████████████████▊                                                                                                                                                  | 102/986 [27:45<1:19:52,  5.42s/it]"
     ]
    },
    {
     "name": "stdout",
     "output_type": "stream",
     "text": [
      "generated explanation: <pad> <extra_id_0> Glue is a glue that is used to hold a variety of materials together. It is used to attach art supplies, such as paper, canvas, and canvas, to create a variety of different shapes and sizes. It is also a great way to add a touch of color to your creations. It is also an excellent way to secure objects in place, such as pictures, or other art pieces. It is also an excellent way to create a lasting impression on a piece of art. It is also an excellent way to help to glue is to be used for creating and to help to create glue to help youtube</s>\n",
      "########\n",
      "*******\n",
      "question: Billy loves science, history, and art but isn't very creative.  When he was visiting the museum, he felt a great deal of what emotion?\n",
      "answer: enjoyment\n",
      "choices: ['inspiration', 'fulfillment', 'wonder', 'boredom', 'enjoyment']\n",
      "common expl list: ['At a museum, Billy uses history to find science, and science to find art; by combining different loves, going to the museum has been fulfilling. To achieve fulfilment, Billy felt an enjoyable feeling.', 'When Billy visited a museum which had a lot of fields of interest, Billy enjoyed himself while he learned from the experience at the same time.']\n"
     ]
    },
    {
     "name": "stderr",
     "output_type": "stream",
     "text": [
      "\r",
      " 10%|█████████████████                                                                                                                                                  | 103/986 [27:49<1:15:41,  5.14s/it]"
     ]
    },
    {
     "name": "stdout",
     "output_type": "stream",
     "text": [
      "generated explanation: <pad> <extra_id_0> Billy loves science, history, and art but isn't very creative. He also doesn't feel creative or creatively inclined. When he visits the museum, he feels a great deal of enjoyment. This is because he can't draw or create anything and he can't draw or create anything that is creative. This is because he isn't creative and he doesn't have the time or energy to create anything that is unique or creative. Because of this, he can't create anything that is that he</s>\n",
      "########\n",
      "*******\n",
      "question: Sarah did much hard work, even though she was on vacation.  Her mother told her off and said what?\n",
      "answer: do nothing\n",
      "choices: ['unemployment', 'say something', 'earn money', 'do nothing', 'relaxation']\n",
      "common expl list: ['If one is on vacation, one is supposed to \"do nothing\" as opposed to working - the \"something\" that is discouraged. Many physically hard jobs involve getting the hands dirty.']\n"
     ]
    },
    {
     "name": "stderr",
     "output_type": "stream",
     "text": [
      "\r",
      " 11%|█████████████████▏                                                                                                                                                 | 104/986 [27:54<1:13:34,  5.01s/it]"
     ]
    },
    {
     "name": "stdout",
     "output_type": "stream",
     "text": [
      "generated explanation: <pad> <extra_id_0> Sarah did much hard work even though she was on vacation. Her mother said nothing and Sarah continued to work hard. Sarah's mother said nothing and continued to tell her off. Sarah's mother's actions did not affect her ability to work hard, and she was right. She was just saying something that made her mother feel bad about herself. She was also upset that her mother had told her off and said nothing and said nothing. Sarah's mother was not happy with her work. She said that her mother was being a strict mom and Sarah</s>\n",
      "########\n",
      "*******\n",
      "question: James walked barefoot on a something that was made hot by sunshine. What is he probably walking on?\n",
      "answer: street\n",
      "choices: ['desktop', 'summer', 'moon', 'meadow', 'street']\n",
      "common expl list: ['Because of the intense heat of summer, sunlight reflects off the pavement, causing a hot sensation when one walks barefoot in the summer.']\n"
     ]
    },
    {
     "name": "stderr",
     "output_type": "stream",
     "text": [
      "\r",
      " 11%|█████████████████▎                                                                                                                                                 | 105/986 [27:59<1:13:09,  4.98s/it]"
     ]
    },
    {
     "name": "stdout",
     "output_type": "stream",
     "text": [
      "generated explanation: <pad> <extra_id_0> James walked barefoot on a something that was made hot by sunshine. This could be a street or a sidewalk, or even a hot surface. This would be the most likely place for him to walk on. The surface of the sidewalk would be hot and sticky, and the surface of the street would be a good place to sit and wait for the sun to shine down. This would also be a good place to walk barefoot on a hot surface, such as a sidewalk. The heat from the sun could be the pedestrians, as well as they probably a hot.</s>\n",
      "########\n",
      "*******\n",
      "question: He grew tired of standing in the kitchen his whole shift, where was he?\n",
      "answer: restaurant\n",
      "choices: [\"neighbor's house\", \"friend's house\", 'restaurant', 'jail', 'fraternity house']\n",
      "common expl list: ['A restaurant would have a kitchen, where you would be required to stand while your shift is in session.', 'One can get tired standing in a kitchen if one is on their feet all day; kitchens are typically in restaurants.']\n"
     ]
    },
    {
     "name": "stderr",
     "output_type": "stream",
     "text": [
      "\r",
      " 11%|█████████████████▌                                                                                                                                                 | 106/986 [28:04<1:13:48,  5.03s/it]"
     ]
    },
    {
     "name": "stdout",
     "output_type": "stream",
     "text": [
      "generated explanation: <pad> <extra_id_0> he grew tired of standing in the kitchen his whole shift, and grew tired of the constant motion of the kitchen. The kitchen was the place where he spent most of his time, and he was often the only one in the restaurant working. The kitchen is the place where he works, and it is the place where he is most comfortable. The kitchen is also the place where he can get the most rest and fresh air. The kitchen is a place where people can relax and enjoy the atmosphere and the food. The restaurant is a restaurant is an establishment that is also, and the restaurant, and the resting.</s>\n",
      "########\n",
      "*******\n",
      "question: The children play cards often, but they make their own rules because they can't what the originals?\n",
      "answer: remember\n",
      "choices: ['bid', 'concentrate', 'winning', 'count', 'remember']\n",
      "common expl list: ['Children often play games that are similar to those played by adults, such as card games, but with slight variations to how they are played. This is most likely because children cannot remember the original rules of the card games. Smiling is a common expression', \"The children are making up their own rules because they can't remember the original rules.\"]\n"
     ]
    },
    {
     "name": "stderr",
     "output_type": "stream",
     "text": [
      "\r",
      " 11%|█████████████████▉                                                                                                                                                   | 107/986 [28:05<57:10,  3.90s/it]"
     ]
    },
    {
     "name": "stdout",
     "output_type": "stream",
     "text": [
      "generated explanation: <pad> <extra_id_0> The children play cards often, but they make their own rules because they can't what the originals. The children also make their own rules because they can't remember what the originals.</s>\n",
      "########\n",
      "*******\n",
      "question: On an average day, going to work could make you feel like what?\n",
      "answer: feeling good\n",
      "choices: ['feeling good', 'anger', 'revelation', 'being fired', 'tardiness']\n",
      "common expl list: ['To fulfill a life purpose and to gain fulfillment, people often undertake gainful employment. Thus, the people who experience this data point might experience feelings of accomplishment/fulfillment.', 'People sometimes feel pride and accomplishment when they get things done at the office.']\n"
     ]
    },
    {
     "name": "stderr",
     "output_type": "stream",
     "text": [
      "\r",
      " 11%|██████████████████                                                                                                                                                   | 108/986 [28:07<46:54,  3.21s/it]"
     ]
    },
    {
     "name": "stdout",
     "output_type": "stream",
     "text": [
      "generated explanation: <pad> <extra_id_0> On an average day, going to work could make you feel like what? On an average day, going to work could make you feel like what? On an average day, going to work could make you feel like what?</s>\n",
      "########\n",
      "*******\n",
      "question: What country has the carpathians and is the furthest in the direction of the side that won the U.S. Civil War?\n",
      "answer: poland\n",
      "choices: ['slovakia', 'slovenia', 'poland', 'ukraine', 'romania']\n",
      "common expl list: ['Poland is the only country that has the carpathian mountains, and it was the most distant in the direction from the side that won the U.S. Civil War (the North).']\n"
     ]
    },
    {
     "name": "stderr",
     "output_type": "stream",
     "text": [
      "\r",
      " 11%|██████████████████▏                                                                                                                                                  | 109/986 [28:11<53:45,  3.68s/it]"
     ]
    },
    {
     "name": "stdout",
     "output_type": "stream",
     "text": [
      "generated explanation: <pad> <extra_id_0> The carpathians are a region of land that is located in central and eastern Europe, and is part of the region of the Carpathians. The region is a large area of land that is characterized by hills and valleys, and is a major part of the region that is used as a barrier against inland and inland migration. The region is also known as the carpathians, and is the region that is most populated by people from the former Polish Empire, which is located in eastern Poland. The region is also a</s>\n",
      "########\n",
      "*******\n",
      "question: What would happen if you want to win a game?\n",
      "answer: competitiveness\n",
      "choices: ['competitiveness', 'satisfaction', 'learning', 'injuries', 'play']\n",
      "common expl list: ['Competitive athletes would want to win their games, whatever the cost; this desire to win leads to competitiveness and creates the desire to win over even long periods of time; it also often leads to brutal physical play --- such as by causing injuries to opposing r', \"Victory in a game requires one to make a maximum effort, and peoples' desire to win has to be rather competitive.\", 'To win a game, you must be competitive.', 'If you want to win a game, you will try put your best effort to take your chances at winning over those of your opponents.', 'After playing a game, a person would be likely compelled to win the game becasue they want a feeling of satisfaction from winning the game. In order to win, a person would need to be competitive.']\n"
     ]
    },
    {
     "name": "stderr",
     "output_type": "stream",
     "text": [
      "\r",
      " 11%|██████████████████▍                                                                                                                                                  | 110/986 [28:16<56:29,  3.87s/it]"
     ]
    },
    {
     "name": "stdout",
     "output_type": "stream",
     "text": [
      "generated explanation: <pad> <extra_id_0> : Competition is the desire to win a game or competition. Competition is the desire to win a game or competition. In this case, competition would be the result of a number of factors including desire to win, desire to win, and a desire to compete with others. Competitiveness is a key factor in the process of winning a game or competition, as it is the main factor in determining the outcome. It is also important to understand that competitiveness is a key factor in determining the outcome of a game.</s>\n",
      "########\n",
      "*******\n",
      "question: Where should watch to avoid being pinched by a crab?\n",
      "answer: sandy beach\n",
      "choices: ['eastern coast', 'sandy beach', 'fish market', 'north carolina', 'sand dunes']\n",
      "common expl list: ['Crabs live in sandy areas, and people who visit sandy beaches are likely to be pinched by crabs.', 'It is more common to find crabs living in sandy beach areas.']\n"
     ]
    },
    {
     "name": "stderr",
     "output_type": "stream",
     "text": [
      "\r",
      " 11%|██████████████████▌                                                                                                                                                  | 111/986 [28:20<57:01,  3.91s/it]"
     ]
    },
    {
     "name": "stdout",
     "output_type": "stream",
     "text": [
      "generated explanation: <pad> <extra_id_0> Crabs are a dangerous and dangerous species of crab that can be dangerous to people and pets. They can also be very aggressive and can bite and sting victims. This can lead to a serious injury or even death. Watch your bare feet and ears to avoid being pinched by a crab, and keep your hands clean. Also, watch for crabs near the shoreline as they can be very slippery and can easily get stuck in the sand, which can lead to injury. Also, watch for crabs that are too.</s>\n",
      "########\n",
      "*******\n",
      "question: What is a large group of human beings?\n",
      "answer: civilisation\n",
      "choices: ['an infestation', 'civilisation', 'homes', 'graveyard', 'spacecraft']\n",
      "common expl list: ['Civilisation is generally used to refer to large populations of humans living together in a single area, responding to collective needs.']\n"
     ]
    },
    {
     "name": "stderr",
     "output_type": "stream",
     "text": [
      "\r",
      " 11%|██████████████████▌                                                                                                                                                | 112/986 [28:58<3:29:00, 14.35s/it]"
     ]
    },
    {
     "name": "stdout",
     "output_type": "stream",
     "text": [
      "generated explanation: <pad> <extra_id_0> A large group of human beings is a civilisation. Civilisation is a group of people who are grouped together into a common unit of activity, such as work, education, and social interaction. Civilisation is a group of people who share a common interest in the same goal, which is to maintain a high standard of living and to ensure the welfare of the public. Civilisation is a group of people who have developed a culture, a language, a way of life, and a way of life, and large group of people is known as a large group of people are known as well-minded, and a large group of people who are called society, or culturally a large group of many different from a large-based, and as, and are often a large-wide, or a large, and to be a wide spread, and to the common as, or a large--based on the human beings, and for a large- or a number of many, or a large, or, or a, or a, or, or, or, or, a, or, or, or, or, or, or, or, or, or, or, or, or, or,</s>\n",
      "########\n",
      "*******\n",
      "question: What  is likely to happen to ice in the sun?\n",
      "answer: become water\n",
      "choices: ['cool water', 'cool drink', 'cool off', 'nothing', 'become water']\n",
      "common expl list: ['When ice is exposed to the sun, it melts, becoming water.', 'because hot melts cold, ice will melt if kept in the sun.']\n"
     ]
    },
    {
     "name": "stderr",
     "output_type": "stream",
     "text": [
      "\r",
      " 11%|██████████████████▋                                                                                                                                                | 113/986 [29:03<2:44:57, 11.34s/it]"
     ]
    },
    {
     "name": "stdout",
     "output_type": "stream",
     "text": [
      "generated explanation: <pad> <extra_id_0> : ice in the sun is likely to become water and vapor. This is because the sun is a powerful energy source that can melt ice and form new ice. The sun can also be a very powerful irradiator, which can help to break down ice and create new water ice. Additionally, the sun can also be a very powerful cooling agent, which can help to keep the ice crystals from forming solids and melting new ice. This can also help to prevent the formation of new asa a a a a water a a a ado</s>\n",
      "########\n",
      "*******\n",
      "question: Where can travellers pull off the road to stretch their legs?\n",
      "answer: rest area\n",
      "choices: ['rest area', 'airport', 'train station', 'come home', 'bus depot']\n",
      "common expl list: ['Rest areas are places where people can pull off the road to stretch their legs, and they are often located near gas stations, which are frequented by travellers.', 'Rest areas are publicly provided spaces for drivers to get out of their cars for a break. Train stations, bus depots, come home, and airports are all places where one might catch a bus, train, taxi, or plane, or have arrived', 'Rest areas generally allow travelers to spend time away from the roads, which are generally connecting points to large cities and particular highway names.']\n"
     ]
    },
    {
     "name": "stderr",
     "output_type": "stream",
     "text": [
      "\r",
      " 12%|██████████████████▊                                                                                                                                                | 114/986 [29:06<2:10:39,  8.99s/it]"
     ]
    },
    {
     "name": "stdout",
     "output_type": "stream",
     "text": [
      "generated explanation: <pad> <extra_id_0> A rest area is a place where travellers can pull off the road to stretch their legs and stretch their legs. The rest area is a place where travellers can pull off the road to stretch their legs and rest their legs. The area is a place where travellers can pull off the road to stretch their legs and stretch their legs. The area is a place where travellers can pull off the road to stretch their legs and stretch their legs. The area is a place where travellers can pull off the road to stretch their legs and stretch their legs.</s>\n",
      "########\n",
      "*******\n",
      "question: A poor family has no decorations in December, what would make a great gift?\n",
      "answer: christmas tree\n",
      "choices: ['food', 'specialty store', 'christmas tree', 'department store', 'christmas stocking']\n",
      "common expl list: ['A christmas tree is a traditional decoration for christmas.', 'In December, most families tend to put up christmas decorations. A christmas tree would make a good gift for a poor family.', 'The family is poor, so we might assume that they have nothing for decoration for their Christmas season. To help fix this, a Christmas tree would be the greatest gift.']\n"
     ]
    },
    {
     "name": "stderr",
     "output_type": "stream",
     "text": [
      "\r",
      " 12%|███████████████████                                                                                                                                                | 115/986 [29:11<1:53:39,  7.83s/it]"
     ]
    },
    {
     "name": "stdout",
     "output_type": "stream",
     "text": [
      "generated explanation: <pad> <extra_id_0> A poor family has no decorations in December, what would make a great gift for them? A christmas tree is a beautiful and functional tree that can be decorated with lights, ornaments, and other decorations. A Christmas tree can be a beautiful addition to any home and is a great gift for a family that has limited resources. A Christmas tree can also be a great decoration for a home that is in need of replacement parts or repairs. A Christmas tree can be a great addition to any home and can provide warmth and security. The tree is a a great Christmas tree is a great for the whole. A great gift for a tree can be a tree is a Christmas tree a great gift for a Christmas tree is a great to decorate for a Christmas tree is a tree is a holiday<extra_id_8> </s>\n",
      "########\n",
      "*******\n",
      "question: Where would you buy jeans in a place with a large number of indoor merchants?\n",
      "answer: shopping mall\n",
      "choices: ['shopping mall', 'laundromat', 'hospital', 'clothing store', 'thrift store']\n",
      "common expl list: ['Shopping malls often have a large number of stores, including clothing stores.', 'Shopping malls usually contain a large variety of stores, including stores that sell clothes and jeans.', 'Since malls (or indoor shopping centers in general) contain numerous merchants, including clothing stores, you could purchase jeans in one such store.']\n"
     ]
    },
    {
     "name": "stderr",
     "output_type": "stream",
     "text": [
      "\r",
      " 12%|███████████████████▏                                                                                                                                               | 116/986 [29:15<1:34:52,  6.54s/it]"
     ]
    },
    {
     "name": "stdout",
     "output_type": "stream",
     "text": [
      "generated explanation: <pad> <extra_id_0> A shopping mall is a large indoor shopping area with many indoor retailers. The mall is a shopping center that is open to the public and is often referred to as a shopping area. The shopping mall is a place where you can find a wide variety of merchandise for sale, including clothing, accessories, and other items. The shopping mall is also a place where you can find a wide selection of products and services, including clothing, and is often a popular place for people to go to buy their goods. The shopping malls</s>\n",
      "########\n",
      "*******\n",
      "question: If I wanted to get some oxygen, what will I get it from?\n",
      "answer: air\n",
      "choices: ['the sky', 'air', 'earth', 'space shuttle', 'water']\n",
      "common expl list: ['Oxygen is found in the air.']\n"
     ]
    },
    {
     "name": "stderr",
     "output_type": "stream",
     "text": [
      "\r",
      " 12%|███████████████████▎                                                                                                                                               | 117/986 [29:20<1:29:42,  6.19s/it]"
     ]
    },
    {
     "name": "stdout",
     "output_type": "stream",
     "text": [
      "generated explanation: <pad> <extra_id_0> If I wanted to get some oxygen, what will I get it from? Air is a gas that contains carbon dioxide, which is a gas that is derived from the atmosphere. This gas is used to create and transport oxygen, which is a natural process that occurs naturally in the atmosphere. Air is a gas that is formed when a gas is heated, which is why it is referred to as \"oxygen\". Air is a gas that is a byproduct of heat or pressure. This gas is used to create oxygen, which is a a oxygen, which is as from as, oxygen, or to get oxygen. as) a) as to get oxygen from as and to a a<extra_id_22> </s>\n",
      "########\n",
      "*******\n",
      "question: What happens after having food too much?\n",
      "answer: getting fat\n",
      "choices: ['being full', 'laziness', 'weight gain', 'getting fat', 'will not starve']\n",
      "common expl list: ['Eating too much food causes one to become obese.', 'People will become fat, and even obese from eating too much food.', 'Eating too much food causes one to gain weight, and thus become fat.']\n"
     ]
    },
    {
     "name": "stderr",
     "output_type": "stream",
     "text": [
      "\r",
      " 12%|███████████████████▌                                                                                                                                               | 118/986 [29:44<2:45:32, 11.44s/it]"
     ]
    },
    {
     "name": "stdout",
     "output_type": "stream",
     "text": [
      "generated explanation: <pad> <extra_id_0> Having too much food can lead to weight gain and weight gain. This is because the body produces more fat, which can be stored as energy for other activities, such as exercise. Additionally, consuming too much fat can lead to weight gain and weight loss. Fat stores in the body can also be increased, which can lead to weight gain. Fat stores also tend to store stored calories, which can lead to an increase in body fat. Additionally, fat stores also tend to be more prone to fat storage, which can lead to weight gain. Fat accumulation of the body, and calories, which can cause, which can also cause, and obesity, and calories, and calories, which can cause to the body, and therefore, and are adiolat the body, especially, and also to the if the body, which can cause, and are also, and in the ad in the adia to as, which can be ad to adid to become adi adio adiodiadis dis, and adna ado, ad</s>\n",
      "########\n",
      "*******\n",
      "question: It was the first time they had met their new niece, it was good to have everybody together at the annual what?\n",
      "answer: family reunion\n",
      "choices: [\"brother's house\", 'family picture book', 'family tree', 'family reunion', 'book']\n",
      "common expl list: ['A family reunion is called a family reunion because this is where all of the family members gather for the re-union.']\n"
     ]
    },
    {
     "name": "stderr",
     "output_type": "stream",
     "text": [
      "\r",
      " 12%|███████████████████▋                                                                                                                                               | 119/986 [30:20<4:31:31, 18.79s/it]"
     ]
    },
    {
     "name": "stdout",
     "output_type": "stream",
     "text": [
      "generated explanation: <pad> <extra_id_0> The family reunion is an annual family gathering that is held at the end of each year. This reunion is a family gathering that is held to celebrate the accomplishments of the year and to share the joy of the year. The family also has a special time of year to celebrate the birth of a new child. This reunion is an annual family event that is held every year and is a great way to bond with family members and share special occasions. It also helps to keep the family together as it is a time of celebration and bonding. The family reunion is also a new baby, and meet new and introduction of the annual reunions. It is a family reunion is adohillustrs and the annual. adohy. a reunions of the new baby adoh adohohil adohd adohil adh of the adoh adoh adh adobens adoh</s>\n",
      "########\n",
      "*******\n",
      "question: If you're expressing yourself in a public forum, what may you experience?\n",
      "answer: stage fright\n",
      "choices: ['danger', 'embarrassment', 'stage fright', 'getting arrested', 'blank stares']\n",
      "common expl list: ['If you are expressing yourself in a public forum, you may experience stage fright, which is the fear of being embarrassed in front of a large audience.', 'A common example of expressing oneself in public is on stage. Members of an audience may stare and become bored, and at worst they may hiss or boo.', 'Stage fright is the feeling of embarrassment or nervousness at the thought of being in front of people, and being on stage for a performance is a good example of a place where one often experiences stage fright. In such a case, their performance might be']\n"
     ]
    },
    {
     "name": "stderr",
     "output_type": "stream",
     "text": [
      "\r",
      " 12%|███████████████████▊                                                                                                                                               | 120/986 [30:24<3:26:03, 14.28s/it]"
     ]
    },
    {
     "name": "stdout",
     "output_type": "stream",
     "text": [
      "generated explanation: <pad> <extra_id_0> : Stage fright is a common form of phobia or phobia that can be associated with public speaking and public speaking. It is a common form of phobia that can be experienced when expressing yourself in public. It can be a common and uncomfortable feeling to be in public and to be criticized for your actions. This can be a sign of stage fright, or stage apprehension, or even stage apathy. Stage fright can occur when you are nervous or anxious about speaking in public.</s>\n",
      "########\n",
      "*******\n",
      "question: He was eating too much while no exercising enough, what did he suffer as a result?\n",
      "answer: gain weight\n",
      "choices: ['hungry', 'gas', 'obesity', 'gain weight', 'feeling full']\n",
      "common expl list: [\"If you eat too much and don't exercise enough, you will gain weight.\", 'If you eat more than you burn, you gain weight.', 'Excessive food consumption leads to accumulation of fat, which then results in a higher body weight, i.e., weight gain.']\n"
     ]
    },
    {
     "name": "stderr",
     "output_type": "stream",
     "text": [
      "\r",
      " 12%|████████████████████                                                                                                                                               | 121/986 [30:27<2:38:55, 11.02s/it]"
     ]
    },
    {
     "name": "stdout",
     "output_type": "stream",
     "text": [
      "generated explanation: <pad> <extra_id_0> He was eating too much while no exercising enough, he did not get enough exercise and as a result gained weight. This can be a problem for people who are overweight or obese, as it can lead to weight gain. If a person is overweight or obese, they may gain weight. This can be due to a combination of factors such as eating too much and not exercising enough, and this can lead to increased appetites and increased body fat. In addition, they may also be more prone to develop diseases such as diabetes and heart.</s>\n",
      "########\n",
      "*******\n",
      "question: Randy was not doing housework.   His wife was raising two children, and this only increased her workload. It put her under a lot of stress.  What might this lead to?\n",
      "answer: arguments\n",
      "choices: ['asthma', 'more', 'boredom', 'headache', 'arguments']\n",
      "common expl list: ['Stress is often related to family life. Being under stress, the wife might verbally lash out at her husband, which could potentially lead to arguments']\n"
     ]
    },
    {
     "name": "stderr",
     "output_type": "stream",
     "text": [
      "\r",
      " 12%|████████████████████▏                                                                                                                                              | 122/986 [30:31<2:07:01,  8.82s/it]"
     ]
    },
    {
     "name": "stdout",
     "output_type": "stream",
     "text": [
      "generated explanation: <pad> <extra_id_0> - Randy's wife was not doing housework. This put a lot of pressure on her and increased her workload. This increased her workload. This increased her workload. This increased her stress level. This increased her workload. This increased her stress. This increased her stress level and increased her workload. This increased her stress level and increased her workload. This increased her workload. This increased her workload and increased her stress. This increased her stress level. This increased her stress level. This increased her stress level and increased her stress levels. This increased her. This is.</s>\n",
      "########\n",
      "*******\n",
      "question: Where can you learn about a ferret with special abilities far beyond normal ferrets?\n",
      "answer: comic book\n",
      "choices: ['comic book', 'out of doors', 'great britain', 'redwall', 'north carolina']\n",
      "common expl list: ['ferrets are lovable pets that occasionally pop up in comic or animated shows and movies. Occasionally a ferret is rodent, but more often they are the companion of a hero.']\n"
     ]
    },
    {
     "name": "stderr",
     "output_type": "stream",
     "text": [
      "\r",
      " 12%|████████████████████▎                                                                                                                                              | 123/986 [30:36<1:50:17,  7.67s/it]"
     ]
    },
    {
     "name": "stdout",
     "output_type": "stream",
     "text": [
      "generated explanation: <pad> <extra_id_0> A ferret with special abilities far beyond normal ferrets can be found in comic books, which often feature characters such as ferrets. These characters can have a wide range of abilities and abilities, which can make them stand out from other ferrets. For example, a ferret with special abilities can be found in a variety of different ways, including gaining strength, agility, and agility. These abilities can also be seen in the comics, which often feature characters such as a wolf, or in their abilities and their ability to their abilities, and their abilities. They can also be a a and feature in the comic book.</s>\n",
      "########\n",
      "*******\n",
      "question: When people have guests over, what do they often do for their guests?\n",
      "answer: cook food\n",
      "choices: ['talk to each other', 'learn from each other', 'demand justice', 'cook food', 'share food']\n",
      "common expl list: [\"It's common to cook food for guests, which can feed everyone.\", \"People often prepare and share food because it's a way to welcome and appreciate each other.\", 'People often cook food for their guests.', \"When people have guests over, it's common for them to make food for their guests.\", \"People who have guests (guests of any kind) over tend to cook them food. The food can either be pre-cooked, and ready to be served upon the guest's arrival, or consumed while the two of them have a conversation.\"]\n"
     ]
    },
    {
     "name": "stderr",
     "output_type": "stream",
     "text": [
      "\r",
      " 13%|████████████████████▍                                                                                                                                              | 124/986 [30:40<1:34:50,  6.60s/it]"
     ]
    },
    {
     "name": "stdout",
     "output_type": "stream",
     "text": [
      "generated explanation: <pad> <extra_id_0> When people have guests over, they often<extra_id_1> When people have guests, they often<extra_id_2> When people have guests over,<extra_id_3> They often cook food for their<extra_id_4> to<extra_id_5> When people have guests over, they often<extra_id_6> When they often<extra_id_7> When they have guests<extra_id_8> When people have guests over, they often<extra_id_9> _e<extra_id_10> : cook food for their guests.<extra_id_9> When people have<extra_id_10> oe over, they often<extra_id_11> prepare food for<extra_id_12>.<extra_id_13> They<extra_id_14> often cook<extra_id_15> prepare food for their guests. They often cook food for their guests, which they then serve them.</s>\n",
      "########\n",
      "*******\n",
      "question: Talking to someone is pointless if they're doing what?\n",
      "answer: not listening\n",
      "choices: ['dry mouth', 'whispering', 'being heard', 'eye contact', 'not listening']\n",
      "common expl list: ['To be engaged in a conversation--particularly a one-on-one conversation, both people must be listening attentively.', 'People who are not listening to you will obviously not be able to understand your communication.']\n"
     ]
    },
    {
     "name": "stderr",
     "output_type": "stream",
     "text": [
      "\r",
      " 13%|████████████████████▋                                                                                                                                              | 125/986 [30:43<1:19:39,  5.55s/it]"
     ]
    },
    {
     "name": "stdout",
     "output_type": "stream",
     "text": [
      "generated explanation: <pad> <extra_id_0> A conversation is pointless if someone is doing something they're not supposed to be doing, such as looking for a job or a job. Not listening is a more general term for a person who is not actively listening to you or speaking to them. It means that they are not paying attention to you or their conversation. Not listening is a more general term that can be used to describe a person who is not actively listening to you or their conversation. It can also be used to describe a person who is not actively</s>\n",
      "########\n",
      "*******\n",
      "question: If you are enjoying sunshine on the beach, what do you likely have views of?\n",
      "answer: sea\n",
      "choices: ['windowsill', 'sunbathers', 'disneyland', 'sea', 'summer']\n",
      "common expl list: [\"The beach is a place where people go to enjoy the sun, and so it's likely that the beach would have views of the sea.\", 'To sunbathe, one would likely be found on a beach, where one would likely see the sea before anything else.', 'Seashores usually have views of the water (i.e., the \"sea\").']\n"
     ]
    },
    {
     "name": "stderr",
     "output_type": "stream",
     "text": [
      "\r",
      " 13%|█████████████████████                                                                                                                                                | 126/986 [30:44<58:39,  4.09s/it]"
     ]
    },
    {
     "name": "stdout",
     "output_type": "stream",
     "text": [
      "generated explanation: <pad> <extra_id_0> The views you have on the beach are likely a reflection of the sea, which is what makes them so popular.</s>\n",
      "########\n",
      "*******\n",
      "question: What does an actor do while acting?\n",
      "answer: pretend\n",
      "choices: ['branch out', 'eat curry', 'wear costume', 'pretend', 'sing songs']\n",
      "common expl list: ['Actors pretend certain things. While acting, they might pretend to be in a different location by going somewhere close to a stage feed. Actors might also pretend to possess particular materials while on stage by carrying props.']\n"
     ]
    },
    {
     "name": "stderr",
     "output_type": "stream",
     "text": [
      "\r",
      " 13%|█████████████████████▎                                                                                                                                               | 127/986 [30:47<54:16,  3.79s/it]"
     ]
    },
    {
     "name": "stdout",
     "output_type": "stream",
     "text": [
      "generated explanation: <pad> <extra_id_0> pretending is a type of physical or mental activity that an actor uses to perform a role. The actor pretends to be someone or a thing, or to be someone else, while he or or she is doing it. This is known as a \"poast\" or \"patern\" or \"a non-living object.\" The pretending is a physical or mental state of being that is simulated or altered in order to create a specific appearance or effect, or to alter a particular situation.</s>\n",
      "########\n",
      "*******\n",
      "question: Where is a ring binder likely to contain budgets?\n",
      "answer: office\n",
      "choices: ['office', 'notebook', 'school', 'stationary shop', 'desk']\n",
      "common expl list: ['An office setting is the most likely place where a manager would keep a collection of budgets.', 'A ring binder is likely to contain budgets in an office, as budgets are often prepared by office workers.']\n"
     ]
    },
    {
     "name": "stderr",
     "output_type": "stream",
     "text": [
      "\r",
      " 13%|█████████████████████▍                                                                                                                                               | 128/986 [30:50<51:32,  3.60s/it]"
     ]
    },
    {
     "name": "stdout",
     "output_type": "stream",
     "text": [
      "generated explanation: <pad> <extra_id_0> A ring binder is a type of ring binder that is used to store budgets. It is used for storing budgets in an organized manner, such as a filing cabinet, a file cabinet, or a desk drawer. It is also a convenient way to store budgets in a single place, which is convenient for carrying them around the office. Also, ring binders are easy to use and can be easily moved around the office. They are also easy to access, and can be easily stored. This is important for budgets.</s>\n",
      "########\n",
      "*******\n",
      "question: Where do you go when you're about to board a vehicle on railing?\n",
      "answer: railway station\n",
      "choices: ['railway station', 'deck', 'flight of stairs', 'porch', 'bus station']\n",
      "common expl list: ['Railway stations are where you board trains, which are often on rails.', 'Trains and busses both commonly make use of rail transportation to facilitate their travel. Railway station is the station they are staking out to board at. Thus, railway station is where you would go if you need to board a vehicle on a']\n"
     ]
    },
    {
     "name": "stderr",
     "output_type": "stream",
     "text": [
      "\r",
      " 13%|█████████████████████▎                                                                                                                                             | 129/986 [31:10<2:03:05,  8.62s/it]"
     ]
    },
    {
     "name": "stdout",
     "output_type": "stream",
     "text": [
      "generated explanation: <pad> <extra_id_0> A railway station is a large, public place where people go to board a train or other vehicle. There are many different types of stations, and each one has its own unique layout and layout that can vary widely. For example, a railway station is a large, public place where people can go to get ready to board a train or other vehicle. It is also a place where people can wait for a train to arrive, which can take several minutes. This is because the station is usually a large, public place where they can be as and the a railway a a railway a railway station, and board a train and can be a train, and is a train to be a a railway a asoa a railway asa train a railway station a railway station, a railway station a a train a railways as a train a train a train a train a a railway aso a train a railway asa train a a a stationa railway a train</s>\n",
      "########\n",
      "*******\n",
      "question: Where can I go to see a really big toy balloon floating at the top of a dome?\n",
      "answer: circus\n",
      "choices: ['parade', 'circus', 'amusement park', 'birthday party', 'magic show']\n",
      "common expl list: ['Circuses often have big inflatables on the top dome of a tent; inside, they could house various attractions such as clowns, acts, games, rides, food, drinks, etc.']\n"
     ]
    },
    {
     "name": "stderr",
     "output_type": "stream",
     "text": [
      "\r",
      " 13%|█████████████████████▍                                                                                                                                             | 130/986 [31:15<1:46:52,  7.49s/it]"
     ]
    },
    {
     "name": "stdout",
     "output_type": "stream",
     "text": [
      "generated explanation: <pad> <extra_id_0> A circus is a large, inflatable, inflatable, and inflatable circus that uses balloons to entertain the crowds and create a circus atmosphere. The circus is a large, inflatable, and colorful event that is a popular place for people to enjoy a show, a show, or other event. The circus is a circus that uses balloons to entertain the public and is a popular venue for shows and events. The circus is a large, colorful, and exciting place for people to enjoy and be entertained by a variety of the toy balloons, and is a large ballooning, and it is as and balloons and is also known as well as as, and toy balloon that is as and for entertainment.</s>\n",
      "########\n",
      "*******\n",
      "question: They got to the door and it was locked, he reached in his jeans what to retrieve the key?\n",
      "answer: pocket\n",
      "choices: ['pocket', 'bus depot', 'lock', 'purse', 'front door']\n",
      "common expl list: ['Most people keep house keys in their pocket.', 'People often keep their keys in their pockets.']\n"
     ]
    },
    {
     "name": "stderr",
     "output_type": "stream",
     "text": [
      "\r",
      " 13%|█████████████████████▋                                                                                                                                             | 131/986 [31:19<1:31:53,  6.45s/it]"
     ]
    },
    {
     "name": "stdout",
     "output_type": "stream",
     "text": [
      "generated explanation: <pad> <extra_id_0> The key was in the pocket of the person who was locking the door. The pocket was a place where a person can easily reach a key and retrieve it. This is because pockets are places where people can store keys and cash. This is because when a person is locked in a room, they can easily reach the key and retrieve it from the pocket. This is because pockets are places where a person can store their keys and cash. These pockets are also places where people can store their keys. This is because a pocket is also known for the key is also known as as pants.</s>\n",
      "########\n",
      "*******\n",
      "question: The car was overheating, where was it located?\n",
      "answer: in phoenix\n",
      "choices: ['airport', \"neighbor's house\", 'in phoenix', 'repair shop', 'street corner']\n",
      "common expl list: ['Phoenix is a hot place, and cars often overheat there.']\n"
     ]
    },
    {
     "name": "stderr",
     "output_type": "stream",
     "text": [
      "\r",
      " 13%|█████████████████████▊                                                                                                                                             | 132/986 [31:27<1:37:31,  6.85s/it]"
     ]
    },
    {
     "name": "stdout",
     "output_type": "stream",
     "text": [
      "generated explanation: <pad> <extra_id_0> The car was overheating, where it was located is a good place to start. The temperature of the area is controlled by a thermostat, which is a very important part of the cooling system. The temperature of the car is controlled by the engine, which is also controlled by a fan. The fan is also controlled by a compressor, which is located in the trunk of the car. This is a very important part of the cooling system, as it can help cool the car down and prevent overheating. The car is also known as it is also causes of overheated, and is also, and the overheating. The car is also causes the car is not a a very likely the overheating, and is a car overheating, which is due to the car, which is also the car overheating and the car over the overheating.</s>\n",
      "########\n",
      "*******\n",
      "question: Where is likely to have a walk in type wardrobe?\n",
      "answer: mansion\n",
      "choices: ['recreational vehicle', 'clothes cupboard', 'house', 'mansion', 'bedroom']\n",
      "common expl list: ['A walk in wardrobe is a large type of closet that could be found in a mansion.', 'A walk-in wardrobe is a large wardrobe that is usually found in a mansion.', 'As I think of scenarios, the result I expect the most is that of a person with a lot of clothes, or a clothing designer, living in a mansion; these people might have the luxury of a walk in wardrobe.']\n"
     ]
    },
    {
     "name": "stderr",
     "output_type": "stream",
     "text": [
      "\r",
      " 13%|█████████████████████▉                                                                                                                                             | 133/986 [32:23<5:06:45, 21.58s/it]"
     ]
    },
    {
     "name": "stdout",
     "output_type": "stream",
     "text": [
      "generated explanation: <pad> <extra_id_0> A walk in type wardrobe is a common type of wardrobe in a mansion or other type of residence that is used for domestic purposes. It is common in mansions, which are typically located in a large room or space that is used for entertaining or for other purposes. A walk in type wardrobe is a type of wardrobe that is used for dressing or storing personal items, such as clothing, or even for storing personal items. A walk in wardrobe is a type of wardrobe that is used for dressing and storing personal items, and its a a a a wardrobe in a mansion or a mansion or apartment or house or house that is as and a a a mansions or a a mansions or house, and is likely to be a mansions or as that is a a mansions a a mansions or a a a asom a mansion, or a wardrobe that is a walk in ad's'sa mansions, a mansions that is a closet, a mansion, or a mansion that is a, a, or a, or a wardrobe that is a, or a, or a mansion, or a mansion, or, or, or a a mansion, or a a, or two, or a, or, or, or a a, or, or a, or a, or a mansion or a, or a a a or a a, or a, or a, or a or a a a or a or a a walk in a a or a a a a or an a a a or a a a or a or a a or a a a a or a a a a or a walk in a a a a a a or a a or a a ora a a a or a a a a man or a a walk in a or a a a a\n",
      "########\n",
      "*******\n",
      "question: How bad is the punishment for someone who is over indulgent?\n",
      "answer: severe\n",
      "choices: ['severe', 'harsh', 'hard', 'strict', 'self denying']\n",
      "common expl list: ['Overindulgence in anything is bad, possibly leading to lethargy, poor health, overspending, and the like. As a result of this, a punishment for a person who is over-indulgent could be severe.']\n"
     ]
    },
    {
     "name": "stderr",
     "output_type": "stream",
     "text": [
      "\r",
      " 14%|██████████████████████▏                                                                                                                                            | 134/986 [32:27<3:51:43, 16.32s/it]"
     ]
    },
    {
     "name": "stdout",
     "output_type": "stream",
     "text": [
      "generated explanation: <pad> <extra_id_0> The punishment for someone who is over indulgent is severe. The punishment for someone who is over indulgent is severe because it is a form of punishment that can be very punishing. The punishment for someone who is over indulgent is often severe. This is because the person who is over indulgent is committing a crime that can be very punishing and can be very difficult to curb. The punishment for over indulgence is often severe because it can be very difficult to control the urge to over indulge and the consequences for over are often have to be considered the punishment for someone who is severe punishment for the punishment for having been punished for having been as for the person who is often comes with the punishments for the punishment for crime.</s>\n",
      "########\n",
      "*******\n",
      "question: She was going to bed at 11 at night, what was she looking to do?\n",
      "answer: falling asleep\n",
      "choices: ['falling asleep', 'relaxing', 'rest', 'dreaming of', 'laziness']\n",
      "common expl list: [\"People go to bed when they're tired and want to sleep\", 'Falling asleep is often a desired result when going to bed.']\n"
     ]
    },
    {
     "name": "stderr",
     "output_type": "stream",
     "text": [
      "\r",
      " 14%|██████████████████████▎                                                                                                                                            | 135/986 [32:30<2:55:34, 12.38s/it]"
     ]
    },
    {
     "name": "stdout",
     "output_type": "stream",
     "text": [
      "generated explanation: <pad> <extra_id_0> A woman who was going to bed at 11 at night was going to be looking to fall asleep. The goal of this process was to fall asleep and fall asleep quickly. This process was referred to as falling asleep, because falling asleep is the process of a person falling asleep, and falling asleep is the state of being in a state of deep relaxation. Sleep is also a sign of relaxation and of relaxation. This state is also referred to as a state of relaxation, and is a state of relaxation, or relaxation. This state is a woman looking to fall asleep</s>\n",
      "########\n",
      "*******\n",
      "question: A company with the moniker of Big Sky Excavation would probably be found where?\n",
      "answer: montana\n",
      "choices: ['a forest', 'city', 'egypt', 'montana', 'desert']\n",
      "common expl list: ['Mountain ranges are often called \"big sky\"s. The term is popular for companies in Montana, a state with lots of mountians, including two major mountain ranges.']\n"
     ]
    },
    {
     "name": "stderr",
     "output_type": "stream",
     "text": [
      "\r",
      " 14%|██████████████████████▍                                                                                                                                            | 136/986 [32:33<2:15:10,  9.54s/it]"
     ]
    },
    {
     "name": "stdout",
     "output_type": "stream",
     "text": [
      "generated explanation: <pad> <extra_id_0> A company with the moniker Big Sky Excavating would probably be found where? Montana is a state located in the western United States, and is a prime location for excavations. The Big Sky Excavation Company is a company that is based in Big Sky, Montana. The company is a small excavation company that is based in the Big Sky region of the state and is based in the Big Sky area. Big Sky Excavation is a small excavation company that is based in the Big Sky area,</s>\n",
      "########\n",
      "*******\n",
      "question: Which horseman of the apocalypse is often depicted next to death?\n",
      "answer: war\n",
      "choices: ['battlefield', 'the healer.', 'funeral', 'war', 'hospital']\n",
      "common expl list: ['A time of war is also often associated with someone dying.']\n"
     ]
    },
    {
     "name": "stderr",
     "output_type": "stream",
     "text": [
      "\r",
      " 14%|██████████████████████▋                                                                                                                                            | 137/986 [32:36<1:47:17,  7.58s/it]"
     ]
    },
    {
     "name": "stdout",
     "output_type": "stream",
     "text": [
      "generated explanation: <pad> <extra_id_0> A horseman of the apocalypse is often depicted as a horseman of the death and a horse of the apocalypse. The horse of the death and apocalypse is a horse that is often portrayed as a horse that is a symbol of the end of the world and of the end of human civilization. The horse represents the end of human existence and is often depicted as a horseman of the end of the world. as.</s>\n",
      "########\n",
      "*******\n",
      "question: What could be used to write with a steel pen?\n",
      "answer: hand\n",
      "choices: ['warehouse', 'arm', 'hand', 'desk drawer', 'veterinary office']\n",
      "common expl list: ['you write with a steel pen using your hand.', 'Using a steel pen requires someone to hold it, and we associate writing with hands. Powder can be used with steel pens as a \"contrast medium.']\n"
     ]
    },
    {
     "name": "stderr",
     "output_type": "stream",
     "text": [
      "\r",
      " 14%|██████████████████████▊                                                                                                                                            | 138/986 [32:39<1:28:05,  6.23s/it]"
     ]
    },
    {
     "name": "stdout",
     "output_type": "stream",
     "text": [
      "generated explanation: <pad> <extra_id_0> A steel pen is a fine, black, metal writing instrument that is typically used in a writing position, such as a hand. It is a sturdy writing instrument that is typically used for writing. It is a standard, black, ballpoint style of pen, and is used for writing with a wide variety of different materials, including wood and metal. A steel pen is typically used for writing with a pencil or a pencil, but can also be used for other writing purposes, such as for example, drawing or painting.</s>\n",
      "########\n",
      "*******\n",
      "question: I needed to find out how to contact a person with a certain name, where should I look?\n",
      "answer: phone book\n",
      "choices: ['directory', 'michigan', 'roster', 'phone book', 'certificate']\n",
      "common expl list: ['People are listed in phone books for easy access by callers.', 'A phone book is likely to have the phone numbers of nearby people.', \"Phone books are used to find people's phone numbers.\", 'Phone books are usually a good source for finding phone numbers to call other people.']\n"
     ]
    },
    {
     "name": "stderr",
     "output_type": "stream",
     "text": [
      "\r",
      " 14%|██████████████████████▉                                                                                                                                            | 139/986 [32:43<1:16:10,  5.40s/it]"
     ]
    },
    {
     "name": "stdout",
     "output_type": "stream",
     "text": [
      "generated explanation: <pad> <extra_id_0> The phone book is a reference book that contains information about the people and businesses that are listed in it. The phone book is a reference book that is used to locate information about people and businesses. The phone book contains information about the phone numbers of individuals and organizations that are listed in it. This can include information about the phone number, address, and the number of the company. The phone book also contains information about the number of the person, and the number of the company. The phone book is a reference book that is used to locate information.</s>\n",
      "########\n",
      "*******\n",
      "question: What is important for a couple to do?\n",
      "answer: communicate\n",
      "choices: ['live together', 'row about', 'plan to marry', 'communicate', 'marry each other']\n",
      "common expl list: [\"To make a relationship work, it's very important to communicate with each other.\", 'Communication is a key part of a healthy relationship and - often equally as important - is the commitment to communicate effectively.', 'Couples who communicate well are more likely to stay together, and thus, it is important for a couple to communicate.']\n"
     ]
    },
    {
     "name": "stderr",
     "output_type": "stream",
     "text": [
      "\r",
      " 14%|███████████████████████▏                                                                                                                                           | 140/986 [32:46<1:06:18,  4.70s/it]"
     ]
    },
    {
     "name": "stdout",
     "output_type": "stream",
     "text": [
      "generated explanation: <pad> <extra_id_0> A couple should communicate with each other. This is because communication is the key to establishing a healthy relationship. Communication is the key to establishing a healthy relationship. Communication is also important for couples to be able to maintain a healthy relationship. Communication is also important for a healthy relationship to develop and maintain. Communication is also important for a healthy relationship to maintain a healthy relationship. Communication is also important for a healthy relationship to develop and maintain a healthy relationship. Communication is important for a healthy relationship to thrive and flourish.</s>\n",
      "########\n",
      "*******\n",
      "question: The botanist knew the plant was living, what did he observe that led him to know that?\n",
      "answer: respiration\n",
      "choices: ['interaction', 'death', 'respiration', 'expiration', 'chlorophyll']\n",
      "common expl list: [\"The teacher commonly noted that plants give off oxygen as a result of respiration, which helps fuel their energy and growth. This was evidence of a plant's life.\"]\n"
     ]
    },
    {
     "name": "stderr",
     "output_type": "stream",
     "text": [
      "\r",
      " 14%|███████████████████████▌                                                                                                                                             | 141/986 [32:49<59:15,  4.21s/it]"
     ]
    },
    {
     "name": "stdout",
     "output_type": "stream",
     "text": [
      "generated explanation: <pad> <extra_id_0> The botanist knew the plant was living, he observed that the plant was breathing, and this led him to know that the plant was breathing. This is because respiration is the process of a plant releasing oxygen into the atmosphere. This is the process by which oxygen is released into the atmosphere. It is this process that allows the plant to breathe. Respiration is the process by which the body produces oxygen and releases oxygen into the atmosphere. It is also the process by which the body produces carbon dioxide. This process is called respiration</s>\n",
      "########\n",
      "*******\n",
      "question: What is it called when teens are together not doing anything in particular?\n",
      "answer: hang out\n",
      "choices: ['smoke', 'homework', 'volunteer', 'party', 'hang out']\n",
      "common expl list: ['Hang out is a term that could be used for teens hanging out together, typically with no particular agenda.', 'Hanging out\" is used to describe events where people are socializing, doing nothing in particular. Other events include hanging out with a purpose (doing homework, studying outside, going shopping, etc.).']\n"
     ]
    },
    {
     "name": "stderr",
     "output_type": "stream",
     "text": [
      "\r",
      " 14%|███████████████████████▊                                                                                                                                             | 142/986 [32:52<57:04,  4.06s/it]"
     ]
    },
    {
     "name": "stdout",
     "output_type": "stream",
     "text": [
      "generated explanation: <pad> <extra_id_0> Hang out is when teens are together not doing anything in particular. It is a time when teens are together not doing anything in particular. This is when teens are together not doing anything in particular. Teens are together not doing anything in particular, and are doing hang out activities, such as watching TV or watching movies, or playing video games or other games. This is when they are together and not doing anything in particular. This is when teens hang out, and are generally not doing anything special. Hang out activities include: watching movies, playing video games, or hanging out, or playing, and are teens.</s>\n",
      "########\n",
      "*******\n",
      "question: The saw was not necessary for car repair, so what wasn't it included with during pucrhase?\n",
      "answer: tool kit\n",
      "choices: ['tool shed', 'tool box', 'tool kit', 'hardware store', 'toolbox']\n",
      "common expl list: ['A saw is another name for a cutting tool, but they are often not included with a tool kit, because a kit is used for other repair needs (bolts, screws, bindings, etc.), and a saw is not required for a car repair']\n"
     ]
    },
    {
     "name": "stderr",
     "output_type": "stream",
     "text": [
      "\r",
      " 15%|███████████████████████▉                                                                                                                                             | 143/986 [32:57<57:50,  4.12s/it]"
     ]
    },
    {
     "name": "stdout",
     "output_type": "stream",
     "text": [
      "generated explanation: <pad> <extra_id_0> During the course of the course, the saw was not included in the tool kit, which was the car repair tool. This was due to the fact that the saw was not necessary for the car repair, and because of the limited use of the saw, the saw was not included in the tool kit. This is because the saw is not a tool that is commonly used in the automotive industry, and therefore, is not included in the tool kit as it is not a tool that is used for routine maintenance, such as cleaning, or maintenance, and the car repair, and the car repair, and is not included in the car repair, and the car repair, and therefore, the car repair. a car.</s>\n",
      "########\n",
      "*******\n",
      "question: Where will my kid put their coin in their room?\n",
      "answer: piggy bank\n",
      "choices: ['piggy bank', 'wishing well', 'parking meter', 'under pillow', 'change purse']\n",
      "common expl list: ['Kids commonly save small amounts of money for later use, and these savings are often kept in piggy banks.', 'Piggy banks are often used to store coins.']\n"
     ]
    },
    {
     "name": "stderr",
     "output_type": "stream",
     "text": [
      "\r",
      " 15%|████████████████████████                                                                                                                                             | 144/986 [33:00<53:17,  3.80s/it]"
     ]
    },
    {
     "name": "stdout",
     "output_type": "stream",
     "text": [
      "generated explanation: <pad> <extra_id_0> A coin bank is a small, plastic coin box that stores coins and coins in. The pocket money inside the pocket is used to deposit coins and change into the bank. The coin is then used to buy items for the bank, such as books, toys, or other accessories. The coin is then placed in the pocket and the coin is then placed in the bank. The coin is then placed in the pocket of the bank and the coins are then placed in the pocket. The pocket is then sealed with a coin and placed in a plastic bag.</s>\n",
      "########\n",
      "*******\n",
      "question: Where is a fire extinguisher likely to be found behind the seat?\n",
      "answer: school bus\n",
      "choices: ['school bus', 'house', 'garden', 'stairwell', 'garage']\n",
      "common expl list: ['Fire extinguishers are required on public-transit vehicles, such as school buses.']\n"
     ]
    },
    {
     "name": "stderr",
     "output_type": "stream",
     "text": [
      "\r",
      " 15%|████████████████████████▎                                                                                                                                            | 145/986 [33:04<53:45,  3.84s/it]"
     ]
    },
    {
     "name": "stdout",
     "output_type": "stream",
     "text": [
      "generated explanation: <pad> <extra_id_0> A fire extinguisher is likely to be found behind the seat on a school bus. It is not likely to be located in the back of the seat. Rather, it is likely to be located in the front of the seat. This is because a school bus is a large, public transportation system. It is common for a fire extinguisher to be located behind the seat. This is because school buses are often crowded and can be a fire hazard. This is because a fire exting the school bus is often have been a a a fire. a fire.</s>\n",
      "########\n",
      "*******\n",
      "question: His therapist said he had to get out there and begin socialising, it was the only was to start what?\n",
      "answer: friendships\n",
      "choices: ['conflicts', 'having fun', 'jealousy', 'getting out there', 'friendships']\n",
      "common expl list: ['His therapist said that he needed to speak to people if he wanted to be less withdrawn. This would help him to get out of his shell.', 'Interacting with other people socially is likely to result in making new friends.']\n"
     ]
    },
    {
     "name": "stderr",
     "output_type": "stream",
     "text": [
      "\r",
      " 15%|████████████████████████▍                                                                                                                                            | 146/986 [33:06<48:02,  3.43s/it]"
     ]
    },
    {
     "name": "stdout",
     "output_type": "stream",
     "text": [
      "generated explanation: <pad> <extra_id_0> The therapist said that he had to get out there and start socialising, it was the only way to start building new relationships. The therapist also said that he needed to build new ones and develop new skills and experiences. This was because he was struggling with his own social skills and confidence. The therapist also said that he needed to develop new skills and develop new skills in order to become a successful person.</s>\n",
      "########\n",
      "*******\n",
      "question: What is likely true about a dog that escapes regularly?\n",
      "answer: very smart\n",
      "choices: ['very smart', 'very loyal', 'tired', 'friendly', 'faithful']\n",
      "common expl list: ['Intelligent dogs (especially when concerned with food and treats) who are looking for some form of freedom will have the intelligence to escape regularly.']\n"
     ]
    },
    {
     "name": "stderr",
     "output_type": "stream",
     "text": [
      "\r",
      " 15%|████████████████████████▌                                                                                                                                            | 147/986 [33:09<47:44,  3.41s/it]"
     ]
    },
    {
     "name": "stdout",
     "output_type": "stream",
     "text": [
      "generated explanation: <pad> <extra_id_0> A dog that escapes regularly is likely very smart and will often be able to figure out how to get back to their owner quickly. This behavior is also likely to be the case with a dog that is prone to escape frequently. A dog that is prone to escape regularly is likely to be very smart and will likely be able to figure out how to get back to his owner quickly. This behavior is likely due to the fact that it is a very intelligent dog that is able to sense danger and avoid detection. This behavior is likely has been a dog is likely to escapers.</s>\n",
      "########\n",
      "*******\n",
      "question: If you're going to a party in an alley, what is likely to happen?\n",
      "answer: doing drugs\n",
      "choices: ['call the police', 'doing drugs', 'new contacts', 'making new friends', 'plan']\n",
      "common expl list: ['People going to parties in an alley are often going to do drugs and vice.', 'Alleys are associated with crime; and, people performing illegal drugs at a party is illegal.', 'People often do drugs at parties, and alleys are often used for parties.']\n"
     ]
    },
    {
     "name": "stderr",
     "output_type": "stream",
     "text": [
      "\r",
      " 15%|████████████████████████▊                                                                                                                                            | 148/986 [33:13<47:13,  3.38s/it]"
     ]
    },
    {
     "name": "stdout",
     "output_type": "stream",
     "text": [
      "generated explanation: <pad> <extra_id_0> A party in an alley is a place where people go to party and get drunk or high. This is because the alley is a place where people can go to get drunk and get high. This is because people will likely be drinking and doing drugs at the same time. Also, the alley is a place where people go to get drunk and get into trouble. Also, it is a place where alcohol is often sold and consumed. Also, the alley is a place where people can meet and socialize with others, and party.</s>\n",
      "########\n",
      "*******\n",
      "question: The man was very tired and sore, he decided to stay in bed to what?\n",
      "answer: rest more\n",
      "choices: ['rest more', 'lazy', 'were sick', 'to be sick', \"you're sick\"]\n",
      "common expl list: ['The man was so tired and sore, he just wanted a break. His illness would keep him in bed.', \"When people are sick, they tend to rest, as it's the most sensible thing.\", 'The man was tired and sore, so he decided to rest more.']\n"
     ]
    },
    {
     "name": "stderr",
     "output_type": "stream",
     "text": [
      "\r",
      " 15%|████████████████████████▉                                                                                                                                            | 149/986 [33:16<47:37,  3.41s/it]"
     ]
    },
    {
     "name": "stdout",
     "output_type": "stream",
     "text": [
      "generated explanation: <pad> <extra_id_0> The man was very tired and sore, he decided to stay in bed to rest more. He was tired and sore, he was tired and he was tired. He was tired and sore, and he was tired. To rest more, he decided to stay in bed. To rest more, he decided to rest in bed. To rest more, he decided to lie in bed and rest. This was because he was tired and sore, and he was tired and sore. To rest more, the man was tired and sore, and to relax.</s>\n",
      "########\n",
      "*******\n",
      "question: He was back in his hometown, he was planning on having fun and doing what?\n",
      "answer: visiting friends\n",
      "choices: ['being understood', 'hug', 'rambling', 'kiss', 'visiting friends']\n",
      "common expl list: ['People usually visit their friends when they return to a town where they previously used to live, because their friends would have missed them.', 'If a person is back in their hometown, they might visit their friends, who they might not see very often.', 'If a person went back to their hometown, they might be glad to see their old friends, and visit them while they are there.']\n"
     ]
    },
    {
     "name": "stderr",
     "output_type": "stream",
     "text": [
      "\r",
      " 15%|█████████████████████████                                                                                                                                            | 150/986 [33:18<42:08,  3.02s/it]"
     ]
    },
    {
     "name": "stdout",
     "output_type": "stream",
     "text": [
      "generated explanation: <pad> <extra_id_0> He was planning on having fun in his hometown, he was planning on visiting friends. He was planning on having fun in his hometown, he was planning on having fun with his friends. He was planning on having fun with his friends and enjoying the time with them. He was planning on having fun with them. He was planning on having fun. He was planning on having fun.</s>\n",
      "########\n",
      "*******\n",
      "question: Where is basketball court likely to be outdoors?\n",
      "answer: city\n",
      "choices: ['high school gymnasium', 'city', 'park', 'use', 'los angeles']\n",
      "common expl list: ['Basketball courts are likely to be at parks and recreational centers in cities.', 'Basketball courts are often found in city parks.', 'Most American cities have basketball courts in public parks.', 'Basketball courts are often urban.']\n"
     ]
    },
    {
     "name": "stderr",
     "output_type": "stream",
     "text": [
      "\r",
      " 15%|█████████████████████████▎                                                                                                                                           | 151/986 [33:22<44:28,  3.20s/it]"
     ]
    },
    {
     "name": "stdout",
     "output_type": "stream",
     "text": [
      "generated explanation: <pad> <extra_id_0> Basketball courts are typically located in a city’s parks and recreation department, which is responsible for ensuring that the court is safe and accessible for the public. This is because the court is typically located in an area where there is a high risk of damage from rain or other factors that could lead to a wet environment, which could make it difficult to maintain the court and its surrounding area. This is because the court is typically located in a city’s sports facilities, which are typically located in public areas, such as the gym or other basketball courts are often have been in the city.</s>\n",
      "########\n",
      "*******\n",
      "question: When you want to get the skin off of an apple, you do what to it?\n",
      "answer: peel\n",
      "choices: ['seeds inside', 'stems', 'peel', 'grocery store', 'green market']\n",
      "common expl list: ['Skin is something you peel from fruits like apples, peaches, oranges, kiwi, etc...', 'Apples have a skin that can be peeled off.']\n"
     ]
    },
    {
     "name": "stderr",
     "output_type": "stream",
     "text": [
      "\r",
      " 15%|█████████████████████████▍                                                                                                                                           | 152/986 [33:26<48:12,  3.47s/it]"
     ]
    },
    {
     "name": "stdout",
     "output_type": "stream",
     "text": [
      "generated explanation: <pad> <extra_id_0> Peeling is the process of removing the outer layer of skin from an apple. The peel is a thin, transparent layer of skin that is glued to the surface of the apple. It is used to remove the outer layer of the skin, which is called the \"skin.\" The skin is then removed by removing the outer layer of the skin, which is called the \"peel\" or \"peeled\" and is a simple, yet effective, process that can be repeated or repeated to remove the skin. The skin removal of apple skin is also a skin is used to removes and a tree, and then, orchart</s>\n",
      "########\n",
      "*******\n",
      "question: Where could you put some knives if you are planning to bring them outside with you?\n",
      "answer: backpack\n",
      "choices: ['purse', 'backpack', 'drawer', 'sporting goods store', 'kitchen']\n",
      "common expl list: [\"Knives are usually brought along if hiking, camping, fishing, or other outings, and backpacks make it easy to transport one's belongings.\", \"To carry knives on one's person, you need some small type of container to hold the knives. Perhaps the most likely place to carry a small container is a backpack.\"]\n"
     ]
    },
    {
     "name": "stderr",
     "output_type": "stream",
     "text": [
      "\r",
      " 16%|█████████████████████████▌                                                                                                                                           | 153/986 [33:30<48:17,  3.48s/it]"
     ]
    },
    {
     "name": "stdout",
     "output_type": "stream",
     "text": [
      "generated explanation: <pad> <extra_id_0> A backpack is a small, secure container that you can put a knife in to carry it with you when you are out and about. The backpack is a convenient and convenient way to carry around a backpack and keep your knives safe. A backpack is a small, secure container that can be used to carry a backpack or other items, such as tools, such as knives, and can be used to carry around your belongings, such as clothes, books, or other personal items, such as keys, cash, or cash. A knife or other bag, but the a knifes, you can be a backpack</s>\n",
      "########\n",
      "*******\n",
      "question: John watches the well dressed people from a catwalk above the stage.  He listens to them speak rehearsed lines while the audience listens.  Where is he/\n",
      "answer: theatre\n",
      "choices: ['theatre', 'new york city', 'fashion show', 'construction site', 'school play']\n",
      "common expl list: ['Theatres have catwalks where people might observe and listen to actors.']\n"
     ]
    },
    {
     "name": "stderr",
     "output_type": "stream",
     "text": [
      "\r",
      " 16%|█████████████████████████▊                                                                                                                                           | 154/986 [33:33<47:23,  3.42s/it]"
     ]
    },
    {
     "name": "stdout",
     "output_type": "stream",
     "text": [
      "generated explanation: <pad> <extra_id_0> John is a stage manager who watches actors perform on stage. He is a theatre manager who manages a team of actors and technicians who are on a regular basis. He is also a theatre manager who is responsible for the production of the show. John is responsible for the production of the show and is also responsible for the production of the show. He is also responsible for the production of the audience and for the production of the script. John is a theatre manager, and as such, is responsible for the safety and security of the theatre. The show.</s>\n",
      "########\n",
      "*******\n",
      "question: If I am creating art and have completed it to satisfaction, what is my feeling?\n",
      "answer: enlightenment\n",
      "choices: ['enlightenment', 'tired', 'frustration', 'relax', 'controversy']\n",
      "common expl list: ['Enlightenment is the label for a moment of clarity, and the word is often applied to artists who have created something unique or daring.']\n"
     ]
    },
    {
     "name": "stderr",
     "output_type": "stream",
     "text": [
      "\r",
      " 16%|█████████████████████████▉                                                                                                                                           | 155/986 [33:37<49:17,  3.56s/it]"
     ]
    },
    {
     "name": "stdout",
     "output_type": "stream",
     "text": [
      "generated explanation: <pad> <extra_id_0> If I am creating art and have completed it and have completed it, what is my feeling of satisfaction? Is it a feeling of satisfaction or accomplishment? Or is it a feeling of accomplishment? A feeling of satisfaction is a feeling of satisfaction that comes from having completed something or having completed something that you enjoy. It is a feeling of satisfaction that comes with creating art. This feeling is a result of the satisfaction that comes from creating something that you are satisfied with. This is a feeling of satisfaction that comes from being able to creates and satisfaction, because it is an art, creating, and satisfaction. The satisfaction is also provides you can be satisfied, or satisfaction, or satisfaction. The satisfaction.</s>\n",
      "########\n",
      "*******\n",
      "question: He was serious and pragmatic, so why did he drive his car?\n",
      "answer: transportation\n",
      "choices: ['transportation', 'car crash', 'death', 'sleepy', 'stress']\n",
      "common expl list: ['Because driving is the most practical mode of transportation judging by the time and distance required to do so.', 'People often drive cars to get from one place to another.']\n"
     ]
    },
    {
     "name": "stderr",
     "output_type": "stream",
     "text": [
      "\r",
      " 16%|██████████████████████████                                                                                                                                           | 156/986 [33:38<38:11,  2.76s/it]"
     ]
    },
    {
     "name": "stdout",
     "output_type": "stream",
     "text": [
      "generated explanation: <pad> <extra_id_0> He was serious and pragmatic, so why did he drive his car? Because he was serious and pragmatic, so why did he drive his car?</s>\n",
      "########\n",
      "*******\n",
      "question: What does god want people to do for money?\n",
      "answer: work in life\n",
      "choices: ['work in life', 'speak to people', 'everywhere', 'sitting ideal', 'care for people']\n",
      "common expl list: ['The scriptures explain that people should acquire money by providing good products or services, e.g., to bring value to other people and make a living.']\n"
     ]
    },
    {
     "name": "stderr",
     "output_type": "stream",
     "text": [
      "\r",
      " 16%|██████████████████████████▎                                                                                                                                          | 157/986 [33:41<40:28,  2.93s/it]"
     ]
    },
    {
     "name": "stdout",
     "output_type": "stream",
     "text": [
      "generated explanation: <pad> <extra_id_0> : work in life is the main source of income for most people. It is the main source of income for most people. It is the main source of income for most people. It is also the main source of income for many people. Work is the main source of income for most people. It is the main source of income for most people. It is also the main source of income for most people. Work is the main source of income for most people. It is also the main source of income for many people. This can be achieved through employment or the world.</s>\n",
      "########\n",
      "*******\n",
      "question: What can happen after doing housework that does not involve pain?\n",
      "answer: become tired\n",
      "choices: ['become tired', 'stress', 'put on shoes', 'backache', 'low pay']\n",
      "common expl list: ['Housework can be tiring, and so, after doing it, one might become tired.', 'Doing housework is likely to tire someone out. Being tired increases the likelihood of restlessness and uneasiness.', 'Raking, sweeping, and dusting are common forms of housework. After all the physical labor of these activities, someone \\xa0might become tired and take time off from housework chores, but not have een doing any housework tasks that']\n"
     ]
    },
    {
     "name": "stderr",
     "output_type": "stream",
     "text": [
      "\r",
      " 16%|██████████████████████████▍                                                                                                                                          | 158/986 [33:45<44:29,  3.22s/it]"
     ]
    },
    {
     "name": "stdout",
     "output_type": "stream",
     "text": [
      "generated explanation: <pad> <extra_id_0> a person who is doing housework that does not involve pain can become tired after doing the work. This can cause them to become tired and to feel a lack of focus and concentration. This can also lead to them becoming less productive, which can lead to them becoming more easily distracted and irritated. This can lead to them becoming more easily irritated and irritable. This can also lead to them becoming sleepy. Finally, being tired can also lead to them becoming more irritable and to feeling tired. This can also be a pain and pain, which can cause, and even though it can cause of the tasks that involve pain and stress and to become a.</s>\n",
      "########\n",
      "*******\n",
      "question: James sat in a chair and listened to the speaker.  Where might James be?\n",
      "answer: auditorium\n",
      "choices: ['synagogue', 'grocery store', 'auditorium', 'confession', 'office']\n",
      "common expl list: ['James was likely in an auditorium, because he was listening to a speaker.']\n"
     ]
    },
    {
     "name": "stderr",
     "output_type": "stream",
     "text": [
      "\r",
      " 16%|██████████████████████████▌                                                                                                                                          | 159/986 [33:48<44:42,  3.24s/it]"
     ]
    },
    {
     "name": "stdout",
     "output_type": "stream",
     "text": [
      "generated explanation: <pad> <extra_id_0> James sat in a chair and listened to the speaker. This is an auditorium, which is a large room with many windows and doors that allow for easy access to the outside world. The auditorium is a place where people gather to listen to the speakers and hear their own stories. The auditorium is also often used for listening to the music, which is a place where people gather to listen to the speaker. The auditorium is a place where people gather to listen to the speakers and hear their own stories. The speaker is often a chair.</s>\n",
      "########\n",
      "*******\n",
      "question: John thought that Mary was beautiful despite her injury.  But Mary believed that she was what?\n",
      "answer: misshapen\n",
      "choices: ['wrong', 'overcast', 'homely', 'bad', 'misshapen']\n",
      "common expl list: [\"If Mary believes she doesn't look normal, but someone else thinks she is beautiful, perhaps she could feel like her form is misshapen.\"]\n"
     ]
    },
    {
     "name": "stderr",
     "output_type": "stream",
     "text": [
      "\r",
      " 16%|██████████████████████████▊                                                                                                                                          | 160/986 [33:51<43:23,  3.15s/it]"
     ]
    },
    {
     "name": "stdout",
     "output_type": "stream",
     "text": [
      "generated explanation: <pad> <extra_id_0> Mary believed that she was beautiful despite her injury. Mary believed that she was beautiful despite her injury. Mary believed that she was beautiful despite her injury. Mary believed that she was beautiful despite her injury. Mary believed that she was beautiful because she was beautiful. Mary believed that she was beautiful because she was beautiful because she was beautiful because she was beautiful. Mary believed that she was beautiful because she was beautiful because she was beautiful because she was beautiful. Mary believed that she was beautiful because she was beautiful because she was beautiful because she was beautiful.</s>\n",
      "########\n",
      "*******\n",
      "question: Where does my body go after I am no longer living?\n",
      "answer: graveyard\n",
      "choices: ['zombie', 'bodycam', 'coffin', 'graveyard', 'funeral']\n",
      "common expl list: ['When one dies, their body is buried in a graveyard.', 'When a person dies, it is common to bury their bodies in locations called graveyards.', 'Corpses are buried in graveyards.']\n"
     ]
    },
    {
     "name": "stderr",
     "output_type": "stream",
     "text": [
      "\r",
      " 16%|██████████████████████████▉                                                                                                                                          | 161/986 [33:52<32:04,  2.33s/it]"
     ]
    },
    {
     "name": "stdout",
     "output_type": "stream",
     "text": [
      "generated explanation: <pad> <extra_id_0> My body goes to a graveyard after I no longer live.</s>\n",
      "########\n",
      "*******\n",
      "question: Where can you find a bar before traveling a long distance?\n",
      "answer: airport\n",
      "choices: ['las vegas', 'public house', 'airport', 'restaurant', 'michigan']\n",
      "common expl list: ['Bars are often located in airports, and so if a person was traveling a long distance, they might stop at an airport bar.']\n"
     ]
    },
    {
     "name": "stderr",
     "output_type": "stream",
     "text": [
      "\r",
      " 16%|███████████████████████████                                                                                                                                          | 162/986 [33:55<35:03,  2.55s/it]"
     ]
    },
    {
     "name": "stdout",
     "output_type": "stream",
     "text": [
      "generated explanation: <pad> <extra_id_0> An airport is a place where you can find a bar before traveling a long distance. The airport is a place where you can find a bar before traveling a long distance. The airport is a place where you can find a bar that can provide a quick and convenient way to meet up with other travelers and enjoy a drink before you depart. This location is often called an airport bar because it is located at the airport and is where you will find a variety of bars and restaurants that are located within the terminal building.</s>\n",
      "########\n",
      "*******\n",
      "question: Where might a small ball be bounced from?\n",
      "answer: child's hand\n",
      "choices: ['soccer game', 'street', 'toy store', \"child's hand\", 'on the sidewalk']\n",
      "common expl list: ['Since children enjoy bouncing balls, and they are also relatively small, they would bounce a ball from their hand.', 'A ball much like a toy, and kids often play with them on the streets and sidewalks.']\n"
     ]
    },
    {
     "name": "stderr",
     "output_type": "stream",
     "text": [
      "\r",
      " 17%|██████████████████████████▉                                                                                                                                        | 163/986 [34:13<1:41:24,  7.39s/it]"
     ]
    },
    {
     "name": "stdout",
     "output_type": "stream",
     "text": [
      "generated explanation: <pad> <extra_id_0> A small ball is a small object that can be thrown around by a child to create a small, stable, and stable object. The small ball is called a small ball and is used to bounce a small, stable object, such as a ball or small object, into the air. The small ball is then tossed into the air, which is where the ball is landed, and is then returned to the child's hand. This is because the ball is in the child's hand, which is where it is a small ball is a small, and is often used to creates and is used to get a small, and is used to get into the ball is often times, and often used to get it is used to creates and is often used to get a small ball bounced ball, or a small ball, and<extra_id_26> a small ball, or a small ball is a ball is often used to creates, and is a small ball is a small, and the child's's's's's's hand or, a small ball is either a small, or its, or an a small, or is often times, and is a small, and is oftentimes, the small ball, or its, and is oftentimesa small, or, or<extra_id_19>, and is often times, and is often times, or, or, the ball, or is, which is, or, or is often times,<extra_id_27>,</s>\n",
      "########\n",
      "*******\n",
      "question: Where do families begin?\n",
      "answer: wedding\n",
      "choices: ['wedding', 'around dinner table', 'supermarket', 'dinner together', 'park']\n",
      "common expl list: ['A wedding is a ceremony in which two people get married, and thus a wedding is where a family begins.']\n"
     ]
    },
    {
     "name": "stderr",
     "output_type": "stream",
     "text": [
      "\r",
      " 17%|███████████████████████████                                                                                                                                        | 164/986 [34:16<1:22:45,  6.04s/it]"
     ]
    },
    {
     "name": "stdout",
     "output_type": "stream",
     "text": [
      "generated explanation: <pad> <extra_id_0> The beginning of a family is usually a time when a couple has a wedding or a birth or death of a child. This can be a time when a family begins to form and when a person reaches a certain age, such as a birth or death. This can also be a time when a person begins to build a family. This can be a time of birth or death, or a time when a person begins to form a family.</s>\n",
      "########\n",
      "*******\n",
      "question: He enjoyed reading newspaper, he consider what a subscription?\n",
      "answer: buying\n",
      "choices: ['gifting', 'buying', 'money', 'literacy', 'knowing how to read']\n",
      "common expl list: ['Buying a subscription to a newspaper is a way to get the newspaper delivered to your home.']\n"
     ]
    },
    {
     "name": "stderr",
     "output_type": "stream",
     "text": [
      "\r",
      " 17%|███████████████████████████▎                                                                                                                                       | 165/986 [34:23<1:24:59,  6.21s/it]"
     ]
    },
    {
     "name": "stdout",
     "output_type": "stream",
     "text": [
      "generated explanation: <pad> <extra_id_0> Subscription is a subscription to a newspaper that you subscribe to. The subscription is a way of paying for the newspaper each month, and allows you to subscribe to a specific newspaper or magazine. Subscriptions are a convenient way to pay for the newspaper or magazine that you subscribe to. Buying a subscription allows you to pay for the newspaper each month, and allows you to keep track of the news you subscribe to, which means you can access it whenever you want, and at any time. Subscriptions are a good for the newspaper</s>\n",
      "########\n",
      "*******\n",
      "question: What does an animal do when it becomes old?\n",
      "answer: feel pain\n",
      "choices: ['live long', 'leave home', 'feel pain', 'eating', 'sense fear in human']\n",
      "common expl list: ['Ageing animals may have chronic pain as part of the body losing function as it ages.']\n"
     ]
    },
    {
     "name": "stderr",
     "output_type": "stream",
     "text": [
      "\r",
      " 17%|███████████████████████████▍                                                                                                                                       | 166/986 [34:24<1:03:50,  4.67s/it]"
     ]
    },
    {
     "name": "stdout",
     "output_type": "stream",
     "text": [
      "generated explanation: <pad> <extra_id_0> An animal feels pain when it becomes old. This is because it feels pain when it becomes old. This is because it is a common way of expressing the pain that an animal feels.</s>\n",
      "########\n",
      "*******\n",
      "question: What entity would have a fire extinguisher in their boardroom?\n",
      "answer: most businesses\n",
      "choices: ['boat', 'apartment', 'public building', 'most businesses', 'chemistry lab']\n",
      "common expl list: ['Most businesses would have a fire extinguisher in their boardroom, because they are likely to have a fire in their boardroom.']\n"
     ]
    },
    {
     "name": "stderr",
     "output_type": "stream",
     "text": [
      "\r",
      " 17%|███████████████████████████▉                                                                                                                                         | 167/986 [34:27<59:09,  4.33s/it]"
     ]
    },
    {
     "name": "stdout",
     "output_type": "stream",
     "text": [
      "generated explanation: <pad> <extra_id_0> A fire extinguisher is a fire extinguisher is a fire extinguisher that is used in a business's boardroom to extinguish fires. It is a standard practice for businesses to have a fire extinguisher in their boardroom, which is a common practice in most business settings. The extinguisher is a safety device that is used in the event of a fire, such as in the event of a fire. The extinctive the es. The fire extingues.</s>\n",
      "########\n",
      "*******\n",
      "question: Where can someone go and buy cheese?\n",
      "answer: market\n",
      "choices: ['pizza', 'bar', 'fridge', 'market', 'refrigerator']\n",
      "common expl list: ['Cheese is a dairy product and can be purchased at markets, for the most part.', 'Cheese is sold at markets.']\n"
     ]
    },
    {
     "name": "stderr",
     "output_type": "stream",
     "text": [
      "\r",
      " 17%|████████████████████████████                                                                                                                                         | 168/986 [34:31<54:20,  3.99s/it]"
     ]
    },
    {
     "name": "stdout",
     "output_type": "stream",
     "text": [
      "generated explanation: <pad> <extra_id_0> The market is a place where people can go and buy cheese. It is a place where people can go and buy cheese. It is also a place where people can buy food and drink. The market is a place where people can go and buy food and drink. It is also a place where people can go and buy things like wine and beer. The market is a place where people can go to buy food and drink. It is a place where people can go and buy things. It is a place where people can be a cheeses cheese.</s>\n",
      "########\n",
      "*******\n",
      "question: Where would you carry food while on a long walk in the countryside?\n",
      "answer: backpack\n",
      "choices: ['backpack', 'table', 'jar', 'box', 'container']\n",
      "common expl list: [\"Because backpacks are designed to be carried on one's back, they are the most convenient way to carry food while on a long walk.\", 'Instead of carrying a jar or container, filling your backpack with food might not disrupt your movements as much when you are walking.']\n"
     ]
    },
    {
     "name": "stderr",
     "output_type": "stream",
     "text": [
      "\r",
      " 17%|████████████████████████████▎                                                                                                                                        | 169/986 [34:35<54:47,  4.02s/it]"
     ]
    },
    {
     "name": "stdout",
     "output_type": "stream",
     "text": [
      "generated explanation: <pad> <extra_id_0> A backpack is a lightweight, carry-all type of backpack that is designed to be used while on a long, long walk. It is designed to be durable and lightweight, and can be used to carry a variety of items, including a backpack, a lunch box, and other items. It also provides a convenient way to carry valuables and other items, such as tools and supplies, on long walks. A backpack is also an ideal way to carry small items, such as water or snacks, and to carry a large, a backpack is also for backpack is a backpack, and as to carry backpack, and to carry on long- to carry ad</s>\n",
      "########\n",
      "*******\n",
      "question: What could a driver do that could distract him or her while he or she is in a driving car?\n",
      "answer: smoke\n",
      "choices: ['use mobile phone', 'car crash', 'smoke', 'backache', 'automobile accidents']\n",
      "common expl list: ['It can be tricky to smoke and concentrate on driving at the same time, and research has found that smoking in a car with children present is very dangerous.', 'Smoking is a common activity that people do while driving, and it could distract them from driving.']\n"
     ]
    },
    {
     "name": "stderr",
     "output_type": "stream",
     "text": [
      "\r",
      " 17%|████████████████████████████                                                                                                                                       | 170/986 [34:47<1:27:03,  6.40s/it]"
     ]
    },
    {
     "name": "stdout",
     "output_type": "stream",
     "text": [
      "generated explanation: <pad> <extra_id_0> A driver could do something that could distract him or her while he or she is driving a car. This could be anything from a light to a loud<extra_id_2> A driver could<extra_id_3> A driver could<extra_id_4> A driver could<extra_id_5> A driver could<extra_id_6> A driver could<extra_id_7> A driver could<extra_id_8> A driver could<extra_id_9> distracted by smoke<extra_id_10> distract<extra_id_11>.<extra_id_12> distraction<extra_id_13> The activity could also distract<extra_id_14> a driver<extra_id_15> A driver could<extra_id_16> distractions include: a<extra_id_17> or<extra_id_18>.<extra_id_19> a driver could<extra_id_20> a distraction from the vehicle, such as it could be distracted</s>\n",
      "########\n",
      "*******\n",
      "question: The fat man wanted to make a change in his life and make sure it stayed what?\n",
      "answer: permanent\n",
      "choices: ['concretely', 'permanent', 'remain stable', 'stagnant', 'constant']\n",
      "common expl list: ['His making a decision to change and ensuring the decision is made permanent indicates a desire for a stable, permanent life, which does not change.', 'In changing his life, he wants to make sure he remains in the new lifestyle choices, e.g., not become stagnant to bad choices and fall back into bad choices.']\n"
     ]
    },
    {
     "name": "stderr",
     "output_type": "stream",
     "text": [
      "\r",
      " 17%|████████████████████████████▎                                                                                                                                      | 171/986 [34:50<1:13:14,  5.39s/it]"
     ]
    },
    {
     "name": "stdout",
     "output_type": "stream",
     "text": [
      "generated explanation: <pad> <extra_id_0> The fat man wanted to make sure his life stayed the same or stayed the same by making a permanent change in his life. This is because he wanted to make sure his life stayed the same or stayed the same. This is because permanent changes are permanent and permanent changes are permanent changes that are permanent changes that are permanent and permanent changes that are permanent and permanent are permanent changes that are permanent and permanent changes are permanent changes are permanent changes that are permanent and permanent because permanent changes are permanent and permanent changes are permanent changes that are permanent and permanent.</s>\n",
      "########\n",
      "*******\n",
      "question: where did many colonial kingdoms originate?\n",
      "answer: europe\n",
      "choices: ['saudi arabia', 'europe', 'united states', 'book', 'monarchy']\n",
      "common expl list: ['Many colonial kingdoms in the past can be traced all the way back to their roots in Europe.', 'Colonies and kingdoms often originate in the mother countries of the colonial or kingdom builders, e.g., entities in the United Kingdom and the Netherlands.']\n"
     ]
    },
    {
     "name": "stderr",
     "output_type": "stream",
     "text": [
      "\r",
      " 17%|████████████████████████████▍                                                                                                                                      | 172/986 [34:53<1:06:30,  4.90s/it]"
     ]
    },
    {
     "name": "stdout",
     "output_type": "stream",
     "text": [
      "generated explanation: <pad> <extra_id_0> : The colonial empires of Europe originated in the Orient, and the colonial empires of Europe spread across the continent, establishing colonies and establishing a network of colonies. These colonies were a result of the influx of people from the Orient to the continent, which in turn led to the formation of a network of colonies that would eventually lead to the formation of modern European colonies. This network of colonies and colonies is a unique and important source of information for the development of new nations. It is also important to the colonization of the colonization of Europe, and the colonies, and the colonies were founded in the colonies in the continent.</s>\n",
      "########\n",
      "*******\n",
      "question: Where can a television be stored and hidden?\n",
      "answer: cabinet\n",
      "choices: ['apartment', 'living room', 'bedroom', 'kitchen', 'cabinet']\n",
      "common expl list: ['A television can be stored inside a cabinet.', 'A cabinet is a piece of furniture that is used to store items, and televisions are large, and thus, can be stored in cabinets.']\n"
     ]
    },
    {
     "name": "stderr",
     "output_type": "stream",
     "text": [
      "\r",
      " 18%|████████████████████████████▉                                                                                                                                        | 173/986 [34:57<59:48,  4.41s/it]"
     ]
    },
    {
     "name": "stdout",
     "output_type": "stream",
     "text": [
      "generated explanation: <pad> <extra_id_0> A television is a large piece of equipment that can be stored in a cabinet. The cabinet is a place where the television is stored and hidden, and it is often a cabinet that is used for storage. The cabinet is a place where the television is placed, and it is used for storing and displaying television programs. The cabinet is a place where the television is stored and hidden, and it is also a place where the remote control is positioned. The remote control is a small device that can be placed on es and other items.</s>\n",
      "########\n",
      "*******\n",
      "question: what can get a prisoner in more trouble?\n",
      "answer: attempt to escape\n",
      "choices: ['dream of freedom', 'attempt to escape', 'do time', 'fast for days', 'scape jail']\n",
      "common expl list: ['Prisoners serve time, and when a prisoner attempts to escape, they generally serve extra time.']\n"
     ]
    },
    {
     "name": "stderr",
     "output_type": "stream",
     "text": [
      "\r",
      " 18%|█████████████████████████████                                                                                                                                        | 174/986 [35:00<55:18,  4.09s/it]"
     ]
    },
    {
     "name": "stdout",
     "output_type": "stream",
     "text": [
      "generated explanation: <pad> <extra_id_0> Attempt to escape is a common way for a prisoner to get into trouble and get out of jail. This is because attempts to escape are often considered to be a form of self-defense, and as such, can be a serious offense. Additionally, attempts to escape can be dangerous and can lead to serious consequences. This includes the possibility of being caught and sentenced to prison. Additionally, attempts to escape can also be considered to be a form of escape, which can lead to more serious consequences. This includes being caught and a prisoner in the prisoner.</s>\n",
      "########\n",
      "*******\n",
      "question: The crab was separated from his compatriots out in the sea, where was he likely to be?\n",
      "answer: tide pool\n",
      "choices: ['fish market', 'cooking pot', 'tide pool', 'beach sand', 'farm']\n",
      "common expl list: ['Tide pools are regions of shallow, pooled water that are very exposed to air, making them appealing to crabs that have to breathe.']\n"
     ]
    },
    {
     "name": "stderr",
     "output_type": "stream",
     "text": [
      "\r",
      " 18%|████████████████████████████▉                                                                                                                                      | 175/986 [35:51<4:07:11, 18.29s/it]"
     ]
    },
    {
     "name": "stdout",
     "output_type": "stream",
     "text": [
      "generated explanation: <pad> <extra_id_0> The crab was likely to be in a tide pool, where he was likely to be surrounded by other marine life. The tide pool is a large, shallow, and shallow area of the ocean floor that is often used to store food and other supplies for the marine population. It also provides a good habitat for the crab, which can be found in large areas of the ocean that are less common in the open sea. This may be due to the tide pool being full of sediments and other organic matter, which can help to keep the crabs and his crab</s>\n",
      "########\n",
      "*******\n",
      "question: What item is smelted out of minerals on the country side?\n",
      "answer: metal\n",
      "choices: ['urban city', 'france', 'metal', 'grass', 'state']\n",
      "common expl list: ['Products made by smelters tend to be made out of metals, and mining occurs at the country side.', 'Metals are extracted from mineral mines out in the country side.']\n"
     ]
    },
    {
     "name": "stderr",
     "output_type": "stream",
     "text": [
      "\r",
      " 18%|█████████████████████████████                                                                                                                                      | 176/986 [35:55<3:05:16, 13.72s/it]"
     ]
    },
    {
     "name": "stdout",
     "output_type": "stream",
     "text": [
      "generated explanation: <pad> <extra_id_0> Metal is a type of metal that is smelted out of minerals. It is used for making different types of products, such as jewelry, automobiles, and appliances. It is also used for making other metals, such as weapons and other tools. Metal is a type of metal that is made from different types of minerals, such as rock, ore, and other materials. Metal is a type of metal that is smelted to make a specific shape, such as a metal ore, and is used for making, ore.</s>\n",
      "########\n",
      "*******\n",
      "question: Where is a good place to store a saw?\n",
      "answer: toolbox\n",
      "choices: ['hardware store', 'tool shed', 'storage', 'tool kit', 'toolbox']\n",
      "common expl list: ['A toolbox is a container for tools, and a saw is a tool.', 'One might likely store a saw in a box with other tools.']\n"
     ]
    },
    {
     "name": "stderr",
     "output_type": "stream",
     "text": [
      "\r",
      " 18%|█████████████████████████████▎                                                                                                                                     | 177/986 [36:09<3:09:51, 14.08s/it]"
     ]
    },
    {
     "name": "stdout",
     "output_type": "stream",
     "text": [
      "generated explanation: <pad> <extra_id_0> A toolbox is a good place to store a saw because it is a good storage space for a saw. A toolbox is a good place to store a saw because it is a good storage space for a saw. A toolbox is a box that is used for carrying tools, such as a saw, a drill, a drill press, a circular saw, or a coping saw. A toolbox is a box that can be used to store a saw in, for example, a saw in a toolbox is a saws and store it in a saw in the saw in the saw in a saw in the saws, or a saw in the saws in, or storage space that is a saw in a saw, or a storage space in a saw in or a saws or a saw, or a a a a a or a a a saw or a toolbox, or a a a, or a a saws in a</s>\n",
      "########\n",
      "*******\n",
      "question: The jellyfish was pushed along by the water.  It was caught in what?\n",
      "answer: current\n",
      "choices: ['store', 'book', 'park', 'current', 'lake']\n",
      "common expl list: ['Jellyfish are often found in oceans, and oceans have currents.', \"Currents are fast-moving water, and jellyfish can't swim very well, so if caught in a current, it's likely to be being pushed along by the current.\"]\n"
     ]
    },
    {
     "name": "stderr",
     "output_type": "stream",
     "text": [
      "\r",
      " 18%|█████████████████████████████▍                                                                                                                                     | 178/986 [36:22<3:01:40, 13.49s/it]"
     ]
    },
    {
     "name": "stdout",
     "output_type": "stream",
     "text": [
      "generated explanation: <pad> <extra_id_0> The jellyfish was pushed along by the water and was caught in the current. The jellyfish was pushed along by the water, and was caught in the current. The jellyfish was caught in the current because it was pushed along by the water and was caught in the current because it was caught in the current. The jellyfish was caught in the current because it was being pushed along by the water and was caught in the current. The jellyfish was caught in the current because it was in the current and was being pushed along by the water. The current and was caught in the jellyfish were caught in the jellyfish was in the jellyfish were caught</s>\n",
      "########\n",
      "*******\n",
      "question: The dime store was full of old donated goods, it reminded the customer of the what?\n",
      "answer: past\n",
      "choices: ['strip mall', 'past', 'shopping center', 'old movie', 'india']\n",
      "common expl list: ['Dime stores were more popular years ago than today. The sight of the old goods reminded the person of the past.']\n"
     ]
    },
    {
     "name": "stderr",
     "output_type": "stream",
     "text": [
      "\r",
      " 18%|█████████████████████████████▌                                                                                                                                     | 179/986 [36:24<2:15:17, 10.06s/it]"
     ]
    },
    {
     "name": "stdout",
     "output_type": "stream",
     "text": [
      "generated explanation: <pad> <extra_id_0> The store was full of old donated goods, it reminded the customer of the past. The old donated goods reminded the customer of the past. The store was full of old donated goods, it reminded the customer of the past. The dime store was full of old donated goods, it reminded the customer of the past.</s>\n",
      "########\n",
      "*******\n",
      "question: Where would you put a saw if you do not need to use it soon and your house only has one floor?\n",
      "answer: tool shed\n",
      "choices: ['logging camp', 'in the vehicle', 'tool shed', 'toolbox', 'basement']\n",
      "common expl list: ['A tool shed is a common structure for organizing and storing tools that are infrequently used.', 'The shed is a good place for storing tools when those tools are not in use.', \"A tool shed is a place where tools are stored, and thus, a good place to store a saw if you don't need to use it soon.\"]\n"
     ]
    },
    {
     "name": "stderr",
     "output_type": "stream",
     "text": [
      "\r",
      " 18%|█████████████████████████████▊                                                                                                                                     | 180/986 [37:26<5:46:01, 25.76s/it]"
     ]
    },
    {
     "name": "stdout",
     "output_type": "stream",
     "text": [
      "generated explanation: <pad> <extra_id_0> A saw is a large, heavy tool that can be stored in a tool shed. The tool shed is a large, open space area that can be used for storage and storage of tools. The tool shed is a large, open space that is usually located on the ground floor of a home. It is a large space that can be used for storage of tools and other equipment, such as tools and other tools. The tool shed is a large, open space that is typically used for storage of tools and other items, such as a saw is a tool shed is a saw, and other tools and other tools and other shed is a large, and it is a tool that is a tool shed or a a small, and a tool that is a tool shed that is a a house and can be used for a a a a tool for its a a a a a a a tool shed is a tool, and is a a a a a a a a a a tool that is a a, or a a shed is a a a tool, a tool, or a, or a a tool that is, or a, or a a tool or a a, or a, or a, or, or a, or, or, a a, or is, or </s>\n",
      "########\n",
      "*******\n",
      "question: A person might wear his yarmulke when going to where?\n",
      "answer: synagogue\n",
      "choices: ['demonstration', 'concert', 'garage', 'bus stop', 'synagogue']\n",
      "common expl list: ['Synagogue is a place commonly visited by religious Jews. Men wear yarmulkes (skullcaps) because faith requires that they uncover their heads when going before God.']\n"
     ]
    },
    {
     "name": "stderr",
     "output_type": "stream",
     "text": [
      "\r",
      " 18%|█████████████████████████████▉                                                                                                                                     | 181/986 [37:31<4:20:42, 19.43s/it]"
     ]
    },
    {
     "name": "stdout",
     "output_type": "stream",
     "text": [
      "generated explanation: <pad> <extra_id_0> A person might wear his yarmulke when going to a synagogue or religious institution. The yarmulke is a type of traditional headgear that is worn by a person at the time of worship in a synagogue or religious institution. It is worn to protect the head and neck from the sun and to prevent the skin from absorbing the holy smoke, which is a common cause of friction and discomfort in the eye. The yarmulke is a Jewish headgearreligea person may attend the congregation or mosques or going to attend the congregation or to attend the church or attend the Torah services, or in a religious services, or to attend a person at the<extra_id_25> of the congregation, or church or to attend the church.</s>\n",
      "########\n",
      "*******\n",
      "question: Someone takes up exercising to improve their what\n",
      "answer: physical fitness\n",
      "choices: ['losing weight', 'physical fitness', 'breathlessness', 'muscles', 'lost weight']\n",
      "common expl list: ['Exercising is a way to improve physical fitness.', 'Exercising helps people build their physical fitness.', 'Typically people are motivated to exercise in order to become fit.']\n"
     ]
    },
    {
     "name": "stderr",
     "output_type": "stream",
     "text": [
      "\r",
      " 18%|██████████████████████████████                                                                                                                                     | 182/986 [37:31<3:03:54, 13.72s/it]"
     ]
    },
    {
     "name": "stdout",
     "output_type": "stream",
     "text": [
      "generated explanation: <pad> <extra_id_0> Physical fitness is the ability to improve one’s physical fitness level.</s>\n",
      "########\n",
      "*******\n",
      "question: Where could you see a sloth that is not real?\n",
      "answer: picture book\n",
      "choices: ['bad dream', 'picture book', 'another place', 'universe', 'zoo']\n",
      "common expl list: ['Reality is generally fractured into \"real\" and \"fusion.\" Sloths are real, meaning they exist (in some form) in reality; sloths are not real (in the way depicted) in a picture book.']\n"
     ]
    },
    {
     "name": "stderr",
     "output_type": "stream",
     "text": [
      "\r",
      " 19%|██████████████████████████████▎                                                                                                                                    | 183/986 [37:44<3:01:08, 13.54s/it]"
     ]
    },
    {
     "name": "stdout",
     "output_type": "stream",
     "text": [
      "generated explanation: <pad> <extra_id_0> A sloth is a type of animal that is found in a picture book or other media, such as a comic book or other picture book. Picture books are usually made of pictures of animals, such as humans or animals. These pictures are often used to show how an animal behaves, or to show how they look. The pictures may also include a sloth, which is a type of animal that is a type of animal that is not real, such as a sloth. These pictures may also be used to depicting a sloth, or other animals, or even more accurately.</s>\n",
      "########\n",
      "*******\n",
      "question: Where are seats often plush?\n",
      "answer: opera\n",
      "choices: ['rest area', 'theater', 'hockey game', 'classroom', 'opera']\n",
      "common expl list: ['Opera is a high-class form of entertainment, and thus, the seats are often plush.', 'Plush seats are generally found in more comfortabe, well-off establishments, and opera is often performed in such, less strict teents of, elegance of the decor.']\n"
     ]
    },
    {
     "name": "stderr",
     "output_type": "stream",
     "text": [
      "\r",
      " 19%|██████████████████████████████▍                                                                                                                                    | 184/986 [37:45<2:10:06,  9.73s/it]"
     ]
    },
    {
     "name": "stdout",
     "output_type": "stream",
     "text": [
      "generated explanation: <pad> During the opera, seats are often plush, which can make them feel more like they are in a plush setting.</s>\n",
      "########\n",
      "*******\n",
      "question: The comforter was used constantly and treaded upon by everyone, where should it be placed?\n",
      "answer: washing machine\n",
      "choices: ['garbage', 'linen closet', 'bedroom', 'washing machine', 'livingroom']\n",
      "common expl list: ['Linens are often used (i.e., the comforter) and washed frequently.', 'The comforter was used constantly, so it should be washed frequently. Linen closets are where people store their bed sheets and blankets.', 'When you use your comforter (or any other high-traffic fabric) often, you ought to wash it often too. Therefore it should be kept in the washing machine, to enable quick washing.']\n"
     ]
    },
    {
     "name": "stderr",
     "output_type": "stream",
     "text": [
      "\r",
      " 19%|██████████████████████████████▌                                                                                                                                    | 185/986 [37:49<1:45:55,  7.93s/it]"
     ]
    },
    {
     "name": "stdout",
     "output_type": "stream",
     "text": [
      "generated explanation: <pad> <extra_id_0> The comforter was used constantly and treaded upon by everyone, where should it be placed? A comforter was used constantly and walked upon constantly. Where should it be placed? In a washing machine, it is possible to wash the comforter and remove any dirt and grime. However, if the comforter was used constantly and treaded upon, it should be placed in a place where it can be easily accessed and washed. This would be in the washing machine or the dryer. The comforter could be used a a a a as.</s>\n",
      "########\n",
      "*******\n",
      "question: Joe bought a ficus.  He thought it would look good in what part of his home?\n",
      "answer: family room\n",
      "choices: ['family room', 'tropical forest', 'flower garden', 'movie theater', 'hair salon']\n",
      "common expl list: [\"The ficus is an indoor plant, such as a plant one would have in one's family room. The family room is the ideal location for an indoor plant like a houseplant.\"]\n"
     ]
    },
    {
     "name": "stderr",
     "output_type": "stream",
     "text": [
      "\r",
      " 19%|██████████████████████████████▋                                                                                                                                    | 186/986 [37:53<1:31:52,  6.89s/it]"
     ]
    },
    {
     "name": "stdout",
     "output_type": "stream",
     "text": [
      "generated explanation: <pad> <extra_id_0> Joe bought a ficus because he thought it would look good in his family room. The ficus is a small car that weighs about a pound and is primarily used for driving and entertainment purposes. The car is a compact car that is well-made and durable. The car is a good size for a family of four and is a great addition to any home. The ficus is a compact car that is a great addition to any family room. The car is a great for the family room. The family room. The family room is the family room. The family room is the living room is a large family room is a great looking for the family room is a great for the family room.</s>\n",
      "########\n",
      "*******\n",
      "question: Family is always the best for devotion, but it is also nice if a person has what?\n",
      "answer: loyal friends\n",
      "choices: ['good review', 'headache', 'with cat', 'loyal friends', 'shoes']\n",
      "common expl list: ['We may have devoted friends who would be there for us if we had need.', \"Because times may come when a person would like to go out and have fun with some friends, and it's nice if that person may have friends that he is faithful to.\", 'Loyal friends are always there for you, and they will always be devoted to you.']\n"
     ]
    },
    {
     "name": "stderr",
     "output_type": "stream",
     "text": [
      "\r",
      " 19%|██████████████████████████████▉                                                                                                                                    | 187/986 [37:56<1:16:28,  5.74s/it]"
     ]
    },
    {
     "name": "stdout",
     "output_type": "stream",
     "text": [
      "generated explanation: <pad> <extra_id_0> A person’s devotion is always best when a person has a group of people who are also loyal friends. Friends are a group of people who have a common goal in common, such as being a good neighbor, friend, or neighbor. These people are loyal to each other and to their community. This group of people is considered to be a loyal group of friends, which is a good thing because it helps to keep the community together. This group of people is also considered to be a loyal group of people, which is as devotion</s>\n",
      "########\n",
      "*******\n",
      "question: Rap is not usually associate with what music often performed by an orchestra?\n",
      "answer: classical\n",
      "choices: ['folk', 'rock', 'good music', 'country music', 'classical']\n",
      "common expl list: ['Rap is generally associated with hip-hop music, which is normally performed by a single artist. Orchestras tend to play classical music, which often is performes with real instruments, rather than manufactured ones.']\n"
     ]
    },
    {
     "name": "stderr",
     "output_type": "stream",
     "text": [
      "\r",
      " 19%|███████████████████████████████▍                                                                                                                                     | 188/986 [37:58<58:23,  4.39s/it]"
     ]
    },
    {
     "name": "stdout",
     "output_type": "stream",
     "text": [
      "generated explanation: <pad> <extra_id_0> Rap is not usually associated with classical music performed by an orchestra. Instead, Rap is not usually associate with classical music performed by an orchestra. This is because classical music is generally performed by an orchestra and does not include rap.</s>\n",
      "########\n",
      "*******\n",
      "question: At what structure can you see people you use a puck professionally?\n",
      "answer: hockey rink\n",
      "choices: ['hockey rink', 'locker room', 'sporting goods store', 'used in hockey game', 'teachers']\n",
      "common expl list: ['Pucks are commonly used in ice hockey, which is a professional activity.']\n"
     ]
    },
    {
     "name": "stderr",
     "output_type": "stream",
     "text": [
      "\r",
      " 19%|███████████████████████████████▋                                                                                                                                     | 189/986 [38:02<56:50,  4.28s/it]"
     ]
    },
    {
     "name": "stdout",
     "output_type": "stream",
     "text": [
      "generated explanation: <pad> <extra_id_0> A hockey rink is a professional hockey arena that is a place where people use a hockey puck, and where they can use it to perform a variety of tasks, including tackling, balancing, and scoring. The rink is a place where people can learn and practice the skills necessary to win a game, and where players can compete with each other for the ultimate goal. It is also a place where you can find a variety of equipment, including a hockey puck, a rink that is used by the NHL teams and their needs. The NHL is a hockey team that is used by players are in the NHL team.</s>\n",
      "########\n",
      "*******\n",
      "question: Even when not in flight a bald eagle likes to have a lay of the land, because of this you'll see them perched up where?\n",
      "answer: high places\n",
      "choices: ['colorado', 'natural habitat', 'everglades', 'high places', 'tree']\n",
      "common expl list: ['Eagles like to be high up, so they can see a large area.']\n"
     ]
    },
    {
     "name": "stderr",
     "output_type": "stream",
     "text": [
      "\r",
      " 19%|███████████████████████████████▊                                                                                                                                     | 190/986 [38:05<52:38,  3.97s/it]"
     ]
    },
    {
     "name": "stdout",
     "output_type": "stream",
     "text": [
      "generated explanation: <pad> <extra_id_0> A bald eagle likes to have a lay of the land and will often be seen perched up in high places. This is because they are able to get a good view of the land and the sky, which can be seen from afar. This is because they are able to see the entire sky from afar, and can therefore see the entire sky at a distance. Also, this can be because they are able to see the entire sky at a distance, which can be a asoaring, and often seen in high places.</s>\n",
      "########\n",
      "*******\n",
      "question: When is good time for garlic bread?\n",
      "answer: dinner\n",
      "choices: ['refrigerator', 'dinner', 'jail', 'supermarket', 'going on a date']\n",
      "common expl list: ['Typical garlic bread is served with a maincourse and wine or other alcoholic beverage, and both are commonly served with dinner.', 'Garlic bread is often served with dinner.']\n"
     ]
    },
    {
     "name": "stderr",
     "output_type": "stream",
     "text": [
      "\r",
      " 19%|███████████████████████████████▉                                                                                                                                     | 191/986 [38:08<49:40,  3.75s/it]"
     ]
    },
    {
     "name": "stdout",
     "output_type": "stream",
     "text": [
      "generated explanation: <pad> <extra_id_0> A good time for garlic bread is good for dinner because it is good for digestion and for the body. The oil in garlic bread is a natural oleo-binding agent that helps to prevent the release of cholesterol. This is because garlic is a natural preservative and helps to prevent the formation of cholesterol. Additionally, garlic is a naturally occurring nutrient that helps to maintain a healthy weight and helps to prevent the formation of cholesterol. This is because it is a<extra_id_27> good for reducing cholesterol and lowering blood.</s>\n",
      "########\n",
      "*******\n",
      "question: Where is the sky fake?\n",
      "answer: planetarium\n",
      "choices: ['shed', 'atmosphere', 'photo', 'outdoors', 'planetarium']\n",
      "common expl list: ['Planetariums are buildings that simulate the sky.', 'Planetariums are places built to simulate the sky indoors; the opposite of outdoors.']\n"
     ]
    },
    {
     "name": "stderr",
     "output_type": "stream",
     "text": [
      "\r",
      " 19%|████████████████████████████████▏                                                                                                                                    | 192/986 [38:12<50:29,  3.82s/it]"
     ]
    },
    {
     "name": "stdout",
     "output_type": "stream",
     "text": [
      "generated explanation: <pad> <extra_id_0> : The fake sky is a fake representation of the real world in a planetarium or other similar space-based facility, such as a planetarium or other such facility. It is used to create a realistic look for the real world, and it is often used to create illusions of the stars and planets in the planetarium. This is because the fakes are often used to create the illusion of space and are therefore able to simulate the real world. The fakes are often fabricated by using computer-generated by using a planetas.</s>\n",
      "########\n",
      "*******\n",
      "question: Boats that aren't on the ocean travel across the surface of what?\n",
      "answer: lake\n",
      "choices: ['lake', 'ocean', 'tetrahedron', 'mirror', 'object']\n",
      "common expl list: [\"Lakes (and ponds) are bodies of fresh water surrounded by land, and boats exist on water, and thus, will tend to travel across lakes' surfaces.\"]\n"
     ]
    },
    {
     "name": "stderr",
     "output_type": "stream",
     "text": [
      "\r",
      " 20%|████████████████████████████████▎                                                                                                                                    | 193/986 [38:15<49:00,  3.71s/it]"
     ]
    },
    {
     "name": "stdout",
     "output_type": "stream",
     "text": [
      "generated explanation: <pad> <extra_id_0> A lake is a large, shallow body of water that is used to keep water from accumulating in the water. It is a large body of water that is used to keep the water from getting into the boats and from the water being drained. A lake is a large body of water that is used to keep water from getting into the boats and allowing them to move around. This allows them to travel across the lake and avoid the water<extra_id_25> A lake is a large, shallow body of water that is used to carry water</s>\n",
      "########\n",
      "*******\n",
      "question: A small dog lived with a a woman who loved him. Where might he have lived?\n",
      "answer: person's house\n",
      "choices: [\"person's house\", 'dog house', 'canada', 'illinois', 'basket']\n",
      "common expl list: [\"Dogs are often kept as pets, and pets are often kept in their owners' homes.\", 'Animals who live with humans are often in their homes.']\n"
     ]
    },
    {
     "name": "stderr",
     "output_type": "stream",
     "text": [
      "\r",
      " 20%|████████████████████████████████                                                                                                                                   | 194/986 [38:29<1:25:58,  6.51s/it]"
     ]
    },
    {
     "name": "stdout",
     "output_type": "stream",
     "text": [
      "generated explanation: <pad> <extra_id_0> A small dog lived with a woman and a small dog would have lived in a person's house. The dog would have been a small dog, which would have made him a member of the family. A dog would have lived in a person's house because it is a place where people gather to socialize and interact with each other. A dog's home would be a place where people gather to socialize and interact with each other. A small dog would have lived in a person's house, or in the dog would have been a small dog would be a person would have been a woman would have been living room, and would have been in the dog would have been a dog would be a woman would have been in the dog would have been a woman would be a woman would have been a woman would be a dog would have been a woman would be a dog would be a dog would be asd would have as would be a small dog would be a woman and would be a dog would be a house would be a dog would be</s>\n",
      "########\n",
      "*******\n",
      "question: There are usually four strings on what popular instrument?\n",
      "answer: guitar\n",
      "choices: ['trumpet', 'kite', 'quark', 'guitar', \"bird's nest\"]\n",
      "common expl list: ['Guitars have four strings.', 'A guitar is a stringed instrument with four strings.']\n"
     ]
    },
    {
     "name": "stderr",
     "output_type": "stream",
     "text": [
      "\r",
      " 20%|████████████████████████████████▏                                                                                                                                  | 195/986 [38:34<1:20:15,  6.09s/it]"
     ]
    },
    {
     "name": "stdout",
     "output_type": "stream",
     "text": [
      "generated explanation: <pad> <extra_id_0> There are usually four strings on a popular popular guitar or other popular instrument. Guitars have four strings, and are usually made of wood or plastic. The guitar is a musical instrument that is used to play four-string guitars. The guitar is made of wood and plastic, and has four strings attached to each string, which is the most common type of material used. The four strings are usually made of different types of wood, including wood, metal, and plastic. The most common string is the number of the first string, which is usually. guitar, and the guitar. The guitar is played on guitar is played by guitars are not only four string is the guitar is guitar. The guitar is a guitar is ana guitar is played by guitar is a guitar is played guitar strings are guitars are usually four strings are usually guitar are four-are typically four.</s>\n",
      "########\n",
      "*******\n",
      "question: Where would you find a shelf with toys for young people learning?\n",
      "answer: school building\n",
      "choices: ['corner', 'school building', 'wall', 'library', 'bookstore']\n",
      "common expl list: ['A school building is a place where children learn, and so, a school building would have a shelf with toys for young people learning.', 'School buildings house school libraries, in which you would find shelfs of toys, games and puzzle for students to use while in school.']\n"
     ]
    },
    {
     "name": "stderr",
     "output_type": "stream",
     "text": [
      "\r",
      " 20%|████████████████████████████████▍                                                                                                                                  | 196/986 [38:37<1:08:54,  5.23s/it]"
     ]
    },
    {
     "name": "stdout",
     "output_type": "stream",
     "text": [
      "generated explanation: <pad> <extra_id_0> A shelf with toys for young people learning is a common place in schools. It is a place where children can play and learn together. It is also a place where children can share and play with other children and adults. A shelf with toys is a shelf that is usually located in a school building and is usually a place where children can find toys and other learning materials. It is also a shelf that can be used as a classroom or play area for children to play with and learn. A shelf is a shelf that can be found in the classrooms.</s>\n",
      "########\n",
      "*******\n",
      "question: What can you get after drinking too much alcohol?\n",
      "answer: sickness\n",
      "choices: ['become drunk', 'have fun', 'active', 'frequent urination', 'sickness']\n",
      "common expl list: [\"Drinking too much alchohol can impair the body and, consequently, one's ability to think straight. It can also cause sickness.\", 'Alcohol is a diuretic, which means that it makes you urinate more frequently. This can lead to dehydration, which can cause sickness.', \"Alcohol (e.g., beer, wine, etc.) is a chemical that alters people's consciousness, making them generally feel unpleasant; subsequently, over-consumption can lead to the vomiting of one's content inside one's stomach. Hence, being\"]\n"
     ]
    },
    {
     "name": "stderr",
     "output_type": "stream",
     "text": [
      "\r",
      " 20%|████████████████████████████████▌                                                                                                                                  | 197/986 [40:48<9:26:37, 43.09s/it]"
     ]
    },
    {
     "name": "stdout",
     "output_type": "stream",
     "text": [
      "generated explanation: <pad> <extra_id_0> After drinking too much alcohol, you can get a lot of sickness. This can be a result of a combination of factors, including the amount of alcohol consumed, and the severity of the illness. For example, if you drink too much alcohol, you may be able to feel a heightened sense of physical or mental discomfort, which can lead to a range of symptoms, such as nausea, vomiting, or stomach upset. Also, it can be a result of an increased level of bodily activity, which can also lead to your</s>\n",
      "########\n",
      "*******\n",
      "question: WHat is the central bank responding to when they are fighting inflation?\n",
      "answer: problems\n",
      "choices: ['deflation', 'problems', 'spend more', 'people', 'not noticeable']\n",
      "common expl list: ['Periods of inflation cause problems for businesses and people. The central bank may take steps to fight inflation (reduce it) to respond to this problem. Reducing inflation also solves the overall issues.', 'Inflation is a function of having too much money in the economy. This may cause problems.', 'Inflation is a problem, and the central bank is responding to it by fighting it.', 'In order to fight inflation, a central bank must respond to the problem, e.g., economic trouble, which if left alone, would cause inflation']\n"
     ]
    },
    {
     "name": "stderr",
     "output_type": "stream",
     "text": [
      "\r",
      " 20%|████████████████████████████████▋                                                                                                                                  | 198/986 [41:29<9:17:18, 42.43s/it]"
     ]
    },
    {
     "name": "stdout",
     "output_type": "stream",
     "text": [
      "generated explanation: <pad> <extra_id_0> The central bank is responding to problems that arise when they are fighting inflation. These problems include: 1) the central bank is responding to a problem that arises from the central bank causing problems, and 2) the central bank is responding to a problem that is causing problems. In this case, the central bank is responding to a problem that is causing problems, such as: 1) the central bank is responding to a problem that is causing problems, and 2) the central bank is responding to a problem that is causing problems.</s>\n",
      "########\n",
      "*******\n",
      "question: What could a massive building be if it is not constructed well?\n",
      "answer: insubstantial\n",
      "choices: ['insubstantial', 'massless', 'dwarf', 'inconsequential', 'good']\n",
      "common expl list: ['Because the massive structure is so large, poor construction could render it largely inconsequential, or \"insubstantial\", as a structure.', 'A building is typically considered a sizable construction, therefore, if erected poorly, would be construed as being insubstantial.']\n"
     ]
    },
    {
     "name": "stderr",
     "output_type": "stream",
     "text": [
      "\r",
      " 20%|████████████████████████████████▉                                                                                                                                  | 199/986 [41:35<6:51:25, 31.37s/it]"
     ]
    },
    {
     "name": "stdout",
     "output_type": "stream",
     "text": [
      "generated explanation: <pad> <extra_id_0> A building could be insubstantial if it is not constructed well. A poorly constructed building can be a massive structure that is insubstantial because it is not properly designed and constructed. This can lead to a loss of function and energy efficiency, and could also lead to a loss of value and energy efficiency. Insubstantial buildings are also difficult to maintain and repair, and can be a source of safety concerns for the public. In addition, poorly constructed buildings can be a safety risk for the public, and can be a massive building can be a massive and a large, and as.</s>\n",
      "########\n",
      "*******\n",
      "question: If you rent a condominium in a glove-shaped state where are you?\n",
      "answer: michigan\n",
      "choices: ['great lake state', 'michigan', 'community', 'towels', 'complex']\n",
      "common expl list: ['A condominium is a type of housing that is often rented. Condominiums are often located in complexes, and Michigan is a state that is shaped like a mitten.']\n"
     ]
    },
    {
     "name": "stderr",
     "output_type": "stream",
     "text": [
      "\r",
      " 20%|█████████████████████████████████                                                                                                                                  | 200/986 [41:39<5:03:30, 23.17s/it]"
     ]
    },
    {
     "name": "stdout",
     "output_type": "stream",
     "text": [
      "generated explanation: <pad> <extra_id_0> A condominium in a glove-shaped state is a property that is rented to a person who is a person who is living in a condominium unit or a unit. The condominium is rented to a person who is a person who is a person and has the ability to own a unit or unit. The condominium is rented to a person who is a person who is a person who is renting a unit or unit in a condominium unit or unit. The person renting the unit or unit is a condominiums in michigan</s>\n",
      "########\n",
      "*******\n",
      "question: where do children play a game?\n",
      "answer: family room\n",
      "choices: ['toy store', 'bar', 'casino', 'table', 'family room']\n",
      "common expl list: ['A family room is a room in a house where family members can play games.', 'A family room is a room in many homes in which families can socialize, often through games. One such game is \"connect four.']\n"
     ]
    },
    {
     "name": "stderr",
     "output_type": "stream",
     "text": [
      "\r",
      " 20%|█████████████████████████████████                                                                                                                                  | 200/986 [41:42<2:43:54, 12.51s/it]"
     ]
    },
    {
     "name": "stdout",
     "output_type": "stream",
     "text": [
      "generated explanation: <pad> <extra_id_0> a family room is a room that is shared by several people, and where children can gather to play games and interact with each other. This is because the family room is a place where children can gather to play games and have fun together, and it is also a place where adults can relax and enjoy time together. A family room is a place where children can gather to play games and to gather together for social interaction and entertainment, and where children can play together in order to create a sense of community. This is because the family members of the gamer.</s>\n",
      "########\n"
     ]
    },
    {
     "name": "stderr",
     "output_type": "stream",
     "text": [
      "\n"
     ]
    }
   ],
   "source": [
    "from tqdm import tqdm\n",
    "fse_csqa_dev_data_dict\n",
    "fse_csqa_train_data_dict\n",
    "rationale_pair_dev_data = []\n",
    "cc=0\n",
    "good_model = model\n",
    "for da in tqdm(our_data_splits['dev'], total=len(our_data_splits['dev'])):\n",
    "    print(\"*******\")\n",
    "    print(\"question: {}\".format(da['question']))\n",
    "    print(\"answer: {}\".format(da['answer']))\n",
    "    print(\"choices: {}\".format(da['choices']))\n",
    "    #print(\"our_explanation: {}\".format(da['our_explanation']))\n",
    "    id_ = da['id']\n",
    "    if id_ in fse_csqa_dev_data_dict.keys():\n",
    "        common_expl_list = fse_csqa_dev_data_dict[id_]['common_expl_list']\n",
    "    else:\n",
    "        common_expl_list = fse_csqa_train_data_dict[id_]['common_expl_list']\n",
    "    da[\"common_expl_list\"] = common_expl_list\n",
    "    print(\"common expl list: {}\".format(common_expl_list))\n",
    "    inp_ids = torch.tensor(da[\"input_ids\"], device=model.device).reshape(1, -1)\n",
    "    out = good_model.generate(\n",
    "                    inp_ids,\n",
    "                    max_length=512,\n",
    "                    pad_token_id=tokenizer.pad_token_id,\n",
    "                    eos_token_id=tokenizer.eos_token_id,\n",
    "                )\n",
    "    skip_special_tokens = False if \"infilling\" in data_args.io_format else True\n",
    "    words = tokenizer.decode(out[0].tolist(), skip_special_tokens=skip_special_tokens)\n",
    "    print(\"generated explanation: {}\".format(words))\n",
    "    da[\"generated_explanation\"] = words\n",
    "    print(\"########\")\n",
    "    rationale_pair_dev_data.append(da)\n",
    "    cc += 1\n",
    "    if cc > 200:\n",
    "        break\n",
    "    #pdb.set_trace()"
   ]
  },
  {
   "cell_type": "code",
   "execution_count": 51,
   "id": "a7a66b99",
   "metadata": {},
   "outputs": [],
   "source": [
    "import json\n",
    "rationale_pair_save_path = os.path.join(\"./results\", \"24shots_cose_t5_large_chatgpt_50_100_rationales_generator_test_rationale_pair.json\")\n",
    "with open(rationale_pair_save_path, 'w') as f:\n",
    "    json.dump(rationale_pair_dev_data, f)"
   ]
  },
  {
   "cell_type": "code",
   "execution_count": 52,
   "id": "33daef0f",
   "metadata": {},
   "outputs": [
    {
     "data": {
      "text/plain": [
       "dict_keys(['5b8a3081c3235d62bc77e2d15f3ad454', '07f108d5321a66f460685f5c7499ecb2', 'ff1bf2ec835c9df8695ae0cfb5281646', '33ea932a876ac0361c9eefeff1d24e92', '35ad89c198d5d6311a71c993bb7b6cba', 'a2aa95861ef74bf1ecfc55db505e3982', 'af3b9a8b1962cd3bcd19e644d873e7bc', '91e0f4ab62c9d2fd440d73a3f5308d96', 'cfc7fccb8449a2a950c9d2a50991420e', 'edbb57ac2f476679ae547f75ec2bef3e', '8555dd9667d010018961a2f7d1c22704', '8bdbb8caefcc607a9ec7579aa0c87cba', '549cf641318edfc0510fa7c7dbb359e1', 'd6c002d46d9bfa466637cec4a134f332', '3b9ccdcb1c932c46a38e040d3e6c7f5b', '54231f875bb7fe4d3e4afb6eae64387c', '668dc6bce771b10cbf6336f3ec76520a', '900492bd731f8f615ed7c08155737d44', '0b25bbd9e9aa976655e1975e31331709', '1729c737ff92cf558efecde2c6cafc5e', 'cc1a547bdfdcc95e4d632453af14bc96', 'c492b8b9754a181c924c1df19998cbc7', 'd31ee38f67d1173275e120b8ad36039c', '083861fc5ebb9226fff70544f3f83d2b', 'e1744fc698cffb574e5cf4b29a81ce76', '1f492f556fae64f72ce36b6caa242dd0', '27604394ccee83e089f9ffae1883cf07', 'b3dc6d6a5e2f9d7da8eb72816c80b3f8_1', '6bc3ebcfd04965c25bde71339955746c', '69335eb9bc5b7b5df840c38a086bf8b2', 'bc05bc6b4df7a3d25a361515fe8912ad', 'f7c005244d406b9bde48dc8c22003af1', 'f48528156632b9c5b18af9ce2095509b', 'b5baf77d3855935c87f01f5fb2216667', 'db1eb157671109bbb9113b0f71a6b957', '77ddc9134bb27f9962aa2ed5ec5a5ef9', '6abd34442438509b4a00c69d6fd24764', 'b67971747e95ba425a5b81e0ba8d0b28', 'bee2a6eadfaf7a4fa0a214e341ddbe5b', '8ce13c6e08bf38d4cd4af756b661e47c', '80930e9df9ac4ad752749a54e7fc124f_1', '3ffe67fb009529d9b0c49ccd7141ee4a', '8d3dc21a53523850ec80771daaa5ff20', '3310b5b24f03d67179fababf9ae95144', '998381f854f51da2a6ccde45909e5168', 'f427f9de6bf580314531baf86de8acbc', '18844d3aa4e52b331b5382c8244cf4db', '8af63d58cc35061dec38e5448c325988', '768fb09deab56046e1565b6a2556ad5c', '5655a3002dd9a6b7dabede1dd26a5893', '07ea8ff6ee916f2bf9aceab1e19ff99a', 'd35a8a3bd560fdd651ecf314878ed30f', '449de58e919975867255218484a9fc89', '7cf54544d54818d53e7088c0749a3eca', 'd29252ddaf7c7ef491abcce342d7bb98', '4a4f6408fae400ce0beb5bea0f9913e9', 'c306ab28498b67c53decb9dde1d78bd5', 'ba9132ebf2bc3ad21e6a0631dc4e0a77', '026cb9c07a583ec933f2c4c67ae73836', '2a21820a135e1a49883525c055c74a0b', '7c45033e9fd9f1a759923971b14390ed', 'dc964e4f6df6b70815e81e466d0ff717', '2a32b1e541b1daae04690d0d3a4b3310', '6c515b068b4d3aa88a5382224d9b866d', '6c84e79d0595efd99596faa07c4961d0', '42c46e28baf0fc617a07419286178c0a', 'c39131d979c9205c11d0e109e18188e4', 'c592258c88295756833e9796e881057b', '3526550b02d9594abd4fc43553010fc6', '637c710ec9582fd9b9e8eaa3f3fe83bb', '01f01cc3ad152773ef42b30e926912bf', 'c54ddc0f9d170ba65d9f4f2e0bb41d1c', 'ad37795fd9e3a65553683ff305b5113d', '7a3d0c94438a5c8a09364aaebb848a2c', '7c05e8d5a057085455eea243fbd1cd90', '4364b4b342fb7b44434bd6694bf8fd51', '99098375c7b651d524eebac72e358238', '1ddd239a2a6438a891cb411b82e7f450', 'f4bb8ecacb9ce89e040f5f76bc79afb3', '6b9221c1af583ffb43580857d6fde38a', 'cf8e30dd6956d03e3f0f0397112a8696', '456f2fb41cac8c028dcfe2f48637e473', 'c908d7c4633c5e6add9463bdd47cb27e', '2de08c7a518b7c226e19bdc8fc10ef1d', 'cd639cf3ff82f825ace7dd2b087562bd', 'e3c6d147f8a727d314046e70e9579ba0', 'b9b82aa4c236cd342ff95455b8516a42', 'e4976ee741cf4b28b8a42780ffb15774', '8d275acea05fd16295c659c504576a9b', '3bf06235a537adc9d85431846595b800', 'a7d51b753c2113d8b2dbd0ebb5375855_1', 'bcc5dd6292a64d8fa17cd07c360b335d', '46ba5d2b8cfc6708e5e2618568d8730e', '9f9ca9bb06d6afc31b19c365fb29a1c9', '3d9c3253e24fb108cea9083e8a853cf2', '3b8e1d236f5169b6c833a994d6d9c39a', '6ca8439d062de4d43d7d471c508b78db', 'ec86900559a0faf2aef066e511a4cfa6', '57e96118fee6e2bbac5f59790fc833c0', '520b0eea9148e3cb4d45aa69a55491eb', '6be05d227f4f6fe727218fc8be9df340', '113aaea2b1a27a976547f54e531d99bb', '2f0931adc3d0d422d9ab6264395e89d8', 'cce1b59f7c4f540a84a1a7d6d88548c4', '870b07a1c5af2e956673a9680da99852', '34005ef0caafefc8585c9fcd50e94557', '22458fdcead20e2def0df0d92d5806f6', 'ec224c1dbfb569cce7ec317fe987ae68', 'ede4d302fc2ffe07703158f83c1493f2', 'ecd32cc0c17d4738a27bba3399f04591', '5c171b9837af49211891ce40e4a10204', '801431167b8bff06b9870abe9721536b', 'b47d912136e3304cb5e5890b6b879551', 'd0bd5b5ee7319d1c4727e38d429dd54e', '78276a4eab6e8d6b9ae3749211816977', 'ec79ef747bb89281923edb89ba26786d', '0e80f2afe5c4f652e8720b52d7c06c87', '39572e0ba1db51fa74f7fc2d90c5ec7f', '56417ee33b44f0d916bedfb6fd99b0ec', 'f996430ce208606452868fd2e739d409', '858a5eaa587fe0e266722228671a6bd1', '273d0134e8ce53d4ebcf41ca7fde02af', '49e466b1782aa4837dae53ff891fcdee', '08d908ed723f813574992195d61386a2', '7192c9f5c513aac9042bad595ff5af9f', 'aa4c5d2d348796b8d7fa324f27f4c34f', '0e52659484f2f6d763cf0d38d4c5999d', '4423c006f2a43f222d4c4e97360c25d3', 'f4a75bf3f115b826a8097edfd0ff2781', '07b51b231a9d6a143d8a73e69121e1b1', 'c2a8c6814ed3e207771cfc23b3b42cf1', 'f13efb91090dd28fd2b3c1f4dde680fd', '985a4f1a3f31f1ba6654f4fc48f504df', '9e5ce2b7d9eb404cdf8c7317dd0b5a59', 'a400b9fd1e319f901471c4b42d401c52', '042898e0c71adac5d123aaa6221c9754', '29c194d032a266a7160bff6f546a4d9d', 'db0cfd52ca6b2bbfcf26d1a898fd929b', '2a0e82bbf1471290c93c8f2a11af197f', '49b4c9e1bd7946a819e173ce8fa4c7c9', '6cb895ce89995f6be422f7c4167c7638', 'df1bf6f3f87975aa0c1b6d6153d9ecef', '1bf4c6b5bd870b1a079106e1e97e5d09', '8ae24d3ff199077a59e0d970feb665b7', 'bb503ece4eac41dfe608a1dcb654e6bf', '6e77de03bee86d6c20780e14f00944d0', '5799089c131e26473697afc54d5f6964', '895aa97bb84d874d71b2aed572cebfdd', '23d97480fe45bace231503f8fc367a5b', 'a2977fd575faba162d04a490dabd1b9b', '5a1c8a9dbbb60e523cc1ba14a370729c', '5496c7293f653120e5a5213db2d7b103', '7044d82a456d0fa6f0210abb03cbf2c4', '15b090801256085ad465e74af47cbee9', 'aa984e2b487d08889bc0c73bab5ac945', '4302e727e47f464511d4d04f22bed0d2', 'b6b66d4519a84b8331ea55f84767e9df', '0e5c7c0cec5b693e52f74f5f879d84fb', 'e408a5a031caec33782cb3b3a005eecc', '96cb628fb7ed2f53245598f707ed2b80', '2067720531fc03c017af941cec2f6f40', '5b8d76889510384b38b72945e8d28f53', 'cf33e0f5891ce53a716432be06a46ee1', '24eebfa678112100803da16dde148b2d', '0c2fa15a02d0b6ca6707e98fac7589e4', 'c2c2a387fd9a6a26cff636008de21f71', 'f20d40bc4af588223e880e0bb58b27b8', 'b42ef8be1748c19fa5938de5396f8fad', '57b83653d82b27d32bc39228130f3516', '2192c5c2145a6e03755ad89a02e64055', '175e7dcdded13d5adafaebf2264c3abd', '8d4b0312f02be445e09a9462873d02bb', 'cfa081b5ba90dae4d7ddb5b7ad9d369a', 'd6bb990e8c409d2b3af37a2da198e01f', '20a3bb788cf408d9a3e25e610fe60905', 'af11faa29097b71141fe192ad019d1dd', '6915dfdefe3b1cd5fd8886c8bb84929a', '43ba9669564217f2f909f33acbedaf95', 'fce1c5d069758aea57a787fc98dcf7a9', '32758ab86d888be680845b0dfe7de35e', '7ea57ee4580042b0a6a40479c8ace3e4', '21fb76bd8349628b441c76f47c33e77b', '3fe45ab3bd4a844ea290050fc0ece8c1_1', '3dee8fc7f0a3fbf4de111b6686fca157', 'ceafca2445b1b974d085a8cce38e8e44', '42520bf3f93f8de23670044e019001a3', '5ea6b94d1a911365b06cf776919413e8', '2d3c9d3dff1a7a8253180cb3de1ceeea', 'a4892551cb4beb279653ae52d0de4c89', 'e050bce7048da1b3743a54153e91694e', 'eb50f536830ba18ab987c7ff652e2aba', '6386bcf080633bc3eeb3317a5435b7b7', '839f3c37622c1ed5eebc9cd0b9d658e8', '009a7aabffe0583fc2df46656b29c326', 'c82ed0c2a2e115452b4d596c5faafbcf', '01abce8c4964371d85a5be2019f75827', '7d937233b4a9043da0b976dbd42d141b', 'c611875b43b67b91030b889b267bbcb3', '7bc1198664b376f79d584725ad7f874b', '5e260e1d96187716888cbd968010bb65', 'fde48d43e27cefed6ed9c52514e0bb6d', '43ab0ff711e60d51f943bbd2cdd6515a', '1a8b3c2a46efabcbd506f9cf70886ed0', '48a315cfa3ce11f7a9d615bc854331d5', '095767956c500ca1af7cf7671556de5b', 'de54d03e69d9765872f95ff06ed21499', 'cbf3dd48b4d591fc872a53cd4b9dd3af', '35872be88df5f6c4a6600020266a5458', 'a90f9197a13c64089c9ba95bcba275ad', 'bd4e80fa6642a76c064d0bc924411fb0', '008b7ba0c039f6d0d542c6c90aae173c', 'ace8fa2943ba8414aebdb74b48906fae', '1caf93d6a22dc8190e19c14bbe1fafda', '7c8bc9c0e56389eef033bca40c88c151', '6195ed74cf445cb5d991e1076a080dde', '8086f022f2d4a4888ae1f8c7e4541ab9', '1e5a138b4c7d456c37abf4990b402bbe', '3f4b48708d08f8bf7bec796531023f9c', '60e92cd2f35c345872d1a898e1718d55', '9889e5389917d812c09d6e5d382d333d', '46351b3a6beb694c5f623583a3b1473d', '7b7941b883328ad39048d4dfb1eb5623', '7d7f7d7a8ae3b20ca9fc0da6efe467b4', 'c961578f4c5768b67b843e5d2ce18452', '514310637fb43a252bfadc8cbf79b277', '5279a2ea333ba8a5bf3a7637a7279da1', '5622e49306bb82ec1cec817ad0506c60', 'fcd39cfa321728fea069a6ae4285b06f', '26bd85f05d29863ed777a4f1a4b8fa63', '31487ab8b1e8f12e252590cc58bd19c2', 'ffd89796a9b09bef56c5803f188764c6', 'ba3a2b9ff289c106051163f840a6f5ba', 'b1f36d1c8ab7e5a28783cb38e8709c27', '5c2bc4335c8860342ec2d568ceb6ac6b', '36c1f50eec01c287b8ef6ffe69fe0528', '515834727e23e30ab7c8fe5ba7e9a765', 'a15d564d0be6996251b5d523ac62db2a', '8f01273422a370a8dbda6bf473a395a0', 'cabefb7063a728e77abd44d97397a2a4', '1bc986f8aea88d6927d8a45367855a94', '484f6e4fb8e6431b010c299490b72e3c', 'a7e3de0719fe30e7048f67426e29fdd1', 'a617eb4d27edea93e7fd630ce00c8219', '2c0030cc14a27be2401dcfdaa501f0fc', 'cf02cca40a47c2deefd8b2e5a5ff2f70', 'ea0e7771afd86a59fd9f7764b77e3fa4', 'c1aebf059c5102f4e773f7fe4afe13f0', '95a85df48902d23eb3fda25a99fca1a0', 'a4b44a986e7f9045432e20ea75611df4', '05490e6c191fbc3c2fe0033ed0bd8aa0'])"
      ]
     },
     "execution_count": 52,
     "metadata": {},
     "output_type": "execute_result"
    }
   ],
   "source": [
    "fse_csqa_dev_data_dict.keys()"
   ]
  },
  {
   "cell_type": "code",
   "execution_count": null,
   "id": "bd852d7d",
   "metadata": {},
   "outputs": [],
   "source": []
  }
 ],
 "metadata": {
  "kernelspec": {
   "display_name": "Python 3 (ipykernel)",
   "language": "python",
   "name": "python3"
  },
  "language_info": {
   "codemirror_mode": {
    "name": "ipython",
    "version": 3
   },
   "file_extension": ".py",
   "mimetype": "text/x-python",
   "name": "python",
   "nbconvert_exporter": "python",
   "pygments_lexer": "ipython3",
   "version": "3.7.0"
  }
 },
 "nbformat": 4,
 "nbformat_minor": 5
}
