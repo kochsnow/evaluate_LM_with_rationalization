{
 "cells": [
  {
   "cell_type": "code",
   "execution_count": 1,
   "id": "f5286ba7",
   "metadata": {},
   "outputs": [
    {
     "name": "stderr",
     "output_type": "stream",
     "text": [
      "\u001b[34m\u001b[1mwandb\u001b[0m: Currently logged in as: \u001b[33mdengdenghuang\u001b[0m (\u001b[33mcuhk_lavilab\u001b[0m). Use \u001b[1m`wandb login --relogin`\u001b[0m to force relogin\n"
     ]
    },
    {
     "name": "stdout",
     "output_type": "stream",
     "text": [
      "env: WANDB_PROJECT=evaluate_LM_with_rationalization\n"
     ]
    }
   ],
   "source": [
    "import wandb\n",
    "wandb.login()\n",
    "\n",
    "%env WANDB_PROJECT=evaluate_LM_with_rationalization"
   ]
  },
  {
   "cell_type": "code",
   "execution_count": 2,
   "id": "30300ea6",
   "metadata": {},
   "outputs": [],
   "source": [
    "# import gpt3\n",
    "import logging\n",
    "import math\n",
    "import os\n",
    "\n",
    "from typing import List, Dict, Any, NewType\n",
    "\n",
    "InputDataClass = NewType(\"InputDataClass\", Any)\n",
    "os.environ[\"CUDA_VISIBLE_DEVICES\"] = \"\"\n",
    "from transformers import (\n",
    "    T5Config,\n",
    "    T5ForConditionalGeneration,\n",
    "    T5Tokenizer,\n",
    "    HfArgumentParser,\n",
    "    TrainingArguments,\n",
    "    set_seed,\n",
    "    EarlyStoppingCallback\n",
    ")\n",
    "from transformers.trainer_utils import EvaluationStrategy\n",
    "from transformers.integrations import TensorBoardCallback\n",
    "import transformers\n",
    "from transformers import Trainer\n",
    "\n",
    "#from feature_conversion_methods import format_instance\n",
    "\n",
    "from custom_args import (\n",
    "    DataTrainingArguments,\n",
    "    ModelArguments\n",
    ")\n",
    "from metrics import evaluate\n",
    "import torch\n",
    "import datasets\n",
    "import git\n",
    "import time\n",
    "from datetime import datetime\n",
    "import sys\n",
    "from tqdm import trange\n",
    "import random \n",
    "import pandas as pd \n",
    "import jsonlines\n",
    "from copy import deepcopy \n",
    "\n",
    "logger = logging.getLogger(__name__)\n",
    "transformers.logging.set_verbosity_info()\n",
    "import re\n",
    "def set_global_logging_level(level=logging.ERROR, prefices=[\"\"]):\n",
    "    \"\"\"\n",
    "    Override logging levels of different modules based on their name as a prefix.\n",
    "    It needs to be invoked after the modules have been loaded so that their loggers have been initialized.\n",
    "\n",
    "    Args:\n",
    "        - level: desired level. e.g. logging.INFO. Optional. Default is logging.ERROR\n",
    "        - prefices: list of one or more str prefices to match (e.g. [\"transformers\", \"torch\"]). Optional.\n",
    "          Default is `[\"\"]` to match all active loggers.\n",
    "          The match is a case-sensitive `module_name.startswith(prefix)`\n",
    "    \"\"\"\n",
    "    prefix_re = re.compile(fr'^(?:{ \"|\".join(prefices) })')\n",
    "    for name in logging.root.manager.loggerDict:\n",
    "        if re.match(prefix_re, name):\n",
    "            logging.getLogger(name).setLevel(level)\n",
    "set_global_logging_level(logging.ERROR, [\"datasets\"])\n",
    "\n",
    "\n",
    "CONFIG_MAPPING = {\"t5\": T5Config}\n",
    "MODEL_MAPPING = {\"t5\": T5ForConditionalGeneration}\n",
    "TOKENIZER_MAPPING = {\"t5\": T5Tokenizer}\n",
    "\n",
    "\n",
    "def set_other_seeds(seed):\n",
    "    torch.backends.cudnn.benchmark = False\n",
    "    #torch.backends.cudnn.deterministic = True\n",
    "    os.environ['PYTHONHASHSEED'] = str(seed)\n",
    "\n",
    "# inspired by DefaultDataCollator from:\n",
    "# https://github.com/huggingface/transformers/blob/master/src/transformers/data/data_collator.py\n",
    "# modified to perform batch-level padding.\n",
    "class SequenceCollator:\n",
    "    def __init__(self, model, pad_token):\n",
    "        self.model = model\n",
    "        self.pad_token_mapping = {\n",
    "            \"labels\": -100,\n",
    "            \"attention_mask\": 0,\n",
    "            \"decoder_attention_mask\": 0,\n",
    "            \"input_ids\": pad_token,\n",
    "        }\n",
    "\n",
    "        self.columns = [\n",
    "            \"input_ids\",\n",
    "            \"attention_mask\",\n",
    "            \"labels\",\n",
    "            \"decoder_attention_mask\",\n",
    "        ]\n",
    "\n",
    "    def __call__(self, examples: List[Dict[str, InputDataClass]]) -> Dict[str, torch.Tensor]:\n",
    "        # re-format inputs for training\n",
    "        batch = {}\n",
    "        for key in examples[0].keys():\n",
    "            if key in self.columns:\n",
    "                tmp_list = []\n",
    "                for item in examples:\n",
    "                    tmp_list.append(item[key])\n",
    "\n",
    "                # pad lists to max length\n",
    "                if isinstance(tmp_list[0], list):\n",
    "                    max_length = max(map(len, tmp_list))\n",
    "                    tmp_list = [\n",
    "                        el + [self.pad_token_mapping[key]] * (max_length - len(el))\n",
    "                        for el in tmp_list\n",
    "                    ]\n",
    "\n",
    "                batch[key] = torch.tensor(tmp_list, dtype=torch.long)\n",
    "        return batch\n"
   ]
  },
  {
   "cell_type": "code",
   "execution_count": 3,
   "id": "2fa5a75a",
   "metadata": {},
   "outputs": [],
   "source": [
    "from collections import defaultdict\n",
    "import random\n",
    "\"\"\"\n",
    "Example-to-Feature conversion methods\n",
    "Modified from\n",
    "https://github.com/salesforce/cos-e/blob/master/code/generation/train_commonsenseqa_v1.0.py and \"\"_v1.11.py (identical)\n",
    "as well as Tensorflow code for WTF?: \n",
    "https://github.com/google-research/google-research/blob/master/wt5/wt5/preprocessors.py\n",
    "\"\"\"\n",
    "# This code is based on https://github.com/allenai/label_rationale_association/blob/main/feature_conversion_methods.py\n",
    "\n",
    "unified_qa_esnli_label_mapping = {0: 'yes', 1: 'maybe', 2: 'no'}\n",
    "unified_qa_esnli_label_mapping_upper = {0: 'Yes', 1: 'Maybe', 2: 'No'} \n",
    "wt5_esnli_label_mapping = {0: 'entailment', 1: 'neutral', 2: 'contradiction'} \n",
    "unified_qa_sbic_label_mapping = {\"offensive\": 'Yes', \"not offensive\": 'No'}\n",
    "\n",
    "def format_instance(\n",
    "        example,\n",
    "        tokenizer,\n",
    "        explanation_sep,\n",
    "        max_seq_length=None,\n",
    "        datasource=None,\n",
    "        io_format=None, \n",
    "):\n",
    "    assert datasource in {\"cos_e\", \"esnli\", \"sbic\", \"sensemaking\", \"ecqa\"}\n",
    "\n",
    "    if datasource in [\"cos_e\", \"ecqa\"]:\n",
    "        input_string, answer_string = cqa_formatting(example, io_format, explanation_sep, datasource)\n",
    "    elif datasource == \"esnli\":\n",
    "        input_string, answer_string = esnli_formatting(example, io_format, explanation_sep)\n",
    "    elif datasource == 'sbic':\n",
    "        input_string, answer_string = sbic_formatting(example, io_format, explanation_sep)\n",
    "    elif datasource == 'sensemaking':\n",
    "        input_string, answer_string = sensemaking_formatting(example, io_format, explanation_sep)\n",
    "    else:\n",
    "        raise ValueError(\"Unknown task. Currently supported: esnli, cos_e, sbic, sensemaking, ecqa.\")\n",
    "    \n",
    "    if 'unified' in io_format and 'unifew' not in io_format:\n",
    "        input_string += '</s>'\n",
    "\n",
    "    input_string = ' '.join(input_string.split())\n",
    "    answer_string = ' '.join(answer_string.split())\n",
    "\n",
    "    input_string = ' '.join(input_string.split())\n",
    "    answer_string = ' '.join(answer_string.split())\n",
    "\n",
    "    encodings = tokenizer.encode_plus(\n",
    "        input_string,\n",
    "        max_length=max_seq_length,\n",
    "        pad_to_max_length=False,\n",
    "        return_token_type_ids=False,\n",
    "        return_attention_mask=True,\n",
    "    )\n",
    "\n",
    "\n",
    "    # note even with \"lm_labels.shift_right()\", the decoder attention mask length is still correct since we remove the last token\n",
    "    dec = tokenizer.encode_plus(\n",
    "        answer_string,\n",
    "        max_length=max_seq_length,\n",
    "        pad_to_max_length=False,\n",
    "        return_token_type_ids=False,\n",
    "        return_attention_mask=True,\n",
    "    )\n",
    "\n",
    "    encodings[\"labels\"] = dec[\"input_ids\"]\n",
    "    encodings[\"decoder_attention_mask\"] = dec[\"attention_mask\"]\n",
    "    encodings[\"question_encoding\"] = encodings[\"input_ids\"]\n",
    "\n",
    "    #return encodings\n",
    "    return {**example, **encodings}\n",
    "\n",
    "#这里很简单 定义好输入输出string就可以的\n",
    "def cqa_formatting(item, io_format, explanation_sep, datasource):\n",
    "    question = item[\"question\"]\n",
    "    answer = item[\"answer\"]\n",
    "    abstr_expl = item[\"abstractive_explanation\"].lower() if datasource == 'cos_e' else item[\"explanation\"].lower()\n",
    "\n",
    "\n",
    "    if io_format == 't5_fewshot_infilling_with_choices':\n",
    "        input_string = f\"explain {datasource} question: {question} choice: \" + \" choice: \".join(item[\"choices\"]) + f\" <extra_id_0> {explanation_sep} <extra_id_1>\"\n",
    "        answer_string = f\"<extra_id_0> {answer} <extra_id_1> {abstr_expl} <extra_id_2>\"\n",
    "    elif io_format == 't5_fewshot_infilling_more_natural':\n",
    "        input_string = f\"explain {datasource} question: {question} choice: \" + \" choice: \".join(item[\"choices\"]) + f\" The answer is <extra_id_0> {explanation_sep} <extra_id_1>\"\n",
    "        answer_string = f\"<extra_id_0> {answer} <extra_id_1> {abstr_expl} <extra_id_2>\"\n",
    "    elif io_format == \"squad\": \n",
    "        input_string = f\"explain {datasource} question: {question} context: \" + ', '.join(item['choices']) # explain cos_e question: When getting in shape you need to have this in between workouts? context: give up, period of recovery, jogging\n",
    "        answer_string = f\"{answer} {explanation_sep} {abstr_expl}\" # period of recovery because without a period of recovery you will not get any gains.\n",
    "    elif io_format == \"record\": \n",
    "        # might not work because cos_e doesn't have a passage \n",
    "        input_string = f\"explain {datasource} query: {question} entities: \" + ', '.join(item['choices']) # explain cos_e query: When getting in shape you need to have this in between workouts? entities: give up, period of recovery, jogging\n",
    "        answer_string = f\"{answer} {explanation_sep} {abstr_expl}\" # period of recovery because without a period of recovery you will not get any gains.\n",
    "    elif io_format == 'unifiedqa_matching':\n",
    "        choice_ids = ['(A)', '(B)', '(C)', '(D)', '(E)']\n",
    "        input_string = f'explain {question.lower()} \\\\n'\n",
    "        for choice_id, choice in zip(choice_ids, item[\"choices\"]):\n",
    "            input_string += f' {choice_id} {choice.lower()}'\n",
    "        answer_string = f\"{answer.lower()} {explanation_sep} {abstr_expl.lower()}\"\n",
    "        answer_string = answer_string.lower()\n",
    "    elif io_format == 't5_fewshot_infilling_without_choices_use_refined_expl':\n",
    "        input_string = f\"explain {datasource} question: {question} choice: \" + \" choice: \".join(item[\"choices\"]) + f\" <extra_id_0> {explanation_sep} <extra_id_1>\"\n",
    "        input_string = f\"explain {datasource} question: {question} answer: {answer}\" + f\" {explanation_sep} <extra_id_0>\"\n",
    "        answer_string = f\"<extra_id_0> {item['our_explanation']} <extra_id_1>\"\n",
    "\n",
    "    else:\n",
    "        raise ValueError(\"The IO format is not supported. Choose `standard` or `masked_cause_generate`.\")\n",
    "    \n",
    "    return input_string, answer_string\n",
    "\n",
    "\n",
    "def esnli_formatting(item, io_format, explanation_sep):\n",
    "\n",
    "    premise = item[\"premise\"]\n",
    "    hypothesis = item[\"hypothesis\"]\n",
    "    answer = unified_qa_esnli_label_mapping[item[\"label\"]] if 'unified' in io_format else wt5_esnli_label_mapping[item[\"label\"]]\n",
    "    abstr_expl = item[\"explanation_1\"].lower() \n",
    "    # Dev/test instances have more than one explanation annotated; merge them into one sequence separated by [SEP] \n",
    "    for k in [2,3]:\n",
    "        if f\"explanation_{k}\" in item and item[f'explanation_{k}']!='': \n",
    "            abstr_expl += f\" [SEP] {item[f'explanation_{k}'].lower()}\"\n",
    "\n",
    "    if io_format == 'standard':\n",
    "        input_string = f\"explain nli hypothesis: {hypothesis} premise: {premise}\"\n",
    "        answer_string = f\"{answer} {explanation_sep} {abstr_expl}\"\n",
    "    elif io_format == 't5_fewshot_infilling':\n",
    "        input_string = f\"explain nli hypothesis: {hypothesis} premise: {premise} <extra_id_0> {explanation_sep} <extra_id_1>\"\n",
    "        answer_string = f\"<extra_id_0> {answer} <extra_id_1> {abstr_expl} <extra_id_2>\"\n",
    "    elif io_format == 't5_fewshot_infilling_more_natural':\n",
    "        input_string = f\"explain nli hypothesis: {hypothesis} premise: {premise} This is <extra_id_0> {explanation_sep} <extra_id_1>\"\n",
    "        answer_string = f\"<extra_id_0> {answer} <extra_id_1> {abstr_expl} <extra_id_2>\"\n",
    "    elif io_format == \"squad\": \n",
    "        input_string = f\"explain nli question: Is this entailment? context: {hypothesis} {premise}\"  \n",
    "        answer_ynm = unified_qa_esnli_label_mapping[item[\"label\"]]\n",
    "        answer_string = f\"{answer_ynm} {explanation_sep} {abstr_expl}\" \n",
    "    elif io_format == \"squad_endswith_what\":\n",
    "        input_string = f\"explain nli question: What is this? context: {hypothesis} {premise}\"  \n",
    "        answer_string = f\"{answer} {explanation_sep} {abstr_expl}\"  \n",
    "    elif io_format == \"squad_nli_mix\": \n",
    "        input_string = f\"explain nli question: Is this entailment? context: hypothesis: {hypothesis} premise: {premise}\"  \n",
    "        answer_ynm = unified_qa_esnli_label_mapping[item[\"label\"]]\n",
    "        answer_string = f\"{answer_ynm} {explanation_sep} {abstr_expl}\"  \n",
    "    elif io_format == \"squad_nli_mix_endswith_what\":  \n",
    "        input_string = f\"explain nli question: What is this? context: hypothesis: {hypothesis} premise: {premise}\"  \n",
    "        answer_string = f\"{answer} {explanation_sep} {abstr_expl}\"   \n",
    "    elif io_format == 'unifiedqa_unifew':\n",
    "        hypothesis = hypothesis.lower().rstrip('.')\n",
    "        unified_qa_esnli_label_mapping_upper = {0: 'Yes', 1: 'Maybe', 2: 'No'}\n",
    "        answer = unified_qa_esnli_label_mapping_upper[item[\"label\"]]\n",
    "        input_string = f'explain {premise} Is {hypothesis}? \\\\n (A) Yes (B) Maybe (C) No'\n",
    "        answer_string = f\"{answer} {explanation_sep} {abstr_expl}\"  \n",
    "    elif io_format == 'unifiedqa_unifew_nli_mix':\n",
    "        premise = premise.lower().rstrip('.')\n",
    "        unified_qa_esnli_label_mapping_upper = {0: 'Yes', 1: 'Maybe', 2: 'No'}\n",
    "        input_string = f'explain hypothesis: {hypothesis} Is premise: {premise}? \\\\n (A) Yes (B) Maybe (C) No'\n",
    "        answer_string = f\"{answer} {explanation_sep} {abstr_expl}\"  \n",
    "    elif io_format == 'unifiedqa_ynm': \n",
    "        input_string = f'explain is this entailment? \\\\n {hypothesis.lower()} {premise.lower()}'  \n",
    "        answer = unified_qa_esnli_label_mapping[item[\"label\"]]\n",
    "        answer_string = f\"{answer} {explanation_sep} {abstr_expl.lower()}\"  \n",
    "    elif io_format == 'unifiedqa_snli_mix_ynm': \n",
    "        input_string = f'explain is this entailment? \\\\n hypothesis: {hypothesis.lower()} premise: {premise.lower()}' \n",
    "        answer = unified_qa_esnli_label_mapping[item[\"label\"]]\n",
    "        answer_string = f\"{answer} {explanation_sep} {abstr_expl.lower()}\"  \n",
    "    elif io_format == 'unifiedqa_snli_mix_ynm_with_choices': \n",
    "        input_string = f'explain is this entailment? \\\\n (A) yes (B) maybe (C) no \\\\n hypothesis: {hypothesis.lower()} premise: {premise.lower()}'  \n",
    "        answer = unified_qa_esnli_label_mapping[item[\"label\"]]\n",
    "        answer_string = f\"{answer} {explanation_sep} {abstr_expl.lower()}\"  \n",
    "    elif io_format == 'unifiedqa_what_v2': \n",
    "        input_string = f'explain what is this? \\\\n {hypothesis.lower()} {premise.lower()}'  \n",
    "        answer = wt5_esnli_label_mapping[item[\"label\"]]\n",
    "        answer_string = f\"{answer} {explanation_sep} {abstr_expl.lower()}\"  \n",
    "    elif io_format == 'unifiedqa_snli_mix_what_v2': \n",
    "        input_string = f'explain what is this? \\\\n hypothesis: {hypothesis.lower()} premise: {premise.lower()}'  \n",
    "        answer = wt5_esnli_label_mapping[item[\"label\"]]\n",
    "        answer_string = f\"{answer} {explanation_sep} {abstr_expl.lower()}\"  \n",
    "    elif io_format == 'unifiedqa_snli_mix_what_with_choices_v2': \n",
    "        input_string = f'explain what is this? \\\\n (A) entailment (B) neutral (C) contradiction \\\\n hypothesis: {hypothesis.lower()} premise: {premise.lower()}'  \n",
    "        answer = wt5_esnli_label_mapping[item[\"label\"]]\n",
    "        answer_string = f\"{answer} {explanation_sep} {abstr_expl.lower()}\"     \n",
    "    else:\n",
    "        raise ValueError(\"The IO format is not supported.\")\n",
    "\n",
    "    return input_string, answer_string\n",
    "\n",
    "\n",
    "def sbic_formatting(item, io_format, explanation_sep):\n",
    "    # We pre-processed the SBIC dataset such that we join multiple implied statements with the [SEP] token for dev/test instances \n",
    "    # Each annotation in the training split is a separate instance\n",
    "    post = item['post']\n",
    "    answer = unified_qa_sbic_label_mapping[item[\"offensiveYN\"]] if 'unified' in io_format else item[\"offensiveYN\"].replace(\"not offensive\", \"not_offensive\")\n",
    "    abstr_expl = item[\"targetStereotype\"]\n",
    "    \n",
    "\n",
    "    if io_format == 'cola':\n",
    "        input_string = f\"explain sbic sentence: {post}\"\n",
    "        answer_string = f\"{answer} {explanation_sep} {abstr_expl}\"  \n",
    "    elif io_format == 't5_fewshot_infilling':\n",
    "        input_string = f\"explain sbic sentence: {post} <extra_id_0> {explanation_sep} <extra_id_1>\"\n",
    "        answer_string = f\"<extra_id_0> {answer} <extra_id_1> {abstr_expl} <extra_id_2>\"\n",
    "    elif io_format == 't5_fewshot_infilling_bool':\n",
    "        answer_bool = 'True' if item[\"offensiveYN\"] == 'offensive' else 'False'\n",
    "        input_string = f\"explain sbic sentence: {post} It is <extra_id_0> that this is offensive {explanation_sep} <extra_id_1>\"\n",
    "        answer_string = f\"<extra_id_0> {answer} <extra_id_1> {abstr_expl} <extra_id_2>\"\n",
    "    elif io_format == 't5_fewshot_infilling_more_natural':\n",
    "        input_string = f\"explain sbic sentence: {post} This is <extra_id_0> {explanation_sep} <extra_id_1>\"\n",
    "        answer_string = f\"<extra_id_0> {answer} <extra_id_1> {abstr_expl} <extra_id_2>\"\n",
    "    elif io_format == 'squad_yn': \n",
    "        input_string = f\"explain sbic question: Is this offensive? context: {post}\" # explain sbic question: Is this offensive? context: It's only happened to you like two times.\n",
    "        answer_yn = unified_qa_sbic_label_mapping[item[\"offensiveYN\"]] \n",
    "        answer_string = f\"{answer_yn} {explanation_sep} {abstr_expl}\" #  No because this post does not imply anything offensive\n",
    "    elif io_format == 'squad_yn_with_tags': \n",
    "        input_string = f\"explain sbic question: Is this offensive? context: post: {post}\" # explain sbic question: Is this offensive? context: It's only happened to you like two times.\n",
    "        answer_yn = unified_qa_sbic_label_mapping[item[\"offensiveYN\"]] \n",
    "        answer_string = f\"{answer_yn} {explanation_sep} {abstr_expl}\" #  No because this post does not imply anything offensive\n",
    "    elif io_format == 'squad_what': \n",
    "        input_string = f\"explain sbic question: What is this? context: {post}\" # explain sbic question: This is what? context: It's only happened to you like two times.\n",
    "        answer = item[\"offensiveYN\"].replace(\"not offensive\", \"not_offensive\")        \n",
    "        answer_string = f\"{answer} {explanation_sep} {abstr_expl}\" # not_offensive because this post does not imply anything offensive    \n",
    "    elif io_format == 'squad_what_with_tags': \n",
    "        input_string = f\"explain sbic question: What is this? context: post: {post}\" # explain sbic question: This is what? context: It's only happened to you like two times.\n",
    "        answer = item[\"offensiveYN\"].replace(\"not offensive\", \"not_offensive\")        \n",
    "        answer_string = f\"{answer} {explanation_sep} {abstr_expl}\" # not_offensive because this post does not imply anything offensive    \n",
    "    elif io_format == 'unified_qa_yn':\n",
    "        input_string = f'explain is this offensive? \\\\n {post.lower()}'\n",
    "        answer_string = f\"{answer} {explanation_sep} {abstr_expl.lower()}\" \n",
    "    elif io_format == 'unified_qa_yn_with_tags':\n",
    "        input_string = f'explain is this offensive? \\\\n post: {post.lower()}'\n",
    "        answer_string = f\"{answer} {explanation_sep} {abstr_expl.lower()}\"  \n",
    "    elif io_format == 'unified_qa_yn_with_choices':\n",
    "        input_string = f'explain is this offensive? \\\\n (A) yes (B) no \\\\n {post.lower()}'\n",
    "        answer_string = f\"{answer} {explanation_sep} {abstr_expl.lower()}\"\n",
    "    elif io_format == 'unified_qa_yn_with_choices_and_tags':\n",
    "        input_string = f'explain is this offensive? \\\\n (A) yes (B) no \\\\n post: {post.lower()}'\n",
    "        answer_string = f\"{answer} {explanation_sep} {abstr_expl.lower()}\"  \n",
    "    elif io_format == 'unified_qa_what':\n",
    "        input_string = f'explain what is this? \\\\n {post.lower()}'\n",
    "        answer = item[\"offensiveYN\"].replace(\"not offensive\", \"not_offensive\")\n",
    "        answer_string = f\"{answer} {explanation_sep} {abstr_expl.lower()}\"  \n",
    "    elif io_format == 'unified_qa_what_with_tags':\n",
    "        input_string = f'explain what is this? \\\\n post: {post.lower()}'\n",
    "        answer = item[\"offensiveYN\"].replace(\"not offensive\", \"not_offensive\")\n",
    "        answer_string = f\"{answer} {explanation_sep} {abstr_expl.lower()}\"  \n",
    "    elif io_format == 'unified_qa_what_with_choices':\n",
    "        input_string = f'explain what is this? \\\\n (A) offensive (B) not_offensive \\\\n {post.lower()}'\n",
    "        answer = item[\"offensiveYN\"].replace(\"not offensive\", \"not_offensive\")\n",
    "        answer_string = f\"{answer} {explanation_sep} {abstr_expl.lower()}\"\n",
    "    elif io_format == 'unified_qa_what_with_choices_and_tags':\n",
    "        input_string = f'explain what is this? \\\\n (A) offensive (B) not_offensive \\\\n post: {post.lower()}'\n",
    "        answer = item[\"offensiveYN\"].replace(\"not offensive\", \"not_offensive\")\n",
    "        answer_string = f\"{answer} {explanation_sep} {abstr_expl.lower()}\"  \n",
    "    elif io_format == 'unifiedqa_unifew':\n",
    "        input_string = f\"Topic? \\\\n (A) offensive (B) not_offensive \\\\n {post}\"\n",
    "        answer = item[\"offensiveYN\"].replace(\"not offensive\", \"not_offensive\")\n",
    "        answer_string = f\"{answer} {explanation_sep} {abstr_expl}\"\n",
    "    else:\n",
    "        raise ValueError(\"The IO format is not supported. Choose `standard` or `masked_cause_generate`.\")\n",
    "\n",
    "    input_string = ' '.join(input_string.split())\n",
    "    answer_string = ' '.join(answer_string.split())\n",
    "    return input_string, answer_string\n",
    "\n",
    "def sensemaking_formatting(item, io_format, explanation_sep):\n",
    "    # TODO: explore whether removing periods makes difference? \n",
    "    sent0 = item['sent0']\n",
    "    sent1 = item['sent1']\n",
    "    nonsensical_sentence = str(int(item['label'])+1)\n",
    "    explanation = item['explanation'].lower()\n",
    "\n",
    "    if io_format == 'copa_with_question':\n",
    "        input_string = f\"explain sensemaking choice1: {sent0} choice2: {sent1} question: nonsensical\"\n",
    "        answer_string = f\"choice{nonsensical_sentence} {explanation_sep} {explanation}\"\n",
    "    elif io_format == 'copa_bool':  \n",
    "        answer_bool = str(bool(int(item['label']))) # True if choice2 is more nonsensical    \n",
    "        input_string = f\"explain sensemaking choice1: {sent0} choice2: {sent1} Less common is choice2\"\n",
    "        answer_string = f\"{answer_bool} {explanation_sep} {explanation}\"\n",
    "    elif io_format == 't5_fewshot_infilling':  \n",
    "        input_string = f\"explain sensemaking choice1: {sent0} choice2: {sent1} <extra_id_0> {explanation_sep} <extra_id_1>\"\n",
    "        answer_string = f\"<extra_id_0> choice{nonsensical_sentence} <extra_id_1> {explanation} <extra_id_2>\"\n",
    "    elif io_format == 't5_fewshot_infilling_bool':  \n",
    "        answer_bool = str(bool(int(item['label']))) # True if choice2 is more nonsensical    \n",
    "        input_string = f\"explain sensemaking choice1: {sent0} choice2: {sent1} It is <extra_id_0> that choice2 is less common {explanation_sep} <extra_id_1>\"\n",
    "        answer_string = f\"<extra_id_0> {answer_bool} <extra_id_1> {explanation} <extra_id_2>\"\n",
    "    elif io_format == \"squad_yn\": \n",
    "        input_string = f\"explain sensemaking question: Is choice2 more nonsensical? context: choice1: {sent0} choice2: {sent1}\" # explain sensemaking question: What is nonsensical, choice1 or choice2? context: choice1: All state flowers are the scarlet carnation. choice2: The New Jersey state flower is the scarlet carnation\n",
    "        answer = \"Yes\" if bool(int(item['label'])) else \"No\"\n",
    "        answer_string = f\"{answer} {explanation_sep} {explanation}\" #  choice1 because state flowers are unique to each state.  \n",
    "    elif io_format == \"squad_yn_no_tags\": \n",
    "        input_string = f\"explain sensemaking question: Is choice2 more nonsensical? context: {sent0} {sent1}\" # explain sensemaking question: What is nonsensical, choice1 or choice2? context: choice1: All state flowers are the scarlet carnation. choice2: The New Jersey state flower is the scarlet carnation\n",
    "        answer = \"Yes\" if bool(int(item['label'])) else \"No\"\n",
    "        answer_string = f\"{answer} {explanation_sep} {explanation}\" #  choice1 because state flowers are unique to each state.  \n",
    "    elif io_format == \"squad_what\": \n",
    "        input_string = f\"explain sensemaking question: What is more nonsensical? context: choice1: {sent0} choice2: {sent1}\" # explain sensemaking question: What is nonsensical, choice1 or choice2? context: choice1: All state flowers are the scarlet carnation. choice2: The New Jersey state flower is the scarlet carnation\n",
    "        answer_string = f\"choice{nonsensical_sentence} {explanation_sep} {explanation}\" #  choice1 because state flowers are unique to each state.  \n",
    "    elif io_format == \"squad_what_no_tags\": \n",
    "        input_string = f\"explain sensemaking question: What is more nonsensical? context: {sent0} {sent1}\" # explain sensemaking question: What is nonsensical, choice1 or choice2? context: choice1: All state flowers are the scarlet carnation. choice2: The New Jersey state flower is the scarlet carnation\n",
    "        answer_string = f\"choice{nonsensical_sentence} {explanation_sep} {explanation}\" #  choice1 because state flowers are unique to each state.  \n",
    "    elif io_format == \"record\": \n",
    "        input_string = f\"explain sensemaking query: What is more nonsensical? entities: choice1, choice2 passage: choice1: {sent0} choice2: {sent1}\" # explain sensemaking query: What is nonsensical? entities: choice1, choice2 passage: choice1: All state flowers are the scarlet carnation. choice2: The New Jersey state flower is the scarlet carnation.\n",
    "        answer_string = f\"choice{nonsensical_sentence} {explanation_sep} {explanation}\" # choice1 because state flowers are unique to each state.\n",
    "    elif io_format == 'unifiedqa_yn_with_choices':\n",
    "        answer = \"yes\" if bool(int(item['label'])) else \"no\"\n",
    "        input_string = f'explain is choice2 more nonsensical? \\\\n (A) yes (B) no \\\\n choice1: {sent0.lower()} choice2: {sent1.lower()}'\n",
    "        answer_string = f\"{answer} {explanation_sep} {explanation.lower()}\" \n",
    "    elif io_format == 'unifiedqa_yn':\n",
    "        answer = \"yes\" if bool(int(item['label'])) else \"no\"\n",
    "        input_string = f'explain is choice2 more nonsensical? \\\\n choice1: {sent0.lower()} choice2: {sent1.lower()}'\n",
    "        answer_string = f\"{answer} {explanation_sep} {explanation.lower()}\"  \n",
    "    elif io_format == 'unifiedqa_yn_no_tags':\n",
    "        answer = \"yes\" if bool(int(item['label'])) else \"no\"\n",
    "        input_string = f'explain is choice2 more nonsensical? \\\\n {sent0.lower()} {sent1.lower()}'\n",
    "        answer_string = f\"{answer} {explanation_sep} {explanation.lower()}\"  \n",
    "    elif io_format == 'unifiedqa_what_with_choices':\n",
    "        nonsensical_sentence = str(int(item['label'])+1)\n",
    "        input_string = f'explain what is more nonsensical? \\\\n (A) choice1 (B) choice2 \\\\n choice1: {sent0.lower()} choice2: {sent1.lower()}'\n",
    "        answer_string = f\"choice{nonsensical_sentence} {explanation_sep} {explanation.lower()}\"  # use \" BECAUSE \"\n",
    "    elif io_format == 'unifiedqa_what':\n",
    "        nonsensical_sentence = str(int(item['label'])+1)\n",
    "        input_string = f'explain what is more nonsensical? \\\\n choice1: {sent0.lower()} choice2: {sent1.lower()}'\n",
    "        answer_string = f\"choice{nonsensical_sentence} {explanation_sep} {explanation.lower()}\"  # use \" BECAUSE \"\n",
    "    elif io_format == 'unifiedqa_what_no_tags':\n",
    "        nonsensical_sentence = str(int(item['label'])+1)\n",
    "        input_string = f'explain what is more nonsensical? \\\\n {sent0.lower()} {sent1.lower()}'\n",
    "        answer_string = f\"choice{nonsensical_sentence} {explanation_sep} {explanation.lower()}\"  # use \" BECAUSE \"\n",
    "\n",
    "\n",
    "    input_string = ' '.join(input_string.split())\n",
    "    answer_string = ' '.join(answer_string.split())\n",
    "    return input_string, answer_string"
   ]
  },
  {
   "cell_type": "code",
   "execution_count": 4,
   "id": "dde6c7e1",
   "metadata": {},
   "outputs": [
    {
     "name": "stderr",
     "output_type": "stream",
     "text": [
      "PyTorch: setting up devices\n",
      "The default value for the training argument `--report_to` will change in v5 (from all installed integrations to none). In v5, you will need to use `--report_to all` to get the same behavior as now. You should start updating your code and make this info disappear :-).\n",
      "01/04/2023 15:46:13 - WARNING - __main__ -   Process rank: -1, device: cpu, n_gpu: 0, distributed training: False, 16-bits training: False\n",
      "01/04/2023 15:46:13 - INFO - __main__ -   Save path: ./cos_e_output_t5_3b/010423_154613\n",
      "01/04/2023 15:46:13 - INFO - __main__ -   Git branch: dev\n",
      "01/04/2023 15:46:13 - INFO - __main__ -   Git hash: 1cbb5c3b4e53baf31cbafc20d9655c63f091f901\n"
     ]
    }
   ],
   "source": [
    "og_start_time = time.time()\n",
    "\n",
    "#parser = HfArgumentParser(\n",
    "#    (ModelArguments, DataTrainingArguments, TrainingArguments)\n",
    "#)\n",
    "parser = HfArgumentParser(\n",
    "    (ModelArguments, DataTrainingArguments, TrainingArguments)\n",
    ")\n",
    "\n",
    "model_args, data_args, training_args, unused_args = parser.parse_args_into_dataclasses(\n",
    "    [\"--model_type\", \"t5-3b\",\n",
    "     \"--tokenizer_name\", \"t5-3b\",\n",
    "     \"--task_name\", \"cos_e\", \n",
    "     \"--output_dir\", \"./cos_e_output_t5_3b\", \n",
    "     \"--n_shots\", \"10\",\n",
    "     \"--do_train\", \"True\"], return_remaining_strings=True)\n",
    "if unused_args != []:\n",
    "    raise ValueError(f\"Received unused arguments: {unused_args}\")\n",
    "# make sure only one dataset split pick if manually specifying evaluation file\n",
    "\n",
    "if model_args.use_gpt3:\n",
    "    assert training_args.do_train\n",
    "    assert not training_args.do_eval\n",
    "    assert data_args.generations_filepath is None\n",
    "    if data_args.gpt3_max_eval_size is not None:\n",
    "        assert data_args.gpt3_max_eval_size <= data_args.fewshot_eval_size\n",
    "        assert data_args.gpt3_max_eval_size % 2 == 0\n",
    "        assert data_args.gpt3_max_eval_size % 3 == 0\n",
    "\n",
    "if data_args.generations_filepath is not None:\n",
    "    training_args.do_train = False\n",
    "    training_args.do_eval = False\n",
    "    if \"train\" in data_args.generations_filepath:\n",
    "        data_args.train_predict = True\n",
    "        data_args.test_predict = False\n",
    "        data_args.dev_predict = False\n",
    "    elif \"test\" in data_args.generations_filepath:\n",
    "        data_args.train_predict = False\n",
    "        data_args.test_predict = True\n",
    "        data_args.dev_predict = False\n",
    "    elif \"validation\" in data_args.generations_filepath:\n",
    "        data_args.train_predict = False\n",
    "        data_args.test_predict = False\n",
    "        data_args.dev_predict = True\n",
    "\n",
    "if not training_args.do_train and data_args.generations_filepath is None:\n",
    "    if not model_args.pretrained_model_file:\n",
    "        raise Exception(\n",
    "            \"if not training a model from scratch, must specify a trained model to load for evaluation\"\n",
    "        )\n",
    "\n",
    "if training_args.do_train:\n",
    "    # create a save directory and a logfile\n",
    "    training_args.output_dir = os.path.join(\n",
    "        training_args.output_dir, datetime.now().strftime(\"%m%d%y_%H%M%S\")\n",
    "    )\n",
    "    training_args.logging_dir = training_args.output_dir\n",
    "    assert not os.path.exists(training_args.output_dir)\n",
    "    os.makedirs(training_args.output_dir)\n",
    "\n",
    "    if (\n",
    "            os.path.exists(training_args.output_dir)\n",
    "            and os.listdir(training_args.output_dir)\n",
    "            and training_args.do_train\n",
    "            and not training_args.overwrite_output_dir\n",
    "    ):\n",
    "        raise ValueError(\n",
    "            f\"Output directory ({training_args.output_dir}) already exists and is not empty. Use --overwrite_output_dir to overcome.\"\n",
    "        )\n",
    "    handlers = [\n",
    "        logging.FileHandler(os.path.join(training_args.output_dir, \"logger.log\")),\n",
    "        logging.StreamHandler(),\n",
    "    ]\n",
    "else:\n",
    "    # don't overwrite existing logfile or create new directory\n",
    "    training_args.output_dir = model_args.pretrained_model_file\n",
    "    handlers = [logging.StreamHandler()]\n",
    "\n",
    "# Setup logging\n",
    "logging.basicConfig(\n",
    "    format=\"%(asctime)s - %(levelname)s - %(name)s -   %(message)s\",\n",
    "    datefmt=\"%m/%d/%Y %H:%M:%S\",\n",
    "    level=logging.INFO if training_args.local_rank in [-1, 0] else logging.WARN,\n",
    "    handlers=handlers,\n",
    ")\n",
    "logger.warning(\n",
    "    \"Process rank: %s, device: %s, n_gpu: %s, distributed training: %s, 16-bits training: %s\",\n",
    "    training_args.local_rank,\n",
    "    training_args.device,\n",
    "    training_args.n_gpu,\n",
    "    bool(training_args.local_rank != -1),\n",
    "    training_args.fp16,\n",
    ")\n",
    "logger.info(\"Save path: %s\" % training_args.output_dir)\n",
    "\n",
    "# get git hash and branch where deployed\n",
    "repo = git.Repo(search_parent_directories=True)\n",
    "git_hash = repo.head.object.hexsha\n",
    "git_branch = repo.active_branch.name\n",
    "logger.info(\"Git branch: %s\" % git_branch)\n",
    "logger.info(\"Git hash: %s\" % git_hash)\n",
    "\n",
    "model_class = \"t5\"\n",
    "assert data_args.task_name in {\"cos_e\", \"esnli\", \"sbic\", \"sensemaking\", \"ecqa\"}\n",
    "\n",
    "if training_args.do_train:\n",
    "    # write command and args to file\n",
    "    with open(\n",
    "            os.path.join(training_args.output_dir, \"commandline_args.txt\"), \"w\"\n",
    "    ) as f:\n",
    "        f.write(\"Git branch: \" + git_branch + \"\\n\")\n",
    "        f.write(\"Git hash: \" + git_hash + \"\\n\")\n",
    "        f.write(\"Command:\\n\")\n",
    "        f.write(\"\\n\".join(sys.argv[1:]))\n",
    "\n",
    "# Set seed\n",
    "set_seed(training_args.seed)\n",
    "set_other_seeds(training_args.seed)\n",
    "\n",
    "# Load pretrained model and tokenizer\n",
    "#\n",
    "# Distributed training:\n",
    "# The .from_pretrained methods guarantee that only one local process can concurrently\n",
    "# download model & vocab."
   ]
  },
  {
   "cell_type": "code",
   "execution_count": 5,
   "id": "684646b4",
   "metadata": {},
   "outputs": [
    {
     "data": {
      "text/plain": [
       "device(type='cpu')"
      ]
     },
     "execution_count": 5,
     "metadata": {},
     "output_type": "execute_result"
    }
   ],
   "source": [
    "training_args.device"
   ]
  },
  {
   "cell_type": "code",
   "execution_count": 9,
   "id": "18a3172a",
   "metadata": {},
   "outputs": [
    {
     "name": "stderr",
     "output_type": "stream",
     "text": [
      "01/04/2023 16:37:46 - INFO - __main__ -   Loading pretrained tokenizer...\n",
      "loading file https://huggingface.co/t5-3b/resolve/main/spiece.model from cache at /home/huangyongfeng/.cache/huggingface/transformers/529487bfb232bc6331b488e0e3f011af7d700beb874529a38613f0c162994f36.3b69006860e7b5d0a63ffdddc01ddcd6b7c318a6f4fd793596552c741734c62d\n",
      "loading file https://huggingface.co/t5-3b/resolve/main/added_tokens.json from cache at None\n",
      "loading file https://huggingface.co/t5-3b/resolve/main/special_tokens_map.json from cache at None\n",
      "loading file https://huggingface.co/t5-3b/resolve/main/tokenizer_config.json from cache at None\n",
      "loading file https://huggingface.co/t5-3b/resolve/main/tokenizer.json from cache at /home/huangyongfeng/.cache/huggingface/transformers/8cc0c6618e070737993bd96f1f5251e1cc850a347fa1ff28c378c89c66e66c80.8627f1bd5d270a9fd2e5a51c8bec3223896587cc3cfe13edeabb0992ab43c529\n",
      "loading configuration file https://huggingface.co/t5-3b/resolve/main/config.json from cache at /home/huangyongfeng/.cache/huggingface/transformers/9548aafe2574163cda830b603f9821f06bbded327f57ecf09d4ad292d00f4b09.9872b28381f35eb45b1f1f839ef14943e64a0a448f611993c2e987c4d3e0844c\n",
      "Model config T5Config {\n",
      "  \"architectures\": [\n",
      "    \"T5WithLMHeadModel\"\n",
      "  ],\n",
      "  \"d_ff\": 16384,\n",
      "  \"d_kv\": 128,\n",
      "  \"d_model\": 1024,\n",
      "  \"decoder_start_token_id\": 0,\n",
      "  \"dropout_rate\": 0.1,\n",
      "  \"eos_token_id\": 1,\n",
      "  \"feed_forward_proj\": \"relu\",\n",
      "  \"gradient_checkpointing\": false,\n",
      "  \"initializer_factor\": 1.0,\n",
      "  \"is_encoder_decoder\": true,\n",
      "  \"layer_norm_epsilon\": 1e-06,\n",
      "  \"model_type\": \"t5\",\n",
      "  \"n_positions\": 512,\n",
      "  \"num_decoder_layers\": 24,\n",
      "  \"num_heads\": 32,\n",
      "  \"num_layers\": 24,\n",
      "  \"output_past\": true,\n",
      "  \"pad_token_id\": 0,\n",
      "  \"relative_attention_num_buckets\": 32,\n",
      "  \"task_specific_params\": {\n",
      "    \"summarization\": {\n",
      "      \"early_stopping\": true,\n",
      "      \"length_penalty\": 2.0,\n",
      "      \"max_length\": 200,\n",
      "      \"min_length\": 30,\n",
      "      \"no_repeat_ngram_size\": 3,\n",
      "      \"num_beams\": 4,\n",
      "      \"prefix\": \"summarize: \"\n",
      "    },\n",
      "    \"translation_en_to_de\": {\n",
      "      \"early_stopping\": true,\n",
      "      \"max_length\": 300,\n",
      "      \"num_beams\": 4,\n",
      "      \"prefix\": \"translate English to German: \"\n",
      "    },\n",
      "    \"translation_en_to_fr\": {\n",
      "      \"early_stopping\": true,\n",
      "      \"max_length\": 300,\n",
      "      \"num_beams\": 4,\n",
      "      \"prefix\": \"translate English to French: \"\n",
      "    },\n",
      "    \"translation_en_to_ro\": {\n",
      "      \"early_stopping\": true,\n",
      "      \"max_length\": 300,\n",
      "      \"num_beams\": 4,\n",
      "      \"prefix\": \"translate English to Romanian: \"\n",
      "    }\n",
      "  },\n",
      "  \"transformers_version\": \"4.9.2\",\n",
      "  \"use_cache\": true,\n",
      "  \"vocab_size\": 32128\n",
      "}\n",
      "\n",
      "loading configuration file https://huggingface.co/t5-3b/resolve/main/config.json from cache at /home/huangyongfeng/.cache/huggingface/transformers/9548aafe2574163cda830b603f9821f06bbded327f57ecf09d4ad292d00f4b09.9872b28381f35eb45b1f1f839ef14943e64a0a448f611993c2e987c4d3e0844c\n",
      "Model config T5Config {\n",
      "  \"architectures\": [\n",
      "    \"T5WithLMHeadModel\"\n",
      "  ],\n",
      "  \"d_ff\": 16384,\n",
      "  \"d_kv\": 128,\n",
      "  \"d_model\": 1024,\n",
      "  \"decoder_start_token_id\": 0,\n",
      "  \"dropout_rate\": 0.1,\n",
      "  \"eos_token_id\": 1,\n",
      "  \"feed_forward_proj\": \"relu\",\n",
      "  \"gradient_checkpointing\": false,\n",
      "  \"initializer_factor\": 1.0,\n",
      "  \"is_encoder_decoder\": true,\n",
      "  \"layer_norm_epsilon\": 1e-06,\n",
      "  \"model_type\": \"t5\",\n",
      "  \"n_positions\": 512,\n",
      "  \"num_decoder_layers\": 24,\n",
      "  \"num_heads\": 32,\n",
      "  \"num_layers\": 24,\n",
      "  \"output_past\": true,\n",
      "  \"pad_token_id\": 0,\n",
      "  \"relative_attention_num_buckets\": 32,\n",
      "  \"task_specific_params\": {\n",
      "    \"summarization\": {\n",
      "      \"early_stopping\": true,\n",
      "      \"length_penalty\": 2.0,\n",
      "      \"max_length\": 200,\n",
      "      \"min_length\": 30,\n",
      "      \"no_repeat_ngram_size\": 3,\n",
      "      \"num_beams\": 4,\n",
      "      \"prefix\": \"summarize: \"\n",
      "    },\n",
      "    \"translation_en_to_de\": {\n",
      "      \"early_stopping\": true,\n",
      "      \"max_length\": 300,\n",
      "      \"num_beams\": 4,\n",
      "      \"prefix\": \"translate English to German: \"\n",
      "    },\n",
      "    \"translation_en_to_fr\": {\n",
      "      \"early_stopping\": true,\n",
      "      \"max_length\": 300,\n",
      "      \"num_beams\": 4,\n",
      "      \"prefix\": \"translate English to French: \"\n",
      "    },\n",
      "    \"translation_en_to_ro\": {\n",
      "      \"early_stopping\": true,\n",
      "      \"max_length\": 300,\n",
      "      \"num_beams\": 4,\n",
      "      \"prefix\": \"translate English to Romanian: \"\n",
      "    }\n",
      "  },\n",
      "  \"transformers_version\": \"4.9.2\",\n",
      "  \"use_cache\": true,\n",
      "  \"vocab_size\": 32128\n",
      "}\n",
      "\n",
      "loading weights file https://huggingface.co/t5-3b/resolve/main/pytorch_model.bin from cache at /home/huangyongfeng/.cache/huggingface/transformers/289687014f876f6cef27445bdc8175fd03dc36a99201b68d8e925957e4987b4f.885f97e8ec826518534b45f8b52caea4ca553494390d587dcf49492d95732676\n",
      "All model checkpoint weights were used when initializing T5ForConditionalGeneration.\n",
      "\n",
      "All the weights of T5ForConditionalGeneration were initialized from the model checkpoint at t5-3b.\n",
      "If your task is similar to the task the model of the checkpoint was trained on, you can already use T5ForConditionalGeneration for predictions without further training.\n"
     ]
    }
   ],
   "source": [
    "import logging\n",
    "logger = logging.getLogger(__name__)\n",
    "CONFIG_MAPPING = {\"t5\": T5Config}\n",
    "MODEL_MAPPING = {\"t5\": T5ForConditionalGeneration}\n",
    "TOKENIZER_MAPPING = {\"t5\": T5Tokenizer}\n",
    "model_class = \"t5\"\n",
    "tokenizer_name = TOKENIZER_MAPPING[model_class]\n",
    "logger.info(\"Loading pretrained tokenizer...\")\n",
    "model_args.tokenizer_name='t5-3b'\n",
    "tokenizer = tokenizer_name.from_pretrained(model_args.tokenizer_name)#, cache_dir=model_args.cache_dir)\n",
    "\n",
    "model = T5ForConditionalGeneration.from_pretrained(\"t5-3b\")"
   ]
  },
  {
   "cell_type": "code",
   "execution_count": 10,
   "id": "62eef1a8",
   "metadata": {},
   "outputs": [
    {
     "data": {
      "text/plain": [
       "DataTrainingArguments(task_name='cos_e', early_stopping_patience=10, overwrite_cache=False, train_predict=False, test_predict=False, dev_predict=False, version_name='v1.11', generations_filepath=None, n_shots=10, fewshot_eval_size=350, io_format='t5_fewshot_infilling_without_choices_use_refined_expl', explanation_sep='explanation', data_path=None, gpt3_max_eval_size=None)"
      ]
     },
     "execution_count": 10,
     "metadata": {},
     "output_type": "execute_result"
    }
   ],
   "source": [
    "data_splits = {'train': None, 'validation': None, 'test': None}\n",
    "original_data_splits = {'train': None, 'validation': None, 'test': None}  \n",
    "data_args.io_format=\"t5_fewshot_infilling_without_choices_use_refined_expl\"\n",
    "data_args"
   ]
  },
  {
   "cell_type": "code",
   "execution_count": 11,
   "id": "efc49c0c",
   "metadata": {},
   "outputs": [
    {
     "data": {
      "application/json": {
       "ascii": false,
       "bar_format": null,
       "colour": null,
       "elapsed": 0.01981186866760254,
       "initial": 0,
       "n": 0,
       "ncols": null,
       "nrows": 60,
       "postfix": null,
       "prefix": "",
       "rate": null,
       "total": 2,
       "unit": "it",
       "unit_divisor": 1000,
       "unit_scale": false
      },
      "application/vnd.jupyter.widget-view+json": {
       "model_id": "730ac2b05a5a43eaae1fa103309e2a87",
       "version_major": 2,
       "version_minor": 0
      },
      "text/plain": [
       "  0%|          | 0/2 [00:00<?, ?it/s]"
      ]
     },
     "metadata": {},
     "output_type": "display_data"
    },
    {
     "data": {
      "text/plain": [
       "dict_keys(['abstractive_explanation', 'answer', 'extractive_explanation', 'choices', 'id', 'question'])"
      ]
     },
     "execution_count": 11,
     "metadata": {},
     "output_type": "execute_result"
    }
   ],
   "source": [
    "dataset = datasets.load_dataset(data_args.task_name, data_args.version_name)\n",
    "train_ids_list=[x['id'] for x in dataset[\"train\"]]\n",
    "dataset['train'][0].keys()"
   ]
  },
  {
   "cell_type": "code",
   "execution_count": 12,
   "id": "294780bc",
   "metadata": {},
   "outputs": [
    {
     "data": {
      "application/json": {
       "ascii": false,
       "bar_format": null,
       "colour": null,
       "elapsed": 0.021913528442382812,
       "initial": 0,
       "n": 0,
       "ncols": null,
       "nrows": 60,
       "postfix": null,
       "prefix": "",
       "rate": null,
       "total": 1,
       "unit": "it",
       "unit_divisor": 1000,
       "unit_scale": false
      },
      "application/vnd.jupyter.widget-view+json": {
       "model_id": "4f80a8f6b4b046eb9352221a1369da2c",
       "version_major": 2,
       "version_minor": 0
      },
      "text/plain": [
       "  0%|          | 0/1 [00:00<?, ?it/s]"
      ]
     },
     "metadata": {},
     "output_type": "display_data"
    },
    {
     "name": "stdout",
     "output_type": "stream",
     "text": [
      "[6723, 3269, 12, 6020, 7815, 0, 13, 7, 3556, 4587, 3166, 2607, 1999, 332, 8571, 2, 3520, 6, 1425, 2361, 3764, 7728, 8352, 1273, 5191, 496, 11, 8143, 6929, 4552, 4652, 7764, 6736, 401, 147, 8339, 3128, 5556, 8769, 4417, 8778, 7145, 1279, 6297, 7149, 5884, 10, 5747, 6273, 8, 9504, 8057, 1307, 2183, 1699, 88, 3228, 7178, 2140, 4048, 1041, 1, 3, 5868, 111, 7889, 5370, 8886, 2137, 6980, 9117, 1891, 7827, 1484, 14, 3668, 7090, 5, 7817, 6213, 4656, 5074, 7514, 5896, 4, 9, 7991, 58, 1887, 1598, 3994, 2212, 2274, 6830, 8826, 1604, 9008, 2013, 6521, 4793, 4338, 3923, 8091, 4904, 3938, 3900, 8156, 5806, 8363, 1787, 1496, 5753, 6351, 1104, 1222]\n"
     ]
    },
    {
     "data": {
      "text/plain": [
       "115"
      ]
     },
     "execution_count": 12,
     "metadata": {},
     "output_type": "execute_result"
    }
   ],
   "source": [
    "#rationale generation labeled data construction 115\n",
    "import pandas as pd\n",
    "scr_csqa_labeled_path=\"/cognitive_comp/huangyongfeng/evaluate_LM_with_rationalization/few_shot_explanations/data/handwritten_cose_v1.11_examples.csv\"\n",
    "scr_csqa_label_df=pd.read_csv(scr_csqa_labeled_path)\n",
    "scr_csqa_label_data=datasets.load_dataset('csv', data_files=scr_csqa_labeled_path)\n",
    "scr_csqa_label_ids_list=[x['id'] for x in scr_csqa_label_data['train']]\n",
    "scr_csqa_indexs_list=[train_ids_list.index(id_) for id_ in scr_csqa_label_ids_list]\n",
    "scr_csqa_label_our_explanations_list=[x['our_explanation'] for x in scr_csqa_label_data['train']]\n",
    "print(scr_csqa_indexs_list)\n",
    "data_splits={}\n",
    "data_splits['train']=dataset['train'].select(scr_csqa_indexs_list)\n",
    "\n",
    "refine_train_data=[]\n",
    "for kk, (ex,da) in enumerate(zip(scr_csqa_label_our_explanations_list, data_splits['train'])):\n",
    "#     print(da)\n",
    "    data_splits['train'][kk]['our_explanation']=ex\n",
    "    #print(type(data_splits['train'][kk]),data_splits['train'][kk].keys())\n",
    "    da['our_explanation']=ex\n",
    "    refine_train_data.append(da)\n",
    "\n",
    "len(data_splits['train'])"
   ]
  },
  {
   "cell_type": "code",
   "execution_count": 13,
   "id": "1d97f507",
   "metadata": {},
   "outputs": [
    {
     "data": {
      "application/json": {
       "ascii": false,
       "bar_format": null,
       "colour": null,
       "elapsed": 0.01317286491394043,
       "initial": 0,
       "n": 0,
       "ncols": null,
       "nrows": 60,
       "postfix": null,
       "prefix": "",
       "rate": null,
       "total": 1,
       "unit": "it",
       "unit_divisor": 1000,
       "unit_scale": false
      },
      "application/vnd.jupyter.widget-view+json": {
       "model_id": "59e979e5e7594d1aaa50906abdb081da",
       "version_major": 2,
       "version_minor": 0
      },
      "text/plain": [
       "  0%|          | 0/1 [00:00<?, ?it/s]"
      ]
     },
     "metadata": {},
     "output_type": "display_data"
    },
    {
     "data": {
      "text/plain": [
       "{'id': '5b8a3081c3235d62bc77e2d15f3ad454',\n",
       " 'question': 'A town between two mountains is located in a what?',\n",
       " 'choices': ['valley', 'hospital', 'state', 'train station', 'michigan'],\n",
       " 'answer': 'valley',\n",
       " 'abstractive_explanation': 'valleys are always between two mountains',\n",
       " 'extractive_explanation': 'A town between two mountains',\n",
       " 'our_explanation': 'A town in between mountains presumably would be in a valley, in which case it is plausable that it would be surrounded by heights in every direction.'}"
      ]
     },
     "execution_count": 13,
     "metadata": {},
     "output_type": "execute_result"
    }
   ],
   "source": [
    "#rationale unlabeled data construction 991\n",
    "import pdb\n",
    "scr_csqa_unlabeled_test_file=\"/cognitive_comp/huangyongfeng/evaluate_LM_with_rationalization/few_shot_explanations/data/acceptability_annotations/commonsenseqa_test.csv\"\n",
    "fse_csqa_dev_dataset = datasets.load_dataset('csv', data_files=scr_csqa_unlabeled_test_file)\n",
    "scr_csqa_unlabeled_test_df=pd.read_csv(scr_csqa_unlabeled_test_file)\n",
    "fse_csqa_dev_data_dict={}\n",
    "for kk, da in enumerate(fse_csqa_dev_dataset['train']):\n",
    "    #pdb.set_trace()\n",
    "    id_=da['Input.id']\n",
    "    if da['Answer.acceptable']:\n",
    "        answer_accept=set(da['Answer.acceptable'].split('|'))\n",
    "    else:\n",
    "        answer_accept=set()\n",
    "    explanation_list=[da['Input.explanation_1'], \n",
    "                      da['Input.explanation_2'],\n",
    "                      da['Input.explanation_3'],\n",
    "                      da['Input.explanation_4'],\n",
    "                      da['Input.explanation_5']]\n",
    "    if id_ not in fse_csqa_dev_data_dict.keys():\n",
    "        fse_csqa_dev_data_dict[id_]={\"index\":kk,\"id\":id_,\n",
    "                                     \"question\":da[\"Input.question\"],\n",
    "                                     'answer':da['Input.gold_label'],\n",
    "                                     \"accept_set_list\":[answer_accept],\n",
    "                                     \"explanation_list\":explanation_list}\n",
    "        #[[kk, id_, answer_accept, explanation_list]]\n",
    "    else:\n",
    "        fse_csqa_dev_data_dict[id_][\"accept_set_list\"].append(answer_accept)\n",
    "    if len(fse_csqa_dev_data_dict[id_][\"accept_set_list\"])==3:\n",
    "        fse_csqa_dev_data_dict[id_][\"common_expl_list\"]=[]\n",
    "        common_accept_expl_sample=set.intersection(fse_csqa_dev_data_dict[id_][\"accept_set_list\"][0], \n",
    "                                                   fse_csqa_dev_data_dict[id_][\"accept_set_list\"][1], \n",
    "                                                   fse_csqa_dev_data_dict[id_][\"accept_set_list\"][2])\n",
    "        for idx in list(common_accept_expl_sample):\n",
    "            idx=int(idx)-1\n",
    "            fse_csqa_dev_data_dict[id_][\"common_expl_list\"].append(fse_csqa_dev_data_dict[id_][\"explanation_list\"][idx])\n",
    "        \n",
    "#discriminate 3/3 id\n",
    "id_accept_expl_list=[]\n",
    "our_accept_expl_list=[]\n",
    "id_unaccept_expl_list=[]\n",
    "for k,v in fse_csqa_dev_data_dict.items():\n",
    "    accept_set_list=v['accept_set_list']\n",
    "    assert len(accept_set_list)==3\n",
    "    #pdb.set_trace()\n",
    "    common_accept_expl_sample=set.intersection(accept_set_list[0], accept_set_list[1], accept_set_list[2])\n",
    "    #print(accept_set_list,common_accept_expl_sample)\n",
    "    #pdb.set_trace()\n",
    "    if common_accept_expl_sample:\n",
    "        id_accept_expl_list.append(k)\n",
    "        our_expl=\"\"\n",
    "        for idx in list(common_accept_expl_sample):\n",
    "            idx=int(idx)-1\n",
    "            if len(v['explanation_list'][idx]) > len(our_expl):\n",
    "                our_expl = v['explanation_list'][idx]\n",
    "                our_accept_expl_list.append(our_expl)\n",
    "    else:\n",
    "        id_unaccept_expl_list.append(k)\n",
    "\n",
    "dev_ids_list=[x['id'] for x in dataset['validation']]\n",
    "dev_accept_indexs_list=[dev_ids_list.index(id_) for id_ in id_accept_expl_list]\n",
    "dev_unaccpet_indexs_list=[dev_ids_list.index(id_) for id_ in id_unaccept_expl_list]\n",
    "dev_accept_data=dataset['validation'].select(dev_accept_indexs_list)\n",
    "dev_unaccept_data=dataset['validation'].select(dev_unaccpet_indexs_list)\n",
    "\n",
    "\n",
    "\n",
    "new_dev_accept_data=[]\n",
    "new_dev_unaccept_data=[]\n",
    "for oexp, da in zip(our_accept_expl_list,dev_accept_data):\n",
    "    da[\"our_explanation\"]=oexp\n",
    "    new_dev_accept_data.append(da)\n",
    "for da in dev_unaccept_data:\n",
    "    da[\"our_explanation\"]=oexp\n",
    "    new_dev_unaccept_data.append(da)\n",
    "        \n",
    "new_dev_accept_data[0]\n",
    "        "
   ]
  },
  {
   "cell_type": "code",
   "execution_count": 14,
   "id": "ffe13707",
   "metadata": {},
   "outputs": [
    {
     "data": {
      "text/plain": [
       "{'index': 0,\n",
       " 'id': '5b8a3081c3235d62bc77e2d15f3ad454',\n",
       " 'question': 'A town between two mountains is located in a what?',\n",
       " 'answer': 'valley',\n",
       " 'accept_set_list': [{'2', '4', '5'}, {'2', '4', '5'}, {'2', '4', '5'}],\n",
       " 'explanation_list': ['Because all of the mountains are to the left of this town, if one was looking on a map, one would be able to see the town in the valley.',\n",
       "  'A valley is usually between two mountains, where it is located in the place where the mountains are closest to each other.',\n",
       "  'Because rivers end in valleys; assuming the river is the one of interest, this sentence is likely referring to the geographical location of the town.',\n",
       "  'A town in between mountains presumably would be in a valley, in which case it is plausable that it would be surrounded by heights in every direction.',\n",
       "  'A valley is a low area between two mountains.'],\n",
       " 'common_expl_list': ['A town in between mountains presumably would be in a valley, in which case it is plausable that it would be surrounded by heights in every direction.',\n",
       "  'A valley is a low area between two mountains.',\n",
       "  'A valley is usually between two mountains, where it is located in the place where the mountains are closest to each other.']}"
      ]
     },
     "execution_count": 14,
     "metadata": {},
     "output_type": "execute_result"
    }
   ],
   "source": [
    "fse_csqa_dev_data_dict['5b8a3081c3235d62bc77e2d15f3ad454']\n"
   ]
  },
  {
   "cell_type": "code",
   "execution_count": 15,
   "id": "3161874f",
   "metadata": {},
   "outputs": [],
   "source": [
    "# for k,v in fse_csqa_dev_data_dict.items():\n",
    "#     #print(v.keys())\n",
    "#     print(\"******\")\n",
    "#     print(v['question'])\n",
    "#     print(v['answer'])\n",
    "#     print(v['common_expl_list'])\n",
    "#     print(\"******\")    \n",
    "# for k,v in fse_csqa_train_data_dict.items():\n",
    "#     #print(v.keys())\n",
    "#     print(\"******\")\n",
    "#     print(v['question'])\n",
    "#     print(v['answer'])\n",
    "#     print(v['common_expl_list'])\n",
    "#     print(\"******\") \n"
   ]
  },
  {
   "cell_type": "code",
   "execution_count": 16,
   "id": "3e0e8a2d",
   "metadata": {},
   "outputs": [
    {
     "data": {
      "application/json": {
       "ascii": false,
       "bar_format": null,
       "colour": null,
       "elapsed": 0.024727582931518555,
       "initial": 0,
       "n": 0,
       "ncols": null,
       "nrows": 60,
       "postfix": null,
       "prefix": "",
       "rate": null,
       "total": 1,
       "unit": "it",
       "unit_divisor": 1000,
       "unit_scale": false
      },
      "application/vnd.jupyter.widget-view+json": {
       "model_id": "94b581aa1ba44357bcb4afd589efbd17",
       "version_major": 2,
       "version_minor": 0
      },
      "text/plain": [
       "  0%|          | 0/1 [00:00<?, ?it/s]"
      ]
     },
     "metadata": {},
     "output_type": "display_data"
    },
    {
     "data": {
      "text/plain": [
       "{'id': 'ed53cbea1f21072fab892031b31192d1',\n",
       " 'question': 'Where can you likely buy many poems?',\n",
       " 'choices': ['book of poetry',\n",
       "  'literature book',\n",
       "  'book store',\n",
       "  'poetry book',\n",
       "  'bookshelf'],\n",
       " 'answer': 'book store',\n",
       " 'abstractive_explanation': 'book store book',\n",
       " 'extractive_explanation': 'buy many poems',\n",
       " 'our_explanation': 'A book store is a place where you can buy books, including poetry books.'}"
      ]
     },
     "execution_count": 16,
     "metadata": {},
     "output_type": "execute_result"
    }
   ],
   "source": [
    "#rationale unlabeled data construction 991\n",
    "import pdb\n",
    "scr_csqa_unlabeled_train_file=\"/cognitive_comp/huangyongfeng/evaluate_LM_with_rationalization/few_shot_explanations/data/acceptability_annotations/commonsenseqa_train.csv\"\n",
    "fse_csqa_train_dataset = datasets.load_dataset('csv', data_files=scr_csqa_unlabeled_train_file)\n",
    "scr_csqa_unlabeled_train_df=pd.read_csv(scr_csqa_unlabeled_train_file)\n",
    "fse_csqa_train_data_dict={}\n",
    "for kk, da in enumerate(fse_csqa_train_dataset['train']):\n",
    "    #pdb.set_trace()\n",
    "    id_=da['Input.id']\n",
    "    if da['Answer.acceptable']:\n",
    "        answer_accept=set(da['Answer.acceptable'].split('|'))\n",
    "    else:\n",
    "        answer_accept=set()\n",
    "    explanation_list=[da['Input.explanation_1'], \n",
    "                      da['Input.explanation_2'],\n",
    "                      da['Input.explanation_3'],\n",
    "                      da['Input.explanation_4'],\n",
    "                      da['Input.explanation_5']]\n",
    "    if id_ not in fse_csqa_train_data_dict.keys():\n",
    "        fse_csqa_train_data_dict[id_]={\"index\":kk,\"id\":id_,\n",
    "                                     \"question\":da[\"Input.question\"],\n",
    "                                     'answer':da['Input.gold_label'],\n",
    "                                     \"accept_set_list\":[answer_accept],\n",
    "                                     \"explanation_list\":explanation_list}\n",
    "        #[[kk, id_, answer_accept, explanation_list]]\n",
    "    else:\n",
    "        fse_csqa_train_data_dict[id_][\"accept_set_list\"].append(answer_accept)\n",
    "        \n",
    "    if len(fse_csqa_train_data_dict[id_][\"accept_set_list\"])==3:\n",
    "        fse_csqa_train_data_dict[id_][\"common_expl_list\"]=[]\n",
    "        common_accept_expl_sample=set.intersection(fse_csqa_train_data_dict[id_][\"accept_set_list\"][0], \n",
    "                                                   fse_csqa_train_data_dict[id_][\"accept_set_list\"][1], \n",
    "                                                   fse_csqa_train_data_dict[id_][\"accept_set_list\"][2])\n",
    "        for idx in list(common_accept_expl_sample):\n",
    "            idx=int(idx)-1\n",
    "            fse_csqa_train_data_dict[id_][\"common_expl_list\"].append(fse_csqa_train_data_dict[id_][\"explanation_list\"][idx])\n",
    "\n",
    "    \n",
    "#discriminate 3/3 id\n",
    "id_accept_expl_list=[]\n",
    "our_accept_expl_list=[]\n",
    "id_unaccept_expl_list=[]\n",
    "for k,v in fse_csqa_train_data_dict.items():\n",
    "    accept_set_list=v['accept_set_list']\n",
    "    assert len(accept_set_list)==3\n",
    "    #pdb.set_trace()\n",
    "    common_accept_expl_sample=set.intersection(accept_set_list[0], accept_set_list[1], accept_set_list[2])\n",
    "    #print(accept_set_list,common_accept_expl_sample)\n",
    "    #pdb.set_trace()\n",
    "    if common_accept_expl_sample:\n",
    "        id_accept_expl_list.append(k)\n",
    "        our_expl=\"\"\n",
    "        for idx in list(common_accept_expl_sample):\n",
    "            idx=int(idx)-1\n",
    "            if len(v['explanation_list'][idx]) > len(our_expl):\n",
    "                our_expl = v['explanation_list'][idx]\n",
    "                our_accept_expl_list.append(our_expl)\n",
    "    else:\n",
    "        id_unaccept_expl_list.append(k)\n",
    "\n",
    "train_ids_list=[x['id'] for x in dataset['train']]\n",
    "train_accept_indexs_list=[train_ids_list.index(id_) for id_ in id_accept_expl_list]\n",
    "train_unaccpet_indexs_list=[train_ids_list.index(id_) for id_ in id_unaccept_expl_list]\n",
    "train_accept_data=dataset['train'].select(train_accept_indexs_list)\n",
    "train_unaccept_data=dataset['train'].select(train_unaccpet_indexs_list)\n",
    "\n",
    "\n",
    "\n",
    "new_train_accept_data=[]\n",
    "new_train_unaccept_data=[]\n",
    "for oexp, da in zip(our_accept_expl_list,train_accept_data):\n",
    "    da[\"our_explanation\"]=oexp\n",
    "    new_train_accept_data.append(da)\n",
    "for da in train_unaccept_data:\n",
    "    da[\"our_explanation\"]=oexp\n",
    "    new_train_unaccept_data.append(da)\n",
    "        \n",
    "new_train_accept_data[0]"
   ]
  },
  {
   "cell_type": "code",
   "execution_count": 17,
   "id": "595b9453",
   "metadata": {},
   "outputs": [
    {
     "data": {
      "text/plain": [
       "(set(), set())"
      ]
     },
     "execution_count": 17,
     "metadata": {},
     "output_type": "execute_result"
    }
   ],
   "source": [
    "refine_train_data=refine_train_data\n",
    "refine_dev_data=new_train_accept_data + new_dev_accept_data\n",
    "refine_test_data=new_train_unaccept_data + new_dev_unaccept_data\n",
    "\n",
    "refine_train_ids_list=[x['id'] for x in refine_train_data]\n",
    "refine_dev_ids_list=[x['id'] for x in refine_dev_data]\n",
    "refine_test_ids_list=[x['id'] for x in refine_test_data]\n",
    "\n",
    "set(refine_train_ids_list).intersection(set(refine_dev_ids_list)),set(refine_train_ids_list).intersection(set(refine_test_ids_list))\n",
    "\n"
   ]
  },
  {
   "cell_type": "code",
   "execution_count": 18,
   "id": "48e4ec26",
   "metadata": {},
   "outputs": [
    {
     "data": {
      "text/plain": [
       "dict_keys(['id', 'question', 'choices', 'answer', 'abstractive_explanation', 'extractive_explanation', 'our_explanation'])"
      ]
     },
     "execution_count": 18,
     "metadata": {},
     "output_type": "execute_result"
    }
   ],
   "source": [
    "our_data_splits={}\n",
    "our_data_splits['train']=refine_train_data\n",
    "our_data_splits['dev']=refine_dev_data\n",
    "our_data_splits['test']=refine_test_data\n",
    "refine_train_data[0].keys()"
   ]
  },
  {
   "cell_type": "markdown",
   "id": "0fcdf34f",
   "metadata": {},
   "source": [
    "# shots number"
   ]
  },
  {
   "cell_type": "code",
   "execution_count": 19,
   "id": "bd43fe66",
   "metadata": {},
   "outputs": [],
   "source": [
    "id_list = [\n",
    " '71519c19654251cced50c5718fd527c1',\n",
    " '44195d210c81c8c550174d0edbd3ad5d',\n",
    " '5a5da37b685ec9c6f15228128ce30437',\n",
    " 'cabdfc174953b4bdb8bdcc89d6592c74',\n",
    " 'eac3a4080127e8924034651b57dfa289',\n",
    " 'c0013f31657294b9b5ad819123513ca7',\n",
    " '2681697be70cd5425899ed6deb84b18a',\n",
    " '47f60340b869552e795fa6782224f3d2',\n",
    " '7e8a6eac93147eb52d8151bab7b40003',\n",
    " 'f34267f498c8a78383e35057fbcfa2ce',\n",
    " 'f024f923d78e5c0a4c0c4baa3ddccf05',\n",
    " 'e148c710d0c26849cf1f15293481038b',\n",
    " 'bdf437d7498815f36c255f64a8e6571c',\n",
    " '2282e0c80be28aadadb79a822fec9dac',\n",
    " 'bdd05e96876342b4b5999709439a7f4e',\n",
    " '494b8316614fc64c5c27757aeaffce23_1',\n",
    " 'c4494b402264250dc70931613d482295',\n",
    " 'fcfbf207c5586294fdce33b645b613f1',\n",
    " '9c583bcbe68989a644433302545fb31e',\n",
    " '0e684d779d98e6eecda167c10af42bbb',\n",
    " 'ac0462d09b9fddd40c3c77aedf48a870',\n",
    " '1dbfb41e04a10bdbb085bfe667c0df99',\n",
    " 'cd0c0ef3b8ce0eb09ff26823f6059be6',\n",
    " 'e6b67184b99375d05d3f2887f684c684',\n",
    " 'ae9f6f1e17b3fdd3a86b494933809f45',\n",
    " 'f149604169936a30b7e4c8d599d604b5',\n",
    " 'd7c8377953e0175ef57d59f3a8e63a8e',\n",
    " '1837216ac7745121b82a6491b2318c09',\n",
    " 'b5fe238d45e55ca5d802b7823ad390ef',\n",
    " 'b2fbeb0b48bd5e575af0f7dc24cdd85d',\n",
    " '9bdfb101c487ac598f6e4686cf774703',\n",
    " '206c7116ee2246180fcc0c5a1d0e7205',\n",
    " '5cd7f44bbf730dfae5ef2a362d2e5149',\n",
    " '45d0ea781ffd49b07d6eae94d47a8945',\n",
    " '89afdea1d76272fda8e1538a7d3b7a3f',\n",
    " '38a514fe54108527e1d6e89d9812da93',\n",
    " 'ebf347934a3e90ea46d3d87726fb5d25',\n",
    " '90226a6ecd7308ae1e6220a15ae24bc6',\n",
    " '5cae8057e75e3adf5c338a43b3ba97fb',\n",
    " '388a363c49e1b0aca8eaf18ccdde0caf',\n",
    " '9ed3af82152dfcd7000bf4631b095f71',\n",
    " '2d5805d894bba224c5fe91e70b8c0f77',\n",
    " 'd5aa464a16b72c9b9f3091abd461e3ef',\n",
    " '381b11c54be4cc432a95053ca34cbf6b',\n",
    " '807a3a2dabdd50ed0c76052fd2612632',\n",
    " '5172041c750d22e9a5081cc024de0fa6',\n",
    " 'd32a45ab3b751110d0578a78e54c0e64',\n",
    " '28ca5cbe27774746c34f6ebe84fc6d0c']\n",
    "\n",
    "chatGPT_rationales = [\n",
    "    \"A cup is a common vessel used for holding and drinking liquids, such as water, coffee, or tea. When you want to get yourself a drink, you might typically get a cup from a cabinet or other storage area in order to hold the drink. A cup is a convenient and practical choice for getting a drink because it is easy to hold and use, and it can hold a reasonable amount of liquid. There are many different types of cups available, including ceramic, glass, plastic, and metal cups, each with their own unique features and benefits. Whether you are at home, at work, or out in public, a cup is a handy item to have on hand when you need to quench your thirst.\",\n",
    "    \"A front yard is the lawn that is typically located in front of a house, near the street. The front yard is the part of the property that is visible from the street and is often used for decorative purposes, such as landscaping or gardening. Many people take pride in their front yards and may spend time and resources maintaining and improving them. The front yard is often the first thing that visitors see when they arrive at a house, and it can make a strong impression on them. In contrast, the back yard is typically located behind the house and is often used for more practical purposes, such as outdoor recreation or gardening.\",\n",
    "    \"A swimming pool is a recreational water feature that is typically used for swimming and other aquatic activities. While shallow water, such as that found in a kiddie pool or a shallow end of a pool, can be enjoyable for some people, it may not be sufficient for many summer activities. A swimming pool that is deep enough for diving and other activities is more likely to provide more opportunities for summer fun. In addition, a swimming pool that is clean and chlorinated is more likely to be safe and enjoyable for swimming, as it will be free of contaminants and bacteria that can cause illness.\",\n",
    "    \"In most places, it is illegal for people under the age of 21 to purchase or consume alcohol. This is because alcohol can have negative effects on the developing brain and body of young people. It can also contribute to risky behaviors and accidents. Therefore, many governments have set a minimum age for alcohol consumption and purchase to help protect the health and safety of young people. If someone is under the age of 21 and attempts to purchase alcohol, they may be denied the sale or face legal consequences. It is important for young people to understand and adhere to the laws and regulations regarding the purchase and consumption of alcohol in their area.\",\n",
    "    \"When someone shaves, they typically use a razor to remove hair from their face or body. The process of shaving can leave a lot of hair in the sink, as the hair is trimmed off and falls into the sink as it is being shaved. It is common for people to shave in the bathroom, where a sink is typically located. The sink provides a convenient place to rinse the razor and wash off any excess hair or shaving cream. It is important to clean the sink after shaving to remove any hair and prevent clogs in the drain.\",\n",
    "    \"A hamburger is a type of sandwich that consists of a cooked patty of ground meat, typically beef, placed between two slices of bread or a bun. Hamburgers are often served with various toppings, such as lettuce, tomato, onion, cheese, and condiments like ketchup and mustard. However, if someone is suffering from great hunger, they may not care about the toppings and just want to eat the hamburger itself. In this case, the person may be more focused on satisfying their hunger and getting nourishment rather than worrying about additional ingredients or flavors.\",\n",
    "    \"If a person notices popcorn and cotton candy on the grass, they are likely at fairgrounds. Fairgrounds are outdoor areas that are used for hosting fairs and other events, such as carnivals, festivals, and exhibitions. These events often feature food stalls and vendors that sell a variety of treats, including popcorn and cotton candy. Popcorn and cotton candy are both popular carnival foods that are often sold at fairs and other events. The presence of these foods on the ground at fairgrounds suggests that a fair or similar event is taking place there.\",\n",
    "    \"When snow on a mountain becomes heavy, it can trigger an avalanche. An avalanche is a rapid flow of snow down a slope, often triggered by the weight of the snow or external factors such as a change in temperature. Avalanches can be dangerous and destructive, as they can bury and sweep away anything in their path, including people, buildings, and vehicles. Avalanches can occur on any slope with a steep enough incline and a sufficient amount of snow. They are most common on mountains, but they can also occur in other snowy areas, such as forests or valleys. It is important for people to be aware of the risk of avalanches and to take precautions when traveling in areas prone to avalanches.\",\n",
    "    \"A police officer typically reports their work through the use of case reports or incident reports. These reports are written documents that detail the events of a specific case or incident that the officer has worked on. Case reports or incident reports typically include information such as the date and time of the incident, the location, the people involved, and the actions taken by the officer. They may also include witness statements, evidence collected, and any other relevant details. Case reports or incident reports are used by police officers to document their work and provide a record of the incidents they have dealt with. They are also used by supervisors and other authorities to review and evaluate the performance of the officer and the effectiveness of their actions.\",\n",
    "    \"Teachers play many roles in the lives of their students, including mentor, counselor, and role model. However, they get the most out of their job by simply teaching children. Teaching children is the primary responsibility of a teacher, and it is what they are trained and paid to do. Teaching involves imparting knowledge, skills, and values to students, and helping them to develop the skills and habits they need to succeed in life. Teachers have the opportunity to make a positive impact on the lives of their students by providing them with a strong foundation in academic subjects and helping them to become curious, engaged learners. Teachers often derive a great deal of satisfaction from helping their students to achieve their potential and succeed in their studies.\",\n",
    "    \"A person might go to get counseling for a variety of reasons. One reason is to better understand themselves. Counseling can provide a safe and supportive environment for individuals to explore their thoughts, feelings, and behaviors, and to gain insight into why they act and feel the way they do. Counseling can also help a person to identify and work through any underlying issues or challenges that may be causing them distress or hindering their personal growth. Through counseling, a person can learn more about themselves and how to navigate their emotions and relationships more effectively. Counseling can be particularly helpful for individuals who are struggling with mental health issues, relationship problems, or other personal challenges.\",\n",
    "    \"If the kids wanted to cool off, they might go swimming as a way to refresh and beat the heat. Swimming is a fun and enjoyable activity that can provide relief from hot weather and help to cool the body. Swimming can also provide a great workout and has numerous health benefits, such as improving cardiovascular fitness and flexibility. There are many different places where kids can go swimming, such as pools, lakes, rivers, or the ocean. No matter where they go, kids can have fun and cool off while enjoying the water.\",\n",
    "    \"When remembering a tragedy in the past, many people may feel depressed. Depression is a common emotional reaction to experiencing a traumatic or stressful event, such as a tragedy. Depression is a mental health disorder characterized by persistent feelings of sadness, hopelessness, and low energy. It can also cause physical symptoms such as changes in appetite and sleep patterns, fatigue, and difficulty concentrating. Remembering a tragedy can be emotionally difficult and may trigger feelings of sadness, grief, and guilt. It is important for people who are struggling with depression to seek support and treatment to help manage their symptoms and improve their mental health.\",\n",
    "    \"Death Valley is a national park located in the Mojave Desert, in the state of California, United States. It is situated on the North American continent. The North American continent is one of the seven continents of the world and is located in the western hemisphere. It is the third largest continent in terms of land area, after Asia and Africa, and is home to a diverse range of cultures, languages, and environments. Death Valley is known for its extreme desert climate and is the lowest, hottest, and driest place in North America. It is a popular destination for tourists, who come to see its unique geological features, such as sand dunes, salt flats, and canyons.\",\n",
    "    \"When in a serious relationship, understanding better requires effort. Relationships require effort and work to maintain and grow. In order to understand your partner better, you need to be willing to put in the time and effort to communicate with them, listen to their perspectives, and try to see things from their point of view. This may involve asking questions, expressing your own feelings and needs, and being open to feedback and compromise. Understanding your partner better can help to strengthen the bond between you and improve the quality of your relationship. It is important to remember that relationships are dynamic and evolving, and that ongoing communication and effort are necessary to maintain a healthy and fulfilling relationship.\",\n",
    "    \"Cats are able to make a variety of vocalizations, including meows, purrs, and growls, as a way of communicating with humans and other animals. Cats use these vocalizations to convey a range of emotions and needs, such as hunger, happiness, or discomfort. Meowing is a common vocalization that cats use to communicate with humans. Cats may meow when they want attention, food, or to be let outside. Cats may also meow when they are feeling anxious or stressed. Although cats cannot talk in the same way that humans do, they are skilled at using their voices to communicate with their owners and other animals.\",\n",
    "    \"If you need a vessel that is similar to a battleship but faster, you might consider using a corvette. A corvette is a small, fast warship that is typically used for convoy escort, patrol, and other shallow water duties. Corvettes are generally smaller and less heavily armed than battleships, but they are more agile and have a higher speed. They are typically equipped with a variety of weapons, including guns, missiles, and torpedoes, and are used for defending against enemy ships and aircraft. Corvettes are often used for coastal defense, as well as for patrolling and enforcing maritime laws. They are capable of operating in a variety of environments, including open ocean and littoral (nearshore) waters.\",\n",
    "    \"Water in the sky comes from rain clouds. Rain clouds are clouds that form when moist air rises and cools, forming tiny water droplets that condense around particles in the air. As the droplets grow, they eventually become heavy enough to fall from the cloud as rain. Rain clouds are typically gray or white in color and are often accompanied by other types of clouds, such as cumulus or stratocumulus clouds. Rain clouds can form in a variety of ways, such as when warm, moist air from the ground rises and cools, or when moist air from the ocean is carried inland by the wind. Rain clouds can be found in many parts of the world and are a common source of precipitation, especially during the warmer months.\",\n",
    "    \"If John rented a hotel room while on a business trip and it was a company-sponsored event, it is possible that the hotel was a resort. Resorts are hotels or vacation properties that offer a variety of amenities and activities for guests, such as swimming pools, golf courses, spas, and restaurants. They are often located in scenic or recreational areas and are designed to provide a relaxing and enjoyable experience for guests. Many resorts offer conference and meeting facilities and are popular destinations for business events and retreats. If John's company sponsored the business trip and provided the hotel accommodations, it is likely that they chose a resort with the amenities and facilities needed to support the event.\",\n",
    "    \"An expressway might leave the United States and go to Canada. The United States and Canada are neighboring countries that share a border, and there are several expressways that cross the border between the two countries. Expressways are high-speed, limited-access roads that are designed for fast and efficient travel. They typically have multiple lanes and may include features such as grade separations, interchanges, and controlled access points. Expressways are used for long-distance travel and are often the main routes connecting major cities and regions. If an expressway leaves the United States, it is likely that it is heading towards Canada, which is located to the north of the United States.\",\n",
    "    \"If you were walking on a sidewalk near a small corner shop run by John, you would look for it on the street corner. A corner shop is a small retail store that is typically located at the intersection of two streets. It is often a convenience store or a neighborhood shop that sells a variety of goods, such as groceries, household items, and other supplies. Corner shops are often located in busy urban areas, where they are easily accessible to pedestrians and motorists. If you were walking on a sidewalk near a corner shop, you would look for it at the intersection of the street where you are walking and another street. The shop is likely to be located in a building on the corner, with windows and doors facing the street.\",\n",
    "    \"One way that a company can efficiently sell things to their customers is through mail order. Mail order is a method of selling goods or services by advertising them in a catalog or other publication and allowing customers to place orders by mail, telephone, or online. Mail order is a convenient and efficient way for companies to reach a wide customer base, as it allows them to sell products to customers who may not be located near their physical store or who may not have the time or inclination to shop in person. Mail order companies typically have a centralized warehouse or distribution center where orders are processed and shipped to customers. They may also offer options such as easy returns and exchanges, as well as customer service support to assist with any questions or issues that customers may have.\",\n",
    "    \"If he enjoyed the factory work and liked the idea that he did it for sale, it is likely that he enjoyed producing goods. Factory work typically involves the production of goods, such as products or materials, using machines, tools, and other equipment. Factory workers are responsible for operating and maintaining the equipment and ensuring that the goods being produced meet quality standards. The goods produced in a factory may be sold directly to consumers or to other businesses, and may be used for a variety of purposes, such as manufacturing, construction, or distribution. If a person enjoys factory work, they may find satisfaction in the idea that they are contributing to the production of goods that will be sold and used by others.\",\n",
    "    \"If returning to work was easy for Dan after his treatment and he was completely painless, it is likely that he had undergone some form of medical treatment or therapy to address a health issue or injury. Painless indicates that Dan was no longer experiencing pain or discomfort, which may have been a result of the treatment or therapy he received. It is not clear from the information provided what specific health issue or injury Dan was dealing with, or what treatment or therapy he received. However, it is possible that Dan was able to return to work more easily after his treatment because he was feeling better and was no longer experiencing any pain or discomfort.\",\n",
    "    \"If index cards were on display at the museum, it is likely that the museum was a library. Libraries are institutions that provide access to a wide range of resources, including books, periodicals, and other printed materials, as well as digital resources such as e-books, databases, and online research tools. Libraries often have exhibits and displays of various types of materials, including rare or unique items, and may have special collections or archives that are of particular interest to researchers or historians. Index cards are small, rectangular pieces of paper that are used for organizing information, such as names, dates, or research notes. They may be used in a variety of settings, including libraries, offices, and schools. If index cards were on display at the museum, it is possible that they were part of a historical exhibit or collection related to the history of libraries or research.\",\n",
    "    \"If she was a human in America who wanted to live well, it is likely that the given for her situation was the need for money. In general, money is an important factor in enabling people to live well and meet their basic needs and desires. Money allows people to purchase the goods and services that they need to sustain themselves and their families, such as food, clothing, housing, and healthcare. It also enables people to pursue their interests and hobbies, travel, and engage in various forms of leisure and entertainment. In America, and in many other countries around the world, the cost of living can be high, and people often need to earn and save money in order to achieve a desired standard of living. As such, the need for money is a given for many people in order to live well.\",\n",
    "    \"A place that could have one back garden is a house. A garden is a piece of land that is used for growing plants, flowers, vegetables, or other types of vegetation. Gardens can be found in a variety of settings, including residential properties, public parks, and commercial properties. A house is a building that is used as a dwelling for one or more people, and it typically includes living spaces, such as bedrooms, bathrooms, and a kitchen, as well as outdoor areas, such as a front yard, side yard, and back yard. A back yard is a private outdoor space that is typically located behind a house and is often used for recreational or leisure activities, such as gardening, grilling, or playing games. If a house has a back garden, it is likely that the garden is located in the back yard.\",\n",
    "    \"People gather at a football stadium to see large men in pads play a game where they run and smash into each other. Football is a popular sport that is played on a rectangular field by two teams of eleven players. The game involves running, passing, and tackling, and players wear pads and other protective gear to reduce the risk of injury. Football is a physical and intense sport, and players often collide with each other at high speeds. Football stadiums are large, open-air facilities that are designed to host football games and other sporting events. They typically have a grass or artificial turf field, seating for spectators, and a variety of amenities, such as concessions stands, restrooms, and VIP areas. Football stadiums are popular places for people to gather and watch football games, and they can be found in cities and towns throughout the world.\",\n",
    "    \"One place where someone can get a flute is a musical instrument store. A musical instrument store is a retail establishment that specializes in selling musical instruments and related accessories. They may carry a wide range of instruments, including brass instruments, woodwind instruments, string instruments, percussion instruments, and keyboards. Flutes are woodwind instruments that are played by blowing air into a narrow opening and producing sound by vibrating the lips against a metal or wooden reed. They are popular instruments that are used in a variety of musical styles, including classical, jazz, and folk music. If someone is looking to purchase a flute, they may be able to find a selection of flutes at a musical instrument store. In addition to flutes, musical instrument stores may also offer a variety of other instruments, as well as sheet music, instructional materials, and accessories such as cases, stands, and cleaning supplies.\",\n",
    "    \"It is not clear what someone who has a greed for energy would do. The word greed typically refers to an excessive or insatiable desire for wealth, power, or material possessions. It is not clear how this concept would relate to energy or how it might influence someone's actions. It is possible that someone who has a lot of energy or who is very active might have a high appetite for food and might seek out sources of fuel or nutrition to sustain their energy levels. In this case, they might buy food as a way to obtain the energy they need. However, it is not accurate to say that someone who has a greed for energy would necessarily do this. It is important to note that the concept of greed is generally considered to be negative, as it suggests an unhealthy or unsustainable desire for something.\",\n",
    "    \"A forklift is a type of industrial vehicle that is used for moving and lifting heavy loads, such as pallets, crates, and boxes. Forklifts are equipped with a hydraulic lift mechanism and a set of prongs or forks that can be used to lift and transport loads. They are commonly used in warehouses and other distribution centers to move and stack materials, such as boxes, onto shelves or other storage areas. If you were using a forklift to stack boxes onto shelves, it is likely that you were in a warehouse or a similar facility. Warehouses are large, commercial buildings that are used for storing and distributing goods. They often have high ceilings, wide aisles, and multiple levels, and they may be equipped with a variety of material handling equipment, such as forklifts, conveyor belts, and cranes, to facilitate the movement and storage of goods.\",\n",
    "    \"You are likely to receive mouthwash in a little paper cup at a dentist's office. Dentist's offices are healthcare facilities that are staffed by dentists and other dental professionals, and they are used for the diagnosis and treatment of dental problems and the maintenance of oral health. One common practice at a dentist's office is to rinse the mouth with mouthwash, which is a liquid that is used to freshen breath, kill bacteria, and reduce the risk of gum disease and other oral health issues. Mouthwash is typically used after brushing and flossing to help remove any remaining food particles or plaque from the mouth. It may be dispensed in a little paper cup, which can be used to rinse the mouth and then disposed of after use.\",\n",
    "    \"A doctor's office can help you with an illness. A doctor's office is a healthcare facility that is staffed by medical doctors and other healthcare professionals, and it is used for the diagnosis and treatment of medical conditions and the maintenance of overall health. If you are experiencing an illness, such as a cold, flu, or more serious health issue, you may visit a doctor's office to seek medical care and treatment. At a doctor's office, you may receive a physical examination, diagnostic tests, and other forms of medical treatment, depending on the nature of your illness and your specific needs. Doctors are trained to diagnose and treat a wide range of medical conditions, and they can provide you with the care and support you need to recover from your illness and get back to good health.\",\n",
    "    \"A bug looking for wildflowers and no human interruption might go to a meadow. A meadow is a grassland area that is characterized by its open, grassy landscape and the presence of wildflowers and other types of vegetation. Meadows can be found in a variety of settings, including rural areas, forests, and parkland, and they are often home to a variety of animal and plant species. Because meadows are relatively undisturbed by human activity, they can be a good place for a bug to find wildflowers and other types of plants without interference from humans. Meadows are often considered to be peaceful, serene places, and they may be attractive to a bug that is seeking a quiet, natural environment in which to explore and forage.\",\n",
    "    \"If a bride and groom are taking care of proposals, the likely ceremony is a marriage. A marriage is a formal union between two people that is recognized by law and typically involves a public ceremony and the exchange of vows. A marriage proposal is a request for someone to marry another person, and it is typically made by one partner to the other. The process of planning a marriage often involves taking care of a variety of details and arrangements, such as choosing a venue, selecting a date, inviting guests, and organizing the ceremony and reception. If a bride and groom are taking care of proposals, it is likely that they are in the process of planning their marriage and preparing for the wedding ceremony.\",\n",
    "    \"You could put some olives in a jar to prevent them from getting nearby food wet. A jar is a container that is typically made of glass or ceramic and has a wide mouth and a secure, tight-fitting lid. Jars are often used for storing food items, such as olives, pickles, jams, and other types of preserved or dried goods. Because they have a sealed lid, jars can help to keep food fresh and prevent it from coming into contact with air or other substances that might spoil or contaminate it. If you want to prevent olives from getting nearby food wet, you could put them in a jar and close the lid to create an airtight seal. This would help to keep the olives separate from other foods and prevent them from coming into contact with moisture or other liquids.\",\n",
    "    \"If the graveyard was zoned by the pastor, it is likely that it was located on church property. Church property refers to land or buildings that are owned by a church or religious organization. This may include the main church building, as well as other structures such as a rectory, school, or community center. Church property may also include a graveyard or cemetery, which is a place where people are buried after they die. Pastors, who are ordained leaders in a church, often play a central role in the management and oversight of church property, and they may be responsible for zoning or designating areas within the property for specific purposes, such as a graveyard or a garden. If the pastor has zoned the graveyard, it is likely that it is located on church property and is being used as a place for burial by members of the church or community.\",\n",
    "    \"If a family wanted to live with carpeting, they may have ended up putting it in their houses. Houses are structures that are designed and built to be used as homes, and they typically have a number of rooms that are used for different purposes, such as sleeping, cooking, eating, and relaxing. Carpeting is a type of floor covering that is made of soft, flexible materials, such as wool, nylon, or polypropylene, and it is often used in houses to provide warmth, comfort, and insulation. If a family wanted to live with carpeting, they may have chosen to install carpeting in some or all of the rooms in their houses, in order to create a warm and cozy atmosphere and to improve the overall comfort and livability of their homes.\",\n",
    "    \"If a boss likes an employee's ambition, the employee may be put in charge of a project. A project is a specific task or set of tasks that is undertaken in order to achieve a specific goal or objective. Projects may be large or small, complex or simple, and they may involve a wide range of activities, such as research, design, development, testing, and implementation. If an employee is ambitious and demonstrates a strong desire to succeed and make a positive contribution to their organization, their boss may choose to put them in charge of a project, in order to give them the opportunity to demonstrate their skills and abilities and to take on more responsibility. Being put in charge of a project can be a challenging and rewarding experience, and it may provide an employee with the chance to learn new things, develop their skills, and make a meaningful contribution to their organization.\",\n",
    "    \"A county highway can be viewed as a line on a map. A map is a graphic representation of an area or region that shows the locations of various features, such as roads, rivers, mountains, and cities. Maps are often used to help people navigate and find their way around unfamiliar places, and they can be very useful for understanding the layout and geography of an area. County highways are roads that are maintained and operated by a county or local government, and they are typically used for local travel and transportation within a county or region. On a map, a county highway may be represented as a line, with a specific color or symbol used to indicate its location and route. By viewing a county highway as a line on a map, it is possible to get a sense of the route and layout of the road, and to use the map to plan a journey or navigate to a specific destination.\",\n",
    "    \"After going for a run, someone may feel tired. Running is a form of physical activity that involves moving quickly and continuously on foot, typically by running or jogging. It is a popular form of exercise that can help to improve cardiovascular fitness, build endurance, and strengthen the muscles of the legs and lower body. However, running can also be physically demanding, and it requires a certain level of fitness and stamina to be able to sustain the activity for an extended period of time. As a result, it is common for people to feel tired after going for a run, especially if they are not used to the activity or if they have pushed themselves to run for a longer distance or at a faster pace than usual. Tiredness after a run may be accompanied by other physical sensations, such as muscle fatigue, thirst, or a sense of accomplishment.\",\n",
    "    \"If a car was going from Florida to Ohio, it was heading north. Florida is a state in the southeastern region of the United States, and Ohio is a state in the midwestern region of the country. When traveling from Florida to Ohio, a person would need to go north in order to reach their destination. North is a direction that is opposite to south on a map or compass, and it is typically associated with higher latitude, colder climates, and longer nights. When traveling north, a person may encounter different landscapes, weather patterns, and cultural experiences than they would when traveling south, depending on the specific route and the distance traveled. By heading north from Florida to Ohio, a person would be leaving behind the warm, tropical climate of Florida and entering into a more temperate, mid-latitude region with cooler temperatures and a more diverse range of landscapes and ecosystems.\",\n",
    "    \"During a typical week, a teacher is likely to spend most of their time working in school. A teacher is a person who is trained and qualified to teach students in a school or educational setting, and their primary job is to provide instruction and guidance to help students learn and develop their skills and knowledge. Teachers may work in a variety of settings, including primary schools, secondary schools, and universities, and they may teach a wide range of subjects, including math, science, English, history, and the arts. In order to fulfill their duties as a teacher, a person is likely to spend most of their time working in a school or educational setting, where they will be responsible for preparing and delivering lessons, grading assignments, communicating with students and parents, and performing other tasks related to their job. Teachers typically work on a schedule that follows the school year, and they may work full-time or part-time, depending on their specific circumstances and the needs of their students.\",\n",
    "    \"In a predicament, an animal might choose to fight for its life as an alternative to fleeing. Predicament is a term that refers to a difficult or challenging situation, typically one that involves a choice or decision that needs to be made. When an animal finds itself in a predicament, it may have to decide how to respond in order to survive and protect itself. One option that an animal may have is to flee or run away from the situation in an effort to escape danger or avoid conflict. Another option that an animal may have is to fight for its life, using whatever means are available to defend itself and protect its survival. The choice that an animal makes in a predicament will depend on a variety of factors, including the specific nature of the situation, the animal's size, strength, and abilities, and the resources and options that are available to it.\",\n",
    "    \"It is not common for people to fight each other when they find a good deal. A good deal is typically defined as an opportunity to purchase something at a price that is lower than what it is usually worth, or to obtain a product or service that provides more value or benefits than what is expected. When people find a good deal, they may feel excited or pleased about the opportunity to save money or get more for their money, and they may take action to take advantage of the deal. However, it is generally not considered acceptable or appropriate for people to fight each other over a good deal or to engage in physical violence or aggression in order to obtain it. There are many other ways that people can express their interest in a good deal, such as by negotiating with the seller, making an offer, or simply making a purchase if the price is acceptable.\",\n",
    "    \"An altar is a platform or structure that is used for religious ceremonies, rituals, or worship. Altars are often found in places of worship, such as temples, churches, synagogues, mosques, and other religious buildings. When a person is standing in front of an altar, they are likely to be in a temple or other place of worship. Altars can be used for a variety of purposes in different religions and spiritual traditions, such as offering sacrifices, making offerings, praying, or performing other religious practices. They may be decorated with symbols, images, or other items that are significant to the religion or spiritual tradition that is being practiced. Altars may also be used as a place for people to meditate, reflect, or seek spiritual guidance.\",\n",
    "    \"Joe bought a bunch of grapes because he likes to use them to top his desserts. A dessert is a type of food that is typically served at the end of a meal, and it is usually sweet or rich in flavor. There are many different types of desserts that people enjoy, including cakes, cookies, ice cream, pie, and other sweet treats. One way that people may use grapes as a topping for their desserts is by placing them on top of a fruit pie, tart, or crisp. Grapes can add flavor and texture to a dessert, and they may also be used to decorate a dessert or to add visual appeal. Grapes are a versatile fruit that can be used in many different types of desserts, and they can be eaten fresh, frozen, or preserved in various ways.\",\n",
    "    \"Well water is water that is obtained from underground sources, typically through the use of a well. A well is a hole or shaft that is dug into the ground in order to access water that is contained in underground aquifers or other water-bearing formations. Well water is typically used for drinking, irrigation, and other purposes, and it is often considered to be of high quality because it is filtered and purified naturally as it flows through the ground. To obtain well water, a person can dig a well or have one dug by a professional well driller. The depth of the well will depend on the location and the geology of the area, and a pump or other mechanical system may be used to bring the water to the surface.\",\n",
    "]"
   ]
  },
  {
   "cell_type": "code",
   "execution_count": 20,
   "id": "d9681ea9",
   "metadata": {},
   "outputs": [],
   "source": [
    "def list2dict(refine_data):\n",
    "    refine_data_dict={}\n",
    "    for key in refine_data[0].keys():\n",
    "        refine_data_dict[key]=[x[key] for x in refine_data]\n",
    "    return refine_data_dict\n",
    "\n",
    "select_refine_train_data = []\n",
    "for da in refine_train_data:\n",
    "    if da['id'] in id_list:\n",
    "        da['our_explanation'] = chatGPT_rationales[id_list.index(da['id'])]\n",
    "        select_refine_train_data.append(da) \n",
    "        \n",
    "select_refine_train_data_dict = list2dict(select_refine_train_data)\n",
    "our_data_splits['train'] = datasets.Dataset.from_dict(select_refine_train_data_dict)\n",
    "\n",
    "refine_dev_data_dict = list2dict(refine_dev_data)\n",
    "our_data_splits['dev'] = datasets.Dataset.from_dict(refine_dev_data_dict)\n",
    "\n",
    "refine_test_data_dict = list2dict(refine_test_data)\n",
    "our_data_splits['test'] = datasets.Dataset.from_dict(refine_test_data_dict)\n",
    "\n"
   ]
  },
  {
   "cell_type": "code",
   "execution_count": 21,
   "id": "53ab0e1a",
   "metadata": {},
   "outputs": [],
   "source": [
    "import datasets\n",
    "class SequenceCollator:\n",
    "    def __init__(self, pad_token):\n",
    "        # self.pad_token_mapping = {\n",
    "        #     \"lm_labels\": -100,\n",
    "        #     \"attention_mask\": 0,\n",
    "        #     \"decoder_attention_mask\": 0,\n",
    "        #     \"input_ids\": pad_token,\n",
    "        # }\n",
    "        # self.columns = [\n",
    "        #     \"input_ids\",\n",
    "        #     \"attention_mask\",\n",
    "        #     \"lm_labels\",\n",
    "        #     \"decoder_attention_mask\",\n",
    "        # ]\n",
    "        self.pad_token_mapping = {\n",
    "            \"labels\": -100,\n",
    "            \"attention_mask\": 0,\n",
    "            \"decoder_attention_mask\": 0,\n",
    "            \"input_ids\": pad_token,\n",
    "        }\n",
    "        self.columns = [\n",
    "            \"input_ids\",\n",
    "            \"attention_mask\",\n",
    "            \"labels\",\n",
    "            \"decoder_attention_mask\",\n",
    "        ]\n",
    "\n",
    "    def collate_batch(self, examples):\n",
    "\n",
    "        # batch inputs for training\n",
    "        batch = {}\n",
    "        for key in examples[0].keys():\n",
    "            if key in self.columns:\n",
    "                tmp_list = []\n",
    "                for item in examples:\n",
    "                    tmp_list.append(item[key])\n",
    "\n",
    "                # pad lists to max length\n",
    "                if isinstance(tmp_list[0], list):\n",
    "                    max_length = max(map(len, tmp_list))\n",
    "                    tmp_list = [\n",
    "                        el + [self.pad_token_mapping[key]] * (max_length - len(el))\n",
    "                        for el in tmp_list\n",
    "                    ]\n",
    "\n",
    "                batch[key] = torch.tensor(tmp_list, dtype=torch.long)\n",
    "        return batch\n",
    "    \n",
    "    def __call__(self, examples: List[Dict[str, InputDataClass]]) -> Dict[str, torch.Tensor]:\n",
    "        # re-format inputs for training\n",
    "        batch = {}\n",
    "        for key in examples[0].keys():\n",
    "            if key in self.columns:\n",
    "                tmp_list = []\n",
    "                for item in examples:\n",
    "                    tmp_list.append(item[key])\n",
    "\n",
    "                # pad lists to max length\n",
    "                if isinstance(tmp_list[0], list):\n",
    "                    max_length = max(map(len, tmp_list))\n",
    "                    tmp_list = [\n",
    "                        el + [self.pad_token_mapping[key]] * (max_length - len(el))\n",
    "                        for el in tmp_list\n",
    "                    ]\n",
    "\n",
    "                batch[key] = torch.tensor(tmp_list, dtype=torch.long)\n",
    "        return batch\n",
    "# dataset = datasets.load_dataset(data_args.task_name, data_args.version_name)"
   ]
  },
  {
   "cell_type": "code",
   "execution_count": 22,
   "id": "219866fe",
   "metadata": {},
   "outputs": [
    {
     "data": {
      "application/json": {
       "ascii": false,
       "bar_format": null,
       "colour": null,
       "elapsed": 0.02253437042236328,
       "initial": 0,
       "n": 0,
       "ncols": null,
       "nrows": 60,
       "postfix": null,
       "prefix": "",
       "rate": null,
       "total": 48,
       "unit": "ex",
       "unit_divisor": 1000,
       "unit_scale": false
      },
      "application/vnd.jupyter.widget-view+json": {
       "model_id": "918c6c8befe14dfb925655542cc58647",
       "version_major": 2,
       "version_minor": 0
      },
      "text/plain": [
       "  0%|          | 0/48 [00:00<?, ?ex/s]"
      ]
     },
     "metadata": {},
     "output_type": "display_data"
    },
    {
     "data": {
      "application/json": {
       "ascii": false,
       "bar_format": null,
       "colour": null,
       "elapsed": 0.014903545379638672,
       "initial": 0,
       "n": 0,
       "ncols": null,
       "nrows": 60,
       "postfix": null,
       "prefix": "",
       "rate": null,
       "total": 986,
       "unit": "ex",
       "unit_divisor": 1000,
       "unit_scale": false
      },
      "application/vnd.jupyter.widget-view+json": {
       "model_id": "39cf07559f1549f0b66360b2cfe0d0a0",
       "version_major": 2,
       "version_minor": 0
      },
      "text/plain": [
       "  0%|          | 0/986 [00:00<?, ?ex/s]"
      ]
     },
     "metadata": {},
     "output_type": "display_data"
    },
    {
     "data": {
      "application/json": {
       "ascii": false,
       "bar_format": null,
       "colour": null,
       "elapsed": 0.015378236770629883,
       "initial": 0,
       "n": 0,
       "ncols": null,
       "nrows": 60,
       "postfix": null,
       "prefix": "",
       "rate": null,
       "total": 255,
       "unit": "ex",
       "unit_divisor": 1000,
       "unit_scale": false
      },
      "application/vnd.jupyter.widget-view+json": {
       "model_id": "7dccdcc118764d4aa382f4df7f85a0c2",
       "version_major": 2,
       "version_minor": 0
      },
      "text/plain": [
       "  0%|          | 0/255 [00:00<?, ?ex/s]"
      ]
     },
     "metadata": {},
     "output_type": "display_data"
    }
   ],
   "source": [
    "# seq_collector = SequenceCollator(0)\n",
    "# train_ds = seq_collector.__call__(dataset['train'])\n",
    "# train_ds\n",
    "# dataset['train'][0].keys()\n",
    "for split in ['train','dev','test']:\n",
    "    our_data_splits[split] = our_data_splits[split].map(\n",
    "            lambda x: format_instance(\n",
    "                x,\n",
    "                tokenizer,\n",
    "                data_args.explanation_sep,\n",
    "                datasource=data_args.task_name,\n",
    "                io_format=data_args.io_format\n",
    "            ),\n",
    "            batched=False,\n",
    "            load_from_cache_file=False,\n",
    "        )"
   ]
  },
  {
   "cell_type": "code",
   "execution_count": 23,
   "id": "0c120e04",
   "metadata": {},
   "outputs": [
    {
     "name": "stdout",
     "output_type": "stream",
     "text": [
      "Loading model: this will run only once.\n",
      "../few_shot_explanations/pretrained_models/csqa_models/valloss=0.28925~model=t5-3b~lr=0.0001~seed=1~labelagg=0_just_weights.pt\n"
     ]
    },
    {
     "name": "stderr",
     "output_type": "stream",
     "text": [
      "01/04/2023 17:59:08 - INFO - faiss.loader -   Loading faiss with AVX2 support.\n",
      "01/04/2023 17:59:08 - INFO - faiss.loader -   Could not load library with AVX2 support due to:\n",
      "ModuleNotFoundError(\"No module named 'faiss.swigfaiss_avx2'\")\n",
      "01/04/2023 17:59:08 - INFO - faiss.loader -   Loading faiss.\n",
      "01/04/2023 17:59:09 - INFO - faiss.loader -   Successfully loaded faiss.\n",
      "loading configuration file https://huggingface.co/t5-3b/resolve/main/config.json from cache at /home/huangyongfeng/.cache/huggingface/transformers/9548aafe2574163cda830b603f9821f06bbded327f57ecf09d4ad292d00f4b09.9872b28381f35eb45b1f1f839ef14943e64a0a448f611993c2e987c4d3e0844c\n",
      "Model config T5Config {\n",
      "  \"architectures\": [\n",
      "    \"T5WithLMHeadModel\"\n",
      "  ],\n",
      "  \"d_ff\": 16384,\n",
      "  \"d_kv\": 128,\n",
      "  \"d_model\": 1024,\n",
      "  \"decoder_start_token_id\": 0,\n",
      "  \"dropout_rate\": 0.1,\n",
      "  \"eos_token_id\": 1,\n",
      "  \"feed_forward_proj\": \"relu\",\n",
      "  \"gradient_checkpointing\": false,\n",
      "  \"initializer_factor\": 1.0,\n",
      "  \"is_encoder_decoder\": true,\n",
      "  \"layer_norm_epsilon\": 1e-06,\n",
      "  \"model_type\": \"t5\",\n",
      "  \"n_positions\": 512,\n",
      "  \"num_decoder_layers\": 24,\n",
      "  \"num_heads\": 32,\n",
      "  \"num_layers\": 24,\n",
      "  \"output_past\": true,\n",
      "  \"pad_token_id\": 0,\n",
      "  \"relative_attention_num_buckets\": 32,\n",
      "  \"task_specific_params\": {\n",
      "    \"summarization\": {\n",
      "      \"early_stopping\": true,\n",
      "      \"length_penalty\": 2.0,\n",
      "      \"max_length\": 200,\n",
      "      \"min_length\": 30,\n",
      "      \"no_repeat_ngram_size\": 3,\n",
      "      \"num_beams\": 4,\n",
      "      \"prefix\": \"summarize: \"\n",
      "    },\n",
      "    \"translation_en_to_de\": {\n",
      "      \"early_stopping\": true,\n",
      "      \"max_length\": 300,\n",
      "      \"num_beams\": 4,\n",
      "      \"prefix\": \"translate English to German: \"\n",
      "    },\n",
      "    \"translation_en_to_fr\": {\n",
      "      \"early_stopping\": true,\n",
      "      \"max_length\": 300,\n",
      "      \"num_beams\": 4,\n",
      "      \"prefix\": \"translate English to French: \"\n",
      "    },\n",
      "    \"translation_en_to_ro\": {\n",
      "      \"early_stopping\": true,\n",
      "      \"max_length\": 300,\n",
      "      \"num_beams\": 4,\n",
      "      \"prefix\": \"translate English to Romanian: \"\n",
      "    }\n",
      "  },\n",
      "  \"transformers_version\": \"4.9.2\",\n",
      "  \"use_cache\": true,\n",
      "  \"vocab_size\": 32128\n",
      "}\n",
      "\n",
      "loading weights file https://huggingface.co/t5-3b/resolve/main/pytorch_model.bin from cache at /home/huangyongfeng/.cache/huggingface/transformers/289687014f876f6cef27445bdc8175fd03dc36a99201b68d8e925957e4987b4f.885f97e8ec826518534b45f8b52caea4ca553494390d587dcf49492d95732676\n",
      "All model checkpoint weights were used when initializing T5ForConditionalGeneration.\n",
      "\n",
      "All the weights of T5ForConditionalGeneration were initialized from the model checkpoint at t5-3b.\n",
      "If your task is similar to the task the model of the checkpoint was trained on, you can already use T5ForConditionalGeneration for predictions without further training.\n"
     ]
    }
   ],
   "source": [
    "'''\n",
    "A (hopefully) Simple API for serving explanation score requests.\n",
    "\n",
    "input_string = (\n",
    "    f\"{question} answer: {gold_label}. \"\n",
    "    + f\" explanation: {abstr_expl}.\"\n",
    ")\n",
    "\n",
    "here are some example input strings:\n",
    "\n",
    "If you feel like everything is spinning while climbing you are experiencing what? answer: vertigo. explanation: Vertigo is often experienced while climbing or at heights.\n",
    "Where do you get clothes in a shopping bag? answer: retail store. explanation: For any large item where convenience is beneficial, one might go to a retail store, either a regular one or a big-box store like walmart.\n",
    "Where should a cat be in a house? answer: floor. explanation: A cat should be on the floor, not on a rug.\n",
    "'''\n",
    "import pdb\n",
    "import argparse\n",
    "import torch\n",
    "import transformers\n",
    "import os\n",
    "import tqdm\n",
    "import numpy as np\n",
    "\n",
    "_model, _tokenizer = None, None\n",
    "\n",
    "model2url = {\n",
    "    'large': 'https://storage.googleapis.com/ai2-mosaic-public/projects/few-shot-explanations/pretrained_models/commonsense_qa/valloss%3D0.28665~model%3Dt5-large~lr%3D0.0001~seed%3D1~labelagg%3D0_just_weights.pt',\n",
    "    '3b': 'https://storage.googleapis.com/ai2-mosaic-public/projects/few-shot-explanations/pretrained_models/commonsense_qa/valloss%3D0.28925~model%3Dt5-3b~lr%3D0.0001~seed%3D1~labelagg%3D0_just_weights.pt',\n",
    "    '11b': 'https://storage.googleapis.com/ai2-mosaic-public/projects/few-shot-explanations/pretrained_models/commonsense_qa/cose_deepspeed_valloss%3D0.00000~model%3Dt5-11b~lr%3D0.00001~seed%3D1~labelagg%3D0.pt',\n",
    "}\n",
    "\n",
    "def get_model(model_type, device=None):\n",
    "    global _model, model2url\n",
    "    if model_type not in {'11b', '3b', 'large'}:\n",
    "        raise NotImplementedError('{} is not a valid model please use \"3b\" or \"large\"'.format(model_type))\n",
    "\n",
    "    if _model is None:\n",
    "        hf_model_name = 't5-' + model_type\n",
    "        print('Loading model: this will run only once.')\n",
    "\n",
    "        if model_type == 'large':\n",
    "            model_path = '../few_shot_explanations/pretrained_models/csqa_models/t5-large.pt'\n",
    "        elif model_type == '3b':\n",
    "            \n",
    "            model_path = '../few_shot_explanations/pretrained_models/csqa_models/valloss=0.28925~model=t5-3b~lr=0.0001~seed=1~labelagg=0_just_weights.pt'\n",
    "            print(model_path)\n",
    "        elif model_type == '11b':\n",
    "            model_path = '../few_shot_explanations/pretrained_models/csqa_models/cose_deepspeed_valloss=0.00000~model=t5-11b~lr=0.00001~seed=1~labelagg=0.pt'\n",
    "\n",
    "        if not os.path.exists(model_path):\n",
    "            print('Please download weights for {} model and put in current directory.'.format(model_path))\n",
    "            print('for example, wget {}'.format(model2url[model_type]))\n",
    "            quit()\n",
    "\n",
    "        state = torch.load(model_path, map_location=torch.device('cpu'))\n",
    "        if 'model_state_dict' in state:\n",
    "            state = state['model_state_dict']\n",
    "\n",
    "        _model = transformers.AutoModelForSeq2SeqLM.from_pretrained(hf_model_name)\n",
    "        if model_type == '11b': # need to resize due to deepspeed, these entires are not accessed.\n",
    "            _model.resize_token_embeddings(len(transformers.AutoTokenizer.from_pretrained(hf_model_name)))\n",
    "        _model.load_state_dict(state)\n",
    "        _model.eval()\n",
    "        if device is not None:\n",
    "            _model = _model.to(device)\n",
    "\n",
    "    return _model\n",
    "\n",
    "\n",
    "def get_tokenizer(model_type):\n",
    "    global _tokenizer\n",
    "    if model_type not in {'3b', 'large', '11b'}:\n",
    "        raise NotImplementedError('{} is not a valid model please use \"3b\" or \"large\" or \"11b\"'.format(model_type))\n",
    "\n",
    "    if _tokenizer is None:\n",
    "        hf_model_name = 't5-' + model_type\n",
    "        _tokenizer = transformers.T5TokenizerFast.from_pretrained(hf_model_name)\n",
    "\n",
    "    return _tokenizer\n",
    "\n",
    "\n",
    "class T5Dataset(torch.utils.data.Dataset):\n",
    "    def __init__(self, data, tokenizer):\n",
    "        self.data = data\n",
    "        self.tokenizer = tokenizer\n",
    "\n",
    "    def __getitem__(self, idx):\n",
    "        res = self.tokenizer(self.data[idx]['input'], truncation=True)\n",
    "        res['labels'] = self.tokenizer(self.data[idx]['label']).input_ids\n",
    "        return res\n",
    "\n",
    "    def __len__(self):\n",
    "        return len(self.data)\n",
    "\n",
    "\n",
    "def get_scores(inputs, model_type, model, tokenizer, device=None, batch_size=32, verbose=False):\n",
    "    '''\n",
    "    Inputs:\n",
    "      - a list of explanations to score, e.g.,:\n",
    "        premise: A man getting a tattoo on his back. hypothesis: A woman is getting a tattoo. answer: contradiction. explanation: Because the tattoo artist is a man, the person getting the tattoo is not a woman.\n",
    "      - model type, either \"3b\" or \"large\" or \"11b\"\n",
    "      - device: which torch device to load model on, e.g., \"cuda:3\"\n",
    "    Outputs:\n",
    "      - P(good explanation); higher is better\n",
    "    '''\n",
    "    \n",
    "\n",
    "    score_itr = T5Dataset([{'input': inp, 'label': 'x'} for inp in inputs], tokenizer) # dummy labels for inference\n",
    "    data_collator = transformers.DataCollatorForSeq2Seq(\n",
    "        tokenizer,\n",
    "        model=model,\n",
    "        label_pad_token_id=-100,\n",
    "#         return_tensors='pt'\n",
    "    )\n",
    "    score_itr = torch.utils.data.DataLoader(score_itr, shuffle=False, collate_fn=data_collator, batch_size=batch_size)\n",
    "    score_itr = score_itr if not verbose else tqdm.tqdm(score_itr, total=len(score_itr))\n",
    "\n",
    "    good_idx, bad_idx = tokenizer('good').input_ids[0], tokenizer('bad').input_ids[0]\n",
    "    scores = []\n",
    "    \n",
    "    with torch.no_grad():\n",
    "        for batch in score_itr:\n",
    "            if device is not None:\n",
    "                input_ids, attention_mask, targets = batch['input_ids'].to(device), batch['attention_mask'].to(device), batch['labels'].to(device)\n",
    "            model_output = model(input_ids=input_ids, attention_mask=attention_mask, labels=targets)\n",
    "            logits_pos = model_output['logits'][:, 0, good_idx].cpu().numpy()\n",
    "            logits_neg = model_output['logits'][:, 0, bad_idx].cpu().numpy()\n",
    "            exp_logit_pos, exp_logit_neg = np.exp(logits_pos), np.exp(logits_neg)\n",
    "            score = list([float(x) for x in exp_logit_pos / (exp_logit_pos + exp_logit_neg)])\n",
    "            #pdb.set_trace()\n",
    "            scores.extend(score)\n",
    "    return scores\n",
    "\n",
    "model_type = '3b'\n",
    "device='cpu'\n",
    "assert model_type in {'large', '3b', '11b'}\n",
    "\n",
    "# if isinstance(inputs, str):\n",
    "#     inputs = [inputs]\n",
    "\n",
    "score_model = get_model(model_type, device='cpu')\n"
   ]
  },
  {
   "cell_type": "code",
   "execution_count": 24,
   "id": "05d71c93",
   "metadata": {},
   "outputs": [
    {
     "name": "stderr",
     "output_type": "stream",
     "text": [
      "loading file https://huggingface.co/t5-3b/resolve/main/spiece.model from cache at /home/huangyongfeng/.cache/huggingface/transformers/529487bfb232bc6331b488e0e3f011af7d700beb874529a38613f0c162994f36.3b69006860e7b5d0a63ffdddc01ddcd6b7c318a6f4fd793596552c741734c62d\n",
      "loading file https://huggingface.co/t5-3b/resolve/main/tokenizer.json from cache at /home/huangyongfeng/.cache/huggingface/transformers/8cc0c6618e070737993bd96f1f5251e1cc850a347fa1ff28c378c89c66e66c80.8627f1bd5d270a9fd2e5a51c8bec3223896587cc3cfe13edeabb0992ab43c529\n",
      "loading file https://huggingface.co/t5-3b/resolve/main/added_tokens.json from cache at None\n",
      "loading file https://huggingface.co/t5-3b/resolve/main/special_tokens_map.json from cache at None\n",
      "loading file https://huggingface.co/t5-3b/resolve/main/tokenizer_config.json from cache at None\n",
      "loading configuration file https://huggingface.co/t5-3b/resolve/main/config.json from cache at /home/huangyongfeng/.cache/huggingface/transformers/9548aafe2574163cda830b603f9821f06bbded327f57ecf09d4ad292d00f4b09.9872b28381f35eb45b1f1f839ef14943e64a0a448f611993c2e987c4d3e0844c\n",
      "Model config T5Config {\n",
      "  \"architectures\": [\n",
      "    \"T5WithLMHeadModel\"\n",
      "  ],\n",
      "  \"d_ff\": 16384,\n",
      "  \"d_kv\": 128,\n",
      "  \"d_model\": 1024,\n",
      "  \"decoder_start_token_id\": 0,\n",
      "  \"dropout_rate\": 0.1,\n",
      "  \"eos_token_id\": 1,\n",
      "  \"feed_forward_proj\": \"relu\",\n",
      "  \"gradient_checkpointing\": false,\n",
      "  \"initializer_factor\": 1.0,\n",
      "  \"is_encoder_decoder\": true,\n",
      "  \"layer_norm_epsilon\": 1e-06,\n",
      "  \"model_type\": \"t5\",\n",
      "  \"n_positions\": 512,\n",
      "  \"num_decoder_layers\": 24,\n",
      "  \"num_heads\": 32,\n",
      "  \"num_layers\": 24,\n",
      "  \"output_past\": true,\n",
      "  \"pad_token_id\": 0,\n",
      "  \"relative_attention_num_buckets\": 32,\n",
      "  \"task_specific_params\": {\n",
      "    \"summarization\": {\n",
      "      \"early_stopping\": true,\n",
      "      \"length_penalty\": 2.0,\n",
      "      \"max_length\": 200,\n",
      "      \"min_length\": 30,\n",
      "      \"no_repeat_ngram_size\": 3,\n",
      "      \"num_beams\": 4,\n",
      "      \"prefix\": \"summarize: \"\n",
      "    },\n",
      "    \"translation_en_to_de\": {\n",
      "      \"early_stopping\": true,\n",
      "      \"max_length\": 300,\n",
      "      \"num_beams\": 4,\n",
      "      \"prefix\": \"translate English to German: \"\n",
      "    },\n",
      "    \"translation_en_to_fr\": {\n",
      "      \"early_stopping\": true,\n",
      "      \"max_length\": 300,\n",
      "      \"num_beams\": 4,\n",
      "      \"prefix\": \"translate English to French: \"\n",
      "    },\n",
      "    \"translation_en_to_ro\": {\n",
      "      \"early_stopping\": true,\n",
      "      \"max_length\": 300,\n",
      "      \"num_beams\": 4,\n",
      "      \"prefix\": \"translate English to Romanian: \"\n",
      "    }\n",
      "  },\n",
      "  \"transformers_version\": \"4.9.2\",\n",
      "  \"use_cache\": true,\n",
      "  \"vocab_size\": 32128\n",
      "}\n",
      "\n"
     ]
    }
   ],
   "source": [
    "score_tokenizer = get_tokenizer(model_type)"
   ]
  },
  {
   "cell_type": "code",
   "execution_count": 25,
   "id": "592cc76c",
   "metadata": {},
   "outputs": [
    {
     "name": "stderr",
     "output_type": "stream",
     "text": [
      "loading configuration file ./cos_e_output_t5_3b/010123_223442/checkpoint-150/config.json\n",
      "Model config T5Config {\n",
      "  \"_name_or_path\": \"t5-3b\",\n",
      "  \"architectures\": [\n",
      "    \"T5ForConditionalGeneration\"\n",
      "  ],\n",
      "  \"d_ff\": 16384,\n",
      "  \"d_kv\": 128,\n",
      "  \"d_model\": 1024,\n",
      "  \"decoder_start_token_id\": 0,\n",
      "  \"dropout_rate\": 0.1,\n",
      "  \"eos_token_id\": 1,\n",
      "  \"feed_forward_proj\": \"relu\",\n",
      "  \"gradient_checkpointing\": false,\n",
      "  \"initializer_factor\": 1.0,\n",
      "  \"is_encoder_decoder\": true,\n",
      "  \"layer_norm_epsilon\": 1e-06,\n",
      "  \"model_type\": \"t5\",\n",
      "  \"n_positions\": 512,\n",
      "  \"num_decoder_layers\": 24,\n",
      "  \"num_heads\": 32,\n",
      "  \"num_layers\": 24,\n",
      "  \"output_past\": true,\n",
      "  \"pad_token_id\": 0,\n",
      "  \"relative_attention_num_buckets\": 32,\n",
      "  \"task_specific_params\": {\n",
      "    \"summarization\": {\n",
      "      \"early_stopping\": true,\n",
      "      \"length_penalty\": 2.0,\n",
      "      \"max_length\": 200,\n",
      "      \"min_length\": 30,\n",
      "      \"no_repeat_ngram_size\": 3,\n",
      "      \"num_beams\": 4,\n",
      "      \"prefix\": \"summarize: \"\n",
      "    },\n",
      "    \"translation_en_to_de\": {\n",
      "      \"early_stopping\": true,\n",
      "      \"max_length\": 300,\n",
      "      \"num_beams\": 4,\n",
      "      \"prefix\": \"translate English to German: \"\n",
      "    },\n",
      "    \"translation_en_to_fr\": {\n",
      "      \"early_stopping\": true,\n",
      "      \"max_length\": 300,\n",
      "      \"num_beams\": 4,\n",
      "      \"prefix\": \"translate English to French: \"\n",
      "    },\n",
      "    \"translation_en_to_ro\": {\n",
      "      \"early_stopping\": true,\n",
      "      \"max_length\": 300,\n",
      "      \"num_beams\": 4,\n",
      "      \"prefix\": \"translate English to Romanian: \"\n",
      "    }\n",
      "  },\n",
      "  \"torch_dtype\": \"float32\",\n",
      "  \"transformers_version\": \"4.9.2\",\n",
      "  \"use_cache\": true,\n",
      "  \"vocab_size\": 32128\n",
      "}\n",
      "\n",
      "loading weights file ./cos_e_output_t5_3b/010123_223442/checkpoint-150/pytorch_model.bin\n",
      "All model checkpoint weights were used when initializing T5ForConditionalGeneration.\n",
      "\n",
      "All the weights of T5ForConditionalGeneration were initialized from the model checkpoint at ./cos_e_output_t5_3b/010123_223442/checkpoint-150.\n",
      "If your task is similar to the task the model of the checkpoint was trained on, you can already use T5ForConditionalGeneration for predictions without further training.\n"
     ]
    }
   ],
   "source": [
    "good_model = T5ForConditionalGeneration.from_pretrained(\"./cos_e_output_t5_3b/010123_223442/checkpoint-150\")"
   ]
  },
  {
   "cell_type": "code",
   "execution_count": null,
   "id": "51cb3cb5",
   "metadata": {},
   "outputs": [
    {
     "name": "stderr",
     "output_type": "stream",
     "text": [
      "\r",
      "  0%|                                                                                                                                                                               | 0/986 [00:00<?, ?it/s]"
     ]
    },
    {
     "name": "stdout",
     "output_type": "stream",
     "text": [
      "*******\n",
      "question: where do children play a game?\n",
      "answer: family room\n",
      "choices: ['toy store', 'bar', 'casino', 'table', 'family room']\n",
      "common expl list: ['A family room is a room in many homes in which families can socialize, often through games. One such game is \"connect four.', 'A family room is a room in a house where family members can play games.']\n",
      "generated explanation: <pad> <extra_id_0> A game is a type of activity or activity that involves the use of physical skills, strategy, and tactics to achieve a specific goal or objective. Games can be played in a variety of settings, including the living room, bedroom, and kitchen. Games can be played in a variety of settings, including the family room, bedroom, and kitchen, and they can be played by children of all ages. There are many different types of games that children can play, including\n"
     ]
    },
    {
     "name": "stderr",
     "output_type": "stream",
     "text": [
      "\r",
      " 20%|█████████████████████████████████▋                                                                                                                                   | 201/986 [11:26<44:41,  3.42s/it]"
     ]
    },
    {
     "name": "stdout",
     "output_type": "stream",
     "text": [
      "score: 0.7126725316047668\n",
      "########\n",
      "*******\n",
      "question: Where is there a very large graveyard?\n",
      "answer: arlington\n",
      "choices: ['arlington', 'city', 'every town', 'church grounds', 'on the ocean']\n",
      "common expl list: ['Arlington is a military burial ground, and is the largest cemetery in the United States.', 'Arlington National Cemetery is a national cemetery in Arlington County, Virginia containing the remains of more than 275,000 men and women, soldiers and civilians who served in the armed forces of the United States.']\n",
      "generated explanation: <pad> <extra_id_0> There is a very large graveyard in arlington, Texas. The graveyard is located in the city of Arlington, Texas. The city is known for its large, historic graveyard and is home to many different types of monuments, including monuments, memorials, and cemeteries. There are many different types of graveyards in the area, including those that are open-air and those that are enclosed in walls. There are also many different types\n"
     ]
    },
    {
     "name": "stderr",
     "output_type": "stream",
     "text": [
      "\r",
      " 20%|█████████████████████████████████▍                                                                                                                                 | 202/986 [23:10<1:49:12,  8.36s/it]"
     ]
    },
    {
     "name": "stdout",
     "output_type": "stream",
     "text": [
      "score: 0.7163354754447937\n",
      "########\n",
      "*******\n",
      "question: Where would have a specialty hair salon for guests?\n",
      "answer: hotel\n",
      "choices: ['mail', 'shopping center', 'hotel', 'resort', 'metropolitan city']\n",
      "common expl list: ['Guests of a hotel, resort, resort, etc. would want to pamper themselves.']\n",
      "generated explanation: <pad> <extra_id_0> A hotel might have a specialty hair salon for guests. A hair salon is a beauty parlor or salon that offers hair styling and beauty services. Hotels typically have a variety of amenities, including spas, fitness centers, and restaurants. One of the most common amenities that guests may enjoy is a hair salon. Many hotels have hair salons that are staffed by professionals who are trained in the art of hair styling and cutting. These salons may offer a variety\n"
     ]
    },
    {
     "name": "stderr",
     "output_type": "stream",
     "text": [
      "\r",
      " 21%|█████████████████████████████████▌                                                                                                                                 | 203/986 [34:42<3:18:08, 15.18s/it]"
     ]
    },
    {
     "name": "stdout",
     "output_type": "stream",
     "text": [
      "score: 0.839412271976471\n",
      "########\n",
      "*******\n",
      "question: The best place for the troublemaker to sneak a smoke while he was in where, was in the bathroom?\n",
      "answer: school\n",
      "choices: ['playground', 'school', 'at hotel', 'theater', 'convenience store']\n",
      "common expl list: ['The best place for the troublemaker to sneak a smoke could be in the bathroom because there tend to be few other people in the bathroom because it does not generally have lines, even during times when other parts of the school would have lots of traffic.']\n",
      "generated explanation: <pad> <extra_id_0> The best place for the troublemaker to sneak a smoke while he was in the bathroom was in the bathroom. The bathroom is a private room in a building that is used for educational purposes, such as a kindergarten, elementary school, high school, or university. It is a common practice for troublemakers to sneak cigarettes into bathrooms as a way of avoiding detection and arrest. In order to avoid detection, troublemakers may choose to smoke in the bathroom while\n"
     ]
    },
    {
     "name": "stderr",
     "output_type": "stream",
     "text": [
      "\r",
      " 21%|█████████████████████████████████▋                                                                                                                                 | 204/986 [47:13<5:32:40, 25.52s/it]"
     ]
    },
    {
     "name": "stdout",
     "output_type": "stream",
     "text": [
      "score: 0.6477099657058716\n",
      "########\n",
      "*******\n",
      "question: What is a person using their whole body for work likely to complain of?\n",
      "answer: sore muscles\n",
      "choices: ['aching back', 'make mistakes', 'big muscles', 'lower back pain', 'sore muscles']\n",
      "common expl list: ['In order to lift heavy cargoes one must use their whole body. Muscles are strained when something is very heavy and repetitive, such as when one is lifting crates regularly. Muscles tend to become sore until adjusted.', 'People who use their whole body to work are likely to develop sore muscles.']\n",
      "generated explanation: <pad> <extra_id_0> A person using their whole body for work is likely to complain of sore muscles. Sore muscles are aches and pains that are experienced as a result of using their muscles for work. These muscles are located throughout the body and are used for a variety of activities, such as lifting, carrying, bending, twisting, and extending. As a result, a person using their whole body for work is likely to experience sore muscles and other related complaints\n",
      "generated explanation: <pad> <extra_id_0> When dogs get hot and tired, they like to sloppily drink water. Water is a natural cooling agent that can help to cool the body and reduce the risk of heat stroke and other health problems. It is important for dogs to drink plenty of water to stay hydrated and to help cool the body. Dogs may drink water to quench their thirst and to help cool the body. Water can also help to cool the body when it is hot and tired. Dog\n"
     ]
    },
    {
     "name": "stderr",
     "output_type": "stream",
     "text": [
      "\r",
      " 21%|█████████████████████████████████▍                                                                                                                              | 206/986 [1:10:18<12:13:46, 56.44s/it]"
     ]
    },
    {
     "name": "stdout",
     "output_type": "stream",
     "text": [
      "score: 0.8111022710800171\n",
      "########\n",
      "*******\n",
      "question: Where is a horse likely to live?\n",
      "answer: farm yard\n",
      "choices: ['michigan', 'stable', 'race track', 'farm yard', 'arizona']\n",
      "common expl list: ['Horses are often kept on farms.', 'Horses usually live on a farm.', 'Horses are often kept at farms, where they are raised and fed. Stables are usually places where horses are kept in their later years.']\n",
      "generated explanation: <pad> <extra_id_0> A horse is likely to live in a farm yard. A farm yard is a place where animals are kept for their daily needs, such as feeding, watering, and sheltering. Horses are large, powerful animals that are used for a variety of tasks, such as pulling a wagon, hauling hay, or grazing. They are often used as a source of transportation and recreation, and they are often used for their mobility and endurance. A\n"
     ]
    },
    {
     "name": "stderr",
     "output_type": "stream",
     "text": [
      "\r",
      " 21%|█████████████████████████████████▌                                                                                                                              | 207/986 [1:21:42<17:19:23, 80.06s/it]"
     ]
    },
    {
     "name": "stdout",
     "output_type": "stream",
     "text": [
      "score: 0.7819734215736389\n",
      "########\n",
      "*******\n",
      "question: Billy lived with his uncle.  This was an unusual arrangement. Name something that is different from this arrangement.\n",
      "answer: most families\n",
      "choices: ['dormitories', 'older generation', 'most families', \"aunt's house\", 'aunts house']\n",
      "common expl list: ['Most people do not live with relatives other than parents, children, or grandparents.']\n",
      "generated explanation: <pad> <extra_id_0> Billy lived with his uncle. This was an unusual arrangement. Most families have more than one adult in the household. This is a common arrangement in many cultures, and it is often considered to be more traditional. However, there are some families that have more than one adult in the household, such as extended families, stepfamilies, and foster families. These arrangements may be more traditional in nature and may be more common in some cultures. If Billy lived with his uncle, it\n"
     ]
    },
    {
     "name": "stderr",
     "output_type": "stream",
     "text": [
      "\r",
      " 21%|█████████████████████████████████▌                                                                                                                             | 208/986 [1:33:23<24:08:41, 111.72s/it]"
     ]
    },
    {
     "name": "stdout",
     "output_type": "stream",
     "text": [
      "score: 0.5630946159362793\n",
      "########\n",
      "*******\n",
      "question: What is likely heard by those going to a party?\n",
      "answer: laughter\n",
      "choices: ['smoking pot', 'happiness', 'laughter', 'babies', 'meet new people']\n",
      "common expl list: ['Parties are likely a place where people will laugh, and laughter is commonly heard at parties.', 'Parties are often a place where people laugh and have a good time.', 'Typically parties involve lots of laughter, especially in the commen room, where people will let go of their worries and have a fun time, by laughing.']\n",
      "generated explanation: <pad> <extra_id_0> It is likely that those going to a party will hear laughter. Laughter is a common sound that is heard at parties and other social gatherings, and it is often associated with a fun and enjoyable atmosphere. Parties often feature music, dancing, and food, and they often feature a variety of activities, such as games, dancing, and food stations. One of the most common sounds at a party is laughter, which is characterized by its high pitch\n"
     ]
    },
    {
     "name": "stderr",
     "output_type": "stream",
     "text": [
      "\r",
      " 21%|█████████████████████████████████▋                                                                                                                             | 209/986 [1:44:59<32:40:10, 151.37s/it]"
     ]
    },
    {
     "name": "stdout",
     "output_type": "stream",
     "text": [
      "score: 0.8195250630378723\n",
      "########\n",
      "*******\n",
      "question: What is something that happens when you are learning about science?\n",
      "answer: increased knowledge\n",
      "choices: ['testing', 'experiment', 'sense of wonder', 'intimidation', 'increased knowledge']\n",
      "common expl list: ['Science learning involves gaining new scientific knowledge.', 'When someone learns about science, their knowledge of the subject should increase, although inevitably the process of learning may involve some challenges.', 'Learning about science often makes the student more knowledgeable about the subject, causing their newfound understanding to expand.']\n",
      "generated explanation: <pad> <extra_id_0> When you are learning about science, you are likely to experience increased knowledge and understanding. Science is a broad subject that covers a wide range of topics, including physical sciences, life sciences, and the arts. Learning about science can be engaging and rewarding, and it can provide a solid foundation for future career choices and academic success. Science is a fascinating subject that can provide a wealth of information and opportunities for exploration and discovery. As you learn more about science, you may\n"
     ]
    },
    {
     "name": "stderr",
     "output_type": "stream",
     "text": [
      "\r",
      " 21%|█████████████████████████████████▊                                                                                                                             | 210/986 [1:56:36<43:02:05, 199.65s/it]"
     ]
    },
    {
     "name": "stdout",
     "output_type": "stream",
     "text": [
      "score: 0.7765904068946838\n",
      "########\n",
      "*******\n",
      "question: Where would a woman store a train ticket on her person?\n",
      "answer: purse\n",
      "choices: [\"conductor's hand\", 'purse', 'train depot', 'ticket booth', 'ticket office']\n",
      "common expl list: ['A purse is something a woman can carry around with her.', 'A woman would keep the ticket she purchased from a train conductor in her purse. The ticket is small enough to fit in a small purse.']\n",
      "generated explanation: <pad> <extra_id_0> A woman would typically store a train ticket on her person in a purse. A purse is a small, leather-bound pouch that is typically worn on the hip or waist and is typically made of leather or synthetic material. Purses are often used by women as a means of carrying around personal items, such as tickets, cash, and other small items. They are often used as a means of storing small items, such as coins, identification cards, and other\n"
     ]
    },
    {
     "name": "stderr",
     "output_type": "stream",
     "text": [
      "\r",
      " 21%|██████████████████████████████████                                                                                                                             | 211/986 [2:08:03<54:43:43, 254.22s/it]"
     ]
    },
    {
     "name": "stdout",
     "output_type": "stream",
     "text": [
      "score: 0.819974422454834\n",
      "########\n",
      "*******\n",
      "question: James put a divider between arithmetic and English.  This meant that he could continue using what?\n",
      "answer: notebook\n",
      "choices: ['office suite', 'his textbook', 'binder', 'math class', 'notebook']\n",
      "common expl list: ['Notebooks, binders, and office suites are used for writing. James might have put a divider on a notebook so he can write in the first section about his math class, which uses arithmetic, and in the other notebook section about his English', 'James put a divider between the arithmetic and English sections of his notebook, meaning that he could continue using his notebook next to his math textbook, providing continuity during the course of the school year.']\n",
      "generated explanation: <pad> <extra_id_0> If James put a divider between arithmetic and English, this meant that he could continue using a notebook. A notebook is a type of study or workbook that is used for recording and organizing information, such as notes, assignments, and other types of information. Notebooks are often used for recording and organizing information, such as notes, assignments, and other types of information, such as math problems, spelling lists, and other types of information. They\n"
     ]
    },
    {
     "name": "stderr",
     "output_type": "stream",
     "text": [
      "\r",
      " 22%|██████████████████████████████████▏                                                                                                                            | 212/986 [2:19:48<68:03:33, 316.55s/it]"
     ]
    },
    {
     "name": "stdout",
     "output_type": "stream",
     "text": [
      "score: 0.808508574962616\n",
      "########\n",
      "*******\n",
      "question: Where does a hat go when you wear it?\n",
      "answer: head\n",
      "choices: ['head', 'leg', 'suitcase', 'closet', 'shelf']\n",
      "common expl list: ['Hats are worn on the head.', 'Hats are worn on the head.', \"Hats most often sit on top of people's heads.\"]\n",
      "generated explanation: <pad> <extra_id_0> A hat is a type of headwear that is typically worn by adults, typically on the head. Hats come in a variety of styles, materials, and colors, and they are typically worn on the head or on the shoulders. The most common types of hats are felt, straw, and knit hats, which are made of materials such as wool, felt, or nylon, and they are typically worn on the head or on the shoulders. Hats\n"
     ]
    },
    {
     "name": "stderr",
     "output_type": "stream",
     "text": [
      "\r",
      " 22%|██████████████████████████████████▎                                                                                                                            | 213/986 [2:31:02<80:36:30, 375.41s/it]"
     ]
    },
    {
     "name": "stdout",
     "output_type": "stream",
     "text": [
      "score: 0.7193436622619629\n",
      "########\n",
      "*******\n",
      "question: The trees formed a forest, what did they do?\n",
      "answer: stand together\n",
      "choices: ['stand together', 'branch out', 'it will give rain', 'produce fruit', 'grow bigger']\n",
      "common expl list: ['Forests are made of trees, and trees tend to stand together.']\n",
      "generated explanation: <pad> <extra_id_0> When trees form a forest, they stand together. Trees in a forest are trees that have grown together in a forest. Forests are areas of land that are covered with trees, often in a variety of habitats, such as grasslands, woodlands, and mountains. When trees form a forest, they often stand together in a variety of ways, such as by growing close to each other, shading each other, or growing in a variety of\n"
     ]
    },
    {
     "name": "stderr",
     "output_type": "stream",
     "text": [
      "\r",
      " 22%|██████████████████████████████████▌                                                                                                                            | 214/986 [2:42:26<93:07:17, 434.25s/it]"
     ]
    },
    {
     "name": "stdout",
     "output_type": "stream",
     "text": [
      "score: 0.7808181643486023\n",
      "########\n",
      "*******\n",
      "question: The entrance hall had the host standing inside, what was the host?\n",
      "answer: person\n",
      "choices: ['palace', 'school', 'person', 'yoda', 'house']\n",
      "common expl list: ['The host is the person who greets guests and shows them to their seats.']\n",
      "generated explanation: <pad> <extra_id_0> If the entrance hall had the host standing inside, the host was a person who was hosting the event. The host is a person who is responsible for organizing and hosting the event. The host is a person who is responsible for providing the space and services for the event. The host may be a professional or a lay person who is able to provide guidance and assistance to guests and hosts events. The host may also be a volunteer or a member of the\n"
     ]
    },
    {
     "name": "stderr",
     "output_type": "stream",
     "text": [
      "\r",
      " 22%|██████████████████████████████████▍                                                                                                                           | 215/986 [2:53:41<104:00:49, 485.67s/it]"
     ]
    },
    {
     "name": "stdout",
     "output_type": "stream",
     "text": [
      "score: 0.7600422501564026\n",
      "########\n",
      "*******\n",
      "question: Where would a business man keep a plane ticket with other documents?\n",
      "answer: briefcase\n",
      "choices: ['briefcase', 'boarding plane', 'airport', 'pocket', 'shirt sleeve']\n",
      "common expl list: [\"Business men often also travel frequently, hence they'll often put plane tickets and other travel documents in their briefcases.\", 'A business man would keep a plane ticket inside of his briefcase.', 'Business men often carry briefcases, which are used to carry documents.']\n",
      "generated explanation: <pad> <extra_id_0> A business man would keep a plane ticket with other documents in a briefcase. A briefcase is a small, leather-bound case that is typically used for carrying important documents, such as a business card, receipt, or other documents. Briefcases are typically small, leather-bound cases that are typically used for carrying documents and other small items, such as tickets, receipts, and other small items. They are typically made of durable, hard-wearing\n"
     ]
    },
    {
     "name": "stderr",
     "output_type": "stream",
     "text": [
      "\r",
      " 22%|██████████████████████████████████▌                                                                                                                           | 216/986 [3:05:02<113:39:17, 531.37s/it]"
     ]
    },
    {
     "name": "stdout",
     "output_type": "stream",
     "text": [
      "score: 0.817483127117157\n",
      "########\n",
      "*******\n",
      "question: Where would acrobats sometimes use a launching platform when they perform?\n",
      "answer: circus\n",
      "choices: ['lunch room', 'cape canaveral florida', 'space station', 'aircraft carrier', 'circus']\n",
      "common expl list: ['Acrobats often perform in circuses, and circuses often use launching platforms to launch acrobats.']\n",
      "generated explanation: <pad> <extra_id_0> Acrobats sometimes use a launching platform when they perform. A launching platform is a platform that is used for launching performers during a performance. Circuses are outdoor events that are held at a fixed location and that are designed to provide a stable platform for performers to use during their performances. A launching platform is a platform that is used for launching performers during a performance. Acrobats often use launching platforms during their\n"
     ]
    },
    {
     "name": "stderr",
     "output_type": "stream",
     "text": [
      "\r",
      " 22%|██████████████████████████████████▊                                                                                                                           | 217/986 [3:16:17<121:10:53, 567.30s/it]"
     ]
    },
    {
     "name": "stdout",
     "output_type": "stream",
     "text": [
      "score: 0.7949993014335632\n",
      "########\n",
      "*******\n",
      "question: When someone is watching a film like Saw, what are they likely experiencing?\n",
      "answer: fear\n",
      "choices: ['they want to close their eyes', 'fear', 'like', 'being entertained', 'insight']\n",
      "common expl list: ['Horror films would put the viewers through emotional transitition, ultimately frightening them.', 'Saw is a horror movie, and thus one might be hard to watch, and after watching such a film, you might find yourself feeling afraid.', 'Saw is a horror film with such unpleasant content, that it could make someone fear after witnessing it.', 'Saw is a horror film, and people who watch horror films often experience fear.']\n",
      "generated explanation: <pad> <extra_id_0> When someone is watching a film like Saw, they are likely experiencing fear. A film like Saw is a horror film that is based on the novel by Stephen King. It is a psychological thriller that explores the themes of fear, revenge, and obsession. It is a powerful work of fiction that uses graphic violence and gore to create an intense emotional response in the audience. The film is a powerful example of how horror can affect viewers emotionally and psychologically.\n"
     ]
    },
    {
     "name": "stderr",
     "output_type": "stream",
     "text": [
      "\r",
      " 22%|██████████████████████████████████▉                                                                                                                           | 218/986 [3:27:43<127:42:34, 598.64s/it]"
     ]
    },
    {
     "name": "stdout",
     "output_type": "stream",
     "text": [
      "score: 0.7380732893943787\n",
      "########\n",
      "*******\n",
      "question: The installers had to move all the rows of benches, they were putting in new carpet where?\n",
      "answer: church\n",
      "choices: ['office', 'church', 'bowling alley', 'building', 'playround']\n",
      "common expl list: ['The installers were in some kind of large, indoor space. Church-related activities often require churches to have rows of benches (seating areas for congregations).', 'The installers were installing carpet in a church, which is a place where people sit on benches.']\n",
      "generated explanation: <pad> <extra_id_0> If the installers had to move all the rows of benches, they were putting in new carpet. Churches are buildings that are used for worship and other activities, and they often have carpeting and other types of flooring that is used for these purposes. In order to install new carpeting, the installers will need to remove the old carpeting and replace it with new carpeting. This will require them to remove all the benches and replace them with new carpeting. The\n"
     ]
    },
    {
     "name": "stderr",
     "output_type": "stream",
     "text": [
      "\r",
      " 22%|███████████████████████████████████                                                                                                                           | 219/986 [3:39:38<134:22:02, 630.67s/it]"
     ]
    },
    {
     "name": "stdout",
     "output_type": "stream",
     "text": [
      "score: 0.7847529649734497\n",
      "########\n",
      "*******\n",
      "question: If a person wants to hear music in their car, what can they do?\n",
      "answer: listen to radio\n",
      "choices: ['open letter', 'cross street', 'listen to radio', 'promise to do', 'say goodbye']\n",
      "common expl list: ['Listening to the radio is a common way to listen to music in a car.', 'The radio is something in a car that people can use to play music.', 'People with cars can listen to music on the radio.', 'Listening to the radio is often the way for people to hear music while in their cars.']\n",
      "generated explanation: <pad> <extra_id_0> If a person wants to hear music in their car, they can listen to radio. A radio is a device that is typically located in a vehicle and is used for playing music or other types of audio programming, such as news, talk, or sports. Radios are typically equipped with speakers and a microphone that allows the user to hear the broadcasts clearly and understand the content. Radios can be used in a variety of settings, such as in a car\n"
     ]
    },
    {
     "name": "stderr",
     "output_type": "stream",
     "text": [
      "\r",
      " 22%|███████████████████████████████████▎                                                                                                                          | 220/986 [3:50:57<137:02:52, 644.09s/it]"
     ]
    },
    {
     "name": "stdout",
     "output_type": "stream",
     "text": [
      "score: 0.8249734044075012\n",
      "########\n",
      "*******\n",
      "question: Wanting to listen to the radio, what did the man do to it?\n",
      "answer: turn on\n",
      "choices: ['play music', 'turn on', 'train', 'blaring', 'radiotracking']\n",
      "common expl list: ['Turning on a radio is done to listen to the radio.', 'One typically puts a radio into an \"on\" state to be able to listen to it.', 'If the radio was turned off, the man would have to turn it on to listen to it.']\n",
      "generated explanation: <pad> <extra_id_0> If a man wanted to listen to the radio, he may have turned on the radio. The radio is a device that is used for playing music, news, and other types of programming. When a person wants to listen to the radio, they may turn on the radio. The radio may be located in a room or other area that is easily accessible and has a variety of features, such as an FM tuner, volume controls, and other controls. The\n"
     ]
    },
    {
     "name": "stderr",
     "output_type": "stream",
     "text": [
      "\r",
      " 22%|███████████████████████████████████▍                                                                                                                          | 221/986 [4:02:50<141:05:53, 663.99s/it]"
     ]
    },
    {
     "name": "stdout",
     "output_type": "stream",
     "text": [
      "score: 0.8213322758674622\n",
      "########\n",
      "*******\n",
      "question: A koala couldn't find it's usual haunts, so it made its home at the top of something else.  Where was the Koala?\n",
      "answer: gum tree\n",
      "choices: ['jungle', 'san diego zoo', 'great outdoors', 'pet shop', 'gum tree']\n",
      "common expl list: ['Koalas are native to Australia; always found in the wild amidst gum trees. Koalas live in exotic countries such as Australia or Indonesia.', 'Koalas live in gum trees.']\n",
      "generated explanation: <pad> <extra_id_0> A koala couldn't find its usual haunts, so it made its home at the top of something else. A gum tree is a type of tree that is native to Australia and is a type of tree that is found in a variety of environments, including forests, grasslands, and urban areas. Gum trees are trees that are large, round, and have a smooth, rounded shape. They are often found in areas with high winds\n"
     ]
    },
    {
     "name": "stderr",
     "output_type": "stream",
     "text": [
      "\r",
      " 23%|███████████████████████████████████▌                                                                                                                          | 222/986 [4:14:49<144:17:25, 679.90s/it]"
     ]
    },
    {
     "name": "stdout",
     "output_type": "stream",
     "text": [
      "score: 0.6595340371131897\n",
      "########\n",
      "*******\n",
      "question: What would you be if you do not have work?\n",
      "answer: unemployed\n",
      "choices: ['unemployed', 'do nothing', 'play', 'celebrate', 'laziness']\n",
      "common expl list: ['If you do not have work, you are unemployed.', \"Unemployed is a condition in which a person has no work. If you did not have work, you'd be unemployed.\", 'The word unemployed is related to the word workforce; an unemployed person does not have work.']\n",
      "generated explanation: <pad> <extra_id_0> If you do not have work, you are considered to be unemployed. Unemployment is a term that refers to a state of not having enough money to support yourself and your family. It is a common occurrence for people to be unemployed because they do not have enough money to support themselves and their families. Unemployment can also refer to a state of not having enough money to pay for essential living expenses, such as rent, food, and transportation. Un\n"
     ]
    },
    {
     "name": "stderr",
     "output_type": "stream",
     "text": [
      "\r",
      " 23%|███████████████████████████████████▋                                                                                                                          | 223/986 [4:26:23<144:55:49, 683.81s/it]"
     ]
    },
    {
     "name": "stdout",
     "output_type": "stream",
     "text": [
      "score: 0.7484635710716248\n",
      "########\n",
      "*******\n",
      "question: John wanted to hunt blowfish, but he didn't want to leave America.  Where might he search?\n",
      "answer: hawaiian waters\n",
      "choices: ['tropical sea', 'south pacific ocean', 'hawaiian waters', 'sushi store', 'fish market']\n",
      "common expl list: ['The current range of the common blowfish is found near Hawaiian waters.', 'John might search for blowfish in the waters around Hawaii, where they are known to live.']\n",
      "generated explanation: <pad> <extra_id_0> If John wanted to hunt blowfish, he might search for them in hawaiian waters. Hawaiian waters are waters off the coast of the United States that are home to many species of fish, including blowfish, tuna, and other marine animals. These fish are popular sport fish that are often caught and eaten by people in the region. The waters off the coast of Hawaii are home to many species of fish, including blowfish, tuna, and other marine\n"
     ]
    },
    {
     "name": "stderr",
     "output_type": "stream",
     "text": [
      "\r",
      " 23%|███████████████████████████████████▉                                                                                                                          | 224/986 [4:38:02<145:43:19, 688.45s/it]"
     ]
    },
    {
     "name": "stdout",
     "output_type": "stream",
     "text": [
      "score: 0.7705244421958923\n",
      "########\n",
      "*******\n",
      "question: What does a long session of procreating cause?\n",
      "answer: exhaustion\n",
      "choices: ['having children', 'feeling good', 'overpopulation', 'exhaustion', 'reproduction']\n",
      "common expl list: ['If procreating spans multiple days and/or attempts, people will tire out from expending so much physical energy and waiting for their bodies to recover afterwards.', 'Having children is a long process, and it is physically demanding.', 'we can assume procreating can be tiresome, because taking care of young children requires a lot of energy.']\n",
      "generated explanation: <pad> <extra_id_0> A long session of procreating causes exhaustion. Procreation is the act of reproducing by reproducing sexually. It is a physically demanding activity, and it can be physically and mentally demanding. It requires a lot of energy and stamina to carry out, and it can be physically and mentally draining. It is not recommended that women engage in prolonged periods of procreation, as this can lead to fatigue and other physical problems. It is also\n"
     ]
    },
    {
     "name": "stderr",
     "output_type": "stream",
     "text": [
      "\r",
      " 23%|████████████████████████████████████                                                                                                                          | 225/986 [4:49:20<144:50:50, 685.22s/it]"
     ]
    },
    {
     "name": "stdout",
     "output_type": "stream",
     "text": [
      "score: 0.7588434219360352\n",
      "########\n",
      "*******\n",
      "question: Where would you throw some pennies?\n",
      "answer: water fountain\n",
      "choices: ['pocket', 'jar', 'worthless', 'water fountain', 'copper']\n",
      "common expl list: ['Pennies can sometimes be thrown into water fountains to make wishes.']\n",
      "generated explanation: <pad> <extra_id_0> A water fountain is a place where you can throw pennies. Pennies are small, round coins that are typically used for drinking, cleaning, or other purposes. They are often used as a form of currency or as a form of payment. They are often used in public places, such as water fountains, to help wash dishes or to dispose of waste. Pennies are often used as a form of currency or payment and are often used in conjunction with other coins\n"
     ]
    },
    {
     "name": "stderr",
     "output_type": "stream",
     "text": [
      "\r",
      " 23%|████████████████████████████████████▏                                                                                                                         | 226/986 [5:00:32<143:50:54, 681.39s/it]"
     ]
    },
    {
     "name": "stdout",
     "output_type": "stream",
     "text": [
      "score: 0.7782129049301147\n",
      "########\n",
      "*******\n",
      "question: Despite this name out front you will also find beer and wine where too?\n",
      "answer: liquor store\n",
      "choices: ['liquor store', 'texas', 'art show', 'basement', 'spaghetti sauce']\n",
      "common expl list: ['Beer and wine are sold at liquor stores, however, various other alcoholic products are sold at them as well.', 'Liquor shops are stores that specialize in the sale of alcoholic drinks. This drinks can be malt, wine, beer, etc.', 'Liquor stores often sell beer and wine, as well as hard liquor.']\n",
      "generated explanation: <pad> <extra_id_0> In a liquor store, you will find a variety of alcoholic beverages, including beer, wine, and spirits. Liquor stores are retail stores that sell a variety of alcoholic beverages, including beer, wine, and spirits. They may also carry a selection of other products, such as cigarettes, candy, and other snacks. In addition to alcoholic beverages, liquor stores may also carry a selection of other products, such as cigarettes, candy, and other\n"
     ]
    },
    {
     "name": "stderr",
     "output_type": "stream",
     "text": [
      "\r",
      " 23%|████████████████████████████████████▍                                                                                                                         | 227/986 [5:10:48<139:31:51, 661.81s/it]"
     ]
    },
    {
     "name": "stdout",
     "output_type": "stream",
     "text": [
      "score: 0.8049165606498718\n",
      "########\n",
      "*******\n",
      "question: The aorta is the main artery in what area of the body?\n",
      "answer: torso\n",
      "choices: ['neck', 'own brain', 'human body', 'torso', 'heart']\n",
      "common expl list: ['The aorta is the main artery in the torso, which is the main part of the body.', 'Leaving the heart, the aorta travels through the abdomen and branches into arteries that supply the limbs.']\n",
      "generated explanation: <pad> <extra_id_0> The aorta is the main artery in the torso. The aorta is the main artery in the torso and is located in the lower part of the body. It is a large, flexible artery that runs through the middle of the body, connecting the heart and lungs. The aorta is located in the lower part of the body and is responsible for carrying blood and oxygen throughout the body. It is\n"
     ]
    },
    {
     "name": "stderr",
     "output_type": "stream",
     "text": [
      "\r",
      " 23%|████████████████████████████████████▌                                                                                                                         | 228/986 [5:21:51<139:27:28, 662.33s/it]"
     ]
    },
    {
     "name": "stdout",
     "output_type": "stream",
     "text": [
      "score: 0.7802954912185669\n",
      "########\n",
      "*******\n",
      "question: Where can you find pamphlets regarding diseases and ailments?\n",
      "answer: health department\n",
      "choices: ['theaters', 'health department', 'library', 'drawer', 'mail box']\n",
      "common expl list: ['If someone is looking for information about a disease, the health department is a good place to find more information on the disease and the current state of research regarding it.', 'If you have a disease and need a pamphlet to educate yourself about it, you will often find them available from health department officials, who study diseases.']\n",
      "generated explanation: <pad> <extra_id_0> You can find pamphlets regarding diseases and ailments at the health department. The health department is a government agency that is responsible for maintaining the health and welfare of the people in its jurisdiction. Pamphlets are written documents that provide general information about various health topics, such as common colds, flu, and other common illnesses. Pamphlets are often available in different languages, including English, French, Spanish, and Italian, and they may be distributed at public health fairs and\n"
     ]
    },
    {
     "name": "stderr",
     "output_type": "stream",
     "text": [
      "\r",
      " 23%|████████████████████████████████████▋                                                                                                                         | 229/986 [5:33:02<139:49:35, 664.96s/it]"
     ]
    },
    {
     "name": "stdout",
     "output_type": "stream",
     "text": [
      "score: 0.8392026424407959\n",
      "########\n",
      "*******\n",
      "question: What does reading newspapers nowadays lead to?\n",
      "answer: aggravation\n",
      "choices: ['feeling hungry', 'aggravation', 'zip cup of tea', 'drink coffee', 'eat breakfast']\n",
      "common expl list: ['Reading the morning paper often leads to aggravation, because the news stories often report about human suffering and misery.', 'Reading newspapers nowadays often leads to aggravation, as the news is often depressing.']\n",
      "generated explanation: <pad> <extra_id_0> Reading newspapers nowadays can lead to aggravation. Newspapers are written by people for people, and they are often published in a variety of languages and styles. Reading newspapers can be a fun and engaging way to keep up with current events and news, while also providing readers with a variety of perspectives and perspectives on various topics. Newspapers are widely read and widely used in many parts of the world, and they are widely read for a variety of purposes, including news\n"
     ]
    },
    {
     "name": "stderr",
     "output_type": "stream",
     "text": [
      "\r",
      " 23%|████████████████████████████████████▊                                                                                                                         | 230/986 [5:43:55<138:51:03, 661.19s/it]"
     ]
    },
    {
     "name": "stdout",
     "output_type": "stream",
     "text": [
      "score: 0.4851837456226349\n",
      "########\n",
      "*******\n",
      "question: Where might a t-shirt be kept?\n",
      "answer: drawer\n",
      "choices: ['suitcase', 'underground', 'shirtdress', 'closet', 'drawer']\n",
      "common expl list: ['T-shirts are often kept in drawers, as they are small and can be folded up quite small.', 'T-shirts are thin and folded up, so they can be stored in a drawer, where clothes are typically kept.']\n",
      "generated explanation: <pad> <extra_id_0> A t-shirt is a type of clothing item that is typically worn by individuals during the summer months. T-shirts are typically lightweight, loose-fitting garments that are typically made of cotton or polyester and are typically used for casual or semi-formal wear. They are often sold in a variety of colors and styles, and may be kept in a drawer or other storage area to facilitate easy access and storage. Drawers are often used for storing items\n"
     ]
    },
    {
     "name": "stderr",
     "output_type": "stream",
     "text": [
      "\r",
      " 23%|█████████████████████████████████████                                                                                                                         | 231/986 [5:55:08<139:24:23, 664.72s/it]"
     ]
    },
    {
     "name": "stdout",
     "output_type": "stream",
     "text": [
      "score: 0.7908109426498413\n",
      "########\n",
      "*******\n",
      "question: Where could someone give you a plate with a grape on it?\n",
      "answer: restaurant\n",
      "choices: ['salad', 'restaurant', 'grocery store', 'kitchen', 'food store']\n",
      "common expl list: ['A server in a restaurant could bring a salad with a grape on it.', 'A restaurant is a place where you can get food, and a plate with a grape on it is a type of food.']\n",
      "generated explanation: <pad> <extra_id_0> Someone could give you a plate with a grape on it at a restaurant. A restaurant is a place where food is served and consumed, often by people who are eating out. Grapes are a type of fruit that is commonly found in many cultures, including Asia, Europe, and North America. They are often served on a plate or platter, and are often accompanied by other types of food, such as cheese, meat, or vegetables. If someone gives\n"
     ]
    },
    {
     "name": "stderr",
     "output_type": "stream",
     "text": [
      "\r",
      " 24%|█████████████████████████████████████▏                                                                                                                        | 232/986 [6:06:27<140:08:39, 669.12s/it]"
     ]
    },
    {
     "name": "stdout",
     "output_type": "stream",
     "text": [
      "score: 0.8105504512786865\n",
      "########\n",
      "*******\n",
      "question: He though that a teakettle would be a good souvenir from his trip to merry old what?\n",
      "answer: england\n",
      "choices: ['japanese tea room', 'kitchen table', 'england', 'cupboard', 'water']\n",
      "common expl list: ['Teakettles are often used in england, and are often used to make tea.']\n",
      "generated explanation: <pad> <extra_id_0> A teakettle is a type of ceramic vessel that is typically used for boiling water, such as tea or coffee. Many people find tea kettles to be useful and decorative items that can be used in a variety of settings, such as homes, offices, and restaurants. They are often used for making tea, coffee, or hot chocolate, and they are often sold as souvenirs or gifts. If someone thought that a teakettle would be a good souvenir from\n"
     ]
    },
    {
     "name": "stderr",
     "output_type": "stream",
     "text": [
      "\r",
      " 24%|█████████████████████████████████████▎                                                                                                                        | 233/986 [6:18:03<141:37:29, 677.09s/it]"
     ]
    },
    {
     "name": "stdout",
     "output_type": "stream",
     "text": [
      "score: 0.6593772172927856\n",
      "########\n",
      "*******\n",
      "question: James went to outer space for the first time.  He packed everything, including his peanut butter, into a single object.  Where might his things be?\n",
      "answer: suitcase\n",
      "choices: ['universe', 'jar', 'box', 'closet', 'suitcase']\n",
      "common expl list: ['Suitcases are mobile boxes used to carry possessions.', 'A suitcase is a container that can be used to store clothes and other items.', 'Suitcases are specifically designed to store many things into a compact area.']\n",
      "generated explanation: <pad> <extra_id_0> If James went to outer space for the first time and packed everything, including his peanut butter, into a single object, it is possible that his things would be in a suitcase. A suitcase is a small, typically rectangular, container that is used for carrying items such as clothing, books, and other personal items. Suitcases are often used for traveling, as they are easy to transport and store, and they are often used for storing and transporting items such\n"
     ]
    },
    {
     "name": "stderr",
     "output_type": "stream",
     "text": [
      "\r",
      " 24%|█████████████████████████████████████▍                                                                                                                        | 234/986 [6:29:26<141:47:58, 678.83s/it]"
     ]
    },
    {
     "name": "stdout",
     "output_type": "stream",
     "text": [
      "score: 0.8485398292541504\n",
      "########\n",
      "*******\n",
      "question: Where are you likely to see more than one office building?\n",
      "answer: city\n",
      "choices: ['work', 'industrial complex', 'city', 'new york', 'suburbia']\n",
      "common expl list: ['Offices are necessary in a few different kinds of places, but work, industry, and commerce are likely to require employees who would need offices to work. Therefore, cities would be the best place to find more than one office building, another likely place', 'Company offices are likely to be found in cities. In more suburbanized areas, industrial parks might have many, much larger office buildings.']\n",
      "generated explanation: <pad> <extra_id_0> You are likely to see more than one office building in a city. A city is a large urban area that is home to many different types of buildings, including residential homes, retail stores, and restaurants. Office buildings are typically large, rectangular structures that are used for a variety of purposes, such as housing, business, or government. They are often located in busy urban areas and are often the focal point of activity in a city. Cities are often home to a\n"
     ]
    },
    {
     "name": "stderr",
     "output_type": "stream",
     "text": [
      "\r",
      " 24%|█████████████████████████████████████▋                                                                                                                        | 235/986 [6:40:22<140:11:03, 671.99s/it]"
     ]
    },
    {
     "name": "stdout",
     "output_type": "stream",
     "text": [
      "score: 0.838371217250824\n",
      "########\n",
      "*******\n",
      "question: Sitting down was a wobbly affair, it seem all four what were uneven?\n",
      "answer: legs\n",
      "choices: ['sit on', 'flatulence', 'legs', 'chair', 'comfort']\n",
      "common expl list: ['The foundation to the seat of the chair seemed to be uneven, so that the four legs where also uneven.']\n",
      "generated explanation: <pad> <extra_id_0> Sitting down was a wobbly affair. It seemed all four of your legs were uneven. Legs are the long, thin, flexible parts of your body that support and carry the weight of your body when you sit or stand. They are responsible for supporting and stabilizing your body while you are moving about and performing daily activities. When you sit down, your legs are the main support structure that supports your weight and helps to stabilize your body while you are sitting or standing\n"
     ]
    },
    {
     "name": "stderr",
     "output_type": "stream",
     "text": [
      "\r",
      " 24%|█████████████████████████████████████▊                                                                                                                        | 236/986 [6:51:54<141:15:32, 678.04s/it]"
     ]
    },
    {
     "name": "stdout",
     "output_type": "stream",
     "text": [
      "score: 0.7476580142974854\n",
      "########\n",
      "*******\n",
      "question: The janitor had to climb high in the rafters of the auditorium, he was replacing the stage whats?\n",
      "answer: lights\n",
      "choices: ['theater', 'lights', 'university campus', 'director', 'high school']\n",
      "common expl list: ['The lights are high up in the rafters of the auditorium.', 'The lights are usually high up on the rafters of the stage.']\n",
      "generated explanation: <pad> <extra_id_0> The janitor had to climb high in the rafters of the auditorium, where he was replacing the stage lights. The stage lights are the lights that are mounted on the stage and are used to illuminate the stage. The lights are typically located in the rafters of an auditorium or other performance space, and they are typically located near the ceiling. Because the lights are located in the rafters, they are difficult to reach and maintain. The jan\n"
     ]
    },
    {
     "name": "stderr",
     "output_type": "stream",
     "text": [
      "\r",
      " 24%|█████████████████████████████████████▉                                                                                                                        | 237/986 [7:03:21<141:36:49, 680.65s/it]"
     ]
    },
    {
     "name": "stdout",
     "output_type": "stream",
     "text": [
      "score: 0.7268391251564026\n",
      "########\n",
      "*******\n",
      "question: Where would you get a mailbox if you do not have one?\n",
      "answer: hardware store\n",
      "choices: ['downtown area', 'front yard', 'obesity', 'post office', 'hardware store']\n",
      "common expl list: ['Mailboxes are commonly sold at hardware stores.']\n",
      "generated explanation: <pad> <extra_id_0> If you do not have a mailbox, you could get one at a hardware store. A hardware store is a retail store that specializes in selling hardware and building supplies, such as nails, screws, and washers. Mailboxes are used for sending and receiving mail, and they are commonly found in homes and businesses. If you do not have a mailbox, you could get one at a hardware store. Hardware stores are retail stores that specialize in selling hardware\n"
     ]
    },
    {
     "name": "stderr",
     "output_type": "stream",
     "text": [
      "\r",
      " 24%|██████████████████████████████████████▏                                                                                                                       | 238/986 [7:14:17<139:54:11, 673.33s/it]"
     ]
    },
    {
     "name": "stdout",
     "output_type": "stream",
     "text": [
      "score: 0.8383804559707642\n",
      "########\n",
      "*******\n",
      "question: What does waiting for something for a response from an interview cause?\n",
      "answer: anxiety\n",
      "choices: ['have fun', 'patience', 'anxiety', 'tedious', 'impatience']\n",
      "common expl list: ['Anxiety is a feeling of worry or unease, and waiting for a response from an interview can cause anxiety.', 'Someone may be anxious for an interview, or hearing back from another person, and experience anxiety during the waiting period.']\n",
      "generated explanation: <pad> <extra_id_0> Waiting for something to happen during an interview can cause anxiety. Anxiety is a common emotional reaction to awaited information or a delayed response. It is common for people to feel anxious when they are waiting for a response from an interview or other important event. Waiting for a response from an interview can cause anxiety because they are anticipating a response or other important event. Waiting for a response from an interview can cause them to feel anxious and\n"
     ]
    },
    {
     "name": "stderr",
     "output_type": "stream",
     "text": [
      "\r",
      " 24%|██████████████████████████████████████▎                                                                                                                       | 239/986 [7:25:27<139:29:06, 672.22s/it]"
     ]
    },
    {
     "name": "stdout",
     "output_type": "stream",
     "text": [
      "score: 0.8200525641441345\n",
      "########\n",
      "*******\n",
      "question: Where does a potato become softer?\n",
      "answer: vegetable stew\n",
      "choices: ['optical device', 'garden patch', 'blender', 'pantry', 'vegetable stew']\n",
      "common expl list: ['Potatoes are often cooked in vegetable stews, and so, the potato becomes softer in the stew.', 'Potatoes are often cooked in stews to make them softer.', 'It likely softens via boiling, a process in which the heat applied softens vegetables, in this case, potatoes.']\n",
      "generated explanation: <pad> <extra_id_0> A potato becomes softer when it is cooked in a vegetable stew. A vegetable stew is a type of dish that combines various types of vegetables, such as potatoes, carrots, onions, and other types of vegetables, into one dish. Vegetable stews are often served as a side dish to a main dish or as a main course. They are often served with other vegetables, such as beef, chicken, or fish, and they can be quite\n"
     ]
    },
    {
     "name": "stderr",
     "output_type": "stream",
     "text": [
      "\r",
      " 24%|██████████████████████████████████████▍                                                                                                                       | 240/986 [7:36:30<138:45:44, 669.63s/it]"
     ]
    },
    {
     "name": "stdout",
     "output_type": "stream",
     "text": [
      "score: 0.7829527258872986\n",
      "########\n",
      "*******\n",
      "question: What would you use if you wanted to play music?\n",
      "answer: cassettes\n",
      "choices: ['opera', 'movie', 'theatre', 'elevator', 'cassettes']\n",
      "common expl list: ['Cassettes used to be used for listening to music; today they are often still used for recording music, and so they could be used to record music.', 'A cassette would contained recorded music.', 'Cassettes are often used to play music.']\n",
      "generated explanation: <pad> <extra_id_0> If you wanted to play music, you would use cassettes. Cassettes are small, portable discs that are used for storing and playing audio signals, such as music, voice, and other types of data. Cassettes are often used in portable audio players and other audio equipment, such as radios, CD players, and iPods. They are often used for playing music from a variety of sources, such as CDs, DVDs, and other\n"
     ]
    },
    {
     "name": "stderr",
     "output_type": "stream",
     "text": [
      "\r",
      " 24%|██████████████████████████████████████▌                                                                                                                       | 241/986 [7:47:38<138:26:40, 668.99s/it]"
     ]
    },
    {
     "name": "stdout",
     "output_type": "stream",
     "text": [
      "score: 0.8438922762870789\n",
      "########\n",
      "*******\n",
      "question: I need a person to milk a cow would a volunteer do this?\n",
      "answer: step forward\n",
      "choices: ['cross street', 'milk cow', 'lose weight', 'step forward', 'need food']\n",
      "common expl list: ['People who step forward are the kind of people who can learn on the fly, take initiative, and do tasks well outside of their home territory.']\n",
      "generated explanation: <pad> <extra_id_0> If I need a person to milk a cow, I would need a volunteer to do this. A volunteer is someone who steps forward and offers to do something for free in exchange for some type of compensation or other benefit. Volunteers typically have some experience working with cows and are willing to learn more about the job and the process of milking a cow. Volunteers typically have some training and experience in animal husbandry and are familiar with the care and feeding of cow\n"
     ]
    },
    {
     "name": "stderr",
     "output_type": "stream",
     "text": [
      "\r",
      " 25%|██████████████████████████████████████▊                                                                                                                       | 242/986 [7:58:31<137:18:46, 664.42s/it]"
     ]
    },
    {
     "name": "stdout",
     "output_type": "stream",
     "text": [
      "score: 0.7284173369407654\n",
      "########\n",
      "*******\n",
      "question: If you did well on the test, you might get an A as a what?\n",
      "answer: school grade\n",
      "choices: ['see work', 'practice', 'quiz', 'school grade', 'homework']\n",
      "common expl list: ['Grades are given to students to indicate how well they did on a test.', 'As a student, every test comes with a school grade, thereby indicating how well you did on the test, for that class.']\n",
      "generated explanation: <pad> <extra_id_0> If you did well on the test, you might get an A as a school grade. A school grade is a letter grade that is typically given to students in grades 7 through 12. It is a letter grade that is typically given to students in grades 7 through 12 in order to indicate that the student has performed well in school and has earned a grade that is considered to be of a high standard. An A is considered to be a good grade in school and is\n"
     ]
    },
    {
     "name": "stderr",
     "output_type": "stream",
     "text": [
      "\r",
      " 25%|██████████████████████████████████████▉                                                                                                                       | 243/986 [8:09:58<138:31:18, 671.17s/it]"
     ]
    },
    {
     "name": "stdout",
     "output_type": "stream",
     "text": [
      "score: 0.8191257119178772\n",
      "########\n",
      "*******\n",
      "question: He explained that the concept was corporeal and the student should be able to grasp it, but the student found the ideas what?\n",
      "answer: intangible\n",
      "choices: ['intangible', 'intangible', 'spiritual', 'insubstantial', 'incorporeal']\n",
      "common expl list: ['An intangible idea is difficult for people to express in terms of believability, emotional resonance, and even physical existence. Generally, human beings have trouble conceptualizing or understanding something that is intangible.', \"An intangible concept is one that can't be physically felt or grasped, like an idea. Such as intangible concept could be difficult for some people to understand.\"]\n",
      "generated explanation: <pad> <extra_id_0> If the teacher explained that the concept was corporeal and the student should be able to grasp it, and the student found the ideas intangible, it is likely that the student found the ideas difficult to grasp or relate to in any meaningful way. Intangible concepts are those that are not material or tangible, and they are not easily understood or grasped by the student. In this case, the student may have found the concepts difficult to grasp because they are not tangible\n"
     ]
    },
    {
     "name": "stderr",
     "output_type": "stream",
     "text": [
      "\r",
      " 25%|███████████████████████████████████████                                                                                                                       | 244/986 [8:21:21<139:04:28, 674.76s/it]"
     ]
    },
    {
     "name": "stdout",
     "output_type": "stream",
     "text": [
      "score: 0.7371046543121338\n",
      "########\n",
      "*******\n",
      "question: Where do fans watch people kick a ball?\n",
      "answer: soccer game\n",
      "choices: ['soccer game', 'hockey game', 'olympics', 'sporting event', 'stadium']\n",
      "common expl list: ['Soccer is a team-sport that requires kicking a ball.  Thus, soccer games would be a natural place to watch people kick a ball.', 'Soccer is a sport where people will kick balls around on the field.']\n",
      "generated explanation: <pad> <extra_id_0> Fans watch people kick a ball at a soccer game. A soccer game is a sporting event that involves the play of soccer, the sport of kicking a ball with the foot to propel the ball forward and strike the ball with the other foot. Soccer games are popular worldwide and are played on a variety of surfaces, including grass, artificial turf, and artificial turf fields. Soccer games are popular because they provide an exciting and entertaining environment for fans to watch the action unfold\n"
     ]
    },
    {
     "name": "stderr",
     "output_type": "stream",
     "text": [
      "\r",
      " 25%|███████████████████████████████████████▎                                                                                                                      | 245/986 [8:32:16<137:38:09, 668.68s/it]"
     ]
    },
    {
     "name": "stdout",
     "output_type": "stream",
     "text": [
      "score: 0.7042348980903625\n",
      "########\n",
      "*******\n",
      "question: The trainer told him to keep doing the same exercise, he said he had to keep doing it until he what?\n",
      "answer: get tired\n",
      "choices: ['get tired', 'lose weight', 'aerobic activity', 'fatigue', 'drink water']\n",
      "common expl list: ['A person who must do an exercise will stop only when they become so tired that they cannot continue.', \"Once you get tired, the exercise should be taken a break; if you continue doing the exercise, you'll become exhausted, and potentially sick if you do not replenish your energy stores by eating or sleeping.\", 'To get tired you generally need do some type of activity, such as exercise, where your muscles tire.']\n",
      "generated explanation: <pad> <extra_id_0> If the trainer told him to keep doing the same exercise, he said he had to keep doing it until he got tired. Tiredness is a common physical response to exercise, and it can be a sign of increased fitness or fitness level. When someone gets tired from doing an exercise, they may stop doing it altogether. This is because they are no longer getting the benefit from the exercise they are performing. Instead, they may feel more tired and ap\n"
     ]
    },
    {
     "name": "stderr",
     "output_type": "stream",
     "text": [
      "\r",
      " 25%|███████████████████████████████████████▍                                                                                                                      | 246/986 [8:43:23<137:21:49, 668.26s/it]"
     ]
    },
    {
     "name": "stdout",
     "output_type": "stream",
     "text": [
      "score: 0.6367191672325134\n",
      "########\n",
      "*******\n",
      "question: Where is not known for apple trees?\n",
      "answer: wisconsin\n",
      "choices: ['front yard', 'washington state', 'countryside', 'concrete jungle', 'wisconsin']\n",
      "common expl list: ['Wisconsin is well known for being flat, with farmland (which it has a lot of) and little wooded area. It has little apple tree growth.']\n",
      "generated explanation: <pad> <extra_id_0> Wisconsin is not known for apple trees. Apple trees are trees that are grown for their edible qualities, typically for their ornamental value or for their ability to produce a wide range of products, including cider, wine, and juice. Apple trees are native to North America, and they are commonly found in areas with warm, humid climates and low relative humidity. Apple trees are typically found in areas with a wide range of habitats, including forests, fields, and parks. If\n"
     ]
    },
    {
     "name": "stderr",
     "output_type": "stream",
     "text": [
      "\r",
      " 25%|███████████████████████████████████████▌                                                                                                                      | 247/986 [8:51:58<127:42:09, 622.10s/it]"
     ]
    },
    {
     "name": "stdout",
     "output_type": "stream",
     "text": [
      "score: 0.6284281015396118\n",
      "########\n",
      "*******\n",
      "question: Where would you keep paper files you're currently working on?\n",
      "answer: desk\n",
      "choices: ['desk', 'filing cabinet', 'harddisk', 'drawer', 'computers']\n",
      "common expl list: ['Altough there are several possible answers for this question, they are not all plausible. Only the desk is something which is often found in houses or offices and constantly used for day-to-day work. Unlike drawers and harddisks, it', \"If a person is working on a paper file, they might want to keep it in the same room where they're primarily using their computer. This is likely to be in the person's office or cubicle, on the person's desk.\"]\n",
      "generated explanation: <pad> <extra_id_0> You would keep paper files you’re currently working on at your desk. A desk is a surface on which you can work and work at the same time. Desks are often used for a variety of tasks, including writing, drawing, and other types of work. They are often equipped with a variety of storage options, including drawers, cabinets, and shelves, as well as drawers for storing and organizing documents. If you were working at a desk,\n"
     ]
    },
    {
     "name": "stderr",
     "output_type": "stream",
     "text": [
      "\r",
      " 25%|███████████████████████████████████████▋                                                                                                                      | 248/986 [8:58:23<112:58:19, 551.08s/it]"
     ]
    },
    {
     "name": "stdout",
     "output_type": "stream",
     "text": [
      "score: 0.8174657225608826\n",
      "########\n",
      "*******\n",
      "question: A hurricane can create what when it plows through a city?\n",
      "answer: disaster\n",
      "choices: ['disaster', 'bring destruction', 'rain', 'horrendous', 'tornadoes']\n",
      "common expl list: ['A hurricane can result in devastation for a city.', 'A hurricane is a type of storm that can cause a lot of destruction.', 'A hurricane is a massive storm that can plow through a city, bringing with it destruction that can spread to areas outside the city.']\n",
      "generated explanation: <pad> <extra_id_0> A hurricane can create a disaster when it plows through a city. A hurricane can create a disaster when it plows through a city. A hurricane can create a disaster when it plows through a city. A hurricane can create a disaster when it plows through a city. A hurricane can plow through a city and cause damage, flooding, and other types of disasters. A hurricane can\n"
     ]
    },
    {
     "name": "stderr",
     "output_type": "stream",
     "text": [
      "\r",
      " 25%|███████████████████████████████████████▉                                                                                                                      | 249/986 [9:04:45<102:24:34, 500.24s/it]"
     ]
    },
    {
     "name": "stdout",
     "output_type": "stream",
     "text": [
      "score: 0.753345787525177\n",
      "########\n",
      "*******\n",
      "question: Where would there be a ticket office that has people with suitcases?\n",
      "answer: train station\n",
      "choices: ['hotel', 'train station', 'opera house', 'end of line', 'city']\n",
      "common expl list: ['A train station often contains a ticket office, and it would be common to see people there with suitcases.']\n",
      "generated explanation: <pad> <extra_id_0> A ticket office that has people with suitcases is typically located at a train station. Train stations are large, public transportation hubs that are used for traveling by train, bus, or plane. They typically have ticket windows and ticket counters that are open during regular business hours and are used for purchasing and selling train tickets and other travel-related services. Train stations are often the first stop for travelers arriving by train or bus, and they often have a variety of amenities, such\n"
     ]
    },
    {
     "name": "stderr",
     "output_type": "stream",
     "text": [
      "\r",
      " 25%|████████████████████████████████████████▎                                                                                                                      | 250/986 [9:11:31<96:30:45, 472.07s/it]"
     ]
    },
    {
     "name": "stdout",
     "output_type": "stream",
     "text": [
      "score: 0.7686505913734436\n",
      "########\n",
      "*******\n",
      "question: While getting drunk the body can only process so much at a time, go too fast and your belly might just make you what?\n",
      "answer: throw up\n",
      "choices: ['getting arrested', 'throw up', 'staggering', 'fall down', 'explode']\n",
      "common expl list: ['The body processes alcohol one drink at a time. If someone drinks too quickly, they may vomit. If someone drinks too fast for their body to process the alcohol, they will throw up or even pass out.', 'When people drink too much, they often throw up.', \"When very drunk it's common for someone to throw up.\", \"With binge drinking it's possible to process too much alcohol at once, much like drugs. The stomach can only process so much in a short time frame. Vomiting is the main way to avoid health problems, if vomiting is not resulting in death\"]\n",
      "generated explanation: <pad> <extra_id_0> While getting drunk, the body can only process so much alcohol. Going too fast and your belly might just make you throw up. The stomach has a limited capacity to process alcohol, and it may not be able to handle too much alcohol at once. This can lead to unpleasant side effects, such as nausea and vomiting. It is important to remember that your body can only process so much alcohol at a time, and that it may not be able to handle too much alcohol\n"
     ]
    },
    {
     "name": "stderr",
     "output_type": "stream",
     "text": [
      "\r",
      " 25%|████████████████████████████████████████▍                                                                                                                      | 251/986 [9:18:13<92:06:22, 451.13s/it]"
     ]
    },
    {
     "name": "stdout",
     "output_type": "stream",
     "text": [
      "score: 0.8391229510307312\n",
      "########\n",
      "*******\n",
      "question: Where is a tabby cat likely to be happiest?\n",
      "answer: lap\n",
      "choices: ['box', 'home', 'alley', 'lap', 'barn']\n",
      "common expl list: ['Tabby cats find pleasure in being in the laps of humans, as they are often docile creatures.']\n",
      "generated explanation: <pad> <extra_id_0> A tabby cat is likely to be happiest when it is on your lap. Cats are naturally curious and affectionate animals, and they enjoy exploring new environments and exploring new things. Lap cats are known for their affectionate nature and love to cuddle and be petted. They are also known for their love of food and being petted. As a result, they are often very content and contented cats. However, some cats may not be as\n"
     ]
    },
    {
     "name": "stderr",
     "output_type": "stream",
     "text": [
      "\r",
      " 26%|████████████████████████████████████████▋                                                                                                                      | 252/986 [9:24:33<87:35:46, 429.63s/it]"
     ]
    },
    {
     "name": "stdout",
     "output_type": "stream",
     "text": [
      "score: 0.6867644190788269\n",
      "########\n",
      "*******\n",
      "question: I am at school and want a glass of milk, where do I look?\n",
      "answer: cafeteria\n",
      "choices: ['home', 'cafeteria', 'under the cow.', 'menu', 'accompaniment to meal']\n",
      "common expl list: ['Cafeterias are often found in schools, and milk is a common accompaniment to a meal.']\n",
      "generated explanation: <pad> <extra_id_0> If I am at school and want a glass of milk, I would look in the cafeteria. The cafeteria is a dining area that is typically used for school meals and other refreshments. It is a place where students can purchase a variety of foods, including milk, juice, snacks, and other beverages. Milk is a common beverage that is often served at school and is often considered a healthy option. However, some schools may not offer milk as\n"
     ]
    },
    {
     "name": "stderr",
     "output_type": "stream",
     "text": [
      "\r",
      " 26%|████████████████████████████████████████▊                                                                                                                      | 253/986 [9:31:45<87:37:01, 430.32s/it]"
     ]
    },
    {
     "name": "stdout",
     "output_type": "stream",
     "text": [
      "score: 0.8296822905540466\n",
      "########\n",
      "*******\n",
      "question: Janet likes dancing.   The swaying and the music gives her a feeling of what?\n",
      "answer: euphoria\n",
      "choices: ['rhythmic movement', 'moving body', 'euphoria', 'sore feet', 'fatigue']\n",
      "common expl list: ['The movement and repetitive rhythm of dancing can encourage a sensation of euphoria.', 'Janet likes dancing, and so she feels euphoric when she dances.']\n",
      "generated explanation: <pad> <extra_id_0> Janet likes dancing. The swaying and the music gives her a feeling of euphoria. Euphoria is a positive emotion that is associated with enjoying and enjoying life. It is a positive emotion that is associated with enjoying and enjoying life. It is a feeling that is often associated with engaging in physical activity, such as dancing. Dancing can also provide a sense of well-being and relaxation, as well as\n"
     ]
    },
    {
     "name": "stderr",
     "output_type": "stream",
     "text": [
      "\r",
      " 26%|████████████████████████████████████████▉                                                                                                                      | 254/986 [9:38:54<87:26:39, 430.05s/it]"
     ]
    },
    {
     "name": "stdout",
     "output_type": "stream",
     "text": [
      "score: 0.7816528677940369\n",
      "########\n",
      "*******\n",
      "question: James loved climbing.  What emotion might he feel from heights?\n",
      "answer: exhilaration\n",
      "choices: ['exhaustion', 'exhilaration', 'falling down', 'nervousness', 'vertigo']\n",
      "common expl list: [\"Climbing is entertaining (if done safely), exciting, and invigorating. If it's done for fun, the climber feels exhilarated (which can be closely tied to the parts of the brain and body that process fear and pleasure).\"]\n",
      "generated explanation: <pad> <extra_id_0> James loved climbing. One emotion that he might feel from heights is exhilaration. Climbing is a sport that involves climbing up a mountain or other vertical structure in order to gain a better view of the surrounding area or to better understand the terrain. Climbing can provide a thrilling and rewarding experience, and it can also provide a great deal of exercise and mental stimulation. Exhilaration is a positive emotion that is associated\n"
     ]
    },
    {
     "name": "stderr",
     "output_type": "stream",
     "text": [
      "\r",
      " 26%|█████████████████████████████████████████                                                                                                                      | 255/986 [9:45:29<85:13:06, 419.68s/it]"
     ]
    },
    {
     "name": "stdout",
     "output_type": "stream",
     "text": [
      "score: 0.7912567257881165\n",
      "########\n",
      "*******\n",
      "question: If you have an underlying heart condition, what might running twenty six miles cause?\n",
      "answer: death\n",
      "choices: ['tiredness', 'passing out', 'death', 'exhaustion', 'heartbreak']\n",
      "common expl list: ['Running twenty six miles is a very strenuous activity, and could cause a heart attack or other heart condition.', '26 miles is a very long run. After running for such a long time, the heart becomes weaker, which usually leads to death.']\n",
      "generated explanation: <pad> <extra_id_0> If you have an underlying heart condition, running twenty six miles might cause death. Heart conditions are conditions that affect the heart and circulatory system, and they can cause serious health problems, such as heart attack, stroke, and other cardiovascular problems. Running can improve your cardiovascular fitness and strength, and it can also improve your overall health and fitness. However, running can also have negative effects on your heart, such as increasing blood pressure, cholesterol, and blood sugar levels. Running can also\n"
     ]
    },
    {
     "name": "stderr",
     "output_type": "stream",
     "text": [
      "\r",
      " 26%|█████████████████████████████████████████▎                                                                                                                     | 256/986 [9:52:03<83:30:50, 411.85s/it]"
     ]
    },
    {
     "name": "stdout",
     "output_type": "stream",
     "text": [
      "score: 0.7035095691680908\n",
      "########\n",
      "*******\n",
      "question: What is often the function of ice?\n",
      "answer: cool drink\n",
      "choices: ['cool water', 'cool drink', 'harm humans', 'become water', 'form crystals']\n",
      "common expl list: ['Ice can be used to cool drinks.', 'Ice is often used to cool drinks.']\n",
      "generated explanation: <pad> <extra_id_0> Ice is a common ingredient in many drinks, including soft drinks, juices, and cocktails. Ice can help to cool drinks and prevent them from becoming too hot or too cold. Ice can also be used to flavor and sweeten drinks, as well as to add flavor and texture to them. Ice can also be used to enhance the flavor of certain drinks and to provide a refreshing taste. Ice can also be used to enhance the appearance of certain drinks, such as cocktails or smoothie\n"
     ]
    },
    {
     "name": "stderr",
     "output_type": "stream",
     "text": [
      "\r",
      " 26%|█████████████████████████████████████████▍                                                                                                                     | 257/986 [9:58:57<83:31:50, 412.50s/it]"
     ]
    },
    {
     "name": "stdout",
     "output_type": "stream",
     "text": [
      "score: 0.7849408984184265\n",
      "########\n",
      "*******\n",
      "question: What noise can you make while having lunch that does not indicate you might die soon?\n",
      "answer: burp\n",
      "choices: ['eat food', 'drink water', 'burp', 'choke', 'vomit']\n",
      "common expl list: [\"Burping is not dangerous (except when at an opera or extremely formal event), and thus people might burp frequently with their lunch; hence, it's unlikely to dread a burp.\", \"Burping during/after a meal isn't uncommon, so it wouldn't indicate that the person was going to die soon.\", 'Burping is a noise that people make while eating, and it is not uncommon for people to burp while eating.']\n",
      "generated explanation: <pad> <extra_id_0> A burp is a noise that is typically made by someone who is eating lunch. Burps are typically loud, unpleasant sounds that are made when they are eating. They are typically associated with the act of eating and are often made while having lunch. Burps are typically made by someone who is eating lunch and is trying to get their nourishment from their food. They are typically made by someone who is full and is about to eat, and they are typically associated with\n"
     ]
    },
    {
     "name": "stderr",
     "output_type": "stream",
     "text": [
      "\r",
      " 26%|█████████████████████████████████████████▎                                                                                                                    | 258/986 [10:05:26<82:00:12, 405.51s/it]"
     ]
    },
    {
     "name": "stdout",
     "output_type": "stream",
     "text": [
      "score: 0.7202472686767578\n",
      "########\n",
      "*******\n",
      "question: Billy called out to John, and listened for what?\n",
      "answer: response\n",
      "choices: ['silence', 'response', 'communication', 'hanging up', 'whisper']\n",
      "common expl list: ['When calling out to someone and expecting a response, the response is often an indication that the message has gotten through.']\n",
      "generated explanation: <pad> <extra_id_0> Billy called out to John, and listened for a response. A response is a statement or action that is made by another person, usually another person. When someone calls out to another person, they are typically looking for a specific type of response or action, such as a question, a comment, or a specific type of action. When someone calls out to another person, they are typically looking for a specific type of response or action, such as\n"
     ]
    },
    {
     "name": "stderr",
     "output_type": "stream",
     "text": [
      "\r",
      " 26%|█████████████████████████████████████████▌                                                                                                                    | 259/986 [10:12:01<81:15:04, 402.35s/it]"
     ]
    },
    {
     "name": "stdout",
     "output_type": "stream",
     "text": [
      "score: 0.656317412853241\n",
      "########\n",
      "*******\n",
      "question: A person who is constantly grooming is try to preserve their what?\n",
      "answer: beauty\n",
      "choices: ['late', 'injury', 'satisfaction', 'outfit', 'beauty']\n",
      "common expl list: ['People who are constantly grooming are likely trying to preserve their appearance, which is a sign of beauty.', 'if a person is constantly grooming themselves, it may be for aesthetic reasons so as to look as pretty as they can.']\n",
      "generated explanation: <pad> <extra_id_0> A person who is constantly grooming is trying to preserve their beauty. Beauty is something that people strive for, and maintaining their appearance is an important part of maintaining their beauty. There are many different ways that people can groom themselves, including shaving, shaving cream, waxing, and other forms of beauty maintenance. One way that people can groom themselves is by attending a salon or beauty school. Salons and beauty schools can provide a variety of services, such as hair styling, nails\n"
     ]
    },
    {
     "name": "stderr",
     "output_type": "stream",
     "text": [
      "\r",
      " 26%|█████████████████████████████████████████▋                                                                                                                    | 260/986 [10:18:36<80:41:37, 400.13s/it]"
     ]
    },
    {
     "name": "stdout",
     "output_type": "stream",
     "text": [
      "score: 0.7730714082717896\n",
      "########\n",
      "*******\n",
      "question: Where would you see footprints that happen due to the formation of an impression?\n",
      "answer: ground\n",
      "choices: ['rug', 'surface of earth', 'roof', 'ground', 'suface of moon']\n",
      "common expl list: ['Footprints happen when someone steps into a surface. If this ground were soft earth, footprints would be an impression in the ground, not a mark on top of the earth.', 'As humans walk, their feet make an impression in the ground, resulting in footprints.', 'Foot impressions occur on the ground; they are caused by pressure being exerted on the ground.']\n",
      "generated explanation: <pad> <extra_id_0> You would see footprints that happen due to the formation of an impression on the ground. An impression is a mark or an indentation that is made on the ground as a result of the pressure of walking or running on the ground. Footprints are typically found on the ground and are often used as a visual cue to help guide and direct visitors. They can also serve as a reminder of a specific place or event, such as a birthday,\n"
     ]
    },
    {
     "name": "stderr",
     "output_type": "stream",
     "text": [
      "\r",
      " 26%|█████████████████████████████████████████▊                                                                                                                    | 261/986 [10:25:17<80:37:49, 400.37s/it]"
     ]
    },
    {
     "name": "stdout",
     "output_type": "stream",
     "text": [
      "score: 0.8178644776344299\n",
      "########\n",
      "*******\n",
      "question: Where can someone level up?\n",
      "answer: video game\n",
      "choices: ['video game', 'garage', 'food court', \"carpenter's shop\", 'building']\n",
      "common expl list: ['In video games, it is possible to \"level up\" by gaining experience. Video games are played at a building.', 'Video games often allow players to earn more points or levels by winning games, beating challenges, or defeating enemies. Points and levels are common goals for video game players to strive for.']\n",
      "generated explanation: <pad> <extra_id_0> In a video game, someone can level up by playing additional levels or challenges. These additional challenges or challenges may be related to the game itself, or they may be specific to a particular character or game mode. Leveling up in a video game is a way for players to earn more rewards or progress in a particular game. Video games often feature a variety of game modes and features, such as combat, strategy, and action. Leveling up in a\n"
     ]
    },
    {
     "name": "stderr",
     "output_type": "stream",
     "text": [
      "\r",
      " 27%|█████████████████████████████████████████▉                                                                                                                    | 262/986 [10:32:00<80:40:26, 401.14s/it]"
     ]
    },
    {
     "name": "stdout",
     "output_type": "stream",
     "text": [
      "score: 0.8003391623497009\n",
      "########\n",
      "*******\n",
      "question: Where does a person usually plant a rosebush?\n",
      "answer: flower bed\n",
      "choices: ['ballpark', 'flower bed', 'park', 'backyard', 'outdoors']\n",
      "common expl list: ['People often plant rosebushes in flower beds, as they are often used to decorate the area.']\n",
      "generated explanation: <pad> <extra_id_0> A person typically plants a rosebush in a flower bed. A flower bed is a bed that is used for growing flowers, vegetables, and other types of plants. Rosebushes are native to North America, where they are grown in a variety of climates and environments. They are often grown for their fragrant flowers, fragrant foliage, and colorful blooms. Rosebushes are native to North America and are grown for their ornamental value and beauty. They are often planted\n"
     ]
    },
    {
     "name": "stderr",
     "output_type": "stream",
     "text": [
      "\r",
      " 27%|██████████████████████████████████████████▏                                                                                                                   | 263/986 [10:38:16<79:01:16, 393.47s/it]"
     ]
    },
    {
     "name": "stdout",
     "output_type": "stream",
     "text": [
      "score: 0.7803581357002258\n",
      "########\n",
      "*******\n",
      "question: What does someone want when having fun with their friends and trying to fit in?\n",
      "answer: being understood\n",
      "choices: ['being understood', 'beer', 'playing around', 'hug', 'visiting friends']\n",
      "common expl list: [\"One might say that one wants to be understood when they are with their friends; one often wants one's new friends to understand them better.\"]\n",
      "generated explanation: <pad> <extra_id_0> When having fun with their friends and trying to fit in, someone may want to be understood. Being understood is important when having fun with friends and trying to fit in. It is important for people to be able to communicate with their friends and to feel comfortable around them. It is important for people to be able to express themselves freely and to be understood by their friends and other people around them. It is important for people to be able to express themselves and to feel comfortable around\n"
     ]
    },
    {
     "name": "stderr",
     "output_type": "stream",
     "text": [
      "\r",
      " 27%|██████████████████████████████████████████▎                                                                                                                   | 264/986 [10:44:35<78:02:39, 389.14s/it]"
     ]
    },
    {
     "name": "stdout",
     "output_type": "stream",
     "text": [
      "score: 0.8034456372261047\n",
      "########\n",
      "*******\n",
      "question: How can you distinguish garbage from other things?\n",
      "answer: smells bad\n",
      "choices: ['folkest', 'container', 'can smell nasty', 'composted', 'smells bad']\n",
      "common expl list: ['Garbage is often smelly, and can be distinguished from other things by its smell.']\n",
      "generated explanation: <pad> <extra_id_0> One way to distinguish garbage from other things is by its smell. Garbage typically smells bad, and it is often difficult to distinguish it from other types of waste. Garbage can be distinguished from other types of waste by its distinctive smell, which can be quite strong or pungent. Garbage can be distinguished from other types of waste by its distinct smell, which can be very distinct from other types of waste. Garbage can be distinguished from other types of waste\n"
     ]
    },
    {
     "name": "stderr",
     "output_type": "stream",
     "text": [
      "\r",
      " 27%|██████████████████████████████████████████▍                                                                                                                   | 265/986 [10:50:37<76:17:46, 380.95s/it]"
     ]
    },
    {
     "name": "stdout",
     "output_type": "stream",
     "text": [
      "score: 0.7504712343215942\n",
      "########\n",
      "*******\n",
      "question: What does an apple tree need to grow?\n",
      "answer: dirt\n",
      "choices: ['dirt', 'seeds', 'south africa', 'park', 'paradise']\n",
      "common expl list: ['Apple trees need to grow in dirt.', 'Trees need soil to grow, and apples trees especially need dirt to grow.']\n",
      "generated explanation: <pad> <extra_id_0> An apple tree needs dirt to grow. Apple trees are native to North America and are grown primarily for their edible fruit. The apples are a type of fruit tree that is native to the region. Apple trees are native to North America and are grown for their ornamental value, culinary uses, and for their ability to produce apples. In order for an apple tree to grow, it needs to be planted in a suitable location with access to a variety of growing conditions, such\n"
     ]
    },
    {
     "name": "stderr",
     "output_type": "stream",
     "text": [
      "\r",
      " 27%|██████████████████████████████████████████▌                                                                                                                   | 266/986 [10:56:35<74:50:23, 374.20s/it]"
     ]
    },
    {
     "name": "stdout",
     "output_type": "stream",
     "text": [
      "score: 0.70521080493927\n",
      "########\n",
      "*******\n",
      "question: What does a person do if they want to appear authroitative?\n",
      "answer: stand erect\n",
      "choices: ['stand erect', 'washing dishes', 'catch cold', 'bow to people', 'wait patiently']\n",
      "common expl list: ['Standing up straight is a way of appearing confident and authroitative.', 'People who want to project a sense of authority often have very good posture.']\n",
      "generated explanation: <pad> <extra_id_0> If a person wants to appear authroitative, they may stand erect. Standing erect is a common way for people to convey an air of authority and confidence. It is a common way for people to project a sense of authority and confidence. It is important for people who want to appear authroitative to stand erect and maintain good posture. Standing erect is a good way for people to project a sense of confidence\n"
     ]
    },
    {
     "name": "stderr",
     "output_type": "stream",
     "text": [
      "\r",
      " 27%|██████████████████████████████████████████▊                                                                                                                   | 267/986 [11:02:58<75:16:04, 376.86s/it]"
     ]
    },
    {
     "name": "stdout",
     "output_type": "stream",
     "text": [
      "score: 0.8869214653968811\n",
      "########\n",
      "*******\n",
      "question: What floor do you run between rooms?\n",
      "answer: hallway\n",
      "choices: ['carpet', 'exchange', 'dance', 'building', 'hallway']\n",
      "common expl list: ['Running in a hallway is running in a place between rooms.']\n",
      "generated explanation: <pad> <extra_id_0> A hallway is a passageway that connects two or more rooms on the same floor. Hallways can be found on both the first and second floors of a building, and they are typically lined with large windows and doors. Hallways are often used as a means of accessing different parts of the building, and they are often used for socializing and gathering with other people. They are often located in the center of a building, and they are often used for connecting\n"
     ]
    },
    {
     "name": "stderr",
     "output_type": "stream",
     "text": [
      "\r",
      " 27%|██████████████████████████████████████████▉                                                                                                                   | 268/986 [11:09:08<74:45:40, 374.85s/it]"
     ]
    },
    {
     "name": "stdout",
     "output_type": "stream",
     "text": [
      "score: 0.7555322051048279\n",
      "########\n",
      "*******\n",
      "question: Wood has been replaced by what in most people's dwellings?\n",
      "answer: carpet\n",
      "choices: ['own home', 'lumberyard', 'tree', 'carpet', 'water']\n",
      "common expl list: ['Homes are often sturdily built out of wood, but people are increasingly building homes out of materials with better thermal insulative properties (for warmth), such as carpet.', 'Wood is a good material, but one that can be slippery. Carpet is therefore a useful material to have in a home, i.e., instead of having wooden floors.']\n",
      "generated explanation: <pad> <extra_id_0> In most people's dwellings, wood has been replaced by carpet. Carpet is a type of floor covering that is made of soft, flexible materials, such as wool, nylon, or polypropylene, and is often used in homes as a covering for furniture, floors, and other surfaces. Carpet is often used in homes as a covering for furniture, floors, and other surfaces, and is often used in conjunction with other types of flooring, such as tile,\n"
     ]
    },
    {
     "name": "stderr",
     "output_type": "stream",
     "text": [
      "\r",
      " 27%|███████████████████████████████████████████                                                                                                                   | 269/986 [11:15:31<75:06:40, 377.13s/it]"
     ]
    },
    {
     "name": "stdout",
     "output_type": "stream",
     "text": [
      "score: 0.7368370890617371\n",
      "########\n",
      "*******\n",
      "question: Where might a motionless horse be?\n",
      "answer: painting\n",
      "choices: ['washington', 'painting', 'race track', 'safari', 'farmyard']\n",
      "common expl list: ['Horses are often painted in paintings, and are sometimes painted in a motionless manner, e.g., standing still.']\n",
      "generated explanation: <pad> <extra_id_0> A motionless horse is a horse that is not in motion. It is typically depicted in paintings, sculptures, or other forms of art. Paintings often depict horses in a still, motionless state, as if they were resting or resting. They may also be used in other types of art, such as portraits, landscapes, or animals. Because horses are able to move and react to their environment in a variety of ways,\n"
     ]
    },
    {
     "name": "stderr",
     "output_type": "stream",
     "text": [
      "\r",
      " 27%|███████████████████████████████████████████▎                                                                                                                  | 270/986 [11:21:53<75:18:39, 378.66s/it]"
     ]
    },
    {
     "name": "stdout",
     "output_type": "stream",
     "text": [
      "score: 0.7052046656608582\n",
      "########\n",
      "*******\n",
      "question: When a play starts in an auditorium, what tends to fade out?\n",
      "answer: lights\n",
      "choices: ['lights', 'theater', 'other people', 'crowd', 'high school']\n",
      "common expl list: ['Lights are dimmed in an auditorium for a play, so that one can focus on the stage.', 'with the lights dimmed, people focus more on the performance.', 'Lights are often dimmed in auditoriums before a play starts.']\n",
      "generated explanation: <pad> <extra_id_0> When a play starts in an auditorium, the lights tend to fade out. Lights are the primary source of illumination in an auditorium, and they are typically dim or off throughout the performance. This is because the lights are used to create a sense of atmosphere and atmosphere, and they are often used to create a sense of intimacy and calm. However, as the play progresses, the lights may fade out more quickly, making it difficult for the audience to focus\n"
     ]
    },
    {
     "name": "stderr",
     "output_type": "stream",
     "text": [
      "\r",
      " 27%|███████████████████████████████████████████▍                                                                                                                  | 271/986 [11:27:51<73:57:32, 372.38s/it]"
     ]
    },
    {
     "name": "stdout",
     "output_type": "stream",
     "text": [
      "score: 0.7001368403434753\n",
      "########\n",
      "*******\n",
      "question: I was intoxicated and driving my car, what would I do with havoc?\n",
      "answer: wreak\n",
      "choices: ['getting somewhere', 'getting tired', 'pave new roads', 'wreak', 'death']\n",
      "common expl list: [\"Wreaking havoc, or causing mass destruction, is what usually happens if one drives one's car while intoxicated.\", \"Wreaking havoc is a term that means causing a lot of damage, and so it's likely that a person who is intoxicated and driving would cause a lot of damage.\", 'an alcoholic inebriant would wreak havoc upon getting behind a wheel']\n",
      "generated explanation: <pad> <extra_id_0> If I was intoxicated and driving my car, I would likely wreak havoc on the road. Havoc is a term that refers to the destructive or destructive behavior that occurs when someone is intoxicated or under the influence of drugs or alcohol. Havoc is a term that is often used to describe the destructive behavior that occurs when someone is driving while intoxicated or under the influence of drugs or alcohol. When driving while intoxicated, it\n"
     ]
    },
    {
     "name": "stderr",
     "output_type": "stream",
     "text": [
      "\r",
      " 28%|███████████████████████████████████████████▌                                                                                                                  | 272/986 [11:34:13<74:28:35, 375.51s/it]"
     ]
    },
    {
     "name": "stdout",
     "output_type": "stream",
     "text": [
      "score: 0.7912099957466125\n",
      "########\n",
      "*******\n",
      "question: What weapon will aim for the nose of an aircraft?\n",
      "answer: missile\n",
      "choices: ['upper respiratory tract', 'missile', 'boomerang', 'head', 'aircraft']\n",
      "common expl list: ['Missiles are typically targeted towards the noses of aircrafts, because the nose will contain the altimeter and other instruments of the aircraft.', 'Missiles are often used to attack aircraft, and missiles are guided by a computer system that aims for the nose of the aircraft.']\n",
      "generated explanation: <pad> <extra_id_0> A missile is a weapon that is designed to be fired from a moving target, typically an aircraft. Missiles are designed to be used against aircraft that are in flight, and they are typically equipped with a range of weapons, including guided missiles, bombs, and laser guided bombs. They are used in a variety of situations, including combat, and they are often used in conjunction with other weapons systems to destroy or damage an aircraft. Because they are guided\n"
     ]
    },
    {
     "name": "stderr",
     "output_type": "stream",
     "text": [
      "\r",
      " 28%|███████████████████████████████████████████▋                                                                                                                  | 273/986 [11:40:12<73:22:31, 370.48s/it]"
     ]
    },
    {
     "name": "stdout",
     "output_type": "stream",
     "text": [
      "score: 0.6923062205314636\n",
      "########\n",
      "*******\n",
      "question: What is the hope of playing sports without competition?\n",
      "answer: have fun\n",
      "choices: ['running', 'have fun', 'balls touch', 'winning', 'get tired']\n",
      "common expl list: ['When it comes to sport, the goal is to have fun, and so when it lacks competition, it is more fun.', \"Playing sports with no competition is purely for fun, under the assumption that everyone making the team are friends and just want to play with one another. Playing within the context of a competition means that you're trying to get a score for the game.\"]\n",
      "generated explanation: <pad> <extra_id_0> The hope of playing sports without competition is to have fun. Sports without competition is a way for people to get exercise and to socialize with others. It is a way for people to have fun and get fit, without the pressure of competition. Sports without competition can be a great way to meet new people and to get fit. It is also a great way to get exercise and to stay active. However, it is important to note that playing sports without competition does not\n"
     ]
    },
    {
     "name": "stderr",
     "output_type": "stream",
     "text": [
      "\r",
      " 28%|███████████████████████████████████████████▉                                                                                                                  | 274/986 [11:46:35<73:59:16, 374.10s/it]"
     ]
    },
    {
     "name": "stdout",
     "output_type": "stream",
     "text": [
      "score: 0.7083538770675659\n",
      "########\n",
      "*******\n",
      "question: while luck plays a big role, every person who is great at something has focus and what to it?\n",
      "answer: dedication\n",
      "choices: ['hatred', 'surprised', 'compliments', 'dedication', 'solutions']\n",
      "common expl list: [\"Luck plays an important role at serendipitous moments, but skill is more important across the course of a person's life; people get lucky here and there, but the great ones focus toward learning continuing getting better through dedication.\", \"Luck doesn't just dictate whether a person becomes great or merely average, but rather whether that person works really hard and sticks with what they want to do over the long term.\", 'The question is asking what is necessary for every person who is great at something . Focus is necessary to dedicate oneself to the activity, and dedication is ingredient for success.']\n",
      "generated explanation: <pad> <extra_id_0> While luck plays a big role in determining success, every person who is great at something has focus and dedication. Focus and dedication are two important characteristics of a person who is great at something. They help to guide and motivate a person toward achieving their goals and objectives. Focus and dedication are two characteristics that a person who is great at something has, and they are often reflected in their performance. Focus and dedication are two characteristics that a person who is great\n"
     ]
    },
    {
     "name": "stderr",
     "output_type": "stream",
     "text": [
      "\r",
      " 28%|████████████████████████████████████████████                                                                                                                  | 275/986 [11:53:01<74:37:14, 377.83s/it]"
     ]
    },
    {
     "name": "stdout",
     "output_type": "stream",
     "text": [
      "score: 0.8139374852180481\n",
      "########\n",
      "*******\n",
      "question: Why might happen to two individuals experiencing fear that can't agree?\n",
      "answer: separate people\n",
      "choices: ['separate people', 'confuse', 'stop people', 'charming', 'motivate']\n",
      "common expl list: ['Obviously, two people experiencing fear (at the same time) may have disagree on how to handle the situation, the disagreement might result in them separating from each other. But why would things separate?']\n",
      "generated explanation: <pad> <extra_id_0> It is possible that two individuals experiencing fear that can't agree might separate themselves. When two individuals experiencing fear that can't agree, they may experience fear in different ways. One reason that two individuals experiencing fear might separate themselves is that they may have different perspectives and experiences of the same thing. This could lead to conflict and tension between the individuals, which could lead to further anxiety and stress. It is important for individuals experiencing fear to communicate with each other and seek support and guidance from\n"
     ]
    },
    {
     "name": "stderr",
     "output_type": "stream",
     "text": [
      "\r",
      " 28%|████████████████████████████████████████████▏                                                                                                                 | 276/986 [11:58:47<72:38:32, 368.33s/it]"
     ]
    },
    {
     "name": "stdout",
     "output_type": "stream",
     "text": [
      "score: 0.69488924741745\n",
      "########\n",
      "*******\n",
      "question: If you keep telling many people about being a vegetarian what do you risk becoming?\n",
      "answer: annoyance\n",
      "choices: ['annoyance', 'accomplish', 'intoxicated', 'emotional distress', 'notoriety']\n",
      "common expl list: ['It is possible for someone to become annoyed if they continually hear about being a vegetarian.']\n",
      "generated explanation: <pad> <extra_id_0> If you keep telling many people about being a vegetarian, you run the risk of becoming annoyance. An annoyance is a negative emotion that is often associated with being told something or being exposed to it. An annoyance is a negative emotion that is typically associated with being told something or being exposed to it. If you keep telling many people about being a vegetarian, you run the risk of becoming annoyance. An annoy\n"
     ]
    },
    {
     "name": "stderr",
     "output_type": "stream",
     "text": [
      "\r",
      " 28%|████████████████████████████████████████████▍                                                                                                                 | 277/986 [12:04:45<71:54:42, 365.14s/it]"
     ]
    },
    {
     "name": "stdout",
     "output_type": "stream",
     "text": [
      "score: 0.6549429893493652\n",
      "########\n",
      "*******\n",
      "question: James loves judging things, but all he has to go on is his own what?\n",
      "answer: experience\n",
      "choices: ['misperception', 'jury', 'knowing yourself', 'ignorance', 'experience']\n",
      "common expl list: ['Experience is a combination of our knowledge of what to look for in a given situation and our ability to identify these arrangements when they occur.']\n",
      "generated explanation: <pad> <extra_id_0> James loves judging things, but all he has to go on is his own experience. Experience is the sum of all of one's past experiences, including personal interactions, school experiences, and work experiences. It is difficult for someone to judge something based solely on their own experience, as it is difficult to know what to expect from a situation or what to expect from a person. Experience is the most reliable guide to assessing a person's character and\n"
     ]
    },
    {
     "name": "stderr",
     "output_type": "stream",
     "text": [
      "\r",
      " 28%|████████████████████████████████████████████▌                                                                                                                 | 278/986 [12:10:50<71:49:09, 365.18s/it]"
     ]
    },
    {
     "name": "stdout",
     "output_type": "stream",
     "text": [
      "score: 0.6104943752288818\n",
      "########\n",
      "*******\n",
      "question: If one needed peas and shopped local, where might they go?\n",
      "answer: farmer's market\n",
      "choices: ['supermarket', 'fridge', 'grocery store', \"farmer's market\", 'freezer']\n",
      "common expl list: [\"Shoppers at farmer's markets could select from a diverse set of local crops, including peas, likely from a farm nearby.\", \"In many regions of the world, one can go to a farmer's stand (e.g., in summer), or market (e.g., in winter) to get fruits and vegetables directly from the farmer.\", \"Peas are a type of vegetable, and if one wanted to buy them locally, they might go to a farmer's market, where they could be purchased directly from the farmer.\"]\n",
      "generated explanation: <pad> <extra_id_0> If one needed peas and shopped local, they might go to a farmer's market. A farmer's market is a market that specializes in selling fresh produce and other local products. These markets are often held on a weekend or during a holiday and are a great place to find fresh produce and other local products. They are often located in busy urban areas and are a great place to meet other local residents and shop for fresh produce and\n"
     ]
    },
    {
     "name": "stderr",
     "output_type": "stream",
     "text": [
      "\r",
      " 28%|████████████████████████████████████████████▋                                                                                                                 | 279/986 [12:17:00<71:58:22, 366.48s/it]"
     ]
    },
    {
     "name": "stdout",
     "output_type": "stream",
     "text": [
      "score: 0.7767219543457031\n",
      "########\n",
      "*******\n",
      "question: Where would you keep a container can of corn?\n",
      "answer: pantry\n",
      "choices: ['garage', 'in a packet', 'liquid', 'pantry', 'cupboard']\n",
      "common expl list: ['Most home pantries contain containers of food, and they usually do not contain liquid foods.']\n",
      "generated explanation: <pad> <extra_id_0> A container can of corn is a container that is typically used for storing food items, such as grains, beans, and canned goods. Corn is a staple food that is often found in a variety of dishes, including soups, stews, and casseroles. It is often sold in a can or a pouch, and it is often used as a filler or topping for other foods. If you were keeping a container can of corn in your\n"
     ]
    },
    {
     "name": "stderr",
     "output_type": "stream",
     "text": [
      "\r",
      " 28%|████████████████████████████████████████████▊                                                                                                                 | 280/986 [12:22:57<71:20:55, 363.82s/it]"
     ]
    },
    {
     "name": "stdout",
     "output_type": "stream",
     "text": [
      "score: 0.6651777625083923\n",
      "########\n",
      "*******\n",
      "question: Why would you be getting in shape?\n",
      "answer: good health\n",
      "choices: ['good health', 'jogging', 'exercise', 'sweat', 'feel better']\n",
      "common expl list: ['Getting in shape is usually done to improve your health. You might jog to lose weight, exercise to get muscles toned, etc. The goal of getting in shape to improve your health.', 'In order to acquire good health, you might exercise. This exercise might be recreational, such as jogging, or it might be dedicated exercise, in the form of weight lifting.', \"The main reason people exercise is to feel better and be healthy. Exercising reduces one's chance of getting sick and making one feel refreshed.\", 'Getting in shape is a way to improve your health.']\n",
      "generated explanation: <pad> <extra_id_0> If you were getting in shape, it is likely that you would be doing so for a variety of reasons, including to improve your health. Good health is an important factor in maintaining a healthy lifestyle and preventing disease. There are many benefits to staying in shape, including improved health and vitality, as well as improved mental and physical fitness. If you were getting in shape, it is likely that you would be doing so for a variety of reasons, including to improve your\n"
     ]
    },
    {
     "name": "stderr",
     "output_type": "stream",
     "text": [
      "\r",
      " 28%|█████████████████████████████████████████████                                                                                                                 | 281/986 [12:28:49<70:32:06, 360.18s/it]"
     ]
    },
    {
     "name": "stdout",
     "output_type": "stream",
     "text": [
      "score: 0.8498998880386353\n",
      "########\n",
      "*******\n",
      "question: Where can you buy opera glasses that are old?\n",
      "answer: antique store\n",
      "choices: ['museum', \"woman's purse\", 'supermarket', 'antique store', 'theater']\n",
      "common expl list: ['Antique stores can buy and sell old items, like spectacles (i.e., opera glasses).', 'People sometimes buy treasures such as old fashioned opera glasses at antique stores.', 'Antique stores often sell old items, including opera glasses.']\n",
      "generated explanation: <pad> <extra_id_0> You can buy opera glasses that are old at an antique store. An antique store is a retail establishment that specializes in selling antiques and collectibles. Opera glasses are decorative items that are used in theater performances, opera, ballet, and other types of performances. They are often made of glass or crystal and are typically used in museums, galleries, and other types of cultural events. Opera glasses are popular items that are often used in opera productions and other types of performances.\n"
     ]
    },
    {
     "name": "stderr",
     "output_type": "stream",
     "text": [
      "\r",
      " 29%|█████████████████████████████████████████████▏                                                                                                                | 282/986 [12:34:56<70:51:02, 362.31s/it]"
     ]
    },
    {
     "name": "stdout",
     "output_type": "stream",
     "text": [
      "score: 0.8638641834259033\n",
      "########\n",
      "*******\n",
      "question: What do dogs need to be happy?\n",
      "answer: affection\n",
      "choices: ['walked', 'guard house', 'affection', 'roll over', 'go outside']\n",
      "common expl list: ['Human affection works as a reward for the dog, making it very happy.', 'Dogs are social animals, and need to be loved and cared for by their owners.']\n",
      "generated explanation: <pad> <extra_id_0> Dogs need affection to be happy. Affection is a basic human need that is fundamental to their well-being and happiness. It is important for dogs to receive and give affection to their owners, as this will help to maintain their emotional well-being and reduce the risk of behavioral problems or other health issues. Dogs may also seek out affection from their owners or other family members in order to feel secure and loved. Dogs may also seek out affection from their owners in\n"
     ]
    },
    {
     "name": "stderr",
     "output_type": "stream",
     "text": [
      "\r",
      " 29%|█████████████████████████████████████████████▎                                                                                                                | 283/986 [12:40:50<70:12:43, 359.55s/it]"
     ]
    },
    {
     "name": "stdout",
     "output_type": "stream",
     "text": [
      "score: 0.7594852447509766\n",
      "########\n",
      "*******\n",
      "question: James was hiking through a desert when he looked up and saw some birds above him.  Where might the birds have been?\n",
      "answer: sky\n",
      "choices: ['roof', 'forest', 'countryside park', 'air', 'sky']\n",
      "common expl list: ['Birds are often found in the sky.']\n",
      "generated explanation: <pad> <extra_id_0> If James was hiking through a desert and looked up and saw some birds above him, they may have been in the sky. The sky is a large, open area that is typically covered by a thin layer of air, which is filled with tiny air bubbles and is often home to a variety of bird species, including vultures, hawks, and owls. The birds in the sky are typically large, open birds that are found in\n"
     ]
    },
    {
     "name": "stderr",
     "output_type": "stream",
     "text": [
      "\r",
      " 29%|█████████████████████████████████████████████▌                                                                                                                | 284/986 [12:46:40<69:36:27, 356.96s/it]"
     ]
    },
    {
     "name": "stdout",
     "output_type": "stream",
     "text": [
      "score: 0.7284168601036072\n",
      "########\n",
      "*******\n",
      "question: She caught the first snowflake of her life on her tongue, she was naively excited to be spending a what in a region that actually had snow?\n",
      "answer: winter\n",
      "choices: ['cloud', 'december', 'air', 'africa', 'winter']\n",
      "common expl list: ['Snow is a common winter phenomenon, and it is usually seen in the winter months.']\n",
      "generated explanation: <pad> <extra_id_0> When she caught the first snowflake of her life on her tongue, she was naively excited to be spending a winter in a region that actually had snow. Winter is a period of time when the earth experiences cold temperatures and snowfall, and it is characterized by the presence of ice and snow. Snow is a type of snow that is white and fluffy and is typically associated with cold temperatures and snow. Snowflakes are small, white particles of\n"
     ]
    },
    {
     "name": "stderr",
     "output_type": "stream",
     "text": [
      "\r",
      " 29%|█████████████████████████████████████████████▋                                                                                                                | 285/986 [12:53:01<70:52:19, 363.97s/it]"
     ]
    },
    {
     "name": "stdout",
     "output_type": "stream",
     "text": [
      "score: 0.69523024559021\n",
      "########\n",
      "*******\n",
      "question: James was driving away from work. He slid into the outside lane.  Up ahead he would have to do what?\n",
      "answer: turn right\n",
      "choices: ['take u turn', 'turn left', 'crash', 'turn right', 'get to town']\n",
      "common expl list: ['The lane on the outside is called the right lane in right-driving countries.']\n",
      "generated explanation: <pad> <extra_id_0> If James was driving away from work and slid into the outside lane, he would have to turn right. The outside lane is the lane that is located immediately to the right of the center lane. The outside lane is the lane that is located immediately to the left of the center lane and is used for travel and passing. When driving in the outside lane, a driver may encounter obstacles such as a curb, a ditch,\n"
     ]
    },
    {
     "name": "stderr",
     "output_type": "stream",
     "text": [
      "\r",
      " 29%|█████████████████████████████████████████████▊                                                                                                                | 286/986 [12:59:05<70:46:32, 363.99s/it]"
     ]
    },
    {
     "name": "stdout",
     "output_type": "stream",
     "text": [
      "score: 0.6573309898376465\n",
      "########\n",
      "*******\n",
      "question: Joe likes to pretend, and he knows that to pretend you need something special.  What is necessary to pretend?\n",
      "answer: have imagination\n",
      "choices: ['cell phone', 'have imagination', 'day dream', 'think', 'have fun with']\n",
      "common expl list: ['To pretend, one must have imagination.', 'Anything one would require to pretend is technically something that would require an imagination.', 'One has to have imagination to pretend.']\n",
      "generated explanation: <pad> <extra_id_0> Joe likes to pretend, and he knows that to pretend you need something special. It is necessary to have imagination in order to pretend. Imagination is the ability to use your own thoughts, feelings, and experiences to create a fictional world or story that is different from reality. It allows you to put yourself in other people's shoes and act out different scenarios, such as playing a role or acting out a story. It allows you to put yourself in other\n"
     ]
    },
    {
     "name": "stderr",
     "output_type": "stream",
     "text": [
      "\r",
      " 29%|█████████████████████████████████████████████▉                                                                                                                | 287/986 [13:05:23<71:31:03, 368.33s/it]"
     ]
    },
    {
     "name": "stdout",
     "output_type": "stream",
     "text": [
      "score: 0.78932124376297\n",
      "########\n",
      "*******\n",
      "question: The cleanup crew would always find a hub or two during highway clean up, they always came off of a what?\n",
      "answer: car wheel\n",
      "choices: ['propeller', 'datahub', 'wash', 'car wheel', 'electric fan']\n",
      "common expl list: ['Hubs are the center of a wheel, and are often found on the wheel of a car.']\n",
      "generated explanation: <pad> <extra_id_0> During highway clean up, the cleanup crew would always find a hub or two during highway clean up. A hub is a component of a wheel that is used for turning and steering a vehicle. Hubs are typically made of aluminum or steel and are used for connecting two wheels together. They are typically found on the hub of a car or truck and are used for attaching the wheel to the vehicle. Hubs can be found on a variety of vehicles,\n"
     ]
    },
    {
     "name": "stderr",
     "output_type": "stream",
     "text": [
      "\r",
      " 29%|██████████████████████████████████████████████▏                                                                                                               | 288/986 [13:11:25<71:01:43, 366.34s/it]"
     ]
    },
    {
     "name": "stdout",
     "output_type": "stream",
     "text": [
      "score: 0.7154342532157898\n",
      "########\n",
      "*******\n",
      "question: Where can a human relax?\n",
      "answer: park\n",
      "choices: ['workplace', 'park', 'church', 'war zone', 'jail']\n",
      "common expl list: ['A park provides a relaxing green escape from the hecticness of work and war-zones.', 'Parks and other places similar provide a relaxing environment most of the time with a variety of less than challenging activities available to do.']\n",
      "generated explanation: <pad> <extra_id_0> A park is a place where a human can relax and enjoy the outdoors. Parks are open-air spaces that are designed to provide a peaceful, relaxing environment for people to enjoy. Parks can be found in a variety of settings, including residential neighborhoods, city parks, and suburban areas. Parks can provide a variety of recreational opportunities, such as walking, running, fishing, or playing games. They may also be used for a variety of purposes,\n"
     ]
    },
    {
     "name": "stderr",
     "output_type": "stream",
     "text": [
      "\r",
      " 29%|██████████████████████████████████████████████▎                                                                                                               | 289/986 [13:17:20<70:17:16, 363.04s/it]"
     ]
    },
    {
     "name": "stdout",
     "output_type": "stream",
     "text": [
      "score: 0.8376944065093994\n",
      "########\n",
      "*******\n",
      "question: To learn must have the right book, to work efficiently what must one have?\n",
      "answer: have tools\n",
      "choices: ['improve yourself', 'become knowledgeable', 'have tools', 'persistence', 'have more knowledge']\n",
      "common expl list: ['In order to work efficiently, one must have the proper tools, training, and the materials needed to do the job; all of these are best when put in place once the job is learned.', 'If one wants to work efficiently, one must have the right tools for the job.', 'If one does not have the proper tools, one cannot effectively accomplish the goals at hand, and without tools one will not achieve these goals.']\n",
      "generated explanation: <pad> <extra_id_0> To learn must have the right book, to work efficiently one must have the right tools. Tools are items that are used for performing a specific task, such as cutting, sanding, or grinding. Without tools, it is difficult to perform a task efficiently or effectively. Tools can be found in a variety of settings, such as workshops, factories, and homes, and they are used for a variety of purposes, such as building, construction, or maintenance.\n"
     ]
    },
    {
     "name": "stderr",
     "output_type": "stream",
     "text": [
      "\r",
      " 29%|██████████████████████████████████████████████▍                                                                                                               | 290/986 [13:23:24<70:12:19, 363.13s/it]"
     ]
    },
    {
     "name": "stdout",
     "output_type": "stream",
     "text": [
      "score: 0.787412703037262\n",
      "########\n",
      "*******\n",
      "question: Where could you hear an organ being played?\n",
      "answer: cathedral\n",
      "choices: ['system', 'veterinarian', 'human body', 'cathedral', 'music store']\n",
      "common expl list: ['Cathedrals typically contain organs, and so if you hear organ music in your dream it is likely to be in a cathedral.']\n",
      "generated explanation: <pad> <extra_id_0> You could hear an organ being played in a cathedral. A cathedral is a building that is used as a place of worship and worship. It is a building that is used as a place of worship and worship for a variety of religious and cultural traditions, including worship, prayer, and worship. Organs are instruments that are played by players using a variety of manual and electronic controls, which are connected to a central console or console console. They are often\n"
     ]
    },
    {
     "name": "stderr",
     "output_type": "stream",
     "text": [
      "\r",
      " 30%|██████████████████████████████████████████████▋                                                                                                               | 291/986 [13:29:27<70:08:28, 363.32s/it]"
     ]
    },
    {
     "name": "stdout",
     "output_type": "stream",
     "text": [
      "score: 0.7651998400688171\n",
      "########\n",
      "*******\n",
      "question: She was sick and staying in bed the day of the event, unfortunately this meant she was what?\n",
      "answer: missing out\n",
      "choices: ['resting', 'sleep more', 'bed sores', 'missing out', 'comfort']\n",
      "common expl list: ['She was missing out on the event because she was sick and staying in bed.']\n",
      "generated explanation: <pad> <extra_id_0> If she was sick and staying in bed the day of the event, this meant that she was missing out on the event. Events are events that take place on a specific date and time and that are intended to bring people together and celebrate their achievements, hobbies, and interests. Because she was sick and staying in bed the day of the event, this meant that she was missing out on the event and not being able to participate in it. This is because events such as sporting events\n"
     ]
    },
    {
     "name": "stderr",
     "output_type": "stream",
     "text": [
      "\r",
      " 30%|██████████████████████████████████████████████▊                                                                                                               | 292/986 [13:35:55<71:25:26, 370.50s/it]"
     ]
    },
    {
     "name": "stdout",
     "output_type": "stream",
     "text": [
      "score: 0.7405508160591125\n",
      "########\n",
      "*******\n",
      "question: Like with owning a kitten, what is a common danger when participating in the sport of fencing?\n",
      "answer: small cuts\n",
      "choices: ['small cuts', 'puncture wound', 'competition', 'injury', 'panting']\n",
      "common expl list: ['When engaging in fencing, making a small mistake can quickly result in a series of small cuts on someone.']\n",
      "generated explanation: <pad> <extra_id_0> A common danger when participating in the sport of fencing is small cuts. Small cuts are small, shallow wounds that are often caused by the action of cutting or thrusting the sword. These cuts can be painful and may require medical attention. Fencing is a contact sport that involves cutting and thrusting the sword at an opponent. It is a popular sport that is played on a rectangular field and involves a variety of weapons, including swords, knives, and scissors.\n"
     ]
    },
    {
     "name": "stderr",
     "output_type": "stream",
     "text": [
      "\r",
      " 30%|██████████████████████████████████████████████▉                                                                                                               | 293/986 [13:42:02<71:08:38, 369.58s/it]"
     ]
    },
    {
     "name": "stdout",
     "output_type": "stream",
     "text": [
      "score: 0.7646551132202148\n",
      "########\n",
      "*******\n",
      "question: What's the place every grape wants to go in the end?\n",
      "answer: winery\n",
      "choices: ['painting', 'field', 'fruit stand', 'winery', 'garage']\n",
      "common expl list: [\"Because of the grapes' status as a crop, grape farmers usually want to turn them into wine; this is why they send their crops to wineries.\"]\n",
      "generated explanation: <pad> <extra_id_0> The place every grape wants to go in the end is a winery. A winery is a facility that produces wine from grapes and other types of fruit and vegetables. Wineries are designed to provide a relaxing and enjoyable experience for wine lovers. They are often located in scenic or rural areas and are designed to provide a comfortable and relaxing environment for wine lovers. Wineries are often located in areas with a variety of climates and terrains, making them an\n"
     ]
    },
    {
     "name": "stderr",
     "output_type": "stream",
     "text": [
      "\r",
      " 30%|███████████████████████████████████████████████                                                                                                               | 294/986 [13:47:57<70:12:54, 365.28s/it]"
     ]
    },
    {
     "name": "stdout",
     "output_type": "stream",
     "text": [
      "score: 0.7057295441627502\n",
      "########\n",
      "*******\n",
      "question: Joe was very good at thinking.  As he grew, he learned out to apply his thoughts to most situations.  This led to him doing what?\n",
      "answer: solving problem\n",
      "choices: ['solution to problem', 'sadness', 'depression', 'wonder', 'solving problem']\n",
      "common expl list: ['A person clearly states that, as he grew older, he learned how to apply his thoughts to most situations. This led to him solved a number of problems, which introduces a new concept of problem-solving. Therefore, the correct answer is that']\n",
      "generated explanation: <pad> <extra_id_0> Joe was very good at thinking. As he grew, he learned to apply his thoughts to most situations. This led him to be able to solve problems effectively and efficiently. Problem solving is the process of applying your thoughts to a specific situation or problem in order to achieve a specific goal or objective. It is important for people with strong analytical skills to be able to apply their thinking to a variety of situations and to be able to make sound decisions.\n"
     ]
    },
    {
     "name": "stderr",
     "output_type": "stream",
     "text": [
      "\r",
      " 30%|███████████████████████████████████████████████▎                                                                                                              | 295/986 [13:54:26<71:29:18, 372.44s/it]"
     ]
    },
    {
     "name": "stdout",
     "output_type": "stream",
     "text": [
      "score: 0.8076820969581604\n",
      "########\n",
      "*******\n",
      "question: If two people are walking into a house, what do they plan to do?\n",
      "answer: sleep together\n",
      "choices: ['talk to each other', 'sleep together', 'need each other', 'own things', 'have fun']\n",
      "common expl list: ['Walking into a house together is a thing done by couples who plan to engage in an activity inside the house.']\n",
      "generated explanation: <pad> <extra_id_0> If two people are walking into a house, they likely plan to sleep together. Sleeping together is a common activity that people engage in when they are together, such as sharing a bed or a couch, or relaxing in a chair. Sleeping together can provide a sense of security and comfort, as well as a sense of security and comfort that comes with knowing that they are with someone they trust and who they can rely on. It is important for\n"
     ]
    },
    {
     "name": "stderr",
     "output_type": "stream",
     "text": [
      "\r",
      " 30%|███████████████████████████████████████████████▍                                                                                                              | 296/986 [14:00:36<71:14:15, 371.68s/it]"
     ]
    },
    {
     "name": "stdout",
     "output_type": "stream",
     "text": [
      "score: 0.7182620167732239\n",
      "########\n",
      "*******\n",
      "question: The man spent the weekend with his girlfriend. What is he likely to have done?\n",
      "answer: get laid\n",
      "choices: ['accomplish goals', 'get laid', 'popularity', 'headache', 'successful']\n",
      "common expl list: ['The question implies that the man and his girlfriend spent the weekend together, often an activity indicated by spending time with the special person and in what activities that couple enjoy. For people dating, sex is common activity that sex makes the top of the list off']\n",
      "generated explanation: <pad> <extra_id_0> If a man spent the weekend with his girlfriend, it is likely that he did something sexual. Dating is a social activity that involves meeting new people, making new friends, and establishing relationships. It is not clear from the information provided what the man did over the weekend, but it is possible that he got laid. Dating is a social activity that involves meeting new people, making new friends, and engaging in sexual activities. It is not clear from the information provided\n"
     ]
    },
    {
     "name": "stderr",
     "output_type": "stream",
     "text": [
      "\r",
      " 30%|███████████████████████████████████████████████▌                                                                                                              | 297/986 [14:07:15<72:42:05, 379.86s/it]"
     ]
    },
    {
     "name": "stdout",
     "output_type": "stream",
     "text": [
      "score: 0.5805044174194336\n",
      "########\n",
      "*******\n",
      "question: After exiting a ring road and headed to a group of homes, where are you going?\n",
      "answer: town\n",
      "choices: ['freeway system', 'home', 'town', 'cars', 'european city']\n",
      "common expl list: ['Ring roads are often found in towns, and the homes are likely to be in the town.']\n",
      "generated explanation: <pad> <extra_id_0> If you exit a ring road and headed to a group of homes, you are going to a town. A town is a group of homes that are connected by a road and that are used for residential purposes, such as shopping, dining, and transportation. Towns are communities that are characterized by their compact, walkable, and walkable layouts, and they typically have a variety of housing types, such as single-family homes, multi-\n"
     ]
    },
    {
     "name": "stderr",
     "output_type": "stream",
     "text": [
      "\r",
      " 30%|███████████████████████████████████████████████▊                                                                                                              | 298/986 [14:14:08<74:28:08, 389.66s/it]"
     ]
    },
    {
     "name": "stdout",
     "output_type": "stream",
     "text": [
      "score: 0.7244603633880615\n",
      "########\n",
      "*******\n",
      "question: What is a place that sells suntan lotion but not food or medicine?\n",
      "answer: shop\n",
      "choices: ['mini mall', 'shop', 'grocery store', 'pharmacy', 'drugstore']\n",
      "common expl list: ['A shop sells a variety of sundries.', \"Suntan lotion isn't food or medicine, so it's plausible that is would be sold at a ordinary shop. A company selling other things, such as food or medicine, likely wouldn't have the need for suntan lotion,\"]\n",
      "generated explanation: <pad> <extra_id_0> A place that sells suntan lotion but not food or medicine is a shop. A shop is a retail establishment that primarily focuses on selling consumer goods, such as clothing, housewares, and other household items. Shops may also sell a variety of other products, such as household items, jewelry, and other items. Sunscreen is a type of sun protection product that is used to prevent the sun from damaging the skin. Shops may also sell\n"
     ]
    },
    {
     "name": "stderr",
     "output_type": "stream",
     "text": [
      "\r",
      " 30%|███████████████████████████████████████████████▉                                                                                                              | 299/986 [14:20:16<73:06:15, 383.08s/it]"
     ]
    },
    {
     "name": "stdout",
     "output_type": "stream",
     "text": [
      "score: 0.7121925950050354\n",
      "########\n",
      "*******\n",
      "question: A person is putting a sofabed in a house for a guest, where are they likely to place it?\n",
      "answer: spare room\n",
      "choices: ['livingroom', 'on their bed', 'living room', 'sitting room', 'spare room']\n",
      "common expl list: ['Spare rooms are usually those meant for guests, where the room is usually set up with appropriate sleep-gear, such as beds and sofas, and organized to be more \"livable\" than other rooms.', 'A spare room is usually used for guests, and so a person might put a sofa bed in it for a guest to sleep on.', 'When a person sets up room for guests, they often need to set up sleeping areas, e.g., by placing a sofa bed in a guest room.']\n",
      "generated explanation: <pad> <extra_id_0> If a person is putting a sofabed in a house for a guest, they are likely to place it in a spare room. A spare room is a room that is used as a guest bedroom or as an extra sleeping space for guests. It is a room that is typically used for sleeping and relaxing, and it is often used for hosting guests or for entertaining guests. Sofabeds are often used as extra beds in spare rooms because they are\n"
     ]
    },
    {
     "name": "stderr",
     "output_type": "stream",
     "text": [
      "\r",
      " 30%|████████████████████████████████████████████████                                                                                                              | 300/986 [14:26:42<73:10:49, 384.04s/it]"
     ]
    },
    {
     "name": "stdout",
     "output_type": "stream",
     "text": [
      "score: 0.8311561346054077\n",
      "########\n",
      "*******\n",
      "question: What is typically the attitude of a child waiting for something?\n",
      "answer: impatience\n",
      "choices: ['wisdom', 'anxiety', 'impatience', 'tiredness', 'boredom']\n",
      "common expl list: ['Children are often impatient, and waiting for something is often boring, so they might be impatient.', 'When one is waiting on something, one is usually anxious about the arrival of that something.', 'When someone is used to getting what they want when they want it, waiting can cause them stress and anxiety. Thus, in a waiting situation, most children would feel tired.', \"Impatience comes from a desire to go faster toward one's goal. If a physical or intangible goal is important, someone will often show impatience.\"]\n",
      "generated explanation: <pad> <extra_id_0> An impatient attitude is a typical attitude of a child waiting for something. An impatient attitude is a typical attitude of a child waiting for something, such as a meal or a movie. It is characterized by a lack of patience and a lack of interest in what is being done. It is not clear from the context what exactly impatience is or how it differs from other attitudes and behaviors. It is possible that a child may\n"
     ]
    },
    {
     "name": "stderr",
     "output_type": "stream",
     "text": [
      "\r",
      " 31%|████████████████████████████████████████████████▏                                                                                                             | 301/986 [14:32:57<72:33:36, 381.34s/it]"
     ]
    },
    {
     "name": "stdout",
     "output_type": "stream",
     "text": [
      "score: 0.6407896876335144\n",
      "########\n",
      "*******\n",
      "question: Fish have fins to move underwater, but can't walk because what?\n",
      "answer: no legs\n",
      "choices: ['no legs', \"they're stupid\", 'scales', 'gills', 'bones']\n",
      "common expl list: ['Fish lack hind legs, so they cannot walk', \"Most fish don't have legs to walk; instead, they have fins, which they can use to move through the water.\", \"Fish have fins, which are used to propel them through water, but they don't have legs, which are used to walk on land.\"]\n",
      "generated explanation: <pad> <extra_id_0> Fish have fins to move underwater, but can't walk because they have no legs. Fish have no legs because they have no legs to support their weight when they are swimming or moving around on land. Fish have no legs because they have no legs to support their weight when they are swimming or moving around on land. Fish have no legs because they have no legs to support their weight when they are swimming or moving around on land. Fish have no legs because they have no legs to\n"
     ]
    },
    {
     "name": "stderr",
     "output_type": "stream",
     "text": [
      "\r",
      " 31%|████████████████████████████████████████████████▍                                                                                                             | 302/986 [14:39:20<72:34:22, 381.96s/it]"
     ]
    },
    {
     "name": "stdout",
     "output_type": "stream",
     "text": [
      "score: 0.694083571434021\n",
      "########\n",
      "*******\n",
      "question: Sam liked procreating.   He didn't care about the children, but he loved a specific part of it.  What did he enjoy?\n",
      "answer: orgasm\n",
      "choices: ['naked', 'cum', 'orgasm', 'in bed', 'penetration']\n",
      "common expl list: ['Sam enjoyed the orgasm, which is the climax of sexual intercourse.']\n",
      "generated explanation: <pad> <extra_id_0> If Sam liked procreating, he probably enjoyed orgasm. Orgasm is a sexual experience that occurs during the act of reproducing, such as when a man or woman becomes pregnant or gives birth. Orgasm is a sexual experience that occurs during the act of reproducing, such as when a man or woman becomes pregnant or gives birth. It is not clear from the information provided what part of procreation Sam enjoyed most about it. However\n"
     ]
    },
    {
     "name": "stderr",
     "output_type": "stream",
     "text": [
      "\r",
      " 31%|████████████████████████████████████████████████▌                                                                                                             | 303/986 [14:45:49<72:51:56, 384.07s/it]"
     ]
    },
    {
     "name": "stdout",
     "output_type": "stream",
     "text": [
      "score: 0.6196002960205078\n",
      "########\n",
      "*******\n",
      "question: Why would you be eating breakfast?\n",
      "answer: being satisfied\n",
      "choices: ['gas', 'dirty dishes', 'get distracted', 'bad breath', 'being satisfied']\n",
      "common expl list: ['People usually eat breakfast because they are hungry, and they are satisfied when they have eaten food.']\n",
      "generated explanation: <pad> <extra_id_0> You would be eating breakfast if you were satisfied. Breakfast is a common meal that is often eaten for fuel, nutrition, or to help fuel the day. It is often considered a healthy and nutritious option for those who are active and want to maintain a healthy lifestyle. However, some people may not be satisfied with the nutritional value or the taste of their breakfast. In this case, they may choose to skip breakfast in order to save time or because they are not hungry.\n"
     ]
    },
    {
     "name": "stderr",
     "output_type": "stream",
     "text": [
      "\r",
      " 31%|████████████████████████████████████████████████▋                                                                                                             | 304/986 [14:51:48<71:17:28, 376.32s/it]"
     ]
    },
    {
     "name": "stdout",
     "output_type": "stream",
     "text": [
      "score: 0.5463429689407349\n",
      "########\n",
      "*******\n",
      "question: He knew that beginning work on this job would mean he couldn't get home on time for several days. What is his reaction?\n",
      "answer: stress\n",
      "choices: ['overtime', 'panic', 'excitement', 'stress', 'accomplishing']\n",
      "common expl list: ['If someone begins work on a new job and is unable to get home on time for several days in a row, that might seem stressful for the person who needs to get home on time.']\n",
      "generated explanation: <pad> <extra_id_0> If he knew that beginning work on this job would mean that he couldn't get home for several days, his reaction may be stress. Stress is a common emotional reaction to a change in routine or a change in environment. It can cause feelings of anxiety, stress, and depression. Stress can also negatively impact a person's health and well-being. It is important for people who are working to manage their stress and stay healthy. Stress can also contribute\n"
     ]
    },
    {
     "name": "stderr",
     "output_type": "stream",
     "text": [
      "\r",
      " 31%|████████████████████████████████████████████████▊                                                                                                             | 305/986 [14:57:58<70:51:05, 374.55s/it]"
     ]
    },
    {
     "name": "stdout",
     "output_type": "stream",
     "text": [
      "score: 0.7028651833534241\n",
      "########\n",
      "*******\n",
      "question: The writer wasn't known for them but he loved to what about nature?\n",
      "answer: write poems\n",
      "choices: ['write poems', 'advertising company', 'see work', 'write letter', 'write novels']\n",
      "common expl list: ['Poems are a form of writing, and nature is a topic that many poets write about.']\n",
      "generated explanation: <pad> <extra_id_0> Poems are short, poetic pieces that are typically composed of one or more lines and are intended to convey a particular feeling or idea. They are often associated with a particular place or person, such as a landscape or a particular event. Although the writer wasn't known for them, he did enjoy writing them and exploring the themes they explored. Poems can be found in a wide variety of forms, including narrative, dramatic, and experimental\n"
     ]
    },
    {
     "name": "stderr",
     "output_type": "stream",
     "text": [
      "\r",
      " 31%|█████████████████████████████████████████████████                                                                                                             | 306/986 [15:03:57<69:50:34, 369.76s/it]"
     ]
    },
    {
     "name": "stdout",
     "output_type": "stream",
     "text": [
      "score: 0.6769585609436035\n",
      "########\n",
      "*******\n",
      "question: The Canadian farmer wondered if potatoes would grow where he lived, where was his likely location?\n",
      "answer: prince edward island\n",
      "choices: ['main course', 'prince edward island', 'ireland', 'french fries', 'idaho']\n",
      "common expl list: ['Prince Edward Island is a province in Canada, and it is known for its potatoes.', 'Prince edward island is part of Canada, and so are the people that live there. Prince edward island is known for potato production.']\n",
      "generated explanation: <pad> <extra_id_0> If the Canadian farmer wondered if potatoes would grow where he lived, his likely location was Prince Edward Island. Prince Edward Island is a Canadian territory located in the Pacific Ocean. It is home to a small population of people and is home to a variety of plants and animals, including deer, moose, and birds. Potatoes are a popular crop in Canada, and are grown for their flavor and nutritional value. They are a staple food for\n"
     ]
    },
    {
     "name": "stderr",
     "output_type": "stream",
     "text": [
      "\r",
      " 31%|█████████████████████████████████████████████████▏                                                                                                            | 307/986 [15:10:18<70:24:38, 373.31s/it]"
     ]
    },
    {
     "name": "stdout",
     "output_type": "stream",
     "text": [
      "score: 0.7229045629501343\n",
      "########\n",
      "*******\n",
      "question: She was known for be soft and sensitive, but when all their wills were tested she was the only one who stood what?\n",
      "answer: stoic\n",
      "choices: ['non sensitive', 'resistant', 'stoic', 'hardened', 'uncaring']\n",
      "common expl list: [\"Stoicism is the recognition that the things that happen to you are out of your control. There is no point in getting upset about the things that you can't control.\", 'Stoicism is a philosophy that teaches people to be strong and not let their emotions get the best of them.']\n",
      "generated explanation: <pad> <extra_id_0> A stoic is a person who stands by their beliefs and principles regardless of the circumstances or the consequences. Stoics are people who are known for being soft-hearted and sensitive, but who are also known for having strong wills and a strong sense of justice. They are people who are known for being able to resist temptation and resist negative emotions. Stoics are people who are known for being able to resist temptation and resist negative emotions. They are\n"
     ]
    },
    {
     "name": "stderr",
     "output_type": "stream",
     "text": [
      "\r",
      " 31%|█████████████████████████████████████████████████▎                                                                                                            | 308/986 [15:16:40<70:45:45, 375.73s/it]"
     ]
    },
    {
     "name": "stdout",
     "output_type": "stream",
     "text": [
      "score: 0.7695518732070923\n",
      "########\n",
      "*******\n",
      "question: When you are drinking liquid, what are you doing?\n",
      "answer: swallow\n",
      "choices: ['need to urinate', 'vomiting', 'having fun', 'swallow', 'sickness']\n",
      "common expl list: ['Swallowing is a process that you go through in order to consume liquids.', 'Some common methods for drinking liquids include drinking through the mouth, and swallowing .']\n",
      "generated explanation: <pad> <extra_id_0> When you are drinking liquid, you are doing one of several things. The first thing that you do is swallow the liquid. Liquids are liquids that are typically found in a glass or other container. They are typically sweet or salty in flavor and have a low viscosity. They are typically consumed with food or other liquids, such as water, coffee, or juice. When you are drinking liquid, you are typically doing this to get the liquid\n"
     ]
    },
    {
     "name": "stderr",
     "output_type": "stream",
     "text": [
      "\r",
      " 31%|█████████████████████████████████████████████████▌                                                                                                            | 309/986 [15:22:55<70:37:23, 375.54s/it]"
     ]
    },
    {
     "name": "stdout",
     "output_type": "stream",
     "text": [
      "score: 0.6477094292640686\n",
      "########\n",
      "*******\n",
      "question: Where would a marmot feel most confined?\n",
      "answer: petting zoo\n",
      "choices: ['wood pile', 'petting zoo', 'wilderness', 'northern hemisphere', 'mountainous area']\n",
      "common expl list: ['Marmots are wild animals, and thus would not feel comfortable in a petting zoo.']\n",
      "generated explanation: <pad> <extra_id_0> A marmot would feel most confined in a petting zoo. A petting zoo is a facility that allows visitors to pet and interact with animals, such as rabbits, pigs, and goats. Marmots are small, furry mammals that are native to North America and are often found in a variety of settings, including forests, grasslands, and deserts. They are often regarded as a symbol of\n"
     ]
    },
    {
     "name": "stderr",
     "output_type": "stream",
     "text": [
      "\r",
      " 31%|█████████████████████████████████████████████████▋                                                                                                            | 310/986 [15:29:01<70:01:47, 372.94s/it]"
     ]
    },
    {
     "name": "stdout",
     "output_type": "stream",
     "text": [
      "score: 0.5675552487373352\n",
      "########\n",
      "*******\n",
      "question: Where would you be unlikely to see footprints due to the absence of people?\n",
      "answer: roof\n",
      "choices: ['ground', 'rug', 'chimney', 'roof', 'surface of earth']\n",
      "common expl list: ['it is not very common to leave footprints on an open platform on top of a house. Thus, a footprint on the roof might be out of place.', 'Because roofs are not normally walked on, footprints are unlikely to be found on them.']\n",
      "generated explanation: <pad> <extra_id_0> It is likely that you would be unlikely to see footprints due to the absence of people on a roof. A roof is a flat, open area that is typically used for roof-top vegetation and other outdoor activities. Roofs are often used for a variety of purposes, including roof gardening, landscaping, and other outdoor activities. Because they are often used for a variety of purposes, they are often the first place that people look when they are visiting a new place\n"
     ]
    },
    {
     "name": "stderr",
     "output_type": "stream",
     "text": [
      "\r",
      " 32%|█████████████████████████████████████████████████▊                                                                                                            | 311/986 [15:34:58<69:01:01, 368.09s/it]"
     ]
    },
    {
     "name": "stdout",
     "output_type": "stream",
     "text": [
      "score: 0.6673460602760315\n",
      "########\n",
      "*******\n",
      "question: When someone is learning about science what happens to them?\n",
      "answer: become educated\n",
      "choices: ['loss of interest', 'excitement', 'accidents', 'experiment', 'become educated']\n",
      "common expl list: ['Science is a field of study that can be used to learn about the world around us.', \"Scientific advances can introduce people to facts and principles they were previously unfamiliar with. As such, it's possible scientific discoveries could inspire some to become more knowledgeable about the subject.\"]\n",
      "generated explanation: <pad> <extra_id_0> When someone is learning about science, they become educated. Science is a subject that is studied in schools and universities, and it is often a subject that people are interested in studying in order to further their education or careers. Science is a broad subject that covers a wide range of topics, including math, science, engineering, and the arts. It is a broad subject that is studied by a wide range of people, and it is often a subject that\n"
     ]
    },
    {
     "name": "stderr",
     "output_type": "stream",
     "text": [
      "\r",
      " 32%|█████████████████████████████████████████████████▉                                                                                                            | 312/986 [15:41:04<68:45:40, 367.27s/it]"
     ]
    },
    {
     "name": "stdout",
     "output_type": "stream",
     "text": [
      "score: 0.739457905292511\n",
      "########\n",
      "*******\n",
      "question: Where might an army captain be found?\n",
      "answer: military\n",
      "choices: ['airplane cabin', 'basketball team', 'military', 'battleship', 'fleet']\n",
      "common expl list: [\"An army captain is a military officer, and it's likely that he would be found in a military setting.\"]\n",
      "generated explanation: <pad> <extra_id_0> An army captain is a senior military officer who is responsible for leading a military unit. They are typically responsible for leading and managing a team of soldiers, and they are typically responsible for leading and managing a large number of soldiers. Army captains are typically commissioned officers who have completed a rigorous training program and have attained a high level of experience and knowledge in their respective fields. They are typically responsible for leading and managing a large number of soldiers, and\n"
     ]
    },
    {
     "name": "stderr",
     "output_type": "stream",
     "text": [
      "\r",
      " 32%|██████████████████████████████████████████████████▏                                                                                                           | 313/986 [15:47:13<68:47:56, 368.02s/it]"
     ]
    },
    {
     "name": "stdout",
     "output_type": "stream",
     "text": [
      "score: 0.6967177987098694\n",
      "########\n",
      "*******\n",
      "question: The recipe called for much salt to really bring out the flavor, but given his dietary restrictions he added just a what?\n",
      "answer: little bit\n",
      "choices: ['too much', 'little bit', 'too little', 'too few', 'very little']\n",
      "common expl list: [\"For someone on a restricted diet, unable to eat much salt, it wouldn't make sense to put much, which might be too much. So, a little bit makes sense.\", 'People with dietary restrictions might require a specific dosage of salt or sugar or other ingredients to make food enjoyable, as too much could cause stomach irritation, for example.']\n",
      "generated explanation: <pad> <extra_id_0> The recipe called for much salt to really bring out the flavor of the dish, but given his dietary restrictions he added just a little bit. Salt is a common seasoning that is used in cooking to enhance flavor and flavor. However, given his dietary restrictions and the limited amount of salt he could consume, he may have added just a little bit of salt to the dish to bring out the flavor and enhance the flavor. Salt is a common season\n"
     ]
    },
    {
     "name": "stderr",
     "output_type": "stream",
     "text": [
      "\r",
      " 32%|██████████████████████████████████████████████████▎                                                                                                           | 314/986 [15:53:26<68:56:00, 369.29s/it]"
     ]
    },
    {
     "name": "stdout",
     "output_type": "stream",
     "text": [
      "score: 0.7071730494499207\n",
      "########\n",
      "*******\n",
      "question: What could happen to you if you are cleaning on the 10th floor of an unfinished building?\n",
      "answer: injury\n",
      "choices: ['healthy living', 'adventure', 'neatness', 'getting tired', 'injury']\n",
      "common expl list: [\"Working on a tall height may leave one feeling tired or at risk of some kind of injury, e.g., falling off a ladder, slipping, or losing one's balance. One might be extra cautious to avoid these types of injuries.\", 'If you are cleaning on the 10th floor of an unfinished building, you might fall off.', 'If you are cleaning on the 10th floor of an unfinished building, you could fall off the building and get injured.']\n",
      "generated explanation: <pad> <extra_id_0> If you are cleaning on the 10th floor of an unfinished building, you run the risk of suffering an injury. Unfinished buildings are buildings that are still under construction and are not yet finished. As a result, they may be unsafe for people to clean and may be prone to injury. If you are cleaning on the 10th floor of an unfinished building, you run the risk of suffering an injury. There are many different types of injuries that can occur during the cleaning\n"
     ]
    },
    {
     "name": "stderr",
     "output_type": "stream",
     "text": [
      "\r",
      " 32%|██████████████████████████████████████████████████▍                                                                                                           | 315/986 [15:59:25<68:15:17, 366.20s/it]"
     ]
    },
    {
     "name": "stdout",
     "output_type": "stream",
     "text": [
      "score: 0.793309211730957\n",
      "########\n",
      "*******\n",
      "question: He told his parents he was going to go somewhere, they told him to call when he what?\n",
      "answer: arrive there\n",
      "choices: ['fart', 'meet', 'get lost', 'arrive there', 'go back']\n",
      "common expl list: ['The parents wanted to know when their son had arrived at his destination, because his plan was to go from his house to his destination, and they did not want him getting lost.']\n",
      "generated explanation: <pad> <extra_id_0> If a child told their parents that he was going somewhere, they might have told him to call when he arrived there. When a child tells their parents that they are going somewhere, they may have been referring to a specific location or activity that they are going to be doing. When a child tells their parents that they are going somewhere, they may have been referring to a specific location or activity that they are going to be doing, such\n"
     ]
    },
    {
     "name": "stderr",
     "output_type": "stream",
     "text": [
      "\r",
      " 32%|██████████████████████████████████████████████████▋                                                                                                           | 316/986 [16:06:44<72:14:53, 388.20s/it]"
     ]
    },
    {
     "name": "stdout",
     "output_type": "stream",
     "text": [
      "score: 0.58256596326828\n",
      "########\n",
      "*******\n",
      "question: What is likely the mood of those going to a party?\n",
      "answer: happiness\n",
      "choices: ['stress relief', 'have fun', 'happiness', 'babies', 'laughter']\n",
      "common expl list: ['Parties have a positive atmosphere, featuring lots of fun people and activities; usually, people at a party are happy,', 'Happiness is a frequently sought mood, one that one may seek through various activities, like going to a party.', 'People are likely going to gatherings where they can have fun and find happiness. Even a party at a bar or an office might have this purpose, because times there often include laughter and the loosening of social inhibitions.', 'Most parties are going to happy places with atmosphere that make people happy, especially wedding receptions.', 'Parties are often held to celebrate something, and people often go to parties to have fun and be happy.']\n",
      "generated explanation: <pad> <extra_id_0> It is likely that those going to a party will be in a happy mood. A party is an event that is intended to bring people together and celebrate a particular occasion or theme. Parties often feature music, dancing, games, and food, and they often feature a variety of activities and games. It is not clear from the information provided what the mood of those going to a party will be, or what they will be doing there. However, it is possible\n"
     ]
    },
    {
     "name": "stderr",
     "output_type": "stream",
     "text": [
      "\r",
      " 32%|██████████████████████████████████████████████████▊                                                                                                           | 317/986 [16:15:18<79:07:19, 425.77s/it]"
     ]
    },
    {
     "name": "stdout",
     "output_type": "stream",
     "text": [
      "score: 0.6530288457870483\n",
      "########\n",
      "*******\n",
      "question: John was very annoyed by the infidelity of his sound system.  He had paid a premium for it, so he expected what?\n",
      "answer: fidelity\n",
      "choices: ['end marriage', 'loyalty', 'fidelity', 'faithfulness', 'mean shooting']\n",
      "common expl list: ['The traditional role of a sound system is to play audio recordings as accurately as possible; in this role, it is expected to be safe, stable, and to faithfully reproduce data that was recorded onto the cassette. Infidelity in a sound system is unbearable']\n",
      "generated explanation: <pad> <extra_id_0> If John was very annoyed by the infidelity of his sound system, it is likely that he had paid a premium for it. A premium is a price that is paid for something that is considered to be of high quality or value, such as a sound system or a television. It is often used in conjunction with other features, such as a surround sound system or a music system, and it is often associated with higher quality sound and better sound quality.\n"
     ]
    },
    {
     "name": "stderr",
     "output_type": "stream",
     "text": [
      "\r",
      " 32%|██████████████████████████████████████████████████▉                                                                                                           | 318/986 [16:22:56<80:50:35, 435.68s/it]"
     ]
    },
    {
     "name": "stdout",
     "output_type": "stream",
     "text": [
      "score: 0.6681103706359863\n",
      "########\n",
      "*******\n",
      "question: What is a negative effect to someone other than a spouse when two spouses are getting divorced?\n",
      "answer: children suffer\n",
      "choices: ['lot of grief', 'depression', 'no spouse', 'lose money', 'children suffer']\n",
      "common expl list: ['If two spouses (generally a mother and a father) are getting divorced, their children often suffer: for example, they may undergo mid-transition moves, lose time with a parent, need to lower their expectations for what they receive financially and', 'Divorce has a serious effect on children: their family split and their daily routines, life expectations, and so on are upset.']\n",
      "generated explanation: <pad> <extra_id_0> When two spouses are getting divorced, there may be a negative effect on someone other than a spouse. Children may suffer when two spouses are getting divorced. Divorce can have a negative effect on children because it can cause them to feel abandoned and neglected. Children may also suffer from the stress and anxiety that comes with a divorce and may experience difficulties adjusting to a new home and school. It is important for children to understand and accept the divorce\n"
     ]
    },
    {
     "name": "stderr",
     "output_type": "stream",
     "text": [
      "\r",
      " 32%|███████████████████████████████████████████████████                                                                                                           | 319/986 [16:31:06<83:44:26, 451.97s/it]"
     ]
    },
    {
     "name": "stdout",
     "output_type": "stream",
     "text": [
      "score: 0.7179577350616455\n",
      "########\n",
      "*******\n",
      "question: What kind of building has many a book written in Hebrew?\n",
      "answer: synagogue\n",
      "choices: ['library', 'classroom', 'library of congress', 'suitcase', 'synagogue']\n",
      "common expl list: ['Books and other writings in Hebrew are likely to be found in synagogues.', 'Synagogues are buildings that are used for religious purposes, and often contain books.', 'Many, if not most synagogues will have many Hebrew books in them. This is because synagogues also offer religious services, which include prayers read from Hebrew.']\n",
      "generated explanation: <pad> <extra_id_0> A synagogue is a religious building that is used for worship and religious study. Many books have been written in Hebrew and are found in synagogues throughout the world. The Hebrew language is the official language of the Jewish people, and it is used in many different religious and spiritual traditions, including Judaism, Islam, Christianity, and Judaism. There are many different types of synagogues, each with its own distinctive history and\n"
     ]
    },
    {
     "name": "stderr",
     "output_type": "stream",
     "text": [
      "\r",
      " 32%|███████████████████████████████████████████████████▎                                                                                                          | 320/986 [16:39:37<86:50:45, 469.44s/it]"
     ]
    },
    {
     "name": "stdout",
     "output_type": "stream",
     "text": [
      "score: 0.8146288394927979\n",
      "########\n",
      "*******\n",
      "question: When love is not reciprocated, what are the feelings that are involved?\n",
      "answer: pain and suffering\n",
      "choices: ['deaths', 'pain and suffering', 'having sex', 'happiness', 'bring joy']\n",
      "common expl list: [\"When someone feels warmth for you, but you don't feel the same way back at them, they will feel pain and suffering.\", 'Love brings emotional pain if it is not reciprocated. This is because you loved another, but they did not feel the same.', 'Love can bring sadness and pain when you feel it for someone who does not feel it for you.', \"If someone loves you, but you don't love them back, they will likely feel pain and suffering.\"]\n",
      "generated explanation: <pad> <extra_id_0> When love is not reciprocated, the feelings that are involved are pain and suffering. Pain and suffering are common emotions that are experienced when someone you love does not return the feeling. It is not clear from the outset what the feelings that are involved in not being loved back are. However, it is possible that there are certain feelings that are involved, such as hurt, anger, or disappointment. These emotions can be difficult to express and may be difficult to understand. If you are experiencing\n"
     ]
    },
    {
     "name": "stderr",
     "output_type": "stream",
     "text": [
      "\r",
      " 33%|███████████████████████████████████████████████████▍                                                                                                          | 321/986 [16:48:08<89:03:27, 482.12s/it]"
     ]
    },
    {
     "name": "stdout",
     "output_type": "stream",
     "text": [
      "score: 0.7083748579025269\n",
      "########\n",
      "*******\n",
      "question: Despite numerous bad public reviews the expert found the product to be what?\n",
      "answer: first rate\n",
      "choices: ['sincere', 'adequate', 'first rate', 'passable', 'sufficient']\n",
      "common expl list: [\"While a public review is just a one-off opinion, an expert's opinion is usually elevated because of their specific subject matter education and familiarity, and ability to compare and contrast an item with others of similar type, and judge their quality.\"]\n",
      "generated explanation: <pad> <extra_id_0> Despite numerous bad public reviews the expert found the product to be first rate. A first rate product is one that is considered to be of high quality and is of a high standard. It is typically made of high quality materials, is well designed, and has a high level of functionality. It is often difficult for consumers to determine whether a product is first rate based on public reviews alone. However, experts often use a variety of factors, including product quality, price\n"
     ]
    },
    {
     "name": "stderr",
     "output_type": "stream",
     "text": [
      "\r",
      " 33%|███████████████████████████████████████████████████▌                                                                                                          | 322/986 [16:56:43<90:43:37, 491.89s/it]"
     ]
    },
    {
     "name": "stdout",
     "output_type": "stream",
     "text": [
      "score: 0.7090848684310913\n",
      "########\n",
      "*******\n",
      "question: As one side made advances on the other it seemed it would soon be over, the losers were doomed because not everyone gets to celebrate what?\n",
      "answer: victory in war\n",
      "choices: ['understood', 'pleasure', 'happy', 'happiness', 'victory in war']\n",
      "common expl list: ['If one side wins a war, it means that the other side loses. If one side loses a war, it means that the other side has won, which means that they celebrate.']\n",
      "generated explanation: <pad> <extra_id_0> As one side made advances it seemed that it would soon be over. War is a violent conflict that involves the fighting of two or more opposing sides. While the winners of a war may celebrate their victory, the losers may be doomed to suffer the consequences of their actions. War is a stressful and emotional experience for everyone involved, and it can be difficult for those who are losing to cope with the stress and anxiety of the conflict. In war, the winners\n"
     ]
    },
    {
     "name": "stderr",
     "output_type": "stream",
     "text": [
      "\r",
      " 33%|███████████████████████████████████████████████████▊                                                                                                          | 323/986 [17:05:32<92:38:38, 503.04s/it]"
     ]
    },
    {
     "name": "stdout",
     "output_type": "stream",
     "text": [
      "score: 0.6257414817810059\n",
      "########\n",
      "*******\n",
      "question: Where is a white rat likely to be?\n",
      "answer: laboratory\n",
      "choices: ['kitchen', 'laboratory', 'roof', 'cellar', 'sewers']\n",
      "common expl list: [\"White rats are often used in laboratories, and so it's likely that they would be found in a laboratory.\", 'Rats live in many places, including humans apartments. However, they might be more likely to be found in laboratories so that they can be studied, either by scientists or medical students taking dissection classes.']\n",
      "generated explanation: <pad> <extra_id_0> A white rat is a type of rodent that is typically found in a laboratory. A laboratory is a building or room that is used for the study of animals, typically laboratories or research facilities. Rats are small, furry rodents that are used for testing, research, and other types of experiments. They are typically used for a variety of purposes, including research, testing, and development, and they are often used as a source of food,\n"
     ]
    },
    {
     "name": "stderr",
     "output_type": "stream",
     "text": [
      "\r",
      " 33%|███████████████████████████████████████████████████▉                                                                                                          | 324/986 [17:14:01<92:48:24, 504.69s/it]"
     ]
    },
    {
     "name": "stdout",
     "output_type": "stream",
     "text": [
      "score: 0.7971348166465759\n",
      "########\n",
      "*******\n",
      "question: where do you store wine?\n",
      "answer: basement\n",
      "choices: ['attic', 'basement', 'art show', 'church', 'bar']\n",
      "common expl list: ['Wine should usually be stored in a cool, dark, dry environment. Back in the horse-and-wagon days, people often kept their wine in their basement. Back when I was a student, I lived in a basement apartment complete with a rat', \"Wine is stored in a basement, because it's cool and dark, and therefore ideal for storing wine.\"]\n",
      "generated explanation: <pad> <extra_id_0> If you store wine in a basement, it is likely that you have a separate area or room in your home designated as a wine cellar. A wine cellar is a room or area that is used for storing and aging wines, such as red or white wine. Wine cellars are typically located in the basement of a house or other building and are used for storing and aging wines, as well as other types of beverages. Wine cellars can be\n"
     ]
    },
    {
     "name": "stderr",
     "output_type": "stream",
     "text": [
      "\r",
      " 33%|████████████████████████████████████████████████████                                                                                                          | 325/986 [17:22:54<94:15:13, 513.33s/it]"
     ]
    },
    {
     "name": "stdout",
     "output_type": "stream",
     "text": [
      "score: 0.7027267217636108\n",
      "########\n",
      "*******\n",
      "question: A monkey ran through La Defense with classified documents, who was chasing it?\n",
      "answer: french government\n",
      "choices: ['monkey', 'rain forest', 'captivity', 'madagascar', 'french government']\n",
      "common expl list: ['The monkey was in the La Defense area of Paris, a city in France. The French government is the governing body of France, and it would be responsible for chasing a monkey that had stolen classified documents.']\n",
      "generated explanation: <pad> <extra_id_0> If a monkey ran through La Defense with classified documents, the French government was chasing it. La Defense is a district in Paris, France, and is home to the French military and the French government. It is a military base and is a major military installation in France. It is a major military installation and is home to the French government. The French government is responsible for maintaining the security of the area and is responsible for ensuring that all classified documents are handled\n"
     ]
    },
    {
     "name": "stderr",
     "output_type": "stream",
     "text": [
      "\r",
      " 33%|████████████████████████████████████████████████████▏                                                                                                         | 326/986 [17:31:30<94:14:44, 514.07s/it]"
     ]
    },
    {
     "name": "stdout",
     "output_type": "stream",
     "text": [
      "score: 0.6342467069625854\n",
      "########\n",
      "*******\n",
      "question: The aisle that John was on had macaroni, rice, and hamburger helper. What sort of store is John most likely shopping at?\n",
      "answer: grocery store\n",
      "choices: ['grocery store', 'church', 'drugstore', 'hardware store', 'department store']\n",
      "common expl list: [\"Grocery stores often have food items like rice and macaroni noodles, as well as other items, e.g., cleaning supplies, that John might need for what he's doing at home.\"]\n",
      "generated explanation: <pad> <extra_id_0> If the aisle that John was on had macaroni, rice, and hamburger helper, it is likely that he was shopping at a grocery store. A grocery store is a retail establishment that specializes in selling a wide range of food items, including fresh produce, dairy products, and groceries. Grocery stores are often located in busy urban areas, and they are often the first stop for people shopping for groceries and other household items. They are often the first\n"
     ]
    },
    {
     "name": "stderr",
     "output_type": "stream",
     "text": [
      "\r",
      " 33%|████████████████████████████████████████████████████                                                                                                         | 327/986 [17:42:05<100:45:08, 550.39s/it]"
     ]
    },
    {
     "name": "stdout",
     "output_type": "stream",
     "text": [
      "score: 0.746764063835144\n",
      "########\n",
      "*******\n",
      "question: Danny was having fun singing in front of his class.   He has a lot of what?\n",
      "answer: glee\n",
      "choices: ['laughter', 'being happy', 'glee', 'opera', 'injuries']\n",
      "common expl list: ['Glee is positive feelings such as joy or euphoria (\"he has a lot of glee!\" sounds happy and excited).']\n",
      "generated explanation: <pad> <extra_id_0> If Danny was having fun singing in front of his class, it is likely that he has a lot of glee. Glee is a term that refers to a feeling or emotion of enjoyment or joy, typically associated with singing or performing. It is a positive emotion that is often associated with enjoying oneself and having fun, such as glee or excitement. It is not clear from the context what exactly glee is or how it is\n"
     ]
    },
    {
     "name": "stderr",
     "output_type": "stream",
     "text": [
      "\r",
      " 33%|████████████████████████████████████████████████████▏                                                                                                        | 328/986 [17:52:05<103:17:51, 565.15s/it]"
     ]
    },
    {
     "name": "stdout",
     "output_type": "stream",
     "text": [
      "score: 0.6722198724746704\n",
      "########\n",
      "*******\n",
      "question: James was an American horse. He thought his home was too hot.  Where might he have lived?\n",
      "answer: arizona\n",
      "choices: ['arizona', 'farm yard', 'south', 'michigan', 'western movie']\n",
      "common expl list: ['American horses live in the USA. Arizona is in the southwest, near Mexico, and is notably warm.']\n",
      "generated explanation: <pad> <extra_id_0> If James was an American horse and thought his home was too hot, he may have lived in arizona. Arizona is a state in the southwest region of the United States. It is known for its hot climate and desert landscapes, which are known for their extreme temperatures and dry climates. Arizona is a popular destination for tourists and residents alike, and is known for its beautiful scenery and warm, sunny weather. It is a popular place for horses to roam\n"
     ]
    },
    {
     "name": "stderr",
     "output_type": "stream",
     "text": [
      "\r",
      " 33%|████████████████████████████████████████████████████▍                                                                                                        | 329/986 [18:01:21<102:39:45, 562.53s/it]"
     ]
    },
    {
     "name": "stdout",
     "output_type": "stream",
     "text": [
      "score: 0.6957240104675293\n",
      "########\n",
      "*******\n",
      "question: What does exercising immediately lead to?\n",
      "answer: exhaustion\n",
      "choices: ['relaxation', 'exhaustion', 'energetic', 'become stronger', 'use energy']\n",
      "common expl list: ['After expending energy in an excersise, one becomes slightly more exhausted.', 'Because exerting physical energy leads to physical tiredness.', 'Exercising is a physically demanding activity, and so, after doing such an activity, one would be exhausted.']\n",
      "generated explanation: <pad> <extra_id_0> Exercise immediately leads to exhaustion. Exercise is a form of physical activity that involves moving quickly and continuously through a range of motions, such as running, jumping, or cycling. It is a good way to burn calories and build endurance, but it can also lead to fatigue and other physical symptoms. Exercising can also lead to fatigue and other physical symptoms, such as a headache, soreness, or muscle soreness. As a result\n"
     ]
    },
    {
     "name": "stderr",
     "output_type": "stream",
     "text": [
      "\r",
      " 33%|████████████████████████████████████████████████████▌                                                                                                        | 330/986 [18:10:09<100:37:16, 552.19s/it]"
     ]
    },
    {
     "name": "stdout",
     "output_type": "stream",
     "text": [
      "score: 0.785370409488678\n",
      "########\n",
      "*******\n",
      "question: Where should an excavation never take place?\n",
      "answer: cemetary\n",
      "choices: ['construction site', 'cemetary', 'building', 'city', 'archeological site']\n",
      "common expl list: ['Cemeteries are places where people are buried, and digging up a cemetary is a bad idea.', 'Excavations, e.g., to install utilities, are easy to disturb, and final resting places should be left alone.', 'Cemeteries are graves. Excavating cemeteries is likely to cause emotional discomfort to the people involved.']\n",
      "generated explanation: <pad> <extra_id_0> An excavation should never take place in a cemetary. Cemeteries are places where people are buried after they die. They are sacred places that are used for interment and memorial services. Because they are sacred places, they are often the subject of intense scrutiny and scrutiny from the public. Because of this, it is important for people to understand and respect their privacy and the rights of others when they are buried. It is important for people to understand and respect the privacy\n"
     ]
    },
    {
     "name": "stderr",
     "output_type": "stream",
     "text": [
      "\r",
      " 34%|█████████████████████████████████████████████████████                                                                                                         | 331/986 [18:19:05<99:33:33, 547.20s/it]"
     ]
    },
    {
     "name": "stdout",
     "output_type": "stream",
     "text": [
      "score: 0.7044084668159485\n",
      "########\n",
      "*******\n",
      "question: If someone were to gain a lot of fat their doctor will likely tell them to do what?\n",
      "answer: lose weight\n",
      "choices: ['lose weight', 'loosing', 'loosing', 'loss', 'reduce']\n",
      "common expl list: ['Doctors will prescribe diets that involve losing weight in order to reduce the fat quantity in the body of a person, thereby reducing physical problems caused by obesity in the future.', 'Gaining a lot of fat is unhealthy, and the doctor will likely tell the person to lose weight.', 'If a person gains a lot of fat, their doctor will likely tell them to lose weight to be healthy.']\n",
      "generated explanation: <pad> <extra_id_0> If someone were to gain a lot of fat their doctor will likely tell them to lose weight. Fat is a type of body fat that is made up of cells that are attached to a supporting structure called the muscle or tissue. Fat cells are responsible for providing the body with energy and nutrients, and they can also act as a storage for energy and nutrients. If someone were to gain a lot of fat their doctor will likely tell them to lose weight in order to reduce\n"
     ]
    },
    {
     "name": "stderr",
     "output_type": "stream",
     "text": [
      "\r",
      " 34%|█████████████████████████████████████████████████████▏                                                                                                        | 332/986 [18:27:50<98:13:03, 540.65s/it]"
     ]
    },
    {
     "name": "stdout",
     "output_type": "stream",
     "text": [
      "score: 0.731386661529541\n",
      "########\n",
      "*******\n",
      "question: Being tired makes humans decide to go to this object?\n",
      "answer: go to bed\n",
      "choices: ['go to bed', 'have rest', 'go to the gym', 'snore', 'watch tv']\n",
      "common expl list: ['People are tired after a day of activity, and so they go to bed to allow for rest and renewal.', 'Humans often decide to go to bed when they are tired.', 'Humans go to bed to get sleep, which makes them feel less tired.']\n",
      "generated explanation: <pad> <extra_id_0> Being tired makes humans decide to go to bed. Bed is a common place for people to rest and recharge. It is a comfortable, warm, and secure place where they can relax and rest. Bed is often a welcoming, comfortable place where people can go to unwind and recharge. It is a safe and comfortable place where they can rest and recharge. It is often a relaxing and restful place, and it can provide a comfortable place to rest and relax\n"
     ]
    },
    {
     "name": "stderr",
     "output_type": "stream",
     "text": [
      "\r",
      " 34%|█████████████████████████████████████████████████████▎                                                                                                        | 333/986 [18:36:44<97:42:51, 538.70s/it]"
     ]
    },
    {
     "name": "stdout",
     "output_type": "stream",
     "text": [
      "score: 0.8070759773254395\n",
      "########\n",
      "*******\n",
      "question: I need a balloon to decorate something, what am I buying it for?\n",
      "answer: birthday party\n",
      "choices: ['sky', 'birthday party', \"child's hand\", 'grocery store', 'car']\n",
      "common expl list: ['Birthday parties often use balloons to decorate, so balloons are something you might buy for a birthday party.', 'Balloons are often used as decorations for birthday parties.']\n",
      "generated explanation: <pad> <extra_id_0> If I need a balloon to decorate something, I am buying it for a birthday party. A birthday party is a celebration or event that is held to celebrate a special occasion or event. A birthday party is a time when people gather together to celebrate a birthday or other special occasion. Balloons can be used to decorate a party or event and can be used to add color, fun, and excitement to the event. Balloons can also\n"
     ]
    },
    {
     "name": "stderr",
     "output_type": "stream",
     "text": [
      "\r",
      " 34%|█████████████████████████████████████████████████████▌                                                                                                        | 334/986 [18:45:44<97:36:46, 538.97s/it]"
     ]
    },
    {
     "name": "stdout",
     "output_type": "stream",
     "text": [
      "score: 0.7935184240341187\n",
      "########\n",
      "*******\n",
      "question: If I want to listen to the movie what do I need to do?\n",
      "answer: shut up\n",
      "choices: ['able to hear', 'pay attention', 'close eyes', 'shut up', 'very quiet']\n",
      "common expl list: ['If you want to listen to a movie, you need to be quiet so that you can hear it.', \"If I want to listen to a movie, I need to be silent, as the audio consists of the movie's various sounds. Someone who is chatting will ruin their movie-watching.\"]\n",
      "generated explanation: <pad> <extra_id_0> If I want to listen to the movie, I need to shut up. A movie is a recording of a live performance or event, typically a movie or television show. Movies are typically long, action-packed films that feature dialogue, action, and scenes that are filmed in a studio or outdoor location. They are often produced in a variety of styles, including documentary, drama, musical, and documentary, as well as music and sound effects. In order\n"
     ]
    },
    {
     "name": "stderr",
     "output_type": "stream",
     "text": [
      "\r",
      " 34%|█████████████████████████████████████████████████████▋                                                                                                        | 335/986 [18:54:04<95:22:56, 527.46s/it]"
     ]
    },
    {
     "name": "stdout",
     "output_type": "stream",
     "text": [
      "score: 0.5514028072357178\n",
      "########\n",
      "*******\n",
      "question: What kingdom is frequently associated with pubs?\n",
      "answer: great britain\n",
      "choices: ['bahrain', 'ireland', 'great britain', 'london', 'england']\n",
      "common expl list: ['The term \"pub\" comes from \"public house,\" and was prevalent in the UK, which is in the great britain kingdom.', 'Pubs are often associated with the United Kingdom, and the United Kingdom is a kingdom.', \"Great Britian often uses pubs as a term for it's taverns, which are used for social gathering.\"]\n",
      "generated explanation: <pad> <extra_id_0> Pubs are public houses or bars that are open to the public and serve food and drink. Pubs are often associated with Great Britain, where they are located in the south-east of the country. Pubs are popular places to gather and relax with friends and family, and they are often located in urban areas or towns. Pubs are often associated with great britain, where they are a common feature of the social life and culture of the people who live there.\n"
     ]
    },
    {
     "name": "stderr",
     "output_type": "stream",
     "text": [
      "\r",
      " 34%|█████████████████████████████████████████████████████▊                                                                                                        | 336/986 [19:03:13<96:22:52, 533.80s/it]"
     ]
    },
    {
     "name": "stdout",
     "output_type": "stream",
     "text": [
      "score: 0.741349995136261\n",
      "########\n",
      "*******\n",
      "question: Where might one find a bench of people sitting before they are taken away?\n",
      "answer: bus stop\n",
      "choices: ['car stand', 'bus stop', 'state park', 'bus depot', 'rest area']\n",
      "common expl list: ['At a bus stop, people gather together to wait until a bus arrives to take them away.', 'Buses pick up and drop off passengers at bus stops.', 'Bus stops are places where people wait for a bus to arrive.', 'Buses pick up and drop of passengers at bus stops.']\n",
      "generated explanation: <pad> <extra_id_0> One might find a bench of people sitting before they are taken away. A bus stop is a place where buses stop and passengers wait to be taken away. Bus stops are often located in busy urban areas and are often the first stop for passengers arriving on a bus or train. At a bus stop, passengers can wait for their bus or train to arrive and are often given the option of taking a seat at a bench or other seating area to wait for their bus\n"
     ]
    },
    {
     "name": "stderr",
     "output_type": "stream",
     "text": [
      "\r",
      " 34%|██████████████████████████████████████████████████████                                                                                                        | 337/986 [19:12:05<96:08:14, 533.27s/it]"
     ]
    },
    {
     "name": "stdout",
     "output_type": "stream",
     "text": [
      "score: 0.7899022698402405\n",
      "########\n",
      "*******\n",
      "question: Where can you buy a binder?\n",
      "answer: office supply store\n",
      "choices: ['college dorm', 'back pack', 'class room', 'backpack', 'office supply store']\n",
      "common expl list: ['A \"binder\" would likely be an office supply store. Office supply stores have a wide selection of files, folders, papers, tab dividers, and other supplies that could be contained in a binder. Rigid binders are commonly found', 'A binder is a type of document folder, which is likely to be available in a college bookstore or an office supply store, from which you would purchase either a binder itself or a binder full of documents.']\n",
      "generated explanation: <pad> <extra_id_0> You can buy a binder at an office supply store. An office supply store is a retail store that specializes in selling office supplies and related supplies. They may carry a wide range of products, including binders, folders, and other organizational supplies. Binders are commonly used for storing documents, such as contracts, letters, and other important documents. They are often used in offices and other settings to organize and store information, such as files, documents\n"
     ]
    },
    {
     "name": "stderr",
     "output_type": "stream",
     "text": [
      "\r",
      " 34%|██████████████████████████████████████████████████████▏                                                                                                       | 338/986 [19:20:49<95:28:18, 530.40s/it]"
     ]
    },
    {
     "name": "stdout",
     "output_type": "stream",
     "text": [
      "score: 0.8977341651916504\n",
      "########\n",
      "*******\n",
      "question: People have many different emotions during the day we also call these this?\n",
      "answer: feelings\n",
      "choices: ['brains', 'feelings', 'brown hair', 'drug problem', 'radio']\n",
      "common expl list: ['Emotions are things that people feel.']\n",
      "generated explanation: <pad> <extra_id_0> People have many different emotions during the day. These emotions may be described as positive, negative, or neutral. Emotions can also be expressed as physical sensations, thoughts, or attitudes. Feelings can be described as the subjective experience of experiencing something or someone in a particular way. They may be positive, negative, or neutral, and they may be accompanied by other mental or physical aspects, such as hunger, sadness, or joy. Feelings can also be\n"
     ]
    },
    {
     "name": "stderr",
     "output_type": "stream",
     "text": [
      "\r",
      " 34%|██████████████████████████████████████████████████████▎                                                                                                       | 339/986 [19:29:43<95:31:23, 531.50s/it]"
     ]
    },
    {
     "name": "stdout",
     "output_type": "stream",
     "text": [
      "score: 0.740813672542572\n",
      "########\n",
      "*******\n",
      "question: Opening business was a passionate dream of his, but he'd be lying if he didn't want to what too?\n",
      "answer: get rich\n",
      "choices: ['busy', 'get rich', 'bankruptcy', 'wealth', 'live the dream']\n",
      "common expl list: ['Business owners often want to get rich, and they work hard to make their businesses successful.']\n",
      "generated explanation: <pad> <extra_id_0> Opening a business was a passionate dream of his. But he'd be lying if he didn't also want to get rich. Opening a business was a passionate dream of his, but he'd be lying if he didn't also want to get rich. Opening a business was a dream of his, but he'd be lying if he didn't also want to get rich. Opening a\n"
     ]
    },
    {
     "name": "stderr",
     "output_type": "stream",
     "text": [
      "\r",
      " 34%|██████████████████████████████████████████████████████▍                                                                                                       | 340/986 [19:38:17<94:26:54, 526.34s/it]"
     ]
    },
    {
     "name": "stdout",
     "output_type": "stream",
     "text": [
      "score: 0.6019993424415588\n",
      "########\n",
      "*******\n",
      "question: When the farmer was reproducing sheep, what did one sheep give later?\n",
      "answer: birth\n",
      "choices: ['fun', 'wool', 'birth', 'larger family', 'problems']\n",
      "common expl list: ['Sheep give birth to new sheep.', 'When goats and sheep produce offspring, this is done by giving birth to offspring. Yielding this offspring is birth.', \"Sheep reproduce to generate new sheep. One sheep's contribution would be the birth of the new sheep.\", 'Reproduction requires a resulting baby. The resulting baby of a sheep was later when, they wanted to reproduce, a new baby sheep.']\n",
      "generated explanation: <pad> <extra_id_0> When the farmer was reproducing sheep, one sheep gave birth later. A sheep gives birth when it is pregnant or when it is nursing. Sheep give birth when they are pregnant or when they are nursing. Sheep give birth when they are pregnant or when they are nursing. Sheep give birth when they are pregnant or when they are nursing. Sheep give birth when they are pregnant or when they are nursing. Sheep give birth when they are pregnant or\n"
     ]
    },
    {
     "name": "stderr",
     "output_type": "stream",
     "text": [
      "\r",
      " 35%|██████████████████████████████████████████████████████▋                                                                                                       | 341/986 [19:46:55<93:50:02, 523.72s/it]"
     ]
    },
    {
     "name": "stdout",
     "output_type": "stream",
     "text": [
      "score: 0.6635928153991699\n",
      "########\n",
      "*******\n",
      "question: Even if not all events are enjoyable, what is a person traveling to many different places likely to have?\n",
      "answer: interesting experiences\n",
      "choices: ['lots of tickets', 'interesting experiences', 'compliments', 'feel pleasure', 'look attractive']\n",
      "common expl list: ['A person traveling to many different places is likely to have interesting experiences, because they are likely to be doing different things in different places.', 'When traveling between many locations which are spread out a person will naturally have lots of adventures and experiences to enjoy.']\n",
      "generated explanation: <pad> <extra_id_0> A person traveling to many different places is likely to have interesting experiences. Even if not all events are enjoyable, a person traveling to many different places is likely to have interesting experiences. These are experiences that are different from the ones that they are used to, and that may be rewarding or interesting in some way. Traveling to many different places can provide a person with a variety of different perspectives, opportunities, and challenges. One benefit of traveling is the opportunity to see and\n"
     ]
    },
    {
     "name": "stderr",
     "output_type": "stream",
     "text": [
      "\r",
      " 35%|██████████████████████████████████████████████████████▊                                                                                                       | 342/986 [19:56:14<95:34:47, 534.30s/it]"
     ]
    },
    {
     "name": "stdout",
     "output_type": "stream",
     "text": [
      "score: 0.7720665335655212\n",
      "########\n",
      "*******\n",
      "question: The loquacious man needed to listen, what should he do?\n",
      "answer: stop talking\n",
      "choices: ['stop talking', 'pay attention', 'able to hear', 'shut up', 'concentrate']\n",
      "common expl list: [\"It might be difficult for this man to pay close attention and listen well if he is also talking. Listening well is needed to be able to ascertain what the lecturer needs him to do. him tell that ability apart from the other options wasn't easy\", 'The man needed to listen, so he should stop talking.']\n",
      "generated explanation: <pad> <extra_id_0> If the loquacious man needed to listen, he should stop talking. Listening requires paying attention to what is being said and paying attention to how it is being said. It is important for people who are loquacious to understand and follow instructions, and it can be difficult for them to do this when they are talking. It is important for them to understand and follow instructions when someone is speaking to them. If a loquacious man needs to listen, he should\n"
     ]
    },
    {
     "name": "stderr",
     "output_type": "stream",
     "text": [
      "\r",
      " 35%|██████████████████████████████████████████████████████▉                                                                                                       | 343/986 [20:04:52<94:35:26, 529.59s/it]"
     ]
    },
    {
     "name": "stdout",
     "output_type": "stream",
     "text": [
      "score: 0.7539646029472351\n",
      "########\n",
      "*******\n",
      "question: What would a rock form in nature above the treeline?\n",
      "answer: mountains\n",
      "choices: ['surface of earth', 'pit', 'bridge', 'mountains', 'minerals']\n",
      "common expl list: ['Above the treeline exist mountains. Rocks tend to be at the top of mountains.', 'A mountain forms as accumulated material, usually stone, juts out from the ground.']\n",
      "generated explanation: <pad> <extra_id_0> A rock would form in nature above the treeline. A rock would be a mass of rock that is composed of a variety of minerals, such as quartz, feldspar, and calcite, that is found in varying degrees of purity and density. Mountains are high, rounded, and rugged terrain that is characterized by its rugged terrain and the presence of large, open spaces. Mountains can be found in a variety of settings, including deserts,\n"
     ]
    },
    {
     "name": "stderr",
     "output_type": "stream",
     "text": [
      "\r",
      " 35%|███████████████████████████████████████████████████████                                                                                                       | 344/986 [20:13:45<94:38:09, 530.67s/it]"
     ]
    },
    {
     "name": "stdout",
     "output_type": "stream",
     "text": [
      "score: 0.629040539264679\n",
      "########\n",
      "*******\n",
      "question: Some people don't have insurance, they can expect a long wait in the waiting room when they go to the walk in what?\n",
      "answer: clinic\n",
      "choices: ['maternity ward', \"dentist's office\", \"doctor's office\", 'private doctor', 'clinic']\n",
      "common expl list: ['Medical clinics provide basic care for many of those without health coverage, and these are generally smaller, therefore able to handle the influx of patients on some days.', \"Walk-in clinics are often used by people who don't have health insurance, and so they may have to wait a long time to see a doctor.\"]\n",
      "generated explanation: <pad> <extra_id_0> If you don't have insurance, you may have to wait in a waiting room when you go to a walk-in clinic. A walk-in clinic is a healthcare facility that is open to the public and does not require insurance coverage. Walk-in clinics are often smaller, less formal healthcare facilities that are designed to serve the needs of walk-in patients. They typically have fewer staff and are more focused on providing basic healthcare services and preventative care.\n"
     ]
    },
    {
     "name": "stderr",
     "output_type": "stream",
     "text": [
      "\r",
      " 35%|███████████████████████████████████████████████████████▎                                                                                                      | 345/986 [20:23:02<95:51:44, 538.38s/it]"
     ]
    },
    {
     "name": "stdout",
     "output_type": "stream",
     "text": [
      "score: 0.6998144388198853\n",
      "########\n",
      "*******\n",
      "question: He was in a cabin in the woods, through the window he saw a fox where?\n",
      "answer: outside\n",
      "choices: ['indiana', 'england', 'outside', 'on the wall', 'picture']\n",
      "common expl list: ['foxes are well known for running wild in forests, so the fox appears outside his cabin in the woods.']\n",
      "generated explanation: <pad> <extra_id_0> If he was in a cabin in the woods, and through the window he saw a fox outside, it is likely that the fox was outside the cabin. Foxes are nocturnal animals that live in the wild and are often seen in close proximity to humans. They are often seen in a variety of habitats, including forests, fields, and buildings, and are often used as a source of food and shelter for birds and small\n"
     ]
    },
    {
     "name": "stderr",
     "output_type": "stream",
     "text": [
      "\r",
      " 35%|███████████████████████████████████████████████████████▍                                                                                                      | 346/986 [20:32:36<97:36:25, 549.04s/it]"
     ]
    },
    {
     "name": "stdout",
     "output_type": "stream",
     "text": [
      "score: 0.6502606868743896\n",
      "########\n",
      "*******\n",
      "question: If you've been in a rut and busy, taking the time and eating breakfast could help you have a what?\n",
      "answer: better day\n",
      "choices: ['dirty dishes', 'gain energy', 'bad breath', 'better day', 'gas']\n",
      "common expl list: ['To have a \"better day,\" one might gain more energy and mental clarity by taking the time to have a good breakfast.', \"Taking the time to eat breakfast in the morning can help start one's day off on a good footing.\", \"Taking one's time to eat breakfast can help set a better tone for the entire day\", 'If you eat breakfast, you are likely to have more energy and have a better day.']\n",
      "generated explanation: <pad> <extra_id_0> If you've been in a rut and busy, taking the time and eating breakfast could help you have a better day. Breakfast is a meal that is typically eaten in the morning, and it is often considered to be a vital part of a healthy, balanced diet. It is important to remember that breakfast is a meal that is typically eaten before going to work or school. It is important to eat breakfast because it can help to fuel your body and\n"
     ]
    },
    {
     "name": "stderr",
     "output_type": "stream",
     "text": [
      "\r",
      " 35%|███████████████████████████████████████████████████████▎                                                                                                     | 347/986 [20:42:34<100:05:37, 563.91s/it]"
     ]
    },
    {
     "name": "stdout",
     "output_type": "stream",
     "text": [
      "score: 0.76726895570755\n",
      "########\n",
      "*******\n",
      "question: Where do captured elephants live?\n",
      "answer: zoo\n",
      "choices: ['city', 'circus', 'zoo', 'weight 1000 kilos', 'africa']\n",
      "common expl list: [\"Captured elephants are kept in zoos for a variety of reasons, including peoples' enjoyment of them and preserving them.\", 'Captured elephants could be sent to zoos, where people could visit them, to observe them, and learn about them.']\n",
      "generated explanation: <pad> <extra_id_0> Captured elephants live in zoos. Zoos are facilities that are devoted to the care and conservation of animals, and they are often used as a holding place for wild animals. Elephants that have been captured and taken to a zoo may be kept in captivity in order to study them or to provide a safe haven for them. Zoos are often used as a place for people to come and see the animals\n"
     ]
    },
    {
     "name": "stderr",
     "output_type": "stream",
     "text": [
      "\r",
      " 35%|███████████████████████████████████████████████████████▍                                                                                                     | 348/986 [20:53:11<103:49:55, 585.89s/it]"
     ]
    },
    {
     "name": "stdout",
     "output_type": "stream",
     "text": [
      "score: 0.7846947312355042\n",
      "########\n",
      "*******\n",
      "question: Danny needed a new mouse, his was jumping around  whenever he moved it.   Where might his mouse be?\n",
      "answer: desktop\n",
      "choices: ['abandoned houses', 'corn field', 'cupboard', 'cabinet', 'desktop']\n",
      "common expl list: ['An electrical mouse (and the computer that the mouse plugs into) would be found on the desktop. Mice are electronic equipment.']\n",
      "generated explanation: <pad> <extra_id_0> If Danny needed a new mouse, his was jumping around whenever he moved it. A mouse is a small, handheld device that is used for navigating and selecting items on a computer or other electronic device. Mice are typically used for controlling and navigating through documents, programs, and other resources on a computer or other electronic device. They are typically wireless and have a small, round shape and are typically used on a desktop or laptop computer. If Danny\n"
     ]
    },
    {
     "name": "stderr",
     "output_type": "stream",
     "text": [
      "\r",
      " 35%|███████████████████████████████████████████████████████▌                                                                                                     | 349/986 [21:04:53<109:49:56, 620.72s/it]"
     ]
    },
    {
     "name": "stdout",
     "output_type": "stream",
     "text": [
      "score: 0.640495777130127\n",
      "########\n",
      "*******\n",
      "question: Why would a camper start burning logs?\n",
      "answer: make breakfast\n",
      "choices: ['make breakfast', 'light fire', 'go swimming.', 'pack or bag', 'go hiking']\n",
      "common expl list: ['A camper might start a fire to cook breakfast.']\n",
      "generated explanation: <pad> <extra_id_0> A camper might start burning logs to make breakfast. Breakfast is a meal that is typically eaten in the morning, and it is often prepared using ingredients that are available on site, such as wood, charcoal, or wood chips. Logs can be used as a fuel source for cooking, heating, and lighting, and they can also be used for making campfires, bonfires, and other types of campfires. If a camper starts burning log\n"
     ]
    },
    {
     "name": "stderr",
     "output_type": "stream",
     "text": [
      "\r",
      " 35%|███████████████████████████████████████████████████████▋                                                                                                     | 350/986 [21:14:48<108:16:49, 612.91s/it]"
     ]
    },
    {
     "name": "stdout",
     "output_type": "stream",
     "text": [
      "score: 0.7653403282165527\n",
      "########\n",
      "*******\n",
      "question: Joe rented a loft, which is a type of what?\n",
      "answer: city apartment\n",
      "choices: ['hunting lodge', 'soho', 'frame house', 'room and board', 'city apartment']\n",
      "common expl list: ['Lofts are often rented in cities, and are usually apartments.', 'Lofts are apartments located in cities', 'Lofts can often be found rented as urban apartment spaces.']\n",
      "generated explanation: <pad> <extra_id_0> Joe rented a loft, which is a type of city apartment. A loft is a type of city apartment that is typically located in a city or urban area. Lofts are typically smaller and more intimate than traditional apartments, and they typically have a more open floor plan and fewer walls. They are typically equipped with a kitchen, bathroom, and living area, and they are often furnished with a variety of items, such as furniture, art, and\n"
     ]
    },
    {
     "name": "stderr",
     "output_type": "stream",
     "text": [
      "\r",
      " 36%|███████████████████████████████████████████████████████▉                                                                                                     | 351/986 [21:27:40<116:31:30, 660.61s/it]"
     ]
    },
    {
     "name": "stdout",
     "output_type": "stream",
     "text": [
      "score: 0.7664334177970886\n",
      "########\n",
      "*******\n",
      "question: The president usually lays his weary head to bed where?\n",
      "answer: whitehouse\n",
      "choices: ['bedroom', 'whitehouse', 'corporation', 'government', 'pta']\n",
      "common expl list: ['The president is the head of the government, and thus is likely to sleep in the White House, the official residence of the president.']\n",
      "generated explanation: <pad> <extra_id_0> The president usually lays his weary head to bed at the whitehouse. The whitehouse is the official residence of the United States president and is located in Washington, D.C. It is the seat of the federal government and is the seat of the executive branch of the federal government. It is the seat of the federal government and is the seat of the executive branch of the federal government. It is the seat of the executive branch of the federal government and is the seat of the\n"
     ]
    },
    {
     "name": "stderr",
     "output_type": "stream",
     "text": [
      "\r",
      " 36%|████████████████████████████████████████████████████████                                                                                                     | 352/986 [21:40:26<121:54:15, 692.20s/it]"
     ]
    },
    {
     "name": "stdout",
     "output_type": "stream",
     "text": [
      "score: 0.7261644005775452\n",
      "########\n",
      "*******\n",
      "question: Where would a child be happy to find chocolate?\n",
      "answer: christmas stocking\n",
      "choices: ['nearby', 'supermarket', 'box', 'candy store', 'christmas stocking']\n",
      "common expl list: ['Chocolate can be included as a stocking stuffer.']\n"
     ]
    }
   ],
   "source": [
    "from tqdm import tqdm\n",
    "fse_csqa_dev_data_dict\n",
    "fse_csqa_train_data_dict\n",
    "rationale_pair_dev_data = []\n",
    "score_list = []\n",
    "cc=0\n",
    "# good_model = model\n",
    "for da in tqdm(our_data_splits['dev'], total=len(our_data_splits['dev'])):\n",
    "    if cc < 200:\n",
    "        cc += 1\n",
    "        continue\n",
    "    print(\"*******\")\n",
    "    print(\"question: {}\".format(da['question']))\n",
    "    print(\"answer: {}\".format(da['answer']))\n",
    "    print(\"choices: {}\".format(da['choices']))\n",
    "    #print(\"our_explanation: {}\".format(da['our_explanation']))\n",
    "    id_ = da['id']\n",
    "    if id_ in fse_csqa_dev_data_dict.keys():\n",
    "        common_expl_list = fse_csqa_dev_data_dict[id_]['common_expl_list']\n",
    "    else:\n",
    "        common_expl_list = fse_csqa_train_data_dict[id_]['common_expl_list']\n",
    "        #print(1)\n",
    "    da[\"common_expl_list\"] = common_expl_list\n",
    "    print(\"common expl list: {}\".format(common_expl_list))\n",
    "    inp_ids = torch.tensor(da[\"input_ids\"], device=model.device).reshape(1, -1)\n",
    "    out = good_model.generate(\n",
    "                    inp_ids,\n",
    "                    max_length=100,\n",
    "                    pad_token_id=tokenizer.pad_token_id,\n",
    "                    eos_token_id=tokenizer.eos_token_id,\n",
    "                )\n",
    "    skip_special_tokens = False if \"infilling\" in data_args.io_format else True\n",
    "    words = tokenizer.decode(out[0].tolist(), skip_special_tokens=skip_special_tokens)\n",
    "    print(\"generated explanation: {}\".format(words))\n",
    "    da[\"generated_explanation\"] = words\n",
    "    \n",
    "    rationale_pair_dev_data.append(da)\n",
    "    \n",
    "    qae = \"{} answer: {} explanation: {}\".format(da['question'], \n",
    "                                                 da['answer'], \n",
    "                                                 da['generated_explanation'])\n",
    "    scores = get_scores(\n",
    "        [qae],\n",
    "        '3b',\n",
    "        score_model,\n",
    "        score_tokenizer,\n",
    "        device='cpu',\n",
    "        batch_size=1,\n",
    "        verbose=False)\n",
    "    score_list.append(scores[0])\n",
    "    print(\"score: {}\".format(scores[0]))\n",
    "    print(\"########\")"
   ]
  },
  {
   "cell_type": "code",
   "execution_count": 72,
   "id": "81048fad",
   "metadata": {},
   "outputs": [],
   "source": [
    "chatGPT_rationales = [\n",
    "    \"A cup is a common vessel used for holding and drinking liquids, such as water, coffee, or tea. When you want to get yourself a drink, you might typically get a cup from a cabinet or other storage area in order to hold the drink. A cup is a convenient and practical choice for getting a drink because it is easy to hold and use, and it can hold a reasonable amount of liquid. There are many different types of cups available, including ceramic, glass, plastic, and metal cups, each with their own unique features and benefits. Whether you are at home, at work, or out in public, a cup is a handy item to have on hand when you need to quench your thirst.\",\n",
    "    \"A front yard is the lawn that is typically located in front of a house, near the street. The front yard is the part of the property that is visible from the street and is often used for decorative purposes, such as landscaping or gardening. Many people take pride in their front yards and may spend time and resources maintaining and improving them. The front yard is often the first thing that visitors see when they arrive at a house, and it can make a strong impression on them. In contrast, the back yard is typically located behind the house and is often used for more practical purposes, such as outdoor recreation or gardening.\",\n",
    "    \"A swimming pool is a recreational water feature that is typically used for swimming and other aquatic activities. While shallow water, such as that found in a kiddie pool or a shallow end of a pool, can be enjoyable for some people, it may not be sufficient for many summer activities. A swimming pool that is deep enough for diving and other activities is more likely to provide more opportunities for summer fun. In addition, a swimming pool that is clean and chlorinated is more likely to be safe and enjoyable for swimming, as it will be free of contaminants and bacteria that can cause illness.\",\n",
    "    \"In most places, it is illegal for people under the age of 21 to purchase or consume alcohol. This is because alcohol can have negative effects on the developing brain and body of young people. It can also contribute to risky behaviors and accidents. Therefore, many governments have set a minimum age for alcohol consumption and purchase to help protect the health and safety of young people. If someone is under the age of 21 and attempts to purchase alcohol, they may be denied the sale or face legal consequences. It is important for young people to understand and adhere to the laws and regulations regarding the purchase and consumption of alcohol in their area.\",\n",
    "    \"When someone shaves, they typically use a razor to remove hair from their face or body. The process of shaving can leave a lot of hair in the sink, as the hair is trimmed off and falls into the sink as it is being shaved. It is common for people to shave in the bathroom, where a sink is typically located. The sink provides a convenient place to rinse the razor and wash off any excess hair or shaving cream. It is important to clean the sink after shaving to remove any hair and prevent clogs in the drain.\",\n",
    "    \"A hamburger is a type of sandwich that consists of a cooked patty of ground meat, typically beef, placed between two slices of bread or a bun. Hamburgers are often served with various toppings, such as lettuce, tomato, onion, cheese, and condiments like ketchup and mustard. However, if someone is suffering from great hunger, they may not care about the toppings and just want to eat the hamburger itself. In this case, the person may be more focused on satisfying their hunger and getting nourishment rather than worrying about additional ingredients or flavors.\",\n",
    "    \"If a person notices popcorn and cotton candy on the grass, they are likely at fairgrounds. Fairgrounds are outdoor areas that are used for hosting fairs and other events, such as carnivals, festivals, and exhibitions. These events often feature food stalls and vendors that sell a variety of treats, including popcorn and cotton candy. Popcorn and cotton candy are both popular carnival foods that are often sold at fairs and other events. The presence of these foods on the ground at fairgrounds suggests that a fair or similar event is taking place there.\",\n",
    "    \"When snow on a mountain becomes heavy, it can trigger an avalanche. An avalanche is a rapid flow of snow down a slope, often triggered by the weight of the snow or external factors such as a change in temperature. Avalanches can be dangerous and destructive, as they can bury and sweep away anything in their path, including people, buildings, and vehicles. Avalanches can occur on any slope with a steep enough incline and a sufficient amount of snow. They are most common on mountains, but they can also occur in other snowy areas, such as forests or valleys. It is important for people to be aware of the risk of avalanches and to take precautions when traveling in areas prone to avalanches.\",\n",
    "    \"A police officer typically reports their work through the use of case reports or incident reports. These reports are written documents that detail the events of a specific case or incident that the officer has worked on. Case reports or incident reports typically include information such as the date and time of the incident, the location, the people involved, and the actions taken by the officer. They may also include witness statements, evidence collected, and any other relevant details. Case reports or incident reports are used by police officers to document their work and provide a record of the incidents they have dealt with. They are also used by supervisors and other authorities to review and evaluate the performance of the officer and the effectiveness of their actions.\",\n",
    "    \"Teachers play many roles in the lives of their students, including mentor, counselor, and role model. However, they get the most out of their job by simply teaching children. Teaching children is the primary responsibility of a teacher, and it is what they are trained and paid to do. Teaching involves imparting knowledge, skills, and values to students, and helping them to develop the skills and habits they need to succeed in life. Teachers have the opportunity to make a positive impact on the lives of their students by providing them with a strong foundation in academic subjects and helping them to become curious, engaged learners. Teachers often derive a great deal of satisfaction from helping their students to achieve their potential and succeed in their studies.\",\n",
    "    \"A person might go to get counseling for a variety of reasons. One reason is to better understand themselves. Counseling can provide a safe and supportive environment for individuals to explore their thoughts, feelings, and behaviors, and to gain insight into why they act and feel the way they do. Counseling can also help a person to identify and work through any underlying issues or challenges that may be causing them distress or hindering their personal growth. Through counseling, a person can learn more about themselves and how to navigate their emotions and relationships more effectively. Counseling can be particularly helpful for individuals who are struggling with mental health issues, relationship problems, or other personal challenges.\",\n",
    "    \"If the kids wanted to cool off, they might go swimming as a way to refresh and beat the heat. Swimming is a fun and enjoyable activity that can provide relief from hot weather and help to cool the body. Swimming can also provide a great workout and has numerous health benefits, such as improving cardiovascular fitness and flexibility. There are many different places where kids can go swimming, such as pools, lakes, rivers, or the ocean. No matter where they go, kids can have fun and cool off while enjoying the water.\",\n",
    "    \"When remembering a tragedy in the past, many people may feel depressed. Depression is a common emotional reaction to experiencing a traumatic or stressful event, such as a tragedy. Depression is a mental health disorder characterized by persistent feelings of sadness, hopelessness, and low energy. It can also cause physical symptoms such as changes in appetite and sleep patterns, fatigue, and difficulty concentrating. Remembering a tragedy can be emotionally difficult and may trigger feelings of sadness, grief, and guilt. It is important for people who are struggling with depression to seek support and treatment to help manage their symptoms and improve their mental health.\",\n",
    "    \"Death Valley is a national park located in the Mojave Desert, in the state of California, United States. It is situated on the North American continent. The North American continent is one of the seven continents of the world and is located in the western hemisphere. It is the third largest continent in terms of land area, after Asia and Africa, and is home to a diverse range of cultures, languages, and environments. Death Valley is known for its extreme desert climate and is the lowest, hottest, and driest place in North America. It is a popular destination for tourists, who come to see its unique geological features, such as sand dunes, salt flats, and canyons.\",\n",
    "    \"When in a serious relationship, understanding better requires effort. Relationships require effort and work to maintain and grow. In order to understand your partner better, you need to be willing to put in the time and effort to communicate with them, listen to their perspectives, and try to see things from their point of view. This may involve asking questions, expressing your own feelings and needs, and being open to feedback and compromise. Understanding your partner better can help to strengthen the bond between you and improve the quality of your relationship. It is important to remember that relationships are dynamic and evolving, and that ongoing communication and effort are necessary to maintain a healthy and fulfilling relationship.\",\n",
    "    \"Cats are able to make a variety of vocalizations, including meows, purrs, and growls, as a way of communicating with humans and other animals. Cats use these vocalizations to convey a range of emotions and needs, such as hunger, happiness, or discomfort. Meowing is a common vocalization that cats use to communicate with humans. Cats may meow when they want attention, food, or to be let outside. Cats may also meow when they are feeling anxious or stressed. Although cats cannot talk in the same way that humans do, they are skilled at using their voices to communicate with their owners and other animals.\",\n",
    "    \"If you need a vessel that is similar to a battleship but faster, you might consider using a corvette. A corvette is a small, fast warship that is typically used for convoy escort, patrol, and other shallow water duties. Corvettes are generally smaller and less heavily armed than battleships, but they are more agile and have a higher speed. They are typically equipped with a variety of weapons, including guns, missiles, and torpedoes, and are used for defending against enemy ships and aircraft. Corvettes are often used for coastal defense, as well as for patrolling and enforcing maritime laws. They are capable of operating in a variety of environments, including open ocean and littoral (nearshore) waters.\",\n",
    "    \"Water in the sky comes from rain clouds. Rain clouds are clouds that form when moist air rises and cools, forming tiny water droplets that condense around particles in the air. As the droplets grow, they eventually become heavy enough to fall from the cloud as rain. Rain clouds are typically gray or white in color and are often accompanied by other types of clouds, such as cumulus or stratocumulus clouds. Rain clouds can form in a variety of ways, such as when warm, moist air from the ground rises and cools, or when moist air from the ocean is carried inland by the wind. Rain clouds can be found in many parts of the world and are a common source of precipitation, especially during the warmer months.\",\n",
    "    \"If John rented a hotel room while on a business trip and it was a company-sponsored event, it is possible that the hotel was a resort. Resorts are hotels or vacation properties that offer a variety of amenities and activities for guests, such as swimming pools, golf courses, spas, and restaurants. They are often located in scenic or recreational areas and are designed to provide a relaxing and enjoyable experience for guests. Many resorts offer conference and meeting facilities and are popular destinations for business events and retreats. If John's company sponsored the business trip and provided the hotel accommodations, it is likely that they chose a resort with the amenities and facilities needed to support the event.\",\n",
    "    \"An expressway might leave the United States and go to Canada. The United States and Canada are neighboring countries that share a border, and there are several expressways that cross the border between the two countries. Expressways are high-speed, limited-access roads that are designed for fast and efficient travel. They typically have multiple lanes and may include features such as grade separations, interchanges, and controlled access points. Expressways are used for long-distance travel and are often the main routes connecting major cities and regions. If an expressway leaves the United States, it is likely that it is heading towards Canada, which is located to the north of the United States.\",\n",
    "    \"If you were walking on a sidewalk near a small corner shop run by John, you would look for it on the street corner. A corner shop is a small retail store that is typically located at the intersection of two streets. It is often a convenience store or a neighborhood shop that sells a variety of goods, such as groceries, household items, and other supplies. Corner shops are often located in busy urban areas, where they are easily accessible to pedestrians and motorists. If you were walking on a sidewalk near a corner shop, you would look for it at the intersection of the street where you are walking and another street. The shop is likely to be located in a building on the corner, with windows and doors facing the street.\",\n",
    "    \"One way that a company can efficiently sell things to their customers is through mail order. Mail order is a method of selling goods or services by advertising them in a catalog or other publication and allowing customers to place orders by mail, telephone, or online. Mail order is a convenient and efficient way for companies to reach a wide customer base, as it allows them to sell products to customers who may not be located near their physical store or who may not have the time or inclination to shop in person. Mail order companies typically have a centralized warehouse or distribution center where orders are processed and shipped to customers. They may also offer options such as easy returns and exchanges, as well as customer service support to assist with any questions or issues that customers may have.\",\n",
    "    \"If he enjoyed the factory work and liked the idea that he did it for sale, it is likely that he enjoyed producing goods. Factory work typically involves the production of goods, such as products or materials, using machines, tools, and other equipment. Factory workers are responsible for operating and maintaining the equipment and ensuring that the goods being produced meet quality standards. The goods produced in a factory may be sold directly to consumers or to other businesses, and may be used for a variety of purposes, such as manufacturing, construction, or distribution. If a person enjoys factory work, they may find satisfaction in the idea that they are contributing to the production of goods that will be sold and used by others.\",\n",
    "    \"If returning to work was easy for Dan after his treatment and he was completely painless, it is likely that he had undergone some form of medical treatment or therapy to address a health issue or injury. Painless indicates that Dan was no longer experiencing pain or discomfort, which may have been a result of the treatment or therapy he received. It is not clear from the information provided what specific health issue or injury Dan was dealing with, or what treatment or therapy he received. However, it is possible that Dan was able to return to work more easily after his treatment because he was feeling better and was no longer experiencing any pain or discomfort.\",\n",
    "    \"If index cards were on display at the museum, it is likely that the museum was a library. Libraries are institutions that provide access to a wide range of resources, including books, periodicals, and other printed materials, as well as digital resources such as e-books, databases, and online research tools. Libraries often have exhibits and displays of various types of materials, including rare or unique items, and may have special collections or archives that are of particular interest to researchers or historians. Index cards are small, rectangular pieces of paper that are used for organizing information, such as names, dates, or research notes. They may be used in a variety of settings, including libraries, offices, and schools. If index cards were on display at the museum, it is possible that they were part of a historical exhibit or collection related to the history of libraries or research.\",\n",
    "    \"If she was a human in America who wanted to live well, it is likely that the given for her situation was the need for money. In general, money is an important factor in enabling people to live well and meet their basic needs and desires. Money allows people to purchase the goods and services that they need to sustain themselves and their families, such as food, clothing, housing, and healthcare. It also enables people to pursue their interests and hobbies, travel, and engage in various forms of leisure and entertainment. In America, and in many other countries around the world, the cost of living can be high, and people often need to earn and save money in order to achieve a desired standard of living. As such, the need for money is a given for many people in order to live well.\",\n",
    "    \"A place that could have one back garden is a house. A garden is a piece of land that is used for growing plants, flowers, vegetables, or other types of vegetation. Gardens can be found in a variety of settings, including residential properties, public parks, and commercial properties. A house is a building that is used as a dwelling for one or more people, and it typically includes living spaces, such as bedrooms, bathrooms, and a kitchen, as well as outdoor areas, such as a front yard, side yard, and back yard. A back yard is a private outdoor space that is typically located behind a house and is often used for recreational or leisure activities, such as gardening, grilling, or playing games. If a house has a back garden, it is likely that the garden is located in the back yard.\",\n",
    "    \"People gather at a football stadium to see large men in pads play a game where they run and smash into each other. Football is a popular sport that is played on a rectangular field by two teams of eleven players. The game involves running, passing, and tackling, and players wear pads and other protective gear to reduce the risk of injury. Football is a physical and intense sport, and players often collide with each other at high speeds. Football stadiums are large, open-air facilities that are designed to host football games and other sporting events. They typically have a grass or artificial turf field, seating for spectators, and a variety of amenities, such as concessions stands, restrooms, and VIP areas. Football stadiums are popular places for people to gather and watch football games, and they can be found in cities and towns throughout the world.\",\n",
    "    \"One place where someone can get a flute is a musical instrument store. A musical instrument store is a retail establishment that specializes in selling musical instruments and related accessories. They may carry a wide range of instruments, including brass instruments, woodwind instruments, string instruments, percussion instruments, and keyboards. Flutes are woodwind instruments that are played by blowing air into a narrow opening and producing sound by vibrating the lips against a metal or wooden reed. They are popular instruments that are used in a variety of musical styles, including classical, jazz, and folk music. If someone is looking to purchase a flute, they may be able to find a selection of flutes at a musical instrument store. In addition to flutes, musical instrument stores may also offer a variety of other instruments, as well as sheet music, instructional materials, and accessories such as cases, stands, and cleaning supplies.\",\n",
    "    \"It is not clear what someone who has a greed for energy would do. The word greed typically refers to an excessive or insatiable desire for wealth, power, or material possessions. It is not clear how this concept would relate to energy or how it might influence someone's actions. It is possible that someone who has a lot of energy or who is very active might have a high appetite for food and might seek out sources of fuel or nutrition to sustain their energy levels. In this case, they might buy food as a way to obtain the energy they need. However, it is not accurate to say that someone who has a greed for energy would necessarily do this. It is important to note that the concept of greed is generally considered to be negative, as it suggests an unhealthy or unsustainable desire for something.\",\n",
    "    \"A forklift is a type of industrial vehicle that is used for moving and lifting heavy loads, such as pallets, crates, and boxes. Forklifts are equipped with a hydraulic lift mechanism and a set of prongs or forks that can be used to lift and transport loads. They are commonly used in warehouses and other distribution centers to move and stack materials, such as boxes, onto shelves or other storage areas. If you were using a forklift to stack boxes onto shelves, it is likely that you were in a warehouse or a similar facility. Warehouses are large, commercial buildings that are used for storing and distributing goods. They often have high ceilings, wide aisles, and multiple levels, and they may be equipped with a variety of material handling equipment, such as forklifts, conveyor belts, and cranes, to facilitate the movement and storage of goods.\",\n",
    "    \"You are likely to receive mouthwash in a little paper cup at a dentist's office. Dentist's offices are healthcare facilities that are staffed by dentists and other dental professionals, and they are used for the diagnosis and treatment of dental problems and the maintenance of oral health. One common practice at a dentist's office is to rinse the mouth with mouthwash, which is a liquid that is used to freshen breath, kill bacteria, and reduce the risk of gum disease and other oral health issues. Mouthwash is typically used after brushing and flossing to help remove any remaining food particles or plaque from the mouth. It may be dispensed in a little paper cup, which can be used to rinse the mouth and then disposed of after use.\",\n",
    "    \"A doctor's office can help you with an illness. A doctor's office is a healthcare facility that is staffed by medical doctors and other healthcare professionals, and it is used for the diagnosis and treatment of medical conditions and the maintenance of overall health. If you are experiencing an illness, such as a cold, flu, or more serious health issue, you may visit a doctor's office to seek medical care and treatment. At a doctor's office, you may receive a physical examination, diagnostic tests, and other forms of medical treatment, depending on the nature of your illness and your specific needs. Doctors are trained to diagnose and treat a wide range of medical conditions, and they can provide you with the care and support you need to recover from your illness and get back to good health.\",\n",
    "    \"A bug looking for wildflowers and no human interruption might go to a meadow. A meadow is a grassland area that is characterized by its open, grassy landscape and the presence of wildflowers and other types of vegetation. Meadows can be found in a variety of settings, including rural areas, forests, and parkland, and they are often home to a variety of animal and plant species. Because meadows are relatively undisturbed by human activity, they can be a good place for a bug to find wildflowers and other types of plants without interference from humans. Meadows are often considered to be peaceful, serene places, and they may be attractive to a bug that is seeking a quiet, natural environment in which to explore and forage.\",\n",
    "    \"If a bride and groom are taking care of proposals, the likely ceremony is a marriage. A marriage is a formal union between two people that is recognized by law and typically involves a public ceremony and the exchange of vows. A marriage proposal is a request for someone to marry another person, and it is typically made by one partner to the other. The process of planning a marriage often involves taking care of a variety of details and arrangements, such as choosing a venue, selecting a date, inviting guests, and organizing the ceremony and reception. If a bride and groom are taking care of proposals, it is likely that they are in the process of planning their marriage and preparing for the wedding ceremony.\",\n",
    "    \"You could put some olives in a jar to prevent them from getting nearby food wet. A jar is a container that is typically made of glass or ceramic and has a wide mouth and a secure, tight-fitting lid. Jars are often used for storing food items, such as olives, pickles, jams, and other types of preserved or dried goods. Because they have a sealed lid, jars can help to keep food fresh and prevent it from coming into contact with air or other substances that might spoil or contaminate it. If you want to prevent olives from getting nearby food wet, you could put them in a jar and close the lid to create an airtight seal. This would help to keep the olives separate from other foods and prevent them from coming into contact with moisture or other liquids.\",\n",
    "    \"If the graveyard was zoned by the pastor, it is likely that it was located on church property. Church property refers to land or buildings that are owned by a church or religious organization. This may include the main church building, as well as other structures such as a rectory, school, or community center. Church property may also include a graveyard or cemetery, which is a place where people are buried after they die. Pastors, who are ordained leaders in a church, often play a central role in the management and oversight of church property, and they may be responsible for zoning or designating areas within the property for specific purposes, such as a graveyard or a garden. If the pastor has zoned the graveyard, it is likely that it is located on church property and is being used as a place for burial by members of the church or community.\",\n",
    "    \"If a family wanted to live with carpeting, they may have ended up putting it in their houses. Houses are structures that are designed and built to be used as homes, and they typically have a number of rooms that are used for different purposes, such as sleeping, cooking, eating, and relaxing. Carpeting is a type of floor covering that is made of soft, flexible materials, such as wool, nylon, or polypropylene, and it is often used in houses to provide warmth, comfort, and insulation. If a family wanted to live with carpeting, they may have chosen to install carpeting in some or all of the rooms in their houses, in order to create a warm and cozy atmosphere and to improve the overall comfort and livability of their homes.\",\n",
    "    \"If a boss likes an employee's ambition, the employee may be put in charge of a project. A project is a specific task or set of tasks that is undertaken in order to achieve a specific goal or objective. Projects may be large or small, complex or simple, and they may involve a wide range of activities, such as research, design, development, testing, and implementation. If an employee is ambitious and demonstrates a strong desire to succeed and make a positive contribution to their organization, their boss may choose to put them in charge of a project, in order to give them the opportunity to demonstrate their skills and abilities and to take on more responsibility. Being put in charge of a project can be a challenging and rewarding experience, and it may provide an employee with the chance to learn new things, develop their skills, and make a meaningful contribution to their organization.\",\n",
    "    \"A county highway can be viewed as a line on a map. A map is a graphic representation of an area or region that shows the locations of various features, such as roads, rivers, mountains, and cities. Maps are often used to help people navigate and find their way around unfamiliar places, and they can be very useful for understanding the layout and geography of an area. County highways are roads that are maintained and operated by a county or local government, and they are typically used for local travel and transportation within a county or region. On a map, a county highway may be represented as a line, with a specific color or symbol used to indicate its location and route. By viewing a county highway as a line on a map, it is possible to get a sense of the route and layout of the road, and to use the map to plan a journey or navigate to a specific destination.\",\n",
    "    \"After going for a run, someone may feel tired. Running is a form of physical activity that involves moving quickly and continuously on foot, typically by running or jogging. It is a popular form of exercise that can help to improve cardiovascular fitness, build endurance, and strengthen the muscles of the legs and lower body. However, running can also be physically demanding, and it requires a certain level of fitness and stamina to be able to sustain the activity for an extended period of time. As a result, it is common for people to feel tired after going for a run, especially if they are not used to the activity or if they have pushed themselves to run for a longer distance or at a faster pace than usual. Tiredness after a run may be accompanied by other physical sensations, such as muscle fatigue, thirst, or a sense of accomplishment.\",\n",
    "    \"If a car was going from Florida to Ohio, it was heading north. Florida is a state in the southeastern region of the United States, and Ohio is a state in the midwestern region of the country. When traveling from Florida to Ohio, a person would need to go north in order to reach their destination. North is a direction that is opposite to south on a map or compass, and it is typically associated with higher latitude, colder climates, and longer nights. When traveling north, a person may encounter different landscapes, weather patterns, and cultural experiences than they would when traveling south, depending on the specific route and the distance traveled. By heading north from Florida to Ohio, a person would be leaving behind the warm, tropical climate of Florida and entering into a more temperate, mid-latitude region with cooler temperatures and a more diverse range of landscapes and ecosystems.\",\n",
    "    \"During a typical week, a teacher is likely to spend most of their time working in school. A teacher is a person who is trained and qualified to teach students in a school or educational setting, and their primary job is to provide instruction and guidance to help students learn and develop their skills and knowledge. Teachers may work in a variety of settings, including primary schools, secondary schools, and universities, and they may teach a wide range of subjects, including math, science, English, history, and the arts. In order to fulfill their duties as a teacher, a person is likely to spend most of their time working in a school or educational setting, where they will be responsible for preparing and delivering lessons, grading assignments, communicating with students and parents, and performing other tasks related to their job. Teachers typically work on a schedule that follows the school year, and they may work full-time or part-time, depending on their specific circumstances and the needs of their students.\",\n",
    "    \"In a predicament, an animal might choose to fight for its life as an alternative to fleeing. Predicament is a term that refers to a difficult or challenging situation, typically one that involves a choice or decision that needs to be made. When an animal finds itself in a predicament, it may have to decide how to respond in order to survive and protect itself. One option that an animal may have is to flee or run away from the situation in an effort to escape danger or avoid conflict. Another option that an animal may have is to fight for its life, using whatever means are available to defend itself and protect its survival. The choice that an animal makes in a predicament will depend on a variety of factors, including the specific nature of the situation, the animal's size, strength, and abilities, and the resources and options that are available to it.\",\n",
    "    \"It is not common for people to fight each other when they find a good deal. A good deal is typically defined as an opportunity to purchase something at a price that is lower than what it is usually worth, or to obtain a product or service that provides more value or benefits than what is expected. When people find a good deal, they may feel excited or pleased about the opportunity to save money or get more for their money, and they may take action to take advantage of the deal. However, it is generally not considered acceptable or appropriate for people to fight each other over a good deal or to engage in physical violence or aggression in order to obtain it. There are many other ways that people can express their interest in a good deal, such as by negotiating with the seller, making an offer, or simply making a purchase if the price is acceptable.\",\n",
    "    \"An altar is a platform or structure that is used for religious ceremonies, rituals, or worship. Altars are often found in places of worship, such as temples, churches, synagogues, mosques, and other religious buildings. When a person is standing in front of an altar, they are likely to be in a temple or other place of worship. Altars can be used for a variety of purposes in different religions and spiritual traditions, such as offering sacrifices, making offerings, praying, or performing other religious practices. They may be decorated with symbols, images, or other items that are significant to the religion or spiritual tradition that is being practiced. Altars may also be used as a place for people to meditate, reflect, or seek spiritual guidance.\",\n",
    "    \"Joe bought a bunch of grapes because he likes to use them to top his desserts. A dessert is a type of food that is typically served at the end of a meal, and it is usually sweet or rich in flavor. There are many different types of desserts that people enjoy, including cakes, cookies, ice cream, pie, and other sweet treats. One way that people may use grapes as a topping for their desserts is by placing them on top of a fruit pie, tart, or crisp. Grapes can add flavor and texture to a dessert, and they may also be used to decorate a dessert or to add visual appeal. Grapes are a versatile fruit that can be used in many different types of desserts, and they can be eaten fresh, frozen, or preserved in various ways.\",\n",
    "    \"Well water is water that is obtained from underground sources, typically through the use of a well. A well is a hole or shaft that is dug into the ground in order to access water that is contained in underground aquifers or other water-bearing formations. Well water is typically used for drinking, irrigation, and other purposes, and it is often considered to be of high quality because it is filtered and purified naturally as it flows through the ground. To obtain well water, a person can dig a well or have one dug by a professional well driller. The depth of the well will depend on the location and the geology of the area, and a pump or other mechanical system may be used to bring the water to the surface.\",\n",
    "]"
   ]
  },
  {
   "cell_type": "code",
   "execution_count": 73,
   "id": "69fa8109",
   "metadata": {},
   "outputs": [
    {
     "name": "stdout",
     "output_type": "stream",
     "text": [
      "****\n",
      "0\n",
      "explain cos_e question: What is someone not legal to buy alcohol? answer: underage explanation<extra_id_0> </s>\n",
      "In most places, it is illegal for people under the age of 21 to purchase or consume alcohol. This is because alcohol can have negative effects on the developing brain and body of young people. It can also contribute to risky behaviors and accidents. Therefore, many governments have set a minimum age for alcohol consumption and purchase to help protect the health and safety of young people. If someone is under the age of 21 and attempts to purchase alcohol, they may be denied the sale or face legal consequences. It is important for young people to understand and adhere to the laws and regulations regarding the purchase and consumption of alcohol in their area.\n",
      "####\n",
      "****\n",
      "1\n",
      "explain cos_e question: A cat can't talk, but a cat can what? answer: meow explanation<extra_id_0> </s>\n",
      "Cats are able to make a variety of vocalizations, including meows, purrs, and growls, as a way of communicating with humans and other animals. Cats use these vocalizations to convey a range of emotions and needs, such as hunger, happiness, or discomfort. Meowing is a common vocalization that cats use to communicate with humans. Cats may meow when they want attention, food, or to be let outside. Cats may also meow when they are feeling anxious or stressed. Although cats cannot talk in the same way that humans do, they are skilled at using their voices to communicate with their owners and other animals.\n",
      "####\n",
      "****\n",
      "2\n",
      "explain cos_e question: What do you normally get out to get yourself a drink? answer: cup explanation<extra_id_0> </s>\n",
      "A cup is a common vessel used for holding and drinking liquids, such as water, coffee, or tea. When you want to get yourself a drink, you might typically get a cup from a cabinet or other storage area in order to hold the drink. A cup is a convenient and practical choice for getting a drink because it is easy to hold and use, and it can hold a reasonable amount of liquid. There are many different types of cups available, including ceramic, glass, plastic, and metal cups, each with their own unique features and benefits. Whether you are at home, at work, or out in public, a cup is a handy item to have on hand when you need to quench your thirst.\n",
      "####\n",
      "****\n",
      "3\n",
      "explain cos_e question: Where can someone get a flute? answer: musical instrument store explanation<extra_id_0> </s>\n",
      "One place where someone can get a flute is a musical instrument store. A musical instrument store is a retail establishment that specializes in selling musical instruments and related accessories. They may carry a wide range of instruments, including brass instruments, woodwind instruments, string instruments, percussion instruments, and keyboards. Flutes are woodwind instruments that are played by blowing air into a narrow opening and producing sound by vibrating the lips against a metal or wooden reed. They are popular instruments that are used in a variety of musical styles, including classical, jazz, and folk music. If someone is looking to purchase a flute, they may be able to find a selection of flutes at a musical instrument store. In addition to flutes, musical instrument stores may also offer a variety of other instruments, as well as sheet music, instructional materials, and accessories such as cases, stands, and cleaning supplies.\n",
      "####\n",
      "****\n",
      "4\n",
      "explain cos_e question: A boss may like an employee's ambition, so the employee may get put what? answer: in charge of project explanation<extra_id_0> </s>\n",
      "If a boss likes an employee's ambition, the employee may be put in charge of a project. A project is a specific task or set of tasks that is undertaken in order to achieve a specific goal or objective. Projects may be large or small, complex or simple, and they may involve a wide range of activities, such as research, design, development, testing, and implementation. If an employee is ambitious and demonstrates a strong desire to succeed and make a positive contribution to their organization, their boss may choose to put them in charge of a project, in order to give them the opportunity to demonstrate their skills and abilities and to take on more responsibility. Being put in charge of a project can be a challenging and rewarding experience, and it may provide an employee with the chance to learn new things, develop their skills, and make a meaningful contribution to their organization.\n",
      "####\n",
      "****\n",
      "5\n",
      "explain cos_e question: When a person is looking at an altar, where might they be standing? answer: temple explanation<extra_id_0> </s>\n",
      "An altar is a platform or structure that is used for religious ceremonies, rituals, or worship. Altars are often found in places of worship, such as temples, churches, synagogues, mosques, and other religious buildings. When a person is standing in front of an altar, they are likely to be in a temple or other place of worship. Altars can be used for a variety of purposes in different religions and spiritual traditions, such as offering sacrifices, making offerings, praying, or performing other religious practices. They may be decorated with symbols, images, or other items that are significant to the religion or spiritual tradition that is being practiced. Altars may also be used as a place for people to meditate, reflect, or seek spiritual guidance.\n",
      "####\n",
      "****\n",
      "6\n",
      "explain cos_e question: John runs a small corner shop. If you were walking on a sidewalk near it, where would you look for it? answer: street corner explanation<extra_id_0> </s>\n",
      "If you were walking on a sidewalk near a small corner shop run by John, you would look for it on the street corner. A corner shop is a small retail store that is typically located at the intersection of two streets. It is often a convenience store or a neighborhood shop that sells a variety of goods, such as groceries, household items, and other supplies. Corner shops are often located in busy urban areas, where they are easily accessible to pedestrians and motorists. If you were walking on a sidewalk near a corner shop, you would look for it at the intersection of the street where you are walking and another street. The shop is likely to be located in a building on the corner, with windows and doors facing the street.\n",
      "####\n",
      "****\n",
      "7\n",
      "explain cos_e question: Death Valley is in the North American what? answer: continent explanation<extra_id_0> </s>\n",
      "Death Valley is a national park located in the Mojave Desert, in the state of California, United States. It is situated on the North American continent. The North American continent is one of the seven continents of the world and is located in the western hemisphere. It is the third largest continent in terms of land area, after Asia and Africa, and is home to a diverse range of cultures, languages, and environments. Death Valley is known for its extreme desert climate and is the lowest, hottest, and driest place in North America. It is a popular destination for tourists, who come to see its unique geological features, such as sand dunes, salt flats, and canyons.\n",
      "####\n",
      "****\n",
      "8\n",
      "explain cos_e question: Where are you likely to receive mouthwash in a little paper cup? answer: dentist's office explanation<extra_id_0> </s>\n",
      "You are likely to receive mouthwash in a little paper cup at a dentist's office. Dentist's offices are healthcare facilities that are staffed by dentists and other dental professionals, and they are used for the diagnosis and treatment of dental problems and the maintenance of oral health. One common practice at a dentist's office is to rinse the mouth with mouthwash, which is a liquid that is used to freshen breath, kill bacteria, and reduce the risk of gum disease and other oral health issues. Mouthwash is typically used after brushing and flossing to help remove any remaining food particles or plaque from the mouth. It may be dispensed in a little paper cup, which can be used to rinse the mouth and then disposed of after use.\n",
      "####\n",
      "****\n",
      "9\n",
      "explain cos_e question: The kids wanted to cool off so they all went to what? answer: go swimming explanation<extra_id_0> </s>\n",
      "If the kids wanted to cool off, they might go swimming as a way to refresh and beat the heat. Swimming is a fun and enjoyable activity that can provide relief from hot weather and help to cool the body. Swimming can also provide a great workout and has numerous health benefits, such as improving cardiovascular fitness and flexibility. There are many different places where kids can go swimming, such as pools, lakes, rivers, or the ocean. No matter where they go, kids can have fun and cool off while enjoying the water.\n",
      "####\n",
      "****\n",
      "10\n",
      "explain cos_e question: He enjoyed the factory work, he liked the idea that he did what for sale? answer: produce goods explanation<extra_id_0> </s>\n",
      "If he enjoyed the factory work and liked the idea that he did it for sale, it is likely that he enjoyed producing goods. Factory work typically involves the production of goods, such as products or materials, using machines, tools, and other equipment. Factory workers are responsible for operating and maintaining the equipment and ensuring that the goods being produced meet quality standards. The goods produced in a factory may be sold directly to consumers or to other businesses, and may be used for a variety of purposes, such as manufacturing, construction, or distribution. If a person enjoys factory work, they may find satisfaction in the idea that they are contributing to the production of goods that will be sold and used by others.\n",
      "####\n",
      "****\n",
      "11\n",
      "explain cos_e question: A car was going from Florida to Ohio, what was it doing? answer: heading north explanation<extra_id_0> </s>\n",
      "If a car was going from Florida to Ohio, it was heading north. Florida is a state in the southeastern region of the United States, and Ohio is a state in the midwestern region of the country. When traveling from Florida to Ohio, a person would need to go north in order to reach their destination. North is a direction that is opposite to south on a map or compass, and it is typically associated with higher latitude, colder climates, and longer nights. When traveling north, a person may encounter different landscapes, weather patterns, and cultural experiences than they would when traveling south, depending on the specific route and the distance traveled. By heading north from Florida to Ohio, a person would be leaving behind the warm, tropical climate of Florida and entering into a more temperate, mid-latitude region with cooler temperatures and a more diverse range of landscapes and ecosystems.\n",
      "####\n",
      "****\n",
      "12\n",
      "explain cos_e question: Where do people gather to see large men in pads play a game where they run and smash in to each other? answer: football stadium explanation<extra_id_0> </s>\n",
      "People gather at a football stadium to see large men in pads play a game where they run and smash into each other. Football is a popular sport that is played on a rectangular field by two teams of eleven players. The game involves running, passing, and tackling, and players wear pads and other protective gear to reduce the risk of injury. Football is a physical and intense sport, and players often collide with each other at high speeds. Football stadiums are large, open-air facilities that are designed to host football games and other sporting events. They typically have a grass or artificial turf field, seating for spectators, and a variety of amenities, such as concessions stands, restrooms, and VIP areas. Football stadiums are popular places for people to gather and watch football games, and they can be found in cities and towns throughout the world.\n",
      "####\n",
      "****\n",
      "13\n",
      "explain cos_e question: What lawn is most likely to be on a street? answer: front yard explanation<extra_id_0> </s>\n",
      "A front yard is the lawn that is typically located in front of a house, near the street. The front yard is the part of the property that is visible from the street and is often used for decorative purposes, such as landscaping or gardening. Many people take pride in their front yards and may spend time and resources maintaining and improving them. The front yard is often the first thing that visitors see when they arrive at a house, and it can make a strong impression on them. In contrast, the back yard is typically located behind the house and is often used for more practical purposes, such as outdoor recreation or gardening.\n",
      "####\n",
      "****\n",
      "14\n",
      "explain cos_e question: Joe bought a bunch of grapes because he likes to use them to top his what? answer: deserts explanation<extra_id_0> </s>\n",
      "Joe bought a bunch of grapes because he likes to use them to top his desserts. A dessert is a type of food that is typically served at the end of a meal, and it is usually sweet or rich in flavor. There are many different types of desserts that people enjoy, including cakes, cookies, ice cream, pie, and other sweet treats. One way that people may use grapes as a topping for their desserts is by placing them on top of a fruit pie, tart, or crisp. Grapes can add flavor and texture to a dessert, and they may also be used to decorate a dessert or to add visual appeal. Grapes are a versatile fruit that can be used in many different types of desserts, and they can be eaten fresh, frozen, or preserved in various ways.\n",
      "####\n",
      "****\n",
      "15\n",
      "explain cos_e question: Even if was clean and chlorinated, shallow water wouldn't make for much summer fun in your backyard what? answer: swimming pool explanation<extra_id_0> </s>\n",
      "A swimming pool is a recreational water feature that is typically used for swimming and other aquatic activities. While shallow water, such as that found in a kiddie pool or a shallow end of a pool, can be enjoyable for some people, it may not be sufficient for many summer activities. A swimming pool that is deep enough for diving and other activities is more likely to provide more opportunities for summer fun. In addition, a swimming pool that is clean and chlorinated is more likely to be safe and enjoyable for swimming, as it will be free of contaminants and bacteria that can cause illness.\n",
      "####\n",
      "****\n",
      "16\n",
      "explain cos_e question: What can help you with an illness? answer: doctor's office explanation<extra_id_0> </s>\n",
      "A doctor's office can help you with an illness. A doctor's office is a healthcare facility that is staffed by medical doctors and other healthcare professionals, and it is used for the diagnosis and treatment of medical conditions and the maintenance of overall health. If you are experiencing an illness, such as a cold, flu, or more serious health issue, you may visit a doctor's office to seek medical care and treatment. At a doctor's office, you may receive a physical examination, diagnostic tests, and other forms of medical treatment, depending on the nature of your illness and your specific needs. Doctors are trained to diagnose and treat a wide range of medical conditions, and they can provide you with the care and support you need to recover from your illness and get back to good health.\n",
      "####\n",
      "****\n",
      "17\n",
      "explain cos_e question: Where might an expressway leave the Us to go? answer: canada explanation<extra_id_0> </s>\n",
      "An expressway might leave the United States and go to Canada. The United States and Canada are neighboring countries that share a border, and there are several expressways that cross the border between the two countries. Expressways are high-speed, limited-access roads that are designed for fast and efficient travel. They typically have multiple lanes and may include features such as grade separations, interchanges, and controlled access points. Expressways are used for long-distance travel and are often the main routes connecting major cities and regions. If an expressway leaves the United States, it is likely that it is heading towards Canada, which is located to the north of the United States.\n",
      "####\n",
      "****\n",
      "18\n",
      "explain cos_e question: What do people do sometimes when they find a good deal? answer: fight each other explanation<extra_id_0> </s>\n",
      "It is not common for people to fight each other when they find a good deal. A good deal is typically defined as an opportunity to purchase something at a price that is lower than what it is usually worth, or to obtain a product or service that provides more value or benefits than what is expected. When people find a good deal, they may feel excited or pleased about the opportunity to save money or get more for their money, and they may take action to take advantage of the deal. However, it is generally not considered acceptable or appropriate for people to fight each other over a good deal or to engage in physical violence or aggression in order to obtain it. There are many other ways that people can express their interest in a good deal, such as by negotiating with the seller, making an offer, or simply making a purchase if the price is acceptable.\n",
      "####\n",
      "****\n",
      "19\n",
      "explain cos_e question: A bug was looking for wildflowers and no human interruption, where did he go? answer: meadow explanation<extra_id_0> </s>\n",
      "A bug looking for wildflowers and no human interruption might go to a meadow. A meadow is a grassland area that is characterized by its open, grassy landscape and the presence of wildflowers and other types of vegetation. Meadows can be found in a variety of settings, including rural areas, forests, and parkland, and they are often home to a variety of animal and plant species. Because meadows are relatively undisturbed by human activity, they can be a good place for a bug to find wildflowers and other types of plants without interference from humans. Meadows are often considered to be peaceful, serene places, and they may be attractive to a bug that is seeking a quiet, natural environment in which to explore and forage.\n",
      "####\n",
      "****\n",
      "20\n",
      "explain cos_e question: Why might a person go to get counseling? answer: understand themselves explanation<extra_id_0> </s>\n",
      "A person might go to get counseling for a variety of reasons. One reason is to better understand themselves. Counseling can provide a safe and supportive environment for individuals to explore their thoughts, feelings, and behaviors, and to gain insight into why they act and feel the way they do. Counseling can also help a person to identify and work through any underlying issues or challenges that may be causing them distress or hindering their personal growth. Through counseling, a person can learn more about themselves and how to navigate their emotions and relationships more effectively. Counseling can be particularly helpful for individuals who are struggling with mental health issues, relationship problems, or other personal challenges.\n",
      "####\n",
      "****\n",
      "21\n",
      "explain cos_e question: Where could you put some olives to prevent them from getting nearby food wet? answer: jar explanation<extra_id_0> </s>\n",
      "You could put some olives in a jar to prevent them from getting nearby food wet. A jar is a container that is typically made of glass or ceramic and has a wide mouth and a secure, tight-fitting lid. Jars are often used for storing food items, such as olives, pickles, jams, and other types of preserved or dried goods. Because they have a sealed lid, jars can help to keep food fresh and prevent it from coming into contact with air or other substances that might spoil or contaminate it. If you want to prevent olives from getting nearby food wet, you could put them in a jar and close the lid to create an airtight seal. This would help to keep the olives separate from other foods and prevent them from coming into contact with moisture or other liquids.\n",
      "####\n",
      "****\n",
      "22\n",
      "explain cos_e question: James shaved, but this left a lot of hair where? answer: sink explanation<extra_id_0> </s>\n",
      "When someone shaves, they typically use a razor to remove hair from their face or body. The process of shaving can leave a lot of hair in the sink, as the hair is trimmed off and falls into the sink as it is being shaved. It is common for people to shave in the bathroom, where a sink is typically located. The sink provides a convenient place to rinse the razor and wash off any excess hair or shaving cream. It is important to clean the sink after shaving to remove any hair and prevent clogs in the drain.\n",
      "####\n",
      "****\n",
      "23\n",
      "explain cos_e question: A person notices popcorn, cotton candy on the grass, where is he likely? answer: fairgrounds explanation<extra_id_0> </s>\n",
      "If a person notices popcorn and cotton candy on the grass, they are likely at fairgrounds. Fairgrounds are outdoor areas that are used for hosting fairs and other events, such as carnivals, festivals, and exhibitions. These events often feature food stalls and vendors that sell a variety of treats, including popcorn and cotton candy. Popcorn and cotton candy are both popular carnival foods that are often sold at fairs and other events. The presence of these foods on the ground at fairgrounds suggests that a fair or similar event is taking place there.\n",
      "####\n",
      "****\n",
      "24\n",
      "explain cos_e question: When remembering a tragedy in the past, what do many people feel? answer: depression explanation<extra_id_0> </s>\n",
      "When remembering a tragedy in the past, many people may feel depressed. Depression is a common emotional reaction to experiencing a traumatic or stressful event, such as a tragedy. Depression is a mental health disorder characterized by persistent feelings of sadness, hopelessness, and low energy. It can also cause physical symptoms such as changes in appetite and sleep patterns, fatigue, and difficulty concentrating. Remembering a tragedy can be emotionally difficult and may trigger feelings of sadness, grief, and guilt. It is important for people who are struggling with depression to seek support and treatment to help manage their symptoms and improve their mental health.\n",
      "####\n",
      "****\n",
      "25\n",
      "explain cos_e question: How would someone feel after going for run? answer: get tired explanation<extra_id_0> </s>\n",
      "After going for a run, someone may feel tired. Running is a form of physical activity that involves moving quickly and continuously on foot, typically by running or jogging. It is a popular form of exercise that can help to improve cardiovascular fitness, build endurance, and strengthen the muscles of the legs and lower body. However, running can also be physically demanding, and it requires a certain level of fitness and stamina to be able to sustain the activity for an extended period of time. As a result, it is common for people to feel tired after going for a run, especially if they are not used to the activity or if they have pushed themselves to run for a longer distance or at a faster pace than usual. Tiredness after a run may be accompanied by other physical sensations, such as muscle fatigue, thirst, or a sense of accomplishment.\n",
      "####\n",
      "****\n",
      "26\n",
      "explain cos_e question: What might a teacher do most during a week? answer: work in school explanation<extra_id_0> </s>\n",
      "During a typical week, a teacher is likely to spend most of their time working in school. A teacher is a person who is trained and qualified to teach students in a school or educational setting, and their primary job is to provide instruction and guidance to help students learn and develop their skills and knowledge. Teachers may work in a variety of settings, including primary schools, secondary schools, and universities, and they may teach a wide range of subjects, including math, science, English, history, and the arts. In order to fulfill their duties as a teacher, a person is likely to spend most of their time working in a school or educational setting, where they will be responsible for preparing and delivering lessons, grading assignments, communicating with students and parents, and performing other tasks related to their job. Teachers typically work on a schedule that follows the school year, and they may work full-time or part-time, depending on their specific circumstances and the needs of their students.\n",
      "####\n",
      "****\n",
      "27\n",
      "explain cos_e question: Where can someone view a county highway as a line? answer: map explanation<extra_id_0> </s>\n",
      "A county highway can be viewed as a line on a map. A map is a graphic representation of an area or region that shows the locations of various features, such as roads, rivers, mountains, and cities. Maps are often used to help people navigate and find their way around unfamiliar places, and they can be very useful for understanding the layout and geography of an area. County highways are roads that are maintained and operated by a county or local government, and they are typically used for local travel and transportation within a county or region. On a map, a county highway may be represented as a line, with a specific color or symbol used to indicate its location and route. By viewing a county highway as a line on a map, it is possible to get a sense of the route and layout of the road, and to use the map to plan a journey or navigate to a specific destination.\n",
      "####\n",
      "****\n",
      "28\n",
      "explain cos_e question: What place could have one back garden? answer: house explanation<extra_id_0> </s>\n",
      "A place that could have one back garden is a house. A garden is a piece of land that is used for growing plants, flowers, vegetables, or other types of vegetation. Gardens can be found in a variety of settings, including residential properties, public parks, and commercial properties. A house is a building that is used as a dwelling for one or more people, and it typically includes living spaces, such as bedrooms, bathrooms, and a kitchen, as well as outdoor areas, such as a front yard, side yard, and back yard. A back yard is a private outdoor space that is typically located behind a house and is often used for recreational or leisure activities, such as gardening, grilling, or playing games. If a house has a back garden, it is likely that the garden is located in the back yard.\n",
      "####\n",
      "****\n",
      "29\n",
      "explain cos_e question: Where can someone get well water? answer: ground explanation<extra_id_0> </s>\n",
      "Well water is water that is obtained from underground sources, typically through the use of a well. A well is a hole or shaft that is dug into the ground in order to access water that is contained in underground aquifers or other water-bearing formations. Well water is typically used for drinking, irrigation, and other purposes, and it is often considered to be of high quality because it is filtered and purified naturally as it flows through the ground. To obtain well water, a person can dig a well or have one dug by a professional well driller. The depth of the well will depend on the location and the geology of the area, and a pump or other mechanical system may be used to bring the water to the surface.\n",
      "####\n",
      "****\n",
      "30\n",
      "explain cos_e question: What does someone who has a greed for energy do? answer: buy food explanation<extra_id_0> </s>\n",
      "It is not clear what someone who has a greed for energy would do. The word greed typically refers to an excessive or insatiable desire for wealth, power, or material possessions. It is not clear how this concept would relate to energy or how it might influence someone's actions. It is possible that someone who has a lot of energy or who is very active might have a high appetite for food and might seek out sources of fuel or nutrition to sustain their energy levels. In this case, they might buy food as a way to obtain the energy they need. However, it is not accurate to say that someone who has a greed for energy would necessarily do this. It is important to note that the concept of greed is generally considered to be negative, as it suggests an unhealthy or unsustainable desire for something.\n",
      "####\n",
      "****\n",
      "31\n",
      "explain cos_e question: John rented a hotel room while on a business trip. It was a a company sponsored event. Where might it have been? answer: resort explanation<extra_id_0> </s>\n",
      "If John rented a hotel room while on a business trip and it was a company-sponsored event, it is possible that the hotel was a resort. Resorts are hotels or vacation properties that offer a variety of amenities and activities for guests, such as swimming pools, golf courses, spas, and restaurants. They are often located in scenic or recreational areas and are designed to provide a relaxing and enjoyable experience for guests. Many resorts offer conference and meeting facilities and are popular destinations for business events and retreats. If John's company sponsored the business trip and provided the hotel accommodations, it is likely that they chose a resort with the amenities and facilities needed to support the event.\n",
      "####\n",
      "****\n",
      "32\n",
      "explain cos_e question: When in a serious relationship understanding better requires what? answer: effort explanation<extra_id_0> </s>\n",
      "When in a serious relationship, understanding better requires effort. Relationships require effort and work to maintain and grow. In order to understand your partner better, you need to be willing to put in the time and effort to communicate with them, listen to their perspectives, and try to see things from their point of view. This may involve asking questions, expressing your own feelings and needs, and being open to feedback and compromise. Understanding your partner better can help to strengthen the bond between you and improve the quality of your relationship. It is important to remember that relationships are dynamic and evolving, and that ongoing communication and effort are necessary to maintain a healthy and fulfilling relationship.\n",
      "####\n",
      "****\n",
      "33\n",
      "explain cos_e question: A battleship is a powerful vessel. If you need something similar but faster, what would you use? answer: corvette explanation<extra_id_0> </s>\n",
      "If you need a vessel that is similar to a battleship but faster, you might consider using a corvette. A corvette is a small, fast warship that is typically used for convoy escort, patrol, and other shallow water duties. Corvettes are generally smaller and less heavily armed than battleships, but they are more agile and have a higher speed. They are typically equipped with a variety of weapons, including guns, missiles, and torpedoes, and are used for defending against enemy ships and aircraft. Corvettes are often used for coastal defense, as well as for patrolling and enforcing maritime laws. They are capable of operating in a variety of environments, including open ocean and littoral (nearshore) waters.\n",
      "####\n",
      "****\n",
      "34\n",
      "explain cos_e question: A bride and groom are taking care of proposals, what is the likely ceremony? answer: marriage explanation<extra_id_0> </s>\n",
      "If a bride and groom are taking care of proposals, the likely ceremony is a marriage. A marriage is a formal union between two people that is recognized by law and typically involves a public ceremony and the exchange of vows. A marriage proposal is a request for someone to marry another person, and it is typically made by one partner to the other. The process of planning a marriage often involves taking care of a variety of details and arrangements, such as choosing a venue, selecting a date, inviting guests, and organizing the ceremony and reception. If a bride and groom are taking care of proposals, it is likely that they are in the process of planning their marriage and preparing for the wedding ceremony.\n",
      "####\n",
      "****\n",
      "35\n",
      "explain cos_e question: Teachers play many roles such as babysitter, but they get the most out of just simply doing what? answer: teach children explanation<extra_id_0> </s>\n",
      "Teachers play many roles in the lives of their students, including mentor, counselor, and role model. However, they get the most out of their job by simply teaching children. Teaching children is the primary responsibility of a teacher, and it is what they are trained and paid to do. Teaching involves imparting knowledge, skills, and values to students, and helping them to develop the skills and habits they need to succeed in life. Teachers have the opportunity to make a positive impact on the lives of their students by providing them with a strong foundation in academic subjects and helping them to become curious, engaged learners. Teachers often derive a great deal of satisfaction from helping their students to achieve their potential and succeed in their studies.\n",
      "####\n",
      "****\n",
      "36\n",
      "explain cos_e question: Randy was suffering from great hunger and he didn't even need cheese or toppings, he just wanted to what? answer: eat hamburger explanation<extra_id_0> </s>\n",
      "A hamburger is a type of sandwich that consists of a cooked patty of ground meat, typically beef, placed between two slices of bread or a bun. Hamburgers are often served with various toppings, such as lettuce, tomato, onion, cheese, and condiments like ketchup and mustard. However, if someone is suffering from great hunger, they may not care about the toppings and just want to eat the hamburger itself. In this case, the person may be more focused on satisfying their hunger and getting nourishment rather than worrying about additional ingredients or flavors.\n",
      "####\n",
      "****\n",
      "37\n",
      "explain cos_e question: How does a police officer report his work? answer: case explanation<extra_id_0> </s>\n",
      "A police officer typically reports their work through the use of case reports or incident reports. These reports are written documents that detail the events of a specific case or incident that the officer has worked on. Case reports or incident reports typically include information such as the date and time of the incident, the location, the people involved, and the actions taken by the officer. They may also include witness statements, evidence collected, and any other relevant details. Case reports or incident reports are used by police officers to document their work and provide a record of the incidents they have dealt with. They are also used by supervisors and other authorities to review and evaluate the performance of the officer and the effectiveness of their actions.\n",
      "####\n",
      "****\n",
      "38\n",
      "explain cos_e question: The family wanted to live with carpeting, so where did they end up putting it? answer: houses explanation<extra_id_0> </s>\n",
      "If a family wanted to live with carpeting, they may have ended up putting it in their houses. Houses are structures that are designed and built to be used as homes, and they typically have a number of rooms that are used for different purposes, such as sleeping, cooking, eating, and relaxing. Carpeting is a type of floor covering that is made of soft, flexible materials, such as wool, nylon, or polypropylene, and it is often used in houses to provide warmth, comfort, and insulation. If a family wanted to live with carpeting, they may have chosen to install carpeting in some or all of the rooms in their houses, in order to create a warm and cozy atmosphere and to improve the overall comfort and livability of their homes.\n",
      "####\n",
      "****\n",
      "39\n",
      "explain cos_e question: The graveyard was zoned by the pastor, where was it located? answer: church property explanation<extra_id_0> </s>\n",
      "If the graveyard was zoned by the pastor, it is likely that it was located on church property. Church property refers to land or buildings that are owned by a church or religious organization. This may include the main church building, as well as other structures such as a rectory, school, or community center. Church property may also include a graveyard or cemetery, which is a place where people are buried after they die. Pastors, who are ordained leaders in a church, often play a central role in the management and oversight of church property, and they may be responsible for zoning or designating areas within the property for specific purposes, such as a graveyard or a garden. If the pastor has zoned the graveyard, it is likely that it is located on church property and is being used as a place for burial by members of the church or community.\n",
      "####\n",
      "****\n",
      "40\n",
      "explain cos_e question: Where might you use a forklift to stack boxes onto shelves? answer: warehouse explanation<extra_id_0> </s>\n",
      "A forklift is a type of industrial vehicle that is used for moving and lifting heavy loads, such as pallets, crates, and boxes. Forklifts are equipped with a hydraulic lift mechanism and a set of prongs or forks that can be used to lift and transport loads. They are commonly used in warehouses and other distribution centers to move and stack materials, such as boxes, onto shelves or other storage areas. If you were using a forklift to stack boxes onto shelves, it is likely that you were in a warehouse or a similar facility. Warehouses are large, commercial buildings that are used for storing and distributing goods. They often have high ceilings, wide aisles, and multiple levels, and they may be equipped with a variety of material handling equipment, such as forklifts, conveyor belts, and cranes, to facilitate the movement and storage of goods.\n",
      "####\n",
      "****\n",
      "41\n",
      "explain cos_e question: Returning to work was easy for Dan. He had liked doing nothing for weeks, and after his treatment he was complately what? answer: painless explanation<extra_id_0> </s>\n",
      "If returning to work was easy for Dan after his treatment and he was completely painless, it is likely that he had undergone some form of medical treatment or therapy to address a health issue or injury. Painless indicates that Dan was no longer experiencing pain or discomfort, which may have been a result of the treatment or therapy he received. It is not clear from the information provided what specific health issue or injury Dan was dealing with, or what treatment or therapy he received. However, it is possible that Dan was able to return to work more easily after his treatment because he was feeling better and was no longer experiencing any pain or discomfort.\n",
      "####\n",
      "****\n",
      "42\n",
      "explain cos_e question: In a predicament an animal might choose flight or what? answer: fight for life explanation<extra_id_0> </s>\n",
      "In a predicament, an animal might choose to fight for its life as an alternative to fleeing. Predicament is a term that refers to a difficult or challenging situation, typically one that involves a choice or decision that needs to be made. When an animal finds itself in a predicament, it may have to decide how to respond in order to survive and protect itself. One option that an animal may have is to flee or run away from the situation in an effort to escape danger or avoid conflict. Another option that an animal may have is to fight for its life, using whatever means are available to defend itself and protect its survival. The choice that an animal makes in a predicament will depend on a variety of factors, including the specific nature of the situation, the animal's size, strength, and abilities, and the resources and options that are available to it.\n",
      "####\n",
      "****\n",
      "43\n",
      "explain cos_e question: How can a company efficiently sell things to their customer? answer: mail order explanation<extra_id_0> </s>\n",
      "One way that a company can efficiently sell things to their customers is through mail order. Mail order is a method of selling goods or services by advertising them in a catalog or other publication and allowing customers to place orders by mail, telephone, or online. Mail order is a convenient and efficient way for companies to reach a wide customer base, as it allows them to sell products to customers who may not be located near their physical store or who may not have the time or inclination to shop in person. Mail order companies typically have a centralized warehouse or distribution center where orders are processed and shipped to customers. They may also offer options such as easy returns and exchanges, as well as customer service support to assist with any questions or issues that customers may have.\n",
      "####\n",
      "****\n",
      "44\n",
      "explain cos_e question: Where does water in the sky come from? answer: rain cloud explanation<extra_id_0> </s>\n",
      "Water in the sky comes from rain clouds. Rain clouds are clouds that form when moist air rises and cools, forming tiny water droplets that condense around particles in the air. As the droplets grow, they eventually become heavy enough to fall from the cloud as rain. Rain clouds are typically gray or white in color and are often accompanied by other types of clouds, such as cumulus or stratocumulus clouds. Rain clouds can form in a variety of ways, such as when warm, moist air from the ground rises and cools, or when moist air from the ocean is carried inland by the wind. Rain clouds can be found in many parts of the world and are a common source of precipitation, especially during the warmer months.\n",
      "####\n",
      "****\n",
      "45\n",
      "explain cos_e question: She was a human in America who wanted to live well, what was a given for her situation? answer: need money explanation<extra_id_0> </s>\n",
      "If she was a human in America who wanted to live well, it is likely that the given for her situation was the need for money. In general, money is an important factor in enabling people to live well and meet their basic needs and desires. Money allows people to purchase the goods and services that they need to sustain themselves and their families, such as food, clothing, housing, and healthcare. It also enables people to pursue their interests and hobbies, travel, and engage in various forms of leisure and entertainment. In America, and in many other countries around the world, the cost of living can be high, and people often need to earn and save money in order to achieve a desired standard of living. As such, the need for money is a given for many people in order to live well.\n",
      "####\n",
      "****\n",
      "46\n",
      "explain cos_e question: What happens when snow on a mountain becomes heavy? answer: avalanches explanation<extra_id_0> </s>\n",
      "When snow on a mountain becomes heavy, it can trigger an avalanche. An avalanche is a rapid flow of snow down a slope, often triggered by the weight of the snow or external factors such as a change in temperature. Avalanches can be dangerous and destructive, as they can bury and sweep away anything in their path, including people, buildings, and vehicles. Avalanches can occur on any slope with a steep enough incline and a sufficient amount of snow. They are most common on mountains, but they can also occur in other snowy areas, such as forests or valleys. It is important for people to be aware of the risk of avalanches and to take precautions when traveling in areas prone to avalanches.\n",
      "####\n",
      "****\n",
      "47\n",
      "explain cos_e question: Index cards were on display at the museum, what kind of museum was it? answer: library explanation<extra_id_0> </s>\n",
      "If index cards were on display at the museum, it is likely that the museum was a library. Libraries are institutions that provide access to a wide range of resources, including books, periodicals, and other printed materials, as well as digital resources such as e-books, databases, and online research tools. Libraries often have exhibits and displays of various types of materials, including rare or unique items, and may have special collections or archives that are of particular interest to researchers or historians. Index cards are small, rectangular pieces of paper that are used for organizing information, such as names, dates, or research notes. They may be used in a variety of settings, including libraries, offices, and schools. If index cards were on display at the museum, it is possible that they were part of a historical exhibit or collection related to the history of libraries or research.\n",
      "####\n"
     ]
    }
   ],
   "source": [
    "id_list = []\n",
    "for kk, da in enumerate(our_data_splits['train']):\n",
    "    print(\"****\")\n",
    "    print(kk)\n",
    "    print(tokenizer.decode(da['input_ids']))\n",
    "    print(da['our_explanation'])\n",
    "    print(\"####\")\n",
    "# tokenizer.decode(our_data_splits['train'][0]['input_ids'])"
   ]
  },
  {
   "cell_type": "code",
   "execution_count": 74,
   "id": "01fdee8d",
   "metadata": {},
   "outputs": [],
   "source": [
    "id_list = [\n",
    " '71519c19654251cced50c5718fd527c1',\n",
    " '44195d210c81c8c550174d0edbd3ad5d',\n",
    " '5a5da37b685ec9c6f15228128ce30437',\n",
    " 'cabdfc174953b4bdb8bdcc89d6592c74',\n",
    " 'eac3a4080127e8924034651b57dfa289',\n",
    " 'c0013f31657294b9b5ad819123513ca7',\n",
    " '2681697be70cd5425899ed6deb84b18a',\n",
    " '47f60340b869552e795fa6782224f3d2',\n",
    " '7e8a6eac93147eb52d8151bab7b40003',\n",
    " 'f34267f498c8a78383e35057fbcfa2ce',\n",
    " 'f024f923d78e5c0a4c0c4baa3ddccf05',\n",
    " 'e148c710d0c26849cf1f15293481038b',\n",
    " 'bdf437d7498815f36c255f64a8e6571c',\n",
    " '2282e0c80be28aadadb79a822fec9dac',\n",
    " 'bdd05e96876342b4b5999709439a7f4e',\n",
    " '494b8316614fc64c5c27757aeaffce23_1',\n",
    " 'c4494b402264250dc70931613d482295',\n",
    " 'fcfbf207c5586294fdce33b645b613f1',\n",
    " '9c583bcbe68989a644433302545fb31e',\n",
    " '0e684d779d98e6eecda167c10af42bbb',\n",
    " 'ac0462d09b9fddd40c3c77aedf48a870',\n",
    " '1dbfb41e04a10bdbb085bfe667c0df99',\n",
    " 'cd0c0ef3b8ce0eb09ff26823f6059be6',\n",
    " 'e6b67184b99375d05d3f2887f684c684',\n",
    " 'ae9f6f1e17b3fdd3a86b494933809f45',\n",
    " 'f149604169936a30b7e4c8d599d604b5',\n",
    " 'd7c8377953e0175ef57d59f3a8e63a8e',\n",
    " '1837216ac7745121b82a6491b2318c09',\n",
    " 'b5fe238d45e55ca5d802b7823ad390ef',\n",
    " 'b2fbeb0b48bd5e575af0f7dc24cdd85d',\n",
    " '9bdfb101c487ac598f6e4686cf774703',\n",
    " '206c7116ee2246180fcc0c5a1d0e7205',\n",
    " '5cd7f44bbf730dfae5ef2a362d2e5149',\n",
    " '45d0ea781ffd49b07d6eae94d47a8945',\n",
    " '89afdea1d76272fda8e1538a7d3b7a3f',\n",
    " '38a514fe54108527e1d6e89d9812da93',\n",
    " 'ebf347934a3e90ea46d3d87726fb5d25',\n",
    " '90226a6ecd7308ae1e6220a15ae24bc6',\n",
    " '5cae8057e75e3adf5c338a43b3ba97fb',\n",
    " '388a363c49e1b0aca8eaf18ccdde0caf',\n",
    " '9ed3af82152dfcd7000bf4631b095f71',\n",
    " '2d5805d894bba224c5fe91e70b8c0f77',\n",
    " 'd5aa464a16b72c9b9f3091abd461e3ef',\n",
    " '381b11c54be4cc432a95053ca34cbf6b',\n",
    " '807a3a2dabdd50ed0c76052fd2612632',\n",
    " '5172041c750d22e9a5081cc024de0fa6',\n",
    " 'd32a45ab3b751110d0578a78e54c0e64',\n",
    " '28ca5cbe27774746c34f6ebe84fc6d0c']"
   ]
  },
  {
   "cell_type": "code",
   "execution_count": null,
   "id": "51445c67",
   "metadata": {},
   "outputs": [],
   "source": []
  },
  {
   "cell_type": "code",
   "execution_count": 75,
   "id": "dabe3306",
   "metadata": {},
   "outputs": [],
   "source": [
    "# our_wrong_data_splits['dev']=[]\n",
    "# for x in our_data_splits['dev']:\n",
    "#     for ii in range(5):\n",
    "#         new_x={'id':x['id'], 'real_answer':x['answer'], \n",
    "#                'answer':x['choices'][ii], 'question':x['question'],\n",
    "#                'choices':x['choices'],\n",
    "#                'abstractive_explanation':x['abstractive_explanation'],\n",
    "#                'extractive_explanation':x['extractive_explanation'],\n",
    "#                'our_explanation':x['our_explanation']}\n",
    "#         our_wrong_data_splits['dev'].append(new_x)\n",
    "#     #print(x)\n",
    "#     #pdb.set_trace()\n",
    "# # wandb.init()\n",
    "# our_wrong_dev_data_dict = list2dict(our_wrong_data_splits['dev'])\n",
    "# our_wrong_data_splits['dev'] = datasets.Dataset.from_dict(our_wrong_dev_data_dict)"
   ]
  },
  {
   "cell_type": "code",
   "execution_count": 76,
   "id": "7b62bdf5",
   "metadata": {},
   "outputs": [],
   "source": [
    "# our_wrong_data_splits['train'][0],our_wrong_data_splits['train'][0].keys()\n",
    "# our_wrong_data_splits['train'] = our_wrong_data_splits['train'].map(\n",
    "#             lambda x: format_instance(\n",
    "#                 x,\n",
    "#                 tokenizer,\n",
    "#                 data_args.explanation_sep,\n",
    "#                 datasource=data_args.task_name,\n",
    "#                 io_format=data_args.io_format\n",
    "#             ),\n",
    "#             batched=False,\n",
    "#             load_from_cache_file=False,\n",
    "#         )"
   ]
  },
  {
   "cell_type": "code",
   "execution_count": 77,
   "id": "b421f892",
   "metadata": {},
   "outputs": [],
   "source": [
    "# for da in our_wrong_data_splits['dev']:\n",
    "#     print(\"*******\")\n",
    "#     print(\"question: {}\".format(da['question']))\n",
    "#     print(\"real_answer: {}\".format(da['real_answer']))\n",
    "#     print(\"answer: {}\".format(da['answer']))\n",
    "#     print(\"choices: {}\".format(da['choices']))\n",
    "#     print(\"our_explanation: {}\".format(da['our_explanation']))\n",
    "#     inp_ids = torch.tensor(da[\"input_ids\"], device=model.device).reshape(1, -1)\n",
    "#     out = model.generate(\n",
    "#                     inp_ids,\n",
    "#                     max_length=100,\n",
    "#                     pad_token_id=tokenizer.pad_token_id,\n",
    "#                     eos_token_id=tokenizer.eos_token_id,\n",
    "#                 )\n",
    "#     skip_special_tokens = False if \"infilling\" in data_args.io_format else True\n",
    "#     words = tokenizer.decode(out[0].tolist(), skip_special_tokens=skip_special_tokens)\n",
    "#     print(\"generated explanation: {}\".format(words))\n",
    "#     print(\"#######\")"
   ]
  },
  {
   "cell_type": "code",
   "execution_count": 78,
   "id": "dfa34701",
   "metadata": {},
   "outputs": [],
   "source": [
    "# our_wrong_data_splits['train'][0],our_wrong_data_splits['train'][0].keys()\n",
    "# our_wrong_data_splits['dev'] = our_wrong_data_splits['dev'].map(\n",
    "#             lambda x: format_instance(\n",
    "#                 x,\n",
    "#                 tokenizer,\n",
    "#                 data_args.explanation_sep,\n",
    "#                 datasource=data_args.task_name,\n",
    "#                 io_format=data_args.io_format\n",
    "#             ),\n",
    "#             batched=False,\n",
    "#             load_from_cache_file=False,\n",
    "#         )"
   ]
  },
  {
   "cell_type": "code",
   "execution_count": 79,
   "id": "2e6d6437",
   "metadata": {},
   "outputs": [],
   "source": [
    "# for da in our_wrong_data_splits['dev']:\n",
    "#     print(\"*******\")\n",
    "#     print(\"question: {}\".format(da['question']))\n",
    "#     print(\"real_answer: {}\".format(da['real_answer']))\n",
    "#     print(\"answer: {}\".format(da['answer']))\n",
    "#     print(\"choices: {}\".format(da['choices']))\n",
    "#     print(\"our_explanation: {}\".format(da['our_explanation']))\n",
    "#     inp_ids = torch.tensor(da[\"input_ids\"], device=model.device).reshape(1, -1)\n",
    "#     out = model.generate(\n",
    "#                     inp_ids,\n",
    "#                     max_length=100,\n",
    "#                     pad_token_id=tokenizer.pad_token_id,\n",
    "#                     eos_token_id=tokenizer.eos_token_id,\n",
    "#                 )\n",
    "#     skip_special_tokens = False if \"infilling\" in data_args.io_format else True\n",
    "#     words = tokenizer.decode(out[0].tolist(), skip_special_tokens=skip_special_tokens)\n",
    "#     print(\"generated explanation: {}\".format(words))\n",
    "#     print(\"#######\")"
   ]
  },
  {
   "cell_type": "code",
   "execution_count": 80,
   "id": "91605cfc",
   "metadata": {},
   "outputs": [],
   "source": [
    "# for da in our_wrong_data_splits['train']:\n",
    "#     print(\"*******\")\n",
    "#     print(\"question: {}\".format(da['question']))\n",
    "#     print(\"real_answer: {}\".format(da['real_answer']))\n",
    "#     print(\"answer: {}\".format(da['answer']))\n",
    "#     print(\"choices: {}\".format(da['choices']))\n",
    "#     print(\"our_explanation: {}\".format(da['our_explanation']))\n",
    "#     inp_ids = torch.tensor(da[\"input_ids\"], device=model.device).reshape(1, -1)\n",
    "#     out = model.generate(\n",
    "#                     inp_ids,\n",
    "#                     max_length=100,\n",
    "#                     pad_token_id=tokenizer.pad_token_id,\n",
    "#                     eos_token_id=tokenizer.eos_token_id,\n",
    "#                 )\n",
    "#     skip_special_tokens = False if \"infilling\" in data_args.io_format else True\n",
    "#     words = tokenizer.decode(out[0].tolist(), skip_special_tokens=skip_special_tokens)\n",
    "#     print(\"generated explanation: {}\".format(words))\n",
    "#     print(\"#######\")"
   ]
  },
  {
   "cell_type": "code",
   "execution_count": 81,
   "id": "cbc3e763",
   "metadata": {},
   "outputs": [],
   "source": [
    "# import wandb\n",
    "# training_args.run_name=\"\"\n",
    "training_args.logging_steps=3\n",
    "training_args.save_steps=5\n",
    "training_args.evaluation_strategy=\"epoch\"\n",
    "training_args.num_train_epochs=25\n",
    "training_args.do_eval=True"
   ]
  },
  {
   "cell_type": "code",
   "execution_count": 82,
   "id": "317de5d7",
   "metadata": {},
   "outputs": [
    {
     "data": {
      "text/plain": [
       "TrainingArguments(\n",
       "_n_gpu=0,\n",
       "adafactor=False,\n",
       "adam_beta1=0.9,\n",
       "adam_beta2=0.999,\n",
       "adam_epsilon=1e-08,\n",
       "dataloader_drop_last=False,\n",
       "dataloader_num_workers=0,\n",
       "dataloader_pin_memory=True,\n",
       "ddp_find_unused_parameters=None,\n",
       "debug=[],\n",
       "deepspeed=None,\n",
       "disable_tqdm=False,\n",
       "do_eval=True,\n",
       "do_predict=False,\n",
       "do_train=True,\n",
       "eval_accumulation_steps=None,\n",
       "eval_steps=None,\n",
       "evaluation_strategy=epoch,\n",
       "fp16=False,\n",
       "fp16_backend=auto,\n",
       "fp16_full_eval=False,\n",
       "fp16_opt_level=O1,\n",
       "gradient_accumulation_steps=1,\n",
       "greater_is_better=None,\n",
       "group_by_length=False,\n",
       "ignore_data_skip=False,\n",
       "label_names=None,\n",
       "label_smoothing_factor=0.0,\n",
       "learning_rate=5e-05,\n",
       "length_column_name=length,\n",
       "load_best_model_at_end=False,\n",
       "local_rank=-1,\n",
       "log_level=-1,\n",
       "log_level_replica=-1,\n",
       "log_on_each_node=True,\n",
       "logging_dir=./cos_e_output_t5_3b/010123_223442,\n",
       "logging_first_step=False,\n",
       "logging_steps=3,\n",
       "logging_strategy=IntervalStrategy.STEPS,\n",
       "lr_scheduler_type=SchedulerType.LINEAR,\n",
       "max_grad_norm=1.0,\n",
       "max_steps=-1,\n",
       "metric_for_best_model=None,\n",
       "mp_parameters=,\n",
       "no_cuda=False,\n",
       "num_train_epochs=25,\n",
       "output_dir=./cos_e_output_t5_3b/010123_223442,\n",
       "overwrite_output_dir=False,\n",
       "past_index=-1,\n",
       "per_device_eval_batch_size=8,\n",
       "per_device_train_batch_size=8,\n",
       "prediction_loss_only=False,\n",
       "push_to_hub=False,\n",
       "push_to_hub_model_id=cos_e_output_t5_3b,\n",
       "push_to_hub_organization=None,\n",
       "push_to_hub_token=None,\n",
       "remove_unused_columns=True,\n",
       "report_to=['tensorboard', 'wandb'],\n",
       "resume_from_checkpoint=None,\n",
       "run_name=./cos_e_output_t5_3b,\n",
       "save_on_each_node=False,\n",
       "save_steps=5,\n",
       "save_strategy=IntervalStrategy.STEPS,\n",
       "save_total_limit=None,\n",
       "seed=42,\n",
       "sharded_ddp=[],\n",
       "skip_memory_metrics=True,\n",
       "tpu_metrics_debug=False,\n",
       "tpu_num_cores=None,\n",
       "use_legacy_prediction_loop=False,\n",
       "warmup_ratio=0.0,\n",
       "warmup_steps=0,\n",
       "weight_decay=0.0,\n",
       ")"
      ]
     },
     "execution_count": 82,
     "metadata": {},
     "output_type": "execute_result"
    }
   ],
   "source": [
    "training_args"
   ]
  },
  {
   "cell_type": "code",
   "execution_count": 83,
   "id": "de79fb60",
   "metadata": {},
   "outputs": [
    {
     "data": {
      "text/plain": [
       "TrainingArguments(\n",
       "_n_gpu=0,\n",
       "adafactor=False,\n",
       "adam_beta1=0.9,\n",
       "adam_beta2=0.999,\n",
       "adam_epsilon=1e-08,\n",
       "dataloader_drop_last=False,\n",
       "dataloader_num_workers=0,\n",
       "dataloader_pin_memory=True,\n",
       "ddp_find_unused_parameters=None,\n",
       "debug=[],\n",
       "deepspeed=None,\n",
       "disable_tqdm=False,\n",
       "do_eval=True,\n",
       "do_predict=False,\n",
       "do_train=True,\n",
       "eval_accumulation_steps=None,\n",
       "eval_steps=None,\n",
       "evaluation_strategy=epoch,\n",
       "fp16=False,\n",
       "fp16_backend=auto,\n",
       "fp16_full_eval=False,\n",
       "fp16_opt_level=O1,\n",
       "gradient_accumulation_steps=1,\n",
       "greater_is_better=None,\n",
       "group_by_length=False,\n",
       "ignore_data_skip=False,\n",
       "label_names=None,\n",
       "label_smoothing_factor=0.0,\n",
       "learning_rate=5e-05,\n",
       "length_column_name=length,\n",
       "load_best_model_at_end=False,\n",
       "local_rank=-1,\n",
       "log_level=-1,\n",
       "log_level_replica=-1,\n",
       "log_on_each_node=True,\n",
       "logging_dir=./cos_e_output_t5_3b/010123_223442,\n",
       "logging_first_step=False,\n",
       "logging_steps=3,\n",
       "logging_strategy=IntervalStrategy.STEPS,\n",
       "lr_scheduler_type=SchedulerType.LINEAR,\n",
       "max_grad_norm=1.0,\n",
       "max_steps=-1,\n",
       "metric_for_best_model=None,\n",
       "mp_parameters=,\n",
       "no_cuda=False,\n",
       "num_train_epochs=25,\n",
       "output_dir=./cos_e_output_t5_3b/010123_223442,\n",
       "overwrite_output_dir=False,\n",
       "past_index=-1,\n",
       "per_device_eval_batch_size=8,\n",
       "per_device_train_batch_size=8,\n",
       "prediction_loss_only=False,\n",
       "push_to_hub=False,\n",
       "push_to_hub_model_id=cos_e_output_t5_3b,\n",
       "push_to_hub_organization=None,\n",
       "push_to_hub_token=None,\n",
       "remove_unused_columns=True,\n",
       "report_to=['tensorboard', 'wandb'],\n",
       "resume_from_checkpoint=None,\n",
       "run_name=./cos_e_output_t5_3b,\n",
       "save_on_each_node=False,\n",
       "save_steps=5,\n",
       "save_strategy=IntervalStrategy.STEPS,\n",
       "save_total_limit=None,\n",
       "seed=42,\n",
       "sharded_ddp=[],\n",
       "skip_memory_metrics=True,\n",
       "tpu_metrics_debug=False,\n",
       "tpu_num_cores=None,\n",
       "use_legacy_prediction_loop=False,\n",
       "warmup_ratio=0.0,\n",
       "warmup_steps=0,\n",
       "weight_decay=0.0,\n",
       ")"
      ]
     },
     "execution_count": 83,
     "metadata": {},
     "output_type": "execute_result"
    }
   ],
   "source": [
    "training_args.per_device_eval_batch_size=8\n",
    "training_args.per_device_train_batch_size=8\n",
    "training_args"
   ]
  },
  {
   "cell_type": "code",
   "execution_count": 84,
   "id": "e80480ec",
   "metadata": {},
   "outputs": [],
   "source": [
    "# data_splits = {'train': None, 'validation': None, 'test': None}\n",
    "# original_data_splits = {'train': None, 'validation': None, 'test': None}  \n",
    "# data_args.io_format=\"t5_fewshot_infilling_with_choices\"\n",
    "# # Data loading from huggingface's datasets\n",
    "# if data_args.task_name in {\"cos_e\", \"esnli\"}:\n",
    "#     version_arg = None\n",
    "#     if data_args.task_name == \"cos_e\":\n",
    "#         assert data_args.version_name in {\"v1.11\", \"v1.0\"}\n",
    "#         version_arg = data_args.version_name\n",
    "\n",
    "#     load_train = True\n",
    "#     if (not training_args.do_train\n",
    "#         and not training_args.do_eval\n",
    "#         and not data_args.train_predict\n",
    "#     ):\n",
    "#         # don't load training dataset\n",
    "#         dataset = {}\n",
    "#         dataset[\"train\"] = None\n",
    "#         dataset[\"validation\"] = datasets.load_dataset(\n",
    "#             data_args.task_name, version_arg, split=\"validation\"\n",
    "#         )\n",
    "#         data_splits['validation'] = dataset[\"validation\"]\n",
    "\n",
    "#         if data_args.task_name == \"esnli\":\n",
    "#             dataset[\"test\"] = datasets.load_dataset(data_args.task_name, split=\"test\")\n",
    "#             data_splits['test'] = dataset[\"test\"]\n",
    "#         load_train = False\n",
    "#     else:\n",
    "#         dataset = datasets.load_dataset(data_args.task_name, version_arg)\n",
    "\n",
    "#         if data_args.n_shots > 0: # Shots = number of training examples **per label** \n",
    "#             if data_args.task_name == 'esnli': # Construct a *balanced* random sample of the size `data_args.n_shots*len(labels)` (for train) or `data_args.fewshot_eval_size` (for eval)\n",
    "#                 for split in [\"train\", \"validation\", \"test\"]:\n",
    "#                     split_data = dataset[split]\n",
    "#                     label_subsets = []\n",
    "#                     labels = split_data.features['label'].names\n",
    "#                     sample_size = data_args.n_shots if split == \"train\" else int(data_args.fewshot_eval_size/len(labels))\n",
    "#                     if data_args.gpt3_max_eval_size is not None and split != 'train':\n",
    "#                         assert len(labels) == 3\n",
    "#                         sample_size = data_args.gpt3_max_eval_size // len(labels)\n",
    "#                     for label in labels:\n",
    "#                         # The following is a hack to only run on `neutral` labels of `esnli` to get data for human eval\n",
    "#                         # if data_args.gpt3_max_eval_size is not None and split != 'train' and label != 'neutral':\n",
    "#                         #     continue\n",
    "#                         label_int = split_data.features['label'].str2int(label)\n",
    "#                         label_set = split_data.filter(lambda example: example['label'] == label_int).shuffle() # all instances of labeled as `label`\n",
    "#                         label_subset = label_set.select(range(sample_size)) #select `sample_size` random instances labeled as `label`\n",
    "#                         label_subsets.append(label_subset)\n",
    "#                     dataset[split] = datasets.concatenate_datasets(label_subsets) #merge all label-specific instances\n",
    "#             elif data_args.task_name == 'cos_e': \n",
    "#                 for split in [\"train\", \"validation\"]: \n",
    "#                     split_data = dataset[split]\n",
    "#                     sample_size = data_args.n_shots if split == \"train\" else int(data_args.fewshot_eval_size) #Shots for QA are not label-specific, i.e., `n_shots` is the training data size\n",
    "#                     if data_args.gpt3_max_eval_size is not None and split != 'train':\n",
    "#                         sample_size = data_args.gpt3_max_eval_size\n",
    "#                     dataset[split] = split_data#.shuffle().select(range(sample_size)) # select `sample_size` random instances\n",
    "#             else: \n",
    "#                 raise ValueError('Only cos_e and esnli are supported by Huggingface datasets.')\n",
    "#     # Apply method, and format dataset to torch.Tensor outputs\n",
    "# #     fse_csqa_train_file=\"/cognitive_comp/huangyongfeng/evaluate_LM_with_rationalization/few_shot_explanations/data/acceptability_annotations/commonsenseqa_train.csv\"\n",
    "# #     fse_csqa_dev_file=\"/cognitive_comp/huangyongfeng/evaluate_LM_with_rationalization/few_shot_explanations/data/acceptability_annotations/commonsenseqa_test.csv\"\n",
    "# #     fse_csqa_train_dataset = datasets.load_dataset('csv', data_files=fse_csqa_train_file)\n",
    "# #     fse_csqa_dev_dataset = datasets.load_dataset('csv', data_files=fse_csqa_dev_file)\n",
    "# #     train_ids_list=[x['id'] for x in data_splits[\"train\"]]\n",
    "# #     dev_ids_list=[x['id'] for x in data_splits[\"validation\"]]\n",
    "# #     fse_train_ids_list=[x['Input.id'] for x in fse_csqa_train_dataset['train']]\n",
    "# #     fse_dev_ids_list=[x['Input.id'] for x in fse_csqa_dev_dataset['train']]\n",
    "# #     fse_train_indexs_list=[train_ids_list.index(id_) for id_ in fse_train_ids_list]\n",
    "# #     fse_dev_indexs_list=[dev_ids_list.index(id_) for id_ in fse_dev_ids_list]\n",
    "# #     print(len(fse_train_indexs_list), len(fse_dev_indexs_list))\n",
    "# #     # print(fse_train_indexs_list,fse_dev_indexs_list)\n",
    "# #     fse_data_splits={}\n",
    "# #     data_splits['train']=data_splits[\"train\"].select(fse_train_indexs_list)\n",
    "# #     data_splits['validation']=data_splits[\"validation\"].select(fse_train_indexs_list)\n",
    "#     for split in dataset.keys():\n",
    "#         if dataset[split] is not None:\n",
    "#             dataset[split] = dataset[split].map(\n",
    "#                 lambda x: format_instance(\n",
    "#                     x,\n",
    "#                     tokenizer,\n",
    "#                     data_args.explanation_sep,\n",
    "#                     datasource=data_args.task_name,\n",
    "#                     io_format=data_args.io_format\n",
    "#                 ),\n",
    "#                 batched=False,\n",
    "#                 load_from_cache_file=False,\n",
    "#             )\n",
    "#     data_splits[\"train\"] = deepcopy(dataset[\"train\"])\n",
    "#     data_splits[\"validation\"] = deepcopy(dataset[\"validation\"])\n",
    "#     if data_args.task_name == \"esnli\":\n",
    "#         data_splits[\"test\"] = deepcopy(dataset[\"test\"])\n",
    "\n",
    "#     original_data_splits[\"train\"] = deepcopy(dataset[\"train\"])\n",
    "#     original_data_splits[\"validation\"] = deepcopy(dataset[\"validation\"])\n",
    "#     if data_args.task_name == \"esnli\":\n",
    "#         original_data_splits[\"test\"] = deepcopy(dataset[\"test\"])"
   ]
  },
  {
   "cell_type": "code",
   "execution_count": 85,
   "id": "2f4cb867",
   "metadata": {},
   "outputs": [],
   "source": [
    "# import pandas as pd\n",
    "# # new_data_splits={'train': None, 'validation': None}\n",
    "# # new_data_splits['train']=deepcopy(dataset[\"train\"])\n",
    "# # new_data_splits['validation']=deepcopy(dataset[\"validation\"])\n",
    "# fse_csqa_train_file=\"/cognitive_comp/huangyongfeng/evaluate_LM_with_rationalization/few_shot_explanations/data/acceptability_annotations/commonsenseqa_train.csv\"\n",
    "# fse_csqa_dev_file=\"/cognitive_comp/huangyongfeng/evaluate_LM_with_rationalization/few_shot_explanations/data/acceptability_annotations/commonsenseqa_test.csv\"\n",
    "# # fse_csqa_train_dataset = datasets.load_dataset('csv', data_files=fse_csqa_train_file)\n",
    "# # fse_csqa_dev_dataset = datasets.load_dataset('csv', data_files=fse_csqa_dev_file)\n",
    "\n",
    "# train_df=pd.read_csv(fse_csqa_train_file)\n",
    "\n",
    "# dev_df=pd.read_csv(fse_csqa_dev_file)\n",
    "\n",
    "# dev_df\n"
   ]
  },
  {
   "cell_type": "code",
   "execution_count": 86,
   "id": "42739e9b",
   "metadata": {},
   "outputs": [],
   "source": [
    "# len(fse_train_ids_list),len(list(set(fse_train_ids_list)))"
   ]
  },
  {
   "cell_type": "code",
   "execution_count": 87,
   "id": "c78ea825",
   "metadata": {},
   "outputs": [],
   "source": [
    "# train_ids_list=[x['id'] for x in data_splits[\"train\"]]\n",
    "# dev_ids_list=[x['id'] for x in data_splits[\"validation\"]]\n",
    "# fse_train_ids_list=[x['Input.id'] for x in fse_csqa_train_dataset['train']]\n",
    "# fse_dev_ids_list=[x['Input.id'] for x in fse_csqa_dev_dataset['train']]\n"
   ]
  },
  {
   "cell_type": "code",
   "execution_count": 88,
   "id": "80395518",
   "metadata": {},
   "outputs": [],
   "source": [
    "# fse_train_indexs_list=[train_ids_list.index(id_) for id_ in fse_train_ids_list]\n",
    "# fse_dev_indexs_list=[dev_ids_list.index(id_) for id_ in fse_dev_ids_list]\n",
    "# print(len(fse_train_indexs_list), len(fse_dev_indexs_list))\n",
    "# # print(fse_train_indexs_list,fse_dev_indexs_list)\n",
    "# fse_data_splits={}\n",
    "# fse_data_splits['train']=data_splits[\"train\"].select(fse_train_indexs_list)\n",
    "# fse_data_splits['validation']=data_splits[\"validation\"].select(fse_train_indexs_list)"
   ]
  },
  {
   "cell_type": "code",
   "execution_count": 89,
   "id": "4d186954",
   "metadata": {},
   "outputs": [],
   "source": [
    "# fse_csqa_train_dataset['train'][0].keys()"
   ]
  },
  {
   "cell_type": "code",
   "execution_count": 90,
   "id": "66dd71d4",
   "metadata": {},
   "outputs": [],
   "source": [
    "class SequenceCollator:\n",
    "    def __init__(self, model, pad_token):\n",
    "        self.model = model\n",
    "        self.pad_token_mapping = {\n",
    "            \"labels\": -100,\n",
    "            \"attention_mask\": 0,\n",
    "            \"decoder_attention_mask\": 0,\n",
    "            \"input_ids\": pad_token,\n",
    "        }\n",
    "\n",
    "        self.columns = [\n",
    "            \"input_ids\",\n",
    "            \"attention_mask\",\n",
    "            \"labels\",\n",
    "            \"decoder_attention_mask\",\n",
    "        ]\n",
    "\n",
    "    def __call__(self, examples: List[Dict[str, InputDataClass]]) -> Dict[str, torch.Tensor]:\n",
    "        # re-format inputs for training\n",
    "        batch = {}\n",
    "        for key in examples[0].keys():\n",
    "            if key in self.columns:\n",
    "                tmp_list = []\n",
    "                for item in examples:\n",
    "                    tmp_list.append(item[key])\n",
    "\n",
    "                # pad lists to max length\n",
    "                if isinstance(tmp_list[0], list):\n",
    "                    max_length = max(map(len, tmp_list))\n",
    "                    tmp_list = [\n",
    "                        el + [self.pad_token_mapping[key]] * (max_length - len(el))\n",
    "                        for el in tmp_list\n",
    "                    ]\n",
    "\n",
    "                batch[key] = torch.tensor(tmp_list, dtype=torch.long)\n",
    "        return batch"
   ]
  },
  {
   "cell_type": "code",
   "execution_count": 91,
   "id": "f144515d",
   "metadata": {},
   "outputs": [
    {
     "name": "stderr",
     "output_type": "stream",
     "text": [
      "You are adding a <class 'transformers.integrations.TensorBoardCallback'> to the callbacks of this Trainer, but there is already one. The currentlist of callbacks is\n",
      ":DefaultFlowCallback\n",
      "TensorBoardCallback\n",
      "WandbCallback\n",
      "The following columns in the training set  don't have a corresponding argument in `T5ForConditionalGeneration.forward` and have been ignored: answer, choices, abstractive_explanation, our_explanation, question, extractive_explanation, id, question_encoding.\n",
      "***** Running training *****\n",
      "  Num examples = 48\n",
      "  Num Epochs = 25\n",
      "  Instantaneous batch size per device = 8\n",
      "  Total train batch size (w. parallel, distributed & accumulation) = 8\n",
      "  Gradient Accumulation steps = 1\n",
      "  Total optimization steps = 150\n",
      "Automatic Weights & Biases logging enabled, to disable set os.environ[\"WANDB_DISABLED\"] = \"true\"\n"
     ]
    },
    {
     "data": {
      "text/html": [
       "Changes to your `wandb` environment variables will be ignored because your `wandb` session has already started. For more information on how to modify your settings with `wandb.init()` arguments, please refer to <a href=\"https://wandb.me/wandb-init\" target=\"_blank\">the W&B docs</a>."
      ],
      "text/plain": [
       "<IPython.core.display.HTML object>"
      ]
     },
     "metadata": {},
     "output_type": "display_data"
    },
    {
     "data": {
      "application/vnd.jupyter.widget-view+json": {
       "model_id": "4943a8428e834208ac36c27db18c7c0f",
       "version_major": 2,
       "version_minor": 0
      },
      "text/plain": [
       "VBox(children=(Label(value='Waiting for wandb.init()...\\r'), FloatProgress(value=0.016669224590683977, max=1.0…"
      ]
     },
     "metadata": {},
     "output_type": "display_data"
    },
    {
     "data": {
      "text/html": [
       "wandb version 0.13.7 is available!  To upgrade, please run:\n",
       " $ pip install wandb --upgrade"
      ],
      "text/plain": [
       "<IPython.core.display.HTML object>"
      ]
     },
     "metadata": {},
     "output_type": "display_data"
    },
    {
     "data": {
      "text/html": [
       "Tracking run with wandb version 0.13.5"
      ],
      "text/plain": [
       "<IPython.core.display.HTML object>"
      ]
     },
     "metadata": {},
     "output_type": "display_data"
    },
    {
     "data": {
      "text/html": [
       "Run data is saved locally in <code>/cognitive_comp/huangyongfeng/evaluate_LM_with_rationalization/scripts/wandb/run-20230101_223623-ezgmb8c0</code>"
      ],
      "text/plain": [
       "<IPython.core.display.HTML object>"
      ]
     },
     "metadata": {},
     "output_type": "display_data"
    },
    {
     "data": {
      "text/html": [
       "Syncing run <strong><a href=\"https://wandb.ai/cuhk_lavilab/evaluate_LM_with_rationalization/runs/ezgmb8c0\" target=\"_blank\">./cos_e_output_t5_3b</a></strong> to <a href=\"https://wandb.ai/cuhk_lavilab/evaluate_LM_with_rationalization\" target=\"_blank\">Weights & Biases</a> (<a href=\"https://wandb.me/run\" target=\"_blank\">docs</a>)<br/>"
      ],
      "text/plain": [
       "<IPython.core.display.HTML object>"
      ]
     },
     "metadata": {},
     "output_type": "display_data"
    },
    {
     "data": {
      "text/html": [
       "\n",
       "    <div>\n",
       "      \n",
       "      <progress value='150' max='150' style='width:300px; height:20px; vertical-align: middle;'></progress>\n",
       "      [150/150 9:18:33, Epoch 25/25]\n",
       "    </div>\n",
       "    <table border=\"1\" class=\"dataframe\">\n",
       "  <thead>\n",
       "    <tr style=\"text-align: left;\">\n",
       "      <th>Step</th>\n",
       "      <th>Training Loss</th>\n",
       "      <th>Validation Loss</th>\n",
       "    </tr>\n",
       "  </thead>\n",
       "  <tbody>\n",
       "  </tbody>\n",
       "</table><p>"
      ],
      "text/plain": [
       "<IPython.core.display.HTML object>"
      ]
     },
     "metadata": {},
     "output_type": "display_data"
    },
    {
     "name": "stderr",
     "output_type": "stream",
     "text": [
      "Saving model checkpoint to ./cos_e_output_t5_3b/010123_223442/checkpoint-5\n",
      "Configuration saved in ./cos_e_output_t5_3b/010123_223442/checkpoint-5/config.json\n",
      "Model weights saved in ./cos_e_output_t5_3b/010123_223442/checkpoint-5/pytorch_model.bin\n",
      "Saving model checkpoint to ./cos_e_output_t5_3b/010123_223442/checkpoint-10\n",
      "Configuration saved in ./cos_e_output_t5_3b/010123_223442/checkpoint-10/config.json\n",
      "Model weights saved in ./cos_e_output_t5_3b/010123_223442/checkpoint-10/pytorch_model.bin\n",
      "Saving model checkpoint to ./cos_e_output_t5_3b/010123_223442/checkpoint-15\n",
      "Configuration saved in ./cos_e_output_t5_3b/010123_223442/checkpoint-15/config.json\n",
      "Model weights saved in ./cos_e_output_t5_3b/010123_223442/checkpoint-15/pytorch_model.bin\n",
      "Saving model checkpoint to ./cos_e_output_t5_3b/010123_223442/checkpoint-20\n",
      "Configuration saved in ./cos_e_output_t5_3b/010123_223442/checkpoint-20/config.json\n",
      "Model weights saved in ./cos_e_output_t5_3b/010123_223442/checkpoint-20/pytorch_model.bin\n",
      "Saving model checkpoint to ./cos_e_output_t5_3b/010123_223442/checkpoint-25\n",
      "Configuration saved in ./cos_e_output_t5_3b/010123_223442/checkpoint-25/config.json\n",
      "Model weights saved in ./cos_e_output_t5_3b/010123_223442/checkpoint-25/pytorch_model.bin\n",
      "Saving model checkpoint to ./cos_e_output_t5_3b/010123_223442/checkpoint-30\n",
      "Configuration saved in ./cos_e_output_t5_3b/010123_223442/checkpoint-30/config.json\n",
      "Model weights saved in ./cos_e_output_t5_3b/010123_223442/checkpoint-30/pytorch_model.bin\n",
      "Saving model checkpoint to ./cos_e_output_t5_3b/010123_223442/checkpoint-35\n",
      "Configuration saved in ./cos_e_output_t5_3b/010123_223442/checkpoint-35/config.json\n",
      "Model weights saved in ./cos_e_output_t5_3b/010123_223442/checkpoint-35/pytorch_model.bin\n",
      "Saving model checkpoint to ./cos_e_output_t5_3b/010123_223442/checkpoint-40\n",
      "Configuration saved in ./cos_e_output_t5_3b/010123_223442/checkpoint-40/config.json\n",
      "Model weights saved in ./cos_e_output_t5_3b/010123_223442/checkpoint-40/pytorch_model.bin\n",
      "Saving model checkpoint to ./cos_e_output_t5_3b/010123_223442/checkpoint-45\n",
      "Configuration saved in ./cos_e_output_t5_3b/010123_223442/checkpoint-45/config.json\n",
      "Model weights saved in ./cos_e_output_t5_3b/010123_223442/checkpoint-45/pytorch_model.bin\n",
      "Saving model checkpoint to ./cos_e_output_t5_3b/010123_223442/checkpoint-50\n",
      "Configuration saved in ./cos_e_output_t5_3b/010123_223442/checkpoint-50/config.json\n",
      "Model weights saved in ./cos_e_output_t5_3b/010123_223442/checkpoint-50/pytorch_model.bin\n",
      "Saving model checkpoint to ./cos_e_output_t5_3b/010123_223442/checkpoint-55\n",
      "Configuration saved in ./cos_e_output_t5_3b/010123_223442/checkpoint-55/config.json\n",
      "Model weights saved in ./cos_e_output_t5_3b/010123_223442/checkpoint-55/pytorch_model.bin\n",
      "Saving model checkpoint to ./cos_e_output_t5_3b/010123_223442/checkpoint-60\n",
      "Configuration saved in ./cos_e_output_t5_3b/010123_223442/checkpoint-60/config.json\n",
      "Model weights saved in ./cos_e_output_t5_3b/010123_223442/checkpoint-60/pytorch_model.bin\n",
      "Saving model checkpoint to ./cos_e_output_t5_3b/010123_223442/checkpoint-65\n",
      "Configuration saved in ./cos_e_output_t5_3b/010123_223442/checkpoint-65/config.json\n",
      "Model weights saved in ./cos_e_output_t5_3b/010123_223442/checkpoint-65/pytorch_model.bin\n",
      "Saving model checkpoint to ./cos_e_output_t5_3b/010123_223442/checkpoint-70\n",
      "Configuration saved in ./cos_e_output_t5_3b/010123_223442/checkpoint-70/config.json\n",
      "Model weights saved in ./cos_e_output_t5_3b/010123_223442/checkpoint-70/pytorch_model.bin\n",
      "Saving model checkpoint to ./cos_e_output_t5_3b/010123_223442/checkpoint-75\n",
      "Configuration saved in ./cos_e_output_t5_3b/010123_223442/checkpoint-75/config.json\n",
      "Model weights saved in ./cos_e_output_t5_3b/010123_223442/checkpoint-75/pytorch_model.bin\n",
      "Saving model checkpoint to ./cos_e_output_t5_3b/010123_223442/checkpoint-80\n",
      "Configuration saved in ./cos_e_output_t5_3b/010123_223442/checkpoint-80/config.json\n",
      "Model weights saved in ./cos_e_output_t5_3b/010123_223442/checkpoint-80/pytorch_model.bin\n",
      "Saving model checkpoint to ./cos_e_output_t5_3b/010123_223442/checkpoint-85\n",
      "Configuration saved in ./cos_e_output_t5_3b/010123_223442/checkpoint-85/config.json\n",
      "Model weights saved in ./cos_e_output_t5_3b/010123_223442/checkpoint-85/pytorch_model.bin\n",
      "Saving model checkpoint to ./cos_e_output_t5_3b/010123_223442/checkpoint-90\n",
      "Configuration saved in ./cos_e_output_t5_3b/010123_223442/checkpoint-90/config.json\n",
      "Model weights saved in ./cos_e_output_t5_3b/010123_223442/checkpoint-90/pytorch_model.bin\n",
      "Saving model checkpoint to ./cos_e_output_t5_3b/010123_223442/checkpoint-95\n",
      "Configuration saved in ./cos_e_output_t5_3b/010123_223442/checkpoint-95/config.json\n",
      "Model weights saved in ./cos_e_output_t5_3b/010123_223442/checkpoint-95/pytorch_model.bin\n",
      "Saving model checkpoint to ./cos_e_output_t5_3b/010123_223442/checkpoint-100\n",
      "Configuration saved in ./cos_e_output_t5_3b/010123_223442/checkpoint-100/config.json\n",
      "Model weights saved in ./cos_e_output_t5_3b/010123_223442/checkpoint-100/pytorch_model.bin\n",
      "Saving model checkpoint to ./cos_e_output_t5_3b/010123_223442/checkpoint-105\n",
      "Configuration saved in ./cos_e_output_t5_3b/010123_223442/checkpoint-105/config.json\n",
      "Model weights saved in ./cos_e_output_t5_3b/010123_223442/checkpoint-105/pytorch_model.bin\n",
      "Saving model checkpoint to ./cos_e_output_t5_3b/010123_223442/checkpoint-110\n",
      "Configuration saved in ./cos_e_output_t5_3b/010123_223442/checkpoint-110/config.json\n",
      "Model weights saved in ./cos_e_output_t5_3b/010123_223442/checkpoint-110/pytorch_model.bin\n",
      "Saving model checkpoint to ./cos_e_output_t5_3b/010123_223442/checkpoint-115\n",
      "Configuration saved in ./cos_e_output_t5_3b/010123_223442/checkpoint-115/config.json\n",
      "Model weights saved in ./cos_e_output_t5_3b/010123_223442/checkpoint-115/pytorch_model.bin\n",
      "Saving model checkpoint to ./cos_e_output_t5_3b/010123_223442/checkpoint-120\n",
      "Configuration saved in ./cos_e_output_t5_3b/010123_223442/checkpoint-120/config.json\n",
      "Model weights saved in ./cos_e_output_t5_3b/010123_223442/checkpoint-120/pytorch_model.bin\n",
      "Saving model checkpoint to ./cos_e_output_t5_3b/010123_223442/checkpoint-125\n",
      "Configuration saved in ./cos_e_output_t5_3b/010123_223442/checkpoint-125/config.json\n",
      "Model weights saved in ./cos_e_output_t5_3b/010123_223442/checkpoint-125/pytorch_model.bin\n",
      "Saving model checkpoint to ./cos_e_output_t5_3b/010123_223442/checkpoint-130\n",
      "Configuration saved in ./cos_e_output_t5_3b/010123_223442/checkpoint-130/config.json\n",
      "Model weights saved in ./cos_e_output_t5_3b/010123_223442/checkpoint-130/pytorch_model.bin\n",
      "Saving model checkpoint to ./cos_e_output_t5_3b/010123_223442/checkpoint-135\n",
      "Configuration saved in ./cos_e_output_t5_3b/010123_223442/checkpoint-135/config.json\n",
      "Model weights saved in ./cos_e_output_t5_3b/010123_223442/checkpoint-135/pytorch_model.bin\n",
      "Saving model checkpoint to ./cos_e_output_t5_3b/010123_223442/checkpoint-140\n",
      "Configuration saved in ./cos_e_output_t5_3b/010123_223442/checkpoint-140/config.json\n",
      "Model weights saved in ./cos_e_output_t5_3b/010123_223442/checkpoint-140/pytorch_model.bin\n",
      "Saving model checkpoint to ./cos_e_output_t5_3b/010123_223442/checkpoint-145\n",
      "Configuration saved in ./cos_e_output_t5_3b/010123_223442/checkpoint-145/config.json\n",
      "Model weights saved in ./cos_e_output_t5_3b/010123_223442/checkpoint-145/pytorch_model.bin\n",
      "Saving model checkpoint to ./cos_e_output_t5_3b/010123_223442/checkpoint-150\n",
      "Configuration saved in ./cos_e_output_t5_3b/010123_223442/checkpoint-150/config.json\n",
      "Model weights saved in ./cos_e_output_t5_3b/010123_223442/checkpoint-150/pytorch_model.bin\n",
      "\n",
      "\n",
      "Training completed. Do not forget to share your model on huggingface.co/models =)\n",
      "\n",
      "\n"
     ]
    },
    {
     "data": {
      "text/html": [
       "Waiting for W&B process to finish... <strong style=\"color:green\">(success).</strong>"
      ],
      "text/plain": [
       "<IPython.core.display.HTML object>"
      ]
     },
     "metadata": {},
     "output_type": "display_data"
    },
    {
     "data": {
      "text/html": [
       "<style>\n",
       "    table.wandb td:nth-child(1) { padding: 0 10px; text-align: left ; width: auto;} td:nth-child(2) {text-align: left ; width: 100%}\n",
       "    .wandb-row { display: flex; flex-direction: row; flex-wrap: wrap; justify-content: flex-start; width: 100% }\n",
       "    .wandb-col { display: flex; flex-direction: column; flex-basis: 100%; flex: 1; padding: 10px; }\n",
       "    </style>\n",
       "<div class=\"wandb-row\"><div class=\"wandb-col\"><h3>Run history:</h3><br/><table class=\"wandb\"><tr><td>train/epoch</td><td>▁▁▁▁▂▂▂▂▂▃▃▃▃▃▃▄▄▄▄▄▅▅▅▅▅▆▆▆▆▆▆▇▇▇▇▇████</td></tr><tr><td>train/global_step</td><td>▁▁▁▁▂▂▂▂▂▃▃▃▃▃▃▄▄▄▄▄▅▅▅▅▅▆▆▆▆▆▆▇▇▇▇▇████</td></tr><tr><td>train/learning_rate</td><td>████▇▇▇▇▇▆▆▆▆▆▆▅▅▅▅▅▄▄▄▄▄▄▃▃▃▃▃▃▂▂▂▂▂▁▁▁</td></tr><tr><td>train/loss</td><td>█▄▃▃▂▂▂▂▂▂▂▂▁▁▁▁▁▁▁▁▁▁▁▁▁▁▁▁▁▁▁▁▁▁▁▁▁▁▁▁</td></tr><tr><td>train/total_flos</td><td>▁</td></tr><tr><td>train/train_loss</td><td>▁</td></tr><tr><td>train/train_runtime</td><td>▁</td></tr><tr><td>train/train_samples_per_second</td><td>▁</td></tr><tr><td>train/train_steps_per_second</td><td>▁</td></tr></table><br/></div><div class=\"wandb-col\"><h3>Run summary:</h3><br/><table class=\"wandb\"><tr><td>train/epoch</td><td>25.0</td></tr><tr><td>train/global_step</td><td>150</td></tr><tr><td>train/learning_rate</td><td>0.0</td></tr><tr><td>train/loss</td><td>0.1662</td></tr><tr><td>train/total_flos</td><td>792166665584640.0</td></tr><tr><td>train/train_loss</td><td>0.86594</td></tr><tr><td>train/train_runtime</td><td>33891.1997</td></tr><tr><td>train/train_samples_per_second</td><td>0.035</td></tr><tr><td>train/train_steps_per_second</td><td>0.004</td></tr></table><br/></div></div>"
      ],
      "text/plain": [
       "<IPython.core.display.HTML object>"
      ]
     },
     "metadata": {},
     "output_type": "display_data"
    },
    {
     "data": {
      "text/html": [
       "Synced <strong style=\"color:#cdcd00\">./cos_e_output_t5_3b</strong>: <a href=\"https://wandb.ai/cuhk_lavilab/evaluate_LM_with_rationalization/runs/ezgmb8c0\" target=\"_blank\">https://wandb.ai/cuhk_lavilab/evaluate_LM_with_rationalization/runs/ezgmb8c0</a><br/>Synced 6 W&B file(s), 0 media file(s), 0 artifact file(s) and 0 other file(s)"
      ],
      "text/plain": [
       "<IPython.core.display.HTML object>"
      ]
     },
     "metadata": {},
     "output_type": "display_data"
    },
    {
     "data": {
      "text/html": [
       "Find logs at: <code>./wandb/run-20230101_223623-ezgmb8c0/logs</code>"
      ],
      "text/plain": [
       "<IPython.core.display.HTML object>"
      ]
     },
     "metadata": {},
     "output_type": "display_data"
    }
   ],
   "source": [
    "# os.environ[\"WANDB_DISABLED\"] = \"True\"\n",
    "if data_args.generations_filepath is None:\n",
    "    callbacks = [TensorBoardCallback()]\n",
    "    if data_args.early_stopping_patience > 0:\n",
    "        callbacks.append(EarlyStoppingCallback(early_stopping_patience=data_args.early_stopping_patience))\n",
    "        training_args.load_best_model_at_end = True\n",
    "    else:\n",
    "        training_args.load_best_model_at_end = False  # use the last model state\n",
    "    training_args.metric_for_best_model = 'eval_loss'\n",
    "    training_args.greater_is_better = False\n",
    "    if training_args.eval_steps is None:\n",
    "        training_args.evaluation_strategy = EvaluationStrategy.EPOCH\n",
    "    else:\n",
    "        training_args.evaluation_strategy = EvaluationStrategy.STEPS\n",
    "\n",
    "    trainer = Trainer(\n",
    "        model=model,\n",
    "        args=training_args,\n",
    "        train_dataset=our_data_splits['train'],\n",
    "        eval_dataset=our_data_splits['dev'],\n",
    "        data_collator=SequenceCollator(\n",
    "            model=model_class, pad_token=tokenizer.pad_token_id\n",
    "        ),\n",
    "        callbacks=callbacks,\n",
    "    )\n",
    "\n",
    "# Training. Don't train if it is use_gpt3\n",
    "if training_args.do_train and not model_args.use_gpt3:\n",
    "    start_time = time.time()\n",
    "    trainer.train()\n",
    "    train_time = time.time() - start_time\n",
    "    model = trainer.model\n",
    "    wandb.finish()\n",
    "else:\n",
    "    start_time = time.time()\n",
    "    train_time = time.time() - start_time"
   ]
  },
  {
   "cell_type": "code",
   "execution_count": 92,
   "id": "ade3c632",
   "metadata": {},
   "outputs": [],
   "source": [
    "# print(our_data_splits['dev'][0]['our_explanation'])\n",
    "# inp_ids=torch.tensor(our_data_splits['dev'][0][\"input_ids\"], device=model.device).reshape(1, -1)\n",
    "# out = model.generate(\n",
    "#                     inp_ids,\n",
    "#                     max_length=100,\n",
    "#                     pad_token_id=tokenizer.pad_token_id,\n",
    "#                     eos_token_id=tokenizer.eos_token_id,\n",
    "#                 )\n",
    "# skip_special_tokens = False if \"infilling\" in data_args.io_format else True\n",
    "# words = tokenizer.decode(out[0].tolist(), skip_special_tokens=skip_special_tokens)\n",
    "# print(words)"
   ]
  },
  {
   "cell_type": "code",
   "execution_count": 93,
   "id": "b88935f8",
   "metadata": {},
   "outputs": [],
   "source": [
    "# len(our_data_splits['dev']),len(our_data_splits['train'])"
   ]
  },
  {
   "cell_type": "code",
   "execution_count": 94,
   "id": "8eda472b",
   "metadata": {},
   "outputs": [],
   "source": [
    "# our_data_splits['dev']"
   ]
  },
  {
   "cell_type": "code",
   "execution_count": 95,
   "id": "77c15190",
   "metadata": {},
   "outputs": [],
   "source": [
    "# for da in our_data_splits['train']:\n",
    "#     print(\"*******\")\n",
    "#     print(\"question: {}\".format(da['question']))\n",
    "#     print(\"answer: {}\".format(da['answer']))\n",
    "#     print(\"choices: {}\".format(da['choices']))\n",
    "#     print(\"our_explanation: {}\".format(da['our_explanation']))\n",
    "#     inp_ids = torch.tensor(da[\"input_ids\"], device=model.device).reshape(1, -1)\n",
    "#     out = model.generate(\n",
    "#                     inp_ids,\n",
    "#                     max_length=100,\n",
    "#                     pad_token_id=tokenizer.pad_token_id,\n",
    "#                     eos_token_id=tokenizer.eos_token_id,\n",
    "#                 )\n",
    "#     skip_special_tokens = False if \"infilling\" in data_args.io_format else True\n",
    "#     words = tokenizer.decode(out[0].tolist(), skip_special_tokens=skip_special_tokens)\n",
    "#     print(\"generated explanation: {}\".format(words))\n",
    "#     print(\"#######\")"
   ]
  },
  {
   "cell_type": "code",
   "execution_count": 96,
   "id": "2ca6cbe4",
   "metadata": {},
   "outputs": [],
   "source": [
    "# for da in our_data_splits['dev']:\n",
    "#     print(\"*******\")\n",
    "#     print(\"question: {}\".format(da['question']))\n",
    "#     print(\"answer: {}\".format(da['answer']))\n",
    "#     print(\"choices: {}\".format(da['choices']))\n",
    "#     print(\"our_explanation: {}\".format(da['our_explanation']))\n",
    "#     inp_ids = torch.tensor(da[\"input_ids\"], device=model.device).reshape(1, -1)\n",
    "#     out = model.generate(\n",
    "#                     inp_ids,\n",
    "#                     max_length=100,\n",
    "#                     pad_token_id=tokenizer.pad_token_id,\n",
    "#                     eos_token_id=tokenizer.eos_token_id,\n",
    "#                 )\n",
    "#     skip_special_tokens = False if \"infilling\" in data_args.io_format else True\n",
    "#     words = tokenizer.decode(out[0].tolist(), skip_special_tokens=skip_special_tokens)\n",
    "#     print(\"generated explanation: {}\".format(words))\n",
    "#     print(\"#######\")"
   ]
  },
  {
   "cell_type": "code",
   "execution_count": 97,
   "id": "69977540",
   "metadata": {},
   "outputs": [],
   "source": [
    "# good_model = T5ForConditionalGeneration.from_pretrained(\"./cos_e_output_t5_3b/112022_235539/checkpoint-30\")"
   ]
  },
  {
   "cell_type": "code",
   "execution_count": 98,
   "id": "62fca4b8",
   "metadata": {},
   "outputs": [],
   "source": [
    "# for da in our_data_splits['dev']:\n",
    "#     print(\"*******\")\n",
    "#     print(\"question: {}\".format(da['question']))\n",
    "#     print(\"answer: {}\".format(da['answer']))\n",
    "#     print(\"choices: {}\".format(da['choices']))\n",
    "#     print(\"our_explanation: {}\".format(da['our_explanation']))\n",
    "#     inp_ids = torch.tensor(da[\"input_ids\"], device=model.device).reshape(1, -1)\n",
    "#     out = good_model.generate(\n",
    "#                     inp_ids,\n",
    "#                     max_length=100,\n",
    "#                     pad_token_id=tokenizer.pad_token_id,\n",
    "#                     eos_token_id=tokenizer.eos_token_id,\n",
    "#                 )\n",
    "#     skip_special_tokens = False if \"infilling\" in data_args.io_format else True\n",
    "#     words = tokenizer.decode(out[0].tolist(), skip_special_tokens=skip_special_tokens)\n",
    "#     print(\"generated explanation: {}\".format(words))\n",
    "#     print(\"#######\")"
   ]
  },
  {
   "cell_type": "code",
   "execution_count": 99,
   "id": "3a7de102",
   "metadata": {},
   "outputs": [],
   "source": [
    "# train_output = trainer.evaluate(our_data_splits['train'].select([0,1,2,3,4]))\n",
    "# train_output"
   ]
  },
  {
   "cell_type": "code",
   "execution_count": 100,
   "id": "f43528ca",
   "metadata": {},
   "outputs": [],
   "source": [
    "# results = {}\n",
    "# if training_args.do_eval:\n",
    "#     start_time = time.time()\n",
    "#     logger.info(\"*** Evaluate on train set***\")\n",
    "#     logger.info(len(data_splits['train']))\n",
    "#     train_output = trainer.evaluate(our_data_splits['train'])\n",
    "#     perplexity = math.exp(train_output[\"eval_loss\"])\n",
    "#     results[\"perplexity_train\"] = perplexity\n",
    "\n",
    "#     # repeat\n",
    "#     logger.info(\"*** Evaluate on dev set***\")\n",
    "#     logger.info(len(data_splits['validation']))\n",
    "#     eval_output = trainer.evaluate(data_splits['validation'])\n",
    "#     perplexity = math.exp(eval_output[\"eval_loss\"])\n",
    "#     results[\"perplexity_validation\"] = perplexity"
   ]
  },
  {
   "cell_type": "markdown",
   "id": "3d2d2ec9",
   "metadata": {},
   "source": [
    "# Rationale Discriminator"
   ]
  },
  {
   "cell_type": "markdown",
   "id": "bd5eeaa4",
   "metadata": {},
   "source": [
    "## Construction of generated rationale and accepted rationale pairs\n"
   ]
  },
  {
   "cell_type": "code",
   "execution_count": 101,
   "id": "e7f1c257",
   "metadata": {},
   "outputs": [
    {
     "data": {
      "text/plain": [
       "250"
      ]
     },
     "execution_count": 101,
     "metadata": {},
     "output_type": "execute_result"
    }
   ],
   "source": [
    "len(fse_csqa_dev_data_dict)"
   ]
  },
  {
   "cell_type": "code",
   "execution_count": 108,
   "id": "c7bcb573",
   "metadata": {},
   "outputs": [
    {
     "name": "stderr",
     "output_type": "stream",
     "text": [
      "\r",
      "  0%|                                                                                                                                                                               | 0/986 [00:00<?, ?it/s]"
     ]
    },
    {
     "name": "stdout",
     "output_type": "stream",
     "text": [
      "*******\n",
      "question: Where can you likely buy many poems?\n",
      "answer: book store\n",
      "choices: ['book of poetry', 'literature book', 'book store', 'poetry book', 'bookshelf']\n",
      "common expl list: ['A book store is a place where you can buy books, including poetry books.', 'A bookstore sells a variety of books, including poetry books; chains of bookstores sometimes specialize in categories such as poetry or literature.']\n"
     ]
    },
    {
     "name": "stderr",
     "output_type": "stream",
     "text": [
      "\r",
      "  0%|▏                                                                                                                                                                 | 1/986 [08:11<134:28:47, 491.50s/it]"
     ]
    },
    {
     "name": "stdout",
     "output_type": "stream",
     "text": [
      "generated explanation: <pad> <extra_id_0> A book store is a retail establishment that is primarily devoted to selling books and other publications, such as magazines,<extra_id_1> s, and other literary works. Poets are often published in book form, such as an anthologies, anthologies, or anthologies, and they are often packaged in attractive, easily-understandable packaging, such as brown paper wrappers or card stock, and they are often sold in a variety of forms, such as hardcover, paperback, and digital versions. They may be found in a book store, which is a place where people shop for their favorite literary tastes and interests. In addition to the poetry, a book store may also stock a wide variety of literary works, such as classics, contemporary authors, or more contemporary works.<extra_id_1> </s>\n",
      "########\n",
      "*******\n",
      "question: What could bringing suit do to a rivalry?\n",
      "answer: aggravation\n",
      "choices: ['going to court', 'randomness', 'anger', 'aggravation', 'tensions']\n",
      "common expl list: ['Bringing suit against a rival could aggravate the rivalry.']\n"
     ]
    },
    {
     "name": "stderr",
     "output_type": "stream",
     "text": [
      "\r",
      "  0%|▎                                                                                                                                                                 | 2/986 [14:33<116:44:16, 427.09s/it]"
     ]
    },
    {
     "name": "stdout",
     "output_type": "stream",
     "text": [
      "generated explanation: <pad> <extra_id_0> What could bringing suit do to a rivalry?<extra_id_1> Bringing suit against a rival could cause aggravation. A rivalry is a relationship that is based on mutual dislike and dislike. When two people bring suit against each other, they are typically seeking financial compensation or other forms of compensation. The purpose of bringing suit is to create conflict and damage between them, by putting them in a negative light and exposing them to legal action. This can be done through the filing of a lawsuit, which is a process that can be characterized by the intense emotional attachment and heightened tensions.<extra_id_1> </s>\n",
      "########\n",
      "*******\n",
      "question: A person who yawns and paces to help pass the time is likely feeling what?\n",
      "answer: boredom\n",
      "choices: ['ridiculous', 'excitement', 'meanness', 'terrorism', 'boredom']\n",
      "common expl list: ['A bored person would pace and yawn to make time go by faster.', 'Yawning and pacing is a sign of being bored, etc...', 'By yawning and pacing one shows signs of being bored.']\n"
     ]
    },
    {
     "name": "stderr",
     "output_type": "stream",
     "text": [
      "\r",
      "  0%|▍                                                                                                                                                                 | 3/986 [21:13<113:17:38, 414.91s/it]"
     ]
    },
    {
     "name": "stdout",
     "output_type": "stream",
     "text": [
      "generated explanation: <pad> <extra_id_0> A person who yawns or paces to help pass the time is likely feeling bored. Boredom is a common negative emotion that people may experience, and it can be difficult to describe. It is not entirely clear why people might feel bored, or how they might relieve boredom. It is not clear from the behavior alone what is causing the person to feel bored. One possible explanation is that they are trying to pass the time by doing something that they find boring or interesting. It is possible that they are trying to pass the time by engaging in activities that they find stimulating, engaging, and enjoyable.<extra_id_1> </s>\n",
      "########\n",
      "*******\n",
      "question: I only like fiction books, why should I read a non-fiction book?\n",
      "answer: knowledge\n",
      "choices: ['knowledge', 'been printed new', 'many words', 'for fun', 'cover']\n",
      "common expl list: ['Non-fiction books contain knowledge.']\n"
     ]
    },
    {
     "name": "stderr",
     "output_type": "stream",
     "text": [
      "\r",
      "  0%|▋                                                                                                                                                                 | 4/986 [27:05<106:21:49, 389.93s/it]"
     ]
    },
    {
     "name": "stdout",
     "output_type": "stream",
     "text": [
      "generated explanation: <pad> <extra_id_0> If I only like fiction books, why should I read a non-fiction book? A non-fiction book is a book that is not fiction but is written for a specific audience, such as a historian, philosopher, or other expert. Non-fiction books are often considered to be more objective and objective than fiction books, and they can provide valuable insight and information about a subject or topic. Non-fiction books are often considered to be more reliable sources of information and advice than fiction books, because they provide a more complete picture of a subject or subject.<extra_id_1> </s>\n",
      "########\n",
      "*******\n",
      "question: An American might hike a mountain north to get to what?\n",
      "answer: canada\n",
      "choices: ['canada', 'switzerland', 'orlando', 'austria', 'surface of earth']\n",
      "common expl list: ['If an American hiked north, they would likely end up in Canada.']\n"
     ]
    },
    {
     "name": "stderr",
     "output_type": "stream",
     "text": [
      "\r",
      "  1%|▊                                                                                                                                                                 | 5/986 [32:49<101:46:40, 373.50s/it]"
     ]
    },
    {
     "name": "stdout",
     "output_type": "stream",
     "text": [
      "generated explanation: <pad> <extra_id_0> An American might hike a mountain north to get to Canada. Canada is a country in North America that is located in North America. It is a country that is home to many people, and it is often considered to be a desirable tourist destination for Americans. Americans often hike mountains in order to get to Canada, and they may encounter various challenges along the way, such as steep mountains, rugged terrain, and cold temperatures. Hiking is a popular activity that can provide an opportunity for exercise and fresh air, and it can also provide a great way to explore the regions and people living there.<extra_id_1> </s>\n",
      "########\n",
      "*******\n",
      "question: Sam spent most of his time standing up.  His job was hectic and he never got any rest. But he was the best cashier at his workplace.    Where might he work?\n",
      "answer: supermarket\n",
      "choices: ['bookstore', 'count till', 'supermarket', 'shop', 'preschool']\n",
      "common expl list: [\"The best cashiers work setting up lines of products, yhis is usually done from being on one's feet. Supermarkets use till systems to swipe credit cards, thus cashiering is done by standing up.\", 'Since one spends most of his time standing when working as a cashier, Sam probably works at a supermarket where groceries are sold. Because his workplace is full of activities and punten, he never gets any rest.']\n"
     ]
    },
    {
     "name": "stderr",
     "output_type": "stream",
     "text": [
      "\r",
      "  1%|▉                                                                                                                                                                 | 6/986 [40:08<107:39:32, 395.48s/it]"
     ]
    },
    {
     "name": "stdout",
     "output_type": "stream",
     "text": [
      "generated explanation: <pad> <extra_id_0> If Sam worked at a supermarket, he would be a cashier. Cashiers are often required to work standing up and may have a variety of tasks that require concentration and attention. Supermarkets often have a busy atmosphere and a high turnover of staff. As a cashier, you would be responsible for processing and verifying payments, ringing up orders, and handling returns and exchanges. If Sam worked at a supermarket, he would be responsible for standing up and working long hours to meet customer demands and to be the best in his field. If Sam might have worked at a supermarket or similar establishment that requires workers to be standing up and would have had to be a busy workplace environment that required patience and dedication to succeed in a demanding job.<extra_id_1> </s>\n",
      "########\n",
      "*******\n",
      "question: James raked fallen leaves into a pile. Where might he leave the pile?\n",
      "answer: ground\n",
      "choices: ['forest', 'roof', 'garden', 'tree', 'ground']\n",
      "common expl list: ['Leaves are often raked into piles on the ground.']\n"
     ]
    },
    {
     "name": "stderr",
     "output_type": "stream",
     "text": [
      "\r",
      "  1%|█▏                                                                                                                                                                | 7/986 [48:00<114:22:36, 420.59s/it]"
     ]
    },
    {
     "name": "stdout",
     "output_type": "stream",
     "text": [
      "generated explanation: <pad> <extra_id_0> If someone raked fallen leaves into a pile and then left the pile on the ground, it is likely that they left the pile there as a result of the raking. Raking is a method of gathering and storing loose, fallen material, such as leaves, twigs, and other organic material, in order to create a pile or mound. Piles of leaves are often used as litter or as a decorative element in a room or garden, and they can be used to decorate a space or to use as a space for storage or organization. If a person has a yard, it is possible that they may have left the pile there as a place for the leaves to dry and weather conditions improve.<extra_id_1> </s>\n",
      "########\n",
      "*******\n",
      "question: What happens when we fail at something we attempt?\n",
      "answer: leave\n",
      "choices: ['leave', 'give up', 'trying', 'we get shunned', 'fail']\n",
      "common expl list: [\"If we engage in an activity, like a sport, and fail, we don't want to continue doing it. It's much easier simply to leave.\", 'If we fail at something, we usually leave (quit) that activity; failing is an action, while giving up and trying are both ways of not acting.']\n"
     ]
    },
    {
     "name": "stderr",
     "output_type": "stream",
     "text": [
      "\r",
      "  1%|█▎                                                                                                                                                                | 8/986 [56:05<119:50:25, 441.13s/it]"
     ]
    },
    {
     "name": "stdout",
     "output_type": "stream",
     "text": [
      "generated explanation: <pad> <extra_id_0> When we fail at something we attempt, we may leave the attempt before we have completed it. This is often the case when we try something new, or if we have a particular skill or ability that we lack or have not developed over time. It may be that we have made a mistake or we may have made a mistake that has led to a failure or setback. If we fail at something we attempt, we may leave the attempt before we have completed it, or we may leave it before we have completed the task in an attempt to try again. If we continue to fail at something we may not succeed at it, or we may have learned something new skill or skill that we have developed over time. When we fail at something we may have gained from our attempts.<extra_id_1> </s>\n",
      "########\n",
      "*******\n",
      "question: The referee wasn't specialized in one thing. He refereed many games.  He was offered a job but wasn't sure what it would be.  What did he know it would be?\n",
      "answer: sporting event\n",
      "choices: ['side with opponent', 'football', 'hockey game', 'part two boxers', 'sporting event']\n",
      "common expl list: ['Referees are specialized in sports, and so, they would be expected to know how to referee a sporting event.']\n"
     ]
    },
    {
     "name": "stderr",
     "output_type": "stream",
     "text": [
      "\r",
      "  1%|█▍                                                                                                                                                              | 9/986 [1:02:58<117:20:36, 432.38s/it]"
     ]
    },
    {
     "name": "stdout",
     "output_type": "stream",
     "text": [
      "generated explanation: <pad> <extra_id_0> A referee is a person who is trained and qualified to referee a specific type of game or event, such as a game of football or basketball. Referees are trained and qualified to referee specific types of games or events, such as games or competitions, and they are often specialized in certain aspects of the game or event they are refereeed. It is not clear from the information provided what specific game or event the referee would be assigned to referee, or how they would be specialized in the specific skills and experience necessary to referee diverse range of sports and disciplines, and their needs and abilities.<extra_id_1> </s>\n",
      "########\n",
      "*******\n",
      "question: Susan threw the highly elastic ball at the wall.  The ball did what?\n",
      "answer: rebound\n",
      "choices: ['bounce', 'recoil', 'rebound', 'underwear', 'stretch']\n",
      "common expl list: ['Elastic balls collide with the wall, and boom bounce back after a collision.']\n"
     ]
    },
    {
     "name": "stderr",
     "output_type": "stream",
     "text": [
      "\r",
      "  1%|█▌                                                                                                                                                             | 10/986 [1:09:52<115:42:27, 426.79s/it]"
     ]
    },
    {
     "name": "stdout",
     "output_type": "stream",
     "text": [
      "generated explanation: <pad> <extra_id_0> If Susan threw the highly elastic ball at the wall, the ball may rebound and contact the wall. A ball that is highly elastic may have an uneven surface and may bounce back and forth, causing it to appear as though it were hitting the wall. This is because the ball is made of a flexible material that can stretch and contract as it is being thrown. The ball is also highly elastic, making it likely that it will bounce back and forth against the wall when it hits the wall. This is because the ball is highly elastic and will not break into pieces when it hits the wall, and may have a similar effect on the wall.<extra_id_1> </s>\n",
      "########\n",
      "*******\n",
      "question: John lived in a small island surrounded by flowing liquid H2O   Where might he live?\n",
      "answer: mississippi river\n",
      "choices: ['japan', 'hawaii', 'mississippi river', 'pacific ocean', 'body of water']\n",
      "common expl list: ['there are numerous islands in the mississippi river in the united states, making it possible that John may have lived on one.']\n"
     ]
    },
    {
     "name": "stderr",
     "output_type": "stream",
     "text": [
      "\r",
      "  1%|█▊                                                                                                                                                             | 11/986 [1:18:18<122:05:57, 450.83s/it]"
     ]
    },
    {
     "name": "stdout",
     "output_type": "stream",
     "text": [
      "generated explanation: <pad> <extra_id_0> If John lived in a small island surrounded by flowing liquid H2O, it is possible that he lived in the Mississippi River. The Mississippi River is a flowing body of water that flows through the state of Mississippi. It is a major river in the United States, and it is the largest in the Mississippi River basin. It is the largest river in the Mississippi River basin, and it is the longest river in the state. It is home to more than a million people, and it is the second-longest river in terms of volume and velocity. It is a large island that is surrounded by flowing liquids, and it is likely that John lived in a small island surrounded by flowing liquid H2O.<extra_id_1> </s>\n",
      "########\n",
      "*******\n",
      "question: What will the student have to do on the test?\n",
      "answer: solve equation\n",
      "choices: ['finish college', 'begin teaching', 'write', 'answer question', 'solve equation']\n",
      "common expl list: ['A student has to solve equations to learn a given theory that is presented in class.']\n"
     ]
    },
    {
     "name": "stderr",
     "output_type": "stream",
     "text": [
      "\r",
      "  1%|█▉                                                                                                                                                             | 12/986 [1:25:54<122:23:29, 452.37s/it]"
     ]
    },
    {
     "name": "stdout",
     "output_type": "stream",
     "text": [
      "generated explanation: <pad> <extra_id_0> On the test, the student will have to solve equations. An equation is a statement or a series of words or letters that represents an idea, concept, or property. In mathematics, an equation is a statement or a set of symbols that represents something mathematically, such as a quantity, a property, or a concept. In solving an equation, a student will have to consider the variables and how they relate to each other, as well as the context in which they occur. In doing so, the student will have to demonstrate their understanding of the material and apply it to real-world situations and apply it to their knowledge of algebraic and algebraic theory to their studies.<extra_id_1> </s>\n",
      "########\n",
      "*******\n",
      "question: The tourists saw what they thought was a statue, but they soon discovered it was performance art went it began what?\n",
      "answer: moving\n",
      "choices: ['growing mold', 'moving', 'accent garden', 'green', 'painting']\n",
      "common expl list: ['Performance art is art that is performed, rather than being a static object. In this case, the statue was moving, which is a sign of performance art.']\n"
     ]
    },
    {
     "name": "stderr",
     "output_type": "stream",
     "text": [
      "\r",
      "  1%|██                                                                                                                                                             | 13/986 [1:32:36<118:12:11, 437.34s/it]"
     ]
    },
    {
     "name": "stdout",
     "output_type": "stream",
     "text": [
      "generated explanation: <pad> <extra_id_0> When tourists first saw what they thought was a statue, they soon discovered it was performance art. Performance art is art that uses movement and music to create an emotional and engaging experience for viewers. It is often used in museums and galleries to introduce visitors to new concepts or ideas, or to explore different ideas and emotions. One example of performance art is when a performer takes the form of a statue and moves their body in response to the music or spoken word. Performance art is a type of art that combines visual art with sound and movement to create a moving image or a moving image or a series of movements or a moving image.<extra_id_1> </s>\n",
      "########\n",
      "*******\n",
      "question: What is a good way to carry a small dog?\n",
      "answer: backpack\n",
      "choices: ['good hands', 'backpack', 'chinese food', 'grocery bag', 'basket']\n",
      "common expl list: ['Backpacks are a good way to carry things, and small dogs are things.']\n"
     ]
    },
    {
     "name": "stderr",
     "output_type": "stream",
     "text": [
      "\r",
      "  1%|██▎                                                                                                                                                            | 14/986 [1:41:06<123:56:51, 459.07s/it]"
     ]
    },
    {
     "name": "stdout",
     "output_type": "stream",
     "text": [
      "generated explanation: <pad> <extra_id_0> A backpack is a portable, lightweight carrying solution that is ideal for carrying a small dog or other small animal. Backpacks are typically made of padded, waterproof material and have a secure, adjustable closure. They are often used for carrying a variety of items, including groceries, clothing, and other items. They are often equipped with a variety of carrying options, including a handle, a padded back panel, and a zipper. They are often used for carrying a variety of items, such as books, clothes, and other items in a safe and secure location. Backpacks are popular options for carrying a small dog, as they are convenient and convenient for carrying a mobile device, and they can be worn on a backpack or carried in a backpack.<extra_id_1> </s>\n",
      "########\n",
      "*******\n",
      "question: Both sides in World War I used what to cause death that is now banned?\n",
      "answer: poisonous gas\n",
      "choices: ['homicide', 'poisonous gas', 'cyanide', 'nuclear weapons', 'massive weapons']\n",
      "common expl list: ['Poison gas is a chemical known for its ability to kill (therefore, if both sides used it, people on both sides died from its use), and it has since gone on to be outlawed in many countries.']\n"
     ]
    },
    {
     "name": "stderr",
     "output_type": "stream",
     "text": [
      "\r",
      "  2%|██▍                                                                                                                                                            | 15/986 [1:47:22<117:08:02, 434.28s/it]"
     ]
    },
    {
     "name": "stdout",
     "output_type": "stream",
     "text": [
      "generated explanation: <pad> <extra_id_0> Both sides in World War I used poisonous gases to cause death. Poisonous gases are substances that are toxic or poisonous to the human body and are commonly used in warfare, sarin, mustard gas, and other forms of gas warfare. These weapons are known to be particularly effective at causing death and are often used as a means of causing rapid and widespread death. Although they are no longer widely used, they can still cause significant harm and can be fatal to some people. As a result, it is important for people to stay away from sources that may be toxic or causing a wide range of substances that are causing death and illness.<extra_id_1> </s>\n",
      "########\n",
      "*******\n",
      "question: Where is disease often spread but shouldn't be?\n",
      "answer: hospital\n",
      "choices: ['ghost town', 'third world country', 'human body', 'rug', 'hospital']\n",
      "common expl list: ['Disease is spread most commonly in hospitals, where sick patients are treated and recovered hosts of disease are found.', 'Hospitals are places where people go to get better, and therefore disease is often spread there.']\n"
     ]
    },
    {
     "name": "stderr",
     "output_type": "stream",
     "text": [
      "\r",
      "  2%|██▌                                                                                                                                                            | 16/986 [1:53:28<111:24:06, 413.45s/it]"
     ]
    },
    {
     "name": "stdout",
     "output_type": "stream",
     "text": [
      "generated explanation: <pad> <extra_id_0> In most places, disease is spread through direct contact between people. Hospitals are places where people go to receive medical care and treatment, such as blood transfusions, injections, and surgery. In hospitals, there is a high risk of disease transmission and infection, and there are many reasons why this might be the case. One reason is that hospitals are often crowded, and people may not be as well isolated as they should be. Hospitals also have a higher risk of infection and are more likely to have a variety of diseases, such as a public or private sector institution.<extra_id_1> </s>\n",
      "########\n",
      "*******\n",
      "question: As things get colder, temperature does what?\n",
      "answer: drop to zero\n",
      "choices: ['increase', 'drop to zero', 'heat up', 'dropping quickly', 'arctic']\n",
      "common expl list: ['As things get colder, they get closer to zero degrees.']\n"
     ]
    },
    {
     "name": "stderr",
     "output_type": "stream",
     "text": [
      "\r",
      "  2%|██▋                                                                                                                                                            | 17/986 [1:59:23<106:34:45, 395.96s/it]"
     ]
    },
    {
     "name": "stdout",
     "output_type": "stream",
     "text": [
      "generated explanation: <pad> <extra_id_0> As things get colder, temperature can drop to zero. This is because the body loses heat as it cools, which causes the body to release energy and lose heat. It is important to note that as things get colder, temperature can also drop. This is because the body loses heat as it cools, which causes the temperature to drop. It is important to note that as things get colder, the temperature can drop to zero, and the body's heat can be used for other purposes, such as heating, cooling, and reducing the body's body heat to maintain a constant, warm, and comfortable.<extra_id_1> </s>\n",
      "########\n",
      "*******\n",
      "question: Where is one unlikely to get popcorn?\n",
      "answer: soccer game\n",
      "choices: ['restaurant', 'movie house', 'soccer game', 'carnival', 'movie theater']\n",
      "common expl list: ['Most soccer games lack concession stands, which are necessary to sell movie theaters popcorn.', 'Soccer games usually lack popcorn machines.', 'Soccer games are usually snacks-free affairs; snacks, including popcorn, tend to be present at more recreational venues, but less so in settings where food is unnecessary because there are translatable goods sellers, i.e., vendors that sell things like popcorn']\n"
     ]
    },
    {
     "name": "stderr",
     "output_type": "stream",
     "text": [
      "\r",
      "  2%|██▉                                                                                                                                                            | 18/986 [2:06:37<109:34:39, 407.52s/it]"
     ]
    },
    {
     "name": "stdout",
     "output_type": "stream",
     "text": [
      "generated explanation: <pad> <extra_id_0> Popcorn is a food item that is typically served at a sporting event, such as a soccer game. Soccer games are events that typically involve a large number of people and are often attended by fans and spectators. Popcorn is a popular food item that is often served at soccer games because it is a popular and convenient snack that can be enjoyed by a wide range of people. Soccer games are popular events that often feature a large number of people and spectators, and they typically feature a variety of different types of players and players, as well as other foods, such as concessions and catering options.<extra_id_1> </s>\n",
      "########\n",
      "*******\n",
      "question: Where are files likely to be hanging?\n",
      "answer: filing cabinet\n",
      "choices: ['filing cabinet', 'tree', 'suitcase', 'computer', 'desk drawer']\n",
      "common expl list: ['Filing cabinets are used to store files sometimes; these files can then be found by opening the filing cabinet and looking for hanging folders.', 'Files are likely to be hanging in a filing cabinet, since they are often organized by topic, and filing cabinets are often used to organize files.']\n"
     ]
    },
    {
     "name": "stderr",
     "output_type": "stream",
     "text": [
      "\r",
      "  2%|███                                                                                                                                                            | 19/986 [2:14:04<112:39:05, 419.39s/it]"
     ]
    },
    {
     "name": "stdout",
     "output_type": "stream",
     "text": [
      "generated explanation: <pad> <extra_id_0> Files are likely to be hanging in a filing cabinet or other storage container that is designed to hold documents, files, and other materials. Files are typically stored in a filing cabinet or other storage container that is typically made of wood, metal, or plastic and can be hung on a wall or other surface. Filing cabinets are used for storing and organising documents and other items such as documents, receipts, and other types of documents. They are typically equipped with a lock, a sliding door, and a filing system, which allows users to access and open the contents of the cabinet., or other similar storage solution.</s>\n",
      "########\n",
      "*******\n",
      "question: What is required to go on vacation before anything else?\n",
      "answer: have money\n",
      "choices: ['pack', 'pay bills', 'save money', 'have money', 'reliable car']\n",
      "common expl list: ['Vacations often require the purchase of travel services, such as airline or hotel tickets.']\n"
     ]
    },
    {
     "name": "stderr",
     "output_type": "stream",
     "text": [
      "\r",
      "  2%|███▏                                                                                                                                                           | 20/986 [2:21:58<116:56:40, 435.82s/it]"
     ]
    },
    {
     "name": "stdout",
     "output_type": "stream",
     "text": [
      "generated explanation: <pad> <extra_id_0> It is important to have money before you go on vacation. It is important to have money before you go on vacation in order to enjoy the trip and to cover any additional expenses that may arise. Vacations are a popular way for people to unwind and enjoy themselves, and they can be a great way to relax and unwind. It is important to have money before you go on vacation in order to cover any additional expenses that may arise, such as travel, accommodation, and transportation. It is important to have money before you go on vacation in order to enable you to enjoy your vacation and to enjoy your trip. It is important to have money to go on vacation in order to enjoy the opportunity to fully enjoy the experience and enjoy the destination.<extra_id_1> </s>\n",
      "########\n",
      "*******\n",
      "question: The roadway passed a sign and gate house, what was behind the gatehouse?\n",
      "answer: subdivision\n",
      "choices: ['city', 'narnia', 'subdivision', 'neighborhood', 'countryside']\n",
      "common expl list: ['A subdivision contains houses that formed around it; therefore, a subdivision has a gatehouse that controls who goes in and out.', 'Subdivisions are residential areas that are often gated, and so, if you see a gatehouse, you might be in a subdivision.']\n"
     ]
    },
    {
     "name": "stderr",
     "output_type": "stream",
     "text": [
      "\r",
      "  2%|███▍                                                                                                                                                           | 21/986 [2:31:15<126:34:34, 472.20s/it]"
     ]
    },
    {
     "name": "stdout",
     "output_type": "stream",
     "text": [
      "generated explanation: <pad> <extra_id_0> If a roadway passed a sign and gatehouse, it is likely that the sign and gatehouse were associated with a subdivision. A subdivision is a physical development that is characterized by a set of distinct buildings and land uses. A subdivision may be a new development that is intended to serve as a home for a specific group of people or residents. A subdivision may be a residential community that is characterized by a distinct geographic area and a set of rules and regulations that govern the use and development of land. If a subdivision is located behind the gatehouse, it is likely that it was a residential area. If a sign and gatehouse were present, it is possible that the sign and gatehouse were part of a residential community or a housing development that was being built on the adjacent to the road.<extra_id_1> </s>\n",
      "########\n",
      "*******\n",
      "question: The invasive A.I. was designed to scan the crowd, where most saw a mass of humanity the evil machine could pick out each what?\n",
      "answer: individual\n",
      "choices: ['solitary', 'single person', 'few people', 'crowd', 'individual']\n",
      "common expl list: [\"Machine intelligence is better able to find isolated individuals than crowded groups. Machines need to scan a large group of people to be able to find a single person--but when the single person doesn't blend in, it makes them easier to find.\"]\n"
     ]
    },
    {
     "name": "stderr",
     "output_type": "stream",
     "text": [
      "\r",
      "  2%|███▌                                                                                                                                                           | 22/986 [2:40:48<134:29:52, 502.27s/it]"
     ]
    },
    {
     "name": "stdout",
     "output_type": "stream",
     "text": [
      "generated explanation: <pad> <extra_id_0> The invasive A.I. was designed to scan the crowd, where most saw a mass of humanity and could pick out each individual. Individuals are unique individuals who have unique characteristics, characteristics, and motivations. By scanning the crowd, the A.I. could detect and track the movements of individuals and groups within the crowd, and identify them as individuals. This could lead to mass killings and other forms of violence, such as lynchings, protests, and violence. The A.I. was designed to provide a way for the government to target and attack groups of people in order to identify and target potential victims of the system. By scanning the crowd, it is possible for the machine to identify and target individual people in order to capture their information and identify them for further manipulation.<extra_id_1> </s>\n",
      "########\n",
      "*******\n",
      "question: Is has been speculated that a aliens could be communicating by doing this?\n",
      "answer: thinking\n",
      "choices: ['effort', 'farting', 'thinking', 'laugh', 'medium']\n",
      "common expl list: ['Aliens could quite possibly be using thought as a way to communicate between themselves.']\n"
     ]
    },
    {
     "name": "stderr",
     "output_type": "stream",
     "text": [
      "\r",
      "  2%|███▋                                                                                                                                                           | 23/986 [2:51:11<144:04:22, 538.59s/it]"
     ]
    },
    {
     "name": "stdout",
     "output_type": "stream",
     "text": [
      "generated explanation: <pad> <extra_id_0> It has been speculated that an alien might be communicating by doing this. Thinking is a process that involves using the brain to make decisions and to process information. It is thought that aliens may communicate by using their brain to process information and to make decisions. Thinking is a fundamental human skill that allows people to make decisions and make choices. As such, it is thought that aliens may communicate by using their minds to make decisions and to make decisions about their actions and behaviors. It is thought that aliens may use this process to communicate with humans and other species. If a spacecraft is being used to communicate with humans, it is possible that it could be used by them to make decisions and to make decisions. If an alien race or species of aliens could be using this technology to make contact with Earth and/or to establish a spaceship or other spacecraft to transport information between themselves or to another species.<extra_id_1> </s>\n",
      "########\n",
      "*******\n",
      "question: What can occur in fencing if you are not careful?\n",
      "answer: severe injuries\n",
      "choices: ['competition', 'severe injuries', 'fever', 'perspiration', 'small cuts']\n",
      "common expl list: ['The sport of fencing causes people to be hit by weapons, which may cause cuts or other wounds if someone is not careful.', 'Fencing is a sport that involves hitting your opponent with a sword, and if you are not careful, you can get injured.', 'Fencing is a sport, which involves hitting your opponent with a sharp piece of metal, which will almost certainly result in some physical pain.']\n"
     ]
    },
    {
     "name": "stderr",
     "output_type": "stream",
     "text": [
      "\r",
      "  2%|███▊                                                                                                                                                           | 24/986 [3:00:01<143:12:38, 535.92s/it]"
     ]
    },
    {
     "name": "stdout",
     "output_type": "stream",
     "text": [
      "generated explanation: <pad> <extra_id_0> If you are not careful in fencing, severe injuries<extra_id_1> Severe injuries are serious injuries that can occur if you are not careful. In fencing, severe injuries are injuries that can occur as a result of contact with the metal or plastic mesh. Fencing can cause serious injuries if you are not careful and can result in permanent or permanent disability or loss of function. Fencing is a popular sport that involves cutting or slicing metal into strips or bars to create a decorative or functional fence. If you are not careful, you may experience severe injuries or even death. If you are at risk of suffering serious injuries in a fence. There are several risks associated with fencing, including: severe injuries, a fall, a serious injury, or a severe injury.<extra_id_1> </s>\n",
      "########\n",
      "*******\n",
      "question: If you stretch out your socks they will then have what kind of fit?\n",
      "answer: loose\n",
      "choices: ['cramped', 'loose', 'contract', 'park', 'compressing']\n",
      "common expl list: ['When stretched out, socks will be loose.']\n"
     ]
    },
    {
     "name": "stderr",
     "output_type": "stream",
     "text": [
      "\r",
      "  3%|████                                                                                                                                                           | 25/986 [3:06:53<133:09:32, 498.83s/it]"
     ]
    },
    {
     "name": "stdout",
     "output_type": "stream",
     "text": [
      "generated explanation: <pad> <extra_id_0> If you stretch out your socks they will then have a loose fit. A loose fit is a more relaxed or loose fit, such as what you would get from wearing a pair of shoes that are tailored or that are worn<extra_id_1> If you stretch out your socks they will have a more relaxed or loose fit, such as a loose or comfortable fit. There are several different types of fits that you can get from wearing socks, including compression socks, athletic socks, and even yoga socks. The most common fit is a loose fit, which is often described as a more comfortable fit.<extra_id_1> </s>\n",
      "########\n",
      "*******\n",
      "question: John ran out of pencils.  Where did  he go to get more?\n",
      "answer: office depot\n",
      "choices: ['desk drawer', 'cup', 'pencil case', 'shelf', 'office depot']\n",
      "common expl list: ['Office Depot is a store that sells office supplies, including pencils.', 'Office Depot is a company that specializes in office furniture; it also sells pens and pencils.', 'John can buy new pencils at an office depot.', 'When people need pencils (or pens), they often buy them at office depots.', 'Pencils can be found at an office supply store, e.g., an office depot.']\n"
     ]
    },
    {
     "name": "stderr",
     "output_type": "stream",
     "text": [
      "\r",
      "  3%|████▏                                                                                                                                                          | 26/986 [3:16:44<140:25:20, 526.58s/it]"
     ]
    },
    {
     "name": "stdout",
     "output_type": "stream",
     "text": [
      "generated explanation: <pad> <extra_id_0> If John ran out of pencils, he went to office depot to get some more. Office Depot is a popular retail outlet that specializes in providing office supplies and office furniture. It is a great place to pick up supplies like pencils, paper, and other office supplies. It is also a great place to pick up supplies like paper, pencils, and other writing instruments. Office Depot is a great place to find a variety of office supplies, such as paper, pencils, and other writing tools, as well as other office supplies, and other supplies. It is likely that John went to Office Depot to get more pencils. He went to the store and bought some at a local branch of the popular retail store. Office Depot is a nearby location, and they were stocked with pencils, but they were not in stock.<extra_id_1> </s>\n",
      "########\n",
      "*******\n",
      "question: What does a confident person do?\n",
      "answer: trust himself\n",
      "choices: ['feel important', 'own house', 'trust himself', 'know what time', 'cry']\n",
      "common expl list: ['People whose confidence is high tend to believe themselves more strongly, and so the confident person might believe in their own abilities and do things such as trust themselves.', 'A confident person is sure of his abilities and the trust in himself/herself to do things or accomplish goals.']\n"
     ]
    },
    {
     "name": "stderr",
     "output_type": "stream",
     "text": [
      "\r",
      "  3%|████▎                                                                                                                                                          | 27/986 [3:25:25<139:46:27, 524.70s/it]"
     ]
    },
    {
     "name": "stdout",
     "output_type": "stream",
     "text": [
      "generated explanation: <pad> <extra_id_0> A confident person is someone who has a high level of self-confidence and<extra_id_1> person who is confident in themselves tends to have a higher level of self-esteem and a greater sense of well-being. A confident person tends to put their trust in themselves and their abilities, and they tend to be more likely to make good decisions. A confident person is someone who is comfortable with their own abilities and judgment, and who is able to make decisions based on their own experience and judgment. A confident person is someone who is able to make sound decisions and is likely to be a strong leader. They may also be more likely to make decisions and take action in order to achieve their goals and objectives.<extra_id_1> </s>\n",
      "########\n",
      "*******\n",
      "question: James thought that analyzing all the data would help him learn more, but it did not.  It only gave him what?\n",
      "answer: headache\n",
      "choices: ['headache', 'better understanding', 'papercuts', 'enlightened', 'discovering truth']\n",
      "common expl list: ['Analysis requires a lot of thinking with maybe little reward, which can give one a headache.']\n"
     ]
    },
    {
     "name": "stderr",
     "output_type": "stream",
     "text": [
      "\r",
      "  3%|████▌                                                                                                                                                          | 28/986 [3:32:31<131:47:08, 495.23s/it]"
     ]
    },
    {
     "name": "stdout",
     "output_type": "stream",
     "text": [
      "generated explanation: <pad> <extra_id_0> If analyzing all the data would help you learn more, as James thought, it would only give you a headache. A headache is a physical pain that is caused by a mental or physical exhaustion or by experiencing some type of mental or physical stress. A headache is a common symptom of exhaustion or mental exhaustion and is often accompanied by other symptoms, such as fatigue or a loss of appetite. Analyzing all the data would help you learn more about something, but it would not necessarily help you learn more about yourself and your career. It is important to understand the effects of data and how to make meaningful decisions.<extra_id_1> </s>\n",
      "########\n",
      "*******\n",
      "question: What makes people happy when it is surprising and unexpected?\n",
      "answer: humor\n",
      "choices: ['joke', 'humor', 'frightened', 'fight', 'laughter']\n",
      "common expl list: ['A surprise is a stimulus that is not generally predicted before exposing it to a subject. It may be surprising things that cause laughter, or unexpected things that people see as funny.']\n"
     ]
    },
    {
     "name": "stderr",
     "output_type": "stream",
     "text": [
      "\r",
      "  3%|████▋                                                                                                                                                          | 29/986 [3:39:25<125:11:05, 470.91s/it]"
     ]
    },
    {
     "name": "stdout",
     "output_type": "stream",
     "text": [
      "generated explanation: <pad> <extra_id_0> It is not clear what makes people happy when it is surprising and unexpected. It is possible that it is a combination of factors, such as the presence of an unexpected guest, a funny joke, or a spontaneous moment of laughter. However, it is possible that being surprised and delighted by something can be a source of joy or satisfaction, and it may even be the reason for their happiness. It is possible that being surprised and delighted by something unexpected may make them happy, and this may be the case especially if it is a surprise or humor. It is also possible that the act of surprise may be part of a positive experience and enhance the overall mood.<extra_id_1> </s>\n",
      "########\n",
      "*******\n",
      "question: What is someone who wants a lot of money?\n",
      "answer: greedy\n",
      "choices: ['selfish', 'weird', 'greedy', 'ridiculous', 'hungry']\n",
      "common expl list: ['A person who is greedy wants more things that people typically take for granted, i.e., money, success, etc. This is a lot of stuff.', 'Greed is defined as \"the desire to obtain something, especially wealth, through selfish means, typically at the expense of others.', 'Greed is a strong desire to possess a lot of money; a greedy person therefore wants it a lot.']\n"
     ]
    },
    {
     "name": "stderr",
     "output_type": "stream",
     "text": [
      "\r",
      "  3%|████▊                                                                                                                                                          | 30/986 [3:49:00<133:19:06, 502.04s/it]"
     ]
    },
    {
     "name": "stdout",
     "output_type": "stream",
     "text": [
      "generated explanation: <pad> <extra_id_0> A person who wants a lot of money is someone who wants a lot of money. The word greedy is a broad term that refers to someone who wants to make a lot of money. It is often used to describe an individual who is insatiably interested in material things or who has a strong appetite for money. It is a common trait for people to want to make a lot of money or who are highly motivated to achieve a particular goal or outcome. It is important to note that the word greedy is used in the context of a person who is insatiable to spend their money on a regular basis. It is not necessarily a sign of a person who is insatiable to sustain a lifestyle that is sustainable or enjoyable. However, it may be a sign that someone is in a more traditional sense, as opposed to being motivated by the desire to gain financial gain.<extra_id_1> </s>\n",
      "########\n",
      "*******\n",
      "question: Where do you keep a book to read before bed?\n",
      "answer: bedside table\n",
      "choices: ['school room', 'allen key', 'classroom', 'bedside table', 'coffee table']\n",
      "common expl list: ['Bedside tables are convenient for keeping things, e.g., a book, reading materials, glasses, etc., that you wish to keep near your bed for regular access; particularly things.', 'Bedside tables are where people keep things they use before bed, such as books, glasses, and water.']\n"
     ]
    },
    {
     "name": "stderr",
     "output_type": "stream",
     "text": [
      "\r",
      "  3%|████▉                                                                                                                                                          | 31/986 [3:53:42<115:37:47, 435.88s/it]"
     ]
    },
    {
     "name": "stdout",
     "output_type": "stream",
     "text": [
      "generated explanation: <pad> <extra_id_0> A bedside table is a place where you might keep a book to read before you go to bed. A bedside table is a table or shelf that is typically placed beside a bed or other sleeping area that is often used for reading and relaxing. It is a convenient place to keep a book or other items while you are in bed, such as a lamp, magazine, or other reading material. It is a convenient place to keep a book or other reading material while you are in bed, and it can double as a bedside table, if you prefer to have a bedside book or two or more. If you prefer to keep a book on a bedside table, it is likely that you will choose a table or other surface that is equipped with a drawer or a drawer for storage.<extra_id_1> </s>\n",
      "########\n",
      "*******\n",
      "question: Where is a knight likely to be found in the US?\n",
      "answer: chess set\n",
      "choices: ['middle ages', 'chess set', 'historical novel', 'castle', 'guarding the king']\n",
      "common expl list: ['A knight is a piece in the game of chess, which is played on a chess set.']\n"
     ]
    },
    {
     "name": "stderr",
     "output_type": "stream",
     "text": [
      "\r",
      "  3%|█████▏                                                                                                                                                         | 32/986 [3:57:43<100:01:05, 377.43s/it]"
     ]
    },
    {
     "name": "stdout",
     "output_type": "stream",
     "text": [
      "generated explanation: <pad> <extra_id_0> In the United States, a knight is a piece of chessboard furniture that is typically made of wood and features a knight figure on it. Chess sets are often found in homes and other public places, and they are popular among people who enjoy playing chess and strategy games. Chess sets are often used for strategic and tactical purposes, and they are often used in conjunction with other games, such as checkers or chess. Knights are typically represented by a knight on a shield, a piece of cloth or other materials that are used in a chessboard game, or a related item, such as a piece of furniture, a piece of furniture, or a figurine that is significant to the game.<extra_id_1> </s>\n",
      "########\n",
      "*******\n",
      "question: Jack saw little point to communicating beyond the basics.  To him, it was just a means to do what?\n",
      "answer: exchange information\n",
      "choices: ['go swimming', 'making friends', 'exchange information', 'people to think', 'confusion']\n",
      "common expl list: [\"Keeping the communication sparse would allow him to conserve energy by speaking less. Since communication is just a means to exchanging information, Jack would not see much 'point', to say, a conversation beyond the basics.\"]\n"
     ]
    },
    {
     "name": "stderr",
     "output_type": "stream",
     "text": [
      "\r",
      "  3%|█████▎                                                                                                                                                          | 33/986 [4:01:48<89:25:03, 337.78s/it]"
     ]
    },
    {
     "name": "stdout",
     "output_type": "stream",
     "text": [
      "generated explanation: <pad> <extra_id_0> Communication is the act of exchanging information, usually for the purpose of gaining knowledge, understanding, or understanding. It is the act of exchanging information, ideas, or resources with another person, typically in order to further a common interest or task. Communication can take many forms, such as correspondence, email, text messaging, or face-to-face communication, and it can be used for a variety of purposes, such as exchanging ideas, opinions, or details about a person or event. Communication can also take the form of a simple exchange of information, such as a common interest or skill, or a way to establish a relationship. When communicating with someone outside of your organization, it is important to consider their perspective on the importance of the organization and the specific needs and preferences of the organization and the people who are involved.<extra_id_1> </s>\n",
      "########\n",
      "*******\n",
      "question: I as a person don't kill others, why do I not?\n",
      "answer: value life\n",
      "choices: ['experience pleasure', 'laws', 'value life', 'thank god', 'go into debt']\n",
      "common expl list: [\"Someone who does not kill might have a great deal of respect for life; as a person's life is valuable, the opposite is true about the act of taking a life.\"]\n"
     ]
    },
    {
     "name": "stderr",
     "output_type": "stream",
     "text": [
      "\r",
      "  3%|█████▌                                                                                                                                                          | 34/986 [4:04:46<76:37:28, 289.76s/it]"
     ]
    },
    {
     "name": "stdout",
     "output_type": "stream",
     "text": [
      "generated explanation: <pad> <extra_id_0> If I as a person don't kill others, why do I do so? Because I value life. Life is something that we have and we should value it. If I as a person don't kill others, I am not committing a crime. I may not kill another person because I value life more than anything else. Life is something that we should value and protect. If I as a person don't kill others, I am not committing a crime. This is because I value life and I believe that it is important to not kill another person. If I as a person don't kill others, I as a person don't think that I as a person. I as a person don't think that I am able to make a decision that is morally or ethically wrong.<extra_id_1> </s>\n",
      "########\n",
      "*******\n",
      "question: What is likely to be a child's reaction to going to play?\n",
      "answer: happiness\n",
      "choices: ['happiness', 'tears', 'sit', 'being entertained', 'laugh']\n",
      "common expl list: ['Children like to play.']\n"
     ]
    },
    {
     "name": "stderr",
     "output_type": "stream",
     "text": [
      "\r",
      "  4%|█████▋                                                                                                                                                          | 35/986 [4:06:07<60:00:07, 227.14s/it]"
     ]
    },
    {
     "name": "stdout",
     "output_type": "stream",
     "text": [
      "generated explanation: <pad> <extra_id_0> A child's reaction to going to play is likely to be happiness. Play is a time for children to let off steam and engage in activities that they find enjoyable and engaging. Playing is a great way for children to socialize with others and to develop social skills, build confidence, and gain experience. Playing can also provide a positive experience for children, as it can provide a fun and safe environment in which to explore their interests and abilities. Playing can also provide a child with the opportunity to express themselves through movement, and learn about themselves and others.<extra_id_1> </s>\n",
      "########\n",
      "*******\n",
      "question: Where could you find multiple ruler that are owned by different people?\n",
      "answer: office\n",
      "choices: ['measure distance', 'england', 'office', 'drawer', 'desk']\n",
      "common expl list: ['Office buildings often have rulers.', 'When someone works in an office, even if it is part-time or freelance, they may be required to measure distances e.g., in departments or cubicles, and so, offices are a good place to find ruler.']\n"
     ]
    },
    {
     "name": "stderr",
     "output_type": "stream",
     "text": [
      "\r",
      "  4%|█████▊                                                                                                                                                          | 36/986 [4:07:43<49:33:53, 187.83s/it]"
     ]
    },
    {
     "name": "stdout",
     "output_type": "stream",
     "text": [
      "generated explanation: <pad> <extra_id_0> You could find multiple rulers that are owned by different people. Offices are places where people work and have their affairs in order. They may have a filing system, a desk, and other furnishings, as well as other items that are used for a variety of purposes, such as filing documents, keeping records, or organizing their workspace. There are many different types of offices that you may visit, including government buildings, private companies, and educational institutions. One place where you may find multiple rulers that are owned by different people is an office, which is usually located in a formal or administrative building. If you are looking for multiple rulers that are owned by different people, they may be in an office or a desk.<extra_id_1> </s>\n",
      "########\n",
      "*******\n",
      "question: When remembering you referencing things that you have what?\n",
      "answer: prior knowledge of\n",
      "choices: ['memory cells', 'learning about', 'prior knowledge of', 'brain cells', 'nerve cells']\n",
      "common expl list: ['Most of the things a person knows come from learning in the past and usually have some recollection involved.']\n"
     ]
    },
    {
     "name": "stderr",
     "output_type": "stream",
     "text": [
      "\r",
      "  4%|██████                                                                                                                                                          | 37/986 [4:09:03<40:58:07, 155.41s/it]"
     ]
    },
    {
     "name": "stdout",
     "output_type": "stream",
     "text": [
      "generated explanation: <pad> <extra_id_0> When remembering you may refer to things that you have experienced in the past, such as a specific memory or an experience that you may have had in the past. Prior knowledge refers to the skills, knowledge, or experience that you have acquired or that you have possessed in the past. Prior knowledge refers to the skills, knowledge, or experience that you have gained from prior experiences, such as through education, training, or work experience. It can be used to help you recall and refer to specific details or information from the past that may be relevant to your current memory. It is important to have a strong sense of the context in which you are experiencing.<extra_id_1> </s>\n",
      "########\n",
      "*******\n",
      "question: After running twenty six miles he felt like he had lost twenty six pounds, this was from all the what?\n",
      "answer: sweat\n",
      "choices: ['exercise', 'sweat', 'pass out', 'collapse', 'drink water']\n",
      "common expl list: ['Sweating is a way to cool down the body, and so after running for a long time, a person might sweat a lot.']\n"
     ]
    },
    {
     "name": "stderr",
     "output_type": "stream",
     "text": [
      "\r",
      "  4%|██████▏                                                                                                                                                         | 38/986 [4:10:21<34:50:26, 132.31s/it]"
     ]
    },
    {
     "name": "stdout",
     "output_type": "stream",
     "text": [
      "generated explanation: <pad> <extra_id_0> If a person runs twenty six miles and feels like he has lost twenty six pounds, it is likely that this was from all the sweat that he has produced during the run. Sweat is a natural byproduct of the body's metabolic process and is produced when muscles contract in response to the energy expended in working and running. It is important for runners to drink plenty of water after running to help replenish and replenish lost nutrients and fluids. In addition, sweat can help to reduce body fat by promoting thermogenesis, which helps to reduce fat and muscle loss. By running, athletes may experience increased heart rate and pace.<extra_id_1> </s>\n",
      "########\n",
      "*******\n",
      "question: In what western sate might one find a bald eagle?\n",
      "answer: colorado\n",
      "choices: ['captivity', 'colorado', 'zoo', 'canada', 'in washington']\n",
      "common expl list: ['Eagles are native to the western United States, and Colorado is a western state.']\n"
     ]
    },
    {
     "name": "stderr",
     "output_type": "stream",
     "text": [
      "\r",
      "  4%|██████▎                                                                                                                                                         | 39/986 [4:12:10<32:56:03, 125.20s/it]"
     ]
    },
    {
     "name": "stdout",
     "output_type": "stream",
     "text": [
      "generated explanation: <pad> <extra_id_0> One might find a bald eagle in a western state, such as colorado. Colorado is a western state in the United States that is located in the Rocky Mountains. It is the second largest state in the western hemisphere after Alaska and is home to a diverse range of ecosystems, including forests, rivers, mountains, and deserts. The bald eagle is a large, bald eagle that is typically found in the western United States. It is a common sighting in Colorado, which is a state in the region. The species is found in many parts of the western United States, including Alaska, a state in the Midwest, and in Alaska. The birds are found in many parts of the country, including the<extra_id_1> </s>\n",
      "########\n",
      "*******\n",
      "question: When a retired person returns to work they likely need to do what?\n",
      "answer: earn money\n",
      "choices: ['key', 'earn money', 'get out of bed', 'need money', 'understand themselves']\n",
      "common expl list: ['When a person is retired, they probably are not making enough money through a pension benefit to support themselves after retirement, so they work again, perhaps full-time, in order to have enough money.(money key)']\n"
     ]
    },
    {
     "name": "stderr",
     "output_type": "stream",
     "text": [
      "\r",
      "  4%|██████▍                                                                                                                                                         | 40/986 [4:13:51<31:03:13, 118.17s/it]"
     ]
    },
    {
     "name": "stdout",
     "output_type": "stream",
     "text": [
      "generated explanation: <pad> <extra_id_0> When a retired person returns to work they likely need to earn money. Money is an important factor in allowing a person to maintain their standard of living and provide for their family. It is important for a retired person to have a source of income, such as through work, income, or pensions. It is important for a retired person to have a solid financial foundation and to be able to afford the necessary expenses, such as health insurance, retirement, and living expenses. It is important for a retired person to be able to earn money and earn a return to work is likely that they will need to earn money and do so in order to maintain their lifestyle and financial situation.<extra_id_1> </s>\n",
      "########\n",
      "*******\n",
      "question: What can be the result of meeting people with similar attitudes?\n",
      "answer: making new friends\n",
      "choices: ['anxiety', 'being bored', 'love', 'making new friends', 'new job']\n",
      "common expl list: [\"Friends often share some interests and/or attitudes, and when someone meets people with similar attires, that's a good indicator they might be good candidates for becoming friends.\", 'People with similar interests are likely to be friends, or familiars to each other, having many opportunities to meet each other and have things in common to discuss.']\n"
     ]
    },
    {
     "name": "stderr",
     "output_type": "stream",
     "text": [
      "\r",
      "  4%|██████▋                                                                                                                                                         | 41/986 [4:15:09<27:50:04, 106.04s/it]"
     ]
    },
    {
     "name": "stdout",
     "output_type": "stream",
     "text": [
      "generated explanation: <pad> <extra_id_0> Meeting people with similar attitudes can be a great way to make new friends. Friends are people who share common interests, values, and goals. Meeting people with similar attitudes can be beneficial because it can lead to new friendships and opportunities for growth and development. By meeting people with similar attitudes, you increase your chances of meeting new people and making new friends. Friendships can be a great way to meet new people and develop new skills and perspectives. It is important to remember that the people you meet at a meeting or event have a similar attitude and perspective and that you can make new friends and potentially lifelong relationships.<extra_id_1> </s>\n",
      "########\n",
      "*******\n",
      "question: Danny noticed a ceramic object on the table and picked a grape out of it.  What might have been on the table?\n",
      "answer: bowl of fruit\n",
      "choices: ['kitchen', 'painting of fruits', 'fruit basket', 'bowl of fruit', 'fruit stand']\n",
      "common expl list: ['A bowl of fruit is an appropriate item to put on a table, as it can hold many kinds of fruit.']\n"
     ]
    },
    {
     "name": "stderr",
     "output_type": "stream",
     "text": [
      "\r",
      "  4%|██████▊                                                                                                                                                          | 42/986 [4:16:23<25:16:39, 96.40s/it]"
     ]
    },
    {
     "name": "stdout",
     "output_type": "stream",
     "text": [
      "generated explanation: <pad> <extra_id_0> A ceramic object on the table might have been a bowl of fruit. A bowl of fruit is a ceramic or glass bowl that is typically used for storing fruit or other edible items. It is often used for serving fruit or snacks, such as grapes, apples, or oranges. The bowl of fruit or ceramic object is often used for holding fruit or other edible items, such as crackers, nuts, or dried fruit. It is not clear what exactly was on the table when Danny picked up the grape from the bowl. It is possible that the bowl of fruit was a bowl of fruit or a bowl of fruit.<extra_id_1> </s>\n",
      "########\n",
      "*******\n",
      "question: The nose dipped and alarms went off inside the what?\n",
      "answer: aircraft\n",
      "choices: ['car', 'sniff', 'aircraft', 'upper respiratory tract', 'missile']\n",
      "common expl list: ['The nose dips and alarms go off inside the cockpit of an aircraft when the nose of the aircraft dips too low.']\n"
     ]
    },
    {
     "name": "stderr",
     "output_type": "stream",
     "text": [
      "\r",
      "  4%|███████                                                                                                                                                          | 43/986 [4:17:41<23:46:51, 90.79s/it]"
     ]
    },
    {
     "name": "stdout",
     "output_type": "stream",
     "text": [
      "generated explanation: <pad> <extra_id_0> If the nose of an aircraft dipped and alarms went off inside, the aircraft may have experienced a mechanical issue or an external shock. This may have caused the aircraft to lose altitude or lose control, putting it at risk of a crash. There are several possible causes for this, including mechanical problems, damage to the aircraft, or a crash. In either case, the aircraft may have experienced a loss of altitude or may have experienced an external shock. In either case, the aircraft may have experienced a drifferences and alarms in the cockpit may have indicated that the crew is safe and secure.<extra_id_1> </s>\n",
      "########\n",
      "*******\n",
      "question: Where is a cord likely to be on a tent?\n",
      "answer: sporting goods store\n",
      "choices: ['inside tent', 'delivery room', 'hardware store', 'backpack', 'sporting goods store']\n",
      "common expl list: ['Sporting goods stores likely have tents on display which generally come with their cords.']\n"
     ]
    },
    {
     "name": "stderr",
     "output_type": "stream",
     "text": [
      "\r",
      "  4%|███████▏                                                                                                                                                         | 44/986 [4:19:08<23:28:15, 89.70s/it]"
     ]
    },
    {
     "name": "stdout",
     "output_type": "stream",
     "text": [
      "generated explanation: <pad> <extra_id_0> A tent cord is a type of tie or cord that is used to secure a tent to a pole or other object. Tent cords are often found in sporting goods stores and other retail outlets, and are used to secure tents to poles or other items. They are often used to hold a tent or other piece of equipment in place, such as a backpack, hiking stick, or tent. Tent cords are often found on tents, and they are often used to help secure a tent to a pole, and to provide a place to shop for sporting goods and equipment. They are also available at many different types of tents, and they are often found in a variety of stores and online retailers.<extra_id_1> </s>\n",
      "########\n",
      "*******\n",
      "question: The man reduced the town to rubble out of hate, what was his goal?\n",
      "answer: destroy enemy\n",
      "choices: ['wage war', 'play nice', 'fight enemy', 'stab to death', 'destroy enemy']\n",
      "common expl list: ['someone who is completely obsessed with destroying an enemy (going so far as to want them completely obliterated from existance) is not a person who is playing nice.']\n"
     ]
    },
    {
     "name": "stderr",
     "output_type": "stream",
     "text": [
      "\r",
      "  5%|███████▎                                                                                                                                                         | 45/986 [4:20:25<22:25:44, 85.81s/it]"
     ]
    },
    {
     "name": "stdout",
     "output_type": "stream",
     "text": [
      "generated explanation: <pad> <extra_id_0> If the man reduced the town to rubble out of hate, his goal was likely to be to destroy an enemy. An enemy is an individual or group that is considered to be an enemy to you or that you are hostile towards. In an effort to eliminate the threat posed by the enemy, you may choose to engage in hostilities with them. If you choose to engage in hostile acts against an enemy, you may find that your actions are motivated by hatred and a desire to harm or destroy the enemy. By committing an act of violence or in order to destroy a hostile environment, or to harm or destroy the enemy's property.<extra_id_1> </s>\n",
      "########\n",
      "*******\n",
      "question: The toddler thought it would be fun to try eating breakfast in bed, what resulted?\n",
      "answer: mess\n",
      "choices: ['contentment', 'indigestion', 'vomiting', 'mess', 'catastrophe']\n",
      "common expl list: [\"Toddlers like to explore and test their own boundaries. They often don't know their limits, and it's common for their behavior to result in a mess. In the toddler's case, it involved getting breakfast on the bed due to his inexperience\", \"Toddlers have poor coordination.  Even if they could somehow manage to not fall off the bed, it's likely that they would spill the food that they took with them to bed.  A mess would be made.\"]\n"
     ]
    },
    {
     "name": "stderr",
     "output_type": "stream",
     "text": [
      "\r",
      "  5%|███████▌                                                                                                                                                         | 46/986 [4:22:24<25:01:54, 95.87s/it]"
     ]
    },
    {
     "name": "stdout",
     "output_type": "stream",
     "text": [
      "generated explanation: <pad> <extra_id_0> If a toddler thought it would be fun to try eating breakfast in bed, they might have been more likely to make a mess than eat breakfast in a restaurant or other establishment. A mess in the bedroom is typically the result of a child trying to navigate their way through a maze or obstacle course. A mess in the bedroom is typically the result of a child trying to navigate their way through a maze or obstacle course and attempting to eat breakfast in bed. It is not clear what exactly happened during this experimentation or how much time has passed since the child has been able to play with his or her parents. If the toddler thought it would be fun for the child to try eating breakfast in bed, they may have created a mess to play with and explore new experiences.<extra_id_1> </s>\n",
      "########\n",
      "*******\n",
      "question: He had a hard time getting his father's attention, he hoped that the winning baseball game would finally get him some what?\n",
      "answer: recognition\n",
      "choices: ['confirmation', 'celebrating', 'pride', 'recognition', 'happiness']\n",
      "common expl list: ['One way to gain recognition from ones parents is by accomplishing things that they value. For example, children might hope to make their parents proud of them by excelling at sports.']\n"
     ]
    },
    {
     "name": "stderr",
     "output_type": "stream",
     "text": [
      "\r",
      "  5%|███████▋                                                                                                                                                         | 47/986 [4:23:48<24:07:23, 92.49s/it]"
     ]
    },
    {
     "name": "stdout",
     "output_type": "stream",
     "text": [
      "generated explanation: <pad> <extra_id_0> If he had a hard time getting his father's attention because he was a good student and a baseball player, he may have hoped that winning the game would finally get him some recognition. Recognition is an important factor in gaining acceptance and respect from others, and it can help to build a strong foundation for future relationships. Baseball is a popular sport that involves playing games and participating in activities that require physical activity and teamwork. Baseball is a game that requires players to use their skills and abilities to achieve goals and goals and achieve success. Recognition is oftentimes, but it is important for students to be aware of their achievements and achievements.<extra_id_1> </s>\n",
      "########\n",
      "*******\n",
      "question: The toddler is awaking from a nap, what doesn't he feel anymore?\n",
      "answer: tiredness\n",
      "choices: ['nervous', 'eyes opening', 'getting out of bed', 'tiredness', 'discomfort']\n",
      "common expl list: ['Children can easily get tired at their ontervall and a nap is an effective way for them to get over tiredness. Then when they wake up, they do not feel tiredness any longer.']\n"
     ]
    },
    {
     "name": "stderr",
     "output_type": "stream",
     "text": [
      "\r",
      "  5%|███████▊                                                                                                                                                         | 48/986 [4:24:58<22:19:34, 85.69s/it]"
     ]
    },
    {
     "name": "stdout",
     "output_type": "stream",
     "text": [
      "generated explanation: <pad> <extra_id_0> If the toddler is awaking from a nap, he may not feel tired. Tiredness is a common feeling that many toddlers have when they first wake up from a nap. It is a common feeling that many toddlers feel when they first wake up from a nap. Tiredness is a natural feeling that many toddlers feel when they wake up from a nap. It is common for toddlers to feel tired after a nap, and it is common for them to feel tired more easily than when they were sleeping.<extra_id_1> </s>\n",
      "########\n",
      "*******\n",
      "question: John listened to music when he needed to focus.  It helped him achieve what?\n",
      "answer: quiet mind\n",
      "choices: ['express emotion', 'beautifull', 'irritate', 'bad environment', 'quiet mind']\n",
      "common expl list: ['Music can, at the very least, provide passive background noise as one works to help one focus. More specifically, music might have positive, uplifting or emotional qualities that are conducive to focus and concentration.', \"There's scientific evidence that listening to music can help people think better and concentrate easier.\", \"When one is trying to focus on a task, it's common to listen to music to help one focus.\"]\n"
     ]
    },
    {
     "name": "stderr",
     "output_type": "stream",
     "text": [
      "\r",
      "  5%|████████                                                                                                                                                         | 49/986 [4:26:38<23:25:12, 89.98s/it]"
     ]
    },
    {
     "name": "stdout",
     "output_type": "stream",
     "text": [
      "generated explanation: <pad> <extra_id_0> If John listened to music when he needed to focus, it is possible that it helped him achieve a calm, relaxed state of mind. A calm, relaxed state of mind is a state of mental clarity and focus that is conducive to work, study, and other activities that require mental energy and concentration. Music can help to provide a relaxing and meditative experience, as well as help to focus the attention and energy of the listener. Music can also help to relax and calm the mind, allowing the listener to focus and focus. It is not clear and concise, but it is possible that John's use of music when he needed to achieve focus on his goals and objectives. It is important for him to be able to identify and pursue his goals and to achieve them.<extra_id_1> </s>\n",
      "########\n",
      "*******\n",
      "question: If I were to suffer from sudden illness I would be within reason to visit where?\n",
      "answer: hospital\n",
      "choices: ['nursing home', 'hospital', 'brain', 'elderly person', 'building']\n",
      "common expl list: ['A hospital is a place where people go to receive treatment for illnesses.', 'A hospital is a center for treatment and care of those suffering from illness.', 'Anyone can suffer a sudden illness, but hospitals are where the equipment and personnel exist to deal with sudden illnesses.', 'If you were suddenly suffering an illness, it would be a reasonable thing to go to the hospital for treatment of that illness.']\n"
     ]
    },
    {
     "name": "stderr",
     "output_type": "stream",
     "text": [
      "\r",
      "  5%|████████▏                                                                                                                                                        | 50/986 [4:28:06<23:11:02, 89.17s/it]"
     ]
    },
    {
     "name": "stdout",
     "output_type": "stream",
     "text": [
      "generated explanation: <pad> <extra_id_0> If I were to suffer from sudden illness it would be within reason to visit a hospital. A hospital is a place where people go to receive medical care and treatment, often in the event of an emergency or serious illness. A hospital is a place where people go to receive medical care and treatment for their injuries or illnesses. A hospital is a building that is used for the treatment and management of medical conditions and the treatment of injuries and illnesses. It is a place where people go to receive medical care and treatment for their injuries or illnesses and to recover from their conditions. They are also likely to visit a hospital if they are experiencing a sudden illness.<extra_id_1> </s>\n",
      "########\n",
      "*******\n",
      "question: John kept standing up.  He was afraid that if he were sitting down he might do something. What might he be afraid of?\n",
      "answer: fall asleep\n",
      "choices: ['fall asleep', 'being supported on chair', 'comfort', 'clowns', 'flatulence']\n",
      "common expl list: ['Sitting down makes one comfortable; sitting down with eyes closed makes one fall asleep.', 'When standing, the chances of falling asleep abruptly would be much less (assuming that one is awake).']\n"
     ]
    },
    {
     "name": "stderr",
     "output_type": "stream",
     "text": [
      "\r",
      "  5%|████████▎                                                                                                                                                        | 51/986 [4:29:32<22:55:02, 88.24s/it]"
     ]
    },
    {
     "name": "stdout",
     "output_type": "stream",
     "text": [
      "generated explanation: <pad> <extra_id_0> John kept standing up. He was afraid that if he were sitting down he might do something bad. This fear might cause him to avoid sitting down and instead focus on doing something else, such as reading or playing a game. If John were to sit down and fall asleep, he might do something bad or do something unexpected. One possibility is that he might fall asleep while sitting down and do something bad, such as fall asleep while playing a game or falling asleep while watching a movie. If John were to be afraid that if he were to fall asleep while reading or watching television, for example, would be to prevent him from sitting down and fall asleep.<extra_id_1> </s>\n",
      "########\n",
      "*******\n",
      "question: He didn't know that good things can be posion in large doses.  He thought that he was just eating an essential what?\n",
      "answer: nutrient\n",
      "choices: ['antidote', 'consumable', 'nutrient', 'vitamin', 'medicine']\n",
      "common expl list: ['He thought that he was just eating an essential nutrient, but in large doses, it could be poisonous.']\n"
     ]
    },
    {
     "name": "stderr",
     "output_type": "stream",
     "text": [
      "\r",
      "  5%|████████▍                                                                                                                                                        | 52/986 [4:30:49<22:02:12, 84.94s/it]"
     ]
    },
    {
     "name": "stdout",
     "output_type": "stream",
     "text": [
      "generated explanation: <pad> <extra_id_0> If he thought that he was eating an essential nutrient, it is likely that he was eating a large dose of that particular nutrient. Nutrients are substances that are essential for life and are essential for maintaining health and wellness. However, if you are eating a large dose of a particular nutrient, it is likely that you are also ingesting a large quantity of that particular nutrient, which may be toxic in large doses.<extra_id_1> Nutrients are substances that are essential for human health and are believed to provide energy and other benefits.<extra_id_1> </s>\n",
      "########\n",
      "*******\n",
      "question: The police didn't pay any favors, their job was to what?\n",
      "answer: force law\n",
      "choices: ['force law', 'board vessels', 'arrest', 'arm weapons', 'direct traffic']\n",
      "common expl list: ['Police are usually tasked with upholding the law, and if they see a law being broken they will intervene (forceful intervention); moreover, they also coordinate with other officers (direct traffic and board vessels). These activities do not involve favors.']\n"
     ]
    },
    {
     "name": "stderr",
     "output_type": "stream",
     "text": [
      "\r",
      "  5%|████████▋                                                                                                                                                        | 53/986 [4:32:17<22:14:13, 85.80s/it]"
     ]
    },
    {
     "name": "stdout",
     "output_type": "stream",
     "text": [
      "generated explanation: <pad> <extra_id_0> The job of the police was to enforce the law, and they did this by applying the laws of force and justice. The law enforcement officers' primary job was to ensure that the laws of the land were being upheld and enforced. This may include stopping and frisking, searching, and arresting violaters, and isolating them from the public. The police also had the responsibility for maintaining order and maintaining the public's safety. The police also had the responsibility for enforcing the laws and regulations of the country, and they were trained to do so. The job of the police was to enforce the law and make sure that the laws were being followed.<extra_id_1> </s>\n",
      "########\n",
      "*******\n",
      "question: The place specialized in colorful arrangements, but the also had a toy balloon or two where?\n",
      "answer: flower shop\n",
      "choices: ['see work', 'birthday party', 'flower shop', 'parade', 'toy store']\n",
      "common expl list: ['Batches of balloons are available at flower shops, where floral arrangements are sold, and rainbow contruction paper is usually found in art shops and classrooms.', 'Flower shops sell interesting arrangements made with colorful flowers.']\n"
     ]
    },
    {
     "name": "stderr",
     "output_type": "stream",
     "text": [
      "\r",
      "  5%|████████▊                                                                                                                                                        | 54/986 [4:34:05<23:59:05, 92.65s/it]"
     ]
    },
    {
     "name": "stdout",
     "output_type": "stream",
     "text": [
      "generated explanation: <pad> <extra_id_0> A flower shop is a retail establishment that specializes in selling floral arrangements and other decorative items. It is often a favorite destination for people who are looking for unique gifts, flowers, plants, or other types of gifts. Flower shops often have a variety of different items, including plants, candles, jewelry, and other decorative items. In addition to fresh flowers, many flower shops also offer a variety of other products, such as gift baskets, candles, plants, and other home décor items. If you are looking for a gift for someone special occasion, such as a birthday, anniversary, or just for yourself, or for someone else. Flower shops are often a place where people can find unique and diverse selection of arrangements, including a wide range of items, including fresh and artificial flowers, as well as a variety of other types of arrangements, including arrangements, and gifts.<extra_id_1> </s>\n",
      "########\n",
      "*******\n",
      "question: Where was there never any mammoth?\n",
      "answer: zoo\n",
      "choices: ['wild', 'north dakota', 'forest', 'movie', 'zoo']\n",
      "common expl list: ['Mammoths are extinct, and zoos are places where animals are kept for observation and study.']\n"
     ]
    },
    {
     "name": "stderr",
     "output_type": "stream",
     "text": [
      "\r",
      "  6%|████████▉                                                                                                                                                        | 55/986 [4:35:55<25:19:09, 97.90s/it]"
     ]
    },
    {
     "name": "stdout",
     "output_type": "stream",
     "text": [
      "generated explanation: <pad> <extra_id_0> In a zoo, there was never any mammoth in existence. A mammoth is a large animal that lives in a confined space, such as a fenced enclosure or a enclosure. Zoos are places that are designed to house and exhibit various animals and creatures, such as primates, chimpanzees, giraffes, otters, and bison, and they are often used as a showcase for exhibiting and studying different species of animals and exhibit a variety of animals, including mammmoths, and other exotic species. If you are in the a zoo, it is likely that you are in a fenced-fenced enclosure or a live mammoth is a good place to find a mamak.<extra_id_1> </s>\n",
      "########\n",
      "*******\n",
      "question: Why do most people engage in chatting with friends?\n",
      "answer: fun\n",
      "choices: ['fun', 'love', 'answers', 'inspiration', 'relaxation']\n",
      "common expl list: ['Chats with friends are often fun, and thus people engage in them for that reason.']\n"
     ]
    },
    {
     "name": "stderr",
     "output_type": "stream",
     "text": [
      "\r",
      "  6%|█████████▏                                                                                                                                                       | 56/986 [4:37:15<23:51:06, 92.33s/it]"
     ]
    },
    {
     "name": "stdout",
     "output_type": "stream",
     "text": [
      "generated explanation: <pad> <extra_id_0> Most people engage in chatting with friends for fun. Chatting with friends can be a fun and social way to spend time with others, and it can be a great way to meet new people, share interests, and get to know more about them. Chatting with friends can also be a great way to relax and unwind, and it can be particularly effective for those who are experiencing a particular life stage or who are looking for new experiences. There are many different ways in which people can chat with their friends, whether it is through instant messaging, or by calling, texting, or calling their friends.<extra_id_1> </s>\n",
      "########\n",
      "*******\n",
      "question: What could happen after discovering truth that you did not want to know?\n",
      "answer: pain\n",
      "choices: ['pain', 'relief', 'grey hair', 'understanding', 'enlightenment']\n",
      "common expl list: ['Truth can be painful, and discovering it can cause pain.']\n"
     ]
    },
    {
     "name": "stderr",
     "output_type": "stream",
     "text": [
      "\r",
      "  6%|█████████▎                                                                                                                                                       | 57/986 [4:38:31<22:35:30, 87.55s/it]"
     ]
    },
    {
     "name": "stdout",
     "output_type": "stream",
     "text": [
      "generated explanation: <pad> <extra_id_0> If you discovered truth that you did not want to know, it is possible that you may experience pain. Pain is a common emotion that people experience when confronted with the truth that they do not want to know or that they do not want to accept. When you discover truth that you did not want to know, it is common for people to feel upset or angry about it. This is a normal and common reaction to learning the truth. However, it is important to remember that pain is not the only possible emotion that may accompany the discovery of a painful experience. It is possible that you may experience pain and suffering.<extra_id_1> </s>\n",
      "########\n",
      "*******\n",
      "question: What will an athlete do to warm up their legs?\n",
      "answer: jog\n",
      "choices: ['use heater', 'sprint', 'jog', 'run fast', 'compete']\n",
      "common expl list: ['When athletes warm up before swimming, running, riding a bike, or performing other physical activity, they generally will jog (which will help them loosen muscles in the legs).', 'warming up is a routine that is performed to either prepare for doing something new, or prepare for doing something which put strains on you, or which you have been out of practice doing.']\n"
     ]
    },
    {
     "name": "stderr",
     "output_type": "stream",
     "text": [
      "\r",
      "  6%|█████████▍                                                                                                                                                       | 58/986 [4:40:15<23:51:12, 92.53s/it]"
     ]
    },
    {
     "name": "stdout",
     "output_type": "stream",
     "text": [
      "generated explanation: <pad> <extra_id_0> An athlete will typically warm up their legs by jogging. Jogging is a popular form of cardiovascular exercise that involves moving quickly and efficiently on a flat surface, typically a track or a field. It is a common and effective way for athletes to warm up their legs and cardiovascular system. Jogging can help to warm up the muscles and joints of the legs and can help to improve the range of motion and flexibility of the legs. Jogging can also help to improve the endurance and flexibility of the legs, which is a good way to warm up the legs and improve the efficiency of the athlete by allowing them to move more efficiently and efficiently. It is important for athletes to warm up their legs before competing and for athletes to perform any intense or prolonged periods of activity that will help to achieve maximum benefit from their training.<extra_id_1> </s>\n",
      "########\n",
      "*******\n",
      "question: Where can you keep your binder on your person between periods of instruction?\n",
      "answer: backpack\n",
      "choices: ['class room', 'car', 'office supply store', 'backpack', 'bookcase']\n",
      "common expl list: ['Usually binder users carry their binders from class to class outside of the classroom. Backpacks are often convenient, and are large enough to hold the binder.']\n"
     ]
    },
    {
     "name": "stderr",
     "output_type": "stream",
     "text": [
      "\r",
      "  6%|█████████▋                                                                                                                                                       | 59/986 [4:41:56<24:29:35, 95.12s/it]"
     ]
    },
    {
     "name": "stdout",
     "output_type": "stream",
     "text": [
      "generated explanation: <pad> <extra_id_0> You can keep your binder on your person between periods of instruction. A binder is a small book or document that is typically used for organizing and storing information. Binders are typically small, lightweight items that are typically worn on a person and are often used in conjunction with other school materials, such as course materials, homework, or notes. When you are in school, it is common for students to carry a binder or similar item with them in order to facilitate travel and study. Binders are typically made of durable materials, such as paper or electronic versions. If you are considering carrying a backpack, it is likely that you will be able to keep your binder on your person and during each time period, depending on the specific needs of your school or college or university.<extra_id_1> </s>\n",
      "########\n",
      "*******\n",
      "question: In the middle of the day what will someone do because of being hungry?\n",
      "answer: have lunch\n",
      "choices: ['cook dinner', 'make bread', 'eat in restaurant', 'have lunch', 'make bread']\n",
      "common expl list: ['People often eat lunch at midday, and so, if they are hungry at midday, they might go to a restaurant to eat lunch.', \"It's common for folks to have lunch during the middle of the day.\"]\n"
     ]
    },
    {
     "name": "stderr",
     "output_type": "stream",
     "text": [
      "\r",
      "  6%|█████████▊                                                                                                                                                       | 60/986 [4:43:06<22:28:15, 87.36s/it]"
     ]
    },
    {
     "name": "stdout",
     "output_type": "stream",
     "text": [
      "generated explanation: <pad> <extra_id_0> If someone is hungry in the middle of the day, they may choose to have lunch as an alternative to having a snack or meal. Because being hungry in the middle of the day can make someone uncomfortable and cause them to make poor food choices, such as skipping lunch or skipping it altogether. In order to combat this, people may choose to have lunch in the middle of the day, in order to provide the energy and nutrients they need to sustain themselves and their families. In order to prevent this from happening, people may choose to have lunch at a time when they are not as hungry.<extra_id_1> </s>\n",
      "########\n",
      "*******\n",
      "question: Where is garbage brought to by garbagemen?\n",
      "answer: landfill\n",
      "choices: ['trashcan', 'landfill', 'television', 'computer', 'dumpster']\n",
      "common expl list: ['Landfills are where all the trash in the city go to.']\n"
     ]
    },
    {
     "name": "stderr",
     "output_type": "stream",
     "text": [
      "\r",
      "  6%|█████████▉                                                                                                                                                       | 61/986 [4:44:47<23:32:47, 91.64s/it]"
     ]
    },
    {
     "name": "stdout",
     "output_type": "stream",
     "text": [
      "generated explanation: <pad> <extra_id_0> Garbage is brought to a landfill by garbagemen. A landfill is a place where waste is disposed of in a controlled environment, such as a landfill or a local waste disposal facility. Landfills are places where waste is disposed of in a controlled environment, such as a waste collection facility or a landfill. They are typically located in urban areas or rural areas, and they are used for a variety of purposes, such as waste disposal, recycling, or the disposal of recyclable materials, such as household garbage. They are typically located near or adjacent to a landfill is a place where garbage is disposed of in a landfill or recycling facility. If garbage is brought to a landfill, it is disposed of there and a variety of other types of trash is disposed of in order to create a landfill.<extra_id_1> </s>\n",
      "########\n",
      "*******\n",
      "question: What are people doing when washing hands for a long time?\n",
      "answer: thinking\n",
      "choices: ['thinking', 'sleeping', 'use soap', 'irritation', 'cleaning dirt off']\n",
      "common expl list: ['People often just pause while washing their hands. It may be that they are thinking about something while this occurs naturally.', 'People often think about things while they are washing their hands, and this is a good time to think about things.']\n"
     ]
    },
    {
     "name": "stderr",
     "output_type": "stream",
     "text": [
      "\r",
      "  6%|██████████                                                                                                                                                       | 62/986 [4:45:59<21:57:04, 85.52s/it]"
     ]
    },
    {
     "name": "stdout",
     "output_type": "stream",
     "text": [
      "generated explanation: <pad> <extra_id_0> When people are washing their hands for a long time, they are likely to be doing a variety of activities, including thinking, talking, and breathing. Washing hands requires concentration and patience, and it can take a while to achieve the desired results. As people wash their hands, they are likely to be doing a variety of activities, including thinking, talking, and breathing. This type of activity requires a lot of concentration and can be very mentally demanding. It is not clear why people would want to wash their hands for so long, but it may be because they are thinking about the problem at hand.<extra_id_1> </s>\n",
      "########\n",
      "*******\n",
      "question: What would someone say about a tube television?\n",
      "answer: obsolete\n",
      "choices: ['obsolete', 'addictive', 'entertaining', 'bycone', 'legal']\n",
      "common expl list: ['Tube televisions are no longer manufactured, and are therefore obsolete.', 'Tube televisions are obsolete, meaning that they are old and was abolished by newer technology.']\n"
     ]
    },
    {
     "name": "stderr",
     "output_type": "stream",
     "text": [
      "\r",
      "  6%|██████████▎                                                                                                                                                      | 63/986 [4:47:35<22:44:42, 88.71s/it]"
     ]
    },
    {
     "name": "stdout",
     "output_type": "stream",
     "text": [
      "generated explanation: <pad> <extra_id_0> It is common for people to say that a tube television is an obsolete device. Tube televisions are typically equipped with a set of speakers and a display screen. They are typically used in homes and businesses as a means of providing entertainment and information to viewers. However, some people may disagree with this view and feel that tubes are an outdated technology. They may also think that tubes are an inefficient and inefficient way of delivering video signals to the eye. Tube televisions are typically equipped with a number of different features, including: a tube, or a digital tube. They are considered to be obsolete because they are no longer used in homes and are being replaced with digital video or an alternative, digital television.<extra_id_1> </s>\n",
      "########\n",
      "*******\n",
      "question: The man drank his coffee at work?\n",
      "answer: office\n",
      "choices: ['coffee shop', 'table', 'kitchen', 'office', 'chair']\n",
      "common expl list: ['People often drink coffee at offices, with other co-workers.', 'The man is likely to be at work, and offices often have kitchens where coffee is made.', 'The man probably works in an office where he could have a cup of coffee while behind his desk.']\n"
     ]
    },
    {
     "name": "stderr",
     "output_type": "stream",
     "text": [
      "\r",
      "  6%|██████████▍                                                                                                                                                      | 64/986 [4:49:17<23:44:05, 92.67s/it]"
     ]
    },
    {
     "name": "stdout",
     "output_type": "stream",
     "text": [
      "generated explanation: <pad> <extra_id_0> If the man drank his coffee at work, it is likely that he was working in an office or similar work environment where he was likely to be exposed to other people and their work. This may include meetings, conferences, and other events that might be taking place, as well as taking place in a public space or outside the home. If the man drank his coffee at work, it is likely that he was doing so in order to concentrate on his work and to avoid disturbing others.<extra_id_1> Offices are often places in which people who work there may have access to facilities such as bathrooms, and a kitchenette, and other amenities, such as coffee and tea are common areas in which people can relax and work in a variety of settings, and people can easily access the Internet and use of the facilities.<extra_id_1> </s>\n",
      "########\n",
      "*******\n",
      "question: What can he do to eliminate his ignorance?\n",
      "answer: learn new\n",
      "choices: ['find information', 'judge', 'do some research', 'find truth', 'learn new']\n",
      "common expl list: [\"Learning is a way to eliminate ignorance; for example, learning a foreign language is one way to eliminate ignorance of that language's grammar.\", 'Ignorance is the state of not knowing something, and to eliminate ignorance, one must learn new things.', 'In this context, ignorance refers to a lack of knowledge, and obtaining new knowledge is the best way to eliminate the ignorance.']\n"
     ]
    },
    {
     "name": "stderr",
     "output_type": "stream",
     "text": [
      "\r",
      "  7%|██████████▌                                                                                                                                                      | 65/986 [4:50:31<22:19:59, 87.30s/it]"
     ]
    },
    {
     "name": "stdout",
     "output_type": "stream",
     "text": [
      "generated explanation: <pad> <extra_id_0> One way that a person can eliminate their ignorance is to learn new things. One way that a person can do to eliminate their ignorance is to learn new things. Learning new things is one way that a person can improve their knowledge and skills, and thereby eliminate their ignorance. It is important for a person to remain informed about the world around them and to remain open to new ideas, perspectives, and perspectives. In order to do this, it is important for a person to be aware of and accept the fact that they may be ignorant and to seek out information that can help to eliminate their ignorance.<extra_id_1> </s>\n",
      "########\n",
      "*******\n",
      "question: What do humans do when in a race?\n",
      "answer: compete with each other\n",
      "choices: ['lay eggs', 'eat fruit', 'wrestle', 'compete with each other', 'draw pictures']\n",
      "common expl list: ['Humans are naturally athletic and competitive. On land, people will compete with each other by running or wrestling. Often humans race on water by swimming, or by boating with other people.']\n"
     ]
    },
    {
     "name": "stderr",
     "output_type": "stream",
     "text": [
      "\r",
      "  7%|██████████▊                                                                                                                                                      | 66/986 [4:51:46<21:18:16, 83.37s/it]"
     ]
    },
    {
     "name": "stdout",
     "output_type": "stream",
     "text": [
      "generated explanation: <pad> <extra_id_0> When humans are in a race, they compete with each other. A race is a competition that takes place between two or more individuals in order to determine who is the fastest, strongest, and most agile. It is a form of competition that is intended to test the skills and abilities of participants, and to determine who will be the strongest, fastest, and most agile. When humans are in a race, they may compete with each other for position, advantage, or both. In a race, participants may compete against each other in order to achieve a certain goal or advantage over another.<extra_id_1> </s>\n",
      "########\n",
      "*******\n",
      "question: She explained that you won't always get what you want with a goal, but you should still do what with it?\n",
      "answer: reach for\n",
      "choices: ['know how to find', 'work hard', 'remember where', 'reach for', 'purchase']\n",
      "common expl list: ['Reaching for attained goals is more beneficial than simply working towards them, at least in the short term. It significantly increases your chances of success.']\n"
     ]
    },
    {
     "name": "stderr",
     "output_type": "stream",
     "text": [
      "\r",
      "  7%|██████████▉                                                                                                                                                      | 67/986 [4:53:11<21:27:53, 84.08s/it]"
     ]
    },
    {
     "name": "stdout",
     "output_type": "stream",
     "text": [
      "generated explanation: <pad> <extra_id_0> A goal is a set of objectives or a goal that you want to achieve. Goals are statements or intentions that you have that you want to achieve. They can be broad, specific, or vague, and they may be tied to a particular situation or activity. However, they can be used as a springboard for exploring different options and exploring different aspects of yourself and your life. When you have a goal or an objective that you want to achieve, you can use it as a tool to help guide your actions and decisions and to achieve your goals. Reaching for a goal is a powerful tool that can help you reach your goals and achieve your dreams and keep moving forward with a sense of accomplishment.<extra_id_1> </s>\n",
      "########\n",
      "*******\n",
      "question: What happens when you eat hamburger too fast without swallowing?\n",
      "answer: choking\n",
      "choices: ['get full', 'drink', 'choking', 'hungry', 'getting fat']\n",
      "common expl list: [\"If you eat hamburger too fast, you might choke on it, because it's a solid food that can get stuck in your throat.\", 'Eating too fast can sometimes cause coughing / choking as food get stuck in your throat.', \"When you eat hamburger too fast, it can quickly turn into the consistency of a block, and when you can't swallow it, it can cause you to choke.\", \"Choking can occur when you stick stuff in your mouth which can't go down your throat properly, so that you can't breath. Common causes can be eating too fast, or swallowing items that can't go down your throat, like liquids or large\"]\n"
     ]
    },
    {
     "name": "stderr",
     "output_type": "stream",
     "text": [
      "\r",
      "  7%|███████████                                                                                                                                                      | 68/986 [4:54:41<21:49:53, 85.61s/it]"
     ]
    },
    {
     "name": "stdout",
     "output_type": "stream",
     "text": [
      "generated explanation: <pad> <extra_id_0> If you eat hamburger too fast without swallowing, you may experience choking symptoms. Choking symptoms can occur when you eat hamburger too fast without swallowing. Choking is a medical term that refers to the involuntary obstruction of the airway caused by the force of inhalation and ingestion of food. It is not clear what may cause choking or what may be the cause of choking if you eat hamburger too fast without swallowing. If you eat hamburger too fast without swallowing, you may experience difficulties breathing or choking. If you experience difficulty breathing, you may experience symptoms, and emergency medical attention. If you need assistance with your stomach or receiving medical attention if necessary.<extra_id_1> </s>\n",
      "########\n",
      "*******\n",
      "question: John sat in a folding chair in a bit room with a stage.  What sort of room could that be?\n",
      "answer: auditorium\n",
      "choices: ['room', 'auditorium', 'meeting hall', 'school', 'church']\n",
      "common expl list: ['An auditorium is a large room that is used for public events, such as concerts, plays, and speeches.']\n"
     ]
    },
    {
     "name": "stderr",
     "output_type": "stream",
     "text": [
      "\r",
      "  7%|███████████▎                                                                                                                                                     | 69/986 [4:56:46<24:52:52, 97.68s/it]"
     ]
    },
    {
     "name": "stdout",
     "output_type": "stream",
     "text": [
      "generated explanation: <pad> <extra_id_0> A bit room with a stage is a room that is typically used for performances or performances. Auditoriums are large, open rooms that are often used for performances or presentations. They are often equipped with a variety of amenities, such as seating, lighting, and stage equipment, and they are often used as venues for public events, such as concerts, plays, and sporting events. John sat in a folding chair in a bit room with a bit stage, such as a dance or acting stage, and they often have a large, open-air layout and are equipped with a variety of seating and moving platforms, which are used for performances, or venues, and they may be equipped with other types of equipment, such as a microphone, or with a sound system, and the stage area was likely to be a large, open-air, indoor areas, or auditoriums. Auditoriums, or simply larger venues.<extra_id_1> </s>\n",
      "########\n",
      "*******\n",
      "question: What would an adult man do to get ready for work?\n",
      "answer: dress himself\n",
      "choices: ['dress herself', 'shower', 'dress himself', 'drink beer', 'drive train']\n",
      "common expl list: ['Adult males commonly wear suits to work. Men might get dressed in the morning, particularly if they plan on wearing a suit for work.', 'An adult man would dress himself for work: this includes putting on pants, shirts, and dresses, and typical choices are professional clothes, such as suit and tie.']\n"
     ]
    },
    {
     "name": "stderr",
     "output_type": "stream",
     "text": [
      "\r",
      "  7%|███████████▍                                                                                                                                                     | 70/986 [4:58:05<23:22:22, 91.86s/it]"
     ]
    },
    {
     "name": "stdout",
     "output_type": "stream",
     "text": [
      "generated explanation: <pad> <extra_id_0> An adult man would do to get ready for work is to dress himself. Dressing is a common way for men to get ready for work and to prepare for the day. It is important for men to dress appropriately for work and to ensure that they look and feel their best. It is also important for men to have the right tools and accessories to facilitate their work and to facilitate their progress. When preparing for work, men may choose from a variety of different options when it comes to choosing the appropriate footwear, clothing, and accessories. If a man is an adult man, he will likely do this in order to be ready for the day ahead.<extra_id_1> </s>\n",
      "########\n",
      "*******\n",
      "question: What does one do at an office?\n",
      "answer: work\n",
      "choices: ['work', 'school building', 'workplace', 'skyscraper', 'public building']\n",
      "common expl list: ['One does work at the office', 'An office is a place where people work.', 'An office is a specific type of workplace.']\n"
     ]
    },
    {
     "name": "stderr",
     "output_type": "stream",
     "text": [
      "\r",
      "  7%|███████████▌                                                                                                                                                     | 71/986 [4:59:51<24:27:13, 96.21s/it]"
     ]
    },
    {
     "name": "stdout",
     "output_type": "stream",
     "text": [
      "generated explanation: <pad> <extra_id_0> One of the things that one does at an office is work. An office is a place where people come together to conduct business and to carry out other tasks. Offices are often large, open spaces that are used for a variety of purposes, such as meetings, conferences, or research. In an office, people may be required to wear a variety of uniforms, such as a suit, a computer, or other pieces of equipment. They may also be equipped with a variety of technology devices, such as a printer, a place of work, and one may be challenged by the work. If one is employed, one may be responsible for a variety of tasks that are performed in a formal or informal setting, such as a person may be considered as a place where one may be a flexible or even more complex, high-level work, or a supervisory position.<extra_id_1> </s>\n",
      "########\n",
      "*******\n",
      "question: When a person is on trial for killing, what is a jury likely to decide?\n",
      "answer: punishment\n",
      "choices: ['execution', 'investigation', 'going to jail', 'retribution', 'punishment']\n",
      "common expl list: ['A person who has just killed another person often goes to trial, so the jury will likely have to decide what the most just punishment is.', 'A jury is likely to decide that the person is guilty of the crime, and punish them accordingly.', 'When a jury decides that someone is guilty of a crime, they typically hand down a punishment.']\n"
     ]
    },
    {
     "name": "stderr",
     "output_type": "stream",
     "text": [
      "\r",
      "  7%|███████████▊                                                                                                                                                     | 72/986 [5:01:24<24:12:29, 95.35s/it]"
     ]
    },
    {
     "name": "stdout",
     "output_type": "stream",
     "text": [
      "generated explanation: <pad> <extra_id_0> When a person is on trial for killing, a jury is likely to decide on punishment. Punishment is the measure that a jury would use to punish the person who killed the person. It can include fines, jail time, or other forms of legal action. A jury could also decide to seek the life or limbs of the person accused of killing the person. If a person is on trial for killing another person, they may be awarded a death penalty or other form of justice as a result of the crime. A jury may decide on a variety of factors, including the nature and circumstances of the case and the evidence presented by the witness. A jury would likely decide on a person's innocence or guilty or innocent plea, and whether the evidence would support the prosecution and argumentative.<extra_id_1> </s>\n",
      "########\n",
      "*******\n",
      "question: Most adult Americans split their time between home and what?\n",
      "answer: work\n",
      "choices: ['tent', 'work', 'apartment', 'the office', 'foreign']\n",
      "common expl list: ['Home and work may be the two places where most adult Americans spend most of their waking hours.', 'Most adults spend most of their time at work.']\n"
     ]
    },
    {
     "name": "stderr",
     "output_type": "stream",
     "text": [
      "\r",
      "  7%|███████████▉                                                                                                                                                     | 73/986 [5:02:38<22:29:57, 88.72s/it]"
     ]
    },
    {
     "name": "stdout",
     "output_type": "stream",
     "text": [
      "generated explanation: <pad> <extra_id_0> It is not clear how Americans<extra_id_1> adults typically split their time between work and home. There are many different types of split-time arrangements that people may have, such as the traditional work week and the flexible job schedule. However, there is some evidence that Americans may spend more time at home, working on personal projects or taking part in paid work. This is consistent with studies that show that Americans spend more time at home than any other type of work, such as school, volunteering, or working full-time, and that many people may choose to split their time between work and family obligations, such as child care or child care.<extra_id_1> </s>\n",
      "########\n",
      "*******\n",
      "question: Professionally the fighters always maintained a level of respect, but personally they held each other in what for things that were said?\n",
      "answer: contempt\n",
      "choices: ['belittlement', 'humiliate', 'irreverence', 'contempt', 'love']\n",
      "common expl list: ['Despite the respect that was maintained by the respectful fighters, the feelings that they had for each other were always a sense of contempt for each others character.']\n"
     ]
    },
    {
     "name": "stderr",
     "output_type": "stream",
     "text": [
      "\r",
      "  8%|████████████                                                                                                                                                     | 74/986 [5:04:00<22:01:47, 86.96s/it]"
     ]
    },
    {
     "name": "stdout",
     "output_type": "stream",
     "text": [
      "generated explanation: <pad> <extra_id_0> Professionally the fighters always maintained a level of respect between themselves, but personally they held each other in contempt. Contempt is a term that refers to a negative or demeaning attitude toward another person. It is often used in the context of fighting and fighting games, and it refers to the treatment of another person that is considered to be offensive or harmful. Contempt is often associated with aggressive or violent behavior, and it can be used in many different contexts, including personal attacks, verbal abuse, and bullying. It is important for fighters to be aware of the fact that they are capable of maintaining a level of respect for each other's integrity and integrity.<extra_id_1> </s>\n",
      "########\n",
      "*******\n",
      "question: Where would you find many tables of silverware rolled into nice displayed napkins?\n",
      "answer: restaurant\n",
      "choices: ['silver', 'park', 'table', 'cupboard', 'restaurant']\n",
      "common expl list: ['Restaurants often have a lot of silverware, and they might roll it up and place it in a napkin to make it easier to store.', 'Restaurants often give used, rolled up silverware to customers, and they might keep them in nice, displayed napkins to make moving and storing them easier.', 'In a commercial establishment, silverware is expected to be clean because consumption of food is involved. So, a restaurant may well be where someone would expect to find silverware rolled into nice displayed napkins (i.e., fancy silverware).']\n"
     ]
    },
    {
     "name": "stderr",
     "output_type": "stream",
     "text": [
      "\r",
      "  8%|████████████▏                                                                                                                                                    | 75/986 [5:06:09<25:10:07, 99.46s/it]"
     ]
    },
    {
     "name": "stdout",
     "output_type": "stream",
     "text": [
      "generated explanation: <pad> <extra_id_0> You would find many tables of silverware rolled into nice displayed napkins at a restaurant. A restaurant is a commercial establishment that serves food and beverages to its customers, typically in the form of food and beverages such as drinks, snacks, and desserts. Silverware is often used in restaurants as a means of presenting and protecting the silverware at the table. Many restaurants have a variety of menus and seating arrangements to accommodate different tastes and preferences. Restaurants often have a variety of menus and service options, including international and traditional American cuisines. They may be served in many different areas, including areas, such as main courses, side dishes, and desserts. If you are visiting a restaurant, you may find tables with silverware rolls or trays in various areas, such as tables, chairs, and other items, such as glasses, knives, and other items such as wine and beer glasses, as well as desserts, such as desserts, drinks, and other items, such as desserts, and a restaurant's.<extra_id_1> </s>\n",
      "########\n",
      "*******\n",
      "question: He didn't believe fate controlled situations, what did he believe people did?\n",
      "answer: control events\n",
      "choices: ['control events', 'pray', 'dress themselves', 'talk to each other', 'think creatively']\n",
      "common expl list: [\"If one believes fate controls events, there's nothing to do but accept situation, perhaps to pray; in contrast, if one believed they had control over events, then they could act to change the situation.\", 'If one believes in fate, then one would believe that fate controls events. If one believes in free will, then one would believe that people control events.']\n"
     ]
    },
    {
     "name": "stderr",
     "output_type": "stream",
     "text": [
      "\r",
      "  8%|████████████▍                                                                                                                                                    | 76/986 [5:07:19<22:52:31, 90.50s/it]"
     ]
    },
    {
     "name": "stdout",
     "output_type": "stream",
     "text": [
      "generated explanation: <pad> <extra_id_0> If he didn't believe that fate controlled situations, he may have believed that people did control events. This would have meant that he believed that people had the ability to influence and direct events in their lives. However, he did not believe that people had the ability to control events in their lives. Instead, he believed that people could influence and direct events through their actions and behaviors. Therefore, he believed that people had the ability to influence and control situations, and that people could, for example, use their own initiative and judgment to influence and influence events.<extra_id_1> </s>\n",
      "########\n",
      "*******\n",
      "question: Polly didn't know her way around, so she navigated by landmark.  She used statues, stores, and distinctive building.  Where might she be?\n",
      "answer: city\n",
      "choices: ['countryside', 'national park', 'map', 'neighbourhood', 'city']\n",
      "common expl list: ['In a city, landmarks are often used to navigate. In the countryside or in national parks, landmarks may not be as distinct, as buildings and statues are less likely to be found.', 'Landmarks are often located in cities, and so if a person was navigating by landmarks, they are likely to be in a city.', \"She used distinctive buildings as landmarks, so it is likely she's in a city.\", 'Landmark navigation works best in populated areas because distinctive buildings and statues can be more easily seen.']\n"
     ]
    },
    {
     "name": "stderr",
     "output_type": "stream",
     "text": [
      "\r",
      "  8%|████████████▌                                                                                                                                                    | 77/986 [5:08:31<21:27:25, 84.98s/it]"
     ]
    },
    {
     "name": "stdout",
     "output_type": "stream",
     "text": [
      "generated explanation: <pad> <extra_id_0> If Polly didn't know her way around and relied on landmarks to navigate, she might be in a city. Cities are large, urban areas that are filled with buildings, streets, and other features that make them distinctive. Cities often have a distinctive architecture and a rich history that dates back centuries. These historical features, such as statues, buildings, and streets, are often the focus of exploration and exploration, and they are often the starting point for many adventures and explorations. Cities often have a diverse range of features that make them more distinctive and attractive to the user.<extra_id_1> </s>\n",
      "########\n",
      "*******\n",
      "question: Some horses are white others are black, but many are this color which might lead some people to think their milk would taste like chocolate?\n",
      "answer: brown\n",
      "choices: ['big but gentle', 'kept in stables', 'cuddly', 'brown', 'running in herd']\n",
      "common expl list: [\"An individual brown-colored horse (particularly when cuddly) can resemble the color of chocolate. If a person were to guess based on the color, he might guess a horse's milk tasted similarly.\"]\n"
     ]
    },
    {
     "name": "stderr",
     "output_type": "stream",
     "text": [
      "\r",
      "  8%|████████████▋                                                                                                                                                    | 78/986 [5:09:41<20:18:20, 80.51s/it]"
     ]
    },
    {
     "name": "stdout",
     "output_type": "stream",
     "text": [
      "generated explanation: <pad> <extra_id_0> Many horses are this color which might lead some people to think that their milk would taste like chocolate. Chocolate is a type of food that is typically sweet and often contains ingredients such as butter, sugar, cocoa, and cocoa butter. It is not clear from the description whether the color refers to the flavor or the color of the milk or the milk itself. However, it is possible that some people might think that their milk would taste like chocolate because it is brown in color. If this is the case, it is likely that some people would think that chocolate would taste like horses would be a good chocolate.<extra_id_1> </s>\n",
      "########\n",
      "*******\n",
      "question: What is the one thing you cannot do if you're on the move?\n",
      "answer: stand still\n",
      "choices: ['sit still', 'stationary', 'running', 'stand still', 'stay still']\n",
      "common expl list: ['You must be in motion to be counted as on the move. (this rule exists to disallow the action of holding still)']\n"
     ]
    },
    {
     "name": "stderr",
     "output_type": "stream",
     "text": [
      "\r",
      "  8%|████████████▉                                                                                                                                                    | 79/986 [5:10:55<19:50:06, 78.73s/it]"
     ]
    },
    {
     "name": "stdout",
     "output_type": "stream",
     "text": [
      "generated explanation: <pad> <extra_id_0> If you're on the move, standing still is the one thing you cannot do. Standing still is the only thing you can do if you're on the move. It is a common misconception that standing still is the same as being in a fixed position, such as a position of rest or stability. However, standing still does not necessarily mean that you are stuck in a fixed position or that you cannot move at all. Standing still is a common and accepted practice among athletes and other athletes, and it is often associated with physical activity, such as exercising, completing a task, or moving at a rapid pace.<extra_id_1> </s>\n",
      "########\n",
      "*******\n",
      "question: Where does someone convicted of a petty crime likely spend time?\n",
      "answer: jail\n",
      "choices: ['sell drugs', 'jail', 'nightclub', 'prison', 'offer drugs']\n",
      "common expl list: ['Someone convicted of a petty crime probably spends some time in jail, and not in prison.', 'Someone convicted of a petty crime is likely to spend time in jail.']\n"
     ]
    },
    {
     "name": "stderr",
     "output_type": "stream",
     "text": [
      "\r",
      "  8%|█████████████                                                                                                                                                    | 80/986 [5:12:19<20:11:08, 80.21s/it]"
     ]
    },
    {
     "name": "stdout",
     "output_type": "stream",
     "text": [
      "generated explanation: <pad> <extra_id_0> A petty crime is a crime that is generally considered to be a less serious in nature and is not considered a criminal offense. Jails are public places where people are punished for committing crimes, such as theft, assault, drug possession, and burglary. They are often used as a detention or prison facility for people who have been convicted of a crime or who have committed a lesser crime. As a result, people who are convicted of petty crimes are typically placed in a jail or prison. In most cases, they are confined and are often awaiting trial. Jails are often a place where they are likely to serve their sentence and receive their judgment.<extra_id_1> </s>\n",
      "########\n",
      "*******\n",
      "question: He would entertain with a pool party regularly, it was the best way to beat the what?\n",
      "answer: hot\n",
      "choices: ['please', 'hot', 'guest', 'bribe', 'liked']\n",
      "common expl list: ['Pool parties are a great way to beat the heat.']\n"
     ]
    },
    {
     "name": "stderr",
     "output_type": "stream",
     "text": [
      "\r",
      "  8%|█████████████▏                                                                                                                                                   | 81/986 [5:14:07<22:13:55, 88.44s/it]"
     ]
    },
    {
     "name": "stdout",
     "output_type": "stream",
     "text": [
      "generated explanation: <pad> <extra_id_0> If he entertained with a pool party regularly, it was the best way to beat the hot weather. The pool party was a great way to cool off and have fun with friends and family. Pool parties are a fun and exciting way to spend an evening with friends and family, while providing an enjoyable and relaxing experience. There are many different types of pool parties that can be held, including indoor and outdoor parties, as well as themed parties and events. If a man decided to host a pool party regularly, it is likely that he sought to cool off and have fun at the same time. By cooling off in the pool, it was the best way to beat the heat and a good way to cool off and relax. Pool parties are a great way to beat the heat and have fun and socialize with his friends and family while enjoying a relaxing and enjoyable activity.<extra_id_1> </s>\n",
      "########\n",
      "*******\n",
      "question: If you wanted to confirm information that you had, you would do what to someone?\n",
      "answer: question\n",
      "choices: ['infirm', 'ask', 'deny', 'question', 'dispute']\n",
      "common expl list: ['To confirm something that your friends told you, you might need to ask those friends further questions to prove that the information was correct.', \"Often information is ambiguous, and I can confirm it by asking pointed questions or by scrutinizing the other person's story till I can find a way to interrogate their position.\", 'If you wanted to confirm information that you had, you would ask someone.', 'If you wanted to verify the truth, you might question the person who you got the alleged information from.']\n"
     ]
    },
    {
     "name": "stderr",
     "output_type": "stream",
     "text": [
      "\r",
      "  8%|█████████████▍                                                                                                                                                   | 82/986 [5:15:54<23:36:44, 94.03s/it]"
     ]
    },
    {
     "name": "stdout",
     "output_type": "stream",
     "text": [
      "generated explanation: <pad> <extra_id_0> If you wanted to confirm information that you had, you would contact the person to whom you were providing the information. This person would ask you questions about the information that you had provided, and you would like to get their opinion. If you wanted to confirm information that you had, you would contact the person to whom you were providing the information to confirm the details. This person may be a friend, colleague, or other trusted source. This person may also be able to provide additional insight or details about the information that you have, or they may be able to confirm the information that you have received. If you wanted to confirm information that you had received, you would ask them questions and provide them with the opportunity to confirm the information that you had received. If you wanted to confirm information that you had received, confirm its accuracy, accuracy, or provide a formal request for confirmation from a third party.<extra_id_1> </s>\n",
      "########\n",
      "*******\n",
      "question: Where is cheese likely to be dangerous for some creatures?\n",
      "answer: mouse trap\n",
      "choices: ['refrigerator', 'mouse trap', 'fridge', 'outside', 'plate']\n",
      "common expl list: ['cheese has been said to attract mice. Mice traps may contain cheese in order to attract them.']\n"
     ]
    },
    {
     "name": "stderr",
     "output_type": "stream",
     "text": [
      "\r",
      "  8%|█████████████▌                                                                                                                                                   | 83/986 [5:17:00<21:30:03, 85.72s/it]"
     ]
    },
    {
     "name": "stdout",
     "output_type": "stream",
     "text": [
      "generated explanation: <pad> <extra_id_0> Cheese is likely to be dangerous for some creatures. Cheese is a type of food that is commonly found in human food products, such as cheese, crackers, and sausages. Cheese is a food that is often eaten by humans, such as cheese sandwiches, pizza, and other fast foods. It is often used as a food source for many different species, including mice, birds, and other small mammals. However, it is not known whether cheese is a food that is particularly dangerous for some species of animals, such as mice, or a viable alternative to mouse traps.<extra_id_1> </s>\n",
      "########\n",
      "*******\n",
      "question: He spent all work day at a computer, so he got a footstool for more comfort at his what?\n",
      "answer: desk\n",
      "choices: ['desk', 'bathroom', 'shoe shop', 'family room', 'living room']\n",
      "common expl list: ['A footstool is a small stool that is used to raise the height of a chair or table. If someone spends all day at a computer, they might need a footstool to raise their desk.']\n"
     ]
    },
    {
     "name": "stderr",
     "output_type": "stream",
     "text": [
      "\r",
      "  9%|█████████████▋                                                                                                                                                   | 84/986 [5:18:32<21:54:18, 87.43s/it]"
     ]
    },
    {
     "name": "stdout",
     "output_type": "stream",
     "text": [
      "generated explanation: <pad> <extra_id_0> He spent all work day at a computer, so he got a footstool for more comfort at his desk. A desk is a table or surface that is used for working or sitting, typically used for a computer or other type of device. Desks can be used for a variety of purposes, including working at a computer, reading, writing, or performing other tasks. A footstool is a stool that is typically used for sitting or standing, and it is typically made of wood, metal, or plastic. It is designed to provide additional comfort and support for users. If a person is spending all day at a computer, it is likely that they will benefit from a footstool to provide additional comfort and support for their feet.<extra_id_1> </s>\n",
      "########\n",
      "*******\n",
      "question: How would grooming lead to bald spots?\n",
      "answer: mistakes\n",
      "choices: ['cleanliness', 'mistakes', 'brushing', 'beauty', 'satisfaction']\n",
      "common expl list: [\"If you accidentally over trim your hair, you'd likely end up with bald spots.\"]\n"
     ]
    },
    {
     "name": "stderr",
     "output_type": "stream",
     "text": [
      "\r",
      "  9%|█████████████▉                                                                                                                                                   | 85/986 [5:19:54<21:30:00, 85.91s/it]"
     ]
    },
    {
     "name": "stdout",
     "output_type": "stream",
     "text": [
      "generated explanation: <pad> <extra_id_0> It is not clear from the information provided what specific mistakes may be made when grooming that would lead to bald spots. It is possible that certain mistakes made during grooming could lead to bald spots. It is possible that certain mistakes made during grooming could lead to bald spots, or that certain grooming techniques could lead to bald spots. It is not clear from the information provided what specific mistakes might be made when grooming that would lead to bald spots, or that specific grooming techniques may be used to prevent bald spots. However, it is possible that the risk of baldness of the groomer may be made during the process of bald spots.<extra_id_1> </s>\n",
      "########\n",
      "*******\n",
      "question: Where would a snake find a great hiding place in the United Kingdom?\n",
      "answer: kew gardens\n",
      "choices: ['ditch', 'terrarium', 'thick forest', 'kew gardens', 'feild']\n",
      "common expl list: ['Kew gardens is a large botanical garden in London, England, and snakes are often found in gardens.', 'Kew gardens is located in London, which has a great deal of green space in the form of parks.']\n"
     ]
    },
    {
     "name": "stderr",
     "output_type": "stream",
     "text": [
      "\r",
      "  9%|██████████████                                                                                                                                                   | 86/986 [5:21:30<22:13:57, 88.93s/it]"
     ]
    },
    {
     "name": "stdout",
     "output_type": "stream",
     "text": [
      "generated explanation: <pad> <extra_id_0> In the United Kingdom, a snake would find a great hiding place in kew gardens. Kew gardens is a botanical garden in central London, home to a diverse range of plants, animals, and plants. It is thought that snakes are a common and harmless species, and they are often used as a form of protection for small animals and insects. Kew gardens is a great place for a snake to hide and browse, and it is a popular tourist destination for its beautiful gardens and surrounding areas. It is possible that snakes would find a great hiding place in kew gardens, a historic building that is currently being developed to provide access to the public to the collections and collections that are on display. The museum is a museum that displays a collection of items that are on display.<extra_id_1> </s>\n",
      "########\n",
      "*******\n",
      "question: After studying many self-help books, what did he feel in his heart?\n",
      "answer: inspiration\n",
      "choices: ['inspiration', 'dreams', 'more intelligence', 'understanding', 'knowing more']\n",
      "common expl list: [\"Some people study self-help books because they've felt lost in their life and are looking for something to help them out. By reading many self-help books, such people might feel more inspired in their life.\", 'Self-help books are written to inspire people to change their lives for the better.', \"If John read about confidence, optimism, positive thinking, it's possible that he feels inspired.\"]\n"
     ]
    },
    {
     "name": "stderr",
     "output_type": "stream",
     "text": [
      "\r",
      "  9%|██████████████▏                                                                                                                                                  | 87/986 [5:23:04<22:35:36, 90.47s/it]"
     ]
    },
    {
     "name": "stdout",
     "output_type": "stream",
     "text": [
      "generated explanation: <pad> <extra_id_0> After studying many self-help books, he felt in his heart that he was being inspired to pursue a career in self-help. Inspiration is the process of discovering and applying new knowledge, skills, and perspectives to improve one's life. It can be a rewarding and fulfilling experience to study self-help books and gain new insights into the world of success and personal development. One way that individuals can experience inspiration is by studying self-help books and articles written by successful people. Inspiration can be felt in the heart and mind after reading many self-help books and learning about the benefits of practicing the techniques and tools that are used to achieve success. It is a powerful and enduring feeling, which can be a powerful and lasting<extra_id_1> </s>\n",
      "########\n",
      "*******\n",
      "question: Where would you find teeth whitening bleachers?\n",
      "answer: pharmacy\n",
      "choices: ['gymnasium', 'soccer game', 'sporting event', 'pharmacy', 'soccer game']\n",
      "common expl list: ['Teeth whitening is a common practice, and pharmacies often sell the products used for it.']\n"
     ]
    },
    {
     "name": "stderr",
     "output_type": "stream",
     "text": [
      "\r",
      "  9%|██████████████▎                                                                                                                                                  | 88/986 [5:24:35<22:35:02, 90.54s/it]"
     ]
    },
    {
     "name": "stdout",
     "output_type": "stream",
     "text": [
      "generated explanation: <pad> <extra_id_0> If you were looking for teeth whitening bleachers, you may find them in a pharmacy. Bleaching agents are products that are used to whiten teeth by activating certain chemicals in the saliva. These chemicals can then remove stains and other substances from the teeth, brightening their appearance and improving the appearance of their bite. Many people who have trouble with their teeth may visit a pharmacy to purchase teeth whitening bleaching agents. These products are often marketed as a quick fix for minor dental issues, such as a yellow or whitening products in a pharmacy to help with the treatment of dental issues, such as whitening products that can help to whitening and/or whitening products in their dental hygiene products.<extra_id_1> </s>\n",
      "########\n",
      "*******\n",
      "question: While he had seen a koala in the zoo, he was looking forward to finding one in the what?\n",
      "answer: australian outback\n",
      "choices: ['australian outback', 'bamboo grove', 'wilderness', 'island', \"child's book\"]\n",
      "common expl list: ['Koalas live in Australia, and are not found in any other country in the North American continent.', 'Because Koalas are a native species to Australia, the safest place to see a Koala may be outback Australia.']\n"
     ]
    },
    {
     "name": "stderr",
     "output_type": "stream",
     "text": [
      "\r",
      "  9%|██████████████▌                                                                                                                                                  | 89/986 [5:26:07<22:42:06, 91.11s/it]"
     ]
    },
    {
     "name": "stdout",
     "output_type": "stream",
     "text": [
      "generated explanation: <pad> <extra_id_0> While he had seen a koala in the zoo, he was looking forward to finding one in the outback of Australia. The outback is a region of Australia that is located primarily in the south-west and east coast of the country. The outback is a region of the country that is characterized by its rugged landscape, rugged terrain, and abundance of wildlife. Koalas are a type of marsupial that is found in Australia and is characterized by its wide open landscape and wildlife. They are often found in the bush, and they may be found in the wild, depending on the circumstances and location. If a person is looking forward to finding one in the zooo<extra_id_1> </s>\n",
      "########\n",
      "*******\n",
      "question: Where can a child get a wagon?\n",
      "answer: toy store\n",
      "choices: ['field', 'garage', 'bookstore', 'backyard', 'toy store']\n",
      "common expl list: [\"A toy wagon is a child's toy. Toy wagons can be purchased from toy stores.\", 'Toy stores deal specifically in toys. Wagons are one of a variety of toys.']\n"
     ]
    },
    {
     "name": "stderr",
     "output_type": "stream",
     "text": [
      "\r",
      "  9%|██████████████▋                                                                                                                                                  | 90/986 [5:27:24<21:36:50, 86.84s/it]"
     ]
    },
    {
     "name": "stdout",
     "output_type": "stream",
     "text": [
      "generated explanation: <pad> <extra_id_0> A child can get a wagon at a toy store. A toy store is a store that specializes in selling toys and other edifying items for children. They may carry a wide range of toys, including wagons, dolls, action figures, and other playthings. Wagons are a convenient way for children to transport themselves and their toys around the house or yard. Wagons are typically made of sturdy metal or plastic and are used for carrying goods or passengers. They are typically sold in sets and have a variety of toys and games, such as dolls, and dolls.<extra_id_1> </s>\n",
      "########\n",
      "*******\n",
      "question: Being able to forgive is a way to be what?\n",
      "answer: nice to\n",
      "choices: ['learn', 'give hug', 'happiness', 'nice to', 'sex']\n",
      "common expl list: ['When you forgive people you are being nice to them.']\n"
     ]
    },
    {
     "name": "stderr",
     "output_type": "stream",
     "text": [
      "\r",
      "  9%|██████████████▊                                                                                                                                                  | 91/986 [5:29:22<23:53:33, 96.10s/it]"
     ]
    },
    {
     "name": "stdout",
     "output_type": "stream",
     "text": [
      "generated explanation: <pad> <extra_id_0> Being able to forgive is a way to be nice to others. It is a way to show that you value the relationships you have with different people and that you care about their well-being. It is important for people to be able to communicate effectively with each other and to be able to show empathy and compassion for their needs and circumstances. Forgiveness is a powerful tool that can help to heal relationships and promote peace. It is important for people to understand and appreciate the different perspectives and experiences of others, and to be able to forgive others. It is a way to be nice to others. It is a way to be nice to them. It is a way to be able to forgive others. It is a way to be nice to others and to be able to be able to forgive others.<extra_id_1> </s>\n",
      "########\n",
      "*******\n",
      "question: What  is necessary to have when going fishing?\n",
      "answer: fishing rod\n",
      "choices: ['fishing rod', 'access to water', 'bate', 'three hands', 'tackle']\n",
      "common expl list: ['fishing rods are necessary component pieces that are held by fishermen to access and use when fishing', 'To go fishing requires a fishing rod.']\n"
     ]
    },
    {
     "name": "stderr",
     "output_type": "stream",
     "text": [
      "\r",
      "  9%|███████████████                                                                                                                                                  | 92/986 [5:31:03<24:14:18, 97.60s/it]"
     ]
    },
    {
     "name": "stdout",
     "output_type": "stream",
     "text": [
      "generated explanation: <pad> <extra_id_0> A fishing rod is a tool that is used for fishing, and it is typically used for catching fish. Fishing rods are long, thin, and flexible, and they are typically used for fishing. When fishing, it is important to have the right gear, including a fishing rod, to help you catch the fish. A fishing rod is a wooden or plastic handle that is used for securing the hook into the water and delivering the bait to the surface. A fishing rod is a fishing tool that is typically used for pulling fish and making a line. When fishing, a fishing, or a boat, and a boat or a boat, as well as other equipment, such as a boat, cooler, and cooler.<extra_id_1> </s>\n",
      "########\n",
      "*******\n",
      "question: A weasel is cursed by a witch, where is the weasel stuck?\n",
      "answer: fairytale\n",
      "choices: ['corn fields', 'great outdoors', 'fairytale', 'imagination', 'chicken coop']\n",
      "common expl list: ['Being stuck in a fairytale suggests being cursed, and the curses that prevail in fairytales are usually cast by witches.']\n"
     ]
    },
    {
     "name": "stderr",
     "output_type": "stream",
     "text": [
      "\r",
      "  9%|███████████████▏                                                                                                                                                 | 93/986 [5:32:21<22:44:53, 91.71s/it]"
     ]
    },
    {
     "name": "stdout",
     "output_type": "stream",
     "text": [
      "generated explanation: <pad> <extra_id_0> If a weasel is cursed by a witch, it is stuck in a fairytale. A fairytale is a story that is typically told in the form of a story or parable that is intended to entertain and educate young people. Fairytales often feature characters who are cursed or harmed by a witch or other powerful female figure, such as a witch or a wizard. Fairytales often feature characters who are possessed by a witch or other powerful female figure, and they may be used to tell a story or to illustrate a lesson.<extra_id_1> </s>\n",
      "########\n",
      "*******\n",
      "question: If you want to buy you must what?\n",
      "answer: spend money\n",
      "choices: ['spend money', 'go shopping', 'paying', 'have in mind', 'a shop']\n",
      "common expl list: ['To buy something, you must spend money.', 'To buy one needs money, and need money implies you have spent money.', 'If you want to buy something, you must spend money.']\n"
     ]
    },
    {
     "name": "stderr",
     "output_type": "stream",
     "text": [
      "\r",
      " 10%|███████████████▎                                                                                                                                                 | 94/986 [5:33:28<20:52:43, 84.26s/it]"
     ]
    },
    {
     "name": "stdout",
     "output_type": "stream",
     "text": [
      "generated explanation: <pad> <extra_id_0> If you want to buy something, you must spend money. Money is a resource that is used to facilitate the purchase and consumption of goods and services. It is used for the purchase and maintenance of goods and services and is often a necessary cost of doing business. It is important for people to understand that money is a valuable resource that can be used for a variety of purposes, including purchasing goods and services, paying bills, and obtaining information. Money can be spent in a variety of ways, including cash, checks, and credit cards.<extra_id_1> </s>\n",
      "########\n",
      "*******\n",
      "question: What public celebration sometimes has a horse show?\n",
      "answer: state fair\n",
      "choices: ['state fair', 'indy 500', 'american southwest', 'canada', 'central park']\n",
      "common expl list: ['Horse shows are competitions that sometimes occur at public celebrations. Some fairgrounds include horse shows as part of their regularly scheduled events.', 'Horse shows are sometimes included in state fair celebrations, and these fairs frequently are held in public parks.', \"A state's fair is a public celebration that may include a horse show.\"]\n"
     ]
    },
    {
     "name": "stderr",
     "output_type": "stream",
     "text": [
      "\r",
      " 10%|███████████████▌                                                                                                                                                 | 95/986 [5:35:13<22:26:02, 90.64s/it]"
     ]
    },
    {
     "name": "stdout",
     "output_type": "stream",
     "text": [
      "generated explanation: <pad> <extra_id_0> A public celebration sometimes has a horse show. A horse show is a public celebration that usually takes place at a state fair or other large-scale event. State fairs are events that are organized to promote agriculture, education, and other forms of public outreach. They typically take place at a fair or fairgrounds and often include various exhibits and activities, such as games, contests, and demonstrations. A horse show is a type of competition that is sponsored by a public fair or a public institution and is intended to attract visitors and attendees alike. State fairs are typically held in a state or local agricultural and agricultural exhibits and other types of entertainment. They may also have other attractions, such as livestock, food vendors, and entertainment activities, and activities that are open to the public, such as live performances by a variety of participants and spectators.<extra_id_1> </s>\n",
      "########\n",
      "*******\n",
      "question: There are many wage gaps being discussed, the most important of which is between the rich and what?\n",
      "answer: poor\n",
      "choices: ['plain', 'sleepy', 'poor', 'idle', 'needy']\n",
      "common expl list: ['The poor are a group which suffers from a wage gap, denoted as their earning less than others, especially the rich.']\n"
     ]
    },
    {
     "name": "stderr",
     "output_type": "stream",
     "text": [
      "\r",
      " 10%|███████████████▊                                                                                                                                                 | 97/986 [5:37:54<21:19:20, 86.34s/it]"
     ]
    },
    {
     "name": "stdout",
     "output_type": "stream",
     "text": [
      "generated explanation: <pad> <extra_id_0> In a North American Country, that isn't the United States, you might expect to find a good french restaurant. Quebec is a province in western Canada. It is a city in northern Canada, and is the second largest city in the region. It is home to a large population of francophone people, many of whom speak French as their first language. Québec is a province in western Canada, and is home to a large and diverse population of French-speaking people. It is a city that is a popular destination for tourists and locals who want to experience the culture and cuisine of France. Québec, and it is a popular destination for its cuisine and architecture. Québecouvre</s>\n",
      "########\n",
      "*******\n",
      "question: Care not to burn you hand on the handle of what small high-walled vessel?\n",
      "answer: saucepan\n",
      "choices: ['brush', 'carry object', 'walking stick', 'umbrella', 'saucepan']\n",
      "common expl list: ['A saucepan is a small, high-walled vessel, built for holding liquids and usually used in the kitchen.']\n"
     ]
    },
    {
     "name": "stderr",
     "output_type": "stream",
     "text": [
      "\r",
      " 10%|████████████████                                                                                                                                                 | 98/986 [5:39:16<20:58:37, 85.04s/it]"
     ]
    },
    {
     "name": "stdout",
     "output_type": "stream",
     "text": [
      "generated explanation: <pad> <extra_id_0> Care not to burn your hand on the handle of a small high-walled vessel. A saucepan is a small, high-walled, cylindrical cooking vessel that is typically used for cooking and heating liquids, such as soups, sauces, and other types of food. To prevent burning, it is important to carefully hold the handle of a saucepan to avoid burning your hands. Pancakes, for example, are typically small, high-walled cooking vessels that are designed to hold hot liquids and prevent them from escaping into the oven. They are typically used for cooking and heating them, and they are typically made from aluminum, which is used to produce heat.<extra_id_1> </s>\n",
      "########\n",
      "*******\n",
      "question: What container does peanut butter come in?\n",
      "answer: jar\n",
      "choices: ['cupboard', 'pantry', 'jar', 'bottle', 'supermarket']\n",
      "common expl list: ['Peanut butter comes in glass jars, like many other food products.', 'Jars, like those that pickles often come in, are suitable for food items that need to be kept fresh for long time. Jars can be resealed.', 'Jars are often used to store food, and peanut butter is a food.', 'Jars can keep food sealed without leaking, and often have lids. Peanut butter is sealed in a jar and could be kept in a house, kitchen, pantry, or cupboard.']\n"
     ]
    },
    {
     "name": "stderr",
     "output_type": "stream",
     "text": [
      "\r",
      " 10%|████████████████▏                                                                                                                                                | 99/986 [5:40:36<20:32:38, 83.38s/it]"
     ]
    },
    {
     "name": "stdout",
     "output_type": "stream",
     "text": [
      "generated explanation: <pad> <extra_id_0> Peanut butter typically comes in a jar or a glass jar. Jars are glass containers that are typically sealed at the top with a plastic or metal cap. Jars are often used as storage containers for foods and other items, such as nuts, seeds, and butters. Peanut butter is a popular snack food that is often used in a variety of dishes, including sandwiches, snacks, and baked goods. Jars are a common container for storing and transporting peanut butter and other types of nuts and other dried goods. They may be used as a full or a jar, or a plastic bag.<extra_id_1> </s>\n",
      "########\n",
      "*******\n",
      "question: Where are plants likely to be handled by a city employee?\n",
      "answer: park\n",
      "choices: ['park', 'windowsill', 'ground', 'office', 'garden']\n",
      "common expl list: ['A city employee might handle plants while working in a park.', 'Parks are where city employees are likely to handle plants.']\n"
     ]
    },
    {
     "name": "stderr",
     "output_type": "stream",
     "text": [
      "\r",
      " 10%|████████████████▏                                                                                                                                               | 100/986 [5:42:18<21:52:26, 88.88s/it]"
     ]
    },
    {
     "name": "stdout",
     "output_type": "stream",
     "text": [
      "generated explanation: <pad> <extra_id_0> It is likely that plants will be handled by a city employee in a park or other green space in a city or town. Parks and green spaces are places where people congregate and relax, and they often have access to a variety of recreational and cultural activities. Parks and green spaces are places where people can relax, hike, bike, or simply enjoy the outdoors. Plants are often a source of food, medicine, and beauty for city employees, and they often provide a safe and pleasant environment for people to recharge and maintain their health and safety. They can also be used to handle hazardous materials, such as potency and safety issues.<extra_id_1> </s>\n",
      "########\n",
      "*******\n",
      "question: Trains tend to come on time, airplanes on the other hand tend to what?\n",
      "answer: arrive late\n",
      "choices: ['stall', 'take off', 'arrive late', 'catch on fire', 'carry freight']\n",
      "common expl list: [\"Planes aren't typically known for arriving on time (air traffic, weather, repairs, et. al.), whereas trains tend to be more reliable.\", 'Planes are carreid by more complicated mechanisms than trains, and therefore tend to be harder to operate exactly on time.']\n"
     ]
    },
    {
     "name": "stderr",
     "output_type": "stream",
     "text": [
      "\r",
      " 10%|████████████████▍                                                                                                                                               | 101/986 [5:43:53<22:18:51, 90.77s/it]"
     ]
    },
    {
     "name": "stdout",
     "output_type": "stream",
     "text": [
      "generated explanation: <pad> <extra_id_0> Trains tend to come on time, while airplanes tend to come late. Trains tend to come on time because they are powered by locomotives and have a fixed route. Airplanes, on the other hand, are powered by large, powerful engines that are designed to fly fast and efficiently. They are typically equipped with a wide range of flight controls, including automatic pilots, a flight recorder, and navigational aids. While trains tend to come on time, airplanes tend to come late because they have a higher flight path and a higher altitude, and they are often used for sightseeing and other purposes. However, they are often used for transportation and are often faster, more flexible, and more flexible flight schedules.<extra_id_1> </s>\n",
      "########\n",
      "*******\n",
      "question: Where is glue well used?\n",
      "answer: art room\n",
      "choices: ['desk drawer', 'cabinet', 'art room', 'school', 'closed container']\n",
      "common expl list: ['Glue is used in art projects, and art rooms are where art projects are done.']\n"
     ]
    },
    {
     "name": "stderr",
     "output_type": "stream",
     "text": [
      "\r",
      " 10%|████████████████▌                                                                                                                                               | 102/986 [5:45:36<23:10:37, 94.39s/it]"
     ]
    },
    {
     "name": "stdout",
     "output_type": "stream",
     "text": [
      "generated explanation: <pad> <extra_id_0> Glue well is a type of adhesive that is commonly used in the art industry. It is a versatile, clear-flowing, and fast-setting adhesive that is used in a variety of art forms, including painting, drawing, sculpture, and digital art. It is often used in many different types of art projects, including collage, photography, and graphic design. When used in the art studio, it is often used to create interesting patterns and designs using different materials and tools. In order to create beautiful works of art, glue well is a convenient and convenient way to create a professional quality finish, and to enhance the artistic vision. It is ideal for use in a variety of creative projects, as well as for a variety of purposes, including laying out ideas and concepts.<extra_id_1> </s>\n",
      "########\n",
      "*******\n",
      "question: Billy loves science, history, and art but isn't very creative.  When he was visiting the museum, he felt a great deal of what emotion?\n",
      "answer: enjoyment\n",
      "choices: ['inspiration', 'fulfillment', 'wonder', 'boredom', 'enjoyment']\n",
      "common expl list: ['At a museum, Billy uses history to find science, and science to find art; by combining different loves, going to the museum has been fulfilling. To achieve fulfilment, Billy felt an enjoyable feeling.', 'When Billy visited a museum which had a lot of fields of interest, Billy enjoyed himself while he learned from the experience at the same time.']\n"
     ]
    },
    {
     "name": "stderr",
     "output_type": "stream",
     "text": [
      "\r",
      " 10%|████████████████▋                                                                                                                                               | 103/986 [5:47:03<22:37:56, 92.27s/it]"
     ]
    },
    {
     "name": "stdout",
     "output_type": "stream",
     "text": [
      "generated explanation: <pad> <extra_id_0> When Billy was visiting the museum, he felt a great deal of enjoyment. The museum represents a combination of things that people enjoy, such as science, history, and art. Art is a form of expression that uses a variety of media to create a visual impact or convey a message. It can be a powerful tool for expressing one's ideas, feelings, and ideas, and it can be a great source of inspiration for people who are interested in these subjects. Museums are places that people can go to experience the arts and culture and learn about the world around them. They may also be a great place for them to express their creativity and learn new things.<extra_id_1> </s>\n",
      "########\n",
      "*******\n",
      "question: Sarah did much hard work, even though she was on vacation.  Her mother told her off and said what?\n",
      "answer: do nothing\n",
      "choices: ['unemployment', 'say something', 'earn money', 'do nothing', 'relaxation']\n",
      "common expl list: ['If one is on vacation, one is supposed to \"do nothing\" as opposed to working - the \"something\" that is discouraged. Many physically hard jobs involve getting the hands dirty.']\n"
     ]
    },
    {
     "name": "stderr",
     "output_type": "stream",
     "text": [
      "\r",
      " 11%|████████████████▉                                                                                                                                               | 104/986 [5:48:14<21:04:04, 85.99s/it]"
     ]
    },
    {
     "name": "stdout",
     "output_type": "stream",
     "text": [
      "generated explanation: <pad> <extra_id_0> If Sarah did much hard work while on vacation, her mother may have told her off and said that she should not have worked so hard during her vacation. Vacation is a time for relaxation and fun, and it is a great opportunity to relax and take a break from the routine of daily life. Vacation can be a time to unwind and enjoy yourself, and it is also a great opportunity to reflect on how you are doing and how you can improve your skills and abilities. Vacations are times when we take time to recharge and reconnect with our respective families and friends.<extra_id_1> </s>\n",
      "########\n",
      "*******\n",
      "question: James walked barefoot on a something that was made hot by sunshine. What is he probably walking on?\n",
      "answer: street\n",
      "choices: ['desktop', 'summer', 'moon', 'meadow', 'street']\n",
      "common expl list: ['Because of the intense heat of summer, sunlight reflects off the pavement, causing a hot sensation when one walks barefoot in the summer.']\n"
     ]
    },
    {
     "name": "stderr",
     "output_type": "stream",
     "text": [
      "\r",
      " 11%|█████████████████                                                                                                                                               | 105/986 [5:50:02<22:37:12, 92.43s/it]"
     ]
    },
    {
     "name": "stdout",
     "output_type": "stream",
     "text": [
      "generated explanation: <pad> <extra_id_0> If a person walks barefoot on a something that is made hot by sunshine, it is likely that they are walking on a street. Streets are surfaces that are used for walking and running, and they are often paved or have other types of surface coverings. Streets can be particularly hot, especially during the summer months. If a person walks barefoot on a street that is made hot by sunshine, it is likely that they are walking on a street that is well-lit and well-travelled. Streets are often used for walking and running, as they are designed for a variety of purposes, including transportation and recreation. They can be used for walking and running, as they are comfortable and convenient for a variety of activities, as well as for commutating and exercising.<extra_id_1> </s>\n",
      "########\n",
      "*******\n",
      "question: He grew tired of standing in the kitchen his whole shift, where was he?\n",
      "answer: restaurant\n",
      "choices: [\"neighbor's house\", \"friend's house\", 'restaurant', 'jail', 'fraternity house']\n",
      "common expl list: ['A restaurant would have a kitchen, where you would be required to stand while your shift is in session.', 'One can get tired standing in a kitchen if one is on their feet all day; kitchens are typically in restaurants.']\n"
     ]
    },
    {
     "name": "stderr",
     "output_type": "stream",
     "text": [
      "\r",
      " 11%|█████████████████▏                                                                                                                                              | 106/986 [5:51:54<24:00:58, 98.25s/it]"
     ]
    },
    {
     "name": "stdout",
     "output_type": "stream",
     "text": [
      "generated explanation: <pad> <extra_id_0> If he grew tired of standing in the kitchen his whole shift, he was probably working in a restaurant. A restaurant is a business that sells food and other products to customers. The typical customer may be a person who works in a restaurant or a café. Restaurants are often found in urban areas and are often located near public transit routes. They are often located in busy neighborhoods with a high concentration of people. As a result, they may be prone to experiencing discomfort and unpleasant working conditions. Restaurants may be a comfortable and relaxing environment for people to work in, but they may feel uncomfortable after a long shift and may be more comfortable in another area. If a person were to sit down and rest, they may be more comfortable and relaxed if they were able to move around and stretch their legs.<extra_id_1> </s>\n",
      "########\n",
      "*******\n",
      "question: The children play cards often, but they make their own rules because they can't what the originals?\n",
      "answer: remember\n",
      "choices: ['bid', 'concentrate', 'winning', 'count', 'remember']\n",
      "common expl list: ['Children often play games that are similar to those played by adults, such as card games, but with slight variations to how they are played. This is most likely because children cannot remember the original rules of the card games. Smiling is a common expression', \"The children are making up their own rules because they can't remember the original rules.\"]\n"
     ]
    },
    {
     "name": "stderr",
     "output_type": "stream",
     "text": [
      "\r",
      " 11%|█████████████████▎                                                                                                                                             | 107/986 [5:53:41<24:41:39, 101.14s/it]"
     ]
    },
    {
     "name": "stdout",
     "output_type": "stream",
     "text": [
      "generated explanation: <pad> <extra_id_0> If children play cards often, they may make up their own rules because they can't remember the rules of the originals. The originals are the rules that the card companies use to govern the game of cards, such as suit, color, and suit value. The rules that they make up themselves are called \"home rules,\" and they are used by players to guide and direct their play. The rules that they make up for themselves may be more or less similar to the rules that adults use, such as house rules or limiters, or they may be more or less similar to the games they are familiar with, such as their parents or teachers may have taught them to remember them. However, they may be more or less formalized versions of the game, and they may be more flexible and creative, as they may be able to learn new tricks and strategies during play.<extra_id_1> </s>\n",
      "########\n",
      "*******\n",
      "question: On an average day, going to work could make you feel like what?\n",
      "answer: feeling good\n",
      "choices: ['feeling good', 'anger', 'revelation', 'being fired', 'tardiness']\n",
      "common expl list: ['People sometimes feel pride and accomplishment when they get things done at the office.', 'To fulfill a life purpose and to gain fulfillment, people often undertake gainful employment. Thus, the people who experience this data point might experience feelings of accomplishment/fulfillment.']\n"
     ]
    },
    {
     "name": "stderr",
     "output_type": "stream",
     "text": [
      "\r",
      " 11%|█████████████████▌                                                                                                                                              | 108/986 [5:55:06<23:28:33, 96.26s/it]"
     ]
    },
    {
     "name": "stdout",
     "output_type": "stream",
     "text": [
      "generated explanation: <pad> <extra_id_0> If you go to work on an average day, going to work could make you feel good. Going to work can be a rewarding and satisfying experience that can provide a sense of purpose and direction in your life. It can also provide you with a sense of accomplishment and satisfaction, as you are able to accomplish new things and build on existing skills. Going to work can be a positive experience that can provide you with a sense of achievement and fulfillment, as well as provide you with the opportunity to meet new people and learn new things. If you are feeling good about your day and you are going to work, you may be pleasantly surprised by how you feel.<extra_id_1> <extra_id_1> </s>\n",
      "########\n",
      "*******\n",
      "question: What country has the carpathians and is the furthest in the direction of the side that won the U.S. Civil War?\n",
      "answer: poland\n",
      "choices: ['slovakia', 'slovenia', 'poland', 'ukraine', 'romania']\n",
      "common expl list: ['Poland is the only country that has the carpathian mountains, and it was the most distant in the direction from the side that won the U.S. Civil War (the North).']\n"
     ]
    },
    {
     "name": "stderr",
     "output_type": "stream",
     "text": [
      "\r",
      " 11%|█████████████████▋                                                                                                                                              | 109/986 [5:56:24<22:05:46, 90.70s/it]"
     ]
    },
    {
     "name": "stdout",
     "output_type": "stream",
     "text": [
      "generated explanation: <pad> <extra_id_0> The country that has the carpathians and is furthest in the direction of the U.S. Civil War is poland. Poland is a country in central Europe that is located in the Carpathians region. The carpathians are a mountain range that runs from the Baltic Sea to the Atlantic Ocean. It is the southernmost country in Europe and is bordered by the Carpathians and the Baltic Sea. Poland is home to the Carpathians, which are mountains that are located in the central region of Europe and are a popular tourist destination for travelers.<extra_id_1> </s>\n",
      "########\n",
      "*******\n",
      "question: What would happen if you want to win a game?\n",
      "answer: competitiveness\n",
      "choices: ['competitiveness', 'satisfaction', 'learning', 'injuries', 'play']\n",
      "common expl list: ['To win a game, you must be competitive.', \"Victory in a game requires one to make a maximum effort, and peoples' desire to win has to be rather competitive.\", 'Competitive athletes would want to win their games, whatever the cost; this desire to win leads to competitiveness and creates the desire to win over even long periods of time; it also often leads to brutal physical play --- such as by causing injuries to opposing r', 'After playing a game, a person would be likely compelled to win the game becasue they want a feeling of satisfaction from winning the game. In order to win, a person would need to be competitive.', 'If you want to win a game, you will try put your best effort to take your chances at winning over those of your opponents.']\n"
     ]
    },
    {
     "name": "stderr",
     "output_type": "stream",
     "text": [
      "\r",
      " 11%|█████████████████▊                                                                                                                                              | 110/986 [5:58:17<23:40:40, 97.31s/it]"
     ]
    },
    {
     "name": "stdout",
     "output_type": "stream",
     "text": [
      "generated explanation: <pad> <extra_id_0> If you want to win a game, you might be more competitive. Competitiveness is a quality that is associated with achieving success in a specific activity or subject, such as playing a sport or playing a game. It is important to note that competitiveness is not the same as winning a game; it is more about achieving a certain level of success or success. Winning a game involves overcoming obstacles and achieving goals, such as beating your opponent. It is important to note that competitiveness is not the same as being able to achieve success in a game or sport. It is important to note that it is important for players to be aware of the factors that can influence their performance in order to improve their chances of success or to improve their performance in order to improve their chances of winning a game, such as a sport.<extra_id_1> </s>\n",
      "########\n",
      "*******\n",
      "question: Where should watch to avoid being pinched by a crab?\n",
      "answer: sandy beach\n",
      "choices: ['eastern coast', 'sandy beach', 'fish market', 'north carolina', 'sand dunes']\n",
      "common expl list: ['It is more common to find crabs living in sandy beach areas.', 'Crabs live in sandy areas, and people who visit sandy beaches are likely to be pinched by crabs.']\n"
     ]
    },
    {
     "name": "stderr",
     "output_type": "stream",
     "text": [
      "\r",
      " 11%|██████████████████                                                                                                                                              | 111/986 [5:59:25<21:33:16, 88.68s/it]"
     ]
    },
    {
     "name": "stdout",
     "output_type": "stream",
     "text": [
      "generated explanation: <pad> <extra_id_0> A crab bite is a painful experience that can result in bleeding, swelling, and infection. Crabs are often attracted to sandy beaches and other types of soft surfaces, such as sand, gravel, or sand that can provide a softer landing surface for them. If you are at a sandy beach, you may encounter a crab that is likely to be hiding in the sand or on the edge of the surf. Crabs may be aggressive toward humans and may attempt to grab onto you or sting you.<extra_id_1> </s>\n",
      "########\n",
      "*******\n",
      "question: What is a large group of human beings?\n",
      "answer: civilisation\n",
      "choices: ['an infestation', 'civilisation', 'homes', 'graveyard', 'spacecraft']\n",
      "common expl list: ['Civilisation is generally used to refer to large populations of humans living together in a single area, responding to collective needs.']\n"
     ]
    },
    {
     "name": "stderr",
     "output_type": "stream",
     "text": [
      "\r",
      " 11%|██████████████████                                                                                                                                             | 112/986 [6:01:34<24:25:16, 100.59s/it]"
     ]
    },
    {
     "name": "stdout",
     "output_type": "stream",
     "text": [
      "generated explanation: <pad> <extra_id_0> A large group of human beings is a large group of human beings that have a common language, culture, and a common interest. Civilisation is the term used to describe a group of human beings that have a common culture and a common interest. It is a term that refers to a group of people that share a common interest, culture, or tradition. It is often used to describe a particular geographical area or a particular set of people that are living in close proximity to each other, or in a similar manner. Civilisation is a large group of human beings that have adopted a common language and culture from different cultures and traditions. It is a term that is often used to describe a large group of human beings that have come together to create a common language, as a common language, and/or an important part of that is often associated with a historical or cultural identity that is used as a</s>\n",
      "########\n",
      "*******\n",
      "question: What  is likely to happen to ice in the sun?\n",
      "answer: become water\n",
      "choices: ['cool water', 'cool drink', 'cool off', 'nothing', 'become water']\n",
      "common expl list: ['When ice is exposed to the sun, it melts, becoming water.', 'because hot melts cold, ice will melt if kept in the sun.']\n"
     ]
    },
    {
     "name": "stderr",
     "output_type": "stream",
     "text": [
      "\r",
      " 11%|██████████████████▎                                                                                                                                             | 113/986 [6:02:43<22:06:47, 91.19s/it]"
     ]
    },
    {
     "name": "stdout",
     "output_type": "stream",
     "text": [
      "generated explanation: <pad> <extra_id_0> It is likely that ice in the sun will become water. Water is a liquid that is formed when solid substances, such as ice, are exposed to heat and sunlight. When ice is exposed to heat and sunlight, it is likely that it will melt and become water. Water is a liquid that is derived from water and used for cooling, cleaning, and other purposes. Ice that has been exposed to the sun will likely melt and turn into water, which is a more readily available and usable liquid than ice that has already formed.<extra_id_1> </s>\n",
      "########\n",
      "*******\n",
      "question: Where can travellers pull off the road to stretch their legs?\n",
      "answer: rest area\n",
      "choices: ['rest area', 'airport', 'train station', 'come home', 'bus depot']\n",
      "common expl list: ['Rest areas generally allow travelers to spend time away from the roads, which are generally connecting points to large cities and particular highway names.', 'Rest areas are places where people can pull off the road to stretch their legs, and they are often located near gas stations, which are frequented by travellers.', 'Rest areas are publicly provided spaces for drivers to get out of their cars for a break. Train stations, bus depots, come home, and airports are all places where one might catch a bus, train, taxi, or plane, or have arrived']\n"
     ]
    },
    {
     "name": "stderr",
     "output_type": "stream",
     "text": [
      "\r",
      " 12%|██████████████████▍                                                                                                                                             | 114/986 [6:03:58<20:55:17, 86.37s/it]"
     ]
    },
    {
     "name": "stdout",
     "output_type": "stream",
     "text": [
      "generated explanation: <pad> <extra_id_0> Rest areas are places where travellers can pull off the road to stretch their legs and relax. Rest areas are typically located in rural areas or along major highways. They are often designated by signs or markers that provide information about the location and amenities available at the rest areas, such as restrooms, picnic areas, and playgrounds. Rest areas are often located at designated intersections or off the road where drivers can stop and take a break, use the restroom, or simply relax. Rest areas are often located off the road in designated areas and provide a safe, comfortable and convenient place to stretch their legs and muscles.<extra_id_1> </s>\n",
      "########\n",
      "*******\n",
      "question: A poor family has no decorations in December, what would make a great gift?\n",
      "answer: christmas tree\n",
      "choices: ['food', 'specialty store', 'christmas tree', 'department store', 'christmas stocking']\n",
      "common expl list: ['A christmas tree is a traditional decoration for christmas.', 'In December, most families tend to put up christmas decorations. A christmas tree would make a good gift for a poor family.', 'The family is poor, so we might assume that they have nothing for decoration for their Christmas season. To help fix this, a Christmas tree would be the greatest gift.']\n"
     ]
    },
    {
     "name": "stderr",
     "output_type": "stream",
     "text": [
      "\r",
      " 12%|██████████████████▋                                                                                                                                             | 115/986 [6:05:33<21:30:11, 88.88s/it]"
     ]
    },
    {
     "name": "stdout",
     "output_type": "stream",
     "text": [
      "generated explanation: <pad> <extra_id_0> If a family has no decorations in December, a christmas tree would make a great gift. A christmas tree is a decorative object that is used during the holiday season to help decorate homes and businesses, and to help create a festive atmosphere. Christmas trees are typically large, straight, upright trees that are decorated with lights, ornaments, and other decorations that are typically associated with the holiday season. Christmas trees can be expensive, and they can be difficult to find in poorer communities. However, a Christmas tree can provide a nice touch to any home or business and help to make their holiday season. By purchasing a Christmas tree, a family can afford to celebrate the holiday season and to improve their overall ambiance.<extra_id_1> </s>\n",
      "########\n",
      "*******\n",
      "question: Where would you buy jeans in a place with a large number of indoor merchants?\n",
      "answer: shopping mall\n",
      "choices: ['shopping mall', 'laundromat', 'hospital', 'clothing store', 'thrift store']\n",
      "common expl list: ['Since malls (or indoor shopping centers in general) contain numerous merchants, including clothing stores, you could purchase jeans in one such store.', 'Shopping malls often have a large number of stores, including clothing stores.', 'Shopping malls usually contain a large variety of stores, including stores that sell clothes and jeans.']\n"
     ]
    },
    {
     "name": "stderr",
     "output_type": "stream",
     "text": [
      "\r",
      " 12%|██████████████████▊                                                                                                                                             | 116/986 [6:06:59<21:14:53, 87.92s/it]"
     ]
    },
    {
     "name": "stdout",
     "output_type": "stream",
     "text": [
      "generated explanation: <pad> <extra_id_0> In a place with a large number of indoor merchants, you might buy jeans at a shopping mall. A shopping mall is a building that is used as a gathering place for people, including shoppers and retailers, and it typically has a variety of shops and stores, including clothing stores, restaurants, and other retail outlets. A shopping mall typically has a large number of indoor merchants, including clothing stores, jewelry, shoes, and other accessories, as well as a variety of other types of retail outlets, such as food and fashion items. It is common to find jeans in a variety of types of clothing and other items in a shopping mall.<extra_id_1> </s>\n",
      "########\n",
      "*******\n",
      "question: If I wanted to get some oxygen, what will I get it from?\n",
      "answer: air\n",
      "choices: ['the sky', 'air', 'earth', 'space shuttle', 'water']\n",
      "common expl list: ['Oxygen is found in the air.']\n"
     ]
    },
    {
     "name": "stderr",
     "output_type": "stream",
     "text": [
      "\r",
      " 12%|██████████████████▉                                                                                                                                             | 117/986 [6:08:24<21:03:57, 87.27s/it]"
     ]
    },
    {
     "name": "stdout",
     "output_type": "stream",
     "text": [
      "generated explanation: <pad> <extra_id_0> If I wanted to get some oxygen, I would need to breathe in air. Air is a form of oxygen that is naturally occurring in the air, and it is a vital component of life. Air contains a variety of nutrients, including oxygen, nitrogen, phosphorus, and potassium, as well as other essential nutrients and elements. When breathing in, air provides a convenient and efficient means of transporting oxygen to the lungs, muscles, and other body parts. It is important for humans to have access to fresh air, which is a vital resource for supplying the body with oxygen, as it is critical for the proper functioning of the heart and lung.<extra_id_1> </s>\n",
      "########\n",
      "*******\n",
      "question: What happens after having food too much?\n",
      "answer: getting fat\n",
      "choices: ['being full', 'laziness', 'weight gain', 'getting fat', 'will not starve']\n",
      "common expl list: ['Eating too much food causes one to gain weight, and thus become fat.', 'Eating too much food causes one to become obese.', 'People will become fat, and even obese from eating too much food.']\n"
     ]
    },
    {
     "name": "stderr",
     "output_type": "stream",
     "text": [
      "\r",
      " 12%|███████████████████▏                                                                                                                                            | 118/986 [6:09:48<20:47:28, 86.23s/it]"
     ]
    },
    {
     "name": "stdout",
     "output_type": "stream",
     "text": [
      "generated explanation: <pad> <extra_id_0> If you have too much food, it is possible that you will gain weight. Weight gain is a common health concern that can occur when a person consumes too much food. Being overweight is a common health concern that can occur when a person eats too much food or drinks too much fluid. Fat accumulation can cause various health problems, such as blood clots and difficulty in moving around. It is important for people who are overweight or obese to maintain a healthy weight and to avoid developing any serious health issues. It is important to limit the amount of food that they consume to help prevent obesity and to prevent weight gain and to maintain a healthy weight.<extra_id_1> </s>\n",
      "########\n",
      "*******\n",
      "question: It was the first time they had met their new niece, it was good to have everybody together at the annual what?\n",
      "answer: family reunion\n",
      "choices: [\"brother's house\", 'family picture book', 'family tree', 'family reunion', 'book']\n",
      "common expl list: ['A family reunion is called a family reunion because this is where all of the family members gather for the re-union.']\n"
     ]
    },
    {
     "name": "stderr",
     "output_type": "stream",
     "text": [
      "\r",
      " 12%|███████████████████▎                                                                                                                                            | 119/986 [6:11:10<20:27:08, 84.92s/it]"
     ]
    },
    {
     "name": "stdout",
     "output_type": "stream",
     "text": [
      "generated explanation: <pad> <extra_id_0> It was good to have everybody together at the annual family reunion. It was the first time they had met their new niece, it was good to have everybody together at the annual family reunion. The family reunion was an important time for them to reconnect with each other and to celebrate important milestones in their lives. The annual family reunion is a gathering of relatives and friends who gather every year to celebrate the achievements and milestones of their families. It is often the first time that new relatives are introduced to each other and that they can form close bonds with old relatives and friends, and it was good to have everybody together at the annual event.<extra_id_1> </s>\n",
      "########\n",
      "*******\n",
      "question: If you're expressing yourself in a public forum, what may you experience?\n",
      "answer: stage fright\n",
      "choices: ['danger', 'embarrassment', 'stage fright', 'getting arrested', 'blank stares']\n",
      "common expl list: ['Stage fright is the feeling of embarrassment or nervousness at the thought of being in front of people, and being on stage for a performance is a good example of a place where one often experiences stage fright. In such a case, their performance might be', 'If you are expressing yourself in a public forum, you may experience stage fright, which is the fear of being embarrassed in front of a large audience.', 'A common example of expressing oneself in public is on stage. Members of an audience may stare and become bored, and at worst they may hiss or boo.']\n"
     ]
    },
    {
     "name": "stderr",
     "output_type": "stream",
     "text": [
      "\r",
      " 12%|███████████████████▍                                                                                                                                            | 120/986 [6:12:48<21:22:12, 88.84s/it]"
     ]
    },
    {
     "name": "stdout",
     "output_type": "stream",
     "text": [
      "generated explanation: <pad> <extra_id_0> If you're expressing yourself in a public forum, you may experience stage fright. Stage fright is the fear of performing in front of an audience or speaking in front of a large group of people. Stage fright is a common emotional reaction to speaking in front of a large audience or in a public forum. It is a common emotional response that people experience when they are in a public forum or making a public statement. It is a common emotional reaction that occurs when a person is exposed to a larger audience or in a public forum, and it can be a challenging experience. If you are expressing yourself in a public forum, you may experience anxiety or a fear of being recognized and understood by others.<extra_id_1> </s>\n",
      "########\n",
      "*******\n",
      "question: He was eating too much while no exercising enough, what did he suffer as a result?\n",
      "answer: gain weight\n",
      "choices: ['hungry', 'gas', 'obesity', 'gain weight', 'feeling full']\n",
      "common expl list: ['Excessive food consumption leads to accumulation of fat, which then results in a higher body weight, i.e., weight gain.', \"If you eat too much and don't exercise enough, you will gain weight.\", 'If you eat more than you burn, you gain weight.']\n"
     ]
    },
    {
     "name": "stderr",
     "output_type": "stream",
     "text": [
      "\r",
      " 12%|███████████████████▋                                                                                                                                            | 121/986 [6:14:01<20:11:03, 84.00s/it]"
     ]
    },
    {
     "name": "stdout",
     "output_type": "stream",
     "text": [
      "generated explanation: <pad> <extra_id_0> If he was eating too much while not exercising enough, he may have gained weight. Weight gain is a common health problem that can be caused by a combination of factors, including a lack of exercise and poor nutrition. When someone eats too much while not exercising enough, they may experience weight gain. Weight gain is a common health problem that can be caused by a combination of factors, including a lack of exercise and insufficient exercise. It is important for people to maintain a healthy weight and to avoid excessive weight loss.<extra_id_1> </s>\n",
      "########\n",
      "*******\n",
      "question: Randy was not doing housework.   His wife was raising two children, and this only increased her workload. It put her under a lot of stress.  What might this lead to?\n",
      "answer: arguments\n",
      "choices: ['asthma', 'more', 'boredom', 'headache', 'arguments']\n",
      "common expl list: ['Stress is often related to family life. Being under stress, the wife might verbally lash out at her husband, which could potentially lead to arguments']\n"
     ]
    },
    {
     "name": "stderr",
     "output_type": "stream",
     "text": [
      "\r",
      " 12%|███████████████████▊                                                                                                                                            | 122/986 [6:15:45<21:38:13, 90.15s/it]"
     ]
    },
    {
     "name": "stdout",
     "output_type": "stream",
     "text": [
      "generated explanation: <pad> <extra_id_0> If Randy was not doing housework, it might lead to arguments. A spouse who is raising two children under the care of their spouse is likely to experience stress and stress-related emotions, such as anger, frustration, and resentment. If a spouse is raising two children under the care of their spouse and is under a lot of pressure to do so, it is likely that this stress will lead to arguments between the spouses. It is important for both the spouses to understand and accept that raising two children under one roof is a challenging task, and it can be challenging for both parties to cope with the demands of raising two children and navigating the challenges of raising two children in a home environment. Stress can lead to emotional and behavioral problems in a variety of emotional and behavioral issues, such as depression or physical symptoms.<extra_id_1> </s>\n",
      "########\n",
      "*******\n",
      "question: Where can you learn about a ferret with special abilities far beyond normal ferrets?\n",
      "answer: comic book\n",
      "choices: ['comic book', 'out of doors', 'great britain', 'redwall', 'north carolina']\n",
      "common expl list: ['ferrets are lovable pets that occasionally pop up in comic or animated shows and movies. Occasionally a ferret is rodent, but more often they are the companion of a hero.']\n"
     ]
    },
    {
     "name": "stderr",
     "output_type": "stream",
     "text": [
      "\r",
      " 12%|███████████████████▉                                                                                                                                            | 123/986 [6:17:04<20:46:09, 86.64s/it]"
     ]
    },
    {
     "name": "stdout",
     "output_type": "stream",
     "text": [
      "generated explanation: <pad> <extra_id_0> In a comic book, a ferret is a fictional animal that has special abilities and traits that allow it to perform tasks or perform actions that are difficult or dangerous for other animals. Comic books often feature characters and situations that are not realistic, such as a superhero or a villain, and they often feature the behaviors and traits of real animals. For example, a comic book might feature a ferret that has special abilities or is capable of performing actions that are beyond the normal range of a ferret's abilities or traits that make it unique and/or interesting.<extra_id_1> </s>\n",
      "########\n",
      "*******\n",
      "question: When people have guests over, what do they often do for their guests?\n",
      "answer: cook food\n",
      "choices: ['talk to each other', 'learn from each other', 'demand justice', 'cook food', 'share food']\n",
      "common expl list: ['People often cook food for their guests.', \"People often prepare and share food because it's a way to welcome and appreciate each other.\", \"It's common to cook food for guests, which can feed everyone.\", \"People who have guests (guests of any kind) over tend to cook them food. The food can either be pre-cooked, and ready to be served upon the guest's arrival, or consumed while the two of them have a conversation.\", \"When people have guests over, it's common for them to make food for their guests.\"]\n"
     ]
    },
    {
     "name": "stderr",
     "output_type": "stream",
     "text": [
      "\r",
      " 13%|████████████████████                                                                                                                                            | 124/986 [6:18:51<22:13:23, 92.81s/it]"
     ]
    },
    {
     "name": "stdout",
     "output_type": "stream",
     "text": [
      "generated explanation: <pad> <extra_id_0> When people have guests over, they often cook food for them. Food is often served as a snack, meal, or dessert to their guests. Cooking for guests can provide a welcoming and memorable experience for their guests, and it can also provide a delicious and filling way for them to connect with their hosts and hostesses. One way that people can show their guests that they care about them and that they are valued and appreciated. One way that people may choose to entertain their guests is by providing them with a variety of choices in terms of food preferences and tastes. Cooking for guests is a way that hosts can provide a variety of foods that they may have access to a variety of culinary options, and it can be done in a variety of ways, depending on the nature of the guests and the specific needs of the host.<extra_id_1> </s>\n",
      "########\n",
      "*******\n",
      "question: Talking to someone is pointless if they're doing what?\n",
      "answer: not listening\n",
      "choices: ['dry mouth', 'whispering', 'being heard', 'eye contact', 'not listening']\n",
      "common expl list: ['To be engaged in a conversation--particularly a one-on-one conversation, both people must be listening attentively.', 'People who are not listening to you will obviously not be able to understand your communication.']\n"
     ]
    },
    {
     "name": "stderr",
     "output_type": "stream",
     "text": [
      "\r",
      " 13%|████████████████████▎                                                                                                                                           | 125/986 [6:20:12<21:23:01, 89.41s/it]"
     ]
    },
    {
     "name": "stdout",
     "output_type": "stream",
     "text": [
      "generated explanation: <pad> <extra_id_0> It is pointless to talk to someone if they're not listening. Not listening is a common example of someone who is not actively listening to what you are saying. When talking to someone, you may find that they are not actively listening to you and are instead engaged in another activity or thinking about something else. This can be because they are not actively engaged in the conversation and are instead engaged in activities such as watching television, surfing the web, or reading a book. It is important to remember that listening to someone is an important part of communicating with them and that it can be difficult to engage in meaningful conversation if they are not engaged in order to understand what you are saying.<extra_id_1> </s>\n",
      "########\n",
      "*******\n",
      "question: If you are enjoying sunshine on the beach, what do you likely have views of?\n",
      "answer: sea\n",
      "choices: ['windowsill', 'sunbathers', 'disneyland', 'sea', 'summer']\n",
      "common expl list: ['Seashores usually have views of the water (i.e., the \"sea\").', \"The beach is a place where people go to enjoy the sun, and so it's likely that the beach would have views of the sea.\", 'To sunbathe, one would likely be found on a beach, where one would likely see the sea before anything else.']\n"
     ]
    },
    {
     "name": "stderr",
     "output_type": "stream",
     "text": [
      "\r",
      " 13%|████████████████████▍                                                                                                                                           | 126/986 [6:21:37<21:02:37, 88.09s/it]"
     ]
    },
    {
     "name": "stdout",
     "output_type": "stream",
     "text": [
      "generated explanation: <pad> <extra_id_0> If you are enjoying sunshine on the beach, you are likely to have views of the sea. The sea is the body of water that surrounds the earth and is comprised of water that is cooled by the sun and is used for navigation, transportation, and other purposes. The sea is a body of water that is used for swimming, fishing, and other recreational activities. It is a rich, moving resource that is home to a wide variety of species, including fish, shellfish, and other types of aquatic life. The sea is a beautiful, dynamic environment that can be enjoyed by those who are active participants in the water and can enjoy the views of the ocean while enjoying the sunshine and sea breezes.<extra_id_1> </s>\n",
      "########\n",
      "*******\n",
      "question: What does an actor do while acting?\n",
      "answer: pretend\n",
      "choices: ['branch out', 'eat curry', 'wear costume', 'pretend', 'sing songs']\n",
      "common expl list: ['Actors pretend certain things. While acting, they might pretend to be in a different location by going somewhere close to a stage feed. Actors might also pretend to possess particular materials while on stage by carrying props.']\n"
     ]
    },
    {
     "name": "stderr",
     "output_type": "stream",
     "text": [
      "\r",
      " 13%|████████████████████▌                                                                                                                                           | 127/986 [6:23:14<21:39:14, 90.75s/it]"
     ]
    },
    {
     "name": "stdout",
     "output_type": "stream",
     "text": [
      "generated explanation: <pad> <extra_id_0> An actor is a person who performs a specific role in a play or movie. When an actor is acting, they are taking on a specific role or performing a series of actions or steps that they are familiar with. The role of an actor is to entertain the audience by performing a series of actions or behaviors that are intended to evoke a specific response from the audience. When an actor is acting, they are using their body and voice to convey meaning and emotion, such as anger, surprise, or surprise. In order to engage in a variety of ways, depending on the circumstances and the type of role they are playing, such as by reheadverification of the storyline or by a different perspective or a different perspective.<extra_id_1> </s>\n",
      "########\n",
      "*******\n",
      "question: Where is a ring binder likely to contain budgets?\n",
      "answer: office\n",
      "choices: ['office', 'notebook', 'school', 'stationary shop', 'desk']\n",
      "common expl list: ['An office setting is the most likely place where a manager would keep a collection of budgets.', 'A ring binder is likely to contain budgets in an office, as budgets are often prepared by office workers.']\n"
     ]
    },
    {
     "name": "stderr",
     "output_type": "stream",
     "text": [
      "\r",
      " 13%|████████████████████▊                                                                                                                                           | 128/986 [6:24:32<20:43:07, 86.93s/it]"
     ]
    },
    {
     "name": "stdout",
     "output_type": "stream",
     "text": [
      "generated explanation: <pad> <extra_id_0> A ring binder is likely to contain budgets. Budgets are documents that are used to track spending and track progress toward goals. Budgets are typically prepared by companies and organizations and contain information such as expenditures, revenue, and expenses. Budgets typically are kept in a ring binder and are typically organized by department or departmental budget. They may also contain supporting documents, such as policies and procedures, and may be used by employees to help manage their budgets and track their spending. Budgets are typically organized by month or year and contain information such as financial planning, tracking and tracking budgets, and tracking information.<extra_id_1> </s>\n",
      "########\n",
      "*******\n",
      "question: Where do you go when you're about to board a vehicle on railing?\n",
      "answer: railway station\n",
      "choices: ['railway station', 'deck', 'flight of stairs', 'porch', 'bus station']\n",
      "common expl list: ['Railway stations are where you board trains, which are often on rails.', 'Trains and busses both commonly make use of rail transportation to facilitate their travel. Railway station is the station they are staking out to board at. Thus, railway station is where you would go if you need to board a vehicle on a']\n"
     ]
    },
    {
     "name": "stderr",
     "output_type": "stream",
     "text": [
      "\r",
      " 13%|████████████████████▉                                                                                                                                           | 129/986 [6:26:20<22:10:52, 93.18s/it]"
     ]
    },
    {
     "name": "stdout",
     "output_type": "stream",
     "text": [
      "generated explanation: <pad> <extra_id_0> When you are about to board a vehicle on railing, you go to a railway station. A railway station is a building or structure that is used for the purposes of transporting people, goods, and materials by rail. Railway stations are often located in urban areas and have a variety of amenities, such as waiting areas, toilets, and waiting areas, as well as information and communication systems, and they are often used in conjunction with other public transit systems. A railway station is a place where people can go to board a train or train. A railway station is a railway station, a railway station, or a similar facility. If you are about to board a train, you go to a railway station. Rail stations are often located in urban areas, where trains and other transportation services are provided.<extra_id_1> </s>\n",
      "########\n",
      "*******\n",
      "question: Where can I go to see a really big toy balloon floating at the top of a dome?\n",
      "answer: circus\n",
      "choices: ['parade', 'circus', 'amusement park', 'birthday party', 'magic show']\n",
      "common expl list: ['Circuses often have big inflatables on the top dome of a tent; inside, they could house various attractions such as clowns, acts, games, rides, food, drinks, etc.']\n"
     ]
    },
    {
     "name": "stderr",
     "output_type": "stream",
     "text": [
      "\r",
      " 13%|█████████████████████                                                                                                                                           | 130/986 [6:28:05<22:58:24, 96.62s/it]"
     ]
    },
    {
     "name": "stdout",
     "output_type": "stream",
     "text": [
      "generated explanation: <pad> <extra_id_0> I can go to a circus and see a really big toy balloon floating at the top of a dome. A balloon is a type of inflatable balloon that is typically used in circuses and other events to entertain and entertain audiences. Balloons are often used as a form of entertainment and display at events such as carnivals, festivals, and other events. One example of a balloon that might be seen floating at the top of a dome is the giant hot air balloon, which is often used in circuses and other events. They may also be a fun and interactive experience for visitors, with a variety of activities, and a variety of attractions, including a variety of animals, a variety of food, and a variety of exhibits and performances.<extra_id_1> </s>\n",
      "########\n",
      "*******\n",
      "question: They got to the door and it was locked, he reached in his jeans what to retrieve the key?\n",
      "answer: pocket\n",
      "choices: ['pocket', 'bus depot', 'lock', 'purse', 'front door']\n",
      "common expl list: ['People often keep their keys in their pockets.', 'Most people keep house keys in their pocket.']\n"
     ]
    },
    {
     "name": "stderr",
     "output_type": "stream",
     "text": [
      "\r",
      " 13%|█████████████████████▎                                                                                                                                          | 131/986 [6:29:34<22:24:24, 94.34s/it]"
     ]
    },
    {
     "name": "stdout",
     "output_type": "stream",
     "text": [
      "generated explanation: <pad> <extra_id_0> When they got to the door and it was locked, they reached in their jeans to retrieve the key. Pocket is a pocket that is typically found on a shirt or pant that is usually located on the front or inside of the shirt. It is used for storing keys, coins, and other small items. Pockets are often found in the back or front of a shirt and are often used for keeping keys, coins, and other small items. When someone reaches in their jeans for a key, they are reaching into the pocket to retrieve the key. If they are able to retrieve the key, they are likely to lock the door and enter their home.<extra_id_1> </s>\n",
      "########\n",
      "*******\n",
      "question: The car was overheating, where was it located?\n",
      "answer: in phoenix\n",
      "choices: ['airport', \"neighbor's house\", 'in phoenix', 'repair shop', 'street corner']\n",
      "common expl list: ['Phoenix is a hot place, and cars often overheat there.']\n"
     ]
    },
    {
     "name": "stderr",
     "output_type": "stream",
     "text": [
      "\r",
      " 13%|█████████████████████▎                                                                                                                                         | 132/986 [6:31:30<23:57:56, 101.03s/it]"
     ]
    },
    {
     "name": "stdout",
     "output_type": "stream",
     "text": [
      "generated explanation: <pad> <extra_id_0> If the car was overheating, it is likely that it was located in phoenix, Arizona. Phoenix is a city in the state of Arizona, near the Mexican border. It is a popular tourist destination and home to many different cultures, races, and ethnic groups. As a result, the area is home to a wide variety of cultures, languages, and landscapes, including parks, gardens, and museums. The city is known for its hot summers, and its hot weather is often associated with high temperatures. As a result, the city is a popular destination for many people, and as a result, they may choose to move their cars to cooler climates or cooler climates in order to cool off the car and reduce the risk of a variety of geographic locations, such as a cool climates, which can help to cool the vehicle and lower the risk of overheating conditions.<extra_id_1> </s>\n",
      "########\n",
      "*******\n",
      "question: Where is likely to have a walk in type wardrobe?\n",
      "answer: mansion\n",
      "choices: ['recreational vehicle', 'clothes cupboard', 'house', 'mansion', 'bedroom']\n",
      "common expl list: ['A walk in wardrobe is a large type of closet that could be found in a mansion.', 'A walk-in wardrobe is a large wardrobe that is usually found in a mansion.', 'As I think of scenarios, the result I expect the most is that of a person with a lot of clothes, or a clothing designer, living in a mansion; these people might have the luxury of a walk in wardrobe.']\n"
     ]
    },
    {
     "name": "stderr",
     "output_type": "stream",
     "text": [
      "\r",
      " 13%|█████████████████████▍                                                                                                                                         | 133/986 [6:33:12<23:58:12, 101.16s/it]"
     ]
    },
    {
     "name": "stdout",
     "output_type": "stream",
     "text": [
      "generated explanation: <pad> <extra_id_0> A walk-in type wardrobe is a type of wardrobe that has doors on both sides and is typically located in a home or building that is designed to accommodate multiple bedrooms and bathrooms. Walk-in wardrobes are often used for storing and organizing clothes and other items, and they are often located in a room or area that is designed to accommodate them. Walk-in wardrobes can be found in a variety of settings, including houses, apartments, and hotels. They are often designed with a variety of features, including shelves, drawers, and other items. Walk-in wardrobes are typically found in a mansion, which is a large, traditional home that is designed to provide access to a variety of storage options, including a walk-in wardrobe, a room or bathroom.<extra_id_1> </s>\n",
      "########\n",
      "*******\n",
      "question: How bad is the punishment for someone who is over indulgent?\n",
      "answer: severe\n",
      "choices: ['severe', 'harsh', 'hard', 'strict', 'self denying']\n",
      "common expl list: ['Overindulgence in anything is bad, possibly leading to lethargy, poor health, overspending, and the like. As a result of this, a punishment for a person who is over-indulgent could be severe.']\n"
     ]
    },
    {
     "name": "stderr",
     "output_type": "stream",
     "text": [
      "\r",
      " 14%|█████████████████████▋                                                                                                                                          | 134/986 [6:34:42<23:10:13, 97.90s/it]"
     ]
    },
    {
     "name": "stdout",
     "output_type": "stream",
     "text": [
      "generated explanation: <pad> <extra_id_0> The punishment for someone who is over indulgent is severe. Indulging in something that is not healthy or in moderation is a very bad thing. Indulging in an unhealthy or excessive amount of something can have serious consequences, such as weight gain, health problems, or even death. If someone is over indulgent, they may suffer from various types of negative effects, such as being denied food or water or having their rights violated. Over indulgence can also lead to feelings of guilt or shame, which may make them feel uncomfortable or uncomfortable. It may be difficult or even be a painful punishment for someone who is overly harsh or abusive.<extra_id_1> </s>\n",
      "########\n",
      "*******\n",
      "question: She was going to bed at 11 at night, what was she looking to do?\n",
      "answer: falling asleep\n",
      "choices: ['falling asleep', 'relaxing', 'rest', 'dreaming of', 'laziness']\n",
      "common expl list: ['Falling asleep is often a desired result when going to bed.', \"People go to bed when they're tired and want to sleep\"]\n"
     ]
    },
    {
     "name": "stderr",
     "output_type": "stream",
     "text": [
      "\r",
      " 14%|█████████████████████▉                                                                                                                                          | 135/986 [6:36:12<22:33:35, 95.44s/it]"
     ]
    },
    {
     "name": "stdout",
     "output_type": "stream",
     "text": [
      "generated explanation: <pad> <extra_id_0> If she was going to bed at 11 o'clock at night, she was looking for a way to fall asleep. Sleep is a natural process that occurs when the body naturally relaxes and shuts down. It is a natural process that occurs when the body goes to sleep and wakes up at a certain time. It is important for people going to bed at this time to find a comfortable place to sit, relax, and unwind. It is also a natural process that occurs when people are going to bed at a time when they can be more easily fall asleep. When going to bed at 11 a person may be looking to fall asleep and experience a peaceful sleep.<extra_id_1> </s>\n",
      "########\n",
      "*******\n",
      "question: A company with the moniker of Big Sky Excavation would probably be found where?\n",
      "answer: montana\n",
      "choices: ['a forest', 'city', 'egypt', 'montana', 'desert']\n",
      "common expl list: ['Mountain ranges are often called \"big sky\"s. The term is popular for companies in Montana, a state with lots of mountians, including two major mountain ranges.']\n"
     ]
    },
    {
     "name": "stderr",
     "output_type": "stream",
     "text": [
      "\r",
      " 14%|██████████████████████                                                                                                                                          | 136/986 [6:37:38<21:52:48, 92.67s/it]"
     ]
    },
    {
     "name": "stdout",
     "output_type": "stream",
     "text": [
      "generated explanation: <pad> <extra_id_0> A company with the moniker of Big Sky Excavation would probably be found in montana. The state of montana is a western state in the western hemisphere, and is located in the western region of the country. It is a western state, and is located in the western hemisphere. Big Sky Excavation was founded in 1996, and is a privately held company that specializes in excavation and mining. It is a western state that is known for its scenic beauty, rugged terrain, and rugged terrain. It is a popular destination for contractors and mining companies, and is often associated with the region.<extra_id_1> </s>\n",
      "########\n",
      "*******\n",
      "question: Which horseman of the apocalypse is often depicted next to death?\n",
      "answer: war\n",
      "choices: ['battlefield', 'the healer.', 'funeral', 'war', 'hospital']\n",
      "common expl list: ['A time of war is also often associated with someone dying.']\n"
     ]
    },
    {
     "name": "stderr",
     "output_type": "stream",
     "text": [
      "\r",
      " 14%|██████████████████████▏                                                                                                                                         | 137/986 [6:39:14<22:05:30, 93.68s/it]"
     ]
    },
    {
     "name": "stdout",
     "output_type": "stream",
     "text": [
      "generated explanation: <pad> <extra_id_0> The horseman of the apocalypse is often depicted next to death. The horseman represents the forces of evil and is often accompanied by the demon of war. War is a term that refers to an enemy or an adversary who is waging war against a specific group or group of people. It is often used in religious texts to describe the coming of the end times. The horseman is often depicted next to death and is often accompanied by the figure of a sword and other weapons. It is believed that the final chapter of the rapture will be the final judgment, or the final chapter of the book of the book of the upcoming events that will take place.<extra_id_1> </s>\n",
      "########\n",
      "*******\n",
      "question: What could be used to write with a steel pen?\n",
      "answer: hand\n",
      "choices: ['warehouse', 'arm', 'hand', 'desk drawer', 'veterinary office']\n",
      "common expl list: ['you write with a steel pen using your hand.', 'Using a steel pen requires someone to hold it, and we associate writing with hands. Powder can be used with steel pens as a \"contrast medium.']\n"
     ]
    },
    {
     "name": "stderr",
     "output_type": "stream",
     "text": [
      "\r",
      " 14%|██████████████████████▎                                                                                                                                        | 138/986 [6:41:31<25:08:33, 106.74s/it]"
     ]
    },
    {
     "name": "stdout",
     "output_type": "stream",
     "text": [
      "generated explanation: <pad> <extra_id_0> A steel pen is a writing instrument that is typically used for writing or drawing on paper. The pen is typically made of stainless steel, and it is typically used for writing or drawing on a variety of surfaces, such as walls, ceilings, books, and other surfaces. It is designed to be durable and long-lasting, and it is available in a variety of finishes, including polished, brushed, and satin-finish finishes. The pen features a steel tip and a steel core that is coated with a corrosion-resistant, and flexible writing. It is possible to use a steel pen to write with a variety of materials, including paper, and even ink, as it is a convenient and convenient writing instrument for writing on a variety of surfaces, including hands, and even with a steel-tip, because it is a durable and flexible, flexible, and flexible enough to write with a variety of materials, such as chalk, paper, and drawing, and toner, and for other types of<extra_id_14> </s>\n",
      "########\n",
      "*******\n",
      "question: I needed to find out how to contact a person with a certain name, where should I look?\n",
      "answer: phone book\n",
      "choices: ['directory', 'michigan', 'roster', 'phone book', 'certificate']\n",
      "common expl list: ['Phone books are usually a good source for finding phone numbers to call other people.', 'People are listed in phone books for easy access by callers.', 'A phone book is likely to have the phone numbers of nearby people.', \"Phone books are used to find people's phone numbers.\"]\n"
     ]
    },
    {
     "name": "stderr",
     "output_type": "stream",
     "text": [
      "\r",
      " 14%|██████████████████████▍                                                                                                                                        | 139/986 [6:43:07<24:18:45, 103.34s/it]"
     ]
    },
    {
     "name": "stdout",
     "output_type": "stream",
     "text": [
      "generated explanation: <pad> <extra_id_0> If I needed to find out how to contact a person with a certain name, I should look in the phone book. The phone book is a book that lists the names and addresses of people who live in a particular city or town. The book lists the names of people and the addresses of the places they may reside, as well as their phone numbers and other contact information. If I needed to find out how to contact a person with a certain name, I should look in the phone book. The phone book contains information such as the name of the person, their address, and their phone number. If I needed to find out how to contact a person with a certain name, I should look in the directory or in the phone book.<extra_id_1> </s>\n",
      "########\n",
      "*******\n",
      "question: What is important for a couple to do?\n",
      "answer: communicate\n",
      "choices: ['live together', 'row about', 'plan to marry', 'communicate', 'marry each other']\n",
      "common expl list: ['Couples who communicate well are more likely to stay together, and thus, it is important for a couple to communicate.', \"To make a relationship work, it's very important to communicate with each other.\", 'Communication is a key part of a healthy relationship and - often equally as important - is the commitment to communicate effectively.']\n"
     ]
    },
    {
     "name": "stderr",
     "output_type": "stream",
     "text": [
      "\r",
      " 14%|██████████████████████▋                                                                                                                                         | 140/986 [6:44:26<22:37:37, 96.29s/it]"
     ]
    },
    {
     "name": "stdout",
     "output_type": "stream",
     "text": [
      "generated explanation: <pad> <extra_id_0> Communicate is important for a couple to do. It is important for a couple to do what they need to do to be successful and have a happy relationship. Communication is the key to a successful relationship and a healthy relationship. It allows partners to share their thoughts, feelings, and goals with each other, and to establish clear goals and expectations. Communication is key to a successful relationship and can help to reduce conflict and promote harmony in the relationship. It is also important for a couple to communicate with each other and to establish clear and honest feelings and to be open and honest with each other about their goals, and to share their concerns and intentions.<extra_id_1> </s>\n",
      "########\n",
      "*******\n",
      "question: The botanist knew the plant was living, what did he observe that led him to know that?\n",
      "answer: respiration\n",
      "choices: ['interaction', 'death', 'respiration', 'expiration', 'chlorophyll']\n",
      "common expl list: [\"The teacher commonly noted that plants give off oxygen as a result of respiration, which helps fuel their energy and growth. This was evidence of a plant's life.\"]\n"
     ]
    },
    {
     "name": "stderr",
     "output_type": "stream",
     "text": [
      "\r",
      " 14%|██████████████████████▋                                                                                                                                        | 141/986 [6:46:29<24:28:49, 104.29s/it]"
     ]
    },
    {
     "name": "stdout",
     "output_type": "stream",
     "text": [
      "generated explanation: <pad> <extra_id_0> If the botanist knew the plant was living, what did he observe that led him to know that? Respiration is the process by which a plant gets its energy from the air it breathes. Respiration is a vital process for maintaining the life of a plant, and it is one way that plants stay alive and healthy. Respiration is a process that occurs when a plant gets its oxygen from the air it breathes. Respiration is a vital process for maintaining the health and viability of the plant, and it is through this that the botanist can observe the plant's respiration and other signs of life. It is a process that is used by a variety of processes, including the development of new leaves, and reproductive and reproductive organs, and it is believed that the plant is living, and that the plant is therefore, and that it is possible that the plant has evolved over time.<extra_id_1> </s>\n",
      "########\n",
      "*******\n",
      "question: What is it called when teens are together not doing anything in particular?\n",
      "answer: hang out\n",
      "choices: ['smoke', 'homework', 'volunteer', 'party', 'hang out']\n",
      "common expl list: ['Hang out is a term that could be used for teens hanging out together, typically with no particular agenda.', 'Hanging out\" is used to describe events where people are socializing, doing nothing in particular. Other events include hanging out with a purpose (doing homework, studying outside, going shopping, etc.).']\n"
     ]
    },
    {
     "name": "stderr",
     "output_type": "stream",
     "text": [
      "\r",
      " 14%|███████████████████████                                                                                                                                         | 142/986 [6:47:59<23:26:31, 99.99s/it]"
     ]
    },
    {
     "name": "stdout",
     "output_type": "stream",
     "text": [
      "generated explanation: <pad> <extra_id_0> When teens are together not doing anything in particular, it is often called a hangout. A hangout is a term that refers to a period of time during which the teens are not doing anything specific. Teens often hang out together in order to socialize, chat, or just hang out. It is common for teens to hang out together in order to unwind, chat, or just hang out. It is common for teens to hang out in order to unwind and recharge. It is not uncommon for teens to hang out together uninvite, uninvite, or engage in a variety of activities such as talking, playing games, or just hanging out.<extra_id_1> </s>\n",
      "########\n",
      "*******\n",
      "question: The saw was not necessary for car repair, so what wasn't it included with during pucrhase?\n",
      "answer: tool kit\n",
      "choices: ['tool shed', 'tool box', 'tool kit', 'hardware store', 'toolbox']\n",
      "common expl list: ['A saw is another name for a cutting tool, but they are often not included with a tool kit, because a kit is used for other repair needs (bolts, screws, bindings, etc.), and a saw is not required for a car repair']\n"
     ]
    },
    {
     "name": "stderr",
     "output_type": "stream",
     "text": [
      "\r",
      " 15%|███████████████████████                                                                                                                                        | 143/986 [6:52:24<34:56:49, 149.24s/it]"
     ]
    },
    {
     "name": "stdout",
     "output_type": "stream",
     "text": [
      "generated explanation: <pad> <extra_id_0> A saw was not necessary for car repair during pucrhase. Tool kits are collections of tools and other tools that are used for various tasks, such as repairing a car or making adjustments to it. Tool kits typically include a variety of tools and other supplies, such as a wrench, a hammer, a socket, a spanner, and a socket wrench, as well as other necessary tools and accessories. A saw is a type of tool that is used for cutting materials into shapes and sizes, such as a variety of other tools and a variety of tools, including a variety of tools and a variety of other tools, such as a variety of tools, such as a wrench, to be included in a tool kit. If a tool kit is included in a tool kit, it is possible that it was not included in the tool kit, or perhaps because the tool was not considered to be a necessity during pucrhases, a saw was not included in the tool kit, or a tool of a a tool of tools, or a toolkit, a toolkit, or a toolbox, or a a a a a power tool, a a tool a more general tool kit, or a specific toolkits, in the repair work a a toolkit, or a part of a toolkits, or a part of the car a toolbox, or a toolbox, or even a a toolbox, as part of a toolbox, a a a a a a a a a tool, a a<extra_id_17>, or a a, or even,,, or,or a, or, or a, or even a specific, or even a toolbox, a,a toolkit a,a,a toolkit,a<extra_id_16>,a,a,a,a toolkit,a,a toolbox<extra_id_16>,<extra_id_17> </s>\n",
      "########\n",
      "*******\n",
      "question: Where will my kid put their coin in their room?\n",
      "answer: piggy bank\n",
      "choices: ['piggy bank', 'wishing well', 'parking meter', 'under pillow', 'change purse']\n",
      "common expl list: ['Kids commonly save small amounts of money for later use, and these savings are often kept in piggy banks.', 'Piggy banks are often used to store coins.']\n"
     ]
    },
    {
     "name": "stderr",
     "output_type": "stream",
     "text": [
      "\r",
      " 15%|███████████████████████▏                                                                                                                                       | 144/986 [6:54:07<31:40:57, 135.46s/it]"
     ]
    },
    {
     "name": "stdout",
     "output_type": "stream",
     "text": [
      "generated explanation: <pad> <extra_id_0> A piggy bank is a container that is typically placed in a child's room or playroom. It is typically made of a durable plastic material, with a round or square bottom, and a plastic or metal tray for storing coins and other items. Kids often use piggy banks as a convenient place to store their spare change or spare coins. Piggy banks are often decorated with pictures, symbols, or other features that are specific to a child's interests or hobbies. Many kids enjoy using piggy banks as a safe, secure place to store their coins and other coins. They can be found in their room or play area, and they can be found in their room or play area. They may also be located in their room, or in a nearby cabinet.<extra_id_1> </s>\n",
      "########\n",
      "*******\n",
      "question: Where is a fire extinguisher likely to be found behind the seat?\n",
      "answer: school bus\n",
      "choices: ['school bus', 'house', 'garden', 'stairwell', 'garage']\n",
      "common expl list: ['Fire extinguishers are required on public-transit vehicles, such as school buses.']\n"
     ]
    },
    {
     "name": "stderr",
     "output_type": "stream",
     "text": [
      "\r",
      " 15%|███████████████████████▍                                                                                                                                       | 145/986 [6:55:29<27:55:54, 119.57s/it]"
     ]
    },
    {
     "name": "stdout",
     "output_type": "stream",
     "text": [
      "generated explanation: <pad> <extra_id_0> It is likely that a fire extinguisher will be found behind the seat of a school bus. School buses are equipped with fire extinguishers that can be used in the event of a fire. These devices are typically located behind the seat of a school bus and are designed to provide drivers with additional protection against fires and other types of fires. Fire extinguishers can be used in a variety of ways, including fighting fires, preventing the spread of fire, and putting out small fires. They are typically located behind the seat of the bus, where they are likely to be used.<extra_id_1> </s>\n",
      "########\n",
      "*******\n",
      "question: His therapist said he had to get out there and begin socialising, it was the only was to start what?\n",
      "answer: friendships\n",
      "choices: ['conflicts', 'having fun', 'jealousy', 'getting out there', 'friendships']\n",
      "common expl list: ['His therapist said that he needed to speak to people if he wanted to be less withdrawn. This would help him to get out of his shell.', 'Interacting with other people socially is likely to result in making new friends.']\n"
     ]
    },
    {
     "name": "stderr",
     "output_type": "stream",
     "text": [
      "\r",
      " 15%|███████████████████████▌                                                                                                                                       | 146/986 [6:56:57<25:38:02, 109.86s/it]"
     ]
    },
    {
     "name": "stdout",
     "output_type": "stream",
     "text": [
      "generated explanation: <pad> <extra_id_0> His therapist said he had to get out and begin socialising, as it was the only way to start a relationship. Friendships are the bonds that are formed between two people that are close in a mutual respect and understanding. Friendships are the strongest and most valuable forms of human interaction, and they are often the foundation for lasting relationships. There are many different types of relationships that people can have, including romantic, familial, and friendship relationships. As such, they can be a valuable source of support and motivation for individuals who are struggling with social difficulties. They may be experiencing relationship problems, anxiety, or depression. Therapists may have recommended that their clients to get out and begin building relationships.<extra_id_1> </s>\n",
      "########\n",
      "*******\n",
      "question: What is likely true about a dog that escapes regularly?\n",
      "answer: very smart\n",
      "choices: ['very smart', 'very loyal', 'tired', 'friendly', 'faithful']\n",
      "common expl list: ['Intelligent dogs (especially when concerned with food and treats) who are looking for some form of freedom will have the intelligence to escape regularly.']\n"
     ]
    },
    {
     "name": "stderr",
     "output_type": "stream",
     "text": [
      "\r",
      " 15%|███████████████████████▋                                                                                                                                       | 147/986 [6:58:34<24:43:41, 106.10s/it]"
     ]
    },
    {
     "name": "stdout",
     "output_type": "stream",
     "text": [
      "generated explanation: <pad> <extra_id_0> It is likely that a dog that escapes regularly is very smart. Dogs that escape regularly are typically very smart and have a high level of intelligence and motivation. They are known to be able to escape from their owners or their homes and find new places to explore and play. They are also known to be resourceful and have the ability to adapt quickly to new situations and situations. One aspect of their personality that may contribute to their tendency to escape is their natural curiosity and desire to explore new places. As such, they are likely to be very motivated by their owners and are very smart. However, if a dog that escapes regularly from their home environment, they may be very smart and talented, with excellent recall and obedience.<extra_id_1> </s>\n",
      "########\n",
      "*******\n",
      "question: If you're going to a party in an alley, what is likely to happen?\n",
      "answer: doing drugs\n",
      "choices: ['call the police', 'doing drugs', 'new contacts', 'making new friends', 'plan']\n",
      "common expl list: ['People going to parties in an alley are often going to do drugs and vice.', 'Alleys are associated with crime; and, people performing illegal drugs at a party is illegal.', 'People often do drugs at parties, and alleys are often used for parties.']\n"
     ]
    },
    {
     "name": "stderr",
     "output_type": "stream",
     "text": [
      "\r",
      " 15%|████████████████████████                                                                                                                                        | 148/986 [6:59:59<23:15:04, 99.89s/it]"
     ]
    },
    {
     "name": "stdout",
     "output_type": "stream",
     "text": [
      "generated explanation: <pad> <extra_id_0> If you're going to a party in an alley, it's likely that you will encounter people who are using drugs. Drugs are illegal substances that are used for either recreational or therapeutic purposes, and they are often used to enhance mood and energy. Alley parties are often considered to be dangerous because of the potential for drug use and abuse, and they can be dangerous for both the individual and the community. There are many different types of parties that people may attend, including informal gatherings, festivals, and formal events. If you're going to a party in an alley, it is likely that you will encounter someone who is using them.<extra_id_1> </s>\n",
      "########\n",
      "*******\n",
      "question: The man was very tired and sore, he decided to stay in bed to what?\n",
      "answer: rest more\n",
      "choices: ['rest more', 'lazy', 'were sick', 'to be sick', \"you're sick\"]\n",
      "common expl list: ['The man was tired and sore, so he decided to rest more.', 'The man was so tired and sore, he just wanted a break. His illness would keep him in bed.', \"When people are sick, they tend to rest, as it's the most sensible thing.\"]\n"
     ]
    },
    {
     "name": "stderr",
     "output_type": "stream",
     "text": [
      "\r",
      " 15%|████████████████████████▏                                                                                                                                       | 149/986 [7:01:15<21:32:30, 92.65s/it]"
     ]
    },
    {
     "name": "stdout",
     "output_type": "stream",
     "text": [
      "generated explanation: <pad> <extra_id_0> If a man was very tired and sore, he decided to stay in bed to rest. Rest is the act of taking time to do nothing, relax, and recover from physical activity or stress. Rest is the act of doing nothing, nothing, or else, in an effort to restore or restore health. It is important for people who are feeling tired or sore to take time to rest and recover from these feelings and emotions. In order to do this, a person may choose to stay in bed and rest, in order to provide the body with the energy to recover from the stress and pain.<extra_id_1> </s>\n",
      "########\n",
      "*******\n",
      "question: He was back in his hometown, he was planning on having fun and doing what?\n",
      "answer: visiting friends\n",
      "choices: ['being understood', 'hug', 'rambling', 'kiss', 'visiting friends']\n",
      "common expl list: ['If a person went back to their hometown, they might be glad to see their old friends, and visit them while they are there.', 'People usually visit their friends when they return to a town where they previously used to live, because their friends would have missed them.', 'If a person is back in their hometown, they might visit their friends, who they might not see very often.']\n"
     ]
    },
    {
     "name": "stderr",
     "output_type": "stream",
     "text": [
      "\r",
      " 15%|████████████████████████▎                                                                                                                                       | 150/986 [7:02:38<20:51:46, 89.84s/it]"
     ]
    },
    {
     "name": "stdout",
     "output_type": "stream",
     "text": [
      "generated explanation: <pad> <extra_id_0> When a person returns to their hometown, they may be planning on visiting friends or family. When a person returns to their hometown, they may be looking forward to spending time with friends and family. This may include visiting friends and relatives, going out on adventures, or participating in recreational activities. No matter where he was, he was planning on having fun and having friends. In his hometown, he may have been planning on visiting friends or family to have fun and have some downtime. In his hometown, he may have been planning on having fun and relaxing. While in his hometown, he was planning on having fun and relaxing with friends and family.<extra_id_1> </s>\n",
      "########\n",
      "*******\n",
      "question: Where is basketball court likely to be outdoors?\n",
      "answer: city\n",
      "choices: ['high school gymnasium', 'city', 'park', 'use', 'los angeles']\n",
      "common expl list: ['Basketball courts are often urban.', 'Basketball courts are likely to be at parks and recreational centers in cities.', 'Basketball courts are often found in city parks.', 'Most American cities have basketball courts in public parks.']\n"
     ]
    },
    {
     "name": "stderr",
     "output_type": "stream",
     "text": [
      "\r",
      " 15%|████████████████████████▌                                                                                                                                       | 151/986 [7:04:26<22:04:32, 95.18s/it]"
     ]
    },
    {
     "name": "stdout",
     "output_type": "stream",
     "text": [
      "generated explanation: <pad> <extra_id_0> A basketball court is a sport that is played on a court that is typically located in a city or town. A basketball court is a type of outdoor recreation facility that is used for playing basketball or other team sports. Basketball courts are often located in cities and towns, where they provide a place for players to practice and play games. They are often used for social events, such as basketball tournaments, tournaments, and other activities. Because basketball courts are outdoors, they are a popular place for people to gather and play games, and to enjoy the game outdoors in a safe and secure environment. If a basketball court is located in a city or town, it is likely that it is located in a park or common outdoor arena that is designed to provide a safe and enjoyable experience for players and spectators alike.<extra_id_1> </s>\n",
      "########\n",
      "*******\n",
      "question: When you want to get the skin off of an apple, you do what to it?\n",
      "answer: peel\n",
      "choices: ['seeds inside', 'stems', 'peel', 'grocery store', 'green market']\n",
      "common expl list: ['Apples have a skin that can be peeled off.', 'Skin is something you peel from fruits like apples, peaches, oranges, kiwi, etc...']\n"
     ]
    },
    {
     "name": "stderr",
     "output_type": "stream",
     "text": [
      "\r",
      " 15%|████████████████████████▋                                                                                                                                       | 152/986 [7:05:51<21:19:56, 92.08s/it]"
     ]
    },
    {
     "name": "stdout",
     "output_type": "stream",
     "text": [
      "generated explanation: <pad> <extra_id_0> When you want to get the skin off of an apple, you do several things. You can peel the apple, which is a method of removing the outer layer of the fruit, such as by using a spoon or a knife. The process of peeling an apple involves applying pressure to the skin of the fruit to remove the outer layer. The apple's skin is made up of layers of flesh and proteins, which are attached to the outer layer of the fruit by a network of fibers and cells. The outer layer of the apple is then sliced into smaller pieces and then discarded. The apple is then prepared for consumption.</s>\n",
      "########\n",
      "*******\n",
      "question: Where could you put some knives if you are planning to bring them outside with you?\n",
      "answer: backpack\n",
      "choices: ['purse', 'backpack', 'drawer', 'sporting goods store', 'kitchen']\n",
      "common expl list: [\"Knives are usually brought along if hiking, camping, fishing, or other outings, and backpacks make it easy to transport one's belongings.\", \"To carry knives on one's person, you need some small type of container to hold the knives. Perhaps the most likely place to carry a small container is a backpack.\"]\n"
     ]
    },
    {
     "name": "stderr",
     "output_type": "stream",
     "text": [
      "\r",
      " 16%|████████████████████████▋                                                                                                                                      | 153/986 [7:08:43<26:50:58, 116.04s/it]"
     ]
    },
    {
     "name": "stdout",
     "output_type": "stream",
     "text": [
      "generated explanation: <pad> <extra_id_0> You could put some knives in a backpack if you are planning to bring them outside. A backpack is a small, enclosed carrying case that is typically used for hiking or other outdoor activities. Backpacks are often used for carrying a variety of items, including tools, supplies, and personal items, such as knives, pens, and water bottles. Backpacks are often used for carrying items such as knives, flashlights, and other sharp items, such as knives, scissors, and other cutting tools, while also serving as a convenient and practical place to store and carry on the go, and they may be easily accessible and easy to access and use. They are often located in convenient places, such as a secure place in a backpack or a bag that is designed to accommodate the contents, such as a variety of options for storing items such as a variety of options for a backpack, a backpack, or a a backpack that is equipped with a waterproof, a backpack with a backpack that is designed to a backpack, and a backpack — a backpack — and —intoday, and a backpack may be a a —for example, a backpack or a —and —and to a backpack. —and —instead</s>\n",
      "########\n",
      "*******\n",
      "question: John watches the well dressed people from a catwalk above the stage.  He listens to them speak rehearsed lines while the audience listens.  Where is he/\n",
      "answer: theatre\n",
      "choices: ['theatre', 'new york city', 'fashion show', 'construction site', 'school play']\n",
      "common expl list: ['Theatres have catwalks where people might observe and listen to actors.']\n"
     ]
    },
    {
     "name": "stderr",
     "output_type": "stream",
     "text": [
      "\r",
      " 16%|████████████████████████▊                                                                                                                                      | 154/986 [7:10:02<24:17:56, 105.14s/it]"
     ]
    },
    {
     "name": "stdout",
     "output_type": "stream",
     "text": [
      "generated explanation: <pad> <extra_id_0> John watches the well dressed people from a catwalk above the stage. He listens to them speak rehearsed lines while the audience listens. Theatre: A place where plays are performed and audiences are entertained by the performances of talented actors and actresses. Theatres are large, open-air venues that are designed to host theatrical performances and other events. In many theatres, the audience is invited to participate in the performance by joining in on the fun and watching the actors perform. The audience is often given the opportunity to participate in the production and to see the actors and performers as they perform their lines.<extra_id_1> </s>\n",
      "########\n",
      "*******\n",
      "question: If I am creating art and have completed it to satisfaction, what is my feeling?\n",
      "answer: enlightenment\n",
      "choices: ['enlightenment', 'tired', 'frustration', 'relax', 'controversy']\n",
      "common expl list: ['Enlightenment is the label for a moment of clarity, and the word is often applied to artists who have created something unique or daring.']\n"
     ]
    },
    {
     "name": "stderr",
     "output_type": "stream",
     "text": [
      "\r",
      " 16%|████████████████████████▉                                                                                                                                      | 155/986 [7:11:48<24:15:59, 105.13s/it]"
     ]
    },
    {
     "name": "stdout",
     "output_type": "stream",
     "text": [
      "generated explanation: <pad> <extra_id_0> If I am creating art and have completed it to satisfaction, I may feel enlightened. Art is a creative endeavor that involves the use of imagination, emotion, and logic to create something beautiful and unique. It can be a rewarding and fulfilling experience, and it can provide a vehicle for exploring new ideas and exploring different perspectives. When I create art, I may feel enlightened and satisfied with the work I have created. This feeling is similar to when I am creating something, such as when I finish a painting or a sculpture, for example, and it may be difficult to describe how I feel about myself after I have finished my project to my satisfaction. It is important to note that I am aware that I have completed it, and I am aware of its beauty and its meaning.<extra_id_1> </s>\n",
      "########\n",
      "*******\n",
      "question: He was serious and pragmatic, so why did he drive his car?\n",
      "answer: transportation\n",
      "choices: ['transportation', 'car crash', 'death', 'sleepy', 'stress']\n",
      "common expl list: ['People often drive cars to get from one place to another.', 'Because driving is the most practical mode of transportation judging by the time and distance required to do so.']\n"
     ]
    },
    {
     "name": "stderr",
     "output_type": "stream",
     "text": [
      "\r",
      " 16%|█████████████████████████▎                                                                                                                                      | 156/986 [7:13:07<22:29:41, 97.57s/it]"
     ]
    },
    {
     "name": "stdout",
     "output_type": "stream",
     "text": [
      "generated explanation: <pad> <extra_id_0> He was serious and pragmatic, so why did he drive his car? Transportation is an important factor in a person's life, and driving a car can be a convenient and efficient way to get from one place to another. The car can be used for a variety of purposes, including local travel, work, and play. It can also be a means of getting around town and commuting to work or other important locations. If someone is serious and pragmatic about their life and driving their car, they may be motivated to take the opportunity to improve their quality of life.<extra_id_1> </s>\n",
      "########\n",
      "*******\n",
      "question: What does god want people to do for money?\n",
      "answer: work in life\n",
      "choices: ['work in life', 'speak to people', 'everywhere', 'sitting ideal', 'care for people']\n",
      "common expl list: ['The scriptures explain that people should acquire money by providing good products or services, e.g., to bring value to other people and make a living.']\n"
     ]
    },
    {
     "name": "stderr",
     "output_type": "stream",
     "text": [
      "\r",
      " 16%|█████████████████████████▎                                                                                                                                     | 157/986 [7:14:59<23:27:09, 101.84s/it]"
     ]
    },
    {
     "name": "stdout",
     "output_type": "stream",
     "text": [
      "generated explanation: <pad> <extra_id_0> God wants people to work in life for money. Work in life is a term used to describe any type of activity that provides the individual with financial rewards or benefits, such as earning money, learning a trade, or finding a job. Work in life is a common means of earning money and providing for a comfortable lifestyle. It is important for people to have a job that allows them to pursue their interests and passions and that they are able to contribute positively to their communities and the overall well-being of their families. It is important for people to work in order to earn their financial future and to be financially secure and prosperous. However, it is important for people to work in order to earn money and to be financially responsible, as it is a valuable asset to have a job that allows them to pursue their careers and to contribute to the economy.<extra_id_1> </s>\n",
      "########\n",
      "*******\n",
      "question: What can happen after doing housework that does not involve pain?\n",
      "answer: become tired\n",
      "choices: ['become tired', 'stress', 'put on shoes', 'backache', 'low pay']\n",
      "common expl list: ['Raking, sweeping, and dusting are common forms of housework. After all the physical labor of these activities, someone \\xa0might become tired and take time off from housework chores, but not have een doing any housework tasks that', 'Housework can be tiring, and so, after doing it, one might become tired.', 'Doing housework is likely to tire someone out. Being tired increases the likelihood of restlessness and uneasiness.']\n"
     ]
    },
    {
     "name": "stderr",
     "output_type": "stream",
     "text": [
      "\r",
      " 16%|█████████████████████████▍                                                                                                                                     | 158/986 [7:16:47<23:50:37, 103.67s/it]"
     ]
    },
    {
     "name": "stdout",
     "output_type": "stream",
     "text": [
      "generated explanation: <pad> <extra_id_0> After doing housework that does not involve pain, a person may become tired. Tiredness is a common reaction to doing housework and may cause them to become less active or alert. One possible side effect of housework is that it may cause them to become tired. Tiredness is a common side effect that can occur after doing housework that does not involve pain, such as vacuuming or painting. It is important to note that this reaction only occurs in the short term and does not indicate any underlying health or fitness issues. When a person becomes physically or mentally exhausted after doing housework, especially if the work involves a lot of movement or prolonged physical exertion is not likely to be painful, but may cause them to become irritable.<extra_id_1> </s>\n",
      "########\n",
      "*******\n",
      "question: James sat in a chair and listened to the speaker.  Where might James be?\n",
      "answer: auditorium\n",
      "choices: ['synagogue', 'grocery store', 'auditorium', 'confession', 'office']\n",
      "common expl list: ['James was likely in an auditorium, because he was listening to a speaker.']\n"
     ]
    },
    {
     "name": "stderr",
     "output_type": "stream",
     "text": [
      "\r",
      " 16%|█████████████████████████▋                                                                                                                                     | 159/986 [7:18:28<23:38:03, 102.88s/it]"
     ]
    },
    {
     "name": "stdout",
     "output_type": "stream",
     "text": [
      "generated explanation: <pad> <extra_id_0> If James sat in a chair and listened to the speaker, he was likely in an auditorium. An auditorium is a large, open-air space that is used for public presentations and lectures, typically located in a school, university, or other public building. Auditorias often have large, open spaces that are used for large presentations and lectures, and they are often equipped with a variety of seating, including a stage, rows of seats, and a sound system that can be used for both live performances and presentations. Auditorium: If James sat in a chair and listened to a speaker, it is likely that he was in an auditorium.<extra_id_1> </s>\n",
      "########\n",
      "*******\n",
      "question: John thought that Mary was beautiful despite her injury.  But Mary believed that she was what?\n",
      "answer: misshapen\n",
      "choices: ['wrong', 'overcast', 'homely', 'bad', 'misshapen']\n",
      "common expl list: [\"If Mary believes she doesn't look normal, but someone else thinks she is beautiful, perhaps she could feel like her form is misshapen.\"]\n"
     ]
    },
    {
     "name": "stderr",
     "output_type": "stream",
     "text": [
      "\r",
      " 16%|█████████████████████████▊                                                                                                                                     | 160/986 [7:20:39<25:31:34, 111.25s/it]"
     ]
    },
    {
     "name": "stdout",
     "output_type": "stream",
     "text": [
      "generated explanation: <pad> <extra_id_0> Mary believed that she was beautiful despite her injury. John thought that she was beautiful despite her injury. But Mary believed that she was misshapen. Injury is an injury that causes a change in the shape or size of the body, which can make it appear that a person is physically different from their normal size or shape. Mary was injured in an accident and was therefore not in her normal position or shape. This may have caused her to believe that she was not as beautiful as she thought she was. Mary believed that she was not as attractive as John thought she was because of her injury. She believed that she was beautiful despite her injury and believed that she was not as beautiful as John thought she was despite her injury, and that she was not as attractive as John thought she was because of her injury and believed that she was despite her injury, she was still considered to be more attractive to him than her injury or that she was despite her injury, because she was not as well-shaped like other people.<extra_id_1> </s>\n",
      "########\n",
      "*******\n",
      "question: Where does my body go after I am no longer living?\n",
      "answer: graveyard\n",
      "choices: ['zombie', 'bodycam', 'coffin', 'graveyard', 'funeral']\n",
      "common expl list: ['When one dies, their body is buried in a graveyard.', 'When a person dies, it is common to bury their bodies in locations called graveyards.', 'Corpses are buried in graveyards.']\n"
     ]
    },
    {
     "name": "stderr",
     "output_type": "stream",
     "text": [
      "\r",
      " 16%|█████████████████████████▉                                                                                                                                     | 161/986 [7:22:06<23:47:52, 103.85s/it]"
     ]
    },
    {
     "name": "stdout",
     "output_type": "stream",
     "text": [
      "generated explanation: <pad> <extra_id_0> My body goes to a graveyard after I am no longer living. A graveyard is a place where people who have died are buried. A graveyard is a place where people who have died go to leave their physical remains. A graveyard is a place where people are buried after they have died. A graveyard is a place where people are buried after they have died, usually in a cemetery or other place that is designated as a place of final rest and reflection. It is a place where they are reburied or cremated. If I am no longer living, they go to a place where they are buried in a cemetery or memorialize their life experience.<extra_id_1> </s>\n",
      "########\n",
      "*******\n",
      "question: Where can you find a bar before traveling a long distance?\n",
      "answer: airport\n",
      "choices: ['las vegas', 'public house', 'airport', 'restaurant', 'michigan']\n",
      "common expl list: ['Bars are often located in airports, and so if a person was traveling a long distance, they might stop at an airport bar.']\n"
     ]
    },
    {
     "name": "stderr",
     "output_type": "stream",
     "text": [
      "\r",
      " 16%|██████████████████████████                                                                                                                                     | 162/986 [7:24:03<24:43:30, 108.02s/it]"
     ]
    },
    {
     "name": "stdout",
     "output_type": "stream",
     "text": [
      "generated explanation: <pad> <extra_id_0> An airport is a place that is used for long-distance travel, and it is often a convenient place to stop and have a drink before taking off. Airports are often bustling places that are home to a wide range of businesses and organizations, including restaurants, hotels, and shops. If you are traveling a long distance, chances are that you will encounter a bar or restaurant at the airport. Bars and restaurants at airports are often staffed by a variety of people who are there to provide assistance and support to travelers. They may also offer a variety of services, such as a snack menu, and refreshments. They may be located in a variety of locations, including indoor and outdoor areas, and services, such as WiFi and a variety of services that may be available to you, such as restrooms, and a variety of food options, as a variety of beverages and services.<extra_id_1> </s>\n",
      "########\n",
      "*******\n",
      "question: Where might a small ball be bounced from?\n",
      "answer: child's hand\n",
      "choices: ['soccer game', 'street', 'toy store', \"child's hand\", 'on the sidewalk']\n",
      "common expl list: ['Since children enjoy bouncing balls, and they are also relatively small, they would bounce a ball from their hand.', 'A ball much like a toy, and kids often play with them on the streets and sidewalks.']\n"
     ]
    },
    {
     "name": "stderr",
     "output_type": "stream",
     "text": [
      "\r",
      " 17%|██████████████████████████▎                                                                                                                                    | 163/986 [7:25:34<23:31:27, 102.90s/it]"
     ]
    },
    {
     "name": "stdout",
     "output_type": "stream",
     "text": [
      "generated explanation: <pad> <extra_id_0> A small ball might be bounced from a child's hand. A child's hand is a hand that is typically used by a child for holding and playing with objects, such as balls, toys, and balls. A child's hand is a hand that is typically used for holding and using objects, such as balls, and for performing other tasks, such as playing with or holding onto things, and it is often the first point of contact between a child and an object. A child's hand is a hand that is often used by a child, and it is likely that a child's hand is a good example of a child's hand.<extra_id_1> </s>\n",
      "########\n",
      "*******\n",
      "question: Where do families begin?\n",
      "answer: wedding\n",
      "choices: ['wedding', 'around dinner table', 'supermarket', 'dinner together', 'park']\n",
      "common expl list: ['A wedding is a ceremony in which two people get married, and thus a wedding is where a family begins.']\n"
     ]
    },
    {
     "name": "stderr",
     "output_type": "stream",
     "text": [
      "\r",
      " 17%|██████████████████████████▌                                                                                                                                     | 164/986 [7:26:59<22:13:49, 97.36s/it]"
     ]
    },
    {
     "name": "stdout",
     "output_type": "stream",
     "text": [
      "generated explanation: <pad> <extra_id_0> Families begin at a wedding. A wedding is a formal gathering of two people who are legally married. A wedding is a symbolic beginning of a family and is often the first step in a long, happy life together. It is often the case that the couple will marry and have children together. This is a very special and special occasion for the couple, and it is often the beginning of a family. A wedding is a time when two people come together to celebrate their love and commitment to each other. It is a special and memorable event for many people, and often the beginning of a new family.<extra_id_1> </s>\n",
      "########\n",
      "*******\n",
      "question: He enjoyed reading newspaper, he consider what a subscription?\n",
      "answer: buying\n",
      "choices: ['gifting', 'buying', 'money', 'literacy', 'knowing how to read']\n",
      "common expl list: ['Buying a subscription to a newspaper is a way to get the newspaper delivered to your home.']\n"
     ]
    },
    {
     "name": "stderr",
     "output_type": "stream",
     "text": [
      "\r",
      " 17%|██████████████████████████▊                                                                                                                                     | 165/986 [7:28:44<22:42:37, 99.58s/it]"
     ]
    },
    {
     "name": "stdout",
     "output_type": "stream",
     "text": [
      "generated explanation: <pad> <extra_id_0> If you enjoy reading newspaper, you may want to consider buying a subscription to a newspaper. A newspaper subscription is a payment made to a newspaper or news organization for a set period of time, typically annually or for a specific period of time. Subscriptions are typically issued in advance and are typically non-refundable. If you enjoy reading newspaper and you are considering buying a subscription to a newspaper, you may want to consider buying a subscription to a newspaper or news organization that provides regular, in-depth coverage of the topics covered in the newspaper. If you enjoy reading newspaper, you may consider buying a newspaper or subscribe to a newspaper subscription to be a convenient and affordable way to get access to a variety of topics, such as sports, news, and entertainment.<extra_id_1> </s>\n",
      "########\n",
      "*******\n",
      "question: What does an animal do when it becomes old?\n",
      "answer: feel pain\n",
      "choices: ['live long', 'leave home', 'feel pain', 'eating', 'sense fear in human']\n",
      "common expl list: ['Ageing animals may have chronic pain as part of the body losing function as it ages.']\n"
     ]
    },
    {
     "name": "stderr",
     "output_type": "stream",
     "text": [
      "\r",
      " 17%|██████████████████████████▉                                                                                                                                     | 166/986 [7:29:55<20:46:00, 91.17s/it]"
     ]
    },
    {
     "name": "stdout",
     "output_type": "stream",
     "text": [
      "generated explanation: <pad> <extra_id_0> When an animal becomes old, it may feel pain. Pain is a natural response that an animal may experience as it ages. Pain may be felt by an animal in various ways, depending on its age and the circumstances in which it is experiencing the pain. Pain may be felt by an animal in a variety of ways, such as when it is being hurt or when it is experiencing physical discomfort. As an animal ages, it may experience physical changes, such as changes in body temperature, or when it is being able to move or expressing its feelings.<extra_id_1> </s>\n",
      "########\n",
      "*******\n",
      "question: What entity would have a fire extinguisher in their boardroom?\n",
      "answer: most businesses\n",
      "choices: ['boat', 'apartment', 'public building', 'most businesses', 'chemistry lab']\n",
      "common expl list: ['Most businesses would have a fire extinguisher in their boardroom, because they are likely to have a fire in their boardroom.']\n"
     ]
    },
    {
     "name": "stderr",
     "output_type": "stream",
     "text": [
      "\r",
      " 17%|███████████████████████████                                                                                                                                     | 167/986 [7:31:24<20:34:13, 90.42s/it]"
     ]
    },
    {
     "name": "stdout",
     "output_type": "stream",
     "text": [
      "generated explanation: <pad> <extra_id_0> Most businesses would have a fire extinguisher in their boardroom. A fire extinguisher is a device that can be used to put out a fire or to put out a spark in a nearby fire. Fire extinguishers are typically located in a boardroom or other area of a building that is used for hosting meetings, conferences, or other events. They are often located in the conference room, boardroom, or other area of a building that is used for hosting meetings, conferences, or other events. They are typically located in the rooms where employees are gathered. They are also used for emergencies, such as fire hazards, and to protect their property.<extra_id_1> </s>\n",
      "########\n",
      "*******\n",
      "question: Where can someone go and buy cheese?\n",
      "answer: market\n",
      "choices: ['pizza', 'bar', 'fridge', 'market', 'refrigerator']\n",
      "common expl list: ['Cheese is sold at markets.', 'Cheese is a dairy product and can be purchased at markets, for the most part.']\n"
     ]
    },
    {
     "name": "stderr",
     "output_type": "stream",
     "text": [
      "\r",
      " 17%|███████████████████████████▎                                                                                                                                    | 168/986 [7:32:53<20:26:18, 89.95s/it]"
     ]
    },
    {
     "name": "stdout",
     "output_type": "stream",
     "text": [
      "generated explanation: <pad> <extra_id_0> Markets are places where people can go and buy cheese. People can go to markets to buy cheese, and they may have a variety of options, such as fresh produce, meat, and even eggs. Cheese is a popular item to buy at markets, and it is often sold in a variety of forms, such as sliced, sliced, or grilled. Markets are open to the public and are typically located in central or urban areas. Markets are places that are staffed by vendors who are paid by customers to sell their products. Markets are often located in areas where people can go to buy cheese, and they may also sell other items such as cheese, eggs, and eggs.<extra_id_1> </s>\n",
      "########\n",
      "*******\n",
      "question: Where would you carry food while on a long walk in the countryside?\n",
      "answer: backpack\n",
      "choices: ['backpack', 'table', 'jar', 'box', 'container']\n",
      "common expl list: ['Instead of carrying a jar or container, filling your backpack with food might not disrupt your movements as much when you are walking.', \"Because backpacks are designed to be carried on one's back, they are the most convenient way to carry food while on a long walk.\"]\n"
     ]
    },
    {
     "name": "stderr",
     "output_type": "stream",
     "text": [
      "\r",
      " 17%|███████████████████████████▍                                                                                                                                    | 169/986 [7:34:18<20:04:36, 88.47s/it]"
     ]
    },
    {
     "name": "stdout",
     "output_type": "stream",
     "text": [
      "generated explanation: <pad> <extra_id_0> A backpack is a convenient place to carry food while on a long walk in the countryside. A backpack is a convenient and practical way to carry food and other supplies while out in the countryside. Backpacks are lightweight, durable, and easy to pack, making them an ideal choice for long walks in the countryside. They can be used for both short walks and longer hikes, and they can be worn as a backpack or a daypack. They are a popular choice for people who enjoy walking and who want to explore the countryside. They are ideal for taking food and other items in a backpack or a cooler to carry with them.<extra_id_1> </s>\n",
      "########\n",
      "*******\n",
      "question: What could a driver do that could distract him or her while he or she is in a driving car?\n",
      "answer: smoke\n",
      "choices: ['use mobile phone', 'car crash', 'smoke', 'backache', 'automobile accidents']\n",
      "common expl list: ['Smoking is a common activity that people do while driving, and it could distract them from driving.', 'It can be tricky to smoke and concentrate on driving at the same time, and research has found that smoking in a car with children present is very dangerous.']\n"
     ]
    },
    {
     "name": "stderr",
     "output_type": "stream",
     "text": [
      "\r",
      " 17%|███████████████████████████▌                                                                                                                                    | 170/986 [7:35:46<20:01:24, 88.34s/it]"
     ]
    },
    {
     "name": "stdout",
     "output_type": "stream",
     "text": [
      "generated explanation: <pad> <extra_id_0> A driver could do something that could distract him or her while they are in a driving car. A driver could do something that could distract him or her while they are driving. One example of this is to smoke while they are driving. Smoking while driving is a common distraction that drivers face while driving. It is a common practice for drivers to use their cigarette lighters while driving, and it is a common practice for drivers to use their cigarettes while driving. Smoking can be a dangerous and distracting activity that can cause a driver to lose focus and attention. It is important for drivers to be aware of the potential for distractions and to take action to avoid distractions.<extra_id_1> </s>\n",
      "########\n",
      "*******\n",
      "question: The fat man wanted to make a change in his life and make sure it stayed what?\n",
      "answer: permanent\n",
      "choices: ['concretely', 'permanent', 'remain stable', 'stagnant', 'constant']\n",
      "common expl list: ['In changing his life, he wants to make sure he remains in the new lifestyle choices, e.g., not become stagnant to bad choices and fall back into bad choices.', 'His making a decision to change and ensuring the decision is made permanent indicates a desire for a stable, permanent life, which does not change.']\n"
     ]
    },
    {
     "name": "stderr",
     "output_type": "stream",
     "text": [
      "\r",
      " 17%|███████████████████████████▋                                                                                                                                    | 171/986 [7:37:25<20:46:20, 91.75s/it]"
     ]
    },
    {
     "name": "stdout",
     "output_type": "stream",
     "text": [
      "generated explanation: <pad> <extra_id_0> The fat man wanted to make a change and make sure it stayed permanent. The word “change” is a phrase that refers to a movement or behavior that is new or different, and it is often used to describe a process or event that occurs over time. Change can be defined as the act of making a change or decision that affects the course or quality of life, such as a career, relationship, or lifestyle choice. It is important for people to understand that change can be both gradual and permanent, and it is possible that the person wishing to make the change or maintain the results. If the fat man wanted to make sure that the change was permanent, then the answer is that they wanted to make sure it was permanent.<extra_id_1> </s>\n",
      "########\n",
      "*******\n",
      "question: where did many colonial kingdoms originate?\n",
      "answer: europe\n",
      "choices: ['saudi arabia', 'europe', 'united states', 'book', 'monarchy']\n",
      "common expl list: ['Many colonial kingdoms in the past can be traced all the way back to their roots in Europe.', 'Colonies and kingdoms often originate in the mother countries of the colonial or kingdom builders, e.g., entities in the United Kingdom and the Netherlands.']\n"
     ]
    },
    {
     "name": "stderr",
     "output_type": "stream",
     "text": [
      "\r",
      " 17%|███████████████████████████▉                                                                                                                                    | 172/986 [7:39:08<21:30:22, 95.11s/it]"
     ]
    },
    {
     "name": "stdout",
     "output_type": "stream",
     "text": [
      "generated explanation: <pad> <extra_id_0> Many colonial kingdoms originated in europe. Europe is the continent that is located in the western hemisphere and is home to a number of different cultures, languages, and ethnic groups. Many of the kingdoms that make up the European continent have their origins in europe, and many of them have a strong cultural and historical connection with Europe. Because of this, many colonial kingdoms in europe are considered to be the most ancient and culturally rich regions of the world, and are often considered to be the original home of many cultures and traditions. Europe is a continent that is a continent that is located in the eastern half of the world and is home to many different countries, such as the United States, Mexico, and many other countries.<extra_id_1> </s>\n",
      "########\n",
      "*******\n",
      "question: Where can a television be stored and hidden?\n",
      "answer: cabinet\n",
      "choices: ['apartment', 'living room', 'bedroom', 'kitchen', 'cabinet']\n",
      "common expl list: ['A cabinet is a piece of furniture that is used to store items, and televisions are large, and thus, can be stored in cabinets.', 'A television can be stored inside a cabinet.']\n"
     ]
    },
    {
     "name": "stderr",
     "output_type": "stream",
     "text": [
      "\r",
      " 18%|███████████████████████████▉                                                                                                                                   | 173/986 [7:41:29<24:34:44, 108.84s/it]"
     ]
    },
    {
     "name": "stdout",
     "output_type": "stream",
     "text": [
      "generated explanation: <pad> <extra_id_0> A television can be stored and hidden in a cabinet. A cabinet is a piece of furniture that is used for storing and displaying items, such as furniture, appliances, or even books. A television can be stored and hidden in a cabinet, which is a locked, typically wooden, cabinet. Cabinets are typically made of wood or metal, and they are typically used for storing and displaying items such as books, dishes, and other small items. A cabinet is a type of storage space that is typically made of wood or stone and is often used for a television. A television can be stored and hidden in a cabinet, which is a cabinet or other types of furniture, or even in a closet, which is a locked, in order to provide access to the contents of the television. If the location is in a warm, dark, or a visually appealing location for a variety of materials, including a variety of materials, and can be customized to meet your specific needs.<extra_id_1> </s>\n",
      "########\n",
      "*******\n",
      "question: what can get a prisoner in more trouble?\n",
      "answer: attempt to escape\n",
      "choices: ['dream of freedom', 'attempt to escape', 'do time', 'fast for days', 'scape jail']\n",
      "common expl list: ['Prisoners serve time, and when a prisoner attempts to escape, they generally serve extra time.']\n"
     ]
    },
    {
     "name": "stderr",
     "output_type": "stream",
     "text": [
      "\r",
      " 18%|████████████████████████████                                                                                                                                   | 174/986 [7:42:54<22:55:00, 101.60s/it]"
     ]
    },
    {
     "name": "stdout",
     "output_type": "stream",
     "text": [
      "generated explanation: <pad> <extra_id_0> Trying to escape from prison can get a prisoner in more trouble. Prisoners who attempt to escape often face serious consequences and may face more trouble in the future. There are many different ways that a prisoner can try to escape from custody or to flee the country, for example by breaking or entering a window, or by using a ladder or other means of escape. One common way that a prisoner can get into trouble is by attempting to flee the country or by attempting to escape by breaking or entering a window or door. This can be a dangerous situation for a prisoner who is attempting to escape and risky.<extra_id_1> </s>\n",
      "########\n",
      "*******\n",
      "question: The crab was separated from his compatriots out in the sea, where was he likely to be?\n",
      "answer: tide pool\n",
      "choices: ['fish market', 'cooking pot', 'tide pool', 'beach sand', 'farm']\n",
      "common expl list: ['Tide pools are regions of shallow, pooled water that are very exposed to air, making them appealing to crabs that have to breathe.']\n"
     ]
    },
    {
     "name": "stderr",
     "output_type": "stream",
     "text": [
      "\r",
      " 18%|████████████████████████████▍                                                                                                                                   | 175/986 [7:44:15<21:32:06, 95.59s/it]"
     ]
    },
    {
     "name": "stdout",
     "output_type": "stream",
     "text": [
      "generated explanation: <pad> <extra_id_0> If the crab was separated from his compatriots out in the sea and was likely to be found in a tide pool, it is likely that he was in search of a mate or other type of animal. Crabs are able to adapt to a variety of environments, including freshwater, saltwater, and even freshwater environments. In tide pools, they are often home to a variety of animal species, including fish, clams, and sand crabs. If the crab was separated from his compatitors, he would likely be in search of a safe place to reunite with his friends.<extra_id_1> </s>\n",
      "########\n",
      "*******\n",
      "question: What item is smelted out of minerals on the country side?\n",
      "answer: metal\n",
      "choices: ['urban city', 'france', 'metal', 'grass', 'state']\n",
      "common expl list: ['Products made by smelters tend to be made out of metals, and mining occurs at the country side.', 'Metals are extracted from mineral mines out in the country side.']\n"
     ]
    },
    {
     "name": "stderr",
     "output_type": "stream",
     "text": [
      "\r",
      " 18%|████████████████████████████▌                                                                                                                                   | 176/986 [7:45:45<21:05:57, 93.77s/it]"
     ]
    },
    {
     "name": "stdout",
     "output_type": "stream",
     "text": [
      "generated explanation: <pad> <extra_id_0> Metal is smelted out of minerals on the country side. Minerals are formed from dissolved or dissolved elements, such as ores, rock, and soda ash, and is then used as a source of energy, fuel, or building material. Smelted metal is a valuable metal that is often used in a variety of industries, including steel, aluminum, and zinc. Minerals are found in a wide range of environments, including industrial settings, landscapes, and buildings, and are often valued for their aesthetic qualities and technical applications. They are also used in the production of metals, such as forging, a process for creating a variety of products, including: steel, and iron.<extra_id_1> </s>\n",
      "########\n",
      "*******\n",
      "question: Where is a good place to store a saw?\n",
      "answer: toolbox\n",
      "choices: ['hardware store', 'tool shed', 'storage', 'tool kit', 'toolbox']\n",
      "common expl list: ['A toolbox is a container for tools, and a saw is a tool.', 'One might likely store a saw in a box with other tools.']\n"
     ]
    },
    {
     "name": "stderr",
     "output_type": "stream",
     "text": [
      "\r",
      " 18%|████████████████████████████▋                                                                                                                                   | 177/986 [7:47:14<20:44:37, 92.31s/it]"
     ]
    },
    {
     "name": "stdout",
     "output_type": "stream",
     "text": [
      "generated explanation: <pad> <extra_id_0> A good place to store a saw is a toolbox. Toolboxes are containers that are designed to hold tools, such as hammers, drills, and other cutting tools. They are often used for storing and organizing various types of tools, such as hand tools, power tools, and hand tools. They can be used for a variety of purposes, such as storing and organizing tools, and facilitating the efficient and safe storage of these tools. Toolboxes are handy storage containers that have a variety of tools, such as a toolbox, and can be used as a place to store tools, tools, and other items in a safe and secure location.<extra_id_1> </s>\n",
      "########\n",
      "*******\n",
      "question: The jellyfish was pushed along by the water.  It was caught in what?\n",
      "answer: current\n",
      "choices: ['store', 'book', 'park', 'current', 'lake']\n",
      "common expl list: [\"Currents are fast-moving water, and jellyfish can't swim very well, so if caught in a current, it's likely to be being pushed along by the current.\", 'Jellyfish are often found in oceans, and oceans have currents.']\n"
     ]
    },
    {
     "name": "stderr",
     "output_type": "stream",
     "text": [
      "\r",
      " 18%|████████████████████████████▉                                                                                                                                   | 178/986 [7:48:37<20:05:04, 89.49s/it]"
     ]
    },
    {
     "name": "stdout",
     "output_type": "stream",
     "text": [
      "generated explanation: <pad> <extra_id_0> The jellyfish was pushed along by the water. It was caught in a current. A current is a flow of water that is carried by a river, stream, or ocean current. A current is a current that flows through or through a body of water, and it is often used to describe the flow of water or the direction of a river or stream. A jellyfish is a type of marine animal that lives in a body of water or in a body of water. It is a type of water, and it is possible that the current is what pushed the jellyfish along by the water.<extra_id_1> </s>\n",
      "########\n",
      "*******\n",
      "question: The dime store was full of old donated goods, it reminded the customer of the what?\n",
      "answer: past\n",
      "choices: ['strip mall', 'past', 'shopping center', 'old movie', 'india']\n",
      "common expl list: ['Dime stores were more popular years ago than today. The sight of the old goods reminded the person of the past.']\n"
     ]
    },
    {
     "name": "stderr",
     "output_type": "stream",
     "text": [
      "\r",
      " 18%|█████████████████████████████                                                                                                                                   | 179/986 [7:49:53<19:10:40, 85.55s/it]"
     ]
    },
    {
     "name": "stdout",
     "output_type": "stream",
     "text": [
      "generated explanation: <pad> <extra_id_0> If the dime store was full of old donated goods, it reminded the customer of the past. Donated goods are goods that have been used and then donated by someone else. These goods may be in good condition or may even be brand new. They may be in a used or new condition, but they may have been donated by another person or organization. If the customer visits a dime store full of old donated goods, it may be a sign of a successful donation drive or a store that is committed to recycling and repurposed to sell to the public.<extra_id_1> </s>\n",
      "########\n",
      "*******\n",
      "question: Where would you put a saw if you do not need to use it soon and your house only has one floor?\n",
      "answer: tool shed\n",
      "choices: ['logging camp', 'in the vehicle', 'tool shed', 'toolbox', 'basement']\n",
      "common expl list: ['The shed is a good place for storing tools when those tools are not in use.', 'A tool shed is a common structure for organizing and storing tools that are infrequently used.', \"A tool shed is a place where tools are stored, and thus, a good place to store a saw if you don't need to use it soon.\"]\n"
     ]
    },
    {
     "name": "stderr",
     "output_type": "stream",
     "text": [
      "\r",
      " 18%|█████████████████████████████▏                                                                                                                                  | 180/986 [7:51:21<19:19:35, 86.32s/it]"
     ]
    },
    {
     "name": "stdout",
     "output_type": "stream",
     "text": [
      "generated explanation: <pad> <extra_id_0> If you do not need to use a saw soon and your house only has one floor, you might put it in a tool shed. A tool shed is a storage area that is designed for the storage of tools and other equipment. Tool sheds are typically located off the garage or basement and are designed to provide storage for tools and other equipment. They may be equipped with a variety of shelves and work surfaces, such as a table saw, a circular saw, or a drill, and may be equipped with other features such as a workshop or garage. If you have a single floor and only one story house, you may choose to put your saw in a tool shed or garage.<extra_id_1> </s>\n",
      "########\n",
      "*******\n",
      "question: A person might wear his yarmulke when going to where?\n",
      "answer: synagogue\n",
      "choices: ['demonstration', 'concert', 'garage', 'bus stop', 'synagogue']\n",
      "common expl list: ['Synagogue is a place commonly visited by religious Jews. Men wear yarmulkes (skullcaps) because faith requires that they uncover their heads when going before God.']\n"
     ]
    },
    {
     "name": "stderr",
     "output_type": "stream",
     "text": [
      "\r",
      " 18%|█████████████████████████████▎                                                                                                                                  | 181/986 [7:52:38<18:41:11, 83.57s/it]"
     ]
    },
    {
     "name": "stdout",
     "output_type": "stream",
     "text": [
      "generated explanation: <pad> <extra_id_0> A person might wear his yarmulke when going to a synagogue. A synagogue is a building that is used as a place of worship for Jews, and it is a place where they can pray and worship God. Synagogues are places where people can worship God in a spiritual environment, and they often have special services and programs for worshippers. Synagogues are houses of worship that are run by and for people of Jewish faith, and they often have a variety of rituals and practices that are related to Jewish tradition and observance.<extra_id_1> </s>\n",
      "########\n",
      "*******\n",
      "question: Someone takes up exercising to improve their what\n",
      "answer: physical fitness\n",
      "choices: ['losing weight', 'physical fitness', 'breathlessness', 'muscles', 'lost weight']\n",
      "common expl list: ['Typically people are motivated to exercise in order to become fit.', 'Exercising is a way to improve physical fitness.', 'Exercising helps people build their physical fitness.']\n"
     ]
    },
    {
     "name": "stderr",
     "output_type": "stream",
     "text": [
      "\r",
      " 18%|█████████████████████████████▌                                                                                                                                  | 182/986 [7:54:09<19:09:12, 85.76s/it]"
     ]
    },
    {
     "name": "stdout",
     "output_type": "stream",
     "text": [
      "generated explanation: <pad> <extra_id_0> Someone takes up exercising to improve their physical fitness. Physical fitness is a term that refers to the overall health and fitness of a person. Fitness can refer to the state or quality of a person's physical performance, ability, or health. Exercise can include a variety of activities, such as walking, running, swimming, or using a stationary bike. Exercise can also be used to improve cardiovascular fitness, flexibility, and balance. It is important for people to maintain a healthy body weight and to be in good physical condition. Being fit and healthy lifestyle is important for people to maintain a healthy lifestyle and to achieve a fit and active lifestyle, especially if they are trying to improve their physical fitness.<extra_id_1> </s>\n",
      "########\n",
      "*******\n",
      "question: Where could you see a sloth that is not real?\n",
      "answer: picture book\n",
      "choices: ['bad dream', 'picture book', 'another place', 'universe', 'zoo']\n",
      "common expl list: ['Reality is generally fractured into \"real\" and \"fusion.\" Sloths are real, meaning they exist (in some form) in reality; sloths are not real (in the way depicted) in a picture book.']\n"
     ]
    },
    {
     "name": "stderr",
     "output_type": "stream",
     "text": [
      "\r",
      " 19%|█████████████████████████████▋                                                                                                                                  | 183/986 [7:55:23<18:20:40, 82.24s/it]"
     ]
    },
    {
     "name": "stdout",
     "output_type": "stream",
     "text": [
      "generated explanation: <pad> <extra_id_0> A sloth is a type of animal that is commonly seen in picture books and other print materials. Sloths are animals that are used as characters in stories or illustrations, and they are often depicted as having features or behaviors that are similar to those of real sloths. Because sloths are a fictional animal, they are not real animals that you can see or touch. Therefore, when you see a sloth in a picture book, it is likely that the sloth is an invented character or character that has been adapted from a realistic perspective.<extra_id_1> </s>\n",
      "########\n",
      "*******\n",
      "question: Where are seats often plush?\n",
      "answer: opera\n",
      "choices: ['rest area', 'theater', 'hockey game', 'classroom', 'opera']\n",
      "common expl list: ['Plush seats are generally found in more comfortabe, well-off establishments, and opera is often performed in such, less strict teents of, elegance of the decor.', 'Opera is a high-class form of entertainment, and thus, the seats are often plush.']\n"
     ]
    },
    {
     "name": "stderr",
     "output_type": "stream",
     "text": [
      "\r",
      " 19%|█████████████████████████████▋                                                                                                                                 | 184/986 [7:58:03<23:30:30, 105.52s/it]"
     ]
    },
    {
     "name": "stdout",
     "output_type": "stream",
     "text": [
      "generated explanation: <pad> <extra_id_0> Opera is a cultural institution that has historically been used as a venue for performing arts, and its seats are often plush and comfortable. The term opera refers to a theatre or opera that is characterized by its lavish interiors and lavish seating, and it is often used in conjunction with other arts forms, such as ballet, opéra, opera, and other forms of performing arts. The seats in an opera are typically upholstered in soft, plush material, and they are often arranged in rows, with the seats themselves arranged in a variety of ways, such as a balcony or a balcony. If you are looking for a seat in a plush, comfortable and luxurious opera, opera or ballet, you may want to consider the opera house as a potential venue for a seat in a variety of settings, such as a theater, opera, ballet, or theater, or a live performance. Opera is a venue for opera housed in a venue that has a seat, opera housed in a reclining, a a a stall, or a seated in a theater, or even a stalls, or even a stalls adapted to accommodate larger audiences.<extra_id_1> </s>\n",
      "########\n",
      "*******\n",
      "question: The comforter was used constantly and treaded upon by everyone, where should it be placed?\n",
      "answer: washing machine\n",
      "choices: ['garbage', 'linen closet', 'bedroom', 'washing machine', 'livingroom']\n",
      "common expl list: ['When you use your comforter (or any other high-traffic fabric) often, you ought to wash it often too. Therefore it should be kept in the washing machine, to enable quick washing.', 'Linens are often used (i.e., the comforter) and washed frequently.', 'The comforter was used constantly, so it should be washed frequently. Linen closets are where people store their bed sheets and blankets.']\n"
     ]
    },
    {
     "name": "stderr",
     "output_type": "stream",
     "text": [
      "\r",
      " 19%|█████████████████████████████▊                                                                                                                                 | 185/986 [7:59:31<22:15:56, 100.07s/it]"
     ]
    },
    {
     "name": "stdout",
     "output_type": "stream",
     "text": [
      "generated explanation: <pad> <extra_id_0> If the comforter was used continuously and was trodden upon by everyone, it should be placed in the washing machine. The washing machine is a mechanically-driven appliance that uses water and a high-quality detergent to remove dirt and other contaminants. The comforter is placed in the washing machine along with other laundry items, such as sheets, pillows, and blankets. The comforter is typically made of soft, durable material such as cotton or polyester fibers that are designed to be thrown into the washing machine and cleaned regularly. The washing machine is a great place to wash and dry the comfort of the comforter, as well as the other items that are being disposed of.<extra_id_1> </s>\n",
      "########\n",
      "*******\n",
      "question: Joe bought a ficus.  He thought it would look good in what part of his home?\n",
      "answer: family room\n",
      "choices: ['family room', 'tropical forest', 'flower garden', 'movie theater', 'hair salon']\n",
      "common expl list: [\"The ficus is an indoor plant, such as a plant one would have in one's family room. The family room is the ideal location for an indoor plant like a houseplant.\"]\n"
     ]
    },
    {
     "name": "stderr",
     "output_type": "stream",
     "text": [
      "\r",
      " 19%|██████████████████████████████▏                                                                                                                                 | 186/986 [8:01:07<21:59:09, 98.94s/it]"
     ]
    },
    {
     "name": "stdout",
     "output_type": "stream",
     "text": [
      "generated explanation: <pad> <extra_id_0> A ficus is a small tree that is often used as a decorative plant in homes and businesses. They are typically grown in pots or raised beds and are often used as decorative plants in living rooms, bedrooms, and other rooms in the home. Joe thought a ficus would look good in the family room of his home, where it would provide a nice, fresh look and feel. The ficus is a small tree that is typically grown in a sunny or partially shaded location and is often used as a decorative piece for a tropical or tropical plant or other plant in the room. It is a good choice for a ficus, as it can provide a cool, refreshing, and soothing benefits to the room.<extra_id_1> </s>\n",
      "########\n",
      "*******\n",
      "question: Family is always the best for devotion, but it is also nice if a person has what?\n",
      "answer: loyal friends\n",
      "choices: ['good review', 'headache', 'with cat', 'loyal friends', 'shoes']\n",
      "common expl list: [\"Because times may come when a person would like to go out and have fun with some friends, and it's nice if that person may have friends that he is faithful to.\", 'We may have devoted friends who would be there for us if we had need.', 'Loyal friends are always there for you, and they will always be devoted to you.']\n"
     ]
    },
    {
     "name": "stderr",
     "output_type": "stream",
     "text": [
      "\r",
      " 19%|██████████████████████████████▎                                                                                                                                 | 187/986 [8:02:20<20:15:34, 91.28s/it]"
     ]
    },
    {
     "name": "stdout",
     "output_type": "stream",
     "text": [
      "generated explanation: <pad> <extra_id_0> A person's family is always the best source of devotion, but it is nice if a person has loyal friends. Friends are another source of devotion that can be valuable to a person. They can provide a person with a sense of belonging and belonging to something larger than themselves. Friends can also be a great source of support and encouragement, as they can provide a person with a sense of belonging and help to build a strong foundation for a lifetime of happiness and fulfillment. Friends can also be a great source of devotion and support from their own community.<extra_id_1> </s>\n",
      "########\n",
      "*******\n",
      "question: Rap is not usually associate with what music often performed by an orchestra?\n",
      "answer: classical\n",
      "choices: ['folk', 'rock', 'good music', 'country music', 'classical']\n",
      "common expl list: ['Rap is generally associated with hip-hop music, which is normally performed by a single artist. Orchestras tend to play classical music, which often is performes with real instruments, rather than manufactured ones.']\n"
     ]
    },
    {
     "name": "stderr",
     "output_type": "stream",
     "text": [
      "\r",
      " 19%|██████████████████████████████▌                                                                                                                                 | 188/986 [8:03:51<20:13:34, 91.25s/it]"
     ]
    },
    {
     "name": "stdout",
     "output_type": "stream",
     "text": [
      "generated explanation: <pad> <extra_id_0> Rap music is a form of contemporary music that is characterized by its fast pace and use of a wide range of instruments. Orchestras are large, live ensembles that perform a wide range of musical styles, including classical, jazz, and pop music. Rap music is often associated with fast-paced, energetic music, such as rap or breakbeat, which is a type of music that is performed by a large group of musicians and is often performed as a part of a larger concert or event. An orchestra is a professional performance that is typically associated with classical music, such as a fast tempo, large scale, and a variety of musical instruments.<extra_id_1> </s>\n",
      "########\n",
      "*******\n",
      "question: At what structure can you see people you use a puck professionally?\n",
      "answer: hockey rink\n",
      "choices: ['hockey rink', 'locker room', 'sporting goods store', 'used in hockey game', 'teachers']\n",
      "common expl list: ['Pucks are commonly used in ice hockey, which is a professional activity.']\n"
     ]
    },
    {
     "name": "stderr",
     "output_type": "stream",
     "text": [
      "\r",
      " 19%|██████████████████████████████▋                                                                                                                                 | 189/986 [8:05:07<19:07:43, 86.40s/it]"
     ]
    },
    {
     "name": "stdout",
     "output_type": "stream",
     "text": [
      "generated explanation: <pad> <extra_id_0> A hockey rink is a structure that is used for playing hockey. A hockey rink is a flat, open surface that is used for hockey and other sports. At a hockey rink, players can use a puck to shoot a puck into the air, move it around the rink, and hit the puck with a puck or other object. The puck is typically white or clear, and is used for striking the ball and distributing it around the rink. A hockey rink is a structure that is used for hockey and other sports, and where players can practice and play their skills.<extra_id_1> </s>\n",
      "########\n",
      "*******\n",
      "question: Even when not in flight a bald eagle likes to have a lay of the land, because of this you'll see them perched up where?\n",
      "answer: high places\n",
      "choices: ['colorado', 'natural habitat', 'everglades', 'high places', 'tree']\n",
      "common expl list: ['Eagles like to be high up, so they can see a large area.']\n"
     ]
    },
    {
     "name": "stderr",
     "output_type": "stream",
     "text": [
      "\r",
      " 19%|██████████████████████████████▊                                                                                                                                 | 190/986 [8:07:13<21:44:26, 98.33s/it]"
     ]
    },
    {
     "name": "stdout",
     "output_type": "stream",
     "text": [
      "generated explanation: <pad> <extra_id_0> When a bald eagle is not in flight, you may see them perched up high in a tree or other structure to get a lay of the land. Bald eagles are able to see the land from a high perch, or perch, and can provide a good view of the surrounding landscape and terrain. Because they are able to see the land from a high perch, they can provide a good perspective of the land and its features, such as trees, hills, or other high places. When perched up in high places, they can provide a good view of the terrain below, or even fly high into the air. Because they are able to get a lay of the ground, they may be seen perched on a variety of habitats, including trees, cliffs, or other high places, they may be found in a variety of habitats, including arid climate.<extra_id_1> </s>\n",
      "########\n",
      "*******\n",
      "question: When is good time for garlic bread?\n",
      "answer: dinner\n",
      "choices: ['refrigerator', 'dinner', 'jail', 'supermarket', 'going on a date']\n",
      "common expl list: ['Typical garlic bread is served with a maincourse and wine or other alcoholic beverage, and both are commonly served with dinner.', 'Garlic bread is often served with dinner.']\n"
     ]
    },
    {
     "name": "stderr",
     "output_type": "stream",
     "text": [
      "\r",
      " 19%|██████████████████████████████▉                                                                                                                                 | 191/986 [8:08:33<20:30:34, 92.87s/it]"
     ]
    },
    {
     "name": "stdout",
     "output_type": "stream",
     "text": [
      "generated explanation: <pad> <extra_id_0> It is generally considered to be a good time for garlic bread at dinner. Garlic bread is a type of bread that is baked with a garlic flavor and is often served at dinner. Garlic bread is a popular bread that is often served at dinner and is often served with other foods, such as garlic sauce, roasted vegetables, or cheese. It is often served with dinner, and it is a common way to add flavor and flavor to meals. Garlic bread is a popular bread that is often served with other foods, and it is often accompanied by other ingredients, such as herbs, or spices.<extra_id_1> </s>\n",
      "########\n",
      "*******\n",
      "question: Where is the sky fake?\n",
      "answer: planetarium\n",
      "choices: ['shed', 'atmosphere', 'photo', 'outdoors', 'planetarium']\n",
      "common expl list: ['Planetariums are places built to simulate the sky indoors; the opposite of outdoors.', 'Planetariums are buildings that simulate the sky.']\n"
     ]
    },
    {
     "name": "stderr",
     "output_type": "stream",
     "text": [
      "\r",
      " 19%|███████████████████████████████▏                                                                                                                                | 192/986 [8:09:50<19:27:30, 88.22s/it]"
     ]
    },
    {
     "name": "stdout",
     "output_type": "stream",
     "text": [
      "generated explanation: <pad> <extra_id_0> The sky is a representation of the Earth's atmosphere. Planetariums are structures that simulate the night sky and are designed to look like the sky above Earth. They are often used in science and history classes and other educational settings. The sky in a planetarium is a replica of the night sky, and they are often used in educational settings, such as science fairs, museums, and science festivals. Planetariums are designed to give visitors a sense of space and depth, and they can be used to teach about the planets in the solar system and other objects in the solar system.<extra_id_1> </s>\n",
      "########\n",
      "*******\n",
      "question: Boats that aren't on the ocean travel across the surface of what?\n",
      "answer: lake\n",
      "choices: ['lake', 'ocean', 'tetrahedron', 'mirror', 'object']\n",
      "common expl list: [\"Lakes (and ponds) are bodies of fresh water surrounded by land, and boats exist on water, and thus, will tend to travel across lakes' surfaces.\"]\n"
     ]
    },
    {
     "name": "stderr",
     "output_type": "stream",
     "text": [
      "\r",
      " 20%|███████████████████████████████▎                                                                                                                                | 193/986 [8:11:00<18:13:51, 82.76s/it]"
     ]
    },
    {
     "name": "stdout",
     "output_type": "stream",
     "text": [
      "generated explanation: <pad> <extra_id_0> Boats that aren't on the ocean travel across the surface of a lake. A lake is a body of water that is connected to the ocean by a navigable channel or channel, such as a river, stream, or a lake. Boats that aren't on the ocean travel across the surface of a lake, such as a river, a lake, or the open water of a reservoir. Lakes are large, open bodies of water that are typically surrounded by land, with a variety of boating and fishing.<extra_id_1> </s>\n",
      "########\n",
      "*******\n",
      "question: A small dog lived with a a woman who loved him. Where might he have lived?\n",
      "answer: person's house\n",
      "choices: [\"person's house\", 'dog house', 'canada', 'illinois', 'basket']\n",
      "common expl list: ['Animals who live with humans are often in their homes.', \"Dogs are often kept as pets, and pets are often kept in their owners' homes.\"]\n"
     ]
    },
    {
     "name": "stderr",
     "output_type": "stream",
     "text": [
      "\r",
      " 20%|███████████████████████████████▍                                                                                                                                | 194/986 [8:12:24<18:14:33, 82.92s/it]"
     ]
    },
    {
     "name": "stdout",
     "output_type": "stream",
     "text": [
      "generated explanation: <pad> <extra_id_0> A small dog lived with a woman who loved him. He might have lived in a person's house with a woman who loved him. A woman who loved a dog might have raised the dog as a pet. A small dog is a type of pet that is typically used for companionship and companionship, and it is often a companion dog that is particularly devoted to its owner. Dogs can be very loyal and loving animals, and they often seek out their owners' attention and affection when they sense their owners's. They may have been raised by a woman who was a woman who loved and cared for him.<extra_id_1> </s>\n",
      "########\n",
      "*******\n",
      "question: There are usually four strings on what popular instrument?\n",
      "answer: guitar\n",
      "choices: ['trumpet', 'kite', 'quark', 'guitar', \"bird's nest\"]\n",
      "common expl list: ['A guitar is a stringed instrument with four strings.', 'Guitars have four strings.']\n"
     ]
    },
    {
     "name": "stderr",
     "output_type": "stream",
     "text": [
      "\r",
      " 20%|███████████████████████████████▍                                                                                                                               | 195/986 [8:14:53<22:36:39, 102.91s/it]"
     ]
    },
    {
     "name": "stdout",
     "output_type": "stream",
     "text": [
      "generated explanation: <pad> <extra_id_0> There are usually four strings on a popular instrument.<extra_id_1> There are usually four strings on a guitar, a popular instrument that is used for playing various instruments, such as the ukulele, the cimbal, the gitar, and the sitar. The four main parts of the guitar are the neck, the body, and the strings. The four strings are used to produce sound and are used on the instrument to produce a variety of sounds and effects, such as clicking, squeaking, plucked or tuned by the player. They are typically used for playing rhythmic patterns, or passages of a specific musical note. They are a variety of instruments, such as the four-stringed instruments, which have a variety of musical instruments, or a traditional acous, or a variety of musical instruments, depending on the technical characteristics and a string quartet, and they may be used to play the four-string guitars, or a traditional sl.<extra_id_1> </s>\n",
      "########\n",
      "*******\n",
      "question: Where would you find a shelf with toys for young people learning?\n",
      "answer: school building\n",
      "choices: ['corner', 'school building', 'wall', 'library', 'bookstore']\n",
      "common expl list: ['A school building is a place where children learn, and so, a school building would have a shelf with toys for young people learning.', 'School buildings house school libraries, in which you would find shelfs of toys, games and puzzle for students to use while in school.']\n"
     ]
    },
    {
     "name": "stderr",
     "output_type": "stream",
     "text": [
      "\r",
      " 20%|███████████████████████████████▌                                                                                                                               | 196/986 [8:16:31<22:15:04, 101.40s/it]"
     ]
    },
    {
     "name": "stdout",
     "output_type": "stream",
     "text": [
      "generated explanation: <pad> <extra_id_0> In a school building, you might find a shelf with toys for young people learning. Toys can be used as tools to help teach children and develop their skills and creativity. Schools often have shelves with toys on them that are designed to help teach specific skills and concepts. Schools may also have a variety of other resources, such as computers, books, and other materials, that can help support learning and development. Schools may also have a variety of resources, such as a library, computer lab, or media center, where students can access to learning and development. In addition to educational materials, school buildings may have shelves with toys for young people learning and playing, such as games, educational toys, educational activities, or other materials to support their learning.<extra_id_1> </s>\n",
      "########\n",
      "*******\n",
      "question: What can you get after drinking too much alcohol?\n",
      "answer: sickness\n",
      "choices: ['become drunk', 'have fun', 'active', 'frequent urination', 'sickness']\n",
      "common expl list: [\"Alcohol (e.g., beer, wine, etc.) is a chemical that alters people's consciousness, making them generally feel unpleasant; subsequently, over-consumption can lead to the vomiting of one's content inside one's stomach. Hence, being\", \"Drinking too much alchohol can impair the body and, consequently, one's ability to think straight. It can also cause sickness.\", 'Alcohol is a diuretic, which means that it makes you urinate more frequently. This can lead to dehydration, which can cause sickness.']\n"
     ]
    },
    {
     "name": "stderr",
     "output_type": "stream",
     "text": [
      "\r",
      " 20%|███████████████████████████████▉                                                                                                                                | 197/986 [8:17:53<20:55:55, 95.51s/it]"
     ]
    },
    {
     "name": "stdout",
     "output_type": "stream",
     "text": [
      "generated explanation: <pad> <extra_id_0> After drinking too much alcohol, you may experience a variety of different kinds of symptoms, such as physical discomfort, nausea, and a decreased appetite. One of the most common symptoms of alcoholism is a feeling of generalized discomfort or ill health. It is not clear what exactly causes this type of reaction or what symptoms may arise from it. However, it is likely that some form of illness or disorder is associated with excessive alcohol consumption. If you drink too much alcohol, it is possible that you may experience some form of illness or disorder. It is not yet known exactly what you may experience after drinking too much alcohol or at any time.<extra_id_1> </s>\n",
      "########\n",
      "*******\n",
      "question: WHat is the central bank responding to when they are fighting inflation?\n",
      "answer: problems\n",
      "choices: ['deflation', 'problems', 'spend more', 'people', 'not noticeable']\n",
      "common expl list: ['Periods of inflation cause problems for businesses and people. The central bank may take steps to fight inflation (reduce it) to respond to this problem. Reducing inflation also solves the overall issues.', 'Inflation is a function of having too much money in the economy. This may cause problems.', 'Inflation is a problem, and the central bank is responding to it by fighting it.', 'In order to fight inflation, a central bank must respond to the problem, e.g., economic trouble, which if left alone, would cause inflation']\n"
     ]
    },
    {
     "name": "stderr",
     "output_type": "stream",
     "text": [
      "\r",
      " 20%|████████████████████████████████▏                                                                                                                               | 198/986 [8:19:14<19:58:28, 91.25s/it]"
     ]
    },
    {
     "name": "stdout",
     "output_type": "stream",
     "text": [
      "generated explanation: <pad> <extra_id_0> When the central bank is fighting inflation, they are responding to problems that are occurring in the economy. Inflation is the rate at which the price of goods or services is rising more quickly than it is rising. Inflation is a measure of how much more quickly or slowly goods or services are being produced or consumed. It is a common problem that central banks face, and it is one that they try to address by altering their policies and practices to combat the problem. In order to fight inflation, the central bank may use various tools and tactics to fight the problem. The central bank may respond to problems that are occurring in the economy and/or with the government.<extra_id_1> </s>\n",
      "########\n",
      "*******\n",
      "question: What could a massive building be if it is not constructed well?\n",
      "answer: insubstantial\n",
      "choices: ['insubstantial', 'massless', 'dwarf', 'inconsequential', 'good']\n",
      "common expl list: ['A building is typically considered a sizable construction, therefore, if erected poorly, would be construed as being insubstantial.', 'Because the massive structure is so large, poor construction could render it largely inconsequential, or \"insubstantial\", as a structure.']\n"
     ]
    },
    {
     "name": "stderr",
     "output_type": "stream",
     "text": [
      "\r",
      " 20%|████████████████████████████████▎                                                                                                                               | 199/986 [8:20:29<18:54:30, 86.49s/it]"
     ]
    },
    {
     "name": "stdout",
     "output_type": "stream",
     "text": [
      "generated explanation: <pad> <extra_id_0> A massive building is a structure that is constructed of a variety of materials and materials. A massive building is typically defined as a structure that is larger than one storey and has a fixed floor plan. A massive building is typically characterized by its solid, irregular shape and<extra_id_1> if it is not constructed well, it could be insubstantial or hollow. Hollow buildings are typically smaller and have a lower structural strength and are often more easily damaged by wind or earthquakes. If a massive building is not constructed well, it could become insubstantial or unsustainable, depending on its specific location and design.<extra_id_1> </s>\n",
      "########\n",
      "*******\n",
      "question: If you rent a condominium in a glove-shaped state where are you?\n",
      "answer: michigan\n",
      "choices: ['great lake state', 'michigan', 'community', 'towels', 'complex']\n",
      "common expl list: ['A condominium is a type of housing that is often rented. Condominiums are often located in complexes, and Michigan is a state that is shaped like a mitten.']\n"
     ]
    },
    {
     "name": "stderr",
     "output_type": "stream",
     "text": [
      "\r",
      " 20%|████████████████████████████████▍                                                                                                                               | 200/986 [8:22:13<20:01:31, 91.72s/it]"
     ]
    },
    {
     "name": "stdout",
     "output_type": "stream",
     "text": [
      "generated explanation: <pad> <extra_id_0> If you rent a condominium in a glove-shaped state, you are in michigan. A glove-shaped state is a state that is shaped like a glove, and it is one of the 48 contiguous states of the United States. The state of Michigan is a mid-sized state that is located in the upper midwestern region of the country. It is known for its friendly and welcoming people, and it is home to many families and individuals. Condominiums are residential properties that are designed to be used as primary residence and to provide a comfortable and affordable living for people. They are oftentimes for people who want to live in a location that is convenient and convenient for work. They are oftentimes a great option for people who want to be close to public transportation and recreational activities.<extra_id_1> </s>\n",
      "########\n",
      "*******\n",
      "question: where do children play a game?\n",
      "answer: family room\n",
      "choices: ['toy store', 'bar', 'casino', 'table', 'family room']\n",
      "common expl list: ['A family room is a room in a house where family members can play games.', 'A family room is a room in many homes in which families can socialize, often through games. One such game is \"connect four.']\n"
     ]
    },
    {
     "name": "stderr",
     "output_type": "stream",
     "text": [
      "\r",
      " 20%|████████████████████████████████▎                                                                                                                              | 200/986 [8:23:32<32:58:54, 151.06s/it]"
     ]
    },
    {
     "name": "stdout",
     "output_type": "stream",
     "text": [
      "generated explanation: <pad> <extra_id_0> A game is a activity or game that children play in a family room or other space. Games can be played in a variety of ways, such as by playing cards, dice, or other pieces of furniture. Games can also be played in a variety of settings, such as the living room, bedroom, or kitchen. There are many different types of games that children can play, such as board games, card games, or puzzles. Games can also be played in the classroom, in a library, or in a public place, where parents and children can gather to discuss and interact with each other and their families.<extra_id_1> </s>\n",
      "########\n"
     ]
    },
    {
     "name": "stderr",
     "output_type": "stream",
     "text": [
      "\n"
     ]
    }
   ],
   "source": [
    "from tqdm import tqdm\n",
    "fse_csqa_dev_data_dict\n",
    "fse_csqa_train_data_dict\n",
    "rationale_pair_dev_data = []\n",
    "cc=0\n",
    "good_model = model\n",
    "for da in tqdm(our_data_splits['dev'], total=len(our_data_splits['dev'])):\n",
    "    print(\"*******\")\n",
    "    print(\"question: {}\".format(da['question']))\n",
    "    print(\"answer: {}\".format(da['answer']))\n",
    "    print(\"choices: {}\".format(da['choices']))\n",
    "    #print(\"our_explanation: {}\".format(da['our_explanation']))\n",
    "    id_ = da['id']\n",
    "    if id_ in fse_csqa_dev_data_dict.keys():\n",
    "        common_expl_list = fse_csqa_dev_data_dict[id_]['common_expl_list']\n",
    "    else:\n",
    "        common_expl_list = fse_csqa_train_data_dict[id_]['common_expl_list']\n",
    "    da[\"common_expl_list\"] = common_expl_list\n",
    "    print(\"common expl list: {}\".format(common_expl_list))\n",
    "    inp_ids = torch.tensor(da[\"input_ids\"], device=model.device).reshape(1, -1)\n",
    "    out = good_model.generate(\n",
    "                    inp_ids,\n",
    "                    max_length=512,\n",
    "                    pad_token_id=tokenizer.pad_token_id,\n",
    "                    eos_token_id=tokenizer.eos_token_id,\n",
    "                )\n",
    "    skip_special_tokens = False if \"infilling\" in data_args.io_format else True\n",
    "    words = tokenizer.decode(out[0].tolist(), skip_special_tokens=skip_special_tokens)\n",
    "    print(\"generated explanation: {}\".format(words))\n",
    "    da[\"generated_explanation\"] = words\n",
    "    print(\"########\")\n",
    "    rationale_pair_dev_data.append(da)\n",
    "    cc += 1\n",
    "    if cc > 200:\n",
    "        break\n",
    "    #pdb.set_trace()"
   ]
  },
  {
   "cell_type": "code",
   "execution_count": 1,
   "id": "a7a66b99",
   "metadata": {},
   "outputs": [
    {
     "ename": "NameError",
     "evalue": "name 'os' is not defined",
     "output_type": "error",
     "traceback": [
      "\u001b[0;31m---------------------------------------------------------------------------\u001b[0m",
      "\u001b[0;31mNameError\u001b[0m                                 Traceback (most recent call last)",
      "\u001b[0;32m/tmp/ipykernel_3893276/3990110434.py\u001b[0m in \u001b[0;36m<module>\u001b[0;34m\u001b[0m\n\u001b[1;32m      1\u001b[0m \u001b[0;32mimport\u001b[0m \u001b[0mjson\u001b[0m\u001b[0;34m\u001b[0m\u001b[0m\n\u001b[0;32m----> 2\u001b[0;31m \u001b[0mrationale_pair_save_path\u001b[0m \u001b[0;34m=\u001b[0m \u001b[0mos\u001b[0m\u001b[0;34m.\u001b[0m\u001b[0mpath\u001b[0m\u001b[0;34m.\u001b[0m\u001b[0mjoin\u001b[0m\u001b[0;34m(\u001b[0m\u001b[0;34m\"./results\"\u001b[0m\u001b[0;34m,\u001b[0m \u001b[0;34m\"48shots_cose_t5_3b_chatgpt_rationales_generator_test_rationale_pair.json\"\u001b[0m\u001b[0;34m)\u001b[0m\u001b[0;34m\u001b[0m\u001b[0m\n\u001b[0m\u001b[1;32m      3\u001b[0m \u001b[0;32mwith\u001b[0m \u001b[0mopen\u001b[0m\u001b[0;34m(\u001b[0m\u001b[0mrationale_pair_save_path\u001b[0m\u001b[0;34m,\u001b[0m \u001b[0;34m'w'\u001b[0m\u001b[0;34m)\u001b[0m \u001b[0;32mas\u001b[0m \u001b[0mf\u001b[0m\u001b[0;34m:\u001b[0m\u001b[0;34m\u001b[0m\u001b[0m\n\u001b[1;32m      4\u001b[0m     \u001b[0mjson\u001b[0m\u001b[0;34m.\u001b[0m\u001b[0mdump\u001b[0m\u001b[0;34m(\u001b[0m\u001b[0mrationale_pair_dev_data\u001b[0m\u001b[0;34m,\u001b[0m \u001b[0mf\u001b[0m\u001b[0;34m)\u001b[0m\u001b[0;34m\u001b[0m\u001b[0m\n",
      "\u001b[0;31mNameError\u001b[0m: name 'os' is not defined"
     ]
    }
   ],
   "source": [
    "import json\n",
    "rationale_pair_save_path = os.path.join(\"./results\", \"48shots_cose_t5_3b_chatgpt_rationales_generator_test_rationale_pair.json\")\n",
    "with open(rationale_pair_save_path, 'w') as f:\n",
    "    json.dump(rationale_pair_dev_data, f)"
   ]
  },
  {
   "cell_type": "code",
   "execution_count": 103,
   "id": "33daef0f",
   "metadata": {},
   "outputs": [
    {
     "data": {
      "text/plain": [
       "dict_keys(['5b8a3081c3235d62bc77e2d15f3ad454', '07f108d5321a66f460685f5c7499ecb2', 'ff1bf2ec835c9df8695ae0cfb5281646', '33ea932a876ac0361c9eefeff1d24e92', '35ad89c198d5d6311a71c993bb7b6cba', 'a2aa95861ef74bf1ecfc55db505e3982', 'af3b9a8b1962cd3bcd19e644d873e7bc', '91e0f4ab62c9d2fd440d73a3f5308d96', 'cfc7fccb8449a2a950c9d2a50991420e', 'edbb57ac2f476679ae547f75ec2bef3e', '8555dd9667d010018961a2f7d1c22704', '8bdbb8caefcc607a9ec7579aa0c87cba', '549cf641318edfc0510fa7c7dbb359e1', 'd6c002d46d9bfa466637cec4a134f332', '3b9ccdcb1c932c46a38e040d3e6c7f5b', '54231f875bb7fe4d3e4afb6eae64387c', '668dc6bce771b10cbf6336f3ec76520a', '900492bd731f8f615ed7c08155737d44', '0b25bbd9e9aa976655e1975e31331709', '1729c737ff92cf558efecde2c6cafc5e', 'cc1a547bdfdcc95e4d632453af14bc96', 'c492b8b9754a181c924c1df19998cbc7', 'd31ee38f67d1173275e120b8ad36039c', '083861fc5ebb9226fff70544f3f83d2b', 'e1744fc698cffb574e5cf4b29a81ce76', '1f492f556fae64f72ce36b6caa242dd0', '27604394ccee83e089f9ffae1883cf07', 'b3dc6d6a5e2f9d7da8eb72816c80b3f8_1', '6bc3ebcfd04965c25bde71339955746c', '69335eb9bc5b7b5df840c38a086bf8b2', 'bc05bc6b4df7a3d25a361515fe8912ad', 'f7c005244d406b9bde48dc8c22003af1', 'f48528156632b9c5b18af9ce2095509b', 'b5baf77d3855935c87f01f5fb2216667', 'db1eb157671109bbb9113b0f71a6b957', '77ddc9134bb27f9962aa2ed5ec5a5ef9', '6abd34442438509b4a00c69d6fd24764', 'b67971747e95ba425a5b81e0ba8d0b28', 'bee2a6eadfaf7a4fa0a214e341ddbe5b', '8ce13c6e08bf38d4cd4af756b661e47c', '80930e9df9ac4ad752749a54e7fc124f_1', '3ffe67fb009529d9b0c49ccd7141ee4a', '8d3dc21a53523850ec80771daaa5ff20', '3310b5b24f03d67179fababf9ae95144', '998381f854f51da2a6ccde45909e5168', 'f427f9de6bf580314531baf86de8acbc', '18844d3aa4e52b331b5382c8244cf4db', '8af63d58cc35061dec38e5448c325988', '768fb09deab56046e1565b6a2556ad5c', '5655a3002dd9a6b7dabede1dd26a5893', '07ea8ff6ee916f2bf9aceab1e19ff99a', 'd35a8a3bd560fdd651ecf314878ed30f', '449de58e919975867255218484a9fc89', '7cf54544d54818d53e7088c0749a3eca', 'd29252ddaf7c7ef491abcce342d7bb98', '4a4f6408fae400ce0beb5bea0f9913e9', 'c306ab28498b67c53decb9dde1d78bd5', 'ba9132ebf2bc3ad21e6a0631dc4e0a77', '026cb9c07a583ec933f2c4c67ae73836', '2a21820a135e1a49883525c055c74a0b', '7c45033e9fd9f1a759923971b14390ed', 'dc964e4f6df6b70815e81e466d0ff717', '2a32b1e541b1daae04690d0d3a4b3310', '6c515b068b4d3aa88a5382224d9b866d', '6c84e79d0595efd99596faa07c4961d0', '42c46e28baf0fc617a07419286178c0a', 'c39131d979c9205c11d0e109e18188e4', 'c592258c88295756833e9796e881057b', '3526550b02d9594abd4fc43553010fc6', '637c710ec9582fd9b9e8eaa3f3fe83bb', '01f01cc3ad152773ef42b30e926912bf', 'c54ddc0f9d170ba65d9f4f2e0bb41d1c', 'ad37795fd9e3a65553683ff305b5113d', '7a3d0c94438a5c8a09364aaebb848a2c', '7c05e8d5a057085455eea243fbd1cd90', '4364b4b342fb7b44434bd6694bf8fd51', '99098375c7b651d524eebac72e358238', '1ddd239a2a6438a891cb411b82e7f450', 'f4bb8ecacb9ce89e040f5f76bc79afb3', '6b9221c1af583ffb43580857d6fde38a', 'cf8e30dd6956d03e3f0f0397112a8696', '456f2fb41cac8c028dcfe2f48637e473', 'c908d7c4633c5e6add9463bdd47cb27e', '2de08c7a518b7c226e19bdc8fc10ef1d', 'cd639cf3ff82f825ace7dd2b087562bd', 'e3c6d147f8a727d314046e70e9579ba0', 'b9b82aa4c236cd342ff95455b8516a42', 'e4976ee741cf4b28b8a42780ffb15774', '8d275acea05fd16295c659c504576a9b', '3bf06235a537adc9d85431846595b800', 'a7d51b753c2113d8b2dbd0ebb5375855_1', 'bcc5dd6292a64d8fa17cd07c360b335d', '46ba5d2b8cfc6708e5e2618568d8730e', '9f9ca9bb06d6afc31b19c365fb29a1c9', '3d9c3253e24fb108cea9083e8a853cf2', '3b8e1d236f5169b6c833a994d6d9c39a', '6ca8439d062de4d43d7d471c508b78db', 'ec86900559a0faf2aef066e511a4cfa6', '57e96118fee6e2bbac5f59790fc833c0', '520b0eea9148e3cb4d45aa69a55491eb', '6be05d227f4f6fe727218fc8be9df340', '113aaea2b1a27a976547f54e531d99bb', '2f0931adc3d0d422d9ab6264395e89d8', 'cce1b59f7c4f540a84a1a7d6d88548c4', '870b07a1c5af2e956673a9680da99852', '34005ef0caafefc8585c9fcd50e94557', '22458fdcead20e2def0df0d92d5806f6', 'ec224c1dbfb569cce7ec317fe987ae68', 'ede4d302fc2ffe07703158f83c1493f2', 'ecd32cc0c17d4738a27bba3399f04591', '5c171b9837af49211891ce40e4a10204', '801431167b8bff06b9870abe9721536b', 'b47d912136e3304cb5e5890b6b879551', 'd0bd5b5ee7319d1c4727e38d429dd54e', '78276a4eab6e8d6b9ae3749211816977', 'ec79ef747bb89281923edb89ba26786d', '0e80f2afe5c4f652e8720b52d7c06c87', '39572e0ba1db51fa74f7fc2d90c5ec7f', '56417ee33b44f0d916bedfb6fd99b0ec', 'f996430ce208606452868fd2e739d409', '858a5eaa587fe0e266722228671a6bd1', '273d0134e8ce53d4ebcf41ca7fde02af', '49e466b1782aa4837dae53ff891fcdee', '08d908ed723f813574992195d61386a2', '7192c9f5c513aac9042bad595ff5af9f', 'aa4c5d2d348796b8d7fa324f27f4c34f', '0e52659484f2f6d763cf0d38d4c5999d', '4423c006f2a43f222d4c4e97360c25d3', 'f4a75bf3f115b826a8097edfd0ff2781', '07b51b231a9d6a143d8a73e69121e1b1', 'c2a8c6814ed3e207771cfc23b3b42cf1', 'f13efb91090dd28fd2b3c1f4dde680fd', '985a4f1a3f31f1ba6654f4fc48f504df', '9e5ce2b7d9eb404cdf8c7317dd0b5a59', 'a400b9fd1e319f901471c4b42d401c52', '042898e0c71adac5d123aaa6221c9754', '29c194d032a266a7160bff6f546a4d9d', 'db0cfd52ca6b2bbfcf26d1a898fd929b', '2a0e82bbf1471290c93c8f2a11af197f', '49b4c9e1bd7946a819e173ce8fa4c7c9', '6cb895ce89995f6be422f7c4167c7638', 'df1bf6f3f87975aa0c1b6d6153d9ecef', '1bf4c6b5bd870b1a079106e1e97e5d09', '8ae24d3ff199077a59e0d970feb665b7', 'bb503ece4eac41dfe608a1dcb654e6bf', '6e77de03bee86d6c20780e14f00944d0', '5799089c131e26473697afc54d5f6964', '895aa97bb84d874d71b2aed572cebfdd', '23d97480fe45bace231503f8fc367a5b', 'a2977fd575faba162d04a490dabd1b9b', '5a1c8a9dbbb60e523cc1ba14a370729c', '5496c7293f653120e5a5213db2d7b103', '7044d82a456d0fa6f0210abb03cbf2c4', '15b090801256085ad465e74af47cbee9', 'aa984e2b487d08889bc0c73bab5ac945', '4302e727e47f464511d4d04f22bed0d2', 'b6b66d4519a84b8331ea55f84767e9df', '0e5c7c0cec5b693e52f74f5f879d84fb', 'e408a5a031caec33782cb3b3a005eecc', '96cb628fb7ed2f53245598f707ed2b80', '2067720531fc03c017af941cec2f6f40', '5b8d76889510384b38b72945e8d28f53', 'cf33e0f5891ce53a716432be06a46ee1', '24eebfa678112100803da16dde148b2d', '0c2fa15a02d0b6ca6707e98fac7589e4', 'c2c2a387fd9a6a26cff636008de21f71', 'f20d40bc4af588223e880e0bb58b27b8', 'b42ef8be1748c19fa5938de5396f8fad', '57b83653d82b27d32bc39228130f3516', '2192c5c2145a6e03755ad89a02e64055', '175e7dcdded13d5adafaebf2264c3abd', '8d4b0312f02be445e09a9462873d02bb', 'cfa081b5ba90dae4d7ddb5b7ad9d369a', 'd6bb990e8c409d2b3af37a2da198e01f', '20a3bb788cf408d9a3e25e610fe60905', 'af11faa29097b71141fe192ad019d1dd', '6915dfdefe3b1cd5fd8886c8bb84929a', '43ba9669564217f2f909f33acbedaf95', 'fce1c5d069758aea57a787fc98dcf7a9', '32758ab86d888be680845b0dfe7de35e', '7ea57ee4580042b0a6a40479c8ace3e4', '21fb76bd8349628b441c76f47c33e77b', '3fe45ab3bd4a844ea290050fc0ece8c1_1', '3dee8fc7f0a3fbf4de111b6686fca157', 'ceafca2445b1b974d085a8cce38e8e44', '42520bf3f93f8de23670044e019001a3', '5ea6b94d1a911365b06cf776919413e8', '2d3c9d3dff1a7a8253180cb3de1ceeea', 'a4892551cb4beb279653ae52d0de4c89', 'e050bce7048da1b3743a54153e91694e', 'eb50f536830ba18ab987c7ff652e2aba', '6386bcf080633bc3eeb3317a5435b7b7', '839f3c37622c1ed5eebc9cd0b9d658e8', '009a7aabffe0583fc2df46656b29c326', 'c82ed0c2a2e115452b4d596c5faafbcf', '01abce8c4964371d85a5be2019f75827', '7d937233b4a9043da0b976dbd42d141b', 'c611875b43b67b91030b889b267bbcb3', '7bc1198664b376f79d584725ad7f874b', '5e260e1d96187716888cbd968010bb65', 'fde48d43e27cefed6ed9c52514e0bb6d', '43ab0ff711e60d51f943bbd2cdd6515a', '1a8b3c2a46efabcbd506f9cf70886ed0', '48a315cfa3ce11f7a9d615bc854331d5', '095767956c500ca1af7cf7671556de5b', 'de54d03e69d9765872f95ff06ed21499', 'cbf3dd48b4d591fc872a53cd4b9dd3af', '35872be88df5f6c4a6600020266a5458', 'a90f9197a13c64089c9ba95bcba275ad', 'bd4e80fa6642a76c064d0bc924411fb0', '008b7ba0c039f6d0d542c6c90aae173c', 'ace8fa2943ba8414aebdb74b48906fae', '1caf93d6a22dc8190e19c14bbe1fafda', '7c8bc9c0e56389eef033bca40c88c151', '6195ed74cf445cb5d991e1076a080dde', '8086f022f2d4a4888ae1f8c7e4541ab9', '1e5a138b4c7d456c37abf4990b402bbe', '3f4b48708d08f8bf7bec796531023f9c', '60e92cd2f35c345872d1a898e1718d55', '9889e5389917d812c09d6e5d382d333d', '46351b3a6beb694c5f623583a3b1473d', '7b7941b883328ad39048d4dfb1eb5623', '7d7f7d7a8ae3b20ca9fc0da6efe467b4', 'c961578f4c5768b67b843e5d2ce18452', '514310637fb43a252bfadc8cbf79b277', '5279a2ea333ba8a5bf3a7637a7279da1', '5622e49306bb82ec1cec817ad0506c60', 'fcd39cfa321728fea069a6ae4285b06f', '26bd85f05d29863ed777a4f1a4b8fa63', '31487ab8b1e8f12e252590cc58bd19c2', 'ffd89796a9b09bef56c5803f188764c6', 'ba3a2b9ff289c106051163f840a6f5ba', 'b1f36d1c8ab7e5a28783cb38e8709c27', '5c2bc4335c8860342ec2d568ceb6ac6b', '36c1f50eec01c287b8ef6ffe69fe0528', '515834727e23e30ab7c8fe5ba7e9a765', 'a15d564d0be6996251b5d523ac62db2a', '8f01273422a370a8dbda6bf473a395a0', 'cabefb7063a728e77abd44d97397a2a4', '1bc986f8aea88d6927d8a45367855a94', '484f6e4fb8e6431b010c299490b72e3c', 'a7e3de0719fe30e7048f67426e29fdd1', 'a617eb4d27edea93e7fd630ce00c8219', '2c0030cc14a27be2401dcfdaa501f0fc', 'cf02cca40a47c2deefd8b2e5a5ff2f70', 'ea0e7771afd86a59fd9f7764b77e3fa4', 'c1aebf059c5102f4e773f7fe4afe13f0', '95a85df48902d23eb3fda25a99fca1a0', 'a4b44a986e7f9045432e20ea75611df4', '05490e6c191fbc3c2fe0033ed0bd8aa0'])"
      ]
     },
     "execution_count": 103,
     "metadata": {},
     "output_type": "execute_result"
    }
   ],
   "source": [
    "fse_csqa_dev_data_dict.keys()"
   ]
  },
  {
   "cell_type": "code",
   "execution_count": null,
   "id": "bd852d7d",
   "metadata": {},
   "outputs": [],
   "source": []
  }
 ],
 "metadata": {
  "kernelspec": {
   "display_name": "Python 3 (ipykernel)",
   "language": "python",
   "name": "python3"
  },
  "language_info": {
   "codemirror_mode": {
    "name": "ipython",
    "version": 3
   },
   "file_extension": ".py",
   "mimetype": "text/x-python",
   "name": "python",
   "nbconvert_exporter": "python",
   "pygments_lexer": "ipython3",
   "version": "3.7.0"
  }
 },
 "nbformat": 4,
 "nbformat_minor": 5
}
