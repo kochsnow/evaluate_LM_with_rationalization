{
 "cells": [
  {
   "cell_type": "code",
   "execution_count": 1,
   "id": "f5286ba7",
   "metadata": {},
   "outputs": [
    {
     "name": "stderr",
     "output_type": "stream",
     "text": [
      "\u001b[34m\u001b[1mwandb\u001b[0m: Currently logged in as: \u001b[33mdengdenghuang\u001b[0m (\u001b[33mcuhk_lavilab\u001b[0m). Use \u001b[1m`wandb login --relogin`\u001b[0m to force relogin\n"
     ]
    },
    {
     "name": "stdout",
     "output_type": "stream",
     "text": [
      "env: WANDB_PROJECT=evaluate_LM_with_rationalization\n"
     ]
    }
   ],
   "source": [
    "import wandb\n",
    "wandb.login()\n",
    "\n",
    "%env WANDB_PROJECT=evaluate_LM_with_rationalization"
   ]
  },
  {
   "cell_type": "code",
   "execution_count": 2,
   "id": "30300ea6",
   "metadata": {},
   "outputs": [],
   "source": [
    "# import gpt3\n",
    "import logging\n",
    "import math\n",
    "import os\n",
    "\n",
    "from typing import List, Dict, Any, NewType\n",
    "\n",
    "InputDataClass = NewType(\"InputDataClass\", Any)\n",
    "os.environ[\"CUDA_VISIBLE_DEVICES\"] = \"3\"\n",
    "from transformers import (\n",
    "    T5Config,\n",
    "    T5ForConditionalGeneration,\n",
    "    T5Tokenizer,\n",
    "    HfArgumentParser,\n",
    "    TrainingArguments,\n",
    "    set_seed,\n",
    "    EarlyStoppingCallback\n",
    ")\n",
    "from transformers.trainer_utils import EvaluationStrategy\n",
    "from transformers.integrations import TensorBoardCallback\n",
    "import transformers\n",
    "from transformers import Trainer\n",
    "\n",
    "#from feature_conversion_methods import format_instance\n",
    "\n",
    "from custom_args import (\n",
    "    DataTrainingArguments,\n",
    "    ModelArguments\n",
    ")\n",
    "from metrics import evaluate\n",
    "import torch\n",
    "import datasets\n",
    "import git\n",
    "import time\n",
    "from datetime import datetime\n",
    "import sys\n",
    "from tqdm import trange\n",
    "import random \n",
    "import pandas as pd \n",
    "import jsonlines\n",
    "from copy import deepcopy \n",
    "\n",
    "logger = logging.getLogger(__name__)\n",
    "transformers.logging.set_verbosity_info()\n",
    "import re\n",
    "def set_global_logging_level(level=logging.ERROR, prefices=[\"\"]):\n",
    "    \"\"\"\n",
    "    Override logging levels of different modules based on their name as a prefix.\n",
    "    It needs to be invoked after the modules have been loaded so that their loggers have been initialized.\n",
    "\n",
    "    Args:\n",
    "        - level: desired level. e.g. logging.INFO. Optional. Default is logging.ERROR\n",
    "        - prefices: list of one or more str prefices to match (e.g. [\"transformers\", \"torch\"]). Optional.\n",
    "          Default is `[\"\"]` to match all active loggers.\n",
    "          The match is a case-sensitive `module_name.startswith(prefix)`\n",
    "    \"\"\"\n",
    "    prefix_re = re.compile(fr'^(?:{ \"|\".join(prefices) })')\n",
    "    for name in logging.root.manager.loggerDict:\n",
    "        if re.match(prefix_re, name):\n",
    "            logging.getLogger(name).setLevel(level)\n",
    "set_global_logging_level(logging.ERROR, [\"datasets\"])\n",
    "\n",
    "\n",
    "CONFIG_MAPPING = {\"t5\": T5Config}\n",
    "MODEL_MAPPING = {\"t5\": T5ForConditionalGeneration}\n",
    "TOKENIZER_MAPPING = {\"t5\": T5Tokenizer}\n",
    "\n",
    "\n",
    "def set_other_seeds(seed):\n",
    "    torch.backends.cudnn.benchmark = False\n",
    "    #torch.backends.cudnn.deterministic = True\n",
    "    os.environ['PYTHONHASHSEED'] = str(seed)\n",
    "\n",
    "# inspired by DefaultDataCollator from:\n",
    "# https://github.com/huggingface/transformers/blob/master/src/transformers/data/data_collator.py\n",
    "# modified to perform batch-level padding.\n",
    "class SequenceCollator:\n",
    "    def __init__(self, model, pad_token):\n",
    "        self.model = model\n",
    "        self.pad_token_mapping = {\n",
    "            \"labels\": -100,\n",
    "            \"attention_mask\": 0,\n",
    "            \"decoder_attention_mask\": 0,\n",
    "            \"input_ids\": pad_token,\n",
    "        }\n",
    "\n",
    "        self.columns = [\n",
    "            \"input_ids\",\n",
    "            \"attention_mask\",\n",
    "            \"labels\",\n",
    "            \"decoder_attention_mask\",\n",
    "        ]\n",
    "\n",
    "    def __call__(self, examples: List[Dict[str, InputDataClass]]) -> Dict[str, torch.Tensor]:\n",
    "        # re-format inputs for training\n",
    "        batch = {}\n",
    "        for key in examples[0].keys():\n",
    "            if key in self.columns:\n",
    "                tmp_list = []\n",
    "                for item in examples:\n",
    "                    tmp_list.append(item[key])\n",
    "\n",
    "                # pad lists to max length\n",
    "                if isinstance(tmp_list[0], list):\n",
    "                    max_length = max(map(len, tmp_list))\n",
    "                    tmp_list = [\n",
    "                        el + [self.pad_token_mapping[key]] * (max_length - len(el))\n",
    "                        for el in tmp_list\n",
    "                    ]\n",
    "\n",
    "                batch[key] = torch.tensor(tmp_list, dtype=torch.long)\n",
    "        return batch\n"
   ]
  },
  {
   "cell_type": "code",
   "execution_count": 3,
   "id": "2fa5a75a",
   "metadata": {},
   "outputs": [],
   "source": [
    "from collections import defaultdict\n",
    "import random\n",
    "\"\"\"\n",
    "Example-to-Feature conversion methods\n",
    "Modified from\n",
    "https://github.com/salesforce/cos-e/blob/master/code/generation/train_commonsenseqa_v1.0.py and \"\"_v1.11.py (identical)\n",
    "as well as Tensorflow code for WTF?: \n",
    "https://github.com/google-research/google-research/blob/master/wt5/wt5/preprocessors.py\n",
    "\"\"\"\n",
    "# This code is based on https://github.com/allenai/label_rationale_association/blob/main/feature_conversion_methods.py\n",
    "\n",
    "unified_qa_esnli_label_mapping = {0: 'yes', 1: 'maybe', 2: 'no'}\n",
    "unified_qa_esnli_label_mapping_upper = {0: 'Yes', 1: 'Maybe', 2: 'No'} \n",
    "wt5_esnli_label_mapping = {0: 'entailment', 1: 'neutral', 2: 'contradiction'} \n",
    "unified_qa_sbic_label_mapping = {\"offensive\": 'Yes', \"not offensive\": 'No'}\n",
    "\n",
    "def format_instance(\n",
    "        example,\n",
    "        tokenizer,\n",
    "        explanation_sep,\n",
    "        max_seq_length=None,\n",
    "        datasource=None,\n",
    "        io_format=None, \n",
    "):\n",
    "    assert datasource in {\"cos_e\", \"esnli\", \"sbic\", \"sensemaking\", \"ecqa\"}\n",
    "\n",
    "    if datasource in [\"cos_e\", \"ecqa\"]:\n",
    "        input_string, answer_string = cqa_formatting(example, io_format, explanation_sep, datasource)\n",
    "    elif datasource == \"esnli\":\n",
    "        input_string, answer_string = esnli_formatting(example, io_format, explanation_sep)\n",
    "    elif datasource == 'sbic':\n",
    "        input_string, answer_string = sbic_formatting(example, io_format, explanation_sep)\n",
    "    elif datasource == 'sensemaking':\n",
    "        input_string, answer_string = sensemaking_formatting(example, io_format, explanation_sep)\n",
    "    else:\n",
    "        raise ValueError(\"Unknown task. Currently supported: esnli, cos_e, sbic, sensemaking, ecqa.\")\n",
    "    \n",
    "    if 'unified' in io_format and 'unifew' not in io_format:\n",
    "        input_string += '</s>'\n",
    "\n",
    "    input_string = ' '.join(input_string.split())\n",
    "    answer_string = ' '.join(answer_string.split())\n",
    "\n",
    "    input_string = ' '.join(input_string.split())\n",
    "    answer_string = ' '.join(answer_string.split())\n",
    "\n",
    "    encodings = tokenizer.encode_plus(\n",
    "        input_string,\n",
    "        max_length=max_seq_length,\n",
    "        pad_to_max_length=False,\n",
    "        return_token_type_ids=False,\n",
    "        return_attention_mask=True,\n",
    "    )\n",
    "\n",
    "\n",
    "    # note even with \"lm_labels.shift_right()\", the decoder attention mask length is still correct since we remove the last token\n",
    "    dec = tokenizer.encode_plus(\n",
    "        answer_string,\n",
    "        max_length=max_seq_length,\n",
    "        pad_to_max_length=False,\n",
    "        return_token_type_ids=False,\n",
    "        return_attention_mask=True,\n",
    "    )\n",
    "\n",
    "    encodings[\"labels\"] = dec[\"input_ids\"]\n",
    "    encodings[\"decoder_attention_mask\"] = dec[\"attention_mask\"]\n",
    "    encodings[\"question_encoding\"] = encodings[\"input_ids\"]\n",
    "\n",
    "    #return encodings\n",
    "    return {**example, **encodings}\n",
    "\n",
    "#这里很简单 定义好输入输出string就可以的\n",
    "def cqa_formatting(item, io_format, explanation_sep, datasource):\n",
    "    question = item[\"question\"]\n",
    "    answer = item[\"answer\"]\n",
    "    abstr_expl = item[\"abstractive_explanation\"].lower() if datasource == 'cos_e' else item[\"explanation\"].lower()\n",
    "\n",
    "\n",
    "    if io_format == 't5_fewshot_infilling_with_choices':\n",
    "        input_string = f\"explain {datasource} question: {question} choice: \" + \" choice: \".join(item[\"choices\"]) + f\" <extra_id_0> {explanation_sep} <extra_id_1>\"\n",
    "        answer_string = f\"<extra_id_0> {answer} <extra_id_1> {abstr_expl} <extra_id_2>\"\n",
    "    elif io_format == 't5_fewshot_infilling_more_natural':\n",
    "        input_string = f\"explain {datasource} question: {question} choice: \" + \" choice: \".join(item[\"choices\"]) + f\" The answer is <extra_id_0> {explanation_sep} <extra_id_1>\"\n",
    "        answer_string = f\"<extra_id_0> {answer} <extra_id_1> {abstr_expl} <extra_id_2>\"\n",
    "    elif io_format == \"squad\": \n",
    "        input_string = f\"explain {datasource} question: {question} context: \" + ', '.join(item['choices']) # explain cos_e question: When getting in shape you need to have this in between workouts? context: give up, period of recovery, jogging\n",
    "        answer_string = f\"{answer} {explanation_sep} {abstr_expl}\" # period of recovery because without a period of recovery you will not get any gains.\n",
    "    elif io_format == \"record\": \n",
    "        # might not work because cos_e doesn't have a passage \n",
    "        input_string = f\"explain {datasource} query: {question} entities: \" + ', '.join(item['choices']) # explain cos_e query: When getting in shape you need to have this in between workouts? entities: give up, period of recovery, jogging\n",
    "        answer_string = f\"{answer} {explanation_sep} {abstr_expl}\" # period of recovery because without a period of recovery you will not get any gains.\n",
    "    elif io_format == 'unifiedqa_matching':\n",
    "        choice_ids = ['(A)', '(B)', '(C)', '(D)', '(E)']\n",
    "        input_string = f'explain {question.lower()} \\\\n'\n",
    "        for choice_id, choice in zip(choice_ids, item[\"choices\"]):\n",
    "            input_string += f' {choice_id} {choice.lower()}'\n",
    "        answer_string = f\"{answer.lower()} {explanation_sep} {abstr_expl.lower()}\"\n",
    "        answer_string = answer_string.lower()\n",
    "    elif io_format == 't5_fewshot_infilling_without_choices_use_refined_expl':\n",
    "        input_string = f\"explain {datasource} question: {question} choice: \" + \" choice: \".join(item[\"choices\"]) + f\" <extra_id_0> {explanation_sep} <extra_id_1>\"\n",
    "        input_string = f\"explain {datasource} question: {question} answer: {answer}\" + f\" {explanation_sep} <extra_id_0>\"\n",
    "        answer_string = f\"<extra_id_0> {item['our_explanation']} <extra_id_1>\"\n",
    "\n",
    "    else:\n",
    "        raise ValueError(\"The IO format is not supported. Choose `standard` or `masked_cause_generate`.\")\n",
    "    \n",
    "    return input_string, answer_string\n",
    "\n",
    "\n",
    "def esnli_formatting(item, io_format, explanation_sep):\n",
    "\n",
    "    premise = item[\"premise\"]\n",
    "    hypothesis = item[\"hypothesis\"]\n",
    "    answer = unified_qa_esnli_label_mapping[item[\"label\"]] if 'unified' in io_format else wt5_esnli_label_mapping[item[\"label\"]]\n",
    "    abstr_expl = item[\"explanation_1\"].lower() \n",
    "    # Dev/test instances have more than one explanation annotated; merge them into one sequence separated by [SEP] \n",
    "    for k in [2,3]:\n",
    "        if f\"explanation_{k}\" in item and item[f'explanation_{k}']!='': \n",
    "            abstr_expl += f\" [SEP] {item[f'explanation_{k}'].lower()}\"\n",
    "\n",
    "    if io_format == 'standard':\n",
    "        input_string = f\"explain nli hypothesis: {hypothesis} premise: {premise}\"\n",
    "        answer_string = f\"{answer} {explanation_sep} {abstr_expl}\"\n",
    "    elif io_format == 't5_fewshot_infilling':\n",
    "        input_string = f\"explain nli hypothesis: {hypothesis} premise: {premise} <extra_id_0> {explanation_sep} <extra_id_1>\"\n",
    "        answer_string = f\"<extra_id_0> {answer} <extra_id_1> {abstr_expl} <extra_id_2>\"\n",
    "    elif io_format == 't5_fewshot_infilling_more_natural':\n",
    "        input_string = f\"explain nli hypothesis: {hypothesis} premise: {premise} This is <extra_id_0> {explanation_sep} <extra_id_1>\"\n",
    "        answer_string = f\"<extra_id_0> {answer} <extra_id_1> {abstr_expl} <extra_id_2>\"\n",
    "    elif io_format == \"squad\": \n",
    "        input_string = f\"explain nli question: Is this entailment? context: {hypothesis} {premise}\"  \n",
    "        answer_ynm = unified_qa_esnli_label_mapping[item[\"label\"]]\n",
    "        answer_string = f\"{answer_ynm} {explanation_sep} {abstr_expl}\" \n",
    "    elif io_format == \"squad_endswith_what\":\n",
    "        input_string = f\"explain nli question: What is this? context: {hypothesis} {premise}\"  \n",
    "        answer_string = f\"{answer} {explanation_sep} {abstr_expl}\"  \n",
    "    elif io_format == \"squad_nli_mix\": \n",
    "        input_string = f\"explain nli question: Is this entailment? context: hypothesis: {hypothesis} premise: {premise}\"  \n",
    "        answer_ynm = unified_qa_esnli_label_mapping[item[\"label\"]]\n",
    "        answer_string = f\"{answer_ynm} {explanation_sep} {abstr_expl}\"  \n",
    "    elif io_format == \"squad_nli_mix_endswith_what\":  \n",
    "        input_string = f\"explain nli question: What is this? context: hypothesis: {hypothesis} premise: {premise}\"  \n",
    "        answer_string = f\"{answer} {explanation_sep} {abstr_expl}\"   \n",
    "    elif io_format == 'unifiedqa_unifew':\n",
    "        hypothesis = hypothesis.lower().rstrip('.')\n",
    "        unified_qa_esnli_label_mapping_upper = {0: 'Yes', 1: 'Maybe', 2: 'No'}\n",
    "        answer = unified_qa_esnli_label_mapping_upper[item[\"label\"]]\n",
    "        input_string = f'explain {premise} Is {hypothesis}? \\\\n (A) Yes (B) Maybe (C) No'\n",
    "        answer_string = f\"{answer} {explanation_sep} {abstr_expl}\"  \n",
    "    elif io_format == 'unifiedqa_unifew_nli_mix':\n",
    "        premise = premise.lower().rstrip('.')\n",
    "        unified_qa_esnli_label_mapping_upper = {0: 'Yes', 1: 'Maybe', 2: 'No'}\n",
    "        input_string = f'explain hypothesis: {hypothesis} Is premise: {premise}? \\\\n (A) Yes (B) Maybe (C) No'\n",
    "        answer_string = f\"{answer} {explanation_sep} {abstr_expl}\"  \n",
    "    elif io_format == 'unifiedqa_ynm': \n",
    "        input_string = f'explain is this entailment? \\\\n {hypothesis.lower()} {premise.lower()}'  \n",
    "        answer = unified_qa_esnli_label_mapping[item[\"label\"]]\n",
    "        answer_string = f\"{answer} {explanation_sep} {abstr_expl.lower()}\"  \n",
    "    elif io_format == 'unifiedqa_snli_mix_ynm': \n",
    "        input_string = f'explain is this entailment? \\\\n hypothesis: {hypothesis.lower()} premise: {premise.lower()}' \n",
    "        answer = unified_qa_esnli_label_mapping[item[\"label\"]]\n",
    "        answer_string = f\"{answer} {explanation_sep} {abstr_expl.lower()}\"  \n",
    "    elif io_format == 'unifiedqa_snli_mix_ynm_with_choices': \n",
    "        input_string = f'explain is this entailment? \\\\n (A) yes (B) maybe (C) no \\\\n hypothesis: {hypothesis.lower()} premise: {premise.lower()}'  \n",
    "        answer = unified_qa_esnli_label_mapping[item[\"label\"]]\n",
    "        answer_string = f\"{answer} {explanation_sep} {abstr_expl.lower()}\"  \n",
    "    elif io_format == 'unifiedqa_what_v2': \n",
    "        input_string = f'explain what is this? \\\\n {hypothesis.lower()} {premise.lower()}'  \n",
    "        answer = wt5_esnli_label_mapping[item[\"label\"]]\n",
    "        answer_string = f\"{answer} {explanation_sep} {abstr_expl.lower()}\"  \n",
    "    elif io_format == 'unifiedqa_snli_mix_what_v2': \n",
    "        input_string = f'explain what is this? \\\\n hypothesis: {hypothesis.lower()} premise: {premise.lower()}'  \n",
    "        answer = wt5_esnli_label_mapping[item[\"label\"]]\n",
    "        answer_string = f\"{answer} {explanation_sep} {abstr_expl.lower()}\"  \n",
    "    elif io_format == 'unifiedqa_snli_mix_what_with_choices_v2': \n",
    "        input_string = f'explain what is this? \\\\n (A) entailment (B) neutral (C) contradiction \\\\n hypothesis: {hypothesis.lower()} premise: {premise.lower()}'  \n",
    "        answer = wt5_esnli_label_mapping[item[\"label\"]]\n",
    "        answer_string = f\"{answer} {explanation_sep} {abstr_expl.lower()}\"     \n",
    "    else:\n",
    "        raise ValueError(\"The IO format is not supported.\")\n",
    "\n",
    "    return input_string, answer_string\n",
    "\n",
    "\n",
    "def sbic_formatting(item, io_format, explanation_sep):\n",
    "    # We pre-processed the SBIC dataset such that we join multiple implied statements with the [SEP] token for dev/test instances \n",
    "    # Each annotation in the training split is a separate instance\n",
    "    post = item['post']\n",
    "    answer = unified_qa_sbic_label_mapping[item[\"offensiveYN\"]] if 'unified' in io_format else item[\"offensiveYN\"].replace(\"not offensive\", \"not_offensive\")\n",
    "    abstr_expl = item[\"targetStereotype\"]\n",
    "    \n",
    "\n",
    "    if io_format == 'cola':\n",
    "        input_string = f\"explain sbic sentence: {post}\"\n",
    "        answer_string = f\"{answer} {explanation_sep} {abstr_expl}\"  \n",
    "    elif io_format == 't5_fewshot_infilling':\n",
    "        input_string = f\"explain sbic sentence: {post} <extra_id_0> {explanation_sep} <extra_id_1>\"\n",
    "        answer_string = f\"<extra_id_0> {answer} <extra_id_1> {abstr_expl} <extra_id_2>\"\n",
    "    elif io_format == 't5_fewshot_infilling_bool':\n",
    "        answer_bool = 'True' if item[\"offensiveYN\"] == 'offensive' else 'False'\n",
    "        input_string = f\"explain sbic sentence: {post} It is <extra_id_0> that this is offensive {explanation_sep} <extra_id_1>\"\n",
    "        answer_string = f\"<extra_id_0> {answer} <extra_id_1> {abstr_expl} <extra_id_2>\"\n",
    "    elif io_format == 't5_fewshot_infilling_more_natural':\n",
    "        input_string = f\"explain sbic sentence: {post} This is <extra_id_0> {explanation_sep} <extra_id_1>\"\n",
    "        answer_string = f\"<extra_id_0> {answer} <extra_id_1> {abstr_expl} <extra_id_2>\"\n",
    "    elif io_format == 'squad_yn': \n",
    "        input_string = f\"explain sbic question: Is this offensive? context: {post}\" # explain sbic question: Is this offensive? context: It's only happened to you like two times.\n",
    "        answer_yn = unified_qa_sbic_label_mapping[item[\"offensiveYN\"]] \n",
    "        answer_string = f\"{answer_yn} {explanation_sep} {abstr_expl}\" #  No because this post does not imply anything offensive\n",
    "    elif io_format == 'squad_yn_with_tags': \n",
    "        input_string = f\"explain sbic question: Is this offensive? context: post: {post}\" # explain sbic question: Is this offensive? context: It's only happened to you like two times.\n",
    "        answer_yn = unified_qa_sbic_label_mapping[item[\"offensiveYN\"]] \n",
    "        answer_string = f\"{answer_yn} {explanation_sep} {abstr_expl}\" #  No because this post does not imply anything offensive\n",
    "    elif io_format == 'squad_what': \n",
    "        input_string = f\"explain sbic question: What is this? context: {post}\" # explain sbic question: This is what? context: It's only happened to you like two times.\n",
    "        answer = item[\"offensiveYN\"].replace(\"not offensive\", \"not_offensive\")        \n",
    "        answer_string = f\"{answer} {explanation_sep} {abstr_expl}\" # not_offensive because this post does not imply anything offensive    \n",
    "    elif io_format == 'squad_what_with_tags': \n",
    "        input_string = f\"explain sbic question: What is this? context: post: {post}\" # explain sbic question: This is what? context: It's only happened to you like two times.\n",
    "        answer = item[\"offensiveYN\"].replace(\"not offensive\", \"not_offensive\")        \n",
    "        answer_string = f\"{answer} {explanation_sep} {abstr_expl}\" # not_offensive because this post does not imply anything offensive    \n",
    "    elif io_format == 'unified_qa_yn':\n",
    "        input_string = f'explain is this offensive? \\\\n {post.lower()}'\n",
    "        answer_string = f\"{answer} {explanation_sep} {abstr_expl.lower()}\" \n",
    "    elif io_format == 'unified_qa_yn_with_tags':\n",
    "        input_string = f'explain is this offensive? \\\\n post: {post.lower()}'\n",
    "        answer_string = f\"{answer} {explanation_sep} {abstr_expl.lower()}\"  \n",
    "    elif io_format == 'unified_qa_yn_with_choices':\n",
    "        input_string = f'explain is this offensive? \\\\n (A) yes (B) no \\\\n {post.lower()}'\n",
    "        answer_string = f\"{answer} {explanation_sep} {abstr_expl.lower()}\"\n",
    "    elif io_format == 'unified_qa_yn_with_choices_and_tags':\n",
    "        input_string = f'explain is this offensive? \\\\n (A) yes (B) no \\\\n post: {post.lower()}'\n",
    "        answer_string = f\"{answer} {explanation_sep} {abstr_expl.lower()}\"  \n",
    "    elif io_format == 'unified_qa_what':\n",
    "        input_string = f'explain what is this? \\\\n {post.lower()}'\n",
    "        answer = item[\"offensiveYN\"].replace(\"not offensive\", \"not_offensive\")\n",
    "        answer_string = f\"{answer} {explanation_sep} {abstr_expl.lower()}\"  \n",
    "    elif io_format == 'unified_qa_what_with_tags':\n",
    "        input_string = f'explain what is this? \\\\n post: {post.lower()}'\n",
    "        answer = item[\"offensiveYN\"].replace(\"not offensive\", \"not_offensive\")\n",
    "        answer_string = f\"{answer} {explanation_sep} {abstr_expl.lower()}\"  \n",
    "    elif io_format == 'unified_qa_what_with_choices':\n",
    "        input_string = f'explain what is this? \\\\n (A) offensive (B) not_offensive \\\\n {post.lower()}'\n",
    "        answer = item[\"offensiveYN\"].replace(\"not offensive\", \"not_offensive\")\n",
    "        answer_string = f\"{answer} {explanation_sep} {abstr_expl.lower()}\"\n",
    "    elif io_format == 'unified_qa_what_with_choices_and_tags':\n",
    "        input_string = f'explain what is this? \\\\n (A) offensive (B) not_offensive \\\\n post: {post.lower()}'\n",
    "        answer = item[\"offensiveYN\"].replace(\"not offensive\", \"not_offensive\")\n",
    "        answer_string = f\"{answer} {explanation_sep} {abstr_expl.lower()}\"  \n",
    "    elif io_format == 'unifiedqa_unifew':\n",
    "        input_string = f\"Topic? \\\\n (A) offensive (B) not_offensive \\\\n {post}\"\n",
    "        answer = item[\"offensiveYN\"].replace(\"not offensive\", \"not_offensive\")\n",
    "        answer_string = f\"{answer} {explanation_sep} {abstr_expl}\"\n",
    "    else:\n",
    "        raise ValueError(\"The IO format is not supported. Choose `standard` or `masked_cause_generate`.\")\n",
    "\n",
    "    input_string = ' '.join(input_string.split())\n",
    "    answer_string = ' '.join(answer_string.split())\n",
    "    return input_string, answer_string\n",
    "\n",
    "def sensemaking_formatting(item, io_format, explanation_sep):\n",
    "    # TODO: explore whether removing periods makes difference? \n",
    "    sent0 = item['sent0']\n",
    "    sent1 = item['sent1']\n",
    "    nonsensical_sentence = str(int(item['label'])+1)\n",
    "    explanation = item['explanation'].lower()\n",
    "\n",
    "    if io_format == 'copa_with_question':\n",
    "        input_string = f\"explain sensemaking choice1: {sent0} choice2: {sent1} question: nonsensical\"\n",
    "        answer_string = f\"choice{nonsensical_sentence} {explanation_sep} {explanation}\"\n",
    "    elif io_format == 'copa_bool':  \n",
    "        answer_bool = str(bool(int(item['label']))) # True if choice2 is more nonsensical    \n",
    "        input_string = f\"explain sensemaking choice1: {sent0} choice2: {sent1} Less common is choice2\"\n",
    "        answer_string = f\"{answer_bool} {explanation_sep} {explanation}\"\n",
    "    elif io_format == 't5_fewshot_infilling':  \n",
    "        input_string = f\"explain sensemaking choice1: {sent0} choice2: {sent1} <extra_id_0> {explanation_sep} <extra_id_1>\"\n",
    "        answer_string = f\"<extra_id_0> choice{nonsensical_sentence} <extra_id_1> {explanation} <extra_id_2>\"\n",
    "    elif io_format == 't5_fewshot_infilling_bool':  \n",
    "        answer_bool = str(bool(int(item['label']))) # True if choice2 is more nonsensical    \n",
    "        input_string = f\"explain sensemaking choice1: {sent0} choice2: {sent1} It is <extra_id_0> that choice2 is less common {explanation_sep} <extra_id_1>\"\n",
    "        answer_string = f\"<extra_id_0> {answer_bool} <extra_id_1> {explanation} <extra_id_2>\"\n",
    "    elif io_format == \"squad_yn\": \n",
    "        input_string = f\"explain sensemaking question: Is choice2 more nonsensical? context: choice1: {sent0} choice2: {sent1}\" # explain sensemaking question: What is nonsensical, choice1 or choice2? context: choice1: All state flowers are the scarlet carnation. choice2: The New Jersey state flower is the scarlet carnation\n",
    "        answer = \"Yes\" if bool(int(item['label'])) else \"No\"\n",
    "        answer_string = f\"{answer} {explanation_sep} {explanation}\" #  choice1 because state flowers are unique to each state.  \n",
    "    elif io_format == \"squad_yn_no_tags\": \n",
    "        input_string = f\"explain sensemaking question: Is choice2 more nonsensical? context: {sent0} {sent1}\" # explain sensemaking question: What is nonsensical, choice1 or choice2? context: choice1: All state flowers are the scarlet carnation. choice2: The New Jersey state flower is the scarlet carnation\n",
    "        answer = \"Yes\" if bool(int(item['label'])) else \"No\"\n",
    "        answer_string = f\"{answer} {explanation_sep} {explanation}\" #  choice1 because state flowers are unique to each state.  \n",
    "    elif io_format == \"squad_what\": \n",
    "        input_string = f\"explain sensemaking question: What is more nonsensical? context: choice1: {sent0} choice2: {sent1}\" # explain sensemaking question: What is nonsensical, choice1 or choice2? context: choice1: All state flowers are the scarlet carnation. choice2: The New Jersey state flower is the scarlet carnation\n",
    "        answer_string = f\"choice{nonsensical_sentence} {explanation_sep} {explanation}\" #  choice1 because state flowers are unique to each state.  \n",
    "    elif io_format == \"squad_what_no_tags\": \n",
    "        input_string = f\"explain sensemaking question: What is more nonsensical? context: {sent0} {sent1}\" # explain sensemaking question: What is nonsensical, choice1 or choice2? context: choice1: All state flowers are the scarlet carnation. choice2: The New Jersey state flower is the scarlet carnation\n",
    "        answer_string = f\"choice{nonsensical_sentence} {explanation_sep} {explanation}\" #  choice1 because state flowers are unique to each state.  \n",
    "    elif io_format == \"record\": \n",
    "        input_string = f\"explain sensemaking query: What is more nonsensical? entities: choice1, choice2 passage: choice1: {sent0} choice2: {sent1}\" # explain sensemaking query: What is nonsensical? entities: choice1, choice2 passage: choice1: All state flowers are the scarlet carnation. choice2: The New Jersey state flower is the scarlet carnation.\n",
    "        answer_string = f\"choice{nonsensical_sentence} {explanation_sep} {explanation}\" # choice1 because state flowers are unique to each state.\n",
    "    elif io_format == 'unifiedqa_yn_with_choices':\n",
    "        answer = \"yes\" if bool(int(item['label'])) else \"no\"\n",
    "        input_string = f'explain is choice2 more nonsensical? \\\\n (A) yes (B) no \\\\n choice1: {sent0.lower()} choice2: {sent1.lower()}'\n",
    "        answer_string = f\"{answer} {explanation_sep} {explanation.lower()}\" \n",
    "    elif io_format == 'unifiedqa_yn':\n",
    "        answer = \"yes\" if bool(int(item['label'])) else \"no\"\n",
    "        input_string = f'explain is choice2 more nonsensical? \\\\n choice1: {sent0.lower()} choice2: {sent1.lower()}'\n",
    "        answer_string = f\"{answer} {explanation_sep} {explanation.lower()}\"  \n",
    "    elif io_format == 'unifiedqa_yn_no_tags':\n",
    "        answer = \"yes\" if bool(int(item['label'])) else \"no\"\n",
    "        input_string = f'explain is choice2 more nonsensical? \\\\n {sent0.lower()} {sent1.lower()}'\n",
    "        answer_string = f\"{answer} {explanation_sep} {explanation.lower()}\"  \n",
    "    elif io_format == 'unifiedqa_what_with_choices':\n",
    "        nonsensical_sentence = str(int(item['label'])+1)\n",
    "        input_string = f'explain what is more nonsensical? \\\\n (A) choice1 (B) choice2 \\\\n choice1: {sent0.lower()} choice2: {sent1.lower()}'\n",
    "        answer_string = f\"choice{nonsensical_sentence} {explanation_sep} {explanation.lower()}\"  # use \" BECAUSE \"\n",
    "    elif io_format == 'unifiedqa_what':\n",
    "        nonsensical_sentence = str(int(item['label'])+1)\n",
    "        input_string = f'explain what is more nonsensical? \\\\n choice1: {sent0.lower()} choice2: {sent1.lower()}'\n",
    "        answer_string = f\"choice{nonsensical_sentence} {explanation_sep} {explanation.lower()}\"  # use \" BECAUSE \"\n",
    "    elif io_format == 'unifiedqa_what_no_tags':\n",
    "        nonsensical_sentence = str(int(item['label'])+1)\n",
    "        input_string = f'explain what is more nonsensical? \\\\n {sent0.lower()} {sent1.lower()}'\n",
    "        answer_string = f\"choice{nonsensical_sentence} {explanation_sep} {explanation.lower()}\"  # use \" BECAUSE \"\n",
    "\n",
    "\n",
    "    input_string = ' '.join(input_string.split())\n",
    "    answer_string = ' '.join(answer_string.split())\n",
    "    return input_string, answer_string"
   ]
  },
  {
   "cell_type": "code",
   "execution_count": 4,
   "id": "dde6c7e1",
   "metadata": {},
   "outputs": [
    {
     "name": "stderr",
     "output_type": "stream",
     "text": [
      "PyTorch: setting up devices\n",
      "The default value for the training argument `--report_to` will change in v5 (from all installed integrations to none). In v5, you will need to use `--report_to all` to get the same behavior as now. You should start updating your code and make this info disappear :-).\n",
      "01/13/2023 08:50:29 - WARNING - __main__ -   Process rank: -1, device: cuda:0, n_gpu: 1, distributed training: False, 16-bits training: False\n",
      "01/13/2023 08:50:29 - INFO - __main__ -   Save path: ./cos_e_output_t5_large/011323_085029\n",
      "01/13/2023 08:50:29 - INFO - __main__ -   Git branch: dev\n",
      "01/13/2023 08:50:29 - INFO - __main__ -   Git hash: 1cbb5c3b4e53baf31cbafc20d9655c63f091f901\n"
     ]
    }
   ],
   "source": [
    "og_start_time = time.time()\n",
    "\n",
    "#parser = HfArgumentParser(\n",
    "#    (ModelArguments, DataTrainingArguments, TrainingArguments)\n",
    "#)\n",
    "parser = HfArgumentParser(\n",
    "    (ModelArguments, DataTrainingArguments, TrainingArguments)\n",
    ")\n",
    "\n",
    "model_args, data_args, training_args, unused_args = parser.parse_args_into_dataclasses(\n",
    "    [\"--model_type\", \"t5-3b\",\n",
    "     \"--tokenizer_name\", \"t5-3b\",\n",
    "     \"--task_name\", \"cos_e\", \n",
    "     \"--output_dir\", \"./cos_e_output_t5_large\", \n",
    "     \"--n_shots\", \"10\",\n",
    "     \"--do_train\", \"True\"], return_remaining_strings=True)\n",
    "if unused_args != []:\n",
    "    raise ValueError(f\"Received unused arguments: {unused_args}\")\n",
    "# make sure only one dataset split pick if manually specifying evaluation file\n",
    "\n",
    "if model_args.use_gpt3:\n",
    "    assert training_args.do_train\n",
    "    assert not training_args.do_eval\n",
    "    assert data_args.generations_filepath is None\n",
    "    if data_args.gpt3_max_eval_size is not None:\n",
    "        assert data_args.gpt3_max_eval_size <= data_args.fewshot_eval_size\n",
    "        assert data_args.gpt3_max_eval_size % 2 == 0\n",
    "        assert data_args.gpt3_max_eval_size % 3 == 0\n",
    "\n",
    "if data_args.generations_filepath is not None:\n",
    "    training_args.do_train = False\n",
    "    training_args.do_eval = False\n",
    "    if \"train\" in data_args.generations_filepath:\n",
    "        data_args.train_predict = True\n",
    "        data_args.test_predict = False\n",
    "        data_args.dev_predict = False\n",
    "    elif \"test\" in data_args.generations_filepath:\n",
    "        data_args.train_predict = False\n",
    "        data_args.test_predict = True\n",
    "        data_args.dev_predict = False\n",
    "    elif \"validation\" in data_args.generations_filepath:\n",
    "        data_args.train_predict = False\n",
    "        data_args.test_predict = False\n",
    "        data_args.dev_predict = True\n",
    "\n",
    "if not training_args.do_train and data_args.generations_filepath is None:\n",
    "    if not model_args.pretrained_model_file:\n",
    "        raise Exception(\n",
    "            \"if not training a model from scratch, must specify a trained model to load for evaluation\"\n",
    "        )\n",
    "\n",
    "if training_args.do_train:\n",
    "    # create a save directory and a logfile\n",
    "    training_args.output_dir = os.path.join(\n",
    "        training_args.output_dir, datetime.now().strftime(\"%m%d%y_%H%M%S\")\n",
    "    )\n",
    "    training_args.logging_dir = training_args.output_dir\n",
    "    assert not os.path.exists(training_args.output_dir)\n",
    "    os.makedirs(training_args.output_dir)\n",
    "\n",
    "    if (\n",
    "            os.path.exists(training_args.output_dir)\n",
    "            and os.listdir(training_args.output_dir)\n",
    "            and training_args.do_train\n",
    "            and not training_args.overwrite_output_dir\n",
    "    ):\n",
    "        raise ValueError(\n",
    "            f\"Output directory ({training_args.output_dir}) already exists and is not empty. Use --overwrite_output_dir to overcome.\"\n",
    "        )\n",
    "    handlers = [\n",
    "        logging.FileHandler(os.path.join(training_args.output_dir, \"logger.log\")),\n",
    "        logging.StreamHandler(),\n",
    "    ]\n",
    "else:\n",
    "    # don't overwrite existing logfile or create new directory\n",
    "    training_args.output_dir = model_args.pretrained_model_file\n",
    "    handlers = [logging.StreamHandler()]\n",
    "\n",
    "# Setup logging\n",
    "logging.basicConfig(\n",
    "    format=\"%(asctime)s - %(levelname)s - %(name)s -   %(message)s\",\n",
    "    datefmt=\"%m/%d/%Y %H:%M:%S\",\n",
    "    level=logging.INFO if training_args.local_rank in [-1, 0] else logging.WARN,\n",
    "    handlers=handlers,\n",
    ")\n",
    "logger.warning(\n",
    "    \"Process rank: %s, device: %s, n_gpu: %s, distributed training: %s, 16-bits training: %s\",\n",
    "    training_args.local_rank,\n",
    "    training_args.device,\n",
    "    training_args.n_gpu,\n",
    "    bool(training_args.local_rank != -1),\n",
    "    training_args.fp16,\n",
    ")\n",
    "logger.info(\"Save path: %s\" % training_args.output_dir)\n",
    "\n",
    "# get git hash and branch where deployed\n",
    "repo = git.Repo(search_parent_directories=True)\n",
    "git_hash = repo.head.object.hexsha\n",
    "git_branch = repo.active_branch.name\n",
    "logger.info(\"Git branch: %s\" % git_branch)\n",
    "logger.info(\"Git hash: %s\" % git_hash)\n",
    "\n",
    "model_class = \"t5\"\n",
    "assert data_args.task_name in {\"cos_e\", \"esnli\", \"sbic\", \"sensemaking\", \"ecqa\"}\n",
    "\n",
    "if training_args.do_train:\n",
    "    # write command and args to file\n",
    "    with open(\n",
    "            os.path.join(training_args.output_dir, \"commandline_args.txt\"), \"w\"\n",
    "    ) as f:\n",
    "        f.write(\"Git branch: \" + git_branch + \"\\n\")\n",
    "        f.write(\"Git hash: \" + git_hash + \"\\n\")\n",
    "        f.write(\"Command:\\n\")\n",
    "        f.write(\"\\n\".join(sys.argv[1:]))\n",
    "\n",
    "# Set seed\n",
    "set_seed(training_args.seed)\n",
    "set_other_seeds(training_args.seed)\n",
    "\n",
    "# Load pretrained model and tokenizer\n",
    "#\n",
    "# Distributed training:\n",
    "# The .from_pretrained methods guarantee that only one local process can concurrently\n",
    "# download model & vocab."
   ]
  },
  {
   "cell_type": "code",
   "execution_count": 5,
   "id": "684646b4",
   "metadata": {},
   "outputs": [
    {
     "data": {
      "text/plain": [
       "device(type='cuda', index=0)"
      ]
     },
     "execution_count": 5,
     "metadata": {},
     "output_type": "execute_result"
    }
   ],
   "source": [
    "training_args.set_device = \"cuda:0\"\n",
    "training_args.device"
   ]
  },
  {
   "cell_type": "code",
   "execution_count": 6,
   "id": "18a3172a",
   "metadata": {},
   "outputs": [
    {
     "name": "stderr",
     "output_type": "stream",
     "text": [
      "01/13/2023 08:50:29 - INFO - __main__ -   Loading pretrained tokenizer...\n",
      "loading file https://huggingface.co/t5-large/resolve/main/spiece.model from cache at /home/huangyongfeng/.cache/huggingface/transformers/71ee551f54e246045a7b94dd449c33759924b864712e6d235bbba5245c9f6296.3b69006860e7b5d0a63ffdddc01ddcd6b7c318a6f4fd793596552c741734c62d\n",
      "loading file https://huggingface.co/t5-large/resolve/main/added_tokens.json from cache at None\n",
      "loading file https://huggingface.co/t5-large/resolve/main/special_tokens_map.json from cache at None\n",
      "loading file https://huggingface.co/t5-large/resolve/main/tokenizer_config.json from cache at None\n",
      "loading file https://huggingface.co/t5-large/resolve/main/tokenizer.json from cache at /home/huangyongfeng/.cache/huggingface/transformers/276094e085ecb12227136f2e755dc1f68be6f5da32df55ebfb104c791fbbc3c1.8627f1bd5d270a9fd2e5a51c8bec3223896587cc3cfe13edeabb0992ab43c529\n",
      "loading configuration file https://huggingface.co/t5-large/resolve/main/config.json from cache at /home/huangyongfeng/.cache/huggingface/transformers/1adb1f57c3579debfcce7b94ee03f6144e0ff7a0c2825e48b3f9cde9ce290c7d.75cc627adbf83d06473fdad6b036e8594b465394bf31d84bc54a373c9c5a5563\n",
      "Model config T5Config {\n",
      "  \"architectures\": [\n",
      "    \"T5ForConditionalGeneration\"\n",
      "  ],\n",
      "  \"d_ff\": 4096,\n",
      "  \"d_kv\": 64,\n",
      "  \"d_model\": 1024,\n",
      "  \"decoder_start_token_id\": 0,\n",
      "  \"dropout_rate\": 0.1,\n",
      "  \"eos_token_id\": 1,\n",
      "  \"feed_forward_proj\": \"relu\",\n",
      "  \"gradient_checkpointing\": false,\n",
      "  \"initializer_factor\": 1.0,\n",
      "  \"is_encoder_decoder\": true,\n",
      "  \"layer_norm_epsilon\": 1e-06,\n",
      "  \"model_type\": \"t5\",\n",
      "  \"n_positions\": 512,\n",
      "  \"num_decoder_layers\": 24,\n",
      "  \"num_heads\": 16,\n",
      "  \"num_layers\": 24,\n",
      "  \"output_past\": true,\n",
      "  \"pad_token_id\": 0,\n",
      "  \"relative_attention_num_buckets\": 32,\n",
      "  \"task_specific_params\": {\n",
      "    \"summarization\": {\n",
      "      \"early_stopping\": true,\n",
      "      \"length_penalty\": 2.0,\n",
      "      \"max_length\": 200,\n",
      "      \"min_length\": 30,\n",
      "      \"no_repeat_ngram_size\": 3,\n",
      "      \"num_beams\": 4,\n",
      "      \"prefix\": \"summarize: \"\n",
      "    },\n",
      "    \"translation_en_to_de\": {\n",
      "      \"early_stopping\": true,\n",
      "      \"max_length\": 300,\n",
      "      \"num_beams\": 4,\n",
      "      \"prefix\": \"translate English to German: \"\n",
      "    },\n",
      "    \"translation_en_to_fr\": {\n",
      "      \"early_stopping\": true,\n",
      "      \"max_length\": 300,\n",
      "      \"num_beams\": 4,\n",
      "      \"prefix\": \"translate English to French: \"\n",
      "    },\n",
      "    \"translation_en_to_ro\": {\n",
      "      \"early_stopping\": true,\n",
      "      \"max_length\": 300,\n",
      "      \"num_beams\": 4,\n",
      "      \"prefix\": \"translate English to Romanian: \"\n",
      "    }\n",
      "  },\n",
      "  \"transformers_version\": \"4.9.2\",\n",
      "  \"use_cache\": true,\n",
      "  \"vocab_size\": 32128\n",
      "}\n",
      "\n",
      "loading configuration file https://huggingface.co/t5-large/resolve/main/config.json from cache at /home/huangyongfeng/.cache/huggingface/transformers/1adb1f57c3579debfcce7b94ee03f6144e0ff7a0c2825e48b3f9cde9ce290c7d.75cc627adbf83d06473fdad6b036e8594b465394bf31d84bc54a373c9c5a5563\n",
      "Model config T5Config {\n",
      "  \"architectures\": [\n",
      "    \"T5ForConditionalGeneration\"\n",
      "  ],\n",
      "  \"d_ff\": 4096,\n",
      "  \"d_kv\": 64,\n",
      "  \"d_model\": 1024,\n",
      "  \"decoder_start_token_id\": 0,\n",
      "  \"dropout_rate\": 0.1,\n",
      "  \"eos_token_id\": 1,\n",
      "  \"feed_forward_proj\": \"relu\",\n",
      "  \"gradient_checkpointing\": false,\n",
      "  \"initializer_factor\": 1.0,\n",
      "  \"is_encoder_decoder\": true,\n",
      "  \"layer_norm_epsilon\": 1e-06,\n",
      "  \"model_type\": \"t5\",\n",
      "  \"n_positions\": 512,\n",
      "  \"num_decoder_layers\": 24,\n",
      "  \"num_heads\": 16,\n",
      "  \"num_layers\": 24,\n",
      "  \"output_past\": true,\n",
      "  \"pad_token_id\": 0,\n",
      "  \"relative_attention_num_buckets\": 32,\n",
      "  \"task_specific_params\": {\n",
      "    \"summarization\": {\n",
      "      \"early_stopping\": true,\n",
      "      \"length_penalty\": 2.0,\n",
      "      \"max_length\": 200,\n",
      "      \"min_length\": 30,\n",
      "      \"no_repeat_ngram_size\": 3,\n",
      "      \"num_beams\": 4,\n",
      "      \"prefix\": \"summarize: \"\n",
      "    },\n",
      "    \"translation_en_to_de\": {\n",
      "      \"early_stopping\": true,\n",
      "      \"max_length\": 300,\n",
      "      \"num_beams\": 4,\n",
      "      \"prefix\": \"translate English to German: \"\n",
      "    },\n",
      "    \"translation_en_to_fr\": {\n",
      "      \"early_stopping\": true,\n",
      "      \"max_length\": 300,\n",
      "      \"num_beams\": 4,\n",
      "      \"prefix\": \"translate English to French: \"\n",
      "    },\n",
      "    \"translation_en_to_ro\": {\n",
      "      \"early_stopping\": true,\n",
      "      \"max_length\": 300,\n",
      "      \"num_beams\": 4,\n",
      "      \"prefix\": \"translate English to Romanian: \"\n",
      "    }\n",
      "  },\n",
      "  \"transformers_version\": \"4.9.2\",\n",
      "  \"use_cache\": true,\n",
      "  \"vocab_size\": 32128\n",
      "}\n",
      "\n",
      "loading weights file https://huggingface.co/t5-large/resolve/main/pytorch_model.bin from cache at /home/huangyongfeng/.cache/huggingface/transformers/750feca8cedcd171eb121bd47c3ae16924a473d89f334c7d22f83bfa3a6c80f6.62fbd66ec15bdf6e5322f44f1546f0d475cf07a90caca0912ead31408a83a319\n",
      "All model checkpoint weights were used when initializing T5ForConditionalGeneration.\n",
      "\n",
      "All the weights of T5ForConditionalGeneration were initialized from the model checkpoint at t5-large.\n",
      "If your task is similar to the task the model of the checkpoint was trained on, you can already use T5ForConditionalGeneration for predictions without further training.\n"
     ]
    }
   ],
   "source": [
    "import logging\n",
    "logger = logging.getLogger(__name__)\n",
    "CONFIG_MAPPING = {\"t5\": T5Config}\n",
    "MODEL_MAPPING = {\"t5\": T5ForConditionalGeneration}\n",
    "TOKENIZER_MAPPING = {\"t5\": T5Tokenizer}\n",
    "model_class = \"t5\"\n",
    "tokenizer_name = TOKENIZER_MAPPING[model_class]\n",
    "logger.info(\"Loading pretrained tokenizer...\")\n",
    "model_args.tokenizer_name='t5-large'\n",
    "tokenizer = tokenizer_name.from_pretrained(model_args.tokenizer_name)#, cache_dir=model_args.cache_dir)\n",
    "\n",
    "model = T5ForConditionalGeneration.from_pretrained(\"t5-large\")"
   ]
  },
  {
   "cell_type": "code",
   "execution_count": 7,
   "id": "62eef1a8",
   "metadata": {},
   "outputs": [
    {
     "data": {
      "text/plain": [
       "DataTrainingArguments(task_name='cos_e', early_stopping_patience=10, overwrite_cache=False, train_predict=False, test_predict=False, dev_predict=False, version_name='v1.11', generations_filepath=None, n_shots=10, fewshot_eval_size=350, io_format='t5_fewshot_infilling_without_choices_use_refined_expl', explanation_sep='explanation', data_path=None, gpt3_max_eval_size=None)"
      ]
     },
     "execution_count": 7,
     "metadata": {},
     "output_type": "execute_result"
    }
   ],
   "source": [
    "data_splits = {'train': None, 'validation': None, 'test': None}\n",
    "original_data_splits = {'train': None, 'validation': None, 'test': None}  \n",
    "data_args.io_format=\"t5_fewshot_infilling_without_choices_use_refined_expl\"\n",
    "data_args"
   ]
  },
  {
   "cell_type": "code",
   "execution_count": 8,
   "id": "efc49c0c",
   "metadata": {},
   "outputs": [
    {
     "data": {
      "application/json": {
       "ascii": false,
       "bar_format": null,
       "colour": null,
       "elapsed": 0.01311635971069336,
       "initial": 0,
       "n": 0,
       "ncols": null,
       "nrows": 60,
       "postfix": null,
       "prefix": "",
       "rate": null,
       "total": 2,
       "unit": "it",
       "unit_divisor": 1000,
       "unit_scale": false
      },
      "application/vnd.jupyter.widget-view+json": {
       "model_id": "286d257e1586411ab171aa42777cc1d5",
       "version_major": 2,
       "version_minor": 0
      },
      "text/plain": [
       "  0%|          | 0/2 [00:00<?, ?it/s]"
      ]
     },
     "metadata": {},
     "output_type": "display_data"
    },
    {
     "data": {
      "text/plain": [
       "dict_keys(['abstractive_explanation', 'answer', 'id', 'extractive_explanation', 'question', 'choices'])"
      ]
     },
     "execution_count": 8,
     "metadata": {},
     "output_type": "execute_result"
    }
   ],
   "source": [
    "dataset = datasets.load_dataset(data_args.task_name, data_args.version_name)\n",
    "train_ids_list=[x['id'] for x in dataset[\"train\"]]\n",
    "dataset['train'][0].keys()"
   ]
  },
  {
   "cell_type": "code",
   "execution_count": 9,
   "id": "294780bc",
   "metadata": {},
   "outputs": [
    {
     "data": {
      "application/json": {
       "ascii": false,
       "bar_format": null,
       "colour": null,
       "elapsed": 0.012332439422607422,
       "initial": 0,
       "n": 0,
       "ncols": null,
       "nrows": 60,
       "postfix": null,
       "prefix": "",
       "rate": null,
       "total": 1,
       "unit": "it",
       "unit_divisor": 1000,
       "unit_scale": false
      },
      "application/vnd.jupyter.widget-view+json": {
       "model_id": "7c4102e852544aec9d60f7acaf68c675",
       "version_major": 2,
       "version_minor": 0
      },
      "text/plain": [
       "  0%|          | 0/1 [00:00<?, ?it/s]"
      ]
     },
     "metadata": {},
     "output_type": "display_data"
    },
    {
     "name": "stdout",
     "output_type": "stream",
     "text": [
      "[6723, 3269, 12, 6020, 7815, 0, 13, 7, 3556, 4587, 3166, 2607, 1999, 332, 8571, 2, 3520, 6, 1425, 2361, 3764, 7728, 8352, 1273, 5191, 496, 11, 8143, 6929, 4552, 4652, 7764, 6736, 401, 147, 8339, 3128, 5556, 8769, 4417, 8778, 7145, 1279, 6297, 7149, 5884, 10, 5747, 6273, 8, 9504, 8057, 1307, 2183, 1699, 88, 3228, 7178, 2140, 4048, 1041, 1, 3, 5868, 111, 7889, 5370, 8886, 2137, 6980, 9117, 1891, 7827, 1484, 14, 3668, 7090, 5, 7817, 6213, 4656, 5074, 7514, 5896, 4, 9, 7991, 58, 1887, 1598, 3994, 2212, 2274, 6830, 8826, 1604, 9008, 2013, 6521, 4793, 4338, 3923, 8091, 4904, 3938, 3900, 8156, 5806, 8363, 1787, 1496, 5753, 6351, 1104, 1222]\n"
     ]
    },
    {
     "data": {
      "text/plain": [
       "115"
      ]
     },
     "execution_count": 9,
     "metadata": {},
     "output_type": "execute_result"
    }
   ],
   "source": [
    "#rationale generation labeled data construction 115\n",
    "import pandas as pd\n",
    "scr_csqa_labeled_path=\"/cognitive_comp/huangyongfeng/evaluate_LM_with_rationalization/few_shot_explanations/data/handwritten_cose_v1.11_examples.csv\"\n",
    "scr_csqa_label_df=pd.read_csv(scr_csqa_labeled_path)\n",
    "scr_csqa_label_data=datasets.load_dataset('csv', data_files=scr_csqa_labeled_path)\n",
    "scr_csqa_label_ids_list=[x['id'] for x in scr_csqa_label_data['train']]\n",
    "scr_csqa_indexs_list=[train_ids_list.index(id_) for id_ in scr_csqa_label_ids_list]\n",
    "scr_csqa_label_our_explanations_list=[x['our_explanation'] for x in scr_csqa_label_data['train']]\n",
    "print(scr_csqa_indexs_list)\n",
    "data_splits={}\n",
    "data_splits['train']=dataset['train'].select(scr_csqa_indexs_list)\n",
    "\n",
    "refine_train_data=[]\n",
    "for kk, (ex,da) in enumerate(zip(scr_csqa_label_our_explanations_list, data_splits['train'])):\n",
    "#     print(da)\n",
    "    data_splits['train'][kk]['our_explanation']=ex\n",
    "    #print(type(data_splits['train'][kk]),data_splits['train'][kk].keys())\n",
    "    da['our_explanation']=ex\n",
    "    refine_train_data.append(da)\n",
    "\n",
    "len(data_splits['train'])"
   ]
  },
  {
   "cell_type": "code",
   "execution_count": 10,
   "id": "1d97f507",
   "metadata": {},
   "outputs": [
    {
     "data": {
      "application/json": {
       "ascii": false,
       "bar_format": null,
       "colour": null,
       "elapsed": 0.01211094856262207,
       "initial": 0,
       "n": 0,
       "ncols": null,
       "nrows": 60,
       "postfix": null,
       "prefix": "",
       "rate": null,
       "total": 1,
       "unit": "it",
       "unit_divisor": 1000,
       "unit_scale": false
      },
      "application/vnd.jupyter.widget-view+json": {
       "model_id": "7cb59c54516c417cbdb433926e0d14bc",
       "version_major": 2,
       "version_minor": 0
      },
      "text/plain": [
       "  0%|          | 0/1 [00:00<?, ?it/s]"
      ]
     },
     "metadata": {},
     "output_type": "display_data"
    },
    {
     "data": {
      "text/plain": [
       "{'id': '5b8a3081c3235d62bc77e2d15f3ad454',\n",
       " 'question': 'A town between two mountains is located in a what?',\n",
       " 'choices': ['valley', 'hospital', 'state', 'train station', 'michigan'],\n",
       " 'answer': 'valley',\n",
       " 'abstractive_explanation': 'valleys are always between two mountains',\n",
       " 'extractive_explanation': 'A town between two mountains',\n",
       " 'our_explanation': 'A valley is a low area between two mountains.'}"
      ]
     },
     "execution_count": 10,
     "metadata": {},
     "output_type": "execute_result"
    }
   ],
   "source": [
    "#rationale unlabeled data construction 991\n",
    "import pdb\n",
    "scr_csqa_unlabeled_test_file=\"/cognitive_comp/huangyongfeng/evaluate_LM_with_rationalization/few_shot_explanations/data/acceptability_annotations/commonsenseqa_test.csv\"\n",
    "fse_csqa_dev_dataset = datasets.load_dataset('csv', data_files=scr_csqa_unlabeled_test_file)\n",
    "scr_csqa_unlabeled_test_df=pd.read_csv(scr_csqa_unlabeled_test_file)\n",
    "fse_csqa_dev_data_dict={}\n",
    "for kk, da in enumerate(fse_csqa_dev_dataset['train']):\n",
    "    #pdb.set_trace()\n",
    "    id_=da['Input.id']\n",
    "    if da['Answer.acceptable']:\n",
    "        answer_accept=set(da['Answer.acceptable'].split('|'))\n",
    "    else:\n",
    "        answer_accept=set()\n",
    "    explanation_list=[da['Input.explanation_1'], \n",
    "                      da['Input.explanation_2'],\n",
    "                      da['Input.explanation_3'],\n",
    "                      da['Input.explanation_4'],\n",
    "                      da['Input.explanation_5']]\n",
    "    if id_ not in fse_csqa_dev_data_dict.keys():\n",
    "        fse_csqa_dev_data_dict[id_]={\"index\":kk,\"id\":id_,\n",
    "                                     \"question\":da[\"Input.question\"],\n",
    "                                     'answer':da['Input.gold_label'],\n",
    "                                     \"accept_set_list\":[answer_accept],\n",
    "                                     \"explanation_list\":explanation_list}\n",
    "        #[[kk, id_, answer_accept, explanation_list]]\n",
    "    else:\n",
    "        fse_csqa_dev_data_dict[id_][\"accept_set_list\"].append(answer_accept)\n",
    "    if len(fse_csqa_dev_data_dict[id_][\"accept_set_list\"])==3:\n",
    "        fse_csqa_dev_data_dict[id_][\"common_expl_list\"]=[]\n",
    "        common_accept_expl_sample=set.intersection(fse_csqa_dev_data_dict[id_][\"accept_set_list\"][0], \n",
    "                                                   fse_csqa_dev_data_dict[id_][\"accept_set_list\"][1], \n",
    "                                                   fse_csqa_dev_data_dict[id_][\"accept_set_list\"][2])\n",
    "        for idx in list(common_accept_expl_sample):\n",
    "            idx=int(idx)-1\n",
    "            fse_csqa_dev_data_dict[id_][\"common_expl_list\"].append(fse_csqa_dev_data_dict[id_][\"explanation_list\"][idx])\n",
    "        \n",
    "#discriminate 3/3 id\n",
    "id_accept_expl_list=[]\n",
    "our_accept_expl_list=[]\n",
    "id_unaccept_expl_list=[]\n",
    "for k,v in fse_csqa_dev_data_dict.items():\n",
    "    accept_set_list=v['accept_set_list']\n",
    "    assert len(accept_set_list)==3\n",
    "    #pdb.set_trace()\n",
    "    common_accept_expl_sample=set.intersection(accept_set_list[0], accept_set_list[1], accept_set_list[2])\n",
    "    #print(accept_set_list,common_accept_expl_sample)\n",
    "    #pdb.set_trace()\n",
    "    if common_accept_expl_sample:\n",
    "        id_accept_expl_list.append(k)\n",
    "        our_expl=\"\"\n",
    "        for idx in list(common_accept_expl_sample):\n",
    "            idx=int(idx)-1\n",
    "            if len(v['explanation_list'][idx]) > len(our_expl):\n",
    "                our_expl = v['explanation_list'][idx]\n",
    "                our_accept_expl_list.append(our_expl)\n",
    "    else:\n",
    "        id_unaccept_expl_list.append(k)\n",
    "\n",
    "dev_ids_list=[x['id'] for x in dataset['validation']]\n",
    "dev_accept_indexs_list=[dev_ids_list.index(id_) for id_ in id_accept_expl_list]\n",
    "dev_unaccpet_indexs_list=[dev_ids_list.index(id_) for id_ in id_unaccept_expl_list]\n",
    "dev_accept_data=dataset['validation'].select(dev_accept_indexs_list)\n",
    "dev_unaccept_data=dataset['validation'].select(dev_unaccpet_indexs_list)\n",
    "\n",
    "\n",
    "\n",
    "new_dev_accept_data=[]\n",
    "new_dev_unaccept_data=[]\n",
    "for oexp, da in zip(our_accept_expl_list,dev_accept_data):\n",
    "    da[\"our_explanation\"]=oexp\n",
    "    new_dev_accept_data.append(da)\n",
    "for da in dev_unaccept_data:\n",
    "    da[\"our_explanation\"]=oexp\n",
    "    new_dev_unaccept_data.append(da)\n",
    "        \n",
    "new_dev_accept_data[0]\n",
    "        "
   ]
  },
  {
   "cell_type": "code",
   "execution_count": 11,
   "id": "ffe13707",
   "metadata": {},
   "outputs": [
    {
     "data": {
      "text/plain": [
       "{'index': 0,\n",
       " 'id': '5b8a3081c3235d62bc77e2d15f3ad454',\n",
       " 'question': 'A town between two mountains is located in a what?',\n",
       " 'answer': 'valley',\n",
       " 'accept_set_list': [{'2', '4', '5'}, {'2', '4', '5'}, {'2', '4', '5'}],\n",
       " 'explanation_list': ['Because all of the mountains are to the left of this town, if one was looking on a map, one would be able to see the town in the valley.',\n",
       "  'A valley is usually between two mountains, where it is located in the place where the mountains are closest to each other.',\n",
       "  'Because rivers end in valleys; assuming the river is the one of interest, this sentence is likely referring to the geographical location of the town.',\n",
       "  'A town in between mountains presumably would be in a valley, in which case it is plausable that it would be surrounded by heights in every direction.',\n",
       "  'A valley is a low area between two mountains.'],\n",
       " 'common_expl_list': ['A valley is a low area between two mountains.',\n",
       "  'A valley is usually between two mountains, where it is located in the place where the mountains are closest to each other.',\n",
       "  'A town in between mountains presumably would be in a valley, in which case it is plausable that it would be surrounded by heights in every direction.']}"
      ]
     },
     "execution_count": 11,
     "metadata": {},
     "output_type": "execute_result"
    }
   ],
   "source": [
    "fse_csqa_dev_data_dict['5b8a3081c3235d62bc77e2d15f3ad454']\n"
   ]
  },
  {
   "cell_type": "code",
   "execution_count": 12,
   "id": "3161874f",
   "metadata": {},
   "outputs": [],
   "source": [
    "# for k,v in fse_csqa_dev_data_dict.items():\n",
    "#     #print(v.keys())\n",
    "#     print(\"******\")\n",
    "#     print(v['question'])\n",
    "#     print(v['answer'])\n",
    "#     print(v['common_expl_list'])\n",
    "#     print(\"******\")    \n",
    "# for k,v in fse_csqa_train_data_dict.items():\n",
    "#     #print(v.keys())\n",
    "#     print(\"******\")\n",
    "#     print(v['question'])\n",
    "#     print(v['answer'])\n",
    "#     print(v['common_expl_list'])\n",
    "#     print(\"******\") \n"
   ]
  },
  {
   "cell_type": "code",
   "execution_count": 13,
   "id": "3e0e8a2d",
   "metadata": {},
   "outputs": [
    {
     "data": {
      "application/json": {
       "ascii": false,
       "bar_format": null,
       "colour": null,
       "elapsed": 0.012467622756958008,
       "initial": 0,
       "n": 0,
       "ncols": null,
       "nrows": 60,
       "postfix": null,
       "prefix": "",
       "rate": null,
       "total": 1,
       "unit": "it",
       "unit_divisor": 1000,
       "unit_scale": false
      },
      "application/vnd.jupyter.widget-view+json": {
       "model_id": "7acbdf00e4a4444c80218b94b35ee746",
       "version_major": 2,
       "version_minor": 0
      },
      "text/plain": [
       "  0%|          | 0/1 [00:00<?, ?it/s]"
      ]
     },
     "metadata": {},
     "output_type": "display_data"
    },
    {
     "data": {
      "text/plain": [
       "{'id': 'ed53cbea1f21072fab892031b31192d1',\n",
       " 'question': 'Where can you likely buy many poems?',\n",
       " 'choices': ['book of poetry',\n",
       "  'literature book',\n",
       "  'book store',\n",
       "  'poetry book',\n",
       "  'bookshelf'],\n",
       " 'answer': 'book store',\n",
       " 'abstractive_explanation': 'book store book',\n",
       " 'extractive_explanation': 'buy many poems',\n",
       " 'our_explanation': 'A book store is a place where you can buy books, including poetry books.'}"
      ]
     },
     "execution_count": 13,
     "metadata": {},
     "output_type": "execute_result"
    }
   ],
   "source": [
    "#rationale unlabeled data construction 991\n",
    "import pdb\n",
    "scr_csqa_unlabeled_train_file=\"/cognitive_comp/huangyongfeng/evaluate_LM_with_rationalization/few_shot_explanations/data/acceptability_annotations/commonsenseqa_train.csv\"\n",
    "fse_csqa_train_dataset = datasets.load_dataset('csv', data_files=scr_csqa_unlabeled_train_file)\n",
    "scr_csqa_unlabeled_train_df=pd.read_csv(scr_csqa_unlabeled_train_file)\n",
    "fse_csqa_train_data_dict={}\n",
    "for kk, da in enumerate(fse_csqa_train_dataset['train']):\n",
    "    #pdb.set_trace()\n",
    "    id_=da['Input.id']\n",
    "    if da['Answer.acceptable']:\n",
    "        answer_accept=set(da['Answer.acceptable'].split('|'))\n",
    "    else:\n",
    "        answer_accept=set()\n",
    "    explanation_list=[da['Input.explanation_1'], \n",
    "                      da['Input.explanation_2'],\n",
    "                      da['Input.explanation_3'],\n",
    "                      da['Input.explanation_4'],\n",
    "                      da['Input.explanation_5']]\n",
    "    if id_ not in fse_csqa_train_data_dict.keys():\n",
    "        fse_csqa_train_data_dict[id_]={\"index\":kk,\"id\":id_,\n",
    "                                     \"question\":da[\"Input.question\"],\n",
    "                                     'answer':da['Input.gold_label'],\n",
    "                                     \"accept_set_list\":[answer_accept],\n",
    "                                     \"explanation_list\":explanation_list}\n",
    "        #[[kk, id_, answer_accept, explanation_list]]\n",
    "    else:\n",
    "        fse_csqa_train_data_dict[id_][\"accept_set_list\"].append(answer_accept)\n",
    "        \n",
    "    if len(fse_csqa_train_data_dict[id_][\"accept_set_list\"])==3:\n",
    "        fse_csqa_train_data_dict[id_][\"common_expl_list\"]=[]\n",
    "        common_accept_expl_sample=set.intersection(fse_csqa_train_data_dict[id_][\"accept_set_list\"][0], \n",
    "                                                   fse_csqa_train_data_dict[id_][\"accept_set_list\"][1], \n",
    "                                                   fse_csqa_train_data_dict[id_][\"accept_set_list\"][2])\n",
    "        for idx in list(common_accept_expl_sample):\n",
    "            idx=int(idx)-1\n",
    "            fse_csqa_train_data_dict[id_][\"common_expl_list\"].append(fse_csqa_train_data_dict[id_][\"explanation_list\"][idx])\n",
    "\n",
    "    \n",
    "#discriminate 3/3 id\n",
    "id_accept_expl_list=[]\n",
    "our_accept_expl_list=[]\n",
    "id_unaccept_expl_list=[]\n",
    "for k,v in fse_csqa_train_data_dict.items():\n",
    "    accept_set_list=v['accept_set_list']\n",
    "    assert len(accept_set_list)==3\n",
    "    #pdb.set_trace()\n",
    "    common_accept_expl_sample=set.intersection(accept_set_list[0], accept_set_list[1], accept_set_list[2])\n",
    "    #print(accept_set_list,common_accept_expl_sample)\n",
    "    #pdb.set_trace()\n",
    "    if common_accept_expl_sample:\n",
    "        id_accept_expl_list.append(k)\n",
    "        our_expl=\"\"\n",
    "        for idx in list(common_accept_expl_sample):\n",
    "            idx=int(idx)-1\n",
    "            if len(v['explanation_list'][idx]) > len(our_expl):\n",
    "                our_expl = v['explanation_list'][idx]\n",
    "                our_accept_expl_list.append(our_expl)\n",
    "    else:\n",
    "        id_unaccept_expl_list.append(k)\n",
    "\n",
    "train_ids_list=[x['id'] for x in dataset['train']]\n",
    "train_accept_indexs_list=[train_ids_list.index(id_) for id_ in id_accept_expl_list]\n",
    "train_unaccpet_indexs_list=[train_ids_list.index(id_) for id_ in id_unaccept_expl_list]\n",
    "train_accept_data=dataset['train'].select(train_accept_indexs_list)\n",
    "train_unaccept_data=dataset['train'].select(train_unaccpet_indexs_list)\n",
    "\n",
    "\n",
    "\n",
    "new_train_accept_data=[]\n",
    "new_train_unaccept_data=[]\n",
    "for oexp, da in zip(our_accept_expl_list,train_accept_data):\n",
    "    da[\"our_explanation\"]=oexp\n",
    "    new_train_accept_data.append(da)\n",
    "for da in train_unaccept_data:\n",
    "    da[\"our_explanation\"]=oexp\n",
    "    new_train_unaccept_data.append(da)\n",
    "        \n",
    "new_train_accept_data[0]"
   ]
  },
  {
   "cell_type": "code",
   "execution_count": 14,
   "id": "595b9453",
   "metadata": {},
   "outputs": [
    {
     "data": {
      "text/plain": [
       "(set(), set())"
      ]
     },
     "execution_count": 14,
     "metadata": {},
     "output_type": "execute_result"
    }
   ],
   "source": [
    "refine_train_data=refine_train_data\n",
    "refine_dev_data=new_train_accept_data + new_dev_accept_data\n",
    "refine_test_data=new_train_unaccept_data + new_dev_unaccept_data\n",
    "\n",
    "refine_train_ids_list=[x['id'] for x in refine_train_data]\n",
    "refine_dev_ids_list=[x['id'] for x in refine_dev_data]\n",
    "refine_test_ids_list=[x['id'] for x in refine_test_data]\n",
    "\n",
    "set(refine_train_ids_list).intersection(set(refine_dev_ids_list)),set(refine_train_ids_list).intersection(set(refine_test_ids_list))\n",
    "\n"
   ]
  },
  {
   "cell_type": "code",
   "execution_count": 15,
   "id": "48e4ec26",
   "metadata": {},
   "outputs": [
    {
     "data": {
      "text/plain": [
       "dict_keys(['id', 'question', 'choices', 'answer', 'abstractive_explanation', 'extractive_explanation', 'our_explanation'])"
      ]
     },
     "execution_count": 15,
     "metadata": {},
     "output_type": "execute_result"
    }
   ],
   "source": [
    "our_data_splits={}\n",
    "our_data_splits['train']=refine_train_data\n",
    "our_data_splits['dev']=refine_dev_data\n",
    "our_data_splits['test']=refine_test_data\n",
    "refine_train_data[0].keys()"
   ]
  },
  {
   "cell_type": "markdown",
   "id": "0fcdf34f",
   "metadata": {},
   "source": [
    "# shots number"
   ]
  },
  {
   "cell_type": "code",
   "execution_count": 16,
   "id": "bd43fe66",
   "metadata": {},
   "outputs": [],
   "source": [
    "id_list = [\n",
    " '71519c19654251cced50c5718fd527c1',\n",
    " '44195d210c81c8c550174d0edbd3ad5d',\n",
    " '5a5da37b685ec9c6f15228128ce30437',\n",
    " 'cabdfc174953b4bdb8bdcc89d6592c74',\n",
    " 'eac3a4080127e8924034651b57dfa289',\n",
    " 'c0013f31657294b9b5ad819123513ca7',\n",
    " '2681697be70cd5425899ed6deb84b18a',\n",
    " '47f60340b869552e795fa6782224f3d2',\n",
    " '7e8a6eac93147eb52d8151bab7b40003',\n",
    " 'f34267f498c8a78383e35057fbcfa2ce',\n",
    " 'f024f923d78e5c0a4c0c4baa3ddccf05',\n",
    " 'e148c710d0c26849cf1f15293481038b',\n",
    " 'bdf437d7498815f36c255f64a8e6571c',\n",
    " '2282e0c80be28aadadb79a822fec9dac',\n",
    " 'bdd05e96876342b4b5999709439a7f4e',\n",
    " '494b8316614fc64c5c27757aeaffce23_1',\n",
    " 'c4494b402264250dc70931613d482295',\n",
    " 'fcfbf207c5586294fdce33b645b613f1',\n",
    " '9c583bcbe68989a644433302545fb31e',\n",
    " '0e684d779d98e6eecda167c10af42bbb',\n",
    " 'ac0462d09b9fddd40c3c77aedf48a870',\n",
    " '1dbfb41e04a10bdbb085bfe667c0df99',\n",
    " 'cd0c0ef3b8ce0eb09ff26823f6059be6',\n",
    " 'e6b67184b99375d05d3f2887f684c684',\n",
    " 'ae9f6f1e17b3fdd3a86b494933809f45',\n",
    " 'f149604169936a30b7e4c8d599d604b5',\n",
    " 'd7c8377953e0175ef57d59f3a8e63a8e',\n",
    " '1837216ac7745121b82a6491b2318c09',\n",
    " 'b5fe238d45e55ca5d802b7823ad390ef',\n",
    " 'b2fbeb0b48bd5e575af0f7dc24cdd85d',\n",
    " '9bdfb101c487ac598f6e4686cf774703',\n",
    " '206c7116ee2246180fcc0c5a1d0e7205',\n",
    " '5cd7f44bbf730dfae5ef2a362d2e5149',\n",
    " '45d0ea781ffd49b07d6eae94d47a8945',\n",
    " '89afdea1d76272fda8e1538a7d3b7a3f',\n",
    " '38a514fe54108527e1d6e89d9812da93',\n",
    " 'ebf347934a3e90ea46d3d87726fb5d25',\n",
    " '90226a6ecd7308ae1e6220a15ae24bc6',\n",
    " '5cae8057e75e3adf5c338a43b3ba97fb',\n",
    " '388a363c49e1b0aca8eaf18ccdde0caf',\n",
    " '9ed3af82152dfcd7000bf4631b095f71',\n",
    " '2d5805d894bba224c5fe91e70b8c0f77',\n",
    " 'd5aa464a16b72c9b9f3091abd461e3ef',\n",
    " '381b11c54be4cc432a95053ca34cbf6b',\n",
    " '807a3a2dabdd50ed0c76052fd2612632',\n",
    " '5172041c750d22e9a5081cc024de0fa6',\n",
    " 'd32a45ab3b751110d0578a78e54c0e64',\n",
    " '28ca5cbe27774746c34f6ebe84fc6d0c']\n",
    "\n",
    "chatGPT_rationales = [\n",
    "    \"A cup is a common vessel used for holding and drinking liquids, such as water, coffee, or tea. When you want to get yourself a drink, you might typically get a cup from a cabinet or other storage area in order to hold the drink. A cup is a convenient and practical choice for getting a drink because it is easy to hold and use, and it can hold a reasonable amount of liquid. There are many different types of cups available, including ceramic, glass, plastic, and metal cups, each with their own unique features and benefits. Whether you are at home, at work, or out in public, a cup is a handy item to have on hand when you need to quench your thirst.\",\n",
    "    \"A front yard is the lawn that is typically located in front of a house, near the street. The front yard is the part of the property that is visible from the street and is often used for decorative purposes, such as landscaping or gardening. Many people take pride in their front yards and may spend time and resources maintaining and improving them. The front yard is often the first thing that visitors see when they arrive at a house, and it can make a strong impression on them. In contrast, the back yard is typically located behind the house and is often used for more practical purposes, such as outdoor recreation or gardening.\",\n",
    "    \"A swimming pool is a recreational water feature that is typically used for swimming and other aquatic activities. While shallow water, such as that found in a kiddie pool or a shallow end of a pool, can be enjoyable for some people, it may not be sufficient for many summer activities. A swimming pool that is deep enough for diving and other activities is more likely to provide more opportunities for summer fun. In addition, a swimming pool that is clean and chlorinated is more likely to be safe and enjoyable for swimming, as it will be free of contaminants and bacteria that can cause illness.\",\n",
    "    \"In most places, it is illegal for people under the age of 21 to purchase or consume alcohol. This is because alcohol can have negative effects on the developing brain and body of young people. It can also contribute to risky behaviors and accidents. Therefore, many governments have set a minimum age for alcohol consumption and purchase to help protect the health and safety of young people. If someone is under the age of 21 and attempts to purchase alcohol, they may be denied the sale or face legal consequences. It is important for young people to understand and adhere to the laws and regulations regarding the purchase and consumption of alcohol in their area.\",\n",
    "    \"When someone shaves, they typically use a razor to remove hair from their face or body. The process of shaving can leave a lot of hair in the sink, as the hair is trimmed off and falls into the sink as it is being shaved. It is common for people to shave in the bathroom, where a sink is typically located. The sink provides a convenient place to rinse the razor and wash off any excess hair or shaving cream. It is important to clean the sink after shaving to remove any hair and prevent clogs in the drain.\",\n",
    "    \"A hamburger is a type of sandwich that consists of a cooked patty of ground meat, typically beef, placed between two slices of bread or a bun. Hamburgers are often served with various toppings, such as lettuce, tomato, onion, cheese, and condiments like ketchup and mustard. However, if someone is suffering from great hunger, they may not care about the toppings and just want to eat the hamburger itself. In this case, the person may be more focused on satisfying their hunger and getting nourishment rather than worrying about additional ingredients or flavors.\",\n",
    "    \"If a person notices popcorn and cotton candy on the grass, they are likely at fairgrounds. Fairgrounds are outdoor areas that are used for hosting fairs and other events, such as carnivals, festivals, and exhibitions. These events often feature food stalls and vendors that sell a variety of treats, including popcorn and cotton candy. Popcorn and cotton candy are both popular carnival foods that are often sold at fairs and other events. The presence of these foods on the ground at fairgrounds suggests that a fair or similar event is taking place there.\",\n",
    "    \"When snow on a mountain becomes heavy, it can trigger an avalanche. An avalanche is a rapid flow of snow down a slope, often triggered by the weight of the snow or external factors such as a change in temperature. Avalanches can be dangerous and destructive, as they can bury and sweep away anything in their path, including people, buildings, and vehicles. Avalanches can occur on any slope with a steep enough incline and a sufficient amount of snow. They are most common on mountains, but they can also occur in other snowy areas, such as forests or valleys. It is important for people to be aware of the risk of avalanches and to take precautions when traveling in areas prone to avalanches.\",\n",
    "    \"A police officer typically reports their work through the use of case reports or incident reports. These reports are written documents that detail the events of a specific case or incident that the officer has worked on. Case reports or incident reports typically include information such as the date and time of the incident, the location, the people involved, and the actions taken by the officer. They may also include witness statements, evidence collected, and any other relevant details. Case reports or incident reports are used by police officers to document their work and provide a record of the incidents they have dealt with. They are also used by supervisors and other authorities to review and evaluate the performance of the officer and the effectiveness of their actions.\",\n",
    "    \"Teachers play many roles in the lives of their students, including mentor, counselor, and role model. However, they get the most out of their job by simply teaching children. Teaching children is the primary responsibility of a teacher, and it is what they are trained and paid to do. Teaching involves imparting knowledge, skills, and values to students, and helping them to develop the skills and habits they need to succeed in life. Teachers have the opportunity to make a positive impact on the lives of their students by providing them with a strong foundation in academic subjects and helping them to become curious, engaged learners. Teachers often derive a great deal of satisfaction from helping their students to achieve their potential and succeed in their studies.\",\n",
    "    \"A person might go to get counseling for a variety of reasons. One reason is to better understand themselves. Counseling can provide a safe and supportive environment for individuals to explore their thoughts, feelings, and behaviors, and to gain insight into why they act and feel the way they do. Counseling can also help a person to identify and work through any underlying issues or challenges that may be causing them distress or hindering their personal growth. Through counseling, a person can learn more about themselves and how to navigate their emotions and relationships more effectively. Counseling can be particularly helpful for individuals who are struggling with mental health issues, relationship problems, or other personal challenges.\",\n",
    "    \"If the kids wanted to cool off, they might go swimming as a way to refresh and beat the heat. Swimming is a fun and enjoyable activity that can provide relief from hot weather and help to cool the body. Swimming can also provide a great workout and has numerous health benefits, such as improving cardiovascular fitness and flexibility. There are many different places where kids can go swimming, such as pools, lakes, rivers, or the ocean. No matter where they go, kids can have fun and cool off while enjoying the water.\",\n",
    "    \"When remembering a tragedy in the past, many people may feel depressed. Depression is a common emotional reaction to experiencing a traumatic or stressful event, such as a tragedy. Depression is a mental health disorder characterized by persistent feelings of sadness, hopelessness, and low energy. It can also cause physical symptoms such as changes in appetite and sleep patterns, fatigue, and difficulty concentrating. Remembering a tragedy can be emotionally difficult and may trigger feelings of sadness, grief, and guilt. It is important for people who are struggling with depression to seek support and treatment to help manage their symptoms and improve their mental health.\",\n",
    "    \"Death Valley is a national park located in the Mojave Desert, in the state of California, United States. It is situated on the North American continent. The North American continent is one of the seven continents of the world and is located in the western hemisphere. It is the third largest continent in terms of land area, after Asia and Africa, and is home to a diverse range of cultures, languages, and environments. Death Valley is known for its extreme desert climate and is the lowest, hottest, and driest place in North America. It is a popular destination for tourists, who come to see its unique geological features, such as sand dunes, salt flats, and canyons.\",\n",
    "    \"When in a serious relationship, understanding better requires effort. Relationships require effort and work to maintain and grow. In order to understand your partner better, you need to be willing to put in the time and effort to communicate with them, listen to their perspectives, and try to see things from their point of view. This may involve asking questions, expressing your own feelings and needs, and being open to feedback and compromise. Understanding your partner better can help to strengthen the bond between you and improve the quality of your relationship. It is important to remember that relationships are dynamic and evolving, and that ongoing communication and effort are necessary to maintain a healthy and fulfilling relationship.\",\n",
    "    \"Cats are able to make a variety of vocalizations, including meows, purrs, and growls, as a way of communicating with humans and other animals. Cats use these vocalizations to convey a range of emotions and needs, such as hunger, happiness, or discomfort. Meowing is a common vocalization that cats use to communicate with humans. Cats may meow when they want attention, food, or to be let outside. Cats may also meow when they are feeling anxious or stressed. Although cats cannot talk in the same way that humans do, they are skilled at using their voices to communicate with their owners and other animals.\",\n",
    "    \"If you need a vessel that is similar to a battleship but faster, you might consider using a corvette. A corvette is a small, fast warship that is typically used for convoy escort, patrol, and other shallow water duties. Corvettes are generally smaller and less heavily armed than battleships, but they are more agile and have a higher speed. They are typically equipped with a variety of weapons, including guns, missiles, and torpedoes, and are used for defending against enemy ships and aircraft. Corvettes are often used for coastal defense, as well as for patrolling and enforcing maritime laws. They are capable of operating in a variety of environments, including open ocean and littoral (nearshore) waters.\",\n",
    "    \"Water in the sky comes from rain clouds. Rain clouds are clouds that form when moist air rises and cools, forming tiny water droplets that condense around particles in the air. As the droplets grow, they eventually become heavy enough to fall from the cloud as rain. Rain clouds are typically gray or white in color and are often accompanied by other types of clouds, such as cumulus or stratocumulus clouds. Rain clouds can form in a variety of ways, such as when warm, moist air from the ground rises and cools, or when moist air from the ocean is carried inland by the wind. Rain clouds can be found in many parts of the world and are a common source of precipitation, especially during the warmer months.\",\n",
    "    \"If John rented a hotel room while on a business trip and it was a company-sponsored event, it is possible that the hotel was a resort. Resorts are hotels or vacation properties that offer a variety of amenities and activities for guests, such as swimming pools, golf courses, spas, and restaurants. They are often located in scenic or recreational areas and are designed to provide a relaxing and enjoyable experience for guests. Many resorts offer conference and meeting facilities and are popular destinations for business events and retreats. If John's company sponsored the business trip and provided the hotel accommodations, it is likely that they chose a resort with the amenities and facilities needed to support the event.\",\n",
    "    \"An expressway might leave the United States and go to Canada. The United States and Canada are neighboring countries that share a border, and there are several expressways that cross the border between the two countries. Expressways are high-speed, limited-access roads that are designed for fast and efficient travel. They typically have multiple lanes and may include features such as grade separations, interchanges, and controlled access points. Expressways are used for long-distance travel and are often the main routes connecting major cities and regions. If an expressway leaves the United States, it is likely that it is heading towards Canada, which is located to the north of the United States.\",\n",
    "    \"If you were walking on a sidewalk near a small corner shop run by John, you would look for it on the street corner. A corner shop is a small retail store that is typically located at the intersection of two streets. It is often a convenience store or a neighborhood shop that sells a variety of goods, such as groceries, household items, and other supplies. Corner shops are often located in busy urban areas, where they are easily accessible to pedestrians and motorists. If you were walking on a sidewalk near a corner shop, you would look for it at the intersection of the street where you are walking and another street. The shop is likely to be located in a building on the corner, with windows and doors facing the street.\",\n",
    "    \"One way that a company can efficiently sell things to their customers is through mail order. Mail order is a method of selling goods or services by advertising them in a catalog or other publication and allowing customers to place orders by mail, telephone, or online. Mail order is a convenient and efficient way for companies to reach a wide customer base, as it allows them to sell products to customers who may not be located near their physical store or who may not have the time or inclination to shop in person. Mail order companies typically have a centralized warehouse or distribution center where orders are processed and shipped to customers. They may also offer options such as easy returns and exchanges, as well as customer service support to assist with any questions or issues that customers may have.\",\n",
    "    \"If he enjoyed the factory work and liked the idea that he did it for sale, it is likely that he enjoyed producing goods. Factory work typically involves the production of goods, such as products or materials, using machines, tools, and other equipment. Factory workers are responsible for operating and maintaining the equipment and ensuring that the goods being produced meet quality standards. The goods produced in a factory may be sold directly to consumers or to other businesses, and may be used for a variety of purposes, such as manufacturing, construction, or distribution. If a person enjoys factory work, they may find satisfaction in the idea that they are contributing to the production of goods that will be sold and used by others.\",\n",
    "    \"If returning to work was easy for Dan after his treatment and he was completely painless, it is likely that he had undergone some form of medical treatment or therapy to address a health issue or injury. Painless indicates that Dan was no longer experiencing pain or discomfort, which may have been a result of the treatment or therapy he received. It is not clear from the information provided what specific health issue or injury Dan was dealing with, or what treatment or therapy he received. However, it is possible that Dan was able to return to work more easily after his treatment because he was feeling better and was no longer experiencing any pain or discomfort.\",\n",
    "    \"If index cards were on display at the museum, it is likely that the museum was a library. Libraries are institutions that provide access to a wide range of resources, including books, periodicals, and other printed materials, as well as digital resources such as e-books, databases, and online research tools. Libraries often have exhibits and displays of various types of materials, including rare or unique items, and may have special collections or archives that are of particular interest to researchers or historians. Index cards are small, rectangular pieces of paper that are used for organizing information, such as names, dates, or research notes. They may be used in a variety of settings, including libraries, offices, and schools. If index cards were on display at the museum, it is possible that they were part of a historical exhibit or collection related to the history of libraries or research.\",\n",
    "    \"If she was a human in America who wanted to live well, it is likely that the given for her situation was the need for money. In general, money is an important factor in enabling people to live well and meet their basic needs and desires. Money allows people to purchase the goods and services that they need to sustain themselves and their families, such as food, clothing, housing, and healthcare. It also enables people to pursue their interests and hobbies, travel, and engage in various forms of leisure and entertainment. In America, and in many other countries around the world, the cost of living can be high, and people often need to earn and save money in order to achieve a desired standard of living. As such, the need for money is a given for many people in order to live well.\",\n",
    "    \"A place that could have one back garden is a house. A garden is a piece of land that is used for growing plants, flowers, vegetables, or other types of vegetation. Gardens can be found in a variety of settings, including residential properties, public parks, and commercial properties. A house is a building that is used as a dwelling for one or more people, and it typically includes living spaces, such as bedrooms, bathrooms, and a kitchen, as well as outdoor areas, such as a front yard, side yard, and back yard. A back yard is a private outdoor space that is typically located behind a house and is often used for recreational or leisure activities, such as gardening, grilling, or playing games. If a house has a back garden, it is likely that the garden is located in the back yard.\",\n",
    "    \"People gather at a football stadium to see large men in pads play a game where they run and smash into each other. Football is a popular sport that is played on a rectangular field by two teams of eleven players. The game involves running, passing, and tackling, and players wear pads and other protective gear to reduce the risk of injury. Football is a physical and intense sport, and players often collide with each other at high speeds. Football stadiums are large, open-air facilities that are designed to host football games and other sporting events. They typically have a grass or artificial turf field, seating for spectators, and a variety of amenities, such as concessions stands, restrooms, and VIP areas. Football stadiums are popular places for people to gather and watch football games, and they can be found in cities and towns throughout the world.\",\n",
    "    \"One place where someone can get a flute is a musical instrument store. A musical instrument store is a retail establishment that specializes in selling musical instruments and related accessories. They may carry a wide range of instruments, including brass instruments, woodwind instruments, string instruments, percussion instruments, and keyboards. Flutes are woodwind instruments that are played by blowing air into a narrow opening and producing sound by vibrating the lips against a metal or wooden reed. They are popular instruments that are used in a variety of musical styles, including classical, jazz, and folk music. If someone is looking to purchase a flute, they may be able to find a selection of flutes at a musical instrument store. In addition to flutes, musical instrument stores may also offer a variety of other instruments, as well as sheet music, instructional materials, and accessories such as cases, stands, and cleaning supplies.\",\n",
    "    \"It is not clear what someone who has a greed for energy would do. The word greed typically refers to an excessive or insatiable desire for wealth, power, or material possessions. It is not clear how this concept would relate to energy or how it might influence someone's actions. It is possible that someone who has a lot of energy or who is very active might have a high appetite for food and might seek out sources of fuel or nutrition to sustain their energy levels. In this case, they might buy food as a way to obtain the energy they need. However, it is not accurate to say that someone who has a greed for energy would necessarily do this. It is important to note that the concept of greed is generally considered to be negative, as it suggests an unhealthy or unsustainable desire for something.\",\n",
    "    \"A forklift is a type of industrial vehicle that is used for moving and lifting heavy loads, such as pallets, crates, and boxes. Forklifts are equipped with a hydraulic lift mechanism and a set of prongs or forks that can be used to lift and transport loads. They are commonly used in warehouses and other distribution centers to move and stack materials, such as boxes, onto shelves or other storage areas. If you were using a forklift to stack boxes onto shelves, it is likely that you were in a warehouse or a similar facility. Warehouses are large, commercial buildings that are used for storing and distributing goods. They often have high ceilings, wide aisles, and multiple levels, and they may be equipped with a variety of material handling equipment, such as forklifts, conveyor belts, and cranes, to facilitate the movement and storage of goods.\",\n",
    "    \"You are likely to receive mouthwash in a little paper cup at a dentist's office. Dentist's offices are healthcare facilities that are staffed by dentists and other dental professionals, and they are used for the diagnosis and treatment of dental problems and the maintenance of oral health. One common practice at a dentist's office is to rinse the mouth with mouthwash, which is a liquid that is used to freshen breath, kill bacteria, and reduce the risk of gum disease and other oral health issues. Mouthwash is typically used after brushing and flossing to help remove any remaining food particles or plaque from the mouth. It may be dispensed in a little paper cup, which can be used to rinse the mouth and then disposed of after use.\",\n",
    "    \"A doctor's office can help you with an illness. A doctor's office is a healthcare facility that is staffed by medical doctors and other healthcare professionals, and it is used for the diagnosis and treatment of medical conditions and the maintenance of overall health. If you are experiencing an illness, such as a cold, flu, or more serious health issue, you may visit a doctor's office to seek medical care and treatment. At a doctor's office, you may receive a physical examination, diagnostic tests, and other forms of medical treatment, depending on the nature of your illness and your specific needs. Doctors are trained to diagnose and treat a wide range of medical conditions, and they can provide you with the care and support you need to recover from your illness and get back to good health.\",\n",
    "    \"A bug looking for wildflowers and no human interruption might go to a meadow. A meadow is a grassland area that is characterized by its open, grassy landscape and the presence of wildflowers and other types of vegetation. Meadows can be found in a variety of settings, including rural areas, forests, and parkland, and they are often home to a variety of animal and plant species. Because meadows are relatively undisturbed by human activity, they can be a good place for a bug to find wildflowers and other types of plants without interference from humans. Meadows are often considered to be peaceful, serene places, and they may be attractive to a bug that is seeking a quiet, natural environment in which to explore and forage.\",\n",
    "    \"If a bride and groom are taking care of proposals, the likely ceremony is a marriage. A marriage is a formal union between two people that is recognized by law and typically involves a public ceremony and the exchange of vows. A marriage proposal is a request for someone to marry another person, and it is typically made by one partner to the other. The process of planning a marriage often involves taking care of a variety of details and arrangements, such as choosing a venue, selecting a date, inviting guests, and organizing the ceremony and reception. If a bride and groom are taking care of proposals, it is likely that they are in the process of planning their marriage and preparing for the wedding ceremony.\",\n",
    "    \"You could put some olives in a jar to prevent them from getting nearby food wet. A jar is a container that is typically made of glass or ceramic and has a wide mouth and a secure, tight-fitting lid. Jars are often used for storing food items, such as olives, pickles, jams, and other types of preserved or dried goods. Because they have a sealed lid, jars can help to keep food fresh and prevent it from coming into contact with air or other substances that might spoil or contaminate it. If you want to prevent olives from getting nearby food wet, you could put them in a jar and close the lid to create an airtight seal. This would help to keep the olives separate from other foods and prevent them from coming into contact with moisture or other liquids.\",\n",
    "    \"If the graveyard was zoned by the pastor, it is likely that it was located on church property. Church property refers to land or buildings that are owned by a church or religious organization. This may include the main church building, as well as other structures such as a rectory, school, or community center. Church property may also include a graveyard or cemetery, which is a place where people are buried after they die. Pastors, who are ordained leaders in a church, often play a central role in the management and oversight of church property, and they may be responsible for zoning or designating areas within the property for specific purposes, such as a graveyard or a garden. If the pastor has zoned the graveyard, it is likely that it is located on church property and is being used as a place for burial by members of the church or community.\",\n",
    "    \"If a family wanted to live with carpeting, they may have ended up putting it in their houses. Houses are structures that are designed and built to be used as homes, and they typically have a number of rooms that are used for different purposes, such as sleeping, cooking, eating, and relaxing. Carpeting is a type of floor covering that is made of soft, flexible materials, such as wool, nylon, or polypropylene, and it is often used in houses to provide warmth, comfort, and insulation. If a family wanted to live with carpeting, they may have chosen to install carpeting in some or all of the rooms in their houses, in order to create a warm and cozy atmosphere and to improve the overall comfort and livability of their homes.\",\n",
    "    \"If a boss likes an employee's ambition, the employee may be put in charge of a project. A project is a specific task or set of tasks that is undertaken in order to achieve a specific goal or objective. Projects may be large or small, complex or simple, and they may involve a wide range of activities, such as research, design, development, testing, and implementation. If an employee is ambitious and demonstrates a strong desire to succeed and make a positive contribution to their organization, their boss may choose to put them in charge of a project, in order to give them the opportunity to demonstrate their skills and abilities and to take on more responsibility. Being put in charge of a project can be a challenging and rewarding experience, and it may provide an employee with the chance to learn new things, develop their skills, and make a meaningful contribution to their organization.\",\n",
    "    \"A county highway can be viewed as a line on a map. A map is a graphic representation of an area or region that shows the locations of various features, such as roads, rivers, mountains, and cities. Maps are often used to help people navigate and find their way around unfamiliar places, and they can be very useful for understanding the layout and geography of an area. County highways are roads that are maintained and operated by a county or local government, and they are typically used for local travel and transportation within a county or region. On a map, a county highway may be represented as a line, with a specific color or symbol used to indicate its location and route. By viewing a county highway as a line on a map, it is possible to get a sense of the route and layout of the road, and to use the map to plan a journey or navigate to a specific destination.\",\n",
    "    \"After going for a run, someone may feel tired. Running is a form of physical activity that involves moving quickly and continuously on foot, typically by running or jogging. It is a popular form of exercise that can help to improve cardiovascular fitness, build endurance, and strengthen the muscles of the legs and lower body. However, running can also be physically demanding, and it requires a certain level of fitness and stamina to be able to sustain the activity for an extended period of time. As a result, it is common for people to feel tired after going for a run, especially if they are not used to the activity or if they have pushed themselves to run for a longer distance or at a faster pace than usual. Tiredness after a run may be accompanied by other physical sensations, such as muscle fatigue, thirst, or a sense of accomplishment.\",\n",
    "    \"If a car was going from Florida to Ohio, it was heading north. Florida is a state in the southeastern region of the United States, and Ohio is a state in the midwestern region of the country. When traveling from Florida to Ohio, a person would need to go north in order to reach their destination. North is a direction that is opposite to south on a map or compass, and it is typically associated with higher latitude, colder climates, and longer nights. When traveling north, a person may encounter different landscapes, weather patterns, and cultural experiences than they would when traveling south, depending on the specific route and the distance traveled. By heading north from Florida to Ohio, a person would be leaving behind the warm, tropical climate of Florida and entering into a more temperate, mid-latitude region with cooler temperatures and a more diverse range of landscapes and ecosystems.\",\n",
    "    \"During a typical week, a teacher is likely to spend most of their time working in school. A teacher is a person who is trained and qualified to teach students in a school or educational setting, and their primary job is to provide instruction and guidance to help students learn and develop their skills and knowledge. Teachers may work in a variety of settings, including primary schools, secondary schools, and universities, and they may teach a wide range of subjects, including math, science, English, history, and the arts. In order to fulfill their duties as a teacher, a person is likely to spend most of their time working in a school or educational setting, where they will be responsible for preparing and delivering lessons, grading assignments, communicating with students and parents, and performing other tasks related to their job. Teachers typically work on a schedule that follows the school year, and they may work full-time or part-time, depending on their specific circumstances and the needs of their students.\",\n",
    "    \"In a predicament, an animal might choose to fight for its life as an alternative to fleeing. Predicament is a term that refers to a difficult or challenging situation, typically one that involves a choice or decision that needs to be made. When an animal finds itself in a predicament, it may have to decide how to respond in order to survive and protect itself. One option that an animal may have is to flee or run away from the situation in an effort to escape danger or avoid conflict. Another option that an animal may have is to fight for its life, using whatever means are available to defend itself and protect its survival. The choice that an animal makes in a predicament will depend on a variety of factors, including the specific nature of the situation, the animal's size, strength, and abilities, and the resources and options that are available to it.\",\n",
    "    \"It is not common for people to fight each other when they find a good deal. A good deal is typically defined as an opportunity to purchase something at a price that is lower than what it is usually worth, or to obtain a product or service that provides more value or benefits than what is expected. When people find a good deal, they may feel excited or pleased about the opportunity to save money or get more for their money, and they may take action to take advantage of the deal. However, it is generally not considered acceptable or appropriate for people to fight each other over a good deal or to engage in physical violence or aggression in order to obtain it. There are many other ways that people can express their interest in a good deal, such as by negotiating with the seller, making an offer, or simply making a purchase if the price is acceptable.\",\n",
    "    \"An altar is a platform or structure that is used for religious ceremonies, rituals, or worship. Altars are often found in places of worship, such as temples, churches, synagogues, mosques, and other religious buildings. When a person is standing in front of an altar, they are likely to be in a temple or other place of worship. Altars can be used for a variety of purposes in different religions and spiritual traditions, such as offering sacrifices, making offerings, praying, or performing other religious practices. They may be decorated with symbols, images, or other items that are significant to the religion or spiritual tradition that is being practiced. Altars may also be used as a place for people to meditate, reflect, or seek spiritual guidance.\",\n",
    "    \"Joe bought a bunch of grapes because he likes to use them to top his desserts. A dessert is a type of food that is typically served at the end of a meal, and it is usually sweet or rich in flavor. There are many different types of desserts that people enjoy, including cakes, cookies, ice cream, pie, and other sweet treats. One way that people may use grapes as a topping for their desserts is by placing them on top of a fruit pie, tart, or crisp. Grapes can add flavor and texture to a dessert, and they may also be used to decorate a dessert or to add visual appeal. Grapes are a versatile fruit that can be used in many different types of desserts, and they can be eaten fresh, frozen, or preserved in various ways.\",\n",
    "    \"Well water is water that is obtained from underground sources, typically through the use of a well. A well is a hole or shaft that is dug into the ground in order to access water that is contained in underground aquifers or other water-bearing formations. Well water is typically used for drinking, irrigation, and other purposes, and it is often considered to be of high quality because it is filtered and purified naturally as it flows through the ground. To obtain well water, a person can dig a well or have one dug by a professional well driller. The depth of the well will depend on the location and the geology of the area, and a pump or other mechanical system may be used to bring the water to the surface.\",\n",
    "]"
   ]
  },
  {
   "cell_type": "code",
   "execution_count": 17,
   "id": "013e06f0",
   "metadata": {},
   "outputs": [],
   "source": [
    "import glob\n",
    "import json\n",
    "import pdb\n",
    "chatgpt_50_100_rationales_dir = \"./chatgpt_rationales/150_200_text003\"\n",
    "file_list = glob.glob(\"{}/*.json\".format(chatgpt_50_100_rationales_dir))\n",
    "chatgpt_rationales_dict = {}\n",
    "for file in file_list:\n",
    "    with open(file, 'r') as f:\n",
    "        da = json.load(f)\n",
    "        #print(da.keys())\n",
    "        chatgpt_rationales_dict[da['id']] = da['150_to_200_words']\n",
    "        #pdb.set_trace()"
   ]
  },
  {
   "cell_type": "code",
   "execution_count": 18,
   "id": "d9681ea9",
   "metadata": {},
   "outputs": [],
   "source": [
    "def list2dict(refine_data):\n",
    "    refine_data_dict={}\n",
    "    for key in refine_data[0].keys():\n",
    "        refine_data_dict[key]=[x[key] for x in refine_data]\n",
    "    return refine_data_dict\n",
    "\n",
    "select_refine_train_data = []\n",
    "for da in refine_train_data:\n",
    "    #pdb.set_trace()\n",
    "    if da['id'] in chatgpt_rationales_dict.keys():\n",
    "        da['our_explanation'] = chatgpt_rationales_dict[da['id']]\n",
    "        select_refine_train_data.append(da) \n",
    "        \n",
    "select_refine_train_data_dict = list2dict(select_refine_train_data)\n",
    "our_data_splits['train'] = datasets.Dataset.from_dict(select_refine_train_data_dict).shuffle().select(range(48))\n",
    "\n",
    "refine_dev_data_dict = list2dict(refine_dev_data)\n",
    "our_data_splits['dev'] = datasets.Dataset.from_dict(refine_dev_data_dict)\n",
    "\n",
    "refine_test_data_dict = list2dict(refine_test_data)\n",
    "our_data_splits['test'] = datasets.Dataset.from_dict(refine_test_data_dict)\n",
    "\n"
   ]
  },
  {
   "cell_type": "code",
   "execution_count": 19,
   "id": "53ab0e1a",
   "metadata": {},
   "outputs": [],
   "source": [
    "import datasets\n",
    "class SequenceCollator:\n",
    "    def __init__(self, pad_token):\n",
    "        # self.pad_token_mapping = {\n",
    "        #     \"lm_labels\": -100,\n",
    "        #     \"attention_mask\": 0,\n",
    "        #     \"decoder_attention_mask\": 0,\n",
    "        #     \"input_ids\": pad_token,\n",
    "        # }\n",
    "        # self.columns = [\n",
    "        #     \"input_ids\",\n",
    "        #     \"attention_mask\",\n",
    "        #     \"lm_labels\",\n",
    "        #     \"decoder_attention_mask\",\n",
    "        # ]\n",
    "        self.pad_token_mapping = {\n",
    "            \"labels\": -100,\n",
    "            \"attention_mask\": 0,\n",
    "            \"decoder_attention_mask\": 0,\n",
    "            \"input_ids\": pad_token,\n",
    "        }\n",
    "        self.columns = [\n",
    "            \"input_ids\",\n",
    "            \"attention_mask\",\n",
    "            \"labels\",\n",
    "            \"decoder_attention_mask\",\n",
    "        ]\n",
    "\n",
    "    def collate_batch(self, examples):\n",
    "\n",
    "        # batch inputs for training\n",
    "        batch = {}\n",
    "        for key in examples[0].keys():\n",
    "            if key in self.columns:\n",
    "                tmp_list = []\n",
    "                for item in examples:\n",
    "                    tmp_list.append(item[key])\n",
    "\n",
    "                # pad lists to max length\n",
    "                if isinstance(tmp_list[0], list):\n",
    "                    max_length = max(map(len, tmp_list))\n",
    "                    tmp_list = [\n",
    "                        el + [self.pad_token_mapping[key]] * (max_length - len(el))\n",
    "                        for el in tmp_list\n",
    "                    ]\n",
    "\n",
    "                batch[key] = torch.tensor(tmp_list, dtype=torch.long)\n",
    "        return batch\n",
    "    \n",
    "    def __call__(self, examples: List[Dict[str, InputDataClass]]) -> Dict[str, torch.Tensor]:\n",
    "        # re-format inputs for training\n",
    "        batch = {}\n",
    "        for key in examples[0].keys():\n",
    "            if key in self.columns:\n",
    "                tmp_list = []\n",
    "                for item in examples:\n",
    "                    tmp_list.append(item[key])\n",
    "\n",
    "                # pad lists to max length\n",
    "                if isinstance(tmp_list[0], list):\n",
    "                    max_length = max(map(len, tmp_list))\n",
    "                    tmp_list = [\n",
    "                        el + [self.pad_token_mapping[key]] * (max_length - len(el))\n",
    "                        for el in tmp_list\n",
    "                    ]\n",
    "\n",
    "                batch[key] = torch.tensor(tmp_list, dtype=torch.long)\n",
    "        return batch\n",
    "# dataset = datasets.load_dataset(data_args.task_name, data_args.version_name)"
   ]
  },
  {
   "cell_type": "code",
   "execution_count": 20,
   "id": "219866fe",
   "metadata": {},
   "outputs": [
    {
     "data": {
      "application/json": {
       "ascii": false,
       "bar_format": null,
       "colour": null,
       "elapsed": 0.012520551681518555,
       "initial": 0,
       "n": 0,
       "ncols": null,
       "nrows": 60,
       "postfix": null,
       "prefix": "",
       "rate": null,
       "total": 48,
       "unit": "ex",
       "unit_divisor": 1000,
       "unit_scale": false
      },
      "application/vnd.jupyter.widget-view+json": {
       "model_id": "5e6a1b1d4f5746d29bab6a0dbef0395c",
       "version_major": 2,
       "version_minor": 0
      },
      "text/plain": [
       "  0%|          | 0/48 [00:00<?, ?ex/s]"
      ]
     },
     "metadata": {},
     "output_type": "display_data"
    },
    {
     "data": {
      "application/json": {
       "ascii": false,
       "bar_format": null,
       "colour": null,
       "elapsed": 0.012156486511230469,
       "initial": 0,
       "n": 0,
       "ncols": null,
       "nrows": 60,
       "postfix": null,
       "prefix": "",
       "rate": null,
       "total": 986,
       "unit": "ex",
       "unit_divisor": 1000,
       "unit_scale": false
      },
      "application/vnd.jupyter.widget-view+json": {
       "model_id": "b740130eca8c4979b22237ad7b52135f",
       "version_major": 2,
       "version_minor": 0
      },
      "text/plain": [
       "  0%|          | 0/986 [00:00<?, ?ex/s]"
      ]
     },
     "metadata": {},
     "output_type": "display_data"
    },
    {
     "data": {
      "application/json": {
       "ascii": false,
       "bar_format": null,
       "colour": null,
       "elapsed": 0.012236595153808594,
       "initial": 0,
       "n": 0,
       "ncols": null,
       "nrows": 60,
       "postfix": null,
       "prefix": "",
       "rate": null,
       "total": 255,
       "unit": "ex",
       "unit_divisor": 1000,
       "unit_scale": false
      },
      "application/vnd.jupyter.widget-view+json": {
       "model_id": "1232cfef13fb46389f0455ed04b30c21",
       "version_major": 2,
       "version_minor": 0
      },
      "text/plain": [
       "  0%|          | 0/255 [00:00<?, ?ex/s]"
      ]
     },
     "metadata": {},
     "output_type": "display_data"
    }
   ],
   "source": [
    "# seq_collector = SequenceCollator(0)\n",
    "# train_ds = seq_collector.__call__(dataset['train'])\n",
    "# train_ds\n",
    "# dataset['train'][0].keys()\n",
    "for split in ['train','dev','test']:\n",
    "    our_data_splits[split] = our_data_splits[split].map(\n",
    "            lambda x: format_instance(\n",
    "                x,\n",
    "                tokenizer,\n",
    "                data_args.explanation_sep,\n",
    "                datasource=data_args.task_name,\n",
    "                io_format=data_args.io_format\n",
    "            ),\n",
    "            batched=False,\n",
    "            load_from_cache_file=False,\n",
    "        )"
   ]
  },
  {
   "cell_type": "code",
   "execution_count": null,
   "id": "0c120e04",
   "metadata": {},
   "outputs": [],
   "source": []
  },
  {
   "cell_type": "code",
   "execution_count": 21,
   "id": "81048fad",
   "metadata": {},
   "outputs": [],
   "source": [
    "chatGPT_rationales = [\n",
    "    \"A cup is a common vessel used for holding and drinking liquids, such as water, coffee, or tea. When you want to get yourself a drink, you might typically get a cup from a cabinet or other storage area in order to hold the drink. A cup is a convenient and practical choice for getting a drink because it is easy to hold and use, and it can hold a reasonable amount of liquid. There are many different types of cups available, including ceramic, glass, plastic, and metal cups, each with their own unique features and benefits. Whether you are at home, at work, or out in public, a cup is a handy item to have on hand when you need to quench your thirst.\",\n",
    "    \"A front yard is the lawn that is typically located in front of a house, near the street. The front yard is the part of the property that is visible from the street and is often used for decorative purposes, such as landscaping or gardening. Many people take pride in their front yards and may spend time and resources maintaining and improving them. The front yard is often the first thing that visitors see when they arrive at a house, and it can make a strong impression on them. In contrast, the back yard is typically located behind the house and is often used for more practical purposes, such as outdoor recreation or gardening.\",\n",
    "    \"A swimming pool is a recreational water feature that is typically used for swimming and other aquatic activities. While shallow water, such as that found in a kiddie pool or a shallow end of a pool, can be enjoyable for some people, it may not be sufficient for many summer activities. A swimming pool that is deep enough for diving and other activities is more likely to provide more opportunities for summer fun. In addition, a swimming pool that is clean and chlorinated is more likely to be safe and enjoyable for swimming, as it will be free of contaminants and bacteria that can cause illness.\",\n",
    "    \"In most places, it is illegal for people under the age of 21 to purchase or consume alcohol. This is because alcohol can have negative effects on the developing brain and body of young people. It can also contribute to risky behaviors and accidents. Therefore, many governments have set a minimum age for alcohol consumption and purchase to help protect the health and safety of young people. If someone is under the age of 21 and attempts to purchase alcohol, they may be denied the sale or face legal consequences. It is important for young people to understand and adhere to the laws and regulations regarding the purchase and consumption of alcohol in their area.\",\n",
    "    \"When someone shaves, they typically use a razor to remove hair from their face or body. The process of shaving can leave a lot of hair in the sink, as the hair is trimmed off and falls into the sink as it is being shaved. It is common for people to shave in the bathroom, where a sink is typically located. The sink provides a convenient place to rinse the razor and wash off any excess hair or shaving cream. It is important to clean the sink after shaving to remove any hair and prevent clogs in the drain.\",\n",
    "    \"A hamburger is a type of sandwich that consists of a cooked patty of ground meat, typically beef, placed between two slices of bread or a bun. Hamburgers are often served with various toppings, such as lettuce, tomato, onion, cheese, and condiments like ketchup and mustard. However, if someone is suffering from great hunger, they may not care about the toppings and just want to eat the hamburger itself. In this case, the person may be more focused on satisfying their hunger and getting nourishment rather than worrying about additional ingredients or flavors.\",\n",
    "    \"If a person notices popcorn and cotton candy on the grass, they are likely at fairgrounds. Fairgrounds are outdoor areas that are used for hosting fairs and other events, such as carnivals, festivals, and exhibitions. These events often feature food stalls and vendors that sell a variety of treats, including popcorn and cotton candy. Popcorn and cotton candy are both popular carnival foods that are often sold at fairs and other events. The presence of these foods on the ground at fairgrounds suggests that a fair or similar event is taking place there.\",\n",
    "    \"When snow on a mountain becomes heavy, it can trigger an avalanche. An avalanche is a rapid flow of snow down a slope, often triggered by the weight of the snow or external factors such as a change in temperature. Avalanches can be dangerous and destructive, as they can bury and sweep away anything in their path, including people, buildings, and vehicles. Avalanches can occur on any slope with a steep enough incline and a sufficient amount of snow. They are most common on mountains, but they can also occur in other snowy areas, such as forests or valleys. It is important for people to be aware of the risk of avalanches and to take precautions when traveling in areas prone to avalanches.\",\n",
    "    \"A police officer typically reports their work through the use of case reports or incident reports. These reports are written documents that detail the events of a specific case or incident that the officer has worked on. Case reports or incident reports typically include information such as the date and time of the incident, the location, the people involved, and the actions taken by the officer. They may also include witness statements, evidence collected, and any other relevant details. Case reports or incident reports are used by police officers to document their work and provide a record of the incidents they have dealt with. They are also used by supervisors and other authorities to review and evaluate the performance of the officer and the effectiveness of their actions.\",\n",
    "    \"Teachers play many roles in the lives of their students, including mentor, counselor, and role model. However, they get the most out of their job by simply teaching children. Teaching children is the primary responsibility of a teacher, and it is what they are trained and paid to do. Teaching involves imparting knowledge, skills, and values to students, and helping them to develop the skills and habits they need to succeed in life. Teachers have the opportunity to make a positive impact on the lives of their students by providing them with a strong foundation in academic subjects and helping them to become curious, engaged learners. Teachers often derive a great deal of satisfaction from helping their students to achieve their potential and succeed in their studies.\",\n",
    "    \"A person might go to get counseling for a variety of reasons. One reason is to better understand themselves. Counseling can provide a safe and supportive environment for individuals to explore their thoughts, feelings, and behaviors, and to gain insight into why they act and feel the way they do. Counseling can also help a person to identify and work through any underlying issues or challenges that may be causing them distress or hindering their personal growth. Through counseling, a person can learn more about themselves and how to navigate their emotions and relationships more effectively. Counseling can be particularly helpful for individuals who are struggling with mental health issues, relationship problems, or other personal challenges.\",\n",
    "    \"If the kids wanted to cool off, they might go swimming as a way to refresh and beat the heat. Swimming is a fun and enjoyable activity that can provide relief from hot weather and help to cool the body. Swimming can also provide a great workout and has numerous health benefits, such as improving cardiovascular fitness and flexibility. There are many different places where kids can go swimming, such as pools, lakes, rivers, or the ocean. No matter where they go, kids can have fun and cool off while enjoying the water.\",\n",
    "    \"When remembering a tragedy in the past, many people may feel depressed. Depression is a common emotional reaction to experiencing a traumatic or stressful event, such as a tragedy. Depression is a mental health disorder characterized by persistent feelings of sadness, hopelessness, and low energy. It can also cause physical symptoms such as changes in appetite and sleep patterns, fatigue, and difficulty concentrating. Remembering a tragedy can be emotionally difficult and may trigger feelings of sadness, grief, and guilt. It is important for people who are struggling with depression to seek support and treatment to help manage their symptoms and improve their mental health.\",\n",
    "    \"Death Valley is a national park located in the Mojave Desert, in the state of California, United States. It is situated on the North American continent. The North American continent is one of the seven continents of the world and is located in the western hemisphere. It is the third largest continent in terms of land area, after Asia and Africa, and is home to a diverse range of cultures, languages, and environments. Death Valley is known for its extreme desert climate and is the lowest, hottest, and driest place in North America. It is a popular destination for tourists, who come to see its unique geological features, such as sand dunes, salt flats, and canyons.\",\n",
    "    \"When in a serious relationship, understanding better requires effort. Relationships require effort and work to maintain and grow. In order to understand your partner better, you need to be willing to put in the time and effort to communicate with them, listen to their perspectives, and try to see things from their point of view. This may involve asking questions, expressing your own feelings and needs, and being open to feedback and compromise. Understanding your partner better can help to strengthen the bond between you and improve the quality of your relationship. It is important to remember that relationships are dynamic and evolving, and that ongoing communication and effort are necessary to maintain a healthy and fulfilling relationship.\",\n",
    "    \"Cats are able to make a variety of vocalizations, including meows, purrs, and growls, as a way of communicating with humans and other animals. Cats use these vocalizations to convey a range of emotions and needs, such as hunger, happiness, or discomfort. Meowing is a common vocalization that cats use to communicate with humans. Cats may meow when they want attention, food, or to be let outside. Cats may also meow when they are feeling anxious or stressed. Although cats cannot talk in the same way that humans do, they are skilled at using their voices to communicate with their owners and other animals.\",\n",
    "    \"If you need a vessel that is similar to a battleship but faster, you might consider using a corvette. A corvette is a small, fast warship that is typically used for convoy escort, patrol, and other shallow water duties. Corvettes are generally smaller and less heavily armed than battleships, but they are more agile and have a higher speed. They are typically equipped with a variety of weapons, including guns, missiles, and torpedoes, and are used for defending against enemy ships and aircraft. Corvettes are often used for coastal defense, as well as for patrolling and enforcing maritime laws. They are capable of operating in a variety of environments, including open ocean and littoral (nearshore) waters.\",\n",
    "    \"Water in the sky comes from rain clouds. Rain clouds are clouds that form when moist air rises and cools, forming tiny water droplets that condense around particles in the air. As the droplets grow, they eventually become heavy enough to fall from the cloud as rain. Rain clouds are typically gray or white in color and are often accompanied by other types of clouds, such as cumulus or stratocumulus clouds. Rain clouds can form in a variety of ways, such as when warm, moist air from the ground rises and cools, or when moist air from the ocean is carried inland by the wind. Rain clouds can be found in many parts of the world and are a common source of precipitation, especially during the warmer months.\",\n",
    "    \"If John rented a hotel room while on a business trip and it was a company-sponsored event, it is possible that the hotel was a resort. Resorts are hotels or vacation properties that offer a variety of amenities and activities for guests, such as swimming pools, golf courses, spas, and restaurants. They are often located in scenic or recreational areas and are designed to provide a relaxing and enjoyable experience for guests. Many resorts offer conference and meeting facilities and are popular destinations for business events and retreats. If John's company sponsored the business trip and provided the hotel accommodations, it is likely that they chose a resort with the amenities and facilities needed to support the event.\",\n",
    "    \"An expressway might leave the United States and go to Canada. The United States and Canada are neighboring countries that share a border, and there are several expressways that cross the border between the two countries. Expressways are high-speed, limited-access roads that are designed for fast and efficient travel. They typically have multiple lanes and may include features such as grade separations, interchanges, and controlled access points. Expressways are used for long-distance travel and are often the main routes connecting major cities and regions. If an expressway leaves the United States, it is likely that it is heading towards Canada, which is located to the north of the United States.\",\n",
    "    \"If you were walking on a sidewalk near a small corner shop run by John, you would look for it on the street corner. A corner shop is a small retail store that is typically located at the intersection of two streets. It is often a convenience store or a neighborhood shop that sells a variety of goods, such as groceries, household items, and other supplies. Corner shops are often located in busy urban areas, where they are easily accessible to pedestrians and motorists. If you were walking on a sidewalk near a corner shop, you would look for it at the intersection of the street where you are walking and another street. The shop is likely to be located in a building on the corner, with windows and doors facing the street.\",\n",
    "    \"One way that a company can efficiently sell things to their customers is through mail order. Mail order is a method of selling goods or services by advertising them in a catalog or other publication and allowing customers to place orders by mail, telephone, or online. Mail order is a convenient and efficient way for companies to reach a wide customer base, as it allows them to sell products to customers who may not be located near their physical store or who may not have the time or inclination to shop in person. Mail order companies typically have a centralized warehouse or distribution center where orders are processed and shipped to customers. They may also offer options such as easy returns and exchanges, as well as customer service support to assist with any questions or issues that customers may have.\",\n",
    "    \"If he enjoyed the factory work and liked the idea that he did it for sale, it is likely that he enjoyed producing goods. Factory work typically involves the production of goods, such as products or materials, using machines, tools, and other equipment. Factory workers are responsible for operating and maintaining the equipment and ensuring that the goods being produced meet quality standards. The goods produced in a factory may be sold directly to consumers or to other businesses, and may be used for a variety of purposes, such as manufacturing, construction, or distribution. If a person enjoys factory work, they may find satisfaction in the idea that they are contributing to the production of goods that will be sold and used by others.\",\n",
    "    \"If returning to work was easy for Dan after his treatment and he was completely painless, it is likely that he had undergone some form of medical treatment or therapy to address a health issue or injury. Painless indicates that Dan was no longer experiencing pain or discomfort, which may have been a result of the treatment or therapy he received. It is not clear from the information provided what specific health issue or injury Dan was dealing with, or what treatment or therapy he received. However, it is possible that Dan was able to return to work more easily after his treatment because he was feeling better and was no longer experiencing any pain or discomfort.\",\n",
    "    \"If index cards were on display at the museum, it is likely that the museum was a library. Libraries are institutions that provide access to a wide range of resources, including books, periodicals, and other printed materials, as well as digital resources such as e-books, databases, and online research tools. Libraries often have exhibits and displays of various types of materials, including rare or unique items, and may have special collections or archives that are of particular interest to researchers or historians. Index cards are small, rectangular pieces of paper that are used for organizing information, such as names, dates, or research notes. They may be used in a variety of settings, including libraries, offices, and schools. If index cards were on display at the museum, it is possible that they were part of a historical exhibit or collection related to the history of libraries or research.\",\n",
    "    \"If she was a human in America who wanted to live well, it is likely that the given for her situation was the need for money. In general, money is an important factor in enabling people to live well and meet their basic needs and desires. Money allows people to purchase the goods and services that they need to sustain themselves and their families, such as food, clothing, housing, and healthcare. It also enables people to pursue their interests and hobbies, travel, and engage in various forms of leisure and entertainment. In America, and in many other countries around the world, the cost of living can be high, and people often need to earn and save money in order to achieve a desired standard of living. As such, the need for money is a given for many people in order to live well.\",\n",
    "    \"A place that could have one back garden is a house. A garden is a piece of land that is used for growing plants, flowers, vegetables, or other types of vegetation. Gardens can be found in a variety of settings, including residential properties, public parks, and commercial properties. A house is a building that is used as a dwelling for one or more people, and it typically includes living spaces, such as bedrooms, bathrooms, and a kitchen, as well as outdoor areas, such as a front yard, side yard, and back yard. A back yard is a private outdoor space that is typically located behind a house and is often used for recreational or leisure activities, such as gardening, grilling, or playing games. If a house has a back garden, it is likely that the garden is located in the back yard.\",\n",
    "    \"People gather at a football stadium to see large men in pads play a game where they run and smash into each other. Football is a popular sport that is played on a rectangular field by two teams of eleven players. The game involves running, passing, and tackling, and players wear pads and other protective gear to reduce the risk of injury. Football is a physical and intense sport, and players often collide with each other at high speeds. Football stadiums are large, open-air facilities that are designed to host football games and other sporting events. They typically have a grass or artificial turf field, seating for spectators, and a variety of amenities, such as concessions stands, restrooms, and VIP areas. Football stadiums are popular places for people to gather and watch football games, and they can be found in cities and towns throughout the world.\",\n",
    "    \"One place where someone can get a flute is a musical instrument store. A musical instrument store is a retail establishment that specializes in selling musical instruments and related accessories. They may carry a wide range of instruments, including brass instruments, woodwind instruments, string instruments, percussion instruments, and keyboards. Flutes are woodwind instruments that are played by blowing air into a narrow opening and producing sound by vibrating the lips against a metal or wooden reed. They are popular instruments that are used in a variety of musical styles, including classical, jazz, and folk music. If someone is looking to purchase a flute, they may be able to find a selection of flutes at a musical instrument store. In addition to flutes, musical instrument stores may also offer a variety of other instruments, as well as sheet music, instructional materials, and accessories such as cases, stands, and cleaning supplies.\",\n",
    "    \"It is not clear what someone who has a greed for energy would do. The word greed typically refers to an excessive or insatiable desire for wealth, power, or material possessions. It is not clear how this concept would relate to energy or how it might influence someone's actions. It is possible that someone who has a lot of energy or who is very active might have a high appetite for food and might seek out sources of fuel or nutrition to sustain their energy levels. In this case, they might buy food as a way to obtain the energy they need. However, it is not accurate to say that someone who has a greed for energy would necessarily do this. It is important to note that the concept of greed is generally considered to be negative, as it suggests an unhealthy or unsustainable desire for something.\",\n",
    "    \"A forklift is a type of industrial vehicle that is used for moving and lifting heavy loads, such as pallets, crates, and boxes. Forklifts are equipped with a hydraulic lift mechanism and a set of prongs or forks that can be used to lift and transport loads. They are commonly used in warehouses and other distribution centers to move and stack materials, such as boxes, onto shelves or other storage areas. If you were using a forklift to stack boxes onto shelves, it is likely that you were in a warehouse or a similar facility. Warehouses are large, commercial buildings that are used for storing and distributing goods. They often have high ceilings, wide aisles, and multiple levels, and they may be equipped with a variety of material handling equipment, such as forklifts, conveyor belts, and cranes, to facilitate the movement and storage of goods.\",\n",
    "    \"You are likely to receive mouthwash in a little paper cup at a dentist's office. Dentist's offices are healthcare facilities that are staffed by dentists and other dental professionals, and they are used for the diagnosis and treatment of dental problems and the maintenance of oral health. One common practice at a dentist's office is to rinse the mouth with mouthwash, which is a liquid that is used to freshen breath, kill bacteria, and reduce the risk of gum disease and other oral health issues. Mouthwash is typically used after brushing and flossing to help remove any remaining food particles or plaque from the mouth. It may be dispensed in a little paper cup, which can be used to rinse the mouth and then disposed of after use.\",\n",
    "    \"A doctor's office can help you with an illness. A doctor's office is a healthcare facility that is staffed by medical doctors and other healthcare professionals, and it is used for the diagnosis and treatment of medical conditions and the maintenance of overall health. If you are experiencing an illness, such as a cold, flu, or more serious health issue, you may visit a doctor's office to seek medical care and treatment. At a doctor's office, you may receive a physical examination, diagnostic tests, and other forms of medical treatment, depending on the nature of your illness and your specific needs. Doctors are trained to diagnose and treat a wide range of medical conditions, and they can provide you with the care and support you need to recover from your illness and get back to good health.\",\n",
    "    \"A bug looking for wildflowers and no human interruption might go to a meadow. A meadow is a grassland area that is characterized by its open, grassy landscape and the presence of wildflowers and other types of vegetation. Meadows can be found in a variety of settings, including rural areas, forests, and parkland, and they are often home to a variety of animal and plant species. Because meadows are relatively undisturbed by human activity, they can be a good place for a bug to find wildflowers and other types of plants without interference from humans. Meadows are often considered to be peaceful, serene places, and they may be attractive to a bug that is seeking a quiet, natural environment in which to explore and forage.\",\n",
    "    \"If a bride and groom are taking care of proposals, the likely ceremony is a marriage. A marriage is a formal union between two people that is recognized by law and typically involves a public ceremony and the exchange of vows. A marriage proposal is a request for someone to marry another person, and it is typically made by one partner to the other. The process of planning a marriage often involves taking care of a variety of details and arrangements, such as choosing a venue, selecting a date, inviting guests, and organizing the ceremony and reception. If a bride and groom are taking care of proposals, it is likely that they are in the process of planning their marriage and preparing for the wedding ceremony.\",\n",
    "    \"You could put some olives in a jar to prevent them from getting nearby food wet. A jar is a container that is typically made of glass or ceramic and has a wide mouth and a secure, tight-fitting lid. Jars are often used for storing food items, such as olives, pickles, jams, and other types of preserved or dried goods. Because they have a sealed lid, jars can help to keep food fresh and prevent it from coming into contact with air or other substances that might spoil or contaminate it. If you want to prevent olives from getting nearby food wet, you could put them in a jar and close the lid to create an airtight seal. This would help to keep the olives separate from other foods and prevent them from coming into contact with moisture or other liquids.\",\n",
    "    \"If the graveyard was zoned by the pastor, it is likely that it was located on church property. Church property refers to land or buildings that are owned by a church or religious organization. This may include the main church building, as well as other structures such as a rectory, school, or community center. Church property may also include a graveyard or cemetery, which is a place where people are buried after they die. Pastors, who are ordained leaders in a church, often play a central role in the management and oversight of church property, and they may be responsible for zoning or designating areas within the property for specific purposes, such as a graveyard or a garden. If the pastor has zoned the graveyard, it is likely that it is located on church property and is being used as a place for burial by members of the church or community.\",\n",
    "    \"If a family wanted to live with carpeting, they may have ended up putting it in their houses. Houses are structures that are designed and built to be used as homes, and they typically have a number of rooms that are used for different purposes, such as sleeping, cooking, eating, and relaxing. Carpeting is a type of floor covering that is made of soft, flexible materials, such as wool, nylon, or polypropylene, and it is often used in houses to provide warmth, comfort, and insulation. If a family wanted to live with carpeting, they may have chosen to install carpeting in some or all of the rooms in their houses, in order to create a warm and cozy atmosphere and to improve the overall comfort and livability of their homes.\",\n",
    "    \"If a boss likes an employee's ambition, the employee may be put in charge of a project. A project is a specific task or set of tasks that is undertaken in order to achieve a specific goal or objective. Projects may be large or small, complex or simple, and they may involve a wide range of activities, such as research, design, development, testing, and implementation. If an employee is ambitious and demonstrates a strong desire to succeed and make a positive contribution to their organization, their boss may choose to put them in charge of a project, in order to give them the opportunity to demonstrate their skills and abilities and to take on more responsibility. Being put in charge of a project can be a challenging and rewarding experience, and it may provide an employee with the chance to learn new things, develop their skills, and make a meaningful contribution to their organization.\",\n",
    "    \"A county highway can be viewed as a line on a map. A map is a graphic representation of an area or region that shows the locations of various features, such as roads, rivers, mountains, and cities. Maps are often used to help people navigate and find their way around unfamiliar places, and they can be very useful for understanding the layout and geography of an area. County highways are roads that are maintained and operated by a county or local government, and they are typically used for local travel and transportation within a county or region. On a map, a county highway may be represented as a line, with a specific color or symbol used to indicate its location and route. By viewing a county highway as a line on a map, it is possible to get a sense of the route and layout of the road, and to use the map to plan a journey or navigate to a specific destination.\",\n",
    "    \"After going for a run, someone may feel tired. Running is a form of physical activity that involves moving quickly and continuously on foot, typically by running or jogging. It is a popular form of exercise that can help to improve cardiovascular fitness, build endurance, and strengthen the muscles of the legs and lower body. However, running can also be physically demanding, and it requires a certain level of fitness and stamina to be able to sustain the activity for an extended period of time. As a result, it is common for people to feel tired after going for a run, especially if they are not used to the activity or if they have pushed themselves to run for a longer distance or at a faster pace than usual. Tiredness after a run may be accompanied by other physical sensations, such as muscle fatigue, thirst, or a sense of accomplishment.\",\n",
    "    \"If a car was going from Florida to Ohio, it was heading north. Florida is a state in the southeastern region of the United States, and Ohio is a state in the midwestern region of the country. When traveling from Florida to Ohio, a person would need to go north in order to reach their destination. North is a direction that is opposite to south on a map or compass, and it is typically associated with higher latitude, colder climates, and longer nights. When traveling north, a person may encounter different landscapes, weather patterns, and cultural experiences than they would when traveling south, depending on the specific route and the distance traveled. By heading north from Florida to Ohio, a person would be leaving behind the warm, tropical climate of Florida and entering into a more temperate, mid-latitude region with cooler temperatures and a more diverse range of landscapes and ecosystems.\",\n",
    "    \"During a typical week, a teacher is likely to spend most of their time working in school. A teacher is a person who is trained and qualified to teach students in a school or educational setting, and their primary job is to provide instruction and guidance to help students learn and develop their skills and knowledge. Teachers may work in a variety of settings, including primary schools, secondary schools, and universities, and they may teach a wide range of subjects, including math, science, English, history, and the arts. In order to fulfill their duties as a teacher, a person is likely to spend most of their time working in a school or educational setting, where they will be responsible for preparing and delivering lessons, grading assignments, communicating with students and parents, and performing other tasks related to their job. Teachers typically work on a schedule that follows the school year, and they may work full-time or part-time, depending on their specific circumstances and the needs of their students.\",\n",
    "    \"In a predicament, an animal might choose to fight for its life as an alternative to fleeing. Predicament is a term that refers to a difficult or challenging situation, typically one that involves a choice or decision that needs to be made. When an animal finds itself in a predicament, it may have to decide how to respond in order to survive and protect itself. One option that an animal may have is to flee or run away from the situation in an effort to escape danger or avoid conflict. Another option that an animal may have is to fight for its life, using whatever means are available to defend itself and protect its survival. The choice that an animal makes in a predicament will depend on a variety of factors, including the specific nature of the situation, the animal's size, strength, and abilities, and the resources and options that are available to it.\",\n",
    "    \"It is not common for people to fight each other when they find a good deal. A good deal is typically defined as an opportunity to purchase something at a price that is lower than what it is usually worth, or to obtain a product or service that provides more value or benefits than what is expected. When people find a good deal, they may feel excited or pleased about the opportunity to save money or get more for their money, and they may take action to take advantage of the deal. However, it is generally not considered acceptable or appropriate for people to fight each other over a good deal or to engage in physical violence or aggression in order to obtain it. There are many other ways that people can express their interest in a good deal, such as by negotiating with the seller, making an offer, or simply making a purchase if the price is acceptable.\",\n",
    "    \"An altar is a platform or structure that is used for religious ceremonies, rituals, or worship. Altars are often found in places of worship, such as temples, churches, synagogues, mosques, and other religious buildings. When a person is standing in front of an altar, they are likely to be in a temple or other place of worship. Altars can be used for a variety of purposes in different religions and spiritual traditions, such as offering sacrifices, making offerings, praying, or performing other religious practices. They may be decorated with symbols, images, or other items that are significant to the religion or spiritual tradition that is being practiced. Altars may also be used as a place for people to meditate, reflect, or seek spiritual guidance.\",\n",
    "    \"Joe bought a bunch of grapes because he likes to use them to top his desserts. A dessert is a type of food that is typically served at the end of a meal, and it is usually sweet or rich in flavor. There are many different types of desserts that people enjoy, including cakes, cookies, ice cream, pie, and other sweet treats. One way that people may use grapes as a topping for their desserts is by placing them on top of a fruit pie, tart, or crisp. Grapes can add flavor and texture to a dessert, and they may also be used to decorate a dessert or to add visual appeal. Grapes are a versatile fruit that can be used in many different types of desserts, and they can be eaten fresh, frozen, or preserved in various ways.\",\n",
    "    \"Well water is water that is obtained from underground sources, typically through the use of a well. A well is a hole or shaft that is dug into the ground in order to access water that is contained in underground aquifers or other water-bearing formations. Well water is typically used for drinking, irrigation, and other purposes, and it is often considered to be of high quality because it is filtered and purified naturally as it flows through the ground. To obtain well water, a person can dig a well or have one dug by a professional well driller. The depth of the well will depend on the location and the geology of the area, and a pump or other mechanical system may be used to bring the water to the surface.\",\n",
    "]"
   ]
  },
  {
   "cell_type": "code",
   "execution_count": null,
   "id": "69fa8109",
   "metadata": {},
   "outputs": [],
   "source": []
  },
  {
   "cell_type": "code",
   "execution_count": 22,
   "id": "01fdee8d",
   "metadata": {},
   "outputs": [],
   "source": [
    "id_list = [\n",
    " '71519c19654251cced50c5718fd527c1',\n",
    " '44195d210c81c8c550174d0edbd3ad5d',\n",
    " '5a5da37b685ec9c6f15228128ce30437',\n",
    " 'cabdfc174953b4bdb8bdcc89d6592c74',\n",
    " 'eac3a4080127e8924034651b57dfa289',\n",
    " 'c0013f31657294b9b5ad819123513ca7',\n",
    " '2681697be70cd5425899ed6deb84b18a',\n",
    " '47f60340b869552e795fa6782224f3d2',\n",
    " '7e8a6eac93147eb52d8151bab7b40003',\n",
    " 'f34267f498c8a78383e35057fbcfa2ce',\n",
    " 'f024f923d78e5c0a4c0c4baa3ddccf05',\n",
    " 'e148c710d0c26849cf1f15293481038b',\n",
    " 'bdf437d7498815f36c255f64a8e6571c',\n",
    " '2282e0c80be28aadadb79a822fec9dac',\n",
    " 'bdd05e96876342b4b5999709439a7f4e',\n",
    " '494b8316614fc64c5c27757aeaffce23_1',\n",
    " 'c4494b402264250dc70931613d482295',\n",
    " 'fcfbf207c5586294fdce33b645b613f1',\n",
    " '9c583bcbe68989a644433302545fb31e',\n",
    " '0e684d779d98e6eecda167c10af42bbb',\n",
    " 'ac0462d09b9fddd40c3c77aedf48a870',\n",
    " '1dbfb41e04a10bdbb085bfe667c0df99',\n",
    " 'cd0c0ef3b8ce0eb09ff26823f6059be6',\n",
    " 'e6b67184b99375d05d3f2887f684c684',\n",
    " 'ae9f6f1e17b3fdd3a86b494933809f45',\n",
    " 'f149604169936a30b7e4c8d599d604b5',\n",
    " 'd7c8377953e0175ef57d59f3a8e63a8e',\n",
    " '1837216ac7745121b82a6491b2318c09',\n",
    " 'b5fe238d45e55ca5d802b7823ad390ef',\n",
    " 'b2fbeb0b48bd5e575af0f7dc24cdd85d',\n",
    " '9bdfb101c487ac598f6e4686cf774703',\n",
    " '206c7116ee2246180fcc0c5a1d0e7205',\n",
    " '5cd7f44bbf730dfae5ef2a362d2e5149',\n",
    " '45d0ea781ffd49b07d6eae94d47a8945',\n",
    " '89afdea1d76272fda8e1538a7d3b7a3f',\n",
    " '38a514fe54108527e1d6e89d9812da93',\n",
    " 'ebf347934a3e90ea46d3d87726fb5d25',\n",
    " '90226a6ecd7308ae1e6220a15ae24bc6',\n",
    " '5cae8057e75e3adf5c338a43b3ba97fb',\n",
    " '388a363c49e1b0aca8eaf18ccdde0caf',\n",
    " '9ed3af82152dfcd7000bf4631b095f71',\n",
    " '2d5805d894bba224c5fe91e70b8c0f77',\n",
    " 'd5aa464a16b72c9b9f3091abd461e3ef',\n",
    " '381b11c54be4cc432a95053ca34cbf6b',\n",
    " '807a3a2dabdd50ed0c76052fd2612632',\n",
    " '5172041c750d22e9a5081cc024de0fa6',\n",
    " 'd32a45ab3b751110d0578a78e54c0e64',\n",
    " '28ca5cbe27774746c34f6ebe84fc6d0c']"
   ]
  },
  {
   "cell_type": "code",
   "execution_count": null,
   "id": "51445c67",
   "metadata": {},
   "outputs": [],
   "source": []
  },
  {
   "cell_type": "code",
   "execution_count": 23,
   "id": "dabe3306",
   "metadata": {},
   "outputs": [],
   "source": [
    "# our_wrong_data_splits['dev']=[]\n",
    "# for x in our_data_splits['dev']:\n",
    "#     for ii in range(5):\n",
    "#         new_x={'id':x['id'], 'real_answer':x['answer'], \n",
    "#                'answer':x['choices'][ii], 'question':x['question'],\n",
    "#                'choices':x['choices'],\n",
    "#                'abstractive_explanation':x['abstractive_explanation'],\n",
    "#                'extractive_explanation':x['extractive_explanation'],\n",
    "#                'our_explanation':x['our_explanation']}\n",
    "#         our_wrong_data_splits['dev'].append(new_x)\n",
    "#     #print(x)\n",
    "#     #pdb.set_trace()\n",
    "# # wandb.init()\n",
    "# our_wrong_dev_data_dict = list2dict(our_wrong_data_splits['dev'])\n",
    "# our_wrong_data_splits['dev'] = datasets.Dataset.from_dict(our_wrong_dev_data_dict)"
   ]
  },
  {
   "cell_type": "code",
   "execution_count": 24,
   "id": "7b62bdf5",
   "metadata": {},
   "outputs": [],
   "source": [
    "# our_wrong_data_splits['train'][0],our_wrong_data_splits['train'][0].keys()\n",
    "# our_wrong_data_splits['train'] = our_wrong_data_splits['train'].map(\n",
    "#             lambda x: format_instance(\n",
    "#                 x,\n",
    "#                 tokenizer,\n",
    "#                 data_args.explanation_sep,\n",
    "#                 datasource=data_args.task_name,\n",
    "#                 io_format=data_args.io_format\n",
    "#             ),\n",
    "#             batched=False,\n",
    "#             load_from_cache_file=False,\n",
    "#         )"
   ]
  },
  {
   "cell_type": "code",
   "execution_count": 25,
   "id": "b421f892",
   "metadata": {},
   "outputs": [],
   "source": [
    "# for da in our_wrong_data_splits['dev']:\n",
    "#     print(\"*******\")\n",
    "#     print(\"question: {}\".format(da['question']))\n",
    "#     print(\"real_answer: {}\".format(da['real_answer']))\n",
    "#     print(\"answer: {}\".format(da['answer']))\n",
    "#     print(\"choices: {}\".format(da['choices']))\n",
    "#     print(\"our_explanation: {}\".format(da['our_explanation']))\n",
    "#     inp_ids = torch.tensor(da[\"input_ids\"], device=model.device).reshape(1, -1)\n",
    "#     out = model.generate(\n",
    "#                     inp_ids,\n",
    "#                     max_length=100,\n",
    "#                     pad_token_id=tokenizer.pad_token_id,\n",
    "#                     eos_token_id=tokenizer.eos_token_id,\n",
    "#                 )\n",
    "#     skip_special_tokens = False if \"infilling\" in data_args.io_format else True\n",
    "#     words = tokenizer.decode(out[0].tolist(), skip_special_tokens=skip_special_tokens)\n",
    "#     print(\"generated explanation: {}\".format(words))\n",
    "#     print(\"#######\")"
   ]
  },
  {
   "cell_type": "code",
   "execution_count": 26,
   "id": "dfa34701",
   "metadata": {},
   "outputs": [],
   "source": [
    "# our_wrong_data_splits['train'][0],our_wrong_data_splits['train'][0].keys()\n",
    "# our_wrong_data_splits['dev'] = our_wrong_data_splits['dev'].map(\n",
    "#             lambda x: format_instance(\n",
    "#                 x,\n",
    "#                 tokenizer,\n",
    "#                 data_args.explanation_sep,\n",
    "#                 datasource=data_args.task_name,\n",
    "#                 io_format=data_args.io_format\n",
    "#             ),\n",
    "#             batched=False,\n",
    "#             load_from_cache_file=False,\n",
    "#         )"
   ]
  },
  {
   "cell_type": "code",
   "execution_count": 27,
   "id": "2e6d6437",
   "metadata": {},
   "outputs": [],
   "source": [
    "# for da in our_wrong_data_splits['dev']:\n",
    "#     print(\"*******\")\n",
    "#     print(\"question: {}\".format(da['question']))\n",
    "#     print(\"real_answer: {}\".format(da['real_answer']))\n",
    "#     print(\"answer: {}\".format(da['answer']))\n",
    "#     print(\"choices: {}\".format(da['choices']))\n",
    "#     print(\"our_explanation: {}\".format(da['our_explanation']))\n",
    "#     inp_ids = torch.tensor(da[\"input_ids\"], device=model.device).reshape(1, -1)\n",
    "#     out = model.generate(\n",
    "#                     inp_ids,\n",
    "#                     max_length=100,\n",
    "#                     pad_token_id=tokenizer.pad_token_id,\n",
    "#                     eos_token_id=tokenizer.eos_token_id,\n",
    "#                 )\n",
    "#     skip_special_tokens = False if \"infilling\" in data_args.io_format else True\n",
    "#     words = tokenizer.decode(out[0].tolist(), skip_special_tokens=skip_special_tokens)\n",
    "#     print(\"generated explanation: {}\".format(words))\n",
    "#     print(\"#######\")"
   ]
  },
  {
   "cell_type": "code",
   "execution_count": 28,
   "id": "91605cfc",
   "metadata": {},
   "outputs": [],
   "source": [
    "# for da in our_wrong_data_splits['train']:\n",
    "#     print(\"*******\")\n",
    "#     print(\"question: {}\".format(da['question']))\n",
    "#     print(\"real_answer: {}\".format(da['real_answer']))\n",
    "#     print(\"answer: {}\".format(da['answer']))\n",
    "#     print(\"choices: {}\".format(da['choices']))\n",
    "#     print(\"our_explanation: {}\".format(da['our_explanation']))\n",
    "#     inp_ids = torch.tensor(da[\"input_ids\"], device=model.device).reshape(1, -1)\n",
    "#     out = model.generate(\n",
    "#                     inp_ids,\n",
    "#                     max_length=100,\n",
    "#                     pad_token_id=tokenizer.pad_token_id,\n",
    "#                     eos_token_id=tokenizer.eos_token_id,\n",
    "#                 )\n",
    "#     skip_special_tokens = False if \"infilling\" in data_args.io_format else True\n",
    "#     words = tokenizer.decode(out[0].tolist(), skip_special_tokens=skip_special_tokens)\n",
    "#     print(\"generated explanation: {}\".format(words))\n",
    "#     print(\"#######\")"
   ]
  },
  {
   "cell_type": "code",
   "execution_count": 29,
   "id": "cbc3e763",
   "metadata": {},
   "outputs": [],
   "source": [
    "# import wandb\n",
    "# training_args.run_name=\"\"\n",
    "training_args.logging_steps=3\n",
    "training_args.save_steps=5\n",
    "training_args.evaluation_strategy=\"epoch\"\n",
    "training_args.num_train_epochs=25\n",
    "training_args.do_eval=True"
   ]
  },
  {
   "cell_type": "code",
   "execution_count": 30,
   "id": "317de5d7",
   "metadata": {},
   "outputs": [
    {
     "data": {
      "text/plain": [
       "TrainingArguments(\n",
       "_n_gpu=1,\n",
       "adafactor=False,\n",
       "adam_beta1=0.9,\n",
       "adam_beta2=0.999,\n",
       "adam_epsilon=1e-08,\n",
       "dataloader_drop_last=False,\n",
       "dataloader_num_workers=0,\n",
       "dataloader_pin_memory=True,\n",
       "ddp_find_unused_parameters=None,\n",
       "debug=[],\n",
       "deepspeed=None,\n",
       "disable_tqdm=False,\n",
       "do_eval=True,\n",
       "do_predict=False,\n",
       "do_train=True,\n",
       "eval_accumulation_steps=None,\n",
       "eval_steps=None,\n",
       "evaluation_strategy=epoch,\n",
       "fp16=False,\n",
       "fp16_backend=auto,\n",
       "fp16_full_eval=False,\n",
       "fp16_opt_level=O1,\n",
       "gradient_accumulation_steps=1,\n",
       "greater_is_better=None,\n",
       "group_by_length=False,\n",
       "ignore_data_skip=False,\n",
       "label_names=None,\n",
       "label_smoothing_factor=0.0,\n",
       "learning_rate=5e-05,\n",
       "length_column_name=length,\n",
       "load_best_model_at_end=False,\n",
       "local_rank=-1,\n",
       "log_level=-1,\n",
       "log_level_replica=-1,\n",
       "log_on_each_node=True,\n",
       "logging_dir=./cos_e_output_t5_large/011323_085029,\n",
       "logging_first_step=False,\n",
       "logging_steps=3,\n",
       "logging_strategy=IntervalStrategy.STEPS,\n",
       "lr_scheduler_type=SchedulerType.LINEAR,\n",
       "max_grad_norm=1.0,\n",
       "max_steps=-1,\n",
       "metric_for_best_model=None,\n",
       "mp_parameters=,\n",
       "no_cuda=False,\n",
       "num_train_epochs=25,\n",
       "output_dir=./cos_e_output_t5_large/011323_085029,\n",
       "overwrite_output_dir=False,\n",
       "past_index=-1,\n",
       "per_device_eval_batch_size=8,\n",
       "per_device_train_batch_size=8,\n",
       "prediction_loss_only=False,\n",
       "push_to_hub=False,\n",
       "push_to_hub_model_id=cos_e_output_t5_large,\n",
       "push_to_hub_organization=None,\n",
       "push_to_hub_token=None,\n",
       "remove_unused_columns=True,\n",
       "report_to=['tensorboard', 'wandb'],\n",
       "resume_from_checkpoint=None,\n",
       "run_name=./cos_e_output_t5_large,\n",
       "save_on_each_node=False,\n",
       "save_steps=5,\n",
       "save_strategy=IntervalStrategy.STEPS,\n",
       "save_total_limit=None,\n",
       "seed=42,\n",
       "sharded_ddp=[],\n",
       "skip_memory_metrics=True,\n",
       "tpu_metrics_debug=False,\n",
       "tpu_num_cores=None,\n",
       "use_legacy_prediction_loop=False,\n",
       "warmup_ratio=0.0,\n",
       "warmup_steps=0,\n",
       "weight_decay=0.0,\n",
       ")"
      ]
     },
     "execution_count": 30,
     "metadata": {},
     "output_type": "execute_result"
    }
   ],
   "source": [
    "training_args"
   ]
  },
  {
   "cell_type": "code",
   "execution_count": 31,
   "id": "de79fb60",
   "metadata": {},
   "outputs": [
    {
     "data": {
      "text/plain": [
       "TrainingArguments(\n",
       "_n_gpu=1,\n",
       "adafactor=False,\n",
       "adam_beta1=0.9,\n",
       "adam_beta2=0.999,\n",
       "adam_epsilon=1e-08,\n",
       "dataloader_drop_last=False,\n",
       "dataloader_num_workers=0,\n",
       "dataloader_pin_memory=True,\n",
       "ddp_find_unused_parameters=None,\n",
       "debug=[],\n",
       "deepspeed=None,\n",
       "disable_tqdm=False,\n",
       "do_eval=True,\n",
       "do_predict=False,\n",
       "do_train=True,\n",
       "eval_accumulation_steps=None,\n",
       "eval_steps=None,\n",
       "evaluation_strategy=epoch,\n",
       "fp16=False,\n",
       "fp16_backend=auto,\n",
       "fp16_full_eval=False,\n",
       "fp16_opt_level=O1,\n",
       "gradient_accumulation_steps=1,\n",
       "greater_is_better=None,\n",
       "group_by_length=False,\n",
       "ignore_data_skip=False,\n",
       "label_names=None,\n",
       "label_smoothing_factor=0.0,\n",
       "learning_rate=5e-05,\n",
       "length_column_name=length,\n",
       "load_best_model_at_end=False,\n",
       "local_rank=-1,\n",
       "log_level=-1,\n",
       "log_level_replica=-1,\n",
       "log_on_each_node=True,\n",
       "logging_dir=./cos_e_output_t5_large/011323_085029,\n",
       "logging_first_step=False,\n",
       "logging_steps=3,\n",
       "logging_strategy=IntervalStrategy.STEPS,\n",
       "lr_scheduler_type=SchedulerType.LINEAR,\n",
       "max_grad_norm=1.0,\n",
       "max_steps=-1,\n",
       "metric_for_best_model=None,\n",
       "mp_parameters=,\n",
       "no_cuda=False,\n",
       "num_train_epochs=25,\n",
       "output_dir=./cos_e_output_t5_large/011323_085029,\n",
       "overwrite_output_dir=False,\n",
       "past_index=-1,\n",
       "per_device_eval_batch_size=8,\n",
       "per_device_train_batch_size=8,\n",
       "prediction_loss_only=False,\n",
       "push_to_hub=False,\n",
       "push_to_hub_model_id=cos_e_output_t5_large,\n",
       "push_to_hub_organization=None,\n",
       "push_to_hub_token=None,\n",
       "remove_unused_columns=True,\n",
       "report_to=['tensorboard', 'wandb'],\n",
       "resume_from_checkpoint=None,\n",
       "run_name=./cos_e_output_t5_large,\n",
       "save_on_each_node=False,\n",
       "save_steps=5,\n",
       "save_strategy=IntervalStrategy.STEPS,\n",
       "save_total_limit=None,\n",
       "seed=42,\n",
       "sharded_ddp=[],\n",
       "skip_memory_metrics=True,\n",
       "tpu_metrics_debug=False,\n",
       "tpu_num_cores=None,\n",
       "use_legacy_prediction_loop=False,\n",
       "warmup_ratio=0.0,\n",
       "warmup_steps=0,\n",
       "weight_decay=0.0,\n",
       ")"
      ]
     },
     "execution_count": 31,
     "metadata": {},
     "output_type": "execute_result"
    }
   ],
   "source": [
    "training_args.per_device_eval_batch_size=8\n",
    "training_args.per_device_train_batch_size=8\n",
    "training_args"
   ]
  },
  {
   "cell_type": "code",
   "execution_count": 32,
   "id": "e80480ec",
   "metadata": {},
   "outputs": [],
   "source": [
    "# data_splits = {'train': None, 'validation': None, 'test': None}\n",
    "# original_data_splits = {'train': None, 'validation': None, 'test': None}  \n",
    "# data_args.io_format=\"t5_fewshot_infilling_with_choices\"\n",
    "# # Data loading from huggingface's datasets\n",
    "# if data_args.task_name in {\"cos_e\", \"esnli\"}:\n",
    "#     version_arg = None\n",
    "#     if data_args.task_name == \"cos_e\":\n",
    "#         assert data_args.version_name in {\"v1.11\", \"v1.0\"}\n",
    "#         version_arg = data_args.version_name\n",
    "\n",
    "#     load_train = True\n",
    "#     if (not training_args.do_train\n",
    "#         and not training_args.do_eval\n",
    "#         and not data_args.train_predict\n",
    "#     ):\n",
    "#         # don't load training dataset\n",
    "#         dataset = {}\n",
    "#         dataset[\"train\"] = None\n",
    "#         dataset[\"validation\"] = datasets.load_dataset(\n",
    "#             data_args.task_name, version_arg, split=\"validation\"\n",
    "#         )\n",
    "#         data_splits['validation'] = dataset[\"validation\"]\n",
    "\n",
    "#         if data_args.task_name == \"esnli\":\n",
    "#             dataset[\"test\"] = datasets.load_dataset(data_args.task_name, split=\"test\")\n",
    "#             data_splits['test'] = dataset[\"test\"]\n",
    "#         load_train = False\n",
    "#     else:\n",
    "#         dataset = datasets.load_dataset(data_args.task_name, version_arg)\n",
    "\n",
    "#         if data_args.n_shots > 0: # Shots = number of training examples **per label** \n",
    "#             if data_args.task_name == 'esnli': # Construct a *balanced* random sample of the size `data_args.n_shots*len(labels)` (for train) or `data_args.fewshot_eval_size` (for eval)\n",
    "#                 for split in [\"train\", \"validation\", \"test\"]:\n",
    "#                     split_data = dataset[split]\n",
    "#                     label_subsets = []\n",
    "#                     labels = split_data.features['label'].names\n",
    "#                     sample_size = data_args.n_shots if split == \"train\" else int(data_args.fewshot_eval_size/len(labels))\n",
    "#                     if data_args.gpt3_max_eval_size is not None and split != 'train':\n",
    "#                         assert len(labels) == 3\n",
    "#                         sample_size = data_args.gpt3_max_eval_size // len(labels)\n",
    "#                     for label in labels:\n",
    "#                         # The following is a hack to only run on `neutral` labels of `esnli` to get data for human eval\n",
    "#                         # if data_args.gpt3_max_eval_size is not None and split != 'train' and label != 'neutral':\n",
    "#                         #     continue\n",
    "#                         label_int = split_data.features['label'].str2int(label)\n",
    "#                         label_set = split_data.filter(lambda example: example['label'] == label_int).shuffle() # all instances of labeled as `label`\n",
    "#                         label_subset = label_set.select(range(sample_size)) #select `sample_size` random instances labeled as `label`\n",
    "#                         label_subsets.append(label_subset)\n",
    "#                     dataset[split] = datasets.concatenate_datasets(label_subsets) #merge all label-specific instances\n",
    "#             elif data_args.task_name == 'cos_e': \n",
    "#                 for split in [\"train\", \"validation\"]: \n",
    "#                     split_data = dataset[split]\n",
    "#                     sample_size = data_args.n_shots if split == \"train\" else int(data_args.fewshot_eval_size) #Shots for QA are not label-specific, i.e., `n_shots` is the training data size\n",
    "#                     if data_args.gpt3_max_eval_size is not None and split != 'train':\n",
    "#                         sample_size = data_args.gpt3_max_eval_size\n",
    "#                     dataset[split] = split_data#.shuffle().select(range(sample_size)) # select `sample_size` random instances\n",
    "#             else: \n",
    "#                 raise ValueError('Only cos_e and esnli are supported by Huggingface datasets.')\n",
    "#     # Apply method, and format dataset to torch.Tensor outputs\n",
    "# #     fse_csqa_train_file=\"/cognitive_comp/huangyongfeng/evaluate_LM_with_rationalization/few_shot_explanations/data/acceptability_annotations/commonsenseqa_train.csv\"\n",
    "# #     fse_csqa_dev_file=\"/cognitive_comp/huangyongfeng/evaluate_LM_with_rationalization/few_shot_explanations/data/acceptability_annotations/commonsenseqa_test.csv\"\n",
    "# #     fse_csqa_train_dataset = datasets.load_dataset('csv', data_files=fse_csqa_train_file)\n",
    "# #     fse_csqa_dev_dataset = datasets.load_dataset('csv', data_files=fse_csqa_dev_file)\n",
    "# #     train_ids_list=[x['id'] for x in data_splits[\"train\"]]\n",
    "# #     dev_ids_list=[x['id'] for x in data_splits[\"validation\"]]\n",
    "# #     fse_train_ids_list=[x['Input.id'] for x in fse_csqa_train_dataset['train']]\n",
    "# #     fse_dev_ids_list=[x['Input.id'] for x in fse_csqa_dev_dataset['train']]\n",
    "# #     fse_train_indexs_list=[train_ids_list.index(id_) for id_ in fse_train_ids_list]\n",
    "# #     fse_dev_indexs_list=[dev_ids_list.index(id_) for id_ in fse_dev_ids_list]\n",
    "# #     print(len(fse_train_indexs_list), len(fse_dev_indexs_list))\n",
    "# #     # print(fse_train_indexs_list,fse_dev_indexs_list)\n",
    "# #     fse_data_splits={}\n",
    "# #     data_splits['train']=data_splits[\"train\"].select(fse_train_indexs_list)\n",
    "# #     data_splits['validation']=data_splits[\"validation\"].select(fse_train_indexs_list)\n",
    "#     for split in dataset.keys():\n",
    "#         if dataset[split] is not None:\n",
    "#             dataset[split] = dataset[split].map(\n",
    "#                 lambda x: format_instance(\n",
    "#                     x,\n",
    "#                     tokenizer,\n",
    "#                     data_args.explanation_sep,\n",
    "#                     datasource=data_args.task_name,\n",
    "#                     io_format=data_args.io_format\n",
    "#                 ),\n",
    "#                 batched=False,\n",
    "#                 load_from_cache_file=False,\n",
    "#             )\n",
    "#     data_splits[\"train\"] = deepcopy(dataset[\"train\"])\n",
    "#     data_splits[\"validation\"] = deepcopy(dataset[\"validation\"])\n",
    "#     if data_args.task_name == \"esnli\":\n",
    "#         data_splits[\"test\"] = deepcopy(dataset[\"test\"])\n",
    "\n",
    "#     original_data_splits[\"train\"] = deepcopy(dataset[\"train\"])\n",
    "#     original_data_splits[\"validation\"] = deepcopy(dataset[\"validation\"])\n",
    "#     if data_args.task_name == \"esnli\":\n",
    "#         original_data_splits[\"test\"] = deepcopy(dataset[\"test\"])"
   ]
  },
  {
   "cell_type": "code",
   "execution_count": 33,
   "id": "2f4cb867",
   "metadata": {},
   "outputs": [],
   "source": [
    "# import pandas as pd\n",
    "# # new_data_splits={'train': None, 'validation': None}\n",
    "# # new_data_splits['train']=deepcopy(dataset[\"train\"])\n",
    "# # new_data_splits['validation']=deepcopy(dataset[\"validation\"])\n",
    "# fse_csqa_train_file=\"/cognitive_comp/huangyongfeng/evaluate_LM_with_rationalization/few_shot_explanations/data/acceptability_annotations/commonsenseqa_train.csv\"\n",
    "# fse_csqa_dev_file=\"/cognitive_comp/huangyongfeng/evaluate_LM_with_rationalization/few_shot_explanations/data/acceptability_annotations/commonsenseqa_test.csv\"\n",
    "# # fse_csqa_train_dataset = datasets.load_dataset('csv', data_files=fse_csqa_train_file)\n",
    "# # fse_csqa_dev_dataset = datasets.load_dataset('csv', data_files=fse_csqa_dev_file)\n",
    "\n",
    "# train_df=pd.read_csv(fse_csqa_train_file)\n",
    "\n",
    "# dev_df=pd.read_csv(fse_csqa_dev_file)\n",
    "\n",
    "# dev_df\n"
   ]
  },
  {
   "cell_type": "code",
   "execution_count": 34,
   "id": "42739e9b",
   "metadata": {},
   "outputs": [],
   "source": [
    "# len(fse_train_ids_list),len(list(set(fse_train_ids_list)))"
   ]
  },
  {
   "cell_type": "code",
   "execution_count": 35,
   "id": "c78ea825",
   "metadata": {},
   "outputs": [],
   "source": [
    "# train_ids_list=[x['id'] for x in data_splits[\"train\"]]\n",
    "# dev_ids_list=[x['id'] for x in data_splits[\"validation\"]]\n",
    "# fse_train_ids_list=[x['Input.id'] for x in fse_csqa_train_dataset['train']]\n",
    "# fse_dev_ids_list=[x['Input.id'] for x in fse_csqa_dev_dataset['train']]\n"
   ]
  },
  {
   "cell_type": "code",
   "execution_count": 36,
   "id": "80395518",
   "metadata": {},
   "outputs": [],
   "source": [
    "# fse_train_indexs_list=[train_ids_list.index(id_) for id_ in fse_train_ids_list]\n",
    "# fse_dev_indexs_list=[dev_ids_list.index(id_) for id_ in fse_dev_ids_list]\n",
    "# print(len(fse_train_indexs_list), len(fse_dev_indexs_list))\n",
    "# # print(fse_train_indexs_list,fse_dev_indexs_list)\n",
    "# fse_data_splits={}\n",
    "# fse_data_splits['train']=data_splits[\"train\"].select(fse_train_indexs_list)\n",
    "# fse_data_splits['validation']=data_splits[\"validation\"].select(fse_train_indexs_list)"
   ]
  },
  {
   "cell_type": "code",
   "execution_count": 37,
   "id": "4d186954",
   "metadata": {},
   "outputs": [],
   "source": [
    "# fse_csqa_train_dataset['train'][0].keys()"
   ]
  },
  {
   "cell_type": "code",
   "execution_count": 38,
   "id": "66dd71d4",
   "metadata": {},
   "outputs": [],
   "source": [
    "class SequenceCollator:\n",
    "    def __init__(self, model, pad_token):\n",
    "        self.model = model\n",
    "        self.pad_token_mapping = {\n",
    "            \"labels\": -100,\n",
    "            \"attention_mask\": 0,\n",
    "            \"decoder_attention_mask\": 0,\n",
    "            \"input_ids\": pad_token,\n",
    "        }\n",
    "\n",
    "        self.columns = [\n",
    "            \"input_ids\",\n",
    "            \"attention_mask\",\n",
    "            \"labels\",\n",
    "            \"decoder_attention_mask\",\n",
    "        ]\n",
    "\n",
    "    def __call__(self, examples: List[Dict[str, InputDataClass]]) -> Dict[str, torch.Tensor]:\n",
    "        # re-format inputs for training\n",
    "        batch = {}\n",
    "        for key in examples[0].keys():\n",
    "            if key in self.columns:\n",
    "                tmp_list = []\n",
    "                for item in examples:\n",
    "                    tmp_list.append(item[key])\n",
    "\n",
    "                # pad lists to max length\n",
    "                if isinstance(tmp_list[0], list):\n",
    "                    max_length = max(map(len, tmp_list))\n",
    "                    tmp_list = [\n",
    "                        el + [self.pad_token_mapping[key]] * (max_length - len(el))\n",
    "                        for el in tmp_list\n",
    "                    ]\n",
    "\n",
    "                batch[key] = torch.tensor(tmp_list, dtype=torch.long)\n",
    "        return batch"
   ]
  },
  {
   "cell_type": "code",
   "execution_count": 39,
   "id": "f144515d",
   "metadata": {},
   "outputs": [
    {
     "name": "stderr",
     "output_type": "stream",
     "text": [
      "You are adding a <class 'transformers.integrations.TensorBoardCallback'> to the callbacks of this Trainer, but there is already one. The currentlist of callbacks is\n",
      ":DefaultFlowCallback\n",
      "TensorBoardCallback\n",
      "WandbCallback\n",
      "The following columns in the training set  don't have a corresponding argument in `T5ForConditionalGeneration.forward` and have been ignored: abstractive_explanation, our_explanation, answer, id, extractive_explanation, question, choices, question_encoding.\n",
      "***** Running training *****\n",
      "  Num examples = 48\n",
      "  Num Epochs = 25\n",
      "  Instantaneous batch size per device = 8\n",
      "  Total train batch size (w. parallel, distributed & accumulation) = 8\n",
      "  Gradient Accumulation steps = 1\n",
      "  Total optimization steps = 150\n",
      "Automatic Weights & Biases logging enabled, to disable set os.environ[\"WANDB_DISABLED\"] = \"true\"\n"
     ]
    },
    {
     "data": {
      "text/html": [
       "Changes to your `wandb` environment variables will be ignored because your `wandb` session has already started. For more information on how to modify your settings with `wandb.init()` arguments, please refer to <a href=\"https://wandb.me/wandb-init\" target=\"_blank\">the W&B docs</a>."
      ],
      "text/plain": [
       "<IPython.core.display.HTML object>"
      ]
     },
     "metadata": {},
     "output_type": "display_data"
    },
    {
     "data": {
      "text/html": [
       "wandb version 0.13.9 is available!  To upgrade, please run:\n",
       " $ pip install wandb --upgrade"
      ],
      "text/plain": [
       "<IPython.core.display.HTML object>"
      ]
     },
     "metadata": {},
     "output_type": "display_data"
    },
    {
     "data": {
      "text/html": [
       "Tracking run with wandb version 0.13.5"
      ],
      "text/plain": [
       "<IPython.core.display.HTML object>"
      ]
     },
     "metadata": {},
     "output_type": "display_data"
    },
    {
     "data": {
      "text/html": [
       "Run data is saved locally in <code>/cognitive_comp/huangyongfeng/evaluate_LM_with_rationalization/scripts/wandb/run-20230113_085054-2xsy165a</code>"
      ],
      "text/plain": [
       "<IPython.core.display.HTML object>"
      ]
     },
     "metadata": {},
     "output_type": "display_data"
    },
    {
     "data": {
      "text/html": [
       "Syncing run <strong><a href=\"https://wandb.ai/cuhk_lavilab/evaluate_LM_with_rationalization/runs/2xsy165a\" target=\"_blank\">./cos_e_output_t5_large</a></strong> to <a href=\"https://wandb.ai/cuhk_lavilab/evaluate_LM_with_rationalization\" target=\"_blank\">Weights & Biases</a> (<a href=\"https://wandb.me/run\" target=\"_blank\">docs</a>)<br/>"
      ],
      "text/plain": [
       "<IPython.core.display.HTML object>"
      ]
     },
     "metadata": {},
     "output_type": "display_data"
    },
    {
     "data": {
      "text/html": [
       "\n",
       "    <div>\n",
       "      \n",
       "      <progress value='150' max='150' style='width:300px; height:20px; vertical-align: middle;'></progress>\n",
       "      [150/150 06:27, Epoch 25/25]\n",
       "    </div>\n",
       "    <table border=\"1\" class=\"dataframe\">\n",
       "  <thead>\n",
       "    <tr style=\"text-align: left;\">\n",
       "      <th>Step</th>\n",
       "      <th>Training Loss</th>\n",
       "      <th>Validation Loss</th>\n",
       "    </tr>\n",
       "  </thead>\n",
       "  <tbody>\n",
       "  </tbody>\n",
       "</table><p>"
      ],
      "text/plain": [
       "<IPython.core.display.HTML object>"
      ]
     },
     "metadata": {},
     "output_type": "display_data"
    },
    {
     "name": "stderr",
     "output_type": "stream",
     "text": [
      "Saving model checkpoint to ./cos_e_output_t5_large/011323_085029/checkpoint-5\n",
      "Configuration saved in ./cos_e_output_t5_large/011323_085029/checkpoint-5/config.json\n",
      "Model weights saved in ./cos_e_output_t5_large/011323_085029/checkpoint-5/pytorch_model.bin\n",
      "Saving model checkpoint to ./cos_e_output_t5_large/011323_085029/checkpoint-10\n",
      "Configuration saved in ./cos_e_output_t5_large/011323_085029/checkpoint-10/config.json\n",
      "Model weights saved in ./cos_e_output_t5_large/011323_085029/checkpoint-10/pytorch_model.bin\n",
      "Saving model checkpoint to ./cos_e_output_t5_large/011323_085029/checkpoint-15\n",
      "Configuration saved in ./cos_e_output_t5_large/011323_085029/checkpoint-15/config.json\n",
      "Model weights saved in ./cos_e_output_t5_large/011323_085029/checkpoint-15/pytorch_model.bin\n",
      "Saving model checkpoint to ./cos_e_output_t5_large/011323_085029/checkpoint-20\n",
      "Configuration saved in ./cos_e_output_t5_large/011323_085029/checkpoint-20/config.json\n",
      "Model weights saved in ./cos_e_output_t5_large/011323_085029/checkpoint-20/pytorch_model.bin\n",
      "Saving model checkpoint to ./cos_e_output_t5_large/011323_085029/checkpoint-25\n",
      "Configuration saved in ./cos_e_output_t5_large/011323_085029/checkpoint-25/config.json\n",
      "Model weights saved in ./cos_e_output_t5_large/011323_085029/checkpoint-25/pytorch_model.bin\n",
      "Saving model checkpoint to ./cos_e_output_t5_large/011323_085029/checkpoint-30\n",
      "Configuration saved in ./cos_e_output_t5_large/011323_085029/checkpoint-30/config.json\n",
      "Model weights saved in ./cos_e_output_t5_large/011323_085029/checkpoint-30/pytorch_model.bin\n",
      "Saving model checkpoint to ./cos_e_output_t5_large/011323_085029/checkpoint-35\n",
      "Configuration saved in ./cos_e_output_t5_large/011323_085029/checkpoint-35/config.json\n",
      "Model weights saved in ./cos_e_output_t5_large/011323_085029/checkpoint-35/pytorch_model.bin\n",
      "Saving model checkpoint to ./cos_e_output_t5_large/011323_085029/checkpoint-40\n",
      "Configuration saved in ./cos_e_output_t5_large/011323_085029/checkpoint-40/config.json\n",
      "Model weights saved in ./cos_e_output_t5_large/011323_085029/checkpoint-40/pytorch_model.bin\n",
      "Saving model checkpoint to ./cos_e_output_t5_large/011323_085029/checkpoint-45\n",
      "Configuration saved in ./cos_e_output_t5_large/011323_085029/checkpoint-45/config.json\n",
      "Model weights saved in ./cos_e_output_t5_large/011323_085029/checkpoint-45/pytorch_model.bin\n",
      "Saving model checkpoint to ./cos_e_output_t5_large/011323_085029/checkpoint-50\n",
      "Configuration saved in ./cos_e_output_t5_large/011323_085029/checkpoint-50/config.json\n",
      "Model weights saved in ./cos_e_output_t5_large/011323_085029/checkpoint-50/pytorch_model.bin\n",
      "Saving model checkpoint to ./cos_e_output_t5_large/011323_085029/checkpoint-55\n",
      "Configuration saved in ./cos_e_output_t5_large/011323_085029/checkpoint-55/config.json\n",
      "Model weights saved in ./cos_e_output_t5_large/011323_085029/checkpoint-55/pytorch_model.bin\n",
      "Saving model checkpoint to ./cos_e_output_t5_large/011323_085029/checkpoint-60\n",
      "Configuration saved in ./cos_e_output_t5_large/011323_085029/checkpoint-60/config.json\n",
      "Model weights saved in ./cos_e_output_t5_large/011323_085029/checkpoint-60/pytorch_model.bin\n",
      "Saving model checkpoint to ./cos_e_output_t5_large/011323_085029/checkpoint-65\n",
      "Configuration saved in ./cos_e_output_t5_large/011323_085029/checkpoint-65/config.json\n",
      "Model weights saved in ./cos_e_output_t5_large/011323_085029/checkpoint-65/pytorch_model.bin\n",
      "Saving model checkpoint to ./cos_e_output_t5_large/011323_085029/checkpoint-70\n",
      "Configuration saved in ./cos_e_output_t5_large/011323_085029/checkpoint-70/config.json\n",
      "Model weights saved in ./cos_e_output_t5_large/011323_085029/checkpoint-70/pytorch_model.bin\n",
      "Saving model checkpoint to ./cos_e_output_t5_large/011323_085029/checkpoint-75\n",
      "Configuration saved in ./cos_e_output_t5_large/011323_085029/checkpoint-75/config.json\n",
      "Model weights saved in ./cos_e_output_t5_large/011323_085029/checkpoint-75/pytorch_model.bin\n",
      "Saving model checkpoint to ./cos_e_output_t5_large/011323_085029/checkpoint-80\n",
      "Configuration saved in ./cos_e_output_t5_large/011323_085029/checkpoint-80/config.json\n",
      "Model weights saved in ./cos_e_output_t5_large/011323_085029/checkpoint-80/pytorch_model.bin\n",
      "Saving model checkpoint to ./cos_e_output_t5_large/011323_085029/checkpoint-85\n",
      "Configuration saved in ./cos_e_output_t5_large/011323_085029/checkpoint-85/config.json\n",
      "Model weights saved in ./cos_e_output_t5_large/011323_085029/checkpoint-85/pytorch_model.bin\n",
      "Saving model checkpoint to ./cos_e_output_t5_large/011323_085029/checkpoint-90\n",
      "Configuration saved in ./cos_e_output_t5_large/011323_085029/checkpoint-90/config.json\n",
      "Model weights saved in ./cos_e_output_t5_large/011323_085029/checkpoint-90/pytorch_model.bin\n",
      "Saving model checkpoint to ./cos_e_output_t5_large/011323_085029/checkpoint-95\n",
      "Configuration saved in ./cos_e_output_t5_large/011323_085029/checkpoint-95/config.json\n",
      "Model weights saved in ./cos_e_output_t5_large/011323_085029/checkpoint-95/pytorch_model.bin\n",
      "Saving model checkpoint to ./cos_e_output_t5_large/011323_085029/checkpoint-100\n",
      "Configuration saved in ./cos_e_output_t5_large/011323_085029/checkpoint-100/config.json\n",
      "Model weights saved in ./cos_e_output_t5_large/011323_085029/checkpoint-100/pytorch_model.bin\n",
      "Saving model checkpoint to ./cos_e_output_t5_large/011323_085029/checkpoint-105\n",
      "Configuration saved in ./cos_e_output_t5_large/011323_085029/checkpoint-105/config.json\n",
      "Model weights saved in ./cos_e_output_t5_large/011323_085029/checkpoint-105/pytorch_model.bin\n",
      "Saving model checkpoint to ./cos_e_output_t5_large/011323_085029/checkpoint-110\n",
      "Configuration saved in ./cos_e_output_t5_large/011323_085029/checkpoint-110/config.json\n",
      "Model weights saved in ./cos_e_output_t5_large/011323_085029/checkpoint-110/pytorch_model.bin\n",
      "Saving model checkpoint to ./cos_e_output_t5_large/011323_085029/checkpoint-115\n",
      "Configuration saved in ./cos_e_output_t5_large/011323_085029/checkpoint-115/config.json\n",
      "Model weights saved in ./cos_e_output_t5_large/011323_085029/checkpoint-115/pytorch_model.bin\n",
      "Saving model checkpoint to ./cos_e_output_t5_large/011323_085029/checkpoint-120\n",
      "Configuration saved in ./cos_e_output_t5_large/011323_085029/checkpoint-120/config.json\n",
      "Model weights saved in ./cos_e_output_t5_large/011323_085029/checkpoint-120/pytorch_model.bin\n",
      "Saving model checkpoint to ./cos_e_output_t5_large/011323_085029/checkpoint-125\n",
      "Configuration saved in ./cos_e_output_t5_large/011323_085029/checkpoint-125/config.json\n",
      "Model weights saved in ./cos_e_output_t5_large/011323_085029/checkpoint-125/pytorch_model.bin\n",
      "Saving model checkpoint to ./cos_e_output_t5_large/011323_085029/checkpoint-130\n",
      "Configuration saved in ./cos_e_output_t5_large/011323_085029/checkpoint-130/config.json\n",
      "Model weights saved in ./cos_e_output_t5_large/011323_085029/checkpoint-130/pytorch_model.bin\n",
      "Saving model checkpoint to ./cos_e_output_t5_large/011323_085029/checkpoint-135\n",
      "Configuration saved in ./cos_e_output_t5_large/011323_085029/checkpoint-135/config.json\n",
      "Model weights saved in ./cos_e_output_t5_large/011323_085029/checkpoint-135/pytorch_model.bin\n",
      "Saving model checkpoint to ./cos_e_output_t5_large/011323_085029/checkpoint-140\n",
      "Configuration saved in ./cos_e_output_t5_large/011323_085029/checkpoint-140/config.json\n",
      "Model weights saved in ./cos_e_output_t5_large/011323_085029/checkpoint-140/pytorch_model.bin\n",
      "Saving model checkpoint to ./cos_e_output_t5_large/011323_085029/checkpoint-145\n",
      "Configuration saved in ./cos_e_output_t5_large/011323_085029/checkpoint-145/config.json\n",
      "Model weights saved in ./cos_e_output_t5_large/011323_085029/checkpoint-145/pytorch_model.bin\n",
      "Saving model checkpoint to ./cos_e_output_t5_large/011323_085029/checkpoint-150\n",
      "Configuration saved in ./cos_e_output_t5_large/011323_085029/checkpoint-150/config.json\n",
      "Model weights saved in ./cos_e_output_t5_large/011323_085029/checkpoint-150/pytorch_model.bin\n",
      "\n",
      "\n",
      "Training completed. Do not forget to share your model on huggingface.co/models =)\n",
      "\n",
      "\n"
     ]
    },
    {
     "data": {
      "text/html": [
       "Waiting for W&B process to finish... <strong style=\"color:green\">(success).</strong>"
      ],
      "text/plain": [
       "<IPython.core.display.HTML object>"
      ]
     },
     "metadata": {},
     "output_type": "display_data"
    },
    {
     "data": {
      "text/html": [
       "<style>\n",
       "    table.wandb td:nth-child(1) { padding: 0 10px; text-align: left ; width: auto;} td:nth-child(2) {text-align: left ; width: 100%}\n",
       "    .wandb-row { display: flex; flex-direction: row; flex-wrap: wrap; justify-content: flex-start; width: 100% }\n",
       "    .wandb-col { display: flex; flex-direction: column; flex-basis: 100%; flex: 1; padding: 10px; }\n",
       "    </style>\n",
       "<div class=\"wandb-row\"><div class=\"wandb-col\"><h3>Run history:</h3><br/><table class=\"wandb\"><tr><td>train/epoch</td><td>▁▁▁▁▂▂▂▂▂▃▃▃▃▃▃▄▄▄▄▄▅▅▅▅▅▆▆▆▆▆▆▇▇▇▇▇████</td></tr><tr><td>train/global_step</td><td>▁▁▁▁▂▂▂▂▂▃▃▃▃▃▃▄▄▄▄▄▅▅▅▅▅▆▆▆▆▆▆▇▇▇▇▇████</td></tr><tr><td>train/learning_rate</td><td>████▇▇▇▇▇▆▆▆▆▆▆▅▅▅▅▅▄▄▄▄▄▄▃▃▃▃▃▃▂▂▂▂▂▁▁▁</td></tr><tr><td>train/loss</td><td>█▅▄▃▃▃▂▂▂▂▂▂▂▂▂▂▂▂▂▁▁▁▁▁▁▁▁▁▁▁▁▁▁▁▁▁▁▁▁▁</td></tr><tr><td>train/total_flos</td><td>▁</td></tr><tr><td>train/train_loss</td><td>▁</td></tr><tr><td>train/train_runtime</td><td>▁</td></tr><tr><td>train/train_samples_per_second</td><td>▁</td></tr><tr><td>train/train_steps_per_second</td><td>▁</td></tr></table><br/></div><div class=\"wandb-col\"><h3>Run summary:</h3><br/><table class=\"wandb\"><tr><td>train/epoch</td><td>25.0</td></tr><tr><td>train/global_step</td><td>150</td></tr><tr><td>train/learning_rate</td><td>0.0</td></tr><tr><td>train/loss</td><td>1.446</td></tr><tr><td>train/total_flos</td><td>197729710080000.0</td></tr><tr><td>train/train_loss</td><td>2.18755</td></tr><tr><td>train/train_runtime</td><td>395.3489</td></tr><tr><td>train/train_samples_per_second</td><td>3.035</td></tr><tr><td>train/train_steps_per_second</td><td>0.379</td></tr></table><br/></div></div>"
      ],
      "text/plain": [
       "<IPython.core.display.HTML object>"
      ]
     },
     "metadata": {},
     "output_type": "display_data"
    },
    {
     "data": {
      "text/html": [
       "Synced <strong style=\"color:#cdcd00\">./cos_e_output_t5_large</strong>: <a href=\"https://wandb.ai/cuhk_lavilab/evaluate_LM_with_rationalization/runs/2xsy165a\" target=\"_blank\">https://wandb.ai/cuhk_lavilab/evaluate_LM_with_rationalization/runs/2xsy165a</a><br/>Synced 6 W&B file(s), 0 media file(s), 0 artifact file(s) and 0 other file(s)"
      ],
      "text/plain": [
       "<IPython.core.display.HTML object>"
      ]
     },
     "metadata": {},
     "output_type": "display_data"
    },
    {
     "data": {
      "text/html": [
       "Find logs at: <code>./wandb/run-20230113_085054-2xsy165a/logs</code>"
      ],
      "text/plain": [
       "<IPython.core.display.HTML object>"
      ]
     },
     "metadata": {},
     "output_type": "display_data"
    }
   ],
   "source": [
    "# os.environ[\"WANDB_DISABLED\"] = \"True\"\n",
    "if data_args.generations_filepath is None:\n",
    "    callbacks = [TensorBoardCallback()]\n",
    "    if data_args.early_stopping_patience > 0:\n",
    "        callbacks.append(EarlyStoppingCallback(early_stopping_patience=data_args.early_stopping_patience))\n",
    "        training_args.load_best_model_at_end = True\n",
    "    else:\n",
    "        training_args.load_best_model_at_end = False  # use the last model state\n",
    "    training_args.metric_for_best_model = 'eval_loss'\n",
    "    training_args.greater_is_better = False\n",
    "    if training_args.eval_steps is None:\n",
    "        training_args.evaluation_strategy = EvaluationStrategy.EPOCH\n",
    "    else:\n",
    "        training_args.evaluation_strategy = EvaluationStrategy.STEPS\n",
    "\n",
    "    trainer = Trainer(\n",
    "        model=model,\n",
    "        args=training_args,\n",
    "        train_dataset=our_data_splits['train'],\n",
    "        eval_dataset=our_data_splits['dev'],\n",
    "        data_collator=SequenceCollator(\n",
    "            model=model_class, pad_token=tokenizer.pad_token_id\n",
    "        ),\n",
    "        callbacks=callbacks,\n",
    "    )\n",
    "\n",
    "# Training. Don't train if it is use_gpt3\n",
    "if training_args.do_train and not model_args.use_gpt3:\n",
    "    start_time = time.time()\n",
    "    trainer.train()\n",
    "    train_time = time.time() - start_time\n",
    "    model = trainer.model\n",
    "    wandb.finish()\n",
    "else:\n",
    "    start_time = time.time()\n",
    "    train_time = time.time() - start_time"
   ]
  },
  {
   "cell_type": "code",
   "execution_count": 40,
   "id": "ade3c632",
   "metadata": {},
   "outputs": [],
   "source": [
    "# print(our_data_splits['dev'][0]['our_explanation'])\n",
    "# inp_ids=torch.tensor(our_data_splits['dev'][0][\"input_ids\"], device=model.device).reshape(1, -1)\n",
    "# out = model.generate(\n",
    "#                     inp_ids,\n",
    "#                     max_length=100,\n",
    "#                     pad_token_id=tokenizer.pad_token_id,\n",
    "#                     eos_token_id=tokenizer.eos_token_id,\n",
    "#                 )\n",
    "# skip_special_tokens = False if \"infilling\" in data_args.io_format else True\n",
    "# words = tokenizer.decode(out[0].tolist(), skip_special_tokens=skip_special_tokens)\n",
    "# print(words)"
   ]
  },
  {
   "cell_type": "code",
   "execution_count": 41,
   "id": "b88935f8",
   "metadata": {},
   "outputs": [],
   "source": [
    "# len(our_data_splits['dev']),len(our_data_splits['train'])"
   ]
  },
  {
   "cell_type": "code",
   "execution_count": 42,
   "id": "8eda472b",
   "metadata": {},
   "outputs": [],
   "source": [
    "# our_data_splits['dev']"
   ]
  },
  {
   "cell_type": "code",
   "execution_count": 43,
   "id": "77c15190",
   "metadata": {},
   "outputs": [],
   "source": [
    "# for da in our_data_splits['train']:\n",
    "#     print(\"*******\")\n",
    "#     print(\"question: {}\".format(da['question']))\n",
    "#     print(\"answer: {}\".format(da['answer']))\n",
    "#     print(\"choices: {}\".format(da['choices']))\n",
    "#     print(\"our_explanation: {}\".format(da['our_explanation']))\n",
    "#     inp_ids = torch.tensor(da[\"input_ids\"], device=model.device).reshape(1, -1)\n",
    "#     out = model.generate(\n",
    "#                     inp_ids,\n",
    "#                     max_length=100,\n",
    "#                     pad_token_id=tokenizer.pad_token_id,\n",
    "#                     eos_token_id=tokenizer.eos_token_id,\n",
    "#                 )\n",
    "#     skip_special_tokens = False if \"infilling\" in data_args.io_format else True\n",
    "#     words = tokenizer.decode(out[0].tolist(), skip_special_tokens=skip_special_tokens)\n",
    "#     print(\"generated explanation: {}\".format(words))\n",
    "#     print(\"#######\")"
   ]
  },
  {
   "cell_type": "code",
   "execution_count": 44,
   "id": "2ca6cbe4",
   "metadata": {},
   "outputs": [],
   "source": [
    "# for da in our_data_splits['dev']:\n",
    "#     print(\"*******\")\n",
    "#     print(\"question: {}\".format(da['question']))\n",
    "#     print(\"answer: {}\".format(da['answer']))\n",
    "#     print(\"choices: {}\".format(da['choices']))\n",
    "#     print(\"our_explanation: {}\".format(da['our_explanation']))\n",
    "#     inp_ids = torch.tensor(da[\"input_ids\"], device=model.device).reshape(1, -1)\n",
    "#     out = model.generate(\n",
    "#                     inp_ids,\n",
    "#                     max_length=100,\n",
    "#                     pad_token_id=tokenizer.pad_token_id,\n",
    "#                     eos_token_id=tokenizer.eos_token_id,\n",
    "#                 )\n",
    "#     skip_special_tokens = False if \"infilling\" in data_args.io_format else True\n",
    "#     words = tokenizer.decode(out[0].tolist(), skip_special_tokens=skip_special_tokens)\n",
    "#     print(\"generated explanation: {}\".format(words))\n",
    "#     print(\"#######\")"
   ]
  },
  {
   "cell_type": "code",
   "execution_count": 45,
   "id": "69977540",
   "metadata": {},
   "outputs": [],
   "source": [
    "# good_model = T5ForConditionalGeneration.from_pretrained(\"./cos_e_output_t5_3b/112022_235539/checkpoint-30\")"
   ]
  },
  {
   "cell_type": "code",
   "execution_count": 46,
   "id": "62fca4b8",
   "metadata": {},
   "outputs": [],
   "source": [
    "# for da in our_data_splits['dev']:\n",
    "#     print(\"*******\")\n",
    "#     print(\"question: {}\".format(da['question']))\n",
    "#     print(\"answer: {}\".format(da['answer']))\n",
    "#     print(\"choices: {}\".format(da['choices']))\n",
    "#     print(\"our_explanation: {}\".format(da['our_explanation']))\n",
    "#     inp_ids = torch.tensor(da[\"input_ids\"], device=model.device).reshape(1, -1)\n",
    "#     out = good_model.generate(\n",
    "#                     inp_ids,\n",
    "#                     max_length=100,\n",
    "#                     pad_token_id=tokenizer.pad_token_id,\n",
    "#                     eos_token_id=tokenizer.eos_token_id,\n",
    "#                 )\n",
    "#     skip_special_tokens = False if \"infilling\" in data_args.io_format else True\n",
    "#     words = tokenizer.decode(out[0].tolist(), skip_special_tokens=skip_special_tokens)\n",
    "#     print(\"generated explanation: {}\".format(words))\n",
    "#     print(\"#######\")"
   ]
  },
  {
   "cell_type": "code",
   "execution_count": 47,
   "id": "3a7de102",
   "metadata": {},
   "outputs": [],
   "source": [
    "# train_output = trainer.evaluate(our_data_splits['train'].select([0,1,2,3,4]))\n",
    "# train_output"
   ]
  },
  {
   "cell_type": "code",
   "execution_count": 48,
   "id": "f43528ca",
   "metadata": {},
   "outputs": [],
   "source": [
    "# results = {}\n",
    "# if training_args.do_eval:\n",
    "#     start_time = time.time()\n",
    "#     logger.info(\"*** Evaluate on train set***\")\n",
    "#     logger.info(len(data_splits['train']))\n",
    "#     train_output = trainer.evaluate(our_data_splits['train'])\n",
    "#     perplexity = math.exp(train_output[\"eval_loss\"])\n",
    "#     results[\"perplexity_train\"] = perplexity\n",
    "\n",
    "#     # repeat\n",
    "#     logger.info(\"*** Evaluate on dev set***\")\n",
    "#     logger.info(len(data_splits['validation']))\n",
    "#     eval_output = trainer.evaluate(data_splits['validation'])\n",
    "#     perplexity = math.exp(eval_output[\"eval_loss\"])\n",
    "#     results[\"perplexity_validation\"] = perplexity"
   ]
  },
  {
   "cell_type": "markdown",
   "id": "3d2d2ec9",
   "metadata": {},
   "source": [
    "# Rationale Discriminator"
   ]
  },
  {
   "cell_type": "markdown",
   "id": "bd5eeaa4",
   "metadata": {},
   "source": [
    "## Construction of generated rationale and accepted rationale pairs\n"
   ]
  },
  {
   "cell_type": "code",
   "execution_count": 49,
   "id": "e7f1c257",
   "metadata": {},
   "outputs": [
    {
     "data": {
      "text/plain": [
       "250"
      ]
     },
     "execution_count": 49,
     "metadata": {},
     "output_type": "execute_result"
    }
   ],
   "source": [
    "len(fse_csqa_dev_data_dict)"
   ]
  },
  {
   "cell_type": "code",
   "execution_count": 50,
   "id": "c7bcb573",
   "metadata": {},
   "outputs": [
    {
     "name": "stderr",
     "output_type": "stream",
     "text": [
      "\r",
      "  0%|                                                                                                                                                                               | 0/986 [00:00<?, ?it/s]"
     ]
    },
    {
     "name": "stdout",
     "output_type": "stream",
     "text": [
      "*******\n",
      "question: Where can you likely buy many poems?\n",
      "answer: book store\n",
      "choices: ['book of poetry', 'literature book', 'book store', 'poetry book', 'bookshelf']\n",
      "common expl list: ['A book store is a place where you can buy books, including poetry books.', 'A bookstore sells a variety of books, including poetry books; chains of bookstores sometimes specialize in categories such as poetry or literature.']\n"
     ]
    },
    {
     "name": "stderr",
     "output_type": "stream",
     "text": [
      "\r",
      "  0%|▏                                                                                                                                                                    | 1/986 [00:07<2:03:38,  7.53s/it]"
     ]
    },
    {
     "name": "stdout",
     "output_type": "stream",
     "text": [
      "generated explanation: <pad> <extra_id_0> Books are the best place to buy many poems because they are the most convenient way to find them. Book stores also have a wide selection of different kinds of books, from classics to newer releases. These stores also carry a variety of poetry, from the classics to the newer releases. Books are often the best place to find many poems, as they have a wide selection of different genres and styles. They also have a wide selection of different kinds of books, including poetry, short stories, and novels. Book stores also sell many of poetry, as well as well as they are often available in the best places to find them. Moreover, they also often have many poems, and often found in the store. Book stores also have a variety of poems available in many different styles and genres, and themes. In addition, you can find many poems in many different styles and styles, as well as well as well as well as many different styles and themes. Book stores also have many different types of poems in different styles, and genres of poetry. In addition to the collection, many poems are available in many poems. Book stores often have many different styles and designs.</s>\n",
      "########\n",
      "*******\n",
      "question: What could bringing suit do to a rivalry?\n",
      "answer: aggravation\n",
      "choices: ['going to court', 'randomness', 'anger', 'aggravation', 'tensions']\n",
      "common expl list: ['Bringing suit against a rival could aggravate the rivalry.']\n"
     ]
    },
    {
     "name": "stderr",
     "output_type": "stream",
     "text": [
      "\r",
      "  0%|▎                                                                                                                                                                    | 2/986 [00:13<1:51:36,  6.81s/it]"
     ]
    },
    {
     "name": "stdout",
     "output_type": "stream",
     "text": [
      "generated explanation: <pad> <extra_id_0> A lawsuit can be a great way to anger a rivalry. It can also be a way to gain a competitive edge over the rivalry. A lawsuit can be a great way to gain an advantage over the rivalry by causing the rivalry to become even more envious. A lawsuit can also cause the rivalry to become more competitive, which can lead to more tension and more tension. A lawsuit can also cause a rivalry to become more envious of the rivalry, which can lead to more animos. It can also lead to escalated between the rivalry, and the rivalry between the rivalry. This can lead to a rivalry and the rivalry between the rivalry, which can lead to a battle, and could lead to the rivalry. A lawsuit can also lead to a rivalry to a rivalry, which could lead to further tension between the rivalry between two people, which can lead to a rivalry between rivalry and anger.</s>\n",
      "########\n",
      "*******\n",
      "question: A person who yawns and paces to help pass the time is likely feeling what?\n",
      "answer: boredom\n",
      "choices: ['ridiculous', 'excitement', 'meanness', 'terrorism', 'boredom']\n",
      "common expl list: ['Yawning and pacing is a sign of being bored, etc...', 'By yawning and pacing one shows signs of being bored.', 'A bored person would pace and yawn to make time go by faster.']\n"
     ]
    },
    {
     "name": "stderr",
     "output_type": "stream",
     "text": [
      "\r",
      "  0%|▌                                                                                                                                                                    | 3/986 [00:21<1:55:32,  7.05s/it]"
     ]
    },
    {
     "name": "stdout",
     "output_type": "stream",
     "text": [
      "generated explanation: <pad> <extra_id_0> A person who yawns and paces to help pass the time is likely feeling boredom. Boredom is a feeling of being bored, or being unable to focus on the task at hand. This can lead to a sense of being bored, as the body is not used to the task at hand. Moreover, the body is not used to the task at hand, and a person who yawns and paces to help pass the time is likely feeling a sense of being bored. This is a person is likely feeling bored, which can lead to a person to feel if they are bored. Furthermore, the person may be feeling bored, or a person who a feeling bored, and is likely to help pass the time, or a sense of being bored. This can be used to help pass the time, or to help pass the task or to pass the time, or to help pass the time. a person may be bored, or even a boredom, or a sense of being bored, or a person is likely feeling bored</s>\n",
      "########\n",
      "*******\n",
      "question: I only like fiction books, why should I read a non-fiction book?\n",
      "answer: knowledge\n",
      "choices: ['knowledge', 'been printed new', 'many words', 'for fun', 'cover']\n",
      "common expl list: ['Non-fiction books contain knowledge.']\n"
     ]
    },
    {
     "name": "stderr",
     "output_type": "stream",
     "text": [
      "\r",
      "  0%|▋                                                                                                                                                                    | 4/986 [00:29<2:04:02,  7.58s/it]"
     ]
    },
    {
     "name": "stdout",
     "output_type": "stream",
     "text": [
      "generated explanation: <pad> <extra_id_0> Non-fiction books are a great way to gain knowledge. They can help you build a better understanding of the world around you. They can also help you to make better decisions in your life. Moreover, non-fiction books can provide you with the tools and skills you need to make informed decisions about your life. This knowledge can help you make better decisions about your life and make informed decisions. Knowledge can also be used to make better decisions. Knowledge can also help you make better decisions about your life and your future. Knowledge can also help you to help you to make better decisions about the world around you. Knowledge can help you to make better informed decisions and make informed decisions about your life. Knowledge can also help you make better decisions. Knowledge can also be used to make better informed decisions. Knowledge can also be used to make better decisions about the world. Knowledge can also help you make better decisions. Knowledge is also a good choice for better decision-making. Knowledge can also be used to make better decisions. Knowledge can also help you make better choices. Knowledge is the best-making decisions. Knowledge can also be used to make better decisions.</s>\n",
      "########\n",
      "*******\n",
      "question: An American might hike a mountain north to get to what?\n",
      "answer: canada\n",
      "choices: ['canada', 'switzerland', 'orlando', 'austria', 'surface of earth']\n",
      "common expl list: ['If an American hiked north, they would likely end up in Canada.']\n"
     ]
    },
    {
     "name": "stderr",
     "output_type": "stream",
     "text": [
      "\r",
      "  1%|▊                                                                                                                                                                    | 5/986 [00:36<1:57:37,  7.19s/it]"
     ]
    },
    {
     "name": "stdout",
     "output_type": "stream",
     "text": [
      "generated explanation: <pad> <extra_id_0> An American might hike a mountain north to get to Canada. Canada is a country that is home to many Native Americans, as well as other people from other parts of the world. Canada is a great place to visit and explore, as it is home to many cultures, including the indigenous peoples of Canada. The mountains and valleys of Canada provide a great deal of natural beauty and adventure, and the climate is ideal for hiking and exploring. The mountains provide a great backdrop for hiking and exploring, and the mountains provide a great outdoors. The mountains are also a great outdoors. Additionally, the mountains provide an adventure. Additionally, the American with the opportunity to explore the great outdoors, and the mountains of the world. Furthermore, the mountains of the country, and the mountains of the United States, which are often overlooked by the north. The mountains of Canada is a great place to get to the north. The mountains are also a great place to visit, and experience.</s>\n",
      "########\n",
      "*******\n",
      "question: Sam spent most of his time standing up.  His job was hectic and he never got any rest. But he was the best cashier at his workplace.    Where might he work?\n",
      "answer: supermarket\n",
      "choices: ['bookstore', 'count till', 'supermarket', 'shop', 'preschool']\n",
      "common expl list: [\"The best cashiers work setting up lines of products, yhis is usually done from being on one's feet. Supermarkets use till systems to swipe credit cards, thus cashiering is done by standing up.\", 'Since one spends most of his time standing when working as a cashier, Sam probably works at a supermarket where groceries are sold. Because his workplace is full of activities and punten, he never gets any rest.']\n"
     ]
    },
    {
     "name": "stderr",
     "output_type": "stream",
     "text": [
      "\r",
      "  1%|█                                                                                                                                                                    | 6/986 [00:40<1:42:24,  6.27s/it]"
     ]
    },
    {
     "name": "stdout",
     "output_type": "stream",
     "text": [
      "generated explanation: <pad> <extra_id_0> Sam worked in a supermarket. He was a cashier at a supermarket. He worked a shift that was long and he was always standing up. He was always working hard and was never allowed to take a break. He was also required to sign out customers and take orders. Sam was also responsible for ensuring that customers were able to get their food quickly and efficiently. He was also responsible for ensuring that customers were treated fairly. He was also responsible for the cleanliness of the store and cleanliness of the employees. Sam was also a supermarket, which a supermarket is a great cashier. He was a lot of work and his work-related activities like a lot of money. He was also a lot of stress and was always a supermarket. He was a cashier who was a great team.</s>\n",
      "########\n",
      "*******\n",
      "question: James raked fallen leaves into a pile. Where might he leave the pile?\n",
      "answer: ground\n",
      "choices: ['forest', 'roof', 'garden', 'tree', 'ground']\n",
      "common expl list: ['Leaves are often raked into piles on the ground.']\n"
     ]
    },
    {
     "name": "stderr",
     "output_type": "stream",
     "text": [
      "\r",
      "  1%|█▏                                                                                                                                                                   | 7/986 [00:48<1:49:03,  6.68s/it]"
     ]
    },
    {
     "name": "stdout",
     "output_type": "stream",
     "text": [
      "generated explanation: <pad> <extra_id_0> James raked fallen leaves into a pile. The pile is usually left on the ground because the pile is usually made from wood or other materials that are easily gathered. The leaves can be raked into a pile by raking, which can be done by a utility pole or other equipment that is placed in the ground. The pile is usually made from wood, or other materials that are discarded. The leaves can also be thrown into the pile as a way to clear the area. The leaves can also be a pile can be piled on the ground. The pile is usually left on the pile is usually left in the ground. The pile is usually left in the pile is usually left in the pile is usually left in the ground. The pile is usually left in the pile on the ground, and other places. The pile is often left in the ground is usually a pile of leaves can be left in the pile. The pile is often left on the pile is often a way to create a great place to leave a natural feature that it is often a natural and can be left in the ground.</s>\n",
      "########\n",
      "*******\n",
      "question: What happens when we fail at something we attempt?\n",
      "answer: leave\n",
      "choices: ['leave', 'give up', 'trying', 'we get shunned', 'fail']\n",
      "common expl list: [\"If we engage in an activity, like a sport, and fail, we don't want to continue doing it. It's much easier simply to leave.\", 'If we fail at something, we usually leave (quit) that activity; failing is an action, while giving up and trying are both ways of not acting.']\n"
     ]
    },
    {
     "name": "stderr",
     "output_type": "stream",
     "text": [
      "\r",
      "  1%|█▎                                                                                                                                                                   | 8/986 [00:53<1:43:18,  6.34s/it]"
     ]
    },
    {
     "name": "stdout",
     "output_type": "stream",
     "text": [
      "generated explanation: <pad> <extra_id_0> When we fail at something we attempt, we leave a negative impression on ourselves. We leave the room feeling like a failure. This is because we are unable to control our emotions and thoughts and are unable to take responsibility for our actions. We also leave feeling like failure is a sign of weakness and a sign of a failure. Failure is a sign of a weaker self-awareness, and we are unable to learn from our mistakes. Failure can also be a sign of failure. It can also leave a job or change our ability to learn from our mistakes and improve our skills and confidence. Failure can also lead to a feeling of frustration and even worse. Failure can cause us to improve our lives and improve our confidence in our abilities. This can cause us to lose confidence in our efforts and confidence in our efforts. This can also cause us to make mistakes and ultimately lead to learn from our mistakes.</s>\n",
      "########\n",
      "*******\n",
      "question: The referee wasn't specialized in one thing. He refereed many games.  He was offered a job but wasn't sure what it would be.  What did he know it would be?\n",
      "answer: sporting event\n",
      "choices: ['side with opponent', 'football', 'hockey game', 'part two boxers', 'sporting event']\n",
      "common expl list: ['Referees are specialized in sports, and so, they would be expected to know how to referee a sporting event.']\n"
     ]
    },
    {
     "name": "stderr",
     "output_type": "stream",
     "text": [
      "\r",
      "  1%|█▌                                                                                                                                                                   | 9/986 [01:00<1:47:17,  6.59s/it]"
     ]
    },
    {
     "name": "stdout",
     "output_type": "stream",
     "text": [
      "generated explanation: <pad> <extra_id_0> The referee wasn't specialized in one thing. He was offered a job to referee many games. He wasn't sure what he would be doing because he was offered a job to do so many things. He was offered a job to referee many games. He was offered a job to referee many games. He was offered the job to referee many sporting events. He was given the job to referee many sporting events because he was a skilled refered the sport. He was offered the job because he was a sport was the job he would be a job to refereed many different types of sports. He was a game and was he was a job to refereeding many sporting events. He was offered the job because he was he was a lot of a job because he was a job because he was a job because he was not a job to refereed many games. He was offered a job because he was a job because </s>\n",
      "########\n",
      "*******\n",
      "question: Susan threw the highly elastic ball at the wall.  The ball did what?\n",
      "answer: rebound\n",
      "choices: ['bounce', 'recoil', 'rebound', 'underwear', 'stretch']\n",
      "common expl list: ['Elastic balls collide with the wall, and boom bounce back after a collision.']\n"
     ]
    },
    {
     "name": "stderr",
     "output_type": "stream",
     "text": [
      "\r",
      "  1%|█▋                                                                                                                                                                  | 10/986 [01:08<1:53:36,  6.98s/it]"
     ]
    },
    {
     "name": "stdout",
     "output_type": "stream",
     "text": [
      "generated explanation: <pad> <extra_id_0> Susan threw the highly elastic ball at the wall at a distance of about 30 feet. The ball rebounded off the wall, hitting the wall. The rebound caused the ball to bounce back, which caused the ball to bounce back. The ball bounced back because it was elastic, so it was able to bounce back quickly. The rebound caused the ball to rebound, which caused it to bounce back. The rebound caused the ball to bounce back off the wall, striking the wall again. The rebound caused the ball to rebound, which caused the wall and rebound, which made it to rebound, a rebounding. The ball bounced the wall, a large area, allowing it to rebound back. The rebound was a way that allows the wall, and was not designed to rebounding, allowing the wall. The ball was a rebound created a new, rebound, allowing Susan to throw the ball to rebounding. The rebounded back and rebounding helped her to rebound, allowing her to a second time to rebound material to rebounding back into the wall, and rebounding back into the wall.</s>\n",
      "########\n",
      "*******\n",
      "question: John lived in a small island surrounded by flowing liquid H2O   Where might he live?\n",
      "answer: mississippi river\n",
      "choices: ['japan', 'hawaii', 'mississippi river', 'pacific ocean', 'body of water']\n",
      "common expl list: ['there are numerous islands in the mississippi river in the united states, making it possible that John may have lived on one.']\n"
     ]
    },
    {
     "name": "stderr",
     "output_type": "stream",
     "text": [
      "\r",
      "  1%|█▊                                                                                                                                                                  | 11/986 [01:12<1:38:02,  6.03s/it]"
     ]
    },
    {
     "name": "stdout",
     "output_type": "stream",
     "text": [
      "generated explanation: <pad> <extra_id_0> John lived in a small island surrounded by flowing liquid H2O. This is because the water is constantly flowing and is a vital part of life. The river is a natural part of our ecosystem, and is the source of all life on Earth. It is a natural part of life, and is a vital part of our lives. The water is also a source of life for many species of fish, plants, and animals. The flow of the river is also a sign of a healthy ecosystem. The river is a river is a great way to live in a small island a river, and would provide a great place for him to live. The river is a great place to live.</s>\n",
      "########\n",
      "*******\n",
      "question: What will the student have to do on the test?\n",
      "answer: solve equation\n",
      "choices: ['finish college', 'begin teaching', 'write', 'answer question', 'solve equation']\n",
      "common expl list: ['A student has to solve equations to learn a given theory that is presented in class.']\n"
     ]
    },
    {
     "name": "stderr",
     "output_type": "stream",
     "text": [
      "\r",
      "  1%|█▉                                                                                                                                                                  | 12/986 [01:20<1:49:21,  6.74s/it]"
     ]
    },
    {
     "name": "stdout",
     "output_type": "stream",
     "text": [
      "generated explanation: <pad> <extra_id_0> The student will have to solve an equation to complete the equation. The student will have to complete the equation in order to complete the test. The student will have to complete the test in order to complete the test. The student will need to complete the equation in order to complete the test. The student will need to complete the equation in the correct order, and then write the correct answer. The student will then have to complete the test in order to complete the correct answer. The student will also have to complete the equation in order to complete the test. The test will be required to complete the test. The student will have to complete the test. They will have to complete the test, and write the test, and then take the test. The student will have to complete the test by solving the equation in order to complete the test. The student will have to complete the test, and then take the test. The student will have to complete the test by solving the equation. The student will have to complete the test and answer the answer the test. The test will have to complete the answer to complete the test. The student will have to complete the test. The student will have to complete the test by using the answer.</s>\n",
      "########\n",
      "*******\n",
      "question: The tourists saw what they thought was a statue, but they soon discovered it was performance art went it began what?\n",
      "answer: moving\n",
      "choices: ['growing mold', 'moving', 'accent garden', 'green', 'painting']\n",
      "common expl list: ['Performance art is art that is performed, rather than being a static object. In this case, the statue was moving, which is a sign of performance art.']\n"
     ]
    },
    {
     "name": "stderr",
     "output_type": "stream",
     "text": [
      "\r",
      "  1%|██▏                                                                                                                                                                 | 13/986 [01:23<1:29:56,  5.55s/it]"
     ]
    },
    {
     "name": "stdout",
     "output_type": "stream",
     "text": [
      "generated explanation: <pad> <extra_id_0> The performance art<extra_id_1> The performance art began when the tourists saw a statue, but soon discovered it was a performance art go it began what was known as a moving performance. The performance art began when the tourists saw the moving performance, and it was a performance of a moving performance. The moving performance was a moving performance, and the tourists were able to see the moving performance as a performance, and the moving performance was a performance in motion. The moving performance was a moving performance, and the performers were moving the</s>\n",
      "########\n",
      "*******\n",
      "question: What is a good way to carry a small dog?\n",
      "answer: backpack\n",
      "choices: ['good hands', 'backpack', 'chinese food', 'grocery bag', 'basket']\n",
      "common expl list: ['Backpacks are a good way to carry things, and small dogs are things.']\n"
     ]
    },
    {
     "name": "stderr",
     "output_type": "stream",
     "text": [
      "\r",
      "  1%|██▎                                                                                                                                                                 | 14/986 [01:31<1:42:05,  6.30s/it]"
     ]
    },
    {
     "name": "stdout",
     "output_type": "stream",
     "text": [
      "generated explanation: <pad> <extra_id_0> A backpack is a great way to carry a small dog. It is a lightweight, compact backpack that can be easily carried by a person or a dog. It is also a great way to carry a small dog because it is easy to carry and transport. A backpack is a lightweight, compact and easy to use backpack that can be easily carried and stored in a backpack. It is also a great way to carry a small dog because it is easy to access and store items, such as food, water, a backpack is also a great way to carry on a small dog with you can easily accessible to the most important for a small dog. A backpack is a great way to carry a small dog can be used to get around, and to get around town. It is also a great way to get around town, and easily accessible. It is a great way to carry a small dog that is a great way to get around town. It is also a great way to take a great way to get around town. It is a great way to get around town.</s>\n",
      "########\n",
      "*******\n",
      "question: Both sides in World War I used what to cause death that is now banned?\n",
      "answer: poisonous gas\n",
      "choices: ['homicide', 'poisonous gas', 'cyanide', 'nuclear weapons', 'massive weapons']\n",
      "common expl list: ['Poison gas is a chemical known for its ability to kill (therefore, if both sides used it, people on both sides died from its use), and it has since gone on to be outlawed in many countries.']\n"
     ]
    },
    {
     "name": "stderr",
     "output_type": "stream",
     "text": [
      "\r",
      "  2%|██▍                                                                                                                                                                 | 15/986 [01:34<1:25:26,  5.28s/it]"
     ]
    },
    {
     "name": "stdout",
     "output_type": "stream",
     "text": [
      "generated explanation: <pad> <extra_id_0> In World War I both sides used poisonous gas to cause death. This was used to cause both sides in World War I to use poisonous gas to cause death. This was used to cause both sides in World War I to use poisonous gas. In addition, both sides in World War I used gas to cause gas explosions, which caused the explosion of aircraft and other equipment. This was done to cause both sides in World War I to cause death. The gas was used to cause both sides in World War I to use poisonous gas to cause a number of dead.</s>\n",
      "########\n",
      "*******\n",
      "question: Where is disease often spread but shouldn't be?\n",
      "answer: hospital\n",
      "choices: ['ghost town', 'third world country', 'human body', 'rug', 'hospital']\n",
      "common expl list: ['Hospitals are places where people go to get better, and therefore disease is often spread there.', 'Disease is spread most commonly in hospitals, where sick patients are treated and recovered hosts of disease are found.']\n"
     ]
    },
    {
     "name": "stderr",
     "output_type": "stream",
     "text": [
      "\r",
      "  2%|██▋                                                                                                                                                                 | 16/986 [01:44<1:49:15,  6.76s/it]"
     ]
    },
    {
     "name": "stdout",
     "output_type": "stream",
     "text": [
      "generated explanation: <pad> <extra_id_0> A hospital is a place where disease is often spread but shouldn't be. A hospital is a place where disease is often spread but shouldn't be. Hospitals are places where disease is often spread but shouldn't be. They are also places where disease is often spread but shouldn't be. A hospital is a place where disease is often spread because it is a place where it is easier to spread. A hospital is a place where disease is often spread but shouldn't be. A hospital is a place where it is a hospital is a place for treatment. In addition, hospital is also often spread by spreading the spread disease is spread, and can be spread through the a hospital is often spread because it is a hospital can provide a wide variety of other treatments and prevention. A hospital is a place where disease is spread because it is a place to receive treatment for the disease is often spread. Because of the hospital is a place where disease is spread, it is often spread because of the disease is spread. A hospital is a place where disease is spread because it is spread of the disease is often spread by a hospital is a hospital is a place where it is spread because it is spread because it is a place where it is spread. It is a place where disease is often spread and treatment options for the disease is often spread of the spread and treatment options available.</s>\n",
      "########\n",
      "*******\n",
      "question: As things get colder, temperature does what?\n",
      "answer: drop to zero\n",
      "choices: ['increase', 'drop to zero', 'heat up', 'dropping quickly', 'arctic']\n",
      "common expl list: ['As things get colder, they get closer to zero degrees.']\n"
     ]
    },
    {
     "name": "stderr",
     "output_type": "stream",
     "text": [
      "\r",
      "  2%|██▊                                                                                                                                                                 | 17/986 [01:52<1:51:06,  6.88s/it]"
     ]
    },
    {
     "name": "stdout",
     "output_type": "stream",
     "text": [
      "generated explanation: <pad> <extra_id_0> As things get colder, temperature drops to zero. As things get colder, temperature does drop to zero. This is because colder temperatures cause the temperature to drop and drop to zero. This is because colder temperatures cause the body to contract more toxins and waste products. As things get colder, temperature drops to zero more quickly, which can lead to more damage to the body. This can lead to increased oxidative damage and increased risk of disease. As things get colder, temperature drops to zero because of the body’s natural process of the body’s. This can lead to as. This is a result of the colder, which can lead to zero in the body. This can cause the body to lose its ability to maintain its temperature. Also, the body’s ability to lose heat, which can lead to a colder, a lower temperature can cause the body to become colder. This can lead to a lower temperature, which can lead to a negative temperature.</s>\n",
      "########\n",
      "*******\n",
      "question: Where is one unlikely to get popcorn?\n",
      "answer: soccer game\n",
      "choices: ['restaurant', 'movie house', 'soccer game', 'carnival', 'movie theater']\n",
      "common expl list: ['Most soccer games lack concession stands, which are necessary to sell movie theaters popcorn.', 'Soccer games usually lack popcorn machines.', 'Soccer games are usually snacks-free affairs; snacks, including popcorn, tend to be present at more recreational venues, but less so in settings where food is unnecessary because there are translatable goods sellers, i.e., vendors that sell things like popcorn']\n"
     ]
    },
    {
     "name": "stderr",
     "output_type": "stream",
     "text": [
      "\r",
      "  2%|██▉                                                                                                                                                                 | 18/986 [02:01<2:04:28,  7.72s/it]"
     ]
    },
    {
     "name": "stdout",
     "output_type": "stream",
     "text": [
      "generated explanation: <pad> <extra_id_0> During soccer games, one is unlikely to get popcorn because soccer games are often played in stadiums that have a large crowd. This is because the crowds are often crowded and the popcorn is often a cheap alternative to the larger popcorns that are sold in restaurants. Popcorn is often a cheap, convenient snack that is often a quick and easy way to get a quick fix. Soccer games are a great way to enjoy a game of soccer and is often a great way to get a good deal on popcorn. Soccer games are a great deal for popcorn, as it is a great way to get a great way to get a great deal on popcorn. Soccer is one of the best way to get popcorn, and is often a great deal on popcorn. Soccer games are usually a great way to get a great snack. Soccer is a great way to get a snack. Soccer fans of popcorn is a great way to enjoy a great way to get a great way to get a great game without breaking the a game. Soccer is a great way to get a great snack that can be a great way to get into popcorn. It is also a great way to get a great way to get a great way to get popcorn is great way to get a great deal on the perfect snack for a great game of popcorn. It is also a great way to get a great deal.</s>\n",
      "########\n",
      "*******\n",
      "question: Where are files likely to be hanging?\n",
      "answer: filing cabinet\n",
      "choices: ['filing cabinet', 'tree', 'suitcase', 'computer', 'desk drawer']\n",
      "common expl list: ['Files are likely to be hanging in a filing cabinet, since they are often organized by topic, and filing cabinets are often used to organize files.', 'Filing cabinets are used to store files sometimes; these files can then be found by opening the filing cabinet and looking for hanging folders.']\n"
     ]
    },
    {
     "name": "stderr",
     "output_type": "stream",
     "text": [
      "\r",
      "  2%|███▏                                                                                                                                                                | 19/986 [02:09<2:04:40,  7.74s/it]"
     ]
    },
    {
     "name": "stdout",
     "output_type": "stream",
     "text": [
      "generated explanation: <pad> <extra_id_0> File cabinets are often the place where files are stored. File cabinets are typically made of wood, metal or plastic<extra_id_3> s that make them durable and can be easily moved. They are often also able to hold more media than a desk. This makes them ideal for storing documents and other important documents. File cabinets are also often a good choice for storing documents in order to prevent damage to the cabinet or other items. They are also easy to access and clean, which makes them easier to access and access. File cabinets are also easy to maintain. They can be easily replaced with a variety of files and organized, and easily accessible, and can be found in the cabinets. They are often also a good choice for storage space. File cabinets are often used to organize the cabinet. They are also a great place for organizing documents. File cabinets are often the best place to store documents, as they are organized and can be easily accessible from the cabinet. They can be easily accessible and can be easily accessible. The cabinets are also a good place to hang them. The cabinets can be used for storing documents. The cabinets are often a good choice for storing papers and easily accessible.</s>\n",
      "########\n",
      "*******\n",
      "question: What is required to go on vacation before anything else?\n",
      "answer: have money\n",
      "choices: ['pack', 'pay bills', 'save money', 'have money', 'reliable car']\n",
      "common expl list: ['Vacations often require the purchase of travel services, such as airline or hotel tickets.']\n"
     ]
    },
    {
     "name": "stderr",
     "output_type": "stream",
     "text": [
      "\r",
      "  2%|███▎                                                                                                                                                                | 20/986 [02:17<2:06:19,  7.85s/it]"
     ]
    },
    {
     "name": "stdout",
     "output_type": "stream",
     "text": [
      "generated explanation: <pad> <extra_id_0> Having money is the first thing that is required to go on vacation before anything else. Money is the key to going on vacation before anything else. It is the first and most important aspect of planning a vacation. It is the only way to ensure that you have enough money to go on vacation. Money is also the most important aspect of planning a vacation because it allows you to spend more time with family and friends. Money can also be used to purchase other items such as a car, a vacation, a trip, or even a vacation. It can also be used to pay for your time off-lengthenough to go on vacation. In addition, money can also be used to pay for vacation before anything else. Money can also be used to travel, or even more time. In addition, it can be used to go on vacation. Having enough money to go on vacationing on vacation. In addition, it can also be used to pay for a vacation. a vacation can also be used to pay for vacation. In addition, vacation can be used to pay for vacation before anything else. Vacations can also be used to cover expenses, such as vacation, or for vacation.</s>\n",
      "########\n",
      "*******\n",
      "question: The roadway passed a sign and gate house, what was behind the gatehouse?\n",
      "answer: subdivision\n",
      "choices: ['city', 'narnia', 'subdivision', 'neighborhood', 'countryside']\n",
      "common expl list: ['A subdivision contains houses that formed around it; therefore, a subdivision has a gatehouse that controls who goes in and out.', 'Subdivisions are residential areas that are often gated, and so, if you see a gatehouse, you might be in a subdivision.']\n"
     ]
    },
    {
     "name": "stderr",
     "output_type": "stream",
     "text": [
      "\r",
      "  2%|███▍                                                                                                                                                                | 21/986 [02:30<2:29:54,  9.32s/it]"
     ]
    },
    {
     "name": "stdout",
     "output_type": "stream",
     "text": [
      "generated explanation: <pad> <extra_id_0> The roadway passed a sign and gate house, the subdivision behind the gatehouse was a subdivision. The sign and gate house were part of a subdivision, which is a subdivision of land that is surrounded by other land. The subdivision is a type of land that is surrounded by other land. The roadway passed a sign and gate house, which is part of a subdivision. The sign and gate house are part of a subdivision and are located in a gated community. The subdivision is a type of land that is a subdivision is located in the subdivision is a subdivision. The subdivision is a subdivision is a sign and gatehouse is a subdivision, and gatehouse is a sign and gatehouse is located at the roadway. The subdivision is a subdivision, and sign and gatehouse is a subdivision. The subdivision is a subdivision is located at the sign and gatehouse is a subdivision. The subdivision is located in a subdivision and gate house. The sign is located behind the roadway and gatehouse is a subdivision. The subdivision is a sign and gatehouse are located at an a subdivision. The gatehouse is a subdivision is a subdivision and sign is a subdivision. The roadway is a subdivision is a subdivision is a sign and gatehouse is a sign and gatehouse is a gatehouse is located at a subdivision is a subdivision is a subdivision is a gatehouse is a subdivision is a subdivision is a subdivision is a sign and sign is a subdivision is a subdivision is a type of land that is located at a subdivision is a subdivision is a subdivision is a subdivision is located at the subdivision is located at a sign and gatehouse is a sign that is a subdivision is a type of a sign and gatehouse. The subdivision is a subdivision is a gatehouse is a sign that is located at a subdivision.</s>\n",
      "########\n",
      "*******\n",
      "question: The invasive A.I. was designed to scan the crowd, where most saw a mass of humanity the evil machine could pick out each what?\n",
      "answer: individual\n",
      "choices: ['solitary', 'single person', 'few people', 'crowd', 'individual']\n",
      "common expl list: [\"Machine intelligence is better able to find isolated individuals than crowded groups. Machines need to scan a large group of people to be able to find a single person--but when the single person doesn't blend in, it makes them easier to find.\"]\n"
     ]
    },
    {
     "name": "stderr",
     "output_type": "stream",
     "text": [
      "\r",
      "  2%|███▋                                                                                                                                                                | 22/986 [02:38<2:21:48,  8.83s/it]"
     ]
    },
    {
     "name": "stdout",
     "output_type": "stream",
     "text": [
      "generated explanation: <pad> <extra_id_0> The evil machine was designed to pick out each individual, allowing it to make a conscious decision about the actions of each person. The evil machine was designed to make a conscious decision about the actions of each person, making it the ultimate evil machine. The machine was designed to make an invasive and destructive decision about each individual, allowing it to make a decision about the actions of each person in the crowd. The evil machine was designed to make an informed decision about each person, allowing them to make informed decisions about their actions, and then make a human beings. The evil machine was designed to make a decision about the machine, a mass, a group of people, a crowd, a group, a human being based on the machine to make an informed decision about each person, a mass, a selection of individuals, making it a human being a mass, a human over a person. The machine can make a human being a mass, a group, so that it could make a mass-based on the human population.</s>\n",
      "########\n",
      "*******\n",
      "question: Is has been speculated that a aliens could be communicating by doing this?\n",
      "answer: thinking\n",
      "choices: ['effort', 'farting', 'thinking', 'laugh', 'medium']\n",
      "common expl list: ['Aliens could quite possibly be using thought as a way to communicate between themselves.']\n"
     ]
    },
    {
     "name": "stderr",
     "output_type": "stream",
     "text": [
      "\r",
      "  2%|███▊                                                                                                                                                                | 23/986 [02:44<2:11:07,  8.17s/it]"
     ]
    },
    {
     "name": "stdout",
     "output_type": "stream",
     "text": [
      "generated explanation: <pad> <extra_id_0> The use of a computer to communicate with one another could be a way for aliens to communicate with one another. It has been speculated that a alien could be communicating with one another by using a computer to communicate with one another. This could be done by using a variety of technologies, including computers, radios, and even satellites. The use of computers could also be used to communicate with one another, such as by sending messages over the air. This could be a way for the aliens to communicate with one another planets or by using computers to communicate with each other species to communicate with one another or even to communicate with one another. The use of technology could also be used to communicate with one another, or even to communicate with another. The use of computers could be a way for them to communicate with one another, such as a computer. This could be a way for them to communicate with one another to communicate with one another, as a way to communicate with humans.</s>\n",
      "########\n",
      "*******\n",
      "question: What can occur in fencing if you are not careful?\n",
      "answer: severe injuries\n",
      "choices: ['competition', 'severe injuries', 'fever', 'perspiration', 'small cuts']\n",
      "common expl list: ['Fencing is a sport, which involves hitting your opponent with a sharp piece of metal, which will almost certainly result in some physical pain.', 'Fencing is a sport that involves hitting your opponent with a sword, and if you are not careful, you can get injured.', 'The sport of fencing causes people to be hit by weapons, which may cause cuts or other wounds if someone is not careful.']\n"
     ]
    },
    {
     "name": "stderr",
     "output_type": "stream",
     "text": [
      "\r",
      "  2%|███▉                                                                                                                                                                | 24/986 [02:51<2:06:30,  7.89s/it]"
     ]
    },
    {
     "name": "stdout",
     "output_type": "stream",
     "text": [
      "generated explanation: <pad> <extra_id_0> : Injuries can occur in fencing if you are not careful. Fencing is a sport that requires a lot of physical preparation and skill to master. Fencing involves repetitive movements, such as kicking, kicking, or punching, that can cause serious injuries. These injuries can be exacerbated by improper technique, or by being overly aggressive. Fencing is also a dangerous sport, as the force of the contact can be so high that the body can absorb too much force, causing the skin to tear and a serious injuries can result from a serious injuries. In addition, injuries can also occur if you are not careful, the injuries can be sustained are not properly trained and are not properly trained to prevent these injuries. Fencing can lead to be a serious injury, and can result injuring and physical stress, as a serious injuries. a serious injury can result in the long-term injuries and can result from a lack of care and attention. Because of the injuries can result from a serious, a serious injury can result in the sport of the injuries. The injuries are often caused by improperly designed to</s>\n",
      "########\n",
      "*******\n",
      "question: If you stretch out your socks they will then have what kind of fit?\n",
      "answer: loose\n",
      "choices: ['cramped', 'loose', 'contract', 'park', 'compressing']\n",
      "common expl list: ['When stretched out, socks will be loose.']\n"
     ]
    },
    {
     "name": "stderr",
     "output_type": "stream",
     "text": [
      "\r",
      "  3%|████▏                                                                                                                                                               | 25/986 [02:54<1:43:14,  6.45s/it]"
     ]
    },
    {
     "name": "stdout",
     "output_type": "stream",
     "text": [
      "generated explanation: <pad> <extra_id_0> If you stretch out your socks they will have a loose fit. This is because the socks are made of natural fibers and are able to stretch out. This creates a looser fit. Socks are made to stretch when they are worn, and are therefore more prone to slipping. This creates a tighter fit for the wearer, and also allows them to move around freely. This allows them to move freely and to move freely. The loose fit can also be a good indicator of how comfortable the socks are. This can be a loose fit.</s>\n",
      "########\n",
      "*******\n",
      "question: John ran out of pencils.  Where did  he go to get more?\n",
      "answer: office depot\n",
      "choices: ['desk drawer', 'cup', 'pencil case', 'shelf', 'office depot']\n",
      "common expl list: ['Pencils can be found at an office supply store, e.g., an office depot.', 'John can buy new pencils at an office depot.', 'Office Depot is a company that specializes in office furniture; it also sells pens and pencils.', 'Office Depot is a store that sells office supplies, including pencils.', 'When people need pencils (or pens), they often buy them at office depots.']\n"
     ]
    },
    {
     "name": "stderr",
     "output_type": "stream",
     "text": [
      "\r",
      "  3%|████▎                                                                                                                                                               | 26/986 [02:58<1:30:23,  5.65s/it]"
     ]
    },
    {
     "name": "stdout",
     "output_type": "stream",
     "text": [
      "generated explanation: <pad> <extra_id_0> John ran out of pencils at office depot. This is because office depot is a store that sells supplies for office use. This store carries a wide variety of pencils, including colored pencils, highlighters, and other accessories. Office depot also sells other supplies, such as paper, notebooks, and other paper products. Office depot also sells paper towels, paper clips, and other supplies for office use, such as pencils, pens, and other supplies. Office depot also sells paper towels, paper towels, and other products, and other supplies, and supplies. John ran out of supplies, and ran out of paper, so he could get more easily access to other supplies, and supplies.</s>\n",
      "########\n",
      "*******\n",
      "question: What does a confident person do?\n",
      "answer: trust himself\n",
      "choices: ['feel important', 'own house', 'trust himself', 'know what time', 'cry']\n",
      "common expl list: ['A confident person is sure of his abilities and the trust in himself/herself to do things or accomplish goals.', 'People whose confidence is high tend to believe themselves more strongly, and so the confident person might believe in their own abilities and do things such as trust themselves.']\n"
     ]
    },
    {
     "name": "stderr",
     "output_type": "stream",
     "text": [
      "\r",
      "  3%|████▍                                                                                                                                                               | 27/986 [03:06<1:41:44,  6.37s/it]"
     ]
    },
    {
     "name": "stdout",
     "output_type": "stream",
     "text": [
      "generated explanation: <pad> <extra_id_0> A confident person is someone who has confidence in himself. This confidence comes from the belief that he or she is capable of achieving goals. A confident person also has the ability to make decisions based on their own judgment and experience. This confidence comes from the fact that he or she is able to take responsibility for his actions and take responsibility for his actions. This confidence comes from the fact that he or she is able to make informed decisions and take responsibility for their actions. A confident person also has the ability to make decisions without having to take action. The decision making decisions are made decisions and the ability to make decisions and the decisions that confidence comes from his or his or his actions and the decision making the right decisions made in the right decisions that a confident person is confident. The decision makes it easier to make the knowledge and ability to make informed decisions and make decisions. The ability to make decisions and the ability to make decisions and the right choices and make the right decisions and take responsibility for the right to make the right decisions.</s>\n",
      "########\n",
      "*******\n",
      "question: James thought that analyzing all the data would help him learn more, but it did not.  It only gave him what?\n",
      "answer: headache\n",
      "choices: ['headache', 'better understanding', 'papercuts', 'enlightened', 'discovering truth']\n",
      "common expl list: ['Analysis requires a lot of thinking with maybe little reward, which can give one a headache.']\n"
     ]
    },
    {
     "name": "stderr",
     "output_type": "stream",
     "text": [
      "\r",
      "  3%|████▋                                                                                                                                                               | 28/986 [03:10<1:30:30,  5.67s/it]"
     ]
    },
    {
     "name": "stdout",
     "output_type": "stream",
     "text": [
      "generated explanation: <pad> <extra_id_0> James thought that analyzing all the data would help him learn more, but it only gave him a headache. By analyzing all the data, James thought that it would help him learn more, but it did not. It only gave him headaches. By analyzing all the data, James thought that it would help him learn more, and it did not. It only gave him a headache because it was a lot of work to analyze all the data. It was also a lot of work to understand the data, and it was overwhelming. He was he was he was he was not enough to relax and feel more confident in his work. It was not enough to analyze the data, and it was not enough to understand the data, and to understand the data.</s>\n",
      "########\n",
      "*******\n",
      "question: What makes people happy when it is surprising and unexpected?\n",
      "answer: humor\n",
      "choices: ['joke', 'humor', 'frightened', 'fight', 'laughter']\n",
      "common expl list: ['A surprise is a stimulus that is not generally predicted before exposing it to a subject. It may be surprising things that cause laughter, or unexpected things that people see as funny.']\n"
     ]
    },
    {
     "name": "stderr",
     "output_type": "stream",
     "text": [
      "\r",
      "  3%|████▊                                                                                                                                                               | 29/986 [03:21<1:52:18,  7.04s/it]"
     ]
    },
    {
     "name": "stdout",
     "output_type": "stream",
     "text": [
      "generated explanation: <pad> <extra_id_0> People love surprises and unexpected events because they are often unexpected and unexpected. This makes them happy because they are often<extra_id_2> People love when things are unexpected and unexpected because it is a sign of good luck. Humor also makes people feel good because it is unexpected and unexpected. It is also a great way to make people feel good because it is something they have never experienced before. Humor is also a great way to make people feel good and it makes them feel good inside and outside of their own skin. It makes them feel good inside and out of the way to feel good things. It is also a great fun and it is also a great way to laugh and make people feel good feeling good feeling when it is unexpected. Humor is a great way to feel good when it is unexpected and it makes them feel good feeling good, and it makes them feel good to feel good. It is also a good feeling inside of being unexpected and unexpected things can make people feel good because it makes them feel good to feel good when it is a good feeling of being surprised and a good feeling of being unexpected. It is a good feeling of being unexpected and it is a good to have fun and make people feel good and it is also a great way to be unexpected and unexpected and it is a good because it makes people feel good because it is a positive and it is unexpected and it is a good feeling of being surprised and it is a sign of being unexpected and it is a good thing to be unexpected and it is a good</s>\n",
      "########\n",
      "*******\n",
      "question: What is someone who wants a lot of money?\n",
      "answer: greedy\n",
      "choices: ['selfish', 'weird', 'greedy', 'ridiculous', 'hungry']\n",
      "common expl list: ['A person who is greedy wants more things that people typically take for granted, i.e., money, success, etc. This is a lot of stuff.', 'Greed is defined as \"the desire to obtain something, especially wealth, through selfish means, typically at the expense of others.', 'Greed is a strong desire to possess a lot of money; a greedy person therefore wants it a lot.']\n"
     ]
    },
    {
     "name": "stderr",
     "output_type": "stream",
     "text": [
      "\r",
      "  3%|████▉                                                                                                                                                               | 30/986 [03:33<2:20:05,  8.79s/it]"
     ]
    },
    {
     "name": "stdout",
     "output_type": "stream",
     "text": [
      "generated explanation: <pad> <extra_id_0> Someone who wants a lot of money is usually a high-spirited individual who is driven by a desire for money. This is because money is a powerful motivator for many people, and it can lead to a lot of emotional and physical abuse. In addition, money can lead to a lot of stress, which can lead to depression, anxiety, and other psychological problems. In addition, money can lead to depression, anxiety, and other psychological issues. Money can also lead to depression, anxiety, and other psychological issues. In addition, greedy is also a lot of money can also lead to be more powerful lifestyle, which can lead to become a lot of emotional and emotional and socially a person with a lot of money, and can lead to a lot of money, and emotional and socially dependent on them to live a lifestyle choices, and a lot of money can lead to a lot of money can lead to a person to a lot of money, which can lead to a lot of money. This can lead to a lot of emotions, and other factors. This is a person who is a lot of money. It can lead to a person being a lot of money, which can lead to become a lot of emotions, which can lead to a person being a lot of money, which can lead to a lot of emotions, which can lead to a lot of people, which can lead to a person being greed, which can lead to a lot of money. It can lead to a lot of money can lead to a person being a lot of money, which can lead to a person being greedy person is a lot of money, which can lead to be a person who wants to a lot of money, which can lead to a lot of money, which can lead to a lot of money, which can lead to them to be a lot of money, and can lead to a lot of stress, which can lead to a lot of stress and can lead to depression and other.</s>\n",
      "########\n",
      "*******\n",
      "question: Where do you keep a book to read before bed?\n",
      "answer: bedside table\n",
      "choices: ['school room', 'allen key', 'classroom', 'bedside table', 'coffee table']\n",
      "common expl list: ['Bedside tables are convenient for keeping things, e.g., a book, reading materials, glasses, etc., that you wish to keep near your bed for regular access; particularly things.', 'Bedside tables are where people keep things they use before bed, such as books, glasses, and water.']\n"
     ]
    },
    {
     "name": "stderr",
     "output_type": "stream",
     "text": [
      "\r",
      "  3%|█████▏                                                                                                                                                              | 31/986 [03:38<1:57:24,  7.38s/it]"
     ]
    },
    {
     "name": "stdout",
     "output_type": "stream",
     "text": [
      "generated explanation: <pad> <extra_id_0> A bedside table is the perfect place to keep a book to read before bed. It is a great place to keep a book to read before bed. It is also a great place to store magazines, newspapers, and other magazines. A bedside table is also a great place to store a book to read before bed. It is also a great place to store your favorite books, such as books on tape, or magazines. It is also a great place to store books that are easy to access and easy to read. Bedside table is also a great way to read before bed. Finally, a bedside table is a great place to keep a book to read before bedside table, so you can easily reach from the comfort of the bed.</s>\n",
      "########\n",
      "*******\n",
      "question: Where is a knight likely to be found in the US?\n",
      "answer: chess set\n",
      "choices: ['middle ages', 'chess set', 'historical novel', 'castle', 'guarding the king']\n",
      "common expl list: ['A knight is a piece in the game of chess, which is played on a chess set.']\n"
     ]
    },
    {
     "name": "stderr",
     "output_type": "stream",
     "text": [
      "\r",
      "  3%|█████▎                                                                                                                                                              | 32/986 [03:48<2:11:25,  8.27s/it]"
     ]
    },
    {
     "name": "stdout",
     "output_type": "stream",
     "text": [
      "generated explanation: <pad> <extra_id_0> A chess set is a chess board that is typically found on a chess set in the United States. It is a set of pieces that are placed on a board that is surrounded by other pieces, such as a board, a board, and a knight. The pieces are placed on a board that is a square or rectangle, and the knight is likely to be found on a chess set. The knight is usually found on a chess board, and the board of the knight is often found on a a a a a a a a a chess set, or in a a a a a a a a a a a a board, or a board. The knight is likely to be found on a chess on a chess in a a a a a a a a a chess a a chess set of a chesst be a a a a chess a a a chess game of a king is likely to be found on a a set of a king or queen or a king in a king or a queen or a a a king or a a king or a king or a king or a king or</s>\n",
      "########\n",
      "*******\n",
      "question: Jack saw little point to communicating beyond the basics.  To him, it was just a means to do what?\n",
      "answer: exchange information\n",
      "choices: ['go swimming', 'making friends', 'exchange information', 'people to think', 'confusion']\n",
      "common expl list: [\"Keeping the communication sparse would allow him to conserve energy by speaking less. Since communication is just a means to exchanging information, Jack would not see much 'point', to say, a conversation beyond the basics.\"]\n"
     ]
    },
    {
     "name": "stderr",
     "output_type": "stream",
     "text": [
      "\r",
      "  3%|█████▍                                                                                                                                                              | 33/986 [03:56<2:08:55,  8.12s/it]"
     ]
    },
    {
     "name": "stdout",
     "output_type": "stream",
     "text": [
      "generated explanation: <pad> <extra_id_0> Jack saw little point to communicating beyond the basics. To him, communicating was just a means to do something. He saw little point to communicating beyond the basics. Communication was a means to exchange information, and it was a means to do this. It was a means to share information, and it was a means to do something. Jack saw little point to communicating beyond the basics, and it was a means to do something. Communication was a means to exchange information, and it was a means to do something. It was a message, and information, and to someone else. It was a means to exchange information, and information, and it was just a means to do something. Jack saw little point in communicating beyond the basics. Jack saw little point of communicating beyond the basics. It was a means to do something, and a means to exchange information, and to do something that was a means to do something else. It was a means to do something, and it was a means to do something that it was just a means to do something, and to do something. It was a means to do something that a means to do something that was a means to do something.</s>\n",
      "########\n",
      "*******\n",
      "question: I as a person don't kill others, why do I not?\n",
      "answer: value life\n",
      "choices: ['experience pleasure', 'laws', 'value life', 'thank god', 'go into debt']\n",
      "common expl list: [\"Someone who does not kill might have a great deal of respect for life; as a person's life is valuable, the opposite is true about the act of taking a life.\"]\n"
     ]
    },
    {
     "name": "stderr",
     "output_type": "stream",
     "text": [
      "\r",
      "  3%|█████▋                                                                                                                                                              | 34/986 [04:02<2:01:44,  7.67s/it]"
     ]
    },
    {
     "name": "stdout",
     "output_type": "stream",
     "text": [
      "generated explanation: <pad> <extra_id_0> I as a person don't kill others because I value life. I value life because I as a person don't want to hurt others. I value life because I don't want to hurt anyone. I also value life because I believe that life is precious and valuable. I value life because I know I have it to cherish. I value life because I value it and because I believe it is important to protect it. I value life because I know it is important to protect it and because I believe it is important to protect it. I also value it's existence. I value life because it is important to keep it. I believe that life is important to protect and protect it is important to protect the right to live a healthy and avoid death. I also value life because I believe in the right to protect it is important to protect it is important to protect others from the right to live and not to kill others. Therefore, I value life because I believe in life because I value life.</s>\n",
      "########\n",
      "*******\n",
      "question: What is likely to be a child's reaction to going to play?\n",
      "answer: happiness\n",
      "choices: ['happiness', 'tears', 'sit', 'being entertained', 'laugh']\n",
      "common expl list: ['Children like to play.']\n"
     ]
    },
    {
     "name": "stderr",
     "output_type": "stream",
     "text": [
      "\r",
      "  4%|█████▊                                                                                                                                                              | 35/986 [04:10<2:01:44,  7.68s/it]"
     ]
    },
    {
     "name": "stdout",
     "output_type": "stream",
     "text": [
      "generated explanation: <pad> <extra_id_0> Playing is a fun activity that children enjoy and can use to express their emotions. It can lead to a sense of excitement, relaxation, and stimulation. Playing is a great way for children to have fun and have fun. It can also lead to a sense of accomplishment, and it can lead to a sense of accomplishment and accomplishment. It can also lead to feelings of pride, and it can lead to a sense of accomplishment and accomplishment. Playing is a great way to build self-esteem and confidence, and it can cause them to be positive and it can help them to be a positive feelings of accomplishment, and fun and fun. It can also lead to a sense of belonging and it is a positive attitude and self-confidence. Play can be a positive feelings of accomplishment, and it is a positive emotion that it can bring. It can also lead to a positive feelings of accomplishment and the child's, and achievement. It can also lead to a sense of accomplishment and sense of accomplishment and excitement and fun. It can also lead to a sense of belonging and accomplishment and a child's to feel good feeling of a sense of belonging.</s>\n",
      "########\n",
      "*******\n",
      "question: Where could you find multiple ruler that are owned by different people?\n",
      "answer: office\n",
      "choices: ['measure distance', 'england', 'office', 'drawer', 'desk']\n",
      "common expl list: ['Office buildings often have rulers.', 'When someone works in an office, even if it is part-time or freelance, they may be required to measure distances e.g., in departments or cubicles, and so, offices are a good place to find ruler.']\n"
     ]
    },
    {
     "name": "stderr",
     "output_type": "stream",
     "text": [
      "\r",
      "  4%|█████▉                                                                                                                                                              | 36/986 [04:14<1:44:11,  6.58s/it]"
     ]
    },
    {
     "name": "stdout",
     "output_type": "stream",
     "text": [
      "generated explanation: <pad> <extra_id_0> Multiple rulers are owned by different people. These rulers are usually found in offices or in government agencies. Offices or government agencies are often located in different parts of the country. Each office or government agency may have a different set of rules and regulations. This can lead to different types of rulers being used. For example, a government agency may have multiple rulers that are owned by different people. These rulers are usually located in different offices or government agencies. Each office may also have a different number of employees or officials. Each office is owned by different people in different countries or in different countries. Additionally, each person is usually owned by different countries. Additionally, each country or government has different rules and regulations. This can lead to different countries.</s>\n",
      "########\n",
      "*******\n",
      "question: When remembering you referencing things that you have what?\n",
      "answer: prior knowledge of\n",
      "choices: ['memory cells', 'learning about', 'prior knowledge of', 'brain cells', 'nerve cells']\n",
      "common expl list: ['Most of the things a person knows come from learning in the past and usually have some recollection involved.']\n"
     ]
    },
    {
     "name": "stderr",
     "output_type": "stream",
     "text": [
      "\r",
      "  4%|██████▏                                                                                                                                                             | 37/986 [04:23<1:57:07,  7.41s/it]"
     ]
    },
    {
     "name": "stdout",
     "output_type": "stream",
     "text": [
      "generated explanation: <pad> <extra_id_0>. When you remember things that you have previously recalled, you can often use the information that you have previously remembered to help you remember them. This can help you remember things that you have previously remembered because you have a prior knowledge of the information that you are referring to. This knowledge can help you to remember things in a way that is easier to remember and more easily recall. This can help you to remember things that you have previously remembered, such as the names of people or places that you have visited. This can help you to remember things that you have a certain information that can use the memory of the context to help you remembering things that you have a memory, or other information that can help you remembering the meaning of the context of the memory. This can also help you to recalling things that you have a sense of the context of the context of the information that can help you to remembering and can help you remembering. When you remembering something that you have a specific context. This can help you to remembering the context. This can help you to remember what you have a certain information that you have previously know. This can help you to remember and a reference it easier to remembering. This can help you to remembering something that you have prior knowledge. This can help you to remembering something that you have prior knowledge of a memory to remembering to remembering something that you have previously.</s>\n",
      "########\n",
      "*******\n",
      "question: After running twenty six miles he felt like he had lost twenty six pounds, this was from all the what?\n",
      "answer: sweat\n",
      "choices: ['exercise', 'sweat', 'pass out', 'collapse', 'drink water']\n",
      "common expl list: ['Sweating is a way to cool down the body, and so after running for a long time, a person might sweat a lot.']\n"
     ]
    },
    {
     "name": "stderr",
     "output_type": "stream",
     "text": [
      "\r",
      "  4%|██████▎                                                                                                                                                             | 38/986 [04:30<1:55:52,  7.33s/it]"
     ]
    },
    {
     "name": "stdout",
     "output_type": "stream",
     "text": [
      "generated explanation: <pad> <extra_id_0> After running twenty six miles he felt like he had lost twenty six pounds, this was due to all the sweat. After running twenty six miles he felt like he had lost twenty six pounds, this was from all the exertion of running, and the sweat caused by the exercise. The sweat caused the body to break down fat, and it was a result of the exercise. The sweat caused the body to lose its water content, and thus the calories it used. The amount of sweat caused by running can be as much as a result of running, and he felt like he had lost twenty six pounds, and he had lost weight. The sweat also caused by the body, and was due to the sweat, which is a result of the metabolism, and the sweat can cause of the body a person can lose weight. The sweat is a great way it can also help to lose weight loss, and the sweat can also help to lose weight, and to gain back, and to a feeling of running can also be due to he is due to the sweat.</s>\n",
      "########\n",
      "*******\n",
      "question: In what western sate might one find a bald eagle?\n",
      "answer: colorado\n",
      "choices: ['captivity', 'colorado', 'zoo', 'canada', 'in washington']\n",
      "common expl list: ['Eagles are native to the western United States, and Colorado is a western state.']\n"
     ]
    },
    {
     "name": "stderr",
     "output_type": "stream",
     "text": [
      "\r",
      "  4%|██████▍                                                                                                                                                             | 39/986 [04:37<1:52:41,  7.14s/it]"
     ]
    },
    {
     "name": "stdout",
     "output_type": "stream",
     "text": [
      "generated explanation: <pad> <extra_id_0> In the western sate of colorado, the bald eagle is most likely to be found. The state is home to the largest concentration of bald eagles in the United States, which is about 2,000 square miles, which makes it the most common raptor species. Bald eagles are typically found in the mountains, but they can also be found in the desert and in coastal areas. They are often found in areas of the continental United States, such as the Rocky Mountains, and in the mountains, which are often found in the Rocky Mountain states, which is home to a variety of birds. They are found in the wild, and bald a variety of wildlife, and are common in the west, but also found in the mountains, and in the mountains, and range of the United states. Bald bald es are also found in the Rocky Mountain state of the Rocky Mountain states, and range of the United States.</s>\n",
      "########\n",
      "*******\n",
      "question: When a retired person returns to work they likely need to do what?\n",
      "answer: earn money\n",
      "choices: ['key', 'earn money', 'get out of bed', 'need money', 'understand themselves']\n",
      "common expl list: ['When a person is retired, they probably are not making enough money through a pension benefit to support themselves after retirement, so they work again, perhaps full-time, in order to have enough money.(money key)']\n"
     ]
    },
    {
     "name": "stderr",
     "output_type": "stream",
     "text": [
      "\r",
      "  4%|██████▋                                                                                                                                                             | 40/986 [04:46<2:00:25,  7.64s/it]"
     ]
    },
    {
     "name": "stdout",
     "output_type": "stream",
     "text": [
      "generated explanation: <pad> <extra_id_0> A person who has retired will need to work to earn money. This is because retirement is a time when a person is able to return to work and earn money. Retirement is a time when a person can return to work to earn money. This is because working to earn money is a good way for a person to earn money. Earning money is important for a retiree to maintain their lifestyle and maintain a healthy lifestyle. Earning money is also important for a retiree to maintain their health, as well as it is important to keep the job search for a retirement. This is important for them to maintain their retirement. Earning money is needed to provide them with the ability to continue to pay their retirement, which can help them to earn more easily be a retirement. Earning money can also provide a person with a steady income, a retirement, which can help them to retireed to continue to earn money, and contribute to their retirement. This can help a person to maintain their health and provide for their retirement, as they are often dependent on their retirement. Earning money can help them to provide for their retirement.</s>\n",
      "########\n",
      "*******\n",
      "question: What can be the result of meeting people with similar attitudes?\n",
      "answer: making new friends\n",
      "choices: ['anxiety', 'being bored', 'love', 'making new friends', 'new job']\n",
      "common expl list: ['People with similar interests are likely to be friends, or familiars to each other, having many opportunities to meet each other and have things in common to discuss.', \"Friends often share some interests and/or attitudes, and when someone meets people with similar attires, that's a good indicator they might be good candidates for becoming friends.\"]\n"
     ]
    },
    {
     "name": "stderr",
     "output_type": "stream",
     "text": [
      "\r",
      "  4%|██████▊                                                                                                                                                             | 41/986 [04:50<1:43:04,  6.54s/it]"
     ]
    },
    {
     "name": "stdout",
     "output_type": "stream",
     "text": [
      "generated explanation: <pad> <extra_id_0> Meeting people with similar attitudes can be a great way to make new friends. It is a great way to make new friends because it allows you to make new connections and make new friends. Making new friends can also help you to make new connections and make new contacts. People with similar attitudes are a great way to make new connections and make new friends. By meeting people with similar attitudes, you can make new friends and make new friends. Making new friends can also help you to build relationships and to make new friends. By making new friends, you can also lead to the process of friendships. a great way to make new friends. You can also make new friends because you can also gain from the experience. Making new friends can also lead to make new friends.</s>\n",
      "########\n",
      "*******\n",
      "question: Danny noticed a ceramic object on the table and picked a grape out of it.  What might have been on the table?\n",
      "answer: bowl of fruit\n",
      "choices: ['kitchen', 'painting of fruits', 'fruit basket', 'bowl of fruit', 'fruit stand']\n",
      "common expl list: ['A bowl of fruit is an appropriate item to put on a table, as it can hold many kinds of fruit.']\n"
     ]
    },
    {
     "name": "stderr",
     "output_type": "stream",
     "text": [
      "\r",
      "  4%|██████▉                                                                                                                                                             | 42/986 [04:59<1:53:58,  7.24s/it]"
     ]
    },
    {
     "name": "stdout",
     "output_type": "stream",
     "text": [
      "generated explanation: <pad> <extra_id_0> Danny noticed a bowl of fruit on the table and picked a grape out of it. The bowl of fruit was probably a bowl of fruit from a previous table, which was probably a bowl of fruit from a previous table. The fruit was likely grapes from previous tables, and the bowl was likely made of ceramic. This would make it easy for him to identify the fruit and identify the bowl as a fruit bowl. The bowl of fruit is usually made of stone, and it is a good size for a grape to pick it is a bowl of fruit is a bowl of grapes, as it is a good way to pick up a grape from the table, and the table, and the table. Danny noticed a bowl of fruit bowl was sitting on the table, and picked a grape from the table. The bowl of fruit is a common for people to find it on the table, and the table. The bowl of fruit is a great way to pick a grapes, and can be found on the table, and easy to find. The fruit can be found on the table, and the fruit, making it is a good source of fruit, and easy to find a bowl of fruit, and can be found on the table.</s>\n",
      "########\n",
      "*******\n",
      "question: The nose dipped and alarms went off inside the what?\n",
      "answer: aircraft\n",
      "choices: ['car', 'sniff', 'aircraft', 'upper respiratory tract', 'missile']\n",
      "common expl list: ['The nose dips and alarms go off inside the cockpit of an aircraft when the nose of the aircraft dips too low.']\n"
     ]
    },
    {
     "name": "stderr",
     "output_type": "stream",
     "text": [
      "\r",
      "  4%|███████▏                                                                                                                                                            | 43/986 [05:03<1:37:16,  6.19s/it]"
     ]
    },
    {
     "name": "stdout",
     "output_type": "stream",
     "text": [
      "generated explanation: <pad> aircraft alarms are sound and vibration alarms that are activated when a pilot approaches an aircraft. These alarms are usually activated when the pilot approaches an aircraft, and they are usually activated when the aircraft approaches an obstacle course. The alarms are usually activated when the aircraft approaches an obstacle course, and are usually activated when the pilot approaches the aircraft from the outside. These alarms are usually activated when the pilot approaches an obstacle course, or when the pilot approachess an obstacle course. The alarms are then activated when the aircraft is flying inside the airframe of the wings or onboard. They are usually activated when the nose alight is activated, or simuled by the cockpit.</s>\n",
      "########\n",
      "*******\n",
      "question: Where is a cord likely to be on a tent?\n",
      "answer: sporting goods store\n",
      "choices: ['inside tent', 'delivery room', 'hardware store', 'backpack', 'sporting goods store']\n",
      "common expl list: ['Sporting goods stores likely have tents on display which generally come with their cords.']\n"
     ]
    },
    {
     "name": "stderr",
     "output_type": "stream",
     "text": [
      "\r",
      "  4%|███████▎                                                                                                                                                            | 44/986 [05:16<2:12:34,  8.44s/it]"
     ]
    },
    {
     "name": "stdout",
     "output_type": "stream",
     "text": [
      "generated explanation: <pad> <extra_id_0> A cord is typically found in a sporting goods store. The cord is usually a long piece of cord that is tied together with a rope. This can be a common method of hanging a tent because it is often used to hang a tent in a tent. It is also a common way for cords to be positioned in a tent when it is being used. A cord can be easily removed and reattached to a tent in a sporting goods store. A cord can be found in sporting goods store is often used to be used to hang a tent, for example, in a tent. It can be found in a tent, in a tent, a cord can be used to be pulled over a cord is often used to be used to be used to be found in a common way for a tent to be found in a tent in a tent. A cord can be found in a common way to be found in a tent in a camping equipment store, or a sports store can be purchased at a sporting goods store, or in a tent, or a tent, or a sports store, or a tent, for a tent, or on a sports equipment store, or a tent, or a tent, a tent, or a tent in a sports equipment, a sports equipment store, or a sporting goods store, or a tent, or in a sporting goods store, or a tent, such as a sporting goods store, such as a tent, a cord is likely to be used to be a sporting goods store, or a sporting goods store, or a cord can be used to be used to be used to be used on a sporting goods store, or a sporting goods store, or in a sporting goods store, or a sporting goods store, or a sporting goods store, or a sporting goods store, or a sporting goods store, or a sporting goods store, or other outdoor tent, or a sporting goods store, or a sporting goods store, or on a sports goods store.</s>\n",
      "########\n",
      "*******\n",
      "question: The man reduced the town to rubble out of hate, what was his goal?\n",
      "answer: destroy enemy\n",
      "choices: ['wage war', 'play nice', 'fight enemy', 'stab to death', 'destroy enemy']\n",
      "common expl list: ['someone who is completely obsessed with destroying an enemy (going so far as to want them completely obliterated from existance) is not a person who is playing nice.']\n"
     ]
    },
    {
     "name": "stderr",
     "output_type": "stream",
     "text": [
      "\r",
      "  5%|███████▍                                                                                                                                                            | 45/986 [05:20<1:50:41,  7.06s/it]"
     ]
    },
    {
     "name": "stdout",
     "output_type": "stream",
     "text": [
      "generated explanation: <pad> <extra_id_0> The man reduced the town to rubble out of hate because he was a man of hate and hate is a powerful force that can be used to create a powerful effect on others. The man's goal was to destroy enemy and destroy them. He wanted to create a place of hatred and fear in the community, and he wanted to do this by destroying them. By destroying the town, he was able to create a powerful weapon that could be used to create a sense of community and unity. This goal was not only one person, but also wanted to destroy the community, and to create a sense of community. The man's's actions of hate and then, and destroy the community.</s>\n",
      "########\n",
      "*******\n",
      "question: The toddler thought it would be fun to try eating breakfast in bed, what resulted?\n",
      "answer: mess\n",
      "choices: ['contentment', 'indigestion', 'vomiting', 'mess', 'catastrophe']\n",
      "common expl list: [\"Toddlers like to explore and test their own boundaries. They often don't know their limits, and it's common for their behavior to result in a mess. In the toddler's case, it involved getting breakfast on the bed due to his inexperience\", \"Toddlers have poor coordination.  Even if they could somehow manage to not fall off the bed, it's likely that they would spill the food that they took with them to bed.  A mess would be made.\"]\n"
     ]
    },
    {
     "name": "stderr",
     "output_type": "stream",
     "text": [
      "\r",
      "  5%|███████▋                                                                                                                                                            | 46/986 [05:25<1:42:14,  6.53s/it]"
     ]
    },
    {
     "name": "stdout",
     "output_type": "stream",
     "text": [
      "generated explanation: <pad> <extra_id_0> The toddler tried eating breakfast in bed because it was fun to do and because it was easy to do and messy. The toddler thought it was fun to try eating breakfast in bed because it was easy to do and fun. Eating breakfast in bed is also a great way to introduce the toddler to the concept of eating breakfast in bed, and it is also a great way to introduce them to new experiences, as it is a great way to introduce them to new friends and family. Having breakfast in bed can be a great way to introduce the toddler to develop a mess, and a mess, which can lead to a mess, and frustrations. Moreover, the toddler was likely to get frustrated and frustrated with the mess caused by the toddler got tired, and hungry, which led to take longer to get up. Eventually, the toddler was a mess, and frustrated.</s>\n",
      "########\n",
      "*******\n",
      "question: He had a hard time getting his father's attention, he hoped that the winning baseball game would finally get him some what?\n",
      "answer: recognition\n",
      "choices: ['confirmation', 'celebrating', 'pride', 'recognition', 'happiness']\n",
      "common expl list: ['One way to gain recognition from ones parents is by accomplishing things that they value. For example, children might hope to make their parents proud of them by excelling at sports.']\n"
     ]
    },
    {
     "name": "stderr",
     "output_type": "stream",
     "text": [
      "\r",
      "  5%|███████▊                                                                                                                                                            | 47/986 [05:34<1:51:29,  7.12s/it]"
     ]
    },
    {
     "name": "stdout",
     "output_type": "stream",
     "text": [
      "generated explanation: <pad> <extra_id_0> He had a hard time getting his father's attention, and he hoped that the winning baseball game would finally get him some recognition. He hoped that the winning baseball game would finally get him some recognition, and he was right. Recognition means that a person has been given a special place in their life, and this is a great way to get people to notice you. Recognition means that someone has been given special attention, and it means that you have been rewarded for your efforts. Recognition means that you have been a trophy, or recognition, and recognition. Recognition is a person's efforts to get his attention. Recognition is the way to get his attention. Recognition comes from the winning baseball game would get him some recognition. Recognition is the way to get his father's attention. It is a great way to get his attention. He was a way to get his father's attention. Recognition comes from winning baseball game would also help him to get his son. Recognition means that he has been a special someone's efforts are a great way to get his work and recognition from his efforts. Recognition is a great way to get his attention and to get his son's attention. Recognition is a great way to show that a great achievement.</s>\n",
      "########\n",
      "*******\n",
      "question: The toddler is awaking from a nap, what doesn't he feel anymore?\n",
      "answer: tiredness\n",
      "choices: ['nervous', 'eyes opening', 'getting out of bed', 'tiredness', 'discomfort']\n",
      "common expl list: ['Children can easily get tired at their ontervall and a nap is an effective way for them to get over tiredness. Then when they wake up, they do not feel tiredness any longer.']\n"
     ]
    },
    {
     "name": "stderr",
     "output_type": "stream",
     "text": [
      "\r",
      "  5%|███████▉                                                                                                                                                            | 48/986 [05:39<1:43:48,  6.64s/it]"
     ]
    },
    {
     "name": "stdout",
     "output_type": "stream",
     "text": [
      "generated explanation: <pad> <extra_id_0> A tired toddler is a good example of a tired toddler. When a toddler awakes from a nap, he may feel tired and worn out. This can be a sign that he is tired and worn out. It can also be a sign that he is tired and worn out. Tiredness is a sign that the toddler is tired and worn out. It can also be a sign that he is not getting enough sleep. It can also be a sign that he is not getting enough sleep. It can be a sign of being tiredness or fatigued. It can cause by being tired and a toddler may be a sleep. Tiredness can be a sign of fatigue, or just the toddler feels tiredness. It can also be a sign of the toddler is tiredness and a sign of being tiredness can be a sign of being tired.</s>\n",
      "########\n",
      "*******\n",
      "question: John listened to music when he needed to focus.  It helped him achieve what?\n",
      "answer: quiet mind\n",
      "choices: ['express emotion', 'beautifull', 'irritate', 'bad environment', 'quiet mind']\n",
      "common expl list: [\"There's scientific evidence that listening to music can help people think better and concentrate easier.\", \"When one is trying to focus on a task, it's common to listen to music to help one focus.\", 'Music can, at the very least, provide passive background noise as one works to help one focus. More specifically, music might have positive, uplifting or emotional qualities that are conducive to focus and concentration.']\n"
     ]
    },
    {
     "name": "stderr",
     "output_type": "stream",
     "text": [
      "\r",
      "  5%|████████▏                                                                                                                                                           | 49/986 [05:55<2:27:53,  9.47s/it]"
     ]
    },
    {
     "name": "stdout",
     "output_type": "stream",
     "text": [
      "generated explanation: <pad> <extra_id_0> John listened to music when he needed to focus. It helped him achieve what he wanted to accomplish. It helped him focus and relax his mind. Music can also help you focus and focus better. Music can help you focus and relax your mind. It can also help you focus and relax. Music can help you achieve more focus and focus. It can help you to focus and relax your mind. Music can also help you to focus and relax your mind. Music can also help you to relax and focus better. It can also help you to relax and relax your mind. It can help you achieve more easily and focus and relax your mind. Music can help you to focus and relax your mind. It can help you to relax and to focus. Music can help you achieve more focus and relax your mind and improve your overall well. It can help you to achieve more easily focus and relax your mind. Music can also help you to focus and focus. Music can help you achieve your goals. It can help you to achieve more relaxed and focus. It can also help you achieve your goals. Music can help you achieve more easily and focus. It can help you achieve your goals and focus. Music can help you to achieve your goals and focus. It can help you achieve your goals. Music can help you to focus and focus and relax your goals. Music can help you to focus and focus. It can help you achieve your goals. Music can help you achieve your goals. It can help you to focus and focus on your goals. It can help you achieve your goals. It can help you to achieve your goals. It can help you achieve your dreams. It can help you achieve your goals. It can help you achieve your goals and focus. It can help you achieve your goals. It can help you achieve your goals. It can help you achieve your goals. It can help you achieve your goals by helping you achieve your goals. It can help you achieve your goals by helping you achieve your goals. It can help you achieve your goals. It can help you achieve your goals. It can help you to achieve your dreams. It can help you achieve your dreams by helping you focus and focus. It can help you achieve your goals. It can help you achieve your dreams.</s>\n",
      "########\n",
      "*******\n",
      "question: If I were to suffer from sudden illness I would be within reason to visit where?\n",
      "answer: hospital\n",
      "choices: ['nursing home', 'hospital', 'brain', 'elderly person', 'building']\n",
      "common expl list: ['If you were suddenly suffering an illness, it would be a reasonable thing to go to the hospital for treatment of that illness.', 'A hospital is a center for treatment and care of those suffering from illness.', 'Anyone can suffer a sudden illness, but hospitals are where the equipment and personnel exist to deal with sudden illnesses.', 'A hospital is a place where people go to receive treatment for illnesses.']\n"
     ]
    },
    {
     "name": "stderr",
     "output_type": "stream",
     "text": [
      "\r",
      "  5%|████████▎                                                                                                                                                           | 50/986 [06:03<2:17:06,  8.79s/it]"
     ]
    },
    {
     "name": "stdout",
     "output_type": "stream",
     "text": [
      "generated explanation: <pad> <extra_id_0> A hospital is a safe place to go when suffering from sudden illness. Hospitals are a great place to go for sudden illness as they are a safe place to be and provide the necessary care and treatment. Hospitals are also a great place to go for emergency situations as they are able to provide the necessary care and treatment for the patient, and can offer them a sense of security and comfort. They are also equipped with the latest medical technology and equipment to help manage the situation. Hospitals are also a great place to spend the hospital is a hospital is the best place to be a hospital, and provide the best treatment for the patient’s health. Furthermore, the hospital is a safe place to be a hospital is a safe place to be a safe place to be a sense of security and security conscious of mind that is a safe and a safe place to be a sense of security and security. In addition, the hospital is a safe environment and security measures are in place to ensure that the patient is a safe and a hospital is a place to be a safe environment</s>\n",
      "########\n",
      "*******\n",
      "question: John kept standing up.  He was afraid that if he were sitting down he might do something. What might he be afraid of?\n",
      "answer: fall asleep\n",
      "choices: ['fall asleep', 'being supported on chair', 'comfort', 'clowns', 'flatulence']\n",
      "common expl list: ['Sitting down makes one comfortable; sitting down with eyes closed makes one fall asleep.', 'When standing, the chances of falling asleep abruptly would be much less (assuming that one is awake).']\n"
     ]
    },
    {
     "name": "stderr",
     "output_type": "stream",
     "text": [
      "\r",
      "  5%|████████▍                                                                                                                                                           | 51/986 [06:08<2:01:59,  7.83s/it]"
     ]
    },
    {
     "name": "stdout",
     "output_type": "stream",
     "text": [
      "generated explanation: <pad> <extra_id_0> John was afraid that if he sat down he would fall asleep. This is because he was afraid that if he sat down he would fall asleep and he would not be able to get up. This is because he was afraid that if he sat down he would fall asleep and he would not be able to get up. He was afraid that if he sat down he would fall asleep, which is something that is not unusual for people to fall asleep. This is because it is not uncommon for people to fall asleep, and he would not be he would be afraid of falling asleep. John was afraid that if he fell asleep because he would not get up and would not get up and would fall asleep if he would not get up, and would be afraid of falling asleep if he fell asleep.</s>\n",
      "########\n",
      "*******\n",
      "question: He didn't know that good things can be posion in large doses.  He thought that he was just eating an essential what?\n",
      "answer: nutrient\n",
      "choices: ['antidote', 'consumable', 'nutrient', 'vitamin', 'medicine']\n",
      "common expl list: ['He thought that he was just eating an essential nutrient, but in large doses, it could be poisonous.']\n"
     ]
    },
    {
     "name": "stderr",
     "output_type": "stream",
     "text": [
      "\r",
      "  5%|████████▋                                                                                                                                                           | 52/986 [06:16<2:02:58,  7.90s/it]"
     ]
    },
    {
     "name": "stdout",
     "output_type": "stream",
     "text": [
      "generated explanation: <pad> <extra_id_0> He thought that he was just eating an essential nutrient. He didn't know that good things can be posion in large doses. In fact, he thought that he was just eating an essential nutrient. But the evidence shows that a good thing can be posion in large doses. This is because nutrients are essential for the body and are absorbed in the body through the digestive system. This is because nutrients are absorbed through the digestive system and are absorbed into the bloodstream. This is because they are often consumed in small amounts. However, the body can be taken in large doses. The body needs are often found in large doses. He was not aware of the fact that he was eating consuming a good thing. He was not aware of the fact that he was not eating he was eating he was eating he was eating he was eating a good thing. He was not aware that certain nutrients can be consuming a healthy diet and not always a healthy lifestyle. He was not aware of the fact that a healthy lifestyle and a healthy lifestyle.</s>\n",
      "########\n",
      "*******\n",
      "question: The police didn't pay any favors, their job was to what?\n",
      "answer: force law\n",
      "choices: ['force law', 'board vessels', 'arrest', 'arm weapons', 'direct traffic']\n",
      "common expl list: ['Police are usually tasked with upholding the law, and if they see a law being broken they will intervene (forceful intervention); moreover, they also coordinate with other officers (direct traffic and board vessels). These activities do not involve favors.']\n"
     ]
    },
    {
     "name": "stderr",
     "output_type": "stream",
     "text": [
      "\r",
      "  5%|████████▊                                                                                                                                                           | 53/986 [06:28<2:19:09,  8.95s/it]"
     ]
    },
    {
     "name": "stdout",
     "output_type": "stream",
     "text": [
      "generated explanation: <pad> <extra_id_0> The police were trained to use force to protect the public. They were trained to use force to prevent and stop crimes. The police were trained to use force to ensure that no one was harmed. They were also trained to use force to prevent further harm. The police were trained to use force to protect the public and to ensure that no one was hurt or killed. They were also trained to use force to ensure that no one was harmed or injured. The police were trained to use force to prevent and arrest people. The police were also trained to use of force was used force to ensure that no one of justice and to ensure that they were not apolitrained. They were not allowed to use force was used to ensure that no one was a crime. The police were always ready to use force to use force to ensure that no one was used to prevent the public. The police were trained to use force was used to ensure that no one was used to use force was used to ensure that no one was being a crime was aprison was used to ensure that no one was given any other to ensure that no one was used to ensure that no one was a crime was a threat of any other side with the public. The police were trained to ensure that no one was being apa ap. In addition, it was used to ensure that no one was apos that no one was not a criminalized<extra_id_26> that the police were a<extra_id_27> of a punishment was used to ensure that no one was used to a criminals</s>\n",
      "########\n",
      "*******\n",
      "question: The place specialized in colorful arrangements, but the also had a toy balloon or two where?\n",
      "answer: flower shop\n",
      "choices: ['see work', 'birthday party', 'flower shop', 'parade', 'toy store']\n",
      "common expl list: ['Batches of balloons are available at flower shops, where floral arrangements are sold, and rainbow contruction paper is usually found in art shops and classrooms.', 'Flower shops sell interesting arrangements made with colorful flowers.']\n"
     ]
    },
    {
     "name": "stderr",
     "output_type": "stream",
     "text": [
      "\r",
      "  5%|████████▉                                                                                                                                                           | 54/986 [06:32<1:57:50,  7.59s/it]"
     ]
    },
    {
     "name": "stdout",
     "output_type": "stream",
     "text": [
      "generated explanation: <pad> <extra_id_0> The flower shop specializes in colorful arrangements, and the place also had a toy balloon or two or two. Flowers are a great way to bring in a special event, party, or special occasion. The flower shop also has a gift shop, which includes a gift card, and a gift basket. The gift shop also has a gift card, which is a great way to show off your personality and make a special gift for someone special. Flowers are a great way to bring a special event to life, and a balloons, and toyooos. Flowers are also have a balloon or two. The flower shop also has a fun toy balloons toy balloons and other decorations for the recipient. The shop also had balloons were a toy balloon or two.</s>\n",
      "########\n",
      "*******\n",
      "question: Where was there never any mammoth?\n",
      "answer: zoo\n",
      "choices: ['wild', 'north dakota', 'forest', 'movie', 'zoo']\n",
      "common expl list: ['Mammoths are extinct, and zoos are places where animals are kept for observation and study.']\n"
     ]
    },
    {
     "name": "stderr",
     "output_type": "stream",
     "text": [
      "\r",
      "  6%|█████████▏                                                                                                                                                          | 55/986 [06:40<1:58:27,  7.63s/it]"
     ]
    },
    {
     "name": "stdout",
     "output_type": "stream",
     "text": [
      "generated explanation: <pad> <extra_id_0> Mammoths are mammals that are found in the wild. They live in areas that are not suitable for humans, such as caves, mountains, deserts, lakes, rivers, and forests. Mammoths are also a great source of food for other animals, such as birds, fish, and mammals. They are also a great source of protein, and are often found in groups, which can be quite useful for humans. Mammoths are also a great source of energy, and can be found in the wild in the wild. Zoos are often found in the wild, and can be found in the wild, such as well as a variety of mammals, and other animals, and even in the wild. This is a great outdoors, and can be found in the wild, and is a great outdoors. However, there is not always been found in the wild mammoth in the wild, which can be found in the wild, and can be found in the wild, and in the wild. The zooweres are often found in the wild, and are often found in the wild. The wild mammo</s>\n",
      "########\n",
      "*******\n",
      "question: Why do most people engage in chatting with friends?\n",
      "answer: fun\n",
      "choices: ['fun', 'love', 'answers', 'inspiration', 'relaxation']\n",
      "common expl list: ['Chats with friends are often fun, and thus people engage in them for that reason.']\n"
     ]
    },
    {
     "name": "stderr",
     "output_type": "stream",
     "text": [
      "\r",
      "  6%|█████████▎                                                                                                                                                          | 56/986 [06:48<2:01:54,  7.87s/it]"
     ]
    },
    {
     "name": "stdout",
     "output_type": "stream",
     "text": [
      "generated explanation: <pad> <extra_id_0> Most people engage in chatting with friends because it is fun and it is a great way to make friends and have a good time. It is also a great way to get to know new people and to make new friends. It is also a great way to make new friends and to make new connections. It is also a great way to make new friends and make new ones. People also enjoy chatting with each other because it is a great way to meet new people and make new ones. This can help to build a friendship and to have fun, and it is also a great time to make new friends and to make new people. chatting with friends can also be a great way to make new friends, and to make new friends, and to make new people. Moreover, it can be a great way to have fun. The main reason for most people are that it is a great way to have fun and to spend time with friends is to keep the fun activity that the fun and share a great way to make new friends and to make new friends and to make new friends and to make new friends. a great way to make new friends and to make new friends and to make new friends.</s>\n",
      "########\n",
      "*******\n",
      "question: What could happen after discovering truth that you did not want to know?\n",
      "answer: pain\n",
      "choices: ['pain', 'relief', 'grey hair', 'understanding', 'enlightenment']\n",
      "common expl list: ['Truth can be painful, and discovering it can cause pain.']\n"
     ]
    },
    {
     "name": "stderr",
     "output_type": "stream",
     "text": [
      "\r",
      "  6%|█████████▍                                                                                                                                                          | 57/986 [06:56<2:00:34,  7.79s/it]"
     ]
    },
    {
     "name": "stdout",
     "output_type": "stream",
     "text": [
      "generated explanation: <pad> <extra_id_0> When you discover truth about yourself, you may feel pain. Pain can come from knowing that you did not want to know something. This can lead to a sense of being unable to control your emotions. The truth can also cause you to feel a sense of guilt and shame. The pain can be a result of the knowledge that you have gained about yourself. This can lead to a sense of being unable to control your emotions and feelings. The truth can also lead to a sense of being overwhelmed with emotions and emotions. This can cause you may feel the pain. The truth can also lead to a sense of being a sense of being a sense of being overwhelmed by the truth. The truth can also lead to a sense of being in your life. Truth can also lead to a sense of being a sense of being overwhelmed and stressor. Truth can also cause you to be a sense of being overwhelmed with the knowledge and anxiety and stress and depression and anxiety and anxiety. Truth can cause you feel the pressure of being overwhelmed and anxiety and depression. The truth can also lead to a sense of being overwhelmed and stress.</s>\n",
      "########\n",
      "*******\n",
      "question: What will an athlete do to warm up their legs?\n",
      "answer: jog\n",
      "choices: ['use heater', 'sprint', 'jog', 'run fast', 'compete']\n",
      "common expl list: ['When athletes warm up before swimming, running, riding a bike, or performing other physical activity, they generally will jog (which will help them loosen muscles in the legs).', 'warming up is a routine that is performed to either prepare for doing something new, or prepare for doing something which put strains on you, or which you have been out of practice doing.']\n"
     ]
    },
    {
     "name": "stderr",
     "output_type": "stream",
     "text": [
      "\r",
      "  6%|█████████▋                                                                                                                                                          | 58/986 [06:59<1:40:48,  6.52s/it]"
     ]
    },
    {
     "name": "stdout",
     "output_type": "stream",
     "text": [
      "generated explanation: <pad> <extra_id_0> An athlete will jog to warm up their legs. This is because their legs are constantly moving. This is because jogging is a great way to warm up and increase blood flow. It is also a great way to increase the oxygen in the blood that is being pumped into the muscles. This increases blood flow to the muscles and helps to increase blood flow to the muscles. During a jog, the blood is pumped into the muscles, which helps to increase blood flow to the heart and lungs. This helps to increase blood flow to the blood oxygen in the muscles. This helps to improve the body, which helps to keep the blood flowing.</s>\n",
      "########\n",
      "*******\n",
      "question: Where can you keep your binder on your person between periods of instruction?\n",
      "answer: backpack\n",
      "choices: ['class room', 'car', 'office supply store', 'backpack', 'bookcase']\n",
      "common expl list: ['Usually binder users carry their binders from class to class outside of the classroom. Backpacks are often convenient, and are large enough to hold the binder.']\n"
     ]
    },
    {
     "name": "stderr",
     "output_type": "stream",
     "text": [
      "\r",
      "  6%|█████████▊                                                                                                                                                          | 59/986 [07:04<1:30:04,  5.83s/it]"
     ]
    },
    {
     "name": "stdout",
     "output_type": "stream",
     "text": [
      "generated explanation: <pad> <extra_id_0> A backpack is a great way to keep a binder on your person between classes. A backpack is a great way to keep a binder on your person between classes. It is a great way to keep your materials organized and easily accessible. A backpack is a great way to keep a binder on your person between classes. It is easy to access and easily accessible, and can be easily accessed from any computer. A backpack is also a great way to keep your textbooks and other school materials organized. A backpack is a binder can be easily accessible and easily accessible. A backpack is also a great way to keep your binder on your person during classes. A backpack also allows you to easily access to the binder is easily accessible and easy to access to the go.</s>\n",
      "########\n",
      "*******\n",
      "question: In the middle of the day what will someone do because of being hungry?\n",
      "answer: have lunch\n",
      "choices: ['cook dinner', 'make bread', 'eat in restaurant', 'have lunch', 'make bread']\n",
      "common expl list: ['People often eat lunch at midday, and so, if they are hungry at midday, they might go to a restaurant to eat lunch.', \"It's common for folks to have lunch during the middle of the day.\"]\n"
     ]
    },
    {
     "name": "stderr",
     "output_type": "stream",
     "text": [
      "\r",
      "  6%|█████████▉                                                                                                                                                          | 60/986 [07:11<1:36:42,  6.27s/it]"
     ]
    },
    {
     "name": "stdout",
     "output_type": "stream",
     "text": [
      "generated explanation: <pad> <extra_id_0> During the middle of the day, someone will be hungry. They will eat something to eat, such as a sandwich, fruit, or a sandwich. This will give them the energy they need to continue on with their day. Having lunch will also help them stay energized and alert throughout the day. Having lunch will also help them focus on the important things in life, such as family, friends, and work. Having lunch will also help them to focus on the important things in life, such as getting enough sleep, a great day. It will also help them to get through the energy levels, and energy levels, which will help them get the day. Lunch will also give them the energy levels of energy levels of the day and help them to get through the day. Lunch will help to provide them with nutrients and energy levels, making it easier for them to get through the day. It is also a great way to get enough energy levels of calories and nutrients. It will also help to get the nutrients and provide them with the rest and help them get the day.</s>\n",
      "########\n",
      "*******\n",
      "question: Where is garbage brought to by garbagemen?\n",
      "answer: landfill\n",
      "choices: ['trashcan', 'landfill', 'television', 'computer', 'dumpster']\n",
      "common expl list: ['Landfills are where all the trash in the city go to.']\n"
     ]
    },
    {
     "name": "stderr",
     "output_type": "stream",
     "text": [
      "\r",
      "  6%|██████████▏                                                                                                                                                         | 61/986 [07:20<1:50:09,  7.14s/it]"
     ]
    },
    {
     "name": "stdout",
     "output_type": "stream",
     "text": [
      "generated explanation: <pad> <extra_id_0> Garbage is brought to a landfill by garbagemen. The landfill is a place where garbage is disposed of in a controlled manner. The landfill is a place where people can take their garbage and recycle it. The landfill is a place where people can put their garbage and other recyclable materials. The landfill is a safe place for people to dispose of their garbage and other waste products. The landfill is a place where people can dispose of their garbage safely and securely. It is also a place where people can take their recyclable material and it is also a landfill. The garbage is also recycled and other items, which is also a place for animals and other animals. The landfill is a place where garbage can be brought by animals. The landfill is a place where people can dump their garbage and other types of garbage can be found in a safe place for the animals and other animals and other waste. It is a place to dispose of garbage and other materials. In addition, the landfill is a place where they can be kept from the animals and other human waste and other garbage and other than it. The landfill is a safe and is a place for human a place for human being a place to dispose of garbage and other types of garbage and other things like a place where it is a place where it is a safe and other types of garbage and other health reasons.</s>\n",
      "########\n",
      "*******\n",
      "question: What are people doing when washing hands for a long time?\n",
      "answer: thinking\n",
      "choices: ['thinking', 'sleeping', 'use soap', 'irritation', 'cleaning dirt off']\n",
      "common expl list: ['People often just pause while washing their hands. It may be that they are thinking about something while this occurs naturally.', 'People often think about things while they are washing their hands, and this is a good time to think about things.']\n"
     ]
    },
    {
     "name": "stderr",
     "output_type": "stream",
     "text": [
      "\r",
      "  6%|██████████▎                                                                                                                                                         | 62/986 [07:31<2:04:57,  8.11s/it]"
     ]
    },
    {
     "name": "stdout",
     "output_type": "stream",
     "text": [
      "generated explanation: <pad> <extra_id_0> People washing their hands for a long time are doing many things that take time to do. For example, washing their hands for a long time can be a time consuming task. It can take a long time to complete, and it can be a strain on the body. This can lead to injuries, which can be very painful, and it can also cause a person to become dehydrated. This can lead to an increase in blood pressure, which can lead to increased blood loss, and can also lead to an increase in the body a longer period of time. It can be difficult for people to think about their hands for a long time, and it can cause them to spend more time thinking, which can be stressful and stressful situations, and stressful situations, and stressful. People are often overwhelmed by the demands of washing their hands and can be stressful, which can lead to a mental health. It is important to be mindful of the important to remember to take time to take the importance of washing hands to help them to be more relaxed and stress. This can lead to a healthier and more productive activity, which can help to a healthier lifestyle. It can also lead to a longer duration of washing hands can lead to a longer period of stress and ultimately lead to stress and can lead to a greater concentration and ultimately lead to a stressful and a long-term mental health and stress that can lead to stress. It can lead to stress and can lead to stress and can lead to a longer period of stress and a longer time spent thinking and</s>\n",
      "########\n",
      "*******\n",
      "question: What would someone say about a tube television?\n",
      "answer: obsolete\n",
      "choices: ['obsolete', 'addictive', 'entertaining', 'bycone', 'legal']\n",
      "common expl list: ['Tube televisions are no longer manufactured, and are therefore obsolete.', 'Tube televisions are obsolete, meaning that they are old and was abolished by newer technology.']\n"
     ]
    },
    {
     "name": "stderr",
     "output_type": "stream",
     "text": [
      "\r",
      "  6%|██████████▍                                                                                                                                                         | 63/986 [07:38<2:02:55,  7.99s/it]"
     ]
    },
    {
     "name": "stdout",
     "output_type": "stream",
     "text": [
      "generated explanation: <pad> <extra_id_0> A tube television is considered to be an outdated technology. It is a form of television that is used in a number of ways, including to view programming, to view movies, and to watch movies. It is also considered to be a form of entertainment, as it is a type of entertainment that is considered obsolete. It is also considered to be an outdated technology, as it is a form of technology that is becoming increasingly rare, and is therefore considered to be a form of entertainment, as it is considered to be a form of the majority of televisions are obsolete, and are compared to other televisions. Tubes are also considered to be considered to be obsolete, because of televisions are considered to date back to date, and to exist today's. Using a tube television is considered to be found in a tube television, as it is a great way to watch a television. Tube televisions are a tube television, and are considered obsolete because they are a form of televisions, and are considered to be outdated by many people. They are also considered to be considered obsolete because they are considered to be replaced.</s>\n",
      "########\n",
      "*******\n",
      "question: The man drank his coffee at work?\n",
      "answer: office\n",
      "choices: ['coffee shop', 'table', 'kitchen', 'office', 'chair']\n",
      "common expl list: ['The man is likely to be at work, and offices often have kitchens where coffee is made.', 'People often drink coffee at offices, with other co-workers.', 'The man probably works in an office where he could have a cup of coffee while behind his desk.']\n"
     ]
    },
    {
     "name": "stderr",
     "output_type": "stream",
     "text": [
      "\r",
      "  6%|██████████▋                                                                                                                                                         | 64/986 [07:48<2:11:21,  8.55s/it]"
     ]
    },
    {
     "name": "stdout",
     "output_type": "stream",
     "text": [
      "generated explanation: <pad> <extra_id_0> The man drank his coffee at work because he was drank his coffee at work because he was drank his coffee at work because he was able to relax and enjoy his coffee at work without feeling guilty. Coffee is a great way to unwind and relax, and it can help to prevent stress and anxiety. It is also a great way to keep the mind focused on work, and to help the body relax and recharge. Coffee is also a great way to boost your mood and increase productivity. Coffee is a great way to boost your mood and to keep you alert and alert and to work-life. It is also a great way to keep the office. It is also a great way to stay alert and alert. It can also be a great stress-s to get through the office. The man a good cup of coffee at work is also a great way to get to get the office environment and to relax and de-to work. It is also a great way to get through the day. Coffee is a great way to get through the morning and a great way to stay focused and get to stay. Coffee can also help to get through the office can help to stay awake and alert. It is also a great way to get through the office and focus when it is important to stay in the office, and to stay focused and focus on the work environment, and focus on tasks, and focus, and improves performance, and performance.</s>\n",
      "########\n",
      "*******\n",
      "question: What can he do to eliminate his ignorance?\n",
      "answer: learn new\n",
      "choices: ['find information', 'judge', 'do some research', 'find truth', 'learn new']\n",
      "common expl list: ['Ignorance is the state of not knowing something, and to eliminate ignorance, one must learn new things.', 'In this context, ignorance refers to a lack of knowledge, and obtaining new knowledge is the best way to eliminate the ignorance.', \"Learning is a way to eliminate ignorance; for example, learning a foreign language is one way to eliminate ignorance of that language's grammar.\"]\n"
     ]
    },
    {
     "name": "stderr",
     "output_type": "stream",
     "text": [
      "\r",
      "  7%|██████████▊                                                                                                                                                         | 65/986 [07:54<1:59:11,  7.76s/it]"
     ]
    },
    {
     "name": "stdout",
     "output_type": "stream",
     "text": [
      "generated explanation: <pad> <extra_id_0> He can eliminate his ignorance by learning new things. By learning new things, he can eliminate his ignorance. By learning new things, he can eliminate his ignorance and improve his knowledge. By learning new things, he can improve his knowledge and increase his confidence in his abilities. By learning new things, he can improve his knowledge and improve his performance. By learning new things, he can eliminate his ignorance and improve his performance. By learning new things, he can also improve his communication skills and increase his confidence. By learning new things, he can eliminate his ignorance, he can also increase his knowledge and improve his knowledge and improve his confidence. By learning new things, he can improve his knowledge and improve his confidence and increase his knowledge, he can also eliminate his confidence and increase his knowledge and improve his confidence, and improve his knowledge and confidence. Moreover, he can also increase his knowledge and improve his communication and improve his knowledge, and improve his knowledge.</s>\n",
      "########\n",
      "*******\n",
      "question: What do humans do when in a race?\n",
      "answer: compete with each other\n",
      "choices: ['lay eggs', 'eat fruit', 'wrestle', 'compete with each other', 'draw pictures']\n",
      "common expl list: ['Humans are naturally athletic and competitive. On land, people will compete with each other by running or wrestling. Often humans race on water by swimming, or by boating with other people.']\n"
     ]
    },
    {
     "name": "stderr",
     "output_type": "stream",
     "text": [
      "\r",
      "  7%|██████████▉                                                                                                                                                         | 66/986 [07:58<1:42:06,  6.66s/it]"
     ]
    },
    {
     "name": "stdout",
     "output_type": "stream",
     "text": [
      "generated explanation: <pad> <extra_id_0> Humans compete with each other in a race to win the race. Humans compete with each other to win the race. In a race, they compete with each other to win the race. Humans compete with each other to win the race. Humans compete with each other to win the race. Humans compete with each other to win the race. Humans compete with each other to win the race. Humans compete with each other to win the race. Humans compete with each other to the best of their ability. Humans compete with each other in a race to win the race. Races are often a race. The race is a race to win the race, and win the race. Humans are a race to win the race.</s>\n",
      "########\n",
      "*******\n",
      "question: She explained that you won't always get what you want with a goal, but you should still do what with it?\n",
      "answer: reach for\n",
      "choices: ['know how to find', 'work hard', 'remember where', 'reach for', 'purchase']\n",
      "common expl list: ['Reaching for attained goals is more beneficial than simply working towards them, at least in the short term. It significantly increases your chances of success.']\n"
     ]
    },
    {
     "name": "stderr",
     "output_type": "stream",
     "text": [
      "\r",
      "  7%|███████████▏                                                                                                                                                        | 67/986 [08:08<1:55:50,  7.56s/it]"
     ]
    },
    {
     "name": "stdout",
     "output_type": "stream",
     "text": [
      "generated explanation: <pad> <extra_id_0> Reach for goals that you can reach for. Reaching for goals is a great way to reach for what you want. By reaching for goals, you can reach for what you want, and you can reach for things you've never seen before. You can also reach for things you've never seen before. Reaching for goals can help you reach for more, and it can help you reach for what you need to reach for. Reaching for goals can help you reach for things you've never had before. Reaching for goals can help you reach for the things you want. Reaching for goals can help you reach for the things that you want. Reaching for goals can help you reach for goals, and reaching for the goal can help you reach for things you want. Reach for the goals can help you reach for the things you want to reach for the goals that you want. Reaching for goals can help you achieve your goals can help you reach for those you reach for the goals you reach for the bigger goals you reach for the bigger than you want to reach for your goals can help you reach for your goals. Reach for the goals can help you reach for the goals can help you reach for your goals and reach for it can help you reach for the bigger. Reach for the bigger goals can help you reach for the bigger goals you reach for the bigger, and reach for the bigger than you reach for the bigger goals can reach for the bigger goals can also help you reach for the goals and reach for the bigger goals.</s>\n",
      "########\n",
      "*******\n",
      "question: What happens when you eat hamburger too fast without swallowing?\n",
      "answer: choking\n",
      "choices: ['get full', 'drink', 'choking', 'hungry', 'getting fat']\n",
      "common expl list: ['Eating too fast can sometimes cause coughing / choking as food get stuck in your throat.', \"If you eat hamburger too fast, you might choke on it, because it's a solid food that can get stuck in your throat.\", \"When you eat hamburger too fast, it can quickly turn into the consistency of a block, and when you can't swallow it, it can cause you to choke.\", \"Choking can occur when you stick stuff in your mouth which can't go down your throat properly, so that you can't breath. Common causes can be eating too fast, or swallowing items that can't go down your throat, like liquids or large\"]\n"
     ]
    },
    {
     "name": "stderr",
     "output_type": "stream",
     "text": [
      "\r",
      "  7%|███████████▎                                                                                                                                                        | 68/986 [08:11<1:34:46,  6.19s/it]"
     ]
    },
    {
     "name": "stdout",
     "output_type": "stream",
     "text": [
      "generated explanation: <pad> <extra_id_0> When you eat hamburger too fast without swallowing, it can be very dangerous. It can cause you to choke or to pass out. The hamburger can be eaten too fast without swallowing, which can lead to choking. Depending on the size of the hamburger, swallowing may be necessary to ensure that it stays in place. Having swallowed slowly can also lead to choking. This is because the hamburger is too large to be swallowed properly. When you eat hamburger too fast, it can be very dangerous to swallowing can cause you to choke.</s>\n",
      "########\n",
      "*******\n",
      "question: John sat in a folding chair in a bit room with a stage.  What sort of room could that be?\n",
      "answer: auditorium\n",
      "choices: ['room', 'auditorium', 'meeting hall', 'school', 'church']\n",
      "common expl list: ['An auditorium is a large room that is used for public events, such as concerts, plays, and speeches.']\n"
     ]
    },
    {
     "name": "stderr",
     "output_type": "stream",
     "text": [
      "\r",
      "  7%|███████████▍                                                                                                                                                        | 69/986 [08:19<1:45:10,  6.88s/it]"
     ]
    },
    {
     "name": "stdout",
     "output_type": "stream",
     "text": [
      "generated explanation: <pad> <extra_id_0> An auditorium is a large room with a stage and seating for a large number of people. The stage is used to stage a show or concert, and the audience sits in a fixed position around the stage. The stage is a large circular piece of furniture that is connected to the stage. The seating is usually a combination of a folding chair and a stage, and the stage is connected to the auditorium by a curtain. The stage is connected to the audience, and the seating is usually arranged so that John would be in a large room with a stage. The stage is often used for performing arts, and other rooms, and the stage are often used to perform. The auditorium is a large, and can be found in a variety of events, and performer, as well as well as the stage, and the audience. The auditorium is often used to perform, and stage, and the stage can be used to performer. The auditorium is a stage is often used to performer. The auditorium is often used to perform. The auditorium is often used to perform. The stage is often used to perform a show, or a stage is often used to perform.</s>\n",
      "########\n",
      "*******\n",
      "question: What would an adult man do to get ready for work?\n",
      "answer: dress himself\n",
      "choices: ['dress herself', 'shower', 'dress himself', 'drink beer', 'drive train']\n",
      "common expl list: ['An adult man would dress himself for work: this includes putting on pants, shirts, and dresses, and typical choices are professional clothes, such as suit and tie.', 'Adult males commonly wear suits to work. Men might get dressed in the morning, particularly if they plan on wearing a suit for work.']\n"
     ]
    },
    {
     "name": "stderr",
     "output_type": "stream",
     "text": [
      "\r",
      "  7%|███████████▋                                                                                                                                                        | 70/986 [08:26<1:45:59,  6.94s/it]"
     ]
    },
    {
     "name": "stdout",
     "output_type": "stream",
     "text": [
      "generated explanation: <pad> <extra_id_0> A man would dress himself for work in a formal way, such as by wearing a suit and tie, or by wearing a jacket and tie. This is because he is preparing himself for the day and is in a position of authority, such as in a company or a business. He would also need to be aware of his surroundings, which can affect his performance. Also, he would need to be aware of the weather, and be aware of the weather. Finally, he would need to be able to work, and his appearance, and his work. Moreover, a formal dress is a man needs to be a professional. Moreover, a business man will often be responsible for the day. Moreover, a businessman must be able to work efficiently and to be a professional. The dress code of a man is a way to ensure that he is a professional look and feel comfortable. he is a professional. a man can be a great opportunity to get ready for the day. a professional look and feel.</s>\n",
      "########\n",
      "*******\n",
      "question: What does one do at an office?\n",
      "answer: work\n",
      "choices: ['work', 'school building', 'workplace', 'skyscraper', 'public building']\n",
      "common expl list: ['One does work at the office', 'An office is a place where people work.', 'An office is a specific type of workplace.']\n"
     ]
    },
    {
     "name": "stderr",
     "output_type": "stream",
     "text": [
      "\r",
      "  7%|███████████▊                                                                                                                                                        | 71/986 [08:35<1:54:50,  7.53s/it]"
     ]
    },
    {
     "name": "stdout",
     "output_type": "stream",
     "text": [
      "generated explanation: <pad> <extra_id_0> One does work in an office<extra_id_1> e one<extra_id_2> One does work in an office because it is a place where one can work in a professional environment and get the job done. By working in an office, one can also get the education and experience that one needs to succeed in their career. By working in an office, one can also be more productive and have a better work environment. Working in an office allows one to focus on what is important to the company and the employees. Working in an office also allows one to have the opportunity to develop and the knowledge of the company’s’s needs. In addition, one can get the satisfaction from the satisfaction that comes from the satisfaction that comes from the satisfaction that comes with the company’s culture. a sense of accomplishment and satisfaction that one has been a great opportunity to work. Furthermore, work can also provide an opportunity to work that one can have a career path that one can lead to a career path that will help one succeed in the company. Work can lead to a career path. Work can be a person’s interests, and experience that one’s career. It can be a company’s interests, and experience that one has the company’s mission. It is the company, satisfaction that one’s mission and satisfaction that one’s work is an office can provide.</s>\n",
      "########\n",
      "*******\n",
      "question: When a person is on trial for killing, what is a jury likely to decide?\n",
      "answer: punishment\n",
      "choices: ['execution', 'investigation', 'going to jail', 'retribution', 'punishment']\n",
      "common expl list: ['A jury is likely to decide that the person is guilty of the crime, and punish them accordingly.', 'A person who has just killed another person often goes to trial, so the jury will likely have to decide what the most just punishment is.', 'When a jury decides that someone is guilty of a crime, they typically hand down a punishment.']\n"
     ]
    },
    {
     "name": "stderr",
     "output_type": "stream",
     "text": [
      "\r",
      "  7%|███████████▉                                                                                                                                                        | 72/986 [08:42<1:50:38,  7.26s/it]"
     ]
    },
    {
     "name": "stdout",
     "output_type": "stream",
     "text": [
      "generated explanation: <pad> <extra_id_0> A jury is<extra_id_1> likely to decide<extra_id_2> A jury is a very important part of the process of deciding whether or not to punish a person for a crime. It is the jury’s job to determine the punishment that the defendant will receive. It is the most important part of the process of determining a person’s guilt or innocence. It is also the most important part of the process of determining a person’s sentence. It is also the most important part of the process to determine the appropriate sentence for each individual. It is the facts and the most likely to decide the type of punishment. a jury will determine the final sentence that the jury will be served. It is the case that the jury will be the most important factor in a person’s life or death. a jury is the most important part of the life of the person’s life sentence. It is also the jury’s decision that the sentence that is the most important part of the case.</s>\n",
      "########\n",
      "*******\n",
      "question: Most adult Americans split their time between home and what?\n",
      "answer: work\n",
      "choices: ['tent', 'work', 'apartment', 'the office', 'foreign']\n",
      "common expl list: ['Most adults spend most of their time at work.', 'Home and work may be the two places where most adult Americans spend most of their waking hours.']\n"
     ]
    },
    {
     "name": "stderr",
     "output_type": "stream",
     "text": [
      "\r",
      "  7%|████████████▏                                                                                                                                                       | 73/986 [08:51<2:00:45,  7.94s/it]"
     ]
    },
    {
     "name": "stdout",
     "output_type": "stream",
     "text": [
      "generated explanation: <pad> <extra_id_0> Most adult Americans split their time between home and what<extra_id_1> Most adult Americans split their time between home and work because they are more likely to be at home with their family and friends. They also spend more time at work than at home, and they spend more time at work than at home. This is because they are more likely to be at home with their families and friends, and they spend more time at work than at home. They also spend more time at home because they are more likely to be at home and spend more time at work, and they are more likely to spend more time at home than at home. They also spend more time at home and work, and their time between home and their time at work, and their time is more likely to spend more time at work than at home. They also spend more time at home and spend more time at work, and spend time at home, and their time at home, and spend more time at work. In addition, they are likely to spend more time at work because of their time at home and spend more time at work. The more time spent at work is also more likely to be spent at home. a home and spend more time at work, and spend more time at work. The more than one’s home and than they can be at work, as it is more time at work, and the better a family, and time at home, and their time at home, which can also cause for them to work. This is also a greater amount of time is also more time at work, which can’</s>\n",
      "########\n",
      "*******\n",
      "question: Professionally the fighters always maintained a level of respect, but personally they held each other in what for things that were said?\n",
      "answer: contempt\n",
      "choices: ['belittlement', 'humiliate', 'irreverence', 'contempt', 'love']\n",
      "common expl list: ['Despite the respect that was maintained by the respectful fighters, the feelings that they had for each other were always a sense of contempt for each others character.']\n"
     ]
    },
    {
     "name": "stderr",
     "output_type": "stream",
     "text": [
      "\r",
      "  8%|████████████▎                                                                                                                                                       | 74/986 [08:58<1:55:27,  7.60s/it]"
     ]
    },
    {
     "name": "stdout",
     "output_type": "stream",
     "text": [
      "generated explanation: <pad> <extra_id_0> Contempt is a term used to describe the disrespect that is displayed by a fighter for something that is not their fault. It is used to describe the way that a fighter may hold another fighter accountable for something that is said. It is used to describe how disrespectful the fighters are to each other, and to show them that they are not worthy of respect. It is used to describe the way in which they view each other. It is used to describe the way that they treat each other, and to describe the way they treat each other. It is also used to a term used to describe the way that is used to describe the way that they may have towards each other. It is used to show their own character, and a level of respect, and a level of respect. It is used to show the fighters of respect and a level of disrespect for things that are not true. It is used to show the other, and to show that they have for the fighters. It is used to refer to refer to a fight.</s>\n",
      "########\n",
      "*******\n",
      "question: Where would you find many tables of silverware rolled into nice displayed napkins?\n",
      "answer: restaurant\n",
      "choices: ['silver', 'park', 'table', 'cupboard', 'restaurant']\n",
      "common expl list: ['In a commercial establishment, silverware is expected to be clean because consumption of food is involved. So, a restaurant may well be where someone would expect to find silverware rolled into nice displayed napkins (i.e., fancy silverware).', 'Restaurants often give used, rolled up silverware to customers, and they might keep them in nice, displayed napkins to make moving and storing them easier.', 'Restaurants often have a lot of silverware, and they might roll it up and place it in a napkin to make it easier to store.']\n"
     ]
    },
    {
     "name": "stderr",
     "output_type": "stream",
     "text": [
      "\r",
      "  8%|████████████▍                                                                                                                                                       | 75/986 [09:03<1:42:08,  6.73s/it]"
     ]
    },
    {
     "name": "stdout",
     "output_type": "stream",
     "text": [
      "generated explanation: <pad> <extra_id_0> Restaurants often have large tables of silverware rolled into beautiful displayed napkins. These napkins are often rolled into neatly displayed tables so that they can be easily accessed by guests. The napkins are a great way to display silverware and other items of silverware. They are also a great way to display other items such as glasses, glasses, and other accessories. Restaurants also have a large selection of napkins to choose from, so they are often displayed in attractive displays. Restaurants also have a variety of items such as silverware, so as they are displayed in a variety of colors and patterns, so that they are easily accessible to people. Restaurants often display their silverware and other tables are displayed in rolled into attractive displays. Additionally, they are often decorated with rolled into attractively designed to create a stylish presentation.</s>\n",
      "########\n",
      "*******\n",
      "question: He didn't believe fate controlled situations, what did he believe people did?\n",
      "answer: control events\n",
      "choices: ['control events', 'pray', 'dress themselves', 'talk to each other', 'think creatively']\n",
      "common expl list: [\"If one believes fate controls events, there's nothing to do but accept situation, perhaps to pray; in contrast, if one believed they had control over events, then they could act to change the situation.\", 'If one believes in fate, then one would believe that fate controls events. If one believes in free will, then one would believe that people control events.']\n"
     ]
    },
    {
     "name": "stderr",
     "output_type": "stream",
     "text": [
      "\r",
      "  8%|████████████▋                                                                                                                                                       | 76/986 [09:11<1:48:35,  7.16s/it]"
     ]
    },
    {
     "name": "stdout",
     "output_type": "stream",
     "text": [
      "generated explanation: <pad> <extra_id_0> He believed people controlled events, but he didn't believe fate controlled events because he didn't believe people controlled situations. He believed people controlled situations because they were able to control events and cause them to occur. He believed people controlled events because they were able to cause them to occur in certain ways. For example, he believed people controlled situations to cause certain events to occur, causing them to occur. This is because people control events, which are events that occur in certain situations. People also control events by causing them to occur in certain situations, such as a person, or a certain situation. He believed that people were able to cause people, and reacting to events, he believed that people controlled events. He also believed that people controlled events, and he believed they were able to create situations by a variety of events, and that they were able to control situations. He believed that people could cause them to occur in certain situations, which could cause people, or cause them to become unpredictable and if they were present in a certain events. He also believed that people's actions, and causing them to occur. He believed that people controlled situations, and he believed in that people could cause an event.</s>\n",
      "########\n",
      "*******\n",
      "question: Polly didn't know her way around, so she navigated by landmark.  She used statues, stores, and distinctive building.  Where might she be?\n",
      "answer: city\n",
      "choices: ['countryside', 'national park', 'map', 'neighbourhood', 'city']\n",
      "common expl list: [\"She used distinctive buildings as landmarks, so it is likely she's in a city.\", 'Landmarks are often located in cities, and so if a person was navigating by landmarks, they are likely to be in a city.', 'Landmark navigation works best in populated areas because distinctive buildings and statues can be more easily seen.', 'In a city, landmarks are often used to navigate. In the countryside or in national parks, landmarks may not be as distinct, as buildings and statues are less likely to be found.']\n"
     ]
    },
    {
     "name": "stderr",
     "output_type": "stream",
     "text": [
      "\r",
      "  8%|████████████▊                                                                                                                                                       | 77/986 [09:14<1:29:16,  5.89s/it]"
     ]
    },
    {
     "name": "stdout",
     "output_type": "stream",
     "text": [
      "generated explanation: <pad> <extra_id_0> Polly was unfamiliar with the city, and she was unsure of her location. She used landmarks to find her way around. She relied on landmarks to find her way around, and they were important to her. They were also important to her because they were important to her. These landmarks helped her find her way around the city. They also helped her find her way through the city because they were important to her. They were also important to her because they were important to her. They were also important to her because they were important to her way around town.</s>\n",
      "########\n",
      "*******\n",
      "question: Some horses are white others are black, but many are this color which might lead some people to think their milk would taste like chocolate?\n",
      "answer: brown\n",
      "choices: ['big but gentle', 'kept in stables', 'cuddly', 'brown', 'running in herd']\n",
      "common expl list: [\"An individual brown-colored horse (particularly when cuddly) can resemble the color of chocolate. If a person were to guess based on the color, he might guess a horse's milk tasted similarly.\"]\n"
     ]
    },
    {
     "name": "stderr",
     "output_type": "stream",
     "text": [
      "\r",
      "  8%|████████████▉                                                                                                                                                       | 78/986 [09:23<1:43:11,  6.82s/it]"
     ]
    },
    {
     "name": "stdout",
     "output_type": "stream",
     "text": [
      "generated explanation: <pad> <extra_id_0> Milk is a milk that is dark in color and can be described as a dark chocolate-like color. It is a milk that is a light brown color, and is used to make milk<extra_id_2> s. Brown milk is used to make milk, which is a dairy product. Brown milk is used to make milk chocolate, which is a popular flavor of milk. Brown milk is used to make milk, which is a sweet drink that tastes like chocolate. It is used to make milk chocolate, and is a common ingredient in the milk chocolate, making it taste. Brown Milk is used to taste like chocolate because it is used to make it taste. Brown milk is used to make milk chocolate. Brown is used to make chocolate, which is used to make it to make it is used to make milk chocolate. Brown Milk is used to make milk chocolate-based milk which makes it taste like chocolate because it is used to make it tastes like chocolate because it is a milk that tastes of chocolate-like and is used to make milk that is used to make it is used to make it is used to make milk. It is used to make it is used to make chocolate because it is used to make milk, and to make milk which is used to make chocolate, which is used to make it taste of the milk is used to make chocolate.</s>\n",
      "########\n",
      "*******\n",
      "question: What is the one thing you cannot do if you're on the move?\n",
      "answer: stand still\n",
      "choices: ['sit still', 'stationary', 'running', 'stand still', 'stay still']\n",
      "common expl list: ['You must be in motion to be counted as on the move. (this rule exists to disallow the action of holding still)']\n"
     ]
    },
    {
     "name": "stderr",
     "output_type": "stream",
     "text": [
      "\r",
      "  8%|█████████████▏                                                                                                                                                      | 79/986 [09:34<2:00:24,  7.97s/it]"
     ]
    },
    {
     "name": "stdout",
     "output_type": "stream",
     "text": [
      "generated explanation: <pad> <extra_id_0> Standing still is the one thing you cannot do if you're on the move. Standing still is the one thing you cannot do if you're on the move because it is dangerous and can lead to injury. Standing still is the only thing you can do if you're on the move because it can lead to injury or even death. Standing still is the only way to stay safe and secure while on the move. Standing still is the only way to avoid injury or illness. Standing still is the only way to avoid falling and slipping into if you's the danger of being in the future. Standing still is the one of your mind and body from moving around you can cause injury or even worse, a serious illness. Standing still can lead to accidents and even worse, as it can lead to the risk of causing you to become distracted. Standing still is the only way to your health and can lead to a lot of stress and can lead to a lot of stress. Standing still can also lead to a serious injury or even fatal or even death. This is the one thing you risk of a serious injury or a serious illness. Standing still allows you to avoid a serious or from a serious illness. It is a serious illness or a serious injury, and can cause a serious injury or even a serious or a serious injury or risk of a serious injury or even a serious risk of a serious injury or even fatal. Stand still can cause a serious injury or a serious injury or</s>\n",
      "########\n",
      "*******\n",
      "question: Where does someone convicted of a petty crime likely spend time?\n",
      "answer: jail\n",
      "choices: ['sell drugs', 'jail', 'nightclub', 'prison', 'offer drugs']\n",
      "common expl list: ['Someone convicted of a petty crime probably spends some time in jail, and not in prison.', 'Someone convicted of a petty crime is likely to spend time in jail.']\n"
     ]
    },
    {
     "name": "stderr",
     "output_type": "stream",
     "text": [
      "\r",
      "  8%|█████████████▎                                                                                                                                                      | 80/986 [09:37<1:38:15,  6.51s/it]"
     ]
    },
    {
     "name": "stdout",
     "output_type": "stream",
     "text": [
      "generated explanation: <pad> <extra_id_0> A person convicted of a petty crime typically spends time in jail because jail is the most secure place for them to spend time. Jail is the most common place for people to spend time in jail because it is the safest place for them to spend time. Jail is the most secure place for people to spend time after being convicted of a petty crime. It is also the most secure place for them to spend time in the country. It is the most secure place for them to spend time in jail because it is the most likely the most likely spend time in jail.</s>\n",
      "########\n",
      "*******\n",
      "question: He would entertain with a pool party regularly, it was the best way to beat the what?\n",
      "answer: hot\n",
      "choices: ['please', 'hot', 'guest', 'bribe', 'liked']\n",
      "common expl list: ['Pool parties are a great way to beat the heat.']\n"
     ]
    },
    {
     "name": "stderr",
     "output_type": "stream",
     "text": [
      "\r",
      "  8%|█████████████▍                                                                                                                                                      | 81/986 [09:47<1:55:44,  7.67s/it]"
     ]
    },
    {
     "name": "stdout",
     "output_type": "stream",
     "text": [
      "generated explanation: <pad> <extra_id_0> Pool parties are the best way to entertain friends and family, and it is the best way to beat the heat. Having a pool party is the best way to entertain friends and family, and it is the best way to beat the heat. Pool parties are the best way to beat the heat, and the best way to keep the party going. Pool parties are the best way to keep the guests entertained, and the best way to keep the party going. Pool parties are the best way to keep the party going hot, and the pool parties are the heat. a great way to keep the kids, and parents, and parents of the fun and their children, and parents. Pool parties are the best way to entertain, and to entertain them, and their parents. Pool parties are the best way to keep the heat, and the partying the best way to keep the party planning for the best way to entertain the best way to entertain the hot. Pool parties are the best way to entertain and to keep the party is the hot, and the best way to entertain, and to beat the heat, and to keep the party going. The best way to entertain guests from the best way to entertain with the best way to entertain, and to entertain them from the partying. The best way to entertain is by hosting a pool party is the best way to keep the party in the best way to beat the heat up and to entertain the best way to keep the party. a pool party is the best way to entertain the best way to entertain and the best way to keep the party a pool party going</s>\n",
      "########\n",
      "*******\n",
      "question: If you wanted to confirm information that you had, you would do what to someone?\n",
      "answer: question\n",
      "choices: ['infirm', 'ask', 'deny', 'question', 'dispute']\n",
      "common expl list: [\"Often information is ambiguous, and I can confirm it by asking pointed questions or by scrutinizing the other person's story till I can find a way to interrogate their position.\", 'To confirm something that your friends told you, you might need to ask those friends further questions to prove that the information was correct.', 'If you wanted to confirm information that you had, you would ask someone.', 'If you wanted to verify the truth, you might question the person who you got the alleged information from.']\n"
     ]
    },
    {
     "name": "stderr",
     "output_type": "stream",
     "text": [
      "\r",
      "  8%|█████████████▋                                                                                                                                                      | 82/986 [09:56<2:01:20,  8.05s/it]"
     ]
    },
    {
     "name": "stdout",
     "output_type": "stream",
     "text": [
      "generated explanation: <pad> <extra_id_0> If you wanted to confirm information that you had, you would do what to someone that you knew. You would ask the person to confirm information that you had. You would ask the person to provide information that was not available to them. You would also ask them to provide you with a list of the information that they had that they had. This list would include information that was not available to them, such as a phone number, email address, or other personal information. You would also ask them to provide you with a list of names and contact them with the information that you had. If you wanted to obtain the information, you would ask the person to provide them, you would provide the person's identity. You would also ask them for the information that you had already provided. If you had information, you would also provide the person with the information that you had been given to them with the information they had, you would ask them to them to confirm the information, you would allow you to confirm the person you had already provided. If you wanted to confirm that you, you would ask them to the information that you had been given, you would also provide the person with the information that you had been given, you would then confirm the person for the information.</s>\n",
      "########\n",
      "*******\n",
      "question: Where is cheese likely to be dangerous for some creatures?\n",
      "answer: mouse trap\n",
      "choices: ['refrigerator', 'mouse trap', 'fridge', 'outside', 'plate']\n",
      "common expl list: ['cheese has been said to attract mice. Mice traps may contain cheese in order to attract them.']\n"
     ]
    },
    {
     "name": "stderr",
     "output_type": "stream",
     "text": [
      "\r",
      "  8%|█████████████▊                                                                                                                                                      | 83/986 [10:12<2:38:58, 10.56s/it]"
     ]
    },
    {
     "name": "stdout",
     "output_type": "stream",
     "text": [
      "generated explanation: <pad> <extra_id_0> A mouse trap is a trap that is commonly used to capture and transport dangerous animals. The trap is designed to be a safe place for mice to eat cheese and other cheese products, such as cheese and crackers, nuts, and other treats. Cheese is also known to attract and entice predators, such as rats, rats, and other small animals. Cheese is a popular food choice for humans, as it is a source of protein, iron, and calcium, which is essential for healthy digestion. Cheese is also used to create a safe place for animals, as it is likely to be dangerous for some creatures. Cheese is also dangerous for mice, which can also be used to catch mice, as it is likely to get into the trap. It is also a safe place for children, as it is likely to get into the hands of other animals. Cheese is also likely to get into the trap, which can lead to cause them to get into the hands. Cheese is also likely to get into the trap, making it is likely to get into the traps, making it can also be if it is used to keep them away from being dangerous for some animals. Cheese can be dangerous for other animals, and can be a safe place to keep away from other creatures. Cheese is a mouse trap, which can also be dangerous for humans, and other animals, and other animals, which can be dangerous for humans. Cheese is also used to trapping them in their food source of danger. Cheese is likely to attract and is also likely to be dangerous for other animals, and can be dangerous for some animals, and can be used to keep them from other dangerous for example, and can be dangerous for humans. Cheese is likely to get in the traps, and other animals, and other animals, and can be used as a mouse traps, and is likely to be used to traps, and can be dangerous for some animals. Cheese is likely to be dangerous for these animals, and other animals, such as it can be dangerous for some animals. Cheese is likely to humans and can be dangerous for some animals, such as cheese and other animals, such as a safe to use in a mouse traps, and dangerous for them. Cheese is likely to animals, or even dangerous for humans, and can be dangerous for some animals, and other animals, and can be used in the traps, and can be used in certain animals, and dangerous for humans\n",
      "########\n",
      "*******\n",
      "question: He spent all work day at a computer, so he got a footstool for more comfort at his what?\n",
      "answer: desk\n",
      "choices: ['desk', 'bathroom', 'shoe shop', 'family room', 'living room']\n",
      "common expl list: ['A footstool is a small stool that is used to raise the height of a chair or table. If someone spends all day at a computer, they might need a footstool to raise their desk.']\n"
     ]
    },
    {
     "name": "stderr",
     "output_type": "stream",
     "text": [
      "\r",
      "  9%|█████████████▉                                                                                                                                                      | 84/986 [10:18<2:17:08,  9.12s/it]"
     ]
    },
    {
     "name": "stdout",
     "output_type": "stream",
     "text": [
      "generated explanation: <pad> <extra_id_0> He spent all his work day at a computer, so he got a foot stool for more comfort at his desk. A footstool is a great way to increase the comfort of your desk. It can be a great way to add some extra height to your desk. It can also be used as a side support for your desk. It can also be used as a footrest for your chair. Footrests are also great for reducing the strain on your feet when standing up, standing up, or sitting. Foots are also great way to help to get more work. Footstools are also great for your desk. They can also provide you more space and comfort at your desk. Footstools can help you feel better to work day. They are also great for your desk. Footstools can be placed on your desk. Footstools can also be used as a footrest on the desk. They can be used to sit on your feet.</s>\n",
      "########\n",
      "*******\n",
      "question: How would grooming lead to bald spots?\n",
      "answer: mistakes\n",
      "choices: ['cleanliness', 'mistakes', 'brushing', 'beauty', 'satisfaction']\n",
      "common expl list: [\"If you accidentally over trim your hair, you'd likely end up with bald spots.\"]\n"
     ]
    },
    {
     "name": "stderr",
     "output_type": "stream",
     "text": [
      "\r",
      "  9%|██████████████▏                                                                                                                                                     | 85/986 [10:25<2:05:12,  8.34s/it]"
     ]
    },
    {
     "name": "stdout",
     "output_type": "stream",
     "text": [
      "generated explanation: <pad> <extra_id_0> Mistakes can lead to bald spots, and grooming mistakes can lead to bald spots. Mistakes can lead to bald spots, and grooming mistakes can lead to mistakes. Mistakes can lead to alopecia, or bald spots due to poor grooming practices, or a lack of attention to detail. This can lead to a lack of grooming skills, and can lead to a lack of attention to detail, which can lead to bald spots. In addition, grooming mistakes can lead to alope, which can lead to bald spots. In some cases, mistakes can lead to bald spots, which can lead to bald spots, and can lead to bald spots. This can also lead to bald spots, and other factors can lead to bald spots, which can lead to bald spots. bald spots can be caused by grooming mistakes can lead to bald spots, and a result in the bald spots.</s>\n",
      "########\n",
      "*******\n",
      "question: Where would a snake find a great hiding place in the United Kingdom?\n",
      "answer: kew gardens\n",
      "choices: ['ditch', 'terrarium', 'thick forest', 'kew gardens', 'feild']\n",
      "common expl list: ['Kew gardens is a large botanical garden in London, England, and snakes are often found in gardens.', 'Kew gardens is located in London, which has a great deal of green space in the form of parks.']\n"
     ]
    },
    {
     "name": "stderr",
     "output_type": "stream",
     "text": [
      "\r",
      "  9%|██████████████▎                                                                                                                                                     | 86/986 [10:31<1:53:26,  7.56s/it]"
     ]
    },
    {
     "name": "stdout",
     "output_type": "stream",
     "text": [
      "generated explanation: <pad> <extra_id_0> A snake would find a great hiding place in the United Kingdom because it would find a great place to hide in a garden. A garden is a place where a snake can find a great hiding place to hide in a garden. A garden is a great place to hide in a house, cave, or in a building. It can also be used to hide in a building, or even in a building. A snake would find a great hiding place in a garden because it is a great place to hide in a great place to hide in the United Kingdom because it would find a great place to hide in the United Kingdom. A garden is a great place to find a great place to hide in the United Kingdom. It is also a great place to hide in the United Kingdom. The snake would find a great place to find a great place to hide in the United Kingdom.</s>\n",
      "########\n",
      "*******\n",
      "question: After studying many self-help books, what did he feel in his heart?\n",
      "answer: inspiration\n",
      "choices: ['inspiration', 'dreams', 'more intelligence', 'understanding', 'knowing more']\n",
      "common expl list: [\"Some people study self-help books because they've felt lost in their life and are looking for something to help them out. By reading many self-help books, such people might feel more inspired in their life.\", 'Self-help books are written to inspire people to change their lives for the better.', \"If John read about confidence, optimism, positive thinking, it's possible that he feels inspired.\"]\n"
     ]
    },
    {
     "name": "stderr",
     "output_type": "stream",
     "text": [
      "\r",
      "  9%|██████████████▍                                                                                                                                                     | 87/986 [10:38<1:52:59,  7.54s/it]"
     ]
    },
    {
     "name": "stdout",
     "output_type": "stream",
     "text": [
      "generated explanation: <pad> <extra_id_0> After studying many self-help books, what did he feel in his heart was<extra_id_1> ed<extra_id_2> After studying many self-help books, what did he feel in his heart after studying them? He felt inspired and motivated to improve his life. He was able to focus on his studies and read more books to help him improve his life. He felt a sense of accomplishment and a sense of accomplishment. He felt a sense of accomplishment and accomplishment. He was inspired by the books and felt a sense of accomplishment and accomplishment. He was a feeling of accomplishments and success. Inspiration was the inspiration that came from within him. This was the books and inspired him to write his own life. This was a positive, which he found his own life. He was inspired by the books and read many self-help books and learned how to improve his life. He was a positive, and realized that he felt he was doing. He felt a sense of accomplishment and confidence. This was a sense of success and inspiration. He was a sense of accomplishment and a sense of accomplishment and success.</s>\n",
      "########\n",
      "*******\n",
      "question: Where would you find teeth whitening bleachers?\n",
      "answer: pharmacy\n",
      "choices: ['gymnasium', 'soccer game', 'sporting event', 'pharmacy', 'soccer game']\n",
      "common expl list: ['Teeth whitening is a common practice, and pharmacies often sell the products used for it.']\n"
     ]
    },
    {
     "name": "stderr",
     "output_type": "stream",
     "text": [
      "\r",
      "  9%|██████████████▋                                                                                                                                                     | 88/986 [10:46<1:52:50,  7.54s/it]"
     ]
    },
    {
     "name": "stdout",
     "output_type": "stream",
     "text": [
      "generated explanation: <pad> <extra_id_0> A pharmacy is the best place to find teeth whitening bleachers because it is easy to find and affordable. The bleachers are usually found in the pharmacy, and they work by removing stains from the teeth and removing stains from the gums. The bleachers are also designed to work in conjunction with other products, such as whitening gels, and they are designed to be safe and effective. The pharmacy also has a pharmacy attendant who can help you with any questions you may have about the products being sold. The pharmacy can also help you can also provide you with whitening bleaching bleaching products and whitening gels are available in the pharmacy, and whitening bleaching products are available from pharmacies and whitening bleaching kits from the bleaching bleaching gels are available from the bleaching bleaching gels in the same way as they are a pharmacy. The pharmacy has a pharmacy can be found in the whitening gels and a pharmacy can provide you with the products you can be purchased from the store.</s>\n",
      "########\n",
      "*******\n",
      "question: While he had seen a koala in the zoo, he was looking forward to finding one in the what?\n",
      "answer: australian outback\n",
      "choices: ['australian outback', 'bamboo grove', 'wilderness', 'island', \"child's book\"]\n",
      "common expl list: ['Koalas live in Australia, and are not found in any other country in the North American continent.', 'Because Koalas are a native species to Australia, the safest place to see a Koala may be outback Australia.']\n"
     ]
    },
    {
     "name": "stderr",
     "output_type": "stream",
     "text": [
      "\r",
      "  9%|██████████████▊                                                                                                                                                     | 89/986 [10:54<1:56:15,  7.78s/it]"
     ]
    },
    {
     "name": "stdout",
     "output_type": "stream",
     "text": [
      "generated explanation: <pad> <extra_id_0> The australian outback is a unique place that is home to a variety of animals and plants. The animals can be found in a variety of habitats, including a rainforest, a river, a desert, and a forest. They can also be found in the wild, which is a great place to find a koala in the wild. The outback is also home to many birds, including the common emus and the koala emus. The outback is also home to many other animals that live in the wild, which can be found in the outback. The outback is also known for its a variety of wildlife, and the outback, which is home to many of species of plants, and animals. The outback is also a great place for the wild, and the animals that are found in the outback. The outback is also home to many other animals, making it a great place to find a koal. The outback is home for the komooa koala wide range of wildlife. a great place to find them. This makes them a great place to find them.</s>\n",
      "########\n",
      "*******\n",
      "question: Where can a child get a wagon?\n",
      "answer: toy store\n",
      "choices: ['field', 'garage', 'bookstore', 'backyard', 'toy store']\n",
      "common expl list: [\"A toy wagon is a child's toy. Toy wagons can be purchased from toy stores.\", 'Toy stores deal specifically in toys. Wagons are one of a variety of toys.']\n"
     ]
    },
    {
     "name": "stderr",
     "output_type": "stream",
     "text": [
      "\r",
      "  9%|██████████████▉                                                                                                                                                     | 90/986 [11:07<2:20:46,  9.43s/it]"
     ]
    },
    {
     "name": "stdout",
     "output_type": "stream",
     "text": [
      "generated explanation: <pad> <extra_id_0> A toy store is a great place to get a wagon for a child. The store can provide a variety of items, including a wagon, a sled, a sled, and other accessories. A toy store can also provide a variety of other activities, such as a train ride, a game, or even a ride in the car. The store can also provide a variety of wagons for different ages, including a hayrides, a wagon for children can also buy a child’s. The child can also buy a wagon from the store, which is a great place toy. The store can also provide a variety of activities for the child can provide them with a variety of activities, such as a variety of activities, such as a great place for the child can play. The store is also a great place toy for children can also be found in the world of fun and other activities, such as a wagon for the child toy. The store is a great place for the child to play with a wagon can be found in the store can provide a variety of different types of activities, such as a toy story and a great opportunity for a child with a great toy store toy to use in the child with a wagon for the family. The child can get a wagon can also be a great place to learn about the wagon can be used toy store is a great place for a variety of a variety of different types of different types of<extra_id_27> </s>\n",
      "########\n",
      "*******\n",
      "question: Being able to forgive is a way to be what?\n",
      "answer: nice to\n",
      "choices: ['learn', 'give hug', 'happiness', 'nice to', 'sex']\n",
      "common expl list: ['When you forgive people you are being nice to them.']\n"
     ]
    },
    {
     "name": "stderr",
     "output_type": "stream",
     "text": [
      "\r",
      "  9%|███████████████▏                                                                                                                                                    | 91/986 [11:14<2:10:42,  8.76s/it]"
     ]
    },
    {
     "name": "stdout",
     "output_type": "stream",
     "text": [
      "generated explanation: <pad> <extra_id_0> Forgiveness is a way to move on from a situation, to a person, or to someone. It is a way to move on from a difficult time, to a time of peace and quiet. It is a way to move on from a difficult time, and to move on with your life. Forgiveness is a way to move on and move on from a difficult situation, and to move on from a difficult time. Forgiveness is a way to move on from a difficult, and to have a positive attitude toward the world. It is also a positive attitude, and can help you move on from your life. Forgive and to forgive, and to be a person. Forgiveness is also a way to be a positive and positive attitude. It is also a way to be a positive outlook on the world. It is a way to be a difficult situation, and to move on from a difficult time. It is a way to be a difficult time to move on from a difficult time.</s>\n",
      "########\n",
      "*******\n",
      "question: What  is necessary to have when going fishing?\n",
      "answer: fishing rod\n",
      "choices: ['fishing rod', 'access to water', 'bate', 'three hands', 'tackle']\n",
      "common expl list: ['fishing rods are necessary component pieces that are held by fishermen to access and use when fishing', 'To go fishing requires a fishing rod.']\n"
     ]
    },
    {
     "name": "stderr",
     "output_type": "stream",
     "text": [
      "\r",
      "  9%|███████████████▎                                                                                                                                                    | 92/986 [11:21<1:59:33,  8.02s/it]"
     ]
    },
    {
     "name": "stdout",
     "output_type": "stream",
     "text": [
      "generated explanation: <pad> <extra_id_0> A fishing rod is a necessary item for anyone who wants to go fishing. It is important to have a rod that is comfortable to use and comfortable to wear. A fishing rod is also necessary for anyone who wants to practice their skills and learn new skills. A fishing rod is also a great investment. It can be used to practice different techniques and improve your fishing skills. A fishing rod can be used to improve your technique and increase your chances of success. A fishing rod is also a great way to learn new skills and improve your fishing skills. It is also important to have a fishing rod that can be used to catch. A fishing is also important to have a fishing experience and comfortable wearing a comfortable clothes. A fishing rod can also be a fun and comfortable to wear and is also a great fishing. Fishing can be a great companion for anyone who wants to have a great fishing experience. A fishing rod can also be used to catch and provide a variety of fishing trips.</s>\n",
      "########\n",
      "*******\n",
      "question: A weasel is cursed by a witch, where is the weasel stuck?\n",
      "answer: fairytale\n",
      "choices: ['corn fields', 'great outdoors', 'fairytale', 'imagination', 'chicken coop']\n",
      "common expl list: ['Being stuck in a fairytale suggests being cursed, and the curses that prevail in fairytales are usually cast by witches.']\n"
     ]
    },
    {
     "name": "stderr",
     "output_type": "stream",
     "text": [
      "\r",
      "  9%|███████████████▍                                                                                                                                                    | 93/986 [11:23<1:36:00,  6.45s/it]"
     ]
    },
    {
     "name": "stdout",
     "output_type": "stream",
     "text": [
      "generated explanation: <pad> <extra_id_0> A weasel is cursed by a witch, and the witch curses the weasel with a curse. The witch curses the weasel with a curse, and the weasel becomes a witch. The witch then curses the weasel with a curse, and the witch curses the weasel with a curse. The weasel is cursed with a curse, and the witch gives the wease</s>\n",
      "########\n",
      "*******\n",
      "question: If you want to buy you must what?\n",
      "answer: spend money\n",
      "choices: ['spend money', 'go shopping', 'paying', 'have in mind', 'a shop']\n",
      "common expl list: ['To buy one needs money, and need money implies you have spent money.', 'If you want to buy something, you must spend money.', 'To buy something, you must spend money.']\n"
     ]
    },
    {
     "name": "stderr",
     "output_type": "stream",
     "text": [
      "\r",
      " 10%|███████████████▋                                                                                                                                                    | 94/986 [11:31<1:40:49,  6.78s/it]"
     ]
    },
    {
     "name": "stdout",
     "output_type": "stream",
     "text": [
      "generated explanation: <pad> <extra_id_0> If you want to buy something you must first spend money. In order to buy something you must first spend money. This is because spending money is the only way to get what you want. Furthermore, spending money is the only way to get what you want. Therefore, spending money is the only way to get what you want. Furthermore, spending money is the only way to get what you want. It is the only way to get what you want. In other words, spending money is the only way to get what you want. Buying something means that you must be willing to get something that you can afford to get what you want to buy it. Finally, you must spend money on something you must spend money to get what you want to get it is the best way to get what you want to get what you want to buy something that you need to get what you need to get the things you want to get what you need to get what you want to get it. Spending money on something that will allow you to get what you need to get what you need to buy something you want to get what you need to buy it is a good quality you need to get what you need to get it.</s>\n",
      "########\n",
      "*******\n",
      "question: What public celebration sometimes has a horse show?\n",
      "answer: state fair\n",
      "choices: ['state fair', 'indy 500', 'american southwest', 'canada', 'central park']\n",
      "common expl list: ['Horse shows are competitions that sometimes occur at public celebrations. Some fairgrounds include horse shows as part of their regularly scheduled events.', 'Horse shows are sometimes included in state fair celebrations, and these fairs frequently are held in public parks.', \"A state's fair is a public celebration that may include a horse show.\"]\n"
     ]
    },
    {
     "name": "stderr",
     "output_type": "stream",
     "text": [
      "\r",
      " 10%|███████████████▊                                                                                                                                                    | 95/986 [11:38<1:41:39,  6.85s/it]"
     ]
    },
    {
     "name": "stdout",
     "output_type": "stream",
     "text": [
      "generated explanation: <pad> <extra_id_0> A state fair is a public celebration that often has a horse show. The horse show is a popular part of the celebration because it allows for a variety of activities, including competitions, demonstrations, and displays. It also allows for a variety of horse breeds to compete in a variety of competitions. The horse show can be a great way to promote horse racing and show jumping, as well as an opportunity for spectators to view the horses and riders. It also provides an opportunity for people to network, network, and enjoy a variety of activities, and competitions. The horse show is also a great way to enjoy the festival is a great way to promote the horse show, and promote horse show. The horse show can be enjoyed by the horse people of the opportunity to meet and meet with the horses and competitions, as well as it can provide a great opportunity to show, and a great way to promote the horse show. The state fair is a great way to promotes the horse show and<extra_id_26> </s>\n",
      "########\n",
      "*******\n",
      "question: There are many wage gaps being discussed, the most important of which is between the rich and what?\n",
      "answer: poor\n",
      "choices: ['plain', 'sleepy', 'poor', 'idle', 'needy']\n",
      "common expl list: ['The poor are a group which suffers from a wage gap, denoted as their earning less than others, especially the rich.']\n"
     ]
    },
    {
     "name": "stderr",
     "output_type": "stream",
     "text": [
      "\r",
      " 10%|███████████████▉                                                                                                                                                    | 96/986 [11:44<1:36:21,  6.50s/it]"
     ]
    },
    {
     "name": "stdout",
     "output_type": "stream",
     "text": [
      "generated explanation: <pad> <extra_id_0> The wage gap is a significant issue in the United States. It is a wide range of income levels, from the well-off to the under-employed. The gap is a measure of how much money a person makes and how much money they earn. This gap is a measure of how much money a person makes, and how much of that money is spent on entertainment and entertainment. It is also a measure of how much money they spend on education and health care. The poorer the individual, the more money they have to pay is a wage gaps exist between the rich and the poor. The wage gaps between the poor and the average for many other factors that the gap in the gap is the wage gaps exist. Additionally, the gap is a measure of how much money is spent on the poor. The poorer the wages are often overlooked, as they are often overlooked when it comes to the rich and the gap is the poor.</s>\n",
      "########\n",
      "*******\n",
      "question: What city in a North American Country, that isn't the United States, would you expect to find a good french restaurant?\n",
      "answer: quebec\n",
      "choices: ['wine', 'nyc', 'quebec', 'manhattan', 'paris']\n",
      "common expl list: ['Quebec has a strong french heritage, and the french cuisine is actually quite popular in the United States.', 'Quebec is said to have strong french-culture since it was originally french territory. This would make sense if quebec had a good french restaurant.', 'Quebec is the only province that speaks French in North America, and you might expect to find a good french restaurant there.', 'Quebec is a province in Canada, and is known for its french culture.']\n"
     ]
    },
    {
     "name": "stderr",
     "output_type": "stream",
     "text": [
      "\r",
      " 10%|████████████████▏                                                                                                                                                   | 97/986 [11:47<1:20:36,  5.44s/it]"
     ]
    },
    {
     "name": "stdout",
     "output_type": "stream",
     "text": [
      "generated explanation: <pad> <extra_id_0> Quebec is a French speaking country located in Canada. It is a country that is known for its french cuisine. Quebec is a French speaking country located in the Maritimes, and is known for its delicious food, wine, and cheese. It is also a great place to visit for a day of sightseeing, or to meet new people. The French are very good at making sure that you have a great time. Quebec is a great place to visit for a weekend getaway or for a romantic date night. It is also a great french restaurant.</s>\n",
      "########\n",
      "*******\n",
      "question: Care not to burn you hand on the handle of what small high-walled vessel?\n",
      "answer: saucepan\n",
      "choices: ['brush', 'carry object', 'walking stick', 'umbrella', 'saucepan']\n",
      "common expl list: ['A saucepan is a small, high-walled vessel, built for holding liquids and usually used in the kitchen.']\n"
     ]
    },
    {
     "name": "stderr",
     "output_type": "stream",
     "text": [
      "\r",
      " 10%|████████████████▎                                                                                                                                                   | 98/986 [11:49<1:08:47,  4.65s/it]"
     ]
    },
    {
     "name": "stdout",
     "output_type": "stream",
     "text": [
      "generated explanation: <pad> <extra_id_0> A saucepan is a small, high-walled vessel with a handle that is designed to be held in a secure position. The handle of the saucepan is designed to be held in a seated position, allowing air to circulate freely. The handle is a good place to place a hot pan or pot of soup, or other hot liquid. The handle of the saucepan is designed to be held in a secure position, preventing it from being twisted or twisted. The handle is also designed to be easily removed</s>\n",
      "########\n",
      "*******\n",
      "question: What container does peanut butter come in?\n",
      "answer: jar\n",
      "choices: ['cupboard', 'pantry', 'jar', 'bottle', 'supermarket']\n",
      "common expl list: ['Jars, like those that pickles often come in, are suitable for food items that need to be kept fresh for long time. Jars can be resealed.', 'Jars are often used to store food, and peanut butter is a food.', 'Jars can keep food sealed without leaking, and often have lids. Peanut butter is sealed in a jar and could be kept in a house, kitchen, pantry, or cupboard.', 'Peanut butter comes in glass jars, like many other food products.']\n"
     ]
    },
    {
     "name": "stderr",
     "output_type": "stream",
     "text": [
      "\r",
      " 10%|████████████████▍                                                                                                                                                   | 99/986 [11:56<1:18:36,  5.32s/it]"
     ]
    },
    {
     "name": "stdout",
     "output_type": "stream",
     "text": [
      "generated explanation: <pad> <extra_id_0> The jar is a convenient way for peanut butter to come in and stay fresh. The jar is made from a glass jar that is designed to hold a jar of peanut butter, which is ideal for carrying around peanut butter and other snacks. The jar is a great way for people to store and store peanut butter, as the peanut butter is a great source of protein. The jar is also a great way for people to store and store peanut butter because the jar is designed to store and keep fresh peanut butter in the jar is a convenient way to carry around the jar. The jar is also ideal for storage because it is perfect for carrying the peanut butter, and easy to use. It comes in the jar, making it easier for jars to transport and is also ideal for those who are looking a jar. The jar is also a great way to store their favorite peanut butter. It is also great way to make sure that the jar of peanut butter can be used to make delicious and easily accessible.</s>\n",
      "########\n",
      "*******\n",
      "question: Where are plants likely to be handled by a city employee?\n",
      "answer: park\n",
      "choices: ['park', 'windowsill', 'ground', 'office', 'garden']\n",
      "common expl list: ['A city employee might handle plants while working in a park.', 'Parks are where city employees are likely to handle plants.']\n"
     ]
    },
    {
     "name": "stderr",
     "output_type": "stream",
     "text": [
      "\r",
      " 10%|████████████████▌                                                                                                                                                  | 100/986 [12:05<1:34:53,  6.43s/it]"
     ]
    },
    {
     "name": "stdout",
     "output_type": "stream",
     "text": [
      "generated explanation: <pad> <extra_id_0> A city employee is likely to be assigned to a park to handle plants. Parks are often the most convenient and convenient places for city employees to work, as they are often located in areas with open spaces. Parks also provide a great place for city employees to work, as they are a great place for employees to work and relax. In addition, they provide a great place for employees to work, as they can work in a variety of settings, such as a nature preserve, a school, or a community center for city employees to work in the city to perform their duties. In addition, parks are often the most likely to work with the responsibility for employees to work, which requires that they have been trained to work in a city employee to work with plants. In addition, parks are often the best place for employees to work, as they can provide an environment for city employees to work in a safe place for employees to be able to work in a park and safe environment. In addition, plants can be used to work in a city employee to perform their job. In addition, they can be used to provide for employees with the ability to work in a park is likely to provide a city employee to park.</s>\n",
      "########\n",
      "*******\n",
      "question: Trains tend to come on time, airplanes on the other hand tend to what?\n",
      "answer: arrive late\n",
      "choices: ['stall', 'take off', 'arrive late', 'catch on fire', 'carry freight']\n",
      "common expl list: [\"Planes aren't typically known for arriving on time (air traffic, weather, repairs, et. al.), whereas trains tend to be more reliable.\", 'Planes are carreid by more complicated mechanisms than trains, and therefore tend to be harder to operate exactly on time.']\n"
     ]
    },
    {
     "name": "stderr",
     "output_type": "stream",
     "text": [
      "\r",
      " 10%|████████████████▋                                                                                                                                                  | 101/986 [12:20<2:11:13,  8.90s/it]"
     ]
    },
    {
     "name": "stdout",
     "output_type": "stream",
     "text": [
      "generated explanation: <pad> <extra_id_0> Unlike trains, airplanes tend to arrive late. Unlike trains, airplanes tend to arrive late because they are often delayed, which can lead to delays. The delay can be due to a number of factors, including: the speed of the aircraft, the distance of the flight, and the number of passengers. Additionally, airplanes tend to arrive late due to the high number of passengers and the high number of passengers, which can lead to delays. This can lead to delays, which can lead to delays in service, and can lead to delays, a delay, which can lead to a delay. Additionally, trains tend to arrive late on time, as well as they are often delayed. This is due to the speed of the flight, which can lead to delays, which can cause delays, which can also cause by the plane’s’s speed of the train and plane’s’s to arrive late, which can lead to a delay, which can lead to a number of passengers on board, which can lead to delays, and even when they are a flight’s, as well as well as a delay. Additionally, airplanes often arrive on time is often due to delays, which can lead to a lot of delays, which can lead to delays, which can lead to delays, which can lead to delays, which can lead to a number of passengers, which can lead to a delay. Additionally, trains tend to a number of delays, which can lead to delays, which can lead to delays. This can lead to delays, which can lead to delays, and can lead to a number of delays, which can lead to delays, which can lead to delays, and can lead to delays are often due to the number of airlines that are often due to a lack of airlines, which can lead to delays, and can lead to a number of passengers, which can lead to the planes on time, which can lead to delays, which can lead to delays, and consequently to a number of passengers and a number of airplanes on a delay in the planes tend to a number of delays and therefore lead to passengers arriving late a number of passengers, and can lead to a result in the planes, and a number of passengers, and a number of passengers on a combination of delays, a number of passengers.</s>\n",
      "########\n",
      "*******\n",
      "question: Where is glue well used?\n",
      "answer: art room\n",
      "choices: ['desk drawer', 'cabinet', 'art room', 'school', 'closed container']\n",
      "common expl list: ['Glue is used in art projects, and art rooms are where art projects are done.']\n"
     ]
    },
    {
     "name": "stderr",
     "output_type": "stream",
     "text": [
      "\r",
      " 10%|████████████████▊                                                                                                                                                  | 102/986 [12:29<2:10:11,  8.84s/it]"
     ]
    },
    {
     "name": "stdout",
     "output_type": "stream",
     "text": [
      "generated explanation: <pad> <extra_id_0> Glue is a sticky substance that helps to hold together different materials. It is a very versatile product that can be used in a variety of ways. It can be used to create different types of art, including murals, d cors, and other decorative pieces. It is also a great way to add dimension to any artwork, such as pictures, drawings, and other media. It is also a great glue for creating a variety of different effects, such as creating a unique look for any project. It can be used to create a variety of different types of art, as it is a variety of colors, and even the most common ways to create a variety of designs, including: a variety of different effects, and more than just one of the other creative ideas. It can also be used to create a variety of different effects, depending on the project. It can also be used to create a variety of different types of different types of different types of different effects, such as well as a variety of different types of different designs, and also used to create a variety of different effects, and effects, depending on the final product. It is also used to create a variety of different effects, and effects, depending on the art.</s>\n",
      "########\n",
      "*******\n",
      "question: Billy loves science, history, and art but isn't very creative.  When he was visiting the museum, he felt a great deal of what emotion?\n",
      "answer: enjoyment\n",
      "choices: ['inspiration', 'fulfillment', 'wonder', 'boredom', 'enjoyment']\n",
      "common expl list: ['At a museum, Billy uses history to find science, and science to find art; by combining different loves, going to the museum has been fulfilling. To achieve fulfilment, Billy felt an enjoyable feeling.', 'When Billy visited a museum which had a lot of fields of interest, Billy enjoyed himself while he learned from the experience at the same time.']\n"
     ]
    },
    {
     "name": "stderr",
     "output_type": "stream",
     "text": [
      "\r",
      " 10%|█████████████████                                                                                                                                                  | 103/986 [12:33<1:50:07,  7.48s/it]"
     ]
    },
    {
     "name": "stdout",
     "output_type": "stream",
     "text": [
      "generated explanation: <pad> <extra_id_0> Billy loves museums because they provide a great deal of entertainment and excitement. By allowing him to enjoy the museum, he can get a sense of what the museum is about and feel a sense of satisfaction. He can also feel a sense of accomplishment and accomplishment because he was able to see and touch so many things that were interesting and exciting. He could also feel a sense of accomplishment because he was able to touch and touch the objects, which he found exciting and exciting. He also felt a sense of satisfaction and satisfaction when he was able to explore new things that he could use them in his passion for the museum, and to create with his interests and explore. He also enjoyed the interactive displays and learning about the museum, which he can help him to enjoy the museum experience.</s>\n",
      "########\n",
      "*******\n",
      "question: Sarah did much hard work, even though she was on vacation.  Her mother told her off and said what?\n",
      "answer: do nothing\n",
      "choices: ['unemployment', 'say something', 'earn money', 'do nothing', 'relaxation']\n",
      "common expl list: ['If one is on vacation, one is supposed to \"do nothing\" as opposed to working - the \"something\" that is discouraged. Many physically hard jobs involve getting the hands dirty.']\n"
     ]
    },
    {
     "name": "stderr",
     "output_type": "stream",
     "text": [
      "\r",
      " 11%|█████████████████▏                                                                                                                                                 | 104/986 [12:39<1:43:06,  7.01s/it]"
     ]
    },
    {
     "name": "stdout",
     "output_type": "stream",
     "text": [
      "generated explanation: <pad> <extra_id_0> Sarah did much hard work even though she was on vacation. She was able to do much hard work, even though she was on vacation. This was because she was able to do so much more work than her mother expected. In addition, she was able to do much more work than her mother expected. Sarah did much hard work even though she was on vacation. She was able to do this work because she was able to see her family and spend time with them. Sarah also did much hard work because she was able to do. This was a great way to see her mother was a great job. She was able to do much harder work, and was able to do much more difficult work. Sarah did much of her mother’s and did much hard work, and able to do much harder work, even though she was on vacation. The mother told Sarah that she did nothing. Sarah did much hard work, and she was on vacation.</s>\n",
      "########\n",
      "*******\n",
      "question: James walked barefoot on a something that was made hot by sunshine. What is he probably walking on?\n",
      "answer: street\n",
      "choices: ['desktop', 'summer', 'moon', 'meadow', 'street']\n",
      "common expl list: ['Because of the intense heat of summer, sunlight reflects off the pavement, causing a hot sensation when one walks barefoot in the summer.']\n"
     ]
    },
    {
     "name": "stderr",
     "output_type": "stream",
     "text": [
      "\r",
      " 11%|█████████████████▎                                                                                                                                                 | 105/986 [12:46<1:45:20,  7.17s/it]"
     ]
    },
    {
     "name": "stdout",
     "output_type": "stream",
     "text": [
      "generated explanation: <pad> <extra_id_0> James walked barefoot on something that was made hot by sunshine. The street is made hot by the heat of the sun, which makes the pavement and other surfaces that are used for walking and driving very hot. The pavement is usually made of a hard, smooth, and pliable material, which is made of a layer of asphalt, which is made of a layer of tar. The asphalt is usually made of a hard plastic material, which is made of a durable material, which is made of rubber, rubber or asphalt. The street is usually walked on a street, and the asphalt, which is probably made by the heat of the sun, and the concrete, which is likely to get hot. The asphalt is likely to the heels are made of the asphalt, which is probably made of the street. The heat is likely to get rid of the streets are made of the asphalt, and the shoes, which are made of the asphalt, which is made of the street, and the shoes that are likely to get into the street. The heat of the asphalt is likely made of the street is likely to prevent the barefoot of the pavement.</s>\n",
      "########\n",
      "*******\n",
      "question: He grew tired of standing in the kitchen his whole shift, where was he?\n",
      "answer: restaurant\n",
      "choices: [\"neighbor's house\", \"friend's house\", 'restaurant', 'jail', 'fraternity house']\n",
      "common expl list: ['A restaurant would have a kitchen, where you would be required to stand while your shift is in session.', 'One can get tired standing in a kitchen if one is on their feet all day; kitchens are typically in restaurants.']\n"
     ]
    },
    {
     "name": "stderr",
     "output_type": "stream",
     "text": [
      "\r",
      " 11%|█████████████████▌                                                                                                                                                 | 106/986 [12:50<1:29:08,  6.08s/it]"
     ]
    },
    {
     "name": "stdout",
     "output_type": "stream",
     "text": [
      "generated explanation: <pad> <extra_id_0> He was working in a restaurant<extra_id_1> d to stand in the kitchen his whole shift, standing in the kitchen, and making sure that the kitchen was clean and organized. He was working in a restaurant because it was a busy place to be, and the employees were always busy. The staff were also busy, and the food was always good. He was also getting tired of standing in the kitchen, making sure that the food was always fresh and on time. He was also spending too much time in the kitchen, making sure that the food was always had been working in the restaurant, so that he could get out of the restaurant, and he would be in the restaurant.</s>\n",
      "########\n",
      "*******\n",
      "question: The children play cards often, but they make their own rules because they can't what the originals?\n",
      "answer: remember\n",
      "choices: ['bid', 'concentrate', 'winning', 'count', 'remember']\n",
      "common expl list: ['Children often play games that are similar to those played by adults, such as card games, but with slight variations to how they are played. This is most likely because children cannot remember the original rules of the card games. Smiling is a common expression', \"The children are making up their own rules because they can't remember the original rules.\"]\n"
     ]
    },
    {
     "name": "stderr",
     "output_type": "stream",
     "text": [
      "\r",
      " 11%|█████████████████▋                                                                                                                                                 | 107/986 [12:58<1:38:44,  6.74s/it]"
     ]
    },
    {
     "name": "stdout",
     "output_type": "stream",
     "text": [
      "generated explanation: <pad> <extra_id_0> The children play cards often, but they make their own rules because they can't what the originals. The children play cards often, but they make their own rules because they can't remember the originals because they are too busy playing cards. They make their own rules because they can't remember the originals. The children play cards often, but they make their own rules because they can't remember the originals because they are too busy playing cards. The children play cards often, but they make their own rules because they can't remembering the originals. The rules are often play cards. The children play cards often, but they make their own rules because they are more fun and they can't what the original rules because they have to play cards. The rules are often changed when they play them. The rules are often changed because they can't remember the originals. The rules are often changed as the originals. The rules change can be changed because of the cards. The rules can be changed because of the rules. The children play their own rules because they can't remember the originals. The rules are often changed as the rules. The rules are also changed because of the rules are often.</s>\n",
      "########\n",
      "*******\n",
      "question: On an average day, going to work could make you feel like what?\n",
      "answer: feeling good\n",
      "choices: ['feeling good', 'anger', 'revelation', 'being fired', 'tardiness']\n",
      "common expl list: ['To fulfill a life purpose and to gain fulfillment, people often undertake gainful employment. Thus, the people who experience this data point might experience feelings of accomplishment/fulfillment.', 'People sometimes feel pride and accomplishment when they get things done at the office.']\n"
     ]
    },
    {
     "name": "stderr",
     "output_type": "stream",
     "text": [
      "\r",
      " 11%|█████████████████▊                                                                                                                                                 | 108/986 [13:04<1:32:32,  6.32s/it]"
     ]
    },
    {
     "name": "stdout",
     "output_type": "stream",
     "text": [
      "generated explanation: <pad> <extra_id_0> Going to work could make you feel good because you are able to focus on what you are doing and focus on what you are doing. Working can make you feel good because you are able to get things done and accomplish things that you want to accomplish. Working can also help you to feel more productive and productive. Having a job that makes you feel good can help you to feel more productive and productive. It can also help you to feel more connected to your colleagues and to your work environment. It can also help you to feel good about yourself and more satisfied with your work. Working can also help you feel good because it can also help you feel good about your work and it can help you to feel good. This can lead to positive feelings of being more positive and positive. Having a job can help you to feel good. It can also help you to feel good about your work and to feel good.</s>\n",
      "########\n",
      "*******\n",
      "question: What country has the carpathians and is the furthest in the direction of the side that won the U.S. Civil War?\n",
      "answer: poland\n",
      "choices: ['slovakia', 'slovenia', 'poland', 'ukraine', 'romania']\n",
      "common expl list: ['Poland is the only country that has the carpathian mountains, and it was the most distant in the direction from the side that won the U.S. Civil War (the North).']\n"
     ]
    },
    {
     "name": "stderr",
     "output_type": "stream",
     "text": [
      "\r",
      " 11%|██████████████████                                                                                                                                                 | 109/986 [13:06<1:17:00,  5.27s/it]"
     ]
    },
    {
     "name": "stdout",
     "output_type": "stream",
     "text": [
      "generated explanation: <pad> <extra_id_0> The carpathians are a series of mountains that form the border between Poland and the Czech Republic. They are a geographical feature that is important for the military, as they protect the homelands of the peoples who lived in the region during the war. They are a major part of the Polish countryside, which is a major part of the Polish language, and are a major source of food for the Polish people. They are also the most important part of the Polish landscape, as they are the closest to the border with the Czech Republic.</s>\n",
      "########\n",
      "*******\n",
      "question: What would happen if you want to win a game?\n",
      "answer: competitiveness\n",
      "choices: ['competitiveness', 'satisfaction', 'learning', 'injuries', 'play']\n",
      "common expl list: ['If you want to win a game, you will try put your best effort to take your chances at winning over those of your opponents.', 'Competitive athletes would want to win their games, whatever the cost; this desire to win leads to competitiveness and creates the desire to win over even long periods of time; it also often leads to brutal physical play --- such as by causing injuries to opposing r', \"Victory in a game requires one to make a maximum effort, and peoples' desire to win has to be rather competitive.\", 'To win a game, you must be competitive.', 'After playing a game, a person would be likely compelled to win the game becasue they want a feeling of satisfaction from winning the game. In order to win, a person would need to be competitive.']\n"
     ]
    },
    {
     "name": "stderr",
     "output_type": "stream",
     "text": [
      "\r",
      " 11%|██████████████████▏                                                                                                                                                | 110/986 [13:10<1:07:21,  4.61s/it]"
     ]
    },
    {
     "name": "stdout",
     "output_type": "stream",
     "text": [
      "generated explanation: <pad> <extra_id_0> If you want to win a game, you would need to be competitive. This is because competitiveness is essential to winning a game. It is the key to success in any sport, and it is the key to winning a game. Competitiveness is the key to winning a game. It is the key to winning a game, and it is the key to winning a game. Competitiveness is the key to winning a game. It is the key to winning a game, and it is the key to winning a game. Competition is the key to win a game.</s>\n",
      "########\n",
      "*******\n",
      "question: Where should watch to avoid being pinched by a crab?\n",
      "answer: sandy beach\n",
      "choices: ['eastern coast', 'sandy beach', 'fish market', 'north carolina', 'sand dunes']\n",
      "common expl list: ['Crabs live in sandy areas, and people who visit sandy beaches are likely to be pinched by crabs.', 'It is more common to find crabs living in sandy beach areas.']\n"
     ]
    },
    {
     "name": "stderr",
     "output_type": "stream",
     "text": [
      "\r",
      " 11%|██████████████████▎                                                                                                                                                | 111/986 [13:20<1:32:33,  6.35s/it]"
     ]
    },
    {
     "name": "stdout",
     "output_type": "stream",
     "text": [
      "generated explanation: <pad> <extra_id_0> A sandy beach is the best place to watch for a crab because it is the easiest to avoid being pinched by a crab. A sandy beach is the best place to watch for a crab because it is the safest place to watch for a crab. A sandy beach is also a safer place to watch for crabs because it is a safer place to be on a sandy beach. A sandy beach is also a safer place to be on a sandy beach, which is the best place to watch for a crabs. A sandy beach is also the best place to watch for crabs. A sandy beach is also the best place to watch for crabs, as it is the best place to avoid being pinched by a crab. A sandy beach is also a great place to watch for crabs. It is also an excellent place to keep an easy to avoid being pinched by a crab. A sandy beach is also a great place to watch for crab. Crabs are smaller than a crab can be pinched by a crab. a crab is a good place to watch for a crab is a crab, a crab is a sandy beach because it is a crab can easily spot to be pinched by a crab. A sandy beach is a great place to watch for crab can be pinched by crabs, and can be a safe place to watch for crab.</s>\n",
      "########\n",
      "*******\n",
      "question: What is a large group of human beings?\n",
      "answer: civilisation\n",
      "choices: ['an infestation', 'civilisation', 'homes', 'graveyard', 'spacecraft']\n",
      "common expl list: ['Civilisation is generally used to refer to large populations of humans living together in a single area, responding to collective needs.']\n"
     ]
    },
    {
     "name": "stderr",
     "output_type": "stream",
     "text": [
      "\r",
      " 11%|██████████████████▌                                                                                                                                                | 112/986 [13:31<1:52:47,  7.74s/it]"
     ]
    },
    {
     "name": "stdout",
     "output_type": "stream",
     "text": [
      "generated explanation: <pad> <extra_id_0> Civilisation is a large group of human beings who have come together to form a cohesive group. Civilisation is a term used to describe a large group of human beings who have come together to form a cohesive group of people. Civilisation is a term used to describe a group of people who have come together to form a cohesive group. Civilisation is a collective of people who have come together to form a cohesive group of people who have a common goal: to create a better world for all of the world. It is a group of people who have created a common bond and shared common goal of people, creating a larger group of people who have created a number of people, which has helped to create a culture and to spread their own individualistic values and cultural diversity, diversity and cultural, and a large group of people who have a large group of people who have a large group of people who have a large group of people who have a common bonding, and are a group of people who have joined to create a larger group of people who have a commons that is a common ground for them to be a larger community. Civilisation is a large group of people who are a collective of people who are a greater chance to become more cohesive and shared a larger culturally and socially. Civilisation is a larger society, and share a common goal. Civilisation is a larger group of people who share a common goal, and a common goal.</s>\n",
      "########\n",
      "*******\n",
      "question: What  is likely to happen to ice in the sun?\n",
      "answer: become water\n",
      "choices: ['cool water', 'cool drink', 'cool off', 'nothing', 'become water']\n",
      "common expl list: ['When ice is exposed to the sun, it melts, becoming water.', 'because hot melts cold, ice will melt if kept in the sun.']\n"
     ]
    },
    {
     "name": "stderr",
     "output_type": "stream",
     "text": [
      "\r",
      " 11%|██████████████████▋                                                                                                                                                | 113/986 [13:37<1:44:14,  7.16s/it]"
     ]
    },
    {
     "name": "stdout",
     "output_type": "stream",
     "text": [
      "generated explanation: <pad> <extra_id_0> Ice is likely to become water in the sun because it is a polar material. Ice is a solid material, so it is stable and does not freeze. It is also likely to melt and form solids, which can be used to make water. Water can be formed from ice crystals, which are made of ice crystals, and can form a thin layer of ice. This can lead to a solid layer of ice crystals, which can then expand and become a liquid. This is because water is adotropics and can become a liquid a solid a substance, and can also melt, a solid ice crystallon the sun can lead to melt and become a solid a solidify into a liquid. Ice is likely to become water when it becomes hot and melt, and melt in the sun ice becomes a solid in the sun and melt and melts, a liquid.</s>\n",
      "########\n",
      "*******\n",
      "question: Where can travellers pull off the road to stretch their legs?\n",
      "answer: rest area\n",
      "choices: ['rest area', 'airport', 'train station', 'come home', 'bus depot']\n",
      "common expl list: ['Rest areas generally allow travelers to spend time away from the roads, which are generally connecting points to large cities and particular highway names.', 'Rest areas are places where people can pull off the road to stretch their legs, and they are often located near gas stations, which are frequented by travellers.', 'Rest areas are publicly provided spaces for drivers to get out of their cars for a break. Train stations, bus depots, come home, and airports are all places where one might catch a bus, train, taxi, or plane, or have arrived']\n"
     ]
    },
    {
     "name": "stderr",
     "output_type": "stream",
     "text": [
      "\r",
      " 12%|██████████████████▊                                                                                                                                                | 114/986 [13:43<1:41:05,  6.96s/it]"
     ]
    },
    {
     "name": "stdout",
     "output_type": "stream",
     "text": [
      "generated explanation: <pad> <extra_id_0> To stretch their legs, travellers can pull off the road to stretch their legs. This is because the road is not designed to accommodate all types of travellers, and the length of time they can stay on the road is limited to the length of the journey. Therefore, travellers must be able to stretch their legs at rest stops. These rest stops are often located in areas that are easily accessible to motorists. Additionally, the road is not designed to accommodate all types of travellers, and they must be able to access them safely. The rest stops are usually located at a roadside. This is because travellers can often be found in areas where they can be used to rest areas are often used to take breaks, and to stretch their legs, and to stretch their legs. In addition, travellers can also take advantage of the road, and distance they need to stop. a rest stops are often located in a place to take a place to stop at a rest areas, and can be easily accessible places to reach.</s>\n",
      "########\n",
      "*******\n",
      "question: A poor family has no decorations in December, what would make a great gift?\n",
      "answer: christmas tree\n",
      "choices: ['food', 'specialty store', 'christmas tree', 'department store', 'christmas stocking']\n",
      "common expl list: ['A christmas tree is a traditional decoration for christmas.', 'In December, most families tend to put up christmas decorations. A christmas tree would make a good gift for a poor family.', 'The family is poor, so we might assume that they have nothing for decoration for their Christmas season. To help fix this, a Christmas tree would be the greatest gift.']\n"
     ]
    },
    {
     "name": "stderr",
     "output_type": "stream",
     "text": [
      "\r",
      " 12%|███████████████████                                                                                                                                                | 115/986 [13:52<1:50:19,  7.60s/it]"
     ]
    },
    {
     "name": "stdout",
     "output_type": "stream",
     "text": [
      "generated explanation: <pad> <extra_id_0> A christmas tree is a great gift for a poor family because it can be decorated with gifts, such as ornaments, ornaments, and other decorations. It can also be used to decorate the home and add a festive touch to the home. The decorations can be made with a variety of decorations, such as wreaths, ornaments, and other decorations. A christmas tree can also be used to decorate the home, such as a tree with lights, and decorations can be added to the house to add to the warmth of the season. It can also be used to give gifts for the holidays. It can be used to decorate the home, and it can add to decorate the holiday season. The christmas tree can also be used to add to help to decorate the home in the festive season. The decorations can also be used to add to create a great gift for the family. A christmas tree is a great gift for the family and can be used to decorate the home, and to create a perfect gift for the family. It can be used to decorate the holidays. The tree can be used to create a great gift for a great gift for a great gift for the holidays. It can be used to decorate the home.</s>\n",
      "########\n",
      "*******\n",
      "question: Where would you buy jeans in a place with a large number of indoor merchants?\n",
      "answer: shopping mall\n",
      "choices: ['shopping mall', 'laundromat', 'hospital', 'clothing store', 'thrift store']\n",
      "common expl list: ['Shopping malls usually contain a large variety of stores, including stores that sell clothes and jeans.', 'Shopping malls often have a large number of stores, including clothing stores.', 'Since malls (or indoor shopping centers in general) contain numerous merchants, including clothing stores, you could purchase jeans in one such store.']\n"
     ]
    },
    {
     "name": "stderr",
     "output_type": "stream",
     "text": [
      "\r",
      " 12%|███████████████████▏                                                                                                                                               | 116/986 [14:03<2:05:36,  8.66s/it]"
     ]
    },
    {
     "name": "stdout",
     "output_type": "stream",
     "text": [
      "generated explanation: <pad> <extra_id_0> Shopping malls are a place where you can find a large number of indoor merchants. These merchants are often located in malls, shopping centers, or other large shopping areas. Shopping malls are popular shopping destinations because they offer a wide variety of clothing and accessories, including jeans, tops, and shoes. Shopping malls also have a large number of indoor merchants, which makes it easier for shoppers to find the right fit and style for their needs. Shopping malls also offer a variety of products, including jeans, a variety of styles of styles, styles, including jeans, jeans, styles, styles, styles, colors, styles, and styles, as well as well as well as well as well as well as well as well as well as well as well as well as well as well-equipped with the right location. Shopping malls also provide a variety of services, making it easier for you to find the best value when it comes to buy jeans. Malls offer a variety of styles, as well as well as well as well- as well as well as well as well as well as well as well as well as well as well as well as well as well as well as well as well as well as a variety of styles and styles. Shopping in a shopping as the convenience of the convenience of shopping options for those looking for the convenience of shopping. Shopping malls also provide convenience and convenience of a convenient location and convenience of clothing and style for those looking for those looking for those who want to shop for those who can be a convenient and style for those who</s>\n",
      "########\n",
      "*******\n",
      "question: If I wanted to get some oxygen, what will I get it from?\n",
      "answer: air\n",
      "choices: ['the sky', 'air', 'earth', 'space shuttle', 'water']\n",
      "common expl list: ['Oxygen is found in the air.']\n"
     ]
    },
    {
     "name": "stderr",
     "output_type": "stream",
     "text": [
      "\r",
      " 12%|███████████████████▎                                                                                                                                               | 117/986 [14:12<2:04:02,  8.56s/it]"
     ]
    },
    {
     "name": "stdout",
     "output_type": "stream",
     "text": [
      "generated explanation: <pad> <extra_id_0> The air we breathe is the most important source of oxygen. It is the most abundant source of oxygen in the world, and it is the most abundant source of oxygen in the world. It is also the most abundant source of carbon dioxide, the most abundant form of oxygen known to man. This is because air is the most abundant source of carbon dioxide, and is the most abundant source of oxygen in the world. Air is the most abundant source of oxygen, and it is the only form of carbon dioxide that can be found in the atmosphere. It is the most common source of oxygen in the air, and it is the most common source of oxygen in the body, and the body. Air is the most abundant source of oxygen, and can be found in the air, and can be found in the air. It is also found in the same way that it can be found in the air, and can be found in the air is the best source of oxygen. However, air can be difficult to get it is often found in the world, and can be found in the world, and can be found in the world, and it can be found in the world. It is also found in the world</s>\n",
      "########\n",
      "*******\n",
      "question: What happens after having food too much?\n",
      "answer: getting fat\n",
      "choices: ['being full', 'laziness', 'weight gain', 'getting fat', 'will not starve']\n",
      "common expl list: ['Eating too much food causes one to become obese.', 'People will become fat, and even obese from eating too much food.', 'Eating too much food causes one to gain weight, and thus become fat.']\n"
     ]
    },
    {
     "name": "stderr",
     "output_type": "stream",
     "text": [
      "\r",
      " 12%|███████████████████▌                                                                                                                                               | 118/986 [14:22<2:08:57,  8.91s/it]"
     ]
    },
    {
     "name": "stdout",
     "output_type": "stream",
     "text": [
      "generated explanation: <pad> <extra_id_0> When food is too much, it can cause a person to gain weight. This can happen when they eat too much and over time, causing them to gain more fat. This can lead to a buildup of body fat, which can then be stored in the liver, intestines, and a number of other bodily tissues. This can lead to a number of different health problems, including diabetes, high blood pressure, and kidney problems. Moreover, excess fat can also lead to weight gain, as the body stores of fat can become stored in the body stores of calories, which can cause people to become obese. This can lead to become overweight and eventually lead to a condition called metabolic changes in the body after a person can lead to become fat, which can lead to become fat. In addition, the body stores of calories, which can lead to a number of calories, leading to the body to become fat and become fat. This can lead to increase in the body’s, leading to a number of calories, which can lead to an increase in the body’s, which can lead to an increase in the body stores of calories. This can lead to a number of calories, which can lead to a rise in the body becoming fat. This can lead to a number of calories, and cause the body to gain fat. This can cause a rise in order to a rise in the body to become a rise in the body.</s>\n",
      "########\n",
      "*******\n",
      "question: It was the first time they had met their new niece, it was good to have everybody together at the annual what?\n",
      "answer: family reunion\n",
      "choices: [\"brother's house\", 'family picture book', 'family tree', 'family reunion', 'book']\n",
      "common expl list: ['A family reunion is called a family reunion because this is where all of the family members gather for the re-union.']\n"
     ]
    },
    {
     "name": "stderr",
     "output_type": "stream",
     "text": [
      "\r",
      " 12%|███████████████████▋                                                                                                                                               | 119/986 [14:29<2:02:36,  8.49s/it]"
     ]
    },
    {
     "name": "stdout",
     "output_type": "stream",
     "text": [
      "generated explanation: <pad> <extra_id_0> The family reunion is an important part of the family’s life. It is the annual gathering of family members and friends that brings people together. Family reunions are a great way to bond with family and friends, and to celebrate the accomplishments of family members. Family reunions are an important part of the family’s life, as it allows them to bond and bond as a family. Family reunions are also a great way to bond and bond as a family, and to share experiences and memories. Family reunions are also a great way to bond with new baby and to be a great time with new baby. It is also a great time with their new niece and nephew, and parents. It is also a great way to spend time together as it was a family reunion. It is also a great way to bonding with their family and to be together as they are a great time with their new niece and nephew. It is also a great time to spend with their new family, and to bonding and to bond with each other. It is a great time with the family and to be together as a special occasion.</s>\n",
      "########\n",
      "*******\n",
      "question: If you're expressing yourself in a public forum, what may you experience?\n",
      "answer: stage fright\n",
      "choices: ['danger', 'embarrassment', 'stage fright', 'getting arrested', 'blank stares']\n",
      "common expl list: ['If you are expressing yourself in a public forum, you may experience stage fright, which is the fear of being embarrassed in front of a large audience.', 'Stage fright is the feeling of embarrassment or nervousness at the thought of being in front of people, and being on stage for a performance is a good example of a place where one often experiences stage fright. In such a case, their performance might be', 'A common example of expressing oneself in public is on stage. Members of an audience may stare and become bored, and at worst they may hiss or boo.']\n"
     ]
    },
    {
     "name": "stderr",
     "output_type": "stream",
     "text": [
      "\r",
      " 12%|███████████████████▊                                                                                                                                               | 120/986 [14:33<1:43:15,  7.15s/it]"
     ]
    },
    {
     "name": "stdout",
     "output_type": "stream",
     "text": [
      "generated explanation: <pad> <extra_id_0> When you're expressing yourself in public, stage fright can be a real obstacle to overcome. It can be a very stressful time for you because you're putting your emotions into words and images. It can be difficult to express yourself in public, and it can be a source of anxiety. Stage fright can be a real obstacle to overcome, as it can be a major barrier to your confidence and independence. It can be a very painful experience to be in front of a group of people, which can cause stage a lot of anxiety and can make it easy to get through speaking in front of you are being in front of criticism or even fear. It can be difficult to speak in front of speaking in front of your life.</s>\n",
      "########\n",
      "*******\n",
      "question: He was eating too much while no exercising enough, what did he suffer as a result?\n",
      "answer: gain weight\n",
      "choices: ['hungry', 'gas', 'obesity', 'gain weight', 'feeling full']\n",
      "common expl list: [\"If you eat too much and don't exercise enough, you will gain weight.\", 'If you eat more than you burn, you gain weight.', 'Excessive food consumption leads to accumulation of fat, which then results in a higher body weight, i.e., weight gain.']\n"
     ]
    },
    {
     "name": "stderr",
     "output_type": "stream",
     "text": [
      "\r",
      " 12%|████████████████████                                                                                                                                               | 121/986 [14:37<1:28:07,  6.11s/it]"
     ]
    },
    {
     "name": "stdout",
     "output_type": "stream",
     "text": [
      "generated explanation: <pad> <extra_id_0> He was eating too much and not exercising enough, which caused him to gain weight. The reason for this is because he was eating too much and not exercising enough. Eating too much can lead to weight gain, as it can cause the body to store stored fat, which can lead to a buildup of fat cells. This can lead to the body storing fats in the body, which can lead to an increase in body fat. This can lead to a rise in body weight, as the body is unable to burn the calories. The fact that he was not exercising enough calories, which can lead to the body to gain weight. Consequently, he was gaining weight gain weight.</s>\n",
      "########\n",
      "*******\n",
      "question: Randy was not doing housework.   His wife was raising two children, and this only increased her workload. It put her under a lot of stress.  What might this lead to?\n",
      "answer: arguments\n",
      "choices: ['asthma', 'more', 'boredom', 'headache', 'arguments']\n",
      "common expl list: ['Stress is often related to family life. Being under stress, the wife might verbally lash out at her husband, which could potentially lead to arguments']\n"
     ]
    },
    {
     "name": "stderr",
     "output_type": "stream",
     "text": [
      "\r",
      " 12%|████████████████████▏                                                                                                                                              | 122/986 [14:45<1:38:10,  6.82s/it]"
     ]
    },
    {
     "name": "stdout",
     "output_type": "stream",
     "text": [
      "generated explanation: <pad> <extra_id_0> Randy was not doing housework. This put his wife under a lot of stress. She was not doing any housework, which could lead to arguments. Randy was not doing housework, and this put her under a lot of pressure. This only increased her workload and made her feel more stressed. This only increased the stress for her and made her feel more stressed. This only increased her workload and made her feel more stressed. This could lead to arguments. Randy was not doing any housework, and this could lead to her being under more stress. This could lead to an increase in her husband’s stress. This could lead to arguments. Randy was not doing any housework, and could lead to more stress. This could lead to a lot of stress. This could lead to more stress could lead to more stress. This could lead to a lot of stress could lead to more stress. Randy was not doing housework, and his wife under stress could lead to a lot of stress. It could also lead to arguments. This could lead to a lot of stress could lead to a lot of arguments. This could lead to more stress</s>\n",
      "########\n",
      "*******\n",
      "question: Where can you learn about a ferret with special abilities far beyond normal ferrets?\n",
      "answer: comic book\n",
      "choices: ['comic book', 'out of doors', 'great britain', 'redwall', 'north carolina']\n",
      "common expl list: ['ferrets are lovable pets that occasionally pop up in comic or animated shows and movies. Occasionally a ferret is rodent, but more often they are the companion of a hero.']\n"
     ]
    },
    {
     "name": "stderr",
     "output_type": "stream",
     "text": [
      "\r",
      " 12%|████████████████████▎                                                                                                                                              | 123/986 [14:53<1:43:08,  7.17s/it]"
     ]
    },
    {
     "name": "stdout",
     "output_type": "stream",
     "text": [
      "generated explanation: <pad> <extra_id_0> A ferret with special abilities is a character who has special abilities beyond normal ferrets. This character has special abilities that make him or her unique and unique. These abilities are often portrayed in comic books as characters who have special powers or abilities. For example, a ferret with special abilities can jump, fly, and even fly. This makes them an interesting character to watch, as they can also fly, jump, and fly. They also have special abilities that allow them to fly and fly. They also have special abilities that they can also be found in comic books. The characters have special abilities are often featured in comic books, too. Comic books also feature characters with special abilities, such as their abilities. The comic books often feature characters in their abilities and their abilities are often featured in comics. In addition, they also, the characters often appear in their abilities in comic books often appear in comic books. The characters often appear in the characters in the characters in the characters in comic book characters are often featured in different characters.</s>\n",
      "########\n",
      "*******\n",
      "question: When people have guests over, what do they often do for their guests?\n",
      "answer: cook food\n",
      "choices: ['talk to each other', 'learn from each other', 'demand justice', 'cook food', 'share food']\n",
      "common expl list: [\"When people have guests over, it's common for them to make food for their guests.\", \"It's common to cook food for guests, which can feed everyone.\", \"People often prepare and share food because it's a way to welcome and appreciate each other.\", 'People often cook food for their guests.', \"People who have guests (guests of any kind) over tend to cook them food. The food can either be pre-cooked, and ready to be served upon the guest's arrival, or consumed while the two of them have a conversation.\"]\n"
     ]
    },
    {
     "name": "stderr",
     "output_type": "stream",
     "text": [
      "\r",
      " 13%|████████████████████▍                                                                                                                                              | 124/986 [15:00<1:42:25,  7.13s/it]"
     ]
    },
    {
     "name": "stdout",
     "output_type": "stream",
     "text": [
      "generated explanation: <pad> <extra_id_0> People often cook food for guests when they have guests over because it is a great way to keep the guests happy and entertained. Food is often made from fresh ingredients and prepared with care. It is often served hot, fresh, and homemade. This is why it is important to prepare a variety of dishes to serve guests. People often cook food for guests over because it is easy to prepare and can be made in a short amount of time. People can also use the time to entertain guests and entertain them. Food preparation is also important because guests enjoy eating out of time spent with the opportunity to provide them with a great way to entertain them. Food is often served to entertain them and provide them with a fun time spent with friends or family. Food is often served as well-time spent with friends and enjoyed time together. It can be enjoyed by people spending time with their guests. Food is also a great way to keep them a special occasion. In addition, people often make it easy to share with a great way to share a great way to entertain and share with other guests as well as well-</s>\n",
      "########\n",
      "*******\n",
      "question: Talking to someone is pointless if they're doing what?\n",
      "answer: not listening\n",
      "choices: ['dry mouth', 'whispering', 'being heard', 'eye contact', 'not listening']\n",
      "common expl list: ['To be engaged in a conversation--particularly a one-on-one conversation, both people must be listening attentively.', 'People who are not listening to you will obviously not be able to understand your communication.']\n"
     ]
    },
    {
     "name": "stderr",
     "output_type": "stream",
     "text": [
      "\r",
      " 13%|████████████████████▋                                                                                                                                              | 125/986 [15:07<1:40:16,  6.99s/it]"
     ]
    },
    {
     "name": "stdout",
     "output_type": "stream",
     "text": [
      "generated explanation: <pad> <extra_id_0> : Not listening is the biggest reason why talking is pointless. It's not worth the time and effort to talk to someone if they're not listening. Listening is the only way to get the most out of a conversation. Listening is the key to listening. Listening is the key to understanding what the person is saying. Listening is the key to understanding what they are saying, and listening is the key to understanding what they are saying. Listening is the key to understanding what they are saying, and listening is the key to understand your story. Talking is pointless if the person is not listening to you. Talking to someone else is doing nothing but means that the person is not listening, and speaking. Talking is pointless if they are doing anything else. Listening is the best way to understand what it is important to understand the person. Talking is pointless if they are doing something that they are not listening. This is also important because listening is the best way to understand what they are doing.</s>\n",
      "########\n",
      "*******\n",
      "question: If you are enjoying sunshine on the beach, what do you likely have views of?\n",
      "answer: sea\n",
      "choices: ['windowsill', 'sunbathers', 'disneyland', 'sea', 'summer']\n",
      "common expl list: [\"The beach is a place where people go to enjoy the sun, and so it's likely that the beach would have views of the sea.\", 'To sunbathe, one would likely be found on a beach, where one would likely see the sea before anything else.', 'Seashores usually have views of the water (i.e., the \"sea\").']\n"
     ]
    },
    {
     "name": "stderr",
     "output_type": "stream",
     "text": [
      "\r",
      " 13%|████████████████████▊                                                                                                                                              | 126/986 [15:14<1:42:47,  7.17s/it]"
     ]
    },
    {
     "name": "stdout",
     "output_type": "stream",
     "text": [
      "generated explanation: <pad> <extra_id_0> When you are enjoying sunshine on the beach, what do you likely have views of? The sea is likely the first thing you see when you are enjoying sunshine on the beach. Sea views are often a great way to relax and unwind. Sea views are often a great way to unwind and unwind as the water is often clear and the sun is shining. Sea views are often a great way to relax and unwind, as the water is often a great way to unwind and unwind. Sea views can be a great place to unwinder a great day. Depending on the beach, the sun is the water can be a great opportunity to take inshore, or offshore, depending on the shore. They can be enjoyed by themselves, or by a great way to unwind or a great way to unwind and relax, or a great way to unwind. Sea views can provide a great way to unwind, or to relax and enjoy a great way to unwind. Sea views can be a great way to relax and enjoy the outdoors. Sea views can also be enjoyed by a great way to unwind.</s>\n",
      "########\n",
      "*******\n",
      "question: What does an actor do while acting?\n",
      "answer: pretend\n",
      "choices: ['branch out', 'eat curry', 'wear costume', 'pretend', 'sing songs']\n",
      "common expl list: ['Actors pretend certain things. While acting, they might pretend to be in a different location by going somewhere close to a stage feed. Actors might also pretend to possess particular materials while on stage by carrying props.']\n"
     ]
    },
    {
     "name": "stderr",
     "output_type": "stream",
     "text": [
      "\r",
      " 13%|████████████████████▉                                                                                                                                              | 127/986 [15:22<1:43:57,  7.26s/it]"
     ]
    },
    {
     "name": "stdout",
     "output_type": "stream",
     "text": [
      "generated explanation: <pad> <extra_id_0> An actor pretends to be an actor to keep a role they are playing. They pretend to be someone else, and pretending to be someone else is a great way to have fun while acting. They pretend to be someone else, and pretending to be someone else is a great way to have a good time. They pretend to be someone else, and pretending to be someone else is a great way to get attention and practice your acting skills. They pretend to be someone else, and pretend to be someone else. They pretending to play an actor pretending to be someone else, and pretending to pretending to pretending to be someone else while acting, pretending to be someone else. They also pretending to be someone else, pretending to act out of the role, and pretending to be someone else. They also pretend to be someone else, and to be someone else, and to appear as an actor pretending to be someone else. They pretend to be someone else, and to be someone else’s. a way to be someone else while acting. The actor is a way to pretending is a character.</s>\n",
      "########\n",
      "*******\n",
      "question: Where is a ring binder likely to contain budgets?\n",
      "answer: office\n",
      "choices: ['office', 'notebook', 'school', 'stationary shop', 'desk']\n",
      "common expl list: ['An office setting is the most likely place where a manager would keep a collection of budgets.', 'A ring binder is likely to contain budgets in an office, as budgets are often prepared by office workers.']\n"
     ]
    },
    {
     "name": "stderr",
     "output_type": "stream",
     "text": [
      "\r",
      " 13%|█████████████████████▏                                                                                                                                             | 128/986 [15:32<1:55:24,  8.07s/it]"
     ]
    },
    {
     "name": "stdout",
     "output_type": "stream",
     "text": [
      "generated explanation: <pad> <extra_id_0> A ring binder is a great way to organize your budgets and other financial documents. It can be used in any office, including the office. It can be used to store information in a variety of formats, such as a document folder, ring binder, or a file folder. It can also be used to store other office materials such as receipts, receipts, and other important documents. It can also be used to store receipts, certificates, and other documents. It can also be used to store receipts, and other documents, such as a budget can be used to store documents in ring binder in the office, such as ring binder, and other areas of the budgets. It can also be used to store budgets in ring binders, such as a ring binder can be used to store documents. It is also be used to store other important documents, such as ring binders, or a budget in ring binder in an office, or even in ring binder can be used to store documents. Ring binder can be used to store documents such as a budget in an office or in an office.</s>\n",
      "########\n",
      "*******\n",
      "question: Where do you go when you're about to board a vehicle on railing?\n",
      "answer: railway station\n",
      "choices: ['railway station', 'deck', 'flight of stairs', 'porch', 'bus station']\n",
      "common expl list: ['Railway stations are where you board trains, which are often on rails.', 'Trains and busses both commonly make use of rail transportation to facilitate their travel. Railway station is the station they are staking out to board at. Thus, railway station is where you would go if you need to board a vehicle on a']\n"
     ]
    },
    {
     "name": "stderr",
     "output_type": "stream",
     "text": [
      "\r",
      " 13%|█████████████████████▎                                                                                                                                             | 129/986 [15:38<1:47:29,  7.53s/it]"
     ]
    },
    {
     "name": "stdout",
     "output_type": "stream",
     "text": [
      "generated explanation: <pad> <extra_id_0> A railway station is the best place to go when you're about to board a vehicle on railings. It is the best place to go when you're about to board a vehicle on railing because it is the only place that has a dedicated railing system. It is also the only place that has a dedicated railing system, which allows you to board a vehicle on railings safely and without any problems. It is also the only place that can be used to check whether the vehicle is safe to board and to get the railing system, and to board a train station can help you to get to the right side of the vehicle on railing. Trains are also often called upon arrival at the station, which is the train station, and departures. Trains are a railway stations, train stations are designed to help you board a railway station, which is often the best place to get on railings to board a vehicle.</s>\n",
      "########\n",
      "*******\n",
      "question: Where can I go to see a really big toy balloon floating at the top of a dome?\n",
      "answer: circus\n",
      "choices: ['parade', 'circus', 'amusement park', 'birthday party', 'magic show']\n",
      "common expl list: ['Circuses often have big inflatables on the top dome of a tent; inside, they could house various attractions such as clowns, acts, games, rides, food, drinks, etc.']\n"
     ]
    },
    {
     "name": "stderr",
     "output_type": "stream",
     "text": [
      "\r",
      " 13%|█████████████████████▍                                                                                                                                             | 130/986 [15:46<1:48:24,  7.60s/it]"
     ]
    },
    {
     "name": "stdout",
     "output_type": "stream",
     "text": [
      "generated explanation: <pad> <extra_id_0> A circus is a great place to see a toy balloon floating at the top of a dome. The balloons are usually inflated by a circus performer who then blows them up into the air. The balloons are usually about a foot in diameter, and they can be found in a variety of shapes and sizes. The balloons are usually inflated by a circus performer, who then blows them up into the air and then floats back down into the dome. The circus performer then blows the balloon in the air and shows off the crowd. The balloons are often sold by a circus. The toy balloons are often presented in a circus, usually at a circus. The balloons are often seen in a large dome, and are often inflated in a variety of different shows and shows. The circus shows often feature a variety of shows, shows, and productions, such as a show, or in a large toy show. The circus is often a show. a toy balloon is a circus.</s>\n",
      "########\n",
      "*******\n",
      "question: They got to the door and it was locked, he reached in his jeans what to retrieve the key?\n",
      "answer: pocket\n",
      "choices: ['pocket', 'bus depot', 'lock', 'purse', 'front door']\n",
      "common expl list: ['Most people keep house keys in their pocket.', 'People often keep their keys in their pockets.']\n"
     ]
    },
    {
     "name": "stderr",
     "output_type": "stream",
     "text": [
      "\r",
      " 13%|█████████████████████▋                                                                                                                                             | 131/986 [15:54<1:50:28,  7.75s/it]"
     ]
    },
    {
     "name": "stdout",
     "output_type": "stream",
     "text": [
      "generated explanation: <pad> <extra_id_0> He reached in his jeans to retrieve the key. He reached in his pocket to retrieve the key. He reached in his jeans to retrieve the key. He reached in his pockets to retrieve the key. He reached in his pockets to retrieve the key. He reached in his jeans to retrieve the key. He reached in his pockets to retrieve the key. He reached in his jeans to retrieve the key. He reached in his pocket to retrieve the key. He reached in his jeans to retrieve the key. He reached in his jeans to retrieve the key. He reached into his jeans and he could find the key in his jeans. He reached in his jeans, the key. The key was locked the door. He reached in his jeans, and found the key in his jeans, he found it in his jeans. He had the key in his pocket, but the key in his pocket to retrieve the key in his jeans to retrieve the key. The key was locked the door was locked the key was in his jeans, a pocket to retrieve the key in his jeans, and found the key. The key was in his jeans, the key was in his jeans, he found the key in his jeans. The key was in his jeans, and the door was locked</s>\n",
      "########\n",
      "*******\n",
      "question: The car was overheating, where was it located?\n",
      "answer: in phoenix\n",
      "choices: ['airport', \"neighbor's house\", 'in phoenix', 'repair shop', 'street corner']\n",
      "common expl list: ['Phoenix is a hot place, and cars often overheat there.']\n"
     ]
    },
    {
     "name": "stderr",
     "output_type": "stream",
     "text": [
      "\r",
      " 13%|█████████████████████▊                                                                                                                                             | 132/986 [16:00<1:42:29,  7.20s/it]"
     ]
    },
    {
     "name": "stdout",
     "output_type": "stream",
     "text": [
      "generated explanation: <pad> <extra_id_0> The car was overheating because it was located in a high-rise building in phoenix. The car was located in a high-rise building that was surrounded by taller buildings and other buildings. The building is located in the center of the city, near the airport and the hospital. The building is located in the middle of a shopping center and a shopping center, which is located in the middle of the city. The car was located in the middle of the city, so it is located in a central location. The car was located in ad while driving in a city near downtown. The building is located in a city, so it was located in a suburb of the city, which is located in a suburb of Phoenix, which is located in the city of a shopping. The building is located in a centrally located in a shopping center, which is located in the middle of the city. The car was</s>\n",
      "########\n",
      "*******\n",
      "question: Where is likely to have a walk in type wardrobe?\n",
      "answer: mansion\n",
      "choices: ['recreational vehicle', 'clothes cupboard', 'house', 'mansion', 'bedroom']\n",
      "common expl list: ['A walk in wardrobe is a large type of closet that could be found in a mansion.', 'A walk-in wardrobe is a large wardrobe that is usually found in a mansion.', 'As I think of scenarios, the result I expect the most is that of a person with a lot of clothes, or a clothing designer, living in a mansion; these people might have the luxury of a walk in wardrobe.']\n"
     ]
    },
    {
     "name": "stderr",
     "output_type": "stream",
     "text": [
      "\r",
      " 13%|█████████████████████▉                                                                                                                                             | 133/986 [16:08<1:45:47,  7.44s/it]"
     ]
    },
    {
     "name": "stdout",
     "output_type": "stream",
     "text": [
      "generated explanation: <pad> <extra_id_0> A mansion is likely to have a walk in type wardrobe because it is a large space. It is also likely to have a large number of rooms, which can accommodate a large number of people. A mansion is also likely to have a large wardrobe, which can be arranged in a variety of ways depending on the size of the room. This can include a bed, dresser, and even a full-size wardrobe. A mansion is likely to have a walk in type wardrobe, as it is often a luxury and luxury homes, which can provide guests with a walk in addition to the luxury of a walk in style. The manor house is likely to have a walk in style, and the style of the mansion is likely to have a walk in a walk in style. Mansion is often a mansion, and is likely to have a walk in the space. A mansion is a luxury lifestyle. mansion is also likely to have a walk in a mansion. a walk in a mansion is likely to have a walk in a luxury.</s>\n",
      "########\n",
      "*******\n",
      "question: How bad is the punishment for someone who is over indulgent?\n",
      "answer: severe\n",
      "choices: ['severe', 'harsh', 'hard', 'strict', 'self denying']\n",
      "common expl list: ['Overindulgence in anything is bad, possibly leading to lethargy, poor health, overspending, and the like. As a result of this, a punishment for a person who is over-indulgent could be severe.']\n"
     ]
    },
    {
     "name": "stderr",
     "output_type": "stream",
     "text": [
      "\r",
      " 14%|██████████████████████▏                                                                                                                                            | 134/986 [16:12<1:29:51,  6.33s/it]"
     ]
    },
    {
     "name": "stdout",
     "output_type": "stream",
     "text": [
      "generated explanation: <pad> <extra_id_0> A person who is over indulgent is punished by a severe punishment. This punishment is often a punishment of a lot of time and effort, and can be quite harsh. For example, a person who is over indulgent may be punished by a lot of different ways. For example, a person who is over indulgent may be punished with a lot of time and effort, and may even be punished with a lot of fines and/or imprisonment. This punishment can be severe if the person is over indulgenty. It can be very easily and/a person who is over indulgent. It can be very severe, or even more time and/or.</s>\n",
      "########\n",
      "*******\n",
      "question: She was going to bed at 11 at night, what was she looking to do?\n",
      "answer: falling asleep\n",
      "choices: ['falling asleep', 'relaxing', 'rest', 'dreaming of', 'laziness']\n",
      "common expl list: [\"People go to bed when they're tired and want to sleep\", 'Falling asleep is often a desired result when going to bed.']\n"
     ]
    },
    {
     "name": "stderr",
     "output_type": "stream",
     "text": [
      "\r",
      " 14%|██████████████████████▎                                                                                                                                            | 135/986 [16:18<1:31:25,  6.45s/it]"
     ]
    },
    {
     "name": "stdout",
     "output_type": "stream",
     "text": [
      "generated explanation: <pad> <extra_id_0> She was going to bed at 11 at night, and she was looking for something to do<extra_id_1> e<extra_id_2> She was going to bed at 11 at night, and she was looking for something to do, and falling asleep was the most obvious thing she could do. She was going to bed at 11 at night, and she was looking for something to do to help her fall asleep. Falling asleep is the most important thing she could do to help herself fall asleep, and she was going to do this by putting on her favorite outfit, and falling asleep by a lot of her. She was going to sleep at 11 at night, and she was going to sleep at 11 at night, and she was going to sleep at 11 at night, and a lot of different ways of her to get to wake up in the morning, and if she wanted to get to fall asleep quickly, and she would be a lot of her eyes, and she would likely to fall asleep by putting her in her body, and she would most likely</s>\n",
      "########\n",
      "*******\n",
      "question: A company with the moniker of Big Sky Excavation would probably be found where?\n",
      "answer: montana\n",
      "choices: ['a forest', 'city', 'egypt', 'montana', 'desert']\n",
      "common expl list: ['Mountain ranges are often called \"big sky\"s. The term is popular for companies in Montana, a state with lots of mountians, including two major mountain ranges.']\n"
     ]
    },
    {
     "name": "stderr",
     "output_type": "stream",
     "text": [
      "\r",
      " 14%|██████████████████████▍                                                                                                                                            | 136/986 [16:29<1:48:24,  7.65s/it]"
     ]
    },
    {
     "name": "stdout",
     "output_type": "stream",
     "text": [
      "generated explanation: <pad> <extra_id_0> A company with the moniker of Big Sky Excavation would probably be found where the company is located. In fact, the company is located in the mountains of northern Montana, which is where it is located. The company is known for its large, deep excavations, which can be found in a wide variety of terrains, including rock, rock, and gravel. The company is also known for its high quality and efficient equipment, as well as its dedication to customer service. The company is located in the mountains of northern Montana, which is the company is located in the Rockies, in the mountains of the company is located. Montana is located, which is located in the mountains of the mountains of the mountains of the mountains, and is located in the mountains, which is an important part of the mountains, and the company is located in the mountains. The company is also known for its commitment to provide quality and a variety of excavations in the mountains of the company is located in the mountains of the mountains of the mountains of the company is located in the mountains of the west, which is located in the mountains. The company is located in the mountains of the mountains, which is located in the a company is located in the mountains in the mountains and the area of the mountains, which is a wide range of the company’s location is located in the mountains of the company’s’s’s’s location is a large, and its reputation for its dedication and its employees are a company’s reputation for its reputation and its diversifying and its expertise and its employees, which is also a mountain areas of the region, and provides services, as it offers<extra_id_26> </s>\n",
      "########\n",
      "*******\n",
      "question: Which horseman of the apocalypse is often depicted next to death?\n",
      "answer: war\n",
      "choices: ['battlefield', 'the healer.', 'funeral', 'war', 'hospital']\n",
      "common expl list: ['A time of war is also often associated with someone dying.']\n"
     ]
    },
    {
     "name": "stderr",
     "output_type": "stream",
     "text": [
      "\r",
      " 14%|██████████████████████▋                                                                                                                                            | 137/986 [16:38<1:54:03,  8.06s/it]"
     ]
    },
    {
     "name": "stdout",
     "output_type": "stream",
     "text": [
      "generated explanation: <pad> <extra_id_0> The horseman of the apocalypse is often depicted next to death because it is often depicted next to the horseman of the horseman of the horseman of the horseman of the horseman of the apocalypse. The horseman of the horseman of the horseman of the horseman of the horseman of the horseman of the horseman of the horseman of the horseman of the horseman of the horseman of the horseman of the horseman of the horseman of the horseman of the horseman of the horseman of the horseman of the horseman of the horseman of the horseman of the horseman of the horseman of the horseman of the horseman of the horseman of the horseman of the horseman of the battle. The horseman of the horseman of the horseman of the horseman of the horseman of the horseman of the horseman of the horseman of the horseman of the horseman of the horseman of the apocad in the apocapocapocapocas of the apocapoca horseman of the apocapocad.</s>\n",
      "########\n",
      "*******\n",
      "question: What could be used to write with a steel pen?\n",
      "answer: hand\n",
      "choices: ['warehouse', 'arm', 'hand', 'desk drawer', 'veterinary office']\n",
      "common expl list: ['you write with a steel pen using your hand.', 'Using a steel pen requires someone to hold it, and we associate writing with hands. Powder can be used with steel pens as a \"contrast medium.']\n"
     ]
    },
    {
     "name": "stderr",
     "output_type": "stream",
     "text": [
      "\r",
      " 14%|██████████████████████▊                                                                                                                                            | 138/986 [16:43<1:42:39,  7.26s/it]"
     ]
    },
    {
     "name": "stdout",
     "output_type": "stream",
     "text": [
      "generated explanation: <pad> <extra_id_0> A steel pen is a writing instrument that can be used to write with a handwritten note. It is designed to fit into the hand of the user, allowing them to write with ease. It is also designed to fit comfortably in the hand, allowing the user to comfortably write with the pen. The pen is made of a high-grade plastic and is made of a durable, durable material that is easy to grip and write with. It is also designed to be used with a variety of materials, including paper, pencils, pen, such as well as well as a pen. The pen is also a pen, making it easy to write with a pen hand, making it easy to write with a pen. The pen is also a great choice for writing with a pen, as it is a variety of different writing tools, making it a pen for different types of writing.</s>\n",
      "########\n",
      "*******\n",
      "question: I needed to find out how to contact a person with a certain name, where should I look?\n",
      "answer: phone book\n",
      "choices: ['directory', 'michigan', 'roster', 'phone book', 'certificate']\n",
      "common expl list: [\"Phone books are used to find people's phone numbers.\", 'People are listed in phone books for easy access by callers.', 'A phone book is likely to have the phone numbers of nearby people.', 'Phone books are usually a good source for finding phone numbers to call other people.']\n"
     ]
    },
    {
     "name": "stderr",
     "output_type": "stream",
     "text": [
      "\r",
      " 14%|██████████████████████▉                                                                                                                                            | 139/986 [16:47<1:29:26,  6.34s/it]"
     ]
    },
    {
     "name": "stdout",
     "output_type": "stream",
     "text": [
      "generated explanation: <pad> <extra_id_0> If I needed to find how to contact a certain person with a certain name, I would look in the phone book. A phone book is a great way to find out how to contact a person with a specific name. It can help me find the right person to contact and the right place to do so. Phone books can also be used to find out the right way to contact a person. Phone books can be a great place to start when you need to find out how to contact someone. Phone books can also help you can find the right away from the right way to call someone with the right way to contact someone. In addition, phone books can be used to find out how to call the right way to call the right person's name, such as well as a certain name, or</s>\n",
      "########\n",
      "*******\n",
      "question: What is important for a couple to do?\n",
      "answer: communicate\n",
      "choices: ['live together', 'row about', 'plan to marry', 'communicate', 'marry each other']\n",
      "common expl list: [\"To make a relationship work, it's very important to communicate with each other.\", 'Communication is a key part of a healthy relationship and - often equally as important - is the commitment to communicate effectively.', 'Couples who communicate well are more likely to stay together, and thus, it is important for a couple to communicate.']\n"
     ]
    },
    {
     "name": "stderr",
     "output_type": "stream",
     "text": [
      "\r",
      " 14%|███████████████████████▏                                                                                                                                           | 140/986 [16:56<1:40:20,  7.12s/it]"
     ]
    },
    {
     "name": "stdout",
     "output_type": "stream",
     "text": [
      "generated explanation: <pad> <extra_id_0> Communicating is an important part of a relationship. Communication is the ability to communicate and to establish trust. Communication is the ability to establish a relationship and to establish a foundation for a successful relationship. Communication is the key to a successful relationship. Communication is the key to a successful relationship. It is important for couples to communicate and establish a foundation for a successful relationship. Communication is the key to a successful relationship. Communication is the key to a successful relationship. Communication is the ability to establish trust and to establish a relationship. Communication is the relationship. Communication is important for a relationship. Communication is the ability to establish a relationship. Communication is the ability to establish a strong bond between the couple. It is also important for the relationship to build a strong bond. It is important for couples to communicate and to create a successful relationship. It is important for a successful relationship. Communication is the key to establish a successful relationship. It is important for a successful relationship to establish and to establish a strong bond between the two or to establish a strong relationship. It is the two to establish a solid foundation for a successful and to establish a strong bond. It is the key to build a strong relationship. It is a strong bond between two couples.</s>\n",
      "########\n",
      "*******\n",
      "question: The botanist knew the plant was living, what did he observe that led him to know that?\n",
      "answer: respiration\n",
      "choices: ['interaction', 'death', 'respiration', 'expiration', 'chlorophyll']\n",
      "common expl list: [\"The teacher commonly noted that plants give off oxygen as a result of respiration, which helps fuel their energy and growth. This was evidence of a plant's life.\"]\n"
     ]
    },
    {
     "name": "stderr",
     "output_type": "stream",
     "text": [
      "\r",
      " 14%|███████████████████████▎                                                                                                                                           | 141/986 [16:59<1:23:03,  5.90s/it]"
     ]
    },
    {
     "name": "stdout",
     "output_type": "stream",
     "text": [
      "generated explanation: <pad> <extra_id_0> The botanist observed the plant’s respiration. This was a sign that the plant was living, and the plant was breathing. This was a good indicator that the plant was living, as it is able to breathe in and out of air and water. This can be a sign of a living organism. It is also a sign that the plant is breathing. This can be a sign that the plant is breathing, and it is a sign that the plant is breathing. This is a good indicator that the plant is alive, as it is alive.</s>\n",
      "########\n",
      "*******\n",
      "question: What is it called when teens are together not doing anything in particular?\n",
      "answer: hang out\n",
      "choices: ['smoke', 'homework', 'volunteer', 'party', 'hang out']\n",
      "common expl list: ['Hang out is a term that could be used for teens hanging out together, typically with no particular agenda.', 'Hanging out\" is used to describe events where people are socializing, doing nothing in particular. Other events include hanging out with a purpose (doing homework, studying outside, going shopping, etc.).']\n"
     ]
    },
    {
     "name": "stderr",
     "output_type": "stream",
     "text": [
      "\r",
      " 14%|███████████████████████▍                                                                                                                                           | 142/986 [17:08<1:34:44,  6.74s/it]"
     ]
    },
    {
     "name": "stdout",
     "output_type": "stream",
     "text": [
      "generated explanation: <pad> <extra_id_0> When teens hang out, they are usually doing something together. This is because teens are together doing nothing in particular. They are often hanging out to relax and socialize. This is a great way to spend time with friends or family. It is also a great way to bond and make new friends. During the time of hang out, teens are often able to talk about anything they want to discuss, share stories, or just hang out. This is because it is a great way to bond and make new friends. It is a great way to spend time with the whole day. It is also a great way to spend time together on a great way to spend quality time with friends. It is also a great way to bonding with your friends. It is a great way to spend time together. It is a great way to make it a great way to spend time together and to spend time together. It is a great way to bonding. It is a great way to spend time together. It is a great way to spend time with other activities. It is a great way to spend time together and can be a great way to bond. It is a great way to create new and bonding.</s>\n",
      "########\n",
      "*******\n",
      "question: The saw was not necessary for car repair, so what wasn't it included with during pucrhase?\n",
      "answer: tool kit\n",
      "choices: ['tool shed', 'tool box', 'tool kit', 'hardware store', 'toolbox']\n",
      "common expl list: ['A saw is another name for a cutting tool, but they are often not included with a tool kit, because a kit is used for other repair needs (bolts, screws, bindings, etc.), and a saw is not required for a car repair']\n"
     ]
    },
    {
     "name": "stderr",
     "output_type": "stream",
     "text": [
      "\r",
      " 15%|███████████████████████▋                                                                                                                                           | 143/986 [17:17<1:41:57,  7.26s/it]"
     ]
    },
    {
     "name": "stdout",
     "output_type": "stream",
     "text": [
      "generated explanation: <pad> <extra_id_0> A tool kit is a set of tools that are designed to be used in a variety of different situations. Typically, a tool kit includes a saw, a drill, a drill press, a wrench, a hammer, a drill press, a saw, a drill press, a sander, a rotary saw, a rotary tool, a wrench, a breaker, a wrench, and a saw. Typically, a tool kit includes a saw, a tool kit includes a wrench, and a tool for car repair, such as a car repair, or a car repair, or a saw is a tool for car repair. A tool kit includes a wrench, a wrench, a a saw, a saw, a tool, a wrench, a wrench, a wrench, a saw, a wrench, and a wrench, a tool kit, a tool, a saw, a tool kit includes a saw, a saw isn's saw,'s,'s,'s,'t,'s,'</s>\n",
      "########\n",
      "*******\n",
      "question: Where will my kid put their coin in their room?\n",
      "answer: piggy bank\n",
      "choices: ['piggy bank', 'wishing well', 'parking meter', 'under pillow', 'change purse']\n",
      "common expl list: ['Kids commonly save small amounts of money for later use, and these savings are often kept in piggy banks.', 'Piggy banks are often used to store coins.']\n"
     ]
    },
    {
     "name": "stderr",
     "output_type": "stream",
     "text": [
      "\r",
      " 15%|███████████████████████▊                                                                                                                                           | 144/986 [17:25<1:46:55,  7.62s/it]"
     ]
    },
    {
     "name": "stdout",
     "output_type": "stream",
     "text": [
      "generated explanation: <pad> <extra_id_0> A piggy bank is a place for your child to store coins in their room. It is a safe place for them to store their coins in their room. It is also a great place for them to keep their money safe and secure. It is also a great way for them to keep track of their money and keep track of it. A piggy bank is a great way for your child to keep track of their coins. It is a great way for them to keep track of their coins and keep track of how much money they have a piggy bank is a great way for them to keep track of their room. It is also a great way to keep an easy to access to easily accessible and easy to find. It is also a great way for them to store their coins in their room. A piggy bank is a great way for them to keep track of coins and a safe place for them to keep their coins and easily accessible. A piggy bank is a great way for parents to keep their coins in their room. It is a great way for them to keep them from day to keep them from a variety of coins in their room. It is a great way to keep them from their money in their money in their coins.</s>\n",
      "########\n",
      "*******\n",
      "question: Where is a fire extinguisher likely to be found behind the seat?\n",
      "answer: school bus\n",
      "choices: ['school bus', 'house', 'garden', 'stairwell', 'garage']\n",
      "common expl list: ['Fire extinguishers are required on public-transit vehicles, such as school buses.']\n"
     ]
    },
    {
     "name": "stderr",
     "output_type": "stream",
     "text": [
      "\r",
      " 15%|███████████████████████▉                                                                                                                                           | 145/986 [17:32<1:45:18,  7.51s/it]"
     ]
    },
    {
     "name": "stdout",
     "output_type": "stream",
     "text": [
      "generated explanation: <pad> <extra_id_0> A school bus is a common vehicle for students to travel in, because it is often the only place where they can find a fire extinguisher. School buses are designed to be mobile, and therefore, they are often the first to carry a fire extinguisher. Buses are often parked at the front of the bus, behind the seat, or at the back. This is because they are able to quickly and easily access the fire extinguisher, and can be found at any time. A school bus is usually found behind the seat, so the seat is the back of the best place to be found in the most often found behind the seat, and can be found in the back of the seat, and the seat. The fire exting agent can be used to quickly and easily accessible. School buses are also equipped with a fire extinguishable to quickly and easily accessible. The fire exting agent can be easily a school bus can be used to quickly and easily accessible, and can be found behind the seat, and easily accessible. The seat is a fire extinguit</s>\n",
      "########\n",
      "*******\n",
      "question: His therapist said he had to get out there and begin socialising, it was the only was to start what?\n",
      "answer: friendships\n",
      "choices: ['conflicts', 'having fun', 'jealousy', 'getting out there', 'friendships']\n",
      "common expl list: ['His therapist said that he needed to speak to people if he wanted to be less withdrawn. This would help him to get out of his shell.', 'Interacting with other people socially is likely to result in making new friends.']\n"
     ]
    },
    {
     "name": "stderr",
     "output_type": "stream",
     "text": [
      "\r",
      " 15%|████████████████████████▏                                                                                                                                          | 146/986 [17:35<1:26:20,  6.17s/it]"
     ]
    },
    {
     "name": "stdout",
     "output_type": "stream",
     "text": [
      "generated explanation: <pad> <extra_id_0> He had to get out there and start socialising, it was the only way to start socialising. He had to start with friendships, as they are the only way to start making new friends and start making new ones. Friendships are the best way to start socialising and make new friends. They are the only way to start making new friends and making new ones. They are also the only way to start making new ones and making new ones. They are important to making new friends and making new ones. They are also the only way to start making new friends and therapist said.</s>\n",
      "########\n",
      "*******\n",
      "question: What is likely true about a dog that escapes regularly?\n",
      "answer: very smart\n",
      "choices: ['very smart', 'very loyal', 'tired', 'friendly', 'faithful']\n",
      "common expl list: ['Intelligent dogs (especially when concerned with food and treats) who are looking for some form of freedom will have the intelligence to escape regularly.']\n"
     ]
    },
    {
     "name": "stderr",
     "output_type": "stream",
     "text": [
      "\r",
      " 15%|████████████████████████▎                                                                                                                                          | 147/986 [17:42<1:29:45,  6.42s/it]"
     ]
    },
    {
     "name": "stdout",
     "output_type": "stream",
     "text": [
      "generated explanation: <pad> <extra_id_0> A dog that escapes regularly is likely to be very smart. It is able to learn new tricks, learn new tricks, and even learn new commands. It is also able to learn new tricks and tricks that can help it escape. It is also likely to be able to escape from home. This can help it to avoid capture and harm, and it can also help it to escape from danger. It is also likely that the dog is very smart, as it is able to learn new tricks and tricks to stay safe and secure. It is also likely to be very smart, and can easily trained to escape from a dog that is very smart, as it can be trained to escape from danger. It is also likely that the dog is also very intelligent, and can be trained to escape regularly, and is likely that the dog is very smart and is very smart. Dogs are likely to escape from danger, and to stay safe and secure. a dog that is smart and protect their owners from the dangers of being exposed to predators.</s>\n",
      "########\n",
      "*******\n",
      "question: If you're going to a party in an alley, what is likely to happen?\n",
      "answer: doing drugs\n",
      "choices: ['call the police', 'doing drugs', 'new contacts', 'making new friends', 'plan']\n",
      "common expl list: ['People going to parties in an alley are often going to do drugs and vice.', 'People often do drugs at parties, and alleys are often used for parties.', 'Alleys are associated with crime; and, people performing illegal drugs at a party is illegal.']\n"
     ]
    },
    {
     "name": "stderr",
     "output_type": "stream",
     "text": [
      "\r",
      " 15%|████████████████████████▍                                                                                                                                          | 148/986 [17:46<1:16:58,  5.51s/it]"
     ]
    },
    {
     "name": "stdout",
     "output_type": "stream",
     "text": [
      "generated explanation: <pad> <extra_id_0> If you're going to a party in an alley, you're likely to be doing drugs because drugs are a common source of substance abuse. This is because drugs are often found in large quantities in alleys, which can be dangerous for people to take. Drugs can be found in many places, including bars, clubs, and clubs, as well as in some restaurants. Drugs can also be found in the form of booze, alcohol, and other drugs. This can lead to a high, which can lead to a party, which can lead to another party, and the party, which can lead to people doing drugs.</s>\n",
      "########\n",
      "*******\n",
      "question: The man was very tired and sore, he decided to stay in bed to what?\n",
      "answer: rest more\n",
      "choices: ['rest more', 'lazy', 'were sick', 'to be sick', \"you're sick\"]\n",
      "common expl list: ['The man was tired and sore, so he decided to rest more.', 'The man was so tired and sore, he just wanted a break. His illness would keep him in bed.', \"When people are sick, they tend to rest, as it's the most sensible thing.\"]\n"
     ]
    },
    {
     "name": "stderr",
     "output_type": "stream",
     "text": [
      "\r",
      " 15%|████████████████████████▋                                                                                                                                          | 149/986 [17:50<1:12:28,  5.19s/it]"
     ]
    },
    {
     "name": "stdout",
     "output_type": "stream",
     "text": [
      "generated explanation: <pad> <extra_id_0> The man was very tired and sore, he decided to stay in bed to rest. This decision was made because he was very tired and sore, and he was tired. He was also tired and sore because he was in bed with his partner, which is a common practice in the United States. During this time, he was in bed to rest and to relax. By staying in bed, he was able to get a good night’s sleep, and he was able to get to rest. During the day, he was very tired and tired and was a man was also tired, and to get he was he was tired and sore. The man was sore and he was a decision to rest was made because he was tired and sore.</s>\n",
      "########\n",
      "*******\n",
      "question: He was back in his hometown, he was planning on having fun and doing what?\n",
      "answer: visiting friends\n",
      "choices: ['being understood', 'hug', 'rambling', 'kiss', 'visiting friends']\n",
      "common expl list: ['If a person went back to their hometown, they might be glad to see their old friends, and visit them while they are there.', 'People usually visit their friends when they return to a town where they previously used to live, because their friends would have missed them.', 'If a person is back in their hometown, they might visit their friends, who they might not see very often.']\n"
     ]
    },
    {
     "name": "stderr",
     "output_type": "stream",
     "text": [
      "\r",
      " 15%|████████████████████████▊                                                                                                                                          | 150/986 [17:54<1:07:49,  4.87s/it]"
     ]
    },
    {
     "name": "stdout",
     "output_type": "stream",
     "text": [
      "generated explanation: <pad> <extra_id_0> He was planning on having fun visiting friends<extra_id_1> he was planning on having fun<extra_id_2> He was planning on having fun visiting friends because they were his favorite way to spend time with friends and to have fun. Visiting friends is a great way to have fun and have fun with friends and family. Visiting friends is a great way to have fun and have fun with friends and family. Visiting friends is a great way to have fun and have fun with friends and family. It is also a great way to spend time with friends and have fun and having fun with new people, and sharing stories. He was planning on having fun and a great time together. He was planning on having fun and was planning on his hometown, so he could spend time with friends and spending time with his hometown.</s>\n",
      "########\n",
      "*******\n",
      "question: Where is basketball court likely to be outdoors?\n",
      "answer: city\n",
      "choices: ['high school gymnasium', 'city', 'park', 'use', 'los angeles']\n",
      "common expl list: ['Basketball courts are likely to be at parks and recreational centers in cities.', 'Basketball courts are often urban.', 'Basketball courts are often found in city parks.', 'Most American cities have basketball courts in public parks.']\n"
     ]
    },
    {
     "name": "stderr",
     "output_type": "stream",
     "text": [
      "\r",
      " 15%|████████████████████████▉                                                                                                                                          | 151/986 [18:01<1:17:06,  5.54s/it]"
     ]
    },
    {
     "name": "stdout",
     "output_type": "stream",
     "text": [
      "generated explanation: <pad> <extra_id_0> A basketball court is likely to be outdoors in the city because it is a popular sport for many people to play in the city. Basketball is a sport that is often played in cities, especially in urban areas. It is important to have a good surface for playing in the city, as it provides a great surface for running and playing basketball. The court is often placed outdoors to provide a safe environment for children to play and exercise. It is also common for basketball courts to be located in parks and open spaces, such as a park, or other sports activities, especially important for the city. Furthermore, basketball is often used by many people in the city, which is often used by the city, as it is often found in a great sport in cities, especially in the city. Basketball court is often used by athletes to play in outdoor activities such as a sport, such as a better surface for the safety and the cost of running. The city is often used by the sport, which can be a great sport. The city is a great outdoor space for sports, and play in a city.</s>\n",
      "########\n",
      "*******\n",
      "question: When you want to get the skin off of an apple, you do what to it?\n",
      "answer: peel\n",
      "choices: ['seeds inside', 'stems', 'peel', 'grocery store', 'green market']\n",
      "common expl list: ['Skin is something you peel from fruits like apples, peaches, oranges, kiwi, etc...', 'Apples have a skin that can be peeled off.']\n"
     ]
    },
    {
     "name": "stderr",
     "output_type": "stream",
     "text": [
      "\r",
      " 15%|█████████████████████████▏                                                                                                                                         | 152/986 [18:12<1:36:47,  6.96s/it]"
     ]
    },
    {
     "name": "stdout",
     "output_type": "stream",
     "text": [
      "generated explanation: <pad> <extra_id_0> When you want to remove the skin from an apple, you peel it. The peel is the best way to do this because it is the easiest and most effective way to remove the skin. Peeling an apple is a great way to remove the skin from an apple because it is much easier and more effective than using a knife. Peeling an apple is also a great way to get rid of the skin because it is easier to remove the skin off of the apple. Peeling an apple is a great way to remove the skin from an apple skin, and it is the skin off of the skin of the skin, making it easier to remove the skin. Also, the skin is easier to remove the skin. Peeling an apple is also a great way to remove the skin of the skin off of the apple is also a great way to get the skin off of the skin off of the skin off the skin. Peeling an apple skin is a great way to remove the skin of the skin of the skin off of the skin from the skin of the skin of the skin of the apple. The skin is a great way to get the skin from the skin off of the skin off the inside of the inside of the inside of the inside of the skin of the inside of the inside of the skin of the inside of the inside of the inside of the inside of the inside of the inside of the skin of the inside of the inside of the inside of the inside of the inside of the inside of the inside of the inside of the inside of the inside of the inside of the inside of</s>\n",
      "########\n",
      "*******\n",
      "question: Where could you put some knives if you are planning to bring them outside with you?\n",
      "answer: backpack\n",
      "choices: ['purse', 'backpack', 'drawer', 'sporting goods store', 'kitchen']\n",
      "common expl list: [\"Knives are usually brought along if hiking, camping, fishing, or other outings, and backpacks make it easy to transport one's belongings.\", \"To carry knives on one's person, you need some small type of container to hold the knives. Perhaps the most likely place to carry a small container is a backpack.\"]\n"
     ]
    },
    {
     "name": "stderr",
     "output_type": "stream",
     "text": [
      "\r",
      " 16%|█████████████████████████▎                                                                                                                                         | 153/986 [18:22<1:51:19,  8.02s/it]"
     ]
    },
    {
     "name": "stdout",
     "output_type": "stream",
     "text": [
      "generated explanation: <pad> <extra_id_0> A backpack is a great place to keep knives if you are planning to bring them outside with you. It is a great place to store knives if you are planning to bring them outside with you. It is also a great place to keep them if you are going to be camping or hiking. It is also a great place to store them if you are planning to bring them outside with you. A backpack is a great place to store knives if you are planning to bring them outside with you. It is easy to find a backpack is the perfect place to keep them safe. It is also a great place to keep them. Also, the knife can be easily accessible and easily accessible. It is also a great place to carry around with you on the backpack can be easily accessible for the trip. It is also a great place to store them. The backpack is a great place to store knives in a great place to keep them safe and easily accessible place to keep them in the case. The backpack can be kept in a safe place to keep them in a safe place to store knives in a knife in the perfect place to store them in a variety of different types of different types of different types of course of knives that you can be easily accessible and easily accessible to access to them.</s>\n",
      "########\n",
      "*******\n",
      "question: John watches the well dressed people from a catwalk above the stage.  He listens to them speak rehearsed lines while the audience listens.  Where is he/\n",
      "answer: theatre\n",
      "choices: ['theatre', 'new york city', 'fashion show', 'construction site', 'school play']\n",
      "common expl list: ['Theatres have catwalks where people might observe and listen to actors.']\n"
     ]
    },
    {
     "name": "stderr",
     "output_type": "stream",
     "text": [
      "\r",
      " 16%|█████████████████████████▍                                                                                                                                         | 154/986 [18:25<1:30:05,  6.50s/it]"
     ]
    },
    {
     "name": "stdout",
     "output_type": "stream",
     "text": [
      "generated explanation: <pad> <extra_id_0> John is in the middle of a play, watching the actors from a stage above the stage. He is watching the actors from the catwalk, while the audience listens. He is also watching the actors from the audience, who are listening to the actors as they speak. The audience is the audience, and John is the audience. He is the actor who is directing the play. John is the actor who is directing the actors, and he is the one who is directing the actors. He is the one who is in charge of the actors, and the roles.</s>\n",
      "########\n",
      "*******\n",
      "question: If I am creating art and have completed it to satisfaction, what is my feeling?\n",
      "answer: enlightenment\n",
      "choices: ['enlightenment', 'tired', 'frustration', 'relax', 'controversy']\n",
      "common expl list: ['Enlightenment is the label for a moment of clarity, and the word is often applied to artists who have created something unique or daring.']\n"
     ]
    },
    {
     "name": "stderr",
     "output_type": "stream",
     "text": [
      "\r",
      " 16%|█████████████████████████▌                                                                                                                                         | 155/986 [18:30<1:21:07,  5.86s/it]"
     ]
    },
    {
     "name": "stdout",
     "output_type": "stream",
     "text": [
      "generated explanation: <pad> <extra_id_0> When I am creating art, I am creating a feeling of accomplishment. When I am creating art, I am creating a feeling of fulfillment. When I am creating art, I am creating a feeling of accomplishment and satisfaction. I am creating art to express my emotions and to express my thoughts and feelings. When I am creating art, I am creating a feeling of enlightenment. I am creating art to express myself and express my thoughts and feelings in a way that is meaningful to me. I am creating art to express myself and my feelings of accomplishment and satisfaction. This feeling of satisfaction is a feeling of satisfaction and a positive, which can lead to a positive outlook on my lifelonging it will continue to create art and a positive. When I am creating a positive outlook and positive, I am more positive outlook and satisfaction.</s>\n",
      "########\n",
      "*******\n",
      "question: He was serious and pragmatic, so why did he drive his car?\n",
      "answer: transportation\n",
      "choices: ['transportation', 'car crash', 'death', 'sleepy', 'stress']\n",
      "common expl list: ['Because driving is the most practical mode of transportation judging by the time and distance required to do so.', 'People often drive cars to get from one place to another.']\n"
     ]
    },
    {
     "name": "stderr",
     "output_type": "stream",
     "text": [
      "\r",
      " 16%|█████████████████████████▊                                                                                                                                         | 156/986 [18:37<1:26:49,  6.28s/it]"
     ]
    },
    {
     "name": "stdout",
     "output_type": "stream",
     "text": [
      "generated explanation: <pad> <extra_id_0> He was serious and pragmatic, so why did he drive his car? Transportation is a necessary element of transportation. Having a car allows him to move around freely and to do whatever he wanted. Having a car also allows him to be more productive and to have a greater sense of accomplishment. Furthermore, a car can be a great way to communicate with others, as it allows them to communicate with one another and to communicate with others. It can also be a great way to communicate with people and to stay connected with his work. Furthermore, he was able to communicate with his colleagues and to communicate with his car. He also a car allows him to drive his car to be more easily and to communicate with his company. Furthermore, he can use his car can also serve as a greater sense of security. Furthermore, a car can also be used for business, as it allows him to communicate with colleagues and to communicate with his company. Furthermore, he was a great way to travel and to stay in a safe and to stay connected.</s>\n",
      "########\n",
      "*******\n",
      "question: What does god want people to do for money?\n",
      "answer: work in life\n",
      "choices: ['work in life', 'speak to people', 'everywhere', 'sitting ideal', 'care for people']\n",
      "common expl list: ['The scriptures explain that people should acquire money by providing good products or services, e.g., to bring value to other people and make a living.']\n"
     ]
    },
    {
     "name": "stderr",
     "output_type": "stream",
     "text": [
      "\r",
      " 16%|█████████████████████████▉                                                                                                                                         | 157/986 [18:53<2:09:07,  9.35s/it]"
     ]
    },
    {
     "name": "stdout",
     "output_type": "stream",
     "text": [
      "generated explanation: <pad> <extra_id_0> Work is the most important part of a person’s life because it is the main source of income. Work is the most important part of a person’s life because it provides the means by which they earn money. It is the most important aspect of a person’s life because it provides the means to earn money. It also provides the opportunity to earn extra money because it provides the means to live a satisfying life and provides the means to do so. Work is the key to earning money and fulfilling work is the most important part of life. It is the most important because it is the most important aspects of the life of the life. It is the only one of the last thing that people are a fulfilling and fulfilling life. Work is the main source of life and it provides the opportunity to earn extra money that allows people to live a fulfilling and gives them the opportunity to earn extracurricular activities, and provide the opportunity to grow in their lives. Work is the best way to earn money and earn more. Work is the best way to earn money and contribute to the most important part of a person’s life. Work is the only way to earn money. Work is the only way to earn more fulfilling life. It is the most important to earn money. Work is the most important because it provides the most important to earn money and the most important to make money. It is the best way to earn money and earn more time with the life. It is the only way to earn more money and it provides a better life for the person with the means to live in the right to live a better quality of life. Work provides the means that you can provide you with the opportunity to live in your life. Work provides you with the opportunity to earn money and provides you with the opportunity to live a life and the way to earn money. It is the best way to work in life.</s>\n",
      "########\n",
      "*******\n",
      "question: What can happen after doing housework that does not involve pain?\n",
      "answer: become tired\n",
      "choices: ['become tired', 'stress', 'put on shoes', 'backache', 'low pay']\n",
      "common expl list: ['Doing housework is likely to tire someone out. Being tired increases the likelihood of restlessness and uneasiness.', 'Housework can be tiring, and so, after doing it, one might become tired.', 'Raking, sweeping, and dusting are common forms of housework. After all the physical labor of these activities, someone \\xa0might become tired and take time off from housework chores, but not have een doing any housework tasks that']\n"
     ]
    },
    {
     "name": "stderr",
     "output_type": "stream",
     "text": [
      "\r",
      " 16%|██████████████████████████                                                                                                                                         | 158/986 [19:01<2:03:09,  8.93s/it]"
     ]
    },
    {
     "name": "stdout",
     "output_type": "stream",
     "text": [
      "generated explanation: <pad> <extra_id_0> After doing housework that does not involve pain, you may become tired. This can be due to the amount of physical work you have to do, as well as the amount of time you have to spend doing it. This can lead to a lack of energy, which can lead to depression, anxiety, and depression. Additionally, housework can lead to a decrease in your ability to focus, focus, and focus, which can lead to a reduction in your productivity. This can lead to a decrease in your ability to perform tasks, which can lead to a decrease in the tasks, increasing your energy levels, increasing your work and can lead to a decrease in your ability to become tiredness. Additionally, the work you have to become tired after doing housework, you have to work, you have completed tasks, which can lead to a decrease in your ability to work, which can lead to a decrease in your energy and decrease in your ability to perform tasks, and increase your ability to reduce your workload. In addition, you may become tiredness and become more tired, which can lead to a decrease in your ability to your ability to your energy, which can lead to your overall health.</s>\n",
      "########\n",
      "*******\n",
      "question: James sat in a chair and listened to the speaker.  Where might James be?\n",
      "answer: auditorium\n",
      "choices: ['synagogue', 'grocery store', 'auditorium', 'confession', 'office']\n",
      "common expl list: ['James was likely in an auditorium, because he was listening to a speaker.']\n"
     ]
    },
    {
     "name": "stderr",
     "output_type": "stream",
     "text": [
      "\r",
      " 16%|██████████████████████████▎                                                                                                                                        | 159/986 [19:05<1:42:33,  7.44s/it]"
     ]
    },
    {
     "name": "stdout",
     "output_type": "stream",
     "text": [
      "generated explanation: <pad> <extra_id_0> James might be in an auditorium because it is a large room that is filled with people and people sit in chairs to listen to speakers. Audiences are usually large, comfortable and have a large audience. Therefore, James might be in an auditorium to listen to the speaker. Audiences are often used to hold public events, conferences, or other types of events. Audiences are usually a place of worship, social gatherings, or other types of gatherings. They are usually a place where people gather to listen to the speaker. Therefore, James would be in an auditorium, a place to sit in a chair and to sit in an auditorium. Therefore, a chair in an auditorium is often a place of people.</s>\n",
      "########\n",
      "*******\n",
      "question: John thought that Mary was beautiful despite her injury.  But Mary believed that she was what?\n",
      "answer: misshapen\n",
      "choices: ['wrong', 'overcast', 'homely', 'bad', 'misshapen']\n",
      "common expl list: [\"If Mary believes she doesn't look normal, but someone else thinks she is beautiful, perhaps she could feel like her form is misshapen.\"]\n"
     ]
    },
    {
     "name": "stderr",
     "output_type": "stream",
     "text": [
      "\r",
      " 16%|██████████████████████████▍                                                                                                                                        | 160/986 [19:09<1:28:27,  6.42s/it]"
     ]
    },
    {
     "name": "stdout",
     "output_type": "stream",
     "text": [
      "generated explanation: <pad> <extra_id_0> Mary believed that she was beautiful despite her injury. John thought that she was beautiful despite her injury. Mary believed that she was beautiful despite her injury. John thought that Mary was beautiful because she believed that she was beautiful despite her injury. Mary believed that she was beautiful because she was able to express herself through her body. Mary believed that she was beautiful because she was able to express her feelings and express herself through her body. Mary believed that she was beautiful because she was able to express her feelings and express her feelings. She believed that she was beautiful because of her injury. But Mary was missing something that made her look and feel that she was unable to express her injuries. This is what she believed that she was beautiful because she was missing something that she was missing her injury.</s>\n",
      "########\n",
      "*******\n",
      "question: Where does my body go after I am no longer living?\n",
      "answer: graveyard\n",
      "choices: ['zombie', 'bodycam', 'coffin', 'graveyard', 'funeral']\n",
      "common expl list: ['When one dies, their body is buried in a graveyard.', 'When a person dies, it is common to bury their bodies in locations called graveyards.', 'Corpses are buried in graveyards.']\n"
     ]
    },
    {
     "name": "stderr",
     "output_type": "stream",
     "text": [
      "\r",
      " 16%|██████████████████████████▌                                                                                                                                        | 161/986 [19:19<1:42:44,  7.47s/it]"
     ]
    },
    {
     "name": "stdout",
     "output_type": "stream",
     "text": [
      "generated explanation: <pad> <extra_id_0> The graveyard is a place where the body of a person goes after they have died. It is here that they are buried. The graveyard is a place where the remains of the person are buried are buried and cared for. The graveyard is a place where the body of the person is buried and the remains are buried together. This allows the body to be buried in a secure and secure location. The graveyard is a place where the deceased person can go to rest and rest in peace. The graveyard is a graveyard because it is a place of the last place of peace and peace and security measures the graveyards and security measures are taken into the graveyard to be placed in the graveyards. The graveyard is a place where the body is a graveyard is located in a graveyard. It is a graveyard, and the body of the graveyard is a place where the last of the graveyard is a place of the graveyard. Gravearth is a graveyard is a place of peace and the graveyard is a graveyard is a place of the body of the graveyard is a place where the remains are kept in the grave. The graveyard is a place of the body of the body of the remains are a grave, and the grave, and the body is taken to ensure that the graveyard is taken into the graveyard is taken into the graveyard is a place where the body is taken to ensure that the</s>\n",
      "########\n",
      "*******\n",
      "question: Where can you find a bar before traveling a long distance?\n",
      "answer: airport\n",
      "choices: ['las vegas', 'public house', 'airport', 'restaurant', 'michigan']\n",
      "common expl list: ['Bars are often located in airports, and so if a person was traveling a long distance, they might stop at an airport bar.']\n"
     ]
    },
    {
     "name": "stderr",
     "output_type": "stream",
     "text": [
      "\r",
      " 16%|██████████████████████████▊                                                                                                                                        | 162/986 [19:25<1:37:13,  7.08s/it]"
     ]
    },
    {
     "name": "stdout",
     "output_type": "stream",
     "text": [
      "generated explanation: <pad> <extra_id_0> At airports, you can find a bar that is located near the airport. Airport bars are usually located near the airport terminal, which is convenient for travelers. Airport bars are often located near the terminal building, which is often a good place to stop before traveling. Airport bars are often located near the terminal building, which makes them easy to access and convenient for travelers. Airport bars are often located near the terminal building, and are often located near the main entrance to the airport. Airport bars are usually located near the airport and offer a variety of drinks. Bars are also available at bars offer great place to relax and enjoy a good time to enjoy a good time at the bar. Bars are often located near the terminal, and offer a variety of different types of different drinks and flavors. They also provide a variety of drinks and menus, so you can choose from a bar for travelers. Bars are often located at the airport.</s>\n",
      "########\n",
      "*******\n",
      "question: Where might a small ball be bounced from?\n",
      "answer: child's hand\n",
      "choices: ['soccer game', 'street', 'toy store', \"child's hand\", 'on the sidewalk']\n",
      "common expl list: ['Since children enjoy bouncing balls, and they are also relatively small, they would bounce a ball from their hand.', 'A ball much like a toy, and kids often play with them on the streets and sidewalks.']\n"
     ]
    },
    {
     "name": "stderr",
     "output_type": "stream",
     "text": [
      "\r",
      " 17%|██████████████████████████▉                                                                                                                                        | 163/986 [19:35<1:47:08,  7.81s/it]"
     ]
    },
    {
     "name": "stdout",
     "output_type": "stream",
     "text": [
      "generated explanation: <pad> <extra_id_0> A small ball might be bounced from a child's hand because it is the best place to bounce a small ball. It is easy to bounce a small ball from a child's hand because it is the closest thing to the ball. It is also the easiest place to bounce a ball from. A child's hand is the most common place for a small ball to bounce from, as it is the most likely place for the ball to bounce from. A child's hand is the most likely place for a small ball to bounce from the child's from where it is often the best place for the best place to bounce back and can easily. It is also the most likely to bounce back to get the ball is often the largest size, and often used to bouncer. A child's hand is often the best place to bounce a ball, so that it can be a small ball can bounce from a child's hand is the most likely to bounce from a child's hand is the best place for a small ball to bounce from a small ball to bounce from a small ball to bounce from a child's a child to bouncer to get away from a small ball to bounce from a small ball to get away from a small ball back.</s>\n",
      "########\n",
      "*******\n",
      "question: Where do families begin?\n",
      "answer: wedding\n",
      "choices: ['wedding', 'around dinner table', 'supermarket', 'dinner together', 'park']\n",
      "common expl list: ['A wedding is a ceremony in which two people get married, and thus a wedding is where a family begins.']\n"
     ]
    },
    {
     "name": "stderr",
     "output_type": "stream",
     "text": [
      "\r",
      " 17%|███████████████████████████                                                                                                                                        | 164/986 [19:39<1:30:00,  6.57s/it]"
     ]
    },
    {
     "name": "stdout",
     "output_type": "stream",
     "text": [
      "generated explanation: <pad> <extra_id_0> Weddings are the beginning of a family. They are the beginning of a family. They are the beginning of a family unit. They are the time when a family begins to grow and become a cohesive unit. Weddings are the most important milestone in a family's life. They are the beginning of a family's life. They are also the time when a family begins to celebrate together. The wedding is the beginning of a family's bond. It is the time when a family begins to build on the beginning. Weddings are the beginning of a new lifelong-old family members and the beginning of a new lifelong--</s>\n",
      "########\n",
      "*******\n",
      "question: He enjoyed reading newspaper, he consider what a subscription?\n",
      "answer: buying\n",
      "choices: ['gifting', 'buying', 'money', 'literacy', 'knowing how to read']\n",
      "common expl list: ['Buying a subscription to a newspaper is a way to get the newspaper delivered to your home.']\n"
     ]
    },
    {
     "name": "stderr",
     "output_type": "stream",
     "text": [
      "\r",
      " 17%|███████████████████████████▎                                                                                                                                       | 165/986 [19:50<1:48:33,  7.93s/it]"
     ]
    },
    {
     "name": "stdout",
     "output_type": "stream",
     "text": [
      "generated explanation: <pad> <extra_id_0> He enjoyed reading newspaper, he considers buying a subscription newspaper. The subscription newspaper is a great way to keep up with the news and to get a free copy. However, buying a newspaper subscription is not always the best way to go. However, buying a newspaper subscription can be a good way to keep up with the news and to get a free copy of the newspaper. Additionally, buying a subscription newspaper can also help you save money and time. Buying a newspaper subscription can also help you save money and time. Furthermore, newspaper subscription can help you can save money on the newspaper by paying for the newspaper and enjoy reading the newspaper subscription allows you to get the newspaper without paying for the paper. This can also help you get a subscription can save money on the newspaper, and to read the newspaper subscription can help you can also save money. By buying a subscription, you can help you enjoy the newspaper subscription can help you read the newspaper subscription will help you to keep up with the newspaper subscription can save time and enjoy reading newspaper subscription will allow you to read the newspaper on your subscription will help you to subscribe to read the newspaper subscription can also save money and save money on the newspaper subscription will help you enjoy the newspaper and to read the newspaper in the newspaper. subscription will help you to save money on advertising and to read more often read more often read newspaper, and save money on advertising costs of newspaper subscription will save you pay for the newspaper subscription will save money on the newspaper and save on advertising costs of advertising and to save money. a newspaper subscription will save money on advertising and to get the newspaper, and enjoy reading newspaper subscription subscription.</s>\n",
      "########\n",
      "*******\n",
      "question: What does an animal do when it becomes old?\n",
      "answer: feel pain\n",
      "choices: ['live long', 'leave home', 'feel pain', 'eating', 'sense fear in human']\n",
      "common expl list: ['Ageing animals may have chronic pain as part of the body losing function as it ages.']\n"
     ]
    },
    {
     "name": "stderr",
     "output_type": "stream",
     "text": [
      "\r",
      " 17%|███████████████████████████▍                                                                                                                                       | 166/986 [19:57<1:47:30,  7.87s/it]"
     ]
    },
    {
     "name": "stdout",
     "output_type": "stream",
     "text": [
      "generated explanation: <pad> <extra_id_0> When an animal becomes old, it may feel pain, which is a sign that the animal is getting old. This is because the animal is feeling pain, which is a sign that it is getting older. The animal is also feeling a lot of stress, which is something that can be very difficult for an animal to process. When an animal becomes old, it may feel a lot of pain, which is something that can be very difficult for an animal to process, such as being unable to move, or losing weight. This can be very difficult for the animal to deal with the pain, which can cause pain, which can be difficult for an animal to take care of stress, which can be a lot of stress and this can cause an animal to become old and can cause it to become old. Pain is a sign of an animal is old, which can cause an animal to take care of its ability to feel pain, which can cause it becomes old and can cause an animal to move, and can become old age and this can cause pain. Pain is a natural reaction to become old and this can be a animal to feel pain and it can cause a certain amount of pain.</s>\n",
      "########\n",
      "*******\n",
      "question: What entity would have a fire extinguisher in their boardroom?\n",
      "answer: most businesses\n",
      "choices: ['boat', 'apartment', 'public building', 'most businesses', 'chemistry lab']\n",
      "common expl list: ['Most businesses would have a fire extinguisher in their boardroom, because they are likely to have a fire in their boardroom.']\n"
     ]
    },
    {
     "name": "stderr",
     "output_type": "stream",
     "text": [
      "\r",
      " 17%|███████████████████████████▌                                                                                                                                       | 167/986 [20:04<1:41:52,  7.46s/it]"
     ]
    },
    {
     "name": "stdout",
     "output_type": "stream",
     "text": [
      "generated explanation: <pad> <extra_id_0> Most businesses would have a fire extinguisher in their boardroom. This is because businesses are at risk of fires and other emergencies. Additionally, businesses are at risk of fires and other emergencies, such as a fire. Having a fire extinguisher in the boardroom is a good idea because it can help to prevent the spread of fires. Additionally, businesses should have a fire extinguisher in their boardroom to help protect their employees and property. Businesses also need to ensure that their boardrooms are protected from potential fire hazards, such as a fire extinguedo a business risk of damage to their property. Additionally, fire extinguit is important to have a fire in the boardroom. Moreover, it is also important safety measures to ensure that all employees are in the boardroom. Additionally, businesses are also required to ensure that their staff are properly trained and are always ready to respond to any emergency.</s>\n",
      "########\n",
      "*******\n",
      "question: Where can someone go and buy cheese?\n",
      "answer: market\n",
      "choices: ['pizza', 'bar', 'fridge', 'market', 'refrigerator']\n",
      "common expl list: ['Cheese is sold at markets.', 'Cheese is a dairy product and can be purchased at markets, for the most part.']\n"
     ]
    },
    {
     "name": "stderr",
     "output_type": "stream",
     "text": [
      "\r",
      " 17%|███████████████████████████▊                                                                                                                                       | 168/986 [20:12<1:43:48,  7.61s/it]"
     ]
    },
    {
     "name": "stdout",
     "output_type": "stream",
     "text": [
      "generated explanation: <pad> <extra_id_0> The market is the most common place for people to buy cheese. It is a product that is available in many different varieties and sizes. Cheese is a popular snack food that is often found in many restaurants, bars, and other places of worship. Cheese is typically sold in small quantities, which makes it a good choice for a quick snack or snack. Cheese is also a great source of protein, which can help to build your body and increase your metabolism. Cheese is also a healthy food, as it provides the nutrients needed to help your health. Cheese is a great source of protein, as it is also a great source of protein, as it is a variety of cheese and variety of cheese, making it is a variety of cheese, as well-for the protein, and can be found in many different types of cheese varieties, such as a variety of cheese, from time to make. Cheese is a great source of cheese, as it is a great source of calcium and iron content. Cheese is a great source of calcium and protein-rich, as it is a great source of calcium, which is a great source of calcium and calcium-calcul</s>\n",
      "########\n",
      "*******\n",
      "question: Where would you carry food while on a long walk in the countryside?\n",
      "answer: backpack\n",
      "choices: ['backpack', 'table', 'jar', 'box', 'container']\n",
      "common expl list: [\"Because backpacks are designed to be carried on one's back, they are the most convenient way to carry food while on a long walk.\", 'Instead of carrying a jar or container, filling your backpack with food might not disrupt your movements as much when you are walking.']\n"
     ]
    },
    {
     "name": "stderr",
     "output_type": "stream",
     "text": [
      "\r",
      " 17%|███████████████████████████▉                                                                                                                                       | 169/986 [20:20<1:44:21,  7.66s/it]"
     ]
    },
    {
     "name": "stdout",
     "output_type": "stream",
     "text": [
      "generated explanation: <pad> <extra_id_0> A backpack is a great way to carry food while on a long walk in the countryside. It is easy to carry food while on a long walk in the countryside, and it is easy to transport. A backpack is a great way to carry food because it is easy to transport and easy to store. It is also easy to carry water and snacks. It is also easy to store food in a backpack, as it is easy to store in a backpack. A backpack can also be used to carry food and water, as well as a backpack can be used to carry food while on long walks. In addition, backpacks can be used to store food, and other essential for hiking, hiking, and can be carried on a backpack is also a backpack is a long walk, as well-equipped with a range of different types of hiking, and comfortable for a backpack. It is also easy to carry food while on a long walk in the countryside. Backpacks can be used to carry food and water while you are a backpack is a backpack can be used to store food in a backpack for a long-length of your backpack.</s>\n",
      "########\n",
      "*******\n",
      "question: What could a driver do that could distract him or her while he or she is in a driving car?\n",
      "answer: smoke\n",
      "choices: ['use mobile phone', 'car crash', 'smoke', 'backache', 'automobile accidents']\n",
      "common expl list: ['Smoking is a common activity that people do while driving, and it could distract them from driving.', 'It can be tricky to smoke and concentrate on driving at the same time, and research has found that smoking in a car with children present is very dangerous.']\n"
     ]
    },
    {
     "name": "stderr",
     "output_type": "stream",
     "text": [
      "\r",
      " 17%|████████████████████████████                                                                                                                                       | 170/986 [20:28<1:48:09,  7.95s/it]"
     ]
    },
    {
     "name": "stdout",
     "output_type": "stream",
     "text": [
      "generated explanation: <pad> <extra_id_0> Smoking is a distraction that can be used to distract a driver while driving. Smoking can be used to create a halo around the driver, which can be a distracting effect for a driver. Smoking can also be used to create a haze, which can be a dangerous distraction for a driver. Smoking can cause the driver to lose control of the vehicle and cause a crash. Smoking can also cause a driver to lose control of the vehicle and cause a crash, which can cause a driver to lose control of the car and distracting the driver. Smoking can cause a driver to become distracted while driving, as it can also lead to distractions for a driver to lose control of the car and other distractions. Smoking can cause a driver to distracting distraction, as well as a distraction for a driver while driving, as it can also cause a driver to become distracted by distraction. It can also cause a driver to lose control of the car, which can lead to distraction, or even cause a driver to be distracted by a driver to become distracted by a driver to become distracted and could be used to become distracted</s>\n",
      "########\n",
      "*******\n",
      "question: The fat man wanted to make a change in his life and make sure it stayed what?\n",
      "answer: permanent\n",
      "choices: ['concretely', 'permanent', 'remain stable', 'stagnant', 'constant']\n",
      "common expl list: ['His making a decision to change and ensuring the decision is made permanent indicates a desire for a stable, permanent life, which does not change.', 'In changing his life, he wants to make sure he remains in the new lifestyle choices, e.g., not become stagnant to bad choices and fall back into bad choices.']\n"
     ]
    },
    {
     "name": "stderr",
     "output_type": "stream",
     "text": [
      "\r",
      " 17%|████████████████████████████▎                                                                                                                                      | 171/986 [20:37<1:51:52,  8.24s/it]"
     ]
    },
    {
     "name": "stdout",
     "output_type": "stream",
     "text": [
      "generated explanation: <pad> <extra_id_0> The fat man wanted to make sure that his change in his life was permanent. Permanent change is the process of making a change in a person’s life that is permanent. Permanent change is when a person makes a change in their life and makes it permanent. Permanent change is the process of making a change that lasts for a long time, and is a permanent change in a person’s life. Permanent change is the process of making a change that will last a long time, and is a way to the fat man wants to make sure that his weight loss is permanent. Permanent change in his life and his life, and making sure that his weight loss is permanent. Permanent change in his life will last for the same as a permanent change in his life, and lifestyle changes in order to keep up with the changes in his weight loss, and a permanent change that will keep his life so that his life. Permanent change in his life will help him to keep his life a permanent change that a permanent change in his life and make sure that his life stays the change in his life. Permanent change in his life will be permanent change in his life and make sure that his weight and that his life stays in his life a permanent change in his life and keeps his life.</s>\n",
      "########\n",
      "*******\n",
      "question: where did many colonial kingdoms originate?\n",
      "answer: europe\n",
      "choices: ['saudi arabia', 'europe', 'united states', 'book', 'monarchy']\n",
      "common expl list: ['Many colonial kingdoms in the past can be traced all the way back to their roots in Europe.', 'Colonies and kingdoms often originate in the mother countries of the colonial or kingdom builders, e.g., entities in the United Kingdom and the Netherlands.']\n"
     ]
    },
    {
     "name": "stderr",
     "output_type": "stream",
     "text": [
      "\r",
      " 17%|████████████████████████████▍                                                                                                                                      | 172/986 [20:47<1:57:24,  8.65s/it]"
     ]
    },
    {
     "name": "stdout",
     "output_type": "stream",
     "text": [
      "generated explanation: <pad> <extra_id_0> Many colonial kingdoms originated in europe, where they were a place of great wealth and prosperity. Europe is the main source of colonial power, and it is the largest continent on earth. It is also the source of many conflicts and wars, and is the most stable place for a colony to operate. The european continent is the most stable and prosperous, and the most stable and stable environment for a colony to operate in. The continent is the most stable and stable place for a colony to operate in the world, and its colonial kingdoms, and its history, and its colonion. Europe is also the largest continent, and the most important region for many colonial kingdoms to the colonial powers, and the europe. The europe is the largest coloniian a country to operate, and to develop their independence from the west, and the world. The a colony europe was the first colonial kingdoms to a colonion the world. The colonied a colonial kingdoms are a colonial kingdoms to the modern day, and are a place to be found in the world. The colonial kingdoms are a strong and are a region for a region of the world, and the largest region of the world, and the continent is the largest and the a colonion the world.</s>\n",
      "########\n",
      "*******\n",
      "question: Where can a television be stored and hidden?\n",
      "answer: cabinet\n",
      "choices: ['apartment', 'living room', 'bedroom', 'kitchen', 'cabinet']\n",
      "common expl list: ['A television can be stored inside a cabinet.', 'A cabinet is a piece of furniture that is used to store items, and televisions are large, and thus, can be stored in cabinets.']\n"
     ]
    },
    {
     "name": "stderr",
     "output_type": "stream",
     "text": [
      "\r",
      " 18%|████████████████████████████▌                                                                                                                                      | 173/986 [21:01<2:20:56, 10.40s/it]"
     ]
    },
    {
     "name": "stdout",
     "output_type": "stream",
     "text": [
      "generated explanation: <pad> <extra_id_0> A television is usually stored in a cabinet, which is a convenient way to store a television. Cabinets are typically made of wood or metal and are designed to be as compact as possible, allowing it to fit into a small space. Cabinets are typically made of solid wood, and are typically made of a variety of materials, including wood and metal. Cabinets are typically made of wood or plastic, and are typically made of a variety of different types of wood, such as maple, oak, pine, and oak. Cabinets are often used to store televisions in the television in a television in a safe, or even when not being used. Cabinets are often used to store other items, such as well as well as a television. They are often made of the television in a cabinet, and hidden in a safe place for a television. Cabinets are also made of cabinets are a great space-saving and a great way to store a television in a great place to store it in a great option for a great choice for a television in a safe and easily accessible. Cabinets are made of different types of cabinets, which makes it a great option for a television can be used to store it in a television. Cabinets are often hidden in a television, or in a television set. Cabinets are made of cabinets are often made of a television can be easily accessible and hidden in a great way to store a television can be easily accessible and hidden in a television can be hidden in a cabinet, or even when not be a television can be hidden away from other items like a television and can be easily accessible, and hidden in a television, and hidden in a cabinet because cabinet is a television can be hidden in a television in a television can be hidden in a cabinet or a television, and hidden in a televisions, or a television can be stored in a television, or in a television, or a television, or a cabinet, or hidden in a television is a television, or a television, or a television can be hidden in a television, or a cabinet can be hidden in a television in a cabinet.</s>\n",
      "########\n",
      "*******\n",
      "question: what can get a prisoner in more trouble?\n",
      "answer: attempt to escape\n",
      "choices: ['dream of freedom', 'attempt to escape', 'do time', 'fast for days', 'scape jail']\n",
      "common expl list: ['Prisoners serve time, and when a prisoner attempts to escape, they generally serve extra time.']\n"
     ]
    },
    {
     "name": "stderr",
     "output_type": "stream",
     "text": [
      "\r",
      " 18%|████████████████████████████▊                                                                                                                                      | 174/986 [21:10<2:13:36,  9.87s/it]"
     ]
    },
    {
     "name": "stdout",
     "output_type": "stream",
     "text": [
      "generated explanation: <pad> <extra_id_0> Attempting to escape can get a prisoner in more trouble because it can get them into trouble. Attempting to escape can get them into trouble because it can get them into a lot of trouble. For example, a prisoner may attempt to escape by attempting to use a rope or other means to climb a mountain, which can be very dangerous. Attempting to escape can also get them into trouble because it can get them in trouble, as well as putting them in danger. This can lead to more serious issues, and can lead to escape can get them in trouble. Also, if they are not careful, and act as they can get into danger, as well as well as well as well as it can lead to become a lot of trouble. Also, a prisoner can get in trouble a lot of stress and stress can get them into serious health care. a prisoner can get in a lot of stress and can get them into trouble. a prisoner into a lot of energy and get them in trouble with the wrong. Escape can get them in trouble, and can get them into more trouble and get them in more trouble, as they are in more time and get a lot of danger and in a lot of trouble.</s>\n",
      "########\n",
      "*******\n",
      "question: The crab was separated from his compatriots out in the sea, where was he likely to be?\n",
      "answer: tide pool\n",
      "choices: ['fish market', 'cooking pot', 'tide pool', 'beach sand', 'farm']\n",
      "common expl list: ['Tide pools are regions of shallow, pooled water that are very exposed to air, making them appealing to crabs that have to breathe.']\n"
     ]
    },
    {
     "name": "stderr",
     "output_type": "stream",
     "text": [
      "\r",
      " 18%|████████████████████████████▉                                                                                                                                      | 175/986 [21:19<2:11:55,  9.76s/it]"
     ]
    },
    {
     "name": "stdout",
     "output_type": "stream",
     "text": [
      "generated explanation: <pad> <extra_id_0> The crab was likely to be in a tide pool, where he could be separated from his fellow crabs and living in a different environment. The tide pool is a common place for crabs to be found when they are separated from their families. It is also a good place for them to be if they are separated from their families. Tide pools are a common place for crabs to be found when they are in a sea of water, as they are often a safe haven for them to be in. The crab is likely in a tide pool, as they are often found in a large rocks, a dangerous situation for them. The tide pool is often a dangerous situation for crabs, as it is often a if he is a dangerous for a predators, and could be in a sea, as it is often a large, so a great place for them to be in a small fish, and a a large group of other animals, a safe place for if they are stranded in a tide pool, or a danger to be a danger to be a crab. The crab is likely to be in a danger to be if a human being a crab in a danger to be a dangerous and if a a crab is a human.</s>\n",
      "########\n",
      "*******\n",
      "question: What item is smelted out of minerals on the country side?\n",
      "answer: metal\n",
      "choices: ['urban city', 'france', 'metal', 'grass', 'state']\n",
      "common expl list: ['Products made by smelters tend to be made out of metals, and mining occurs at the country side.', 'Metals are extracted from mineral mines out in the country side.']\n"
     ]
    },
    {
     "name": "stderr",
     "output_type": "stream",
     "text": [
      "\r",
      " 18%|█████████████████████████████                                                                                                                                      | 176/986 [21:28<2:06:30,  9.37s/it]"
     ]
    },
    {
     "name": "stdout",
     "output_type": "stream",
     "text": [
      "generated explanation: <pad> <extra_id_0> Metal is a common<extra_id_1> metal is smelted out of minerals in the country side<extra_id_2> Metal is a common item smelted out of<extra_id_3> Metal is a common item smelted out of minerals in the country side because it is a valuable resource. It is a valuable resource that is used to make products such as jewelry, watches, and other items. Metal is a common metal used to make jewelry, watches, and other items. It is also a common metal used to make other items such as jewelry, watches, and other minerals are used to make metal, which is used to make metals, making it is a valuable metals. Metal is also used to make metals and other items, such as s, and other metals, such as well--rich minerals, such as iron, copper, steel, iron, steel, and other minerals, and other metals, which are s, and iron, which are s, copper, and other metals are made from minerals, and other minerals are s, making it a metal, making it is smelting. Metal is a valuable metal making metals, and making it a strong,</s>\n",
      "########\n",
      "*******\n",
      "question: Where is a good place to store a saw?\n",
      "answer: toolbox\n",
      "choices: ['hardware store', 'tool shed', 'storage', 'tool kit', 'toolbox']\n",
      "common expl list: ['A toolbox is a container for tools, and a saw is a tool.', 'One might likely store a saw in a box with other tools.']\n"
     ]
    },
    {
     "name": "stderr",
     "output_type": "stream",
     "text": [
      "\r",
      " 18%|█████████████████████████████▎                                                                                                                                     | 177/986 [21:32<1:46:25,  7.89s/it]"
     ]
    },
    {
     "name": "stdout",
     "output_type": "stream",
     "text": [
      "generated explanation: <pad> <extra_id_0> A toolbox is a good place to store a saw because it allows you to work with it and it can be used to cut wood. A toolbox can also be used to store other tools, such as a router, a band saw, or a pair of scissors. Toolboxes are also a great place to store a saw because they can be used to store other tools, such as tools for cutting, sanding, and other small items. Toolboxes are also a great place to store a saw can be used for a toolbox is a saw in a toolbox can be used to cut. They can be used to store a saw in a toolbox. Toolboxes can be used to store other tools and can be used to cut.</s>\n",
      "########\n",
      "*******\n",
      "question: The jellyfish was pushed along by the water.  It was caught in what?\n",
      "answer: current\n",
      "choices: ['store', 'book', 'park', 'current', 'lake']\n",
      "common expl list: ['Jellyfish are often found in oceans, and oceans have currents.', \"Currents are fast-moving water, and jellyfish can't swim very well, so if caught in a current, it's likely to be being pushed along by the current.\"]\n"
     ]
    },
    {
     "name": "stderr",
     "output_type": "stream",
     "text": [
      "\r",
      " 18%|█████████████████████████████▍                                                                                                                                     | 178/986 [21:39<1:42:24,  7.60s/it]"
     ]
    },
    {
     "name": "stdout",
     "output_type": "stream",
     "text": [
      "generated explanation: <pad> <extra_id_0> The jellyfish was caught in the current. It was pushed along by the water by the current. The current is the current that is present in the water, and it is pushing the jellyfish along the surface of the water. The current is a force of current, which is pushed along by the water. The jellyfish is pushed along the surface of the water by the current, and it is pushed along the surface of the water. The current is pushed along by the current, and it is pushed along by the water. Current is a jellyfish are caught in the current. The current is a current, and it was pushed along the jellyfish was pushed along by the jellyfish was caught in the current, and pushed along by the current. The jellyfish was pushed along by the current, and pushed along the current. Current is a jellyfish is pushed along the jellyfish is pushed along by the current. Current is a jellyfish is</s>\n",
      "########\n",
      "*******\n",
      "question: The dime store was full of old donated goods, it reminded the customer of the what?\n",
      "answer: past\n",
      "choices: ['strip mall', 'past', 'shopping center', 'old movie', 'india']\n",
      "common expl list: ['Dime stores were more popular years ago than today. The sight of the old goods reminded the person of the past.']\n"
     ]
    },
    {
     "name": "stderr",
     "output_type": "stream",
     "text": [
      "\r",
      " 18%|█████████████████████████████▌                                                                                                                                     | 179/986 [21:47<1:41:32,  7.55s/it]"
     ]
    },
    {
     "name": "stdout",
     "output_type": "stream",
     "text": [
      "generated explanation: <pad> <extra_id_0> The store was full of old donated goods, it reminded the customer of the past. The items reminded the customer of the past because they were donated from other businesses. The items in the store were donated from other businesses, which reminded the customer of the past. The old donated goods were often donated from other businesses, which reminded the customer of the past. The items also reminded the customer of the past because they were often donated from other businesses. The old donated goods were also often used to purchase new goods, which were often donated from the store was the store was full of donated goods were donated goods were donated goods were donated items were donated goods that were used to the past. The store was full of old donated goods were often donated goods were donated goods were donated from the customer of the customer of the past. The dime store was full of old donated goods reminded the customer of the past because it was full of old donated goods were donated goods were often donated goods were used to the customer of the store was a nostalgic for the past. It was a great gift for the customer of the store.</s>\n",
      "########\n",
      "*******\n",
      "question: Where would you put a saw if you do not need to use it soon and your house only has one floor?\n",
      "answer: tool shed\n",
      "choices: ['logging camp', 'in the vehicle', 'tool shed', 'toolbox', 'basement']\n",
      "common expl list: ['A tool shed is a common structure for organizing and storing tools that are infrequently used.', \"A tool shed is a place where tools are stored, and thus, a good place to store a saw if you don't need to use it soon.\", 'The shed is a good place for storing tools when those tools are not in use.']\n"
     ]
    },
    {
     "name": "stderr",
     "output_type": "stream",
     "text": [
      "\r",
      " 18%|█████████████████████████████▊                                                                                                                                     | 180/986 [21:58<1:54:55,  8.56s/it]"
     ]
    },
    {
     "name": "stdout",
     "output_type": "stream",
     "text": [
      "generated explanation: <pad> <extra_id_0> A tool shed is a great place to store a saw if you have a small home or a home with only one floor. It is a great place to store a saw if you do not need it often or if you have a large family. A tool shed is a great place to store a saw because it is a great place to store tools and other tools that you may need. It is also a great place to store tools such as power tools, hand tools, and other household items. The tool shed is also a great place to store tools such as well- and can be used for projects. It is also a great place to store your saw in a great place to store tools and other tools in a tool. It is a great place to store your saw in the tool shed is a great place to store your house and can be used in the tool shed is a great place for a tool when you need to store your house. The tool shed is a great place to store it in your house. The tool shed is a great place to store your saw a great place to store your house a saw in a great place to store it in a saw a great place to store it in if you have a saw in the right place to store if you have access to get rid of the saw in the right place to store your home. The shed is a great place to store it in the shed is a saw to store it.</s>\n",
      "########\n",
      "*******\n",
      "question: A person might wear his yarmulke when going to where?\n",
      "answer: synagogue\n",
      "choices: ['demonstration', 'concert', 'garage', 'bus stop', 'synagogue']\n",
      "common expl list: ['Synagogue is a place commonly visited by religious Jews. Men wear yarmulkes (skullcaps) because faith requires that they uncover their heads when going before God.']\n"
     ]
    },
    {
     "name": "stderr",
     "output_type": "stream",
     "text": [
      "\r",
      " 18%|█████████████████████████████▉                                                                                                                                     | 181/986 [22:04<1:44:35,  7.80s/it]"
     ]
    },
    {
     "name": "stdout",
     "output_type": "stream",
     "text": [
      "generated explanation: <pad> <extra_id_0> A person might wear his yarmulke when going to a synagogue when going to a synagogue. The yarmulke is a Jewish head covering worn by people going to a synagogue. It is usually worn by men and women when going to a synagogue, such as a wedding, funeral, or other religious events. It is worn to represent the faith and religion of the person, and is a symbol of unity and unity. It is also worn to the Jewish holidays, and holidays, such as a person’s, or at a syna syna Jewish tradition, or to attend a syna church, or other members of the Jewish faith, or to attend services, or services. It is not uncommon for men and women to carry on their religious services, and services, as it is a symbol of their a Jewish heritage.</s>\n",
      "########\n",
      "*******\n",
      "question: Someone takes up exercising to improve their what\n",
      "answer: physical fitness\n",
      "choices: ['losing weight', 'physical fitness', 'breathlessness', 'muscles', 'lost weight']\n",
      "common expl list: ['Exercising helps people build their physical fitness.', 'Exercising is a way to improve physical fitness.', 'Typically people are motivated to exercise in order to become fit.']\n"
     ]
    },
    {
     "name": "stderr",
     "output_type": "stream",
     "text": [
      "\r",
      " 18%|██████████████████████████████                                                                                                                                     | 182/986 [22:07<1:27:01,  6.49s/it]"
     ]
    },
    {
     "name": "stdout",
     "output_type": "stream",
     "text": [
      "generated explanation: <pad> <extra_id_0> Exercise is a great way to improve your physical fitness. It is a great way to improve your overall health and fitness. Physical fitness is important to a person's overall well being. It can help them achieve a healthy body and a healthy mind. Exercise is a great way to improve your overall well-being, as it can help them to maintain a healthy lifestyle. Exercise can help to improve your overall fitness and overall health. It can also help to improve your overall health. By exercising, you are able to maintain a healthy, as well-being, as well-being. This means that you are a healthier, as well-being.</s>\n",
      "########\n",
      "*******\n",
      "question: Where could you see a sloth that is not real?\n",
      "answer: picture book\n",
      "choices: ['bad dream', 'picture book', 'another place', 'universe', 'zoo']\n",
      "common expl list: ['Reality is generally fractured into \"real\" and \"fusion.\" Sloths are real, meaning they exist (in some form) in reality; sloths are not real (in the way depicted) in a picture book.']\n"
     ]
    },
    {
     "name": "stderr",
     "output_type": "stream",
     "text": [
      "\r",
      " 19%|██████████████████████████████▎                                                                                                                                    | 183/986 [22:16<1:38:17,  7.34s/it]"
     ]
    },
    {
     "name": "stdout",
     "output_type": "stream",
     "text": [
      "generated explanation: <pad> <extra_id_0> A sloth is a small, stuffed animal that is often found in books, toys, and other items such as toys and games. Sloths are often found in books, toys, and other items such as books, toys, and other accessories. They can be found in a variety of sizes, colors, and shapes, and even in some cases, even in a picture book. This can be helpful for children who are unsure of the gender of the animal, as each one is unique and different, and can be easily identified by the book. a picture book can be used to show how the different colors, and features of the eyes, ears, and the eyes of the eyes, and other animals, and other features of the life of a sloth can be seen in s. The picture book can also be used to show the character. The book can also be seen as the real life-like personality of the eyes of the eyes of the eyes and ears, and even the mouth. The picture book can be used to help children to learn about the sloth. The picture book can be used to show the different sizes and features of the different colors and features of different species.</s>\n",
      "########\n",
      "*******\n",
      "question: Where are seats often plush?\n",
      "answer: opera\n",
      "choices: ['rest area', 'theater', 'hockey game', 'classroom', 'opera']\n",
      "common expl list: ['Plush seats are generally found in more comfortabe, well-off establishments, and opera is often performed in such, less strict teents of, elegance of the decor.', 'Opera is a high-class form of entertainment, and thus, the seats are often plush.']\n"
     ]
    },
    {
     "name": "stderr",
     "output_type": "stream",
     "text": [
      "\r",
      " 19%|██████████████████████████████▍                                                                                                                                    | 184/986 [22:23<1:34:57,  7.10s/it]"
     ]
    },
    {
     "name": "stdout",
     "output_type": "stream",
     "text": [
      "generated explanation: <pad> <extra_id_0> When it comes to opera seats, plush velvet is often used to create a feeling of comfort. Plush velvet seats are often used to create a sense of luxury. They are often used to create a cosy atmosphere for guests, making them feel at home. Plush velvet is used to create a feeling of being in a luxurious environment. In opera, the seating is often plush and comfortable, making it a great place to relax and enjoy the opera experience. In addition, the plush fabric of the seats makes them even more comfortable and a comfortable. They are often plush and are also used to make opera seats. In addition, there are also used to create a more comfortable environment, making it a great choice for guests. Opera is also a great place to relax and enjoy the comfort and comfort. Plush is also a great way to make the experience. In addition, plush seats often make the overall, plush and comfortable.</s>\n",
      "########\n",
      "*******\n",
      "question: The comforter was used constantly and treaded upon by everyone, where should it be placed?\n",
      "answer: washing machine\n",
      "choices: ['garbage', 'linen closet', 'bedroom', 'washing machine', 'livingroom']\n",
      "common expl list: ['Linens are often used (i.e., the comforter) and washed frequently.', 'The comforter was used constantly, so it should be washed frequently. Linen closets are where people store their bed sheets and blankets.', 'When you use your comforter (or any other high-traffic fabric) often, you ought to wash it often too. Therefore it should be kept in the washing machine, to enable quick washing.']\n"
     ]
    },
    {
     "name": "stderr",
     "output_type": "stream",
     "text": [
      "\r",
      " 19%|██████████████████████████████▌                                                                                                                                    | 185/986 [22:30<1:33:53,  7.03s/it]"
     ]
    },
    {
     "name": "stdout",
     "output_type": "stream",
     "text": [
      "generated explanation: <pad> <extra_id_0> The comforter was used constantly and was tread upon by everyone, where should it be placed? The comforter was used constantly and was tread upon by everyone, where should it be placed? The comforter should be placed in the washing machine because it is constantly used and tread upon by everyone, and is used constantly and is used by everyone, so it should be placed in a place that is easily accessible and easy to clean. It should be placed in a place that is easily accessible and easy to clean. It should be placed in a place, and in the comforter can be easily reached by anyone else while being a comforter is used by everyone. The comforter should be placed in the washing machine, and the comforter is used frequently, so that it is easily accessible and easily accessible. The comforter should be placed in a place that is used by everyone's. The comforter should be easily accessible and easily accessible. The comforter can be placed in the washing machine.</s>\n",
      "########\n",
      "*******\n",
      "question: Joe bought a ficus.  He thought it would look good in what part of his home?\n",
      "answer: family room\n",
      "choices: ['family room', 'tropical forest', 'flower garden', 'movie theater', 'hair salon']\n",
      "common expl list: [\"The ficus is an indoor plant, such as a plant one would have in one's family room. The family room is the ideal location for an indoor plant like a houseplant.\"]\n"
     ]
    },
    {
     "name": "stderr",
     "output_type": "stream",
     "text": [
      "\r",
      " 19%|██████████████████████████████▋                                                                                                                                    | 186/986 [22:36<1:31:33,  6.87s/it]"
     ]
    },
    {
     "name": "stdout",
     "output_type": "stream",
     "text": [
      "generated explanation: <pad> <extra_id_0> Joe wanted a ficus in his family room. He thought it would look good in the family room because it would add a touch of style and color to his room. The ficus is a large, imposing piece of furniture that is often used in formal settings, such as a dining room or living room. It is made of durable wood, which makes it a great addition to any home. It also looks great in a formal or formal setting. It is also a great accent piece for any room in the living room, as it would look great in the room, as it would add to the perfect addition to his family room. The family room is a great addition to any decor. The a a great addition to any home. It is also a great addition to any room, as it would look great addition to any room. It is also a great addition to any room. It is perfect addition to any room. It is perfect fit for any family room.</s>\n",
      "########\n",
      "*******\n",
      "question: Family is always the best for devotion, but it is also nice if a person has what?\n",
      "answer: loyal friends\n",
      "choices: ['good review', 'headache', 'with cat', 'loyal friends', 'shoes']\n",
      "common expl list: ['We may have devoted friends who would be there for us if we had need.', 'Loyal friends are always there for you, and they will always be devoted to you.', \"Because times may come when a person would like to go out and have fun with some friends, and it's nice if that person may have friends that he is faithful to.\"]\n"
     ]
    },
    {
     "name": "stderr",
     "output_type": "stream",
     "text": [
      "\r",
      " 19%|██████████████████████████████▉                                                                                                                                    | 187/986 [22:40<1:18:22,  5.89s/it]"
     ]
    },
    {
     "name": "stdout",
     "output_type": "stream",
     "text": [
      "generated explanation: <pad> <extra_id_0> Loyal friends are people who are loyal to a person and who are willing to share their love with others. Loyal friends are people who are loyal to a person and who are willing to share their love with others. Loyal friends are people who are willing to share their love with others and show their loyalty by being a part of their circle of friends. Loyal friends are people who are willing to share their love and support. Loyal friends are people who are willing to share their time and resources with others. They are also important to have a person who are also loyal to their children, as well-being and to share their lives. Loy</s>\n",
      "########\n",
      "*******\n",
      "question: Rap is not usually associate with what music often performed by an orchestra?\n",
      "answer: classical\n",
      "choices: ['folk', 'rock', 'good music', 'country music', 'classical']\n",
      "common expl list: ['Rap is generally associated with hip-hop music, which is normally performed by a single artist. Orchestras tend to play classical music, which often is performes with real instruments, rather than manufactured ones.']\n"
     ]
    },
    {
     "name": "stderr",
     "output_type": "stream",
     "text": [
      "\r",
      " 19%|███████████████████████████████                                                                                                                                    | 188/986 [22:45<1:13:19,  5.51s/it]"
     ]
    },
    {
     "name": "stdout",
     "output_type": "stream",
     "text": [
      "generated explanation: <pad> <extra_id_0> Rap is not usually associated with classical music, as classical music is usually performed by an orchestra. Rap is usually performed by a band of two or more people, and is often performed in a club or club setting. Rap is often performed by a group of people or a group of people, and is not usually associated with classical music, which is typically performed by an orchestra. Rap is typically performed by a group of people who are not musicians themselves. Rap is not usually associated with classical music, as it is typically performed by a band or orchestra. Rap is classical music performed by an orchestra. It is often performed by a orchestra, and is usually performed by a band. Rap is usually performed by a genre of music, and is performed by an orchestra. Rap is typically performed by an orchestra, and is typically performed by a band.</s>\n",
      "########\n",
      "*******\n",
      "question: At what structure can you see people you use a puck professionally?\n",
      "answer: hockey rink\n",
      "choices: ['hockey rink', 'locker room', 'sporting goods store', 'used in hockey game', 'teachers']\n",
      "common expl list: ['Pucks are commonly used in ice hockey, which is a professional activity.']\n"
     ]
    },
    {
     "name": "stderr",
     "output_type": "stream",
     "text": [
      "\r",
      " 19%|███████████████████████████████▏                                                                                                                                   | 189/986 [22:47<1:02:33,  4.71s/it]"
     ]
    },
    {
     "name": "stdout",
     "output_type": "stream",
     "text": [
      "generated explanation: <pad> <extra_id_0> A rink is a place where people gather to play games, compete, and play games. It is a place where people can use a hockey puck to compete with each other and compete for points. A rink is also a place where people can gather to play games and compete for prizes. This is because a rink is a place where people gather to play games and compete for prizes. It is also a place where people gather to play games, and where they can play games, and socialize with each other.</s>\n",
      "########\n",
      "*******\n",
      "question: Even when not in flight a bald eagle likes to have a lay of the land, because of this you'll see them perched up where?\n",
      "answer: high places\n",
      "choices: ['colorado', 'natural habitat', 'everglades', 'high places', 'tree']\n",
      "common expl list: ['Eagles like to be high up, so they can see a large area.']\n"
     ]
    },
    {
     "name": "stderr",
     "output_type": "stream",
     "text": [
      "\r",
      " 19%|███████████████████████████████▍                                                                                                                                   | 190/986 [22:55<1:13:45,  5.56s/it]"
     ]
    },
    {
     "name": "stdout",
     "output_type": "stream",
     "text": [
      "generated explanation: <pad> <extra_id_0> Even when not in flight a bald eagle will be seen perched up on high places. This is because they like to have a lay of the land, and therefore are often seen perched up high. This is because high places are a good place for them to perch up and get a good view of the land. This is because the high places are often a good place for them to perch up and have a good view of the land. High places are also good for them to rest and relax, which can also be seen from the sky, and often seen perched up. The birds also like to have a good view of the day. This allows them to stay in the land and be seen from high places. When they are in the wild they can often seen perch up high places for their view of the birds to see them. High places also known as they can be seen from high places. High places are also often used to get a good view of the land. High places are also known as a bald es.</s>\n",
      "########\n",
      "*******\n",
      "question: When is good time for garlic bread?\n",
      "answer: dinner\n",
      "choices: ['refrigerator', 'dinner', 'jail', 'supermarket', 'going on a date']\n",
      "common expl list: ['Typical garlic bread is served with a maincourse and wine or other alcoholic beverage, and both are commonly served with dinner.', 'Garlic bread is often served with dinner.']\n"
     ]
    },
    {
     "name": "stderr",
     "output_type": "stream",
     "text": [
      "\r",
      " 19%|███████████████████████████████▌                                                                                                                                   | 191/986 [23:05<1:31:46,  6.93s/it]"
     ]
    },
    {
     "name": "stdout",
     "output_type": "stream",
     "text": [
      "generated explanation: <pad> <extra_id_0> : When it is time to serve garlic bread, it is best to do so at dinner time. Garlic bread is a very versatile bread that can be used for many different types of foods, including bread, bread, and rolls. Garlic bread is often used for its unique flavor and texture, and can be made in a variety of ways, including with butter, honey, and lemon. It is also a great way to add a little extra flavor to your meal. Garlic bread is a great way to add a little extra-fat, and can be used to make garlic bread, and other dishes like to serve it with other dishes, and can be enjoyed with a delicious meal. It is also often served at dinner, as it can be eaten with any dinner. It can be served with a simple, or garlic bread, and can be used to make a variety of different types of different types of different types of breads. It can be used as a side or condiments, or as a variety of vegetables, or as a great choice for a great addition to any dinnertime. It can be served with a variety of flavors, such as a variety of different types of bread. It can be served with a variety of different types of bread. It can be served at a variety of different types, such as a simple or, and flavor depending on the bread. It can be eaten at dinner.</s>\n",
      "########\n",
      "*******\n",
      "question: Where is the sky fake?\n",
      "answer: planetarium\n",
      "choices: ['shed', 'atmosphere', 'photo', 'outdoors', 'planetarium']\n",
      "common expl list: ['Planetariums are buildings that simulate the sky.', 'Planetariums are places built to simulate the sky indoors; the opposite of outdoors.']\n"
     ]
    },
    {
     "name": "stderr",
     "output_type": "stream",
     "text": [
      "\r",
      " 19%|███████████████████████████████▋                                                                                                                                   | 192/986 [23:14<1:40:22,  7.58s/it]"
     ]
    },
    {
     "name": "stdout",
     "output_type": "stream",
     "text": [
      "generated explanation: <pad> <extra_id_0> The sky is a very important part of the planetarium. It is important to know that the sky is not real and that the sky is not a reflection of the sky. The sky is a reflection of the sky and is not a reflection of the sun. It is also important to know that the sky is not real and cannot be seen because it is not a real object. Instead, the sky is a reflection of the sun and cannot be seen from the ground. The sky is a reflection of the earth and is a planetarium, which is a real-world. Furthermore, the planeta live on- and a real sky is not a planeta real life-t even exist in the earth and the sky is not a real and is not a real and not a real sky, and not real and a sky is not a real and the sky is not real. The sky is not real and is a real world, the sky is not real. The planeta real-real sky is a real-world, and is a real-life-world, and the sky is a planeta real world, and the sky is a real-world is not a real world, and the sky is not a real world.</s>\n",
      "########\n",
      "*******\n",
      "question: Boats that aren't on the ocean travel across the surface of what?\n",
      "answer: lake\n",
      "choices: ['lake', 'ocean', 'tetrahedron', 'mirror', 'object']\n",
      "common expl list: [\"Lakes (and ponds) are bodies of fresh water surrounded by land, and boats exist on water, and thus, will tend to travel across lakes' surfaces.\"]\n"
     ]
    },
    {
     "name": "stderr",
     "output_type": "stream",
     "text": [
      "\r",
      " 20%|███████████████████████████████▉                                                                                                                                   | 193/986 [23:19<1:28:28,  6.69s/it]"
     ]
    },
    {
     "name": "stdout",
     "output_type": "stream",
     "text": [
      "generated explanation: <pad> <extra_id_0> Boats that aren't on the ocean travel across the surface of a lake. They travel across the lake because the lake is a natural barrier to water travel. It is also a great place for recreational activities, as it provides a variety of activities, such as fishing, swimming, and picnicking. In addition, the lake provides a great place for boating, fishing, and other water sports. The lake is a great place to explore the area and is often used to transport watercraft across the lake. The lake is a great lakes are also great for fishing. In addition, the ocean, the lake also provides a great variety of water temperatures, which can be used to the ocean. In addition, the lake, the lake is often used by allowing for boating activities. The lake is also a great place to explore.</s>\n",
      "########\n",
      "*******\n",
      "question: A small dog lived with a a woman who loved him. Where might he have lived?\n",
      "answer: person's house\n",
      "choices: [\"person's house\", 'dog house', 'canada', 'illinois', 'basket']\n",
      "common expl list: [\"Dogs are often kept as pets, and pets are often kept in their owners' homes.\", 'Animals who live with humans are often in their homes.']\n"
     ]
    },
    {
     "name": "stderr",
     "output_type": "stream",
     "text": [
      "\r",
      " 20%|████████████████████████████████                                                                                                                                   | 194/986 [23:24<1:24:17,  6.39s/it]"
     ]
    },
    {
     "name": "stdout",
     "output_type": "stream",
     "text": [
      "generated explanation: <pad> <extra_id_0> A small dog lives with a person who loves him. A person's house is a common place for dogs to live. Dogs are often kept in a house because they are often kept in a secure place. This is because dogs are usually kept in a secure place, such as a person's home. The dog may have been kept in a secure place because the dog would have to be kept away from strangers. This is because dogs are often kept in a secure area, such as a bedroom, or in a small house. It is not always loved by the dog. The dog may have been in a house because of the person's house is often kept in a safe place for dogs, and other dogs. Dogs are often kept in a safe place for people, and lovingly. The dog may have lived in a safe place for people who love him.</s>\n",
      "########\n",
      "*******\n",
      "question: There are usually four strings on what popular instrument?\n",
      "answer: guitar\n",
      "choices: ['trumpet', 'kite', 'quark', 'guitar', \"bird's nest\"]\n",
      "common expl list: ['A guitar is a stringed instrument with four strings.', 'Guitars have four strings.']\n"
     ]
    },
    {
     "name": "stderr",
     "output_type": "stream",
     "text": [
      "\r",
      " 20%|████████████████████████████████▏                                                                                                                                  | 195/986 [23:33<1:31:48,  6.96s/it]"
     ]
    },
    {
     "name": "stdout",
     "output_type": "stream",
     "text": [
      "generated explanation: <pad> <extra_id_0> A guitar has four strings. These strings are used to provide a strong foundation for the sound it produces. These strings are arranged in a treble-shaped pattern that is called a ‘ghost’ string. This is because the guitar has four strings, which are made of different materials. The strings are connected to a common tuning system that allows the guitar to produce a steady, even tone. This is because the strings are glued together to create a consistent sound. The four strings also provide a consistent feel and tone. The guitar has four strings, which are usually four different types of different notes. Additionally, there are also four different styles of music, and different styles, each string arrangement. The guitar is usually played by acous, which makes it easy to playable to play. The guitar is also known for its versatility. It is also acous unique and unique design allows for a variety of different styles and style. However, there are four different types of music. a variety of different styles of music, making it a different sound. There are also known as well-t as well-tuned sound, making it easy to play.</s>\n",
      "########\n",
      "*******\n",
      "question: Where would you find a shelf with toys for young people learning?\n",
      "answer: school building\n",
      "choices: ['corner', 'school building', 'wall', 'library', 'bookstore']\n",
      "common expl list: ['A school building is a place where children learn, and so, a school building would have a shelf with toys for young people learning.', 'School buildings house school libraries, in which you would find shelfs of toys, games and puzzle for students to use while in school.']\n"
     ]
    },
    {
     "name": "stderr",
     "output_type": "stream",
     "text": [
      "\r",
      " 20%|████████████████████████████████▍                                                                                                                                  | 196/986 [23:39<1:29:37,  6.81s/it]"
     ]
    },
    {
     "name": "stdout",
     "output_type": "stream",
     "text": [
      "generated explanation: <pad> <extra_id_0> A school building is a great place to put a shelf with toys for young people learning. It is a great place to put a shelf with toys for young people learning. It is also a great way to teach young children about the importance of learning. It is also a great place to introduce toys to young people to help them become more independent and engaged. It is also a great place to put a book or other learning resource. This is because it is a great way to introduce the concept of play and learning to play. It is also a great place for teachers and students to find it is a shelf with toys for young people to play. It is also a great place to put together. Furthermore, the school is also a great place to put a shelf with toys for young people to play and learning. This is also a great way to get involved in the process. It is also a great way to get involved in the classroom.</s>\n",
      "########\n",
      "*******\n",
      "question: What can you get after drinking too much alcohol?\n",
      "answer: sickness\n",
      "choices: ['become drunk', 'have fun', 'active', 'frequent urination', 'sickness']\n",
      "common expl list: [\"Alcohol (e.g., beer, wine, etc.) is a chemical that alters people's consciousness, making them generally feel unpleasant; subsequently, over-consumption can lead to the vomiting of one's content inside one's stomach. Hence, being\", \"Drinking too much alchohol can impair the body and, consequently, one's ability to think straight. It can also cause sickness.\", 'Alcohol is a diuretic, which means that it makes you urinate more frequently. This can lead to dehydration, which can cause sickness.']\n"
     ]
    },
    {
     "name": "stderr",
     "output_type": "stream",
     "text": [
      "\r",
      " 20%|████████████████████████████████▌                                                                                                                                  | 197/986 [23:48<1:35:42,  7.28s/it]"
     ]
    },
    {
     "name": "stdout",
     "output_type": "stream",
     "text": [
      "generated explanation: <pad> <extra_id_0> Alcohol can cause you to feel sick. This is because alcohol is a powerful depressant that can make you feel ill or worsen your mood. It can also lead to a loss of concentration, which can lead to a loss of appetite, and can lead to a loss of muscle tone, as well as a loss of appetite. Alcohol can also cause you to feel tired, sleepy, or worse. Alcohol can also cause you to feel irritable, anxious, or irritable, which can lead to a loss, which can lead to become a high and can lead to alcohol withdrawals that can cause you to become depressed and cause you feel irritable, which can lead to vomiting, or other symptoms, such as headaches, or irritable, or even more serious health problems. Also, a high can lead to a loss of energy, which can lead to a high, which can lead to a feeling of a high. It is also important to drink regularly, as it can lead to a high. The effects of drinking alcohol can lead to a high blood pressure, which can lead to a variety of symptoms.</s>\n",
      "########\n",
      "*******\n",
      "question: WHat is the central bank responding to when they are fighting inflation?\n",
      "answer: problems\n",
      "choices: ['deflation', 'problems', 'spend more', 'people', 'not noticeable']\n",
      "common expl list: ['Periods of inflation cause problems for businesses and people. The central bank may take steps to fight inflation (reduce it) to respond to this problem. Reducing inflation also solves the overall issues.', 'Inflation is a function of having too much money in the economy. This may cause problems.', 'In order to fight inflation, a central bank must respond to the problem, e.g., economic trouble, which if left alone, would cause inflation', 'Inflation is a problem, and the central bank is responding to it by fighting it.']\n"
     ]
    },
    {
     "name": "stderr",
     "output_type": "stream",
     "text": [
      "\r",
      " 20%|████████████████████████████████▋                                                                                                                                  | 198/986 [23:55<1:35:44,  7.29s/it]"
     ]
    },
    {
     "name": "stdout",
     "output_type": "stream",
     "text": [
      "generated explanation: <pad> <extra_id_0> Inflation is a problem that central banks are responding to when they are fighting inflation. This is because they are responding to problems that are caused by the economy. Inflation is a problem that is caused when the government is trying to control the economy. In order to combat inflation, central banks must be able to identify and address problems that are causing the economy to grow and to act accordingly. This includes identifying and preventing problems before they occur, and identifying and responding to them. Inflation is a problem when the bank is a problem that the government, and a problem that can cause problems that can be caused by the central bank to respond to problems that can cause problems that can create. Infin the central bank must respond to problems when they are fighting against inflation, because they are trying to determine the best way to combating inflation, and to take measures to help the economy. Inf the bank can take measures to reduce the risks that can be a central bank to take measures that can be taken to address the government.</s>\n",
      "########\n",
      "*******\n",
      "question: What could a massive building be if it is not constructed well?\n",
      "answer: insubstantial\n",
      "choices: ['insubstantial', 'massless', 'dwarf', 'inconsequential', 'good']\n",
      "common expl list: ['Because the massive structure is so large, poor construction could render it largely inconsequential, or \"insubstantial\", as a structure.', 'A building is typically considered a sizable construction, therefore, if erected poorly, would be construed as being insubstantial.']\n"
     ]
    },
    {
     "name": "stderr",
     "output_type": "stream",
     "text": [
      "\r",
      " 20%|████████████████████████████████▉                                                                                                                                  | 199/986 [23:59<1:22:36,  6.30s/it]"
     ]
    },
    {
     "name": "stdout",
     "output_type": "stream",
     "text": [
      "generated explanation: <pad> <extra_id_0> A massive building is a massive building that is constructed to be a high standard of quality. It is a building that is constructed to a high standard, and it is important that it is constructed to last. Buildings are often built to last for a long time, and if they are constructed poorly, they can become insubstantial very quickly. This is because the building is often used for storage, and the contents of the building are often contaminated with dust and dirt. This can lead to a massive building being insubstantid, and a building. It is also important to construct a solid foundation. Additionally, it is often difficult to complete, and maintain it. Additionally, the building is often damaged by the foundation.</s>\n",
      "########\n",
      "*******\n",
      "question: If you rent a condominium in a glove-shaped state where are you?\n",
      "answer: michigan\n",
      "choices: ['great lake state', 'michigan', 'community', 'towels', 'complex']\n",
      "common expl list: ['A condominium is a type of housing that is often rented. Condominiums are often located in complexes, and Michigan is a state that is shaped like a mitten.']\n"
     ]
    },
    {
     "name": "stderr",
     "output_type": "stream",
     "text": [
      "\r",
      " 20%|█████████████████████████████████                                                                                                                                  | 200/986 [24:07<1:29:57,  6.87s/it]"
     ]
    },
    {
     "name": "stdout",
     "output_type": "stream",
     "text": [
      "generated explanation: <pad> <extra_id_0> Michigan is a glove-shaped state. It is home to the largest population of people in the United States, making it the most populous state in the union. Michigan is also the most populous state in the union, with a population of over 400,000 people. The state is home to the largest number of people in the United States, making it the most populous state. It is also the most populous state in the union, making it the most popular state for both residents and tourists. The state is also known for its large population, making it the most affordable condo rental market. Michigan is also the most populous state, which makes it a great choice for anyone looking for a condo in the state of the best choice for a luxury condo market. It is also a great place to live in the heart of the state, making it a great place to renters. Moreover, the state is also a great place to the perfect for a condominiums, making it a great choice for those looking for those who want to live in the state of Michigan condos and for its a great location, making it an ideal state for those looking for</s>\n",
      "########\n",
      "*******\n",
      "question: where do children play a game?\n",
      "answer: family room\n",
      "choices: ['toy store', 'bar', 'casino', 'table', 'family room']\n",
      "common expl list: ['A family room is a room in a house where family members can play games.', 'A family room is a room in many homes in which families can socialize, often through games. One such game is \"connect four.']\n"
     ]
    },
    {
     "name": "stderr",
     "output_type": "stream",
     "text": [
      "\r",
      " 20%|█████████████████████████████████                                                                                                                                  | 200/986 [24:13<1:35:11,  7.27s/it]"
     ]
    },
    {
     "name": "stdout",
     "output_type": "stream",
     "text": [
      "generated explanation: <pad> <extra_id_0> In a family room, children can play a game of tag, a game of chess, or a game of rummy. Children can play a game of rummy because it is a fun way to bond and bond with their friends and family. It also helps to bond as a group and helps to build a bond between the children and their families. It also helps to build a sense of community and bond between the children, as well as a sense of accomplishment and accomplishment. Family rooms are often used to play because of the games are often played in the family room, as well as well as well as well as a family. Additionally, games can be played in a family room, or in a family room, such as a game in a family room, so that the children can play in a game in the game in the game is played in a team.</s>\n",
      "########\n"
     ]
    },
    {
     "name": "stderr",
     "output_type": "stream",
     "text": [
      "\n"
     ]
    }
   ],
   "source": [
    "from tqdm import tqdm\n",
    "fse_csqa_dev_data_dict\n",
    "fse_csqa_train_data_dict\n",
    "rationale_pair_dev_data = []\n",
    "cc=0\n",
    "good_model = model\n",
    "for da in tqdm(our_data_splits['dev'], total=len(our_data_splits['dev'])):\n",
    "    print(\"*******\")\n",
    "    print(\"question: {}\".format(da['question']))\n",
    "    print(\"answer: {}\".format(da['answer']))\n",
    "    print(\"choices: {}\".format(da['choices']))\n",
    "    #print(\"our_explanation: {}\".format(da['our_explanation']))\n",
    "    id_ = da['id']\n",
    "    if id_ in fse_csqa_dev_data_dict.keys():\n",
    "        common_expl_list = fse_csqa_dev_data_dict[id_]['common_expl_list']\n",
    "    else:\n",
    "        common_expl_list = fse_csqa_train_data_dict[id_]['common_expl_list']\n",
    "    da[\"common_expl_list\"] = common_expl_list\n",
    "    print(\"common expl list: {}\".format(common_expl_list))\n",
    "    inp_ids = torch.tensor(da[\"input_ids\"], device=model.device).reshape(1, -1)\n",
    "    out = good_model.generate(\n",
    "                    inp_ids,\n",
    "                    max_length=512,\n",
    "                    pad_token_id=tokenizer.pad_token_id,\n",
    "                    eos_token_id=tokenizer.eos_token_id,\n",
    "                )\n",
    "    skip_special_tokens = False if \"infilling\" in data_args.io_format else True\n",
    "    words = tokenizer.decode(out[0].tolist(), skip_special_tokens=skip_special_tokens)\n",
    "    print(\"generated explanation: {}\".format(words))\n",
    "    da[\"generated_explanation\"] = words\n",
    "    print(\"########\")\n",
    "    rationale_pair_dev_data.append(da)\n",
    "    cc += 1\n",
    "    if cc > 200:\n",
    "        break\n",
    "    #pdb.set_trace()"
   ]
  },
  {
   "cell_type": "code",
   "execution_count": 53,
   "id": "a7a66b99",
   "metadata": {},
   "outputs": [],
   "source": [
    "import json\n",
    "rationale_pair_save_path = os.path.join(\"./results\", \"48shots_cose_t5_large_text003_150_200_rationales_generator_test_rationale_pair.json\")\n",
    "with open(rationale_pair_save_path, 'w') as f:\n",
    "    json.dump(rationale_pair_dev_data, f)"
   ]
  },
  {
   "cell_type": "code",
   "execution_count": 52,
   "id": "33daef0f",
   "metadata": {},
   "outputs": [
    {
     "data": {
      "text/plain": [
       "dict_keys(['5b8a3081c3235d62bc77e2d15f3ad454', '07f108d5321a66f460685f5c7499ecb2', 'ff1bf2ec835c9df8695ae0cfb5281646', '33ea932a876ac0361c9eefeff1d24e92', '35ad89c198d5d6311a71c993bb7b6cba', 'a2aa95861ef74bf1ecfc55db505e3982', 'af3b9a8b1962cd3bcd19e644d873e7bc', '91e0f4ab62c9d2fd440d73a3f5308d96', 'cfc7fccb8449a2a950c9d2a50991420e', 'edbb57ac2f476679ae547f75ec2bef3e', '8555dd9667d010018961a2f7d1c22704', '8bdbb8caefcc607a9ec7579aa0c87cba', '549cf641318edfc0510fa7c7dbb359e1', 'd6c002d46d9bfa466637cec4a134f332', '3b9ccdcb1c932c46a38e040d3e6c7f5b', '54231f875bb7fe4d3e4afb6eae64387c', '668dc6bce771b10cbf6336f3ec76520a', '900492bd731f8f615ed7c08155737d44', '0b25bbd9e9aa976655e1975e31331709', '1729c737ff92cf558efecde2c6cafc5e', 'cc1a547bdfdcc95e4d632453af14bc96', 'c492b8b9754a181c924c1df19998cbc7', 'd31ee38f67d1173275e120b8ad36039c', '083861fc5ebb9226fff70544f3f83d2b', 'e1744fc698cffb574e5cf4b29a81ce76', '1f492f556fae64f72ce36b6caa242dd0', '27604394ccee83e089f9ffae1883cf07', 'b3dc6d6a5e2f9d7da8eb72816c80b3f8_1', '6bc3ebcfd04965c25bde71339955746c', '69335eb9bc5b7b5df840c38a086bf8b2', 'bc05bc6b4df7a3d25a361515fe8912ad', 'f7c005244d406b9bde48dc8c22003af1', 'f48528156632b9c5b18af9ce2095509b', 'b5baf77d3855935c87f01f5fb2216667', 'db1eb157671109bbb9113b0f71a6b957', '77ddc9134bb27f9962aa2ed5ec5a5ef9', '6abd34442438509b4a00c69d6fd24764', 'b67971747e95ba425a5b81e0ba8d0b28', 'bee2a6eadfaf7a4fa0a214e341ddbe5b', '8ce13c6e08bf38d4cd4af756b661e47c', '80930e9df9ac4ad752749a54e7fc124f_1', '3ffe67fb009529d9b0c49ccd7141ee4a', '8d3dc21a53523850ec80771daaa5ff20', '3310b5b24f03d67179fababf9ae95144', '998381f854f51da2a6ccde45909e5168', 'f427f9de6bf580314531baf86de8acbc', '18844d3aa4e52b331b5382c8244cf4db', '8af63d58cc35061dec38e5448c325988', '768fb09deab56046e1565b6a2556ad5c', '5655a3002dd9a6b7dabede1dd26a5893', '07ea8ff6ee916f2bf9aceab1e19ff99a', 'd35a8a3bd560fdd651ecf314878ed30f', '449de58e919975867255218484a9fc89', '7cf54544d54818d53e7088c0749a3eca', 'd29252ddaf7c7ef491abcce342d7bb98', '4a4f6408fae400ce0beb5bea0f9913e9', 'c306ab28498b67c53decb9dde1d78bd5', 'ba9132ebf2bc3ad21e6a0631dc4e0a77', '026cb9c07a583ec933f2c4c67ae73836', '2a21820a135e1a49883525c055c74a0b', '7c45033e9fd9f1a759923971b14390ed', 'dc964e4f6df6b70815e81e466d0ff717', '2a32b1e541b1daae04690d0d3a4b3310', '6c515b068b4d3aa88a5382224d9b866d', '6c84e79d0595efd99596faa07c4961d0', '42c46e28baf0fc617a07419286178c0a', 'c39131d979c9205c11d0e109e18188e4', 'c592258c88295756833e9796e881057b', '3526550b02d9594abd4fc43553010fc6', '637c710ec9582fd9b9e8eaa3f3fe83bb', '01f01cc3ad152773ef42b30e926912bf', 'c54ddc0f9d170ba65d9f4f2e0bb41d1c', 'ad37795fd9e3a65553683ff305b5113d', '7a3d0c94438a5c8a09364aaebb848a2c', '7c05e8d5a057085455eea243fbd1cd90', '4364b4b342fb7b44434bd6694bf8fd51', '99098375c7b651d524eebac72e358238', '1ddd239a2a6438a891cb411b82e7f450', 'f4bb8ecacb9ce89e040f5f76bc79afb3', '6b9221c1af583ffb43580857d6fde38a', 'cf8e30dd6956d03e3f0f0397112a8696', '456f2fb41cac8c028dcfe2f48637e473', 'c908d7c4633c5e6add9463bdd47cb27e', '2de08c7a518b7c226e19bdc8fc10ef1d', 'cd639cf3ff82f825ace7dd2b087562bd', 'e3c6d147f8a727d314046e70e9579ba0', 'b9b82aa4c236cd342ff95455b8516a42', 'e4976ee741cf4b28b8a42780ffb15774', '8d275acea05fd16295c659c504576a9b', '3bf06235a537adc9d85431846595b800', 'a7d51b753c2113d8b2dbd0ebb5375855_1', 'bcc5dd6292a64d8fa17cd07c360b335d', '46ba5d2b8cfc6708e5e2618568d8730e', '9f9ca9bb06d6afc31b19c365fb29a1c9', '3d9c3253e24fb108cea9083e8a853cf2', '3b8e1d236f5169b6c833a994d6d9c39a', '6ca8439d062de4d43d7d471c508b78db', 'ec86900559a0faf2aef066e511a4cfa6', '57e96118fee6e2bbac5f59790fc833c0', '520b0eea9148e3cb4d45aa69a55491eb', '6be05d227f4f6fe727218fc8be9df340', '113aaea2b1a27a976547f54e531d99bb', '2f0931adc3d0d422d9ab6264395e89d8', 'cce1b59f7c4f540a84a1a7d6d88548c4', '870b07a1c5af2e956673a9680da99852', '34005ef0caafefc8585c9fcd50e94557', '22458fdcead20e2def0df0d92d5806f6', 'ec224c1dbfb569cce7ec317fe987ae68', 'ede4d302fc2ffe07703158f83c1493f2', 'ecd32cc0c17d4738a27bba3399f04591', '5c171b9837af49211891ce40e4a10204', '801431167b8bff06b9870abe9721536b', 'b47d912136e3304cb5e5890b6b879551', 'd0bd5b5ee7319d1c4727e38d429dd54e', '78276a4eab6e8d6b9ae3749211816977', 'ec79ef747bb89281923edb89ba26786d', '0e80f2afe5c4f652e8720b52d7c06c87', '39572e0ba1db51fa74f7fc2d90c5ec7f', '56417ee33b44f0d916bedfb6fd99b0ec', 'f996430ce208606452868fd2e739d409', '858a5eaa587fe0e266722228671a6bd1', '273d0134e8ce53d4ebcf41ca7fde02af', '49e466b1782aa4837dae53ff891fcdee', '08d908ed723f813574992195d61386a2', '7192c9f5c513aac9042bad595ff5af9f', 'aa4c5d2d348796b8d7fa324f27f4c34f', '0e52659484f2f6d763cf0d38d4c5999d', '4423c006f2a43f222d4c4e97360c25d3', 'f4a75bf3f115b826a8097edfd0ff2781', '07b51b231a9d6a143d8a73e69121e1b1', 'c2a8c6814ed3e207771cfc23b3b42cf1', 'f13efb91090dd28fd2b3c1f4dde680fd', '985a4f1a3f31f1ba6654f4fc48f504df', '9e5ce2b7d9eb404cdf8c7317dd0b5a59', 'a400b9fd1e319f901471c4b42d401c52', '042898e0c71adac5d123aaa6221c9754', '29c194d032a266a7160bff6f546a4d9d', 'db0cfd52ca6b2bbfcf26d1a898fd929b', '2a0e82bbf1471290c93c8f2a11af197f', '49b4c9e1bd7946a819e173ce8fa4c7c9', '6cb895ce89995f6be422f7c4167c7638', 'df1bf6f3f87975aa0c1b6d6153d9ecef', '1bf4c6b5bd870b1a079106e1e97e5d09', '8ae24d3ff199077a59e0d970feb665b7', 'bb503ece4eac41dfe608a1dcb654e6bf', '6e77de03bee86d6c20780e14f00944d0', '5799089c131e26473697afc54d5f6964', '895aa97bb84d874d71b2aed572cebfdd', '23d97480fe45bace231503f8fc367a5b', 'a2977fd575faba162d04a490dabd1b9b', '5a1c8a9dbbb60e523cc1ba14a370729c', '5496c7293f653120e5a5213db2d7b103', '7044d82a456d0fa6f0210abb03cbf2c4', '15b090801256085ad465e74af47cbee9', 'aa984e2b487d08889bc0c73bab5ac945', '4302e727e47f464511d4d04f22bed0d2', 'b6b66d4519a84b8331ea55f84767e9df', '0e5c7c0cec5b693e52f74f5f879d84fb', 'e408a5a031caec33782cb3b3a005eecc', '96cb628fb7ed2f53245598f707ed2b80', '2067720531fc03c017af941cec2f6f40', '5b8d76889510384b38b72945e8d28f53', 'cf33e0f5891ce53a716432be06a46ee1', '24eebfa678112100803da16dde148b2d', '0c2fa15a02d0b6ca6707e98fac7589e4', 'c2c2a387fd9a6a26cff636008de21f71', 'f20d40bc4af588223e880e0bb58b27b8', 'b42ef8be1748c19fa5938de5396f8fad', '57b83653d82b27d32bc39228130f3516', '2192c5c2145a6e03755ad89a02e64055', '175e7dcdded13d5adafaebf2264c3abd', '8d4b0312f02be445e09a9462873d02bb', 'cfa081b5ba90dae4d7ddb5b7ad9d369a', 'd6bb990e8c409d2b3af37a2da198e01f', '20a3bb788cf408d9a3e25e610fe60905', 'af11faa29097b71141fe192ad019d1dd', '6915dfdefe3b1cd5fd8886c8bb84929a', '43ba9669564217f2f909f33acbedaf95', 'fce1c5d069758aea57a787fc98dcf7a9', '32758ab86d888be680845b0dfe7de35e', '7ea57ee4580042b0a6a40479c8ace3e4', '21fb76bd8349628b441c76f47c33e77b', '3fe45ab3bd4a844ea290050fc0ece8c1_1', '3dee8fc7f0a3fbf4de111b6686fca157', 'ceafca2445b1b974d085a8cce38e8e44', '42520bf3f93f8de23670044e019001a3', '5ea6b94d1a911365b06cf776919413e8', '2d3c9d3dff1a7a8253180cb3de1ceeea', 'a4892551cb4beb279653ae52d0de4c89', 'e050bce7048da1b3743a54153e91694e', 'eb50f536830ba18ab987c7ff652e2aba', '6386bcf080633bc3eeb3317a5435b7b7', '839f3c37622c1ed5eebc9cd0b9d658e8', '009a7aabffe0583fc2df46656b29c326', 'c82ed0c2a2e115452b4d596c5faafbcf', '01abce8c4964371d85a5be2019f75827', '7d937233b4a9043da0b976dbd42d141b', 'c611875b43b67b91030b889b267bbcb3', '7bc1198664b376f79d584725ad7f874b', '5e260e1d96187716888cbd968010bb65', 'fde48d43e27cefed6ed9c52514e0bb6d', '43ab0ff711e60d51f943bbd2cdd6515a', '1a8b3c2a46efabcbd506f9cf70886ed0', '48a315cfa3ce11f7a9d615bc854331d5', '095767956c500ca1af7cf7671556de5b', 'de54d03e69d9765872f95ff06ed21499', 'cbf3dd48b4d591fc872a53cd4b9dd3af', '35872be88df5f6c4a6600020266a5458', 'a90f9197a13c64089c9ba95bcba275ad', 'bd4e80fa6642a76c064d0bc924411fb0', '008b7ba0c039f6d0d542c6c90aae173c', 'ace8fa2943ba8414aebdb74b48906fae', '1caf93d6a22dc8190e19c14bbe1fafda', '7c8bc9c0e56389eef033bca40c88c151', '6195ed74cf445cb5d991e1076a080dde', '8086f022f2d4a4888ae1f8c7e4541ab9', '1e5a138b4c7d456c37abf4990b402bbe', '3f4b48708d08f8bf7bec796531023f9c', '60e92cd2f35c345872d1a898e1718d55', '9889e5389917d812c09d6e5d382d333d', '46351b3a6beb694c5f623583a3b1473d', '7b7941b883328ad39048d4dfb1eb5623', '7d7f7d7a8ae3b20ca9fc0da6efe467b4', 'c961578f4c5768b67b843e5d2ce18452', '514310637fb43a252bfadc8cbf79b277', '5279a2ea333ba8a5bf3a7637a7279da1', '5622e49306bb82ec1cec817ad0506c60', 'fcd39cfa321728fea069a6ae4285b06f', '26bd85f05d29863ed777a4f1a4b8fa63', '31487ab8b1e8f12e252590cc58bd19c2', 'ffd89796a9b09bef56c5803f188764c6', 'ba3a2b9ff289c106051163f840a6f5ba', 'b1f36d1c8ab7e5a28783cb38e8709c27', '5c2bc4335c8860342ec2d568ceb6ac6b', '36c1f50eec01c287b8ef6ffe69fe0528', '515834727e23e30ab7c8fe5ba7e9a765', 'a15d564d0be6996251b5d523ac62db2a', '8f01273422a370a8dbda6bf473a395a0', 'cabefb7063a728e77abd44d97397a2a4', '1bc986f8aea88d6927d8a45367855a94', '484f6e4fb8e6431b010c299490b72e3c', 'a7e3de0719fe30e7048f67426e29fdd1', 'a617eb4d27edea93e7fd630ce00c8219', '2c0030cc14a27be2401dcfdaa501f0fc', 'cf02cca40a47c2deefd8b2e5a5ff2f70', 'ea0e7771afd86a59fd9f7764b77e3fa4', 'c1aebf059c5102f4e773f7fe4afe13f0', '95a85df48902d23eb3fda25a99fca1a0', 'a4b44a986e7f9045432e20ea75611df4', '05490e6c191fbc3c2fe0033ed0bd8aa0'])"
      ]
     },
     "execution_count": 52,
     "metadata": {},
     "output_type": "execute_result"
    }
   ],
   "source": [
    "fse_csqa_dev_data_dict.keys()"
   ]
  },
  {
   "cell_type": "code",
   "execution_count": null,
   "id": "bd852d7d",
   "metadata": {},
   "outputs": [],
   "source": []
  }
 ],
 "metadata": {
  "kernelspec": {
   "display_name": "Python 3 (ipykernel)",
   "language": "python",
   "name": "python3"
  },
  "language_info": {
   "codemirror_mode": {
    "name": "ipython",
    "version": 3
   },
   "file_extension": ".py",
   "mimetype": "text/x-python",
   "name": "python",
   "nbconvert_exporter": "python",
   "pygments_lexer": "ipython3",
   "version": "3.7.0"
  }
 },
 "nbformat": 4,
 "nbformat_minor": 5
}
