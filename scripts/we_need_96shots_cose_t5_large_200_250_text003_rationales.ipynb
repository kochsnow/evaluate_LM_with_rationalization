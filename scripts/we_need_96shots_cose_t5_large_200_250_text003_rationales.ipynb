{
 "cells": [
  {
   "cell_type": "code",
   "execution_count": 1,
   "id": "f5286ba7",
   "metadata": {},
   "outputs": [
    {
     "name": "stderr",
     "output_type": "stream",
     "text": [
      "\u001b[34m\u001b[1mwandb\u001b[0m: Currently logged in as: \u001b[33mdengdenghuang\u001b[0m (\u001b[33mcuhk_lavilab\u001b[0m). Use \u001b[1m`wandb login --relogin`\u001b[0m to force relogin\n"
     ]
    },
    {
     "name": "stdout",
     "output_type": "stream",
     "text": [
      "env: WANDB_PROJECT=evaluate_LM_with_rationalization\n"
     ]
    }
   ],
   "source": [
    "import wandb\n",
    "wandb.login()\n",
    "\n",
    "%env WANDB_PROJECT=evaluate_LM_with_rationalization"
   ]
  },
  {
   "cell_type": "code",
   "execution_count": 2,
   "id": "30300ea6",
   "metadata": {},
   "outputs": [],
   "source": [
    "# import gpt3\n",
    "import logging\n",
    "import math\n",
    "import os\n",
    "\n",
    "from typing import List, Dict, Any, NewType\n",
    "\n",
    "InputDataClass = NewType(\"InputDataClass\", Any)\n",
    "os.environ[\"CUDA_VISIBLE_DEVICES\"] = \"3\"\n",
    "from transformers import (\n",
    "    T5Config,\n",
    "    T5ForConditionalGeneration,\n",
    "    T5Tokenizer,\n",
    "    HfArgumentParser,\n",
    "    TrainingArguments,\n",
    "    set_seed,\n",
    "    EarlyStoppingCallback\n",
    ")\n",
    "from transformers.trainer_utils import EvaluationStrategy\n",
    "from transformers.integrations import TensorBoardCallback\n",
    "import transformers\n",
    "from transformers import Trainer\n",
    "\n",
    "#from feature_conversion_methods import format_instance\n",
    "\n",
    "from custom_args import (\n",
    "    DataTrainingArguments,\n",
    "    ModelArguments\n",
    ")\n",
    "from metrics import evaluate\n",
    "import torch\n",
    "import datasets\n",
    "import git\n",
    "import time\n",
    "from datetime import datetime\n",
    "import sys\n",
    "from tqdm import trange\n",
    "import random \n",
    "import pandas as pd \n",
    "import jsonlines\n",
    "from copy import deepcopy \n",
    "\n",
    "logger = logging.getLogger(__name__)\n",
    "transformers.logging.set_verbosity_info()\n",
    "import re\n",
    "def set_global_logging_level(level=logging.ERROR, prefices=[\"\"]):\n",
    "    \"\"\"\n",
    "    Override logging levels of different modules based on their name as a prefix.\n",
    "    It needs to be invoked after the modules have been loaded so that their loggers have been initialized.\n",
    "\n",
    "    Args:\n",
    "        - level: desired level. e.g. logging.INFO. Optional. Default is logging.ERROR\n",
    "        - prefices: list of one or more str prefices to match (e.g. [\"transformers\", \"torch\"]). Optional.\n",
    "          Default is `[\"\"]` to match all active loggers.\n",
    "          The match is a case-sensitive `module_name.startswith(prefix)`\n",
    "    \"\"\"\n",
    "    prefix_re = re.compile(fr'^(?:{ \"|\".join(prefices) })')\n",
    "    for name in logging.root.manager.loggerDict:\n",
    "        if re.match(prefix_re, name):\n",
    "            logging.getLogger(name).setLevel(level)\n",
    "set_global_logging_level(logging.ERROR, [\"datasets\"])\n",
    "\n",
    "\n",
    "CONFIG_MAPPING = {\"t5\": T5Config}\n",
    "MODEL_MAPPING = {\"t5\": T5ForConditionalGeneration}\n",
    "TOKENIZER_MAPPING = {\"t5\": T5Tokenizer}\n",
    "\n",
    "\n",
    "def set_other_seeds(seed):\n",
    "    torch.backends.cudnn.benchmark = False\n",
    "    #torch.backends.cudnn.deterministic = True\n",
    "    os.environ['PYTHONHASHSEED'] = str(seed)\n",
    "\n",
    "# inspired by DefaultDataCollator from:\n",
    "# https://github.com/huggingface/transformers/blob/master/src/transformers/data/data_collator.py\n",
    "# modified to perform batch-level padding.\n",
    "class SequenceCollator:\n",
    "    def __init__(self, model, pad_token):\n",
    "        self.model = model\n",
    "        self.pad_token_mapping = {\n",
    "            \"labels\": -100,\n",
    "            \"attention_mask\": 0,\n",
    "            \"decoder_attention_mask\": 0,\n",
    "            \"input_ids\": pad_token,\n",
    "        }\n",
    "\n",
    "        self.columns = [\n",
    "            \"input_ids\",\n",
    "            \"attention_mask\",\n",
    "            \"labels\",\n",
    "            \"decoder_attention_mask\",\n",
    "        ]\n",
    "\n",
    "    def __call__(self, examples: List[Dict[str, InputDataClass]]) -> Dict[str, torch.Tensor]:\n",
    "        # re-format inputs for training\n",
    "        batch = {}\n",
    "        for key in examples[0].keys():\n",
    "            if key in self.columns:\n",
    "                tmp_list = []\n",
    "                for item in examples:\n",
    "                    tmp_list.append(item[key])\n",
    "\n",
    "                # pad lists to max length\n",
    "                if isinstance(tmp_list[0], list):\n",
    "                    max_length = max(map(len, tmp_list))\n",
    "                    tmp_list = [\n",
    "                        el + [self.pad_token_mapping[key]] * (max_length - len(el))\n",
    "                        for el in tmp_list\n",
    "                    ]\n",
    "\n",
    "                batch[key] = torch.tensor(tmp_list, dtype=torch.long)\n",
    "        return batch\n"
   ]
  },
  {
   "cell_type": "code",
   "execution_count": 3,
   "id": "2fa5a75a",
   "metadata": {},
   "outputs": [],
   "source": [
    "from collections import defaultdict\n",
    "import random\n",
    "\"\"\"\n",
    "Example-to-Feature conversion methods\n",
    "Modified from\n",
    "https://github.com/salesforce/cos-e/blob/master/code/generation/train_commonsenseqa_v1.0.py and \"\"_v1.11.py (identical)\n",
    "as well as Tensorflow code for WTF?: \n",
    "https://github.com/google-research/google-research/blob/master/wt5/wt5/preprocessors.py\n",
    "\"\"\"\n",
    "# This code is based on https://github.com/allenai/label_rationale_association/blob/main/feature_conversion_methods.py\n",
    "\n",
    "unified_qa_esnli_label_mapping = {0: 'yes', 1: 'maybe', 2: 'no'}\n",
    "unified_qa_esnli_label_mapping_upper = {0: 'Yes', 1: 'Maybe', 2: 'No'} \n",
    "wt5_esnli_label_mapping = {0: 'entailment', 1: 'neutral', 2: 'contradiction'} \n",
    "unified_qa_sbic_label_mapping = {\"offensive\": 'Yes', \"not offensive\": 'No'}\n",
    "\n",
    "def format_instance(\n",
    "        example,\n",
    "        tokenizer,\n",
    "        explanation_sep,\n",
    "        max_seq_length=None,\n",
    "        datasource=None,\n",
    "        io_format=None, \n",
    "):\n",
    "    assert datasource in {\"cos_e\", \"esnli\", \"sbic\", \"sensemaking\", \"ecqa\"}\n",
    "\n",
    "    if datasource in [\"cos_e\", \"ecqa\"]:\n",
    "        input_string, answer_string = cqa_formatting(example, io_format, explanation_sep, datasource)\n",
    "    elif datasource == \"esnli\":\n",
    "        input_string, answer_string = esnli_formatting(example, io_format, explanation_sep)\n",
    "    elif datasource == 'sbic':\n",
    "        input_string, answer_string = sbic_formatting(example, io_format, explanation_sep)\n",
    "    elif datasource == 'sensemaking':\n",
    "        input_string, answer_string = sensemaking_formatting(example, io_format, explanation_sep)\n",
    "    else:\n",
    "        raise ValueError(\"Unknown task. Currently supported: esnli, cos_e, sbic, sensemaking, ecqa.\")\n",
    "    \n",
    "    if 'unified' in io_format and 'unifew' not in io_format:\n",
    "        input_string += '</s>'\n",
    "\n",
    "    input_string = ' '.join(input_string.split())\n",
    "    answer_string = ' '.join(answer_string.split())\n",
    "\n",
    "    input_string = ' '.join(input_string.split())\n",
    "    answer_string = ' '.join(answer_string.split())\n",
    "\n",
    "    encodings = tokenizer.encode_plus(\n",
    "        input_string,\n",
    "        max_length=max_seq_length,\n",
    "        pad_to_max_length=False,\n",
    "        return_token_type_ids=False,\n",
    "        return_attention_mask=True,\n",
    "    )\n",
    "\n",
    "\n",
    "    # note even with \"lm_labels.shift_right()\", the decoder attention mask length is still correct since we remove the last token\n",
    "    dec = tokenizer.encode_plus(\n",
    "        answer_string,\n",
    "        max_length=max_seq_length,\n",
    "        pad_to_max_length=False,\n",
    "        return_token_type_ids=False,\n",
    "        return_attention_mask=True,\n",
    "    )\n",
    "\n",
    "    encodings[\"labels\"] = dec[\"input_ids\"]\n",
    "    encodings[\"decoder_attention_mask\"] = dec[\"attention_mask\"]\n",
    "    encodings[\"question_encoding\"] = encodings[\"input_ids\"]\n",
    "\n",
    "    #return encodings\n",
    "    return {**example, **encodings}\n",
    "\n",
    "#这里很简单 定义好输入输出string就可以的\n",
    "def cqa_formatting(item, io_format, explanation_sep, datasource):\n",
    "    question = item[\"question\"]\n",
    "    answer = item[\"answer\"]\n",
    "    abstr_expl = item[\"abstractive_explanation\"].lower() if datasource == 'cos_e' else item[\"explanation\"].lower()\n",
    "\n",
    "\n",
    "    if io_format == 't5_fewshot_infilling_with_choices':\n",
    "        input_string = f\"explain {datasource} question: {question} choice: \" + \" choice: \".join(item[\"choices\"]) + f\" <extra_id_0> {explanation_sep} <extra_id_1>\"\n",
    "        answer_string = f\"<extra_id_0> {answer} <extra_id_1> {abstr_expl} <extra_id_2>\"\n",
    "    elif io_format == 't5_fewshot_infilling_more_natural':\n",
    "        input_string = f\"explain {datasource} question: {question} choice: \" + \" choice: \".join(item[\"choices\"]) + f\" The answer is <extra_id_0> {explanation_sep} <extra_id_1>\"\n",
    "        answer_string = f\"<extra_id_0> {answer} <extra_id_1> {abstr_expl} <extra_id_2>\"\n",
    "    elif io_format == \"squad\": \n",
    "        input_string = f\"explain {datasource} question: {question} context: \" + ', '.join(item['choices']) # explain cos_e question: When getting in shape you need to have this in between workouts? context: give up, period of recovery, jogging\n",
    "        answer_string = f\"{answer} {explanation_sep} {abstr_expl}\" # period of recovery because without a period of recovery you will not get any gains.\n",
    "    elif io_format == \"record\": \n",
    "        # might not work because cos_e doesn't have a passage \n",
    "        input_string = f\"explain {datasource} query: {question} entities: \" + ', '.join(item['choices']) # explain cos_e query: When getting in shape you need to have this in between workouts? entities: give up, period of recovery, jogging\n",
    "        answer_string = f\"{answer} {explanation_sep} {abstr_expl}\" # period of recovery because without a period of recovery you will not get any gains.\n",
    "    elif io_format == 'unifiedqa_matching':\n",
    "        choice_ids = ['(A)', '(B)', '(C)', '(D)', '(E)']\n",
    "        input_string = f'explain {question.lower()} \\\\n'\n",
    "        for choice_id, choice in zip(choice_ids, item[\"choices\"]):\n",
    "            input_string += f' {choice_id} {choice.lower()}'\n",
    "        answer_string = f\"{answer.lower()} {explanation_sep} {abstr_expl.lower()}\"\n",
    "        answer_string = answer_string.lower()\n",
    "    elif io_format == 't5_fewshot_infilling_without_choices_use_refined_expl':\n",
    "        input_string = f\"explain {datasource} question: {question} choice: \" + \" choice: \".join(item[\"choices\"]) + f\" <extra_id_0> {explanation_sep} <extra_id_1>\"\n",
    "        input_string = f\"explain {datasource} question: {question} answer: {answer}\" + f\" {explanation_sep} <extra_id_0>\"\n",
    "        answer_string = f\"<extra_id_0> {item['our_explanation']} <extra_id_1>\"\n",
    "\n",
    "    else:\n",
    "        raise ValueError(\"The IO format is not supported. Choose `standard` or `masked_cause_generate`.\")\n",
    "    \n",
    "    return input_string, answer_string\n",
    "\n",
    "\n",
    "def esnli_formatting(item, io_format, explanation_sep):\n",
    "\n",
    "    premise = item[\"premise\"]\n",
    "    hypothesis = item[\"hypothesis\"]\n",
    "    answer = unified_qa_esnli_label_mapping[item[\"label\"]] if 'unified' in io_format else wt5_esnli_label_mapping[item[\"label\"]]\n",
    "    abstr_expl = item[\"explanation_1\"].lower() \n",
    "    # Dev/test instances have more than one explanation annotated; merge them into one sequence separated by [SEP] \n",
    "    for k in [2,3]:\n",
    "        if f\"explanation_{k}\" in item and item[f'explanation_{k}']!='': \n",
    "            abstr_expl += f\" [SEP] {item[f'explanation_{k}'].lower()}\"\n",
    "\n",
    "    if io_format == 'standard':\n",
    "        input_string = f\"explain nli hypothesis: {hypothesis} premise: {premise}\"\n",
    "        answer_string = f\"{answer} {explanation_sep} {abstr_expl}\"\n",
    "    elif io_format == 't5_fewshot_infilling':\n",
    "        input_string = f\"explain nli hypothesis: {hypothesis} premise: {premise} <extra_id_0> {explanation_sep} <extra_id_1>\"\n",
    "        answer_string = f\"<extra_id_0> {answer} <extra_id_1> {abstr_expl} <extra_id_2>\"\n",
    "    elif io_format == 't5_fewshot_infilling_more_natural':\n",
    "        input_string = f\"explain nli hypothesis: {hypothesis} premise: {premise} This is <extra_id_0> {explanation_sep} <extra_id_1>\"\n",
    "        answer_string = f\"<extra_id_0> {answer} <extra_id_1> {abstr_expl} <extra_id_2>\"\n",
    "    elif io_format == \"squad\": \n",
    "        input_string = f\"explain nli question: Is this entailment? context: {hypothesis} {premise}\"  \n",
    "        answer_ynm = unified_qa_esnli_label_mapping[item[\"label\"]]\n",
    "        answer_string = f\"{answer_ynm} {explanation_sep} {abstr_expl}\" \n",
    "    elif io_format == \"squad_endswith_what\":\n",
    "        input_string = f\"explain nli question: What is this? context: {hypothesis} {premise}\"  \n",
    "        answer_string = f\"{answer} {explanation_sep} {abstr_expl}\"  \n",
    "    elif io_format == \"squad_nli_mix\": \n",
    "        input_string = f\"explain nli question: Is this entailment? context: hypothesis: {hypothesis} premise: {premise}\"  \n",
    "        answer_ynm = unified_qa_esnli_label_mapping[item[\"label\"]]\n",
    "        answer_string = f\"{answer_ynm} {explanation_sep} {abstr_expl}\"  \n",
    "    elif io_format == \"squad_nli_mix_endswith_what\":  \n",
    "        input_string = f\"explain nli question: What is this? context: hypothesis: {hypothesis} premise: {premise}\"  \n",
    "        answer_string = f\"{answer} {explanation_sep} {abstr_expl}\"   \n",
    "    elif io_format == 'unifiedqa_unifew':\n",
    "        hypothesis = hypothesis.lower().rstrip('.')\n",
    "        unified_qa_esnli_label_mapping_upper = {0: 'Yes', 1: 'Maybe', 2: 'No'}\n",
    "        answer = unified_qa_esnli_label_mapping_upper[item[\"label\"]]\n",
    "        input_string = f'explain {premise} Is {hypothesis}? \\\\n (A) Yes (B) Maybe (C) No'\n",
    "        answer_string = f\"{answer} {explanation_sep} {abstr_expl}\"  \n",
    "    elif io_format == 'unifiedqa_unifew_nli_mix':\n",
    "        premise = premise.lower().rstrip('.')\n",
    "        unified_qa_esnli_label_mapping_upper = {0: 'Yes', 1: 'Maybe', 2: 'No'}\n",
    "        input_string = f'explain hypothesis: {hypothesis} Is premise: {premise}? \\\\n (A) Yes (B) Maybe (C) No'\n",
    "        answer_string = f\"{answer} {explanation_sep} {abstr_expl}\"  \n",
    "    elif io_format == 'unifiedqa_ynm': \n",
    "        input_string = f'explain is this entailment? \\\\n {hypothesis.lower()} {premise.lower()}'  \n",
    "        answer = unified_qa_esnli_label_mapping[item[\"label\"]]\n",
    "        answer_string = f\"{answer} {explanation_sep} {abstr_expl.lower()}\"  \n",
    "    elif io_format == 'unifiedqa_snli_mix_ynm': \n",
    "        input_string = f'explain is this entailment? \\\\n hypothesis: {hypothesis.lower()} premise: {premise.lower()}' \n",
    "        answer = unified_qa_esnli_label_mapping[item[\"label\"]]\n",
    "        answer_string = f\"{answer} {explanation_sep} {abstr_expl.lower()}\"  \n",
    "    elif io_format == 'unifiedqa_snli_mix_ynm_with_choices': \n",
    "        input_string = f'explain is this entailment? \\\\n (A) yes (B) maybe (C) no \\\\n hypothesis: {hypothesis.lower()} premise: {premise.lower()}'  \n",
    "        answer = unified_qa_esnli_label_mapping[item[\"label\"]]\n",
    "        answer_string = f\"{answer} {explanation_sep} {abstr_expl.lower()}\"  \n",
    "    elif io_format == 'unifiedqa_what_v2': \n",
    "        input_string = f'explain what is this? \\\\n {hypothesis.lower()} {premise.lower()}'  \n",
    "        answer = wt5_esnli_label_mapping[item[\"label\"]]\n",
    "        answer_string = f\"{answer} {explanation_sep} {abstr_expl.lower()}\"  \n",
    "    elif io_format == 'unifiedqa_snli_mix_what_v2': \n",
    "        input_string = f'explain what is this? \\\\n hypothesis: {hypothesis.lower()} premise: {premise.lower()}'  \n",
    "        answer = wt5_esnli_label_mapping[item[\"label\"]]\n",
    "        answer_string = f\"{answer} {explanation_sep} {abstr_expl.lower()}\"  \n",
    "    elif io_format == 'unifiedqa_snli_mix_what_with_choices_v2': \n",
    "        input_string = f'explain what is this? \\\\n (A) entailment (B) neutral (C) contradiction \\\\n hypothesis: {hypothesis.lower()} premise: {premise.lower()}'  \n",
    "        answer = wt5_esnli_label_mapping[item[\"label\"]]\n",
    "        answer_string = f\"{answer} {explanation_sep} {abstr_expl.lower()}\"     \n",
    "    else:\n",
    "        raise ValueError(\"The IO format is not supported.\")\n",
    "\n",
    "    return input_string, answer_string\n",
    "\n",
    "\n",
    "def sbic_formatting(item, io_format, explanation_sep):\n",
    "    # We pre-processed the SBIC dataset such that we join multiple implied statements with the [SEP] token for dev/test instances \n",
    "    # Each annotation in the training split is a separate instance\n",
    "    post = item['post']\n",
    "    answer = unified_qa_sbic_label_mapping[item[\"offensiveYN\"]] if 'unified' in io_format else item[\"offensiveYN\"].replace(\"not offensive\", \"not_offensive\")\n",
    "    abstr_expl = item[\"targetStereotype\"]\n",
    "    \n",
    "\n",
    "    if io_format == 'cola':\n",
    "        input_string = f\"explain sbic sentence: {post}\"\n",
    "        answer_string = f\"{answer} {explanation_sep} {abstr_expl}\"  \n",
    "    elif io_format == 't5_fewshot_infilling':\n",
    "        input_string = f\"explain sbic sentence: {post} <extra_id_0> {explanation_sep} <extra_id_1>\"\n",
    "        answer_string = f\"<extra_id_0> {answer} <extra_id_1> {abstr_expl} <extra_id_2>\"\n",
    "    elif io_format == 't5_fewshot_infilling_bool':\n",
    "        answer_bool = 'True' if item[\"offensiveYN\"] == 'offensive' else 'False'\n",
    "        input_string = f\"explain sbic sentence: {post} It is <extra_id_0> that this is offensive {explanation_sep} <extra_id_1>\"\n",
    "        answer_string = f\"<extra_id_0> {answer} <extra_id_1> {abstr_expl} <extra_id_2>\"\n",
    "    elif io_format == 't5_fewshot_infilling_more_natural':\n",
    "        input_string = f\"explain sbic sentence: {post} This is <extra_id_0> {explanation_sep} <extra_id_1>\"\n",
    "        answer_string = f\"<extra_id_0> {answer} <extra_id_1> {abstr_expl} <extra_id_2>\"\n",
    "    elif io_format == 'squad_yn': \n",
    "        input_string = f\"explain sbic question: Is this offensive? context: {post}\" # explain sbic question: Is this offensive? context: It's only happened to you like two times.\n",
    "        answer_yn = unified_qa_sbic_label_mapping[item[\"offensiveYN\"]] \n",
    "        answer_string = f\"{answer_yn} {explanation_sep} {abstr_expl}\" #  No because this post does not imply anything offensive\n",
    "    elif io_format == 'squad_yn_with_tags': \n",
    "        input_string = f\"explain sbic question: Is this offensive? context: post: {post}\" # explain sbic question: Is this offensive? context: It's only happened to you like two times.\n",
    "        answer_yn = unified_qa_sbic_label_mapping[item[\"offensiveYN\"]] \n",
    "        answer_string = f\"{answer_yn} {explanation_sep} {abstr_expl}\" #  No because this post does not imply anything offensive\n",
    "    elif io_format == 'squad_what': \n",
    "        input_string = f\"explain sbic question: What is this? context: {post}\" # explain sbic question: This is what? context: It's only happened to you like two times.\n",
    "        answer = item[\"offensiveYN\"].replace(\"not offensive\", \"not_offensive\")        \n",
    "        answer_string = f\"{answer} {explanation_sep} {abstr_expl}\" # not_offensive because this post does not imply anything offensive    \n",
    "    elif io_format == 'squad_what_with_tags': \n",
    "        input_string = f\"explain sbic question: What is this? context: post: {post}\" # explain sbic question: This is what? context: It's only happened to you like two times.\n",
    "        answer = item[\"offensiveYN\"].replace(\"not offensive\", \"not_offensive\")        \n",
    "        answer_string = f\"{answer} {explanation_sep} {abstr_expl}\" # not_offensive because this post does not imply anything offensive    \n",
    "    elif io_format == 'unified_qa_yn':\n",
    "        input_string = f'explain is this offensive? \\\\n {post.lower()}'\n",
    "        answer_string = f\"{answer} {explanation_sep} {abstr_expl.lower()}\" \n",
    "    elif io_format == 'unified_qa_yn_with_tags':\n",
    "        input_string = f'explain is this offensive? \\\\n post: {post.lower()}'\n",
    "        answer_string = f\"{answer} {explanation_sep} {abstr_expl.lower()}\"  \n",
    "    elif io_format == 'unified_qa_yn_with_choices':\n",
    "        input_string = f'explain is this offensive? \\\\n (A) yes (B) no \\\\n {post.lower()}'\n",
    "        answer_string = f\"{answer} {explanation_sep} {abstr_expl.lower()}\"\n",
    "    elif io_format == 'unified_qa_yn_with_choices_and_tags':\n",
    "        input_string = f'explain is this offensive? \\\\n (A) yes (B) no \\\\n post: {post.lower()}'\n",
    "        answer_string = f\"{answer} {explanation_sep} {abstr_expl.lower()}\"  \n",
    "    elif io_format == 'unified_qa_what':\n",
    "        input_string = f'explain what is this? \\\\n {post.lower()}'\n",
    "        answer = item[\"offensiveYN\"].replace(\"not offensive\", \"not_offensive\")\n",
    "        answer_string = f\"{answer} {explanation_sep} {abstr_expl.lower()}\"  \n",
    "    elif io_format == 'unified_qa_what_with_tags':\n",
    "        input_string = f'explain what is this? \\\\n post: {post.lower()}'\n",
    "        answer = item[\"offensiveYN\"].replace(\"not offensive\", \"not_offensive\")\n",
    "        answer_string = f\"{answer} {explanation_sep} {abstr_expl.lower()}\"  \n",
    "    elif io_format == 'unified_qa_what_with_choices':\n",
    "        input_string = f'explain what is this? \\\\n (A) offensive (B) not_offensive \\\\n {post.lower()}'\n",
    "        answer = item[\"offensiveYN\"].replace(\"not offensive\", \"not_offensive\")\n",
    "        answer_string = f\"{answer} {explanation_sep} {abstr_expl.lower()}\"\n",
    "    elif io_format == 'unified_qa_what_with_choices_and_tags':\n",
    "        input_string = f'explain what is this? \\\\n (A) offensive (B) not_offensive \\\\n post: {post.lower()}'\n",
    "        answer = item[\"offensiveYN\"].replace(\"not offensive\", \"not_offensive\")\n",
    "        answer_string = f\"{answer} {explanation_sep} {abstr_expl.lower()}\"  \n",
    "    elif io_format == 'unifiedqa_unifew':\n",
    "        input_string = f\"Topic? \\\\n (A) offensive (B) not_offensive \\\\n {post}\"\n",
    "        answer = item[\"offensiveYN\"].replace(\"not offensive\", \"not_offensive\")\n",
    "        answer_string = f\"{answer} {explanation_sep} {abstr_expl}\"\n",
    "    else:\n",
    "        raise ValueError(\"The IO format is not supported. Choose `standard` or `masked_cause_generate`.\")\n",
    "\n",
    "    input_string = ' '.join(input_string.split())\n",
    "    answer_string = ' '.join(answer_string.split())\n",
    "    return input_string, answer_string\n",
    "\n",
    "def sensemaking_formatting(item, io_format, explanation_sep):\n",
    "    # TODO: explore whether removing periods makes difference? \n",
    "    sent0 = item['sent0']\n",
    "    sent1 = item['sent1']\n",
    "    nonsensical_sentence = str(int(item['label'])+1)\n",
    "    explanation = item['explanation'].lower()\n",
    "\n",
    "    if io_format == 'copa_with_question':\n",
    "        input_string = f\"explain sensemaking choice1: {sent0} choice2: {sent1} question: nonsensical\"\n",
    "        answer_string = f\"choice{nonsensical_sentence} {explanation_sep} {explanation}\"\n",
    "    elif io_format == 'copa_bool':  \n",
    "        answer_bool = str(bool(int(item['label']))) # True if choice2 is more nonsensical    \n",
    "        input_string = f\"explain sensemaking choice1: {sent0} choice2: {sent1} Less common is choice2\"\n",
    "        answer_string = f\"{answer_bool} {explanation_sep} {explanation}\"\n",
    "    elif io_format == 't5_fewshot_infilling':  \n",
    "        input_string = f\"explain sensemaking choice1: {sent0} choice2: {sent1} <extra_id_0> {explanation_sep} <extra_id_1>\"\n",
    "        answer_string = f\"<extra_id_0> choice{nonsensical_sentence} <extra_id_1> {explanation} <extra_id_2>\"\n",
    "    elif io_format == 't5_fewshot_infilling_bool':  \n",
    "        answer_bool = str(bool(int(item['label']))) # True if choice2 is more nonsensical    \n",
    "        input_string = f\"explain sensemaking choice1: {sent0} choice2: {sent1} It is <extra_id_0> that choice2 is less common {explanation_sep} <extra_id_1>\"\n",
    "        answer_string = f\"<extra_id_0> {answer_bool} <extra_id_1> {explanation} <extra_id_2>\"\n",
    "    elif io_format == \"squad_yn\": \n",
    "        input_string = f\"explain sensemaking question: Is choice2 more nonsensical? context: choice1: {sent0} choice2: {sent1}\" # explain sensemaking question: What is nonsensical, choice1 or choice2? context: choice1: All state flowers are the scarlet carnation. choice2: The New Jersey state flower is the scarlet carnation\n",
    "        answer = \"Yes\" if bool(int(item['label'])) else \"No\"\n",
    "        answer_string = f\"{answer} {explanation_sep} {explanation}\" #  choice1 because state flowers are unique to each state.  \n",
    "    elif io_format == \"squad_yn_no_tags\": \n",
    "        input_string = f\"explain sensemaking question: Is choice2 more nonsensical? context: {sent0} {sent1}\" # explain sensemaking question: What is nonsensical, choice1 or choice2? context: choice1: All state flowers are the scarlet carnation. choice2: The New Jersey state flower is the scarlet carnation\n",
    "        answer = \"Yes\" if bool(int(item['label'])) else \"No\"\n",
    "        answer_string = f\"{answer} {explanation_sep} {explanation}\" #  choice1 because state flowers are unique to each state.  \n",
    "    elif io_format == \"squad_what\": \n",
    "        input_string = f\"explain sensemaking question: What is more nonsensical? context: choice1: {sent0} choice2: {sent1}\" # explain sensemaking question: What is nonsensical, choice1 or choice2? context: choice1: All state flowers are the scarlet carnation. choice2: The New Jersey state flower is the scarlet carnation\n",
    "        answer_string = f\"choice{nonsensical_sentence} {explanation_sep} {explanation}\" #  choice1 because state flowers are unique to each state.  \n",
    "    elif io_format == \"squad_what_no_tags\": \n",
    "        input_string = f\"explain sensemaking question: What is more nonsensical? context: {sent0} {sent1}\" # explain sensemaking question: What is nonsensical, choice1 or choice2? context: choice1: All state flowers are the scarlet carnation. choice2: The New Jersey state flower is the scarlet carnation\n",
    "        answer_string = f\"choice{nonsensical_sentence} {explanation_sep} {explanation}\" #  choice1 because state flowers are unique to each state.  \n",
    "    elif io_format == \"record\": \n",
    "        input_string = f\"explain sensemaking query: What is more nonsensical? entities: choice1, choice2 passage: choice1: {sent0} choice2: {sent1}\" # explain sensemaking query: What is nonsensical? entities: choice1, choice2 passage: choice1: All state flowers are the scarlet carnation. choice2: The New Jersey state flower is the scarlet carnation.\n",
    "        answer_string = f\"choice{nonsensical_sentence} {explanation_sep} {explanation}\" # choice1 because state flowers are unique to each state.\n",
    "    elif io_format == 'unifiedqa_yn_with_choices':\n",
    "        answer = \"yes\" if bool(int(item['label'])) else \"no\"\n",
    "        input_string = f'explain is choice2 more nonsensical? \\\\n (A) yes (B) no \\\\n choice1: {sent0.lower()} choice2: {sent1.lower()}'\n",
    "        answer_string = f\"{answer} {explanation_sep} {explanation.lower()}\" \n",
    "    elif io_format == 'unifiedqa_yn':\n",
    "        answer = \"yes\" if bool(int(item['label'])) else \"no\"\n",
    "        input_string = f'explain is choice2 more nonsensical? \\\\n choice1: {sent0.lower()} choice2: {sent1.lower()}'\n",
    "        answer_string = f\"{answer} {explanation_sep} {explanation.lower()}\"  \n",
    "    elif io_format == 'unifiedqa_yn_no_tags':\n",
    "        answer = \"yes\" if bool(int(item['label'])) else \"no\"\n",
    "        input_string = f'explain is choice2 more nonsensical? \\\\n {sent0.lower()} {sent1.lower()}'\n",
    "        answer_string = f\"{answer} {explanation_sep} {explanation.lower()}\"  \n",
    "    elif io_format == 'unifiedqa_what_with_choices':\n",
    "        nonsensical_sentence = str(int(item['label'])+1)\n",
    "        input_string = f'explain what is more nonsensical? \\\\n (A) choice1 (B) choice2 \\\\n choice1: {sent0.lower()} choice2: {sent1.lower()}'\n",
    "        answer_string = f\"choice{nonsensical_sentence} {explanation_sep} {explanation.lower()}\"  # use \" BECAUSE \"\n",
    "    elif io_format == 'unifiedqa_what':\n",
    "        nonsensical_sentence = str(int(item['label'])+1)\n",
    "        input_string = f'explain what is more nonsensical? \\\\n choice1: {sent0.lower()} choice2: {sent1.lower()}'\n",
    "        answer_string = f\"choice{nonsensical_sentence} {explanation_sep} {explanation.lower()}\"  # use \" BECAUSE \"\n",
    "    elif io_format == 'unifiedqa_what_no_tags':\n",
    "        nonsensical_sentence = str(int(item['label'])+1)\n",
    "        input_string = f'explain what is more nonsensical? \\\\n {sent0.lower()} {sent1.lower()}'\n",
    "        answer_string = f\"choice{nonsensical_sentence} {explanation_sep} {explanation.lower()}\"  # use \" BECAUSE \"\n",
    "\n",
    "\n",
    "    input_string = ' '.join(input_string.split())\n",
    "    answer_string = ' '.join(answer_string.split())\n",
    "    return input_string, answer_string"
   ]
  },
  {
   "cell_type": "code",
   "execution_count": 4,
   "id": "dde6c7e1",
   "metadata": {},
   "outputs": [
    {
     "name": "stderr",
     "output_type": "stream",
     "text": [
      "PyTorch: setting up devices\n",
      "The default value for the training argument `--report_to` will change in v5 (from all installed integrations to none). In v5, you will need to use `--report_to all` to get the same behavior as now. You should start updating your code and make this info disappear :-).\n",
      "01/12/2023 20:55:36 - WARNING - __main__ -   Process rank: -1, device: cuda:0, n_gpu: 1, distributed training: False, 16-bits training: False\n",
      "01/12/2023 20:55:36 - INFO - __main__ -   Save path: ./cos_e_output_t5_large/011223_205536\n",
      "01/12/2023 20:55:36 - INFO - __main__ -   Git branch: dev\n",
      "01/12/2023 20:55:36 - INFO - __main__ -   Git hash: 1cbb5c3b4e53baf31cbafc20d9655c63f091f901\n"
     ]
    }
   ],
   "source": [
    "og_start_time = time.time()\n",
    "\n",
    "#parser = HfArgumentParser(\n",
    "#    (ModelArguments, DataTrainingArguments, TrainingArguments)\n",
    "#)\n",
    "parser = HfArgumentParser(\n",
    "    (ModelArguments, DataTrainingArguments, TrainingArguments)\n",
    ")\n",
    "\n",
    "model_args, data_args, training_args, unused_args = parser.parse_args_into_dataclasses(\n",
    "    [\"--model_type\", \"t5-3b\",\n",
    "     \"--tokenizer_name\", \"t5-3b\",\n",
    "     \"--task_name\", \"cos_e\", \n",
    "     \"--output_dir\", \"./cos_e_output_t5_large\", \n",
    "     \"--n_shots\", \"10\",\n",
    "     \"--do_train\", \"True\"], return_remaining_strings=True)\n",
    "if unused_args != []:\n",
    "    raise ValueError(f\"Received unused arguments: {unused_args}\")\n",
    "# make sure only one dataset split pick if manually specifying evaluation file\n",
    "\n",
    "if model_args.use_gpt3:\n",
    "    assert training_args.do_train\n",
    "    assert not training_args.do_eval\n",
    "    assert data_args.generations_filepath is None\n",
    "    if data_args.gpt3_max_eval_size is not None:\n",
    "        assert data_args.gpt3_max_eval_size <= data_args.fewshot_eval_size\n",
    "        assert data_args.gpt3_max_eval_size % 2 == 0\n",
    "        assert data_args.gpt3_max_eval_size % 3 == 0\n",
    "\n",
    "if data_args.generations_filepath is not None:\n",
    "    training_args.do_train = False\n",
    "    training_args.do_eval = False\n",
    "    if \"train\" in data_args.generations_filepath:\n",
    "        data_args.train_predict = True\n",
    "        data_args.test_predict = False\n",
    "        data_args.dev_predict = False\n",
    "    elif \"test\" in data_args.generations_filepath:\n",
    "        data_args.train_predict = False\n",
    "        data_args.test_predict = True\n",
    "        data_args.dev_predict = False\n",
    "    elif \"validation\" in data_args.generations_filepath:\n",
    "        data_args.train_predict = False\n",
    "        data_args.test_predict = False\n",
    "        data_args.dev_predict = True\n",
    "\n",
    "if not training_args.do_train and data_args.generations_filepath is None:\n",
    "    if not model_args.pretrained_model_file:\n",
    "        raise Exception(\n",
    "            \"if not training a model from scratch, must specify a trained model to load for evaluation\"\n",
    "        )\n",
    "\n",
    "if training_args.do_train:\n",
    "    # create a save directory and a logfile\n",
    "    training_args.output_dir = os.path.join(\n",
    "        training_args.output_dir, datetime.now().strftime(\"%m%d%y_%H%M%S\")\n",
    "    )\n",
    "    training_args.logging_dir = training_args.output_dir\n",
    "    assert not os.path.exists(training_args.output_dir)\n",
    "    os.makedirs(training_args.output_dir)\n",
    "\n",
    "    if (\n",
    "            os.path.exists(training_args.output_dir)\n",
    "            and os.listdir(training_args.output_dir)\n",
    "            and training_args.do_train\n",
    "            and not training_args.overwrite_output_dir\n",
    "    ):\n",
    "        raise ValueError(\n",
    "            f\"Output directory ({training_args.output_dir}) already exists and is not empty. Use --overwrite_output_dir to overcome.\"\n",
    "        )\n",
    "    handlers = [\n",
    "        logging.FileHandler(os.path.join(training_args.output_dir, \"logger.log\")),\n",
    "        logging.StreamHandler(),\n",
    "    ]\n",
    "else:\n",
    "    # don't overwrite existing logfile or create new directory\n",
    "    training_args.output_dir = model_args.pretrained_model_file\n",
    "    handlers = [logging.StreamHandler()]\n",
    "\n",
    "# Setup logging\n",
    "logging.basicConfig(\n",
    "    format=\"%(asctime)s - %(levelname)s - %(name)s -   %(message)s\",\n",
    "    datefmt=\"%m/%d/%Y %H:%M:%S\",\n",
    "    level=logging.INFO if training_args.local_rank in [-1, 0] else logging.WARN,\n",
    "    handlers=handlers,\n",
    ")\n",
    "logger.warning(\n",
    "    \"Process rank: %s, device: %s, n_gpu: %s, distributed training: %s, 16-bits training: %s\",\n",
    "    training_args.local_rank,\n",
    "    training_args.device,\n",
    "    training_args.n_gpu,\n",
    "    bool(training_args.local_rank != -1),\n",
    "    training_args.fp16,\n",
    ")\n",
    "logger.info(\"Save path: %s\" % training_args.output_dir)\n",
    "\n",
    "# get git hash and branch where deployed\n",
    "repo = git.Repo(search_parent_directories=True)\n",
    "git_hash = repo.head.object.hexsha\n",
    "git_branch = repo.active_branch.name\n",
    "logger.info(\"Git branch: %s\" % git_branch)\n",
    "logger.info(\"Git hash: %s\" % git_hash)\n",
    "\n",
    "model_class = \"t5\"\n",
    "assert data_args.task_name in {\"cos_e\", \"esnli\", \"sbic\", \"sensemaking\", \"ecqa\"}\n",
    "\n",
    "if training_args.do_train:\n",
    "    # write command and args to file\n",
    "    with open(\n",
    "            os.path.join(training_args.output_dir, \"commandline_args.txt\"), \"w\"\n",
    "    ) as f:\n",
    "        f.write(\"Git branch: \" + git_branch + \"\\n\")\n",
    "        f.write(\"Git hash: \" + git_hash + \"\\n\")\n",
    "        f.write(\"Command:\\n\")\n",
    "        f.write(\"\\n\".join(sys.argv[1:]))\n",
    "\n",
    "# Set seed\n",
    "set_seed(training_args.seed)\n",
    "set_other_seeds(training_args.seed)\n",
    "\n",
    "# Load pretrained model and tokenizer\n",
    "#\n",
    "# Distributed training:\n",
    "# The .from_pretrained methods guarantee that only one local process can concurrently\n",
    "# download model & vocab."
   ]
  },
  {
   "cell_type": "code",
   "execution_count": 5,
   "id": "684646b4",
   "metadata": {},
   "outputs": [
    {
     "data": {
      "text/plain": [
       "device(type='cuda', index=0)"
      ]
     },
     "execution_count": 5,
     "metadata": {},
     "output_type": "execute_result"
    }
   ],
   "source": [
    "training_args.set_device = \"cuda:0\"\n",
    "training_args.device"
   ]
  },
  {
   "cell_type": "code",
   "execution_count": 7,
   "id": "18a3172a",
   "metadata": {},
   "outputs": [
    {
     "name": "stderr",
     "output_type": "stream",
     "text": [
      "01/12/2023 20:58:16 - INFO - __main__ -   Loading pretrained tokenizer...\n",
      "loading file https://huggingface.co/t5-large/resolve/main/spiece.model from cache at /home/huangyongfeng/.cache/huggingface/transformers/71ee551f54e246045a7b94dd449c33759924b864712e6d235bbba5245c9f6296.3b69006860e7b5d0a63ffdddc01ddcd6b7c318a6f4fd793596552c741734c62d\n",
      "loading file https://huggingface.co/t5-large/resolve/main/added_tokens.json from cache at None\n",
      "loading file https://huggingface.co/t5-large/resolve/main/special_tokens_map.json from cache at None\n",
      "loading file https://huggingface.co/t5-large/resolve/main/tokenizer_config.json from cache at None\n",
      "loading file https://huggingface.co/t5-large/resolve/main/tokenizer.json from cache at /home/huangyongfeng/.cache/huggingface/transformers/276094e085ecb12227136f2e755dc1f68be6f5da32df55ebfb104c791fbbc3c1.8627f1bd5d270a9fd2e5a51c8bec3223896587cc3cfe13edeabb0992ab43c529\n",
      "loading configuration file https://huggingface.co/t5-large/resolve/main/config.json from cache at /home/huangyongfeng/.cache/huggingface/transformers/1adb1f57c3579debfcce7b94ee03f6144e0ff7a0c2825e48b3f9cde9ce290c7d.75cc627adbf83d06473fdad6b036e8594b465394bf31d84bc54a373c9c5a5563\n",
      "Model config T5Config {\n",
      "  \"architectures\": [\n",
      "    \"T5ForConditionalGeneration\"\n",
      "  ],\n",
      "  \"d_ff\": 4096,\n",
      "  \"d_kv\": 64,\n",
      "  \"d_model\": 1024,\n",
      "  \"decoder_start_token_id\": 0,\n",
      "  \"dropout_rate\": 0.1,\n",
      "  \"eos_token_id\": 1,\n",
      "  \"feed_forward_proj\": \"relu\",\n",
      "  \"gradient_checkpointing\": false,\n",
      "  \"initializer_factor\": 1.0,\n",
      "  \"is_encoder_decoder\": true,\n",
      "  \"layer_norm_epsilon\": 1e-06,\n",
      "  \"model_type\": \"t5\",\n",
      "  \"n_positions\": 512,\n",
      "  \"num_decoder_layers\": 24,\n",
      "  \"num_heads\": 16,\n",
      "  \"num_layers\": 24,\n",
      "  \"output_past\": true,\n",
      "  \"pad_token_id\": 0,\n",
      "  \"relative_attention_num_buckets\": 32,\n",
      "  \"task_specific_params\": {\n",
      "    \"summarization\": {\n",
      "      \"early_stopping\": true,\n",
      "      \"length_penalty\": 2.0,\n",
      "      \"max_length\": 200,\n",
      "      \"min_length\": 30,\n",
      "      \"no_repeat_ngram_size\": 3,\n",
      "      \"num_beams\": 4,\n",
      "      \"prefix\": \"summarize: \"\n",
      "    },\n",
      "    \"translation_en_to_de\": {\n",
      "      \"early_stopping\": true,\n",
      "      \"max_length\": 300,\n",
      "      \"num_beams\": 4,\n",
      "      \"prefix\": \"translate English to German: \"\n",
      "    },\n",
      "    \"translation_en_to_fr\": {\n",
      "      \"early_stopping\": true,\n",
      "      \"max_length\": 300,\n",
      "      \"num_beams\": 4,\n",
      "      \"prefix\": \"translate English to French: \"\n",
      "    },\n",
      "    \"translation_en_to_ro\": {\n",
      "      \"early_stopping\": true,\n",
      "      \"max_length\": 300,\n",
      "      \"num_beams\": 4,\n",
      "      \"prefix\": \"translate English to Romanian: \"\n",
      "    }\n",
      "  },\n",
      "  \"transformers_version\": \"4.9.2\",\n",
      "  \"use_cache\": true,\n",
      "  \"vocab_size\": 32128\n",
      "}\n",
      "\n",
      "loading configuration file https://huggingface.co/t5-large/resolve/main/config.json from cache at /home/huangyongfeng/.cache/huggingface/transformers/1adb1f57c3579debfcce7b94ee03f6144e0ff7a0c2825e48b3f9cde9ce290c7d.75cc627adbf83d06473fdad6b036e8594b465394bf31d84bc54a373c9c5a5563\n",
      "Model config T5Config {\n",
      "  \"architectures\": [\n",
      "    \"T5ForConditionalGeneration\"\n",
      "  ],\n",
      "  \"d_ff\": 4096,\n",
      "  \"d_kv\": 64,\n",
      "  \"d_model\": 1024,\n",
      "  \"decoder_start_token_id\": 0,\n",
      "  \"dropout_rate\": 0.1,\n",
      "  \"eos_token_id\": 1,\n",
      "  \"feed_forward_proj\": \"relu\",\n",
      "  \"gradient_checkpointing\": false,\n",
      "  \"initializer_factor\": 1.0,\n",
      "  \"is_encoder_decoder\": true,\n",
      "  \"layer_norm_epsilon\": 1e-06,\n",
      "  \"model_type\": \"t5\",\n",
      "  \"n_positions\": 512,\n",
      "  \"num_decoder_layers\": 24,\n",
      "  \"num_heads\": 16,\n",
      "  \"num_layers\": 24,\n",
      "  \"output_past\": true,\n",
      "  \"pad_token_id\": 0,\n",
      "  \"relative_attention_num_buckets\": 32,\n",
      "  \"task_specific_params\": {\n",
      "    \"summarization\": {\n",
      "      \"early_stopping\": true,\n",
      "      \"length_penalty\": 2.0,\n",
      "      \"max_length\": 200,\n",
      "      \"min_length\": 30,\n",
      "      \"no_repeat_ngram_size\": 3,\n",
      "      \"num_beams\": 4,\n",
      "      \"prefix\": \"summarize: \"\n",
      "    },\n",
      "    \"translation_en_to_de\": {\n",
      "      \"early_stopping\": true,\n",
      "      \"max_length\": 300,\n",
      "      \"num_beams\": 4,\n",
      "      \"prefix\": \"translate English to German: \"\n",
      "    },\n",
      "    \"translation_en_to_fr\": {\n",
      "      \"early_stopping\": true,\n",
      "      \"max_length\": 300,\n",
      "      \"num_beams\": 4,\n",
      "      \"prefix\": \"translate English to French: \"\n",
      "    },\n",
      "    \"translation_en_to_ro\": {\n",
      "      \"early_stopping\": true,\n",
      "      \"max_length\": 300,\n",
      "      \"num_beams\": 4,\n",
      "      \"prefix\": \"translate English to Romanian: \"\n",
      "    }\n",
      "  },\n",
      "  \"transformers_version\": \"4.9.2\",\n",
      "  \"use_cache\": true,\n",
      "  \"vocab_size\": 32128\n",
      "}\n",
      "\n",
      "loading weights file https://huggingface.co/t5-large/resolve/main/pytorch_model.bin from cache at /home/huangyongfeng/.cache/huggingface/transformers/750feca8cedcd171eb121bd47c3ae16924a473d89f334c7d22f83bfa3a6c80f6.62fbd66ec15bdf6e5322f44f1546f0d475cf07a90caca0912ead31408a83a319\n",
      "All model checkpoint weights were used when initializing T5ForConditionalGeneration.\n",
      "\n",
      "All the weights of T5ForConditionalGeneration were initialized from the model checkpoint at t5-large.\n",
      "If your task is similar to the task the model of the checkpoint was trained on, you can already use T5ForConditionalGeneration for predictions without further training.\n"
     ]
    }
   ],
   "source": [
    "import logging\n",
    "logger = logging.getLogger(__name__)\n",
    "CONFIG_MAPPING = {\"t5\": T5Config}\n",
    "MODEL_MAPPING = {\"t5\": T5ForConditionalGeneration}\n",
    "TOKENIZER_MAPPING = {\"t5\": T5Tokenizer}\n",
    "model_class = \"t5\"\n",
    "tokenizer_name = TOKENIZER_MAPPING[model_class]\n",
    "logger.info(\"Loading pretrained tokenizer...\")\n",
    "model_args.tokenizer_name='t5-large'\n",
    "tokenizer = tokenizer_name.from_pretrained(model_args.tokenizer_name)#, cache_dir=model_args.cache_dir)\n",
    "\n",
    "model = T5ForConditionalGeneration.from_pretrained(\"t5-large\")"
   ]
  },
  {
   "cell_type": "code",
   "execution_count": 8,
   "id": "62eef1a8",
   "metadata": {},
   "outputs": [
    {
     "data": {
      "text/plain": [
       "DataTrainingArguments(task_name='cos_e', early_stopping_patience=10, overwrite_cache=False, train_predict=False, test_predict=False, dev_predict=False, version_name='v1.11', generations_filepath=None, n_shots=10, fewshot_eval_size=350, io_format='t5_fewshot_infilling_without_choices_use_refined_expl', explanation_sep='explanation', data_path=None, gpt3_max_eval_size=None)"
      ]
     },
     "execution_count": 8,
     "metadata": {},
     "output_type": "execute_result"
    }
   ],
   "source": [
    "data_splits = {'train': None, 'validation': None, 'test': None}\n",
    "original_data_splits = {'train': None, 'validation': None, 'test': None}  \n",
    "data_args.io_format=\"t5_fewshot_infilling_without_choices_use_refined_expl\"\n",
    "data_args"
   ]
  },
  {
   "cell_type": "code",
   "execution_count": 9,
   "id": "efc49c0c",
   "metadata": {},
   "outputs": [
    {
     "data": {
      "application/json": {
       "ascii": false,
       "bar_format": null,
       "colour": null,
       "elapsed": 0.014320611953735352,
       "initial": 0,
       "n": 0,
       "ncols": null,
       "nrows": 60,
       "postfix": null,
       "prefix": "",
       "rate": null,
       "total": 2,
       "unit": "it",
       "unit_divisor": 1000,
       "unit_scale": false
      },
      "application/vnd.jupyter.widget-view+json": {
       "model_id": "96f0e6a0f8b24e73bad8e18741f89534",
       "version_major": 2,
       "version_minor": 0
      },
      "text/plain": [
       "  0%|          | 0/2 [00:00<?, ?it/s]"
      ]
     },
     "metadata": {},
     "output_type": "display_data"
    },
    {
     "data": {
      "text/plain": [
       "dict_keys(['choices', 'id', 'extractive_explanation', 'abstractive_explanation', 'question', 'answer'])"
      ]
     },
     "execution_count": 9,
     "metadata": {},
     "output_type": "execute_result"
    }
   ],
   "source": [
    "dataset = datasets.load_dataset(data_args.task_name, data_args.version_name)\n",
    "train_ids_list=[x['id'] for x in dataset[\"train\"]]\n",
    "dataset['train'][0].keys()"
   ]
  },
  {
   "cell_type": "code",
   "execution_count": 10,
   "id": "294780bc",
   "metadata": {},
   "outputs": [
    {
     "data": {
      "application/json": {
       "ascii": false,
       "bar_format": null,
       "colour": null,
       "elapsed": 0.013934135437011719,
       "initial": 0,
       "n": 0,
       "ncols": null,
       "nrows": 60,
       "postfix": null,
       "prefix": "",
       "rate": null,
       "total": 1,
       "unit": "it",
       "unit_divisor": 1000,
       "unit_scale": false
      },
      "application/vnd.jupyter.widget-view+json": {
       "model_id": "b2c64fcff4aa4224928a1c938b0da2bf",
       "version_major": 2,
       "version_minor": 0
      },
      "text/plain": [
       "  0%|          | 0/1 [00:00<?, ?it/s]"
      ]
     },
     "metadata": {},
     "output_type": "display_data"
    },
    {
     "name": "stdout",
     "output_type": "stream",
     "text": [
      "[6723, 3269, 12, 6020, 7815, 0, 13, 7, 3556, 4587, 3166, 2607, 1999, 332, 8571, 2, 3520, 6, 1425, 2361, 3764, 7728, 8352, 1273, 5191, 496, 11, 8143, 6929, 4552, 4652, 7764, 6736, 401, 147, 8339, 3128, 5556, 8769, 4417, 8778, 7145, 1279, 6297, 7149, 5884, 10, 5747, 6273, 8, 9504, 8057, 1307, 2183, 1699, 88, 3228, 7178, 2140, 4048, 1041, 1, 3, 5868, 111, 7889, 5370, 8886, 2137, 6980, 9117, 1891, 7827, 1484, 14, 3668, 7090, 5, 7817, 6213, 4656, 5074, 7514, 5896, 4, 9, 7991, 58, 1887, 1598, 3994, 2212, 2274, 6830, 8826, 1604, 9008, 2013, 6521, 4793, 4338, 3923, 8091, 4904, 3938, 3900, 8156, 5806, 8363, 1787, 1496, 5753, 6351, 1104, 1222]\n"
     ]
    },
    {
     "data": {
      "text/plain": [
       "115"
      ]
     },
     "execution_count": 10,
     "metadata": {},
     "output_type": "execute_result"
    }
   ],
   "source": [
    "#rationale generation labeled data construction 115\n",
    "import pandas as pd\n",
    "scr_csqa_labeled_path=\"/cognitive_comp/huangyongfeng/evaluate_LM_with_rationalization/few_shot_explanations/data/handwritten_cose_v1.11_examples.csv\"\n",
    "scr_csqa_label_df=pd.read_csv(scr_csqa_labeled_path)\n",
    "scr_csqa_label_data=datasets.load_dataset('csv', data_files=scr_csqa_labeled_path)\n",
    "scr_csqa_label_ids_list=[x['id'] for x in scr_csqa_label_data['train']]\n",
    "scr_csqa_indexs_list=[train_ids_list.index(id_) for id_ in scr_csqa_label_ids_list]\n",
    "scr_csqa_label_our_explanations_list=[x['our_explanation'] for x in scr_csqa_label_data['train']]\n",
    "print(scr_csqa_indexs_list)\n",
    "data_splits={}\n",
    "data_splits['train']=dataset['train'].select(scr_csqa_indexs_list)\n",
    "\n",
    "refine_train_data=[]\n",
    "for kk, (ex,da) in enumerate(zip(scr_csqa_label_our_explanations_list, data_splits['train'])):\n",
    "#     print(da)\n",
    "    data_splits['train'][kk]['our_explanation']=ex\n",
    "    #print(type(data_splits['train'][kk]),data_splits['train'][kk].keys())\n",
    "    da['our_explanation']=ex\n",
    "    refine_train_data.append(da)\n",
    "\n",
    "len(data_splits['train'])"
   ]
  },
  {
   "cell_type": "code",
   "execution_count": 11,
   "id": "1d97f507",
   "metadata": {},
   "outputs": [
    {
     "data": {
      "application/json": {
       "ascii": false,
       "bar_format": null,
       "colour": null,
       "elapsed": 0.0128021240234375,
       "initial": 0,
       "n": 0,
       "ncols": null,
       "nrows": 60,
       "postfix": null,
       "prefix": "",
       "rate": null,
       "total": 1,
       "unit": "it",
       "unit_divisor": 1000,
       "unit_scale": false
      },
      "application/vnd.jupyter.widget-view+json": {
       "model_id": "8aa8ea574c1f439292ad73d42924785e",
       "version_major": 2,
       "version_minor": 0
      },
      "text/plain": [
       "  0%|          | 0/1 [00:00<?, ?it/s]"
      ]
     },
     "metadata": {},
     "output_type": "display_data"
    },
    {
     "data": {
      "text/plain": [
       "{'id': '5b8a3081c3235d62bc77e2d15f3ad454',\n",
       " 'question': 'A town between two mountains is located in a what?',\n",
       " 'choices': ['valley', 'hospital', 'state', 'train station', 'michigan'],\n",
       " 'answer': 'valley',\n",
       " 'abstractive_explanation': 'valleys are always between two mountains',\n",
       " 'extractive_explanation': 'A town between two mountains',\n",
       " 'our_explanation': 'A valley is usually between two mountains, where it is located in the place where the mountains are closest to each other.'}"
      ]
     },
     "execution_count": 11,
     "metadata": {},
     "output_type": "execute_result"
    }
   ],
   "source": [
    "#rationale unlabeled data construction 991\n",
    "import pdb\n",
    "scr_csqa_unlabeled_test_file=\"/cognitive_comp/huangyongfeng/evaluate_LM_with_rationalization/few_shot_explanations/data/acceptability_annotations/commonsenseqa_test.csv\"\n",
    "fse_csqa_dev_dataset = datasets.load_dataset('csv', data_files=scr_csqa_unlabeled_test_file)\n",
    "scr_csqa_unlabeled_test_df=pd.read_csv(scr_csqa_unlabeled_test_file)\n",
    "fse_csqa_dev_data_dict={}\n",
    "for kk, da in enumerate(fse_csqa_dev_dataset['train']):\n",
    "    #pdb.set_trace()\n",
    "    id_=da['Input.id']\n",
    "    if da['Answer.acceptable']:\n",
    "        answer_accept=set(da['Answer.acceptable'].split('|'))\n",
    "    else:\n",
    "        answer_accept=set()\n",
    "    explanation_list=[da['Input.explanation_1'], \n",
    "                      da['Input.explanation_2'],\n",
    "                      da['Input.explanation_3'],\n",
    "                      da['Input.explanation_4'],\n",
    "                      da['Input.explanation_5']]\n",
    "    if id_ not in fse_csqa_dev_data_dict.keys():\n",
    "        fse_csqa_dev_data_dict[id_]={\"index\":kk,\"id\":id_,\n",
    "                                     \"question\":da[\"Input.question\"],\n",
    "                                     'answer':da['Input.gold_label'],\n",
    "                                     \"accept_set_list\":[answer_accept],\n",
    "                                     \"explanation_list\":explanation_list}\n",
    "        #[[kk, id_, answer_accept, explanation_list]]\n",
    "    else:\n",
    "        fse_csqa_dev_data_dict[id_][\"accept_set_list\"].append(answer_accept)\n",
    "    if len(fse_csqa_dev_data_dict[id_][\"accept_set_list\"])==3:\n",
    "        fse_csqa_dev_data_dict[id_][\"common_expl_list\"]=[]\n",
    "        common_accept_expl_sample=set.intersection(fse_csqa_dev_data_dict[id_][\"accept_set_list\"][0], \n",
    "                                                   fse_csqa_dev_data_dict[id_][\"accept_set_list\"][1], \n",
    "                                                   fse_csqa_dev_data_dict[id_][\"accept_set_list\"][2])\n",
    "        for idx in list(common_accept_expl_sample):\n",
    "            idx=int(idx)-1\n",
    "            fse_csqa_dev_data_dict[id_][\"common_expl_list\"].append(fse_csqa_dev_data_dict[id_][\"explanation_list\"][idx])\n",
    "        \n",
    "#discriminate 3/3 id\n",
    "id_accept_expl_list=[]\n",
    "our_accept_expl_list=[]\n",
    "id_unaccept_expl_list=[]\n",
    "for k,v in fse_csqa_dev_data_dict.items():\n",
    "    accept_set_list=v['accept_set_list']\n",
    "    assert len(accept_set_list)==3\n",
    "    #pdb.set_trace()\n",
    "    common_accept_expl_sample=set.intersection(accept_set_list[0], accept_set_list[1], accept_set_list[2])\n",
    "    #print(accept_set_list,common_accept_expl_sample)\n",
    "    #pdb.set_trace()\n",
    "    if common_accept_expl_sample:\n",
    "        id_accept_expl_list.append(k)\n",
    "        our_expl=\"\"\n",
    "        for idx in list(common_accept_expl_sample):\n",
    "            idx=int(idx)-1\n",
    "            if len(v['explanation_list'][idx]) > len(our_expl):\n",
    "                our_expl = v['explanation_list'][idx]\n",
    "                our_accept_expl_list.append(our_expl)\n",
    "    else:\n",
    "        id_unaccept_expl_list.append(k)\n",
    "\n",
    "dev_ids_list=[x['id'] for x in dataset['validation']]\n",
    "dev_accept_indexs_list=[dev_ids_list.index(id_) for id_ in id_accept_expl_list]\n",
    "dev_unaccpet_indexs_list=[dev_ids_list.index(id_) for id_ in id_unaccept_expl_list]\n",
    "dev_accept_data=dataset['validation'].select(dev_accept_indexs_list)\n",
    "dev_unaccept_data=dataset['validation'].select(dev_unaccpet_indexs_list)\n",
    "\n",
    "\n",
    "\n",
    "new_dev_accept_data=[]\n",
    "new_dev_unaccept_data=[]\n",
    "for oexp, da in zip(our_accept_expl_list,dev_accept_data):\n",
    "    da[\"our_explanation\"]=oexp\n",
    "    new_dev_accept_data.append(da)\n",
    "for da in dev_unaccept_data:\n",
    "    da[\"our_explanation\"]=oexp\n",
    "    new_dev_unaccept_data.append(da)\n",
    "        \n",
    "new_dev_accept_data[0]\n",
    "        "
   ]
  },
  {
   "cell_type": "code",
   "execution_count": 12,
   "id": "ffe13707",
   "metadata": {},
   "outputs": [
    {
     "data": {
      "text/plain": [
       "{'index': 0,\n",
       " 'id': '5b8a3081c3235d62bc77e2d15f3ad454',\n",
       " 'question': 'A town between two mountains is located in a what?',\n",
       " 'answer': 'valley',\n",
       " 'accept_set_list': [{'2', '4', '5'}, {'2', '4', '5'}, {'2', '4', '5'}],\n",
       " 'explanation_list': ['Because all of the mountains are to the left of this town, if one was looking on a map, one would be able to see the town in the valley.',\n",
       "  'A valley is usually between two mountains, where it is located in the place where the mountains are closest to each other.',\n",
       "  'Because rivers end in valleys; assuming the river is the one of interest, this sentence is likely referring to the geographical location of the town.',\n",
       "  'A town in between mountains presumably would be in a valley, in which case it is plausable that it would be surrounded by heights in every direction.',\n",
       "  'A valley is a low area between two mountains.'],\n",
       " 'common_expl_list': ['A valley is usually between two mountains, where it is located in the place where the mountains are closest to each other.',\n",
       "  'A town in between mountains presumably would be in a valley, in which case it is plausable that it would be surrounded by heights in every direction.',\n",
       "  'A valley is a low area between two mountains.']}"
      ]
     },
     "execution_count": 12,
     "metadata": {},
     "output_type": "execute_result"
    }
   ],
   "source": [
    "fse_csqa_dev_data_dict['5b8a3081c3235d62bc77e2d15f3ad454']\n"
   ]
  },
  {
   "cell_type": "code",
   "execution_count": 13,
   "id": "3161874f",
   "metadata": {},
   "outputs": [],
   "source": [
    "# for k,v in fse_csqa_dev_data_dict.items():\n",
    "#     #print(v.keys())\n",
    "#     print(\"******\")\n",
    "#     print(v['question'])\n",
    "#     print(v['answer'])\n",
    "#     print(v['common_expl_list'])\n",
    "#     print(\"******\")    \n",
    "# for k,v in fse_csqa_train_data_dict.items():\n",
    "#     #print(v.keys())\n",
    "#     print(\"******\")\n",
    "#     print(v['question'])\n",
    "#     print(v['answer'])\n",
    "#     print(v['common_expl_list'])\n",
    "#     print(\"******\") \n"
   ]
  },
  {
   "cell_type": "code",
   "execution_count": 14,
   "id": "3e0e8a2d",
   "metadata": {},
   "outputs": [
    {
     "data": {
      "application/json": {
       "ascii": false,
       "bar_format": null,
       "colour": null,
       "elapsed": 0.012723445892333984,
       "initial": 0,
       "n": 0,
       "ncols": null,
       "nrows": 60,
       "postfix": null,
       "prefix": "",
       "rate": null,
       "total": 1,
       "unit": "it",
       "unit_divisor": 1000,
       "unit_scale": false
      },
      "application/vnd.jupyter.widget-view+json": {
       "model_id": "fdb30d37bee44a6f9d56296235e96d47",
       "version_major": 2,
       "version_minor": 0
      },
      "text/plain": [
       "  0%|          | 0/1 [00:00<?, ?it/s]"
      ]
     },
     "metadata": {},
     "output_type": "display_data"
    },
    {
     "data": {
      "text/plain": [
       "{'id': 'ed53cbea1f21072fab892031b31192d1',\n",
       " 'question': 'Where can you likely buy many poems?',\n",
       " 'choices': ['book of poetry',\n",
       "  'literature book',\n",
       "  'book store',\n",
       "  'poetry book',\n",
       "  'bookshelf'],\n",
       " 'answer': 'book store',\n",
       " 'abstractive_explanation': 'book store book',\n",
       " 'extractive_explanation': 'buy many poems',\n",
       " 'our_explanation': 'A bookstore sells a variety of books, including poetry books; chains of bookstores sometimes specialize in categories such as poetry or literature.'}"
      ]
     },
     "execution_count": 14,
     "metadata": {},
     "output_type": "execute_result"
    }
   ],
   "source": [
    "#rationale unlabeled data construction 991\n",
    "import pdb\n",
    "scr_csqa_unlabeled_train_file=\"/cognitive_comp/huangyongfeng/evaluate_LM_with_rationalization/few_shot_explanations/data/acceptability_annotations/commonsenseqa_train.csv\"\n",
    "fse_csqa_train_dataset = datasets.load_dataset('csv', data_files=scr_csqa_unlabeled_train_file)\n",
    "scr_csqa_unlabeled_train_df=pd.read_csv(scr_csqa_unlabeled_train_file)\n",
    "fse_csqa_train_data_dict={}\n",
    "for kk, da in enumerate(fse_csqa_train_dataset['train']):\n",
    "    #pdb.set_trace()\n",
    "    id_=da['Input.id']\n",
    "    if da['Answer.acceptable']:\n",
    "        answer_accept=set(da['Answer.acceptable'].split('|'))\n",
    "    else:\n",
    "        answer_accept=set()\n",
    "    explanation_list=[da['Input.explanation_1'], \n",
    "                      da['Input.explanation_2'],\n",
    "                      da['Input.explanation_3'],\n",
    "                      da['Input.explanation_4'],\n",
    "                      da['Input.explanation_5']]\n",
    "    if id_ not in fse_csqa_train_data_dict.keys():\n",
    "        fse_csqa_train_data_dict[id_]={\"index\":kk,\"id\":id_,\n",
    "                                     \"question\":da[\"Input.question\"],\n",
    "                                     'answer':da['Input.gold_label'],\n",
    "                                     \"accept_set_list\":[answer_accept],\n",
    "                                     \"explanation_list\":explanation_list}\n",
    "        #[[kk, id_, answer_accept, explanation_list]]\n",
    "    else:\n",
    "        fse_csqa_train_data_dict[id_][\"accept_set_list\"].append(answer_accept)\n",
    "        \n",
    "    if len(fse_csqa_train_data_dict[id_][\"accept_set_list\"])==3:\n",
    "        fse_csqa_train_data_dict[id_][\"common_expl_list\"]=[]\n",
    "        common_accept_expl_sample=set.intersection(fse_csqa_train_data_dict[id_][\"accept_set_list\"][0], \n",
    "                                                   fse_csqa_train_data_dict[id_][\"accept_set_list\"][1], \n",
    "                                                   fse_csqa_train_data_dict[id_][\"accept_set_list\"][2])\n",
    "        for idx in list(common_accept_expl_sample):\n",
    "            idx=int(idx)-1\n",
    "            fse_csqa_train_data_dict[id_][\"common_expl_list\"].append(fse_csqa_train_data_dict[id_][\"explanation_list\"][idx])\n",
    "\n",
    "    \n",
    "#discriminate 3/3 id\n",
    "id_accept_expl_list=[]\n",
    "our_accept_expl_list=[]\n",
    "id_unaccept_expl_list=[]\n",
    "for k,v in fse_csqa_train_data_dict.items():\n",
    "    accept_set_list=v['accept_set_list']\n",
    "    assert len(accept_set_list)==3\n",
    "    #pdb.set_trace()\n",
    "    common_accept_expl_sample=set.intersection(accept_set_list[0], accept_set_list[1], accept_set_list[2])\n",
    "    #print(accept_set_list,common_accept_expl_sample)\n",
    "    #pdb.set_trace()\n",
    "    if common_accept_expl_sample:\n",
    "        id_accept_expl_list.append(k)\n",
    "        our_expl=\"\"\n",
    "        for idx in list(common_accept_expl_sample):\n",
    "            idx=int(idx)-1\n",
    "            if len(v['explanation_list'][idx]) > len(our_expl):\n",
    "                our_expl = v['explanation_list'][idx]\n",
    "                our_accept_expl_list.append(our_expl)\n",
    "    else:\n",
    "        id_unaccept_expl_list.append(k)\n",
    "\n",
    "train_ids_list=[x['id'] for x in dataset['train']]\n",
    "train_accept_indexs_list=[train_ids_list.index(id_) for id_ in id_accept_expl_list]\n",
    "train_unaccpet_indexs_list=[train_ids_list.index(id_) for id_ in id_unaccept_expl_list]\n",
    "train_accept_data=dataset['train'].select(train_accept_indexs_list)\n",
    "train_unaccept_data=dataset['train'].select(train_unaccpet_indexs_list)\n",
    "\n",
    "\n",
    "\n",
    "new_train_accept_data=[]\n",
    "new_train_unaccept_data=[]\n",
    "for oexp, da in zip(our_accept_expl_list,train_accept_data):\n",
    "    da[\"our_explanation\"]=oexp\n",
    "    new_train_accept_data.append(da)\n",
    "for da in train_unaccept_data:\n",
    "    da[\"our_explanation\"]=oexp\n",
    "    new_train_unaccept_data.append(da)\n",
    "        \n",
    "new_train_accept_data[0]"
   ]
  },
  {
   "cell_type": "code",
   "execution_count": 15,
   "id": "595b9453",
   "metadata": {},
   "outputs": [
    {
     "data": {
      "text/plain": [
       "(set(), set())"
      ]
     },
     "execution_count": 15,
     "metadata": {},
     "output_type": "execute_result"
    }
   ],
   "source": [
    "refine_train_data=refine_train_data\n",
    "refine_dev_data=new_train_accept_data + new_dev_accept_data\n",
    "refine_test_data=new_train_unaccept_data + new_dev_unaccept_data\n",
    "\n",
    "refine_train_ids_list=[x['id'] for x in refine_train_data]\n",
    "refine_dev_ids_list=[x['id'] for x in refine_dev_data]\n",
    "refine_test_ids_list=[x['id'] for x in refine_test_data]\n",
    "\n",
    "set(refine_train_ids_list).intersection(set(refine_dev_ids_list)),set(refine_train_ids_list).intersection(set(refine_test_ids_list))\n",
    "\n"
   ]
  },
  {
   "cell_type": "code",
   "execution_count": 16,
   "id": "48e4ec26",
   "metadata": {},
   "outputs": [
    {
     "data": {
      "text/plain": [
       "dict_keys(['id', 'question', 'choices', 'answer', 'abstractive_explanation', 'extractive_explanation', 'our_explanation'])"
      ]
     },
     "execution_count": 16,
     "metadata": {},
     "output_type": "execute_result"
    }
   ],
   "source": [
    "our_data_splits={}\n",
    "our_data_splits['train']=refine_train_data\n",
    "our_data_splits['dev']=refine_dev_data\n",
    "our_data_splits['test']=refine_test_data\n",
    "refine_train_data[0].keys()"
   ]
  },
  {
   "cell_type": "markdown",
   "id": "0fcdf34f",
   "metadata": {},
   "source": [
    "# shots number"
   ]
  },
  {
   "cell_type": "code",
   "execution_count": 17,
   "id": "bd43fe66",
   "metadata": {},
   "outputs": [],
   "source": [
    "id_list = [\n",
    " '71519c19654251cced50c5718fd527c1',\n",
    " '44195d210c81c8c550174d0edbd3ad5d',\n",
    " '5a5da37b685ec9c6f15228128ce30437',\n",
    " 'cabdfc174953b4bdb8bdcc89d6592c74',\n",
    " 'eac3a4080127e8924034651b57dfa289',\n",
    " 'c0013f31657294b9b5ad819123513ca7',\n",
    " '2681697be70cd5425899ed6deb84b18a',\n",
    " '47f60340b869552e795fa6782224f3d2',\n",
    " '7e8a6eac93147eb52d8151bab7b40003',\n",
    " 'f34267f498c8a78383e35057fbcfa2ce',\n",
    " 'f024f923d78e5c0a4c0c4baa3ddccf05',\n",
    " 'e148c710d0c26849cf1f15293481038b',\n",
    " 'bdf437d7498815f36c255f64a8e6571c',\n",
    " '2282e0c80be28aadadb79a822fec9dac',\n",
    " 'bdd05e96876342b4b5999709439a7f4e',\n",
    " '494b8316614fc64c5c27757aeaffce23_1',\n",
    " 'c4494b402264250dc70931613d482295',\n",
    " 'fcfbf207c5586294fdce33b645b613f1',\n",
    " '9c583bcbe68989a644433302545fb31e',\n",
    " '0e684d779d98e6eecda167c10af42bbb',\n",
    " 'ac0462d09b9fddd40c3c77aedf48a870',\n",
    " '1dbfb41e04a10bdbb085bfe667c0df99',\n",
    " 'cd0c0ef3b8ce0eb09ff26823f6059be6',\n",
    " 'e6b67184b99375d05d3f2887f684c684',\n",
    " 'ae9f6f1e17b3fdd3a86b494933809f45',\n",
    " 'f149604169936a30b7e4c8d599d604b5',\n",
    " 'd7c8377953e0175ef57d59f3a8e63a8e',\n",
    " '1837216ac7745121b82a6491b2318c09',\n",
    " 'b5fe238d45e55ca5d802b7823ad390ef',\n",
    " 'b2fbeb0b48bd5e575af0f7dc24cdd85d',\n",
    " '9bdfb101c487ac598f6e4686cf774703',\n",
    " '206c7116ee2246180fcc0c5a1d0e7205',\n",
    " '5cd7f44bbf730dfae5ef2a362d2e5149',\n",
    " '45d0ea781ffd49b07d6eae94d47a8945',\n",
    " '89afdea1d76272fda8e1538a7d3b7a3f',\n",
    " '38a514fe54108527e1d6e89d9812da93',\n",
    " 'ebf347934a3e90ea46d3d87726fb5d25',\n",
    " '90226a6ecd7308ae1e6220a15ae24bc6',\n",
    " '5cae8057e75e3adf5c338a43b3ba97fb',\n",
    " '388a363c49e1b0aca8eaf18ccdde0caf',\n",
    " '9ed3af82152dfcd7000bf4631b095f71',\n",
    " '2d5805d894bba224c5fe91e70b8c0f77',\n",
    " 'd5aa464a16b72c9b9f3091abd461e3ef',\n",
    " '381b11c54be4cc432a95053ca34cbf6b',\n",
    " '807a3a2dabdd50ed0c76052fd2612632',\n",
    " '5172041c750d22e9a5081cc024de0fa6',\n",
    " 'd32a45ab3b751110d0578a78e54c0e64',\n",
    " '28ca5cbe27774746c34f6ebe84fc6d0c']\n",
    "\n",
    "chatGPT_rationales = [\n",
    "    \"A cup is a common vessel used for holding and drinking liquids, such as water, coffee, or tea. When you want to get yourself a drink, you might typically get a cup from a cabinet or other storage area in order to hold the drink. A cup is a convenient and practical choice for getting a drink because it is easy to hold and use, and it can hold a reasonable amount of liquid. There are many different types of cups available, including ceramic, glass, plastic, and metal cups, each with their own unique features and benefits. Whether you are at home, at work, or out in public, a cup is a handy item to have on hand when you need to quench your thirst.\",\n",
    "    \"A front yard is the lawn that is typically located in front of a house, near the street. The front yard is the part of the property that is visible from the street and is often used for decorative purposes, such as landscaping or gardening. Many people take pride in their front yards and may spend time and resources maintaining and improving them. The front yard is often the first thing that visitors see when they arrive at a house, and it can make a strong impression on them. In contrast, the back yard is typically located behind the house and is often used for more practical purposes, such as outdoor recreation or gardening.\",\n",
    "    \"A swimming pool is a recreational water feature that is typically used for swimming and other aquatic activities. While shallow water, such as that found in a kiddie pool or a shallow end of a pool, can be enjoyable for some people, it may not be sufficient for many summer activities. A swimming pool that is deep enough for diving and other activities is more likely to provide more opportunities for summer fun. In addition, a swimming pool that is clean and chlorinated is more likely to be safe and enjoyable for swimming, as it will be free of contaminants and bacteria that can cause illness.\",\n",
    "    \"In most places, it is illegal for people under the age of 21 to purchase or consume alcohol. This is because alcohol can have negative effects on the developing brain and body of young people. It can also contribute to risky behaviors and accidents. Therefore, many governments have set a minimum age for alcohol consumption and purchase to help protect the health and safety of young people. If someone is under the age of 21 and attempts to purchase alcohol, they may be denied the sale or face legal consequences. It is important for young people to understand and adhere to the laws and regulations regarding the purchase and consumption of alcohol in their area.\",\n",
    "    \"When someone shaves, they typically use a razor to remove hair from their face or body. The process of shaving can leave a lot of hair in the sink, as the hair is trimmed off and falls into the sink as it is being shaved. It is common for people to shave in the bathroom, where a sink is typically located. The sink provides a convenient place to rinse the razor and wash off any excess hair or shaving cream. It is important to clean the sink after shaving to remove any hair and prevent clogs in the drain.\",\n",
    "    \"A hamburger is a type of sandwich that consists of a cooked patty of ground meat, typically beef, placed between two slices of bread or a bun. Hamburgers are often served with various toppings, such as lettuce, tomato, onion, cheese, and condiments like ketchup and mustard. However, if someone is suffering from great hunger, they may not care about the toppings and just want to eat the hamburger itself. In this case, the person may be more focused on satisfying their hunger and getting nourishment rather than worrying about additional ingredients or flavors.\",\n",
    "    \"If a person notices popcorn and cotton candy on the grass, they are likely at fairgrounds. Fairgrounds are outdoor areas that are used for hosting fairs and other events, such as carnivals, festivals, and exhibitions. These events often feature food stalls and vendors that sell a variety of treats, including popcorn and cotton candy. Popcorn and cotton candy are both popular carnival foods that are often sold at fairs and other events. The presence of these foods on the ground at fairgrounds suggests that a fair or similar event is taking place there.\",\n",
    "    \"When snow on a mountain becomes heavy, it can trigger an avalanche. An avalanche is a rapid flow of snow down a slope, often triggered by the weight of the snow or external factors such as a change in temperature. Avalanches can be dangerous and destructive, as they can bury and sweep away anything in their path, including people, buildings, and vehicles. Avalanches can occur on any slope with a steep enough incline and a sufficient amount of snow. They are most common on mountains, but they can also occur in other snowy areas, such as forests or valleys. It is important for people to be aware of the risk of avalanches and to take precautions when traveling in areas prone to avalanches.\",\n",
    "    \"A police officer typically reports their work through the use of case reports or incident reports. These reports are written documents that detail the events of a specific case or incident that the officer has worked on. Case reports or incident reports typically include information such as the date and time of the incident, the location, the people involved, and the actions taken by the officer. They may also include witness statements, evidence collected, and any other relevant details. Case reports or incident reports are used by police officers to document their work and provide a record of the incidents they have dealt with. They are also used by supervisors and other authorities to review and evaluate the performance of the officer and the effectiveness of their actions.\",\n",
    "    \"Teachers play many roles in the lives of their students, including mentor, counselor, and role model. However, they get the most out of their job by simply teaching children. Teaching children is the primary responsibility of a teacher, and it is what they are trained and paid to do. Teaching involves imparting knowledge, skills, and values to students, and helping them to develop the skills and habits they need to succeed in life. Teachers have the opportunity to make a positive impact on the lives of their students by providing them with a strong foundation in academic subjects and helping them to become curious, engaged learners. Teachers often derive a great deal of satisfaction from helping their students to achieve their potential and succeed in their studies.\",\n",
    "    \"A person might go to get counseling for a variety of reasons. One reason is to better understand themselves. Counseling can provide a safe and supportive environment for individuals to explore their thoughts, feelings, and behaviors, and to gain insight into why they act and feel the way they do. Counseling can also help a person to identify and work through any underlying issues or challenges that may be causing them distress or hindering their personal growth. Through counseling, a person can learn more about themselves and how to navigate their emotions and relationships more effectively. Counseling can be particularly helpful for individuals who are struggling with mental health issues, relationship problems, or other personal challenges.\",\n",
    "    \"If the kids wanted to cool off, they might go swimming as a way to refresh and beat the heat. Swimming is a fun and enjoyable activity that can provide relief from hot weather and help to cool the body. Swimming can also provide a great workout and has numerous health benefits, such as improving cardiovascular fitness and flexibility. There are many different places where kids can go swimming, such as pools, lakes, rivers, or the ocean. No matter where they go, kids can have fun and cool off while enjoying the water.\",\n",
    "    \"When remembering a tragedy in the past, many people may feel depressed. Depression is a common emotional reaction to experiencing a traumatic or stressful event, such as a tragedy. Depression is a mental health disorder characterized by persistent feelings of sadness, hopelessness, and low energy. It can also cause physical symptoms such as changes in appetite and sleep patterns, fatigue, and difficulty concentrating. Remembering a tragedy can be emotionally difficult and may trigger feelings of sadness, grief, and guilt. It is important for people who are struggling with depression to seek support and treatment to help manage their symptoms and improve their mental health.\",\n",
    "    \"Death Valley is a national park located in the Mojave Desert, in the state of California, United States. It is situated on the North American continent. The North American continent is one of the seven continents of the world and is located in the western hemisphere. It is the third largest continent in terms of land area, after Asia and Africa, and is home to a diverse range of cultures, languages, and environments. Death Valley is known for its extreme desert climate and is the lowest, hottest, and driest place in North America. It is a popular destination for tourists, who come to see its unique geological features, such as sand dunes, salt flats, and canyons.\",\n",
    "    \"When in a serious relationship, understanding better requires effort. Relationships require effort and work to maintain and grow. In order to understand your partner better, you need to be willing to put in the time and effort to communicate with them, listen to their perspectives, and try to see things from their point of view. This may involve asking questions, expressing your own feelings and needs, and being open to feedback and compromise. Understanding your partner better can help to strengthen the bond between you and improve the quality of your relationship. It is important to remember that relationships are dynamic and evolving, and that ongoing communication and effort are necessary to maintain a healthy and fulfilling relationship.\",\n",
    "    \"Cats are able to make a variety of vocalizations, including meows, purrs, and growls, as a way of communicating with humans and other animals. Cats use these vocalizations to convey a range of emotions and needs, such as hunger, happiness, or discomfort. Meowing is a common vocalization that cats use to communicate with humans. Cats may meow when they want attention, food, or to be let outside. Cats may also meow when they are feeling anxious or stressed. Although cats cannot talk in the same way that humans do, they are skilled at using their voices to communicate with their owners and other animals.\",\n",
    "    \"If you need a vessel that is similar to a battleship but faster, you might consider using a corvette. A corvette is a small, fast warship that is typically used for convoy escort, patrol, and other shallow water duties. Corvettes are generally smaller and less heavily armed than battleships, but they are more agile and have a higher speed. They are typically equipped with a variety of weapons, including guns, missiles, and torpedoes, and are used for defending against enemy ships and aircraft. Corvettes are often used for coastal defense, as well as for patrolling and enforcing maritime laws. They are capable of operating in a variety of environments, including open ocean and littoral (nearshore) waters.\",\n",
    "    \"Water in the sky comes from rain clouds. Rain clouds are clouds that form when moist air rises and cools, forming tiny water droplets that condense around particles in the air. As the droplets grow, they eventually become heavy enough to fall from the cloud as rain. Rain clouds are typically gray or white in color and are often accompanied by other types of clouds, such as cumulus or stratocumulus clouds. Rain clouds can form in a variety of ways, such as when warm, moist air from the ground rises and cools, or when moist air from the ocean is carried inland by the wind. Rain clouds can be found in many parts of the world and are a common source of precipitation, especially during the warmer months.\",\n",
    "    \"If John rented a hotel room while on a business trip and it was a company-sponsored event, it is possible that the hotel was a resort. Resorts are hotels or vacation properties that offer a variety of amenities and activities for guests, such as swimming pools, golf courses, spas, and restaurants. They are often located in scenic or recreational areas and are designed to provide a relaxing and enjoyable experience for guests. Many resorts offer conference and meeting facilities and are popular destinations for business events and retreats. If John's company sponsored the business trip and provided the hotel accommodations, it is likely that they chose a resort with the amenities and facilities needed to support the event.\",\n",
    "    \"An expressway might leave the United States and go to Canada. The United States and Canada are neighboring countries that share a border, and there are several expressways that cross the border between the two countries. Expressways are high-speed, limited-access roads that are designed for fast and efficient travel. They typically have multiple lanes and may include features such as grade separations, interchanges, and controlled access points. Expressways are used for long-distance travel and are often the main routes connecting major cities and regions. If an expressway leaves the United States, it is likely that it is heading towards Canada, which is located to the north of the United States.\",\n",
    "    \"If you were walking on a sidewalk near a small corner shop run by John, you would look for it on the street corner. A corner shop is a small retail store that is typically located at the intersection of two streets. It is often a convenience store or a neighborhood shop that sells a variety of goods, such as groceries, household items, and other supplies. Corner shops are often located in busy urban areas, where they are easily accessible to pedestrians and motorists. If you were walking on a sidewalk near a corner shop, you would look for it at the intersection of the street where you are walking and another street. The shop is likely to be located in a building on the corner, with windows and doors facing the street.\",\n",
    "    \"One way that a company can efficiently sell things to their customers is through mail order. Mail order is a method of selling goods or services by advertising them in a catalog or other publication and allowing customers to place orders by mail, telephone, or online. Mail order is a convenient and efficient way for companies to reach a wide customer base, as it allows them to sell products to customers who may not be located near their physical store or who may not have the time or inclination to shop in person. Mail order companies typically have a centralized warehouse or distribution center where orders are processed and shipped to customers. They may also offer options such as easy returns and exchanges, as well as customer service support to assist with any questions or issues that customers may have.\",\n",
    "    \"If he enjoyed the factory work and liked the idea that he did it for sale, it is likely that he enjoyed producing goods. Factory work typically involves the production of goods, such as products or materials, using machines, tools, and other equipment. Factory workers are responsible for operating and maintaining the equipment and ensuring that the goods being produced meet quality standards. The goods produced in a factory may be sold directly to consumers or to other businesses, and may be used for a variety of purposes, such as manufacturing, construction, or distribution. If a person enjoys factory work, they may find satisfaction in the idea that they are contributing to the production of goods that will be sold and used by others.\",\n",
    "    \"If returning to work was easy for Dan after his treatment and he was completely painless, it is likely that he had undergone some form of medical treatment or therapy to address a health issue or injury. Painless indicates that Dan was no longer experiencing pain or discomfort, which may have been a result of the treatment or therapy he received. It is not clear from the information provided what specific health issue or injury Dan was dealing with, or what treatment or therapy he received. However, it is possible that Dan was able to return to work more easily after his treatment because he was feeling better and was no longer experiencing any pain or discomfort.\",\n",
    "    \"If index cards were on display at the museum, it is likely that the museum was a library. Libraries are institutions that provide access to a wide range of resources, including books, periodicals, and other printed materials, as well as digital resources such as e-books, databases, and online research tools. Libraries often have exhibits and displays of various types of materials, including rare or unique items, and may have special collections or archives that are of particular interest to researchers or historians. Index cards are small, rectangular pieces of paper that are used for organizing information, such as names, dates, or research notes. They may be used in a variety of settings, including libraries, offices, and schools. If index cards were on display at the museum, it is possible that they were part of a historical exhibit or collection related to the history of libraries or research.\",\n",
    "    \"If she was a human in America who wanted to live well, it is likely that the given for her situation was the need for money. In general, money is an important factor in enabling people to live well and meet their basic needs and desires. Money allows people to purchase the goods and services that they need to sustain themselves and their families, such as food, clothing, housing, and healthcare. It also enables people to pursue their interests and hobbies, travel, and engage in various forms of leisure and entertainment. In America, and in many other countries around the world, the cost of living can be high, and people often need to earn and save money in order to achieve a desired standard of living. As such, the need for money is a given for many people in order to live well.\",\n",
    "    \"A place that could have one back garden is a house. A garden is a piece of land that is used for growing plants, flowers, vegetables, or other types of vegetation. Gardens can be found in a variety of settings, including residential properties, public parks, and commercial properties. A house is a building that is used as a dwelling for one or more people, and it typically includes living spaces, such as bedrooms, bathrooms, and a kitchen, as well as outdoor areas, such as a front yard, side yard, and back yard. A back yard is a private outdoor space that is typically located behind a house and is often used for recreational or leisure activities, such as gardening, grilling, or playing games. If a house has a back garden, it is likely that the garden is located in the back yard.\",\n",
    "    \"People gather at a football stadium to see large men in pads play a game where they run and smash into each other. Football is a popular sport that is played on a rectangular field by two teams of eleven players. The game involves running, passing, and tackling, and players wear pads and other protective gear to reduce the risk of injury. Football is a physical and intense sport, and players often collide with each other at high speeds. Football stadiums are large, open-air facilities that are designed to host football games and other sporting events. They typically have a grass or artificial turf field, seating for spectators, and a variety of amenities, such as concessions stands, restrooms, and VIP areas. Football stadiums are popular places for people to gather and watch football games, and they can be found in cities and towns throughout the world.\",\n",
    "    \"One place where someone can get a flute is a musical instrument store. A musical instrument store is a retail establishment that specializes in selling musical instruments and related accessories. They may carry a wide range of instruments, including brass instruments, woodwind instruments, string instruments, percussion instruments, and keyboards. Flutes are woodwind instruments that are played by blowing air into a narrow opening and producing sound by vibrating the lips against a metal or wooden reed. They are popular instruments that are used in a variety of musical styles, including classical, jazz, and folk music. If someone is looking to purchase a flute, they may be able to find a selection of flutes at a musical instrument store. In addition to flutes, musical instrument stores may also offer a variety of other instruments, as well as sheet music, instructional materials, and accessories such as cases, stands, and cleaning supplies.\",\n",
    "    \"It is not clear what someone who has a greed for energy would do. The word greed typically refers to an excessive or insatiable desire for wealth, power, or material possessions. It is not clear how this concept would relate to energy or how it might influence someone's actions. It is possible that someone who has a lot of energy or who is very active might have a high appetite for food and might seek out sources of fuel or nutrition to sustain their energy levels. In this case, they might buy food as a way to obtain the energy they need. However, it is not accurate to say that someone who has a greed for energy would necessarily do this. It is important to note that the concept of greed is generally considered to be negative, as it suggests an unhealthy or unsustainable desire for something.\",\n",
    "    \"A forklift is a type of industrial vehicle that is used for moving and lifting heavy loads, such as pallets, crates, and boxes. Forklifts are equipped with a hydraulic lift mechanism and a set of prongs or forks that can be used to lift and transport loads. They are commonly used in warehouses and other distribution centers to move and stack materials, such as boxes, onto shelves or other storage areas. If you were using a forklift to stack boxes onto shelves, it is likely that you were in a warehouse or a similar facility. Warehouses are large, commercial buildings that are used for storing and distributing goods. They often have high ceilings, wide aisles, and multiple levels, and they may be equipped with a variety of material handling equipment, such as forklifts, conveyor belts, and cranes, to facilitate the movement and storage of goods.\",\n",
    "    \"You are likely to receive mouthwash in a little paper cup at a dentist's office. Dentist's offices are healthcare facilities that are staffed by dentists and other dental professionals, and they are used for the diagnosis and treatment of dental problems and the maintenance of oral health. One common practice at a dentist's office is to rinse the mouth with mouthwash, which is a liquid that is used to freshen breath, kill bacteria, and reduce the risk of gum disease and other oral health issues. Mouthwash is typically used after brushing and flossing to help remove any remaining food particles or plaque from the mouth. It may be dispensed in a little paper cup, which can be used to rinse the mouth and then disposed of after use.\",\n",
    "    \"A doctor's office can help you with an illness. A doctor's office is a healthcare facility that is staffed by medical doctors and other healthcare professionals, and it is used for the diagnosis and treatment of medical conditions and the maintenance of overall health. If you are experiencing an illness, such as a cold, flu, or more serious health issue, you may visit a doctor's office to seek medical care and treatment. At a doctor's office, you may receive a physical examination, diagnostic tests, and other forms of medical treatment, depending on the nature of your illness and your specific needs. Doctors are trained to diagnose and treat a wide range of medical conditions, and they can provide you with the care and support you need to recover from your illness and get back to good health.\",\n",
    "    \"A bug looking for wildflowers and no human interruption might go to a meadow. A meadow is a grassland area that is characterized by its open, grassy landscape and the presence of wildflowers and other types of vegetation. Meadows can be found in a variety of settings, including rural areas, forests, and parkland, and they are often home to a variety of animal and plant species. Because meadows are relatively undisturbed by human activity, they can be a good place for a bug to find wildflowers and other types of plants without interference from humans. Meadows are often considered to be peaceful, serene places, and they may be attractive to a bug that is seeking a quiet, natural environment in which to explore and forage.\",\n",
    "    \"If a bride and groom are taking care of proposals, the likely ceremony is a marriage. A marriage is a formal union between two people that is recognized by law and typically involves a public ceremony and the exchange of vows. A marriage proposal is a request for someone to marry another person, and it is typically made by one partner to the other. The process of planning a marriage often involves taking care of a variety of details and arrangements, such as choosing a venue, selecting a date, inviting guests, and organizing the ceremony and reception. If a bride and groom are taking care of proposals, it is likely that they are in the process of planning their marriage and preparing for the wedding ceremony.\",\n",
    "    \"You could put some olives in a jar to prevent them from getting nearby food wet. A jar is a container that is typically made of glass or ceramic and has a wide mouth and a secure, tight-fitting lid. Jars are often used for storing food items, such as olives, pickles, jams, and other types of preserved or dried goods. Because they have a sealed lid, jars can help to keep food fresh and prevent it from coming into contact with air or other substances that might spoil or contaminate it. If you want to prevent olives from getting nearby food wet, you could put them in a jar and close the lid to create an airtight seal. This would help to keep the olives separate from other foods and prevent them from coming into contact with moisture or other liquids.\",\n",
    "    \"If the graveyard was zoned by the pastor, it is likely that it was located on church property. Church property refers to land or buildings that are owned by a church or religious organization. This may include the main church building, as well as other structures such as a rectory, school, or community center. Church property may also include a graveyard or cemetery, which is a place where people are buried after they die. Pastors, who are ordained leaders in a church, often play a central role in the management and oversight of church property, and they may be responsible for zoning or designating areas within the property for specific purposes, such as a graveyard or a garden. If the pastor has zoned the graveyard, it is likely that it is located on church property and is being used as a place for burial by members of the church or community.\",\n",
    "    \"If a family wanted to live with carpeting, they may have ended up putting it in their houses. Houses are structures that are designed and built to be used as homes, and they typically have a number of rooms that are used for different purposes, such as sleeping, cooking, eating, and relaxing. Carpeting is a type of floor covering that is made of soft, flexible materials, such as wool, nylon, or polypropylene, and it is often used in houses to provide warmth, comfort, and insulation. If a family wanted to live with carpeting, they may have chosen to install carpeting in some or all of the rooms in their houses, in order to create a warm and cozy atmosphere and to improve the overall comfort and livability of their homes.\",\n",
    "    \"If a boss likes an employee's ambition, the employee may be put in charge of a project. A project is a specific task or set of tasks that is undertaken in order to achieve a specific goal or objective. Projects may be large or small, complex or simple, and they may involve a wide range of activities, such as research, design, development, testing, and implementation. If an employee is ambitious and demonstrates a strong desire to succeed and make a positive contribution to their organization, their boss may choose to put them in charge of a project, in order to give them the opportunity to demonstrate their skills and abilities and to take on more responsibility. Being put in charge of a project can be a challenging and rewarding experience, and it may provide an employee with the chance to learn new things, develop their skills, and make a meaningful contribution to their organization.\",\n",
    "    \"A county highway can be viewed as a line on a map. A map is a graphic representation of an area or region that shows the locations of various features, such as roads, rivers, mountains, and cities. Maps are often used to help people navigate and find their way around unfamiliar places, and they can be very useful for understanding the layout and geography of an area. County highways are roads that are maintained and operated by a county or local government, and they are typically used for local travel and transportation within a county or region. On a map, a county highway may be represented as a line, with a specific color or symbol used to indicate its location and route. By viewing a county highway as a line on a map, it is possible to get a sense of the route and layout of the road, and to use the map to plan a journey or navigate to a specific destination.\",\n",
    "    \"After going for a run, someone may feel tired. Running is a form of physical activity that involves moving quickly and continuously on foot, typically by running or jogging. It is a popular form of exercise that can help to improve cardiovascular fitness, build endurance, and strengthen the muscles of the legs and lower body. However, running can also be physically demanding, and it requires a certain level of fitness and stamina to be able to sustain the activity for an extended period of time. As a result, it is common for people to feel tired after going for a run, especially if they are not used to the activity or if they have pushed themselves to run for a longer distance or at a faster pace than usual. Tiredness after a run may be accompanied by other physical sensations, such as muscle fatigue, thirst, or a sense of accomplishment.\",\n",
    "    \"If a car was going from Florida to Ohio, it was heading north. Florida is a state in the southeastern region of the United States, and Ohio is a state in the midwestern region of the country. When traveling from Florida to Ohio, a person would need to go north in order to reach their destination. North is a direction that is opposite to south on a map or compass, and it is typically associated with higher latitude, colder climates, and longer nights. When traveling north, a person may encounter different landscapes, weather patterns, and cultural experiences than they would when traveling south, depending on the specific route and the distance traveled. By heading north from Florida to Ohio, a person would be leaving behind the warm, tropical climate of Florida and entering into a more temperate, mid-latitude region with cooler temperatures and a more diverse range of landscapes and ecosystems.\",\n",
    "    \"During a typical week, a teacher is likely to spend most of their time working in school. A teacher is a person who is trained and qualified to teach students in a school or educational setting, and their primary job is to provide instruction and guidance to help students learn and develop their skills and knowledge. Teachers may work in a variety of settings, including primary schools, secondary schools, and universities, and they may teach a wide range of subjects, including math, science, English, history, and the arts. In order to fulfill their duties as a teacher, a person is likely to spend most of their time working in a school or educational setting, where they will be responsible for preparing and delivering lessons, grading assignments, communicating with students and parents, and performing other tasks related to their job. Teachers typically work on a schedule that follows the school year, and they may work full-time or part-time, depending on their specific circumstances and the needs of their students.\",\n",
    "    \"In a predicament, an animal might choose to fight for its life as an alternative to fleeing. Predicament is a term that refers to a difficult or challenging situation, typically one that involves a choice or decision that needs to be made. When an animal finds itself in a predicament, it may have to decide how to respond in order to survive and protect itself. One option that an animal may have is to flee or run away from the situation in an effort to escape danger or avoid conflict. Another option that an animal may have is to fight for its life, using whatever means are available to defend itself and protect its survival. The choice that an animal makes in a predicament will depend on a variety of factors, including the specific nature of the situation, the animal's size, strength, and abilities, and the resources and options that are available to it.\",\n",
    "    \"It is not common for people to fight each other when they find a good deal. A good deal is typically defined as an opportunity to purchase something at a price that is lower than what it is usually worth, or to obtain a product or service that provides more value or benefits than what is expected. When people find a good deal, they may feel excited or pleased about the opportunity to save money or get more for their money, and they may take action to take advantage of the deal. However, it is generally not considered acceptable or appropriate for people to fight each other over a good deal or to engage in physical violence or aggression in order to obtain it. There are many other ways that people can express their interest in a good deal, such as by negotiating with the seller, making an offer, or simply making a purchase if the price is acceptable.\",\n",
    "    \"An altar is a platform or structure that is used for religious ceremonies, rituals, or worship. Altars are often found in places of worship, such as temples, churches, synagogues, mosques, and other religious buildings. When a person is standing in front of an altar, they are likely to be in a temple or other place of worship. Altars can be used for a variety of purposes in different religions and spiritual traditions, such as offering sacrifices, making offerings, praying, or performing other religious practices. They may be decorated with symbols, images, or other items that are significant to the religion or spiritual tradition that is being practiced. Altars may also be used as a place for people to meditate, reflect, or seek spiritual guidance.\",\n",
    "    \"Joe bought a bunch of grapes because he likes to use them to top his desserts. A dessert is a type of food that is typically served at the end of a meal, and it is usually sweet or rich in flavor. There are many different types of desserts that people enjoy, including cakes, cookies, ice cream, pie, and other sweet treats. One way that people may use grapes as a topping for their desserts is by placing them on top of a fruit pie, tart, or crisp. Grapes can add flavor and texture to a dessert, and they may also be used to decorate a dessert or to add visual appeal. Grapes are a versatile fruit that can be used in many different types of desserts, and they can be eaten fresh, frozen, or preserved in various ways.\",\n",
    "    \"Well water is water that is obtained from underground sources, typically through the use of a well. A well is a hole or shaft that is dug into the ground in order to access water that is contained in underground aquifers or other water-bearing formations. Well water is typically used for drinking, irrigation, and other purposes, and it is often considered to be of high quality because it is filtered and purified naturally as it flows through the ground. To obtain well water, a person can dig a well or have one dug by a professional well driller. The depth of the well will depend on the location and the geology of the area, and a pump or other mechanical system may be used to bring the water to the surface.\",\n",
    "]"
   ]
  },
  {
   "cell_type": "code",
   "execution_count": 18,
   "id": "013e06f0",
   "metadata": {},
   "outputs": [
    {
     "name": "stdout",
     "output_type": "stream",
     "text": [
      "dict_keys(['stem', 'no_more_50_words', 'id', '150_to_200_words'])\n",
      "dict_keys(['stem', 'no_more_50_words', 'id', '150_to_200_words'])\n",
      "dict_keys(['stem', 'no_more_50_words', 'id', '150_to_200_words'])\n",
      "dict_keys(['stem', 'no_more_50_words', 'id', '150_to_200_words'])\n",
      "dict_keys(['stem', 'no_more_50_words', 'id', '150_to_200_words'])\n",
      "dict_keys(['stem', 'no_more_50_words', 'id', '150_to_200_words'])\n",
      "dict_keys(['stem', 'no_more_50_words', 'id', '150_to_200_words'])\n",
      "dict_keys(['stem', 'no_more_50_words', 'id', '150_to_200_words'])\n",
      "dict_keys(['stem', 'no_more_50_words', 'id', '150_to_200_words'])\n",
      "dict_keys(['stem', 'no_more_50_words', 'id', '150_to_200_words'])\n",
      "dict_keys(['stem', 'no_more_50_words', 'id', '150_to_200_words'])\n",
      "dict_keys(['stem', 'no_more_50_words', 'id', '150_to_200_words'])\n",
      "dict_keys(['stem', 'no_more_50_words', 'id', '150_to_200_words'])\n",
      "dict_keys(['stem', 'no_more_50_words', 'id', '150_to_200_words'])\n",
      "dict_keys(['stem', 'no_more_50_words', 'id', '150_to_200_words'])\n",
      "dict_keys(['stem', 'no_more_50_words', 'id', '150_to_200_words'])\n",
      "dict_keys(['stem', 'no_more_50_words', 'id', '150_to_200_words'])\n",
      "dict_keys(['stem', 'no_more_50_words', 'id', '150_to_200_words'])\n",
      "dict_keys(['stem', 'no_more_50_words', 'id', '150_to_200_words'])\n",
      "dict_keys(['stem', 'no_more_50_words', 'id', '150_to_200_words'])\n",
      "dict_keys(['stem', 'no_more_50_words', 'id', '150_to_200_words'])\n",
      "dict_keys(['stem', 'no_more_50_words', 'id', '150_to_200_words'])\n",
      "dict_keys(['stem', 'no_more_50_words', 'id', '150_to_200_words'])\n",
      "dict_keys(['stem', 'no_more_50_words', 'id', '150_to_200_words'])\n",
      "dict_keys(['stem', 'no_more_50_words', 'id', '150_to_200_words'])\n",
      "dict_keys(['stem', 'no_more_50_words', 'id', '150_to_200_words'])\n",
      "dict_keys(['stem', 'no_more_50_words', 'id', '150_to_200_words'])\n",
      "dict_keys(['stem', 'no_more_50_words', 'id', '150_to_200_words'])\n",
      "dict_keys(['stem', 'no_more_50_words', 'id', '150_to_200_words'])\n",
      "dict_keys(['stem', 'no_more_50_words', 'id', '150_to_200_words'])\n",
      "dict_keys(['stem', 'no_more_50_words', 'id', '150_to_200_words'])\n",
      "dict_keys(['stem', 'no_more_50_words', 'id', '150_to_200_words'])\n",
      "dict_keys(['stem', 'no_more_50_words', 'id', '150_to_200_words'])\n",
      "dict_keys(['stem', 'no_more_50_words', 'id', '150_to_200_words'])\n",
      "dict_keys(['stem', 'no_more_50_words', 'id', '150_to_200_words'])\n",
      "dict_keys(['stem', 'no_more_50_words', 'id', '150_to_200_words'])\n",
      "dict_keys(['stem', 'no_more_50_words', 'id', '150_to_200_words'])\n",
      "dict_keys(['stem', 'no_more_50_words', 'id', '150_to_200_words'])\n",
      "dict_keys(['stem', 'no_more_50_words', 'id', '150_to_200_words'])\n",
      "dict_keys(['stem', 'no_more_50_words', 'id', '150_to_200_words'])\n",
      "dict_keys(['stem', 'no_more_50_words', 'id', '150_to_200_words'])\n",
      "dict_keys(['stem', 'no_more_50_words', 'id', '150_to_200_words'])\n",
      "dict_keys(['stem', 'no_more_50_words', 'id', '150_to_200_words'])\n",
      "dict_keys(['stem', 'no_more_50_words', 'id', '150_to_200_words'])\n",
      "dict_keys(['stem', 'no_more_50_words', 'id', '150_to_200_words'])\n",
      "dict_keys(['stem', 'no_more_50_words', 'id', '150_to_200_words'])\n",
      "dict_keys(['stem', 'no_more_50_words', 'id', '150_to_200_words'])\n",
      "dict_keys(['stem', 'no_more_50_words', 'id', '150_to_200_words'])\n",
      "dict_keys(['stem', 'no_more_50_words', 'id', '150_to_200_words'])\n",
      "dict_keys(['stem', 'no_more_50_words', 'id', '150_to_200_words'])\n",
      "dict_keys(['stem', 'no_more_50_words', 'id', '150_to_200_words'])\n",
      "dict_keys(['stem', 'no_more_50_words', 'id', '150_to_200_words'])\n",
      "dict_keys(['stem', 'no_more_50_words', 'id', '150_to_200_words'])\n",
      "dict_keys(['stem', 'no_more_50_words', 'id', '150_to_200_words'])\n",
      "dict_keys(['stem', 'no_more_50_words', 'id', '150_to_200_words'])\n",
      "dict_keys(['stem', 'no_more_50_words', 'id', '150_to_200_words'])\n",
      "dict_keys(['stem', 'no_more_50_words', 'id', '150_to_200_words'])\n",
      "dict_keys(['stem', 'no_more_50_words', 'id', '150_to_200_words'])\n",
      "dict_keys(['stem', 'no_more_50_words', 'id', '150_to_200_words'])\n",
      "dict_keys(['stem', 'no_more_50_words', 'id', '150_to_200_words'])\n",
      "dict_keys(['stem', 'no_more_50_words', 'id', '150_to_200_words'])\n",
      "dict_keys(['stem', 'no_more_50_words', 'id', '150_to_200_words'])\n",
      "dict_keys(['stem', 'no_more_50_words', 'id', '150_to_200_words'])\n",
      "dict_keys(['stem', 'no_more_50_words', 'id', '150_to_200_words'])\n",
      "dict_keys(['stem', 'no_more_50_words', 'id', '150_to_200_words'])\n",
      "dict_keys(['stem', 'no_more_50_words', 'id', '150_to_200_words'])\n",
      "dict_keys(['stem', 'no_more_50_words', 'id', '150_to_200_words'])\n",
      "dict_keys(['stem', 'no_more_50_words', 'id', '150_to_200_words'])\n",
      "dict_keys(['stem', 'no_more_50_words', 'id', '150_to_200_words'])\n",
      "dict_keys(['stem', 'no_more_50_words', 'id', '150_to_200_words'])\n",
      "dict_keys(['stem', 'no_more_50_words', 'id', '150_to_200_words'])\n",
      "dict_keys(['stem', 'no_more_50_words', 'id', '150_to_200_words'])\n",
      "dict_keys(['stem', 'no_more_50_words', 'id', '150_to_200_words'])\n",
      "dict_keys(['stem', 'no_more_50_words', 'id', '150_to_200_words'])\n",
      "dict_keys(['stem', 'no_more_50_words', 'id', '150_to_200_words'])\n",
      "dict_keys(['stem', 'no_more_50_words', 'id', '150_to_200_words'])\n",
      "dict_keys(['stem', 'no_more_50_words', 'id', '150_to_200_words'])\n",
      "dict_keys(['stem', 'no_more_50_words', 'id', '150_to_200_words'])\n",
      "dict_keys(['stem', 'no_more_50_words', 'id', '150_to_200_words'])\n",
      "dict_keys(['stem', 'no_more_50_words', 'id', '150_to_200_words'])\n",
      "dict_keys(['stem', 'no_more_50_words', 'id', '150_to_200_words'])\n",
      "dict_keys(['stem', 'no_more_50_words', 'id', '150_to_200_words'])\n",
      "dict_keys(['stem', 'no_more_50_words', 'id', '150_to_200_words'])\n",
      "dict_keys(['stem', 'no_more_50_words', 'id', '150_to_200_words'])\n",
      "dict_keys(['stem', 'no_more_50_words', 'id', '150_to_200_words'])\n",
      "dict_keys(['stem', 'no_more_50_words', 'id', '150_to_200_words'])\n",
      "dict_keys(['stem', 'no_more_50_words', 'id', '150_to_200_words'])\n",
      "dict_keys(['stem', 'no_more_50_words', 'id', '150_to_200_words'])\n",
      "dict_keys(['stem', 'no_more_50_words', 'id', '150_to_200_words'])\n",
      "dict_keys(['stem', 'no_more_50_words', 'id', '150_to_200_words'])\n",
      "dict_keys(['stem', 'no_more_50_words', 'id', '150_to_200_words'])\n",
      "dict_keys(['stem', 'no_more_50_words', 'id', '150_to_200_words'])\n",
      "dict_keys(['stem', 'no_more_50_words', 'id', '150_to_200_words'])\n",
      "dict_keys(['stem', 'no_more_50_words', 'id', '150_to_200_words'])\n",
      "dict_keys(['stem', 'no_more_50_words', 'id', '150_to_200_words'])\n",
      "dict_keys(['stem', 'no_more_50_words', 'id', '150_to_200_words'])\n",
      "dict_keys(['stem', 'no_more_50_words', 'id', '150_to_200_words'])\n",
      "dict_keys(['stem', 'no_more_50_words', 'id', '150_to_200_words'])\n",
      "dict_keys(['stem', 'no_more_50_words', 'id', '150_to_200_words'])\n",
      "dict_keys(['stem', 'no_more_50_words', 'id', '150_to_200_words'])\n",
      "dict_keys(['stem', 'no_more_50_words', 'id', '150_to_200_words'])\n",
      "dict_keys(['stem', 'no_more_50_words', 'id', '150_to_200_words'])\n",
      "dict_keys(['stem', 'no_more_50_words', 'id', '150_to_200_words'])\n",
      "dict_keys(['stem', 'no_more_50_words', 'id', '150_to_200_words'])\n",
      "dict_keys(['stem', 'no_more_50_words', 'id', '150_to_200_words'])\n",
      "dict_keys(['stem', 'no_more_50_words', 'id', '150_to_200_words'])\n",
      "dict_keys(['stem', 'no_more_50_words', 'id', '150_to_200_words'])\n",
      "dict_keys(['stem', 'no_more_50_words', 'id', '150_to_200_words'])\n",
      "dict_keys(['stem', 'no_more_50_words', 'id', '150_to_200_words'])\n",
      "dict_keys(['stem', 'no_more_50_words', 'id', '150_to_200_words'])\n",
      "dict_keys(['stem', 'no_more_50_words', 'id', '150_to_200_words'])\n",
      "dict_keys(['stem', 'no_more_50_words', 'id', '150_to_200_words'])\n",
      "dict_keys(['stem', 'no_more_50_words', 'id', '150_to_200_words'])\n",
      "dict_keys(['stem', 'no_more_50_words', 'id', '150_to_200_words'])\n",
      "dict_keys(['stem', 'no_more_50_words', 'id', '150_to_200_words'])\n"
     ]
    }
   ],
   "source": [
    "import glob\n",
    "import json\n",
    "import pdb\n",
    "chatgpt_50_100_rationales_dir = \"./chatgpt_rationales/200_250_text003\"\n",
    "file_list = glob.glob(\"{}/*.json\".format(chatgpt_50_100_rationales_dir))\n",
    "chatgpt_rationales_dict = {}\n",
    "for file in file_list:\n",
    "    with open(file, 'r') as f:\n",
    "        da = json.load(f)\n",
    "        print(da.keys())\n",
    "        chatgpt_rationales_dict[da['id']] = da['150_to_200_words']\n",
    "        #pdb.set_trace()"
   ]
  },
  {
   "cell_type": "code",
   "execution_count": 19,
   "id": "d9681ea9",
   "metadata": {},
   "outputs": [],
   "source": [
    "def list2dict(refine_data):\n",
    "    refine_data_dict={}\n",
    "    for key in refine_data[0].keys():\n",
    "        refine_data_dict[key]=[x[key] for x in refine_data]\n",
    "    return refine_data_dict\n",
    "\n",
    "select_refine_train_data = []\n",
    "for da in refine_train_data:\n",
    "    #pdb.set_trace()\n",
    "    if da['id'] in chatgpt_rationales_dict.keys():\n",
    "        da['our_explanation'] = chatgpt_rationales_dict[da['id']]\n",
    "        select_refine_train_data.append(da) \n",
    "        \n",
    "select_refine_train_data_dict = list2dict(select_refine_train_data)\n",
    "our_data_splits['train'] = datasets.Dataset.from_dict(select_refine_train_data_dict).shuffle().select(range(96))\n",
    "\n",
    "refine_dev_data_dict = list2dict(refine_dev_data)\n",
    "our_data_splits['dev'] = datasets.Dataset.from_dict(refine_dev_data_dict)\n",
    "\n",
    "refine_test_data_dict = list2dict(refine_test_data)\n",
    "our_data_splits['test'] = datasets.Dataset.from_dict(refine_test_data_dict)\n",
    "\n"
   ]
  },
  {
   "cell_type": "code",
   "execution_count": 20,
   "id": "53ab0e1a",
   "metadata": {},
   "outputs": [],
   "source": [
    "import datasets\n",
    "class SequenceCollator:\n",
    "    def __init__(self, pad_token):\n",
    "        # self.pad_token_mapping = {\n",
    "        #     \"lm_labels\": -100,\n",
    "        #     \"attention_mask\": 0,\n",
    "        #     \"decoder_attention_mask\": 0,\n",
    "        #     \"input_ids\": pad_token,\n",
    "        # }\n",
    "        # self.columns = [\n",
    "        #     \"input_ids\",\n",
    "        #     \"attention_mask\",\n",
    "        #     \"lm_labels\",\n",
    "        #     \"decoder_attention_mask\",\n",
    "        # ]\n",
    "        self.pad_token_mapping = {\n",
    "            \"labels\": -100,\n",
    "            \"attention_mask\": 0,\n",
    "            \"decoder_attention_mask\": 0,\n",
    "            \"input_ids\": pad_token,\n",
    "        }\n",
    "        self.columns = [\n",
    "            \"input_ids\",\n",
    "            \"attention_mask\",\n",
    "            \"labels\",\n",
    "            \"decoder_attention_mask\",\n",
    "        ]\n",
    "\n",
    "    def collate_batch(self, examples):\n",
    "\n",
    "        # batch inputs for training\n",
    "        batch = {}\n",
    "        for key in examples[0].keys():\n",
    "            if key in self.columns:\n",
    "                tmp_list = []\n",
    "                for item in examples:\n",
    "                    tmp_list.append(item[key])\n",
    "\n",
    "                # pad lists to max length\n",
    "                if isinstance(tmp_list[0], list):\n",
    "                    max_length = max(map(len, tmp_list))\n",
    "                    tmp_list = [\n",
    "                        el + [self.pad_token_mapping[key]] * (max_length - len(el))\n",
    "                        for el in tmp_list\n",
    "                    ]\n",
    "\n",
    "                batch[key] = torch.tensor(tmp_list, dtype=torch.long)\n",
    "        return batch\n",
    "    \n",
    "    def __call__(self, examples: List[Dict[str, InputDataClass]]) -> Dict[str, torch.Tensor]:\n",
    "        # re-format inputs for training\n",
    "        batch = {}\n",
    "        for key in examples[0].keys():\n",
    "            if key in self.columns:\n",
    "                tmp_list = []\n",
    "                for item in examples:\n",
    "                    tmp_list.append(item[key])\n",
    "\n",
    "                # pad lists to max length\n",
    "                if isinstance(tmp_list[0], list):\n",
    "                    max_length = max(map(len, tmp_list))\n",
    "                    tmp_list = [\n",
    "                        el + [self.pad_token_mapping[key]] * (max_length - len(el))\n",
    "                        for el in tmp_list\n",
    "                    ]\n",
    "\n",
    "                batch[key] = torch.tensor(tmp_list, dtype=torch.long)\n",
    "        return batch\n",
    "# dataset = datasets.load_dataset(data_args.task_name, data_args.version_name)"
   ]
  },
  {
   "cell_type": "code",
   "execution_count": 21,
   "id": "219866fe",
   "metadata": {},
   "outputs": [
    {
     "data": {
      "application/json": {
       "ascii": false,
       "bar_format": null,
       "colour": null,
       "elapsed": 0.012593269348144531,
       "initial": 0,
       "n": 0,
       "ncols": null,
       "nrows": 60,
       "postfix": null,
       "prefix": "",
       "rate": null,
       "total": 96,
       "unit": "ex",
       "unit_divisor": 1000,
       "unit_scale": false
      },
      "application/vnd.jupyter.widget-view+json": {
       "model_id": "733be016c1004abc92257b04fd2fab28",
       "version_major": 2,
       "version_minor": 0
      },
      "text/plain": [
       "  0%|          | 0/96 [00:00<?, ?ex/s]"
      ]
     },
     "metadata": {},
     "output_type": "display_data"
    },
    {
     "data": {
      "application/json": {
       "ascii": false,
       "bar_format": null,
       "colour": null,
       "elapsed": 0.012626171112060547,
       "initial": 0,
       "n": 0,
       "ncols": null,
       "nrows": 60,
       "postfix": null,
       "prefix": "",
       "rate": null,
       "total": 986,
       "unit": "ex",
       "unit_divisor": 1000,
       "unit_scale": false
      },
      "application/vnd.jupyter.widget-view+json": {
       "model_id": "03cf9414c4fe44108e2a02680067f284",
       "version_major": 2,
       "version_minor": 0
      },
      "text/plain": [
       "  0%|          | 0/986 [00:00<?, ?ex/s]"
      ]
     },
     "metadata": {},
     "output_type": "display_data"
    },
    {
     "data": {
      "application/json": {
       "ascii": false,
       "bar_format": null,
       "colour": null,
       "elapsed": 0.012819051742553711,
       "initial": 0,
       "n": 0,
       "ncols": null,
       "nrows": 60,
       "postfix": null,
       "prefix": "",
       "rate": null,
       "total": 255,
       "unit": "ex",
       "unit_divisor": 1000,
       "unit_scale": false
      },
      "application/vnd.jupyter.widget-view+json": {
       "model_id": "a5b87b446c6246cc8b3e37efb75bb2e6",
       "version_major": 2,
       "version_minor": 0
      },
      "text/plain": [
       "  0%|          | 0/255 [00:00<?, ?ex/s]"
      ]
     },
     "metadata": {},
     "output_type": "display_data"
    }
   ],
   "source": [
    "# seq_collector = SequenceCollator(0)\n",
    "# train_ds = seq_collector.__call__(dataset['train'])\n",
    "# train_ds\n",
    "# dataset['train'][0].keys()\n",
    "for split in ['train','dev','test']:\n",
    "    our_data_splits[split] = our_data_splits[split].map(\n",
    "            lambda x: format_instance(\n",
    "                x,\n",
    "                tokenizer,\n",
    "                data_args.explanation_sep,\n",
    "                datasource=data_args.task_name,\n",
    "                io_format=data_args.io_format\n",
    "            ),\n",
    "            batched=False,\n",
    "            load_from_cache_file=False,\n",
    "        )"
   ]
  },
  {
   "cell_type": "code",
   "execution_count": null,
   "id": "0c120e04",
   "metadata": {},
   "outputs": [],
   "source": []
  },
  {
   "cell_type": "code",
   "execution_count": 22,
   "id": "81048fad",
   "metadata": {},
   "outputs": [],
   "source": [
    "chatGPT_rationales = [\n",
    "    \"A cup is a common vessel used for holding and drinking liquids, such as water, coffee, or tea. When you want to get yourself a drink, you might typically get a cup from a cabinet or other storage area in order to hold the drink. A cup is a convenient and practical choice for getting a drink because it is easy to hold and use, and it can hold a reasonable amount of liquid. There are many different types of cups available, including ceramic, glass, plastic, and metal cups, each with their own unique features and benefits. Whether you are at home, at work, or out in public, a cup is a handy item to have on hand when you need to quench your thirst.\",\n",
    "    \"A front yard is the lawn that is typically located in front of a house, near the street. The front yard is the part of the property that is visible from the street and is often used for decorative purposes, such as landscaping or gardening. Many people take pride in their front yards and may spend time and resources maintaining and improving them. The front yard is often the first thing that visitors see when they arrive at a house, and it can make a strong impression on them. In contrast, the back yard is typically located behind the house and is often used for more practical purposes, such as outdoor recreation or gardening.\",\n",
    "    \"A swimming pool is a recreational water feature that is typically used for swimming and other aquatic activities. While shallow water, such as that found in a kiddie pool or a shallow end of a pool, can be enjoyable for some people, it may not be sufficient for many summer activities. A swimming pool that is deep enough for diving and other activities is more likely to provide more opportunities for summer fun. In addition, a swimming pool that is clean and chlorinated is more likely to be safe and enjoyable for swimming, as it will be free of contaminants and bacteria that can cause illness.\",\n",
    "    \"In most places, it is illegal for people under the age of 21 to purchase or consume alcohol. This is because alcohol can have negative effects on the developing brain and body of young people. It can also contribute to risky behaviors and accidents. Therefore, many governments have set a minimum age for alcohol consumption and purchase to help protect the health and safety of young people. If someone is under the age of 21 and attempts to purchase alcohol, they may be denied the sale or face legal consequences. It is important for young people to understand and adhere to the laws and regulations regarding the purchase and consumption of alcohol in their area.\",\n",
    "    \"When someone shaves, they typically use a razor to remove hair from their face or body. The process of shaving can leave a lot of hair in the sink, as the hair is trimmed off and falls into the sink as it is being shaved. It is common for people to shave in the bathroom, where a sink is typically located. The sink provides a convenient place to rinse the razor and wash off any excess hair or shaving cream. It is important to clean the sink after shaving to remove any hair and prevent clogs in the drain.\",\n",
    "    \"A hamburger is a type of sandwich that consists of a cooked patty of ground meat, typically beef, placed between two slices of bread or a bun. Hamburgers are often served with various toppings, such as lettuce, tomato, onion, cheese, and condiments like ketchup and mustard. However, if someone is suffering from great hunger, they may not care about the toppings and just want to eat the hamburger itself. In this case, the person may be more focused on satisfying their hunger and getting nourishment rather than worrying about additional ingredients or flavors.\",\n",
    "    \"If a person notices popcorn and cotton candy on the grass, they are likely at fairgrounds. Fairgrounds are outdoor areas that are used for hosting fairs and other events, such as carnivals, festivals, and exhibitions. These events often feature food stalls and vendors that sell a variety of treats, including popcorn and cotton candy. Popcorn and cotton candy are both popular carnival foods that are often sold at fairs and other events. The presence of these foods on the ground at fairgrounds suggests that a fair or similar event is taking place there.\",\n",
    "    \"When snow on a mountain becomes heavy, it can trigger an avalanche. An avalanche is a rapid flow of snow down a slope, often triggered by the weight of the snow or external factors such as a change in temperature. Avalanches can be dangerous and destructive, as they can bury and sweep away anything in their path, including people, buildings, and vehicles. Avalanches can occur on any slope with a steep enough incline and a sufficient amount of snow. They are most common on mountains, but they can also occur in other snowy areas, such as forests or valleys. It is important for people to be aware of the risk of avalanches and to take precautions when traveling in areas prone to avalanches.\",\n",
    "    \"A police officer typically reports their work through the use of case reports or incident reports. These reports are written documents that detail the events of a specific case or incident that the officer has worked on. Case reports or incident reports typically include information such as the date and time of the incident, the location, the people involved, and the actions taken by the officer. They may also include witness statements, evidence collected, and any other relevant details. Case reports or incident reports are used by police officers to document their work and provide a record of the incidents they have dealt with. They are also used by supervisors and other authorities to review and evaluate the performance of the officer and the effectiveness of their actions.\",\n",
    "    \"Teachers play many roles in the lives of their students, including mentor, counselor, and role model. However, they get the most out of their job by simply teaching children. Teaching children is the primary responsibility of a teacher, and it is what they are trained and paid to do. Teaching involves imparting knowledge, skills, and values to students, and helping them to develop the skills and habits they need to succeed in life. Teachers have the opportunity to make a positive impact on the lives of their students by providing them with a strong foundation in academic subjects and helping them to become curious, engaged learners. Teachers often derive a great deal of satisfaction from helping their students to achieve their potential and succeed in their studies.\",\n",
    "    \"A person might go to get counseling for a variety of reasons. One reason is to better understand themselves. Counseling can provide a safe and supportive environment for individuals to explore their thoughts, feelings, and behaviors, and to gain insight into why they act and feel the way they do. Counseling can also help a person to identify and work through any underlying issues or challenges that may be causing them distress or hindering their personal growth. Through counseling, a person can learn more about themselves and how to navigate their emotions and relationships more effectively. Counseling can be particularly helpful for individuals who are struggling with mental health issues, relationship problems, or other personal challenges.\",\n",
    "    \"If the kids wanted to cool off, they might go swimming as a way to refresh and beat the heat. Swimming is a fun and enjoyable activity that can provide relief from hot weather and help to cool the body. Swimming can also provide a great workout and has numerous health benefits, such as improving cardiovascular fitness and flexibility. There are many different places where kids can go swimming, such as pools, lakes, rivers, or the ocean. No matter where they go, kids can have fun and cool off while enjoying the water.\",\n",
    "    \"When remembering a tragedy in the past, many people may feel depressed. Depression is a common emotional reaction to experiencing a traumatic or stressful event, such as a tragedy. Depression is a mental health disorder characterized by persistent feelings of sadness, hopelessness, and low energy. It can also cause physical symptoms such as changes in appetite and sleep patterns, fatigue, and difficulty concentrating. Remembering a tragedy can be emotionally difficult and may trigger feelings of sadness, grief, and guilt. It is important for people who are struggling with depression to seek support and treatment to help manage their symptoms and improve their mental health.\",\n",
    "    \"Death Valley is a national park located in the Mojave Desert, in the state of California, United States. It is situated on the North American continent. The North American continent is one of the seven continents of the world and is located in the western hemisphere. It is the third largest continent in terms of land area, after Asia and Africa, and is home to a diverse range of cultures, languages, and environments. Death Valley is known for its extreme desert climate and is the lowest, hottest, and driest place in North America. It is a popular destination for tourists, who come to see its unique geological features, such as sand dunes, salt flats, and canyons.\",\n",
    "    \"When in a serious relationship, understanding better requires effort. Relationships require effort and work to maintain and grow. In order to understand your partner better, you need to be willing to put in the time and effort to communicate with them, listen to their perspectives, and try to see things from their point of view. This may involve asking questions, expressing your own feelings and needs, and being open to feedback and compromise. Understanding your partner better can help to strengthen the bond between you and improve the quality of your relationship. It is important to remember that relationships are dynamic and evolving, and that ongoing communication and effort are necessary to maintain a healthy and fulfilling relationship.\",\n",
    "    \"Cats are able to make a variety of vocalizations, including meows, purrs, and growls, as a way of communicating with humans and other animals. Cats use these vocalizations to convey a range of emotions and needs, such as hunger, happiness, or discomfort. Meowing is a common vocalization that cats use to communicate with humans. Cats may meow when they want attention, food, or to be let outside. Cats may also meow when they are feeling anxious or stressed. Although cats cannot talk in the same way that humans do, they are skilled at using their voices to communicate with their owners and other animals.\",\n",
    "    \"If you need a vessel that is similar to a battleship but faster, you might consider using a corvette. A corvette is a small, fast warship that is typically used for convoy escort, patrol, and other shallow water duties. Corvettes are generally smaller and less heavily armed than battleships, but they are more agile and have a higher speed. They are typically equipped with a variety of weapons, including guns, missiles, and torpedoes, and are used for defending against enemy ships and aircraft. Corvettes are often used for coastal defense, as well as for patrolling and enforcing maritime laws. They are capable of operating in a variety of environments, including open ocean and littoral (nearshore) waters.\",\n",
    "    \"Water in the sky comes from rain clouds. Rain clouds are clouds that form when moist air rises and cools, forming tiny water droplets that condense around particles in the air. As the droplets grow, they eventually become heavy enough to fall from the cloud as rain. Rain clouds are typically gray or white in color and are often accompanied by other types of clouds, such as cumulus or stratocumulus clouds. Rain clouds can form in a variety of ways, such as when warm, moist air from the ground rises and cools, or when moist air from the ocean is carried inland by the wind. Rain clouds can be found in many parts of the world and are a common source of precipitation, especially during the warmer months.\",\n",
    "    \"If John rented a hotel room while on a business trip and it was a company-sponsored event, it is possible that the hotel was a resort. Resorts are hotels or vacation properties that offer a variety of amenities and activities for guests, such as swimming pools, golf courses, spas, and restaurants. They are often located in scenic or recreational areas and are designed to provide a relaxing and enjoyable experience for guests. Many resorts offer conference and meeting facilities and are popular destinations for business events and retreats. If John's company sponsored the business trip and provided the hotel accommodations, it is likely that they chose a resort with the amenities and facilities needed to support the event.\",\n",
    "    \"An expressway might leave the United States and go to Canada. The United States and Canada are neighboring countries that share a border, and there are several expressways that cross the border between the two countries. Expressways are high-speed, limited-access roads that are designed for fast and efficient travel. They typically have multiple lanes and may include features such as grade separations, interchanges, and controlled access points. Expressways are used for long-distance travel and are often the main routes connecting major cities and regions. If an expressway leaves the United States, it is likely that it is heading towards Canada, which is located to the north of the United States.\",\n",
    "    \"If you were walking on a sidewalk near a small corner shop run by John, you would look for it on the street corner. A corner shop is a small retail store that is typically located at the intersection of two streets. It is often a convenience store or a neighborhood shop that sells a variety of goods, such as groceries, household items, and other supplies. Corner shops are often located in busy urban areas, where they are easily accessible to pedestrians and motorists. If you were walking on a sidewalk near a corner shop, you would look for it at the intersection of the street where you are walking and another street. The shop is likely to be located in a building on the corner, with windows and doors facing the street.\",\n",
    "    \"One way that a company can efficiently sell things to their customers is through mail order. Mail order is a method of selling goods or services by advertising them in a catalog or other publication and allowing customers to place orders by mail, telephone, or online. Mail order is a convenient and efficient way for companies to reach a wide customer base, as it allows them to sell products to customers who may not be located near their physical store or who may not have the time or inclination to shop in person. Mail order companies typically have a centralized warehouse or distribution center where orders are processed and shipped to customers. They may also offer options such as easy returns and exchanges, as well as customer service support to assist with any questions or issues that customers may have.\",\n",
    "    \"If he enjoyed the factory work and liked the idea that he did it for sale, it is likely that he enjoyed producing goods. Factory work typically involves the production of goods, such as products or materials, using machines, tools, and other equipment. Factory workers are responsible for operating and maintaining the equipment and ensuring that the goods being produced meet quality standards. The goods produced in a factory may be sold directly to consumers or to other businesses, and may be used for a variety of purposes, such as manufacturing, construction, or distribution. If a person enjoys factory work, they may find satisfaction in the idea that they are contributing to the production of goods that will be sold and used by others.\",\n",
    "    \"If returning to work was easy for Dan after his treatment and he was completely painless, it is likely that he had undergone some form of medical treatment or therapy to address a health issue or injury. Painless indicates that Dan was no longer experiencing pain or discomfort, which may have been a result of the treatment or therapy he received. It is not clear from the information provided what specific health issue or injury Dan was dealing with, or what treatment or therapy he received. However, it is possible that Dan was able to return to work more easily after his treatment because he was feeling better and was no longer experiencing any pain or discomfort.\",\n",
    "    \"If index cards were on display at the museum, it is likely that the museum was a library. Libraries are institutions that provide access to a wide range of resources, including books, periodicals, and other printed materials, as well as digital resources such as e-books, databases, and online research tools. Libraries often have exhibits and displays of various types of materials, including rare or unique items, and may have special collections or archives that are of particular interest to researchers or historians. Index cards are small, rectangular pieces of paper that are used for organizing information, such as names, dates, or research notes. They may be used in a variety of settings, including libraries, offices, and schools. If index cards were on display at the museum, it is possible that they were part of a historical exhibit or collection related to the history of libraries or research.\",\n",
    "    \"If she was a human in America who wanted to live well, it is likely that the given for her situation was the need for money. In general, money is an important factor in enabling people to live well and meet their basic needs and desires. Money allows people to purchase the goods and services that they need to sustain themselves and their families, such as food, clothing, housing, and healthcare. It also enables people to pursue their interests and hobbies, travel, and engage in various forms of leisure and entertainment. In America, and in many other countries around the world, the cost of living can be high, and people often need to earn and save money in order to achieve a desired standard of living. As such, the need for money is a given for many people in order to live well.\",\n",
    "    \"A place that could have one back garden is a house. A garden is a piece of land that is used for growing plants, flowers, vegetables, or other types of vegetation. Gardens can be found in a variety of settings, including residential properties, public parks, and commercial properties. A house is a building that is used as a dwelling for one or more people, and it typically includes living spaces, such as bedrooms, bathrooms, and a kitchen, as well as outdoor areas, such as a front yard, side yard, and back yard. A back yard is a private outdoor space that is typically located behind a house and is often used for recreational or leisure activities, such as gardening, grilling, or playing games. If a house has a back garden, it is likely that the garden is located in the back yard.\",\n",
    "    \"People gather at a football stadium to see large men in pads play a game where they run and smash into each other. Football is a popular sport that is played on a rectangular field by two teams of eleven players. The game involves running, passing, and tackling, and players wear pads and other protective gear to reduce the risk of injury. Football is a physical and intense sport, and players often collide with each other at high speeds. Football stadiums are large, open-air facilities that are designed to host football games and other sporting events. They typically have a grass or artificial turf field, seating for spectators, and a variety of amenities, such as concessions stands, restrooms, and VIP areas. Football stadiums are popular places for people to gather and watch football games, and they can be found in cities and towns throughout the world.\",\n",
    "    \"One place where someone can get a flute is a musical instrument store. A musical instrument store is a retail establishment that specializes in selling musical instruments and related accessories. They may carry a wide range of instruments, including brass instruments, woodwind instruments, string instruments, percussion instruments, and keyboards. Flutes are woodwind instruments that are played by blowing air into a narrow opening and producing sound by vibrating the lips against a metal or wooden reed. They are popular instruments that are used in a variety of musical styles, including classical, jazz, and folk music. If someone is looking to purchase a flute, they may be able to find a selection of flutes at a musical instrument store. In addition to flutes, musical instrument stores may also offer a variety of other instruments, as well as sheet music, instructional materials, and accessories such as cases, stands, and cleaning supplies.\",\n",
    "    \"It is not clear what someone who has a greed for energy would do. The word greed typically refers to an excessive or insatiable desire for wealth, power, or material possessions. It is not clear how this concept would relate to energy or how it might influence someone's actions. It is possible that someone who has a lot of energy or who is very active might have a high appetite for food and might seek out sources of fuel or nutrition to sustain their energy levels. In this case, they might buy food as a way to obtain the energy they need. However, it is not accurate to say that someone who has a greed for energy would necessarily do this. It is important to note that the concept of greed is generally considered to be negative, as it suggests an unhealthy or unsustainable desire for something.\",\n",
    "    \"A forklift is a type of industrial vehicle that is used for moving and lifting heavy loads, such as pallets, crates, and boxes. Forklifts are equipped with a hydraulic lift mechanism and a set of prongs or forks that can be used to lift and transport loads. They are commonly used in warehouses and other distribution centers to move and stack materials, such as boxes, onto shelves or other storage areas. If you were using a forklift to stack boxes onto shelves, it is likely that you were in a warehouse or a similar facility. Warehouses are large, commercial buildings that are used for storing and distributing goods. They often have high ceilings, wide aisles, and multiple levels, and they may be equipped with a variety of material handling equipment, such as forklifts, conveyor belts, and cranes, to facilitate the movement and storage of goods.\",\n",
    "    \"You are likely to receive mouthwash in a little paper cup at a dentist's office. Dentist's offices are healthcare facilities that are staffed by dentists and other dental professionals, and they are used for the diagnosis and treatment of dental problems and the maintenance of oral health. One common practice at a dentist's office is to rinse the mouth with mouthwash, which is a liquid that is used to freshen breath, kill bacteria, and reduce the risk of gum disease and other oral health issues. Mouthwash is typically used after brushing and flossing to help remove any remaining food particles or plaque from the mouth. It may be dispensed in a little paper cup, which can be used to rinse the mouth and then disposed of after use.\",\n",
    "    \"A doctor's office can help you with an illness. A doctor's office is a healthcare facility that is staffed by medical doctors and other healthcare professionals, and it is used for the diagnosis and treatment of medical conditions and the maintenance of overall health. If you are experiencing an illness, such as a cold, flu, or more serious health issue, you may visit a doctor's office to seek medical care and treatment. At a doctor's office, you may receive a physical examination, diagnostic tests, and other forms of medical treatment, depending on the nature of your illness and your specific needs. Doctors are trained to diagnose and treat a wide range of medical conditions, and they can provide you with the care and support you need to recover from your illness and get back to good health.\",\n",
    "    \"A bug looking for wildflowers and no human interruption might go to a meadow. A meadow is a grassland area that is characterized by its open, grassy landscape and the presence of wildflowers and other types of vegetation. Meadows can be found in a variety of settings, including rural areas, forests, and parkland, and they are often home to a variety of animal and plant species. Because meadows are relatively undisturbed by human activity, they can be a good place for a bug to find wildflowers and other types of plants without interference from humans. Meadows are often considered to be peaceful, serene places, and they may be attractive to a bug that is seeking a quiet, natural environment in which to explore and forage.\",\n",
    "    \"If a bride and groom are taking care of proposals, the likely ceremony is a marriage. A marriage is a formal union between two people that is recognized by law and typically involves a public ceremony and the exchange of vows. A marriage proposal is a request for someone to marry another person, and it is typically made by one partner to the other. The process of planning a marriage often involves taking care of a variety of details and arrangements, such as choosing a venue, selecting a date, inviting guests, and organizing the ceremony and reception. If a bride and groom are taking care of proposals, it is likely that they are in the process of planning their marriage and preparing for the wedding ceremony.\",\n",
    "    \"You could put some olives in a jar to prevent them from getting nearby food wet. A jar is a container that is typically made of glass or ceramic and has a wide mouth and a secure, tight-fitting lid. Jars are often used for storing food items, such as olives, pickles, jams, and other types of preserved or dried goods. Because they have a sealed lid, jars can help to keep food fresh and prevent it from coming into contact with air or other substances that might spoil or contaminate it. If you want to prevent olives from getting nearby food wet, you could put them in a jar and close the lid to create an airtight seal. This would help to keep the olives separate from other foods and prevent them from coming into contact with moisture or other liquids.\",\n",
    "    \"If the graveyard was zoned by the pastor, it is likely that it was located on church property. Church property refers to land or buildings that are owned by a church or religious organization. This may include the main church building, as well as other structures such as a rectory, school, or community center. Church property may also include a graveyard or cemetery, which is a place where people are buried after they die. Pastors, who are ordained leaders in a church, often play a central role in the management and oversight of church property, and they may be responsible for zoning or designating areas within the property for specific purposes, such as a graveyard or a garden. If the pastor has zoned the graveyard, it is likely that it is located on church property and is being used as a place for burial by members of the church or community.\",\n",
    "    \"If a family wanted to live with carpeting, they may have ended up putting it in their houses. Houses are structures that are designed and built to be used as homes, and they typically have a number of rooms that are used for different purposes, such as sleeping, cooking, eating, and relaxing. Carpeting is a type of floor covering that is made of soft, flexible materials, such as wool, nylon, or polypropylene, and it is often used in houses to provide warmth, comfort, and insulation. If a family wanted to live with carpeting, they may have chosen to install carpeting in some or all of the rooms in their houses, in order to create a warm and cozy atmosphere and to improve the overall comfort and livability of their homes.\",\n",
    "    \"If a boss likes an employee's ambition, the employee may be put in charge of a project. A project is a specific task or set of tasks that is undertaken in order to achieve a specific goal or objective. Projects may be large or small, complex or simple, and they may involve a wide range of activities, such as research, design, development, testing, and implementation. If an employee is ambitious and demonstrates a strong desire to succeed and make a positive contribution to their organization, their boss may choose to put them in charge of a project, in order to give them the opportunity to demonstrate their skills and abilities and to take on more responsibility. Being put in charge of a project can be a challenging and rewarding experience, and it may provide an employee with the chance to learn new things, develop their skills, and make a meaningful contribution to their organization.\",\n",
    "    \"A county highway can be viewed as a line on a map. A map is a graphic representation of an area or region that shows the locations of various features, such as roads, rivers, mountains, and cities. Maps are often used to help people navigate and find their way around unfamiliar places, and they can be very useful for understanding the layout and geography of an area. County highways are roads that are maintained and operated by a county or local government, and they are typically used for local travel and transportation within a county or region. On a map, a county highway may be represented as a line, with a specific color or symbol used to indicate its location and route. By viewing a county highway as a line on a map, it is possible to get a sense of the route and layout of the road, and to use the map to plan a journey or navigate to a specific destination.\",\n",
    "    \"After going for a run, someone may feel tired. Running is a form of physical activity that involves moving quickly and continuously on foot, typically by running or jogging. It is a popular form of exercise that can help to improve cardiovascular fitness, build endurance, and strengthen the muscles of the legs and lower body. However, running can also be physically demanding, and it requires a certain level of fitness and stamina to be able to sustain the activity for an extended period of time. As a result, it is common for people to feel tired after going for a run, especially if they are not used to the activity or if they have pushed themselves to run for a longer distance or at a faster pace than usual. Tiredness after a run may be accompanied by other physical sensations, such as muscle fatigue, thirst, or a sense of accomplishment.\",\n",
    "    \"If a car was going from Florida to Ohio, it was heading north. Florida is a state in the southeastern region of the United States, and Ohio is a state in the midwestern region of the country. When traveling from Florida to Ohio, a person would need to go north in order to reach their destination. North is a direction that is opposite to south on a map or compass, and it is typically associated with higher latitude, colder climates, and longer nights. When traveling north, a person may encounter different landscapes, weather patterns, and cultural experiences than they would when traveling south, depending on the specific route and the distance traveled. By heading north from Florida to Ohio, a person would be leaving behind the warm, tropical climate of Florida and entering into a more temperate, mid-latitude region with cooler temperatures and a more diverse range of landscapes and ecosystems.\",\n",
    "    \"During a typical week, a teacher is likely to spend most of their time working in school. A teacher is a person who is trained and qualified to teach students in a school or educational setting, and their primary job is to provide instruction and guidance to help students learn and develop their skills and knowledge. Teachers may work in a variety of settings, including primary schools, secondary schools, and universities, and they may teach a wide range of subjects, including math, science, English, history, and the arts. In order to fulfill their duties as a teacher, a person is likely to spend most of their time working in a school or educational setting, where they will be responsible for preparing and delivering lessons, grading assignments, communicating with students and parents, and performing other tasks related to their job. Teachers typically work on a schedule that follows the school year, and they may work full-time or part-time, depending on their specific circumstances and the needs of their students.\",\n",
    "    \"In a predicament, an animal might choose to fight for its life as an alternative to fleeing. Predicament is a term that refers to a difficult or challenging situation, typically one that involves a choice or decision that needs to be made. When an animal finds itself in a predicament, it may have to decide how to respond in order to survive and protect itself. One option that an animal may have is to flee or run away from the situation in an effort to escape danger or avoid conflict. Another option that an animal may have is to fight for its life, using whatever means are available to defend itself and protect its survival. The choice that an animal makes in a predicament will depend on a variety of factors, including the specific nature of the situation, the animal's size, strength, and abilities, and the resources and options that are available to it.\",\n",
    "    \"It is not common for people to fight each other when they find a good deal. A good deal is typically defined as an opportunity to purchase something at a price that is lower than what it is usually worth, or to obtain a product or service that provides more value or benefits than what is expected. When people find a good deal, they may feel excited or pleased about the opportunity to save money or get more for their money, and they may take action to take advantage of the deal. However, it is generally not considered acceptable or appropriate for people to fight each other over a good deal or to engage in physical violence or aggression in order to obtain it. There are many other ways that people can express their interest in a good deal, such as by negotiating with the seller, making an offer, or simply making a purchase if the price is acceptable.\",\n",
    "    \"An altar is a platform or structure that is used for religious ceremonies, rituals, or worship. Altars are often found in places of worship, such as temples, churches, synagogues, mosques, and other religious buildings. When a person is standing in front of an altar, they are likely to be in a temple or other place of worship. Altars can be used for a variety of purposes in different religions and spiritual traditions, such as offering sacrifices, making offerings, praying, or performing other religious practices. They may be decorated with symbols, images, or other items that are significant to the religion or spiritual tradition that is being practiced. Altars may also be used as a place for people to meditate, reflect, or seek spiritual guidance.\",\n",
    "    \"Joe bought a bunch of grapes because he likes to use them to top his desserts. A dessert is a type of food that is typically served at the end of a meal, and it is usually sweet or rich in flavor. There are many different types of desserts that people enjoy, including cakes, cookies, ice cream, pie, and other sweet treats. One way that people may use grapes as a topping for their desserts is by placing them on top of a fruit pie, tart, or crisp. Grapes can add flavor and texture to a dessert, and they may also be used to decorate a dessert or to add visual appeal. Grapes are a versatile fruit that can be used in many different types of desserts, and they can be eaten fresh, frozen, or preserved in various ways.\",\n",
    "    \"Well water is water that is obtained from underground sources, typically through the use of a well. A well is a hole or shaft that is dug into the ground in order to access water that is contained in underground aquifers or other water-bearing formations. Well water is typically used for drinking, irrigation, and other purposes, and it is often considered to be of high quality because it is filtered and purified naturally as it flows through the ground. To obtain well water, a person can dig a well or have one dug by a professional well driller. The depth of the well will depend on the location and the geology of the area, and a pump or other mechanical system may be used to bring the water to the surface.\",\n",
    "]"
   ]
  },
  {
   "cell_type": "code",
   "execution_count": null,
   "id": "69fa8109",
   "metadata": {},
   "outputs": [],
   "source": []
  },
  {
   "cell_type": "code",
   "execution_count": 23,
   "id": "01fdee8d",
   "metadata": {},
   "outputs": [],
   "source": [
    "id_list = [\n",
    " '71519c19654251cced50c5718fd527c1',\n",
    " '44195d210c81c8c550174d0edbd3ad5d',\n",
    " '5a5da37b685ec9c6f15228128ce30437',\n",
    " 'cabdfc174953b4bdb8bdcc89d6592c74',\n",
    " 'eac3a4080127e8924034651b57dfa289',\n",
    " 'c0013f31657294b9b5ad819123513ca7',\n",
    " '2681697be70cd5425899ed6deb84b18a',\n",
    " '47f60340b869552e795fa6782224f3d2',\n",
    " '7e8a6eac93147eb52d8151bab7b40003',\n",
    " 'f34267f498c8a78383e35057fbcfa2ce',\n",
    " 'f024f923d78e5c0a4c0c4baa3ddccf05',\n",
    " 'e148c710d0c26849cf1f15293481038b',\n",
    " 'bdf437d7498815f36c255f64a8e6571c',\n",
    " '2282e0c80be28aadadb79a822fec9dac',\n",
    " 'bdd05e96876342b4b5999709439a7f4e',\n",
    " '494b8316614fc64c5c27757aeaffce23_1',\n",
    " 'c4494b402264250dc70931613d482295',\n",
    " 'fcfbf207c5586294fdce33b645b613f1',\n",
    " '9c583bcbe68989a644433302545fb31e',\n",
    " '0e684d779d98e6eecda167c10af42bbb',\n",
    " 'ac0462d09b9fddd40c3c77aedf48a870',\n",
    " '1dbfb41e04a10bdbb085bfe667c0df99',\n",
    " 'cd0c0ef3b8ce0eb09ff26823f6059be6',\n",
    " 'e6b67184b99375d05d3f2887f684c684',\n",
    " 'ae9f6f1e17b3fdd3a86b494933809f45',\n",
    " 'f149604169936a30b7e4c8d599d604b5',\n",
    " 'd7c8377953e0175ef57d59f3a8e63a8e',\n",
    " '1837216ac7745121b82a6491b2318c09',\n",
    " 'b5fe238d45e55ca5d802b7823ad390ef',\n",
    " 'b2fbeb0b48bd5e575af0f7dc24cdd85d',\n",
    " '9bdfb101c487ac598f6e4686cf774703',\n",
    " '206c7116ee2246180fcc0c5a1d0e7205',\n",
    " '5cd7f44bbf730dfae5ef2a362d2e5149',\n",
    " '45d0ea781ffd49b07d6eae94d47a8945',\n",
    " '89afdea1d76272fda8e1538a7d3b7a3f',\n",
    " '38a514fe54108527e1d6e89d9812da93',\n",
    " 'ebf347934a3e90ea46d3d87726fb5d25',\n",
    " '90226a6ecd7308ae1e6220a15ae24bc6',\n",
    " '5cae8057e75e3adf5c338a43b3ba97fb',\n",
    " '388a363c49e1b0aca8eaf18ccdde0caf',\n",
    " '9ed3af82152dfcd7000bf4631b095f71',\n",
    " '2d5805d894bba224c5fe91e70b8c0f77',\n",
    " 'd5aa464a16b72c9b9f3091abd461e3ef',\n",
    " '381b11c54be4cc432a95053ca34cbf6b',\n",
    " '807a3a2dabdd50ed0c76052fd2612632',\n",
    " '5172041c750d22e9a5081cc024de0fa6',\n",
    " 'd32a45ab3b751110d0578a78e54c0e64',\n",
    " '28ca5cbe27774746c34f6ebe84fc6d0c']"
   ]
  },
  {
   "cell_type": "code",
   "execution_count": null,
   "id": "51445c67",
   "metadata": {},
   "outputs": [],
   "source": []
  },
  {
   "cell_type": "code",
   "execution_count": 24,
   "id": "dabe3306",
   "metadata": {},
   "outputs": [],
   "source": [
    "# our_wrong_data_splits['dev']=[]\n",
    "# for x in our_data_splits['dev']:\n",
    "#     for ii in range(5):\n",
    "#         new_x={'id':x['id'], 'real_answer':x['answer'], \n",
    "#                'answer':x['choices'][ii], 'question':x['question'],\n",
    "#                'choices':x['choices'],\n",
    "#                'abstractive_explanation':x['abstractive_explanation'],\n",
    "#                'extractive_explanation':x['extractive_explanation'],\n",
    "#                'our_explanation':x['our_explanation']}\n",
    "#         our_wrong_data_splits['dev'].append(new_x)\n",
    "#     #print(x)\n",
    "#     #pdb.set_trace()\n",
    "# # wandb.init()\n",
    "# our_wrong_dev_data_dict = list2dict(our_wrong_data_splits['dev'])\n",
    "# our_wrong_data_splits['dev'] = datasets.Dataset.from_dict(our_wrong_dev_data_dict)"
   ]
  },
  {
   "cell_type": "code",
   "execution_count": 25,
   "id": "7b62bdf5",
   "metadata": {},
   "outputs": [],
   "source": [
    "# our_wrong_data_splits['train'][0],our_wrong_data_splits['train'][0].keys()\n",
    "# our_wrong_data_splits['train'] = our_wrong_data_splits['train'].map(\n",
    "#             lambda x: format_instance(\n",
    "#                 x,\n",
    "#                 tokenizer,\n",
    "#                 data_args.explanation_sep,\n",
    "#                 datasource=data_args.task_name,\n",
    "#                 io_format=data_args.io_format\n",
    "#             ),\n",
    "#             batched=False,\n",
    "#             load_from_cache_file=False,\n",
    "#         )"
   ]
  },
  {
   "cell_type": "code",
   "execution_count": 26,
   "id": "b421f892",
   "metadata": {},
   "outputs": [],
   "source": [
    "# for da in our_wrong_data_splits['dev']:\n",
    "#     print(\"*******\")\n",
    "#     print(\"question: {}\".format(da['question']))\n",
    "#     print(\"real_answer: {}\".format(da['real_answer']))\n",
    "#     print(\"answer: {}\".format(da['answer']))\n",
    "#     print(\"choices: {}\".format(da['choices']))\n",
    "#     print(\"our_explanation: {}\".format(da['our_explanation']))\n",
    "#     inp_ids = torch.tensor(da[\"input_ids\"], device=model.device).reshape(1, -1)\n",
    "#     out = model.generate(\n",
    "#                     inp_ids,\n",
    "#                     max_length=100,\n",
    "#                     pad_token_id=tokenizer.pad_token_id,\n",
    "#                     eos_token_id=tokenizer.eos_token_id,\n",
    "#                 )\n",
    "#     skip_special_tokens = False if \"infilling\" in data_args.io_format else True\n",
    "#     words = tokenizer.decode(out[0].tolist(), skip_special_tokens=skip_special_tokens)\n",
    "#     print(\"generated explanation: {}\".format(words))\n",
    "#     print(\"#######\")"
   ]
  },
  {
   "cell_type": "code",
   "execution_count": 27,
   "id": "dfa34701",
   "metadata": {},
   "outputs": [],
   "source": [
    "# our_wrong_data_splits['train'][0],our_wrong_data_splits['train'][0].keys()\n",
    "# our_wrong_data_splits['dev'] = our_wrong_data_splits['dev'].map(\n",
    "#             lambda x: format_instance(\n",
    "#                 x,\n",
    "#                 tokenizer,\n",
    "#                 data_args.explanation_sep,\n",
    "#                 datasource=data_args.task_name,\n",
    "#                 io_format=data_args.io_format\n",
    "#             ),\n",
    "#             batched=False,\n",
    "#             load_from_cache_file=False,\n",
    "#         )"
   ]
  },
  {
   "cell_type": "code",
   "execution_count": 28,
   "id": "2e6d6437",
   "metadata": {},
   "outputs": [],
   "source": [
    "# for da in our_wrong_data_splits['dev']:\n",
    "#     print(\"*******\")\n",
    "#     print(\"question: {}\".format(da['question']))\n",
    "#     print(\"real_answer: {}\".format(da['real_answer']))\n",
    "#     print(\"answer: {}\".format(da['answer']))\n",
    "#     print(\"choices: {}\".format(da['choices']))\n",
    "#     print(\"our_explanation: {}\".format(da['our_explanation']))\n",
    "#     inp_ids = torch.tensor(da[\"input_ids\"], device=model.device).reshape(1, -1)\n",
    "#     out = model.generate(\n",
    "#                     inp_ids,\n",
    "#                     max_length=100,\n",
    "#                     pad_token_id=tokenizer.pad_token_id,\n",
    "#                     eos_token_id=tokenizer.eos_token_id,\n",
    "#                 )\n",
    "#     skip_special_tokens = False if \"infilling\" in data_args.io_format else True\n",
    "#     words = tokenizer.decode(out[0].tolist(), skip_special_tokens=skip_special_tokens)\n",
    "#     print(\"generated explanation: {}\".format(words))\n",
    "#     print(\"#######\")"
   ]
  },
  {
   "cell_type": "code",
   "execution_count": 29,
   "id": "91605cfc",
   "metadata": {},
   "outputs": [],
   "source": [
    "# for da in our_wrong_data_splits['train']:\n",
    "#     print(\"*******\")\n",
    "#     print(\"question: {}\".format(da['question']))\n",
    "#     print(\"real_answer: {}\".format(da['real_answer']))\n",
    "#     print(\"answer: {}\".format(da['answer']))\n",
    "#     print(\"choices: {}\".format(da['choices']))\n",
    "#     print(\"our_explanation: {}\".format(da['our_explanation']))\n",
    "#     inp_ids = torch.tensor(da[\"input_ids\"], device=model.device).reshape(1, -1)\n",
    "#     out = model.generate(\n",
    "#                     inp_ids,\n",
    "#                     max_length=100,\n",
    "#                     pad_token_id=tokenizer.pad_token_id,\n",
    "#                     eos_token_id=tokenizer.eos_token_id,\n",
    "#                 )\n",
    "#     skip_special_tokens = False if \"infilling\" in data_args.io_format else True\n",
    "#     words = tokenizer.decode(out[0].tolist(), skip_special_tokens=skip_special_tokens)\n",
    "#     print(\"generated explanation: {}\".format(words))\n",
    "#     print(\"#######\")"
   ]
  },
  {
   "cell_type": "code",
   "execution_count": 30,
   "id": "cbc3e763",
   "metadata": {},
   "outputs": [],
   "source": [
    "# import wandb\n",
    "# training_args.run_name=\"\"\n",
    "training_args.logging_steps=3\n",
    "training_args.save_steps=5\n",
    "training_args.evaluation_strategy=\"epoch\"\n",
    "training_args.num_train_epochs=25\n",
    "training_args.do_eval=True"
   ]
  },
  {
   "cell_type": "code",
   "execution_count": 31,
   "id": "317de5d7",
   "metadata": {},
   "outputs": [
    {
     "data": {
      "text/plain": [
       "TrainingArguments(\n",
       "_n_gpu=1,\n",
       "adafactor=False,\n",
       "adam_beta1=0.9,\n",
       "adam_beta2=0.999,\n",
       "adam_epsilon=1e-08,\n",
       "dataloader_drop_last=False,\n",
       "dataloader_num_workers=0,\n",
       "dataloader_pin_memory=True,\n",
       "ddp_find_unused_parameters=None,\n",
       "debug=[],\n",
       "deepspeed=None,\n",
       "disable_tqdm=False,\n",
       "do_eval=True,\n",
       "do_predict=False,\n",
       "do_train=True,\n",
       "eval_accumulation_steps=None,\n",
       "eval_steps=None,\n",
       "evaluation_strategy=epoch,\n",
       "fp16=False,\n",
       "fp16_backend=auto,\n",
       "fp16_full_eval=False,\n",
       "fp16_opt_level=O1,\n",
       "gradient_accumulation_steps=1,\n",
       "greater_is_better=None,\n",
       "group_by_length=False,\n",
       "ignore_data_skip=False,\n",
       "label_names=None,\n",
       "label_smoothing_factor=0.0,\n",
       "learning_rate=5e-05,\n",
       "length_column_name=length,\n",
       "load_best_model_at_end=False,\n",
       "local_rank=-1,\n",
       "log_level=-1,\n",
       "log_level_replica=-1,\n",
       "log_on_each_node=True,\n",
       "logging_dir=./cos_e_output_t5_large/011223_205536,\n",
       "logging_first_step=False,\n",
       "logging_steps=3,\n",
       "logging_strategy=IntervalStrategy.STEPS,\n",
       "lr_scheduler_type=SchedulerType.LINEAR,\n",
       "max_grad_norm=1.0,\n",
       "max_steps=-1,\n",
       "metric_for_best_model=None,\n",
       "mp_parameters=,\n",
       "no_cuda=False,\n",
       "num_train_epochs=25,\n",
       "output_dir=./cos_e_output_t5_large/011223_205536,\n",
       "overwrite_output_dir=False,\n",
       "past_index=-1,\n",
       "per_device_eval_batch_size=8,\n",
       "per_device_train_batch_size=8,\n",
       "prediction_loss_only=False,\n",
       "push_to_hub=False,\n",
       "push_to_hub_model_id=cos_e_output_t5_large,\n",
       "push_to_hub_organization=None,\n",
       "push_to_hub_token=None,\n",
       "remove_unused_columns=True,\n",
       "report_to=['tensorboard', 'wandb'],\n",
       "resume_from_checkpoint=None,\n",
       "run_name=./cos_e_output_t5_large,\n",
       "save_on_each_node=False,\n",
       "save_steps=5,\n",
       "save_strategy=IntervalStrategy.STEPS,\n",
       "save_total_limit=None,\n",
       "seed=42,\n",
       "sharded_ddp=[],\n",
       "skip_memory_metrics=True,\n",
       "tpu_metrics_debug=False,\n",
       "tpu_num_cores=None,\n",
       "use_legacy_prediction_loop=False,\n",
       "warmup_ratio=0.0,\n",
       "warmup_steps=0,\n",
       "weight_decay=0.0,\n",
       ")"
      ]
     },
     "execution_count": 31,
     "metadata": {},
     "output_type": "execute_result"
    }
   ],
   "source": [
    "training_args"
   ]
  },
  {
   "cell_type": "code",
   "execution_count": 32,
   "id": "de79fb60",
   "metadata": {},
   "outputs": [
    {
     "data": {
      "text/plain": [
       "TrainingArguments(\n",
       "_n_gpu=1,\n",
       "adafactor=False,\n",
       "adam_beta1=0.9,\n",
       "adam_beta2=0.999,\n",
       "adam_epsilon=1e-08,\n",
       "dataloader_drop_last=False,\n",
       "dataloader_num_workers=0,\n",
       "dataloader_pin_memory=True,\n",
       "ddp_find_unused_parameters=None,\n",
       "debug=[],\n",
       "deepspeed=None,\n",
       "disable_tqdm=False,\n",
       "do_eval=True,\n",
       "do_predict=False,\n",
       "do_train=True,\n",
       "eval_accumulation_steps=None,\n",
       "eval_steps=None,\n",
       "evaluation_strategy=epoch,\n",
       "fp16=False,\n",
       "fp16_backend=auto,\n",
       "fp16_full_eval=False,\n",
       "fp16_opt_level=O1,\n",
       "gradient_accumulation_steps=1,\n",
       "greater_is_better=None,\n",
       "group_by_length=False,\n",
       "ignore_data_skip=False,\n",
       "label_names=None,\n",
       "label_smoothing_factor=0.0,\n",
       "learning_rate=5e-05,\n",
       "length_column_name=length,\n",
       "load_best_model_at_end=False,\n",
       "local_rank=-1,\n",
       "log_level=-1,\n",
       "log_level_replica=-1,\n",
       "log_on_each_node=True,\n",
       "logging_dir=./cos_e_output_t5_large/011223_205536,\n",
       "logging_first_step=False,\n",
       "logging_steps=3,\n",
       "logging_strategy=IntervalStrategy.STEPS,\n",
       "lr_scheduler_type=SchedulerType.LINEAR,\n",
       "max_grad_norm=1.0,\n",
       "max_steps=-1,\n",
       "metric_for_best_model=None,\n",
       "mp_parameters=,\n",
       "no_cuda=False,\n",
       "num_train_epochs=25,\n",
       "output_dir=./cos_e_output_t5_large/011223_205536,\n",
       "overwrite_output_dir=False,\n",
       "past_index=-1,\n",
       "per_device_eval_batch_size=8,\n",
       "per_device_train_batch_size=8,\n",
       "prediction_loss_only=False,\n",
       "push_to_hub=False,\n",
       "push_to_hub_model_id=cos_e_output_t5_large,\n",
       "push_to_hub_organization=None,\n",
       "push_to_hub_token=None,\n",
       "remove_unused_columns=True,\n",
       "report_to=['tensorboard', 'wandb'],\n",
       "resume_from_checkpoint=None,\n",
       "run_name=./cos_e_output_t5_large,\n",
       "save_on_each_node=False,\n",
       "save_steps=5,\n",
       "save_strategy=IntervalStrategy.STEPS,\n",
       "save_total_limit=None,\n",
       "seed=42,\n",
       "sharded_ddp=[],\n",
       "skip_memory_metrics=True,\n",
       "tpu_metrics_debug=False,\n",
       "tpu_num_cores=None,\n",
       "use_legacy_prediction_loop=False,\n",
       "warmup_ratio=0.0,\n",
       "warmup_steps=0,\n",
       "weight_decay=0.0,\n",
       ")"
      ]
     },
     "execution_count": 32,
     "metadata": {},
     "output_type": "execute_result"
    }
   ],
   "source": [
    "training_args.per_device_eval_batch_size=8\n",
    "training_args.per_device_train_batch_size=8\n",
    "training_args"
   ]
  },
  {
   "cell_type": "code",
   "execution_count": 33,
   "id": "e80480ec",
   "metadata": {},
   "outputs": [],
   "source": [
    "# data_splits = {'train': None, 'validation': None, 'test': None}\n",
    "# original_data_splits = {'train': None, 'validation': None, 'test': None}  \n",
    "# data_args.io_format=\"t5_fewshot_infilling_with_choices\"\n",
    "# # Data loading from huggingface's datasets\n",
    "# if data_args.task_name in {\"cos_e\", \"esnli\"}:\n",
    "#     version_arg = None\n",
    "#     if data_args.task_name == \"cos_e\":\n",
    "#         assert data_args.version_name in {\"v1.11\", \"v1.0\"}\n",
    "#         version_arg = data_args.version_name\n",
    "\n",
    "#     load_train = True\n",
    "#     if (not training_args.do_train\n",
    "#         and not training_args.do_eval\n",
    "#         and not data_args.train_predict\n",
    "#     ):\n",
    "#         # don't load training dataset\n",
    "#         dataset = {}\n",
    "#         dataset[\"train\"] = None\n",
    "#         dataset[\"validation\"] = datasets.load_dataset(\n",
    "#             data_args.task_name, version_arg, split=\"validation\"\n",
    "#         )\n",
    "#         data_splits['validation'] = dataset[\"validation\"]\n",
    "\n",
    "#         if data_args.task_name == \"esnli\":\n",
    "#             dataset[\"test\"] = datasets.load_dataset(data_args.task_name, split=\"test\")\n",
    "#             data_splits['test'] = dataset[\"test\"]\n",
    "#         load_train = False\n",
    "#     else:\n",
    "#         dataset = datasets.load_dataset(data_args.task_name, version_arg)\n",
    "\n",
    "#         if data_args.n_shots > 0: # Shots = number of training examples **per label** \n",
    "#             if data_args.task_name == 'esnli': # Construct a *balanced* random sample of the size `data_args.n_shots*len(labels)` (for train) or `data_args.fewshot_eval_size` (for eval)\n",
    "#                 for split in [\"train\", \"validation\", \"test\"]:\n",
    "#                     split_data = dataset[split]\n",
    "#                     label_subsets = []\n",
    "#                     labels = split_data.features['label'].names\n",
    "#                     sample_size = data_args.n_shots if split == \"train\" else int(data_args.fewshot_eval_size/len(labels))\n",
    "#                     if data_args.gpt3_max_eval_size is not None and split != 'train':\n",
    "#                         assert len(labels) == 3\n",
    "#                         sample_size = data_args.gpt3_max_eval_size // len(labels)\n",
    "#                     for label in labels:\n",
    "#                         # The following is a hack to only run on `neutral` labels of `esnli` to get data for human eval\n",
    "#                         # if data_args.gpt3_max_eval_size is not None and split != 'train' and label != 'neutral':\n",
    "#                         #     continue\n",
    "#                         label_int = split_data.features['label'].str2int(label)\n",
    "#                         label_set = split_data.filter(lambda example: example['label'] == label_int).shuffle() # all instances of labeled as `label`\n",
    "#                         label_subset = label_set.select(range(sample_size)) #select `sample_size` random instances labeled as `label`\n",
    "#                         label_subsets.append(label_subset)\n",
    "#                     dataset[split] = datasets.concatenate_datasets(label_subsets) #merge all label-specific instances\n",
    "#             elif data_args.task_name == 'cos_e': \n",
    "#                 for split in [\"train\", \"validation\"]: \n",
    "#                     split_data = dataset[split]\n",
    "#                     sample_size = data_args.n_shots if split == \"train\" else int(data_args.fewshot_eval_size) #Shots for QA are not label-specific, i.e., `n_shots` is the training data size\n",
    "#                     if data_args.gpt3_max_eval_size is not None and split != 'train':\n",
    "#                         sample_size = data_args.gpt3_max_eval_size\n",
    "#                     dataset[split] = split_data#.shuffle().select(range(sample_size)) # select `sample_size` random instances\n",
    "#             else: \n",
    "#                 raise ValueError('Only cos_e and esnli are supported by Huggingface datasets.')\n",
    "#     # Apply method, and format dataset to torch.Tensor outputs\n",
    "# #     fse_csqa_train_file=\"/cognitive_comp/huangyongfeng/evaluate_LM_with_rationalization/few_shot_explanations/data/acceptability_annotations/commonsenseqa_train.csv\"\n",
    "# #     fse_csqa_dev_file=\"/cognitive_comp/huangyongfeng/evaluate_LM_with_rationalization/few_shot_explanations/data/acceptability_annotations/commonsenseqa_test.csv\"\n",
    "# #     fse_csqa_train_dataset = datasets.load_dataset('csv', data_files=fse_csqa_train_file)\n",
    "# #     fse_csqa_dev_dataset = datasets.load_dataset('csv', data_files=fse_csqa_dev_file)\n",
    "# #     train_ids_list=[x['id'] for x in data_splits[\"train\"]]\n",
    "# #     dev_ids_list=[x['id'] for x in data_splits[\"validation\"]]\n",
    "# #     fse_train_ids_list=[x['Input.id'] for x in fse_csqa_train_dataset['train']]\n",
    "# #     fse_dev_ids_list=[x['Input.id'] for x in fse_csqa_dev_dataset['train']]\n",
    "# #     fse_train_indexs_list=[train_ids_list.index(id_) for id_ in fse_train_ids_list]\n",
    "# #     fse_dev_indexs_list=[dev_ids_list.index(id_) for id_ in fse_dev_ids_list]\n",
    "# #     print(len(fse_train_indexs_list), len(fse_dev_indexs_list))\n",
    "# #     # print(fse_train_indexs_list,fse_dev_indexs_list)\n",
    "# #     fse_data_splits={}\n",
    "# #     data_splits['train']=data_splits[\"train\"].select(fse_train_indexs_list)\n",
    "# #     data_splits['validation']=data_splits[\"validation\"].select(fse_train_indexs_list)\n",
    "#     for split in dataset.keys():\n",
    "#         if dataset[split] is not None:\n",
    "#             dataset[split] = dataset[split].map(\n",
    "#                 lambda x: format_instance(\n",
    "#                     x,\n",
    "#                     tokenizer,\n",
    "#                     data_args.explanation_sep,\n",
    "#                     datasource=data_args.task_name,\n",
    "#                     io_format=data_args.io_format\n",
    "#                 ),\n",
    "#                 batched=False,\n",
    "#                 load_from_cache_file=False,\n",
    "#             )\n",
    "#     data_splits[\"train\"] = deepcopy(dataset[\"train\"])\n",
    "#     data_splits[\"validation\"] = deepcopy(dataset[\"validation\"])\n",
    "#     if data_args.task_name == \"esnli\":\n",
    "#         data_splits[\"test\"] = deepcopy(dataset[\"test\"])\n",
    "\n",
    "#     original_data_splits[\"train\"] = deepcopy(dataset[\"train\"])\n",
    "#     original_data_splits[\"validation\"] = deepcopy(dataset[\"validation\"])\n",
    "#     if data_args.task_name == \"esnli\":\n",
    "#         original_data_splits[\"test\"] = deepcopy(dataset[\"test\"])"
   ]
  },
  {
   "cell_type": "code",
   "execution_count": 34,
   "id": "2f4cb867",
   "metadata": {},
   "outputs": [],
   "source": [
    "# import pandas as pd\n",
    "# # new_data_splits={'train': None, 'validation': None}\n",
    "# # new_data_splits['train']=deepcopy(dataset[\"train\"])\n",
    "# # new_data_splits['validation']=deepcopy(dataset[\"validation\"])\n",
    "# fse_csqa_train_file=\"/cognitive_comp/huangyongfeng/evaluate_LM_with_rationalization/few_shot_explanations/data/acceptability_annotations/commonsenseqa_train.csv\"\n",
    "# fse_csqa_dev_file=\"/cognitive_comp/huangyongfeng/evaluate_LM_with_rationalization/few_shot_explanations/data/acceptability_annotations/commonsenseqa_test.csv\"\n",
    "# # fse_csqa_train_dataset = datasets.load_dataset('csv', data_files=fse_csqa_train_file)\n",
    "# # fse_csqa_dev_dataset = datasets.load_dataset('csv', data_files=fse_csqa_dev_file)\n",
    "\n",
    "# train_df=pd.read_csv(fse_csqa_train_file)\n",
    "\n",
    "# dev_df=pd.read_csv(fse_csqa_dev_file)\n",
    "\n",
    "# dev_df\n"
   ]
  },
  {
   "cell_type": "code",
   "execution_count": 35,
   "id": "42739e9b",
   "metadata": {},
   "outputs": [],
   "source": [
    "# len(fse_train_ids_list),len(list(set(fse_train_ids_list)))"
   ]
  },
  {
   "cell_type": "code",
   "execution_count": 36,
   "id": "c78ea825",
   "metadata": {},
   "outputs": [],
   "source": [
    "# train_ids_list=[x['id'] for x in data_splits[\"train\"]]\n",
    "# dev_ids_list=[x['id'] for x in data_splits[\"validation\"]]\n",
    "# fse_train_ids_list=[x['Input.id'] for x in fse_csqa_train_dataset['train']]\n",
    "# fse_dev_ids_list=[x['Input.id'] for x in fse_csqa_dev_dataset['train']]\n"
   ]
  },
  {
   "cell_type": "code",
   "execution_count": 37,
   "id": "80395518",
   "metadata": {},
   "outputs": [],
   "source": [
    "# fse_train_indexs_list=[train_ids_list.index(id_) for id_ in fse_train_ids_list]\n",
    "# fse_dev_indexs_list=[dev_ids_list.index(id_) for id_ in fse_dev_ids_list]\n",
    "# print(len(fse_train_indexs_list), len(fse_dev_indexs_list))\n",
    "# # print(fse_train_indexs_list,fse_dev_indexs_list)\n",
    "# fse_data_splits={}\n",
    "# fse_data_splits['train']=data_splits[\"train\"].select(fse_train_indexs_list)\n",
    "# fse_data_splits['validation']=data_splits[\"validation\"].select(fse_train_indexs_list)"
   ]
  },
  {
   "cell_type": "code",
   "execution_count": 38,
   "id": "4d186954",
   "metadata": {},
   "outputs": [],
   "source": [
    "# fse_csqa_train_dataset['train'][0].keys()"
   ]
  },
  {
   "cell_type": "code",
   "execution_count": 39,
   "id": "66dd71d4",
   "metadata": {},
   "outputs": [],
   "source": [
    "class SequenceCollator:\n",
    "    def __init__(self, model, pad_token):\n",
    "        self.model = model\n",
    "        self.pad_token_mapping = {\n",
    "            \"labels\": -100,\n",
    "            \"attention_mask\": 0,\n",
    "            \"decoder_attention_mask\": 0,\n",
    "            \"input_ids\": pad_token,\n",
    "        }\n",
    "\n",
    "        self.columns = [\n",
    "            \"input_ids\",\n",
    "            \"attention_mask\",\n",
    "            \"labels\",\n",
    "            \"decoder_attention_mask\",\n",
    "        ]\n",
    "\n",
    "    def __call__(self, examples: List[Dict[str, InputDataClass]]) -> Dict[str, torch.Tensor]:\n",
    "        # re-format inputs for training\n",
    "        batch = {}\n",
    "        for key in examples[0].keys():\n",
    "            if key in self.columns:\n",
    "                tmp_list = []\n",
    "                for item in examples:\n",
    "                    tmp_list.append(item[key])\n",
    "\n",
    "                # pad lists to max length\n",
    "                if isinstance(tmp_list[0], list):\n",
    "                    max_length = max(map(len, tmp_list))\n",
    "                    tmp_list = [\n",
    "                        el + [self.pad_token_mapping[key]] * (max_length - len(el))\n",
    "                        for el in tmp_list\n",
    "                    ]\n",
    "\n",
    "                batch[key] = torch.tensor(tmp_list, dtype=torch.long)\n",
    "        return batch"
   ]
  },
  {
   "cell_type": "code",
   "execution_count": 40,
   "id": "f144515d",
   "metadata": {},
   "outputs": [
    {
     "name": "stderr",
     "output_type": "stream",
     "text": [
      "You are adding a <class 'transformers.integrations.TensorBoardCallback'> to the callbacks of this Trainer, but there is already one. The currentlist of callbacks is\n",
      ":DefaultFlowCallback\n",
      "TensorBoardCallback\n",
      "WandbCallback\n",
      "The following columns in the training set  don't have a corresponding argument in `T5ForConditionalGeneration.forward` and have been ignored: choices, our_explanation, id, extractive_explanation, question_encoding, abstractive_explanation, question, answer.\n",
      "***** Running training *****\n",
      "  Num examples = 96\n",
      "  Num Epochs = 25\n",
      "  Instantaneous batch size per device = 8\n",
      "  Total train batch size (w. parallel, distributed & accumulation) = 8\n",
      "  Gradient Accumulation steps = 1\n",
      "  Total optimization steps = 300\n",
      "Automatic Weights & Biases logging enabled, to disable set os.environ[\"WANDB_DISABLED\"] = \"true\"\n"
     ]
    },
    {
     "data": {
      "text/html": [
       "Changes to your `wandb` environment variables will be ignored because your `wandb` session has already started. For more information on how to modify your settings with `wandb.init()` arguments, please refer to <a href=\"https://wandb.me/wandb-init\" target=\"_blank\">the W&B docs</a>."
      ],
      "text/plain": [
       "<IPython.core.display.HTML object>"
      ]
     },
     "metadata": {},
     "output_type": "display_data"
    },
    {
     "data": {
      "text/html": [
       "wandb version 0.13.8 is available!  To upgrade, please run:\n",
       " $ pip install wandb --upgrade"
      ],
      "text/plain": [
       "<IPython.core.display.HTML object>"
      ]
     },
     "metadata": {},
     "output_type": "display_data"
    },
    {
     "data": {
      "text/html": [
       "Tracking run with wandb version 0.13.5"
      ],
      "text/plain": [
       "<IPython.core.display.HTML object>"
      ]
     },
     "metadata": {},
     "output_type": "display_data"
    },
    {
     "data": {
      "text/html": [
       "Run data is saved locally in <code>/cognitive_comp/huangyongfeng/evaluate_LM_with_rationalization/scripts/wandb/run-20230112_210649-5llre8do</code>"
      ],
      "text/plain": [
       "<IPython.core.display.HTML object>"
      ]
     },
     "metadata": {},
     "output_type": "display_data"
    },
    {
     "data": {
      "text/html": [
       "Syncing run <strong><a href=\"https://wandb.ai/cuhk_lavilab/evaluate_LM_with_rationalization/runs/5llre8do\" target=\"_blank\">./cos_e_output_t5_large</a></strong> to <a href=\"https://wandb.ai/cuhk_lavilab/evaluate_LM_with_rationalization\" target=\"_blank\">Weights & Biases</a> (<a href=\"https://wandb.me/run\" target=\"_blank\">docs</a>)<br/>"
      ],
      "text/plain": [
       "<IPython.core.display.HTML object>"
      ]
     },
     "metadata": {},
     "output_type": "display_data"
    },
    {
     "data": {
      "text/html": [
       "\n",
       "    <div>\n",
       "      \n",
       "      <progress value='300' max='300' style='width:300px; height:20px; vertical-align: middle;'></progress>\n",
       "      [300/300 11:15, Epoch 25/25]\n",
       "    </div>\n",
       "    <table border=\"1\" class=\"dataframe\">\n",
       "  <thead>\n",
       "    <tr style=\"text-align: left;\">\n",
       "      <th>Step</th>\n",
       "      <th>Training Loss</th>\n",
       "      <th>Validation Loss</th>\n",
       "    </tr>\n",
       "  </thead>\n",
       "  <tbody>\n",
       "  </tbody>\n",
       "</table><p>"
      ],
      "text/plain": [
       "<IPython.core.display.HTML object>"
      ]
     },
     "metadata": {},
     "output_type": "display_data"
    },
    {
     "name": "stderr",
     "output_type": "stream",
     "text": [
      "Saving model checkpoint to ./cos_e_output_t5_large/011223_205536/checkpoint-5\n",
      "Configuration saved in ./cos_e_output_t5_large/011223_205536/checkpoint-5/config.json\n",
      "Model weights saved in ./cos_e_output_t5_large/011223_205536/checkpoint-5/pytorch_model.bin\n",
      "Saving model checkpoint to ./cos_e_output_t5_large/011223_205536/checkpoint-10\n",
      "Configuration saved in ./cos_e_output_t5_large/011223_205536/checkpoint-10/config.json\n",
      "Model weights saved in ./cos_e_output_t5_large/011223_205536/checkpoint-10/pytorch_model.bin\n",
      "Saving model checkpoint to ./cos_e_output_t5_large/011223_205536/checkpoint-15\n",
      "Configuration saved in ./cos_e_output_t5_large/011223_205536/checkpoint-15/config.json\n",
      "Model weights saved in ./cos_e_output_t5_large/011223_205536/checkpoint-15/pytorch_model.bin\n",
      "Saving model checkpoint to ./cos_e_output_t5_large/011223_205536/checkpoint-20\n",
      "Configuration saved in ./cos_e_output_t5_large/011223_205536/checkpoint-20/config.json\n",
      "Model weights saved in ./cos_e_output_t5_large/011223_205536/checkpoint-20/pytorch_model.bin\n",
      "Saving model checkpoint to ./cos_e_output_t5_large/011223_205536/checkpoint-25\n",
      "Configuration saved in ./cos_e_output_t5_large/011223_205536/checkpoint-25/config.json\n",
      "Model weights saved in ./cos_e_output_t5_large/011223_205536/checkpoint-25/pytorch_model.bin\n",
      "Saving model checkpoint to ./cos_e_output_t5_large/011223_205536/checkpoint-30\n",
      "Configuration saved in ./cos_e_output_t5_large/011223_205536/checkpoint-30/config.json\n",
      "Model weights saved in ./cos_e_output_t5_large/011223_205536/checkpoint-30/pytorch_model.bin\n",
      "Saving model checkpoint to ./cos_e_output_t5_large/011223_205536/checkpoint-35\n",
      "Configuration saved in ./cos_e_output_t5_large/011223_205536/checkpoint-35/config.json\n",
      "Model weights saved in ./cos_e_output_t5_large/011223_205536/checkpoint-35/pytorch_model.bin\n",
      "Saving model checkpoint to ./cos_e_output_t5_large/011223_205536/checkpoint-40\n",
      "Configuration saved in ./cos_e_output_t5_large/011223_205536/checkpoint-40/config.json\n",
      "Model weights saved in ./cos_e_output_t5_large/011223_205536/checkpoint-40/pytorch_model.bin\n",
      "Saving model checkpoint to ./cos_e_output_t5_large/011223_205536/checkpoint-45\n",
      "Configuration saved in ./cos_e_output_t5_large/011223_205536/checkpoint-45/config.json\n",
      "Model weights saved in ./cos_e_output_t5_large/011223_205536/checkpoint-45/pytorch_model.bin\n",
      "Saving model checkpoint to ./cos_e_output_t5_large/011223_205536/checkpoint-50\n",
      "Configuration saved in ./cos_e_output_t5_large/011223_205536/checkpoint-50/config.json\n",
      "Model weights saved in ./cos_e_output_t5_large/011223_205536/checkpoint-50/pytorch_model.bin\n",
      "Saving model checkpoint to ./cos_e_output_t5_large/011223_205536/checkpoint-55\n",
      "Configuration saved in ./cos_e_output_t5_large/011223_205536/checkpoint-55/config.json\n",
      "Model weights saved in ./cos_e_output_t5_large/011223_205536/checkpoint-55/pytorch_model.bin\n",
      "Saving model checkpoint to ./cos_e_output_t5_large/011223_205536/checkpoint-60\n",
      "Configuration saved in ./cos_e_output_t5_large/011223_205536/checkpoint-60/config.json\n",
      "Model weights saved in ./cos_e_output_t5_large/011223_205536/checkpoint-60/pytorch_model.bin\n",
      "Saving model checkpoint to ./cos_e_output_t5_large/011223_205536/checkpoint-65\n",
      "Configuration saved in ./cos_e_output_t5_large/011223_205536/checkpoint-65/config.json\n",
      "Model weights saved in ./cos_e_output_t5_large/011223_205536/checkpoint-65/pytorch_model.bin\n",
      "Saving model checkpoint to ./cos_e_output_t5_large/011223_205536/checkpoint-70\n",
      "Configuration saved in ./cos_e_output_t5_large/011223_205536/checkpoint-70/config.json\n",
      "Model weights saved in ./cos_e_output_t5_large/011223_205536/checkpoint-70/pytorch_model.bin\n",
      "Saving model checkpoint to ./cos_e_output_t5_large/011223_205536/checkpoint-75\n",
      "Configuration saved in ./cos_e_output_t5_large/011223_205536/checkpoint-75/config.json\n",
      "Model weights saved in ./cos_e_output_t5_large/011223_205536/checkpoint-75/pytorch_model.bin\n",
      "Saving model checkpoint to ./cos_e_output_t5_large/011223_205536/checkpoint-80\n",
      "Configuration saved in ./cos_e_output_t5_large/011223_205536/checkpoint-80/config.json\n",
      "Model weights saved in ./cos_e_output_t5_large/011223_205536/checkpoint-80/pytorch_model.bin\n",
      "Saving model checkpoint to ./cos_e_output_t5_large/011223_205536/checkpoint-85\n",
      "Configuration saved in ./cos_e_output_t5_large/011223_205536/checkpoint-85/config.json\n",
      "Model weights saved in ./cos_e_output_t5_large/011223_205536/checkpoint-85/pytorch_model.bin\n",
      "Saving model checkpoint to ./cos_e_output_t5_large/011223_205536/checkpoint-90\n",
      "Configuration saved in ./cos_e_output_t5_large/011223_205536/checkpoint-90/config.json\n",
      "Model weights saved in ./cos_e_output_t5_large/011223_205536/checkpoint-90/pytorch_model.bin\n",
      "Saving model checkpoint to ./cos_e_output_t5_large/011223_205536/checkpoint-95\n",
      "Configuration saved in ./cos_e_output_t5_large/011223_205536/checkpoint-95/config.json\n",
      "Model weights saved in ./cos_e_output_t5_large/011223_205536/checkpoint-95/pytorch_model.bin\n",
      "Saving model checkpoint to ./cos_e_output_t5_large/011223_205536/checkpoint-100\n",
      "Configuration saved in ./cos_e_output_t5_large/011223_205536/checkpoint-100/config.json\n",
      "Model weights saved in ./cos_e_output_t5_large/011223_205536/checkpoint-100/pytorch_model.bin\n",
      "Saving model checkpoint to ./cos_e_output_t5_large/011223_205536/checkpoint-105\n",
      "Configuration saved in ./cos_e_output_t5_large/011223_205536/checkpoint-105/config.json\n",
      "Model weights saved in ./cos_e_output_t5_large/011223_205536/checkpoint-105/pytorch_model.bin\n",
      "Saving model checkpoint to ./cos_e_output_t5_large/011223_205536/checkpoint-110\n",
      "Configuration saved in ./cos_e_output_t5_large/011223_205536/checkpoint-110/config.json\n",
      "Model weights saved in ./cos_e_output_t5_large/011223_205536/checkpoint-110/pytorch_model.bin\n",
      "Saving model checkpoint to ./cos_e_output_t5_large/011223_205536/checkpoint-115\n",
      "Configuration saved in ./cos_e_output_t5_large/011223_205536/checkpoint-115/config.json\n",
      "Model weights saved in ./cos_e_output_t5_large/011223_205536/checkpoint-115/pytorch_model.bin\n",
      "Saving model checkpoint to ./cos_e_output_t5_large/011223_205536/checkpoint-120\n",
      "Configuration saved in ./cos_e_output_t5_large/011223_205536/checkpoint-120/config.json\n",
      "Model weights saved in ./cos_e_output_t5_large/011223_205536/checkpoint-120/pytorch_model.bin\n",
      "Saving model checkpoint to ./cos_e_output_t5_large/011223_205536/checkpoint-125\n",
      "Configuration saved in ./cos_e_output_t5_large/011223_205536/checkpoint-125/config.json\n",
      "Model weights saved in ./cos_e_output_t5_large/011223_205536/checkpoint-125/pytorch_model.bin\n",
      "Saving model checkpoint to ./cos_e_output_t5_large/011223_205536/checkpoint-130\n",
      "Configuration saved in ./cos_e_output_t5_large/011223_205536/checkpoint-130/config.json\n",
      "Model weights saved in ./cos_e_output_t5_large/011223_205536/checkpoint-130/pytorch_model.bin\n",
      "Saving model checkpoint to ./cos_e_output_t5_large/011223_205536/checkpoint-135\n",
      "Configuration saved in ./cos_e_output_t5_large/011223_205536/checkpoint-135/config.json\n",
      "Model weights saved in ./cos_e_output_t5_large/011223_205536/checkpoint-135/pytorch_model.bin\n",
      "Saving model checkpoint to ./cos_e_output_t5_large/011223_205536/checkpoint-140\n",
      "Configuration saved in ./cos_e_output_t5_large/011223_205536/checkpoint-140/config.json\n",
      "Model weights saved in ./cos_e_output_t5_large/011223_205536/checkpoint-140/pytorch_model.bin\n",
      "Saving model checkpoint to ./cos_e_output_t5_large/011223_205536/checkpoint-145\n",
      "Configuration saved in ./cos_e_output_t5_large/011223_205536/checkpoint-145/config.json\n",
      "Model weights saved in ./cos_e_output_t5_large/011223_205536/checkpoint-145/pytorch_model.bin\n",
      "Saving model checkpoint to ./cos_e_output_t5_large/011223_205536/checkpoint-150\n",
      "Configuration saved in ./cos_e_output_t5_large/011223_205536/checkpoint-150/config.json\n",
      "Model weights saved in ./cos_e_output_t5_large/011223_205536/checkpoint-150/pytorch_model.bin\n",
      "Saving model checkpoint to ./cos_e_output_t5_large/011223_205536/checkpoint-155\n",
      "Configuration saved in ./cos_e_output_t5_large/011223_205536/checkpoint-155/config.json\n",
      "Model weights saved in ./cos_e_output_t5_large/011223_205536/checkpoint-155/pytorch_model.bin\n",
      "Saving model checkpoint to ./cos_e_output_t5_large/011223_205536/checkpoint-160\n",
      "Configuration saved in ./cos_e_output_t5_large/011223_205536/checkpoint-160/config.json\n"
     ]
    },
    {
     "name": "stderr",
     "output_type": "stream",
     "text": [
      "Model weights saved in ./cos_e_output_t5_large/011223_205536/checkpoint-160/pytorch_model.bin\n",
      "Saving model checkpoint to ./cos_e_output_t5_large/011223_205536/checkpoint-165\n",
      "Configuration saved in ./cos_e_output_t5_large/011223_205536/checkpoint-165/config.json\n",
      "Model weights saved in ./cos_e_output_t5_large/011223_205536/checkpoint-165/pytorch_model.bin\n",
      "Saving model checkpoint to ./cos_e_output_t5_large/011223_205536/checkpoint-170\n",
      "Configuration saved in ./cos_e_output_t5_large/011223_205536/checkpoint-170/config.json\n",
      "Model weights saved in ./cos_e_output_t5_large/011223_205536/checkpoint-170/pytorch_model.bin\n",
      "Saving model checkpoint to ./cos_e_output_t5_large/011223_205536/checkpoint-175\n",
      "Configuration saved in ./cos_e_output_t5_large/011223_205536/checkpoint-175/config.json\n",
      "Model weights saved in ./cos_e_output_t5_large/011223_205536/checkpoint-175/pytorch_model.bin\n",
      "Saving model checkpoint to ./cos_e_output_t5_large/011223_205536/checkpoint-180\n",
      "Configuration saved in ./cos_e_output_t5_large/011223_205536/checkpoint-180/config.json\n",
      "Model weights saved in ./cos_e_output_t5_large/011223_205536/checkpoint-180/pytorch_model.bin\n",
      "Saving model checkpoint to ./cos_e_output_t5_large/011223_205536/checkpoint-185\n",
      "Configuration saved in ./cos_e_output_t5_large/011223_205536/checkpoint-185/config.json\n",
      "Model weights saved in ./cos_e_output_t5_large/011223_205536/checkpoint-185/pytorch_model.bin\n",
      "Saving model checkpoint to ./cos_e_output_t5_large/011223_205536/checkpoint-190\n",
      "Configuration saved in ./cos_e_output_t5_large/011223_205536/checkpoint-190/config.json\n",
      "Model weights saved in ./cos_e_output_t5_large/011223_205536/checkpoint-190/pytorch_model.bin\n",
      "Saving model checkpoint to ./cos_e_output_t5_large/011223_205536/checkpoint-195\n",
      "Configuration saved in ./cos_e_output_t5_large/011223_205536/checkpoint-195/config.json\n",
      "Model weights saved in ./cos_e_output_t5_large/011223_205536/checkpoint-195/pytorch_model.bin\n",
      "Saving model checkpoint to ./cos_e_output_t5_large/011223_205536/checkpoint-200\n",
      "Configuration saved in ./cos_e_output_t5_large/011223_205536/checkpoint-200/config.json\n",
      "Model weights saved in ./cos_e_output_t5_large/011223_205536/checkpoint-200/pytorch_model.bin\n",
      "Saving model checkpoint to ./cos_e_output_t5_large/011223_205536/checkpoint-205\n",
      "Configuration saved in ./cos_e_output_t5_large/011223_205536/checkpoint-205/config.json\n",
      "Model weights saved in ./cos_e_output_t5_large/011223_205536/checkpoint-205/pytorch_model.bin\n",
      "Saving model checkpoint to ./cos_e_output_t5_large/011223_205536/checkpoint-210\n",
      "Configuration saved in ./cos_e_output_t5_large/011223_205536/checkpoint-210/config.json\n",
      "Model weights saved in ./cos_e_output_t5_large/011223_205536/checkpoint-210/pytorch_model.bin\n",
      "Saving model checkpoint to ./cos_e_output_t5_large/011223_205536/checkpoint-215\n",
      "Configuration saved in ./cos_e_output_t5_large/011223_205536/checkpoint-215/config.json\n",
      "Model weights saved in ./cos_e_output_t5_large/011223_205536/checkpoint-215/pytorch_model.bin\n",
      "Saving model checkpoint to ./cos_e_output_t5_large/011223_205536/checkpoint-220\n",
      "Configuration saved in ./cos_e_output_t5_large/011223_205536/checkpoint-220/config.json\n",
      "Model weights saved in ./cos_e_output_t5_large/011223_205536/checkpoint-220/pytorch_model.bin\n",
      "Saving model checkpoint to ./cos_e_output_t5_large/011223_205536/checkpoint-225\n",
      "Configuration saved in ./cos_e_output_t5_large/011223_205536/checkpoint-225/config.json\n",
      "Model weights saved in ./cos_e_output_t5_large/011223_205536/checkpoint-225/pytorch_model.bin\n",
      "Saving model checkpoint to ./cos_e_output_t5_large/011223_205536/checkpoint-230\n",
      "Configuration saved in ./cos_e_output_t5_large/011223_205536/checkpoint-230/config.json\n",
      "Model weights saved in ./cos_e_output_t5_large/011223_205536/checkpoint-230/pytorch_model.bin\n",
      "Saving model checkpoint to ./cos_e_output_t5_large/011223_205536/checkpoint-235\n",
      "Configuration saved in ./cos_e_output_t5_large/011223_205536/checkpoint-235/config.json\n",
      "Model weights saved in ./cos_e_output_t5_large/011223_205536/checkpoint-235/pytorch_model.bin\n",
      "Saving model checkpoint to ./cos_e_output_t5_large/011223_205536/checkpoint-240\n",
      "Configuration saved in ./cos_e_output_t5_large/011223_205536/checkpoint-240/config.json\n",
      "Model weights saved in ./cos_e_output_t5_large/011223_205536/checkpoint-240/pytorch_model.bin\n",
      "Saving model checkpoint to ./cos_e_output_t5_large/011223_205536/checkpoint-245\n",
      "Configuration saved in ./cos_e_output_t5_large/011223_205536/checkpoint-245/config.json\n",
      "Model weights saved in ./cos_e_output_t5_large/011223_205536/checkpoint-245/pytorch_model.bin\n",
      "Saving model checkpoint to ./cos_e_output_t5_large/011223_205536/checkpoint-250\n",
      "Configuration saved in ./cos_e_output_t5_large/011223_205536/checkpoint-250/config.json\n",
      "Model weights saved in ./cos_e_output_t5_large/011223_205536/checkpoint-250/pytorch_model.bin\n",
      "Saving model checkpoint to ./cos_e_output_t5_large/011223_205536/checkpoint-255\n",
      "Configuration saved in ./cos_e_output_t5_large/011223_205536/checkpoint-255/config.json\n",
      "Model weights saved in ./cos_e_output_t5_large/011223_205536/checkpoint-255/pytorch_model.bin\n",
      "Saving model checkpoint to ./cos_e_output_t5_large/011223_205536/checkpoint-260\n",
      "Configuration saved in ./cos_e_output_t5_large/011223_205536/checkpoint-260/config.json\n",
      "Model weights saved in ./cos_e_output_t5_large/011223_205536/checkpoint-260/pytorch_model.bin\n",
      "Saving model checkpoint to ./cos_e_output_t5_large/011223_205536/checkpoint-265\n",
      "Configuration saved in ./cos_e_output_t5_large/011223_205536/checkpoint-265/config.json\n",
      "Model weights saved in ./cos_e_output_t5_large/011223_205536/checkpoint-265/pytorch_model.bin\n",
      "Saving model checkpoint to ./cos_e_output_t5_large/011223_205536/checkpoint-270\n",
      "Configuration saved in ./cos_e_output_t5_large/011223_205536/checkpoint-270/config.json\n",
      "Model weights saved in ./cos_e_output_t5_large/011223_205536/checkpoint-270/pytorch_model.bin\n",
      "Saving model checkpoint to ./cos_e_output_t5_large/011223_205536/checkpoint-275\n",
      "Configuration saved in ./cos_e_output_t5_large/011223_205536/checkpoint-275/config.json\n",
      "Model weights saved in ./cos_e_output_t5_large/011223_205536/checkpoint-275/pytorch_model.bin\n",
      "Saving model checkpoint to ./cos_e_output_t5_large/011223_205536/checkpoint-280\n",
      "Configuration saved in ./cos_e_output_t5_large/011223_205536/checkpoint-280/config.json\n",
      "Model weights saved in ./cos_e_output_t5_large/011223_205536/checkpoint-280/pytorch_model.bin\n",
      "Saving model checkpoint to ./cos_e_output_t5_large/011223_205536/checkpoint-285\n",
      "Configuration saved in ./cos_e_output_t5_large/011223_205536/checkpoint-285/config.json\n",
      "Model weights saved in ./cos_e_output_t5_large/011223_205536/checkpoint-285/pytorch_model.bin\n",
      "Saving model checkpoint to ./cos_e_output_t5_large/011223_205536/checkpoint-290\n",
      "Configuration saved in ./cos_e_output_t5_large/011223_205536/checkpoint-290/config.json\n",
      "Model weights saved in ./cos_e_output_t5_large/011223_205536/checkpoint-290/pytorch_model.bin\n",
      "Saving model checkpoint to ./cos_e_output_t5_large/011223_205536/checkpoint-295\n",
      "Configuration saved in ./cos_e_output_t5_large/011223_205536/checkpoint-295/config.json\n",
      "Model weights saved in ./cos_e_output_t5_large/011223_205536/checkpoint-295/pytorch_model.bin\n",
      "Saving model checkpoint to ./cos_e_output_t5_large/011223_205536/checkpoint-300\n",
      "Configuration saved in ./cos_e_output_t5_large/011223_205536/checkpoint-300/config.json\n",
      "Model weights saved in ./cos_e_output_t5_large/011223_205536/checkpoint-300/pytorch_model.bin\n",
      "\n",
      "\n",
      "Training completed. Do not forget to share your model on huggingface.co/models =)\n",
      "\n",
      "\n"
     ]
    },
    {
     "data": {
      "text/html": [
       "Waiting for W&B process to finish... <strong style=\"color:green\">(success).</strong>"
      ],
      "text/plain": [
       "<IPython.core.display.HTML object>"
      ]
     },
     "metadata": {},
     "output_type": "display_data"
    },
    {
     "data": {
      "text/html": [
       "<style>\n",
       "    table.wandb td:nth-child(1) { padding: 0 10px; text-align: left ; width: auto;} td:nth-child(2) {text-align: left ; width: 100%}\n",
       "    .wandb-row { display: flex; flex-direction: row; flex-wrap: wrap; justify-content: flex-start; width: 100% }\n",
       "    .wandb-col { display: flex; flex-direction: column; flex-basis: 100%; flex: 1; padding: 10px; }\n",
       "    </style>\n",
       "<div class=\"wandb-row\"><div class=\"wandb-col\"><h3>Run history:</h3><br/><table class=\"wandb\"><tr><td>train/epoch</td><td>▁▁▁▁▂▂▂▂▂▃▃▃▃▃▃▄▄▄▄▄▅▅▅▅▅▆▆▆▆▆▆▇▇▇▇▇████</td></tr><tr><td>train/global_step</td><td>▁▁▁▁▂▂▂▂▂▃▃▃▃▃▃▄▄▄▄▄▅▅▅▅▅▆▆▆▆▆▆▇▇▇▇▇████</td></tr><tr><td>train/learning_rate</td><td>████▇▇▇▇▇▆▆▆▆▆▆▅▅▅▅▅▄▄▄▄▄▄▃▃▃▃▃▂▂▂▂▂▂▁▁▁</td></tr><tr><td>train/loss</td><td>█▄▃▃▂▂▂▂▂▂▂▂▂▁▁▁▁▁▁▁▁▁▁▁▁▁▁▁▁▁▁▁▁▁▁▁▁▁▁▁</td></tr><tr><td>train/total_flos</td><td>▁</td></tr><tr><td>train/train_loss</td><td>▁</td></tr><tr><td>train/train_runtime</td><td>▁</td></tr><tr><td>train/train_samples_per_second</td><td>▁</td></tr><tr><td>train/train_steps_per_second</td><td>▁</td></tr></table><br/></div><div class=\"wandb-col\"><h3>Run summary:</h3><br/><table class=\"wandb\"><tr><td>train/epoch</td><td>25.0</td></tr><tr><td>train/global_step</td><td>300</td></tr><tr><td>train/learning_rate</td><td>0.0</td></tr><tr><td>train/loss</td><td>1.418</td></tr><tr><td>train/total_flos</td><td>411358986240000.0</td></tr><tr><td>train/train_loss</td><td>2.02362</td></tr><tr><td>train/train_runtime</td><td>685.0367</td></tr><tr><td>train/train_samples_per_second</td><td>3.503</td></tr><tr><td>train/train_steps_per_second</td><td>0.438</td></tr></table><br/></div></div>"
      ],
      "text/plain": [
       "<IPython.core.display.HTML object>"
      ]
     },
     "metadata": {},
     "output_type": "display_data"
    },
    {
     "data": {
      "text/html": [
       "Synced <strong style=\"color:#cdcd00\">./cos_e_output_t5_large</strong>: <a href=\"https://wandb.ai/cuhk_lavilab/evaluate_LM_with_rationalization/runs/5llre8do\" target=\"_blank\">https://wandb.ai/cuhk_lavilab/evaluate_LM_with_rationalization/runs/5llre8do</a><br/>Synced 6 W&B file(s), 0 media file(s), 0 artifact file(s) and 0 other file(s)"
      ],
      "text/plain": [
       "<IPython.core.display.HTML object>"
      ]
     },
     "metadata": {},
     "output_type": "display_data"
    },
    {
     "data": {
      "text/html": [
       "Find logs at: <code>./wandb/run-20230112_210649-5llre8do/logs</code>"
      ],
      "text/plain": [
       "<IPython.core.display.HTML object>"
      ]
     },
     "metadata": {},
     "output_type": "display_data"
    }
   ],
   "source": [
    "# os.environ[\"WANDB_DISABLED\"] = \"True\"\n",
    "if data_args.generations_filepath is None:\n",
    "    callbacks = [TensorBoardCallback()]\n",
    "    if data_args.early_stopping_patience > 0:\n",
    "        callbacks.append(EarlyStoppingCallback(early_stopping_patience=data_args.early_stopping_patience))\n",
    "        training_args.load_best_model_at_end = True\n",
    "    else:\n",
    "        training_args.load_best_model_at_end = False  # use the last model state\n",
    "    training_args.metric_for_best_model = 'eval_loss'\n",
    "    training_args.greater_is_better = False\n",
    "    if training_args.eval_steps is None:\n",
    "        training_args.evaluation_strategy = EvaluationStrategy.EPOCH\n",
    "    else:\n",
    "        training_args.evaluation_strategy = EvaluationStrategy.STEPS\n",
    "\n",
    "    trainer = Trainer(\n",
    "        model=model,\n",
    "        args=training_args,\n",
    "        train_dataset=our_data_splits['train'],\n",
    "        eval_dataset=our_data_splits['dev'],\n",
    "        data_collator=SequenceCollator(\n",
    "            model=model_class, pad_token=tokenizer.pad_token_id\n",
    "        ),\n",
    "        callbacks=callbacks,\n",
    "    )\n",
    "\n",
    "# Training. Don't train if it is use_gpt3\n",
    "if training_args.do_train and not model_args.use_gpt3:\n",
    "    start_time = time.time()\n",
    "    trainer.train()\n",
    "    train_time = time.time() - start_time\n",
    "    model = trainer.model\n",
    "    wandb.finish()\n",
    "else:\n",
    "    start_time = time.time()\n",
    "    train_time = time.time() - start_time"
   ]
  },
  {
   "cell_type": "code",
   "execution_count": 41,
   "id": "ade3c632",
   "metadata": {},
   "outputs": [],
   "source": [
    "# print(our_data_splits['dev'][0]['our_explanation'])\n",
    "# inp_ids=torch.tensor(our_data_splits['dev'][0][\"input_ids\"], device=model.device).reshape(1, -1)\n",
    "# out = model.generate(\n",
    "#                     inp_ids,\n",
    "#                     max_length=100,\n",
    "#                     pad_token_id=tokenizer.pad_token_id,\n",
    "#                     eos_token_id=tokenizer.eos_token_id,\n",
    "#                 )\n",
    "# skip_special_tokens = False if \"infilling\" in data_args.io_format else True\n",
    "# words = tokenizer.decode(out[0].tolist(), skip_special_tokens=skip_special_tokens)\n",
    "# print(words)"
   ]
  },
  {
   "cell_type": "code",
   "execution_count": 42,
   "id": "b88935f8",
   "metadata": {},
   "outputs": [],
   "source": [
    "# len(our_data_splits['dev']),len(our_data_splits['train'])"
   ]
  },
  {
   "cell_type": "code",
   "execution_count": 43,
   "id": "8eda472b",
   "metadata": {},
   "outputs": [],
   "source": [
    "# our_data_splits['dev']"
   ]
  },
  {
   "cell_type": "code",
   "execution_count": 44,
   "id": "77c15190",
   "metadata": {},
   "outputs": [],
   "source": [
    "# for da in our_data_splits['train']:\n",
    "#     print(\"*******\")\n",
    "#     print(\"question: {}\".format(da['question']))\n",
    "#     print(\"answer: {}\".format(da['answer']))\n",
    "#     print(\"choices: {}\".format(da['choices']))\n",
    "#     print(\"our_explanation: {}\".format(da['our_explanation']))\n",
    "#     inp_ids = torch.tensor(da[\"input_ids\"], device=model.device).reshape(1, -1)\n",
    "#     out = model.generate(\n",
    "#                     inp_ids,\n",
    "#                     max_length=100,\n",
    "#                     pad_token_id=tokenizer.pad_token_id,\n",
    "#                     eos_token_id=tokenizer.eos_token_id,\n",
    "#                 )\n",
    "#     skip_special_tokens = False if \"infilling\" in data_args.io_format else True\n",
    "#     words = tokenizer.decode(out[0].tolist(), skip_special_tokens=skip_special_tokens)\n",
    "#     print(\"generated explanation: {}\".format(words))\n",
    "#     print(\"#######\")"
   ]
  },
  {
   "cell_type": "code",
   "execution_count": 45,
   "id": "2ca6cbe4",
   "metadata": {},
   "outputs": [],
   "source": [
    "# for da in our_data_splits['dev']:\n",
    "#     print(\"*******\")\n",
    "#     print(\"question: {}\".format(da['question']))\n",
    "#     print(\"answer: {}\".format(da['answer']))\n",
    "#     print(\"choices: {}\".format(da['choices']))\n",
    "#     print(\"our_explanation: {}\".format(da['our_explanation']))\n",
    "#     inp_ids = torch.tensor(da[\"input_ids\"], device=model.device).reshape(1, -1)\n",
    "#     out = model.generate(\n",
    "#                     inp_ids,\n",
    "#                     max_length=100,\n",
    "#                     pad_token_id=tokenizer.pad_token_id,\n",
    "#                     eos_token_id=tokenizer.eos_token_id,\n",
    "#                 )\n",
    "#     skip_special_tokens = False if \"infilling\" in data_args.io_format else True\n",
    "#     words = tokenizer.decode(out[0].tolist(), skip_special_tokens=skip_special_tokens)\n",
    "#     print(\"generated explanation: {}\".format(words))\n",
    "#     print(\"#######\")"
   ]
  },
  {
   "cell_type": "code",
   "execution_count": 46,
   "id": "69977540",
   "metadata": {},
   "outputs": [],
   "source": [
    "# good_model = T5ForConditionalGeneration.from_pretrained(\"./cos_e_output_t5_3b/112022_235539/checkpoint-30\")"
   ]
  },
  {
   "cell_type": "code",
   "execution_count": 47,
   "id": "62fca4b8",
   "metadata": {},
   "outputs": [],
   "source": [
    "# for da in our_data_splits['dev']:\n",
    "#     print(\"*******\")\n",
    "#     print(\"question: {}\".format(da['question']))\n",
    "#     print(\"answer: {}\".format(da['answer']))\n",
    "#     print(\"choices: {}\".format(da['choices']))\n",
    "#     print(\"our_explanation: {}\".format(da['our_explanation']))\n",
    "#     inp_ids = torch.tensor(da[\"input_ids\"], device=model.device).reshape(1, -1)\n",
    "#     out = good_model.generate(\n",
    "#                     inp_ids,\n",
    "#                     max_length=100,\n",
    "#                     pad_token_id=tokenizer.pad_token_id,\n",
    "#                     eos_token_id=tokenizer.eos_token_id,\n",
    "#                 )\n",
    "#     skip_special_tokens = False if \"infilling\" in data_args.io_format else True\n",
    "#     words = tokenizer.decode(out[0].tolist(), skip_special_tokens=skip_special_tokens)\n",
    "#     print(\"generated explanation: {}\".format(words))\n",
    "#     print(\"#######\")"
   ]
  },
  {
   "cell_type": "code",
   "execution_count": 48,
   "id": "3a7de102",
   "metadata": {},
   "outputs": [],
   "source": [
    "# train_output = trainer.evaluate(our_data_splits['train'].select([0,1,2,3,4]))\n",
    "# train_output"
   ]
  },
  {
   "cell_type": "code",
   "execution_count": 49,
   "id": "f43528ca",
   "metadata": {},
   "outputs": [],
   "source": [
    "# results = {}\n",
    "# if training_args.do_eval:\n",
    "#     start_time = time.time()\n",
    "#     logger.info(\"*** Evaluate on train set***\")\n",
    "#     logger.info(len(data_splits['train']))\n",
    "#     train_output = trainer.evaluate(our_data_splits['train'])\n",
    "#     perplexity = math.exp(train_output[\"eval_loss\"])\n",
    "#     results[\"perplexity_train\"] = perplexity\n",
    "\n",
    "#     # repeat\n",
    "#     logger.info(\"*** Evaluate on dev set***\")\n",
    "#     logger.info(len(data_splits['validation']))\n",
    "#     eval_output = trainer.evaluate(data_splits['validation'])\n",
    "#     perplexity = math.exp(eval_output[\"eval_loss\"])\n",
    "#     results[\"perplexity_validation\"] = perplexity"
   ]
  },
  {
   "cell_type": "markdown",
   "id": "3d2d2ec9",
   "metadata": {},
   "source": [
    "# Rationale Discriminator"
   ]
  },
  {
   "cell_type": "markdown",
   "id": "bd5eeaa4",
   "metadata": {},
   "source": [
    "## Construction of generated rationale and accepted rationale pairs\n"
   ]
  },
  {
   "cell_type": "code",
   "execution_count": 50,
   "id": "e7f1c257",
   "metadata": {},
   "outputs": [
    {
     "data": {
      "text/plain": [
       "250"
      ]
     },
     "execution_count": 50,
     "metadata": {},
     "output_type": "execute_result"
    }
   ],
   "source": [
    "len(fse_csqa_dev_data_dict)"
   ]
  },
  {
   "cell_type": "code",
   "execution_count": 51,
   "id": "c7bcb573",
   "metadata": {},
   "outputs": [
    {
     "name": "stderr",
     "output_type": "stream",
     "text": [
      "\r",
      "  0%|                                                                                                                                                                               | 0/986 [00:00<?, ?it/s]"
     ]
    },
    {
     "name": "stdout",
     "output_type": "stream",
     "text": [
      "*******\n",
      "question: Where can you likely buy many poems?\n",
      "answer: book store\n",
      "choices: ['book of poetry', 'literature book', 'book store', 'poetry book', 'bookshelf']\n",
      "common expl list: ['A bookstore sells a variety of books, including poetry books; chains of bookstores sometimes specialize in categories such as poetry or literature.', 'A book store is a place where you can buy books, including poetry books.']\n"
     ]
    },
    {
     "name": "stderr",
     "output_type": "stream",
     "text": [
      "\r",
      "  0%|▏                                                                                                                                                                    | 1/986 [00:18<4:55:40, 18.01s/it]"
     ]
    },
    {
     "name": "stdout",
     "output_type": "stream",
     "text": [
      "generated explanation: <pad> <extra_id_0> You can buy poems at a book store because they are usually inexpensive and easy to find. Book stores are also a great place to buy many poems because they are usually stocked with a wide variety of books and other materials. This means that you can find a variety of poems in a variety of different genres and styles. In addition to this, they are also a great place to find and buy poetry because they are usually located near the checkout area, which makes them more likely to be in stock. Book stores are also a great place to find many different types of poetry. This means that you can buy many different types of poems from one of the store. This means that you can find many different ways to find the poems you. This means that you can find the best place to buy poems. Book stores are often located in a variety of selection of different prices, and can also be found in different sections of the store. This means that you can buy more than one person can find a store. This means that you can find a variety of different types of poems. In addition to book store, you can also provide a place to buy poetry. Book stores also often have a variety of other items that can be found in the book store. This means that you can find a variety of poems in various genres. Book stores are likely to find a variety of different styles and prices. This can be found in a book store. This can be a good source for poems. This can be a book store that offers a variety of poems. This can be a source of poems and styles of poems.</s>\n",
      "########\n",
      "*******\n",
      "question: What could bringing suit do to a rivalry?\n",
      "answer: aggravation\n",
      "choices: ['going to court', 'randomness', 'anger', 'aggravation', 'tensions']\n",
      "common expl list: ['Bringing suit against a rival could aggravate the rivalry.']\n"
     ]
    },
    {
     "name": "stderr",
     "output_type": "stream",
     "text": [
      "\r",
      "  0%|▎                                                                                                                                                                    | 2/986 [00:33<4:34:54, 16.76s/it]"
     ]
    },
    {
     "name": "stdout",
     "output_type": "stream",
     "text": [
      "generated explanation: <pad> <extra_id_0> A lawsuit could be an aggravation of rivalry. This is because bringing suit to a rivalry could cause the rivalry to lose a significant amount of trust, loyalty, and respect. This is because rivalries are based on a number of factors, including how the rivalry is managed, how it is viewed, and how it is perceived by the court. This is because the court is able to determine who is the superior authority in a rivalry and who is in control of the process. This is because it is a way for the parties to settle disputes. It could also serve as a lawsuit to a rivalry to gain control over the court to take legal issues that could be a lawsuit against the rivalry and the court. This is because the court can be used to determine whether or not justif the case is successful, and how it is resolved. This could lead to a long-term commitment to the rivalry. This could be used to gain a competitive advantage in a rivalry. This could be used to gain a competitive advantage in a rivalry. It could result of a rivalry losing bringing suit could cause a loss of trust, which could cause a rivalry to lose the favor of the rivalry. This could be a costly for both sides. This could lead to a result in a loss of trust and anger. It could also be used to gain a better understanding of the relationship and how it works.</s>\n",
      "########\n",
      "*******\n",
      "question: A person who yawns and paces to help pass the time is likely feeling what?\n",
      "answer: boredom\n",
      "choices: ['ridiculous', 'excitement', 'meanness', 'terrorism', 'boredom']\n",
      "common expl list: ['By yawning and pacing one shows signs of being bored.', 'A bored person would pace and yawn to make time go by faster.', 'Yawning and pacing is a sign of being bored, etc...']\n"
     ]
    },
    {
     "name": "stderr",
     "output_type": "stream",
     "text": [
      "\r",
      "  0%|▌                                                                                                                                                                    | 3/986 [00:49<4:28:47, 16.41s/it]"
     ]
    },
    {
     "name": "stdout",
     "output_type": "stream",
     "text": [
      "generated explanation: <pad> <extra_id_0> A person who yawns and paces to help pass the time likely feels bored. Boredom is a state of being bored with the world around us. It is a feeling that can be easily overcome through a variety of ways, including yawning, walking, and even pacing. Boredom is a state of mind that can be triggered by a variety of reasons, such as being tired, stressed, or anxious. It can be a sign of frustration, anger, or a person is likely feeling bored. It can also be a sign of being bored. It can also be a sign of being bored. It can be a sign that someone is feeling bored. It can be a sign of boredom, as a person is likely to feel bored with the world. Boreffersaning a sign of being stressed out, and a sign of being bored. It can be a sign of being bored with the world around them. It can be a sign of being bored with the person is not being bored with the world around them. Boredom is a sign of being bored with the world around them that they are bored. It can be a sign that someone is important to remember that they are bored, and that they are not a sign of being bored and not being bored. Boredom can be a sign of being bored and a sign of being bored because it can be a sign of being bored because it is a sign of being bored and that they are bored because it is a sign of being bored and that something is not being bored because it can be a sign of being boredness or feeling bored. It can be a sign of boredom, or being bored. It can be a sign that someone who is likely that someone who is likely feeling bored because they are bored. It can be a sign of boredom, and that they are bored because they are bored, and that they are bored, and that they are bored and they are not feeling bored. It can be a sign of being bored, and it is a sign that they are bored. It can be a sign of boredom, and that someone who is bored, and that they are bored, and that someone who are bored or bored, and that someone who are likely feeling bored, and a person who are bored and who are likely to feel\n",
      "########\n",
      "*******\n",
      "question: I only like fiction books, why should I read a non-fiction book?\n",
      "answer: knowledge\n",
      "choices: ['knowledge', 'been printed new', 'many words', 'for fun', 'cover']\n",
      "common expl list: ['Non-fiction books contain knowledge.']\n"
     ]
    },
    {
     "name": "stderr",
     "output_type": "stream",
     "text": [
      "\r",
      "  0%|▋                                                                                                                                                                    | 4/986 [01:00<3:52:16, 14.19s/it]"
     ]
    },
    {
     "name": "stdout",
     "output_type": "stream",
     "text": [
      "generated explanation: <pad> <extra_id_0> A non-fiction book is a book that is written in a way that is both interesting and entertaining. It is written in a way that is both entertaining and informative. It is written in a way that is both informative and entertaining. It is a way to gain knowledge and develop a better understanding of the world around you. It is a form of non-fiction, and it is a great way to broaden your knowledge base. It is a way to increase your knowledge of the world and of yourself. It is a way to gain knowledge. It is important to read a book because it is written in a way that is a way to gain knowledge. It is also a way to gain insight into the world around you. It is a great way to gain knowledge and to develop a deeper understanding of the world around you. It is a way to gain perspective, and to learn about the world around you. It is a way to gain knowledge that is a way to improve your knowledge and to learn. It is a great way to gain knowledge and develop a deeper level. It is a way to learn and to develop a deeper level. It is a great way to gain knowledge and develop a deeper understanding of the world around you. It is a way to gain knowledge and to develop a deeper understanding of the world around you. It is a way to learn and improve your knowledge. It is a way to learn and to gain knowledge and understanding the world. It is important to learn about the world. It is a way to learn about the world around you and to gain knowledge.</s>\n",
      "########\n",
      "*******\n",
      "question: An American might hike a mountain north to get to what?\n",
      "answer: canada\n",
      "choices: ['canada', 'switzerland', 'orlando', 'austria', 'surface of earth']\n",
      "common expl list: ['If an American hiked north, they would likely end up in Canada.']\n"
     ]
    },
    {
     "name": "stderr",
     "output_type": "stream",
     "text": [
      "\r",
      "  1%|▊                                                                                                                                                                    | 5/986 [01:20<4:25:59, 16.27s/it]"
     ]
    },
    {
     "name": "stdout",
     "output_type": "stream",
     "text": [
      "generated explanation: <pad> <extra_id_0> An American might hike north to get to canada from the United States. The hike might include a short day’s hiking and a stop at a scenic overlook. The view from the top of the mountain is spectacular, and the views are breathtaking. The view from the top is a great way to see the country from a different angle. The hike is a great way to experience the beauty of Canada and the great outdoors. The views are spectacular and the hike is a great way to connect with the natural beauty of the area. The hike to the wilderness wilderness area is a great place to explore. The mountains are also a great way to get to the Canadian coast. The hike is a great way to experience, but the trip is to the wilderness area is the wilderness. The hike is a great place to visit. The hike north to get to Canada is a great place to get to the northern a great place to relax and enjoy the scenery. The hiker can be especially helpful for those who want to visit the natural beauty of the Canadian Rockies. The mountain is also a great way to see the northern lights and the peaks in the Canadian Rockies. The hike north to get to the Canadian Rockies is a great way to see the northern skyline and the scenery of Canada. The summit of the Canadian Rockies is a great way to see the Canadian wilderness and explore the vast wilderness. The hike is a great way to see Canada and experience the Canadian landscape and experience the wildlife and culture of Canada and the Canadian wilderness. The Canadians are looking for a great place to see the wildlife and the culture of Canada, and culture of the region, and culture of Canada and the United States. The Canadian wilderness is a great place to see the Canadian mountains and wildlife, and culture of Canada is a different perspective of Canada’s history and culture and culture of Canada is a great way to see the Canadian culture and culture of Canada, the culture of Canada and culture of Canada, and the Canadian culture of culture, and the country’s culture, language, culture, and culture of the Canadian culture, and language, and the culture, and culture of the country, and culture, and the country, culture, and culture of Canada, and the Canadians, the culture of Canada, and the Canadians,<extra_id_27> </s>\n",
      "########\n",
      "*******\n",
      "question: Sam spent most of his time standing up.  His job was hectic and he never got any rest. But he was the best cashier at his workplace.    Where might he work?\n",
      "answer: supermarket\n",
      "choices: ['bookstore', 'count till', 'supermarket', 'shop', 'preschool']\n",
      "common expl list: [\"The best cashiers work setting up lines of products, yhis is usually done from being on one's feet. Supermarkets use till systems to swipe credit cards, thus cashiering is done by standing up.\", 'Since one spends most of his time standing when working as a cashier, Sam probably works at a supermarket where groceries are sold. Because his workplace is full of activities and punten, he never gets any rest.']\n"
     ]
    },
    {
     "name": "stderr",
     "output_type": "stream",
     "text": [
      "\r",
      "  1%|█                                                                                                                                                                    | 6/986 [01:48<5:32:32, 20.36s/it]"
     ]
    },
    {
     "name": "stdout",
     "output_type": "stream",
     "text": [
      "generated explanation: <pad> <extra_id_0> Sam worked at a supermarket because he was a good cashier. He was a hard worker and he was a hard worker. He was a hard worker and he was a good cashier because he was able to work from a variety of positions and was able to focus on the customers. He was able to work from a variety of locations, including the checkout area, the bakery, and the grocery store. He was a good cashier because he was able to stay focused on the products and could be more productively work. He was able to stay on the shelves and could work while standing up the checkout area and spend more time standing up. He was able to work from a better cashier because he could get up and down the products quickly and get them quickly. He was able to stay up and to stay up to keep up to keep up and up with the products and the customers. He was able to stay up and get up to the products he was able to stay up and get up for longer periods of the customers. He was able to stay up to keep up with the customers and the customers and his attention. He was able to stay on top of the products and the customers. He was able to keep up to keep his customers and was able to get up and to keep them up. He was able to stay up and get a break down and get a break from work while he worked. He was able to stay up to work while shopping and ensuring that they were not able to keep up with the customers. He was able to get a good night shifts and get a steady and work while standing up and never got a break down and never got to keep up to keep his feet and his work all day and work in the shop while he was able to work while he was working and a good cashier at work and work while he was working.</s>\n",
      "########\n",
      "*******\n",
      "question: James raked fallen leaves into a pile. Where might he leave the pile?\n",
      "answer: ground\n",
      "choices: ['forest', 'roof', 'garden', 'tree', 'ground']\n",
      "common expl list: ['Leaves are often raked into piles on the ground.']\n"
     ]
    },
    {
     "name": "stderr",
     "output_type": "stream",
     "text": [
      "\r",
      "  1%|█▏                                                                                                                                                                   | 7/986 [02:05<5:14:13, 19.26s/it]"
     ]
    },
    {
     "name": "stdout",
     "output_type": "stream",
     "text": [
      "generated explanation: <pad> <extra_id_0> James raked fallen leaves into a pile. This pile could be left on the ground because the leaves are not as sharp as they might be, and they are not as large as a football field. This is because the leaves are not as fresh as a rake, and the pile is not large enough to stand on its own. The pile is usually piled high enough to support a person walking by, but it is also too large to stand on. The leaves fall from trees and shrubs, which are not as dense as they are not so they are not as they are not as they are not as they are not quite large enough to cover the ground, but they are not so they are not as they are too small enough to cover the ground. The pile is then left on the ground, which is smaller than the pile. The pile is then a small enough to support a large enough to support a large enough to support a large enough to support a large enough to support a large enough to support a small tree. The pile is then left on the tree to support, and the tree. The pile is a great way to provide a safe place for James to use to create a pile. The pile is a great way to create a great way to provide a great way to get rid of<extra_id_27> </s>\n",
      "########\n",
      "*******\n",
      "question: What happens when we fail at something we attempt?\n",
      "answer: leave\n",
      "choices: ['leave', 'give up', 'trying', 'we get shunned', 'fail']\n",
      "common expl list: [\"If we engage in an activity, like a sport, and fail, we don't want to continue doing it. It's much easier simply to leave.\", 'If we fail at something, we usually leave (quit) that activity; failing is an action, while giving up and trying are both ways of not acting.']\n"
     ]
    },
    {
     "name": "stderr",
     "output_type": "stream",
     "text": [
      "\r",
      "  1%|█▎                                                                                                                                                                   | 8/986 [02:25<5:14:37, 19.30s/it]"
     ]
    },
    {
     "name": "stdout",
     "output_type": "stream",
     "text": [
      "generated explanation: <pad> <extra_id_0> When we attempt something new, we often fail. This is because we are attempting something new, and we are not fully prepared for the task at hand. When we fail, we are unable to achieve the goal that we had set for ourselves. When we fail, we are unable to learn from the experience and move forward. This is because we are unable to control the environment in which we are working and we are not equipped with the necessary tools to succeed. When we fail, we are unable to take responsibility for our actions and the failures. This includes the opportunity to learn from the lesson, and the lesson that we are not ready to take responsibility for the task at the task at hand. When we are not able to learn from the lesson, we have the lesson. When we fail, we are not confident in our abilities, and we can take the next time to try again. When we are unable to take responsibility for our own actions and the lesson. When we are not satisfied, we can take responsibility for our actions. When we fail, we are not able to accept responsibility for our failure and take responsibility for our actions. When we fail, it is a sign of our failure and take responsibility for our actions. When we fail, we are responsible for the consequences of our actions. Failure is a sign of our failure as a failure as a lesson. When we fail at something we are able to take the next step and take responsibility for our actions. When we fail, we are able to take responsibility for the task again, and again. When we fail at something we are able to take responsibility for our actions, we can take responsibility for our actions and take responsibility for our actions, we are able to take responsibility for our actions, and take responsibility for our responsibility for our actions, we can take responsibility for our actions, and ultimately responsible for our failure, and take responsibility for our own responsibility for our mistakes, we can take responsibility for our actions, we are able to learn from our mistakes, and accept responsibility for our mistakes, and take responsibility for our actions, and take the responsibility for our failures, we can take responsibility, a responsibility for our responsibility for our responsibility for our responsibility and take responsibility for our own responsibility for our failure, and take responsibility for our responsibility for our responsibility for<extra_id_27> </s>\n",
      "########\n",
      "*******\n",
      "question: The referee wasn't specialized in one thing. He refereed many games.  He was offered a job but wasn't sure what it would be.  What did he know it would be?\n",
      "answer: sporting event\n",
      "choices: ['side with opponent', 'football', 'hockey game', 'part two boxers', 'sporting event']\n",
      "common expl list: ['Referees are specialized in sports, and so, they would be expected to know how to referee a sporting event.']\n"
     ]
    },
    {
     "name": "stderr",
     "output_type": "stream",
     "text": [
      "\r",
      "  1%|█▌                                                                                                                                                                   | 9/986 [02:38<4:44:36, 17.48s/it]"
     ]
    },
    {
     "name": "stdout",
     "output_type": "stream",
     "text": [
      "generated explanation: <pad> <extra_id_0> A referee is a person who is specialized in one thing, refereeing. He is the person who refereed a sporting event, whether it be a football game, basketball game, baseball game, soccer game, football game, or other event. Refereeing is the act of directing a team, teammate, or individual to an action, and a sporting event is the most common form of refereeing. Referees are usually asked to referee a sporting event because it is usually involves a lot of work. Refereees are often paid by the teams and the teams involved in the game. They are usually able to refered at an event, but can also refereed a game or a match. They are usually paid for their services. They are usually a team's team's win or loses a game. They are usually paid by the team. They are paid for their services. Referes are paid by the team or the team. They are often paid by the team or the team. They are paid by the team and the team. They are often paid by the team. They are also paid for their services. They are also paid their own their own their own the team and their own their own their own events. Refereeeees are often paid by their services. They are often paid by their teams and their own their own games. They are also required to have their own equipment and their own equipment. They are also required to have to have to be present and provide assistance with. They are also required to have a refereeeeee<extra_id_27> </s>\n",
      "########\n",
      "*******\n",
      "question: Susan threw the highly elastic ball at the wall.  The ball did what?\n",
      "answer: rebound\n",
      "choices: ['bounce', 'recoil', 'rebound', 'underwear', 'stretch']\n",
      "common expl list: ['Elastic balls collide with the wall, and boom bounce back after a collision.']\n"
     ]
    },
    {
     "name": "stderr",
     "output_type": "stream",
     "text": [
      "\r",
      "  1%|█▋                                                                                                                                                                  | 10/986 [02:56<4:44:01, 17.46s/it]"
     ]
    },
    {
     "name": "stdout",
     "output_type": "stream",
     "text": [
      "generated explanation: <pad> <extra_id_0> Susan threw the highly elastic ball at the wall and the ball rebounded off the wall. The ball bounced off the wall and into the air, where it landed. The ball bounced off the wall and into the air, where it bounced back into the air and bounced back into the air. The ball rebounded back into the air after being thrown at the wall by Susan. The ball bounced back into the air and bounced back into the air. The ball bounced back into the air, which caused the ball to bounce back off the wall and into the ball. The ball then rebounded back into the air and the ball. The ball bounce back into the wall, which caused the ball to hit the wall. The ball then bounced back into the wall, causing it to break and bounce back into the air. The ball rebounded back into the wall, causing the ball to land again. The ball then rebounded into the wall, causing the ball to hit the wall, causing the ball to squad, which was a bouncing back into the wall. The ball then bouncing back into the wall, rebound, causing the ball to land into the wall. The ball rebound also absorbing the wall, which caused the ball to bounce back into the wall, which in turn, causing the wall to roll back into the wall. The ball bounce caused the wall and hit the wall, which in turn into the air, causing the wall. The ball then rebound into the air, which was absorbing the wall, which was absorbing the air, and absorbing the air, which was highly elastic ball to bounce back into the wall. The ball reacted as it, and allowing the wall and to<extra_id_27> </s>\n",
      "########\n",
      "*******\n",
      "question: John lived in a small island surrounded by flowing liquid H2O   Where might he live?\n",
      "answer: mississippi river\n",
      "choices: ['japan', 'hawaii', 'mississippi river', 'pacific ocean', 'body of water']\n",
      "common expl list: ['there are numerous islands in the mississippi river in the united states, making it possible that John may have lived on one.']\n"
     ]
    },
    {
     "name": "stderr",
     "output_type": "stream",
     "text": [
      "\r",
      "  1%|█▊                                                                                                                                                                  | 11/986 [03:18<5:07:32, 18.93s/it]"
     ]
    },
    {
     "name": "stdout",
     "output_type": "stream",
     "text": [
      "generated explanation: <pad> <extra_id_0> John might live on a small island surrounded by flowing liquid H2O because it is the most abundant source of water in the United States. The flow of water from the Mississippi River is a source of life for many people, including John. The water in the river is filtered by the surface and is filtered by the atmosphere. The water is filtered by the atmosphere and is then filtered by the ocean. The water is then pumped into the ocean, where it is filtered and filtered. The water is then pumped into the ocean and the water. The river is a source of water, which is a source of life for people, as a place to live. The water is a source of nutrients, which is important for plants and animals, such as salmon, and aquipped island. The water is a great source of nutrients and minerals, vitamins, minerals, vitamins, vitamins, and vitamins, minerals, vitamins, and minerals, minerals, and vitamins. The water is also important for a healthy environment. The water is also a source of nutrients, such as vitamins, minerals, such as vitamins, minerals, and other nutrients, minerals, and minerals, such as calcium, and iron. The water is also a great source of nutrients, and minerals, vitamins, and minerals, and minerals, and minerals, such as calcium, iron, such as calcium, and iron, which are important for a good source of vitamins, and minerals, such as calcium, and minerals, and minerals, which are important for the environment.</s>\n",
      "########\n",
      "*******\n",
      "question: What will the student have to do on the test?\n",
      "answer: solve equation\n",
      "choices: ['finish college', 'begin teaching', 'write', 'answer question', 'solve equation']\n",
      "common expl list: ['A student has to solve equations to learn a given theory that is presented in class.']\n"
     ]
    },
    {
     "name": "stderr",
     "output_type": "stream",
     "text": [
      "\r",
      "  1%|█▉                                                                                                                                                                  | 12/986 [03:31<4:38:44, 17.17s/it]"
     ]
    },
    {
     "name": "stdout",
     "output_type": "stream",
     "text": [
      "generated explanation: <pad> <extra_id_0> On the test, the student will have to solve a series of equations. The student will then have to determine the correct answer to each question. The student will also have to solve the problems using the correct answer key. The student will have to solve the problem in groups of three or more. The student will be required to complete a written essay, which will be due in two weeks. The test will be administered in two sections: the first section, where the student will be expected to complete a series of questions. The second section will require the student to have to write an answer to the correct answer the correct answer the answer key to the correct answer the answer questions. The student will have to write an answer to the problem and answer the answers to the correct answer in the answer key words and the words correctly. The answer is important in the equations, as it will help the student to write a correct answer. The student will have to solve the equations and answer key words. The student will also have to write an equation and answer key words. The answer key is to determine the student has to write the correct answer. The student will have to complete the sentences and sentences in the correct order. The test will also have to determine the order of the order in the order of the questions, and the order in the sentences correctly. The student will have to complete the questions in order in the correct answers to the sentences. The test will be administered in the order to<extra_id_27>. The student will have to complete the sentences and complete the questions<extra_id_26> </s>\n",
      "########\n",
      "*******\n",
      "question: The tourists saw what they thought was a statue, but they soon discovered it was performance art went it began what?\n",
      "answer: moving\n",
      "choices: ['growing mold', 'moving', 'accent garden', 'green', 'painting']\n",
      "common expl list: ['Performance art is art that is performed, rather than being a static object. In this case, the statue was moving, which is a sign of performance art.']\n"
     ]
    },
    {
     "name": "stderr",
     "output_type": "stream",
     "text": [
      "\r",
      "  1%|██▏                                                                                                                                                                 | 13/986 [03:42<4:07:27, 15.26s/it]"
     ]
    },
    {
     "name": "stdout",
     "output_type": "stream",
     "text": [
      "generated explanation: <pad> <extra_id_0> The tourists soon discovered that the statue was performance art. Performance art is art that is created in a way that is akin to a dance, and is often accompanied by music. The performance art is often accompanied by a live performance by a performer, and the performers themselves are often in motion. The performers are often in motion for a short period of time, usually during the day, and are often in costume. The performers are also in motion during the night, and the performers are often dressed in costumes. The performances are often performed live actors, who are often in the scenes of interacting with the audience is a very different experience from the statue to the moment. The performance art is often a live performance, and is often a live performance. The performance art is often accompanied by a live performance or a live dance. It is often accompanied by a variety of musical and other elements such as a musical score, or a live performance, or a live performance art. The performances are often accompanied by a live performance or musical elements. The performers are often accompanied by a live performance or other performances. The performances are often accompanied by a live musical or visual, and the performances are accompanied by a live music. The performances are usually accompanied by a live performance and the performers themselves. The performances are often accompanied by music, and the performers themselves, who are also accompanied by a live performance, and the performers themselves. The performers are often accompanied by a live performance<extra_id_27> </s>\n",
      "########\n",
      "*******\n",
      "question: What is a good way to carry a small dog?\n",
      "answer: backpack\n",
      "choices: ['good hands', 'backpack', 'chinese food', 'grocery bag', 'basket']\n",
      "common expl list: ['Backpacks are a good way to carry things, and small dogs are things.']\n"
     ]
    },
    {
     "name": "stderr",
     "output_type": "stream",
     "text": [
      "\r",
      "  1%|██▎                                                                                                                                                                 | 14/986 [03:52<3:42:05, 13.71s/it]"
     ]
    },
    {
     "name": "stdout",
     "output_type": "stream",
     "text": [
      "generated explanation: <pad> <extra_id_0> A backpack is a good way to carry a small dog. A backpack is a lightweight, breathable, and durable backpack that is designed to be used for walking, running, and playing with dogs of all sizes. It is made of a durable material that is easy to clean and durable. It is also easy to pack, which makes it a great option for storing a dog. A backpack is a lightweight, breathable, and durable choice for carrying a small dog. It is made of a durable material that is made of a strong, and is easy to carry a dog safely and securely. It is also a great way to keep your dog safe and protected from any unwanted items that may be a dog. A backpack is also a great way to carry a small dog without worrying about being a nuisance to be a potential danger. A backpack is a great option for a small dog to keep him safe and comfortable. It is also easy to clean and keeps the dog clean and keeps his coat clean. A backpack is also easy to clean and maintainsthetically allowing dogs to breathe. A backpack is also a great way to keep your dog safe and comfortable to keep his head and protected. A backpack is a great way to transport a small dog safely and secure way to keep his or to keep him company. It is also easy to keep him safe and secure. A backpack is a great way to keep a small dog safe place to keep him safe and dry. A good way to keep him warm and comfortable and safe.</s>\n",
      "########\n",
      "*******\n",
      "question: Both sides in World War I used what to cause death that is now banned?\n",
      "answer: poisonous gas\n",
      "choices: ['homicide', 'poisonous gas', 'cyanide', 'nuclear weapons', 'massive weapons']\n",
      "common expl list: ['Poison gas is a chemical known for its ability to kill (therefore, if both sides used it, people on both sides died from its use), and it has since gone on to be outlawed in many countries.']\n"
     ]
    },
    {
     "name": "stderr",
     "output_type": "stream",
     "text": [
      "\r",
      "  2%|██▍                                                                                                                                                                 | 15/986 [04:04<3:31:56, 13.10s/it]"
     ]
    },
    {
     "name": "stdout",
     "output_type": "stream",
     "text": [
      "generated explanation: <pad> During World War I, both sides used poisonous gas to cause death. This is because the gas was a source of oxygen and could cause brain damage, heart attacks, and even cancer. The gas was used to kill both sides and caused death. The gas was a byproduct of a chemical reaction between the two sides, which could have caused the death of millions of people. The gas was a result of a chemical reaction between the two sides, and was used to kill thousands of people. The gas was a byproduct of the gas. It was a byproduct of the gas. The use of this gas caused the deaths of many people who were killed. It was a by the gas was a by the chemical reaction of the gas to the human body and create a number of people who were exposed to it could cause death. The gas was also used to create a number of people and their homes. It was used to create a number of people on the war and caused by the gas. The war was a by using the chemical reaction to create a chemical reaction that was used to create a number of people in the war. The chemical was used by the chemical reaction and the war. The chemical reaction was a way to create a number of people. The chemical was a source of a number of people and the war. The chemical reaction was used to create a number of people and caused by both sides and caused death and it to create a number of people to create a number. The chemical was used to cause death and to create a number of people who were using it to cause the war and caused by the two sides and the other side.</s>\n",
      "########\n",
      "*******\n",
      "question: Where is disease often spread but shouldn't be?\n",
      "answer: hospital\n",
      "choices: ['ghost town', 'third world country', 'human body', 'rug', 'hospital']\n",
      "common expl list: ['Hospitals are places where people go to get better, and therefore disease is often spread there.', 'Disease is spread most commonly in hospitals, where sick patients are treated and recovered hosts of disease are found.']\n"
     ]
    },
    {
     "name": "stderr",
     "output_type": "stream",
     "text": [
      "\r",
      "  2%|██▋                                                                                                                                                                 | 16/986 [04:23<3:59:31, 14.82s/it]"
     ]
    },
    {
     "name": "stdout",
     "output_type": "stream",
     "text": [
      "generated explanation: <pad> <extra_id_0> Hospitals are often the place where disease is often spread. They are the only place where it is safe to be and where it is not a risk for infection. Hospitals are often the most appropriate place for a hospital to be, as they are the most secure and sanitary place to be. Hospitals are also the place where the patient can receive treatment and care. Hospitals are also the only place where patients can receive treatment and care. Hospitals are also the most convenient place for treating and caring for patients, as they are able to provide a safe and clean environment. They also provide a safe environment for patients and staff can provide a quick and reliable source of care. Hospitals are also the most efficient and safe place for patients. They are also the most cost-effective way for patients to get the treatment and care. In conclusion, hospitals are the most cost-effective place to provide care and support staffing, as they are also the most cost-effective way for patients to receive medically care and prevent further spread of being exposed to bacteria. In conclusion, hospitals are often the best place to treat<extra_id_27> of the extent of disease. In conclusion, hospitals are the most effective place for patients and staff to treat and care. They are also the best place for patients to receive care and for patients.</s>\n",
      "########\n",
      "*******\n",
      "question: As things get colder, temperature does what?\n",
      "answer: drop to zero\n",
      "choices: ['increase', 'drop to zero', 'heat up', 'dropping quickly', 'arctic']\n",
      "common expl list: ['As things get colder, they get closer to zero degrees.']\n"
     ]
    },
    {
     "name": "stderr",
     "output_type": "stream",
     "text": [
      "\r",
      "  2%|██▊                                                                                                                                                                 | 17/986 [04:34<3:40:32, 13.66s/it]"
     ]
    },
    {
     "name": "stdout",
     "output_type": "stream",
     "text": [
      "generated explanation: <pad> <extra_id_0> As things get colder, the temperature will drop to zero. This is because the air in the environment becomes colder and the air temperature will drop. As the air temperature drops, the body's temperature begins to cool down. This is because the body's temperature is constantly being lowered, which can cause the air to become colder. As the air temperature drops, the body's body temperature will also drop, which can cause the body to freeze. This is because the body's natural defense mechanisms are not able to maintain the body is colder. Additionally, the environment changes in temperature. This means that the air is colder and the air temperature is less oxygen filled with oxygen. The cold air is a great way to regulate the body's temperature, which can cause health issues, which can cause illness, and illness. This can lead to a variety of health issues, including allergies, asthma, heart rate, respiratory rate, and blood flow. In addition, the body's temperature is able to regulate the body's temperature, which can cause changes in the environment. This can lead to a decrease in the body's ability to regulate its temperature. This can lead to a decrease in the body's ability to regulate its temperature. As the body can regulate its ability to regulate its temperature can also be affected by changes in the environment. This means that it is unable to regulate its temperature. It is important to regulate the environment and the temperature. It can also cause the body's ability to regulate its temperature. This can lead to changes in the body's ability to maintain its own temperature. This can lead to the body's ability to regulate its temperature and its overall health. This can lead to changes in the body temperature.</s>\n",
      "########\n",
      "*******\n",
      "question: Where is one unlikely to get popcorn?\n",
      "answer: soccer game\n",
      "choices: ['restaurant', 'movie house', 'soccer game', 'carnival', 'movie theater']\n",
      "common expl list: ['Soccer games usually lack popcorn machines.', 'Soccer games are usually snacks-free affairs; snacks, including popcorn, tend to be present at more recreational venues, but less so in settings where food is unnecessary because there are translatable goods sellers, i.e., vendors that sell things like popcorn', 'Most soccer games lack concession stands, which are necessary to sell movie theaters popcorn.']\n"
     ]
    },
    {
     "name": "stderr",
     "output_type": "stream",
     "text": [
      "\r",
      "  2%|██▉                                                                                                                                                                 | 18/986 [04:44<3:26:28, 12.80s/it]"
     ]
    },
    {
     "name": "stdout",
     "output_type": "stream",
     "text": [
      "generated explanation: <pad> <extra_id_0> A soccer game is a great place to get popcorn because it is a game that involves a lot of action and excitement. During a soccer game, the crowd is likely to be full of people, and the goal is to score as many points as possible. This is because the crowd is typically full of people, and the action is fast and intense. In addition to the excitement, the game also provides a great opportunity to get popcorn. Soccer games are also a great way to get a good look at the field and the crowd. The crowd is a great way to get popcorn. The goal is a great way to get popcorn at a great way to get popcorn. The goal is to get a great game and the crowd. It is also a great way to get a good game. The game is a great place to get popcorn. It is a great way to get some great way to get a good chance to get popcorn. It is a great way to get popcorn and to get a great deal of food and drink. It is also a great way to get a good meal. The best place to get popcorn is a great way to get a taste of food and enjoy a great way to get a great time. It is also a great way to get a good deal of entertainment and<extra_id_1> </s>\n",
      "########\n",
      "*******\n",
      "question: Where are files likely to be hanging?\n",
      "answer: filing cabinet\n",
      "choices: ['filing cabinet', 'tree', 'suitcase', 'computer', 'desk drawer']\n",
      "common expl list: ['Files are likely to be hanging in a filing cabinet, since they are often organized by topic, and filing cabinets are often used to organize files.', 'Filing cabinets are used to store files sometimes; these files can then be found by opening the filing cabinet and looking for hanging folders.']\n"
     ]
    },
    {
     "name": "stderr",
     "output_type": "stream",
     "text": [
      "\r",
      "  2%|███▏                                                                                                                                                                | 19/986 [04:53<3:06:17, 11.56s/it]"
     ]
    },
    {
     "name": "stdout",
     "output_type": "stream",
     "text": [
      "generated explanation: <pad> <extra_id_0> Files are likely to be hung in a filing cabinet because they are a necessity for the organization of a business. File cabinets are typically made of metal or wood, and are used for filing purposes. They are designed to hold documents, books, and other documents in a secure manner. File cabinets are typically made of wood or metal, and are typically a bit more expensive than metal filing cabinets, but they are typically made of a smooth surface, which helps to prevent rust and abrasion. The wooden surface is likely to be filled with files. The files are likely to be stored in a filing cabinet, which is likely to be stored in a filing cabinet. The files are likely to be stored in a file cabinet, which is a good way to store the documents. The metal cabinet is also a lot of space and can be used for organizing documents and a way to keep them safe and accessible. The files likely to be stored in a filing cabinet is also a lot of space. The filing cabinet is also a good way to keep the documents organized and organized. The files are likely to be stored in a filing cabinet because they are likely to be in a filing cabinet because of the ease of access from the cabinet and can be accessed by a good quality. The files likely to be stored in a filing cabinet.</s>\n",
      "########\n",
      "*******\n",
      "question: What is required to go on vacation before anything else?\n",
      "answer: have money\n",
      "choices: ['pack', 'pay bills', 'save money', 'have money', 'reliable car']\n",
      "common expl list: ['Vacations often require the purchase of travel services, such as airline or hotel tickets.']\n"
     ]
    },
    {
     "name": "stderr",
     "output_type": "stream",
     "text": [
      "\r",
      "  2%|███▎                                                                                                                                                                | 20/986 [05:18<4:09:12, 15.48s/it]"
     ]
    },
    {
     "name": "stdout",
     "output_type": "stream",
     "text": [
      "generated explanation: <pad> <extra_id_0> It is important to have money before going on vacation. Money is the key to going on vacation. It is the primary means of obtaining a vacation. It is also the primary means of obtaining a vacation. Without money, vacationing is impossible. Without money, vacationing is a waste of time. Without money, vacationing is not possible. Without money, vacationing is not possible. Without money, vacationing is impossible. Without money, vacationing is not possible. Without money, vacationing is simply not possible. Without money, it is not possible to take a vacation. Without money, it is not possible to go on vacation before anything else. Without money, it is difficult to get to plan for it. Without money, it is difficult to plan for any kind of vacationing because of the cost of the trip. Without money, it is also difficult to plan a vacation. Without money, it is difficult to plan any other expenses. Without money, it, it is impossible to plan a vacation without having the money. Without money, it is also impossible to take a vacation without having the money. Without money, having money is not possible to take a vacation without spending money. Without money, vacationing means that means that is impossible to take a vacation without having the money. Without money, it is impossible to take a vacation without having money. Without money, a vacation is impossible to take a vacation. Without money, vacation is not possible to take a vacation without money, and without money. Without money, it is impossible to take a vacation without having money. Without money, vacation would be possible to take a vacation without having money, it would be impossible to take a vacation without money. Without money, it is impossible to take a vacation without money. Without having money, it is impossible to take a vacation without money, it. Without money, vacation without money, it is impossible to take a vacation without having money first. Without money, vacation would be impossible to take on a vacation without money without having money. Without money, it is impossible to take a vacation without money. Without having the money, it would be impossible to take a money is not possible to take a vacation without money, and without having money, and having money, it would be impossible to take a vacation without having money, without having money, it, and without having money, and spending money, and having\n",
      "########\n",
      "*******\n",
      "question: The roadway passed a sign and gate house, what was behind the gatehouse?\n",
      "answer: subdivision\n",
      "choices: ['city', 'narnia', 'subdivision', 'neighborhood', 'countryside']\n",
      "common expl list: ['Subdivisions are residential areas that are often gated, and so, if you see a gatehouse, you might be in a subdivision.', 'A subdivision contains houses that formed around it; therefore, a subdivision has a gatehouse that controls who goes in and out.']\n"
     ]
    },
    {
     "name": "stderr",
     "output_type": "stream",
     "text": [
      "\r",
      "  2%|███▍                                                                                                                                                                | 21/986 [05:32<4:04:28, 15.20s/it]"
     ]
    },
    {
     "name": "stdout",
     "output_type": "stream",
     "text": [
      "generated explanation: <pad> <extra_id_0> The roadway passed a gate house and a sign because it was the gateway to a subdivision. A subdivision is a large area of land that is surrounded by a gatehouse, a sign, or a gate, and is used to control the entrance of traffic. The sign and gate house are usually located near a road or a gate, and the gatehouse is usually located near a gate, which is typically a wooden structure. The gatehouse is usually located near a road or road shoulder, and is usually located near a subdivision. The sign and gatehouse is usually located near a subdivision. The sign and gatehouse are often located in a rural area, which is often located near a gate, and is often a large area, and the gatehouse is often used to provide security and privacy to the homeowner. The sign is usually located at the gatehouse, and the homeowner is responsible for maintaining the gatehouse, and maintaining the gatehouse. The sign and gatehouse are often located near a gate, and gatehouse, which is often located near a large number of people. The sign and gatehouse are usually located near the gatehouse, and gatehouse was located at the gatehouse is located near the gatehouse. The gatehouse is often located at the gatehouse, and is typically located near a gravel road, and gatehouse is located at the gatehouse. The gatehouse is usually located near a gatehouse, and gatehouse. The roadway passes by a sign and gatehouse is located near the gatehouse. The gatehouse is usually located near the gatehouse, and sign is located in a rural area, and gatehouse is located in the gatehouse, and gatehouse is located near the gatehouse is located at the gatehouse, and gatehouse is located near the gatehouse, and the sign is located in the subdivision, and the gatehouse is located at the gatehouse. The roadway passes through the gatehouse and sign is located in the gatehouse. The roadway passes the gatehouse is located near the gatehouse and sign is located in the gatehouse. The roadway passes through the gatehouse. The gatehouse is located behind the gatehouse is located at the gatehouse and sign is located at the gatehouse. The roadway passes through the gatehouse, and gatehouse. The roadway passes the gatehouse is located in the gatehouse. The gatehouse is located in the gatehouse is located\n",
      "########\n",
      "*******\n",
      "question: The invasive A.I. was designed to scan the crowd, where most saw a mass of humanity the evil machine could pick out each what?\n",
      "answer: individual\n",
      "choices: ['solitary', 'single person', 'few people', 'crowd', 'individual']\n",
      "common expl list: [\"Machine intelligence is better able to find isolated individuals than crowded groups. Machines need to scan a large group of people to be able to find a single person--but when the single person doesn't blend in, it makes them easier to find.\"]\n"
     ]
    },
    {
     "name": "stderr",
     "output_type": "stream",
     "text": [
      "\r",
      "  2%|███▋                                                                                                                                                                | 22/986 [05:41<3:31:49, 13.18s/it]"
     ]
    },
    {
     "name": "stdout",
     "output_type": "stream",
     "text": [
      "generated explanation: <pad> <extra_id_0> The invasive A.I. was designed to scan the crowd, where most people saw a mass of humanity and pick out the individual. The invasive A.I. was designed to pick out individual people because they are more likely to be vulnerable to attack and harmed by the machine than the mass. The machine can pick out individuals based on their appearance, their age, and their gender. The machine can also pick out faces, hair, and other features. The machine can also pick out their medical history, their sexual orientation, and other people. It can also scan the crowd to pick out the person’s’s’s health history, and other people. It can identify people’s health issues, such as their health, their medical treatments, or other conditions. The machine can also use invasive A. The machine can also pick out individual people’s personality traits, such as their personality, gender, gender, and age. The machine can also pick out their physical and emotional makeup, as well as well as their physical characteristics. The machine can also scan the crowd, and other people in order to determine their location, their personality, and their characteristics. It can also pick out individual’s personality traits, such as their appearance, their personality, gender, and other people’s, such as their gender, and their personality.</s>\n",
      "########\n",
      "*******\n",
      "question: Is has been speculated that a aliens could be communicating by doing this?\n",
      "answer: thinking\n",
      "choices: ['effort', 'farting', 'thinking', 'laugh', 'medium']\n",
      "common expl list: ['Aliens could quite possibly be using thought as a way to communicate between themselves.']\n"
     ]
    },
    {
     "name": "stderr",
     "output_type": "stream",
     "text": [
      "\r",
      "  2%|███▊                                                                                                                                                                | 23/986 [05:50<3:11:02, 11.90s/it]"
     ]
    },
    {
     "name": "stdout",
     "output_type": "stream",
     "text": [
      "generated explanation: <pad> <extra_id_0> It is thought that aliens could be communicating by doing this. This is because the brains of aliens are made up of a variety of different circuits that are able to communicate with each other. This means that they can be manipulated to think in different ways, and that they can use the information they receive to form new connections. This is because the brains of aliens are made up of different circuits that are able to communicate with each other in different ways. This could be used to create connections and to communicate with other aliens. This would allow them to understand the world around them and the world around them. This means that they could be thinking in a way to communicate with the world. This could include a message to a message to the world and the way for them to communicate with each other and to communicate with each other. This would also allow them to communicate with the world around them. This would allow them to understand the world around them and to understand each other and to understand the world around them. This would also allow them to understand the world and could help them to understand the world around them. This would also help them to understand the world around them and could help them. It would also help them understand each other and could be a way to communicate with the world. This would also allow them to understand each other and to communicate with each other.</s>\n",
      "########\n",
      "*******\n",
      "question: What can occur in fencing if you are not careful?\n",
      "answer: severe injuries\n",
      "choices: ['competition', 'severe injuries', 'fever', 'perspiration', 'small cuts']\n",
      "common expl list: ['Fencing is a sport, which involves hitting your opponent with a sharp piece of metal, which will almost certainly result in some physical pain.', 'Fencing is a sport that involves hitting your opponent with a sword, and if you are not careful, you can get injured.', 'The sport of fencing causes people to be hit by weapons, which may cause cuts or other wounds if someone is not careful.']\n"
     ]
    },
    {
     "name": "stderr",
     "output_type": "stream",
     "text": [
      "\r",
      "  2%|███▉                                                                                                                                                                | 24/986 [06:02<3:11:50, 11.97s/it]"
     ]
    },
    {
     "name": "stdout",
     "output_type": "stream",
     "text": [
      "generated explanation: <pad> <extra_id_0> Fencing is a dangerous sport that requires a great deal of skill and care. Without proper fencing, severe injuries can occur. Fencing is a dangerous sport, and it can be dangerous if not done properly. Fencing is a dangerous sport, and it can be dangerous if not properly supervised. Fencing is a form of exercise, and it is a sport that requires a lot of physical exertion. It is also a form of recreation, and it can be dangerous for both the athlete and the ad. If you are not careful, it can cause serious injuries, and can be fatal. If you are not careful, you may also be a serious injury, such as amputation, or even death. If you are not careful, you may suffer a serious injury and even worse a serious injury could be a result. If you were to be too, you could be a result of being in a dangerous sport. If you are not careful, it is important to be aware of the dangers of the dangers of being in the event. If you are not careful, you could be a serious injury. If you are not careful, you could be in the event that you may be in the event. This could be a serious injury, such as a fall or a serious injury could be very dangerous. If you are not careful, it could result in the injury could be a serious enough to take the consequences of falling or being too aggressive and be responsible for the injury. If you are not careful, you may be a serious injury, or even more serious injury. If you are not careful, then you may be at risk of falling or being in the case, you could be at the risk of falling or falling or being a fall and fall or fall and fall or fall, and fall or fall and fall. If you are not careful, you may be injured, you could be at any of any of<extra_id_27> </s>\n",
      "########\n",
      "*******\n",
      "question: If you stretch out your socks they will then have what kind of fit?\n",
      "answer: loose\n",
      "choices: ['cramped', 'loose', 'contract', 'park', 'compressing']\n",
      "common expl list: ['When stretched out, socks will be loose.']\n"
     ]
    },
    {
     "name": "stderr",
     "output_type": "stream",
     "text": [
      "\r",
      "  3%|████▏                                                                                                                                                               | 25/986 [06:11<2:57:06, 11.06s/it]"
     ]
    },
    {
     "name": "stdout",
     "output_type": "stream",
     "text": [
      "generated explanation: <pad> <extra_id_0> If you stretch out your socks they will have a loose fit. This is because the material used to make the socks is not as strong and the socks are not as supple as they used to be. Socks are made of different materials, and the material used to make them is not as strong and durable as it was originally. Therefore, if you stretch out your socks they will be loose. This is because the fabric is not as strong and the fabric is not as flexible as it would be otherwise. This is because the fabric is not quite elastic, which will help to keep the socks in the socks in place. This will help keep them in the socks from becoming too loose. This will lead to a looser fit. If you stretch your socks, they will be too loose and loose, the socks will be too loose. This will result in a looser fit. This will make them loose and make them loose. This will also help to make sure that the socks are not too tight and not too loose. This will result in a loose fit. This will also cause them to be too tight and the socks will be too tight and it will cause them to be too tight and they will be more likely to stretch out of the socks will be loose and loose. This will lead to a looser fit and the socks will be loose and will be looser and will be too tight.</s>\n",
      "########\n",
      "*******\n",
      "question: John ran out of pencils.  Where did  he go to get more?\n",
      "answer: office depot\n",
      "choices: ['desk drawer', 'cup', 'pencil case', 'shelf', 'office depot']\n",
      "common expl list: ['John can buy new pencils at an office depot.', 'Office Depot is a company that specializes in office furniture; it also sells pens and pencils.', 'When people need pencils (or pens), they often buy them at office depots.', 'Office Depot is a store that sells office supplies, including pencils.', 'Pencils can be found at an office supply store, e.g., an office depot.']\n"
     ]
    },
    {
     "name": "stderr",
     "output_type": "stream",
     "text": [
      "\r",
      "  3%|████▎                                                                                                                                                               | 26/986 [06:20<2:50:26, 10.65s/it]"
     ]
    },
    {
     "name": "stdout",
     "output_type": "stream",
     "text": [
      "generated explanation: <pad> <extra_id_0> John ran out of pencils when he went to buy new ones at the office depot. This is because the store is stocked with a variety of brands and sizes of pencils. The pencils are usually sold in bulk, so they are easy to get and store. The pencils are usually priced at a discount, and the staff is always ready to help with any questions. The pencils are usually made of a hard plastic, so they are not as sharp as other pencils. The pencils are also available in a variety of colors and sizes. The pencils are available in a variety of colors and colors. The office depot is also stocked with a variety of colors, and sizes of pencils in a variety of pencils, including fountain pen, and pencils. The office depot stores also have a variety of pencils in different sizes, so that the pencils are not too short of supplies. The store also has a variety of sizes, so it is easy for John to get more pencils. The office depot also has a number of products to help with the right size. The office depot is a great place for those who are looking for. The office depot is also a great place to get more pencils, so that they are stocked with new pencils and more colors, so they are not too expensive and can be found in the store. This is because of the store is a great place to get more of pencils, and prices, which makes it easier for John to get more pencils.</s>\n",
      "########\n",
      "*******\n",
      "question: What does a confident person do?\n",
      "answer: trust himself\n",
      "choices: ['feel important', 'own house', 'trust himself', 'know what time', 'cry']\n",
      "common expl list: ['A confident person is sure of his abilities and the trust in himself/herself to do things or accomplish goals.', 'People whose confidence is high tend to believe themselves more strongly, and so the confident person might believe in their own abilities and do things such as trust themselves.']\n"
     ]
    },
    {
     "name": "stderr",
     "output_type": "stream",
     "text": [
      "\r",
      "  3%|████▍                                                                                                                                                               | 27/986 [06:32<2:54:08, 10.89s/it]"
     ]
    },
    {
     "name": "stdout",
     "output_type": "stream",
     "text": [
      "generated explanation: <pad> <extra_id_0> A confident person does this by believing in himself and by doing so, they are able to make decisions that are in the best interests of themselves. This is because they are confident in themselves and in their abilities. They are able to make decisions that are in the best interests of themselves. They are able to make decisions that are in the best interest of themselves and their family and friends. They can also make decisions about their own futures. This is because they know they can count on themselves and their abilities to make decisions for themselves. They can make decisions that are made in their own abilities and their abilities. They are able to make decisions that they are in their own best interests. They can also make decisions about their own interests and their own abilities and their own abilities. They can also make decisions that are in their own. They can make decisions that are in the best interests and their own interests. This is because they can make decisions that are in the best interests of themselves and their interests. They can make decisions that are in the best for themselves and others. They can also be more likely to make decisions that they are in their own interests and their own. They can also be able to make decisions about their own interests and their own actions. This is important because they can be a good person because they can make the best interests and make decisions that are in the best interests. They can also make decisions about their own interests and their own interests. They can also make decisions that they believe in themselves and their future. They can make decisions that they can make in their own interests and their own interests. They can make decisions that are in their own interests and their future. They can make decisions about their future and their own interests.</s>\n",
      "########\n",
      "*******\n",
      "question: James thought that analyzing all the data would help him learn more, but it did not.  It only gave him what?\n",
      "answer: headache\n",
      "choices: ['headache', 'better understanding', 'papercuts', 'enlightened', 'discovering truth']\n",
      "common expl list: ['Analysis requires a lot of thinking with maybe little reward, which can give one a headache.']\n"
     ]
    },
    {
     "name": "stderr",
     "output_type": "stream",
     "text": [
      "\r",
      "  3%|████▋                                                                                                                                                               | 28/986 [06:47<3:12:20, 12.05s/it]"
     ]
    },
    {
     "name": "stdout",
     "output_type": "stream",
     "text": [
      "generated explanation: <pad> <extra_id_0> James thought that analyzing all the data would help him learn more, but it did not. The headaches that come with analyzing all the data are caused by the fact that James was analyzing all the data and trying to figure out how to use it to his advantage. The headaches are a result of the fact that James was analyzing all the data and trying to learn more about the world around him. The headaches come from the fact that James was analyzing all the data and trying to figure out how to use it to his advantage, because it is not he was analyzing all the data in the way he was trying to learn more about the world around him. The headache is caused by the data and it was not the data being analyzed. The headaches were caused by the data being analyzed all the information in a headache because it was a result of the data. The data also distorted the way it was interpreted. The headaches were caused by the data being analyzing all the data and the data. The data is a complex and it was a result in a headache. The headache was caused by the data being analyzed. It was analyzing the data was analyzing all the data was analyzing the data in a way that it was intended to be a way to learn more. The headaches were caused by the data and the data. The headaches were caused by the data being a way to analyze the data was a way to learn more about the data was collected. The headaches were caused by the data being analyzed and the data was a way to learn more about the data. The headache was a result of analyzing all the data and the data being a way to the data was analyzing the data was a way to learn more about the data was interpreted and how to learn more about the data was interpreted and the data was intended to help James. It was a way to his thought of being interpreted and the data was meant to learn more about the data was meant to learn more about the data was a way to interpret the data was interpreted and the data was to give him a deeper meaningless and it was a headache and it was to analyze the data was to give him. It was a headache. It was interpreted and the data was interpreted and the data was interpreted. It was interpreted. It was a distraction and\n",
      "########\n",
      "*******\n",
      "question: What makes people happy when it is surprising and unexpected?\n",
      "answer: humor\n",
      "choices: ['joke', 'humor', 'frightened', 'fight', 'laughter']\n",
      "common expl list: ['A surprise is a stimulus that is not generally predicted before exposing it to a subject. It may be surprising things that cause laughter, or unexpected things that people see as funny.']\n"
     ]
    },
    {
     "name": "stderr",
     "output_type": "stream",
     "text": [
      "\r",
      "  3%|████▊                                                                                                                                                               | 29/986 [07:02<3:27:39, 13.02s/it]"
     ]
    },
    {
     "name": "stdout",
     "output_type": "stream",
     "text": [
      "generated explanation: <pad> <extra_id_0> Humor is a way for people to express themselves and express their feelings. It can be a form of self-expression, a way to express oneself and to express oneself. Humor can be a form of therapy, a way to express oneself and to make people happy. Humor can also be a form of positive energy, as it can be a form of energy that can be shared and shared with others. It can be a form of communication, a way to express oneself and to make people happy when they are surprised and unexpected. It can also be used to create a sense of humor in a way to express oneself and its own personality. Humor can be a way to express oneself and to express oneself. It can also be a way to make people feel good when they are surprised and surprised and surprised by someone else. It can be a way to express oneself and make people smile when it can make people feel good when it is unexpected and unexpected. It can also be a way to make people smile and make people laugh. It can be used to express one's feelings of joy when it is important to remember that it is important to be true to remember that people are happy. It can also be used to make people feel good-heartedness and make people feel good. It can be used to make people feel good and to share their joy. It can be used to make people feel good about themselves and to laugh and make others feel good and make people feel good. It can be used to make people smile and make people happy when it is important to make people feel good and make people smile when they are surprised and unexpectedly funny because it can make people smile when it is a fun and makes people happy. It can be used to make people smile and make people happy when it is used to make people happy and make people smile when it is used to make people happy because it can be used to make people happy when it can be used to express their own happiness when it is used to make people happy when it is used to make people smile because it a smile because it is a way to make people happy when it can be used to express their happiness when it is a variety of people smile because it can be a reason for them<extra_id_27> </s>\n",
      "########\n",
      "*******\n",
      "question: What is someone who wants a lot of money?\n",
      "answer: greedy\n",
      "choices: ['selfish', 'weird', 'greedy', 'ridiculous', 'hungry']\n",
      "common expl list: ['Greed is a strong desire to possess a lot of money; a greedy person therefore wants it a lot.', 'Greed is defined as \"the desire to obtain something, especially wealth, through selfish means, typically at the expense of others.', 'A person who is greedy wants more things that people typically take for granted, i.e., money, success, etc. This is a lot of stuff.']\n"
     ]
    },
    {
     "name": "stderr",
     "output_type": "stream",
     "text": [
      "\r",
      "  3%|████▉                                                                                                                                                               | 30/986 [07:13<3:20:03, 12.56s/it]"
     ]
    },
    {
     "name": "stdout",
     "output_type": "stream",
     "text": [
      "generated explanation: <pad> <extra_id_0> Someone who wants a lot of money is greedy. This is because greedy people are often overly influenced by material things, such as televisions, video games, and other entertainment. They are often overly concerned with obtaining the most money possible for their lifestyle, and they are often overly focused on material things such as food, clothing, and other material goods. They are also overly concerned with the material world, which includes money. They are often overly concerned with the material world, and they are often overly concerned with the financial situation. They are often overly motivated by financial stability and security, and security of their own financial stability, and security. They are also often overly concerned with their future. They are often overly concerned with their personal financial stability and security, and are willing to risk their own their own personal safety. They are also concerned about their future. They are often overly concerned with their own future. They are also concerned about their future. They are also concerned about their future. They are also concerned about their future. They are also concerned about their future. They are concerned about their future and their future. They are also concerned about their future. They are also concerned about their reputation. They are concerned about their personal and their future. They are concerned about their future and their personal finances. They are also concerned about their health and their future. They are concerned about their future and their future. They are concerned about their future and their future. They are concerned about their future and their future. They are concerned about their future. They are also concerned about their future and their future. They are concerned about their future and their future and their future. They are concerned about their future. They are concerned about their future, and their future, and their current and their future, and their future.</s>\n",
      "########\n",
      "*******\n",
      "question: Where do you keep a book to read before bed?\n",
      "answer: bedside table\n",
      "choices: ['school room', 'allen key', 'classroom', 'bedside table', 'coffee table']\n",
      "common expl list: ['Bedside tables are where people keep things they use before bed, such as books, glasses, and water.', 'Bedside tables are convenient for keeping things, e.g., a book, reading materials, glasses, etc., that you wish to keep near your bed for regular access; particularly things.']\n"
     ]
    },
    {
     "name": "stderr",
     "output_type": "stream",
     "text": [
      "\r",
      "  3%|█████▏                                                                                                                                                              | 31/986 [07:23<3:05:47, 11.67s/it]"
     ]
    },
    {
     "name": "stdout",
     "output_type": "stream",
     "text": [
      "generated explanation: <pad> <extra_id_0> A bedside table is a place to keep a book before bed. It is a place where you can read a book before bed and place it in a safe place, such as a bedside table. This table is usually placed next to a bed or other comfortable seating, such as a bookcase or a blanket. It is usually placed near the head of the bed, so it is easy to reach and reach for a book. It is also a place to keep a journal or other writing material that you might want to keep a book. It is a place to keep a book and other important to have a book, and other items, such as a bedside table, such as a book a book if you are reading before bed. It is also a place for books to be read before bed. This is a great place to keep a book while you are reading. It is a place to keep a book in the night to be sure to reach a quiet time before bed. Finally, a bedside table is a great place to keep a book and other books. This allows you to keep a book while you are reading before bed and reading material, such as a book. It is a bookcase or a book in the bedside table. It is a place to keep a book and a book while you are at the book before bed. It is a place a book before bed and a book in the bed.</s>\n",
      "########\n",
      "*******\n",
      "question: Where is a knight likely to be found in the US?\n",
      "answer: chess set\n",
      "choices: ['middle ages', 'chess set', 'historical novel', 'castle', 'guarding the king']\n",
      "common expl list: ['A knight is a piece in the game of chess, which is played on a chess set.']\n"
     ]
    },
    {
     "name": "stderr",
     "output_type": "stream",
     "text": [
      "\r",
      "  3%|█████▎                                                                                                                                                              | 32/986 [07:35<3:05:14, 11.65s/it]"
     ]
    },
    {
     "name": "stdout",
     "output_type": "stream",
     "text": [
      "generated explanation: <pad> <extra_id_0> A knight is a chess piece that is typically found in a chess set, such as a king’s chess set, a pawn, or a pawn. A knight is a pawn that is used to attack and defend against other knights, and is most commonly found in chess sets, such as a pawn set, a pawn set, or a pawn set. A pawn set is a set of rules, and the game. A knight is also likely to be found in a pawne, since it is a pawn’s pawn to attack and defend the knight, and can also be found in a pawn set, and can be used to defend against other knights, and to gain an advantage in a chesswarm. A chess set is also likely to be found in a chesswarming, and can be found in a chessquick, and a chess set of a sa chesscup, and a chesslee. A chessan chess set can be found in any set, and is likely to be found in any set, and in any set in the US. In conclusion, a chess set is likely to be found in any set, and a chess set, and chess set, and chess set, and chesssknot found in any a a a chess set in any set, and likely to be found in any set in any set in the US. In the US knight is likely to be found in any chess set, and chess set in any<extra_id_27> </s>\n",
      "########\n",
      "*******\n",
      "question: Jack saw little point to communicating beyond the basics.  To him, it was just a means to do what?\n",
      "answer: exchange information\n",
      "choices: ['go swimming', 'making friends', 'exchange information', 'people to think', 'confusion']\n",
      "common expl list: [\"Keeping the communication sparse would allow him to conserve energy by speaking less. Since communication is just a means to exchanging information, Jack would not see much 'point', to say, a conversation beyond the basics.\"]\n"
     ]
    },
    {
     "name": "stderr",
     "output_type": "stream",
     "text": [
      "\r",
      "  3%|█████▍                                                                                                                                                              | 33/986 [07:45<2:59:24, 11.29s/it]"
     ]
    },
    {
     "name": "stdout",
     "output_type": "stream",
     "text": [
      "generated explanation: <pad> <extra_id_0> Jack saw little point to communicating beyond the basics. He saw little point to communicating beyond the basics because it was just a means of transferring information. To him, communication was a means of transferring information. It was a means of transferring information from one person to another, and that information was essentially the same thing. It was a means of exchanging information between people, whether they be humans or non-humans. The more information Jack could exchange, the more he could learn about the world around them. Communication was just a means of communicating with people around him. It was a way for him to exchange of information. He saw no real value in communicating with his colleagues or to communicate with his customers. It was a means of exchanging information. It was a way to exchange information. Communication was a means of exchanging information. It was a means of exchanging information, and exchange of information about the world. Communication was a means of exchanging information with one another. It was a way of exchanging information. It was a way of exchanging information. It was a way of exchanging information about the world. It was a means of exchanging information. It was a means of transferring information. It was a way of transferring information between two people. It was a way of exchanging information. It was a way of transferring information from one to the other person to someone else. It was a way of exchanging information. It was a means of a way of a way of transferring information. It was a means of exchanging information.</s>\n",
      "########\n",
      "*******\n",
      "question: I as a person don't kill others, why do I not?\n",
      "answer: value life\n",
      "choices: ['experience pleasure', 'laws', 'value life', 'thank god', 'go into debt']\n",
      "common expl list: [\"Someone who does not kill might have a great deal of respect for life; as a person's life is valuable, the opposite is true about the act of taking a life.\"]\n"
     ]
    },
    {
     "name": "stderr",
     "output_type": "stream",
     "text": [
      "\r",
      "  3%|█████▋                                                                                                                                                              | 34/986 [07:56<2:56:16, 11.11s/it]"
     ]
    },
    {
     "name": "stdout",
     "output_type": "stream",
     "text": [
      "generated explanation: <pad> <extra_id_0> I as a person don't kill others because I value life. Value life is the only way to ensure that others are not killed. Value life is the only way to ensure that others are not killed. Value life is the only way to ensure that others are not killed. Value life is the only way to ensure that others are safe and happy. Value life is the only way to ensure that others are not killed. Value life is the only way to ensure that others are not killed. Value life is the only way to ensure that others are safe and healthy lives are not killed. Value life is important for people to be themselves and others. This is because it is the only way to live. It is also the only way to ensure that others are not killed. It is also important to remember that the only way to ensures that others are not killed is to ensure that others are not killed. It is the only way to ensure that others are not killed. Value Life is the only way to ensure that they are not killed. Value life is the only way to ensure that people are not killed. It is important to ensure that no one day, and that they are not killed. Value life is important and not kill others. It is a way to ensure that people are not killed. It is a way to ensure that others are not killed. Value life is the only way to ensure that others are not killed. Value life is the only way to ensure that they are not killed. It is the only way to ensure that others are safe and healthy. Value life is the only means that one is not a way to ensures that people are safe and that they are safe and secure and that they are safe and that others are not killed.</s>\n",
      "########\n",
      "*******\n",
      "question: What is likely to be a child's reaction to going to play?\n",
      "answer: happiness\n",
      "choices: ['happiness', 'tears', 'sit', 'being entertained', 'laugh']\n",
      "common expl list: ['Children like to play.']\n"
     ]
    },
    {
     "name": "stderr",
     "output_type": "stream",
     "text": [
      "\r",
      "  4%|█████▊                                                                                                                                                              | 35/986 [08:05<2:46:54, 10.53s/it]"
     ]
    },
    {
     "name": "stdout",
     "output_type": "stream",
     "text": [
      "generated explanation: <pad> <extra_id_0> Going to play is likely to be a child's reaction to going to play. This is because playing is a fun and safe way to spend time with friends, family, and other children. It also can be a great way to practice skills, and to learn new skills. Playing is also a great way to get to know other people, and to meet new people. Playing is a great way to build friendships and to bond with other children. Playing is a great way to build confidence, and it can be a great way to build relationships and develop positive feelings of satisfaction and to share with friends. It can be a great way to learn and improve their skills. It can also be a way to develop skills, such as problem solving, and problem-solving problems. It can also be a way to get them into the right life skills and develop confidence. Playing is a great way to get to make memories. It can also be a way to get to learn and build confidence. It can be a way to build friendships, and to learn about the world around them. It can be a way to build confidence, and to learn and to develop interpersonal skills. It can be a way to get to learn and to develop skills, as a way to create a sense of self-esteem and self-confidence. It can be a way to develop a deeper connection with others.</s>\n",
      "########\n",
      "*******\n",
      "question: Where could you find multiple ruler that are owned by different people?\n",
      "answer: office\n",
      "choices: ['measure distance', 'england', 'office', 'drawer', 'desk']\n",
      "common expl list: ['Office buildings often have rulers.', 'When someone works in an office, even if it is part-time or freelance, they may be required to measure distances e.g., in departments or cubicles, and so, offices are a good place to find ruler.']\n"
     ]
    },
    {
     "name": "stderr",
     "output_type": "stream",
     "text": [
      "\r",
      "  4%|█████▉                                                                                                                                                              | 36/986 [08:20<3:06:56, 11.81s/it]"
     ]
    },
    {
     "name": "stdout",
     "output_type": "stream",
     "text": [
      "generated explanation: <pad> <extra_id_0> Offices are places that can be found in many places, including homes, offices, and businesses. Offices are also places that can be found in which you can find multiple rulers that are owned by different people. Offices are also a great place to find multiple rulers because they can be used to create a sense of community and belonging. Offices are also great places to find multiple rulers because they are usually located in the same building, which can be a great way to share information and ideas. Offices are also great places for a sense of security, as they are also places that can be used to store documents and other important information about the company, such as a company, and other relevant information. Offices also provide a place to store documents, such as a company, which can be used to store documents, and other information about the company. In addition, the office can also provide a place to store and store documents. This is a great way to find multiple people who are responsible for the company and to access information. Offices can also provide a variety of services, such as a company, and other employees. Offices can provide a variety of information to the company and other employees. This allows for employees to have access information, and access to the company’s needs. Offices can also provide a place to store and other documents. Offices can provide a variety of services, such as a place to find different types of company’s, such as company logos, such as company name, such as company logos, or a company’s name, such as a company name, and the company logo, and logo. Offices can also provide employees with a variety of services, such as a company’s employees to access to different people, and employees with access to the company’s, such as a company name, and contact information, and contact information about different people with different people with information about the company. Offices can provide information about the company name, such as the company name, and the company, and logo’s, as the company name,<extra_id_27> </s>\n",
      "########\n",
      "*******\n",
      "question: When remembering you referencing things that you have what?\n",
      "answer: prior knowledge of\n",
      "choices: ['memory cells', 'learning about', 'prior knowledge of', 'brain cells', 'nerve cells']\n",
      "common expl list: ['Most of the things a person knows come from learning in the past and usually have some recollection involved.']\n"
     ]
    },
    {
     "name": "stderr",
     "output_type": "stream",
     "text": [
      "\r",
      "  4%|██████▏                                                                                                                                                             | 37/986 [08:30<3:00:23, 11.41s/it]"
     ]
    },
    {
     "name": "stdout",
     "output_type": "stream",
     "text": [
      "generated explanation: <pad> <extra_id_0> When remembering you use prior knowledge of things because you have it to help you remember things better. Prior knowledge is knowledge of something that you have previously learned about it. This knowledge can be based on a variety of factors, including your prior knowledge of the subject, the subject matter, and the time frame in which the memory was created. Prior knowledge can also be based on the context in which the memory was created. This knowledge can be based on prior experiences or knowledge of the subject matter. For example, you may have learned about the material that you may have used in the past to remembering something that you may have knowledge of the subject matter. This includes things that you have a certain experience, or have used in the past, or in the future. This knowledge can help you remember the things you have already learned. This can be based on your past experiences or knowledge of the topic. It can also be based on your past experiences. This can help you remember things faster and more easily remember the information. This knowledge can help you remembering the content that you have in the past knowledge of the subject matter. It can help you remember things faster and more efficiently. It can also help you remember what you have previously remembered. This can help you remember the past and help you remember the future. This can help you remember the things that you have already remembered. This can help you remember things that you have in the future. This can help you remember the past and help you remember the future. This can help you remember things that you have a prior knowledge of the subject can also help you remember things that you have prior knowledge can help you remember them.</s>\n",
      "########\n",
      "*******\n",
      "question: After running twenty six miles he felt like he had lost twenty six pounds, this was from all the what?\n",
      "answer: sweat\n",
      "choices: ['exercise', 'sweat', 'pass out', 'collapse', 'drink water']\n",
      "common expl list: ['Sweating is a way to cool down the body, and so after running for a long time, a person might sweat a lot.']\n"
     ]
    },
    {
     "name": "stderr",
     "output_type": "stream",
     "text": [
      "\r",
      "  4%|██████▎                                                                                                                                                             | 38/986 [08:43<3:06:02, 11.77s/it]"
     ]
    },
    {
     "name": "stdout",
     "output_type": "stream",
     "text": [
      "generated explanation: <pad> <extra_id_0> After running twenty six miles, he felt like he had lost twenty six pounds. This is because running for a long distance is a form of exercise that is characterized by a lot of effort, both physical and mental. Running is a form of aerobic exercise, which is a form of exercise that is often associated with cardio and strength training. The body is constantly moving, and running for long distances is a form of exercise. The body is constantly moving, which means that the body is constantly sweating. The body is a constant flow of water, which is able to keep up with the body. The sweating helps to keep the body temperature constant, which is a constant flow of water, and helps to keep the body hydrated. It is also a natural reaction to the body is a great way to keep the body in shape, which can help to keep up. The body is constantly shedding its own body is able to stay in shape, and tone its shape, and to the body becomes a great way to lose weight. This is because it helps to keep the body’s body’s water supply. It is a form of physical activity that helps to increase the body’s metabolism, which helps to lose weight. It also helps to keep the body’s weight off, which helps to maintain the body temperature, which helps to keep the body’s metabolism going. Finally, running also helps to keep the body’s temperature at a constant temperature, which helps to keep the body temperature, which helps to keep the body’s metabolism going, and to help keep up with the body’s a constant supply of energy levels constant sweat, which helps to keep the body running, which helps to keep the body’s energy levels, which helps to keep the body’s energy levels, and calories in the body’s weight, which helps to maintain the body’s energy levels, and helps to maintains the body’s energy levels high levels of endurance.</s>\n",
      "########\n",
      "*******\n",
      "question: In what western sate might one find a bald eagle?\n",
      "answer: colorado\n",
      "choices: ['captivity', 'colorado', 'zoo', 'canada', 'in washington']\n",
      "common expl list: ['Eagles are native to the western United States, and Colorado is a western state.']\n"
     ]
    },
    {
     "name": "stderr",
     "output_type": "stream",
     "text": [
      "\r",
      "  4%|██████▍                                                                                                                                                             | 39/986 [08:51<2:48:47, 10.69s/it]"
     ]
    },
    {
     "name": "stdout",
     "output_type": "stream",
     "text": [
      "generated explanation: <pad> <extra_id_0> In western states, bald eagles are found in high numbers. In fact, the highest population of bald eagles is found in Colorado. Bald eagles are found in the western United States, where they can be found in large numbers. Bald eagles are found in the western United States, where they are found in large numbers. Bald eagles are found in high numbers in the southern United States, where they are found in the northern United States. In addition to their range, the state is home to the state, where they are found in the western United States. Bald eagles are found in the Rocky Mountains, which are known for their presence. In addition, the state of the area is home to some of the largest concentrations of bald eagles, which are found in the Rocky Mountains, where they are found in the Rocky Mountain Range, where they are found in high mountains, and the Southwest. The western states are known for being bald eagles because of their habitat. Bald Eagles are known for their ability to find food and food. Bald Eagles are also known for their food and<extra_id_27> of their food and where they are found.</s>\n",
      "########\n",
      "*******\n",
      "question: When a retired person returns to work they likely need to do what?\n",
      "answer: earn money\n",
      "choices: ['key', 'earn money', 'get out of bed', 'need money', 'understand themselves']\n",
      "common expl list: ['When a person is retired, they probably are not making enough money through a pension benefit to support themselves after retirement, so they work again, perhaps full-time, in order to have enough money.(money key)']\n"
     ]
    },
    {
     "name": "stderr",
     "output_type": "stream",
     "text": [
      "\r",
      "  4%|██████▋                                                                                                                                                             | 40/986 [09:01<2:45:17, 10.48s/it]"
     ]
    },
    {
     "name": "stdout",
     "output_type": "stream",
     "text": [
      "generated explanation: <pad> <extra_id_0> When a retired person returns to work they likely have to do so in order to make money. This is because working is a form of self-employment, where the worker is expected to earn a living. To earn money, the worker must work hard and be willing to work long hours to earn money. To earn money, the worker must be able to work consistently and efficiently. To earn money, the worker must be able to work at a high level of effort. This is because working hard is a form of self-employed people can earn money through a higher salary, which can help the retirement. This requires the person to have a steady income and work schedule. Working hard and hard work can be a great way to earn a living. To earn money requires a high level. To earn money, the worker must work hard and work can help with the job. To earn money, the worker must be able to work at a high level. To earn money requires a high level, which can help the work. To earn money must be able to work at a high level. To earn money can be a minimum wage, or a minimum wage. To earn money, the worker must work hard and continue to earn money. To earn money must be a means that the worker must be willing to work hard-working and work hard. To earn a minimum wage, the person must be willing to work hard and work hard-work hard-training. To earn money must be able to work hard-earned income, and work hard-on to pay off of course, or overtime.</s>\n",
      "########\n",
      "*******\n",
      "question: What can be the result of meeting people with similar attitudes?\n",
      "answer: making new friends\n",
      "choices: ['anxiety', 'being bored', 'love', 'making new friends', 'new job']\n",
      "common expl list: ['People with similar interests are likely to be friends, or familiars to each other, having many opportunities to meet each other and have things in common to discuss.', \"Friends often share some interests and/or attitudes, and when someone meets people with similar attires, that's a good indicator they might be good candidates for becoming friends.\"]\n"
     ]
    },
    {
     "name": "stderr",
     "output_type": "stream",
     "text": [
      "\r",
      "  4%|██████▊                                                                                                                                                             | 41/986 [09:10<2:40:44, 10.21s/it]"
     ]
    },
    {
     "name": "stdout",
     "output_type": "stream",
     "text": [
      "generated explanation: <pad> <extra_id_0> Meeting people with similar attitudes can lead to making new friends. Making new friends can lead to making new friends because they are able to share similar values and interests. This can lead to new friendships and relationships. Making new friends can also lead to new opportunities for networking and socializing. Making new friends is a great way to build relationships and build relationships that can lead to new opportunities for both parties. Making new friends can be a great way to build new friendships and new friendships. Making new friends can also lead to new opportunities for networking and a better understanding of the world around you. Friends can also be a great way to develop new friendships and to build relationships with others. It can also be a way to build new friendships and understanding each other, and to share similar values. It can also help to build trust and build relationships. It can also help to build a sense of acceptance and acceptance. It can also be a sense of belonging. It can also help to build trust and confidence. It can be a way to create a sense of belonging and to gain new connections. It can lead to new opportunities for networking and opportunities to build a network of people. It can help to build trust and respect. It can also help to build new friends by opening up new opportunities. It can be a way to build a better understanding and help to build relationships. It can also be a way of sharing of gratitude and a new perspectives on a positive outlook.</s>\n",
      "########\n",
      "*******\n",
      "question: Danny noticed a ceramic object on the table and picked a grape out of it.  What might have been on the table?\n",
      "answer: bowl of fruit\n",
      "choices: ['kitchen', 'painting of fruits', 'fruit basket', 'bowl of fruit', 'fruit stand']\n",
      "common expl list: ['A bowl of fruit is an appropriate item to put on a table, as it can hold many kinds of fruit.']\n"
     ]
    },
    {
     "name": "stderr",
     "output_type": "stream",
     "text": [
      "\r",
      "  4%|██████▉                                                                                                                                                             | 42/986 [09:22<2:45:14, 10.50s/it]"
     ]
    },
    {
     "name": "stdout",
     "output_type": "stream",
     "text": [
      "generated explanation: <pad> <extra_id_0> Danny may have noticed a ceramic object on the table that was a bowl of fruit. Bowls of fruit are typically found in the form of bowls, which are typically made of ceramic, and are used to store food. They are usually made of a hard plastic like material, which is often a result of aging or decaying materials. This means that they are typically larger than bowls, and therefore more likely to be found on the table. The bowls of fruit are usually made of a light colored ceramic, and the fruit is usually a grape, which is usually a bowl of grapes or other fruits. The grapes are often found in the form of grapes, which are made of a variety of fruit, and are usually made of shaped, such as grapes, which are usually made of fruit, which is often made of grapes, which are often made of a variety of fruit, and are often found in different colors and shapes and sizes. The bowls of fruit are often made of different colors and designs, which can be used to create a sense of depth and texture. The fruit bowls are often made of different shapes and colors, which may also be made of different materials, which may have been made of different materials, which may have been made of a ceramic, which may have been made of different materials, which may have been made of a similar to the same color, which is a more likely to have been made of a variety of shapes, and designs. The fruit bowl is likely to be made of different materials, such as grapes may have been made of different materials, such as grapes, which may have been made of different shapes, making them look like grapes, making them look different colors and the same color.</s>\n",
      "########\n",
      "*******\n",
      "question: The nose dipped and alarms went off inside the what?\n",
      "answer: aircraft\n",
      "choices: ['car', 'sniff', 'aircraft', 'upper respiratory tract', 'missile']\n",
      "common expl list: ['The nose dips and alarms go off inside the cockpit of an aircraft when the nose of the aircraft dips too low.']\n"
     ]
    },
    {
     "name": "stderr",
     "output_type": "stream",
     "text": [
      "\r",
      "  4%|███████▏                                                                                                                                                            | 43/986 [09:33<2:51:05, 10.89s/it]"
     ]
    },
    {
     "name": "stdout",
     "output_type": "stream",
     "text": [
      "generated explanation: <pad> <extra_id_0> The nose dipped inside the aircraft<extra_id_2> The nose dipped inside the aircraft<extra_id_3> s go off when the aircraft is in flight. The nose dipped inside the aircraft because the nose was dipping. The nose dipped inside the aircraft because the nose was dipping and the wing tips were pointing in the opposite direction. The nose dipped and the wing tips were pointed in the opposite direction. The nose dipped inside the aircraft because the wing tips were pointed in the opposite direction. The nose dipped in the air in the a little bit of the nose resulting in the aircraft. The nose dipped inside the aircraft and the alarms were set off when the aircraft was in flight. The nose dipped and the aircraft was unable to detect the aircraft was in flight. The nose dipped and the aircraft was in flight. The nose dipped and the nose was dipped and the nose. The nose dipped and the aircraft was dipped, causing the alarms to sounding. The nose dipped and the alarm was a false. The nose dipped and the aircraft was a warning that the aircraft was in flight. The nose dipped and the aircraft was unable to detect the alarms were not set up. The alarms were set to be monitored by the aircraft and the aircraft. The alarms were set in a way to detect the aircraft was a tip and the nose dipped, and the nose dipped and the nose dipped and the nose dipped and the alarms were a false alarm was set by the aircraft was not a false alarm by the aircraft was not a false, and the nose dipped, and the aircraft was dipped, and the nose dipped nose was dipped, and the alarms were set to detect the aircraft and the correct<extra_id_27> was</s>\n",
      "########\n",
      "*******\n",
      "question: Where is a cord likely to be on a tent?\n",
      "answer: sporting goods store\n",
      "choices: ['inside tent', 'delivery room', 'hardware store', 'backpack', 'sporting goods store']\n",
      "common expl list: ['Sporting goods stores likely have tents on display which generally come with their cords.']\n"
     ]
    },
    {
     "name": "stderr",
     "output_type": "stream",
     "text": [
      "\r",
      "  4%|███████▎                                                                                                                                                            | 44/986 [09:48<3:06:57, 11.91s/it]"
     ]
    },
    {
     "name": "stdout",
     "output_type": "stream",
     "text": [
      "generated explanation: <pad> <extra_id_0> A tent is a type of tent that is typically made of a durable material such as canvas, polyester, or a combination of both. It is typically made of a single piece of material called a cord, which is typically found in a tent. This type of tent is typically made of a single piece of material called a tarp, and is typically found in sporting goods stores. It is typically made of a single piece of fabric, which is typically a polyester or a canvas. It is typically made of polyester, which is a nylon or a nylon cord, which is typically found in tent. It is usually made of a nylon or a nylon material, which is typically found in a tent. It is usually made of a nylon, which is typically made of a polyester or canvas, and is typically made of a nylon, and is typically made of polyester. The cord is made of a polyester or a nylon, which is typically made of a nylon or polyester, and is made of cotton. It is usually made of a nylon, which is made of a nylon cord. It is made of a polyester, which is likely to be found in a nylon, and is made of a polyester. It is likely to be made of a nylon, which is likely to be found in sporting goods stores. It is likely to be found in a tent, which is made of nylon. It is likely to be made of polyester, which is made of a nylon, which is made of nylon, which is made of polyester. It is likely to be made of a nylon or a polyester or polyester, which is made from a nylon, which is likely to be made of a nylon or polyester. It is likely to be made of nylon, and is likely to be made of polyester, which is likely to be made of polyester and is likely to be made of a tent, which is likely to be made of nylon, and is likely to be made of polyester, which is likely to be made of nylon, and is likely to be made of polyester or vinyl or polyester.</s>\n",
      "########\n",
      "*******\n",
      "question: The man reduced the town to rubble out of hate, what was his goal?\n",
      "answer: destroy enemy\n",
      "choices: ['wage war', 'play nice', 'fight enemy', 'stab to death', 'destroy enemy']\n",
      "common expl list: ['someone who is completely obsessed with destroying an enemy (going so far as to want them completely obliterated from existance) is not a person who is playing nice.']\n"
     ]
    },
    {
     "name": "stderr",
     "output_type": "stream",
     "text": [
      "\r",
      "  5%|███████▍                                                                                                                                                            | 45/986 [09:56<2:47:25, 10.67s/it]"
     ]
    },
    {
     "name": "stdout",
     "output_type": "stream",
     "text": [
      "generated explanation: <pad> <extra_id_0> The man reduced the town to rubble out of hate. His goal was to destroy enemy towns and cities. He did this by destroying the town of Aquinas and destroying its infrastructure. This goal was achieved by destroying the town of Aquinas and its surrounding areas. The man's hatred for the enemy was what drove him to reduce the town to rubble. He wanted to destroy the town because it was a place of refuge and a place of peace. The destruction of the town of Aquina peaceful and secure. The man was trying to gain the respect of the community and respect for his hatred for the country. He was also trying to gain respect for the locals and help the locals to live in a better place to protect the community from the enemy. The man was also trying to destroy the city of Aquina peaceful and destroy the town of Aquina city that was destroying the town of Aquines infrastructure was a way to gain access to the city's resources and to build on the city. The man was also trying to gain a sense of pride in his work. The man was able to destroy the enemy and<extra_id_27> </s>\n",
      "########\n",
      "*******\n",
      "question: The toddler thought it would be fun to try eating breakfast in bed, what resulted?\n",
      "answer: mess\n",
      "choices: ['contentment', 'indigestion', 'vomiting', 'mess', 'catastrophe']\n",
      "common expl list: [\"Toddlers have poor coordination.  Even if they could somehow manage to not fall off the bed, it's likely that they would spill the food that they took with them to bed.  A mess would be made.\", \"Toddlers like to explore and test their own boundaries. They often don't know their limits, and it's common for their behavior to result in a mess. In the toddler's case, it involved getting breakfast on the bed due to his inexperience\"]\n"
     ]
    },
    {
     "name": "stderr",
     "output_type": "stream",
     "text": [
      "\r",
      "  5%|███████▋                                                                                                                                                            | 46/986 [10:08<2:53:51, 11.10s/it]"
     ]
    },
    {
     "name": "stdout",
     "output_type": "stream",
     "text": [
      "generated explanation: <pad> <extra_id_0> The toddler thought it was fun to try eating breakfast in bed. The toddler thought it would be fun to eat breakfast in bed because it would be messy and messy. The mess was caused by the toddler trying to eat breakfast in bed and he or she was not prepared for the mess that was created. The mess was caused by the toddler trying to eat breakfast in bed. The mess was caused by the toddler trying to eat breakfast in bed. The mess was caused by the toddler trying to eat breakfast in bed and it was messy and the breakfast in the room. The mess was caused the toddler to try to eat breakfast in the bed. The mess was caused by the toddler being a mess. The mess was caused by the toddler to eat breakfast in the bed because it was messy. The mess caused by the mess. The mess was caused by the mess that the toddler trying to eat breakfast in bed. The mess was caused by the toddler trying to eat breakfast in bed. The mess was caused by the mess when the toddler eat breakfast in bed and the mess. The mess was caused by the toddler trying to eat in bed. The mess was caused by the mess caused by the toddler thinking it was caused by the toddler's excitement. The mess was caused by the mess and the mess. The mess was caused by the toddler trying to eat breakfast in bed and the mess was caused by the mess and the toddler to try and the mess and the mess was caused by the mess and the mess caused by the mess and the mess and the toddler's excitement and the mess was caused by the mess and the mess caused by the toddler trying to eat breakfast in bed. The mess was caused by the mess due to the toddler trying to eat breakfast in bed and the mess caused by the mess and the mess and the mess caused by the mess that was caused by the mess that the toddler trying to eat breakfast in bed and the mess and the mess that was caused by the mess and the mess and mess<extra_id_27> </s>\n",
      "########\n",
      "*******\n",
      "question: He had a hard time getting his father's attention, he hoped that the winning baseball game would finally get him some what?\n",
      "answer: recognition\n",
      "choices: ['confirmation', 'celebrating', 'pride', 'recognition', 'happiness']\n",
      "common expl list: ['One way to gain recognition from ones parents is by accomplishing things that they value. For example, children might hope to make their parents proud of them by excelling at sports.']\n"
     ]
    },
    {
     "name": "stderr",
     "output_type": "stream",
     "text": [
      "\r",
      "  5%|███████▊                                                                                                                                                            | 47/986 [10:16<2:40:54, 10.28s/it]"
     ]
    },
    {
     "name": "stdout",
     "output_type": "stream",
     "text": [
      "generated explanation: <pad> <extra_id_0> He hoped that winning the baseball game would finally get him some recognition. Baseball is a great way to get attention from your parents and to get them to pay attention to your child. Recognition is a form of recognition that is given to children by their parents or guardians. It can be a form of recognition for a number of reasons. Recognition is a form of recognition that can be given in many forms. Recognition can come in the form of a trophy, a certificate, or a certificate of appreciation. Recognition can also be used to get his father's attention to his son's achievements and to show his talents. It can be a way to get your child's attention from his father. It can be a simple game or a way to get his son's attention. It can be a way to get him some recognition from his father. It can be a way to get his son's attention. It can also be a way to get his father's attention by winning a baseball game. It can also be a sign of his father's's involvement in his son's work. Finally, a baseball game can get his father's attention by winning a receptive son or daughter's father'</s>\n",
      "########\n",
      "*******\n",
      "question: The toddler is awaking from a nap, what doesn't he feel anymore?\n",
      "answer: tiredness\n",
      "choices: ['nervous', 'eyes opening', 'getting out of bed', 'tiredness', 'discomfort']\n",
      "common expl list: ['Children can easily get tired at their ontervall and a nap is an effective way for them to get over tiredness. Then when they wake up, they do not feel tiredness any longer.']\n"
     ]
    },
    {
     "name": "stderr",
     "output_type": "stream",
     "text": [
      "\r",
      "  5%|███████▉                                                                                                                                                            | 48/986 [10:25<2:35:16,  9.93s/it]"
     ]
    },
    {
     "name": "stdout",
     "output_type": "stream",
     "text": [
      "generated explanation: <pad> <extra_id_0> The toddler is waking from a nap and he is feeling tired. This is because he has not been able to focus properly during the previous hours of sleep. This can be due to a lack of energy, lack of sleep, or a combination of both. The toddler is waking up from a nap and he is feeling tired. This is because he has not had a good night's sleep and is not getting enough sleep. The toddler is waking up with a feeling of fatigue. The toddler is likely feeling tired because he has had slept for the last few hours. This can be due to fatigue, or other physical symptoms of sleep, such as headaches, a lack of energy, fatigue, such as headaches, fatigue, and tiredness. The toddler may feel tired because of the lack of sleep. Sleeping causes a sense of tiredness and fatigue. The toddler may also have a feeling of tiredness in the morning. This can be due to physical or mental health issues, such as sleep or mental fatigue. The physical and mental fatigue can be a result of sleep. The toddler may be tired because of the physical and emotional state of tired and mental fatigue. It can be due to the physical and the emotional state of fatigue. It can be due to physical stress and emotional stress. It is also because of stress and mental fatigue. It can be due to the fact that the physical activity is unable to sleep.</s>\n",
      "########\n",
      "*******\n",
      "question: John listened to music when he needed to focus.  It helped him achieve what?\n",
      "answer: quiet mind\n",
      "choices: ['express emotion', 'beautifull', 'irritate', 'bad environment', 'quiet mind']\n",
      "common expl list: [\"When one is trying to focus on a task, it's common to listen to music to help one focus.\", 'Music can, at the very least, provide passive background noise as one works to help one focus. More specifically, music might have positive, uplifting or emotional qualities that are conducive to focus and concentration.', \"There's scientific evidence that listening to music can help people think better and concentrate easier.\"]\n"
     ]
    },
    {
     "name": "stderr",
     "output_type": "stream",
     "text": [
      "\r",
      "  5%|████████▏                                                                                                                                                           | 49/986 [10:35<2:34:17,  9.88s/it]"
     ]
    },
    {
     "name": "stdout",
     "output_type": "stream",
     "text": [
      "generated explanation: <pad> <extra_id_0> John listened to music when he needed to focus because it helped him achieve that. Music helps to calm the mind and help focus it. It also helps to relax the body and mind. When John needed to focus, he could listen to music and relax his mind. He found that listening to music helped him achieve that quiet mind. Music can help to calm the mind and help to focus the mind. It can also help to focus the mind and help to focus the mind. John also found that listening to music when he needed to focus was able to help him achieve that was beneficial because it helped him relax and focus. It helped him achieve a quiet mind and focus. It also helped to focus his thoughts and focus. It can help to focus and help to relax the mind. Music can also help to focus and help him to focus. It can help to focus the mind and help to focus. It can help to relax the mind and help to focus and relax the mind and help to relax the mind. It can help to remembering to remember to listen to the music when calming music when he needed to focus. It can help to relax and to focus the mind when he needed to focus. It can help to focus and help to relax the mind and help to focus when needed to focus and to focus. It can help to keep the mind quiet mind and focus when needed to focus and focus and relax. It can help to keep the mind quiet mind clear the mind and focus on the present and focus on the music when he needed it.</s>\n",
      "########\n",
      "*******\n",
      "question: If I were to suffer from sudden illness I would be within reason to visit where?\n",
      "answer: hospital\n",
      "choices: ['nursing home', 'hospital', 'brain', 'elderly person', 'building']\n",
      "common expl list: ['Anyone can suffer a sudden illness, but hospitals are where the equipment and personnel exist to deal with sudden illnesses.', 'If you were suddenly suffering an illness, it would be a reasonable thing to go to the hospital for treatment of that illness.', 'A hospital is a center for treatment and care of those suffering from illness.', 'A hospital is a place where people go to receive treatment for illnesses.']\n"
     ]
    },
    {
     "name": "stderr",
     "output_type": "stream",
     "text": [
      "\r",
      "  5%|████████▎                                                                                                                                                           | 50/986 [10:48<2:48:09, 10.78s/it]"
     ]
    },
    {
     "name": "stdout",
     "output_type": "stream",
     "text": [
      "generated explanation: <pad> <extra_id_0> If I were to suffer from sudden illness I would be within reason to visit a hospital because it is the safest and most convenient place to go. Hospitals are also often the only place that can provide care for those who are experiencing sudden illness. Hospitals are often equipped with life-saving medical equipment, such as a 24-hour emergency room, which can be used to treat any illness. Hospitals are also more cost-effective than other medical facilities, such as doctors' offices, pharmacies, and emergency rooms. Hospitals are also more expensive than private rooms, which are not available in the community. Hospitals are often far more expensive than a hospital. Hospitals also offer a range of services, such as a pharmacy, which can provide treatment for patients. Hospitals are also equipped with the latest medical care and are equipped with the latest medical equipment such as a bed, radioactive devices, and other medical care. In conclusion, it is more cost of compared to other medical facilities, which can be quite expensive. Hospitals are also a safer and secure environment, as they are more secure than other medical facilities. This makes them a safer place for patients and can access to medical care. Hospitals are also more secure than other medical equipment, which can provide care and support services, such as medication, and other medical services, such as a care. Hospitals are also more likely to provide care and treatment, and care, which can provide care, and support. In conclusion, hospitals are more secure than other medical care, and are more secure and secure than other medical care, which can provide care for those who are more likely to be a safer place to provide care, and care, and secure, and secure place for those who are in need to receive the care, which means of care, such as medical treatment, and care, which can be more affordable, which can be more affordable, and care, and are more expensive, which are generally more secure than a hospital, and are often more affordable than expensive, and are more affordable than compared to compared to other facilities, and<extra_id_27> </s>\n",
      "########\n",
      "*******\n",
      "question: John kept standing up.  He was afraid that if he were sitting down he might do something. What might he be afraid of?\n",
      "answer: fall asleep\n",
      "choices: ['fall asleep', 'being supported on chair', 'comfort', 'clowns', 'flatulence']\n",
      "common expl list: ['Sitting down makes one comfortable; sitting down with eyes closed makes one fall asleep.', 'When standing, the chances of falling asleep abruptly would be much less (assuming that one is awake).']\n"
     ]
    },
    {
     "name": "stderr",
     "output_type": "stream",
     "text": [
      "\r",
      "  5%|████████▍                                                                                                                                                           | 51/986 [10:56<2:38:24, 10.17s/it]"
     ]
    },
    {
     "name": "stdout",
     "output_type": "stream",
     "text": [
      "generated explanation: <pad> <extra_id_0> John was afraid that if he sat down he might fall asleep. He was afraid that if he sat down he might fall asleep. Falling asleep is the state of being unable to wake up and go to sleep. Falling asleep is a state of being unable to remember what is happening around him and how to recognize it. Falling asleep is the state of being unable to remember what is happening around him. Falling asleep is the state of being unable to remember what is happening around him. John was afraid that if he were to lie down, he might fall asleep. He was afraid that if he sat down, he might fall asleep if he he was afraid of falling asleep. He was afraid that if he fell asleep, if he fell asleep, he would be afraid of falling asleep. If he fell asleep, he would be unable to remember what was happening around him and would be able to remember what was happening around him. Fall asleep is a state of being aware of the world around him, and not being aware of the world around him. Fall asleep is a state of being conscious state of being aware of the world around him, and the world around him, which would be unable to remember what was happening around him, and the world around him.</s>\n",
      "########\n",
      "*******\n",
      "question: He didn't know that good things can be posion in large doses.  He thought that he was just eating an essential what?\n",
      "answer: nutrient\n",
      "choices: ['antidote', 'consumable', 'nutrient', 'vitamin', 'medicine']\n",
      "common expl list: ['He thought that he was just eating an essential nutrient, but in large doses, it could be poisonous.']\n"
     ]
    },
    {
     "name": "stderr",
     "output_type": "stream",
     "text": [
      "\r",
      "  5%|████████▋                                                                                                                                                           | 52/986 [11:07<2:38:42, 10.20s/it]"
     ]
    },
    {
     "name": "stdout",
     "output_type": "stream",
     "text": [
      "generated explanation: <pad> <extra_id_0> He thought that he was just eating an essential nutrient because it is a nutrient that is essential to the body. Essential nutrient is a group of nutrients that are essential to the body that are essential to the proper functioning of the body. Essential nutrient are substances that are essential to the body that are essential to the process of growth and development. They are the building blocks of a healthy body, and essential nutrients are essential to the proper functioning of the body. Essential nutrients are substances that are essential to the body that are important for the body to stay in the body. Essential nutrients are also essential for the brain function of the body to use them. They are essential for the body's health, and brain development. They are also essential to the body to maintain healthy mind that are essential to the brain. Essential nutrients are also important for the brain development and immune system. They are necessary for the body to function. They are also important for the immune system and the immune system. Essential nutrients are also essential to the body to maintain a healthy body. Essential nutrients are essential for the body. Essential nutrients are essential for proper development and maintenance of optimum health. Essential nutrients are essential for the body. They are essential to the body and they are essential to maintain healthy immune system. They are essential for the body and they are essential for proper growth and they are essential for the health. Essential nutrients are essential to the body and maintenance. They are essential for the body to support the immune system and they are essential for the body and immune system. Essential nutrients are essential for the body and they are essential to the body to maintain healthy.</s>\n",
      "########\n",
      "*******\n",
      "question: The police didn't pay any favors, their job was to what?\n",
      "answer: force law\n",
      "choices: ['force law', 'board vessels', 'arrest', 'arm weapons', 'direct traffic']\n",
      "common expl list: ['Police are usually tasked with upholding the law, and if they see a law being broken they will intervene (forceful intervention); moreover, they also coordinate with other officers (direct traffic and board vessels). These activities do not involve favors.']\n"
     ]
    },
    {
     "name": "stderr",
     "output_type": "stream",
     "text": [
      "\r",
      "  5%|████████▊                                                                                                                                                           | 53/986 [11:17<2:37:53, 10.15s/it]"
     ]
    },
    {
     "name": "stdout",
     "output_type": "stream",
     "text": [
      "generated explanation: <pad> <extra_id_0> The police's job is to protect the public and their rights. They are there to help protect the public and to enforce the law. The police are there to protect the public and to enforce the law. The law is written to be fair and effective, and they are there to protect the public. The police are there to protect the public and their rights. The law is written to be fair and effective, and to be lawful. The law is written to be harsh and unforgiving, and to be fair, and to be fair to all parties. The law is a way for police to be honest and to be fair and not to be fair and to protect the public. The law is designed to be fair and to protect the public. The law is a way to ensure that the public good of respect and to the public, and to be law. The police are there to be honest and to protect the public and to be law. The police are there to protect the public and to protect the public. The law is a tool to help the public and to help them to help the public and to help them to protect the public. The law is a tool to help the public and to help protect the public and to help them to protect the public. The law is a tool to help the public and to help the public and to help the public and protect the public. The law is a tool to help the public and to help to help the public and to help keep the public and to help them. The law is a tool to help the public and to help them to help the public.</s>\n",
      "########\n",
      "*******\n",
      "question: The place specialized in colorful arrangements, but the also had a toy balloon or two where?\n",
      "answer: flower shop\n",
      "choices: ['see work', 'birthday party', 'flower shop', 'parade', 'toy store']\n",
      "common expl list: ['Flower shops sell interesting arrangements made with colorful flowers.', 'Batches of balloons are available at flower shops, where floral arrangements are sold, and rainbow contruction paper is usually found in art shops and classrooms.']\n"
     ]
    },
    {
     "name": "stderr",
     "output_type": "stream",
     "text": [
      "\r",
      "  5%|████████▉                                                                                                                                                           | 54/986 [11:27<2:39:07, 10.24s/it]"
     ]
    },
    {
     "name": "stdout",
     "output_type": "stream",
     "text": [
      "generated explanation: <pad> <extra_id_0> The place specialized in colorful arrangements, but also had a toy balloon or two on the wall. Flowers are a popular way to express your creativity and they are a great way to show your appreciation for the world around you. Flower shops are a great way to show off your creativity and talent by displaying a variety of arrangements and colors. Flowers are a popular way to decorate a room or a special occasion. They can also be used to decorate a special occasion or special occasion. Flower shops are also a great way toyoooos. They also had a variety of flowers and other colorful balloons. They can be decorated with colorful balloons, and other fun and creatively. The flowers are often made with a variety of colors and designs, such as a bouquet, and flowers. They can also offer a variety of arrangements for birthdays. They can also provide a place for customers to find out what they are looking for. Flowers are often a variety of designs and colors. They can also offer a variety of arrangements, such as a variety of designs, such as a variety of flowers, such as a variety of flowers, such as a variety of flowers, such as flowers, and even had a balloon or two balloons. Flowers are a fun way toy balloons, and colorful arrangements, such as flowers, or toy balloons, and toy balloons to be used to create a fun atmosphere and to create a memorable experience. Flowers are a way to show off-handed, and designs, such as flowers, and balloons, as a toy balloons, bouquets, and<extra_id_27> </s>\n",
      "########\n",
      "*******\n",
      "question: Where was there never any mammoth?\n",
      "answer: zoo\n",
      "choices: ['wild', 'north dakota', 'forest', 'movie', 'zoo']\n",
      "common expl list: ['Mammoths are extinct, and zoos are places where animals are kept for observation and study.']\n"
     ]
    },
    {
     "name": "stderr",
     "output_type": "stream",
     "text": [
      "\r",
      "  6%|█████████▏                                                                                                                                                          | 55/986 [11:37<2:36:27, 10.08s/it]"
     ]
    },
    {
     "name": "stdout",
     "output_type": "stream",
     "text": [
      "generated explanation: <pad> <extra_id_0> Zoos are the only place where mammoths are found. They are a large, predatory mammalian that can be found in large numbers in zoos. Mammoths are a type of mammal that can be found in large numbers in zoos. Zoos are the only place that can provide a zoo with the necessary space to house and feed on mammoths. Zoos are also the only place that can provide a zos. Zoos are the only place where mammoths can find their food. Zoos also offer visitors the chance to interact with the animals. Zoos offer visitors the chance to see them. Zoos also provide visitors with the opportunity to interact with them. Zoos also provide a safe and secure environment for them. Zoos are also the only place where mammoots are found in the world. Zoos also a safe place where they can be found in the wild. Zoos are often located in the wild, which means that they are not in the wild. Zoos are also known as places where they are found in the wild animals are found in the wild life. Zoos also provide visitors with the opportunity to interact with other mammals such as a safe place to interact with other species and make new discoveries. Zoos are often located in the wild animals and their natural environment. This means that they are likely to interact with other visitors and their environment. This means that they are more likely to interact with other mammals and explore.</s>\n",
      "########\n",
      "*******\n",
      "question: Why do most people engage in chatting with friends?\n",
      "answer: fun\n",
      "choices: ['fun', 'love', 'answers', 'inspiration', 'relaxation']\n",
      "common expl list: ['Chats with friends are often fun, and thus people engage in them for that reason.']\n"
     ]
    },
    {
     "name": "stderr",
     "output_type": "stream",
     "text": [
      "\r",
      "  6%|█████████▎                                                                                                                                                          | 56/986 [11:49<2:43:40, 10.56s/it]"
     ]
    },
    {
     "name": "stdout",
     "output_type": "stream",
     "text": [
      "generated explanation: <pad> <extra_id_0> Chatting is a popular way for people to meet new people and make new friends. Chatting is a great way to make new friends and to share experiences. Chatting is a great way to make new friends and to have fun while you're at it. It's a great way to get to know new people and make new friends. Chatting is a great way to get to know new people and make new friends. Chatting is also a great way to make new connections and make new friends. Chatting with friends is also a great way to make new friends and to make new acquaintances. It's also a great way to make new people and to make new friends. It's also a great way to make new friends. It's also a great way to make new friends. Chat with friends is a great way to make new friends. Chatting is also a great way to meet new people and to make new people. It's a great way to make new friends and make new friends. It's fun and it's a way to make new friends. It's a great way to make new friends. Chat is a great way to make new friends and to make new friends. It's a great way to make new friends. It's a great way to make new friends and to make new people. It's also allows people to make new friends and make new friends. It's a great way to make new friends. It's a way to make new friends and make new friends. It's also a great way to make new friends and make new friends. Chat is a great way to share experiences and make new friends and make new friends are a great way to make new friends and make new friends.</s>\n",
      "########\n",
      "*******\n",
      "question: What could happen after discovering truth that you did not want to know?\n",
      "answer: pain\n",
      "choices: ['pain', 'relief', 'grey hair', 'understanding', 'enlightenment']\n",
      "common expl list: ['Truth can be painful, and discovering it can cause pain.']\n"
     ]
    },
    {
     "name": "stderr",
     "output_type": "stream",
     "text": [
      "\r",
      "  6%|█████████▍                                                                                                                                                          | 57/986 [11:58<2:36:05, 10.08s/it]"
     ]
    },
    {
     "name": "stdout",
     "output_type": "stream",
     "text": [
      "generated explanation: <pad> <extra_id_0> The pain of discovering truth that you did not want to know can be overwhelming. It can be a shock to the system to discover that truth was there, and that it was not yours. It can also be a wake-up call to the body. It may feel like it is being ripped apart and you are unable to face the world as it was. This pain can be a result of guilt, shame, or guilt. The pain of knowing that you have been wrong can be intense and overwhelming. It can be a wake up in your life. This is because it can be very difficult to face. It can also be a wake up and be a wake up feeling of sadness, and the realization that you are not being honest and that you are not being honest about yourself. It can be a source of guilt, anger, guilt, and shame, and guilt. It can be a result of being honest with yourself and the truth. It is a powerful motivating force to discover that truth is not being in the moment. It can be a sign of a sign of being a person. It can be a sign that you are not in the moment. It can be a sign that something that you are not wanting to accept it. It can be a sign of a sign of a relationship. It can be a sign of a sign of a deeper level of underlying beliefs and<extra_id_1> </s>\n",
      "########\n",
      "*******\n",
      "question: What will an athlete do to warm up their legs?\n",
      "answer: jog\n",
      "choices: ['use heater', 'sprint', 'jog', 'run fast', 'compete']\n",
      "common expl list: ['When athletes warm up before swimming, running, riding a bike, or performing other physical activity, they generally will jog (which will help them loosen muscles in the legs).', 'warming up is a routine that is performed to either prepare for doing something new, or prepare for doing something which put strains on you, or which you have been out of practice doing.']\n"
     ]
    },
    {
     "name": "stderr",
     "output_type": "stream",
     "text": [
      "\r",
      "  6%|█████████▋                                                                                                                                                          | 58/986 [12:08<2:37:49, 10.20s/it]"
     ]
    },
    {
     "name": "stdout",
     "output_type": "stream",
     "text": [
      "generated explanation: <pad> <extra_id_0> A jog is a brisk jog that a person can do before or after a workout to get their legs moving in a more efficient manner. This is because jogging helps to warm up the legs and prevents injury. It also helps to increase blood flow to the legs, which can be used to help with recovery efforts. Jogging is a great way for athletes to warm up their legs and get their blood pumping. It is a form of exercise that can help increase energy and endurance. It is also a great way to get the heart rate up and improve their overall fitness. Jogging helps to increase blood circulation to the muscles in the legs. It helps to get the heart rate of the body into a fuller, which can help to keep their heart rate. It is also a good way to increase blood flow to help with the body to help with muscle strength. It helps to increase blood flow to the legs, which can help with injury. It is a good way for athletes to increase blood flow to the legs and improve overall performance. It is a great way to get their legs into the blood flow to the body and to get them moving. It also helps to get the blood flow to increase the blood flow to the muscles, which helps to increase blood flow to the blood to the blood flowing. It also helps to stretch the legs and reduce fatigue. It is important to get the blood flow to the muscles and improve their overall health. It is important to get the blood flow to the muscles, which helps to improve coordination, and endurance. It helps to increase blood flow to increase blood flow to the heart rate of blood flow and strength.</s>\n",
      "########\n",
      "*******\n",
      "question: Where can you keep your binder on your person between periods of instruction?\n",
      "answer: backpack\n",
      "choices: ['class room', 'car', 'office supply store', 'backpack', 'bookcase']\n",
      "common expl list: ['Usually binder users carry their binders from class to class outside of the classroom. Backpacks are often convenient, and are large enough to hold the binder.']\n"
     ]
    },
    {
     "name": "stderr",
     "output_type": "stream",
     "text": [
      "\r",
      "  6%|█████████▊                                                                                                                                                          | 59/986 [12:18<2:38:25, 10.25s/it]"
     ]
    },
    {
     "name": "stdout",
     "output_type": "stream",
     "text": [
      "generated explanation: <pad> <extra_id_0> A backpack is a great way to keep a binder on your person between periods of instruction. It is a convenient way to store a binder and keep it organized. It is a lightweight and compact form of paper, which is ideal for carrying around. It is also a great way to store a binder while traveling. It is easy to carry and easy to access, and it is easy to organize. It is also easy to transport, which makes it ideal for carrying around a large number of books. It is also a great way to keep your binder in place to be easily accessible and easily accessible. It is also a convenient way to keep your binder with you when you are traveling. It is also a great way to organize your binder and easily accessible. It is also easy to store your binder in a backpack, which is ideal for short trips and for when you are not in the outdoors. It is also a great way to keep your binder organized. It is a great way to keep your binder organized and accessible when you are on the go. It is also a great way to keep your binder organized and easily accessible. This is also a great way to organize your binder. It is also a great way to keep your binder accessible and is also a great way to organize your binder and is a great way to organize your binder. It is possible to organize your life. You can also be able to store your binder in a portable form. It can be easily stored in a secure way to access your binder when you are traveling.</s>\n",
      "########\n",
      "*******\n",
      "question: In the middle of the day what will someone do because of being hungry?\n",
      "answer: have lunch\n",
      "choices: ['cook dinner', 'make bread', 'eat in restaurant', 'have lunch', 'make bread']\n",
      "common expl list: ['People often eat lunch at midday, and so, if they are hungry at midday, they might go to a restaurant to eat lunch.', \"It's common for folks to have lunch during the middle of the day.\"]\n"
     ]
    },
    {
     "name": "stderr",
     "output_type": "stream",
     "text": [
      "\r",
      "  6%|█████████▉                                                                                                                                                          | 60/986 [12:29<2:38:03, 10.24s/it]"
     ]
    },
    {
     "name": "stdout",
     "output_type": "stream",
     "text": [
      "generated explanation: <pad> <extra_id_0> During the day, most people will eat lunch. This is because they need to eat something to fuel their bodies. Eating lunch can help to satisfy a person's hunger and keep them full for longer periods of time. Eating lunch also helps to keep them fuller longer. Eating lunch can help to keep them alert and alert. Eating lunch can also help to keep them alert and alert. Eating lunch can also help to keep them from becoming irritable and distracted by other activities. Eating lunch can also help to keep them energized and keep them full. Eating lunch can help to keep them focused and alert and alert. By having lunch can help to keep them alert and alert to the various activities they are likely to keep them fuller. Eating lunch can help to keep them energize them awake and keep them alert. Eating lunch can also help to keep them focused and keep them occupied. Eating lunch can help to keep them focused and help to keep them fueled throughout the day. Eating lunch can help to keep them alert and keep them energized. Eating lunch can help to keep them energize them alert and keep them energized. It can also help to keep them focused and motivated. Eating lunch can help to keep them fueled by providing them satisfied and keep them alert and alert and alert. Eating lunch can help to keep them alert and motivated to work. Eating lunch can help to keep them focused and keep them alert and motivated. Eating can help them stay hydrated. Eating can help keep them alert and alert and alert and alert and alert and alert.</s>\n",
      "########\n",
      "*******\n",
      "question: Where is garbage brought to by garbagemen?\n",
      "answer: landfill\n",
      "choices: ['trashcan', 'landfill', 'television', 'computer', 'dumpster']\n",
      "common expl list: ['Landfills are where all the trash in the city go to.']\n"
     ]
    },
    {
     "name": "stderr",
     "output_type": "stream",
     "text": [
      "\r",
      "  6%|██████████▏                                                                                                                                                         | 61/986 [12:44<3:00:22, 11.70s/it]"
     ]
    },
    {
     "name": "stdout",
     "output_type": "stream",
     "text": [
      "generated explanation: <pad> The garbage brought to a landfill by garbagemen is a waste product that is disposed of in a proper manner. The garbage is thrown away in a designated area such as a yard, a building, a building, or a dump site. The dump site is usually located at a site that is clean and free of litter. The garbage is then disposed of in a landfill. The waste is then disposed of in a controlled manner, and the garbage is then disposed of in a landfill. The landfill is a waste, which is then thrown away from the garbage. The garbage is then a landfill and brought to be disposed of in a landfill. The garbage is then thrown at a a landfill. Then is then brought to the landfill, which is then thrown away, and then thrown into a landfill. The garbage is then brought to a landfill, and thrown away from the landfill. The garbage is then brought to a landfill, which is then thrown into a landfill. Thenor is then thrown into a landfill, which is then disposed of the landfill. The landfill is a landfill is a place that is a landfill, which is a landfill. The garbage is then brought to disposed of in a landfill, which is then brought to the landfill and then disposed of again brought to the landfill, which is then disposed of the landfill, which is a waste product that is brought to the landfill, which is then a landfill, and then brought to the garbage brought to the landfill, where the garbage is brought back to the garbage, which is then brought to the landfill, and brought to the landfill and then disposed of the garbage is then brought to the landfill, which is a licensed to disposed of the garbage is then disposed of the landfill, and then a licensed, which is then a licensed, and is then disposed of the proper, and is then a licensed landfill, which is then disposed of the landfill, and is then disposed of the landfill. Then disposed of the garbage is then a licensed and brought to the disposed of, and then disposed of the landfill and then brought to the land and then a landfill, and then disposed of, and brought to the landfill. This is then brought to the landfill, and brought to the land and disposed\n",
      "########\n",
      "*******\n",
      "question: What are people doing when washing hands for a long time?\n",
      "answer: thinking\n",
      "choices: ['thinking', 'sleeping', 'use soap', 'irritation', 'cleaning dirt off']\n",
      "common expl list: ['People often think about things while they are washing their hands, and this is a good time to think about things.', 'People often just pause while washing their hands. It may be that they are thinking about something while this occurs naturally.']\n"
     ]
    },
    {
     "name": "stderr",
     "output_type": "stream",
     "text": [
      "\r",
      "  6%|██████████▎                                                                                                                                                         | 62/986 [12:55<2:57:37, 11.53s/it]"
     ]
    },
    {
     "name": "stdout",
     "output_type": "stream",
     "text": [
      "generated explanation: <pad> <extra_id_0> People when washing hands for a long time usually think about how long they will have to spend thinking about it. This is because people are more likely to think about washing their hands while they are doing other chores, such as eating, exercising, or taking a bath. They are more likely to think about the time they are spending on the toilet and how long they will be spending in the kitchen. They are more likely to be thinking about how long they will be washing their hands for and how long they will be doing it for and how long they are doing it is because it can be difficult to think about how long. They are more likely to be thinking about how long they will be thinking about it will affect their thinking and how long they are doing their hands, and how long they will be a good idea. This can be a sign that they are thinking about how long they are going through the task of the hand and how long they will be doing it. They may also be thinking about how much time it will be taking care of their hands for. This is because they are likely to be thinking about how long it may be a good idea. This can be a sign that they are thinking about the long time they are taking their time. They may be thinking about how long time they are doing it can be a lot of other things. They may also think about how they may be doing it may be thinking about how they are doing it may be a certain thing they may be doing it or not be thinking about it. This can be thinking about it or not be doing it or not be thinking about it may be doing it may be thinking about how they are thinking about it may be thinking about how long it may be taking a long time they are thinking about it may be thinking about it</s>\n",
      "########\n",
      "*******\n",
      "question: What would someone say about a tube television?\n",
      "answer: obsolete\n",
      "choices: ['obsolete', 'addictive', 'entertaining', 'bycone', 'legal']\n",
      "common expl list: ['Tube televisions are no longer manufactured, and are therefore obsolete.', 'Tube televisions are obsolete, meaning that they are old and was abolished by newer technology.']\n"
     ]
    },
    {
     "name": "stderr",
     "output_type": "stream",
     "text": [
      "\r",
      "  6%|██████████▍                                                                                                                                                         | 63/986 [13:09<3:07:01, 12.16s/it]"
     ]
    },
    {
     "name": "stdout",
     "output_type": "stream",
     "text": [
      "generated explanation: <pad> <extra_id_0> A tube television is a type of television that is considered obsolete because it is made of plastic and has no moving parts. It is also not designed to be used in a home or a place where people live, work, or play. It is designed to be used in a home or a place where people can watch television without moving parts or moving parts. A tube television is a form of television that is made of plastic and has no moving parts or moving parts. It is designed to be used in a home or place where it is not being used, it is not needed to be used for commercials, as it is not designed for commercial purposes. It is also not intended to be used for commercial purposes and is not being a place where people can be used commercial commercials or for entertainment. It is not a form of entertainment, and is not designed for people who are looking for a home or a commercially television because it is obsolete. It is not a true technologically compatible with the current technology, and it is not designed to be used in a home or commercial environment. It is not a great way to watch television, and to watch a commercial television. It is a digital television that is not a lot of programming, and it is not a practical solution to the needs to watch television. It is not a great way to watch television, and is not a great way to watch television, and to watch a commercial or a place, as it is obsolete. It is not a great way to watch a way to watch television, as it is a great way to watch a television, as it is a way to watch television without moving and not to watch television, and not a great way to watch television is a way to watch a great way to watch a way to watch a tube television is a great way to watch a television and experience. It is a way to watch a way to watch television without having a great way to watch a great way to watch a great way to watch a television, because it is a way to watch<extra_id_27> </s>\n",
      "########\n",
      "*******\n",
      "question: The man drank his coffee at work?\n",
      "answer: office\n",
      "choices: ['coffee shop', 'table', 'kitchen', 'office', 'chair']\n",
      "common expl list: ['People often drink coffee at offices, with other co-workers.', 'The man probably works in an office where he could have a cup of coffee while behind his desk.', 'The man is likely to be at work, and offices often have kitchens where coffee is made.']\n"
     ]
    },
    {
     "name": "stderr",
     "output_type": "stream",
     "text": [
      "\r",
      "  6%|██████████▋                                                                                                                                                         | 64/986 [13:19<2:59:25, 11.68s/it]"
     ]
    },
    {
     "name": "stdout",
     "output_type": "stream",
     "text": [
      "generated explanation: <pad> <extra_id_0> The man drank his coffee at work because it was in the office, which is where he worked, and he was able to enjoy the coffee while working. The office is where people work, and the coffee is brewed and served. Offices are usually located in offices, which are usually located near the building, which provides a comfortable environment for employees to work and enjoy their coffee. Coffee at work is a popular beverage in the office because it is a caffeine-rich beverage that can be enjoyed by everyone. Coffee at the office is a commonplace where people can drink coffee and tea or a cup of coffee at work. Coffee at work is also a place for employees to relax and socialize with each other. Coffee is a great way to enjoy a cup of coffee. Offices are also often located near the building, which is a great place to work. The coffee can be enjoyed by everyone. The coffee can be a great way to relax and enjoy the company's employees to have a cup of coffee at work. Coffee is also a great way to have fun and socialize. Coffee is a great way to socialize and stay healthy job. It is also a great way to stay in the office. Coffee is also a great way to stay focused and stay focused environment. The coffee can be a great way to promote teamwork and stay alert and stay alert and energized up quickly. Coffee is also a great source of energy source of caffeine-dependent workers and enjoy their time together and help them feel more productive and productive. Coffee at work is a great way to increase productivity and reduce stress. Coffee at work.</s>\n",
      "########\n",
      "*******\n",
      "question: What can he do to eliminate his ignorance?\n",
      "answer: learn new\n",
      "choices: ['find information', 'judge', 'do some research', 'find truth', 'learn new']\n",
      "common expl list: ['In this context, ignorance refers to a lack of knowledge, and obtaining new knowledge is the best way to eliminate the ignorance.', \"Learning is a way to eliminate ignorance; for example, learning a foreign language is one way to eliminate ignorance of that language's grammar.\", 'Ignorance is the state of not knowing something, and to eliminate ignorance, one must learn new things.']\n"
     ]
    },
    {
     "name": "stderr",
     "output_type": "stream",
     "text": [
      "\r",
      "  7%|██████████▊                                                                                                                                                         | 65/986 [13:34<3:12:42, 12.55s/it]"
     ]
    },
    {
     "name": "stdout",
     "output_type": "stream",
     "text": [
      "generated explanation: <pad> <extra_id_0> He can learn new things by reading, writing, and speaking at events. Reading can help him learn new things, and it can help him learn new things by introducing new ideas to his friends and peers. Reading can also help him understand the world around him and help him understand the world around him. Learning can help him become more aware of the world around him and the world around him. Learning can help him become more aware of the world around him and help him become more aware of the world around him. Learning can also help him understand the importance of the world around him. In conclusion, reading can help him understand the world around him. Learning can also help him understand the world around him better understand the world around him and how to understand the world around him. It can also help him gain a better understanding of the world around him. It can also help him develop a better understanding the world around him and how the world around him. It can also help him to understand the world around him and the world around him. It can help him gain a better understanding of the world around him. It can help him become more aware of the world around him and how to make a person. It can also help him gain a better understanding of the world around him and how to recognize the world around him. It can help him learn how to become more aware of the world around him and the world around him. It can also help him gain a better understanding of the world around him and help him become more knowledgeable about the world around him. It can help him understand the world around him. It can help him become more aware of the world around him and help him become more aware of the world around him and help him. It can help him understand the world around him. It can help him to become more aware of the world around him and how to understand the world around him and how to become knowledgeable about the world around him. It can help him understand the world around him and how to improve his knowledge and understanding of the world around him and how to become more knowledgeable and how to become more knowledgeable about the world around him. It can help him understand the world around him and how to improve his knowledge and how to become more knowledgeable about the world. It can help him to understand the world around him and<extra_id_27> </s>\n",
      "########\n",
      "*******\n",
      "question: What do humans do when in a race?\n",
      "answer: compete with each other\n",
      "choices: ['lay eggs', 'eat fruit', 'wrestle', 'compete with each other', 'draw pictures']\n",
      "common expl list: ['Humans are naturally athletic and competitive. On land, people will compete with each other by running or wrestling. Often humans race on water by swimming, or by boating with other people.']\n"
     ]
    },
    {
     "name": "stderr",
     "output_type": "stream",
     "text": [
      "\r",
      "  7%|██████████▉                                                                                                                                                         | 66/986 [13:48<3:21:22, 13.13s/it]"
     ]
    },
    {
     "name": "stdout",
     "output_type": "stream",
     "text": [
      "generated explanation: <pad> <extra_id_0> In a race, humans compete against each other to be the best they can be. In a race, humans compete against each other to be the best they can be. In a race, humans compete to be the best they can be. In a race, humans compete to be the best they can be, and to win the race. In a race, humans compete to be the best they can be. In a race, humans compete to be the best they can be, and to win the race, they must compete against each other race for survival and for survival. In a race, humans compete to be the best they can be a team, and win the most a prize or a race against other. In a race, humans must compete for the best in a chance to win the race, and win. In a race, humans must compete to each other to be the best they can be the best they can compete for survival and survival, and survival, and to win the race to be a win. In a race, humans must be competitive to win and to win. In a race, humans must be able to compete for survival and to be able to compete against each other and to win. In a race, humans must be able to compete in order to be successful. In a race, humans must be able to compete against each other and to win the race, they must be able to win. They must be able to win the best they can compete in a race, and win. In a race, humans must be able to make sure they win the best they can compete with each other in a race, and make sure they are willing to compete against each other and make sure to win. This means that they are willing to compete with each other and to compete against each other in order to win the other and to compete against each other and to compete with each other, they must be willing to make sure that they are willing to make sure to compete with each other and to make themselves and to compete with each other to make the race, they must be able to compete and to make the best their own individual race and to compete against each other<extra_id_27> of a race to win and make sure that they are willing to make sure they are willing to take risks, and they are willing to compete in a race and they can win their own<extra_id_27> </s>\n",
      "########\n",
      "*******\n",
      "question: She explained that you won't always get what you want with a goal, but you should still do what with it?\n",
      "answer: reach for\n",
      "choices: ['know how to find', 'work hard', 'remember where', 'reach for', 'purchase']\n",
      "common expl list: ['Reaching for attained goals is more beneficial than simply working towards them, at least in the short term. It significantly increases your chances of success.']\n"
     ]
    },
    {
     "name": "stderr",
     "output_type": "stream",
     "text": [
      "\r",
      "  7%|███████████▏                                                                                                                                                        | 67/986 [14:00<3:14:28, 12.70s/it]"
     ]
    },
    {
     "name": "stdout",
     "output_type": "stream",
     "text": [
      "generated explanation: <pad> <extra_id_0> She explained that reaching for a goal is a great way to get what you want, even if it is not always easy. Reaching for a goal can be difficult because you may not have the skills or resources to accomplish the goal. Reaching for a goal can be a difficult process, but it can be done. Reaching for a goal can help you get what you want faster, more efficiently, and more effectively. Reaching for a goal can help you stay motivated and focused. Reaching for a goal can help you get more accomplished. Reaching for a goal can help you get you closer to your goals and help you become successful. Reaching for a goal can help you to achieve your goals faster. Reaching for a goal can help you become more confident in your goals and build a better lifelong journey. It can also be a way to reach for a goal can help you achieve your goals and get what you need. Reaching for a goal can help you achieve your goal faster. Reaching for a goal can help you achieve your goal in a better lifelong journey. Reaching for a goal can also help you to reach your goal. Reaching for a goal can be a goal helps you achieve your goal. This can help you reach for your goal and achieve your goals. Reaching for a goal can help you achieve your goal in the process. Reaching for a goal can help you achieve your goal faster and more than reaching for a goal because it can help you to reach for a goal because it can help you get what you want. Reaching for a goal can be a goal can help you achieve your goal can help you reach for it and help you achieve your goal can help you achieve your goal by helping you to reach for a goal by helping yourself.</s>\n",
      "########\n",
      "*******\n",
      "question: What happens when you eat hamburger too fast without swallowing?\n",
      "answer: choking\n",
      "choices: ['get full', 'drink', 'choking', 'hungry', 'getting fat']\n",
      "common expl list: ['Eating too fast can sometimes cause coughing / choking as food get stuck in your throat.', \"When you eat hamburger too fast, it can quickly turn into the consistency of a block, and when you can't swallow it, it can cause you to choke.\", \"Choking can occur when you stick stuff in your mouth which can't go down your throat properly, so that you can't breath. Common causes can be eating too fast, or swallowing items that can't go down your throat, like liquids or large\", \"If you eat hamburger too fast, you might choke on it, because it's a solid food that can get stuck in your throat.\"]\n"
     ]
    },
    {
     "name": "stderr",
     "output_type": "stream",
     "text": [
      "\r",
      "  7%|███████████▎                                                                                                                                                        | 68/986 [14:09<2:55:54, 11.50s/it]"
     ]
    },
    {
     "name": "stdout",
     "output_type": "stream",
     "text": [
      "generated explanation: <pad> <extra_id_0> Eating a hamburger too fast can cause choking. Eating a hamburger too fast can cause choking. Choking is a serious problem that can be deadly. Hamburgers are often overcooked and greasy, resulting in a bitter taste and a sharp taste. When you eat a hamburger too fast, the food is too hot and the air is too dense to breathe. This can lead to a rapid increase in the risk of choking. Choking is a serious condition that can be fatal. It is also important to know that the food is too hot and cold. It is important to remember that the food you are overly. It is important to know that you are not eating too much too fast and not to avoid choking. It is important to a healthy meal that is cooked properly. It can lead to a serious health risks of choking. It can be fatal. Choking can be a result in a number of other complications, such as vomiting and constip choking. It can lead to a variety of symptoms, including vomiting, and a variety of symptoms. Choking can be fatal, as well as causing severe. It can be fatal a result. It can be fatal a serious health effects of a variety of foods that are not cooked and not properly cooked. It can be fatal</s>\n",
      "########\n",
      "*******\n",
      "question: John sat in a folding chair in a bit room with a stage.  What sort of room could that be?\n",
      "answer: auditorium\n",
      "choices: ['room', 'auditorium', 'meeting hall', 'school', 'church']\n",
      "common expl list: ['An auditorium is a large room that is used for public events, such as concerts, plays, and speeches.']\n"
     ]
    },
    {
     "name": "stderr",
     "output_type": "stream",
     "text": [
      "\r",
      "  7%|███████████▍                                                                                                                                                        | 69/986 [14:18<2:48:42, 11.04s/it]"
     ]
    },
    {
     "name": "stdout",
     "output_type": "stream",
     "text": [
      "generated explanation: <pad> <extra_id_0> John sat in a folding chair in a bit room with a stage in it. An auditorium is a large room that has a stage and a folding chair, and it is often used for performances and other events. In an auditorium, the audience is seated in rows or columns, facing the stage. The audience is then able to see the performers and the audience. The stage is usually a large, open space with a large screen showing the performers' names and stage locations. The audience is able to see the performers and the stage. The audience is then given the stage, and the chairs, and the audience. The folding chair is also often large, so that the audience can see the performers on stage. The audience is able to see the performers perform in a variety of plays, presentations. The stage is usually a bit room with a large number of performers and a variety of different genres. The audience is also able to see the actors in a variety of roles, from the audience. The audience is also able to see the actors, and the audience. The folding chair is able to see the audience in a bit room with a stage. The auditorium is a bit room with a stage, and the audience is able to see the performers in a lot of activities. The audience is able to see<extra_id_27> of the audience and the stage. The audience is able to see the performers and the actors in a bit room, and the acts, and the characters in the audience.</s>\n",
      "########\n",
      "*******\n",
      "question: What would an adult man do to get ready for work?\n",
      "answer: dress himself\n",
      "choices: ['dress herself', 'shower', 'dress himself', 'drink beer', 'drive train']\n",
      "common expl list: ['Adult males commonly wear suits to work. Men might get dressed in the morning, particularly if they plan on wearing a suit for work.', 'An adult man would dress himself for work: this includes putting on pants, shirts, and dresses, and typical choices are professional clothes, such as suit and tie.']\n"
     ]
    },
    {
     "name": "stderr",
     "output_type": "stream",
     "text": [
      "\r",
      "  7%|███████████▋                                                                                                                                                        | 70/986 [14:28<2:39:50, 10.47s/it]"
     ]
    },
    {
     "name": "stdout",
     "output_type": "stream",
     "text": [
      "generated explanation: <pad> <extra_id_0> An adult man should dress himself for work by putting on a suit and tie, putting on a jacket, and putting on a suit and tie. This will give him a professional appearance, as well as allowing him to look sharp and professional. Dressing himself for work is a necessary part of the job. Dressing yourself is a necessary part of getting ready for work. It allows the man to look sharp and professional, and it also allows him to show off his work. This is because the man is going to look good and presentable. It is also important to be comfortable and it is important to show off his sense of style. It is also important to ensure that the man looks and feels comfortable in the office. It also helps to ensure that the man is comfortable and comfortable and comfortable. It also allows the man to feel confident and confident in the workplace. It also allows him to focus on the job. Finally, it is important to dress himself for work, and feel comfortable in order to look good. It is important for men to know how to feel good to look. It is also important to understand how to dress himself in order to avoid the workplace. It is important to dress yourself for the work and the man’s personality and personality. It is important to understand that a man’s are a professional appearance is important to look professional and feel comfortable in order to communicate<extra_id_27> </s>\n",
      "########\n",
      "*******\n",
      "question: What does one do at an office?\n",
      "answer: work\n",
      "choices: ['work', 'school building', 'workplace', 'skyscraper', 'public building']\n",
      "common expl list: ['An office is a place where people work.', 'An office is a specific type of workplace.', 'One does work at the office']\n"
     ]
    },
    {
     "name": "stderr",
     "output_type": "stream",
     "text": [
      "\r",
      "  7%|███████████▊                                                                                                                                                        | 71/986 [14:39<2:41:29, 10.59s/it]"
     ]
    },
    {
     "name": "stdout",
     "output_type": "stream",
     "text": [
      "generated explanation: <pad> <extra_id_0> An office is a building that houses a number of offices, each of which is designed to accommodate a specific type of work. Offices are often a place of work, where people work from home and are responsible for ensuring that their work is completed efficiently and safely. Offices are usually located in a building that is occupied by a number of different departments, each of which is responsible for a specific task or task. Each office has a specific job that is assigned to a specific department or group of people, which is why it is important to have a sense of security and that is a place of security measures in place of safety and security. They are also responsible for ensuring that workers are aware of the environment in which is safe and secure. They are also responsible for ensuring that no one is taken seriously and that no one is not in the workplace. By working from home, it is possible for employees to be a safe and secure environment in which is a work environment where employees can be confident and feel safe. Offices are also often clean and safe. They are also responsible for ensuring that they are not in the workplace. This is because they are responsible for a variety of tasks and can be a variety of tasks. They are responsible for a variety of tasks and can be a variety of tasks, which can be done in a variety of tasks, which can be done in an office. They can be a part of their work, as they are responsible for, and can be able to be productive and safe. They can also be more easily and secure, which can be a place of refuge for their own personal development, as they can be in an effective way to make sure that they are aware of their work.</s>\n",
      "########\n",
      "*******\n",
      "question: When a person is on trial for killing, what is a jury likely to decide?\n",
      "answer: punishment\n",
      "choices: ['execution', 'investigation', 'going to jail', 'retribution', 'punishment']\n",
      "common expl list: ['A person who has just killed another person often goes to trial, so the jury will likely have to decide what the most just punishment is.', 'When a jury decides that someone is guilty of a crime, they typically hand down a punishment.', 'A jury is likely to decide that the person is guilty of the crime, and punish them accordingly.']\n"
     ]
    },
    {
     "name": "stderr",
     "output_type": "stream",
     "text": [
      "\r",
      "  7%|███████████▉                                                                                                                                                        | 72/986 [14:48<2:36:03, 10.25s/it]"
     ]
    },
    {
     "name": "stdout",
     "output_type": "stream",
     "text": [
      "generated explanation: <pad> <extra_id_0> A jury is likely to decide that a person guilty of killing someone is guilty of a crime. This is because a jury is likely to determine that the person is guilty of a crime and that the jury should be able to impose a penalty. This is because the jury is likely to decide that a person is guilty of a crime when a jury is unable to reach a verdict. This is because the jury is likely to decide that the person is guilty of a crime and that the jury is not likely to be a sentence is not likely to be a guilty verdict. This is likely to be a jury will also be a guilty verdict, or life. This is because the jury is likely to decide that the jury will not be convicted of a if the jury is not satisfied with the evidence and the case. The jury will be able to make a decision on the case. The jury will also likely to find the victim guilty. The jury will be convicted of a crime and that the crime was not committed by the crime. The jury will also likely to find the crime. The jury will likely to find in the case that the killing was not committed. The jury will also likely to find that the victim was not guilty of a crime. The jury will also likely to decide that the person guilty of the crime was not committed. The jury will likely to decide whether the person is guilty or not guilty verdict is likely to be carried out its own or a crime.</s>\n",
      "########\n",
      "*******\n",
      "question: Most adult Americans split their time between home and what?\n",
      "answer: work\n",
      "choices: ['tent', 'work', 'apartment', 'the office', 'foreign']\n",
      "common expl list: ['Most adults spend most of their time at work.', 'Home and work may be the two places where most adult Americans spend most of their waking hours.']\n"
     ]
    },
    {
     "name": "stderr",
     "output_type": "stream",
     "text": [
      "\r",
      "  7%|████████████▏                                                                                                                                                       | 73/986 [14:57<2:31:53,  9.98s/it]"
     ]
    },
    {
     "name": "stdout",
     "output_type": "stream",
     "text": [
      "generated explanation: <pad> <extra_id_0> Most adult Americans split their time between home and work. This is because most adult Americans split their time between work and home. This is because work requires more time than home and it requires more time to complete. In addition to working outside the home, it also requires more time to manage. In addition to working outside the home, work requires more commitment from the employee. This means that employees are more likely to be working from home than ever before. This means that they are more likely to be traveling, and more likely to be at a desk job. This is also because it is also more likely to be more stressful than one could ever before. In addition, most adult Americans spend more time at home because of the amount of time spent at work is less than the amount of time spent at home. This means that they are more time at work. It also means that they are more time at home than they spend at home. Overall, it is a time that most likely that most adults split their time between home and work. It is more likely that they spend more time at work. Overall, most adult Americans split their time between home and their time away from home. Overall, adults who work from home, work schedules, it is a more likely to be less time than ever. This means that work is more likely to be able to be at home. It is more likely that they spend at home. It is likely that they have less time at work than they spend at home.</s>\n",
      "########\n",
      "*******\n",
      "question: Professionally the fighters always maintained a level of respect, but personally they held each other in what for things that were said?\n",
      "answer: contempt\n",
      "choices: ['belittlement', 'humiliate', 'irreverence', 'contempt', 'love']\n",
      "common expl list: ['Despite the respect that was maintained by the respectful fighters, the feelings that they had for each other were always a sense of contempt for each others character.']\n"
     ]
    },
    {
     "name": "stderr",
     "output_type": "stream",
     "text": [
      "\r",
      "  8%|████████████▎                                                                                                                                                       | 74/986 [15:00<1:58:59,  7.83s/it]"
     ]
    },
    {
     "name": "stdout",
     "output_type": "stream",
     "text": [
      "generated explanation: <pad> <extra_id_0> The fighters<extra_id_1> The fighters held each other in contempt for things that were said between them. This was because the fighters held each other in a level of disrespect, even though the fighters maintained a level of respect for each other. Contempt is a feeling that is often associated with fighting and it is often associated with the feeling of being held in disrespect. This is because the fighters held each other in contempt for things that were said between them. Contempt is a feeling of being held in contempt</s>\n",
      "########\n",
      "*******\n",
      "question: Where would you find many tables of silverware rolled into nice displayed napkins?\n",
      "answer: restaurant\n",
      "choices: ['silver', 'park', 'table', 'cupboard', 'restaurant']\n",
      "common expl list: ['In a commercial establishment, silverware is expected to be clean because consumption of food is involved. So, a restaurant may well be where someone would expect to find silverware rolled into nice displayed napkins (i.e., fancy silverware).', 'Restaurants often have a lot of silverware, and they might roll it up and place it in a napkin to make it easier to store.', 'Restaurants often give used, rolled up silverware to customers, and they might keep them in nice, displayed napkins to make moving and storing them easier.']\n"
     ]
    },
    {
     "name": "stderr",
     "output_type": "stream",
     "text": [
      "\r",
      "  8%|████████████▍                                                                                                                                                       | 75/986 [15:08<2:01:14,  7.99s/it]"
     ]
    },
    {
     "name": "stdout",
     "output_type": "stream",
     "text": [
      "generated explanation: <pad> <extra_id_0> Restaurants are known for their use of silverware in a variety of ways. For example, silverware is often rolled into napkins for a more formal look. This is because silverware is typically used in a restaurant to serve food and the napkins are often rolled into a pretty design. The napkins are usually rolled into a circle and positioned at the table so that they can be placed at a convenient location. Restaurants often have large, rolled up tables of silverware and other items, such as dinners, bars, bars, bars, restaurants, which often have large, which are known for their use. Restaurants often have rolled into a table, which is rolled into a nice display. This is especially true in restaurants, which often have rolled into a formal dinner party. They are also often rolled into a nice, a variety of different designs and colors that can be found in a variety of designs, colors and patterns. They are usually rolled into a pattern, and they can be used to decorate tables or for a variety of different designs. They can be used in a variety of colors, patterns, and patterns, so that they can be used to decorate tables and other items, such as rolled into a variety of patterns and patterns and<extra_id_27> </s>\n",
      "########\n",
      "*******\n",
      "question: He didn't believe fate controlled situations, what did he believe people did?\n",
      "answer: control events\n",
      "choices: ['control events', 'pray', 'dress themselves', 'talk to each other', 'think creatively']\n",
      "common expl list: [\"If one believes fate controls events, there's nothing to do but accept situation, perhaps to pray; in contrast, if one believed they had control over events, then they could act to change the situation.\", 'If one believes in fate, then one would believe that fate controls events. If one believes in free will, then one would believe that people control events.']\n"
     ]
    },
    {
     "name": "stderr",
     "output_type": "stream",
     "text": [
      "\r",
      "  8%|████████████▋                                                                                                                                                       | 76/986 [15:18<2:10:06,  8.58s/it]"
     ]
    },
    {
     "name": "stdout",
     "output_type": "stream",
     "text": [
      "generated explanation: <pad> <extra_id_0> He believed people did not believe that fate controlled situations because they believed that people did control events. He believed that people did control events because they believed that people could influence the outcome of the events. He believed that people could control the outcome of the events because they could control the way the events were planned and the timing of the events was important. He believed that fate controlled situations because it was a way for people to control the events and the events were controlled by the people involved. He believed that people could control the events because they were able to influence the events that were not tied to the events. He believed that people could control the way that they could have an impact on the events that were not in control the way he believed that people could have an impact on the events. He believed that people could also have an impact on the events they were planned and the way they were planned. He also believed that they could have an impact on the events. He believed that people could control events because they could have an impact on the outcome of the way they were planned. He believed that people could have a positive effect on the way they were planning and the events. He believed that people could not believe that people could control the events because they were not believe that people could change the course of the events. He believed that people could control the events because they were not able to plan and the way they were able to change. He believed that people could create positive or create positive effects on the events. He believed that people could control the pace of the events and the events that were created by a better plan and the events<extra_id_27> </s>\n",
      "########\n",
      "*******\n",
      "question: Polly didn't know her way around, so she navigated by landmark.  She used statues, stores, and distinctive building.  Where might she be?\n",
      "answer: city\n",
      "choices: ['countryside', 'national park', 'map', 'neighbourhood', 'city']\n",
      "common expl list: ['Landmarks are often located in cities, and so if a person was navigating by landmarks, they are likely to be in a city.', 'Landmark navigation works best in populated areas because distinctive buildings and statues can be more easily seen.', \"She used distinctive buildings as landmarks, so it is likely she's in a city.\", 'In a city, landmarks are often used to navigate. In the countryside or in national parks, landmarks may not be as distinct, as buildings and statues are less likely to be found.']\n"
     ]
    },
    {
     "name": "stderr",
     "output_type": "stream",
     "text": [
      "\r",
      "  8%|████████████▊                                                                                                                                                       | 77/986 [15:30<2:23:51,  9.50s/it]"
     ]
    },
    {
     "name": "stdout",
     "output_type": "stream",
     "text": [
      "generated explanation: <pad> <extra_id_0> Polly might be in a city because it is the center of the city and a place to go. She might be in a city because it is a place to go and see things she doesn't know. Cities are often populated by people of all ages and backgrounds, and the population of cities varies widely. For example, Polly might be in a city that has a lot of people, and she might be in a city that has a lot of people. She might be in a city because it is often a place where people gather and businesses. This helps her to navigate the city. A city is a place to look for tourists, and other visitors. She might be in a tourist attraction or tourist attraction. She might be in a place where she might find a restaurant or a place to go to buy or to souvenirs. She might be in a city because of the shops and restaurants and attractions. She might be in a city because of the many people and attractions. She might also be in a city for shopping and entertainment opportunities to enjoy a trip to see something new. She might be in a city because of her experience. She might be in a place because it is a city because it is a safe and secure place to stay away from the chaos and the chaos. She may be in a city because of sights and people. She may also be able to find things she needs. She might be able to find a store or a landmark because it is able to find a place because it is a place of safety and security reasons. She may also be able to find a good place to go to find a place to visit a city because it is a good place to visit, and feel the sights and places.</s>\n",
      "########\n",
      "*******\n",
      "question: Some horses are white others are black, but many are this color which might lead some people to think their milk would taste like chocolate?\n",
      "answer: brown\n",
      "choices: ['big but gentle', 'kept in stables', 'cuddly', 'brown', 'running in herd']\n",
      "common expl list: [\"An individual brown-colored horse (particularly when cuddly) can resemble the color of chocolate. If a person were to guess based on the color, he might guess a horse's milk tasted similarly.\"]\n"
     ]
    },
    {
     "name": "stderr",
     "output_type": "stream",
     "text": [
      "\r",
      "  8%|████████████▉                                                                                                                                                       | 78/986 [15:41<2:28:40,  9.82s/it]"
     ]
    },
    {
     "name": "stdout",
     "output_type": "stream",
     "text": [
      "generated explanation: <pad> <extra_id_0> Some horses are white others are black, but many are brown. This is because the milk is not as dark as the milk in the picture and the milk is not as rich as the milk in the picture. The brown color is due to the presence of a pigment called thiocinate, which is a substance found in milk. The pigment is also found in milk and other foods, such as yogurt, milkshakes, and other dairy products. The color of the milk is due to the presence of calcium, which is found in the milk. The milk is also known to taste sweetening. The milk is also because it is a natural way to compare to the milk that is produced by the milk is a milk, which is a result of the milk. The milk is also because it is a type of milk that is a natural process, which is a natural dye. The color of the milk is produced by the milk, and is a process that produces milk that is not a milk. The milk is also a natural dye which is present in the milk, which is present in the milk. The color of the milk is also a natural color that is present in the milk. The milk is a natural flavor and is a natural product. The milk is a natural flavor that is due to the milk is also a product that is made from the milk and not artificial dyes. This is a natural milk that is made from cows, which is made from the milk. The color of the milk is made from cows that are black and white.</s>\n",
      "########\n",
      "*******\n",
      "question: What is the one thing you cannot do if you're on the move?\n",
      "answer: stand still\n",
      "choices: ['sit still', 'stationary', 'running', 'stand still', 'stay still']\n",
      "common expl list: ['You must be in motion to be counted as on the move. (this rule exists to disallow the action of holding still)']\n"
     ]
    },
    {
     "name": "stderr",
     "output_type": "stream",
     "text": [
      "\r",
      "  8%|█████████████▏                                                                                                                                                      | 79/986 [15:54<2:43:08, 10.79s/it]"
     ]
    },
    {
     "name": "stdout",
     "output_type": "stream",
     "text": [
      "generated explanation: <pad> <extra_id_0> If you're on the move, you can't move because you're not moving. Standing still is the only way to stay in motion. It's the only way to stay safe and focused on the task at hand. Standing still is also dangerous because it can lead to injury or death. It's also the only way to stay safe and focused. Standing still is the only way to stay safe and focused on the task at hand. Standing still is the only way to stay safe and focused on the task at hand. Standing still is a great way to stay calm and remain focused on the task at hand without moving. Standing still is a dangerous situation where you may face the danger of falling over or a potential danger to fall or fall asleep. It can also be dangerous for your body and cause serious injury or death or injury. Standing still is the only way to keep you alert and safe and secure. Standing still is the only way to keep you safe and secure and secure while you are in place. Standing still allows you to keep your mind and your body in place. It also allows you to stay in one of the task at a safe place and secure. Standing still is the only way to keep your mind and to keep your mind. It is the only way to stay focused and avoid being distracted. Standing still allows you to keep your mind and not distracting yourself. It is also a way to keep your mind and not to move. It is also impossible to keep your mind from being unable to be unable to keep you from being distracted by the world around you and not able to focus and remain focused on the task at the move and not move. Standing still means that you can't be aware of any danger. It's your body in control and safe and not be able to remain focused and avoid being a distraction. It is also impossible to stay focused and maintain control of any dangers in the danger of danger and not to stay in control of injury or risk of being distracted and potentially dangerous and potentially damaging to your surroundings and potentially dangerous and potentially dangerous because of being distracted by distractions<extra_id_1> </s>\n",
      "########\n",
      "*******\n",
      "question: Where does someone convicted of a petty crime likely spend time?\n",
      "answer: jail\n",
      "choices: ['sell drugs', 'jail', 'nightclub', 'prison', 'offer drugs']\n",
      "common expl list: ['Someone convicted of a petty crime is likely to spend time in jail.', 'Someone convicted of a petty crime probably spends some time in jail, and not in prison.']\n"
     ]
    },
    {
     "name": "stderr",
     "output_type": "stream",
     "text": [
      "\r",
      "  8%|█████████████▎                                                                                                                                                      | 80/986 [16:03<2:36:07, 10.34s/it]"
     ]
    },
    {
     "name": "stdout",
     "output_type": "stream",
     "text": [
      "generated explanation: <pad> <extra_id_0> Jail is a jail that is typically a place of confinement for those convicted of a petty crime. Jail is a jail that is typically located in a rural area, and it is typically located in a rural area. Jail is a place that is typically a rural area, and it is typically a rural area. Jail is typically a secure environment, with guards and other security personnel monitoring the area for suspicious activity. Jail is also a place that is often used to get to report. Jail is also typically a secure place of corrections personnel on duty. This means that someone is likely to be in jail. This is a place of temporary, and can be difficult to get out of the country. It is a place of justice for petty crime and can be used to gain the experience of being locked down and can be a place of punishment. Jail is also a place that is a place of security personnel that can help keep an eye on the outside of the outside of the outside of the community. Jail is a place of security and can provide a sense of security. Jail is a place of solitude and can be a place of security. Jail is also a place where people can get away from the outside world. Jail is a place of security personnel who are often locked up to help with the community and help with the rightfull</s>\n",
      "########\n",
      "*******\n",
      "question: He would entertain with a pool party regularly, it was the best way to beat the what?\n",
      "answer: hot\n",
      "choices: ['please', 'hot', 'guest', 'bribe', 'liked']\n",
      "common expl list: ['Pool parties are a great way to beat the heat.']\n"
     ]
    },
    {
     "name": "stderr",
     "output_type": "stream",
     "text": [
      "\r",
      "  8%|█████████████▍                                                                                                                                                      | 81/986 [16:12<2:30:29,  9.98s/it]"
     ]
    },
    {
     "name": "stdout",
     "output_type": "stream",
     "text": [
      "generated explanation: <pad> <extra_id_0> He would entertain with a pool party regularly, because it was the best way to beat the heat of the summer. Pool parties are a great way to beat the summer heat. They are a great way to entertain and have fun. They are also a great way to get out of the house and enjoy the company of friends. They are also a great way to socialize and have fun with family and friends. Pool parties are a great way to keep the kids active and engaged. They are also a great way to spend time with friends and friends. They can also be a great way to have fun and socialize with friends. It is also a great way to have fun and relax with friends and enjoy themselves. They can be as well as well as well as a great way to spend time with friends and enjoy the company of the day. The heat is a great way to relax and have fun time with friends and enjoy a good time to enjoy some good time together. It is also a great way to have fun and relax. The heat is a great way to have fun and relax with a good time of socialize. It is also a great way to have fun and to have fun. It is a great way to have fun and to have fun with friends and to have a good time with family and to spend time together. It is a great way to spend time with them and relax and have fun.</s>\n",
      "########\n",
      "*******\n",
      "question: If you wanted to confirm information that you had, you would do what to someone?\n",
      "answer: question\n",
      "choices: ['infirm', 'ask', 'deny', 'question', 'dispute']\n",
      "common expl list: ['If you wanted to confirm information that you had, you would ask someone.', 'If you wanted to verify the truth, you might question the person who you got the alleged information from.', \"Often information is ambiguous, and I can confirm it by asking pointed questions or by scrutinizing the other person's story till I can find a way to interrogate their position.\", 'To confirm something that your friends told you, you might need to ask those friends further questions to prove that the information was correct.']\n"
     ]
    },
    {
     "name": "stderr",
     "output_type": "stream",
     "text": [
      "\r",
      "  8%|█████████████▋                                                                                                                                                      | 82/986 [16:21<2:23:56,  9.55s/it]"
     ]
    },
    {
     "name": "stdout",
     "output_type": "stream",
     "text": [
      "generated explanation: <pad> <extra_id_0> If you wanted to confirm information that you had to someone, you would ask them to provide you with a written or verbal statement that would be acceptable to the person and would include the information you had to them. This is because a written statement is the most reliable way to get the information you have to someone. Written statements are also more likely to be able to be backed up with a verbal statement than a written statement. Written statements are generally more reliable than verbal statements and are more likely to be accurate and reliable than a person would be a witness or a person. In short, speaking with someone, you would be able to confirm the information to someone would be able to provide you with the person with the information you have, and would also provide you with the information you had. This is especially important for if you were to have access to the information you had previously. Written statements can also be used to provide you with further details about the person and the person would include the information you had. It is also a way to gain insight into the information you had. It would be able to provide you with the person you had. This would allow you to confirm the information you had to someone and to them. It would also allow you to you to someone who could provide you with the information you had.</s>\n",
      "########\n",
      "*******\n",
      "question: Where is cheese likely to be dangerous for some creatures?\n",
      "answer: mouse trap\n",
      "choices: ['refrigerator', 'mouse trap', 'fridge', 'outside', 'plate']\n",
      "common expl list: ['cheese has been said to attract mice. Mice traps may contain cheese in order to attract them.']\n"
     ]
    },
    {
     "name": "stderr",
     "output_type": "stream",
     "text": [
      "\r",
      "  8%|█████████████▊                                                                                                                                                      | 83/986 [16:33<2:35:22, 10.32s/it]"
     ]
    },
    {
     "name": "stdout",
     "output_type": "stream",
     "text": [
      "generated explanation: <pad> <extra_id_0> Cheese is a<extra_id_1> common food source that can be dangerous to some creatures. Mouse traps are typically made of hard, ice-filled material such as cheese, which can be used to trap mice and other rodents. Mouse traps are typically made of hard, icy material such as wood or metal, and are designed to be used as bait for predators. This can be used to lure and entice mice into the trap, trapping them in a closed area. This can be dangerous for some creatures, such as rats, mice, who are attracted to cheese, especially to mice, as it can be used to catch them and to capture them. In addition to this, cheese can also be used to a trap, and can be used to catch mice and other species. This can lead to a high level, which can be dangerous for some species. This can lead to a dangerous for mice and other species. Mouse traps are also known to attract and attract other creatures. This can be used to lure mice and other species to capture them. In conclusion, cheese is a great source of food source of protein, but it is not ap. This can be used to catch and traps, as a way to capture and attract them. It can be used to lure and attract and to capture mice. It can be used to lures, traps, traps, traps, such as entraps, and lures. This can be used to lure and other species. It can be used to traps to capture and to lure and other species, such as mice, traps can be used to lure and lures, traps, traps, such as traps, as a great way to capture and traps, and to traps, and to lures, as a great way to lure, as a mouse trap<extra_id_27> </s>\n",
      "########\n",
      "*******\n",
      "question: He spent all work day at a computer, so he got a footstool for more comfort at his what?\n",
      "answer: desk\n",
      "choices: ['desk', 'bathroom', 'shoe shop', 'family room', 'living room']\n",
      "common expl list: ['A footstool is a small stool that is used to raise the height of a chair or table. If someone spends all day at a computer, they might need a footstool to raise their desk.']\n"
     ]
    },
    {
     "name": "stderr",
     "output_type": "stream",
     "text": [
      "\r",
      "  9%|█████████████▉                                                                                                                                                      | 84/986 [16:43<2:34:58, 10.31s/it]"
     ]
    },
    {
     "name": "stdout",
     "output_type": "stream",
     "text": [
      "generated explanation: <pad> <extra_id_0> He spent all work day at his computer, so he got a footstool for more comfort at his desk. Footstools are a great way to increase the amount of leg room at a desk because they provide extra leg room, which can be used to support a larger desk. They also provide a more rounded look to a desk and can be used to sit at during long work hours. This can help to reduce strain on the back and shoulders, neck, and back muscles. They also provide a level, which can be adjusted to accommodate the desk. This can also help to keep the computer up. They can also be used to help to keep up with the desk, which can be positioned in a more comfortable and help to keep the feet up and away from the computer. This can help to reduce the amount of footslips and make the footstools. This can help to keep the desk looking sharper and make the work day more comfortable and reduce the amount of leg muscles. This can also help to increase the amount of blood circulation, which can help to improve the overall comfort and reduce fatigue. This can help to increase the comfort of working. Overall, footstools can help to increase the overall comfort and help to increase the comfort at the work day. They can also help to keep the desk comfortable and help to keep the desk looking more modern and make it more attractive and stylish. Overall, footstools are great way to make the office more modern and more stylish. They can help to keep the desk more stylish and help keep the office more stylish and help to keep the desk looking fresh and feel more comfortable.</s>\n",
      "########\n",
      "*******\n",
      "question: How would grooming lead to bald spots?\n",
      "answer: mistakes\n",
      "choices: ['cleanliness', 'mistakes', 'brushing', 'beauty', 'satisfaction']\n",
      "common expl list: [\"If you accidentally over trim your hair, you'd likely end up with bald spots.\"]\n"
     ]
    },
    {
     "name": "stderr",
     "output_type": "stream",
     "text": [
      "\r",
      "  9%|██████████████▏                                                                                                                                                     | 85/986 [16:53<2:31:49, 10.11s/it]"
     ]
    },
    {
     "name": "stdout",
     "output_type": "stream",
     "text": [
      "generated explanation: <pad> <extra_id_0> Bad grooming can lead to bald spots. Bad grooming can lead to hair loss, hair loss, and other problems. Hair loss is a common condition that can be caused by a variety of factors, including improper grooming, poor nutrition, and poor grooming techniques. Poor grooming can lead to bald spots, which can lead to a variety of health conditions. Poor grooming can lead to a variety of health issues, including hair loss, hair loss, and other conditions. Bad grooming can lead to hair loss, which can also be a contributing factor to alope growth rate. Bad grooming can also lead to bald spots, which can be a result. This can be caused by improper grooming. Bad grooming can lead to bald spots, which can also lead to bald spots on the hair growth, which can lead to aloped spot. Bad grooming can lead to bald spots because of the grooming mistakes that can lead to hair loss. In addition to the hair growth can be caused by not being grooming. In conclusion, grooming mistakes can lead to bald spots, which can be caused by poor nutrition. In addition, grooming mistakes can lead to bald spots because of lack of quality and quantity of hair growth, which can lead to bald spots, which can lead to alope in the hair loss. In conclusion, grooming can lead to bald spots because of hair loss, which can lead to bald spots, as a result from grooming mistakes.</s>\n",
      "########\n",
      "*******\n",
      "question: Where would a snake find a great hiding place in the United Kingdom?\n",
      "answer: kew gardens\n",
      "choices: ['ditch', 'terrarium', 'thick forest', 'kew gardens', 'feild']\n",
      "common expl list: ['Kew gardens is located in London, which has a great deal of green space in the form of parks.', 'Kew gardens is a large botanical garden in London, England, and snakes are often found in gardens.']\n"
     ]
    },
    {
     "name": "stderr",
     "output_type": "stream",
     "text": [
      "\r",
      "  9%|██████████████▎                                                                                                                                                     | 86/986 [17:07<2:52:30, 11.50s/it]"
     ]
    },
    {
     "name": "stdout",
     "output_type": "stream",
     "text": [
      "generated explanation: <pad> <extra_id_0> A snake may find a great hiding place in kew gardens in the United Kingdom because it is a natural habitat for many snakes, and it is a safe place for snakes to hide. Kew gardens are a collection of gardens in the United Kingdom that are primarily used for landscaping and are home to many different species of snakes. The gardens are a great place for snakes to find a safe place to hide. Snakes love to hide in kew gardens because they are a natural habitat for snakes, and other snakes, and they are able to find a safe place to find a safe and if they arens. The gardens are also a great place for a variety of snake to find a safe place to hide in the United Kingdom. The gardens are also a great place for snakes to find a safe place to hide in a variety of plants and animals to hide from the outdoors. The gardens are also a great place for snakes to find a variety of plants, and animals to live. The gardens are also a great place for snakes to find a safe place to hide and to find a great place to hide in the United Kingdom. The gardens are a great place for a snake to find a great place to hide in the outdoors. They are also a great place for them to find a great place for them to find a great place to find a great place to hide in the United Kingdom. They are a great place for them to find a place to find a place to rest. The gardens are a great place for them to find a place to find a place to rest and to find a place to rest. They are a great place for snake to find a great place to hide in the United Kingdom to find shelter in the United Kingdom because they are a great place for them to find a great place to hide in the United Kingdom because they are a great place to find shelter in the United Kingdom because they can find a safe place to find a great place to find shelter in the United Kingdom because they can easily accessible and they can find a great place to hide in the United Kingdom to find if they are a great hiding place in Kew gardens in the United Kingdom because they are a great place to find a great place in the United Kingdom and they\n",
      "########\n",
      "*******\n",
      "question: After studying many self-help books, what did he feel in his heart?\n",
      "answer: inspiration\n",
      "choices: ['inspiration', 'dreams', 'more intelligence', 'understanding', 'knowing more']\n",
      "common expl list: ['Self-help books are written to inspire people to change their lives for the better.', \"If John read about confidence, optimism, positive thinking, it's possible that he feels inspired.\", \"Some people study self-help books because they've felt lost in their life and are looking for something to help them out. By reading many self-help books, such people might feel more inspired in their life.\"]\n"
     ]
    },
    {
     "name": "stderr",
     "output_type": "stream",
     "text": [
      "\r",
      "  9%|██████████████▍                                                                                                                                                     | 87/986 [17:21<2:59:43, 11.99s/it]"
     ]
    },
    {
     "name": "stdout",
     "output_type": "stream",
     "text": [
      "generated explanation: <pad> <extra_id_0> After studying many self-help books, he felt in his heart inspiration. Inspiration is the feeling of inner strength, courage, and peace that comes from learning something new. It is the feeling of accomplishment, of accomplishment, of accomplishment, of accomplishment, of accomplishment, of accomplishment. Inspiration comes from the knowledge that one can learn from many sources, including self-help books, self-help seminars, and other resources. Inspiration comes from the knowledge that one can gain from studying self-help books. Inspiration comes from the knowledge that one can gain from studying the self-help books. It is the process of learning and practice self-help books. It is the feeling of accomplishment that oneself-confidence and confidence that one's self-confidence and empowerment. Inspiration comes from the knowledge he has gained from studying these books. It is the feeling of accomplishment that comes from learning that one can also be a positive attitude that helps him to achieve his goals. It is the feeling of accomplishment that comes from the knowledge that one can learn from the books. It is the knowledge that one can learn and grow personally. It is the realization that one can learn something new and grow personally and in the books. This is the feeling of personal growth and growth that comes from learning. It is a feeling of being inspired and being a positive energy that comes from learning. It is a feeling of accomplishment that he has gained a deeper and dedication to study of learning is a feeling of accomplishment. It is a feeling of accomplishment. It is a feeling of accomplishment that comes from the books. It is a feeling of accomplishment that comes from studying self-growth and growth and growth in him that comes from studying and growth that a lot of self-growth and growth. It is a feeling of accomplishment that a feeling of being a deep inner strength and confidence and confidence that inspires him and strength. It is a feeling of accomplishment and confidence and confidence in his ability to study and growth. It is a feeling of inspiration and growth and a life-filled and a feeling of accomplishment and joy instilled in his faith and growth.</s>\n",
      "########\n",
      "*******\n",
      "question: Where would you find teeth whitening bleachers?\n",
      "answer: pharmacy\n",
      "choices: ['gymnasium', 'soccer game', 'sporting event', 'pharmacy', 'soccer game']\n",
      "common expl list: ['Teeth whitening is a common practice, and pharmacies often sell the products used for it.']\n"
     ]
    },
    {
     "name": "stderr",
     "output_type": "stream",
     "text": [
      "\r",
      "  9%|██████████████▋                                                                                                                                                     | 88/986 [17:33<2:59:01, 11.96s/it]"
     ]
    },
    {
     "name": "stdout",
     "output_type": "stream",
     "text": [
      "generated explanation: <pad> <extra_id_0> The pharmacy is the best place to find teeth whitening bleachers because it is the only place where you can get the highest quality of whitening products. The pharmacy will have a large selection of bleaching products that can be used to whiten teeth. The pharmacy will also have a wide variety of products that can be used to whiten teeth. The pharmacy will also have a large selection of products that can be used to whiten teeth. The pharmacy will also have a large selection of products that can be used to whiten teeth. The pharmacy will also have products available in the pharmacy, which can also provide a variety of products. The pharmacy will also have a large selection of products that can provide a variety of products that can be found in the pharmacy. The pharmacy will also have a large selection of products that can provide a variety of products that can be purchased online. The pharmacy will also have a variety of products that can be found in the pharmacy. The pharmacy will also have a variety of products that can be used to colorants whitening products, such as whitening products, such as bleaching products, such as whitening bleach teeth naturally. The pharmacy will have a large selection of products that can be found in the pharmacy. The pharmacy will also have a large selection of products that can be found in the pharmacy. The pharmacy will have a variety of products that can be found in the pharmacy, such as whitening products, such as whitening products, such as tinting products, which can be found in pharmacies, which can be found in the pharmacy, such as whitening products, such as whitening products, and the pharmacy pharmacy can be found in the pharmacy. The pharmacy can provide you with the products that can be found in the pharmacy, which can provide you with the variety of products, including whitening products, which can be found in the pharmacy and can be found in pharmacies, as they can be found in the pharmacy.</s>\n",
      "########\n",
      "*******\n",
      "question: While he had seen a koala in the zoo, he was looking forward to finding one in the what?\n",
      "answer: australian outback\n",
      "choices: ['australian outback', 'bamboo grove', 'wilderness', 'island', \"child's book\"]\n",
      "common expl list: ['Because Koalas are a native species to Australia, the safest place to see a Koala may be outback Australia.', 'Koalas live in Australia, and are not found in any other country in the North American continent.']\n"
     ]
    },
    {
     "name": "stderr",
     "output_type": "stream",
     "text": [
      "\r",
      "  9%|██████████████▊                                                                                                                                                     | 89/986 [17:43<2:50:29, 11.40s/it]"
     ]
    },
    {
     "name": "stdout",
     "output_type": "stream",
     "text": [
      "generated explanation: <pad> <extra_id_0> He was looking forward to finding a koala in the australian outback because it was a place where he could see a variety of animals, including koalas, kangaroos, and other animals. The koala is a type of primate that is commonly found in the Australian outback. The koala is a small, docile animal that is often found in the desert, savannah, and desert fringes. The koala koala zoala zooala zooala variety of animals, including kana variety of animals, including kangarot have been seen in the zoa zooa number of animals in the zoala zoalapyoalacougaroalasian outback, and other animals. The outback is home to a variety of animals, including koala variety of species. The koalasian outback is a place that is a great place for koalape, and other animals. The outback outback is home to koala range of animals, including koala variety of species. The outback outback is home to koala range of animals. The outback is home to koala koala variety of species, including a koala koala<extra_id_27> </s>\n",
      "########\n",
      "*******\n",
      "question: Where can a child get a wagon?\n",
      "answer: toy store\n",
      "choices: ['field', 'garage', 'bookstore', 'backyard', 'toy store']\n",
      "common expl list: ['Toy stores deal specifically in toys. Wagons are one of a variety of toys.', \"A toy wagon is a child's toy. Toy wagons can be purchased from toy stores.\"]\n"
     ]
    },
    {
     "name": "stderr",
     "output_type": "stream",
     "text": [
      "\r",
      "  9%|██████████████▉                                                                                                                                                     | 90/986 [17:56<2:58:36, 11.96s/it]"
     ]
    },
    {
     "name": "stdout",
     "output_type": "stream",
     "text": [
      "generated explanation: <pad> <extra_id_0> A child can get a wagon at a toy store because it is a great way for children to play and learn. A toy store is a great place for a child to get a wagon because it is a practical way to transport their belongings and it is a place to play and learn. A toy store is a great place for children to get a wagon because it is a place for children to learn and play. It is a place for children to learn about the world and the people who live in it is a fun and for children to learn more about wagon. The wagon is a sturdy and can be used to transporting toys and other activities. The wagon is a great way for children to play with other activities. It is also a great place for children to learn about the world. A toy store is a great way for children to learn and have fun. A wagon is a great place for children to play and learn how to build a wagon is a great way for children to learn and to learn and explore. It is also a great place for children to learn and play. It is a great way for children to learn and play. It is a great way for children to have fun and learn how to make a wagon is a great way for them to learn and how to make a wagon is a great way for them to play and to learn and build skills. It is a great way to learn and to get to learn and play and make friends. It is also a great way to play and make friends. It is a great way to get to learn how to build confidence and to get to learn and make new friends. It is a great way to get to get to learn and make friends. It is a great way to learn and make friends. It is a great way to learn and make new friends. It is a way to get a friend and make friends and make new friends. It is a great way to get to make new friends and make new friends and make new friends and make new friends and make new friends and make new friends.</s>\n",
      "########\n",
      "*******\n",
      "question: Being able to forgive is a way to be what?\n",
      "answer: nice to\n",
      "choices: ['learn', 'give hug', 'happiness', 'nice to', 'sex']\n",
      "common expl list: ['When you forgive people you are being nice to them.']\n"
     ]
    },
    {
     "name": "stderr",
     "output_type": "stream",
     "text": [
      "\r",
      "  9%|███████████████▏                                                                                                                                                    | 91/986 [18:01<2:27:12,  9.87s/it]"
     ]
    },
    {
     "name": "stdout",
     "output_type": "stream",
     "text": [
      "generated explanation: <pad> <extra_id_0> Forgiveness is a skill that is needed to be able to be a good friend and a good friend to others. It is a skill that can be learned and practiced, and it can be used to help others grow in their relationships and in their own lives. It can help you to be able to forgive others for their mistakes and forgiving others is a form of self-control. It can be a source of strength and stability, and it can be used to help you to move past past feelings of guilt and to forgive others. It can also be used to help others, and to be a way to help others. It can also be a source of strength and help you to be able to recognize when someone is trying to forgive. It can be used to help you to move forward in a positive way. It can be a source of strength and<extra_id_1> </s>\n",
      "########\n",
      "*******\n",
      "question: What  is necessary to have when going fishing?\n",
      "answer: fishing rod\n",
      "choices: ['fishing rod', 'access to water', 'bate', 'three hands', 'tackle']\n",
      "common expl list: ['To go fishing requires a fishing rod.', 'fishing rods are necessary component pieces that are held by fishermen to access and use when fishing']\n"
     ]
    },
    {
     "name": "stderr",
     "output_type": "stream",
     "text": [
      "\r",
      "  9%|███████████████▎                                                                                                                                                    | 92/986 [18:12<2:34:22, 10.36s/it]"
     ]
    },
    {
     "name": "stdout",
     "output_type": "stream",
     "text": [
      "generated explanation: <pad> <extra_id_0> A fishing rod is a device that is used to catch fish and to retrieve them from the water. A fishing rod is a type of tool that is used to catch fish and retrieve them from the water. A fishing rod is a small rod that is used to catch fish and to catch them on the move. It is used to catch fish and to catch fish in shallow water. A fishing rod is a small rod that is used to catch them and then to cast them back to the boat. A fishing rod is also used to catch them. It is also important to have a rod to be used to cast cast them back and to reel in the water. A fishing rod is also used to cast rocks, etc. It is also used to help catch fish and to lures. A fishing rod is also a great tool for if you are looking for. A fishing rod is also a great way to catch fish and to catch them. It is also a great way to cast them and to catch them. It is a great way to get the fish and to catch them. It is also a safe and reliable tool that is also a must-tip. A fishing rod is a great tool for catching and a great way to catch fish. It is also a great tool for catching and if you are in the water. This is a great way to get a great way to get fish. It is important to get a great way to get a great way to get a great way to get a great way to get a great way to get a great deal of fish and to get a bite and stay safe fishing rod that is easy to carry with you and safe way to get away from a safe way to get away from home. It is a great way to get away from<extra_id_27> </s>\n",
      "########\n",
      "*******\n",
      "question: A weasel is cursed by a witch, where is the weasel stuck?\n",
      "answer: fairytale\n",
      "choices: ['corn fields', 'great outdoors', 'fairytale', 'imagination', 'chicken coop']\n",
      "common expl list: ['Being stuck in a fairytale suggests being cursed, and the curses that prevail in fairytales are usually cast by witches.']\n"
     ]
    },
    {
     "name": "stderr",
     "output_type": "stream",
     "text": [
      "\r",
      "  9%|███████████████▍                                                                                                                                                    | 93/986 [18:22<2:32:09, 10.22s/it]"
     ]
    },
    {
     "name": "stdout",
     "output_type": "stream",
     "text": [
      "generated explanation: <pad> <extra_id_0> A weasel is cursed by a witch and is left in a state of fright. The witch is a powerful witch who can create a spell that will make the weasel fall into a state of fright. A fairytale is a story about a forest that is inhabited by animals and is often accompanied by music and other sounds. A fairytale is a story that is filled with magic and a sense of wonder and wonder. It is a form of a tale, but the witch has a a magical land that is not awea place of peace and happiness. The wea witch can also use to help the wearouse to escape from the witch to help. The weapear of despair and despair. The witch's cursed us with a sense of peace and harmony. The witch's cursed by awea place of peace and harmony with the wea place of peace and harmony. The wead by aweaweawea place of magic and aweaweaweaweaweawe. The witch'aweaweaweawe at the weaweaweaweaweaweaweaweaweaweawea gift to the weaweaweaweaweaweaweaawe. A weaweaweaweaweaweaweaweaweawe<extra_id_27>. Awealawea witch'</s>\n",
      "########\n",
      "*******\n",
      "question: If you want to buy you must what?\n",
      "answer: spend money\n",
      "choices: ['spend money', 'go shopping', 'paying', 'have in mind', 'a shop']\n",
      "common expl list: ['If you want to buy something, you must spend money.', 'To buy something, you must spend money.', 'To buy one needs money, and need money implies you have spent money.']\n"
     ]
    },
    {
     "name": "stderr",
     "output_type": "stream",
     "text": [
      "\r",
      " 10%|███████████████▋                                                                                                                                                    | 94/986 [18:37<2:50:51, 11.49s/it]"
     ]
    },
    {
     "name": "stdout",
     "output_type": "stream",
     "text": [
      "generated explanation: <pad> <extra_id_0> If you want to buy something, you must spend money. Spending money is the most effective way to buy it. It is the most efficient way to spend money and it is also the most cost-effective way to do so. Spending money on something is the best way to buy it. Spending money on something is a way to increase the likelihood of achieving your goal. Spending money on something is a necessary evil for many people. Spending money on something is the best way to increase their purchasing power and to increase their purchasing power. It is also a way to spend money. Spending money can also help you to make your shopping experience a positive way to make a lasting memory. Spending money can help you to gain access to other products and services. Spending money can also help you save money to make a purchase a purchase a product that you may not be as it is not a good investment. Spending money on something can also help you to increase your savings and help you to save money. Spending money can help you save for the future. Spending money on something that you can use to buy a product that you need. This can help you to increase your chances of achieving your goals. Spending money can also help you to increase your savings. Spending money can also help you to increase your chances of saving for the future. This can help you to increase your savings and invest in the future. Spending money can help you to purchase. It can help you to save money to buy a product that you can earn. It can help you to save for future purchases that you to grow your money in the future. Spending money on a product can help you to buy a product or service or service that you achieve your goal. Spending money on a product can help you achieve your goals and help you achieve your goals. Spending money on allowing you to purchase other items that you to buy more in the future. Spending money can help you to increase your savings and help you to buy something you to increase your overall savings and help you to save money and save you to buy more for future purchases and<extra_id_27>. Spending money on other products that you to buy something that you can help you to increase your savings and help you to save money and increase your overall savings. This can help you save for the future purchases. Spending money can help you buy more. This can help you to save money\n",
      "########\n",
      "*******\n",
      "question: What public celebration sometimes has a horse show?\n",
      "answer: state fair\n",
      "choices: ['state fair', 'indy 500', 'american southwest', 'canada', 'central park']\n",
      "common expl list: ['Horse shows are sometimes included in state fair celebrations, and these fairs frequently are held in public parks.', \"A state's fair is a public celebration that may include a horse show.\", 'Horse shows are competitions that sometimes occur at public celebrations. Some fairgrounds include horse shows as part of their regularly scheduled events.']\n"
     ]
    },
    {
     "name": "stderr",
     "output_type": "stream",
     "text": [
      "\r",
      " 10%|███████████████▊                                                                                                                                                    | 95/986 [18:49<2:54:09, 11.73s/it]"
     ]
    },
    {
     "name": "stdout",
     "output_type": "stream",
     "text": [
      "generated explanation: <pad> <extra_id_0> A state fair is a public celebration that includes a horse show and other entertainment. A state fair is a public celebration that usually includes a horse show and other entertainment. A fair is a public celebration that is usually held in the summer and is a great place to see horses in their natural habitat, such as at a fair or a fairground. A fairground is a large public gathering place that is usually open to the public and is a great place for a horse enthusiast to come out and see horses in the crowd. A state fair is also a great way to see horses as they are a great way to show their personalities. A state fair is a public celebration that is a great way to see horses and other attractions. State Fairs are organized by the horse show and other attractions, such as a horse show, vendors, and other attractions. Horses are also a great way to enjoy the atmosphere of a public celebration of fun and safe place for the public. State Fairs are organized by volunteers and volunteers, and other events. Horse shows are a great way to enjoy the atmosphere of a great way to enjoy the summer. The horse show is a great way to show horses and to share with other attractions. It is also a great way to experience. State Fairs are also a great way to see horses in the summer. The horse show is a great way to see horses and other attractions. It is a great way to see horses in the sun and to enjoy. State Fair is a great way to see horses and to see the horses in person. It is a great way to see and to see horses in the area. It is a great way to see the horses are in the area and to see the horses in the area. It is a great way to see horses and to see horses and to see the area for people and to see the horses in the sun. It is a great way to see them.</s>\n",
      "########\n",
      "*******\n",
      "question: There are many wage gaps being discussed, the most important of which is between the rich and what?\n",
      "answer: poor\n",
      "choices: ['plain', 'sleepy', 'poor', 'idle', 'needy']\n",
      "common expl list: ['The poor are a group which suffers from a wage gap, denoted as their earning less than others, especially the rich.']\n"
     ]
    },
    {
     "name": "stderr",
     "output_type": "stream",
     "text": [
      "\r",
      " 10%|███████████████▉                                                                                                                                                    | 96/986 [18:58<2:41:59, 10.92s/it]"
     ]
    },
    {
     "name": "stdout",
     "output_type": "stream",
     "text": [
      "generated explanation: <pad> <extra_id_0> The most important wage gap is between the rich and the poor. The rich are more likely to earn more than the poor, which means they earn less. This is because the rich have a higher average income, and the poor have a lower average income. The poorer their income is, the more they are likely to spend. The rich have a higher average income, and the poorer their income is. The poor have a lower average income than the rich, which means they have a lower average income. The higher the income, the more likely to pay the rich, the poorer the more. The gap is due to the fact that the rich have higher average earnings than the rich, and the gap between the poor are more likely to have higher salaries. The wealthier the rich have higher salaries, which means they are likely to pay higher wages, which means they will be able to afford to pay, which means they will pay less for the poor. The wealth gap is due to the higher average income is likely to be higher wages. The gap between the rich and the higher the higher the higher the higher the poor are likely to have higher income than the rich. The gap is due to the poor are more likely to have a higher average income, which means that the rich are likely to have higher income, which means that the wealthier will pay higher than the wealth gap. The wealthier the higher the higher the<extra_id_27> </s>\n",
      "########\n",
      "*******\n",
      "question: What city in a North American Country, that isn't the United States, would you expect to find a good french restaurant?\n",
      "answer: quebec\n",
      "choices: ['wine', 'nyc', 'quebec', 'manhattan', 'paris']\n",
      "common expl list: ['Quebec is the only province that speaks French in North America, and you might expect to find a good french restaurant there.', 'Quebec is said to have strong french-culture since it was originally french territory. This would make sense if quebec had a good french restaurant.', 'Quebec is a province in Canada, and is known for its french culture.', 'Quebec has a strong french heritage, and the french cuisine is actually quite popular in the United States.']\n"
     ]
    },
    {
     "name": "stderr",
     "output_type": "stream",
     "text": [
      "\r",
      " 10%|████████████████▏                                                                                                                                                   | 97/986 [19:08<2:38:30, 10.70s/it]"
     ]
    },
    {
     "name": "stdout",
     "output_type": "stream",
     "text": [
      "generated explanation: <pad> <extra_id_0> In quebec, a french restaurant is a restaurant that serves french cuisine. French cuisine is a traditional cuisine that is often paired with other European dishes, such as roasted potatoes, salads, and other snacks. French restaurants are often located in tourist hotspots, such as airports, hotels, and other attractions. In addition to the french cuisine, the city of quebec also has a number of other cuisines, including a number of international restaurants, and a number of other cuisines. French restaurants are also found in many other cities in the city of Montréal, which is known for its french culture. The city is also home to many other cuisines, including a number of restaurants, which is often a part of the French culture. The french cuisine is also known for its distinctive style. The restaurant's also has a large selection of different menus, and the menus are often a small scale. The location of the restaurant is also a great source of food and a variety of different cuisine, which can be found in other countries. The restaurant in Québectebogastronomy. The menu is a great place to find a great place to find a good french restaurant. The restaurant in the city of quebec is a great place to enjoy a great place to relax and the city. The food is a great place to enjoy the atmosphere of a good french cuisine. The restaurant is a great place to sit down the French cuisine and the cuisine is often a great place to visit.</s>\n",
      "########\n",
      "*******\n",
      "question: Care not to burn you hand on the handle of what small high-walled vessel?\n",
      "answer: saucepan\n",
      "choices: ['brush', 'carry object', 'walking stick', 'umbrella', 'saucepan']\n",
      "common expl list: ['A saucepan is a small, high-walled vessel, built for holding liquids and usually used in the kitchen.']\n"
     ]
    },
    {
     "name": "stderr",
     "output_type": "stream",
     "text": [
      "\r",
      " 10%|████████████████▎                                                                                                                                                   | 98/986 [19:20<2:44:02, 11.08s/it]"
     ]
    },
    {
     "name": "stdout",
     "output_type": "stream",
     "text": [
      "generated explanation: <pad> <extra_id_0> Care not to burn your hand on the handle of a small high-walled vessel because they are a fire hazard. A saucepan is a high-density plastic container with a handle that is typically made of ceramic or porcelain. The handle is often curved and has a thin wall to keep the handle from catching fire. The handle is also a good place to keep your hands warm, as they can be heated. This prevents them from getting too hot and can also prevent them from getting burned. The handle of a saucepan is also a great safety if the vessel is hot, as it can easily get hot. This can cause serious burns. It is also a hot pan that is made of the handle, which can cause injury. The handle is also a source of heat, which can cause serious injury. The handle is a safe place to hold your hands are hot and can be dangerous if it gets too much heat. The handle can also be too hot, causing the hand to get hot and dry and can result of cooking. The handle can also be dangerous if it gets too hot. It can be dangerous to put your hand in a saucepan. The handle of a saucepan can be dangerous and can be a fire if you are concerned about safety. The handle can be dangerous a hot pan that can cause serious injury or even if you are concerned about safety, it can be dangerous to your hand and it can cause you to get burned. It can also be dangerous to use the handle, as it can be dangerous to touch the handle of a pot and it can be dangerous to touch, as it can cause injury to the handle can cause burn your hand on the handle of the vessel and the handle of a small saucepan and you to be dangerous a dangerous and potentially dangerous and cause you to be careful not touch the handle, and it can cause a serious injury or it can be dangerous.</s>\n",
      "########\n",
      "*******\n",
      "question: What container does peanut butter come in?\n",
      "answer: jar\n",
      "choices: ['cupboard', 'pantry', 'jar', 'bottle', 'supermarket']\n",
      "common expl list: ['Jars can keep food sealed without leaking, and often have lids. Peanut butter is sealed in a jar and could be kept in a house, kitchen, pantry, or cupboard.', 'Jars are often used to store food, and peanut butter is a food.', 'Peanut butter comes in glass jars, like many other food products.', 'Jars, like those that pickles often come in, are suitable for food items that need to be kept fresh for long time. Jars can be resealed.']\n"
     ]
    },
    {
     "name": "stderr",
     "output_type": "stream",
     "text": [
      "\r",
      " 10%|████████████████▍                                                                                                                                                   | 99/986 [19:35<2:58:39, 12.08s/it]"
     ]
    },
    {
     "name": "stdout",
     "output_type": "stream",
     "text": [
      "generated explanation: <pad> <extra_id_0> Peanut butter comes in a jar because it is a versatile and versatile food. It is a creamy, rich, and tangy spread that is a great way to add a little extra flavor and texture to your sandwich. Jars are also a great way to store extra-large amounts of peanut butter in. Jars are also a great way to store extra-large amounts of peanut butter in a single container. Jars are also a great way to store extra-large amounts of peanut butter in one go on the other ingredients in the peanut butter in jars. This is also a great way to store peanut butter in jars are ideal for peanut butter spread on your sandwich sandwich spread evenly throughout the peanut butter. Jars are also ideal for spreading on toast and peanut butter. Jars are also a great way to store extra-moiscots peanut butter in jar. Jars are also a convenient way to store peanut butter in one of peanut butter in jars. Jars are also a great way to store peanut butter in jar. Jars are a great way to store peanut butter in peanut butter in. Jars are also a great way to store peanut butter in a variety of nut butter. They are a great way to store peanut butter in jars and they are also a great way to store peanut butter in jars and can be used to store peanut butter in jars to keep peanut butter in jars and can be used to store peanut butter. Jars are also a great way to store peanut butter and other peanut butter because they can be used to store peanut butter in jars, making jars also a great way to store peanut butter and other peanut butter, making it easier to store peanut butter. Jars are a great way to store peanut butter, as they are easy to store and can be used to store peanut butter in jars, and can be used to store peanut butter, making it easily transport peanut butter and easily transport them easily transport it. Finally, jars are great way to store peanut butter in a jars, making it easily transporting peanut butter, as they are a variety of other foods, such as a container to store peanut butter, making them more easily and make peanut butter.</s>\n",
      "########\n",
      "*******\n",
      "question: Where are plants likely to be handled by a city employee?\n",
      "answer: park\n",
      "choices: ['park', 'windowsill', 'ground', 'office', 'garden']\n",
      "common expl list: ['Parks are where city employees are likely to handle plants.', 'A city employee might handle plants while working in a park.']\n"
     ]
    },
    {
     "name": "stderr",
     "output_type": "stream",
     "text": [
      "\r",
      " 10%|████████████████▌                                                                                                                                                  | 100/986 [19:47<3:00:27, 12.22s/it]"
     ]
    },
    {
     "name": "stdout",
     "output_type": "stream",
     "text": [
      "generated explanation: <pad> <extra_id_0> Parks are a great place to manage plants because they are often in high growth and require regular maintenance. Parks are also often a great place to store plants, as they are able to grow and spread quickly. Parks are also a great place to store plants that are not in bloom. Parks are also great places to store<extra_id_2> plants, as they are more likely to be in high demand and to be tended by employees. This is because the plants in parks are typically in bloom and the air is generally clean and free of plant material, which is often a great source of oxygen. In addition to the plants, they are often in a park, which allows for employees to handle the plants. Parks are also often located in a safe and prone to disease. Parks are also often located in close to the city, which makes them prone to disease. This makes them ideal for employees to care for plants. Parks are also often located in the city, as they are also often located near the park, which means that they are more likely to be in the park. This is because park employees are more likely to be in the park. Additionally, parks are also more likely to have a number of employees to care for the plants in the park. This means that they can be more likely to be in the park, and thus more likely to be handled by city employees. This is because they are likely to be in the park, as they are more likely to be in the park, as they are likely to be in the park, which can be more likely to be in the park, which can be more likely to be handled by city employees. This means that the park is likely to be more likely to be handled in the city than likely to handle plants, as they are likely to be in the park, which are likely to be in the park, and therefore more likely to be handled by park, rather than the park, and more likely to be in the park, and more likely<extra_id_27> </s>\n",
      "########\n",
      "*******\n",
      "question: Trains tend to come on time, airplanes on the other hand tend to what?\n",
      "answer: arrive late\n",
      "choices: ['stall', 'take off', 'arrive late', 'catch on fire', 'carry freight']\n",
      "common expl list: [\"Planes aren't typically known for arriving on time (air traffic, weather, repairs, et. al.), whereas trains tend to be more reliable.\", 'Planes are carreid by more complicated mechanisms than trains, and therefore tend to be harder to operate exactly on time.']\n"
     ]
    },
    {
     "name": "stderr",
     "output_type": "stream",
     "text": [
      "\r",
      " 10%|████████████████▋                                                                                                                                                  | 101/986 [19:56<2:45:09, 11.20s/it]"
     ]
    },
    {
     "name": "stdout",
     "output_type": "stream",
     "text": [
      "generated explanation: <pad> <extra_id_0> Airplanes tend to arrive late because they are not as prepared for the travel. This is because they are not equipped with the necessary infrastructure to handle the volume of passengers and the volume of traffic they encounter. This means that the planes are not able to keep up with the demands of passengers and the demands of the flight. In addition to being late, the delays caused by the lack of adequate runway space and the lack of adequate security measures can cause the plane to be delayed. This can lead to delays that can be costly to the airline company and the plane to arrive late. This is because of the time of the planes not being able to check-inghort arrive at the airport in time. This can be due to the lack of security personnel onboard and the planes are not equipped with the necessary security measures to ensure passengers are properly. In addition, the planes tend to arrive late on time. Overall, airplanes tend to arrive late on time, making it easier to be a smoother and more efficient use the air traffic to be a safer and more efficient use of the aircraft. In conclusion, airplanes tend to arrive late rather than arrive on time. Airplanes tend to arrive late on time, making it more difficult to make a smoother experience. Overall, airplanes tend to arrive late because of the time, making it difficult to plan ahead.</s>\n",
      "########\n",
      "*******\n",
      "question: Where is glue well used?\n",
      "answer: art room\n",
      "choices: ['desk drawer', 'cabinet', 'art room', 'school', 'closed container']\n",
      "common expl list: ['Glue is used in art projects, and art rooms are where art projects are done.']\n"
     ]
    },
    {
     "name": "stderr",
     "output_type": "stream",
     "text": [
      "\r",
      " 10%|████████████████▊                                                                                                                                                  | 102/986 [20:04<2:33:06, 10.39s/it]"
     ]
    },
    {
     "name": "stdout",
     "output_type": "stream",
     "text": [
      "generated explanation: <pad> <extra_id_0> Using glue in the art room is a great way to create beautiful pieces of art. In the art room, glue is used to create a strong bond between the pieces of art, allowing the artist to create a lasting impression. In the art room, glue is used to adhere the pieces of art together, creating a cohesive and beautiful piece of art. The glue is also a great way to prevent damage to the artwork, and it can also be used to help prevent damage from being blown away. The glue is also a great way to create a beautiful piece of art, as it can be used to hold the art in a safe and secure and secure the pieces of art. It is also a great way to prevent damage, as it can be used to provide a secure bond between the art and the room. The glue can be used in a variety of materials, and it can be used to create a variety of art. It can be used to create a cohesive look and feel. It can be used to create a variety of different designs, colors, and patterns. It can also be used to create a cohesive look and feel. It can be used to create a cohesive piece of art in a variety of different materials, and texture. It can also be used to create a cohesive look and feel.</s>\n",
      "########\n",
      "*******\n",
      "question: Billy loves science, history, and art but isn't very creative.  When he was visiting the museum, he felt a great deal of what emotion?\n",
      "answer: enjoyment\n",
      "choices: ['inspiration', 'fulfillment', 'wonder', 'boredom', 'enjoyment']\n",
      "common expl list: ['When Billy visited a museum which had a lot of fields of interest, Billy enjoyed himself while he learned from the experience at the same time.', 'At a museum, Billy uses history to find science, and science to find art; by combining different loves, going to the museum has been fulfilling. To achieve fulfilment, Billy felt an enjoyable feeling.']\n"
     ]
    },
    {
     "name": "stderr",
     "output_type": "stream",
     "text": [
      "\r",
      " 10%|█████████████████                                                                                                                                                  | 103/986 [20:13<2:25:30,  9.89s/it]"
     ]
    },
    {
     "name": "stdout",
     "output_type": "stream",
     "text": [
      "generated explanation: <pad> <extra_id_0> Billy's feelings of enjoyment when visiting a museum were a combination of awe, curiosity, and excitement. He felt a great deal of enjoyment when he was visiting a museum because it was filled with such interesting objects and experiences. This feeling of enjoyment was a result of the fact that the museum was a place of learning and discovery. The museum was a place of discovery, a place of discovery, a place of discovery, and a place of discovery. The museum was full of artifacts, such as the collection, and the museum. The museum was also filled with objects and objects that were mainly made from real life. The collection of artifacts and its own personal experiences. It was a place of enjoyment and it was a great deal of curiosity. The museum was a great deal of enjoyment and the museum was a place of discovery and inspiration for Billy. The museum also a great deal of fun and excitement. It was a great deal of fun and excitement and wonder. The collection of art and science and history and the world was a great deal of fun and excitement. The museum is a great place for Billy loves to explore and learn.</s>\n",
      "########\n",
      "*******\n",
      "question: Sarah did much hard work, even though she was on vacation.  Her mother told her off and said what?\n",
      "answer: do nothing\n",
      "choices: ['unemployment', 'say something', 'earn money', 'do nothing', 'relaxation']\n",
      "common expl list: ['If one is on vacation, one is supposed to \"do nothing\" as opposed to working - the \"something\" that is discouraged. Many physically hard jobs involve getting the hands dirty.']\n"
     ]
    },
    {
     "name": "stderr",
     "output_type": "stream",
     "text": [
      "\r",
      " 11%|█████████████████▏                                                                                                                                                 | 104/986 [20:28<2:47:29, 11.39s/it]"
     ]
    },
    {
     "name": "stdout",
     "output_type": "stream",
     "text": [
      "generated explanation: <pad> <extra_id_0> Sarah’s mother told her off because she did not do enough work. She said that she should do nothing because she was too busy and she was too tired to do anything. Her mother was right. She told her daughter to do nothing because she was too tired and she was too busy to do anything. She said that she should do nothing because she was too busy working and she was tired. She was right, she was too busy and she was too tired to do anything. She was right, she was doing nothing because she was too busy and she could have been working and not been able to do nothing to do nothing. She was doing nothing, and she was too much work. She was too busy and she was too busy and she was not enough to take the time to do nothing because she was too busy and she was too busy to do nothing. She said that she was not able to do anything because she would be able to do nothing if she was not able to do nothing. She was able to do nothing because she was doing nothing to do anything. She was able to do nothing because she was able to do nothing. She was able to do nothing because she was able to do something. She was able to do nothing because she was able to do nothing because she was able to do nothing because she was able to do anything. She was able to do nothing because she was doing nothing because she was too busy to do nothing because she was not able to do anything. She was able to do nothing because she was unable to do something because she was not able to do nothing because she was not able to do anything. She was able to do something because she was too busy and she was not able to do nothing because she was so much work hard and she was not able to do nothing. She was able to do nothing because she was not able to do it. She was able to do nothing because she was taking vacation and she was able to work. She was not able to do anything because of her job and she was not able to do nothing was not able to do something else to do something she was able to do something that required to do. She was able to do nothing was able to do something she could not do something that she was not able to do<extra_id_26> </s>\n",
      "########\n",
      "*******\n",
      "question: James walked barefoot on a something that was made hot by sunshine. What is he probably walking on?\n",
      "answer: street\n",
      "choices: ['desktop', 'summer', 'moon', 'meadow', 'street']\n",
      "common expl list: ['Because of the intense heat of summer, sunlight reflects off the pavement, causing a hot sensation when one walks barefoot in the summer.']\n"
     ]
    },
    {
     "name": "stderr",
     "output_type": "stream",
     "text": [
      "\r",
      " 11%|█████████████████▎                                                                                                                                                 | 105/986 [20:37<2:37:38, 10.74s/it]"
     ]
    },
    {
     "name": "stdout",
     "output_type": "stream",
     "text": [
      "generated explanation: <pad> <extra_id_0> James probably walked barefoot on a street that was made hot by sunshine because it is a place that is a hot spot for sunshine, and the sun is a great place to walk. The sun is out most of the day, so he is probably walking on a street that is made hot by the sun, and the pavement is usually made of smooth, smooth surfaces. This makes the surface of the street ideal for walking on, as it is not too hot and the surface is not too wet, so it is not a great place for James, but also important to note that the sidewalk is not too hot for the pavement, as it is a hot and the sidewalk. This is why James is so barefoot on a street is also a great way to get the sun is hot, and to get the heat of the sun is a great place for him to get his feet. The surface is also a place that is made of gravel and other stones, which is also a great place for walking on barefoot, as it is made of stone and not too hot. This makes walking on the street more comfortable, and less likely to be uncomfortable. The sun's hot and the surface is made of a good place for walking on. Overall, James's walking on a street is likely because it is made of a good place for him to get some exercise.</s>\n",
      "########\n",
      "*******\n",
      "question: He grew tired of standing in the kitchen his whole shift, where was he?\n",
      "answer: restaurant\n",
      "choices: [\"neighbor's house\", \"friend's house\", 'restaurant', 'jail', 'fraternity house']\n",
      "common expl list: ['One can get tired standing in a kitchen if one is on their feet all day; kitchens are typically in restaurants.', 'A restaurant would have a kitchen, where you would be required to stand while your shift is in session.']\n"
     ]
    },
    {
     "name": "stderr",
     "output_type": "stream",
     "text": [
      "\r",
      " 11%|█████████████████▌                                                                                                                                                 | 106/986 [20:52<2:56:24, 12.03s/it]"
     ]
    },
    {
     "name": "stdout",
     "output_type": "stream",
     "text": [
      "generated explanation: <pad> <extra_id_0> He was tired of standing in the kitchen his whole shift and was tired of standing in the line of work. He was in a restaurant because he was tired of the constant motion and the noise of the kitchen and the customers. He was also tired of the constant interruptions to his work and he was tired of the constant interruptions to his customers. He was in a restaurant because he was a restaurant owner and a manager, and he was responsible for the daily operations of the restaurant. He was also tired of the constant motion and was in the restaurant. Restaurant owners were also tired of standing in the kitchen because of the food was constantly being replaced by the kitchen. Restaurant owners and employees were tired of the same place where he was. He was in a restaurant because he was in a restaurant because he was not being in a restaurant because he was constantly being in the kitchen his shift. Restaurants are often a busy and the hours were often in the restaurant because of the restaurant, and the restaurant. Restaurant owners are often tired of being in the restaurant because of the constant noise and the restaurant. Restaurant owners are often in a restaurant because of the hours of the demands of the restaurant. Restaurant owners are often tired of the noise of the restaurant and his customers. Restaurant owners are often in restaurants because of the noise of the noise and the restaurant. Restaurant owners are often in the restaurant because of the noise. Restaurant owners are often in a restaurant because they are busy and a tired and a restaurant because of the noise and the noise. Restaurant owners were often in a busy and a restaurant because of the noise. Restaurant owners are not a restaurant because they are often in a busy and the noise and noise of the restaurant, which can be a source of the restaurant and the atmosphere. Restaurant owners and noise, which can be a stressful and stressful work environment. Restaurant owners are often in a restaurant because of the noise and the restaurant owners and the noise. Restaurant owners are not aware of the restaurant's that they are also looking for the customers. Restaurant owners and the restaurant owners and the noise that restaurants, which can be a restaurant, and<extra_id_27> s that they are tired of the noises that they are not a restaurant because they are a restaurant because they are a restaurant, which can be a restaurant and can be a bad smell of a restaurant. Restaurant owners and noise that they are\n",
      "########\n",
      "*******\n",
      "question: The children play cards often, but they make their own rules because they can't what the originals?\n",
      "answer: remember\n",
      "choices: ['bid', 'concentrate', 'winning', 'count', 'remember']\n",
      "common expl list: [\"The children are making up their own rules because they can't remember the original rules.\", 'Children often play games that are similar to those played by adults, such as card games, but with slight variations to how they are played. This is most likely because children cannot remember the original rules of the card games. Smiling is a common expression']\n"
     ]
    },
    {
     "name": "stderr",
     "output_type": "stream",
     "text": [
      "\r",
      " 11%|█████████████████▋                                                                                                                                                 | 107/986 [21:01<2:40:34, 10.96s/it]"
     ]
    },
    {
     "name": "stdout",
     "output_type": "stream",
     "text": [
      "generated explanation: <pad> <extra_id_0> The children play cards often, but they make their own rules because they can't remember the original rules. The children make their own rules because they know they can't remember what the originals were like. The rules they make are based on the rules of the game, which are written in a different language, and the children can't read the originals. The children make their own rules because they can't read the originals, so they make their own rules. The rules they make are based on the rules they see the cards are also not the originals. The children make their own rules for themselves, and make their own. The rules they create their own rules are designed to be more fun and fun. The rules they can also be fun for the children to have fun and challenge them to make their own rules, and have fun. The rules are designed to be more fun for the children, and the rules they make their own. The rules they also make their own rules are based on their own interests and skills. The children can also make their own rules for the originals, which are based on their own rules. The rules they create their own rules they can't remember the originals rules. The rules they create their own because they can't remember the originals. The rules are based on the originals, and<extra_id_27> </s>\n",
      "########\n",
      "*******\n",
      "question: On an average day, going to work could make you feel like what?\n",
      "answer: feeling good\n",
      "choices: ['feeling good', 'anger', 'revelation', 'being fired', 'tardiness']\n",
      "common expl list: ['To fulfill a life purpose and to gain fulfillment, people often undertake gainful employment. Thus, the people who experience this data point might experience feelings of accomplishment/fulfillment.', 'People sometimes feel pride and accomplishment when they get things done at the office.']\n"
     ]
    },
    {
     "name": "stderr",
     "output_type": "stream",
     "text": [
      "\r",
      " 11%|█████████████████▊                                                                                                                                                 | 108/986 [21:10<2:33:12, 10.47s/it]"
     ]
    },
    {
     "name": "stdout",
     "output_type": "stream",
     "text": [
      "generated explanation: <pad> <extra_id_0> Going to work on an average day can make you feel good because you are working and doing something you enjoy. Going to work can make you feel good because it is a place where you can be productive and productive. This is because you are working and you are working in a safe environment. Going to work can also make you feel good because it is a place where you can feel good about yourself and your work. This is because you are working and you are working for a living. This is because you are working for a living and you are able to be productive. Working at work can make you feel good because it can help you feel good about the world and help you feel good. Working is a great way to stay motivated and inspired. It is also a way to get you to meet new people and make you feel good at work. Working at a positive atmosphere. It can also help you feel good because it can help you feel good. It can be a way of working can make you feel good about yourself. It can be a way to feel good about the world. Working at work can be a great way to stay positive and helps you feel good. It can also be a good feeling good attitude and make you feel good about yourself. It can be a good feeling good to feel good because it can make you feel good about yourself. It can make you feel good because it can make you feel good because it can help you feel good because it can help you feel good.</s>\n",
      "########\n",
      "*******\n",
      "question: What country has the carpathians and is the furthest in the direction of the side that won the U.S. Civil War?\n",
      "answer: poland\n",
      "choices: ['slovakia', 'slovenia', 'poland', 'ukraine', 'romania']\n",
      "common expl list: ['Poland is the only country that has the carpathian mountains, and it was the most distant in the direction from the side that won the U.S. Civil War (the North).']\n"
     ]
    },
    {
     "name": "stderr",
     "output_type": "stream",
     "text": [
      "\r",
      " 11%|██████████████████                                                                                                                                                 | 109/986 [21:26<2:55:54, 12.04s/it]"
     ]
    },
    {
     "name": "stdout",
     "output_type": "stream",
     "text": [
      "generated explanation: <pad> <extra_id_0> The carpathians are a series of mountains in central and southern Europe that extend from central Spain to central Europe. They are located in the Carpathians region of central and southern Europe, and are located in the western part of the country, between the Baltic Sea and the Black Sea. The carpathians are a large area of land that stretches from northern Europe to the Carpathians, and are the furthest point from the United States, making them the most important border between the two countries. The carpathians are located in the region is located in the carpathians, and the region, which was the first major city of Poland. The carpathians are a mountain range that runs through the Polish countryside, and the country. The carpathians are a great variety of terrain, including mountains, rivers, lakes, and rivers. The carpathians stretch of land is the largest mountain range, and the carpaths, which were used to win the Civil War. The carpaths are also a great source of food and other countries. The carpathians are located in the region, and are also the largest mountain ranges in Europe. The carpathians are as, and are located in the region of Europe. The carpathians are located in the heart of the region, and are a great source of food, and other important for their history. The carpathians are also a great source of land, which is a great source of water and a source of water, and are a great source of water, and the carpathians are a source of water, and the carpathians are also a source of water, and the most important for the region. The carpath is a great place for the carpathians, and the carpathians are located in the carpathians, and the carpathians are the carpathians, and the carpaths. The carpaths are the carpath is the most important source of land and the carpathians are a great place to the carpathians, and are also an important source of water for the carpaths, and other sources of water, and the carpathians, and a place of water, and the carpath, and the country in the carpath, and the carpathians are an important source of water source of land, and the carpathians, and the region, and the carpath,\n",
      "########\n",
      "*******\n",
      "question: What would happen if you want to win a game?\n",
      "answer: competitiveness\n",
      "choices: ['competitiveness', 'satisfaction', 'learning', 'injuries', 'play']\n",
      "common expl list: ['Competitive athletes would want to win their games, whatever the cost; this desire to win leads to competitiveness and creates the desire to win over even long periods of time; it also often leads to brutal physical play --- such as by causing injuries to opposing r', \"Victory in a game requires one to make a maximum effort, and peoples' desire to win has to be rather competitive.\", 'After playing a game, a person would be likely compelled to win the game becasue they want a feeling of satisfaction from winning the game. In order to win, a person would need to be competitive.', 'To win a game, you must be competitive.', 'If you want to win a game, you will try put your best effort to take your chances at winning over those of your opponents.']\n"
     ]
    },
    {
     "name": "stderr",
     "output_type": "stream",
     "text": [
      "\r",
      " 11%|██████████████████▏                                                                                                                                                | 110/986 [21:36<2:46:02, 11.37s/it]"
     ]
    },
    {
     "name": "stdout",
     "output_type": "stream",
     "text": [
      "generated explanation: <pad> <extra_id_0> Competitiveness is a key component of any successful team. It is the key to winning a competitive game because it helps to create a sense of competition and ensures that you are on the winning side of the field. Competitiveness is a key ingredient in any team's success. It is a way to improve your chances of winning a game and to ensure that you are playing the best team possible. It is also important to remember that competitiveness is a form of self-control, which is essential to any team’s performance. It is a key factor in any team. It is a key to be competitiveness, as it helps to win the game. It helps to improve your overall performance and improve your overall performance. It is important to be competitiveness helps to improve your performance and overall performance. It is a key ingredient in any team’s performance. It is important to be aware of the game and to win. It is important to be competitiveness to be aware of your opponents and your opponents's performance, as it can help you to win the game. It is important to be aware of your opponents and your own performance. It is important to be competitiveness to remember that winning is a key to win the game and to win. It is important to be competitiveness to remember that you need to be on your team’s performance, not just as it helps to build your team and helps you to win. It is important to be aware of your performance. It is also important to remember that you are you are trying to win, and not to be competitive.</s>\n",
      "########\n",
      "*******\n",
      "question: Where should watch to avoid being pinched by a crab?\n",
      "answer: sandy beach\n",
      "choices: ['eastern coast', 'sandy beach', 'fish market', 'north carolina', 'sand dunes']\n",
      "common expl list: ['Crabs live in sandy areas, and people who visit sandy beaches are likely to be pinched by crabs.', 'It is more common to find crabs living in sandy beach areas.']\n"
     ]
    },
    {
     "name": "stderr",
     "output_type": "stream",
     "text": [
      "\r",
      " 11%|██████████████████▎                                                                                                                                                | 111/986 [21:52<3:06:52, 12.81s/it]"
     ]
    },
    {
     "name": "stdout",
     "output_type": "stream",
     "text": [
      "generated explanation: <pad> <extra_id_0> Crabs pinch people on sandy beaches for a variety of reasons. First, they are very hard to spot and avoid. This is because they are very small and can be pinched by swimmers. Crabs are attracted to sandy beaches because they are more likely to be on sandy beaches than other areas of the beach. They are attracted to sandy beaches because they are more likely to be pinched by swimmers, which can lead to injury. They are attracted to sandy beaches because they are less likely to be caught by crabs. This is also a safer than a crab, as it is easy to spot. Sand is also less likely to be pinched by swimmers. This is because it is much easier to spot a safe and is much more likely to avoid being pinched by the crabs. Crabs are at a sandy beaches because of the soft shells, making it easier to spot for swimmers to find and grab onto rocks. This is especially important since they are at a higher risk of getting pinched. On sandy beaches, crabs are more likely to be pinched by the crabs, and can be t get caught and can’t get pinched by the crabs. The crabs are at a higher risk of getting into sandy beach, and a safer place to find them. Crabs are at sandy beach and a safer place to grab onto a crab, which can be painful and can be a challenge. The crabs are more likely to grab, and can be a dangerous place to get pinched and can be pinched by the crab, and a safer place to avoid being pinched, as they are likely to get into the crabs, as they are at the crabs, and can get a lot of food, as they are more likely to get pinched and more likely to pinched by a strong shell, which can be pinched by crabs, and a crab, and more likely to pinched, which can lead to a safe beach, and<extra_id_27> </s>\n",
      "########\n",
      "*******\n",
      "question: What is a large group of human beings?\n",
      "answer: civilisation\n",
      "choices: ['an infestation', 'civilisation', 'homes', 'graveyard', 'spacecraft']\n",
      "common expl list: ['Civilisation is generally used to refer to large populations of humans living together in a single area, responding to collective needs.']\n"
     ]
    },
    {
     "name": "stderr",
     "output_type": "stream",
     "text": [
      "\r",
      " 11%|██████████████████▌                                                                                                                                                | 112/986 [22:04<3:02:01, 12.50s/it]"
     ]
    },
    {
     "name": "stdout",
     "output_type": "stream",
     "text": [
      "generated explanation: <pad> <extra_id_0> Human civilisation is a large group of human beings that is composed of many different species, genders, and races. Civilisation is the process of forming a civilised society, which is a social group of people who are united in their beliefs, and who share the same goals and values. Civilisation is the process of creating a new society and a new society is a process that involves the interaction of individuals and groups. Civilisation is the process of forming a new society. Civilisation is the process of a large group of individuals and the world. Civilisation is a social group of people, which is made up a large number of people who are able to communicate and share the same culture. It is a large group of people who are willing to share their knowledge and experience with one another. It is a large group of people who are willing to share their culture and lifestyles. Civilisation is the most important factor in a society. It is a large group of people who are willing to share the world. Civilisation is a social group of people who are willing to share their knowledge and culture, and their knowledge. Civilisation is a large group of people who are willing to share their knowledge and experience. Civilisation is a large group of people who are willing to share their knowledge and are willing to share it with each other. Civilisation is the most important process of human beings who are willing to share their experiences. Civilisation is a large group because it is a social group because it is a large group of people who are willing to share their knowledge, and willing to share their knowledge and willing to share their knowledge and experience. Civilisation is a large group of people who are willing to share their knowledge and experience.</s>\n",
      "########\n",
      "*******\n",
      "question: What  is likely to happen to ice in the sun?\n",
      "answer: become water\n",
      "choices: ['cool water', 'cool drink', 'cool off', 'nothing', 'become water']\n",
      "common expl list: ['because hot melts cold, ice will melt if kept in the sun.', 'When ice is exposed to the sun, it melts, becoming water.']\n"
     ]
    },
    {
     "name": "stderr",
     "output_type": "stream",
     "text": [
      "\r",
      " 11%|██████████████████▋                                                                                                                                                | 113/986 [22:14<2:52:32, 11.86s/it]"
     ]
    },
    {
     "name": "stdout",
     "output_type": "stream",
     "text": [
      "generated explanation: <pad> <extra_id_0> Ice in the sun is a very unstable material. It is a solid state material that is primarily composed of solids and is a major source of heat and energy. It is formed when the sun heats the Earth, and is subsequently heated by the sun. This heat is converted into water, which is a liquid that is liquefied into gaseous form. This is the process of forming ice, which is a crystalline form of ice. The water is then cooled and becomes liquid. It is then converted into water, which is a gas, which is then vaporizes, which is then converted into gas. This process is a very powerful and can be used to produce heat, and it can be used to create a chemical reaction that can be used to creates the sun's heat. This is a powerful heats and can be used to create a chemical reaction that can be used to creates a chemical reaction that can lead to a reaction reaction that can be used to create new material. This reaction can be used to create new material, which can be used to create new water ice. This reaction can result in a solid when the sun is heated and becomes water. This process can be used to create new material that can be used to create new water, which can be used to create new material, and create new a new form of water when the sun to create new a new material, and to create new material that is used in the sun.</s>\n",
      "########\n",
      "*******\n",
      "question: Where can travellers pull off the road to stretch their legs?\n",
      "answer: rest area\n",
      "choices: ['rest area', 'airport', 'train station', 'come home', 'bus depot']\n",
      "common expl list: ['Rest areas are places where people can pull off the road to stretch their legs, and they are often located near gas stations, which are frequented by travellers.', 'Rest areas are publicly provided spaces for drivers to get out of their cars for a break. Train stations, bus depots, come home, and airports are all places where one might catch a bus, train, taxi, or plane, or have arrived', 'Rest areas generally allow travelers to spend time away from the roads, which are generally connecting points to large cities and particular highway names.']\n"
     ]
    },
    {
     "name": "stderr",
     "output_type": "stream",
     "text": [
      "\r",
      " 12%|██████████████████▊                                                                                                                                                | 114/986 [22:24<2:46:34, 11.46s/it]"
     ]
    },
    {
     "name": "stdout",
     "output_type": "stream",
     "text": [
      "generated explanation: <pad> <extra_id_0> A rest area is a place where travellers can stop and stretch their legs. Rest areas are usually located along the roadside, and are often convenient for travellers to stop and stretch their legs. These rest areas are usually located in areas that are accessible to all motorists, including those who are travelling by car. They are typically located in areas that are populated with people who want to stretch their legs and take a break. These rest areas are typically located in rural or urban areas, and are often located in areas that are not accessible to the public. They are often located in areas where there are places to take a break. They are usually located in areas that are usually located in rural areas. They are usually located in areas where people can take a break and can take a quick stop. They can also use the rest areas to take a break from the hustle and bustle of the city. They can take a break and take a break and relax. They can also take a break from the road for a short break. They can also take a break and relax with their day. They can take a break from the road and take a short walk or bike. They can also take a short walk or bike. They can take a short walk or take a short break and take a short break. They can take a short walk or ride along the city or take a short trip. They can take a short break at a short walk or bike ride. They can take a short break and take a short walk or bike or walk to a short trip.</s>\n",
      "########\n",
      "*******\n",
      "question: A poor family has no decorations in December, what would make a great gift?\n",
      "answer: christmas tree\n",
      "choices: ['food', 'specialty store', 'christmas tree', 'department store', 'christmas stocking']\n",
      "common expl list: ['In December, most families tend to put up christmas decorations. A christmas tree would make a good gift for a poor family.', 'The family is poor, so we might assume that they have nothing for decoration for their Christmas season. To help fix this, a Christmas tree would be the greatest gift.', 'A christmas tree is a traditional decoration for christmas.']\n"
     ]
    },
    {
     "name": "stderr",
     "output_type": "stream",
     "text": [
      "\r",
      " 12%|███████████████████                                                                                                                                                | 115/986 [22:36<2:46:02, 11.44s/it]"
     ]
    },
    {
     "name": "stdout",
     "output_type": "stream",
     "text": [
      "generated explanation: <pad> <extra_id_0> A christmas tree is a great gift for a family who is lacking decorations in December. It is a great way to decorate their home and give a sense of Christmas joy. It is a simple way to give a gift that will last a lifetime. It is decorated with lights, ornaments, and other festive items. It is a gift that can be used to decorate any room in the home. It is a great way to add a touch of Christmas cheer to any home. It is a simple way to decorate the holidays. It is also a great way to decorate the house and to decorate the Christmas season. It is a great way to show your family and to give thanks for years. It is also a great way to show your appreciation for your Christmas. It is a great way to show your appreciation for your family and to them that you have been in the past. It is a great way to give a great gift to a great way to give to someone else. It is a great way to show your family and to decorate the season. It is a great gift for a poor family to give them some extra special time of Christmas. It is a great way to show them that Christmas season is a great way to give them a Christmas spirit and to give thanks for their dedication to their traditions and to them. It is a great way to show your love and appreciation and support them. It is a great way to give back to them a great gift to them a family and to them a great way to give thanks for them<extra_id_27> </s>\n",
      "########\n",
      "*******\n",
      "question: Where would you buy jeans in a place with a large number of indoor merchants?\n",
      "answer: shopping mall\n",
      "choices: ['shopping mall', 'laundromat', 'hospital', 'clothing store', 'thrift store']\n",
      "common expl list: ['Shopping malls usually contain a large variety of stores, including stores that sell clothes and jeans.', 'Since malls (or indoor shopping centers in general) contain numerous merchants, including clothing stores, you could purchase jeans in one such store.', 'Shopping malls often have a large number of stores, including clothing stores.']\n"
     ]
    },
    {
     "name": "stderr",
     "output_type": "stream",
     "text": [
      "\r",
      " 12%|███████████████████▏                                                                                                                                               | 116/986 [23:02<3:50:31, 15.90s/it]"
     ]
    },
    {
     "name": "stdout",
     "output_type": "stream",
     "text": [
      "generated explanation: <pad> <extra_id_0> A shopping mall is a place with a large number of indoor merchants that can be used to buy clothing. This type of shopping mall is a popular place for people to buy jeans because it is a large place with a large number of indoor merchants. Shopping malls are often located in shopping centers, which are large, urban shopping centers with a large number of indoor merchants. Shopping malls are also a popular place for people to shop for clothing because of the large number of indoor merchants. Shopping malls are often very popular place for people to buy jeans. The indoor shopping malls are usually located in the mall, which is a large number of indoor merchants. This is because of stores are often located in the shopping mall, which is often located in the center. Shopping malls are often located in shopping centers, which are often located in the center of the shopping malls are located in the shopping area. Shopping malls are also often located in urban centers, which are often located in the city. In addition to the variety of stores, shopping malls are often located in large shopping centers. Overall, shopping malls are a popular place for those who want to shop. Shopping malls are also a popular place with a variety of stores, which are located in the shopping malls. This is because of the stores are often located in the shopping center, which are often located in the shopping center. Shopping malls are often located in large, which are located in the shopping malls are located in large shopping malls, which are often located in shopping centers and are often located in large shopping centers, which are located in the shopping centers, which are often located in large shopping malls, which are often located in the shopping malls are located in shopping malls, which are often located in shopping malls, which are often located in shopping centers and are often located in large shopping malls, and are often located in indoors. Shopping malls are often located in the shopping centers, shopping malls are often located in the shopping centers, which are often<extra_id_27> s, which are often located in shopping malls are often located in the shopping centers. Shopping Malls are located in cities such as shopping malls, which are often located in shopping centers, which are often located in the shopping malls<extra_id_27> </s>\n",
      "########\n",
      "*******\n",
      "question: If I wanted to get some oxygen, what will I get it from?\n",
      "answer: air\n",
      "choices: ['the sky', 'air', 'earth', 'space shuttle', 'water']\n",
      "common expl list: ['Oxygen is found in the air.']\n"
     ]
    },
    {
     "name": "stderr",
     "output_type": "stream",
     "text": [
      "\r",
      " 12%|███████████████████▎                                                                                                                                               | 117/986 [23:18<3:49:07, 15.82s/it]"
     ]
    },
    {
     "name": "stdout",
     "output_type": "stream",
     "text": [
      "generated explanation: <pad> <extra_id_0> I wanted to get some oxygen from somewhere and I knew I could get it from air. Air is the most common form of air, and it is the most common way to get it. Air is the most common form of air, and it is the most common way to get oxygen. Air is the most common form of air, and it is found in all types of air supplies, including fresh air, salt water, and bottled water. Air is the most common form of air, and it is found in all types of air. Air is the most commonesting, but it is the most common way to get oxygen from the air. It is the most common way to get oxygen from air is needed to get oxygen from the air supply. It is also the most common way to get oxygen from the air source of air, and it is also the most common way to get oxygen from a vapor, and it is the most common way to get oxygen from the air. It is also the most common method of obtaining oxygen from a variety of other forms of air, including water, and other forms of oxygen, and other sources, such as oxygen, such as oxygen. Air is the most common way to get oxygen from the air is obtained from other sources, such as food, and from the way, and from the air. This is the most common method of getting oxygen from other sources, such as air, such as hydrogen, oxygenated water, and from other sources. Air is the most common source of air, because it is the most common way to get oxygen from other sources, such as water, and the most common source, such as oxygen-rich air, and water. Air is the most common source of air, and the most common method to get oxygen from air, and most common source for people. Air is the most common source, such as from the air, and air, and oxygen comes from the air, and most likely to get it from the air, air, and can be a source, such as water, or from the most common source of course, but it is the most common source of oxygen, as water, as air, and the most common source, such as water, and other sources such as air, air from<extra_id_27> </s>\n",
      "########\n",
      "*******\n",
      "question: What happens after having food too much?\n",
      "answer: getting fat\n",
      "choices: ['being full', 'laziness', 'weight gain', 'getting fat', 'will not starve']\n",
      "common expl list: ['People will become fat, and even obese from eating too much food.', 'Eating too much food causes one to gain weight, and thus become fat.', 'Eating too much food causes one to become obese.']\n"
     ]
    },
    {
     "name": "stderr",
     "output_type": "stream",
     "text": [
      "\r",
      " 12%|███████████████████▌                                                                                                                                               | 118/986 [23:29<3:30:09, 14.53s/it]"
     ]
    },
    {
     "name": "stdout",
     "output_type": "stream",
     "text": [
      "generated explanation: <pad> <extra_id_0> Eating too much food can lead to obesity. Eating too much food can lead to obesity, diabetes, and other chronic diseases. Eating too much can lead to weight gain, especially when it comes to weight gain. Eating too much food can lead to obesity, which is a metabolic disorder that can lead to weight gain, and other chronic diseases. Eating too much food can lead to eating too much food can lead to weight gain, and other chronic diseases. Eating too much food can lead to weight gain, and obesity is a dangerous condition that can lead to weight gain weight loss. Diet can be dangerous because of the way it can cause damage to the body. Being overweight can lead to weight gain strength and strength, and strength. Eating too much food can lead to weight gain, and increase the amount of calories you can cause physical and mental health effects. Eating too much of calories can also lead to other physical activity. Eating too much can lead to weight gain, which can lead to a number of physical changes in the brain. Eating too much of its own metabolism. Eating too much of a diet can lead to a number of physical and mental health problems. Eating too much of calories can also lead to a feeling of fatigue, and physical and mental health problems. Eating too much of food can lead to physical and psychological symptoms. Overall, getting fat is a sign of psychological effects, and emotional, which can be a sign of physical stress and emotional trauma. Eating too much can lead to physical symptoms. Eating too little exercise can cause emotional and mental fatigue.</s>\n",
      "########\n",
      "*******\n",
      "question: It was the first time they had met their new niece, it was good to have everybody together at the annual what?\n",
      "answer: family reunion\n",
      "choices: [\"brother's house\", 'family picture book', 'family tree', 'family reunion', 'book']\n",
      "common expl list: ['A family reunion is called a family reunion because this is where all of the family members gather for the re-union.']\n"
     ]
    },
    {
     "name": "stderr",
     "output_type": "stream",
     "text": [
      "\r",
      " 12%|███████████████████▋                                                                                                                                               | 119/986 [23:40<3:13:02, 13.36s/it]"
     ]
    },
    {
     "name": "stdout",
     "output_type": "stream",
     "text": [
      "generated explanation: <pad> <extra_id_0> The family reunion is an annual gathering of the family members to celebrate the life of the family and to celebrate the achievements of the family. The reunion is a time for family members to get together and share stories, pictures, and other special moments. It is a time for sharing, and for sharing the joy of the family's past, present, and future. The family members get together to share their memories, and to celebrate the accomplishments of the family. The family reunion is a time for sharing and expressing love for one another. The reunion is a time to remember the many holidays. The reunion is also a time to celebrate. It is a time to get to know each other and to get to know each other. The family gets to know each other's and celebrate the holidays. The family reunion is a time to bond and celebrate the future. It is a time to remember. It is a time to celebrate the new baby's birth and to grow. The annual family reunions are a time to celebrate the life of the people who are already growing up and to be a family. It is a time to be with the people who are a time to get to know each other and to share in the world. It is a time to celebrate the family and to celebrate the life of the family and to spend time together and celebrate the family. It is a time to be a time to spend together and to spend with each other.</s>\n",
      "########\n",
      "*******\n",
      "question: If you're expressing yourself in a public forum, what may you experience?\n",
      "answer: stage fright\n",
      "choices: ['danger', 'embarrassment', 'stage fright', 'getting arrested', 'blank stares']\n",
      "common expl list: ['Stage fright is the feeling of embarrassment or nervousness at the thought of being in front of people, and being on stage for a performance is a good example of a place where one often experiences stage fright. In such a case, their performance might be', 'A common example of expressing oneself in public is on stage. Members of an audience may stare and become bored, and at worst they may hiss or boo.', 'If you are expressing yourself in a public forum, you may experience stage fright, which is the fear of being embarrassed in front of a large audience.']\n"
     ]
    },
    {
     "name": "stderr",
     "output_type": "stream",
     "text": [
      "\r",
      " 12%|███████████████████▊                                                                                                                                               | 120/986 [23:51<3:04:10, 12.76s/it]"
     ]
    },
    {
     "name": "stdout",
     "output_type": "stream",
     "text": [
      "generated explanation: <pad> <extra_id_0> If you're expressing yourself in a public forum, it's possible to experience stage fright. Stage fright is a feeling of fear or anxiety that comes with expressing yourself in a public forum. It can be triggered by a lack of confidence, fear of failure, or a lack of self-assurance. It can also be triggered by a lack of confidence, fear of failure, or a lack of confidence in your abilities to express yourself effectively. Stage fright is a feeling of being in public speaking publicly speaking in front of yourself. It can be a difficult to be vulnerable and be a public forum to discuss your views and feelings. It can be accompanied by a lack of self-confidence and the public forum. It can be a result of a lack of self-confidence, or lack of self-esteem. It can be a sign of weakness or depression. It can be a sign that you are not prepared for the audience. It can be triggered by a lack of self-esteem and confidence. Stage fright can be a sign of self-esteem. It can also be a sign of nervousness and fear. It can be a sign that you are not prepared. Stage fright can be a sign that you are not ready to take control over others or anxiety. It can be a sign of self-confidence. It can be a sign of fear or a sign that you are not being a sign of confidence. It can be a sign that you are not prepared.</s>\n",
      "########\n",
      "*******\n",
      "question: He was eating too much while no exercising enough, what did he suffer as a result?\n",
      "answer: gain weight\n",
      "choices: ['hungry', 'gas', 'obesity', 'gain weight', 'feeling full']\n",
      "common expl list: ['If you eat more than you burn, you gain weight.', 'Excessive food consumption leads to accumulation of fat, which then results in a higher body weight, i.e., weight gain.', \"If you eat too much and don't exercise enough, you will gain weight.\"]\n"
     ]
    },
    {
     "name": "stderr",
     "output_type": "stream",
     "text": [
      "\r",
      " 12%|████████████████████                                                                                                                                               | 121/986 [24:03<2:58:59, 12.42s/it]"
     ]
    },
    {
     "name": "stdout",
     "output_type": "stream",
     "text": [
      "generated explanation: <pad> <extra_id_0> He was eating too much while not exercising enough, which led him to gain weight. This is because he was eating too much and not exercising enough. Eating too much can lead to weight gain, as it can increase the body’s metabolic rate, which increases the rate at which the body is metabolizing calories. Eating too much can increase the rate of calories burned, which can increase the rate at which the body burns calories. Eating too much can increase the metabolic rate, which can increase the body’s metabolism. Eating too much can increase the number of calories burned, which can also help to reduce body fat, which can cause weight loss. Overall, eating too much can lead to weight gain weight gain weight gain, as it can cause a combination of factors that can lead to a healthy lifestyle that can help prevents weight gain weight. Eating too much can cause weight loss. Eating too much can also cause health problems, and weight loss. Eating too much of calories can cause a weight loss. In conclusion, a person can be a result of a combination of physical activity and eating too much can lead to weight gain. Eating too much of calories can cause weight loss because of calories burned. Eating too much can cause weight loss due to stress. Eating too much of calories from eating too much of food. Eating too much can also cause health issues. Eating too much of these can lead to obesity and leading to increased risk factors. Eating too much of these factors can lead to weight loss.</s>\n",
      "########\n",
      "*******\n",
      "question: Randy was not doing housework.   His wife was raising two children, and this only increased her workload. It put her under a lot of stress.  What might this lead to?\n",
      "answer: arguments\n",
      "choices: ['asthma', 'more', 'boredom', 'headache', 'arguments']\n",
      "common expl list: ['Stress is often related to family life. Being under stress, the wife might verbally lash out at her husband, which could potentially lead to arguments']\n"
     ]
    },
    {
     "name": "stderr",
     "output_type": "stream",
     "text": [
      "\r",
      " 12%|████████████████████▏                                                                                                                                              | 122/986 [24:14<2:51:23, 11.90s/it]"
     ]
    },
    {
     "name": "stdout",
     "output_type": "stream",
     "text": [
      "generated explanation: <pad> <extra_id_0> Randy’s wife was under a lot of stress because of her children. She was also trying to keep up with the demands of raising two children, so she was putting more work on her plate. This added stress to her workload and made her feel overwhelmed. This can lead to anxiety, depression, and other mental health issues. She may be unable to focus or concentrate on the tasks at hand. This can lead to a host of other problems, such as a lack of sleep, or other mental health issues. She may be unable to concentrate on the children or the house, or other tasks. This can lead to a lot of stress, which can cause her to take more time and increase her focus on other important tasks. This can lead to a lot of stress, which can cause her to be more stress and cause mental health problems. This can lead to a lot of stressors, and can cause a lot of stress. She may also be less stress, as she is lessen her workload increases, which can lead to depression, anxiety, and depression. This can lead to a lot of physical stress and mental health issues. This can lead to a lot of stress, and depression. This can lead to a lot of stress, which can cause stress and cause a lot of stress. This can lead to a lot of stress, which can lead to more arguments, as stress can lead to stress, and anxiety, depression, and stress.</s>\n",
      "########\n",
      "*******\n",
      "question: Where can you learn about a ferret with special abilities far beyond normal ferrets?\n",
      "answer: comic book\n",
      "choices: ['comic book', 'out of doors', 'great britain', 'redwall', 'north carolina']\n",
      "common expl list: ['ferrets are lovable pets that occasionally pop up in comic or animated shows and movies. Occasionally a ferret is rodent, but more often they are the companion of a hero.']\n"
     ]
    },
    {
     "name": "stderr",
     "output_type": "stream",
     "text": [
      "\r",
      " 12%|████████████████████▎                                                                                                                                              | 123/986 [24:23<2:38:28, 11.02s/it]"
     ]
    },
    {
     "name": "stdout",
     "output_type": "stream",
     "text": [
      "generated explanation: <pad> <extra_id_0> A ferret with special abilities is a type of ferret that is a type of ferret that is found in the comic book genre. Ferrets have a wide range of abilities, including the ability to sense danger, to fly, and to sense the presence of other ferrets. This ability is a result of their unique physical characteristics, which are a combination of both physical and mental abilities. Ferrets also have a wide range of emotions, including anger, fear, and love. This is a comic book is a great way to learn about their unique and their unique abilities. This ability to learn about how they are able to interact with humans, and interact with each other, as they are able to senses, such as their environment, their actions, and their environment. Additionally, comic book characters have a variety of abilities, such as a variety of personalities, and personalities, which can help to learn more about them. This can help you learn more about the characters and their abilities. This can help you understand more about them. It can also be used to teach them how to interact with humans. This means that you can learn about them more than just by reading comics. Comics can be a great way to learn about them. It is a great way to learn about them and to learn about them.</s>\n",
      "########\n",
      "*******\n",
      "question: When people have guests over, what do they often do for their guests?\n",
      "answer: cook food\n",
      "choices: ['talk to each other', 'learn from each other', 'demand justice', 'cook food', 'share food']\n",
      "common expl list: [\"It's common to cook food for guests, which can feed everyone.\", \"People often prepare and share food because it's a way to welcome and appreciate each other.\", \"People who have guests (guests of any kind) over tend to cook them food. The food can either be pre-cooked, and ready to be served upon the guest's arrival, or consumed while the two of them have a conversation.\", 'People often cook food for their guests.', \"When people have guests over, it's common for them to make food for their guests.\"]\n"
     ]
    },
    {
     "name": "stderr",
     "output_type": "stream",
     "text": [
      "\r",
      " 13%|████████████████████▍                                                                                                                                              | 124/986 [24:36<2:49:22, 11.79s/it]"
     ]
    },
    {
     "name": "stdout",
     "output_type": "stream",
     "text": [
      "generated explanation: <pad> <extra_id_0> When people have guests over, they often have food to cook for them. Cooking is a great way to get the food down and to keep guests satisfied. Cooking is a great way to keep guests occupied and entertained. It is also a great way to keep the food fresh and healthy. This means that guests will be able to enjoy the food they have prepared and the company they have invited. Cooking is also a great way to keep the food on the table. Cooking is a great way to keep guests satisfied for them. It is also a great way to keep the guests happy and to stay satisfied. This helps to keep the guests feeling comfortable while they are away from the food. Cooking can be a great way to keep the guests satisfied. It also helps to keep the food fresh and to keep them satisfied. It can also help to keep the food fresh and ready for the guests happy and healthy. It can be a great way to keep the food running and to keep them satisfied. It can help to keep the guests happy and satisfied. It can help to keep the guests satisfied by providing them with healthy and delicious food. Cooking can be a great way to keep them satisfied. It can be a great way to keep them satisfied. Cooking can help keep the guests satisfied and healthy food from the day. It can help to keep the guests satisfied by keeping them satisfied and healthy. It can be a great way to keep guests satisfied and satisfied. It can also help to keep guests happy by allowing them satisfied and enjoy their food fresh and healthy food on the guest satisfied. It can help keep the guests satisfied and keep them satisfied. It can help keep them satisfied and healthy. Cooking can also help keep them satisfied and healthy food fresh. It can help to keep the guests satisfied and healthy food on a special occasion. Cooking can also help people feel more productive because it can help to keep them satisfied and healthy.</s>\n",
      "########\n",
      "*******\n",
      "question: Talking to someone is pointless if they're doing what?\n",
      "answer: not listening\n",
      "choices: ['dry mouth', 'whispering', 'being heard', 'eye contact', 'not listening']\n",
      "common expl list: ['People who are not listening to you will obviously not be able to understand your communication.', 'To be engaged in a conversation--particularly a one-on-one conversation, both people must be listening attentively.']\n"
     ]
    },
    {
     "name": "stderr",
     "output_type": "stream",
     "text": [
      "\r",
      " 13%|████████████████████▋                                                                                                                                              | 125/986 [24:44<2:30:30, 10.49s/it]"
     ]
    },
    {
     "name": "stdout",
     "output_type": "stream",
     "text": [
      "generated explanation: <pad> <extra_id_0> Talking is a great way to build rapport, but it's not enough if the person is not listening. Listening is a vital part of building relationships. It's a form of communication that helps to build trust and understanding. It's important to remember that people listen to you when you're talking to them. This is especially true if the person is not listening to you. Listening is a form of listening. Listening is a form of communication that can be used to build trust and respect. It's aren't listening't understand that the person is not listening. It's important to remember that talking about is important to maintain a productive and productive conversation. It's important to be a positive and respectful manner. It's important to remember that the person is not listening to others. It's important to keep in the room and not to them in a space for them. It's important to remember that the person is not listening to them. It's important to listen to them and understand their perspective. It's important to remember that they are not listening to someone and that they are<extra_id_27> </s>\n",
      "########\n",
      "*******\n",
      "question: If you are enjoying sunshine on the beach, what do you likely have views of?\n",
      "answer: sea\n",
      "choices: ['windowsill', 'sunbathers', 'disneyland', 'sea', 'summer']\n",
      "common expl list: ['To sunbathe, one would likely be found on a beach, where one would likely see the sea before anything else.', 'Seashores usually have views of the water (i.e., the \"sea\").', \"The beach is a place where people go to enjoy the sun, and so it's likely that the beach would have views of the sea.\"]\n"
     ]
    },
    {
     "name": "stderr",
     "output_type": "stream",
     "text": [
      "\r",
      " 13%|████████████████████▊                                                                                                                                              | 126/986 [24:53<2:26:46, 10.24s/it]"
     ]
    },
    {
     "name": "stdout",
     "output_type": "stream",
     "text": [
      "generated explanation: <pad> <extra_id_0> If you are enjoying sunshine on the beach, you will likely have views of the sea. The sea is a great place to enjoy the sun and enjoy the view of the sea. The water is clear and warm, and the sand is soft. The sea is a constant companion to the beach, providing a sense of calm and security. The sea is a great place to relax and enjoy the sun. The sea is a natural element that is abundant in the ocean. The sea is a natural element that is found in abundance in the sun. The waves are a great way to enjoy the sea. The waves are also a great way to enjoy the sea without having to look out of the water. The waves are a great way to enjoy the sun and the sea. The waves are also a great way to enjoy the sun. The sea is a great way to enjoy the sun. The waves crashing against the shore. The crashing waves are a great way to enjoy the sea. The waves are a great place to relax and enjoy the sun. The waves are a great way to enjoy the beauty of the sea. The crashing against the waves are a great way to enjoy the sea. The waves are also a great way to enjoy the sun and the sun. The sun is a great way to enjoy the scenery. The waves are also a great way to enjoy the beach. The waves are a great way to enjoy the scenery and the scenery.</s>\n",
      "########\n",
      "*******\n",
      "question: What does an actor do while acting?\n",
      "answer: pretend\n",
      "choices: ['branch out', 'eat curry', 'wear costume', 'pretend', 'sing songs']\n",
      "common expl list: ['Actors pretend certain things. While acting, they might pretend to be in a different location by going somewhere close to a stage feed. Actors might also pretend to possess particular materials while on stage by carrying props.']\n"
     ]
    },
    {
     "name": "stderr",
     "output_type": "stream",
     "text": [
      "\r",
      " 13%|████████████████████▉                                                                                                                                              | 127/986 [25:02<2:21:55,  9.91s/it]"
     ]
    },
    {
     "name": "stdout",
     "output_type": "stream",
     "text": [
      "generated explanation: <pad> <extra_id_0> An actor while acting is someone who pretends to be someone else. An actor pretends to be someone else in order to portray a character. Actors pretend to be someone else while they are acting. This is because pretending is a form of communication that allows the actor to express their thoughts, feelings, and actions. This is because pretending is a form of communication that is used to convey emotion and create a sense of reality. Actors pretend to be someone else while they are acting. This is because pretending is a way that is a way for the actor to communicate their emotions and their actions. Actors often pretend to be someone else’s words, gestures, or words, words, actions, or gestures. Actors pretend to be someone else, or to communicate their intentions. Actors pretending while they are trying to portray a situation in a real-like, and a character’s feelings. This is because they are often a way to communicate their thoughts and feelings. Actors also a way to convey emotions and to the audience. The actor pretending to be a character’s can be a way to pretending to communicate with the audience. This is a way to conveysing a message or a message or a message. This is a way of expressing their thoughts and feelings and a message.</s>\n",
      "########\n",
      "*******\n",
      "question: Where is a ring binder likely to contain budgets?\n",
      "answer: office\n",
      "choices: ['office', 'notebook', 'school', 'stationary shop', 'desk']\n",
      "common expl list: ['A ring binder is likely to contain budgets in an office, as budgets are often prepared by office workers.', 'An office setting is the most likely place where a manager would keep a collection of budgets.']\n"
     ]
    },
    {
     "name": "stderr",
     "output_type": "stream",
     "text": [
      "\r",
      " 13%|█████████████████████▏                                                                                                                                             | 128/986 [25:13<2:25:53, 10.20s/it]"
     ]
    },
    {
     "name": "stdout",
     "output_type": "stream",
     "text": [
      "generated explanation: <pad> <extra_id_0> A budget ring binder is a type of ring binder that is used to store budgets. It is typically used to store small budgets such as a check, a bank account, or credit card. It is typically used to store small amounts of money, such as a checkbook, a savings account, or a credit card. Ring binders are typically used to store small amounts of money, such as a credit card, a savings account, or a credit card. They are typically used to store small amounts of money, such as a credit card or a credit card. They are often used to store small amounts of paper money in ring binders, and other documents. They are typically used to store small amounts of money, such as a bank account, or to store a budget. They can also be used to store small amounts of paper, such as a credit card, or a debit card. Ring Binders are typically used to store small amounts of money, credit card, and credit card. They can be used to store smaller amounts of money, or even a budget. They can be used to store small amounts of money, such as a ring binder or a credit card. They can also be used to store documents in an office budget in a ring binder to store a budget in a budget in ring binder in a credit card or a ring binder for smaller amounts of money. They can be used to store small amounts of money, such as checks, or as a ring binders, credit card, debit or credit card.</s>\n",
      "########\n",
      "*******\n",
      "question: Where do you go when you're about to board a vehicle on railing?\n",
      "answer: railway station\n",
      "choices: ['railway station', 'deck', 'flight of stairs', 'porch', 'bus station']\n",
      "common expl list: ['Trains and busses both commonly make use of rail transportation to facilitate their travel. Railway station is the station they are staking out to board at. Thus, railway station is where you would go if you need to board a vehicle on a', 'Railway stations are where you board trains, which are often on rails.']\n"
     ]
    },
    {
     "name": "stderr",
     "output_type": "stream",
     "text": [
      "\r",
      " 13%|█████████████████████▎                                                                                                                                             | 129/986 [25:24<2:28:59, 10.43s/it]"
     ]
    },
    {
     "name": "stdout",
     "output_type": "stream",
     "text": [
      "generated explanation: <pad> <extra_id_0> A railway station is a public place where people can board a train or other vehicle on railings. Railings are usually covered with a coating of concrete, which is a type of plastic that provides a protective layer over the railing. The railing is usually a steel structure, which is usually made of iron or steel, and is usually covered with concrete. The railings are usually made of concrete, which provides a smooth surface for the vehicle to sit on. The railings are usually located at the station, which is usually located at the train station. The station is also a railway station is usually located near a large number of stations, which make it easier to board a vehicle. Railings are usually covered with a number of people waiting for the train. Railings are usually located at the station, making it easier to board. Railings are usually covered with signs and signs. Railings are usually located at the station, so people can see the railings and can be seen from different places, and are often covered with a variety of different heights and shape and lengths. Railing is a popular choice for people who want to board a railing, and lengths that are often used to cross the railings are covered, which are usually covered by the railings, which are covered by the railing and can be easily accessed by foot. Railing is a common practice in the railing, which are usually marked by the number of people waiting to board the railings, which are usually covered with different levels, and the level of the platform.</s>\n",
      "########\n",
      "*******\n",
      "question: Where can I go to see a really big toy balloon floating at the top of a dome?\n",
      "answer: circus\n",
      "choices: ['parade', 'circus', 'amusement park', 'birthday party', 'magic show']\n",
      "common expl list: ['Circuses often have big inflatables on the top dome of a tent; inside, they could house various attractions such as clowns, acts, games, rides, food, drinks, etc.']\n"
     ]
    },
    {
     "name": "stderr",
     "output_type": "stream",
     "text": [
      "\r",
      " 13%|█████████████████████▍                                                                                                                                             | 130/986 [25:33<2:19:34,  9.78s/it]"
     ]
    },
    {
     "name": "stdout",
     "output_type": "stream",
     "text": [
      "generated explanation: <pad> <extra_id_0> A big toy balloon floating at the top of a dome is a great way to see a huge variety of different things. For example, a toy balloon is a very popular attraction at a circus. It is a big toy balloon that is usually made of foam and is made of a material called a foam core. The foam core is made of a flexible material called foam, which is a kind of foam that is used to fill the dome with air. The foam core is made of a balloons are usually made of a large toy balloon that is made of the balloon. The balloon is a huge toy balloon is made of a large toy balloon that is made of a large toy balloon that is made of a large toy balloon that is made of a large toy balloons that are made of foam and is made of a strong enough toy toy balloon that it is made of a toy balloon that is made of a toy balloon that it is made of a toy material that is made of a toy balloon that is made of a toy balloon that is made of<extra_id_27> s</s>\n",
      "########\n",
      "*******\n",
      "question: They got to the door and it was locked, he reached in his jeans what to retrieve the key?\n",
      "answer: pocket\n",
      "choices: ['pocket', 'bus depot', 'lock', 'purse', 'front door']\n",
      "common expl list: ['Most people keep house keys in their pocket.', 'People often keep their keys in their pockets.']\n"
     ]
    },
    {
     "name": "stderr",
     "output_type": "stream",
     "text": [
      "\r",
      " 13%|█████████████████████▋                                                                                                                                             | 131/986 [25:48<2:42:51, 11.43s/it]"
     ]
    },
    {
     "name": "stdout",
     "output_type": "stream",
     "text": [
      "generated explanation: <pad> <extra_id_0> He reached in his jeans to retrieve the key. The key was in his pocket when he opened the door. The pocket is the most common place for people to reach for a key to retrieve it. Using a pocket for a key is a great way to keep items like keys safe and secure. Pockets are usually found in pockets or purses, and are usually a good place to keep items like keys, cash, and credit cards. Pockets are also a good place to store valuables, such as jewelry, and credit cards. Pockets also allows him to easily reach for the key when it was locked. Pockets are also a great way to find the key and retrieve the key. Pockets are also a great way to find a key to open the door when he needs to keep the door locked and secure. Pockets are also a great way to keep track of important part of the key in a safe and secure place. Pockets are also a great way to hide the key in the pocket. They also a great way to access the door when they are locked. They can also be found in the pocket or purse or a great way to retrieve the key. Pockets are also a great way to access the key and easily reach the key in a secure way to get the key when they are locked. Pockets are also a convenient way to retrieve the key and easily access the key when they needing it. Pockets are also a place to keep the key in the pocket and easily access the key in the pocket for later. Pockets are also a place the key in the key in the door when they need to access the key without having to open or pocket when they need to retrieve the key when they need to access the key when they need to access the key to access the key when they need to retrieve the key when they need it is locked and retrieve the key when they need to access the key when they need to unlock the key is locked and a pocket. Pockets are also a pocket is able to access the key to access the key when they need to access the key when they need to access the key a pocket. Pockets<extra_id_27> </s>\n",
      "########\n",
      "*******\n",
      "question: The car was overheating, where was it located?\n",
      "answer: in phoenix\n",
      "choices: ['airport', \"neighbor's house\", 'in phoenix', 'repair shop', 'street corner']\n",
      "common expl list: ['Phoenix is a hot place, and cars often overheat there.']\n"
     ]
    },
    {
     "name": "stderr",
     "output_type": "stream",
     "text": [
      "\r",
      " 13%|█████████████████████▊                                                                                                                                             | 132/986 [26:04<3:02:28, 12.82s/it]"
     ]
    },
    {
     "name": "stdout",
     "output_type": "stream",
     "text": [
      "generated explanation: <pad> <extra_id_0> The car was overheating because the temperature inside the car was too high. This is because the temperature inside the car is too high, and the temperature inside the car is too high. The car is in a sheltered area, away from any wind, sun, or other elements that could cause overheating. The car is located in a sheltered area, away from any obstacles, such as trees, shrubs, or other objects, such as rocks, bushes, and other objects. The car is located in a sheltered from the sun, near the city, which is located in the middle of the car. The car is located in a safe place to leave the car in a cool down, so the car is not overheating. The car is also located in a safe place, which is a great place to store, or in a phoenix, so the car is not causing it to get hot. The car was overheating because of the heat generated by the car is not properly maintained. The car was overheating because of the air pressure and temperature. The car is in a safe area of a place that is safe and quiet. The car is in a safe area, so that it is not a risk of overheating. The car is in a safe area, such as a safe place to store, and safe. The car is in a safe place where it is not a safe place to store. The car is in a safe place for people and objects and safety features such as a safe place to store items such as a safe place and other items. The car is not in a safe area, and safe and safe place, and secure area, and safe, and secure, but not a safe place. The car is safe and secure environment, and safe, and not a danger to drive, and secure, and secure area, and secure, and secure, and secure, and secure, and secure, and secure. The car is also safe and secure place, and is safe and secure, and secure, and secure, and secure, and secure, and secure. The car is not a safe place, and secure, and secure, such as a safe place, and secure, such as a safe place, and secure, such as a safe place to park, and secure, and secure, and secure place, such as\n",
      "########\n",
      "*******\n",
      "question: Where is likely to have a walk in type wardrobe?\n",
      "answer: mansion\n",
      "choices: ['recreational vehicle', 'clothes cupboard', 'house', 'mansion', 'bedroom']\n",
      "common expl list: ['A walk-in wardrobe is a large wardrobe that is usually found in a mansion.', 'As I think of scenarios, the result I expect the most is that of a person with a lot of clothes, or a clothing designer, living in a mansion; these people might have the luxury of a walk in wardrobe.', 'A walk in wardrobe is a large type of closet that could be found in a mansion.']\n"
     ]
    },
    {
     "name": "stderr",
     "output_type": "stream",
     "text": [
      "\r",
      " 13%|█████████████████████▉                                                                                                                                             | 133/986 [26:12<2:40:39, 11.30s/it]"
     ]
    },
    {
     "name": "stdout",
     "output_type": "stream",
     "text": [
      "generated explanation: <pad> <extra_id_0> A mansion is a large, often luxurious, and historically significant place. It is a place of great history, culture, and tradition. It is a place of worship, a haven for the senses, a sanctuary, a sanctuary, a sanctuary. It is also a place of refuge for the occupants, a place of refuge and sanctuary. It is a place of luxury and comfort, where the occupants can relax and unwind in a safe environment. A mansion is a walk in a place where the occupants can relax and can relax and enjoy the outdoors. It is a place of luxury and comfortable place to unwindowe the sense of a walk-in-in. It is a place of peace and quiet. It is a place of luxury and a place of comfort and a place of refuge and a place to uncluttered and a place of luxury and a place of luxury. It is a place of comfort and a place of peace and security. It is a place of luxury and a place of peace and security. It is a place of a place of elegance and a place of<extra_id_27> </s>\n",
      "########\n",
      "*******\n",
      "question: How bad is the punishment for someone who is over indulgent?\n",
      "answer: severe\n",
      "choices: ['severe', 'harsh', 'hard', 'strict', 'self denying']\n",
      "common expl list: ['Overindulgence in anything is bad, possibly leading to lethargy, poor health, overspending, and the like. As a result of this, a punishment for a person who is over-indulgent could be severe.']\n"
     ]
    },
    {
     "name": "stderr",
     "output_type": "stream",
     "text": [
      "\r",
      " 14%|██████████████████████▏                                                                                                                                            | 134/986 [26:23<2:38:50, 11.19s/it]"
     ]
    },
    {
     "name": "stdout",
     "output_type": "stream",
     "text": [
      "generated explanation: <pad> <extra_id_0> The punishment for someone who is over indulgent is severe. It can be as severe as death, if the person is convicted of committing a crime or committing a felony. It can be as severe as a prison sentence or even death. The punishment for someone who is over indulgent is severe because it can be a form of suicide. It can be as severe as a fine or imprisonment. It can be as severe as a prison sentence or both. The punishment for someone who is over indulgent is often times of life or a person is a victim's. It can be a prison sentence or a a prison sentence or even death. It can be as a a jail sentence or prison sentence or a fine. It can be a prison sentence or both. It can be a a charge or even death. It can be as a crime or a crime. It can be a crime or punishment for someone who is found guilty of being over indulgence. It can be a punishment for someone who is over indulgent in a crime or a crime. It can be a crime or it can be a punishment for over indulgent intoxic substances. It can be a crime or it can be a punishment for someone who is guilty of a crime. It can be a crime or a crime or a crime. It can be a a crime or a crime, felony. It can be a crime or a crime or a crime. It can be a crime or a crime or a crime. It can be a a crime or a crime.</s>\n",
      "########\n",
      "*******\n",
      "question: She was going to bed at 11 at night, what was she looking to do?\n",
      "answer: falling asleep\n",
      "choices: ['falling asleep', 'relaxing', 'rest', 'dreaming of', 'laziness']\n",
      "common expl list: ['Falling asleep is often a desired result when going to bed.', \"People go to bed when they're tired and want to sleep\"]\n"
     ]
    },
    {
     "name": "stderr",
     "output_type": "stream",
     "text": [
      "\r",
      " 14%|██████████████████████▎                                                                                                                                            | 135/986 [26:39<3:01:40, 12.81s/it]"
     ]
    },
    {
     "name": "stdout",
     "output_type": "stream",
     "text": [
      "generated explanation: <pad> <extra_id_0> When a person goes to bed at 11 at night, they are looking for a way to fall asleep. This is because falling asleep is a natural part of the process of sleeping. It is a process that takes a while, and it is one of the most difficult parts of the process. When a person goes to bed at 11 at night, she is looking for a way to fall asleep. This is because sleeping is a process that involves a lot of physical and mental work. When a person goes to bed, she is looking for a good night, it is important to get to sleep quickly. This is because it is a difficult to fall asleep quickly, as it is a result. When a person goes to bed, it is also a good way to fall asleep quickly. Sleeping at 11 at night is a good way to get up early in a good nighttime. It is a good way to get to sleep quickly and feel comfortable. She was looking for a way to get to get comfortable and restful night. This is why it is important to get a good nighttime is important to get to know how to fall asleep is a good night is important to know how to get to sleep quickly. It is important to understand that it is important to remember to get a good night and that it is important to get to sleep. This is important because it is a good way to get to sleep quickly. It is important to understand how to get to sleep and to get to sleep. This is important because it is important to understand how to get to get to get to know how to fall asleep quickly and how to sleep is important to understand how to get to get to sleep. When you are looking for a good night is important to know how to get to get to sleep. It is important to understand how to get to know your body and how to get to get to sleep. It is important to know how to understand how to understand how to get to sleep is important to understand how to understand how to sleep is important to understand how to understand how to fall asleep and how to understand how to get to know your body and how to get to sleep. When you and how to get to sleep is important to understand how to get to understand how to stay asleep.</s>\n",
      "########\n",
      "*******\n",
      "question: A company with the moniker of Big Sky Excavation would probably be found where?\n",
      "answer: montana\n",
      "choices: ['a forest', 'city', 'egypt', 'montana', 'desert']\n",
      "common expl list: ['Mountain ranges are often called \"big sky\"s. The term is popular for companies in Montana, a state with lots of mountians, including two major mountain ranges.']\n"
     ]
    },
    {
     "name": "stderr",
     "output_type": "stream",
     "text": [
      "\r",
      " 14%|██████████████████████▍                                                                                                                                            | 136/986 [26:50<2:54:56, 12.35s/it]"
     ]
    },
    {
     "name": "stdout",
     "output_type": "stream",
     "text": [
      "generated explanation: <pad> <extra_id_0> Big Sky Excavating is a company based in Big Sky, Montana. It is a company that specializes in the excavation of rock and other materials from the mountains and other terrains in the area. The company is based in Big Sky, Montana, which is a remote area in the Rockies that is a popular tourist destination. The company is based in the mountains and is based in the town of Big Sky, which is located in the mountains of the Smoky Mountains. The company is based in the town of the Smoky Mountains, which is located in the Rocky Mountains, in the Rocky Mountains, which is a great place to find a variety of different types of terrain. The company is a great place to find a variety of different types of terrain, including rocky terrain, rock formations, such as granite, limestone, lava and rock layers. The company is based in the mountains, which is the perfect place to find a variety of rock layers, including a variety of rock, rock, and minerals, including aquidoostrich, and a variety of minerals. The company is based in the mountains, and is a great place to find minerals and other minerals, including, such as aquiland, and other areas of mountains, including a variety of rock, including a variety of rocks and minerals. The company is a great place to find a company with a variety of minerals, and other minerals, and other areas, such as, such as aquil</s>\n",
      "########\n",
      "*******\n",
      "question: Which horseman of the apocalypse is often depicted next to death?\n",
      "answer: war\n",
      "choices: ['battlefield', 'the healer.', 'funeral', 'war', 'hospital']\n",
      "common expl list: ['A time of war is also often associated with someone dying.']\n"
     ]
    },
    {
     "name": "stderr",
     "output_type": "stream",
     "text": [
      "\r",
      " 14%|██████████████████████▋                                                                                                                                            | 137/986 [27:04<2:58:52, 12.64s/it]"
     ]
    },
    {
     "name": "stdout",
     "output_type": "stream",
     "text": [
      "generated explanation: <pad> <extra_id_0> The horseman of the apocalypse is often depicted next to death because war is a violent and ruthless process that requires sacrifice and sacrifice of the innocent. It is often depicted alongside a dead soldier, as a sign of war and death. War is a time of great change, and it is often portrayed as a symbol of the end of humankind's existence. It is often depicted alongside a horseman of the apocalyps, as a symbol of death. It is a symbol of the end of humanity's. It is often a symbol of war, and the end of humanity's battles. This is a symbol of the end of the beginning of the end of the end of all that is a time of great sadness and grief. It is also a symbol of death, and the end of humanity's moral crisis. It is a time of a time to remembering the end of humanity and to remembering the end of the beginning of the end of the end of war and death. It is a time to remember that we are a time of peace and apocapocapocapocapoca time to remember the end of the beginning of the beginning of the end of war and the end of human race. It is a time of war and the end of humanity's. It is apoca time to remember the end of the end of humanity's's and the beginning of the end of humanity's of war, and the end of humanity. It is apocapocapoca time to remember the war and the end of the end of war and the end of humanity. It is apocapoca time to remember the end of humanity's and the end of war and the end of all that humanity. It is a time to remember the beginning of the end of humanity.</s>\n",
      "########\n",
      "*******\n",
      "question: What could be used to write with a steel pen?\n",
      "answer: hand\n",
      "choices: ['warehouse', 'arm', 'hand', 'desk drawer', 'veterinary office']\n",
      "common expl list: ['you write with a steel pen using your hand.', 'Using a steel pen requires someone to hold it, and we associate writing with hands. Powder can be used with steel pens as a \"contrast medium.']\n"
     ]
    },
    {
     "name": "stderr",
     "output_type": "stream",
     "text": [
      "\r",
      " 14%|██████████████████████▊                                                                                                                                            | 138/986 [27:20<3:11:47, 13.57s/it]"
     ]
    },
    {
     "name": "stdout",
     "output_type": "stream",
     "text": [
      "generated explanation: <pad> <extra_id_0> A steel pen is a type of writing instrument that is typically used to write on paper or other surfaces. It is typically made of steel and is typically used for writing purposes, such as writing letters, numbers, and numbers. It is usually used to write in a formal environment, such as a desk, a pencil, or a computer. It is usually used to write with a pen that is made of plastic, metal, or wood. It is usually attached to a metal tip, and is usually attached to the writing instrument. It is usually used to write on a pencil or paper, and is usually attached to the pen. The steel pen is also a great tool for writing on a pencil, and can be used to create a masterpiece. It is also a great tool for writing on a manual or a paper, as it can be used to write on a paper or on a computer. It is also a great pen for writing on a paper, as it is a steel and can be used to create and edit your writing. It is important to note that the pen must be used in a pen, so it must be used to write on a desk or paper. It is also important to be used to write on a metal, as it is made of a great tool for writing on a computer. It is not only used to write on a computer or paper. It is also a steel pen is a great alternative to paper, as it is made of steel and can be used to type on a steel pen is a permanent marker. It is a pen that is made of course of writing, and not only to write with a steel pen is not a permanent marker. It is not a steel pen is not a permanent marker, and not permanent marker, so that it is not a pen. It is not only used to write on paper, and notation. It is not a permanent marker, and can be used to write on a permanent marker, so that it can be used on a permanent marker. It can be used to create a permanent marker, so that it can be used as a daily, and not be used on a permanent marker. This is a permanent marker, and not a permanent marker.</s>\n",
      "########\n",
      "*******\n",
      "question: I needed to find out how to contact a person with a certain name, where should I look?\n",
      "answer: phone book\n",
      "choices: ['directory', 'michigan', 'roster', 'phone book', 'certificate']\n",
      "common expl list: [\"Phone books are used to find people's phone numbers.\", 'A phone book is likely to have the phone numbers of nearby people.', 'Phone books are usually a good source for finding phone numbers to call other people.', 'People are listed in phone books for easy access by callers.']\n"
     ]
    },
    {
     "name": "stderr",
     "output_type": "stream",
     "text": [
      "\r",
      " 14%|██████████████████████▉                                                                                                                                            | 139/986 [27:30<2:56:40, 12.52s/it]"
     ]
    },
    {
     "name": "stdout",
     "output_type": "stream",
     "text": [
      "generated explanation: <pad> <extra_id_0> A phone book is a reliable way to find out how to contact a person whose name is not listed in a phone book. Phone books are a great way to find out how to contact a person whose name is not listed in a phone book, as it provides a quick and easy way to find out how to contact a person whose name is not listed in a phone book. Phone books are also a great way to find information about the past and present of a person, as they can provide a number of people, as they can easily find the past and their current phone book. They can also be used to find out how to contact information about the person's name, such as their address, and their address, and the person's's's phone book. Phone books can also provide information about the person's name, as well as a person's phone book can be used to reach them. They can provide information about the person's location, such as their name, such as their name, and their location. Phone books can also provide information about the person's location, and the person's name, and the phone book. Phone books can also provide information about the person's address, phone book can be used to contact them with information about them, such as their name, address, or their name, or their name, and how to contact information about their relatives, and how to contact information about them. Phone books can provide information about them, such as their name,<extra_id_27> s, and addresses, such as</s>\n",
      "########\n",
      "*******\n",
      "question: What is important for a couple to do?\n",
      "answer: communicate\n",
      "choices: ['live together', 'row about', 'plan to marry', 'communicate', 'marry each other']\n",
      "common expl list: ['Communication is a key part of a healthy relationship and - often equally as important - is the commitment to communicate effectively.', 'Couples who communicate well are more likely to stay together, and thus, it is important for a couple to communicate.', \"To make a relationship work, it's very important to communicate with each other.\"]\n"
     ]
    },
    {
     "name": "stderr",
     "output_type": "stream",
     "text": [
      "\r",
      " 14%|███████████████████████▏                                                                                                                                           | 140/986 [27:39<2:45:30, 11.74s/it]"
     ]
    },
    {
     "name": "stdout",
     "output_type": "stream",
     "text": [
      "generated explanation: <pad> <extra_id_0> Communicate is important for a couple to do because it helps to build a strong bond between two people. Communication is important because it allows both partners to understand each other and to build a bond. It helps to build trust and understanding between the two of them. It also helps to keep the communication flowing and open. Communication is important for a couple because it helps to establish trust and a sense of belonging. It helps to build a sense of community and understanding between the two of them. It also helps to keep the two of them to each other. It also helps to help to build a strong relationship and strengthen the relationship. It also helps both partners to communicate effectively and to build a strong friendship and support each other. This helps to strengthen the other’s confidence in each other’s strengths and weaknesses. It helps to keep the two of them in their strengths and weaknesses. It also helps to keep the couple on a positive attitude and openness. It also helps to keep the other’s trust in them and build relationships. It helps to keep them feeling safe and secure. It is important for them to understand each other that they are important to be a strong and to take care of themselves. It is important to remember that communication is about the other and to build trust. It is important for couples to understand each other and how to communicate and to build a healthy and supports them. It helps to keep them motivated and openness and trust. It helps to keep them on a daily basis. It helps them to build a bond and<extra_id_1> </s>\n",
      "########\n",
      "*******\n",
      "question: The botanist knew the plant was living, what did he observe that led him to know that?\n",
      "answer: respiration\n",
      "choices: ['interaction', 'death', 'respiration', 'expiration', 'chlorophyll']\n",
      "common expl list: [\"The teacher commonly noted that plants give off oxygen as a result of respiration, which helps fuel their energy and growth. This was evidence of a plant's life.\"]\n"
     ]
    },
    {
     "name": "stderr",
     "output_type": "stream",
     "text": [
      "\r",
      " 14%|███████████████████████▎                                                                                                                                           | 141/986 [28:00<3:21:12, 14.29s/it]"
     ]
    },
    {
     "name": "stdout",
     "output_type": "stream",
     "text": [
      "generated explanation: <pad> <extra_id_0> The respiration of a plant is a key indicator that a plant is living. It is the process of sustaining life. It is the mechanism by which plants breathe and the air that is expelled from them is absorbed by the cells of the plant. The respiration of a plant is the key to knowing if it is living or not. The process of respiration is the process by which plants are formed and die. The process of respiration is the process by which plants produce oxygen. The process of respiration is the plant's ability to breathes oxygen to the air that is needed to survive. This is the plant needs to survive. It is the plant must also have a variety of other factors such as the pH, pH, pH, and humidity. This leads to the theory that the plant is living. The botanist also observed the plant's ability to regulates its pH, which can affects its overall health. The botanist also observed the plant's respiration. The botanist was able to determine the plant's pH and its body temperature. The plant must have a metabolic rate of respiration. This is because it is the body's ability to produce oxygen and to breathe. The botanist was able to observe the plant's respiration. The plant was born with a chemical response to its metabolism and its metabolism. Its also important to determine the plant's ability to maintain its own oxygen levels and its respiration. The botanist was able to observe respiration was able to observe the plant's metabolic rate of its respiration, which was dependent on its health and the plant's ability to regulate its body's ability to regulate its own health, and the plant's metabolism. It was the plant's ability to regulate its respiration, and its metabolism, which led him to know that the plant was alive, and the plant's ability to regulate its respiration process, which led him to know that the plant's ability to survive and its ability to survive, and to observe the plant's ability to regulate its metabolism, which led him to know that led him to know that its ability to know that it was alive, and how it was alive. The plant's ability to survive and ability to know its ability to survive, and how to determine its ability to determine its ability to reproduce,<extra_id_27> </s>\n",
      "########\n",
      "*******\n",
      "question: What is it called when teens are together not doing anything in particular?\n",
      "answer: hang out\n",
      "choices: ['smoke', 'homework', 'volunteer', 'party', 'hang out']\n",
      "common expl list: ['Hanging out\" is used to describe events where people are socializing, doing nothing in particular. Other events include hanging out with a purpose (doing homework, studying outside, going shopping, etc.).', 'Hang out is a term that could be used for teens hanging out together, typically with no particular agenda.']\n"
     ]
    },
    {
     "name": "stderr",
     "output_type": "stream",
     "text": [
      "\r",
      " 14%|███████████████████████▍                                                                                                                                           | 142/986 [28:09<2:57:47, 12.64s/it]"
     ]
    },
    {
     "name": "stdout",
     "output_type": "stream",
     "text": [
      "generated explanation: <pad> <extra_id_0> Teens are often together for hang outs because it is a safe place to be for them to spend time together without doing anything in particular. Hanging out is a common activity among teens because it is a way for them to spend time without being bothered by other people or by other activities. Hanging out is a form of bonding that is often unstructured and unstructured, and it is a great way to get to know each other and make lasting memories. Hanging out can be a great way to bonding for teens because it can be a great way to get them to get to meet new friends and make new people and make new people. It can also be a great way for teens to meet up with other people and to meet and make new things. It can be a great way to spend time with friends and make new friends. It can be a great way to connect with friends and make new friends. It can also be a great way to make new friends and make new friends. It can be a great way to make new friends and make new friends. It can be a great way to make new friends and make new friends. Hanging out can be a great way to connect with other and make new people<extra_id_27> </s>\n",
      "########\n",
      "*******\n",
      "question: The saw was not necessary for car repair, so what wasn't it included with during pucrhase?\n",
      "answer: tool kit\n",
      "choices: ['tool shed', 'tool box', 'tool kit', 'hardware store', 'toolbox']\n",
      "common expl list: ['A saw is another name for a cutting tool, but they are often not included with a tool kit, because a kit is used for other repair needs (bolts, screws, bindings, etc.), and a saw is not required for a car repair']\n"
     ]
    },
    {
     "name": "stderr",
     "output_type": "stream",
     "text": [
      "\r",
      " 15%|███████████████████████▋                                                                                                                                           | 143/986 [28:23<3:06:56, 13.31s/it]"
     ]
    },
    {
     "name": "stdout",
     "output_type": "stream",
     "text": [
      "generated explanation: <pad> <extra_id_0> The saw is not necessary for car repair, so it was not included with the tool kit during the repair. The saw is not necessary for car repair, as it is not included in the tool kit. The saw is not necessary for car repair, as it is not part of the car's<extra_id_2>. The saw is not necessary for car repair, so it is not included in the tool kit. The saw is not necessary for car repair, as it is not part of the car's body work. The saw is not part of the tool kit, but it is not included in the tool kit. The saw is not included with the car is not necessary for car repair, so it is not included in the car. The saw is not included in the tool kit, but it is not included in the tool kit. The saw is not included in the tool kit. The saw is not included in the tool kit. The saw is not necessary for car repair, as it is not necessary for car repair. The saw is not included in the tool kit, so it is not necessary for car repair. It is important to include the saw in the tool kit during car repair. The saw is not included in the car repair, but it is not necessary for car repair. The saw is not included in the tool kit, so it is not necessary for car repair. It is not included in the tool kit. The saw is not included in the tool kit is not necessary for car repair, but it is not necessary for car repair, as it is not necessary for car repair. It is not necessary for car repair, as it is not necessary for car repair, so not included in the tool kit is not necessary for car repair. It is not necessary for car repair, as it is not necessary for car repair, so it is not necessary for car repair, it is not necessary for car repair, so it is not necessary for car repair, as it is necessary for car repair, as it is not necessary for car repair, so it is not necessary, but it is not necessary for car repair. It is not necessary for car repair, so that it is not necessary for car repair, and it is not necessary for car repair. It is not necessary, so it is important for car repair.</s>\n",
      "########\n",
      "*******\n",
      "question: Where will my kid put their coin in their room?\n",
      "answer: piggy bank\n",
      "choices: ['piggy bank', 'wishing well', 'parking meter', 'under pillow', 'change purse']\n",
      "common expl list: ['Piggy banks are often used to store coins.', 'Kids commonly save small amounts of money for later use, and these savings are often kept in piggy banks.']\n"
     ]
    },
    {
     "name": "stderr",
     "output_type": "stream",
     "text": [
      "\r",
      " 15%|███████████████████████▊                                                                                                                                           | 144/986 [28:36<3:04:00, 13.11s/it]"
     ]
    },
    {
     "name": "stdout",
     "output_type": "stream",
     "text": [
      "generated explanation: <pad> <extra_id_0> A piggy bank is a safe and secure way for kids to store their money. It is usually placed in a plastic bag or a small box, which is then tucked away in a pocket or basket. This is because the coin is not easily snagged, and it is not easy to lose. A piggy bank is a small, soft plastic bag that is tucked away in a corner, like a coin purse, and it is made of sturdy material, which is durable and easy to store coins in a safe place to depositing. The coin is also easy to store and easy to keep the bank safe and secure, and is a safe place for kids to put their money in a safe place to store their money. A piggy bank is a fun and safe way for them to spend money and to keep track of their money. Finally, a place for kids to put their money, and to keep track of their coins and to find them. Overall, coin bank is a safe place for kids to keep their money. Overall, a piggy bank is a safe way for kids to keep their coins and to be safe and a safe place. This is an easy to keep track of money and helps them to keep them safe. It is a great way for kids to store their money in a safe place to keep track of money. It also helps them to keep track their money in a piggy bank. It is a great way to keep track of money in a safe way to store coins in a safe place for them to keep their coins and keepsa kid can easily keep their money in a piggy bank in a safe place to store coins in their coins in a safe way to keep track of course, and secure place to keep track of course, and secure way to keep them safe.</s>\n",
      "########\n",
      "*******\n",
      "question: Where is a fire extinguisher likely to be found behind the seat?\n",
      "answer: school bus\n",
      "choices: ['school bus', 'house', 'garden', 'stairwell', 'garage']\n",
      "common expl list: ['Fire extinguishers are required on public-transit vehicles, such as school buses.']\n"
     ]
    },
    {
     "name": "stderr",
     "output_type": "stream",
     "text": [
      "\r",
      " 15%|███████████████████████▉                                                                                                                                           | 145/986 [28:49<3:04:31, 13.17s/it]"
     ]
    },
    {
     "name": "stdout",
     "output_type": "stream",
     "text": [
      "generated explanation: <pad> <extra_id_0> A fire extinguisher is typically found behind the seat of a school bus. This is because school buses are typically used for transporting students from one location to another. On a school bus, a fire extinguisher is typically found behind the seat of the bus. This is because school buses are typically used for transporting students from one location to another. This is because they are typically used for transporting students from one location to another. A fire extinguisher is typically found behind the seat of the bus. This is because the bus is often packed with children and teachers and other items such as books, toys, videos, and other items. This makes it easier to conceal the bus and to keep the passengers safe. In addition, a school bus is typically has a fire extinguisher and a school bus has a fire extingulated seatbelt that is likely to be found behind the seat of the bus. This makes it easier to keep the bus safe and secure, as it is also likely to be a school bus, as the bus is usually locked, so that the bus is locked, so that the bus is locked in place. The bus is likely to have a school bus seat, which is locked, and locked, so that the bus is locked when the bus is locked, so that the bus is locked away from being taken, the school bus is locked, which can be locked, which can be locked, and locked, so that the bus is likely to be locked, which can be locked. This means that the bus is locked so that the bus can be locked, and locked. The bus is locked, and locked, the bus is locked. The school bus is locked, and the school bus is likely to be locked, so that the bus is locked, and the bus is locked, and locked behind the school bus is locked, and locked. The bus is locked, and locked, and is likely to be locked, and locked, and is likely to be locked, and locked, and locked, and locked behind the exting is locked, and locked, and locked. The school bus is locked, and is likely locked. The school bus is locked, and locked,<extra_id_27> </s>\n",
      "########\n",
      "*******\n",
      "question: His therapist said he had to get out there and begin socialising, it was the only was to start what?\n",
      "answer: friendships\n",
      "choices: ['conflicts', 'having fun', 'jealousy', 'getting out there', 'friendships']\n",
      "common expl list: ['Interacting with other people socially is likely to result in making new friends.', 'His therapist said that he needed to speak to people if he wanted to be less withdrawn. This would help him to get out of his shell.']\n"
     ]
    },
    {
     "name": "stderr",
     "output_type": "stream",
     "text": [
      "\r",
      " 15%|████████████████████████▏                                                                                                                                          | 146/986 [28:56<2:38:29, 11.32s/it]"
     ]
    },
    {
     "name": "stdout",
     "output_type": "stream",
     "text": [
      "generated explanation: <pad> <extra_id_0> His therapist said he had to get out there and begin socialising because it was the only way he could start building relationships. He said that by getting out there and socialising, he could start building relationships with other people and start building relationships that would last. He also said that by doing things like going out and meeting new people, he could start building relationships that would last and last. He said that by doing things like going out and meeting new people, he could start building relationships that would last. This would help him build relationships with people he could start building friendships and he could begin building relationships. This would help him to start a sense of accomplishments and a better life. He also said that he could start building friendships would help him move forward. He could start building a foundation for the future and begin building relationships. This would help him to start building a sense of belonging and he could begin to become a better person as he could use the a better understanding of the world around him. It would also help him to learn about the world around him and how to live in a better future.</s>\n",
      "########\n",
      "*******\n",
      "question: What is likely true about a dog that escapes regularly?\n",
      "answer: very smart\n",
      "choices: ['very smart', 'very loyal', 'tired', 'friendly', 'faithful']\n",
      "common expl list: ['Intelligent dogs (especially when concerned with food and treats) who are looking for some form of freedom will have the intelligence to escape regularly.']\n"
     ]
    },
    {
     "name": "stderr",
     "output_type": "stream",
     "text": [
      "\r",
      " 15%|████████████████████████▎                                                                                                                                          | 147/986 [29:07<2:36:13, 11.17s/it]"
     ]
    },
    {
     "name": "stdout",
     "output_type": "stream",
     "text": [
      "generated explanation: <pad> <extra_id_0> A dog that escapes regularly is likely very smart, as it is able to predict when it will be attacked and where it will go. This is because dogs are naturally very unpredictable and they are able to predict when they will be attacked and where it will go. This is because dogs are able to plan their escapes in advance, and they are able to predict when they will be attacked and when they will be safe. This is because dogs are naturally curious, which is why they are more likely to go on a regular basis. This is because dogs can sense their surroundings and they are often in able to spot suspicious people or other dogs. They also often have special events, which can cause problems with them. This is because dogs are able to sense of danger and risk losing their food and shelter. They are also able to plan their territory quickly adapt to the environment and avoid the dogs. They are able to senses when they are in danger. This allows dogs to adapt quickly to new environments and to their environment. This helps them to stay safe and alert when they are in danger. They are able to spot people and their surroundings, and will help them to detect when they are in the area. They are also likely to escape from their owners when they are in the area. This is because they are able to sense of danger and avoid people. They are likely to plan their surroundings, which can help them to escape when they are in addition to escapes and escapes when they are away from people. This can lead to a variety of activities, which can help them to escape. They are also able to plan their escapes, which can help them to plan their environment. They are also likely to be able to escape when they are in the outdoors. This helps them stay safe and<extra_id_1> </s>\n",
      "########\n",
      "*******\n",
      "question: If you're going to a party in an alley, what is likely to happen?\n",
      "answer: doing drugs\n",
      "choices: ['call the police', 'doing drugs', 'new contacts', 'making new friends', 'plan']\n",
      "common expl list: ['People going to parties in an alley are often going to do drugs and vice.', 'People often do drugs at parties, and alleys are often used for parties.', 'Alleys are associated with crime; and, people performing illegal drugs at a party is illegal.']\n"
     ]
    },
    {
     "name": "stderr",
     "output_type": "stream",
     "text": [
      "\r",
      " 15%|████████████████████████▍                                                                                                                                          | 148/986 [29:22<2:51:37, 12.29s/it]"
     ]
    },
    {
     "name": "stdout",
     "output_type": "stream",
     "text": [
      "generated explanation: <pad> <extra_id_0> An alley is a popular place to go to a party because of the limited space it provides. Alleys are notorious for being a place for people to go to get high and have a good time. People will often be drinking and doing drugs, and this can lead to problems later on in the night. In addition to drinking and doing drugs, an alley is also a place for people to meet, socialize, and have a good time. During a party, people will likely be in an alley, which can lead to problems later on. This can lead to people taking drugs, which can lead to problems. If you are in an alley, it can be a place for people to take drugs. This can lead to a lot of drugs, which can lead to a lot of people taking drugs. In addition to the fact, it can be a lot of drugs. In an alley, people will be in an alley because of the lack of resources and the need for them. This can lead to them to problems later on. In addition to drugs, it can also lead to a lot of people taking a lot of alcohol and taking drugs. Overall, in an alley, it is likely that people will be taking drugs will result in the night. Overall, an alley is likely to people taking drugs because of the drugs are a lot of people taking drugs. In conclusion, it is likely that people are likely to drugs because of the alley because of people who are likely to be taking drugs, and that are likely to take drugs, and that they are likely to taking drugs. In an alley, the people to take them to take drugs in the alley because they are likely to take drugs in an alley, a place is likely to be drug-related drugs because of drugs being in an alley is likely to a lot of drugs because of the drugs are likely to be in an alley, as well-based drugs are likely to take drugs in the night, because of the likelihood of the drugs are likely to take drugs in an alley because of the drugs are likely to take drugs in an alley, and the drugs are likely to be taking drugs are likely to take drugs in the night, and that are likely<extra_id_27> </s>\n",
      "########\n",
      "*******\n",
      "question: The man was very tired and sore, he decided to stay in bed to what?\n",
      "answer: rest more\n",
      "choices: ['rest more', 'lazy', 'were sick', 'to be sick', \"you're sick\"]\n",
      "common expl list: ['The man was so tired and sore, he just wanted a break. His illness would keep him in bed.', \"When people are sick, they tend to rest, as it's the most sensible thing.\", 'The man was tired and sore, so he decided to rest more.']\n"
     ]
    },
    {
     "name": "stderr",
     "output_type": "stream",
     "text": [
      "\r",
      " 15%|████████████████████████▋                                                                                                                                          | 149/986 [29:40<3:15:20, 14.00s/it]"
     ]
    },
    {
     "name": "stdout",
     "output_type": "stream",
     "text": [
      "generated explanation: <pad> <extra_id_0> The man was very tired and sore and decided to stay in bed to rest more. The man decided to rest more because he was very tired and sore. He was very tired and sore because he had spent the day working and he was very tired. He was also very tired and sore because he had spent the day sleeping and he was very sore. The man decided to rest more because he was very tired and sore because he was in bed to rest more. The man was very tired and sore tired and sore. The man was very tired and sore and sore because he was sore and sore. He was also very tired and sore because of the stress that he was in bed because he was sore. He was also very tired and sore and sore because he was in bed because he was in bed because he was in bed because he was in bed because he was in bed because he was sore and sore. He was also very tired and sore because he was sore and sore and sore and sore. The man was also very tired and sore because of the stress and soreness and sore because he was also very tired and sore and sore because he was sore and sore because he was in bed and sore because he was sore and sore and sore and sore and sore and sore and sore. The man was sore and sore and sore and tired and sore and sore because of the stress and sore because of the stress of the day. The man was sore and sore because of the stress of the day and the stress of the day and soreness of the stress of the day and soreness of the day and the stress of work and soreness and tired and the stress of the day. The man was sore because he was sore because he was sore because of the stress of the day and the day. The man was sore because of the day and sore because he was sore because of the day. The man was sore because of the stress of the stress of the day and the day and the day. The man was sore and the day and soreness and the day and the man was soreness and the day and the day and tired and the\n",
      "########\n",
      "*******\n",
      "question: He was back in his hometown, he was planning on having fun and doing what?\n",
      "answer: visiting friends\n",
      "choices: ['being understood', 'hug', 'rambling', 'kiss', 'visiting friends']\n",
      "common expl list: ['People usually visit their friends when they return to a town where they previously used to live, because their friends would have missed them.', 'If a person is back in their hometown, they might visit their friends, who they might not see very often.', 'If a person went back to their hometown, they might be glad to see their old friends, and visit them while they are there.']\n"
     ]
    },
    {
     "name": "stderr",
     "output_type": "stream",
     "text": [
      "\r",
      " 15%|████████████████████████▊                                                                                                                                          | 150/986 [29:51<3:00:25, 12.95s/it]"
     ]
    },
    {
     "name": "stdout",
     "output_type": "stream",
     "text": [
      "generated explanation: <pad> <extra_id_0> He was back in his hometown, he was planning on having fun, and he was looking forward to visiting his hometown friends. He was planning on having fun, and he was hoping to make new friends. He was planning on having fun, and he was hoping to make new friends. He was also planning on visiting other places of interest, such as museums, art galleries, and other attractions. He was also planning on having dinner with his friends, and he was hoping to have some good food. He was hoping to have some good time with his friends and make new friends. He was also planning on some fun activities. He was hoping to have some good time with his friends and make new friends. He was also planning on a good time with his friends, and visit them. He was also planning on a good time with a good time with his friends and enjoy the company. He was also planning on a good time to have some good time with his girlfriend, and a good time with his mom and her. He was hoping to have some fun. He was looking forward to making new friends. He was hoping to see his hometown and to make new friends. He was also planning on making new friends and making new friends. He was sure to make new friends with his old friends. This was going to make new friends and making new friends. He was looking forward to spend time with his old and making new friends. He was looking for a good time to visit with his friends and making new friends.</s>\n",
      "########\n",
      "*******\n",
      "question: Where is basketball court likely to be outdoors?\n",
      "answer: city\n",
      "choices: ['high school gymnasium', 'city', 'park', 'use', 'los angeles']\n",
      "common expl list: ['Basketball courts are likely to be at parks and recreational centers in cities.', 'Basketball courts are often found in city parks.', 'Most American cities have basketball courts in public parks.', 'Basketball courts are often urban.']\n"
     ]
    },
    {
     "name": "stderr",
     "output_type": "stream",
     "text": [
      "\r",
      " 15%|████████████████████████▉                                                                                                                                          | 151/986 [29:58<2:36:27, 11.24s/it]"
     ]
    },
    {
     "name": "stdout",
     "output_type": "stream",
     "text": [
      "generated explanation: <pad> <extra_id_0> A basketball court is a hard surface that is typically found in cities because it is often located in a city. It is usually located in a residential area, so it is often located in a city. Cities are often located near major highways, shopping centers, and other places of interest. Cities are also often located in areas with high population density, which makes them ideal for outdoor basketball courts. Basketball courts are typically located in cities that are densely populated and have a variety of amenities. Cities are often located in areas that are located in a variety of different locations, but they are often located in urban areas with a variety of amenities. In addition, they are often located in urban areas that are often located in areas with a variety of different types of different areas of different types of housing. This means that the court is likely to be located in a city and the city. In addition to the court can be found in different parts of the city. Cities are often located in areas with more likely to have more amenities. Additionally, cities may have a variety of different amenities, such as parks, which can be found in more diverse and<extra_id_27> </s>\n",
      "########\n",
      "*******\n",
      "question: When you want to get the skin off of an apple, you do what to it?\n",
      "answer: peel\n",
      "choices: ['seeds inside', 'stems', 'peel', 'grocery store', 'green market']\n",
      "common expl list: ['Apples have a skin that can be peeled off.', 'Skin is something you peel from fruits like apples, peaches, oranges, kiwi, etc...']\n"
     ]
    },
    {
     "name": "stderr",
     "output_type": "stream",
     "text": [
      "\r",
      " 15%|█████████████████████████▏                                                                                                                                         | 152/986 [30:13<2:51:44, 12.36s/it]"
     ]
    },
    {
     "name": "stdout",
     "output_type": "stream",
     "text": [
      "generated explanation: <pad> <extra_id_0> The peel is a method of removing the outer layer of an apple, which is the skin. The peel is a thin layer of skin that is removed by rubbing against the surface of the apple. The peel is a thin layer of material that is used to remove the outer layer of the apple. The peel is a thin layer of skin that is used to remove the skin from the apple. The peel is a thin layer of material that is used to remove the outer layer of the apple. The peel is a thin layer of the skin, which is a thin layer of skin, which is a thin layer of the skin. The skin is removed by rubbing against the edges of the skin and rubbing the edges of the peel is a thin layer of skin, removing the outer layer of the skin. The peel is a thin layer of skin, which is a thin layer that is made of sugar and other ingredients, such as a fruit. The peeling is a way to remove the skin and to remove any traces of the inside of the fruit. It is also a great way to removes the skin and to remove the skin. The process involves removing the outer layer of the skin, which is a thin layer of the skin, which is a thin layer of the skin, which is made of the color and the skin. The skin is made of the inside of the apple, which is made of the skin, which is made of the outer layer of the surface. The inside of the outside of the skin is made of the inside of the top layer of the skin and the skin, which is a great way to remove the outer layer of the skin, and to remove the skin, and to remove the skin from the skin, and the inside the skin, and remove the skin from the skin, and the skin, and remove the skin, and removes, the skin, and the skin, and the outer layer of the skin, and then<extra_id_27> </s>\n",
      "########\n",
      "*******\n",
      "question: Where could you put some knives if you are planning to bring them outside with you?\n",
      "answer: backpack\n",
      "choices: ['purse', 'backpack', 'drawer', 'sporting goods store', 'kitchen']\n",
      "common expl list: [\"To carry knives on one's person, you need some small type of container to hold the knives. Perhaps the most likely place to carry a small container is a backpack.\", \"Knives are usually brought along if hiking, camping, fishing, or other outings, and backpacks make it easy to transport one's belongings.\"]\n"
     ]
    },
    {
     "name": "stderr",
     "output_type": "stream",
     "text": [
      "\r",
      " 16%|█████████████████████████▎                                                                                                                                         | 153/986 [30:29<3:07:38, 13.52s/it]"
     ]
    },
    {
     "name": "stdout",
     "output_type": "stream",
     "text": [
      "generated explanation: <pad> <extra_id_0> A backpack is a great place to store knives if you are planning to bring them outside. It is a great way to store them safely and securely, without worrying about them being damaged. A backpack is a great way to store knives and other sharp objects that can be used to cut and chop vegetables, fruits, and other small objects. It is also a great way to store small items, such as keys, change, or small bills. A backpack is a great way to store small items, such as small keys, cash, wallet, or a knife, or a pocket for them. It is also a great way to carry knives with you. A backpack is also a great way to store knives, making it a great way to store knives. It is also a great way to store knives, and keep track of them safe and easy to carry. It is also a great way to store important to keep an eye on the go. A backpack is a great way to store some of if you are planning to bring some knives with you. It is a great way to store knives and other items, such as a scabobrisk of theft. It is also a great way to store other items, such as a laptop, or if you are planning to take them outside. It is a great way to store your knives and other items, such as if you are planning to take them with you. It is also a safe place for them. It is a great way to organize your knives and secure way to transport knives and store them outside. It is also a great way to store them safely and secure them in if you are planning to take them outside, or a backpack is a great way to store them in a backpack or carry them if you are planning to take them outside and carry them safely and easily accessible to carry them safely and secure them safely and easily accessible to store them safely and safely transporting them outside. You can also store them safely and secure if you are planning to take them outside and to store them safely if you are planning to carry them safely and store them safely transport them safely and easily transport them safely store them safely. if you are planning to take them safely and securely, and easily accessible, and safely store them safely, and keep them in a backpack<extra_id_27> </s>\n",
      "########\n",
      "*******\n",
      "question: John watches the well dressed people from a catwalk above the stage.  He listens to them speak rehearsed lines while the audience listens.  Where is he/\n",
      "answer: theatre\n",
      "choices: ['theatre', 'new york city', 'fashion show', 'construction site', 'school play']\n",
      "common expl list: ['Theatres have catwalks where people might observe and listen to actors.']\n"
     ]
    },
    {
     "name": "stderr",
     "output_type": "stream",
     "text": [
      "\r",
      " 16%|█████████████████████████▍                                                                                                                                         | 154/986 [30:39<2:51:35, 12.37s/it]"
     ]
    },
    {
     "name": "stdout",
     "output_type": "stream",
     "text": [
      "generated explanation: <pad> <extra_id_0> John is a stagehand who watches the actors from above the stage. He is there to listen to the actors as they practice their lines, and to listen for the audience. He is there to listen to the actors speak their lines, and to listen for the audience. He is there to listen to the actors as they practice their lines, and to listen to the audience listen. The audience listens to the actors as they practice their lines, and to listen to the music. He is there to listen to the actors as they perform their lines, and to the actors as they are practicing their lines, as they perform. He is there to watch the actors as they are practicing their lines, as they are performing. He is there to watch the actors as they are performing their lines, and to ensure that the audience is listening as they are performing. The actors are able to follow along with the story as they are able to keep up with the audience as they go through the actors as they are given the story. He is there to watch the actors as they are preparing for the scenes. He is also present the story of the audience as he is able to observe the actors as they are able to hear the audience. He is also able to listen to the actors as they are able to rehear the actors as they are able to understand the audience is able to take in the story is important to understand the audience as they are able to<extra_id_27> </s>\n",
      "########\n",
      "*******\n",
      "question: If I am creating art and have completed it to satisfaction, what is my feeling?\n",
      "answer: enlightenment\n",
      "choices: ['enlightenment', 'tired', 'frustration', 'relax', 'controversy']\n",
      "common expl list: ['Enlightenment is the label for a moment of clarity, and the word is often applied to artists who have created something unique or daring.']\n"
     ]
    },
    {
     "name": "stderr",
     "output_type": "stream",
     "text": [
      "\r",
      " 16%|█████████████████████████▌                                                                                                                                         | 155/986 [30:49<2:42:15, 11.71s/it]"
     ]
    },
    {
     "name": "stdout",
     "output_type": "stream",
     "text": [
      "generated explanation: <pad> <extra_id_0> If I have completed a piece of art and have felt satisfied, I have achieved enlightenment. Enlightenment is the state of completeness that occurs when you are able to see the world through the eyes of an artist or a creative person. This is a state of awareness that comes with the realization that you have created something that you are proud of. Enlightenment is the state of being in the midst of creating art. It is a state of being able to see the world through the eyes of the work. This is a feeling of satisfaction when you are satisfied. This is a feeling of satisfaction and satisfaction. It is a sense of being in the knowledge that you have achieved something that you have achieved something that you have created something that you have achieved your work. It is a state of being in the mind and soul. This state of being in a state of being a state of being in which is able to see the world around you. It is a state of a state of satisfaction and joy. This is a state of pure joy and a state of being. It is a state of being in a state of being in a state of being in a state of being a state of being in a state of being in a creative process. It is a state of satisfaction and a state of joy and satisfaction when you are in able to see the world. It is a state of being a state of a state of being.</s>\n",
      "########\n",
      "*******\n",
      "question: He was serious and pragmatic, so why did he drive his car?\n",
      "answer: transportation\n",
      "choices: ['transportation', 'car crash', 'death', 'sleepy', 'stress']\n",
      "common expl list: ['People often drive cars to get from one place to another.', 'Because driving is the most practical mode of transportation judging by the time and distance required to do so.']\n"
     ]
    },
    {
     "name": "stderr",
     "output_type": "stream",
     "text": [
      "\r",
      " 16%|█████████████████████████▊                                                                                                                                         | 156/986 [31:04<2:56:41, 12.77s/it]"
     ]
    },
    {
     "name": "stdout",
     "output_type": "stream",
     "text": [
      "generated explanation: <pad> <extra_id_0> He was serious and pragmatic, so why did he drive his car? He was serious and pragmatic, so he had to drive his car. He was serious and pragmatic, so he had to drive his car. He had to drive his car to get to work, to get to work, and to get to his destination. He had to drive his car because it was convenient and he had to get to work on time. He had to drive his car because he had to get to work. He had to drive his car because a serious and pragmatically. He was serious and pragmatic, and pragmatic, and pragmatic, so he had to get to work. He had to get to work and to get to get to work and to work. He had to get to work, and to get to school and work. He had to get to know his car so he could use it for transportation because he could get to work. He had to get to work, and get to work faster and get to work. He had a car for work, and get to work. He had to drive his car for work because it was a pragmatic man. He had to get to work and to get to his job. He had to get to work, and to work, and to work. He had to drive his job, and to get to work, and to be a car for transportation to work, and to work. He had to get to work, and to be a job, and to be a job, and to be a job. He had to be a job and was serious and pragmatic, and pragmatic, and pragmatic, and to work, and to drive because he had to be pragmatic and pragmatic, and pragmatic, and pragmatic, and pragmatic, because he was serious and pragmatic, so pragmatically pragmatic, so that he could be a job, and be serious and pragmatically driven to drive his car because he was a job, and work, and be serious and pragmatic, a car because he was serious and pragmatic, so that he was serious and pragmatically, a job, and to be pragmatically, pragmatic, and pragmatically, because a car a pragmatically a job, hea business, pragmatically, and pragmatic, so pragmatic, pragmatically, and pragmatic, to transportation to a pragmatically, pragmatic</s>\n",
      "########\n",
      "*******\n",
      "question: What does god want people to do for money?\n",
      "answer: work in life\n",
      "choices: ['work in life', 'speak to people', 'everywhere', 'sitting ideal', 'care for people']\n",
      "common expl list: ['The scriptures explain that people should acquire money by providing good products or services, e.g., to bring value to other people and make a living.']\n"
     ]
    },
    {
     "name": "stderr",
     "output_type": "stream",
     "text": [
      "\r",
      " 16%|█████████████████████████▉                                                                                                                                         | 157/986 [31:13<2:40:13, 11.60s/it]"
     ]
    },
    {
     "name": "stdout",
     "output_type": "stream",
     "text": [
      "generated explanation: <pad> <extra_id_0> God wants people to do work in life for money because it is the only way to get the money that God wants. Money is the currency of wealth, and it is the only way to get the freedom to live the life that God has planned for us. This freedom is a gift from God to us, and it is a gift that we can give to others. Money is the currency of life, and it is earned through work. It is the currency of wealth, and it is used to pay for goods and services. Money is the currency of life. It is a way to get the money, and to live a fulfilling life that God is a way. Work is a way to earn money, and to give us the freedom to live the life we can have the freedom to live a fulfilling life that we can enjoy the freedom to live in a fulfilling life that we can have. It is also a way to give back to others and to live a way that God is a way to give back to give back to the world. It is a way to give back to the Lord. It is a way that we can give to others. It is a way of giving back to us to give to the world. It is a way to give back to the world. It is a way to give back to God. It is a way to give back to the world.</s>\n",
      "########\n",
      "*******\n",
      "question: What can happen after doing housework that does not involve pain?\n",
      "answer: become tired\n",
      "choices: ['become tired', 'stress', 'put on shoes', 'backache', 'low pay']\n",
      "common expl list: ['Housework can be tiring, and so, after doing it, one might become tired.', 'Doing housework is likely to tire someone out. Being tired increases the likelihood of restlessness and uneasiness.', 'Raking, sweeping, and dusting are common forms of housework. After all the physical labor of these activities, someone \\xa0might become tired and take time off from housework chores, but not have een doing any housework tasks that']\n"
     ]
    },
    {
     "name": "stderr",
     "output_type": "stream",
     "text": [
      "\r",
      " 16%|██████████████████████████                                                                                                                                         | 158/986 [31:16<2:04:07,  8.99s/it]"
     ]
    },
    {
     "name": "stdout",
     "output_type": "stream",
     "text": [
      "generated explanation: <pad> <extra_id_0> After doing housework that does not involve pain, the body will<extra_id_1> s<extra_id_2> Housework that does not involve pain is often done<extra_id_3>. Housework does not involve pain and does not involve any physical exertion. However, it can be tiring. Tiredness is a common symptom of tiredness and it can be a sign of stress, anxiety, or depression. Tiredness is a common symptom of housework that can be avoided by simply reducing the amount of physical exertion done. This is because it can be a physical exerti</s>\n",
      "########\n",
      "*******\n",
      "question: James sat in a chair and listened to the speaker.  Where might James be?\n",
      "answer: auditorium\n",
      "choices: ['synagogue', 'grocery store', 'auditorium', 'confession', 'office']\n",
      "common expl list: ['James was likely in an auditorium, because he was listening to a speaker.']\n"
     ]
    },
    {
     "name": "stderr",
     "output_type": "stream",
     "text": [
      "\r",
      " 16%|██████████████████████████▎                                                                                                                                        | 159/986 [31:25<2:06:04,  9.15s/it]"
     ]
    },
    {
     "name": "stdout",
     "output_type": "stream",
     "text": [
      "generated explanation: <pad> <extra_id_0> James might be in an auditorium because auditoriums are often large, comfortable and well-lit places to listen to speakers. This makes them an ideal place for James to listen to a speaker. James might be in an auditorium because it is a place where the speaker can speak and the audience can hear him clearly. Audiences are typically large, airy spaces, filled with people and things to notice, such as the speaker’s voice, and the audience is often able to hear the speaker in a comfortable and relaxed manner. In short, the auditorium, James might be in an auditorium because of the speakers’s’s’s. This means that he could be in an auditorium and participate in a conference or even take a short time. In addition, auditoriums are often equipped with the necessary equipment to conduct a successful audience. In addition, the audience is likely to be comfortable and productive space. Audiences are often a quiet and comfortable place to listen to the speaker. In conclusion, auditoriums are often equipped with the right people to listen to the words and ideas being given by the speaker. This is a great way for James to connect with the audience and the speaker’s style of the audience. It is a great way to connect with the speaker and to the subject matter of the speaker. In conclusion, James might be in an auditorium, such as a comfortable and engage in a comfortable environment.</s>\n",
      "########\n",
      "*******\n",
      "question: John thought that Mary was beautiful despite her injury.  But Mary believed that she was what?\n",
      "answer: misshapen\n",
      "choices: ['wrong', 'overcast', 'homely', 'bad', 'misshapen']\n",
      "common expl list: [\"If Mary believes she doesn't look normal, but someone else thinks she is beautiful, perhaps she could feel like her form is misshapen.\"]\n"
     ]
    },
    {
     "name": "stderr",
     "output_type": "stream",
     "text": [
      "\r",
      " 16%|██████████████████████████▍                                                                                                                                        | 160/986 [31:37<2:16:49,  9.94s/it]"
     ]
    },
    {
     "name": "stdout",
     "output_type": "stream",
     "text": [
      "generated explanation: <pad> <extra_id_0> Mary believed that John thought that she was beautiful despite her injury. She believed that John thought that she was beautiful despite her injury because she was beautiful despite her injury. She believed that Mary was beautiful because she was beautiful because she was beautiful because she was beautiful because she was not in good shape. She believed that John thought that she was beautiful because she was beautiful because she was in good shape because she was not injured. She believed that she was beautiful because she was not in good shape because of her injury. She believed that John thought that she was beautiful because she was in good shape and that John thought that Mary was beautiful because she was beautiful because she was beautiful because she was in good looking and not so she was beautiful because she was in good health. But she was in fact, because she was in good looking at first-shaped because she was in good shape because she was not in good shape. John thought that she was beautiful because she was in good shape because she was in good shape because she was in good shape because of her injuries. She believed that she was beautiful because she was in good shape because she was in good shape because she was in good health and that was beautiful because she was in good shape because she was in good shape. She believed that she was in good shape because she was in good shape because she was in good shape because she was in good shape and in good health because she was in good shape and she was in good shape and because of her beauty because she was in good shape and not in good shape because she was in good shape and not in good shape because she was in John’s beautiful because she was in good shape because she was in good shape because she was in good shape and because she was not in shape because she was in good shape because she was in good shape because she was beautiful because she was in good shape and so beautiful because she was in good shape and not in<extra_id_27> </s>\n",
      "########\n",
      "*******\n",
      "question: Where does my body go after I am no longer living?\n",
      "answer: graveyard\n",
      "choices: ['zombie', 'bodycam', 'coffin', 'graveyard', 'funeral']\n",
      "common expl list: ['When a person dies, it is common to bury their bodies in locations called graveyards.', 'Corpses are buried in graveyards.', 'When one dies, their body is buried in a graveyard.']\n"
     ]
    },
    {
     "name": "stderr",
     "output_type": "stream",
     "text": [
      "\r",
      " 16%|██████████████████████████▌                                                                                                                                        | 161/986 [31:55<2:49:48, 12.35s/it]"
     ]
    },
    {
     "name": "stdout",
     "output_type": "stream",
     "text": [
      "generated explanation: <pad> <extra_id_0> My body goes to the graveyard after I have died. A graveyard is a place where my body goes after I have passed away. It is a place where my body goes after I have died. It is a place where my body goes to rest and dies. It is a place where my body can go to rest and die. It is also a place where my body can go to rest in peace. A graveyard is a place where the body goes to rest and where the body is buried. A graveyard is a place where the body goes to rest. It is a permanent place that is also a place where my body goes after I have passed away. It is a place where my body goes to rest and die. It is a place where the body goes to rest and dies. It is a final place where the body is laid to rest in peace. The graveyard is a place where the body goes to rest in peace and mourning. It is a place where the body is remembers are buried and mourners are taken to rest in peace. Graveyards are also places where the body can be taken up and put into the graveyard. It is a place to remember the deceased. The body is taken to a place to rest in a final rest in a place of peace and grief. It is a place where the body goes to rest and heal and to rest in graveyard. It is a place of peace and to remember the body and memory. It is a place of the soul and memory of the final rest. It is a place to remember the final goodbye to remember the body and to go after I die. The graveyard is a place where the body goes after I have died and remember my body goes after I have died and my body goes after I have passed away after I have passed away from this, and remember my body goes after I have passed away. It is a place of peace and<extra_id_27> It is a place of peace and remember the body and remember my body goes after I have passed away from the body goes after I have been taken away from there are a peace and remember the body and peace. It is a place where my body goes after I have a graveyard and the body goes after I have passed away, and take my body goes after I have passed away after I have passed, and<extra_id_27>\n",
      "########\n",
      "*******\n",
      "question: Where can you find a bar before traveling a long distance?\n",
      "answer: airport\n",
      "choices: ['las vegas', 'public house', 'airport', 'restaurant', 'michigan']\n",
      "common expl list: ['Bars are often located in airports, and so if a person was traveling a long distance, they might stop at an airport bar.']\n"
     ]
    },
    {
     "name": "stderr",
     "output_type": "stream",
     "text": [
      "\r",
      " 16%|██████████████████████████▊                                                                                                                                        | 162/986 [32:07<2:49:14, 12.32s/it]"
     ]
    },
    {
     "name": "stdout",
     "output_type": "stream",
     "text": [
      "generated explanation: <pad> <extra_id_0> A bar at an airport is a great way to find a place to relax and enjoy a drink before traveling long distances. Airports are often a place of calm and relaxation, where travelers can enjoy a drink and socialize with other travelers. Bars are often located in designated areas, such as the security checkpoints, the baggage claim area, and the departure lounge. Airports are also often a good place to find a variety of food and drink options. Airports are also often a place for people to drink and other travelers to enjoy a meal or drink before they board the plane. Airport bars are usually located in designated areas, such as the security lines, security, and other areas, and other security. This is especially at airports, where people can find a variety of beverages. Airports are also often crowded, and often have a bar. Airports are also often located near security. Bars are usually located in the terminal, and are usually located near security check-gateway. This allows travelers to relax and enjoy a drink while traveling. Airports are also often located near the airport. Airport bars are often located in the gate, making it an ideal place to grab a drink and find a bar at the gate. This is especially important for travelers who are traveling long distances. Bars are often located near the security checkpoints and provide a place to grab a place to grab a place to grab a bite and a place to grab a place to grab a snack and a place to grab and grab a drink before they board. This allows them to relax and enjoy a place to find a place to grab a place to grab a drink and find a place to find a place to find a place to find a place to find a drink before traveling long distance.</s>\n",
      "########\n",
      "*******\n",
      "question: Where might a small ball be bounced from?\n",
      "answer: child's hand\n",
      "choices: ['soccer game', 'street', 'toy store', \"child's hand\", 'on the sidewalk']\n",
      "common expl list: ['Since children enjoy bouncing balls, and they are also relatively small, they would bounce a ball from their hand.', 'A ball much like a toy, and kids often play with them on the streets and sidewalks.']\n"
     ]
    },
    {
     "name": "stderr",
     "output_type": "stream",
     "text": [
      "\r",
      " 17%|██████████████████████████▉                                                                                                                                        | 163/986 [32:19<2:46:07, 12.11s/it]"
     ]
    },
    {
     "name": "stdout",
     "output_type": "stream",
     "text": [
      "generated explanation: <pad> <extra_id_0> A ball bounced from a child's hand is a form of play that involves bouncing a small ball. This is because the ball is thrown from a child's hand, which is the most common place for a ball to bounce. A child's hand is the most common place for a ball to bounce from, as it is the most common place for a child to bounce a ball. A child's hand is the most common place for a ball to bounce from, as it is the most common place for a child's hand is usually a ball to land on the ground, or in the child's hand. This is because it is the most likely to land on the ground. This is because it is the most common for children to bounced balls, and it is a child's hand is the most likely to be a child's hand is the ball is bounce from the ground. This is because it is the most likely to land on the ground, as it is a child's hand is likely to bounce a ball will be thrown from the child's hand is the most likely the ball. This is because it is likely to be a child's hand is the most common place for a ball to bounced from a child's hand is more likely to be able to make a ball to be bounce from the child's hand to make a ball. A ball bounced from the child's hand is more likely to be a child's hand is more likely to be a safer than a child's hand than able to be bounce from the child's hand is more likely to be a child's hand is likely<extra_id_27> </s>\n",
      "########\n",
      "*******\n",
      "question: Where do families begin?\n",
      "answer: wedding\n",
      "choices: ['wedding', 'around dinner table', 'supermarket', 'dinner together', 'park']\n",
      "common expl list: ['A wedding is a ceremony in which two people get married, and thus a wedding is where a family begins.']\n"
     ]
    },
    {
     "name": "stderr",
     "output_type": "stream",
     "text": [
      "\r",
      " 17%|███████████████████████████                                                                                                                                        | 164/986 [32:30<2:40:15, 11.70s/it]"
     ]
    },
    {
     "name": "stdout",
     "output_type": "stream",
     "text": [
      "generated explanation: <pad> <extra_id_0> The wedding is the most important event in a family's life. It is the beginning of a lifetime of love and bonding. A wedding is the first step in a family's journey to build a lasting relationship. It is the place where the two families come together and begin a new life together. A wedding is the beginning of a new life together. A wedding is the first step in a family's life and the beginning of a new one. The wedding is the first step in a new journey together. The wedding day is the most important for the two families to be together. The wedding is also the most important to remember the day. The wedding is also the time to celebrate together. Then the family's journey together as they grow together and become a family. The wedding is the beginning of a new family and the foundation for them as they become a part of their life together as they become one another. The wedding is the most important event in a family. It is also the time of celebration and the most important part of their lives. The wedding is the lasts for the family and the end of them. The wedding is the most important time for families to grow and prospering together. Thenos are also a time to create memories that will help them grow and build a sense of belonging. The wedding is a time to create memories and support group of friends and support each other. The wedding is the foundation for them. It is the beginning of a new life and provides the foundation for them. It is the foundation of memories that will last forever.</s>\n",
      "########\n",
      "*******\n",
      "question: He enjoyed reading newspaper, he consider what a subscription?\n",
      "answer: buying\n",
      "choices: ['gifting', 'buying', 'money', 'literacy', 'knowing how to read']\n",
      "common expl list: ['Buying a subscription to a newspaper is a way to get the newspaper delivered to your home.']\n"
     ]
    },
    {
     "name": "stderr",
     "output_type": "stream",
     "text": [
      "\r",
      " 17%|███████████████████████████▎                                                                                                                                       | 165/986 [32:40<2:32:31, 11.15s/it]"
     ]
    },
    {
     "name": "stdout",
     "output_type": "stream",
     "text": [
      "generated explanation: <pad> <extra_id_0> He enjoyed reading newspaper, he considered a subscription a good way to get a better understanding of the newspaper and its content. A subscription is a way to get a better understanding of what is available and what is not available. A subscription allows a reader to access a wider range of content, including the latest breaking news, sports news, and entertainment. A subscription also allows the reader to purchase additional content as needed. A subscription also allows the reader to access additional content such as interviews, contests, and other events. A subscription also provides a greater chance to access to articles and features like features like articles, and features such as articles, and features. It also provides a means that the newspaper is available for a greater chance to find articles and other news. A subscription also provides a means that the newspaper whenever the reader is in a particular time. A subscription also allows the newspaper is a better way to pay for more than one can spend money on a single issue of articles and features. A subscription also allows the reader to choose the newspaper to choose the newspaper to read more articles and features. It also allows the reader to choose the newspaper, which is available in different features. A subscription also allows the reader to choose what type of newspaper to read, and other content. A subscription also allows the reader to choose the newspaper to choose from a subscription option. This allows him to choose between different features, such as sports, and other content.</s>\n",
      "########\n",
      "*******\n",
      "question: What does an animal do when it becomes old?\n",
      "answer: feel pain\n",
      "choices: ['live long', 'leave home', 'feel pain', 'eating', 'sense fear in human']\n",
      "common expl list: ['Ageing animals may have chronic pain as part of the body losing function as it ages.']\n"
     ]
    },
    {
     "name": "stderr",
     "output_type": "stream",
     "text": [
      "\r",
      " 17%|███████████████████████████▍                                                                                                                                       | 166/986 [32:51<2:32:31, 11.16s/it]"
     ]
    },
    {
     "name": "stdout",
     "output_type": "stream",
     "text": [
      "generated explanation: <pad> <extra_id_0> When an animal becomes old, it begins to feel pain. Pain is the physical sensation of pain that an animal experiences when it is old. Animals are able to sense pain through their sense of smell, touch, and hearing. This pain is caused by the loss of a vital organ, such as a heartbeat, or sweat. Animals can also feel pain from other bodily functions, such as hunger, thirst, and nausea. This pain is caused by a lack of oxygen, which can lead to a decrease in appetite and increase. This is why animals can feel pain when they are old. This is because they are unable to feel pain, which can cause them to feel pain. This pain is caused by a lack of energy, which can lead to take longer periods of pain and can cause an animal to feel pain. It can also lead to a loss of consciousness, which can cause pain. Animals can also feel pain, as they become old and lose their ability to feel pain. This pain can be caused by the loss of their ability to recognize the animal’s feelings of pain, and to recognize it as a response to pain. This can lead to a change in its ability to feel pain. It can cause pain, which can cause a variety of emotions, and cause pain. It can be a pain to an animal to feel pain. This can lead to a loss of vital organ, which can lead to a loss of energy, which can lead to a decrease in the animal’s ability to feel pain. This can lead to a decrease its ability to its ability to<extra_id_1> </s>\n",
      "########\n",
      "*******\n",
      "question: What entity would have a fire extinguisher in their boardroom?\n",
      "answer: most businesses\n",
      "choices: ['boat', 'apartment', 'public building', 'most businesses', 'chemistry lab']\n",
      "common expl list: ['Most businesses would have a fire extinguisher in their boardroom, because they are likely to have a fire in their boardroom.']\n"
     ]
    },
    {
     "name": "stderr",
     "output_type": "stream",
     "text": [
      "\r",
      " 17%|███████████████████████████▌                                                                                                                                       | 167/986 [33:00<2:23:26, 10.51s/it]"
     ]
    },
    {
     "name": "stdout",
     "output_type": "stream",
     "text": [
      "generated explanation: <pad> <extra_id_0> Having a fire extinguisher in your boardroom is a good idea for most businesses because it helps to keep the environment safe and clean. Fire extinguishers are often used in boardrooms because they can be used to protect valuable assets, such as cash, inventory, and sensitive information. They can also be used to identify suspicious activities, such as theft, and to help prevent future incidents. A fire extinguisher in a boardroom is a good idea for many businesses because it helps to keep the business running smoothly and can be used to preventative. It can also help to keep employees and employees safe from potential danger and hazards. It also helps to keep employees and employees safe in the boardroom. It also helps to keep employees and management informed about any potential hazards, and threats to employees. It also helps to ensure that all emergency situations are kept informed about potential hazards. It also helps to ensure that all parties are aware of any potential threats. It also helps to keep employees and their families and employees are aware of any potential threats. It helps to keep employees and employees from potential threats. It is also important to keep them safe and<extra_id_27> </s>\n",
      "########\n",
      "*******\n",
      "question: Where can someone go and buy cheese?\n",
      "answer: market\n",
      "choices: ['pizza', 'bar', 'fridge', 'market', 'refrigerator']\n",
      "common expl list: ['Cheese is a dairy product and can be purchased at markets, for the most part.', 'Cheese is sold at markets.']\n"
     ]
    },
    {
     "name": "stderr",
     "output_type": "stream",
     "text": [
      "\r",
      " 17%|███████████████████████████▊                                                                                                                                       | 168/986 [33:15<2:40:51, 11.80s/it]"
     ]
    },
    {
     "name": "stdout",
     "output_type": "stream",
     "text": [
      "generated explanation: <pad> <extra_id_0> A market is a public place where people can go to buy cheese. It is a popular food source in many countries, such as the United States, Canada, and other European countries. Markets are usually located in rural or urban areas, and are a great place for people to go and buy cheese. Cheese is a popular cheese that is made from milk, cheese, and other dairy products. Markets are also a great place to buy fresh produce, such as apples, tomatoes, and other vegetables. Markets are also a place to sell cheese. This is because of the cheese is usually a variety of cheese available in a wide variety of cheese, and other cheeses. Markets also offer a variety of cheese, as well as other cheeses. This makes it more expensive than the cheese could be bought at a store. Cheese is also a great way to buy fresh and preserve cheese. This is because cheese is a great source of calcium, which is a source of calcium, which is a great source of calcium. Markets are also a great place to buy cheese. This is because cheese is a great place to buy cheese, and it is a great place to buy cheese. It is a great way to buy cheese and other dairy products. Markets also provide a place to buy cheese. This is important because cheese is a great way to get cheese. It is a great source of calcium, protein and calcium-based protein-based source of calcium, which is a great source of calcium-rich source of calcium and calcium. It is a great source of calcium-rich foods that are low-protein-rich in the protein that is high in calcium, and protein-protein source of calcium and protein-rich source of calcium-rich protein-rich protein source of calcium, which is a great source of calcium, and source of protein-rich protein-protein-rich protein source of calcium-protein-protein-protein-protein-protein-protein-rich protein-rich protein-based protein-protein. It is also a source of calcium-rich protein-protein-protein-protein-protein-protein-rich foods, which<extra_id_27> <extra_id_27> </s>\n",
      "########\n",
      "*******\n",
      "question: Where would you carry food while on a long walk in the countryside?\n",
      "answer: backpack\n",
      "choices: ['backpack', 'table', 'jar', 'box', 'container']\n",
      "common expl list: [\"Because backpacks are designed to be carried on one's back, they are the most convenient way to carry food while on a long walk.\", 'Instead of carrying a jar or container, filling your backpack with food might not disrupt your movements as much when you are walking.']\n"
     ]
    },
    {
     "name": "stderr",
     "output_type": "stream",
     "text": [
      "\r",
      " 17%|███████████████████████████▉                                                                                                                                       | 169/986 [33:29<2:49:25, 12.44s/it]"
     ]
    },
    {
     "name": "stdout",
     "output_type": "stream",
     "text": [
      "generated explanation: <pad> <extra_id_0> A backpack is a great way to carry food while on a long walk in the countryside. It is easy to carry and is usually a good choice for carrying food while on a long walk in the countryside. A backpack is a great way to carry food while on a long walk in the countryside. It is a good way to carry extra food while on a long walk in the countryside, as it is less likely to be wasted. A backpack is also a great way to store food while on a long walk in the countryside. A backpack is also a convenient way to store food. It is also a convenient way to carry extra food while you are hiking. It is also easy to carry extra food while on a long walk in the countryside. A backpack is a great way to carry food while you are on a long walk in the countryside. It is also a great way to carry food while you are on a long walk. It is also a great way to store food while you are out and around while on a long walk. Backpacks are a great way to store food and to store food while on a long walk. It is a long walk in the countryside is a great way to store food while on a long walk in the countryside. It is a great way to store food while on a long walk in the countryside. It is also a great way to carry water and to store water bottles of water, and protect your back. It is a great way to store food while on a long walk in the countryside. It is a long walk in the countryside is a backpack to store food while on a long walk in the countryside, and easy to store and carry food while on a long walk in the countryside. It is easy to store food while on a long walk, and carry food and on long walk in the countryside and ensure safety and safe place to store your back and a long walk in a long walk in the countryside. On a long walk, backpack is a long walk in the countryside is a long walk in the countryside.</s>\n",
      "########\n",
      "*******\n",
      "question: What could a driver do that could distract him or her while he or she is in a driving car?\n",
      "answer: smoke\n",
      "choices: ['use mobile phone', 'car crash', 'smoke', 'backache', 'automobile accidents']\n",
      "common expl list: ['Smoking is a common activity that people do while driving, and it could distract them from driving.', 'It can be tricky to smoke and concentrate on driving at the same time, and research has found that smoking in a car with children present is very dangerous.']\n"
     ]
    },
    {
     "name": "stderr",
     "output_type": "stream",
     "text": [
      "\r",
      " 17%|████████████████████████████                                                                                                                                       | 170/986 [33:37<2:34:17, 11.35s/it]"
     ]
    },
    {
     "name": "stdout",
     "output_type": "stream",
     "text": [
      "generated explanation: <pad> <extra_id_0> Smoking is a common distraction for drivers. Smoking is a common way for drivers to lose track of time in a driving car. Smoking can be distracting to drivers while driving because it can distract drivers from the sights and sounds of the road. Smoking can also be used to distract drivers from the road. Smoking can be distracting to drivers because it can be distracting to the driver and distract them from the task at hand. Smoking can also be distracting to the driver because it can be distracting to the driver. It can also be a distraction because it can be a distraction to the driver and cause of distraction. Smoking can be distract drivers because it can be distracting to the driver because it can cause drivers to lose focus and distract them from the road. Smoking can also be dangerous because of the harmful effects of if it is present. Smoking can also be harmful to the driver and distract the driver from the road. Smoking can also be a distraction for drivers because it can cause them to become distracted while driving. Smoke can be harmful to drivers and can cause them to them. It can be a source of stress and cause them to become overwhelmed with the task. Smoking can also cause drivers to become distracted by the noises that it can cause distractions. It can be distract the driver and can be harmful to the driver.</s>\n",
      "########\n",
      "*******\n",
      "question: The fat man wanted to make a change in his life and make sure it stayed what?\n",
      "answer: permanent\n",
      "choices: ['concretely', 'permanent', 'remain stable', 'stagnant', 'constant']\n",
      "common expl list: ['His making a decision to change and ensuring the decision is made permanent indicates a desire for a stable, permanent life, which does not change.', 'In changing his life, he wants to make sure he remains in the new lifestyle choices, e.g., not become stagnant to bad choices and fall back into bad choices.']\n"
     ]
    },
    {
     "name": "stderr",
     "output_type": "stream",
     "text": [
      "\r",
      " 17%|████████████████████████████▎                                                                                                                                      | 171/986 [33:50<2:38:13, 11.65s/it]"
     ]
    },
    {
     "name": "stdout",
     "output_type": "stream",
     "text": [
      "generated explanation: <pad> <extra_id_0> The fat man wanted to make sure it stayed in his life because he wanted to make sure it stayed permanent. Permanent change in his life is when you make a change in your life to make sure it stays the way it is. Permanent change is when you make a change in your life to make sure it stays the way it is. This means that you have to make sure the change you make is permanent. This is because permanent changes are usually associated with a better quality of life. Permanent changes are when you make a change in your life. Permanent means that you have to make sure your life is happy and healthy. This is because it is when you are fat man is more likely to be happier and healthier. Permanent changes in his life is the right choice. Permanent means that you are in good for you. Permanent changes in your life are able to make sure it is healthy and that you have a healthy lifestyle that is healthy and stays the same way of life. Permanent changes in your health and fitness goals and goals in your life. Permanent changes in your life are the right choice for you. Permanent changes in your life and how you live your life. Permanent changes are important for you and how you make sure that it stays healthy. Permanent changes in your life are the right choice for him. Permanent change is important for you and healthy. Permanent changes in your life and make sure you are happy and that it is for you. Permanent changes in your life are the right choice for you and make sure it stays the way it is important to make sure that you are the right choice for you are the right for you. Permanent changes in your life and make sure you are happy and make sure it is always the right choice. Permanent changes are permanent because permanent because they are right for you. Permanent changes in your life and make sure you live your life are permanent and that you make sure it stays in your life and that you make sure it stays in your life and stays the right choice for you.</s>\n",
      "########\n",
      "*******\n",
      "question: where did many colonial kingdoms originate?\n",
      "answer: europe\n",
      "choices: ['saudi arabia', 'europe', 'united states', 'book', 'monarchy']\n",
      "common expl list: ['Many colonial kingdoms in the past can be traced all the way back to their roots in Europe.', 'Colonies and kingdoms often originate in the mother countries of the colonial or kingdom builders, e.g., entities in the United Kingdom and the Netherlands.']\n"
     ]
    },
    {
     "name": "stderr",
     "output_type": "stream",
     "text": [
      "\r",
      " 17%|████████████████████████████▍                                                                                                                                      | 172/986 [34:00<2:33:09, 11.29s/it]"
     ]
    },
    {
     "name": "stdout",
     "output_type": "stream",
     "text": [
      "generated explanation: <pad> <extra_id_0> Europe is the continent that gave the world colonial power and many of its kingdoms their present form. Europe is the world's largest continent, and many of its colonies were formed in Europe. Europe is the world's largest continent, and many of its colonies were formed in Europe. Europe is the world's largest continent, and many of its colonies were formed in Europe. Europe is the world's largest continent, and many of its colonies were formed in Europe. Europe is the world's largest continent, and many colonies are located in Europe is the a continent a continent that is dominated by the Americas. Europe is the world's, and its economies, and its borders. Europe is the world's largest continent, with more than any other regions, such as the Americas, Asia, and the world's largest continent. Europe is the world's largest continent, and most populace. It is also the largest continent by its rich in trade and resources, and its people. Europe is the continent is also home to many colonies, and its inhabitants, and its cultures, and its people, making it the origins of many coloniagriethen. Europe is the largest continent and its resources, and its cultures. It is the world's largest continent, and its vast territory, and its inhabitants, and its cultural, and its rich in diversity, and its cultures, its people, and its culture, and its people, and its diverse, and its countries, and its people, and its diverse and its rich in its<extra_id_27> </s>\n",
      "########\n",
      "*******\n",
      "question: Where can a television be stored and hidden?\n",
      "answer: cabinet\n",
      "choices: ['apartment', 'living room', 'bedroom', 'kitchen', 'cabinet']\n",
      "common expl list: ['A television can be stored inside a cabinet.', 'A cabinet is a piece of furniture that is used to store items, and televisions are large, and thus, can be stored in cabinets.']\n"
     ]
    },
    {
     "name": "stderr",
     "output_type": "stream",
     "text": [
      "\r",
      " 18%|████████████████████████████▌                                                                                                                                      | 173/986 [34:14<2:42:55, 12.02s/it]"
     ]
    },
    {
     "name": "stdout",
     "output_type": "stream",
     "text": [
      "generated explanation: <pad> <extra_id_0> A television is a large electronic device that is used to display a wide variety of content. It is usually stored in a cabinet, which is a type of storage cabinet. Cabinets are usually made of metal, which is a durable material that is designed to withstand the elements, such as dust, dirt, and dirt. Cabinets are usually made of a variety of materials, such as wood, plastic, metal, and metal. Cabinets are usually made of a high quality material such as steel, copper, or plastic cabinets, which are usually made of metal. Cabinets are typically made of metal, which is usually made of wood, which is a cabinet. The cabinet is made of a steel or metal structure that is made of a cabinet that is made of a steel. The cabinet is usually made of a cabinet, which is made of a metal, which is made of a variety of different materials, each of metal. The cabinet is made of steel, which is made of a cabinet is made of steel, and is a strong and durable material. Cabinets are made of a combination of steel, which is made of a plastic, which is made of a durable material that is made of a cabinet. Cabinets are made of a combination of steel and a steel, which is made of a cabinet, which is made of a cabinet and a glass. The cabinet is made of a metal and is made of a steel and<extra_id_27>. Cabinets are made of a steel and is made of a sturdy and is made of a material that is made of a durable material that is made of a strong steel and is made of a durable material that is made of a strong and durable and resistant to a combination of a high-filled with a plastic and made of which is made of a solid and durable material and is made from a plastic and is made of a popular and made of a steel which is made of a steel and is made of steel.</s>\n",
      "########\n",
      "*******\n",
      "question: what can get a prisoner in more trouble?\n",
      "answer: attempt to escape\n",
      "choices: ['dream of freedom', 'attempt to escape', 'do time', 'fast for days', 'scape jail']\n",
      "common expl list: ['Prisoners serve time, and when a prisoner attempts to escape, they generally serve extra time.']\n"
     ]
    },
    {
     "name": "stderr",
     "output_type": "stream",
     "text": [
      "\r",
      " 18%|████████████████████████████▊                                                                                                                                      | 174/986 [34:32<3:05:51, 13.73s/it]"
     ]
    },
    {
     "name": "stdout",
     "output_type": "stream",
     "text": [
      "generated explanation: <pad> <extra_id_0> Escape attempts are often a form of extortion, and can lead to serious consequences for the prisoner. Escape attempts are often made in a variety of ways, including attempting to escape from a prison, attempting to escape from a prison, or attempting to evade capture. Escape attempts can be dangerous, as they can be dangerous and lead to physical harm. Escape attempts are often accompanied by threats of violence, such as threatening to kill, stealing, or stealing. Escape attempts can also lead to a prisoner may also be used to get a lawyer for the prisoner. Escape attempts to get a prisoner may lead to a lawyer, or a prisoner to get away from the prisoner into a number of ways to get them involved. Escape attempts can lead to serious injury or even death. Escape attempts can lead to a prisoner to get them into trouble. Escape attempts can also lead to other forms of violence, such as threatening or a physical violence or a firearm. Escape attempts can also lead to a prisoner's health problems, and mental health issues later in the prisoner. Escape attempts can also be a prisoner into other forms of violence, such as a gang or drugged by threatening situations. Escape attempts can lead to prisoner to a mental illness or trauma, which can lead to a prisoner to a number of other mental health problems later on their own health or even death threats to them to other mental health issues, such as drug and suicide.</s>\n",
      "########\n",
      "*******\n",
      "question: The crab was separated from his compatriots out in the sea, where was he likely to be?\n",
      "answer: tide pool\n",
      "choices: ['fish market', 'cooking pot', 'tide pool', 'beach sand', 'farm']\n",
      "common expl list: ['Tide pools are regions of shallow, pooled water that are very exposed to air, making them appealing to crabs that have to breathe.']\n"
     ]
    },
    {
     "name": "stderr",
     "output_type": "stream",
     "text": [
      "\r",
      " 18%|████████████████████████████▉                                                                                                                                      | 175/986 [34:41<2:48:01, 12.43s/it]"
     ]
    },
    {
     "name": "stdout",
     "output_type": "stream",
     "text": [
      "generated explanation: <pad> <extra_id_0> The crab was likely to be in a tide pool because it is a place where crabs can be separated from their compatriots out in the sea. Tide pools are a common place for crabs to be found, as they are often located near shores, and are often located in large, shallow waters. This makes it a natural choice for the crab to be stranded in, as it is less likely to be disturbed by currents, waves, or currents. Additionally, a tide pool provides shelter for the crab, as it is likely to be in a place that is more likely to be in the tide pool, as it is less likely to be a place to be in the tide pool, as it is a place for the crab to be able to hunt and eat fish and krillan, and other sea creatures. The crab is likely to be found in a tide pool because it is a place where the crab can hide from the other marine life. The crab is likely to be in a tide pool because it is a place to be found. The crab is likely to be in a tide pool because it is a place where crabs can be found. The crab is likely to be in a tide pool because it is a place where other marine life can be found. The crab is likely to be stranded and to be found.</s>\n",
      "########\n",
      "*******\n",
      "question: What item is smelted out of minerals on the country side?\n",
      "answer: metal\n",
      "choices: ['urban city', 'france', 'metal', 'grass', 'state']\n",
      "common expl list: ['Metals are extracted from mineral mines out in the country side.', 'Products made by smelters tend to be made out of metals, and mining occurs at the country side.']\n"
     ]
    },
    {
     "name": "stderr",
     "output_type": "stream",
     "text": [
      "\r",
      " 18%|█████████████████████████████                                                                                                                                      | 176/986 [34:52<2:40:02, 11.86s/it]"
     ]
    },
    {
     "name": "stdout",
     "output_type": "stream",
     "text": [
      "generated explanation: <pad> <extra_id_0> Metal is a form of material that is made up of metal flakes, which are melted into a smooth, shiny sheet. The metal is made of a variety of materials, such as wood, copper, iron, and steel. It is made from a variety of materials, including natural stones, coal, and other minerals. Metal is a form of metal that is abrasive, so it is not a good choice for cooking. It is a relatively inexpensive and abundant resource, and it is a good way to make a good choice for people who want to buy metal. It is a good choice for people who are looking for. It is also a good choice for a variety of other metals, such as copper, which is also a good choice for those who want to make a safe and sound investment. This is a great way to create a strong metal, which is a great choice for those who want to work with a better choice for metal because of the metal is a good choice for many different from the quality of the country side of the metal. In addition, the country side of metal, the metal is a great choice for people who want to buy or make a decorative item, as it is a good choice for those who want to make a durable material. The metal is a great option for those who want to make a durable material, and can be used to make a variety of items, and durable material. The metal can be used to make a decorative item that is a durable material.</s>\n",
      "########\n",
      "*******\n",
      "question: Where is a good place to store a saw?\n",
      "answer: toolbox\n",
      "choices: ['hardware store', 'tool shed', 'storage', 'tool kit', 'toolbox']\n",
      "common expl list: ['One might likely store a saw in a box with other tools.', 'A toolbox is a container for tools, and a saw is a tool.']\n"
     ]
    },
    {
     "name": "stderr",
     "output_type": "stream",
     "text": [
      "\r",
      " 18%|█████████████████████████████▎                                                                                                                                     | 177/986 [35:05<2:44:35, 12.21s/it]"
     ]
    },
    {
     "name": "stdout",
     "output_type": "stream",
     "text": [
      "generated explanation: <pad> <extra_id_0> A toolbox is a good place to store a saw because it is able to hold and cut the material without having to open the box. It is also a good place to store a drill press, which is a large, heavy piece of equipment that is often used to cut wood. A toolbox is a safe and secure place to store a saw, as it is not prone to rust, and is not likely to be damaged by moisture or other factors. Toolboxes are also generally more compact than a box, and are generally more expensive than a saw. Additionally, toolboxed are also generally more space than the amount of space in a saw. This makes them easier to work and is more cost effective to store a saw in a toolbox. It is also easier to store a saw in a toolbox than a saw, and the saw, as it is less expensive to store a saw in a toolbox. This makes them less likely to break down and is a safer option than a toolbox. This makes it a cheaper option for some. It is also less expensive and is a good place to store a saw. It is easier to store a saw in a toolbox than a toolbox. This is a good place to store a saw and isnedocks, as it is likely to be a toolbox than a toolbox, as it is a toolbox is a larger than other items such as a saw. It is a great way to store a saw and is easier to store a saw and safe place. This is also easier to store a toolbox than a toolbox.</s>\n",
      "########\n",
      "*******\n",
      "question: The jellyfish was pushed along by the water.  It was caught in what?\n",
      "answer: current\n",
      "choices: ['store', 'book', 'park', 'current', 'lake']\n",
      "common expl list: ['Jellyfish are often found in oceans, and oceans have currents.', \"Currents are fast-moving water, and jellyfish can't swim very well, so if caught in a current, it's likely to be being pushed along by the current.\"]\n"
     ]
    },
    {
     "name": "stderr",
     "output_type": "stream",
     "text": [
      "\r",
      " 18%|█████████████████████████████▍                                                                                                                                     | 178/986 [35:26<3:22:41, 15.05s/it]"
     ]
    },
    {
     "name": "stdout",
     "output_type": "stream",
     "text": [
      "generated explanation: <pad> <extra_id_0> The jellyfish is a small fish that lives in shallow water. It is a jellyfish that is caught in shallow water, such as a swimming pool. This jellyfish is a food source for other jellyfish, such as a variety of fish. It is a jellyfish that is usually found in shallow water, such as a lake, ocean, or ocean current. It is a jellyfish that is pushed along by the current, which is a type of water that is found in the ocean. The current is a current that is usually clear, so the jellyfish can be pushed along by the water, causing it to become trapped. The jellyfish is a food source of oxygen, which can be a variety of other fish to a variety of plants, and other aquatic life. The jellyfish is a great way to get out of food, as it is a great way to get caught in a fish. It can get away from the water, as it can get stuck in the water and dies. The jellyfish is a great way to get away from the water. It is a great way to get away from the surface of the jellyfish to escape. The jellyfish can get caught in shallow water and get away from the jellyfish, and can get away from the jellyfish to escape. The jellyfish can be trapped in shallow waters, and get away from the jellyfish. It is a great way to get away from the jellyfish. The jellyfish will eventually die pushed along by the current and escape. This allows the jellyfish to escape and escape. It is a way to escape and escape. It is a great way to escape from the jellyfish and escapes. It is a great way to escape from the water, and escape from the jellyfish, which is pushed along with the water. It is pushed along by the current and escape. It is a great way to escape from the water, and escape from the water. It allows the jellyfish and escape from the water. It is a great way to escape from the water. It is pushed along by the water and escape from the water. It is pushed along by the water and escape. It is pushed along by the water. It is a great way to escape from the water and escape from the water. It is a great way to escape from the water and\n",
      "########\n",
      "*******\n",
      "question: The dime store was full of old donated goods, it reminded the customer of the what?\n",
      "answer: past\n",
      "choices: ['strip mall', 'past', 'shopping center', 'old movie', 'india']\n",
      "common expl list: ['Dime stores were more popular years ago than today. The sight of the old goods reminded the person of the past.']\n"
     ]
    },
    {
     "name": "stderr",
     "output_type": "stream",
     "text": [
      "\r",
      " 18%|█████████████████████████████▌                                                                                                                                     | 179/986 [35:40<3:17:14, 14.67s/it]"
     ]
    },
    {
     "name": "stdout",
     "output_type": "stream",
     "text": [
      "generated explanation: <pad> <extra_id_0> The dime store was full of old donated goods, which reminded the customer of the past. The old donated goods were often worn out, damaged, or simply worn out. The dime store was full of old donated goods, which reminded the customer of the past and the past is a time of nostalgia. The old donated goods were donated to the customer as a way to remember the past and to help them make decisions about their future. The customer was reminded of the past by the smell of old goods and the sight of old items. The dime store was also full of old donated goods, which helped to the customer to make decisions about purchasing the future. The store was also full of newer goods, which helped to make the purchase. The dime store was full of old donated goods, which reminded customers of the past. The old donated goods were given to the customer of the past and the customer of the past. The dime store was also full of old donated goods, which were often used to make decisions about the future. The customer was reminded of the past and the past, as it was full of old donated goods, which were donated to the customer. The customer was reminded of the past and the customer of the past, which was a time when they were donated goods. The customer was also reminded of the past, which was a way to remember the past and the customer of the customer of the past. The dime store was full of old donated goods, which were a way to help the customer remember the past and the customer of the customer. The customer was able to see the customer of the past as it reminded him of the customer of the past and it was a way to reminding the customer of the past and reminded of the customer of the past, and the customer of the past. The customer was reminded of the past that the past was a past was a way of the customer of the customer of the customer of the customer of the past and the customer of the customer of the customer and the past. The customer of the past, which reminded<extra_id_27> </s>\n",
      "########\n",
      "*******\n",
      "question: Where would you put a saw if you do not need to use it soon and your house only has one floor?\n",
      "answer: tool shed\n",
      "choices: ['logging camp', 'in the vehicle', 'tool shed', 'toolbox', 'basement']\n",
      "common expl list: ['A tool shed is a common structure for organizing and storing tools that are infrequently used.', \"A tool shed is a place where tools are stored, and thus, a good place to store a saw if you don't need to use it soon.\", 'The shed is a good place for storing tools when those tools are not in use.']\n"
     ]
    },
    {
     "name": "stderr",
     "output_type": "stream",
     "text": [
      "\r",
      " 18%|█████████████████████████████▊                                                                                                                                     | 180/986 [35:55<3:19:10, 14.83s/it]"
     ]
    },
    {
     "name": "stdout",
     "output_type": "stream",
     "text": [
      "generated explanation: <pad> <extra_id_0> A tool shed is a great place to store a saw if you do not plan to use it soon. A tool shed is a great way to store a saw if you do not plan to use it soon. It is a great place to store a saw because it is portable and can be stored in a variety of places. It is also a great place to store other tools, such as tools such as a chain saw. A tool shed is a great way to store a saw if you do not need to be used often used to store other tools, such as a cabinet, a table, a a saw, or a power tool for future projects. It is also a great way to store a saw if you do not need to use it often. It is also a great place to store tools and equipment. It is also a great place to store a saw if you do not need to use it often used to store a lot of space to store a saw, and is a great place to store a saw if you do not need to use it often. It is important to store a saw a saw if you do not need to use it regularly. It is important to store a saw in if you do not need to use it frequently. It is also a good idea to store if you need to store a lot of space for storage space for when you aren't need to store a lot of space. It is also a lot of space, such as if you need to store a lot of space. It is important to store a saw in if you have a lot of space in a saw in a tool shed because it is likely that you will need to store it in a tool shed if you have a lot of space and do not need to store a saw in if you need to store a lot of space in the future. This is important because of space in a lot of space in a saw, it, and you will be able to store a saw in a saw if you have space in your house, because of space, and if you have a shed, it, and if you have space, and you have a saw, and you have enough space, then you have to store if\n",
      "########\n",
      "*******\n",
      "question: A person might wear his yarmulke when going to where?\n",
      "answer: synagogue\n",
      "choices: ['demonstration', 'concert', 'garage', 'bus stop', 'synagogue']\n",
      "common expl list: ['Synagogue is a place commonly visited by religious Jews. Men wear yarmulkes (skullcaps) because faith requires that they uncover their heads when going before God.']\n"
     ]
    },
    {
     "name": "stderr",
     "output_type": "stream",
     "text": [
      "\r",
      " 18%|█████████████████████████████▉                                                                                                                                     | 181/986 [36:04<2:54:29, 13.01s/it]"
     ]
    },
    {
     "name": "stdout",
     "output_type": "stream",
     "text": [
      "generated explanation: <pad> <extra_id_0> A person might wear his yarmulke when going to a synagogue because it is a symbol of religious purity and reverence. A yarmulke is a layered garment of cloth and a woven fabric that is worn to cover the entire body, including the head and neck. It is typically worn when going to a synagogue, which is a place of worship and a place of worship. It is also a symbol of religious affiliation, symbolizing unity and peace. It is a place of religious services, such as a place of worship, such as a synastrodanehala mosesadamaotesadoesa place of prayer. It is a way to show respect and to wear yarmulke, and to show your willingness to wear it when going to a syna congregation or when going to a syna holiday or a holiday. It is a way to express one's beliefs and honoring the Jewish heritage. By wearing a yarmulke, one can feel the atmosphere of the syna one's<extra_id_27> </s>\n",
      "########\n",
      "*******\n",
      "question: Someone takes up exercising to improve their what\n",
      "answer: physical fitness\n",
      "choices: ['losing weight', 'physical fitness', 'breathlessness', 'muscles', 'lost weight']\n",
      "common expl list: ['Exercising helps people build their physical fitness.', 'Typically people are motivated to exercise in order to become fit.', 'Exercising is a way to improve physical fitness.']\n"
     ]
    },
    {
     "name": "stderr",
     "output_type": "stream",
     "text": [
      "\r",
      " 18%|██████████████████████████████                                                                                                                                     | 182/986 [36:19<3:02:44, 13.64s/it]"
     ]
    },
    {
     "name": "stdout",
     "output_type": "stream",
     "text": [
      "generated explanation: <pad> Someone takes up exercising to improve their physical fitness. Physical fitness is the act of moving your body in a certain direction, such as walking, jogging, swimming, and running. It is a form of exercise that can help build strength and endurance. It also helps to improve your mental and emotional health. Physical fitness is the result of a person's effort and dedication to a particular goal. Physical fitness is the process of gaining strength and endurance, and it can help to improve their mental and emotional state. It can also help to improve their overall fitness. Physical fitness can help to improve their mood and improve their mood. It can be a way to improve mood and mood. It can help to keep them feeling good health and mood. It can also help improve their mental and physical fitness. It can also help to improve their mental health. It can help to improve overall fitness and mental health. Physical fitness can help to improve their overall fitness. It can help to improve overall fitness and improve their overall health. Physical fitness can also help to improve their overall health and happiness. It can help to improve overall physical fitness and overall health. It can also help to improve their mental health. It can also help to keep them active and healthy and help them in a healthy lifestyle. Physical fitness can help to improve their overall health and overall well-being. It can help to improve their overall health and overall well-being. It can help to improve their overall health, and mental health, and mental well-being. It can help to improve their mental health and mental health.</s>\n",
      "########\n",
      "*******\n",
      "question: Where could you see a sloth that is not real?\n",
      "answer: picture book\n",
      "choices: ['bad dream', 'picture book', 'another place', 'universe', 'zoo']\n",
      "common expl list: ['Reality is generally fractured into \"real\" and \"fusion.\" Sloths are real, meaning they exist (in some form) in reality; sloths are not real (in the way depicted) in a picture book.']\n"
     ]
    },
    {
     "name": "stderr",
     "output_type": "stream",
     "text": [
      "\r",
      " 19%|██████████████████████████████▎                                                                                                                                    | 183/986 [36:36<3:14:31, 14.53s/it]"
     ]
    },
    {
     "name": "stdout",
     "output_type": "stream",
     "text": [
      "generated explanation: <pad> <extra_id_0> A picture book is a great way to see a sloth in person. It is a very realistic animal that is often portrayed in pictures. It is a small animal that is often depicted as a tiger or a lion, and the head is positioned so that the sloth is not visible. It is also a great place to learn about the life cycle of a sloth, and how it is able to adapt to changing environmental conditions. A picture book is a great way to learn about the animal, its habitat, and how it is displayed. It is a real sloth is a great place to learn about the life cycle of a sloth and its life. It is a great way to learn about the world around you and how the sloths life. It is a great way to learn about the life cycle of a sloth. It is a great way to learn about the animal and its life cycle. It is a good way to get to understand the life cycle of a sloth and how it is a great place to see a variety of sloths and in a picture book. It is a great way to learn about the importance of a sloth. It is a great way to learn about the importance of a sloth and how to<extra_id_27> of a sloth. It is a great way to learn about life. It is a great way to see a sloth and how to learn about how to see a sloth in a lot of a sloth and how to learn how to understand how to understand how it. It is important to understand the animal and how it works. It is a way to learn about how to see a sloth and how to see a sloth and how to learn about the life cycle and how to understand the importance of life and how it can help people and how to understand how to see how it. It is important to understand how to understand how it is important to understand how to see how to understand how it is important to understand how to see how it. It is a good and how to see how to see a good and how to see how it is important to see how it is important to understand how it is important to see the animal and how it is important to understand how to see it is to understand the world and how it is a\n",
      "########\n",
      "*******\n",
      "question: Where are seats often plush?\n",
      "answer: opera\n",
      "choices: ['rest area', 'theater', 'hockey game', 'classroom', 'opera']\n",
      "common expl list: ['Plush seats are generally found in more comfortabe, well-off establishments, and opera is often performed in such, less strict teents of, elegance of the decor.', 'Opera is a high-class form of entertainment, and thus, the seats are often plush.']\n"
     ]
    },
    {
     "name": "stderr",
     "output_type": "stream",
     "text": [
      "\r",
      " 19%|██████████████████████████████▍                                                                                                                                    | 184/986 [36:47<2:59:43, 13.45s/it]"
     ]
    },
    {
     "name": "stdout",
     "output_type": "stream",
     "text": [
      "generated explanation: <pad> <extra_id_0> Opera seats are often plush because they are made of high-quality materials, such as leather, fabric, and velvet. They are also more comfortable than standard seats, which means they are more likely to be comfortable to sit in. In addition, the plushness of opera seats is a sign of respect for the performers and the audience, as they are more likely to be comfortable in a comfortable position. In opera houses, the plushness of the seats can be a sign of respect for the singers, as they are more likely to be a good source of comfort. This is important because the music is more likely to be comfortable and the audience. Plush seats are also more comfortable than standard seats, which are more comfortable than standard opera houses, as they can be a great investment in the opera house, and comfort of a good deal of space. They can be more comfortable and can be used to be used to provide a great place to sit comfortably. They can be used for performances, which can be a sign of respect for the company. They can also be used to provide a sense of comfort and a sign of a positive experience. They can be a sign of their professionalism, and that they are more than standard. They can be used in a sign of respect for the company. They can also be more likely to be more comfortable and comfortable and are more likely to be comfortable and comfortable than standard seats. They can be used to be more comfortable and comfortable than standard seats. They can also be used to provide a sign of<extra_id_27> </s>\n",
      "########\n",
      "*******\n",
      "question: The comforter was used constantly and treaded upon by everyone, where should it be placed?\n",
      "answer: washing machine\n",
      "choices: ['garbage', 'linen closet', 'bedroom', 'washing machine', 'livingroom']\n",
      "common expl list: ['The comforter was used constantly, so it should be washed frequently. Linen closets are where people store their bed sheets and blankets.', 'When you use your comforter (or any other high-traffic fabric) often, you ought to wash it often too. Therefore it should be kept in the washing machine, to enable quick washing.', 'Linens are often used (i.e., the comforter) and washed frequently.']\n"
     ]
    },
    {
     "name": "stderr",
     "output_type": "stream",
     "text": [
      "\r",
      " 19%|██████████████████████████████▌                                                                                                                                    | 185/986 [36:55<2:39:38, 11.96s/it]"
     ]
    },
    {
     "name": "stdout",
     "output_type": "stream",
     "text": [
      "generated explanation: <pad> <extra_id_0> The comforter was used constantly and was stepped upon by everyone. The comforter was walked upon constantly and was treaded upon constantly. The comforter was placed in a washing machine because it was used to keep the house clean and the environment comfortable. The comforter was placed in the washing machine because it washes and dries quickly and efficiently. The machine also has a built-in drying rack that can be used to dry the comforter quickly and efficiently. The comforter was placed in a washing machine because it washea quick and easy to clean and maintaining a clean. The machine is also equipped with a heated water that can be used to keep the comforter clean and absorbing the dirt and stains from the comforter. The washing machine also provides a clean and freshening cycle. The machine can also help to keep the comforter clean and keep it fresh. The machine can be used to wash the comforter as well as well as a dishwasher. The comforter was placed in a washing machine because it washet be used daily to wash the comforter while it washe washe washe washe washe could be used to clean. The comforter washe<extra_id_27> </s>\n",
      "########\n",
      "*******\n",
      "question: Joe bought a ficus.  He thought it would look good in what part of his home?\n",
      "answer: family room\n",
      "choices: ['family room', 'tropical forest', 'flower garden', 'movie theater', 'hair salon']\n",
      "common expl list: [\"The ficus is an indoor plant, such as a plant one would have in one's family room. The family room is the ideal location for an indoor plant like a houseplant.\"]\n"
     ]
    },
    {
     "name": "stderr",
     "output_type": "stream",
     "text": [
      "\r",
      " 19%|██████████████████████████████▋                                                                                                                                    | 186/986 [37:06<2:35:05, 11.63s/it]"
     ]
    },
    {
     "name": "stdout",
     "output_type": "stream",
     "text": [
      "generated explanation: <pad> <extra_id_0> Joe bought a ficus because it would look good in his family room. He thought it would look good in his home because it is a large, flexible, and durable piece of furniture. It is also a very practical piece of furniture because it is lightweight and can be easily moved around the house. It is also a great way to add some fun to the family room without breaking the bank. The ficus is a great way to add some visual interest to a room. It is a large, flexible piece of wood and can be placed in the family room. The ficus is also a great way to add some color to the room. The ficus is a great way to add some flair to the family room. The ficus is also a great way to adds to the family room. The ficus is a great way to add some color scheme to a room. The ficus is a great way to add some visual interest to a room. It is a great way to add a family room to the overall look. It is a great way to adds to any room. The ficus is a great addition to any room. It is a great way to add some personality to any room. It is also a great way to add some style to any room. It is a great way to add flair to any room. It is a great way to add some style to any room. It is also a great way to add some personality to any room. It is a great way to add a touch of color to any room.</s>\n",
      "########\n",
      "*******\n",
      "question: Family is always the best for devotion, but it is also nice if a person has what?\n",
      "answer: loyal friends\n",
      "choices: ['good review', 'headache', 'with cat', 'loyal friends', 'shoes']\n",
      "common expl list: ['Loyal friends are always there for you, and they will always be devoted to you.', 'We may have devoted friends who would be there for us if we had need.', \"Because times may come when a person would like to go out and have fun with some friends, and it's nice if that person may have friends that he is faithful to.\"]\n"
     ]
    },
    {
     "name": "stderr",
     "output_type": "stream",
     "text": [
      "\r",
      " 19%|██████████████████████████████▉                                                                                                                                    | 187/986 [37:28<3:15:05, 14.65s/it]"
     ]
    },
    {
     "name": "stdout",
     "output_type": "stream",
     "text": [
      "generated explanation: <pad> <extra_id_0> Family is always the best for devotion, but a person can have loyal friends. Friends are always nice to have around, as they can provide support and comfort. They can provide support and comfort when needed. They can provide guidance and support when needed. They can provide encouragement and support when needed. They can also provide insight into the world around them and help guide them in their journey. They can provide insight into the world around them and help them find the right people to help them navigate the challenges that they face. They can also provide the motivation to make the life of the best way to be. They can also provide the support and encouragement to share their faith and support each other to grow. They can provide a sense of community and can provide support and encouragement to others. They can provide support and support each other’t have a safe and secure place to cry for their family members. They can also provide them with the support and encouragement. They can also provide a sense of security and security. They can provide a sense of security when they are in the world. They can provide support and help each other. They can provide encouragement and support when they need them. They can provide the support and support when it is important to be able to provide for their family and support when needed. They can provide the support and encouragement when needed. They can provide a sense of security and help one another when they need. They can provide support when they need. They can provide support when they need. They can provide support and encouragement when they need. They can provide a sense of security and support when they need it.</s>\n",
      "########\n",
      "*******\n",
      "question: Rap is not usually associate with what music often performed by an orchestra?\n",
      "answer: classical\n",
      "choices: ['folk', 'rock', 'good music', 'country music', 'classical']\n",
      "common expl list: ['Rap is generally associated with hip-hop music, which is normally performed by a single artist. Orchestras tend to play classical music, which often is performes with real instruments, rather than manufactured ones.']\n"
     ]
    },
    {
     "name": "stderr",
     "output_type": "stream",
     "text": [
      "\r",
      " 19%|███████████████████████████████                                                                                                                                    | 188/986 [37:44<3:22:07, 15.20s/it]"
     ]
    },
    {
     "name": "stdout",
     "output_type": "stream",
     "text": [
      "generated explanation: <pad> <extra_id_0> Rap is not usually associated with what music often performed by orchestras because classical music is usually associated with a more traditional style of music. It is usually performed by an orchestra and is typically accompanied by a large number of instruments, including strings, oboes, and brass. Classical music is usually performed by an orchestra, which is usually a large ensemble of musicians, and is usually performed by an orchestra with a large number of musicians. The orchestral music is usually composed of a large ensemble of musicians, and includes a large number of instruments, such as oboe, such as oper, which is often performed by a rap. It is usually performed by an orchestra, and often accompanied by a large scale, and a lot of a lot of music, and a lot of music. It is usually performed by an orchestra and is usually performed by an orchestra, but is usually performed by a large number of instruments, and is usually a more classical music than rap. It is usually performed by an orchestra, which is usually performed by an orchestra. It is usually performed by an orchestra, which is usually accompanied by a lot of instruments, and a lot of acous, and often performed by acousars, and a lot of different styles and a lot of a lot of instruments. It is usually performed by a lot of different from the a classical music, and a lot of instruments, and a lot of energy, and energy. It is a great way to get the energy and energy of music, and energy, which is usually a great way to get to get to get the right-for example, and then a classical orchestra, and a great way to get to get into a great way to get into a<extra_id_27>. It is usually a great way to get a great way to get to get into a great deal of energy, and energy, and a great way to get a great way to get a great way to get into the a great way to get the energy into the energy and it into the right, and it down, and can be a great way to get the energy and to create a great feeling, and a great way to get the energy and to get the right. It is a great energy and experience.</s>\n",
      "########\n",
      "*******\n",
      "question: At what structure can you see people you use a puck professionally?\n",
      "answer: hockey rink\n",
      "choices: ['hockey rink', 'locker room', 'sporting goods store', 'used in hockey game', 'teachers']\n",
      "common expl list: ['Pucks are commonly used in ice hockey, which is a professional activity.']\n"
     ]
    },
    {
     "name": "stderr",
     "output_type": "stream",
     "text": [
      "\r",
      " 19%|███████████████████████████████▏                                                                                                                                   | 189/986 [37:54<3:00:44, 13.61s/it]"
     ]
    },
    {
     "name": "stdout",
     "output_type": "stream",
     "text": [
      "generated explanation: <pad> <extra_id_0> A hockey rink is a rink that is used to play hockey and other ice sports. It is a public arena, and people use it to play hockey. It is a popular sport in many countries, but hockey is the most popular sport in North America. Hockey is played on a rink that is primarily a slush-filled surface that is often surrounded by ice, which is often a sand-filled area. The ice is filled with ice that is iced up the rink is a slon the puck is a sand the goal. The rink is a slon is a natural, which is a natural phenomenon. The goal is to provide a safe and fun place for the players. The goal is to provide a safe and fun for the players to practice and to play. The goal is to provide a safe and enjoyable experience for the players to practice and safe environment. The goal is a great way to practice and ring. The goal is to keep the puck in place for the goal. The goal is a great way to learn how to play. The goal is a rink is a great way to improve your skills and confidence. The goal is a great place for players to practice and safe and secure environment. It is a great place to play and<extra_id_27> of how to play hockey a goal is a great place to play. It is a great place to learn how to play.</s>\n",
      "########\n",
      "*******\n",
      "question: Even when not in flight a bald eagle likes to have a lay of the land, because of this you'll see them perched up where?\n",
      "answer: high places\n",
      "choices: ['colorado', 'natural habitat', 'everglades', 'high places', 'tree']\n",
      "common expl list: ['Eagles like to be high up, so they can see a large area.']\n"
     ]
    },
    {
     "name": "stderr",
     "output_type": "stream",
     "text": [
      "\r",
      " 19%|███████████████████████████████▍                                                                                                                                   | 190/986 [38:04<2:45:45, 12.49s/it]"
     ]
    },
    {
     "name": "stdout",
     "output_type": "stream",
     "text": [
      "generated explanation: <pad> <extra_id_0> Bald eagles are a powerful predatory species, and they are known for their ability to spot and prey on prey. Bald eagles are also known for their keen sense of smell, which can help them identify potential predators. Bald eagles are also known for their keen sense of smell, which can be aided by their soaring calls and other noises. Bald eagles are also known to be averse to flying, so they are often found in high places. This is because they are often found in dense forests, which can be found in dense cover. They are also known for their keen sense of danger. This can be seen perched up in high places. This can help them to spot potential danger, and avoid danger. Bald eagles are also known to be found in areas where they are known to hide. Bald eagles are known for their keen to keep their distance from the wind, which can help them to find food and water. Bald es also have a chance of finding and s themselves in the air. Bald eagles are known for their keen sense of smell. This can be used to gain an opportunity to get a great way to get a great place to see a bald es such as apears, or to get a good place to get s and s.</s>\n",
      "########\n",
      "*******\n",
      "question: When is good time for garlic bread?\n",
      "answer: dinner\n",
      "choices: ['refrigerator', 'dinner', 'jail', 'supermarket', 'going on a date']\n",
      "common expl list: ['Garlic bread is often served with dinner.', 'Typical garlic bread is served with a maincourse and wine or other alcoholic beverage, and both are commonly served with dinner.']\n"
     ]
    },
    {
     "name": "stderr",
     "output_type": "stream",
     "text": [
      "\r",
      " 19%|███████████████████████████████▌                                                                                                                                   | 191/986 [38:14<2:36:52, 11.84s/it]"
     ]
    },
    {
     "name": "stdout",
     "output_type": "stream",
     "text": [
      "generated explanation: <pad> <extra_id_0> When is the best time for garlic bread? When is the best time for garlic bread? When is the best time for garlic bread? When is the best time for garlic bread? When is the best time for garlic bread? When is the best time for garlic bread? When is the best time for garlic bread? When is the best time for garlic bread? When is the best time for garlic bread? When is the best time for garlic bread? When is the best time for garlic bread? When is the best time for garlic bread? When is the best for garlic bread? When is the best time for the best time for garlic bread? When is the best time for garlic bread? When is the best time for garlic bread? When is the best time for garlic bread? When it is a great way to add flavor and add a great flavorful aroma. It can be served with a side dish for a light dinner time for a great way to add a little bit of flavor to the perfect time for garlic bread. This is because it can be served toast or as a great time for dinner. It can be served as a light and flavorful meal. Garlic bread can be served with or breakfast or as a hearty breakfast or lunch. It can be served as a great option for a dinner or as a snack. It can be served as toasted or as a side dish. It can be served as a light lunch or dinner. It can be served as a great time for dinner.</s>\n",
      "########\n",
      "*******\n",
      "question: Where is the sky fake?\n",
      "answer: planetarium\n",
      "choices: ['shed', 'atmosphere', 'photo', 'outdoors', 'planetarium']\n",
      "common expl list: ['Planetariums are places built to simulate the sky indoors; the opposite of outdoors.', 'Planetariums are buildings that simulate the sky.']\n"
     ]
    },
    {
     "name": "stderr",
     "output_type": "stream",
     "text": [
      "\r",
      " 19%|███████████████████████████████▋                                                                                                                                   | 192/986 [38:31<2:55:36, 13.27s/it]"
     ]
    },
    {
     "name": "stdout",
     "output_type": "stream",
     "text": [
      "generated explanation: <pad> <extra_id_0> The sky is made up of many different materials and is made up of many different colors and textures. The sky is made up of many different materials and textures, each one of which is a different color and texture. The sky is made up of many different materials and textures, each of which is designed to look different and different. The sky is made up of many different materials and textures, each of which is made up of different materials and textures. The sky is made up of many different materials and textures, each of which is made up of different materials, including the moon, the Earth, which is made up of many different kinds of materials. The sky is made up of many different colors, each of different planetarium, each of these different shapes, each of which is made up of different colors, each of different colors, making it look different. The planeta different color than the sky is made up of different types of different materials, each one of which is made up of different materials, each of which is made up of different types of materials, each of which is made up of different materials, each of each one of different materials, which are made up for different types of materials, each of different types of materials, each one of which are made up of different materials, which make up of different materials, and each. The planetarium is made of different materials, each other up for different textures, each<extra_id_27> of how to make up the sky is made up of different materials, each different colors, each of different textures, and each. The planetarium is made up of different materials, each one of different materials, each of different materials, each. The planeta different texture and each. The sky is made of different materials, and each of different materials, and each. Each of materials and each, each one of different textures, each of which is made up of different types of materials, each of different textures, each of different textures, and colors, each. The planetarium is made up of different textures and colors,<extra_id_27> of the sky. The sky is made up of different colors, and makes up for different textures, and each of different textures, each of different textures, and each, each of a different materials, each of colors, and each of different, which are made up of different colors, each, each of different, and each of which are made up a variety of different colors, and the colors, and each of which make up of a different\n",
      "########\n",
      "*******\n",
      "question: Boats that aren't on the ocean travel across the surface of what?\n",
      "answer: lake\n",
      "choices: ['lake', 'ocean', 'tetrahedron', 'mirror', 'object']\n",
      "common expl list: [\"Lakes (and ponds) are bodies of fresh water surrounded by land, and boats exist on water, and thus, will tend to travel across lakes' surfaces.\"]\n"
     ]
    },
    {
     "name": "stderr",
     "output_type": "stream",
     "text": [
      "\r",
      " 20%|███████████████████████████████▉                                                                                                                                   | 193/986 [38:38<2:33:08, 11.59s/it]"
     ]
    },
    {
     "name": "stdout",
     "output_type": "stream",
     "text": [
      "generated explanation: <pad> <extra_id_0> Boats that aren't on the ocean travel across the surface of a lake. Lakes are a great place for boating because they are relatively flat and often have a flat surface that is not too steep or steep. Lakes are also a great place for boating because they are often a great place for paddling and fishing. Boats that aren't on the ocean travel across the surface of a lake, which is usually a flat surface. Lakes are also a great place for boating. Boats that are also often located on the coast of the water and can cross the surface of the water can be a great place to fish and can also be anchored. Boats can be anchored to the boat and can be easily anchored while being anchored. Lakes can be a great place for sailing. They can also be used to provide a place for boating and fishing. Lakes can be used for boating and can be used to explore the wildlife and explore. Lakes can be used to provide a place for boating. Lakes are also a great place for boating.</s>\n",
      "########\n",
      "*******\n",
      "question: A small dog lived with a a woman who loved him. Where might he have lived?\n",
      "answer: person's house\n",
      "choices: [\"person's house\", 'dog house', 'canada', 'illinois', 'basket']\n",
      "common expl list: ['Animals who live with humans are often in their homes.', \"Dogs are often kept as pets, and pets are often kept in their owners' homes.\"]\n"
     ]
    },
    {
     "name": "stderr",
     "output_type": "stream",
     "text": [
      "\r",
      " 20%|████████████████████████████████                                                                                                                                   | 194/986 [38:46<2:17:52, 10.45s/it]"
     ]
    },
    {
     "name": "stdout",
     "output_type": "stream",
     "text": [
      "generated explanation: <pad> <extra_id_0> A person's house is a common place for a small dog to live. It is a safe and comfortable place for a dog to live. The woman may have been able to provide a dog with food, shelter, and other necessities. The dog may have also been able to provide a bed for him to sleep in, and he may have been able to sleep in if she was able to provide a bed. The dog may have also been able to play with other dogs nearby, and would have a secure place for him to learn how to live in a person's house. The woman may have also had a dog to provide a bed for the dog. The dog may have lived in a person's house because it was able to play with other dogs, such as cats, and other dogs, such as her own bed, and other dogs. The person may have been able to provide a place for the dog to sleep in eat, and play with other dogs, such as cats, and<extra_id_27> </s>\n",
      "########\n",
      "*******\n",
      "question: There are usually four strings on what popular instrument?\n",
      "answer: guitar\n",
      "choices: ['trumpet', 'kite', 'quark', 'guitar', \"bird's nest\"]\n",
      "common expl list: ['A guitar is a stringed instrument with four strings.', 'Guitars have four strings.']\n"
     ]
    },
    {
     "name": "stderr",
     "output_type": "stream",
     "text": [
      "\r",
      " 20%|████████████████████████████████▏                                                                                                                                  | 195/986 [38:58<2:23:07, 10.86s/it]"
     ]
    },
    {
     "name": "stdout",
     "output_type": "stream",
     "text": [
      "generated explanation: <pad> <extra_id_0> The guitar is a popular musical instrument that is often associated with the four strings. The guitar is a popular musical instrument that is typically played on four strings. The four strings are usually played on the same string that is used to play the melody. The guitar is usually played on the same string that is used to play the accompaniment. The guitar is usually played on the two or three strings that are used to play the melody. The guitar is a popular musical instrument that is usually played on four strings. The guitar is a popular musical instrument because it is a musical instrument that is usually played on the four strings. The guitar is usually played on the guitar. The four strings are usually used to create the rhythmically varied musical instrument. The guitar is usually played on the melody and accompaniment. The guitar is usually played on the guitar. The guitar is usually played on the guitar. The guitar is usually played on the four strings. The guitar is usually played on the bass, the guitar. The guitar is a popular musical instrument that is played on the guitar. The guitar is usually played on the strings. The guitar is usually played on the four strings. The guitar is usually played on the bass guitar. The guitar is usually played on the guitar. The guitar is a musical instrument that is usually played on the guitar. The guitar is usually played on the four strings. The guitar is usually played on the four strings, usually four strings. The four strings are usually played on the guitar. The guitar is usually four strings are usually played on the bass, and the guitar is played on the guitar. The guitar is usually four strings are usually four strings. The guitar is a popular musical instrument that is usually four strings are usually four strings are usually<extra_id_27> </s>\n",
      "########\n",
      "*******\n",
      "question: Where would you find a shelf with toys for young people learning?\n",
      "answer: school building\n",
      "choices: ['corner', 'school building', 'wall', 'library', 'bookstore']\n",
      "common expl list: ['School buildings house school libraries, in which you would find shelfs of toys, games and puzzle for students to use while in school.', 'A school building is a place where children learn, and so, a school building would have a shelf with toys for young people learning.']\n"
     ]
    },
    {
     "name": "stderr",
     "output_type": "stream",
     "text": [
      "\r",
      " 20%|████████████████████████████████▍                                                                                                                                  | 196/986 [39:10<2:27:26, 11.20s/it]"
     ]
    },
    {
     "name": "stdout",
     "output_type": "stream",
     "text": [
      "generated explanation: <pad> <extra_id_0> A school building is a great place to find toys for young people to learn. Schools are usually large, open spaces that are designed for learning. The shelves are often located in the middle of the school building, which makes them easy to access and provide young people with a variety of toys to play with. The toys can be found in a variety of materials, including books, magazines, and other educational materials. They can be found in many different locations, but the most common is in the middle of the school building. The shelves can be found in the basement, or in the basement of the school building. The toys can be used as a place to play and can be found in the basement, or in the school. The toys can be found in the basement, or in the basement or in a classroom. The toys can be placed on the floor, or in the classroom. The toys can be used to teach young people about different subjects. The toys can be used to build a structure, such as a playmates, or classrooms. The shelves can be found in the basement, or in the school building. The school building can also be located in the basement, which can be used toys. The toys can be found in the school building, which can be used to teach the English to make learning opportunities for young people to play. The toys can be used to make sure that the students are not damaged or damaged or damaged by other areas, which can be used to help students with other learning. The toys can be used to build a classroom, or even in the school building. The shelves can be used to teach young people to build a classroom or play with, which can be used to teach math, science, which can be used to teach them<extra_id_27> </s>\n",
      "########\n",
      "*******\n",
      "question: What can you get after drinking too much alcohol?\n",
      "answer: sickness\n",
      "choices: ['become drunk', 'have fun', 'active', 'frequent urination', 'sickness']\n",
      "common expl list: [\"Drinking too much alchohol can impair the body and, consequently, one's ability to think straight. It can also cause sickness.\", 'Alcohol is a diuretic, which means that it makes you urinate more frequently. This can lead to dehydration, which can cause sickness.', \"Alcohol (e.g., beer, wine, etc.) is a chemical that alters people's consciousness, making them generally feel unpleasant; subsequently, over-consumption can lead to the vomiting of one's content inside one's stomach. Hence, being\"]\n"
     ]
    },
    {
     "name": "stderr",
     "output_type": "stream",
     "text": [
      "\r",
      " 20%|████████████████████████████████▌                                                                                                                                  | 197/986 [39:20<2:21:59, 10.80s/it]"
     ]
    },
    {
     "name": "stdout",
     "output_type": "stream",
     "text": [
      "generated explanation: <pad> <extra_id_0> After drinking too much alcohol, you may get a sickness. This is due to the fact that alcohol is a stimulant and can cause a variety of symptoms. For example, if you drink too much alcohol, you may get a headache, dizziness, nausea, or both. This is because alcohol is a powerful stimulant and can make you feel dizzy and dizzy. This is because alcohol is a powerful stimulant and can make you drowsy and dizzy. Drinking too much alcohol can cause headaches, dizziness, dizziness and nausea. It can cause headache, nausea, headache, nausea, and vomiting. It can also cause a headache, and fatigue. Overall, drinking too much alcohol can cause serious illness. It is important to drink too soon after drinking too much alcohol, as it can cause headaches and dizziness. It can be very serious a serious side effect on your liver. It can be a serious side effect, as it can be very serious. Drinking too much alcohol can also cause stomach cramps, and nausea. It can be a very serious illness, and can be very serious. It can also be very dangerous to drink too much alcohol, and can be very serious. It can be very dangerous to drink too much alcohol and cause alcohol poisoning, which can cause liver damage, kidney problems, kidney and heart disease. Drinking too much alcohol can cause serious kidney disease and liver damage, liver disease, liver cells and liver damage the effects of drinking.</s>\n",
      "########\n",
      "*******\n",
      "question: WHat is the central bank responding to when they are fighting inflation?\n",
      "answer: problems\n",
      "choices: ['deflation', 'problems', 'spend more', 'people', 'not noticeable']\n",
      "common expl list: ['In order to fight inflation, a central bank must respond to the problem, e.g., economic trouble, which if left alone, would cause inflation', 'Inflation is a function of having too much money in the economy. This may cause problems.', 'Inflation is a problem, and the central bank is responding to it by fighting it.', 'Periods of inflation cause problems for businesses and people. The central bank may take steps to fight inflation (reduce it) to respond to this problem. Reducing inflation also solves the overall issues.']\n"
     ]
    },
    {
     "name": "stderr",
     "output_type": "stream",
     "text": [
      "\r",
      " 20%|████████████████████████████████▋                                                                                                                                  | 198/986 [39:31<2:22:22, 10.84s/it]"
     ]
    },
    {
     "name": "stdout",
     "output_type": "stream",
     "text": [
      "generated explanation: <pad> <extra_id_0> The central bank is responding to problems when they are fighting inflation. The central bank is responding to problems when they are fighting inflation because they are concerned about the long-term stability of the economy and the level of inflation. Inflation is a major cause of economic instability and instability, and the central bank is trying to control it through monetary policy. The central bank is trying to reduce inflation by lowering the level of interest rates and lowering the interest rate of money that flows into the economy. The central bank is trying to reduce the amount of money that is being created by the money supply of money market and the money supply of money needed to cover the costs of inflation. The central bank is trying to reduce inflation by increasing the price of money supply and the money supply of money needed to keep the inflation rate. The central bank is trying to find ways to reduce inflation. By monetary policymakers are trying to reduce the inflation, the central bank is trying to reduce inflation by reducing the number of dollars that are needed to keep up. The central bank is responding to the problems that are created by the money flow of money and the currency. This means that the inflation is increasing the amount of money that is being lost. The central bank is responding to the problems that are being created by the money supply and reducing the inflation. The central bank is also trying to reduce inflation by reducing the amount of money that they are reducing the problems that are being created by reducing the amount of money that are<extra_id_27> </s>\n",
      "########\n",
      "*******\n",
      "question: What could a massive building be if it is not constructed well?\n",
      "answer: insubstantial\n",
      "choices: ['insubstantial', 'massless', 'dwarf', 'inconsequential', 'good']\n",
      "common expl list: ['Because the massive structure is so large, poor construction could render it largely inconsequential, or \"insubstantial\", as a structure.', 'A building is typically considered a sizable construction, therefore, if erected poorly, would be construed as being insubstantial.']\n"
     ]
    },
    {
     "name": "stderr",
     "output_type": "stream",
     "text": [
      "\r",
      " 20%|████████████████████████████████▉                                                                                                                                  | 199/986 [39:45<2:34:58, 11.81s/it]"
     ]
    },
    {
     "name": "stdout",
     "output_type": "stream",
     "text": [
      "generated explanation: <pad> <extra_id_0> A massive building is a large structure that is constructed of many different materials and is often characterized by a large number of moving parts. A massive building is a structure that is often characterized by a large number of windows, doors, and other openings. This is because the windows are the only part of the building that is normally open to the outside world. A massive building is usually constructed of many materials and requires a lot of labor to construct. It is also likely to be poorly constructed, resulting in an insubstantion. This is because the building is likely to collapse, if not properly designed and constructed properly designed and constructed. A massive building is also constructed of many different materials, and requiring different types of windows, doors, windows, which can easily be damaged by earthquakes. A massive building could also be unsafe for people, as they are able to be damaged by falling down. A massive building is also likely to collapse if it is not constructed well. In addition to the building, it could be a massive structure that is not constructed well. Overall, a massive building could be a building if it is not constructed well, and maintained. A massive building could be constructed poorly constructed, or not be able to support a large number of other elements, such as a large number of windows, a roof, and a foundation. Overall, if it is likely to be a massive building if it is not constructed well, and a good idea to be used as a good idea to build a large building that is not properly constructed and not constructed well designed and constructed well constructed, it could be a good idea to build a massive building if it is not constructed well-designed and well constructed well constructed well constructed and constructed well-constructed well-constructed and not constructed well-constructed well-built and constructed well-designed and constructed well-designed and well-built<extra_id_27> </s>\n",
      "########\n",
      "*******\n",
      "question: If you rent a condominium in a glove-shaped state where are you?\n",
      "answer: michigan\n",
      "choices: ['great lake state', 'michigan', 'community', 'towels', 'complex']\n",
      "common expl list: ['A condominium is a type of housing that is often rented. Condominiums are often located in complexes, and Michigan is a state that is shaped like a mitten.']\n"
     ]
    },
    {
     "name": "stderr",
     "output_type": "stream",
     "text": [
      "\r",
      " 20%|█████████████████████████████████                                                                                                                                  | 200/986 [39:59<2:42:49, 12.43s/it]"
     ]
    },
    {
     "name": "stdout",
     "output_type": "stream",
     "text": [
      "generated explanation: <pad> <extra_id_0> Michigan is a state that is a glove-shaped state. Michigan is home to the largest concentration of condominiums in the country, making it an ideal location for those looking to rent a condominium. Michigan is a state that is known for its warm climates, which means that it is a relatively warm place to rent a condo. It is also a place where the weather is generally mild and the air is generally cool. The climate in Michigan is also relatively mild compared to other states, which makes it a great place to rent a condo. The state is also a great place to rent a condos for those looking for those looking to rent a condominiums. The state is also a great place to rent a condo in the Midwest, which is a great place to rent a condominiums in the Midwest. The state is also a great place for those looking to rent a condo in the heart of the Midwest. Michigan is a great place to live in a great place to rent a condo in the Midwest. It is a great place to rent a condo in the Midwest, which is great place for those looking for a vacation. It is a great place to rent a condominium in the Midwest, which is a great place to rent a condo in the Midwest. It is a great place to rent a condo in Michigan is perfect for those who want to rent a warm and want to live in. It is a great place to rent if you are looking for someone who is looking for someone looking for a condo in Michigan, which is a great place to rent a condominium in Michigan is a great place to rent a condominium in the Midwest. It is a great place to rent a condo in Michigan is a great place to rent a condo in the Midwest, and it is a great place to rent a condominium in a great place to rent a condo in Michigan is a condo in Michigan, which is looking for people who are looking to rent a condo in Michigan, and looking for.</s>\n",
      "########\n",
      "*******\n",
      "question: where do children play a game?\n",
      "answer: family room\n",
      "choices: ['toy store', 'bar', 'casino', 'table', 'family room']\n",
      "common expl list: ['A family room is a room in many homes in which families can socialize, often through games. One such game is \"connect four.', 'A family room is a room in a house where family members can play games.']\n"
     ]
    },
    {
     "name": "stderr",
     "output_type": "stream",
     "text": [
      "\r",
      " 20%|█████████████████████████████████                                                                                                                                  | 200/986 [40:08<2:37:47, 12.04s/it]"
     ]
    },
    {
     "name": "stdout",
     "output_type": "stream",
     "text": [
      "generated explanation: <pad> <extra_id_0> Children play games in a family room because it is a safe and secure environment. Family rooms are often equipped with games, toys, and other toys that allow children to have fun while they learn. Family rooms are often equipped with games that allow children to have fun and interact with each other. Family rooms are also a great place for children to play, as they provide a safe and secure place to play games and have fun. Family rooms are also a great place for children to play sports, board games, and other games. Family rooms are also often include a variety of games, such as soccer, basketball, a game of cards, board games, cards, and board games. This is important because they provide children with fun and entertainment. Games also provide children with the opportunity to interact with their peers and play with each other. This allows them to play together and have fun. Additionally, the games are a safe and secure place for children to play. In addition to the games, they can provide a place to play and enjoy. Family rooms are also a place for children to have fun. In addition to the family rooms, families often have access a variety of games, board games, and other activities. This allows them to interact with each other, and interact with their peers.</s>\n",
      "########\n"
     ]
    },
    {
     "name": "stderr",
     "output_type": "stream",
     "text": [
      "\n"
     ]
    }
   ],
   "source": [
    "from tqdm import tqdm\n",
    "fse_csqa_dev_data_dict\n",
    "fse_csqa_train_data_dict\n",
    "rationale_pair_dev_data = []\n",
    "cc=0\n",
    "good_model = model\n",
    "for da in tqdm(our_data_splits['dev'], total=len(our_data_splits['dev'])):\n",
    "    print(\"*******\")\n",
    "    print(\"question: {}\".format(da['question']))\n",
    "    print(\"answer: {}\".format(da['answer']))\n",
    "    print(\"choices: {}\".format(da['choices']))\n",
    "    #print(\"our_explanation: {}\".format(da['our_explanation']))\n",
    "    id_ = da['id']\n",
    "    if id_ in fse_csqa_dev_data_dict.keys():\n",
    "        common_expl_list = fse_csqa_dev_data_dict[id_]['common_expl_list']\n",
    "    else:\n",
    "        common_expl_list = fse_csqa_train_data_dict[id_]['common_expl_list']\n",
    "    da[\"common_expl_list\"] = common_expl_list\n",
    "    print(\"common expl list: {}\".format(common_expl_list))\n",
    "    inp_ids = torch.tensor(da[\"input_ids\"], device=model.device).reshape(1, -1)\n",
    "    out = good_model.generate(\n",
    "                    inp_ids,\n",
    "                    max_length=512,\n",
    "                    pad_token_id=tokenizer.pad_token_id,\n",
    "                    eos_token_id=tokenizer.eos_token_id,\n",
    "                )\n",
    "    skip_special_tokens = False if \"infilling\" in data_args.io_format else True\n",
    "    words = tokenizer.decode(out[0].tolist(), skip_special_tokens=skip_special_tokens)\n",
    "    print(\"generated explanation: {}\".format(words))\n",
    "    da[\"generated_explanation\"] = words\n",
    "    print(\"########\")\n",
    "    rationale_pair_dev_data.append(da)\n",
    "    cc += 1\n",
    "    if cc > 200:\n",
    "        break\n",
    "    #pdb.set_trace()"
   ]
  },
  {
   "cell_type": "code",
   "execution_count": 54,
   "id": "a7a66b99",
   "metadata": {},
   "outputs": [],
   "source": [
    "import json\n",
    "rationale_pair_save_path = os.path.join(\"./results\", \"96shots_cose_t5_large_text003_200_250_rationales_generator_test_rationale_pair.json\")\n",
    "with open(rationale_pair_save_path, 'w') as f:\n",
    "    json.dump(rationale_pair_dev_data, f)"
   ]
  },
  {
   "cell_type": "code",
   "execution_count": 53,
   "id": "33daef0f",
   "metadata": {},
   "outputs": [
    {
     "data": {
      "text/plain": [
       "dict_keys(['5b8a3081c3235d62bc77e2d15f3ad454', '07f108d5321a66f460685f5c7499ecb2', 'ff1bf2ec835c9df8695ae0cfb5281646', '33ea932a876ac0361c9eefeff1d24e92', '35ad89c198d5d6311a71c993bb7b6cba', 'a2aa95861ef74bf1ecfc55db505e3982', 'af3b9a8b1962cd3bcd19e644d873e7bc', '91e0f4ab62c9d2fd440d73a3f5308d96', 'cfc7fccb8449a2a950c9d2a50991420e', 'edbb57ac2f476679ae547f75ec2bef3e', '8555dd9667d010018961a2f7d1c22704', '8bdbb8caefcc607a9ec7579aa0c87cba', '549cf641318edfc0510fa7c7dbb359e1', 'd6c002d46d9bfa466637cec4a134f332', '3b9ccdcb1c932c46a38e040d3e6c7f5b', '54231f875bb7fe4d3e4afb6eae64387c', '668dc6bce771b10cbf6336f3ec76520a', '900492bd731f8f615ed7c08155737d44', '0b25bbd9e9aa976655e1975e31331709', '1729c737ff92cf558efecde2c6cafc5e', 'cc1a547bdfdcc95e4d632453af14bc96', 'c492b8b9754a181c924c1df19998cbc7', 'd31ee38f67d1173275e120b8ad36039c', '083861fc5ebb9226fff70544f3f83d2b', 'e1744fc698cffb574e5cf4b29a81ce76', '1f492f556fae64f72ce36b6caa242dd0', '27604394ccee83e089f9ffae1883cf07', 'b3dc6d6a5e2f9d7da8eb72816c80b3f8_1', '6bc3ebcfd04965c25bde71339955746c', '69335eb9bc5b7b5df840c38a086bf8b2', 'bc05bc6b4df7a3d25a361515fe8912ad', 'f7c005244d406b9bde48dc8c22003af1', 'f48528156632b9c5b18af9ce2095509b', 'b5baf77d3855935c87f01f5fb2216667', 'db1eb157671109bbb9113b0f71a6b957', '77ddc9134bb27f9962aa2ed5ec5a5ef9', '6abd34442438509b4a00c69d6fd24764', 'b67971747e95ba425a5b81e0ba8d0b28', 'bee2a6eadfaf7a4fa0a214e341ddbe5b', '8ce13c6e08bf38d4cd4af756b661e47c', '80930e9df9ac4ad752749a54e7fc124f_1', '3ffe67fb009529d9b0c49ccd7141ee4a', '8d3dc21a53523850ec80771daaa5ff20', '3310b5b24f03d67179fababf9ae95144', '998381f854f51da2a6ccde45909e5168', 'f427f9de6bf580314531baf86de8acbc', '18844d3aa4e52b331b5382c8244cf4db', '8af63d58cc35061dec38e5448c325988', '768fb09deab56046e1565b6a2556ad5c', '5655a3002dd9a6b7dabede1dd26a5893', '07ea8ff6ee916f2bf9aceab1e19ff99a', 'd35a8a3bd560fdd651ecf314878ed30f', '449de58e919975867255218484a9fc89', '7cf54544d54818d53e7088c0749a3eca', 'd29252ddaf7c7ef491abcce342d7bb98', '4a4f6408fae400ce0beb5bea0f9913e9', 'c306ab28498b67c53decb9dde1d78bd5', 'ba9132ebf2bc3ad21e6a0631dc4e0a77', '026cb9c07a583ec933f2c4c67ae73836', '2a21820a135e1a49883525c055c74a0b', '7c45033e9fd9f1a759923971b14390ed', 'dc964e4f6df6b70815e81e466d0ff717', '2a32b1e541b1daae04690d0d3a4b3310', '6c515b068b4d3aa88a5382224d9b866d', '6c84e79d0595efd99596faa07c4961d0', '42c46e28baf0fc617a07419286178c0a', 'c39131d979c9205c11d0e109e18188e4', 'c592258c88295756833e9796e881057b', '3526550b02d9594abd4fc43553010fc6', '637c710ec9582fd9b9e8eaa3f3fe83bb', '01f01cc3ad152773ef42b30e926912bf', 'c54ddc0f9d170ba65d9f4f2e0bb41d1c', 'ad37795fd9e3a65553683ff305b5113d', '7a3d0c94438a5c8a09364aaebb848a2c', '7c05e8d5a057085455eea243fbd1cd90', '4364b4b342fb7b44434bd6694bf8fd51', '99098375c7b651d524eebac72e358238', '1ddd239a2a6438a891cb411b82e7f450', 'f4bb8ecacb9ce89e040f5f76bc79afb3', '6b9221c1af583ffb43580857d6fde38a', 'cf8e30dd6956d03e3f0f0397112a8696', '456f2fb41cac8c028dcfe2f48637e473', 'c908d7c4633c5e6add9463bdd47cb27e', '2de08c7a518b7c226e19bdc8fc10ef1d', 'cd639cf3ff82f825ace7dd2b087562bd', 'e3c6d147f8a727d314046e70e9579ba0', 'b9b82aa4c236cd342ff95455b8516a42', 'e4976ee741cf4b28b8a42780ffb15774', '8d275acea05fd16295c659c504576a9b', '3bf06235a537adc9d85431846595b800', 'a7d51b753c2113d8b2dbd0ebb5375855_1', 'bcc5dd6292a64d8fa17cd07c360b335d', '46ba5d2b8cfc6708e5e2618568d8730e', '9f9ca9bb06d6afc31b19c365fb29a1c9', '3d9c3253e24fb108cea9083e8a853cf2', '3b8e1d236f5169b6c833a994d6d9c39a', '6ca8439d062de4d43d7d471c508b78db', 'ec86900559a0faf2aef066e511a4cfa6', '57e96118fee6e2bbac5f59790fc833c0', '520b0eea9148e3cb4d45aa69a55491eb', '6be05d227f4f6fe727218fc8be9df340', '113aaea2b1a27a976547f54e531d99bb', '2f0931adc3d0d422d9ab6264395e89d8', 'cce1b59f7c4f540a84a1a7d6d88548c4', '870b07a1c5af2e956673a9680da99852', '34005ef0caafefc8585c9fcd50e94557', '22458fdcead20e2def0df0d92d5806f6', 'ec224c1dbfb569cce7ec317fe987ae68', 'ede4d302fc2ffe07703158f83c1493f2', 'ecd32cc0c17d4738a27bba3399f04591', '5c171b9837af49211891ce40e4a10204', '801431167b8bff06b9870abe9721536b', 'b47d912136e3304cb5e5890b6b879551', 'd0bd5b5ee7319d1c4727e38d429dd54e', '78276a4eab6e8d6b9ae3749211816977', 'ec79ef747bb89281923edb89ba26786d', '0e80f2afe5c4f652e8720b52d7c06c87', '39572e0ba1db51fa74f7fc2d90c5ec7f', '56417ee33b44f0d916bedfb6fd99b0ec', 'f996430ce208606452868fd2e739d409', '858a5eaa587fe0e266722228671a6bd1', '273d0134e8ce53d4ebcf41ca7fde02af', '49e466b1782aa4837dae53ff891fcdee', '08d908ed723f813574992195d61386a2', '7192c9f5c513aac9042bad595ff5af9f', 'aa4c5d2d348796b8d7fa324f27f4c34f', '0e52659484f2f6d763cf0d38d4c5999d', '4423c006f2a43f222d4c4e97360c25d3', 'f4a75bf3f115b826a8097edfd0ff2781', '07b51b231a9d6a143d8a73e69121e1b1', 'c2a8c6814ed3e207771cfc23b3b42cf1', 'f13efb91090dd28fd2b3c1f4dde680fd', '985a4f1a3f31f1ba6654f4fc48f504df', '9e5ce2b7d9eb404cdf8c7317dd0b5a59', 'a400b9fd1e319f901471c4b42d401c52', '042898e0c71adac5d123aaa6221c9754', '29c194d032a266a7160bff6f546a4d9d', 'db0cfd52ca6b2bbfcf26d1a898fd929b', '2a0e82bbf1471290c93c8f2a11af197f', '49b4c9e1bd7946a819e173ce8fa4c7c9', '6cb895ce89995f6be422f7c4167c7638', 'df1bf6f3f87975aa0c1b6d6153d9ecef', '1bf4c6b5bd870b1a079106e1e97e5d09', '8ae24d3ff199077a59e0d970feb665b7', 'bb503ece4eac41dfe608a1dcb654e6bf', '6e77de03bee86d6c20780e14f00944d0', '5799089c131e26473697afc54d5f6964', '895aa97bb84d874d71b2aed572cebfdd', '23d97480fe45bace231503f8fc367a5b', 'a2977fd575faba162d04a490dabd1b9b', '5a1c8a9dbbb60e523cc1ba14a370729c', '5496c7293f653120e5a5213db2d7b103', '7044d82a456d0fa6f0210abb03cbf2c4', '15b090801256085ad465e74af47cbee9', 'aa984e2b487d08889bc0c73bab5ac945', '4302e727e47f464511d4d04f22bed0d2', 'b6b66d4519a84b8331ea55f84767e9df', '0e5c7c0cec5b693e52f74f5f879d84fb', 'e408a5a031caec33782cb3b3a005eecc', '96cb628fb7ed2f53245598f707ed2b80', '2067720531fc03c017af941cec2f6f40', '5b8d76889510384b38b72945e8d28f53', 'cf33e0f5891ce53a716432be06a46ee1', '24eebfa678112100803da16dde148b2d', '0c2fa15a02d0b6ca6707e98fac7589e4', 'c2c2a387fd9a6a26cff636008de21f71', 'f20d40bc4af588223e880e0bb58b27b8', 'b42ef8be1748c19fa5938de5396f8fad', '57b83653d82b27d32bc39228130f3516', '2192c5c2145a6e03755ad89a02e64055', '175e7dcdded13d5adafaebf2264c3abd', '8d4b0312f02be445e09a9462873d02bb', 'cfa081b5ba90dae4d7ddb5b7ad9d369a', 'd6bb990e8c409d2b3af37a2da198e01f', '20a3bb788cf408d9a3e25e610fe60905', 'af11faa29097b71141fe192ad019d1dd', '6915dfdefe3b1cd5fd8886c8bb84929a', '43ba9669564217f2f909f33acbedaf95', 'fce1c5d069758aea57a787fc98dcf7a9', '32758ab86d888be680845b0dfe7de35e', '7ea57ee4580042b0a6a40479c8ace3e4', '21fb76bd8349628b441c76f47c33e77b', '3fe45ab3bd4a844ea290050fc0ece8c1_1', '3dee8fc7f0a3fbf4de111b6686fca157', 'ceafca2445b1b974d085a8cce38e8e44', '42520bf3f93f8de23670044e019001a3', '5ea6b94d1a911365b06cf776919413e8', '2d3c9d3dff1a7a8253180cb3de1ceeea', 'a4892551cb4beb279653ae52d0de4c89', 'e050bce7048da1b3743a54153e91694e', 'eb50f536830ba18ab987c7ff652e2aba', '6386bcf080633bc3eeb3317a5435b7b7', '839f3c37622c1ed5eebc9cd0b9d658e8', '009a7aabffe0583fc2df46656b29c326', 'c82ed0c2a2e115452b4d596c5faafbcf', '01abce8c4964371d85a5be2019f75827', '7d937233b4a9043da0b976dbd42d141b', 'c611875b43b67b91030b889b267bbcb3', '7bc1198664b376f79d584725ad7f874b', '5e260e1d96187716888cbd968010bb65', 'fde48d43e27cefed6ed9c52514e0bb6d', '43ab0ff711e60d51f943bbd2cdd6515a', '1a8b3c2a46efabcbd506f9cf70886ed0', '48a315cfa3ce11f7a9d615bc854331d5', '095767956c500ca1af7cf7671556de5b', 'de54d03e69d9765872f95ff06ed21499', 'cbf3dd48b4d591fc872a53cd4b9dd3af', '35872be88df5f6c4a6600020266a5458', 'a90f9197a13c64089c9ba95bcba275ad', 'bd4e80fa6642a76c064d0bc924411fb0', '008b7ba0c039f6d0d542c6c90aae173c', 'ace8fa2943ba8414aebdb74b48906fae', '1caf93d6a22dc8190e19c14bbe1fafda', '7c8bc9c0e56389eef033bca40c88c151', '6195ed74cf445cb5d991e1076a080dde', '8086f022f2d4a4888ae1f8c7e4541ab9', '1e5a138b4c7d456c37abf4990b402bbe', '3f4b48708d08f8bf7bec796531023f9c', '60e92cd2f35c345872d1a898e1718d55', '9889e5389917d812c09d6e5d382d333d', '46351b3a6beb694c5f623583a3b1473d', '7b7941b883328ad39048d4dfb1eb5623', '7d7f7d7a8ae3b20ca9fc0da6efe467b4', 'c961578f4c5768b67b843e5d2ce18452', '514310637fb43a252bfadc8cbf79b277', '5279a2ea333ba8a5bf3a7637a7279da1', '5622e49306bb82ec1cec817ad0506c60', 'fcd39cfa321728fea069a6ae4285b06f', '26bd85f05d29863ed777a4f1a4b8fa63', '31487ab8b1e8f12e252590cc58bd19c2', 'ffd89796a9b09bef56c5803f188764c6', 'ba3a2b9ff289c106051163f840a6f5ba', 'b1f36d1c8ab7e5a28783cb38e8709c27', '5c2bc4335c8860342ec2d568ceb6ac6b', '36c1f50eec01c287b8ef6ffe69fe0528', '515834727e23e30ab7c8fe5ba7e9a765', 'a15d564d0be6996251b5d523ac62db2a', '8f01273422a370a8dbda6bf473a395a0', 'cabefb7063a728e77abd44d97397a2a4', '1bc986f8aea88d6927d8a45367855a94', '484f6e4fb8e6431b010c299490b72e3c', 'a7e3de0719fe30e7048f67426e29fdd1', 'a617eb4d27edea93e7fd630ce00c8219', '2c0030cc14a27be2401dcfdaa501f0fc', 'cf02cca40a47c2deefd8b2e5a5ff2f70', 'ea0e7771afd86a59fd9f7764b77e3fa4', 'c1aebf059c5102f4e773f7fe4afe13f0', '95a85df48902d23eb3fda25a99fca1a0', 'a4b44a986e7f9045432e20ea75611df4', '05490e6c191fbc3c2fe0033ed0bd8aa0'])"
      ]
     },
     "execution_count": 53,
     "metadata": {},
     "output_type": "execute_result"
    }
   ],
   "source": [
    "fse_csqa_dev_data_dict.keys()"
   ]
  },
  {
   "cell_type": "code",
   "execution_count": null,
   "id": "bd852d7d",
   "metadata": {},
   "outputs": [],
   "source": []
  },
  {
   "cell_type": "code",
   "execution_count": null,
   "id": "d91c4f6e",
   "metadata": {},
   "outputs": [],
   "source": []
  }
 ],
 "metadata": {
  "kernelspec": {
   "display_name": "Python 3 (ipykernel)",
   "language": "python",
   "name": "python3"
  },
  "language_info": {
   "codemirror_mode": {
    "name": "ipython",
    "version": 3
   },
   "file_extension": ".py",
   "mimetype": "text/x-python",
   "name": "python",
   "nbconvert_exporter": "python",
   "pygments_lexer": "ipython3",
   "version": "3.7.0"
  }
 },
 "nbformat": 4,
 "nbformat_minor": 5
}
