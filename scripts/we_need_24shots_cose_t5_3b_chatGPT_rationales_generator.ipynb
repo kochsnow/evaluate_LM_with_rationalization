{
 "cells": [
  {
   "cell_type": "code",
   "execution_count": 2,
   "id": "f5286ba7",
   "metadata": {},
   "outputs": [
    {
     "name": "stderr",
     "output_type": "stream",
     "text": [
      "\u001b[34m\u001b[1mwandb\u001b[0m: Currently logged in as: \u001b[33mdengdenghuang\u001b[0m (\u001b[33mcuhk_lavilab\u001b[0m). Use \u001b[1m`wandb login --relogin`\u001b[0m to force relogin\n"
     ]
    },
    {
     "name": "stdout",
     "output_type": "stream",
     "text": [
      "env: WANDB_PROJECT=evaluate_LM_with_rationalization\n"
     ]
    }
   ],
   "source": [
    "import wandb\n",
    "wandb.login()\n",
    "\n",
    "%env WANDB_PROJECT=evaluate_LM_with_rationalization"
   ]
  },
  {
   "cell_type": "code",
   "execution_count": 3,
   "id": "30300ea6",
   "metadata": {},
   "outputs": [],
   "source": [
    "# import gpt3\n",
    "import logging\n",
    "import math\n",
    "import os\n",
    "\n",
    "from typing import List, Dict, Any, NewType\n",
    "\n",
    "InputDataClass = NewType(\"InputDataClass\", Any)\n",
    "os.environ[\"CUDA_VISIBLE_DEVICES\"] = \"\"\n",
    "from transformers import (\n",
    "    T5Config,\n",
    "    T5ForConditionalGeneration,\n",
    "    T5Tokenizer,\n",
    "    HfArgumentParser,\n",
    "    TrainingArguments,\n",
    "    set_seed,\n",
    "    EarlyStoppingCallback\n",
    ")\n",
    "from transformers.trainer_utils import EvaluationStrategy\n",
    "from transformers.integrations import TensorBoardCallback\n",
    "import transformers\n",
    "from transformers import Trainer\n",
    "\n",
    "#from feature_conversion_methods import format_instance\n",
    "\n",
    "from custom_args import (\n",
    "    DataTrainingArguments,\n",
    "    ModelArguments\n",
    ")\n",
    "from metrics import evaluate\n",
    "import torch\n",
    "import datasets\n",
    "import git\n",
    "import time\n",
    "from datetime import datetime\n",
    "import sys\n",
    "from tqdm import trange\n",
    "import random \n",
    "import pandas as pd \n",
    "import jsonlines\n",
    "from copy import deepcopy \n",
    "\n",
    "logger = logging.getLogger(__name__)\n",
    "transformers.logging.set_verbosity_info()\n",
    "import re\n",
    "def set_global_logging_level(level=logging.ERROR, prefices=[\"\"]):\n",
    "    \"\"\"\n",
    "    Override logging levels of different modules based on their name as a prefix.\n",
    "    It needs to be invoked after the modules have been loaded so that their loggers have been initialized.\n",
    "\n",
    "    Args:\n",
    "        - level: desired level. e.g. logging.INFO. Optional. Default is logging.ERROR\n",
    "        - prefices: list of one or more str prefices to match (e.g. [\"transformers\", \"torch\"]). Optional.\n",
    "          Default is `[\"\"]` to match all active loggers.\n",
    "          The match is a case-sensitive `module_name.startswith(prefix)`\n",
    "    \"\"\"\n",
    "    prefix_re = re.compile(fr'^(?:{ \"|\".join(prefices) })')\n",
    "    for name in logging.root.manager.loggerDict:\n",
    "        if re.match(prefix_re, name):\n",
    "            logging.getLogger(name).setLevel(level)\n",
    "set_global_logging_level(logging.ERROR, [\"datasets\"])\n",
    "\n",
    "\n",
    "CONFIG_MAPPING = {\"t5\": T5Config}\n",
    "MODEL_MAPPING = {\"t5\": T5ForConditionalGeneration}\n",
    "TOKENIZER_MAPPING = {\"t5\": T5Tokenizer}\n",
    "\n",
    "\n",
    "def set_other_seeds(seed):\n",
    "    torch.backends.cudnn.benchmark = False\n",
    "    #torch.backends.cudnn.deterministic = True\n",
    "    os.environ['PYTHONHASHSEED'] = str(seed)\n",
    "\n",
    "# inspired by DefaultDataCollator from:\n",
    "# https://github.com/huggingface/transformers/blob/master/src/transformers/data/data_collator.py\n",
    "# modified to perform batch-level padding.\n",
    "class SequenceCollator:\n",
    "    def __init__(self, model, pad_token):\n",
    "        self.model = model\n",
    "        self.pad_token_mapping = {\n",
    "            \"labels\": -100,\n",
    "            \"attention_mask\": 0,\n",
    "            \"decoder_attention_mask\": 0,\n",
    "            \"input_ids\": pad_token,\n",
    "        }\n",
    "\n",
    "        self.columns = [\n",
    "            \"input_ids\",\n",
    "            \"attention_mask\",\n",
    "            \"labels\",\n",
    "            \"decoder_attention_mask\",\n",
    "        ]\n",
    "\n",
    "    def __call__(self, examples: List[Dict[str, InputDataClass]]) -> Dict[str, torch.Tensor]:\n",
    "        # re-format inputs for training\n",
    "        batch = {}\n",
    "        for key in examples[0].keys():\n",
    "            if key in self.columns:\n",
    "                tmp_list = []\n",
    "                for item in examples:\n",
    "                    tmp_list.append(item[key])\n",
    "\n",
    "                # pad lists to max length\n",
    "                if isinstance(tmp_list[0], list):\n",
    "                    max_length = max(map(len, tmp_list))\n",
    "                    tmp_list = [\n",
    "                        el + [self.pad_token_mapping[key]] * (max_length - len(el))\n",
    "                        for el in tmp_list\n",
    "                    ]\n",
    "\n",
    "                batch[key] = torch.tensor(tmp_list, dtype=torch.long)\n",
    "        return batch\n"
   ]
  },
  {
   "cell_type": "code",
   "execution_count": 4,
   "id": "2fa5a75a",
   "metadata": {},
   "outputs": [],
   "source": [
    "from collections import defaultdict\n",
    "import random\n",
    "\"\"\"\n",
    "Example-to-Feature conversion methods\n",
    "Modified from\n",
    "https://github.com/salesforce/cos-e/blob/master/code/generation/train_commonsenseqa_v1.0.py and \"\"_v1.11.py (identical)\n",
    "as well as Tensorflow code for WTF?: \n",
    "https://github.com/google-research/google-research/blob/master/wt5/wt5/preprocessors.py\n",
    "\"\"\"\n",
    "# This code is based on https://github.com/allenai/label_rationale_association/blob/main/feature_conversion_methods.py\n",
    "\n",
    "unified_qa_esnli_label_mapping = {0: 'yes', 1: 'maybe', 2: 'no'}\n",
    "unified_qa_esnli_label_mapping_upper = {0: 'Yes', 1: 'Maybe', 2: 'No'} \n",
    "wt5_esnli_label_mapping = {0: 'entailment', 1: 'neutral', 2: 'contradiction'} \n",
    "unified_qa_sbic_label_mapping = {\"offensive\": 'Yes', \"not offensive\": 'No'}\n",
    "\n",
    "def format_instance(\n",
    "        example,\n",
    "        tokenizer,\n",
    "        explanation_sep,\n",
    "        max_seq_length=None,\n",
    "        datasource=None,\n",
    "        io_format=None, \n",
    "):\n",
    "    assert datasource in {\"cos_e\", \"esnli\", \"sbic\", \"sensemaking\", \"ecqa\"}\n",
    "\n",
    "    if datasource in [\"cos_e\", \"ecqa\"]:\n",
    "        input_string, answer_string = cqa_formatting(example, io_format, explanation_sep, datasource)\n",
    "    elif datasource == \"esnli\":\n",
    "        input_string, answer_string = esnli_formatting(example, io_format, explanation_sep)\n",
    "    elif datasource == 'sbic':\n",
    "        input_string, answer_string = sbic_formatting(example, io_format, explanation_sep)\n",
    "    elif datasource == 'sensemaking':\n",
    "        input_string, answer_string = sensemaking_formatting(example, io_format, explanation_sep)\n",
    "    else:\n",
    "        raise ValueError(\"Unknown task. Currently supported: esnli, cos_e, sbic, sensemaking, ecqa.\")\n",
    "    \n",
    "    if 'unified' in io_format and 'unifew' not in io_format:\n",
    "        input_string += '</s>'\n",
    "\n",
    "    input_string = ' '.join(input_string.split())\n",
    "    answer_string = ' '.join(answer_string.split())\n",
    "\n",
    "    input_string = ' '.join(input_string.split())\n",
    "    answer_string = ' '.join(answer_string.split())\n",
    "\n",
    "    encodings = tokenizer.encode_plus(\n",
    "        input_string,\n",
    "        max_length=max_seq_length,\n",
    "        pad_to_max_length=False,\n",
    "        return_token_type_ids=False,\n",
    "        return_attention_mask=True,\n",
    "    )\n",
    "\n",
    "\n",
    "    # note even with \"lm_labels.shift_right()\", the decoder attention mask length is still correct since we remove the last token\n",
    "    dec = tokenizer.encode_plus(\n",
    "        answer_string,\n",
    "        max_length=max_seq_length,\n",
    "        pad_to_max_length=False,\n",
    "        return_token_type_ids=False,\n",
    "        return_attention_mask=True,\n",
    "    )\n",
    "\n",
    "    encodings[\"labels\"] = dec[\"input_ids\"]\n",
    "    encodings[\"decoder_attention_mask\"] = dec[\"attention_mask\"]\n",
    "    encodings[\"question_encoding\"] = encodings[\"input_ids\"]\n",
    "\n",
    "    #return encodings\n",
    "    return {**example, **encodings}\n",
    "\n",
    "#这里很简单 定义好输入输出string就可以的\n",
    "def cqa_formatting(item, io_format, explanation_sep, datasource):\n",
    "    question = item[\"question\"]\n",
    "    answer = item[\"answer\"]\n",
    "    abstr_expl = item[\"abstractive_explanation\"].lower() if datasource == 'cos_e' else item[\"explanation\"].lower()\n",
    "\n",
    "\n",
    "    if io_format == 't5_fewshot_infilling_with_choices':\n",
    "        input_string = f\"explain {datasource} question: {question} choice: \" + \" choice: \".join(item[\"choices\"]) + f\" <extra_id_0> {explanation_sep} <extra_id_1>\"\n",
    "        answer_string = f\"<extra_id_0> {answer} <extra_id_1> {abstr_expl} <extra_id_2>\"\n",
    "    elif io_format == 't5_fewshot_infilling_more_natural':\n",
    "        input_string = f\"explain {datasource} question: {question} choice: \" + \" choice: \".join(item[\"choices\"]) + f\" The answer is <extra_id_0> {explanation_sep} <extra_id_1>\"\n",
    "        answer_string = f\"<extra_id_0> {answer} <extra_id_1> {abstr_expl} <extra_id_2>\"\n",
    "    elif io_format == \"squad\": \n",
    "        input_string = f\"explain {datasource} question: {question} context: \" + ', '.join(item['choices']) # explain cos_e question: When getting in shape you need to have this in between workouts? context: give up, period of recovery, jogging\n",
    "        answer_string = f\"{answer} {explanation_sep} {abstr_expl}\" # period of recovery because without a period of recovery you will not get any gains.\n",
    "    elif io_format == \"record\": \n",
    "        # might not work because cos_e doesn't have a passage \n",
    "        input_string = f\"explain {datasource} query: {question} entities: \" + ', '.join(item['choices']) # explain cos_e query: When getting in shape you need to have this in between workouts? entities: give up, period of recovery, jogging\n",
    "        answer_string = f\"{answer} {explanation_sep} {abstr_expl}\" # period of recovery because without a period of recovery you will not get any gains.\n",
    "    elif io_format == 'unifiedqa_matching':\n",
    "        choice_ids = ['(A)', '(B)', '(C)', '(D)', '(E)']\n",
    "        input_string = f'explain {question.lower()} \\\\n'\n",
    "        for choice_id, choice in zip(choice_ids, item[\"choices\"]):\n",
    "            input_string += f' {choice_id} {choice.lower()}'\n",
    "        answer_string = f\"{answer.lower()} {explanation_sep} {abstr_expl.lower()}\"\n",
    "        answer_string = answer_string.lower()\n",
    "    elif io_format == 't5_fewshot_infilling_without_choices_use_refined_expl':\n",
    "        input_string = f\"explain {datasource} question: {question} choice: \" + \" choice: \".join(item[\"choices\"]) + f\" <extra_id_0> {explanation_sep} <extra_id_1>\"\n",
    "        input_string = f\"explain {datasource} question: {question} answer: {answer}\" + f\" {explanation_sep} <extra_id_0>\"\n",
    "        answer_string = f\"<extra_id_0> {item['our_explanation']} <extra_id_1>\"\n",
    "\n",
    "    else:\n",
    "        raise ValueError(\"The IO format is not supported. Choose `standard` or `masked_cause_generate`.\")\n",
    "    \n",
    "    return input_string, answer_string\n",
    "\n",
    "\n",
    "def esnli_formatting(item, io_format, explanation_sep):\n",
    "\n",
    "    premise = item[\"premise\"]\n",
    "    hypothesis = item[\"hypothesis\"]\n",
    "    answer = unified_qa_esnli_label_mapping[item[\"label\"]] if 'unified' in io_format else wt5_esnli_label_mapping[item[\"label\"]]\n",
    "    abstr_expl = item[\"explanation_1\"].lower() \n",
    "    # Dev/test instances have more than one explanation annotated; merge them into one sequence separated by [SEP] \n",
    "    for k in [2,3]:\n",
    "        if f\"explanation_{k}\" in item and item[f'explanation_{k}']!='': \n",
    "            abstr_expl += f\" [SEP] {item[f'explanation_{k}'].lower()}\"\n",
    "\n",
    "    if io_format == 'standard':\n",
    "        input_string = f\"explain nli hypothesis: {hypothesis} premise: {premise}\"\n",
    "        answer_string = f\"{answer} {explanation_sep} {abstr_expl}\"\n",
    "    elif io_format == 't5_fewshot_infilling':\n",
    "        input_string = f\"explain nli hypothesis: {hypothesis} premise: {premise} <extra_id_0> {explanation_sep} <extra_id_1>\"\n",
    "        answer_string = f\"<extra_id_0> {answer} <extra_id_1> {abstr_expl} <extra_id_2>\"\n",
    "    elif io_format == 't5_fewshot_infilling_more_natural':\n",
    "        input_string = f\"explain nli hypothesis: {hypothesis} premise: {premise} This is <extra_id_0> {explanation_sep} <extra_id_1>\"\n",
    "        answer_string = f\"<extra_id_0> {answer} <extra_id_1> {abstr_expl} <extra_id_2>\"\n",
    "    elif io_format == \"squad\": \n",
    "        input_string = f\"explain nli question: Is this entailment? context: {hypothesis} {premise}\"  \n",
    "        answer_ynm = unified_qa_esnli_label_mapping[item[\"label\"]]\n",
    "        answer_string = f\"{answer_ynm} {explanation_sep} {abstr_expl}\" \n",
    "    elif io_format == \"squad_endswith_what\":\n",
    "        input_string = f\"explain nli question: What is this? context: {hypothesis} {premise}\"  \n",
    "        answer_string = f\"{answer} {explanation_sep} {abstr_expl}\"  \n",
    "    elif io_format == \"squad_nli_mix\": \n",
    "        input_string = f\"explain nli question: Is this entailment? context: hypothesis: {hypothesis} premise: {premise}\"  \n",
    "        answer_ynm = unified_qa_esnli_label_mapping[item[\"label\"]]\n",
    "        answer_string = f\"{answer_ynm} {explanation_sep} {abstr_expl}\"  \n",
    "    elif io_format == \"squad_nli_mix_endswith_what\":  \n",
    "        input_string = f\"explain nli question: What is this? context: hypothesis: {hypothesis} premise: {premise}\"  \n",
    "        answer_string = f\"{answer} {explanation_sep} {abstr_expl}\"   \n",
    "    elif io_format == 'unifiedqa_unifew':\n",
    "        hypothesis = hypothesis.lower().rstrip('.')\n",
    "        unified_qa_esnli_label_mapping_upper = {0: 'Yes', 1: 'Maybe', 2: 'No'}\n",
    "        answer = unified_qa_esnli_label_mapping_upper[item[\"label\"]]\n",
    "        input_string = f'explain {premise} Is {hypothesis}? \\\\n (A) Yes (B) Maybe (C) No'\n",
    "        answer_string = f\"{answer} {explanation_sep} {abstr_expl}\"  \n",
    "    elif io_format == 'unifiedqa_unifew_nli_mix':\n",
    "        premise = premise.lower().rstrip('.')\n",
    "        unified_qa_esnli_label_mapping_upper = {0: 'Yes', 1: 'Maybe', 2: 'No'}\n",
    "        input_string = f'explain hypothesis: {hypothesis} Is premise: {premise}? \\\\n (A) Yes (B) Maybe (C) No'\n",
    "        answer_string = f\"{answer} {explanation_sep} {abstr_expl}\"  \n",
    "    elif io_format == 'unifiedqa_ynm': \n",
    "        input_string = f'explain is this entailment? \\\\n {hypothesis.lower()} {premise.lower()}'  \n",
    "        answer = unified_qa_esnli_label_mapping[item[\"label\"]]\n",
    "        answer_string = f\"{answer} {explanation_sep} {abstr_expl.lower()}\"  \n",
    "    elif io_format == 'unifiedqa_snli_mix_ynm': \n",
    "        input_string = f'explain is this entailment? \\\\n hypothesis: {hypothesis.lower()} premise: {premise.lower()}' \n",
    "        answer = unified_qa_esnli_label_mapping[item[\"label\"]]\n",
    "        answer_string = f\"{answer} {explanation_sep} {abstr_expl.lower()}\"  \n",
    "    elif io_format == 'unifiedqa_snli_mix_ynm_with_choices': \n",
    "        input_string = f'explain is this entailment? \\\\n (A) yes (B) maybe (C) no \\\\n hypothesis: {hypothesis.lower()} premise: {premise.lower()}'  \n",
    "        answer = unified_qa_esnli_label_mapping[item[\"label\"]]\n",
    "        answer_string = f\"{answer} {explanation_sep} {abstr_expl.lower()}\"  \n",
    "    elif io_format == 'unifiedqa_what_v2': \n",
    "        input_string = f'explain what is this? \\\\n {hypothesis.lower()} {premise.lower()}'  \n",
    "        answer = wt5_esnli_label_mapping[item[\"label\"]]\n",
    "        answer_string = f\"{answer} {explanation_sep} {abstr_expl.lower()}\"  \n",
    "    elif io_format == 'unifiedqa_snli_mix_what_v2': \n",
    "        input_string = f'explain what is this? \\\\n hypothesis: {hypothesis.lower()} premise: {premise.lower()}'  \n",
    "        answer = wt5_esnli_label_mapping[item[\"label\"]]\n",
    "        answer_string = f\"{answer} {explanation_sep} {abstr_expl.lower()}\"  \n",
    "    elif io_format == 'unifiedqa_snli_mix_what_with_choices_v2': \n",
    "        input_string = f'explain what is this? \\\\n (A) entailment (B) neutral (C) contradiction \\\\n hypothesis: {hypothesis.lower()} premise: {premise.lower()}'  \n",
    "        answer = wt5_esnli_label_mapping[item[\"label\"]]\n",
    "        answer_string = f\"{answer} {explanation_sep} {abstr_expl.lower()}\"     \n",
    "    else:\n",
    "        raise ValueError(\"The IO format is not supported.\")\n",
    "\n",
    "    return input_string, answer_string\n",
    "\n",
    "\n",
    "def sbic_formatting(item, io_format, explanation_sep):\n",
    "    # We pre-processed the SBIC dataset such that we join multiple implied statements with the [SEP] token for dev/test instances \n",
    "    # Each annotation in the training split is a separate instance\n",
    "    post = item['post']\n",
    "    answer = unified_qa_sbic_label_mapping[item[\"offensiveYN\"]] if 'unified' in io_format else item[\"offensiveYN\"].replace(\"not offensive\", \"not_offensive\")\n",
    "    abstr_expl = item[\"targetStereotype\"]\n",
    "    \n",
    "\n",
    "    if io_format == 'cola':\n",
    "        input_string = f\"explain sbic sentence: {post}\"\n",
    "        answer_string = f\"{answer} {explanation_sep} {abstr_expl}\"  \n",
    "    elif io_format == 't5_fewshot_infilling':\n",
    "        input_string = f\"explain sbic sentence: {post} <extra_id_0> {explanation_sep} <extra_id_1>\"\n",
    "        answer_string = f\"<extra_id_0> {answer} <extra_id_1> {abstr_expl} <extra_id_2>\"\n",
    "    elif io_format == 't5_fewshot_infilling_bool':\n",
    "        answer_bool = 'True' if item[\"offensiveYN\"] == 'offensive' else 'False'\n",
    "        input_string = f\"explain sbic sentence: {post} It is <extra_id_0> that this is offensive {explanation_sep} <extra_id_1>\"\n",
    "        answer_string = f\"<extra_id_0> {answer} <extra_id_1> {abstr_expl} <extra_id_2>\"\n",
    "    elif io_format == 't5_fewshot_infilling_more_natural':\n",
    "        input_string = f\"explain sbic sentence: {post} This is <extra_id_0> {explanation_sep} <extra_id_1>\"\n",
    "        answer_string = f\"<extra_id_0> {answer} <extra_id_1> {abstr_expl} <extra_id_2>\"\n",
    "    elif io_format == 'squad_yn': \n",
    "        input_string = f\"explain sbic question: Is this offensive? context: {post}\" # explain sbic question: Is this offensive? context: It's only happened to you like two times.\n",
    "        answer_yn = unified_qa_sbic_label_mapping[item[\"offensiveYN\"]] \n",
    "        answer_string = f\"{answer_yn} {explanation_sep} {abstr_expl}\" #  No because this post does not imply anything offensive\n",
    "    elif io_format == 'squad_yn_with_tags': \n",
    "        input_string = f\"explain sbic question: Is this offensive? context: post: {post}\" # explain sbic question: Is this offensive? context: It's only happened to you like two times.\n",
    "        answer_yn = unified_qa_sbic_label_mapping[item[\"offensiveYN\"]] \n",
    "        answer_string = f\"{answer_yn} {explanation_sep} {abstr_expl}\" #  No because this post does not imply anything offensive\n",
    "    elif io_format == 'squad_what': \n",
    "        input_string = f\"explain sbic question: What is this? context: {post}\" # explain sbic question: This is what? context: It's only happened to you like two times.\n",
    "        answer = item[\"offensiveYN\"].replace(\"not offensive\", \"not_offensive\")        \n",
    "        answer_string = f\"{answer} {explanation_sep} {abstr_expl}\" # not_offensive because this post does not imply anything offensive    \n",
    "    elif io_format == 'squad_what_with_tags': \n",
    "        input_string = f\"explain sbic question: What is this? context: post: {post}\" # explain sbic question: This is what? context: It's only happened to you like two times.\n",
    "        answer = item[\"offensiveYN\"].replace(\"not offensive\", \"not_offensive\")        \n",
    "        answer_string = f\"{answer} {explanation_sep} {abstr_expl}\" # not_offensive because this post does not imply anything offensive    \n",
    "    elif io_format == 'unified_qa_yn':\n",
    "        input_string = f'explain is this offensive? \\\\n {post.lower()}'\n",
    "        answer_string = f\"{answer} {explanation_sep} {abstr_expl.lower()}\" \n",
    "    elif io_format == 'unified_qa_yn_with_tags':\n",
    "        input_string = f'explain is this offensive? \\\\n post: {post.lower()}'\n",
    "        answer_string = f\"{answer} {explanation_sep} {abstr_expl.lower()}\"  \n",
    "    elif io_format == 'unified_qa_yn_with_choices':\n",
    "        input_string = f'explain is this offensive? \\\\n (A) yes (B) no \\\\n {post.lower()}'\n",
    "        answer_string = f\"{answer} {explanation_sep} {abstr_expl.lower()}\"\n",
    "    elif io_format == 'unified_qa_yn_with_choices_and_tags':\n",
    "        input_string = f'explain is this offensive? \\\\n (A) yes (B) no \\\\n post: {post.lower()}'\n",
    "        answer_string = f\"{answer} {explanation_sep} {abstr_expl.lower()}\"  \n",
    "    elif io_format == 'unified_qa_what':\n",
    "        input_string = f'explain what is this? \\\\n {post.lower()}'\n",
    "        answer = item[\"offensiveYN\"].replace(\"not offensive\", \"not_offensive\")\n",
    "        answer_string = f\"{answer} {explanation_sep} {abstr_expl.lower()}\"  \n",
    "    elif io_format == 'unified_qa_what_with_tags':\n",
    "        input_string = f'explain what is this? \\\\n post: {post.lower()}'\n",
    "        answer = item[\"offensiveYN\"].replace(\"not offensive\", \"not_offensive\")\n",
    "        answer_string = f\"{answer} {explanation_sep} {abstr_expl.lower()}\"  \n",
    "    elif io_format == 'unified_qa_what_with_choices':\n",
    "        input_string = f'explain what is this? \\\\n (A) offensive (B) not_offensive \\\\n {post.lower()}'\n",
    "        answer = item[\"offensiveYN\"].replace(\"not offensive\", \"not_offensive\")\n",
    "        answer_string = f\"{answer} {explanation_sep} {abstr_expl.lower()}\"\n",
    "    elif io_format == 'unified_qa_what_with_choices_and_tags':\n",
    "        input_string = f'explain what is this? \\\\n (A) offensive (B) not_offensive \\\\n post: {post.lower()}'\n",
    "        answer = item[\"offensiveYN\"].replace(\"not offensive\", \"not_offensive\")\n",
    "        answer_string = f\"{answer} {explanation_sep} {abstr_expl.lower()}\"  \n",
    "    elif io_format == 'unifiedqa_unifew':\n",
    "        input_string = f\"Topic? \\\\n (A) offensive (B) not_offensive \\\\n {post}\"\n",
    "        answer = item[\"offensiveYN\"].replace(\"not offensive\", \"not_offensive\")\n",
    "        answer_string = f\"{answer} {explanation_sep} {abstr_expl}\"\n",
    "    else:\n",
    "        raise ValueError(\"The IO format is not supported. Choose `standard` or `masked_cause_generate`.\")\n",
    "\n",
    "    input_string = ' '.join(input_string.split())\n",
    "    answer_string = ' '.join(answer_string.split())\n",
    "    return input_string, answer_string\n",
    "\n",
    "def sensemaking_formatting(item, io_format, explanation_sep):\n",
    "    # TODO: explore whether removing periods makes difference? \n",
    "    sent0 = item['sent0']\n",
    "    sent1 = item['sent1']\n",
    "    nonsensical_sentence = str(int(item['label'])+1)\n",
    "    explanation = item['explanation'].lower()\n",
    "\n",
    "    if io_format == 'copa_with_question':\n",
    "        input_string = f\"explain sensemaking choice1: {sent0} choice2: {sent1} question: nonsensical\"\n",
    "        answer_string = f\"choice{nonsensical_sentence} {explanation_sep} {explanation}\"\n",
    "    elif io_format == 'copa_bool':  \n",
    "        answer_bool = str(bool(int(item['label']))) # True if choice2 is more nonsensical    \n",
    "        input_string = f\"explain sensemaking choice1: {sent0} choice2: {sent1} Less common is choice2\"\n",
    "        answer_string = f\"{answer_bool} {explanation_sep} {explanation}\"\n",
    "    elif io_format == 't5_fewshot_infilling':  \n",
    "        input_string = f\"explain sensemaking choice1: {sent0} choice2: {sent1} <extra_id_0> {explanation_sep} <extra_id_1>\"\n",
    "        answer_string = f\"<extra_id_0> choice{nonsensical_sentence} <extra_id_1> {explanation} <extra_id_2>\"\n",
    "    elif io_format == 't5_fewshot_infilling_bool':  \n",
    "        answer_bool = str(bool(int(item['label']))) # True if choice2 is more nonsensical    \n",
    "        input_string = f\"explain sensemaking choice1: {sent0} choice2: {sent1} It is <extra_id_0> that choice2 is less common {explanation_sep} <extra_id_1>\"\n",
    "        answer_string = f\"<extra_id_0> {answer_bool} <extra_id_1> {explanation} <extra_id_2>\"\n",
    "    elif io_format == \"squad_yn\": \n",
    "        input_string = f\"explain sensemaking question: Is choice2 more nonsensical? context: choice1: {sent0} choice2: {sent1}\" # explain sensemaking question: What is nonsensical, choice1 or choice2? context: choice1: All state flowers are the scarlet carnation. choice2: The New Jersey state flower is the scarlet carnation\n",
    "        answer = \"Yes\" if bool(int(item['label'])) else \"No\"\n",
    "        answer_string = f\"{answer} {explanation_sep} {explanation}\" #  choice1 because state flowers are unique to each state.  \n",
    "    elif io_format == \"squad_yn_no_tags\": \n",
    "        input_string = f\"explain sensemaking question: Is choice2 more nonsensical? context: {sent0} {sent1}\" # explain sensemaking question: What is nonsensical, choice1 or choice2? context: choice1: All state flowers are the scarlet carnation. choice2: The New Jersey state flower is the scarlet carnation\n",
    "        answer = \"Yes\" if bool(int(item['label'])) else \"No\"\n",
    "        answer_string = f\"{answer} {explanation_sep} {explanation}\" #  choice1 because state flowers are unique to each state.  \n",
    "    elif io_format == \"squad_what\": \n",
    "        input_string = f\"explain sensemaking question: What is more nonsensical? context: choice1: {sent0} choice2: {sent1}\" # explain sensemaking question: What is nonsensical, choice1 or choice2? context: choice1: All state flowers are the scarlet carnation. choice2: The New Jersey state flower is the scarlet carnation\n",
    "        answer_string = f\"choice{nonsensical_sentence} {explanation_sep} {explanation}\" #  choice1 because state flowers are unique to each state.  \n",
    "    elif io_format == \"squad_what_no_tags\": \n",
    "        input_string = f\"explain sensemaking question: What is more nonsensical? context: {sent0} {sent1}\" # explain sensemaking question: What is nonsensical, choice1 or choice2? context: choice1: All state flowers are the scarlet carnation. choice2: The New Jersey state flower is the scarlet carnation\n",
    "        answer_string = f\"choice{nonsensical_sentence} {explanation_sep} {explanation}\" #  choice1 because state flowers are unique to each state.  \n",
    "    elif io_format == \"record\": \n",
    "        input_string = f\"explain sensemaking query: What is more nonsensical? entities: choice1, choice2 passage: choice1: {sent0} choice2: {sent1}\" # explain sensemaking query: What is nonsensical? entities: choice1, choice2 passage: choice1: All state flowers are the scarlet carnation. choice2: The New Jersey state flower is the scarlet carnation.\n",
    "        answer_string = f\"choice{nonsensical_sentence} {explanation_sep} {explanation}\" # choice1 because state flowers are unique to each state.\n",
    "    elif io_format == 'unifiedqa_yn_with_choices':\n",
    "        answer = \"yes\" if bool(int(item['label'])) else \"no\"\n",
    "        input_string = f'explain is choice2 more nonsensical? \\\\n (A) yes (B) no \\\\n choice1: {sent0.lower()} choice2: {sent1.lower()}'\n",
    "        answer_string = f\"{answer} {explanation_sep} {explanation.lower()}\" \n",
    "    elif io_format == 'unifiedqa_yn':\n",
    "        answer = \"yes\" if bool(int(item['label'])) else \"no\"\n",
    "        input_string = f'explain is choice2 more nonsensical? \\\\n choice1: {sent0.lower()} choice2: {sent1.lower()}'\n",
    "        answer_string = f\"{answer} {explanation_sep} {explanation.lower()}\"  \n",
    "    elif io_format == 'unifiedqa_yn_no_tags':\n",
    "        answer = \"yes\" if bool(int(item['label'])) else \"no\"\n",
    "        input_string = f'explain is choice2 more nonsensical? \\\\n {sent0.lower()} {sent1.lower()}'\n",
    "        answer_string = f\"{answer} {explanation_sep} {explanation.lower()}\"  \n",
    "    elif io_format == 'unifiedqa_what_with_choices':\n",
    "        nonsensical_sentence = str(int(item['label'])+1)\n",
    "        input_string = f'explain what is more nonsensical? \\\\n (A) choice1 (B) choice2 \\\\n choice1: {sent0.lower()} choice2: {sent1.lower()}'\n",
    "        answer_string = f\"choice{nonsensical_sentence} {explanation_sep} {explanation.lower()}\"  # use \" BECAUSE \"\n",
    "    elif io_format == 'unifiedqa_what':\n",
    "        nonsensical_sentence = str(int(item['label'])+1)\n",
    "        input_string = f'explain what is more nonsensical? \\\\n choice1: {sent0.lower()} choice2: {sent1.lower()}'\n",
    "        answer_string = f\"choice{nonsensical_sentence} {explanation_sep} {explanation.lower()}\"  # use \" BECAUSE \"\n",
    "    elif io_format == 'unifiedqa_what_no_tags':\n",
    "        nonsensical_sentence = str(int(item['label'])+1)\n",
    "        input_string = f'explain what is more nonsensical? \\\\n {sent0.lower()} {sent1.lower()}'\n",
    "        answer_string = f\"choice{nonsensical_sentence} {explanation_sep} {explanation.lower()}\"  # use \" BECAUSE \"\n",
    "\n",
    "\n",
    "    input_string = ' '.join(input_string.split())\n",
    "    answer_string = ' '.join(answer_string.split())\n",
    "    return input_string, answer_string"
   ]
  },
  {
   "cell_type": "code",
   "execution_count": 5,
   "id": "dde6c7e1",
   "metadata": {},
   "outputs": [
    {
     "name": "stderr",
     "output_type": "stream",
     "text": [
      "PyTorch: setting up devices\n",
      "The default value for the training argument `--report_to` will change in v5 (from all installed integrations to none). In v5, you will need to use `--report_to all` to get the same behavior as now. You should start updating your code and make this info disappear :-).\n",
      "02/01/2023 11:41:28 - WARNING - __main__ -   Process rank: -1, device: cpu, n_gpu: 0, distributed training: False, 16-bits training: False\n",
      "02/01/2023 11:41:28 - INFO - __main__ -   Save path: ./cos_e_output_t5_3b/020123_114128\n",
      "02/01/2023 11:41:28 - INFO - __main__ -   Git branch: dev\n",
      "02/01/2023 11:41:28 - INFO - __main__ -   Git hash: 1cbb5c3b4e53baf31cbafc20d9655c63f091f901\n"
     ]
    }
   ],
   "source": [
    "og_start_time = time.time()\n",
    "\n",
    "#parser = HfArgumentParser(\n",
    "#    (ModelArguments, DataTrainingArguments, TrainingArguments)\n",
    "#)\n",
    "parser = HfArgumentParser(\n",
    "    (ModelArguments, DataTrainingArguments, TrainingArguments)\n",
    ")\n",
    "\n",
    "model_args, data_args, training_args, unused_args = parser.parse_args_into_dataclasses(\n",
    "    [\"--model_type\", \"t5-3b\",\n",
    "     \"--tokenizer_name\", \"t5-3b\",\n",
    "     \"--task_name\", \"cos_e\", \n",
    "     \"--output_dir\", \"./cos_e_output_t5_3b\", \n",
    "     \"--n_shots\", \"10\",\n",
    "     \"--do_train\", \"True\"], return_remaining_strings=True)\n",
    "if unused_args != []:\n",
    "    raise ValueError(f\"Received unused arguments: {unused_args}\")\n",
    "# make sure only one dataset split pick if manually specifying evaluation file\n",
    "\n",
    "if model_args.use_gpt3:\n",
    "    assert training_args.do_train\n",
    "    assert not training_args.do_eval\n",
    "    assert data_args.generations_filepath is None\n",
    "    if data_args.gpt3_max_eval_size is not None:\n",
    "        assert data_args.gpt3_max_eval_size <= data_args.fewshot_eval_size\n",
    "        assert data_args.gpt3_max_eval_size % 2 == 0\n",
    "        assert data_args.gpt3_max_eval_size % 3 == 0\n",
    "\n",
    "if data_args.generations_filepath is not None:\n",
    "    training_args.do_train = False\n",
    "    training_args.do_eval = False\n",
    "    if \"train\" in data_args.generations_filepath:\n",
    "        data_args.train_predict = True\n",
    "        data_args.test_predict = False\n",
    "        data_args.dev_predict = False\n",
    "    elif \"test\" in data_args.generations_filepath:\n",
    "        data_args.train_predict = False\n",
    "        data_args.test_predict = True\n",
    "        data_args.dev_predict = False\n",
    "    elif \"validation\" in data_args.generations_filepath:\n",
    "        data_args.train_predict = False\n",
    "        data_args.test_predict = False\n",
    "        data_args.dev_predict = True\n",
    "\n",
    "if not training_args.do_train and data_args.generations_filepath is None:\n",
    "    if not model_args.pretrained_model_file:\n",
    "        raise Exception(\n",
    "            \"if not training a model from scratch, must specify a trained model to load for evaluation\"\n",
    "        )\n",
    "\n",
    "if training_args.do_train:\n",
    "    # create a save directory and a logfile\n",
    "    training_args.output_dir = os.path.join(\n",
    "        training_args.output_dir, datetime.now().strftime(\"%m%d%y_%H%M%S\")\n",
    "    )\n",
    "    training_args.logging_dir = training_args.output_dir\n",
    "    assert not os.path.exists(training_args.output_dir)\n",
    "    os.makedirs(training_args.output_dir)\n",
    "\n",
    "    if (\n",
    "            os.path.exists(training_args.output_dir)\n",
    "            and os.listdir(training_args.output_dir)\n",
    "            and training_args.do_train\n",
    "            and not training_args.overwrite_output_dir\n",
    "    ):\n",
    "        raise ValueError(\n",
    "            f\"Output directory ({training_args.output_dir}) already exists and is not empty. Use --overwrite_output_dir to overcome.\"\n",
    "        )\n",
    "    handlers = [\n",
    "        logging.FileHandler(os.path.join(training_args.output_dir, \"logger.log\")),\n",
    "        logging.StreamHandler(),\n",
    "    ]\n",
    "else:\n",
    "    # don't overwrite existing logfile or create new directory\n",
    "    training_args.output_dir = model_args.pretrained_model_file\n",
    "    handlers = [logging.StreamHandler()]\n",
    "\n",
    "# Setup logging\n",
    "logging.basicConfig(\n",
    "    format=\"%(asctime)s - %(levelname)s - %(name)s -   %(message)s\",\n",
    "    datefmt=\"%m/%d/%Y %H:%M:%S\",\n",
    "    level=logging.INFO if training_args.local_rank in [-1, 0] else logging.WARN,\n",
    "    handlers=handlers,\n",
    ")\n",
    "logger.warning(\n",
    "    \"Process rank: %s, device: %s, n_gpu: %s, distributed training: %s, 16-bits training: %s\",\n",
    "    training_args.local_rank,\n",
    "    training_args.device,\n",
    "    training_args.n_gpu,\n",
    "    bool(training_args.local_rank != -1),\n",
    "    training_args.fp16,\n",
    ")\n",
    "logger.info(\"Save path: %s\" % training_args.output_dir)\n",
    "\n",
    "# get git hash and branch where deployed\n",
    "repo = git.Repo(search_parent_directories=True)\n",
    "git_hash = repo.head.object.hexsha\n",
    "git_branch = repo.active_branch.name\n",
    "logger.info(\"Git branch: %s\" % git_branch)\n",
    "logger.info(\"Git hash: %s\" % git_hash)\n",
    "\n",
    "model_class = \"t5\"\n",
    "assert data_args.task_name in {\"cos_e\", \"esnli\", \"sbic\", \"sensemaking\", \"ecqa\"}\n",
    "\n",
    "if training_args.do_train:\n",
    "    # write command and args to file\n",
    "    with open(\n",
    "            os.path.join(training_args.output_dir, \"commandline_args.txt\"), \"w\"\n",
    "    ) as f:\n",
    "        f.write(\"Git branch: \" + git_branch + \"\\n\")\n",
    "        f.write(\"Git hash: \" + git_hash + \"\\n\")\n",
    "        f.write(\"Command:\\n\")\n",
    "        f.write(\"\\n\".join(sys.argv[1:]))\n",
    "\n",
    "# Set seed\n",
    "set_seed(training_args.seed)\n",
    "set_other_seeds(training_args.seed)\n",
    "\n",
    "# Load pretrained model and tokenizer\n",
    "#\n",
    "# Distributed training:\n",
    "# The .from_pretrained methods guarantee that only one local process can concurrently\n",
    "# download model & vocab."
   ]
  },
  {
   "cell_type": "code",
   "execution_count": 6,
   "id": "684646b4",
   "metadata": {},
   "outputs": [
    {
     "data": {
      "text/plain": [
       "device(type='cpu')"
      ]
     },
     "execution_count": 6,
     "metadata": {},
     "output_type": "execute_result"
    }
   ],
   "source": [
    "training_args.device"
   ]
  },
  {
   "cell_type": "code",
   "execution_count": 7,
   "id": "18a3172a",
   "metadata": {},
   "outputs": [
    {
     "name": "stderr",
     "output_type": "stream",
     "text": [
      "02/01/2023 11:41:28 - INFO - __main__ -   Loading pretrained tokenizer...\n",
      "loading file https://huggingface.co/t5-3b/resolve/main/spiece.model from cache at /home/huangyongfeng/.cache/huggingface/transformers/529487bfb232bc6331b488e0e3f011af7d700beb874529a38613f0c162994f36.3b69006860e7b5d0a63ffdddc01ddcd6b7c318a6f4fd793596552c741734c62d\n",
      "loading file https://huggingface.co/t5-3b/resolve/main/added_tokens.json from cache at None\n",
      "loading file https://huggingface.co/t5-3b/resolve/main/special_tokens_map.json from cache at None\n",
      "loading file https://huggingface.co/t5-3b/resolve/main/tokenizer_config.json from cache at None\n",
      "loading file https://huggingface.co/t5-3b/resolve/main/tokenizer.json from cache at /home/huangyongfeng/.cache/huggingface/transformers/8cc0c6618e070737993bd96f1f5251e1cc850a347fa1ff28c378c89c66e66c80.8627f1bd5d270a9fd2e5a51c8bec3223896587cc3cfe13edeabb0992ab43c529\n",
      "loading configuration file https://huggingface.co/t5-3b/resolve/main/config.json from cache at /home/huangyongfeng/.cache/huggingface/transformers/9548aafe2574163cda830b603f9821f06bbded327f57ecf09d4ad292d00f4b09.9872b28381f35eb45b1f1f839ef14943e64a0a448f611993c2e987c4d3e0844c\n",
      "Model config T5Config {\n",
      "  \"architectures\": [\n",
      "    \"T5WithLMHeadModel\"\n",
      "  ],\n",
      "  \"d_ff\": 16384,\n",
      "  \"d_kv\": 128,\n",
      "  \"d_model\": 1024,\n",
      "  \"decoder_start_token_id\": 0,\n",
      "  \"dropout_rate\": 0.1,\n",
      "  \"eos_token_id\": 1,\n",
      "  \"feed_forward_proj\": \"relu\",\n",
      "  \"gradient_checkpointing\": false,\n",
      "  \"initializer_factor\": 1.0,\n",
      "  \"is_encoder_decoder\": true,\n",
      "  \"layer_norm_epsilon\": 1e-06,\n",
      "  \"model_type\": \"t5\",\n",
      "  \"n_positions\": 512,\n",
      "  \"num_decoder_layers\": 24,\n",
      "  \"num_heads\": 32,\n",
      "  \"num_layers\": 24,\n",
      "  \"output_past\": true,\n",
      "  \"pad_token_id\": 0,\n",
      "  \"relative_attention_num_buckets\": 32,\n",
      "  \"task_specific_params\": {\n",
      "    \"summarization\": {\n",
      "      \"early_stopping\": true,\n",
      "      \"length_penalty\": 2.0,\n",
      "      \"max_length\": 200,\n",
      "      \"min_length\": 30,\n",
      "      \"no_repeat_ngram_size\": 3,\n",
      "      \"num_beams\": 4,\n",
      "      \"prefix\": \"summarize: \"\n",
      "    },\n",
      "    \"translation_en_to_de\": {\n",
      "      \"early_stopping\": true,\n",
      "      \"max_length\": 300,\n",
      "      \"num_beams\": 4,\n",
      "      \"prefix\": \"translate English to German: \"\n",
      "    },\n",
      "    \"translation_en_to_fr\": {\n",
      "      \"early_stopping\": true,\n",
      "      \"max_length\": 300,\n",
      "      \"num_beams\": 4,\n",
      "      \"prefix\": \"translate English to French: \"\n",
      "    },\n",
      "    \"translation_en_to_ro\": {\n",
      "      \"early_stopping\": true,\n",
      "      \"max_length\": 300,\n",
      "      \"num_beams\": 4,\n",
      "      \"prefix\": \"translate English to Romanian: \"\n",
      "    }\n",
      "  },\n",
      "  \"transformers_version\": \"4.9.2\",\n",
      "  \"use_cache\": true,\n",
      "  \"vocab_size\": 32128\n",
      "}\n",
      "\n",
      "loading configuration file https://huggingface.co/t5-3b/resolve/main/config.json from cache at /home/huangyongfeng/.cache/huggingface/transformers/9548aafe2574163cda830b603f9821f06bbded327f57ecf09d4ad292d00f4b09.9872b28381f35eb45b1f1f839ef14943e64a0a448f611993c2e987c4d3e0844c\n",
      "Model config T5Config {\n",
      "  \"architectures\": [\n",
      "    \"T5WithLMHeadModel\"\n",
      "  ],\n",
      "  \"d_ff\": 16384,\n",
      "  \"d_kv\": 128,\n",
      "  \"d_model\": 1024,\n",
      "  \"decoder_start_token_id\": 0,\n",
      "  \"dropout_rate\": 0.1,\n",
      "  \"eos_token_id\": 1,\n",
      "  \"feed_forward_proj\": \"relu\",\n",
      "  \"gradient_checkpointing\": false,\n",
      "  \"initializer_factor\": 1.0,\n",
      "  \"is_encoder_decoder\": true,\n",
      "  \"layer_norm_epsilon\": 1e-06,\n",
      "  \"model_type\": \"t5\",\n",
      "  \"n_positions\": 512,\n",
      "  \"num_decoder_layers\": 24,\n",
      "  \"num_heads\": 32,\n",
      "  \"num_layers\": 24,\n",
      "  \"output_past\": true,\n",
      "  \"pad_token_id\": 0,\n",
      "  \"relative_attention_num_buckets\": 32,\n",
      "  \"task_specific_params\": {\n",
      "    \"summarization\": {\n",
      "      \"early_stopping\": true,\n",
      "      \"length_penalty\": 2.0,\n",
      "      \"max_length\": 200,\n",
      "      \"min_length\": 30,\n",
      "      \"no_repeat_ngram_size\": 3,\n",
      "      \"num_beams\": 4,\n",
      "      \"prefix\": \"summarize: \"\n",
      "    },\n",
      "    \"translation_en_to_de\": {\n",
      "      \"early_stopping\": true,\n",
      "      \"max_length\": 300,\n",
      "      \"num_beams\": 4,\n",
      "      \"prefix\": \"translate English to German: \"\n",
      "    },\n",
      "    \"translation_en_to_fr\": {\n",
      "      \"early_stopping\": true,\n",
      "      \"max_length\": 300,\n",
      "      \"num_beams\": 4,\n",
      "      \"prefix\": \"translate English to French: \"\n",
      "    },\n",
      "    \"translation_en_to_ro\": {\n",
      "      \"early_stopping\": true,\n",
      "      \"max_length\": 300,\n",
      "      \"num_beams\": 4,\n",
      "      \"prefix\": \"translate English to Romanian: \"\n",
      "    }\n",
      "  },\n",
      "  \"transformers_version\": \"4.9.2\",\n",
      "  \"use_cache\": true,\n",
      "  \"vocab_size\": 32128\n",
      "}\n",
      "\n",
      "loading weights file https://huggingface.co/t5-3b/resolve/main/pytorch_model.bin from cache at /home/huangyongfeng/.cache/huggingface/transformers/289687014f876f6cef27445bdc8175fd03dc36a99201b68d8e925957e4987b4f.885f97e8ec826518534b45f8b52caea4ca553494390d587dcf49492d95732676\n",
      "All model checkpoint weights were used when initializing T5ForConditionalGeneration.\n",
      "\n",
      "All the weights of T5ForConditionalGeneration were initialized from the model checkpoint at t5-3b.\n",
      "If your task is similar to the task the model of the checkpoint was trained on, you can already use T5ForConditionalGeneration for predictions without further training.\n"
     ]
    }
   ],
   "source": [
    "import logging\n",
    "logger = logging.getLogger(__name__)\n",
    "CONFIG_MAPPING = {\"t5\": T5Config}\n",
    "MODEL_MAPPING = {\"t5\": T5ForConditionalGeneration}\n",
    "TOKENIZER_MAPPING = {\"t5\": T5Tokenizer}\n",
    "model_class = \"t5\"\n",
    "tokenizer_name = TOKENIZER_MAPPING[model_class]\n",
    "logger.info(\"Loading pretrained tokenizer...\")\n",
    "model_args.tokenizer_name='t5-3b'\n",
    "tokenizer = tokenizer_name.from_pretrained(model_args.tokenizer_name)#, cache_dir=model_args.cache_dir)\n",
    "\n",
    "model = T5ForConditionalGeneration.from_pretrained(\"t5-3b\")"
   ]
  },
  {
   "cell_type": "code",
   "execution_count": 8,
   "id": "62eef1a8",
   "metadata": {},
   "outputs": [
    {
     "data": {
      "text/plain": [
       "DataTrainingArguments(task_name='cos_e', early_stopping_patience=10, overwrite_cache=False, train_predict=False, test_predict=False, dev_predict=False, version_name='v1.11', generations_filepath=None, n_shots=10, fewshot_eval_size=350, io_format='t5_fewshot_infilling_without_choices_use_refined_expl', explanation_sep='explanation', data_path=None, gpt3_max_eval_size=None)"
      ]
     },
     "execution_count": 8,
     "metadata": {},
     "output_type": "execute_result"
    }
   ],
   "source": [
    "data_splits = {'train': None, 'validation': None, 'test': None}\n",
    "original_data_splits = {'train': None, 'validation': None, 'test': None}  \n",
    "data_args.io_format=\"t5_fewshot_infilling_without_choices_use_refined_expl\"\n",
    "data_args"
   ]
  },
  {
   "cell_type": "code",
   "execution_count": 9,
   "id": "efc49c0c",
   "metadata": {},
   "outputs": [
    {
     "data": {
      "application/json": {
       "ascii": false,
       "bar_format": null,
       "colour": null,
       "elapsed": 0.01349639892578125,
       "initial": 0,
       "n": 0,
       "ncols": null,
       "nrows": 62,
       "postfix": null,
       "prefix": "",
       "rate": null,
       "total": 2,
       "unit": "it",
       "unit_divisor": 1000,
       "unit_scale": false
      },
      "application/vnd.jupyter.widget-view+json": {
       "model_id": "984102ac08864789804be9946735de42",
       "version_major": 2,
       "version_minor": 0
      },
      "text/plain": [
       "  0%|          | 0/2 [00:00<?, ?it/s]"
      ]
     },
     "metadata": {},
     "output_type": "display_data"
    },
    {
     "data": {
      "text/plain": [
       "dict_keys(['abstractive_explanation', 'answer', 'id', 'extractive_explanation', 'choices', 'question'])"
      ]
     },
     "execution_count": 9,
     "metadata": {},
     "output_type": "execute_result"
    }
   ],
   "source": [
    "dataset = datasets.load_dataset(data_args.task_name, data_args.version_name)\n",
    "train_ids_list=[x['id'] for x in dataset[\"train\"]]\n",
    "dataset['train'][0].keys()"
   ]
  },
  {
   "cell_type": "code",
   "execution_count": 10,
   "id": "294780bc",
   "metadata": {},
   "outputs": [
    {
     "data": {
      "application/json": {
       "ascii": false,
       "bar_format": null,
       "colour": null,
       "elapsed": 0.01529836654663086,
       "initial": 0,
       "n": 0,
       "ncols": null,
       "nrows": 62,
       "postfix": null,
       "prefix": "",
       "rate": null,
       "total": 1,
       "unit": "it",
       "unit_divisor": 1000,
       "unit_scale": false
      },
      "application/vnd.jupyter.widget-view+json": {
       "model_id": "7d49a535ba4f4e4d8abae13e1a4a84fb",
       "version_major": 2,
       "version_minor": 0
      },
      "text/plain": [
       "  0%|          | 0/1 [00:00<?, ?it/s]"
      ]
     },
     "metadata": {},
     "output_type": "display_data"
    },
    {
     "name": "stdout",
     "output_type": "stream",
     "text": [
      "[6723, 3269, 12, 6020, 7815, 0, 13, 7, 3556, 4587, 3166, 2607, 1999, 332, 8571, 2, 3520, 6, 1425, 2361, 3764, 7728, 8352, 1273, 5191, 496, 11, 8143, 6929, 4552, 4652, 7764, 6736, 401, 147, 8339, 3128, 5556, 8769, 4417, 8778, 7145, 1279, 6297, 7149, 5884, 10, 5747, 6273, 8, 9504, 8057, 1307, 2183, 1699, 88, 3228, 7178, 2140, 4048, 1041, 1, 3, 5868, 111, 7889, 5370, 8886, 2137, 6980, 9117, 1891, 7827, 1484, 14, 3668, 7090, 5, 7817, 6213, 4656, 5074, 7514, 5896, 4, 9, 7991, 58, 1887, 1598, 3994, 2212, 2274, 6830, 8826, 1604, 9008, 2013, 6521, 4793, 4338, 3923, 8091, 4904, 3938, 3900, 8156, 5806, 8363, 1787, 1496, 5753, 6351, 1104, 1222]\n"
     ]
    },
    {
     "data": {
      "text/plain": [
       "115"
      ]
     },
     "execution_count": 10,
     "metadata": {},
     "output_type": "execute_result"
    }
   ],
   "source": [
    "#rationale generation labeled data construction 115\n",
    "import pandas as pd\n",
    "scr_csqa_labeled_path=\"/cognitive_comp/huangyongfeng/evaluate_LM_with_rationalization/few_shot_explanations/data/handwritten_cose_v1.11_examples.csv\"\n",
    "scr_csqa_label_df=pd.read_csv(scr_csqa_labeled_path)\n",
    "scr_csqa_label_data=datasets.load_dataset('csv', data_files=scr_csqa_labeled_path)\n",
    "scr_csqa_label_ids_list=[x['id'] for x in scr_csqa_label_data['train']]\n",
    "scr_csqa_indexs_list=[train_ids_list.index(id_) for id_ in scr_csqa_label_ids_list]\n",
    "scr_csqa_label_our_explanations_list=[x['our_explanation'] for x in scr_csqa_label_data['train']]\n",
    "print(scr_csqa_indexs_list)\n",
    "data_splits={}\n",
    "data_splits['train']=dataset['train'].select(scr_csqa_indexs_list)\n",
    "\n",
    "refine_train_data=[]\n",
    "for kk, (ex,da) in enumerate(zip(scr_csqa_label_our_explanations_list, data_splits['train'])):\n",
    "#     print(da)\n",
    "    data_splits['train'][kk]['our_explanation']=ex\n",
    "    #print(type(data_splits['train'][kk]),data_splits['train'][kk].keys())\n",
    "    da['our_explanation']=ex\n",
    "    refine_train_data.append(da)\n",
    "\n",
    "len(data_splits['train'])"
   ]
  },
  {
   "cell_type": "code",
   "execution_count": 11,
   "id": "1d97f507",
   "metadata": {},
   "outputs": [
    {
     "data": {
      "application/json": {
       "ascii": false,
       "bar_format": null,
       "colour": null,
       "elapsed": 0.01445317268371582,
       "initial": 0,
       "n": 0,
       "ncols": null,
       "nrows": 62,
       "postfix": null,
       "prefix": "",
       "rate": null,
       "total": 1,
       "unit": "it",
       "unit_divisor": 1000,
       "unit_scale": false
      },
      "application/vnd.jupyter.widget-view+json": {
       "model_id": "dfb615ee20404014a806f0b465d13883",
       "version_major": 2,
       "version_minor": 0
      },
      "text/plain": [
       "  0%|          | 0/1 [00:00<?, ?it/s]"
      ]
     },
     "metadata": {},
     "output_type": "display_data"
    },
    {
     "data": {
      "text/plain": [
       "{'id': '5b8a3081c3235d62bc77e2d15f3ad454',\n",
       " 'question': 'A town between two mountains is located in a what?',\n",
       " 'choices': ['valley', 'hospital', 'state', 'train station', 'michigan'],\n",
       " 'answer': 'valley',\n",
       " 'abstractive_explanation': 'valleys are always between two mountains',\n",
       " 'extractive_explanation': 'A town between two mountains',\n",
       " 'our_explanation': 'A valley is usually between two mountains, where it is located in the place where the mountains are closest to each other.'}"
      ]
     },
     "execution_count": 11,
     "metadata": {},
     "output_type": "execute_result"
    }
   ],
   "source": [
    "#rationale unlabeled data construction 991\n",
    "import pdb\n",
    "scr_csqa_unlabeled_test_file=\"/cognitive_comp/huangyongfeng/evaluate_LM_with_rationalization/few_shot_explanations/data/acceptability_annotations/commonsenseqa_test.csv\"\n",
    "fse_csqa_dev_dataset = datasets.load_dataset('csv', data_files=scr_csqa_unlabeled_test_file)\n",
    "scr_csqa_unlabeled_test_df=pd.read_csv(scr_csqa_unlabeled_test_file)\n",
    "fse_csqa_dev_data_dict={}\n",
    "for kk, da in enumerate(fse_csqa_dev_dataset['train']):\n",
    "    #pdb.set_trace()\n",
    "    id_=da['Input.id']\n",
    "    if da['Answer.acceptable']:\n",
    "        answer_accept=set(da['Answer.acceptable'].split('|'))\n",
    "    else:\n",
    "        answer_accept=set()\n",
    "    explanation_list=[da['Input.explanation_1'], \n",
    "                      da['Input.explanation_2'],\n",
    "                      da['Input.explanation_3'],\n",
    "                      da['Input.explanation_4'],\n",
    "                      da['Input.explanation_5']]\n",
    "    if id_ not in fse_csqa_dev_data_dict.keys():\n",
    "        fse_csqa_dev_data_dict[id_]={\"index\":kk,\"id\":id_,\n",
    "                                     \"question\":da[\"Input.question\"],\n",
    "                                     'answer':da['Input.gold_label'],\n",
    "                                     \"accept_set_list\":[answer_accept],\n",
    "                                     \"explanation_list\":explanation_list}\n",
    "        #[[kk, id_, answer_accept, explanation_list]]\n",
    "    else:\n",
    "        fse_csqa_dev_data_dict[id_][\"accept_set_list\"].append(answer_accept)\n",
    "    if len(fse_csqa_dev_data_dict[id_][\"accept_set_list\"])==3:\n",
    "        fse_csqa_dev_data_dict[id_][\"common_expl_list\"]=[]\n",
    "        common_accept_expl_sample=set.intersection(fse_csqa_dev_data_dict[id_][\"accept_set_list\"][0], \n",
    "                                                   fse_csqa_dev_data_dict[id_][\"accept_set_list\"][1], \n",
    "                                                   fse_csqa_dev_data_dict[id_][\"accept_set_list\"][2])\n",
    "        for idx in list(common_accept_expl_sample):\n",
    "            idx=int(idx)-1\n",
    "            fse_csqa_dev_data_dict[id_][\"common_expl_list\"].append(fse_csqa_dev_data_dict[id_][\"explanation_list\"][idx])\n",
    "        \n",
    "#discriminate 3/3 id\n",
    "id_accept_expl_list=[]\n",
    "our_accept_expl_list=[]\n",
    "id_unaccept_expl_list=[]\n",
    "for k,v in fse_csqa_dev_data_dict.items():\n",
    "    accept_set_list=v['accept_set_list']\n",
    "    assert len(accept_set_list)==3\n",
    "    #pdb.set_trace()\n",
    "    common_accept_expl_sample=set.intersection(accept_set_list[0], accept_set_list[1], accept_set_list[2])\n",
    "    #print(accept_set_list,common_accept_expl_sample)\n",
    "    #pdb.set_trace()\n",
    "    if common_accept_expl_sample:\n",
    "        id_accept_expl_list.append(k)\n",
    "        our_expl=\"\"\n",
    "        for idx in list(common_accept_expl_sample):\n",
    "            idx=int(idx)-1\n",
    "            if len(v['explanation_list'][idx]) > len(our_expl):\n",
    "                our_expl = v['explanation_list'][idx]\n",
    "                our_accept_expl_list.append(our_expl)\n",
    "    else:\n",
    "        id_unaccept_expl_list.append(k)\n",
    "\n",
    "dev_ids_list=[x['id'] for x in dataset['validation']]\n",
    "dev_accept_indexs_list=[dev_ids_list.index(id_) for id_ in id_accept_expl_list]\n",
    "dev_unaccpet_indexs_list=[dev_ids_list.index(id_) for id_ in id_unaccept_expl_list]\n",
    "dev_accept_data=dataset['validation'].select(dev_accept_indexs_list)\n",
    "dev_unaccept_data=dataset['validation'].select(dev_unaccpet_indexs_list)\n",
    "\n",
    "\n",
    "\n",
    "new_dev_accept_data=[]\n",
    "new_dev_unaccept_data=[]\n",
    "for oexp, da in zip(our_accept_expl_list,dev_accept_data):\n",
    "    da[\"our_explanation\"]=oexp\n",
    "    new_dev_accept_data.append(da)\n",
    "for da in dev_unaccept_data:\n",
    "    da[\"our_explanation\"]=oexp\n",
    "    new_dev_unaccept_data.append(da)\n",
    "        \n",
    "new_dev_accept_data[0]\n",
    "        "
   ]
  },
  {
   "cell_type": "code",
   "execution_count": 12,
   "id": "ffe13707",
   "metadata": {},
   "outputs": [
    {
     "data": {
      "text/plain": [
       "{'index': 0,\n",
       " 'id': '5b8a3081c3235d62bc77e2d15f3ad454',\n",
       " 'question': 'A town between two mountains is located in a what?',\n",
       " 'answer': 'valley',\n",
       " 'accept_set_list': [{'2', '4', '5'}, {'2', '4', '5'}, {'2', '4', '5'}],\n",
       " 'explanation_list': ['Because all of the mountains are to the left of this town, if one was looking on a map, one would be able to see the town in the valley.',\n",
       "  'A valley is usually between two mountains, where it is located in the place where the mountains are closest to each other.',\n",
       "  'Because rivers end in valleys; assuming the river is the one of interest, this sentence is likely referring to the geographical location of the town.',\n",
       "  'A town in between mountains presumably would be in a valley, in which case it is plausable that it would be surrounded by heights in every direction.',\n",
       "  'A valley is a low area between two mountains.'],\n",
       " 'common_expl_list': ['A valley is usually between two mountains, where it is located in the place where the mountains are closest to each other.',\n",
       "  'A town in between mountains presumably would be in a valley, in which case it is plausable that it would be surrounded by heights in every direction.',\n",
       "  'A valley is a low area between two mountains.']}"
      ]
     },
     "execution_count": 12,
     "metadata": {},
     "output_type": "execute_result"
    }
   ],
   "source": [
    "fse_csqa_dev_data_dict['5b8a3081c3235d62bc77e2d15f3ad454']\n"
   ]
  },
  {
   "cell_type": "code",
   "execution_count": 13,
   "id": "3161874f",
   "metadata": {},
   "outputs": [],
   "source": [
    "# for k,v in fse_csqa_dev_data_dict.items():\n",
    "#     #print(v.keys())\n",
    "#     print(\"******\")\n",
    "#     print(v['question'])\n",
    "#     print(v['answer'])\n",
    "#     print(v['common_expl_list'])\n",
    "#     print(\"******\")    \n",
    "# for k,v in fse_csqa_train_data_dict.items():\n",
    "#     #print(v.keys())\n",
    "#     print(\"******\")\n",
    "#     print(v['question'])\n",
    "#     print(v['answer'])\n",
    "#     print(v['common_expl_list'])\n",
    "#     print(\"******\") \n"
   ]
  },
  {
   "cell_type": "code",
   "execution_count": 14,
   "id": "3e0e8a2d",
   "metadata": {},
   "outputs": [
    {
     "data": {
      "application/json": {
       "ascii": false,
       "bar_format": null,
       "colour": null,
       "elapsed": 0.013887882232666016,
       "initial": 0,
       "n": 0,
       "ncols": null,
       "nrows": 62,
       "postfix": null,
       "prefix": "",
       "rate": null,
       "total": 1,
       "unit": "it",
       "unit_divisor": 1000,
       "unit_scale": false
      },
      "application/vnd.jupyter.widget-view+json": {
       "model_id": "d6b20e103f4e4bf7980f7d204586f93f",
       "version_major": 2,
       "version_minor": 0
      },
      "text/plain": [
       "  0%|          | 0/1 [00:00<?, ?it/s]"
      ]
     },
     "metadata": {},
     "output_type": "display_data"
    },
    {
     "data": {
      "text/plain": [
       "{'id': 'ed53cbea1f21072fab892031b31192d1',\n",
       " 'question': 'Where can you likely buy many poems?',\n",
       " 'choices': ['book of poetry',\n",
       "  'literature book',\n",
       "  'book store',\n",
       "  'poetry book',\n",
       "  'bookshelf'],\n",
       " 'answer': 'book store',\n",
       " 'abstractive_explanation': 'book store book',\n",
       " 'extractive_explanation': 'buy many poems',\n",
       " 'our_explanation': 'A bookstore sells a variety of books, including poetry books; chains of bookstores sometimes specialize in categories such as poetry or literature.'}"
      ]
     },
     "execution_count": 14,
     "metadata": {},
     "output_type": "execute_result"
    }
   ],
   "source": [
    "#rationale unlabeled data construction 991\n",
    "import pdb\n",
    "scr_csqa_unlabeled_train_file=\"/cognitive_comp/huangyongfeng/evaluate_LM_with_rationalization/few_shot_explanations/data/acceptability_annotations/commonsenseqa_train.csv\"\n",
    "fse_csqa_train_dataset = datasets.load_dataset('csv', data_files=scr_csqa_unlabeled_train_file)\n",
    "scr_csqa_unlabeled_train_df=pd.read_csv(scr_csqa_unlabeled_train_file)\n",
    "fse_csqa_train_data_dict={}\n",
    "for kk, da in enumerate(fse_csqa_train_dataset['train']):\n",
    "    #pdb.set_trace()\n",
    "    id_=da['Input.id']\n",
    "    if da['Answer.acceptable']:\n",
    "        answer_accept=set(da['Answer.acceptable'].split('|'))\n",
    "    else:\n",
    "        answer_accept=set()\n",
    "    explanation_list=[da['Input.explanation_1'], \n",
    "                      da['Input.explanation_2'],\n",
    "                      da['Input.explanation_3'],\n",
    "                      da['Input.explanation_4'],\n",
    "                      da['Input.explanation_5']]\n",
    "    if id_ not in fse_csqa_train_data_dict.keys():\n",
    "        fse_csqa_train_data_dict[id_]={\"index\":kk,\"id\":id_,\n",
    "                                     \"question\":da[\"Input.question\"],\n",
    "                                     'answer':da['Input.gold_label'],\n",
    "                                     \"accept_set_list\":[answer_accept],\n",
    "                                     \"explanation_list\":explanation_list}\n",
    "        #[[kk, id_, answer_accept, explanation_list]]\n",
    "    else:\n",
    "        fse_csqa_train_data_dict[id_][\"accept_set_list\"].append(answer_accept)\n",
    "        \n",
    "    if len(fse_csqa_train_data_dict[id_][\"accept_set_list\"])==3:\n",
    "        fse_csqa_train_data_dict[id_][\"common_expl_list\"]=[]\n",
    "        common_accept_expl_sample=set.intersection(fse_csqa_train_data_dict[id_][\"accept_set_list\"][0], \n",
    "                                                   fse_csqa_train_data_dict[id_][\"accept_set_list\"][1], \n",
    "                                                   fse_csqa_train_data_dict[id_][\"accept_set_list\"][2])\n",
    "        for idx in list(common_accept_expl_sample):\n",
    "            idx=int(idx)-1\n",
    "            fse_csqa_train_data_dict[id_][\"common_expl_list\"].append(fse_csqa_train_data_dict[id_][\"explanation_list\"][idx])\n",
    "\n",
    "    \n",
    "#discriminate 3/3 id\n",
    "id_accept_expl_list=[]\n",
    "our_accept_expl_list=[]\n",
    "id_unaccept_expl_list=[]\n",
    "for k,v in fse_csqa_train_data_dict.items():\n",
    "    accept_set_list=v['accept_set_list']\n",
    "    assert len(accept_set_list)==3\n",
    "    #pdb.set_trace()\n",
    "    common_accept_expl_sample=set.intersection(accept_set_list[0], accept_set_list[1], accept_set_list[2])\n",
    "    #print(accept_set_list,common_accept_expl_sample)\n",
    "    #pdb.set_trace()\n",
    "    if common_accept_expl_sample:\n",
    "        id_accept_expl_list.append(k)\n",
    "        our_expl=\"\"\n",
    "        for idx in list(common_accept_expl_sample):\n",
    "            idx=int(idx)-1\n",
    "            if len(v['explanation_list'][idx]) > len(our_expl):\n",
    "                our_expl = v['explanation_list'][idx]\n",
    "                our_accept_expl_list.append(our_expl)\n",
    "    else:\n",
    "        id_unaccept_expl_list.append(k)\n",
    "\n",
    "train_ids_list=[x['id'] for x in dataset['train']]\n",
    "train_accept_indexs_list=[train_ids_list.index(id_) for id_ in id_accept_expl_list]\n",
    "train_unaccpet_indexs_list=[train_ids_list.index(id_) for id_ in id_unaccept_expl_list]\n",
    "train_accept_data=dataset['train'].select(train_accept_indexs_list)\n",
    "train_unaccept_data=dataset['train'].select(train_unaccpet_indexs_list)\n",
    "\n",
    "\n",
    "\n",
    "new_train_accept_data=[]\n",
    "new_train_unaccept_data=[]\n",
    "for oexp, da in zip(our_accept_expl_list,train_accept_data):\n",
    "    da[\"our_explanation\"]=oexp\n",
    "    new_train_accept_data.append(da)\n",
    "for da in train_unaccept_data:\n",
    "    da[\"our_explanation\"]=oexp\n",
    "    new_train_unaccept_data.append(da)\n",
    "        \n",
    "new_train_accept_data[0]"
   ]
  },
  {
   "cell_type": "code",
   "execution_count": 15,
   "id": "595b9453",
   "metadata": {},
   "outputs": [
    {
     "data": {
      "text/plain": [
       "(set(), set())"
      ]
     },
     "execution_count": 15,
     "metadata": {},
     "output_type": "execute_result"
    }
   ],
   "source": [
    "refine_train_data=refine_train_data\n",
    "refine_dev_data=new_train_accept_data + new_dev_accept_data\n",
    "refine_test_data=new_train_unaccept_data + new_dev_unaccept_data\n",
    "\n",
    "refine_train_ids_list=[x['id'] for x in refine_train_data]\n",
    "refine_dev_ids_list=[x['id'] for x in refine_dev_data]\n",
    "refine_test_ids_list=[x['id'] for x in refine_test_data]\n",
    "\n",
    "set(refine_train_ids_list).intersection(set(refine_dev_ids_list)),set(refine_train_ids_list).intersection(set(refine_test_ids_list))\n",
    "\n"
   ]
  },
  {
   "cell_type": "code",
   "execution_count": 16,
   "id": "48e4ec26",
   "metadata": {},
   "outputs": [
    {
     "data": {
      "text/plain": [
       "dict_keys(['id', 'question', 'choices', 'answer', 'abstractive_explanation', 'extractive_explanation', 'our_explanation'])"
      ]
     },
     "execution_count": 16,
     "metadata": {},
     "output_type": "execute_result"
    }
   ],
   "source": [
    "our_data_splits={}\n",
    "our_data_splits['train']=refine_train_data\n",
    "our_data_splits['dev']=refine_dev_data\n",
    "our_data_splits['test']=refine_test_data\n",
    "refine_train_data[0].keys()"
   ]
  },
  {
   "cell_type": "markdown",
   "id": "0fcdf34f",
   "metadata": {},
   "source": [
    "# shots number"
   ]
  },
  {
   "cell_type": "code",
   "execution_count": 17,
   "id": "486c2796",
   "metadata": {},
   "outputs": [],
   "source": [
    "id_list = [\n",
    " '71519c19654251cced50c5718fd527c1',\n",
    " '44195d210c81c8c550174d0edbd3ad5d',\n",
    " '5a5da37b685ec9c6f15228128ce30437',\n",
    " 'cabdfc174953b4bdb8bdcc89d6592c74',\n",
    " 'eac3a4080127e8924034651b57dfa289',\n",
    " 'c0013f31657294b9b5ad819123513ca7',\n",
    " '2681697be70cd5425899ed6deb84b18a',\n",
    " '47f60340b869552e795fa6782224f3d2',\n",
    " '7e8a6eac93147eb52d8151bab7b40003',\n",
    " 'f34267f498c8a78383e35057fbcfa2ce',\n",
    " 'f024f923d78e5c0a4c0c4baa3ddccf05',\n",
    " 'e148c710d0c26849cf1f15293481038b',\n",
    " 'bdf437d7498815f36c255f64a8e6571c',\n",
    " '2282e0c80be28aadadb79a822fec9dac',\n",
    " 'bdd05e96876342b4b5999709439a7f4e',\n",
    " '494b8316614fc64c5c27757aeaffce23_1',\n",
    " 'c4494b402264250dc70931613d482295',\n",
    " 'fcfbf207c5586294fdce33b645b613f1',\n",
    " '9c583bcbe68989a644433302545fb31e',\n",
    " '0e684d779d98e6eecda167c10af42bbb',\n",
    " 'ac0462d09b9fddd40c3c77aedf48a870',\n",
    " '1dbfb41e04a10bdbb085bfe667c0df99',\n",
    " 'cd0c0ef3b8ce0eb09ff26823f6059be6',\n",
    " 'e6b67184b99375d05d3f2887f684c684',\n",
    " 'ae9f6f1e17b3fdd3a86b494933809f45',\n",
    " 'f149604169936a30b7e4c8d599d604b5',\n",
    " 'd7c8377953e0175ef57d59f3a8e63a8e',\n",
    " '1837216ac7745121b82a6491b2318c09',\n",
    " 'b5fe238d45e55ca5d802b7823ad390ef',\n",
    " 'b2fbeb0b48bd5e575af0f7dc24cdd85d',\n",
    " '9bdfb101c487ac598f6e4686cf774703',\n",
    " '206c7116ee2246180fcc0c5a1d0e7205',\n",
    " '5cd7f44bbf730dfae5ef2a362d2e5149',\n",
    " '45d0ea781ffd49b07d6eae94d47a8945',\n",
    " '89afdea1d76272fda8e1538a7d3b7a3f',\n",
    " '38a514fe54108527e1d6e89d9812da93',\n",
    " 'ebf347934a3e90ea46d3d87726fb5d25',\n",
    " '90226a6ecd7308ae1e6220a15ae24bc6',\n",
    " '5cae8057e75e3adf5c338a43b3ba97fb',\n",
    " '388a363c49e1b0aca8eaf18ccdde0caf',\n",
    " '9ed3af82152dfcd7000bf4631b095f71',\n",
    " '2d5805d894bba224c5fe91e70b8c0f77',\n",
    " 'd5aa464a16b72c9b9f3091abd461e3ef',\n",
    " '381b11c54be4cc432a95053ca34cbf6b',\n",
    " '807a3a2dabdd50ed0c76052fd2612632',\n",
    " '5172041c750d22e9a5081cc024de0fa6',\n",
    " 'd32a45ab3b751110d0578a78e54c0e64',\n",
    " '28ca5cbe27774746c34f6ebe84fc6d0c']\n",
    "\n",
    "chatGPT_rationales = [\n",
    "    \"A cup is a common vessel used for holding and drinking liquids, such as water, coffee, or tea. When you want to get yourself a drink, you might typically get a cup from a cabinet or other storage area in order to hold the drink. A cup is a convenient and practical choice for getting a drink because it is easy to hold and use, and it can hold a reasonable amount of liquid. There are many different types of cups available, including ceramic, glass, plastic, and metal cups, each with their own unique features and benefits. Whether you are at home, at work, or out in public, a cup is a handy item to have on hand when you need to quench your thirst.\",\n",
    "    \"A front yard is the lawn that is typically located in front of a house, near the street. The front yard is the part of the property that is visible from the street and is often used for decorative purposes, such as landscaping or gardening. Many people take pride in their front yards and may spend time and resources maintaining and improving them. The front yard is often the first thing that visitors see when they arrive at a house, and it can make a strong impression on them. In contrast, the back yard is typically located behind the house and is often used for more practical purposes, such as outdoor recreation or gardening.\",\n",
    "    \"A swimming pool is a recreational water feature that is typically used for swimming and other aquatic activities. While shallow water, such as that found in a kiddie pool or a shallow end of a pool, can be enjoyable for some people, it may not be sufficient for many summer activities. A swimming pool that is deep enough for diving and other activities is more likely to provide more opportunities for summer fun. In addition, a swimming pool that is clean and chlorinated is more likely to be safe and enjoyable for swimming, as it will be free of contaminants and bacteria that can cause illness.\",\n",
    "    \"In most places, it is illegal for people under the age of 21 to purchase or consume alcohol. This is because alcohol can have negative effects on the developing brain and body of young people. It can also contribute to risky behaviors and accidents. Therefore, many governments have set a minimum age for alcohol consumption and purchase to help protect the health and safety of young people. If someone is under the age of 21 and attempts to purchase alcohol, they may be denied the sale or face legal consequences. It is important for young people to understand and adhere to the laws and regulations regarding the purchase and consumption of alcohol in their area.\",\n",
    "    \"When someone shaves, they typically use a razor to remove hair from their face or body. The process of shaving can leave a lot of hair in the sink, as the hair is trimmed off and falls into the sink as it is being shaved. It is common for people to shave in the bathroom, where a sink is typically located. The sink provides a convenient place to rinse the razor and wash off any excess hair or shaving cream. It is important to clean the sink after shaving to remove any hair and prevent clogs in the drain.\",\n",
    "    \"A hamburger is a type of sandwich that consists of a cooked patty of ground meat, typically beef, placed between two slices of bread or a bun. Hamburgers are often served with various toppings, such as lettuce, tomato, onion, cheese, and condiments like ketchup and mustard. However, if someone is suffering from great hunger, they may not care about the toppings and just want to eat the hamburger itself. In this case, the person may be more focused on satisfying their hunger and getting nourishment rather than worrying about additional ingredients or flavors.\",\n",
    "    \"If a person notices popcorn and cotton candy on the grass, they are likely at fairgrounds. Fairgrounds are outdoor areas that are used for hosting fairs and other events, such as carnivals, festivals, and exhibitions. These events often feature food stalls and vendors that sell a variety of treats, including popcorn and cotton candy. Popcorn and cotton candy are both popular carnival foods that are often sold at fairs and other events. The presence of these foods on the ground at fairgrounds suggests that a fair or similar event is taking place there.\",\n",
    "    \"When snow on a mountain becomes heavy, it can trigger an avalanche. An avalanche is a rapid flow of snow down a slope, often triggered by the weight of the snow or external factors such as a change in temperature. Avalanches can be dangerous and destructive, as they can bury and sweep away anything in their path, including people, buildings, and vehicles. Avalanches can occur on any slope with a steep enough incline and a sufficient amount of snow. They are most common on mountains, but they can also occur in other snowy areas, such as forests or valleys. It is important for people to be aware of the risk of avalanches and to take precautions when traveling in areas prone to avalanches.\",\n",
    "    \"A police officer typically reports their work through the use of case reports or incident reports. These reports are written documents that detail the events of a specific case or incident that the officer has worked on. Case reports or incident reports typically include information such as the date and time of the incident, the location, the people involved, and the actions taken by the officer. They may also include witness statements, evidence collected, and any other relevant details. Case reports or incident reports are used by police officers to document their work and provide a record of the incidents they have dealt with. They are also used by supervisors and other authorities to review and evaluate the performance of the officer and the effectiveness of their actions.\",\n",
    "    \"Teachers play many roles in the lives of their students, including mentor, counselor, and role model. However, they get the most out of their job by simply teaching children. Teaching children is the primary responsibility of a teacher, and it is what they are trained and paid to do. Teaching involves imparting knowledge, skills, and values to students, and helping them to develop the skills and habits they need to succeed in life. Teachers have the opportunity to make a positive impact on the lives of their students by providing them with a strong foundation in academic subjects and helping them to become curious, engaged learners. Teachers often derive a great deal of satisfaction from helping their students to achieve their potential and succeed in their studies.\",\n",
    "    \"A person might go to get counseling for a variety of reasons. One reason is to better understand themselves. Counseling can provide a safe and supportive environment for individuals to explore their thoughts, feelings, and behaviors, and to gain insight into why they act and feel the way they do. Counseling can also help a person to identify and work through any underlying issues or challenges that may be causing them distress or hindering their personal growth. Through counseling, a person can learn more about themselves and how to navigate their emotions and relationships more effectively. Counseling can be particularly helpful for individuals who are struggling with mental health issues, relationship problems, or other personal challenges.\",\n",
    "    \"If the kids wanted to cool off, they might go swimming as a way to refresh and beat the heat. Swimming is a fun and enjoyable activity that can provide relief from hot weather and help to cool the body. Swimming can also provide a great workout and has numerous health benefits, such as improving cardiovascular fitness and flexibility. There are many different places where kids can go swimming, such as pools, lakes, rivers, or the ocean. No matter where they go, kids can have fun and cool off while enjoying the water.\",\n",
    "    \"When remembering a tragedy in the past, many people may feel depressed. Depression is a common emotional reaction to experiencing a traumatic or stressful event, such as a tragedy. Depression is a mental health disorder characterized by persistent feelings of sadness, hopelessness, and low energy. It can also cause physical symptoms such as changes in appetite and sleep patterns, fatigue, and difficulty concentrating. Remembering a tragedy can be emotionally difficult and may trigger feelings of sadness, grief, and guilt. It is important for people who are struggling with depression to seek support and treatment to help manage their symptoms and improve their mental health.\",\n",
    "    \"Death Valley is a national park located in the Mojave Desert, in the state of California, United States. It is situated on the North American continent. The North American continent is one of the seven continents of the world and is located in the western hemisphere. It is the third largest continent in terms of land area, after Asia and Africa, and is home to a diverse range of cultures, languages, and environments. Death Valley is known for its extreme desert climate and is the lowest, hottest, and driest place in North America. It is a popular destination for tourists, who come to see its unique geological features, such as sand dunes, salt flats, and canyons.\",\n",
    "    \"When in a serious relationship, understanding better requires effort. Relationships require effort and work to maintain and grow. In order to understand your partner better, you need to be willing to put in the time and effort to communicate with them, listen to their perspectives, and try to see things from their point of view. This may involve asking questions, expressing your own feelings and needs, and being open to feedback and compromise. Understanding your partner better can help to strengthen the bond between you and improve the quality of your relationship. It is important to remember that relationships are dynamic and evolving, and that ongoing communication and effort are necessary to maintain a healthy and fulfilling relationship.\",\n",
    "    \"Cats are able to make a variety of vocalizations, including meows, purrs, and growls, as a way of communicating with humans and other animals. Cats use these vocalizations to convey a range of emotions and needs, such as hunger, happiness, or discomfort. Meowing is a common vocalization that cats use to communicate with humans. Cats may meow when they want attention, food, or to be let outside. Cats may also meow when they are feeling anxious or stressed. Although cats cannot talk in the same way that humans do, they are skilled at using their voices to communicate with their owners and other animals.\",\n",
    "    \"If you need a vessel that is similar to a battleship but faster, you might consider using a corvette. A corvette is a small, fast warship that is typically used for convoy escort, patrol, and other shallow water duties. Corvettes are generally smaller and less heavily armed than battleships, but they are more agile and have a higher speed. They are typically equipped with a variety of weapons, including guns, missiles, and torpedoes, and are used for defending against enemy ships and aircraft. Corvettes are often used for coastal defense, as well as for patrolling and enforcing maritime laws. They are capable of operating in a variety of environments, including open ocean and littoral (nearshore) waters.\",\n",
    "    \"Water in the sky comes from rain clouds. Rain clouds are clouds that form when moist air rises and cools, forming tiny water droplets that condense around particles in the air. As the droplets grow, they eventually become heavy enough to fall from the cloud as rain. Rain clouds are typically gray or white in color and are often accompanied by other types of clouds, such as cumulus or stratocumulus clouds. Rain clouds can form in a variety of ways, such as when warm, moist air from the ground rises and cools, or when moist air from the ocean is carried inland by the wind. Rain clouds can be found in many parts of the world and are a common source of precipitation, especially during the warmer months.\",\n",
    "    \"If John rented a hotel room while on a business trip and it was a company-sponsored event, it is possible that the hotel was a resort. Resorts are hotels or vacation properties that offer a variety of amenities and activities for guests, such as swimming pools, golf courses, spas, and restaurants. They are often located in scenic or recreational areas and are designed to provide a relaxing and enjoyable experience for guests. Many resorts offer conference and meeting facilities and are popular destinations for business events and retreats. If John's company sponsored the business trip and provided the hotel accommodations, it is likely that they chose a resort with the amenities and facilities needed to support the event.\",\n",
    "    \"An expressway might leave the United States and go to Canada. The United States and Canada are neighboring countries that share a border, and there are several expressways that cross the border between the two countries. Expressways are high-speed, limited-access roads that are designed for fast and efficient travel. They typically have multiple lanes and may include features such as grade separations, interchanges, and controlled access points. Expressways are used for long-distance travel and are often the main routes connecting major cities and regions. If an expressway leaves the United States, it is likely that it is heading towards Canada, which is located to the north of the United States.\",\n",
    "    \"If you were walking on a sidewalk near a small corner shop run by John, you would look for it on the street corner. A corner shop is a small retail store that is typically located at the intersection of two streets. It is often a convenience store or a neighborhood shop that sells a variety of goods, such as groceries, household items, and other supplies. Corner shops are often located in busy urban areas, where they are easily accessible to pedestrians and motorists. If you were walking on a sidewalk near a corner shop, you would look for it at the intersection of the street where you are walking and another street. The shop is likely to be located in a building on the corner, with windows and doors facing the street.\",\n",
    "    \"One way that a company can efficiently sell things to their customers is through mail order. Mail order is a method of selling goods or services by advertising them in a catalog or other publication and allowing customers to place orders by mail, telephone, or online. Mail order is a convenient and efficient way for companies to reach a wide customer base, as it allows them to sell products to customers who may not be located near their physical store or who may not have the time or inclination to shop in person. Mail order companies typically have a centralized warehouse or distribution center where orders are processed and shipped to customers. They may also offer options such as easy returns and exchanges, as well as customer service support to assist with any questions or issues that customers may have.\",\n",
    "    \"If he enjoyed the factory work and liked the idea that he did it for sale, it is likely that he enjoyed producing goods. Factory work typically involves the production of goods, such as products or materials, using machines, tools, and other equipment. Factory workers are responsible for operating and maintaining the equipment and ensuring that the goods being produced meet quality standards. The goods produced in a factory may be sold directly to consumers or to other businesses, and may be used for a variety of purposes, such as manufacturing, construction, or distribution. If a person enjoys factory work, they may find satisfaction in the idea that they are contributing to the production of goods that will be sold and used by others.\",\n",
    "    \"If returning to work was easy for Dan after his treatment and he was completely painless, it is likely that he had undergone some form of medical treatment or therapy to address a health issue or injury. Painless indicates that Dan was no longer experiencing pain or discomfort, which may have been a result of the treatment or therapy he received. It is not clear from the information provided what specific health issue or injury Dan was dealing with, or what treatment or therapy he received. However, it is possible that Dan was able to return to work more easily after his treatment because he was feeling better and was no longer experiencing any pain or discomfort.\",\n",
    "    \"If index cards were on display at the museum, it is likely that the museum was a library. Libraries are institutions that provide access to a wide range of resources, including books, periodicals, and other printed materials, as well as digital resources such as e-books, databases, and online research tools. Libraries often have exhibits and displays of various types of materials, including rare or unique items, and may have special collections or archives that are of particular interest to researchers or historians. Index cards are small, rectangular pieces of paper that are used for organizing information, such as names, dates, or research notes. They may be used in a variety of settings, including libraries, offices, and schools. If index cards were on display at the museum, it is possible that they were part of a historical exhibit or collection related to the history of libraries or research.\",\n",
    "    \"If she was a human in America who wanted to live well, it is likely that the given for her situation was the need for money. In general, money is an important factor in enabling people to live well and meet their basic needs and desires. Money allows people to purchase the goods and services that they need to sustain themselves and their families, such as food, clothing, housing, and healthcare. It also enables people to pursue their interests and hobbies, travel, and engage in various forms of leisure and entertainment. In America, and in many other countries around the world, the cost of living can be high, and people often need to earn and save money in order to achieve a desired standard of living. As such, the need for money is a given for many people in order to live well.\",\n",
    "    \"A place that could have one back garden is a house. A garden is a piece of land that is used for growing plants, flowers, vegetables, or other types of vegetation. Gardens can be found in a variety of settings, including residential properties, public parks, and commercial properties. A house is a building that is used as a dwelling for one or more people, and it typically includes living spaces, such as bedrooms, bathrooms, and a kitchen, as well as outdoor areas, such as a front yard, side yard, and back yard. A back yard is a private outdoor space that is typically located behind a house and is often used for recreational or leisure activities, such as gardening, grilling, or playing games. If a house has a back garden, it is likely that the garden is located in the back yard.\",\n",
    "    \"People gather at a football stadium to see large men in pads play a game where they run and smash into each other. Football is a popular sport that is played on a rectangular field by two teams of eleven players. The game involves running, passing, and tackling, and players wear pads and other protective gear to reduce the risk of injury. Football is a physical and intense sport, and players often collide with each other at high speeds. Football stadiums are large, open-air facilities that are designed to host football games and other sporting events. They typically have a grass or artificial turf field, seating for spectators, and a variety of amenities, such as concessions stands, restrooms, and VIP areas. Football stadiums are popular places for people to gather and watch football games, and they can be found in cities and towns throughout the world.\",\n",
    "    \"One place where someone can get a flute is a musical instrument store. A musical instrument store is a retail establishment that specializes in selling musical instruments and related accessories. They may carry a wide range of instruments, including brass instruments, woodwind instruments, string instruments, percussion instruments, and keyboards. Flutes are woodwind instruments that are played by blowing air into a narrow opening and producing sound by vibrating the lips against a metal or wooden reed. They are popular instruments that are used in a variety of musical styles, including classical, jazz, and folk music. If someone is looking to purchase a flute, they may be able to find a selection of flutes at a musical instrument store. In addition to flutes, musical instrument stores may also offer a variety of other instruments, as well as sheet music, instructional materials, and accessories such as cases, stands, and cleaning supplies.\",\n",
    "    \"It is not clear what someone who has a greed for energy would do. The word greed typically refers to an excessive or insatiable desire for wealth, power, or material possessions. It is not clear how this concept would relate to energy or how it might influence someone's actions. It is possible that someone who has a lot of energy or who is very active might have a high appetite for food and might seek out sources of fuel or nutrition to sustain their energy levels. In this case, they might buy food as a way to obtain the energy they need. However, it is not accurate to say that someone who has a greed for energy would necessarily do this. It is important to note that the concept of greed is generally considered to be negative, as it suggests an unhealthy or unsustainable desire for something.\",\n",
    "    \"A forklift is a type of industrial vehicle that is used for moving and lifting heavy loads, such as pallets, crates, and boxes. Forklifts are equipped with a hydraulic lift mechanism and a set of prongs or forks that can be used to lift and transport loads. They are commonly used in warehouses and other distribution centers to move and stack materials, such as boxes, onto shelves or other storage areas. If you were using a forklift to stack boxes onto shelves, it is likely that you were in a warehouse or a similar facility. Warehouses are large, commercial buildings that are used for storing and distributing goods. They often have high ceilings, wide aisles, and multiple levels, and they may be equipped with a variety of material handling equipment, such as forklifts, conveyor belts, and cranes, to facilitate the movement and storage of goods.\",\n",
    "    \"You are likely to receive mouthwash in a little paper cup at a dentist's office. Dentist's offices are healthcare facilities that are staffed by dentists and other dental professionals, and they are used for the diagnosis and treatment of dental problems and the maintenance of oral health. One common practice at a dentist's office is to rinse the mouth with mouthwash, which is a liquid that is used to freshen breath, kill bacteria, and reduce the risk of gum disease and other oral health issues. Mouthwash is typically used after brushing and flossing to help remove any remaining food particles or plaque from the mouth. It may be dispensed in a little paper cup, which can be used to rinse the mouth and then disposed of after use.\",\n",
    "    \"A doctor's office can help you with an illness. A doctor's office is a healthcare facility that is staffed by medical doctors and other healthcare professionals, and it is used for the diagnosis and treatment of medical conditions and the maintenance of overall health. If you are experiencing an illness, such as a cold, flu, or more serious health issue, you may visit a doctor's office to seek medical care and treatment. At a doctor's office, you may receive a physical examination, diagnostic tests, and other forms of medical treatment, depending on the nature of your illness and your specific needs. Doctors are trained to diagnose and treat a wide range of medical conditions, and they can provide you with the care and support you need to recover from your illness and get back to good health.\",\n",
    "    \"A bug looking for wildflowers and no human interruption might go to a meadow. A meadow is a grassland area that is characterized by its open, grassy landscape and the presence of wildflowers and other types of vegetation. Meadows can be found in a variety of settings, including rural areas, forests, and parkland, and they are often home to a variety of animal and plant species. Because meadows are relatively undisturbed by human activity, they can be a good place for a bug to find wildflowers and other types of plants without interference from humans. Meadows are often considered to be peaceful, serene places, and they may be attractive to a bug that is seeking a quiet, natural environment in which to explore and forage.\",\n",
    "    \"If a bride and groom are taking care of proposals, the likely ceremony is a marriage. A marriage is a formal union between two people that is recognized by law and typically involves a public ceremony and the exchange of vows. A marriage proposal is a request for someone to marry another person, and it is typically made by one partner to the other. The process of planning a marriage often involves taking care of a variety of details and arrangements, such as choosing a venue, selecting a date, inviting guests, and organizing the ceremony and reception. If a bride and groom are taking care of proposals, it is likely that they are in the process of planning their marriage and preparing for the wedding ceremony.\",\n",
    "    \"You could put some olives in a jar to prevent them from getting nearby food wet. A jar is a container that is typically made of glass or ceramic and has a wide mouth and a secure, tight-fitting lid. Jars are often used for storing food items, such as olives, pickles, jams, and other types of preserved or dried goods. Because they have a sealed lid, jars can help to keep food fresh and prevent it from coming into contact with air or other substances that might spoil or contaminate it. If you want to prevent olives from getting nearby food wet, you could put them in a jar and close the lid to create an airtight seal. This would help to keep the olives separate from other foods and prevent them from coming into contact with moisture or other liquids.\",\n",
    "    \"If the graveyard was zoned by the pastor, it is likely that it was located on church property. Church property refers to land or buildings that are owned by a church or religious organization. This may include the main church building, as well as other structures such as a rectory, school, or community center. Church property may also include a graveyard or cemetery, which is a place where people are buried after they die. Pastors, who are ordained leaders in a church, often play a central role in the management and oversight of church property, and they may be responsible for zoning or designating areas within the property for specific purposes, such as a graveyard or a garden. If the pastor has zoned the graveyard, it is likely that it is located on church property and is being used as a place for burial by members of the church or community.\",\n",
    "    \"If a family wanted to live with carpeting, they may have ended up putting it in their houses. Houses are structures that are designed and built to be used as homes, and they typically have a number of rooms that are used for different purposes, such as sleeping, cooking, eating, and relaxing. Carpeting is a type of floor covering that is made of soft, flexible materials, such as wool, nylon, or polypropylene, and it is often used in houses to provide warmth, comfort, and insulation. If a family wanted to live with carpeting, they may have chosen to install carpeting in some or all of the rooms in their houses, in order to create a warm and cozy atmosphere and to improve the overall comfort and livability of their homes.\",\n",
    "    \"If a boss likes an employee's ambition, the employee may be put in charge of a project. A project is a specific task or set of tasks that is undertaken in order to achieve a specific goal or objective. Projects may be large or small, complex or simple, and they may involve a wide range of activities, such as research, design, development, testing, and implementation. If an employee is ambitious and demonstrates a strong desire to succeed and make a positive contribution to their organization, their boss may choose to put them in charge of a project, in order to give them the opportunity to demonstrate their skills and abilities and to take on more responsibility. Being put in charge of a project can be a challenging and rewarding experience, and it may provide an employee with the chance to learn new things, develop their skills, and make a meaningful contribution to their organization.\",\n",
    "    \"A county highway can be viewed as a line on a map. A map is a graphic representation of an area or region that shows the locations of various features, such as roads, rivers, mountains, and cities. Maps are often used to help people navigate and find their way around unfamiliar places, and they can be very useful for understanding the layout and geography of an area. County highways are roads that are maintained and operated by a county or local government, and they are typically used for local travel and transportation within a county or region. On a map, a county highway may be represented as a line, with a specific color or symbol used to indicate its location and route. By viewing a county highway as a line on a map, it is possible to get a sense of the route and layout of the road, and to use the map to plan a journey or navigate to a specific destination.\",\n",
    "    \"After going for a run, someone may feel tired. Running is a form of physical activity that involves moving quickly and continuously on foot, typically by running or jogging. It is a popular form of exercise that can help to improve cardiovascular fitness, build endurance, and strengthen the muscles of the legs and lower body. However, running can also be physically demanding, and it requires a certain level of fitness and stamina to be able to sustain the activity for an extended period of time. As a result, it is common for people to feel tired after going for a run, especially if they are not used to the activity or if they have pushed themselves to run for a longer distance or at a faster pace than usual. Tiredness after a run may be accompanied by other physical sensations, such as muscle fatigue, thirst, or a sense of accomplishment.\",\n",
    "    \"If a car was going from Florida to Ohio, it was heading north. Florida is a state in the southeastern region of the United States, and Ohio is a state in the midwestern region of the country. When traveling from Florida to Ohio, a person would need to go north in order to reach their destination. North is a direction that is opposite to south on a map or compass, and it is typically associated with higher latitude, colder climates, and longer nights. When traveling north, a person may encounter different landscapes, weather patterns, and cultural experiences than they would when traveling south, depending on the specific route and the distance traveled. By heading north from Florida to Ohio, a person would be leaving behind the warm, tropical climate of Florida and entering into a more temperate, mid-latitude region with cooler temperatures and a more diverse range of landscapes and ecosystems.\",\n",
    "    \"During a typical week, a teacher is likely to spend most of their time working in school. A teacher is a person who is trained and qualified to teach students in a school or educational setting, and their primary job is to provide instruction and guidance to help students learn and develop their skills and knowledge. Teachers may work in a variety of settings, including primary schools, secondary schools, and universities, and they may teach a wide range of subjects, including math, science, English, history, and the arts. In order to fulfill their duties as a teacher, a person is likely to spend most of their time working in a school or educational setting, where they will be responsible for preparing and delivering lessons, grading assignments, communicating with students and parents, and performing other tasks related to their job. Teachers typically work on a schedule that follows the school year, and they may work full-time or part-time, depending on their specific circumstances and the needs of their students.\",\n",
    "    \"In a predicament, an animal might choose to fight for its life as an alternative to fleeing. Predicament is a term that refers to a difficult or challenging situation, typically one that involves a choice or decision that needs to be made. When an animal finds itself in a predicament, it may have to decide how to respond in order to survive and protect itself. One option that an animal may have is to flee or run away from the situation in an effort to escape danger or avoid conflict. Another option that an animal may have is to fight for its life, using whatever means are available to defend itself and protect its survival. The choice that an animal makes in a predicament will depend on a variety of factors, including the specific nature of the situation, the animal's size, strength, and abilities, and the resources and options that are available to it.\",\n",
    "    \"It is not common for people to fight each other when they find a good deal. A good deal is typically defined as an opportunity to purchase something at a price that is lower than what it is usually worth, or to obtain a product or service that provides more value or benefits than what is expected. When people find a good deal, they may feel excited or pleased about the opportunity to save money or get more for their money, and they may take action to take advantage of the deal. However, it is generally not considered acceptable or appropriate for people to fight each other over a good deal or to engage in physical violence or aggression in order to obtain it. There are many other ways that people can express their interest in a good deal, such as by negotiating with the seller, making an offer, or simply making a purchase if the price is acceptable.\",\n",
    "    \"An altar is a platform or structure that is used for religious ceremonies, rituals, or worship. Altars are often found in places of worship, such as temples, churches, synagogues, mosques, and other religious buildings. When a person is standing in front of an altar, they are likely to be in a temple or other place of worship. Altars can be used for a variety of purposes in different religions and spiritual traditions, such as offering sacrifices, making offerings, praying, or performing other religious practices. They may be decorated with symbols, images, or other items that are significant to the religion or spiritual tradition that is being practiced. Altars may also be used as a place for people to meditate, reflect, or seek spiritual guidance.\",\n",
    "    \"Joe bought a bunch of grapes because he likes to use them to top his desserts. A dessert is a type of food that is typically served at the end of a meal, and it is usually sweet or rich in flavor. There are many different types of desserts that people enjoy, including cakes, cookies, ice cream, pie, and other sweet treats. One way that people may use grapes as a topping for their desserts is by placing them on top of a fruit pie, tart, or crisp. Grapes can add flavor and texture to a dessert, and they may also be used to decorate a dessert or to add visual appeal. Grapes are a versatile fruit that can be used in many different types of desserts, and they can be eaten fresh, frozen, or preserved in various ways.\",\n",
    "    \"Well water is water that is obtained from underground sources, typically through the use of a well. A well is a hole or shaft that is dug into the ground in order to access water that is contained in underground aquifers or other water-bearing formations. Well water is typically used for drinking, irrigation, and other purposes, and it is often considered to be of high quality because it is filtered and purified naturally as it flows through the ground. To obtain well water, a person can dig a well or have one dug by a professional well driller. The depth of the well will depend on the location and the geology of the area, and a pump or other mechanical system may be used to bring the water to the surface.\",\n",
    "]"
   ]
  },
  {
   "cell_type": "code",
   "execution_count": 18,
   "id": "d9681ea9",
   "metadata": {},
   "outputs": [],
   "source": [
    "def list2dict(refine_data):\n",
    "    refine_data_dict={}\n",
    "    for key in refine_data[0].keys():\n",
    "        refine_data_dict[key]=[x[key] for x in refine_data]\n",
    "    return refine_data_dict\n",
    "\n",
    "select_refine_train_data = []\n",
    "for da in refine_train_data:\n",
    "    if da['id'] in id_list:\n",
    "        da['our_explanation'] = chatGPT_rationales[id_list.index(da['id'])]\n",
    "        select_refine_train_data.append(da) \n",
    "        \n",
    "select_refine_train_data_dict = list2dict(select_refine_train_data)\n",
    "our_data_splits['train'] = datasets.Dataset.from_dict(select_refine_train_data_dict).shuffle().select(range(24))\n",
    "\n",
    "refine_dev_data_dict = list2dict(refine_dev_data)\n",
    "our_data_splits['dev'] = datasets.Dataset.from_dict(refine_dev_data_dict)\n",
    "\n",
    "refine_test_data_dict = list2dict(refine_test_data)\n",
    "our_data_splits['test'] = datasets.Dataset.from_dict(refine_test_data_dict)\n",
    "\n"
   ]
  },
  {
   "cell_type": "code",
   "execution_count": 19,
   "id": "53ab0e1a",
   "metadata": {},
   "outputs": [],
   "source": [
    "import datasets\n",
    "class SequenceCollator:\n",
    "    def __init__(self, pad_token):\n",
    "        # self.pad_token_mapping = {\n",
    "        #     \"lm_labels\": -100,\n",
    "        #     \"attention_mask\": 0,\n",
    "        #     \"decoder_attention_mask\": 0,\n",
    "        #     \"input_ids\": pad_token,\n",
    "        # }\n",
    "        # self.columns = [\n",
    "        #     \"input_ids\",\n",
    "        #     \"attention_mask\",\n",
    "        #     \"lm_labels\",\n",
    "        #     \"decoder_attention_mask\",\n",
    "        # ]\n",
    "        self.pad_token_mapping = {\n",
    "            \"labels\": -100,\n",
    "            \"attention_mask\": 0,\n",
    "            \"decoder_attention_mask\": 0,\n",
    "            \"input_ids\": pad_token,\n",
    "        }\n",
    "        self.columns = [\n",
    "            \"input_ids\",\n",
    "            \"attention_mask\",\n",
    "            \"labels\",\n",
    "            \"decoder_attention_mask\",\n",
    "        ]\n",
    "\n",
    "    def collate_batch(self, examples):\n",
    "\n",
    "        # batch inputs for training\n",
    "        batch = {}\n",
    "        for key in examples[0].keys():\n",
    "            if key in self.columns:\n",
    "                tmp_list = []\n",
    "                for item in examples:\n",
    "                    tmp_list.append(item[key])\n",
    "\n",
    "                # pad lists to max length\n",
    "                if isinstance(tmp_list[0], list):\n",
    "                    max_length = max(map(len, tmp_list))\n",
    "                    tmp_list = [\n",
    "                        el + [self.pad_token_mapping[key]] * (max_length - len(el))\n",
    "                        for el in tmp_list\n",
    "                    ]\n",
    "\n",
    "                batch[key] = torch.tensor(tmp_list, dtype=torch.long)\n",
    "        return batch\n",
    "    \n",
    "    def __call__(self, examples: List[Dict[str, InputDataClass]]) -> Dict[str, torch.Tensor]:\n",
    "        # re-format inputs for training\n",
    "        batch = {}\n",
    "        for key in examples[0].keys():\n",
    "            if key in self.columns:\n",
    "                tmp_list = []\n",
    "                for item in examples:\n",
    "                    tmp_list.append(item[key])\n",
    "\n",
    "                # pad lists to max length\n",
    "                if isinstance(tmp_list[0], list):\n",
    "                    max_length = max(map(len, tmp_list))\n",
    "                    tmp_list = [\n",
    "                        el + [self.pad_token_mapping[key]] * (max_length - len(el))\n",
    "                        for el in tmp_list\n",
    "                    ]\n",
    "\n",
    "                batch[key] = torch.tensor(tmp_list, dtype=torch.long)\n",
    "        return batch\n",
    "# dataset = datasets.load_dataset(data_args.task_name, data_args.version_name)"
   ]
  },
  {
   "cell_type": "code",
   "execution_count": 20,
   "id": "219866fe",
   "metadata": {},
   "outputs": [
    {
     "data": {
      "application/json": {
       "ascii": false,
       "bar_format": null,
       "colour": null,
       "elapsed": 0.012847661972045898,
       "initial": 0,
       "n": 0,
       "ncols": null,
       "nrows": 62,
       "postfix": null,
       "prefix": "",
       "rate": null,
       "total": 24,
       "unit": "ex",
       "unit_divisor": 1000,
       "unit_scale": false
      },
      "application/vnd.jupyter.widget-view+json": {
       "model_id": "f324ff36d795447f802f4530ac37e6e1",
       "version_major": 2,
       "version_minor": 0
      },
      "text/plain": [
       "  0%|          | 0/24 [00:00<?, ?ex/s]"
      ]
     },
     "metadata": {},
     "output_type": "display_data"
    },
    {
     "data": {
      "application/json": {
       "ascii": false,
       "bar_format": null,
       "colour": null,
       "elapsed": 0.01309514045715332,
       "initial": 0,
       "n": 0,
       "ncols": null,
       "nrows": 62,
       "postfix": null,
       "prefix": "",
       "rate": null,
       "total": 986,
       "unit": "ex",
       "unit_divisor": 1000,
       "unit_scale": false
      },
      "application/vnd.jupyter.widget-view+json": {
       "model_id": "aea48f000dae4de094b0fb4323b1e86b",
       "version_major": 2,
       "version_minor": 0
      },
      "text/plain": [
       "  0%|          | 0/986 [00:00<?, ?ex/s]"
      ]
     },
     "metadata": {},
     "output_type": "display_data"
    },
    {
     "data": {
      "application/json": {
       "ascii": false,
       "bar_format": null,
       "colour": null,
       "elapsed": 0.01271200180053711,
       "initial": 0,
       "n": 0,
       "ncols": null,
       "nrows": 62,
       "postfix": null,
       "prefix": "",
       "rate": null,
       "total": 255,
       "unit": "ex",
       "unit_divisor": 1000,
       "unit_scale": false
      },
      "application/vnd.jupyter.widget-view+json": {
       "model_id": "726b4be00d66417ebac6214abda3ee10",
       "version_major": 2,
       "version_minor": 0
      },
      "text/plain": [
       "  0%|          | 0/255 [00:00<?, ?ex/s]"
      ]
     },
     "metadata": {},
     "output_type": "display_data"
    }
   ],
   "source": [
    "# seq_collector = SequenceCollator(0)\n",
    "# train_ds = seq_collector.__call__(dataset['train'])\n",
    "# train_ds\n",
    "# dataset['train'][0].keys()\n",
    "for split in ['train','dev','test']:\n",
    "    our_data_splits[split] = our_data_splits[split].map(\n",
    "            lambda x: format_instance(\n",
    "                x,\n",
    "                tokenizer,\n",
    "                data_args.explanation_sep,\n",
    "                datasource=data_args.task_name,\n",
    "                io_format=data_args.io_format\n",
    "            ),\n",
    "            batched=False,\n",
    "            load_from_cache_file=False,\n",
    "        )"
   ]
  },
  {
   "cell_type": "code",
   "execution_count": 25,
   "id": "ca7ff6d0",
   "metadata": {},
   "outputs": [
    {
     "name": "stdout",
     "output_type": "stream",
     "text": [
      "Sample 0: Given question \"Where can you likely buy many poems?\" and answer: \"book store\", explain why\n",
      "Sample 1: Given question \"What could bringing suit do to a rivalry?\" and answer: \"aggravation\", explain why\n",
      "Sample 2: Given question \"A person who yawns and paces to help pass the time is likely feeling what?\" and answer: \"boredom\", explain why\n",
      "Sample 3: Given question \"I only like fiction books, why should I read a non-fiction book?\" and answer: \"knowledge\", explain why\n",
      "Sample 4: Given question \"An American might hike a mountain north to get to what?\" and answer: \"canada\", explain why\n",
      "Sample 5: Given question \"Sam spent most of his time standing up.  His job was hectic and he never got any rest. But he was the best cashier at his workplace.    Where might he work?\" and answer: \"supermarket\", explain why\n",
      "Sample 6: Given question \"James raked fallen leaves into a pile. Where might he leave the pile?\" and answer: \"ground\", explain why\n",
      "Sample 7: Given question \"What happens when we fail at something we attempt?\" and answer: \"leave\", explain why\n",
      "Sample 8: Given question \"The referee wasn't specialized in one thing. He refereed many games.  He was offered a job but wasn't sure what it would be.  What did he know it would be?\" and answer: \"sporting event\", explain why\n",
      "Sample 9: Given question \"Susan threw the highly elastic ball at the wall.  The ball did what?\" and answer: \"rebound\", explain why\n",
      "Sample 10: Given question \"John lived in a small island surrounded by flowing liquid H2O   Where might he live?\" and answer: \"mississippi river\", explain why\n",
      "Sample 11: Given question \"What will the student have to do on the test?\" and answer: \"solve equation\", explain why\n",
      "Sample 12: Given question \"The tourists saw what they thought was a statue, but they soon discovered it was performance art went it began what?\" and answer: \"moving\", explain why\n",
      "Sample 13: Given question \"What is a good way to carry a small dog?\" and answer: \"backpack\", explain why\n",
      "Sample 14: Given question \"Both sides in World War I used what to cause death that is now banned?\" and answer: \"poisonous gas\", explain why\n",
      "Sample 15: Given question \"Where is disease often spread but shouldn't be?\" and answer: \"hospital\", explain why\n",
      "Sample 16: Given question \"As things get colder, temperature does what?\" and answer: \"drop to zero\", explain why\n",
      "Sample 17: Given question \"Where is one unlikely to get popcorn?\" and answer: \"soccer game\", explain why\n",
      "Sample 18: Given question \"Where are files likely to be hanging?\" and answer: \"filing cabinet\", explain why\n",
      "Sample 19: Given question \"What is required to go on vacation before anything else?\" and answer: \"have money\", explain why\n",
      "Sample 20: Given question \"The roadway passed a sign and gate house, what was behind the gatehouse?\" and answer: \"subdivision\", explain why\n",
      "Sample 21: Given question \"The invasive A.I. was designed to scan the crowd, where most saw a mass of humanity the evil machine could pick out each what?\" and answer: \"individual\", explain why\n",
      "Sample 22: Given question \"Is has been speculated that a aliens could be communicating by doing this?\" and answer: \"thinking\", explain why\n",
      "Sample 23: Given question \"What can occur in fencing if you are not careful?\" and answer: \"severe injuries\", explain why\n",
      "Sample 24: Given question \"If you stretch out your socks they will then have what kind of fit?\" and answer: \"loose\", explain why\n",
      "Sample 25: Given question \"John ran out of pencils.  Where did  he go to get more?\" and answer: \"office depot\", explain why\n",
      "Sample 26: Given question \"What does a confident person do?\" and answer: \"trust himself\", explain why\n",
      "Sample 27: Given question \"James thought that analyzing all the data would help him learn more, but it did not.  It only gave him what?\" and answer: \"headache\", explain why\n",
      "Sample 28: Given question \"What makes people happy when it is surprising and unexpected?\" and answer: \"humor\", explain why\n",
      "Sample 29: Given question \"What is someone who wants a lot of money?\" and answer: \"greedy\", explain why\n",
      "Sample 30: Given question \"Where do you keep a book to read before bed?\" and answer: \"bedside table\", explain why\n",
      "Sample 31: Given question \"Where is a knight likely to be found in the US?\" and answer: \"chess set\", explain why\n",
      "Sample 32: Given question \"Jack saw little point to communicating beyond the basics.  To him, it was just a means to do what?\" and answer: \"exchange information\", explain why\n",
      "Sample 33: Given question \"I as a person don't kill others, why do I not?\" and answer: \"value life\", explain why\n",
      "Sample 34: Given question \"What is likely to be a child's reaction to going to play?\" and answer: \"happiness\", explain why\n",
      "Sample 35: Given question \"Where could you find multiple ruler that are owned by different people?\" and answer: \"office\", explain why\n",
      "Sample 36: Given question \"When remembering you referencing things that you have what?\" and answer: \"prior knowledge of\", explain why\n",
      "Sample 37: Given question \"After running twenty six miles he felt like he had lost twenty six pounds, this was from all the what?\" and answer: \"sweat\", explain why\n",
      "Sample 38: Given question \"In what western sate might one find a bald eagle?\" and answer: \"colorado\", explain why\n",
      "Sample 39: Given question \"When a retired person returns to work they likely need to do what?\" and answer: \"earn money\", explain why\n",
      "Sample 40: Given question \"What can be the result of meeting people with similar attitudes?\" and answer: \"making new friends\", explain why\n",
      "Sample 41: Given question \"Danny noticed a ceramic object on the table and picked a grape out of it.  What might have been on the table?\" and answer: \"bowl of fruit\", explain why\n",
      "Sample 42: Given question \"The nose dipped and alarms went off inside the what?\" and answer: \"aircraft\", explain why\n",
      "Sample 43: Given question \"Where is a cord likely to be on a tent?\" and answer: \"sporting goods store\", explain why\n",
      "Sample 44: Given question \"The man reduced the town to rubble out of hate, what was his goal?\" and answer: \"destroy enemy\", explain why\n",
      "Sample 45: Given question \"The toddler thought it would be fun to try eating breakfast in bed, what resulted?\" and answer: \"mess\", explain why\n",
      "Sample 46: Given question \"He had a hard time getting his father's attention, he hoped that the winning baseball game would finally get him some what?\" and answer: \"recognition\", explain why\n",
      "Sample 47: Given question \"The toddler is awaking from a nap, what doesn't he feel anymore?\" and answer: \"tiredness\", explain why\n",
      "Sample 48: Given question \"John listened to music when he needed to focus.  It helped him achieve what?\" and answer: \"quiet mind\", explain why\n",
      "Sample 49: Given question \"If I were to suffer from sudden illness I would be within reason to visit where?\" and answer: \"hospital\", explain why\n",
      "Sample 50: Given question \"John kept standing up.  He was afraid that if he were sitting down he might do something. What might he be afraid of?\" and answer: \"fall asleep\", explain why\n",
      "Sample 51: Given question \"He didn't know that good things can be posion in large doses.  He thought that he was just eating an essential what?\" and answer: \"nutrient\", explain why\n",
      "Sample 52: Given question \"The police didn't pay any favors, their job was to what?\" and answer: \"force law\", explain why\n",
      "Sample 53: Given question \"The place specialized in colorful arrangements, but the also had a toy balloon or two where?\" and answer: \"flower shop\", explain why\n",
      "Sample 54: Given question \"Where was there never any mammoth?\" and answer: \"zoo\", explain why\n",
      "Sample 55: Given question \"Why do most people engage in chatting with friends?\" and answer: \"fun\", explain why\n",
      "Sample 56: Given question \"What could happen after discovering truth that you did not want to know?\" and answer: \"pain\", explain why\n",
      "Sample 57: Given question \"What will an athlete do to warm up their legs?\" and answer: \"jog\", explain why\n",
      "Sample 58: Given question \"Where can you keep your binder on your person between periods of instruction?\" and answer: \"backpack\", explain why\n",
      "Sample 59: Given question \"In the middle of the day what will someone do because of being hungry?\" and answer: \"have lunch\", explain why\n",
      "Sample 60: Given question \"Where is garbage brought to by garbagemen?\" and answer: \"landfill\", explain why\n",
      "Sample 61: Given question \"What are people doing when washing hands for a long time?\" and answer: \"thinking\", explain why\n",
      "Sample 62: Given question \"What would someone say about a tube television?\" and answer: \"obsolete\", explain why\n",
      "Sample 63: Given question \"The man drank his coffee at work?\" and answer: \"office\", explain why\n",
      "Sample 64: Given question \"What can he do to eliminate his ignorance?\" and answer: \"learn new\", explain why\n",
      "Sample 65: Given question \"What do humans do when in a race?\" and answer: \"compete with each other\", explain why\n",
      "Sample 66: Given question \"She explained that you won't always get what you want with a goal, but you should still do what with it?\" and answer: \"reach for\", explain why\n",
      "Sample 67: Given question \"What happens when you eat hamburger too fast without swallowing?\" and answer: \"choking\", explain why\n",
      "Sample 68: Given question \"John sat in a folding chair in a bit room with a stage.  What sort of room could that be?\" and answer: \"auditorium\", explain why\n",
      "Sample 69: Given question \"What would an adult man do to get ready for work?\" and answer: \"dress himself\", explain why\n",
      "Sample 70: Given question \"What does one do at an office?\" and answer: \"work\", explain why\n",
      "Sample 71: Given question \"When a person is on trial for killing, what is a jury likely to decide?\" and answer: \"punishment\", explain why\n",
      "Sample 72: Given question \"Most adult Americans split their time between home and what?\" and answer: \"work\", explain why\n",
      "Sample 73: Given question \"Professionally the fighters always maintained a level of respect, but personally they held each other in what for things that were said?\" and answer: \"contempt\", explain why\n",
      "Sample 74: Given question \"Where would you find many tables of silverware rolled into nice displayed napkins?\" and answer: \"restaurant\", explain why\n",
      "Sample 75: Given question \"He didn't believe fate controlled situations, what did he believe people did?\" and answer: \"control events\", explain why\n",
      "Sample 76: Given question \"Polly didn't know her way around, so she navigated by landmark.  She used statues, stores, and distinctive building.  Where might she be?\" and answer: \"city\", explain why\n",
      "Sample 77: Given question \"Some horses are white others are black, but many are this color which might lead some people to think their milk would taste like chocolate?\" and answer: \"brown\", explain why\n",
      "Sample 78: Given question \"What is the one thing you cannot do if you're on the move?\" and answer: \"stand still\", explain why\n",
      "Sample 79: Given question \"Where does someone convicted of a petty crime likely spend time?\" and answer: \"jail\", explain why\n",
      "Sample 80: Given question \"He would entertain with a pool party regularly, it was the best way to beat the what?\" and answer: \"hot\", explain why\n",
      "Sample 81: Given question \"If you wanted to confirm information that you had, you would do what to someone?\" and answer: \"question\", explain why\n",
      "Sample 82: Given question \"Where is cheese likely to be dangerous for some creatures?\" and answer: \"mouse trap\", explain why\n",
      "Sample 83: Given question \"He spent all work day at a computer, so he got a footstool for more comfort at his what?\" and answer: \"desk\", explain why\n",
      "Sample 84: Given question \"How would grooming lead to bald spots?\" and answer: \"mistakes\", explain why\n",
      "Sample 85: Given question \"Where would a snake find a great hiding place in the United Kingdom?\" and answer: \"kew gardens\", explain why\n",
      "Sample 86: Given question \"After studying many self-help books, what did he feel in his heart?\" and answer: \"inspiration\", explain why\n",
      "Sample 87: Given question \"Where would you find teeth whitening bleachers?\" and answer: \"pharmacy\", explain why\n",
      "Sample 88: Given question \"While he had seen a koala in the zoo, he was looking forward to finding one in the what?\" and answer: \"australian outback\", explain why\n",
      "Sample 89: Given question \"Where can a child get a wagon?\" and answer: \"toy store\", explain why\n",
      "Sample 90: Given question \"Being able to forgive is a way to be what?\" and answer: \"nice to\", explain why\n",
      "Sample 91: Given question \"What  is necessary to have when going fishing?\" and answer: \"fishing rod\", explain why\n",
      "Sample 92: Given question \"A weasel is cursed by a witch, where is the weasel stuck?\" and answer: \"fairytale\", explain why\n",
      "Sample 93: Given question \"If you want to buy you must what?\" and answer: \"spend money\", explain why\n",
      "Sample 94: Given question \"What public celebration sometimes has a horse show?\" and answer: \"state fair\", explain why\n",
      "Sample 95: Given question \"There are many wage gaps being discussed, the most important of which is between the rich and what?\" and answer: \"poor\", explain why\n",
      "Sample 96: Given question \"What city in a North American Country, that isn't the United States, would you expect to find a good french restaurant?\" and answer: \"quebec\", explain why\n",
      "Sample 97: Given question \"Care not to burn you hand on the handle of what small high-walled vessel?\" and answer: \"saucepan\", explain why\n",
      "Sample 98: Given question \"What container does peanut butter come in?\" and answer: \"jar\", explain why\n",
      "Sample 99: Given question \"Where are plants likely to be handled by a city employee?\" and answer: \"park\", explain why\n",
      "Sample 100: Given question \"Trains tend to come on time, airplanes on the other hand tend to what?\" and answer: \"arrive late\", explain why\n",
      "Sample 101: Given question \"Where is glue well used?\" and answer: \"art room\", explain why\n",
      "Sample 102: Given question \"Billy loves science, history, and art but isn't very creative.  When he was visiting the museum, he felt a great deal of what emotion?\" and answer: \"enjoyment\", explain why\n",
      "Sample 103: Given question \"Sarah did much hard work, even though she was on vacation.  Her mother told her off and said what?\" and answer: \"do nothing\", explain why\n",
      "Sample 104: Given question \"James walked barefoot on a something that was made hot by sunshine. What is he probably walking on?\" and answer: \"street\", explain why\n",
      "Sample 105: Given question \"He grew tired of standing in the kitchen his whole shift, where was he?\" and answer: \"restaurant\", explain why\n",
      "Sample 106: Given question \"The children play cards often, but they make their own rules because they can't what the originals?\" and answer: \"remember\", explain why\n",
      "Sample 107: Given question \"On an average day, going to work could make you feel like what?\" and answer: \"feeling good\", explain why\n",
      "Sample 108: Given question \"What country has the carpathians and is the furthest in the direction of the side that won the U.S. Civil War?\" and answer: \"poland\", explain why\n",
      "Sample 109: Given question \"What would happen if you want to win a game?\" and answer: \"competitiveness\", explain why\n",
      "Sample 110: Given question \"Where should watch to avoid being pinched by a crab?\" and answer: \"sandy beach\", explain why\n",
      "Sample 111: Given question \"What is a large group of human beings?\" and answer: \"civilisation\", explain why\n",
      "Sample 112: Given question \"What  is likely to happen to ice in the sun?\" and answer: \"become water\", explain why\n",
      "Sample 113: Given question \"Where can travellers pull off the road to stretch their legs?\" and answer: \"rest area\", explain why\n",
      "Sample 114: Given question \"A poor family has no decorations in December, what would make a great gift?\" and answer: \"christmas tree\", explain why\n",
      "Sample 115: Given question \"Where would you buy jeans in a place with a large number of indoor merchants?\" and answer: \"shopping mall\", explain why\n",
      "Sample 116: Given question \"If I wanted to get some oxygen, what will I get it from?\" and answer: \"air\", explain why\n",
      "Sample 117: Given question \"What happens after having food too much?\" and answer: \"getting fat\", explain why\n",
      "Sample 118: Given question \"It was the first time they had met their new niece, it was good to have everybody together at the annual what?\" and answer: \"family reunion\", explain why\n",
      "Sample 119: Given question \"If you're expressing yourself in a public forum, what may you experience?\" and answer: \"stage fright\", explain why\n",
      "Sample 120: Given question \"He was eating too much while no exercising enough, what did he suffer as a result?\" and answer: \"gain weight\", explain why\n",
      "Sample 121: Given question \"Randy was not doing housework.   His wife was raising two children, and this only increased her workload. It put her under a lot of stress.  What might this lead to?\" and answer: \"arguments\", explain why\n",
      "Sample 122: Given question \"Where can you learn about a ferret with special abilities far beyond normal ferrets?\" and answer: \"comic book\", explain why\n",
      "Sample 123: Given question \"When people have guests over, what do they often do for their guests?\" and answer: \"cook food\", explain why\n",
      "Sample 124: Given question \"Talking to someone is pointless if they're doing what?\" and answer: \"not listening\", explain why\n",
      "Sample 125: Given question \"If you are enjoying sunshine on the beach, what do you likely have views of?\" and answer: \"sea\", explain why\n",
      "Sample 126: Given question \"What does an actor do while acting?\" and answer: \"pretend\", explain why\n",
      "Sample 127: Given question \"Where is a ring binder likely to contain budgets?\" and answer: \"office\", explain why\n",
      "Sample 128: Given question \"Where do you go when you're about to board a vehicle on railing?\" and answer: \"railway station\", explain why\n",
      "Sample 129: Given question \"Where can I go to see a really big toy balloon floating at the top of a dome?\" and answer: \"circus\", explain why\n",
      "Sample 130: Given question \"They got to the door and it was locked, he reached in his jeans what to retrieve the key?\" and answer: \"pocket\", explain why\n",
      "Sample 131: Given question \"The car was overheating, where was it located?\" and answer: \"in phoenix\", explain why\n",
      "Sample 132: Given question \"Where is likely to have a walk in type wardrobe?\" and answer: \"mansion\", explain why\n",
      "Sample 133: Given question \"How bad is the punishment for someone who is over indulgent?\" and answer: \"severe\", explain why\n",
      "Sample 134: Given question \"She was going to bed at 11 at night, what was she looking to do?\" and answer: \"falling asleep\", explain why\n",
      "Sample 135: Given question \"A company with the moniker of Big Sky Excavation would probably be found where?\" and answer: \"montana\", explain why\n",
      "Sample 136: Given question \"Which horseman of the apocalypse is often depicted next to death?\" and answer: \"war\", explain why\n",
      "Sample 137: Given question \"What could be used to write with a steel pen?\" and answer: \"hand\", explain why\n",
      "Sample 138: Given question \"I needed to find out how to contact a person with a certain name, where should I look?\" and answer: \"phone book\", explain why\n",
      "Sample 139: Given question \"What is important for a couple to do?\" and answer: \"communicate\", explain why\n",
      "Sample 140: Given question \"The botanist knew the plant was living, what did he observe that led him to know that?\" and answer: \"respiration\", explain why\n",
      "Sample 141: Given question \"What is it called when teens are together not doing anything in particular?\" and answer: \"hang out\", explain why\n",
      "Sample 142: Given question \"The saw was not necessary for car repair, so what wasn't it included with during pucrhase?\" and answer: \"tool kit\", explain why\n",
      "Sample 143: Given question \"Where will my kid put their coin in their room?\" and answer: \"piggy bank\", explain why\n",
      "Sample 144: Given question \"Where is a fire extinguisher likely to be found behind the seat?\" and answer: \"school bus\", explain why\n",
      "Sample 145: Given question \"His therapist said he had to get out there and begin socialising, it was the only was to start what?\" and answer: \"friendships\", explain why\n",
      "Sample 146: Given question \"What is likely true about a dog that escapes regularly?\" and answer: \"very smart\", explain why\n",
      "Sample 147: Given question \"If you're going to a party in an alley, what is likely to happen?\" and answer: \"doing drugs\", explain why\n",
      "Sample 148: Given question \"The man was very tired and sore, he decided to stay in bed to what?\" and answer: \"rest more\", explain why\n",
      "Sample 149: Given question \"He was back in his hometown, he was planning on having fun and doing what?\" and answer: \"visiting friends\", explain why\n",
      "Sample 150: Given question \"Where is basketball court likely to be outdoors?\" and answer: \"city\", explain why\n",
      "Sample 151: Given question \"When you want to get the skin off of an apple, you do what to it?\" and answer: \"peel\", explain why\n",
      "Sample 152: Given question \"Where could you put some knives if you are planning to bring them outside with you?\" and answer: \"backpack\", explain why\n",
      "Sample 153: Given question \"John watches the well dressed people from a catwalk above the stage.  He listens to them speak rehearsed lines while the audience listens.  Where is he/\" and answer: \"theatre\", explain why\n",
      "Sample 154: Given question \"If I am creating art and have completed it to satisfaction, what is my feeling?\" and answer: \"enlightenment\", explain why\n",
      "Sample 155: Given question \"He was serious and pragmatic, so why did he drive his car?\" and answer: \"transportation\", explain why\n",
      "Sample 156: Given question \"What does god want people to do for money?\" and answer: \"work in life\", explain why\n",
      "Sample 157: Given question \"What can happen after doing housework that does not involve pain?\" and answer: \"become tired\", explain why\n",
      "Sample 158: Given question \"James sat in a chair and listened to the speaker.  Where might James be?\" and answer: \"auditorium\", explain why\n",
      "Sample 159: Given question \"John thought that Mary was beautiful despite her injury.  But Mary believed that she was what?\" and answer: \"misshapen\", explain why\n",
      "Sample 160: Given question \"Where does my body go after I am no longer living?\" and answer: \"graveyard\", explain why\n",
      "Sample 161: Given question \"Where can you find a bar before traveling a long distance?\" and answer: \"airport\", explain why\n",
      "Sample 162: Given question \"Where might a small ball be bounced from?\" and answer: \"child's hand\", explain why\n",
      "Sample 163: Given question \"Where do families begin?\" and answer: \"wedding\", explain why\n",
      "Sample 164: Given question \"He enjoyed reading newspaper, he consider what a subscription?\" and answer: \"buying\", explain why\n",
      "Sample 165: Given question \"What does an animal do when it becomes old?\" and answer: \"feel pain\", explain why\n",
      "Sample 166: Given question \"What entity would have a fire extinguisher in their boardroom?\" and answer: \"most businesses\", explain why\n",
      "Sample 167: Given question \"Where can someone go and buy cheese?\" and answer: \"market\", explain why\n",
      "Sample 168: Given question \"Where would you carry food while on a long walk in the countryside?\" and answer: \"backpack\", explain why\n",
      "Sample 169: Given question \"What could a driver do that could distract him or her while he or she is in a driving car?\" and answer: \"smoke\", explain why\n",
      "Sample 170: Given question \"The fat man wanted to make a change in his life and make sure it stayed what?\" and answer: \"permanent\", explain why\n",
      "Sample 171: Given question \"where did many colonial kingdoms originate?\" and answer: \"europe\", explain why\n",
      "Sample 172: Given question \"Where can a television be stored and hidden?\" and answer: \"cabinet\", explain why\n",
      "Sample 173: Given question \"what can get a prisoner in more trouble?\" and answer: \"attempt to escape\", explain why\n",
      "Sample 174: Given question \"The crab was separated from his compatriots out in the sea, where was he likely to be?\" and answer: \"tide pool\", explain why\n",
      "Sample 175: Given question \"What item is smelted out of minerals on the country side?\" and answer: \"metal\", explain why\n",
      "Sample 176: Given question \"Where is a good place to store a saw?\" and answer: \"toolbox\", explain why\n",
      "Sample 177: Given question \"The jellyfish was pushed along by the water.  It was caught in what?\" and answer: \"current\", explain why\n",
      "Sample 178: Given question \"The dime store was full of old donated goods, it reminded the customer of the what?\" and answer: \"past\", explain why\n",
      "Sample 179: Given question \"Where would you put a saw if you do not need to use it soon and your house only has one floor?\" and answer: \"tool shed\", explain why\n",
      "Sample 180: Given question \"A person might wear his yarmulke when going to where?\" and answer: \"synagogue\", explain why\n",
      "Sample 181: Given question \"Someone takes up exercising to improve their what\" and answer: \"physical fitness\", explain why\n",
      "Sample 182: Given question \"Where could you see a sloth that is not real?\" and answer: \"picture book\", explain why\n",
      "Sample 183: Given question \"Where are seats often plush?\" and answer: \"opera\", explain why\n",
      "Sample 184: Given question \"The comforter was used constantly and treaded upon by everyone, where should it be placed?\" and answer: \"washing machine\", explain why\n",
      "Sample 185: Given question \"Joe bought a ficus.  He thought it would look good in what part of his home?\" and answer: \"family room\", explain why\n",
      "Sample 186: Given question \"Family is always the best for devotion, but it is also nice if a person has what?\" and answer: \"loyal friends\", explain why\n",
      "Sample 187: Given question \"Rap is not usually associate with what music often performed by an orchestra?\" and answer: \"classical\", explain why\n",
      "Sample 188: Given question \"At what structure can you see people you use a puck professionally?\" and answer: \"hockey rink\", explain why\n",
      "Sample 189: Given question \"Even when not in flight a bald eagle likes to have a lay of the land, because of this you'll see them perched up where?\" and answer: \"high places\", explain why\n",
      "Sample 190: Given question \"When is good time for garlic bread?\" and answer: \"dinner\", explain why\n",
      "Sample 191: Given question \"Where is the sky fake?\" and answer: \"planetarium\", explain why\n",
      "Sample 192: Given question \"Boats that aren't on the ocean travel across the surface of what?\" and answer: \"lake\", explain why\n",
      "Sample 193: Given question \"A small dog lived with a a woman who loved him. Where might he have lived?\" and answer: \"person's house\", explain why\n",
      "Sample 194: Given question \"There are usually four strings on what popular instrument?\" and answer: \"guitar\", explain why\n",
      "Sample 195: Given question \"Where would you find a shelf with toys for young people learning?\" and answer: \"school building\", explain why\n",
      "Sample 196: Given question \"What can you get after drinking too much alcohol?\" and answer: \"sickness\", explain why\n",
      "Sample 197: Given question \"WHat is the central bank responding to when they are fighting inflation?\" and answer: \"problems\", explain why\n",
      "Sample 198: Given question \"What could a massive building be if it is not constructed well?\" and answer: \"insubstantial\", explain why\n",
      "Sample 199: Given question \"If you rent a condominium in a glove-shaped state where are you?\" and answer: \"michigan\", explain why\n",
      "Sample 200: Given question \"where do children play a game?\" and answer: \"family room\", explain why\n",
      "Sample 201: Given question \"Where is there a very large graveyard?\" and answer: \"arlington\", explain why\n",
      "Sample 202: Given question \"Where would have a specialty hair salon for guests?\" and answer: \"hotel\", explain why\n",
      "Sample 203: Given question \"The best place for the troublemaker to sneak a smoke while he was in where, was in the bathroom?\" and answer: \"school\", explain why\n",
      "Sample 204: Given question \"What is a person using their whole body for work likely to complain of?\" and answer: \"sore muscles\", explain why\n",
      "Sample 205: Given question \"Dogs get hot and tired, then they like to sloppily do what?\" and answer: \"drink water\", explain why\n",
      "Sample 206: Given question \"Where is a horse likely to live?\" and answer: \"farm yard\", explain why\n",
      "Sample 207: Given question \"Billy lived with his uncle.  This was an unusual arrangement. Name something that is different from this arrangement.\" and answer: \"most families\", explain why\n",
      "Sample 208: Given question \"What is likely heard by those going to a party?\" and answer: \"laughter\", explain why\n",
      "Sample 209: Given question \"What is something that happens when you are learning about science?\" and answer: \"increased knowledge\", explain why\n",
      "Sample 210: Given question \"Where would a woman store a train ticket on her person?\" and answer: \"purse\", explain why\n",
      "Sample 211: Given question \"James put a divider between arithmetic and English.  This meant that he could continue using what?\" and answer: \"notebook\", explain why\n",
      "Sample 212: Given question \"Where does a hat go when you wear it?\" and answer: \"head\", explain why\n",
      "Sample 213: Given question \"The trees formed a forest, what did they do?\" and answer: \"stand together\", explain why\n",
      "Sample 214: Given question \"The entrance hall had the host standing inside, what was the host?\" and answer: \"person\", explain why\n",
      "Sample 215: Given question \"Where would a business man keep a plane ticket with other documents?\" and answer: \"briefcase\", explain why\n",
      "Sample 216: Given question \"Where would acrobats sometimes use a launching platform when they perform?\" and answer: \"circus\", explain why\n",
      "Sample 217: Given question \"When someone is watching a film like Saw, what are they likely experiencing?\" and answer: \"fear\", explain why\n",
      "Sample 218: Given question \"The installers had to move all the rows of benches, they were putting in new carpet where?\" and answer: \"church\", explain why\n",
      "Sample 219: Given question \"If a person wants to hear music in their car, what can they do?\" and answer: \"listen to radio\", explain why\n",
      "Sample 220: Given question \"Wanting to listen to the radio, what did the man do to it?\" and answer: \"turn on\", explain why\n",
      "Sample 221: Given question \"A koala couldn't find it's usual haunts, so it made its home at the top of something else.  Where was the Koala?\" and answer: \"gum tree\", explain why\n",
      "Sample 222: Given question \"What would you be if you do not have work?\" and answer: \"unemployed\", explain why\n",
      "Sample 223: Given question \"John wanted to hunt blowfish, but he didn't want to leave America.  Where might he search?\" and answer: \"hawaiian waters\", explain why\n",
      "Sample 224: Given question \"What does a long session of procreating cause?\" and answer: \"exhaustion\", explain why\n",
      "Sample 225: Given question \"Where would you throw some pennies?\" and answer: \"water fountain\", explain why\n",
      "Sample 226: Given question \"Despite this name out front you will also find beer and wine where too?\" and answer: \"liquor store\", explain why\n",
      "Sample 227: Given question \"The aorta is the main artery in what area of the body?\" and answer: \"torso\", explain why\n",
      "Sample 228: Given question \"Where can you find pamphlets regarding diseases and ailments?\" and answer: \"health department\", explain why\n",
      "Sample 229: Given question \"What does reading newspapers nowadays lead to?\" and answer: \"aggravation\", explain why\n",
      "Sample 230: Given question \"Where might a t-shirt be kept?\" and answer: \"drawer\", explain why\n",
      "Sample 231: Given question \"Where could someone give you a plate with a grape on it?\" and answer: \"restaurant\", explain why\n",
      "Sample 232: Given question \"He though that a teakettle would be a good souvenir from his trip to merry old what?\" and answer: \"england\", explain why\n",
      "Sample 233: Given question \"James went to outer space for the first time.  He packed everything, including his peanut butter, into a single object.  Where might his things be?\" and answer: \"suitcase\", explain why\n",
      "Sample 234: Given question \"Where are you likely to see more than one office building?\" and answer: \"city\", explain why\n",
      "Sample 235: Given question \"Sitting down was a wobbly affair, it seem all four what were uneven?\" and answer: \"legs\", explain why\n",
      "Sample 236: Given question \"The janitor had to climb high in the rafters of the auditorium, he was replacing the stage whats?\" and answer: \"lights\", explain why\n",
      "Sample 237: Given question \"Where would you get a mailbox if you do not have one?\" and answer: \"hardware store\", explain why\n",
      "Sample 238: Given question \"What does waiting for something for a response from an interview cause?\" and answer: \"anxiety\", explain why\n",
      "Sample 239: Given question \"Where does a potato become softer?\" and answer: \"vegetable stew\", explain why\n",
      "Sample 240: Given question \"What would you use if you wanted to play music?\" and answer: \"cassettes\", explain why\n",
      "Sample 241: Given question \"I need a person to milk a cow would a volunteer do this?\" and answer: \"step forward\", explain why\n",
      "Sample 242: Given question \"If you did well on the test, you might get an A as a what?\" and answer: \"school grade\", explain why\n",
      "Sample 243: Given question \"He explained that the concept was corporeal and the student should be able to grasp it, but the student found the ideas what?\" and answer: \"intangible\", explain why\n",
      "Sample 244: Given question \"Where do fans watch people kick a ball?\" and answer: \"soccer game\", explain why\n",
      "Sample 245: Given question \"The trainer told him to keep doing the same exercise, he said he had to keep doing it until he what?\" and answer: \"get tired\", explain why\n",
      "Sample 246: Given question \"Where is not known for apple trees?\" and answer: \"wisconsin\", explain why\n",
      "Sample 247: Given question \"Where would you keep paper files you're currently working on?\" and answer: \"desk\", explain why\n",
      "Sample 248: Given question \"A hurricane can create what when it plows through a city?\" and answer: \"disaster\", explain why\n",
      "Sample 249: Given question \"Where would there be a ticket office that has people with suitcases?\" and answer: \"train station\", explain why\n",
      "Sample 250: Given question \"While getting drunk the body can only process so much at a time, go too fast and your belly might just make you what?\" and answer: \"throw up\", explain why\n",
      "Sample 251: Given question \"Where is a tabby cat likely to be happiest?\" and answer: \"lap\", explain why\n",
      "Sample 252: Given question \"I am at school and want a glass of milk, where do I look?\" and answer: \"cafeteria\", explain why\n",
      "Sample 253: Given question \"Janet likes dancing.   The swaying and the music gives her a feeling of what?\" and answer: \"euphoria\", explain why\n",
      "Sample 254: Given question \"James loved climbing.  What emotion might he feel from heights?\" and answer: \"exhilaration\", explain why\n",
      "Sample 255: Given question \"If you have an underlying heart condition, what might running twenty six miles cause?\" and answer: \"death\", explain why\n",
      "Sample 256: Given question \"What is often the function of ice?\" and answer: \"cool drink\", explain why\n",
      "Sample 257: Given question \"What noise can you make while having lunch that does not indicate you might die soon?\" and answer: \"burp\", explain why\n",
      "Sample 258: Given question \"Billy called out to John, and listened for what?\" and answer: \"response\", explain why\n",
      "Sample 259: Given question \"A person who is constantly grooming is try to preserve their what?\" and answer: \"beauty\", explain why\n",
      "Sample 260: Given question \"Where would you see footprints that happen due to the formation of an impression?\" and answer: \"ground\", explain why\n",
      "Sample 261: Given question \"Where can someone level up?\" and answer: \"video game\", explain why\n",
      "Sample 262: Given question \"Where does a person usually plant a rosebush?\" and answer: \"flower bed\", explain why\n",
      "Sample 263: Given question \"What does someone want when having fun with their friends and trying to fit in?\" and answer: \"being understood\", explain why\n",
      "Sample 264: Given question \"How can you distinguish garbage from other things?\" and answer: \"smells bad\", explain why\n",
      "Sample 265: Given question \"What does an apple tree need to grow?\" and answer: \"dirt\", explain why\n",
      "Sample 266: Given question \"What does a person do if they want to appear authroitative?\" and answer: \"stand erect\", explain why\n",
      "Sample 267: Given question \"What floor do you run between rooms?\" and answer: \"hallway\", explain why\n",
      "Sample 268: Given question \"Wood has been replaced by what in most people's dwellings?\" and answer: \"carpet\", explain why\n",
      "Sample 269: Given question \"Where might a motionless horse be?\" and answer: \"painting\", explain why\n",
      "Sample 270: Given question \"When a play starts in an auditorium, what tends to fade out?\" and answer: \"lights\", explain why\n",
      "Sample 271: Given question \"I was intoxicated and driving my car, what would I do with havoc?\" and answer: \"wreak\", explain why\n",
      "Sample 272: Given question \"What weapon will aim for the nose of an aircraft?\" and answer: \"missile\", explain why\n",
      "Sample 273: Given question \"What is the hope of playing sports without competition?\" and answer: \"have fun\", explain why\n",
      "Sample 274: Given question \"while luck plays a big role, every person who is great at something has focus and what to it?\" and answer: \"dedication\", explain why\n",
      "Sample 275: Given question \"Why might happen to two individuals experiencing fear that can't agree?\" and answer: \"separate people\", explain why\n",
      "Sample 276: Given question \"If you keep telling many people about being a vegetarian what do you risk becoming?\" and answer: \"annoyance\", explain why\n",
      "Sample 277: Given question \"James loves judging things, but all he has to go on is his own what?\" and answer: \"experience\", explain why\n",
      "Sample 278: Given question \"If one needed peas and shopped local, where might they go?\" and answer: \"farmer's market\", explain why\n",
      "Sample 279: Given question \"Where would you keep a container can of corn?\" and answer: \"pantry\", explain why\n",
      "Sample 280: Given question \"Why would you be getting in shape?\" and answer: \"good health\", explain why\n",
      "Sample 281: Given question \"Where can you buy opera glasses that are old?\" and answer: \"antique store\", explain why\n",
      "Sample 282: Given question \"What do dogs need to be happy?\" and answer: \"affection\", explain why\n",
      "Sample 283: Given question \"James was hiking through a desert when he looked up and saw some birds above him.  Where might the birds have been?\" and answer: \"sky\", explain why\n",
      "Sample 284: Given question \"She caught the first snowflake of her life on her tongue, she was naively excited to be spending a what in a region that actually had snow?\" and answer: \"winter\", explain why\n",
      "Sample 285: Given question \"James was driving away from work. He slid into the outside lane.  Up ahead he would have to do what?\" and answer: \"turn right\", explain why\n",
      "Sample 286: Given question \"Joe likes to pretend, and he knows that to pretend you need something special.  What is necessary to pretend?\" and answer: \"have imagination\", explain why\n",
      "Sample 287: Given question \"The cleanup crew would always find a hub or two during highway clean up, they always came off of a what?\" and answer: \"car wheel\", explain why\n",
      "Sample 288: Given question \"Where can a human relax?\" and answer: \"park\", explain why\n",
      "Sample 289: Given question \"To learn must have the right book, to work efficiently what must one have?\" and answer: \"have tools\", explain why\n",
      "Sample 290: Given question \"Where could you hear an organ being played?\" and answer: \"cathedral\", explain why\n",
      "Sample 291: Given question \"She was sick and staying in bed the day of the event, unfortunately this meant she was what?\" and answer: \"missing out\", explain why\n",
      "Sample 292: Given question \"Like with owning a kitten, what is a common danger when participating in the sport of fencing?\" and answer: \"small cuts\", explain why\n",
      "Sample 293: Given question \"What's the place every grape wants to go in the end?\" and answer: \"winery\", explain why\n",
      "Sample 294: Given question \"Joe was very good at thinking.  As he grew, he learned out to apply his thoughts to most situations.  This led to him doing what?\" and answer: \"solving problem\", explain why\n",
      "Sample 295: Given question \"If two people are walking into a house, what do they plan to do?\" and answer: \"sleep together\", explain why\n",
      "Sample 296: Given question \"The man spent the weekend with his girlfriend. What is he likely to have done?\" and answer: \"get laid\", explain why\n",
      "Sample 297: Given question \"After exiting a ring road and headed to a group of homes, where are you going?\" and answer: \"town\", explain why\n",
      "Sample 298: Given question \"What is a place that sells suntan lotion but not food or medicine?\" and answer: \"shop\", explain why\n",
      "Sample 299: Given question \"A person is putting a sofabed in a house for a guest, where are they likely to place it?\" and answer: \"spare room\", explain why\n",
      "Sample 300: Given question \"What is typically the attitude of a child waiting for something?\" and answer: \"impatience\", explain why\n",
      "Sample 301: Given question \"Fish have fins to move underwater, but can't walk because what?\" and answer: \"no legs\", explain why\n",
      "Sample 302: Given question \"Sam liked procreating.   He didn't care about the children, but he loved a specific part of it.  What did he enjoy?\" and answer: \"orgasm\", explain why\n",
      "Sample 303: Given question \"Why would you be eating breakfast?\" and answer: \"being satisfied\", explain why\n",
      "Sample 304: Given question \"He knew that beginning work on this job would mean he couldn't get home on time for several days. What is his reaction?\" and answer: \"stress\", explain why\n",
      "Sample 305: Given question \"The writer wasn't known for them but he loved to what about nature?\" and answer: \"write poems\", explain why\n",
      "Sample 306: Given question \"The Canadian farmer wondered if potatoes would grow where he lived, where was his likely location?\" and answer: \"prince edward island\", explain why\n",
      "Sample 307: Given question \"She was known for be soft and sensitive, but when all their wills were tested she was the only one who stood what?\" and answer: \"stoic\", explain why\n",
      "Sample 308: Given question \"When you are drinking liquid, what are you doing?\" and answer: \"swallow\", explain why\n",
      "Sample 309: Given question \"Where would a marmot feel most confined?\" and answer: \"petting zoo\", explain why\n",
      "Sample 310: Given question \"Where would you be unlikely to see footprints due to the absence of people?\" and answer: \"roof\", explain why\n",
      "Sample 311: Given question \"When someone is learning about science what happens to them?\" and answer: \"become educated\", explain why\n",
      "Sample 312: Given question \"Where might an army captain be found?\" and answer: \"military\", explain why\n",
      "Sample 313: Given question \"The recipe called for much salt to really bring out the flavor, but given his dietary restrictions he added just a what?\" and answer: \"little bit\", explain why\n",
      "Sample 314: Given question \"What could happen to you if you are cleaning on the 10th floor of an unfinished building?\" and answer: \"injury\", explain why\n",
      "Sample 315: Given question \"He told his parents he was going to go somewhere, they told him to call when he what?\" and answer: \"arrive there\", explain why\n",
      "Sample 316: Given question \"What is likely the mood of those going to a party?\" and answer: \"happiness\", explain why\n",
      "Sample 317: Given question \"John was very annoyed by the infidelity of his sound system.  He had paid a premium for it, so he expected what?\" and answer: \"fidelity\", explain why\n",
      "Sample 318: Given question \"What is a negative effect to someone other than a spouse when two spouses are getting divorced?\" and answer: \"children suffer\", explain why\n",
      "Sample 319: Given question \"What kind of building has many a book written in Hebrew?\" and answer: \"synagogue\", explain why\n",
      "Sample 320: Given question \"When love is not reciprocated, what are the feelings that are involved?\" and answer: \"pain and suffering\", explain why\n",
      "Sample 321: Given question \"Despite numerous bad public reviews the expert found the product to be what?\" and answer: \"first rate\", explain why\n",
      "Sample 322: Given question \"As one side made advances on the other it seemed it would soon be over, the losers were doomed because not everyone gets to celebrate what?\" and answer: \"victory in war\", explain why\n",
      "Sample 323: Given question \"Where is a white rat likely to be?\" and answer: \"laboratory\", explain why\n",
      "Sample 324: Given question \"where do you store wine?\" and answer: \"basement\", explain why\n",
      "Sample 325: Given question \"A monkey ran through La Defense with classified documents, who was chasing it?\" and answer: \"french government\", explain why\n",
      "Sample 326: Given question \"The aisle that John was on had macaroni, rice, and hamburger helper. What sort of store is John most likely shopping at?\" and answer: \"grocery store\", explain why\n",
      "Sample 327: Given question \"Danny was having fun singing in front of his class.   He has a lot of what?\" and answer: \"glee\", explain why\n",
      "Sample 328: Given question \"James was an American horse. He thought his home was too hot.  Where might he have lived?\" and answer: \"arizona\", explain why\n",
      "Sample 329: Given question \"What does exercising immediately lead to?\" and answer: \"exhaustion\", explain why\n",
      "Sample 330: Given question \"Where should an excavation never take place?\" and answer: \"cemetary\", explain why\n",
      "Sample 331: Given question \"If someone were to gain a lot of fat their doctor will likely tell them to do what?\" and answer: \"lose weight\", explain why\n",
      "Sample 332: Given question \"Being tired makes humans decide to go to this object?\" and answer: \"go to bed\", explain why\n",
      "Sample 333: Given question \"I need a balloon to decorate something, what am I buying it for?\" and answer: \"birthday party\", explain why\n",
      "Sample 334: Given question \"If I want to listen to the movie what do I need to do?\" and answer: \"shut up\", explain why\n",
      "Sample 335: Given question \"What kingdom is frequently associated with pubs?\" and answer: \"great britain\", explain why\n",
      "Sample 336: Given question \"Where might one find a bench of people sitting before they are taken away?\" and answer: \"bus stop\", explain why\n",
      "Sample 337: Given question \"Where can you buy a binder?\" and answer: \"office supply store\", explain why\n",
      "Sample 338: Given question \"People have many different emotions during the day we also call these this?\" and answer: \"feelings\", explain why\n",
      "Sample 339: Given question \"Opening business was a passionate dream of his, but he'd be lying if he didn't want to what too?\" and answer: \"get rich\", explain why\n",
      "Sample 340: Given question \"When the farmer was reproducing sheep, what did one sheep give later?\" and answer: \"birth\", explain why\n",
      "Sample 341: Given question \"Even if not all events are enjoyable, what is a person traveling to many different places likely to have?\" and answer: \"interesting experiences\", explain why\n",
      "Sample 342: Given question \"The loquacious man needed to listen, what should he do?\" and answer: \"stop talking\", explain why\n",
      "Sample 343: Given question \"What would a rock form in nature above the treeline?\" and answer: \"mountains\", explain why\n",
      "Sample 344: Given question \"Some people don't have insurance, they can expect a long wait in the waiting room when they go to the walk in what?\" and answer: \"clinic\", explain why\n",
      "Sample 345: Given question \"He was in a cabin in the woods, through the window he saw a fox where?\" and answer: \"outside\", explain why\n",
      "Sample 346: Given question \"If you've been in a rut and busy, taking the time and eating breakfast could help you have a what?\" and answer: \"better day\", explain why\n",
      "Sample 347: Given question \"Where do captured elephants live?\" and answer: \"zoo\", explain why\n",
      "Sample 348: Given question \"Danny needed a new mouse, his was jumping around  whenever he moved it.   Where might his mouse be?\" and answer: \"desktop\", explain why\n",
      "Sample 349: Given question \"Why would a camper start burning logs?\" and answer: \"make breakfast\", explain why\n",
      "Sample 350: Given question \"Joe rented a loft, which is a type of what?\" and answer: \"city apartment\", explain why\n",
      "Sample 351: Given question \"The president usually lays his weary head to bed where?\" and answer: \"whitehouse\", explain why\n",
      "Sample 352: Given question \"Where would a child be happy to find chocolate?\" and answer: \"christmas stocking\", explain why\n",
      "Sample 353: Given question \"It was breakfast time.  Brad ordered eggs, toast, and something to drink. What might he drink?\" and answer: \"coffee\", explain why\n",
      "Sample 354: Given question \"The student pulled an all-nighter before attending lecture, what did he do upon arriving?\" and answer: \"go to sleep\", explain why\n",
      "Sample 355: Given question \"What would you likely see a group of horses doing together?\" and answer: \"running in herd\", explain why\n",
      "Sample 356: Given question \"Neuroepithelium is found in a few places, you're using which one to read this text if you're human?\" and answer: \"retina\", explain why\n",
      "Sample 357: Given question \"What is the name of the government building that houses the U.S. Congress?\" and answer: \"capitol building\", explain why\n",
      "Sample 358: Given question \"A cube has a top, bottom, two sides and what else?\" and answer: \"front back\", explain why\n",
      "Sample 359: Given question \"He was a man with many loose morals, but when it came to his wife he was always what?\" and answer: \"faithful\", explain why\n",
      "Sample 360: Given question \"Friday wasn't in the mood to be answering questions.  After a ten hour interrogation he was what?\" and answer: \"getting tired\", explain why\n",
      "Sample 361: Given question \"What might happen to someone not used to jogging?\" and answer: \"shortness of breath\", explain why\n",
      "Sample 362: Given question \"She looked longingly at her unrequited love, what did she want to be for him?\" and answer: \"matter to\", explain why\n",
      "Sample 363: Given question \"Where might a person play an acoustic guitar as they wear headphones and sit in a booth with a window?\" and answer: \"studio\", explain why\n",
      "Sample 364: Given question \"Where might a person store pamphlets?\" and answer: \"drawer\", explain why\n",
      "Sample 365: Given question \"You might hear someone say árbol de manzana instead of apple tree where?\" and answer: \"spain\", explain why\n",
      "Sample 366: Given question \"What do you do in court to alleviate curiosity?\" and answer: \"hear testimony\", explain why\n",
      "Sample 367: Given question \"What are you likely to see on Independence Day?\" and answer: \"fireworks display\", explain why\n",
      "Sample 368: Given question \"If the world is materials, what is it made out of?\" and answer: \"anything\", explain why\n",
      "Sample 369: Given question \"The lab results had been compiled, the scientist began analysing the data because he wanted what?\" and answer: \"better understanding\", explain why\n",
      "Sample 370: Given question \"Where  might someone find lots of homes with a balcony railing?\" and answer: \"apartment complex\", explain why\n",
      "Sample 371: Given question \"Where would a person keep a personal ficus?\" and answer: \"own home\", explain why\n",
      "Sample 372: Given question \"George ruined the surprise.  How did he do so?\" and answer: \"knowingly\", explain why\n",
      "Sample 373: Given question \"The paper sign had notice of a civic meeting, where should it be posted?\" and answer: \"public place\", explain why\n",
      "Sample 374: Given question \"He was competing for the prestigious prize, though it had no money, what was he seeking by attempting to get it?\" and answer: \"accomplishment\", explain why\n",
      "Sample 375: Given question \"What is KFC who serves chicken?\" and answer: \"fast food restaurant\", explain why\n",
      "Sample 376: Given question \"What may you feel after standing in line for a long time and not getting what you were after?\" and answer: \"frustration\", explain why\n",
      "Sample 377: Given question \"Where is small knight likely to be found?\" and answer: \"chess board\", explain why\n",
      "Sample 378: Given question \"What is a person's goal to ownas an adult with a family?\" and answer: \"own home\", explain why\n",
      "Sample 379: Given question \"What prevents someone from buying beer?\" and answer: \"have no money\", explain why\n",
      "Sample 380: Given question \"If people are competing for resources what emotional state are they likely to experience?\" and answer: \"stress\", explain why\n",
      "Sample 381: Given question \"When will this summer end?\" and answer: \"winter\", explain why\n",
      "Sample 382: Given question \"The turkey needed to be kept unspoiled, what is the full name of a useful impelement in this situation?\" and answer: \"refrigerator\", explain why\n",
      "Sample 383: Given question \"The person wanted to share his knowledge, so what did he do?\" and answer: \"teach another\", explain why\n",
      "Sample 384: Given question \"James noticed that people who communicate well have fewer problems.  Some people communicate easily with strangers, others need to talk with members of their own groups.  A religion is a type of group.  What do members of a religion have in common?\" and answer: \"believe in god\", explain why\n",
      "Sample 385: Given question \"What do you take out of the fish before service a filet??\" and answer: \"bones\", explain why\n",
      "Sample 386: Given question \"Where would someone be likely to see a moving airplane?\" and answer: \"sky\", explain why\n",
      "Sample 387: Given question \"She was very saddened about the condition of the person, it was who she most what?\" and answer: \"care about\", explain why\n",
      "Sample 388: Given question \"Where would you find a cottage that gets flooded often?\" and answer: \"rural area\", explain why\n",
      "Sample 389: Given question \"The roadway had fallen into disrepair, the citizens took their complaints to the where?\" and answer: \"city\", explain why\n",
      "Sample 390: Given question \"After giving assistance to a person who's lost their wallet what is customarily given?\" and answer: \"reward\", explain why\n",
      "Sample 391: Given question \"Where is a bad place to put a cemetery?\" and answer: \"populated area\", explain why\n",
      "Sample 392: Given question \"Where will glue stay usable?\" and answer: \"closed container\", explain why\n",
      "Sample 393: Given question \"Where are leaves likely to cause an accident?\" and answer: \"street\", explain why\n",
      "Sample 394: Given question \"What is a grumpy person likely to have?\" and answer: \"headache\", explain why\n",
      "Sample 395: Given question \"Billy was at an hold wood and stone cabin.   He found potatoes growing through the floorboards.  Where might the potato plants be?\" and answer: \"root cellar\", explain why\n",
      "Sample 396: Given question \"Where are floors kept clean for holy purposes?\" and answer: \"synagogue\", explain why\n",
      "Sample 397: Given question \"You can pick more than one number, or even pick a color on the what?\" and answer: \"roulette wheel\", explain why\n",
      "Sample 398: Given question \"Dan found a bunch of ball bearings behind a wall when he was doing renovations.  Where might that wall have been?\" and answer: \"church\", explain why\n",
      "Sample 399: Given question \"WHat is the size of the school cafeteria?\" and answer: \"large room\", explain why\n",
      "Sample 400: Given question \"If you have a lot of money after cashing in your chips at a casino, what would the casino owner feel towards you?\" and answer: \"resentment\", explain why\n",
      "Sample 401: Given question \"What will happen after agreeing with verbally about a deal that you made with him or her?\" and answer: \"shake hands\", explain why\n",
      "Sample 402: Given question \"In a lot of Asian restaurants food is eaten in a?\" and answer: \"bowl\", explain why\n",
      "Sample 403: Given question \"Drinking alcohol to excess can cause you to begin doing what?\" and answer: \"vomiting\", explain why\n",
      "Sample 404: Given question \"What do children often do to express happiness?\" and answer: \"sing\", explain why\n",
      "Sample 405: Given question \"The iphone can do many things.  If you threw away your iPod, you probably use your iPhone to do what?\" and answer: \"play music\", explain why\n",
      "Sample 406: Given question \"John was going bathing in a public hot spring in japan, but he was embarrassed. What wasn't he comfortable with?\" and answer: \"nudity\", explain why\n",
      "Sample 407: Given question \"What is the goal for a student to improve in?\" and answer: \"every aspect of life\", explain why\n",
      "Sample 408: Given question \"The company wanted to hire someone with special needs, their job was to collect the cardboard in the what?\" and answer: \"warehouse\", explain why\n",
      "Sample 409: Given question \"What is good way to break boredom for kids?\" and answer: \"play games\", explain why\n",
      "Sample 410: Given question \"The teacher's pet loved answering questions, each correct answer brought her more what than the last?\" and answer: \"satisfaction\", explain why\n",
      "Sample 411: Given question \"where do you typically buy apples?\" and answer: \"grocery store\", explain why\n",
      "Sample 412: Given question \"If you like learning about science, you are all?\" and answer: \"smiles\", explain why\n",
      "Sample 413: Given question \"The tree wanted to grow more, but in the garden why did the roots stop spreading?\" and answer: \"wall in\", explain why\n",
      "Sample 414: Given question \"Sam  spent time chatting with friends about important things because he wanted to get what?\" and answer: \"answers\", explain why\n",
      "Sample 415: Given question \"When frozen it showed solidity, but as it thawed and melted it showed what?\" and answer: \"fluidity\", explain why\n",
      "Sample 416: Given question \"James drove down the thoroughfare though his home what?\" and answer: \"town\", explain why\n",
      "Sample 417: Given question \"The plants are hungry, what do they need to do for satiation?\" and answer: \"photosynthesis\", explain why\n",
      "Sample 418: Given question \"Billy bought coffee and waited for his wife to arrive from  France.  Where might he have been?\" and answer: \"train station\", explain why\n",
      "Sample 419: Given question \"What is likely the result of remembering a deceased friend?\" and answer: \"crying\", explain why\n",
      "Sample 420: Given question \"What is often a side effect of traveling on the water?\" and answer: \"motion sickness\", explain why\n",
      "Sample 421: Given question \"What sport do fans often watch people loose teeth?\" and answer: \"hockey game\", explain why\n",
      "Sample 422: Given question \"There are hundreds of bars and eateries in what east coast metropolis?\" and answer: \"new york city\", explain why\n",
      "Sample 423: Given question \"He wore the wrong shoes while walking all day, now he has what on his heels and toes?\" and answer: \"blisters\", explain why\n",
      "Sample 424: Given question \"If people are disappointed by something they aren't entitled to, what must they do?\" and answer: \"lower expectations\", explain why\n",
      "Sample 425: Given question \"What kind of service would you want if you do not want bad service or very good service?\" and answer: \"adequate\", explain why\n",
      "Sample 426: Given question \"Where is known for a multitude of wedding chapels?\" and answer: \"nevada\", explain why\n",
      "Sample 427: Given question \"If something is very hard but you just manage to be able to do it, it can be called what?\" and answer: \"bearable\", explain why\n",
      "Sample 428: Given question \"What has happened if you are agreeing with someone but do not keep the agreement?\" and answer: \"lie\", explain why\n",
      "Sample 429: Given question \"What is best for a rosebush?\" and answer: \"temperate climate\", explain why\n",
      "Sample 430: Given question \"The athlete was competing in a race and saw the finish line, what did he feel as a result?\" and answer: \"adrenaline rush\", explain why\n",
      "Sample 431: Given question \"The key to happiness while living life is to do more than what?\" and answer: \"existing\", explain why\n",
      "Sample 432: Given question \"The children thought it was a good movie, they began to play they were in the movie and what they were the characters?\" and answer: \"pretend\", explain why\n",
      "Sample 433: Given question \"What do adults do with their clothing?\" and answer: \"dress themselves\", explain why\n",
      "Sample 434: Given question \"The bald eagle made a nest in a tree surrounded by others, it made it's home in a vast what?\" and answer: \"forrest\", explain why\n",
      "Sample 435: Given question \"Where would a floor be covered in clothes?\" and answer: \"closet\", explain why\n",
      "Sample 436: Given question \"What is an object that is not used in a common room likely to be?\" and answer: \"personal\", explain why\n",
      "Sample 437: Given question \"How did the sleeping child know they were still in the process of going somewhere?\" and answer: \"movement\", explain why\n",
      "Sample 438: Given question \"Some people go their whole life doing what for love?\" and answer: \"wait for\", explain why\n",
      "Sample 439: Given question \"What can happen to someone involved in a precarious rescue?\" and answer: \"endanger\", explain why\n",
      "Sample 440: Given question \"Plants can't move, so what must they do to continue their lineage?\" and answer: \"reproduce asexually\", explain why\n",
      "Sample 441: Given question \"A material that is elastic is able to do what?\" and answer: \"stretch\", explain why\n",
      "Sample 442: Given question \"What happens to people playing games?\" and answer: \"happiness\", explain why\n",
      "Sample 443: Given question \"What is something that you feel when you go to the opera?\" and answer: \"relaxation\", explain why\n",
      "Sample 444: Given question \"Though morbid and cold with all the dead bodies, there was something very human about what place?\" and answer: \"mortuary\", explain why\n",
      "Sample 445: Given question \"Where could you find a steel cable that has not been completed yet?\" and answer: \"factory\", explain why\n",
      "Sample 446: Given question \"What liquid can be kept in a large container?\" and answer: \"juice\", explain why\n",
      "Sample 447: Given question \"Humans tend to have what round things that dart around?\" and answer: \"two eyes\", explain why\n",
      "Sample 448: Given question \"If you live by the shore than you probably live in a what?\" and answer: \"seaside town\", explain why\n",
      "Sample 449: Given question \"What is someone likely to do when trying to memorize something?\" and answer: \"concentrate\", explain why\n",
      "Sample 450: Given question \"A person made coffee using hot water and coffee grounds, now where should he pour it?\" and answer: \"coffee cup\", explain why\n",
      "Sample 451: Given question \"What should you do when you need to raise your body temperature when it is chilly at night outdoors?\" and answer: \"warmth\", explain why\n",
      "Sample 452: Given question \"What happens to the victim of someone committing a murder?\" and answer: \"die\", explain why\n",
      "Sample 453: Given question \"If I need to store old stuff out of the way without concerns of them getting damp, where do I go?\" and answer: \"attic\", explain why\n",
      "Sample 454: Given question \"Bill is returning to work.   He has experienced a bad feeling and thus stayed home for a week.  What did he probably feel?\" and answer: \"malaise\", explain why\n",
      "Sample 455: Given question \"Other than water, sugar is the main ingredient in what?\" and answer: \"soda pop\", explain why\n",
      "Sample 456: Given question \"Her dog was getting too close to the street, she yelled for it to get away and do what to where she pointed down?\" and answer: \"come here\", explain why\n",
      "Sample 457: Given question \"Sarah's dress was very loose. She preferred that.  She didn't like showing off her curves. What type of clothes would she not wear?\" and answer: \"close fitting\", explain why\n",
      "Sample 458: Given question \"What has a surface with ripples?\" and answer: \"lake\", explain why\n",
      "Sample 459: Given question \"Where is a cow likely to be happy at night?\" and answer: \"stable\", explain why\n",
      "Sample 460: Given question \"What do teachers encourage a child to do?\" and answer: \"ask many questions\", explain why\n",
      "Sample 461: Given question \"Those who cut themselves despite being warned that an object is sharp could be called what?\" and answer: \"unobservant\", explain why\n",
      "Sample 462: Given question \"A large container was a dime a dozen, there were hundreds of rows of them in the giant what?\" and answer: \"warehouse\", explain why\n",
      "Sample 463: Given question \"Where would you find a dime store along other such enterprises?\" and answer: \"commercial building\", explain why\n",
      "Sample 464: Given question \"Where can a lady store a writing instrument while away from home?\" and answer: \"purse\", explain why\n",
      "Sample 465: Given question \"What does a person do when he or she shows excitement?\" and answer: \"express information\", explain why\n",
      "Sample 466: Given question \"Dave felt that punishing John for making a mistake would be wrong.  It would not be just. It would only be what?\" and answer: \"retribution\", explain why\n",
      "Sample 467: Given question \"Why does grooming require careful consideration.?\" and answer: \"mistakes\", explain why\n",
      "Sample 468: Given question \"If you tried really hard to go to sleep sooner than normal, you would probably be trying to also what?\" and answer: \"get up early\", explain why\n",
      "Sample 469: Given question \"Sometimes people are wronged, and sometimes getting revenge brings them what?\" and answer: \"satisfaction\", explain why\n",
      "Sample 470: Given question \"What does being fat lead a person to want to do in the gym?\" and answer: \"get in shape\", explain why\n",
      "Sample 471: Given question \"WHat does someone usually produce a lot of when getting divorce?\" and answer: \"tears\", explain why\n",
      "Sample 472: Given question \"If someone is quite crafty with needles they might have all sorts of hobbies like needlepoint, crocheting, or just plain what?\" and answer: \"sewing\", explain why\n",
      "Sample 473: Given question \"What traditional shop would one find a razor in?\" and answer: \"barber shop\", explain why\n",
      "Sample 474: Given question \"Many in the flock often forget the most basic tenants, a big one being that on god can what?\" and answer: \"judge men\", explain why\n",
      "Sample 475: Given question \"A builder looking for wood to build a new home is likely to visit what location?\" and answer: \"lumberyard\", explain why\n",
      "Sample 476: Given question \"What is likely to happen to trees that are dry?\" and answer: \"die\", explain why\n",
      "Sample 477: Given question \"There was only one place that specialized in sports equipment in the town, what seemed really had a shop for everything?\" and answer: \"mall\", explain why\n",
      "Sample 478: Given question \"Where is someone looking for a job likely to find a computer?\" and answer: \"library\", explain why\n",
      "Sample 479: Given question \"The goalie felt blood on his face after blocking a ball, where was he/\" and answer: \"soccer game\", explain why\n",
      "Sample 480: Given question \"Several other people were standing around James.  They were jumping up and down, screaming loudly, and banging their heads.  Where might James have been?\" and answer: \"concert\", explain why\n",
      "Sample 481: Given question \"He was stabbing to death his wife when he was caught, at trial he still denied the what?\" and answer: \"killing\", explain why\n",
      "Sample 482: Given question \"What do millenials do when they experience boredom?\" and answer: \"surf net\", explain why\n",
      "Sample 483: Given question \"The people danced to the music, what was the music like for them?\" and answer: \"enjoyable\", explain why\n",
      "Sample 484: Given question \"Where would you find a computer near very young people learning?\" and answer: \"classroom\", explain why\n",
      "Sample 485: Given question \"She wore tight jeans, she wanted everybody to see her thigh what?\" and answer: \"gap\", explain why\n",
      "Sample 486: Given question \"The wind tore off the shingles, what was the wind like?\" and answer: \"blowing hard\", explain why\n",
      "Sample 487: Given question \"what is a characteristic of one who want to give assistance?\" and answer: \"helpful\", explain why\n",
      "Sample 488: Given question \"Computers were important in John's work, but they were useless if they weren't what?\" and answer: \"networked\", explain why\n",
      "Sample 489: Given question \"John plays brass instruments in a band that has a lot of diverse people in it and many different instruments.   They mostly play at clubs.  What sort of band might he be in.\" and answer: \"jazz band\", explain why\n",
      "Sample 490: Given question \"Where is a good place for a lawn chair?\" and answer: \"porch\", explain why\n",
      "Sample 491: Given question \"A night owl is what you'd head at sunset and you'd hear a what at sunrise?\" and answer: \"lark\", explain why\n",
      "Sample 492: Given question \"How would chicken be served?\" and answer: \"plate\", explain why\n",
      "Sample 493: Given question \"Why does she sing so much?\" and answer: \"enjoy\", explain why\n",
      "Sample 494: Given question \"The new play was the go to performance of the year, all the crowds would stand and what?\" and answer: \"applaud\", explain why\n",
      "Sample 495: Given question \"Cats are easily entertained, they love to what?\" and answer: \"play with toys\", explain why\n",
      "Sample 496: Given question \"What is the purpose of a basketball court?\" and answer: \"use\", explain why\n",
      "Sample 497: Given question \"What might two people competing get into?\" and answer: \"argument\", explain why\n",
      "Sample 498: Given question \"If you're releasing energy through running, what will you likely find on your skin?\" and answer: \"sweat\", explain why\n",
      "Sample 499: Given question \"What is a good thing to do while eating?\" and answer: \"drink\", explain why\n",
      "Sample 500: Given question \"John's RV needs electricity so that he can cook lunch.  Where would he go to plug in?\" and answer: \"rest area\", explain why\n",
      "Sample 501: Given question \"A person who does good to others garners what pleasing quality in their reputation?\" and answer: \"admiration\", explain why\n",
      "Sample 502: Given question \"What is a convenient way for a farmer to preserve their crops?\" and answer: \"can produce\", explain why\n",
      "Sample 503: Given question \"What does a computer have to do before a program can exist?\" and answer: \"compile\", explain why\n",
      "Sample 504: Given question \"A traveler from Atlanta wants to meet friends in Hong Kong, so he drives where?\" and answer: \"airport\", explain why\n",
      "Sample 505: Given question \"What does a real estate agent typically do when describing homes?\" and answer: \"exaggerate\", explain why\n",
      "Sample 506: Given question \"What did Van Gogh feel when he found his long lost painting?\" and answer: \"great relief\", explain why\n",
      "Sample 507: Given question \"James needed more sleep at night, so he did what earlier?\" and answer: \"go to sleep\", explain why\n",
      "Sample 508: Given question \"What will children do with dodge balls?\" and answer: \"throw things\", explain why\n",
      "Sample 509: Given question \"He was having a hard time breathing, on top of the mountain it was thin what?\" and answer: \"air\", explain why\n",
      "Sample 510: Given question \"What is someone who gets angry after getting drunk likely to participate in?\" and answer: \"violence\", explain why\n",
      "Sample 511: Given question \"Where would you buy wearable gold?\" and answer: \"jewelry store\", explain why\n",
      "Sample 512: Given question \"The people wanted to do a demonstration, where did they decide to do it?\" and answer: \"public place\", explain why\n",
      "Sample 513: Given question \"What is a corrupt government likely to lead to?\" and answer: \"trouble\", explain why\n",
      "Sample 514: Given question \"The college freshmen was set on getting a fresh start, he was determined on making friends so did lots of what?\" and answer: \"talking\", explain why\n",
      "Sample 515: Given question \"Attending meeting was his priority, he had to get a good what?\" and answer: \"result\", explain why\n",
      "Sample 516: Given question \"The man suffered from beef allergies, what did he suffer from as a result of eating hamburger?\" and answer: \"gas\", explain why\n",
      "Sample 517: Given question \"What would you do if you have excitement and do not want to stay in your house?\" and answer: \"go somewhere\", explain why\n",
      "Sample 518: Given question \"Where will you find eggs before the farmer collects them?\" and answer: \"chicken coop\", explain why\n",
      "Sample 519: Given question \"What do people with a lot of money do?\" and answer: \"own property\", explain why\n",
      "Sample 520: Given question \"Where are fish from salt water happiest?\" and answer: \"ocean\", explain why\n",
      "Sample 521: Given question \"Simon asked his father to read him a story.  His father couldn't find Simon's book, so looked everywhere for it. Where might it be?\" and answer: \"floor\", explain why\n",
      "Sample 522: Given question \"You enter the parking lot of a grocery store from where?\" and answer: \"street\", explain why\n",
      "Sample 523: Given question \"John and Jane were a couple.  They were dating for a while and wanted to be together for even longer. For this reason, they did what?\" and answer: \"plan to marry\", explain why\n",
      "Sample 524: Given question \"What can be the result of having an unhealthy lunch?\" and answer: \"heartburn\", explain why\n",
      "Sample 525: Given question \"What do airplanes do?\" and answer: \"carry freight\", explain why\n",
      "Sample 526: Given question \"Where do you go to see a dinosaur bone?\" and answer: \"museum\", explain why\n",
      "Sample 527: Given question \"To prevent any glare during the big football game he made sure to clean the dust of his what?\" and answer: \"television\", explain why\n",
      "Sample 528: Given question \"The people were confused by the words being spoken, why would this be?\" and answer: \"mean many things\", explain why\n",
      "Sample 529: Given question \"What accused of committing a murder what is a person facing?\" and answer: \"jail time\", explain why\n",
      "Sample 530: Given question \"The person forgot to put a lid on the garbage, raccoons knocked all of it out of the what?\" and answer: \"container\", explain why\n",
      "Sample 531: Given question \"The power went out, so why did the family use a candle?\" and answer: \"emit light\", explain why\n",
      "Sample 532: Given question \"Where can a person use pencils to keep score?\" and answer: \"bowling alley\", explain why\n",
      "Sample 533: Given question \"Two year college degrees are either an associates of science or an associates of what?\" and answer: \"arts\", explain why\n",
      "Sample 534: Given question \"If a person is looking at houses, what is their end goal?\" and answer: \"own property\", explain why\n",
      "Sample 535: Given question \"What would a sick person do if he or she is not treated?\" and answer: \"throw up\", explain why\n",
      "Sample 536: Given question \"Where would you find a desk drawer which has people nearby whose age could be orders of magnitude different from each other?\" and answer: \"school\", explain why\n",
      "Sample 537: Given question \"What do people do when they remember that they left their oven turned on?\" and answer: \"hurry home\", explain why\n",
      "Sample 538: Given question \"He bought a warranty for the fragile objects just it case they what?\" and answer: \"become broken\", explain why\n",
      "Sample 539: Given question \"What causes an apple tree to grow?\" and answer: \"sunshine\", explain why\n",
      "Sample 540: Given question \"The robot shockingly began to read book after book, it had apparently done what?\" and answer: \"learn to read\", explain why\n",
      "Sample 541: Given question \"where does a mouse in new york city live?\" and answer: \"sewer\", explain why\n",
      "Sample 542: Given question \"He had an active imagination, sleeping was always an adventure because of his wild whats?\" and answer: \"dreams\", explain why\n",
      "Sample 543: Given question \"How does getting paid feel?\" and answer: \"satisfaction\", explain why\n",
      "Sample 544: Given question \"If you have curiosity about another location what should you do?\" and answer: \"go somewhere\", explain why\n",
      "Sample 545: Given question \"Lance owns a vineyard.  To make grapes he needs plenty of what?\" and answer: \"sunshine\", explain why\n",
      "Sample 546: Given question \"Where would a captain be on the sea?\" and answer: \"battleship\", explain why\n",
      "Sample 547: Given question \"Akron must have at least one dance club in what state?\" and answer: \"ohio\", explain why\n",
      "Sample 548: Given question \"Behind what small door are canned goods usually kept in?\" and answer: \"cupboard\", explain why\n",
      "Sample 549: Given question \"The mom told her son to stay in bed instead of going to school, what did she likely say afterwards?\" and answer: \"you're sick\", explain why\n",
      "Sample 550: Given question \"The graphic designer worked in tile, these digital tiles made up the maps of a what?\" and answer: \"computer game\", explain why\n",
      "Sample 551: Given question \"Where could you put some olives if you want to cook them?\" and answer: \"pizza\", explain why\n",
      "Sample 552: Given question \"Even though she implored he reply, what did the recipient of the email do?\" and answer: \"ignore\", explain why\n",
      "Sample 553: Given question \"Where are hot dogs are a commonly sold item away from a grocery store?\" and answer: \"sporting event\", explain why\n",
      "Sample 554: Given question \"I person is likely to say they are what after a good dance?\" and answer: \"am happy\", explain why\n",
      "Sample 555: Given question \"When they got a divorce, they stopped talking to each other, so what did they have?\" and answer: \"bad feelings\", explain why\n",
      "Sample 556: Given question \"Why does Tinder encourage meeting people?\" and answer: \"love\", explain why\n",
      "Sample 557: Given question \"Where are tires are found on all of the vehicles found where you can travel long distances?\" and answer: \"airport\", explain why\n",
      "Sample 558: Given question \"What kind of real estate agent would sell a house for less than what it is worth?\" and answer: \"incompetent\", explain why\n",
      "Sample 559: Given question \"The baby heard his mom talk for months, what did he do as a result?\" and answer: \"begin to talk\", explain why\n",
      "Sample 560: Given question \"The man passed out from drinking alcohol, what did his brain suffer from?\" and answer: \"toxicity\", explain why\n",
      "Sample 561: Given question \"If you have a ticket and you are planning to eat popcorn, where would you go?\" and answer: \"movie\", explain why\n",
      "Sample 562: Given question \"Where can you find cord along side nails and bolts?\" and answer: \"hardware store\", explain why\n",
      "Sample 563: Given question \"Many people complain after jumping up and down of which dizziness and?\" and answer: \"headaches\", explain why\n",
      "Sample 564: Given question \"How do central banks go about fighting inflation?\" and answer: \"deflation\", explain why\n",
      "Sample 565: Given question \"A person is trying to sleep but cannot.  He tosses and he turns without rest.  What might he need to do in order to sleep?\" and answer: \"get comfortable\", explain why\n",
      "Sample 566: Given question \"What is a good thing about playing football?\" and answer: \"having fun\", explain why\n",
      "Sample 567: Given question \"Reading a newspaper gives you a what about local current events?\" and answer: \"education\", explain why\n",
      "Sample 568: Given question \"Where would Bob go to buy pills?\" and answer: \"pharmacy\", explain why\n",
      "Sample 569: Given question \"The bald eagle serves as what for America?\" and answer: \"national emblem\", explain why\n",
      "Sample 570: Given question \"What events are typical, expected and not divine?\" and answer: \"humdrum\", explain why\n",
      "Sample 571: Given question \"If a person feels they are getting a job but they never get the offer, how might they feel?\" and answer: \"let down\", explain why\n",
      "Sample 572: Given question \"Sam came to despise his sister.  On the other hand, she felt what for him?\" and answer: \"admire\", explain why\n",
      "Sample 573: Given question \"Why would you stop chatting with friends?\" and answer: \"misunderstanding\", explain why\n",
      "Sample 574: Given question \"Driving to work can be monotonous, she would play her favorite music and just what along with it?\" and answer: \"sing\", explain why\n",
      "Sample 575: Given question \"When giving assistance to family members in need you may feel what?\" and answer: \"pleasure\", explain why\n",
      "Sample 576: Given question \"Not many people write out reports anymore, they only use paper by loading it into the what?\" and answer: \"computer printer\", explain why\n",
      "Sample 577: Given question \"What type of presentation might be set up on a table?\" and answer: \"demonstration\", explain why\n",
      "Sample 578: Given question \"Houses require a study what to be built on?\" and answer: \"foundation\", explain why\n",
      "Sample 579: Given question \"Where is a automobile likely to go after an accident?\" and answer: \"repair shop\", explain why\n",
      "Sample 580: Given question \"What might learning about science  lead to?\" and answer: \"new ideas\", explain why\n",
      "Sample 581: Given question \"What does a person miss when a tree hits power lines?\" and answer: \"electricity\", explain why\n",
      "Sample 582: Given question \"She was not lying intentionally, but she had a powerful what?\" and answer: \"imagination\", explain why\n",
      "Sample 583: Given question \"In December how can you throw water at your friends?\" and answer: \"snowball\", explain why\n",
      "Sample 584: Given question \"The farmer was scooping out eyes to plant in the ground, what was he scooping them from?\" and answer: \"potato\", explain why\n",
      "Sample 585: Given question \"What can happen  to someone too sure of their learning?\" and answer: \"overconfidence\", explain why\n",
      "Sample 586: Given question \"Where can one use opera glasses?\" and answer: \"theater\", explain why\n",
      "Sample 587: Given question \"John wants to catch crabs.  He's thinking of moving somewhere that this would be easier.  Where might he go?\" and answer: \"cape cod\", explain why\n",
      "Sample 588: Given question \"The whole area was larger than just the baseball stadium, it was an entire what?\" and answer: \"sports complex\", explain why\n",
      "Sample 589: Given question \"What can you put in a parking lot?\" and answer: \"car\", explain why\n",
      "Sample 590: Given question \"The address label was attached to the 3 pound what?\" and answer: \"parcel\", explain why\n",
      "Sample 591: Given question \"What kind of water comes from a faucet?\" and answer: \"room temperature\", explain why\n",
      "Sample 592: Given question \"Something that you need to have inside of you when opening a business is a lot of?\" and answer: \"determination\", explain why\n",
      "Sample 593: Given question \"Where might someone drive through rows of apple tree?\" and answer: \"countryside\", explain why\n",
      "Sample 594: Given question \"Joe began setting the cup on the table after Bill asked him to do what to it?\" and answer: \"put down\", explain why\n",
      "Sample 595: Given question \"Where could you find a laundry room that is only used by a few people?\" and answer: \"house\", explain why\n",
      "Sample 596: Given question \"Reaching tentative agreement is the first result when two side make what to come closer together?\" and answer: \"compromises\", explain why\n",
      "Sample 597: Given question \"Her dream was to own a house on the countryside, but instead she lived in a cramped apartment in the what?\" and answer: \"city\", explain why\n",
      "Sample 598: Given question \"What type of water transportation is human powered?\" and answer: \"row boat\", explain why\n",
      "Sample 599: Given question \"A human wants to go shopping in a dense urban area.  Where might be a good place for a person to go shopping?\" and answer: \"downtown\", explain why\n",
      "Sample 600: Given question \"A school is necessary for every one of these. What are they?\" and answer: \"community\", explain why\n",
      "Sample 601: Given question \"What is a mobile launching platform found in the ocean?\" and answer: \"aircraft carrier\", explain why\n",
      "Sample 602: Given question \"James was planning a vacation. he was doing this because he worked hard and needed something. What did he need?\" and answer: \"relaxation\", explain why\n",
      "Sample 603: Given question \"Putting on a professional stage play requires what kind of effort?\" and answer: \"serious\", explain why\n",
      "Sample 604: Given question \"what happens to a company when it is bankrupt?\" and answer: \"liquidated\", explain why\n",
      "Sample 605: Given question \"The tennis court suffered from fraternity pranks, where was it located?\" and answer: \"college campus\", explain why\n",
      "Sample 606: Given question \"What is likely the result of falling in gravel while running?\" and answer: \"stitches\", explain why\n",
      "Sample 607: Given question \"Where are you likely to find water underneath?\" and answer: \"bridge\", explain why\n",
      "Sample 608: Given question \"Playing tennis requires at least one opponent, a ball, and a what?\" and answer: \"tennis racket\", explain why\n",
      "Sample 609: Given question \"Where will you find more than one door?\" and answer: \"apartment\", explain why\n",
      "Sample 610: Given question \"Everyone was at the finals for a reason, they were all what competition?\" and answer: \"good at\", explain why\n",
      "Sample 611: Given question \"What could a solicitor do that would gain revenue?\" and answer: \"claim compensation\", explain why\n",
      "Sample 612: Given question \"Where would there be few or no people, regarless of whether there is rain?\" and answer: \"forest\", explain why\n",
      "Sample 613: Given question \"What is the goal of most people playing games?\" and answer: \"winning\", explain why\n",
      "Sample 614: Given question \"Where would you go if you didn't feel like baking a cake yourself?\" and answer: \"bakery\", explain why\n",
      "Sample 615: Given question \"What is a popular pork bbq dish?\" and answer: \"ribs\", explain why\n",
      "Sample 616: Given question \"What is something you do at a concert?\" and answer: \"make noise\", explain why\n",
      "Sample 617: Given question \"It was stuffy, so she decided on breathing fresh air, what happens as a result?\" and answer: \"feeling better\", explain why\n",
      "Sample 618: Given question \"Bob the mouse lived in a densely populated area.  Where might he look for shelter?\" and answer: \"abandoned houses\", explain why\n",
      "Sample 619: Given question \"The king needed to feel safe, where did he go?\" and answer: \"castle\", explain why\n",
      "Sample 620: Given question \"Dan's mother always told him that bathing was necessary because it led to what?\" and answer: \"cleanliness\", explain why\n",
      "Sample 621: Given question \"When Bill goes out the door and look up, what does he find outside?\" and answer: \"sky\", explain why\n",
      "Sample 622: Given question \"If friends comment on the condition of your living space what should you do?\" and answer: \"clean room\", explain why\n",
      "Sample 623: Given question \"What type of area would you be entering if dressed in a suit when putting your car in a parking lot?\" and answer: \"business district\", explain why\n",
      "Sample 624: Given question \"Feet that have been in boots all day will what?\" and answer: \"stink\", explain why\n",
      "Sample 625: Given question \"What would cause someone to have to re illustrate point?\" and answer: \"did not understand\", explain why\n",
      "Sample 626: Given question \"What are you about to do if you're standing in line for food?\" and answer: \"order\", explain why\n",
      "Sample 627: Given question \"If you owned a single heifer, where might you keep her most of the time.\" and answer: \"dairy barn\", explain why\n",
      "Sample 628: Given question \"If you need more information on a subject you can read books to what?\" and answer: \"further knowledge\", explain why\n"
     ]
    },
    {
     "name": "stdout",
     "output_type": "stream",
     "text": [
      "Sample 629: Given question \"If a person is feeling sick, but has a project to finish, what should they do?\" and answer: \"work at home\", explain why\n",
      "Sample 630: Given question \"The president is the leader of what institution?\" and answer: \"government\", explain why\n",
      "Sample 631: Given question \"If someone is a drunkard, what kind of person is he or she not?\" and answer: \"teetotaller\", explain why\n",
      "Sample 632: Given question \"If you choose to fly in an airplane, it normally means you have to?\" and answer: \"go far\", explain why\n",
      "Sample 633: Given question \"What is someone looking for in a new mattress when returning one that had lots of rigidity?\" and answer: \"softness\", explain why\n",
      "Sample 634: Given question \"The old man would be stuck staying in bed, part of the nurse's job was to move him so he wouldn't get what?\" and answer: \"bed sores\", explain why\n",
      "Sample 635: Given question \"Where can one find a singing human?\" and answer: \"band\", explain why\n",
      "Sample 636: Given question \"Bobby was doing housework when he became sick.   He thought he worked too hard, but the doctor said what it was what?\" and answer: \"allergies\", explain why\n",
      "Sample 637: Given question \"Bill is stuck in marsh when a man comes up to him peaking Cajun, where is he?\" and answer: \"louisiana\", explain why\n",
      "Sample 638: Given question \"Modesty is an important virtue.   An insufficient amount of it in the face of individuals of greater station may be interpreted as what?\" and answer: \"impudence\", explain why\n",
      "Sample 639: Given question \"The soldiers were on the run and in danger, they entered a building to hold up but first they had to make sure it was what?\" and answer: \"secure\", explain why\n",
      "Sample 640: Given question \"The moon was seen surrounded by stars, when was it seen by people?\" and answer: \"night sky\", explain why\n",
      "Sample 641: Given question \"If I wanted to travel and get bar service, what is one of my best options?\" and answer: \"train\", explain why\n",
      "Sample 642: Given question \"The teacher told the class they would be taking a lot of notes this semester, he recommended buying a what just for this class?\" and answer: \"notebook\", explain why\n",
      "Sample 643: Given question \"What do you receive a new credit card in?\" and answer: \"envelope\", explain why\n",
      "Sample 644: Given question \"How do you signal that you are agreeing with someone on a deal?\" and answer: \"shaking hand\", explain why\n",
      "Sample 645: Given question \"What could you put a ruler either on top of or into?\" and answer: \"desk\", explain why\n",
      "Sample 646: Given question \"Where can I find a constitutional monarchy with a parliamentary democracy and federation?\" and answer: \"canada\", explain why\n",
      "Sample 647: Given question \"What can drinking alcohol in excess to the point of poisoning cause?\" and answer: \"death\", explain why\n",
      "Sample 648: Given question \"He knew he no longer wanted to keep the clothes, but they were still good so he decided to do what?\" and answer: \"give away\", explain why\n",
      "Sample 649: Given question \"When doing housework, what would be most useful to clean the patio?\" and answer: \"broom\", explain why\n",
      "Sample 650: Given question \"The romantic vacation had gone perfectly, she had always wanted this moment of sitting at a cafe on the streets of where?\" and answer: \"paris\", explain why\n",
      "Sample 651: Given question \"Where might a traveler keep their comb?\" and answer: \"suitcase\", explain why\n",
      "Sample 652: Given question \"Every dribble echoed loudly, it was part of the experience of playing basketball in an empty what?\" and answer: \"gymnasium\", explain why\n",
      "Sample 653: Given question \"What does the D in DRC stand for?\" and answer: \"democratic\", explain why\n",
      "Sample 654: Given question \"Where would a person go for a wound that is urgent?\" and answer: \"emergency room\", explain why\n",
      "Sample 655: Given question \"The teacher explained that this topic would be on the test, so everything they were learning that day was what?\" and answer: \"very important\", explain why\n",
      "Sample 656: Given question \"Manny refused to give the court respect, and was charged with what?\" and answer: \"contempt\", explain why\n",
      "Sample 657: Given question \"Sarah knew she was committing perjury, so there was a lot of what feeling between her and the prosecutor?\" and answer: \"tension\", explain why\n",
      "Sample 658: Given question \"Where can you buy clothing, sporting goods, and housewares?\" and answer: \"department store\", explain why\n",
      "Sample 659: Given question \"What would cause a person to have  headaches?\" and answer: \"brain tumor\", explain why\n",
      "Sample 660: Given question \"You eat popcorn when you go to see what?\" and answer: \"movies\", explain why\n",
      "Sample 661: Given question \"If somebody was ready to eat breakfast they would enter the kitchen, but if it was barren they'd have to what?\" and answer: \"buy food\", explain why\n",
      "Sample 662: Given question \"Bald eagles naturally live where?\" and answer: \"great outdoors\", explain why\n",
      "Sample 663: Given question \"There was a saucepan used only for marinara, where was it kept?\" and answer: \"italian restaurant\", explain why\n",
      "Sample 664: Given question \"Where might I find a bowl nestled among other bowls in the kitchen?\" and answer: \"cupboard\", explain why\n",
      "Sample 665: Given question \"If you ate some spicy food, what could happen to you?\" and answer: \"heartburn\", explain why\n",
      "Sample 666: Given question \"If I see a laptop on a table, where might I be?\" and answer: \"internet cafe\", explain why\n",
      "Sample 667: Given question \"Why might someone want to be buying beer?\" and answer: \"pleasure\", explain why\n",
      "Sample 668: Given question \"Why was the line formed outside of the hot-dog stand?\" and answer: \"wait turn\", explain why\n",
      "Sample 669: Given question \"What happens when someone is driving their car for a long time?\" and answer: \"tire wear\", explain why\n",
      "Sample 670: Given question \"The boy had a lot of might, but he had something else, and the villain learned how to exploit his what?\" and answer: \"weakness\", explain why\n",
      "Sample 671: Given question \"Sam was a short distance runner. He couldn't do long distances.  What might happen if he tried long distances?\" and answer: \"get tired\", explain why\n",
      "Sample 672: Given question \"The person was looking for the bus arrival time, what did he do with the station schedule?\" and answer: \"read text\", explain why\n",
      "Sample 673: Given question \"Where are people usually most comfortable?\" and answer: \"own home\", explain why\n",
      "Sample 674: Given question \"Where do uniformed officials search travelers looking for terrorists?\" and answer: \"airport\", explain why\n",
      "Sample 675: Given question \"The comforter was a favorite for cuddling in front of the TV, where did the family put it?\" and answer: \"livingroom\", explain why\n",
      "Sample 676: Given question \"WHat does someone feel for someone that they entertain?\" and answer: \"liked\", explain why\n",
      "Sample 677: Given question \"Billy thought that he was smart, but many of his attitudes didn't were very regressive. How might you describe him?\" and answer: \"backward\", explain why\n",
      "Sample 678: Given question \"The child pounded his mitt in excitement while enjoying his first game in the bleachers where?\" and answer: \"baseball stadium\", explain why\n",
      "Sample 679: Given question \"Why would you be able to wait for someone?\" and answer: \"have patience\", explain why\n",
      "Sample 680: Given question \"What could a ticket be used to watch?\" and answer: \"movie\", explain why\n",
      "Sample 681: Given question \"Whenever I play chess, the other person seems to anticipate my moves, what can they do?\" and answer: \"think ahead\", explain why\n",
      "Sample 682: Given question \"Where are you if the person next to you has a briefcase and you're accused of a misdeed?\" and answer: \"courtroom\", explain why\n",
      "Sample 683: Given question \"If you want to go on vacation what do you need to afford the trip?\" and answer: \"save money\", explain why\n",
      "Sample 684: Given question \"Though it stayed strictly indoors, the small dog felt like it had all the space in the world in the what?\" and answer: \"big house\", explain why\n",
      "Sample 685: Given question \"Where might sheep go to a show?\" and answer: \"fairgrounds\", explain why\n",
      "Sample 686: Given question \"Where would you put some coffee if you are thirsty?\" and answer: \"cup\", explain why\n",
      "Sample 687: Given question \"The bus stop implemented a size restriction for luggage, where was the bus stop going?\" and answer: \"airport\", explain why\n",
      "Sample 688: Given question \"Joe loved the smell of the food on their plates.  It really made his what flutter?\" and answer: \"stomach\", explain why\n",
      "Sample 689: Given question \"He is beginning work at his first job.  What is he feeling?\" and answer: \"excitement\", explain why\n",
      "Sample 690: Given question \"He used hair styling gel, he kept it where?\" and answer: \"bathroom\", explain why\n",
      "Sample 691: Given question \"The broadcast studio had a booth set up for interviews, the host sat down and adjusted his what so the audience could hear?\" and answer: \"microphone\", explain why\n",
      "Sample 692: Given question \"Where can you find millions of apple tree?\" and answer: \"spain\", explain why\n",
      "Sample 693: Given question \"James complained that Alexa's electric guitar was too loud and he couldn't get any work done at home,  so she decided that she should get an acoustic guitar.  Where might she look for one?\" and answer: \"music shop\", explain why\n",
      "Sample 694: Given question \"Where does a tabby cat go to get warm?\" and answer: \"home\", explain why\n",
      "Sample 695: Given question \"What appliance uses water and soap?\" and answer: \"washing machine\", explain why\n",
      "Sample 696: Given question \"Where will a bullet projectile be found during a war?\" and answer: \"battle field\", explain why\n",
      "Sample 697: Given question \"What can kissing in November cause?\" and answer: \"catch cold\", explain why\n",
      "Sample 698: Given question \"What does sex often make happen in people?\" and answer: \"feel good\", explain why\n",
      "Sample 699: Given question \"Bob was having fun with bill.  How might Bob express his feelings?\" and answer: \"may laugh\", explain why\n",
      "Sample 700: Given question \"What can be done with a product on a table?\" and answer: \"demonstration\", explain why\n",
      "Sample 701: Given question \"The mountain was very massive.  It did what to the nearby hills?\" and answer: \"dwarf\", explain why\n",
      "Sample 702: Given question \"What does hitting the side of a horse cause?\" and answer: \"movement\", explain why\n",
      "Sample 703: Given question \"Where would you fill a salad bowl with as much as you can eat?\" and answer: \"buffet\", explain why\n",
      "Sample 704: Given question \"Billy bounced the ball off the wall.  There was a target on the wall for him to bounce against.  Where might he be?\" and answer: \"playroom\", explain why\n",
      "Sample 705: Given question \"If a person accidentally harms another person, what happens to them?\" and answer: \"feel ashamed\", explain why\n",
      "Sample 706: Given question \"Joe was driven by curiosity to take up a career doing what?\" and answer: \"design software\", explain why\n",
      "Sample 707: Given question \"A quarter of it was twenty five pounds, so the whole was what?\" and answer: \"hundredweight\", explain why\n",
      "Sample 708: Given question \"He always tried to shop local, he didn't like to support what kind of product?\" and answer: \"foreign\", explain why\n",
      "Sample 709: Given question \"Where are you if you have to order a cup of coffee?\" and answer: \"coffee shop\", explain why\n",
      "Sample 710: Given question \"The vet was concerned about all of the blood he saw, where was the blood coming from?\" and answer: \"animals\", explain why\n",
      "Sample 711: Given question \"Which entrance would you use if you do not want to use the back entrance?\" and answer: \"main\", explain why\n",
      "Sample 712: Given question \"The cloth's are not yet placed where they belong, where should we put them?\" and answer: \"linen closet\", explain why\n",
      "Sample 713: Given question \"The archaeologist was seeing artifacts that he knew were fake, how did he feel?\" and answer: \"angry\", explain why\n",
      "Sample 714: Given question \"A person needs to make a withdrawal, what is he looking for?\" and answer: \"bank money\", explain why\n",
      "Sample 715: Given question \"Where are all planets located?\" and answer: \"universe\", explain why\n",
      "Sample 716: Given question \"He lit another candle in the Menorah, everybody at the what watched?\" and answer: \"synagogue\", explain why\n",
      "Sample 717: Given question \"What is water rapids that are choppy considered?\" and answer: \"dangerous\", explain why\n",
      "Sample 718: Given question \"What would a person do if he or she wants to buy something at a store?\" and answer: \"wait in line\", explain why\n",
      "Sample 719: Given question \"After four long years he would no longer be a student, what had he been able to do?\" and answer: \"finish college\", explain why\n",
      "Sample 720: Given question \"Where can you find a place to eat and places to buy items of many different kinds?\" and answer: \"shopping center\", explain why\n",
      "Sample 721: Given question \"In the city the family didn't have a back yard, but now they did since they lived in a what?\" and answer: \"suburb\", explain why\n",
      "Sample 722: Given question \"A human is hitch hiking near Hoboken, where is he?\" and answer: \"new jersey\", explain why\n",
      "Sample 723: Given question \"How can a company get things to their customers?\" and answer: \"ship goods\", explain why\n",
      "Sample 724: Given question \"If you playing baseball and you miss a swing it is called what?\" and answer: \"strikes\", explain why\n",
      "Sample 725: Given question \"Where can you get gasoline?\" and answer: \"gas station\", explain why\n",
      "Sample 726: Given question \"John needed his watched fixed. Where might he take it?\" and answer: \"jewellers\", explain why\n",
      "Sample 727: Given question \"What places would have a cemetery?\" and answer: \"most cities\", explain why\n",
      "Sample 728: Given question \"If someone is a mechanic, what are likely issues they will be asked to fix?\" and answer: \"oil engine\", explain why\n",
      "Sample 729: Given question \"What can be the feeling of someone  giving assistance?\" and answer: \"feeling good\", explain why\n",
      "Sample 730: Given question \"Where might a human sit for extended periods over a bowl of water?\" and answer: \"bathroom\", explain why\n",
      "Sample 731: Given question \"When a newborn's eyes open for the first time it will be the first time the ever?\" and answer: \"see light\", explain why\n",
      "Sample 732: Given question \"What gift do people claim that god has for people?\" and answer: \"work miracles\", explain why\n",
      "Sample 733: Given question \"If a person has stage fright and is about to go on stage what will they experience?\" and answer: \"anxiety\", explain why\n",
      "Sample 734: Given question \"What happens to living beings when they are nervous?\" and answer: \"perspiration\", explain why\n",
      "Sample 735: Given question \"It was a stunning sight to the explorer, the garden oasis in the middle of the what was the most beautiful thing he had seen?\" and answer: \"desert\", explain why\n",
      "Sample 736: Given question \"A projectile ball is in what after being launched?\" and answer: \"motion\", explain why\n",
      "Sample 737: Given question \"When darkness came, what was she prompted to go to?\" and answer: \"bed\", explain why\n",
      "Sample 738: Given question \"The food was packaged for sale, where was it bound?\" and answer: \"shop\", explain why\n",
      "Sample 739: Given question \"where do some monkeys tend to live taht is hot?\" and answer: \"tropical areas\", explain why\n",
      "Sample 740: Given question \"The dog ran to the front window and barked, this is because of a presence at the what?\" and answer: \"front door\", explain why\n",
      "Sample 741: Given question \"Jane was beautiful on the inside, but on the outside she wasn't much to look at.  How might she be described?\" and answer: \"homely\", explain why\n",
      "Sample 742: Given question \"The scientists thought it was an impossibility, but with new evidence there was a chance it was a what?\" and answer: \"possibility\", explain why\n",
      "Sample 743: Given question \"What could you put a table in if you want the table to be in your house?\" and answer: \"corner\", explain why\n",
      "Sample 744: Given question \"Jon put drops in his eyes so that they wouldn't do what?\" and answer: \"dry out\", explain why\n",
      "Sample 745: Given question \"If you cut when waiting at the ticket office, what should your punishment be?\" and answer: \"end of line\", explain why\n",
      "Sample 746: Given question \"What can't viruses do without infecting a host cell?\" and answer: \"reproduce\", explain why\n",
      "Sample 747: Given question \"Susan climbed the slops.  It was very difficult.  She wished that she was on what?\" and answer: \"flat ground\", explain why\n",
      "Sample 748: Given question \"Where would you find a sign with some people lined up next to it?\" and answer: \"bus stop\", explain why\n",
      "Sample 749: Given question \"Where can you watch a performance like a symphony?\" and answer: \"concert hall\", explain why\n",
      "Sample 750: Given question \"Where is a snake likely to startle a farmer?\" and answer: \"feild\", explain why\n",
      "Sample 751: Given question \"Where might  jellyfish stay warm?\" and answer: \"pacific ocean\", explain why\n",
      "Sample 752: Given question \"what is the cartridge of a bullet called?\" and answer: \"casing\", explain why\n",
      "Sample 753: Given question \"What might not returning to work cause?\" and answer: \"stress\", explain why\n",
      "Sample 754: Given question \"Where do people typically store a drill?\" and answer: \"garage\", explain why\n",
      "Sample 755: Given question \"What is moving cars without looking likely to result in?\" and answer: \"accidents\", explain why\n",
      "Sample 756: Given question \"Her first job was when she used to wait tables, she reminisced about the simple task of having to what?\" and answer: \"serve food\", explain why\n",
      "Sample 757: Given question \"Why might some graduates choose not to be attending school later in life?\" and answer: \"much work\", explain why\n",
      "Sample 758: Given question \"The teacher encouraged note taking because everything was important, but it turned out the information that day was what for the upcoming quiz?\" and answer: \"useless\", explain why\n",
      "Sample 759: Given question \"Where do you hang notes in the kitchen?\" and answer: \"fridge\", explain why\n",
      "Sample 760: Given question \"What will a friend do for you?\" and answer: \"keep secret\", explain why\n",
      "Sample 761: Given question \"Shopping all day is likely to lead to?\" and answer: \"tiredness\", explain why\n",
      "Sample 762: Given question \"What state north of alabama has many a beaver?\" and answer: \"kentucky\", explain why\n",
      "Sample 763: Given question \"Laura likes blue anemones, and John wants to give her something special for her birthday.  Where might John go to get an anemone for Laura?\" and answer: \"flower shop\", explain why\n",
      "Sample 764: Given question \"She asked to swallow semen, he shrugged and replied it was fine if that's what?\" and answer: \"you're into\", explain why\n",
      "Sample 765: Given question \"The delivery man was delivering a whole crate of shampoo, they went through a lot of it at the what?\" and answer: \"hair salon\", explain why\n",
      "Sample 766: Given question \"As the fox ran into the forest it disappeared into the what?\" and answer: \"undergrowth\", explain why\n",
      "Sample 767: Given question \"What type of people get books written about them?\" and answer: \"important\", explain why\n",
      "Sample 768: Given question \"Bar service is a very important part of what kind of celebration?\" and answer: \"wedding\", explain why\n",
      "Sample 769: Given question \"A single grain of sand can cause what to make a precious stone?\" and answer: \"clam\", explain why\n",
      "Sample 770: Given question \"Where do people go to shop for fruit?\" and answer: \"go to market\", explain why\n",
      "Sample 771: Given question \"Sometimes people seem like robots, but really we're all just what?\" and answer: \"human\", explain why\n",
      "Sample 772: Given question \"What is something bad unlikely to be to anyone?\" and answer: \"advantageous\", explain why\n",
      "Sample 773: Given question \"The prisoner would often escape but he was also just as often what?\" and answer: \"being caught\", explain why\n",
      "Sample 774: Given question \"Bobby had a toothache so he went to the closet dentist office, which was in a strange place.  Where might it be?\" and answer: \"office building\", explain why\n",
      "Sample 775: Given question \"If a person wants to make sure their lemonade is the most refreshing, where might they store it?\" and answer: \"refrigerator\", explain why\n",
      "Sample 776: Given question \"Upon discovering the remains of the lost city, what did archaeologists try to preserve?\" and answer: \"ruin\", explain why\n",
      "Sample 777: Given question \"The judge found him guilty of committing perjury, this brought the man great what?\" and answer: \"shame\", explain why\n",
      "Sample 778: Given question \"Sally thought that the people she hired were entertaining, but that was what she expected.  After all, it was what they were what?\" and answer: \"getting paid for\", explain why\n",
      "Sample 779: Given question \"If something is obtuse, what couldn't it be?\" and answer: \"acute angled\", explain why\n",
      "Sample 780: Given question \"The crass men were talking about what they called a broad, one said he thought she was too what?\" and answer: \"skinny\", explain why\n",
      "Sample 781: Given question \"A town between two mountains is located in a what?\" and answer: \"valley\", explain why\n",
      "Sample 782: Given question \"Where would there be an auditorium with only a single person speaking?\" and answer: \"university campus\", explain why\n",
      "Sample 783: Given question \"When you stroke a dogs fur what have you done?\" and answer: \"petted\", explain why\n",
      "Sample 784: Given question \"What does everyone have in relation to other people?\" and answer: \"feelings\", explain why\n",
      "Sample 785: Given question \"Spraining an ankle while playing baseball will cause what?\" and answer: \"pain\", explain why\n",
      "Sample 786: Given question \"A farmer sees a weasel in the woods, where is the farmer?\" and answer: \"great outdoors\", explain why\n",
      "Sample 787: Given question \"The hardcovers were especially tall, so he removed a shelf on the what to make room?\" and answer: \"bookcase\", explain why\n",
      "Sample 788: Given question \"What happens at soon as a living being is born?\" and answer: \"growing older\", explain why\n",
      "Sample 789: Given question \"He picked up the perfect pebble, he planned to skip it across the entire small what?\" and answer: \"pond\", explain why\n",
      "Sample 790: Given question \"Jane works for the government as a senator, where does she spend a lot of time?\" and answer: \"capitol building\", explain why\n",
      "Sample 791: Given question \"If I did not have a rosebush, where would I get one?\" and answer: \"garden center\", explain why\n",
      "Sample 792: Given question \"How many hours are in a day?\" and answer: \"twenty four\", explain why\n",
      "Sample 793: Given question \"A statue that shoots liquid is called a what?\" and answer: \"water fountain\", explain why\n",
      "Sample 794: Given question \"What part of plants is pretty?\" and answer: \"flowers on\", explain why\n",
      "Sample 795: Given question \"Why do people play chess on the weekends?\" and answer: \"have fun\", explain why\n",
      "Sample 796: Given question \"Before racers start to run they must do what at the starting line?\" and answer: \"stand still\", explain why\n",
      "Sample 797: Given question \"Where can books be read?\" and answer: \"table\", explain why\n",
      "Sample 798: Given question \"When you fail to finish something, you failed at doing what to it\" and answer: \"completing\", explain why\n",
      "Sample 799: Given question \"What is a wet person likely to do?\" and answer: \"catch cold\", explain why\n",
      "Sample 800: Given question \"The man got a pail to catch the draining motor oil, where was he likely doing this at home?\" and answer: \"garage\", explain why\n",
      "Sample 801: Given question \"A computer user working on an important work assignment is located in what structure?\" and answer: \"office building\", explain why\n",
      "Sample 802: Given question \"Steve thought that it was possible, but he agreed that it was what?\" and answer: \"unlikely\", explain why\n",
      "Sample 803: Given question \"The music was festive but why are the horses dancing in circles\" and answer: \"carnival\", explain why\n",
      "Sample 804: Given question \"What is the purpose of playing games for children?\" and answer: \"learning\", explain why\n",
      "Sample 805: Given question \"He was beginning to worry they wouldn't get on the ride before closing, they had been standing in queue for a long what?\" and answer: \"time\", explain why\n",
      "Sample 806: Given question \"What southern U.S. state is know for having many swamps?\" and answer: \"louisiana\", explain why\n",
      "Sample 807: Given question \"What has someone who had finished their undergraduate done?\" and answer: \"graduated\", explain why\n",
      "Sample 808: Given question \"When an elderly person needs help performing daily tasks, who might they call?\" and answer: \"caregiver\", explain why\n",
      "Sample 809: Given question \"If a person were going to bed, what would be their goal?\" and answer: \"falling asleep\", explain why\n",
      "Sample 810: Given question \"Paul wants carrots and doesn't need to drive anywhere. He gets them from where?\" and answer: \"refrigerator\", explain why\n",
      "Sample 811: Given question \"How could you have fun by yourself with no one around you?\" and answer: \"watching television\", explain why\n",
      "Sample 812: Given question \"Where would you find gazelle under a G?\" and answer: \"encyclopedia\", explain why\n",
      "Sample 813: Given question \"If you turn off the music in a room with no other noise that room would be what?\" and answer: \"silent\", explain why\n",
      "Sample 814: Given question \"Where would you put pans if you want to bring them with you?\" and answer: \"backpack\", explain why\n",
      "Sample 815: Given question \"At a grocery store they sell individual potatoes, where does the grocery clerk likely put the potato?\" and answer: \"paper bag\", explain why\n",
      "Sample 816: Given question \"James wanted to find an old underground map from the 50s.  Where might he look for one?\" and answer: \"library\", explain why\n",
      "Sample 817: Given question \"What type of fruit is easily broken in to sections?\" and answer: \"citrus\", explain why\n",
      "Sample 818: Given question \"Unlike a spider and his many sight seers, people only have what?\" and answer: \"two eyes\", explain why\n",
      "Sample 819: Given question \"Where would using a boat not require navigation skills?\" and answer: \"river\", explain why\n",
      "Sample 820: Given question \"If you're celebrating with too many cocktails what may you have in the morning?\" and answer: \"hang over\", explain why\n",
      "Sample 821: Given question \"What would you put meat on top of to cook it?\" and answer: \"frying pan\", explain why\n",
      "Sample 822: Given question \"If you want to learn about the world and understand the real reasons behind cultural norms and mores, you have achieved a sense of what?\" and answer: \"enlightenment\", explain why\n",
      "Sample 823: Given question \"What must a student in engineering do?\" and answer: \"do mathematics\", explain why\n",
      "Sample 824: Given question \"What do you need to do to use television if it is already turned on?\" and answer: \"open eyes\", explain why\n",
      "Sample 825: Given question \"Where is a drug kept in a home bathroom?\" and answer: \"medicine cabinet\", explain why\n",
      "Sample 826: Given question \"What mall store sells jeans for a decent price?\" and answer: \"gap\", explain why\n",
      "Sample 827: Given question \"They needed grape juice for their party, they went to buy it and other snacks at the what?\" and answer: \"food store\", explain why\n",
      "Sample 828: Given question \"Where are horses judged on appearance?\" and answer: \"fair\", explain why\n",
      "Sample 829: Given question \"How is riding a bike getting it to move?\" and answer: \"pedalling\", explain why\n",
      "Sample 830: Given question \"Most people who are family like to greet each other with a what?\" and answer: \"hug\", explain why\n",
      "Sample 831: Given question \"If you jump in any of the oceans you will get?\" and answer: \"wet\", explain why\n",
      "Sample 832: Given question \"The pitcher felt stress and tension on the mound, what did he feel like?\" and answer: \"hell\", explain why\n",
      "Sample 833: Given question \"Where would you hear a violin along side many string and wind instruments?\" and answer: \"orchestra\", explain why\n",
      "Sample 834: Given question \"What would you do to a rock when climb up a cliff?\" and answer: \"grab\", explain why\n",
      "Sample 835: Given question \"To what do trees roots cling?\" and answer: \"surface of earth\", explain why\n",
      "Sample 836: Given question \"The dad wanted to protect his house, where did he put his gun?\" and answer: \"drawer\", explain why\n",
      "Sample 837: Given question \"Where can a bath towel be borrowed?\" and answer: \"at hotel\", explain why\n",
      "Sample 838: Given question \"What happens to a dog before someone puts up posters of them?\" and answer: \"get lost\", explain why\n",
      "Sample 839: Given question \"What western state has thousands of miles of shore?\" and answer: \"california\", explain why\n",
      "Sample 840: Given question \"What is a salesman responsible to do at work?\" and answer: \"sell products\", explain why\n",
      "Sample 841: Given question \"People do many things to alleviate boredom.  If you can't get out of the house you might decide to do what?\" and answer: \"listen to music\", explain why\n",
      "Sample 842: Given question \"Sally was bored because she didn't like the junk that was on what?\" and answer: \"television\", explain why\n",
      "Sample 843: Given question \"Immediately after peeing, a person's bladder is what?\" and answer: \"empty\", explain why\n",
      "Sample 844: Given question \"Where is a monkey likely to enjoy being?\" and answer: \"banana tree\", explain why\n",
      "Sample 845: Given question \"Where would you find a fox that is made up?\" and answer: \"storybook\", explain why\n",
      "Sample 846: Given question \"If while driving to work another car makes a careless maneuver, what emotion might you feel?\" and answer: \"road rage\", explain why\n",
      "Sample 847: Given question \"Where would you expect to find white mice?\" and answer: \"laboratory\", explain why\n",
      "Sample 848: Given question \"What could go on top of wood?\" and answer: \"carpet\", explain why\n",
      "Sample 849: Given question \"The man had a fear of illness, so he never visited friends who were a what?\" and answer: \"sick person\", explain why\n",
      "Sample 850: Given question \"What is made up of people?\" and answer: \"audience\", explain why\n",
      "Sample 851: Given question \"Where can you buy jeans at one of may indoor merchants?\" and answer: \"shopping mall\", explain why\n",
      "Sample 852: Given question \"Animals come in all types, some fly thanks to their lightweight hollow what?\" and answer: \"bones\", explain why\n",
      "Sample 853: Given question \"If someone found out their brother was having a daughter, they would have to add a niece limb to the what?\" and answer: \"family tree\", explain why\n",
      "Sample 854: Given question \"The audience listened to the orchestra play, where were they watching the performance?\" and answer: \"concert hall\", explain why\n",
      "Sample 855: Given question \"Where are you if you've paid to get a pizza?\" and answer: \"restaurant\", explain why\n",
      "Sample 856: Given question \"Bill wanted to pick up a stranger, preferably a responsible one with kids.  Where might he look for one?\" and answer: \"park\", explain why\n",
      "Sample 857: Given question \"What are you waiting alongside with when you're in a reception area?\" and answer: \"people\", explain why\n",
      "Sample 858: Given question \"More people should lower the guard and just have fun, we don't got long just what?\" and answer: \"enjoy living\", explain why\n",
      "Sample 859: Given question \"what do you fill with ink to write?\" and answer: \"fountain pen\", explain why\n",
      "Sample 860: Given question \"If a court case is dismissed after hearing testimony, what would be a likely cause?\" and answer: \"change of heart\", explain why\n",
      "Sample 861: Given question \"What kind of cold storage could you find in your house?\" and answer: \"refrigerator\", explain why\n",
      "Sample 862: Given question \"What might you need to do cleaning?\" and answer: \"using water\", explain why\n",
      "Sample 863: Given question \"Where is a doormat likely to be in front of?\" and answer: \"front door\", explain why\n",
      "Sample 864: Given question \"Playing baseball is a lot like any other sport, there is always a risk of what?\" and answer: \"injury\", explain why\n",
      "Sample 865: Given question \"After working on the car, what did it end up doing?\" and answer: \"start running\", explain why\n",
      "Sample 866: Given question \"When are people buying products more?\" and answer: \"economic boom\", explain why\n",
      "Sample 867: Given question \"If there is a place that is hot and arid, what could it be?\" and answer: \"lifeless\", explain why\n",
      "Sample 868: Given question \"The piece of paper was worth a lot of money, it was an old Apple Inc what?\" and answer: \"stock certificate\", explain why\n",
      "Sample 869: Given question \"If I wanted to grow plants, where could I put a lot of dirt?\" and answer: \"garden\", explain why\n",
      "Sample 870: Given question \"He was very outgoing, for him making friends was no personal what?\" and answer: \"conflict\", explain why\n",
      "Sample 871: Given question \"Talking to the same person about the same thing over and over again is something someone can what?\" and answer: \"get tired of\", explain why\n",
      "Sample 872: Given question \"How does a planet usually move around the sun?\" and answer: \"orbit\", explain why\n",
      "Sample 873: Given question \"Sean was a wreck.  He  loved to build houses, but in his current state, he couldn't do what?\" and answer: \"construct\", explain why\n",
      "Sample 874: Given question \"What is a place that has a bench nestled in trees?\" and answer: \"state park\", explain why\n",
      "Sample 875: Given question \"What might someone believe in if they are cleaning clothes?\" and answer: \"sanitation\", explain why\n",
      "Sample 876: Given question \"Where would you get some wood if you do not have any?\" and answer: \"lumberyard\", explain why\n",
      "Sample 877: Given question \"Where would you sit in a chair while working toward an advanced degree?\" and answer: \"university\", explain why\n",
      "Sample 878: Given question \"What will happen if you inject water into yourself?\" and answer: \"thin blood\", explain why\n",
      "Sample 879: Given question \"Where can you find the meaning of \"ficus\"?\" and answer: \"dictionary\", explain why\n",
      "Sample 880: Given question \"If you are in a bar in a glove shaped state where are you?\" and answer: \"michigan\", explain why\n",
      "Sample 881: Given question \"I am cold, what should I do to stay warm?\" and answer: \"light fire\", explain why\n",
      "Sample 882: Given question \"When you do something and have fun, its something you?\" and answer: \"do enjoy\", explain why\n",
      "Sample 883: Given question \"Where would you store a pillow case that is not in use?\" and answer: \"drawer\", explain why\n",
      "Sample 884: Given question \"I want to see a prepared slide up close, what would I use to help?\" and answer: \"microscope\", explain why\n",
      "Sample 885: Given question \"The fresh herbs, flowers, and vegetables will shrivel up if people don't do this?\" and answer: \"water plants\", explain why\n",
      "Sample 886: Given question \"Where would you find the sharpest parts of a triangle?\" and answer: \"three vertices\", explain why\n",
      "Sample 887: Given question \"What is the best way to begin going into trance?\" and answer: \"closed eyes\", explain why\n",
      "Sample 888: Given question \"Where is a salt shaker most often kept?\" and answer: \"table setting\", explain why\n",
      "Sample 889: Given question \"Sage loved communicating  He liked doing what with his peers?\" and answer: \"exchanging ideas\", explain why\n",
      "Sample 890: Given question \"To get clean clothes you to what to them?\" and answer: \"launder\", explain why\n",
      "Sample 891: Given question \"If you are hungry and going fishing, why would you be going fishing?\" and answer: \"catching fish\", explain why\n",
      "Sample 892: Given question \"Sailors drive many different types of boats, what type of boat involves their namesake.\" and answer: \"sail boat\", explain why\n",
      "Sample 893: Given question \"Where is one likely to find poker chips?\" and answer: \"bar\", explain why\n",
      "Sample 894: Given question \"Friday was James's 5th Anniversary.  They planned on going to bed early so that they could spend a long time doing what?\" and answer: \"making love\", explain why\n",
      "Sample 895: Given question \"The old style pop ups literally let you see the story when you did what?\" and answer: \"open book\", explain why\n",
      "Sample 896: Given question \"The teacher doesn't tolerate noise during a test in their what?\" and answer: \"classroom\", explain why\n",
      "Sample 897: Given question \"What do people do when networking?\" and answer: \"build trust\", explain why\n",
      "Sample 898: Given question \"The pioneer went to the general store for storage measures, what was he looking for?\" and answer: \"barrels\", explain why\n",
      "Sample 899: Given question \"A car was hailed to chauffeur someone to the opera house, where was it heading?\" and answer: \"go downtown\", explain why\n",
      "Sample 900: Given question \"If somebody buys something and gives it to me as a free gift, what is the cost status of the gift?\" and answer: \"paid for\", explain why\n",
      "Sample 901: Given question \"Animals who have hair and don't lay eggs are what?\" and answer: \"mammals\", explain why\n",
      "Sample 902: Given question \"Where would you find a monkey in the wild?\" and answer: \"thailand\", explain why\n",
      "Sample 903: Given question \"What do professors primarily do?\" and answer: \"teach courses\", explain why\n",
      "Sample 904: Given question \"What does someone stop doing when being dead?\" and answer: \"breathing\", explain why\n",
      "Sample 905: Given question \"If I'm playing ball, I'm mostly trying to do what?\" and answer: \"having fun\", explain why\n",
      "Sample 906: Given question \"Why are dogs often known as man's best friend?\" and answer: \"very loyal\", explain why\n",
      "Sample 907: Given question \"If someone laughs after surprising them they have a good sense of what?\" and answer: \"humor\", explain why\n",
      "Sample 908: Given question \"Where does a maid empty a trash can?\" and answer: \"motel\", explain why\n",
      "Sample 909: Given question \"Alabama is full of different people, but they are all citizens of what?\" and answer: \"united states\", explain why\n",
      "Sample 910: Given question \"If you wanted a license to catch crabs, what government office would you go to?\" and answer: \"fish department\", explain why\n",
      "Sample 911: Given question \"Where do you store a large container?\" and answer: \"cabinet\", explain why\n",
      "Sample 912: Given question \"John loved to paint houses.  How did he usually do it?\" and answer: \"with brush\", explain why\n",
      "Sample 913: Given question \"He picked up his pace to a run, he wanted to do what?\" and answer: \"go faster\", explain why\n",
      "Sample 914: Given question \"What would be happening if you are pretending to be a police officer?\" and answer: \"deception\", explain why\n",
      "Sample 915: Given question \"Where would you put a container can after you buy it?\" and answer: \"garage\", explain why\n",
      "Sample 916: Given question \"The person signed up for home insurance, what is he seeking?\" and answer: \"financial security\", explain why\n",
      "Sample 917: Given question \"What is a place that is far away from your house and where you could consume beer?\" and answer: \"friend's house\", explain why\n",
      "Sample 918: Given question \"What is the primary purpose of cars?\" and answer: \"move people\", explain why\n",
      "Sample 919: Given question \"The man started to learn jogging, what was he hoping to do?\" and answer: \"getting in shape\", explain why\n",
      "Sample 920: Given question \"The poor girls needed a light to see, what was the relationship between that light and finishing her homework?\" and answer: \"crucial\", explain why\n",
      "Sample 921: Given question \"Where will a cheap book be found?\" and answer: \"discount store\", explain why\n",
      "Sample 922: Given question \"What kind of service is my body a part of when I'm no longer here?\" and answer: \"funeral\", explain why\n",
      "Sample 923: Given question \"Why would you not trust your friends after chatting with friends?\" and answer: \"lie\", explain why\n",
      "Sample 924: Given question \"In what kind of environment does an anemone live?\" and answer: \"sea water\", explain why\n",
      "Sample 925: Given question \"Christine couldn't be having a baby at her age, she thought to herself. What was Christine?\" and answer: \"old person\", explain why\n",
      "Sample 926: Given question \"Sally was standing in queue.  The line was very, very slow.  What was she feeling?\" and answer: \"frustration\", explain why\n",
      "Sample 927: Given question \"what does a person do to stay healthy?\" and answer: \"eat every day\", explain why\n",
      "Sample 928: Given question \"Where is a great place to buy fresh fruit?\" and answer: \"market\", explain why\n",
      "Sample 929: Given question \"Where is one likely to find a brownstone?\" and answer: \"new york city\", explain why\n",
      "Sample 930: Given question \"He had to wear a tuxedo while playing the keyboard instrument, so did the other hundred members of the what?\" and answer: \"orchestra\", explain why\n",
      "Sample 931: Given question \"What city will likely have many parking structures?\" and answer: \"chicago\", explain why\n",
      "Sample 932: Given question \"The low trickle of water revealed a stone, where was the stone found?\" and answer: \"creek bed\", explain why\n",
      "Sample 933: Given question \"What does \tdrinking alcohol lead to?\" and answer: \"intoxication\", explain why\n",
      "Sample 934: Given question \"The man laid on the soft moss and looked up at the trees, where was the man?\" and answer: \"forest\", explain why\n",
      "Sample 935: Given question \"What island country is ferret popular?\" and answer: \"great britain\", explain why\n",
      "Sample 936: Given question \"Why does having a disability sometimes making academic tasks hard for a person?\" and answer: \"mentally challenged\", explain why\n",
      "Sample 937: Given question \"Where can you store you spare linens near your socks?\" and answer: \"dresser drawers\", explain why\n",
      "Sample 938: Given question \"He came from old money and had a fortune, but he made new money making shrewd trades where?\" and answer: \"stock market\", explain why\n",
      "Sample 939: Given question \"What is a treat that you dog will enjoy?\" and answer: \"bone\", explain why\n",
      "Sample 940: Given question \"Where would you find a large dining room containing a fancy chandelier?\" and answer: \"mansion\", explain why\n",
      "Sample 941: Given question \"What is a possible outcome for committing murder?\" and answer: \"imprisonment\", explain why\n",
      "Sample 942: Given question \"There was a toll road that meandered from Maine to New Hampshire, where was it?\" and answer: \"new england\", explain why\n",
      "Sample 943: Given question \"What is likely to be found in a book that is not a foreword?\" and answer: \"epilogue\", explain why\n",
      "Sample 944: Given question \"Where is the closest place from where you could borrow salt?\" and answer: \"neighbor's house\", explain why\n",
      "Sample 945: Given question \"What is the main purpose of having a bath?\" and answer: \"cleanness\", explain why\n",
      "Sample 946: Given question \"A loud machine is irritating, but many are expected where?\" and answer: \"industrial area\", explain why\n",
      "Sample 947: Given question \"Which large land mass is home to the most monkeys?\" and answer: \"african continent\", explain why\n",
      "Sample 948: Given question \"Where would a person be doing when having to wait their turn?\" and answer: \"stand in line\", explain why\n",
      "Sample 949: Given question \"The fact that Joe was able to memorize the list in spite of his apparent  state proved that part of his brain was what?\" and answer: \"awake\", explain why\n",
      "Sample 950: Given question \"What can happen if you are buying products that someone else does not want you to buy?\" and answer: \"disagreements\", explain why\n",
      "Sample 951: Given question \"The hostess was good at her job, she always had a smile when she would what?\" and answer: \"welcome guests\", explain why\n",
      "Sample 952: Given question \"All the power tools like the drill used for fixing cars made for a very loud workplace where?\" and answer: \"repair shop\", explain why\n",
      "Sample 953: Given question \"When you wipe you feet on the door mat and walk through the door where do you enter?\" and answer: \"living room\", explain why\n",
      "Sample 954: Given question \"Tweed is a rare fabric in modern clothing, what brand should I look for when buying it?\" and answer: \"eddie bauer\", explain why\n",
      "Sample 955: Given question \"What do you do when you're in a new place and want to see new things?\" and answer: \"look around\", explain why\n",
      "Sample 956: Given question \"Where is a good place to have a fireplace in a house?\" and answer: \"living room\", explain why\n",
      "Sample 957: Given question \"There was many a bottle to choose from behind the cashier where?\" and answer: \"liquor store\", explain why\n",
      "Sample 958: Given question \"How can someone die from eating hamburger?\" and answer: \"mad cow disease\", explain why\n",
      "Sample 959: Given question \"He had no issue committing perjury, he had a what that he would get away with it?\" and answer: \"confidence\", explain why\n",
      "Sample 960: Given question \"Billy was reading the newspaper as he commuted to work, but once he got to his destination he balled it up and put it somewhere. Where did it put it?\" and answer: \"trash\", explain why\n",
      "Sample 961: Given question \"After he got hired he hoped for success at his what?\" and answer: \"new job\", explain why\n",
      "Sample 962: Given question \"What language type is someone from Iran likely to use?\" and answer: \"dard\", explain why\n",
      "Sample 963: Given question \"Sally thought that competing wasn't worth the risk. If she pushed more what might happen?\" and answer: \"death\", explain why\n",
      "Sample 964: Given question \"The man was going fishing instead of work, what is he seeking?\" and answer: \"relaxation\", explain why\n",
      "Sample 965: Given question \"Batman bought beer.  There were no bottles available.  He had to settle for what?.\" and answer: \"can\", explain why\n",
      "Sample 966: Given question \"In order to learn to program from another person you can do what?\" and answer: \"take class\", explain why\n",
      "Sample 967: Given question \"What would you need if you want to smoke?\" and answer: \"cigarette\", explain why\n",
      "Sample 968: Given question \"Where is a likely place to store unused soap?\" and answer: \"cabinet\", explain why\n",
      "Sample 969: Given question \"The child wasn't allowed in the kitchen but still wanted to help, what could it do to help in the dining room?\" and answer: \"set table\", explain why\n",
      "Sample 970: Given question \"The vet found malignant tumors on the animals, what is their likely fate?\" and answer: \"die of cancer\", explain why\n",
      "Sample 971: Given question \"The victim was to take stand today, they were going to do what?\" and answer: \"testify\", explain why\n",
      "Sample 972: Given question \"He wanted lodging in the actual what, so that he was already where he needed to be?\" and answer: \"resort area\", explain why\n",
      "Sample 973: Given question \"Why is it hard for a young child to read a long book?\" and answer: \"many words\", explain why\n",
      "Sample 974: Given question \"He needed more information to fix it, so he consulted the what?\" and answer: \"manual\", explain why\n",
      "Sample 975: Given question \"The detective was finding information from witnesses, why would he do that?\" and answer: \"get answers\", explain why\n",
      "Sample 976: Given question \"What is the result of applying for  job?\" and answer: \"being employed\", explain why\n",
      "Sample 977: Given question \"When you slip from a ladder propped on anything what will you do?\" and answer: \"fall down\", explain why\n",
      "Sample 978: Given question \"James tore the antenna off of his boat due to bad reception as he was crossing the channel from France.  Where was he going?\" and answer: \"england\", explain why\n",
      "Sample 979: Given question \"If you want to kill someone you can do what to them with a gun?\" and answer: \"shoot\", explain why\n",
      "Sample 980: Given question \"James found the sound relaxing.   It was so relaxing he almost did what despite his efforts?\" and answer: \"fall asleep\", explain why\n",
      "Sample 981: Given question \"Where do you find the most amount of leafs?\" and answer: \"forrest\", explain why\n",
      "Sample 982: Given question \"When someone has little knowledge and is judging someone they are considered what?\" and answer: \"ignorance\", explain why\n",
      "Sample 983: Given question \"What is it called when two people in love have children?\" and answer: \"procreate\", explain why\n",
      "Sample 984: Given question \"What is main benefit to exercising?\" and answer: \"get in shape\", explain why\n",
      "Sample 985: Given question \"What can you use to store a book while traveling?\" and answer: \"suitcase\", explain why\n"
     ]
    }
   ],
   "source": [
    "for kk, da in enumerate(our_data_splits['dev']):\n",
    "    print(f\"Sample {kk}: Given question \\\"{da['question']}\\\" and answer: \\\"{da['answer']}\\\", explain why\")"
   ]
  },
  {
   "cell_type": "code",
   "execution_count": 20,
   "id": "6061b5a7",
   "metadata": {},
   "outputs": [],
   "source": [
    "chatGPT_rationales = [\n",
    "    \"A cup is a common vessel used for holding and drinking liquids, such as water, coffee, or tea. When you want to get yourself a drink, you might typically get a cup from a cabinet or other storage area in order to hold the drink. A cup is a convenient and practical choice for getting a drink because it is easy to hold and use, and it can hold a reasonable amount of liquid. There are many different types of cups available, including ceramic, glass, plastic, and metal cups, each with their own unique features and benefits. Whether you are at home, at work, or out in public, a cup is a handy item to have on hand when you need to quench your thirst.\",\n",
    "    \"A front yard is the lawn that is typically located in front of a house, near the street. The front yard is the part of the property that is visible from the street and is often used for decorative purposes, such as landscaping or gardening. Many people take pride in their front yards and may spend time and resources maintaining and improving them. The front yard is often the first thing that visitors see when they arrive at a house, and it can make a strong impression on them. In contrast, the back yard is typically located behind the house and is often used for more practical purposes, such as outdoor recreation or gardening.\",\n",
    "    \"A swimming pool is a recreational water feature that is typically used for swimming and other aquatic activities. While shallow water, such as that found in a kiddie pool or a shallow end of a pool, can be enjoyable for some people, it may not be sufficient for many summer activities. A swimming pool that is deep enough for diving and other activities is more likely to provide more opportunities for summer fun. In addition, a swimming pool that is clean and chlorinated is more likely to be safe and enjoyable for swimming, as it will be free of contaminants and bacteria that can cause illness.\",\n",
    "    \"In most places, it is illegal for people under the age of 21 to purchase or consume alcohol. This is because alcohol can have negative effects on the developing brain and body of young people. It can also contribute to risky behaviors and accidents. Therefore, many governments have set a minimum age for alcohol consumption and purchase to help protect the health and safety of young people. If someone is under the age of 21 and attempts to purchase alcohol, they may be denied the sale or face legal consequences. It is important for young people to understand and adhere to the laws and regulations regarding the purchase and consumption of alcohol in their area.\",\n",
    "    \"When someone shaves, they typically use a razor to remove hair from their face or body. The process of shaving can leave a lot of hair in the sink, as the hair is trimmed off and falls into the sink as it is being shaved. It is common for people to shave in the bathroom, where a sink is typically located. The sink provides a convenient place to rinse the razor and wash off any excess hair or shaving cream. It is important to clean the sink after shaving to remove any hair and prevent clogs in the drain.\",\n",
    "    \"A hamburger is a type of sandwich that consists of a cooked patty of ground meat, typically beef, placed between two slices of bread or a bun. Hamburgers are often served with various toppings, such as lettuce, tomato, onion, cheese, and condiments like ketchup and mustard. However, if someone is suffering from great hunger, they may not care about the toppings and just want to eat the hamburger itself. In this case, the person may be more focused on satisfying their hunger and getting nourishment rather than worrying about additional ingredients or flavors.\",\n",
    "    \"If a person notices popcorn and cotton candy on the grass, they are likely at fairgrounds. Fairgrounds are outdoor areas that are used for hosting fairs and other events, such as carnivals, festivals, and exhibitions. These events often feature food stalls and vendors that sell a variety of treats, including popcorn and cotton candy. Popcorn and cotton candy are both popular carnival foods that are often sold at fairs and other events. The presence of these foods on the ground at fairgrounds suggests that a fair or similar event is taking place there.\",\n",
    "    \"When snow on a mountain becomes heavy, it can trigger an avalanche. An avalanche is a rapid flow of snow down a slope, often triggered by the weight of the snow or external factors such as a change in temperature. Avalanches can be dangerous and destructive, as they can bury and sweep away anything in their path, including people, buildings, and vehicles. Avalanches can occur on any slope with a steep enough incline and a sufficient amount of snow. They are most common on mountains, but they can also occur in other snowy areas, such as forests or valleys. It is important for people to be aware of the risk of avalanches and to take precautions when traveling in areas prone to avalanches.\",\n",
    "    \"A police officer typically reports their work through the use of case reports or incident reports. These reports are written documents that detail the events of a specific case or incident that the officer has worked on. Case reports or incident reports typically include information such as the date and time of the incident, the location, the people involved, and the actions taken by the officer. They may also include witness statements, evidence collected, and any other relevant details. Case reports or incident reports are used by police officers to document their work and provide a record of the incidents they have dealt with. They are also used by supervisors and other authorities to review and evaluate the performance of the officer and the effectiveness of their actions.\",\n",
    "    \"Teachers play many roles in the lives of their students, including mentor, counselor, and role model. However, they get the most out of their job by simply teaching children. Teaching children is the primary responsibility of a teacher, and it is what they are trained and paid to do. Teaching involves imparting knowledge, skills, and values to students, and helping them to develop the skills and habits they need to succeed in life. Teachers have the opportunity to make a positive impact on the lives of their students by providing them with a strong foundation in academic subjects and helping them to become curious, engaged learners. Teachers often derive a great deal of satisfaction from helping their students to achieve their potential and succeed in their studies.\",\n",
    "    \"A person might go to get counseling for a variety of reasons. One reason is to better understand themselves. Counseling can provide a safe and supportive environment for individuals to explore their thoughts, feelings, and behaviors, and to gain insight into why they act and feel the way they do. Counseling can also help a person to identify and work through any underlying issues or challenges that may be causing them distress or hindering their personal growth. Through counseling, a person can learn more about themselves and how to navigate their emotions and relationships more effectively. Counseling can be particularly helpful for individuals who are struggling with mental health issues, relationship problems, or other personal challenges.\",\n",
    "    \"If the kids wanted to cool off, they might go swimming as a way to refresh and beat the heat. Swimming is a fun and enjoyable activity that can provide relief from hot weather and help to cool the body. Swimming can also provide a great workout and has numerous health benefits, such as improving cardiovascular fitness and flexibility. There are many different places where kids can go swimming, such as pools, lakes, rivers, or the ocean. No matter where they go, kids can have fun and cool off while enjoying the water.\",\n",
    "    \"When remembering a tragedy in the past, many people may feel depressed. Depression is a common emotional reaction to experiencing a traumatic or stressful event, such as a tragedy. Depression is a mental health disorder characterized by persistent feelings of sadness, hopelessness, and low energy. It can also cause physical symptoms such as changes in appetite and sleep patterns, fatigue, and difficulty concentrating. Remembering a tragedy can be emotionally difficult and may trigger feelings of sadness, grief, and guilt. It is important for people who are struggling with depression to seek support and treatment to help manage their symptoms and improve their mental health.\",\n",
    "    \"Death Valley is a national park located in the Mojave Desert, in the state of California, United States. It is situated on the North American continent. The North American continent is one of the seven continents of the world and is located in the western hemisphere. It is the third largest continent in terms of land area, after Asia and Africa, and is home to a diverse range of cultures, languages, and environments. Death Valley is known for its extreme desert climate and is the lowest, hottest, and driest place in North America. It is a popular destination for tourists, who come to see its unique geological features, such as sand dunes, salt flats, and canyons.\",\n",
    "    \"When in a serious relationship, understanding better requires effort. Relationships require effort and work to maintain and grow. In order to understand your partner better, you need to be willing to put in the time and effort to communicate with them, listen to their perspectives, and try to see things from their point of view. This may involve asking questions, expressing your own feelings and needs, and being open to feedback and compromise. Understanding your partner better can help to strengthen the bond between you and improve the quality of your relationship. It is important to remember that relationships are dynamic and evolving, and that ongoing communication and effort are necessary to maintain a healthy and fulfilling relationship.\",\n",
    "    \"Cats are able to make a variety of vocalizations, including meows, purrs, and growls, as a way of communicating with humans and other animals. Cats use these vocalizations to convey a range of emotions and needs, such as hunger, happiness, or discomfort. Meowing is a common vocalization that cats use to communicate with humans. Cats may meow when they want attention, food, or to be let outside. Cats may also meow when they are feeling anxious or stressed. Although cats cannot talk in the same way that humans do, they are skilled at using their voices to communicate with their owners and other animals.\",\n",
    "    \"If you need a vessel that is similar to a battleship but faster, you might consider using a corvette. A corvette is a small, fast warship that is typically used for convoy escort, patrol, and other shallow water duties. Corvettes are generally smaller and less heavily armed than battleships, but they are more agile and have a higher speed. They are typically equipped with a variety of weapons, including guns, missiles, and torpedoes, and are used for defending against enemy ships and aircraft. Corvettes are often used for coastal defense, as well as for patrolling and enforcing maritime laws. They are capable of operating in a variety of environments, including open ocean and littoral (nearshore) waters.\",\n",
    "    \"Water in the sky comes from rain clouds. Rain clouds are clouds that form when moist air rises and cools, forming tiny water droplets that condense around particles in the air. As the droplets grow, they eventually become heavy enough to fall from the cloud as rain. Rain clouds are typically gray or white in color and are often accompanied by other types of clouds, such as cumulus or stratocumulus clouds. Rain clouds can form in a variety of ways, such as when warm, moist air from the ground rises and cools, or when moist air from the ocean is carried inland by the wind. Rain clouds can be found in many parts of the world and are a common source of precipitation, especially during the warmer months.\",\n",
    "    \"If John rented a hotel room while on a business trip and it was a company-sponsored event, it is possible that the hotel was a resort. Resorts are hotels or vacation properties that offer a variety of amenities and activities for guests, such as swimming pools, golf courses, spas, and restaurants. They are often located in scenic or recreational areas and are designed to provide a relaxing and enjoyable experience for guests. Many resorts offer conference and meeting facilities and are popular destinations for business events and retreats. If John's company sponsored the business trip and provided the hotel accommodations, it is likely that they chose a resort with the amenities and facilities needed to support the event.\",\n",
    "    \"An expressway might leave the United States and go to Canada. The United States and Canada are neighboring countries that share a border, and there are several expressways that cross the border between the two countries. Expressways are high-speed, limited-access roads that are designed for fast and efficient travel. They typically have multiple lanes and may include features such as grade separations, interchanges, and controlled access points. Expressways are used for long-distance travel and are often the main routes connecting major cities and regions. If an expressway leaves the United States, it is likely that it is heading towards Canada, which is located to the north of the United States.\",\n",
    "    \"If you were walking on a sidewalk near a small corner shop run by John, you would look for it on the street corner. A corner shop is a small retail store that is typically located at the intersection of two streets. It is often a convenience store or a neighborhood shop that sells a variety of goods, such as groceries, household items, and other supplies. Corner shops are often located in busy urban areas, where they are easily accessible to pedestrians and motorists. If you were walking on a sidewalk near a corner shop, you would look for it at the intersection of the street where you are walking and another street. The shop is likely to be located in a building on the corner, with windows and doors facing the street.\",\n",
    "    \"One way that a company can efficiently sell things to their customers is through mail order. Mail order is a method of selling goods or services by advertising them in a catalog or other publication and allowing customers to place orders by mail, telephone, or online. Mail order is a convenient and efficient way for companies to reach a wide customer base, as it allows them to sell products to customers who may not be located near their physical store or who may not have the time or inclination to shop in person. Mail order companies typically have a centralized warehouse or distribution center where orders are processed and shipped to customers. They may also offer options such as easy returns and exchanges, as well as customer service support to assist with any questions or issues that customers may have.\",\n",
    "    \"If he enjoyed the factory work and liked the idea that he did it for sale, it is likely that he enjoyed producing goods. Factory work typically involves the production of goods, such as products or materials, using machines, tools, and other equipment. Factory workers are responsible for operating and maintaining the equipment and ensuring that the goods being produced meet quality standards. The goods produced in a factory may be sold directly to consumers or to other businesses, and may be used for a variety of purposes, such as manufacturing, construction, or distribution. If a person enjoys factory work, they may find satisfaction in the idea that they are contributing to the production of goods that will be sold and used by others.\",\n",
    "    \"If returning to work was easy for Dan after his treatment and he was completely painless, it is likely that he had undergone some form of medical treatment or therapy to address a health issue or injury. Painless indicates that Dan was no longer experiencing pain or discomfort, which may have been a result of the treatment or therapy he received. It is not clear from the information provided what specific health issue or injury Dan was dealing with, or what treatment or therapy he received. However, it is possible that Dan was able to return to work more easily after his treatment because he was feeling better and was no longer experiencing any pain or discomfort.\",\n",
    "    \"If index cards were on display at the museum, it is likely that the museum was a library. Libraries are institutions that provide access to a wide range of resources, including books, periodicals, and other printed materials, as well as digital resources such as e-books, databases, and online research tools. Libraries often have exhibits and displays of various types of materials, including rare or unique items, and may have special collections or archives that are of particular interest to researchers or historians. Index cards are small, rectangular pieces of paper that are used for organizing information, such as names, dates, or research notes. They may be used in a variety of settings, including libraries, offices, and schools. If index cards were on display at the museum, it is possible that they were part of a historical exhibit or collection related to the history of libraries or research.\",\n",
    "    \"If she was a human in America who wanted to live well, it is likely that the given for her situation was the need for money. In general, money is an important factor in enabling people to live well and meet their basic needs and desires. Money allows people to purchase the goods and services that they need to sustain themselves and their families, such as food, clothing, housing, and healthcare. It also enables people to pursue their interests and hobbies, travel, and engage in various forms of leisure and entertainment. In America, and in many other countries around the world, the cost of living can be high, and people often need to earn and save money in order to achieve a desired standard of living. As such, the need for money is a given for many people in order to live well.\",\n",
    "    \"A place that could have one back garden is a house. A garden is a piece of land that is used for growing plants, flowers, vegetables, or other types of vegetation. Gardens can be found in a variety of settings, including residential properties, public parks, and commercial properties. A house is a building that is used as a dwelling for one or more people, and it typically includes living spaces, such as bedrooms, bathrooms, and a kitchen, as well as outdoor areas, such as a front yard, side yard, and back yard. A back yard is a private outdoor space that is typically located behind a house and is often used for recreational or leisure activities, such as gardening, grilling, or playing games. If a house has a back garden, it is likely that the garden is located in the back yard.\",\n",
    "    \"People gather at a football stadium to see large men in pads play a game where they run and smash into each other. Football is a popular sport that is played on a rectangular field by two teams of eleven players. The game involves running, passing, and tackling, and players wear pads and other protective gear to reduce the risk of injury. Football is a physical and intense sport, and players often collide with each other at high speeds. Football stadiums are large, open-air facilities that are designed to host football games and other sporting events. They typically have a grass or artificial turf field, seating for spectators, and a variety of amenities, such as concessions stands, restrooms, and VIP areas. Football stadiums are popular places for people to gather and watch football games, and they can be found in cities and towns throughout the world.\",\n",
    "    \"One place where someone can get a flute is a musical instrument store. A musical instrument store is a retail establishment that specializes in selling musical instruments and related accessories. They may carry a wide range of instruments, including brass instruments, woodwind instruments, string instruments, percussion instruments, and keyboards. Flutes are woodwind instruments that are played by blowing air into a narrow opening and producing sound by vibrating the lips against a metal or wooden reed. They are popular instruments that are used in a variety of musical styles, including classical, jazz, and folk music. If someone is looking to purchase a flute, they may be able to find a selection of flutes at a musical instrument store. In addition to flutes, musical instrument stores may also offer a variety of other instruments, as well as sheet music, instructional materials, and accessories such as cases, stands, and cleaning supplies.\",\n",
    "    \"It is not clear what someone who has a greed for energy would do. The word greed typically refers to an excessive or insatiable desire for wealth, power, or material possessions. It is not clear how this concept would relate to energy or how it might influence someone's actions. It is possible that someone who has a lot of energy or who is very active might have a high appetite for food and might seek out sources of fuel or nutrition to sustain their energy levels. In this case, they might buy food as a way to obtain the energy they need. However, it is not accurate to say that someone who has a greed for energy would necessarily do this. It is important to note that the concept of greed is generally considered to be negative, as it suggests an unhealthy or unsustainable desire for something.\",\n",
    "    \"A forklift is a type of industrial vehicle that is used for moving and lifting heavy loads, such as pallets, crates, and boxes. Forklifts are equipped with a hydraulic lift mechanism and a set of prongs or forks that can be used to lift and transport loads. They are commonly used in warehouses and other distribution centers to move and stack materials, such as boxes, onto shelves or other storage areas. If you were using a forklift to stack boxes onto shelves, it is likely that you were in a warehouse or a similar facility. Warehouses are large, commercial buildings that are used for storing and distributing goods. They often have high ceilings, wide aisles, and multiple levels, and they may be equipped with a variety of material handling equipment, such as forklifts, conveyor belts, and cranes, to facilitate the movement and storage of goods.\",\n",
    "    \"You are likely to receive mouthwash in a little paper cup at a dentist's office. Dentist's offices are healthcare facilities that are staffed by dentists and other dental professionals, and they are used for the diagnosis and treatment of dental problems and the maintenance of oral health. One common practice at a dentist's office is to rinse the mouth with mouthwash, which is a liquid that is used to freshen breath, kill bacteria, and reduce the risk of gum disease and other oral health issues. Mouthwash is typically used after brushing and flossing to help remove any remaining food particles or plaque from the mouth. It may be dispensed in a little paper cup, which can be used to rinse the mouth and then disposed of after use.\",\n",
    "    \"A doctor's office can help you with an illness. A doctor's office is a healthcare facility that is staffed by medical doctors and other healthcare professionals, and it is used for the diagnosis and treatment of medical conditions and the maintenance of overall health. If you are experiencing an illness, such as a cold, flu, or more serious health issue, you may visit a doctor's office to seek medical care and treatment. At a doctor's office, you may receive a physical examination, diagnostic tests, and other forms of medical treatment, depending on the nature of your illness and your specific needs. Doctors are trained to diagnose and treat a wide range of medical conditions, and they can provide you with the care and support you need to recover from your illness and get back to good health.\",\n",
    "    \"A bug looking for wildflowers and no human interruption might go to a meadow. A meadow is a grassland area that is characterized by its open, grassy landscape and the presence of wildflowers and other types of vegetation. Meadows can be found in a variety of settings, including rural areas, forests, and parkland, and they are often home to a variety of animal and plant species. Because meadows are relatively undisturbed by human activity, they can be a good place for a bug to find wildflowers and other types of plants without interference from humans. Meadows are often considered to be peaceful, serene places, and they may be attractive to a bug that is seeking a quiet, natural environment in which to explore and forage.\",\n",
    "    \"If a bride and groom are taking care of proposals, the likely ceremony is a marriage. A marriage is a formal union between two people that is recognized by law and typically involves a public ceremony and the exchange of vows. A marriage proposal is a request for someone to marry another person, and it is typically made by one partner to the other. The process of planning a marriage often involves taking care of a variety of details and arrangements, such as choosing a venue, selecting a date, inviting guests, and organizing the ceremony and reception. If a bride and groom are taking care of proposals, it is likely that they are in the process of planning their marriage and preparing for the wedding ceremony.\",\n",
    "    \"You could put some olives in a jar to prevent them from getting nearby food wet. A jar is a container that is typically made of glass or ceramic and has a wide mouth and a secure, tight-fitting lid. Jars are often used for storing food items, such as olives, pickles, jams, and other types of preserved or dried goods. Because they have a sealed lid, jars can help to keep food fresh and prevent it from coming into contact with air or other substances that might spoil or contaminate it. If you want to prevent olives from getting nearby food wet, you could put them in a jar and close the lid to create an airtight seal. This would help to keep the olives separate from other foods and prevent them from coming into contact with moisture or other liquids.\",\n",
    "    \"If the graveyard was zoned by the pastor, it is likely that it was located on church property. Church property refers to land or buildings that are owned by a church or religious organization. This may include the main church building, as well as other structures such as a rectory, school, or community center. Church property may also include a graveyard or cemetery, which is a place where people are buried after they die. Pastors, who are ordained leaders in a church, often play a central role in the management and oversight of church property, and they may be responsible for zoning or designating areas within the property for specific purposes, such as a graveyard or a garden. If the pastor has zoned the graveyard, it is likely that it is located on church property and is being used as a place for burial by members of the church or community.\",\n",
    "    \"If a family wanted to live with carpeting, they may have ended up putting it in their houses. Houses are structures that are designed and built to be used as homes, and they typically have a number of rooms that are used for different purposes, such as sleeping, cooking, eating, and relaxing. Carpeting is a type of floor covering that is made of soft, flexible materials, such as wool, nylon, or polypropylene, and it is often used in houses to provide warmth, comfort, and insulation. If a family wanted to live with carpeting, they may have chosen to install carpeting in some or all of the rooms in their houses, in order to create a warm and cozy atmosphere and to improve the overall comfort and livability of their homes.\",\n",
    "    \"If a boss likes an employee's ambition, the employee may be put in charge of a project. A project is a specific task or set of tasks that is undertaken in order to achieve a specific goal or objective. Projects may be large or small, complex or simple, and they may involve a wide range of activities, such as research, design, development, testing, and implementation. If an employee is ambitious and demonstrates a strong desire to succeed and make a positive contribution to their organization, their boss may choose to put them in charge of a project, in order to give them the opportunity to demonstrate their skills and abilities and to take on more responsibility. Being put in charge of a project can be a challenging and rewarding experience, and it may provide an employee with the chance to learn new things, develop their skills, and make a meaningful contribution to their organization.\",\n",
    "    \"A county highway can be viewed as a line on a map. A map is a graphic representation of an area or region that shows the locations of various features, such as roads, rivers, mountains, and cities. Maps are often used to help people navigate and find their way around unfamiliar places, and they can be very useful for understanding the layout and geography of an area. County highways are roads that are maintained and operated by a county or local government, and they are typically used for local travel and transportation within a county or region. On a map, a county highway may be represented as a line, with a specific color or symbol used to indicate its location and route. By viewing a county highway as a line on a map, it is possible to get a sense of the route and layout of the road, and to use the map to plan a journey or navigate to a specific destination.\",\n",
    "    \"After going for a run, someone may feel tired. Running is a form of physical activity that involves moving quickly and continuously on foot, typically by running or jogging. It is a popular form of exercise that can help to improve cardiovascular fitness, build endurance, and strengthen the muscles of the legs and lower body. However, running can also be physically demanding, and it requires a certain level of fitness and stamina to be able to sustain the activity for an extended period of time. As a result, it is common for people to feel tired after going for a run, especially if they are not used to the activity or if they have pushed themselves to run for a longer distance or at a faster pace than usual. Tiredness after a run may be accompanied by other physical sensations, such as muscle fatigue, thirst, or a sense of accomplishment.\",\n",
    "    \"If a car was going from Florida to Ohio, it was heading north. Florida is a state in the southeastern region of the United States, and Ohio is a state in the midwestern region of the country. When traveling from Florida to Ohio, a person would need to go north in order to reach their destination. North is a direction that is opposite to south on a map or compass, and it is typically associated with higher latitude, colder climates, and longer nights. When traveling north, a person may encounter different landscapes, weather patterns, and cultural experiences than they would when traveling south, depending on the specific route and the distance traveled. By heading north from Florida to Ohio, a person would be leaving behind the warm, tropical climate of Florida and entering into a more temperate, mid-latitude region with cooler temperatures and a more diverse range of landscapes and ecosystems.\",\n",
    "    \"During a typical week, a teacher is likely to spend most of their time working in school. A teacher is a person who is trained and qualified to teach students in a school or educational setting, and their primary job is to provide instruction and guidance to help students learn and develop their skills and knowledge. Teachers may work in a variety of settings, including primary schools, secondary schools, and universities, and they may teach a wide range of subjects, including math, science, English, history, and the arts. In order to fulfill their duties as a teacher, a person is likely to spend most of their time working in a school or educational setting, where they will be responsible for preparing and delivering lessons, grading assignments, communicating with students and parents, and performing other tasks related to their job. Teachers typically work on a schedule that follows the school year, and they may work full-time or part-time, depending on their specific circumstances and the needs of their students.\",\n",
    "    \"In a predicament, an animal might choose to fight for its life as an alternative to fleeing. Predicament is a term that refers to a difficult or challenging situation, typically one that involves a choice or decision that needs to be made. When an animal finds itself in a predicament, it may have to decide how to respond in order to survive and protect itself. One option that an animal may have is to flee or run away from the situation in an effort to escape danger or avoid conflict. Another option that an animal may have is to fight for its life, using whatever means are available to defend itself and protect its survival. The choice that an animal makes in a predicament will depend on a variety of factors, including the specific nature of the situation, the animal's size, strength, and abilities, and the resources and options that are available to it.\",\n",
    "    \"It is not common for people to fight each other when they find a good deal. A good deal is typically defined as an opportunity to purchase something at a price that is lower than what it is usually worth, or to obtain a product or service that provides more value or benefits than what is expected. When people find a good deal, they may feel excited or pleased about the opportunity to save money or get more for their money, and they may take action to take advantage of the deal. However, it is generally not considered acceptable or appropriate for people to fight each other over a good deal or to engage in physical violence or aggression in order to obtain it. There are many other ways that people can express their interest in a good deal, such as by negotiating with the seller, making an offer, or simply making a purchase if the price is acceptable.\",\n",
    "    \"An altar is a platform or structure that is used for religious ceremonies, rituals, or worship. Altars are often found in places of worship, such as temples, churches, synagogues, mosques, and other religious buildings. When a person is standing in front of an altar, they are likely to be in a temple or other place of worship. Altars can be used for a variety of purposes in different religions and spiritual traditions, such as offering sacrifices, making offerings, praying, or performing other religious practices. They may be decorated with symbols, images, or other items that are significant to the religion or spiritual tradition that is being practiced. Altars may also be used as a place for people to meditate, reflect, or seek spiritual guidance.\",\n",
    "    \"Joe bought a bunch of grapes because he likes to use them to top his desserts. A dessert is a type of food that is typically served at the end of a meal, and it is usually sweet or rich in flavor. There are many different types of desserts that people enjoy, including cakes, cookies, ice cream, pie, and other sweet treats. One way that people may use grapes as a topping for their desserts is by placing them on top of a fruit pie, tart, or crisp. Grapes can add flavor and texture to a dessert, and they may also be used to decorate a dessert or to add visual appeal. Grapes are a versatile fruit that can be used in many different types of desserts, and they can be eaten fresh, frozen, or preserved in various ways.\",\n",
    "    \"Well water is water that is obtained from underground sources, typically through the use of a well. A well is a hole or shaft that is dug into the ground in order to access water that is contained in underground aquifers or other water-bearing formations. Well water is typically used for drinking, irrigation, and other purposes, and it is often considered to be of high quality because it is filtered and purified naturally as it flows through the ground. To obtain well water, a person can dig a well or have one dug by a professional well driller. The depth of the well will depend on the location and the geology of the area, and a pump or other mechanical system may be used to bring the water to the surface.\",\n",
    "]"
   ]
  },
  {
   "cell_type": "code",
   "execution_count": 21,
   "id": "f56877dd",
   "metadata": {},
   "outputs": [
    {
     "name": "stdout",
     "output_type": "stream",
     "text": [
      "****\n",
      "0\n",
      "explain cos_e question: How does a police officer report his work? answer: case explanation<extra_id_0> </s>\n",
      "A police officer typically reports their work through the use of case reports or incident reports. These reports are written documents that detail the events of a specific case or incident that the officer has worked on. Case reports or incident reports typically include information such as the date and time of the incident, the location, the people involved, and the actions taken by the officer. They may also include witness statements, evidence collected, and any other relevant details. Case reports or incident reports are used by police officers to document their work and provide a record of the incidents they have dealt with. They are also used by supervisors and other authorities to review and evaluate the performance of the officer and the effectiveness of their actions.\n",
      "####\n",
      "****\n",
      "1\n",
      "explain cos_e question: What does someone who has a greed for energy do? answer: buy food explanation<extra_id_0> </s>\n",
      "It is not clear what someone who has a greed for energy would do. The word greed typically refers to an excessive or insatiable desire for wealth, power, or material possessions. It is not clear how this concept would relate to energy or how it might influence someone's actions. It is possible that someone who has a lot of energy or who is very active might have a high appetite for food and might seek out sources of fuel or nutrition to sustain their energy levels. In this case, they might buy food as a way to obtain the energy they need. However, it is not accurate to say that someone who has a greed for energy would necessarily do this. It is important to note that the concept of greed is generally considered to be negative, as it suggests an unhealthy or unsustainable desire for something.\n",
      "####\n",
      "****\n",
      "2\n",
      "explain cos_e question: She was a human in America who wanted to live well, what was a given for her situation? answer: need money explanation<extra_id_0> </s>\n",
      "If she was a human in America who wanted to live well, it is likely that the given for her situation was the need for money. In general, money is an important factor in enabling people to live well and meet their basic needs and desires. Money allows people to purchase the goods and services that they need to sustain themselves and their families, such as food, clothing, housing, and healthcare. It also enables people to pursue their interests and hobbies, travel, and engage in various forms of leisure and entertainment. In America, and in many other countries around the world, the cost of living can be high, and people often need to earn and save money in order to achieve a desired standard of living. As such, the need for money is a given for many people in order to live well.\n",
      "####\n",
      "****\n",
      "3\n",
      "explain cos_e question: A bride and groom are taking care of proposals, what is the likely ceremony? answer: marriage explanation<extra_id_0> </s>\n",
      "If a bride and groom are taking care of proposals, the likely ceremony is a marriage. A marriage is a formal union between two people that is recognized by law and typically involves a public ceremony and the exchange of vows. A marriage proposal is a request for someone to marry another person, and it is typically made by one partner to the other. The process of planning a marriage often involves taking care of a variety of details and arrangements, such as choosing a venue, selecting a date, inviting guests, and organizing the ceremony and reception. If a bride and groom are taking care of proposals, it is likely that they are in the process of planning their marriage and preparing for the wedding ceremony.\n",
      "####\n",
      "****\n",
      "4\n",
      "explain cos_e question: When a person is looking at an altar, where might they be standing? answer: temple explanation<extra_id_0> </s>\n",
      "An altar is a platform or structure that is used for religious ceremonies, rituals, or worship. Altars are often found in places of worship, such as temples, churches, synagogues, mosques, and other religious buildings. When a person is standing in front of an altar, they are likely to be in a temple or other place of worship. Altars can be used for a variety of purposes in different religions and spiritual traditions, such as offering sacrifices, making offerings, praying, or performing other religious practices. They may be decorated with symbols, images, or other items that are significant to the religion or spiritual tradition that is being practiced. Altars may also be used as a place for people to meditate, reflect, or seek spiritual guidance.\n",
      "####\n",
      "****\n",
      "5\n",
      "explain cos_e question: Index cards were on display at the museum, what kind of museum was it? answer: library explanation<extra_id_0> </s>\n",
      "If index cards were on display at the museum, it is likely that the museum was a library. Libraries are institutions that provide access to a wide range of resources, including books, periodicals, and other printed materials, as well as digital resources such as e-books, databases, and online research tools. Libraries often have exhibits and displays of various types of materials, including rare or unique items, and may have special collections or archives that are of particular interest to researchers or historians. Index cards are small, rectangular pieces of paper that are used for organizing information, such as names, dates, or research notes. They may be used in a variety of settings, including libraries, offices, and schools. If index cards were on display at the museum, it is possible that they were part of a historical exhibit or collection related to the history of libraries or research.\n",
      "####\n",
      "****\n",
      "6\n",
      "explain cos_e question: Where does water in the sky come from? answer: rain cloud explanation<extra_id_0> </s>\n",
      "Water in the sky comes from rain clouds. Rain clouds are clouds that form when moist air rises and cools, forming tiny water droplets that condense around particles in the air. As the droplets grow, they eventually become heavy enough to fall from the cloud as rain. Rain clouds are typically gray or white in color and are often accompanied by other types of clouds, such as cumulus or stratocumulus clouds. Rain clouds can form in a variety of ways, such as when warm, moist air from the ground rises and cools, or when moist air from the ocean is carried inland by the wind. Rain clouds can be found in many parts of the world and are a common source of precipitation, especially during the warmer months.\n",
      "####\n",
      "****\n",
      "7\n",
      "explain cos_e question: When remembering a tragedy in the past, what do many people feel? answer: depression explanation<extra_id_0> </s>\n",
      "When remembering a tragedy in the past, many people may feel depressed. Depression is a common emotional reaction to experiencing a traumatic or stressful event, such as a tragedy. Depression is a mental health disorder characterized by persistent feelings of sadness, hopelessness, and low energy. It can also cause physical symptoms such as changes in appetite and sleep patterns, fatigue, and difficulty concentrating. Remembering a tragedy can be emotionally difficult and may trigger feelings of sadness, grief, and guilt. It is important for people who are struggling with depression to seek support and treatment to help manage their symptoms and improve their mental health.\n",
      "####\n",
      "****\n",
      "8\n",
      "explain cos_e question: Why might a person go to get counseling? answer: understand themselves explanation<extra_id_0> </s>\n",
      "A person might go to get counseling for a variety of reasons. One reason is to better understand themselves. Counseling can provide a safe and supportive environment for individuals to explore their thoughts, feelings, and behaviors, and to gain insight into why they act and feel the way they do. Counseling can also help a person to identify and work through any underlying issues or challenges that may be causing them distress or hindering their personal growth. Through counseling, a person can learn more about themselves and how to navigate their emotions and relationships more effectively. Counseling can be particularly helpful for individuals who are struggling with mental health issues, relationship problems, or other personal challenges.\n",
      "####\n",
      "****\n",
      "9\n",
      "explain cos_e question: What place could have one back garden? answer: house explanation<extra_id_0> </s>\n",
      "A place that could have one back garden is a house. A garden is a piece of land that is used for growing plants, flowers, vegetables, or other types of vegetation. Gardens can be found in a variety of settings, including residential properties, public parks, and commercial properties. A house is a building that is used as a dwelling for one or more people, and it typically includes living spaces, such as bedrooms, bathrooms, and a kitchen, as well as outdoor areas, such as a front yard, side yard, and back yard. A back yard is a private outdoor space that is typically located behind a house and is often used for recreational or leisure activities, such as gardening, grilling, or playing games. If a house has a back garden, it is likely that the garden is located in the back yard.\n",
      "####\n",
      "****\n",
      "10\n",
      "explain cos_e question: Where might an expressway leave the Us to go? answer: canada explanation<extra_id_0> </s>\n",
      "An expressway might leave the United States and go to Canada. The United States and Canada are neighboring countries that share a border, and there are several expressways that cross the border between the two countries. Expressways are high-speed, limited-access roads that are designed for fast and efficient travel. They typically have multiple lanes and may include features such as grade separations, interchanges, and controlled access points. Expressways are used for long-distance travel and are often the main routes connecting major cities and regions. If an expressway leaves the United States, it is likely that it is heading towards Canada, which is located to the north of the United States.\n",
      "####\n",
      "****\n",
      "11\n",
      "explain cos_e question: How can a company efficiently sell things to their customer? answer: mail order explanation<extra_id_0> </s>\n",
      "One way that a company can efficiently sell things to their customers is through mail order. Mail order is a method of selling goods or services by advertising them in a catalog or other publication and allowing customers to place orders by mail, telephone, or online. Mail order is a convenient and efficient way for companies to reach a wide customer base, as it allows them to sell products to customers who may not be located near their physical store or who may not have the time or inclination to shop in person. Mail order companies typically have a centralized warehouse or distribution center where orders are processed and shipped to customers. They may also offer options such as easy returns and exchanges, as well as customer service support to assist with any questions or issues that customers may have.\n",
      "####\n",
      "****\n",
      "12\n",
      "explain cos_e question: What do people do sometimes when they find a good deal? answer: fight each other explanation<extra_id_0> </s>\n",
      "It is not common for people to fight each other when they find a good deal. A good deal is typically defined as an opportunity to purchase something at a price that is lower than what it is usually worth, or to obtain a product or service that provides more value or benefits than what is expected. When people find a good deal, they may feel excited or pleased about the opportunity to save money or get more for their money, and they may take action to take advantage of the deal. However, it is generally not considered acceptable or appropriate for people to fight each other over a good deal or to engage in physical violence or aggression in order to obtain it. There are many other ways that people can express their interest in a good deal, such as by negotiating with the seller, making an offer, or simply making a purchase if the price is acceptable.\n",
      "####\n",
      "****\n",
      "13\n",
      "explain cos_e question: Death Valley is in the North American what? answer: continent explanation<extra_id_0> </s>\n",
      "Death Valley is a national park located in the Mojave Desert, in the state of California, United States. It is situated on the North American continent. The North American continent is one of the seven continents of the world and is located in the western hemisphere. It is the third largest continent in terms of land area, after Asia and Africa, and is home to a diverse range of cultures, languages, and environments. Death Valley is known for its extreme desert climate and is the lowest, hottest, and driest place in North America. It is a popular destination for tourists, who come to see its unique geological features, such as sand dunes, salt flats, and canyons.\n",
      "####\n",
      "****\n",
      "14\n",
      "explain cos_e question: A boss may like an employee's ambition, so the employee may get put what? answer: in charge of project explanation<extra_id_0> </s>\n",
      "If a boss likes an employee's ambition, the employee may be put in charge of a project. A project is a specific task or set of tasks that is undertaken in order to achieve a specific goal or objective. Projects may be large or small, complex or simple, and they may involve a wide range of activities, such as research, design, development, testing, and implementation. If an employee is ambitious and demonstrates a strong desire to succeed and make a positive contribution to their organization, their boss may choose to put them in charge of a project, in order to give them the opportunity to demonstrate their skills and abilities and to take on more responsibility. Being put in charge of a project can be a challenging and rewarding experience, and it may provide an employee with the chance to learn new things, develop their skills, and make a meaningful contribution to their organization.\n",
      "####\n",
      "****\n",
      "15\n",
      "explain cos_e question: The family wanted to live with carpeting, so where did they end up putting it? answer: houses explanation<extra_id_0> </s>\n",
      "If a family wanted to live with carpeting, they may have ended up putting it in their houses. Houses are structures that are designed and built to be used as homes, and they typically have a number of rooms that are used for different purposes, such as sleeping, cooking, eating, and relaxing. Carpeting is a type of floor covering that is made of soft, flexible materials, such as wool, nylon, or polypropylene, and it is often used in houses to provide warmth, comfort, and insulation. If a family wanted to live with carpeting, they may have chosen to install carpeting in some or all of the rooms in their houses, in order to create a warm and cozy atmosphere and to improve the overall comfort and livability of their homes.\n",
      "####\n",
      "****\n",
      "16\n",
      "explain cos_e question: Where can someone get well water? answer: ground explanation<extra_id_0> </s>\n",
      "Well water is water that is obtained from underground sources, typically through the use of a well. A well is a hole or shaft that is dug into the ground in order to access water that is contained in underground aquifers or other water-bearing formations. Well water is typically used for drinking, irrigation, and other purposes, and it is often considered to be of high quality because it is filtered and purified naturally as it flows through the ground. To obtain well water, a person can dig a well or have one dug by a professional well driller. The depth of the well will depend on the location and the geology of the area, and a pump or other mechanical system may be used to bring the water to the surface.\n",
      "####\n",
      "****\n",
      "17\n",
      "explain cos_e question: Where could you put some olives to prevent them from getting nearby food wet? answer: jar explanation<extra_id_0> </s>\n",
      "You could put some olives in a jar to prevent them from getting nearby food wet. A jar is a container that is typically made of glass or ceramic and has a wide mouth and a secure, tight-fitting lid. Jars are often used for storing food items, such as olives, pickles, jams, and other types of preserved or dried goods. Because they have a sealed lid, jars can help to keep food fresh and prevent it from coming into contact with air or other substances that might spoil or contaminate it. If you want to prevent olives from getting nearby food wet, you could put them in a jar and close the lid to create an airtight seal. This would help to keep the olives separate from other foods and prevent them from coming into contact with moisture or other liquids.\n",
      "####\n",
      "****\n",
      "18\n",
      "explain cos_e question: When in a serious relationship understanding better requires what? answer: effort explanation<extra_id_0> </s>\n",
      "When in a serious relationship, understanding better requires effort. Relationships require effort and work to maintain and grow. In order to understand your partner better, you need to be willing to put in the time and effort to communicate with them, listen to their perspectives, and try to see things from their point of view. This may involve asking questions, expressing your own feelings and needs, and being open to feedback and compromise. Understanding your partner better can help to strengthen the bond between you and improve the quality of your relationship. It is important to remember that relationships are dynamic and evolving, and that ongoing communication and effort are necessary to maintain a healthy and fulfilling relationship.\n",
      "####\n",
      "****\n",
      "19\n",
      "explain cos_e question: The kids wanted to cool off so they all went to what? answer: go swimming explanation<extra_id_0> </s>\n",
      "If the kids wanted to cool off, they might go swimming as a way to refresh and beat the heat. Swimming is a fun and enjoyable activity that can provide relief from hot weather and help to cool the body. Swimming can also provide a great workout and has numerous health benefits, such as improving cardiovascular fitness and flexibility. There are many different places where kids can go swimming, such as pools, lakes, rivers, or the ocean. No matter where they go, kids can have fun and cool off while enjoying the water.\n",
      "####\n",
      "****\n",
      "20\n",
      "explain cos_e question: How would someone feel after going for run? answer: get tired explanation<extra_id_0> </s>\n",
      "After going for a run, someone may feel tired. Running is a form of physical activity that involves moving quickly and continuously on foot, typically by running or jogging. It is a popular form of exercise that can help to improve cardiovascular fitness, build endurance, and strengthen the muscles of the legs and lower body. However, running can also be physically demanding, and it requires a certain level of fitness and stamina to be able to sustain the activity for an extended period of time. As a result, it is common for people to feel tired after going for a run, especially if they are not used to the activity or if they have pushed themselves to run for a longer distance or at a faster pace than usual. Tiredness after a run may be accompanied by other physical sensations, such as muscle fatigue, thirst, or a sense of accomplishment.\n",
      "####\n",
      "****\n",
      "21\n",
      "explain cos_e question: A person notices popcorn, cotton candy on the grass, where is he likely? answer: fairgrounds explanation<extra_id_0> </s>\n",
      "If a person notices popcorn and cotton candy on the grass, they are likely at fairgrounds. Fairgrounds are outdoor areas that are used for hosting fairs and other events, such as carnivals, festivals, and exhibitions. These events often feature food stalls and vendors that sell a variety of treats, including popcorn and cotton candy. Popcorn and cotton candy are both popular carnival foods that are often sold at fairs and other events. The presence of these foods on the ground at fairgrounds suggests that a fair or similar event is taking place there.\n",
      "####\n",
      "****\n",
      "22\n",
      "explain cos_e question: The graveyard was zoned by the pastor, where was it located? answer: church property explanation<extra_id_0> </s>\n",
      "If the graveyard was zoned by the pastor, it is likely that it was located on church property. Church property refers to land or buildings that are owned by a church or religious organization. This may include the main church building, as well as other structures such as a rectory, school, or community center. Church property may also include a graveyard or cemetery, which is a place where people are buried after they die. Pastors, who are ordained leaders in a church, often play a central role in the management and oversight of church property, and they may be responsible for zoning or designating areas within the property for specific purposes, such as a graveyard or a garden. If the pastor has zoned the graveyard, it is likely that it is located on church property and is being used as a place for burial by members of the church or community.\n",
      "####\n",
      "****\n",
      "23\n",
      "explain cos_e question: What can help you with an illness? answer: doctor's office explanation<extra_id_0> </s>\n",
      "A doctor's office can help you with an illness. A doctor's office is a healthcare facility that is staffed by medical doctors and other healthcare professionals, and it is used for the diagnosis and treatment of medical conditions and the maintenance of overall health. If you are experiencing an illness, such as a cold, flu, or more serious health issue, you may visit a doctor's office to seek medical care and treatment. At a doctor's office, you may receive a physical examination, diagnostic tests, and other forms of medical treatment, depending on the nature of your illness and your specific needs. Doctors are trained to diagnose and treat a wide range of medical conditions, and they can provide you with the care and support you need to recover from your illness and get back to good health.\n",
      "####\n"
     ]
    }
   ],
   "source": [
    "id_list = []\n",
    "for kk, da in enumerate(our_data_splits['train']):\n",
    "    print(\"****\")\n",
    "    print(kk)\n",
    "    print(tokenizer.decode(da['input_ids']))\n",
    "    print(da['our_explanation'])\n",
    "    print(\"####\")\n",
    "# tokenizer.decode(our_data_splits['train'][0]['input_ids'])"
   ]
  },
  {
   "cell_type": "code",
   "execution_count": 22,
   "id": "01fdee8d",
   "metadata": {},
   "outputs": [],
   "source": [
    "id_list = [\n",
    " '71519c19654251cced50c5718fd527c1',\n",
    " '44195d210c81c8c550174d0edbd3ad5d',\n",
    " '5a5da37b685ec9c6f15228128ce30437',\n",
    " 'cabdfc174953b4bdb8bdcc89d6592c74',\n",
    " 'eac3a4080127e8924034651b57dfa289',\n",
    " 'c0013f31657294b9b5ad819123513ca7',\n",
    " '2681697be70cd5425899ed6deb84b18a',\n",
    " '47f60340b869552e795fa6782224f3d2',\n",
    " '7e8a6eac93147eb52d8151bab7b40003',\n",
    " 'f34267f498c8a78383e35057fbcfa2ce',\n",
    " 'f024f923d78e5c0a4c0c4baa3ddccf05',\n",
    " 'e148c710d0c26849cf1f15293481038b',\n",
    " 'bdf437d7498815f36c255f64a8e6571c',\n",
    " '2282e0c80be28aadadb79a822fec9dac',\n",
    " 'bdd05e96876342b4b5999709439a7f4e',\n",
    " '494b8316614fc64c5c27757aeaffce23_1',\n",
    " 'c4494b402264250dc70931613d482295',\n",
    " 'fcfbf207c5586294fdce33b645b613f1',\n",
    " '9c583bcbe68989a644433302545fb31e',\n",
    " '0e684d779d98e6eecda167c10af42bbb',\n",
    " 'ac0462d09b9fddd40c3c77aedf48a870',\n",
    " '1dbfb41e04a10bdbb085bfe667c0df99',\n",
    " 'cd0c0ef3b8ce0eb09ff26823f6059be6',\n",
    " 'e6b67184b99375d05d3f2887f684c684',\n",
    " 'ae9f6f1e17b3fdd3a86b494933809f45',\n",
    " 'f149604169936a30b7e4c8d599d604b5',\n",
    " 'd7c8377953e0175ef57d59f3a8e63a8e',\n",
    " '1837216ac7745121b82a6491b2318c09',\n",
    " 'b5fe238d45e55ca5d802b7823ad390ef',\n",
    " 'b2fbeb0b48bd5e575af0f7dc24cdd85d',\n",
    " '9bdfb101c487ac598f6e4686cf774703',\n",
    " '206c7116ee2246180fcc0c5a1d0e7205',\n",
    " '5cd7f44bbf730dfae5ef2a362d2e5149',\n",
    " '45d0ea781ffd49b07d6eae94d47a8945',\n",
    " '89afdea1d76272fda8e1538a7d3b7a3f',\n",
    " '38a514fe54108527e1d6e89d9812da93',\n",
    " 'ebf347934a3e90ea46d3d87726fb5d25',\n",
    " '90226a6ecd7308ae1e6220a15ae24bc6',\n",
    " '5cae8057e75e3adf5c338a43b3ba97fb',\n",
    " '388a363c49e1b0aca8eaf18ccdde0caf',\n",
    " '9ed3af82152dfcd7000bf4631b095f71',\n",
    " '2d5805d894bba224c5fe91e70b8c0f77',\n",
    " 'd5aa464a16b72c9b9f3091abd461e3ef',\n",
    " '381b11c54be4cc432a95053ca34cbf6b',\n",
    " '807a3a2dabdd50ed0c76052fd2612632',\n",
    " '5172041c750d22e9a5081cc024de0fa6',\n",
    " 'd32a45ab3b751110d0578a78e54c0e64',\n",
    " '28ca5cbe27774746c34f6ebe84fc6d0c']"
   ]
  },
  {
   "cell_type": "code",
   "execution_count": null,
   "id": "a5115acd",
   "metadata": {},
   "outputs": [],
   "source": []
  },
  {
   "cell_type": "code",
   "execution_count": 23,
   "id": "dabe3306",
   "metadata": {},
   "outputs": [],
   "source": [
    "# our_wrong_data_splits['dev']=[]\n",
    "# for x in our_data_splits['dev']:\n",
    "#     for ii in range(5):\n",
    "#         new_x={'id':x['id'], 'real_answer':x['answer'], \n",
    "#                'answer':x['choices'][ii], 'question':x['question'],\n",
    "#                'choices':x['choices'],\n",
    "#                'abstractive_explanation':x['abstractive_explanation'],\n",
    "#                'extractive_explanation':x['extractive_explanation'],\n",
    "#                'our_explanation':x['our_explanation']}\n",
    "#         our_wrong_data_splits['dev'].append(new_x)\n",
    "#     #print(x)\n",
    "#     #pdb.set_trace()\n",
    "# # wandb.init()\n",
    "# our_wrong_dev_data_dict = list2dict(our_wrong_data_splits['dev'])\n",
    "# our_wrong_data_splits['dev'] = datasets.Dataset.from_dict(our_wrong_dev_data_dict)"
   ]
  },
  {
   "cell_type": "code",
   "execution_count": 24,
   "id": "7b62bdf5",
   "metadata": {},
   "outputs": [],
   "source": [
    "# our_wrong_data_splits['train'][0],our_wrong_data_splits['train'][0].keys()\n",
    "# our_wrong_data_splits['train'] = our_wrong_data_splits['train'].map(\n",
    "#             lambda x: format_instance(\n",
    "#                 x,\n",
    "#                 tokenizer,\n",
    "#                 data_args.explanation_sep,\n",
    "#                 datasource=data_args.task_name,\n",
    "#                 io_format=data_args.io_format\n",
    "#             ),\n",
    "#             batched=False,\n",
    "#             load_from_cache_file=False,\n",
    "#         )"
   ]
  },
  {
   "cell_type": "code",
   "execution_count": 25,
   "id": "b421f892",
   "metadata": {},
   "outputs": [],
   "source": [
    "# for da in our_wrong_data_splits['dev']:\n",
    "#     print(\"*******\")\n",
    "#     print(\"question: {}\".format(da['question']))\n",
    "#     print(\"real_answer: {}\".format(da['real_answer']))\n",
    "#     print(\"answer: {}\".format(da['answer']))\n",
    "#     print(\"choices: {}\".format(da['choices']))\n",
    "#     print(\"our_explanation: {}\".format(da['our_explanation']))\n",
    "#     inp_ids = torch.tensor(da[\"input_ids\"], device=model.device).reshape(1, -1)\n",
    "#     out = model.generate(\n",
    "#                     inp_ids,\n",
    "#                     max_length=100,\n",
    "#                     pad_token_id=tokenizer.pad_token_id,\n",
    "#                     eos_token_id=tokenizer.eos_token_id,\n",
    "#                 )\n",
    "#     skip_special_tokens = False if \"infilling\" in data_args.io_format else True\n",
    "#     words = tokenizer.decode(out[0].tolist(), skip_special_tokens=skip_special_tokens)\n",
    "#     print(\"generated explanation: {}\".format(words))\n",
    "#     print(\"#######\")"
   ]
  },
  {
   "cell_type": "code",
   "execution_count": 26,
   "id": "dfa34701",
   "metadata": {},
   "outputs": [],
   "source": [
    "# our_wrong_data_splits['train'][0],our_wrong_data_splits['train'][0].keys()\n",
    "# our_wrong_data_splits['dev'] = our_wrong_data_splits['dev'].map(\n",
    "#             lambda x: format_instance(\n",
    "#                 x,\n",
    "#                 tokenizer,\n",
    "#                 data_args.explanation_sep,\n",
    "#                 datasource=data_args.task_name,\n",
    "#                 io_format=data_args.io_format\n",
    "#             ),\n",
    "#             batched=False,\n",
    "#             load_from_cache_file=False,\n",
    "#         )"
   ]
  },
  {
   "cell_type": "code",
   "execution_count": 27,
   "id": "2e6d6437",
   "metadata": {},
   "outputs": [],
   "source": [
    "# for da in our_wrong_data_splits['dev']:\n",
    "#     print(\"*******\")\n",
    "#     print(\"question: {}\".format(da['question']))\n",
    "#     print(\"real_answer: {}\".format(da['real_answer']))\n",
    "#     print(\"answer: {}\".format(da['answer']))\n",
    "#     print(\"choices: {}\".format(da['choices']))\n",
    "#     print(\"our_explanation: {}\".format(da['our_explanation']))\n",
    "#     inp_ids = torch.tensor(da[\"input_ids\"], device=model.device).reshape(1, -1)\n",
    "#     out = model.generate(\n",
    "#                     inp_ids,\n",
    "#                     max_length=100,\n",
    "#                     pad_token_id=tokenizer.pad_token_id,\n",
    "#                     eos_token_id=tokenizer.eos_token_id,\n",
    "#                 )\n",
    "#     skip_special_tokens = False if \"infilling\" in data_args.io_format else True\n",
    "#     words = tokenizer.decode(out[0].tolist(), skip_special_tokens=skip_special_tokens)\n",
    "#     print(\"generated explanation: {}\".format(words))\n",
    "#     print(\"#######\")"
   ]
  },
  {
   "cell_type": "code",
   "execution_count": 28,
   "id": "91605cfc",
   "metadata": {},
   "outputs": [],
   "source": [
    "# for da in our_wrong_data_splits['train']:\n",
    "#     print(\"*******\")\n",
    "#     print(\"question: {}\".format(da['question']))\n",
    "#     print(\"real_answer: {}\".format(da['real_answer']))\n",
    "#     print(\"answer: {}\".format(da['answer']))\n",
    "#     print(\"choices: {}\".format(da['choices']))\n",
    "#     print(\"our_explanation: {}\".format(da['our_explanation']))\n",
    "#     inp_ids = torch.tensor(da[\"input_ids\"], device=model.device).reshape(1, -1)\n",
    "#     out = model.generate(\n",
    "#                     inp_ids,\n",
    "#                     max_length=100,\n",
    "#                     pad_token_id=tokenizer.pad_token_id,\n",
    "#                     eos_token_id=tokenizer.eos_token_id,\n",
    "#                 )\n",
    "#     skip_special_tokens = False if \"infilling\" in data_args.io_format else True\n",
    "#     words = tokenizer.decode(out[0].tolist(), skip_special_tokens=skip_special_tokens)\n",
    "#     print(\"generated explanation: {}\".format(words))\n",
    "#     print(\"#######\")"
   ]
  },
  {
   "cell_type": "code",
   "execution_count": 29,
   "id": "cbc3e763",
   "metadata": {},
   "outputs": [],
   "source": [
    "# import wandb\n",
    "# training_args.run_name=\"\"\n",
    "training_args.logging_steps=3\n",
    "training_args.save_steps=5\n",
    "training_args.evaluation_strategy=\"epoch\"\n",
    "training_args.num_train_epochs=25\n",
    "training_args.do_eval=True"
   ]
  },
  {
   "cell_type": "code",
   "execution_count": 30,
   "id": "317de5d7",
   "metadata": {},
   "outputs": [
    {
     "data": {
      "text/plain": [
       "TrainingArguments(\n",
       "_n_gpu=0,\n",
       "adafactor=False,\n",
       "adam_beta1=0.9,\n",
       "adam_beta2=0.999,\n",
       "adam_epsilon=1e-08,\n",
       "dataloader_drop_last=False,\n",
       "dataloader_num_workers=0,\n",
       "dataloader_pin_memory=True,\n",
       "ddp_find_unused_parameters=None,\n",
       "debug=[],\n",
       "deepspeed=None,\n",
       "disable_tqdm=False,\n",
       "do_eval=True,\n",
       "do_predict=False,\n",
       "do_train=True,\n",
       "eval_accumulation_steps=None,\n",
       "eval_steps=None,\n",
       "evaluation_strategy=epoch,\n",
       "fp16=False,\n",
       "fp16_backend=auto,\n",
       "fp16_full_eval=False,\n",
       "fp16_opt_level=O1,\n",
       "gradient_accumulation_steps=1,\n",
       "greater_is_better=None,\n",
       "group_by_length=False,\n",
       "ignore_data_skip=False,\n",
       "label_names=None,\n",
       "label_smoothing_factor=0.0,\n",
       "learning_rate=5e-05,\n",
       "length_column_name=length,\n",
       "load_best_model_at_end=False,\n",
       "local_rank=-1,\n",
       "log_level=-1,\n",
       "log_level_replica=-1,\n",
       "log_on_each_node=True,\n",
       "logging_dir=./cos_e_output_t5_3b/010223_215708,\n",
       "logging_first_step=False,\n",
       "logging_steps=3,\n",
       "logging_strategy=IntervalStrategy.STEPS,\n",
       "lr_scheduler_type=SchedulerType.LINEAR,\n",
       "max_grad_norm=1.0,\n",
       "max_steps=-1,\n",
       "metric_for_best_model=None,\n",
       "mp_parameters=,\n",
       "no_cuda=False,\n",
       "num_train_epochs=25,\n",
       "output_dir=./cos_e_output_t5_3b/010223_215708,\n",
       "overwrite_output_dir=False,\n",
       "past_index=-1,\n",
       "per_device_eval_batch_size=8,\n",
       "per_device_train_batch_size=8,\n",
       "prediction_loss_only=False,\n",
       "push_to_hub=False,\n",
       "push_to_hub_model_id=cos_e_output_t5_3b,\n",
       "push_to_hub_organization=None,\n",
       "push_to_hub_token=None,\n",
       "remove_unused_columns=True,\n",
       "report_to=['tensorboard', 'wandb'],\n",
       "resume_from_checkpoint=None,\n",
       "run_name=./cos_e_output_t5_3b,\n",
       "save_on_each_node=False,\n",
       "save_steps=5,\n",
       "save_strategy=IntervalStrategy.STEPS,\n",
       "save_total_limit=None,\n",
       "seed=42,\n",
       "sharded_ddp=[],\n",
       "skip_memory_metrics=True,\n",
       "tpu_metrics_debug=False,\n",
       "tpu_num_cores=None,\n",
       "use_legacy_prediction_loop=False,\n",
       "warmup_ratio=0.0,\n",
       "warmup_steps=0,\n",
       "weight_decay=0.0,\n",
       ")"
      ]
     },
     "execution_count": 30,
     "metadata": {},
     "output_type": "execute_result"
    }
   ],
   "source": [
    "training_args"
   ]
  },
  {
   "cell_type": "code",
   "execution_count": 31,
   "id": "de79fb60",
   "metadata": {},
   "outputs": [
    {
     "data": {
      "text/plain": [
       "TrainingArguments(\n",
       "_n_gpu=0,\n",
       "adafactor=False,\n",
       "adam_beta1=0.9,\n",
       "adam_beta2=0.999,\n",
       "adam_epsilon=1e-08,\n",
       "dataloader_drop_last=False,\n",
       "dataloader_num_workers=0,\n",
       "dataloader_pin_memory=True,\n",
       "ddp_find_unused_parameters=None,\n",
       "debug=[],\n",
       "deepspeed=None,\n",
       "disable_tqdm=False,\n",
       "do_eval=True,\n",
       "do_predict=False,\n",
       "do_train=True,\n",
       "eval_accumulation_steps=None,\n",
       "eval_steps=None,\n",
       "evaluation_strategy=epoch,\n",
       "fp16=False,\n",
       "fp16_backend=auto,\n",
       "fp16_full_eval=False,\n",
       "fp16_opt_level=O1,\n",
       "gradient_accumulation_steps=1,\n",
       "greater_is_better=None,\n",
       "group_by_length=False,\n",
       "ignore_data_skip=False,\n",
       "label_names=None,\n",
       "label_smoothing_factor=0.0,\n",
       "learning_rate=5e-05,\n",
       "length_column_name=length,\n",
       "load_best_model_at_end=False,\n",
       "local_rank=-1,\n",
       "log_level=-1,\n",
       "log_level_replica=-1,\n",
       "log_on_each_node=True,\n",
       "logging_dir=./cos_e_output_t5_3b/010223_215708,\n",
       "logging_first_step=False,\n",
       "logging_steps=3,\n",
       "logging_strategy=IntervalStrategy.STEPS,\n",
       "lr_scheduler_type=SchedulerType.LINEAR,\n",
       "max_grad_norm=1.0,\n",
       "max_steps=-1,\n",
       "metric_for_best_model=None,\n",
       "mp_parameters=,\n",
       "no_cuda=False,\n",
       "num_train_epochs=25,\n",
       "output_dir=./cos_e_output_t5_3b/010223_215708,\n",
       "overwrite_output_dir=False,\n",
       "past_index=-1,\n",
       "per_device_eval_batch_size=8,\n",
       "per_device_train_batch_size=8,\n",
       "prediction_loss_only=False,\n",
       "push_to_hub=False,\n",
       "push_to_hub_model_id=cos_e_output_t5_3b,\n",
       "push_to_hub_organization=None,\n",
       "push_to_hub_token=None,\n",
       "remove_unused_columns=True,\n",
       "report_to=['tensorboard', 'wandb'],\n",
       "resume_from_checkpoint=None,\n",
       "run_name=./cos_e_output_t5_3b,\n",
       "save_on_each_node=False,\n",
       "save_steps=5,\n",
       "save_strategy=IntervalStrategy.STEPS,\n",
       "save_total_limit=None,\n",
       "seed=42,\n",
       "sharded_ddp=[],\n",
       "skip_memory_metrics=True,\n",
       "tpu_metrics_debug=False,\n",
       "tpu_num_cores=None,\n",
       "use_legacy_prediction_loop=False,\n",
       "warmup_ratio=0.0,\n",
       "warmup_steps=0,\n",
       "weight_decay=0.0,\n",
       ")"
      ]
     },
     "execution_count": 31,
     "metadata": {},
     "output_type": "execute_result"
    }
   ],
   "source": [
    "training_args.per_device_eval_batch_size=8\n",
    "training_args.per_device_train_batch_size=8\n",
    "training_args"
   ]
  },
  {
   "cell_type": "code",
   "execution_count": 32,
   "id": "e80480ec",
   "metadata": {},
   "outputs": [],
   "source": [
    "# data_splits = {'train': None, 'validation': None, 'test': None}\n",
    "# original_data_splits = {'train': None, 'validation': None, 'test': None}  \n",
    "# data_args.io_format=\"t5_fewshot_infilling_with_choices\"\n",
    "# # Data loading from huggingface's datasets\n",
    "# if data_args.task_name in {\"cos_e\", \"esnli\"}:\n",
    "#     version_arg = None\n",
    "#     if data_args.task_name == \"cos_e\":\n",
    "#         assert data_args.version_name in {\"v1.11\", \"v1.0\"}\n",
    "#         version_arg = data_args.version_name\n",
    "\n",
    "#     load_train = True\n",
    "#     if (not training_args.do_train\n",
    "#         and not training_args.do_eval\n",
    "#         and not data_args.train_predict\n",
    "#     ):\n",
    "#         # don't load training dataset\n",
    "#         dataset = {}\n",
    "#         dataset[\"train\"] = None\n",
    "#         dataset[\"validation\"] = datasets.load_dataset(\n",
    "#             data_args.task_name, version_arg, split=\"validation\"\n",
    "#         )\n",
    "#         data_splits['validation'] = dataset[\"validation\"]\n",
    "\n",
    "#         if data_args.task_name == \"esnli\":\n",
    "#             dataset[\"test\"] = datasets.load_dataset(data_args.task_name, split=\"test\")\n",
    "#             data_splits['test'] = dataset[\"test\"]\n",
    "#         load_train = False\n",
    "#     else:\n",
    "#         dataset = datasets.load_dataset(data_args.task_name, version_arg)\n",
    "\n",
    "#         if data_args.n_shots > 0: # Shots = number of training examples **per label** \n",
    "#             if data_args.task_name == 'esnli': # Construct a *balanced* random sample of the size `data_args.n_shots*len(labels)` (for train) or `data_args.fewshot_eval_size` (for eval)\n",
    "#                 for split in [\"train\", \"validation\", \"test\"]:\n",
    "#                     split_data = dataset[split]\n",
    "#                     label_subsets = []\n",
    "#                     labels = split_data.features['label'].names\n",
    "#                     sample_size = data_args.n_shots if split == \"train\" else int(data_args.fewshot_eval_size/len(labels))\n",
    "#                     if data_args.gpt3_max_eval_size is not None and split != 'train':\n",
    "#                         assert len(labels) == 3\n",
    "#                         sample_size = data_args.gpt3_max_eval_size // len(labels)\n",
    "#                     for label in labels:\n",
    "#                         # The following is a hack to only run on `neutral` labels of `esnli` to get data for human eval\n",
    "#                         # if data_args.gpt3_max_eval_size is not None and split != 'train' and label != 'neutral':\n",
    "#                         #     continue\n",
    "#                         label_int = split_data.features['label'].str2int(label)\n",
    "#                         label_set = split_data.filter(lambda example: example['label'] == label_int).shuffle() # all instances of labeled as `label`\n",
    "#                         label_subset = label_set.select(range(sample_size)) #select `sample_size` random instances labeled as `label`\n",
    "#                         label_subsets.append(label_subset)\n",
    "#                     dataset[split] = datasets.concatenate_datasets(label_subsets) #merge all label-specific instances\n",
    "#             elif data_args.task_name == 'cos_e': \n",
    "#                 for split in [\"train\", \"validation\"]: \n",
    "#                     split_data = dataset[split]\n",
    "#                     sample_size = data_args.n_shots if split == \"train\" else int(data_args.fewshot_eval_size) #Shots for QA are not label-specific, i.e., `n_shots` is the training data size\n",
    "#                     if data_args.gpt3_max_eval_size is not None and split != 'train':\n",
    "#                         sample_size = data_args.gpt3_max_eval_size\n",
    "#                     dataset[split] = split_data#.shuffle().select(range(sample_size)) # select `sample_size` random instances\n",
    "#             else: \n",
    "#                 raise ValueError('Only cos_e and esnli are supported by Huggingface datasets.')\n",
    "#     # Apply method, and format dataset to torch.Tensor outputs\n",
    "# #     fse_csqa_train_file=\"/cognitive_comp/huangyongfeng/evaluate_LM_with_rationalization/few_shot_explanations/data/acceptability_annotations/commonsenseqa_train.csv\"\n",
    "# #     fse_csqa_dev_file=\"/cognitive_comp/huangyongfeng/evaluate_LM_with_rationalization/few_shot_explanations/data/acceptability_annotations/commonsenseqa_test.csv\"\n",
    "# #     fse_csqa_train_dataset = datasets.load_dataset('csv', data_files=fse_csqa_train_file)\n",
    "# #     fse_csqa_dev_dataset = datasets.load_dataset('csv', data_files=fse_csqa_dev_file)\n",
    "# #     train_ids_list=[x['id'] for x in data_splits[\"train\"]]\n",
    "# #     dev_ids_list=[x['id'] for x in data_splits[\"validation\"]]\n",
    "# #     fse_train_ids_list=[x['Input.id'] for x in fse_csqa_train_dataset['train']]\n",
    "# #     fse_dev_ids_list=[x['Input.id'] for x in fse_csqa_dev_dataset['train']]\n",
    "# #     fse_train_indexs_list=[train_ids_list.index(id_) for id_ in fse_train_ids_list]\n",
    "# #     fse_dev_indexs_list=[dev_ids_list.index(id_) for id_ in fse_dev_ids_list]\n",
    "# #     print(len(fse_train_indexs_list), len(fse_dev_indexs_list))\n",
    "# #     # print(fse_train_indexs_list,fse_dev_indexs_list)\n",
    "# #     fse_data_splits={}\n",
    "# #     data_splits['train']=data_splits[\"train\"].select(fse_train_indexs_list)\n",
    "# #     data_splits['validation']=data_splits[\"validation\"].select(fse_train_indexs_list)\n",
    "#     for split in dataset.keys():\n",
    "#         if dataset[split] is not None:\n",
    "#             dataset[split] = dataset[split].map(\n",
    "#                 lambda x: format_instance(\n",
    "#                     x,\n",
    "#                     tokenizer,\n",
    "#                     data_args.explanation_sep,\n",
    "#                     datasource=data_args.task_name,\n",
    "#                     io_format=data_args.io_format\n",
    "#                 ),\n",
    "#                 batched=False,\n",
    "#                 load_from_cache_file=False,\n",
    "#             )\n",
    "#     data_splits[\"train\"] = deepcopy(dataset[\"train\"])\n",
    "#     data_splits[\"validation\"] = deepcopy(dataset[\"validation\"])\n",
    "#     if data_args.task_name == \"esnli\":\n",
    "#         data_splits[\"test\"] = deepcopy(dataset[\"test\"])\n",
    "\n",
    "#     original_data_splits[\"train\"] = deepcopy(dataset[\"train\"])\n",
    "#     original_data_splits[\"validation\"] = deepcopy(dataset[\"validation\"])\n",
    "#     if data_args.task_name == \"esnli\":\n",
    "#         original_data_splits[\"test\"] = deepcopy(dataset[\"test\"])"
   ]
  },
  {
   "cell_type": "code",
   "execution_count": 33,
   "id": "2f4cb867",
   "metadata": {},
   "outputs": [],
   "source": [
    "# import pandas as pd\n",
    "# # new_data_splits={'train': None, 'validation': None}\n",
    "# # new_data_splits['train']=deepcopy(dataset[\"train\"])\n",
    "# # new_data_splits['validation']=deepcopy(dataset[\"validation\"])\n",
    "# fse_csqa_train_file=\"/cognitive_comp/huangyongfeng/evaluate_LM_with_rationalization/few_shot_explanations/data/acceptability_annotations/commonsenseqa_train.csv\"\n",
    "# fse_csqa_dev_file=\"/cognitive_comp/huangyongfeng/evaluate_LM_with_rationalization/few_shot_explanations/data/acceptability_annotations/commonsenseqa_test.csv\"\n",
    "# # fse_csqa_train_dataset = datasets.load_dataset('csv', data_files=fse_csqa_train_file)\n",
    "# # fse_csqa_dev_dataset = datasets.load_dataset('csv', data_files=fse_csqa_dev_file)\n",
    "\n",
    "# train_df=pd.read_csv(fse_csqa_train_file)\n",
    "\n",
    "# dev_df=pd.read_csv(fse_csqa_dev_file)\n",
    "\n",
    "# dev_df\n"
   ]
  },
  {
   "cell_type": "code",
   "execution_count": 34,
   "id": "42739e9b",
   "metadata": {},
   "outputs": [],
   "source": [
    "# len(fse_train_ids_list),len(list(set(fse_train_ids_list)))"
   ]
  },
  {
   "cell_type": "code",
   "execution_count": 35,
   "id": "c78ea825",
   "metadata": {},
   "outputs": [],
   "source": [
    "# train_ids_list=[x['id'] for x in data_splits[\"train\"]]\n",
    "# dev_ids_list=[x['id'] for x in data_splits[\"validation\"]]\n",
    "# fse_train_ids_list=[x['Input.id'] for x in fse_csqa_train_dataset['train']]\n",
    "# fse_dev_ids_list=[x['Input.id'] for x in fse_csqa_dev_dataset['train']]\n"
   ]
  },
  {
   "cell_type": "code",
   "execution_count": 36,
   "id": "80395518",
   "metadata": {},
   "outputs": [],
   "source": [
    "# fse_train_indexs_list=[train_ids_list.index(id_) for id_ in fse_train_ids_list]\n",
    "# fse_dev_indexs_list=[dev_ids_list.index(id_) for id_ in fse_dev_ids_list]\n",
    "# print(len(fse_train_indexs_list), len(fse_dev_indexs_list))\n",
    "# # print(fse_train_indexs_list,fse_dev_indexs_list)\n",
    "# fse_data_splits={}\n",
    "# fse_data_splits['train']=data_splits[\"train\"].select(fse_train_indexs_list)\n",
    "# fse_data_splits['validation']=data_splits[\"validation\"].select(fse_train_indexs_list)"
   ]
  },
  {
   "cell_type": "code",
   "execution_count": 37,
   "id": "4d186954",
   "metadata": {},
   "outputs": [],
   "source": [
    "# fse_csqa_train_dataset['train'][0].keys()"
   ]
  },
  {
   "cell_type": "code",
   "execution_count": 38,
   "id": "66dd71d4",
   "metadata": {},
   "outputs": [],
   "source": [
    "class SequenceCollator:\n",
    "    def __init__(self, model, pad_token):\n",
    "        self.model = model\n",
    "        self.pad_token_mapping = {\n",
    "            \"labels\": -100,\n",
    "            \"attention_mask\": 0,\n",
    "            \"decoder_attention_mask\": 0,\n",
    "            \"input_ids\": pad_token,\n",
    "        }\n",
    "\n",
    "        self.columns = [\n",
    "            \"input_ids\",\n",
    "            \"attention_mask\",\n",
    "            \"labels\",\n",
    "            \"decoder_attention_mask\",\n",
    "        ]\n",
    "\n",
    "    def __call__(self, examples: List[Dict[str, InputDataClass]]) -> Dict[str, torch.Tensor]:\n",
    "        # re-format inputs for training\n",
    "        batch = {}\n",
    "        for key in examples[0].keys():\n",
    "            if key in self.columns:\n",
    "                tmp_list = []\n",
    "                for item in examples:\n",
    "                    tmp_list.append(item[key])\n",
    "\n",
    "                # pad lists to max length\n",
    "                if isinstance(tmp_list[0], list):\n",
    "                    max_length = max(map(len, tmp_list))\n",
    "                    tmp_list = [\n",
    "                        el + [self.pad_token_mapping[key]] * (max_length - len(el))\n",
    "                        for el in tmp_list\n",
    "                    ]\n",
    "\n",
    "                batch[key] = torch.tensor(tmp_list, dtype=torch.long)\n",
    "        return batch"
   ]
  },
  {
   "cell_type": "code",
   "execution_count": 39,
   "id": "f144515d",
   "metadata": {},
   "outputs": [
    {
     "name": "stderr",
     "output_type": "stream",
     "text": [
      "You are adding a <class 'transformers.integrations.TensorBoardCallback'> to the callbacks of this Trainer, but there is already one. The currentlist of callbacks is\n",
      ":DefaultFlowCallback\n",
      "TensorBoardCallback\n",
      "WandbCallback\n",
      "The following columns in the training set  don't have a corresponding argument in `T5ForConditionalGeneration.forward` and have been ignored: answer, question_encoding, choices, abstractive_explanation, id, extractive_explanation, question, our_explanation.\n",
      "***** Running training *****\n",
      "  Num examples = 24\n",
      "  Num Epochs = 25\n",
      "  Instantaneous batch size per device = 8\n",
      "  Total train batch size (w. parallel, distributed & accumulation) = 8\n",
      "  Gradient Accumulation steps = 1\n",
      "  Total optimization steps = 75\n",
      "Automatic Weights & Biases logging enabled, to disable set os.environ[\"WANDB_DISABLED\"] = \"true\"\n"
     ]
    },
    {
     "data": {
      "text/html": [
       "Changes to your `wandb` environment variables will be ignored because your `wandb` session has already started. For more information on how to modify your settings with `wandb.init()` arguments, please refer to <a href=\"https://wandb.me/wandb-init\" target=\"_blank\">the W&B docs</a>."
      ],
      "text/plain": [
       "<IPython.core.display.HTML object>"
      ]
     },
     "metadata": {},
     "output_type": "display_data"
    },
    {
     "data": {
      "text/html": [
       "wandb version 0.13.7 is available!  To upgrade, please run:\n",
       " $ pip install wandb --upgrade"
      ],
      "text/plain": [
       "<IPython.core.display.HTML object>"
      ]
     },
     "metadata": {},
     "output_type": "display_data"
    },
    {
     "data": {
      "text/html": [
       "Tracking run with wandb version 0.13.5"
      ],
      "text/plain": [
       "<IPython.core.display.HTML object>"
      ]
     },
     "metadata": {},
     "output_type": "display_data"
    },
    {
     "data": {
      "text/html": [
       "Run data is saved locally in <code>/cognitive_comp/huangyongfeng/evaluate_LM_with_rationalization/scripts/wandb/run-20230102_215809-33in2guu</code>"
      ],
      "text/plain": [
       "<IPython.core.display.HTML object>"
      ]
     },
     "metadata": {},
     "output_type": "display_data"
    },
    {
     "data": {
      "text/html": [
       "Syncing run <strong><a href=\"https://wandb.ai/cuhk_lavilab/evaluate_LM_with_rationalization/runs/33in2guu\" target=\"_blank\">./cos_e_output_t5_3b</a></strong> to <a href=\"https://wandb.ai/cuhk_lavilab/evaluate_LM_with_rationalization\" target=\"_blank\">Weights & Biases</a> (<a href=\"https://wandb.me/run\" target=\"_blank\">docs</a>)<br/>"
      ],
      "text/plain": [
       "<IPython.core.display.HTML object>"
      ]
     },
     "metadata": {},
     "output_type": "display_data"
    },
    {
     "data": {
      "text/html": [
       "\n",
       "    <div>\n",
       "      \n",
       "      <progress value='75' max='75' style='width:300px; height:20px; vertical-align: middle;'></progress>\n",
       "      [75/75 6:05:25, Epoch 25/25]\n",
       "    </div>\n",
       "    <table border=\"1\" class=\"dataframe\">\n",
       "  <thead>\n",
       "    <tr style=\"text-align: left;\">\n",
       "      <th>Step</th>\n",
       "      <th>Training Loss</th>\n",
       "      <th>Validation Loss</th>\n",
       "    </tr>\n",
       "  </thead>\n",
       "  <tbody>\n",
       "  </tbody>\n",
       "</table><p>"
      ],
      "text/plain": [
       "<IPython.core.display.HTML object>"
      ]
     },
     "metadata": {},
     "output_type": "display_data"
    },
    {
     "name": "stderr",
     "output_type": "stream",
     "text": [
      "Saving model checkpoint to ./cos_e_output_t5_3b/010223_215708/checkpoint-5\n",
      "Configuration saved in ./cos_e_output_t5_3b/010223_215708/checkpoint-5/config.json\n",
      "Model weights saved in ./cos_e_output_t5_3b/010223_215708/checkpoint-5/pytorch_model.bin\n",
      "Saving model checkpoint to ./cos_e_output_t5_3b/010223_215708/checkpoint-10\n",
      "Configuration saved in ./cos_e_output_t5_3b/010223_215708/checkpoint-10/config.json\n",
      "Model weights saved in ./cos_e_output_t5_3b/010223_215708/checkpoint-10/pytorch_model.bin\n",
      "Saving model checkpoint to ./cos_e_output_t5_3b/010223_215708/checkpoint-15\n",
      "Configuration saved in ./cos_e_output_t5_3b/010223_215708/checkpoint-15/config.json\n",
      "Model weights saved in ./cos_e_output_t5_3b/010223_215708/checkpoint-15/pytorch_model.bin\n",
      "Saving model checkpoint to ./cos_e_output_t5_3b/010223_215708/checkpoint-20\n",
      "Configuration saved in ./cos_e_output_t5_3b/010223_215708/checkpoint-20/config.json\n",
      "Model weights saved in ./cos_e_output_t5_3b/010223_215708/checkpoint-20/pytorch_model.bin\n",
      "Saving model checkpoint to ./cos_e_output_t5_3b/010223_215708/checkpoint-25\n",
      "Configuration saved in ./cos_e_output_t5_3b/010223_215708/checkpoint-25/config.json\n",
      "Model weights saved in ./cos_e_output_t5_3b/010223_215708/checkpoint-25/pytorch_model.bin\n",
      "Saving model checkpoint to ./cos_e_output_t5_3b/010223_215708/checkpoint-30\n",
      "Configuration saved in ./cos_e_output_t5_3b/010223_215708/checkpoint-30/config.json\n",
      "Model weights saved in ./cos_e_output_t5_3b/010223_215708/checkpoint-30/pytorch_model.bin\n",
      "Saving model checkpoint to ./cos_e_output_t5_3b/010223_215708/checkpoint-35\n",
      "Configuration saved in ./cos_e_output_t5_3b/010223_215708/checkpoint-35/config.json\n",
      "Model weights saved in ./cos_e_output_t5_3b/010223_215708/checkpoint-35/pytorch_model.bin\n",
      "Saving model checkpoint to ./cos_e_output_t5_3b/010223_215708/checkpoint-40\n",
      "Configuration saved in ./cos_e_output_t5_3b/010223_215708/checkpoint-40/config.json\n",
      "Model weights saved in ./cos_e_output_t5_3b/010223_215708/checkpoint-40/pytorch_model.bin\n",
      "Saving model checkpoint to ./cos_e_output_t5_3b/010223_215708/checkpoint-45\n",
      "Configuration saved in ./cos_e_output_t5_3b/010223_215708/checkpoint-45/config.json\n",
      "Model weights saved in ./cos_e_output_t5_3b/010223_215708/checkpoint-45/pytorch_model.bin\n",
      "Saving model checkpoint to ./cos_e_output_t5_3b/010223_215708/checkpoint-50\n",
      "Configuration saved in ./cos_e_output_t5_3b/010223_215708/checkpoint-50/config.json\n",
      "Model weights saved in ./cos_e_output_t5_3b/010223_215708/checkpoint-50/pytorch_model.bin\n",
      "Saving model checkpoint to ./cos_e_output_t5_3b/010223_215708/checkpoint-55\n",
      "Configuration saved in ./cos_e_output_t5_3b/010223_215708/checkpoint-55/config.json\n",
      "Model weights saved in ./cos_e_output_t5_3b/010223_215708/checkpoint-55/pytorch_model.bin\n",
      "Saving model checkpoint to ./cos_e_output_t5_3b/010223_215708/checkpoint-60\n",
      "Configuration saved in ./cos_e_output_t5_3b/010223_215708/checkpoint-60/config.json\n",
      "Model weights saved in ./cos_e_output_t5_3b/010223_215708/checkpoint-60/pytorch_model.bin\n",
      "Saving model checkpoint to ./cos_e_output_t5_3b/010223_215708/checkpoint-65\n",
      "Configuration saved in ./cos_e_output_t5_3b/010223_215708/checkpoint-65/config.json\n",
      "Model weights saved in ./cos_e_output_t5_3b/010223_215708/checkpoint-65/pytorch_model.bin\n",
      "Saving model checkpoint to ./cos_e_output_t5_3b/010223_215708/checkpoint-70\n",
      "Configuration saved in ./cos_e_output_t5_3b/010223_215708/checkpoint-70/config.json\n",
      "Model weights saved in ./cos_e_output_t5_3b/010223_215708/checkpoint-70/pytorch_model.bin\n",
      "Saving model checkpoint to ./cos_e_output_t5_3b/010223_215708/checkpoint-75\n",
      "Configuration saved in ./cos_e_output_t5_3b/010223_215708/checkpoint-75/config.json\n",
      "Model weights saved in ./cos_e_output_t5_3b/010223_215708/checkpoint-75/pytorch_model.bin\n",
      "\n",
      "\n",
      "Training completed. Do not forget to share your model on huggingface.co/models =)\n",
      "\n",
      "\n"
     ]
    },
    {
     "data": {
      "text/html": [
       "Waiting for W&B process to finish... <strong style=\"color:green\">(success).</strong>"
      ],
      "text/plain": [
       "<IPython.core.display.HTML object>"
      ]
     },
     "metadata": {},
     "output_type": "display_data"
    },
    {
     "data": {
      "text/html": [
       "<style>\n",
       "    table.wandb td:nth-child(1) { padding: 0 10px; text-align: left ; width: auto;} td:nth-child(2) {text-align: left ; width: 100%}\n",
       "    .wandb-row { display: flex; flex-direction: row; flex-wrap: wrap; justify-content: flex-start; width: 100% }\n",
       "    .wandb-col { display: flex; flex-direction: column; flex-basis: 100%; flex: 1; padding: 10px; }\n",
       "    </style>\n",
       "<div class=\"wandb-row\"><div class=\"wandb-col\"><h3>Run history:</h3><br/><table class=\"wandb\"><tr><td>train/epoch</td><td>▁▁▂▂▂▂▃▃▃▄▄▄▅▅▅▅▆▆▆▇▇▇▇███</td></tr><tr><td>train/global_step</td><td>▁▁▂▂▂▂▃▃▃▄▄▄▅▅▅▅▆▆▆▇▇▇▇███</td></tr><tr><td>train/learning_rate</td><td>██▇▇▇▇▆▆▆▅▅▅▅▄▄▄▃▃▃▂▂▂▂▁▁</td></tr><tr><td>train/loss</td><td>█▃▃▃▂▂▂▂▂▂▁▁▁▁▁▁▁▁▁▁▁▁▁▁▁</td></tr><tr><td>train/total_flos</td><td>▁</td></tr><tr><td>train/train_loss</td><td>▁</td></tr><tr><td>train/train_runtime</td><td>▁</td></tr><tr><td>train/train_samples_per_second</td><td>▁</td></tr><tr><td>train/train_steps_per_second</td><td>▁</td></tr></table><br/></div><div class=\"wandb-col\"><h3>Run summary:</h3><br/><table class=\"wandb\"><tr><td>train/epoch</td><td>25.0</td></tr><tr><td>train/global_step</td><td>75</td></tr><tr><td>train/learning_rate</td><td>0.0</td></tr><tr><td>train/loss</td><td>0.2852</td></tr><tr><td>train/total_flos</td><td>341084912713728.0</td></tr><tr><td>train/train_loss</td><td>1.26483</td></tr><tr><td>train/train_runtime</td><td>22286.4717</td></tr><tr><td>train/train_samples_per_second</td><td>0.027</td></tr><tr><td>train/train_steps_per_second</td><td>0.003</td></tr></table><br/></div></div>"
      ],
      "text/plain": [
       "<IPython.core.display.HTML object>"
      ]
     },
     "metadata": {},
     "output_type": "display_data"
    },
    {
     "data": {
      "text/html": [
       "Synced <strong style=\"color:#cdcd00\">./cos_e_output_t5_3b</strong>: <a href=\"https://wandb.ai/cuhk_lavilab/evaluate_LM_with_rationalization/runs/33in2guu\" target=\"_blank\">https://wandb.ai/cuhk_lavilab/evaluate_LM_with_rationalization/runs/33in2guu</a><br/>Synced 6 W&B file(s), 0 media file(s), 0 artifact file(s) and 0 other file(s)"
      ],
      "text/plain": [
       "<IPython.core.display.HTML object>"
      ]
     },
     "metadata": {},
     "output_type": "display_data"
    },
    {
     "data": {
      "text/html": [
       "Find logs at: <code>./wandb/run-20230102_215809-33in2guu/logs</code>"
      ],
      "text/plain": [
       "<IPython.core.display.HTML object>"
      ]
     },
     "metadata": {},
     "output_type": "display_data"
    }
   ],
   "source": [
    "# os.environ[\"WANDB_DISABLED\"] = \"True\"\n",
    "if data_args.generations_filepath is None:\n",
    "    callbacks = [TensorBoardCallback()]\n",
    "    if data_args.early_stopping_patience > 0:\n",
    "        callbacks.append(EarlyStoppingCallback(early_stopping_patience=data_args.early_stopping_patience))\n",
    "        training_args.load_best_model_at_end = True\n",
    "    else:\n",
    "        training_args.load_best_model_at_end = False  # use the last model state\n",
    "    training_args.metric_for_best_model = 'eval_loss'\n",
    "    training_args.greater_is_better = False\n",
    "    if training_args.eval_steps is None:\n",
    "        training_args.evaluation_strategy = EvaluationStrategy.EPOCH\n",
    "    else:\n",
    "        training_args.evaluation_strategy = EvaluationStrategy.STEPS\n",
    "\n",
    "    trainer = Trainer(\n",
    "        model=model,\n",
    "        args=training_args,\n",
    "        train_dataset=our_data_splits['train'],\n",
    "        eval_dataset=our_data_splits['dev'],\n",
    "        data_collator=SequenceCollator(\n",
    "            model=model_class, pad_token=tokenizer.pad_token_id\n",
    "        ),\n",
    "        callbacks=callbacks,\n",
    "    )\n",
    "\n",
    "# Training. Don't train if it is use_gpt3\n",
    "if training_args.do_train and not model_args.use_gpt3:\n",
    "    start_time = time.time()\n",
    "    trainer.train()\n",
    "    train_time = time.time() - start_time\n",
    "    model = trainer.model\n",
    "    wandb.finish()\n",
    "else:\n",
    "    start_time = time.time()\n",
    "    train_time = time.time() - start_time"
   ]
  },
  {
   "cell_type": "code",
   "execution_count": 40,
   "id": "ade3c632",
   "metadata": {},
   "outputs": [],
   "source": [
    "# print(our_data_splits['dev'][0]['our_explanation'])\n",
    "# inp_ids=torch.tensor(our_data_splits['dev'][0][\"input_ids\"], device=model.device).reshape(1, -1)\n",
    "# out = model.generate(\n",
    "#                     inp_ids,\n",
    "#                     max_length=100,\n",
    "#                     pad_token_id=tokenizer.pad_token_id,\n",
    "#                     eos_token_id=tokenizer.eos_token_id,\n",
    "#                 )\n",
    "# skip_special_tokens = False if \"infilling\" in data_args.io_format else True\n",
    "# words = tokenizer.decode(out[0].tolist(), skip_special_tokens=skip_special_tokens)\n",
    "# print(words)"
   ]
  },
  {
   "cell_type": "code",
   "execution_count": 41,
   "id": "b88935f8",
   "metadata": {},
   "outputs": [],
   "source": [
    "# len(our_data_splits['dev']),len(our_data_splits['train'])"
   ]
  },
  {
   "cell_type": "code",
   "execution_count": 42,
   "id": "8eda472b",
   "metadata": {},
   "outputs": [],
   "source": [
    "# our_data_splits['dev']"
   ]
  },
  {
   "cell_type": "code",
   "execution_count": 43,
   "id": "77c15190",
   "metadata": {},
   "outputs": [],
   "source": [
    "# for da in our_data_splits['train']:\n",
    "#     print(\"*******\")\n",
    "#     print(\"question: {}\".format(da['question']))\n",
    "#     print(\"answer: {}\".format(da['answer']))\n",
    "#     print(\"choices: {}\".format(da['choices']))\n",
    "#     print(\"our_explanation: {}\".format(da['our_explanation']))\n",
    "#     inp_ids = torch.tensor(da[\"input_ids\"], device=model.device).reshape(1, -1)\n",
    "#     out = model.generate(\n",
    "#                     inp_ids,\n",
    "#                     max_length=100,\n",
    "#                     pad_token_id=tokenizer.pad_token_id,\n",
    "#                     eos_token_id=tokenizer.eos_token_id,\n",
    "#                 )\n",
    "#     skip_special_tokens = False if \"infilling\" in data_args.io_format else True\n",
    "#     words = tokenizer.decode(out[0].tolist(), skip_special_tokens=skip_special_tokens)\n",
    "#     print(\"generated explanation: {}\".format(words))\n",
    "#     print(\"#######\")"
   ]
  },
  {
   "cell_type": "code",
   "execution_count": 44,
   "id": "2ca6cbe4",
   "metadata": {},
   "outputs": [],
   "source": [
    "# for da in our_data_splits['dev']:\n",
    "#     print(\"*******\")\n",
    "#     print(\"question: {}\".format(da['question']))\n",
    "#     print(\"answer: {}\".format(da['answer']))\n",
    "#     print(\"choices: {}\".format(da['choices']))\n",
    "#     print(\"our_explanation: {}\".format(da['our_explanation']))\n",
    "#     inp_ids = torch.tensor(da[\"input_ids\"], device=model.device).reshape(1, -1)\n",
    "#     out = model.generate(\n",
    "#                     inp_ids,\n",
    "#                     max_length=100,\n",
    "#                     pad_token_id=tokenizer.pad_token_id,\n",
    "#                     eos_token_id=tokenizer.eos_token_id,\n",
    "#                 )\n",
    "#     skip_special_tokens = False if \"infilling\" in data_args.io_format else True\n",
    "#     words = tokenizer.decode(out[0].tolist(), skip_special_tokens=skip_special_tokens)\n",
    "#     print(\"generated explanation: {}\".format(words))\n",
    "#     print(\"#######\")"
   ]
  },
  {
   "cell_type": "code",
   "execution_count": 45,
   "id": "69977540",
   "metadata": {},
   "outputs": [],
   "source": [
    "# good_model = T5ForConditionalGeneration.from_pretrained(\"./cos_e_output_t5_3b/112022_235539/checkpoint-30\")"
   ]
  },
  {
   "cell_type": "code",
   "execution_count": 46,
   "id": "62fca4b8",
   "metadata": {},
   "outputs": [],
   "source": [
    "# for da in our_data_splits['dev']:\n",
    "#     print(\"*******\")\n",
    "#     print(\"question: {}\".format(da['question']))\n",
    "#     print(\"answer: {}\".format(da['answer']))\n",
    "#     print(\"choices: {}\".format(da['choices']))\n",
    "#     print(\"our_explanation: {}\".format(da['our_explanation']))\n",
    "#     inp_ids = torch.tensor(da[\"input_ids\"], device=model.device).reshape(1, -1)\n",
    "#     out = good_model.generate(\n",
    "#                     inp_ids,\n",
    "#                     max_length=100,\n",
    "#                     pad_token_id=tokenizer.pad_token_id,\n",
    "#                     eos_token_id=tokenizer.eos_token_id,\n",
    "#                 )\n",
    "#     skip_special_tokens = False if \"infilling\" in data_args.io_format else True\n",
    "#     words = tokenizer.decode(out[0].tolist(), skip_special_tokens=skip_special_tokens)\n",
    "#     print(\"generated explanation: {}\".format(words))\n",
    "#     print(\"#######\")"
   ]
  },
  {
   "cell_type": "code",
   "execution_count": 47,
   "id": "3a7de102",
   "metadata": {},
   "outputs": [],
   "source": [
    "# train_output = trainer.evaluate(our_data_splits['train'].select([0,1,2,3,4]))\n",
    "# train_output"
   ]
  },
  {
   "cell_type": "code",
   "execution_count": 48,
   "id": "f43528ca",
   "metadata": {},
   "outputs": [],
   "source": [
    "# results = {}\n",
    "# if training_args.do_eval:\n",
    "#     start_time = time.time()\n",
    "#     logger.info(\"*** Evaluate on train set***\")\n",
    "#     logger.info(len(data_splits['train']))\n",
    "#     train_output = trainer.evaluate(our_data_splits['train'])\n",
    "#     perplexity = math.exp(train_output[\"eval_loss\"])\n",
    "#     results[\"perplexity_train\"] = perplexity\n",
    "\n",
    "#     # repeat\n",
    "#     logger.info(\"*** Evaluate on dev set***\")\n",
    "#     logger.info(len(data_splits['validation']))\n",
    "#     eval_output = trainer.evaluate(data_splits['validation'])\n",
    "#     perplexity = math.exp(eval_output[\"eval_loss\"])\n",
    "#     results[\"perplexity_validation\"] = perplexity"
   ]
  },
  {
   "cell_type": "markdown",
   "id": "3d2d2ec9",
   "metadata": {},
   "source": [
    "# Rationale Discriminator"
   ]
  },
  {
   "cell_type": "markdown",
   "id": "bd5eeaa4",
   "metadata": {},
   "source": [
    "## Construction of generated rationale and accepted rationale pairs\n"
   ]
  },
  {
   "cell_type": "code",
   "execution_count": 49,
   "id": "e7f1c257",
   "metadata": {},
   "outputs": [
    {
     "data": {
      "text/plain": [
       "250"
      ]
     },
     "execution_count": 49,
     "metadata": {},
     "output_type": "execute_result"
    }
   ],
   "source": [
    "len(fse_csqa_dev_data_dict)"
   ]
  },
  {
   "cell_type": "code",
   "execution_count": 50,
   "id": "c7bcb573",
   "metadata": {
    "scrolled": false
   },
   "outputs": [
    {
     "name": "stderr",
     "output_type": "stream",
     "text": [
      "\r",
      "  0%|                                                                                                                                                                               | 0/986 [00:00<?, ?it/s]"
     ]
    },
    {
     "name": "stdout",
     "output_type": "stream",
     "text": [
      "*******\n",
      "question: Where can you likely buy many poems?\n",
      "answer: book store\n",
      "choices: ['book of poetry', 'literature book', 'book store', 'poetry book', 'bookshelf']\n",
      "common expl list: ['A book store is a place where you can buy books, including poetry books.', 'A bookstore sells a variety of books, including poetry books; chains of bookstores sometimes specialize in categories such as poetry or literature.']\n"
     ]
    },
    {
     "name": "stderr",
     "output_type": "stream",
     "text": [
      "\r",
      "  0%|▏                                                                                                                                                                 | 1/986 [14:14<233:45:09, 854.32s/it]"
     ]
    },
    {
     "name": "stdout",
     "output_type": "stream",
     "text": [
      "generated explanation: <pad> <extra_id_0> If you are likely to buy many poems, you may be able to find them in book stores. Book stores are places where people go to buy books, magazines, and other types of printed materials, such as poetry books, anthologies, and textbooks. These places often have a wide variety of genres and subject matter, including poetry, memoirs, and fiction. In addition to poetry, you may also find poetry on the internet or in print magazines, such as Poetry magazine or The New Yorker. If you are looking for specific poems, you may find them in a variety of genres or even in a specific genre, such as the subject or a specific author or genre, or even a specific type of poetry, such as a specific author or subject matter, such as a particular theme or theme, such as a particular theme, or a particular theme, or simply browse the pages of poets or simply browse the poems or poets.<extra_id_1> </s>\n",
      "########\n",
      "*******\n",
      "question: What could bringing suit do to a rivalry?\n",
      "answer: aggravation\n",
      "choices: ['going to court', 'randomness', 'anger', 'aggravation', 'tensions']\n",
      "common expl list: ['Bringing suit against a rival could aggravate the rivalry.']\n"
     ]
    },
    {
     "name": "stderr",
     "output_type": "stream",
     "text": [
      "\r",
      "  0%|▎                                                                                                                                                                 | 2/986 [21:24<165:19:15, 604.83s/it]"
     ]
    },
    {
     "name": "stdout",
     "output_type": "stream",
     "text": [
      "generated explanation: <pad> <extra_id_0> A suit could be brought against a rival to further a dispute or to obtain a judicial remedy for a grievance. A suit could be brought against a rival to obtain a judicial remedy for a grievance or to obtain a judicial remedy for a wrong. A suit could be brought against a rival to obtain a judicial remedy for a wrong or to obtain a judicial remedy for a wrong. A suit could be brought against a rival to obtain a judicial remedy for damages, or to a re</s>\n",
      "########\n",
      "*******\n",
      "question: A person who yawns and paces to help pass the time is likely feeling what?\n",
      "answer: boredom\n",
      "choices: ['ridiculous', 'excitement', 'meanness', 'terrorism', 'boredom']\n",
      "common expl list: ['Yawning and pacing is a sign of being bored, etc...', 'By yawning and pacing one shows signs of being bored.', 'A bored person would pace and yawn to make time go by faster.']\n"
     ]
    },
    {
     "name": "stderr",
     "output_type": "stream",
     "text": [
      "\r",
      "  0%|▍                                                                                                                                                                 | 3/986 [30:32<158:02:06, 578.77s/it]"
     ]
    },
    {
     "name": "stdout",
     "output_type": "stream",
     "text": [
      "generated explanation: <pad> <extra_id_0> A person who yawns and paces to help pass the time is likely to be experiencing boredom. Boredom is a common emotional state that is characterized by feelings of a general lack of interest in or enjoyment in the present moment. It can also be a sign of mental fatigue or stress. Boredom is a common emotional response to a lack of activity or stimulation, such as when traveling or when working on a computer. It is common for people to use behaviors such as pacing and yawning to help pass the time.<extra_id_1> </s>\n",
      "########\n",
      "*******\n",
      "question: I only like fiction books, why should I read a non-fiction book?\n",
      "answer: knowledge\n",
      "choices: ['knowledge', 'been printed new', 'many words', 'for fun', 'cover']\n",
      "common expl list: ['Non-fiction books contain knowledge.']\n"
     ]
    },
    {
     "name": "stderr",
     "output_type": "stream",
     "text": [
      "\r",
      "  0%|▋                                                                                                                                                                 | 4/986 [38:55<149:47:35, 549.14s/it]"
     ]
    },
    {
     "name": "stdout",
     "output_type": "stream",
     "text": [
      "generated explanation: <pad> <extra_id_0> If I only like fiction books, why should I read a non-fiction book? Because I like to learn new things and gain new perspectives. I also like to learn about different cultures and traditions, and I enjoy learning about different cultures and perspectives. I also enjoy reading about different people and cultures. I enjoy learning about different cultures and people, and I enjoy learning about different perspectives on various issues and issues. I enjoy reading different types of books, and I enjoy different types of books. I enjoy different types of books, and I enjoy different types of books. If I only read fiction, why should I read a non-fiction book? Because it is important to gain knowledge and expand my knowledge and understanding of a topic.<extra_id_1> </s>\n",
      "########\n",
      "*******\n",
      "question: An American might hike a mountain north to get to what?\n",
      "answer: canada\n",
      "choices: ['canada', 'switzerland', 'orlando', 'austria', 'surface of earth']\n",
      "common expl list: ['If an American hiked north, they would likely end up in Canada.']\n"
     ]
    },
    {
     "name": "stderr",
     "output_type": "stream",
     "text": [
      "\r",
      "  1%|▊                                                                                                                                                                 | 5/986 [48:03<149:29:24, 548.59s/it]"
     ]
    },
    {
     "name": "stdout",
     "output_type": "stream",
     "text": [
      "generated explanation: <pad> <extra_id_0> An American might hike a mountain north to get to Canada. Canada is a country in North America. It is a country that is located in North America. It is the largest country in North America, and it is the third largest country in terms of land area, after Alaska and Hawaii. In the United States, Americans might hike a mountain north to get to Canada, which is the second largest country in terms of land area, after Alaska. Canada is the second largest country in terms of land area, after Alaska, and is located in the northernmost province in the United States.<extra_id_1> </s>\n",
      "########\n",
      "*******\n",
      "question: Sam spent most of his time standing up.  His job was hectic and he never got any rest. But he was the best cashier at his workplace.    Where might he work?\n",
      "answer: supermarket\n",
      "choices: ['bookstore', 'count till', 'supermarket', 'shop', 'preschool']\n",
      "common expl list: ['Since one spends most of his time standing when working as a cashier, Sam probably works at a supermarket where groceries are sold. Because his workplace is full of activities and punten, he never gets any rest.', \"The best cashiers work setting up lines of products, yhis is usually done from being on one's feet. Supermarkets use till systems to swipe credit cards, thus cashiering is done by standing up.\"]\n"
     ]
    },
    {
     "name": "stderr",
     "output_type": "stream",
     "text": [
      "\r",
      "  1%|▉                                                                                                                                                               | 6/986 [1:03:49<186:08:16, 683.77s/it]"
     ]
    },
    {
     "name": "stdout",
     "output_type": "stream",
     "text": [
      "generated explanation: <pad> <extra_id_0> Sam worked as a cashier at a supermarket. A supermarket is a large store that is primarily devoted to selling food and other items. The job is often physically demanding and often involves a lot of standing and moving around. As a cashier, your job is to process orders and collect payments from customers. You may be required to stand for long periods of time in order to complete your transactions. You may be required to work in a variety of different positions, such as cashier, checker, or register, and you may be a supermarket is a good fit for Sam. Sam worked as a cashier at a supermarket as a supermarket is a busy workplace and a busy place where Sam worked. He was the best cashier at his workplace. A supermarket is a place where Sam worked as a busy place where you are seeking employment opportunities to learn new skills and learn about Sam and his experience.<extra_id_1> s.. He was the best at his job and he was a well-reg. He was the best in his. He was the most likely to.. a.<extra_id_14>.<extra_id_15> </s>\n",
      "########\n",
      "*******\n",
      "question: James raked fallen leaves into a pile. Where might he leave the pile?\n",
      "answer: ground\n",
      "choices: ['forest', 'roof', 'garden', 'tree', 'ground']\n",
      "common expl list: ['Leaves are often raked into piles on the ground.']\n"
     ]
    },
    {
     "name": "stderr",
     "output_type": "stream",
     "text": [
      "\r",
      "  1%|█▏                                                                                                                                                              | 7/986 [1:13:48<178:22:08, 655.90s/it]"
     ]
    },
    {
     "name": "stdout",
     "output_type": "stream",
     "text": [
      "generated explanation: <pad> <extra_id_0> If James raked fallen leaves into a pile, he might leave the pile on the ground. The ground is a flat, level area that is usually used for walking, running, or other types of outdoor activity. Fallen leaves can be raked into a pile by raking them up and placing them in a pile. The pile may be made of loosely packed material, such as dirt, sand, or other debris. The pile may be left on the ground or it may be placed on top of the pile of leaves on the ground. James might leave the pile there, or it may be placed in another location, such as a park or other nearby. If James leaves the pile on the ground, the pile is likely to be located in a park or other outdoor location, such as a lawn.<extra_id_1> </s>\n",
      "########\n",
      "*******\n",
      "question: What happens when we fail at something we attempt?\n",
      "answer: leave\n",
      "choices: ['leave', 'give up', 'trying', 'we get shunned', 'fail']\n",
      "common expl list: ['If we fail at something, we usually leave (quit) that activity; failing is an action, while giving up and trying are both ways of not acting.', \"If we engage in an activity, like a sport, and fail, we don't want to continue doing it. It's much easier simply to leave.\"]\n"
     ]
    },
    {
     "name": "stderr",
     "output_type": "stream",
     "text": [
      "\r",
      "  1%|█▎                                                                                                                                                              | 8/986 [1:23:04<169:32:47, 624.10s/it]"
     ]
    },
    {
     "name": "stdout",
     "output_type": "stream",
     "text": [
      "generated explanation: <pad> <extra_id_0> When we fail at something we attempt, we usually leave it at that. If we fail at something we attempt, we usually leave it at that. If we fail at something we attempt, we usually leave it at that. If we fail at something we attempt and fail, we usually leave it at that. Failure to succeed in something we attempt usually means that we have failed at that particular task or task. Failure to succeed in something often means that we have failed at a particular skill or area of the task that we were attempting. Failure to succeed at it; however, and we may leave it.<extra_id_1> </s>\n",
      "########\n",
      "*******\n",
      "question: The referee wasn't specialized in one thing. He refereed many games.  He was offered a job but wasn't sure what it would be.  What did he know it would be?\n",
      "answer: sporting event\n",
      "choices: ['side with opponent', 'football', 'hockey game', 'part two boxers', 'sporting event']\n",
      "common expl list: ['Referees are specialized in sports, and so, they would be expected to know how to referee a sporting event.']\n"
     ]
    },
    {
     "name": "stderr",
     "output_type": "stream",
     "text": [
      "\r",
      "  1%|█▍                                                                                                                                                              | 9/986 [1:30:00<151:44:52, 559.15s/it]"
     ]
    },
    {
     "name": "stdout",
     "output_type": "stream",
     "text": [
      "generated explanation: <pad> <extra_id_0> He knew it would be a job that involved refereeing a game or game. A game is a type of sporting event that takes place on a specific type of field or court. A game referee is a person who oversees the play of a game or match, usually a sporting event such as a football game, basketball game, baseball game, hockey game, or soccer match. Referees are often specialized in one type of game or activity, such as basketball, soccer, or baseball.<extra_id_1> </s>\n",
      "########\n",
      "*******\n",
      "question: Susan threw the highly elastic ball at the wall.  The ball did what?\n",
      "answer: rebound\n",
      "choices: ['bounce', 'recoil', 'rebound', 'underwear', 'stretch']\n",
      "common expl list: ['Elastic balls collide with the wall, and boom bounce back after a collision.']\n"
     ]
    },
    {
     "name": "stderr",
     "output_type": "stream",
     "text": [
      "\r",
      "  1%|█▌                                                                                                                                                             | 10/986 [1:42:54<169:31:18, 625.29s/it]"
     ]
    },
    {
     "name": "stdout",
     "output_type": "stream",
     "text": [
      "generated explanation: <pad> <extra_id_0> Susan threw the highly elastic ball at the wall. The ball did not bounce off the wall. Instead, it remained in place. The ball was highly elastic and had a high modulus of elasticity. This allows it to move with great flexibility and dexterity, and to respond to forces and forces applied to it by the wall. The ball was highly elastic and had a high modulus of elasticity, allowing it to bounce back and forth against the wall. This allowed the ball to maintain its shape and provide support to the wall and bounce back to Susan. Susan threw the ball at the wall. The ball did not rebound, but instead, a high-quality wall. It was highly elastic and had a high defltas, a great deal of afeadawaited, and afe</s>\n",
      "########\n",
      "*******\n",
      "question: John lived in a small island surrounded by flowing liquid H2O   Where might he live?\n",
      "answer: mississippi river\n",
      "choices: ['japan', 'hawaii', 'mississippi river', 'pacific ocean', 'body of water']\n",
      "common expl list: ['there are numerous islands in the mississippi river in the united states, making it possible that John may have lived on one.']\n"
     ]
    },
    {
     "name": "stderr",
     "output_type": "stream",
     "text": [
      "\r",
      "  1%|█▊                                                                                                                                                             | 11/986 [1:56:09<183:27:39, 677.39s/it]"
     ]
    },
    {
     "name": "stdout",
     "output_type": "stream",
     "text": [
      "generated explanation: <pad> <extra_id_0> If John lived in a small island surrounded by flowing liquid H2O, he might live in a small island surrounded by flowing liquid H2O. The Mississippi River is a large body of water that drains from the southern United States. It is located in the southern United States and is a major source of water for the state of Mississippi. It is home to many rivers and lakes, as well as many smaller rivers and streams. The river is home to many different species of fish, including many species of fish that are native to the region. It is a popular destination for tourists, who want to see the beauty of the environment and the wildlife that can be found there. John could have lived in a small island surrounded by flowing water. If he was a small island surrounded by flowing H2O, his homestead would be surrounded by water on a small island surrounded by moving water and a popular tourist destination for photographers.<extra_id_1> </s>\n",
      "########\n",
      "*******\n",
      "question: What will the student have to do on the test?\n",
      "answer: solve equation\n",
      "choices: ['finish college', 'begin teaching', 'write', 'answer question', 'solve equation']\n",
      "common expl list: ['A student has to solve equations to learn a given theory that is presented in class.']\n"
     ]
    },
    {
     "name": "stderr",
     "output_type": "stream",
     "text": [
      "\r",
      "  1%|█▉                                                                                                                                                             | 12/986 [2:03:58<166:06:02, 613.92s/it]"
     ]
    },
    {
     "name": "stdout",
     "output_type": "stream",
     "text": [
      "generated explanation: <pad> <extra_id_0> On the test, the student will have to<extra_id_1> Solve an equation. Solve an equation is a mathematical operation that involves putting numbers and letters together to form a meaningful<extra_id_1>. The student will have to do this by completing a set of problems or problems that are based on numerical values, such as a slope or area equation. The goal of the test is to measure how well the student can apply mathematical concepts and principles to the solution of real-world problems. Solve an equation is a mathematical operation that involves the student to use their knowledge to solve the equation.<extra_id_1> </s>\n",
      "########\n",
      "*******\n",
      "question: The tourists saw what they thought was a statue, but they soon discovered it was performance art went it began what?\n",
      "answer: moving\n",
      "choices: ['growing mold', 'moving', 'accent garden', 'green', 'painting']\n",
      "common expl list: ['Performance art is art that is performed, rather than being a static object. In this case, the statue was moving, which is a sign of performance art.']\n"
     ]
    },
    {
     "name": "stderr",
     "output_type": "stream",
     "text": [
      "\r",
      "  1%|██                                                                                                                                                             | 13/986 [2:12:08<155:49:26, 576.53s/it]"
     ]
    },
    {
     "name": "stdout",
     "output_type": "stream",
     "text": [
      "generated explanation: <pad> <extra_id_0> The tourists soon discovered what they thought was a statue, but they soon discovered it was performance art. Performance art is when a piece of art is put on display and then it is moved or manipulated by another person or group of people. This can be done in a variety of ways, such as through lighting, sound, and movement. Performance art is art that is displayed or is used in a public setting and it is often used as a form of public art. When tourists see statues or other pieces of art that are moved or changed appearance, or are otherwise altered.<extra_id_1> </s>\n",
      "########\n",
      "*******\n",
      "question: What is a good way to carry a small dog?\n",
      "answer: backpack\n",
      "choices: ['good hands', 'backpack', 'chinese food', 'grocery bag', 'basket']\n",
      "common expl list: ['Backpacks are a good way to carry things, and small dogs are things.']\n"
     ]
    },
    {
     "name": "stderr",
     "output_type": "stream",
     "text": [
      "\r",
      "  1%|██▎                                                                                                                                                            | 14/986 [2:34:21<217:17:46, 804.80s/it]"
     ]
    },
    {
     "name": "stdout",
     "output_type": "stream",
     "text": [
      "generated explanation: <pad> <extra_id_0> A good way to carry a small dog is in a backpack. A backpack is a lightweight, carrying case that is designed for carrying items such as a small dog, book, or other personal item. A backpack is often a good choice for pet owners who want to transport their dog anywhere, at any time, without having to worry about damaging the dog or the backpack. A backpack is a good choice for carrying a small dog because it is lightweight, carrying capacity is high, and it provides a secure way to carry the pet dog and its owner, and is a good way to carry a small dog in a crate or crate, or a carrier that is designed to carry the pet dog in a crate, or other pet in a crate, or in a comfortable and secure way to carry the pet in a safe and secure position, such as in a crate, or a crate, crate, crate, in a crate, and a dog crate, and is crate, or to provide a crate, and is a small, small, or to a pet carrier can be used to a crate can be used to a pet crate, or a dog crate, and to a crate</s>\n",
      "########\n",
      "*******\n",
      "question: Both sides in World War I used what to cause death that is now banned?\n",
      "answer: poisonous gas\n",
      "choices: ['homicide', 'poisonous gas', 'cyanide', 'nuclear weapons', 'massive weapons']\n",
      "common expl list: ['Poison gas is a chemical known for its ability to kill (therefore, if both sides used it, people on both sides died from its use), and it has since gone on to be outlawed in many countries.']\n"
     ]
    },
    {
     "name": "stderr",
     "output_type": "stream",
     "text": [
      "\r",
      "  2%|██▍                                                                                                                                                            | 15/986 [2:43:54<198:16:00, 735.08s/it]"
     ]
    },
    {
     "name": "stdout",
     "output_type": "stream",
     "text": [
      "generated explanation: <pad> <extra_id_0> Both sides in World War I used what is now banned? Poisonous gas. Poisonous gas is a type of gas that is used to cause death by causing the release of toxic substances into the air. Poisons are used in the production of various types of gasses, including those used in World War I. In World War I, both sides in the conflict used poisonous gas to fight each other. In World War I, both sides used the same types of gas to fight each other, and both sides used the same types of gas attacks and other methods to cause death and injury. In the event of a war, the use of weapons and gas attacks were commonplaced.<extra_id_1> </s>\n",
      "########\n",
      "*******\n",
      "question: Where is disease often spread but shouldn't be?\n",
      "answer: hospital\n",
      "choices: ['ghost town', 'third world country', 'human body', 'rug', 'hospital']\n",
      "common expl list: ['Hospitals are places where people go to get better, and therefore disease is often spread there.', 'Disease is spread most commonly in hospitals, where sick patients are treated and recovered hosts of disease are found.']\n"
     ]
    },
    {
     "name": "stderr",
     "output_type": "stream",
     "text": [
      "\r",
      "  2%|██▌                                                                                                                                                            | 16/986 [2:51:34<175:46:55, 652.39s/it]"
     ]
    },
    {
     "name": "stdout",
     "output_type": "stream",
     "text": [
      "generated explanation: <pad> <extra_id_0> In hospitals, disease is spread through contact with others, such as through cough, cold, or other symptoms. In these settings, it is important to monitor the presence of<extra_id_1> new infections and to take appropriate measures to prevent the spread of disease.<extra_id_1> In hospitals, it is important to monitor the presence of<extra_id_1> new infections and to take appropriate measures to prevent their spread. In hospitals, it is important to understand that many different types of infections can occur, and that they may be associated with certain types of risk factors, such as infection rate, source, and treatment is often necessary to prevent the spread of disease and transmission of disease.</s>\n",
      "########\n",
      "*******\n",
      "question: As things get colder, temperature does what?\n",
      "answer: drop to zero\n",
      "choices: ['increase', 'drop to zero', 'heat up', 'dropping quickly', 'arctic']\n",
      "common expl list: ['As things get colder, they get closer to zero degrees.']\n"
     ]
    },
    {
     "name": "stderr",
     "output_type": "stream",
     "text": [
      "\r",
      "  2%|██▋                                                                                                                                                            | 17/986 [2:59:54<163:12:15, 606.33s/it]"
     ]
    },
    {
     "name": "stdout",
     "output_type": "stream",
     "text": [
      "generated explanation: <pad> <extra_id_0> As things get colder, temperature tends to drop to zero. Temperature is a measure of how much warmer or cooler something is when it is outside relative to the surrounding air. Colder temperatures are typically associated with lower humidity and more stable air temperatures. As temperatures drop, so does the likelihood of frostbite or other forms of frostbite. Cold temperatures are typically associated with lower relative humidity and higher air temperatures. As temperatures drop, so do the chances that it will become dangerously cold or even dangerously cold. As temperatures are lower, the lower the temperature is likely that they will be.<extra_id_1> </s>\n",
      "########\n",
      "*******\n",
      "question: Where is one unlikely to get popcorn?\n",
      "answer: soccer game\n",
      "choices: ['restaurant', 'movie house', 'soccer game', 'carnival', 'movie theater']\n",
      "common expl list: ['Most soccer games lack concession stands, which are necessary to sell movie theaters popcorn.', 'Soccer games usually lack popcorn machines.', 'Soccer games are usually snacks-free affairs; snacks, including popcorn, tend to be present at more recreational venues, but less so in settings where food is unnecessary because there are translatable goods sellers, i.e., vendors that sell things like popcorn']\n"
     ]
    },
    {
     "name": "stderr",
     "output_type": "stream",
     "text": [
      "\r",
      "  2%|██▉                                                                                                                                                            | 18/986 [3:08:08<154:00:05, 572.73s/it]"
     ]
    },
    {
     "name": "stdout",
     "output_type": "stream",
     "text": [
      "generated explanation: <pad> <extra_id_0> It is unlikely that one would find popcorn at a soccer game. Soccer games are competitive sporting events that typically draw large crowds of people and often feature loud, fast-paced action and action. The game is often characterized by fast-paced action and exciting moments, such as the scoring of a goal or the kicking of the ball. If you are a soccer fan, you may find that popcorn at a soccer game is an unusual way to enjoy the game. Popcorn is often sold as a snack food item, often served as an additional food item.<extra_id_1> </s>\n",
      "########\n",
      "*******\n",
      "question: Where are files likely to be hanging?\n",
      "answer: filing cabinet\n",
      "choices: ['filing cabinet', 'tree', 'suitcase', 'computer', 'desk drawer']\n",
      "common expl list: ['Files are likely to be hanging in a filing cabinet, since they are often organized by topic, and filing cabinets are often used to organize files.', 'Filing cabinets are used to store files sometimes; these files can then be found by opening the filing cabinet and looking for hanging folders.']\n"
     ]
    },
    {
     "name": "stderr",
     "output_type": "stream",
     "text": [
      "\r",
      "  2%|███                                                                                                                                                            | 19/986 [3:24:07<184:59:46, 688.71s/it]"
     ]
    },
    {
     "name": "stdout",
     "output_type": "stream",
     "text": [
      "generated explanation: <pad> <extra_id_0> Files are typically stored in filing cabinets or other types of storage where they are organized and stored in a controlled environment. Files may be stored electronically or physically, such as on a hard drive, DVD, CD, or other digital storage device. Files may be organized by type, subject, or location, and may be stored in a variety of ways, such as in a locked cabinet or on a wall-mounted cabinet, or in a combination of electronic and physical storage devices, such as a server, cloud, or in a filing system or organized by the user. If files are stored in a secure location, they are usually located in a filing cabinet or other secure and accessible by a user, such as in a filing cabinet or other secure storage and are accessed by authorized users, or by a legal or organizational system, or removable and accessible by others, they are likely to be accessed by a filing system, and access to the information, or in a removable, or a combination of cabinets, they may be a a a a re</s>\n",
      "########\n",
      "*******\n",
      "question: What is required to go on vacation before anything else?\n",
      "answer: have money\n",
      "choices: ['pack', 'pay bills', 'save money', 'have money', 'reliable car']\n",
      "common expl list: ['Vacations often require the purchase of travel services, such as airline or hotel tickets.']\n"
     ]
    },
    {
     "name": "stderr",
     "output_type": "stream",
     "text": [
      "\r",
      "  2%|███▏                                                                                                                                                           | 20/986 [3:30:54<162:06:23, 604.12s/it]"
     ]
    },
    {
     "name": "stdout",
     "output_type": "stream",
     "text": [
      "generated explanation: <pad> <extra_id_0> Money is required to go on vacation before anything else. Vacation is a time for relaxing and rejuvenating, and it is a great way to unwind and enjoy yourself. Vacation is a time when people get together to relax and unwind, and to enjoy the outdoors and other activities that are enjoyable and relaxing. Money is used for travel, entertainment, and other purposes, and it is important to have enough money to go on vacation and have enough to last you for several weeks or even months. Money is an important factor in determining whether or not a vacation is a possible future destination, and it is required to have money before anything else.<extra_id_1> –<extra_id_1> </s>\n",
      "########\n",
      "*******\n",
      "question: The roadway passed a sign and gate house, what was behind the gatehouse?\n",
      "answer: subdivision\n",
      "choices: ['city', 'narnia', 'subdivision', 'neighborhood', 'countryside']\n",
      "common expl list: ['A subdivision contains houses that formed around it; therefore, a subdivision has a gatehouse that controls who goes in and out.', 'Subdivisions are residential areas that are often gated, and so, if you see a gatehouse, you might be in a subdivision.']\n"
     ]
    },
    {
     "name": "stderr",
     "output_type": "stream",
     "text": [
      "\r",
      "  2%|███▍                                                                                                                                                           | 21/986 [3:43:15<172:56:16, 645.16s/it]"
     ]
    },
    {
     "name": "stdout",
     "output_type": "stream",
     "text": [
      "generated explanation: <pad> <extra_id_0> The roadway passed a sign and gate house, which was behind the gatehouse. The subdivision was a residential area that was behind the gatehouse. The subdivision was a residential community that was behind the gatehouse. The subdivision was a residential neighborhood that was home to several different types of homes. The homes in the subdivision were located in different neighborhoods and there was a gate house at the entrance to each neighborhood. The gate house was a structure that was used as a gatehouse for access to the various neighborhoods. The gatehouse was a private gated entryway for residents of the subdivision was a private road and the public road was closed to traffic. The roadway passed by the subdivision and the road. The subdivision was a private road. The subdivision was a subdivision that was located within the subdivision and it was a subdivision, which was a residential subdivision. The subdivision was a subdivision and it was a gated community.<extra_id_1> </s>\n",
      "########\n",
      "*******\n",
      "question: The invasive A.I. was designed to scan the crowd, where most saw a mass of humanity the evil machine could pick out each what?\n",
      "answer: individual\n",
      "choices: ['solitary', 'single person', 'few people', 'crowd', 'individual']\n",
      "common expl list: [\"Machine intelligence is better able to find isolated individuals than crowded groups. Machines need to scan a large group of people to be able to find a single person--but when the single person doesn't blend in, it makes them easier to find.\"]\n"
     ]
    },
    {
     "name": "stderr",
     "output_type": "stream",
     "text": [
      "\r",
      "  2%|███▌                                                                                                                                                           | 22/986 [3:56:38<185:28:11, 692.63s/it]"
     ]
    },
    {
     "name": "stdout",
     "output_type": "stream",
     "text": [
      "generated explanation: <pad> <extra_id_0> The invasive A.I. was designed to scan the crowd, where most saw a mass of humanity. The evil machine could pick out each individual in the crowd, where most saw a mass of humanity. The invasive A.I. was designed to scan the crowd, where most saw a mass of humanity. The evil machine was designed to pick out each individual in the crowd, where most saw a mass of humanity. The machine could then pick out each individual in the crowd, where most saw a mass of humanity. The crowd was designed to identify each person in the crowd, and then identify them. The crowd was designed to scan the crowd, and identify them. The invasive A.I. was designed to scan the crowd, and identify them, and identify them, and then a specific group, or group, in the crowd, in order to identify them, and then identify them. The invasive algorithm was designed to<extra_id_13> and analyze the crowd, and identify the<extra_id_14> a specific person, or group, in the invasive<extra_id_15> </s>\n",
      "########\n",
      "*******\n",
      "question: Is has been speculated that a aliens could be communicating by doing this?\n",
      "answer: thinking\n",
      "choices: ['effort', 'farting', 'thinking', 'laugh', 'medium']\n",
      "common expl list: ['Aliens could quite possibly be using thought as a way to communicate between themselves.']\n"
     ]
    },
    {
     "name": "stderr",
     "output_type": "stream",
     "text": [
      "\r",
      "  2%|███▋                                                                                                                                                           | 23/986 [4:08:12<185:24:14, 693.10s/it]"
     ]
    },
    {
     "name": "stdout",
     "output_type": "stream",
     "text": [
      "generated explanation: <pad> <extra_id_0> It has been speculated that aliens could be communicating by doing this. Thinking is the process of analyzing and interpreting sensory information, such as light, sound, and movement. Thinking is also a form of communication that involves the use of mental processes, such as language, thinking, and problem solving. Thinking is a cognitive process that involves the use of mental processes such as perception, analysis, and synthesis of information. Thinking is a form of communication that involves the active use of mental processes such as memory, attention, and reasoning. It is possible that aliens could be communicating with their craftworkstations or by engaging in other forms of communication, such as a spinning, or by a dimensional beings such as dimensional beings in a physical location, or by other types of technology, such as a technological device, to send and receive signals, or by using a spacecraft, such as a</s>\n",
      "########\n",
      "*******\n",
      "question: What can occur in fencing if you are not careful?\n",
      "answer: severe injuries\n",
      "choices: ['competition', 'severe injuries', 'fever', 'perspiration', 'small cuts']\n",
      "common expl list: ['Fencing is a sport, which involves hitting your opponent with a sharp piece of metal, which will almost certainly result in some physical pain.', 'Fencing is a sport that involves hitting your opponent with a sword, and if you are not careful, you can get injured.', 'The sport of fencing causes people to be hit by weapons, which may cause cuts or other wounds if someone is not careful.']\n"
     ]
    },
    {
     "name": "stderr",
     "output_type": "stream",
     "text": [
      "\r",
      "  2%|███▊                                                                                                                                                           | 24/986 [4:17:41<175:11:51, 655.62s/it]"
     ]
    },
    {
     "name": "stdout",
     "output_type": "stream",
     "text": [
      "generated explanation: <pad> <extra_id_0> If you are not careful in fencing, you may suffer severe injuries. In fencing, you may suffer severe injuries if you are not careful. In fencing, you may suffer severe injuries if you are not careful. Fencing is a sport that requires precision and skill, and it requires a high level of training and attention to detail. If you are not careful, you may experience severe injuries if you are not careful. In fencing, you may encounter severe injuries if you are not careful. This can include broken bones, severe burns, and other serious injuries. If you are not careful, you may suffer serious injuries or worse. Injuries can occur in the event of a fencer. During the competition, you may also experience severe injuries.<extra_id_1> </s>\n",
      "########\n",
      "*******\n",
      "question: If you stretch out your socks they will then have what kind of fit?\n",
      "answer: loose\n",
      "choices: ['cramped', 'loose', 'contract', 'park', 'compressing']\n",
      "common expl list: ['When stretched out, socks will be loose.']\n"
     ]
    },
    {
     "name": "stderr",
     "output_type": "stream",
     "text": [
      "\r",
      "  3%|████                                                                                                                                                           | 25/986 [4:25:14<158:48:04, 594.88s/it]"
     ]
    },
    {
     "name": "stdout",
     "output_type": "stream",
     "text": [
      "generated explanation: <pad> <extra_id_0> If you stretch out your socks they will then have a loose fit. A loose fit is a type of fit that is characterized by a broader fit and looser fit. If you stretch your socks they will then have a wider fit and feel more comfortable. If you stretch your socks they will also have a broader fit and feel more comfortable. If you stretch out your socks they will also have a wider fit and feel more comfortable. If you stretch your socks they will also have a wider fit and feel more comfortable. They will also be more comfortable and will be more comfortable to wear. They will also be more comfortable to wear. They will have a more comfortable and comfortable fit.<extra_id_1> </s>\n",
      "########\n",
      "*******\n",
      "question: John ran out of pencils.  Where did  he go to get more?\n",
      "answer: office depot\n",
      "choices: ['desk drawer', 'cup', 'pencil case', 'shelf', 'office depot']\n",
      "common expl list: ['Pencils can be found at an office supply store, e.g., an office depot.', 'Office Depot is a store that sells office supplies, including pencils.', 'John can buy new pencils at an office depot.', 'When people need pencils (or pens), they often buy them at office depots.', 'Office Depot is a company that specializes in office furniture; it also sells pens and pencils.']\n"
     ]
    },
    {
     "name": "stderr",
     "output_type": "stream",
     "text": [
      "\r",
      "  3%|████▏                                                                                                                                                          | 26/986 [4:37:58<172:12:00, 645.75s/it]"
     ]
    },
    {
     "name": "stdout",
     "output_type": "stream",
     "text": [
      "generated explanation: <pad> <extra_id_0> John ran out of pencils. He went to office depot to get more. Office depot is a store that sells office supplies, such as pencils, paper, and other writing supplies. Office depot is a place where people can go to get a variety of different types of office supplies, such as pencils, erasers, and more. Pencils, pencils, and other writing supplies, such as colored pencils, HB, and B leads. When John ran out of pencils, he went to Office Depot to buy more. He went to get more. Whether he went to get more, or to get more, he went to buy more, he went to the store, where he could find more. The store may also carry a variety of other supplies, such as a stocked inventory of a variety of different types of refillable and a variety of other supplies, such as a variety of other types of<extra_id_16>, and/or to get more.<extra_id_1> </s>\n",
      "########\n",
      "*******\n",
      "question: What does a confident person do?\n",
      "answer: trust himself\n",
      "choices: ['feel important', 'own house', 'trust himself', 'know what time', 'cry']\n",
      "common expl list: ['A confident person is sure of his abilities and the trust in himself/herself to do things or accomplish goals.', 'People whose confidence is high tend to believe themselves more strongly, and so the confident person might believe in their own abilities and do things such as trust themselves.']\n"
     ]
    },
    {
     "name": "stderr",
     "output_type": "stream",
     "text": [
      "\r",
      "  3%|████▎                                                                                                                                                          | 27/986 [4:45:43<157:35:08, 591.56s/it]"
     ]
    },
    {
     "name": "stdout",
     "output_type": "stream",
     "text": [
      "generated explanation: <pad> <extra_id_0> A confident person is someone who is comfortable with themselves and their abilities. It is important for a person to be confident in their own abilities and abilities. Being confident is a positive trait that can lead to a positive emotional state and improve their overall well-being. Being confident is also a good indicator of a person’s maturity and ability to make good decisions. Being confident is a sign of having the capacity to make good choices and decisions that are in their best interests. Being confident is a good indicator of being able to make good decisions. It is important to remember that confidence is important to maintain a positive attitude and attitude.<extra_id_1> </s>\n",
      "########\n",
      "*******\n",
      "question: James thought that analyzing all the data would help him learn more, but it did not.  It only gave him what?\n",
      "answer: headache\n",
      "choices: ['headache', 'better understanding', 'papercuts', 'enlightened', 'discovering truth']\n",
      "common expl list: ['Analysis requires a lot of thinking with maybe little reward, which can give one a headache.']\n"
     ]
    },
    {
     "name": "stderr",
     "output_type": "stream",
     "text": [
      "\r",
      "  3%|████▌                                                                                                                                                          | 28/986 [4:59:08<174:27:44, 655.60s/it]"
     ]
    },
    {
     "name": "stdout",
     "output_type": "stream",
     "text": [
      "generated explanation: <pad> <extra_id_0> James thought that analyzing all the data would help him learn more, but it did not. It only gave him headaches. James thought that analyzing all the data would help him learn more, but it did not. It only gave him headaches because it did not help him learn more. It only gave him headaches because it did not help him learn more. It only gave him headaches because it did not help him learn more. It only gave him headaches because it did not help him learn more. James thought that analyzing all the data would help him learn more, but it gave him a headache. He was not able to learn more. He thought that it would help him learn more, but it did not. It only gave him a headache. He did not learn more. It only gave him a headache because it did not help him to learn more, but rather a headache. It did not help him a headaches. He thought that it would help him learn more, but rather than a headaches would give him a headaches</s>\n",
      "########\n",
      "*******\n",
      "question: What makes people happy when it is surprising and unexpected?\n",
      "answer: humor\n",
      "choices: ['joke', 'humor', 'frightened', 'fight', 'laughter']\n",
      "common expl list: ['A surprise is a stimulus that is not generally predicted before exposing it to a subject. It may be surprising things that cause laughter, or unexpected things that people see as funny.']\n"
     ]
    },
    {
     "name": "stderr",
     "output_type": "stream",
     "text": [
      "\r",
      "  3%|████▋                                                                                                                                                          | 29/986 [5:08:49<168:17:41, 633.08s/it]"
     ]
    },
    {
     "name": "stdout",
     "output_type": "stream",
     "text": [
      "generated explanation: <pad> <extra_id_0> When something is surprising and unexpected, it usually makes people happy. People are happy when they are surprised and unexpected, and this is often the case when something is unexpected and unexpected. When something is surprising and unexpected, it usually makes people happy and makes them feel happy and surprised. It is not always easy to predict what will happen next, and often people are surprised by the unexpected events that can happen in their lives. When something unexpected and unexpected happens, it is often because of the unexpected and unexpected things that can happen. When something unexpected and unexpected happens, it is often times, and it can make people happy and a person feel good feeling. When people are happy and satisfied with the outcome of a particular situation, or a specific event or a particular event or experience, and it is often times, the people involved in the situation.<extra_id_1> </s>\n",
      "########\n",
      "*******\n",
      "question: What is someone who wants a lot of money?\n",
      "answer: greedy\n",
      "choices: ['selfish', 'weird', 'greedy', 'ridiculous', 'hungry']\n",
      "common expl list: ['A person who is greedy wants more things that people typically take for granted, i.e., money, success, etc. This is a lot of stuff.', 'Greed is defined as \"the desire to obtain something, especially wealth, through selfish means, typically at the expense of others.', 'Greed is a strong desire to possess a lot of money; a greedy person therefore wants it a lot.']\n"
     ]
    },
    {
     "name": "stderr",
     "output_type": "stream",
     "text": [
      "\r",
      "  3%|████▊                                                                                                                                                          | 30/986 [5:19:23<168:11:39, 633.37s/it]"
     ]
    },
    {
     "name": "stdout",
     "output_type": "stream",
     "text": [
      "generated explanation: <pad> <extra_id_0> A person who wants a lot of money is someone who is greedy. A person who wants a lot of money is someone who wants to have a lot of money or who wants to have a lot of money. A person who wants to have a lot of money is someone who is greedy or has a high financial need and wants to obtain a lot of money or other resources. A person who is greedy or has a high financial need and wants to obtain as much money or other resources as possible in order to satisfy their financial obligations. It is not a good idea to be greedy or to be excessively motivated by the desire to have a desire to acquire wealth or to fulfill a desire for materialistic desires. A desire to have a strong desire for something.<extra_id_1> </s>\n",
      "########\n",
      "*******\n",
      "question: Where do you keep a book to read before bed?\n",
      "answer: bedside table\n",
      "choices: ['school room', 'allen key', 'classroom', 'bedside table', 'coffee table']\n",
      "common expl list: ['Bedside tables are convenient for keeping things, e.g., a book, reading materials, glasses, etc., that you wish to keep near your bed for regular access; particularly things.', 'Bedside tables are where people keep things they use before bed, such as books, glasses, and water.']\n"
     ]
    },
    {
     "name": "stderr",
     "output_type": "stream",
     "text": [
      "\r",
      "  3%|████▉                                                                                                                                                          | 31/986 [5:26:24<151:06:44, 569.64s/it]"
     ]
    },
    {
     "name": "stdout",
     "output_type": "stream",
     "text": [
      "generated explanation: <pad> <extra_id_0> A bedside table is a table or shelf that is placed near your bed where you can keep a book to read before bed. Books are often used as a source of comfort and relaxation, and they are often used as a means of relaxation and as such, are a popular choice for bedtime reading. Books can be used for leisure activities, such as reading, writing, or researching. If you like to read before bed, you may keep a book at your bedside table or on your nightstand. Bedside tables are typically a book or magazine on your bedside.<extra_id_1> </s>\n",
      "########\n",
      "*******\n",
      "question: Where is a knight likely to be found in the US?\n",
      "answer: chess set\n",
      "choices: ['middle ages', 'chess set', 'historical novel', 'castle', 'guarding the king']\n",
      "common expl list: ['A knight is a piece in the game of chess, which is played on a chess set.']\n"
     ]
    },
    {
     "name": "stderr",
     "output_type": "stream",
     "text": [
      "\r",
      "  3%|█████▏                                                                                                                                                         | 32/986 [5:38:25<162:57:30, 614.94s/it]"
     ]
    },
    {
     "name": "stdout",
     "output_type": "stream",
     "text": [
      "generated explanation: <pad> <extra_id_0> A knight is a type of creature that is used in chess and other board games. In chess, a knight is a piece of furniture that is used in a chess game or game that is similar in structure to chess. A knight is a piece of furniture that is used in chess and is typically black in color and has a square-shaped base with a square-shaped top and a square base and a round-shaped bottom. In chess, a piece of a knight is a piece of a player who is a piece of a piece of a piece of a piece of a piece of a piece of a king or queen is a player in a game of a piece of playable by using the game of a game of black or white in a game of a game of </s>\n",
      "########\n",
      "*******\n",
      "question: Jack saw little point to communicating beyond the basics.  To him, it was just a means to do what?\n",
      "answer: exchange information\n",
      "choices: ['go swimming', 'making friends', 'exchange information', 'people to think', 'confusion']\n",
      "common expl list: [\"Keeping the communication sparse would allow him to conserve energy by speaking less. Since communication is just a means to exchanging information, Jack would not see much 'point', to say, a conversation beyond the basics.\"]\n"
     ]
    },
    {
     "name": "stderr",
     "output_type": "stream",
     "text": [
      "\r",
      "  3%|█████▎                                                                                                                                                         | 33/986 [5:54:38<191:15:04, 722.46s/it]"
     ]
    },
    {
     "name": "stdout",
     "output_type": "stream",
     "text": [
      "generated explanation: <pad> <extra_id_0> To Jack, communication was a means to an end. To him, it was just a means to exchange information. To him, it was a means to exchange information, such as news, ideas, or even<extra_id_1> s. To him, communication was simply a means to exchange information, such as news, ideas, or even just to share information with others. To him, communication was a means to do just that: exchange information. To him, communication was a means to exchange information, such as news, ideas, or even to exchange information. To him, it was a means to exchange information. To exchange information, it was a means to exchange information, which was a means to exchange information, or to exchange information. To him, it was simply a means to exchange information, and it was a means to exchange information, or to share information. To him, it was a means to do business, but it was a means to do so, and it was not a goal. To him, communication was a means to exchange information.<extra_id_16> with the other, such as a means to organize and to<extra_id_16> research, or to<extra_id_16> information.<extra_id_1> </s>\n",
      "########\n",
      "*******\n",
      "question: I as a person don't kill others, why do I not?\n",
      "answer: value life\n",
      "choices: ['experience pleasure', 'laws', 'value life', 'thank god', 'go into debt']\n",
      "common expl list: [\"Someone who does not kill might have a great deal of respect for life; as a person's life is valuable, the opposite is true about the act of taking a life.\"]\n"
     ]
    },
    {
     "name": "stderr",
     "output_type": "stream",
     "text": [
      "\r",
      "  3%|█████▍                                                                                                                                                         | 34/986 [6:07:14<193:44:43, 732.65s/it]"
     ]
    },
    {
     "name": "stdout",
     "output_type": "stream",
     "text": [
      "generated explanation: <pad> <extra_id_0> If I as a person don't kill others, it is because I value life. If I value life, then I will not kill others. If I as a person don't kill others, I will not kill others because I value life. Life is a precious gift and it is important that we value it. If we value life, then we will not kill others. If we value life, then we will not kill others. If I do not kill others, it is because I value life and I value the life of others. If I as a person don't kill others, then I will not kill others. If I as a person don't kill others, then I will not because I value life. Why do I not kill others? Because I value life. I as a person don't have a person don't value it. If I don't think that I will not kill others?</s>\n",
      "########\n",
      "*******\n",
      "question: What is likely to be a child's reaction to going to play?\n",
      "answer: happiness\n",
      "choices: ['happiness', 'tears', 'sit', 'being entertained', 'laugh']\n",
      "common expl list: ['Children like to play.']\n"
     ]
    },
    {
     "name": "stderr",
     "output_type": "stream",
     "text": [
      "\r",
      "  4%|█████▋                                                                                                                                                         | 35/986 [6:14:27<169:46:07, 642.66s/it]"
     ]
    },
    {
     "name": "stdout",
     "output_type": "stream",
     "text": [
      "generated explanation: <pad> <extra_id_0> A child's reaction likely to be a child's reaction to going to play is likely to be a sense of happiness. Play is a form of physical activity that involves exploring and exploring new environments, often through the use of various senses, such as touch, sound, vision, and touch. Play is a fun and enjoyable activity that can provide a sense of fulfillment and enjoyment, and can provide opportunities for children to develop their creativity and problem solving skills. Play can provide opportunities for children to experience a variety of emotions, including happiness, excitement, and joy. Children's reactions to their environment and to their peers.<extra_id_1> </s>\n",
      "########\n",
      "*******\n",
      "question: Where could you find multiple ruler that are owned by different people?\n",
      "answer: office\n",
      "choices: ['measure distance', 'england', 'office', 'drawer', 'desk']\n",
      "common expl list: ['Office buildings often have rulers.', 'When someone works in an office, even if it is part-time or freelance, they may be required to measure distances e.g., in departments or cubicles, and so, offices are a good place to find ruler.']\n"
     ]
    },
    {
     "name": "stderr",
     "output_type": "stream",
     "text": [
      "\r",
      "  4%|█████▊                                                                                                                                                         | 36/986 [6:23:30<161:42:25, 612.78s/it]"
     ]
    },
    {
     "name": "stdout",
     "output_type": "stream",
     "text": [
      "generated explanation: <pad> <extra_id_0> You could find multiple rulers that are owned by different people in an office. An office is a building that is used for business and administrative purposes, such as running a business. Offices often have a variety of different types of furniture, such as a desk, chair, or table, and they may have different types of furniture that is used for different purposes or by different people. If you have an office at work, you may find that you have multiple sets of tools and equipment that are used by different people. Offices often have multiple copies of documents and other documents that are owned by different people and may have different owners, and they are usually located in different parts of the same building or building.<extra_id_1> </s>\n",
      "########\n",
      "*******\n",
      "question: When remembering you referencing things that you have what?\n",
      "answer: prior knowledge of\n",
      "choices: ['memory cells', 'learning about', 'prior knowledge of', 'brain cells', 'nerve cells']\n",
      "common expl list: ['Most of the things a person knows come from learning in the past and usually have some recollection involved.']\n"
     ]
    },
    {
     "name": "stderr",
     "output_type": "stream",
     "text": [
      "\r",
      "  4%|█████▉                                                                                                                                                         | 37/986 [6:32:21<155:06:14, 588.38s/it]"
     ]
    },
    {
     "name": "stdout",
     "output_type": "stream",
     "text": [
      "generated explanation: <pad> <extra_id_0> When referencing things that you have a prior knowledge of, or have knowledge of something that you have previously learned or experienced. References are references to things that you have knowledge of or have experience with, or that you have had some sort of training in. They may be references to things that you have read or studied or heard, or that you have had some sort of training in. References may also be references to things that you have read or heard about before, such as a book or a website, or they may be references to your knowledge of the subject matter. Prior knowledge of a topic. Prior knowledge is the basis for a variety of things, such as a topic, such as a topic, or a generalized topic, or<extra_id_1> </s>\n",
      "########\n",
      "*******\n",
      "question: After running twenty six miles he felt like he had lost twenty six pounds, this was from all the what?\n",
      "answer: sweat\n",
      "choices: ['exercise', 'sweat', 'pass out', 'collapse', 'drink water']\n",
      "common expl list: ['Sweating is a way to cool down the body, and so after running for a long time, a person might sweat a lot.']\n"
     ]
    },
    {
     "name": "stderr",
     "output_type": "stream",
     "text": [
      "\r",
      "  4%|██████▏                                                                                                                                                        | 38/986 [6:42:00<154:08:40, 585.36s/it]"
     ]
    },
    {
     "name": "stdout",
     "output_type": "stream",
     "text": [
      "generated explanation: <pad> <extra_id_0> After running twenty six miles, he felt like he had lost twenty six pounds, this was from all the sweat that he had lost while running. Sweat is a type of liquid that is produced when body fluids such as water, salt, and urea are lost through the pores of the skin when they are exposed to the air, and it is believed that this weight loss is due to the increased excretion of water and other bodily fluids by the body during exercise. Running can also cause weight loss through the release of water and hydrates that the body needs to maintain its performance and endurance. Run for a long distance or fitness program. For more information about the benefits of running, click here.<extra_id_1> </s>\n",
      "########\n",
      "*******\n",
      "question: In what western sate might one find a bald eagle?\n",
      "answer: colorado\n",
      "choices: ['captivity', 'colorado', 'zoo', 'canada', 'in washington']\n",
      "common expl list: ['Eagles are native to the western United States, and Colorado is a western state.']\n"
     ]
    },
    {
     "name": "stderr",
     "output_type": "stream",
     "text": [
      "\r",
      "  4%|██████▎                                                                                                                                                        | 39/986 [6:50:20<147:16:15, 559.85s/it]"
     ]
    },
    {
     "name": "stdout",
     "output_type": "stream",
     "text": [
      "generated explanation: <pad> <extra_id_0> In the United States, a bald eagle is a bird that is commonly found in North America. It is most often found in the Rocky Mountains, and is a species of bird that is native to North America. The bald eagle is a large, black bird that is often found in the wild in western states. It is the only member of the family Aquiliformes, and it is the only one that is found in North America. It is the only member of the ecty, and other wildlife.<extra_id_1> </s>\n",
      "########\n",
      "*******\n",
      "question: When a retired person returns to work they likely need to do what?\n",
      "answer: earn money\n",
      "choices: ['key', 'earn money', 'get out of bed', 'need money', 'understand themselves']\n",
      "common expl list: ['When a person is retired, they probably are not making enough money through a pension benefit to support themselves after retirement, so they work again, perhaps full-time, in order to have enough money.(money key)']\n"
     ]
    },
    {
     "name": "stderr",
     "output_type": "stream",
     "text": [
      "\r",
      "  4%|██████▍                                                                                                                                                        | 40/986 [6:58:23<141:00:33, 536.61s/it]"
     ]
    },
    {
     "name": "stdout",
     "output_type": "stream",
     "text": [
      "generated explanation: <pad> <extra_id_0> When a retired person returns to work they likely need to do what? Earn money. When a retired person returns to work they likely need to do what? Earn money. Retirement is a time of reflection and reflection. It is a time when retired people may feel a sense of accomplishment and accomplishment, and it is often a time for them to reflect on their life and what they have accomplished. Earning money is one way that retired people can continue to support themselves financially and their families. By working, retired people can build their financial security and security. They may need to maintain their lifestyle and finances.<extra_id_1> </s>\n",
      "########\n",
      "*******\n",
      "question: What can be the result of meeting people with similar attitudes?\n",
      "answer: making new friends\n",
      "choices: ['anxiety', 'being bored', 'love', 'making new friends', 'new job']\n",
      "common expl list: ['People with similar interests are likely to be friends, or familiars to each other, having many opportunities to meet each other and have things in common to discuss.', \"Friends often share some interests and/or attitudes, and when someone meets people with similar attires, that's a good indicator they might be good candidates for becoming friends.\"]\n"
     ]
    },
    {
     "name": "stderr",
     "output_type": "stream",
     "text": [
      "\r",
      "  4%|██████▌                                                                                                                                                        | 41/986 [7:09:26<150:51:46, 574.72s/it]"
     ]
    },
    {
     "name": "stdout",
     "output_type": "stream",
     "text": [
      "generated explanation: <pad> <extra_id_0> Making new friends is one result of meeting people with similar attitudes. It is not clear what the specific result of meeting people with similar attitudes is. It is possible that meeting people with similar attitudes can lead to new friendships or other forms of social interaction. It is possible that meeting people with similar attitudes could lead to new friendships or<extra_id_1> new opportunities for work or study. If you are looking for new friends or new opportunities in your life, it is likely that you will want to find people with similar attitudes.<extra_id_1> If you are looking for new friends or business partners, you may find that you can make new friends and improve your social network.<extra_id_1> Shared experiences and experiences with others who have similar values and interests, you may find yourself in the company of others with similar values and interests and/or a common interest or activity, you may be able to find common interests and/or share your own unique perspectives on issues and concerns.<extra_id_1> </s>\n",
      "########\n",
      "*******\n",
      "question: Danny noticed a ceramic object on the table and picked a grape out of it.  What might have been on the table?\n",
      "answer: bowl of fruit\n",
      "choices: ['kitchen', 'painting of fruits', 'fruit basket', 'bowl of fruit', 'fruit stand']\n",
      "common expl list: ['A bowl of fruit is an appropriate item to put on a table, as it can hold many kinds of fruit.']\n"
     ]
    },
    {
     "name": "stderr",
     "output_type": "stream",
     "text": [
      "\r",
      "  4%|██████▊                                                                                                                                                        | 42/986 [7:21:14<161:10:34, 614.66s/it]"
     ]
    },
    {
     "name": "stdout",
     "output_type": "stream",
     "text": [
      "generated explanation: <pad> <extra_id_0> Danny picked a grape out of a ceramic object on the table and picked it up. The ceramic object was on the table and was a ceramic bowl. A bowl of fruit is a container that is used for storing and serving food, such as grapes, oranges, and other types of fruit. If a bowl of fruit is on the table, it is likely that it was a ceramic bowl. A bowl of fruit is a container that is used for storing and serving food, such as grapes, oranges, or other types of fruit, such as a bowl of a bowl of a bowl of fruit, such as a ceramic bowl, or a ceramic object, it is likely that the object was made of glazed with a pattern or design.<extra_id_1> </s>\n",
      "########\n",
      "*******\n",
      "question: The nose dipped and alarms went off inside the what?\n",
      "answer: aircraft\n",
      "choices: ['car', 'sniff', 'aircraft', 'upper respiratory tract', 'missile']\n",
      "common expl list: ['The nose dips and alarms go off inside the cockpit of an aircraft when the nose of the aircraft dips too low.']\n"
     ]
    },
    {
     "name": "stderr",
     "output_type": "stream",
     "text": [
      "\r",
      "  4%|██████▉                                                                                                                                                        | 43/986 [7:33:23<170:00:07, 649.00s/it]"
     ]
    },
    {
     "name": "stdout",
     "output_type": "stream",
     "text": [
      "generated explanation: <pad> <extra_id_0> The nose dipped and alarms went off inside the aircraft. The aircraft is an aircraft that is used for carrying passengers and cargo by air and on land. The aircraft is typically a white, piston-driven, two-seater aircraft with a distinctive orange nose and a distinctive blue tail. The nose of the aircraft is typically rounded and has a distinctive, tapered shape. It is often used for transporting people and cargo by air and on land. It has a distinctive shape that is reminiscent of a plane or other types of aircraft that is being repaired or repaired. It is important to maintain proper operation and safety of the aircraft, especially when it is possible that the aircraft is being repaired or maintained. The aircraft is being repaired or serviced, or if necessary, it is important to maintain proper flight safety and performance.</s>\n",
      "########\n",
      "*******\n",
      "question: Where is a cord likely to be on a tent?\n",
      "answer: sporting goods store\n",
      "choices: ['inside tent', 'delivery room', 'hardware store', 'backpack', 'sporting goods store']\n",
      "common expl list: ['Sporting goods stores likely have tents on display which generally come with their cords.']\n"
     ]
    },
    {
     "name": "stderr",
     "output_type": "stream",
     "text": [
      "\r",
      "  4%|███████                                                                                                                                                        | 44/986 [7:44:40<172:00:13, 657.34s/it]"
     ]
    },
    {
     "name": "stdout",
     "output_type": "stream",
     "text": [
      "generated explanation: <pad> <extra_id_0> A cord is a piece of string or wire that is used to attach an item to a tent. A cord is typically used for connecting items such as a tent to a pole, a pole, or a pole. Cords are often used for securing tent poles, poles, or other items to a tent, such as a pole or pole. A cord is typically made of a flexible material, such as nylon or polyester, and is often sold in retail stores or online. Cords can be found in sporting goods stores or other similar items, such as a tent, if it is being used in a tent, or if the tent is being sold as a sport or other similar item, such as a cord, a tent, or a hem or tie down a pole, a pole, or other similar item, such as a pole.<extra_id_1> </s>\n",
      "########\n",
      "*******\n",
      "question: The man reduced the town to rubble out of hate, what was his goal?\n",
      "answer: destroy enemy\n",
      "choices: ['wage war', 'play nice', 'fight enemy', 'stab to death', 'destroy enemy']\n",
      "common expl list: ['someone who is completely obsessed with destroying an enemy (going so far as to want them completely obliterated from existance) is not a person who is playing nice.']\n"
     ]
    },
    {
     "name": "stderr",
     "output_type": "stream",
     "text": [
      "\r",
      "  5%|███████▎                                                                                                                                                       | 45/986 [7:53:49<163:20:37, 624.91s/it]"
     ]
    },
    {
     "name": "stdout",
     "output_type": "stream",
     "text": [
      "generated explanation: <pad> <extra_id_0> If a man reduced the town to rubble out of hate, his goal was to destroy the enemy. He did this by destroying the town and destroying everything in it. This is known as a form of terrorism, or violence that is motivated by hatred or hostility toward an individual or group of people. This type of behavior is called a terrorist attack, or a hate crime. Hatred is the act of expressing strong feelings of hostility towards another person or group of people, such as through threats, violence, or a perceived enemy. It is possible that the man had a similar goal to the town and to the extent that he was a hate crime in order to exact his revenge on the town and to bring it to the ground.<extra_id_1> </s>\n",
      "########\n",
      "*******\n",
      "question: The toddler thought it would be fun to try eating breakfast in bed, what resulted?\n",
      "answer: mess\n",
      "choices: ['contentment', 'indigestion', 'vomiting', 'mess', 'catastrophe']\n",
      "common expl list: [\"Toddlers like to explore and test their own boundaries. They often don't know their limits, and it's common for their behavior to result in a mess. In the toddler's case, it involved getting breakfast on the bed due to his inexperience\", \"Toddlers have poor coordination.  Even if they could somehow manage to not fall off the bed, it's likely that they would spill the food that they took with them to bed.  A mess would be made.\"]\n"
     ]
    },
    {
     "name": "stderr",
     "output_type": "stream",
     "text": [
      "\r",
      "  5%|███████▍                                                                                                                                                       | 46/986 [8:01:21<149:37:11, 573.01s/it]"
     ]
    },
    {
     "name": "stdout",
     "output_type": "stream",
     "text": [
      "generated explanation: <pad> <extra_id_0> The toddler thought it would be fun to try eating breakfast in bed, and what resulted was a mess? A mess is when something happens that results in a bit of a mess, such as a child eating breakfast in bed, or a child eating breakfast in bed and making a mess of themselves. This can happen for a variety of reasons, such as trying to eat their breakfast in bed, or trying to eat their breakfast in bed. It is not uncommon for toddlers to try eating breakfast in bed for the first time and see what happens.<extra_id_1> </s>\n",
      "########\n",
      "*******\n",
      "question: He had a hard time getting his father's attention, he hoped that the winning baseball game would finally get him some what?\n",
      "answer: recognition\n",
      "choices: ['confirmation', 'celebrating', 'pride', 'recognition', 'happiness']\n",
      "common expl list: ['One way to gain recognition from ones parents is by accomplishing things that they value. For example, children might hope to make their parents proud of them by excelling at sports.']\n"
     ]
    },
    {
     "name": "stderr",
     "output_type": "stream",
     "text": [
      "\r",
      "  5%|███████▌                                                                                                                                                       | 47/986 [8:10:24<147:06:16, 563.98s/it]"
     ]
    },
    {
     "name": "stdout",
     "output_type": "stream",
     "text": [
      "generated explanation: <pad> <extra_id_0> If he had a hard time getting his father's attention, he hoped that the winning baseball game would finally get him some attention. Because he had a hard time getting his father's attention, he hoped that it would finally<extra_id_1> Get his father's attention by winning a baseball game and gaining his father's recognition and appreciation. Baseball is a popular sport in the United States, and it is a popular sport among children. However, it is not as popular as it is in other countries. It is not widely known as a sport, but it is common for players to get their parents' attention and support. Attention. Attention.<extra_id_1> </s>\n",
      "########\n",
      "*******\n",
      "question: The toddler is awaking from a nap, what doesn't he feel anymore?\n",
      "answer: tiredness\n",
      "choices: ['nervous', 'eyes opening', 'getting out of bed', 'tiredness', 'discomfort']\n",
      "common expl list: ['Children can easily get tired at their ontervall and a nap is an effective way for them to get over tiredness. Then when they wake up, they do not feel tiredness any longer.']\n"
     ]
    },
    {
     "name": "stderr",
     "output_type": "stream",
     "text": [
      "\r",
      "  5%|███████▋                                                                                                                                                       | 48/986 [8:19:03<143:27:07, 550.56s/it]"
     ]
    },
    {
     "name": "stdout",
     "output_type": "stream",
     "text": [
      "generated explanation: <pad> <extra_id_0> When a toddler is awaking from a nap, he is not feeling tired. Tiredness is a feeling that is not felt by many people when they wake up from a nap or sleep. When a toddler is awaking from a nap or sleep, they may not feel tired or refreshed. However, it is important to note that tiredness is a feeling that is not felt by all children and that it is not always a good thing. When a toddler is awaking from a nap, he is not feeling refreshed and may not feeling as tired as possible. However, a feeling of being refreshed may not be as intense as before.<extra_id_1> </s>\n",
      "########\n",
      "*******\n",
      "question: John listened to music when he needed to focus.  It helped him achieve what?\n",
      "answer: quiet mind\n",
      "choices: ['express emotion', 'beautifull', 'irritate', 'bad environment', 'quiet mind']\n",
      "common expl list: [\"There's scientific evidence that listening to music can help people think better and concentrate easier.\", \"When one is trying to focus on a task, it's common to listen to music to help one focus.\", 'Music can, at the very least, provide passive background noise as one works to help one focus. More specifically, music might have positive, uplifting or emotional qualities that are conducive to focus and concentration.']\n"
     ]
    },
    {
     "name": "stderr",
     "output_type": "stream",
     "text": [
      "\r",
      "  5%|███████▉                                                                                                                                                       | 49/986 [8:30:53<155:45:15, 598.42s/it]"
     ]
    },
    {
     "name": "stdout",
     "output_type": "stream",
     "text": [
      "generated explanation: <pad> <extra_id_0> John listened to music when he needed to focus. It helped him achieve quiet mind. When he needed to focus, he might listen to music to help him achieve quiet mind. Music can help you achieve a quiet mind and help you achieve a quieter, more peaceful state of mind. Music can help you achieve a quiet mind and help you achieve a calmer, more peaceful state of mind. Music can help you achieve a quiet mind and calmer, more relaxed mood. Music can help you achieve a quiet mind and relax mind, and it can help to achieve and maintain a quiet mind. Focus is important for people who need to maintain mental clarity and attention. It can be used to help achieve many different things, including achieving a quiet mind. Focus is important for people who need to learn new things, such as improving your skills, improving your skills, and improve your ability to listen to other things, such as learning new things.<extra_id_1> </s>\n",
      "########\n",
      "*******\n",
      "question: If I were to suffer from sudden illness I would be within reason to visit where?\n",
      "answer: hospital\n",
      "choices: ['nursing home', 'hospital', 'brain', 'elderly person', 'building']\n",
      "common expl list: ['A hospital is a center for treatment and care of those suffering from illness.', 'Anyone can suffer a sudden illness, but hospitals are where the equipment and personnel exist to deal with sudden illnesses.', 'If you were suddenly suffering an illness, it would be a reasonable thing to go to the hospital for treatment of that illness.', 'A hospital is a place where people go to receive treatment for illnesses.']\n"
     ]
    },
    {
     "name": "stderr",
     "output_type": "stream",
     "text": [
      "\r",
      "  5%|████████                                                                                                                                                       | 50/986 [8:38:17<143:30:42, 551.97s/it]"
     ]
    },
    {
     "name": "stdout",
     "output_type": "stream",
     "text": [
      "generated explanation: <pad> <extra_id_0> If I were to suffer from sudden illness I would be within reason to visit a hospital. A hospital is a place that people go to receive medical care when they are ill or injured. A hospital is a place where people go to receive medical care or receive treatment for their illnesses or<extra_id_1> injuries. A hospital is a place where people go to receive medical care or treat their illnesses or injuries. A hospital is a place where people go to receive medical care or receive treatment for their illnesses or injuries. A hospital is a place where they are treated and treated. They are usually located in the emergency room.<extra_id_1> </s>\n",
      "########\n",
      "*******\n",
      "question: John kept standing up.  He was afraid that if he were sitting down he might do something. What might he be afraid of?\n",
      "answer: fall asleep\n",
      "choices: ['fall asleep', 'being supported on chair', 'comfort', 'clowns', 'flatulence']\n",
      "common expl list: ['When standing, the chances of falling asleep abruptly would be much less (assuming that one is awake).', 'Sitting down makes one comfortable; sitting down with eyes closed makes one fall asleep.']\n"
     ]
    },
    {
     "name": "stderr",
     "output_type": "stream",
     "text": [
      "\r",
      "  5%|████████▏                                                                                                                                                      | 51/986 [8:49:52<154:31:24, 594.96s/it]"
     ]
    },
    {
     "name": "stdout",
     "output_type": "stream",
     "text": [
      "generated explanation: <pad> <extra_id_0> If he were sitting down, he might be afraid of falling asleep. Falling asleep is the act of falling asleep, or the act of falling asleep, or the act of doing something that causes physical harm or emotional distress. If you are afraid of falling asleep, you may want to avoid sitting down and instead focus on other activities that require mental effort and concentration. If you are afraid of falling asleep, you may want to consider using a sleep aid or other training techniques to help you stay awake and alert. If you are afraid of falling asleep, you may want to keep standing up to avoid sitting down and may be afraid that you might do something or even worse, you might do something else. John kept standing up because he was afraid of what might happen if you were to do something if you were to fall asleep and not be able to work or accomplish something if you would be a sleep disturbance or worse, you might be tempted to do something else. You might be afraid that you might do something like a pillow or other types of if you were to if you are a sleep aids that are not to if you were to if you were to</s>\n",
      "########\n",
      "*******\n",
      "question: He didn't know that good things can be posion in large doses.  He thought that he was just eating an essential what?\n",
      "answer: nutrient\n",
      "choices: ['antidote', 'consumable', 'nutrient', 'vitamin', 'medicine']\n",
      "common expl list: ['He thought that he was just eating an essential nutrient, but in large doses, it could be poisonous.']\n"
     ]
    },
    {
     "name": "stderr",
     "output_type": "stream",
     "text": [
      "\r",
      "  5%|████████▍                                                                                                                                                      | 52/986 [8:51:07<113:50:30, 438.79s/it]"
     ]
    },
    {
     "name": "stdout",
     "output_type": "stream",
     "text": [
      "generated explanation: <pad> <extra_id_0> He didn't know that good things can be poison in large doses. He thought that he was just eating an essential nutrient. Nutrients are substances that are found in foods and are considered to be healthy or essential to human health. However, eating too much of anything can be harmful, and<extra_id_1> in some cases, it can even be harmful. This is because they can cause damage to cells and organs, and they can cause serious health problems.<extra_id_1> <unk> <extra_id_1>?<extra_id_1> <unk>?<unk>?<unk>?<unk>?<unk>?<unk> </s>\n",
      "########\n",
      "*******\n",
      "question: The police didn't pay any favors, their job was to what?\n",
      "answer: force law\n",
      "choices: ['force law', 'board vessels', 'arrest', 'arm weapons', 'direct traffic']\n",
      "common expl list: ['Police are usually tasked with upholding the law, and if they see a law being broken they will intervene (forceful intervention); moreover, they also coordinate with other officers (direct traffic and board vessels). These activities do not involve favors.']\n"
     ]
    },
    {
     "name": "stderr",
     "output_type": "stream",
     "text": [
      "\r",
      "  5%|████████▌                                                                                                                                                       | 53/986 [8:52:19<85:12:00, 328.75s/it]"
     ]
    },
    {
     "name": "stdout",
     "output_type": "stream",
     "text": [
      "generated explanation: <pad> <extra_id_0> The police didn't pay any favors, their job was to force law and order. The police were not there to do any favors or to pay any favors to anyone. Their job was to enforce the law and maintain order. They were not there to do any favors or to pay any favors to anyone. The police were there to enforce the law and maintain order. Their job was to enforce the law and to keep the peace. The police were not there to do any favors or to pay any favors to anyone. The law enforcement community, however, did not pay any favors or payments to anyone, including suspects or witnesses.<extra_id_1> </s>\n",
      "########\n",
      "*******\n",
      "question: The place specialized in colorful arrangements, but the also had a toy balloon or two where?\n",
      "answer: flower shop\n",
      "choices: ['see work', 'birthday party', 'flower shop', 'parade', 'toy store']\n",
      "common expl list: ['Batches of balloons are available at flower shops, where floral arrangements are sold, and rainbow contruction paper is usually found in art shops and classrooms.', 'Flower shops sell interesting arrangements made with colorful flowers.']\n"
     ]
    },
    {
     "name": "stderr",
     "output_type": "stream",
     "text": [
      "\r",
      "  5%|████████▊                                                                                                                                                       | 54/986 [8:54:03<67:42:30, 261.53s/it]"
     ]
    },
    {
     "name": "stdout",
     "output_type": "stream",
     "text": [
      "generated explanation: <pad> <extra_id_0> The flower shop specialized in colorful arrangements, but it also had a toy balloon or two. The place specialized in colorful arrangements, but it also had a toy balloon or two<extra_id_1> The place specialized in colorful arrangements, but it also had a toy balloon or two. The place also had a toy balloon or two, but it was not clear whether they were included in the arrangements. The shop specialized in colorful arrangements, but it was not clear whether they were included in the arrangements themselves or if they were in the shop. The place specialized in colorful arrangements, but it also had a toy balloon or two. The place specialized in colorful arrangements, but it also had a toy balloon or two. The place also had colorful arrangements, but it was not clear if they were included in the shop. The place also had colorful arrangements, and it was a toy balloon or two.<extra_id_1> </s>\n",
      "########\n",
      "*******\n",
      "question: Where was there never any mammoth?\n",
      "answer: zoo\n",
      "choices: ['wild', 'north dakota', 'forest', 'movie', 'zoo']\n",
      "common expl list: ['Mammoths are extinct, and zoos are places where animals are kept for observation and study.']\n"
     ]
    },
    {
     "name": "stderr",
     "output_type": "stream",
     "text": [
      "\r",
      "  6%|████████▉                                                                                                                                                       | 55/986 [8:55:24<53:36:17, 207.28s/it]"
     ]
    },
    {
     "name": "stdout",
     "output_type": "stream",
     "text": [
      "generated explanation: <pad> <extra_id_0> There has never been any mammoth in a zoo. A zoo is a facility that is dedicated to the housing, care, or study of animals, such as animals, plants, or fossilized remains, such as bones, teeth, or other types of animal tissue. Zoos are also facilities that are dedicated to the study of animals, such as birds, mammals, reptiles, reptiles, and even entire species. These facilities often have a wide variety of animals that are kept in zoos, and some may have been adapted to their new environment.<extra_id_1> </s>\n",
      "########\n",
      "*******\n",
      "question: Why do most people engage in chatting with friends?\n",
      "answer: fun\n",
      "choices: ['fun', 'love', 'answers', 'inspiration', 'relaxation']\n",
      "common expl list: ['Chats with friends are often fun, and thus people engage in them for that reason.']\n"
     ]
    },
    {
     "name": "stderr",
     "output_type": "stream",
     "text": [
      "\r",
      "  6%|█████████                                                                                                                                                       | 56/986 [8:57:05<45:17:30, 175.32s/it]"
     ]
    },
    {
     "name": "stdout",
     "output_type": "stream",
     "text": [
      "generated explanation: <pad> <extra_id_0> It is a common practice for people to engage in friendly, casual conversation with their friends. This type of social interaction is often characterized by the presence of other people, and it can be a source of enjoyment and entertainment. Chatting with friends can also provide an opportunity for people to learn more about each other and share experiences and ideas. It is also a great way to meet new people and share experiences and ideas, and it can also provide a way for people to share their experiences and interests with others. Chatting with friends can be a fun and enjoyable experience, and it can be a great deal of interest to you, so you may want to join the conversation. Chatting with friends is a great way to improve your social skills and improve your social life. Chat with friends and learn new things.<extra_id_1> </s>\n",
      "########\n",
      "*******\n",
      "question: What could happen after discovering truth that you did not want to know?\n",
      "answer: pain\n",
      "choices: ['pain', 'relief', 'grey hair', 'understanding', 'enlightenment']\n",
      "common expl list: ['Truth can be painful, and discovering it can cause pain.']\n"
     ]
    },
    {
     "name": "stderr",
     "output_type": "stream",
     "text": [
      "\r",
      "  6%|█████████▏                                                                                                                                                      | 57/986 [8:58:36<38:45:39, 150.20s/it]"
     ]
    },
    {
     "name": "stdout",
     "output_type": "stream",
     "text": [
      "generated explanation: <pad> <extra_id_0> If you discover truth that you did not want to know, you may experience pain. Pain is a reaction to the recognition that you have learned something that you did not want to know or that you did not want to know and that your body is responding to it in a negative way. It is common for people to experience pain when they learn something new or when they are exposed to someone they are not used to hearing or understanding. When you discover something that you do not want to know, you may experience intense feelings of discomfort or even fear. When you learn about the truth, you may experience the consequences of your ignorance and suffering. Truth can be a powerful motivating force that can be a powerful motivator for change and growth. Truth can be powerful, but it is not always easy to accept and accept the truth.<extra_id_1> </s>\n",
      "########\n",
      "*******\n",
      "question: What will an athlete do to warm up their legs?\n",
      "answer: jog\n",
      "choices: ['use heater', 'sprint', 'jog', 'run fast', 'compete']\n",
      "common expl list: ['When athletes warm up before swimming, running, riding a bike, or performing other physical activity, they generally will jog (which will help them loosen muscles in the legs).', 'warming up is a routine that is performed to either prepare for doing something new, or prepare for doing something which put strains on you, or which you have been out of practice doing.']\n"
     ]
    },
    {
     "name": "stderr",
     "output_type": "stream",
     "text": [
      "\r",
      "  6%|█████████▍                                                                                                                                                      | 58/986 [8:59:59<33:30:59, 130.02s/it]"
     ]
    },
    {
     "name": "stdout",
     "output_type": "stream",
     "text": [
      "generated explanation: <pad> <extra_id_0> Athlete will typically warm up their legs by jogging or running. Jogging is a type of exercise that involves moving quickly and continuously in order to build muscle and endurance. Jogging can be used by a variety of different athletes, such as runners, cyclists, and rowers. Jogging can help to build endurance and flexibility, and it can help to prepare the body for competition. It is important for an athlete to warm up their legs before exercising, as it helps to prepare the body for physical activity and recovery. Legs are essential to the performance of an athlete, and it is recommended that athletes do to keep their legs warm and to prevent cramps.<extra_id_1> </s>\n",
      "########\n",
      "*******\n",
      "question: Where can you keep your binder on your person between periods of instruction?\n",
      "answer: backpack\n",
      "choices: ['class room', 'car', 'office supply store', 'backpack', 'bookcase']\n",
      "common expl list: ['Usually binder users carry their binders from class to class outside of the classroom. Backpacks are often convenient, and are large enough to hold the binder.']\n"
     ]
    },
    {
     "name": "stderr",
     "output_type": "stream",
     "text": [
      "\r",
      "  6%|█████████▌                                                                                                                                                      | 59/986 [9:03:13<38:24:26, 149.15s/it]"
     ]
    },
    {
     "name": "stdout",
     "output_type": "stream",
     "text": [
      "generated explanation: <pad> <extra_id_0> You can keep your binder on your person between periods of instruction.<extra_id_1> Your backpack is a portable bag or container that is worn on your back and contains a notebook, a black or colored spiral notebook, and other materials. It is often used for schoolwork and other purposes, such as keeping notes, organizing notes, and organizing your work. A backpack can be used for this purpose, and it is often used for carrying books, clothes, and other items. It is a good idea to keep your binder in a backpack or other forms of storage and transportation. Carry your binder on your person between sessions of instruction. Then, you can keep it in your backpack or carry it in your back. If you want to carry it on your person, in a backpack or other form of storage, in a backpack or other similar container, in order to keep it on your person. The backpack is a convenient place to keep it on your back and to keep it with you during instruction. It is important to remember to carry it with you during instruction.<extra_id_1> </s>\n",
      "########\n",
      "*******\n",
      "question: In the middle of the day what will someone do because of being hungry?\n",
      "answer: have lunch\n",
      "choices: ['cook dinner', 'make bread', 'eat in restaurant', 'have lunch', 'make bread']\n",
      "common expl list: [\"It's common for folks to have lunch during the middle of the day.\", 'People often eat lunch at midday, and so, if they are hungry at midday, they might go to a restaurant to eat lunch.']\n"
     ]
    },
    {
     "name": "stderr",
     "output_type": "stream",
     "text": [
      "\r",
      "  6%|█████████▋                                                                                                                                                      | 60/986 [9:05:45<38:34:33, 149.97s/it]"
     ]
    },
    {
     "name": "stdout",
     "output_type": "stream",
     "text": [
      "generated explanation: <pad> <extra_id_0> If someone is hungry, they may choose to have lunch.<extra_id_1> If someone is hungry in the middle of the day, they may choose to have lunch because it is likely that they will be hungry at that time. If someone is feeling particularly hungry, they may choose to have lunch as a way to satisfy their hunger. This may be because they are experiencing hunger in the middle of the day and are therefore less likely to be able to enjoy a full meal. When someone is hungry, they may choose to have lunch because it is likely that they will be hungry and enjoy the food.<extra_id_1> </s>\n",
      "########\n",
      "*******\n",
      "question: Where is garbage brought to by garbagemen?\n",
      "answer: landfill\n",
      "choices: ['trashcan', 'landfill', 'television', 'computer', 'dumpster']\n",
      "common expl list: ['Landfills are where all the trash in the city go to.']\n"
     ]
    },
    {
     "name": "stderr",
     "output_type": "stream",
     "text": [
      "\r",
      "  6%|█████████▉                                                                                                                                                      | 61/986 [9:07:09<33:25:35, 130.09s/it]"
     ]
    },
    {
     "name": "stdout",
     "output_type": "stream",
     "text": [
      "generated explanation: <pad> <extra_id_0> Garbage is brought to by garbagemen and usually brought to a landfill or other storage facility where it is disposed of in a closed, covered pit or other enclosure. The landfill or storage facility is a covered area or area where garbage is piled and kept indefinitely until it is emptied or used up. The term landfill refers to a place where waste is disposed of in a closed, covered area, such as a park, street, or similar area. When garbage is brought to a landfill, it is a place where it is a common occurrence and maintenance of the garbage men to help maintain the conditions of the landfill or other facilities used for the proper disposal of the waste or to help reduce the impact on the environment.<extra_id_1> </s>\n",
      "########\n",
      "*******\n",
      "question: What are people doing when washing hands for a long time?\n",
      "answer: thinking\n",
      "choices: ['thinking', 'sleeping', 'use soap', 'irritation', 'cleaning dirt off']\n",
      "common expl list: ['People often just pause while washing their hands. It may be that they are thinking about something while this occurs naturally.', 'People often think about things while they are washing their hands, and this is a good time to think about things.']\n"
     ]
    },
    {
     "name": "stderr",
     "output_type": "stream",
     "text": [
      "\r",
      "  6%|██████████                                                                                                                                                      | 62/986 [9:08:18<28:41:01, 111.76s/it]"
     ]
    },
    {
     "name": "stdout",
     "output_type": "stream",
     "text": [
      "generated explanation: <pad> <extra_id_0> When people wash their hands for a long time, they are likely to be doing some form of thinking. When people wash their hands for a long time, they may be doing some form of thinking or<extra_id_1> rational thinking, which is the process of considering various options or issues. One possible way that people may be thinking is by focusing on one particular action or activity. When people wash their hands for a long time, they may be doing so in order to accomplish a specific goal or to achieve a particular goal. When people wash their hands, they may be thinking about their health and their lives.<extra_id_1> </s>\n",
      "########\n",
      "*******\n",
      "question: What would someone say about a tube television?\n",
      "answer: obsolete\n",
      "choices: ['obsolete', 'addictive', 'entertaining', 'bycone', 'legal']\n",
      "common expl list: ['Tube televisions are obsolete, meaning that they are old and was abolished by newer technology.', 'Tube televisions are no longer manufactured, and are therefore obsolete.']\n"
     ]
    },
    {
     "name": "stderr",
     "output_type": "stream",
     "text": [
      "\r",
      "  6%|██████████▏                                                                                                                                                     | 63/986 [9:10:14<29:00:18, 113.13s/it]"
     ]
    },
    {
     "name": "stdout",
     "output_type": "stream",
     "text": [
      "generated explanation: <pad> <extra_id_0> A tube television is a type of television that uses a tube as its primary display and is often considered to be of the older varieties of televisions, having a tube as its primary structure. Tube televisions are often considered to be of the older varieties of televisions and are often considered to be of more historical interest than other forms of television. Tube televisions typically have a rectangular or oval shape and are often used for older, more traditional forms of entertainment, such as watching television. Tube televisions typically have a rectangular or oval design and are no longer used today because they are a reliable and efficient alternative to digital televisions, which are typically used for a variety of different technologies, such as digital and cable television, and are considered to be a reliable alternative to digital televisions, which use of technology, and are often used in their respective fields, and are considered to be considered to be outdated and are being replaced by their respective technologies, such as digital and are considered to be obsolete and are considered to be<extra_id_1> </s>\n",
      "########\n",
      "*******\n",
      "question: The man drank his coffee at work?\n",
      "answer: office\n",
      "choices: ['coffee shop', 'table', 'kitchen', 'office', 'chair']\n",
      "common expl list: ['The man is likely to be at work, and offices often have kitchens where coffee is made.', 'The man probably works in an office where he could have a cup of coffee while behind his desk.', 'People often drink coffee at offices, with other co-workers.']\n"
     ]
    },
    {
     "name": "stderr",
     "output_type": "stream",
     "text": [
      "\r",
      "  6%|██████████▍                                                                                                                                                     | 64/986 [9:11:32<26:18:26, 102.72s/it]"
     ]
    },
    {
     "name": "stdout",
     "output_type": "stream",
     "text": [
      "generated explanation: <pad> <extra_id_0> The man drank his coffee at work in the office. The office is a place where people gather to work and relax, work, and relax. It is a place where people can come together to discuss various topics, such as work, study, and other interests. Coffee is a popular beverage that is often consumed in the office, and it is often associated with the workplace. Coffee is a popular beverage that is consumed in many offices and in many countries around the world. It is common for people to drink coffee at work because it is a great way to unwind and relax after a busy day at work.<extra_id_1> </s>\n",
      "########\n",
      "*******\n",
      "question: What can he do to eliminate his ignorance?\n",
      "answer: learn new\n",
      "choices: ['find information', 'judge', 'do some research', 'find truth', 'learn new']\n",
      "common expl list: ['Ignorance is the state of not knowing something, and to eliminate ignorance, one must learn new things.', 'In this context, ignorance refers to a lack of knowledge, and obtaining new knowledge is the best way to eliminate the ignorance.', \"Learning is a way to eliminate ignorance; for example, learning a foreign language is one way to eliminate ignorance of that language's grammar.\"]\n"
     ]
    },
    {
     "name": "stderr",
     "output_type": "stream",
     "text": [
      "\r",
      "  7%|██████████▌                                                                                                                                                      | 65/986 [9:12:42<23:44:15, 92.79s/it]"
     ]
    },
    {
     "name": "stdout",
     "output_type": "stream",
     "text": [
      "generated explanation: <pad> <extra_id_0> One way a person can eliminate his ignorance is by learning new things. As a result, he can improve his knowledge and understanding of complex concepts, and thereby improve his general knowledge and understanding of the world. In order to do this, he can learn new skills, and thereby improve his knowledge and understanding of the world. To do this, he can engage in new activities, and learn new skills, and improve his overall knowledge and understanding of the world. To do this, he can engage in various types of learning, and/or take part in learning new information, or learn about topics, or about which he can discuss with others.<extra_id_1> </s>\n",
      "########\n",
      "*******\n",
      "question: What do humans do when in a race?\n",
      "answer: compete with each other\n",
      "choices: ['lay eggs', 'eat fruit', 'wrestle', 'compete with each other', 'draw pictures']\n",
      "common expl list: ['Humans are naturally athletic and competitive. On land, people will compete with each other by running or wrestling. Often humans race on water by swimming, or by boating with other people.']\n"
     ]
    },
    {
     "name": "stderr",
     "output_type": "stream",
     "text": [
      "\r",
      "  7%|██████████▊                                                                                                                                                      | 66/986 [9:13:48<21:41:16, 84.87s/it]"
     ]
    },
    {
     "name": "stdout",
     "output_type": "stream",
     "text": [
      "generated explanation: <pad> <extra_id_0> When humans are in a race, they compete with each other for the right to win a race. A race is a competition in which two or more people compete against each other in order to win the race. In a race, the participants attempt to beat the other competitors in a series of events, called races. Races are events in which people compete against each other in order to win the race. A race is a type of competition in which two or more people compete against each other in order to win the race. In order to win, they must be faster than their competitors and have the best overall performance.<extra_id_1> </s>\n",
      "########\n",
      "*******\n",
      "question: She explained that you won't always get what you want with a goal, but you should still do what with it?\n",
      "answer: reach for\n",
      "choices: ['know how to find', 'work hard', 'remember where', 'reach for', 'purchase']\n",
      "common expl list: ['Reaching for attained goals is more beneficial than simply working towards them, at least in the short term. It significantly increases your chances of success.']\n"
     ]
    },
    {
     "name": "stderr",
     "output_type": "stream",
     "text": [
      "\r",
      "  7%|██████████▉                                                                                                                                                      | 67/986 [9:14:45<19:32:36, 76.56s/it]"
     ]
    },
    {
     "name": "stdout",
     "output_type": "stream",
     "text": [
      "generated explanation: <pad> <extra_id_0> She explained that you won't always get what you want with a goal, but you should still do what it takes to reach for it. A goal is something you want to achieve in life, but it may not always be possible to achieve. A goal is a set of objectives or measures that you set out to achieve or achieve. A goal is a set of objectives that you want to achieve in the future. A goal is a set of objectives or measures that you want to achieve in order to achieve a specific outcome or result.<extra_id_1> </s>\n",
      "########\n",
      "*******\n",
      "question: What happens when you eat hamburger too fast without swallowing?\n",
      "answer: choking\n",
      "choices: ['get full', 'drink', 'choking', 'hungry', 'getting fat']\n",
      "common expl list: ['Eating too fast can sometimes cause coughing / choking as food get stuck in your throat.', \"Choking can occur when you stick stuff in your mouth which can't go down your throat properly, so that you can't breath. Common causes can be eating too fast, or swallowing items that can't go down your throat, like liquids or large\", \"When you eat hamburger too fast, it can quickly turn into the consistency of a block, and when you can't swallow it, it can cause you to choke.\", \"If you eat hamburger too fast, you might choke on it, because it's a solid food that can get stuck in your throat.\"]\n"
     ]
    },
    {
     "name": "stderr",
     "output_type": "stream",
     "text": [
      "\r",
      "  7%|███████████                                                                                                                                                      | 68/986 [9:15:54<18:52:33, 74.02s/it]"
     ]
    },
    {
     "name": "stdout",
     "output_type": "stream",
     "text": [
      "generated explanation: <pad> <extra_id_0> If you eat hamburger too fast without swallowing, you may experience choking. Choking is the temporary blockage of airway that can cause breathing difficulties or death. It occurs when the throat muscles contract rapidly and tightly, blocking airway passageways. If this happens, you may experience choking. Choking is the sudden, unconscious loss of consciousness that occurs as a result of the inability to clear the food debris from your airway or to properly swallow it. It can also occur when you are trying to clear your throat of food. If you are experiencing symptoms of choking, you may be experiencing difficulty breathing or breathing.<extra_id_1> </s>\n",
      "########\n",
      "*******\n",
      "question: John sat in a folding chair in a bit room with a stage.  What sort of room could that be?\n",
      "answer: auditorium\n",
      "choices: ['room', 'auditorium', 'meeting hall', 'school', 'church']\n",
      "common expl list: ['An auditorium is a large room that is used for public events, such as concerts, plays, and speeches.']\n"
     ]
    },
    {
     "name": "stderr",
     "output_type": "stream",
     "text": [
      "\r",
      "  7%|███████████▎                                                                                                                                                     | 69/986 [9:17:13<19:15:03, 75.58s/it]"
     ]
    },
    {
     "name": "stdout",
     "output_type": "stream",
     "text": [
      "generated explanation: <pad> <extra_id_0> John sat in a folding chair in a bit room with a stage. An auditorium is a room that is designed as a large, open space that has a stage and is often used for performances and other events. A stage is a platform that is used for performing<extra_id_1> In an auditorium, the audience members watch performances on a stage that is usually set up on a raised platform or stage. The stage is usually made of wood or other suitable material and is usually made of glass or metal. John sat in an auditorium, which is a bit room with a stage and a set of musical instruments.<extra_id_1> </s>\n",
      "########\n",
      "*******\n",
      "question: What would an adult man do to get ready for work?\n",
      "answer: dress himself\n",
      "choices: ['dress herself', 'shower', 'dress himself', 'drink beer', 'drive train']\n",
      "common expl list: ['An adult man would dress himself for work: this includes putting on pants, shirts, and dresses, and typical choices are professional clothes, such as suit and tie.', 'Adult males commonly wear suits to work. Men might get dressed in the morning, particularly if they plan on wearing a suit for work.']\n"
     ]
    },
    {
     "name": "stderr",
     "output_type": "stream",
     "text": [
      "\r",
      "  7%|███████████▍                                                                                                                                                     | 70/986 [9:18:23<18:49:51, 74.01s/it]"
     ]
    },
    {
     "name": "stdout",
     "output_type": "stream",
     "text": [
      "generated explanation: <pad> <extra_id_0> An adult man would typically dress himself for work, wash his hair, and apply makeup. He would also brush his teeth, apply lotion, and apply deodorant. If he were a man, he would likely also do these things to get ready for work, such as applying deodorant, applying sunscreen, and applying makeup. If he were a woman, he would likely do the same thing. If he were a man, he would likely do the same thing. If he were a woman, he would likely do the same things to get ready for work, as well as any other personal care and grooming.<extra_id_1> </s>\n",
      "########\n",
      "*******\n",
      "question: What does one do at an office?\n",
      "answer: work\n",
      "choices: ['work', 'school building', 'workplace', 'skyscraper', 'public building']\n",
      "common expl list: ['An office is a specific type of workplace.', 'An office is a place where people work.', 'One does work at the office']\n"
     ]
    },
    {
     "name": "stderr",
     "output_type": "stream",
     "text": [
      "\r",
      "  7%|███████████▌                                                                                                                                                     | 71/986 [9:20:11<21:25:42, 84.31s/it]"
     ]
    },
    {
     "name": "stdout",
     "output_type": "stream",
     "text": [
      "generated explanation: <pad> <extra_id_0> At an office, one typically works in an office environment. In an office, one typically works in an office setting to perform a variety of tasks and activities. These tasks and activities may include performing a variety of different tasks, such as completing paperwork, processing mail, or preparing documents for delivery. Offices often have a variety of work environments, such as open spaces, conference rooms, and computers. Offices typically have a variety of furniture and supplies, including computers, filing cabinets, and chairs, as well as other types of work. In an office, one may also perform other activities, such as a wide range of activities, such as a work environment, and working in a variety of tasks, such as a variety of tasks, which may include a variety of tasks, which may include a variety of tasks, such as a variety of tasks, such as a desk or filing, and/or filing and/or<extra_id_1> </s>\n",
      "########\n",
      "*******\n",
      "question: When a person is on trial for killing, what is a jury likely to decide?\n",
      "answer: punishment\n",
      "choices: ['execution', 'investigation', 'going to jail', 'retribution', 'punishment']\n",
      "common expl list: ['A jury is likely to decide that the person is guilty of the crime, and punish them accordingly.', 'When a jury decides that someone is guilty of a crime, they typically hand down a punishment.', 'A person who has just killed another person often goes to trial, so the jury will likely have to decide what the most just punishment is.']\n"
     ]
    },
    {
     "name": "stderr",
     "output_type": "stream",
     "text": [
      "\r",
      "  7%|███████████▊                                                                                                                                                     | 72/986 [9:21:28<20:48:34, 81.96s/it]"
     ]
    },
    {
     "name": "stdout",
     "output_type": "stream",
     "text": [
      "generated explanation: <pad> <extra_id_0> If a person is on trial for killing, a jury is likely to decide on punishment. A jury is likely to decide on punishment when a person is on trial for killing a person. A jury is a group of people who are elected to represent a community of people who are interested in the issues of race, gender, ethnicity, or national origin. A jury may also decide on the level of punishment that is appropriate for the particular case, such as a fine or prison sentence, or other types of punishment. If a person is on trial for killing another, the jury will likely to consider the circumstances of the case and the circumstances surrounding the death of the victim and the nature of the alleged killer.<extra_id_1> </s>\n",
      "########\n",
      "*******\n",
      "question: Most adult Americans split their time between home and what?\n",
      "answer: work\n",
      "choices: ['tent', 'work', 'apartment', 'the office', 'foreign']\n",
      "common expl list: ['Most adults spend most of their time at work.', 'Home and work may be the two places where most adult Americans spend most of their waking hours.']\n"
     ]
    },
    {
     "name": "stderr",
     "output_type": "stream",
     "text": [
      "\r",
      "  7%|███████████▉                                                                                                                                                     | 73/986 [9:22:33<19:31:13, 76.97s/it]"
     ]
    },
    {
     "name": "stdout",
     "output_type": "stream",
     "text": [
      "generated explanation: <pad> <extra_id_0> Most adult Americans split their time between home and work. Work is defined as any paid or voluntary activity that requires an effort on the part of the employee, such as performing housework, paying bills, or other similar tasks. Home is a place where people come together to relax, socialize, and engage in meaningful activities. Home is a place where people gather together with their families, friends, and neighbors, and it is often the place where they spend the most time, energy, and money. It is often the place where they go to get their daily needs and wants, and their families.<extra_id_1> <extra_id_1> </s>\n",
      "########\n",
      "*******\n",
      "question: Professionally the fighters always maintained a level of respect, but personally they held each other in what for things that were said?\n",
      "answer: contempt\n",
      "choices: ['belittlement', 'humiliate', 'irreverence', 'contempt', 'love']\n",
      "common expl list: ['Despite the respect that was maintained by the respectful fighters, the feelings that they had for each other were always a sense of contempt for each others character.']\n"
     ]
    },
    {
     "name": "stderr",
     "output_type": "stream",
     "text": [
      "\r",
      "  8%|████████████                                                                                                                                                     | 74/986 [9:24:28<22:24:13, 88.44s/it]"
     ]
    },
    {
     "name": "stdout",
     "output_type": "stream",
     "text": [
      "generated explanation: <pad> <extra_id_0> The fighters always maintained a level of respect for each other, but personally they held each other in contempt. Contempt is the term used to describe the negative or offensive behavior that is directed at another person or group of people. It is often used in the context of fighting, and it is often used to describe the behavior that is displayed when people are acting in a disrespectful or abusive manner toward another person or group of people. Contempt can also refer to the behavior or attitude that a person displays when they are not being honest or abusive or abusive language or abusive language is used to indicate contempt. Respect is maintained, but also required. Both sides were required to maintain a level of respect, and respect, and the fight was always maintained. However, personal relationships were often strained, and the fighters were often able to resolve issues and able to work through the fight, and the fighters were able to resolve issues quickly and efficiently.<extra_id_1> </s>\n",
      "########\n",
      "*******\n",
      "question: Where would you find many tables of silverware rolled into nice displayed napkins?\n",
      "answer: restaurant\n",
      "choices: ['silver', 'park', 'table', 'cupboard', 'restaurant']\n",
      "common expl list: ['Restaurants often give used, rolled up silverware to customers, and they might keep them in nice, displayed napkins to make moving and storing them easier.', 'In a commercial establishment, silverware is expected to be clean because consumption of food is involved. So, a restaurant may well be where someone would expect to find silverware rolled into nice displayed napkins (i.e., fancy silverware).', 'Restaurants often have a lot of silverware, and they might roll it up and place it in a napkin to make it easier to store.']\n"
     ]
    },
    {
     "name": "stderr",
     "output_type": "stream",
     "text": [
      "\r",
      "  8%|████████████▏                                                                                                                                                    | 75/986 [9:25:44<21:24:18, 84.59s/it]"
     ]
    },
    {
     "name": "stdout",
     "output_type": "stream",
     "text": [
      "generated explanation: <pad> <extra_id_0> If you are a frequent visitor to a restaurant, you may have noticed that many tables have silverware rolled into neatly displayed napkins. These napkins are often used in restaurants to display silverware and other items, such as knives, forks, spoons, and other serving pieces. These napkins are often used in restaurants as table linens, place mats, and place settings, and may also be used as place mats for other items such as place cards, place mats, and place mats. Silverware rolled into nice displayed silverware and rolled into neatly displayed and neatly displayed on a table with a clean, clean and organized appearance of the restaurant.<extra_id_1> </s>\n",
      "########\n",
      "*******\n",
      "question: He didn't believe fate controlled situations, what did he believe people did?\n",
      "answer: control events\n",
      "choices: ['control events', 'pray', 'dress themselves', 'talk to each other', 'think creatively']\n",
      "common expl list: ['If one believes in fate, then one would believe that fate controls events. If one believes in free will, then one would believe that people control events.', \"If one believes fate controls events, there's nothing to do but accept situation, perhaps to pray; in contrast, if one believed they had control over events, then they could act to change the situation.\"]\n"
     ]
    },
    {
     "name": "stderr",
     "output_type": "stream",
     "text": [
      "\r",
      "  8%|████████████▍                                                                                                                                                    | 76/986 [9:27:32<23:07:56, 91.51s/it]"
     ]
    },
    {
     "name": "stdout",
     "output_type": "stream",
     "text": [
      "generated explanation: <pad> <extra_id_0> If he didn't believe fate controlled situations, he might have believed that people did. If people did control situations, they might have taken steps to influence the outcome of events. For example, people might have taken steps to influence the outcome of a particular situation. If people did not control situations, they might have taken steps to influence the outcome of a particular situation. This would mean that they might have taken steps to influence the course of an event or that they might have taken steps to influence the outcome of a particular situation. If he believed people controlled situations, then, they would have a say in the situations that they had been put in front of him. But he did believe that people were able to influence the outcome of the situation, and that people could not be able to control the circumstances. People could, however, control the situation. People could also have a say in the situation.<extra_id_1> </s>\n",
      "########\n",
      "*******\n",
      "question: Polly didn't know her way around, so she navigated by landmark.  She used statues, stores, and distinctive building.  Where might she be?\n",
      "answer: city\n",
      "choices: ['countryside', 'national park', 'map', 'neighbourhood', 'city']\n",
      "common expl list: ['Landmarks are often located in cities, and so if a person was navigating by landmarks, they are likely to be in a city.', \"She used distinctive buildings as landmarks, so it is likely she's in a city.\", 'Landmark navigation works best in populated areas because distinctive buildings and statues can be more easily seen.', 'In a city, landmarks are often used to navigate. In the countryside or in national parks, landmarks may not be as distinct, as buildings and statues are less likely to be found.']\n"
     ]
    },
    {
     "name": "stderr",
     "output_type": "stream",
     "text": [
      "\r",
      "  8%|████████████▌                                                                                                                                                    | 77/986 [9:28:48<21:58:34, 87.03s/it]"
     ]
    },
    {
     "name": "stdout",
     "output_type": "stream",
     "text": [
      "generated explanation: <pad> <extra_id_0> Polly was lost and didn't know her way around. She navigated by landmark. She used statues, stores, and distinctive building. These landmarks might be in a city or town. Cities and towns often have a distinctive look and feel, and their buildings, parks, and other features may serve as a guide to help people find their way around. If Polly was lost and didn't know their way around, she might use landmarks to help her navigate. Statues, for example, are often found in urban areas..<extra_id_1> </s>\n",
      "########\n",
      "*******\n",
      "question: Some horses are white others are black, but many are this color which might lead some people to think their milk would taste like chocolate?\n",
      "answer: brown\n",
      "choices: ['big but gentle', 'kept in stables', 'cuddly', 'brown', 'running in herd']\n",
      "common expl list: [\"An individual brown-colored horse (particularly when cuddly) can resemble the color of chocolate. If a person were to guess based on the color, he might guess a horse's milk tasted similarly.\"]\n"
     ]
    },
    {
     "name": "stderr",
     "output_type": "stream",
     "text": [
      "\r",
      "  8%|████████████▋                                                                                                                                                    | 78/986 [9:30:43<24:01:33, 95.26s/it]"
     ]
    },
    {
     "name": "stdout",
     "output_type": "stream",
     "text": [
      "generated explanation: <pad> <extra_id_0> Many horses are brown in color. While some horses are white, others are black, but many are this color. While many horses are this color, many are not. Horses are horses, and horses are animals that are domesticated and trained for specific purposes. Horses can be used for a variety of purposes, including showing affection, breeding, and showing off their abilities. Because horses are domesticated animals, they tend to be more social and friendly. This makes them good pets for children to interact with and play with. Because horses are social animals, they often exhibit traits such as their coats or even coats. When riding, many people may think that their milk tastes like chocolate, or even taste like milk.<extra_id_1> </s>\n",
      "########\n",
      "*******\n",
      "question: What is the one thing you cannot do if you're on the move?\n",
      "answer: stand still\n",
      "choices: ['sit still', 'stationary', 'running', 'stand still', 'stay still']\n",
      "common expl list: ['You must be in motion to be counted as on the move. (this rule exists to disallow the action of holding still)']\n"
     ]
    },
    {
     "name": "stderr",
     "output_type": "stream",
     "text": [
      "\r",
      "  8%|████████████▉                                                                                                                                                    | 79/986 [9:32:30<24:53:54, 98.83s/it]"
     ]
    },
    {
     "name": "stdout",
     "output_type": "stream",
     "text": [
      "generated explanation: <pad> <extra_id_0> If you're on the move, you can do almost anything else, but you can't stand still. This is because you are in a state of constant motion, and you cannot do anything but move. If you're on the move, you are constantly in motion, and you cannot stand still. This is because, when you're in motion, you are in motion, and you are in a state of constant motion. If you are in a state of constant motion, you cannot do anything else, including stand still. If you are on the move, you cannot stand still.<extra_id_1> </s>\n",
      "########\n",
      "*******\n",
      "question: Where does someone convicted of a petty crime likely spend time?\n",
      "answer: jail\n",
      "choices: ['sell drugs', 'jail', 'nightclub', 'prison', 'offer drugs']\n",
      "common expl list: ['Someone convicted of a petty crime probably spends some time in jail, and not in prison.', 'Someone convicted of a petty crime is likely to spend time in jail.']\n"
     ]
    },
    {
     "name": "stderr",
     "output_type": "stream",
     "text": [
      "\r",
      "  8%|█████████████                                                                                                                                                    | 80/986 [9:33:57<23:58:10, 95.24s/it]"
     ]
    },
    {
     "name": "stdout",
     "output_type": "stream",
     "text": [
      "generated explanation: <pad> <extra_id_0> A petty crime is a crime that is committed for a small amount of money or for a relatively short period of time. It is typically committed by a person who is not involved in a serious crime or who is not a flight risk. A petty crime is a crime that is committed for a small amount of money or for a relatively short period of time. A person who is convicted of a petty crime is likely to spend time in jail or prison. In addition, a person who is charged with a criminal offense is likely to spend time in the same way as a serious crime, but in a different place. Instead, they may spend the entire period of arrest and/or a combination of jail or prison. If a </s>\n",
      "########\n",
      "*******\n",
      "question: He would entertain with a pool party regularly, it was the best way to beat the what?\n",
      "answer: hot\n",
      "choices: ['please', 'hot', 'guest', 'bribe', 'liked']\n",
      "common expl list: ['Pool parties are a great way to beat the heat.']\n"
     ]
    },
    {
     "name": "stderr",
     "output_type": "stream",
     "text": [
      "\r",
      "  8%|█████████████▏                                                                                                                                                  | 81/986 [9:36:10<26:48:53, 106.67s/it]"
     ]
    },
    {
     "name": "stdout",
     "output_type": "stream",
     "text": [
      "generated explanation: <pad> <extra_id_0> He would entertain with a pool party regularly, it was the best way to beat the hot weather. He would host a pool party regularly, it was the best way to beat the hot weather. He would entertain with a pool party regularly, it was the best way to beat the hot weather. He would entertain with a pool party regularly, it was the best way to beat the hot weather. It was the best way to beat the heat and beat the heat. He would regularly host pool parties, and it was the best way to beat the hot weather. He would entertain with a pool party, and it was the best way to beat the hot weather. It was the best way to beat the heat and beat the heat. It was the best way to beat the heat of the summer. It was the best way to beat the heat and beat the heat of the summertime. It was the heat and to beat the heat and to cool off in the..</s>\n",
      "########\n",
      "*******\n",
      "question: If you wanted to confirm information that you had, you would do what to someone?\n",
      "answer: question\n",
      "choices: ['infirm', 'ask', 'deny', 'question', 'dispute']\n",
      "common expl list: [\"Often information is ambiguous, and I can confirm it by asking pointed questions or by scrutinizing the other person's story till I can find a way to interrogate their position.\", 'If you wanted to confirm information that you had, you would ask someone.', 'If you wanted to verify the truth, you might question the person who you got the alleged information from.', 'To confirm something that your friends told you, you might need to ask those friends further questions to prove that the information was correct.']\n"
     ]
    },
    {
     "name": "stderr",
     "output_type": "stream",
     "text": [
      "\r",
      "  8%|█████████████▎                                                                                                                                                  | 82/986 [9:38:25<28:54:25, 115.12s/it]"
     ]
    },
    {
     "name": "stdout",
     "output_type": "stream",
     "text": [
      "generated explanation: <pad> <extra_id_0> If you wanted to confirm information that you had, you would do as follows: You would contact the source of the information and ask them to confirm the information that you have. If you have information that you have collected, you may contact the source of the information to confirm the authenticity of the information that you have collected. If you have information that you have collected, you may contact the source of the information to confirm the authenticity of the information that you have collected. You may also contact the source of the information to confirm the authenticity of the information that you have collected or a third party to confirm the information that you have collected or a third party who can confirm the information that you have collected. If you want to confirm information that you have received, you may want to confirm the accuracy of the information that you have collected, you may want to confirm the accuracy of the information that you have collected, you may want to have collected, such as a number of people who can provide you with a third party who can provide you have</s>\n",
      "########\n",
      "*******\n",
      "question: Where is cheese likely to be dangerous for some creatures?\n",
      "answer: mouse trap\n",
      "choices: ['refrigerator', 'mouse trap', 'fridge', 'outside', 'plate']\n",
      "common expl list: ['cheese has been said to attract mice. Mice traps may contain cheese in order to attract them.']\n"
     ]
    },
    {
     "name": "stderr",
     "output_type": "stream",
     "text": [
      "\r",
      "  8%|█████████████▍                                                                                                                                                  | 83/986 [9:40:08<27:59:20, 111.58s/it]"
     ]
    },
    {
     "name": "stdout",
     "output_type": "stream",
     "text": [
      "generated explanation: <pad> <extra_id_0> Cheese is likely to be dangerous for some creatures. It is likely that cheese will be dangerous for small mammals, such as mice and rats, and that it may be used as a mouse trap. A mouse trap is a device that is designed to trap a mouse or other small animal in order to capture it and use it as a food source. Mouse traps are devices that are used to capture and hold a mouse or other small animal for the purpose of capturing and releasing the mouse. If a mouse or other small animal in order to catch it, or to catch it. If a mouse trap is likely to be dangerous for some animals, it is important to use a mouse trap, or to avoid the cheese. Mouse traps are also used to capture mice, and they are often used as a safety net to capture the mouse or to capture<extra_id_1> </s>\n",
      "########\n",
      "*******\n",
      "question: He spent all work day at a computer, so he got a footstool for more comfort at his what?\n",
      "answer: desk\n",
      "choices: ['desk', 'bathroom', 'shoe shop', 'family room', 'living room']\n",
      "common expl list: ['A footstool is a small stool that is used to raise the height of a chair or table. If someone spends all day at a computer, they might need a footstool to raise their desk.']\n"
     ]
    },
    {
     "name": "stderr",
     "output_type": "stream",
     "text": [
      "\r",
      "  9%|█████████████▋                                                                                                                                                  | 84/986 [9:42:15<29:03:17, 115.96s/it]"
     ]
    },
    {
     "name": "stdout",
     "output_type": "stream",
     "text": [
      "generated explanation: <pad> <extra_id_0> He spent all work day at a computer, so he got a footstool for more comfort at his desk. A desk is a table or bench that is used for sitting or working at a computer. A desk is a table or bench that is used for sitting or working at a computer. A desk is a table or bench that is used for sitting or standing at a computer. A desk is a table or bench that is used for sitting or working at a computer. A desk is a table or other work area that is comfortable for standing or walking around the computer. If you are looking for a footstool for your work, consider a footstool or other ergonomically-supporting your feet at your computer. If you are looking for a footstool or other office furniture, such as a footrest, you can be positioned at your computer or in a seated workstation, or for ergonomic reasons, then you may want to get a chair or a footstool</s>\n",
      "########\n",
      "*******\n",
      "question: How would grooming lead to bald spots?\n",
      "answer: mistakes\n",
      "choices: ['cleanliness', 'mistakes', 'brushing', 'beauty', 'satisfaction']\n",
      "common expl list: [\"If you accidentally over trim your hair, you'd likely end up with bald spots.\"]\n"
     ]
    },
    {
     "name": "stderr",
     "output_type": "stream",
     "text": [
      "\r",
      "  9%|█████████████▊                                                                                                                                                  | 85/986 [9:43:41<26:47:31, 107.05s/it]"
     ]
    },
    {
     "name": "stdout",
     "output_type": "stream",
     "text": [
      "generated explanation: <pad> <extra_id_0> Mistakes in grooming can lead to bald spots.<extra_id_1> Mistakes in grooming can lead to bald spots because it can lead to mistakes and improper technique that may lead to mistakes and incorrect technique that may lead to mistakes and incorrect technique that may lead to bald spots and other problems. If you are interested in learning more about how to properly groom yourself and prevent bald spots, contact your local dermatologist today. If you have any questions about how to properly care for your hair, contact your local dermatologist today. If you have any questions about how to prevent it, please contact your local physician. If you would like to know more about how to prevent it, please consult your hair and skin problems. If possible, try</s>\n",
      "########\n",
      "*******\n",
      "question: Where would a snake find a great hiding place in the United Kingdom?\n",
      "answer: kew gardens\n",
      "choices: ['ditch', 'terrarium', 'thick forest', 'kew gardens', 'feild']\n",
      "common expl list: ['Kew gardens is a large botanical garden in London, England, and snakes are often found in gardens.', 'Kew gardens is located in London, which has a great deal of green space in the form of parks.']\n"
     ]
    },
    {
     "name": "stderr",
     "output_type": "stream",
     "text": [
      "\r",
      "  9%|█████████████▉                                                                                                                                                  | 86/986 [9:45:54<28:42:30, 114.83s/it]"
     ]
    },
    {
     "name": "stdout",
     "output_type": "stream",
     "text": [
      "generated explanation: <pad> <extra_id_0> A snake would find a great hiding place in the United Kingdom if it could find a great hiding place in the kew gardens. Kew gardens are gardens in the Royal Parks of London and Windsor Castle, which are located in the United Kingdom. They are renowned for being a great place for snakes to live and breed. The gardens are home to many different species of snakes, including geckos, chameleons, and monitor lizards. Snakes can live in a variety of habitats, including a variety of habitats, including a variety of habitats, including a great place for them to live and breed. They are also home to other types of wildlife, including a variety of habitats, and may be found in a variety of habitats, such as a variety of plants and wildlife, and are often used as a home for eggs, and are also used for nesting.<extra_id_1> </s>\n",
      "########\n",
      "*******\n",
      "question: After studying many self-help books, what did he feel in his heart?\n",
      "answer: inspiration\n",
      "choices: ['inspiration', 'dreams', 'more intelligence', 'understanding', 'knowing more']\n",
      "common expl list: [\"Some people study self-help books because they've felt lost in their life and are looking for something to help them out. By reading many self-help books, such people might feel more inspired in their life.\", 'Self-help books are written to inspire people to change their lives for the better.', \"If John read about confidence, optimism, positive thinking, it's possible that he feels inspired.\"]\n"
     ]
    },
    {
     "name": "stderr",
     "output_type": "stream",
     "text": [
      "\r",
      "  9%|██████████████                                                                                                                                                  | 87/986 [9:48:25<31:22:19, 125.63s/it]"
     ]
    },
    {
     "name": "stdout",
     "output_type": "stream",
     "text": [
      "generated explanation: <pad> <extra_id_0> After studying many self-help books, he felt in his heart. Inspiration is a feeling or state of being that comes from within or from outside of yourself. It is a feeling or state of being that is characterized by the presence of a higher power, or an inner guidance that is present and guides or inspires you in some way. It is often said that inspiration is a feeling or state of being that is present and flowing from within. Inspiration is a feeling or state of mind that is characterized by the presence of spiritual awakening and spiritual awakening. It is possible to achieve personal growth and development through the study of self-developmental practices and/or spiritual practices.<extra_id_1> </s>\n",
      "########\n",
      "*******\n",
      "question: Where would you find teeth whitening bleachers?\n",
      "answer: pharmacy\n",
      "choices: ['gymnasium', 'soccer game', 'sporting event', 'pharmacy', 'soccer game']\n",
      "common expl list: ['Teeth whitening is a common practice, and pharmacies often sell the products used for it.']\n"
     ]
    },
    {
     "name": "stderr",
     "output_type": "stream",
     "text": [
      "\r",
      "  9%|██████████████▎                                                                                                                                                 | 88/986 [9:50:04<29:22:26, 117.76s/it]"
     ]
    },
    {
     "name": "stdout",
     "output_type": "stream",
     "text": [
      "generated explanation: <pad> <extra_id_0> If you are looking for teeth whitening bleachers, you may visit a pharmacy. A pharmacy is a store or facility that sells a wide range of products, such as over-the-counter teeth whitening products, as well as more specialized products, such as whitening strips, whitening mouthwashes, and other dental products. These products can be purchased through a variety of sources, including retail stores, online pharmacies, and mail-order pharmacies. A pharmacy is a place where you can buy products, such as toothpastes, and other dental products, and other dental care products. Dental care products are available at a variety of health care providers, including dental care professionals, and can provide you with the right treatment for your dental needs.<extra_id_1> </s>\n",
      "########\n",
      "*******\n",
      "question: While he had seen a koala in the zoo, he was looking forward to finding one in the what?\n",
      "answer: australian outback\n",
      "choices: ['australian outback', 'bamboo grove', 'wilderness', 'island', \"child's book\"]\n",
      "common expl list: ['Koalas live in Australia, and are not found in any other country in the North American continent.', 'Because Koalas are a native species to Australia, the safest place to see a Koala may be outback Australia.']\n"
     ]
    },
    {
     "name": "stderr",
     "output_type": "stream",
     "text": [
      "\r",
      "  9%|██████████████▍                                                                                                                                                 | 89/986 [9:51:53<28:42:54, 115.24s/it]"
     ]
    },
    {
     "name": "stdout",
     "output_type": "stream",
     "text": [
      "generated explanation: <pad> <extra_id_0> He had seen a koala in the zoo, but he was looking forward to finding one in the outback. The outback is a region of Australia that is located in the south of Australia. It is a region that is located in the southeast of Australia and is known for its wildlife and is home to many types of animals, including koalas, wallabies, and other wildlife. Koalas are a member of the family of marsupials, which is a region that is located in the southern part of the country and is considered to be the most a place for its presence, such as the Australian bush.<extra_id_1> </s>\n",
      "########\n",
      "*******\n",
      "question: Where can a child get a wagon?\n",
      "answer: toy store\n",
      "choices: ['field', 'garage', 'bookstore', 'backyard', 'toy store']\n",
      "common expl list: [\"A toy wagon is a child's toy. Toy wagons can be purchased from toy stores.\", 'Toy stores deal specifically in toys. Wagons are one of a variety of toys.']\n"
     ]
    },
    {
     "name": "stderr",
     "output_type": "stream",
     "text": [
      "\r",
      "  9%|██████████████▋                                                                                                                                                  | 90/986 [9:52:56<24:44:01, 99.38s/it]"
     ]
    },
    {
     "name": "stdout",
     "output_type": "stream",
     "text": [
      "generated explanation: <pad> <extra_id_0> A child can get a wagon from a toy store. A toy store is a place where a child can go to get toys and games, such as a wagon, playhouse, slide, or other play structure. These toys may be in the form of a wagon, a<extra_id_1> trailer, a wagon, or a doll wagon. A wagon is a wheeled vehicle that is used for moving objects, such as toys, furniture, or household items, and it is often the case that children’s imaginations and creativity.<extra_id_1> </s>\n",
      "########\n",
      "*******\n",
      "question: Being able to forgive is a way to be what?\n",
      "answer: nice to\n",
      "choices: ['learn', 'give hug', 'happiness', 'nice to', 'sex']\n",
      "common expl list: ['When you forgive people you are being nice to them.']\n"
     ]
    },
    {
     "name": "stderr",
     "output_type": "stream",
     "text": [
      "\r",
      "  9%|██████████████▊                                                                                                                                                  | 91/986 [9:54:17<23:21:03, 93.93s/it]"
     ]
    },
    {
     "name": "stdout",
     "output_type": "stream",
     "text": [
      "generated explanation: <pad> <extra_id_0> Being able to forgive is a way to be able to be able to be nice to others. It is a way of being able to be kind and understanding towards others. It is a way of being able to show your love and compassion for others and to be able to show that you care about their feelings and needs. It is a way of being able to show that you care about them and that you are willing to forgive someone else when they have done something wrong or when they have made a mistake. It is possible that you may not be able to forgive, but you can still be able to show that you have the same or similar circumstances.<extra_id_1> </s>\n",
      "########\n",
      "*******\n",
      "question: What  is necessary to have when going fishing?\n",
      "answer: fishing rod\n",
      "choices: ['fishing rod', 'access to water', 'bate', 'three hands', 'tackle']\n",
      "common expl list: ['fishing rods are necessary component pieces that are held by fishermen to access and use when fishing', 'To go fishing requires a fishing rod.']\n"
     ]
    },
    {
     "name": "stderr",
     "output_type": "stream",
     "text": [
      "\r",
      "  9%|███████████████                                                                                                                                                  | 92/986 [9:55:52<23:24:48, 94.28s/it]"
     ]
    },
    {
     "name": "stdout",
     "output_type": "stream",
     "text": [
      "generated explanation: <pad> <extra_id_0> A fishing rod is a tool that is used for catching fish. It is a long, thin, flexible, straight, flexible, rigid, and strong rod that is made of a strong, flexible material that is made of a variety of materials, including wood, plastic, and metal, and it is typically made of fiberglass, plastic, or wood. A fishing rod is a lightweight, flexible, and strong plastic or metal shaft that is typically made of carbon fiber, wood, or aluminum. A fishing rod is a long, and it is necessary to have a fishing spot where you are going to fish. If you are planning to go fishing, you will need to have a fishing location and to know the best places to go. A fishing in the area.<extra_id_1> </s>\n",
      "########\n",
      "*******\n",
      "question: A weasel is cursed by a witch, where is the weasel stuck?\n",
      "answer: fairytale\n",
      "choices: ['corn fields', 'great outdoors', 'fairytale', 'imagination', 'chicken coop']\n",
      "common expl list: ['Being stuck in a fairytale suggests being cursed, and the curses that prevail in fairytales are usually cast by witches.']\n"
     ]
    },
    {
     "name": "stderr",
     "output_type": "stream",
     "text": [
      "\r",
      "  9%|███████████████                                                                                                                                                 | 93/986 [9:58:46<29:18:25, 118.15s/it]"
     ]
    },
    {
     "name": "stdout",
     "output_type": "stream",
     "text": [
      "generated explanation: <pad> <extra_id_0> If a weasel is cursed by a witch, the weasel is stuck in a fairytale world. A fairytale world is a fictional world in which a character, usually a character from another historical or literary work, is banished by a powerful character, usually a female, and is characterized by a magical or supernatural element such as fire, ice, water, or a plant, and is characterized by a certain type of magical or supernatural element. A weasel is a fairytale world, and it is based on the lored by a witch, and it is believed that the cursed by a witch, is a place where a cursed or a fairytale is a popular culture in which characters from the story are oftentimes in which are a place where characters in a fantasy world where they are a place where they are oftentimes, and/or a character from a a a legend or a a mythical, or otherwise, or may be</s>\n",
      "########\n",
      "*******\n",
      "question: If you want to buy you must what?\n",
      "answer: spend money\n",
      "choices: ['spend money', 'go shopping', 'paying', 'have in mind', 'a shop']\n",
      "common expl list: ['To buy one needs money, and need money implies you have spent money.', 'If you want to buy something, you must spend money.', 'To buy something, you must spend money.']\n"
     ]
    },
    {
     "name": "stderr",
     "output_type": "stream",
     "text": [
      "\r",
      " 10%|███████████████▏                                                                                                                                               | 94/986 [10:00:07<26:32:47, 107.14s/it]"
     ]
    },
    {
     "name": "stdout",
     "output_type": "stream",
     "text": [
      "generated explanation: <pad> <extra_id_0> If you want to buy something, you must first spend money. Money is a form of currency that is used to represent a unit of value, such as dollars, cents, or a fraction of a dollar. It is used in the payment and exchange of goods and services, such as the purchase of goods or services, the delivery of goods, or the payment for the services rendered. It is used in many different ways, such as to purchase the product or service that you want to buy, or to pay for the goods or services that you want to buy. If you want to buy something, you must be prepared to spend money on it.<extra_id_1> </s>\n",
      "########\n",
      "*******\n",
      "question: What public celebration sometimes has a horse show?\n",
      "answer: state fair\n",
      "choices: ['state fair', 'indy 500', 'american southwest', 'canada', 'central park']\n",
      "common expl list: ['Horse shows are competitions that sometimes occur at public celebrations. Some fairgrounds include horse shows as part of their regularly scheduled events.', 'Horse shows are sometimes included in state fair celebrations, and these fairs frequently are held in public parks.', \"A state's fair is a public celebration that may include a horse show.\"]\n"
     ]
    },
    {
     "name": "stderr",
     "output_type": "stream",
     "text": [
      "\r",
      " 10%|███████████████▎                                                                                                                                               | 95/986 [10:02:06<27:21:36, 110.55s/it]"
     ]
    },
    {
     "name": "stdout",
     "output_type": "stream",
     "text": [
      "generated explanation: <pad> <extra_id_0> A public celebration that sometimes has a horse show has a horse show in it. A horse show is a public event that takes place during a specific time period, usually during a calendar year. State fairs are large-scale events that typically take place during a calendar year. State fairs typically have a horse show or horse show as part of their schedule of events, and they often have a horse show or horse show as part of their main draw, or their main attraction. State fairs often have a horse show, and they are organized by local and regional organizations. They are a popular event for their members to attend. Horses are often a part of their activities, and they are often part of their activities, such as horse-related events, and they may have a horse show, or both. Horses are often used as a means of demonstrating their knowledge of the sport or breed.<extra_id_1> </s>\n",
      "########\n",
      "*******\n",
      "question: There are many wage gaps being discussed, the most important of which is between the rich and what?\n",
      "answer: poor\n",
      "choices: ['plain', 'sleepy', 'poor', 'idle', 'needy']\n",
      "common expl list: ['The poor are a group which suffers from a wage gap, denoted as their earning less than others, especially the rich.']\n"
     ]
    },
    {
     "name": "stderr",
     "output_type": "stream",
     "text": [
      "\r",
      " 10%|███████████████▍                                                                                                                                               | 96/986 [10:03:36<25:48:51, 104.42s/it]"
     ]
    },
    {
     "name": "stdout",
     "output_type": "stream",
     "text": [
      "generated explanation: <pad> <extra_id_0> There are many wage gaps being discussed, the most important is between the rich and the poor. Wage gaps are differences in the amount of money earned by an individual and the amount of money they make compared to other individuals. The difference between the rich and the poor is often the most important wage gap to consider when comparing salaries and wages. The wage gap is the difference between the income earned by an individual and the amount of money they make compared to other individuals. The rich typically earn more money than the average person and the average person makes less. However, the rich are not necessarily more equal. Often, there are other disparities such as education and experience.<extra_id_1> </s>\n",
      "########\n",
      "*******\n",
      "question: What city in a North American Country, that isn't the United States, would you expect to find a good french restaurant?\n",
      "answer: quebec\n",
      "choices: ['wine', 'nyc', 'quebec', 'manhattan', 'paris']\n",
      "common expl list: ['Quebec has a strong french heritage, and the french cuisine is actually quite popular in the United States.', 'Quebec is said to have strong french-culture since it was originally french territory. This would make sense if quebec had a good french restaurant.', 'Quebec is a province in Canada, and is known for its french culture.', 'Quebec is the only province that speaks French in North America, and you might expect to find a good french restaurant there.']\n"
     ]
    },
    {
     "name": "stderr",
     "output_type": "stream",
     "text": [
      "\r",
      " 10%|███████████████▋                                                                                                                                               | 97/986 [10:05:11<25:03:37, 101.48s/it]"
     ]
    },
    {
     "name": "stdout",
     "output_type": "stream",
     "text": [
      "generated explanation: <pad> <extra_id_0> In a North American country, other than the United States, would you expect to find a good french restaurant? Quebec City, Canada.<extra_id_1> Quebec City, Canada is a city in North America, located in the eastern part of the continent of North America. It is the second largest city in Canada, after Montreal, and is the second largest city in the country by population. It is located in the eastern part of the continent of North America, after the United States. It is the second largest city in the country by population, behind Toronto, and the most likely to have a good French restaurant in its city or region. If you are looking for a good French restaurant in a city in a good French restaurant, you might be in a city like Quebec City.<extra_id_1> </s>\n",
      "########\n",
      "*******\n",
      "question: Care not to burn you hand on the handle of what small high-walled vessel?\n",
      "answer: saucepan\n",
      "choices: ['brush', 'carry object', 'walking stick', 'umbrella', 'saucepan']\n",
      "common expl list: ['A saucepan is a small, high-walled vessel, built for holding liquids and usually used in the kitchen.']\n"
     ]
    },
    {
     "name": "stderr",
     "output_type": "stream",
     "text": [
      "\r",
      " 10%|███████████████▉                                                                                                                                               | 99/986 [10:09:04<26:23:56, 107.14s/it]"
     ]
    },
    {
     "name": "stdout",
     "output_type": "stream",
     "text": [
      "generated explanation: <pad> <extra_id_0> Jars of peanut butter come in a variety of sizes and shapes, and are often used as storage containers for items such as nuts, seeds, and other types of dried or soft foods. Peanut butter is often sold in jars, which are glass containers that are often used for food storage and are used for storing items such as nuts, seeds, and other types of butter. Peanut butter is often sold in jars, which are typically made of a variety of ingredients, including peanuts, and is often sold in a variety of containers, such as a glass container, or a plastic container, and is typically made of glass or plastic, and is typically sealed in a glass container, and is typically</s>\n",
      "########\n",
      "*******\n",
      "question: Where are plants likely to be handled by a city employee?\n",
      "answer: park\n",
      "choices: ['park', 'windowsill', 'ground', 'office', 'garden']\n",
      "common expl list: ['A city employee might handle plants while working in a park.', 'Parks are where city employees are likely to handle plants.']\n"
     ]
    },
    {
     "name": "stderr",
     "output_type": "stream",
     "text": [
      "\r",
      " 10%|████████████████▏                                                                                                                                              | 100/986 [10:10:22<24:11:18, 98.28s/it]"
     ]
    },
    {
     "name": "stdout",
     "output_type": "stream",
     "text": [
      "generated explanation: <pad> <extra_id_0> Plants are plants that are grown in a specific location and are typically handled by a city employee.<extra_id_1> Plants are plants that are grown in specific locations and are typically handled by city employees. If a city employee is responsible for handling plants in a park or other public area, they are typically handled by park employees. City employees may be responsible for handling plants in parks and other public areas, such as flower beds, gardens, or a public garden. If a city employee is responsible for handling plants in a park or garden, or by volunteers, or by volunteers.</s>\n",
      "########\n",
      "*******\n",
      "question: Trains tend to come on time, airplanes on the other hand tend to what?\n",
      "answer: arrive late\n",
      "choices: ['stall', 'take off', 'arrive late', 'catch on fire', 'carry freight']\n",
      "common expl list: ['Planes are carreid by more complicated mechanisms than trains, and therefore tend to be harder to operate exactly on time.', \"Planes aren't typically known for arriving on time (air traffic, weather, repairs, et. al.), whereas trains tend to be more reliable.\"]\n"
     ]
    },
    {
     "name": "stderr",
     "output_type": "stream",
     "text": [
      "\r",
      " 10%|████████████████▎                                                                                                                                              | 101/986 [10:11:58<23:58:45, 97.54s/it]"
     ]
    },
    {
     "name": "stdout",
     "output_type": "stream",
     "text": [
      "generated explanation: <pad> <extra_id_0> Trains tend to come on time, while airplanes tend to arrive late. Trains tend to come on time because they are moving at a constant speed and are usually operated by a single company. Trains and airplanes have different arrival and departure times, and they generally follow a similar schedule. Trains and airplanes generally arrive on time, while trains and airplanes tend to arrive late because they are moving at a slower pace. Trains and trains tend to run on time because they are moving at a constant speed and are often delayed. If they are not on time, they may be delayed or cancelled completely. If they are not canceled, they may be cancelled or delayed.<extra_id_1> </s>\n",
      "########\n",
      "*******\n",
      "question: Where is glue well used?\n",
      "answer: art room\n",
      "choices: ['desk drawer', 'cabinet', 'art room', 'school', 'closed container']\n",
      "common expl list: ['Glue is used in art projects, and art rooms are where art projects are done.']\n"
     ]
    },
    {
     "name": "stderr",
     "output_type": "stream",
     "text": [
      "\r",
      " 10%|████████████████▎                                                                                                                                             | 102/986 [10:15:24<32:00:23, 130.34s/it]"
     ]
    },
    {
     "name": "stdout",
     "output_type": "stream",
     "text": [
      "generated explanation: <pad> <extra_id_0> Glue wells are commonly used in art rooms and other similar settings. They are used for the attachment of materials to surfaces, such as paper, fabric, wood, and other types of material. They are often used in conjunction with other types of adhesives, sealants, and adhesives.<extra_id_1> They are often used in the construction of joints and other structural elements. They are often used in conjunction with other materials, such as adhesives, adhesives, and sealants. They are often used in conjunction with other types of adhesives, and the creation of a variety of different types of materials, including a variety of purposes, including the creation of a variety of purposes, such as the construction of a variety of different materials, and in the construction of different types of surfaces, and in the creation of different types of surfaces, and in the design of different types of surfaces, such as wood, and in the construction of a variety of applications, including the creation of a glued together, or in a single-</s>\n",
      "########\n",
      "*******\n",
      "question: Billy loves science, history, and art but isn't very creative.  When he was visiting the museum, he felt a great deal of what emotion?\n",
      "answer: enjoyment\n",
      "choices: ['inspiration', 'fulfillment', 'wonder', 'boredom', 'enjoyment']\n",
      "common expl list: ['At a museum, Billy uses history to find science, and science to find art; by combining different loves, going to the museum has been fulfilling. To achieve fulfilment, Billy felt an enjoyable feeling.', 'When Billy visited a museum which had a lot of fields of interest, Billy enjoyed himself while he learned from the experience at the same time.']\n"
     ]
    },
    {
     "name": "stderr",
     "output_type": "stream",
     "text": [
      "\r",
      " 10%|████████████████▌                                                                                                                                             | 103/986 [10:17:20<30:53:07, 125.92s/it]"
     ]
    },
    {
     "name": "stdout",
     "output_type": "stream",
     "text": [
      "generated explanation: <pad> <extra_id_0> He is a person who loves science, history, and art but isn't very creative. When he was visiting the museum, he felt a great deal of enjoyment. He is a person who loves science, history, and art but isn't very creative. He loves museums and art galleries, but isn't very creative. He is interested in history and art, but isn't very creative. He enjoys visiting museums and art galleries, but isn't very creative. He likes to learn about other cultures and cultures. He also feels a great deal of inspiration. He feels a sense of wonder. He was able to learn about the history and culture of the world. He felt a great deal of enjoyment. He was amazed and amazed. He was able to see the exhibits and learn about the history of the past and present.<extra_id_1> </s>\n",
      "########\n",
      "*******\n",
      "question: Sarah did much hard work, even though she was on vacation.  Her mother told her off and said what?\n",
      "answer: do nothing\n",
      "choices: ['unemployment', 'say something', 'earn money', 'do nothing', 'relaxation']\n",
      "common expl list: ['If one is on vacation, one is supposed to \"do nothing\" as opposed to working - the \"something\" that is discouraged. Many physically hard jobs involve getting the hands dirty.']\n"
     ]
    },
    {
     "name": "stderr",
     "output_type": "stream",
     "text": [
      "\r",
      " 11%|████████████████▋                                                                                                                                             | 104/986 [10:19:27<30:56:02, 126.26s/it]"
     ]
    },
    {
     "name": "stdout",
     "output_type": "stream",
     "text": [
      "generated explanation: <pad> <extra_id_0> Sarah did much hard work, even though she was on vacation. She was on vacation with her mother. Her mother told her off and said that she did not do anything.<extra_id_1> Do nothing means to do nothing and is the opposite of working hard. Working hard does not mean to do nothing and is the opposite of being lazy or being lazy. It simply means to do something active, such as playing sports, reading, or watching television. It also means doing nothing and is the opposite of working hard. It does not mean to do nothing and is the opposite of doing nothing. Do nothing. Do not do anything. Sarah was on vacation and did not required to do anything. Sarah was on vacation and her mother told her mother told her daughter to stop doing anything and asked her to do nothing. Sarah was on vacation and was on vacation, but she had to go back to work and<extra_id_1> shortener. Sarah'smother told her to stop working hard and to stop working hard or to do nothing.<extra_id_1> Sarah's mother was not to a second job..<extra_id_1> </s>\n",
      "########\n",
      "*******\n",
      "question: James walked barefoot on a something that was made hot by sunshine. What is he probably walking on?\n",
      "answer: street\n",
      "choices: ['desktop', 'summer', 'moon', 'meadow', 'street']\n",
      "common expl list: ['Because of the intense heat of summer, sunlight reflects off the pavement, causing a hot sensation when one walks barefoot in the summer.']\n"
     ]
    },
    {
     "name": "stderr",
     "output_type": "stream",
     "text": [
      "\r",
      " 11%|████████████████▊                                                                                                                                             | 105/986 [10:20:50<27:41:31, 113.16s/it]"
     ]
    },
    {
     "name": "stdout",
     "output_type": "stream",
     "text": [
      "generated explanation: <pad> <extra_id_0> James walked barefoot in the sunshine on a street. Streets are usually made hot by the sun and are often used for transportation and recreation. Streets are often used for walking and running and are often used for both activities and recreation. James walked barefoot in the sunshine on a street and are often used for both recreation and exercise. Streets are often used for walking and are often used for outdoor activities such as running, biking, and hiking. He walked barefoot on a street or other public space and thus, as he would have been able to be comfortable while he was walking.<extra_id_1> </s>\n",
      "########\n",
      "*******\n",
      "question: He grew tired of standing in the kitchen his whole shift, where was he?\n",
      "answer: restaurant\n",
      "choices: [\"neighbor's house\", \"friend's house\", 'restaurant', 'jail', 'fraternity house']\n",
      "common expl list: ['A restaurant would have a kitchen, where you would be required to stand while your shift is in session.', 'One can get tired standing in a kitchen if one is on their feet all day; kitchens are typically in restaurants.']\n"
     ]
    },
    {
     "name": "stderr",
     "output_type": "stream",
     "text": [
      "\r",
      " 11%|████████████████▉                                                                                                                                             | 106/986 [10:22:16<25:40:27, 105.03s/it]"
     ]
    },
    {
     "name": "stdout",
     "output_type": "stream",
     "text": [
      "generated explanation: <pad> <extra_id_0> If he grew tired of standing in the kitchen his whole shift, he was likely working in a restaurant. A restaurant is a business that is based on the<extra_id_1> s sales and the provision of food and services to customers. A restaurant is a business that is based on the provision of food and services to customers. A restaurant is a business that is typically organized and controlled by a single person or group of people. A restaurant may have a general menu, which may include items such as soups, salads, and other areas. If a chef or other staff member of the staff is a restaurant, the chef is responsible for the operations of the kitchen.<extra_id_1> </s>\n",
      "########\n",
      "*******\n",
      "question: The children play cards often, but they make their own rules because they can't what the originals?\n",
      "answer: remember\n",
      "choices: ['bid', 'concentrate', 'winning', 'count', 'remember']\n",
      "common expl list: ['Children often play games that are similar to those played by adults, such as card games, but with slight variations to how they are played. This is most likely because children cannot remember the original rules of the card games. Smiling is a common expression', \"The children are making up their own rules because they can't remember the original rules.\"]\n"
     ]
    },
    {
     "name": "stderr",
     "output_type": "stream",
     "text": [
      "\r",
      " 11%|█████████████████▏                                                                                                                                            | 107/986 [10:23:46<24:35:33, 100.72s/it]"
     ]
    },
    {
     "name": "stdout",
     "output_type": "stream",
     "text": [
      "generated explanation: <pad> <extra_id_0> The children often play cards, but they make their own rules because they can't remember the originals. The originals are rules that were developed by the original inventors of the game, such as the game of chess or checkers. The original rules were developed by the inventors of the game, and they were intended for children to follow. The children often make their own rules when they play cards, and they often make their own rules because they can't remember the rules of the game. Because the children can't remember the originals, they are often used by the children to play.<extra_id_1> </s>\n",
      "########\n",
      "*******\n",
      "question: On an average day, going to work could make you feel like what?\n",
      "answer: feeling good\n",
      "choices: ['feeling good', 'anger', 'revelation', 'being fired', 'tardiness']\n",
      "common expl list: ['To fulfill a life purpose and to gain fulfillment, people often undertake gainful employment. Thus, the people who experience this data point might experience feelings of accomplishment/fulfillment.', 'People sometimes feel pride and accomplishment when they get things done at the office.']\n"
     ]
    },
    {
     "name": "stderr",
     "output_type": "stream",
     "text": [
      "\r",
      " 11%|█████████████████▍                                                                                                                                             | 108/986 [10:25:04<22:50:16, 93.64s/it]"
     ]
    },
    {
     "name": "stdout",
     "output_type": "stream",
     "text": [
      "generated explanation: <pad> <extra_id_0> Going to work could make you feel good. Going to work could make you feel good because it is a good thing to do and it is a good way to meet new people and develop new skills. Going to work can also make you feel good because it is a good way to relax and spend time with friends and family. However, going to work can also be stressful and it can be difficult to know what to expect on any given day. For many people, going to work is a daily ritual that involves preparing for the day and a good attitude.<extra_id_1> <extra_id_1> </s>\n",
      "########\n",
      "*******\n",
      "question: What country has the carpathians and is the furthest in the direction of the side that won the U.S. Civil War?\n",
      "answer: poland\n",
      "choices: ['slovakia', 'slovenia', 'poland', 'ukraine', 'romania']\n",
      "common expl list: ['Poland is the only country that has the carpathian mountains, and it was the most distant in the direction from the side that won the U.S. Civil War (the North).']\n"
     ]
    },
    {
     "name": "stderr",
     "output_type": "stream",
     "text": [
      "\r",
      " 11%|█████████████████▍                                                                                                                                            | 109/986 [10:28:47<32:19:27, 132.69s/it]"
     ]
    },
    {
     "name": "stdout",
     "output_type": "stream",
     "text": [
      "generated explanation: <pad> <extra_id_0> Poland is the country that is furthest in the direction of the side that won the U.S. Civil War and has the carpathians. The carpathians are mountains that are located in the western part of the country and are the easternmost mountains in the world. They are located in the Carpathians and are located in the eastern part of the country. They are located in the northeast of Europe and are known as the Carpathians, or the Carpathians, and are located in the central part of the country. They are part of the mountainous terrain and are found in the region of Poland. The carpathways are mountainous terrain and are often a popular tourist destination. They are also a popular ski resorts and mountainous terrain. In a country like this, it is possible to explore the carpathides and to visit a visit to see the national park and explore the local towns and villages that are a great place to explore the area, and other attractions, such as the polski, or to a short distance from the carpaths, or even further away from the poland, orphan</s>\n",
      "########\n",
      "*******\n",
      "question: What would happen if you want to win a game?\n",
      "answer: competitiveness\n",
      "choices: ['competitiveness', 'satisfaction', 'learning', 'injuries', 'play']\n",
      "common expl list: ['If you want to win a game, you will try put your best effort to take your chances at winning over those of your opponents.', 'To win a game, you must be competitive.', 'Competitive athletes would want to win their games, whatever the cost; this desire to win leads to competitiveness and creates the desire to win over even long periods of time; it also often leads to brutal physical play --- such as by causing injuries to opposing r', 'After playing a game, a person would be likely compelled to win the game becasue they want a feeling of satisfaction from winning the game. In order to win, a person would need to be competitive.', \"Victory in a game requires one to make a maximum effort, and peoples' desire to win has to be rather competitive.\"]\n"
     ]
    },
    {
     "name": "stderr",
     "output_type": "stream",
     "text": [
      "\r",
      " 11%|█████████████████▋                                                                                                                                            | 110/986 [10:30:51<31:35:33, 129.83s/it]"
     ]
    },
    {
     "name": "stdout",
     "output_type": "stream",
     "text": [
      "generated explanation: <pad> <extra_id_0> If you want to win a game, you may be competitive. Competitiveness is the desire to achieve a goal or objective, such as winning a game or achieving a certain level of performance in order to achieve a particular goal or objective. Competitiveness is the desire to succeed and to do well in order to achieve a particular goal or level of success. If you are competitive and want to win a game, you may be competitive and may exhibit certain behaviors or exhibit certain traits that are associated with competitiveness, such as being a desire to compete for the chance to win the game or event. It is important to note that you are playing the game or sport, as it is important to note the fact that you are preparing for the game with the goal of winning. It is important to note that you are prepared to be competitive and to play the game on the field to improve your performance and improve your skills in order to improve your chances of winning.<extra_id_1> </s>\n",
      "########\n",
      "*******\n",
      "question: Where should watch to avoid being pinched by a crab?\n",
      "answer: sandy beach\n",
      "choices: ['eastern coast', 'sandy beach', 'fish market', 'north carolina', 'sand dunes']\n",
      "common expl list: ['Crabs live in sandy areas, and people who visit sandy beaches are likely to be pinched by crabs.', 'It is more common to find crabs living in sandy beach areas.']\n"
     ]
    },
    {
     "name": "stderr",
     "output_type": "stream",
     "text": [
      "\r",
      " 11%|█████████████████▊                                                                                                                                            | 111/986 [10:32:15<28:15:22, 116.25s/it]"
     ]
    },
    {
     "name": "stdout",
     "output_type": "stream",
     "text": [
      "generated explanation: <pad> <extra_id_0> If you are at a sandy beach, you should watch for crabs. Crabs are solitary animals that live in groups and are often found on beaches. If you are at a sandy beach, you should watch for crabs that are actively searching for food. Crabs may also be attracted to the sand and may be tempted to jump onto the sand to get at the crabs. If you are at a sandy beach, you should watch for crabs that are actively searching for food. Crabs are typically found in colonies, and are found in the ocean, where they can be found.<extra_id_11> </s>\n",
      "########\n",
      "*******\n",
      "question: What is a large group of human beings?\n",
      "answer: civilisation\n",
      "choices: ['an infestation', 'civilisation', 'homes', 'graveyard', 'spacecraft']\n",
      "common expl list: ['Civilisation is generally used to refer to large populations of humans living together in a single area, responding to collective needs.']\n"
     ]
    },
    {
     "name": "stderr",
     "output_type": "stream",
     "text": [
      "\r",
      " 11%|█████████████████▉                                                                                                                                            | 112/986 [10:35:05<32:09:02, 132.43s/it]"
     ]
    },
    {
     "name": "stdout",
     "output_type": "stream",
     "text": [
      "generated explanation: <pad> <extra_id_0> Civilisation is a large group of human beings that is composed of various cultures, languages, religions, and political systems. It is a large group of human beings that is composed of various cultures, languages, and political systems. It is a large group of human beings that is composed of various human groups and that exists in many different parts of the world. Civilisation is a term that is used to describe a large group of human beings that exists in many different parts of the world and that has evolved over time. It is a large group of people who are living together in a large group of people who have become increasingly organized into a social system that has developed over time, and has allowed for the development of many different cultures and traditions that have emerged over time and a variety of cultural traditions that have developed over time and in many different forms of a common language and a common language and a common culture.<extra_id_1> </s>\n",
      "########\n",
      "*******\n",
      "question: What  is likely to happen to ice in the sun?\n",
      "answer: become water\n",
      "choices: ['cool water', 'cool drink', 'cool off', 'nothing', 'become water']\n",
      "common expl list: ['When ice is exposed to the sun, it melts, becoming water.', 'because hot melts cold, ice will melt if kept in the sun.']\n"
     ]
    },
    {
     "name": "stderr",
     "output_type": "stream",
     "text": [
      "\r",
      " 11%|██████████████████                                                                                                                                            | 113/986 [10:36:35<28:59:40, 119.57s/it]"
     ]
    },
    {
     "name": "stdout",
     "output_type": "stream",
     "text": [
      "generated explanation: <pad> <extra_id_0> If ice is exposed to the sun, it is likely that it will melt and become water. This is a common reaction that occurs when solid substances are heated and combine with water molecules to form a solid form. When ice is exposed to the sun, it is likely that it will become water, which is a form of water. As water expands, it will become liquid and eventually become water. As water expands, it will become harder and more transparent, and it will begin to melt. As water melts, it will likely that it will likely that it will become water, which is likely to become a solid.<extra_id_1> </s>\n",
      "########\n",
      "*******\n",
      "question: Where can travellers pull off the road to stretch their legs?\n",
      "answer: rest area\n",
      "choices: ['rest area', 'airport', 'train station', 'come home', 'bus depot']\n",
      "common expl list: ['Rest areas are places where people can pull off the road to stretch their legs, and they are often located near gas stations, which are frequented by travellers.', 'Rest areas are publicly provided spaces for drivers to get out of their cars for a break. Train stations, bus depots, come home, and airports are all places where one might catch a bus, train, taxi, or plane, or have arrived', 'Rest areas generally allow travelers to spend time away from the roads, which are generally connecting points to large cities and particular highway names.']\n"
     ]
    },
    {
     "name": "stderr",
     "output_type": "stream",
     "text": [
      "\r",
      " 12%|██████████████████▎                                                                                                                                           | 114/986 [10:38:13<27:24:19, 113.14s/it]"
     ]
    },
    {
     "name": "stdout",
     "output_type": "stream",
     "text": [
      "generated explanation: <pad> <extra_id_0> Rest areas are places along the roadside where drivers can get some rest and recharge their batteries. Rest areas are places where drivers can stop and stretch their legs and get some much-needed fresh air and some shade. They are often located in the middle of busy roads and offer a chance for drivers to get some much-needed fresh air and<extra_id_1> refresh their batteries. In a rest area, drivers can find benches, tables, and other types of seating. Rest areas can also be used as a place for drivers to sit and relax, and even drive through the country. The roadside highway authorities may also provide opportunities for drivers to stop and relax, and to take breaks. Drivers can also stop and relax in order to breathe, or even walk, or drive.<extra_id_1> </s>\n",
      "########\n",
      "*******\n",
      "question: A poor family has no decorations in December, what would make a great gift?\n",
      "answer: christmas tree\n",
      "choices: ['food', 'specialty store', 'christmas tree', 'department store', 'christmas stocking']\n",
      "common expl list: ['A christmas tree is a traditional decoration for christmas.', 'The family is poor, so we might assume that they have nothing for decoration for their Christmas season. To help fix this, a Christmas tree would be the greatest gift.', 'In December, most families tend to put up christmas decorations. A christmas tree would make a good gift for a poor family.']\n"
     ]
    },
    {
     "name": "stderr",
     "output_type": "stream",
     "text": [
      "\r",
      " 12%|██████████████████▍                                                                                                                                           | 115/986 [10:39:25<24:22:32, 100.75s/it]"
     ]
    },
    {
     "name": "stdout",
     "output_type": "stream",
     "text": [
      "generated explanation: <pad> <extra_id_0> If a poor family has no decorations in December, a great gift would be a christmas tree. A christmas tree is a decorative piece of wood that is typically used for the construction of houses or other structures, such as a shed or garage. A christmas tree can be a wonderful<extra_id_1> gift for a family who has no other means of decorating their home or yard. Christmas trees are beautiful, colorful, and versatile year-round decorations that can be used for many different purposes, such as providing warmth and comfort, and providing a festive atmosphere for the holidays.<extra_id_2> </s>\n",
      "########\n",
      "*******\n",
      "question: Where would you buy jeans in a place with a large number of indoor merchants?\n",
      "answer: shopping mall\n",
      "choices: ['shopping mall', 'laundromat', 'hospital', 'clothing store', 'thrift store']\n",
      "common expl list: ['Shopping malls often have a large number of stores, including clothing stores.', 'Shopping malls usually contain a large variety of stores, including stores that sell clothes and jeans.', 'Since malls (or indoor shopping centers in general) contain numerous merchants, including clothing stores, you could purchase jeans in one such store.']\n"
     ]
    },
    {
     "name": "stderr",
     "output_type": "stream",
     "text": [
      "\r",
      " 12%|██████████████████▋                                                                                                                                            | 116/986 [10:41:02<24:07:20, 99.82s/it]"
     ]
    },
    {
     "name": "stdout",
     "output_type": "stream",
     "text": [
      "generated explanation: <pad> <extra_id_0> You would buy jeans in a place with a large number of indoor merchants, such as a shopping mall. A shopping mall is a place with a large number of indoor merchants, such as a mall or shopping center, and it is a place where you might buy jeans. Jeans are a popular type of clothing that is typically sold in a variety of styles, fits, and colors, and they are often sold in retail stores or department stores. These types of stores are typically found in large cities or in the city. If you want to buy jeans, you would go to a place with a large number of indoor merchants, such as a mall or shopping center.</s>\n",
      "########\n",
      "*******\n",
      "question: If I wanted to get some oxygen, what will I get it from?\n",
      "answer: air\n",
      "choices: ['the sky', 'air', 'earth', 'space shuttle', 'water']\n",
      "common expl list: ['Oxygen is found in the air.']\n"
     ]
    },
    {
     "name": "stderr",
     "output_type": "stream",
     "text": [
      "\r",
      " 12%|██████████████████▊                                                                                                                                            | 117/986 [10:42:37<23:44:36, 98.36s/it]"
     ]
    },
    {
     "name": "stdout",
     "output_type": "stream",
     "text": [
      "generated explanation: <pad> <extra_id_0> If I wanted to get some oxygen, I would need to find some<extra_id_1> Oxygen is a gas that is used by living organisms as a form of transportation for oxygen to and from distant locations, such as the lungs, the blood, the skin, and the tissues of plants and animals. It is important for humans to have access to oxygen, as it is essential for proper growth and development. However, oxygen is also found in air that we breathe, such as in the form of oxygen-rich air. Air is a form of oxygen that is necessary for life and health benefits, including improved realism and health. It is important to understand that oxygen is necessary for life and that we need to get our daily needs.<extra_id_1> </s>\n",
      "########\n",
      "*******\n",
      "question: What happens after having food too much?\n",
      "answer: getting fat\n",
      "choices: ['being full', 'laziness', 'weight gain', 'getting fat', 'will not starve']\n",
      "common expl list: ['Eating too much food causes one to become obese.', 'People will become fat, and even obese from eating too much food.', 'Eating too much food causes one to gain weight, and thus become fat.']\n"
     ]
    },
    {
     "name": "stderr",
     "output_type": "stream",
     "text": [
      "\r",
      " 12%|███████████████████                                                                                                                                            | 118/986 [10:43:50<21:51:00, 90.62s/it]"
     ]
    },
    {
     "name": "stdout",
     "output_type": "stream",
     "text": [
      "generated explanation: <pad> <extra_id_0> If you have too much food, you may end up getting fat. Fat is a type of body<extra_id_1> s that is made up of adipose tissue and water. When you are overweight, you may experience weight gain and other health problems. Fat is a type of body tissue that is made up of fatty acids, proteins, and other nutrients. It is not clear what causes fat gain or how much food you should eat to reach your ideal body weight. It is not clear whether you are overweight or not, but rather than a healthy diet and exercise will help you to lose weight.<extra_id_1> </s>\n",
      "########\n",
      "*******\n",
      "question: It was the first time they had met their new niece, it was good to have everybody together at the annual what?\n",
      "answer: family reunion\n",
      "choices: [\"brother's house\", 'family picture book', 'family tree', 'family reunion', 'book']\n",
      "common expl list: ['A family reunion is called a family reunion because this is where all of the family members gather for the re-union.']\n"
     ]
    },
    {
     "name": "stderr",
     "output_type": "stream",
     "text": [
      "\r",
      " 12%|███████████████████▏                                                                                                                                           | 119/986 [10:45:49<23:50:57, 99.03s/it]"
     ]
    },
    {
     "name": "stdout",
     "output_type": "stream",
     "text": [
      "generated explanation: <pad> <extra_id_0> It was good to have everybody together at the annual family reunion. It was the first time they had met their new niece, it was good to have everybody together at the annual family reunion. It was the first time they had met their new niece, it was good to have everybody together at the annual family reunion. It was good to have everybody together at the annual family reunion. It was the first time they had met their new niece, it was good to have everybody together at the annual family reunion. It was the first time they had met their new niece, so it was good to have her family together. It was good to meet her family. It was good to have her family. It was good to have everybody together. The annual family reunion was the annual family reunion. It was good to have everyone. It was good to have everybody together. It was good to meet her family and to have everybody. It was good to have everyone.</s>\n",
      "########\n",
      "*******\n",
      "question: If you're expressing yourself in a public forum, what may you experience?\n",
      "answer: stage fright\n",
      "choices: ['danger', 'embarrassment', 'stage fright', 'getting arrested', 'blank stares']\n",
      "common expl list: ['If you are expressing yourself in a public forum, you may experience stage fright, which is the fear of being embarrassed in front of a large audience.', 'A common example of expressing oneself in public is on stage. Members of an audience may stare and become bored, and at worst they may hiss or boo.', 'Stage fright is the feeling of embarrassment or nervousness at the thought of being in front of people, and being on stage for a performance is a good example of a place where one often experiences stage fright. In such a case, their performance might be']\n"
     ]
    },
    {
     "name": "stderr",
     "output_type": "stream",
     "text": [
      "\r",
      " 12%|███████████████████▎                                                                                                                                           | 120/986 [10:47:25<23:36:04, 98.11s/it]"
     ]
    },
    {
     "name": "stdout",
     "output_type": "stream",
     "text": [
      "generated explanation: <pad> <extra_id_0> If you're expressing yourself in a public forum, you may experience stage fright. Stage fright is a condition that occurs when you are expressing yourself in a public forum and you are experiencing anxiety about the experience of performing in front of an audience or a large group of people. It is common for people to experience this feeling of trepidation or anxiety before they begin to speak or perform in front of others. It can also cause you to freeze up and become very nervous about the performance. If you're experiencing stage fright, you may experience anxiety about your performance or performance. This is because you're not comfortable with the audience. It is important to be aware of your comfort level and your comfort level of public speaking or performing arts.<extra_id_1> </s>\n",
      "########\n",
      "*******\n",
      "question: He was eating too much while no exercising enough, what did he suffer as a result?\n",
      "answer: gain weight\n",
      "choices: ['hungry', 'gas', 'obesity', 'gain weight', 'feeling full']\n",
      "common expl list: [\"If you eat too much and don't exercise enough, you will gain weight.\", 'If you eat more than you burn, you gain weight.', 'Excessive food consumption leads to accumulation of fat, which then results in a higher body weight, i.e., weight gain.']\n"
     ]
    },
    {
     "name": "stderr",
     "output_type": "stream",
     "text": [
      "\r",
      " 12%|███████████████████▌                                                                                                                                           | 121/986 [10:48:54<22:58:43, 95.63s/it]"
     ]
    },
    {
     "name": "stdout",
     "output_type": "stream",
     "text": [
      "generated explanation: <pad> <extra_id_0> If a man was eating too much while no exercising enough, he may have gained weight as a result. If a man was eating too much while no exercising enough, he may have gained weight as a result. Weight gain occurs when people who are overweight or obese have trouble losing weight or maintaining a healthy weight. If a person is overweight or obese, it is likely that they have gained excess weight as a result of their poor eating habits and inactivity. This can lead to health problems such as high blood pressure, diabetes, heart disease, and other conditions. When combined with poor nutrition, however, it can lead to obesity, diabetes, and other health problems.<extra_id_1> </s>\n",
      "########\n",
      "*******\n",
      "question: Randy was not doing housework.   His wife was raising two children, and this only increased her workload. It put her under a lot of stress.  What might this lead to?\n",
      "answer: arguments\n",
      "choices: ['asthma', 'more', 'boredom', 'headache', 'arguments']\n",
      "common expl list: ['Stress is often related to family life. Being under stress, the wife might verbally lash out at her husband, which could potentially lead to arguments']\n"
     ]
    },
    {
     "name": "stderr",
     "output_type": "stream",
     "text": [
      "\r",
      " 12%|███████████████████▌                                                                                                                                          | 122/986 [10:51:07<25:34:53, 106.59s/it]"
     ]
    },
    {
     "name": "stdout",
     "output_type": "stream",
     "text": [
      "generated explanation: <pad> <extra_id_0> If Randy was not doing housework, his wife was raising two children. This increased her workload and may have led to arguments. Arguments are often a result of stress and tension that is caused by a lack of time or energy on the part of either party. This increased workload can lead to arguments between spouses and can lead to a breakdown of the marriage. This can be a serious problem if the relationship is already strained. If the stress and tension is high, it can lead to arguments and tension between spouses. If the situation is a cause for the couple is in a relationship, it might be possible that the couple is experiencing problems in their relationship. They may have started to become increasingly difficult to maintain their marriage relationship. Randy’s wife was raising two children and was not doing housework, and was therefore not doing housework. This could lead to a lack of time and a lot of arguments and other forms of communication and/or a deteriorated</s>\n",
      "########\n",
      "*******\n",
      "question: Where can you learn about a ferret with special abilities far beyond normal ferrets?\n",
      "answer: comic book\n",
      "choices: ['comic book', 'out of doors', 'great britain', 'redwall', 'north carolina']\n",
      "common expl list: ['ferrets are lovable pets that occasionally pop up in comic or animated shows and movies. Occasionally a ferret is rodent, but more often they are the companion of a hero.']\n"
     ]
    },
    {
     "name": "stderr",
     "output_type": "stream",
     "text": [
      "\r",
      " 12%|███████████████████▋                                                                                                                                          | 123/986 [10:52:57<25:48:40, 107.67s/it]"
     ]
    },
    {
     "name": "stdout",
     "output_type": "stream",
     "text": [
      "generated explanation: <pad> <extra_id_0> A comic book is a work of fiction or nonfiction that is published by a publisher or creator that is based on real events or is based on a work of fiction. A comic book is a work of fiction or nonfiction that is published by a publisher or creator that is published by a publishing company or<extra_id_1> series of publishers that are widely read in the publishing industry and that typically features the adventures of a fictional character, usually a person, place, or thing. A comic book may also be published by another medium, such as the visual or pacing or reactivity. or other special abilities. You may also learn about the special abilities of a pet or other ways that a ferret may have a pet, or training.<extra_id_1> </s>\n",
      "########\n",
      "*******\n",
      "question: When people have guests over, what do they often do for their guests?\n",
      "answer: cook food\n",
      "choices: ['talk to each other', 'learn from each other', 'demand justice', 'cook food', 'share food']\n",
      "common expl list: [\"When people have guests over, it's common for them to make food for their guests.\", 'People often cook food for their guests.', \"It's common to cook food for guests, which can feed everyone.\", \"People who have guests (guests of any kind) over tend to cook them food. The food can either be pre-cooked, and ready to be served upon the guest's arrival, or consumed while the two of them have a conversation.\", \"People often prepare and share food because it's a way to welcome and appreciate each other.\"]\n"
     ]
    },
    {
     "name": "stderr",
     "output_type": "stream",
     "text": [
      "\r",
      " 13%|███████████████████▉                                                                                                                                           | 124/986 [10:54:08<23:08:38, 96.66s/it]"
     ]
    },
    {
     "name": "stdout",
     "output_type": "stream",
     "text": [
      "generated explanation: <pad> <extra_id_0> When people have guests over, they often do what they do when they have guests over: they often cook food for them. When people have guests over, they often do what they often do when they have guests over: they often cook food for them. Cooking food for guests is a common activity that many people do when they have guests over, and it can be a fun and enjoyable experience. Cooking food for guests can be done in many different ways, such as on the stove, in the oven, in the refrigerator, or in the a meal to serve to their guests.<extra_id_1> </s>\n",
      "########\n",
      "*******\n",
      "question: Talking to someone is pointless if they're doing what?\n",
      "answer: not listening\n",
      "choices: ['dry mouth', 'whispering', 'being heard', 'eye contact', 'not listening']\n",
      "common expl list: ['To be engaged in a conversation--particularly a one-on-one conversation, both people must be listening attentively.', 'People who are not listening to you will obviously not be able to understand your communication.']\n"
     ]
    },
    {
     "name": "stderr",
     "output_type": "stream",
     "text": [
      "\r",
      " 13%|████████████████████                                                                                                                                          | 125/986 [10:57:00<28:32:03, 119.31s/it]"
     ]
    },
    {
     "name": "stdout",
     "output_type": "stream",
     "text": [
      "generated explanation: <pad> <extra_id_0> Talking to someone is pointless if they're doing something else, such as not listening to you or not really listening to what you have to say. Not listening is a form of active listening, in which the person is actively engaged in the conversation and is not actively engaged in the conversation<extra_id_1> If someone is not actively listening, it is likely that they are not engaged in it and are instead focused on something else, such as doing something else, such as reading, writing, or playing a computer game. If someone is not actively listening, it is likely that they are doing something else, such as not listening to you, or otherwise not hearing you, or that they're not listening is a way of communicating with you, or if they are not interested in your message, or otherwise not interested in hearing you, it is likely that they are not able to hear you, or are otherwise engaged in the conversation, it is likely that they are not interested in hearing you, and you are not interested in your message, or are not interested in what you, or are simply not being active in the, or even a a, or are not listening to you, or a good, or if you, to effectively, or in the a<extra_id_16>, or if you, in,</s>\n",
      "########\n",
      "*******\n",
      "question: If you are enjoying sunshine on the beach, what do you likely have views of?\n",
      "answer: sea\n",
      "choices: ['windowsill', 'sunbathers', 'disneyland', 'sea', 'summer']\n",
      "common expl list: [\"The beach is a place where people go to enjoy the sun, and so it's likely that the beach would have views of the sea.\", 'To sunbathe, one would likely be found on a beach, where one would likely see the sea before anything else.', 'Seashores usually have views of the water (i.e., the \"sea\").']\n"
     ]
    },
    {
     "name": "stderr",
     "output_type": "stream",
     "text": [
      "\r",
      " 13%|████████████████████▏                                                                                                                                         | 126/986 [10:58:35<26:45:28, 112.01s/it]"
     ]
    },
    {
     "name": "stdout",
     "output_type": "stream",
     "text": [
      "generated explanation: <pad> <extra_id_0> If you are enjoying sunshine on the beach, you likely have views of the sea. The sea is the ocean, and it is the largest body of water in the world. It is considered to be the most biologically diverse ecosystem on Earth, and it is believed that it is the most diverse<extra_id_1> Sea life is found in coastal areas, and it is thought that they may be the source of many different types of life, including plants, animals, and plants.<extra_id_1> Sea life is the largest living organism on Earth, and it is thought that it is the most likely that you are enjoying the sun and the beach. If you are enjoying the sunshine on the beach, you may have views of the sea.<extra_id_1> </s>\n",
      "########\n",
      "*******\n",
      "question: What does an actor do while acting?\n",
      "answer: pretend\n",
      "choices: ['branch out', 'eat curry', 'wear costume', 'pretend', 'sing songs']\n",
      "common expl list: ['Actors pretend certain things. While acting, they might pretend to be in a different location by going somewhere close to a stage feed. Actors might also pretend to possess particular materials while on stage by carrying props.']\n"
     ]
    },
    {
     "name": "stderr",
     "output_type": "stream",
     "text": [
      "\r",
      " 13%|████████████████████▎                                                                                                                                         | 127/986 [11:00:12<25:39:41, 107.55s/it]"
     ]
    },
    {
     "name": "stdout",
     "output_type": "stream",
     "text": [
      "generated explanation: <pad> <extra_id_0> An actor does not pretend to be someone else. An actor does not pretend to be someone else while performing. An actor does not pretend to be someone else while performing an acting role. An actor does not pretend to be someone else when they are performing an acting role. An actor does not pretend to be someone else while they are performing an acting role. An actor does not pretend to be someone else when they are performing an acting role. An actor does not pretend to be someone else while performing an acting role. An actor does not pretend to be someone else while performing a part of a role. A director or director may also be a supporting role as a supporting role. a character.<extra_id_1> </s>\n",
      "########\n",
      "*******\n",
      "question: Where is a ring binder likely to contain budgets?\n",
      "answer: office\n",
      "choices: ['office', 'notebook', 'school', 'stationary shop', 'desk']\n",
      "common expl list: ['An office setting is the most likely place where a manager would keep a collection of budgets.', 'A ring binder is likely to contain budgets in an office, as budgets are often prepared by office workers.']\n"
     ]
    },
    {
     "name": "stderr",
     "output_type": "stream",
     "text": [
      "\r",
      " 13%|████████████████████▋                                                                                                                                          | 128/986 [11:01:31<23:35:35, 98.99s/it]"
     ]
    },
    {
     "name": "stdout",
     "output_type": "stream",
     "text": [
      "generated explanation: <pad> <extra_id_0> A ring binder is likely to contain budgets. Budgets are documents that are used to track and track expenses and revenue. Budgets are used in the planning and execution of projects, projects, and programs, and tracking progress toward goals and objectives. Budgets are used in the planning and implementation of projects and programs, and they typically include a range of budgets, measures, and deadlines. Budgets are typically created and maintained as part of a project plan and typically include a range of costs and budget items, such as the project management team and team members of the project manager or project manager.<extra_id_1> </s>\n",
      "########\n",
      "*******\n",
      "question: Where do you go when you're about to board a vehicle on railing?\n",
      "answer: railway station\n",
      "choices: ['railway station', 'deck', 'flight of stairs', 'porch', 'bus station']\n",
      "common expl list: ['Railway stations are where you board trains, which are often on rails.', 'Trains and busses both commonly make use of rail transportation to facilitate their travel. Railway station is the station they are staking out to board at. Thus, railway station is where you would go if you need to board a vehicle on a']\n"
     ]
    },
    {
     "name": "stderr",
     "output_type": "stream",
     "text": [
      "\r",
      " 13%|████████████████████▊                                                                                                                                          | 129/986 [11:02:56<22:34:42, 94.84s/it]"
     ]
    },
    {
     "name": "stdout",
     "output_type": "stream",
     "text": [
      "generated explanation: <pad> <extra_id_0> If you're about to board a vehicle on railing, you may go to a railway station. A railway station is a place where you can board a vehicle that is being pulled by a train or other type of vehicle. A railway station is typically located near a train station or other transportation hub and is often used as a boarding point for passengers to board trains or other types of vehicles. When you go to a railway station, you may be at a railway station or other transportation hub where you can board the vehicle and wait for your ride. Your safety is the primary concern and you may be required to a thorough inspection of the vehicle and its surroundings.<extra_id_1> </s>\n",
      "########\n",
      "*******\n",
      "question: Where can I go to see a really big toy balloon floating at the top of a dome?\n",
      "answer: circus\n",
      "choices: ['parade', 'circus', 'amusement park', 'birthday party', 'magic show']\n",
      "common expl list: ['Circuses often have big inflatables on the top dome of a tent; inside, they could house various attractions such as clowns, acts, games, rides, food, drinks, etc.']\n"
     ]
    },
    {
     "name": "stderr",
     "output_type": "stream",
     "text": [
      "\r",
      " 13%|████████████████████▉                                                                                                                                          | 130/986 [11:04:29<22:23:01, 94.14s/it]"
     ]
    },
    {
     "name": "stdout",
     "output_type": "stream",
     "text": [
      "generated explanation: <pad> <extra_id_0> If I want to see a really big toy balloon floating at the top of a dome, I can go to the circus. The circus is a type of public entertainment that takes place in a central location and often features large, colorful, and oftentimes elaborate structures, such as a dome or tent, and it is often the focus of attention for visitors. One of the most popular attractions in the circus is the balloon, which is a large, colorful balloon that is often used in circus performances and events. The balloon is a fun, exciting, and entertaining experience for all ages. It is a fun and exciting way to see a big balloon in a new place, and it is oftentimes, as well-known, and fun and exciting toy<extra_id_1> </s>\n",
      "########\n",
      "*******\n",
      "question: They got to the door and it was locked, he reached in his jeans what to retrieve the key?\n",
      "answer: pocket\n",
      "choices: ['pocket', 'bus depot', 'lock', 'purse', 'front door']\n",
      "common expl list: ['Most people keep house keys in their pocket.', 'People often keep their keys in their pockets.']\n"
     ]
    },
    {
     "name": "stderr",
     "output_type": "stream",
     "text": [
      "\r",
      " 13%|█████████████████████                                                                                                                                          | 131/986 [11:05:43<20:57:09, 88.22s/it]"
     ]
    },
    {
     "name": "stdout",
     "output_type": "stream",
     "text": [
      "generated explanation: <pad> <extra_id_0> When they got to the door and it was locked, he reached in his jeans to retrieve the key. Jeans are a type of casual clothing that is typically made of cotton and have a variety of fabrics, such as denim, wool, and fleece, which are all lightweight fabrics that are often worn for short periods of time. If the key was missing or damaged, it is likely that the man reached in his pocket to retrieve it. If he did not have the key with him, he could have reached in his pocket and retrieved the key from his pocket. Jeans are often worn or </s>\n",
      "########\n",
      "*******\n",
      "question: The car was overheating, where was it located?\n",
      "answer: in phoenix\n",
      "choices: ['airport', \"neighbor's house\", 'in phoenix', 'repair shop', 'street corner']\n",
      "common expl list: ['Phoenix is a hot place, and cars often overheat there.']\n"
     ]
    },
    {
     "name": "stderr",
     "output_type": "stream",
     "text": [
      "\r",
      " 13%|█████████████████████▏                                                                                                                                        | 132/986 [11:08:19<25:45:22, 108.57s/it]"
     ]
    },
    {
     "name": "stdout",
     "output_type": "stream",
     "text": [
      "generated explanation: <pad> <extra_id_0> The car was overheating, and it was located in phoenix. The car was overheating, and it was located in phoenix, Arizona. The car was overheating, and it was overheating, and it was overheating. The car was located in phoenix, Arizona. The car was overheating, and it was overheating, and it was overheating. The car was overheating, and it was located in phoenix, Arizona. The car was overheating, and it was overheating. The car was located in phoenix, and it was overheating, and it was overheating, and it was overheating. The car was overheating, and it was a common occurrence, and it was overheating. The car was a common problem with the engine. The car was overheating, and it was likely that it was a radiator cling, and it was causing the engine and other parts of the engine. It was a a a.<extra_id_1> </s>\n",
      "########\n",
      "*******\n",
      "question: Where is likely to have a walk in type wardrobe?\n",
      "answer: mansion\n",
      "choices: ['recreational vehicle', 'clothes cupboard', 'house', 'mansion', 'bedroom']\n",
      "common expl list: ['A walk in wardrobe is a large type of closet that could be found in a mansion.', 'As I think of scenarios, the result I expect the most is that of a person with a lot of clothes, or a clothing designer, living in a mansion; these people might have the luxury of a walk in wardrobe.', 'A walk-in wardrobe is a large wardrobe that is usually found in a mansion.']\n"
     ]
    },
    {
     "name": "stderr",
     "output_type": "stream",
     "text": [
      "\r",
      " 13%|█████████████████████▎                                                                                                                                        | 133/986 [11:10:30<27:19:52, 115.35s/it]"
     ]
    },
    {
     "name": "stdout",
     "output_type": "stream",
     "text": [
      "generated explanation: <pad> <extra_id_0> A mansion is a home that is designed and built for the purpose of allowing its occupants more space and privacy. Walk in wardrobes are typically found in mansions and other large buildings, and they are often equipped with various storage and clothing facilities, such as a walk-in closet, a walk-in closet, a walk-in closet, or both. A walk-in wardrobe is a room that is designed and equipped with hanging and shelving space, as well as a mirror and hanging space for a receptive access to a private residence or other large space and a walk-outlet or apartment building. If your home or apartment has a walk-in wardrobe, it is likely that you have a walk-in type of wardrobes, especially if it is a separate bedroom or a large, open-mindedness and privacy.<extra_id_1> </s>\n",
      "########\n",
      "*******\n",
      "question: How bad is the punishment for someone who is over indulgent?\n",
      "answer: severe\n",
      "choices: ['severe', 'harsh', 'hard', 'strict', 'self denying']\n",
      "common expl list: ['Overindulgence in anything is bad, possibly leading to lethargy, poor health, overspending, and the like. As a result of this, a punishment for a person who is over-indulgent could be severe.']\n"
     ]
    },
    {
     "name": "stderr",
     "output_type": "stream",
     "text": [
      "\r",
      " 14%|█████████████████████▍                                                                                                                                        | 134/986 [11:12:03<25:39:18, 108.40s/it]"
     ]
    },
    {
     "name": "stdout",
     "output_type": "stream",
     "text": [
      "generated explanation: <pad> <extra_id_0> The punishment for someone who is over indulgent is severe. In fact, the punishment for overindulgence is typically quite severe. Overindulgence is a behavior that involves excessive eating or drinking and is often accompanied by negative consequences, such as weight gain or weight loss. Overindulgence is often a sign of a problem and can lead to health problems and even death. It is important that someone who is overindulgent is aware of this and that it is not acceptable to engage in such behavior.<extra_id_1> </s>\n",
      "########\n",
      "*******\n",
      "question: She was going to bed at 11 at night, what was she looking to do?\n",
      "answer: falling asleep\n",
      "choices: ['falling asleep', 'relaxing', 'rest', 'dreaming of', 'laziness']\n",
      "common expl list: [\"People go to bed when they're tired and want to sleep\", 'Falling asleep is often a desired result when going to bed.']\n"
     ]
    },
    {
     "name": "stderr",
     "output_type": "stream",
     "text": [
      "\r",
      " 14%|█████████████████████▋                                                                                                                                        | 135/986 [11:14:11<27:02:05, 114.37s/it]"
     ]
    },
    {
     "name": "stdout",
     "output_type": "stream",
     "text": [
      "generated explanation: <pad> <extra_id_0> If she was going to bed at 11 at night, she was looking to fall asleep. Falling asleep is the process of gradually relaxing the body and mind through the act of waking and falling asleep. It is not easy to fall asleep and to stay asleep for the entire sleep cycle. It is not uncommon for people who are going to bed at 11 to experience difficulty falling asleep or staying asleep. It is not uncommon for people who are going to bed at 11 to fall asleep and then have trouble falling asleep or staying asleep. This is because the body and mind to relax and to sleep.<extra_id_1> </s>\n",
      "########\n",
      "*******\n",
      "question: A company with the moniker of Big Sky Excavation would probably be found where?\n",
      "answer: montana\n",
      "choices: ['a forest', 'city', 'egypt', 'montana', 'desert']\n",
      "common expl list: ['Mountain ranges are often called \"big sky\"s. The term is popular for companies in Montana, a state with lots of mountians, including two major mountain ranges.']\n"
     ]
    },
    {
     "name": "stderr",
     "output_type": "stream",
     "text": [
      "\r",
      " 14%|█████████████████████▊                                                                                                                                        | 136/986 [11:16:16<27:47:53, 117.73s/it]"
     ]
    },
    {
     "name": "stdout",
     "output_type": "stream",
     "text": [
      "generated explanation: <pad> <extra_id_0> A company with the moniker Big Sky Excavation would be found in the state of Montana. In order to be able to use this moniker, it is necessary that the company has a physical location in Montana. For example, if the company is located in Montana and its primary market is the state of Montana, it is likely that the company will be located in that state. If the company is located in Montana, it is likely that the company would be located in Big Sky, which is a mountainous region of the state. Big Sky Excavation is a type of mining and underground mining operations are common in this region, and they may be engaged in the process of underground mining and underground mining in order to provide access to mineral deposits and other minerals and geologic exploration and a variety of services and equipment to customers in the underground mining and exploration of underground mining and related services and a variety of services and services.</s>\n",
      "########\n",
      "*******\n",
      "question: Which horseman of the apocalypse is often depicted next to death?\n",
      "answer: war\n",
      "choices: ['battlefield', 'the healer.', 'funeral', 'war', 'hospital']\n",
      "common expl list: ['A time of war is also often associated with someone dying.']\n"
     ]
    },
    {
     "name": "stderr",
     "output_type": "stream",
     "text": [
      "\r",
      " 14%|█████████████████████▉                                                                                                                                        | 137/986 [11:18:21<28:13:38, 119.69s/it]"
     ]
    },
    {
     "name": "stdout",
     "output_type": "stream",
     "text": [
      "generated explanation: <pad> <extra_id_0> The horseman of the apocalypse is often depicted next to death. Death is often depicted next to the horseman of war, which is often next to death. Death is often depicted as the<extra_id_1> fourth<extra_id_1> horseman of the apocalypse, and it is often thought that death is the fourth horseman of the apocalypse, or the fourth horseman of the<extra_id_1> apocalypse, or the final judgment or the final judgment or judgment. The final judgment will be on the people, or the world, or the four horseman of the four letters or symbols of the four horsemen of the four – or the four – or the four horsemen of war, or the four horsemen of the four horseman of the four horsemend, or the four horsemen of the four horsemen, or the four horseman, or the four-line</s>\n",
      "########\n",
      "*******\n",
      "question: What could be used to write with a steel pen?\n",
      "answer: hand\n",
      "choices: ['warehouse', 'arm', 'hand', 'desk drawer', 'veterinary office']\n",
      "common expl list: ['you write with a steel pen using your hand.', 'Using a steel pen requires someone to hold it, and we associate writing with hands. Powder can be used with steel pens as a \"contrast medium.']\n"
     ]
    },
    {
     "name": "stderr",
     "output_type": "stream",
     "text": [
      "\r",
      " 14%|██████████████████████                                                                                                                                        | 138/986 [11:20:23<28:24:44, 120.62s/it]"
     ]
    },
    {
     "name": "stdout",
     "output_type": "stream",
     "text": [
      "generated explanation: <pad> <extra_id_0> A steel pen is a writing instrument that is used for the production of engraved or inscribed pieces of metal or stone that are used in the production of writing instruments, such as letters, numbers, and symbols. Pens are typically made of steel or iron and are available in a variety of styles, materials, and finishes. Steel pens can be used for a variety of purposes, including the production of letters, numbers, and symbols, as well as writing messages and other types of correspondence. Steel pens are often used for writing checks, and they are often used for the handling and control of the pen, and they are often used for the production of documents, such as documents, and they are often used for the construction and maintenance of the pen, and they are durable and reliable. They are also convenient and easy to use, as they are lightweight and easy to maintain their quality and reliability. They are often used for</s>\n",
      "########\n",
      "*******\n",
      "question: I needed to find out how to contact a person with a certain name, where should I look?\n",
      "answer: phone book\n",
      "choices: ['directory', 'michigan', 'roster', 'phone book', 'certificate']\n",
      "common expl list: ['People are listed in phone books for easy access by callers.', \"Phone books are used to find people's phone numbers.\", 'A phone book is likely to have the phone numbers of nearby people.', 'Phone books are usually a good source for finding phone numbers to call other people.']\n"
     ]
    },
    {
     "name": "stderr",
     "output_type": "stream",
     "text": [
      "\r",
      " 14%|██████████████████████▎                                                                                                                                       | 139/986 [11:22:39<29:27:34, 125.21s/it]"
     ]
    },
    {
     "name": "stdout",
     "output_type": "stream",
     "text": [
      "generated explanation: <pad> <extra_id_0> If I needed to contact a person with a certain name, I should look in the phone book. The phone book is a book that lists the names and addresses of people who are known by a particular name and often includes contact information such as a person's phone number, address, and email address. The phone book can also be used to find out more about a person's interests and hobbies, and it may also include other information, such as the person's preferred method of contact, preferred method of contact, and the most common way to find out is to look in the directory or other sources of information, such as a person's name in a phone book, online, or in a directory. If I needed to contact a person with a certain name, I could use the name and/or address in the directory. If I needed to contact a person, the name and/or a particular name, or a particular phone number, or a a phone book or a a phone book or a phone number, in</s>\n",
      "########\n",
      "*******\n",
      "question: What is important for a couple to do?\n",
      "answer: communicate\n",
      "choices: ['live together', 'row about', 'plan to marry', 'communicate', 'marry each other']\n",
      "common expl list: [\"To make a relationship work, it's very important to communicate with each other.\", 'Communication is a key part of a healthy relationship and - often equally as important - is the commitment to communicate effectively.', 'Couples who communicate well are more likely to stay together, and thus, it is important for a couple to communicate.']\n"
     ]
    },
    {
     "name": "stderr",
     "output_type": "stream",
     "text": [
      "\r",
      " 14%|██████████████████████▍                                                                                                                                       | 140/986 [11:23:41<24:57:34, 106.21s/it]"
     ]
    },
    {
     "name": "stdout",
     "output_type": "stream",
     "text": [
      "generated explanation: <pad> <extra_id_0> It is important for a couple to communicate. Communication is the act of talking to another person about your feelings, thoughts, and experiences. Communication is the process by which two people are able to express themselves, their thoughts, and their feelings to each other. It is important for a couple to have open and honest communication with each other, so that both partners can understand each other's perspectives and needs. It is important for a couple to be able to express their feelings and needs to each other, and for each partner to understand the other.<extra_id_1> </s>\n",
      "########\n",
      "*******\n",
      "question: The botanist knew the plant was living, what did he observe that led him to know that?\n",
      "answer: respiration\n",
      "choices: ['interaction', 'death', 'respiration', 'expiration', 'chlorophyll']\n",
      "common expl list: [\"The teacher commonly noted that plants give off oxygen as a result of respiration, which helps fuel their energy and growth. This was evidence of a plant's life.\"]\n"
     ]
    },
    {
     "name": "stderr",
     "output_type": "stream",
     "text": [
      "\r",
      " 14%|██████████████████████▌                                                                                                                                       | 141/986 [11:25:07<23:29:42, 100.10s/it]"
     ]
    },
    {
     "name": "stdout",
     "output_type": "stream",
     "text": [
      "generated explanation: <pad> <extra_id_0> If the botanist knew the plant was living, what did he observe that led him to know that it was alive? The botanist would have observed the plant's respiration, which is the process by which plants release oxygen into the atmosphere to create new oxygen and waste products. This process is known as photosynthesis, and it is a natural way for plants to maintain their life and to produce new cells and other substances. When a plant is living, it is able to sustain its own life and to produce new substances that are essential for its survival and growth. In order to maintain its life, it is important for plants to have a healthy, vibrant, and vibrant color and to be able to be studied by experts.<extra_id_1> </s>\n",
      "########\n",
      "*******\n",
      "question: What is it called when teens are together not doing anything in particular?\n",
      "answer: hang out\n",
      "choices: ['smoke', 'homework', 'volunteer', 'party', 'hang out']\n",
      "common expl list: ['Hang out is a term that could be used for teens hanging out together, typically with no particular agenda.', 'Hanging out\" is used to describe events where people are socializing, doing nothing in particular. Other events include hanging out with a purpose (doing homework, studying outside, going shopping, etc.).']\n"
     ]
    },
    {
     "name": "stderr",
     "output_type": "stream",
     "text": [
      "\r",
      " 14%|██████████████████████▉                                                                                                                                        | 142/986 [11:26:23<21:44:27, 92.73s/it]"
     ]
    },
    {
     "name": "stdout",
     "output_type": "stream",
     "text": [
      "generated explanation: <pad> <extra_id_0> When teens are together not doing anything in particular, they are called to hang out. Hang out is the term used for the activity of being together and not doing anything in particular. It is a form of leisure activity that involves the voluntary participation in the activities of others, such as talking, playing sports, or playing video games. Hanging out is a form of free-time that is spent doing recreational or leisure activities that are not related to work, school, or other obligations. It is a common form of social interaction among teens and can include anything from playing games to just hanging out, talking, or just relaxing, when teens are together and not doing anything in particular.<extra_id_1> </s>\n",
      "########\n",
      "*******\n",
      "question: The saw was not necessary for car repair, so what wasn't it included with during pucrhase?\n",
      "answer: tool kit\n",
      "choices: ['tool shed', 'tool box', 'tool kit', 'hardware store', 'toolbox']\n",
      "common expl list: ['A saw is another name for a cutting tool, but they are often not included with a tool kit, because a kit is used for other repair needs (bolts, screws, bindings, etc.), and a saw is not required for a car repair']\n"
     ]
    },
    {
     "name": "stderr",
     "output_type": "stream",
     "text": [
      "\r",
      " 15%|███████████████████████                                                                                                                                        | 143/986 [11:27:25<19:36:38, 83.75s/it]"
     ]
    },
    {
     "name": "stdout",
     "output_type": "stream",
     "text": [
      "generated explanation: <pad> <extra_id_0> The saw was not necessary for car repair, so it was not included in the tool kit. A tool kit is a collection of tools that is used for car repair, maintenance, and general maintenance. A tool kit is a collection of hand and power tools that are used for car repair and maintenance. A tool kit is a set of tools that is used for car repair and maintenance and is used for performing various types of repairs and maintenance tasks on a vehicle. A tool kit may include a variety of different tools, such as a </s>\n",
      "########\n",
      "*******\n",
      "question: Where will my kid put their coin in their room?\n",
      "answer: piggy bank\n",
      "choices: ['piggy bank', 'wishing well', 'parking meter', 'under pillow', 'change purse']\n",
      "common expl list: ['Kids commonly save small amounts of money for later use, and these savings are often kept in piggy banks.', 'Piggy banks are often used to store coins.']\n"
     ]
    },
    {
     "name": "stderr",
     "output_type": "stream",
     "text": [
      "\r",
      " 15%|███████████████████████▏                                                                                                                                       | 144/986 [11:28:36<18:40:14, 79.83s/it]"
     ]
    },
    {
     "name": "stdout",
     "output_type": "stream",
     "text": [
      "generated explanation: <pad> <extra_id_0> My kid will put their coin in their room. Piggy bank. A piggy bank is a container that is typically made of metal or plastic and is used as a container for storing coins and other small items. It is often used in bedrooms and living areas where kids keep their money and other small items. A piggy bank is a small container that is typically used for storing coins and other small items. It is typically located in a child's room and is typically located near the bed or other furniture in the room. It is common for kids to keep their coins in a safe place and to avoid theft.<extra_id_1> </s>\n",
      "########\n",
      "*******\n",
      "question: Where is a fire extinguisher likely to be found behind the seat?\n",
      "answer: school bus\n",
      "choices: ['school bus', 'house', 'garden', 'stairwell', 'garage']\n",
      "common expl list: ['Fire extinguishers are required on public-transit vehicles, such as school buses.']\n"
     ]
    },
    {
     "name": "stderr",
     "output_type": "stream",
     "text": [
      "\r",
      " 15%|███████████████████████▍                                                                                                                                       | 145/986 [11:29:42<17:38:47, 75.54s/it]"
     ]
    },
    {
     "name": "stdout",
     "output_type": "stream",
     "text": [
      "generated explanation: <pad> <extra_id_0> A fire extinguisher is likely to be found behind the seat of a school bus. A fire extinguisher is a device that is used to extinguish a fire by applying water to a substance. This can be done by either spraying water on the extinguisher or by placing it on the seat itself. Schools often have multiple fire extinguishers on each bus, and it is common for schools to have several units on each bus. School buses typically have multiple fire extinguishing the seat of the bus.<extra_id_1> </s>\n",
      "########\n",
      "*******\n",
      "question: His therapist said he had to get out there and begin socialising, it was the only was to start what?\n",
      "answer: friendships\n",
      "choices: ['conflicts', 'having fun', 'jealousy', 'getting out there', 'friendships']\n",
      "common expl list: ['His therapist said that he needed to speak to people if he wanted to be less withdrawn. This would help him to get out of his shell.', 'Interacting with other people socially is likely to result in making new friends.']\n"
     ]
    },
    {
     "name": "stderr",
     "output_type": "stream",
     "text": [
      "\r",
      " 15%|███████████████████████▌                                                                                                                                       | 146/986 [11:31:11<18:37:34, 79.83s/it]"
     ]
    },
    {
     "name": "stdout",
     "output_type": "stream",
     "text": [
      "generated explanation: <pad> <extra_id_0> His therapist said he had to get out there and begin socialising, it was the only way to start socialising and start making friends. His therapist said he had to get out there and begin socialising in order to start making friends and start making friends. His therapist said he had to get out there and start socialising in order to start making friends and starting to build relationships. Socialising is the process of meeting new people, building relationships, and establishing new social networks. Socialising can be a challenging process for some, but it is important to remember that it is important to maintain relationships and to avoid the stigma of mental health issues and to seek support.<extra_id_1> </s>\n",
      "########\n",
      "*******\n",
      "question: What is likely true about a dog that escapes regularly?\n",
      "answer: very smart\n",
      "choices: ['very smart', 'very loyal', 'tired', 'friendly', 'faithful']\n",
      "common expl list: ['Intelligent dogs (especially when concerned with food and treats) who are looking for some form of freedom will have the intelligence to escape regularly.']\n"
     ]
    },
    {
     "name": "stderr",
     "output_type": "stream",
     "text": [
      "\r",
      " 15%|███████████████████████▋                                                                                                                                       | 147/986 [11:32:31<18:35:37, 79.78s/it]"
     ]
    },
    {
     "name": "stdout",
     "output_type": "stream",
     "text": [
      "generated explanation: <pad> <extra_id_0> A dog that escapes regularly is likely to be very smart. A dog that escapes regularly is likely to be very smart, and it is likely that it is very smart that it is likely that the dog is very smart that it is likely that the dog is very smart that it is likely that the dog is very smart that it is likely that the dog is very smart and that the dog is likely to be very smart that it is likely that the dog is very smart and that it is likely that the dog is very smart that it is likely that the dog is very smart. A dog that is very smart and very smart and is likely that the dog is very smart.</s>\n",
      "########\n",
      "*******\n",
      "question: If you're going to a party in an alley, what is likely to happen?\n",
      "answer: doing drugs\n",
      "choices: ['call the police', 'doing drugs', 'new contacts', 'making new friends', 'plan']\n",
      "common expl list: ['People going to parties in an alley are often going to do drugs and vice.', 'Alleys are associated with crime; and, people performing illegal drugs at a party is illegal.', 'People often do drugs at parties, and alleys are often used for parties.']\n"
     ]
    },
    {
     "name": "stderr",
     "output_type": "stream",
     "text": [
      "\r",
      " 15%|███████████████████████▊                                                                                                                                       | 148/986 [11:33:41<17:52:03, 76.76s/it]"
     ]
    },
    {
     "name": "stdout",
     "output_type": "stream",
     "text": [
      "generated explanation: <pad> <extra_id_0> If you're going to a party in an alley, it is likely that you will do drugs. Drugs are substances that are used for a variety of purposes, including to enhance performance, pleasure, or relaxation. Drugs can be used for a variety of purposes, including to enhance your mood, enhance your performance, and provide a high level of euphoria and well-being. If you're going to a party in an alley, it is likely that you will do drugs as part of the party.<extra_id_1> </s>\n",
      "########\n",
      "*******\n",
      "question: The man was very tired and sore, he decided to stay in bed to what?\n",
      "answer: rest more\n",
      "choices: ['rest more', 'lazy', 'were sick', 'to be sick', \"you're sick\"]\n",
      "common expl list: ['The man was so tired and sore, he just wanted a break. His illness would keep him in bed.', \"When people are sick, they tend to rest, as it's the most sensible thing.\", 'The man was tired and sore, so he decided to rest more.']\n"
     ]
    },
    {
     "name": "stderr",
     "output_type": "stream",
     "text": [
      "\r",
      " 15%|████████████████████████                                                                                                                                       | 149/986 [11:35:25<19:44:40, 84.92s/it]"
     ]
    },
    {
     "name": "stdout",
     "output_type": "stream",
     "text": [
      "generated explanation: <pad> <extra_id_0> The man was very tired and sore, he decided to rest in bed. If a man is very tired and sore, he may decide to rest in bed to recover from his fatigue and soreness. If a man is very tired and sore, he may decide to rest in bed to recover from his fatigue and soreness. Resting in bed can be beneficial for people who are very tired or who are experiencing other types of physical or mental stress. It is important for people who are physically active to get regular sleep and muscle relaxation. If possible, if the person is able to get some sleep. This is because it is a good idea to get enough sleep. This is a great way to get some relief from their fatigue and to get some much needed relief from their pain.<extra_id_1> </s>\n",
      "########\n",
      "*******\n",
      "question: He was back in his hometown, he was planning on having fun and doing what?\n",
      "answer: visiting friends\n",
      "choices: ['being understood', 'hug', 'rambling', 'kiss', 'visiting friends']\n",
      "common expl list: ['People usually visit their friends when they return to a town where they previously used to live, because their friends would have missed them.', 'If a person is back in their hometown, they might visit their friends, who they might not see very often.', 'If a person went back to their hometown, they might be glad to see their old friends, and visit them while they are there.']\n"
     ]
    },
    {
     "name": "stderr",
     "output_type": "stream",
     "text": [
      "\r",
      " 15%|████████████████████████                                                                                                                                      | 150/986 [11:37:47<23:41:25, 102.02s/it]"
     ]
    },
    {
     "name": "stdout",
     "output_type": "stream",
     "text": [
      "generated explanation: <pad> <extra_id_0> When he was back in his hometown, he was planning on having fun and visiting friends. He was planning on visiting friends and having fun and having fun and doing that. If he was back in his hometown, he was planning on having fun and doing that. He was planning on visiting friends and having fun and having that kind of fun and having that kind of fun and having that kind of fun while having fun and having fun. He was planning on visiting friends and having fun and having that kind of fun while having fun and having fun. If he was visiting family, he was planning on having fun and having fun and spending time with his family, and a few days of sightseeing. He was planning on having a few days of being there. He was planning on having a few days of his hometown, and he was planning on having a few days of relaxation and relaxing. He was planning on visiting family and having fun and having a few days of leisure activities. He was planning on visiting friends, and he was planning on a few days of a few of his old friends. a a a little bit of a little bit of a a a a a good time with his old friends. He was</s>\n",
      "########\n",
      "*******\n",
      "question: Where is basketball court likely to be outdoors?\n",
      "answer: city\n",
      "choices: ['high school gymnasium', 'city', 'park', 'use', 'los angeles']\n",
      "common expl list: ['Basketball courts are likely to be at parks and recreational centers in cities.', 'Most American cities have basketball courts in public parks.', 'Basketball courts are often found in city parks.', 'Basketball courts are often urban.']\n"
     ]
    },
    {
     "name": "stderr",
     "output_type": "stream",
     "text": [
      "\r",
      " 15%|████████████████████████▎                                                                                                                                      | 151/986 [11:39:02<21:48:47, 94.05s/it]"
     ]
    },
    {
     "name": "stdout",
     "output_type": "stream",
     "text": [
      "generated explanation: <pad> <extra_id_0> A basketball court is a large, open area that is used for playing basketball. The court is typically located outdoors in a public area such as a park or recreation area. Basketball courts are often located outdoors in public areas such as parks and recreation centers, schools, and other places that people gather and relax. Basketball courts are often located in urban areas, such as downtown areas, and are often located in public spaces such as parks, schools, and public parks. Basketball courts are often used for recreational and competitive purposes, and they often feature a variety of facilities, including courts, and courts that are located in outdoor courts in areas where people can enjoy the game of basketball.<extra_id_1> </s>\n",
      "########\n",
      "*******\n",
      "question: When you want to get the skin off of an apple, you do what to it?\n",
      "answer: peel\n",
      "choices: ['seeds inside', 'stems', 'peel', 'grocery store', 'green market']\n",
      "common expl list: ['Skin is something you peel from fruits like apples, peaches, oranges, kiwi, etc...', 'Apples have a skin that can be peeled off.']\n"
     ]
    },
    {
     "name": "stderr",
     "output_type": "stream",
     "text": [
      "\r",
      " 15%|████████████████████████▌                                                                                                                                      | 152/986 [11:40:42<22:11:45, 95.81s/it]"
     ]
    },
    {
     "name": "stdout",
     "output_type": "stream",
     "text": [
      "generated explanation: <pad> <extra_id_0> When you want to get the skin off of an apple, you do what? You peel the apple. A peel is a thin, flexible piece of skin that is attached to an apple by its natural emulsion. This skin is made up of layers of cellular material that is connected by small, flexible networks called<extra_id_1> lastes. These networks are<extra_id_1> woven into the structure of the apple and are typically very thin, flexible, and thin enough to be easily removed by hand. The skin of an apple is typically made up of layers of the apple is a fruit that is typically a variety of reasons why people choose to get rid of its skin, such as a fresh apple or ripen its exterior and remove its exterior.<extra_id_1> </s>\n",
      "########\n",
      "*******\n",
      "question: Where could you put some knives if you are planning to bring them outside with you?\n",
      "answer: backpack\n",
      "choices: ['purse', 'backpack', 'drawer', 'sporting goods store', 'kitchen']\n",
      "common expl list: [\"Knives are usually brought along if hiking, camping, fishing, or other outings, and backpacks make it easy to transport one's belongings.\", \"To carry knives on one's person, you need some small type of container to hold the knives. Perhaps the most likely place to carry a small container is a backpack.\"]\n"
     ]
    },
    {
     "name": "stderr",
     "output_type": "stream",
     "text": [
      "\r",
      " 16%|████████████████████████▌                                                                                                                                     | 153/986 [11:42:39<23:38:30, 102.17s/it]"
     ]
    },
    {
     "name": "stdout",
     "output_type": "stream",
     "text": [
      "generated explanation: <pad> <extra_id_0> If you are planning to bring some knives outside with you, you might consider putting them in a backpack. A backpack is a container that has a compartment for storing items, such as knives, a handle, a sheath, and a lock. A backpack is a container that has a zipper or other type of closure that allows you to secure items inside, such as knives, a lock, and a handle. A backpack can be a container that you can use to carry items, such as a bag or other container that can be used to carry knives outdoors. If you are planning to bring some knives outside, you may want to put them in a backpack or other type of bag and take them with you, such as a hiking or camping gear, such as a backpack is a great place to store knives in a bag or other types of bag, or in a backpack to carry with you, in order to protect them from</s>\n",
      "########\n",
      "*******\n",
      "question: John watches the well dressed people from a catwalk above the stage.  He listens to them speak rehearsed lines while the audience listens.  Where is he/\n",
      "answer: theatre\n",
      "choices: ['theatre', 'new york city', 'fashion show', 'construction site', 'school play']\n",
      "common expl list: ['Theatres have catwalks where people might observe and listen to actors.']\n"
     ]
    },
    {
     "name": "stderr",
     "output_type": "stream",
     "text": [
      "\r",
      " 16%|████████████████████████▊                                                                                                                                      | 154/986 [11:43:55<21:45:36, 94.15s/it]"
     ]
    },
    {
     "name": "stdout",
     "output_type": "stream",
     "text": [
      "generated explanation: <pad> <extra_id_0> John watches the well dressed people from a catwalk above the stage. The catwalk is a catwalk that is located above the stage. The catwalk is located above the stage and is located above the catwalk. The catwalk is a raised platform that is located above the stage and is used for performance purposes. The audience members are the people who are watching the play and are not part of the cast or crew. The audience members are not allowed to speak or move around the stage or catwalk. The audience members are not allowed to engage with the playwor performance. They are in a theatre, which is a place where a play is performed.<extra_id_1> </s>\n",
      "########\n",
      "*******\n",
      "question: If I am creating art and have completed it to satisfaction, what is my feeling?\n",
      "answer: enlightenment\n",
      "choices: ['enlightenment', 'tired', 'frustration', 'relax', 'controversy']\n",
      "common expl list: ['Enlightenment is the label for a moment of clarity, and the word is often applied to artists who have created something unique or daring.']\n"
     ]
    },
    {
     "name": "stderr",
     "output_type": "stream",
     "text": [
      "\r",
      " 16%|████████████████████████▉                                                                                                                                      | 155/986 [11:45:08<20:19:33, 88.06s/it]"
     ]
    },
    {
     "name": "stdout",
     "output_type": "stream",
     "text": [
      "generated explanation: <pad> <extra_id_0> If I am creating art and have completed it to satisfaction, I will feel a sense of enlightenment. This is a feeling of being in the moment and being in touch with my inner self. Art is a form of expression that involves the expression of ideas, feelings, and emotions through the use of symbols, colors, shapes, and forms. When I create art, I am consciously choosing to express myself through my work and my feelings about it. When I create art, I am choosing to express myself through the work of expression and expression. I am experiencing in the moment, and have found satisfaction in the work.<extra_id_1> </s>\n",
      "########\n",
      "*******\n",
      "question: He was serious and pragmatic, so why did he drive his car?\n",
      "answer: transportation\n",
      "choices: ['transportation', 'car crash', 'death', 'sleepy', 'stress']\n",
      "common expl list: ['Because driving is the most practical mode of transportation judging by the time and distance required to do so.', 'People often drive cars to get from one place to another.']\n"
     ]
    },
    {
     "name": "stderr",
     "output_type": "stream",
     "text": [
      "\r",
      " 16%|█████████████████████████▏                                                                                                                                     | 156/986 [11:46:44<20:47:54, 90.21s/it]"
     ]
    },
    {
     "name": "stdout",
     "output_type": "stream",
     "text": [
      "generated explanation: <pad> <extra_id_0> He was serious and pragmatic, so why did he drive his car? Transportation is an important factor in human life, and the efficient use of transportation is essential for a healthy, happy, and productive society.<extra_id_1> If you are looking for a reliable and affordable means of transportation, such as a car or truck, it is important to consider the practicality of the option. While driving, you may want to consider the convenience and comfort of your vehicle, as well as the cost and convenience of owning and operating one. If you are looking for information or comments about the author, please contact the author, or the author, or another expert, or a question or comment about the author, or ask the author, or another reader, or the author, or</s>\n",
      "########\n",
      "*******\n",
      "question: What does god want people to do for money?\n",
      "answer: work in life\n",
      "choices: ['work in life', 'speak to people', 'everywhere', 'sitting ideal', 'care for people']\n",
      "common expl list: ['The scriptures explain that people should acquire money by providing good products or services, e.g., to bring value to other people and make a living.']\n"
     ]
    },
    {
     "name": "stderr",
     "output_type": "stream",
     "text": [
      "\r",
      " 16%|█████████████████████████▎                                                                                                                                     | 157/986 [11:48:05<20:08:09, 87.44s/it]"
     ]
    },
    {
     "name": "stdout",
     "output_type": "stream",
     "text": [
      "generated explanation: <pad> <extra_id_0> God wants people to work in life. Work is a type of activity that involves performing a specific type of action or activity in order to gain knowledge, skills, or other types of knowledge. It is important for people to have a sense of purpose and direction in their lives, and to be able to express their ideas and feelings through their work. Work is an important part of this process and can provide a foundation for future success. It is important for people to understand that there are different types of work, such as sales, service, or manufacturing.<extra_id_1> </s>\n",
      "########\n",
      "*******\n",
      "question: What can happen after doing housework that does not involve pain?\n",
      "answer: become tired\n",
      "choices: ['become tired', 'stress', 'put on shoes', 'backache', 'low pay']\n",
      "common expl list: ['Housework can be tiring, and so, after doing it, one might become tired.', 'Doing housework is likely to tire someone out. Being tired increases the likelihood of restlessness and uneasiness.', 'Raking, sweeping, and dusting are common forms of housework. After all the physical labor of these activities, someone \\xa0might become tired and take time off from housework chores, but not have een doing any housework tasks that']\n"
     ]
    },
    {
     "name": "stderr",
     "output_type": "stream",
     "text": [
      "\r",
      " 16%|█████████████████████████▍                                                                                                                                     | 158/986 [11:49:26<19:42:28, 85.69s/it]"
     ]
    },
    {
     "name": "stdout",
     "output_type": "stream",
     "text": [
      "generated explanation: <pad> <extra_id_0> After doing housework that does not involve pain, you may become tired. Being tired is a normal response to doing housework. It is not common for people to become tired from doing housework. However, it is possible that you may become tired from doing housework if it involves no pain or discomfort. However, it is important to note that fatigue is not the same as being tired from pain. If you become tired from doing housework, you may experience some degree of fatigue, which is a normal response to doing housework. It is common for people to experience fatigue after doing housework, especially if it involves heavy lifting or extreme physical exertion.<extra_id_1> </s>\n",
      "########\n",
      "*******\n",
      "question: James sat in a chair and listened to the speaker.  Where might James be?\n",
      "answer: auditorium\n",
      "choices: ['synagogue', 'grocery store', 'auditorium', 'confession', 'office']\n",
      "common expl list: ['James was likely in an auditorium, because he was listening to a speaker.']\n"
     ]
    },
    {
     "name": "stderr",
     "output_type": "stream",
     "text": [
      "\r",
      " 16%|█████████████████████████▋                                                                                                                                     | 159/986 [11:51:30<22:19:42, 97.20s/it]"
     ]
    },
    {
     "name": "stdout",
     "output_type": "stream",
     "text": [
      "generated explanation: <pad> <extra_id_0> If James sat in a chair and listened to the speaker, he was likely in an auditorium. An auditorium is a building that is used for hosting public or private events, such as conferences, meetings, or other events. Auditoriums often have chairs that are arranged in rows, with some having a table and chairs. The chairs may have a back and a seat, and they may have other features, such as a footrest, a backrest, or other support, such as a speaker or audience members. The speaker may have been in a chair and he was likely to be sitting in a chair and listening to the speaker. James was probably in a chair and a chair, and he was likely to be in a chair in an auditorium.<extra_id_1> </s>\n",
      "########\n",
      "*******\n",
      "question: John thought that Mary was beautiful despite her injury.  But Mary believed that she was what?\n",
      "answer: misshapen\n",
      "choices: ['wrong', 'overcast', 'homely', 'bad', 'misshapen']\n",
      "common expl list: [\"If Mary believes she doesn't look normal, but someone else thinks she is beautiful, perhaps she could feel like her form is misshapen.\"]\n"
     ]
    },
    {
     "name": "stderr",
     "output_type": "stream",
     "text": [
      "\r",
      " 16%|█████████████████████████▋                                                                                                                                    | 160/986 [12:00:20<52:06:17, 227.09s/it]"
     ]
    },
    {
     "name": "stdout",
     "output_type": "stream",
     "text": [
      "generated explanation: <pad> <extra_id_0> John thought that Mary was beautiful despite her injury, but Mary believed that she was misshapen. Mary believed that she was misshapen and that she was not beautiful. Mary believed that she was not beautiful because she was not healthy and fit. Mary believed that she was beautiful because she was healthy and fit. Mary believed that she was beautiful because she was healthy and fit, but she also believed that she was beautiful because she was healthy and fit. Mary believed that she was beautiful because she was healthy and fit, despite her injury. Mary believed that John thought that Mary was beautiful, but John thought that she was not beautiful because she was injured and that John was wrong. John thought that Mary was beautiful because she was injured and that John thought that she was beautiful because she was injured. Mary believed that she was beautiful, but Mary believed that she was beautiful because John thought that she was misshapen. John thought that she was beautiful, but Mary believed that she was beautiful because she was not healthy and that she was beautiful because of her injury. despite her injury, she was not healthy and that she was a little bit of her injury. Mary believed that she was despite her injury, she was</s>\n",
      "########\n",
      "*******\n",
      "question: Where does my body go after I am no longer living?\n",
      "answer: graveyard\n",
      "choices: ['zombie', 'bodycam', 'coffin', 'graveyard', 'funeral']\n",
      "common expl list: ['When one dies, their body is buried in a graveyard.', 'Corpses are buried in graveyards.', 'When a person dies, it is common to bury their bodies in locations called graveyards.']\n"
     ]
    },
    {
     "name": "stderr",
     "output_type": "stream",
     "text": [
      "\r",
      " 16%|█████████████████████████▊                                                                                                                                    | 161/986 [12:07:18<65:08:07, 284.23s/it]"
     ]
    },
    {
     "name": "stdout",
     "output_type": "stream",
     "text": [
      "generated explanation: <pad> <extra_id_0> My body goes to a graveyard after I am no longer living. A graveyard is a place where a body is buried or buried after it has died. A graveyard is a place where a person's remains are buried after they have died. A graveyard is a place where the dead are buried and<extra_id_1> a place where they are interred after they have died. A graveyard is a place where a person's remains are buried after they have died. A graveyard is a place where the body is entomb.<extra_id_1> </s>\n",
      "########\n",
      "*******\n",
      "question: Where can you find a bar before traveling a long distance?\n",
      "answer: airport\n",
      "choices: ['las vegas', 'public house', 'airport', 'restaurant', 'michigan']\n",
      "common expl list: ['Bars are often located in airports, and so if a person was traveling a long distance, they might stop at an airport bar.']\n"
     ]
    },
    {
     "name": "stderr",
     "output_type": "stream",
     "text": [
      "\r",
      " 16%|█████████████████████████▉                                                                                                                                    | 162/986 [12:18:55<93:25:30, 408.17s/it]"
     ]
    },
    {
     "name": "stdout",
     "output_type": "stream",
     "text": [
      "generated explanation: <pad> <extra_id_0> A bar is a place where you can enjoy a drink before traveling a long distance. Airports are often places where you can find bars and other places to relax and socialize before a trip. Airports are often places where you can find a variety of food and drink options, including a variety of imported and domestic beverages, as well as international wines and spirits. Airports are also often places where you can find a variety of bars and restaurants, including international cuisine and specialty drinks. Airports are often the first place that passengers and passengers can relax and enjoy a drink before flying, and many people choose to go on a long distance flight or train to their destination, and to have a long-term flight and stay overnight, and to enjoy a long flight and experience the airport, or to work or leisurely, and enjoy a short flight or to a long-term stay or to explore the city or even further a longer flight.<extra_id_1> </s>\n",
      "########\n",
      "*******\n",
      "question: Where might a small ball be bounced from?\n",
      "answer: child's hand\n",
      "choices: ['soccer game', 'street', 'toy store', \"child's hand\", 'on the sidewalk']\n",
      "common expl list: ['A ball much like a toy, and kids often play with them on the streets and sidewalks.', 'Since children enjoy bouncing balls, and they are also relatively small, they would bounce a ball from their hand.']\n"
     ]
    },
    {
     "name": "stderr",
     "output_type": "stream",
     "text": [
      "\r",
      " 17%|██████████████████████████                                                                                                                                    | 163/986 [12:26:47<97:40:20, 427.24s/it]"
     ]
    },
    {
     "name": "stdout",
     "output_type": "stream",
     "text": [
      "generated explanation: <pad> <extra_id_0> A small ball might be bounced from a child's hand. A child's hand is a part of the human body that is used for grasping and manipulating objects, such as balls, toys, and other small objects. A child's hand is a part of the human body that is used for grasping and moving objects, such as toys, games, and other forms of physical play. A child's hand is a part of the human body that is used for a variety of purposes, such as holding and moving it around, or a child's hand. A child's hand may be used to bounce the ball around, or even a child's, or a parent's, toy, or other objects.<extra_id_1> </s>\n",
      "########\n",
      "*******\n",
      "question: Where do families begin?\n",
      "answer: wedding\n",
      "choices: ['wedding', 'around dinner table', 'supermarket', 'dinner together', 'park']\n",
      "common expl list: ['A wedding is a ceremony in which two people get married, and thus a wedding is where a family begins.']\n"
     ]
    },
    {
     "name": "stderr",
     "output_type": "stream",
     "text": [
      "\r",
      " 17%|██████████████████████████                                                                                                                                   | 164/986 [12:34:47<101:09:26, 443.03s/it]"
     ]
    },
    {
     "name": "stdout",
     "output_type": "stream",
     "text": [
      "generated explanation: <pad> <extra_id_0> \"Where do families begin? \" Families begin at the wedding. A wedding is a celebration of two people or a group of people who are married and have a family. A wedding is a formal gathering of people who are associated with a particular religion, culture, or social group. A wedding is a formal gathering of people who come together for a specific purpose, such as to celebrate a special occasion or to honor a deceased relative.<extra_id_1> Weddings are occasions when families come together to celebrate the beginning of a new chapter of life and oftentimes, as a new chapter in the life of the couple and their relationship.<extra_id_1> </s>\n",
      "########\n",
      "*******\n",
      "question: He enjoyed reading newspaper, he consider what a subscription?\n",
      "answer: buying\n",
      "choices: ['gifting', 'buying', 'money', 'literacy', 'knowing how to read']\n",
      "common expl list: ['Buying a subscription to a newspaper is a way to get the newspaper delivered to your home.']\n"
     ]
    },
    {
     "name": "stderr",
     "output_type": "stream",
     "text": [
      "\r",
      " 17%|██████████████████████████▎                                                                                                                                  | 165/986 [12:48:41<127:46:50, 560.30s/it]"
     ]
    },
    {
     "name": "stdout",
     "output_type": "stream",
     "text": [
      "generated explanation: <pad> <extra_id_0> If he enjoyed reading newspaper, he may consider buying a subscription. A subscription to a newspaper is defined as a contract that allows you to receive a newspaper or magazine on a regular basis. A subscription can be purchased for a specific period of time, such as a year, six months, or a year. A subscription can also be defined as a period of time, such as a week, six months, or even a year. A subscription can be purchased for a single publication or for a number of issues, such as: a subscription to a particular subject, or a subscription to a particular publication, or issue, or other publications, or a subscription to a particular publication, such as a particular type of content, or a particular publication, or a particular subject matter, such as a particular publication, or a particular issue, or a particular issue, or other similar publication, or content, or a particular issue, or a particular issue, or a particular<extra_id_16>.</s>\n",
      "########\n",
      "*******\n",
      "question: What does an animal do when it becomes old?\n",
      "answer: feel pain\n",
      "choices: ['live long', 'leave home', 'feel pain', 'eating', 'sense fear in human']\n",
      "common expl list: ['Ageing animals may have chronic pain as part of the body losing function as it ages.']\n"
     ]
    },
    {
     "name": "stderr",
     "output_type": "stream",
     "text": [
      "\r",
      " 17%|██████████████████████████▍                                                                                                                                  | 166/986 [12:57:35<125:50:46, 552.50s/it]"
     ]
    },
    {
     "name": "stdout",
     "output_type": "stream",
     "text": [
      "generated explanation: <pad> <extra_id_0> When an animal becomes old, it may begin to feel pain. Pain is a normal and natural response to an animal's aging process. It may occur as a result of changes in its physical appearance, or as a result of internal changes such as reduced appetite or mobility. As an animal ages, it may begin to experience different types of pain, such as sharp pains or cramps. These symptoms may indicate that it is time for an animal to seek medical attention or to stop living. As an animal becomes old, it may also be accompanied by other symptoms such as a veterinarian to assess the health of the animal's health and welfare.<extra_id_1> </s>\n",
      "########\n",
      "*******\n",
      "question: What entity would have a fire extinguisher in their boardroom?\n",
      "answer: most businesses\n",
      "choices: ['boat', 'apartment', 'public building', 'most businesses', 'chemistry lab']\n",
      "common expl list: ['Most businesses would have a fire extinguisher in their boardroom, because they are likely to have a fire in their boardroom.']\n"
     ]
    },
    {
     "name": "stderr",
     "output_type": "stream",
     "text": [
      "\r",
      " 17%|██████████████████████████▌                                                                                                                                  | 167/986 [13:04:45<117:19:44, 515.73s/it]"
     ]
    },
    {
     "name": "stdout",
     "output_type": "stream",
     "text": [
      "generated explanation: <pad> <extra_id_0> Most businesses would have a fire extinguisher in their boardroom. Most businesses, whether large or small, have a fire extinguisher in their boardroom. A fire extinguisher is a small, portable container that is used to extinguish a fire. These devices are typically used in offices, boardrooms, and other similar areas. Fires can occur in a variety of settings, including in the boardroom, conference room, or other areas where people gather, conduct meetings, or other meetings. They may also have a fire risk management strategy and procedures for ensuring that their boardroom is prepared for emergencies.<extra_id_1> </s>\n",
      "########\n",
      "*******\n",
      "question: Where can someone go and buy cheese?\n",
      "answer: market\n",
      "choices: ['pizza', 'bar', 'fridge', 'market', 'refrigerator']\n",
      "common expl list: ['Cheese is a dairy product and can be purchased at markets, for the most part.', 'Cheese is sold at markets.']\n"
     ]
    },
    {
     "name": "stderr",
     "output_type": "stream",
     "text": [
      "\r",
      " 17%|██████████████████████████▊                                                                                                                                  | 168/986 [13:11:40<110:16:48, 485.34s/it]"
     ]
    },
    {
     "name": "stdout",
     "output_type": "stream",
     "text": [
      "generated explanation: <pad> <extra_id_0> A market is a place where people can go and buy food, such as fresh produce, dairy products, and other types of fresh produce, such as cheese, meat, and eggs. Markets are places where people can go and buy a variety of different types of fresh produce, such as fresh produce, meat, and dairy products, as well as fresh produce such as lettuce, tomatoes, cucumbers, and other types of fresh produce, as well as fresh baked goods, such as bread, pastries, and other types of dried goods, as well as other products, such as fresh market stalls that sell the products they offer.<extra_id_1> </s>\n",
      "########\n",
      "*******\n",
      "question: Where would you carry food while on a long walk in the countryside?\n",
      "answer: backpack\n",
      "choices: ['backpack', 'table', 'jar', 'box', 'container']\n",
      "common expl list: [\"Because backpacks are designed to be carried on one's back, they are the most convenient way to carry food while on a long walk.\", 'Instead of carrying a jar or container, filling your backpack with food might not disrupt your movements as much when you are walking.']\n"
     ]
    },
    {
     "name": "stderr",
     "output_type": "stream",
     "text": [
      "\r",
      " 17%|██████████████████████████▉                                                                                                                                  | 169/986 [13:20:37<113:43:27, 501.11s/it]"
     ]
    },
    {
     "name": "stdout",
     "output_type": "stream",
     "text": [
      "generated explanation: <pad> <extra_id_0> If you were on a long walk in the countryside, you would carry food while on a walk in the countryside in a backpack. A backpack is a bag that is typically made of a lightweight, waterproof material that is typically made of nylon or polyester. A backpack is typically made of either nylon or polypropylene and is typically used for carrying either food or water. A backpack is typically made of a durable, waterproof material that is typically made of nylon or polyester and is typically used for carrying items such as snacks, lunch, and other items in order to stay organized and to prevent from becoming cluttered and to keep your belongings in one place while on foot and to prevent from getting lost in the wilderness. It is common to carry your food in a backpack when walking in the countryside.<extra_id_1> </s>\n",
      "########\n",
      "*******\n",
      "question: What could a driver do that could distract him or her while he or she is in a driving car?\n",
      "answer: smoke\n",
      "choices: ['use mobile phone', 'car crash', 'smoke', 'backache', 'automobile accidents']\n",
      "common expl list: ['It can be tricky to smoke and concentrate on driving at the same time, and research has found that smoking in a car with children present is very dangerous.', 'Smoking is a common activity that people do while driving, and it could distract them from driving.']\n"
     ]
    },
    {
     "name": "stderr",
     "output_type": "stream",
     "text": [
      "\r",
      " 17%|███████████████████████████                                                                                                                                  | 170/986 [13:27:14<106:28:14, 469.72s/it]"
     ]
    },
    {
     "name": "stdout",
     "output_type": "stream",
     "text": [
      "generated explanation: <pad> <extra_id_0> A driver could do something that could distract them while they are in a driving car. A driver could be distracted by smoke, road rash, or other roadside hazards.<extra_id_1> Smoke is a common and dangerous type of distraction that can occur while driving. Smoke can be generated from a variety of sources, including the presence of smoke, cigarette smoke, or other types of pollutants. Smoke can also be produced when burning fuel, which can be hazardous to drivers. If a driver is distracted by smoke, it is possible that the vehicle is not properly inspected and inspected for signs of possible hazards and safety measures.<extra_id_1> </s>\n",
      "########\n",
      "*******\n",
      "question: The fat man wanted to make a change in his life and make sure it stayed what?\n",
      "answer: permanent\n",
      "choices: ['concretely', 'permanent', 'remain stable', 'stagnant', 'constant']\n",
      "common expl list: ['His making a decision to change and ensuring the decision is made permanent indicates a desire for a stable, permanent life, which does not change.', 'In changing his life, he wants to make sure he remains in the new lifestyle choices, e.g., not become stagnant to bad choices and fall back into bad choices.']\n"
     ]
    },
    {
     "name": "stderr",
     "output_type": "stream",
     "text": [
      "\r",
      " 17%|███████████████████████████▏                                                                                                                                 | 171/986 [13:34:50<105:23:46, 465.55s/it]"
     ]
    },
    {
     "name": "stdout",
     "output_type": "stream",
     "text": [
      "generated explanation: <pad> <extra_id_0> The fat man wanted to make a change in his life and make sure it remained permanent. He wanted to make sure that the change he made in his life remained permanent and that it remained in place. He wanted to make sure that the change remained permanent and that it remained in place for as long as possible. If the fat man wanted to make a change in his life and make sure it remained permanent and that it remained permanent, he could consider making a change that would be permanent and permanent. A permanent change is a permanent change and make sure the change in his life, or at least, permanent.<extra_id_1> </s>\n",
      "########\n",
      "*******\n",
      "question: where did many colonial kingdoms originate?\n",
      "answer: europe\n",
      "choices: ['saudi arabia', 'europe', 'united states', 'book', 'monarchy']\n",
      "common expl list: ['Colonies and kingdoms often originate in the mother countries of the colonial or kingdom builders, e.g., entities in the United Kingdom and the Netherlands.', 'Many colonial kingdoms in the past can be traced all the way back to their roots in Europe.']\n"
     ]
    },
    {
     "name": "stderr",
     "output_type": "stream",
     "text": [
      "\r",
      " 17%|███████████████████████████▍                                                                                                                                 | 172/986 [13:46:34<121:27:32, 537.17s/it]"
     ]
    },
    {
     "name": "stdout",
     "output_type": "stream",
     "text": [
      "generated explanation: <pad> <extra_id_0> Many colonial kingdoms originated in europe. In europe, colonial kingdoms are large, independent states that have a history of their own, and they are often referred to as kingdoms or nations. They are often characterized by a strong sense of tradition and culture, and they often reflect a strong sense of tradition and culture. In europe, colonial kingdoms are often characterized by a strong sense of heritage and a strong sense of place. In europe, colonial kingdoms are considered to have emerged as a result of a process of settlement and settlement of land, and their development is a result of the expansion of trade and settlements, and the development of settlement of urban areas, and the development of cities, and they are often a source of settlement and settlement of cities and other cities. They may have been established as a result of a strong demand for agricultural products, such as in the development of urban areas, and in many cases, as well as a result of a </s>\n",
      "########\n",
      "*******\n",
      "question: Where can a television be stored and hidden?\n",
      "answer: cabinet\n",
      "choices: ['apartment', 'living room', 'bedroom', 'kitchen', 'cabinet']\n",
      "common expl list: ['A television can be stored inside a cabinet.', 'A cabinet is a piece of furniture that is used to store items, and televisions are large, and thus, can be stored in cabinets.']\n"
     ]
    },
    {
     "name": "stderr",
     "output_type": "stream",
     "text": [
      "\r",
      " 18%|███████████████████████████▌                                                                                                                                 | 173/986 [13:58:12<132:14:20, 585.56s/it]"
     ]
    },
    {
     "name": "stdout",
     "output_type": "stream",
     "text": [
      "generated explanation: <pad> <extra_id_0> A television can be stored and hidden in a cabinet. A cabinet is a cabinet or furniture piece that is used as a storage or display cabinet. A cabinet is a cabinet or furniture piece that is used to house and protect items such as televisions, computers, and other electronic devices. Cabinets are typically made of wood or plastic and have several different types of doors that open and close. Cabinets can also be used as a display case for items such as DVDs, CDs, and other media, as well as for a television and hidden in a cabinet or other storage space-saving solution. This is a great way to organize your media collection and store away your media collection. TVs and other media in a cabinet or corner cabinet and easily accessible location for keeping your TV hidden and organized. If you have a television in a cabinet, a television in a cabinet or drawer system that allows you to store your TV in a television in a cabinet is a cabinet is a cabinet<extra_id_1> </s>\n",
      "########\n",
      "*******\n",
      "question: what can get a prisoner in more trouble?\n",
      "answer: attempt to escape\n",
      "choices: ['dream of freedom', 'attempt to escape', 'do time', 'fast for days', 'scape jail']\n",
      "common expl list: ['Prisoners serve time, and when a prisoner attempts to escape, they generally serve extra time.']\n"
     ]
    },
    {
     "name": "stderr",
     "output_type": "stream",
     "text": [
      "\r",
      " 18%|███████████████████████████▋                                                                                                                                 | 174/986 [14:05:09<120:37:58, 534.83s/it]"
     ]
    },
    {
     "name": "stdout",
     "output_type": "stream",
     "text": [
      "generated explanation: <pad> <extra_id_0> An attempt to escape from prison can get a prisoner in more trouble. Escape from prison is an important part of prisoner rehabilitation, and it can help to keep the prisoner focused and focused on the present. It is important for prisoners to remain focused and motivated in order to achieve their goals and achieve personal satisfaction. In order to achieve this goal, prisoners may need to consider a variety of strategies, such as working with a parole officer or a lawyer, or seeking medical or legal help. Attempting to escape from prison can also be a dangerous and dangerous, and it can be a dangerous situation, especially for those who are a prisoner to not be tempted to try and succeed in their own freedom.<extra_id_1> </s>\n",
      "########\n",
      "*******\n",
      "question: The crab was separated from his compatriots out in the sea, where was he likely to be?\n",
      "answer: tide pool\n",
      "choices: ['fish market', 'cooking pot', 'tide pool', 'beach sand', 'farm']\n",
      "common expl list: ['Tide pools are regions of shallow, pooled water that are very exposed to air, making them appealing to crabs that have to breathe.']\n"
     ]
    },
    {
     "name": "stderr",
     "output_type": "stream",
     "text": [
      "\r",
      " 18%|███████████████████████████▊                                                                                                                                 | 175/986 [14:10:36<106:27:30, 472.57s/it]"
     ]
    },
    {
     "name": "stdout",
     "output_type": "stream",
     "text": [
      "generated explanation: <pad> <extra_id_0> If the crab was separated from his compatriots in the sea, he was likely to be found in a tide pool. A tide pool is a body of water that forms during high tides or low tides and is surrounded by water that is periodically submerged by the surface of the sea. When the water in the tide pool is rising and falling, it is likely that the crab will be in a tide pool. A tide pool is a body of water that forms during high tide or low tide and is often used for a variety of activities, including recreation.<extra_id_1> </s>\n",
      "########\n",
      "*******\n",
      "question: What item is smelted out of minerals on the country side?\n",
      "answer: metal\n",
      "choices: ['urban city', 'france', 'metal', 'grass', 'state']\n",
      "common expl list: ['Products made by smelters tend to be made out of metals, and mining occurs at the country side.', 'Metals are extracted from mineral mines out in the country side.']\n"
     ]
    },
    {
     "name": "stderr",
     "output_type": "stream",
     "text": [
      "\r",
      " 18%|████████████████████████████                                                                                                                                 | 176/986 [14:19:52<111:56:17, 497.50s/it]"
     ]
    },
    {
     "name": "stdout",
     "output_type": "stream",
     "text": [
      "generated explanation: <pad> <extra_id_0> Metal is smelted out of minerals on the country side. Metal is an industrial material that is used in many different industries, including mining, construction, and manufacturing. Metal is a valuable commodity that is used in a variety of different products, such as tools, fuel, and architectural materials. Metal is often used in construction and is used in a variety of different products, such as automobiles, bridges, and other structural elements. It is a versatile and widely used material that is used in a variety of different ways, such as copper and iron. It is a common source of metals, and is a common metal that is often melted out of ore and then a different metal, such as copper or zinc, zinc, ore, and is melted down and then cooled. The result is a metal, ore, ore..<extra_id_1> </s>\n",
      "########\n",
      "*******\n",
      "question: Where is a good place to store a saw?\n",
      "answer: toolbox\n",
      "choices: ['hardware store', 'tool shed', 'storage', 'tool kit', 'toolbox']\n",
      "common expl list: ['A toolbox is a container for tools, and a saw is a tool.', 'One might likely store a saw in a box with other tools.']\n"
     ]
    },
    {
     "name": "stderr",
     "output_type": "stream",
     "text": [
      "\r",
      " 18%|████████████████████████████▏                                                                                                                                | 177/986 [14:29:58<119:06:57, 530.06s/it]"
     ]
    },
    {
     "name": "stdout",
     "output_type": "stream",
     "text": [
      "generated explanation: <pad> <extra_id_0> A toolbox is a container that is used for storing tools, such as a tool box, a tool chest, or a tool chest. A toolbox is a container that is used to store various types of tools, such as tools, and it is often used to store tools such as a saw. A saw is a type of power tool that has a blade that is used for cutting and grinding metal. A saw is a type of power tool that is used for cutting metal and is often used for cutting wood. It is a commonplace to find a a safe and secure place to store your saw in your toolbox or other storage location. If you have a toolbox, it is a good idea to store it in your toolbox or in a garage. If you have a saw in your toolbox or garage, it is likely that you have a toolbox</s>\n",
      "########\n",
      "*******\n",
      "question: The jellyfish was pushed along by the water.  It was caught in what?\n",
      "answer: current\n",
      "choices: ['store', 'book', 'park', 'current', 'lake']\n",
      "common expl list: ['Jellyfish are often found in oceans, and oceans have currents.', \"Currents are fast-moving water, and jellyfish can't swim very well, so if caught in a current, it's likely to be being pushed along by the current.\"]\n"
     ]
    },
    {
     "name": "stderr",
     "output_type": "stream",
     "text": [
      "\r",
      " 18%|████████████████████████████▎                                                                                                                                | 178/986 [14:36:49<110:58:25, 494.44s/it]"
     ]
    },
    {
     "name": "stdout",
     "output_type": "stream",
     "text": [
      "generated explanation: <pad> <extra_id_0> The jellyfish was pushed along by the water and was caught in the current. The current is the movement of water and air in a body of water, and is the force that moves water and debris along a surface. The current is the flowing water and is the air that moves, and it is this motion that causes the jellyfish to move and become embedded in the water. The current is the movement of water and the air that it carries, along with the particles that make up its outer shell. This movement is called buoyancy, and other waves, and the jellyfish are examples of this phenomenon.<extra_id_1> </s>\n",
      "########\n",
      "*******\n",
      "question: The dime store was full of old donated goods, it reminded the customer of the what?\n",
      "answer: past\n",
      "choices: ['strip mall', 'past', 'shopping center', 'old movie', 'india']\n",
      "common expl list: ['Dime stores were more popular years ago than today. The sight of the old goods reminded the person of the past.']\n"
     ]
    },
    {
     "name": "stderr",
     "output_type": "stream",
     "text": [
      "\r",
      " 18%|████████████████████████████▋                                                                                                                                 | 179/986 [14:42:18<99:39:42, 444.59s/it]"
     ]
    },
    {
     "name": "stdout",
     "output_type": "stream",
     "text": [
      "generated explanation: <pad> <extra_id_0> When the dime store was full of donated goods, it reminded the customer of the past. The donated goods were old donated goods that were donated by individuals and businesses, and they were often left in stores as a reminder of the generosity of others. The donated goods were often forgotten or overlooked by customers, and they could be overlooked by new customers. This is because old donated goods often have sentimental value or are otherwise valuable items. When a customer sees donated goods, they may be reminded of the generosity of others and may be donated by the customer.<extra_id_1> </s>\n",
      "########\n",
      "*******\n",
      "question: Where would you put a saw if you do not need to use it soon and your house only has one floor?\n",
      "answer: tool shed\n",
      "choices: ['logging camp', 'in the vehicle', 'tool shed', 'toolbox', 'basement']\n",
      "common expl list: ['A tool shed is a common structure for organizing and storing tools that are infrequently used.', \"A tool shed is a place where tools are stored, and thus, a good place to store a saw if you don't need to use it soon.\", 'The shed is a good place for storing tools when those tools are not in use.']\n"
     ]
    },
    {
     "name": "stderr",
     "output_type": "stream",
     "text": [
      "\r",
      " 18%|████████████████████████████▋                                                                                                                                | 180/986 [14:55:52<124:21:20, 555.44s/it]"
     ]
    },
    {
     "name": "stdout",
     "output_type": "stream",
     "text": [
      "generated explanation: <pad> <extra_id_0> If you do not need to use a saw soon and your house only has one floor, you may want to store it in a tool shed. A tool shed is a covered outdoor storage area that is typically enclosed and has a floor and walls that are typically made of wood, brick, or concrete and that is typically designed to house large items such as tools, furniture, and other types of household items such as saws, drills, and power tools. A tool shed is typically a metal building that has a roof and is a place where you can store tools, such as a saw, if you do not need it often, or if you do not own the tools, you may want to store it in a shed or other location outside your house, if you do not need to use it. If you do not need to store it, you may want to store it in a secure, secure location, such as a garage or a garage or if your home if you have a tool shed, a a small or a a a a a a a, in,, or if you do</s>\n",
      "########\n",
      "*******\n",
      "question: A person might wear his yarmulke when going to where?\n",
      "answer: synagogue\n",
      "choices: ['demonstration', 'concert', 'garage', 'bus stop', 'synagogue']\n",
      "common expl list: ['Synagogue is a place commonly visited by religious Jews. Men wear yarmulkes (skullcaps) because faith requires that they uncover their heads when going before God.']\n"
     ]
    },
    {
     "name": "stderr",
     "output_type": "stream",
     "text": [
      "\r",
      " 18%|████████████████████████████▊                                                                                                                                | 181/986 [15:04:23<121:14:51, 542.23s/it]"
     ]
    },
    {
     "name": "stdout",
     "output_type": "stream",
     "text": [
      "generated explanation: <pad> <extra_id_0> A person might wear his yarmulke when going to a synagogue. A synagogue is a religious building that is used for worship and prayer. Synagogues are places of worship that are used for a variety of religious practices, including prayer, fasting, and Torah study. In addition, a person might wear his yarmulke when going to a synagogue when going to a synagogue, which is a place where Jews gather to worship and study the Torah, or other religious practice.<extra_id_1> </s>\n",
      "########\n",
      "*******\n",
      "question: Someone takes up exercising to improve their what\n",
      "answer: physical fitness\n",
      "choices: ['losing weight', 'physical fitness', 'breathlessness', 'muscles', 'lost weight']\n",
      "common expl list: ['Exercising is a way to improve physical fitness.', 'Exercising helps people build their physical fitness.', 'Typically people are motivated to exercise in order to become fit.']\n"
     ]
    },
    {
     "name": "stderr",
     "output_type": "stream",
     "text": [
      "\r",
      " 18%|████████████████████████████▉                                                                                                                                | 182/986 [15:12:24<116:59:43, 523.86s/it]"
     ]
    },
    {
     "name": "stdout",
     "output_type": "stream",
     "text": [
      "generated explanation: <pad> <extra_id_0> Someone takes up exercising to improve their physical fitness. Exercise is a type of physical activity that involves the use of resistance or weight training equipment to improve muscle tone and flexibility. The goal of physical fitness is the level of physical fitness that is achieved through regular physical activity and the maintenance of a healthy body weight. In order to achieve physical fitness, it is important to have a basic understanding of how the human body functions and what activities can improve physical fitness. Physical fitness refers to the level of physical ability and health that is achieved through regular physical activity and health. It is important to maintain or improve your health and fitness.<extra_id_1> </s>\n",
      "########\n",
      "*******\n",
      "question: Where could you see a sloth that is not real?\n",
      "answer: picture book\n",
      "choices: ['bad dream', 'picture book', 'another place', 'universe', 'zoo']\n",
      "common expl list: ['Reality is generally fractured into \"real\" and \"fusion.\" Sloths are real, meaning they exist (in some form) in reality; sloths are not real (in the way depicted) in a picture book.']\n"
     ]
    },
    {
     "name": "stderr",
     "output_type": "stream",
     "text": [
      "\r",
      " 19%|█████████████████████████████▏                                                                                                                               | 183/986 [15:30:53<155:59:59, 699.38s/it]"
     ]
    },
    {
     "name": "stdout",
     "output_type": "stream",
     "text": [
      "generated explanation: <pad> <extra_id_0> A sloth that is not real could be seen in a picture book. A picture book is a book that is filled with pictures that are drawn or illustrated by a person or organization. A picture book may also include illustrations or drawings that depict a sloth that is not real. A picture book may include a picture of a sloth that is not real that is used in a picture book or other type of visual media. A picture book is a type of visual media that is used in a book to show the subject matter and/or illustrated in a way that is intended to be viewed by children. They may be their own unique personalities and behaviors. If you want to learn about a species, such as how to eat, grow, or live, or see it in another environment. If you want to see it in a real sloth, you may want to see it in a variety of habitats and/or a sloth, or even in a picture book or a picture book, or even a a picture, or even a a a picture, or to a sloth, you may also be</s>\n",
      "########\n",
      "*******\n",
      "question: Where are seats often plush?\n",
      "answer: opera\n",
      "choices: ['rest area', 'theater', 'hockey game', 'classroom', 'opera']\n",
      "common expl list: ['Opera is a high-class form of entertainment, and thus, the seats are often plush.', 'Plush seats are generally found in more comfortabe, well-off establishments, and opera is often performed in such, less strict teents of, elegance of the decor.']\n"
     ]
    },
    {
     "name": "stderr",
     "output_type": "stream",
     "text": [
      "\r",
      " 19%|█████████████████████████████▎                                                                                                                               | 184/986 [15:39:42<144:25:10, 648.27s/it]"
     ]
    },
    {
     "name": "stdout",
     "output_type": "stream",
     "text": [
      "generated explanation: <pad> <extra_id_0> Seats are often plush in opera houses. In opera houses, seats are typically made of plush materials such as leather, velvet, or suede. These materials are often used in opera houses as a form of decoration or decoration. In opera houses, seats are often plush and have a plush design, such as velvet or suede. These materials are often used in opera houses to provide a comfortable, quiet environment for the audience. In opera houses, seats are often upholstered in a variety of materials, such as linen or velvet, or similar seating.<extra_id_1> </s>\n",
      "########\n",
      "*******\n",
      "question: The comforter was used constantly and treaded upon by everyone, where should it be placed?\n",
      "answer: washing machine\n",
      "choices: ['garbage', 'linen closet', 'bedroom', 'washing machine', 'livingroom']\n",
      "common expl list: ['Linens are often used (i.e., the comforter) and washed frequently.', 'The comforter was used constantly, so it should be washed frequently. Linen closets are where people store their bed sheets and blankets.', 'When you use your comforter (or any other high-traffic fabric) often, you ought to wash it often too. Therefore it should be kept in the washing machine, to enable quick washing.']\n"
     ]
    },
    {
     "name": "stderr",
     "output_type": "stream",
     "text": [
      "\r",
      " 19%|█████████████████████████████▍                                                                                                                               | 185/986 [15:50:17<143:20:16, 644.21s/it]"
     ]
    },
    {
     "name": "stdout",
     "output_type": "stream",
     "text": [
      "generated explanation: <pad> <extra_id_0> If the comforter was used constantly and walked on by everyone, it should be placed in the washing machine. The comforter is a large item that is used constantly and is often walked on, stepped on, and brushed on a regular basis. Because of this, it is important to choose a machine that is large enough to accommodate the comforter and the amount of space it takes up when it is full. A comforter is a large, soft item that is typically placed in the living room or bedroom and has a san. If the comforter is used constantly and is a frequent user, it is important to consider whether it is worth considering the location of the comforter and how it will be used.<extra_id_1> </s>\n",
      "########\n",
      "*******\n",
      "question: Joe bought a ficus.  He thought it would look good in what part of his home?\n",
      "answer: family room\n",
      "choices: ['family room', 'tropical forest', 'flower garden', 'movie theater', 'hair salon']\n",
      "common expl list: [\"The ficus is an indoor plant, such as a plant one would have in one's family room. The family room is the ideal location for an indoor plant like a houseplant.\"]\n"
     ]
    },
    {
     "name": "stderr",
     "output_type": "stream",
     "text": [
      "\r",
      " 19%|█████████████████████████████▌                                                                                                                               | 186/986 [16:04:56<158:49:55, 714.74s/it]"
     ]
    },
    {
     "name": "stdout",
     "output_type": "stream",
     "text": [
      "generated explanation: <pad> <extra_id_0> Joe bought a ficus. He thought it would look good in what part of his home? He thought it would look good in his family room. The family room is a room that is typically used for entertaining and relaxing. The room is typically bright and airy and has a comfortable feel to it. The ficus is a small, attractive tree that is often used as a decorative plant or as part of a larger landscape design. The ficus is typically grown indoors, and it is typically grown in a ficus, which is a tree, in a sunny spot and shade. It is a good choice for a ficus, which is a home that is sunny location for a ficus, which is ideal for a variety of reasons, including a warm climate. It is often found in a variety of locations, including a s</s>\n",
      "########\n",
      "*******\n",
      "question: Family is always the best for devotion, but it is also nice if a person has what?\n",
      "answer: loyal friends\n",
      "choices: ['good review', 'headache', 'with cat', 'loyal friends', 'shoes']\n",
      "common expl list: ['We may have devoted friends who would be there for us if we had need.', 'Loyal friends are always there for you, and they will always be devoted to you.', \"Because times may come when a person would like to go out and have fun with some friends, and it's nice if that person may have friends that he is faithful to.\"]\n"
     ]
    },
    {
     "name": "stderr",
     "output_type": "stream",
     "text": [
      "\r",
      " 19%|█████████████████████████████▊                                                                                                                               | 187/986 [16:18:24<164:48:37, 742.58s/it]"
     ]
    },
    {
     "name": "stdout",
     "output_type": "stream",
     "text": [
      "generated explanation: <pad> <extra_id_0> It is always nice for a person to have loyal friends, but it is not always the case. Family is always the best for devotion, and it is not always the case that a person has a family that is always there for them. Family is always the best for devotion, but it is also nice if a person has loyal friends, as well. Friends can provide a person with devotion and support, and it is nice to have them around to support and encourage a person when they need it most. Friends can also provide support and guidance, and they can be a person who is willing to listen and provide support and to be a person who is willing to do the same thing for a person who is always there for a person to have a family member or family member.<extra_id_1> </s>\n",
      "########\n",
      "*******\n",
      "question: Rap is not usually associate with what music often performed by an orchestra?\n",
      "answer: classical\n",
      "choices: ['folk', 'rock', 'good music', 'country music', 'classical']\n",
      "common expl list: ['Rap is generally associated with hip-hop music, which is normally performed by a single artist. Orchestras tend to play classical music, which often is performes with real instruments, rather than manufactured ones.']\n"
     ]
    },
    {
     "name": "stderr",
     "output_type": "stream",
     "text": [
      "\r",
      " 19%|█████████████████████████████▉                                                                                                                               | 188/986 [16:29:16<158:37:57, 715.64s/it]"
     ]
    },
    {
     "name": "stdout",
     "output_type": "stream",
     "text": [
      "generated explanation: <pad> <extra_id_0> Rap is not usually associated with classical music. Classical music is music that is performed by an orchestra and is typically considered to be more formal and refined. Rap is a form of hip hop that is characterized by fast-paced, energetic beats and repetitive patterns. Rap is often associated with urban music, such as rap music or rap music. Rap is a genre of music that is considered to be more informal and free-form, such as rap music or rap music. Rap music is often considered to be more informal and a more formal style of music, such as classical or jazz.<extra_id_1> </s>\n",
      "########\n",
      "*******\n",
      "question: At what structure can you see people you use a puck professionally?\n",
      "answer: hockey rink\n",
      "choices: ['hockey rink', 'locker room', 'sporting goods store', 'used in hockey game', 'teachers']\n",
      "common expl list: ['Pucks are commonly used in ice hockey, which is a professional activity.']\n"
     ]
    },
    {
     "name": "stderr",
     "output_type": "stream",
     "text": [
      "\r",
      " 19%|██████████████████████████████                                                                                                                               | 189/986 [16:40:18<154:50:04, 699.38s/it]"
     ]
    },
    {
     "name": "stdout",
     "output_type": "stream",
     "text": [
      "generated explanation: <pad> <extra_id_0> If you look at a hockey rink, you can see people using a puck professionally. A puck is a small, round object that is used for hitting objects, such as a ball or a net. A hockey puck is a small, round, white, or oval-shaped object that is used for striking objects, such as a ball or a stick. A puck is a small, round object that is used for striking objects, such as a puck or a stone, such as a skate, and it is common to see people using it in a professional arena.<extra_id_1> </s>\n",
      "########\n",
      "*******\n",
      "question: Even when not in flight a bald eagle likes to have a lay of the land, because of this you'll see them perched up where?\n",
      "answer: high places\n",
      "choices: ['colorado', 'natural habitat', 'everglades', 'high places', 'tree']\n",
      "common expl list: ['Eagles like to be high up, so they can see a large area.']\n"
     ]
    },
    {
     "name": "stderr",
     "output_type": "stream",
     "text": [
      "\r",
      " 19%|██████████████████████████████▎                                                                                                                              | 190/986 [16:55:10<167:26:25, 757.27s/it]"
     ]
    },
    {
     "name": "stdout",
     "output_type": "stream",
     "text": [
      "generated explanation: <pad> <extra_id_0> When bald eagles are not in flight they like to have a lay of the land. They like to be up high and have a good view of the surrounding area. Because they are birds of prey they often like to be in high places. They often like to perch on high places to get a better look at the landscape and to observe the wildlife. They are often seen perched up high in trees or other high places, and they may also be seen perched up high in trees or other high places. They like to have a good view of the land and to be in<extra_id_12> their favorite places to fly. They like to have a good view of the ground. They like to have a good view of the land below. They are also good places to hunt.<extra_id_1> bald bald a good meal.<extra_id_1> </s>\n",
      "########\n",
      "*******\n",
      "question: When is good time for garlic bread?\n",
      "answer: dinner\n",
      "choices: ['refrigerator', 'dinner', 'jail', 'supermarket', 'going on a date']\n",
      "common expl list: ['Typical garlic bread is served with a maincourse and wine or other alcoholic beverage, and both are commonly served with dinner.', 'Garlic bread is often served with dinner.']\n"
     ]
    },
    {
     "name": "stderr",
     "output_type": "stream",
     "text": [
      "\r",
      " 19%|██████████████████████████████▍                                                                                                                              | 191/986 [17:05:52<159:35:48, 722.70s/it]"
     ]
    },
    {
     "name": "stdout",
     "output_type": "stream",
     "text": [
      "generated explanation: <pad> <extra_id_0> A good time for garlic bread is at dinner time. Garlic bread is a type of bread that is typically served with cheese and other toppings. It is often served with a variety of other foods, such as salad, soup, or sandwiches. It is particularly common at restaurants, where it is served with other types of bread and at different times of the day. It is typically served with a variety of different types of cheese and other ingredients, such as roasted red peppers, mushrooms, and onions. It is typically served with a variety of foods, such as soups, and<extra_id_1> </s>\n",
      "########\n",
      "*******\n",
      "question: Where is the sky fake?\n",
      "answer: planetarium\n",
      "choices: ['shed', 'atmosphere', 'photo', 'outdoors', 'planetarium']\n",
      "common expl list: ['Planetariums are buildings that simulate the sky.', 'Planetariums are places built to simulate the sky indoors; the opposite of outdoors.']\n"
     ]
    },
    {
     "name": "stderr",
     "output_type": "stream",
     "text": [
      "\r",
      " 19%|██████████████████████████████▌                                                                                                                              | 192/986 [17:19:39<166:19:08, 754.09s/it]"
     ]
    },
    {
     "name": "stdout",
     "output_type": "stream",
     "text": [
      "generated explanation: <pad> <extra_id_0> The sky is fake in a planetarium, where the sky is a replica of the earth's atmosphere. In a planetarium, the sky is a replica of the earth's atmosphere, and it is made to look like the stars and planets in orbit around the sun. In a planetarium, the sky is made to look like the stars and planets in orbit around the sun, and it is made to look real. In a planetarium, the sky is made to look like the sky, or any other artificially manipulated or manipulated to create a simulated environment, such as astro-like environment, or a planetastro-related exhibit or exhibit. The sky is </s>\n",
      "########\n",
      "*******\n",
      "question: Boats that aren't on the ocean travel across the surface of what?\n",
      "answer: lake\n",
      "choices: ['lake', 'ocean', 'tetrahedron', 'mirror', 'object']\n",
      "common expl list: [\"Lakes (and ponds) are bodies of fresh water surrounded by land, and boats exist on water, and thus, will tend to travel across lakes' surfaces.\"]\n"
     ]
    },
    {
     "name": "stderr",
     "output_type": "stream",
     "text": [
      "\r",
      " 20%|██████████████████████████████▋                                                                                                                              | 193/986 [17:31:41<163:55:37, 744.18s/it]"
     ]
    },
    {
     "name": "stdout",
     "output_type": "stream",
     "text": [
      "generated explanation: <pad> <extra_id_0> Boats that aren’t on the ocean travel across the surface of the water. Boats that aren’t on the ocean travel across the surface of the water. This is particularly true of boats that are on the ocean and those that are not. Boats that are not on the ocean typically travel across the water on the surface of the ocean, which is typically calm and relatively flat. Lakes are large bodies of water that are typically found in coastal areas and are used for recreational purposes, such as fishing, boating, and water skiing. They may also be used for recreational purposes, such as fishing or water sports, such as skiing, or swimming.<extra_id_1> </s>\n",
      "########\n",
      "*******\n",
      "question: A small dog lived with a a woman who loved him. Where might he have lived?\n",
      "answer: person's house\n",
      "choices: [\"person's house\", 'dog house', 'canada', 'illinois', 'basket']\n",
      "common expl list: [\"Dogs are often kept as pets, and pets are often kept in their owners' homes.\", 'Animals who live with humans are often in their homes.']\n"
     ]
    },
    {
     "name": "stderr",
     "output_type": "stream",
     "text": [
      "\r",
      " 20%|██████████████████████████████▉                                                                                                                              | 194/986 [17:47:27<177:02:37, 804.74s/it]"
     ]
    },
    {
     "name": "stdout",
     "output_type": "stream",
     "text": [
      "generated explanation: <pad> <extra_id_0> A small dog lived with a woman who loved him. He may have lived with a woman who loved him. A small dog may have lived with a woman who loved him. A woman may have loved him and wanted to give him a home. A dog may have lived with a woman who loves him and wanted to give him a home. A small dog may have lived with a woman who loved him and wanted to give him a home. A dog may have lived with a woman who loved him and wanted to give him. He may have been a small dog who lived with a woman who loved him. He may have been a dog who lived with a woman who was a small dog who loved him.<extra_id_1> </s>\n",
      "########\n",
      "*******\n",
      "question: There are usually four strings on what popular instrument?\n",
      "answer: guitar\n",
      "choices: ['trumpet', 'kite', 'quark', 'guitar', \"bird's nest\"]\n",
      "common expl list: ['Guitars have four strings.', 'A guitar is a stringed instrument with four strings.']\n"
     ]
    },
    {
     "name": "stderr",
     "output_type": "stream",
     "text": [
      "\r",
      " 20%|███████████████████████████████                                                                                                                              | 195/986 [18:05:11<193:54:09, 882.49s/it]"
     ]
    },
    {
     "name": "stdout",
     "output_type": "stream",
     "text": [
      "generated explanation: <pad> <extra_id_0> The guitar is a popular instrument that is played with a pick and a plectrum. The guitar is a popular instrument that is played with a pick and a plectrum. The guitar is a popular instrument that is played with a pick and a fingerboard, and it is often used for performing music. The guitar is a popular instrument that is used for a variety of purposes, and it is often used for various types of music. The guitar has four main strings, and each string has a different sound. The sound is produced by playing the instrument, and it is often used for fingerstyleduring and strums. Strings are used to create a melody or rhythm.<extra_id_1> </s>\n",
      "########\n",
      "*******\n",
      "question: Where would you find a shelf with toys for young people learning?\n",
      "answer: school building\n",
      "choices: ['corner', 'school building', 'wall', 'library', 'bookstore']\n",
      "common expl list: ['A school building is a place where children learn, and so, a school building would have a shelf with toys for young people learning.', 'School buildings house school libraries, in which you would find shelfs of toys, games and puzzle for students to use while in school.']\n"
     ]
    },
    {
     "name": "stderr",
     "output_type": "stream",
     "text": [
      "\r",
      " 20%|███████████████████████████████▏                                                                                                                             | 196/986 [18:20:00<194:08:11, 884.67s/it]"
     ]
    },
    {
     "name": "stdout",
     "output_type": "stream",
     "text": [
      "generated explanation: <pad> <extra_id_0> In a school building, you would likely find a shelf with toys for young people learning. These toys are typically found on a shelf or table that is located in the lobby or at the entrance to the building. These toys can be used to enhance learning and provide a fun and engaging learning environment for young people. These toys can also be used to reinforce learning and social skills, as well as to promote teamwork and communication. If you look in a school building, you may find a shelf with toys for learning and play, as well as books and other educational activities.<extra_id_1> </s>\n",
      "########\n",
      "*******\n",
      "question: What can you get after drinking too much alcohol?\n",
      "answer: sickness\n",
      "choices: ['become drunk', 'have fun', 'active', 'frequent urination', 'sickness']\n",
      "common expl list: ['Alcohol is a diuretic, which means that it makes you urinate more frequently. This can lead to dehydration, which can cause sickness.', \"Drinking too much alchohol can impair the body and, consequently, one's ability to think straight. It can also cause sickness.\", \"Alcohol (e.g., beer, wine, etc.) is a chemical that alters people's consciousness, making them generally feel unpleasant; subsequently, over-consumption can lead to the vomiting of one's content inside one's stomach. Hence, being\"]\n"
     ]
    },
    {
     "name": "stderr",
     "output_type": "stream",
     "text": [
      "\r",
      " 20%|███████████████████████████████▏                                                                                                                            | 197/986 [18:49:38<252:36:55, 1152.62s/it]"
     ]
    },
    {
     "name": "stdout",
     "output_type": "stream",
     "text": [
      "generated explanation: <pad> <extra_id_0> After drinking too much alcohol, you may experience various types of physical and mental symptoms, such as dizziness, nausea, and vomiting. Alcohol is a powerful depressant and dehydrating agent that can cause a variety of health problems, including depression, anxiety, and sleep problems. It can also cause dizziness, nausea, and vomiting. Alcohol can also cause a range of other health problems, such as gastrointestinal problems, liver problems, and kidney damage. Alcohol can also cause other health problems, such as confusion, fatigue, and other symptoms of alcohol withdrawal and other effects of alcohol consumption. When drinking too much alcohol is not recommended for anyone, especially if you are already experiencing symptoms of symptoms of other drugs or alcohol-related health effects, such as those caused by drinking too much alcohol, such as those caused by the drink, or by a large amount of alcohol or other substances that are intoxicated, orally, orally consumed in a large amount of alcohol orally, orally, or a physical or mental health problems, you may experience these effects, such as alcohol a a sour body</s>\n",
      "########\n",
      "*******\n",
      "question: WHat is the central bank responding to when they are fighting inflation?\n",
      "answer: problems\n",
      "choices: ['deflation', 'problems', 'spend more', 'people', 'not noticeable']\n",
      "common expl list: ['Periods of inflation cause problems for businesses and people. The central bank may take steps to fight inflation (reduce it) to respond to this problem. Reducing inflation also solves the overall issues.', 'Inflation is a function of having too much money in the economy. This may cause problems.', 'Inflation is a problem, and the central bank is responding to it by fighting it.', 'In order to fight inflation, a central bank must respond to the problem, e.g., economic trouble, which if left alone, would cause inflation']\n"
     ]
    },
    {
     "name": "stderr",
     "output_type": "stream",
     "text": [
      "\r",
      " 20%|███████████████████████████████▎                                                                                                                            | 198/986 [19:07:28<246:50:11, 1127.68s/it]"
     ]
    },
    {
     "name": "stdout",
     "output_type": "stream",
     "text": [
      "generated explanation: <pad> <extra_id_0> When the central bank is responding to when they are fighting inflation, they are responding to problems. Problems are problems that the central bank is experiencing, such as rising prices, weakening currency, and rising interest rates. When the central bank is responding to these problems, they may take a number of different steps to address the problem. If the central bank is responding to problems, it may take the form of a rate increase or a rate cut. If the central bank is responding to problems, it may take the form of a rate of interest rates or a desire to reduce the amount of money in the currency market.<extra_id_1> </s>\n",
      "########\n",
      "*******\n",
      "question: What could a massive building be if it is not constructed well?\n",
      "answer: insubstantial\n",
      "choices: ['insubstantial', 'massless', 'dwarf', 'inconsequential', 'good']\n",
      "common expl list: ['Because the massive structure is so large, poor construction could render it largely inconsequential, or \"insubstantial\", as a structure.', 'A building is typically considered a sizable construction, therefore, if erected poorly, would be construed as being insubstantial.']\n"
     ]
    },
    {
     "name": "stderr",
     "output_type": "stream",
     "text": [
      "\r",
      " 20%|███████████████████████████████▍                                                                                                                            | 199/986 [19:31:13<266:01:56, 1216.92s/it]"
     ]
    },
    {
     "name": "stdout",
     "output_type": "stream",
     "text": [
      "generated explanation: <pad> <extra_id_0> A massive building could be insubstantial if it is not constructed well. If a massive building is not constructed well, it could be insubstantial. A massive building is a building that is large and strong, but it is not necessarily massive or strong. A massive building is a building that is large and strong, but it is not necessarily massive or strong. A massive building is a building that is large and strong, but it is not necessarily massive or strong. A massive building is a building that is large and high-scaled. A massive building is not necessarily be constructed well. If it is not constructed well, it could be insubstantial. If it is not constructed well, it could be in a way that it is not be constructed well, it could be insufficiently or even not be a well-constructed, but rather, it could be insubstantial, meaning it is not a building is not necessarily a building that is not a building is not a high-end or a building that is not a building that is</s>\n",
      "########\n",
      "*******\n",
      "question: If you rent a condominium in a glove-shaped state where are you?\n",
      "answer: michigan\n",
      "choices: ['great lake state', 'michigan', 'community', 'towels', 'complex']\n",
      "common expl list: ['A condominium is a type of housing that is often rented. Condominiums are often located in complexes, and Michigan is a state that is shaped like a mitten.']\n"
     ]
    },
    {
     "name": "stderr",
     "output_type": "stream",
     "text": [
      "\r",
      " 20%|███████████████████████████████▋                                                                                                                            | 200/986 [19:45:29<242:03:47, 1108.69s/it]"
     ]
    },
    {
     "name": "stdout",
     "output_type": "stream",
     "text": [
      "generated explanation: <pad> <extra_id_0> If you rent a condominium in a glove-shaped state, you are in michigan. Michigan is a state that is shaped like a glove, and it is located in the midwestern United States. It is home to a population of about 2.3 million people, and it is the third largest state by area. It is a midwestern state that is primarily made up of Detroit and Detroit suburbs. It is the only state in the country that is shaped like a glove, and it is the only state that is a city in the midwest United States. It is a city in the Midwest, and it is a city in the state of Michigan. It is located in the state of Michigan, which is a city in the Midwest.<extra_id_1> </s>\n",
      "########\n",
      "*******\n",
      "question: where do children play a game?\n",
      "answer: family room\n",
      "choices: ['toy store', 'bar', 'casino', 'table', 'family room']\n",
      "common expl list: ['A family room is a room in a house where family members can play games.', 'A family room is a room in many homes in which families can socialize, often through games. One such game is \"connect four.']\n"
     ]
    },
    {
     "name": "stderr",
     "output_type": "stream",
     "text": [
      "\r",
      " 20%|████████████████████████████████                                                                                                                              | 200/986 [20:08:01<79:07:30, 362.41s/it]"
     ]
    },
    {
     "name": "stdout",
     "output_type": "stream",
     "text": [
      "generated explanation: <pad> <extra_id_0> In a family room, children often play a game. A game is a type of activity that involves playing a game or clicking on a button to interact with another person, such as playing a game or singing a song. Games can be played by children of any age, and they can be played in a variety of settings, such as a living room, den, or playroom. Games can be played by children of all ages, and they can be played by both adults and children. Games can be played in a variety of settings, including a family room, or room, where they can be found playing with family members or in a variety of activities, such as board games, or computer games, and they can be found in a variety of places, such as a family room, or a specific room, such as a family game or puzzles, such as a family room, and they can be played in a room with other children, such as a child's, such as a play with a family, and a great deal of families, or a playroom</s>\n",
      "########\n"
     ]
    },
    {
     "name": "stderr",
     "output_type": "stream",
     "text": [
      "\n"
     ]
    }
   ],
   "source": [
    "from tqdm import tqdm\n",
    "fse_csqa_dev_data_dict\n",
    "fse_csqa_train_data_dict\n",
    "rationale_pair_dev_data = []\n",
    "cc=0\n",
    "good_model = model\n",
    "for da in tqdm(our_data_splits['dev'], total=len(our_data_splits['dev'])):\n",
    "    print(\"*******\")\n",
    "    print(\"question: {}\".format(da['question']))\n",
    "    print(\"answer: {}\".format(da['answer']))\n",
    "    print(\"choices: {}\".format(da['choices']))\n",
    "    #print(\"our_explanation: {}\".format(da['our_explanation']))\n",
    "    id_ = da['id']\n",
    "    if id_ in fse_csqa_dev_data_dict.keys():\n",
    "        common_expl_list = fse_csqa_dev_data_dict[id_]['common_expl_list']\n",
    "    else:\n",
    "        common_expl_list = fse_csqa_train_data_dict[id_]['common_expl_list']\n",
    "    da[\"common_expl_list\"] = common_expl_list\n",
    "    print(\"common expl list: {}\".format(common_expl_list))\n",
    "    inp_ids = torch.tensor(da[\"input_ids\"], device=model.device).reshape(1, -1)\n",
    "    out = good_model.generate(\n",
    "                    inp_ids,\n",
    "                    max_length=512,\n",
    "                    pad_token_id=tokenizer.pad_token_id,\n",
    "                    eos_token_id=tokenizer.eos_token_id,\n",
    "                )\n",
    "    skip_special_tokens = False if \"infilling\" in data_args.io_format else True\n",
    "    words = tokenizer.decode(out[0].tolist(), skip_special_tokens=skip_special_tokens)\n",
    "    print(\"generated explanation: {}\".format(words))\n",
    "    da[\"generated_explanation\"] = words\n",
    "    print(\"########\")\n",
    "    rationale_pair_dev_data.append(da)\n",
    "    cc += 1\n",
    "    if cc > 200:\n",
    "        break\n",
    "    #pdb.set_trace()"
   ]
  },
  {
   "cell_type": "code",
   "execution_count": 51,
   "id": "a7a66b99",
   "metadata": {},
   "outputs": [],
   "source": [
    "import json\n",
    "rationale_pair_save_path = os.path.join(\"./results\", \"24shots_cose_t5_3b_chatgpt_rationales_generator_test_rationale_pair.json\")\n",
    "with open(rationale_pair_save_path, 'w') as f:\n",
    "    json.dump(rationale_pair_dev_data, f)"
   ]
  },
  {
   "cell_type": "code",
   "execution_count": 52,
   "id": "33daef0f",
   "metadata": {},
   "outputs": [
    {
     "data": {
      "text/plain": [
       "dict_keys(['5b8a3081c3235d62bc77e2d15f3ad454', '07f108d5321a66f460685f5c7499ecb2', 'ff1bf2ec835c9df8695ae0cfb5281646', '33ea932a876ac0361c9eefeff1d24e92', '35ad89c198d5d6311a71c993bb7b6cba', 'a2aa95861ef74bf1ecfc55db505e3982', 'af3b9a8b1962cd3bcd19e644d873e7bc', '91e0f4ab62c9d2fd440d73a3f5308d96', 'cfc7fccb8449a2a950c9d2a50991420e', 'edbb57ac2f476679ae547f75ec2bef3e', '8555dd9667d010018961a2f7d1c22704', '8bdbb8caefcc607a9ec7579aa0c87cba', '549cf641318edfc0510fa7c7dbb359e1', 'd6c002d46d9bfa466637cec4a134f332', '3b9ccdcb1c932c46a38e040d3e6c7f5b', '54231f875bb7fe4d3e4afb6eae64387c', '668dc6bce771b10cbf6336f3ec76520a', '900492bd731f8f615ed7c08155737d44', '0b25bbd9e9aa976655e1975e31331709', '1729c737ff92cf558efecde2c6cafc5e', 'cc1a547bdfdcc95e4d632453af14bc96', 'c492b8b9754a181c924c1df19998cbc7', 'd31ee38f67d1173275e120b8ad36039c', '083861fc5ebb9226fff70544f3f83d2b', 'e1744fc698cffb574e5cf4b29a81ce76', '1f492f556fae64f72ce36b6caa242dd0', '27604394ccee83e089f9ffae1883cf07', 'b3dc6d6a5e2f9d7da8eb72816c80b3f8_1', '6bc3ebcfd04965c25bde71339955746c', '69335eb9bc5b7b5df840c38a086bf8b2', 'bc05bc6b4df7a3d25a361515fe8912ad', 'f7c005244d406b9bde48dc8c22003af1', 'f48528156632b9c5b18af9ce2095509b', 'b5baf77d3855935c87f01f5fb2216667', 'db1eb157671109bbb9113b0f71a6b957', '77ddc9134bb27f9962aa2ed5ec5a5ef9', '6abd34442438509b4a00c69d6fd24764', 'b67971747e95ba425a5b81e0ba8d0b28', 'bee2a6eadfaf7a4fa0a214e341ddbe5b', '8ce13c6e08bf38d4cd4af756b661e47c', '80930e9df9ac4ad752749a54e7fc124f_1', '3ffe67fb009529d9b0c49ccd7141ee4a', '8d3dc21a53523850ec80771daaa5ff20', '3310b5b24f03d67179fababf9ae95144', '998381f854f51da2a6ccde45909e5168', 'f427f9de6bf580314531baf86de8acbc', '18844d3aa4e52b331b5382c8244cf4db', '8af63d58cc35061dec38e5448c325988', '768fb09deab56046e1565b6a2556ad5c', '5655a3002dd9a6b7dabede1dd26a5893', '07ea8ff6ee916f2bf9aceab1e19ff99a', 'd35a8a3bd560fdd651ecf314878ed30f', '449de58e919975867255218484a9fc89', '7cf54544d54818d53e7088c0749a3eca', 'd29252ddaf7c7ef491abcce342d7bb98', '4a4f6408fae400ce0beb5bea0f9913e9', 'c306ab28498b67c53decb9dde1d78bd5', 'ba9132ebf2bc3ad21e6a0631dc4e0a77', '026cb9c07a583ec933f2c4c67ae73836', '2a21820a135e1a49883525c055c74a0b', '7c45033e9fd9f1a759923971b14390ed', 'dc964e4f6df6b70815e81e466d0ff717', '2a32b1e541b1daae04690d0d3a4b3310', '6c515b068b4d3aa88a5382224d9b866d', '6c84e79d0595efd99596faa07c4961d0', '42c46e28baf0fc617a07419286178c0a', 'c39131d979c9205c11d0e109e18188e4', 'c592258c88295756833e9796e881057b', '3526550b02d9594abd4fc43553010fc6', '637c710ec9582fd9b9e8eaa3f3fe83bb', '01f01cc3ad152773ef42b30e926912bf', 'c54ddc0f9d170ba65d9f4f2e0bb41d1c', 'ad37795fd9e3a65553683ff305b5113d', '7a3d0c94438a5c8a09364aaebb848a2c', '7c05e8d5a057085455eea243fbd1cd90', '4364b4b342fb7b44434bd6694bf8fd51', '99098375c7b651d524eebac72e358238', '1ddd239a2a6438a891cb411b82e7f450', 'f4bb8ecacb9ce89e040f5f76bc79afb3', '6b9221c1af583ffb43580857d6fde38a', 'cf8e30dd6956d03e3f0f0397112a8696', '456f2fb41cac8c028dcfe2f48637e473', 'c908d7c4633c5e6add9463bdd47cb27e', '2de08c7a518b7c226e19bdc8fc10ef1d', 'cd639cf3ff82f825ace7dd2b087562bd', 'e3c6d147f8a727d314046e70e9579ba0', 'b9b82aa4c236cd342ff95455b8516a42', 'e4976ee741cf4b28b8a42780ffb15774', '8d275acea05fd16295c659c504576a9b', '3bf06235a537adc9d85431846595b800', 'a7d51b753c2113d8b2dbd0ebb5375855_1', 'bcc5dd6292a64d8fa17cd07c360b335d', '46ba5d2b8cfc6708e5e2618568d8730e', '9f9ca9bb06d6afc31b19c365fb29a1c9', '3d9c3253e24fb108cea9083e8a853cf2', '3b8e1d236f5169b6c833a994d6d9c39a', '6ca8439d062de4d43d7d471c508b78db', 'ec86900559a0faf2aef066e511a4cfa6', '57e96118fee6e2bbac5f59790fc833c0', '520b0eea9148e3cb4d45aa69a55491eb', '6be05d227f4f6fe727218fc8be9df340', '113aaea2b1a27a976547f54e531d99bb', '2f0931adc3d0d422d9ab6264395e89d8', 'cce1b59f7c4f540a84a1a7d6d88548c4', '870b07a1c5af2e956673a9680da99852', '34005ef0caafefc8585c9fcd50e94557', '22458fdcead20e2def0df0d92d5806f6', 'ec224c1dbfb569cce7ec317fe987ae68', 'ede4d302fc2ffe07703158f83c1493f2', 'ecd32cc0c17d4738a27bba3399f04591', '5c171b9837af49211891ce40e4a10204', '801431167b8bff06b9870abe9721536b', 'b47d912136e3304cb5e5890b6b879551', 'd0bd5b5ee7319d1c4727e38d429dd54e', '78276a4eab6e8d6b9ae3749211816977', 'ec79ef747bb89281923edb89ba26786d', '0e80f2afe5c4f652e8720b52d7c06c87', '39572e0ba1db51fa74f7fc2d90c5ec7f', '56417ee33b44f0d916bedfb6fd99b0ec', 'f996430ce208606452868fd2e739d409', '858a5eaa587fe0e266722228671a6bd1', '273d0134e8ce53d4ebcf41ca7fde02af', '49e466b1782aa4837dae53ff891fcdee', '08d908ed723f813574992195d61386a2', '7192c9f5c513aac9042bad595ff5af9f', 'aa4c5d2d348796b8d7fa324f27f4c34f', '0e52659484f2f6d763cf0d38d4c5999d', '4423c006f2a43f222d4c4e97360c25d3', 'f4a75bf3f115b826a8097edfd0ff2781', '07b51b231a9d6a143d8a73e69121e1b1', 'c2a8c6814ed3e207771cfc23b3b42cf1', 'f13efb91090dd28fd2b3c1f4dde680fd', '985a4f1a3f31f1ba6654f4fc48f504df', '9e5ce2b7d9eb404cdf8c7317dd0b5a59', 'a400b9fd1e319f901471c4b42d401c52', '042898e0c71adac5d123aaa6221c9754', '29c194d032a266a7160bff6f546a4d9d', 'db0cfd52ca6b2bbfcf26d1a898fd929b', '2a0e82bbf1471290c93c8f2a11af197f', '49b4c9e1bd7946a819e173ce8fa4c7c9', '6cb895ce89995f6be422f7c4167c7638', 'df1bf6f3f87975aa0c1b6d6153d9ecef', '1bf4c6b5bd870b1a079106e1e97e5d09', '8ae24d3ff199077a59e0d970feb665b7', 'bb503ece4eac41dfe608a1dcb654e6bf', '6e77de03bee86d6c20780e14f00944d0', '5799089c131e26473697afc54d5f6964', '895aa97bb84d874d71b2aed572cebfdd', '23d97480fe45bace231503f8fc367a5b', 'a2977fd575faba162d04a490dabd1b9b', '5a1c8a9dbbb60e523cc1ba14a370729c', '5496c7293f653120e5a5213db2d7b103', '7044d82a456d0fa6f0210abb03cbf2c4', '15b090801256085ad465e74af47cbee9', 'aa984e2b487d08889bc0c73bab5ac945', '4302e727e47f464511d4d04f22bed0d2', 'b6b66d4519a84b8331ea55f84767e9df', '0e5c7c0cec5b693e52f74f5f879d84fb', 'e408a5a031caec33782cb3b3a005eecc', '96cb628fb7ed2f53245598f707ed2b80', '2067720531fc03c017af941cec2f6f40', '5b8d76889510384b38b72945e8d28f53', 'cf33e0f5891ce53a716432be06a46ee1', '24eebfa678112100803da16dde148b2d', '0c2fa15a02d0b6ca6707e98fac7589e4', 'c2c2a387fd9a6a26cff636008de21f71', 'f20d40bc4af588223e880e0bb58b27b8', 'b42ef8be1748c19fa5938de5396f8fad', '57b83653d82b27d32bc39228130f3516', '2192c5c2145a6e03755ad89a02e64055', '175e7dcdded13d5adafaebf2264c3abd', '8d4b0312f02be445e09a9462873d02bb', 'cfa081b5ba90dae4d7ddb5b7ad9d369a', 'd6bb990e8c409d2b3af37a2da198e01f', '20a3bb788cf408d9a3e25e610fe60905', 'af11faa29097b71141fe192ad019d1dd', '6915dfdefe3b1cd5fd8886c8bb84929a', '43ba9669564217f2f909f33acbedaf95', 'fce1c5d069758aea57a787fc98dcf7a9', '32758ab86d888be680845b0dfe7de35e', '7ea57ee4580042b0a6a40479c8ace3e4', '21fb76bd8349628b441c76f47c33e77b', '3fe45ab3bd4a844ea290050fc0ece8c1_1', '3dee8fc7f0a3fbf4de111b6686fca157', 'ceafca2445b1b974d085a8cce38e8e44', '42520bf3f93f8de23670044e019001a3', '5ea6b94d1a911365b06cf776919413e8', '2d3c9d3dff1a7a8253180cb3de1ceeea', 'a4892551cb4beb279653ae52d0de4c89', 'e050bce7048da1b3743a54153e91694e', 'eb50f536830ba18ab987c7ff652e2aba', '6386bcf080633bc3eeb3317a5435b7b7', '839f3c37622c1ed5eebc9cd0b9d658e8', '009a7aabffe0583fc2df46656b29c326', 'c82ed0c2a2e115452b4d596c5faafbcf', '01abce8c4964371d85a5be2019f75827', '7d937233b4a9043da0b976dbd42d141b', 'c611875b43b67b91030b889b267bbcb3', '7bc1198664b376f79d584725ad7f874b', '5e260e1d96187716888cbd968010bb65', 'fde48d43e27cefed6ed9c52514e0bb6d', '43ab0ff711e60d51f943bbd2cdd6515a', '1a8b3c2a46efabcbd506f9cf70886ed0', '48a315cfa3ce11f7a9d615bc854331d5', '095767956c500ca1af7cf7671556de5b', 'de54d03e69d9765872f95ff06ed21499', 'cbf3dd48b4d591fc872a53cd4b9dd3af', '35872be88df5f6c4a6600020266a5458', 'a90f9197a13c64089c9ba95bcba275ad', 'bd4e80fa6642a76c064d0bc924411fb0', '008b7ba0c039f6d0d542c6c90aae173c', 'ace8fa2943ba8414aebdb74b48906fae', '1caf93d6a22dc8190e19c14bbe1fafda', '7c8bc9c0e56389eef033bca40c88c151', '6195ed74cf445cb5d991e1076a080dde', '8086f022f2d4a4888ae1f8c7e4541ab9', '1e5a138b4c7d456c37abf4990b402bbe', '3f4b48708d08f8bf7bec796531023f9c', '60e92cd2f35c345872d1a898e1718d55', '9889e5389917d812c09d6e5d382d333d', '46351b3a6beb694c5f623583a3b1473d', '7b7941b883328ad39048d4dfb1eb5623', '7d7f7d7a8ae3b20ca9fc0da6efe467b4', 'c961578f4c5768b67b843e5d2ce18452', '514310637fb43a252bfadc8cbf79b277', '5279a2ea333ba8a5bf3a7637a7279da1', '5622e49306bb82ec1cec817ad0506c60', 'fcd39cfa321728fea069a6ae4285b06f', '26bd85f05d29863ed777a4f1a4b8fa63', '31487ab8b1e8f12e252590cc58bd19c2', 'ffd89796a9b09bef56c5803f188764c6', 'ba3a2b9ff289c106051163f840a6f5ba', 'b1f36d1c8ab7e5a28783cb38e8709c27', '5c2bc4335c8860342ec2d568ceb6ac6b', '36c1f50eec01c287b8ef6ffe69fe0528', '515834727e23e30ab7c8fe5ba7e9a765', 'a15d564d0be6996251b5d523ac62db2a', '8f01273422a370a8dbda6bf473a395a0', 'cabefb7063a728e77abd44d97397a2a4', '1bc986f8aea88d6927d8a45367855a94', '484f6e4fb8e6431b010c299490b72e3c', 'a7e3de0719fe30e7048f67426e29fdd1', 'a617eb4d27edea93e7fd630ce00c8219', '2c0030cc14a27be2401dcfdaa501f0fc', 'cf02cca40a47c2deefd8b2e5a5ff2f70', 'ea0e7771afd86a59fd9f7764b77e3fa4', 'c1aebf059c5102f4e773f7fe4afe13f0', '95a85df48902d23eb3fda25a99fca1a0', 'a4b44a986e7f9045432e20ea75611df4', '05490e6c191fbc3c2fe0033ed0bd8aa0'])"
      ]
     },
     "execution_count": 52,
     "metadata": {},
     "output_type": "execute_result"
    }
   ],
   "source": [
    "fse_csqa_dev_data_dict.keys()"
   ]
  },
  {
   "cell_type": "code",
   "execution_count": null,
   "id": "557d40fd",
   "metadata": {},
   "outputs": [],
   "source": []
  }
 ],
 "metadata": {
  "kernelspec": {
   "display_name": "Python 3 (ipykernel)",
   "language": "python",
   "name": "python3"
  },
  "language_info": {
   "codemirror_mode": {
    "name": "ipython",
    "version": 3
   },
   "file_extension": ".py",
   "mimetype": "text/x-python",
   "name": "python",
   "nbconvert_exporter": "python",
   "pygments_lexer": "ipython3",
   "version": "3.7.0"
  }
 },
 "nbformat": 4,
 "nbformat_minor": 5
}
