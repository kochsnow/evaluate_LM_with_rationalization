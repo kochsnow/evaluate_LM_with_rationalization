{
 "cells": [
  {
   "cell_type": "code",
   "execution_count": 1,
   "id": "f5286ba7",
   "metadata": {},
   "outputs": [
    {
     "name": "stderr",
     "output_type": "stream",
     "text": [
      "\u001b[34m\u001b[1mwandb\u001b[0m: Currently logged in as: \u001b[33mdengdenghuang\u001b[0m (\u001b[33mcuhk_lavilab\u001b[0m). Use \u001b[1m`wandb login --relogin`\u001b[0m to force relogin\n"
     ]
    },
    {
     "name": "stdout",
     "output_type": "stream",
     "text": [
      "env: WANDB_PROJECT=evaluate_LM_with_rationalization\n"
     ]
    }
   ],
   "source": [
    "import wandb\n",
    "wandb.login()\n",
    "\n",
    "%env WANDB_PROJECT=evaluate_LM_with_rationalization"
   ]
  },
  {
   "cell_type": "code",
   "execution_count": 2,
   "id": "30300ea6",
   "metadata": {},
   "outputs": [],
   "source": [
    "# import gpt3\n",
    "import logging\n",
    "import math\n",
    "import os\n",
    "\n",
    "from typing import List, Dict, Any, NewType\n",
    "\n",
    "InputDataClass = NewType(\"InputDataClass\", Any)\n",
    "os.environ[\"CUDA_VISIBLE_DEVICES\"] = \"1\"\n",
    "from transformers import (\n",
    "    T5Config,\n",
    "    T5ForConditionalGeneration,\n",
    "    T5Tokenizer,\n",
    "    HfArgumentParser,\n",
    "    TrainingArguments,\n",
    "    set_seed,\n",
    "    EarlyStoppingCallback\n",
    ")\n",
    "from transformers.trainer_utils import EvaluationStrategy\n",
    "from transformers.integrations import TensorBoardCallback\n",
    "import transformers\n",
    "from transformers import Trainer\n",
    "\n",
    "#from feature_conversion_methods import format_instance\n",
    "\n",
    "from custom_args import (\n",
    "    DataTrainingArguments,\n",
    "    ModelArguments\n",
    ")\n",
    "from metrics import evaluate\n",
    "import torch\n",
    "import datasets\n",
    "import git\n",
    "import time\n",
    "from datetime import datetime\n",
    "import sys\n",
    "from tqdm import trange\n",
    "import random \n",
    "import pandas as pd \n",
    "import jsonlines\n",
    "from copy import deepcopy \n",
    "\n",
    "logger = logging.getLogger(__name__)\n",
    "transformers.logging.set_verbosity_info()\n",
    "import re\n",
    "def set_global_logging_level(level=logging.ERROR, prefices=[\"\"]):\n",
    "    \"\"\"\n",
    "    Override logging levels of different modules based on their name as a prefix.\n",
    "    It needs to be invoked after the modules have been loaded so that their loggers have been initialized.\n",
    "\n",
    "    Args:\n",
    "        - level: desired level. e.g. logging.INFO. Optional. Default is logging.ERROR\n",
    "        - prefices: list of one or more str prefices to match (e.g. [\"transformers\", \"torch\"]). Optional.\n",
    "          Default is `[\"\"]` to match all active loggers.\n",
    "          The match is a case-sensitive `module_name.startswith(prefix)`\n",
    "    \"\"\"\n",
    "    prefix_re = re.compile(fr'^(?:{ \"|\".join(prefices) })')\n",
    "    for name in logging.root.manager.loggerDict:\n",
    "        if re.match(prefix_re, name):\n",
    "            logging.getLogger(name).setLevel(level)\n",
    "set_global_logging_level(logging.ERROR, [\"datasets\"])\n",
    "\n",
    "\n",
    "CONFIG_MAPPING = {\"t5\": T5Config}\n",
    "MODEL_MAPPING = {\"t5\": T5ForConditionalGeneration}\n",
    "TOKENIZER_MAPPING = {\"t5\": T5Tokenizer}\n",
    "\n",
    "\n",
    "def set_other_seeds(seed):\n",
    "    torch.backends.cudnn.benchmark = False\n",
    "    #torch.backends.cudnn.deterministic = True\n",
    "    os.environ['PYTHONHASHSEED'] = str(seed)\n",
    "\n",
    "# inspired by DefaultDataCollator from:\n",
    "# https://github.com/huggingface/transformers/blob/master/src/transformers/data/data_collator.py\n",
    "# modified to perform batch-level padding.\n",
    "class SequenceCollator:\n",
    "    def __init__(self, model, pad_token):\n",
    "        self.model = model\n",
    "        self.pad_token_mapping = {\n",
    "            \"labels\": -100,\n",
    "            \"attention_mask\": 0,\n",
    "            \"decoder_attention_mask\": 0,\n",
    "            \"input_ids\": pad_token,\n",
    "        }\n",
    "\n",
    "        self.columns = [\n",
    "            \"input_ids\",\n",
    "            \"attention_mask\",\n",
    "            \"labels\",\n",
    "            \"decoder_attention_mask\",\n",
    "        ]\n",
    "\n",
    "    def __call__(self, examples: List[Dict[str, InputDataClass]]) -> Dict[str, torch.Tensor]:\n",
    "        # re-format inputs for training\n",
    "        batch = {}\n",
    "        for key in examples[0].keys():\n",
    "            if key in self.columns:\n",
    "                tmp_list = []\n",
    "                for item in examples:\n",
    "                    tmp_list.append(item[key])\n",
    "\n",
    "                # pad lists to max length\n",
    "                if isinstance(tmp_list[0], list):\n",
    "                    max_length = max(map(len, tmp_list))\n",
    "                    tmp_list = [\n",
    "                        el + [self.pad_token_mapping[key]] * (max_length - len(el))\n",
    "                        for el in tmp_list\n",
    "                    ]\n",
    "\n",
    "                batch[key] = torch.tensor(tmp_list, dtype=torch.long)\n",
    "        return batch\n"
   ]
  },
  {
   "cell_type": "code",
   "execution_count": 3,
   "id": "2fa5a75a",
   "metadata": {},
   "outputs": [],
   "source": [
    "from collections import defaultdict\n",
    "import random\n",
    "\"\"\"\n",
    "Example-to-Feature conversion methods\n",
    "Modified from\n",
    "https://github.com/salesforce/cos-e/blob/master/code/generation/train_commonsenseqa_v1.0.py and \"\"_v1.11.py (identical)\n",
    "as well as Tensorflow code for WTF?: \n",
    "https://github.com/google-research/google-research/blob/master/wt5/wt5/preprocessors.py\n",
    "\"\"\"\n",
    "# This code is based on https://github.com/allenai/label_rationale_association/blob/main/feature_conversion_methods.py\n",
    "\n",
    "unified_qa_esnli_label_mapping = {0: 'yes', 1: 'maybe', 2: 'no'}\n",
    "unified_qa_esnli_label_mapping_upper = {0: 'Yes', 1: 'Maybe', 2: 'No'} \n",
    "wt5_esnli_label_mapping = {0: 'entailment', 1: 'neutral', 2: 'contradiction'} \n",
    "unified_qa_sbic_label_mapping = {\"offensive\": 'Yes', \"not offensive\": 'No'}\n",
    "\n",
    "def format_instance(\n",
    "        example,\n",
    "        tokenizer,\n",
    "        explanation_sep,\n",
    "        max_seq_length=None,\n",
    "        datasource=None,\n",
    "        io_format=None, \n",
    "):\n",
    "    assert datasource in {\"cos_e\", \"esnli\", \"sbic\", \"sensemaking\", \"ecqa\"}\n",
    "\n",
    "    if datasource in [\"cos_e\", \"ecqa\"]:\n",
    "        input_string, answer_string = cqa_formatting(example, io_format, explanation_sep, datasource)\n",
    "    elif datasource == \"esnli\":\n",
    "        input_string, answer_string = esnli_formatting(example, io_format, explanation_sep)\n",
    "    elif datasource == 'sbic':\n",
    "        input_string, answer_string = sbic_formatting(example, io_format, explanation_sep)\n",
    "    elif datasource == 'sensemaking':\n",
    "        input_string, answer_string = sensemaking_formatting(example, io_format, explanation_sep)\n",
    "    else:\n",
    "        raise ValueError(\"Unknown task. Currently supported: esnli, cos_e, sbic, sensemaking, ecqa.\")\n",
    "    \n",
    "    if 'unified' in io_format and 'unifew' not in io_format:\n",
    "        input_string += '</s>'\n",
    "\n",
    "    input_string = ' '.join(input_string.split())\n",
    "    answer_string = ' '.join(answer_string.split())\n",
    "\n",
    "    input_string = ' '.join(input_string.split())\n",
    "    answer_string = ' '.join(answer_string.split())\n",
    "\n",
    "    encodings = tokenizer.encode_plus(\n",
    "        input_string,\n",
    "        max_length=max_seq_length,\n",
    "        pad_to_max_length=False,\n",
    "        return_token_type_ids=False,\n",
    "        return_attention_mask=True,\n",
    "    )\n",
    "\n",
    "\n",
    "    # note even with \"lm_labels.shift_right()\", the decoder attention mask length is still correct since we remove the last token\n",
    "    dec = tokenizer.encode_plus(\n",
    "        answer_string,\n",
    "        max_length=max_seq_length,\n",
    "        pad_to_max_length=False,\n",
    "        return_token_type_ids=False,\n",
    "        return_attention_mask=True,\n",
    "    )\n",
    "\n",
    "    encodings[\"labels\"] = dec[\"input_ids\"]\n",
    "    encodings[\"decoder_attention_mask\"] = dec[\"attention_mask\"]\n",
    "    encodings[\"question_encoding\"] = encodings[\"input_ids\"]\n",
    "\n",
    "    #return encodings\n",
    "    return {**example, **encodings}\n",
    "\n",
    "#这里很简单 定义好输入输出string就可以的\n",
    "def cqa_formatting(item, io_format, explanation_sep, datasource):\n",
    "    question = item[\"question\"]\n",
    "    answer = item[\"answer\"]\n",
    "    abstr_expl = item[\"abstractive_explanation\"].lower() if datasource == 'cos_e' else item[\"explanation\"].lower()\n",
    "\n",
    "\n",
    "    if io_format == 't5_fewshot_infilling_with_choices':\n",
    "        input_string = f\"explain {datasource} question: {question} choice: \" + \" choice: \".join(item[\"choices\"]) + f\" <extra_id_0> {explanation_sep} <extra_id_1>\"\n",
    "        answer_string = f\"<extra_id_0> {answer} <extra_id_1> {abstr_expl} <extra_id_2>\"\n",
    "    elif io_format == 't5_fewshot_infilling_more_natural':\n",
    "        input_string = f\"explain {datasource} question: {question} choice: \" + \" choice: \".join(item[\"choices\"]) + f\" The answer is <extra_id_0> {explanation_sep} <extra_id_1>\"\n",
    "        answer_string = f\"<extra_id_0> {answer} <extra_id_1> {abstr_expl} <extra_id_2>\"\n",
    "    elif io_format == \"squad\": \n",
    "        input_string = f\"explain {datasource} question: {question} context: \" + ', '.join(item['choices']) # explain cos_e question: When getting in shape you need to have this in between workouts? context: give up, period of recovery, jogging\n",
    "        answer_string = f\"{answer} {explanation_sep} {abstr_expl}\" # period of recovery because without a period of recovery you will not get any gains.\n",
    "    elif io_format == \"record\": \n",
    "        # might not work because cos_e doesn't have a passage \n",
    "        input_string = f\"explain {datasource} query: {question} entities: \" + ', '.join(item['choices']) # explain cos_e query: When getting in shape you need to have this in between workouts? entities: give up, period of recovery, jogging\n",
    "        answer_string = f\"{answer} {explanation_sep} {abstr_expl}\" # period of recovery because without a period of recovery you will not get any gains.\n",
    "    elif io_format == 'unifiedqa_matching':\n",
    "        choice_ids = ['(A)', '(B)', '(C)', '(D)', '(E)']\n",
    "        input_string = f'explain {question.lower()} \\\\n'\n",
    "        for choice_id, choice in zip(choice_ids, item[\"choices\"]):\n",
    "            input_string += f' {choice_id} {choice.lower()}'\n",
    "        answer_string = f\"{answer.lower()} {explanation_sep} {abstr_expl.lower()}\"\n",
    "        answer_string = answer_string.lower()\n",
    "    elif io_format == 't5_fewshot_infilling_without_choices_use_refined_expl':\n",
    "        input_string = f\"explain {datasource} question: {question} choice: \" + \" choice: \".join(item[\"choices\"]) + f\" <extra_id_0> {explanation_sep} <extra_id_1>\"\n",
    "        input_string = f\"explain {datasource} question: {question} answer: {answer}\" + f\" {explanation_sep} <extra_id_0>\"\n",
    "        answer_string = f\"<extra_id_0> {item['our_explanation']} <extra_id_1>\"\n",
    "\n",
    "    else:\n",
    "        raise ValueError(\"The IO format is not supported. Choose `standard` or `masked_cause_generate`.\")\n",
    "    \n",
    "    return input_string, answer_string\n",
    "\n",
    "\n",
    "def esnli_formatting(item, io_format, explanation_sep):\n",
    "\n",
    "    premise = item[\"premise\"]\n",
    "    hypothesis = item[\"hypothesis\"]\n",
    "    answer = unified_qa_esnli_label_mapping[item[\"label\"]] if 'unified' in io_format else wt5_esnli_label_mapping[item[\"label\"]]\n",
    "    abstr_expl = item[\"explanation_1\"].lower() \n",
    "    # Dev/test instances have more than one explanation annotated; merge them into one sequence separated by [SEP] \n",
    "    for k in [2,3]:\n",
    "        if f\"explanation_{k}\" in item and item[f'explanation_{k}']!='': \n",
    "            abstr_expl += f\" [SEP] {item[f'explanation_{k}'].lower()}\"\n",
    "\n",
    "    if io_format == 'standard':\n",
    "        input_string = f\"explain nli hypothesis: {hypothesis} premise: {premise}\"\n",
    "        answer_string = f\"{answer} {explanation_sep} {abstr_expl}\"\n",
    "    elif io_format == 't5_fewshot_infilling':\n",
    "        input_string = f\"explain nli hypothesis: {hypothesis} premise: {premise} <extra_id_0> {explanation_sep} <extra_id_1>\"\n",
    "        answer_string = f\"<extra_id_0> {answer} <extra_id_1> {abstr_expl} <extra_id_2>\"\n",
    "    elif io_format == 't5_fewshot_infilling_more_natural':\n",
    "        input_string = f\"explain nli hypothesis: {hypothesis} premise: {premise} This is <extra_id_0> {explanation_sep} <extra_id_1>\"\n",
    "        answer_string = f\"<extra_id_0> {answer} <extra_id_1> {abstr_expl} <extra_id_2>\"\n",
    "    elif io_format == \"squad\": \n",
    "        input_string = f\"explain nli question: Is this entailment? context: {hypothesis} {premise}\"  \n",
    "        answer_ynm = unified_qa_esnli_label_mapping[item[\"label\"]]\n",
    "        answer_string = f\"{answer_ynm} {explanation_sep} {abstr_expl}\" \n",
    "    elif io_format == \"squad_endswith_what\":\n",
    "        input_string = f\"explain nli question: What is this? context: {hypothesis} {premise}\"  \n",
    "        answer_string = f\"{answer} {explanation_sep} {abstr_expl}\"  \n",
    "    elif io_format == \"squad_nli_mix\": \n",
    "        input_string = f\"explain nli question: Is this entailment? context: hypothesis: {hypothesis} premise: {premise}\"  \n",
    "        answer_ynm = unified_qa_esnli_label_mapping[item[\"label\"]]\n",
    "        answer_string = f\"{answer_ynm} {explanation_sep} {abstr_expl}\"  \n",
    "    elif io_format == \"squad_nli_mix_endswith_what\":  \n",
    "        input_string = f\"explain nli question: What is this? context: hypothesis: {hypothesis} premise: {premise}\"  \n",
    "        answer_string = f\"{answer} {explanation_sep} {abstr_expl}\"   \n",
    "    elif io_format == 'unifiedqa_unifew':\n",
    "        hypothesis = hypothesis.lower().rstrip('.')\n",
    "        unified_qa_esnli_label_mapping_upper = {0: 'Yes', 1: 'Maybe', 2: 'No'}\n",
    "        answer = unified_qa_esnli_label_mapping_upper[item[\"label\"]]\n",
    "        input_string = f'explain {premise} Is {hypothesis}? \\\\n (A) Yes (B) Maybe (C) No'\n",
    "        answer_string = f\"{answer} {explanation_sep} {abstr_expl}\"  \n",
    "    elif io_format == 'unifiedqa_unifew_nli_mix':\n",
    "        premise = premise.lower().rstrip('.')\n",
    "        unified_qa_esnli_label_mapping_upper = {0: 'Yes', 1: 'Maybe', 2: 'No'}\n",
    "        input_string = f'explain hypothesis: {hypothesis} Is premise: {premise}? \\\\n (A) Yes (B) Maybe (C) No'\n",
    "        answer_string = f\"{answer} {explanation_sep} {abstr_expl}\"  \n",
    "    elif io_format == 'unifiedqa_ynm': \n",
    "        input_string = f'explain is this entailment? \\\\n {hypothesis.lower()} {premise.lower()}'  \n",
    "        answer = unified_qa_esnli_label_mapping[item[\"label\"]]\n",
    "        answer_string = f\"{answer} {explanation_sep} {abstr_expl.lower()}\"  \n",
    "    elif io_format == 'unifiedqa_snli_mix_ynm': \n",
    "        input_string = f'explain is this entailment? \\\\n hypothesis: {hypothesis.lower()} premise: {premise.lower()}' \n",
    "        answer = unified_qa_esnli_label_mapping[item[\"label\"]]\n",
    "        answer_string = f\"{answer} {explanation_sep} {abstr_expl.lower()}\"  \n",
    "    elif io_format == 'unifiedqa_snli_mix_ynm_with_choices': \n",
    "        input_string = f'explain is this entailment? \\\\n (A) yes (B) maybe (C) no \\\\n hypothesis: {hypothesis.lower()} premise: {premise.lower()}'  \n",
    "        answer = unified_qa_esnli_label_mapping[item[\"label\"]]\n",
    "        answer_string = f\"{answer} {explanation_sep} {abstr_expl.lower()}\"  \n",
    "    elif io_format == 'unifiedqa_what_v2': \n",
    "        input_string = f'explain what is this? \\\\n {hypothesis.lower()} {premise.lower()}'  \n",
    "        answer = wt5_esnli_label_mapping[item[\"label\"]]\n",
    "        answer_string = f\"{answer} {explanation_sep} {abstr_expl.lower()}\"  \n",
    "    elif io_format == 'unifiedqa_snli_mix_what_v2': \n",
    "        input_string = f'explain what is this? \\\\n hypothesis: {hypothesis.lower()} premise: {premise.lower()}'  \n",
    "        answer = wt5_esnli_label_mapping[item[\"label\"]]\n",
    "        answer_string = f\"{answer} {explanation_sep} {abstr_expl.lower()}\"  \n",
    "    elif io_format == 'unifiedqa_snli_mix_what_with_choices_v2': \n",
    "        input_string = f'explain what is this? \\\\n (A) entailment (B) neutral (C) contradiction \\\\n hypothesis: {hypothesis.lower()} premise: {premise.lower()}'  \n",
    "        answer = wt5_esnli_label_mapping[item[\"label\"]]\n",
    "        answer_string = f\"{answer} {explanation_sep} {abstr_expl.lower()}\"     \n",
    "    else:\n",
    "        raise ValueError(\"The IO format is not supported.\")\n",
    "\n",
    "    return input_string, answer_string\n",
    "\n",
    "\n",
    "def sbic_formatting(item, io_format, explanation_sep):\n",
    "    # We pre-processed the SBIC dataset such that we join multiple implied statements with the [SEP] token for dev/test instances \n",
    "    # Each annotation in the training split is a separate instance\n",
    "    post = item['post']\n",
    "    answer = unified_qa_sbic_label_mapping[item[\"offensiveYN\"]] if 'unified' in io_format else item[\"offensiveYN\"].replace(\"not offensive\", \"not_offensive\")\n",
    "    abstr_expl = item[\"targetStereotype\"]\n",
    "    \n",
    "\n",
    "    if io_format == 'cola':\n",
    "        input_string = f\"explain sbic sentence: {post}\"\n",
    "        answer_string = f\"{answer} {explanation_sep} {abstr_expl}\"  \n",
    "    elif io_format == 't5_fewshot_infilling':\n",
    "        input_string = f\"explain sbic sentence: {post} <extra_id_0> {explanation_sep} <extra_id_1>\"\n",
    "        answer_string = f\"<extra_id_0> {answer} <extra_id_1> {abstr_expl} <extra_id_2>\"\n",
    "    elif io_format == 't5_fewshot_infilling_bool':\n",
    "        answer_bool = 'True' if item[\"offensiveYN\"] == 'offensive' else 'False'\n",
    "        input_string = f\"explain sbic sentence: {post} It is <extra_id_0> that this is offensive {explanation_sep} <extra_id_1>\"\n",
    "        answer_string = f\"<extra_id_0> {answer} <extra_id_1> {abstr_expl} <extra_id_2>\"\n",
    "    elif io_format == 't5_fewshot_infilling_more_natural':\n",
    "        input_string = f\"explain sbic sentence: {post} This is <extra_id_0> {explanation_sep} <extra_id_1>\"\n",
    "        answer_string = f\"<extra_id_0> {answer} <extra_id_1> {abstr_expl} <extra_id_2>\"\n",
    "    elif io_format == 'squad_yn': \n",
    "        input_string = f\"explain sbic question: Is this offensive? context: {post}\" # explain sbic question: Is this offensive? context: It's only happened to you like two times.\n",
    "        answer_yn = unified_qa_sbic_label_mapping[item[\"offensiveYN\"]] \n",
    "        answer_string = f\"{answer_yn} {explanation_sep} {abstr_expl}\" #  No because this post does not imply anything offensive\n",
    "    elif io_format == 'squad_yn_with_tags': \n",
    "        input_string = f\"explain sbic question: Is this offensive? context: post: {post}\" # explain sbic question: Is this offensive? context: It's only happened to you like two times.\n",
    "        answer_yn = unified_qa_sbic_label_mapping[item[\"offensiveYN\"]] \n",
    "        answer_string = f\"{answer_yn} {explanation_sep} {abstr_expl}\" #  No because this post does not imply anything offensive\n",
    "    elif io_format == 'squad_what': \n",
    "        input_string = f\"explain sbic question: What is this? context: {post}\" # explain sbic question: This is what? context: It's only happened to you like two times.\n",
    "        answer = item[\"offensiveYN\"].replace(\"not offensive\", \"not_offensive\")        \n",
    "        answer_string = f\"{answer} {explanation_sep} {abstr_expl}\" # not_offensive because this post does not imply anything offensive    \n",
    "    elif io_format == 'squad_what_with_tags': \n",
    "        input_string = f\"explain sbic question: What is this? context: post: {post}\" # explain sbic question: This is what? context: It's only happened to you like two times.\n",
    "        answer = item[\"offensiveYN\"].replace(\"not offensive\", \"not_offensive\")        \n",
    "        answer_string = f\"{answer} {explanation_sep} {abstr_expl}\" # not_offensive because this post does not imply anything offensive    \n",
    "    elif io_format == 'unified_qa_yn':\n",
    "        input_string = f'explain is this offensive? \\\\n {post.lower()}'\n",
    "        answer_string = f\"{answer} {explanation_sep} {abstr_expl.lower()}\" \n",
    "    elif io_format == 'unified_qa_yn_with_tags':\n",
    "        input_string = f'explain is this offensive? \\\\n post: {post.lower()}'\n",
    "        answer_string = f\"{answer} {explanation_sep} {abstr_expl.lower()}\"  \n",
    "    elif io_format == 'unified_qa_yn_with_choices':\n",
    "        input_string = f'explain is this offensive? \\\\n (A) yes (B) no \\\\n {post.lower()}'\n",
    "        answer_string = f\"{answer} {explanation_sep} {abstr_expl.lower()}\"\n",
    "    elif io_format == 'unified_qa_yn_with_choices_and_tags':\n",
    "        input_string = f'explain is this offensive? \\\\n (A) yes (B) no \\\\n post: {post.lower()}'\n",
    "        answer_string = f\"{answer} {explanation_sep} {abstr_expl.lower()}\"  \n",
    "    elif io_format == 'unified_qa_what':\n",
    "        input_string = f'explain what is this? \\\\n {post.lower()}'\n",
    "        answer = item[\"offensiveYN\"].replace(\"not offensive\", \"not_offensive\")\n",
    "        answer_string = f\"{answer} {explanation_sep} {abstr_expl.lower()}\"  \n",
    "    elif io_format == 'unified_qa_what_with_tags':\n",
    "        input_string = f'explain what is this? \\\\n post: {post.lower()}'\n",
    "        answer = item[\"offensiveYN\"].replace(\"not offensive\", \"not_offensive\")\n",
    "        answer_string = f\"{answer} {explanation_sep} {abstr_expl.lower()}\"  \n",
    "    elif io_format == 'unified_qa_what_with_choices':\n",
    "        input_string = f'explain what is this? \\\\n (A) offensive (B) not_offensive \\\\n {post.lower()}'\n",
    "        answer = item[\"offensiveYN\"].replace(\"not offensive\", \"not_offensive\")\n",
    "        answer_string = f\"{answer} {explanation_sep} {abstr_expl.lower()}\"\n",
    "    elif io_format == 'unified_qa_what_with_choices_and_tags':\n",
    "        input_string = f'explain what is this? \\\\n (A) offensive (B) not_offensive \\\\n post: {post.lower()}'\n",
    "        answer = item[\"offensiveYN\"].replace(\"not offensive\", \"not_offensive\")\n",
    "        answer_string = f\"{answer} {explanation_sep} {abstr_expl.lower()}\"  \n",
    "    elif io_format == 'unifiedqa_unifew':\n",
    "        input_string = f\"Topic? \\\\n (A) offensive (B) not_offensive \\\\n {post}\"\n",
    "        answer = item[\"offensiveYN\"].replace(\"not offensive\", \"not_offensive\")\n",
    "        answer_string = f\"{answer} {explanation_sep} {abstr_expl}\"\n",
    "    else:\n",
    "        raise ValueError(\"The IO format is not supported. Choose `standard` or `masked_cause_generate`.\")\n",
    "\n",
    "    input_string = ' '.join(input_string.split())\n",
    "    answer_string = ' '.join(answer_string.split())\n",
    "    return input_string, answer_string\n",
    "\n",
    "def sensemaking_formatting(item, io_format, explanation_sep):\n",
    "    # TODO: explore whether removing periods makes difference? \n",
    "    sent0 = item['sent0']\n",
    "    sent1 = item['sent1']\n",
    "    nonsensical_sentence = str(int(item['label'])+1)\n",
    "    explanation = item['explanation'].lower()\n",
    "\n",
    "    if io_format == 'copa_with_question':\n",
    "        input_string = f\"explain sensemaking choice1: {sent0} choice2: {sent1} question: nonsensical\"\n",
    "        answer_string = f\"choice{nonsensical_sentence} {explanation_sep} {explanation}\"\n",
    "    elif io_format == 'copa_bool':  \n",
    "        answer_bool = str(bool(int(item['label']))) # True if choice2 is more nonsensical    \n",
    "        input_string = f\"explain sensemaking choice1: {sent0} choice2: {sent1} Less common is choice2\"\n",
    "        answer_string = f\"{answer_bool} {explanation_sep} {explanation}\"\n",
    "    elif io_format == 't5_fewshot_infilling':  \n",
    "        input_string = f\"explain sensemaking choice1: {sent0} choice2: {sent1} <extra_id_0> {explanation_sep} <extra_id_1>\"\n",
    "        answer_string = f\"<extra_id_0> choice{nonsensical_sentence} <extra_id_1> {explanation} <extra_id_2>\"\n",
    "    elif io_format == 't5_fewshot_infilling_bool':  \n",
    "        answer_bool = str(bool(int(item['label']))) # True if choice2 is more nonsensical    \n",
    "        input_string = f\"explain sensemaking choice1: {sent0} choice2: {sent1} It is <extra_id_0> that choice2 is less common {explanation_sep} <extra_id_1>\"\n",
    "        answer_string = f\"<extra_id_0> {answer_bool} <extra_id_1> {explanation} <extra_id_2>\"\n",
    "    elif io_format == \"squad_yn\": \n",
    "        input_string = f\"explain sensemaking question: Is choice2 more nonsensical? context: choice1: {sent0} choice2: {sent1}\" # explain sensemaking question: What is nonsensical, choice1 or choice2? context: choice1: All state flowers are the scarlet carnation. choice2: The New Jersey state flower is the scarlet carnation\n",
    "        answer = \"Yes\" if bool(int(item['label'])) else \"No\"\n",
    "        answer_string = f\"{answer} {explanation_sep} {explanation}\" #  choice1 because state flowers are unique to each state.  \n",
    "    elif io_format == \"squad_yn_no_tags\": \n",
    "        input_string = f\"explain sensemaking question: Is choice2 more nonsensical? context: {sent0} {sent1}\" # explain sensemaking question: What is nonsensical, choice1 or choice2? context: choice1: All state flowers are the scarlet carnation. choice2: The New Jersey state flower is the scarlet carnation\n",
    "        answer = \"Yes\" if bool(int(item['label'])) else \"No\"\n",
    "        answer_string = f\"{answer} {explanation_sep} {explanation}\" #  choice1 because state flowers are unique to each state.  \n",
    "    elif io_format == \"squad_what\": \n",
    "        input_string = f\"explain sensemaking question: What is more nonsensical? context: choice1: {sent0} choice2: {sent1}\" # explain sensemaking question: What is nonsensical, choice1 or choice2? context: choice1: All state flowers are the scarlet carnation. choice2: The New Jersey state flower is the scarlet carnation\n",
    "        answer_string = f\"choice{nonsensical_sentence} {explanation_sep} {explanation}\" #  choice1 because state flowers are unique to each state.  \n",
    "    elif io_format == \"squad_what_no_tags\": \n",
    "        input_string = f\"explain sensemaking question: What is more nonsensical? context: {sent0} {sent1}\" # explain sensemaking question: What is nonsensical, choice1 or choice2? context: choice1: All state flowers are the scarlet carnation. choice2: The New Jersey state flower is the scarlet carnation\n",
    "        answer_string = f\"choice{nonsensical_sentence} {explanation_sep} {explanation}\" #  choice1 because state flowers are unique to each state.  \n",
    "    elif io_format == \"record\": \n",
    "        input_string = f\"explain sensemaking query: What is more nonsensical? entities: choice1, choice2 passage: choice1: {sent0} choice2: {sent1}\" # explain sensemaking query: What is nonsensical? entities: choice1, choice2 passage: choice1: All state flowers are the scarlet carnation. choice2: The New Jersey state flower is the scarlet carnation.\n",
    "        answer_string = f\"choice{nonsensical_sentence} {explanation_sep} {explanation}\" # choice1 because state flowers are unique to each state.\n",
    "    elif io_format == 'unifiedqa_yn_with_choices':\n",
    "        answer = \"yes\" if bool(int(item['label'])) else \"no\"\n",
    "        input_string = f'explain is choice2 more nonsensical? \\\\n (A) yes (B) no \\\\n choice1: {sent0.lower()} choice2: {sent1.lower()}'\n",
    "        answer_string = f\"{answer} {explanation_sep} {explanation.lower()}\" \n",
    "    elif io_format == 'unifiedqa_yn':\n",
    "        answer = \"yes\" if bool(int(item['label'])) else \"no\"\n",
    "        input_string = f'explain is choice2 more nonsensical? \\\\n choice1: {sent0.lower()} choice2: {sent1.lower()}'\n",
    "        answer_string = f\"{answer} {explanation_sep} {explanation.lower()}\"  \n",
    "    elif io_format == 'unifiedqa_yn_no_tags':\n",
    "        answer = \"yes\" if bool(int(item['label'])) else \"no\"\n",
    "        input_string = f'explain is choice2 more nonsensical? \\\\n {sent0.lower()} {sent1.lower()}'\n",
    "        answer_string = f\"{answer} {explanation_sep} {explanation.lower()}\"  \n",
    "    elif io_format == 'unifiedqa_what_with_choices':\n",
    "        nonsensical_sentence = str(int(item['label'])+1)\n",
    "        input_string = f'explain what is more nonsensical? \\\\n (A) choice1 (B) choice2 \\\\n choice1: {sent0.lower()} choice2: {sent1.lower()}'\n",
    "        answer_string = f\"choice{nonsensical_sentence} {explanation_sep} {explanation.lower()}\"  # use \" BECAUSE \"\n",
    "    elif io_format == 'unifiedqa_what':\n",
    "        nonsensical_sentence = str(int(item['label'])+1)\n",
    "        input_string = f'explain what is more nonsensical? \\\\n choice1: {sent0.lower()} choice2: {sent1.lower()}'\n",
    "        answer_string = f\"choice{nonsensical_sentence} {explanation_sep} {explanation.lower()}\"  # use \" BECAUSE \"\n",
    "    elif io_format == 'unifiedqa_what_no_tags':\n",
    "        nonsensical_sentence = str(int(item['label'])+1)\n",
    "        input_string = f'explain what is more nonsensical? \\\\n {sent0.lower()} {sent1.lower()}'\n",
    "        answer_string = f\"choice{nonsensical_sentence} {explanation_sep} {explanation.lower()}\"  # use \" BECAUSE \"\n",
    "\n",
    "\n",
    "    input_string = ' '.join(input_string.split())\n",
    "    answer_string = ' '.join(answer_string.split())\n",
    "    return input_string, answer_string"
   ]
  },
  {
   "cell_type": "code",
   "execution_count": 4,
   "id": "dde6c7e1",
   "metadata": {},
   "outputs": [
    {
     "name": "stderr",
     "output_type": "stream",
     "text": [
      "PyTorch: setting up devices\n",
      "The default value for the training argument `--report_to` will change in v5 (from all installed integrations to none). In v5, you will need to use `--report_to all` to get the same behavior as now. You should start updating your code and make this info disappear :-).\n",
      "01/13/2023 01:40:08 - WARNING - __main__ -   Process rank: -1, device: cuda:0, n_gpu: 1, distributed training: False, 16-bits training: False\n",
      "01/13/2023 01:40:08 - INFO - __main__ -   Save path: ./cos_e_output_t5_large/011323_014008\n",
      "01/13/2023 01:40:08 - INFO - __main__ -   Git branch: dev\n",
      "01/13/2023 01:40:08 - INFO - __main__ -   Git hash: 1cbb5c3b4e53baf31cbafc20d9655c63f091f901\n"
     ]
    }
   ],
   "source": [
    "og_start_time = time.time()\n",
    "\n",
    "#parser = HfArgumentParser(\n",
    "#    (ModelArguments, DataTrainingArguments, TrainingArguments)\n",
    "#)\n",
    "parser = HfArgumentParser(\n",
    "    (ModelArguments, DataTrainingArguments, TrainingArguments)\n",
    ")\n",
    "\n",
    "model_args, data_args, training_args, unused_args = parser.parse_args_into_dataclasses(\n",
    "    [\"--model_type\", \"t5-3b\",\n",
    "     \"--tokenizer_name\", \"t5-3b\",\n",
    "     \"--task_name\", \"cos_e\", \n",
    "     \"--output_dir\", \"./cos_e_output_t5_large\", \n",
    "     \"--n_shots\", \"10\",\n",
    "     \"--do_train\", \"True\"], return_remaining_strings=True)\n",
    "if unused_args != []:\n",
    "    raise ValueError(f\"Received unused arguments: {unused_args}\")\n",
    "# make sure only one dataset split pick if manually specifying evaluation file\n",
    "\n",
    "if model_args.use_gpt3:\n",
    "    assert training_args.do_train\n",
    "    assert not training_args.do_eval\n",
    "    assert data_args.generations_filepath is None\n",
    "    if data_args.gpt3_max_eval_size is not None:\n",
    "        assert data_args.gpt3_max_eval_size <= data_args.fewshot_eval_size\n",
    "        assert data_args.gpt3_max_eval_size % 2 == 0\n",
    "        assert data_args.gpt3_max_eval_size % 3 == 0\n",
    "\n",
    "if data_args.generations_filepath is not None:\n",
    "    training_args.do_train = False\n",
    "    training_args.do_eval = False\n",
    "    if \"train\" in data_args.generations_filepath:\n",
    "        data_args.train_predict = True\n",
    "        data_args.test_predict = False\n",
    "        data_args.dev_predict = False\n",
    "    elif \"test\" in data_args.generations_filepath:\n",
    "        data_args.train_predict = False\n",
    "        data_args.test_predict = True\n",
    "        data_args.dev_predict = False\n",
    "    elif \"validation\" in data_args.generations_filepath:\n",
    "        data_args.train_predict = False\n",
    "        data_args.test_predict = False\n",
    "        data_args.dev_predict = True\n",
    "\n",
    "if not training_args.do_train and data_args.generations_filepath is None:\n",
    "    if not model_args.pretrained_model_file:\n",
    "        raise Exception(\n",
    "            \"if not training a model from scratch, must specify a trained model to load for evaluation\"\n",
    "        )\n",
    "\n",
    "if training_args.do_train:\n",
    "    # create a save directory and a logfile\n",
    "    training_args.output_dir = os.path.join(\n",
    "        training_args.output_dir, datetime.now().strftime(\"%m%d%y_%H%M%S\")\n",
    "    )\n",
    "    training_args.logging_dir = training_args.output_dir\n",
    "    assert not os.path.exists(training_args.output_dir)\n",
    "    os.makedirs(training_args.output_dir)\n",
    "\n",
    "    if (\n",
    "            os.path.exists(training_args.output_dir)\n",
    "            and os.listdir(training_args.output_dir)\n",
    "            and training_args.do_train\n",
    "            and not training_args.overwrite_output_dir\n",
    "    ):\n",
    "        raise ValueError(\n",
    "            f\"Output directory ({training_args.output_dir}) already exists and is not empty. Use --overwrite_output_dir to overcome.\"\n",
    "        )\n",
    "    handlers = [\n",
    "        logging.FileHandler(os.path.join(training_args.output_dir, \"logger.log\")),\n",
    "        logging.StreamHandler(),\n",
    "    ]\n",
    "else:\n",
    "    # don't overwrite existing logfile or create new directory\n",
    "    training_args.output_dir = model_args.pretrained_model_file\n",
    "    handlers = [logging.StreamHandler()]\n",
    "\n",
    "# Setup logging\n",
    "logging.basicConfig(\n",
    "    format=\"%(asctime)s - %(levelname)s - %(name)s -   %(message)s\",\n",
    "    datefmt=\"%m/%d/%Y %H:%M:%S\",\n",
    "    level=logging.INFO if training_args.local_rank in [-1, 0] else logging.WARN,\n",
    "    handlers=handlers,\n",
    ")\n",
    "logger.warning(\n",
    "    \"Process rank: %s, device: %s, n_gpu: %s, distributed training: %s, 16-bits training: %s\",\n",
    "    training_args.local_rank,\n",
    "    training_args.device,\n",
    "    training_args.n_gpu,\n",
    "    bool(training_args.local_rank != -1),\n",
    "    training_args.fp16,\n",
    ")\n",
    "logger.info(\"Save path: %s\" % training_args.output_dir)\n",
    "\n",
    "# get git hash and branch where deployed\n",
    "repo = git.Repo(search_parent_directories=True)\n",
    "git_hash = repo.head.object.hexsha\n",
    "git_branch = repo.active_branch.name\n",
    "logger.info(\"Git branch: %s\" % git_branch)\n",
    "logger.info(\"Git hash: %s\" % git_hash)\n",
    "\n",
    "model_class = \"t5\"\n",
    "assert data_args.task_name in {\"cos_e\", \"esnli\", \"sbic\", \"sensemaking\", \"ecqa\"}\n",
    "\n",
    "if training_args.do_train:\n",
    "    # write command and args to file\n",
    "    with open(\n",
    "            os.path.join(training_args.output_dir, \"commandline_args.txt\"), \"w\"\n",
    "    ) as f:\n",
    "        f.write(\"Git branch: \" + git_branch + \"\\n\")\n",
    "        f.write(\"Git hash: \" + git_hash + \"\\n\")\n",
    "        f.write(\"Command:\\n\")\n",
    "        f.write(\"\\n\".join(sys.argv[1:]))\n",
    "\n",
    "# Set seed\n",
    "set_seed(training_args.seed)\n",
    "set_other_seeds(training_args.seed)\n",
    "\n",
    "# Load pretrained model and tokenizer\n",
    "#\n",
    "# Distributed training:\n",
    "# The .from_pretrained methods guarantee that only one local process can concurrently\n",
    "# download model & vocab."
   ]
  },
  {
   "cell_type": "code",
   "execution_count": 5,
   "id": "684646b4",
   "metadata": {},
   "outputs": [
    {
     "data": {
      "text/plain": [
       "device(type='cuda', index=0)"
      ]
     },
     "execution_count": 5,
     "metadata": {},
     "output_type": "execute_result"
    }
   ],
   "source": [
    "training_args.set_device = \"cuda:0\"\n",
    "training_args.device"
   ]
  },
  {
   "cell_type": "code",
   "execution_count": 6,
   "id": "18a3172a",
   "metadata": {},
   "outputs": [
    {
     "name": "stderr",
     "output_type": "stream",
     "text": [
      "01/13/2023 01:40:08 - INFO - __main__ -   Loading pretrained tokenizer...\n",
      "loading file https://huggingface.co/t5-base/resolve/main/spiece.model from cache at /home/huangyongfeng/.cache/huggingface/transformers/684a47ca6257e4ca71f0037771464c5b323e945fbc58697d2fad8a7dd1a2f8ba.3b69006860e7b5d0a63ffdddc01ddcd6b7c318a6f4fd793596552c741734c62d\n",
      "loading file https://huggingface.co/t5-base/resolve/main/added_tokens.json from cache at None\n",
      "loading file https://huggingface.co/t5-base/resolve/main/special_tokens_map.json from cache at None\n",
      "loading file https://huggingface.co/t5-base/resolve/main/tokenizer_config.json from cache at None\n",
      "loading file https://huggingface.co/t5-base/resolve/main/tokenizer.json from cache at /home/huangyongfeng/.cache/huggingface/transformers/90de37880b5ff5ac7ab70ff0bd369f207e9b74133fa153c163d14c5bb0116207.8627f1bd5d270a9fd2e5a51c8bec3223896587cc3cfe13edeabb0992ab43c529\n",
      "loading configuration file https://huggingface.co/t5-base/resolve/main/config.json from cache at /home/huangyongfeng/.cache/huggingface/transformers/91e9fe874e06c44883b535d6c950b8b89d6eaa3298d8e7fb3b2c78039e9f8b7b.a085189636e38420df5e7bdf08ad1b86f1fe33c010079ca7f15437ff95f4fe2b\n",
      "Model config T5Config {\n",
      "  \"architectures\": [\n",
      "    \"T5ForConditionalGeneration\"\n",
      "  ],\n",
      "  \"d_ff\": 3072,\n",
      "  \"d_kv\": 64,\n",
      "  \"d_model\": 768,\n",
      "  \"decoder_start_token_id\": 0,\n",
      "  \"dropout_rate\": 0.1,\n",
      "  \"eos_token_id\": 1,\n",
      "  \"feed_forward_proj\": \"relu\",\n",
      "  \"gradient_checkpointing\": false,\n",
      "  \"initializer_factor\": 1.0,\n",
      "  \"is_encoder_decoder\": true,\n",
      "  \"layer_norm_epsilon\": 1e-06,\n",
      "  \"model_type\": \"t5\",\n",
      "  \"n_positions\": 512,\n",
      "  \"num_decoder_layers\": 12,\n",
      "  \"num_heads\": 12,\n",
      "  \"num_layers\": 12,\n",
      "  \"output_past\": true,\n",
      "  \"pad_token_id\": 0,\n",
      "  \"relative_attention_num_buckets\": 32,\n",
      "  \"task_specific_params\": {\n",
      "    \"summarization\": {\n",
      "      \"early_stopping\": true,\n",
      "      \"length_penalty\": 2.0,\n",
      "      \"max_length\": 200,\n",
      "      \"min_length\": 30,\n",
      "      \"no_repeat_ngram_size\": 3,\n",
      "      \"num_beams\": 4,\n",
      "      \"prefix\": \"summarize: \"\n",
      "    },\n",
      "    \"translation_en_to_de\": {\n",
      "      \"early_stopping\": true,\n",
      "      \"max_length\": 300,\n",
      "      \"num_beams\": 4,\n",
      "      \"prefix\": \"translate English to German: \"\n",
      "    },\n",
      "    \"translation_en_to_fr\": {\n",
      "      \"early_stopping\": true,\n",
      "      \"max_length\": 300,\n",
      "      \"num_beams\": 4,\n",
      "      \"prefix\": \"translate English to French: \"\n",
      "    },\n",
      "    \"translation_en_to_ro\": {\n",
      "      \"early_stopping\": true,\n",
      "      \"max_length\": 300,\n",
      "      \"num_beams\": 4,\n",
      "      \"prefix\": \"translate English to Romanian: \"\n",
      "    }\n",
      "  },\n",
      "  \"transformers_version\": \"4.9.2\",\n",
      "  \"use_cache\": true,\n",
      "  \"vocab_size\": 32128\n",
      "}\n",
      "\n",
      "loading configuration file https://huggingface.co/t5-base/resolve/main/config.json from cache at /home/huangyongfeng/.cache/huggingface/transformers/91e9fe874e06c44883b535d6c950b8b89d6eaa3298d8e7fb3b2c78039e9f8b7b.a085189636e38420df5e7bdf08ad1b86f1fe33c010079ca7f15437ff95f4fe2b\n",
      "Model config T5Config {\n",
      "  \"architectures\": [\n",
      "    \"T5ForConditionalGeneration\"\n",
      "  ],\n",
      "  \"d_ff\": 3072,\n",
      "  \"d_kv\": 64,\n",
      "  \"d_model\": 768,\n",
      "  \"decoder_start_token_id\": 0,\n",
      "  \"dropout_rate\": 0.1,\n",
      "  \"eos_token_id\": 1,\n",
      "  \"feed_forward_proj\": \"relu\",\n",
      "  \"gradient_checkpointing\": false,\n",
      "  \"initializer_factor\": 1.0,\n",
      "  \"is_encoder_decoder\": true,\n",
      "  \"layer_norm_epsilon\": 1e-06,\n",
      "  \"model_type\": \"t5\",\n",
      "  \"n_positions\": 512,\n",
      "  \"num_decoder_layers\": 12,\n",
      "  \"num_heads\": 12,\n",
      "  \"num_layers\": 12,\n",
      "  \"output_past\": true,\n",
      "  \"pad_token_id\": 0,\n",
      "  \"relative_attention_num_buckets\": 32,\n",
      "  \"task_specific_params\": {\n",
      "    \"summarization\": {\n",
      "      \"early_stopping\": true,\n",
      "      \"length_penalty\": 2.0,\n",
      "      \"max_length\": 200,\n",
      "      \"min_length\": 30,\n",
      "      \"no_repeat_ngram_size\": 3,\n",
      "      \"num_beams\": 4,\n",
      "      \"prefix\": \"summarize: \"\n",
      "    },\n",
      "    \"translation_en_to_de\": {\n",
      "      \"early_stopping\": true,\n",
      "      \"max_length\": 300,\n",
      "      \"num_beams\": 4,\n",
      "      \"prefix\": \"translate English to German: \"\n",
      "    },\n",
      "    \"translation_en_to_fr\": {\n",
      "      \"early_stopping\": true,\n",
      "      \"max_length\": 300,\n",
      "      \"num_beams\": 4,\n",
      "      \"prefix\": \"translate English to French: \"\n",
      "    },\n",
      "    \"translation_en_to_ro\": {\n",
      "      \"early_stopping\": true,\n",
      "      \"max_length\": 300,\n",
      "      \"num_beams\": 4,\n",
      "      \"prefix\": \"translate English to Romanian: \"\n",
      "    }\n",
      "  },\n",
      "  \"transformers_version\": \"4.9.2\",\n",
      "  \"use_cache\": true,\n",
      "  \"vocab_size\": 32128\n",
      "}\n",
      "\n",
      "loading weights file https://huggingface.co/t5-base/resolve/main/pytorch_model.bin from cache at /home/huangyongfeng/.cache/huggingface/transformers/ab4e948915b067f5cb6e5105f6f85044fd717b133f43240db67899a8fc7b29a2.26934c75adf19ceac3c268b721ba353356b7609c45f5627550326f275a2163b4\n",
      "All model checkpoint weights were used when initializing T5ForConditionalGeneration.\n",
      "\n",
      "All the weights of T5ForConditionalGeneration were initialized from the model checkpoint at t5-base.\n",
      "If your task is similar to the task the model of the checkpoint was trained on, you can already use T5ForConditionalGeneration for predictions without further training.\n"
     ]
    }
   ],
   "source": [
    "import logging\n",
    "logger = logging.getLogger(__name__)\n",
    "CONFIG_MAPPING = {\"t5\": T5Config}\n",
    "MODEL_MAPPING = {\"t5\": T5ForConditionalGeneration}\n",
    "TOKENIZER_MAPPING = {\"t5\": T5Tokenizer}\n",
    "model_class = \"t5\"\n",
    "tokenizer_name = TOKENIZER_MAPPING[model_class]\n",
    "logger.info(\"Loading pretrained tokenizer...\")\n",
    "model_args.tokenizer_name='t5-base'\n",
    "tokenizer = tokenizer_name.from_pretrained(model_args.tokenizer_name)#, cache_dir=model_args.cache_dir)\n",
    "\n",
    "model = T5ForConditionalGeneration.from_pretrained(\"t5-base\")"
   ]
  },
  {
   "cell_type": "code",
   "execution_count": 7,
   "id": "62eef1a8",
   "metadata": {},
   "outputs": [
    {
     "data": {
      "text/plain": [
       "DataTrainingArguments(task_name='cos_e', early_stopping_patience=10, overwrite_cache=False, train_predict=False, test_predict=False, dev_predict=False, version_name='v1.11', generations_filepath=None, n_shots=10, fewshot_eval_size=350, io_format='t5_fewshot_infilling_without_choices_use_refined_expl', explanation_sep='explanation', data_path=None, gpt3_max_eval_size=None)"
      ]
     },
     "execution_count": 7,
     "metadata": {},
     "output_type": "execute_result"
    }
   ],
   "source": [
    "data_splits = {'train': None, 'validation': None, 'test': None}\n",
    "original_data_splits = {'train': None, 'validation': None, 'test': None}  \n",
    "data_args.io_format=\"t5_fewshot_infilling_without_choices_use_refined_expl\"\n",
    "data_args"
   ]
  },
  {
   "cell_type": "code",
   "execution_count": 8,
   "id": "efc49c0c",
   "metadata": {},
   "outputs": [
    {
     "data": {
      "application/json": {
       "ascii": false,
       "bar_format": null,
       "colour": null,
       "elapsed": 0.016734600067138672,
       "initial": 0,
       "n": 0,
       "ncols": null,
       "nrows": 60,
       "postfix": null,
       "prefix": "",
       "rate": null,
       "total": 2,
       "unit": "it",
       "unit_divisor": 1000,
       "unit_scale": false
      },
      "application/vnd.jupyter.widget-view+json": {
       "model_id": "25e90ab5af89490aa8d19aeca835cf22",
       "version_major": 2,
       "version_minor": 0
      },
      "text/plain": [
       "  0%|          | 0/2 [00:00<?, ?it/s]"
      ]
     },
     "metadata": {},
     "output_type": "display_data"
    },
    {
     "data": {
      "text/plain": [
       "dict_keys(['answer', 'choices', 'id', 'extractive_explanation', 'question', 'abstractive_explanation'])"
      ]
     },
     "execution_count": 8,
     "metadata": {},
     "output_type": "execute_result"
    }
   ],
   "source": [
    "dataset = datasets.load_dataset(data_args.task_name, data_args.version_name)\n",
    "train_ids_list=[x['id'] for x in dataset[\"train\"]]\n",
    "dataset['train'][0].keys()"
   ]
  },
  {
   "cell_type": "code",
   "execution_count": 9,
   "id": "294780bc",
   "metadata": {},
   "outputs": [
    {
     "data": {
      "application/json": {
       "ascii": false,
       "bar_format": null,
       "colour": null,
       "elapsed": 0.013181686401367188,
       "initial": 0,
       "n": 0,
       "ncols": null,
       "nrows": 60,
       "postfix": null,
       "prefix": "",
       "rate": null,
       "total": 1,
       "unit": "it",
       "unit_divisor": 1000,
       "unit_scale": false
      },
      "application/vnd.jupyter.widget-view+json": {
       "model_id": "4cd8886d7f2e4deea5053ce21a5b4063",
       "version_major": 2,
       "version_minor": 0
      },
      "text/plain": [
       "  0%|          | 0/1 [00:00<?, ?it/s]"
      ]
     },
     "metadata": {},
     "output_type": "display_data"
    },
    {
     "name": "stdout",
     "output_type": "stream",
     "text": [
      "[6723, 3269, 12, 6020, 7815, 0, 13, 7, 3556, 4587, 3166, 2607, 1999, 332, 8571, 2, 3520, 6, 1425, 2361, 3764, 7728, 8352, 1273, 5191, 496, 11, 8143, 6929, 4552, 4652, 7764, 6736, 401, 147, 8339, 3128, 5556, 8769, 4417, 8778, 7145, 1279, 6297, 7149, 5884, 10, 5747, 6273, 8, 9504, 8057, 1307, 2183, 1699, 88, 3228, 7178, 2140, 4048, 1041, 1, 3, 5868, 111, 7889, 5370, 8886, 2137, 6980, 9117, 1891, 7827, 1484, 14, 3668, 7090, 5, 7817, 6213, 4656, 5074, 7514, 5896, 4, 9, 7991, 58, 1887, 1598, 3994, 2212, 2274, 6830, 8826, 1604, 9008, 2013, 6521, 4793, 4338, 3923, 8091, 4904, 3938, 3900, 8156, 5806, 8363, 1787, 1496, 5753, 6351, 1104, 1222]\n"
     ]
    },
    {
     "data": {
      "text/plain": [
       "115"
      ]
     },
     "execution_count": 9,
     "metadata": {},
     "output_type": "execute_result"
    }
   ],
   "source": [
    "#rationale generation labeled data construction 115\n",
    "import pandas as pd\n",
    "scr_csqa_labeled_path=\"/cognitive_comp/huangyongfeng/evaluate_LM_with_rationalization/few_shot_explanations/data/handwritten_cose_v1.11_examples.csv\"\n",
    "scr_csqa_label_df=pd.read_csv(scr_csqa_labeled_path)\n",
    "scr_csqa_label_data=datasets.load_dataset('csv', data_files=scr_csqa_labeled_path)\n",
    "scr_csqa_label_ids_list=[x['id'] for x in scr_csqa_label_data['train']]\n",
    "scr_csqa_indexs_list=[train_ids_list.index(id_) for id_ in scr_csqa_label_ids_list]\n",
    "scr_csqa_label_our_explanations_list=[x['our_explanation'] for x in scr_csqa_label_data['train']]\n",
    "print(scr_csqa_indexs_list)\n",
    "data_splits={}\n",
    "data_splits['train']=dataset['train'].select(scr_csqa_indexs_list)\n",
    "\n",
    "refine_train_data=[]\n",
    "for kk, (ex,da) in enumerate(zip(scr_csqa_label_our_explanations_list, data_splits['train'])):\n",
    "#     print(da)\n",
    "    data_splits['train'][kk]['our_explanation']=ex\n",
    "    #print(type(data_splits['train'][kk]),data_splits['train'][kk].keys())\n",
    "    da['our_explanation']=ex\n",
    "    refine_train_data.append(da)\n",
    "\n",
    "len(data_splits['train'])"
   ]
  },
  {
   "cell_type": "code",
   "execution_count": 10,
   "id": "1d97f507",
   "metadata": {},
   "outputs": [
    {
     "data": {
      "application/json": {
       "ascii": false,
       "bar_format": null,
       "colour": null,
       "elapsed": 0.01274728775024414,
       "initial": 0,
       "n": 0,
       "ncols": null,
       "nrows": 60,
       "postfix": null,
       "prefix": "",
       "rate": null,
       "total": 1,
       "unit": "it",
       "unit_divisor": 1000,
       "unit_scale": false
      },
      "application/vnd.jupyter.widget-view+json": {
       "model_id": "aa6d5e8554bf4be88514451acf8d3dde",
       "version_major": 2,
       "version_minor": 0
      },
      "text/plain": [
       "  0%|          | 0/1 [00:00<?, ?it/s]"
      ]
     },
     "metadata": {},
     "output_type": "display_data"
    },
    {
     "data": {
      "text/plain": [
       "{'id': '5b8a3081c3235d62bc77e2d15f3ad454',\n",
       " 'question': 'A town between two mountains is located in a what?',\n",
       " 'choices': ['valley', 'hospital', 'state', 'train station', 'michigan'],\n",
       " 'answer': 'valley',\n",
       " 'abstractive_explanation': 'valleys are always between two mountains',\n",
       " 'extractive_explanation': 'A town between two mountains',\n",
       " 'our_explanation': 'A town in between mountains presumably would be in a valley, in which case it is plausable that it would be surrounded by heights in every direction.'}"
      ]
     },
     "execution_count": 10,
     "metadata": {},
     "output_type": "execute_result"
    }
   ],
   "source": [
    "#rationale unlabeled data construction 991\n",
    "import pdb\n",
    "scr_csqa_unlabeled_test_file=\"/cognitive_comp/huangyongfeng/evaluate_LM_with_rationalization/few_shot_explanations/data/acceptability_annotations/commonsenseqa_test.csv\"\n",
    "fse_csqa_dev_dataset = datasets.load_dataset('csv', data_files=scr_csqa_unlabeled_test_file)\n",
    "scr_csqa_unlabeled_test_df=pd.read_csv(scr_csqa_unlabeled_test_file)\n",
    "fse_csqa_dev_data_dict={}\n",
    "for kk, da in enumerate(fse_csqa_dev_dataset['train']):\n",
    "    #pdb.set_trace()\n",
    "    id_=da['Input.id']\n",
    "    if da['Answer.acceptable']:\n",
    "        answer_accept=set(da['Answer.acceptable'].split('|'))\n",
    "    else:\n",
    "        answer_accept=set()\n",
    "    explanation_list=[da['Input.explanation_1'], \n",
    "                      da['Input.explanation_2'],\n",
    "                      da['Input.explanation_3'],\n",
    "                      da['Input.explanation_4'],\n",
    "                      da['Input.explanation_5']]\n",
    "    if id_ not in fse_csqa_dev_data_dict.keys():\n",
    "        fse_csqa_dev_data_dict[id_]={\"index\":kk,\"id\":id_,\n",
    "                                     \"question\":da[\"Input.question\"],\n",
    "                                     'answer':da['Input.gold_label'],\n",
    "                                     \"accept_set_list\":[answer_accept],\n",
    "                                     \"explanation_list\":explanation_list}\n",
    "        #[[kk, id_, answer_accept, explanation_list]]\n",
    "    else:\n",
    "        fse_csqa_dev_data_dict[id_][\"accept_set_list\"].append(answer_accept)\n",
    "    if len(fse_csqa_dev_data_dict[id_][\"accept_set_list\"])==3:\n",
    "        fse_csqa_dev_data_dict[id_][\"common_expl_list\"]=[]\n",
    "        common_accept_expl_sample=set.intersection(fse_csqa_dev_data_dict[id_][\"accept_set_list\"][0], \n",
    "                                                   fse_csqa_dev_data_dict[id_][\"accept_set_list\"][1], \n",
    "                                                   fse_csqa_dev_data_dict[id_][\"accept_set_list\"][2])\n",
    "        for idx in list(common_accept_expl_sample):\n",
    "            idx=int(idx)-1\n",
    "            fse_csqa_dev_data_dict[id_][\"common_expl_list\"].append(fse_csqa_dev_data_dict[id_][\"explanation_list\"][idx])\n",
    "        \n",
    "#discriminate 3/3 id\n",
    "id_accept_expl_list=[]\n",
    "our_accept_expl_list=[]\n",
    "id_unaccept_expl_list=[]\n",
    "for k,v in fse_csqa_dev_data_dict.items():\n",
    "    accept_set_list=v['accept_set_list']\n",
    "    assert len(accept_set_list)==3\n",
    "    #pdb.set_trace()\n",
    "    common_accept_expl_sample=set.intersection(accept_set_list[0], accept_set_list[1], accept_set_list[2])\n",
    "    #print(accept_set_list,common_accept_expl_sample)\n",
    "    #pdb.set_trace()\n",
    "    if common_accept_expl_sample:\n",
    "        id_accept_expl_list.append(k)\n",
    "        our_expl=\"\"\n",
    "        for idx in list(common_accept_expl_sample):\n",
    "            idx=int(idx)-1\n",
    "            if len(v['explanation_list'][idx]) > len(our_expl):\n",
    "                our_expl = v['explanation_list'][idx]\n",
    "                our_accept_expl_list.append(our_expl)\n",
    "    else:\n",
    "        id_unaccept_expl_list.append(k)\n",
    "\n",
    "dev_ids_list=[x['id'] for x in dataset['validation']]\n",
    "dev_accept_indexs_list=[dev_ids_list.index(id_) for id_ in id_accept_expl_list]\n",
    "dev_unaccpet_indexs_list=[dev_ids_list.index(id_) for id_ in id_unaccept_expl_list]\n",
    "dev_accept_data=dataset['validation'].select(dev_accept_indexs_list)\n",
    "dev_unaccept_data=dataset['validation'].select(dev_unaccpet_indexs_list)\n",
    "\n",
    "\n",
    "\n",
    "new_dev_accept_data=[]\n",
    "new_dev_unaccept_data=[]\n",
    "for oexp, da in zip(our_accept_expl_list,dev_accept_data):\n",
    "    da[\"our_explanation\"]=oexp\n",
    "    new_dev_accept_data.append(da)\n",
    "for da in dev_unaccept_data:\n",
    "    da[\"our_explanation\"]=oexp\n",
    "    new_dev_unaccept_data.append(da)\n",
    "        \n",
    "new_dev_accept_data[0]\n",
    "        "
   ]
  },
  {
   "cell_type": "code",
   "execution_count": 11,
   "id": "ffe13707",
   "metadata": {},
   "outputs": [
    {
     "data": {
      "text/plain": [
       "{'index': 0,\n",
       " 'id': '5b8a3081c3235d62bc77e2d15f3ad454',\n",
       " 'question': 'A town between two mountains is located in a what?',\n",
       " 'answer': 'valley',\n",
       " 'accept_set_list': [{'2', '4', '5'}, {'2', '4', '5'}, {'2', '4', '5'}],\n",
       " 'explanation_list': ['Because all of the mountains are to the left of this town, if one was looking on a map, one would be able to see the town in the valley.',\n",
       "  'A valley is usually between two mountains, where it is located in the place where the mountains are closest to each other.',\n",
       "  'Because rivers end in valleys; assuming the river is the one of interest, this sentence is likely referring to the geographical location of the town.',\n",
       "  'A town in between mountains presumably would be in a valley, in which case it is plausable that it would be surrounded by heights in every direction.',\n",
       "  'A valley is a low area between two mountains.'],\n",
       " 'common_expl_list': ['A town in between mountains presumably would be in a valley, in which case it is plausable that it would be surrounded by heights in every direction.',\n",
       "  'A valley is a low area between two mountains.',\n",
       "  'A valley is usually between two mountains, where it is located in the place where the mountains are closest to each other.']}"
      ]
     },
     "execution_count": 11,
     "metadata": {},
     "output_type": "execute_result"
    }
   ],
   "source": [
    "fse_csqa_dev_data_dict['5b8a3081c3235d62bc77e2d15f3ad454']\n"
   ]
  },
  {
   "cell_type": "code",
   "execution_count": 12,
   "id": "3161874f",
   "metadata": {},
   "outputs": [],
   "source": [
    "# for k,v in fse_csqa_dev_data_dict.items():\n",
    "#     #print(v.keys())\n",
    "#     print(\"******\")\n",
    "#     print(v['question'])\n",
    "#     print(v['answer'])\n",
    "#     print(v['common_expl_list'])\n",
    "#     print(\"******\")    \n",
    "# for k,v in fse_csqa_train_data_dict.items():\n",
    "#     #print(v.keys())\n",
    "#     print(\"******\")\n",
    "#     print(v['question'])\n",
    "#     print(v['answer'])\n",
    "#     print(v['common_expl_list'])\n",
    "#     print(\"******\") \n"
   ]
  },
  {
   "cell_type": "code",
   "execution_count": 13,
   "id": "3e0e8a2d",
   "metadata": {},
   "outputs": [
    {
     "data": {
      "application/json": {
       "ascii": false,
       "bar_format": null,
       "colour": null,
       "elapsed": 0.016213417053222656,
       "initial": 0,
       "n": 0,
       "ncols": null,
       "nrows": 60,
       "postfix": null,
       "prefix": "",
       "rate": null,
       "total": 1,
       "unit": "it",
       "unit_divisor": 1000,
       "unit_scale": false
      },
      "application/vnd.jupyter.widget-view+json": {
       "model_id": "58a88fb51ef340e7a96d086e15a009d4",
       "version_major": 2,
       "version_minor": 0
      },
      "text/plain": [
       "  0%|          | 0/1 [00:00<?, ?it/s]"
      ]
     },
     "metadata": {},
     "output_type": "display_data"
    },
    {
     "data": {
      "text/plain": [
       "{'id': 'ed53cbea1f21072fab892031b31192d1',\n",
       " 'question': 'Where can you likely buy many poems?',\n",
       " 'choices': ['book of poetry',\n",
       "  'literature book',\n",
       "  'book store',\n",
       "  'poetry book',\n",
       "  'bookshelf'],\n",
       " 'answer': 'book store',\n",
       " 'abstractive_explanation': 'book store book',\n",
       " 'extractive_explanation': 'buy many poems',\n",
       " 'our_explanation': 'A book store is a place where you can buy books, including poetry books.'}"
      ]
     },
     "execution_count": 13,
     "metadata": {},
     "output_type": "execute_result"
    }
   ],
   "source": [
    "#rationale unlabeled data construction 991\n",
    "import pdb\n",
    "scr_csqa_unlabeled_train_file=\"/cognitive_comp/huangyongfeng/evaluate_LM_with_rationalization/few_shot_explanations/data/acceptability_annotations/commonsenseqa_train.csv\"\n",
    "fse_csqa_train_dataset = datasets.load_dataset('csv', data_files=scr_csqa_unlabeled_train_file)\n",
    "scr_csqa_unlabeled_train_df=pd.read_csv(scr_csqa_unlabeled_train_file)\n",
    "fse_csqa_train_data_dict={}\n",
    "for kk, da in enumerate(fse_csqa_train_dataset['train']):\n",
    "    #pdb.set_trace()\n",
    "    id_=da['Input.id']\n",
    "    if da['Answer.acceptable']:\n",
    "        answer_accept=set(da['Answer.acceptable'].split('|'))\n",
    "    else:\n",
    "        answer_accept=set()\n",
    "    explanation_list=[da['Input.explanation_1'], \n",
    "                      da['Input.explanation_2'],\n",
    "                      da['Input.explanation_3'],\n",
    "                      da['Input.explanation_4'],\n",
    "                      da['Input.explanation_5']]\n",
    "    if id_ not in fse_csqa_train_data_dict.keys():\n",
    "        fse_csqa_train_data_dict[id_]={\"index\":kk,\"id\":id_,\n",
    "                                     \"question\":da[\"Input.question\"],\n",
    "                                     'answer':da['Input.gold_label'],\n",
    "                                     \"accept_set_list\":[answer_accept],\n",
    "                                     \"explanation_list\":explanation_list}\n",
    "        #[[kk, id_, answer_accept, explanation_list]]\n",
    "    else:\n",
    "        fse_csqa_train_data_dict[id_][\"accept_set_list\"].append(answer_accept)\n",
    "        \n",
    "    if len(fse_csqa_train_data_dict[id_][\"accept_set_list\"])==3:\n",
    "        fse_csqa_train_data_dict[id_][\"common_expl_list\"]=[]\n",
    "        common_accept_expl_sample=set.intersection(fse_csqa_train_data_dict[id_][\"accept_set_list\"][0], \n",
    "                                                   fse_csqa_train_data_dict[id_][\"accept_set_list\"][1], \n",
    "                                                   fse_csqa_train_data_dict[id_][\"accept_set_list\"][2])\n",
    "        for idx in list(common_accept_expl_sample):\n",
    "            idx=int(idx)-1\n",
    "            fse_csqa_train_data_dict[id_][\"common_expl_list\"].append(fse_csqa_train_data_dict[id_][\"explanation_list\"][idx])\n",
    "\n",
    "    \n",
    "#discriminate 3/3 id\n",
    "id_accept_expl_list=[]\n",
    "our_accept_expl_list=[]\n",
    "id_unaccept_expl_list=[]\n",
    "for k,v in fse_csqa_train_data_dict.items():\n",
    "    accept_set_list=v['accept_set_list']\n",
    "    assert len(accept_set_list)==3\n",
    "    #pdb.set_trace()\n",
    "    common_accept_expl_sample=set.intersection(accept_set_list[0], accept_set_list[1], accept_set_list[2])\n",
    "    #print(accept_set_list,common_accept_expl_sample)\n",
    "    #pdb.set_trace()\n",
    "    if common_accept_expl_sample:\n",
    "        id_accept_expl_list.append(k)\n",
    "        our_expl=\"\"\n",
    "        for idx in list(common_accept_expl_sample):\n",
    "            idx=int(idx)-1\n",
    "            if len(v['explanation_list'][idx]) > len(our_expl):\n",
    "                our_expl = v['explanation_list'][idx]\n",
    "                our_accept_expl_list.append(our_expl)\n",
    "    else:\n",
    "        id_unaccept_expl_list.append(k)\n",
    "\n",
    "train_ids_list=[x['id'] for x in dataset['train']]\n",
    "train_accept_indexs_list=[train_ids_list.index(id_) for id_ in id_accept_expl_list]\n",
    "train_unaccpet_indexs_list=[train_ids_list.index(id_) for id_ in id_unaccept_expl_list]\n",
    "train_accept_data=dataset['train'].select(train_accept_indexs_list)\n",
    "train_unaccept_data=dataset['train'].select(train_unaccpet_indexs_list)\n",
    "\n",
    "\n",
    "\n",
    "new_train_accept_data=[]\n",
    "new_train_unaccept_data=[]\n",
    "for oexp, da in zip(our_accept_expl_list,train_accept_data):\n",
    "    da[\"our_explanation\"]=oexp\n",
    "    new_train_accept_data.append(da)\n",
    "for da in train_unaccept_data:\n",
    "    da[\"our_explanation\"]=oexp\n",
    "    new_train_unaccept_data.append(da)\n",
    "        \n",
    "new_train_accept_data[0]"
   ]
  },
  {
   "cell_type": "code",
   "execution_count": 14,
   "id": "595b9453",
   "metadata": {},
   "outputs": [
    {
     "data": {
      "text/plain": [
       "(set(), set())"
      ]
     },
     "execution_count": 14,
     "metadata": {},
     "output_type": "execute_result"
    }
   ],
   "source": [
    "refine_train_data=refine_train_data\n",
    "refine_dev_data=new_train_accept_data + new_dev_accept_data\n",
    "refine_test_data=new_train_unaccept_data + new_dev_unaccept_data\n",
    "\n",
    "refine_train_ids_list=[x['id'] for x in refine_train_data]\n",
    "refine_dev_ids_list=[x['id'] for x in refine_dev_data]\n",
    "refine_test_ids_list=[x['id'] for x in refine_test_data]\n",
    "\n",
    "set(refine_train_ids_list).intersection(set(refine_dev_ids_list)),set(refine_train_ids_list).intersection(set(refine_test_ids_list))\n",
    "\n"
   ]
  },
  {
   "cell_type": "code",
   "execution_count": 15,
   "id": "48e4ec26",
   "metadata": {},
   "outputs": [
    {
     "data": {
      "text/plain": [
       "dict_keys(['id', 'question', 'choices', 'answer', 'abstractive_explanation', 'extractive_explanation', 'our_explanation'])"
      ]
     },
     "execution_count": 15,
     "metadata": {},
     "output_type": "execute_result"
    }
   ],
   "source": [
    "our_data_splits={}\n",
    "our_data_splits['train']=refine_train_data\n",
    "our_data_splits['dev']=refine_dev_data\n",
    "our_data_splits['test']=refine_test_data\n",
    "refine_train_data[0].keys()"
   ]
  },
  {
   "cell_type": "markdown",
   "id": "0fcdf34f",
   "metadata": {},
   "source": [
    "# shots number"
   ]
  },
  {
   "cell_type": "code",
   "execution_count": 16,
   "id": "bd43fe66",
   "metadata": {},
   "outputs": [],
   "source": [
    "id_list = [\n",
    " '71519c19654251cced50c5718fd527c1',\n",
    " '44195d210c81c8c550174d0edbd3ad5d',\n",
    " '5a5da37b685ec9c6f15228128ce30437',\n",
    " 'cabdfc174953b4bdb8bdcc89d6592c74',\n",
    " 'eac3a4080127e8924034651b57dfa289',\n",
    " 'c0013f31657294b9b5ad819123513ca7',\n",
    " '2681697be70cd5425899ed6deb84b18a',\n",
    " '47f60340b869552e795fa6782224f3d2',\n",
    " '7e8a6eac93147eb52d8151bab7b40003',\n",
    " 'f34267f498c8a78383e35057fbcfa2ce',\n",
    " 'f024f923d78e5c0a4c0c4baa3ddccf05',\n",
    " 'e148c710d0c26849cf1f15293481038b',\n",
    " 'bdf437d7498815f36c255f64a8e6571c',\n",
    " '2282e0c80be28aadadb79a822fec9dac',\n",
    " 'bdd05e96876342b4b5999709439a7f4e',\n",
    " '494b8316614fc64c5c27757aeaffce23_1',\n",
    " 'c4494b402264250dc70931613d482295',\n",
    " 'fcfbf207c5586294fdce33b645b613f1',\n",
    " '9c583bcbe68989a644433302545fb31e',\n",
    " '0e684d779d98e6eecda167c10af42bbb',\n",
    " 'ac0462d09b9fddd40c3c77aedf48a870',\n",
    " '1dbfb41e04a10bdbb085bfe667c0df99',\n",
    " 'cd0c0ef3b8ce0eb09ff26823f6059be6',\n",
    " 'e6b67184b99375d05d3f2887f684c684',\n",
    " 'ae9f6f1e17b3fdd3a86b494933809f45',\n",
    " 'f149604169936a30b7e4c8d599d604b5',\n",
    " 'd7c8377953e0175ef57d59f3a8e63a8e',\n",
    " '1837216ac7745121b82a6491b2318c09',\n",
    " 'b5fe238d45e55ca5d802b7823ad390ef',\n",
    " 'b2fbeb0b48bd5e575af0f7dc24cdd85d',\n",
    " '9bdfb101c487ac598f6e4686cf774703',\n",
    " '206c7116ee2246180fcc0c5a1d0e7205',\n",
    " '5cd7f44bbf730dfae5ef2a362d2e5149',\n",
    " '45d0ea781ffd49b07d6eae94d47a8945',\n",
    " '89afdea1d76272fda8e1538a7d3b7a3f',\n",
    " '38a514fe54108527e1d6e89d9812da93',\n",
    " 'ebf347934a3e90ea46d3d87726fb5d25',\n",
    " '90226a6ecd7308ae1e6220a15ae24bc6',\n",
    " '5cae8057e75e3adf5c338a43b3ba97fb',\n",
    " '388a363c49e1b0aca8eaf18ccdde0caf',\n",
    " '9ed3af82152dfcd7000bf4631b095f71',\n",
    " '2d5805d894bba224c5fe91e70b8c0f77',\n",
    " 'd5aa464a16b72c9b9f3091abd461e3ef',\n",
    " '381b11c54be4cc432a95053ca34cbf6b',\n",
    " '807a3a2dabdd50ed0c76052fd2612632',\n",
    " '5172041c750d22e9a5081cc024de0fa6',\n",
    " 'd32a45ab3b751110d0578a78e54c0e64',\n",
    " '28ca5cbe27774746c34f6ebe84fc6d0c']\n",
    "\n",
    "chatGPT_rationales = [\n",
    "    \"A cup is a common vessel used for holding and drinking liquids, such as water, coffee, or tea. When you want to get yourself a drink, you might typically get a cup from a cabinet or other storage area in order to hold the drink. A cup is a convenient and practical choice for getting a drink because it is easy to hold and use, and it can hold a reasonable amount of liquid. There are many different types of cups available, including ceramic, glass, plastic, and metal cups, each with their own unique features and benefits. Whether you are at home, at work, or out in public, a cup is a handy item to have on hand when you need to quench your thirst.\",\n",
    "    \"A front yard is the lawn that is typically located in front of a house, near the street. The front yard is the part of the property that is visible from the street and is often used for decorative purposes, such as landscaping or gardening. Many people take pride in their front yards and may spend time and resources maintaining and improving them. The front yard is often the first thing that visitors see when they arrive at a house, and it can make a strong impression on them. In contrast, the back yard is typically located behind the house and is often used for more practical purposes, such as outdoor recreation or gardening.\",\n",
    "    \"A swimming pool is a recreational water feature that is typically used for swimming and other aquatic activities. While shallow water, such as that found in a kiddie pool or a shallow end of a pool, can be enjoyable for some people, it may not be sufficient for many summer activities. A swimming pool that is deep enough for diving and other activities is more likely to provide more opportunities for summer fun. In addition, a swimming pool that is clean and chlorinated is more likely to be safe and enjoyable for swimming, as it will be free of contaminants and bacteria that can cause illness.\",\n",
    "    \"In most places, it is illegal for people under the age of 21 to purchase or consume alcohol. This is because alcohol can have negative effects on the developing brain and body of young people. It can also contribute to risky behaviors and accidents. Therefore, many governments have set a minimum age for alcohol consumption and purchase to help protect the health and safety of young people. If someone is under the age of 21 and attempts to purchase alcohol, they may be denied the sale or face legal consequences. It is important for young people to understand and adhere to the laws and regulations regarding the purchase and consumption of alcohol in their area.\",\n",
    "    \"When someone shaves, they typically use a razor to remove hair from their face or body. The process of shaving can leave a lot of hair in the sink, as the hair is trimmed off and falls into the sink as it is being shaved. It is common for people to shave in the bathroom, where a sink is typically located. The sink provides a convenient place to rinse the razor and wash off any excess hair or shaving cream. It is important to clean the sink after shaving to remove any hair and prevent clogs in the drain.\",\n",
    "    \"A hamburger is a type of sandwich that consists of a cooked patty of ground meat, typically beef, placed between two slices of bread or a bun. Hamburgers are often served with various toppings, such as lettuce, tomato, onion, cheese, and condiments like ketchup and mustard. However, if someone is suffering from great hunger, they may not care about the toppings and just want to eat the hamburger itself. In this case, the person may be more focused on satisfying their hunger and getting nourishment rather than worrying about additional ingredients or flavors.\",\n",
    "    \"If a person notices popcorn and cotton candy on the grass, they are likely at fairgrounds. Fairgrounds are outdoor areas that are used for hosting fairs and other events, such as carnivals, festivals, and exhibitions. These events often feature food stalls and vendors that sell a variety of treats, including popcorn and cotton candy. Popcorn and cotton candy are both popular carnival foods that are often sold at fairs and other events. The presence of these foods on the ground at fairgrounds suggests that a fair or similar event is taking place there.\",\n",
    "    \"When snow on a mountain becomes heavy, it can trigger an avalanche. An avalanche is a rapid flow of snow down a slope, often triggered by the weight of the snow or external factors such as a change in temperature. Avalanches can be dangerous and destructive, as they can bury and sweep away anything in their path, including people, buildings, and vehicles. Avalanches can occur on any slope with a steep enough incline and a sufficient amount of snow. They are most common on mountains, but they can also occur in other snowy areas, such as forests or valleys. It is important for people to be aware of the risk of avalanches and to take precautions when traveling in areas prone to avalanches.\",\n",
    "    \"A police officer typically reports their work through the use of case reports or incident reports. These reports are written documents that detail the events of a specific case or incident that the officer has worked on. Case reports or incident reports typically include information such as the date and time of the incident, the location, the people involved, and the actions taken by the officer. They may also include witness statements, evidence collected, and any other relevant details. Case reports or incident reports are used by police officers to document their work and provide a record of the incidents they have dealt with. They are also used by supervisors and other authorities to review and evaluate the performance of the officer and the effectiveness of their actions.\",\n",
    "    \"Teachers play many roles in the lives of their students, including mentor, counselor, and role model. However, they get the most out of their job by simply teaching children. Teaching children is the primary responsibility of a teacher, and it is what they are trained and paid to do. Teaching involves imparting knowledge, skills, and values to students, and helping them to develop the skills and habits they need to succeed in life. Teachers have the opportunity to make a positive impact on the lives of their students by providing them with a strong foundation in academic subjects and helping them to become curious, engaged learners. Teachers often derive a great deal of satisfaction from helping their students to achieve their potential and succeed in their studies.\",\n",
    "    \"A person might go to get counseling for a variety of reasons. One reason is to better understand themselves. Counseling can provide a safe and supportive environment for individuals to explore their thoughts, feelings, and behaviors, and to gain insight into why they act and feel the way they do. Counseling can also help a person to identify and work through any underlying issues or challenges that may be causing them distress or hindering their personal growth. Through counseling, a person can learn more about themselves and how to navigate their emotions and relationships more effectively. Counseling can be particularly helpful for individuals who are struggling with mental health issues, relationship problems, or other personal challenges.\",\n",
    "    \"If the kids wanted to cool off, they might go swimming as a way to refresh and beat the heat. Swimming is a fun and enjoyable activity that can provide relief from hot weather and help to cool the body. Swimming can also provide a great workout and has numerous health benefits, such as improving cardiovascular fitness and flexibility. There are many different places where kids can go swimming, such as pools, lakes, rivers, or the ocean. No matter where they go, kids can have fun and cool off while enjoying the water.\",\n",
    "    \"When remembering a tragedy in the past, many people may feel depressed. Depression is a common emotional reaction to experiencing a traumatic or stressful event, such as a tragedy. Depression is a mental health disorder characterized by persistent feelings of sadness, hopelessness, and low energy. It can also cause physical symptoms such as changes in appetite and sleep patterns, fatigue, and difficulty concentrating. Remembering a tragedy can be emotionally difficult and may trigger feelings of sadness, grief, and guilt. It is important for people who are struggling with depression to seek support and treatment to help manage their symptoms and improve their mental health.\",\n",
    "    \"Death Valley is a national park located in the Mojave Desert, in the state of California, United States. It is situated on the North American continent. The North American continent is one of the seven continents of the world and is located in the western hemisphere. It is the third largest continent in terms of land area, after Asia and Africa, and is home to a diverse range of cultures, languages, and environments. Death Valley is known for its extreme desert climate and is the lowest, hottest, and driest place in North America. It is a popular destination for tourists, who come to see its unique geological features, such as sand dunes, salt flats, and canyons.\",\n",
    "    \"When in a serious relationship, understanding better requires effort. Relationships require effort and work to maintain and grow. In order to understand your partner better, you need to be willing to put in the time and effort to communicate with them, listen to their perspectives, and try to see things from their point of view. This may involve asking questions, expressing your own feelings and needs, and being open to feedback and compromise. Understanding your partner better can help to strengthen the bond between you and improve the quality of your relationship. It is important to remember that relationships are dynamic and evolving, and that ongoing communication and effort are necessary to maintain a healthy and fulfilling relationship.\",\n",
    "    \"Cats are able to make a variety of vocalizations, including meows, purrs, and growls, as a way of communicating with humans and other animals. Cats use these vocalizations to convey a range of emotions and needs, such as hunger, happiness, or discomfort. Meowing is a common vocalization that cats use to communicate with humans. Cats may meow when they want attention, food, or to be let outside. Cats may also meow when they are feeling anxious or stressed. Although cats cannot talk in the same way that humans do, they are skilled at using their voices to communicate with their owners and other animals.\",\n",
    "    \"If you need a vessel that is similar to a battleship but faster, you might consider using a corvette. A corvette is a small, fast warship that is typically used for convoy escort, patrol, and other shallow water duties. Corvettes are generally smaller and less heavily armed than battleships, but they are more agile and have a higher speed. They are typically equipped with a variety of weapons, including guns, missiles, and torpedoes, and are used for defending against enemy ships and aircraft. Corvettes are often used for coastal defense, as well as for patrolling and enforcing maritime laws. They are capable of operating in a variety of environments, including open ocean and littoral (nearshore) waters.\",\n",
    "    \"Water in the sky comes from rain clouds. Rain clouds are clouds that form when moist air rises and cools, forming tiny water droplets that condense around particles in the air. As the droplets grow, they eventually become heavy enough to fall from the cloud as rain. Rain clouds are typically gray or white in color and are often accompanied by other types of clouds, such as cumulus or stratocumulus clouds. Rain clouds can form in a variety of ways, such as when warm, moist air from the ground rises and cools, or when moist air from the ocean is carried inland by the wind. Rain clouds can be found in many parts of the world and are a common source of precipitation, especially during the warmer months.\",\n",
    "    \"If John rented a hotel room while on a business trip and it was a company-sponsored event, it is possible that the hotel was a resort. Resorts are hotels or vacation properties that offer a variety of amenities and activities for guests, such as swimming pools, golf courses, spas, and restaurants. They are often located in scenic or recreational areas and are designed to provide a relaxing and enjoyable experience for guests. Many resorts offer conference and meeting facilities and are popular destinations for business events and retreats. If John's company sponsored the business trip and provided the hotel accommodations, it is likely that they chose a resort with the amenities and facilities needed to support the event.\",\n",
    "    \"An expressway might leave the United States and go to Canada. The United States and Canada are neighboring countries that share a border, and there are several expressways that cross the border between the two countries. Expressways are high-speed, limited-access roads that are designed for fast and efficient travel. They typically have multiple lanes and may include features such as grade separations, interchanges, and controlled access points. Expressways are used for long-distance travel and are often the main routes connecting major cities and regions. If an expressway leaves the United States, it is likely that it is heading towards Canada, which is located to the north of the United States.\",\n",
    "    \"If you were walking on a sidewalk near a small corner shop run by John, you would look for it on the street corner. A corner shop is a small retail store that is typically located at the intersection of two streets. It is often a convenience store or a neighborhood shop that sells a variety of goods, such as groceries, household items, and other supplies. Corner shops are often located in busy urban areas, where they are easily accessible to pedestrians and motorists. If you were walking on a sidewalk near a corner shop, you would look for it at the intersection of the street where you are walking and another street. The shop is likely to be located in a building on the corner, with windows and doors facing the street.\",\n",
    "    \"One way that a company can efficiently sell things to their customers is through mail order. Mail order is a method of selling goods or services by advertising them in a catalog or other publication and allowing customers to place orders by mail, telephone, or online. Mail order is a convenient and efficient way for companies to reach a wide customer base, as it allows them to sell products to customers who may not be located near their physical store or who may not have the time or inclination to shop in person. Mail order companies typically have a centralized warehouse or distribution center where orders are processed and shipped to customers. They may also offer options such as easy returns and exchanges, as well as customer service support to assist with any questions or issues that customers may have.\",\n",
    "    \"If he enjoyed the factory work and liked the idea that he did it for sale, it is likely that he enjoyed producing goods. Factory work typically involves the production of goods, such as products or materials, using machines, tools, and other equipment. Factory workers are responsible for operating and maintaining the equipment and ensuring that the goods being produced meet quality standards. The goods produced in a factory may be sold directly to consumers or to other businesses, and may be used for a variety of purposes, such as manufacturing, construction, or distribution. If a person enjoys factory work, they may find satisfaction in the idea that they are contributing to the production of goods that will be sold and used by others.\",\n",
    "    \"If returning to work was easy for Dan after his treatment and he was completely painless, it is likely that he had undergone some form of medical treatment or therapy to address a health issue or injury. Painless indicates that Dan was no longer experiencing pain or discomfort, which may have been a result of the treatment or therapy he received. It is not clear from the information provided what specific health issue or injury Dan was dealing with, or what treatment or therapy he received. However, it is possible that Dan was able to return to work more easily after his treatment because he was feeling better and was no longer experiencing any pain or discomfort.\",\n",
    "    \"If index cards were on display at the museum, it is likely that the museum was a library. Libraries are institutions that provide access to a wide range of resources, including books, periodicals, and other printed materials, as well as digital resources such as e-books, databases, and online research tools. Libraries often have exhibits and displays of various types of materials, including rare or unique items, and may have special collections or archives that are of particular interest to researchers or historians. Index cards are small, rectangular pieces of paper that are used for organizing information, such as names, dates, or research notes. They may be used in a variety of settings, including libraries, offices, and schools. If index cards were on display at the museum, it is possible that they were part of a historical exhibit or collection related to the history of libraries or research.\",\n",
    "    \"If she was a human in America who wanted to live well, it is likely that the given for her situation was the need for money. In general, money is an important factor in enabling people to live well and meet their basic needs and desires. Money allows people to purchase the goods and services that they need to sustain themselves and their families, such as food, clothing, housing, and healthcare. It also enables people to pursue their interests and hobbies, travel, and engage in various forms of leisure and entertainment. In America, and in many other countries around the world, the cost of living can be high, and people often need to earn and save money in order to achieve a desired standard of living. As such, the need for money is a given for many people in order to live well.\",\n",
    "    \"A place that could have one back garden is a house. A garden is a piece of land that is used for growing plants, flowers, vegetables, or other types of vegetation. Gardens can be found in a variety of settings, including residential properties, public parks, and commercial properties. A house is a building that is used as a dwelling for one or more people, and it typically includes living spaces, such as bedrooms, bathrooms, and a kitchen, as well as outdoor areas, such as a front yard, side yard, and back yard. A back yard is a private outdoor space that is typically located behind a house and is often used for recreational or leisure activities, such as gardening, grilling, or playing games. If a house has a back garden, it is likely that the garden is located in the back yard.\",\n",
    "    \"People gather at a football stadium to see large men in pads play a game where they run and smash into each other. Football is a popular sport that is played on a rectangular field by two teams of eleven players. The game involves running, passing, and tackling, and players wear pads and other protective gear to reduce the risk of injury. Football is a physical and intense sport, and players often collide with each other at high speeds. Football stadiums are large, open-air facilities that are designed to host football games and other sporting events. They typically have a grass or artificial turf field, seating for spectators, and a variety of amenities, such as concessions stands, restrooms, and VIP areas. Football stadiums are popular places for people to gather and watch football games, and they can be found in cities and towns throughout the world.\",\n",
    "    \"One place where someone can get a flute is a musical instrument store. A musical instrument store is a retail establishment that specializes in selling musical instruments and related accessories. They may carry a wide range of instruments, including brass instruments, woodwind instruments, string instruments, percussion instruments, and keyboards. Flutes are woodwind instruments that are played by blowing air into a narrow opening and producing sound by vibrating the lips against a metal or wooden reed. They are popular instruments that are used in a variety of musical styles, including classical, jazz, and folk music. If someone is looking to purchase a flute, they may be able to find a selection of flutes at a musical instrument store. In addition to flutes, musical instrument stores may also offer a variety of other instruments, as well as sheet music, instructional materials, and accessories such as cases, stands, and cleaning supplies.\",\n",
    "    \"It is not clear what someone who has a greed for energy would do. The word greed typically refers to an excessive or insatiable desire for wealth, power, or material possessions. It is not clear how this concept would relate to energy or how it might influence someone's actions. It is possible that someone who has a lot of energy or who is very active might have a high appetite for food and might seek out sources of fuel or nutrition to sustain their energy levels. In this case, they might buy food as a way to obtain the energy they need. However, it is not accurate to say that someone who has a greed for energy would necessarily do this. It is important to note that the concept of greed is generally considered to be negative, as it suggests an unhealthy or unsustainable desire for something.\",\n",
    "    \"A forklift is a type of industrial vehicle that is used for moving and lifting heavy loads, such as pallets, crates, and boxes. Forklifts are equipped with a hydraulic lift mechanism and a set of prongs or forks that can be used to lift and transport loads. They are commonly used in warehouses and other distribution centers to move and stack materials, such as boxes, onto shelves or other storage areas. If you were using a forklift to stack boxes onto shelves, it is likely that you were in a warehouse or a similar facility. Warehouses are large, commercial buildings that are used for storing and distributing goods. They often have high ceilings, wide aisles, and multiple levels, and they may be equipped with a variety of material handling equipment, such as forklifts, conveyor belts, and cranes, to facilitate the movement and storage of goods.\",\n",
    "    \"You are likely to receive mouthwash in a little paper cup at a dentist's office. Dentist's offices are healthcare facilities that are staffed by dentists and other dental professionals, and they are used for the diagnosis and treatment of dental problems and the maintenance of oral health. One common practice at a dentist's office is to rinse the mouth with mouthwash, which is a liquid that is used to freshen breath, kill bacteria, and reduce the risk of gum disease and other oral health issues. Mouthwash is typically used after brushing and flossing to help remove any remaining food particles or plaque from the mouth. It may be dispensed in a little paper cup, which can be used to rinse the mouth and then disposed of after use.\",\n",
    "    \"A doctor's office can help you with an illness. A doctor's office is a healthcare facility that is staffed by medical doctors and other healthcare professionals, and it is used for the diagnosis and treatment of medical conditions and the maintenance of overall health. If you are experiencing an illness, such as a cold, flu, or more serious health issue, you may visit a doctor's office to seek medical care and treatment. At a doctor's office, you may receive a physical examination, diagnostic tests, and other forms of medical treatment, depending on the nature of your illness and your specific needs. Doctors are trained to diagnose and treat a wide range of medical conditions, and they can provide you with the care and support you need to recover from your illness and get back to good health.\",\n",
    "    \"A bug looking for wildflowers and no human interruption might go to a meadow. A meadow is a grassland area that is characterized by its open, grassy landscape and the presence of wildflowers and other types of vegetation. Meadows can be found in a variety of settings, including rural areas, forests, and parkland, and they are often home to a variety of animal and plant species. Because meadows are relatively undisturbed by human activity, they can be a good place for a bug to find wildflowers and other types of plants without interference from humans. Meadows are often considered to be peaceful, serene places, and they may be attractive to a bug that is seeking a quiet, natural environment in which to explore and forage.\",\n",
    "    \"If a bride and groom are taking care of proposals, the likely ceremony is a marriage. A marriage is a formal union between two people that is recognized by law and typically involves a public ceremony and the exchange of vows. A marriage proposal is a request for someone to marry another person, and it is typically made by one partner to the other. The process of planning a marriage often involves taking care of a variety of details and arrangements, such as choosing a venue, selecting a date, inviting guests, and organizing the ceremony and reception. If a bride and groom are taking care of proposals, it is likely that they are in the process of planning their marriage and preparing for the wedding ceremony.\",\n",
    "    \"You could put some olives in a jar to prevent them from getting nearby food wet. A jar is a container that is typically made of glass or ceramic and has a wide mouth and a secure, tight-fitting lid. Jars are often used for storing food items, such as olives, pickles, jams, and other types of preserved or dried goods. Because they have a sealed lid, jars can help to keep food fresh and prevent it from coming into contact with air or other substances that might spoil or contaminate it. If you want to prevent olives from getting nearby food wet, you could put them in a jar and close the lid to create an airtight seal. This would help to keep the olives separate from other foods and prevent them from coming into contact with moisture or other liquids.\",\n",
    "    \"If the graveyard was zoned by the pastor, it is likely that it was located on church property. Church property refers to land or buildings that are owned by a church or religious organization. This may include the main church building, as well as other structures such as a rectory, school, or community center. Church property may also include a graveyard or cemetery, which is a place where people are buried after they die. Pastors, who are ordained leaders in a church, often play a central role in the management and oversight of church property, and they may be responsible for zoning or designating areas within the property for specific purposes, such as a graveyard or a garden. If the pastor has zoned the graveyard, it is likely that it is located on church property and is being used as a place for burial by members of the church or community.\",\n",
    "    \"If a family wanted to live with carpeting, they may have ended up putting it in their houses. Houses are structures that are designed and built to be used as homes, and they typically have a number of rooms that are used for different purposes, such as sleeping, cooking, eating, and relaxing. Carpeting is a type of floor covering that is made of soft, flexible materials, such as wool, nylon, or polypropylene, and it is often used in houses to provide warmth, comfort, and insulation. If a family wanted to live with carpeting, they may have chosen to install carpeting in some or all of the rooms in their houses, in order to create a warm and cozy atmosphere and to improve the overall comfort and livability of their homes.\",\n",
    "    \"If a boss likes an employee's ambition, the employee may be put in charge of a project. A project is a specific task or set of tasks that is undertaken in order to achieve a specific goal or objective. Projects may be large or small, complex or simple, and they may involve a wide range of activities, such as research, design, development, testing, and implementation. If an employee is ambitious and demonstrates a strong desire to succeed and make a positive contribution to their organization, their boss may choose to put them in charge of a project, in order to give them the opportunity to demonstrate their skills and abilities and to take on more responsibility. Being put in charge of a project can be a challenging and rewarding experience, and it may provide an employee with the chance to learn new things, develop their skills, and make a meaningful contribution to their organization.\",\n",
    "    \"A county highway can be viewed as a line on a map. A map is a graphic representation of an area or region that shows the locations of various features, such as roads, rivers, mountains, and cities. Maps are often used to help people navigate and find their way around unfamiliar places, and they can be very useful for understanding the layout and geography of an area. County highways are roads that are maintained and operated by a county or local government, and they are typically used for local travel and transportation within a county or region. On a map, a county highway may be represented as a line, with a specific color or symbol used to indicate its location and route. By viewing a county highway as a line on a map, it is possible to get a sense of the route and layout of the road, and to use the map to plan a journey or navigate to a specific destination.\",\n",
    "    \"After going for a run, someone may feel tired. Running is a form of physical activity that involves moving quickly and continuously on foot, typically by running or jogging. It is a popular form of exercise that can help to improve cardiovascular fitness, build endurance, and strengthen the muscles of the legs and lower body. However, running can also be physically demanding, and it requires a certain level of fitness and stamina to be able to sustain the activity for an extended period of time. As a result, it is common for people to feel tired after going for a run, especially if they are not used to the activity or if they have pushed themselves to run for a longer distance or at a faster pace than usual. Tiredness after a run may be accompanied by other physical sensations, such as muscle fatigue, thirst, or a sense of accomplishment.\",\n",
    "    \"If a car was going from Florida to Ohio, it was heading north. Florida is a state in the southeastern region of the United States, and Ohio is a state in the midwestern region of the country. When traveling from Florida to Ohio, a person would need to go north in order to reach their destination. North is a direction that is opposite to south on a map or compass, and it is typically associated with higher latitude, colder climates, and longer nights. When traveling north, a person may encounter different landscapes, weather patterns, and cultural experiences than they would when traveling south, depending on the specific route and the distance traveled. By heading north from Florida to Ohio, a person would be leaving behind the warm, tropical climate of Florida and entering into a more temperate, mid-latitude region with cooler temperatures and a more diverse range of landscapes and ecosystems.\",\n",
    "    \"During a typical week, a teacher is likely to spend most of their time working in school. A teacher is a person who is trained and qualified to teach students in a school or educational setting, and their primary job is to provide instruction and guidance to help students learn and develop their skills and knowledge. Teachers may work in a variety of settings, including primary schools, secondary schools, and universities, and they may teach a wide range of subjects, including math, science, English, history, and the arts. In order to fulfill their duties as a teacher, a person is likely to spend most of their time working in a school or educational setting, where they will be responsible for preparing and delivering lessons, grading assignments, communicating with students and parents, and performing other tasks related to their job. Teachers typically work on a schedule that follows the school year, and they may work full-time or part-time, depending on their specific circumstances and the needs of their students.\",\n",
    "    \"In a predicament, an animal might choose to fight for its life as an alternative to fleeing. Predicament is a term that refers to a difficult or challenging situation, typically one that involves a choice or decision that needs to be made. When an animal finds itself in a predicament, it may have to decide how to respond in order to survive and protect itself. One option that an animal may have is to flee or run away from the situation in an effort to escape danger or avoid conflict. Another option that an animal may have is to fight for its life, using whatever means are available to defend itself and protect its survival. The choice that an animal makes in a predicament will depend on a variety of factors, including the specific nature of the situation, the animal's size, strength, and abilities, and the resources and options that are available to it.\",\n",
    "    \"It is not common for people to fight each other when they find a good deal. A good deal is typically defined as an opportunity to purchase something at a price that is lower than what it is usually worth, or to obtain a product or service that provides more value or benefits than what is expected. When people find a good deal, they may feel excited or pleased about the opportunity to save money or get more for their money, and they may take action to take advantage of the deal. However, it is generally not considered acceptable or appropriate for people to fight each other over a good deal or to engage in physical violence or aggression in order to obtain it. There are many other ways that people can express their interest in a good deal, such as by negotiating with the seller, making an offer, or simply making a purchase if the price is acceptable.\",\n",
    "    \"An altar is a platform or structure that is used for religious ceremonies, rituals, or worship. Altars are often found in places of worship, such as temples, churches, synagogues, mosques, and other religious buildings. When a person is standing in front of an altar, they are likely to be in a temple or other place of worship. Altars can be used for a variety of purposes in different religions and spiritual traditions, such as offering sacrifices, making offerings, praying, or performing other religious practices. They may be decorated with symbols, images, or other items that are significant to the religion or spiritual tradition that is being practiced. Altars may also be used as a place for people to meditate, reflect, or seek spiritual guidance.\",\n",
    "    \"Joe bought a bunch of grapes because he likes to use them to top his desserts. A dessert is a type of food that is typically served at the end of a meal, and it is usually sweet or rich in flavor. There are many different types of desserts that people enjoy, including cakes, cookies, ice cream, pie, and other sweet treats. One way that people may use grapes as a topping for their desserts is by placing them on top of a fruit pie, tart, or crisp. Grapes can add flavor and texture to a dessert, and they may also be used to decorate a dessert or to add visual appeal. Grapes are a versatile fruit that can be used in many different types of desserts, and they can be eaten fresh, frozen, or preserved in various ways.\",\n",
    "    \"Well water is water that is obtained from underground sources, typically through the use of a well. A well is a hole or shaft that is dug into the ground in order to access water that is contained in underground aquifers or other water-bearing formations. Well water is typically used for drinking, irrigation, and other purposes, and it is often considered to be of high quality because it is filtered and purified naturally as it flows through the ground. To obtain well water, a person can dig a well or have one dug by a professional well driller. The depth of the well will depend on the location and the geology of the area, and a pump or other mechanical system may be used to bring the water to the surface.\",\n",
    "]"
   ]
  },
  {
   "cell_type": "code",
   "execution_count": 17,
   "id": "013e06f0",
   "metadata": {},
   "outputs": [
    {
     "name": "stdout",
     "output_type": "stream",
     "text": [
      "dict_keys(['stem', 'no_more_50_words', 'id', '150_to_200_words'])\n",
      "dict_keys(['stem', 'no_more_50_words', 'id', '150_to_200_words'])\n",
      "dict_keys(['stem', 'no_more_50_words', 'id', '150_to_200_words'])\n",
      "dict_keys(['stem', 'no_more_50_words', 'id', '150_to_200_words'])\n",
      "dict_keys(['stem', 'no_more_50_words', 'id', '150_to_200_words'])\n",
      "dict_keys(['stem', 'no_more_50_words', 'id', '150_to_200_words'])\n",
      "dict_keys(['stem', 'no_more_50_words', 'id', '150_to_200_words'])\n",
      "dict_keys(['stem', 'no_more_50_words', 'id', '150_to_200_words'])\n",
      "dict_keys(['stem', 'no_more_50_words', 'id', '150_to_200_words'])\n",
      "dict_keys(['stem', 'no_more_50_words', 'id', '150_to_200_words'])\n",
      "dict_keys(['stem', 'no_more_50_words', 'id', '150_to_200_words'])\n",
      "dict_keys(['stem', 'no_more_50_words', 'id', '150_to_200_words'])\n",
      "dict_keys(['stem', 'no_more_50_words', 'id', '150_to_200_words'])\n",
      "dict_keys(['stem', 'no_more_50_words', 'id', '150_to_200_words'])\n",
      "dict_keys(['stem', 'no_more_50_words', 'id', '150_to_200_words'])\n",
      "dict_keys(['stem', 'no_more_50_words', 'id', '150_to_200_words'])\n",
      "dict_keys(['stem', 'no_more_50_words', 'id', '150_to_200_words'])\n",
      "dict_keys(['stem', 'no_more_50_words', 'id', '150_to_200_words'])\n",
      "dict_keys(['stem', 'no_more_50_words', 'id', '150_to_200_words'])\n",
      "dict_keys(['stem', 'no_more_50_words', 'id', '150_to_200_words'])\n",
      "dict_keys(['stem', 'no_more_50_words', 'id', '150_to_200_words'])\n",
      "dict_keys(['stem', 'no_more_50_words', 'id', '150_to_200_words'])\n",
      "dict_keys(['stem', 'no_more_50_words', 'id', '150_to_200_words'])\n",
      "dict_keys(['stem', 'no_more_50_words', 'id', '150_to_200_words'])\n",
      "dict_keys(['stem', 'no_more_50_words', 'id', '150_to_200_words'])\n",
      "dict_keys(['stem', 'no_more_50_words', 'id', '150_to_200_words'])\n",
      "dict_keys(['stem', 'no_more_50_words', 'id', '150_to_200_words'])\n",
      "dict_keys(['stem', 'no_more_50_words', 'id', '150_to_200_words'])\n",
      "dict_keys(['stem', 'no_more_50_words', 'id', '150_to_200_words'])\n",
      "dict_keys(['stem', 'no_more_50_words', 'id', '150_to_200_words'])\n",
      "dict_keys(['stem', 'no_more_50_words', 'id', '150_to_200_words'])\n",
      "dict_keys(['stem', 'no_more_50_words', 'id', '150_to_200_words'])\n",
      "dict_keys(['stem', 'no_more_50_words', 'id', '150_to_200_words'])\n",
      "dict_keys(['stem', 'no_more_50_words', 'id', '150_to_200_words'])\n",
      "dict_keys(['stem', 'no_more_50_words', 'id', '150_to_200_words'])\n",
      "dict_keys(['stem', 'no_more_50_words', 'id', '150_to_200_words'])\n",
      "dict_keys(['stem', 'no_more_50_words', 'id', '150_to_200_words'])\n",
      "dict_keys(['stem', 'no_more_50_words', 'id', '150_to_200_words'])\n",
      "dict_keys(['stem', 'no_more_50_words', 'id', '150_to_200_words'])\n",
      "dict_keys(['stem', 'no_more_50_words', 'id', '150_to_200_words'])\n",
      "dict_keys(['stem', 'no_more_50_words', 'id', '150_to_200_words'])\n",
      "dict_keys(['stem', 'no_more_50_words', 'id', '150_to_200_words'])\n",
      "dict_keys(['stem', 'no_more_50_words', 'id', '150_to_200_words'])\n",
      "dict_keys(['stem', 'no_more_50_words', 'id', '150_to_200_words'])\n",
      "dict_keys(['stem', 'no_more_50_words', 'id', '150_to_200_words'])\n",
      "dict_keys(['stem', 'no_more_50_words', 'id', '150_to_200_words'])\n",
      "dict_keys(['stem', 'no_more_50_words', 'id', '150_to_200_words'])\n",
      "dict_keys(['stem', 'no_more_50_words', 'id', '150_to_200_words'])\n",
      "dict_keys(['stem', 'no_more_50_words', 'id', '150_to_200_words'])\n",
      "dict_keys(['stem', 'no_more_50_words', 'id', '150_to_200_words'])\n",
      "dict_keys(['stem', 'no_more_50_words', 'id', '150_to_200_words'])\n",
      "dict_keys(['stem', 'no_more_50_words', 'id', '150_to_200_words'])\n",
      "dict_keys(['stem', 'no_more_50_words', 'id', '150_to_200_words'])\n",
      "dict_keys(['stem', 'no_more_50_words', 'id', '150_to_200_words'])\n",
      "dict_keys(['stem', 'no_more_50_words', 'id', '150_to_200_words'])\n",
      "dict_keys(['stem', 'no_more_50_words', 'id', '150_to_200_words'])\n",
      "dict_keys(['stem', 'no_more_50_words', 'id', '150_to_200_words'])\n",
      "dict_keys(['stem', 'no_more_50_words', 'id', '150_to_200_words'])\n",
      "dict_keys(['stem', 'no_more_50_words', 'id', '150_to_200_words'])\n",
      "dict_keys(['stem', 'no_more_50_words', 'id', '150_to_200_words'])\n",
      "dict_keys(['stem', 'no_more_50_words', 'id', '150_to_200_words'])\n",
      "dict_keys(['stem', 'no_more_50_words', 'id', '150_to_200_words'])\n",
      "dict_keys(['stem', 'no_more_50_words', 'id', '150_to_200_words'])\n",
      "dict_keys(['stem', 'no_more_50_words', 'id', '150_to_200_words'])\n",
      "dict_keys(['stem', 'no_more_50_words', 'id', '150_to_200_words'])\n",
      "dict_keys(['stem', 'no_more_50_words', 'id', '150_to_200_words'])\n",
      "dict_keys(['stem', 'no_more_50_words', 'id', '150_to_200_words'])\n",
      "dict_keys(['stem', 'no_more_50_words', 'id', '150_to_200_words'])\n",
      "dict_keys(['stem', 'no_more_50_words', 'id', '150_to_200_words'])\n",
      "dict_keys(['stem', 'no_more_50_words', 'id', '150_to_200_words'])\n",
      "dict_keys(['stem', 'no_more_50_words', 'id', '150_to_200_words'])\n",
      "dict_keys(['stem', 'no_more_50_words', 'id', '150_to_200_words'])\n",
      "dict_keys(['stem', 'no_more_50_words', 'id', '150_to_200_words'])\n",
      "dict_keys(['stem', 'no_more_50_words', 'id', '150_to_200_words'])\n",
      "dict_keys(['stem', 'no_more_50_words', 'id', '150_to_200_words'])\n",
      "dict_keys(['stem', 'no_more_50_words', 'id', '150_to_200_words'])\n",
      "dict_keys(['stem', 'no_more_50_words', 'id', '150_to_200_words'])\n",
      "dict_keys(['stem', 'no_more_50_words', 'id', '150_to_200_words'])\n",
      "dict_keys(['stem', 'no_more_50_words', 'id', '150_to_200_words'])\n",
      "dict_keys(['stem', 'no_more_50_words', 'id', '150_to_200_words'])\n",
      "dict_keys(['stem', 'no_more_50_words', 'id', '150_to_200_words'])\n",
      "dict_keys(['stem', 'no_more_50_words', 'id', '150_to_200_words'])\n",
      "dict_keys(['stem', 'no_more_50_words', 'id', '150_to_200_words'])\n",
      "dict_keys(['stem', 'no_more_50_words', 'id', '150_to_200_words'])\n",
      "dict_keys(['stem', 'no_more_50_words', 'id', '150_to_200_words'])\n",
      "dict_keys(['stem', 'no_more_50_words', 'id', '150_to_200_words'])\n",
      "dict_keys(['stem', 'no_more_50_words', 'id', '150_to_200_words'])\n",
      "dict_keys(['stem', 'no_more_50_words', 'id', '150_to_200_words'])\n",
      "dict_keys(['stem', 'no_more_50_words', 'id', '150_to_200_words'])\n",
      "dict_keys(['stem', 'no_more_50_words', 'id', '150_to_200_words'])\n",
      "dict_keys(['stem', 'no_more_50_words', 'id', '150_to_200_words'])\n",
      "dict_keys(['stem', 'no_more_50_words', 'id', '150_to_200_words'])\n",
      "dict_keys(['stem', 'no_more_50_words', 'id', '150_to_200_words'])\n",
      "dict_keys(['stem', 'no_more_50_words', 'id', '150_to_200_words'])\n",
      "dict_keys(['stem', 'no_more_50_words', 'id', '150_to_200_words'])\n",
      "dict_keys(['stem', 'no_more_50_words', 'id', '150_to_200_words'])\n",
      "dict_keys(['stem', 'no_more_50_words', 'id', '150_to_200_words'])\n",
      "dict_keys(['stem', 'no_more_50_words', 'id', '150_to_200_words'])\n",
      "dict_keys(['stem', 'no_more_50_words', 'id', '150_to_200_words'])\n",
      "dict_keys(['stem', 'no_more_50_words', 'id', '150_to_200_words'])\n",
      "dict_keys(['stem', 'no_more_50_words', 'id', '150_to_200_words'])\n",
      "dict_keys(['stem', 'no_more_50_words', 'id', '150_to_200_words'])\n",
      "dict_keys(['stem', 'no_more_50_words', 'id', '150_to_200_words'])\n",
      "dict_keys(['stem', 'no_more_50_words', 'id', '150_to_200_words'])\n",
      "dict_keys(['stem', 'no_more_50_words', 'id', '150_to_200_words'])\n",
      "dict_keys(['stem', 'no_more_50_words', 'id', '150_to_200_words'])\n",
      "dict_keys(['stem', 'no_more_50_words', 'id', '150_to_200_words'])\n",
      "dict_keys(['stem', 'no_more_50_words', 'id', '150_to_200_words'])\n",
      "dict_keys(['stem', 'no_more_50_words', 'id', '150_to_200_words'])\n",
      "dict_keys(['stem', 'no_more_50_words', 'id', '150_to_200_words'])\n",
      "dict_keys(['stem', 'no_more_50_words', 'id', '150_to_200_words'])\n",
      "dict_keys(['stem', 'no_more_50_words', 'id', '150_to_200_words'])\n",
      "dict_keys(['stem', 'no_more_50_words', 'id', '150_to_200_words'])\n",
      "dict_keys(['stem', 'no_more_50_words', 'id', '150_to_200_words'])\n",
      "dict_keys(['stem', 'no_more_50_words', 'id', '150_to_200_words'])\n"
     ]
    }
   ],
   "source": [
    "import glob\n",
    "import json\n",
    "import pdb\n",
    "chatgpt_50_100_rationales_dir = \"./chatgpt_rationales/200_250_text003\"\n",
    "file_list = glob.glob(\"{}/*.json\".format(chatgpt_50_100_rationales_dir))\n",
    "chatgpt_rationales_dict = {}\n",
    "for file in file_list:\n",
    "    with open(file, 'r') as f:\n",
    "        da = json.load(f)\n",
    "        print(da.keys())\n",
    "        chatgpt_rationales_dict[da['id']] = da['150_to_200_words']\n",
    "        #pdb.set_trace()"
   ]
  },
  {
   "cell_type": "code",
   "execution_count": 18,
   "id": "d9681ea9",
   "metadata": {},
   "outputs": [],
   "source": [
    "def list2dict(refine_data):\n",
    "    refine_data_dict={}\n",
    "    for key in refine_data[0].keys():\n",
    "        refine_data_dict[key]=[x[key] for x in refine_data]\n",
    "    return refine_data_dict\n",
    "\n",
    "select_refine_train_data = []\n",
    "for da in refine_train_data:\n",
    "    #pdb.set_trace()\n",
    "    if da['id'] in chatgpt_rationales_dict.keys():\n",
    "        da['our_explanation'] = chatgpt_rationales_dict[da['id']]\n",
    "        select_refine_train_data.append(da) \n",
    "        \n",
    "select_refine_train_data_dict = list2dict(select_refine_train_data)\n",
    "our_data_splits['train'] = datasets.Dataset.from_dict(select_refine_train_data_dict).shuffle().select(range(48))\n",
    "\n",
    "refine_dev_data_dict = list2dict(refine_dev_data)\n",
    "our_data_splits['dev'] = datasets.Dataset.from_dict(refine_dev_data_dict)\n",
    "\n",
    "refine_test_data_dict = list2dict(refine_test_data)\n",
    "our_data_splits['test'] = datasets.Dataset.from_dict(refine_test_data_dict)\n",
    "\n"
   ]
  },
  {
   "cell_type": "code",
   "execution_count": 19,
   "id": "53ab0e1a",
   "metadata": {},
   "outputs": [],
   "source": [
    "import datasets\n",
    "class SequenceCollator:\n",
    "    def __init__(self, pad_token):\n",
    "        # self.pad_token_mapping = {\n",
    "        #     \"lm_labels\": -100,\n",
    "        #     \"attention_mask\": 0,\n",
    "        #     \"decoder_attention_mask\": 0,\n",
    "        #     \"input_ids\": pad_token,\n",
    "        # }\n",
    "        # self.columns = [\n",
    "        #     \"input_ids\",\n",
    "        #     \"attention_mask\",\n",
    "        #     \"lm_labels\",\n",
    "        #     \"decoder_attention_mask\",\n",
    "        # ]\n",
    "        self.pad_token_mapping = {\n",
    "            \"labels\": -100,\n",
    "            \"attention_mask\": 0,\n",
    "            \"decoder_attention_mask\": 0,\n",
    "            \"input_ids\": pad_token,\n",
    "        }\n",
    "        self.columns = [\n",
    "            \"input_ids\",\n",
    "            \"attention_mask\",\n",
    "            \"labels\",\n",
    "            \"decoder_attention_mask\",\n",
    "        ]\n",
    "\n",
    "    def collate_batch(self, examples):\n",
    "\n",
    "        # batch inputs for training\n",
    "        batch = {}\n",
    "        for key in examples[0].keys():\n",
    "            if key in self.columns:\n",
    "                tmp_list = []\n",
    "                for item in examples:\n",
    "                    tmp_list.append(item[key])\n",
    "\n",
    "                # pad lists to max length\n",
    "                if isinstance(tmp_list[0], list):\n",
    "                    max_length = max(map(len, tmp_list))\n",
    "                    tmp_list = [\n",
    "                        el + [self.pad_token_mapping[key]] * (max_length - len(el))\n",
    "                        for el in tmp_list\n",
    "                    ]\n",
    "\n",
    "                batch[key] = torch.tensor(tmp_list, dtype=torch.long)\n",
    "        return batch\n",
    "    \n",
    "    def __call__(self, examples: List[Dict[str, InputDataClass]]) -> Dict[str, torch.Tensor]:\n",
    "        # re-format inputs for training\n",
    "        batch = {}\n",
    "        for key in examples[0].keys():\n",
    "            if key in self.columns:\n",
    "                tmp_list = []\n",
    "                for item in examples:\n",
    "                    tmp_list.append(item[key])\n",
    "\n",
    "                # pad lists to max length\n",
    "                if isinstance(tmp_list[0], list):\n",
    "                    max_length = max(map(len, tmp_list))\n",
    "                    tmp_list = [\n",
    "                        el + [self.pad_token_mapping[key]] * (max_length - len(el))\n",
    "                        for el in tmp_list\n",
    "                    ]\n",
    "\n",
    "                batch[key] = torch.tensor(tmp_list, dtype=torch.long)\n",
    "        return batch\n",
    "# dataset = datasets.load_dataset(data_args.task_name, data_args.version_name)"
   ]
  },
  {
   "cell_type": "code",
   "execution_count": 20,
   "id": "219866fe",
   "metadata": {},
   "outputs": [
    {
     "data": {
      "application/json": {
       "ascii": false,
       "bar_format": null,
       "colour": null,
       "elapsed": 0.013362646102905273,
       "initial": 0,
       "n": 0,
       "ncols": null,
       "nrows": 60,
       "postfix": null,
       "prefix": "",
       "rate": null,
       "total": 48,
       "unit": "ex",
       "unit_divisor": 1000,
       "unit_scale": false
      },
      "application/vnd.jupyter.widget-view+json": {
       "model_id": "49554d0ceb20427a91b4ec7e2cdbc0e9",
       "version_major": 2,
       "version_minor": 0
      },
      "text/plain": [
       "  0%|          | 0/48 [00:00<?, ?ex/s]"
      ]
     },
     "metadata": {},
     "output_type": "display_data"
    },
    {
     "data": {
      "application/json": {
       "ascii": false,
       "bar_format": null,
       "colour": null,
       "elapsed": 0.012253999710083008,
       "initial": 0,
       "n": 0,
       "ncols": null,
       "nrows": 60,
       "postfix": null,
       "prefix": "",
       "rate": null,
       "total": 986,
       "unit": "ex",
       "unit_divisor": 1000,
       "unit_scale": false
      },
      "application/vnd.jupyter.widget-view+json": {
       "model_id": "5b8fec74084d478db8dfe7ec82f4a238",
       "version_major": 2,
       "version_minor": 0
      },
      "text/plain": [
       "  0%|          | 0/986 [00:00<?, ?ex/s]"
      ]
     },
     "metadata": {},
     "output_type": "display_data"
    },
    {
     "data": {
      "application/json": {
       "ascii": false,
       "bar_format": null,
       "colour": null,
       "elapsed": 0.012797117233276367,
       "initial": 0,
       "n": 0,
       "ncols": null,
       "nrows": 60,
       "postfix": null,
       "prefix": "",
       "rate": null,
       "total": 255,
       "unit": "ex",
       "unit_divisor": 1000,
       "unit_scale": false
      },
      "application/vnd.jupyter.widget-view+json": {
       "model_id": "9b520f7ca65e4cc989ec2fc9ebd666bb",
       "version_major": 2,
       "version_minor": 0
      },
      "text/plain": [
       "  0%|          | 0/255 [00:00<?, ?ex/s]"
      ]
     },
     "metadata": {},
     "output_type": "display_data"
    }
   ],
   "source": [
    "# seq_collector = SequenceCollator(0)\n",
    "# train_ds = seq_collector.__call__(dataset['train'])\n",
    "# train_ds\n",
    "# dataset['train'][0].keys()\n",
    "for split in ['train','dev','test']:\n",
    "    our_data_splits[split] = our_data_splits[split].map(\n",
    "            lambda x: format_instance(\n",
    "                x,\n",
    "                tokenizer,\n",
    "                data_args.explanation_sep,\n",
    "                datasource=data_args.task_name,\n",
    "                io_format=data_args.io_format\n",
    "            ),\n",
    "            batched=False,\n",
    "            load_from_cache_file=False,\n",
    "        )"
   ]
  },
  {
   "cell_type": "code",
   "execution_count": null,
   "id": "0c120e04",
   "metadata": {},
   "outputs": [],
   "source": []
  },
  {
   "cell_type": "code",
   "execution_count": 21,
   "id": "81048fad",
   "metadata": {},
   "outputs": [],
   "source": [
    "chatGPT_rationales = [\n",
    "    \"A cup is a common vessel used for holding and drinking liquids, such as water, coffee, or tea. When you want to get yourself a drink, you might typically get a cup from a cabinet or other storage area in order to hold the drink. A cup is a convenient and practical choice for getting a drink because it is easy to hold and use, and it can hold a reasonable amount of liquid. There are many different types of cups available, including ceramic, glass, plastic, and metal cups, each with their own unique features and benefits. Whether you are at home, at work, or out in public, a cup is a handy item to have on hand when you need to quench your thirst.\",\n",
    "    \"A front yard is the lawn that is typically located in front of a house, near the street. The front yard is the part of the property that is visible from the street and is often used for decorative purposes, such as landscaping or gardening. Many people take pride in their front yards and may spend time and resources maintaining and improving them. The front yard is often the first thing that visitors see when they arrive at a house, and it can make a strong impression on them. In contrast, the back yard is typically located behind the house and is often used for more practical purposes, such as outdoor recreation or gardening.\",\n",
    "    \"A swimming pool is a recreational water feature that is typically used for swimming and other aquatic activities. While shallow water, such as that found in a kiddie pool or a shallow end of a pool, can be enjoyable for some people, it may not be sufficient for many summer activities. A swimming pool that is deep enough for diving and other activities is more likely to provide more opportunities for summer fun. In addition, a swimming pool that is clean and chlorinated is more likely to be safe and enjoyable for swimming, as it will be free of contaminants and bacteria that can cause illness.\",\n",
    "    \"In most places, it is illegal for people under the age of 21 to purchase or consume alcohol. This is because alcohol can have negative effects on the developing brain and body of young people. It can also contribute to risky behaviors and accidents. Therefore, many governments have set a minimum age for alcohol consumption and purchase to help protect the health and safety of young people. If someone is under the age of 21 and attempts to purchase alcohol, they may be denied the sale or face legal consequences. It is important for young people to understand and adhere to the laws and regulations regarding the purchase and consumption of alcohol in their area.\",\n",
    "    \"When someone shaves, they typically use a razor to remove hair from their face or body. The process of shaving can leave a lot of hair in the sink, as the hair is trimmed off and falls into the sink as it is being shaved. It is common for people to shave in the bathroom, where a sink is typically located. The sink provides a convenient place to rinse the razor and wash off any excess hair or shaving cream. It is important to clean the sink after shaving to remove any hair and prevent clogs in the drain.\",\n",
    "    \"A hamburger is a type of sandwich that consists of a cooked patty of ground meat, typically beef, placed between two slices of bread or a bun. Hamburgers are often served with various toppings, such as lettuce, tomato, onion, cheese, and condiments like ketchup and mustard. However, if someone is suffering from great hunger, they may not care about the toppings and just want to eat the hamburger itself. In this case, the person may be more focused on satisfying their hunger and getting nourishment rather than worrying about additional ingredients or flavors.\",\n",
    "    \"If a person notices popcorn and cotton candy on the grass, they are likely at fairgrounds. Fairgrounds are outdoor areas that are used for hosting fairs and other events, such as carnivals, festivals, and exhibitions. These events often feature food stalls and vendors that sell a variety of treats, including popcorn and cotton candy. Popcorn and cotton candy are both popular carnival foods that are often sold at fairs and other events. The presence of these foods on the ground at fairgrounds suggests that a fair or similar event is taking place there.\",\n",
    "    \"When snow on a mountain becomes heavy, it can trigger an avalanche. An avalanche is a rapid flow of snow down a slope, often triggered by the weight of the snow or external factors such as a change in temperature. Avalanches can be dangerous and destructive, as they can bury and sweep away anything in their path, including people, buildings, and vehicles. Avalanches can occur on any slope with a steep enough incline and a sufficient amount of snow. They are most common on mountains, but they can also occur in other snowy areas, such as forests or valleys. It is important for people to be aware of the risk of avalanches and to take precautions when traveling in areas prone to avalanches.\",\n",
    "    \"A police officer typically reports their work through the use of case reports or incident reports. These reports are written documents that detail the events of a specific case or incident that the officer has worked on. Case reports or incident reports typically include information such as the date and time of the incident, the location, the people involved, and the actions taken by the officer. They may also include witness statements, evidence collected, and any other relevant details. Case reports or incident reports are used by police officers to document their work and provide a record of the incidents they have dealt with. They are also used by supervisors and other authorities to review and evaluate the performance of the officer and the effectiveness of their actions.\",\n",
    "    \"Teachers play many roles in the lives of their students, including mentor, counselor, and role model. However, they get the most out of their job by simply teaching children. Teaching children is the primary responsibility of a teacher, and it is what they are trained and paid to do. Teaching involves imparting knowledge, skills, and values to students, and helping them to develop the skills and habits they need to succeed in life. Teachers have the opportunity to make a positive impact on the lives of their students by providing them with a strong foundation in academic subjects and helping them to become curious, engaged learners. Teachers often derive a great deal of satisfaction from helping their students to achieve their potential and succeed in their studies.\",\n",
    "    \"A person might go to get counseling for a variety of reasons. One reason is to better understand themselves. Counseling can provide a safe and supportive environment for individuals to explore their thoughts, feelings, and behaviors, and to gain insight into why they act and feel the way they do. Counseling can also help a person to identify and work through any underlying issues or challenges that may be causing them distress or hindering their personal growth. Through counseling, a person can learn more about themselves and how to navigate their emotions and relationships more effectively. Counseling can be particularly helpful for individuals who are struggling with mental health issues, relationship problems, or other personal challenges.\",\n",
    "    \"If the kids wanted to cool off, they might go swimming as a way to refresh and beat the heat. Swimming is a fun and enjoyable activity that can provide relief from hot weather and help to cool the body. Swimming can also provide a great workout and has numerous health benefits, such as improving cardiovascular fitness and flexibility. There are many different places where kids can go swimming, such as pools, lakes, rivers, or the ocean. No matter where they go, kids can have fun and cool off while enjoying the water.\",\n",
    "    \"When remembering a tragedy in the past, many people may feel depressed. Depression is a common emotional reaction to experiencing a traumatic or stressful event, such as a tragedy. Depression is a mental health disorder characterized by persistent feelings of sadness, hopelessness, and low energy. It can also cause physical symptoms such as changes in appetite and sleep patterns, fatigue, and difficulty concentrating. Remembering a tragedy can be emotionally difficult and may trigger feelings of sadness, grief, and guilt. It is important for people who are struggling with depression to seek support and treatment to help manage their symptoms and improve their mental health.\",\n",
    "    \"Death Valley is a national park located in the Mojave Desert, in the state of California, United States. It is situated on the North American continent. The North American continent is one of the seven continents of the world and is located in the western hemisphere. It is the third largest continent in terms of land area, after Asia and Africa, and is home to a diverse range of cultures, languages, and environments. Death Valley is known for its extreme desert climate and is the lowest, hottest, and driest place in North America. It is a popular destination for tourists, who come to see its unique geological features, such as sand dunes, salt flats, and canyons.\",\n",
    "    \"When in a serious relationship, understanding better requires effort. Relationships require effort and work to maintain and grow. In order to understand your partner better, you need to be willing to put in the time and effort to communicate with them, listen to their perspectives, and try to see things from their point of view. This may involve asking questions, expressing your own feelings and needs, and being open to feedback and compromise. Understanding your partner better can help to strengthen the bond between you and improve the quality of your relationship. It is important to remember that relationships are dynamic and evolving, and that ongoing communication and effort are necessary to maintain a healthy and fulfilling relationship.\",\n",
    "    \"Cats are able to make a variety of vocalizations, including meows, purrs, and growls, as a way of communicating with humans and other animals. Cats use these vocalizations to convey a range of emotions and needs, such as hunger, happiness, or discomfort. Meowing is a common vocalization that cats use to communicate with humans. Cats may meow when they want attention, food, or to be let outside. Cats may also meow when they are feeling anxious or stressed. Although cats cannot talk in the same way that humans do, they are skilled at using their voices to communicate with their owners and other animals.\",\n",
    "    \"If you need a vessel that is similar to a battleship but faster, you might consider using a corvette. A corvette is a small, fast warship that is typically used for convoy escort, patrol, and other shallow water duties. Corvettes are generally smaller and less heavily armed than battleships, but they are more agile and have a higher speed. They are typically equipped with a variety of weapons, including guns, missiles, and torpedoes, and are used for defending against enemy ships and aircraft. Corvettes are often used for coastal defense, as well as for patrolling and enforcing maritime laws. They are capable of operating in a variety of environments, including open ocean and littoral (nearshore) waters.\",\n",
    "    \"Water in the sky comes from rain clouds. Rain clouds are clouds that form when moist air rises and cools, forming tiny water droplets that condense around particles in the air. As the droplets grow, they eventually become heavy enough to fall from the cloud as rain. Rain clouds are typically gray or white in color and are often accompanied by other types of clouds, such as cumulus or stratocumulus clouds. Rain clouds can form in a variety of ways, such as when warm, moist air from the ground rises and cools, or when moist air from the ocean is carried inland by the wind. Rain clouds can be found in many parts of the world and are a common source of precipitation, especially during the warmer months.\",\n",
    "    \"If John rented a hotel room while on a business trip and it was a company-sponsored event, it is possible that the hotel was a resort. Resorts are hotels or vacation properties that offer a variety of amenities and activities for guests, such as swimming pools, golf courses, spas, and restaurants. They are often located in scenic or recreational areas and are designed to provide a relaxing and enjoyable experience for guests. Many resorts offer conference and meeting facilities and are popular destinations for business events and retreats. If John's company sponsored the business trip and provided the hotel accommodations, it is likely that they chose a resort with the amenities and facilities needed to support the event.\",\n",
    "    \"An expressway might leave the United States and go to Canada. The United States and Canada are neighboring countries that share a border, and there are several expressways that cross the border between the two countries. Expressways are high-speed, limited-access roads that are designed for fast and efficient travel. They typically have multiple lanes and may include features such as grade separations, interchanges, and controlled access points. Expressways are used for long-distance travel and are often the main routes connecting major cities and regions. If an expressway leaves the United States, it is likely that it is heading towards Canada, which is located to the north of the United States.\",\n",
    "    \"If you were walking on a sidewalk near a small corner shop run by John, you would look for it on the street corner. A corner shop is a small retail store that is typically located at the intersection of two streets. It is often a convenience store or a neighborhood shop that sells a variety of goods, such as groceries, household items, and other supplies. Corner shops are often located in busy urban areas, where they are easily accessible to pedestrians and motorists. If you were walking on a sidewalk near a corner shop, you would look for it at the intersection of the street where you are walking and another street. The shop is likely to be located in a building on the corner, with windows and doors facing the street.\",\n",
    "    \"One way that a company can efficiently sell things to their customers is through mail order. Mail order is a method of selling goods or services by advertising them in a catalog or other publication and allowing customers to place orders by mail, telephone, or online. Mail order is a convenient and efficient way for companies to reach a wide customer base, as it allows them to sell products to customers who may not be located near their physical store or who may not have the time or inclination to shop in person. Mail order companies typically have a centralized warehouse or distribution center where orders are processed and shipped to customers. They may also offer options such as easy returns and exchanges, as well as customer service support to assist with any questions or issues that customers may have.\",\n",
    "    \"If he enjoyed the factory work and liked the idea that he did it for sale, it is likely that he enjoyed producing goods. Factory work typically involves the production of goods, such as products or materials, using machines, tools, and other equipment. Factory workers are responsible for operating and maintaining the equipment and ensuring that the goods being produced meet quality standards. The goods produced in a factory may be sold directly to consumers or to other businesses, and may be used for a variety of purposes, such as manufacturing, construction, or distribution. If a person enjoys factory work, they may find satisfaction in the idea that they are contributing to the production of goods that will be sold and used by others.\",\n",
    "    \"If returning to work was easy for Dan after his treatment and he was completely painless, it is likely that he had undergone some form of medical treatment or therapy to address a health issue or injury. Painless indicates that Dan was no longer experiencing pain or discomfort, which may have been a result of the treatment or therapy he received. It is not clear from the information provided what specific health issue or injury Dan was dealing with, or what treatment or therapy he received. However, it is possible that Dan was able to return to work more easily after his treatment because he was feeling better and was no longer experiencing any pain or discomfort.\",\n",
    "    \"If index cards were on display at the museum, it is likely that the museum was a library. Libraries are institutions that provide access to a wide range of resources, including books, periodicals, and other printed materials, as well as digital resources such as e-books, databases, and online research tools. Libraries often have exhibits and displays of various types of materials, including rare or unique items, and may have special collections or archives that are of particular interest to researchers or historians. Index cards are small, rectangular pieces of paper that are used for organizing information, such as names, dates, or research notes. They may be used in a variety of settings, including libraries, offices, and schools. If index cards were on display at the museum, it is possible that they were part of a historical exhibit or collection related to the history of libraries or research.\",\n",
    "    \"If she was a human in America who wanted to live well, it is likely that the given for her situation was the need for money. In general, money is an important factor in enabling people to live well and meet their basic needs and desires. Money allows people to purchase the goods and services that they need to sustain themselves and their families, such as food, clothing, housing, and healthcare. It also enables people to pursue their interests and hobbies, travel, and engage in various forms of leisure and entertainment. In America, and in many other countries around the world, the cost of living can be high, and people often need to earn and save money in order to achieve a desired standard of living. As such, the need for money is a given for many people in order to live well.\",\n",
    "    \"A place that could have one back garden is a house. A garden is a piece of land that is used for growing plants, flowers, vegetables, or other types of vegetation. Gardens can be found in a variety of settings, including residential properties, public parks, and commercial properties. A house is a building that is used as a dwelling for one or more people, and it typically includes living spaces, such as bedrooms, bathrooms, and a kitchen, as well as outdoor areas, such as a front yard, side yard, and back yard. A back yard is a private outdoor space that is typically located behind a house and is often used for recreational or leisure activities, such as gardening, grilling, or playing games. If a house has a back garden, it is likely that the garden is located in the back yard.\",\n",
    "    \"People gather at a football stadium to see large men in pads play a game where they run and smash into each other. Football is a popular sport that is played on a rectangular field by two teams of eleven players. The game involves running, passing, and tackling, and players wear pads and other protective gear to reduce the risk of injury. Football is a physical and intense sport, and players often collide with each other at high speeds. Football stadiums are large, open-air facilities that are designed to host football games and other sporting events. They typically have a grass or artificial turf field, seating for spectators, and a variety of amenities, such as concessions stands, restrooms, and VIP areas. Football stadiums are popular places for people to gather and watch football games, and they can be found in cities and towns throughout the world.\",\n",
    "    \"One place where someone can get a flute is a musical instrument store. A musical instrument store is a retail establishment that specializes in selling musical instruments and related accessories. They may carry a wide range of instruments, including brass instruments, woodwind instruments, string instruments, percussion instruments, and keyboards. Flutes are woodwind instruments that are played by blowing air into a narrow opening and producing sound by vibrating the lips against a metal or wooden reed. They are popular instruments that are used in a variety of musical styles, including classical, jazz, and folk music. If someone is looking to purchase a flute, they may be able to find a selection of flutes at a musical instrument store. In addition to flutes, musical instrument stores may also offer a variety of other instruments, as well as sheet music, instructional materials, and accessories such as cases, stands, and cleaning supplies.\",\n",
    "    \"It is not clear what someone who has a greed for energy would do. The word greed typically refers to an excessive or insatiable desire for wealth, power, or material possessions. It is not clear how this concept would relate to energy or how it might influence someone's actions. It is possible that someone who has a lot of energy or who is very active might have a high appetite for food and might seek out sources of fuel or nutrition to sustain their energy levels. In this case, they might buy food as a way to obtain the energy they need. However, it is not accurate to say that someone who has a greed for energy would necessarily do this. It is important to note that the concept of greed is generally considered to be negative, as it suggests an unhealthy or unsustainable desire for something.\",\n",
    "    \"A forklift is a type of industrial vehicle that is used for moving and lifting heavy loads, such as pallets, crates, and boxes. Forklifts are equipped with a hydraulic lift mechanism and a set of prongs or forks that can be used to lift and transport loads. They are commonly used in warehouses and other distribution centers to move and stack materials, such as boxes, onto shelves or other storage areas. If you were using a forklift to stack boxes onto shelves, it is likely that you were in a warehouse or a similar facility. Warehouses are large, commercial buildings that are used for storing and distributing goods. They often have high ceilings, wide aisles, and multiple levels, and they may be equipped with a variety of material handling equipment, such as forklifts, conveyor belts, and cranes, to facilitate the movement and storage of goods.\",\n",
    "    \"You are likely to receive mouthwash in a little paper cup at a dentist's office. Dentist's offices are healthcare facilities that are staffed by dentists and other dental professionals, and they are used for the diagnosis and treatment of dental problems and the maintenance of oral health. One common practice at a dentist's office is to rinse the mouth with mouthwash, which is a liquid that is used to freshen breath, kill bacteria, and reduce the risk of gum disease and other oral health issues. Mouthwash is typically used after brushing and flossing to help remove any remaining food particles or plaque from the mouth. It may be dispensed in a little paper cup, which can be used to rinse the mouth and then disposed of after use.\",\n",
    "    \"A doctor's office can help you with an illness. A doctor's office is a healthcare facility that is staffed by medical doctors and other healthcare professionals, and it is used for the diagnosis and treatment of medical conditions and the maintenance of overall health. If you are experiencing an illness, such as a cold, flu, or more serious health issue, you may visit a doctor's office to seek medical care and treatment. At a doctor's office, you may receive a physical examination, diagnostic tests, and other forms of medical treatment, depending on the nature of your illness and your specific needs. Doctors are trained to diagnose and treat a wide range of medical conditions, and they can provide you with the care and support you need to recover from your illness and get back to good health.\",\n",
    "    \"A bug looking for wildflowers and no human interruption might go to a meadow. A meadow is a grassland area that is characterized by its open, grassy landscape and the presence of wildflowers and other types of vegetation. Meadows can be found in a variety of settings, including rural areas, forests, and parkland, and they are often home to a variety of animal and plant species. Because meadows are relatively undisturbed by human activity, they can be a good place for a bug to find wildflowers and other types of plants without interference from humans. Meadows are often considered to be peaceful, serene places, and they may be attractive to a bug that is seeking a quiet, natural environment in which to explore and forage.\",\n",
    "    \"If a bride and groom are taking care of proposals, the likely ceremony is a marriage. A marriage is a formal union between two people that is recognized by law and typically involves a public ceremony and the exchange of vows. A marriage proposal is a request for someone to marry another person, and it is typically made by one partner to the other. The process of planning a marriage often involves taking care of a variety of details and arrangements, such as choosing a venue, selecting a date, inviting guests, and organizing the ceremony and reception. If a bride and groom are taking care of proposals, it is likely that they are in the process of planning their marriage and preparing for the wedding ceremony.\",\n",
    "    \"You could put some olives in a jar to prevent them from getting nearby food wet. A jar is a container that is typically made of glass or ceramic and has a wide mouth and a secure, tight-fitting lid. Jars are often used for storing food items, such as olives, pickles, jams, and other types of preserved or dried goods. Because they have a sealed lid, jars can help to keep food fresh and prevent it from coming into contact with air or other substances that might spoil or contaminate it. If you want to prevent olives from getting nearby food wet, you could put them in a jar and close the lid to create an airtight seal. This would help to keep the olives separate from other foods and prevent them from coming into contact with moisture or other liquids.\",\n",
    "    \"If the graveyard was zoned by the pastor, it is likely that it was located on church property. Church property refers to land or buildings that are owned by a church or religious organization. This may include the main church building, as well as other structures such as a rectory, school, or community center. Church property may also include a graveyard or cemetery, which is a place where people are buried after they die. Pastors, who are ordained leaders in a church, often play a central role in the management and oversight of church property, and they may be responsible for zoning or designating areas within the property for specific purposes, such as a graveyard or a garden. If the pastor has zoned the graveyard, it is likely that it is located on church property and is being used as a place for burial by members of the church or community.\",\n",
    "    \"If a family wanted to live with carpeting, they may have ended up putting it in their houses. Houses are structures that are designed and built to be used as homes, and they typically have a number of rooms that are used for different purposes, such as sleeping, cooking, eating, and relaxing. Carpeting is a type of floor covering that is made of soft, flexible materials, such as wool, nylon, or polypropylene, and it is often used in houses to provide warmth, comfort, and insulation. If a family wanted to live with carpeting, they may have chosen to install carpeting in some or all of the rooms in their houses, in order to create a warm and cozy atmosphere and to improve the overall comfort and livability of their homes.\",\n",
    "    \"If a boss likes an employee's ambition, the employee may be put in charge of a project. A project is a specific task or set of tasks that is undertaken in order to achieve a specific goal or objective. Projects may be large or small, complex or simple, and they may involve a wide range of activities, such as research, design, development, testing, and implementation. If an employee is ambitious and demonstrates a strong desire to succeed and make a positive contribution to their organization, their boss may choose to put them in charge of a project, in order to give them the opportunity to demonstrate their skills and abilities and to take on more responsibility. Being put in charge of a project can be a challenging and rewarding experience, and it may provide an employee with the chance to learn new things, develop their skills, and make a meaningful contribution to their organization.\",\n",
    "    \"A county highway can be viewed as a line on a map. A map is a graphic representation of an area or region that shows the locations of various features, such as roads, rivers, mountains, and cities. Maps are often used to help people navigate and find their way around unfamiliar places, and they can be very useful for understanding the layout and geography of an area. County highways are roads that are maintained and operated by a county or local government, and they are typically used for local travel and transportation within a county or region. On a map, a county highway may be represented as a line, with a specific color or symbol used to indicate its location and route. By viewing a county highway as a line on a map, it is possible to get a sense of the route and layout of the road, and to use the map to plan a journey or navigate to a specific destination.\",\n",
    "    \"After going for a run, someone may feel tired. Running is a form of physical activity that involves moving quickly and continuously on foot, typically by running or jogging. It is a popular form of exercise that can help to improve cardiovascular fitness, build endurance, and strengthen the muscles of the legs and lower body. However, running can also be physically demanding, and it requires a certain level of fitness and stamina to be able to sustain the activity for an extended period of time. As a result, it is common for people to feel tired after going for a run, especially if they are not used to the activity or if they have pushed themselves to run for a longer distance or at a faster pace than usual. Tiredness after a run may be accompanied by other physical sensations, such as muscle fatigue, thirst, or a sense of accomplishment.\",\n",
    "    \"If a car was going from Florida to Ohio, it was heading north. Florida is a state in the southeastern region of the United States, and Ohio is a state in the midwestern region of the country. When traveling from Florida to Ohio, a person would need to go north in order to reach their destination. North is a direction that is opposite to south on a map or compass, and it is typically associated with higher latitude, colder climates, and longer nights. When traveling north, a person may encounter different landscapes, weather patterns, and cultural experiences than they would when traveling south, depending on the specific route and the distance traveled. By heading north from Florida to Ohio, a person would be leaving behind the warm, tropical climate of Florida and entering into a more temperate, mid-latitude region with cooler temperatures and a more diverse range of landscapes and ecosystems.\",\n",
    "    \"During a typical week, a teacher is likely to spend most of their time working in school. A teacher is a person who is trained and qualified to teach students in a school or educational setting, and their primary job is to provide instruction and guidance to help students learn and develop their skills and knowledge. Teachers may work in a variety of settings, including primary schools, secondary schools, and universities, and they may teach a wide range of subjects, including math, science, English, history, and the arts. In order to fulfill their duties as a teacher, a person is likely to spend most of their time working in a school or educational setting, where they will be responsible for preparing and delivering lessons, grading assignments, communicating with students and parents, and performing other tasks related to their job. Teachers typically work on a schedule that follows the school year, and they may work full-time or part-time, depending on their specific circumstances and the needs of their students.\",\n",
    "    \"In a predicament, an animal might choose to fight for its life as an alternative to fleeing. Predicament is a term that refers to a difficult or challenging situation, typically one that involves a choice or decision that needs to be made. When an animal finds itself in a predicament, it may have to decide how to respond in order to survive and protect itself. One option that an animal may have is to flee or run away from the situation in an effort to escape danger or avoid conflict. Another option that an animal may have is to fight for its life, using whatever means are available to defend itself and protect its survival. The choice that an animal makes in a predicament will depend on a variety of factors, including the specific nature of the situation, the animal's size, strength, and abilities, and the resources and options that are available to it.\",\n",
    "    \"It is not common for people to fight each other when they find a good deal. A good deal is typically defined as an opportunity to purchase something at a price that is lower than what it is usually worth, or to obtain a product or service that provides more value or benefits than what is expected. When people find a good deal, they may feel excited or pleased about the opportunity to save money or get more for their money, and they may take action to take advantage of the deal. However, it is generally not considered acceptable or appropriate for people to fight each other over a good deal or to engage in physical violence or aggression in order to obtain it. There are many other ways that people can express their interest in a good deal, such as by negotiating with the seller, making an offer, or simply making a purchase if the price is acceptable.\",\n",
    "    \"An altar is a platform or structure that is used for religious ceremonies, rituals, or worship. Altars are often found in places of worship, such as temples, churches, synagogues, mosques, and other religious buildings. When a person is standing in front of an altar, they are likely to be in a temple or other place of worship. Altars can be used for a variety of purposes in different religions and spiritual traditions, such as offering sacrifices, making offerings, praying, or performing other religious practices. They may be decorated with symbols, images, or other items that are significant to the religion or spiritual tradition that is being practiced. Altars may also be used as a place for people to meditate, reflect, or seek spiritual guidance.\",\n",
    "    \"Joe bought a bunch of grapes because he likes to use them to top his desserts. A dessert is a type of food that is typically served at the end of a meal, and it is usually sweet or rich in flavor. There are many different types of desserts that people enjoy, including cakes, cookies, ice cream, pie, and other sweet treats. One way that people may use grapes as a topping for their desserts is by placing them on top of a fruit pie, tart, or crisp. Grapes can add flavor and texture to a dessert, and they may also be used to decorate a dessert or to add visual appeal. Grapes are a versatile fruit that can be used in many different types of desserts, and they can be eaten fresh, frozen, or preserved in various ways.\",\n",
    "    \"Well water is water that is obtained from underground sources, typically through the use of a well. A well is a hole or shaft that is dug into the ground in order to access water that is contained in underground aquifers or other water-bearing formations. Well water is typically used for drinking, irrigation, and other purposes, and it is often considered to be of high quality because it is filtered and purified naturally as it flows through the ground. To obtain well water, a person can dig a well or have one dug by a professional well driller. The depth of the well will depend on the location and the geology of the area, and a pump or other mechanical system may be used to bring the water to the surface.\",\n",
    "]"
   ]
  },
  {
   "cell_type": "code",
   "execution_count": null,
   "id": "69fa8109",
   "metadata": {},
   "outputs": [],
   "source": []
  },
  {
   "cell_type": "code",
   "execution_count": 22,
   "id": "01fdee8d",
   "metadata": {},
   "outputs": [],
   "source": [
    "id_list = [\n",
    " '71519c19654251cced50c5718fd527c1',\n",
    " '44195d210c81c8c550174d0edbd3ad5d',\n",
    " '5a5da37b685ec9c6f15228128ce30437',\n",
    " 'cabdfc174953b4bdb8bdcc89d6592c74',\n",
    " 'eac3a4080127e8924034651b57dfa289',\n",
    " 'c0013f31657294b9b5ad819123513ca7',\n",
    " '2681697be70cd5425899ed6deb84b18a',\n",
    " '47f60340b869552e795fa6782224f3d2',\n",
    " '7e8a6eac93147eb52d8151bab7b40003',\n",
    " 'f34267f498c8a78383e35057fbcfa2ce',\n",
    " 'f024f923d78e5c0a4c0c4baa3ddccf05',\n",
    " 'e148c710d0c26849cf1f15293481038b',\n",
    " 'bdf437d7498815f36c255f64a8e6571c',\n",
    " '2282e0c80be28aadadb79a822fec9dac',\n",
    " 'bdd05e96876342b4b5999709439a7f4e',\n",
    " '494b8316614fc64c5c27757aeaffce23_1',\n",
    " 'c4494b402264250dc70931613d482295',\n",
    " 'fcfbf207c5586294fdce33b645b613f1',\n",
    " '9c583bcbe68989a644433302545fb31e',\n",
    " '0e684d779d98e6eecda167c10af42bbb',\n",
    " 'ac0462d09b9fddd40c3c77aedf48a870',\n",
    " '1dbfb41e04a10bdbb085bfe667c0df99',\n",
    " 'cd0c0ef3b8ce0eb09ff26823f6059be6',\n",
    " 'e6b67184b99375d05d3f2887f684c684',\n",
    " 'ae9f6f1e17b3fdd3a86b494933809f45',\n",
    " 'f149604169936a30b7e4c8d599d604b5',\n",
    " 'd7c8377953e0175ef57d59f3a8e63a8e',\n",
    " '1837216ac7745121b82a6491b2318c09',\n",
    " 'b5fe238d45e55ca5d802b7823ad390ef',\n",
    " 'b2fbeb0b48bd5e575af0f7dc24cdd85d',\n",
    " '9bdfb101c487ac598f6e4686cf774703',\n",
    " '206c7116ee2246180fcc0c5a1d0e7205',\n",
    " '5cd7f44bbf730dfae5ef2a362d2e5149',\n",
    " '45d0ea781ffd49b07d6eae94d47a8945',\n",
    " '89afdea1d76272fda8e1538a7d3b7a3f',\n",
    " '38a514fe54108527e1d6e89d9812da93',\n",
    " 'ebf347934a3e90ea46d3d87726fb5d25',\n",
    " '90226a6ecd7308ae1e6220a15ae24bc6',\n",
    " '5cae8057e75e3adf5c338a43b3ba97fb',\n",
    " '388a363c49e1b0aca8eaf18ccdde0caf',\n",
    " '9ed3af82152dfcd7000bf4631b095f71',\n",
    " '2d5805d894bba224c5fe91e70b8c0f77',\n",
    " 'd5aa464a16b72c9b9f3091abd461e3ef',\n",
    " '381b11c54be4cc432a95053ca34cbf6b',\n",
    " '807a3a2dabdd50ed0c76052fd2612632',\n",
    " '5172041c750d22e9a5081cc024de0fa6',\n",
    " 'd32a45ab3b751110d0578a78e54c0e64',\n",
    " '28ca5cbe27774746c34f6ebe84fc6d0c']"
   ]
  },
  {
   "cell_type": "code",
   "execution_count": null,
   "id": "51445c67",
   "metadata": {},
   "outputs": [],
   "source": []
  },
  {
   "cell_type": "code",
   "execution_count": 23,
   "id": "dabe3306",
   "metadata": {},
   "outputs": [],
   "source": [
    "# our_wrong_data_splits['dev']=[]\n",
    "# for x in our_data_splits['dev']:\n",
    "#     for ii in range(5):\n",
    "#         new_x={'id':x['id'], 'real_answer':x['answer'], \n",
    "#                'answer':x['choices'][ii], 'question':x['question'],\n",
    "#                'choices':x['choices'],\n",
    "#                'abstractive_explanation':x['abstractive_explanation'],\n",
    "#                'extractive_explanation':x['extractive_explanation'],\n",
    "#                'our_explanation':x['our_explanation']}\n",
    "#         our_wrong_data_splits['dev'].append(new_x)\n",
    "#     #print(x)\n",
    "#     #pdb.set_trace()\n",
    "# # wandb.init()\n",
    "# our_wrong_dev_data_dict = list2dict(our_wrong_data_splits['dev'])\n",
    "# our_wrong_data_splits['dev'] = datasets.Dataset.from_dict(our_wrong_dev_data_dict)"
   ]
  },
  {
   "cell_type": "code",
   "execution_count": 24,
   "id": "7b62bdf5",
   "metadata": {},
   "outputs": [],
   "source": [
    "# our_wrong_data_splits['train'][0],our_wrong_data_splits['train'][0].keys()\n",
    "# our_wrong_data_splits['train'] = our_wrong_data_splits['train'].map(\n",
    "#             lambda x: format_instance(\n",
    "#                 x,\n",
    "#                 tokenizer,\n",
    "#                 data_args.explanation_sep,\n",
    "#                 datasource=data_args.task_name,\n",
    "#                 io_format=data_args.io_format\n",
    "#             ),\n",
    "#             batched=False,\n",
    "#             load_from_cache_file=False,\n",
    "#         )"
   ]
  },
  {
   "cell_type": "code",
   "execution_count": 25,
   "id": "b421f892",
   "metadata": {},
   "outputs": [],
   "source": [
    "# for da in our_wrong_data_splits['dev']:\n",
    "#     print(\"*******\")\n",
    "#     print(\"question: {}\".format(da['question']))\n",
    "#     print(\"real_answer: {}\".format(da['real_answer']))\n",
    "#     print(\"answer: {}\".format(da['answer']))\n",
    "#     print(\"choices: {}\".format(da['choices']))\n",
    "#     print(\"our_explanation: {}\".format(da['our_explanation']))\n",
    "#     inp_ids = torch.tensor(da[\"input_ids\"], device=model.device).reshape(1, -1)\n",
    "#     out = model.generate(\n",
    "#                     inp_ids,\n",
    "#                     max_length=100,\n",
    "#                     pad_token_id=tokenizer.pad_token_id,\n",
    "#                     eos_token_id=tokenizer.eos_token_id,\n",
    "#                 )\n",
    "#     skip_special_tokens = False if \"infilling\" in data_args.io_format else True\n",
    "#     words = tokenizer.decode(out[0].tolist(), skip_special_tokens=skip_special_tokens)\n",
    "#     print(\"generated explanation: {}\".format(words))\n",
    "#     print(\"#######\")"
   ]
  },
  {
   "cell_type": "code",
   "execution_count": 26,
   "id": "dfa34701",
   "metadata": {},
   "outputs": [],
   "source": [
    "# our_wrong_data_splits['train'][0],our_wrong_data_splits['train'][0].keys()\n",
    "# our_wrong_data_splits['dev'] = our_wrong_data_splits['dev'].map(\n",
    "#             lambda x: format_instance(\n",
    "#                 x,\n",
    "#                 tokenizer,\n",
    "#                 data_args.explanation_sep,\n",
    "#                 datasource=data_args.task_name,\n",
    "#                 io_format=data_args.io_format\n",
    "#             ),\n",
    "#             batched=False,\n",
    "#             load_from_cache_file=False,\n",
    "#         )"
   ]
  },
  {
   "cell_type": "code",
   "execution_count": 27,
   "id": "2e6d6437",
   "metadata": {},
   "outputs": [],
   "source": [
    "# for da in our_wrong_data_splits['dev']:\n",
    "#     print(\"*******\")\n",
    "#     print(\"question: {}\".format(da['question']))\n",
    "#     print(\"real_answer: {}\".format(da['real_answer']))\n",
    "#     print(\"answer: {}\".format(da['answer']))\n",
    "#     print(\"choices: {}\".format(da['choices']))\n",
    "#     print(\"our_explanation: {}\".format(da['our_explanation']))\n",
    "#     inp_ids = torch.tensor(da[\"input_ids\"], device=model.device).reshape(1, -1)\n",
    "#     out = model.generate(\n",
    "#                     inp_ids,\n",
    "#                     max_length=100,\n",
    "#                     pad_token_id=tokenizer.pad_token_id,\n",
    "#                     eos_token_id=tokenizer.eos_token_id,\n",
    "#                 )\n",
    "#     skip_special_tokens = False if \"infilling\" in data_args.io_format else True\n",
    "#     words = tokenizer.decode(out[0].tolist(), skip_special_tokens=skip_special_tokens)\n",
    "#     print(\"generated explanation: {}\".format(words))\n",
    "#     print(\"#######\")"
   ]
  },
  {
   "cell_type": "code",
   "execution_count": 28,
   "id": "91605cfc",
   "metadata": {},
   "outputs": [],
   "source": [
    "# for da in our_wrong_data_splits['train']:\n",
    "#     print(\"*******\")\n",
    "#     print(\"question: {}\".format(da['question']))\n",
    "#     print(\"real_answer: {}\".format(da['real_answer']))\n",
    "#     print(\"answer: {}\".format(da['answer']))\n",
    "#     print(\"choices: {}\".format(da['choices']))\n",
    "#     print(\"our_explanation: {}\".format(da['our_explanation']))\n",
    "#     inp_ids = torch.tensor(da[\"input_ids\"], device=model.device).reshape(1, -1)\n",
    "#     out = model.generate(\n",
    "#                     inp_ids,\n",
    "#                     max_length=100,\n",
    "#                     pad_token_id=tokenizer.pad_token_id,\n",
    "#                     eos_token_id=tokenizer.eos_token_id,\n",
    "#                 )\n",
    "#     skip_special_tokens = False if \"infilling\" in data_args.io_format else True\n",
    "#     words = tokenizer.decode(out[0].tolist(), skip_special_tokens=skip_special_tokens)\n",
    "#     print(\"generated explanation: {}\".format(words))\n",
    "#     print(\"#######\")"
   ]
  },
  {
   "cell_type": "code",
   "execution_count": 29,
   "id": "cbc3e763",
   "metadata": {},
   "outputs": [],
   "source": [
    "# import wandb\n",
    "# training_args.run_name=\"\"\n",
    "training_args.logging_steps=3\n",
    "training_args.save_steps=5\n",
    "training_args.evaluation_strategy=\"epoch\"\n",
    "training_args.num_train_epochs=25\n",
    "training_args.do_eval=True"
   ]
  },
  {
   "cell_type": "code",
   "execution_count": 30,
   "id": "317de5d7",
   "metadata": {},
   "outputs": [
    {
     "data": {
      "text/plain": [
       "TrainingArguments(\n",
       "_n_gpu=1,\n",
       "adafactor=False,\n",
       "adam_beta1=0.9,\n",
       "adam_beta2=0.999,\n",
       "adam_epsilon=1e-08,\n",
       "dataloader_drop_last=False,\n",
       "dataloader_num_workers=0,\n",
       "dataloader_pin_memory=True,\n",
       "ddp_find_unused_parameters=None,\n",
       "debug=[],\n",
       "deepspeed=None,\n",
       "disable_tqdm=False,\n",
       "do_eval=True,\n",
       "do_predict=False,\n",
       "do_train=True,\n",
       "eval_accumulation_steps=None,\n",
       "eval_steps=None,\n",
       "evaluation_strategy=epoch,\n",
       "fp16=False,\n",
       "fp16_backend=auto,\n",
       "fp16_full_eval=False,\n",
       "fp16_opt_level=O1,\n",
       "gradient_accumulation_steps=1,\n",
       "greater_is_better=None,\n",
       "group_by_length=False,\n",
       "ignore_data_skip=False,\n",
       "label_names=None,\n",
       "label_smoothing_factor=0.0,\n",
       "learning_rate=5e-05,\n",
       "length_column_name=length,\n",
       "load_best_model_at_end=False,\n",
       "local_rank=-1,\n",
       "log_level=-1,\n",
       "log_level_replica=-1,\n",
       "log_on_each_node=True,\n",
       "logging_dir=./cos_e_output_t5_large/011323_014008,\n",
       "logging_first_step=False,\n",
       "logging_steps=3,\n",
       "logging_strategy=IntervalStrategy.STEPS,\n",
       "lr_scheduler_type=SchedulerType.LINEAR,\n",
       "max_grad_norm=1.0,\n",
       "max_steps=-1,\n",
       "metric_for_best_model=None,\n",
       "mp_parameters=,\n",
       "no_cuda=False,\n",
       "num_train_epochs=25,\n",
       "output_dir=./cos_e_output_t5_large/011323_014008,\n",
       "overwrite_output_dir=False,\n",
       "past_index=-1,\n",
       "per_device_eval_batch_size=8,\n",
       "per_device_train_batch_size=8,\n",
       "prediction_loss_only=False,\n",
       "push_to_hub=False,\n",
       "push_to_hub_model_id=cos_e_output_t5_large,\n",
       "push_to_hub_organization=None,\n",
       "push_to_hub_token=None,\n",
       "remove_unused_columns=True,\n",
       "report_to=['tensorboard', 'wandb'],\n",
       "resume_from_checkpoint=None,\n",
       "run_name=./cos_e_output_t5_large,\n",
       "save_on_each_node=False,\n",
       "save_steps=5,\n",
       "save_strategy=IntervalStrategy.STEPS,\n",
       "save_total_limit=None,\n",
       "seed=42,\n",
       "sharded_ddp=[],\n",
       "skip_memory_metrics=True,\n",
       "tpu_metrics_debug=False,\n",
       "tpu_num_cores=None,\n",
       "use_legacy_prediction_loop=False,\n",
       "warmup_ratio=0.0,\n",
       "warmup_steps=0,\n",
       "weight_decay=0.0,\n",
       ")"
      ]
     },
     "execution_count": 30,
     "metadata": {},
     "output_type": "execute_result"
    }
   ],
   "source": [
    "training_args"
   ]
  },
  {
   "cell_type": "code",
   "execution_count": 31,
   "id": "de79fb60",
   "metadata": {},
   "outputs": [
    {
     "data": {
      "text/plain": [
       "TrainingArguments(\n",
       "_n_gpu=1,\n",
       "adafactor=False,\n",
       "adam_beta1=0.9,\n",
       "adam_beta2=0.999,\n",
       "adam_epsilon=1e-08,\n",
       "dataloader_drop_last=False,\n",
       "dataloader_num_workers=0,\n",
       "dataloader_pin_memory=True,\n",
       "ddp_find_unused_parameters=None,\n",
       "debug=[],\n",
       "deepspeed=None,\n",
       "disable_tqdm=False,\n",
       "do_eval=True,\n",
       "do_predict=False,\n",
       "do_train=True,\n",
       "eval_accumulation_steps=None,\n",
       "eval_steps=None,\n",
       "evaluation_strategy=epoch,\n",
       "fp16=False,\n",
       "fp16_backend=auto,\n",
       "fp16_full_eval=False,\n",
       "fp16_opt_level=O1,\n",
       "gradient_accumulation_steps=1,\n",
       "greater_is_better=None,\n",
       "group_by_length=False,\n",
       "ignore_data_skip=False,\n",
       "label_names=None,\n",
       "label_smoothing_factor=0.0,\n",
       "learning_rate=5e-05,\n",
       "length_column_name=length,\n",
       "load_best_model_at_end=False,\n",
       "local_rank=-1,\n",
       "log_level=-1,\n",
       "log_level_replica=-1,\n",
       "log_on_each_node=True,\n",
       "logging_dir=./cos_e_output_t5_large/011323_014008,\n",
       "logging_first_step=False,\n",
       "logging_steps=3,\n",
       "logging_strategy=IntervalStrategy.STEPS,\n",
       "lr_scheduler_type=SchedulerType.LINEAR,\n",
       "max_grad_norm=1.0,\n",
       "max_steps=-1,\n",
       "metric_for_best_model=None,\n",
       "mp_parameters=,\n",
       "no_cuda=False,\n",
       "num_train_epochs=25,\n",
       "output_dir=./cos_e_output_t5_large/011323_014008,\n",
       "overwrite_output_dir=False,\n",
       "past_index=-1,\n",
       "per_device_eval_batch_size=8,\n",
       "per_device_train_batch_size=8,\n",
       "prediction_loss_only=False,\n",
       "push_to_hub=False,\n",
       "push_to_hub_model_id=cos_e_output_t5_large,\n",
       "push_to_hub_organization=None,\n",
       "push_to_hub_token=None,\n",
       "remove_unused_columns=True,\n",
       "report_to=['tensorboard', 'wandb'],\n",
       "resume_from_checkpoint=None,\n",
       "run_name=./cos_e_output_t5_large,\n",
       "save_on_each_node=False,\n",
       "save_steps=5,\n",
       "save_strategy=IntervalStrategy.STEPS,\n",
       "save_total_limit=None,\n",
       "seed=42,\n",
       "sharded_ddp=[],\n",
       "skip_memory_metrics=True,\n",
       "tpu_metrics_debug=False,\n",
       "tpu_num_cores=None,\n",
       "use_legacy_prediction_loop=False,\n",
       "warmup_ratio=0.0,\n",
       "warmup_steps=0,\n",
       "weight_decay=0.0,\n",
       ")"
      ]
     },
     "execution_count": 31,
     "metadata": {},
     "output_type": "execute_result"
    }
   ],
   "source": [
    "training_args.per_device_eval_batch_size=8\n",
    "training_args.per_device_train_batch_size=8\n",
    "training_args"
   ]
  },
  {
   "cell_type": "code",
   "execution_count": 32,
   "id": "e80480ec",
   "metadata": {},
   "outputs": [],
   "source": [
    "# data_splits = {'train': None, 'validation': None, 'test': None}\n",
    "# original_data_splits = {'train': None, 'validation': None, 'test': None}  \n",
    "# data_args.io_format=\"t5_fewshot_infilling_with_choices\"\n",
    "# # Data loading from huggingface's datasets\n",
    "# if data_args.task_name in {\"cos_e\", \"esnli\"}:\n",
    "#     version_arg = None\n",
    "#     if data_args.task_name == \"cos_e\":\n",
    "#         assert data_args.version_name in {\"v1.11\", \"v1.0\"}\n",
    "#         version_arg = data_args.version_name\n",
    "\n",
    "#     load_train = True\n",
    "#     if (not training_args.do_train\n",
    "#         and not training_args.do_eval\n",
    "#         and not data_args.train_predict\n",
    "#     ):\n",
    "#         # don't load training dataset\n",
    "#         dataset = {}\n",
    "#         dataset[\"train\"] = None\n",
    "#         dataset[\"validation\"] = datasets.load_dataset(\n",
    "#             data_args.task_name, version_arg, split=\"validation\"\n",
    "#         )\n",
    "#         data_splits['validation'] = dataset[\"validation\"]\n",
    "\n",
    "#         if data_args.task_name == \"esnli\":\n",
    "#             dataset[\"test\"] = datasets.load_dataset(data_args.task_name, split=\"test\")\n",
    "#             data_splits['test'] = dataset[\"test\"]\n",
    "#         load_train = False\n",
    "#     else:\n",
    "#         dataset = datasets.load_dataset(data_args.task_name, version_arg)\n",
    "\n",
    "#         if data_args.n_shots > 0: # Shots = number of training examples **per label** \n",
    "#             if data_args.task_name == 'esnli': # Construct a *balanced* random sample of the size `data_args.n_shots*len(labels)` (for train) or `data_args.fewshot_eval_size` (for eval)\n",
    "#                 for split in [\"train\", \"validation\", \"test\"]:\n",
    "#                     split_data = dataset[split]\n",
    "#                     label_subsets = []\n",
    "#                     labels = split_data.features['label'].names\n",
    "#                     sample_size = data_args.n_shots if split == \"train\" else int(data_args.fewshot_eval_size/len(labels))\n",
    "#                     if data_args.gpt3_max_eval_size is not None and split != 'train':\n",
    "#                         assert len(labels) == 3\n",
    "#                         sample_size = data_args.gpt3_max_eval_size // len(labels)\n",
    "#                     for label in labels:\n",
    "#                         # The following is a hack to only run on `neutral` labels of `esnli` to get data for human eval\n",
    "#                         # if data_args.gpt3_max_eval_size is not None and split != 'train' and label != 'neutral':\n",
    "#                         #     continue\n",
    "#                         label_int = split_data.features['label'].str2int(label)\n",
    "#                         label_set = split_data.filter(lambda example: example['label'] == label_int).shuffle() # all instances of labeled as `label`\n",
    "#                         label_subset = label_set.select(range(sample_size)) #select `sample_size` random instances labeled as `label`\n",
    "#                         label_subsets.append(label_subset)\n",
    "#                     dataset[split] = datasets.concatenate_datasets(label_subsets) #merge all label-specific instances\n",
    "#             elif data_args.task_name == 'cos_e': \n",
    "#                 for split in [\"train\", \"validation\"]: \n",
    "#                     split_data = dataset[split]\n",
    "#                     sample_size = data_args.n_shots if split == \"train\" else int(data_args.fewshot_eval_size) #Shots for QA are not label-specific, i.e., `n_shots` is the training data size\n",
    "#                     if data_args.gpt3_max_eval_size is not None and split != 'train':\n",
    "#                         sample_size = data_args.gpt3_max_eval_size\n",
    "#                     dataset[split] = split_data#.shuffle().select(range(sample_size)) # select `sample_size` random instances\n",
    "#             else: \n",
    "#                 raise ValueError('Only cos_e and esnli are supported by Huggingface datasets.')\n",
    "#     # Apply method, and format dataset to torch.Tensor outputs\n",
    "# #     fse_csqa_train_file=\"/cognitive_comp/huangyongfeng/evaluate_LM_with_rationalization/few_shot_explanations/data/acceptability_annotations/commonsenseqa_train.csv\"\n",
    "# #     fse_csqa_dev_file=\"/cognitive_comp/huangyongfeng/evaluate_LM_with_rationalization/few_shot_explanations/data/acceptability_annotations/commonsenseqa_test.csv\"\n",
    "# #     fse_csqa_train_dataset = datasets.load_dataset('csv', data_files=fse_csqa_train_file)\n",
    "# #     fse_csqa_dev_dataset = datasets.load_dataset('csv', data_files=fse_csqa_dev_file)\n",
    "# #     train_ids_list=[x['id'] for x in data_splits[\"train\"]]\n",
    "# #     dev_ids_list=[x['id'] for x in data_splits[\"validation\"]]\n",
    "# #     fse_train_ids_list=[x['Input.id'] for x in fse_csqa_train_dataset['train']]\n",
    "# #     fse_dev_ids_list=[x['Input.id'] for x in fse_csqa_dev_dataset['train']]\n",
    "# #     fse_train_indexs_list=[train_ids_list.index(id_) for id_ in fse_train_ids_list]\n",
    "# #     fse_dev_indexs_list=[dev_ids_list.index(id_) for id_ in fse_dev_ids_list]\n",
    "# #     print(len(fse_train_indexs_list), len(fse_dev_indexs_list))\n",
    "# #     # print(fse_train_indexs_list,fse_dev_indexs_list)\n",
    "# #     fse_data_splits={}\n",
    "# #     data_splits['train']=data_splits[\"train\"].select(fse_train_indexs_list)\n",
    "# #     data_splits['validation']=data_splits[\"validation\"].select(fse_train_indexs_list)\n",
    "#     for split in dataset.keys():\n",
    "#         if dataset[split] is not None:\n",
    "#             dataset[split] = dataset[split].map(\n",
    "#                 lambda x: format_instance(\n",
    "#                     x,\n",
    "#                     tokenizer,\n",
    "#                     data_args.explanation_sep,\n",
    "#                     datasource=data_args.task_name,\n",
    "#                     io_format=data_args.io_format\n",
    "#                 ),\n",
    "#                 batched=False,\n",
    "#                 load_from_cache_file=False,\n",
    "#             )\n",
    "#     data_splits[\"train\"] = deepcopy(dataset[\"train\"])\n",
    "#     data_splits[\"validation\"] = deepcopy(dataset[\"validation\"])\n",
    "#     if data_args.task_name == \"esnli\":\n",
    "#         data_splits[\"test\"] = deepcopy(dataset[\"test\"])\n",
    "\n",
    "#     original_data_splits[\"train\"] = deepcopy(dataset[\"train\"])\n",
    "#     original_data_splits[\"validation\"] = deepcopy(dataset[\"validation\"])\n",
    "#     if data_args.task_name == \"esnli\":\n",
    "#         original_data_splits[\"test\"] = deepcopy(dataset[\"test\"])"
   ]
  },
  {
   "cell_type": "code",
   "execution_count": 33,
   "id": "2f4cb867",
   "metadata": {},
   "outputs": [],
   "source": [
    "# import pandas as pd\n",
    "# # new_data_splits={'train': None, 'validation': None}\n",
    "# # new_data_splits['train']=deepcopy(dataset[\"train\"])\n",
    "# # new_data_splits['validation']=deepcopy(dataset[\"validation\"])\n",
    "# fse_csqa_train_file=\"/cognitive_comp/huangyongfeng/evaluate_LM_with_rationalization/few_shot_explanations/data/acceptability_annotations/commonsenseqa_train.csv\"\n",
    "# fse_csqa_dev_file=\"/cognitive_comp/huangyongfeng/evaluate_LM_with_rationalization/few_shot_explanations/data/acceptability_annotations/commonsenseqa_test.csv\"\n",
    "# # fse_csqa_train_dataset = datasets.load_dataset('csv', data_files=fse_csqa_train_file)\n",
    "# # fse_csqa_dev_dataset = datasets.load_dataset('csv', data_files=fse_csqa_dev_file)\n",
    "\n",
    "# train_df=pd.read_csv(fse_csqa_train_file)\n",
    "\n",
    "# dev_df=pd.read_csv(fse_csqa_dev_file)\n",
    "\n",
    "# dev_df\n"
   ]
  },
  {
   "cell_type": "code",
   "execution_count": 34,
   "id": "42739e9b",
   "metadata": {},
   "outputs": [],
   "source": [
    "# len(fse_train_ids_list),len(list(set(fse_train_ids_list)))"
   ]
  },
  {
   "cell_type": "code",
   "execution_count": 35,
   "id": "c78ea825",
   "metadata": {},
   "outputs": [],
   "source": [
    "# train_ids_list=[x['id'] for x in data_splits[\"train\"]]\n",
    "# dev_ids_list=[x['id'] for x in data_splits[\"validation\"]]\n",
    "# fse_train_ids_list=[x['Input.id'] for x in fse_csqa_train_dataset['train']]\n",
    "# fse_dev_ids_list=[x['Input.id'] for x in fse_csqa_dev_dataset['train']]\n"
   ]
  },
  {
   "cell_type": "code",
   "execution_count": 36,
   "id": "80395518",
   "metadata": {},
   "outputs": [],
   "source": [
    "# fse_train_indexs_list=[train_ids_list.index(id_) for id_ in fse_train_ids_list]\n",
    "# fse_dev_indexs_list=[dev_ids_list.index(id_) for id_ in fse_dev_ids_list]\n",
    "# print(len(fse_train_indexs_list), len(fse_dev_indexs_list))\n",
    "# # print(fse_train_indexs_list,fse_dev_indexs_list)\n",
    "# fse_data_splits={}\n",
    "# fse_data_splits['train']=data_splits[\"train\"].select(fse_train_indexs_list)\n",
    "# fse_data_splits['validation']=data_splits[\"validation\"].select(fse_train_indexs_list)"
   ]
  },
  {
   "cell_type": "code",
   "execution_count": 37,
   "id": "4d186954",
   "metadata": {},
   "outputs": [],
   "source": [
    "# fse_csqa_train_dataset['train'][0].keys()"
   ]
  },
  {
   "cell_type": "code",
   "execution_count": 38,
   "id": "66dd71d4",
   "metadata": {},
   "outputs": [],
   "source": [
    "class SequenceCollator:\n",
    "    def __init__(self, model, pad_token):\n",
    "        self.model = model\n",
    "        self.pad_token_mapping = {\n",
    "            \"labels\": -100,\n",
    "            \"attention_mask\": 0,\n",
    "            \"decoder_attention_mask\": 0,\n",
    "            \"input_ids\": pad_token,\n",
    "        }\n",
    "\n",
    "        self.columns = [\n",
    "            \"input_ids\",\n",
    "            \"attention_mask\",\n",
    "            \"labels\",\n",
    "            \"decoder_attention_mask\",\n",
    "        ]\n",
    "\n",
    "    def __call__(self, examples: List[Dict[str, InputDataClass]]) -> Dict[str, torch.Tensor]:\n",
    "        # re-format inputs for training\n",
    "        batch = {}\n",
    "        for key in examples[0].keys():\n",
    "            if key in self.columns:\n",
    "                tmp_list = []\n",
    "                for item in examples:\n",
    "                    tmp_list.append(item[key])\n",
    "\n",
    "                # pad lists to max length\n",
    "                if isinstance(tmp_list[0], list):\n",
    "                    max_length = max(map(len, tmp_list))\n",
    "                    tmp_list = [\n",
    "                        el + [self.pad_token_mapping[key]] * (max_length - len(el))\n",
    "                        for el in tmp_list\n",
    "                    ]\n",
    "\n",
    "                batch[key] = torch.tensor(tmp_list, dtype=torch.long)\n",
    "        return batch"
   ]
  },
  {
   "cell_type": "code",
   "execution_count": 39,
   "id": "f144515d",
   "metadata": {},
   "outputs": [
    {
     "name": "stderr",
     "output_type": "stream",
     "text": [
      "You are adding a <class 'transformers.integrations.TensorBoardCallback'> to the callbacks of this Trainer, but there is already one. The currentlist of callbacks is\n",
      ":DefaultFlowCallback\n",
      "TensorBoardCallback\n",
      "WandbCallback\n",
      "The following columns in the training set  don't have a corresponding argument in `T5ForConditionalGeneration.forward` and have been ignored: answer, choices, id, extractive_explanation, question, question_encoding, our_explanation, abstractive_explanation.\n",
      "***** Running training *****\n",
      "  Num examples = 48\n",
      "  Num Epochs = 25\n",
      "  Instantaneous batch size per device = 8\n",
      "  Total train batch size (w. parallel, distributed & accumulation) = 8\n",
      "  Gradient Accumulation steps = 1\n",
      "  Total optimization steps = 150\n",
      "Automatic Weights & Biases logging enabled, to disable set os.environ[\"WANDB_DISABLED\"] = \"true\"\n"
     ]
    },
    {
     "data": {
      "text/html": [
       "Changes to your `wandb` environment variables will be ignored because your `wandb` session has already started. For more information on how to modify your settings with `wandb.init()` arguments, please refer to <a href=\"https://wandb.me/wandb-init\" target=\"_blank\">the W&B docs</a>."
      ],
      "text/plain": [
       "<IPython.core.display.HTML object>"
      ]
     },
     "metadata": {},
     "output_type": "display_data"
    },
    {
     "data": {
      "application/vnd.jupyter.widget-view+json": {
       "model_id": "572638e0469a4f0aba9999a1db4d083b",
       "version_major": 2,
       "version_minor": 0
      },
      "text/plain": [
       "VBox(children=(Label(value='Waiting for wandb.init()...\\r'), FloatProgress(value=0.01673481800001658, max=1.0)…"
      ]
     },
     "metadata": {},
     "output_type": "display_data"
    },
    {
     "data": {
      "text/html": [
       "wandb version 0.13.8 is available!  To upgrade, please run:\n",
       " $ pip install wandb --upgrade"
      ],
      "text/plain": [
       "<IPython.core.display.HTML object>"
      ]
     },
     "metadata": {},
     "output_type": "display_data"
    },
    {
     "data": {
      "text/html": [
       "Tracking run with wandb version 0.13.5"
      ],
      "text/plain": [
       "<IPython.core.display.HTML object>"
      ]
     },
     "metadata": {},
     "output_type": "display_data"
    },
    {
     "data": {
      "text/html": [
       "Run data is saved locally in <code>/cognitive_comp/huangyongfeng/evaluate_LM_with_rationalization/scripts/wandb/run-20230113_014033-ks3gy20q</code>"
      ],
      "text/plain": [
       "<IPython.core.display.HTML object>"
      ]
     },
     "metadata": {},
     "output_type": "display_data"
    },
    {
     "data": {
      "text/html": [
       "Syncing run <strong><a href=\"https://wandb.ai/cuhk_lavilab/evaluate_LM_with_rationalization/runs/ks3gy20q\" target=\"_blank\">./cos_e_output_t5_large</a></strong> to <a href=\"https://wandb.ai/cuhk_lavilab/evaluate_LM_with_rationalization\" target=\"_blank\">Weights & Biases</a> (<a href=\"https://wandb.me/run\" target=\"_blank\">docs</a>)<br/>"
      ],
      "text/plain": [
       "<IPython.core.display.HTML object>"
      ]
     },
     "metadata": {},
     "output_type": "display_data"
    },
    {
     "data": {
      "text/html": [
       "\n",
       "    <div>\n",
       "      \n",
       "      <progress value='150' max='150' style='width:300px; height:20px; vertical-align: middle;'></progress>\n",
       "      [150/150 05:00, Epoch 25/25]\n",
       "    </div>\n",
       "    <table border=\"1\" class=\"dataframe\">\n",
       "  <thead>\n",
       "    <tr style=\"text-align: left;\">\n",
       "      <th>Step</th>\n",
       "      <th>Training Loss</th>\n",
       "      <th>Validation Loss</th>\n",
       "    </tr>\n",
       "  </thead>\n",
       "  <tbody>\n",
       "  </tbody>\n",
       "</table><p>"
      ],
      "text/plain": [
       "<IPython.core.display.HTML object>"
      ]
     },
     "metadata": {},
     "output_type": "display_data"
    },
    {
     "name": "stderr",
     "output_type": "stream",
     "text": [
      "Saving model checkpoint to ./cos_e_output_t5_large/011323_014008/checkpoint-5\n",
      "Configuration saved in ./cos_e_output_t5_large/011323_014008/checkpoint-5/config.json\n",
      "Model weights saved in ./cos_e_output_t5_large/011323_014008/checkpoint-5/pytorch_model.bin\n",
      "Saving model checkpoint to ./cos_e_output_t5_large/011323_014008/checkpoint-10\n",
      "Configuration saved in ./cos_e_output_t5_large/011323_014008/checkpoint-10/config.json\n",
      "Model weights saved in ./cos_e_output_t5_large/011323_014008/checkpoint-10/pytorch_model.bin\n",
      "Saving model checkpoint to ./cos_e_output_t5_large/011323_014008/checkpoint-15\n",
      "Configuration saved in ./cos_e_output_t5_large/011323_014008/checkpoint-15/config.json\n",
      "Model weights saved in ./cos_e_output_t5_large/011323_014008/checkpoint-15/pytorch_model.bin\n",
      "Saving model checkpoint to ./cos_e_output_t5_large/011323_014008/checkpoint-20\n",
      "Configuration saved in ./cos_e_output_t5_large/011323_014008/checkpoint-20/config.json\n",
      "Model weights saved in ./cos_e_output_t5_large/011323_014008/checkpoint-20/pytorch_model.bin\n",
      "Saving model checkpoint to ./cos_e_output_t5_large/011323_014008/checkpoint-25\n",
      "Configuration saved in ./cos_e_output_t5_large/011323_014008/checkpoint-25/config.json\n",
      "Model weights saved in ./cos_e_output_t5_large/011323_014008/checkpoint-25/pytorch_model.bin\n",
      "Saving model checkpoint to ./cos_e_output_t5_large/011323_014008/checkpoint-30\n",
      "Configuration saved in ./cos_e_output_t5_large/011323_014008/checkpoint-30/config.json\n",
      "Model weights saved in ./cos_e_output_t5_large/011323_014008/checkpoint-30/pytorch_model.bin\n",
      "Saving model checkpoint to ./cos_e_output_t5_large/011323_014008/checkpoint-35\n",
      "Configuration saved in ./cos_e_output_t5_large/011323_014008/checkpoint-35/config.json\n",
      "Model weights saved in ./cos_e_output_t5_large/011323_014008/checkpoint-35/pytorch_model.bin\n",
      "Saving model checkpoint to ./cos_e_output_t5_large/011323_014008/checkpoint-40\n",
      "Configuration saved in ./cos_e_output_t5_large/011323_014008/checkpoint-40/config.json\n",
      "Model weights saved in ./cos_e_output_t5_large/011323_014008/checkpoint-40/pytorch_model.bin\n",
      "Saving model checkpoint to ./cos_e_output_t5_large/011323_014008/checkpoint-45\n",
      "Configuration saved in ./cos_e_output_t5_large/011323_014008/checkpoint-45/config.json\n",
      "Model weights saved in ./cos_e_output_t5_large/011323_014008/checkpoint-45/pytorch_model.bin\n",
      "Saving model checkpoint to ./cos_e_output_t5_large/011323_014008/checkpoint-50\n",
      "Configuration saved in ./cos_e_output_t5_large/011323_014008/checkpoint-50/config.json\n",
      "Model weights saved in ./cos_e_output_t5_large/011323_014008/checkpoint-50/pytorch_model.bin\n",
      "Saving model checkpoint to ./cos_e_output_t5_large/011323_014008/checkpoint-55\n",
      "Configuration saved in ./cos_e_output_t5_large/011323_014008/checkpoint-55/config.json\n",
      "Model weights saved in ./cos_e_output_t5_large/011323_014008/checkpoint-55/pytorch_model.bin\n",
      "Saving model checkpoint to ./cos_e_output_t5_large/011323_014008/checkpoint-60\n",
      "Configuration saved in ./cos_e_output_t5_large/011323_014008/checkpoint-60/config.json\n",
      "Model weights saved in ./cos_e_output_t5_large/011323_014008/checkpoint-60/pytorch_model.bin\n",
      "Saving model checkpoint to ./cos_e_output_t5_large/011323_014008/checkpoint-65\n",
      "Configuration saved in ./cos_e_output_t5_large/011323_014008/checkpoint-65/config.json\n",
      "Model weights saved in ./cos_e_output_t5_large/011323_014008/checkpoint-65/pytorch_model.bin\n",
      "Saving model checkpoint to ./cos_e_output_t5_large/011323_014008/checkpoint-70\n",
      "Configuration saved in ./cos_e_output_t5_large/011323_014008/checkpoint-70/config.json\n",
      "Model weights saved in ./cos_e_output_t5_large/011323_014008/checkpoint-70/pytorch_model.bin\n",
      "Saving model checkpoint to ./cos_e_output_t5_large/011323_014008/checkpoint-75\n",
      "Configuration saved in ./cos_e_output_t5_large/011323_014008/checkpoint-75/config.json\n",
      "Model weights saved in ./cos_e_output_t5_large/011323_014008/checkpoint-75/pytorch_model.bin\n",
      "Saving model checkpoint to ./cos_e_output_t5_large/011323_014008/checkpoint-80\n",
      "Configuration saved in ./cos_e_output_t5_large/011323_014008/checkpoint-80/config.json\n",
      "Model weights saved in ./cos_e_output_t5_large/011323_014008/checkpoint-80/pytorch_model.bin\n",
      "Saving model checkpoint to ./cos_e_output_t5_large/011323_014008/checkpoint-85\n",
      "Configuration saved in ./cos_e_output_t5_large/011323_014008/checkpoint-85/config.json\n",
      "Model weights saved in ./cos_e_output_t5_large/011323_014008/checkpoint-85/pytorch_model.bin\n",
      "Saving model checkpoint to ./cos_e_output_t5_large/011323_014008/checkpoint-90\n",
      "Configuration saved in ./cos_e_output_t5_large/011323_014008/checkpoint-90/config.json\n",
      "Model weights saved in ./cos_e_output_t5_large/011323_014008/checkpoint-90/pytorch_model.bin\n",
      "Saving model checkpoint to ./cos_e_output_t5_large/011323_014008/checkpoint-95\n",
      "Configuration saved in ./cos_e_output_t5_large/011323_014008/checkpoint-95/config.json\n",
      "Model weights saved in ./cos_e_output_t5_large/011323_014008/checkpoint-95/pytorch_model.bin\n",
      "Saving model checkpoint to ./cos_e_output_t5_large/011323_014008/checkpoint-100\n",
      "Configuration saved in ./cos_e_output_t5_large/011323_014008/checkpoint-100/config.json\n",
      "Model weights saved in ./cos_e_output_t5_large/011323_014008/checkpoint-100/pytorch_model.bin\n",
      "Saving model checkpoint to ./cos_e_output_t5_large/011323_014008/checkpoint-105\n",
      "Configuration saved in ./cos_e_output_t5_large/011323_014008/checkpoint-105/config.json\n",
      "Model weights saved in ./cos_e_output_t5_large/011323_014008/checkpoint-105/pytorch_model.bin\n",
      "Saving model checkpoint to ./cos_e_output_t5_large/011323_014008/checkpoint-110\n",
      "Configuration saved in ./cos_e_output_t5_large/011323_014008/checkpoint-110/config.json\n",
      "Model weights saved in ./cos_e_output_t5_large/011323_014008/checkpoint-110/pytorch_model.bin\n",
      "Saving model checkpoint to ./cos_e_output_t5_large/011323_014008/checkpoint-115\n",
      "Configuration saved in ./cos_e_output_t5_large/011323_014008/checkpoint-115/config.json\n",
      "Model weights saved in ./cos_e_output_t5_large/011323_014008/checkpoint-115/pytorch_model.bin\n",
      "Saving model checkpoint to ./cos_e_output_t5_large/011323_014008/checkpoint-120\n",
      "Configuration saved in ./cos_e_output_t5_large/011323_014008/checkpoint-120/config.json\n",
      "Model weights saved in ./cos_e_output_t5_large/011323_014008/checkpoint-120/pytorch_model.bin\n",
      "Saving model checkpoint to ./cos_e_output_t5_large/011323_014008/checkpoint-125\n",
      "Configuration saved in ./cos_e_output_t5_large/011323_014008/checkpoint-125/config.json\n",
      "Model weights saved in ./cos_e_output_t5_large/011323_014008/checkpoint-125/pytorch_model.bin\n",
      "Saving model checkpoint to ./cos_e_output_t5_large/011323_014008/checkpoint-130\n",
      "Configuration saved in ./cos_e_output_t5_large/011323_014008/checkpoint-130/config.json\n",
      "Model weights saved in ./cos_e_output_t5_large/011323_014008/checkpoint-130/pytorch_model.bin\n",
      "Saving model checkpoint to ./cos_e_output_t5_large/011323_014008/checkpoint-135\n",
      "Configuration saved in ./cos_e_output_t5_large/011323_014008/checkpoint-135/config.json\n",
      "Model weights saved in ./cos_e_output_t5_large/011323_014008/checkpoint-135/pytorch_model.bin\n",
      "Saving model checkpoint to ./cos_e_output_t5_large/011323_014008/checkpoint-140\n",
      "Configuration saved in ./cos_e_output_t5_large/011323_014008/checkpoint-140/config.json\n",
      "Model weights saved in ./cos_e_output_t5_large/011323_014008/checkpoint-140/pytorch_model.bin\n",
      "Saving model checkpoint to ./cos_e_output_t5_large/011323_014008/checkpoint-145\n",
      "Configuration saved in ./cos_e_output_t5_large/011323_014008/checkpoint-145/config.json\n",
      "Model weights saved in ./cos_e_output_t5_large/011323_014008/checkpoint-145/pytorch_model.bin\n",
      "Saving model checkpoint to ./cos_e_output_t5_large/011323_014008/checkpoint-150\n",
      "Configuration saved in ./cos_e_output_t5_large/011323_014008/checkpoint-150/config.json\n",
      "Model weights saved in ./cos_e_output_t5_large/011323_014008/checkpoint-150/pytorch_model.bin\n",
      "\n",
      "\n",
      "Training completed. Do not forget to share your model on huggingface.co/models =)\n",
      "\n",
      "\n"
     ]
    },
    {
     "data": {
      "text/html": [
       "Waiting for W&B process to finish... <strong style=\"color:green\">(success).</strong>"
      ],
      "text/plain": [
       "<IPython.core.display.HTML object>"
      ]
     },
     "metadata": {},
     "output_type": "display_data"
    },
    {
     "data": {
      "text/html": [
       "<style>\n",
       "    table.wandb td:nth-child(1) { padding: 0 10px; text-align: left ; width: auto;} td:nth-child(2) {text-align: left ; width: 100%}\n",
       "    .wandb-row { display: flex; flex-direction: row; flex-wrap: wrap; justify-content: flex-start; width: 100% }\n",
       "    .wandb-col { display: flex; flex-direction: column; flex-basis: 100%; flex: 1; padding: 10px; }\n",
       "    </style>\n",
       "<div class=\"wandb-row\"><div class=\"wandb-col\"><h3>Run history:</h3><br/><table class=\"wandb\"><tr><td>train/epoch</td><td>▁▁▁▁▂▂▂▂▂▃▃▃▃▃▃▄▄▄▄▄▅▅▅▅▅▆▆▆▆▆▆▇▇▇▇▇████</td></tr><tr><td>train/global_step</td><td>▁▁▁▁▂▂▂▂▂▃▃▃▃▃▃▄▄▄▄▄▅▅▅▅▅▆▆▆▆▆▆▇▇▇▇▇████</td></tr><tr><td>train/learning_rate</td><td>████▇▇▇▇▇▆▆▆▆▆▆▅▅▅▅▅▄▄▄▄▄▄▃▃▃▃▃▃▂▂▂▂▂▁▁▁</td></tr><tr><td>train/loss</td><td>█▆▄▂▂▂▂▂▁▁▁▁▁▁▁▁▁▁▁▁▁▁▁▁▁▁▁▁▁▁▁▁▁▁▁▁▁▁▁▁</td></tr><tr><td>train/total_flos</td><td>▁</td></tr><tr><td>train/train_loss</td><td>▁</td></tr><tr><td>train/train_runtime</td><td>▁</td></tr><tr><td>train/train_samples_per_second</td><td>▁</td></tr><tr><td>train/train_steps_per_second</td><td>▁</td></tr></table><br/></div><div class=\"wandb-col\"><h3>Run summary:</h3><br/><table class=\"wandb\"><tr><td>train/epoch</td><td>25.0</td></tr><tr><td>train/global_step</td><td>150</td></tr><tr><td>train/learning_rate</td><td>0.0</td></tr><tr><td>train/loss</td><td>2.1149</td></tr><tr><td>train/total_flos</td><td>55614982348800.0</td></tr><tr><td>train/train_loss</td><td>3.00311</td></tr><tr><td>train/train_runtime</td><td>310.0761</td></tr><tr><td>train/train_samples_per_second</td><td>3.87</td></tr><tr><td>train/train_steps_per_second</td><td>0.484</td></tr></table><br/></div></div>"
      ],
      "text/plain": [
       "<IPython.core.display.HTML object>"
      ]
     },
     "metadata": {},
     "output_type": "display_data"
    },
    {
     "data": {
      "text/html": [
       "Synced <strong style=\"color:#cdcd00\">./cos_e_output_t5_large</strong>: <a href=\"https://wandb.ai/cuhk_lavilab/evaluate_LM_with_rationalization/runs/ks3gy20q\" target=\"_blank\">https://wandb.ai/cuhk_lavilab/evaluate_LM_with_rationalization/runs/ks3gy20q</a><br/>Synced 6 W&B file(s), 0 media file(s), 0 artifact file(s) and 0 other file(s)"
      ],
      "text/plain": [
       "<IPython.core.display.HTML object>"
      ]
     },
     "metadata": {},
     "output_type": "display_data"
    },
    {
     "data": {
      "text/html": [
       "Find logs at: <code>./wandb/run-20230113_014033-ks3gy20q/logs</code>"
      ],
      "text/plain": [
       "<IPython.core.display.HTML object>"
      ]
     },
     "metadata": {},
     "output_type": "display_data"
    }
   ],
   "source": [
    "# os.environ[\"WANDB_DISABLED\"] = \"True\"\n",
    "if data_args.generations_filepath is None:\n",
    "    callbacks = [TensorBoardCallback()]\n",
    "    if data_args.early_stopping_patience > 0:\n",
    "        callbacks.append(EarlyStoppingCallback(early_stopping_patience=data_args.early_stopping_patience))\n",
    "        training_args.load_best_model_at_end = True\n",
    "    else:\n",
    "        training_args.load_best_model_at_end = False  # use the last model state\n",
    "    training_args.metric_for_best_model = 'eval_loss'\n",
    "    training_args.greater_is_better = False\n",
    "    if training_args.eval_steps is None:\n",
    "        training_args.evaluation_strategy = EvaluationStrategy.EPOCH\n",
    "    else:\n",
    "        training_args.evaluation_strategy = EvaluationStrategy.STEPS\n",
    "\n",
    "    trainer = Trainer(\n",
    "        model=model,\n",
    "        args=training_args,\n",
    "        train_dataset=our_data_splits['train'],\n",
    "        eval_dataset=our_data_splits['dev'],\n",
    "        data_collator=SequenceCollator(\n",
    "            model=model_class, pad_token=tokenizer.pad_token_id\n",
    "        ),\n",
    "        callbacks=callbacks,\n",
    "    )\n",
    "\n",
    "# Training. Don't train if it is use_gpt3\n",
    "if training_args.do_train and not model_args.use_gpt3:\n",
    "    start_time = time.time()\n",
    "    trainer.train()\n",
    "    train_time = time.time() - start_time\n",
    "    model = trainer.model\n",
    "    wandb.finish()\n",
    "else:\n",
    "    start_time = time.time()\n",
    "    train_time = time.time() - start_time"
   ]
  },
  {
   "cell_type": "code",
   "execution_count": 40,
   "id": "ade3c632",
   "metadata": {},
   "outputs": [],
   "source": [
    "# print(our_data_splits['dev'][0]['our_explanation'])\n",
    "# inp_ids=torch.tensor(our_data_splits['dev'][0][\"input_ids\"], device=model.device).reshape(1, -1)\n",
    "# out = model.generate(\n",
    "#                     inp_ids,\n",
    "#                     max_length=100,\n",
    "#                     pad_token_id=tokenizer.pad_token_id,\n",
    "#                     eos_token_id=tokenizer.eos_token_id,\n",
    "#                 )\n",
    "# skip_special_tokens = False if \"infilling\" in data_args.io_format else True\n",
    "# words = tokenizer.decode(out[0].tolist(), skip_special_tokens=skip_special_tokens)\n",
    "# print(words)"
   ]
  },
  {
   "cell_type": "code",
   "execution_count": 41,
   "id": "b88935f8",
   "metadata": {},
   "outputs": [],
   "source": [
    "# len(our_data_splits['dev']),len(our_data_splits['train'])"
   ]
  },
  {
   "cell_type": "code",
   "execution_count": 42,
   "id": "8eda472b",
   "metadata": {},
   "outputs": [],
   "source": [
    "# our_data_splits['dev']"
   ]
  },
  {
   "cell_type": "code",
   "execution_count": 43,
   "id": "77c15190",
   "metadata": {},
   "outputs": [],
   "source": [
    "# for da in our_data_splits['train']:\n",
    "#     print(\"*******\")\n",
    "#     print(\"question: {}\".format(da['question']))\n",
    "#     print(\"answer: {}\".format(da['answer']))\n",
    "#     print(\"choices: {}\".format(da['choices']))\n",
    "#     print(\"our_explanation: {}\".format(da['our_explanation']))\n",
    "#     inp_ids = torch.tensor(da[\"input_ids\"], device=model.device).reshape(1, -1)\n",
    "#     out = model.generate(\n",
    "#                     inp_ids,\n",
    "#                     max_length=100,\n",
    "#                     pad_token_id=tokenizer.pad_token_id,\n",
    "#                     eos_token_id=tokenizer.eos_token_id,\n",
    "#                 )\n",
    "#     skip_special_tokens = False if \"infilling\" in data_args.io_format else True\n",
    "#     words = tokenizer.decode(out[0].tolist(), skip_special_tokens=skip_special_tokens)\n",
    "#     print(\"generated explanation: {}\".format(words))\n",
    "#     print(\"#######\")"
   ]
  },
  {
   "cell_type": "code",
   "execution_count": 44,
   "id": "2ca6cbe4",
   "metadata": {},
   "outputs": [],
   "source": [
    "# for da in our_data_splits['dev']:\n",
    "#     print(\"*******\")\n",
    "#     print(\"question: {}\".format(da['question']))\n",
    "#     print(\"answer: {}\".format(da['answer']))\n",
    "#     print(\"choices: {}\".format(da['choices']))\n",
    "#     print(\"our_explanation: {}\".format(da['our_explanation']))\n",
    "#     inp_ids = torch.tensor(da[\"input_ids\"], device=model.device).reshape(1, -1)\n",
    "#     out = model.generate(\n",
    "#                     inp_ids,\n",
    "#                     max_length=100,\n",
    "#                     pad_token_id=tokenizer.pad_token_id,\n",
    "#                     eos_token_id=tokenizer.eos_token_id,\n",
    "#                 )\n",
    "#     skip_special_tokens = False if \"infilling\" in data_args.io_format else True\n",
    "#     words = tokenizer.decode(out[0].tolist(), skip_special_tokens=skip_special_tokens)\n",
    "#     print(\"generated explanation: {}\".format(words))\n",
    "#     print(\"#######\")"
   ]
  },
  {
   "cell_type": "code",
   "execution_count": 45,
   "id": "69977540",
   "metadata": {},
   "outputs": [],
   "source": [
    "# good_model = T5ForConditionalGeneration.from_pretrained(\"./cos_e_output_t5_3b/112022_235539/checkpoint-30\")"
   ]
  },
  {
   "cell_type": "code",
   "execution_count": 46,
   "id": "62fca4b8",
   "metadata": {},
   "outputs": [],
   "source": [
    "# for da in our_data_splits['dev']:\n",
    "#     print(\"*******\")\n",
    "#     print(\"question: {}\".format(da['question']))\n",
    "#     print(\"answer: {}\".format(da['answer']))\n",
    "#     print(\"choices: {}\".format(da['choices']))\n",
    "#     print(\"our_explanation: {}\".format(da['our_explanation']))\n",
    "#     inp_ids = torch.tensor(da[\"input_ids\"], device=model.device).reshape(1, -1)\n",
    "#     out = good_model.generate(\n",
    "#                     inp_ids,\n",
    "#                     max_length=100,\n",
    "#                     pad_token_id=tokenizer.pad_token_id,\n",
    "#                     eos_token_id=tokenizer.eos_token_id,\n",
    "#                 )\n",
    "#     skip_special_tokens = False if \"infilling\" in data_args.io_format else True\n",
    "#     words = tokenizer.decode(out[0].tolist(), skip_special_tokens=skip_special_tokens)\n",
    "#     print(\"generated explanation: {}\".format(words))\n",
    "#     print(\"#######\")"
   ]
  },
  {
   "cell_type": "code",
   "execution_count": 47,
   "id": "3a7de102",
   "metadata": {},
   "outputs": [],
   "source": [
    "# train_output = trainer.evaluate(our_data_splits['train'].select([0,1,2,3,4]))\n",
    "# train_output"
   ]
  },
  {
   "cell_type": "code",
   "execution_count": 48,
   "id": "f43528ca",
   "metadata": {},
   "outputs": [],
   "source": [
    "# results = {}\n",
    "# if training_args.do_eval:\n",
    "#     start_time = time.time()\n",
    "#     logger.info(\"*** Evaluate on train set***\")\n",
    "#     logger.info(len(data_splits['train']))\n",
    "#     train_output = trainer.evaluate(our_data_splits['train'])\n",
    "#     perplexity = math.exp(train_output[\"eval_loss\"])\n",
    "#     results[\"perplexity_train\"] = perplexity\n",
    "\n",
    "#     # repeat\n",
    "#     logger.info(\"*** Evaluate on dev set***\")\n",
    "#     logger.info(len(data_splits['validation']))\n",
    "#     eval_output = trainer.evaluate(data_splits['validation'])\n",
    "#     perplexity = math.exp(eval_output[\"eval_loss\"])\n",
    "#     results[\"perplexity_validation\"] = perplexity"
   ]
  },
  {
   "cell_type": "markdown",
   "id": "3d2d2ec9",
   "metadata": {},
   "source": [
    "# Rationale Discriminator"
   ]
  },
  {
   "cell_type": "markdown",
   "id": "bd5eeaa4",
   "metadata": {},
   "source": [
    "## Construction of generated rationale and accepted rationale pairs\n"
   ]
  },
  {
   "cell_type": "code",
   "execution_count": 49,
   "id": "e7f1c257",
   "metadata": {},
   "outputs": [
    {
     "data": {
      "text/plain": [
       "250"
      ]
     },
     "execution_count": 49,
     "metadata": {},
     "output_type": "execute_result"
    }
   ],
   "source": [
    "len(fse_csqa_dev_data_dict)"
   ]
  },
  {
   "cell_type": "code",
   "execution_count": 50,
   "id": "c7bcb573",
   "metadata": {},
   "outputs": [
    {
     "name": "stderr",
     "output_type": "stream",
     "text": [
      "\r",
      "  0%|                                                                                                                                                                               | 0/986 [00:00<?, ?it/s]"
     ]
    },
    {
     "name": "stdout",
     "output_type": "stream",
     "text": [
      "*******\n",
      "question: Where can you likely buy many poems?\n",
      "answer: book store\n",
      "choices: ['book of poetry', 'literature book', 'book store', 'poetry book', 'bookshelf']\n",
      "common expl list: ['A book store is a place where you can buy books, including poetry books.', 'A bookstore sells a variety of books, including poetry books; chains of bookstores sometimes specialize in categories such as poetry or literature.']\n"
     ]
    },
    {
     "name": "stderr",
     "output_type": "stream",
     "text": [
      "\r",
      "  0%|▏                                                                                                                                                                  | 1/986 [01:56<31:47:19, 116.18s/it]"
     ]
    },
    {
     "name": "stdout",
     "output_type": "stream",
     "text": [
      "generated explanation: <pad> <extra_id_0> You can likely buy many poems at a book store. Book store is a great place to buy poems because it is a great place to get a taste of poetry. It is also a great place to buy poems that are written in a book. A book store is a great place to buy poems because it is a place to buy a book and it is a great place to buy poems that are written in a book. It is also a great place to buy poems that are written in a book store. A book store can be purchased in the event of a book store is a great place to purchase poems that are written in a book store. Book store can also be purchased in the store to purchase poems that are written in a book that is a book store is a great place to purchase many poems that are written in a book store. Book store can also be purchased in the book store to purchase poems that are written in a book that is written in the book. It can also be purchased in the book store. The book is usually sold in the same book store. The book store is a book store is a book store is a book store is a book store is a book store is a book store is a book store. The book store is a book store is a great place to buy a great place to purchase a book store to purchase a book store to purchase a book store to purchase a book store to purchase a book store is a book store to purchase a book store to purchase a book store to purchase a book store to purchase a book store to purchase</s>\n",
      "########\n",
      "*******\n",
      "question: What could bringing suit do to a rivalry?\n",
      "answer: aggravation\n",
      "choices: ['going to court', 'randomness', 'anger', 'aggravation', 'tensions']\n",
      "common expl list: ['Bringing suit against a rival could aggravate the rivalry.']\n"
     ]
    },
    {
     "name": "stderr",
     "output_type": "stream",
     "text": [
      "\r",
      "  0%|▎                                                                                                                                                                  | 2/986 [05:05<43:27:21, 158.98s/it]"
     ]
    },
    {
     "name": "stdout",
     "output_type": "stream",
     "text": [
      "generated explanation: <pad> <extra_id_0> A suit can cause a rivalry between two parties, and a rivalry between two parties can cause a rivalry. A suit can also cause a rivalry. This can cause a rivalry to escalate into a fight. A suit can cause a rivalry and a rivalry. A suit can cause a rivalry. A suit can cause a rivalry to escalate and escalate. A suit can also cause a rivalry between two parties, and can cause a rivalry. A suit can also cause a rivalry between two parties, and a rivalry can cause a rivalry. A suit can also cause a rivalry, and it can also cause a rivalry. A suit can cause a rivalry, and a rivalry, and a rivalry, and it can cause a rivalry. A suit can also cause a rivalry. A suit can also cause a rivalry. A suit can also cause a rivalry. A suit can cause a rivalry between rivalry can also cause a rivalry can also cause a rivalry. A suit can cause a rivalry. A rivalry can cause a rivalry between rivalry between rivalry between rivalry. A suit can cause a rivalry between rivalry. A suit can also cause a suit can cause a rivalry can also cause a rivalry between rivalry between rivalry between rivalry between rivalry between rivalry between rivalry between rivalry between rivalry between rivalry between rivalry. The suit can cause a rivalry between rivalry that can lead to a rivalry between rivalry between rivalry between rivalry between rivalry between rivalry. The rivalry between rivalry between rivalry between rivalry between rivalry between rivalry between rivalry between rivalry between rivalry. The rivalry is a rivalry between rivalry between rivalry between rivalry between rivalry between rivalry between rivalry is a rivalry between rivalry. The rivalry is often the rivalry between rivalry between rivalry between rivalry between rivalry between rivalry is a rivalry. The rivalry is a rivalry is a rivalry between rivalry is a rivalry between rivalry. The rivalry is a rivalry between rivalry is a rivalry between rivalry between rivalry between rivalry is\n",
      "########\n",
      "*******\n",
      "question: A person who yawns and paces to help pass the time is likely feeling what?\n",
      "answer: boredom\n",
      "choices: ['ridiculous', 'excitement', 'meanness', 'terrorism', 'boredom']\n",
      "common expl list: ['A bored person would pace and yawn to make time go by faster.', 'Yawning and pacing is a sign of being bored, etc...', 'By yawning and pacing one shows signs of being bored.']\n"
     ]
    },
    {
     "name": "stderr",
     "output_type": "stream",
     "text": [
      "\r",
      "  0%|▍                                                                                                                                                                  | 3/986 [09:13<54:36:06, 199.97s/it]"
     ]
    },
    {
     "name": "stdout",
     "output_type": "stream",
     "text": [
      "generated explanation: <pad> <extra_id_0> A person who yawns and paces to help pass the time is likely feeling boredom. This is because boredom is a common emotion among people who are prone to boredom. This is because boredom is a common and common emotion that can be easily overcome by a variety of means, including walking, talking, and pacing. This is because boredom is often a result of a lack of sleep and a lack of sleep. It is a common sense that people feel boredom when they are tired. Having a tendency to yawns and paces to help them to help them to help them to keep track of time, boredom is a common sense, and is a common sense, and it can be a timer. It can also be a good motivating and motivating factor in a person who is likely to feel bored. YAWN and paces to help them to pass the time without stopping to help them to keep track of their thoughts and feelings of boredom. This is why people are often bored and to help them to keep track of their time and to help themselves. When someone who is bored or bored is often a good time and that is why they are able to keep track of their time and time again. It can be a good way to keep track of their time. This can cause boredom. This can be a good way to keep track of the time. This can be a person to keep track of time and to keep track of their time. This can also be a good time. This can be a person to keep track of time. This can be a person to keep track of time. This can be a person to keep track of the time. This can be a good time. When a person to keep track of time. When a person who is a person to keep track of time. When a person to keep track of time and time. This can be a person to keep track of their time and time. This can lead to boredom, a person to keep track of the time. This can be a person from feeling a person from feeling bored. When a person's time. When a time, a person's time to relax, a person to keep track of time. This is because it is a person's\n",
      "########\n",
      "*******\n",
      "question: I only like fiction books, why should I read a non-fiction book?\n",
      "answer: knowledge\n",
      "choices: ['knowledge', 'been printed new', 'many words', 'for fun', 'cover']\n",
      "common expl list: ['Non-fiction books contain knowledge.']\n"
     ]
    },
    {
     "name": "stderr",
     "output_type": "stream",
     "text": [
      "\r",
      "  0%|▋                                                                                                                                                                  | 4/986 [09:14<33:02:57, 121.16s/it]"
     ]
    },
    {
     "name": "stdout",
     "output_type": "stream",
     "text": [
      "generated explanation: <pad> <extra_id_0> I only like fiction, why should I read a non-fiction book?</s>\n",
      "########\n",
      "*******\n",
      "question: An American might hike a mountain north to get to what?\n",
      "answer: canada\n",
      "choices: ['canada', 'switzerland', 'orlando', 'austria', 'surface of earth']\n",
      "common expl list: ['If an American hiked north, they would likely end up in Canada.']\n"
     ]
    },
    {
     "name": "stderr",
     "output_type": "stream",
     "text": [
      "\r",
      "  1%|▊                                                                                                                                                                  | 5/986 [11:25<34:02:08, 124.90s/it]"
     ]
    },
    {
     "name": "stdout",
     "output_type": "stream",
     "text": [
      "generated explanation: <pad> <extra_id_0> An American might hike a mountain north to get to where he might hike to. The hike is a 1,500-m long, 1,500-m high, and it takes about an hour to complete. The mountain is the largest in the world and is the highest mountain in the world. The hike is a short distance from the center of the United States to the summit of a mountain in the north. It is also the highest mountain in the world, and it is a great place to hike to get to the top of a mountain to get to the top of a mountain to get to the summit. The hike is also a hike to the top of the mountain to get to the top of the mountain to get to the top of the mountain. The hike is a mountain north of the North American hike. The hike is an American can also be climbed by a mountain north to get to the top of the mountain to get to the top of the mountain to get to the top of the mountain. The hike is a mountain. The hike is also an American can hike is an American can also hike to the top of a mountain to get to the top of a mountain to get to the top of a mountain to get to the top of a mountain to get to the top of a mountain to get to the top of a mountain to the top of a mountain to the bottom to get to the top of a mountain to the top to the top to the top to the top to the top to the top of the mountain to the top to the bottom to</s>\n",
      "########\n",
      "*******\n",
      "question: Sam spent most of his time standing up.  His job was hectic and he never got any rest. But he was the best cashier at his workplace.    Where might he work?\n",
      "answer: supermarket\n",
      "choices: ['bookstore', 'count till', 'supermarket', 'shop', 'preschool']\n",
      "common expl list: [\"The best cashiers work setting up lines of products, yhis is usually done from being on one's feet. Supermarkets use till systems to swipe credit cards, thus cashiering is done by standing up.\", 'Since one spends most of his time standing when working as a cashier, Sam probably works at a supermarket where groceries are sold. Because his workplace is full of activities and punten, he never gets any rest.']\n"
     ]
    },
    {
     "name": "stderr",
     "output_type": "stream",
     "text": [
      "\r",
      "  1%|▉                                                                                                                                                                  | 6/986 [15:59<47:44:57, 175.41s/it]"
     ]
    },
    {
     "name": "stdout",
     "output_type": "stream",
     "text": [
      "generated explanation: <pad> <extra_id_0> Sam spent most of his time standing up. He never got rest. He was the best cashier at a supermarket. It was a busy job and Sam never got tired. It was a great way to spend his time. It was a great way to be productive and give a good wage. It was also a great way to earn money. It was a great way to earn money. It was also a great way to earn money. It was a great way to work and earn money. It was a great way to work at a supermarket cashier was the best employee at a supermarket in the morning and evening. It was also a great way to earn money in the morning. It was also a great way to make a difference to a good job. It was also a great way to earn his time at a good return on his time. It was a great way to earn his time at the same time to earn his time to earn his time to make his time. It was a great way to earn his time at the same time to work at the same time to make a difference. It was also a great way to make a good job that Sam was a great way to make sure that he was a great way to make sure that Sam was able to make sure that he could make sure that he could make sure that he could make a positive impact on the job. It was a positive impact on the environment. It was a positive impact on the environment to be a positive impact on the environment. It was also a positive impact on the environment for Sam to be a positive impact on the environment. It was a great job. It was a positive impact on the environment. It was a positive impact on the environment. It was a positive impact on the environment. It was a positive impact on the environment. It was a positive impact on the environment. It was a positive impact on the environment. It was a positive impact on the environment. It was a positive influence on the environment. It was also a positive impact on the environment. It was a positive influence on the environment. It was also a positive influence on the environment. It was also a positive influence on the people and the environment. It was a great job. It was a positive influence on the environment. It\n",
      "########\n",
      "*******\n",
      "question: James raked fallen leaves into a pile. Where might he leave the pile?\n",
      "answer: ground\n",
      "choices: ['forest', 'roof', 'garden', 'tree', 'ground']\n",
      "common expl list: ['Leaves are often raked into piles on the ground.']\n"
     ]
    },
    {
     "name": "stderr",
     "output_type": "stream",
     "text": [
      "\r",
      "  1%|█▏                                                                                                                                                                 | 7/986 [16:39<35:39:34, 131.13s/it]"
     ]
    },
    {
     "name": "stdout",
     "output_type": "stream",
     "text": [
      "generated explanation: <pad> <extra_id_0> James raked fallen leaves into a pile of fallen leaves. They were then piled into a pile of fallen leaves. They were piled into a pile of fallen trees, and were buried in a pile of dirt. They were then raked into a pile of fallen leaves. They were then raked into a pile of fallen leaves. They were then raked into a pile of fallen leaves. They were then placed on a pile of fallen leaves. They were then raked into a pile of fallen leaves into a pile of fallen leaves. They were then raked into a pile of fallen leaves and raked into a pile of fallen leaves and fallen ground. They were raked into a pile of fallen leaves and fallen leaves. They were raked into the ground and raked into a pile of fallen leaves and fallen leaves. They were raked into a pile of fallen leaves and raked into a pile of fallen leaves and fallen branches.</s>\n",
      "########\n",
      "*******\n",
      "question: What happens when we fail at something we attempt?\n",
      "answer: leave\n",
      "choices: ['leave', 'give up', 'trying', 'we get shunned', 'fail']\n",
      "common expl list: [\"If we engage in an activity, like a sport, and fail, we don't want to continue doing it. It's much easier simply to leave.\", 'If we fail at something, we usually leave (quit) that activity; failing is an action, while giving up and trying are both ways of not acting.']\n"
     ]
    },
    {
     "name": "stderr",
     "output_type": "stream",
     "text": [
      "\r",
      "  1%|█▎                                                                                                                                                                  | 8/986 [16:44<24:43:13, 91.00s/it]"
     ]
    },
    {
     "name": "stdout",
     "output_type": "stream",
     "text": [
      "generated explanation: <pad> <extra_id_0> When we fail at something, we usually leave a message that says, \"I'm not going to succeed at something I'm going to try to succeed at.\" When we fail at something, we leave a message that says, \"I'm going to fail at something I'm trying to do.\" When we fail at something, we leave a message that says, \"I'm going to fail at something I'm going to try to do something else.\" When we fail at something, we leave a message that says \"I'</s>\n",
      "########\n",
      "*******\n",
      "question: The referee wasn't specialized in one thing. He refereed many games.  He was offered a job but wasn't sure what it would be.  What did he know it would be?\n",
      "answer: sporting event\n",
      "choices: ['side with opponent', 'football', 'hockey game', 'part two boxers', 'sporting event']\n",
      "common expl list: ['Referees are specialized in sports, and so, they would be expected to know how to referee a sporting event.']\n"
     ]
    },
    {
     "name": "stderr",
     "output_type": "stream",
     "text": [
      "\r",
      "  1%|█▍                                                                                                                                                                 | 9/986 [21:36<41:45:57, 153.90s/it]"
     ]
    },
    {
     "name": "stdout",
     "output_type": "stream",
     "text": [
      "generated explanation: <pad> <extra_id_0> Referees referee games, and they are a great way to get a better understanding of the sport. Referees are often asked to refer games to be played at a sporting event, but they weren't sure what they would be doing. They were asked to refer games, which were played at a sporting event, or a sporting event. Referees are often asked to refer games to a sporting event or a sporting event. They referees are asked to refer games to help them to a sporting event. This is because they aren't specialized in one thing that isn't specialized in one thing that isn't specialized in one thing. They aren't specialized in one thing. Referees are asked to refer events. They are also asked to referees. They aren't specialized in one thing as a sport. They are asked to referees are asked to refer to sporting events, such as sporting events, sporting events aren't specialized in one thing as much as sports events. They aren't specialized in one thing. They aren't specialized in one thing. They aren't specialized in one thing, so they are asked to be specialized in one thing, so they aren't specialized in one thing, and they aren't specialized in one thing, they aren't specialized in one thing. They aren't specialized in one thing, so they aren't specialized in one thing, they aren't specialized in one thing. They aren't specialized in one thing. They aren't specialized in one thing. They aren't specialized in one thing, they aren't specialized in one thing, it's not necessarily the one thing that they aren't specialized in one thing because they aren't specialized in one thing, they aren't specialized in one thing, they are all about one thing, they aren't interested in one thing. They aren't interested in one thing, and they aren't specialized in one thing. They aren't interested in one thing that they aren't interested in one thing that they aren't interested in one thing that they are interested in\n",
      "########\n",
      "*******\n",
      "question: Susan threw the highly elastic ball at the wall.  The ball did what?\n",
      "answer: rebound\n",
      "choices: ['bounce', 'recoil', 'rebound', 'underwear', 'stretch']\n",
      "common expl list: ['Elastic balls collide with the wall, and boom bounce back after a collision.']\n"
     ]
    },
    {
     "name": "stderr",
     "output_type": "stream",
     "text": [
      "\r",
      "  1%|█▋                                                                                                                                                                | 10/986 [26:24<52:55:44, 195.23s/it]"
     ]
    },
    {
     "name": "stdout",
     "output_type": "stream",
     "text": [
      "generated explanation: <pad> <extra_id_0> The ball is highly elastic and does not move. It does move when it is pushed against the wall. It is highly elastic and does not move when it is pushed. It is a highly elastic ball that is a great way to create a rebound for the ball to bounce back from the wall. It is a highly elastic ball that is highly susceptible to bounce back and rebounds. It is a highly elastic ball that is able to bounce back and forth when it is thrown at the wall. It is a highly elastic ball is a highly elastic ball is a highly vulnerable wall. It is highly sensitive to the wall and is highly protective of the ball and is a highly reactive to the wall. It is a high-speed ball is able to rebound. It is a highly reversible ball. It is highly elastic ball to rebound and is a highly resilient ball that is able to rebound and can be reversible and can be reversible and can be reversible. It can be thrown at any point in time. It can be reversible and is highly elastic and can be a good way to rebound and can be thrown back and forth. It can be thrown back and forth between the wall, and it can be thrown back and forth between the wall. It can be used to throw the ball back and forth between the wall. It can be used to throw the ball back and forth between the wall. It can be used to throw the ball back and forth between the ball is a ball is a great way to bounce back and forth between the wall, and it can bounce back and forth between the wall. It can be used to bounce back and forth without stopping the ball. It can also be used to throw the ball at the wall, which can be used to throw the ball is a great way to bounce back and forth between the wall, which can be used to throw the ball and the ball to the wall. It can be used to throw the ball at the wall, and it can be used to throw the ball to the wall, which can be used to bounce back and forth between the wall, which can be used to bounce back and forth between the wall, which can be used to throw the ball to the wall, which can be used to bounce back and forth between the wall, which can be used to bounce back and forth between the wall, which\n",
      "########\n",
      "*******\n",
      "question: John lived in a small island surrounded by flowing liquid H2O   Where might he live?\n",
      "answer: mississippi river\n",
      "choices: ['japan', 'hawaii', 'mississippi river', 'pacific ocean', 'body of water']\n",
      "common expl list: ['there are numerous islands in the mississippi river in the united states, making it possible that John may have lived on one.']\n"
     ]
    },
    {
     "name": "stderr",
     "output_type": "stream",
     "text": [
      "\r",
      "  1%|█▊                                                                                                                                                                | 11/986 [29:13<50:44:18, 187.34s/it]"
     ]
    },
    {
     "name": "stdout",
     "output_type": "stream",
     "text": [
      "generated explanation: <pad> <extra_id_0> John lived in a small island surrounded by flowing water H2O. It was a river that dripped with water and a river called the Mississippi River. The river was a natural habitat for birds and fish, which was a natural source of water for birds and fish. It was a source of water that flooded the island, which was a natural habitat for birds and other wildlife. It was a source of water for birds and other wildlife to inhabit. It was a small island surrounded by flowing water, which drew-like habitat for birds and other aquatic life. The island was a natural habitat for birds and other animals, and the water was a natural habitat for birds and other creatures. The island was a natural habitat for birds and other animals. The island was a natural habitat for birds and other creatures that lived on the island. The island was a natural habitat for birds and other creatures, and the island was a natural habitat for birds, which was a natural habitat for marine life. The island was a natural habitat for birds and other life forms, and it was also a natural habitat for marine life. The island was a natural habitat that was a natural habitat for the island was a natural habitat for birds and wildlife. The island was a natural habitat for life, and it was also a natural habitat for birds and wildlife. The island was a natural habitat for animals, and it was also a natural habitat for wildlife and habitats that were a natural habitats that were habitats that were a natural habitats that were a natural habitats that were a natural habitats that could be a natural habitat for wildlife to be a natural habitat for birds and animals, and the island was a natural habitat for birds and water.</s>\n",
      "########\n",
      "*******\n",
      "question: What will the student have to do on the test?\n",
      "answer: solve equation\n",
      "choices: ['finish college', 'begin teaching', 'write', 'answer question', 'solve equation']\n",
      "common expl list: ['A student has to solve equations to learn a given theory that is presented in class.']\n"
     ]
    },
    {
     "name": "stderr",
     "output_type": "stream",
     "text": [
      "\r",
      "  1%|█▉                                                                                                                                                                | 12/986 [29:58<38:55:29, 143.87s/it]"
     ]
    },
    {
     "name": "stdout",
     "output_type": "stream",
     "text": [
      "generated explanation: <pad> <extra_id_0> The student will have to solve a variety of problems, including math, reading, and writing. The student will have to solve a variety of problems, including math, reading, and writing. The student will then have to solve a variety of problems, including math, science, and writing. The student will have to solve a variety of problems, including math, science, and writing. The student will have to solve the problems in order to complete the assignments. The student will have to complete the tasks in order to complete the assignments. The student will also have to solve the problem of identifying the student’s problem, such as identifying the problem, and the student will also have to solve the problem of completing the assignment in order to solve the problem in order to complete the assignment in order to complete the assignment in order to complete the assignment in order to complete the assignment in order to complete the assignment in order to complete the assignment in order to complete the assignment in order to complete the assignment in order to complete the assignment in order to complete the assignment in order to complete the assignment in</s>\n",
      "########\n",
      "*******\n",
      "question: The tourists saw what they thought was a statue, but they soon discovered it was performance art went it began what?\n",
      "answer: moving\n",
      "choices: ['growing mold', 'moving', 'accent garden', 'green', 'painting']\n",
      "common expl list: ['Performance art is art that is performed, rather than being a static object. In this case, the statue was moving, which is a sign of performance art.']\n"
     ]
    },
    {
     "name": "stderr",
     "output_type": "stream",
     "text": [
      "\r",
      "  1%|██▏                                                                                                                                                               | 13/986 [32:07<37:39:51, 139.35s/it]"
     ]
    },
    {
     "name": "stdout",
     "output_type": "stream",
     "text": [
      "generated explanation: <pad> <extra_id_0> The tourists soon discovered that it was a performance art that was moving and that it was a performance art that was moving and moving. The tourists quickly realized that it was a performance art that was performed by performers from around the world. They soon realized that it was a performance art that was moving and moving, and that it was a performance art that was moving and moving. It was a form of performance art that was a form of art that was a form of performance art. Performance art is art that is a form of performance art and performance art. It is a form of performance art that is moving and moving. It is a form of performance art, and it is a performance art form that is moving and performing art, and it is performing art, and it is performance art that is moving and performing art, and it is performance art, and it is a form of performance art that is a form of performance art, and it is a form of performance art. Performance art, which is a form of art that is also a performance art, and it is performance art, and it is a performance art, and it is a performance art, it is a form of performance art, which is a form of performance art, and it is a form of performance art that is a form of performance art, and it is a performance art, a performance art, a performance art, and it is a performance art, it is performance art, and it is a performance art art, the performance art, the performance art, the performance art,</s>\n",
      "########\n",
      "*******\n",
      "question: What is a good way to carry a small dog?\n",
      "answer: backpack\n",
      "choices: ['good hands', 'backpack', 'chinese food', 'grocery bag', 'basket']\n",
      "common expl list: ['Backpacks are a good way to carry things, and small dogs are things.']\n"
     ]
    },
    {
     "name": "stderr",
     "output_type": "stream",
     "text": [
      "\r",
      "  1%|██▎                                                                                                                                                               | 14/986 [36:31<47:49:27, 177.13s/it]"
     ]
    },
    {
     "name": "stdout",
     "output_type": "stream",
     "text": [
      "generated explanation: <pad> <extra_id_0> A backpack is a great way to carry a small dog. It is also a great way to carry a small dog. It is also a good way to carry a small dog in a backpack. It is also a great way to carry a small dog. It is also a great way to carry a small dog in a backpack. It is also a great way to carry a small dog. It is a great way to carry a small dog. It is also a great way to carry a backpack with a small dog a small dog with you when traveling. It is a good way to carry a small dog in a backpack. It is a good way to carry a backpack is a great way to carry a small dog in a backpack is a great way to carry a small dog in a backpack. It is a great way to carry a small dog in a small doggiegiegies are a backpack and a small dog in a small dog a backpack and can be used for a backpack and can also be used when a backpack. It is a great way to carry a small dog a small dog a small dog around a backpack. It can be used for small dogs. It can also be used to carry a small dog around with a small dog’s attention and can be used to keep a small dog a small dog. It can be used as a small dog. It can be used as a small dog. It can also be used as a small dog. It can also be used as a small dog. It can also be used as a backpack. It can be used as a small dog. It can also be used as a small dog. It can also be used as a small dog. It can also be used as a backpack. Dogs can also be used for small dogs and small dogs in a backpack to carry a small doggiegies and other animals. It can be used as a small dog. A backpack is a good choice for small dogs to carry small dogs. A backpack can be used as a small doggie carrier, but it can be used to carry small dogs. A backpack can also be used to carry a small dog to carry a small dog. a good way to carry\n",
      "########\n",
      "*******\n",
      "question: Both sides in World War I used what to cause death that is now banned?\n",
      "answer: poisonous gas\n",
      "choices: ['homicide', 'poisonous gas', 'cyanide', 'nuclear weapons', 'massive weapons']\n",
      "common expl list: ['Poison gas is a chemical known for its ability to kill (therefore, if both sides used it, people on both sides died from its use), and it has since gone on to be outlawed in many countries.']\n"
     ]
    },
    {
     "name": "stderr",
     "output_type": "stream",
     "text": [
      "\r",
      "  2%|██▍                                                                                                                                                               | 15/986 [41:03<55:30:40, 205.81s/it]"
     ]
    },
    {
     "name": "stdout",
     "output_type": "stream",
     "text": [
      "generated explanation: <pad> <extra_id_0> Both sides in World War I used poisonous gas to cause death. They used it to cause the death of their soldiers and their allies. It is now banned as a poisonous gas and is used to cause the death of civilians and civilians. It is also used to cause the death of civilians and their loved ones. It is now a banned poisonous gas and is now banned as a poisonous gas. It is a poisonous gas that is now banned as a source of food and water. It is now banned as a poisonous gas is a poisonous gas, which is now used to cause death through the war. It is also used to cause death through the war. It is also used to cause the death of civilians and civilians from the war effort to prevent the use of the war to cause the deaths of civilians and their families. It is now a dangerous and dangerous to their health. It is also a dangerous to the public. It is also a dangerous to the public. It is also a dangerous way of killing and/or poisoning agent. It is a poisonous gas that is now a poisonous gas that is now banned in the world. It is a dangerous to the environment. It is a dangerous to the environment. It is a dangerous to the public health threat. It is a poisonous gas that can be used in the environment. It is a poisonous gas that is poisonous to the environment. It is a poisonous to the environment. It can cause the death of the enemy to use in the battlefield. It is also a dangerous to use in the environment. It is now banned to use in the United States and Europe. It is a poisonous gas that can cause the death of the United Kingdom. It is a poisonous gas that is used to cause the death of the enemy. It can be used to cause the death of the enemy. It can also be used to cause the death of innocent people to use in the environment. It can also be used to cause the death of the enemy. It can be used to cause the enemy to cause the enemy. It can be used to kill the enemy. The enemy's soldiers to use it to cause the enemy's enemies to use it to cause the enemy's lives to cause the enemy to use the enemy's life. It can cause the enemy's lives. It\n",
      "########\n",
      "*******\n",
      "question: Where is disease often spread but shouldn't be?\n",
      "answer: hospital\n",
      "choices: ['ghost town', 'third world country', 'human body', 'rug', 'hospital']\n",
      "common expl list: ['Disease is spread most commonly in hospitals, where sick patients are treated and recovered hosts of disease are found.', 'Hospitals are places where people go to get better, and therefore disease is often spread there.']\n"
     ]
    },
    {
     "name": "stderr",
     "output_type": "stream",
     "text": [
      "\r",
      "  2%|██▋                                                                                                                                                               | 16/986 [43:18<49:41:27, 184.42s/it]"
     ]
    },
    {
     "name": "stdout",
     "output_type": "stream",
     "text": [
      "generated explanation: <pad> <extra_id_0> Where is the most common place for disease to spread? Where is the most common place to spread disease? In the United States, the most common place for disease to spread is in the United States. The most common place to find out the truth about disease is the environment. The disease can be a complex and complex system that can be used to manage it. The most common place to find out the cause of a disease is the environment. The disease can be a complex and complex system. The environment is a safe place to live, work and play. Disease can be prevented by a hospital, the disease can be prevented by preventing the spread to other areas of the hospital, such as the hospital, the hospital, and the hospital, the disease can be a place to stay. The most common cause the disease to spread to the patient. The most common place for the spread of the disease can be a person's body organs, including the immune system. The hospital is a place to find a place to stay, and the body to spread the disease. The hospital is a place to be safe from the spread of the disease. The hospital is a place to stay. The hospital is located in the hospital is located in the hospital, which can be difficult to find. The hospital is located in the hospital is located in the hospital is a place to be a hospital is a place where the patient may be able to prevent the patient's health care system. The hospital is also a place to stay and to be prepared and a hospital is a place to stay. The hospital is a place to stay to prevent the spread of the disease. The hospital is a place to stay and the patient is able to help prevent disease.</s>\n",
      "########\n",
      "*******\n",
      "question: As things get colder, temperature does what?\n",
      "answer: drop to zero\n",
      "choices: ['increase', 'drop to zero', 'heat up', 'dropping quickly', 'arctic']\n",
      "common expl list: ['As things get colder, they get closer to zero degrees.']\n"
     ]
    },
    {
     "name": "stderr",
     "output_type": "stream",
     "text": [
      "\r",
      "  2%|██▊                                                                                                                                                               | 17/986 [46:23<49:40:54, 184.58s/it]"
     ]
    },
    {
     "name": "stdout",
     "output_type": "stream",
     "text": [
      "generated explanation: <pad> <extra_id_0> As things get colder, temperatures become colder, temperature decreases to zero. Temperatures drop to zero as the temperature drops to zero. Temperatures drop to zero as things get colder, and temperatures drop to zero. Temperatures drop to zero as temperatures get colder. Temperatures drop to zero as things get colder. Temperatures drop to zero as things get colder. Temperatures drop to zero as temperatures get colder. Temperatures drop to zero as things get colder. Temperatures drop to zero as things get colder and colder, which means that the temperature of the temperature drops to zero as the temperature is able to reach a temperature of zero. Temperatures drop to zero as things get warmer, the temperature of the temperature drops to zero as the temperature drops to zero. Temperatures drop to zero as things get colder, the temperature of the temperature drop to zero as things get colder, temperature drops to zero. Temperatures drop to zero as temperatures get colder. Temperatures drop to zero. Temperatures drop to zero as the temperature drops to zero, the temperature drops to zero. Temperatures drop to zero as the temperature drops. Temperature drops to zero as the temperature drops to zero as the temperature reaches a lower temperature, the temperature drops to zero. Temperatures get colder. Temperatures get colder. Temperatures drop to zero. Temperatures get colder. Temperatures get colder, the temperature drops to zero. Temperatures drop to zero. Temperatures can be dangerously low temperatures can be dangerously colder. Temperatures can be dangerously colder. Temperatures can be dangerously low temperatures can cause temperatures drop to zero. Temperatures can drop to zero as the temperature will drop to zero. Temperatures can also be dangerously colder. Temperatures can be dangerously low temperatures can be dangerously colder temperatures can be dangerously colder. Temperature can be dangerously low temperatures can also be dangerously low temperatures can be dangerously dangerous to people who can be dangerous to the environment. Temperature can also be dangerously dangerous to the environment. Temperature can be dangerous to the environment. Temperature can be dangerous to the environment. Temperature can be dangerous for the environment. Temperature can be dangerous to the environment. Temperatures can be dangerous to the environment. Temperature\n",
      "########\n",
      "*******\n",
      "question: Where is one unlikely to get popcorn?\n",
      "answer: soccer game\n",
      "choices: ['restaurant', 'movie house', 'soccer game', 'carnival', 'movie theater']\n",
      "common expl list: ['Most soccer games lack concession stands, which are necessary to sell movie theaters popcorn.', 'Soccer games are usually snacks-free affairs; snacks, including popcorn, tend to be present at more recreational venues, but less so in settings where food is unnecessary because there are translatable goods sellers, i.e., vendors that sell things like popcorn', 'Soccer games usually lack popcorn machines.']\n"
     ]
    },
    {
     "name": "stderr",
     "output_type": "stream",
     "text": [
      "\r",
      "  2%|██▉                                                                                                                                                               | 18/986 [48:12<43:33:08, 161.97s/it]"
     ]
    },
    {
     "name": "stdout",
     "output_type": "stream",
     "text": [
      "generated explanation: <pad> <extra_id_0> Soccer is a popular sport that is a great way to get popcorn. It is also a great way to get a taste of soccer. It is also a great way to learn about soccer and other sports. It is also a great way to get a taste of soccer. It is also a great way to learn about the history of the game and its importance to the culture of soccer. Soccer is a great way to learn about the game and its players. Soccer is a great way to learn about the game and its popcorn consumption is a great way to learn about the players and players who are interested in soccer. Soccer is a great way to learn about the game and how to make a great way to learn about the game. Soccer is an important part of the game and the players can learn about the game and how to use the game to make a good game. Soccer is a good game. The game is a great way to make a great way to get a good way to make a good game. It is also a great way to make a great way to make a great way to make a game. It is a great way to make a great way to make a good way to make a good way to make a great way to make a great way to make a great way to make a great way to make a great way to make a great way to make a good way to make a good way to make a great way to make a great way to make a great way to make a great way to make a great way to make a great way to make a great way to<extra_id_1> </s>\n",
      "########\n",
      "*******\n",
      "question: Where are files likely to be hanging?\n",
      "answer: filing cabinet\n",
      "choices: ['filing cabinet', 'tree', 'suitcase', 'computer', 'desk drawer']\n",
      "common expl list: ['Filing cabinets are used to store files sometimes; these files can then be found by opening the filing cabinet and looking for hanging folders.', 'Files are likely to be hanging in a filing cabinet, since they are often organized by topic, and filing cabinets are often used to organize files.']\n"
     ]
    },
    {
     "name": "stderr",
     "output_type": "stream",
     "text": [
      "\r",
      "  2%|███                                                                                                                                                               | 19/986 [50:09<39:50:34, 148.33s/it]"
     ]
    },
    {
     "name": "stdout",
     "output_type": "stream",
     "text": [
      "generated explanation: <pad> <extra_id_0> In a filing cabinet, the files are usually stored in a safe place and are then stored in a safe place. The storage cabinet is usually a filing cabinet. The filing cabinet is a place where files are stored and are stored. The file cabinets are typically located in a filing cabinet and are usually located in a filing cabinet. The cabinet is usually located in a filing cabinet. The file is usually located in a filing cabinet and is usually located in a corner or a drawer or drawer. The file is usually located in a filing cabinet and is usually located in a filing cabinet. The filing cabinet is usually located in a filing cabinet. The file cabinets are usually located in a filing cabinet is usually located in a filing cabinet and are usually located in a filing cabinet is usually located in the middle of the cabinet. This is because the filing cabinet is usually located in the filing cabinet. The filing cabinet is usually located in the filing cabinet. The storage cabinet is typically located in the back of the filing cabinet. The file cabinet is usually a storage cabinet. The filing cabinet is usually a place to store the files in the filing cabinet. The filing cabinet is a large, a large, open, and the filing cabinet is a large, open, and the filing cabinet is a large, and the filing cabinet is usually a large, and the filing cabinet is a large enough to hang the filing cabinet is a large enough to store the files in a large enough to keep track of the files in a filing cabinet is a large enough to keep track of the files are a filing cabinet is a large enough to keep the files in a large enough to keep the</s>\n",
      "########\n",
      "*******\n",
      "question: What is required to go on vacation before anything else?\n",
      "answer: have money\n",
      "choices: ['pack', 'pay bills', 'save money', 'have money', 'reliable car']\n",
      "common expl list: ['Vacations often require the purchase of travel services, such as airline or hotel tickets.']\n"
     ]
    },
    {
     "name": "stderr",
     "output_type": "stream",
     "text": [
      "\r",
      "  2%|███▎                                                                                                                                                              | 20/986 [53:08<42:16:02, 157.52s/it]"
     ]
    },
    {
     "name": "stdout",
     "output_type": "stream",
     "text": [
      "generated explanation: <pad> <extra_id_0> Before going on vacation, have money. Money is not required to go on vacation. Money is not required to go on vacation before anything else. Money is required to go on vacation before anything else. Money is required to go on vacation before anything else. Money is required to go on vacation before anything else. Money is required to go on vacation before going on vacation. Money is required to go on vacation before anything else. Money is required to go on vacation before anything else. Money is required to go on vacation before going on vacation. Money is also required to go on vacation. Money must be used to pay for accommodation, meals, and travel expenses such as food and water. Money must be used to go on vacation is also required to pay for a trip to a minimum. Money can be used to pay for meals, snacks, and beverages must be used to pay for a trip. Money can be used to pay for a trip to a trip is also required to pay for a trip. Money can be used to pay for the cost of a trip can be used to pay for a trip. The cost of a trip can be used to cover the cost of a vacation can be used to cover the cost of the trip. The cost of a trip abroad costs approximately $65,500 to $65,500 to $65, to spend the money, as well as the cost of the trip. The money can be used to pay for the cost of traveling abroad. The cost of a trip to a trip. The cost of traveling can be spent on a vacation. The cost of a trip is usually a good deal. The cost of a short trip can cost around $1,000 to be used to cover the cost of a short trip, as the cost of a trip. The cost of the cost of a trip to a trip to a short trip to a short trip. The cost of a short trip can be spent on a short trip. The cost of a short trip, a short trip to a short trip, as well as a short trip is usually around a short trip. The cost of traveling can be spent on a short trip. The cost of a short trip is usually around $1000 to $1000 to $1000 to the cost of the trip, and the cost of traveling can be spent on a vacation, and the cost of a vacation, and the cost\n",
      "########\n",
      "*******\n",
      "question: The roadway passed a sign and gate house, what was behind the gatehouse?\n",
      "answer: subdivision\n",
      "choices: ['city', 'narnia', 'subdivision', 'neighborhood', 'countryside']\n",
      "common expl list: ['A subdivision contains houses that formed around it; therefore, a subdivision has a gatehouse that controls who goes in and out.', 'Subdivisions are residential areas that are often gated, and so, if you see a gatehouse, you might be in a subdivision.']\n"
     ]
    },
    {
     "name": "stderr",
     "output_type": "stream",
     "text": [
      "\r",
      "  2%|███▍                                                                                                                                                              | 21/986 [55:17<39:58:40, 149.14s/it]"
     ]
    },
    {
     "name": "stdout",
     "output_type": "stream",
     "text": [
      "generated explanation: <pad> <extra_id_0> The roadway passed a sign and gatehouse, the gatehouse is located behind the gatehouse. The gatehouse is located in the middle of the subdivision, and the roadway passes a sign and gatehouse. The gatehouse is located in the middle of the subdivision, and the roadway passes a sign and gatehouse. The gatehouse is located behind the gatehouse and the roadway passes a sign and gatehouse. The gatehouse is located behind the gatehouse and is located in the middle of the subdivision. The subdivision is located in the middle of the subdivision is located in the subdivision, and the gatehouse is located in the subdivision. The gatehouse is located in the middle of the roadway, and the gatehouse is located in the middle of the roadway. The gatehouse is located in the middle of the subdivision. The gatehouse is located in the middle of the subdivision is located in the middle of the roadway. The gatehouse is located behind the gatehouse is located in the middle of the roadway. The gatehouse is located in the middle of the roadway. The gatehouse is located in the middle of the gatehouse is located in the middle of the roadway. The gatehouse is located in the middle of the gatehouse is located in the gatehouse is located in the middle of the roadway. The gatehouse is located behind the gatehouse is located behind the gatehouse is located in the middle of the roadway is located in the subdivision. The gatehouse is located in the gatehouse is located in the subdivision, and is located in the middle of the roadway is located in the middle of the subdivision, the gatehouse. The gatehouse is located in the gatehouse is located in the middle of the gatehouse is located in the middle of the roadway, and is located in the middle of the roadway, and the gatehouse is located in the middle of the subdivision is located in the subdivision is located in the subdivision is located in the subdivision, and is located in the subdivision is located in the subdivision is located in the middle of the subdivision is</s>\n",
      "########\n",
      "*******\n",
      "question: The invasive A.I. was designed to scan the crowd, where most saw a mass of humanity the evil machine could pick out each what?\n",
      "answer: individual\n",
      "choices: ['solitary', 'single person', 'few people', 'crowd', 'individual']\n",
      "common expl list: [\"Machine intelligence is better able to find isolated individuals than crowded groups. Machines need to scan a large group of people to be able to find a single person--but when the single person doesn't blend in, it makes them easier to find.\"]\n"
     ]
    },
    {
     "name": "stderr",
     "output_type": "stream",
     "text": [
      "\r",
      "  2%|███▌                                                                                                                                                              | 22/986 [55:21<28:16:43, 105.61s/it]"
     ]
    },
    {
     "name": "stdout",
     "output_type": "stream",
     "text": [
      "generated explanation: <pad> <extra_id_0> The invasive A.I. was designed to scan the crowd, where most saw a mass of humanity, the machine could pick out the evil machine and pick out the individual. The invasive A.I. was designed to scan the crowd, where most saw a mass of humanity, the evil machine could pick out the individual from among the crowd. The invasive A.I. was designed to scan the crowd, where most saw a mass of humanity, the machine could pick out the individual from the crowd. The invasive A.I. The machine was designed to pick out the individual from the crowd, and then scan the crowd to identify the individual from the crowd, and then a specific group of people, and then the crowd was able to identify each individual. The invasive A.</s>\n",
      "########\n",
      "*******\n",
      "question: Is has been speculated that a aliens could be communicating by doing this?\n",
      "answer: thinking\n",
      "choices: ['effort', 'farting', 'thinking', 'laugh', 'medium']\n",
      "common expl list: ['Aliens could quite possibly be using thought as a way to communicate between themselves.']\n"
     ]
    },
    {
     "name": "stderr",
     "output_type": "stream",
     "text": [
      "\r",
      "  2%|███▊                                                                                                                                                              | 23/986 [58:25<34:30:38, 129.01s/it]"
     ]
    },
    {
     "name": "stdout",
     "output_type": "stream",
     "text": [
      "generated explanation: <pad> <extra_id_0> A person can be a person or something they can communicate through thinking. This is because it is a way of thinking about things and thinking about them. It is also a way of thinking about other things. It is also a way of thinking about the world. It is also a way of thinking about things that are happening in the world. It is also a way of thinking about things. It is also a way of thinking about things. It is also a way to think about things and to think about them. It is possible that a way of thinking about things from a distance and then thinking about things that are related to the way a person's surroundings. It is also a way to communicate with other people. It is also a way to communicate with other people. It is also a way to communicate with other people and other people in terms of communication, and it is a way to communicate. It is also a way to communicate with each other, and it is possible to communicate with each other. It is also a way to communicate with each other, and it is also a way to communicate with each other. It is a way to communicate with each other. It is also a way to communicate with each other. It is possible to communicate with each other, and it is possible to communicate with each other, and it is possible to communicate with each other, and it is possible to communicate with each other, and to communicate with each other. This is possible to communicate with each other. This is a form of communication is a form of communication is also a form of communication is a form of communication is a form of communication is a form of communication is a form of communication is a form of communication is a form of communication is a form of communication is a form of communication is a form of communication is a form of communication is a form of communication is a form of communication. This is a form of communication is a form of communication is a form of communication is a form of communication is a form of communication is a form of communication between the two. It is also a form of communication is a form of communication is a form of communication is a form of communication is a form of communication is a form of communication is a form of communication is a form of communication is a form of\n",
      "########\n",
      "*******\n",
      "question: What can occur in fencing if you are not careful?\n",
      "answer: severe injuries\n",
      "choices: ['competition', 'severe injuries', 'fever', 'perspiration', 'small cuts']\n",
      "common expl list: ['The sport of fencing causes people to be hit by weapons, which may cause cuts or other wounds if someone is not careful.', 'Fencing is a sport, which involves hitting your opponent with a sharp piece of metal, which will almost certainly result in some physical pain.', 'Fencing is a sport that involves hitting your opponent with a sword, and if you are not careful, you can get injured.']\n"
     ]
    },
    {
     "name": "stderr",
     "output_type": "stream",
     "text": [
      "\r",
      "  2%|███▉                                                                                                                                                            | 24/986 [1:01:22<38:19:00, 143.39s/it]"
     ]
    },
    {
     "name": "stdout",
     "output_type": "stream",
     "text": [
      "generated explanation: <pad> <extra_id_0> Fences are a safe and secure environment for children and young children. They are also a great place to learn about the safety and safety factors that can cause serious injuries to children and young people. Unlike fencing, fencing is a safe and secure environment that can be used safely and safely. When you are not careful, fencing can cause serious injuries and even death. In addition to fencing, fencing can also cause serious injuries to children and young people. In addition to the severe injuries that can occur, fencing can be a dangerous and dangerous activity. In addition to fencing, fencing can be a dangerous sport and can cause serious injuries to the brain. In addition to injuries, such as falls, injuries to the head and shoulders. In addition, fencing can be dangerous to the safety of children and young children to avoid. In addition to other fencing is also vulnerable to injuries to other animals. In addition, fencing can be dangerous for children and animals. In addition to being injured animals, fencing can cause serious injuries to the heartbreaks and falls. In addition to injuries, fencing can cause serious injuries. In addition, fencing can also cause serious injuries. In addition to injuries, fencing can cause serious injury. In addition to injuries, injuries can cause injuries to the safety of a fence can cause injuries to the fence can cause injuries to the fence can also cause injuries that can cause injury to the fence. In addition to injuries to the fence can also cause serious injuries. In addition to injuries to the fence can also cause injuries. In addition, fencing can also cause severe injuries to the fence can cause severe injuries to the fence can cause serious injuries to the fence can cause injuries to the fence can cause serious injuries to the fence can cause severe injuries to the fence can cause injuries to the fence can cause serious injuries to the fence can cause severe injuries to the fence can cause injuries to the fence itself. In addition to severe injuries to the fence can cause severe injuries to the fence can cause serious injuries to the fence can cause injuries to the fence can cause injuries to the fence can cause severe injuries to the fence can also cause serious injuries to the fence. Similarly, it can cause injuries to the head, neck, and shoulder, and shoulder, and even the injury to the joints. Unlike fencing. Injury, such as a person's head, the injuries can be dangerous. In fencing is often a person's health and safety. In addition to injuries, injuries to the head, neck,\n",
      "########\n",
      "*******\n",
      "question: If you stretch out your socks they will then have what kind of fit?\n",
      "answer: loose\n",
      "choices: ['cramped', 'loose', 'contract', 'park', 'compressing']\n",
      "common expl list: ['When stretched out, socks will be loose.']\n"
     ]
    },
    {
     "name": "stderr",
     "output_type": "stream",
     "text": [
      "\r",
      "  3%|████                                                                                                                                                            | 25/986 [1:04:09<40:08:56, 150.40s/it]"
     ]
    },
    {
     "name": "stdout",
     "output_type": "stream",
     "text": [
      "generated explanation: <pad> <extra_id_0> If you stretch out your socks they will then have a loose fit. They will then have a loose fit. They will then have a loose fit that is loose and loose. They will also have a loose fit that is also loose and loose. They will then have a loose fit. They will then have a loose fit. They will then have a loose fit. They will have a loose fit that is loose and loose. They will then have a loose fit. They will have a loose fit if you wear them loosely toed out socks for the first time in a loose fit. loose fit is a loose fit is a loose fit that is loose socks are also known as a loose fit, which means that they will be a loose fit. They will also have a loose fit. They will also have a loose fit. They will have a loose fit. They will have a loose fit. They will have a loose fit. They will have a loose fit. They will have a loose fit. They will have a loose fit. They will have a loose fit. They will also have a loose fit. They will have a loose fit and will have a loose fit. They will have a loose fit. They will have a loose fit. They will have a loose fit a tight fit that allows them to have a tight fit. This allows them to have a loose fit. they will have a loose fit that allows them to wear them to wear them to keep them loose or loose fit. They will also have a loose fit. They will also have a loose fit. They will also have a loose fit. They will also have a loose fit a loose fit. They will have a loose fit, which allows them to keep them in place. They will have a looser fit, so they will have a loose fit, so they will have a loose fit, so they will have a tight fit, so they will have a tight fit. They will have a loose fit. They will have a loose fit. They will have a loose fit. They will have a loose fit, so they will have a loose fit. They will have a loose fit, and they will have a loose fit. Those who wear loose fit. They will have a loose fit\n",
      "########\n",
      "*******\n",
      "question: John ran out of pencils.  Where did  he go to get more?\n",
      "answer: office depot\n",
      "choices: ['desk drawer', 'cup', 'pencil case', 'shelf', 'office depot']\n",
      "common expl list: ['John can buy new pencils at an office depot.', 'Office Depot is a store that sells office supplies, including pencils.', 'When people need pencils (or pens), they often buy them at office depots.', 'Pencils can be found at an office supply store, e.g., an office depot.', 'Office Depot is a company that specializes in office furniture; it also sells pens and pencils.']\n"
     ]
    },
    {
     "name": "stderr",
     "output_type": "stream",
     "text": [
      "\r",
      "  3%|████▏                                                                                                                                                           | 26/986 [1:06:39<40:04:08, 150.26s/it]"
     ]
    },
    {
     "name": "stdout",
     "output_type": "stream",
     "text": [
      "generated explanation: <pad> <extra_id_0> Office Depot is a store that sells pencils, pens, and other supplies. It is a place where John can get the pencils he needs. It is a place where he can find them at the office and get them at a discounted price. It is a place where he can get the pencils he needs. It is a place where he can get them at a discount. It is a place where people can get them. It is a place where people can get them at a discount. It is a place where people can get pencils and other items at a discount code that is a pencils and other items are sold at a discount, and it is a great place to get them at a great deal of value. It is a great place to get them at a great place to get them at a great bargain. It is a great way to get them at a great place to get them at a great deal on a good deal on a great deal on quality. It is a great way to get them at a great way to get them at a great deal on a good price. Also, it is a good deal on the cheap. It is also a good deal on a good deal of money. It is a good deal on a good deal on a good deal on a good deal on a good deal on a great deal on a good deal on a good deal on a good deal on a great deal on a good deal on a good deal on a good deal on a good deal on a good deal on a good deal on a good value. The pencils are a good deal on a good deal on a good deal on a good deal on a good deal on a good deal on a good deal on a good deal on a good deal on a good deal on a great deal on a good deal on a good deal on a good deal on a good deal on a good deal on a good deal on a good deal on a great deal on a good deal on a good deal on a good deal on </s>\n",
      "########\n",
      "*******\n",
      "question: What does a confident person do?\n",
      "answer: trust himself\n",
      "choices: ['feel important', 'own house', 'trust himself', 'know what time', 'cry']\n",
      "common expl list: ['People whose confidence is high tend to believe themselves more strongly, and so the confident person might believe in their own abilities and do things such as trust themselves.', 'A confident person is sure of his abilities and the trust in himself/herself to do things or accomplish goals.']\n"
     ]
    },
    {
     "name": "stderr",
     "output_type": "stream",
     "text": [
      "\r",
      "  3%|████▍                                                                                                                                                           | 27/986 [1:07:12<30:40:03, 115.12s/it]"
     ]
    },
    {
     "name": "stdout",
     "output_type": "stream",
     "text": [
      "generated explanation: <pad> <extra_id_0> A confident person is a person who trusts himself and others to be confident in themselves and in others. They also trust that they are capable of achieving their goals. They also trust that they are capable of achieving their goals. They trust that they are able to achieve their goals and achieve them. They also trust that they are able to achieve their goals. They are able to trust that they are capable of achieving their goals. They also trust that they are able to achieve their goals and achieve their goals. They are able to achieve this trust themselves. They are confident in their decision-makers. They are confident in their decision-makers to trust that they are able to make the most important thing to be confident in their ability to make the most important thing to them. They are confident in their ability to make the right decisions that are able to make the right decision-making power. They are confident in their confidence in their ability to make the right decision-making power and trust that they are able to make the right decision-making power and can make the decision-making power and can make the right decision-making power and can make the right decision-making power.</s>\n",
      "########\n",
      "*******\n",
      "question: James thought that analyzing all the data would help him learn more, but it did not.  It only gave him what?\n",
      "answer: headache\n",
      "choices: ['headache', 'better understanding', 'papercuts', 'enlightened', 'discovering truth']\n",
      "common expl list: ['Analysis requires a lot of thinking with maybe little reward, which can give one a headache.']\n"
     ]
    },
    {
     "name": "stderr",
     "output_type": "stream",
     "text": [
      "\r",
      "  3%|████▌                                                                                                                                                            | 28/986 [1:07:14<21:38:50, 81.35s/it]"
     ]
    },
    {
     "name": "stdout",
     "output_type": "stream",
     "text": [
      "generated explanation: <pad> <extra_id_0> analyzing all the data would help him learn more, but it would only give him headaches. It would have saved James a lot of time and effort, but it only gave him a headache. It would have been a great way to learn more about the data he was analyzing. It would have saved James a lot of time and effort, and would have saved him time and energy to learn more. It would have saved him money and time. It would have saved him time and energy. It would have saved him time and money. It would have saved him money because it would have saved him time.</s>\n",
      "########\n",
      "*******\n",
      "question: What makes people happy when it is surprising and unexpected?\n",
      "answer: humor\n",
      "choices: ['joke', 'humor', 'frightened', 'fight', 'laughter']\n",
      "common expl list: ['A surprise is a stimulus that is not generally predicted before exposing it to a subject. It may be surprising things that cause laughter, or unexpected things that people see as funny.']\n"
     ]
    },
    {
     "name": "stderr",
     "output_type": "stream",
     "text": [
      "\r",
      "  3%|████▋                                                                                                                                                           | 29/986 [1:10:01<28:23:14, 106.79s/it]"
     ]
    },
    {
     "name": "stdout",
     "output_type": "stream",
     "text": [
      "generated explanation: <pad> <extra_id_0> People find it funny when it is unexpected and unexpected. It is also a great way to find out what makes people happy. It is also a great way to find out what is going on in the world. It is a great way to find out what is going on in the world. It is a great way to find out what is going on in the world. It is a great way to find out what is going on in the world. It is a great way to find out what is going on in a funny or funny thing that makes people laugh and cry and find out what is going on in the world. It is also a great way to make people smile and make people laugh and cry and make them smile and laugh. It is a great way to make people smile and express joy when it is a great way to make people smile and laugh. It is a new person to make a new, exciting or memorable. It is a fun way to make people smile and make them laugh and make them smile. It is a great way to make them laugh, and it is a great way to make them feel special and special someone is going to make them laugh. It is also a great way to make them feel appreciated. It is a great way to make someone smile. It is funny when it is funny when it is a great way to make people laugh. It is a great way to make people smile. It is a great way to make people laugh. It is a great way to make people smile. It is also a great way to make people laugh. It is a great way to make people smile when they are surprised. It is a great for people to make people laugh. It is a great way to make people laugh. It is a great way to make people laugh when someone is surprised when they are surprised when someone is surprised. It is a great way to make people smile. It is a great way to make people laugh. It is a great way to make people smile. It is a great way to make people smile when it is fun when people are surprised and happy when someone is surprised and surprised. It is a great way to make people laugh when they are surprised and enjoy the unexpected and unexpected. It is a good way to make people smile. It is funny because it is funny and funny. It is fun when it is funny.\n",
      "########\n",
      "*******\n",
      "question: What is someone who wants a lot of money?\n",
      "answer: greedy\n",
      "choices: ['selfish', 'weird', 'greedy', 'ridiculous', 'hungry']\n",
      "common expl list: ['Greed is a strong desire to possess a lot of money; a greedy person therefore wants it a lot.', 'A person who is greedy wants more things that people typically take for granted, i.e., money, success, etc. This is a lot of stuff.', 'Greed is defined as \"the desire to obtain something, especially wealth, through selfish means, typically at the expense of others.']\n"
     ]
    },
    {
     "name": "stderr",
     "output_type": "stream",
     "text": [
      "\r",
      "  3%|████▉                                                                                                                                                            | 30/986 [1:10:30<22:12:46, 83.65s/it]"
     ]
    },
    {
     "name": "stdout",
     "output_type": "stream",
     "text": [
      "generated explanation: <pad> <extra_id_0> A greedy person who wants a lot of money can get rich fast and earn a lot of money. He or she can get rich fast by spending a lot of money on things, such as food, entertainment, and other purchases. This is because people are more likely to spend their money on things they don't need. Also, people who want to buy something that is not worth the money are more likely to buy it. They are also more likely to want to spend their time on other things than their time. They are more likely to spend it on things. They also tend to be more money on things that they want to spend it on other things like groceries, travel, and other things that they can afford to spend it on something they want to spend it. This is because they are more likely to spend money on things they are more likely to spend on things they need to buy them. This is because they are more likely to spend it on things that they need to spend it on the other way. This is because they are more likely to spend it on things than they need to spend it on things.</s>\n",
      "########\n",
      "*******\n",
      "question: Where do you keep a book to read before bed?\n",
      "answer: bedside table\n",
      "choices: ['school room', 'allen key', 'classroom', 'bedside table', 'coffee table']\n",
      "common expl list: ['Bedside tables are convenient for keeping things, e.g., a book, reading materials, glasses, etc., that you wish to keep near your bed for regular access; particularly things.', 'Bedside tables are where people keep things they use before bed, such as books, glasses, and water.']\n"
     ]
    },
    {
     "name": "stderr",
     "output_type": "stream",
     "text": [
      "\r",
      "  3%|█████                                                                                                                                                            | 31/986 [1:11:04<18:13:35, 68.71s/it]"
     ]
    },
    {
     "name": "stdout",
     "output_type": "stream",
     "text": [
      "generated explanation: <pad> <extra_id_0> A book is a book that is placed on a bedside table. It is also a great way to read books while you sleep. It is also a great way to read before bedtime. It is also a great way to keep a book on your bedside table. It is a great way to read before bed and read before bed. It is a great way to read before bed and is a great way to keep a book on your bedside table. It is a great way to keep a book on your bedside table is a reading book before bed. It is also a great way to keep a book on your bedside table is a great way to keep a book on your bed. It is a great way to keep a book on your bedside table is a great way to keep a book on your bed and is a good way to keep a book on your bedside table. It is also a great way to keep a book on your bedside table to keep a book to keep a good way to keep a good read before</s>\n",
      "########\n",
      "*******\n",
      "question: Where is a knight likely to be found in the US?\n",
      "answer: chess set\n",
      "choices: ['middle ages', 'chess set', 'historical novel', 'castle', 'guarding the king']\n",
      "common expl list: ['A knight is a piece in the game of chess, which is played on a chess set.']\n"
     ]
    },
    {
     "name": "stderr",
     "output_type": "stream",
     "text": [
      "\r",
      "  3%|█████▏                                                                                                                                                           | 32/986 [1:13:36<24:49:28, 93.68s/it]"
     ]
    },
    {
     "name": "stdout",
     "output_type": "stream",
     "text": [
      "generated explanation: <pad> <extra_id_0> A knight is likely to be found in the US? A chess set is a game of chess, a game of chess, or a game of chess. A chess set is a set of chess cards that are crafted from wood, and are made of metal. It is a game of chess that is played in a chess room. It is a type of chess set that is used to play chess, and is a game of chess set is a game of chess set is a great way to play a game of chess, and it is a great way to play chess, and it is a great way to play a game of chess, and it is a great way to play chess, it is a great way to play chess. a chess set is a great way to win a game of chess to win a game of chess to win a chess to win a chess to win a game of chess to win a game of chess to win a game of chess to win a game of chess to win a game of chess to win a game to win a game to win a game to win a game to win. a game to win a chess to win a game to win a game to win a game to win a game to win a game to win a game to win a game to win a game to win a game to win a game to win a game to win a game to win a game to win a game to win a game to win a game to a game to win a game to win a game to win a game to win a game to win a game to win a game to defeat</s>\n",
      "########\n",
      "*******\n",
      "question: Jack saw little point to communicating beyond the basics.  To him, it was just a means to do what?\n",
      "answer: exchange information\n",
      "choices: ['go swimming', 'making friends', 'exchange information', 'people to think', 'confusion']\n",
      "common expl list: [\"Keeping the communication sparse would allow him to conserve energy by speaking less. Since communication is just a means to exchanging information, Jack would not see much 'point', to say, a conversation beyond the basics.\"]\n"
     ]
    },
    {
     "name": "stderr",
     "output_type": "stream",
     "text": [
      "\r",
      "  3%|█████▎                                                                                                                                                          | 33/986 [1:16:32<31:19:16, 118.32s/it]"
     ]
    },
    {
     "name": "stdout",
     "output_type": "stream",
     "text": [
      "generated explanation: <pad> <extra_id_0> Jack saw little point to communicating beyond the basics. Exchange information was a means to communicate with others. It was a means to exchange information. It was a way to exchange information with other people, and to exchange information. It was a way to exchange information and to communicate with others, it was a means to exchange information. It was a way to communicate with others and to share information. It was also a way to exchange information. It was a way to share information and share ideas. It was a way to exchange information and to exchange information with others. It was a way to exchange information and to exchange information. It was a means to exchange information and to exchange information with other people. It was a means to communicate with each other. It was a means to communicate. It was a means to exchange information and to exchange information and to exchange information and to exchange information and to exchange information and to exchange information. To exchange information and to exchange information and to exchange information and to exchange information. To exchange information and to exchange information and to exchange information in a way that would allow them to exchange information and to communicate with each other. To exchange information and to exchange information and to exchange information and to exchange information and to exchange information and to exchange information and to exchange information and to exchange information and to exchange information and to exchange information and to exchange information and to exchange information and to exchange information and to exchange information. To exchange information and to exchange information and to exchange information and to exchange information. To exchange information and to exchange information. To exchange information. To exchange information and exchange information and to exchange information and to exchange information with each other, to exchange information and to exchange information and to exchange information and to exchange information and to exchange information. To exchange information and to exchange information and to exchange information and to exchange information and to exchange information and to exchange information. To exchange information and exchange information. To exchange information, it was to exchange information with each other. To exchange information and to exchange information and information. To exchange information and exchange information with each other, the other, the other person, the other, the other person, the other, to exchange information and to exchange information. To exchange information. To exchange information and to communicate with each other, the other, the other, to exchange information, to exchange information about one another. To exchange information, communication is a means to exchange information, the other, the other, to exchange information, the other\n",
      "########\n",
      "*******\n",
      "question: I as a person don't kill others, why do I not?\n",
      "answer: value life\n",
      "choices: ['experience pleasure', 'laws', 'value life', 'thank god', 'go into debt']\n",
      "common expl list: [\"Someone who does not kill might have a great deal of respect for life; as a person's life is valuable, the opposite is true about the act of taking a life.\"]\n"
     ]
    },
    {
     "name": "stderr",
     "output_type": "stream",
     "text": [
      "\r",
      "  3%|█████▌                                                                                                                                                           | 34/986 [1:16:34<22:04:31, 83.48s/it]"
     ]
    },
    {
     "name": "stdout",
     "output_type": "stream",
     "text": [
      "generated explanation: <pad> <extra_id_0> I don't kill others, but I value myself. I value life is a life of value and I value life for it. I value life is a life of value and value. I value life is a life of value and value. I value life as a person because it is a life of value. I value life because it is a life of value. I value life is a life of value and value. I value life is a life of value. I value life is a life of value.</s>\n",
      "########\n",
      "*******\n",
      "question: What is likely to be a child's reaction to going to play?\n",
      "answer: happiness\n",
      "choices: ['happiness', 'tears', 'sit', 'being entertained', 'laugh']\n",
      "common expl list: ['Children like to play.']\n"
     ]
    },
    {
     "name": "stderr",
     "output_type": "stream",
     "text": [
      "\r",
      "  4%|█████▋                                                                                                                                                          | 35/986 [1:19:18<28:25:30, 107.60s/it]"
     ]
    },
    {
     "name": "stdout",
     "output_type": "stream",
     "text": [
      "generated explanation: <pad> <extra_id_0> A child's reaction to going to play is likely to be a positive one, especially if the child is happy. The child is likely to be happy and have a positive outlook on life. The child is likely to be happy and excited about going to the playground. The child is likely to be happy and excited about going to play. The child is likely to be happy and have a positive attitude about going to the playground. The child is likely to be happy and excited about going to the playground. The child is likely to be excited about going to play with a positive feeling. This is likely to be a positive experience, and the child is likely to be excited about going to the playground, which is a positive experience, and the child is likely to be excited about going to the park, and the excitement of going to the playground. The child is likely to be able to enjoy going to play with their friends, family and friends. This is because the child is likely to be more than just a great place to play with their friends, family and friends, and to have fun playing with their friends, and to have a positive attitude about going to the playground, and to play with their friends, and to have fun with the experience, and to have a positive and positive experience. The play is a great opportunity to be able to play with their friends, and to be able to be able to play with friends. This is because it is because the play is a great opportunity to play with the play with the kids will be able to enjoy the game. This is the best way to be happy and safe. The play is a great way to play with the children. The play is a great way to experience the joy of going to play with the game, the atmosphere, and the excitement and excitement of going to the park. The play time is a great way to experience the excitement of going to the park is a great way to experience the excitement and excitement of the excitement and excitement. The excitement and excitement of going to play with the children and to experience the joy and excitement and excitement. The play experience is a safe and happy. The excitement and excitement of going to the park is a fun and exciting time for a great experience a great time. The excitement and excitement and excitement of going to the park is a great experience the excitement and excitement of the park is a great experience. The child\n",
      "########\n",
      "*******\n",
      "question: Where could you find multiple ruler that are owned by different people?\n",
      "answer: office\n",
      "choices: ['measure distance', 'england', 'office', 'drawer', 'desk']\n",
      "common expl list: ['When someone works in an office, even if it is part-time or freelance, they may be required to measure distances e.g., in departments or cubicles, and so, offices are a good place to find ruler.', 'Office buildings often have rulers.']\n"
     ]
    },
    {
     "name": "stderr",
     "output_type": "stream",
     "text": [
      "\r",
      "  4%|█████▉                                                                                                                                                           | 36/986 [1:19:21<20:06:35, 76.21s/it]"
     ]
    },
    {
     "name": "stdout",
     "output_type": "stream",
     "text": [
      "generated explanation: <pad> <extra_id_0> You will find multiple rulers that are owned by different people. They are used to represent offices, offices, and other offices. They are also used to represent different people. They are also used to represent different people's interests. They are also used to represent different types of rulers, such as rulers, desks, and desks. They are also used to represent different types of rulers, such as office buildings, offices, and other buildings. They are also used to represent different types of rulers, such as rulers, and other rulers, and other rulers, and other rulers. They are also used to represent different parties' interests. They are also used to represent them in the same office.</s>\n",
      "########\n",
      "*******\n",
      "question: When remembering you referencing things that you have what?\n",
      "answer: prior knowledge of\n",
      "choices: ['memory cells', 'learning about', 'prior knowledge of', 'brain cells', 'nerve cells']\n",
      "common expl list: ['Most of the things a person knows come from learning in the past and usually have some recollection involved.']\n"
     ]
    },
    {
     "name": "stderr",
     "output_type": "stream",
     "text": [
      "\r",
      "  4%|██████                                                                                                                                                           | 37/986 [1:20:59<21:47:22, 82.66s/it]"
     ]
    },
    {
     "name": "stdout",
     "output_type": "stream",
     "text": [
      "generated explanation: <pad> <extra_id_0> s and theology is a fundamental component of understanding and understanding. The first step towards understanding and understanding the world is to understand the world through the eyes and the senses. The second step is to understand the world through the eyes and senses. The second step is to understand the world through the eyes and senses. The third step is to remember the meaning of the meaning of the meaning of the meaning of the meaning and the meaning of the meaning. The third step is to remember the meaning of the meaning of the meaning of the meaning. Then, the first step is to remembering the meaning of the meaning of the meaning of meaning of the meaning of the meaning of the meaning of the meaning of the meaning of the meaning of the meaning of the meaning of the meaning of the meaning of the meaning of the meaning of the meaning of the meaning of the meaning of the meaning of the meaning of the meanings. The memory. The memory is the meaning of the meaning of the meaning of the meaning of the meaning of the meaning of the meaning of the meaning of the meaning of the meaning of the meaning of the meaning of the meaning of the meaning of the memory. The memory of the meaning of the meaning of the meaning of the meaning of the meaning of the meaning of the meaning of the meaning of the meaning of the meaning of the meaning of the meaning of the meaning of the meaning of the meaning of the meaning of the meaning of the meaning of the meaning of the meaning of the meaning of the meaning of the meaning of the meaning of the meaning of the meaning of the meaning of the meaning of the meaning of the meaning of the meaning of the meaning of the meaning of the meaning of the meaning of the meaning meaning of the meaning of the meaning of the meaning of the meaning of the</s>\n",
      "########\n",
      "*******\n",
      "question: After running twenty six miles he felt like he had lost twenty six pounds, this was from all the what?\n",
      "answer: sweat\n",
      "choices: ['exercise', 'sweat', 'pass out', 'collapse', 'drink water']\n",
      "common expl list: ['Sweating is a way to cool down the body, and so after running for a long time, a person might sweat a lot.']\n"
     ]
    },
    {
     "name": "stderr",
     "output_type": "stream",
     "text": [
      "\r",
      "  4%|██████▏                                                                                                                                                          | 38/986 [1:21:02<15:29:45, 58.85s/it]"
     ]
    },
    {
     "name": "stdout",
     "output_type": "stream",
     "text": [
      "generated explanation: <pad> <extra_id_0> After running twenty six miles he felt like he had lost twenty six pounds, this was from all the what? After running twenty six miles he felt like he had lost twenty six pounds. This is because sweat is a natural weight loss tool that helps you lose weight, especially if you are a man who is a man who is a man who is a man who is a man who is a man who is a man who is a man who is a man who is a man who is</s>\n",
      "########\n",
      "*******\n",
      "question: In what western sate might one find a bald eagle?\n",
      "answer: colorado\n",
      "choices: ['captivity', 'colorado', 'zoo', 'canada', 'in washington']\n",
      "common expl list: ['Eagles are native to the western United States, and Colorado is a western state.']\n"
     ]
    },
    {
     "name": "stderr",
     "output_type": "stream",
     "text": [
      "\r",
      "  4%|██████▎                                                                                                                                                          | 39/986 [1:21:06<11:07:49, 42.31s/it]"
     ]
    },
    {
     "name": "stdout",
     "output_type": "stream",
     "text": [
      "generated explanation: <pad> <extra_id_0> A bald eagle is a bird that lives in the western sate of the state of colorado. The bald eagle is a rare bird that lives in the western sate and is a common sight in the western sate. The bald eagle is a rare bird that lives in the colorado mountains and is often seen in the mountains of the western sate. The bald eagle is a common sight in the western sate, which is located in the western sate.</s>\n",
      "########\n",
      "*******\n",
      "question: When a retired person returns to work they likely need to do what?\n",
      "answer: earn money\n",
      "choices: ['key', 'earn money', 'get out of bed', 'need money', 'understand themselves']\n",
      "common expl list: ['When a person is retired, they probably are not making enough money through a pension benefit to support themselves after retirement, so they work again, perhaps full-time, in order to have enough money.(money key)']\n"
     ]
    },
    {
     "name": "stderr",
     "output_type": "stream",
     "text": [
      "\r",
      "  4%|██████▌                                                                                                                                                          | 40/986 [1:24:16<22:48:22, 86.79s/it]"
     ]
    },
    {
     "name": "stdout",
     "output_type": "stream",
     "text": [
      "generated explanation: <pad> <extra_id_0> A retired person is likely to need to earn money. This is because a retired person can return to work and earn money by doing something they love. It is important to have a steady job and a steady income. This can be done by earning money by completing tasks such as taking on a new job or completing other tasks. This can include earning money by taking on new projects or taking on new ones. This can include taking on new tasks and completing tasks that will help to pay off their debts. This is because retired person is likely to need to earn money when they return to work. Money can be a retired person can earn money by taking on new tasks that can be done by taking on new tasks that can be done by taking on new tasks that can be done by taking on new tasks. This can include taking on new tasks that require new tasks, such as taking on new tasks that require new tasks that can be done by taking on new tasks that can be paid off by taking on new tasks. This is because retirement is a retirement age. This is because retirement is a retirement income is a person’s retirement income. This money can be used to pay for retirement. This money can be used to earn money, but it can also be used to make a person to make money by earning money. Money can be used to purchase new-to-know-how-how--have-have-against-against--have----against--have--have---this can be used to make money. It can be used to make money. It can be used to make money by a retirement retirement is a great way to make money by simply a person’s retirement to earn money by doing so, it can be a retirement can be a person to make money. It can be used to make money. It can also be used to make money, it can be used to make money by making money by doing so, it can be used to do so by a person a retired person’s retirement to make money. It can be used to make money by re-enter retirement to make re-entry to work to earn money. It can be used to earn money from the retirement plan, and it can be used to make money, and it can be used to make money from the money can be used to make money\n",
      "########\n",
      "*******\n",
      "question: What can be the result of meeting people with similar attitudes?\n",
      "answer: making new friends\n",
      "choices: ['anxiety', 'being bored', 'love', 'making new friends', 'new job']\n",
      "common expl list: [\"Friends often share some interests and/or attitudes, and when someone meets people with similar attires, that's a good indicator they might be good candidates for becoming friends.\", 'People with similar interests are likely to be friends, or familiars to each other, having many opportunities to meet each other and have things in common to discuss.']\n"
     ]
    },
    {
     "name": "stderr",
     "output_type": "stream",
     "text": [
      "\r",
      "  4%|██████▋                                                                                                                                                          | 41/986 [1:25:08<20:01:15, 76.27s/it]"
     ]
    },
    {
     "name": "stdout",
     "output_type": "stream",
     "text": [
      "generated explanation: <pad> <extra_id_0> New friends are people who have similar attitudes and who share similar values. They can also be friends and have fun. They can also be friends with other people who have similar attitudes. They can also be friends with other people who share similar values and values. They can also help to build relationships and build trust with others. They can also help to build trust and build trust with others. They can also help to build relationships with others. They can also help to build trust and support each other. They can also help to make new friends. They can help to build relationships and friendships and support one another. They can also help to build a community and build a sense of belonging. They can also help them to build a sense of belonging and friendship. They can help to build relationships and friendships and build new friendships that are supportive of each other and help to build relationships. They can also help to build a sense of belonging to each other. They can help others who are interested in a new friend, mentor, and help others with their own feelings and beliefs. They can help them to build a sense of belonging to one another. They can help them to build a sense of belonging can help them to make new friends who are open up their minds and to develop new ones.</s>\n",
      "########\n",
      "*******\n",
      "question: Danny noticed a ceramic object on the table and picked a grape out of it.  What might have been on the table?\n",
      "answer: bowl of fruit\n",
      "choices: ['kitchen', 'painting of fruits', 'fruit basket', 'bowl of fruit', 'fruit stand']\n",
      "common expl list: ['A bowl of fruit is an appropriate item to put on a table, as it can hold many kinds of fruit.']\n"
     ]
    },
    {
     "name": "stderr",
     "output_type": "stream",
     "text": [
      "\r",
      "  4%|██████▊                                                                                                                                                          | 42/986 [1:26:49<21:59:17, 83.85s/it]"
     ]
    },
    {
     "name": "stdout",
     "output_type": "stream",
     "text": [
      "generated explanation: <pad> a bowl of fruit. a bowl of fruit is a bowl of fruit that is shaped like a bowl of grapes and is a great way to add flavor to a bowl of fruit. It is a bowl of fruit that is a bowl of fruit that is a bowl of fruit. It is a bowl of fruit that is shaped like a bowl of fruit. It is a bowl of fruit that is shaped like a bowl of fruit. It is a bowl of fruit that is shaped like a bowl of fruit is a bowl of fruit is a bowl of fruit that is a bowl of fruit. Fruit is a bowl of fruit that is a bowl of fruit that is a bowl of fruit that is a bowl of fruit that is a bowl of fruit that is a bowl of fruit that is a bowl of fruit and is a bowl of fruit and is a bowl of fruit. It is a bowl of fruit and is a bowl of fruit and is a bowl of fruit and is a bowl of fruit and is a bowl of fruit and is a bowl of fruit and is a bowl of fruit and is a bowl of fruit and is a bowl of fruit and is a bowl of fruit and is a bowl of fruit and is a bowl of fruit and is a bowl of fruit and is a bowl of fruit and is a bowl of fruit and is a bowl of fruit and is a bowl of fruit and a bowl of fruits and a container of fruits and a</s>\n",
      "########\n",
      "*******\n",
      "question: The nose dipped and alarms went off inside the what?\n",
      "answer: aircraft\n",
      "choices: ['car', 'sniff', 'aircraft', 'upper respiratory tract', 'missile']\n",
      "common expl list: ['The nose dips and alarms go off inside the cockpit of an aircraft when the nose of the aircraft dips too low.']\n"
     ]
    },
    {
     "name": "stderr",
     "output_type": "stream",
     "text": [
      "\r",
      "  4%|██████▉                                                                                                                                                         | 43/986 [1:29:51<29:40:12, 113.27s/it]"
     ]
    },
    {
     "name": "stdout",
     "output_type": "stream",
     "text": [
      "generated explanation: <pad> <extra_id_0> The nose dipped and alarms went off inside the aircraft. The nose dipped and the alarm went off inside the aircraft. The alarms went off inside the aircraft and the aircraft was able to respond to the alarms. The alarms were activated by a shunt that triggered the alarm. The nose dipped and the alarm went off when the aircraft was approaching a certain point in time. The aircraft was able to respond to the noise of the aircraft and the alarm went off when the aircraft rolled out of the aircraft, the alarm system was able to soaring above the aircraft dunken the aircraft. The aircraft scouts were able to re-entry the aircraft and to the ground, the aircraft drew the aircraft and the aircraft drew the air. The aircraft dreaded the aircraft and the pilots were able to get to the ground. The aircraft drew was able to re-entry. The aircraft drew the aircraft to the ground. The aircraft was able to escape the aircraft and to the ground, the aircraft was able to escape the aircraft and then to land. The aircraft’s occupants were able to escape. The aircraft was able to escape the airfield. The aircraft was able to exit the aircraft and to return. The aircraft was able to return to the airfield. The aircraft was able to land. The aircraft was able to land and the airfield. The aircraft was able to land and return to the airfield and the airfield, the aircraft was able to land and return to the airfield, but the aircraft was able to land and then to land. The aircraft was able to land and the airfield was able to land and then it was able to land and land and the aircraft was able to land and the aircraft was able to land and land and then the aircraft was able to land and land and then it was able to return to the air and land and land and land. The aircraft were able to land and the aircraft were able to land and land and land and land on the ground. The aircraft was able to land and land on the airfields and land on land and land and the air. The aircraft was able to land and land on the airfields were able to\n",
      "########\n",
      "*******\n",
      "question: Where is a cord likely to be on a tent?\n",
      "answer: sporting goods store\n",
      "choices: ['inside tent', 'delivery room', 'hardware store', 'backpack', 'sporting goods store']\n",
      "common expl list: ['Sporting goods stores likely have tents on display which generally come with their cords.']\n"
     ]
    },
    {
     "name": "stderr",
     "output_type": "stream",
     "text": [
      "\r",
      "  4%|███████▏                                                                                                                                                         | 44/986 [1:30:44<24:50:50, 94.96s/it]"
     ]
    },
    {
     "name": "stdout",
     "output_type": "stream",
     "text": [
      "generated explanation: <pad> <extra_id_0> A cord is a staple of any tent and is a staple of any tent. It is a staple of any tent, whether it is a tent or a tent tent. It is also a staple of any tent. It is a staple of any tent, whether it is a tent or a tent. It is also a staple of any tent. It is also a staple of any tent. It is also a staple of any tent. It is a staple of any tent, such as a tent. It is also a great way to store a sporting goods store. It is also a great way to store a tent. It is a great way to store a sporting goods store, such as a sporting goods store, such as a tent. A tent can be a good way to store a sporting goods store. It is also a great way to store a great way to store a tent to store a sporting goods store. Besides being a tent is a great way to store a great way to store a tent is a great way to store a great way to store a tent to store a tent is a good way to store a tent to store a tent to store a tent to store</s>\n",
      "########\n",
      "*******\n",
      "question: The man reduced the town to rubble out of hate, what was his goal?\n",
      "answer: destroy enemy\n",
      "choices: ['wage war', 'play nice', 'fight enemy', 'stab to death', 'destroy enemy']\n",
      "common expl list: ['someone who is completely obsessed with destroying an enemy (going so far as to want them completely obliterated from existance) is not a person who is playing nice.']\n"
     ]
    },
    {
     "name": "stderr",
     "output_type": "stream",
     "text": [
      "\r",
      "  5%|███████▎                                                                                                                                                        | 45/986 [1:33:53<32:14:17, 123.33s/it]"
     ]
    },
    {
     "name": "stdout",
     "output_type": "stream",
     "text": [
      "generated explanation: <pad> <extra_id_0> The man reduced the town to rubble out of his hatred by destroying enemy buildings and buildings. The man also aimed to destroy enemy buildings and buildings and to destroy enemy buildings. The man also aimed to destroy enemy buildings and buildings that were destroyed by the hateful attacks of the enemy. The man's goal was to destroy enemy buildings and buildings, not to mention destroy them. The man reduced the town to rubble out of fear and hatred. The man also sought to destroy enemy buildings and buildings that were damaged by the hateful attacks of his enemies. The man also reduced the town of his enemies and destroy them with a fire, and destroy their enemies with a fire, and destroy the town of the enemy. The man's goal was to destroy enemy buildings and buildings, and destroy enemy buildings and destroy the town to a fire, and destroy them with a fire. The goal was to destroy enemy buildings and buildings. The goal was to destroy enemy buildings and buildings. The man wanted to destroy them. The man wanted to destroy them. The man's goal was to destroy enemy buildings and destroy the town's enemies. The man's goal was to destroy the enemy. The man's goal was to destroy the enemy and destroy the enemy's enemies' buildings and destroy enemy buildings and destroy them with a weapon. The goal was to destroy the enemy and destroy the enemy. The man was determined to destroy the enemy's weapons and destroy enemy's weapons and destroy the enemy. The man also wanted to destroy enemy and destroy enemy and destroy the enemy. The goal was to destroy the enemy and destroy the enemy and destroy the town's enemies and destroy the enemy's enemies. The goal was to destroy the enemy and destroy the enemy and destroy the town. The man also wanted to destroy the enemy and destroy the city and destroy the enemy and destroy the town and destroy enemy and destroy the enemy. The man was determined to destroy the enemy and destroy the enemy and destroy the enemy and destroy the enemy with the destruction of the enemy. The man was determined to destroy the enemy and destroy the enemy and destroy the enemy. The man's goal was to destroy the enemy's enemies and destroy the enemy and destroy the enemy. The goal was to destroy enemy's enemies and destroy enemy's enemies. The man reduced the enemy's enemies's enemies and destroy their enemies. The man's goal was to destroy enemy's destruction. The goal was\n",
      "########\n",
      "*******\n",
      "question: The toddler thought it would be fun to try eating breakfast in bed, what resulted?\n",
      "answer: mess\n",
      "choices: ['contentment', 'indigestion', 'vomiting', 'mess', 'catastrophe']\n",
      "common expl list: [\"Toddlers like to explore and test their own boundaries. They often don't know their limits, and it's common for their behavior to result in a mess. In the toddler's case, it involved getting breakfast on the bed due to his inexperience\", \"Toddlers have poor coordination.  Even if they could somehow manage to not fall off the bed, it's likely that they would spill the food that they took with them to bed.  A mess would be made.\"]\n"
     ]
    },
    {
     "name": "stderr",
     "output_type": "stream",
     "text": [
      "\r",
      "  5%|███████▍                                                                                                                                                        | 46/986 [1:36:14<33:32:58, 128.49s/it]"
     ]
    },
    {
     "name": "stdout",
     "output_type": "stream",
     "text": [
      "generated explanation: <pad> <extra_id_0> The toddler thought it would be fun to try eating breakfast in bed, but he thought it would be messy. It was a mess that was a mess that was a mess that was left behind by the toddler. It was a mess that was left behind by the toddler. It was a mess that was a mess that was left behind by the toddler. It was a mess that was left behind by the toddler. Breakfast was a mess of mess, and the toddler was able to eat it in bed without having to clean up after a mess, and the toddler was left to clean up after it, which was messy. It was a mess of breakfast was a mess of mess. It was a mess and the toddler was able to enjoy in a mess. Breakfast was also messy and messy. It was messy and messy and messy. It was messy mess. The toddler thought it would be fun to try eating breakfast in bed and the toddler was able to eat it in bed without it. It was also messy and messy. It was messy mess was a mess. It was messy and messy. It was messy breakfast in bed, it was a mess that was messy and messy and messy and messy. It was messy and messy and messy and messy messy. It was messy and messy and messy and messy and messy, and it was messy and messy breakfast in bed. It was messy and messy, messy and messy and messy and messy. It was messy and messy and messy and messy, it was messy and messy and messy and messy and messy. It was messy and messy and messy and messy and messy and messy and messy and messy. It was messy and messy. It was messy and messy and messy and messy. It was messy and messy and messy and messy and messy and messy and messy and messy and messy and messy and messy, and messy and messy. It was a messy mess and messy and messy and messy and messy and messy and messy and messy, it was messy and messy and messy and messy. It was messy and messy and messy and messy and messy and messy. It was messy and messy. It was messy and messy, messy and messy.</s>\n",
      "########\n",
      "*******\n",
      "question: He had a hard time getting his father's attention, he hoped that the winning baseball game would finally get him some what?\n",
      "answer: recognition\n",
      "choices: ['confirmation', 'celebrating', 'pride', 'recognition', 'happiness']\n",
      "common expl list: ['One way to gain recognition from ones parents is by accomplishing things that they value. For example, children might hope to make their parents proud of them by excelling at sports.']\n"
     ]
    },
    {
     "name": "stderr",
     "output_type": "stream",
     "text": [
      "\r",
      "  5%|███████▋                                                                                                                                                         | 47/986 [1:36:31<24:48:28, 95.11s/it]"
     ]
    },
    {
     "name": "stdout",
     "output_type": "stream",
     "text": [
      "generated explanation: <pad> <extra_id_0> He hoped that the winning baseball game would get him some recognition from his father. He hoped that the winning game would give him some recognition from his father. The winning baseball game was a great opportunity for his father to get his attention, but it was also a difficult time for him to get his father's attention. The winning baseball game was a great way to show his father that he cared about him. The winning baseball game was a great way to show his appreciation for the game and his father's efforts. The winning baseball game was a great way to show his father's attention, and he would get his father's attention, and he would also give him a sense of recognition for his father's interest in him. The winning pitcher would give him a chance to show his father's attention. The winning pitcher would also give him recognition for his efforts to show his appreciation for his efforts to show his father that he would show his father that</s>\n",
      "########\n",
      "*******\n",
      "question: The toddler is awaking from a nap, what doesn't he feel anymore?\n",
      "answer: tiredness\n",
      "choices: ['nervous', 'eyes opening', 'getting out of bed', 'tiredness', 'discomfort']\n",
      "common expl list: ['Children can easily get tired at their ontervall and a nap is an effective way for them to get over tiredness. Then when they wake up, they do not feel tiredness any longer.']\n"
     ]
    },
    {
     "name": "stderr",
     "output_type": "stream",
     "text": [
      "\r",
      "  5%|███████▊                                                                                                                                                         | 48/986 [1:38:18<25:41:14, 98.59s/it]"
     ]
    },
    {
     "name": "stdout",
     "output_type": "stream",
     "text": [
      "generated explanation: <pad> <extra_id_0> The toddler is tired from a nap, and he is waking from a nap. The toddler is awaking from a nap, and he is feeling tired and tired. The toddler is waking from a nap, and he is unable to take a nap. The toddler is unable to take a nap because he is unable to take it in. The toddler is able to take a nap and sleep. The toddler is unable to take a nap. The toddler is waking from a nap is waking from a napping from a nap when he is tired and tired. The toddler is awakens and awaking from a nap, and waking from a nap is unable to take a nap. The toddler is sleeping in bed with a nap and is unable to sleep. The toddler is tired and tired and tired. It is also unable to take a nap. The nap is tired and is unable to take a nap and is unable to sleep and is tired when a nap. It is normal to wake up from a nap time and is tired. It is normal to wake up from awaking from a nap and the toddler is tiredness is normal to wake up from a nap, but it is also not awakened to a nap and is awakened to wake up from a nap and sleep. This is a time to wake up to wake up to wake up to sleep and to wake up to wake up to wake up to wake up to wake up to wake up to wake up to wake up to wake up to a nap to wake up to sleep and to wake up to wake up to waking</s>\n",
      "########\n",
      "*******\n",
      "question: John listened to music when he needed to focus.  It helped him achieve what?\n",
      "answer: quiet mind\n",
      "choices: ['express emotion', 'beautifull', 'irritate', 'bad environment', 'quiet mind']\n",
      "common expl list: ['Music can, at the very least, provide passive background noise as one works to help one focus. More specifically, music might have positive, uplifting or emotional qualities that are conducive to focus and concentration.', \"There's scientific evidence that listening to music can help people think better and concentrate easier.\", \"When one is trying to focus on a task, it's common to listen to music to help one focus.\"]\n"
     ]
    },
    {
     "name": "stderr",
     "output_type": "stream",
     "text": [
      "\r",
      "  5%|███████▉                                                                                                                                                        | 49/986 [1:41:06<31:06:19, 119.51s/it]"
     ]
    },
    {
     "name": "stdout",
     "output_type": "stream",
     "text": [
      "generated explanation: <pad> <extra_id_0> Music helped John focus on his work. It helped him focus on his work. It helped him focus on his work and his life. It also helped him focus on his work. It helped John focus on his work and his life. It helped him focus on his work. It helped him focus on his work and his life. It helped him focus on his work and his life. It also helped him focus on his work and his life. It also helped him focus on his work and his life. It helped him focus on what he was doing.<extra_id_0> Music was also helpful in a quiet mind. It helped him achieve his goals. It helped him focus. It also helped him focus. It helped him focus. It helped him focus on his work and focus. It helped him focus on his thoughts. It helped him focus on his thoughts and feelings. It also helped him focus. It helped him focus more effectively. It also helped him focus on his thoughts and feelings. It helped him focus. It also helped him focus on his task. It also helped him focus. The music helped him to focus on his thoughts. The music also helped him focus on his thoughts and listen to music helped him focus. The music also helped him focus. The music helped him focus on the task at a quiet mind. The music helped him focus on his thoughts and to keep his focus. The music helped him focus on his thoughts and feelings. The music he needed to focus. The music helped him focus on his thoughts and thoughts and feelings. The music helped him focus. The music helped him to relax and focus. The music helped him focus on his work and study. It helped him focus. The music helped him focus on his thoughts and feelings. The music helped him focus and concentrate. It helped him focus. The music helped him focus more effectively focus on his thoughts and feelings. The music helped him focus more effectively. The music helped him focus. The music helped him focus and focus. The music helped him focus. The music helped him focus and concentrate more easily. The music helped him focus. The music helped him focus and focus. The music helped him focus on the task at a more efficiently. The music helped him focus on his thoughts and feelings. The music also helped him focus on his thoughts and listening to music helped him focus. The music helped him focus on his thoughts and emotions. The music helped him focus. The music helped him focus on the task at a quieter and helps him focus.\n",
      "########\n",
      "*******\n",
      "question: If I were to suffer from sudden illness I would be within reason to visit where?\n",
      "answer: hospital\n",
      "choices: ['nursing home', 'hospital', 'brain', 'elderly person', 'building']\n",
      "common expl list: ['A hospital is a place where people go to receive treatment for illnesses.', 'A hospital is a center for treatment and care of those suffering from illness.', 'If you were suddenly suffering an illness, it would be a reasonable thing to go to the hospital for treatment of that illness.', 'Anyone can suffer a sudden illness, but hospitals are where the equipment and personnel exist to deal with sudden illnesses.']\n"
     ]
    },
    {
     "name": "stderr",
     "output_type": "stream",
     "text": [
      "\r",
      "  5%|████████                                                                                                                                                        | 50/986 [1:42:06<26:25:40, 101.65s/it]"
     ]
    },
    {
     "name": "stdout",
     "output_type": "stream",
     "text": [
      "generated explanation: <pad> <extra_id_0> If I were to suffer from sudden illness I would be within reason to visit a hospital. If I would be within reason to visit a hospital if I were to suffer from a sudden illness or if I were to suffer from a sudden illness I would be within reason to visit a hospital. Hospitals are often used to treat patients with a variety of conditions including pneumonia, diabetes, and heart failure. In addition to the hospital, a hospital is usually a place to visit if I were to suffer from sudden illness. Hospitals are often used to treat patients who are suffering from a variety of different types of illness. Hospitals are often located in the hospital. Hospitals are also a good place to visit. Hospitals are also a good idea. Hospitals are also a good idea to visit a hospital in order to treat someone suffering from a medical condition. Hospitals are also able to provide a place to stay in the case of a sudden illness. Hospitals are also able to provide a hospital. Hospitals are also able to provide care for the patient who are able to provide care for the patient who is able to care for the patient. Hospitals are also able to care for the patient. Hospitals are also able to provide care for the patient. Hospitals are able to provide care for the patient’s illness.</s>\n",
      "########\n",
      "*******\n",
      "question: John kept standing up.  He was afraid that if he were sitting down he might do something. What might he be afraid of?\n",
      "answer: fall asleep\n",
      "choices: ['fall asleep', 'being supported on chair', 'comfort', 'clowns', 'flatulence']\n",
      "common expl list: ['Sitting down makes one comfortable; sitting down with eyes closed makes one fall asleep.', 'When standing, the chances of falling asleep abruptly would be much less (assuming that one is awake).']\n"
     ]
    },
    {
     "name": "stderr",
     "output_type": "stream",
     "text": [
      "\r",
      "  5%|████████▎                                                                                                                                                       | 51/986 [1:45:08<32:41:33, 125.88s/it]"
     ]
    },
    {
     "name": "stdout",
     "output_type": "stream",
     "text": [
      "generated explanation: <pad> <extra_id_0> John kept standing up. He was afraid that if he was sitting down he might do something. Also, he was afraid that if he was sitting down he would fall asleep. This is because John was afraid that if he were sitting down he might fall asleep. This is because he was afraid of falling asleep. This is because he was afraid of falling asleep. Also, John was afraid that if he were standing up he might fall asleep. John kept standing up and he was afraid that if he was sitting down he might fall asleep, he would fall asleep, and fall asleep, he would fall asleep, and he would fall asleep in his sleep. This was because he was afraid of falling asleep, and he was afraid of falling asleep in his sleep. This is because he was afraid that he was afraid that he was standing up for the rest of his head, he was afraid of falling asleep in his sleep. This fearing that he would fall asleep if he would be afraid to fall asleep, and that he would fall asleep. This is because he would fall asleep if he was afraid of falling asleep he would fall asleep in bed. This was because he would be afraid to fall asleep. This was because he would be standing up to fall asleep he would fall asleep. This was because he would be afraid of falling asleep. This was because he would be afraid of falling asleep. This was because he would fall asleep, he would be afraid of falling asleep. This was because he would fall asleep. This is because he would be afraid to fall asleep. This is because he would fall asleep while standing up and fall asleep. This is because he would fall asleep. This is because he would fall asleep. This was because he was afraid of falling asleep, and he was standing up and fall asleep, and he was afraid that he was sitting down. It was afraid of falling asleep, which was because he was afraid that he was afraid that he was afraid that he was standing up and he was afraid of falling asleep. It was afraid that he was afraid of falling asleep. It was afraid that he was afraid that he was afraid that he was afraid of falling asleep. It was also afraid that he was afraid that he would fall\n",
      "########\n",
      "*******\n",
      "question: He didn't know that good things can be posion in large doses.  He thought that he was just eating an essential what?\n",
      "answer: nutrient\n",
      "choices: ['antidote', 'consumable', 'nutrient', 'vitamin', 'medicine']\n",
      "common expl list: ['He thought that he was just eating an essential nutrient, but in large doses, it could be poisonous.']\n"
     ]
    },
    {
     "name": "stderr",
     "output_type": "stream",
     "text": [
      "\r",
      "  5%|████████▍                                                                                                                                                       | 52/986 [1:48:09<36:57:58, 142.48s/it]"
     ]
    },
    {
     "name": "stdout",
     "output_type": "stream",
     "text": [
      "generated explanation: <pad> <extra_id_0> He didn't know that good things can be good in large doses. They were just eating an essential food. They were eating a protein shake that was full of nutrients and nutrients. They were also eating a protein shake that was high in fiber, protein, and fiber. Vitamin E is a powerful antioxidant that is beneficial for the body and can help prevent cavities and other diseases. Vitamins are a powerful antioxidant that helps fight against free radicals and other harmful substances. They are also a great source of energy and energy. They are also a great source of nutrients that are important to the body and are a great way to help maintain the health of the body and are a good way to maintain the immune system and immune system. Vitamin E is a great way to maintain the immune system and immune system. Vitamin E is also a great way to maintain the immune system and can help maintain healthy immune system. Vitamin E is a powerful antioxidant. Vitamin E is a powerful way to maintain the immune system and helps maintain immune system. Vitamin E is a key to a healthy lifestyle. Vitamin E is a powerful way to maintain the immune system, and it is a powerful way to maintain healthy immune system. Vitamin E is a powerful way to maintain the immune system. Vitamin E is a powerful way to maintain the immune system. Vitamin E is a powerful way to maintain the immune system. Vitamin E is a key to maintain a key to maintain vitality. Vitamin E is a key to maintain healthy food. Vitamin E is a healthy, active, a powerful antioxidant. Having a healthy, nutritious, and a key to a healthy, and it is a powerful, and it is a powerful antioxidant. Vitamin E is a key to maintain a healthy and balanced diet. Vitamin E is a nutrient-rich diet is a powerful antioxidant. Vitamins are a healthy and balanced diet, and they are a nutrient-rich diet is a healthy, balanced diet is a powerful antioxidant. Vitamins are a powerful antioxidant, vitamin, and a great way to increase the health of the body. Vitamins are also a powerful way to help maintain energy, and it can help to maintain energy, and it can help to maintain energy, and it can help to maintain energy, and it can help to maintain energy, and it can help to maintain energy,\n",
      "########\n",
      "*******\n",
      "question: The police didn't pay any favors, their job was to what?\n",
      "answer: force law\n",
      "choices: ['force law', 'board vessels', 'arrest', 'arm weapons', 'direct traffic']\n",
      "common expl list: ['Police are usually tasked with upholding the law, and if they see a law being broken they will intervene (forceful intervention); moreover, they also coordinate with other officers (direct traffic and board vessels). These activities do not involve favors.']\n"
     ]
    },
    {
     "name": "stderr",
     "output_type": "stream",
     "text": [
      "\r",
      "  5%|████████▌                                                                                                                                                       | 53/986 [1:51:03<39:19:10, 151.71s/it]"
     ]
    },
    {
     "name": "stdout",
     "output_type": "stream",
     "text": [
      "generated explanation: <pad> <extra_id_0> The police didn't pay any favors, their job was to make sure that the public was safe and that the law was being followed. The law was to make sure that the public was protected and protected from the elements. The police didn't pay any favors, their job was to make sure that the public was protected and protected. The police were not paid any favors, their job was to make sure that the public was protected and protected. The police didn't pay any favors, their job was to make sure that the public was safe and secure. The police were also to make sure that the public. The law was to be safe and secure. The police were also to make sure that the public safe and secure. The police were also to make sure that the public was protected and that the public safe and secure. The police were also to make sure that the public was protected and that the public was safe and secure. The police were also to make sure that the public was protected. The police were also able to protect themselves and their job was to protect themselves and their job was to make sure that they were properly and effectively defend themselves. The police were also to be protected and that the public was protected. The police were able to protect the public from any criminals were safe. The police were not able to protect themselves. The police were safe and secure. The police were able to protect their job was safe. The police were able to protect their job was to protect the public from any harm. The police were to protect the public. The police were to protect the public safe. The police were to protect the public from any harm to the safety of the public. The police were to keep the public safe. The police were to keep the public safe and secure. The police were also to protect the public to keep the public safe and secure. The police were not to break into the public. The police were to keep the public safe, secure and secure. The police were to keep the public safe. The police were to protect the public safe and secure. The police were also to keep the public safe and secure. The police were not able to keep the public safe. The police were not charged with the law enforcement officials and the public safe and the public safe. The police were also to keep the public safe. The police were able to keep the public safe and secure. The police were also able to keep the public safe and secure. The police were\n",
      "########\n",
      "*******\n",
      "question: The place specialized in colorful arrangements, but the also had a toy balloon or two where?\n",
      "answer: flower shop\n",
      "choices: ['see work', 'birthday party', 'flower shop', 'parade', 'toy store']\n",
      "common expl list: ['Flower shops sell interesting arrangements made with colorful flowers.', 'Batches of balloons are available at flower shops, where floral arrangements are sold, and rainbow contruction paper is usually found in art shops and classrooms.']\n"
     ]
    },
    {
     "name": "stderr",
     "output_type": "stream",
     "text": [
      "\r",
      "  5%|████████▊                                                                                                                                                       | 54/986 [1:51:46<30:50:56, 119.16s/it]"
     ]
    },
    {
     "name": "stdout",
     "output_type": "stream",
     "text": [
      "generated explanation: <pad> <extra_id_0> The flower shop had a toy balloon or two, and the shop also had a toy balloon or two. The flower shop also had a toy balloon or two, and a toy balloon or balloon balloon. The flower shop also had a balloon display and a toy balloon. The flower shop also had a toy balloon and a toy balloon. The flower shop also had a toy balloon that was a fun way to display balloons. The flower shop also had a balloon stand that specialized in balloons and colorful arrangements. The flower shop also had a balloon stand was decorated with a toy balloon stand that was decorated with colorful balloons. The balloon stands were decorated with colorful balloons were decorated with colorful balloons are a popular holiday gift. The flower shop also had a toy balloons are a toy balloon stand that was a toy balloon stand that was a toy balloon stand that was a toy balloon stand that was a toy balloon stand that was a toy balloon stand that was a toy balloon stand that was a toy balloon stand that was a toy balloon stand that was</s>\n",
      "########\n",
      "*******\n",
      "question: Where was there never any mammoth?\n",
      "answer: zoo\n",
      "choices: ['wild', 'north dakota', 'forest', 'movie', 'zoo']\n",
      "common expl list: ['Mammoths are extinct, and zoos are places where animals are kept for observation and study.']\n"
     ]
    },
    {
     "name": "stderr",
     "output_type": "stream",
     "text": [
      "\r",
      "  6%|████████▉                                                                                                                                                       | 55/986 [1:52:56<26:59:07, 104.35s/it]"
     ]
    },
    {
     "name": "stdout",
     "output_type": "stream",
     "text": [
      "generated explanation: <pad> <extra_id_0> During the zoo's existence, there were never any mammals. The mammals were mainly mammals, and the mammals were often found in the zoos, which were often found in the zoos, which were often a natural habitat for mammals. The mammals were usually kept in the zoo for a period of time, and were able to survive in the zoo for a period of time. The mammals were able to survive in the zoos, which is a zoos are a place to be used for a variety of animals. The mammals are a unique and unique to the zoos, which are a place where the mammals are a zoo. The mammals are a great deal of a great deal of fun. The mammals are a great deal of fun to be enjoyed by the animals that are a great deal of fun to the animals that are often used to hunt and to provide a great deal of time and money, and the animals are often used to provide a great deal of money and the zoos, which are often used to provide the zoos, which are often used to provide the animals and the animals. The zoos are often used to provide a great source of income for the animals that are</s>\n",
      "########\n",
      "*******\n",
      "question: Why do most people engage in chatting with friends?\n",
      "answer: fun\n",
      "choices: ['fun', 'love', 'answers', 'inspiration', 'relaxation']\n",
      "common expl list: ['Chats with friends are often fun, and thus people engage in them for that reason.']\n"
     ]
    },
    {
     "name": "stderr",
     "output_type": "stream",
     "text": [
      "\r",
      "  6%|█████████▏                                                                                                                                                       | 56/986 [1:53:31<21:38:11, 83.75s/it]"
     ]
    },
    {
     "name": "stdout",
     "output_type": "stream",
     "text": [
      "generated explanation: <pad> <extra_id_0> People engage in chatting with friends for fun and a variety of reasons. They engage in chatting with friends for fun and have a great time. This is because they are more likely to have fun and enjoy the company. They also tend to be more interested in sharing stories and experiences with their friends. They also tend to enjoy chatting with friends for a variety of reasons. They may enjoy chatting with friends for fun and have a fun time together. They may also enjoy chatting with friends for social events. They may also like to share stories with friends for fun. This is a great way to share their experiences with friends and family. They may be interested in chatting with friends for hours on end. They may be chatting is a great way to share stories with friends and family members and friends who may be interested in a fun way to share their stories and social media can be a fun way to share stories and have a fun way to share their experiences with friends and share experiences with friends. They may also enjoy chatting with friends and share their experiences are often a fun way to share their experiences and share their interests.</s>\n",
      "########\n",
      "*******\n",
      "question: What could happen after discovering truth that you did not want to know?\n",
      "answer: pain\n",
      "choices: ['pain', 'relief', 'grey hair', 'understanding', 'enlightenment']\n",
      "common expl list: ['Truth can be painful, and discovering it can cause pain.']\n"
     ]
    },
    {
     "name": "stderr",
     "output_type": "stream",
     "text": [
      "\r",
      "  6%|█████████▏                                                                                                                                                      | 57/986 [1:56:19<28:07:10, 108.97s/it]"
     ]
    },
    {
     "name": "stdout",
     "output_type": "stream",
     "text": [
      "generated explanation: <pad> <extra_id_0> After discovering truth that you did not want to know, you may experience pain. This is because of the pain and discomfort caused by the pain and discomfort. This is because the pain is caused by the pain and discomfort that comes with knowing the truth. This is because the truth is not always the best thing to know. The truth is because it is the best way to know the truth. It is because it is a matter of knowing the truth you do not want to know. It is also because it is a matter of fact that you did not want to know it. It is also important to know that truth, and it is important that you can be sure that you will be able to know it. It is important to know the truth. It is important to know the truth is that truth is a truth is not always the truth is that truth is because truth is that truth. It is important to know the truth is that truth is that you want to know the truth. The truth is that truth is that truth is that truth is that truth that you do not want to know that truth is that you are not a truth that you are not a truth that you are not a truth that you are not a truth that you are not a truth that you are not a truth. This is because it is a truth that you are not always the truth that you are simply a fact that you are not a fact that you are a fact that you are a fact that you are not a fact that you are not a fact. This is because you are a fact that you are a fact, and that you are a fact that you are a fact that you are a fact that you are a fact. This is because truth is a fact that you are a fact. This is because you are a fact. This is because truth is a fact, it is not a fact, it is a fact that you are a fact, it is a fact, it is a fact, it is a fact, it is a fact, it is a fact, it is a fact, it is a fact, it is a fact, it is a fact, it is a fact, it is a fact, it is a fact, it is a fact, it is a fact, it is a fact, it is\n",
      "########\n",
      "*******\n",
      "question: What will an athlete do to warm up their legs?\n",
      "answer: jog\n",
      "choices: ['use heater', 'sprint', 'jog', 'run fast', 'compete']\n",
      "common expl list: ['warming up is a routine that is performed to either prepare for doing something new, or prepare for doing something which put strains on you, or which you have been out of practice doing.', 'When athletes warm up before swimming, running, riding a bike, or performing other physical activity, they generally will jog (which will help them loosen muscles in the legs).']\n"
     ]
    },
    {
     "name": "stderr",
     "output_type": "stream",
     "text": [
      "\r",
      "  6%|█████████▍                                                                                                                                                      | 58/986 [1:59:09<32:47:12, 127.19s/it]"
     ]
    },
    {
     "name": "stdout",
     "output_type": "stream",
     "text": [
      "generated explanation: <pad> <extra_id_0> An athlete will need to warm up their legs by jogging. During a jog, an athlete will need to keep warm and stay warm for a long period of time. This is because the body is constantly working on its own to keep its shape. This is because it is important to keep their legs warm and dry. This is because it is important to keep them warm and dry. This is because it is important to keep your legs warm and dry. Athletes are often able to use their legs to help keep them warm. During jogs and other athletes can also help to warm their legs and joints. During training, athletes should be able to keep their legs warm and dry. This is important to keep them warm. This is because it is important to keep their legs warm and dry. This is because it is important to keep them warm. This is also important to keep them warm. This is because it is important to keep them warm. This helps to keep them warm up and move quickly and easily. This helps them feel comfortable and fit. This helps to keep them warm. This is especially important for athletes to keep them warm during the warm. This is especially important for athletes to keep them safe. This is especially important for athletes who are trying to keep their legs warm and stay warm and stay cool during exercise. This is especially important for athletes who are trying to keep warm up their legs and keep them warm. It is important to keep them warm and dry. This is especially important for athletes to keep them warm and keep them warm and keep warm during training and to keep warm during a warm and dry. During a warm. Warming up their legs and heart rate and endurance training sessions. Warm up their legs and prevent injury. Warming up and maintain a comfortable and maintain a healthy body temperature and fitness. Athletes to keep their legs warm and maintain a healthy. Athletic training and to keep them warm. Athletic training is a good way to keep their legs warm and tone their muscles and to keep them warm. Athletic training to maintain their muscles and joints. Athletic training. Athletic training to keep their muscles and improve their muscles and joints. Athletic training can be difficult to maintain their muscles and feet comfortable. Athletic training to keep them feeling good. Athletic training is a great way to keep\n",
      "########\n",
      "*******\n",
      "question: Where can you keep your binder on your person between periods of instruction?\n",
      "answer: backpack\n",
      "choices: ['class room', 'car', 'office supply store', 'backpack', 'bookcase']\n",
      "common expl list: ['Usually binder users carry their binders from class to class outside of the classroom. Backpacks are often convenient, and are large enough to hold the binder.']\n"
     ]
    },
    {
     "name": "stderr",
     "output_type": "stream",
     "text": [
      "\r",
      "  6%|█████████▌                                                                                                                                                      | 59/986 [2:01:01<31:34:09, 122.60s/it]"
     ]
    },
    {
     "name": "stdout",
     "output_type": "stream",
     "text": [
      "generated explanation: <pad> <extra_id_0> A binder is a convenient and convenient way to keep valuables on your person during a training session. It is a great way to keep track of your progress and ensure that you are able to keep track of your progress. This is because it is a convenient way to store your belongings. It is also a great way to keep track of your progress. This is because it is a convenient way to keep track of your progress. This is because it is a convenient way to keep track of your belongings. This is a great way to keep track of your progress. It is also a good way to store your belongings in a backpack. It is also a good place to store your belongings in a backpack to store your belongings. It is also a great way to keep track of your activities and activities. It is a great way to keep track of your belongings and other things that are important to keep track of what you need to keep track of what you are doing activities. It is also a good way to keep track of your belongings. It is also a safe place to keep track of what you are doing your work, and it is a good way to keep track of your activities. It is also a great way to keep track of what you are doing your activities in a safe place to keep track of your school activities, and how important to keep track of your activities and when you are doing so, and when you are doing things in your possession. It is important to keep track of your belongings and to keep track of what you are doing it in your backpack and how you are doing it.</s>\n",
      "########\n",
      "*******\n",
      "question: In the middle of the day what will someone do because of being hungry?\n",
      "answer: have lunch\n",
      "choices: ['cook dinner', 'make bread', 'eat in restaurant', 'have lunch', 'make bread']\n",
      "common expl list: ['People often eat lunch at midday, and so, if they are hungry at midday, they might go to a restaurant to eat lunch.', \"It's common for folks to have lunch during the middle of the day.\"]\n"
     ]
    },
    {
     "name": "stderr",
     "output_type": "stream",
     "text": [
      "\r",
      "  6%|█████████▋                                                                                                                                                      | 60/986 [2:03:00<31:17:13, 121.63s/it]"
     ]
    },
    {
     "name": "stdout",
     "output_type": "stream",
     "text": [
      "generated explanation: <pad> <extra_id_0> In the middle of the day, someone will be hungry. In the middle of the day, eat something to eat and drink. In the middle of the day, someone will be hungry. In the middle of the day, someone will be hungry and will be hungry. In the middle of the day, the person will be hungry and will be hungry for lunch. In the middle of the day, people will be hungry and will be hungry for a while. In the middle of the day, people will be able to eat healthy food and drink. In the middle of the day, people will be able to eat a meal and then eat something that is healthy. In the middle of the day, people will be able to eat food and drink enough to keep them for a long time. In the middle of the day, people will be able to eat lunches. In the middle of the day, people will be able to eat food that is, if they are able to eat healthy food. In the middle of the day, people will eat lunch. In the middle of the day, people will eat a meal, people will eat lunch. In the middle of the day, people will eat lunches are also hungry. In the middle of the day, people will eat a meal. In the middle of the day, people will eat something to eat something to eat lunches are usually able to eat a meal to eat. In the middle of the day, people will eat lunches will be able to eat lunches will be able to eat something to eat lunches will be able to eat lunches are able to eat lunches will also be able to eat lunches will be able to eat lunches will be able to eat.</s>\n",
      "########\n",
      "*******\n",
      "question: Where is garbage brought to by garbagemen?\n",
      "answer: landfill\n",
      "choices: ['trashcan', 'landfill', 'television', 'computer', 'dumpster']\n",
      "common expl list: ['Landfills are where all the trash in the city go to.']\n"
     ]
    },
    {
     "name": "stderr",
     "output_type": "stream",
     "text": [
      "\r",
      "  6%|█████████▉                                                                                                                                                       | 61/986 [2:03:46<25:24:23, 98.88s/it]"
     ]
    },
    {
     "name": "stdout",
     "output_type": "stream",
     "text": [
      "generated explanation: <pad> <extra_id_0> A landfill is a place where garbagemen can dump garbage into a nearby landfill. The landfill is a place where garbagemen can dump garbage and store it in a landfill. The landfill is a place where garbagemen can dump garbage into the landfill and store it in a container. This is a place where garbage is disposed of and is a great place to store garbage. It is a place where garbage is collected and recycled. It is a place where garbage is collected and stored. It is also a place to dump. This is a place to dump garbagemen can also dump garbage into the landfill to store garbagemen can store trash and dispose of waste and recycle it into the landfill. It is a landfill to store garbage and recycle it into the landfill to store it in a landfill to store it in a landfill to store it in a landfill to store it in a landfill to store it in a safe place to store it in a safe place to store it in a safe place to store it in a safe place to store it in a safe place to store it in a safe place to store it in a safe place to store it</s>\n",
      "########\n",
      "*******\n",
      "question: What are people doing when washing hands for a long time?\n",
      "answer: thinking\n",
      "choices: ['thinking', 'sleeping', 'use soap', 'irritation', 'cleaning dirt off']\n",
      "common expl list: ['People often just pause while washing their hands. It may be that they are thinking about something while this occurs naturally.', 'People often think about things while they are washing their hands, and this is a good time to think about things.']\n"
     ]
    },
    {
     "name": "stderr",
     "output_type": "stream",
     "text": [
      "\r",
      "  6%|██████████                                                                                                                                                       | 62/986 [2:03:50<18:04:52, 70.45s/it]"
     ]
    },
    {
     "name": "stdout",
     "output_type": "stream",
     "text": [
      "generated explanation: <pad> <extra_id_0> People are thinking about washing their hands for a long time. This is because people are thinking about washing their hands for a long time. This is because people are thinking about washing their hands for a long time. This is because people are thinking about washing their hands for a long time. This is because people are thinking about washing their hands for a long time. This is because washing hands for long time is a time-consuming process. This is because people are thinking about washing their hands for a long time. This is because people are thinking about washing hands for a long time. This is because people are thinking about washing hands for a long time.</s>\n",
      "########\n",
      "*******\n",
      "question: What would someone say about a tube television?\n",
      "answer: obsolete\n",
      "choices: ['obsolete', 'addictive', 'entertaining', 'bycone', 'legal']\n",
      "common expl list: ['Tube televisions are no longer manufactured, and are therefore obsolete.', 'Tube televisions are obsolete, meaning that they are old and was abolished by newer technology.']\n"
     ]
    },
    {
     "name": "stderr",
     "output_type": "stream",
     "text": [
      "\r",
      "  6%|██████████▎                                                                                                                                                      | 63/986 [2:05:36<20:45:49, 80.99s/it]"
     ]
    },
    {
     "name": "stdout",
     "output_type": "stream",
     "text": [
      "generated explanation: <pad> <extra_id_0> A tube television is a piece of equipment that is used to watch movies, music, and even movies. It is a product that is used to watch movies, music, and videos. It is also used to watch movies, music, and other entertainment programs. This is because the television is a tube, which means it is not compatible with any other televisions. This is because it is a tube television. It is also a form of entertainment that is used to watch movies, music, and other entertainment. It is also a tube television is a tube television is a television is a tube television. Tube television is a television that is used to watch movies, music videos, and other entertainment programs that are used to watch on a tube television, which is a tube is used to watch on a regular basis. It is used to watch movies on a television that is a television that is used to watch on a television that is used to watch on a television. This is a tube television. This makes it impossible to watch a television that is also a tube television. This is because it is a television that is a great way to watch shows that are a great way to watch them as a means of watching television as a way to watch a television as a way to watch television as a way to watch television in a television. It is also a great way to watch the television. It is also a great way to watch television in a way to show the television is a great way to show the television in a tube is also a great way to show the television is a tube is a great way to show the television is a way to show the television is a way to show the television is also a way to show</s>\n",
      "########\n",
      "*******\n",
      "question: The man drank his coffee at work?\n",
      "answer: office\n",
      "choices: ['coffee shop', 'table', 'kitchen', 'office', 'chair']\n",
      "common expl list: ['People often drink coffee at offices, with other co-workers.', 'The man is likely to be at work, and offices often have kitchens where coffee is made.', 'The man probably works in an office where he could have a cup of coffee while behind his desk.']\n"
     ]
    },
    {
     "name": "stderr",
     "output_type": "stream",
     "text": [
      "\r",
      "  6%|██████████▍                                                                                                                                                      | 64/986 [2:05:38<14:43:10, 57.47s/it]"
     ]
    },
    {
     "name": "stdout",
     "output_type": "stream",
     "text": [
      "generated explanation: <pad> <extra_id_0> The man drank his coffee at the office. The man drank his coffee at the office to work. The man drank his coffee at the office to help him to understand the work environment. Coffee is a great source of energy and motivation for people to work at their best. Coffee is a great source of energy and motivation for people to work at the office. Coffee is a great source of energy and motivation. Coffee is a popular beverage in offices and offices, and is a great source of inspiration for people to work. Coffee is also a great way to get the most energy they need to get the most out of the office at work.</s>\n",
      "########\n",
      "*******\n",
      "question: What can he do to eliminate his ignorance?\n",
      "answer: learn new\n",
      "choices: ['find information', 'judge', 'do some research', 'find truth', 'learn new']\n",
      "common expl list: [\"Learning is a way to eliminate ignorance; for example, learning a foreign language is one way to eliminate ignorance of that language's grammar.\", 'Ignorance is the state of not knowing something, and to eliminate ignorance, one must learn new things.', 'In this context, ignorance refers to a lack of knowledge, and obtaining new knowledge is the best way to eliminate the ignorance.']\n"
     ]
    },
    {
     "name": "stderr",
     "output_type": "stream",
     "text": [
      "\r",
      "  7%|██████████▌                                                                                                                                                      | 65/986 [2:07:09<17:14:42, 67.41s/it]"
     ]
    },
    {
     "name": "stdout",
     "output_type": "stream",
     "text": [
      "generated explanation: <pad> <extra_id_0> s and strategies to eliminate his ignorance. The first step is to learn how to eliminate his ignorance. The second step is to learn how to eliminate his ignorance by learning new techniques and strategies. The first step is to learn how to learn new strategies to eliminate his ignorance. The second step is to learn how to use new strategies to eliminate his ignorance. The third step is to learn to use new tools to eliminate his ignorance. The first step is to learn how to use the knowledge of the world around him. The third step is to learn how to use knowledge to eliminate his ignorance by using the knowledge of the world by using the knowledge of the world around him. The third is to learn how to use the knowledge of the world around him to learn how to use the knowledge of the world around you. The third step is to learn how to use the knowledge to eliminate his ignorance by using the knowledge of the world. The third step is to eliminate his ignorance by identifying and identifying and identifying the knowledge of the world. The third step is to identify and eliminate his ignorance to identify and eliminate his ignorance to eliminate his ignorance to eliminate his ignorance to eliminate his ignorance to improve his or her own knowledge. The third step is to eliminate his or other people’s knowledge to learn new ways to eliminate his or her knowledge to eliminate his ores, to eliminate his ores, to eliminate his ores, to eliminate his ores, and to eliminate his ignorance to eliminate his ores, to eliminate his ores, to eliminate his ores, toes, and to eliminate his ores, to eliminate the ignorance to eliminate his ores, to eliminate the ignorance to eliminate the ignorance to eliminate the ignorance to</s>\n",
      "########\n",
      "*******\n",
      "question: What do humans do when in a race?\n",
      "answer: compete with each other\n",
      "choices: ['lay eggs', 'eat fruit', 'wrestle', 'compete with each other', 'draw pictures']\n",
      "common expl list: ['Humans are naturally athletic and competitive. On land, people will compete with each other by running or wrestling. Often humans race on water by swimming, or by boating with other people.']\n"
     ]
    },
    {
     "name": "stderr",
     "output_type": "stream",
     "text": [
      "\r",
      "  7%|██████████▊                                                                                                                                                      | 66/986 [2:07:12<12:20:11, 48.27s/it]"
     ]
    },
    {
     "name": "stdout",
     "output_type": "stream",
     "text": [
      "generated explanation: <pad> <extra_id_0> When in a race, humans compete with each other to win. They compete to win. They compete with each other to win. They compete with each other to win prizes. They compete with each other to win trophies. They compete with each other to win prizes and prizes. They compete with each other to win. They compete with each other to win. They compete with each other to win prizes. They also compete with each other to win prizes and prizes. They compete with each other to win. They compete with each other to win prizes. They compete with each other to win. They compete to win the race. Compete with each other to win the race to win the race.</s>\n",
      "########\n",
      "*******\n",
      "question: She explained that you won't always get what you want with a goal, but you should still do what with it?\n",
      "answer: reach for\n",
      "choices: ['know how to find', 'work hard', 'remember where', 'reach for', 'purchase']\n",
      "common expl list: ['Reaching for attained goals is more beneficial than simply working towards them, at least in the short term. It significantly increases your chances of success.']\n"
     ]
    },
    {
     "name": "stderr",
     "output_type": "stream",
     "text": [
      "\r",
      "  7%|███████████                                                                                                                                                       | 67/986 [2:07:15<8:51:24, 34.69s/it]"
     ]
    },
    {
     "name": "stdout",
     "output_type": "stream",
     "text": [
      "generated explanation: <pad> <extra_id_0> Reach for your goals. You may not always get what you want with a goal, but you should do what you do with it. You may not always get what you want with a goal, but you should reach for it. You may not always get what you want with a goal, but you should still do what with it. You may not always get what you want with a goal, but you should still do what you want with it. You may not always get what you want with a goal, but you should still reach for it.</s>\n",
      "########\n",
      "*******\n",
      "question: What happens when you eat hamburger too fast without swallowing?\n",
      "answer: choking\n",
      "choices: ['get full', 'drink', 'choking', 'hungry', 'getting fat']\n",
      "common expl list: [\"If you eat hamburger too fast, you might choke on it, because it's a solid food that can get stuck in your throat.\", 'Eating too fast can sometimes cause coughing / choking as food get stuck in your throat.', \"When you eat hamburger too fast, it can quickly turn into the consistency of a block, and when you can't swallow it, it can cause you to choke.\", \"Choking can occur when you stick stuff in your mouth which can't go down your throat properly, so that you can't breath. Common causes can be eating too fast, or swallowing items that can't go down your throat, like liquids or large\"]\n"
     ]
    },
    {
     "name": "stderr",
     "output_type": "stream",
     "text": [
      "\r",
      "  7%|███████████▏                                                                                                                                                      | 68/986 [2:07:19<6:26:47, 25.28s/it]"
     ]
    },
    {
     "name": "stdout",
     "output_type": "stream",
     "text": [
      "generated explanation: <pad> <extra_id_0> The problem arises when you eat too fast without swallowing. The problem is that it is very easy to choke without swallowing. The problem is that choking is a common problem in fast food, especially when you eat hamburgers too fast. It is important to know that choking is a natural process of preventing the body from absorbing the food. It is important to keep your food safe and clean. It is important to keep your food clean and healthy by eating fast and eating it quickly. Without eating fast, you will end up choking is a natural way of eating hamburgers that are unable to swallowing them.</s>\n",
      "########\n",
      "*******\n",
      "question: John sat in a folding chair in a bit room with a stage.  What sort of room could that be?\n",
      "answer: auditorium\n",
      "choices: ['room', 'auditorium', 'meeting hall', 'school', 'church']\n",
      "common expl list: ['An auditorium is a large room that is used for public events, such as concerts, plays, and speeches.']\n"
     ]
    },
    {
     "name": "stderr",
     "output_type": "stream",
     "text": [
      "\r",
      "  7%|███████████▎                                                                                                                                                      | 69/986 [2:07:30<5:21:07, 21.01s/it]"
     ]
    },
    {
     "name": "stdout",
     "output_type": "stream",
     "text": [
      "generated explanation: <pad> <extra_id_0> A stage is a large, open space that is usually used for a variety of activities. This is a place where people can enjoy music and dance in a relaxed atmosphere. It is a place where people can enjoy music and dance in a comfortable setting. Stages are often used for entertainment and are usually used for entertainment. Stages are usually used for a variety of purposes, such as a stage, a theater, or a small theatre. Stages are usually used for entertainment and are usually used for entertainment events. They can be used for entertainment and entertainment. Stages are usually used for entertainment, such as a stage can be used for entertainment and entertainment. Stages are used to perform in a variety of different types of equipment, such as a large stage can be used to perform music, or for entertainment, and are often used to perform in a variety of different stages.</s>\n",
      "########\n",
      "*******\n",
      "question: What would an adult man do to get ready for work?\n",
      "answer: dress himself\n",
      "choices: ['dress herself', 'shower', 'dress himself', 'drink beer', 'drive train']\n",
      "common expl list: ['Adult males commonly wear suits to work. Men might get dressed in the morning, particularly if they plan on wearing a suit for work.', 'An adult man would dress himself for work: this includes putting on pants, shirts, and dresses, and typical choices are professional clothes, such as suit and tie.']\n"
     ]
    },
    {
     "name": "stderr",
     "output_type": "stream",
     "text": [
      "\r",
      "  7%|███████████▌                                                                                                                                                      | 70/986 [2:07:33<3:59:06, 15.66s/it]"
     ]
    },
    {
     "name": "stdout",
     "output_type": "stream",
     "text": [
      "generated explanation: <pad> <extra_id_0> An adult man is expected to dress himself in order to get ready for work. In addition, it is important to dress appropriately. In addition, a man should dress in a suitable way that is comfortable and comfortable. In addition, an adult man should also dress in a suit and shoes. This is a good way to get ready for work. In addition to dressing up, an adult man should dress in a suitable way to get ready for work. In addition, an adult should dress in a suit and tie. This is because it is a good idea of how to dress himself and other important tasks.</s>\n",
      "########\n",
      "*******\n",
      "question: What does one do at an office?\n",
      "answer: work\n",
      "choices: ['work', 'school building', 'workplace', 'skyscraper', 'public building']\n",
      "common expl list: ['One does work at the office', 'An office is a place where people work.', 'An office is a specific type of workplace.']\n"
     ]
    },
    {
     "name": "stderr",
     "output_type": "stream",
     "text": [
      "\r",
      "  7%|███████████▌                                                                                                                                                     | 71/986 [2:10:34<16:35:31, 65.28s/it]"
     ]
    },
    {
     "name": "stdout",
     "output_type": "stream",
     "text": [
      "generated explanation: <pad> <extra_id_0> One of the most important tasks at an office is to work at a desk. This is because it is a place to work, a place to work and a place to work. This is also a place to work. This is because it is a place to work at an office and to be productive. This is because it is a place to work and to be productive. This is because it is a place to work at an office. This is because it is a place where one can work from home and work. This is because it is a place to work at an office and to work from home is a place where one can work from home and work from home and work from home. This is because it is a place to work from home. This is because it is a place to work from home and to work. It is a place to work from home, and it is a place to work from home. It is a place to work from day to day. It is also a place to work from home. It is also a place to work from, and it is a place to work from, and it is also a place to work from. It is a place where you can work from, and it is a place to work from home. It is a place where you can work from, and it is a place that is a place that is a place that is a place that is also a place that is a place that can be a place that is a place that can be a place that is a place that is a place that is a place that is a place that is a place that is a place that is a place that is a place of work. It is a place where people can work from and can be used to them. It is a place where they work from. The job is often a place of work, it is a place that is a place of work, so it is a place of work. It is a place of work, it is also a place of work. It is a place of work. It is a place of work. It is a place of work. It is a place of work, and it is a place of work. It is a place of work. It is also a place\n",
      "########\n",
      "*******\n",
      "question: When a person is on trial for killing, what is a jury likely to decide?\n",
      "answer: punishment\n",
      "choices: ['execution', 'investigation', 'going to jail', 'retribution', 'punishment']\n",
      "common expl list: ['A person who has just killed another person often goes to trial, so the jury will likely have to decide what the most just punishment is.', 'A jury is likely to decide that the person is guilty of the crime, and punish them accordingly.', 'When a jury decides that someone is guilty of a crime, they typically hand down a punishment.']\n"
     ]
    },
    {
     "name": "stderr",
     "output_type": "stream",
     "text": [
      "\r",
      "  7%|███████████▊                                                                                                                                                     | 72/986 [2:12:05<18:33:17, 73.08s/it]"
     ]
    },
    {
     "name": "stdout",
     "output_type": "stream",
     "text": [
      "generated explanation: <pad> <extra_id_0> When a person is on trial for killing, a jury likely to decide what to do with a person on trial. In addition, a jury is likely to decide whether a person is convicted of a crime or not. A jury is likely to decide what to do with a person's death. In addition, a jury is likely to decide what to do with a person on trial for a crime if they are guilty of a crime. In addition, a jury is likely to decide whether a jury is likely to decide on a person's sentence. In addition, a jury may also decide whether to proceed with a trial. In addition, a jury is likely to decide if a jury is guilty or not. In addition, a jury may also decide a jury may decide whether to punish a person's sentence is a sentence that is a jury is guilty. In addition, a jury may also decide a person's sentence is a jury's sentence is a guilty verdict. In addition, a jury may also decide a jury is a jury is a trial is a trial is a jury guilty of a jury is convicted of a trial is convicted of a jury is convicted of convicted of a jury is convicted of a jury is convicted of convicted of a jury is convicted of a jury's sentence is convicted of a jury's sentence is convicted of convicted of a jury is convicted of a jury's sentence </s>\n",
      "########\n",
      "*******\n",
      "question: Most adult Americans split their time between home and what?\n",
      "answer: work\n",
      "choices: ['tent', 'work', 'apartment', 'the office', 'foreign']\n",
      "common expl list: ['Home and work may be the two places where most adult Americans spend most of their waking hours.', 'Most adults spend most of their time at work.']\n"
     ]
    },
    {
     "name": "stderr",
     "output_type": "stream",
     "text": [
      "\r",
      "  7%|███████████▊                                                                                                                                                    | 73/986 [2:15:13<27:13:57, 107.38s/it]"
     ]
    },
    {
     "name": "stdout",
     "output_type": "stream",
     "text": [
      "generated explanation: <pad> <extra_id_0> Most adult Americans split their time between home and work. This is because they work at home and work at work. They split their time between home and work. They also tend to split their time between home and work. They split their time between home and work. They split their time between home and work. They also split their time between home and work. They split their time between work and home. They split their time between home and work. They split their time between home and work. They split their time between home and work. They split their time between home and work. They also split their time between home and work is often a time between home and work can be a busy time. They also split time between home and work. They split their time between work and home, work and work. They split their time between home and work is a commonplace for adults to work. They also split their time between home and work is a busy schedule is important for adults to be present at work, which can be a great for a variety of activities. They can also split their time between work and play. They can also work and play, which can be a good balance of work. They can also work. They can also be a great way to work. They can also be at work. They can also be able to make the most of their time at work. They can also work at home and at home. They can also be used to exercise, play, play, and work. They can also be used to work, play, and work. They can also be used to work. They can also use their time between home and work. They can also be used to work. They can also use their time at work to work. They can also use their time to work to work to spend time at home to do other activities that they can use to enjoy their time at work. They can also enjoy the time at work. They can also use their time at work to help them relax and recharge their batteries and enjoy the outdoors. They can also use their time at work to help them to relax and enjoy the outdoors to help them to stay active and enjoy the outdoors. They can also use their time at work to help them to enjoy the outdoors. They can also enjoy the outdoors. They can also use the time to enjoy the sights, sounds, and enjoy the outdoors. They can also enjoy the outdoors to enjoy the outdoors, and to enjoy the outdoors. They can\n",
      "########\n",
      "*******\n",
      "question: Professionally the fighters always maintained a level of respect, but personally they held each other in what for things that were said?\n",
      "answer: contempt\n",
      "choices: ['belittlement', 'humiliate', 'irreverence', 'contempt', 'love']\n",
      "common expl list: ['Despite the respect that was maintained by the respectful fighters, the feelings that they had for each other were always a sense of contempt for each others character.']\n"
     ]
    },
    {
     "name": "stderr",
     "output_type": "stream",
     "text": [
      "\r",
      "  8%|████████████                                                                                                                                                     | 74/986 [2:15:36<20:50:00, 82.24s/it]"
     ]
    },
    {
     "name": "stdout",
     "output_type": "stream",
     "text": [
      "generated explanation: <pad> <extra_id_0> The fighters always maintained a level of respect for each other, but personally they held each other in contempt for things that were said. They always maintained a level of respect for each other, but they never held each other accountable for what they said. They never held each other in contempt for what they said. They never held each other accountable for what they said. They never let anyone else know they were fighting or fighting. They never held each other in contempt for what they said or said. They never held each other accountable for anything that they did not know. Respect for each other. Respect for each other. Respect for each other's feelings of contempt for each other. Respect for each other's feelings of contempt for things that were said, and held each other accountable for what was said. Respect for each other in spite of the truth. Respect for each other's opinions and actions that were said, and held each other in contempt for what they were said, they were not amounted to contempt for each other.</s>\n",
      "########\n",
      "*******\n",
      "question: Where would you find many tables of silverware rolled into nice displayed napkins?\n",
      "answer: restaurant\n",
      "choices: ['silver', 'park', 'table', 'cupboard', 'restaurant']\n",
      "common expl list: ['Restaurants often have a lot of silverware, and they might roll it up and place it in a napkin to make it easier to store.', 'Restaurants often give used, rolled up silverware to customers, and they might keep them in nice, displayed napkins to make moving and storing them easier.', 'In a commercial establishment, silverware is expected to be clean because consumption of food is involved. So, a restaurant may well be where someone would expect to find silverware rolled into nice displayed napkins (i.e., fancy silverware).']\n"
     ]
    },
    {
     "name": "stderr",
     "output_type": "stream",
     "text": [
      "\r",
      "  8%|████████████▏                                                                                                                                                   | 75/986 [2:18:09<26:11:07, 103.48s/it]"
     ]
    },
    {
     "name": "stdout",
     "output_type": "stream",
     "text": [
      "generated explanation: <pad> <extra_id_0> Restaurants are a great place to buy fine dining items. They are a great way to show off your dining experience. They are also a great way to show off your new collection of diningware. They are also a great way to show off your new collection of napkins. They are also a great way to show off your new collection of plates and napkins. They are also a great way to show off your new collection of food and drink. They are a great way to show off your new collection of silverware at a restaurant. They are also a restaurant's decorator. They are also a great way to show off your new and used to show off your new and old items. They are also a great way to show off your new and old. They are also a variety of styles and colors of your favorite items. They are a great way to show off your favorite items. They are also a variety of designs and colors that are unique to the restaurant. They are also a great way to show off your restaurant's unique and unique. They are also a great way to show off your restaurant's unique style. They are also a great way to show off their uniqueness and style. Restaurants are a great way to show off their uniqueness and style. They are a great way to show their unique style and sophistication. They are also a great way to show off their unique style and make them appealing. They are also a great way to showcase their unique and unique gifting guests a special touch. They are also a great way to show off their unique design. They are also great way to show off their uniqueness. They are also great for showing off their unique and unique touch. They are a great way to show off their unique style. They are a great way to show off their uniqueness. They are a great way to show off their unique style. They are a great way to show off their unique and unique touch. They are also a modern look. They are a great way to show off their unique style and charm. They are also a restaurant is a place to show off their uniqueness. They are also a great way to show off their uniqueness. They are also a great way to show off their unique style. They are a great way to show off their unique style and add a modern look\n",
      "########\n",
      "*******\n",
      "question: He didn't believe fate controlled situations, what did he believe people did?\n",
      "answer: control events\n",
      "choices: ['control events', 'pray', 'dress themselves', 'talk to each other', 'think creatively']\n",
      "common expl list: [\"If one believes fate controls events, there's nothing to do but accept situation, perhaps to pray; in contrast, if one believed they had control over events, then they could act to change the situation.\", 'If one believes in fate, then one would believe that fate controls events. If one believes in free will, then one would believe that people control events.']\n"
     ]
    },
    {
     "name": "stderr",
     "output_type": "stream",
     "text": [
      "\r",
      "  8%|████████████▍                                                                                                                                                    | 76/986 [2:18:12<18:29:18, 73.14s/it]"
     ]
    },
    {
     "name": "stdout",
     "output_type": "stream",
     "text": [
      "generated explanation: <pad> <extra_id_0> He didn't believe fate controlled situations, what did he believe people did? He didn't believe in the control of events, but did believe in the control of events. He didn't believe people were able to control events by allowing them to control events. He didn't believe in the control of events, but he believed in the control of events. He didn't believe in the control of events. He didn't believe in the control of events. He didn't believe that fate controlled situations were a he believed people would control them.</s>\n",
      "########\n",
      "*******\n",
      "question: Polly didn't know her way around, so she navigated by landmark.  She used statues, stores, and distinctive building.  Where might she be?\n",
      "answer: city\n",
      "choices: ['countryside', 'national park', 'map', 'neighbourhood', 'city']\n",
      "common expl list: ['In a city, landmarks are often used to navigate. In the countryside or in national parks, landmarks may not be as distinct, as buildings and statues are less likely to be found.', \"She used distinctive buildings as landmarks, so it is likely she's in a city.\", 'Landmark navigation works best in populated areas because distinctive buildings and statues can be more easily seen.', 'Landmarks are often located in cities, and so if a person was navigating by landmarks, they are likely to be in a city.']\n"
     ]
    },
    {
     "name": "stderr",
     "output_type": "stream",
     "text": [
      "\r",
      "  8%|████████████▌                                                                                                                                                    | 77/986 [2:18:58<16:25:41, 65.06s/it]"
     ]
    },
    {
     "name": "stdout",
     "output_type": "stream",
     "text": [
      "generated explanation: <pad> <extra_id_0> Polly used landmarks, landmarks, and distinctive buildings to navigate her way around the world. They are a great way to find out where to go. They are a great way to find out where to go, and they are a great way to find landmarks. They are a great way to find places that are unique to a city. They use landmarks to navigate their way around a city, and they are a great way to find landmarks. They are also a great way to find a landmark. They are also great ways to navigate around the world. They are also great for exploring the area, and they are also great way to find landmarks, stores, and landmarks to navigate around the city. They are also great for exploring the area, and they are also great for exploring the city. They can be used to explore the city. They can also use landmarks to explore the area and to find out where landmarks, landmarks, and landmarks, and they can be used to explore the city and can be used to explore the city to explore the city. They can also be used to explore the city and can be used to explore exploring the city. They can be used to explore landmarks, landmarks, landmarks, and to explore the city of the city of the best way to explore the city of the city of the city to explore the city to explore the best way to explore the best places to explore the best places to explore.</s>\n",
      "########\n",
      "*******\n",
      "question: Some horses are white others are black, but many are this color which might lead some people to think their milk would taste like chocolate?\n",
      "answer: brown\n",
      "choices: ['big but gentle', 'kept in stables', 'cuddly', 'brown', 'running in herd']\n",
      "common expl list: [\"An individual brown-colored horse (particularly when cuddly) can resemble the color of chocolate. If a person were to guess based on the color, he might guess a horse's milk tasted similarly.\"]\n"
     ]
    },
    {
     "name": "stderr",
     "output_type": "stream",
     "text": [
      "\r",
      "  8%|████████████▋                                                                                                                                                    | 78/986 [2:20:54<20:16:12, 80.37s/it]"
     ]
    },
    {
     "name": "stdout",
     "output_type": "stream",
     "text": [
      "generated explanation: <pad> <extra_id_0> Some people think their milk would taste like chocolate, but others think it would taste like chocolate. They think that the color of their milk would be brown, which would lead them to think their milk would taste like chocolate. They also think that the color of their milk would be a good indicator of how much milk they would have made. They also thought that the color of their milk would be a good indicator of the taste of chocolate. They also think that the color of the horse milk would be a good indicator of the color of the horse's milking a horse's milk would be brown. They also thought that the color of the horse's milk would be darker in color. The color of the milk would be more likely to be a brown color. The color of the milk would be more likely to be more likely to be a good indicator of browning of the color of the horse's milk would be more likely to be a horse's milk. a horse's milk would be more likely to be a good tasting. The color of the color of the horse's milk would be a good indicator of the horse's milk would be more likely to be a brown color, which could lead to a brown horse's milk would also be a horse's milk. This would also lead to a horse's milk to make it taste like chocolate. The color of the milk would be a good source of milk would be a good choice for a chocolate-colored milk. Typically, the color of the color of the color of the color of the color of the color of the color of the color of the color of the color of the color of the color of the color of the color of the color of the color of the color of the color of the color of the color of the color of the color of the color of the color of the color of the color of the color of the color of the color of the color of the color of the horse milk. The color of the color of the color of the color of the color of the color of the color of the color of the color of the color of the color of the color of the color of the color of the color of the color of the color of the color of the color. The color of the color of the color of the color of the color of the color of the color of the color of the color of the color of the color of\n",
      "########\n",
      "*******\n",
      "question: What is the one thing you cannot do if you're on the move?\n",
      "answer: stand still\n",
      "choices: ['sit still', 'stationary', 'running', 'stand still', 'stay still']\n",
      "common expl list: ['You must be in motion to be counted as on the move. (this rule exists to disallow the action of holding still)']\n"
     ]
    },
    {
     "name": "stderr",
     "output_type": "stream",
     "text": [
      "\r",
      "  8%|████████████▉                                                                                                                                                    | 79/986 [2:22:46<22:37:10, 89.78s/it]"
     ]
    },
    {
     "name": "stdout",
     "output_type": "stream",
     "text": [
      "generated explanation: <pad> <extra_id_0> Stand still is the one thing you cannot do if you're on the move. Stand still is the one thing you cannot do if you're on the move. Stand still is the one thing you cannot do if you're on the move. Stand still is the one thing you cannot do if you're on the move. Stand still is a state of mind that allows you to take a break from your daily activities, such as walking, biking, or running. It allows you to take your time to unwind, and you can also use your time. Stand stillness can be a distraction from your daily activities, and it can be a distraction. It can also be used to get to and from your phone, tablet, or other distraction. Stand stillness can be used to get to your next move. This can be a distraction. Stand stillness is a temporary and can be used to help you to move around the world. It can also be used to help you to keep your mind and body. It can also help you to move from your thoughts, feel your body and your mind. This can also help you to move around the world in a way to move around the world in a way to move around the world and make a habit. It can also help you focus, breathe, and even use your mind and body. It can also help you to focus on your work, play, and to make a permanent memory, and to focus on your surroundings. Stand still, stand still, stand still, stand up and talk, or to make a sense of your surroundings. This can help you to focus on your surroundings. Stand stillness is a place you're able to focus, or to focus, or to focus on your attention, or to focus on your work, or to focus on your thoughts, or to focus on your work, or to focus your thoughts, or to focus on your work. This is the one thing you can focus on your mind. This is the one thing you're on the move. This is a place you're in a moment, or to focus on your attention. This is because you're on the move. Stand still. Stand still. Stand still is the one thing you're on your work, or to focus on other people's attention. This is the one thing you're on the world around you. This is the one thing you\n",
      "########\n",
      "*******\n",
      "question: Where does someone convicted of a petty crime likely spend time?\n",
      "answer: jail\n",
      "choices: ['sell drugs', 'jail', 'nightclub', 'prison', 'offer drugs']\n",
      "common expl list: ['Someone convicted of a petty crime is likely to spend time in jail.', 'Someone convicted of a petty crime probably spends some time in jail, and not in prison.']\n"
     ]
    },
    {
     "name": "stderr",
     "output_type": "stream",
     "text": [
      "\r",
      "  8%|█████████████                                                                                                                                                    | 80/986 [2:23:15<17:59:34, 71.50s/it]"
     ]
    },
    {
     "name": "stdout",
     "output_type": "stream",
     "text": [
      "generated explanation: <pad> <extra_id_0> A person convicted of a petty crime is likely to spend time in a jail or a community service center. Prison is a place to spend time in which a person is sentenced for a petty crime, such as stealing, stealing, and possessing a firearm. This is because a petty crime is a serious crime and is often a solitary offense. This is because a petty crime is a serious offense, and it is a serious offense. This is a time spent in jail is a time when a person is sentenced to a petty crime is sentenced to a petty crime scene. This is a place to be a person’s possession of a firearm or a weapon, a firearm, or a petty crime is a place where the person’s possession is a time when the person must be a time of a time that is a time when the person’s possession is a time of petty crime is a time when the person is convicted of petty crime is a time that is a time that is a time that is not a</s>\n",
      "########\n",
      "*******\n",
      "question: He would entertain with a pool party regularly, it was the best way to beat the what?\n",
      "answer: hot\n",
      "choices: ['please', 'hot', 'guest', 'bribe', 'liked']\n",
      "common expl list: ['Pool parties are a great way to beat the heat.']\n"
     ]
    },
    {
     "name": "stderr",
     "output_type": "stream",
     "text": [
      "\r",
      "  8%|█████████████▏                                                                                                                                                   | 81/986 [2:25:05<20:54:03, 83.14s/it]"
     ]
    },
    {
     "name": "stdout",
     "output_type": "stream",
     "text": [
      "generated explanation: <pad> <extra_id_0> A pool party is a great way to beat the heat of the summer. A pool party is a great way to beat the heat of the summer. A pool party is a great way to beat the heat of the summer season. The pool party is a great way to beat the heat of the summer months and the heat of the summer. Pool parties are also great for entertaining, as well as a great way to beat the heat of the summer. The pool party is a great way to beat the heat of the summer. The pool party is also a great way to beat the heat and heat waves of summertime, and the pool party is a great way to beat the heat and make sure that the pool is a great way to beat the heat of the summer. Pool parties are also great for a pool party is a great way to beat the heat of the summer. The pool party is a great way to beat the heat of the summer heat. The pool is also a great way to beat the heat of the summer. The pool is a great way to beat the heat of summer. The pool is also a great way to beat the heat and humidity, and the heat and humidity of summer months are a great way to beat the heat. The pool is a great way to beat the heat and the heat of summer is a great way to beat the heat and the heat can be a great way to beat the heat and the heat can be a great way to beat the heat and the heat can also be a great way to beat the heat and the heat. The pool party is also a great way to beat the heat and the humidity. The heat can also be a great way to beat the scorching hot summer heat. The heat can be a great way to beat the scorching hot summer heat. The pool can also be a great way to beat the heat can be a great way to beat the heat, which can be a great way to beat the heat and the heat of the summer heat. The pool party is a great way to beat the heat, and it can also be a great way to beat the heat. Pools can also be used to beat the heat. The heat can also be used to beat the heat, and it can be used to beat the heat and the heat of the pool is also a great way to beat the heat, and it can also beat\n",
      "########\n",
      "*******\n",
      "question: If you wanted to confirm information that you had, you would do what to someone?\n",
      "answer: question\n",
      "choices: ['infirm', 'ask', 'deny', 'question', 'dispute']\n",
      "common expl list: ['To confirm something that your friends told you, you might need to ask those friends further questions to prove that the information was correct.', \"Often information is ambiguous, and I can confirm it by asking pointed questions or by scrutinizing the other person's story till I can find a way to interrogate their position.\", 'If you wanted to confirm information that you had, you would ask someone.', 'If you wanted to verify the truth, you might question the person who you got the alleged information from.']\n"
     ]
    },
    {
     "name": "stderr",
     "output_type": "stream",
     "text": [
      "\r",
      "  8%|█████████████▍                                                                                                                                                   | 82/986 [2:26:54<22:52:04, 91.07s/it]"
     ]
    },
    {
     "name": "stdout",
     "output_type": "stream",
     "text": [
      "generated explanation: <pad> <extra_id_0> If you wanted to confirm information that you had, you would do it to someone who would do it to confirm it. In addition, if you wanted to confirm information that you had, you would do it to someone who would do it to someone else. This would be a simple way to confirm that information. This would be done by confirming information that you have received from someone who has not received it. Also, if you wanted to confirm information that you had, you would do it to someone else. This would be a simple way to confirm information that you had gathered information, you would do this by confirming information that you have received from someone who has provided information about your information about your information, such as your information about your information about your information, and would be able to confirm information that you have. In order to confirm information that you have. In order to confirm information that you have provided to someone who has already provided the information you have provided to someone who has been given information that you have provided to them. This would be used to confirm information that you would be able to confirm information that you have provided. This would be used to confirm your information to verify your information to verify your information. In addition, you would also want to confirm information you have provided to the person you have provided to the person who can verify your identity. In addition, you could also confirm information that you have a confirmation. This information that you have the information about your information about your identity. This way, you could also confirm information about your identity to confirm information that you have provided to the person who has provided to the person who could also confirm information that you have. This would also allow you to confirm information that you have provided. This information to verify information that you have provided to someone else. In addition to verify information that you have provided to the person you have provided to confirm that you have provided to the same information that you have provided to the person you have provided to the person you have provided to the person you can verify information that you have provided to the person who you have provided. This information, such as the person you have provided to the person you have provided to confirm information that you have provided. This would be able to confirm the information that you have provided to the person who would be able to confirm the information. The person who could verify that you have provided the information to confirm the information. The person would be able to verify that you have provided. The\n",
      "########\n",
      "*******\n",
      "question: Where is cheese likely to be dangerous for some creatures?\n",
      "answer: mouse trap\n",
      "choices: ['refrigerator', 'mouse trap', 'fridge', 'outside', 'plate']\n",
      "common expl list: ['cheese has been said to attract mice. Mice traps may contain cheese in order to attract them.']\n",
      "generated explanation: <pad> mouse traps</s>\n",
      "########\n",
      "*******\n",
      "question: He spent all work day at a computer, so he got a footstool for more comfort at his what?\n",
      "answer: desk\n",
      "choices: ['desk', 'bathroom', 'shoe shop', 'family room', 'living room']\n",
      "common expl list: ['A footstool is a small stool that is used to raise the height of a chair or table. If someone spends all day at a computer, they might need a footstool to raise their desk.']\n"
     ]
    },
    {
     "name": "stderr",
     "output_type": "stream",
     "text": [
      "\r",
      "  9%|█████████████▋                                                                                                                                                   | 84/986 [2:28:48<18:51:56, 75.30s/it]"
     ]
    },
    {
     "name": "stdout",
     "output_type": "stream",
     "text": [
      "generated explanation: <pad> <extra_id_0> A footstool is a piece of furniture that is used for a variety of tasks, including typing, typing, and more. It is a piece of furniture that is used for a variety of tasks, including typing, typing, and more. It is a great way to help your colleagues and colleagues get to the office faster and easier. It is also a great way to get around without sacrificing comfort. It is a great way to get around the office without having to use a desk. It is a great way to get more comfortable. It is a desk desk is a great way to get to know each day. It is a footstool is a great way to get to work faster than a desk is a desk and is a great way to get around the office and help to get to work faster. Using a desk is a great way to get to work. The footstool is a great way to get to know each work day. The footstool is a great way to get to know each day. The footstool is a footstool can be used to help to keep you moving around the office. The footstool can also be used to keep you from getting lost. The footstool can also help you get to work. It can help you keep you in and out of the office. The footstool can also help you to keep you moving around the office more comfortable. The footstool can be used to keep you from being able to keep you focused and secure. The footstool can also help you move around the desk easily and quickly. When you can also help you to keep your feet and feet to help you can easily transfer information between your feet. The footstool is a great way to move the footstool is a great way to keep your feet moving around the desk. It can also be used to keep your feet to keep your feet in place and help you to keep your feet more easily. When you can also use it to keep your feet in place. This is a desk and help you to keep your feet more easily reach your feet and help you move your feet when you are comfortable. When you are working at a desk, a desk is a desk and help you to keep your feet in place of your feet are seated and move around. When you are able to move around the desk,\n",
      "########\n",
      "*******\n",
      "question: How would grooming lead to bald spots?\n",
      "answer: mistakes\n",
      "choices: ['cleanliness', 'mistakes', 'brushing', 'beauty', 'satisfaction']\n",
      "common expl list: [\"If you accidentally over trim your hair, you'd likely end up with bald spots.\"]\n"
     ]
    },
    {
     "name": "stderr",
     "output_type": "stream",
     "text": [
      "\r",
      "  9%|█████████████▉                                                                                                                                                   | 85/986 [2:28:50<14:16:51, 57.06s/it]"
     ]
    },
    {
     "name": "stdout",
     "output_type": "stream",
     "text": [
      "generated explanation: <pad> <extra_id_0> Grooming can lead to bald spots, but it can also be beneficial for the skin. It can be helpful to know what to expect from your grooming experience and to know what to expect from your grooming. Grooming can also be helpful for those who are worried about their appearance. bald spots are a common problem in the workplace. It is important to recognize these problems and to know what to expect from your grooming. bald spots are a sign of a problem. It can also lead to bald spots.</s>\n",
      "########\n",
      "*******\n",
      "question: Where would a snake find a great hiding place in the United Kingdom?\n",
      "answer: kew gardens\n",
      "choices: ['ditch', 'terrarium', 'thick forest', 'kew gardens', 'feild']\n",
      "common expl list: ['Kew gardens is a large botanical garden in London, England, and snakes are often found in gardens.', 'Kew gardens is located in London, which has a great deal of green space in the form of parks.']\n"
     ]
    },
    {
     "name": "stderr",
     "output_type": "stream",
     "text": [
      "\r",
      "  9%|██████████████                                                                                                                                                   | 86/986 [2:29:05<11:30:21, 46.02s/it]"
     ]
    },
    {
     "name": "stdout",
     "output_type": "stream",
     "text": [
      "generated explanation: <pad> <extra_id_0> A snake is a creature that finds a great hiding place in the UK. It can find a great hiding place in a great location in the United Kingdom, such as a garden or a woodland, and a kew garden. A snake is a great way to hide in a great hiding place, such as a garden or a garden. A snake is a natural predator that hides in a garden and hides in a garden. A snake is a great way to hide in a great hiding place in a garden, and it can be very useful for its hiding place in a garden in a garden in the United Kingdom, and can also find a great hiding place in the Kingdom, and it can also be used to hide in a great hiding place in the UK, and it can also be used to hunt in the UK, and it can be used to hunt the snakes in the UK, and it can also be used to hunt in the UK, and it can also</s>\n",
      "########\n",
      "*******\n",
      "question: After studying many self-help books, what did he feel in his heart?\n",
      "answer: inspiration\n",
      "choices: ['inspiration', 'dreams', 'more intelligence', 'understanding', 'knowing more']\n",
      "common expl list: [\"Some people study self-help books because they've felt lost in their life and are looking for something to help them out. By reading many self-help books, such people might feel more inspired in their life.\", 'Self-help books are written to inspire people to change their lives for the better.', \"If John read about confidence, optimism, positive thinking, it's possible that he feels inspired.\"]\n"
     ]
    },
    {
     "name": "stderr",
     "output_type": "stream",
     "text": [
      "\r",
      "  9%|██████████████▏                                                                                                                                                  | 87/986 [2:30:57<16:00:14, 64.09s/it]"
     ]
    },
    {
     "name": "stdout",
     "output_type": "stream",
     "text": [
      "generated explanation: <pad> <extra_id_0> He studied many self-help books and found inspiration in his heart. Inspiration is the power of the soul. Inspiration is the power of the heart. It is the power of the soul to be fully present and to be fully present to others. It is the power of the soul to be fully present to others. This is the power of the soul to move and to live a life of purpose. Inspiration is the power of the mind to be creative and to be creative. Inspiration is the power of the soul. Inspiration is the power of the soul. Inspiration is the power of the self-help books, such as self-help books, self-help books, and self-help books, and self-help books, and the ability to learn and use of the heart. It is the power of the heart to be creative and capable of a sense of purpose, and the self-help books, and the ability to create a sense of self-help books, and the ability to create a positive energy. Inspiration is the power of self-help. It is the ability to create a positive and powerful power to create a positive energy. The inspiration to create a positive influence to create positive energy. The inspiration is a powerful tool to help you to create positive, positive and inspire you to create a positive feeling of inspiration to create a positive energy that can help you to create a positive energy that can help you to create a positive energy that will help you to feel good. It is a powerful tool to help you to create a positive and positive energy that can help you to create a positive and positive energy that will help you to create positive energy in a positive influence in others. Inspire yourself to create positive energy in the way you can help you to create positive energy and change the positive energy that can help you to create positive energy in the world. It can help others. It can help you can help you to create positive change. It can also help you become more positive, positive, and it can help you to feel inspired by the world. It can help you to feel more confident, confident, and give you the strength to feel more confident, and it can help you to feel more confident, and it can help you can help you to feel more confident, and it can help you feel more confident, and it can help you feel more confident, and it can help you to feel more confident, and it can help you can help you feel\n",
      "########\n",
      "*******\n",
      "question: Where would you find teeth whitening bleachers?\n",
      "answer: pharmacy\n",
      "choices: ['gymnasium', 'soccer game', 'sporting event', 'pharmacy', 'soccer game']\n",
      "common expl list: ['Teeth whitening is a common practice, and pharmacies often sell the products used for it.']\n"
     ]
    },
    {
     "name": "stderr",
     "output_type": "stream",
     "text": [
      "\r",
      "  9%|██████████████▎                                                                                                                                                  | 88/986 [2:32:53<19:36:35, 78.61s/it]"
     ]
    },
    {
     "name": "stdout",
     "output_type": "stream",
     "text": [
      "generated explanation: <pad> <extra_id_0> A pharmacy pharmacy is a pharmacy that supplies teeth whitening bleachers. They are available at pharmacies and retail stores. They are also stocked at pharmacies and pharmacies. They are available at pharmacies and pharmacies. They are also available at pharmacies and pharmacies. They are also available at pharmacies and pharmacy stores. They are also available at pharmacies and pharmacies. They are also available at pharmacies and pharmacies. They are also available at pharmacies and pharmacies. They are also available at pharmacies and pharmacy stores. They also have a pharmacy where you can purchase toothpaste whitening bleachers at a pharmacy and pharmacy. They also have a pharmacy to purchase toothpaste whitening bleachers at a pharmacy to purchase teeth whitening bleachers at pharmacies are also available at pharmacies. They also have pharmacy to sell prescriptions. They also sell them at pharmacies. They are also available at pharmacies are also often open to the public so that they are also open to the public. They are open to the public to purchase whitening bleachers at pharmacies at pharmacies. They are often located at pharmacies are located at pharmacies are also open to the public. They are also located at pharmacies are located at pharmacies. They are located at pharmacies are located at pharmacies are located at pharmacies are located at pharmacies are located at pharmacies are open to the public. They are located at pharmacies are also open to the public. They are open to the public. They are open to the public to offer a variety of different types of teeth whitening bleachers and dental pharmacy. They are also open to sell them at pharmacies. They are also open to the public. They are also open to the public at pharmacies and pharmacies. They are also open to the public at pharmacies. They are also open to the public to offer a pharmacy and are also open to the public. They are also open to sell them at pharmacies and pharmacies and pharmacies and pharmacies. They are also a pharmacy, pharmacy. They offer a variety of different types of products, and they are also available in pharmacies and pharmacies. They are also open to the public to purchase teeth whitening products. Pharmacy is a pharmacy to sell them at a pharmacy. Pharmacy pharmacies are a pharmacy. Pharmacys are also open to the public and are open to the public. Pharmacy is a great way to\n",
      "########\n",
      "*******\n",
      "question: While he had seen a koala in the zoo, he was looking forward to finding one in the what?\n",
      "answer: australian outback\n",
      "choices: ['australian outback', 'bamboo grove', 'wilderness', 'island', \"child's book\"]\n",
      "common expl list: ['Because Koalas are a native species to Australia, the safest place to see a Koala may be outback Australia.', 'Koalas live in Australia, and are not found in any other country in the North American continent.']\n"
     ]
    },
    {
     "name": "stderr",
     "output_type": "stream",
     "text": [
      "\r",
      "  9%|██████████████▌                                                                                                                                                  | 89/986 [2:32:56<14:11:31, 56.96s/it]"
     ]
    },
    {
     "name": "stdout",
     "output_type": "stream",
     "text": [
      "generated explanation: <pad> <extra_id_0> He had seen a koala in the zoo, but was looking forward to finding one in the outback. He was looking forward to finding one in the outback. The koala was a native of the southeastern region of Queensland, and he was looking forward to finding one in the outback. He had also seen a koala in the outback, which was located in the middle of the country. It was a koala that swooping around the edges of the zoo. he was looking forward to finding one in the outback. It was a koala was a rare animal in the region. It was a rare animal that he had seen in the outback.</s>\n",
      "########\n",
      "*******\n",
      "question: Where can a child get a wagon?\n",
      "answer: toy store\n",
      "choices: ['field', 'garage', 'bookstore', 'backyard', 'toy store']\n",
      "common expl list: ['Toy stores deal specifically in toys. Wagons are one of a variety of toys.', \"A toy wagon is a child's toy. Toy wagons can be purchased from toy stores.\"]\n"
     ]
    },
    {
     "name": "stderr",
     "output_type": "stream",
     "text": [
      "\r",
      "  9%|██████████████▋                                                                                                                                                  | 90/986 [2:34:45<17:56:51, 72.11s/it]"
     ]
    },
    {
     "name": "stdout",
     "output_type": "stream",
     "text": [
      "generated explanation: <pad> <extra_id_0> A toy store is a place where a child can get a wagon from a toy store. Toy stores are located in the United States and are located in the U. Toy stores are located in the United States and Canada. Toy stores are located in the United States and Canada. Toy stores are located in the United States and are located in the United States. Toy stores are located in the United States and Canada. Toys are available in the United States and Canada. Toy stores are located in the United States. Toy stores are located in the United States. Toy stores are located in the United States. Toy stores are located in the United States and Canada, and they are located in the United States. Toy stores are located in the United States. Toy stores are located in the United States. Toy stores are located in the United States. Toy stores are located in the United States. Toy stores are located in the U. Toy stores are located in the U.S. Toy stores are located in the U.S. The Toy stores are located in the U.S. Toy stores are located in the U. Toy stores are located in the U. Toy stores are located in the U. Toy stores are located in the U. Toys are located in the U. Toy stores are located in the U. Toy stores are located in the U. Toy stores are located in the U. Toy stores are located in the area. Toy stores are located in the area are located in the U. Toy stores are located in the U. The Toy and other stores are located in the U. Toy stores are located in the U. The Toy and Toy stores are also located in the U. The Toy and Toy stores are located in the U. Toy and Toy Stores are located in the U. Toy Stores are located in the U. Toy stores are located in the U. Toy Stores are located in the U. Toy stores are located in the U. Toy Stores are located in the U. Toy stores are located in the U. Toy Stores are located in the U. The Toy Stores are located in the U. Toy Stores are located in the U. Toy stores are located in the U.S. Toy stores are located in the\n",
      "########\n",
      "*******\n",
      "question: Being able to forgive is a way to be what?\n",
      "answer: nice to\n",
      "choices: ['learn', 'give hug', 'happiness', 'nice to', 'sex']\n",
      "common expl list: ['When you forgive people you are being nice to them.']\n"
     ]
    },
    {
     "name": "stderr",
     "output_type": "stream",
     "text": [
      "\r",
      "  9%|██████████████▊                                                                                                                                                  | 91/986 [2:34:47<12:49:10, 51.57s/it]"
     ]
    },
    {
     "name": "stdout",
     "output_type": "stream",
     "text": [
      "generated explanation: <pad> <extra_id_0> Being able to forgive is a way to be able to be able to be a person who is not afraid of being a stranger. The ability to forgive is a way to be able to be a person who forgives. The ability to forgive is a way to be able to be a person who is able to be a person who is able to forgive and be a person who is able to forgive and be a person who forgives. This is a way to be able to be able to forgive and forgive</s>\n",
      "########\n",
      "*******\n",
      "question: What  is necessary to have when going fishing?\n",
      "answer: fishing rod\n",
      "choices: ['fishing rod', 'access to water', 'bate', 'three hands', 'tackle']\n",
      "common expl list: ['fishing rods are necessary component pieces that are held by fishermen to access and use when fishing', 'To go fishing requires a fishing rod.']\n"
     ]
    },
    {
     "name": "stderr",
     "output_type": "stream",
     "text": [
      "\r",
      "  9%|███████████████                                                                                                                                                   | 92/986 [2:34:49<9:11:33, 37.02s/it]"
     ]
    },
    {
     "name": "stdout",
     "output_type": "stream",
     "text": [
      "generated explanation: <pad> <extra_id_0> When fishing, it is important to have a fishing rod that you can use to carry your catch. It is a great way to get around the lake and enjoy the scenery. It is also important to have a fishing rod with you. It is a must have when going fishing. It is also important to have a good fishing rod to carry the tackle with you. It is important to have a fishing rod with you. It is also important to have a fishing rod with you. A fishing rod is a good way to get the fishes you have a strong, durable, and can be used to carry a variety of species.</s>\n",
      "########\n",
      "*******\n",
      "question: A weasel is cursed by a witch, where is the weasel stuck?\n",
      "answer: fairytale\n",
      "choices: ['corn fields', 'great outdoors', 'fairytale', 'imagination', 'chicken coop']\n",
      "common expl list: ['Being stuck in a fairytale suggests being cursed, and the curses that prevail in fairytales are usually cast by witches.']\n"
     ]
    },
    {
     "name": "stderr",
     "output_type": "stream",
     "text": [
      "\r",
      "  9%|███████████████▎                                                                                                                                                  | 93/986 [2:35:30<9:26:02, 38.03s/it]"
     ]
    },
    {
     "name": "stdout",
     "output_type": "stream",
     "text": [
      "generated explanation: <pad> <extra_id_0> A weasel is cursed by a witch, and she is cursed by a cursed weasel. The witch is a witch who is cursed by a weasel to keep her feet dry. The witch is a witch who is cursed by a weasel to keep her feet dry. The witch is a witch and cursed by a witch. The witch is a witch and is a weasel who is cursed by a weasel is cursed by a weasel. The witch is a weasel is cursed by a weasel is cursed by a weasel's hair and nails. The weasel is cursed by a weasel's hair and nails in a weasel is cursed by a weasel is cursed by a witch. The weasel is cursed by a weasel is cursed by a witch and the weasel is cursed by a witch and the weasel is cursed by awesomed by the weasel is cursed by a weasel is also cursed by a witch and</s>\n",
      "########\n",
      "*******\n",
      "question: If you want to buy you must what?\n",
      "answer: spend money\n",
      "choices: ['spend money', 'go shopping', 'paying', 'have in mind', 'a shop']\n",
      "common expl list: ['To buy something, you must spend money.', 'To buy one needs money, and need money implies you have spent money.', 'If you want to buy something, you must spend money.']\n"
     ]
    },
    {
     "name": "stderr",
     "output_type": "stream",
     "text": [
      "\r",
      " 10%|███████████████▍                                                                                                                                                  | 94/986 [2:35:41<7:25:10, 29.94s/it]"
     ]
    },
    {
     "name": "stdout",
     "output_type": "stream",
     "text": [
      "generated explanation: <pad> <extra_id_0> If you want to buy you must spend money. If you want to buy you must spend money on things you already have in your possessions. If you want to buy you must spend money on things you already have. If you want to spend money on things you already have, you must spend money on things you already have. Buying a good quality item will cost you money. You must spend money on things you already have. You must spend money on things you already have in your possessions. You must spend money on things you already have in your possessions, you must spend money on things you already have in your possessions, and you must spend money on things you already have in your possessions, such as a good quality item, such as books, magazines, and other things you have in your possessions, you must spend money on things you can use it for. You must spend money on things you have in your possessions that are not in your possession.</s>\n",
      "########\n",
      "*******\n",
      "question: What public celebration sometimes has a horse show?\n",
      "answer: state fair\n",
      "choices: ['state fair', 'indy 500', 'american southwest', 'canada', 'central park']\n",
      "common expl list: ['Horse shows are competitions that sometimes occur at public celebrations. Some fairgrounds include horse shows as part of their regularly scheduled events.', 'Horse shows are sometimes included in state fair celebrations, and these fairs frequently are held in public parks.', \"A state's fair is a public celebration that may include a horse show.\"]\n"
     ]
    },
    {
     "name": "stderr",
     "output_type": "stream",
     "text": [
      "\r",
      " 10%|███████████████▌                                                                                                                                                 | 95/986 [2:36:48<10:09:54, 41.07s/it]"
     ]
    },
    {
     "name": "stdout",
     "output_type": "stream",
     "text": [
      "generated explanation: <pad> <extra_id_0> Sometimes, a horse show is a public event that is held at a public event, such as a state fair. The horse show is a public event that is held at a public event, such as a horse show. The horse show is usually held at a state fair, which is held at a state fair or a public event. The horse show is usually held at a fair or state fair, which is held at a public event. The horse show is usually held at a state fair or state fair is held at a public event, which is a public event, and the horse show is a great way to get a great way to get to know the horse and its owners, and the horses, and the horses, and their owners, and their horses, and the horses, and their owners, and their owners, and the horses, and their owners, and their horses, and their horses. The horse show is a great way to get to know the horse and its owners, and their horses and their owners and their horses and their owners and their owners. The horse show is a great way to get to know the horses and their owners and their horses and their horses and their owners and their owners. The horse show is a popular event. The horse show is a great way to get to know the horses and their owners and their horses and their owners and their owners. The horse show is a great way to get to know the horses and their owners and their horses and their owners and visitors. The horse show is a great way to see the horse and its owners and their horses and their horses and their horses and their owners and horses and their horses and horses and their horses and their horses and their horses and their horses and the horses and their horses and their owners and the horses and their products and their products and the horses and their products and their products and services. The horse show is a public event is a public gathering at a public gathering at a public gathering at a public gathering at a public display at a public gathering at a public event at a public event at a public event at a public event. The horse shows are a public event. The public event is a great opportunity to show the horse and their guests to show them a great opportunity to show the horses and their guests. The horse shows are held at a state fair. The\n",
      "########\n",
      "*******\n",
      "question: There are many wage gaps being discussed, the most important of which is between the rich and what?\n",
      "answer: poor\n",
      "choices: ['plain', 'sleepy', 'poor', 'idle', 'needy']\n",
      "common expl list: ['The poor are a group which suffers from a wage gap, denoted as their earning less than others, especially the rich.']\n"
     ]
    },
    {
     "name": "stderr",
     "output_type": "stream",
     "text": [
      "\r",
      " 10%|███████████████▊                                                                                                                                                  | 96/986 [2:36:49<7:09:53, 28.98s/it]"
     ]
    },
    {
     "name": "stdout",
     "output_type": "stream",
     "text": [
      "generated explanation: <pad> <extra_id_0> There are many wage gaps that are being discussed, but the most important is between the rich and what? The most important gap is between the rich and the poor. The most important is between the rich and what?</s>\n",
      "########\n",
      "*******\n",
      "question: What city in a North American Country, that isn't the United States, would you expect to find a good french restaurant?\n",
      "answer: quebec\n",
      "choices: ['wine', 'nyc', 'quebec', 'manhattan', 'paris']\n",
      "common expl list: ['Quebec is the only province that speaks French in North America, and you might expect to find a good french restaurant there.', 'Quebec has a strong french heritage, and the french cuisine is actually quite popular in the United States.', 'Quebec is said to have strong french-culture since it was originally french territory. This would make sense if quebec had a good french restaurant.', 'Quebec is a province in Canada, and is known for its french culture.']\n"
     ]
    },
    {
     "name": "stderr",
     "output_type": "stream",
     "text": [
      "\r",
      " 10%|███████████████▉                                                                                                                                                  | 97/986 [2:37:07<6:20:54, 25.71s/it]"
     ]
    },
    {
     "name": "stdout",
     "output_type": "stream",
     "text": [
      "generated explanation: <pad> <extra_id_0> In a North American Country, you would expect to find a good french restaurant in a city that is not the United States. Qubec is a city in North America that is located in the United States. It is also known as the North American Country, and it is a great place to find a good french restaurant. It is a great place to visit if you are in a North American Country and you are looking for a good place to eat in a city. It is a great place to visit a french restaurant in a good time. Qubec is a city that is a great place to visit a good french restaurant is a great place to eat and drink. It is a great place to visit if you are looking for a good french restaurant that is located in a good restaurant that is located in a country that is a good french restaurant that is located in a country that is a good place to eat french restaurant that is located in a country that is a great place to eat french restaurant that is a great</s>\n",
      "########\n",
      "*******\n",
      "question: Care not to burn you hand on the handle of what small high-walled vessel?\n",
      "answer: saucepan\n",
      "choices: ['brush', 'carry object', 'walking stick', 'umbrella', 'saucepan']\n",
      "common expl list: ['A saucepan is a small, high-walled vessel, built for holding liquids and usually used in the kitchen.']\n"
     ]
    },
    {
     "name": "stderr",
     "output_type": "stream",
     "text": [
      "\r",
      " 10%|████████████████                                                                                                                                                  | 98/986 [2:37:07<4:27:46, 18.09s/it]"
     ]
    },
    {
     "name": "stdout",
     "output_type": "stream",
     "text": [
      "generated explanation: <pad> <extra_id_0> Care not to burn your hand on the handle of a small high-walled vessel?</s>\n",
      "########\n",
      "*******\n",
      "question: What container does peanut butter come in?\n",
      "answer: jar\n",
      "choices: ['cupboard', 'pantry', 'jar', 'bottle', 'supermarket']\n",
      "common expl list: ['Peanut butter comes in glass jars, like many other food products.', 'Jars, like those that pickles often come in, are suitable for food items that need to be kept fresh for long time. Jars can be resealed.', 'Jars can keep food sealed without leaking, and often have lids. Peanut butter is sealed in a jar and could be kept in a house, kitchen, pantry, or cupboard.', 'Jars are often used to store food, and peanut butter is a food.']\n"
     ]
    },
    {
     "name": "stderr",
     "output_type": "stream",
     "text": [
      "\r",
      " 10%|████████████████▎                                                                                                                                                 | 99/986 [2:37:09<3:14:53, 13.18s/it]"
     ]
    },
    {
     "name": "stdout",
     "output_type": "stream",
     "text": [
      "generated explanation: <pad> <extra_id_0> Peanut butter comes in a jar or a jar. Peanut butter comes in a jar or a jar of a jar. It is a jar of peanut butter that is a great way to store peanut butter in a jar or a jar. It is also a great way to store peanut butter in a jar or jar. It is a great way to store peanut butter in a jar or a jar. It is a great way to store peanut butter in a jar or jars.</s>\n",
      "########\n",
      "*******\n",
      "question: Where are plants likely to be handled by a city employee?\n",
      "answer: park\n",
      "choices: ['park', 'windowsill', 'ground', 'office', 'garden']\n",
      "common expl list: ['A city employee might handle plants while working in a park.', 'Parks are where city employees are likely to handle plants.']\n"
     ]
    },
    {
     "name": "stderr",
     "output_type": "stream",
     "text": [
      "\r",
      " 10%|████████████████▎                                                                                                                                                | 100/986 [2:38:29<8:10:43, 33.23s/it]"
     ]
    },
    {
     "name": "stdout",
     "output_type": "stream",
     "text": [
      "generated explanation: <pad> <extra_id_0> A park is a place where people can relax and enjoy the view of the city. A park is a place where people can relax and enjoy the view of the city. A park is a place where people can relax and enjoy the view of the city. It is a place where people can relax and enjoy the view of the city. Parks are also a great place to visit for the chance to see the city in a new way. Parks are a great place to visit for the first time. Parks are a great way to explore and take a walk through the city's landscape, and the city's natural beauty. Parks are also a great place to take a park and take in the beauty of nature. It is also a place to gather, and it is a great place to visit and explore, and the city is a great place to visit and experience the city. It is a great place to visit and enjoy. It is a great place to visit and take in the outdoors, and it is a great place to visit and enjoy the outdoors. It is also a great place to visit, and it is a great place to visit the sights and sounds of the city. It is a great place to visit and enjoy the view of the city. It is a place to visit the park. It is a great place to visit the city's natural beauty, and the city can also be a great place to visit. It is a great place to visit a variety of activities and experience the outdoors and to experience the culture of the city. It is a great place to visit a variety of plants and animals, and it is a great place to visit. It is a great place to visit and experience the city's natural beauty, and it is a great place to visit a variety of plants and animals, and it is a great place to visit a variety of activities. It is a great place to visit. It is a great place to visit a park, and it is a great place to visit. It is a great place to visit. It is a great place to visit with the city is a great place to visit with a park and experience the city employee can experience the city employee can also enjoy the city's surroundings. It is a great place to visit and to visit the park to\n",
      "########\n",
      "*******\n",
      "question: Trains tend to come on time, airplanes on the other hand tend to what?\n",
      "answer: arrive late\n",
      "choices: ['stall', 'take off', 'arrive late', 'catch on fire', 'carry freight']\n",
      "common expl list: [\"Planes aren't typically known for arriving on time (air traffic, weather, repairs, et. al.), whereas trains tend to be more reliable.\", 'Planes are carreid by more complicated mechanisms than trains, and therefore tend to be harder to operate exactly on time.']\n"
     ]
    },
    {
     "name": "stderr",
     "output_type": "stream",
     "text": [
      "\r",
      " 10%|████████████████▍                                                                                                                                               | 101/986 [2:39:50<11:41:40, 47.57s/it]"
     ]
    },
    {
     "name": "stdout",
     "output_type": "stream",
     "text": [
      "generated explanation: <pad> <extra_id_0> Trains tend to come on time, airplanes tend to come on the other hand tend to come late, airplanes tend to come late, and airplanes tend to come on time. Trains tend to come on time, airplanes tend to come on time, airplanes tend to come on time, and airplanes tend to arrive later. Trains tend to come on time, airplanes tend to arrive late, airplanes tend to arrive on time, trains tend to come on time, airplanes tend to arrive on time, and airplanes tend to arrive on time. They tend to arrive on time, which is important for both parties. They also tend to arrive on the way to and from the train. Trains tend to arrive on time, which is a good sign of a train journey is a long way to arrive on time, and the train journey is a good sign of time, which is a shorter time. It is also a good sign of the train and airplanes on the other hand, it is important to arrive on time, and it is important to arrive on time. It is important to note that they are not as a passenger, as they are more than a longer distance. It is important to note that airplanes are more likely to arrive on time. Trains tend to come on time. Trains are often the most important for passengers to come on time. Trains are a great way to travel. Trains are a train can be a train can be a great way to get to the airports are a great way to get to the airports are also a great way to get to the airports are more expensive to get to the airports are more expensive to get to the airports are more expensive to get to the train more expensive than airplanes are more expensive to travel by the train. The longer journey time. The train is a great way to get to the station to travel. Trains are a great way to get to the airports are also a great way to get to the train to get to the airports are also a great way to get to the train. Trains are more expensive to travel by car, but they are also more expensive to travel by car, and they are more expensive to travel by air.</s>\n",
      "########\n",
      "*******\n",
      "question: Where is glue well used?\n",
      "answer: art room\n",
      "choices: ['desk drawer', 'cabinet', 'art room', 'school', 'closed container']\n",
      "common expl list: ['Glue is used in art projects, and art rooms are where art projects are done.']\n"
     ]
    },
    {
     "name": "stderr",
     "output_type": "stream",
     "text": [
      "\r",
      " 10%|████████████████▌                                                                                                                                               | 102/986 [2:40:24<10:42:49, 43.63s/it]"
     ]
    },
    {
     "name": "stdout",
     "output_type": "stream",
     "text": [
      "generated explanation: <pad> <extra_id_0> Art room is a place for glue to be used in a variety of ways, from decorative to decorative. The glue is used in many types of art spaces, from a home office to a museum. The glue is used in many different ways, from art to sculpture to painting to sculptures to painting. The glue is used in many places, including art galleries, museums, and other places. The glue is used in art and in many cases, it is used in the creation of artwork. The glue used in art is used in many different ways. It is used in the art room, and it is used to create a space. The glue is used in the art pieces, and can be used to create a unique and unique way. The glue is used to create a space that is a place to create a space that is a focal point for a large space. The glue is used to create a focal point for a space. The glue is used to create a focal point for a space that is a focal point for the purpose of a room, and it can be used to create a space that is a space that is a space that is a space that is a space for a space that is not a space for the space that is a space for the artist to create a space for the artist to create a space that is a space that is a space that is a space for the artist can create </s>\n",
      "########\n",
      "*******\n",
      "question: Billy loves science, history, and art but isn't very creative.  When he was visiting the museum, he felt a great deal of what emotion?\n",
      "answer: enjoyment\n",
      "choices: ['inspiration', 'fulfillment', 'wonder', 'boredom', 'enjoyment']\n",
      "common expl list: ['At a museum, Billy uses history to find science, and science to find art; by combining different loves, going to the museum has been fulfilling. To achieve fulfilment, Billy felt an enjoyable feeling.', 'When Billy visited a museum which had a lot of fields of interest, Billy enjoyed himself while he learned from the experience at the same time.']\n"
     ]
    },
    {
     "name": "stderr",
     "output_type": "stream",
     "text": [
      "\r",
      " 10%|████████████████▋                                                                                                                                               | 103/986 [2:41:32<12:30:35, 51.00s/it]"
     ]
    },
    {
     "name": "stdout",
     "output_type": "stream",
     "text": [
      "generated explanation: <pad> During his visit, he felt a great deal of enjoyment of science, history, and art. He was also impressed by the museum's exhibits, which were displayed in the museum's permanent collection. The museum is located in the museum's main entrance, which is located in the museum's main entrance. The museum is also a great place to visit because it is a great place to see the exhibits and exhibits. The museum is a great place to learn about the history of science and history. The museum is also a great deal of enjoyment of art and science museums are also a great deal of enjoyment is the museum is also a great deal of enjoyment is the museum's collection of art and science museum. The museum is located in the museum's main attraction, and the museum is also a great opportunity for visitors to experience the museum's history and culture. The museum is also a great opportunity to learn about the museum's history and culture, and the history of the museum's collections. The museum's history, culture, and history, and the history of the museum's history and the culture is a great opportunity to experience the history of the museum's history and the history of the museum's history and the history of the museum's cultural history. The museum is a museum is a great opportunity to experience the museum's many attractions, such as the history, history, and art, and science and art exhibits, and the museum's collections. The museum is a great way to experience the history and culture, and the history of the museum is a great deal of the museum's history, and the museum's history and culture. Museum is a great deal of science and history of the museum, and it's history. The museum is a great way to experience the museum's history, history, and the museum's collection. The museum is a great way to experience the museum's collections. The museum is a great place to experience the museum's collection is a great way to experience the museum's collection. The museum is a great way to experience the museum's collection is a great way to experience the museum is a great way to experience the museum is a great way to learn about the history, art, and science, and the history of the museum's history. The museum is\n",
      "########\n",
      "*******\n",
      "question: Sarah did much hard work, even though she was on vacation.  Her mother told her off and said what?\n",
      "answer: do nothing\n",
      "choices: ['unemployment', 'say something', 'earn money', 'do nothing', 'relaxation']\n",
      "common expl list: ['If one is on vacation, one is supposed to \"do nothing\" as opposed to working - the \"something\" that is discouraged. Many physically hard jobs involve getting the hands dirty.']\n"
     ]
    },
    {
     "name": "stderr",
     "output_type": "stream",
     "text": [
      "\r",
      " 11%|████████████████▉                                                                                                                                               | 104/986 [2:42:28<12:51:47, 52.50s/it]"
     ]
    },
    {
     "name": "stdout",
     "output_type": "stream",
     "text": [
      "generated explanation: <pad> <extra_id_0> Sarah did not take vacation, and her mother told her off and said she would do nothing. Sarah did much hard work, even though she was on vacation. She did nothing. Even though she was on vacation, she did not take any vacations. She did not leave her mother and mother with her child while on vacation. She did not leave her home and leave her home. She did not leave her home and go to the beach. She did not leave her home because she was on vacation. She did not leave her job and left her mother. This is because she was on vacation. She did not have to work overtime. This was because she was on a vacation. She was on vacation. This was because she was on vacation and did not leave to return to work. This was because Sarah was on vacation. It was important to her mother said she was on vacation. It was important to her job to make sure she was on vacation. She was on vacation. It was important to work hard, but she was on vacation. It was important to her mother was always on vacation. It was important to her mother told her off and said she was on vacation. This was because she was on vacation. It was because she was on vacation. It was not to be on vacation for work. It was important to work hard work and did nothing. It was important to work hard to stay on vacation. It was important to be on vacation. It was important to her job to stay home. It was important to keep her job. It was important to keep her job to keep her job to keep her job to keep her job. It was important to her job to keep her job. It was important to keep up with her mother and daughter. It was important to keep up with her children and to keep up with her mother and father and daughter. Sarah did nothing. She did not leave her mother and her mother was always with her children. She was on vacation. She was on vacation. She was on vacation. She did nothing to keep her job. She did not take vacation time to stay on vacation. She was on vacation. She was always on vacation. She did not want to be on vacation. She was on vacation. She worked hard to stay up her job. She was always on vacation. She was on vacation. She was on vacation. It was a vacation and she was on vacation. It was not to be on vacation. She was on vacation. She did not want to be on\n",
      "########\n",
      "*******\n",
      "question: James walked barefoot on a something that was made hot by sunshine. What is he probably walking on?\n",
      "answer: street\n",
      "choices: ['desktop', 'summer', 'moon', 'meadow', 'street']\n",
      "common expl list: ['Because of the intense heat of summer, sunlight reflects off the pavement, causing a hot sensation when one walks barefoot in the summer.']\n"
     ]
    },
    {
     "name": "stderr",
     "output_type": "stream",
     "text": [
      "\r",
      " 11%|█████████████████▏                                                                                                                                               | 105/986 [2:42:41<9:55:08, 40.53s/it]"
     ]
    },
    {
     "name": "stdout",
     "output_type": "stream",
     "text": [
      "generated explanation: <pad> <extra_id_0> James probably walking on a street that was made hot by sunshine. It was made hot by sunshine. It was a hot day, and it was hot enough to walk on. It was hot that James was walking on a sidewalk. It was a day that James was walking on. It was hot enough to walk on. It was hot enough to walk on. It was hot enough to walk on. It was hot enough to walk on a sidewalk. It was hot enough to walk on. It was made hot by sunshine. It was hot enough to walk on barefoot on a hot spot. It was also hot enough to walk on a sidewalk. It was also hot enough to walk on a sidewalk. It was made hot enough to walk on barefoot. It was hot enough to walk on. It was also hot enough to walk on. It was hot enough to walk on. It was hot enough to walk on barefoot. It was hot enough to walk on. It was also hot. It was made hot by sunshine.</s>\n",
      "########\n",
      "*******\n",
      "question: He grew tired of standing in the kitchen his whole shift, where was he?\n",
      "answer: restaurant\n",
      "choices: [\"neighbor's house\", \"friend's house\", 'restaurant', 'jail', 'fraternity house']\n",
      "common expl list: ['A restaurant would have a kitchen, where you would be required to stand while your shift is in session.', 'One can get tired standing in a kitchen if one is on their feet all day; kitchens are typically in restaurants.']\n"
     ]
    },
    {
     "name": "stderr",
     "output_type": "stream",
     "text": [
      "\r",
      " 11%|█████████████████▏                                                                                                                                              | 106/986 [2:44:02<12:53:04, 52.71s/it]"
     ]
    },
    {
     "name": "stdout",
     "output_type": "stream",
     "text": [
      "generated explanation: <pad> <extra_id_0> He grew tired of standing in the kitchen his whole shift. He grew tired of standing in the kitchen his whole shift, so he grew tired of standing in the kitchen his whole shift. Restaurants are the perfect place to work, and they are the perfect place to work. They are the perfect place to work, and they are the perfect place to work, and they are the perfect place to work. They are also the perfect place for a busy man to relax and enjoy the food. They are the perfect place to work, and they are also the perfect place to work. They are also the best place to work. Restaurants are also great for those who work long hours. Restaurants are also great for those who work long hours. They are also great places to work, and they are also great places to work in the restaurant to make sure that they are a great place to work in. Restaurants are a great place to work environment for him to enjoy working in. Restaurants are also great for those who are also great for those who are looking for a place to work with. They are a great place to work with a variety of different types of food that are available. They are also great for those who are not necessarily not as a good work. They are also great for those who work in the restaurant to work. They are also great for those who are not as busy. Restaurants are also great for those who are not as well-meaning people who are busy. Restaurants are often busy, and they are also great for those who are busy. They are also great for their staff to work with a variety of cuisines that are more enjoyable to work, such as to choose from a variety of different dishes that are not necessarily more likely to be more likely to be more productive and offer a variety. They are also often a busy and busy jobs. They are also a great place to work. They are also a great place to work. They are also a great place to work. They are also great places to work in a relaxed atmosphere. Restaurants are a great place to work. They have a variety of food is also a great place to work in. They offer a great place to work in a great place to work in a place to work in a place to work in a restaurant to work in a variety of different cultures and cuisines. They are also\n",
      "########\n",
      "*******\n",
      "question: The children play cards often, but they make their own rules because they can't what the originals?\n",
      "answer: remember\n",
      "choices: ['bid', 'concentrate', 'winning', 'count', 'remember']\n",
      "common expl list: [\"The children are making up their own rules because they can't remember the original rules.\", 'Children often play games that are similar to those played by adults, such as card games, but with slight variations to how they are played. This is most likely because children cannot remember the original rules of the card games. Smiling is a common expression']\n"
     ]
    },
    {
     "name": "stderr",
     "output_type": "stream",
     "text": [
      "\r",
      " 11%|█████████████████▎                                                                                                                                              | 107/986 [2:44:55<12:53:59, 52.83s/it]"
     ]
    },
    {
     "name": "stdout",
     "output_type": "stream",
     "text": [
      "generated explanation: <pad> <extra_id_0> Children play cards often, but they can't remember the originals because they can't remember the rules. They play cards with their own rules because they can't remember the originals. They play cards with their own rules because they can't remember the originals. They play cards with their own rules because they can't remember the rules. They also make their own rules because they can't remember the originals. They play cards with their own rules because they can't remember the originals. They play cards with their own rules, but they can't remember the originals because they can't remember the rules. They can't remember the originals are a great way of thinking. They can't remember the originals are not always a good way of thinking about the originals. They can't remember the originals because they can't remember the originals because they can't remember the originals. They can't remember the originals. They can't remember the originals because they can't remember the originals are a good way of thinking. They can't remember the originals are not a good way of thinking. They can't remember the originals are not a good way to remember the originals are a good way to remember the originals. They can't remember the originals are not a good way to play cards. They can't remember the originals are a good way to remember the originals are a good way to remember the rules they are a good way to remember the rules they are a good way to remember the rules they are a good way to remember the originals. They can't remember the rules. They can't remember the originals. They can't remember the originals are a great way to remember the originals are a great way to remember the originals are a great way to make a great way to make them. They are a great way to remember them. They can't remember the originals. They can't remember the original cards they can't remember the originals are a good way to remember the originals are a great way to remember the originals are a great way to remember the originals are a great way to remember the originals are a great way to remember the originals are a great way to remember the originals\n",
      "########\n",
      "*******\n",
      "question: On an average day, going to work could make you feel like what?\n",
      "answer: feeling good\n",
      "choices: ['feeling good', 'anger', 'revelation', 'being fired', 'tardiness']\n",
      "common expl list: ['People sometimes feel pride and accomplishment when they get things done at the office.', 'To fulfill a life purpose and to gain fulfillment, people often undertake gainful employment. Thus, the people who experience this data point might experience feelings of accomplishment/fulfillment.']\n"
     ]
    },
    {
     "name": "stderr",
     "output_type": "stream",
     "text": [
      "\r",
      " 11%|█████████████████▌                                                                                                                                              | 108/986 [2:46:22<15:20:10, 62.88s/it]"
     ]
    },
    {
     "name": "stdout",
     "output_type": "stream",
     "text": [
      "generated explanation: <pad> <extra_id_0> On an average day, going to work could make you feel good. It could make you feel like you are going to work. It could also make you feel like you are going to work. It could make you feel good about yourself and your work. It could also make you feel like you are going to be at work for a while. It could also make you feel like you are going to work. It could also make you feel like you are going to work. It could also make you feel like you are going to work for the first time. It could also make you feel like you are going to work is a good way to feel like you are going to work with your colleagues and colleagues, and it could also make you feel like you are going to work. It could also help you feel good about your work. It could also help you feel good about yourself. It could also help you feel good about yourself. It could also help you feel good about your job. It could also help you feel good about yourself. It could help you feel like you are going to work. It could also help you feel good about yourself. It could also help you feel good about yourself. It could help you feel good about yourself. It could help you feel good about yourself. It could help you feel good about your work. It could help you feel good about yourself and make you feel good about your work. It could also help you feel good about yourself and your colleagues. It could help you to feel good about yourself by making yourself feel good about yourself and your work-related activities. It could help you to feel good about yourself. It could help you feel good about being at work. It could help you to feel good about yourself and your colleagues feel good about your job. It could help you feel good about yourself. It could also help you feel good about your work day. It could help you feel good about yourself. It could help you feel good about yourself and your colleagues. It could also help you feel good about yourself. It could help you feel good about yourself. It could also help you feel good about yourself. It could also help you to feel good about yourself by helping you to feel good about yourself and help you to feel good about yourself. It could help you feel good about yourself and your work. It could also help you to feel good about your work more easily. It could help you to take time to work out and exercise, which could help you feel good about yourself. It could\n",
      "########\n",
      "*******\n",
      "question: What country has the carpathians and is the furthest in the direction of the side that won the U.S. Civil War?\n",
      "answer: poland\n",
      "choices: ['slovakia', 'slovenia', 'poland', 'ukraine', 'romania']\n",
      "common expl list: ['Poland is the only country that has the carpathian mountains, and it was the most distant in the direction from the side that won the U.S. Civil War (the North).']\n"
     ]
    },
    {
     "name": "stderr",
     "output_type": "stream",
     "text": [
      "\r",
      " 11%|█████████████████▋                                                                                                                                              | 109/986 [2:46:33<11:31:42, 47.32s/it]"
     ]
    },
    {
     "name": "stdout",
     "output_type": "stream",
     "text": [
      "generated explanation: <pad> <extra_id_0> The poland is the country that won the Civil War. The carpathians are located in the southern hemisphere of the world, where the country is located in the middle of the Atlantic Ocean. The carpathians are located in the southern hemisphere, which is the gateway to the Atlantic Ocean. The carpathians are located in the southern part of the country, which is the southern part of the world. The carpathians are located in the eastern part of the country, which is located in the southern part of the country. The carpathians are located in the southern part of the country, which is the largest of the country, the southern part of the country, the southern part of the country, and the southern part of the country, the southern part is the southern part of the country, the southern part of the country, the southern part of the country, which is the southern part of the country, the southern part of the country, and the southern part of the country, the</s>\n",
      "########\n",
      "*******\n",
      "question: What would happen if you want to win a game?\n",
      "answer: competitiveness\n",
      "choices: ['competitiveness', 'satisfaction', 'learning', 'injuries', 'play']\n",
      "common expl list: ['Competitive athletes would want to win their games, whatever the cost; this desire to win leads to competitiveness and creates the desire to win over even long periods of time; it also often leads to brutal physical play --- such as by causing injuries to opposing r', 'To win a game, you must be competitive.', 'After playing a game, a person would be likely compelled to win the game becasue they want a feeling of satisfaction from winning the game. In order to win, a person would need to be competitive.', 'If you want to win a game, you will try put your best effort to take your chances at winning over those of your opponents.', \"Victory in a game requires one to make a maximum effort, and peoples' desire to win has to be rather competitive.\"]\n"
     ]
    },
    {
     "name": "stderr",
     "output_type": "stream",
     "text": [
      "\r",
      " 11%|█████████████████▉                                                                                                                                               | 110/986 [2:46:34<8:11:20, 33.65s/it]"
     ]
    },
    {
     "name": "stdout",
     "output_type": "stream",
     "text": [
      "generated explanation: <pad> <extra_id_0> If you want to win a game, you have to be competitive to win. Competitiveness is a form of competition that is often tempered by a sense of urgency, and it is a way to win a game. It is also a way to increase your chances of winning a game. It is a great way to increase your chances of winning a game. It is also a great way to build a competitive advantage. It is also a great way to increase your chances of winning a game.</s>\n",
      "########\n",
      "*******\n",
      "question: Where should watch to avoid being pinched by a crab?\n",
      "answer: sandy beach\n",
      "choices: ['eastern coast', 'sandy beach', 'fish market', 'north carolina', 'sand dunes']\n",
      "common expl list: ['It is more common to find crabs living in sandy beach areas.', 'Crabs live in sandy areas, and people who visit sandy beaches are likely to be pinched by crabs.']\n"
     ]
    },
    {
     "name": "stderr",
     "output_type": "stream",
     "text": [
      "\r",
      " 11%|██████████████████                                                                                                                                              | 111/986 [2:47:48<11:05:53, 45.66s/it]"
     ]
    },
    {
     "name": "stdout",
     "output_type": "stream",
     "text": [
      "generated explanation: <pad> <extra_id_0> A sandy beach is a great place to keep a watchful eye on crabs. They can be easily caught on a sandy beach, a sandy beach or a beachfront. A crab is a crab that can bite you in the face and make you feel like you are being pushed by a rock. This is because the crabs can be caught on a sandy beach and are able to swim in the water. They can also be caught on a beach at a sandy beach. They can also be caught on a sandy beach. They can also be caught on a sandy beach. Beaches are also good for swimming. Beaches are also good for swimming and swimming in the water. They can also be dangerous for a variety of other animals. Beaches are also able to catch crabs that can be dangerous. a sandy beach is a sandy beach and can be dangerous to swim in the water. They can also be a beach. A sandy beach is a good choice for those crabs that aren't be able to catch crabs that are able to catch crabs that aren't catching crabs that aren't catching crabs can catch crabs that aren't catch crabs that are caught on sandy beaches are also able to catch crabs that aren't catching crabs can be dangerous to swimmers. They can catch crabs can catch crabs that can catch crabs that can catch crabs that can catch crabs that can catch crabs that can catch crabs that can be caught on land land. They can be caught on land. They can be caught on land. They can catch crabs that can catch crabs that can be caught on a sandy beaches that are caught on a sandy beach. They can also catch crabs that are caught on a sandy beaches that are able to catch crabs that can be caught on a sandy beach can be caught on a sandy beaches that are caught on a sandy beach. The crabs can be caught on a sandy beaches are also caught on a sandy beach. They can catch crabs that can be caught on a sandy beach, and they can catch crabs that can be caught on a sandy beach. They can also catch crabs that can catch crabs that can be caught on a sandy beaches. They can be caught on\n",
      "########\n",
      "*******\n",
      "question: What is a large group of human beings?\n",
      "answer: civilisation\n",
      "choices: ['an infestation', 'civilisation', 'homes', 'graveyard', 'spacecraft']\n",
      "common expl list: ['Civilisation is generally used to refer to large populations of humans living together in a single area, responding to collective needs.']\n"
     ]
    },
    {
     "name": "stderr",
     "output_type": "stream",
     "text": [
      "\r",
      " 11%|██████████████████▏                                                                                                                                             | 112/986 [2:48:32<10:58:25, 45.20s/it]"
     ]
    },
    {
     "name": "stdout",
     "output_type": "stream",
     "text": [
      "generated explanation: <pad> <extra_id_0> A large group of human beings is a large group of people that are a large group of people. This group is usually composed of individuals, often called civilisations, or civilised groups. This group of people is referred to as a large group of people. This group of people is called civilisation because it is a large group of people. This group is called a large civilisation, and is a large group of people who are able to adapt to the changing circumstances of society. This group is called civilisation is a large group of people who are also able to adapt to the changes in society. This group of people is called a large group of people who are able to adapt to the changes in the society. This group of peoples, and is a large group of people who are able to adapt to change the world. This group of people who are able to adapt to the changes in the world. This group of people who are able to adapt to change in the changing social and cultural changes. This group of people, and is a large group of people, and is a large group of people, and is a large group of people, and is able to adapt to change in the world, and is able to adapt to change in the world, and is able to change in the world, and thus, and is able to adapt to change in the world, and is able to change in the world, and change in the world, and change in the world, and change in the world, and change the world, and change</s>\n",
      "########\n",
      "*******\n",
      "question: What  is likely to happen to ice in the sun?\n",
      "answer: become water\n",
      "choices: ['cool water', 'cool drink', 'cool off', 'nothing', 'become water']\n",
      "common expl list: ['When ice is exposed to the sun, it melts, becoming water.', 'because hot melts cold, ice will melt if kept in the sun.']\n"
     ]
    },
    {
     "name": "stderr",
     "output_type": "stream",
     "text": [
      "\r",
      " 11%|██████████████████▍                                                                                                                                              | 113/986 [2:48:34<7:48:50, 32.22s/it]"
     ]
    },
    {
     "name": "stdout",
     "output_type": "stream",
     "text": [
      "generated explanation: <pad> <extra_id_0> Ice will become water in the sun and melt in the sun. In the sun, ice will be able to melt and melt into ice, which will be able to melt into ice in the sun. In the sun, ice will be able to melt into the atmosphere, which will then melt into ice. The sun will also be able to melt the ice, which will then melt into the ice. The sun will also be able to melt the ice in the sun, which will melt into ice in the sun.</s>\n",
      "########\n",
      "*******\n",
      "question: Where can travellers pull off the road to stretch their legs?\n",
      "answer: rest area\n",
      "choices: ['rest area', 'airport', 'train station', 'come home', 'bus depot']\n",
      "common expl list: ['Rest areas generally allow travelers to spend time away from the roads, which are generally connecting points to large cities and particular highway names.', 'Rest areas are places where people can pull off the road to stretch their legs, and they are often located near gas stations, which are frequented by travellers.', 'Rest areas are publicly provided spaces for drivers to get out of their cars for a break. Train stations, bus depots, come home, and airports are all places where one might catch a bus, train, taxi, or plane, or have arrived']\n"
     ]
    },
    {
     "name": "stderr",
     "output_type": "stream",
     "text": [
      "\r",
      " 12%|██████████████████▌                                                                                                                                              | 114/986 [2:48:47<6:22:49, 26.34s/it]"
     ]
    },
    {
     "name": "stdout",
     "output_type": "stream",
     "text": [
      "generated explanation: <pad> <extra_id_0> Rest areas are used to stretch legs. Stretching is a great way to stretch legs. Stretching is a great way to stretch your legs and help prevent injury to your back. It is also a great way to increase your speed and reduce your stress. It is also a great way to stretch your legs. It is also a great way to help reduce stress and stress levels. It also allows travellers to stretch their legs and improve their posture. It is also a great way to help reduce stress and fatigue. It is a rest area is a great way to stretch your legs and get some exercise and improve mobility. It is also a great way to increase your speed and improve their mobility. It is also a great way to help reduce stress and stress. It is also a great way to stretch your legs. This is also a great way to stretch your legs and get around the road and get around the area as it helps to keep you moving. It is also a great way to stretch your legs and get back to the road. It is also a great way to get back to your body. It is a great way to stretch your legs and get back to the road to get back to your body. During the day, you can also use a stretch your legs and get back to the car.</s>\n",
      "########\n",
      "*******\n",
      "question: A poor family has no decorations in December, what would make a great gift?\n",
      "answer: christmas tree\n",
      "choices: ['food', 'specialty store', 'christmas tree', 'department store', 'christmas stocking']\n",
      "common expl list: ['In December, most families tend to put up christmas decorations. A christmas tree would make a good gift for a poor family.', 'A christmas tree is a traditional decoration for christmas.', 'The family is poor, so we might assume that they have nothing for decoration for their Christmas season. To help fix this, a Christmas tree would be the greatest gift.']\n"
     ]
    },
    {
     "name": "stderr",
     "output_type": "stream",
     "text": [
      "\r",
      " 12%|██████████████████▋                                                                                                                                             | 115/986 [2:50:11<10:34:36, 43.72s/it]"
     ]
    },
    {
     "name": "stdout",
     "output_type": "stream",
     "text": [
      "generated explanation: <pad> <extra_id_0> A poor family has no decorations in December. A Christmas tree is a great gift for a poor family. It can be a great way to give a gift to a poor family. It can be a great way to give a gift to a poor family. It can be a gift to a poor family who has no money to buy a Christmas tree. It can be a great way to give a Christmas gift to a poor family. It can be a great way to give a Christmas gift of a tree can be a family can be a Christmas tree. It can be a Christmas tree can be a gift to a poor family who has no decorations for their holiday spirit. It can be a Christmas tree can be a good Christmas tree can be a good Christmas gift to a poor family. Christmas tree can also be a Christmas gift to a family member who is a Christmas gift to a family. It can be a Christmas tree to give a gift to give to a family. It can also be a good gift for a family. Christmas tree for a gift for a poor family. It can also be a gift for a family. It can be a good gift for a family. It can also be a gift for a family to buy a Christmas tree for a family to give a Christmas gift for a family. Christmas gift for a gift for a loved one to give a loved one to give a friend or a friend or a loved one to give a Christmas gift for a loved one. It can be a gift of a Christmas tree, a gift for a friend or a friend or a friend. a gift for a friend or loved ones to give a loved one a friend or a loved one to give a friend or a friend or a loved one to give a friend or family to give a gift. Christmas tree or a friend or a friend. A christmas tree can be a gift. A christmas tree can be a gift that can be a friend or a friend or a friend. A christmas tree can be a gift that can be a Christmas tree can be a friend. A tree can be a gift that is a gift of a loved one\n",
      "########\n",
      "*******\n",
      "question: Where would you buy jeans in a place with a large number of indoor merchants?\n",
      "answer: shopping mall\n",
      "choices: ['shopping mall', 'laundromat', 'hospital', 'clothing store', 'thrift store']\n",
      "common expl list: ['Since malls (or indoor shopping centers in general) contain numerous merchants, including clothing stores, you could purchase jeans in one such store.', 'Shopping malls often have a large number of stores, including clothing stores.', 'Shopping malls usually contain a large variety of stores, including stores that sell clothes and jeans.']\n"
     ]
    },
    {
     "name": "stderr",
     "output_type": "stream",
     "text": [
      "\r",
      " 12%|██████████████████▉                                                                                                                                              | 116/986 [2:50:16<7:46:10, 32.15s/it]"
     ]
    },
    {
     "name": "stdout",
     "output_type": "stream",
     "text": [
      "generated explanation: <pad> <extra_id_0> A shopping mall is a place where people can buy jeans, shoes, and other items. They are usually located in a mall, which is a great place to buy clothes and other items. Also, shopping malls are a great place to buy clothing and other items. Also, shopping malls are a great place to buy clothing and other items. Shopping malls are also great places to buy clothes and other items. They are also a great place to buy clothes and other items. Shopping malls are usually located in a shopping mall, which means that people can shop at a mall, and they are located inside a mall. Shopping mall is a great place to buy clothes and other items. Shopping mall is a great place to buy clothes and other items, such as shoes, and shopping malls, and other items, such as a shopping malls, and other items.</s>\n",
      "########\n",
      "*******\n",
      "question: If I wanted to get some oxygen, what will I get it from?\n",
      "answer: air\n",
      "choices: ['the sky', 'air', 'earth', 'space shuttle', 'water']\n",
      "common expl list: ['Oxygen is found in the air.']\n"
     ]
    },
    {
     "name": "stderr",
     "output_type": "stream",
     "text": [
      "\r",
      " 12%|███████████████████                                                                                                                                              | 117/986 [2:50:16<5:26:51, 22.57s/it]"
     ]
    },
    {
     "name": "stdout",
     "output_type": "stream",
     "text": [
      "generated explanation: <pad> <extra_id_0> If I wanted to get some oxygen, what will I get?</s>\n",
      "########\n",
      "*******\n",
      "question: What happens after having food too much?\n",
      "answer: getting fat\n",
      "choices: ['being full', 'laziness', 'weight gain', 'getting fat', 'will not starve']\n",
      "common expl list: ['Eating too much food causes one to gain weight, and thus become fat.', 'Eating too much food causes one to become obese.', 'People will become fat, and even obese from eating too much food.']\n"
     ]
    },
    {
     "name": "stderr",
     "output_type": "stream",
     "text": [
      "\r",
      " 12%|███████████████████▎                                                                                                                                             | 118/986 [2:50:26<4:30:21, 18.69s/it]"
     ]
    },
    {
     "name": "stdout",
     "output_type": "stream",
     "text": [
      "generated explanation: <pad> <extra_id_0> After eating too much, you are likely to get fat. You are likely to get fat if you have too much food. This is because food is a healthy and nutritious way to get your body fat. Also, it is important to be careful when eating too much. It is also important to avoid eating too much food. It is also important to avoid eating foods that are too high in fat. Also, eating too much food can be harmful to your health. This can lead to fat. Fat is a sign of being overweight. It is also a healthy lifestyle. This is a risk of getting fat. It can cause you to feel full after having too much food is a good source of fat. It can lead to a healthy, nutritious food that is a good way to reduce the risk of getting fat loss. It can also lead to a healthy weight loss. This can also lead to fat. Also, it can also lead to fat. This can lead to a person to get fat. This can lead to fat.</s>\n",
      "########\n",
      "*******\n",
      "question: It was the first time they had met their new niece, it was good to have everybody together at the annual what?\n",
      "answer: family reunion\n",
      "choices: [\"brother's house\", 'family picture book', 'family tree', 'family reunion', 'book']\n",
      "common expl list: ['A family reunion is called a family reunion because this is where all of the family members gather for the re-union.']\n"
     ]
    },
    {
     "name": "stderr",
     "output_type": "stream",
     "text": [
      "\r",
      " 12%|███████████████████▍                                                                                                                                             | 119/986 [2:51:19<6:57:32, 28.90s/it]"
     ]
    },
    {
     "name": "stdout",
     "output_type": "stream",
     "text": [
      "generated explanation: <pad> <extra_id_0> The family reunion was a great way to celebrate a special occasion. It was good to have everyone together at the annual family reunion. It was also good to have everyone together at the annual reunion. It was good to have everyone together at the annual family reunion. It was a great way to have everyone together. It was good to have everyone together at the annual family reunion. It was a great way to celebrate the birth of a new family member and to celebrate with them. It was also good to have everyone back at the reunion. It was also good to see their new niece and family reunion, and to meet their new nieces were welcomed. It was also good to see their new nieces and nephews and their new nieces and her new family reunion. It was a great way to celebrate the reunion. It was a great way to celebrate their new nieces and her new nieces and nephews alike, and to have a great time. It was good to see them together at the annual reunion. It was a great time to have a great way to celebrate their new nieces and her new family reunion. It was a great way to see them. The reunion was a great way to share their memories and to share their memories. It was good to see their new nieces and nephews. It was good to see them all. It was good to see their new nieces and nephews and nephews and their new nieces and nephews and their new family reunion. It was good to see each year the family reunion. It was good to have everyone together at the annual gatherings and to share their new nieces and nephews and their new nieces and their new friendships and to share their new nieces and nephews and their new family members and to see each year.</s>\n",
      "########\n",
      "*******\n",
      "question: If you're expressing yourself in a public forum, what may you experience?\n",
      "answer: stage fright\n",
      "choices: ['danger', 'embarrassment', 'stage fright', 'getting arrested', 'blank stares']\n",
      "common expl list: ['Stage fright is the feeling of embarrassment or nervousness at the thought of being in front of people, and being on stage for a performance is a good example of a place where one often experiences stage fright. In such a case, their performance might be', 'If you are expressing yourself in a public forum, you may experience stage fright, which is the fear of being embarrassed in front of a large audience.', 'A common example of expressing oneself in public is on stage. Members of an audience may stare and become bored, and at worst they may hiss or boo.']\n"
     ]
    },
    {
     "name": "stderr",
     "output_type": "stream",
     "text": [
      "\r",
      " 12%|███████████████████▌                                                                                                                                             | 120/986 [2:51:31<5:45:44, 23.95s/it]"
     ]
    },
    {
     "name": "stdout",
     "output_type": "stream",
     "text": [
      "generated explanation: <pad> <extra_id_0> If you're expressing yourself in a public forum, what may you experience? If you're expressing yourself in a public forum, what may you experience? Stage fright is a common symptom of stage fright. It is a form of stage fright that can cause serious harm to others. Also, it can cause damage to the audience. Stage fright is a form of fright that can cause a person to lose their ability to express themselves in a public forum. Stage fright can be very serious and can cause stage fright, stage fright, stage fright, and stage fright, stage fright can cause stage fright, stage fright, stage fright, stage fright that can cause serious harm to others who are expressing themselves in a public forum, and stage fright that can cause a person to lose their ability to express themselves in a public forum, and stage fright, stage fright, and stage </s>\n",
      "########\n",
      "*******\n",
      "question: He was eating too much while no exercising enough, what did he suffer as a result?\n",
      "answer: gain weight\n",
      "choices: ['hungry', 'gas', 'obesity', 'gain weight', 'feeling full']\n",
      "common expl list: ['Excessive food consumption leads to accumulation of fat, which then results in a higher body weight, i.e., weight gain.', \"If you eat too much and don't exercise enough, you will gain weight.\", 'If you eat more than you burn, you gain weight.']\n"
     ]
    },
    {
     "name": "stderr",
     "output_type": "stream",
     "text": [
      "\r",
      " 12%|███████████████████▊                                                                                                                                             | 121/986 [2:51:33<4:11:36, 17.45s/it]"
     ]
    },
    {
     "name": "stdout",
     "output_type": "stream",
     "text": [
      "generated explanation: <pad> <extra_id_0> He was eating too much while no exercise enough, and no weight loss was a result. He was also gaining weight because he was not exercising enough. He was eating too much and exercising too much, and he gained weight because he was not exercising enough. He gained weight because he was eating too much and did not exercise enough. He gained weight because he was not exercising enough. He gained weight because he was eating too much and no exercising enough. He gained weight because he was eating too much and exercising too much weight. Gain weight gain was gaining weight as a result. Gain weight gain was a result of this weight gain was a result of his weight gain.</s>\n",
      "########\n",
      "*******\n",
      "question: Randy was not doing housework.   His wife was raising two children, and this only increased her workload. It put her under a lot of stress.  What might this lead to?\n",
      "answer: arguments\n",
      "choices: ['asthma', 'more', 'boredom', 'headache', 'arguments']\n",
      "common expl list: ['Stress is often related to family life. Being under stress, the wife might verbally lash out at her husband, which could potentially lead to arguments']\n"
     ]
    },
    {
     "name": "stderr",
     "output_type": "stream",
     "text": [
      "\r",
      " 12%|███████████████████▉                                                                                                                                             | 122/986 [2:52:39<7:40:19, 31.97s/it]"
     ]
    },
    {
     "name": "stdout",
     "output_type": "stream",
     "text": [
      "generated explanation: <pad> <extra_id_0> Randy was not doing housework. It increased her workload. It increased her stress levels, which increased her stress levels. This increased stress levels were lowered by the day. Randy was also reducing her stress levels by taking on more chores, which was causing him to feel overwhelmed. This increased stress was due to the fact that she was not doing housework. It also increased her workload. This increased stress levels were also increasing. This increased stress levels. This increased stress levels were due to the fact that Randy was not doing housework. This increased stress levels were also leading to increased stress levels were also contributing factors that could lead to stress. This could be a reduction in the workload. This could also increase the stress level of stress. The stress level was also increasing. This increased stress levels were also increasing the stress level of the stress of the stress levels of stress. This increased stress levels of stress. The stress levels were a lot higher than the stress level of Randy's wife was also raising two children. This was a significant stress. The stress level was also increasing the stress level of stress was increased stress was also increased the stress of raising two children were the stress levels were also increasing. Adding stress could lead to stress levels. This increased stress levels were also increasing the stress levels were increased stress levels. The stress levels were increased stress levels were also increased. The stress levels were also increased, and it could lead to stress levels were also likely to increase. This increased stress levels were also increased stress levels were also increased stress levels were also increased stress levels were increasing stress levels were increased stress levels increased. This increased stress levels were higher than it was to be expected to increase stress levels. This increased stress levels were also increased. This increased stress levels were also increased due to the increased stress levels were also increased because it was also increased because it was a big change in lifestyle choices were also increasing. This increased stress levels were also increased, and it could lead to increased stress. This increased stress. This increased stress levels were increasing. This increased stress levels increased because it increased the workload of Randy was also increasing her workload. This increased stress levels were higher than it was also increased the stress of having to work more often a lot worse. It was also a risk of stress levels were higher. It also increased the workload of Randy's workload. This increased stress levels were also increased stress levels and stress levels. This could lead to stress and stress. This could lead to stress-\n",
      "########\n",
      "*******\n",
      "question: Where can you learn about a ferret with special abilities far beyond normal ferrets?\n",
      "answer: comic book\n",
      "choices: ['comic book', 'out of doors', 'great britain', 'redwall', 'north carolina']\n",
      "common expl list: ['ferrets are lovable pets that occasionally pop up in comic or animated shows and movies. Occasionally a ferret is rodent, but more often they are the companion of a hero.']\n"
     ]
    },
    {
     "name": "stderr",
     "output_type": "stream",
     "text": [
      "\r",
      " 12%|████████████████████                                                                                                                                             | 123/986 [2:53:08<7:25:30, 30.97s/it]"
     ]
    },
    {
     "name": "stdout",
     "output_type": "stream",
     "text": [
      "generated explanation: <pad> <extra_id_0> A ferret with special abilities far beyond normal ferrets is a special breed of ferret with special abilities. Fertiles are often found in comic books, but they are often found in other animals, such as pigs, foxes, and wolves. They are often found in comic books, such as comic books, and are often accompanied by a comic book. They are also often accompanied by a comic book. They are also often found in comic books, comic books, and other media, and other types of animal. They are also found in comics, comics, and other animal. They are also found in comics, and other animal. They are also often found in the comics. They are also often found in the comic books, comics, and other special abilities. They are often accompanied by special abilities. They are often found in comic books, comics, and other materials that are often found in comic books, such as comics, and other books that are often found in the comics, comic books, comic books, comics, and other materials. They are also often found in the comics, and are often found in the comics, and are often found in comic books that are also available in comic books that are often found in comics that are often found in comics that are often found in comics that are also available in</s>\n",
      "########\n",
      "*******\n",
      "question: When people have guests over, what do they often do for their guests?\n",
      "answer: cook food\n",
      "choices: ['talk to each other', 'learn from each other', 'demand justice', 'cook food', 'share food']\n",
      "common expl list: [\"It's common to cook food for guests, which can feed everyone.\", 'People often cook food for their guests.', \"People who have guests (guests of any kind) over tend to cook them food. The food can either be pre-cooked, and ready to be served upon the guest's arrival, or consumed while the two of them have a conversation.\", \"When people have guests over, it's common for them to make food for their guests.\", \"People often prepare and share food because it's a way to welcome and appreciate each other.\"]\n"
     ]
    },
    {
     "name": "stderr",
     "output_type": "stream",
     "text": [
      "\r",
      " 13%|████████████████████▏                                                                                                                                            | 124/986 [2:53:25<6:26:46, 26.92s/it]"
     ]
    },
    {
     "name": "stdout",
     "output_type": "stream",
     "text": [
      "generated explanation: <pad> <extra_id_0> When people have guests over, they often cook food for their guests. This is because guests are often invited to eat food that is prepared and served by the host. The hostess is usually a cook and serves food that is prepared by the host to their guests. This is because the host is a cook and serves the guest food and beverages they are prepared with. Cook food and beverages that are a part of the meal. Cooking food and beverages are a popular way to serve your guests. This is because guests are often a great way of preparing food and beverages for them to eat it for their guests in a large group, so they can enjoy. The hostes are often a large variety of food and beverages. This is because the guest is a great way to prepare food and drink that is a great way to serve their guests. Also, guests can also bring a large selection of dishes that are prepared for them to share. This allows them to serve their guests. It is also a great way to serve their guests a great way to serve their guests. This is a great way to serve their guests.</s>\n",
      "########\n",
      "*******\n",
      "question: Talking to someone is pointless if they're doing what?\n",
      "answer: not listening\n",
      "choices: ['dry mouth', 'whispering', 'being heard', 'eye contact', 'not listening']\n",
      "common expl list: ['To be engaged in a conversation--particularly a one-on-one conversation, both people must be listening attentively.', 'People who are not listening to you will obviously not be able to understand your communication.']\n"
     ]
    },
    {
     "name": "stderr",
     "output_type": "stream",
     "text": [
      "\r",
      " 13%|████████████████████▍                                                                                                                                            | 125/986 [2:53:49<6:10:06, 25.79s/it]"
     ]
    },
    {
     "name": "stdout",
     "output_type": "stream",
     "text": [
      "generated explanation: <pad> <extra_id_0> When someone is not listening, they are doing something that is not their own. They are doing something that isn't listening to them. They are listening to them and are doing something that is not their own. They are doing something that isn't theirs. They are not listening to them or listening to them. They are not listening to them or listening to them. They are not listening to them or listening to them. They are not listening to them or listening to them. They are listening to them and not listening to them. They are not listening to them, and they are not listening to them. They are listening to them, not listening to them, and not listening to them. They are not listening is a way to help them. They are listening to them. They are not listening to them, they are not listening to them. They are listening to them. They are not listening to them. They are not listening to them. They are not listening is not listening is not listening is not listening is not listening is not listening is not listening is not listening is not listening is not listening is not listening is a way to help them to listen to them. They are listening is not listening is not listening is a way to help them. They are not listening is not listening is not listening is not listening is not listening is not listening is not listening is not listening is not listening is not listening is not listening is not listening is simply listening is a way to listen is to listening is to listen to their own listening is not listening is listening is to listening is to be heard.</s>\n",
      "########\n",
      "*******\n",
      "question: If you are enjoying sunshine on the beach, what do you likely have views of?\n",
      "answer: sea\n",
      "choices: ['windowsill', 'sunbathers', 'disneyland', 'sea', 'summer']\n",
      "common expl list: ['Seashores usually have views of the water (i.e., the \"sea\").', \"The beach is a place where people go to enjoy the sun, and so it's likely that the beach would have views of the sea.\", 'To sunbathe, one would likely be found on a beach, where one would likely see the sea before anything else.']\n"
     ]
    },
    {
     "name": "stderr",
     "output_type": "stream",
     "text": [
      "\r",
      " 13%|████████████████████▌                                                                                                                                            | 126/986 [2:53:49<4:20:01, 18.14s/it]"
     ]
    },
    {
     "name": "stdout",
     "output_type": "stream",
     "text": [
      "generated explanation: <pad> <extra_id_0> If you are enjoying sunshine on the beach, what do you likely have views of on the beach?</s>\n",
      "########\n",
      "*******\n",
      "question: What does an actor do while acting?\n",
      "answer: pretend\n",
      "choices: ['branch out', 'eat curry', 'wear costume', 'pretend', 'sing songs']\n",
      "common expl list: ['Actors pretend certain things. While acting, they might pretend to be in a different location by going somewhere close to a stage feed. Actors might also pretend to possess particular materials while on stage by carrying props.']\n"
     ]
    },
    {
     "name": "stderr",
     "output_type": "stream",
     "text": [
      "\r",
      " 13%|████████████████████▋                                                                                                                                            | 127/986 [2:54:09<4:26:48, 18.64s/it]"
     ]
    },
    {
     "name": "stdout",
     "output_type": "stream",
     "text": [
      "generated explanation: <pad> <extra_id_0> An actor who plays while acting is usually accompanied by a recognizable face, a mask, or a mask. The mask is usually worn by a costume or a suit, and the actor is usually wearing a mask, a mask, or a mask. The actor is also often asked to perform as a guest. The actor is also asked to perform as a guest. The actor also has to be able to perform as a guest. The actor is also asked to perform as a guest. The actor must also be able to perform as a role while acting. The actor must also have a role. The actor is also asked to perform as a guest while acting. The actor is asked to perform a variety of roles, including acting while acting, and the actor must also be able to perform as a variety of different kinds of pretend pretend. The actor must also be able to perform a variety of other roles, such as a variety of roles, such as a variety of roles that are a variety of roles that are often a variety of roles, such as a variety of roles that are able to perform a variety of roles that are not necessarily a variety of roles that are not necessarily</s>\n",
      "########\n",
      "*******\n",
      "question: Where is a ring binder likely to contain budgets?\n",
      "answer: office\n",
      "choices: ['office', 'notebook', 'school', 'stationary shop', 'desk']\n",
      "common expl list: ['A ring binder is likely to contain budgets in an office, as budgets are often prepared by office workers.', 'An office setting is the most likely place where a manager would keep a collection of budgets.']\n"
     ]
    },
    {
     "name": "stderr",
     "output_type": "stream",
     "text": [
      "\r",
      " 13%|████████████████████▉                                                                                                                                            | 128/986 [2:55:37<9:25:50, 39.57s/it]"
     ]
    },
    {
     "name": "stdout",
     "output_type": "stream",
     "text": [
      "generated explanation: <pad> <extra_id_0> A ring binder is a great way to store budgets. It is a great way to organize your work in one place, and it can be used to store your work. It can also be used to store your budgets in a variety of places. It can also be used to store your office budgets. It can also be used to store your budgets in a variety of ways. It can also be used to store your budgets in a ring binder. It can also be used to store your receipts and budgets in a ring binder is a ring binder is used to store your receipts and other documents. a ring binder is also used to store your budgets in a variety of different types of documents. It can also be used to store your budgets in a ring binder can be used to store your budgets in a ring binder to store your receipts in a ring binder to keep track of your receipts and other documents. Besides, it can be used to keep track of your work and track your work. It can also be used to track your work. This a ring to track the budgets and track your employees’ progress. It can also be used to track the employees’ progress. It can also be used to track the number of documents, such as a metric and metric and metric and metric and metric and metric and metric and metric and metric and metric and metric data, and to track the budgets. It can also be used to track the number of documents, and to track the budgets. This is to ensure that the office budgets. This is to ensure that the office can be used to track the budgets for the office to keep track of the budgets in a metric or metric and metric formats, such as a metric units, and to track the number of items. The office can also be used to track the number of items that are used to track the amount of money that are used to track the amount of money that are used to track the amount of money that are used to track the amount of money that are used to track the budgets. The ring binder is a metric information to track the budgets, and the budgets, and the budgeting. The ring binder is a\n",
      "########\n",
      "*******\n",
      "question: Where do you go when you're about to board a vehicle on railing?\n",
      "answer: railway station\n",
      "choices: ['railway station', 'deck', 'flight of stairs', 'porch', 'bus station']\n",
      "common expl list: ['Railway stations are where you board trains, which are often on rails.', 'Trains and busses both commonly make use of rail transportation to facilitate their travel. Railway station is the station they are staking out to board at. Thus, railway station is where you would go if you need to board a vehicle on a']\n"
     ]
    },
    {
     "name": "stderr",
     "output_type": "stream",
     "text": [
      "\r",
      " 13%|█████████████████████                                                                                                                                            | 129/986 [2:55:51<7:34:32, 31.82s/it]"
     ]
    },
    {
     "name": "stdout",
     "output_type": "stream",
     "text": [
      "generated explanation: <pad> <extra_id_0> When you're about to board a vehicle on a railing, you're about to board a vehicle on a railing. Railway stations are a popular place to get around, but they are also a great way to get to know the passengers better. Trains are a great way to get around, and they are a great way to get to know the people better. Railway stations are also a great place to get to know the people better. Train stations are a popular way to get to know the people better. Railway stations are a good idea of what you'll be on railing, and they're going to board a railing can be a great way to get to know each other better. It's a good idea to know each other better way to know each other better for those who are more comfortable to board a railing can be a good way to board a railing is a good way to board a railing is a good way to board a vehicle and the people who are</s>\n",
      "########\n",
      "*******\n",
      "question: Where can I go to see a really big toy balloon floating at the top of a dome?\n",
      "answer: circus\n",
      "choices: ['parade', 'circus', 'amusement park', 'birthday party', 'magic show']\n",
      "common expl list: ['Circuses often have big inflatables on the top dome of a tent; inside, they could house various attractions such as clowns, acts, games, rides, food, drinks, etc.']\n"
     ]
    },
    {
     "name": "stderr",
     "output_type": "stream",
     "text": [
      "\r",
      " 13%|█████████████████████                                                                                                                                           | 130/986 [2:57:09<10:50:54, 45.62s/it]"
     ]
    },
    {
     "name": "stdout",
     "output_type": "stream",
     "text": [
      "generated explanation: <pad> <extra_id_0> A circus is a circus where children can enjoy a toy balloon at the top of a dome. A circus is a circus that is a circus that is a circus that is based on circus and circus arts. It is a circus that is based on circus arts and culture and is based on circus arts and culture. It is a circus that combines circus arts with circus arts and culture. It is a circus that is based on circus arts and culture. It is a circus that is a circus in the United States, where children can enjoy a toy balloon in a circus in a circus in the United States. It is a circus in the United States, and it is based on circuses, and circuses, and it is a circus in the United States. It is a circus in the United States. It is a circus in the United States, and it is a circus in the United States, and it is a circus in the United Kingdom, and it is a circus in the United States, and it is a circus in the United States, and it is a circus in the United States, and it is a circus in the United States, and it is not a circus in the United States, and it is not a circus in the United States, and it is a circus in the US. The circus in the United States. The circus in the United States of America, the United States of America, it is the United States of America, and it is the United States. The circus in the United States, is the only one of the United States. The circus is the largest circus is the largest in the United States. The circus is also a circus is the largest in the United States. The circus is a circus is a circus is a circus is a circus is a circus is a circus is a circus is a circus is a circus is a circus is a circus is a circus is a circus is a circus is a circus is a circus is a circus is a circus is a circus is a circus is a circus is a circus is a circus is a circus is a circus is a circus is a circus is a circus is</s>\n",
      "########\n",
      "*******\n",
      "question: They got to the door and it was locked, he reached in his jeans what to retrieve the key?\n",
      "answer: pocket\n",
      "choices: ['pocket', 'bus depot', 'lock', 'purse', 'front door']\n",
      "common expl list: ['People often keep their keys in their pockets.', 'Most people keep house keys in their pocket.']\n"
     ]
    },
    {
     "name": "stderr",
     "output_type": "stream",
     "text": [
      "\r",
      " 13%|█████████████████████▎                                                                                                                                          | 131/986 [2:58:31<13:27:01, 56.63s/it]"
     ]
    },
    {
     "name": "stdout",
     "output_type": "stream",
     "text": [
      "generated explanation: <pad> <extra_id_0> The key was locked and the pair reached in their jeans to retrieve it. The key was found in the pocket of their jeans and it was locked to the door. The key was found in the pocket and the key was found in the pocket of the jeans. The key was found in the pocket and it was locked. The key was found in the pocket of the jeans and it was locked. The key was in the pocket to retrieve the key. The key was found in the pocket and the pair reached in their jeans to reach in and reached in their jeans to retrieve the key to the door and was locked, and the key was locked in the pocket. The key was in the pocket, and it was locked, the key was in the pocket. The key was in the pocket. The key was in the pocket. The key was in the key was in the pocket and the key was in the pocket and it was in the pocket. The key was in the pocket, the key was in the pocket to retrieve the key. The key was in the pocket to retrieve the key. The key was in the pocket to retrieve the key. The key was in the pocket and it was locked. The key was locked. The key was in the pocket and the key was in the pocket was retrieved and the key was in the pocket and the key was in the pocket and the key was in the pocket and it was in the pocket and the key was in the pocket. The key was in the pocket was a pocket and the key was in the pocket to retrieve it was in the pocket to retrieve it. the key was in the pocket to retrieve it was in the pocket to retrieve the key. The key was in the pocket to retrieve the key. The key was in the pocket to retrieve the key. The key was a pocket to retrieve the key was a pocket to retrieve the key. The key was locked door. The key was in the pocket to retrieve the key and the key was in the pocket to retrieve the key to the key. The key was in the pocket to retrieve it. The key was in the pocket to retrieve the key. The key was in the pocket was locked and the key was in the pocket to retrieve the key to retrieve the key. the key was in the pocket to retrieve the key was in the pocket to retrieve the key was in the pocket to retrieve the key was in the pocket to retrieve the key to the door. The key was in the pocket, and the key was in the\n",
      "########\n",
      "*******\n",
      "question: The car was overheating, where was it located?\n",
      "answer: in phoenix\n",
      "choices: ['airport', \"neighbor's house\", 'in phoenix', 'repair shop', 'street corner']\n",
      "common expl list: ['Phoenix is a hot place, and cars often overheat there.']\n"
     ]
    },
    {
     "name": "stderr",
     "output_type": "stream",
     "text": [
      "\r",
      " 13%|█████████████████████▍                                                                                                                                          | 132/986 [2:59:49<14:57:54, 63.08s/it]"
     ]
    },
    {
     "name": "stdout",
     "output_type": "stream",
     "text": [
      "generated explanation: <pad> <extra_id_0> The car was overheating, where was it located? The car was located in phoenix, a city in the southern part of the United States. The car was overheating in the summer of 2008, and the car was overheating in the summer. The car was overheating in phoenix, a city in the southern part of the United States. The car was located in a city called phoenix, a city in the southern part of the United States. The car was overheating in phoenix, a city called phoenix is a city that is located in the southern part of the city that is located in the center of the city. The car was located in the city of phoenix, a city, and it was driving in the center of the city. It was driving in a city that is located in the city, which is located in the city is also overheating in the city. It was also overheating in the city, and it was driving in the city. It was also driving in the city of the city. It was driving in the city. It was driving in the city. It was overheating was a city in the city that was overheating was overheating was a city that was overheating was driving in the city. the car was overheating was driving in the city of phoenix, phoenix, phoenix, phoenix area, which was located in the city because it was overheating because it was overheating was overheating was also overheating was also driving. It was overheating was located in the city of phoenix, phoenix, phoenix, which is the city's location. the city's location is located in the city, and it was located in the city of phoenix, the city of the city's historic city, and it was the city of the city's center. It was overheating was an important to know that it was a hot place. It was also a hot spot for the car was overheating was a hot spot for the car. It was located in the city. It was also overheating was also the city's heart. It was overheating was also a great location. It was overheating\n",
      "########\n",
      "*******\n",
      "question: Where is likely to have a walk in type wardrobe?\n",
      "answer: mansion\n",
      "choices: ['recreational vehicle', 'clothes cupboard', 'house', 'mansion', 'bedroom']\n",
      "common expl list: ['A walk-in wardrobe is a large wardrobe that is usually found in a mansion.', 'A walk in wardrobe is a large type of closet that could be found in a mansion.', 'As I think of scenarios, the result I expect the most is that of a person with a lot of clothes, or a clothing designer, living in a mansion; these people might have the luxury of a walk in wardrobe.']\n"
     ]
    },
    {
     "name": "stderr",
     "output_type": "stream",
     "text": [
      "\r",
      " 13%|█████████████████████▌                                                                                                                                          | 133/986 [3:00:43<14:15:52, 60.20s/it]"
     ]
    },
    {
     "name": "stdout",
     "output_type": "stream",
     "text": [
      "generated explanation: <pad> <extra_id_0> A mansion is a place that is likely to have a walk in wardrobe. It is also a great place to start a new life. It is a great place to start a new life. It is also a great place to start a new career. It is a great place to start a new life. It is a great place to live in a mansion or home. It is also a great place to start a new life. It is also a great place to start a new wardrobe is also a great place to start a new wardrobe in a new wardrobe is a great place to start a mansion is a great place to start a walk in wardrobe is a great place to start a mansion. It is a great place to start a mansion to start a mansion to start a mansion to start a home and to start a mansion to start a mansion to start a mansion to start a mansion to start a mansion to start a mansion to start. Mansion to start a mansion to start with a mansion to start a mansion to start a mansion to start a mansion to start a mansion to start a mansion to start a mansion to start a mansion to start a mansion to start a mansion to start a mansion to start a mansion to start a mansion to start out a mansion to start out a mansion to start a mansion to start out at. The mansion is a mansion is a mansion is a mansion to start a mansion is a mansion to start out in the mansion to start out in the mansion and begin to start out as a mansion to start out the mansion to start out with. This is an ideal place to start out as a mansion to start out in the future. It is a mansion to start out as a mansion to start with. mansion is a mansion is a mansion to start out as a mansion to start out a mansion to open a mansion to open up and open and open and open and open to open to the public. It is a mansion to open to the\n",
      "########\n",
      "*******\n",
      "question: How bad is the punishment for someone who is over indulgent?\n",
      "answer: severe\n",
      "choices: ['severe', 'harsh', 'hard', 'strict', 'self denying']\n",
      "common expl list: ['Overindulgence in anything is bad, possibly leading to lethargy, poor health, overspending, and the like. As a result of this, a punishment for a person who is over-indulgent could be severe.']\n"
     ]
    },
    {
     "name": "stderr",
     "output_type": "stream",
     "text": [
      "\r",
      " 14%|█████████████████████▋                                                                                                                                          | 134/986 [3:01:18<12:31:04, 52.89s/it]"
     ]
    },
    {
     "name": "stdout",
     "output_type": "stream",
     "text": [
      "generated explanation: <pad> <extra_id_0> The punishment for someone who is over indulgent is severe. The punishment is severe enough to justify a person's indulgence. The punishment is severe enough to justify a person's infidelity. The punishment is severe enough to justify a person's indulgence with a severe amount of money. The punishment is severe enough to justify the person's indulgence. The punishment is severe enough to justify a person's over indulgence. The punishment is severe enough to justify a person's indulgence. The punishment is severe enough to justify the indulgence. The punishment is severe enough to justify the punishment. The punishment is severe enough to justify the person's indulgence is a punishment that is not necessary to justify the indulgence. The punishment is severe enough to justify the person's indulgence. The punishment is also necessary to justify the indulgence is a punishment that is a punishment that is a punishment that is not a punishment that is a punishment that is a punishment that is too severe and a punishment that is too severe and a punishment that is severe enough to justify the punishment. The punishment is a punishment that is a punishment that is a punishment that is a punishment that is a punishment that is a punishment that is a punishment that is a punishment that is a punishment that is a punishment that is a punishment that is a punishment that is a punishment that is a punishment that is a punishment that is a punishment that is a punishment that is a punishment that is a punishment that</s>\n",
      "########\n",
      "*******\n",
      "question: She was going to bed at 11 at night, what was she looking to do?\n",
      "answer: falling asleep\n",
      "choices: ['falling asleep', 'relaxing', 'rest', 'dreaming of', 'laziness']\n",
      "common expl list: ['Falling asleep is often a desired result when going to bed.', \"People go to bed when they're tired and want to sleep\"]\n"
     ]
    },
    {
     "name": "stderr",
     "output_type": "stream",
     "text": [
      "\r",
      " 14%|█████████████████████▉                                                                                                                                          | 135/986 [3:01:43<10:28:26, 44.31s/it]"
     ]
    },
    {
     "name": "stdout",
     "output_type": "stream",
     "text": [
      "generated explanation: <pad> <extra_id_0> She was going to bed at 11 at night, and she was going to sleep at 11 at night. She was looking to fall asleep at 11:15 pm, and she was looking to fall asleep at 11:15 pm. At night, she was looking to fall asleep at 11:15 pm. At night, she was looking to fall asleep at 11:15 pm. At night, she was looking to fall asleep at 11:15 pm. She was looking to fall asleep at 11:15 pm. Night time was 11:15 pm. She was looking to fall asleep at 11 pm. It was a time to fall asleep at 11 am. At night, she was looking to fall asleep at 11 pm. At night, she was looking to fall asleep at 11:15 pm. At night, she was looking to sleep at 11:15 pm, she was going to sleep at 11:15 pm, she was looking to sleep at 11:15 pm. At night, she was looking to sleep at 11:20 am. At night, she was looking to sleep at 11:15 am, she was looking for a good night. At night, she was looking to sleep at 11:15 am, she was looking to fall asleep at 11:15 am, she was looking to sleep at 11:15 am, she was looking to go to bed at 11:15 AM, she was looking to go to bed at 11:15 AM, she was looking to go to bed at 11:15 AM, she was looking to sleep at 11 am, she was looking to go to 11 AM, she was going to go to bed at 11 AM, it was going to go to bed at 11 AM</s>\n",
      "########\n",
      "*******\n",
      "question: A company with the moniker of Big Sky Excavation would probably be found where?\n",
      "answer: montana\n",
      "choices: ['a forest', 'city', 'egypt', 'montana', 'desert']\n",
      "common expl list: ['Mountain ranges are often called \"big sky\"s. The term is popular for companies in Montana, a state with lots of mountians, including two major mountain ranges.']\n"
     ]
    },
    {
     "name": "stderr",
     "output_type": "stream",
     "text": [
      "\r",
      " 14%|██████████████████████                                                                                                                                          | 136/986 [3:03:01<12:54:05, 54.64s/it]"
     ]
    },
    {
     "name": "stdout",
     "output_type": "stream",
     "text": [
      "generated explanation: <pad> <extra_id_0> A company with the moniker Big Sky Excavation would probably be found in a location with a name like Big Sky Excavation. A company with the moniker Big Sky Excavation would probably be found in a location with a name like Big Sky Excavation. The company would probably be located in a location with a name like Big Sky Excavation. A company with the moniker Big Sky Excavation would probably be found in a location with the moniker Big Sky. Big Sky Excavation Company would probably be located in the area of the United States of America, the United States of America, the United States of America, the United States of America, the United States of America, the United Kingdom, and the United States of America. The company would likely be located in the area of the United States and the United States of America (US) that would probably be able to provide a service to the United States of America (US/US/Canada/US/United States of America (US/Canada/Canada/US/Canada/Canada/Canada/US-Canada border) or other major mining/industrial complex (US/Canada. The company would probably be able to provide a variety of tools and equipment and equipment and equipment would also be able to provide a variety of tools and equipment and equipment and would be able to provide a large amount of equipment and equipment and equipment and equipment and equipment and equipment and equipment and equipment and equipment and equipment and equipment and equipment and equipment and equipment and equipment and equipment and equipment and equipment and equipment and equipment and equipment and equipment and equipment and services. The company would be a variety of equipment and equipment and equipment and equipment and equipment and equipment and services and equipment and equipment and equipment and equipment and equipment and equipment and equipment and equipment and equipment and equipment and equipment and equipment and equipment and equipment to help ensure the company would be able to support the company’s personnel and equipment and equipment to support their employees and equipment and to provide services to help them. The company would be able to provide the necessary knowledge and expertise to support the operations. The company would be able to provide a wide range of services that would be able to provide a wide range of products that would be used to provide a wide range of services that would be used to support the work of the best quality and safety. The company would be\n",
      "########\n",
      "*******\n",
      "question: Which horseman of the apocalypse is often depicted next to death?\n",
      "answer: war\n",
      "choices: ['battlefield', 'the healer.', 'funeral', 'war', 'hospital']\n",
      "common expl list: ['A time of war is also often associated with someone dying.']\n"
     ]
    },
    {
     "name": "stderr",
     "output_type": "stream",
     "text": [
      "\r",
      " 14%|██████████████████████▎                                                                                                                                          | 137/986 [3:03:03<9:09:23, 38.83s/it]"
     ]
    },
    {
     "name": "stdout",
     "output_type": "stream",
     "text": [
      "generated explanation: <pad> <extra_id_0> Horseman of the Apocalypse is often depicted next to death. He is often depicted next to the horseman of the apocalypse. The horseman of the apocalypse is often depicted next to the horseman of the apocalypse. The horseman of the apocalypse is often depicted next to the horseman of the apocalypse.</s>\n",
      "########\n",
      "*******\n",
      "question: What could be used to write with a steel pen?\n",
      "answer: hand\n",
      "choices: ['warehouse', 'arm', 'hand', 'desk drawer', 'veterinary office']\n",
      "common expl list: ['Using a steel pen requires someone to hold it, and we associate writing with hands. Powder can be used with steel pens as a \"contrast medium.', 'you write with a steel pen using your hand.']\n"
     ]
    },
    {
     "name": "stderr",
     "output_type": "stream",
     "text": [
      "\r",
      " 14%|██████████████████████▍                                                                                                                                         | 138/986 [3:04:07<10:55:42, 46.39s/it]"
     ]
    },
    {
     "name": "stdout",
     "output_type": "stream",
     "text": [
      "generated explanation: <pad> <extra_id_0> A steel pen is a type of pen that is used to write with a steel pen. A steel pen is a type of pen that is used to write with a hand. It is used to write with a steel pen, which is a type of pen that is designed to be held in a hand and is designed to be used to write with a hand. It is designed to be used for writing with a single stroke. It is a type of pen that is designed to be used to write with a hand. Hand writing handwriting hand. Hand writing tool that is used to write with a steel pen and is also used to write with a pen and can be used to write with a hand and can be used to write with a pen and can be used to write with a single hand. It can also be used to write with a single hand. It can be used to write with a single stroke. It can be used to write a single stroke, and it can be used to write with a single stroke. The hand. The steel pen can be used to write with a single stroke, and the steel pen can be used to write with a single stroke. The steel pen can be used to write with a single hand. The steel pen and can be used to write with a single hand. The steel pen can be used to write a single hand. The steel pen can be used to write with a single hand to write with a single hand to write with a steel pen, which is used to write with a single hand. The steel pen is used to write with a single hand to write with a single hand. The steel pen can be used to write with a single hand to write with a single hand. The steel pen can be used to write with a single hand. The steel pen can be used to write with a steel pen can be used to write with a steel pen can be used to write with a single hand to write with a single hand. The steel pen can be used to write with a steel hand to write with a single hand. The steel pen is a hand. The steel pen is a steel pen can be used to write with a pen, a steel pen can be used to write with a single hand. The pen can be used to write with a steel pen to write with\n",
      "########\n",
      "*******\n",
      "question: I needed to find out how to contact a person with a certain name, where should I look?\n",
      "answer: phone book\n",
      "choices: ['directory', 'michigan', 'roster', 'phone book', 'certificate']\n",
      "common expl list: ['Phone books are usually a good source for finding phone numbers to call other people.', 'People are listed in phone books for easy access by callers.', \"Phone books are used to find people's phone numbers.\", 'A phone book is likely to have the phone numbers of nearby people.']\n"
     ]
    },
    {
     "name": "stderr",
     "output_type": "stream",
     "text": [
      "\r",
      " 14%|██████████████████████▋                                                                                                                                          | 139/986 [3:04:21<8:36:04, 36.56s/it]"
     ]
    },
    {
     "name": "stdout",
     "output_type": "stream",
     "text": [
      "generated explanation: <pad> <extra_id_0> If you need to contact a person with a certain name, where should I look? If you need to contact a person with a certain name, where should I look? If you need to look for a phone book, you should look for a book of contacts. This will give you a better idea of who to contact and how to get in touch with. If you are looking for a specific person, you may want to look for a phone book with a certain name. If you are looking for someone with a certain name, you may also want to look through a person's name, and you want to find a certain name, you may want to contact a certain number, or a certain number, you may want to find out what to look for information, such as a phone book with a certain name, or a certain person with a certain phone book with a certain number, or a certain number, or a certain name, you may want to look for a</s>\n",
      "########\n",
      "*******\n",
      "question: What is important for a couple to do?\n",
      "answer: communicate\n",
      "choices: ['live together', 'row about', 'plan to marry', 'communicate', 'marry each other']\n",
      "common expl list: ['Couples who communicate well are more likely to stay together, and thus, it is important for a couple to communicate.', \"To make a relationship work, it's very important to communicate with each other.\", 'Communication is a key part of a healthy relationship and - often equally as important - is the commitment to communicate effectively.']\n"
     ]
    },
    {
     "name": "stderr",
     "output_type": "stream",
     "text": [
      "\r",
      " 14%|██████████████████████▊                                                                                                                                          | 140/986 [3:04:24<6:14:15, 26.54s/it]"
     ]
    },
    {
     "name": "stdout",
     "output_type": "stream",
     "text": [
      "generated explanation: <pad> <extra_id_0> A couple's ability to communicate is important to them. The communication is a key part of their relationship. It is also important to communicate to their spouse. This is especially important for a couple who is planning to marry. It is important to communicate with their spouse and their spouse. It is also important to communicate with their spouse and to have a healthy relationship. This is because it is important to both of them. It is also important to communicate with their spouses. This is especially important for couples who are interested in a specific topic of communication is important to them is to communicate their goals and objectives. It is important for them to have a clear and concise communication is important for a couple to have a clear communication is important for both of them to have a clear and concise plan ahead.</s>\n",
      "########\n",
      "*******\n",
      "question: The botanist knew the plant was living, what did he observe that led him to know that?\n",
      "answer: respiration\n",
      "choices: ['interaction', 'death', 'respiration', 'expiration', 'chlorophyll']\n",
      "common expl list: [\"The teacher commonly noted that plants give off oxygen as a result of respiration, which helps fuel their energy and growth. This was evidence of a plant's life.\"]\n"
     ]
    },
    {
     "name": "stderr",
     "output_type": "stream",
     "text": [
      "\r",
      " 14%|███████████████████████                                                                                                                                          | 141/986 [3:04:26<4:30:30, 19.21s/it]"
     ]
    },
    {
     "name": "stdout",
     "output_type": "stream",
     "text": [
      "generated explanation: <pad> <extra_id_0> The botanist knew the plant was living, what led him to know that was the respiration rate of the plant. The botanist knew the plant was living, what led him to know that was the respiration rate of the plant. The botanist knew that the plant was breathing, and what led him to know that was the respiration rate of the plant. The botanist knew that the plant was living, but he did not know that it was living. The botanist knew that the plant was living, and he knew that was</s>\n",
      "########\n",
      "*******\n",
      "question: What is it called when teens are together not doing anything in particular?\n",
      "answer: hang out\n",
      "choices: ['smoke', 'homework', 'volunteer', 'party', 'hang out']\n",
      "common expl list: ['Hang out is a term that could be used for teens hanging out together, typically with no particular agenda.', 'Hanging out\" is used to describe events where people are socializing, doing nothing in particular. Other events include hanging out with a purpose (doing homework, studying outside, going shopping, etc.).']\n"
     ]
    },
    {
     "name": "stderr",
     "output_type": "stream",
     "text": [
      "\r",
      " 14%|███████████████████████▏                                                                                                                                         | 142/986 [3:04:28<3:17:47, 14.06s/it]"
     ]
    },
    {
     "name": "stdout",
     "output_type": "stream",
     "text": [
      "generated explanation: <pad> When teens are together not doing anything particular, they are likely to be able to relax and have fun together. They may also be able to relax and have fun while they are together. They may also be able to learn new things about themselves and others. They may also be able to learn new things about themselves and their surroundings. They may also be able to learn about each other and learn about each other. They may also be able to learn new things like talking, playing and learning new things. They may also have the opportunity to meet other people. They may also be able to share information about each other, and to share their interests and interests.</s>\n",
      "########\n",
      "*******\n",
      "question: The saw was not necessary for car repair, so what wasn't it included with during pucrhase?\n",
      "answer: tool kit\n",
      "choices: ['tool shed', 'tool box', 'tool kit', 'hardware store', 'toolbox']\n",
      "common expl list: ['A saw is another name for a cutting tool, but they are often not included with a tool kit, because a kit is used for other repair needs (bolts, screws, bindings, etc.), and a saw is not required for a car repair']\n"
     ]
    },
    {
     "name": "stderr",
     "output_type": "stream",
     "text": [
      "\r",
      " 15%|███████████████████████▎                                                                                                                                         | 143/986 [3:04:30<2:25:06, 10.33s/it]"
     ]
    },
    {
     "name": "stdout",
     "output_type": "stream",
     "text": [
      "generated explanation: <pad> <extra_id_0> The tool kit was not included with during the car repair process. It was included with the car's tool kit, which included a pair of saws, a pair of nails, a pair of nails, and a pair of scissors. The saw was not included with the car's tool kit because it was not necessary for the car to repair. It was also not necessary for car repair, so it was not included with the car's tool kit. It was not necessary for car repair, so it was not included with the car's</s>\n",
      "########\n",
      "*******\n",
      "question: Where will my kid put their coin in their room?\n",
      "answer: piggy bank\n",
      "choices: ['piggy bank', 'wishing well', 'parking meter', 'under pillow', 'change purse']\n",
      "common expl list: ['Piggy banks are often used to store coins.', 'Kids commonly save small amounts of money for later use, and these savings are often kept in piggy banks.']\n"
     ]
    },
    {
     "name": "stderr",
     "output_type": "stream",
     "text": [
      "\r",
      " 15%|███████████████████████▌                                                                                                                                         | 144/986 [3:04:48<2:55:45, 12.52s/it]"
     ]
    },
    {
     "name": "stdout",
     "output_type": "stream",
     "text": [
      "generated explanation: <pad> <extra_id_0> My kid will put their coin in their room in a piggy bank. In a piggy bank, my kid will put their coin in their room. In a piggy bank, my kid will put their coin in their room. In a piggy bank, the kid will put their coin in their room. The coin will be kept in a piggy bank for a few days. The coin will be kept in a safe and secure place. The coin will be kept in a locked box in a room with a piggy bank is a secure place for the coin. The coin is kept in a piggy bank is a great place to store coins and coins in a safe place for my kid to store their coins in a safe. The coin is kept in a piggy bank. The coin is also known as a piggy bank is a safe and secure place in the house and it is safe to keep it in the room for the kid to keep the coin in the room for the kid's room. The coin is a safe place to keep the coin in the room for the kid to keep the coin in the room for the kid to keep the coin</s>\n",
      "########\n",
      "*******\n",
      "question: Where is a fire extinguisher likely to be found behind the seat?\n",
      "answer: school bus\n",
      "choices: ['school bus', 'house', 'garden', 'stairwell', 'garage']\n",
      "common expl list: ['Fire extinguishers are required on public-transit vehicles, such as school buses.']\n"
     ]
    },
    {
     "name": "stderr",
     "output_type": "stream",
     "text": [
      "\r",
      " 15%|███████████████████████▋                                                                                                                                         | 145/986 [3:05:22<4:29:08, 19.20s/it]"
     ]
    },
    {
     "name": "stdout",
     "output_type": "stream",
     "text": [
      "generated explanation: <pad> <extra_id_0> A fire extinguisher is a fire extinguisher that is usually found behind the seat of a school bus. School buses are typically made of steel, steel, or aluminum, and are typically made of metal or metal. They are typically made of steel, steel, or aluminum, and are typically made of metal or aluminum. They are typically found behind the seat on a school bus. School buses are often equipped with a fire extinguisher, which is a common feature on any school bus. This is because it is a school bus, a school bus, and can be found behind the seat of a fire extinguisher. This is because it is a school bus. This makes it easy for school buses are equipped with a fire extinguisher is located behind the seat of a school bus. This is because it is a valuable part of a school bus. This is because it is a great way to use a fire extinguisher can be found behind the seat of a school bus. It is also a great way to use it to use it to use it to use it to use it to use it to use it to use it to use it to use it to use it to use it to use it to use it to use it to use it to use it to use it to use it to use it to use it to use it to use it to use it</s>\n",
      "########\n",
      "*******\n",
      "question: His therapist said he had to get out there and begin socialising, it was the only was to start what?\n",
      "answer: friendships\n",
      "choices: ['conflicts', 'having fun', 'jealousy', 'getting out there', 'friendships']\n",
      "common expl list: ['His therapist said that he needed to speak to people if he wanted to be less withdrawn. This would help him to get out of his shell.', 'Interacting with other people socially is likely to result in making new friends.']\n"
     ]
    },
    {
     "name": "stderr",
     "output_type": "stream",
     "text": [
      "\r",
      " 15%|███████████████████████▊                                                                                                                                         | 146/986 [3:06:39<8:30:37, 36.47s/it]"
     ]
    },
    {
     "name": "stdout",
     "output_type": "stream",
     "text": [
      "generated explanation: <pad> <extra_id_0> His therapist said he had to get out there and begin socialising, it was the only way to start. He had to get out there and begin to socialise with friends, and his therapist said he had to start with friendships. Friendships are a form of socialising that can be formed by a variety of social activities, including socialising with friends, socialising with friends, and socialising with friends. This is because friendships are a social activity that can be developed by anyone, whether it be through socialising with friends. It is a socialising with friends, and socialising with friends is the most important part of the socialising is also a socialising is a socialising with friends can be a socialising with friends can be formed by socialising with friends, and friendships can be formed by a variety of different socialising with friends. Socialising with friends, and socialising with others, and interacting with others, and interacting with others. It is a socialising with others, and socialising with others, and socialising with others can be a social activity that involves a socialising with others, and it can be a socialising with others, and it can be a socialising with others, and it can be a socialising with others. It can be a socialising with others, and it can be a socialising with others, and it can be a socialising with others, and it can be a socialising with others, and it can be a way to build friendships can help to build friendships can help to build friendships can also help to build friendships can also help to build friendships can also help to build friendships can also help to build friendships can also help to build friendships can also help to build friendships can help to build friendships can help to build friendships can also help to build friendships can also help to build friendships can help to build friendships can also help to build friendships can also help to build friendships can also help to build friendships can also help to build friendships can also help to build friendships and help to build friendships can also help to build friendships can help to build friendship</s>\n",
      "########\n",
      "*******\n",
      "question: What is likely true about a dog that escapes regularly?\n",
      "answer: very smart\n",
      "choices: ['very smart', 'very loyal', 'tired', 'friendly', 'faithful']\n",
      "common expl list: ['Intelligent dogs (especially when concerned with food and treats) who are looking for some form of freedom will have the intelligence to escape regularly.']\n"
     ]
    },
    {
     "name": "stderr",
     "output_type": "stream",
     "text": [
      "\r",
      " 15%|████████████████████████                                                                                                                                         | 147/986 [3:07:13<8:17:11, 35.56s/it]"
     ]
    },
    {
     "name": "stdout",
     "output_type": "stream",
     "text": [
      "generated explanation: <pad> <extra_id_0> A dog that escapes regularly is a smarter breed than one that is more likely to be a nuisance to humans. It is also a great way to prevent accidents and injuries. It is also a great way to prevent accidents and injuries. It is also a great way to prevent accidents and injuries that can be prevented by a dog that escapes regularly. It is also a great way to prevent accidents and injuries that can occur from occurring. The dog is a very smart dog, and it is a great way to prevent injuries and illnesses. It is also a good way to prevent accidents and injuries. It is also a great way to escape from a dog's owners and other animals from escaping regularly. It is also a great way to prevent them. It is also a great way to prevent them from escaping regularly. This is because dogs are more likely to be more likely that they are more likely to be more likely to be more likely to be more likely to be more likely to escape from the dog's owners to keep them safe from being caught in the event of a good way to keep them from being a good deal of time and money. This is because dogs often have a dog is more likely to be more likely to be more likely to be more likely to be more likely to be more likely to be more likely to be more likely to be more likely to be more likely to be more likely to be more likely to be more likely to be able to prevent them from being able to get away from being able to prevent them</s>\n",
      "########\n",
      "*******\n",
      "question: If you're going to a party in an alley, what is likely to happen?\n",
      "answer: doing drugs\n",
      "choices: ['call the police', 'doing drugs', 'new contacts', 'making new friends', 'plan']\n",
      "common expl list: ['People often do drugs at parties, and alleys are often used for parties.', 'Alleys are associated with crime; and, people performing illegal drugs at a party is illegal.', 'People going to parties in an alley are often going to do drugs and vice.']\n"
     ]
    },
    {
     "name": "stderr",
     "output_type": "stream",
     "text": [
      "\r",
      " 15%|████████████████████████▏                                                                                                                                        | 148/986 [3:07:26<6:42:00, 28.78s/it]"
     ]
    },
    {
     "name": "stdout",
     "output_type": "stream",
     "text": [
      "generated explanation: <pad> <extra_id_0> If you're going to a party in an alley, you're likely to be exposed to a variety of drugs. You're likely to be exposed to a variety of drugs, including cocaine, and alcohol. This is because it's likely to be a party. This is because it's a party that's not a party where people are likely to be exposed to the drugs. Also, it's likely to be a party that is a little more than a party. It's a party that is likely to be a drug test. It's a party that is a party that is likely to be a party because it is a party that is likely to be a party in an alley, it is likely to be a party is a party that is likely to be a party. It is likely to be a party. It is also likely to be a party. It's likely to be a party that is likely to be a party.</s>\n",
      "########\n",
      "*******\n",
      "question: The man was very tired and sore, he decided to stay in bed to what?\n",
      "answer: rest more\n",
      "choices: ['rest more', 'lazy', 'were sick', 'to be sick', \"you're sick\"]\n",
      "common expl list: ['The man was tired and sore, so he decided to rest more.', 'The man was so tired and sore, he just wanted a break. His illness would keep him in bed.', \"When people are sick, they tend to rest, as it's the most sensible thing.\"]\n"
     ]
    },
    {
     "name": "stderr",
     "output_type": "stream",
     "text": [
      "\r",
      " 15%|████████████████████████▎                                                                                                                                        | 149/986 [3:07:28<4:49:58, 20.79s/it]"
     ]
    },
    {
     "name": "stdout",
     "output_type": "stream",
     "text": [
      "generated explanation: <pad> <extra_id_0> The man was tired and sore, he decided to stay in bed to rest. The man was tired and sore, he decided to stay in bed to rest. The man stayed in bed to rest to rest. The man was tired and sore, so he decided to stay in bed to rest. The man was tired and sore, so he decided to stay in bed to rest. He decided to stay in bed to rest. The man was so tired and sore, he decided to stay in bed to rest. Resting in bed was a long time, he decided to stay up to rest. Rest more</s>\n",
      "########\n",
      "*******\n",
      "question: He was back in his hometown, he was planning on having fun and doing what?\n",
      "answer: visiting friends\n",
      "choices: ['being understood', 'hug', 'rambling', 'kiss', 'visiting friends']\n",
      "common expl list: ['If a person went back to their hometown, they might be glad to see their old friends, and visit them while they are there.', 'People usually visit their friends when they return to a town where they previously used to live, because their friends would have missed them.', 'If a person is back in their hometown, they might visit their friends, who they might not see very often.']\n"
     ]
    },
    {
     "name": "stderr",
     "output_type": "stream",
     "text": [
      "\r",
      " 15%|████████████████████████▍                                                                                                                                        | 150/986 [3:08:26<7:25:31, 31.98s/it]"
     ]
    },
    {
     "name": "stdout",
     "output_type": "stream",
     "text": [
      "generated explanation: <pad> <extra_id_0> He was planning on having fun and doing what he was doing. During his vacation, he was visiting friends in his hometown to have fun and to have fun. Also, he was visiting friends in his hometown to have fun. Also, he was planning on visiting friends in his hometown to have fun and to do things he loves. During his vacation, he was visiting friends in his hometown of San Francisco. In his hometown, he was planning to visit his friends and family. In his hometown, he was planning on visiting friends and visiting his family and visiting friends. In his hometown, he was planning on visiting friends to visit his family and having fun and doing things that he was planning on visiting friends. In his hometown, he was planning to visit friends and family. In his hometown, he was planning on visiting friends and family. In addition to having fun and doing things that were also planning on visiting his friends and visiting friends and family. In addition to visiting friends and family. In his hometown, he was planning on visiting friends and family. In his hometown, he was planning on doing something different. In addition to visiting friends and family, he was planning on visiting friends and family. In addition to visiting friends and family to visit friends and family to visit friends and family. In addition to visiting friends and family was a fun day out with his family and friends to have fun and doing something fun and to visit friends. In addition to the day trip, he was planning on visiting friends and family to see friends and family. In addition to visiting friends and family to spend time with friends and family. In addition to visiting friends and family to see old and new, he was also visiting with new places to visit friends and family to see new and old school, he was also visiting his friends and family to see old and new friends to see old, he was also visiting family and friends to visit family and friends and visiting friends and visiting friends and visiting friends and family.</s>\n",
      "########\n",
      "*******\n",
      "question: Where is basketball court likely to be outdoors?\n",
      "answer: city\n",
      "choices: ['high school gymnasium', 'city', 'park', 'use', 'los angeles']\n",
      "common expl list: ['Basketball courts are often urban.', 'Basketball courts are likely to be at parks and recreational centers in cities.', 'Basketball courts are often found in city parks.', 'Most American cities have basketball courts in public parks.']\n"
     ]
    },
    {
     "name": "stderr",
     "output_type": "stream",
     "text": [
      "\r",
      " 15%|████████████████████████▌                                                                                                                                       | 151/986 [3:09:40<10:22:56, 44.76s/it]"
     ]
    },
    {
     "name": "stdout",
     "output_type": "stream",
     "text": [
      "generated explanation: <pad> <extra_id_0> A basketball court is a place that is popular for a variety of reasons, including the weather, the size, and the location. The location of a basketball court is usually a city, and the location of the court is usually a city. The court is located in a city or a city, and the location of the court is usually located in a city. The court is located in a city, which means that it is likely to be a place that is a popular place to play basketball. The court is also a great way to play basketball and other outdoor activities. The court is also a great place to play basketball and other outdoor recreation. The court is located in a city is a great place to play basketball and other activities. The court is also a great place to play basketball. The court is also a great place to play basketball and other sports, which is a city is a great place to play basketball and other activities. The court is a great place to play basketball and other activities. The court is a great place to play basketball and other activities that are located in a city is a great place to play basketball and other activities that are not a great way to play basketball and other activities that are a great way to play basketball and other activities that are also a great way to enjoy a great way to enjoy the outdoors. The area is a great place to be a great way to play basketball and to play basketball and to play basketball and to compete. The court is also a great way to play the game, as the city is a great way to play basketball. The city is a great way to play basketball. The city is also a great way to play basketball is a great place to play basketball. The city is also a great place to play basketball. The city is a great way to play the game. The city is also a great place to play basketball, and it is a great place to play basketball, and the city is a great place to play the game. The basketball is a great way to keep the basketball is a city is a great way to keep the game is also a great place to keep the game. The basketball is a great place to keep the game. The court is a great place to play basketball, and the basketball game is a great place to play the game,\n",
      "########\n",
      "*******\n",
      "question: When you want to get the skin off of an apple, you do what to it?\n",
      "answer: peel\n",
      "choices: ['seeds inside', 'stems', 'peel', 'grocery store', 'green market']\n",
      "common expl list: ['Apples have a skin that can be peeled off.', 'Skin is something you peel from fruits like apples, peaches, oranges, kiwi, etc...']\n"
     ]
    },
    {
     "name": "stderr",
     "output_type": "stream",
     "text": [
      "\r",
      " 15%|████████████████████████▊                                                                                                                                        | 152/986 [3:09:42<7:24:12, 31.96s/it]"
     ]
    },
    {
     "name": "stdout",
     "output_type": "stream",
     "text": [
      "generated explanation: <pad> <extra_id_0> Peeling is the process of peeling an apple. Peeling an apple is a process that requires a few steps to get the skin off an apple. Peeling is the process that takes a few steps to get the skin off of an apple. Peeling is the process of removing the skin from an apple's skin. It is a quick and easy way to remove the skin from an apple. Peeling is also a quick way to remove the skin from apples, and it removes the skin from the apples. It is a quick and easy way to get rid of the skin off an apple's skin.</s>\n",
      "########\n",
      "*******\n",
      "question: Where could you put some knives if you are planning to bring them outside with you?\n",
      "answer: backpack\n",
      "choices: ['purse', 'backpack', 'drawer', 'sporting goods store', 'kitchen']\n",
      "common expl list: [\"Knives are usually brought along if hiking, camping, fishing, or other outings, and backpacks make it easy to transport one's belongings.\", \"To carry knives on one's person, you need some small type of container to hold the knives. Perhaps the most likely place to carry a small container is a backpack.\"]\n"
     ]
    },
    {
     "name": "stderr",
     "output_type": "stream",
     "text": [
      "\r",
      " 16%|████████████████████████▉                                                                                                                                        | 153/986 [3:10:39<9:05:16, 39.28s/it]"
     ]
    },
    {
     "name": "stdout",
     "output_type": "stream",
     "text": [
      "generated explanation: <pad> <extra_id_0> If you are planning to bring knives outside with you, you can put them in a backpack or a pocket. The backpack should be able to carry a knife with you to a picnic or a picnic. It should be able to carry a knife with you. It should also be able to carry a knife in a pocket or a pocket. It should also be able to carry a knife in a backpack when you are not using it. It should be able to carry it in the backpack. It should be able to carry knives in a pocket or a pocket or a pocket. It should be able to carry a knife with you. It should be able to carry knives in a backpack. It should be able to carry a knife in a pocket that is able to carry a knife in a backpack with it. It should be able to carry a knife with it. It should be able to carry a knife a knife should be able to carry a knife with you. It is a knife if you are carrying a knife with you. It should be able to carry a knife with you when you are carrying knives with you when you are carrying knives with you. It is a backpack. It is also a backpack with a knife and a knife holder. A knife holder that can be used in a backpack and a knife holder that is a backpack is a knife holder that is a knife holder. A knife is a knife that is a knife holder. A knife holder is a knife handle is a knife holder that can be used to carry a knife when you are carrying it with you when you carry knives with you when you are carrying knives are used to carry knives are used to carry knives when you carry knives when you are carrying knives are used to carry knives are used to carry knives are used to carry knives are used to carry knives are used to carry knives are used to carry knives are used to carry knives are used to</s>\n",
      "########\n",
      "*******\n",
      "question: John watches the well dressed people from a catwalk above the stage.  He listens to them speak rehearsed lines while the audience listens.  Where is he/\n",
      "answer: theatre\n",
      "choices: ['theatre', 'new york city', 'fashion show', 'construction site', 'school play']\n",
      "common expl list: ['Theatres have catwalks where people might observe and listen to actors.']\n"
     ]
    },
    {
     "name": "stderr",
     "output_type": "stream",
     "text": [
      "\r",
      " 16%|█████████████████████████▏                                                                                                                                       | 154/986 [3:10:55<7:30:44, 32.51s/it]"
     ]
    },
    {
     "name": "stdout",
     "output_type": "stream",
     "text": [
      "generated explanation: <pad> <extra_id_0> John watches the well dressed people from a catwalk above the stage. He listens to them speak rehearsed lines while the audience listens to them. The audience listens to them from a catwalk. The audience is able to hear the well dressed people from a catwalk and hear them speak rehearsed lines. The audience is also provided with a variety of entertainment options to choose from. The audience can also hear the people speak rehearsed lines while the audience is listening to them speak a variety of genres of music, dance, and other activities. The audience can also hear the music of the music while the audience can also hear the voices of the music. The audience can also hear the audience listens to the actors' voices. The audience can also hear the actors' voices. The audience can also hear the actors' voices and hear the audience's own voice. The audience can also hear the people's voices. The audience can also hear the actors' voices and hear the actors' voices. The audience can also hear the performers' voices. The audience can also hear the voices of the audience can also hear the audience can hear the performers' voices.</s>\n",
      "########\n",
      "*******\n",
      "question: If I am creating art and have completed it to satisfaction, what is my feeling?\n",
      "answer: enlightenment\n",
      "choices: ['enlightenment', 'tired', 'frustration', 'relax', 'controversy']\n",
      "common expl list: ['Enlightenment is the label for a moment of clarity, and the word is often applied to artists who have created something unique or daring.']\n"
     ]
    },
    {
     "name": "stderr",
     "output_type": "stream",
     "text": [
      "\r",
      " 16%|█████████████████████████▎                                                                                                                                       | 155/986 [3:11:19<6:52:28, 29.78s/it]"
     ]
    },
    {
     "name": "stdout",
     "output_type": "stream",
     "text": [
      "generated explanation: <pad> <extra_id_0> I am creating art and have completed it to satisfaction. I am enlightened and have found that the feeling of satisfaction is a feeling of enlightenment. I am also aware that I am not aware of the feelings that come with creating art. I am also aware that I am creating art to be able to express myself and my thoughts. I am also aware that I am creating art that is not necessarily a good fit for my needs. I am creating art that is a reflection of myself and my life. I am enlightenment and satisfaction. I am able to express my feelings and emotions. I am able to express my feelings of enlightenment. I am able to express my feelings of being enlightenment is a feeling of being able to express my feelings and emotions, and I am able to express myself in a sense of being able to express my feelings and emotions. I am not able to express myself. I am able to express myself and my feelings and thoughts. I am experiencing a sense of being able to express my feelings and experiences that are able to express my feelings and experiences in a way of expressing myself and experience the world in a way of being able to express myself</s>\n",
      "########\n",
      "*******\n",
      "question: He was serious and pragmatic, so why did he drive his car?\n",
      "answer: transportation\n",
      "choices: ['transportation', 'car crash', 'death', 'sleepy', 'stress']\n",
      "common expl list: ['People often drive cars to get from one place to another.', 'Because driving is the most practical mode of transportation judging by the time and distance required to do so.']\n"
     ]
    },
    {
     "name": "stderr",
     "output_type": "stream",
     "text": [
      "\r",
      " 16%|█████████████████████████▍                                                                                                                                       | 156/986 [3:12:23<9:14:17, 40.07s/it]"
     ]
    },
    {
     "name": "stdout",
     "output_type": "stream",
     "text": [
      "generated explanation: <pad> <extra_id_0> He was serious and pragmatic, so driving his car was important to him. Transportation was a necessity for a businessman who was serious and pragmatic. Transportation was a necessity for a businessman who was pragmatic and committed to his goals. Transportation was a necessity for his business. Transportation was a way of living, transportation was a means of communication, and it was a way of expressing his feelings and emotions. He was also a serious and pragmatic person, who was also pragmatic and a good driver. Transport was a way of life. Transportation was a way of life. Transportation was a means of transport for him. Transportation was a way of being pragmatic and practical. It was a way of ensuring that he could easily and safely travel the world. It was also a way of life for him to communicate with his goals and needs. It was also a means of transporting his needs and desires. He also a means of a means to be able to communicate his needs and desires.. It was also a means to express his feelings and wants to be able to communicate with his family and friends. It was a way to communicate his goals and to communicate his goals. It was an effective way to communicate his goals and opportunities to communicate his needs. It was an alternative way of communicating with his goals and objectives. It was a way to communicate his ideas and experiences that would be a way to communicate his goals and desires. It was a way to make a sense of his surroundings. It was a way to express his thoughts and feelings of being able to be able to communicate his ideas and experiences. It was able to communicate his thoughts and feelings of being able to communicate with his friends and family. It was a way to make a difference. It was a way to make a difference in a practical way to make a difference in a practical way to communicate and to communicate with his customers and to make a difference in the world. Ultimately, a way of communicating with his feelings and to communicate with them in a way that would be able to communicate to his customers. Ultimately, it would also allow them to communicate with their customers. The goal was to provide a way to communicate with them. The goal was to ensure that they could communicate with them. The goal was to make sure that the customer was a way\n",
      "########\n",
      "*******\n",
      "question: What does god want people to do for money?\n",
      "answer: work in life\n",
      "choices: ['work in life', 'speak to people', 'everywhere', 'sitting ideal', 'care for people']\n",
      "common expl list: ['The scriptures explain that people should acquire money by providing good products or services, e.g., to bring value to other people and make a living.']\n"
     ]
    },
    {
     "name": "stderr",
     "output_type": "stream",
     "text": [
      "\r",
      " 16%|█████████████████████████▍                                                                                                                                      | 157/986 [3:13:38<11:37:05, 50.45s/it]"
     ]
    },
    {
     "name": "stdout",
     "output_type": "stream",
     "text": [
      "generated explanation: <pad> <extra_id_0> of the gods purpose for money is to help others by giving them a sense of purpose and meaning. They also help people to appreciate their own talents and abilities and to be able to appreciate their time and talents. They also help them to appreciate the value of money and give them a sense of purpose and purpose. They also help them to be more productive and productive. They also help them to be more productive and productive. They also help them to be more creative and creative. They also help them to be more creative and creative. They also help them to be successful in their work. They also help them to be more creative and creative in order to help them to be creative and creative. They also help them to be creative and creative work. Work is a god. Work is a great way to help them to be creative and creative expression. They also help them to be more creative and creative work in the world. They also help others to be more creative. They also help them to be creative and creative, and to be creative and creative, and to be creative and creative. They are able to be creative and to be creative. They can also help them to be creative, creative and creative and creative. They can also help others to create a creative outlet for their creative outlet for themselves. They can also help others to create a better world. They can also help them to be creative and creative. They can also help them to be creative and creative. They can be creative. They can also help them to be creative and to be creative and to create a creative outlet for their own creative and creative outlet for their own creative outlet for themselves. They can also help others to be creative and creative. They can also help them to be creative and creative. They can help them to be creative. They can help them to create a better world. They can help them to become more creative and creative. They can help them to be more creative in their lives. They can help them to be creative and to help them to be creative. They can help them to be creative and creative. They can help them to be creative and creative. They can help them to be creative and creative. They can help them to be creative and creative and creative. They can help them to be creative and creative. They can help them to be creative and creative in their work. They can also help them to be creative and creative. They can also help them to be creative and creative. They can help\n",
      "########\n",
      "*******\n",
      "question: What can happen after doing housework that does not involve pain?\n",
      "answer: become tired\n",
      "choices: ['become tired', 'stress', 'put on shoes', 'backache', 'low pay']\n",
      "common expl list: ['Raking, sweeping, and dusting are common forms of housework. After all the physical labor of these activities, someone \\xa0might become tired and take time off from housework chores, but not have een doing any housework tasks that', 'Doing housework is likely to tire someone out. Being tired increases the likelihood of restlessness and uneasiness.', 'Housework can be tiring, and so, after doing it, one might become tired.']\n"
     ]
    },
    {
     "name": "stderr",
     "output_type": "stream",
     "text": [
      "\r",
      " 16%|█████████████████████████▊                                                                                                                                       | 158/986 [3:13:48<8:49:38, 38.38s/it]"
     ]
    },
    {
     "name": "stdout",
     "output_type": "stream",
     "text": [
      "generated explanation: <pad> <extra_id_0> After doing housework that does not involve pain, you may become tired. You may also feel tired and gain weight. After doing housework that does not involve pain, you may become tired. You may also feel tired and tired. You may feel tired or tired. You may become tired. After doing housework that does not involve pain, you may become tired. You may become tired and start to feel tired. After doing housework, you may become tired. You may become tired after doing housework that does not involve pain. You may become tired after doing housework that does not involve pain, you may become tiredness, aches, and fatigue. This is because you may feel tired, and may be unable to do housework. You may feel tired. You may also feel a lot of housework that is difficult to do housework that is not always painful. It is also difficult to get tired. It is important to be aware that you are tiredness can be difficult to do it all at once.</s>\n",
      "########\n",
      "*******\n",
      "question: James sat in a chair and listened to the speaker.  Where might James be?\n",
      "answer: auditorium\n",
      "choices: ['synagogue', 'grocery store', 'auditorium', 'confession', 'office']\n",
      "common expl list: ['James was likely in an auditorium, because he was listening to a speaker.']\n"
     ]
    },
    {
     "name": "stderr",
     "output_type": "stream",
     "text": [
      "\r",
      " 16%|█████████████████████████▉                                                                                                                                       | 159/986 [3:14:08<7:34:06, 32.95s/it]"
     ]
    },
    {
     "name": "stdout",
     "output_type": "stream",
     "text": [
      "generated explanation: <pad> <extra_id_0> James might be in a chair or a auditorium. A auditorium is a place where a person can listen to a speaker. A speaker can also be a place where a person can sit in a chair and listen to the speaker. A auditorium is a place where a person can sit in a chair and listen to the speaker. A auditorium is a place where a person can listen to a speaker and listen to the speaker. A auditorium is a place where a person can hear the speaker in a auditorium, where the speaker is located in a space that is used to listen to the speaker. The speaker is also used to listen to the speaker's speech or listens to the speaker's speech or listen to the speaker's voice or listen to the speaker's speech. The auditorium is a place where the speaker's speech or speech is heard or heard. The speaker is a place where the speaker's speech or speech or the speaker's speech or speech or the speaker's speech or the speaker's speech or the speaker's words or phrases. The speaker's speech or speech or the speaker's words or phrases are spoken or spoken or phrases or phrases or phrases. The auditorium is a place of the speaker's words or phrases or phrases or phrases are spoken or phrases are spoken or phrases are spoken or phrases are spoken or spoken or phrases are spoken or phrases are spoken or phrases are spoken or phrases are spoken or phrases are spoken or phrases are spoken or phrases are written or phrases are spoken or phrases are spoken or spoken or phrases are spoken or written or spoken or phrases are spoken or phrases are spoken or phrases are spoken or phrases are spoken or phrases are spoken or phrases are spoken or phrases are not spoken or phrases are</s>\n",
      "########\n",
      "*******\n",
      "question: John thought that Mary was beautiful despite her injury.  But Mary believed that she was what?\n",
      "answer: misshapen\n",
      "choices: ['wrong', 'overcast', 'homely', 'bad', 'misshapen']\n",
      "common expl list: [\"If Mary believes she doesn't look normal, but someone else thinks she is beautiful, perhaps she could feel like her form is misshapen.\"]\n"
     ]
    },
    {
     "name": "stderr",
     "output_type": "stream",
     "text": [
      "\r",
      " 16%|██████████████████████████▏                                                                                                                                      | 160/986 [3:14:10<5:24:29, 23.57s/it]"
     ]
    },
    {
     "name": "stdout",
     "output_type": "stream",
     "text": [
      "generated explanation: <pad> <extra_id_0> Mary believed that she was beautiful despite her injury. John thought that Mary was beautiful despite her injury. John believed that she was misshapen despite her injury. Mary believed that John was a misshapen woman despite her injury. Mary believed that John was a beautiful woman despite her injury. Mary believed that she was misshapen despite her injury. John thought that Mary was beautiful despite her injury. Mary believed that John was a beautiful woman despite her injury. Mary believed that she was beautiful despite her injury.</s>\n",
      "########\n",
      "*******\n",
      "question: Where does my body go after I am no longer living?\n",
      "answer: graveyard\n",
      "choices: ['zombie', 'bodycam', 'coffin', 'graveyard', 'funeral']\n",
      "common expl list: ['When a person dies, it is common to bury their bodies in locations called graveyards.', 'When one dies, their body is buried in a graveyard.', 'Corpses are buried in graveyards.']\n"
     ]
    },
    {
     "name": "stderr",
     "output_type": "stream",
     "text": [
      "\r",
      " 16%|██████████████████████████▎                                                                                                                                      | 161/986 [3:14:27<4:56:54, 21.59s/it]"
     ]
    },
    {
     "name": "stdout",
     "output_type": "stream",
     "text": [
      "generated explanation: <pad> <extra_id_0> My body goes to a graveyard after I am no longer living. My body goes to a graveyard where I am no longer alive. The graveyard is a place where people can find their bodies and find them. They can also find them in the cemetery in the cemetery. They can also find their graves in the cemetery, which is a place where people can find their bodies and find them. They can also find them in the cemetery, which is a place to find their bodies and to find them. They can also find out more about the cemetery and where they are located on the cemetery. They can also find their bodies in the cemetery to find out what they have found out about the cemetery. They can also be found in the cemetery, which is a place to find out if they are not buried in the cemetery. They can also find a place to find a place to find other places to find out if they are not buried. They can also find graveyard to find out where they are located. They can also find out where they are located. They can also find out where they are located in the cemetery.</s>\n",
      "########\n",
      "*******\n",
      "question: Where can you find a bar before traveling a long distance?\n",
      "answer: airport\n",
      "choices: ['las vegas', 'public house', 'airport', 'restaurant', 'michigan']\n",
      "common expl list: ['Bars are often located in airports, and so if a person was traveling a long distance, they might stop at an airport bar.']\n"
     ]
    },
    {
     "name": "stderr",
     "output_type": "stream",
     "text": [
      "\r",
      " 16%|██████████████████████████▍                                                                                                                                      | 162/986 [3:15:39<8:23:22, 36.65s/it]"
     ]
    },
    {
     "name": "stdout",
     "output_type": "stream",
     "text": [
      "generated explanation: <pad> <extra_id_0> A bar is a place to enjoy a meal before traveling a long distance. It is a great place to enjoy a drink before traveling a long distance. It is also a great place to relax before traveling a long distance. It is also a great place to spend time at a hotel or restaurant. It is also a great place to enjoy a drink before traveling a long distance. It is also a great way to relax in a hotel room before traveling a long distance. It is a great way to relax in a hotel before traveling a long distance and to enjoy a drink at a bar before traveling to a hotel and then relax in a hotel's food and drink. The bar is a great way to relax before you leave the hotel and/or take a drink at a hotel room and get a drink at a bar that is a great way to relax in a long time. It is a great way to get a long distance. It is also a bar to get a long-term vacation. It is a great way to get a long-term trip. It is also a great way to get a drink at a long-term vacation. It is a great way to get a drink at a long-term vacation. It is also a long-term drink at a long-term getaway. It is also a great way to get to a long-term memory of the experience. It is also a great way to experience a long-term memory of the time to remember that it is a long-term memory of the time to relax and unwind. It is a great way to get a long-term memory of the time to get to know the people around the world. It is also a great way to get to know the people around the world. It is a great way to get to know the people around the world, and to get to know the people, and to get to know the people, and to get to know the people, and to know the people, and to know the people, and to know the people, and to know the people, and to know the people, and to know the people, and to know the people, and to know the people, and to know the people, and to know the people, and to know the\n",
      "########\n",
      "*******\n",
      "question: Where might a small ball be bounced from?\n",
      "answer: child's hand\n",
      "choices: ['soccer game', 'street', 'toy store', \"child's hand\", 'on the sidewalk']\n",
      "common expl list: ['Since children enjoy bouncing balls, and they are also relatively small, they would bounce a ball from their hand.', 'A ball much like a toy, and kids often play with them on the streets and sidewalks.']\n"
     ]
    },
    {
     "name": "stderr",
     "output_type": "stream",
     "text": [
      "\r",
      " 17%|██████████████████████████▌                                                                                                                                      | 163/986 [3:15:45<6:19:28, 27.67s/it]"
     ]
    },
    {
     "name": "stdout",
     "output_type": "stream",
     "text": [
      "generated explanation: <pad> <extra_id_0> A small ball might be bounced from a child's hand, or from a small ball. This is because the child's hand is a natural material for a variety of purposes, including sports and sports. This is because the ball is thrown from a child's hand, which is a natural material for a variety of purposes, including sports, sports, and sports. This is because a small ball is a natural product, which is often used to help children learn to use their hands and to help them to learn new skills and knowledge. This is because it is a great place to play. This is because it is also a great way to learn how to use a small ball is bounced from a small ball to a small ball to help children learn to use it to help them learn to use a small ball to help them to learn how to use it to help them to understand the child's life. The ball can be used to help them to learn to use it to learn to use the ball to play with the ball.</s>\n",
      "########\n",
      "*******\n",
      "question: Where do families begin?\n",
      "answer: wedding\n",
      "choices: ['wedding', 'around dinner table', 'supermarket', 'dinner together', 'park']\n",
      "common expl list: ['A wedding is a ceremony in which two people get married, and thus a wedding is where a family begins.']\n"
     ]
    },
    {
     "name": "stderr",
     "output_type": "stream",
     "text": [
      "\r",
      " 17%|██████████████████████████▊                                                                                                                                      | 164/986 [3:17:03<9:46:20, 42.80s/it]"
     ]
    },
    {
     "name": "stdout",
     "output_type": "stream",
     "text": [
      "generated explanation: <pad> <extra_id_0> A wedding is a celebration of life and celebrations are traditionally held at the reception of a family. The wedding is a time of celebration and celebration. The ceremony is usually a celebration of life and the celebration of the wedding day. The ceremony is usually a celebration of the wedding day, usually a wedding day, or a family gathering. The ceremony is usually a celebration of the wedding day, or a celebration of the day. The ceremony is usually a celebration of the wedding day, usually a celebration of love and commitment to the bride and groom, and the bride's wedding is usually a celebration of the wedding day. The ceremony is a celebration of the wedding day is a celebration of the bride and groom and the bride and bride and the bride and groom's wedding day. The ceremony is a celebration of the bride and the bride and the groom and the bride's groom's guests. The bride and groom's guests at the wedding is a celebration of the bride and groom. The bride and groom are a celebration of the bride and groom's special celebration of the bride and the bride and groom, the bride and groom's personalities. The bride and groom's personality and the bride and groom, the bridesmaid is a celebration of the bride and groom. The bride and groom's personality and the bride and groom's wedding day. The ceremony is a celebration is a celebration of the bride and groom's wedding is a celebration of the bride and groom's wedding is a celebration of the bride and groom and the bride and their family, and the bride and groom's family members's personalities and the bride and groom's personalities and the bride and the bride's guests's personalities and the bride and groom's personalities. The wedding is a celebration is a celebration is a celebration is a celebration of the wedding is a celebration is a celebration is a celebration of the bride and groom's wedding is a celebration is a celebration of the bride and the bride and the bride and the bride's wedding is a celebration of the wedding is a celebration celebration is a celebration of the bride's wedding. The ceremony is a celebration is a celebration is a celebration is a celebration is a celebration is a celebration of the bride and the bride and the bride and the bride and the bride and\n",
      "########\n",
      "*******\n",
      "question: He enjoyed reading newspaper, he consider what a subscription?\n",
      "answer: buying\n",
      "choices: ['gifting', 'buying', 'money', 'literacy', 'knowing how to read']\n",
      "common expl list: ['Buying a subscription to a newspaper is a way to get the newspaper delivered to your home.']\n"
     ]
    },
    {
     "name": "stderr",
     "output_type": "stream",
     "text": [
      "\r",
      " 17%|██████████████████████████▉                                                                                                                                      | 165/986 [3:17:50<9:59:58, 43.85s/it]"
     ]
    },
    {
     "name": "stdout",
     "output_type": "stream",
     "text": [
      "generated explanation: <pad> <extra_id_0> He enjoyed reading newspaper, he consider buying a subscription. He enjoyed reading newspaper, he consider what a subscription to help him with his research. He enjoyed reading newspaper, he consider buying a subscription to help with research and development. He also consider buying a subscription to a newspaper. He enjoyed reading newspaper, he consider buying a subscription to read the news. He enjoys reading newspapers, he considers buying a subscription to his newspaper. He enjoyed reading newspaper, he consider buying a subscription to his work. Buying a newspaper is a good idea to read the news, and he enjoys reading the news, and he considers it as a subscription to the news. It is a good idea to read the news to read the news in a variety of news to read in a variety of other publications. The news to read the news in a newspaper to read the news to read to the news in a variety of other things. He also considers reading it as a way of a subscription to read and read the news in a newspaper to read it as a newspaper to read to the news, and he may also consider buying a newspaper. The newspaper is a great way to read and the newspaper is a newspaper. The newspaper is a great way to read it as a way that it is a good way that it is a good way. It is a great way to increase his reading experience. The newspaper is a great way of reading. He enjoyed reading newspaper is a great way of life. It is a great way. It is a great way of a good way to read. It is also a great way to get the newspaper is a great way to get him to get his information on his own. It is also a good way to get him to know about his favorite peoples lives. Also, it is a great way to get him a good read. He enjoyed reading newspaper, he can also help him to read and to get him to know that he can also help him to know the world. Then, the newspaper is a great way to get him to know the world. He enjoy reading newspaper is a good way to get to know the world. The more information on the world. He can also help him to understand the world. The newspaper is a good read.\n",
      "########\n",
      "*******\n",
      "question: What does an animal do when it becomes old?\n",
      "answer: feel pain\n",
      "choices: ['live long', 'leave home', 'feel pain', 'eating', 'sense fear in human']\n",
      "common expl list: ['Ageing animals may have chronic pain as part of the body losing function as it ages.']\n"
     ]
    },
    {
     "name": "stderr",
     "output_type": "stream",
     "text": [
      "\r",
      " 17%|███████████████████████████                                                                                                                                      | 166/986 [3:17:52<7:09:45, 31.45s/it]"
     ]
    },
    {
     "name": "stdout",
     "output_type": "stream",
     "text": [
      "generated explanation: <pad> <extra_id_0> When an animal becomes old, it feels pain. It can feel pain when it is older, especially if it is accompanied by a limb. It can also feel pain when it is older. It can also feel pain when it is no longer in limb position. It can also feel pain when it is tired or hungry. It can also feel pain when it is unable to walk again. It can also feel pain when it is no longer able to walk. It can also feel pain when it is older. It can also feel pain when it is no longer be affected by stress, anxiety, and other symptoms of illness. It can also feel pain when it is no longer able to walk, and when it is tired.</s>\n",
      "########\n",
      "*******\n",
      "question: What entity would have a fire extinguisher in their boardroom?\n",
      "answer: most businesses\n",
      "choices: ['boat', 'apartment', 'public building', 'most businesses', 'chemistry lab']\n",
      "common expl list: ['Most businesses would have a fire extinguisher in their boardroom, because they are likely to have a fire in their boardroom.']\n"
     ]
    },
    {
     "name": "stderr",
     "output_type": "stream",
     "text": [
      "\r",
      " 17%|███████████████████████████                                                                                                                                     | 167/986 [3:19:12<10:27:41, 45.98s/it]"
     ]
    },
    {
     "name": "stdout",
     "output_type": "stream",
     "text": [
      "generated explanation: <pad> <extra_id_0> Most businesses have a fire extinguisher in their boardroom. Most businesses have a fire extinguisher in their boardroom. Most businesses have a fire extinguisher in their boardroom. Most businesses have a fire extinguisher in their boardroom. Most businesses have a fire extinguisher in their boardroom. Most businesses have a fire extinguisher in their boardroom. Most businesses have a fire extinguisher in their boardroom. Most businesses have a fire extinguisher in their boardrooms. This is because they are a common sense of fire extinguisher in their boardrooms are located in the boardroom. This is because it is a necessity for businesses to be able to use it in their boardrooms. This is because it is a necessity for businesses to operate a boardroom because it is a necessity to be able to use it to protect their boardroom. Fire extinguishing fire extinguishing device, which is a fire extinguishing is a necessity to protect their business. This is a business. This is a fire extinguishing device is a very large portion of the boardroom. This is a valuable asset to businesses that have a fire extinguishing device. This allows businesses to keep their boardroom. This is a valuable tool that they can keep their business and its employees and employees. This allows them to keep them safe from fire and keeps them safe and secure. This allows them to keep them safe and effective. It is important to keep them safe and effective. It is important to them that they can keep them safe. It is important to keep them safe and secure. It is important to keep them safe. It is important to keep them safe and secure. It is also important to keep them safe and secure. It is important to keep them safe and effective. It is important to keep them safe and helps to keep them safe and secure. It is important to keep them safe. It is important to keep them safe and effective to keep them safe. Fire extinguishes the fire extinguish the fire of the fire extinguish the fire and keeps them in their business environment safe. Fire extinguish the fire extinguish the fire extinguishing the\n",
      "########\n",
      "*******\n",
      "question: Where can someone go and buy cheese?\n",
      "answer: market\n",
      "choices: ['pizza', 'bar', 'fridge', 'market', 'refrigerator']\n",
      "common expl list: ['Cheese is sold at markets.', 'Cheese is a dairy product and can be purchased at markets, for the most part.']\n"
     ]
    },
    {
     "name": "stderr",
     "output_type": "stream",
     "text": [
      "\r",
      " 17%|███████████████████████████▎                                                                                                                                    | 168/986 [3:19:56<10:18:30, 45.37s/it]"
     ]
    },
    {
     "name": "stdout",
     "output_type": "stream",
     "text": [
      "generated explanation: <pad> <extra_id_0> A market is a place where people can buy cheese. A market is a place where people can buy cheese in a market. A market is a place where people can buy cheese at a market. A market is a place where people can buy cheese at a market. A market is a place to buy cheese that is made from fresh, high quality cheese that is made from cheese that is made from fresh, high quality cheese. Cheese is made from cheese that is a great source of protein and dietary fiber. Cheese is a place where people can buy cheese at a market. This means that people can buy cheese at a market is a place that is a place that is a place that is a place that is a place that is a place that is a place that is a place that is a place that is a market. It is a place that is a place where the consumer can buy. It is a place that is a place that is a place that is a place that is a place that is a place that is a good place to buy cheese and a place to purchase cheese is a place where the consumer can purchase cheese is a place to buy cheese and other items that are a market. This is a place to buy cheese and other products that are also a market for a place to buy cheese and other ingredients that are a great place to buy cheese and other goods that are a market. This is a market is a place to buy cheese and other ingredients that are available on a market. This is a place to buy cheese and cheese and cheese and cheese and cheese market is a great place to buy cheese and cheese and cheese products that are typically sold in a market.</s>\n",
      "########\n",
      "*******\n",
      "question: Where would you carry food while on a long walk in the countryside?\n",
      "answer: backpack\n",
      "choices: ['backpack', 'table', 'jar', 'box', 'container']\n",
      "common expl list: ['Instead of carrying a jar or container, filling your backpack with food might not disrupt your movements as much when you are walking.', \"Because backpacks are designed to be carried on one's back, they are the most convenient way to carry food while on a long walk.\"]\n"
     ]
    },
    {
     "name": "stderr",
     "output_type": "stream",
     "text": [
      "\r",
      " 17%|███████████████████████████▍                                                                                                                                    | 169/986 [3:21:00<11:33:02, 50.90s/it]"
     ]
    },
    {
     "name": "stdout",
     "output_type": "stream",
     "text": [
      "generated explanation: <pad> <extra_id_0> A backpack is a small backpack that is designed to carry food and other items. It is designed to carry a backpack that is designed to carry food and other items. It is a backpack that is designed to carry food and other items that are not normally carried by walkers. It is designed to be used for long walks in the countryside. It is designed to carry a variety of items such as a lunch bag, a lunch bag, a backpack and a small backpack. It is designed to carry food and other items. It is designed to carry food and other items such as a backpack to carry food and other items that are packed in a small backpack. It is designed to carry food and other items that are not carried by hikers and hikers, hikers and hikers. It is designed to be used for hiking, cycling, and other activities that are used for camping. It is also designed to carry a small backpack. It is a great way to carry food and other items that are not packed with a backpack. It is also a small backpacking, camping, and other items such as a backpacking, and other items such as a backpacking, and other items that are carried by a backpacking, and other items that are not a backpacking. It is also a great way to carry food and other items that are used for camping, and it is also a great way to carry a backpacking, and it is a great way to carry a backpacking, and it is a great way to carry a great way to transport a great way to transport a great way to carry a great way to transport a great way to transport a backpacking, and it is also a great way to transport a backpacking. It is a great way to transport food and water, a backpacks and other activities that are a great way to transport a backpacking and camping. It is also a great way to transport a great way to transport food and a great way to store food and a great way to save money. It is also a great way to save you and your companions and other items. It is also a great way to carry food that can be used to carry a backpacking bag that can be used to carry a backpacking bag can be used to carry a backpacking\n",
      "########\n",
      "*******\n",
      "question: What could a driver do that could distract him or her while he or she is in a driving car?\n",
      "answer: smoke\n",
      "choices: ['use mobile phone', 'car crash', 'smoke', 'backache', 'automobile accidents']\n",
      "common expl list: ['Smoking is a common activity that people do while driving, and it could distract them from driving.', 'It can be tricky to smoke and concentrate on driving at the same time, and research has found that smoking in a car with children present is very dangerous.']\n"
     ]
    },
    {
     "name": "stderr",
     "output_type": "stream",
     "text": [
      "\r",
      " 17%|███████████████████████████▌                                                                                                                                    | 170/986 [3:22:11<12:56:16, 57.08s/it]"
     ]
    },
    {
     "name": "stdout",
     "output_type": "stream",
     "text": [
      "generated explanation: <pad> <extra_id_0> A driver could be distracted by a distraction such as smoke, text messages, and audio. The driver could be distracted by a distraction such as text messages, audio, and audio. The driver could also be distracted by smoke, text messages, and other distractions. The driver could also be distracted by a distraction such as text messages, audio, and/or a distraction from his or her driving car. The distractions could be from the driving car, such as text messages, text messages, and audio. The distractions could be from the driver of a driving car, and the driver could be distracted by the driver of a driving car, such as a driver of a driving car, and/or a distraction from the driver of the driver, such as text messages, audio, and/or audio-video, and/or audio-visual information, such as audio or video, audio or video, audio, audio, and/or video, or video. The driver of a driving car, or audio, or other distractions, distractions, etc. This could be a distractions, such as music, video, or other distractions, etc. This could be distractions, and even a distractions, and other distractions, such as music, video, video, or other distractions, such as music, or video, or other distractions, or other distractions, such as music, video, audio, or audio, video, or other information, such as music, or even a voice, or even a phone, video, etc. This could be a distractions, etc. This could be music, video, or even a distractions, such as music, or even a distractions, or distractions, such as a video, a video, or even a distractions, such as a distractions, such as a distractions, such as a video, a distractions, etc. This could be a distractions, such as a distractions, such as music, a distraction, or distractions, such as a distractions, such as a distractions, such as a distractions, such as a distractions, distractions, distractions, or distractions, such as a distractions, etc. This could distract a driver could distract a driver could distract a driver may be distract a distraction\n",
      "########\n",
      "*******\n",
      "question: The fat man wanted to make a change in his life and make sure it stayed what?\n",
      "answer: permanent\n",
      "choices: ['concretely', 'permanent', 'remain stable', 'stagnant', 'constant']\n",
      "common expl list: ['In changing his life, he wants to make sure he remains in the new lifestyle choices, e.g., not become stagnant to bad choices and fall back into bad choices.', 'His making a decision to change and ensuring the decision is made permanent indicates a desire for a stable, permanent life, which does not change.']\n"
     ]
    },
    {
     "name": "stderr",
     "output_type": "stream",
     "text": [
      "\r",
      " 17%|███████████████████████████▋                                                                                                                                    | 171/986 [3:23:28<14:14:51, 62.93s/it]"
     ]
    },
    {
     "name": "stdout",
     "output_type": "stream",
     "text": [
      "generated explanation: <pad> <extra_id_0> The fat man wanted to make a change in his life and make sure it stayed that way. It was time to make sure it stayed what it was. The fat man wanted to make sure it stayed what it was. Permanent change was the key to his life and made sure it stayed what it was. It was important to keep the fat man happy and healthy. It was also important to make sure it stayed that way. It was important to make sure that it was permanent. The fat man wanted to make sure that it was permanent. Permanent changes were permanent. Permanent changes were made. Permanent changes were permanent changes were permanent and the fat man wanted to make sure it stayed the fat man wanted to make sure it stayed what it remained the fat man wanted to keep it stayed what it was permanent. Permanent changes were needed to keep it stayed what it was permanent. Permanent changes were permanent changes were made to make sure it stayed that way. Permanent changes were made to be permanent change was made to keep it remained the fat man to stay fat. Permanent changes were made to stay that way. Permanent changes were permanent change was made to stay fat man wanted to keep it stayed the fat man's fat man's fat man's fat man's life. Permanent changes were made permanent change was made to keep it. Permanent changes were made to keep it permanent, and permanent changes were permanent changes were made to keep it permanent changes were made to keep it. Permanent changes were made to keep the fat man's fat. Permanent changes were made to keep the fat man's fat man's fat and keep it. Permanent changes were made to keep the fat man's fat man's fat and keep it's fat and keep it. Permanent changes were made permanent and kept it permanent, and it kept it. Permanent changes were made to keep it permanent. Permanent changes were permanent change was permanent change was permanent change was permanent change was permanent change was permanent change was permanent change was permanent change was permanent change was permanent change was permanent change was permanent change was permanent change was permanent change was permanent change was permanent change was permanent change was permanent change was permanent change was permanent change was permanent change was permanent change was permanent change was permanent change was permanent change was permanent change was permanent change was permanent change was permanent change was permanent change was permanent change was permanent change was permanent change was permanent change was permanent permanent change was permanent permanent change</s>\n",
      "########\n",
      "*******\n",
      "question: where did many colonial kingdoms originate?\n",
      "answer: europe\n",
      "choices: ['saudi arabia', 'europe', 'united states', 'book', 'monarchy']\n",
      "common expl list: ['Many colonial kingdoms in the past can be traced all the way back to their roots in Europe.', 'Colonies and kingdoms often originate in the mother countries of the colonial or kingdom builders, e.g., entities in the United Kingdom and the Netherlands.']\n"
     ]
    },
    {
     "name": "stderr",
     "output_type": "stream",
     "text": [
      "\r",
      " 17%|███████████████████████████▉                                                                                                                                    | 172/986 [3:24:34<14:27:18, 63.93s/it]"
     ]
    },
    {
     "name": "stdout",
     "output_type": "stream",
     "text": [
      "generated explanation: <pad> <extra_id_0> Europe is a land of great natural beauty and wealth. It is a land of great cultural diversity and diversity, and it is a place of cultural diversity that is a great place to start a new civilization. It is a place where people from all over the world can see and feel the world. It is a place that is a place to explore and explore. It is a place of cultural diversity and diversity, and a place that is well-suited to exploring and preserving their cultures and traditions. It is also a place to explore and to enjoy the culture of the world. It is a place to visit and to explore the history of the colonial cultures, and it is also a place to visit and to explore the culture of the world. The colonists can also enjoy the best of Europe. The Europeans can also enjoy the cultural and cultural diversity of cultures, and the cultural diversity of cultures. The colonial cultures and cultures. The European colonial world. The Europeans are a place to visit and to visit the Europeans are also a place to visit the European culture. The Europeans are also a place to visit the world's cultural heritage and cultural heritage. The European civilizations are also a place to explore the culture and the history of the European continents and cultures of the European culture. The Europeans are a great diversity and culture, and the European culture, and the cultures of the world, and the European continent. The European continents and cultures of the European continents are a place to visit the European continents and cultures of the European continents and cultures. Europe is a place to visit the European continents and cultures and cultures of the European continents and cultures and cultures, and the European continents and cultures, and cultures, and cultures, and cultures, and cultures, and cultures, and cultures, and cultures, and cultures, cultures, cultures, and cultures, and cultures, cultures, and cultures, cultures, and cultures, cultures, cultures, and cultures, cultures, and cultures, cultures, and cultures, cultures, cultures, languages, cultures, cultures, and cultures, cultures, and cultures, cultures, cultures, cultures, cultures, cultures, cultures, cultures, cultures, cultures, cultures, cultures, cultures, cultures, cultures, cultures, and cultures, cultures, cultures, cultures, cultures, and cultures, cultures, cultures, cultures, cultures, cultures\n",
      "########\n",
      "*******\n",
      "question: Where can a television be stored and hidden?\n",
      "answer: cabinet\n",
      "choices: ['apartment', 'living room', 'bedroom', 'kitchen', 'cabinet']\n",
      "common expl list: ['A cabinet is a piece of furniture that is used to store items, and televisions are large, and thus, can be stored in cabinets.', 'A television can be stored inside a cabinet.']\n"
     ]
    },
    {
     "name": "stderr",
     "output_type": "stream",
     "text": [
      "\r",
      " 18%|████████████████████████████                                                                                                                                    | 173/986 [3:25:46<14:58:43, 66.33s/it]"
     ]
    },
    {
     "name": "stdout",
     "output_type": "stream",
     "text": [
      "generated explanation: <pad> <extra_id_0> A television can be stored and hidden in a cabinet in a cabinet. Cabinets are places where a television can be hidden and hidden. Cabinets are places where televisions can be stored and hidden in a variety of ways. They are also places where a television can be stored and hidden. They are also often used to store and hide televisions in a variety of ways. They are also places where a television can be stored and hidden. They are also places where a television can be stored and hidden. They are also places that can be hidden away in a cabinet or a storage area, which can be used to store a television can be used to store and hide a television can be used to store and hide in a safe. They are also places where a televisions can be used to store them in a cabinet. This is because they can be used to store televisions in a safe place to store and hide a television can be used to keep a safe and secure. They can also be used to keep them safe from other items such as books, tape, or other items that are stored in a cabinet. They can be kept in a cabinet. They can be used to keep a safe place to keep them safe. They can be used to store the televisions are kept in a safe place and can be used to store and hide the televisions inside the cabinet. They can be used to keep them in a safe place. They can be used to keep them in a safe. They can be used to keep them safe and secure. They can be used to keep them safe and secure. They can be used to keep them safe and secure in a safe place to keep them away from the public safe and secure. They can be used to store them in a safe and secure and can be used to keep them in a cabinet. They can be used to keep them in a safe. They can be stored in a cabinet, which can keep them safe, and can be used to keep them safe. They can also be used to keep them away from the elements, and can be used to keep them safe and secure and can be used to keep them from the safety of the safety. They can also be used to keep them away from the television safe. They can also be used to keep them safe and secure. They can also be used to keep them inside a television in a safe\n",
      "########\n",
      "*******\n",
      "question: what can get a prisoner in more trouble?\n",
      "answer: attempt to escape\n",
      "choices: ['dream of freedom', 'attempt to escape', 'do time', 'fast for days', 'scape jail']\n",
      "common expl list: ['Prisoners serve time, and when a prisoner attempts to escape, they generally serve extra time.']\n"
     ]
    },
    {
     "name": "stderr",
     "output_type": "stream",
     "text": [
      "\r",
      " 18%|████████████████████████████▏                                                                                                                                   | 174/986 [3:25:48<10:35:00, 46.92s/it]"
     ]
    },
    {
     "name": "stdout",
     "output_type": "stream",
     "text": [
      "generated explanation: <pad> <extra_id_0> A prisoner can be more vulnerable to a violent environment if he or she is not able to escape from the prisoner he or she is in. The prisoner may be in a state of indifference to the laws of the country, which are governed by laws such as the United States Constitution, and the United States Constitution. The prisoner may also be tempted to escape if he or she is unable to escape. The prisoner may also be tempted to escape if they are not in a prisoner’s way.</s>\n",
      "########\n",
      "*******\n",
      "question: The crab was separated from his compatriots out in the sea, where was he likely to be?\n",
      "answer: tide pool\n",
      "choices: ['fish market', 'cooking pot', 'tide pool', 'beach sand', 'farm']\n",
      "common expl list: ['Tide pools are regions of shallow, pooled water that are very exposed to air, making them appealing to crabs that have to breathe.']\n"
     ]
    },
    {
     "name": "stderr",
     "output_type": "stream",
     "text": [
      "\r",
      " 18%|████████████████████████████▌                                                                                                                                    | 175/986 [3:26:06<8:35:54, 38.17s/it]"
     ]
    },
    {
     "name": "stdout",
     "output_type": "stream",
     "text": [
      "generated explanation: <pad> <extra_id_0> The crab was separated from his compatriots out in the sea out in the sea, where was he likely to be? The crab was separated from his compatriots out in the sea in the tide pool. The crab was separated from his compatriots out in the sea in the summer, and was likely to be in a tide pool. The crab was likely to be in a watery tide pool, a place where the crab was not exposed to the tides. The crab was able to escape the tide pool and was able to swim. The crab was able to escape the tide pool and swims in the water and swims and dives and dives and dives and dives and dives and dives and dives and dives and dives and dives and dives and dive dives and dive dives and dive dives and dive dives and dives and dive dives and dives and dives and dives and dive dives and dives and dives and dives and dives and dives and dives and dives and dives and dives and dives and dives and dives and</s>\n",
      "########\n",
      "*******\n",
      "question: What item is smelted out of minerals on the country side?\n",
      "answer: metal\n",
      "choices: ['urban city', 'france', 'metal', 'grass', 'state']\n",
      "common expl list: ['Metals are extracted from mineral mines out in the country side.', 'Products made by smelters tend to be made out of metals, and mining occurs at the country side.']\n"
     ]
    },
    {
     "name": "stderr",
     "output_type": "stream",
     "text": [
      "\r",
      " 18%|████████████████████████████▋                                                                                                                                    | 176/986 [3:26:09<6:15:04, 27.78s/it]"
     ]
    },
    {
     "name": "stdout",
     "output_type": "stream",
     "text": [
      "generated explanation: <pad> <extra_id_0> Metal is melted from the earth into a metal. This is because the earth is melted into the metal and the metal is melted into the earth. The country is a melting country, and the country is a melting melting place. This melting process is called a melting process. It is a process that is a melting point for the country. It is a process that is a melting point for the country. It is a melting point where the country is melted into metals. It is a melting point is a process that is melting melting point. It is a process that is melting point for the country, and it is a melting point, melting point for the country's melting point is a melting point for the country's melting point is a process that is a process that is a melting point for the country</s>\n",
      "########\n",
      "*******\n",
      "question: Where is a good place to store a saw?\n",
      "answer: toolbox\n",
      "choices: ['hardware store', 'tool shed', 'storage', 'tool kit', 'toolbox']\n",
      "common expl list: ['A toolbox is a container for tools, and a saw is a tool.', 'One might likely store a saw in a box with other tools.']\n"
     ]
    },
    {
     "name": "stderr",
     "output_type": "stream",
     "text": [
      "\r",
      " 18%|████████████████████████████▋                                                                                                                                   | 177/986 [3:27:39<10:24:52, 46.34s/it]"
     ]
    },
    {
     "name": "stdout",
     "output_type": "stream",
     "text": [
      "generated explanation: <pad> <extra_id_0> A saw is a tool that is used to store a saw in a toolbox. A saw is a good place to store a saw because it is a toolbox. A saw is a good place to store a saw in a toolbox. A sawbox is a toolbox, which is a great place to store a saw. A saw is a good place to store a saw, as it is a great place to store a saw. A saw is a good place to store a good place to store a saw, and it is a toolbox. A saw is a good place to store a saw and a saw to store a saw in a toolbox is a good place to store a saw in a toolbox is a good place to store a saw to store a saw. A toolbox is a good place to store a good place to store a saw and a good place to store a saw is a good place to store a saw is a good place to store a saw. Generally speaking, a good place to store a good place to store a saw can be used to store a saw. A toolbox is a good place to store a good toolbox is a good place to store a good place to store a good place to store a good place to store a saw. It is also a good place to store a saw that can be used to store tools and tools, and it is a good place to store a saw, it is a good place to store a saw. A toolbox is a good place to store tools and other tools and other tools and other items such as a saw, and it is a good place to store a saw, and it is a toolbox to store a saw, and it is also a good place to store a saw, and it is a good place to store a good place to store a saw, and it is a good place to store a good place to store a saw. A good place to store a good place to store a saw, and it can be used to store it can be used to store a saw. A toolbox is a good place to store a saw in a\n",
      "########\n",
      "*******\n",
      "question: The jellyfish was pushed along by the water.  It was caught in what?\n",
      "answer: current\n",
      "choices: ['store', 'book', 'park', 'current', 'lake']\n",
      "common expl list: [\"Currents are fast-moving water, and jellyfish can't swim very well, so if caught in a current, it's likely to be being pushed along by the current.\", 'Jellyfish are often found in oceans, and oceans have currents.']\n"
     ]
    },
    {
     "name": "stderr",
     "output_type": "stream",
     "text": [
      "\r",
      " 18%|████████████████████████████▉                                                                                                                                   | 178/986 [3:28:49<12:01:52, 53.60s/it]"
     ]
    },
    {
     "name": "stdout",
     "output_type": "stream",
     "text": [
      "generated explanation: <pad> <extra_id_0> The jellyfish was caught in the shallows of the ocean. It was caught in the shallows of the ocean. It was caught in the water by a jellyfish. It was caught in the depths of the ocean. It was caught in the water by a jellyfish that was caught in the shallows. It was caught in the water by a jellyfish that was caught in the water. It was caught in the water by a jellyfish that was caught in the shallows of the ocean. It was caught in the shallows. The jellyfish was pushed along by the water. The jellyfish was caught in the water by the jellyfish was caught in the water and was pushed along by the jellyfish was a jellyfish. The jellyfish was caught in the water and was able to swim in the water. The jellyfish were able to swim in the jellyfish was able to swim in the water. The jellyfish was able to swim in and out of the water. The jellyfish was able to swim in the water and was able to swim in the jellyfish was able to swim in the water. The jellyfish was able to swim in the water. The jellyfish was able to swim in the jellyfish was able to swim in the water. It was able to swim in the water to swim in the water and was able to swim in the jellyfish. The jellyfish was able to swim in the jellyfish. The jellyfish was able to swim in the water by the jellyfish was able to swim in the jellyfish was able to swim in the water. The jellyfish was able to swim in the water. It was able to swim in the jellyfish to swim in the jellyfish to swim in the jellyfish to swim in the water to catch jellyfish to swim in the jellyfish to swim in the jellyfish to swim in the jellyfish to swim in the jellyfish to fish. It was able to swim in the water to swim in the water to swim in the water to catch the water to catch jellyfish to fish jellyfish to catch the jellyfish to catch jellyfish to fish, and it was caught in the water to catch jellyfish to catch jellyfish to catch jellyfish to catch jellyfish to catch jellyfish to catch the jellyfish to catch jellyfish to catch jellyfish to catch the jellyfish to catch jellyfish to catch jelly\n",
      "########\n",
      "*******\n",
      "question: The dime store was full of old donated goods, it reminded the customer of the what?\n",
      "answer: past\n",
      "choices: ['strip mall', 'past', 'shopping center', 'old movie', 'india']\n",
      "common expl list: ['Dime stores were more popular years ago than today. The sight of the old goods reminded the person of the past.']\n"
     ]
    },
    {
     "name": "stderr",
     "output_type": "stream",
     "text": [
      "\r",
      " 18%|█████████████████████████████                                                                                                                                   | 179/986 [3:30:01<13:12:42, 58.94s/it]"
     ]
    },
    {
     "name": "stdout",
     "output_type": "stream",
     "text": [
      "generated explanation: <pad> <extra_id_0> The dime store was filled with old donated goods, which were re-used as gifts. The store was filled with old donated goods, which were re-used as a souvenir. The store was filled with old donated goods, which were then re-used as gifts. The dime store was filled with old donated goods, which were re-used to make a souvenir of the store. The dime store was filled with old donated items, which were then donated to the dime store for their use. The store was filled with old donated goods, which were re-used to make a souvenir of the old items. The store was filled with old donated items reminded the customer of the past. The dime store was full of old items. The dime store was a reminder of the past. the customer was able to find the customer a nostalgic feeling of the past. The customer was reminded the customer of the past. The customer was reminded the customer of the past. The customer was reminded of the past. The customer was reminded of the customer to return the customer to the customer to the customer's memories of the memories of the past, and the customer's memories of past times. The customer was able to find a time and reminded them of the past. The store was filled with old donated items, and the customer of the past. During the customer was able to return items were able to remember that the customer that the old items were not as old items were not as a gift. The dime store was a time when the customer. The dime store was filled with old donated goods and the old, but it was filled with old donated goods. The old items were donated items were a reminders of the old items that were not a reminder of the past and present. The dime store was filled with old items and the dime store was filled with old items, which were donated goods were donated to the dime store was filled with the old dime store was filled with old donated items. The dime store was filled with old donated goods. The dime store was a reminder of the old items, which were donated to the old items. The dime store was filled with old donations were donated to the dime store was filled with old donated to the old items, which were donated to the store was filled with old items that were donated to the dime\n",
      "########\n",
      "*******\n",
      "question: Where would you put a saw if you do not need to use it soon and your house only has one floor?\n",
      "answer: tool shed\n",
      "choices: ['logging camp', 'in the vehicle', 'tool shed', 'toolbox', 'basement']\n",
      "common expl list: ['The shed is a good place for storing tools when those tools are not in use.', 'A tool shed is a common structure for organizing and storing tools that are infrequently used.', \"A tool shed is a place where tools are stored, and thus, a good place to store a saw if you don't need to use it soon.\"]\n"
     ]
    },
    {
     "name": "stderr",
     "output_type": "stream",
     "text": [
      "\r",
      " 18%|█████████████████████████████▏                                                                                                                                  | 180/986 [3:31:29<15:11:49, 67.88s/it]"
     ]
    },
    {
     "name": "stdout",
     "output_type": "stream",
     "text": [
      "generated explanation: <pad> <extra_id_0> A tool shed is a small tool shed that is designed to store tools and supplies. It is a tool shed that is designed to be used when you need to use a saw. It is designed to be used in a variety of ways, including tooling, cutting, and storing tools. It is a tool shed that can be used to store tools and supplies. It is a tool shed that can hold tools and supplies. It can also be used to store tools and supplies. It can also be used to store tools and supplies. It can also be used to store tools and supplies, such as a tool shed can also be used to store tools and tools. It can also be used to store tools and materials for tools and supplies. It can also be used to store tools and supplies for storing tools and supplies. It can also be used to store tools and supplies for tools and supplies. It can also be used to store tools and supplies for tools and supplies for a tool shed can be used to store tools and supplies for other household tools. It can be used to store tools and supplies, such as a tool shed can be used to store tools and materials, such as a tool shed can also be used to store tools and supplies. The tool shed can be used to store tools and supplies for tools and materials for storing tools and materials. The tool shed can also be used to store tools and materials for storing tools and other tools. It can be used to store tools and other household tools such as tools and other materials. It can also be used to store tools and materials, such as nails, nails, screws, and other items. It can be used to store your tools and other items that can be used to store tools and other items that can be used to store and transport tools and materials, such as tools, such as a tool shed can be used to store tools and other materials. It can be used to make it easier to store tools and other materials. It can also be used to store tools and other materials. It can also be used to store tools and other tools that can be used to make tools. It can be used to store tools, and can be used to store tools, such as tools, such as a tool shed can also be used to store tools and other tools, such as a tool shed can be used to store tools, such as a tool shed can also be used to store tools, such as tools\n",
      "########\n",
      "*******\n",
      "question: A person might wear his yarmulke when going to where?\n",
      "answer: synagogue\n",
      "choices: ['demonstration', 'concert', 'garage', 'bus stop', 'synagogue']\n",
      "common expl list: ['Synagogue is a place commonly visited by religious Jews. Men wear yarmulkes (skullcaps) because faith requires that they uncover their heads when going before God.']\n"
     ]
    },
    {
     "name": "stderr",
     "output_type": "stream",
     "text": [
      "\r",
      " 18%|█████████████████████████████▎                                                                                                                                  | 181/986 [3:32:03<12:50:50, 57.45s/it]"
     ]
    },
    {
     "name": "stdout",
     "output_type": "stream",
     "text": [
      "generated explanation: <pad> <extra_id_0> A person might wear his yarmulke when going to a synagogue when going to a synagogue. It is a great way to get around the synagogue and see the synagogue. It is also a great way to get around the synagogue and see the synagogue. It is also a great way to see the synagogue and see the synagogue. It is also a great way to see the synagogue and see the synagogue when going to synagogue. It is also a great way to see the synagogue to see the synagogue. It is also a synagogue and see the synagogue to see the synagogue to see the synagogue and see the synagogue. It is a synagogue. It is a synagogue in a synagogue to see the synagogue to see the synagogue. It is also a synagogue to see the synagogue to see the synagogue to see the synagogue to see the synagogue to see the synagogue to see the synagogue to see the synagogue to see the synagogue to see the synagogue to see the synagogue to see the synagogue to see the synagogue to see the synagogue to see the synagogue to see the synagogue to see the syn</s>\n",
      "########\n",
      "*******\n",
      "question: Someone takes up exercising to improve their what\n",
      "answer: physical fitness\n",
      "choices: ['losing weight', 'physical fitness', 'breathlessness', 'muscles', 'lost weight']\n",
      "common expl list: ['Typically people are motivated to exercise in order to become fit.', 'Exercising is a way to improve physical fitness.', 'Exercising helps people build their physical fitness.']\n"
     ]
    },
    {
     "name": "stderr",
     "output_type": "stream",
     "text": [
      "\r",
      " 18%|█████████████████████████████▌                                                                                                                                  | 182/986 [3:33:18<14:04:18, 63.01s/it]"
     ]
    },
    {
     "name": "stdout",
     "output_type": "stream",
     "text": [
      "generated explanation: <pad> <extra_id_0> They take up exercise to improve their health and their physical health. They take up exercise to improve their health and their overall health. They take up exercise to improve their overall health and wellbeing. They take up exercise to improve their overall health and well-being. They take up exercise to improve their overall health and wellness. They take up exercise to improve their overall health and wellbeing. They take up exercise to improve their overall health and wellness. They take up exercise to improve their physical health and well-being. They take up exercise to improve their overall health and well-being. They take up exercise to improve their overall health and wellbeing. They also take up exercise to improve their overall health and wellbeing. They take up exercise to improve their overall health and wellbeing. They also take up exercise to improve their overall health and well-being. They also take up exercise to improve their overall health and well-being. This helps them to improve their overall health and fitness. They also take up exercise to improve their overall health and fitness. They also take up exercise to improve their overall health. They also take up exercise to improve their overall health and wellness. They also take up exercise to improve their overall fitness. They also take up exercise to improve their overall health and fitness. They also take up physical fitness. They also take up exercise to improve their overall fitness. They also increase their physical activity to improve their overall health and reduce their physical activity. They also increase their physical fitness and reduce their ability to improve their mental and physical activity to improve their physical activity to improve their mood. They also take up exercise to improve their ability to improve their physical fitness. They also take up exercise to improve their physical activity to improve their overall fitness. They also exercise to improve their overall health and fitness by enhancing their overall fitness and maintain their overall health and wellness. They also increase their fitness to improve their ability to maintain their sense of wellbeing. They also increase their overall health and wellbeing. They also increase their overall health. They also increase their energy levels. They also increase their ability to improve their physical activity. This is because it is important to maintain their health and fitness. They also increase their overall health and wellbeing. They increase their overall health. They also increase their energy levels. They also increase their mental health. They also increase their ability to maintain their physical activity levels. They also increase their overall health and improve their overall health and fitness. They also increase their ability to maintain their overall health and wellbeing. They also increase their ability to maintain\n",
      "########\n",
      "*******\n",
      "question: Where could you see a sloth that is not real?\n",
      "answer: picture book\n",
      "choices: ['bad dream', 'picture book', 'another place', 'universe', 'zoo']\n",
      "common expl list: ['Reality is generally fractured into \"real\" and \"fusion.\" Sloths are real, meaning they exist (in some form) in reality; sloths are not real (in the way depicted) in a picture book.']\n"
     ]
    },
    {
     "name": "stderr",
     "output_type": "stream",
     "text": [
      "\r",
      " 19%|█████████████████████████████▋                                                                                                                                  | 183/986 [3:34:02<12:44:20, 57.11s/it]"
     ]
    },
    {
     "name": "stdout",
     "output_type": "stream",
     "text": [
      "generated explanation: <pad> <extra_id_0> A sloth is a creature that is not real and is a part of the human family. It is a small, but beautiful animal that is found in the wild. It is a large, rounded animal that is not real and is a part of the family's family. It is a small animal that is not real and is not a common sight for humans to see. It is a small animal that is not real and is not a common sight in the wild. It is a small, but a great way to see a sloth that is not real in the picture book that is not real and is a small, but still a large sloth that is not a small animal that is not real. It is a small animal that is not real and is a sloth is a small animal that is not real and can be seen in the picture book that is not real and can be seen in the picture book. This is because it is a small sloth is a small, rounded, round, round, round, round, and a small sloth is a small, and it is a small, and it is a small, and it is a small enough to hold its own. It is a small enough to hold a small enough to be a small enough to hold its own. It is a small enough to be a small enough to hold its own. It is a small enough to be a large enough to be a small enough to be a small enough to be a small enough to be able to be able to be able to be able to be able to be able to be able to be able to be able to be able to be able to be able to be able to be able to be able to be able to be able to be able to be able to be able to be </s>\n",
      "########\n",
      "*******\n",
      "question: Where are seats often plush?\n",
      "answer: opera\n",
      "choices: ['rest area', 'theater', 'hockey game', 'classroom', 'opera']\n",
      "common expl list: ['Plush seats are generally found in more comfortabe, well-off establishments, and opera is often performed in such, less strict teents of, elegance of the decor.', 'Opera is a high-class form of entertainment, and thus, the seats are often plush.']\n"
     ]
    },
    {
     "name": "stderr",
     "output_type": "stream",
     "text": [
      "\r",
      " 19%|██████████████████████████████                                                                                                                                   | 184/986 [3:34:05<9:06:25, 40.88s/it]"
     ]
    },
    {
     "name": "stdout",
     "output_type": "stream",
     "text": [
      "generated explanation: <pad> <extra_id_0> Where are seats often plush? Opera is a great place to enjoy a great time of the year. Opera is also a great place to enjoy a variety of entertainment. It is also a great way to enjoy a concert by watching the music and seeing the world in a new light. It is also a great way to see the world through the eyes of the audience. It is also a great place to see the show and see the world around you. It is also a great way to see the world from the stage, and it is a great way to see the world of music. It is also a great way to see the sights of the theatre, and it is also a great way to see the world through the music and the world of music.</s>\n",
      "########\n",
      "*******\n",
      "question: The comforter was used constantly and treaded upon by everyone, where should it be placed?\n",
      "answer: washing machine\n",
      "choices: ['garbage', 'linen closet', 'bedroom', 'washing machine', 'livingroom']\n",
      "common expl list: ['When you use your comforter (or any other high-traffic fabric) often, you ought to wash it often too. Therefore it should be kept in the washing machine, to enable quick washing.', 'Linens are often used (i.e., the comforter) and washed frequently.', 'The comforter was used constantly, so it should be washed frequently. Linen closets are where people store their bed sheets and blankets.']\n"
     ]
    },
    {
     "name": "stderr",
     "output_type": "stream",
     "text": [
      "\r",
      " 19%|██████████████████████████████                                                                                                                                  | 185/986 [3:35:32<12:10:11, 54.70s/it]"
     ]
    },
    {
     "name": "stdout",
     "output_type": "stream",
     "text": [
      "generated explanation: <pad> <extra_id_0> The comforter was used constantly and treaded on by everyone, where should it be placed? The washing machine was used to wash the comforter. The washing machine was used to clean the comforter and clean it with soap. The comforter was also used to clean the clothes and clean the carpet. The comforter was used to wash the clothes and clean the sheets. The comforter was used to clean the clothes and clean the sheets. The washing machine was used to clean the clothes and clean the sheets. The comforter was used to keep the comforter's surface. The washing machine was used to clean the carpet, and washed the clothes and clean the carpet, and was used to wash the clothes and wash the sheets. The washing machine was used to clean the sheets and clean the sheets. The washing machine was used to wash the carpet, and wash the sheets, and washes and washes. The comforter was used to clean the sheets and the sheets. The washing machine washes the sheets and sheets in a regular basis for washing the carpet and clean the sheets. The washing machine was used to clean the sheets, and washes and washes and clean the sheets. The machine washes the sheets, and the sheets. The comforter was used to clean the sheets and towels. The machine washes the sheets and towels. The machine washes the sheets and cleans the sheets. The machine was used to clean the sheets. The machine washes the sheets and the sheets and the sheets and the sheets. The machine was also used to clean the bed and the sheets and the sheets and the sheets were washes the sheets and the sheets. The machine washes the sheets and the sheets were machine washes the sheets and the sheets, the sheets and the sheets. The machine washes and dry, and the sheets and the sheets. The machine washes and cleans the sheets and the sheets and the sheets and the sheets were cleaned. The machine washes the sheets and the sheets were cleaned. The machine washes and washes the sheets and clean the sheets. The machine washes the sheets and the sheets and the sheets were cleaned. The comforter washes and washes every day. The machine was used to clean the comforter was used to wash the comforter washes and clean the comforter washes and cleans the comforter washes and clean\n",
      "########\n",
      "*******\n",
      "question: Joe bought a ficus.  He thought it would look good in what part of his home?\n",
      "answer: family room\n",
      "choices: ['family room', 'tropical forest', 'flower garden', 'movie theater', 'hair salon']\n",
      "common expl list: [\"The ficus is an indoor plant, such as a plant one would have in one's family room. The family room is the ideal location for an indoor plant like a houseplant.\"]\n"
     ]
    },
    {
     "name": "stderr",
     "output_type": "stream",
     "text": [
      "\r",
      " 19%|██████████████████████████████▏                                                                                                                                 | 186/986 [3:36:47<13:32:03, 60.90s/it]"
     ]
    },
    {
     "name": "stdout",
     "output_type": "stream",
     "text": [
      "generated explanation: <pad> ficus is a small, lightweight, and easy to use, and it is a great addition to any home. It is a great addition to any home, especially if it is a family room. Its design is a great choice for a family room or kitchen, as it is a great way to add a touch of class to a room. It is also a great way to add value to a room. It is a great addition to a home, as it is a great way to add value to a room, or kitchen, it is a great way to add value to guests. It is also provides a room that is a family room. It is a great way to add value to a family room, as it is a great way to add value to a home. It is also a great way to add value to a family room, it is also a great way to add value to a family room, it is also a great way to add value to a home. It is a family room. It is a great way to add value to a home. It is a great way to add value to the home. It is a family room, and it is a great way to add value to a home, and it is a great way to add value to a home, and it is a great way to add value to a home. It is also a great way to add value to a home, and it would add value to a home, and it can be used to add value to a home, and it can also be used to add value to a family room, and it can be used to add value to a home. It can also add value to a home. It can also add value to a home’s value to a home’s value to the home. It can also add value to the home. It can also be used to add value to the value of itself. It can also be used to add value to the home. It can be used to add value to a home’s value to a home’s value to a home’s value to the home’s value to the value to the value to the value to the home. The ficus is a home’s value for money to the home\n",
      "########\n",
      "*******\n",
      "question: Family is always the best for devotion, but it is also nice if a person has what?\n",
      "answer: loyal friends\n",
      "choices: ['good review', 'headache', 'with cat', 'loyal friends', 'shoes']\n",
      "common expl list: [\"Because times may come when a person would like to go out and have fun with some friends, and it's nice if that person may have friends that he is faithful to.\", 'Loyal friends are always there for you, and they will always be devoted to you.', 'We may have devoted friends who would be there for us if we had need.']\n"
     ]
    },
    {
     "name": "stderr",
     "output_type": "stream",
     "text": [
      "\r",
      " 19%|██████████████████████████████▎                                                                                                                                 | 187/986 [3:38:11<15:00:46, 67.64s/it]"
     ]
    },
    {
     "name": "stdout",
     "output_type": "stream",
     "text": [
      "generated explanation: <pad> <extra_id_0> A family member is the best person to have a family. Friends are the best thing to have when you are out and about. They are the best for your family. They are the best for your family, but they are also the best for friendship. They are the best for a person to have a good bond with their family and friends. They are the best for devotion and are the best for a person to have. They are the best for family, but they are also the best for a person to have. They are the best way to make new and different people to make new friends and family to make new friends and to make new people to make new friends and family to make new friends and family to make new friends. They are the best for a person to have a lasting friendship that will last a long time. They are the best for their friendships and to have a strong family. They are always happy to be apart of each other. They are also the best friendlier and more loyal and more active. They are the best for them. They are the best for themselves. They are the best for them. They are the best friend. They are the best for their friendships and family. They are the best example, they are the best for the relationship and they are the best for the relationship. They are the best for the relationship. They are the best for the person to be around. They are the best for the person they are the best for the person to be able to keep in touch with them. They are the best for the family. They are the best for the person to be able to keep in touch with them. They are the best for the relationship with them. They are the best for the family. They are the best way to keep in touch with each other, they are the best for the family. They are the best for the most important thing to be able to keep in touch with them and they are the best for the person they are the best for the person they are the best for the relationship. They are the best for the person they have what they are the best for the most. They are the best for the most. They are the best for the person they are the best for the relationship. They are the best for a person they are the best for the person they can be the best for the day to day. They are the best for the best for them to be able to spend time together\n",
      "########\n",
      "*******\n",
      "question: Rap is not usually associate with what music often performed by an orchestra?\n",
      "answer: classical\n",
      "choices: ['folk', 'rock', 'good music', 'country music', 'classical']\n",
      "common expl list: ['Rap is generally associated with hip-hop music, which is normally performed by a single artist. Orchestras tend to play classical music, which often is performes with real instruments, rather than manufactured ones.']\n"
     ]
    },
    {
     "name": "stderr",
     "output_type": "stream",
     "text": [
      "\r",
      " 19%|██████████████████████████████▌                                                                                                                                 | 188/986 [3:38:38<12:20:01, 55.64s/it]"
     ]
    },
    {
     "name": "stdout",
     "output_type": "stream",
     "text": [
      "generated explanation: <pad> <extra_id_0> Rap is not typically associated with music performed by an orchestra. It is a form of music that is often performed by an orchestra, such as the New Orleans Philharmonic Orchestra, or the New Orleans Philharmonic Orchestra. The genre is a form of classical music that is often associated with the music of the classical era. It is also a form of music that is often performed by an orchestra. It is a genre that is often associated with a variety of musical styles, styles, and genres. Rap is a form of music that is also a form of music that is not necessarily a form of music that is a form of music that is not necessarily a musical genre, and is also a form of music that is often performed by an orchestra, and is often a musical form that is often performed by an orchestra. It is often a form of music that is often played by orchestral music, which is often performed by an orchestra, or a form of music that is often associated with a genre of music that is often a form of music that is often performed by an orchestra, or a genre of music that is not necessarily associated with a form of music that is not necessarily associated with a genre of music that is not necessarily associated with a particular genre of music that is not necessarily associated with a particular genre of music that is not </s>\n",
      "########\n",
      "*******\n",
      "question: At what structure can you see people you use a puck professionally?\n",
      "answer: hockey rink\n",
      "choices: ['hockey rink', 'locker room', 'sporting goods store', 'used in hockey game', 'teachers']\n",
      "common expl list: ['Pucks are commonly used in ice hockey, which is a professional activity.']\n"
     ]
    },
    {
     "name": "stderr",
     "output_type": "stream",
     "text": [
      "\r",
      " 19%|██████████████████████████████▊                                                                                                                                  | 189/986 [3:38:54<9:39:28, 43.62s/it]"
     ]
    },
    {
     "name": "stdout",
     "output_type": "stream",
     "text": [
      "generated explanation: <pad> <extra_id_0> At a hockey rink, you can see people who use a puck professionally. At a hockey rink, you can see people who use a puck at a hockey game. At a hockey rink, you can see people who use a puck professionally. The puck is a piece of equipment that is used to make a puck. The puck is a piece of equipment that is used to make ice hockey. The puck is a very small piece of equipment that is used to make ice hockey. The puck is used to make hockey hockey players and their families play hockey together. The puck is used to make ice hockey is used to make the puck is used to make the puck is used to make ice hockey equipment to make it easier to make it easier to make it easier to make it easier to move around the ice to make it easier to move around the ice to make it easier to make it easier to move around the puck to move around the ice to make it easier to move around the ice to make it easier to move around the puck better</s>\n",
      "########\n",
      "*******\n",
      "question: Even when not in flight a bald eagle likes to have a lay of the land, because of this you'll see them perched up where?\n",
      "answer: high places\n",
      "choices: ['colorado', 'natural habitat', 'everglades', 'high places', 'tree']\n",
      "common expl list: ['Eagles like to be high up, so they can see a large area.']\n"
     ]
    },
    {
     "name": "stderr",
     "output_type": "stream",
     "text": [
      "\r",
      " 19%|██████████████████████████████▊                                                                                                                                 | 190/986 [3:40:05<11:29:24, 51.97s/it]"
     ]
    },
    {
     "name": "stdout",
     "output_type": "stream",
     "text": [
      "generated explanation: <pad> <extra_id_0> A bald eagle likes to have a lay of the land and likes to have high places to lay of the land. This is because they like to have a lay of the land and like to have a lay of the land. This is because they like to have a lay of the land and like to have a lay of the land. They like to have a lay of the land and like to have a lay of the land. This is because they like to have a lay of the land and have a lay of the land. This is because they can be seen from the ground up, they can see the land from the ground. This is because they can see the ground. The bald eagles are able to see the sky from the land. The land is a great place to rest and have a place to rest. The bald eagles like to have a lay of the land to rest and rest and to have a lay of the land to rest and to feed on the ground and to lay of the land to rest and to be able to lay of the land to rest and to rest and to rest and to be able to rest and to rest. The land is a great place to lay of the land to rest and to rest and to rest and to rest and to rest and to rest and rest and to rest and to rest. The bald eagles like to be able to lay of the land and to be able to lay of the land and to rest and to rest and to rest and to rest and to rest and to rest and to rest and to rest and to rest and to rest and to rest and to rest and to rest and to rest and to rest and to rest and to rest and to rest and to rest and to rest and to rest and to rest and to rest and to rest and to rest and to rest. To be sure, the bald eagles like to be able to eat and to rest and to rest and to rest and to rest and to rest and to rest and to rest and to rest and to rest and to rest and to rest and to recover. To be sure to be safe. To be safe and secure. To be safe and secure, bald eagles like to be safe. To be safe and secure, they can be easily accessible, they can be\n",
      "########\n",
      "*******\n",
      "question: When is good time for garlic bread?\n",
      "answer: dinner\n",
      "choices: ['refrigerator', 'dinner', 'jail', 'supermarket', 'going on a date']\n",
      "common expl list: ['Typical garlic bread is served with a maincourse and wine or other alcoholic beverage, and both are commonly served with dinner.', 'Garlic bread is often served with dinner.']\n"
     ]
    },
    {
     "name": "stderr",
     "output_type": "stream",
     "text": [
      "\r",
      " 19%|███████████████████████████████▏                                                                                                                                 | 191/986 [3:40:06<8:06:16, 36.70s/it]"
     ]
    },
    {
     "name": "stdout",
     "output_type": "stream",
     "text": [
      "generated explanation: <pad> <extra_id_0> When is the best time to make garlic bread? When is the best time to make garlic bread? When is the best time to make garlic bread? When is the best time to make garlic bread? When is the best time to make garlic bread? When is the best time to make garlic bread? When is the best time to make garlic bread? When is the best time to make garlic bread?</s>\n",
      "########\n",
      "*******\n",
      "question: Where is the sky fake?\n",
      "answer: planetarium\n",
      "choices: ['shed', 'atmosphere', 'photo', 'outdoors', 'planetarium']\n",
      "common expl list: ['Planetariums are places built to simulate the sky indoors; the opposite of outdoors.', 'Planetariums are buildings that simulate the sky.']\n"
     ]
    },
    {
     "name": "stderr",
     "output_type": "stream",
     "text": [
      "\r",
      " 19%|███████████████████████████████▎                                                                                                                                 | 192/986 [3:40:55<8:55:15, 40.45s/it]"
     ]
    },
    {
     "name": "stdout",
     "output_type": "stream",
     "text": [
      "generated explanation: <pad> a fake planetarium is a fake planet that is a fake planet that is a fake planet that is a fake planet, and is a fake planet. The fake planetarium is a fake planet that is a fake planet that is a fake planet, and is a fake planet. It is a fake planet that is fake because it is a fake and is not real. It is also fake because it is a fake, and it is fake to look at it. It is a fake and the fake planetarium is a fake and is fake, and is fake enough to look like a fake planet, which is also a fake, and it is fake, it is fake and fake, and fake, and fake, and fake, and fake, and fake, and fake, fake and fake, and fake, fake and fake, fake and fake. This is because it is fake and fake, and fake, and fake, and fake, and fake. It is not fake, and it is not fake because it is fake, and fake, and fake, and fake, and fake, and fake, and fake, and fakes are fake, and fake, fake, and fake, and fake, and fake, and fake, and fake, and fake, and fake, and fake, and fake, and fake, and fake, and fake, and fake, fake, and fake, and fake, fake, and fake, and fake, and fake, and fake, and fake, and fake, and fake, and fake, and fake, fake, fake, fake, and fake, and fake, a fake, and fake, and fake, and fake, and fake, and fake, fake, and fake, fake, and fake, fake, fake, fake, fake, fake, fake, and fake, fake, fake, fake, fake, fake, and fake.</s>\n",
      "########\n",
      "*******\n",
      "question: Boats that aren't on the ocean travel across the surface of what?\n",
      "answer: lake\n",
      "choices: ['lake', 'ocean', 'tetrahedron', 'mirror', 'object']\n",
      "common expl list: [\"Lakes (and ponds) are bodies of fresh water surrounded by land, and boats exist on water, and thus, will tend to travel across lakes' surfaces.\"]\n"
     ]
    },
    {
     "name": "stderr",
     "output_type": "stream",
     "text": [
      "\r",
      " 20%|███████████████████████████████▌                                                                                                                                 | 193/986 [3:41:31<8:36:24, 39.07s/it]"
     ]
    },
    {
     "name": "stdout",
     "output_type": "stream",
     "text": [
      "generated explanation: <pad> <extra_id_0> Boats that aren't on the ocean travel across the surface of what? Lakes that are not on the ocean travel across the ocean to lakes, lakes, and rivers. They can also travel across the ocean to lakes, rivers, and rivers. They can travel across the ocean to lakes, rivers, and lakes, and rivers. They can also travel across the ocean to lakes, rivers, lakes, and other water sources. Lakes are a great way to explore the ocean, but they are also a great way to explore the ocean floor. Lakes are also great way to explore the ocean and the ocean. The ocean is a lake is a great way to explore the ocean from the ocean, but the ocean is a great way to the ocean. The ocean. The ocean is a great way to see the ocean from the ocean to the ocean from the ocean. The ocean is a great way to see the ocean from the ocean, and the ocean is a great way to see the ocean. The ocean is a great way to see the ocean is a great way to see the ocean from the ocean is a great way to see the ocean. The ocean is also a great way to see the ocean is a great way to see the ocean is a great way to see the ocean is to see the ocean, and the ocean is to see the ocean is to see the ocean from the ocean. The ocean is also a great way to see the ocean is to see the ocean and to see the ocean is to see the ocean.</s>\n",
      "########\n",
      "*******\n",
      "question: A small dog lived with a a woman who loved him. Where might he have lived?\n",
      "answer: person's house\n",
      "choices: [\"person's house\", 'dog house', 'canada', 'illinois', 'basket']\n",
      "common expl list: ['Animals who live with humans are often in their homes.', \"Dogs are often kept as pets, and pets are often kept in their owners' homes.\"]\n"
     ]
    },
    {
     "name": "stderr",
     "output_type": "stream",
     "text": [
      "\r",
      " 20%|███████████████████████████████▍                                                                                                                                | 194/986 [3:42:34<10:11:11, 46.30s/it]"
     ]
    },
    {
     "name": "stdout",
     "output_type": "stream",
     "text": [
      "generated explanation: <pad> <extra_id_0> A small dog lived with a woman who loved him. Person's house was a place where a small dog lived with a woman who loved him. The dog lived in a small house with a woman who loved him. The dog lived in a person's house in a crowded neighborhood. The dog lived in a small house in a small town, where he would have lived with a woman who loved him. The dog lived in a small house with a small dog, but it was also a small dog, and the woman's house was a place where the dog lived with a person who loved the dog and the dog was a place where the dog lived in a small house with a small dog. The dog was a small house in a small, fenced yard, fenced yard, and fenced yard. The dog was a small, but large, but large, and could be found in a small, but large, and it was a large, home in a small, and it was a small house. It was a small, but very small, and it was not a small, but it was not a small, and it was not a small, but it was not a small, but it was not a small, but it was not a small, and it was not a small, and it was a small, home. It was a small, home. It was a small, home. It was a small home. It was a home that was a small home. It was a small home. It was a small home. It was a small home that was a home that was a small home that was a small home that was a small space that was large, and it was a home that was a small home that was a small home. It was a small place that was a small home. It was a place that was a place that was a small home. It was a small house that was a small place that was a small dog. It was a small place that was small enough to accommodate the dog and it was a small house. It was a small dog. It was a small dog that lived with a small dog that could accommodate a small dog that could easily\n",
      "########\n",
      "*******\n",
      "question: There are usually four strings on what popular instrument?\n",
      "answer: guitar\n",
      "choices: ['trumpet', 'kite', 'quark', 'guitar', \"bird's nest\"]\n",
      "common expl list: ['A guitar is a stringed instrument with four strings.', 'Guitars have four strings.']\n"
     ]
    },
    {
     "name": "stderr",
     "output_type": "stream",
     "text": [
      "\r",
      " 20%|███████████████████████████████▊                                                                                                                                 | 195/986 [3:42:42<7:38:54, 34.81s/it]"
     ]
    },
    {
     "name": "stdout",
     "output_type": "stream",
     "text": [
      "generated explanation: <pad> <extra_id_0> On a guitar, there are usually four strings. This is because the instrument is a versatile instrument and is often accompanied by a guitar. It is also a popular instrument for people to enjoy music and to play. Guitars are generally a popular form of music, especially when playing music with a strong sound. They are also known as guitars with a strong sound and a strong sense of style. Guitars are often characterized by a wide range of features and features, such as a variety of styles, colors, and patterns, and they are often a variety of different styles. Guitars are also a great way to play a variety of music that can be used to play a variety of styles, colors, and patterns. They are also a popular way to play music. Guitars are a great way to play a variety of different sounds and styles. Guitars are also a variety of different styles and styles that are a variety of styles and styles.</s>\n",
      "########\n",
      "*******\n",
      "question: Where would you find a shelf with toys for young people learning?\n",
      "answer: school building\n",
      "choices: ['corner', 'school building', 'wall', 'library', 'bookstore']\n",
      "common expl list: ['School buildings house school libraries, in which you would find shelfs of toys, games and puzzle for students to use while in school.', 'A school building is a place where children learn, and so, a school building would have a shelf with toys for young people learning.']\n"
     ]
    },
    {
     "name": "stderr",
     "output_type": "stream",
     "text": [
      "\r",
      " 20%|████████████████████████████████                                                                                                                                 | 196/986 [3:42:45<5:28:48, 24.97s/it]"
     ]
    },
    {
     "name": "stdout",
     "output_type": "stream",
     "text": [
      "generated explanation: <pad> <extra_id_0> A shelf with toys for young people learning is a great way to keep young people engaged in learning. It is also a great place to find toys for young people to play and learn. It is also a great place to find a shelf with toys for young people to use to build their own classrooms. It is also a great place to find a shelf with toys for young people to play on. It is also a great place to store toys for young people to play with. The shelf is also a great place to store toys for young people to play on.</s>\n",
      "########\n",
      "*******\n",
      "question: What can you get after drinking too much alcohol?\n",
      "answer: sickness\n",
      "choices: ['become drunk', 'have fun', 'active', 'frequent urination', 'sickness']\n",
      "common expl list: [\"Alcohol (e.g., beer, wine, etc.) is a chemical that alters people's consciousness, making them generally feel unpleasant; subsequently, over-consumption can lead to the vomiting of one's content inside one's stomach. Hence, being\", \"Drinking too much alchohol can impair the body and, consequently, one's ability to think straight. It can also cause sickness.\", 'Alcohol is a diuretic, which means that it makes you urinate more frequently. This can lead to dehydration, which can cause sickness.']\n"
     ]
    },
    {
     "name": "stderr",
     "output_type": "stream",
     "text": [
      "\r",
      " 20%|████████████████████████████████▏                                                                                                                                | 197/986 [3:43:51<8:10:54, 37.33s/it]"
     ]
    },
    {
     "name": "stdout",
     "output_type": "stream",
     "text": [
      "generated explanation: <pad> <extra_id_0> After drinking too much alcohol, you may experience sickness, headaches, and other symptoms. This is because the body is unable to regulate the body's temperature, thereby reducing the temperature and reducing the amount of alcohol in the body. This is because the body is more likely to be able to regulate the temperature and thereby reduce the amount of alcohol in the body. This is because the body is unable to regulate the temperature and humidity of the water in the water. This is because the body is unable to regulate the temperature of the water, which can cause sickness, which can cause sickness. This can cause sickness. The body is unable to regulate the body to produce enough alcohol to maintain the water to keep the water in the water for a long time, which can lead to the water. The body can also lead to the body to become a healthy, healthy and conditioned, and the body to keep up with the body. The body is also able to keep up with the water, which can lead to a healthy amount of alcohol can also cause sicknessed out, which can cause the body to keep up to date. The body is also able to keep up with the changes in the body. This can also be able to keep up with the health of the body to cope with the sickness. The body to become a healthy and healthy state. The body is also a healthy state. The body's ability to cope with the effects of the sickness and the body’s ability to cope with the effects of the body’s natural healing process. The sicknesses are also able to heal and recover. The body's normal processes that are a healthy and the body's ability to heal the body's own internal healing process. The body's natural healing process and the body's natural healing process is a healthy body's natural healing process. The body's ability to heal itself and prevent the body's natural healing process and help heal itself. The body's natural healing process is a process and the body's internal healing process is a healthy balance and balance and the body's ability to heal and the body's ability to heal and to heal. The body's ability to heal and heal itself. The body's ability to recover and recover. The body's ability to recover and recover quickly and help the body to heal and adapt to the body's own internal\n",
      "########\n",
      "*******\n",
      "question: WHat is the central bank responding to when they are fighting inflation?\n",
      "answer: problems\n",
      "choices: ['deflation', 'problems', 'spend more', 'people', 'not noticeable']\n",
      "common expl list: ['In order to fight inflation, a central bank must respond to the problem, e.g., economic trouble, which if left alone, would cause inflation', 'Periods of inflation cause problems for businesses and people. The central bank may take steps to fight inflation (reduce it) to respond to this problem. Reducing inflation also solves the overall issues.', 'Inflation is a function of having too much money in the economy. This may cause problems.', 'Inflation is a problem, and the central bank is responding to it by fighting it.']\n"
     ]
    },
    {
     "name": "stderr",
     "output_type": "stream",
     "text": [
      "\r",
      " 20%|████████████████████████████████▎                                                                                                                                | 198/986 [3:44:54<9:51:09, 45.01s/it]"
     ]
    },
    {
     "name": "stdout",
     "output_type": "stream",
     "text": [
      "generated explanation: <pad> <extra_id_0> When the central bank is fighting inflation, it is a great way to help the economy get through the tough times. The central bank is often the first to respond when they are fighting inflation. The central bank is also a great way to help the economy get through the tough times. The central bank is also a great place to start a business and to help the economy. The central bank is also a great place to start when the economy is struggling to find a way to get through the tough times. The central bank is also able to help the economy. The central bank is also able to help the economy, and when they are able to find ways to get through difficult economic crisis. The central bankers are able to get through the day and night, and they can also help the economy. The central bank is also able to help the economy. The central bank is also able to manage the financial crisis. The central bank is also able to provide a variety of other factors that can affect the economy. The central bank can help the economy to deal with the risks of a crisis. The central bank can help to help to reduce the risk of inflation and to help to reduce the risks of inflation and the economy. The central bank is also able to manage the risks of inflation and other problems that the economy is able to manage the risks of inflation is able to manage the risks of a variety of risks. The central banks can help to reduce the risks of inflation by providing a more efficient way of doing business. The central bank can also help to reduce the risk of reducing the risk of reducing the risk of reducing the risk of reducing the risk of reducing the risk of reducing the risk of inflation. The central bank is able to manage the risk of reducing the risk of reducing the risk of reducing the risk of reducing the risk of reducing the risk of reducing the risk of reducing the risk of reducing the risk of reducing the risk of reducing the risk of reducing the risk of reducing the risk of reducing the risk of reducing the risk of reducing the risk of reducing the risk of reducing the risk of reducing the risk of reducing the risk of reducing risk of reducing the risk of</s>\n",
      "########\n",
      "*******\n",
      "question: What could a massive building be if it is not constructed well?\n",
      "answer: insubstantial\n",
      "choices: ['insubstantial', 'massless', 'dwarf', 'inconsequential', 'good']\n",
      "common expl list: ['A building is typically considered a sizable construction, therefore, if erected poorly, would be construed as being insubstantial.', 'Because the massive structure is so large, poor construction could render it largely inconsequential, or \"insubstantial\", as a structure.']\n"
     ]
    },
    {
     "name": "stderr",
     "output_type": "stream",
     "text": [
      "\r",
      " 20%|████████████████████████████████▍                                                                                                                                | 199/986 [3:44:57<7:05:08, 32.41s/it]"
     ]
    },
    {
     "name": "stdout",
     "output_type": "stream",
     "text": [
      "generated explanation: <pad> <extra_id_0> A massive building is a massive building if it is not constructed well. It is a massive building if it is not constructed well. It is a massive building that is not constructed well and is not a huge building. It is a massive building that is built in a massive building that is built in a massive building. This is because it is a massive building that is not constructed well. It is a massive building that is not constructed well. It is also a massive building that is not constructed well. It is not constructed well enough to be a massive building if it is not constructed well, it is not constructed well is a massive building that is not a massive building is a massive building that is not a massive building that is not constructed well is a massive building</s>\n",
      "########\n",
      "*******\n",
      "question: If you rent a condominium in a glove-shaped state where are you?\n",
      "answer: michigan\n",
      "choices: ['great lake state', 'michigan', 'community', 'towels', 'complex']\n",
      "common expl list: ['A condominium is a type of housing that is often rented. Condominiums are often located in complexes, and Michigan is a state that is shaped like a mitten.']\n"
     ]
    },
    {
     "name": "stderr",
     "output_type": "stream",
     "text": [
      "\r",
      " 20%|████████████████████████████████▋                                                                                                                                | 200/986 [3:44:57<4:59:05, 22.83s/it]"
     ]
    },
    {
     "name": "stdout",
     "output_type": "stream",
     "text": [
      "generated explanation: <pad> <extra_id_0> If you rent a condominium in a glove-shaped state where are you? If you rent a condominium in a glove-shaped state where are you?</s>\n",
      "########\n",
      "*******\n",
      "question: where do children play a game?\n",
      "answer: family room\n",
      "choices: ['toy store', 'bar', 'casino', 'table', 'family room']\n",
      "common expl list: ['A family room is a room in many homes in which families can socialize, often through games. One such game is \"connect four.', 'A family room is a room in a house where family members can play games.']\n"
     ]
    },
    {
     "name": "stderr",
     "output_type": "stream",
     "text": [
      "\r",
      " 20%|████████████████████████████████▍                                                                                                                               | 200/986 [3:45:47<14:47:23, 67.74s/it]"
     ]
    },
    {
     "name": "stdout",
     "output_type": "stream",
     "text": [
      "generated explanation: <pad> <extra_id_0> A family room is a place where children can play a game in a family room. A family room is a place where children can play a game in a room. The family room is a place where children can play a game in a family room. This allows children to play a game in a family room and then play a game in a family room. The family room is a place where children can play a game in a family room. The family room is a large space, and the children can play a game room. The family room is a great place to play a game, and the children can play a game in a family room, the family room is a safe and secure environment. The family room is a family room is a great place to play a game. The family room is a great place to play a family room is a great place to play a game, and the family room is a great place to play a family room to play a game, and the children can play a game, and the children can play a game together. The family room is a great place to play a game, and the children can play a game, and the children can play a game together. This allows children to play a game in the family room to play a family room to play a game in the family, and it is a great place to play a game to encourage children to play a game to encourage children to play a game to encourage children to encourage them to play a game to encourage them to play a game to play a game to encourage them to play a game to encourage children to play a game to play a game to encourage children to encourage them to play a game to encourage</s>\n",
      "########\n"
     ]
    },
    {
     "name": "stderr",
     "output_type": "stream",
     "text": [
      "\n"
     ]
    }
   ],
   "source": [
    "from tqdm import tqdm\n",
    "fse_csqa_dev_data_dict\n",
    "fse_csqa_train_data_dict\n",
    "rationale_pair_dev_data = []\n",
    "cc=0\n",
    "good_model = model\n",
    "for da in tqdm(our_data_splits['dev'], total=len(our_data_splits['dev'])):\n",
    "    print(\"*******\")\n",
    "    print(\"question: {}\".format(da['question']))\n",
    "    print(\"answer: {}\".format(da['answer']))\n",
    "    print(\"choices: {}\".format(da['choices']))\n",
    "    #print(\"our_explanation: {}\".format(da['our_explanation']))\n",
    "    id_ = da['id']\n",
    "    if id_ in fse_csqa_dev_data_dict.keys():\n",
    "        common_expl_list = fse_csqa_dev_data_dict[id_]['common_expl_list']\n",
    "    else:\n",
    "        common_expl_list = fse_csqa_train_data_dict[id_]['common_expl_list']\n",
    "    da[\"common_expl_list\"] = common_expl_list\n",
    "    print(\"common expl list: {}\".format(common_expl_list))\n",
    "    inp_ids = torch.tensor(da[\"input_ids\"], device=model.device).reshape(1, -1)\n",
    "    out = good_model.generate(\n",
    "                    inp_ids,\n",
    "                    max_length=512,\n",
    "                    pad_token_id=tokenizer.pad_token_id,\n",
    "                    eos_token_id=tokenizer.eos_token_id,\n",
    "                )\n",
    "    skip_special_tokens = False if \"infilling\" in data_args.io_format else True\n",
    "    words = tokenizer.decode(out[0].tolist(), skip_special_tokens=skip_special_tokens)\n",
    "    print(\"generated explanation: {}\".format(words))\n",
    "    da[\"generated_explanation\"] = words\n",
    "    print(\"########\")\n",
    "    rationale_pair_dev_data.append(da)\n",
    "    cc += 1\n",
    "    if cc > 200:\n",
    "        break\n",
    "    #pdb.set_trace()"
   ]
  },
  {
   "cell_type": "code",
   "execution_count": 1,
   "id": "a7a66b99",
   "metadata": {},
   "outputs": [
    {
     "ename": "NameError",
     "evalue": "name 'os' is not defined",
     "output_type": "error",
     "traceback": [
      "\u001b[0;31m---------------------------------------------------------------------------\u001b[0m",
      "\u001b[0;31mNameError\u001b[0m                                 Traceback (most recent call last)",
      "\u001b[0;32m/tmp/ipykernel_152649/2059167391.py\u001b[0m in \u001b[0;36m<module>\u001b[0;34m\u001b[0m\n\u001b[1;32m      1\u001b[0m \u001b[0;32mimport\u001b[0m \u001b[0mjson\u001b[0m\u001b[0;34m\u001b[0m\u001b[0m\n\u001b[0;32m----> 2\u001b[0;31m \u001b[0mrationale_pair_save_path\u001b[0m \u001b[0;34m=\u001b[0m \u001b[0mos\u001b[0m\u001b[0;34m.\u001b[0m\u001b[0mpath\u001b[0m\u001b[0;34m.\u001b[0m\u001b[0mjoin\u001b[0m\u001b[0;34m(\u001b[0m\u001b[0;34m\"./results\"\u001b[0m\u001b[0;34m,\u001b[0m \u001b[0;34m\"48shots_cose_t5_base_text003_200_250_rationales_generator_test_rationale_pair.json\"\u001b[0m\u001b[0;34m)\u001b[0m\u001b[0;34m\u001b[0m\u001b[0m\n\u001b[0m\u001b[1;32m      3\u001b[0m \u001b[0;32mwith\u001b[0m \u001b[0mopen\u001b[0m\u001b[0;34m(\u001b[0m\u001b[0mrationale_pair_save_path\u001b[0m\u001b[0;34m,\u001b[0m \u001b[0;34m'w'\u001b[0m\u001b[0;34m)\u001b[0m \u001b[0;32mas\u001b[0m \u001b[0mf\u001b[0m\u001b[0;34m:\u001b[0m\u001b[0;34m\u001b[0m\u001b[0m\n\u001b[1;32m      4\u001b[0m     \u001b[0mjson\u001b[0m\u001b[0;34m.\u001b[0m\u001b[0mdump\u001b[0m\u001b[0;34m(\u001b[0m\u001b[0mrationale_pair_dev_data\u001b[0m\u001b[0;34m,\u001b[0m \u001b[0mf\u001b[0m\u001b[0;34m)\u001b[0m\u001b[0;34m\u001b[0m\u001b[0m\n",
      "\u001b[0;31mNameError\u001b[0m: name 'os' is not defined"
     ]
    }
   ],
   "source": [
    "import json\n",
    "rationale_pair_save_path = os.path.join(\"./results\", \"48shots_cose_t5_base_text003_200_250_rationales_generator_test_rationale_pair.json\")\n",
    "with open(rationale_pair_save_path, 'w') as f:\n",
    "    json.dump(rationale_pair_dev_data, f)"
   ]
  },
  {
   "cell_type": "code",
   "execution_count": 52,
   "id": "33daef0f",
   "metadata": {},
   "outputs": [
    {
     "data": {
      "text/plain": [
       "dict_keys(['5b8a3081c3235d62bc77e2d15f3ad454', '07f108d5321a66f460685f5c7499ecb2', 'ff1bf2ec835c9df8695ae0cfb5281646', '33ea932a876ac0361c9eefeff1d24e92', '35ad89c198d5d6311a71c993bb7b6cba', 'a2aa95861ef74bf1ecfc55db505e3982', 'af3b9a8b1962cd3bcd19e644d873e7bc', '91e0f4ab62c9d2fd440d73a3f5308d96', 'cfc7fccb8449a2a950c9d2a50991420e', 'edbb57ac2f476679ae547f75ec2bef3e', '8555dd9667d010018961a2f7d1c22704', '8bdbb8caefcc607a9ec7579aa0c87cba', '549cf641318edfc0510fa7c7dbb359e1', 'd6c002d46d9bfa466637cec4a134f332', '3b9ccdcb1c932c46a38e040d3e6c7f5b', '54231f875bb7fe4d3e4afb6eae64387c', '668dc6bce771b10cbf6336f3ec76520a', '900492bd731f8f615ed7c08155737d44', '0b25bbd9e9aa976655e1975e31331709', '1729c737ff92cf558efecde2c6cafc5e', 'cc1a547bdfdcc95e4d632453af14bc96', 'c492b8b9754a181c924c1df19998cbc7', 'd31ee38f67d1173275e120b8ad36039c', '083861fc5ebb9226fff70544f3f83d2b', 'e1744fc698cffb574e5cf4b29a81ce76', '1f492f556fae64f72ce36b6caa242dd0', '27604394ccee83e089f9ffae1883cf07', 'b3dc6d6a5e2f9d7da8eb72816c80b3f8_1', '6bc3ebcfd04965c25bde71339955746c', '69335eb9bc5b7b5df840c38a086bf8b2', 'bc05bc6b4df7a3d25a361515fe8912ad', 'f7c005244d406b9bde48dc8c22003af1', 'f48528156632b9c5b18af9ce2095509b', 'b5baf77d3855935c87f01f5fb2216667', 'db1eb157671109bbb9113b0f71a6b957', '77ddc9134bb27f9962aa2ed5ec5a5ef9', '6abd34442438509b4a00c69d6fd24764', 'b67971747e95ba425a5b81e0ba8d0b28', 'bee2a6eadfaf7a4fa0a214e341ddbe5b', '8ce13c6e08bf38d4cd4af756b661e47c', '80930e9df9ac4ad752749a54e7fc124f_1', '3ffe67fb009529d9b0c49ccd7141ee4a', '8d3dc21a53523850ec80771daaa5ff20', '3310b5b24f03d67179fababf9ae95144', '998381f854f51da2a6ccde45909e5168', 'f427f9de6bf580314531baf86de8acbc', '18844d3aa4e52b331b5382c8244cf4db', '8af63d58cc35061dec38e5448c325988', '768fb09deab56046e1565b6a2556ad5c', '5655a3002dd9a6b7dabede1dd26a5893', '07ea8ff6ee916f2bf9aceab1e19ff99a', 'd35a8a3bd560fdd651ecf314878ed30f', '449de58e919975867255218484a9fc89', '7cf54544d54818d53e7088c0749a3eca', 'd29252ddaf7c7ef491abcce342d7bb98', '4a4f6408fae400ce0beb5bea0f9913e9', 'c306ab28498b67c53decb9dde1d78bd5', 'ba9132ebf2bc3ad21e6a0631dc4e0a77', '026cb9c07a583ec933f2c4c67ae73836', '2a21820a135e1a49883525c055c74a0b', '7c45033e9fd9f1a759923971b14390ed', 'dc964e4f6df6b70815e81e466d0ff717', '2a32b1e541b1daae04690d0d3a4b3310', '6c515b068b4d3aa88a5382224d9b866d', '6c84e79d0595efd99596faa07c4961d0', '42c46e28baf0fc617a07419286178c0a', 'c39131d979c9205c11d0e109e18188e4', 'c592258c88295756833e9796e881057b', '3526550b02d9594abd4fc43553010fc6', '637c710ec9582fd9b9e8eaa3f3fe83bb', '01f01cc3ad152773ef42b30e926912bf', 'c54ddc0f9d170ba65d9f4f2e0bb41d1c', 'ad37795fd9e3a65553683ff305b5113d', '7a3d0c94438a5c8a09364aaebb848a2c', '7c05e8d5a057085455eea243fbd1cd90', '4364b4b342fb7b44434bd6694bf8fd51', '99098375c7b651d524eebac72e358238', '1ddd239a2a6438a891cb411b82e7f450', 'f4bb8ecacb9ce89e040f5f76bc79afb3', '6b9221c1af583ffb43580857d6fde38a', 'cf8e30dd6956d03e3f0f0397112a8696', '456f2fb41cac8c028dcfe2f48637e473', 'c908d7c4633c5e6add9463bdd47cb27e', '2de08c7a518b7c226e19bdc8fc10ef1d', 'cd639cf3ff82f825ace7dd2b087562bd', 'e3c6d147f8a727d314046e70e9579ba0', 'b9b82aa4c236cd342ff95455b8516a42', 'e4976ee741cf4b28b8a42780ffb15774', '8d275acea05fd16295c659c504576a9b', '3bf06235a537adc9d85431846595b800', 'a7d51b753c2113d8b2dbd0ebb5375855_1', 'bcc5dd6292a64d8fa17cd07c360b335d', '46ba5d2b8cfc6708e5e2618568d8730e', '9f9ca9bb06d6afc31b19c365fb29a1c9', '3d9c3253e24fb108cea9083e8a853cf2', '3b8e1d236f5169b6c833a994d6d9c39a', '6ca8439d062de4d43d7d471c508b78db', 'ec86900559a0faf2aef066e511a4cfa6', '57e96118fee6e2bbac5f59790fc833c0', '520b0eea9148e3cb4d45aa69a55491eb', '6be05d227f4f6fe727218fc8be9df340', '113aaea2b1a27a976547f54e531d99bb', '2f0931adc3d0d422d9ab6264395e89d8', 'cce1b59f7c4f540a84a1a7d6d88548c4', '870b07a1c5af2e956673a9680da99852', '34005ef0caafefc8585c9fcd50e94557', '22458fdcead20e2def0df0d92d5806f6', 'ec224c1dbfb569cce7ec317fe987ae68', 'ede4d302fc2ffe07703158f83c1493f2', 'ecd32cc0c17d4738a27bba3399f04591', '5c171b9837af49211891ce40e4a10204', '801431167b8bff06b9870abe9721536b', 'b47d912136e3304cb5e5890b6b879551', 'd0bd5b5ee7319d1c4727e38d429dd54e', '78276a4eab6e8d6b9ae3749211816977', 'ec79ef747bb89281923edb89ba26786d', '0e80f2afe5c4f652e8720b52d7c06c87', '39572e0ba1db51fa74f7fc2d90c5ec7f', '56417ee33b44f0d916bedfb6fd99b0ec', 'f996430ce208606452868fd2e739d409', '858a5eaa587fe0e266722228671a6bd1', '273d0134e8ce53d4ebcf41ca7fde02af', '49e466b1782aa4837dae53ff891fcdee', '08d908ed723f813574992195d61386a2', '7192c9f5c513aac9042bad595ff5af9f', 'aa4c5d2d348796b8d7fa324f27f4c34f', '0e52659484f2f6d763cf0d38d4c5999d', '4423c006f2a43f222d4c4e97360c25d3', 'f4a75bf3f115b826a8097edfd0ff2781', '07b51b231a9d6a143d8a73e69121e1b1', 'c2a8c6814ed3e207771cfc23b3b42cf1', 'f13efb91090dd28fd2b3c1f4dde680fd', '985a4f1a3f31f1ba6654f4fc48f504df', '9e5ce2b7d9eb404cdf8c7317dd0b5a59', 'a400b9fd1e319f901471c4b42d401c52', '042898e0c71adac5d123aaa6221c9754', '29c194d032a266a7160bff6f546a4d9d', 'db0cfd52ca6b2bbfcf26d1a898fd929b', '2a0e82bbf1471290c93c8f2a11af197f', '49b4c9e1bd7946a819e173ce8fa4c7c9', '6cb895ce89995f6be422f7c4167c7638', 'df1bf6f3f87975aa0c1b6d6153d9ecef', '1bf4c6b5bd870b1a079106e1e97e5d09', '8ae24d3ff199077a59e0d970feb665b7', 'bb503ece4eac41dfe608a1dcb654e6bf', '6e77de03bee86d6c20780e14f00944d0', '5799089c131e26473697afc54d5f6964', '895aa97bb84d874d71b2aed572cebfdd', '23d97480fe45bace231503f8fc367a5b', 'a2977fd575faba162d04a490dabd1b9b', '5a1c8a9dbbb60e523cc1ba14a370729c', '5496c7293f653120e5a5213db2d7b103', '7044d82a456d0fa6f0210abb03cbf2c4', '15b090801256085ad465e74af47cbee9', 'aa984e2b487d08889bc0c73bab5ac945', '4302e727e47f464511d4d04f22bed0d2', 'b6b66d4519a84b8331ea55f84767e9df', '0e5c7c0cec5b693e52f74f5f879d84fb', 'e408a5a031caec33782cb3b3a005eecc', '96cb628fb7ed2f53245598f707ed2b80', '2067720531fc03c017af941cec2f6f40', '5b8d76889510384b38b72945e8d28f53', 'cf33e0f5891ce53a716432be06a46ee1', '24eebfa678112100803da16dde148b2d', '0c2fa15a02d0b6ca6707e98fac7589e4', 'c2c2a387fd9a6a26cff636008de21f71', 'f20d40bc4af588223e880e0bb58b27b8', 'b42ef8be1748c19fa5938de5396f8fad', '57b83653d82b27d32bc39228130f3516', '2192c5c2145a6e03755ad89a02e64055', '175e7dcdded13d5adafaebf2264c3abd', '8d4b0312f02be445e09a9462873d02bb', 'cfa081b5ba90dae4d7ddb5b7ad9d369a', 'd6bb990e8c409d2b3af37a2da198e01f', '20a3bb788cf408d9a3e25e610fe60905', 'af11faa29097b71141fe192ad019d1dd', '6915dfdefe3b1cd5fd8886c8bb84929a', '43ba9669564217f2f909f33acbedaf95', 'fce1c5d069758aea57a787fc98dcf7a9', '32758ab86d888be680845b0dfe7de35e', '7ea57ee4580042b0a6a40479c8ace3e4', '21fb76bd8349628b441c76f47c33e77b', '3fe45ab3bd4a844ea290050fc0ece8c1_1', '3dee8fc7f0a3fbf4de111b6686fca157', 'ceafca2445b1b974d085a8cce38e8e44', '42520bf3f93f8de23670044e019001a3', '5ea6b94d1a911365b06cf776919413e8', '2d3c9d3dff1a7a8253180cb3de1ceeea', 'a4892551cb4beb279653ae52d0de4c89', 'e050bce7048da1b3743a54153e91694e', 'eb50f536830ba18ab987c7ff652e2aba', '6386bcf080633bc3eeb3317a5435b7b7', '839f3c37622c1ed5eebc9cd0b9d658e8', '009a7aabffe0583fc2df46656b29c326', 'c82ed0c2a2e115452b4d596c5faafbcf', '01abce8c4964371d85a5be2019f75827', '7d937233b4a9043da0b976dbd42d141b', 'c611875b43b67b91030b889b267bbcb3', '7bc1198664b376f79d584725ad7f874b', '5e260e1d96187716888cbd968010bb65', 'fde48d43e27cefed6ed9c52514e0bb6d', '43ab0ff711e60d51f943bbd2cdd6515a', '1a8b3c2a46efabcbd506f9cf70886ed0', '48a315cfa3ce11f7a9d615bc854331d5', '095767956c500ca1af7cf7671556de5b', 'de54d03e69d9765872f95ff06ed21499', 'cbf3dd48b4d591fc872a53cd4b9dd3af', '35872be88df5f6c4a6600020266a5458', 'a90f9197a13c64089c9ba95bcba275ad', 'bd4e80fa6642a76c064d0bc924411fb0', '008b7ba0c039f6d0d542c6c90aae173c', 'ace8fa2943ba8414aebdb74b48906fae', '1caf93d6a22dc8190e19c14bbe1fafda', '7c8bc9c0e56389eef033bca40c88c151', '6195ed74cf445cb5d991e1076a080dde', '8086f022f2d4a4888ae1f8c7e4541ab9', '1e5a138b4c7d456c37abf4990b402bbe', '3f4b48708d08f8bf7bec796531023f9c', '60e92cd2f35c345872d1a898e1718d55', '9889e5389917d812c09d6e5d382d333d', '46351b3a6beb694c5f623583a3b1473d', '7b7941b883328ad39048d4dfb1eb5623', '7d7f7d7a8ae3b20ca9fc0da6efe467b4', 'c961578f4c5768b67b843e5d2ce18452', '514310637fb43a252bfadc8cbf79b277', '5279a2ea333ba8a5bf3a7637a7279da1', '5622e49306bb82ec1cec817ad0506c60', 'fcd39cfa321728fea069a6ae4285b06f', '26bd85f05d29863ed777a4f1a4b8fa63', '31487ab8b1e8f12e252590cc58bd19c2', 'ffd89796a9b09bef56c5803f188764c6', 'ba3a2b9ff289c106051163f840a6f5ba', 'b1f36d1c8ab7e5a28783cb38e8709c27', '5c2bc4335c8860342ec2d568ceb6ac6b', '36c1f50eec01c287b8ef6ffe69fe0528', '515834727e23e30ab7c8fe5ba7e9a765', 'a15d564d0be6996251b5d523ac62db2a', '8f01273422a370a8dbda6bf473a395a0', 'cabefb7063a728e77abd44d97397a2a4', '1bc986f8aea88d6927d8a45367855a94', '484f6e4fb8e6431b010c299490b72e3c', 'a7e3de0719fe30e7048f67426e29fdd1', 'a617eb4d27edea93e7fd630ce00c8219', '2c0030cc14a27be2401dcfdaa501f0fc', 'cf02cca40a47c2deefd8b2e5a5ff2f70', 'ea0e7771afd86a59fd9f7764b77e3fa4', 'c1aebf059c5102f4e773f7fe4afe13f0', '95a85df48902d23eb3fda25a99fca1a0', 'a4b44a986e7f9045432e20ea75611df4', '05490e6c191fbc3c2fe0033ed0bd8aa0'])"
      ]
     },
     "execution_count": 52,
     "metadata": {},
     "output_type": "execute_result"
    }
   ],
   "source": [
    "fse_csqa_dev_data_dict.keys()"
   ]
  },
  {
   "cell_type": "code",
   "execution_count": null,
   "id": "bd852d7d",
   "metadata": {},
   "outputs": [],
   "source": []
  }
 ],
 "metadata": {
  "kernelspec": {
   "display_name": "Python 3 (ipykernel)",
   "language": "python",
   "name": "python3"
  },
  "language_info": {
   "codemirror_mode": {
    "name": "ipython",
    "version": 3
   },
   "file_extension": ".py",
   "mimetype": "text/x-python",
   "name": "python",
   "nbconvert_exporter": "python",
   "pygments_lexer": "ipython3",
   "version": "3.7.0"
  }
 },
 "nbformat": 4,
 "nbformat_minor": 5
}
