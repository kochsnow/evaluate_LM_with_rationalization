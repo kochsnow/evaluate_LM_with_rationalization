{
 "cells": [
  {
   "cell_type": "code",
   "execution_count": 1,
   "id": "f5286ba7",
   "metadata": {},
   "outputs": [
    {
     "name": "stderr",
     "output_type": "stream",
     "text": [
      "\u001b[34m\u001b[1mwandb\u001b[0m: Currently logged in as: \u001b[33mdengdenghuang\u001b[0m (\u001b[33mcuhk_lavilab\u001b[0m). Use \u001b[1m`wandb login --relogin`\u001b[0m to force relogin\n"
     ]
    },
    {
     "name": "stdout",
     "output_type": "stream",
     "text": [
      "env: WANDB_PROJECT=evaluate_LM_with_rationalization\n"
     ]
    }
   ],
   "source": [
    "import wandb\n",
    "wandb.login()\n",
    "\n",
    "%env WANDB_PROJECT=evaluate_LM_with_rationalization"
   ]
  },
  {
   "cell_type": "code",
   "execution_count": 2,
   "id": "30300ea6",
   "metadata": {},
   "outputs": [],
   "source": [
    "# import gpt3\n",
    "import logging\n",
    "import math\n",
    "import os\n",
    "\n",
    "from typing import List, Dict, Any, NewType\n",
    "\n",
    "InputDataClass = NewType(\"InputDataClass\", Any)\n",
    "os.environ[\"CUDA_VISIBLE_DEVICES\"] = \"0\"\n",
    "from transformers import (\n",
    "    T5Config,\n",
    "    T5ForConditionalGeneration,\n",
    "    T5Tokenizer,\n",
    "    HfArgumentParser,\n",
    "    TrainingArguments,\n",
    "    set_seed,\n",
    "    EarlyStoppingCallback\n",
    ")\n",
    "from transformers.trainer_utils import EvaluationStrategy\n",
    "from transformers.integrations import TensorBoardCallback\n",
    "import transformers\n",
    "from transformers import Trainer\n",
    "\n",
    "#from feature_conversion_methods import format_instance\n",
    "\n",
    "from custom_args import (\n",
    "    DataTrainingArguments,\n",
    "    ModelArguments\n",
    ")\n",
    "from metrics import evaluate\n",
    "import torch\n",
    "import datasets\n",
    "import git\n",
    "import time\n",
    "from datetime import datetime\n",
    "import sys\n",
    "from tqdm import trange\n",
    "import random \n",
    "import pandas as pd \n",
    "import jsonlines\n",
    "from copy import deepcopy \n",
    "\n",
    "logger = logging.getLogger(__name__)\n",
    "transformers.logging.set_verbosity_info()\n",
    "import re\n",
    "def set_global_logging_level(level=logging.ERROR, prefices=[\"\"]):\n",
    "    \"\"\"\n",
    "    Override logging levels of different modules based on their name as a prefix.\n",
    "    It needs to be invoked after the modules have been loaded so that their loggers have been initialized.\n",
    "\n",
    "    Args:\n",
    "        - level: desired level. e.g. logging.INFO. Optional. Default is logging.ERROR\n",
    "        - prefices: list of one or more str prefices to match (e.g. [\"transformers\", \"torch\"]). Optional.\n",
    "          Default is `[\"\"]` to match all active loggers.\n",
    "          The match is a case-sensitive `module_name.startswith(prefix)`\n",
    "    \"\"\"\n",
    "    prefix_re = re.compile(fr'^(?:{ \"|\".join(prefices) })')\n",
    "    for name in logging.root.manager.loggerDict:\n",
    "        if re.match(prefix_re, name):\n",
    "            logging.getLogger(name).setLevel(level)\n",
    "set_global_logging_level(logging.ERROR, [\"datasets\"])\n",
    "\n",
    "\n",
    "CONFIG_MAPPING = {\"t5\": T5Config}\n",
    "MODEL_MAPPING = {\"t5\": T5ForConditionalGeneration}\n",
    "TOKENIZER_MAPPING = {\"t5\": T5Tokenizer}\n",
    "\n",
    "\n",
    "def set_other_seeds(seed):\n",
    "    torch.backends.cudnn.benchmark = False\n",
    "    #torch.backends.cudnn.deterministic = True\n",
    "    os.environ['PYTHONHASHSEED'] = str(seed)\n",
    "\n",
    "# inspired by DefaultDataCollator from:\n",
    "# https://github.com/huggingface/transformers/blob/master/src/transformers/data/data_collator.py\n",
    "# modified to perform batch-level padding.\n",
    "class SequenceCollator:\n",
    "    def __init__(self, model, pad_token):\n",
    "        self.model = model\n",
    "        self.pad_token_mapping = {\n",
    "            \"labels\": -100,\n",
    "            \"attention_mask\": 0,\n",
    "            \"decoder_attention_mask\": 0,\n",
    "            \"input_ids\": pad_token,\n",
    "        }\n",
    "\n",
    "        self.columns = [\n",
    "            \"input_ids\",\n",
    "            \"attention_mask\",\n",
    "            \"labels\",\n",
    "            \"decoder_attention_mask\",\n",
    "        ]\n",
    "\n",
    "    def __call__(self, examples: List[Dict[str, InputDataClass]]) -> Dict[str, torch.Tensor]:\n",
    "        # re-format inputs for training\n",
    "        batch = {}\n",
    "        for key in examples[0].keys():\n",
    "            if key in self.columns:\n",
    "                tmp_list = []\n",
    "                for item in examples:\n",
    "                    tmp_list.append(item[key])\n",
    "\n",
    "                # pad lists to max length\n",
    "                if isinstance(tmp_list[0], list):\n",
    "                    max_length = max(map(len, tmp_list))\n",
    "                    tmp_list = [\n",
    "                        el + [self.pad_token_mapping[key]] * (max_length - len(el))\n",
    "                        for el in tmp_list\n",
    "                    ]\n",
    "\n",
    "                batch[key] = torch.tensor(tmp_list, dtype=torch.long)\n",
    "        return batch\n"
   ]
  },
  {
   "cell_type": "code",
   "execution_count": 3,
   "id": "2fa5a75a",
   "metadata": {},
   "outputs": [],
   "source": [
    "from collections import defaultdict\n",
    "import random\n",
    "\"\"\"\n",
    "Example-to-Feature conversion methods\n",
    "Modified from\n",
    "https://github.com/salesforce/cos-e/blob/master/code/generation/train_commonsenseqa_v1.0.py and \"\"_v1.11.py (identical)\n",
    "as well as Tensorflow code for WTF?: \n",
    "https://github.com/google-research/google-research/blob/master/wt5/wt5/preprocessors.py\n",
    "\"\"\"\n",
    "# This code is based on https://github.com/allenai/label_rationale_association/blob/main/feature_conversion_methods.py\n",
    "\n",
    "unified_qa_esnli_label_mapping = {0: 'yes', 1: 'maybe', 2: 'no'}\n",
    "unified_qa_esnli_label_mapping_upper = {0: 'Yes', 1: 'Maybe', 2: 'No'} \n",
    "wt5_esnli_label_mapping = {0: 'entailment', 1: 'neutral', 2: 'contradiction'} \n",
    "unified_qa_sbic_label_mapping = {\"offensive\": 'Yes', \"not offensive\": 'No'}\n",
    "\n",
    "def format_instance(\n",
    "        example,\n",
    "        tokenizer,\n",
    "        explanation_sep,\n",
    "        max_seq_length=None,\n",
    "        datasource=None,\n",
    "        io_format=None, \n",
    "):\n",
    "    assert datasource in {\"cos_e\", \"esnli\", \"sbic\", \"sensemaking\", \"ecqa\"}\n",
    "\n",
    "    if datasource in [\"cos_e\", \"ecqa\"]:\n",
    "        input_string, answer_string = cqa_formatting(example, io_format, explanation_sep, datasource)\n",
    "    elif datasource == \"esnli\":\n",
    "        input_string, answer_string = esnli_formatting(example, io_format, explanation_sep)\n",
    "    elif datasource == 'sbic':\n",
    "        input_string, answer_string = sbic_formatting(example, io_format, explanation_sep)\n",
    "    elif datasource == 'sensemaking':\n",
    "        input_string, answer_string = sensemaking_formatting(example, io_format, explanation_sep)\n",
    "    else:\n",
    "        raise ValueError(\"Unknown task. Currently supported: esnli, cos_e, sbic, sensemaking, ecqa.\")\n",
    "    \n",
    "    if 'unified' in io_format and 'unifew' not in io_format:\n",
    "        input_string += '</s>'\n",
    "\n",
    "    input_string = ' '.join(input_string.split())\n",
    "    answer_string = ' '.join(answer_string.split())\n",
    "\n",
    "    input_string = ' '.join(input_string.split())\n",
    "    answer_string = ' '.join(answer_string.split())\n",
    "\n",
    "    encodings = tokenizer.encode_plus(\n",
    "        input_string,\n",
    "        max_length=max_seq_length,\n",
    "        pad_to_max_length=False,\n",
    "        return_token_type_ids=False,\n",
    "        return_attention_mask=True,\n",
    "    )\n",
    "\n",
    "\n",
    "    # note even with \"lm_labels.shift_right()\", the decoder attention mask length is still correct since we remove the last token\n",
    "    dec = tokenizer.encode_plus(\n",
    "        answer_string,\n",
    "        max_length=max_seq_length,\n",
    "        pad_to_max_length=False,\n",
    "        return_token_type_ids=False,\n",
    "        return_attention_mask=True,\n",
    "    )\n",
    "\n",
    "    encodings[\"labels\"] = dec[\"input_ids\"]\n",
    "    encodings[\"decoder_attention_mask\"] = dec[\"attention_mask\"]\n",
    "    encodings[\"question_encoding\"] = encodings[\"input_ids\"]\n",
    "\n",
    "    #return encodings\n",
    "    return {**example, **encodings}\n",
    "\n",
    "#这里很简单 定义好输入输出string就可以的\n",
    "def cqa_formatting(item, io_format, explanation_sep, datasource):\n",
    "    question = item[\"question\"]\n",
    "    answer = item[\"answer\"]\n",
    "    abstr_expl = item[\"abstractive_explanation\"].lower() if datasource == 'cos_e' else item[\"explanation\"].lower()\n",
    "\n",
    "\n",
    "    if io_format == 't5_fewshot_infilling_with_choices':\n",
    "        input_string = f\"explain {datasource} question: {question} choice: \" + \" choice: \".join(item[\"choices\"]) + f\" <extra_id_0> {explanation_sep} <extra_id_1>\"\n",
    "        answer_string = f\"<extra_id_0> {answer} <extra_id_1> {abstr_expl} <extra_id_2>\"\n",
    "    elif io_format == 't5_fewshot_infilling_more_natural':\n",
    "        input_string = f\"explain {datasource} question: {question} choice: \" + \" choice: \".join(item[\"choices\"]) + f\" The answer is <extra_id_0> {explanation_sep} <extra_id_1>\"\n",
    "        answer_string = f\"<extra_id_0> {answer} <extra_id_1> {abstr_expl} <extra_id_2>\"\n",
    "    elif io_format == \"squad\": \n",
    "        input_string = f\"explain {datasource} question: {question} context: \" + ', '.join(item['choices']) # explain cos_e question: When getting in shape you need to have this in between workouts? context: give up, period of recovery, jogging\n",
    "        answer_string = f\"{answer} {explanation_sep} {abstr_expl}\" # period of recovery because without a period of recovery you will not get any gains.\n",
    "    elif io_format == \"record\": \n",
    "        # might not work because cos_e doesn't have a passage \n",
    "        input_string = f\"explain {datasource} query: {question} entities: \" + ', '.join(item['choices']) # explain cos_e query: When getting in shape you need to have this in between workouts? entities: give up, period of recovery, jogging\n",
    "        answer_string = f\"{answer} {explanation_sep} {abstr_expl}\" # period of recovery because without a period of recovery you will not get any gains.\n",
    "    elif io_format == 'unifiedqa_matching':\n",
    "        choice_ids = ['(A)', '(B)', '(C)', '(D)', '(E)']\n",
    "        input_string = f'explain {question.lower()} \\\\n'\n",
    "        for choice_id, choice in zip(choice_ids, item[\"choices\"]):\n",
    "            input_string += f' {choice_id} {choice.lower()}'\n",
    "        answer_string = f\"{answer.lower()} {explanation_sep} {abstr_expl.lower()}\"\n",
    "        answer_string = answer_string.lower()\n",
    "    elif io_format == 't5_fewshot_infilling_without_choices_use_refined_expl':\n",
    "        input_string = f\"explain {datasource} question: {question} choice: \" + \" choice: \".join(item[\"choices\"]) + f\" <extra_id_0> {explanation_sep} <extra_id_1>\"\n",
    "        input_string = f\"explain {datasource} question: {question} answer: {answer}\" + f\" {explanation_sep} <extra_id_0>\"\n",
    "        answer_string = f\"<extra_id_0> {item['our_explanation']} <extra_id_1>\"\n",
    "\n",
    "    else:\n",
    "        raise ValueError(\"The IO format is not supported. Choose `standard` or `masked_cause_generate`.\")\n",
    "    \n",
    "    return input_string, answer_string\n",
    "\n",
    "\n",
    "def esnli_formatting(item, io_format, explanation_sep):\n",
    "\n",
    "    premise = item[\"premise\"]\n",
    "    hypothesis = item[\"hypothesis\"]\n",
    "    answer = unified_qa_esnli_label_mapping[item[\"label\"]] if 'unified' in io_format else wt5_esnli_label_mapping[item[\"label\"]]\n",
    "    abstr_expl = item[\"explanation_1\"].lower() \n",
    "    # Dev/test instances have more than one explanation annotated; merge them into one sequence separated by [SEP] \n",
    "    for k in [2,3]:\n",
    "        if f\"explanation_{k}\" in item and item[f'explanation_{k}']!='': \n",
    "            abstr_expl += f\" [SEP] {item[f'explanation_{k}'].lower()}\"\n",
    "\n",
    "    if io_format == 'standard':\n",
    "        input_string = f\"explain nli hypothesis: {hypothesis} premise: {premise}\"\n",
    "        answer_string = f\"{answer} {explanation_sep} {abstr_expl}\"\n",
    "    elif io_format == 't5_fewshot_infilling':\n",
    "        input_string = f\"explain nli hypothesis: {hypothesis} premise: {premise} <extra_id_0> {explanation_sep} <extra_id_1>\"\n",
    "        answer_string = f\"<extra_id_0> {answer} <extra_id_1> {abstr_expl} <extra_id_2>\"\n",
    "    elif io_format == 't5_fewshot_infilling_more_natural':\n",
    "        input_string = f\"explain nli hypothesis: {hypothesis} premise: {premise} This is <extra_id_0> {explanation_sep} <extra_id_1>\"\n",
    "        answer_string = f\"<extra_id_0> {answer} <extra_id_1> {abstr_expl} <extra_id_2>\"\n",
    "    elif io_format == \"squad\": \n",
    "        input_string = f\"explain nli question: Is this entailment? context: {hypothesis} {premise}\"  \n",
    "        answer_ynm = unified_qa_esnli_label_mapping[item[\"label\"]]\n",
    "        answer_string = f\"{answer_ynm} {explanation_sep} {abstr_expl}\" \n",
    "    elif io_format == \"squad_endswith_what\":\n",
    "        input_string = f\"explain nli question: What is this? context: {hypothesis} {premise}\"  \n",
    "        answer_string = f\"{answer} {explanation_sep} {abstr_expl}\"  \n",
    "    elif io_format == \"squad_nli_mix\": \n",
    "        input_string = f\"explain nli question: Is this entailment? context: hypothesis: {hypothesis} premise: {premise}\"  \n",
    "        answer_ynm = unified_qa_esnli_label_mapping[item[\"label\"]]\n",
    "        answer_string = f\"{answer_ynm} {explanation_sep} {abstr_expl}\"  \n",
    "    elif io_format == \"squad_nli_mix_endswith_what\":  \n",
    "        input_string = f\"explain nli question: What is this? context: hypothesis: {hypothesis} premise: {premise}\"  \n",
    "        answer_string = f\"{answer} {explanation_sep} {abstr_expl}\"   \n",
    "    elif io_format == 'unifiedqa_unifew':\n",
    "        hypothesis = hypothesis.lower().rstrip('.')\n",
    "        unified_qa_esnli_label_mapping_upper = {0: 'Yes', 1: 'Maybe', 2: 'No'}\n",
    "        answer = unified_qa_esnli_label_mapping_upper[item[\"label\"]]\n",
    "        input_string = f'explain {premise} Is {hypothesis}? \\\\n (A) Yes (B) Maybe (C) No'\n",
    "        answer_string = f\"{answer} {explanation_sep} {abstr_expl}\"  \n",
    "    elif io_format == 'unifiedqa_unifew_nli_mix':\n",
    "        premise = premise.lower().rstrip('.')\n",
    "        unified_qa_esnli_label_mapping_upper = {0: 'Yes', 1: 'Maybe', 2: 'No'}\n",
    "        input_string = f'explain hypothesis: {hypothesis} Is premise: {premise}? \\\\n (A) Yes (B) Maybe (C) No'\n",
    "        answer_string = f\"{answer} {explanation_sep} {abstr_expl}\"  \n",
    "    elif io_format == 'unifiedqa_ynm': \n",
    "        input_string = f'explain is this entailment? \\\\n {hypothesis.lower()} {premise.lower()}'  \n",
    "        answer = unified_qa_esnli_label_mapping[item[\"label\"]]\n",
    "        answer_string = f\"{answer} {explanation_sep} {abstr_expl.lower()}\"  \n",
    "    elif io_format == 'unifiedqa_snli_mix_ynm': \n",
    "        input_string = f'explain is this entailment? \\\\n hypothesis: {hypothesis.lower()} premise: {premise.lower()}' \n",
    "        answer = unified_qa_esnli_label_mapping[item[\"label\"]]\n",
    "        answer_string = f\"{answer} {explanation_sep} {abstr_expl.lower()}\"  \n",
    "    elif io_format == 'unifiedqa_snli_mix_ynm_with_choices': \n",
    "        input_string = f'explain is this entailment? \\\\n (A) yes (B) maybe (C) no \\\\n hypothesis: {hypothesis.lower()} premise: {premise.lower()}'  \n",
    "        answer = unified_qa_esnli_label_mapping[item[\"label\"]]\n",
    "        answer_string = f\"{answer} {explanation_sep} {abstr_expl.lower()}\"  \n",
    "    elif io_format == 'unifiedqa_what_v2': \n",
    "        input_string = f'explain what is this? \\\\n {hypothesis.lower()} {premise.lower()}'  \n",
    "        answer = wt5_esnli_label_mapping[item[\"label\"]]\n",
    "        answer_string = f\"{answer} {explanation_sep} {abstr_expl.lower()}\"  \n",
    "    elif io_format == 'unifiedqa_snli_mix_what_v2': \n",
    "        input_string = f'explain what is this? \\\\n hypothesis: {hypothesis.lower()} premise: {premise.lower()}'  \n",
    "        answer = wt5_esnli_label_mapping[item[\"label\"]]\n",
    "        answer_string = f\"{answer} {explanation_sep} {abstr_expl.lower()}\"  \n",
    "    elif io_format == 'unifiedqa_snli_mix_what_with_choices_v2': \n",
    "        input_string = f'explain what is this? \\\\n (A) entailment (B) neutral (C) contradiction \\\\n hypothesis: {hypothesis.lower()} premise: {premise.lower()}'  \n",
    "        answer = wt5_esnli_label_mapping[item[\"label\"]]\n",
    "        answer_string = f\"{answer} {explanation_sep} {abstr_expl.lower()}\"     \n",
    "    else:\n",
    "        raise ValueError(\"The IO format is not supported.\")\n",
    "\n",
    "    return input_string, answer_string\n",
    "\n",
    "\n",
    "def sbic_formatting(item, io_format, explanation_sep):\n",
    "    # We pre-processed the SBIC dataset such that we join multiple implied statements with the [SEP] token for dev/test instances \n",
    "    # Each annotation in the training split is a separate instance\n",
    "    post = item['post']\n",
    "    answer = unified_qa_sbic_label_mapping[item[\"offensiveYN\"]] if 'unified' in io_format else item[\"offensiveYN\"].replace(\"not offensive\", \"not_offensive\")\n",
    "    abstr_expl = item[\"targetStereotype\"]\n",
    "    \n",
    "\n",
    "    if io_format == 'cola':\n",
    "        input_string = f\"explain sbic sentence: {post}\"\n",
    "        answer_string = f\"{answer} {explanation_sep} {abstr_expl}\"  \n",
    "    elif io_format == 't5_fewshot_infilling':\n",
    "        input_string = f\"explain sbic sentence: {post} <extra_id_0> {explanation_sep} <extra_id_1>\"\n",
    "        answer_string = f\"<extra_id_0> {answer} <extra_id_1> {abstr_expl} <extra_id_2>\"\n",
    "    elif io_format == 't5_fewshot_infilling_bool':\n",
    "        answer_bool = 'True' if item[\"offensiveYN\"] == 'offensive' else 'False'\n",
    "        input_string = f\"explain sbic sentence: {post} It is <extra_id_0> that this is offensive {explanation_sep} <extra_id_1>\"\n",
    "        answer_string = f\"<extra_id_0> {answer} <extra_id_1> {abstr_expl} <extra_id_2>\"\n",
    "    elif io_format == 't5_fewshot_infilling_more_natural':\n",
    "        input_string = f\"explain sbic sentence: {post} This is <extra_id_0> {explanation_sep} <extra_id_1>\"\n",
    "        answer_string = f\"<extra_id_0> {answer} <extra_id_1> {abstr_expl} <extra_id_2>\"\n",
    "    elif io_format == 'squad_yn': \n",
    "        input_string = f\"explain sbic question: Is this offensive? context: {post}\" # explain sbic question: Is this offensive? context: It's only happened to you like two times.\n",
    "        answer_yn = unified_qa_sbic_label_mapping[item[\"offensiveYN\"]] \n",
    "        answer_string = f\"{answer_yn} {explanation_sep} {abstr_expl}\" #  No because this post does not imply anything offensive\n",
    "    elif io_format == 'squad_yn_with_tags': \n",
    "        input_string = f\"explain sbic question: Is this offensive? context: post: {post}\" # explain sbic question: Is this offensive? context: It's only happened to you like two times.\n",
    "        answer_yn = unified_qa_sbic_label_mapping[item[\"offensiveYN\"]] \n",
    "        answer_string = f\"{answer_yn} {explanation_sep} {abstr_expl}\" #  No because this post does not imply anything offensive\n",
    "    elif io_format == 'squad_what': \n",
    "        input_string = f\"explain sbic question: What is this? context: {post}\" # explain sbic question: This is what? context: It's only happened to you like two times.\n",
    "        answer = item[\"offensiveYN\"].replace(\"not offensive\", \"not_offensive\")        \n",
    "        answer_string = f\"{answer} {explanation_sep} {abstr_expl}\" # not_offensive because this post does not imply anything offensive    \n",
    "    elif io_format == 'squad_what_with_tags': \n",
    "        input_string = f\"explain sbic question: What is this? context: post: {post}\" # explain sbic question: This is what? context: It's only happened to you like two times.\n",
    "        answer = item[\"offensiveYN\"].replace(\"not offensive\", \"not_offensive\")        \n",
    "        answer_string = f\"{answer} {explanation_sep} {abstr_expl}\" # not_offensive because this post does not imply anything offensive    \n",
    "    elif io_format == 'unified_qa_yn':\n",
    "        input_string = f'explain is this offensive? \\\\n {post.lower()}'\n",
    "        answer_string = f\"{answer} {explanation_sep} {abstr_expl.lower()}\" \n",
    "    elif io_format == 'unified_qa_yn_with_tags':\n",
    "        input_string = f'explain is this offensive? \\\\n post: {post.lower()}'\n",
    "        answer_string = f\"{answer} {explanation_sep} {abstr_expl.lower()}\"  \n",
    "    elif io_format == 'unified_qa_yn_with_choices':\n",
    "        input_string = f'explain is this offensive? \\\\n (A) yes (B) no \\\\n {post.lower()}'\n",
    "        answer_string = f\"{answer} {explanation_sep} {abstr_expl.lower()}\"\n",
    "    elif io_format == 'unified_qa_yn_with_choices_and_tags':\n",
    "        input_string = f'explain is this offensive? \\\\n (A) yes (B) no \\\\n post: {post.lower()}'\n",
    "        answer_string = f\"{answer} {explanation_sep} {abstr_expl.lower()}\"  \n",
    "    elif io_format == 'unified_qa_what':\n",
    "        input_string = f'explain what is this? \\\\n {post.lower()}'\n",
    "        answer = item[\"offensiveYN\"].replace(\"not offensive\", \"not_offensive\")\n",
    "        answer_string = f\"{answer} {explanation_sep} {abstr_expl.lower()}\"  \n",
    "    elif io_format == 'unified_qa_what_with_tags':\n",
    "        input_string = f'explain what is this? \\\\n post: {post.lower()}'\n",
    "        answer = item[\"offensiveYN\"].replace(\"not offensive\", \"not_offensive\")\n",
    "        answer_string = f\"{answer} {explanation_sep} {abstr_expl.lower()}\"  \n",
    "    elif io_format == 'unified_qa_what_with_choices':\n",
    "        input_string = f'explain what is this? \\\\n (A) offensive (B) not_offensive \\\\n {post.lower()}'\n",
    "        answer = item[\"offensiveYN\"].replace(\"not offensive\", \"not_offensive\")\n",
    "        answer_string = f\"{answer} {explanation_sep} {abstr_expl.lower()}\"\n",
    "    elif io_format == 'unified_qa_what_with_choices_and_tags':\n",
    "        input_string = f'explain what is this? \\\\n (A) offensive (B) not_offensive \\\\n post: {post.lower()}'\n",
    "        answer = item[\"offensiveYN\"].replace(\"not offensive\", \"not_offensive\")\n",
    "        answer_string = f\"{answer} {explanation_sep} {abstr_expl.lower()}\"  \n",
    "    elif io_format == 'unifiedqa_unifew':\n",
    "        input_string = f\"Topic? \\\\n (A) offensive (B) not_offensive \\\\n {post}\"\n",
    "        answer = item[\"offensiveYN\"].replace(\"not offensive\", \"not_offensive\")\n",
    "        answer_string = f\"{answer} {explanation_sep} {abstr_expl}\"\n",
    "    else:\n",
    "        raise ValueError(\"The IO format is not supported. Choose `standard` or `masked_cause_generate`.\")\n",
    "\n",
    "    input_string = ' '.join(input_string.split())\n",
    "    answer_string = ' '.join(answer_string.split())\n",
    "    return input_string, answer_string\n",
    "\n",
    "def sensemaking_formatting(item, io_format, explanation_sep):\n",
    "    # TODO: explore whether removing periods makes difference? \n",
    "    sent0 = item['sent0']\n",
    "    sent1 = item['sent1']\n",
    "    nonsensical_sentence = str(int(item['label'])+1)\n",
    "    explanation = item['explanation'].lower()\n",
    "\n",
    "    if io_format == 'copa_with_question':\n",
    "        input_string = f\"explain sensemaking choice1: {sent0} choice2: {sent1} question: nonsensical\"\n",
    "        answer_string = f\"choice{nonsensical_sentence} {explanation_sep} {explanation}\"\n",
    "    elif io_format == 'copa_bool':  \n",
    "        answer_bool = str(bool(int(item['label']))) # True if choice2 is more nonsensical    \n",
    "        input_string = f\"explain sensemaking choice1: {sent0} choice2: {sent1} Less common is choice2\"\n",
    "        answer_string = f\"{answer_bool} {explanation_sep} {explanation}\"\n",
    "    elif io_format == 't5_fewshot_infilling':  \n",
    "        input_string = f\"explain sensemaking choice1: {sent0} choice2: {sent1} <extra_id_0> {explanation_sep} <extra_id_1>\"\n",
    "        answer_string = f\"<extra_id_0> choice{nonsensical_sentence} <extra_id_1> {explanation} <extra_id_2>\"\n",
    "    elif io_format == 't5_fewshot_infilling_bool':  \n",
    "        answer_bool = str(bool(int(item['label']))) # True if choice2 is more nonsensical    \n",
    "        input_string = f\"explain sensemaking choice1: {sent0} choice2: {sent1} It is <extra_id_0> that choice2 is less common {explanation_sep} <extra_id_1>\"\n",
    "        answer_string = f\"<extra_id_0> {answer_bool} <extra_id_1> {explanation} <extra_id_2>\"\n",
    "    elif io_format == \"squad_yn\": \n",
    "        input_string = f\"explain sensemaking question: Is choice2 more nonsensical? context: choice1: {sent0} choice2: {sent1}\" # explain sensemaking question: What is nonsensical, choice1 or choice2? context: choice1: All state flowers are the scarlet carnation. choice2: The New Jersey state flower is the scarlet carnation\n",
    "        answer = \"Yes\" if bool(int(item['label'])) else \"No\"\n",
    "        answer_string = f\"{answer} {explanation_sep} {explanation}\" #  choice1 because state flowers are unique to each state.  \n",
    "    elif io_format == \"squad_yn_no_tags\": \n",
    "        input_string = f\"explain sensemaking question: Is choice2 more nonsensical? context: {sent0} {sent1}\" # explain sensemaking question: What is nonsensical, choice1 or choice2? context: choice1: All state flowers are the scarlet carnation. choice2: The New Jersey state flower is the scarlet carnation\n",
    "        answer = \"Yes\" if bool(int(item['label'])) else \"No\"\n",
    "        answer_string = f\"{answer} {explanation_sep} {explanation}\" #  choice1 because state flowers are unique to each state.  \n",
    "    elif io_format == \"squad_what\": \n",
    "        input_string = f\"explain sensemaking question: What is more nonsensical? context: choice1: {sent0} choice2: {sent1}\" # explain sensemaking question: What is nonsensical, choice1 or choice2? context: choice1: All state flowers are the scarlet carnation. choice2: The New Jersey state flower is the scarlet carnation\n",
    "        answer_string = f\"choice{nonsensical_sentence} {explanation_sep} {explanation}\" #  choice1 because state flowers are unique to each state.  \n",
    "    elif io_format == \"squad_what_no_tags\": \n",
    "        input_string = f\"explain sensemaking question: What is more nonsensical? context: {sent0} {sent1}\" # explain sensemaking question: What is nonsensical, choice1 or choice2? context: choice1: All state flowers are the scarlet carnation. choice2: The New Jersey state flower is the scarlet carnation\n",
    "        answer_string = f\"choice{nonsensical_sentence} {explanation_sep} {explanation}\" #  choice1 because state flowers are unique to each state.  \n",
    "    elif io_format == \"record\": \n",
    "        input_string = f\"explain sensemaking query: What is more nonsensical? entities: choice1, choice2 passage: choice1: {sent0} choice2: {sent1}\" # explain sensemaking query: What is nonsensical? entities: choice1, choice2 passage: choice1: All state flowers are the scarlet carnation. choice2: The New Jersey state flower is the scarlet carnation.\n",
    "        answer_string = f\"choice{nonsensical_sentence} {explanation_sep} {explanation}\" # choice1 because state flowers are unique to each state.\n",
    "    elif io_format == 'unifiedqa_yn_with_choices':\n",
    "        answer = \"yes\" if bool(int(item['label'])) else \"no\"\n",
    "        input_string = f'explain is choice2 more nonsensical? \\\\n (A) yes (B) no \\\\n choice1: {sent0.lower()} choice2: {sent1.lower()}'\n",
    "        answer_string = f\"{answer} {explanation_sep} {explanation.lower()}\" \n",
    "    elif io_format == 'unifiedqa_yn':\n",
    "        answer = \"yes\" if bool(int(item['label'])) else \"no\"\n",
    "        input_string = f'explain is choice2 more nonsensical? \\\\n choice1: {sent0.lower()} choice2: {sent1.lower()}'\n",
    "        answer_string = f\"{answer} {explanation_sep} {explanation.lower()}\"  \n",
    "    elif io_format == 'unifiedqa_yn_no_tags':\n",
    "        answer = \"yes\" if bool(int(item['label'])) else \"no\"\n",
    "        input_string = f'explain is choice2 more nonsensical? \\\\n {sent0.lower()} {sent1.lower()}'\n",
    "        answer_string = f\"{answer} {explanation_sep} {explanation.lower()}\"  \n",
    "    elif io_format == 'unifiedqa_what_with_choices':\n",
    "        nonsensical_sentence = str(int(item['label'])+1)\n",
    "        input_string = f'explain what is more nonsensical? \\\\n (A) choice1 (B) choice2 \\\\n choice1: {sent0.lower()} choice2: {sent1.lower()}'\n",
    "        answer_string = f\"choice{nonsensical_sentence} {explanation_sep} {explanation.lower()}\"  # use \" BECAUSE \"\n",
    "    elif io_format == 'unifiedqa_what':\n",
    "        nonsensical_sentence = str(int(item['label'])+1)\n",
    "        input_string = f'explain what is more nonsensical? \\\\n choice1: {sent0.lower()} choice2: {sent1.lower()}'\n",
    "        answer_string = f\"choice{nonsensical_sentence} {explanation_sep} {explanation.lower()}\"  # use \" BECAUSE \"\n",
    "    elif io_format == 'unifiedqa_what_no_tags':\n",
    "        nonsensical_sentence = str(int(item['label'])+1)\n",
    "        input_string = f'explain what is more nonsensical? \\\\n {sent0.lower()} {sent1.lower()}'\n",
    "        answer_string = f\"choice{nonsensical_sentence} {explanation_sep} {explanation.lower()}\"  # use \" BECAUSE \"\n",
    "\n",
    "\n",
    "    input_string = ' '.join(input_string.split())\n",
    "    answer_string = ' '.join(answer_string.split())\n",
    "    return input_string, answer_string"
   ]
  },
  {
   "cell_type": "code",
   "execution_count": 4,
   "id": "dde6c7e1",
   "metadata": {},
   "outputs": [
    {
     "name": "stderr",
     "output_type": "stream",
     "text": [
      "PyTorch: setting up devices\n",
      "The default value for the training argument `--report_to` will change in v5 (from all installed integrations to none). In v5, you will need to use `--report_to all` to get the same behavior as now. You should start updating your code and make this info disappear :-).\n",
      "01/13/2023 01:39:38 - WARNING - __main__ -   Process rank: -1, device: cuda:0, n_gpu: 1, distributed training: False, 16-bits training: False\n",
      "01/13/2023 01:39:38 - INFO - __main__ -   Save path: ./cos_e_output_t5_large/011323_013938\n",
      "01/13/2023 01:39:38 - INFO - __main__ -   Git branch: dev\n",
      "01/13/2023 01:39:38 - INFO - __main__ -   Git hash: 1cbb5c3b4e53baf31cbafc20d9655c63f091f901\n"
     ]
    }
   ],
   "source": [
    "og_start_time = time.time()\n",
    "\n",
    "#parser = HfArgumentParser(\n",
    "#    (ModelArguments, DataTrainingArguments, TrainingArguments)\n",
    "#)\n",
    "parser = HfArgumentParser(\n",
    "    (ModelArguments, DataTrainingArguments, TrainingArguments)\n",
    ")\n",
    "\n",
    "model_args, data_args, training_args, unused_args = parser.parse_args_into_dataclasses(\n",
    "    [\"--model_type\", \"t5-3b\",\n",
    "     \"--tokenizer_name\", \"t5-3b\",\n",
    "     \"--task_name\", \"cos_e\", \n",
    "     \"--output_dir\", \"./cos_e_output_t5_large\", \n",
    "     \"--n_shots\", \"10\",\n",
    "     \"--do_train\", \"True\"], return_remaining_strings=True)\n",
    "if unused_args != []:\n",
    "    raise ValueError(f\"Received unused arguments: {unused_args}\")\n",
    "# make sure only one dataset split pick if manually specifying evaluation file\n",
    "\n",
    "if model_args.use_gpt3:\n",
    "    assert training_args.do_train\n",
    "    assert not training_args.do_eval\n",
    "    assert data_args.generations_filepath is None\n",
    "    if data_args.gpt3_max_eval_size is not None:\n",
    "        assert data_args.gpt3_max_eval_size <= data_args.fewshot_eval_size\n",
    "        assert data_args.gpt3_max_eval_size % 2 == 0\n",
    "        assert data_args.gpt3_max_eval_size % 3 == 0\n",
    "\n",
    "if data_args.generations_filepath is not None:\n",
    "    training_args.do_train = False\n",
    "    training_args.do_eval = False\n",
    "    if \"train\" in data_args.generations_filepath:\n",
    "        data_args.train_predict = True\n",
    "        data_args.test_predict = False\n",
    "        data_args.dev_predict = False\n",
    "    elif \"test\" in data_args.generations_filepath:\n",
    "        data_args.train_predict = False\n",
    "        data_args.test_predict = True\n",
    "        data_args.dev_predict = False\n",
    "    elif \"validation\" in data_args.generations_filepath:\n",
    "        data_args.train_predict = False\n",
    "        data_args.test_predict = False\n",
    "        data_args.dev_predict = True\n",
    "\n",
    "if not training_args.do_train and data_args.generations_filepath is None:\n",
    "    if not model_args.pretrained_model_file:\n",
    "        raise Exception(\n",
    "            \"if not training a model from scratch, must specify a trained model to load for evaluation\"\n",
    "        )\n",
    "\n",
    "if training_args.do_train:\n",
    "    # create a save directory and a logfile\n",
    "    training_args.output_dir = os.path.join(\n",
    "        training_args.output_dir, datetime.now().strftime(\"%m%d%y_%H%M%S\")\n",
    "    )\n",
    "    training_args.logging_dir = training_args.output_dir\n",
    "    assert not os.path.exists(training_args.output_dir)\n",
    "    os.makedirs(training_args.output_dir)\n",
    "\n",
    "    if (\n",
    "            os.path.exists(training_args.output_dir)\n",
    "            and os.listdir(training_args.output_dir)\n",
    "            and training_args.do_train\n",
    "            and not training_args.overwrite_output_dir\n",
    "    ):\n",
    "        raise ValueError(\n",
    "            f\"Output directory ({training_args.output_dir}) already exists and is not empty. Use --overwrite_output_dir to overcome.\"\n",
    "        )\n",
    "    handlers = [\n",
    "        logging.FileHandler(os.path.join(training_args.output_dir, \"logger.log\")),\n",
    "        logging.StreamHandler(),\n",
    "    ]\n",
    "else:\n",
    "    # don't overwrite existing logfile or create new directory\n",
    "    training_args.output_dir = model_args.pretrained_model_file\n",
    "    handlers = [logging.StreamHandler()]\n",
    "\n",
    "# Setup logging\n",
    "logging.basicConfig(\n",
    "    format=\"%(asctime)s - %(levelname)s - %(name)s -   %(message)s\",\n",
    "    datefmt=\"%m/%d/%Y %H:%M:%S\",\n",
    "    level=logging.INFO if training_args.local_rank in [-1, 0] else logging.WARN,\n",
    "    handlers=handlers,\n",
    ")\n",
    "logger.warning(\n",
    "    \"Process rank: %s, device: %s, n_gpu: %s, distributed training: %s, 16-bits training: %s\",\n",
    "    training_args.local_rank,\n",
    "    training_args.device,\n",
    "    training_args.n_gpu,\n",
    "    bool(training_args.local_rank != -1),\n",
    "    training_args.fp16,\n",
    ")\n",
    "logger.info(\"Save path: %s\" % training_args.output_dir)\n",
    "\n",
    "# get git hash and branch where deployed\n",
    "repo = git.Repo(search_parent_directories=True)\n",
    "git_hash = repo.head.object.hexsha\n",
    "git_branch = repo.active_branch.name\n",
    "logger.info(\"Git branch: %s\" % git_branch)\n",
    "logger.info(\"Git hash: %s\" % git_hash)\n",
    "\n",
    "model_class = \"t5\"\n",
    "assert data_args.task_name in {\"cos_e\", \"esnli\", \"sbic\", \"sensemaking\", \"ecqa\"}\n",
    "\n",
    "if training_args.do_train:\n",
    "    # write command and args to file\n",
    "    with open(\n",
    "            os.path.join(training_args.output_dir, \"commandline_args.txt\"), \"w\"\n",
    "    ) as f:\n",
    "        f.write(\"Git branch: \" + git_branch + \"\\n\")\n",
    "        f.write(\"Git hash: \" + git_hash + \"\\n\")\n",
    "        f.write(\"Command:\\n\")\n",
    "        f.write(\"\\n\".join(sys.argv[1:]))\n",
    "\n",
    "# Set seed\n",
    "set_seed(training_args.seed)\n",
    "set_other_seeds(training_args.seed)\n",
    "\n",
    "# Load pretrained model and tokenizer\n",
    "#\n",
    "# Distributed training:\n",
    "# The .from_pretrained methods guarantee that only one local process can concurrently\n",
    "# download model & vocab."
   ]
  },
  {
   "cell_type": "code",
   "execution_count": 5,
   "id": "684646b4",
   "metadata": {},
   "outputs": [
    {
     "data": {
      "text/plain": [
       "device(type='cuda', index=0)"
      ]
     },
     "execution_count": 5,
     "metadata": {},
     "output_type": "execute_result"
    }
   ],
   "source": [
    "training_args.set_device = \"cuda:0\"\n",
    "training_args.device"
   ]
  },
  {
   "cell_type": "code",
   "execution_count": 6,
   "id": "18a3172a",
   "metadata": {},
   "outputs": [
    {
     "name": "stderr",
     "output_type": "stream",
     "text": [
      "01/13/2023 01:39:38 - INFO - __main__ -   Loading pretrained tokenizer...\n",
      "loading file https://huggingface.co/t5-base/resolve/main/spiece.model from cache at /home/huangyongfeng/.cache/huggingface/transformers/684a47ca6257e4ca71f0037771464c5b323e945fbc58697d2fad8a7dd1a2f8ba.3b69006860e7b5d0a63ffdddc01ddcd6b7c318a6f4fd793596552c741734c62d\n",
      "loading file https://huggingface.co/t5-base/resolve/main/added_tokens.json from cache at None\n",
      "loading file https://huggingface.co/t5-base/resolve/main/special_tokens_map.json from cache at None\n",
      "loading file https://huggingface.co/t5-base/resolve/main/tokenizer_config.json from cache at None\n",
      "loading file https://huggingface.co/t5-base/resolve/main/tokenizer.json from cache at /home/huangyongfeng/.cache/huggingface/transformers/90de37880b5ff5ac7ab70ff0bd369f207e9b74133fa153c163d14c5bb0116207.8627f1bd5d270a9fd2e5a51c8bec3223896587cc3cfe13edeabb0992ab43c529\n",
      "loading configuration file https://huggingface.co/t5-base/resolve/main/config.json from cache at /home/huangyongfeng/.cache/huggingface/transformers/91e9fe874e06c44883b535d6c950b8b89d6eaa3298d8e7fb3b2c78039e9f8b7b.a085189636e38420df5e7bdf08ad1b86f1fe33c010079ca7f15437ff95f4fe2b\n",
      "Model config T5Config {\n",
      "  \"architectures\": [\n",
      "    \"T5ForConditionalGeneration\"\n",
      "  ],\n",
      "  \"d_ff\": 3072,\n",
      "  \"d_kv\": 64,\n",
      "  \"d_model\": 768,\n",
      "  \"decoder_start_token_id\": 0,\n",
      "  \"dropout_rate\": 0.1,\n",
      "  \"eos_token_id\": 1,\n",
      "  \"feed_forward_proj\": \"relu\",\n",
      "  \"gradient_checkpointing\": false,\n",
      "  \"initializer_factor\": 1.0,\n",
      "  \"is_encoder_decoder\": true,\n",
      "  \"layer_norm_epsilon\": 1e-06,\n",
      "  \"model_type\": \"t5\",\n",
      "  \"n_positions\": 512,\n",
      "  \"num_decoder_layers\": 12,\n",
      "  \"num_heads\": 12,\n",
      "  \"num_layers\": 12,\n",
      "  \"output_past\": true,\n",
      "  \"pad_token_id\": 0,\n",
      "  \"relative_attention_num_buckets\": 32,\n",
      "  \"task_specific_params\": {\n",
      "    \"summarization\": {\n",
      "      \"early_stopping\": true,\n",
      "      \"length_penalty\": 2.0,\n",
      "      \"max_length\": 200,\n",
      "      \"min_length\": 30,\n",
      "      \"no_repeat_ngram_size\": 3,\n",
      "      \"num_beams\": 4,\n",
      "      \"prefix\": \"summarize: \"\n",
      "    },\n",
      "    \"translation_en_to_de\": {\n",
      "      \"early_stopping\": true,\n",
      "      \"max_length\": 300,\n",
      "      \"num_beams\": 4,\n",
      "      \"prefix\": \"translate English to German: \"\n",
      "    },\n",
      "    \"translation_en_to_fr\": {\n",
      "      \"early_stopping\": true,\n",
      "      \"max_length\": 300,\n",
      "      \"num_beams\": 4,\n",
      "      \"prefix\": \"translate English to French: \"\n",
      "    },\n",
      "    \"translation_en_to_ro\": {\n",
      "      \"early_stopping\": true,\n",
      "      \"max_length\": 300,\n",
      "      \"num_beams\": 4,\n",
      "      \"prefix\": \"translate English to Romanian: \"\n",
      "    }\n",
      "  },\n",
      "  \"transformers_version\": \"4.9.2\",\n",
      "  \"use_cache\": true,\n",
      "  \"vocab_size\": 32128\n",
      "}\n",
      "\n",
      "loading configuration file https://huggingface.co/t5-base/resolve/main/config.json from cache at /home/huangyongfeng/.cache/huggingface/transformers/91e9fe874e06c44883b535d6c950b8b89d6eaa3298d8e7fb3b2c78039e9f8b7b.a085189636e38420df5e7bdf08ad1b86f1fe33c010079ca7f15437ff95f4fe2b\n",
      "Model config T5Config {\n",
      "  \"architectures\": [\n",
      "    \"T5ForConditionalGeneration\"\n",
      "  ],\n",
      "  \"d_ff\": 3072,\n",
      "  \"d_kv\": 64,\n",
      "  \"d_model\": 768,\n",
      "  \"decoder_start_token_id\": 0,\n",
      "  \"dropout_rate\": 0.1,\n",
      "  \"eos_token_id\": 1,\n",
      "  \"feed_forward_proj\": \"relu\",\n",
      "  \"gradient_checkpointing\": false,\n",
      "  \"initializer_factor\": 1.0,\n",
      "  \"is_encoder_decoder\": true,\n",
      "  \"layer_norm_epsilon\": 1e-06,\n",
      "  \"model_type\": \"t5\",\n",
      "  \"n_positions\": 512,\n",
      "  \"num_decoder_layers\": 12,\n",
      "  \"num_heads\": 12,\n",
      "  \"num_layers\": 12,\n",
      "  \"output_past\": true,\n",
      "  \"pad_token_id\": 0,\n",
      "  \"relative_attention_num_buckets\": 32,\n",
      "  \"task_specific_params\": {\n",
      "    \"summarization\": {\n",
      "      \"early_stopping\": true,\n",
      "      \"length_penalty\": 2.0,\n",
      "      \"max_length\": 200,\n",
      "      \"min_length\": 30,\n",
      "      \"no_repeat_ngram_size\": 3,\n",
      "      \"num_beams\": 4,\n",
      "      \"prefix\": \"summarize: \"\n",
      "    },\n",
      "    \"translation_en_to_de\": {\n",
      "      \"early_stopping\": true,\n",
      "      \"max_length\": 300,\n",
      "      \"num_beams\": 4,\n",
      "      \"prefix\": \"translate English to German: \"\n",
      "    },\n",
      "    \"translation_en_to_fr\": {\n",
      "      \"early_stopping\": true,\n",
      "      \"max_length\": 300,\n",
      "      \"num_beams\": 4,\n",
      "      \"prefix\": \"translate English to French: \"\n",
      "    },\n",
      "    \"translation_en_to_ro\": {\n",
      "      \"early_stopping\": true,\n",
      "      \"max_length\": 300,\n",
      "      \"num_beams\": 4,\n",
      "      \"prefix\": \"translate English to Romanian: \"\n",
      "    }\n",
      "  },\n",
      "  \"transformers_version\": \"4.9.2\",\n",
      "  \"use_cache\": true,\n",
      "  \"vocab_size\": 32128\n",
      "}\n",
      "\n",
      "loading weights file https://huggingface.co/t5-base/resolve/main/pytorch_model.bin from cache at /home/huangyongfeng/.cache/huggingface/transformers/ab4e948915b067f5cb6e5105f6f85044fd717b133f43240db67899a8fc7b29a2.26934c75adf19ceac3c268b721ba353356b7609c45f5627550326f275a2163b4\n",
      "All model checkpoint weights were used when initializing T5ForConditionalGeneration.\n",
      "\n",
      "All the weights of T5ForConditionalGeneration were initialized from the model checkpoint at t5-base.\n",
      "If your task is similar to the task the model of the checkpoint was trained on, you can already use T5ForConditionalGeneration for predictions without further training.\n"
     ]
    }
   ],
   "source": [
    "import logging\n",
    "logger = logging.getLogger(__name__)\n",
    "CONFIG_MAPPING = {\"t5\": T5Config}\n",
    "MODEL_MAPPING = {\"t5\": T5ForConditionalGeneration}\n",
    "TOKENIZER_MAPPING = {\"t5\": T5Tokenizer}\n",
    "model_class = \"t5\"\n",
    "tokenizer_name = TOKENIZER_MAPPING[model_class]\n",
    "logger.info(\"Loading pretrained tokenizer...\")\n",
    "model_args.tokenizer_name='t5-base'\n",
    "tokenizer = tokenizer_name.from_pretrained(model_args.tokenizer_name)#, cache_dir=model_args.cache_dir)\n",
    "\n",
    "model = T5ForConditionalGeneration.from_pretrained(\"t5-base\")"
   ]
  },
  {
   "cell_type": "code",
   "execution_count": 7,
   "id": "62eef1a8",
   "metadata": {},
   "outputs": [
    {
     "data": {
      "text/plain": [
       "DataTrainingArguments(task_name='cos_e', early_stopping_patience=10, overwrite_cache=False, train_predict=False, test_predict=False, dev_predict=False, version_name='v1.11', generations_filepath=None, n_shots=10, fewshot_eval_size=350, io_format='t5_fewshot_infilling_without_choices_use_refined_expl', explanation_sep='explanation', data_path=None, gpt3_max_eval_size=None)"
      ]
     },
     "execution_count": 7,
     "metadata": {},
     "output_type": "execute_result"
    }
   ],
   "source": [
    "data_splits = {'train': None, 'validation': None, 'test': None}\n",
    "original_data_splits = {'train': None, 'validation': None, 'test': None}  \n",
    "data_args.io_format=\"t5_fewshot_infilling_without_choices_use_refined_expl\"\n",
    "data_args"
   ]
  },
  {
   "cell_type": "code",
   "execution_count": 8,
   "id": "efc49c0c",
   "metadata": {},
   "outputs": [
    {
     "data": {
      "application/json": {
       "ascii": false,
       "bar_format": null,
       "colour": null,
       "elapsed": 0.013473272323608398,
       "initial": 0,
       "n": 0,
       "ncols": null,
       "nrows": 60,
       "postfix": null,
       "prefix": "",
       "rate": null,
       "total": 2,
       "unit": "it",
       "unit_divisor": 1000,
       "unit_scale": false
      },
      "application/vnd.jupyter.widget-view+json": {
       "model_id": "077435aad6914cebb557025ef55bec73",
       "version_major": 2,
       "version_minor": 0
      },
      "text/plain": [
       "  0%|          | 0/2 [00:00<?, ?it/s]"
      ]
     },
     "metadata": {},
     "output_type": "display_data"
    },
    {
     "data": {
      "text/plain": [
       "dict_keys(['question', 'extractive_explanation', 'choices', 'id', 'answer', 'abstractive_explanation'])"
      ]
     },
     "execution_count": 8,
     "metadata": {},
     "output_type": "execute_result"
    }
   ],
   "source": [
    "dataset = datasets.load_dataset(data_args.task_name, data_args.version_name)\n",
    "train_ids_list=[x['id'] for x in dataset[\"train\"]]\n",
    "dataset['train'][0].keys()"
   ]
  },
  {
   "cell_type": "code",
   "execution_count": 9,
   "id": "294780bc",
   "metadata": {},
   "outputs": [
    {
     "data": {
      "application/json": {
       "ascii": false,
       "bar_format": null,
       "colour": null,
       "elapsed": 0.02121257781982422,
       "initial": 0,
       "n": 0,
       "ncols": null,
       "nrows": 60,
       "postfix": null,
       "prefix": "",
       "rate": null,
       "total": 1,
       "unit": "it",
       "unit_divisor": 1000,
       "unit_scale": false
      },
      "application/vnd.jupyter.widget-view+json": {
       "model_id": "d3e8c7ea589f4f88aaa13a0aa8886602",
       "version_major": 2,
       "version_minor": 0
      },
      "text/plain": [
       "  0%|          | 0/1 [00:00<?, ?it/s]"
      ]
     },
     "metadata": {},
     "output_type": "display_data"
    },
    {
     "name": "stdout",
     "output_type": "stream",
     "text": [
      "[6723, 3269, 12, 6020, 7815, 0, 13, 7, 3556, 4587, 3166, 2607, 1999, 332, 8571, 2, 3520, 6, 1425, 2361, 3764, 7728, 8352, 1273, 5191, 496, 11, 8143, 6929, 4552, 4652, 7764, 6736, 401, 147, 8339, 3128, 5556, 8769, 4417, 8778, 7145, 1279, 6297, 7149, 5884, 10, 5747, 6273, 8, 9504, 8057, 1307, 2183, 1699, 88, 3228, 7178, 2140, 4048, 1041, 1, 3, 5868, 111, 7889, 5370, 8886, 2137, 6980, 9117, 1891, 7827, 1484, 14, 3668, 7090, 5, 7817, 6213, 4656, 5074, 7514, 5896, 4, 9, 7991, 58, 1887, 1598, 3994, 2212, 2274, 6830, 8826, 1604, 9008, 2013, 6521, 4793, 4338, 3923, 8091, 4904, 3938, 3900, 8156, 5806, 8363, 1787, 1496, 5753, 6351, 1104, 1222]\n"
     ]
    },
    {
     "data": {
      "text/plain": [
       "115"
      ]
     },
     "execution_count": 9,
     "metadata": {},
     "output_type": "execute_result"
    }
   ],
   "source": [
    "#rationale generation labeled data construction 115\n",
    "import pandas as pd\n",
    "scr_csqa_labeled_path=\"/cognitive_comp/huangyongfeng/evaluate_LM_with_rationalization/few_shot_explanations/data/handwritten_cose_v1.11_examples.csv\"\n",
    "scr_csqa_label_df=pd.read_csv(scr_csqa_labeled_path)\n",
    "scr_csqa_label_data=datasets.load_dataset('csv', data_files=scr_csqa_labeled_path)\n",
    "scr_csqa_label_ids_list=[x['id'] for x in scr_csqa_label_data['train']]\n",
    "scr_csqa_indexs_list=[train_ids_list.index(id_) for id_ in scr_csqa_label_ids_list]\n",
    "scr_csqa_label_our_explanations_list=[x['our_explanation'] for x in scr_csqa_label_data['train']]\n",
    "print(scr_csqa_indexs_list)\n",
    "data_splits={}\n",
    "data_splits['train']=dataset['train'].select(scr_csqa_indexs_list)\n",
    "\n",
    "refine_train_data=[]\n",
    "for kk, (ex,da) in enumerate(zip(scr_csqa_label_our_explanations_list, data_splits['train'])):\n",
    "#     print(da)\n",
    "    data_splits['train'][kk]['our_explanation']=ex\n",
    "    #print(type(data_splits['train'][kk]),data_splits['train'][kk].keys())\n",
    "    da['our_explanation']=ex\n",
    "    refine_train_data.append(da)\n",
    "\n",
    "len(data_splits['train'])"
   ]
  },
  {
   "cell_type": "code",
   "execution_count": 10,
   "id": "1d97f507",
   "metadata": {},
   "outputs": [
    {
     "data": {
      "application/json": {
       "ascii": false,
       "bar_format": null,
       "colour": null,
       "elapsed": 0.0271761417388916,
       "initial": 0,
       "n": 0,
       "ncols": null,
       "nrows": 60,
       "postfix": null,
       "prefix": "",
       "rate": null,
       "total": 1,
       "unit": "it",
       "unit_divisor": 1000,
       "unit_scale": false
      },
      "application/vnd.jupyter.widget-view+json": {
       "model_id": "2e1d800c85e640f183fbe0a0100922f7",
       "version_major": 2,
       "version_minor": 0
      },
      "text/plain": [
       "  0%|          | 0/1 [00:00<?, ?it/s]"
      ]
     },
     "metadata": {},
     "output_type": "display_data"
    },
    {
     "data": {
      "text/plain": [
       "{'id': '5b8a3081c3235d62bc77e2d15f3ad454',\n",
       " 'question': 'A town between two mountains is located in a what?',\n",
       " 'choices': ['valley', 'hospital', 'state', 'train station', 'michigan'],\n",
       " 'answer': 'valley',\n",
       " 'abstractive_explanation': 'valleys are always between two mountains',\n",
       " 'extractive_explanation': 'A town between two mountains',\n",
       " 'our_explanation': 'A valley is usually between two mountains, where it is located in the place where the mountains are closest to each other.'}"
      ]
     },
     "execution_count": 10,
     "metadata": {},
     "output_type": "execute_result"
    }
   ],
   "source": [
    "#rationale unlabeled data construction 991\n",
    "import pdb\n",
    "scr_csqa_unlabeled_test_file=\"/cognitive_comp/huangyongfeng/evaluate_LM_with_rationalization/few_shot_explanations/data/acceptability_annotations/commonsenseqa_test.csv\"\n",
    "fse_csqa_dev_dataset = datasets.load_dataset('csv', data_files=scr_csqa_unlabeled_test_file)\n",
    "scr_csqa_unlabeled_test_df=pd.read_csv(scr_csqa_unlabeled_test_file)\n",
    "fse_csqa_dev_data_dict={}\n",
    "for kk, da in enumerate(fse_csqa_dev_dataset['train']):\n",
    "    #pdb.set_trace()\n",
    "    id_=da['Input.id']\n",
    "    if da['Answer.acceptable']:\n",
    "        answer_accept=set(da['Answer.acceptable'].split('|'))\n",
    "    else:\n",
    "        answer_accept=set()\n",
    "    explanation_list=[da['Input.explanation_1'], \n",
    "                      da['Input.explanation_2'],\n",
    "                      da['Input.explanation_3'],\n",
    "                      da['Input.explanation_4'],\n",
    "                      da['Input.explanation_5']]\n",
    "    if id_ not in fse_csqa_dev_data_dict.keys():\n",
    "        fse_csqa_dev_data_dict[id_]={\"index\":kk,\"id\":id_,\n",
    "                                     \"question\":da[\"Input.question\"],\n",
    "                                     'answer':da['Input.gold_label'],\n",
    "                                     \"accept_set_list\":[answer_accept],\n",
    "                                     \"explanation_list\":explanation_list}\n",
    "        #[[kk, id_, answer_accept, explanation_list]]\n",
    "    else:\n",
    "        fse_csqa_dev_data_dict[id_][\"accept_set_list\"].append(answer_accept)\n",
    "    if len(fse_csqa_dev_data_dict[id_][\"accept_set_list\"])==3:\n",
    "        fse_csqa_dev_data_dict[id_][\"common_expl_list\"]=[]\n",
    "        common_accept_expl_sample=set.intersection(fse_csqa_dev_data_dict[id_][\"accept_set_list\"][0], \n",
    "                                                   fse_csqa_dev_data_dict[id_][\"accept_set_list\"][1], \n",
    "                                                   fse_csqa_dev_data_dict[id_][\"accept_set_list\"][2])\n",
    "        for idx in list(common_accept_expl_sample):\n",
    "            idx=int(idx)-1\n",
    "            fse_csqa_dev_data_dict[id_][\"common_expl_list\"].append(fse_csqa_dev_data_dict[id_][\"explanation_list\"][idx])\n",
    "        \n",
    "#discriminate 3/3 id\n",
    "id_accept_expl_list=[]\n",
    "our_accept_expl_list=[]\n",
    "id_unaccept_expl_list=[]\n",
    "for k,v in fse_csqa_dev_data_dict.items():\n",
    "    accept_set_list=v['accept_set_list']\n",
    "    assert len(accept_set_list)==3\n",
    "    #pdb.set_trace()\n",
    "    common_accept_expl_sample=set.intersection(accept_set_list[0], accept_set_list[1], accept_set_list[2])\n",
    "    #print(accept_set_list,common_accept_expl_sample)\n",
    "    #pdb.set_trace()\n",
    "    if common_accept_expl_sample:\n",
    "        id_accept_expl_list.append(k)\n",
    "        our_expl=\"\"\n",
    "        for idx in list(common_accept_expl_sample):\n",
    "            idx=int(idx)-1\n",
    "            if len(v['explanation_list'][idx]) > len(our_expl):\n",
    "                our_expl = v['explanation_list'][idx]\n",
    "                our_accept_expl_list.append(our_expl)\n",
    "    else:\n",
    "        id_unaccept_expl_list.append(k)\n",
    "\n",
    "dev_ids_list=[x['id'] for x in dataset['validation']]\n",
    "dev_accept_indexs_list=[dev_ids_list.index(id_) for id_ in id_accept_expl_list]\n",
    "dev_unaccpet_indexs_list=[dev_ids_list.index(id_) for id_ in id_unaccept_expl_list]\n",
    "dev_accept_data=dataset['validation'].select(dev_accept_indexs_list)\n",
    "dev_unaccept_data=dataset['validation'].select(dev_unaccpet_indexs_list)\n",
    "\n",
    "\n",
    "\n",
    "new_dev_accept_data=[]\n",
    "new_dev_unaccept_data=[]\n",
    "for oexp, da in zip(our_accept_expl_list,dev_accept_data):\n",
    "    da[\"our_explanation\"]=oexp\n",
    "    new_dev_accept_data.append(da)\n",
    "for da in dev_unaccept_data:\n",
    "    da[\"our_explanation\"]=oexp\n",
    "    new_dev_unaccept_data.append(da)\n",
    "        \n",
    "new_dev_accept_data[0]\n",
    "        "
   ]
  },
  {
   "cell_type": "code",
   "execution_count": 11,
   "id": "ffe13707",
   "metadata": {},
   "outputs": [
    {
     "data": {
      "text/plain": [
       "{'index': 0,\n",
       " 'id': '5b8a3081c3235d62bc77e2d15f3ad454',\n",
       " 'question': 'A town between two mountains is located in a what?',\n",
       " 'answer': 'valley',\n",
       " 'accept_set_list': [{'2', '4', '5'}, {'2', '4', '5'}, {'2', '4', '5'}],\n",
       " 'explanation_list': ['Because all of the mountains are to the left of this town, if one was looking on a map, one would be able to see the town in the valley.',\n",
       "  'A valley is usually between two mountains, where it is located in the place where the mountains are closest to each other.',\n",
       "  'Because rivers end in valleys; assuming the river is the one of interest, this sentence is likely referring to the geographical location of the town.',\n",
       "  'A town in between mountains presumably would be in a valley, in which case it is plausable that it would be surrounded by heights in every direction.',\n",
       "  'A valley is a low area between two mountains.'],\n",
       " 'common_expl_list': ['A valley is usually between two mountains, where it is located in the place where the mountains are closest to each other.',\n",
       "  'A valley is a low area between two mountains.',\n",
       "  'A town in between mountains presumably would be in a valley, in which case it is plausable that it would be surrounded by heights in every direction.']}"
      ]
     },
     "execution_count": 11,
     "metadata": {},
     "output_type": "execute_result"
    }
   ],
   "source": [
    "fse_csqa_dev_data_dict['5b8a3081c3235d62bc77e2d15f3ad454']\n"
   ]
  },
  {
   "cell_type": "code",
   "execution_count": 12,
   "id": "3161874f",
   "metadata": {},
   "outputs": [],
   "source": [
    "# for k,v in fse_csqa_dev_data_dict.items():\n",
    "#     #print(v.keys())\n",
    "#     print(\"******\")\n",
    "#     print(v['question'])\n",
    "#     print(v['answer'])\n",
    "#     print(v['common_expl_list'])\n",
    "#     print(\"******\")    \n",
    "# for k,v in fse_csqa_train_data_dict.items():\n",
    "#     #print(v.keys())\n",
    "#     print(\"******\")\n",
    "#     print(v['question'])\n",
    "#     print(v['answer'])\n",
    "#     print(v['common_expl_list'])\n",
    "#     print(\"******\") \n"
   ]
  },
  {
   "cell_type": "code",
   "execution_count": 13,
   "id": "3e0e8a2d",
   "metadata": {},
   "outputs": [
    {
     "data": {
      "application/json": {
       "ascii": false,
       "bar_format": null,
       "colour": null,
       "elapsed": 0.012781381607055664,
       "initial": 0,
       "n": 0,
       "ncols": null,
       "nrows": 60,
       "postfix": null,
       "prefix": "",
       "rate": null,
       "total": 1,
       "unit": "it",
       "unit_divisor": 1000,
       "unit_scale": false
      },
      "application/vnd.jupyter.widget-view+json": {
       "model_id": "61e7d7e04e9a4bb8a3788dc0db1003b4",
       "version_major": 2,
       "version_minor": 0
      },
      "text/plain": [
       "  0%|          | 0/1 [00:00<?, ?it/s]"
      ]
     },
     "metadata": {},
     "output_type": "display_data"
    },
    {
     "data": {
      "text/plain": [
       "{'id': 'ed53cbea1f21072fab892031b31192d1',\n",
       " 'question': 'Where can you likely buy many poems?',\n",
       " 'choices': ['book of poetry',\n",
       "  'literature book',\n",
       "  'book store',\n",
       "  'poetry book',\n",
       "  'bookshelf'],\n",
       " 'answer': 'book store',\n",
       " 'abstractive_explanation': 'book store book',\n",
       " 'extractive_explanation': 'buy many poems',\n",
       " 'our_explanation': 'A book store is a place where you can buy books, including poetry books.'}"
      ]
     },
     "execution_count": 13,
     "metadata": {},
     "output_type": "execute_result"
    }
   ],
   "source": [
    "#rationale unlabeled data construction 991\n",
    "import pdb\n",
    "scr_csqa_unlabeled_train_file=\"/cognitive_comp/huangyongfeng/evaluate_LM_with_rationalization/few_shot_explanations/data/acceptability_annotations/commonsenseqa_train.csv\"\n",
    "fse_csqa_train_dataset = datasets.load_dataset('csv', data_files=scr_csqa_unlabeled_train_file)\n",
    "scr_csqa_unlabeled_train_df=pd.read_csv(scr_csqa_unlabeled_train_file)\n",
    "fse_csqa_train_data_dict={}\n",
    "for kk, da in enumerate(fse_csqa_train_dataset['train']):\n",
    "    #pdb.set_trace()\n",
    "    id_=da['Input.id']\n",
    "    if da['Answer.acceptable']:\n",
    "        answer_accept=set(da['Answer.acceptable'].split('|'))\n",
    "    else:\n",
    "        answer_accept=set()\n",
    "    explanation_list=[da['Input.explanation_1'], \n",
    "                      da['Input.explanation_2'],\n",
    "                      da['Input.explanation_3'],\n",
    "                      da['Input.explanation_4'],\n",
    "                      da['Input.explanation_5']]\n",
    "    if id_ not in fse_csqa_train_data_dict.keys():\n",
    "        fse_csqa_train_data_dict[id_]={\"index\":kk,\"id\":id_,\n",
    "                                     \"question\":da[\"Input.question\"],\n",
    "                                     'answer':da['Input.gold_label'],\n",
    "                                     \"accept_set_list\":[answer_accept],\n",
    "                                     \"explanation_list\":explanation_list}\n",
    "        #[[kk, id_, answer_accept, explanation_list]]\n",
    "    else:\n",
    "        fse_csqa_train_data_dict[id_][\"accept_set_list\"].append(answer_accept)\n",
    "        \n",
    "    if len(fse_csqa_train_data_dict[id_][\"accept_set_list\"])==3:\n",
    "        fse_csqa_train_data_dict[id_][\"common_expl_list\"]=[]\n",
    "        common_accept_expl_sample=set.intersection(fse_csqa_train_data_dict[id_][\"accept_set_list\"][0], \n",
    "                                                   fse_csqa_train_data_dict[id_][\"accept_set_list\"][1], \n",
    "                                                   fse_csqa_train_data_dict[id_][\"accept_set_list\"][2])\n",
    "        for idx in list(common_accept_expl_sample):\n",
    "            idx=int(idx)-1\n",
    "            fse_csqa_train_data_dict[id_][\"common_expl_list\"].append(fse_csqa_train_data_dict[id_][\"explanation_list\"][idx])\n",
    "\n",
    "    \n",
    "#discriminate 3/3 id\n",
    "id_accept_expl_list=[]\n",
    "our_accept_expl_list=[]\n",
    "id_unaccept_expl_list=[]\n",
    "for k,v in fse_csqa_train_data_dict.items():\n",
    "    accept_set_list=v['accept_set_list']\n",
    "    assert len(accept_set_list)==3\n",
    "    #pdb.set_trace()\n",
    "    common_accept_expl_sample=set.intersection(accept_set_list[0], accept_set_list[1], accept_set_list[2])\n",
    "    #print(accept_set_list,common_accept_expl_sample)\n",
    "    #pdb.set_trace()\n",
    "    if common_accept_expl_sample:\n",
    "        id_accept_expl_list.append(k)\n",
    "        our_expl=\"\"\n",
    "        for idx in list(common_accept_expl_sample):\n",
    "            idx=int(idx)-1\n",
    "            if len(v['explanation_list'][idx]) > len(our_expl):\n",
    "                our_expl = v['explanation_list'][idx]\n",
    "                our_accept_expl_list.append(our_expl)\n",
    "    else:\n",
    "        id_unaccept_expl_list.append(k)\n",
    "\n",
    "train_ids_list=[x['id'] for x in dataset['train']]\n",
    "train_accept_indexs_list=[train_ids_list.index(id_) for id_ in id_accept_expl_list]\n",
    "train_unaccpet_indexs_list=[train_ids_list.index(id_) for id_ in id_unaccept_expl_list]\n",
    "train_accept_data=dataset['train'].select(train_accept_indexs_list)\n",
    "train_unaccept_data=dataset['train'].select(train_unaccpet_indexs_list)\n",
    "\n",
    "\n",
    "\n",
    "new_train_accept_data=[]\n",
    "new_train_unaccept_data=[]\n",
    "for oexp, da in zip(our_accept_expl_list,train_accept_data):\n",
    "    da[\"our_explanation\"]=oexp\n",
    "    new_train_accept_data.append(da)\n",
    "for da in train_unaccept_data:\n",
    "    da[\"our_explanation\"]=oexp\n",
    "    new_train_unaccept_data.append(da)\n",
    "        \n",
    "new_train_accept_data[0]"
   ]
  },
  {
   "cell_type": "code",
   "execution_count": 14,
   "id": "595b9453",
   "metadata": {},
   "outputs": [
    {
     "data": {
      "text/plain": [
       "(set(), set())"
      ]
     },
     "execution_count": 14,
     "metadata": {},
     "output_type": "execute_result"
    }
   ],
   "source": [
    "refine_train_data=refine_train_data\n",
    "refine_dev_data=new_train_accept_data + new_dev_accept_data\n",
    "refine_test_data=new_train_unaccept_data + new_dev_unaccept_data\n",
    "\n",
    "refine_train_ids_list=[x['id'] for x in refine_train_data]\n",
    "refine_dev_ids_list=[x['id'] for x in refine_dev_data]\n",
    "refine_test_ids_list=[x['id'] for x in refine_test_data]\n",
    "\n",
    "set(refine_train_ids_list).intersection(set(refine_dev_ids_list)),set(refine_train_ids_list).intersection(set(refine_test_ids_list))\n",
    "\n"
   ]
  },
  {
   "cell_type": "code",
   "execution_count": 15,
   "id": "48e4ec26",
   "metadata": {},
   "outputs": [
    {
     "data": {
      "text/plain": [
       "dict_keys(['id', 'question', 'choices', 'answer', 'abstractive_explanation', 'extractive_explanation', 'our_explanation'])"
      ]
     },
     "execution_count": 15,
     "metadata": {},
     "output_type": "execute_result"
    }
   ],
   "source": [
    "our_data_splits={}\n",
    "our_data_splits['train']=refine_train_data\n",
    "our_data_splits['dev']=refine_dev_data\n",
    "our_data_splits['test']=refine_test_data\n",
    "refine_train_data[0].keys()"
   ]
  },
  {
   "cell_type": "markdown",
   "id": "0fcdf34f",
   "metadata": {},
   "source": [
    "# shots number"
   ]
  },
  {
   "cell_type": "code",
   "execution_count": 16,
   "id": "bd43fe66",
   "metadata": {},
   "outputs": [],
   "source": [
    "id_list = [\n",
    " '71519c19654251cced50c5718fd527c1',\n",
    " '44195d210c81c8c550174d0edbd3ad5d',\n",
    " '5a5da37b685ec9c6f15228128ce30437',\n",
    " 'cabdfc174953b4bdb8bdcc89d6592c74',\n",
    " 'eac3a4080127e8924034651b57dfa289',\n",
    " 'c0013f31657294b9b5ad819123513ca7',\n",
    " '2681697be70cd5425899ed6deb84b18a',\n",
    " '47f60340b869552e795fa6782224f3d2',\n",
    " '7e8a6eac93147eb52d8151bab7b40003',\n",
    " 'f34267f498c8a78383e35057fbcfa2ce',\n",
    " 'f024f923d78e5c0a4c0c4baa3ddccf05',\n",
    " 'e148c710d0c26849cf1f15293481038b',\n",
    " 'bdf437d7498815f36c255f64a8e6571c',\n",
    " '2282e0c80be28aadadb79a822fec9dac',\n",
    " 'bdd05e96876342b4b5999709439a7f4e',\n",
    " '494b8316614fc64c5c27757aeaffce23_1',\n",
    " 'c4494b402264250dc70931613d482295',\n",
    " 'fcfbf207c5586294fdce33b645b613f1',\n",
    " '9c583bcbe68989a644433302545fb31e',\n",
    " '0e684d779d98e6eecda167c10af42bbb',\n",
    " 'ac0462d09b9fddd40c3c77aedf48a870',\n",
    " '1dbfb41e04a10bdbb085bfe667c0df99',\n",
    " 'cd0c0ef3b8ce0eb09ff26823f6059be6',\n",
    " 'e6b67184b99375d05d3f2887f684c684',\n",
    " 'ae9f6f1e17b3fdd3a86b494933809f45',\n",
    " 'f149604169936a30b7e4c8d599d604b5',\n",
    " 'd7c8377953e0175ef57d59f3a8e63a8e',\n",
    " '1837216ac7745121b82a6491b2318c09',\n",
    " 'b5fe238d45e55ca5d802b7823ad390ef',\n",
    " 'b2fbeb0b48bd5e575af0f7dc24cdd85d',\n",
    " '9bdfb101c487ac598f6e4686cf774703',\n",
    " '206c7116ee2246180fcc0c5a1d0e7205',\n",
    " '5cd7f44bbf730dfae5ef2a362d2e5149',\n",
    " '45d0ea781ffd49b07d6eae94d47a8945',\n",
    " '89afdea1d76272fda8e1538a7d3b7a3f',\n",
    " '38a514fe54108527e1d6e89d9812da93',\n",
    " 'ebf347934a3e90ea46d3d87726fb5d25',\n",
    " '90226a6ecd7308ae1e6220a15ae24bc6',\n",
    " '5cae8057e75e3adf5c338a43b3ba97fb',\n",
    " '388a363c49e1b0aca8eaf18ccdde0caf',\n",
    " '9ed3af82152dfcd7000bf4631b095f71',\n",
    " '2d5805d894bba224c5fe91e70b8c0f77',\n",
    " 'd5aa464a16b72c9b9f3091abd461e3ef',\n",
    " '381b11c54be4cc432a95053ca34cbf6b',\n",
    " '807a3a2dabdd50ed0c76052fd2612632',\n",
    " '5172041c750d22e9a5081cc024de0fa6',\n",
    " 'd32a45ab3b751110d0578a78e54c0e64',\n",
    " '28ca5cbe27774746c34f6ebe84fc6d0c']\n",
    "\n",
    "chatGPT_rationales = [\n",
    "    \"A cup is a common vessel used for holding and drinking liquids, such as water, coffee, or tea. When you want to get yourself a drink, you might typically get a cup from a cabinet or other storage area in order to hold the drink. A cup is a convenient and practical choice for getting a drink because it is easy to hold and use, and it can hold a reasonable amount of liquid. There are many different types of cups available, including ceramic, glass, plastic, and metal cups, each with their own unique features and benefits. Whether you are at home, at work, or out in public, a cup is a handy item to have on hand when you need to quench your thirst.\",\n",
    "    \"A front yard is the lawn that is typically located in front of a house, near the street. The front yard is the part of the property that is visible from the street and is often used for decorative purposes, such as landscaping or gardening. Many people take pride in their front yards and may spend time and resources maintaining and improving them. The front yard is often the first thing that visitors see when they arrive at a house, and it can make a strong impression on them. In contrast, the back yard is typically located behind the house and is often used for more practical purposes, such as outdoor recreation or gardening.\",\n",
    "    \"A swimming pool is a recreational water feature that is typically used for swimming and other aquatic activities. While shallow water, such as that found in a kiddie pool or a shallow end of a pool, can be enjoyable for some people, it may not be sufficient for many summer activities. A swimming pool that is deep enough for diving and other activities is more likely to provide more opportunities for summer fun. In addition, a swimming pool that is clean and chlorinated is more likely to be safe and enjoyable for swimming, as it will be free of contaminants and bacteria that can cause illness.\",\n",
    "    \"In most places, it is illegal for people under the age of 21 to purchase or consume alcohol. This is because alcohol can have negative effects on the developing brain and body of young people. It can also contribute to risky behaviors and accidents. Therefore, many governments have set a minimum age for alcohol consumption and purchase to help protect the health and safety of young people. If someone is under the age of 21 and attempts to purchase alcohol, they may be denied the sale or face legal consequences. It is important for young people to understand and adhere to the laws and regulations regarding the purchase and consumption of alcohol in their area.\",\n",
    "    \"When someone shaves, they typically use a razor to remove hair from their face or body. The process of shaving can leave a lot of hair in the sink, as the hair is trimmed off and falls into the sink as it is being shaved. It is common for people to shave in the bathroom, where a sink is typically located. The sink provides a convenient place to rinse the razor and wash off any excess hair or shaving cream. It is important to clean the sink after shaving to remove any hair and prevent clogs in the drain.\",\n",
    "    \"A hamburger is a type of sandwich that consists of a cooked patty of ground meat, typically beef, placed between two slices of bread or a bun. Hamburgers are often served with various toppings, such as lettuce, tomato, onion, cheese, and condiments like ketchup and mustard. However, if someone is suffering from great hunger, they may not care about the toppings and just want to eat the hamburger itself. In this case, the person may be more focused on satisfying their hunger and getting nourishment rather than worrying about additional ingredients or flavors.\",\n",
    "    \"If a person notices popcorn and cotton candy on the grass, they are likely at fairgrounds. Fairgrounds are outdoor areas that are used for hosting fairs and other events, such as carnivals, festivals, and exhibitions. These events often feature food stalls and vendors that sell a variety of treats, including popcorn and cotton candy. Popcorn and cotton candy are both popular carnival foods that are often sold at fairs and other events. The presence of these foods on the ground at fairgrounds suggests that a fair or similar event is taking place there.\",\n",
    "    \"When snow on a mountain becomes heavy, it can trigger an avalanche. An avalanche is a rapid flow of snow down a slope, often triggered by the weight of the snow or external factors such as a change in temperature. Avalanches can be dangerous and destructive, as they can bury and sweep away anything in their path, including people, buildings, and vehicles. Avalanches can occur on any slope with a steep enough incline and a sufficient amount of snow. They are most common on mountains, but they can also occur in other snowy areas, such as forests or valleys. It is important for people to be aware of the risk of avalanches and to take precautions when traveling in areas prone to avalanches.\",\n",
    "    \"A police officer typically reports their work through the use of case reports or incident reports. These reports are written documents that detail the events of a specific case or incident that the officer has worked on. Case reports or incident reports typically include information such as the date and time of the incident, the location, the people involved, and the actions taken by the officer. They may also include witness statements, evidence collected, and any other relevant details. Case reports or incident reports are used by police officers to document their work and provide a record of the incidents they have dealt with. They are also used by supervisors and other authorities to review and evaluate the performance of the officer and the effectiveness of their actions.\",\n",
    "    \"Teachers play many roles in the lives of their students, including mentor, counselor, and role model. However, they get the most out of their job by simply teaching children. Teaching children is the primary responsibility of a teacher, and it is what they are trained and paid to do. Teaching involves imparting knowledge, skills, and values to students, and helping them to develop the skills and habits they need to succeed in life. Teachers have the opportunity to make a positive impact on the lives of their students by providing them with a strong foundation in academic subjects and helping them to become curious, engaged learners. Teachers often derive a great deal of satisfaction from helping their students to achieve their potential and succeed in their studies.\",\n",
    "    \"A person might go to get counseling for a variety of reasons. One reason is to better understand themselves. Counseling can provide a safe and supportive environment for individuals to explore their thoughts, feelings, and behaviors, and to gain insight into why they act and feel the way they do. Counseling can also help a person to identify and work through any underlying issues or challenges that may be causing them distress or hindering their personal growth. Through counseling, a person can learn more about themselves and how to navigate their emotions and relationships more effectively. Counseling can be particularly helpful for individuals who are struggling with mental health issues, relationship problems, or other personal challenges.\",\n",
    "    \"If the kids wanted to cool off, they might go swimming as a way to refresh and beat the heat. Swimming is a fun and enjoyable activity that can provide relief from hot weather and help to cool the body. Swimming can also provide a great workout and has numerous health benefits, such as improving cardiovascular fitness and flexibility. There are many different places where kids can go swimming, such as pools, lakes, rivers, or the ocean. No matter where they go, kids can have fun and cool off while enjoying the water.\",\n",
    "    \"When remembering a tragedy in the past, many people may feel depressed. Depression is a common emotional reaction to experiencing a traumatic or stressful event, such as a tragedy. Depression is a mental health disorder characterized by persistent feelings of sadness, hopelessness, and low energy. It can also cause physical symptoms such as changes in appetite and sleep patterns, fatigue, and difficulty concentrating. Remembering a tragedy can be emotionally difficult and may trigger feelings of sadness, grief, and guilt. It is important for people who are struggling with depression to seek support and treatment to help manage their symptoms and improve their mental health.\",\n",
    "    \"Death Valley is a national park located in the Mojave Desert, in the state of California, United States. It is situated on the North American continent. The North American continent is one of the seven continents of the world and is located in the western hemisphere. It is the third largest continent in terms of land area, after Asia and Africa, and is home to a diverse range of cultures, languages, and environments. Death Valley is known for its extreme desert climate and is the lowest, hottest, and driest place in North America. It is a popular destination for tourists, who come to see its unique geological features, such as sand dunes, salt flats, and canyons.\",\n",
    "    \"When in a serious relationship, understanding better requires effort. Relationships require effort and work to maintain and grow. In order to understand your partner better, you need to be willing to put in the time and effort to communicate with them, listen to their perspectives, and try to see things from their point of view. This may involve asking questions, expressing your own feelings and needs, and being open to feedback and compromise. Understanding your partner better can help to strengthen the bond between you and improve the quality of your relationship. It is important to remember that relationships are dynamic and evolving, and that ongoing communication and effort are necessary to maintain a healthy and fulfilling relationship.\",\n",
    "    \"Cats are able to make a variety of vocalizations, including meows, purrs, and growls, as a way of communicating with humans and other animals. Cats use these vocalizations to convey a range of emotions and needs, such as hunger, happiness, or discomfort. Meowing is a common vocalization that cats use to communicate with humans. Cats may meow when they want attention, food, or to be let outside. Cats may also meow when they are feeling anxious or stressed. Although cats cannot talk in the same way that humans do, they are skilled at using their voices to communicate with their owners and other animals.\",\n",
    "    \"If you need a vessel that is similar to a battleship but faster, you might consider using a corvette. A corvette is a small, fast warship that is typically used for convoy escort, patrol, and other shallow water duties. Corvettes are generally smaller and less heavily armed than battleships, but they are more agile and have a higher speed. They are typically equipped with a variety of weapons, including guns, missiles, and torpedoes, and are used for defending against enemy ships and aircraft. Corvettes are often used for coastal defense, as well as for patrolling and enforcing maritime laws. They are capable of operating in a variety of environments, including open ocean and littoral (nearshore) waters.\",\n",
    "    \"Water in the sky comes from rain clouds. Rain clouds are clouds that form when moist air rises and cools, forming tiny water droplets that condense around particles in the air. As the droplets grow, they eventually become heavy enough to fall from the cloud as rain. Rain clouds are typically gray or white in color and are often accompanied by other types of clouds, such as cumulus or stratocumulus clouds. Rain clouds can form in a variety of ways, such as when warm, moist air from the ground rises and cools, or when moist air from the ocean is carried inland by the wind. Rain clouds can be found in many parts of the world and are a common source of precipitation, especially during the warmer months.\",\n",
    "    \"If John rented a hotel room while on a business trip and it was a company-sponsored event, it is possible that the hotel was a resort. Resorts are hotels or vacation properties that offer a variety of amenities and activities for guests, such as swimming pools, golf courses, spas, and restaurants. They are often located in scenic or recreational areas and are designed to provide a relaxing and enjoyable experience for guests. Many resorts offer conference and meeting facilities and are popular destinations for business events and retreats. If John's company sponsored the business trip and provided the hotel accommodations, it is likely that they chose a resort with the amenities and facilities needed to support the event.\",\n",
    "    \"An expressway might leave the United States and go to Canada. The United States and Canada are neighboring countries that share a border, and there are several expressways that cross the border between the two countries. Expressways are high-speed, limited-access roads that are designed for fast and efficient travel. They typically have multiple lanes and may include features such as grade separations, interchanges, and controlled access points. Expressways are used for long-distance travel and are often the main routes connecting major cities and regions. If an expressway leaves the United States, it is likely that it is heading towards Canada, which is located to the north of the United States.\",\n",
    "    \"If you were walking on a sidewalk near a small corner shop run by John, you would look for it on the street corner. A corner shop is a small retail store that is typically located at the intersection of two streets. It is often a convenience store or a neighborhood shop that sells a variety of goods, such as groceries, household items, and other supplies. Corner shops are often located in busy urban areas, where they are easily accessible to pedestrians and motorists. If you were walking on a sidewalk near a corner shop, you would look for it at the intersection of the street where you are walking and another street. The shop is likely to be located in a building on the corner, with windows and doors facing the street.\",\n",
    "    \"One way that a company can efficiently sell things to their customers is through mail order. Mail order is a method of selling goods or services by advertising them in a catalog or other publication and allowing customers to place orders by mail, telephone, or online. Mail order is a convenient and efficient way for companies to reach a wide customer base, as it allows them to sell products to customers who may not be located near their physical store or who may not have the time or inclination to shop in person. Mail order companies typically have a centralized warehouse or distribution center where orders are processed and shipped to customers. They may also offer options such as easy returns and exchanges, as well as customer service support to assist with any questions or issues that customers may have.\",\n",
    "    \"If he enjoyed the factory work and liked the idea that he did it for sale, it is likely that he enjoyed producing goods. Factory work typically involves the production of goods, such as products or materials, using machines, tools, and other equipment. Factory workers are responsible for operating and maintaining the equipment and ensuring that the goods being produced meet quality standards. The goods produced in a factory may be sold directly to consumers or to other businesses, and may be used for a variety of purposes, such as manufacturing, construction, or distribution. If a person enjoys factory work, they may find satisfaction in the idea that they are contributing to the production of goods that will be sold and used by others.\",\n",
    "    \"If returning to work was easy for Dan after his treatment and he was completely painless, it is likely that he had undergone some form of medical treatment or therapy to address a health issue or injury. Painless indicates that Dan was no longer experiencing pain or discomfort, which may have been a result of the treatment or therapy he received. It is not clear from the information provided what specific health issue or injury Dan was dealing with, or what treatment or therapy he received. However, it is possible that Dan was able to return to work more easily after his treatment because he was feeling better and was no longer experiencing any pain or discomfort.\",\n",
    "    \"If index cards were on display at the museum, it is likely that the museum was a library. Libraries are institutions that provide access to a wide range of resources, including books, periodicals, and other printed materials, as well as digital resources such as e-books, databases, and online research tools. Libraries often have exhibits and displays of various types of materials, including rare or unique items, and may have special collections or archives that are of particular interest to researchers or historians. Index cards are small, rectangular pieces of paper that are used for organizing information, such as names, dates, or research notes. They may be used in a variety of settings, including libraries, offices, and schools. If index cards were on display at the museum, it is possible that they were part of a historical exhibit or collection related to the history of libraries or research.\",\n",
    "    \"If she was a human in America who wanted to live well, it is likely that the given for her situation was the need for money. In general, money is an important factor in enabling people to live well and meet their basic needs and desires. Money allows people to purchase the goods and services that they need to sustain themselves and their families, such as food, clothing, housing, and healthcare. It also enables people to pursue their interests and hobbies, travel, and engage in various forms of leisure and entertainment. In America, and in many other countries around the world, the cost of living can be high, and people often need to earn and save money in order to achieve a desired standard of living. As such, the need for money is a given for many people in order to live well.\",\n",
    "    \"A place that could have one back garden is a house. A garden is a piece of land that is used for growing plants, flowers, vegetables, or other types of vegetation. Gardens can be found in a variety of settings, including residential properties, public parks, and commercial properties. A house is a building that is used as a dwelling for one or more people, and it typically includes living spaces, such as bedrooms, bathrooms, and a kitchen, as well as outdoor areas, such as a front yard, side yard, and back yard. A back yard is a private outdoor space that is typically located behind a house and is often used for recreational or leisure activities, such as gardening, grilling, or playing games. If a house has a back garden, it is likely that the garden is located in the back yard.\",\n",
    "    \"People gather at a football stadium to see large men in pads play a game where they run and smash into each other. Football is a popular sport that is played on a rectangular field by two teams of eleven players. The game involves running, passing, and tackling, and players wear pads and other protective gear to reduce the risk of injury. Football is a physical and intense sport, and players often collide with each other at high speeds. Football stadiums are large, open-air facilities that are designed to host football games and other sporting events. They typically have a grass or artificial turf field, seating for spectators, and a variety of amenities, such as concessions stands, restrooms, and VIP areas. Football stadiums are popular places for people to gather and watch football games, and they can be found in cities and towns throughout the world.\",\n",
    "    \"One place where someone can get a flute is a musical instrument store. A musical instrument store is a retail establishment that specializes in selling musical instruments and related accessories. They may carry a wide range of instruments, including brass instruments, woodwind instruments, string instruments, percussion instruments, and keyboards. Flutes are woodwind instruments that are played by blowing air into a narrow opening and producing sound by vibrating the lips against a metal or wooden reed. They are popular instruments that are used in a variety of musical styles, including classical, jazz, and folk music. If someone is looking to purchase a flute, they may be able to find a selection of flutes at a musical instrument store. In addition to flutes, musical instrument stores may also offer a variety of other instruments, as well as sheet music, instructional materials, and accessories such as cases, stands, and cleaning supplies.\",\n",
    "    \"It is not clear what someone who has a greed for energy would do. The word greed typically refers to an excessive or insatiable desire for wealth, power, or material possessions. It is not clear how this concept would relate to energy or how it might influence someone's actions. It is possible that someone who has a lot of energy or who is very active might have a high appetite for food and might seek out sources of fuel or nutrition to sustain their energy levels. In this case, they might buy food as a way to obtain the energy they need. However, it is not accurate to say that someone who has a greed for energy would necessarily do this. It is important to note that the concept of greed is generally considered to be negative, as it suggests an unhealthy or unsustainable desire for something.\",\n",
    "    \"A forklift is a type of industrial vehicle that is used for moving and lifting heavy loads, such as pallets, crates, and boxes. Forklifts are equipped with a hydraulic lift mechanism and a set of prongs or forks that can be used to lift and transport loads. They are commonly used in warehouses and other distribution centers to move and stack materials, such as boxes, onto shelves or other storage areas. If you were using a forklift to stack boxes onto shelves, it is likely that you were in a warehouse or a similar facility. Warehouses are large, commercial buildings that are used for storing and distributing goods. They often have high ceilings, wide aisles, and multiple levels, and they may be equipped with a variety of material handling equipment, such as forklifts, conveyor belts, and cranes, to facilitate the movement and storage of goods.\",\n",
    "    \"You are likely to receive mouthwash in a little paper cup at a dentist's office. Dentist's offices are healthcare facilities that are staffed by dentists and other dental professionals, and they are used for the diagnosis and treatment of dental problems and the maintenance of oral health. One common practice at a dentist's office is to rinse the mouth with mouthwash, which is a liquid that is used to freshen breath, kill bacteria, and reduce the risk of gum disease and other oral health issues. Mouthwash is typically used after brushing and flossing to help remove any remaining food particles or plaque from the mouth. It may be dispensed in a little paper cup, which can be used to rinse the mouth and then disposed of after use.\",\n",
    "    \"A doctor's office can help you with an illness. A doctor's office is a healthcare facility that is staffed by medical doctors and other healthcare professionals, and it is used for the diagnosis and treatment of medical conditions and the maintenance of overall health. If you are experiencing an illness, such as a cold, flu, or more serious health issue, you may visit a doctor's office to seek medical care and treatment. At a doctor's office, you may receive a physical examination, diagnostic tests, and other forms of medical treatment, depending on the nature of your illness and your specific needs. Doctors are trained to diagnose and treat a wide range of medical conditions, and they can provide you with the care and support you need to recover from your illness and get back to good health.\",\n",
    "    \"A bug looking for wildflowers and no human interruption might go to a meadow. A meadow is a grassland area that is characterized by its open, grassy landscape and the presence of wildflowers and other types of vegetation. Meadows can be found in a variety of settings, including rural areas, forests, and parkland, and they are often home to a variety of animal and plant species. Because meadows are relatively undisturbed by human activity, they can be a good place for a bug to find wildflowers and other types of plants without interference from humans. Meadows are often considered to be peaceful, serene places, and they may be attractive to a bug that is seeking a quiet, natural environment in which to explore and forage.\",\n",
    "    \"If a bride and groom are taking care of proposals, the likely ceremony is a marriage. A marriage is a formal union between two people that is recognized by law and typically involves a public ceremony and the exchange of vows. A marriage proposal is a request for someone to marry another person, and it is typically made by one partner to the other. The process of planning a marriage often involves taking care of a variety of details and arrangements, such as choosing a venue, selecting a date, inviting guests, and organizing the ceremony and reception. If a bride and groom are taking care of proposals, it is likely that they are in the process of planning their marriage and preparing for the wedding ceremony.\",\n",
    "    \"You could put some olives in a jar to prevent them from getting nearby food wet. A jar is a container that is typically made of glass or ceramic and has a wide mouth and a secure, tight-fitting lid. Jars are often used for storing food items, such as olives, pickles, jams, and other types of preserved or dried goods. Because they have a sealed lid, jars can help to keep food fresh and prevent it from coming into contact with air or other substances that might spoil or contaminate it. If you want to prevent olives from getting nearby food wet, you could put them in a jar and close the lid to create an airtight seal. This would help to keep the olives separate from other foods and prevent them from coming into contact with moisture or other liquids.\",\n",
    "    \"If the graveyard was zoned by the pastor, it is likely that it was located on church property. Church property refers to land or buildings that are owned by a church or religious organization. This may include the main church building, as well as other structures such as a rectory, school, or community center. Church property may also include a graveyard or cemetery, which is a place where people are buried after they die. Pastors, who are ordained leaders in a church, often play a central role in the management and oversight of church property, and they may be responsible for zoning or designating areas within the property for specific purposes, such as a graveyard or a garden. If the pastor has zoned the graveyard, it is likely that it is located on church property and is being used as a place for burial by members of the church or community.\",\n",
    "    \"If a family wanted to live with carpeting, they may have ended up putting it in their houses. Houses are structures that are designed and built to be used as homes, and they typically have a number of rooms that are used for different purposes, such as sleeping, cooking, eating, and relaxing. Carpeting is a type of floor covering that is made of soft, flexible materials, such as wool, nylon, or polypropylene, and it is often used in houses to provide warmth, comfort, and insulation. If a family wanted to live with carpeting, they may have chosen to install carpeting in some or all of the rooms in their houses, in order to create a warm and cozy atmosphere and to improve the overall comfort and livability of their homes.\",\n",
    "    \"If a boss likes an employee's ambition, the employee may be put in charge of a project. A project is a specific task or set of tasks that is undertaken in order to achieve a specific goal or objective. Projects may be large or small, complex or simple, and they may involve a wide range of activities, such as research, design, development, testing, and implementation. If an employee is ambitious and demonstrates a strong desire to succeed and make a positive contribution to their organization, their boss may choose to put them in charge of a project, in order to give them the opportunity to demonstrate their skills and abilities and to take on more responsibility. Being put in charge of a project can be a challenging and rewarding experience, and it may provide an employee with the chance to learn new things, develop their skills, and make a meaningful contribution to their organization.\",\n",
    "    \"A county highway can be viewed as a line on a map. A map is a graphic representation of an area or region that shows the locations of various features, such as roads, rivers, mountains, and cities. Maps are often used to help people navigate and find their way around unfamiliar places, and they can be very useful for understanding the layout and geography of an area. County highways are roads that are maintained and operated by a county or local government, and they are typically used for local travel and transportation within a county or region. On a map, a county highway may be represented as a line, with a specific color or symbol used to indicate its location and route. By viewing a county highway as a line on a map, it is possible to get a sense of the route and layout of the road, and to use the map to plan a journey or navigate to a specific destination.\",\n",
    "    \"After going for a run, someone may feel tired. Running is a form of physical activity that involves moving quickly and continuously on foot, typically by running or jogging. It is a popular form of exercise that can help to improve cardiovascular fitness, build endurance, and strengthen the muscles of the legs and lower body. However, running can also be physically demanding, and it requires a certain level of fitness and stamina to be able to sustain the activity for an extended period of time. As a result, it is common for people to feel tired after going for a run, especially if they are not used to the activity or if they have pushed themselves to run for a longer distance or at a faster pace than usual. Tiredness after a run may be accompanied by other physical sensations, such as muscle fatigue, thirst, or a sense of accomplishment.\",\n",
    "    \"If a car was going from Florida to Ohio, it was heading north. Florida is a state in the southeastern region of the United States, and Ohio is a state in the midwestern region of the country. When traveling from Florida to Ohio, a person would need to go north in order to reach their destination. North is a direction that is opposite to south on a map or compass, and it is typically associated with higher latitude, colder climates, and longer nights. When traveling north, a person may encounter different landscapes, weather patterns, and cultural experiences than they would when traveling south, depending on the specific route and the distance traveled. By heading north from Florida to Ohio, a person would be leaving behind the warm, tropical climate of Florida and entering into a more temperate, mid-latitude region with cooler temperatures and a more diverse range of landscapes and ecosystems.\",\n",
    "    \"During a typical week, a teacher is likely to spend most of their time working in school. A teacher is a person who is trained and qualified to teach students in a school or educational setting, and their primary job is to provide instruction and guidance to help students learn and develop their skills and knowledge. Teachers may work in a variety of settings, including primary schools, secondary schools, and universities, and they may teach a wide range of subjects, including math, science, English, history, and the arts. In order to fulfill their duties as a teacher, a person is likely to spend most of their time working in a school or educational setting, where they will be responsible for preparing and delivering lessons, grading assignments, communicating with students and parents, and performing other tasks related to their job. Teachers typically work on a schedule that follows the school year, and they may work full-time or part-time, depending on their specific circumstances and the needs of their students.\",\n",
    "    \"In a predicament, an animal might choose to fight for its life as an alternative to fleeing. Predicament is a term that refers to a difficult or challenging situation, typically one that involves a choice or decision that needs to be made. When an animal finds itself in a predicament, it may have to decide how to respond in order to survive and protect itself. One option that an animal may have is to flee or run away from the situation in an effort to escape danger or avoid conflict. Another option that an animal may have is to fight for its life, using whatever means are available to defend itself and protect its survival. The choice that an animal makes in a predicament will depend on a variety of factors, including the specific nature of the situation, the animal's size, strength, and abilities, and the resources and options that are available to it.\",\n",
    "    \"It is not common for people to fight each other when they find a good deal. A good deal is typically defined as an opportunity to purchase something at a price that is lower than what it is usually worth, or to obtain a product or service that provides more value or benefits than what is expected. When people find a good deal, they may feel excited or pleased about the opportunity to save money or get more for their money, and they may take action to take advantage of the deal. However, it is generally not considered acceptable or appropriate for people to fight each other over a good deal or to engage in physical violence or aggression in order to obtain it. There are many other ways that people can express their interest in a good deal, such as by negotiating with the seller, making an offer, or simply making a purchase if the price is acceptable.\",\n",
    "    \"An altar is a platform or structure that is used for religious ceremonies, rituals, or worship. Altars are often found in places of worship, such as temples, churches, synagogues, mosques, and other religious buildings. When a person is standing in front of an altar, they are likely to be in a temple or other place of worship. Altars can be used for a variety of purposes in different religions and spiritual traditions, such as offering sacrifices, making offerings, praying, or performing other religious practices. They may be decorated with symbols, images, or other items that are significant to the religion or spiritual tradition that is being practiced. Altars may also be used as a place for people to meditate, reflect, or seek spiritual guidance.\",\n",
    "    \"Joe bought a bunch of grapes because he likes to use them to top his desserts. A dessert is a type of food that is typically served at the end of a meal, and it is usually sweet or rich in flavor. There are many different types of desserts that people enjoy, including cakes, cookies, ice cream, pie, and other sweet treats. One way that people may use grapes as a topping for their desserts is by placing them on top of a fruit pie, tart, or crisp. Grapes can add flavor and texture to a dessert, and they may also be used to decorate a dessert or to add visual appeal. Grapes are a versatile fruit that can be used in many different types of desserts, and they can be eaten fresh, frozen, or preserved in various ways.\",\n",
    "    \"Well water is water that is obtained from underground sources, typically through the use of a well. A well is a hole or shaft that is dug into the ground in order to access water that is contained in underground aquifers or other water-bearing formations. Well water is typically used for drinking, irrigation, and other purposes, and it is often considered to be of high quality because it is filtered and purified naturally as it flows through the ground. To obtain well water, a person can dig a well or have one dug by a professional well driller. The depth of the well will depend on the location and the geology of the area, and a pump or other mechanical system may be used to bring the water to the surface.\",\n",
    "]"
   ]
  },
  {
   "cell_type": "code",
   "execution_count": 17,
   "id": "013e06f0",
   "metadata": {},
   "outputs": [
    {
     "name": "stdout",
     "output_type": "stream",
     "text": [
      "dict_keys(['stem', 'no_more_50_words', 'id', '150_to_200_words'])\n",
      "dict_keys(['stem', 'no_more_50_words', 'id', '150_to_200_words'])\n",
      "dict_keys(['stem', 'no_more_50_words', 'id', '150_to_200_words'])\n",
      "dict_keys(['stem', 'no_more_50_words', 'id', '150_to_200_words'])\n",
      "dict_keys(['stem', 'no_more_50_words', 'id', '150_to_200_words'])\n",
      "dict_keys(['stem', 'no_more_50_words', 'id', '150_to_200_words'])\n",
      "dict_keys(['stem', 'no_more_50_words', 'id', '150_to_200_words'])\n",
      "dict_keys(['stem', 'no_more_50_words', 'id', '150_to_200_words'])\n",
      "dict_keys(['stem', 'no_more_50_words', 'id', '150_to_200_words'])\n",
      "dict_keys(['stem', 'no_more_50_words', 'id', '150_to_200_words'])\n",
      "dict_keys(['stem', 'no_more_50_words', 'id', '150_to_200_words'])\n",
      "dict_keys(['stem', 'no_more_50_words', 'id', '150_to_200_words'])\n",
      "dict_keys(['stem', 'no_more_50_words', 'id', '150_to_200_words'])\n",
      "dict_keys(['stem', 'no_more_50_words', 'id', '150_to_200_words'])\n",
      "dict_keys(['stem', 'no_more_50_words', 'id', '150_to_200_words'])\n",
      "dict_keys(['stem', 'no_more_50_words', 'id', '150_to_200_words'])\n",
      "dict_keys(['stem', 'no_more_50_words', 'id', '150_to_200_words'])\n",
      "dict_keys(['stem', 'no_more_50_words', 'id', '150_to_200_words'])\n",
      "dict_keys(['stem', 'no_more_50_words', 'id', '150_to_200_words'])\n",
      "dict_keys(['stem', 'no_more_50_words', 'id', '150_to_200_words'])\n",
      "dict_keys(['stem', 'no_more_50_words', 'id', '150_to_200_words'])\n",
      "dict_keys(['stem', 'no_more_50_words', 'id', '150_to_200_words'])\n",
      "dict_keys(['stem', 'no_more_50_words', 'id', '150_to_200_words'])\n",
      "dict_keys(['stem', 'no_more_50_words', 'id', '150_to_200_words'])\n",
      "dict_keys(['stem', 'no_more_50_words', 'id', '150_to_200_words'])\n",
      "dict_keys(['stem', 'no_more_50_words', 'id', '150_to_200_words'])\n",
      "dict_keys(['stem', 'no_more_50_words', 'id', '150_to_200_words'])\n",
      "dict_keys(['stem', 'no_more_50_words', 'id', '150_to_200_words'])\n",
      "dict_keys(['stem', 'no_more_50_words', 'id', '150_to_200_words'])\n",
      "dict_keys(['stem', 'no_more_50_words', 'id', '150_to_200_words'])\n",
      "dict_keys(['stem', 'no_more_50_words', 'id', '150_to_200_words'])\n",
      "dict_keys(['stem', 'no_more_50_words', 'id', '150_to_200_words'])\n",
      "dict_keys(['stem', 'no_more_50_words', 'id', '150_to_200_words'])\n",
      "dict_keys(['stem', 'no_more_50_words', 'id', '150_to_200_words'])\n",
      "dict_keys(['stem', 'no_more_50_words', 'id', '150_to_200_words'])\n",
      "dict_keys(['stem', 'no_more_50_words', 'id', '150_to_200_words'])\n",
      "dict_keys(['stem', 'no_more_50_words', 'id', '150_to_200_words'])\n",
      "dict_keys(['stem', 'no_more_50_words', 'id', '150_to_200_words'])\n",
      "dict_keys(['stem', 'no_more_50_words', 'id', '150_to_200_words'])\n",
      "dict_keys(['stem', 'no_more_50_words', 'id', '150_to_200_words'])\n",
      "dict_keys(['stem', 'no_more_50_words', 'id', '150_to_200_words'])\n",
      "dict_keys(['stem', 'no_more_50_words', 'id', '150_to_200_words'])\n",
      "dict_keys(['stem', 'no_more_50_words', 'id', '150_to_200_words'])\n",
      "dict_keys(['stem', 'no_more_50_words', 'id', '150_to_200_words'])\n",
      "dict_keys(['stem', 'no_more_50_words', 'id', '150_to_200_words'])\n",
      "dict_keys(['stem', 'no_more_50_words', 'id', '150_to_200_words'])\n",
      "dict_keys(['stem', 'no_more_50_words', 'id', '150_to_200_words'])\n",
      "dict_keys(['stem', 'no_more_50_words', 'id', '150_to_200_words'])\n",
      "dict_keys(['stem', 'no_more_50_words', 'id', '150_to_200_words'])\n",
      "dict_keys(['stem', 'no_more_50_words', 'id', '150_to_200_words'])\n",
      "dict_keys(['stem', 'no_more_50_words', 'id', '150_to_200_words'])\n",
      "dict_keys(['stem', 'no_more_50_words', 'id', '150_to_200_words'])\n",
      "dict_keys(['stem', 'no_more_50_words', 'id', '150_to_200_words'])\n",
      "dict_keys(['stem', 'no_more_50_words', 'id', '150_to_200_words'])\n",
      "dict_keys(['stem', 'no_more_50_words', 'id', '150_to_200_words'])\n",
      "dict_keys(['stem', 'no_more_50_words', 'id', '150_to_200_words'])\n",
      "dict_keys(['stem', 'no_more_50_words', 'id', '150_to_200_words'])\n",
      "dict_keys(['stem', 'no_more_50_words', 'id', '150_to_200_words'])\n",
      "dict_keys(['stem', 'no_more_50_words', 'id', '150_to_200_words'])\n",
      "dict_keys(['stem', 'no_more_50_words', 'id', '150_to_200_words'])\n",
      "dict_keys(['stem', 'no_more_50_words', 'id', '150_to_200_words'])\n",
      "dict_keys(['stem', 'no_more_50_words', 'id', '150_to_200_words'])\n",
      "dict_keys(['stem', 'no_more_50_words', 'id', '150_to_200_words'])\n",
      "dict_keys(['stem', 'no_more_50_words', 'id', '150_to_200_words'])\n",
      "dict_keys(['stem', 'no_more_50_words', 'id', '150_to_200_words'])\n",
      "dict_keys(['stem', 'no_more_50_words', 'id', '150_to_200_words'])\n",
      "dict_keys(['stem', 'no_more_50_words', 'id', '150_to_200_words'])\n",
      "dict_keys(['stem', 'no_more_50_words', 'id', '150_to_200_words'])\n",
      "dict_keys(['stem', 'no_more_50_words', 'id', '150_to_200_words'])\n",
      "dict_keys(['stem', 'no_more_50_words', 'id', '150_to_200_words'])\n",
      "dict_keys(['stem', 'no_more_50_words', 'id', '150_to_200_words'])\n",
      "dict_keys(['stem', 'no_more_50_words', 'id', '150_to_200_words'])\n",
      "dict_keys(['stem', 'no_more_50_words', 'id', '150_to_200_words'])\n",
      "dict_keys(['stem', 'no_more_50_words', 'id', '150_to_200_words'])\n",
      "dict_keys(['stem', 'no_more_50_words', 'id', '150_to_200_words'])\n",
      "dict_keys(['stem', 'no_more_50_words', 'id', '150_to_200_words'])\n",
      "dict_keys(['stem', 'no_more_50_words', 'id', '150_to_200_words'])\n",
      "dict_keys(['stem', 'no_more_50_words', 'id', '150_to_200_words'])\n",
      "dict_keys(['stem', 'no_more_50_words', 'id', '150_to_200_words'])\n",
      "dict_keys(['stem', 'no_more_50_words', 'id', '150_to_200_words'])\n",
      "dict_keys(['stem', 'no_more_50_words', 'id', '150_to_200_words'])\n",
      "dict_keys(['stem', 'no_more_50_words', 'id', '150_to_200_words'])\n",
      "dict_keys(['stem', 'no_more_50_words', 'id', '150_to_200_words'])\n",
      "dict_keys(['stem', 'no_more_50_words', 'id', '150_to_200_words'])\n",
      "dict_keys(['stem', 'no_more_50_words', 'id', '150_to_200_words'])\n",
      "dict_keys(['stem', 'no_more_50_words', 'id', '150_to_200_words'])\n",
      "dict_keys(['stem', 'no_more_50_words', 'id', '150_to_200_words'])\n",
      "dict_keys(['stem', 'no_more_50_words', 'id', '150_to_200_words'])\n",
      "dict_keys(['stem', 'no_more_50_words', 'id', '150_to_200_words'])\n",
      "dict_keys(['stem', 'no_more_50_words', 'id', '150_to_200_words'])\n",
      "dict_keys(['stem', 'no_more_50_words', 'id', '150_to_200_words'])\n",
      "dict_keys(['stem', 'no_more_50_words', 'id', '150_to_200_words'])\n",
      "dict_keys(['stem', 'no_more_50_words', 'id', '150_to_200_words'])\n",
      "dict_keys(['stem', 'no_more_50_words', 'id', '150_to_200_words'])\n",
      "dict_keys(['stem', 'no_more_50_words', 'id', '150_to_200_words'])\n",
      "dict_keys(['stem', 'no_more_50_words', 'id', '150_to_200_words'])\n",
      "dict_keys(['stem', 'no_more_50_words', 'id', '150_to_200_words'])\n",
      "dict_keys(['stem', 'no_more_50_words', 'id', '150_to_200_words'])\n",
      "dict_keys(['stem', 'no_more_50_words', 'id', '150_to_200_words'])\n",
      "dict_keys(['stem', 'no_more_50_words', 'id', '150_to_200_words'])\n",
      "dict_keys(['stem', 'no_more_50_words', 'id', '150_to_200_words'])\n",
      "dict_keys(['stem', 'no_more_50_words', 'id', '150_to_200_words'])\n",
      "dict_keys(['stem', 'no_more_50_words', 'id', '150_to_200_words'])\n",
      "dict_keys(['stem', 'no_more_50_words', 'id', '150_to_200_words'])\n",
      "dict_keys(['stem', 'no_more_50_words', 'id', '150_to_200_words'])\n",
      "dict_keys(['stem', 'no_more_50_words', 'id', '150_to_200_words'])\n",
      "dict_keys(['stem', 'no_more_50_words', 'id', '150_to_200_words'])\n",
      "dict_keys(['stem', 'no_more_50_words', 'id', '150_to_200_words'])\n",
      "dict_keys(['stem', 'no_more_50_words', 'id', '150_to_200_words'])\n",
      "dict_keys(['stem', 'no_more_50_words', 'id', '150_to_200_words'])\n",
      "dict_keys(['stem', 'no_more_50_words', 'id', '150_to_200_words'])\n",
      "dict_keys(['stem', 'no_more_50_words', 'id', '150_to_200_words'])\n",
      "dict_keys(['stem', 'no_more_50_words', 'id', '150_to_200_words'])\n",
      "dict_keys(['stem', 'no_more_50_words', 'id', '150_to_200_words'])\n",
      "dict_keys(['stem', 'no_more_50_words', 'id', '150_to_200_words'])\n"
     ]
    }
   ],
   "source": [
    "import glob\n",
    "import json\n",
    "import pdb\n",
    "chatgpt_50_100_rationales_dir = \"./chatgpt_rationales/200_250_text003\"\n",
    "file_list = glob.glob(\"{}/*.json\".format(chatgpt_50_100_rationales_dir))\n",
    "chatgpt_rationales_dict = {}\n",
    "for file in file_list:\n",
    "    with open(file, 'r') as f:\n",
    "        da = json.load(f)\n",
    "        print(da.keys())\n",
    "        chatgpt_rationales_dict[da['id']] = da['150_to_200_words']\n",
    "        #pdb.set_trace()"
   ]
  },
  {
   "cell_type": "code",
   "execution_count": 18,
   "id": "d9681ea9",
   "metadata": {},
   "outputs": [],
   "source": [
    "def list2dict(refine_data):\n",
    "    refine_data_dict={}\n",
    "    for key in refine_data[0].keys():\n",
    "        refine_data_dict[key]=[x[key] for x in refine_data]\n",
    "    return refine_data_dict\n",
    "\n",
    "select_refine_train_data = []\n",
    "for da in refine_train_data:\n",
    "    #pdb.set_trace()\n",
    "    if da['id'] in chatgpt_rationales_dict.keys():\n",
    "        da['our_explanation'] = chatgpt_rationales_dict[da['id']]\n",
    "        select_refine_train_data.append(da) \n",
    "        \n",
    "select_refine_train_data_dict = list2dict(select_refine_train_data)\n",
    "our_data_splits['train'] = datasets.Dataset.from_dict(select_refine_train_data_dict).shuffle().select(range(24))\n",
    "\n",
    "refine_dev_data_dict = list2dict(refine_dev_data)\n",
    "our_data_splits['dev'] = datasets.Dataset.from_dict(refine_dev_data_dict)\n",
    "\n",
    "refine_test_data_dict = list2dict(refine_test_data)\n",
    "our_data_splits['test'] = datasets.Dataset.from_dict(refine_test_data_dict)\n",
    "\n"
   ]
  },
  {
   "cell_type": "code",
   "execution_count": 19,
   "id": "53ab0e1a",
   "metadata": {},
   "outputs": [],
   "source": [
    "import datasets\n",
    "class SequenceCollator:\n",
    "    def __init__(self, pad_token):\n",
    "        # self.pad_token_mapping = {\n",
    "        #     \"lm_labels\": -100,\n",
    "        #     \"attention_mask\": 0,\n",
    "        #     \"decoder_attention_mask\": 0,\n",
    "        #     \"input_ids\": pad_token,\n",
    "        # }\n",
    "        # self.columns = [\n",
    "        #     \"input_ids\",\n",
    "        #     \"attention_mask\",\n",
    "        #     \"lm_labels\",\n",
    "        #     \"decoder_attention_mask\",\n",
    "        # ]\n",
    "        self.pad_token_mapping = {\n",
    "            \"labels\": -100,\n",
    "            \"attention_mask\": 0,\n",
    "            \"decoder_attention_mask\": 0,\n",
    "            \"input_ids\": pad_token,\n",
    "        }\n",
    "        self.columns = [\n",
    "            \"input_ids\",\n",
    "            \"attention_mask\",\n",
    "            \"labels\",\n",
    "            \"decoder_attention_mask\",\n",
    "        ]\n",
    "\n",
    "    def collate_batch(self, examples):\n",
    "\n",
    "        # batch inputs for training\n",
    "        batch = {}\n",
    "        for key in examples[0].keys():\n",
    "            if key in self.columns:\n",
    "                tmp_list = []\n",
    "                for item in examples:\n",
    "                    tmp_list.append(item[key])\n",
    "\n",
    "                # pad lists to max length\n",
    "                if isinstance(tmp_list[0], list):\n",
    "                    max_length = max(map(len, tmp_list))\n",
    "                    tmp_list = [\n",
    "                        el + [self.pad_token_mapping[key]] * (max_length - len(el))\n",
    "                        for el in tmp_list\n",
    "                    ]\n",
    "\n",
    "                batch[key] = torch.tensor(tmp_list, dtype=torch.long)\n",
    "        return batch\n",
    "    \n",
    "    def __call__(self, examples: List[Dict[str, InputDataClass]]) -> Dict[str, torch.Tensor]:\n",
    "        # re-format inputs for training\n",
    "        batch = {}\n",
    "        for key in examples[0].keys():\n",
    "            if key in self.columns:\n",
    "                tmp_list = []\n",
    "                for item in examples:\n",
    "                    tmp_list.append(item[key])\n",
    "\n",
    "                # pad lists to max length\n",
    "                if isinstance(tmp_list[0], list):\n",
    "                    max_length = max(map(len, tmp_list))\n",
    "                    tmp_list = [\n",
    "                        el + [self.pad_token_mapping[key]] * (max_length - len(el))\n",
    "                        for el in tmp_list\n",
    "                    ]\n",
    "\n",
    "                batch[key] = torch.tensor(tmp_list, dtype=torch.long)\n",
    "        return batch\n",
    "# dataset = datasets.load_dataset(data_args.task_name, data_args.version_name)"
   ]
  },
  {
   "cell_type": "code",
   "execution_count": 20,
   "id": "219866fe",
   "metadata": {},
   "outputs": [
    {
     "data": {
      "application/json": {
       "ascii": false,
       "bar_format": null,
       "colour": null,
       "elapsed": 0.015074729919433594,
       "initial": 0,
       "n": 0,
       "ncols": null,
       "nrows": 60,
       "postfix": null,
       "prefix": "",
       "rate": null,
       "total": 24,
       "unit": "ex",
       "unit_divisor": 1000,
       "unit_scale": false
      },
      "application/vnd.jupyter.widget-view+json": {
       "model_id": "98902530d90e4bfc9dd953977fa74b41",
       "version_major": 2,
       "version_minor": 0
      },
      "text/plain": [
       "  0%|          | 0/24 [00:00<?, ?ex/s]"
      ]
     },
     "metadata": {},
     "output_type": "display_data"
    },
    {
     "data": {
      "application/json": {
       "ascii": false,
       "bar_format": null,
       "colour": null,
       "elapsed": 0.016202211380004883,
       "initial": 0,
       "n": 0,
       "ncols": null,
       "nrows": 60,
       "postfix": null,
       "prefix": "",
       "rate": null,
       "total": 986,
       "unit": "ex",
       "unit_divisor": 1000,
       "unit_scale": false
      },
      "application/vnd.jupyter.widget-view+json": {
       "model_id": "3e981a58c8e34bd19a9214ca39a9a157",
       "version_major": 2,
       "version_minor": 0
      },
      "text/plain": [
       "  0%|          | 0/986 [00:00<?, ?ex/s]"
      ]
     },
     "metadata": {},
     "output_type": "display_data"
    },
    {
     "data": {
      "application/json": {
       "ascii": false,
       "bar_format": null,
       "colour": null,
       "elapsed": 0.014873504638671875,
       "initial": 0,
       "n": 0,
       "ncols": null,
       "nrows": 60,
       "postfix": null,
       "prefix": "",
       "rate": null,
       "total": 255,
       "unit": "ex",
       "unit_divisor": 1000,
       "unit_scale": false
      },
      "application/vnd.jupyter.widget-view+json": {
       "model_id": "cd9d43ca39504711bae7128680760c33",
       "version_major": 2,
       "version_minor": 0
      },
      "text/plain": [
       "  0%|          | 0/255 [00:00<?, ?ex/s]"
      ]
     },
     "metadata": {},
     "output_type": "display_data"
    }
   ],
   "source": [
    "# seq_collector = SequenceCollator(0)\n",
    "# train_ds = seq_collector.__call__(dataset['train'])\n",
    "# train_ds\n",
    "# dataset['train'][0].keys()\n",
    "for split in ['train','dev','test']:\n",
    "    our_data_splits[split] = our_data_splits[split].map(\n",
    "            lambda x: format_instance(\n",
    "                x,\n",
    "                tokenizer,\n",
    "                data_args.explanation_sep,\n",
    "                datasource=data_args.task_name,\n",
    "                io_format=data_args.io_format\n",
    "            ),\n",
    "            batched=False,\n",
    "            load_from_cache_file=False,\n",
    "        )"
   ]
  },
  {
   "cell_type": "code",
   "execution_count": null,
   "id": "0c120e04",
   "metadata": {},
   "outputs": [],
   "source": []
  },
  {
   "cell_type": "code",
   "execution_count": 21,
   "id": "81048fad",
   "metadata": {},
   "outputs": [],
   "source": [
    "chatGPT_rationales = [\n",
    "    \"A cup is a common vessel used for holding and drinking liquids, such as water, coffee, or tea. When you want to get yourself a drink, you might typically get a cup from a cabinet or other storage area in order to hold the drink. A cup is a convenient and practical choice for getting a drink because it is easy to hold and use, and it can hold a reasonable amount of liquid. There are many different types of cups available, including ceramic, glass, plastic, and metal cups, each with their own unique features and benefits. Whether you are at home, at work, or out in public, a cup is a handy item to have on hand when you need to quench your thirst.\",\n",
    "    \"A front yard is the lawn that is typically located in front of a house, near the street. The front yard is the part of the property that is visible from the street and is often used for decorative purposes, such as landscaping or gardening. Many people take pride in their front yards and may spend time and resources maintaining and improving them. The front yard is often the first thing that visitors see when they arrive at a house, and it can make a strong impression on them. In contrast, the back yard is typically located behind the house and is often used for more practical purposes, such as outdoor recreation or gardening.\",\n",
    "    \"A swimming pool is a recreational water feature that is typically used for swimming and other aquatic activities. While shallow water, such as that found in a kiddie pool or a shallow end of a pool, can be enjoyable for some people, it may not be sufficient for many summer activities. A swimming pool that is deep enough for diving and other activities is more likely to provide more opportunities for summer fun. In addition, a swimming pool that is clean and chlorinated is more likely to be safe and enjoyable for swimming, as it will be free of contaminants and bacteria that can cause illness.\",\n",
    "    \"In most places, it is illegal for people under the age of 21 to purchase or consume alcohol. This is because alcohol can have negative effects on the developing brain and body of young people. It can also contribute to risky behaviors and accidents. Therefore, many governments have set a minimum age for alcohol consumption and purchase to help protect the health and safety of young people. If someone is under the age of 21 and attempts to purchase alcohol, they may be denied the sale or face legal consequences. It is important for young people to understand and adhere to the laws and regulations regarding the purchase and consumption of alcohol in their area.\",\n",
    "    \"When someone shaves, they typically use a razor to remove hair from their face or body. The process of shaving can leave a lot of hair in the sink, as the hair is trimmed off and falls into the sink as it is being shaved. It is common for people to shave in the bathroom, where a sink is typically located. The sink provides a convenient place to rinse the razor and wash off any excess hair or shaving cream. It is important to clean the sink after shaving to remove any hair and prevent clogs in the drain.\",\n",
    "    \"A hamburger is a type of sandwich that consists of a cooked patty of ground meat, typically beef, placed between two slices of bread or a bun. Hamburgers are often served with various toppings, such as lettuce, tomato, onion, cheese, and condiments like ketchup and mustard. However, if someone is suffering from great hunger, they may not care about the toppings and just want to eat the hamburger itself. In this case, the person may be more focused on satisfying their hunger and getting nourishment rather than worrying about additional ingredients or flavors.\",\n",
    "    \"If a person notices popcorn and cotton candy on the grass, they are likely at fairgrounds. Fairgrounds are outdoor areas that are used for hosting fairs and other events, such as carnivals, festivals, and exhibitions. These events often feature food stalls and vendors that sell a variety of treats, including popcorn and cotton candy. Popcorn and cotton candy are both popular carnival foods that are often sold at fairs and other events. The presence of these foods on the ground at fairgrounds suggests that a fair or similar event is taking place there.\",\n",
    "    \"When snow on a mountain becomes heavy, it can trigger an avalanche. An avalanche is a rapid flow of snow down a slope, often triggered by the weight of the snow or external factors such as a change in temperature. Avalanches can be dangerous and destructive, as they can bury and sweep away anything in their path, including people, buildings, and vehicles. Avalanches can occur on any slope with a steep enough incline and a sufficient amount of snow. They are most common on mountains, but they can also occur in other snowy areas, such as forests or valleys. It is important for people to be aware of the risk of avalanches and to take precautions when traveling in areas prone to avalanches.\",\n",
    "    \"A police officer typically reports their work through the use of case reports or incident reports. These reports are written documents that detail the events of a specific case or incident that the officer has worked on. Case reports or incident reports typically include information such as the date and time of the incident, the location, the people involved, and the actions taken by the officer. They may also include witness statements, evidence collected, and any other relevant details. Case reports or incident reports are used by police officers to document their work and provide a record of the incidents they have dealt with. They are also used by supervisors and other authorities to review and evaluate the performance of the officer and the effectiveness of their actions.\",\n",
    "    \"Teachers play many roles in the lives of their students, including mentor, counselor, and role model. However, they get the most out of their job by simply teaching children. Teaching children is the primary responsibility of a teacher, and it is what they are trained and paid to do. Teaching involves imparting knowledge, skills, and values to students, and helping them to develop the skills and habits they need to succeed in life. Teachers have the opportunity to make a positive impact on the lives of their students by providing them with a strong foundation in academic subjects and helping them to become curious, engaged learners. Teachers often derive a great deal of satisfaction from helping their students to achieve their potential and succeed in their studies.\",\n",
    "    \"A person might go to get counseling for a variety of reasons. One reason is to better understand themselves. Counseling can provide a safe and supportive environment for individuals to explore their thoughts, feelings, and behaviors, and to gain insight into why they act and feel the way they do. Counseling can also help a person to identify and work through any underlying issues or challenges that may be causing them distress or hindering their personal growth. Through counseling, a person can learn more about themselves and how to navigate their emotions and relationships more effectively. Counseling can be particularly helpful for individuals who are struggling with mental health issues, relationship problems, or other personal challenges.\",\n",
    "    \"If the kids wanted to cool off, they might go swimming as a way to refresh and beat the heat. Swimming is a fun and enjoyable activity that can provide relief from hot weather and help to cool the body. Swimming can also provide a great workout and has numerous health benefits, such as improving cardiovascular fitness and flexibility. There are many different places where kids can go swimming, such as pools, lakes, rivers, or the ocean. No matter where they go, kids can have fun and cool off while enjoying the water.\",\n",
    "    \"When remembering a tragedy in the past, many people may feel depressed. Depression is a common emotional reaction to experiencing a traumatic or stressful event, such as a tragedy. Depression is a mental health disorder characterized by persistent feelings of sadness, hopelessness, and low energy. It can also cause physical symptoms such as changes in appetite and sleep patterns, fatigue, and difficulty concentrating. Remembering a tragedy can be emotionally difficult and may trigger feelings of sadness, grief, and guilt. It is important for people who are struggling with depression to seek support and treatment to help manage their symptoms and improve their mental health.\",\n",
    "    \"Death Valley is a national park located in the Mojave Desert, in the state of California, United States. It is situated on the North American continent. The North American continent is one of the seven continents of the world and is located in the western hemisphere. It is the third largest continent in terms of land area, after Asia and Africa, and is home to a diverse range of cultures, languages, and environments. Death Valley is known for its extreme desert climate and is the lowest, hottest, and driest place in North America. It is a popular destination for tourists, who come to see its unique geological features, such as sand dunes, salt flats, and canyons.\",\n",
    "    \"When in a serious relationship, understanding better requires effort. Relationships require effort and work to maintain and grow. In order to understand your partner better, you need to be willing to put in the time and effort to communicate with them, listen to their perspectives, and try to see things from their point of view. This may involve asking questions, expressing your own feelings and needs, and being open to feedback and compromise. Understanding your partner better can help to strengthen the bond between you and improve the quality of your relationship. It is important to remember that relationships are dynamic and evolving, and that ongoing communication and effort are necessary to maintain a healthy and fulfilling relationship.\",\n",
    "    \"Cats are able to make a variety of vocalizations, including meows, purrs, and growls, as a way of communicating with humans and other animals. Cats use these vocalizations to convey a range of emotions and needs, such as hunger, happiness, or discomfort. Meowing is a common vocalization that cats use to communicate with humans. Cats may meow when they want attention, food, or to be let outside. Cats may also meow when they are feeling anxious or stressed. Although cats cannot talk in the same way that humans do, they are skilled at using their voices to communicate with their owners and other animals.\",\n",
    "    \"If you need a vessel that is similar to a battleship but faster, you might consider using a corvette. A corvette is a small, fast warship that is typically used for convoy escort, patrol, and other shallow water duties. Corvettes are generally smaller and less heavily armed than battleships, but they are more agile and have a higher speed. They are typically equipped with a variety of weapons, including guns, missiles, and torpedoes, and are used for defending against enemy ships and aircraft. Corvettes are often used for coastal defense, as well as for patrolling and enforcing maritime laws. They are capable of operating in a variety of environments, including open ocean and littoral (nearshore) waters.\",\n",
    "    \"Water in the sky comes from rain clouds. Rain clouds are clouds that form when moist air rises and cools, forming tiny water droplets that condense around particles in the air. As the droplets grow, they eventually become heavy enough to fall from the cloud as rain. Rain clouds are typically gray or white in color and are often accompanied by other types of clouds, such as cumulus or stratocumulus clouds. Rain clouds can form in a variety of ways, such as when warm, moist air from the ground rises and cools, or when moist air from the ocean is carried inland by the wind. Rain clouds can be found in many parts of the world and are a common source of precipitation, especially during the warmer months.\",\n",
    "    \"If John rented a hotel room while on a business trip and it was a company-sponsored event, it is possible that the hotel was a resort. Resorts are hotels or vacation properties that offer a variety of amenities and activities for guests, such as swimming pools, golf courses, spas, and restaurants. They are often located in scenic or recreational areas and are designed to provide a relaxing and enjoyable experience for guests. Many resorts offer conference and meeting facilities and are popular destinations for business events and retreats. If John's company sponsored the business trip and provided the hotel accommodations, it is likely that they chose a resort with the amenities and facilities needed to support the event.\",\n",
    "    \"An expressway might leave the United States and go to Canada. The United States and Canada are neighboring countries that share a border, and there are several expressways that cross the border between the two countries. Expressways are high-speed, limited-access roads that are designed for fast and efficient travel. They typically have multiple lanes and may include features such as grade separations, interchanges, and controlled access points. Expressways are used for long-distance travel and are often the main routes connecting major cities and regions. If an expressway leaves the United States, it is likely that it is heading towards Canada, which is located to the north of the United States.\",\n",
    "    \"If you were walking on a sidewalk near a small corner shop run by John, you would look for it on the street corner. A corner shop is a small retail store that is typically located at the intersection of two streets. It is often a convenience store or a neighborhood shop that sells a variety of goods, such as groceries, household items, and other supplies. Corner shops are often located in busy urban areas, where they are easily accessible to pedestrians and motorists. If you were walking on a sidewalk near a corner shop, you would look for it at the intersection of the street where you are walking and another street. The shop is likely to be located in a building on the corner, with windows and doors facing the street.\",\n",
    "    \"One way that a company can efficiently sell things to their customers is through mail order. Mail order is a method of selling goods or services by advertising them in a catalog or other publication and allowing customers to place orders by mail, telephone, or online. Mail order is a convenient and efficient way for companies to reach a wide customer base, as it allows them to sell products to customers who may not be located near their physical store or who may not have the time or inclination to shop in person. Mail order companies typically have a centralized warehouse or distribution center where orders are processed and shipped to customers. They may also offer options such as easy returns and exchanges, as well as customer service support to assist with any questions or issues that customers may have.\",\n",
    "    \"If he enjoyed the factory work and liked the idea that he did it for sale, it is likely that he enjoyed producing goods. Factory work typically involves the production of goods, such as products or materials, using machines, tools, and other equipment. Factory workers are responsible for operating and maintaining the equipment and ensuring that the goods being produced meet quality standards. The goods produced in a factory may be sold directly to consumers or to other businesses, and may be used for a variety of purposes, such as manufacturing, construction, or distribution. If a person enjoys factory work, they may find satisfaction in the idea that they are contributing to the production of goods that will be sold and used by others.\",\n",
    "    \"If returning to work was easy for Dan after his treatment and he was completely painless, it is likely that he had undergone some form of medical treatment or therapy to address a health issue or injury. Painless indicates that Dan was no longer experiencing pain or discomfort, which may have been a result of the treatment or therapy he received. It is not clear from the information provided what specific health issue or injury Dan was dealing with, or what treatment or therapy he received. However, it is possible that Dan was able to return to work more easily after his treatment because he was feeling better and was no longer experiencing any pain or discomfort.\",\n",
    "    \"If index cards were on display at the museum, it is likely that the museum was a library. Libraries are institutions that provide access to a wide range of resources, including books, periodicals, and other printed materials, as well as digital resources such as e-books, databases, and online research tools. Libraries often have exhibits and displays of various types of materials, including rare or unique items, and may have special collections or archives that are of particular interest to researchers or historians. Index cards are small, rectangular pieces of paper that are used for organizing information, such as names, dates, or research notes. They may be used in a variety of settings, including libraries, offices, and schools. If index cards were on display at the museum, it is possible that they were part of a historical exhibit or collection related to the history of libraries or research.\",\n",
    "    \"If she was a human in America who wanted to live well, it is likely that the given for her situation was the need for money. In general, money is an important factor in enabling people to live well and meet their basic needs and desires. Money allows people to purchase the goods and services that they need to sustain themselves and their families, such as food, clothing, housing, and healthcare. It also enables people to pursue their interests and hobbies, travel, and engage in various forms of leisure and entertainment. In America, and in many other countries around the world, the cost of living can be high, and people often need to earn and save money in order to achieve a desired standard of living. As such, the need for money is a given for many people in order to live well.\",\n",
    "    \"A place that could have one back garden is a house. A garden is a piece of land that is used for growing plants, flowers, vegetables, or other types of vegetation. Gardens can be found in a variety of settings, including residential properties, public parks, and commercial properties. A house is a building that is used as a dwelling for one or more people, and it typically includes living spaces, such as bedrooms, bathrooms, and a kitchen, as well as outdoor areas, such as a front yard, side yard, and back yard. A back yard is a private outdoor space that is typically located behind a house and is often used for recreational or leisure activities, such as gardening, grilling, or playing games. If a house has a back garden, it is likely that the garden is located in the back yard.\",\n",
    "    \"People gather at a football stadium to see large men in pads play a game where they run and smash into each other. Football is a popular sport that is played on a rectangular field by two teams of eleven players. The game involves running, passing, and tackling, and players wear pads and other protective gear to reduce the risk of injury. Football is a physical and intense sport, and players often collide with each other at high speeds. Football stadiums are large, open-air facilities that are designed to host football games and other sporting events. They typically have a grass or artificial turf field, seating for spectators, and a variety of amenities, such as concessions stands, restrooms, and VIP areas. Football stadiums are popular places for people to gather and watch football games, and they can be found in cities and towns throughout the world.\",\n",
    "    \"One place where someone can get a flute is a musical instrument store. A musical instrument store is a retail establishment that specializes in selling musical instruments and related accessories. They may carry a wide range of instruments, including brass instruments, woodwind instruments, string instruments, percussion instruments, and keyboards. Flutes are woodwind instruments that are played by blowing air into a narrow opening and producing sound by vibrating the lips against a metal or wooden reed. They are popular instruments that are used in a variety of musical styles, including classical, jazz, and folk music. If someone is looking to purchase a flute, they may be able to find a selection of flutes at a musical instrument store. In addition to flutes, musical instrument stores may also offer a variety of other instruments, as well as sheet music, instructional materials, and accessories such as cases, stands, and cleaning supplies.\",\n",
    "    \"It is not clear what someone who has a greed for energy would do. The word greed typically refers to an excessive or insatiable desire for wealth, power, or material possessions. It is not clear how this concept would relate to energy or how it might influence someone's actions. It is possible that someone who has a lot of energy or who is very active might have a high appetite for food and might seek out sources of fuel or nutrition to sustain their energy levels. In this case, they might buy food as a way to obtain the energy they need. However, it is not accurate to say that someone who has a greed for energy would necessarily do this. It is important to note that the concept of greed is generally considered to be negative, as it suggests an unhealthy or unsustainable desire for something.\",\n",
    "    \"A forklift is a type of industrial vehicle that is used for moving and lifting heavy loads, such as pallets, crates, and boxes. Forklifts are equipped with a hydraulic lift mechanism and a set of prongs or forks that can be used to lift and transport loads. They are commonly used in warehouses and other distribution centers to move and stack materials, such as boxes, onto shelves or other storage areas. If you were using a forklift to stack boxes onto shelves, it is likely that you were in a warehouse or a similar facility. Warehouses are large, commercial buildings that are used for storing and distributing goods. They often have high ceilings, wide aisles, and multiple levels, and they may be equipped with a variety of material handling equipment, such as forklifts, conveyor belts, and cranes, to facilitate the movement and storage of goods.\",\n",
    "    \"You are likely to receive mouthwash in a little paper cup at a dentist's office. Dentist's offices are healthcare facilities that are staffed by dentists and other dental professionals, and they are used for the diagnosis and treatment of dental problems and the maintenance of oral health. One common practice at a dentist's office is to rinse the mouth with mouthwash, which is a liquid that is used to freshen breath, kill bacteria, and reduce the risk of gum disease and other oral health issues. Mouthwash is typically used after brushing and flossing to help remove any remaining food particles or plaque from the mouth. It may be dispensed in a little paper cup, which can be used to rinse the mouth and then disposed of after use.\",\n",
    "    \"A doctor's office can help you with an illness. A doctor's office is a healthcare facility that is staffed by medical doctors and other healthcare professionals, and it is used for the diagnosis and treatment of medical conditions and the maintenance of overall health. If you are experiencing an illness, such as a cold, flu, or more serious health issue, you may visit a doctor's office to seek medical care and treatment. At a doctor's office, you may receive a physical examination, diagnostic tests, and other forms of medical treatment, depending on the nature of your illness and your specific needs. Doctors are trained to diagnose and treat a wide range of medical conditions, and they can provide you with the care and support you need to recover from your illness and get back to good health.\",\n",
    "    \"A bug looking for wildflowers and no human interruption might go to a meadow. A meadow is a grassland area that is characterized by its open, grassy landscape and the presence of wildflowers and other types of vegetation. Meadows can be found in a variety of settings, including rural areas, forests, and parkland, and they are often home to a variety of animal and plant species. Because meadows are relatively undisturbed by human activity, they can be a good place for a bug to find wildflowers and other types of plants without interference from humans. Meadows are often considered to be peaceful, serene places, and they may be attractive to a bug that is seeking a quiet, natural environment in which to explore and forage.\",\n",
    "    \"If a bride and groom are taking care of proposals, the likely ceremony is a marriage. A marriage is a formal union between two people that is recognized by law and typically involves a public ceremony and the exchange of vows. A marriage proposal is a request for someone to marry another person, and it is typically made by one partner to the other. The process of planning a marriage often involves taking care of a variety of details and arrangements, such as choosing a venue, selecting a date, inviting guests, and organizing the ceremony and reception. If a bride and groom are taking care of proposals, it is likely that they are in the process of planning their marriage and preparing for the wedding ceremony.\",\n",
    "    \"You could put some olives in a jar to prevent them from getting nearby food wet. A jar is a container that is typically made of glass or ceramic and has a wide mouth and a secure, tight-fitting lid. Jars are often used for storing food items, such as olives, pickles, jams, and other types of preserved or dried goods. Because they have a sealed lid, jars can help to keep food fresh and prevent it from coming into contact with air or other substances that might spoil or contaminate it. If you want to prevent olives from getting nearby food wet, you could put them in a jar and close the lid to create an airtight seal. This would help to keep the olives separate from other foods and prevent them from coming into contact with moisture or other liquids.\",\n",
    "    \"If the graveyard was zoned by the pastor, it is likely that it was located on church property. Church property refers to land or buildings that are owned by a church or religious organization. This may include the main church building, as well as other structures such as a rectory, school, or community center. Church property may also include a graveyard or cemetery, which is a place where people are buried after they die. Pastors, who are ordained leaders in a church, often play a central role in the management and oversight of church property, and they may be responsible for zoning or designating areas within the property for specific purposes, such as a graveyard or a garden. If the pastor has zoned the graveyard, it is likely that it is located on church property and is being used as a place for burial by members of the church or community.\",\n",
    "    \"If a family wanted to live with carpeting, they may have ended up putting it in their houses. Houses are structures that are designed and built to be used as homes, and they typically have a number of rooms that are used for different purposes, such as sleeping, cooking, eating, and relaxing. Carpeting is a type of floor covering that is made of soft, flexible materials, such as wool, nylon, or polypropylene, and it is often used in houses to provide warmth, comfort, and insulation. If a family wanted to live with carpeting, they may have chosen to install carpeting in some or all of the rooms in their houses, in order to create a warm and cozy atmosphere and to improve the overall comfort and livability of their homes.\",\n",
    "    \"If a boss likes an employee's ambition, the employee may be put in charge of a project. A project is a specific task or set of tasks that is undertaken in order to achieve a specific goal or objective. Projects may be large or small, complex or simple, and they may involve a wide range of activities, such as research, design, development, testing, and implementation. If an employee is ambitious and demonstrates a strong desire to succeed and make a positive contribution to their organization, their boss may choose to put them in charge of a project, in order to give them the opportunity to demonstrate their skills and abilities and to take on more responsibility. Being put in charge of a project can be a challenging and rewarding experience, and it may provide an employee with the chance to learn new things, develop their skills, and make a meaningful contribution to their organization.\",\n",
    "    \"A county highway can be viewed as a line on a map. A map is a graphic representation of an area or region that shows the locations of various features, such as roads, rivers, mountains, and cities. Maps are often used to help people navigate and find their way around unfamiliar places, and they can be very useful for understanding the layout and geography of an area. County highways are roads that are maintained and operated by a county or local government, and they are typically used for local travel and transportation within a county or region. On a map, a county highway may be represented as a line, with a specific color or symbol used to indicate its location and route. By viewing a county highway as a line on a map, it is possible to get a sense of the route and layout of the road, and to use the map to plan a journey or navigate to a specific destination.\",\n",
    "    \"After going for a run, someone may feel tired. Running is a form of physical activity that involves moving quickly and continuously on foot, typically by running or jogging. It is a popular form of exercise that can help to improve cardiovascular fitness, build endurance, and strengthen the muscles of the legs and lower body. However, running can also be physically demanding, and it requires a certain level of fitness and stamina to be able to sustain the activity for an extended period of time. As a result, it is common for people to feel tired after going for a run, especially if they are not used to the activity or if they have pushed themselves to run for a longer distance or at a faster pace than usual. Tiredness after a run may be accompanied by other physical sensations, such as muscle fatigue, thirst, or a sense of accomplishment.\",\n",
    "    \"If a car was going from Florida to Ohio, it was heading north. Florida is a state in the southeastern region of the United States, and Ohio is a state in the midwestern region of the country. When traveling from Florida to Ohio, a person would need to go north in order to reach their destination. North is a direction that is opposite to south on a map or compass, and it is typically associated with higher latitude, colder climates, and longer nights. When traveling north, a person may encounter different landscapes, weather patterns, and cultural experiences than they would when traveling south, depending on the specific route and the distance traveled. By heading north from Florida to Ohio, a person would be leaving behind the warm, tropical climate of Florida and entering into a more temperate, mid-latitude region with cooler temperatures and a more diverse range of landscapes and ecosystems.\",\n",
    "    \"During a typical week, a teacher is likely to spend most of their time working in school. A teacher is a person who is trained and qualified to teach students in a school or educational setting, and their primary job is to provide instruction and guidance to help students learn and develop their skills and knowledge. Teachers may work in a variety of settings, including primary schools, secondary schools, and universities, and they may teach a wide range of subjects, including math, science, English, history, and the arts. In order to fulfill their duties as a teacher, a person is likely to spend most of their time working in a school or educational setting, where they will be responsible for preparing and delivering lessons, grading assignments, communicating with students and parents, and performing other tasks related to their job. Teachers typically work on a schedule that follows the school year, and they may work full-time or part-time, depending on their specific circumstances and the needs of their students.\",\n",
    "    \"In a predicament, an animal might choose to fight for its life as an alternative to fleeing. Predicament is a term that refers to a difficult or challenging situation, typically one that involves a choice or decision that needs to be made. When an animal finds itself in a predicament, it may have to decide how to respond in order to survive and protect itself. One option that an animal may have is to flee or run away from the situation in an effort to escape danger or avoid conflict. Another option that an animal may have is to fight for its life, using whatever means are available to defend itself and protect its survival. The choice that an animal makes in a predicament will depend on a variety of factors, including the specific nature of the situation, the animal's size, strength, and abilities, and the resources and options that are available to it.\",\n",
    "    \"It is not common for people to fight each other when they find a good deal. A good deal is typically defined as an opportunity to purchase something at a price that is lower than what it is usually worth, or to obtain a product or service that provides more value or benefits than what is expected. When people find a good deal, they may feel excited or pleased about the opportunity to save money or get more for their money, and they may take action to take advantage of the deal. However, it is generally not considered acceptable or appropriate for people to fight each other over a good deal or to engage in physical violence or aggression in order to obtain it. There are many other ways that people can express their interest in a good deal, such as by negotiating with the seller, making an offer, or simply making a purchase if the price is acceptable.\",\n",
    "    \"An altar is a platform or structure that is used for religious ceremonies, rituals, or worship. Altars are often found in places of worship, such as temples, churches, synagogues, mosques, and other religious buildings. When a person is standing in front of an altar, they are likely to be in a temple or other place of worship. Altars can be used for a variety of purposes in different religions and spiritual traditions, such as offering sacrifices, making offerings, praying, or performing other religious practices. They may be decorated with symbols, images, or other items that are significant to the religion or spiritual tradition that is being practiced. Altars may also be used as a place for people to meditate, reflect, or seek spiritual guidance.\",\n",
    "    \"Joe bought a bunch of grapes because he likes to use them to top his desserts. A dessert is a type of food that is typically served at the end of a meal, and it is usually sweet or rich in flavor. There are many different types of desserts that people enjoy, including cakes, cookies, ice cream, pie, and other sweet treats. One way that people may use grapes as a topping for their desserts is by placing them on top of a fruit pie, tart, or crisp. Grapes can add flavor and texture to a dessert, and they may also be used to decorate a dessert or to add visual appeal. Grapes are a versatile fruit that can be used in many different types of desserts, and they can be eaten fresh, frozen, or preserved in various ways.\",\n",
    "    \"Well water is water that is obtained from underground sources, typically through the use of a well. A well is a hole or shaft that is dug into the ground in order to access water that is contained in underground aquifers or other water-bearing formations. Well water is typically used for drinking, irrigation, and other purposes, and it is often considered to be of high quality because it is filtered and purified naturally as it flows through the ground. To obtain well water, a person can dig a well or have one dug by a professional well driller. The depth of the well will depend on the location and the geology of the area, and a pump or other mechanical system may be used to bring the water to the surface.\",\n",
    "]"
   ]
  },
  {
   "cell_type": "code",
   "execution_count": null,
   "id": "69fa8109",
   "metadata": {},
   "outputs": [],
   "source": []
  },
  {
   "cell_type": "code",
   "execution_count": 22,
   "id": "01fdee8d",
   "metadata": {},
   "outputs": [],
   "source": [
    "id_list = [\n",
    " '71519c19654251cced50c5718fd527c1',\n",
    " '44195d210c81c8c550174d0edbd3ad5d',\n",
    " '5a5da37b685ec9c6f15228128ce30437',\n",
    " 'cabdfc174953b4bdb8bdcc89d6592c74',\n",
    " 'eac3a4080127e8924034651b57dfa289',\n",
    " 'c0013f31657294b9b5ad819123513ca7',\n",
    " '2681697be70cd5425899ed6deb84b18a',\n",
    " '47f60340b869552e795fa6782224f3d2',\n",
    " '7e8a6eac93147eb52d8151bab7b40003',\n",
    " 'f34267f498c8a78383e35057fbcfa2ce',\n",
    " 'f024f923d78e5c0a4c0c4baa3ddccf05',\n",
    " 'e148c710d0c26849cf1f15293481038b',\n",
    " 'bdf437d7498815f36c255f64a8e6571c',\n",
    " '2282e0c80be28aadadb79a822fec9dac',\n",
    " 'bdd05e96876342b4b5999709439a7f4e',\n",
    " '494b8316614fc64c5c27757aeaffce23_1',\n",
    " 'c4494b402264250dc70931613d482295',\n",
    " 'fcfbf207c5586294fdce33b645b613f1',\n",
    " '9c583bcbe68989a644433302545fb31e',\n",
    " '0e684d779d98e6eecda167c10af42bbb',\n",
    " 'ac0462d09b9fddd40c3c77aedf48a870',\n",
    " '1dbfb41e04a10bdbb085bfe667c0df99',\n",
    " 'cd0c0ef3b8ce0eb09ff26823f6059be6',\n",
    " 'e6b67184b99375d05d3f2887f684c684',\n",
    " 'ae9f6f1e17b3fdd3a86b494933809f45',\n",
    " 'f149604169936a30b7e4c8d599d604b5',\n",
    " 'd7c8377953e0175ef57d59f3a8e63a8e',\n",
    " '1837216ac7745121b82a6491b2318c09',\n",
    " 'b5fe238d45e55ca5d802b7823ad390ef',\n",
    " 'b2fbeb0b48bd5e575af0f7dc24cdd85d',\n",
    " '9bdfb101c487ac598f6e4686cf774703',\n",
    " '206c7116ee2246180fcc0c5a1d0e7205',\n",
    " '5cd7f44bbf730dfae5ef2a362d2e5149',\n",
    " '45d0ea781ffd49b07d6eae94d47a8945',\n",
    " '89afdea1d76272fda8e1538a7d3b7a3f',\n",
    " '38a514fe54108527e1d6e89d9812da93',\n",
    " 'ebf347934a3e90ea46d3d87726fb5d25',\n",
    " '90226a6ecd7308ae1e6220a15ae24bc6',\n",
    " '5cae8057e75e3adf5c338a43b3ba97fb',\n",
    " '388a363c49e1b0aca8eaf18ccdde0caf',\n",
    " '9ed3af82152dfcd7000bf4631b095f71',\n",
    " '2d5805d894bba224c5fe91e70b8c0f77',\n",
    " 'd5aa464a16b72c9b9f3091abd461e3ef',\n",
    " '381b11c54be4cc432a95053ca34cbf6b',\n",
    " '807a3a2dabdd50ed0c76052fd2612632',\n",
    " '5172041c750d22e9a5081cc024de0fa6',\n",
    " 'd32a45ab3b751110d0578a78e54c0e64',\n",
    " '28ca5cbe27774746c34f6ebe84fc6d0c']"
   ]
  },
  {
   "cell_type": "code",
   "execution_count": null,
   "id": "51445c67",
   "metadata": {},
   "outputs": [],
   "source": []
  },
  {
   "cell_type": "code",
   "execution_count": 23,
   "id": "dabe3306",
   "metadata": {},
   "outputs": [],
   "source": [
    "# our_wrong_data_splits['dev']=[]\n",
    "# for x in our_data_splits['dev']:\n",
    "#     for ii in range(5):\n",
    "#         new_x={'id':x['id'], 'real_answer':x['answer'], \n",
    "#                'answer':x['choices'][ii], 'question':x['question'],\n",
    "#                'choices':x['choices'],\n",
    "#                'abstractive_explanation':x['abstractive_explanation'],\n",
    "#                'extractive_explanation':x['extractive_explanation'],\n",
    "#                'our_explanation':x['our_explanation']}\n",
    "#         our_wrong_data_splits['dev'].append(new_x)\n",
    "#     #print(x)\n",
    "#     #pdb.set_trace()\n",
    "# # wandb.init()\n",
    "# our_wrong_dev_data_dict = list2dict(our_wrong_data_splits['dev'])\n",
    "# our_wrong_data_splits['dev'] = datasets.Dataset.from_dict(our_wrong_dev_data_dict)"
   ]
  },
  {
   "cell_type": "code",
   "execution_count": 24,
   "id": "7b62bdf5",
   "metadata": {},
   "outputs": [],
   "source": [
    "# our_wrong_data_splits['train'][0],our_wrong_data_splits['train'][0].keys()\n",
    "# our_wrong_data_splits['train'] = our_wrong_data_splits['train'].map(\n",
    "#             lambda x: format_instance(\n",
    "#                 x,\n",
    "#                 tokenizer,\n",
    "#                 data_args.explanation_sep,\n",
    "#                 datasource=data_args.task_name,\n",
    "#                 io_format=data_args.io_format\n",
    "#             ),\n",
    "#             batched=False,\n",
    "#             load_from_cache_file=False,\n",
    "#         )"
   ]
  },
  {
   "cell_type": "code",
   "execution_count": 25,
   "id": "b421f892",
   "metadata": {},
   "outputs": [],
   "source": [
    "# for da in our_wrong_data_splits['dev']:\n",
    "#     print(\"*******\")\n",
    "#     print(\"question: {}\".format(da['question']))\n",
    "#     print(\"real_answer: {}\".format(da['real_answer']))\n",
    "#     print(\"answer: {}\".format(da['answer']))\n",
    "#     print(\"choices: {}\".format(da['choices']))\n",
    "#     print(\"our_explanation: {}\".format(da['our_explanation']))\n",
    "#     inp_ids = torch.tensor(da[\"input_ids\"], device=model.device).reshape(1, -1)\n",
    "#     out = model.generate(\n",
    "#                     inp_ids,\n",
    "#                     max_length=100,\n",
    "#                     pad_token_id=tokenizer.pad_token_id,\n",
    "#                     eos_token_id=tokenizer.eos_token_id,\n",
    "#                 )\n",
    "#     skip_special_tokens = False if \"infilling\" in data_args.io_format else True\n",
    "#     words = tokenizer.decode(out[0].tolist(), skip_special_tokens=skip_special_tokens)\n",
    "#     print(\"generated explanation: {}\".format(words))\n",
    "#     print(\"#######\")"
   ]
  },
  {
   "cell_type": "code",
   "execution_count": 26,
   "id": "dfa34701",
   "metadata": {},
   "outputs": [],
   "source": [
    "# our_wrong_data_splits['train'][0],our_wrong_data_splits['train'][0].keys()\n",
    "# our_wrong_data_splits['dev'] = our_wrong_data_splits['dev'].map(\n",
    "#             lambda x: format_instance(\n",
    "#                 x,\n",
    "#                 tokenizer,\n",
    "#                 data_args.explanation_sep,\n",
    "#                 datasource=data_args.task_name,\n",
    "#                 io_format=data_args.io_format\n",
    "#             ),\n",
    "#             batched=False,\n",
    "#             load_from_cache_file=False,\n",
    "#         )"
   ]
  },
  {
   "cell_type": "code",
   "execution_count": 27,
   "id": "2e6d6437",
   "metadata": {},
   "outputs": [],
   "source": [
    "# for da in our_wrong_data_splits['dev']:\n",
    "#     print(\"*******\")\n",
    "#     print(\"question: {}\".format(da['question']))\n",
    "#     print(\"real_answer: {}\".format(da['real_answer']))\n",
    "#     print(\"answer: {}\".format(da['answer']))\n",
    "#     print(\"choices: {}\".format(da['choices']))\n",
    "#     print(\"our_explanation: {}\".format(da['our_explanation']))\n",
    "#     inp_ids = torch.tensor(da[\"input_ids\"], device=model.device).reshape(1, -1)\n",
    "#     out = model.generate(\n",
    "#                     inp_ids,\n",
    "#                     max_length=100,\n",
    "#                     pad_token_id=tokenizer.pad_token_id,\n",
    "#                     eos_token_id=tokenizer.eos_token_id,\n",
    "#                 )\n",
    "#     skip_special_tokens = False if \"infilling\" in data_args.io_format else True\n",
    "#     words = tokenizer.decode(out[0].tolist(), skip_special_tokens=skip_special_tokens)\n",
    "#     print(\"generated explanation: {}\".format(words))\n",
    "#     print(\"#######\")"
   ]
  },
  {
   "cell_type": "code",
   "execution_count": 28,
   "id": "91605cfc",
   "metadata": {},
   "outputs": [],
   "source": [
    "# for da in our_wrong_data_splits['train']:\n",
    "#     print(\"*******\")\n",
    "#     print(\"question: {}\".format(da['question']))\n",
    "#     print(\"real_answer: {}\".format(da['real_answer']))\n",
    "#     print(\"answer: {}\".format(da['answer']))\n",
    "#     print(\"choices: {}\".format(da['choices']))\n",
    "#     print(\"our_explanation: {}\".format(da['our_explanation']))\n",
    "#     inp_ids = torch.tensor(da[\"input_ids\"], device=model.device).reshape(1, -1)\n",
    "#     out = model.generate(\n",
    "#                     inp_ids,\n",
    "#                     max_length=100,\n",
    "#                     pad_token_id=tokenizer.pad_token_id,\n",
    "#                     eos_token_id=tokenizer.eos_token_id,\n",
    "#                 )\n",
    "#     skip_special_tokens = False if \"infilling\" in data_args.io_format else True\n",
    "#     words = tokenizer.decode(out[0].tolist(), skip_special_tokens=skip_special_tokens)\n",
    "#     print(\"generated explanation: {}\".format(words))\n",
    "#     print(\"#######\")"
   ]
  },
  {
   "cell_type": "code",
   "execution_count": 29,
   "id": "cbc3e763",
   "metadata": {},
   "outputs": [],
   "source": [
    "# import wandb\n",
    "# training_args.run_name=\"\"\n",
    "training_args.logging_steps=3\n",
    "training_args.save_steps=5\n",
    "training_args.evaluation_strategy=\"epoch\"\n",
    "training_args.num_train_epochs=25\n",
    "training_args.do_eval=True"
   ]
  },
  {
   "cell_type": "code",
   "execution_count": 30,
   "id": "317de5d7",
   "metadata": {},
   "outputs": [
    {
     "data": {
      "text/plain": [
       "TrainingArguments(\n",
       "_n_gpu=1,\n",
       "adafactor=False,\n",
       "adam_beta1=0.9,\n",
       "adam_beta2=0.999,\n",
       "adam_epsilon=1e-08,\n",
       "dataloader_drop_last=False,\n",
       "dataloader_num_workers=0,\n",
       "dataloader_pin_memory=True,\n",
       "ddp_find_unused_parameters=None,\n",
       "debug=[],\n",
       "deepspeed=None,\n",
       "disable_tqdm=False,\n",
       "do_eval=True,\n",
       "do_predict=False,\n",
       "do_train=True,\n",
       "eval_accumulation_steps=None,\n",
       "eval_steps=None,\n",
       "evaluation_strategy=epoch,\n",
       "fp16=False,\n",
       "fp16_backend=auto,\n",
       "fp16_full_eval=False,\n",
       "fp16_opt_level=O1,\n",
       "gradient_accumulation_steps=1,\n",
       "greater_is_better=None,\n",
       "group_by_length=False,\n",
       "ignore_data_skip=False,\n",
       "label_names=None,\n",
       "label_smoothing_factor=0.0,\n",
       "learning_rate=5e-05,\n",
       "length_column_name=length,\n",
       "load_best_model_at_end=False,\n",
       "local_rank=-1,\n",
       "log_level=-1,\n",
       "log_level_replica=-1,\n",
       "log_on_each_node=True,\n",
       "logging_dir=./cos_e_output_t5_large/011323_013938,\n",
       "logging_first_step=False,\n",
       "logging_steps=3,\n",
       "logging_strategy=IntervalStrategy.STEPS,\n",
       "lr_scheduler_type=SchedulerType.LINEAR,\n",
       "max_grad_norm=1.0,\n",
       "max_steps=-1,\n",
       "metric_for_best_model=None,\n",
       "mp_parameters=,\n",
       "no_cuda=False,\n",
       "num_train_epochs=25,\n",
       "output_dir=./cos_e_output_t5_large/011323_013938,\n",
       "overwrite_output_dir=False,\n",
       "past_index=-1,\n",
       "per_device_eval_batch_size=8,\n",
       "per_device_train_batch_size=8,\n",
       "prediction_loss_only=False,\n",
       "push_to_hub=False,\n",
       "push_to_hub_model_id=cos_e_output_t5_large,\n",
       "push_to_hub_organization=None,\n",
       "push_to_hub_token=None,\n",
       "remove_unused_columns=True,\n",
       "report_to=['tensorboard', 'wandb'],\n",
       "resume_from_checkpoint=None,\n",
       "run_name=./cos_e_output_t5_large,\n",
       "save_on_each_node=False,\n",
       "save_steps=5,\n",
       "save_strategy=IntervalStrategy.STEPS,\n",
       "save_total_limit=None,\n",
       "seed=42,\n",
       "sharded_ddp=[],\n",
       "skip_memory_metrics=True,\n",
       "tpu_metrics_debug=False,\n",
       "tpu_num_cores=None,\n",
       "use_legacy_prediction_loop=False,\n",
       "warmup_ratio=0.0,\n",
       "warmup_steps=0,\n",
       "weight_decay=0.0,\n",
       ")"
      ]
     },
     "execution_count": 30,
     "metadata": {},
     "output_type": "execute_result"
    }
   ],
   "source": [
    "training_args"
   ]
  },
  {
   "cell_type": "code",
   "execution_count": 31,
   "id": "de79fb60",
   "metadata": {},
   "outputs": [
    {
     "data": {
      "text/plain": [
       "TrainingArguments(\n",
       "_n_gpu=1,\n",
       "adafactor=False,\n",
       "adam_beta1=0.9,\n",
       "adam_beta2=0.999,\n",
       "adam_epsilon=1e-08,\n",
       "dataloader_drop_last=False,\n",
       "dataloader_num_workers=0,\n",
       "dataloader_pin_memory=True,\n",
       "ddp_find_unused_parameters=None,\n",
       "debug=[],\n",
       "deepspeed=None,\n",
       "disable_tqdm=False,\n",
       "do_eval=True,\n",
       "do_predict=False,\n",
       "do_train=True,\n",
       "eval_accumulation_steps=None,\n",
       "eval_steps=None,\n",
       "evaluation_strategy=epoch,\n",
       "fp16=False,\n",
       "fp16_backend=auto,\n",
       "fp16_full_eval=False,\n",
       "fp16_opt_level=O1,\n",
       "gradient_accumulation_steps=1,\n",
       "greater_is_better=None,\n",
       "group_by_length=False,\n",
       "ignore_data_skip=False,\n",
       "label_names=None,\n",
       "label_smoothing_factor=0.0,\n",
       "learning_rate=5e-05,\n",
       "length_column_name=length,\n",
       "load_best_model_at_end=False,\n",
       "local_rank=-1,\n",
       "log_level=-1,\n",
       "log_level_replica=-1,\n",
       "log_on_each_node=True,\n",
       "logging_dir=./cos_e_output_t5_large/011323_013938,\n",
       "logging_first_step=False,\n",
       "logging_steps=3,\n",
       "logging_strategy=IntervalStrategy.STEPS,\n",
       "lr_scheduler_type=SchedulerType.LINEAR,\n",
       "max_grad_norm=1.0,\n",
       "max_steps=-1,\n",
       "metric_for_best_model=None,\n",
       "mp_parameters=,\n",
       "no_cuda=False,\n",
       "num_train_epochs=25,\n",
       "output_dir=./cos_e_output_t5_large/011323_013938,\n",
       "overwrite_output_dir=False,\n",
       "past_index=-1,\n",
       "per_device_eval_batch_size=8,\n",
       "per_device_train_batch_size=8,\n",
       "prediction_loss_only=False,\n",
       "push_to_hub=False,\n",
       "push_to_hub_model_id=cos_e_output_t5_large,\n",
       "push_to_hub_organization=None,\n",
       "push_to_hub_token=None,\n",
       "remove_unused_columns=True,\n",
       "report_to=['tensorboard', 'wandb'],\n",
       "resume_from_checkpoint=None,\n",
       "run_name=./cos_e_output_t5_large,\n",
       "save_on_each_node=False,\n",
       "save_steps=5,\n",
       "save_strategy=IntervalStrategy.STEPS,\n",
       "save_total_limit=None,\n",
       "seed=42,\n",
       "sharded_ddp=[],\n",
       "skip_memory_metrics=True,\n",
       "tpu_metrics_debug=False,\n",
       "tpu_num_cores=None,\n",
       "use_legacy_prediction_loop=False,\n",
       "warmup_ratio=0.0,\n",
       "warmup_steps=0,\n",
       "weight_decay=0.0,\n",
       ")"
      ]
     },
     "execution_count": 31,
     "metadata": {},
     "output_type": "execute_result"
    }
   ],
   "source": [
    "training_args.per_device_eval_batch_size=8\n",
    "training_args.per_device_train_batch_size=8\n",
    "training_args"
   ]
  },
  {
   "cell_type": "code",
   "execution_count": 32,
   "id": "e80480ec",
   "metadata": {},
   "outputs": [],
   "source": [
    "# data_splits = {'train': None, 'validation': None, 'test': None}\n",
    "# original_data_splits = {'train': None, 'validation': None, 'test': None}  \n",
    "# data_args.io_format=\"t5_fewshot_infilling_with_choices\"\n",
    "# # Data loading from huggingface's datasets\n",
    "# if data_args.task_name in {\"cos_e\", \"esnli\"}:\n",
    "#     version_arg = None\n",
    "#     if data_args.task_name == \"cos_e\":\n",
    "#         assert data_args.version_name in {\"v1.11\", \"v1.0\"}\n",
    "#         version_arg = data_args.version_name\n",
    "\n",
    "#     load_train = True\n",
    "#     if (not training_args.do_train\n",
    "#         and not training_args.do_eval\n",
    "#         and not data_args.train_predict\n",
    "#     ):\n",
    "#         # don't load training dataset\n",
    "#         dataset = {}\n",
    "#         dataset[\"train\"] = None\n",
    "#         dataset[\"validation\"] = datasets.load_dataset(\n",
    "#             data_args.task_name, version_arg, split=\"validation\"\n",
    "#         )\n",
    "#         data_splits['validation'] = dataset[\"validation\"]\n",
    "\n",
    "#         if data_args.task_name == \"esnli\":\n",
    "#             dataset[\"test\"] = datasets.load_dataset(data_args.task_name, split=\"test\")\n",
    "#             data_splits['test'] = dataset[\"test\"]\n",
    "#         load_train = False\n",
    "#     else:\n",
    "#         dataset = datasets.load_dataset(data_args.task_name, version_arg)\n",
    "\n",
    "#         if data_args.n_shots > 0: # Shots = number of training examples **per label** \n",
    "#             if data_args.task_name == 'esnli': # Construct a *balanced* random sample of the size `data_args.n_shots*len(labels)` (for train) or `data_args.fewshot_eval_size` (for eval)\n",
    "#                 for split in [\"train\", \"validation\", \"test\"]:\n",
    "#                     split_data = dataset[split]\n",
    "#                     label_subsets = []\n",
    "#                     labels = split_data.features['label'].names\n",
    "#                     sample_size = data_args.n_shots if split == \"train\" else int(data_args.fewshot_eval_size/len(labels))\n",
    "#                     if data_args.gpt3_max_eval_size is not None and split != 'train':\n",
    "#                         assert len(labels) == 3\n",
    "#                         sample_size = data_args.gpt3_max_eval_size // len(labels)\n",
    "#                     for label in labels:\n",
    "#                         # The following is a hack to only run on `neutral` labels of `esnli` to get data for human eval\n",
    "#                         # if data_args.gpt3_max_eval_size is not None and split != 'train' and label != 'neutral':\n",
    "#                         #     continue\n",
    "#                         label_int = split_data.features['label'].str2int(label)\n",
    "#                         label_set = split_data.filter(lambda example: example['label'] == label_int).shuffle() # all instances of labeled as `label`\n",
    "#                         label_subset = label_set.select(range(sample_size)) #select `sample_size` random instances labeled as `label`\n",
    "#                         label_subsets.append(label_subset)\n",
    "#                     dataset[split] = datasets.concatenate_datasets(label_subsets) #merge all label-specific instances\n",
    "#             elif data_args.task_name == 'cos_e': \n",
    "#                 for split in [\"train\", \"validation\"]: \n",
    "#                     split_data = dataset[split]\n",
    "#                     sample_size = data_args.n_shots if split == \"train\" else int(data_args.fewshot_eval_size) #Shots for QA are not label-specific, i.e., `n_shots` is the training data size\n",
    "#                     if data_args.gpt3_max_eval_size is not None and split != 'train':\n",
    "#                         sample_size = data_args.gpt3_max_eval_size\n",
    "#                     dataset[split] = split_data#.shuffle().select(range(sample_size)) # select `sample_size` random instances\n",
    "#             else: \n",
    "#                 raise ValueError('Only cos_e and esnli are supported by Huggingface datasets.')\n",
    "#     # Apply method, and format dataset to torch.Tensor outputs\n",
    "# #     fse_csqa_train_file=\"/cognitive_comp/huangyongfeng/evaluate_LM_with_rationalization/few_shot_explanations/data/acceptability_annotations/commonsenseqa_train.csv\"\n",
    "# #     fse_csqa_dev_file=\"/cognitive_comp/huangyongfeng/evaluate_LM_with_rationalization/few_shot_explanations/data/acceptability_annotations/commonsenseqa_test.csv\"\n",
    "# #     fse_csqa_train_dataset = datasets.load_dataset('csv', data_files=fse_csqa_train_file)\n",
    "# #     fse_csqa_dev_dataset = datasets.load_dataset('csv', data_files=fse_csqa_dev_file)\n",
    "# #     train_ids_list=[x['id'] for x in data_splits[\"train\"]]\n",
    "# #     dev_ids_list=[x['id'] for x in data_splits[\"validation\"]]\n",
    "# #     fse_train_ids_list=[x['Input.id'] for x in fse_csqa_train_dataset['train']]\n",
    "# #     fse_dev_ids_list=[x['Input.id'] for x in fse_csqa_dev_dataset['train']]\n",
    "# #     fse_train_indexs_list=[train_ids_list.index(id_) for id_ in fse_train_ids_list]\n",
    "# #     fse_dev_indexs_list=[dev_ids_list.index(id_) for id_ in fse_dev_ids_list]\n",
    "# #     print(len(fse_train_indexs_list), len(fse_dev_indexs_list))\n",
    "# #     # print(fse_train_indexs_list,fse_dev_indexs_list)\n",
    "# #     fse_data_splits={}\n",
    "# #     data_splits['train']=data_splits[\"train\"].select(fse_train_indexs_list)\n",
    "# #     data_splits['validation']=data_splits[\"validation\"].select(fse_train_indexs_list)\n",
    "#     for split in dataset.keys():\n",
    "#         if dataset[split] is not None:\n",
    "#             dataset[split] = dataset[split].map(\n",
    "#                 lambda x: format_instance(\n",
    "#                     x,\n",
    "#                     tokenizer,\n",
    "#                     data_args.explanation_sep,\n",
    "#                     datasource=data_args.task_name,\n",
    "#                     io_format=data_args.io_format\n",
    "#                 ),\n",
    "#                 batched=False,\n",
    "#                 load_from_cache_file=False,\n",
    "#             )\n",
    "#     data_splits[\"train\"] = deepcopy(dataset[\"train\"])\n",
    "#     data_splits[\"validation\"] = deepcopy(dataset[\"validation\"])\n",
    "#     if data_args.task_name == \"esnli\":\n",
    "#         data_splits[\"test\"] = deepcopy(dataset[\"test\"])\n",
    "\n",
    "#     original_data_splits[\"train\"] = deepcopy(dataset[\"train\"])\n",
    "#     original_data_splits[\"validation\"] = deepcopy(dataset[\"validation\"])\n",
    "#     if data_args.task_name == \"esnli\":\n",
    "#         original_data_splits[\"test\"] = deepcopy(dataset[\"test\"])"
   ]
  },
  {
   "cell_type": "code",
   "execution_count": 33,
   "id": "2f4cb867",
   "metadata": {},
   "outputs": [],
   "source": [
    "# import pandas as pd\n",
    "# # new_data_splits={'train': None, 'validation': None}\n",
    "# # new_data_splits['train']=deepcopy(dataset[\"train\"])\n",
    "# # new_data_splits['validation']=deepcopy(dataset[\"validation\"])\n",
    "# fse_csqa_train_file=\"/cognitive_comp/huangyongfeng/evaluate_LM_with_rationalization/few_shot_explanations/data/acceptability_annotations/commonsenseqa_train.csv\"\n",
    "# fse_csqa_dev_file=\"/cognitive_comp/huangyongfeng/evaluate_LM_with_rationalization/few_shot_explanations/data/acceptability_annotations/commonsenseqa_test.csv\"\n",
    "# # fse_csqa_train_dataset = datasets.load_dataset('csv', data_files=fse_csqa_train_file)\n",
    "# # fse_csqa_dev_dataset = datasets.load_dataset('csv', data_files=fse_csqa_dev_file)\n",
    "\n",
    "# train_df=pd.read_csv(fse_csqa_train_file)\n",
    "\n",
    "# dev_df=pd.read_csv(fse_csqa_dev_file)\n",
    "\n",
    "# dev_df\n"
   ]
  },
  {
   "cell_type": "code",
   "execution_count": 34,
   "id": "42739e9b",
   "metadata": {},
   "outputs": [],
   "source": [
    "# len(fse_train_ids_list),len(list(set(fse_train_ids_list)))"
   ]
  },
  {
   "cell_type": "code",
   "execution_count": 35,
   "id": "c78ea825",
   "metadata": {},
   "outputs": [],
   "source": [
    "# train_ids_list=[x['id'] for x in data_splits[\"train\"]]\n",
    "# dev_ids_list=[x['id'] for x in data_splits[\"validation\"]]\n",
    "# fse_train_ids_list=[x['Input.id'] for x in fse_csqa_train_dataset['train']]\n",
    "# fse_dev_ids_list=[x['Input.id'] for x in fse_csqa_dev_dataset['train']]\n"
   ]
  },
  {
   "cell_type": "code",
   "execution_count": 36,
   "id": "80395518",
   "metadata": {},
   "outputs": [],
   "source": [
    "# fse_train_indexs_list=[train_ids_list.index(id_) for id_ in fse_train_ids_list]\n",
    "# fse_dev_indexs_list=[dev_ids_list.index(id_) for id_ in fse_dev_ids_list]\n",
    "# print(len(fse_train_indexs_list), len(fse_dev_indexs_list))\n",
    "# # print(fse_train_indexs_list,fse_dev_indexs_list)\n",
    "# fse_data_splits={}\n",
    "# fse_data_splits['train']=data_splits[\"train\"].select(fse_train_indexs_list)\n",
    "# fse_data_splits['validation']=data_splits[\"validation\"].select(fse_train_indexs_list)"
   ]
  },
  {
   "cell_type": "code",
   "execution_count": 37,
   "id": "4d186954",
   "metadata": {},
   "outputs": [],
   "source": [
    "# fse_csqa_train_dataset['train'][0].keys()"
   ]
  },
  {
   "cell_type": "code",
   "execution_count": 38,
   "id": "66dd71d4",
   "metadata": {},
   "outputs": [],
   "source": [
    "class SequenceCollator:\n",
    "    def __init__(self, model, pad_token):\n",
    "        self.model = model\n",
    "        self.pad_token_mapping = {\n",
    "            \"labels\": -100,\n",
    "            \"attention_mask\": 0,\n",
    "            \"decoder_attention_mask\": 0,\n",
    "            \"input_ids\": pad_token,\n",
    "        }\n",
    "\n",
    "        self.columns = [\n",
    "            \"input_ids\",\n",
    "            \"attention_mask\",\n",
    "            \"labels\",\n",
    "            \"decoder_attention_mask\",\n",
    "        ]\n",
    "\n",
    "    def __call__(self, examples: List[Dict[str, InputDataClass]]) -> Dict[str, torch.Tensor]:\n",
    "        # re-format inputs for training\n",
    "        batch = {}\n",
    "        for key in examples[0].keys():\n",
    "            if key in self.columns:\n",
    "                tmp_list = []\n",
    "                for item in examples:\n",
    "                    tmp_list.append(item[key])\n",
    "\n",
    "                # pad lists to max length\n",
    "                if isinstance(tmp_list[0], list):\n",
    "                    max_length = max(map(len, tmp_list))\n",
    "                    tmp_list = [\n",
    "                        el + [self.pad_token_mapping[key]] * (max_length - len(el))\n",
    "                        for el in tmp_list\n",
    "                    ]\n",
    "\n",
    "                batch[key] = torch.tensor(tmp_list, dtype=torch.long)\n",
    "        return batch"
   ]
  },
  {
   "cell_type": "code",
   "execution_count": 39,
   "id": "f144515d",
   "metadata": {},
   "outputs": [
    {
     "name": "stderr",
     "output_type": "stream",
     "text": [
      "You are adding a <class 'transformers.integrations.TensorBoardCallback'> to the callbacks of this Trainer, but there is already one. The currentlist of callbacks is\n",
      ":DefaultFlowCallback\n",
      "TensorBoardCallback\n",
      "WandbCallback\n",
      "The following columns in the training set  don't have a corresponding argument in `T5ForConditionalGeneration.forward` and have been ignored: our_explanation, question, abstractive_explanation, extractive_explanation, choices, id, question_encoding, answer.\n",
      "***** Running training *****\n",
      "  Num examples = 24\n",
      "  Num Epochs = 25\n",
      "  Instantaneous batch size per device = 8\n",
      "  Total train batch size (w. parallel, distributed & accumulation) = 8\n",
      "  Gradient Accumulation steps = 1\n",
      "  Total optimization steps = 75\n",
      "Automatic Weights & Biases logging enabled, to disable set os.environ[\"WANDB_DISABLED\"] = \"true\"\n"
     ]
    },
    {
     "data": {
      "text/html": [
       "Changes to your `wandb` environment variables will be ignored because your `wandb` session has already started. For more information on how to modify your settings with `wandb.init()` arguments, please refer to <a href=\"https://wandb.me/wandb-init\" target=\"_blank\">the W&B docs</a>."
      ],
      "text/plain": [
       "<IPython.core.display.HTML object>"
      ]
     },
     "metadata": {},
     "output_type": "display_data"
    },
    {
     "data": {
      "text/html": [
       "wandb version 0.13.8 is available!  To upgrade, please run:\n",
       " $ pip install wandb --upgrade"
      ],
      "text/plain": [
       "<IPython.core.display.HTML object>"
      ]
     },
     "metadata": {},
     "output_type": "display_data"
    },
    {
     "data": {
      "text/html": [
       "Tracking run with wandb version 0.13.5"
      ],
      "text/plain": [
       "<IPython.core.display.HTML object>"
      ]
     },
     "metadata": {},
     "output_type": "display_data"
    },
    {
     "data": {
      "text/html": [
       "Run data is saved locally in <code>/cognitive_comp/huangyongfeng/evaluate_LM_with_rationalization/scripts/wandb/run-20230113_014003-2w3zul6f</code>"
      ],
      "text/plain": [
       "<IPython.core.display.HTML object>"
      ]
     },
     "metadata": {},
     "output_type": "display_data"
    },
    {
     "data": {
      "text/html": [
       "Syncing run <strong><a href=\"https://wandb.ai/cuhk_lavilab/evaluate_LM_with_rationalization/runs/2w3zul6f\" target=\"_blank\">./cos_e_output_t5_large</a></strong> to <a href=\"https://wandb.ai/cuhk_lavilab/evaluate_LM_with_rationalization\" target=\"_blank\">Weights & Biases</a> (<a href=\"https://wandb.me/run\" target=\"_blank\">docs</a>)<br/>"
      ],
      "text/plain": [
       "<IPython.core.display.HTML object>"
      ]
     },
     "metadata": {},
     "output_type": "display_data"
    },
    {
     "data": {
      "text/html": [
       "\n",
       "    <div>\n",
       "      \n",
       "      <progress value='75' max='75' style='width:300px; height:20px; vertical-align: middle;'></progress>\n",
       "      [75/75 01:48, Epoch 25/25]\n",
       "    </div>\n",
       "    <table border=\"1\" class=\"dataframe\">\n",
       "  <thead>\n",
       "    <tr style=\"text-align: left;\">\n",
       "      <th>Step</th>\n",
       "      <th>Training Loss</th>\n",
       "      <th>Validation Loss</th>\n",
       "    </tr>\n",
       "  </thead>\n",
       "  <tbody>\n",
       "  </tbody>\n",
       "</table><p>"
      ],
      "text/plain": [
       "<IPython.core.display.HTML object>"
      ]
     },
     "metadata": {},
     "output_type": "display_data"
    },
    {
     "name": "stderr",
     "output_type": "stream",
     "text": [
      "Saving model checkpoint to ./cos_e_output_t5_large/011323_013938/checkpoint-5\n",
      "Configuration saved in ./cos_e_output_t5_large/011323_013938/checkpoint-5/config.json\n",
      "Model weights saved in ./cos_e_output_t5_large/011323_013938/checkpoint-5/pytorch_model.bin\n",
      "Saving model checkpoint to ./cos_e_output_t5_large/011323_013938/checkpoint-10\n",
      "Configuration saved in ./cos_e_output_t5_large/011323_013938/checkpoint-10/config.json\n",
      "Model weights saved in ./cos_e_output_t5_large/011323_013938/checkpoint-10/pytorch_model.bin\n",
      "Saving model checkpoint to ./cos_e_output_t5_large/011323_013938/checkpoint-15\n",
      "Configuration saved in ./cos_e_output_t5_large/011323_013938/checkpoint-15/config.json\n",
      "Model weights saved in ./cos_e_output_t5_large/011323_013938/checkpoint-15/pytorch_model.bin\n",
      "Saving model checkpoint to ./cos_e_output_t5_large/011323_013938/checkpoint-20\n",
      "Configuration saved in ./cos_e_output_t5_large/011323_013938/checkpoint-20/config.json\n",
      "Model weights saved in ./cos_e_output_t5_large/011323_013938/checkpoint-20/pytorch_model.bin\n",
      "Saving model checkpoint to ./cos_e_output_t5_large/011323_013938/checkpoint-25\n",
      "Configuration saved in ./cos_e_output_t5_large/011323_013938/checkpoint-25/config.json\n",
      "Model weights saved in ./cos_e_output_t5_large/011323_013938/checkpoint-25/pytorch_model.bin\n",
      "Saving model checkpoint to ./cos_e_output_t5_large/011323_013938/checkpoint-30\n",
      "Configuration saved in ./cos_e_output_t5_large/011323_013938/checkpoint-30/config.json\n",
      "Model weights saved in ./cos_e_output_t5_large/011323_013938/checkpoint-30/pytorch_model.bin\n",
      "Saving model checkpoint to ./cos_e_output_t5_large/011323_013938/checkpoint-35\n",
      "Configuration saved in ./cos_e_output_t5_large/011323_013938/checkpoint-35/config.json\n",
      "Model weights saved in ./cos_e_output_t5_large/011323_013938/checkpoint-35/pytorch_model.bin\n",
      "Saving model checkpoint to ./cos_e_output_t5_large/011323_013938/checkpoint-40\n",
      "Configuration saved in ./cos_e_output_t5_large/011323_013938/checkpoint-40/config.json\n",
      "Model weights saved in ./cos_e_output_t5_large/011323_013938/checkpoint-40/pytorch_model.bin\n",
      "Saving model checkpoint to ./cos_e_output_t5_large/011323_013938/checkpoint-45\n",
      "Configuration saved in ./cos_e_output_t5_large/011323_013938/checkpoint-45/config.json\n",
      "Model weights saved in ./cos_e_output_t5_large/011323_013938/checkpoint-45/pytorch_model.bin\n",
      "Saving model checkpoint to ./cos_e_output_t5_large/011323_013938/checkpoint-50\n",
      "Configuration saved in ./cos_e_output_t5_large/011323_013938/checkpoint-50/config.json\n",
      "Model weights saved in ./cos_e_output_t5_large/011323_013938/checkpoint-50/pytorch_model.bin\n",
      "Saving model checkpoint to ./cos_e_output_t5_large/011323_013938/checkpoint-55\n",
      "Configuration saved in ./cos_e_output_t5_large/011323_013938/checkpoint-55/config.json\n",
      "Model weights saved in ./cos_e_output_t5_large/011323_013938/checkpoint-55/pytorch_model.bin\n",
      "Saving model checkpoint to ./cos_e_output_t5_large/011323_013938/checkpoint-60\n",
      "Configuration saved in ./cos_e_output_t5_large/011323_013938/checkpoint-60/config.json\n",
      "Model weights saved in ./cos_e_output_t5_large/011323_013938/checkpoint-60/pytorch_model.bin\n",
      "Saving model checkpoint to ./cos_e_output_t5_large/011323_013938/checkpoint-65\n",
      "Configuration saved in ./cos_e_output_t5_large/011323_013938/checkpoint-65/config.json\n",
      "Model weights saved in ./cos_e_output_t5_large/011323_013938/checkpoint-65/pytorch_model.bin\n",
      "Saving model checkpoint to ./cos_e_output_t5_large/011323_013938/checkpoint-70\n",
      "Configuration saved in ./cos_e_output_t5_large/011323_013938/checkpoint-70/config.json\n",
      "Model weights saved in ./cos_e_output_t5_large/011323_013938/checkpoint-70/pytorch_model.bin\n",
      "Saving model checkpoint to ./cos_e_output_t5_large/011323_013938/checkpoint-75\n",
      "Configuration saved in ./cos_e_output_t5_large/011323_013938/checkpoint-75/config.json\n",
      "Model weights saved in ./cos_e_output_t5_large/011323_013938/checkpoint-75/pytorch_model.bin\n",
      "\n",
      "\n",
      "Training completed. Do not forget to share your model on huggingface.co/models =)\n",
      "\n",
      "\n"
     ]
    },
    {
     "data": {
      "text/html": [
       "Waiting for W&B process to finish... <strong style=\"color:green\">(success).</strong>"
      ],
      "text/plain": [
       "<IPython.core.display.HTML object>"
      ]
     },
     "metadata": {},
     "output_type": "display_data"
    },
    {
     "data": {
      "text/html": [
       "<style>\n",
       "    table.wandb td:nth-child(1) { padding: 0 10px; text-align: left ; width: auto;} td:nth-child(2) {text-align: left ; width: 100%}\n",
       "    .wandb-row { display: flex; flex-direction: row; flex-wrap: wrap; justify-content: flex-start; width: 100% }\n",
       "    .wandb-col { display: flex; flex-direction: column; flex-basis: 100%; flex: 1; padding: 10px; }\n",
       "    </style>\n",
       "<div class=\"wandb-row\"><div class=\"wandb-col\"><h3>Run history:</h3><br/><table class=\"wandb\"><tr><td>train/epoch</td><td>▁▁▂▂▂▂▃▃▃▄▄▄▅▅▅▅▆▆▆▇▇▇▇███</td></tr><tr><td>train/global_step</td><td>▁▁▂▂▂▂▃▃▃▄▄▄▅▅▅▅▆▆▆▇▇▇▇███</td></tr><tr><td>train/learning_rate</td><td>██▇▇▇▇▆▆▆▅▅▅▅▄▄▄▃▃▃▂▂▂▂▁▁</td></tr><tr><td>train/loss</td><td>█▆▃▂▂▂▂▁▁▁▁▁▁▁▁▁▁▁▁▁▁▁▁▁▁</td></tr><tr><td>train/total_flos</td><td>▁</td></tr><tr><td>train/train_loss</td><td>▁</td></tr><tr><td>train/train_runtime</td><td>▁</td></tr><tr><td>train/train_samples_per_second</td><td>▁</td></tr><tr><td>train/train_steps_per_second</td><td>▁</td></tr></table><br/></div><div class=\"wandb-col\"><h3>Run summary:</h3><br/><table class=\"wandb\"><tr><td>train/epoch</td><td>25.0</td></tr><tr><td>train/global_step</td><td>75</td></tr><tr><td>train/learning_rate</td><td>0.0</td></tr><tr><td>train/loss</td><td>2.4399</td></tr><tr><td>train/total_flos</td><td>29401248153600.0</td></tr><tr><td>train/train_loss</td><td>3.7659</td></tr><tr><td>train/train_runtime</td><td>117.2596</td></tr><tr><td>train/train_samples_per_second</td><td>5.117</td></tr><tr><td>train/train_steps_per_second</td><td>0.64</td></tr></table><br/></div></div>"
      ],
      "text/plain": [
       "<IPython.core.display.HTML object>"
      ]
     },
     "metadata": {},
     "output_type": "display_data"
    },
    {
     "data": {
      "text/html": [
       "Synced <strong style=\"color:#cdcd00\">./cos_e_output_t5_large</strong>: <a href=\"https://wandb.ai/cuhk_lavilab/evaluate_LM_with_rationalization/runs/2w3zul6f\" target=\"_blank\">https://wandb.ai/cuhk_lavilab/evaluate_LM_with_rationalization/runs/2w3zul6f</a><br/>Synced 6 W&B file(s), 0 media file(s), 0 artifact file(s) and 0 other file(s)"
      ],
      "text/plain": [
       "<IPython.core.display.HTML object>"
      ]
     },
     "metadata": {},
     "output_type": "display_data"
    },
    {
     "data": {
      "text/html": [
       "Find logs at: <code>./wandb/run-20230113_014003-2w3zul6f/logs</code>"
      ],
      "text/plain": [
       "<IPython.core.display.HTML object>"
      ]
     },
     "metadata": {},
     "output_type": "display_data"
    }
   ],
   "source": [
    "# os.environ[\"WANDB_DISABLED\"] = \"True\"\n",
    "if data_args.generations_filepath is None:\n",
    "    callbacks = [TensorBoardCallback()]\n",
    "    if data_args.early_stopping_patience > 0:\n",
    "        callbacks.append(EarlyStoppingCallback(early_stopping_patience=data_args.early_stopping_patience))\n",
    "        training_args.load_best_model_at_end = True\n",
    "    else:\n",
    "        training_args.load_best_model_at_end = False  # use the last model state\n",
    "    training_args.metric_for_best_model = 'eval_loss'\n",
    "    training_args.greater_is_better = False\n",
    "    if training_args.eval_steps is None:\n",
    "        training_args.evaluation_strategy = EvaluationStrategy.EPOCH\n",
    "    else:\n",
    "        training_args.evaluation_strategy = EvaluationStrategy.STEPS\n",
    "\n",
    "    trainer = Trainer(\n",
    "        model=model,\n",
    "        args=training_args,\n",
    "        train_dataset=our_data_splits['train'],\n",
    "        eval_dataset=our_data_splits['dev'],\n",
    "        data_collator=SequenceCollator(\n",
    "            model=model_class, pad_token=tokenizer.pad_token_id\n",
    "        ),\n",
    "        callbacks=callbacks,\n",
    "    )\n",
    "\n",
    "# Training. Don't train if it is use_gpt3\n",
    "if training_args.do_train and not model_args.use_gpt3:\n",
    "    start_time = time.time()\n",
    "    trainer.train()\n",
    "    train_time = time.time() - start_time\n",
    "    model = trainer.model\n",
    "    wandb.finish()\n",
    "else:\n",
    "    start_time = time.time()\n",
    "    train_time = time.time() - start_time"
   ]
  },
  {
   "cell_type": "code",
   "execution_count": 40,
   "id": "ade3c632",
   "metadata": {},
   "outputs": [],
   "source": [
    "# print(our_data_splits['dev'][0]['our_explanation'])\n",
    "# inp_ids=torch.tensor(our_data_splits['dev'][0][\"input_ids\"], device=model.device).reshape(1, -1)\n",
    "# out = model.generate(\n",
    "#                     inp_ids,\n",
    "#                     max_length=100,\n",
    "#                     pad_token_id=tokenizer.pad_token_id,\n",
    "#                     eos_token_id=tokenizer.eos_token_id,\n",
    "#                 )\n",
    "# skip_special_tokens = False if \"infilling\" in data_args.io_format else True\n",
    "# words = tokenizer.decode(out[0].tolist(), skip_special_tokens=skip_special_tokens)\n",
    "# print(words)"
   ]
  },
  {
   "cell_type": "code",
   "execution_count": 41,
   "id": "b88935f8",
   "metadata": {},
   "outputs": [],
   "source": [
    "# len(our_data_splits['dev']),len(our_data_splits['train'])"
   ]
  },
  {
   "cell_type": "code",
   "execution_count": 42,
   "id": "8eda472b",
   "metadata": {},
   "outputs": [],
   "source": [
    "# our_data_splits['dev']"
   ]
  },
  {
   "cell_type": "code",
   "execution_count": 43,
   "id": "77c15190",
   "metadata": {},
   "outputs": [],
   "source": [
    "# for da in our_data_splits['train']:\n",
    "#     print(\"*******\")\n",
    "#     print(\"question: {}\".format(da['question']))\n",
    "#     print(\"answer: {}\".format(da['answer']))\n",
    "#     print(\"choices: {}\".format(da['choices']))\n",
    "#     print(\"our_explanation: {}\".format(da['our_explanation']))\n",
    "#     inp_ids = torch.tensor(da[\"input_ids\"], device=model.device).reshape(1, -1)\n",
    "#     out = model.generate(\n",
    "#                     inp_ids,\n",
    "#                     max_length=100,\n",
    "#                     pad_token_id=tokenizer.pad_token_id,\n",
    "#                     eos_token_id=tokenizer.eos_token_id,\n",
    "#                 )\n",
    "#     skip_special_tokens = False if \"infilling\" in data_args.io_format else True\n",
    "#     words = tokenizer.decode(out[0].tolist(), skip_special_tokens=skip_special_tokens)\n",
    "#     print(\"generated explanation: {}\".format(words))\n",
    "#     print(\"#######\")"
   ]
  },
  {
   "cell_type": "code",
   "execution_count": 44,
   "id": "2ca6cbe4",
   "metadata": {},
   "outputs": [],
   "source": [
    "# for da in our_data_splits['dev']:\n",
    "#     print(\"*******\")\n",
    "#     print(\"question: {}\".format(da['question']))\n",
    "#     print(\"answer: {}\".format(da['answer']))\n",
    "#     print(\"choices: {}\".format(da['choices']))\n",
    "#     print(\"our_explanation: {}\".format(da['our_explanation']))\n",
    "#     inp_ids = torch.tensor(da[\"input_ids\"], device=model.device).reshape(1, -1)\n",
    "#     out = model.generate(\n",
    "#                     inp_ids,\n",
    "#                     max_length=100,\n",
    "#                     pad_token_id=tokenizer.pad_token_id,\n",
    "#                     eos_token_id=tokenizer.eos_token_id,\n",
    "#                 )\n",
    "#     skip_special_tokens = False if \"infilling\" in data_args.io_format else True\n",
    "#     words = tokenizer.decode(out[0].tolist(), skip_special_tokens=skip_special_tokens)\n",
    "#     print(\"generated explanation: {}\".format(words))\n",
    "#     print(\"#######\")"
   ]
  },
  {
   "cell_type": "code",
   "execution_count": 45,
   "id": "69977540",
   "metadata": {},
   "outputs": [],
   "source": [
    "# good_model = T5ForConditionalGeneration.from_pretrained(\"./cos_e_output_t5_3b/112022_235539/checkpoint-30\")"
   ]
  },
  {
   "cell_type": "code",
   "execution_count": 46,
   "id": "62fca4b8",
   "metadata": {},
   "outputs": [],
   "source": [
    "# for da in our_data_splits['dev']:\n",
    "#     print(\"*******\")\n",
    "#     print(\"question: {}\".format(da['question']))\n",
    "#     print(\"answer: {}\".format(da['answer']))\n",
    "#     print(\"choices: {}\".format(da['choices']))\n",
    "#     print(\"our_explanation: {}\".format(da['our_explanation']))\n",
    "#     inp_ids = torch.tensor(da[\"input_ids\"], device=model.device).reshape(1, -1)\n",
    "#     out = good_model.generate(\n",
    "#                     inp_ids,\n",
    "#                     max_length=100,\n",
    "#                     pad_token_id=tokenizer.pad_token_id,\n",
    "#                     eos_token_id=tokenizer.eos_token_id,\n",
    "#                 )\n",
    "#     skip_special_tokens = False if \"infilling\" in data_args.io_format else True\n",
    "#     words = tokenizer.decode(out[0].tolist(), skip_special_tokens=skip_special_tokens)\n",
    "#     print(\"generated explanation: {}\".format(words))\n",
    "#     print(\"#######\")"
   ]
  },
  {
   "cell_type": "code",
   "execution_count": 47,
   "id": "3a7de102",
   "metadata": {},
   "outputs": [],
   "source": [
    "# train_output = trainer.evaluate(our_data_splits['train'].select([0,1,2,3,4]))\n",
    "# train_output"
   ]
  },
  {
   "cell_type": "code",
   "execution_count": 48,
   "id": "f43528ca",
   "metadata": {},
   "outputs": [],
   "source": [
    "# results = {}\n",
    "# if training_args.do_eval:\n",
    "#     start_time = time.time()\n",
    "#     logger.info(\"*** Evaluate on train set***\")\n",
    "#     logger.info(len(data_splits['train']))\n",
    "#     train_output = trainer.evaluate(our_data_splits['train'])\n",
    "#     perplexity = math.exp(train_output[\"eval_loss\"])\n",
    "#     results[\"perplexity_train\"] = perplexity\n",
    "\n",
    "#     # repeat\n",
    "#     logger.info(\"*** Evaluate on dev set***\")\n",
    "#     logger.info(len(data_splits['validation']))\n",
    "#     eval_output = trainer.evaluate(data_splits['validation'])\n",
    "#     perplexity = math.exp(eval_output[\"eval_loss\"])\n",
    "#     results[\"perplexity_validation\"] = perplexity"
   ]
  },
  {
   "cell_type": "markdown",
   "id": "3d2d2ec9",
   "metadata": {},
   "source": [
    "# Rationale Discriminator"
   ]
  },
  {
   "cell_type": "markdown",
   "id": "bd5eeaa4",
   "metadata": {},
   "source": [
    "## Construction of generated rationale and accepted rationale pairs\n"
   ]
  },
  {
   "cell_type": "code",
   "execution_count": 49,
   "id": "e7f1c257",
   "metadata": {},
   "outputs": [
    {
     "data": {
      "text/plain": [
       "250"
      ]
     },
     "execution_count": 49,
     "metadata": {},
     "output_type": "execute_result"
    }
   ],
   "source": [
    "len(fse_csqa_dev_data_dict)"
   ]
  },
  {
   "cell_type": "code",
   "execution_count": 50,
   "id": "c7bcb573",
   "metadata": {},
   "outputs": [
    {
     "name": "stderr",
     "output_type": "stream",
     "text": [
      "\r",
      "  0%|                                                                                                                                                                               | 0/986 [00:00<?, ?it/s]"
     ]
    },
    {
     "name": "stdout",
     "output_type": "stream",
     "text": [
      "*******\n",
      "question: Where can you likely buy many poems?\n",
      "answer: book store\n",
      "choices: ['book of poetry', 'literature book', 'book store', 'poetry book', 'bookshelf']\n",
      "common expl list: ['A book store is a place where you can buy books, including poetry books.', 'A bookstore sells a variety of books, including poetry books; chains of bookstores sometimes specialize in categories such as poetry or literature.']\n"
     ]
    },
    {
     "name": "stderr",
     "output_type": "stream",
     "text": [
      "\r",
      "  0%|▏                                                                                                                                                                      | 1/986 [00:00<05:40,  2.89it/s]"
     ]
    },
    {
     "name": "stdout",
     "output_type": "stream",
     "text": [
      "generated explanation: <pad> <extra_id_0> s. how many poems can you buy? Where can you likely buy many poems?</s>\n",
      "########\n",
      "*******\n",
      "question: What could bringing suit do to a rivalry?\n",
      "answer: aggravation\n",
      "choices: ['going to court', 'randomness', 'anger', 'aggravation', 'tensions']\n",
      "common expl list: ['Bringing suit against a rival could aggravate the rivalry.']\n"
     ]
    },
    {
     "name": "stderr",
     "output_type": "stream",
     "text": [
      "\r",
      "  0%|▎                                                                                                                                                                      | 2/986 [00:00<04:50,  3.39it/s]"
     ]
    },
    {
     "name": "stdout",
     "output_type": "stream",
     "text": [
      "generated explanation: <pad> <extra_id_0> : Bringing suit could do to a rivalry?</s>\n",
      "########\n",
      "*******\n",
      "question: A person who yawns and paces to help pass the time is likely feeling what?\n",
      "answer: boredom\n",
      "choices: ['ridiculous', 'excitement', 'meanness', 'terrorism', 'boredom']\n",
      "common expl list: ['A bored person would pace and yawn to make time go by faster.', 'Yawning and pacing is a sign of being bored, etc...', 'By yawning and pacing one shows signs of being bored.']\n"
     ]
    },
    {
     "name": "stderr",
     "output_type": "stream",
     "text": [
      "\r",
      "  0%|▍                                                                                                                                                                   | 3/986 [02:16<16:56:36, 62.05s/it]"
     ]
    },
    {
     "name": "stdout",
     "output_type": "stream",
     "text": [
      "generated explanation: <pad> <extra_id_0> s<extra_id_1> s People who yawn and pace to pass the time are likely to feel bored. Often, people who yawn and pace to pass the time are likely to feel bored and unproductive. They are often also more likely to feel bored than they do not feel comfortable. They may be feeling the effects of their time being spent in the moment, or they may feel a sense of compulsion to be more productive. They may be feeling the need to be more creative and creative. They are often more likely to be bored.. They may also feel bored are also more likely to feel bored are likely to feel bored and bored to the point of being bored to the point of being bored is a person who is not able to make them feel bored, or a person who is bored, or even a person who is bored.. a person is bored, or a person is feeling bored. They may feel bored, or are a person who is feeling bored. Those who are bored, bored, or a person who is feeling the urge to pace themselves, or the urge to be bored. They are likely to be bored, or they may be feeling the urge to be bored. They may be feeling bored, or they may be feeling the urge to be bored. They may be bored. They may be feeling the urge to stop and think about the time. They may also feel the urge to be bored. a person who is feeling the urge to feel the urge to a sense of being a bit of a sense of being a sense of time to pass time.. The person who is a person to be bored. a person's thoughts of being bored, bored, or a person who is feeling the urge to stop and feel the urge to be bored, or even a person to be bored, or to be bored. a person to be bored, or to be bored, or to be bored, or to be bored, or to be bored, or to be bored, or to be bored, or to be bored, or to be bored, or to be bored, or to be bored, or to be bored, bored, or to be bored, or to be bored, or to be bored, or to be bored, or to be bored, or to be bored, or to be bored, or to be bored, or to be bored, or to be bored\n",
      "########\n",
      "*******\n",
      "question: I only like fiction books, why should I read a non-fiction book?\n",
      "answer: knowledge\n",
      "choices: ['knowledge', 'been printed new', 'many words', 'for fun', 'cover']\n",
      "common expl list: ['Non-fiction books contain knowledge.']\n"
     ]
    },
    {
     "name": "stderr",
     "output_type": "stream",
     "text": [
      "\r",
      "  0%|▋                                                                                                                                                                   | 4/986 [02:18<10:33:02, 38.68s/it]"
     ]
    },
    {
     "name": "stdout",
     "output_type": "stream",
     "text": [
      "generated explanation: <pad> <extra_id_0> Knowledge. Knowledge is the key to understanding the world. Knowledge is the key to understanding the world. The book is a good read for anyone who wants to read it. Also, knowledge is the key to understanding the world. The book is a good way to learn how to read a book. The book is a great way to learn about the world and its people. It is a good way to learn about the world around you. It is a great way to learn about the world around you. It is also a great way to understand the world around you must read a book is a great way to understand the world around you will have a good way to understand the world around you will help you to understand the world.</s>\n",
      "########\n",
      "*******\n",
      "question: An American might hike a mountain north to get to what?\n",
      "answer: canada\n",
      "choices: ['canada', 'switzerland', 'orlando', 'austria', 'surface of earth']\n",
      "common expl list: ['If an American hiked north, they would likely end up in Canada.']\n"
     ]
    },
    {
     "name": "stderr",
     "output_type": "stream",
     "text": [
      "\r",
      "  1%|▊                                                                                                                                                                    | 5/986 [02:21<6:57:23, 25.53s/it]"
     ]
    },
    {
     "name": "stdout",
     "output_type": "stream",
     "text": [
      "generated explanation: <pad> <extra_id_0> An American might hike a mountain north to get to what? An American might hike a mountain north to get to what? An American might hike a mountain north to get to what? an American might hike a mountain north to get to what? an american might hike a mountain north to get to what? an American might hike a mountain north to get to what? an American might hike a mountain north to get to canada. An American might hike a mountain north to get to what? an American might hike a mountain north to get to what?</s>\n",
      "########\n",
      "*******\n",
      "question: Sam spent most of his time standing up.  His job was hectic and he never got any rest. But he was the best cashier at his workplace.    Where might he work?\n",
      "answer: supermarket\n",
      "choices: ['bookstore', 'count till', 'supermarket', 'shop', 'preschool']\n",
      "common expl list: [\"The best cashiers work setting up lines of products, yhis is usually done from being on one's feet. Supermarkets use till systems to swipe credit cards, thus cashiering is done by standing up.\", 'Since one spends most of his time standing when working as a cashier, Sam probably works at a supermarket where groceries are sold. Because his workplace is full of activities and punten, he never gets any rest.']\n"
     ]
    },
    {
     "name": "stderr",
     "output_type": "stream",
     "text": [
      "\r",
      "  1%|█                                                                                                                                                                    | 6/986 [02:23<4:46:12, 17.52s/it]"
     ]
    },
    {
     "name": "stdout",
     "output_type": "stream",
     "text": [
      "generated explanation: <pad> <extra_id_0>. Sam was the best cashier at his workplace. He was a cashier at his workplace. He was a cashier at a supermarket. He was a cashier who was always standing up. He was a cashier who was always standing up. He was the best cashier at his workplace. Sam was the best cashier at his workplace. he was always standing up. He was the best cashier at his workplace. He was the best cashier at his workplace. He was the best cashier at his workplace.</s>\n",
      "########\n",
      "*******\n",
      "question: James raked fallen leaves into a pile. Where might he leave the pile?\n",
      "answer: ground\n",
      "choices: ['forest', 'roof', 'garden', 'tree', 'ground']\n",
      "common expl list: ['Leaves are often raked into piles on the ground.']\n"
     ]
    },
    {
     "name": "stderr",
     "output_type": "stream",
     "text": [
      "\r",
      "  1%|█▏                                                                                                                                                                   | 7/986 [02:23<3:14:06, 11.90s/it]"
     ]
    },
    {
     "name": "stdout",
     "output_type": "stream",
     "text": [
      "generated explanation: <pad> <extra_id_0> James raked fallen leaves into a pile. Where might he leave the pile?</s>\n",
      "########\n",
      "*******\n",
      "question: What happens when we fail at something we attempt?\n",
      "answer: leave\n",
      "choices: ['leave', 'give up', 'trying', 'we get shunned', 'fail']\n",
      "common expl list: ['If we fail at something, we usually leave (quit) that activity; failing is an action, while giving up and trying are both ways of not acting.', \"If we engage in an activity, like a sport, and fail, we don't want to continue doing it. It's much easier simply to leave.\"]\n"
     ]
    },
    {
     "name": "stderr",
     "output_type": "stream",
     "text": [
      "\r",
      "  1%|█▎                                                                                                                                                                   | 8/986 [03:34<8:19:23, 30.64s/it]"
     ]
    },
    {
     "name": "stdout",
     "output_type": "stream",
     "text": [
      "generated explanation: <pad> <extra_id_0> When we fail, we fail. When we fail at something we try to do, we fail at something we try to do. We fail at something we try to do. We fail at something we try to do. We fail to do it because we are not aware of the failure and fail to do it. We fail to do it. We fail to do it because we are not aware of it. We fail to do it because we are not aware of it. We are not aware of it. We are not aware of it. We fail to do it, we fail at something we fail at something we fail to do it is a task we attempt to do it again. We fail to do it again. We can’t do it because we fail to do it again, we fail to do it again, we are not aware of it, and we fail to do it again. We are not always a failure is a failure to do it again. We are a failure to fail at something we do it again. We are not aware that we are not able to do it again, but we are not able to do it again. We are not able to do it again. We are not able to do it because we fail at it because we are not able to do it because we are not able to do it because we are able to do it because we are able to do it because we are not able to do it because we are not able to do it because we are able to do it because we are able to do it because we are not able to do it because we are not able to do it because we are able to do it because we are able to</s>\n",
      "########\n",
      "*******\n",
      "question: The referee wasn't specialized in one thing. He refereed many games.  He was offered a job but wasn't sure what it would be.  What did he know it would be?\n",
      "answer: sporting event\n",
      "choices: ['side with opponent', 'football', 'hockey game', 'part two boxers', 'sporting event']\n",
      "common expl list: ['Referees are specialized in sports, and so, they would be expected to know how to referee a sporting event.']\n"
     ]
    },
    {
     "name": "stderr",
     "output_type": "stream",
     "text": [
      "\r",
      "  1%|█▌                                                                                                                                                                   | 9/986 [03:36<5:51:54, 21.61s/it]"
     ]
    },
    {
     "name": "stdout",
     "output_type": "stream",
     "text": [
      "generated explanation: <pad> <extra_id_0> The referee was a sportsman who refereed many sporting events. He was offered a job but wasn't sure what it would be. He was offered a job but wasn't sure what it would be. He was offered a job but wasn't sure what it would be. He was offered a job and wasn't sure what it would be. He was offered a job but wasn't sure what it would be. He was offered a job and wasn't sure what it would be.</s>\n",
      "########\n",
      "*******\n",
      "question: Susan threw the highly elastic ball at the wall.  The ball did what?\n",
      "answer: rebound\n",
      "choices: ['bounce', 'recoil', 'rebound', 'underwear', 'stretch']\n",
      "common expl list: ['Elastic balls collide with the wall, and boom bounce back after a collision.']\n"
     ]
    },
    {
     "name": "stderr",
     "output_type": "stream",
     "text": [
      "\r",
      "  1%|█▋                                                                                                                                                                  | 10/986 [03:38<4:14:56, 15.67s/it]"
     ]
    },
    {
     "name": "stdout",
     "output_type": "stream",
     "text": [
      "generated explanation: <pad> <extra_id_0> The ball rebounded from the wall. The ball rebounded from the wall. The ball rebounded from the wall. The ball was a high-elastic ball. The ball rebounded from the wall. The ball was able to bounce back. The ball rebounded from the wall. The ball rebounded from the wall and was able to bounce back and forth. The ball rebounded back and forth between the wall and the wall. The ball rebounded back and forth. The ball rebounded back and forth between the wall. The ball was able to bounce back and forth.</s>\n",
      "########\n",
      "*******\n",
      "question: John lived in a small island surrounded by flowing liquid H2O   Where might he live?\n",
      "answer: mississippi river\n",
      "choices: ['japan', 'hawaii', 'mississippi river', 'pacific ocean', 'body of water']\n",
      "common expl list: ['there are numerous islands in the mississippi river in the united states, making it possible that John may have lived on one.']\n"
     ]
    },
    {
     "name": "stderr",
     "output_type": "stream",
     "text": [
      "\r",
      "  1%|█▊                                                                                                                                                                  | 11/986 [03:38<2:57:59, 10.95s/it]"
     ]
    },
    {
     "name": "stdout",
     "output_type": "stream",
     "text": [
      "generated explanation: <pad> <extra_id_0> John lived in a small island surrounded by flowing liquid H2O</s>\n",
      "########\n",
      "*******\n",
      "question: What will the student have to do on the test?\n",
      "answer: solve equation\n",
      "choices: ['finish college', 'begin teaching', 'write', 'answer question', 'solve equation']\n",
      "common expl list: ['A student has to solve equations to learn a given theory that is presented in class.']\n"
     ]
    },
    {
     "name": "stderr",
     "output_type": "stream",
     "text": [
      "\r",
      "  1%|█▉                                                                                                                                                                  | 12/986 [03:40<2:13:39,  8.23s/it]"
     ]
    },
    {
     "name": "stdout",
     "output_type": "stream",
     "text": [
      "generated explanation: <pad> <extra_id_0> : solve equations are a simple, but effective way to solve problems. They are also able to solve problems by solving a problem in a single, easy way. They can solve problems in a single, easy way. They can solve problems by solving a simple equation. They can solve problems by solving a simple equation, solving a simple problem, and solving a simple problem. They can solve a simple equation, solve a complex problem, solve a complex problem, and solve a complex problem. They can solve the problem.</s>\n",
      "########\n",
      "*******\n",
      "question: The tourists saw what they thought was a statue, but they soon discovered it was performance art went it began what?\n",
      "answer: moving\n",
      "choices: ['growing mold', 'moving', 'accent garden', 'green', 'painting']\n",
      "common expl list: ['Performance art is art that is performed, rather than being a static object. In this case, the statue was moving, which is a sign of performance art.']\n"
     ]
    },
    {
     "name": "stderr",
     "output_type": "stream",
     "text": [
      "\r",
      "  1%|██▏                                                                                                                                                                 | 13/986 [03:49<2:16:28,  8.42s/it]"
     ]
    },
    {
     "name": "stdout",
     "output_type": "stream",
     "text": [
      "generated explanation: <pad> <extra_id_0> The tourists saw what they thought was a statue, but soon discovered it was a performance art based on moving objects and sculptures. Moving objects are moving objects that are moving objects that are moving objects that are moving objects. Moving objects are moving objects that are moving objects that are moving objects that are moving objects that are moving objects that are moving objects in a moving fashion. They are moving objects that are moving objects that are moving objects that are moving objects that are moving objects that are moving objects that are moving objects that are moving or moving objects that are moving objects that are moving objects that are moving objects that are moving objects that are moving objects that are moving objects that are moving objects that are moving objects that are moving objects are moving objects that are moving objects that are moving objects that are moving objects that are moving objects that are moving objects that are moving objects that are moving objects that are moving objects that are moving objects that are moving objects that are</s>\n",
      "########\n",
      "*******\n",
      "question: What is a good way to carry a small dog?\n",
      "answer: backpack\n",
      "choices: ['good hands', 'backpack', 'chinese food', 'grocery bag', 'basket']\n",
      "common expl list: ['Backpacks are a good way to carry things, and small dogs are things.']\n"
     ]
    },
    {
     "name": "stderr",
     "output_type": "stream",
     "text": [
      "\r",
      "  1%|██▎                                                                                                                                                                 | 14/986 [05:25<9:23:08, 34.76s/it]"
     ]
    },
    {
     "name": "stdout",
     "output_type": "stream",
     "text": [
      "generated explanation: <pad> <extra_id_0> backpack is a backpack that can be used to carry a small dog. It is also a backpack that can be used to carry a small dog. It can be used to carry a small dog or a small dog. It can be used to carry a backpack, backpack, or bag. It can be used to carry a backpack, backpack, or bag. It can be used for a small dog or dog. It can also be used to carry a large dog or a small dog. It can also be used for small dogs. backpacking is a small dog food and water bottle. It can be used for a small dog. A backpack is used to carry a small dog and can be used to carry a backpack for a small dog. It can be used to carry a small doggies and other small dog or a small dog. It can be used for a small dog. A backpack is used to carry a small dog in a small dog as a small dog a small dog as a small dog. A backpack is used to carry a small dog. A backpack can be used to carry a backpack for a small dog to carry a small dog to a small dog to carry a small dog to a small dog to carry a small dog to a small dog to a small dog to a small dog to a backpack to carry a small dog to carry a small dog.</s>\n",
      "########\n",
      "*******\n",
      "question: Both sides in World War I used what to cause death that is now banned?\n",
      "answer: poisonous gas\n",
      "choices: ['homicide', 'poisonous gas', 'cyanide', 'nuclear weapons', 'massive weapons']\n",
      "common expl list: ['Poison gas is a chemical known for its ability to kill (therefore, if both sides used it, people on both sides died from its use), and it has since gone on to be outlawed in many countries.']\n"
     ]
    },
    {
     "name": "stderr",
     "output_type": "stream",
     "text": [
      "\r",
      "  2%|██▍                                                                                                                                                                 | 15/986 [05:26<6:39:36, 24.69s/it]"
     ]
    },
    {
     "name": "stdout",
     "output_type": "stream",
     "text": [
      "generated explanation: <pad> <extra_id_0> : poisonous gas. Both sides in World War I used poisonous gas to cause death that is now banned. During the Second World War, both sides used poisonous gas to cause death that is now banned.. During the Second World War, both sides used poisonous gas to cause death.</s>\n",
      "########\n",
      "*******\n",
      "question: Where is disease often spread but shouldn't be?\n",
      "answer: hospital\n",
      "choices: ['ghost town', 'third world country', 'human body', 'rug', 'hospital']\n",
      "common expl list: ['Disease is spread most commonly in hospitals, where sick patients are treated and recovered hosts of disease are found.', 'Hospitals are places where people go to get better, and therefore disease is often spread there.']\n"
     ]
    },
    {
     "name": "stderr",
     "output_type": "stream",
     "text": [
      "\r",
      "  2%|██▋                                                                                                                                                                 | 16/986 [05:29<4:51:14, 18.01s/it]"
     ]
    },
    {
     "name": "stdout",
     "output_type": "stream",
     "text": [
      "generated explanation: <pad> <extra_id_0> Disease is often spread in hospitals and other facilities, but hospitalization is not a cure. Hospitalization is a major cause of death and death. Hospitalization is a major cause of death for patients and their families. Hospitalization is a major source of infection and death. Hospitalization is a major cause of death and death. Hospitalization is a major cause of death for patients with a chronic disease. Hospitalization is a major cause of death.</s>\n",
      "########\n",
      "*******\n",
      "question: As things get colder, temperature does what?\n",
      "answer: drop to zero\n",
      "choices: ['increase', 'drop to zero', 'heat up', 'dropping quickly', 'arctic']\n",
      "common expl list: ['As things get colder, they get closer to zero degrees.']\n"
     ]
    },
    {
     "name": "stderr",
     "output_type": "stream",
     "text": [
      "\r",
      "  2%|██▊                                                                                                                                                                 | 17/986 [05:55<5:29:46, 20.42s/it]"
     ]
    },
    {
     "name": "stdout",
     "output_type": "stream",
     "text": [
      "generated explanation: <pad> <extra_id_0> : Temperature drops to zero. Temperature drops to zero as people get colder. Temperature drops to zero as people get colder. Temperature drops to zero as people get colder. Temperature drops to zero when people get colder. Temperature drops to zero as people get colder. Temperature drops to zero as people get colder. Temperature drops to zero as people get colder. Temperature drops to zero as temperatures drop to zero. Temperature drops to zero as temperatures rise. Temperature drops to zero as temperatures drop to zero is the temperature drop to zero as the coldest at the coldest at the coldest at the coldest at the coldest at the coldest at the coldest at the coldest at the coldest at the coldest at the coldest at the coldest at the coldest at the coldest at the coldest at the coldest at the coldest at the coldest at the coldest at the coldest at the coldest at the coldest at the coldest at the coldest at the coldest</s>\n",
      "########\n",
      "*******\n",
      "question: Where is one unlikely to get popcorn?\n",
      "answer: soccer game\n",
      "choices: ['restaurant', 'movie house', 'soccer game', 'carnival', 'movie theater']\n",
      "common expl list: ['Soccer games usually lack popcorn machines.', 'Most soccer games lack concession stands, which are necessary to sell movie theaters popcorn.', 'Soccer games are usually snacks-free affairs; snacks, including popcorn, tend to be present at more recreational venues, but less so in settings where food is unnecessary because there are translatable goods sellers, i.e., vendors that sell things like popcorn']\n"
     ]
    },
    {
     "name": "stderr",
     "output_type": "stream",
     "text": [
      "\r",
      "  2%|██▉                                                                                                                                                                 | 18/986 [06:24<6:11:42, 23.04s/it]"
     ]
    },
    {
     "name": "stdout",
     "output_type": "stream",
     "text": [
      "generated explanation: <pad> <extra_id_0> Soccer game is an example of a soccer game where one is unlikely to get popcorn. The answer is a soccer game where one is unlikely to get popcorn. The answer is a soccer game where one is unlikely to get popcorn. The answer is a soccer game where one is unlikely to get popcorn. The answer is a soccer game where one is unlikely to get popcorn. The answer is a soccer game where one is unlikely to get popcorn. The answer is a soccer game where one is unlikely to get popcorn. The answer is a soccer game is a soccer game is a soccer game is a soccer game is a soccer game is a game where the game is a game where the popcorn game is a game is a game is an event is a game is a game is a soccer game is a football game is a game is a game is a game is a game is a game is a game is a soccer game is a game is a game is a game is a game is</s>\n",
      "########\n",
      "*******\n",
      "question: Where are files likely to be hanging?\n",
      "answer: filing cabinet\n",
      "choices: ['filing cabinet', 'tree', 'suitcase', 'computer', 'desk drawer']\n",
      "common expl list: ['Files are likely to be hanging in a filing cabinet, since they are often organized by topic, and filing cabinets are often used to organize files.', 'Filing cabinets are used to store files sometimes; these files can then be found by opening the filing cabinet and looking for hanging folders.']\n"
     ]
    },
    {
     "name": "stderr",
     "output_type": "stream",
     "text": [
      "\r",
      "  2%|███▏                                                                                                                                                                | 19/986 [07:13<8:18:04, 30.90s/it]"
     ]
    },
    {
     "name": "stdout",
     "output_type": "stream",
     "text": [
      "generated explanation: <pad> <extra_id_0> File cabinet is a place where files are likely to be hanging. File cabinet is a place where the files are likely to be hanging. File cabinet is a place where the files are likely to be hanging. File cabinet is a place where the files are likely to be hanging. File cabinet is a place where the files are likely to be hanging. File cabinet is a place where the files are likely to be hanging. File cabinet is a place where the files are likely to be hanging. File cabinet is a place where the files are likely to be hanging the files are likely to be hanging the files are likely to be the place where the files are likely to be hanging. The file cabinet is a place to be a place to be a place where files are likely to be hanging a place to be hanging the files are likely to be hanging the file cabinet is a place to be a place to be a place to be a place to be a place to be a place to be a place to be a place to be a place to place to place files are likely to be a place to place to place to place to place the files are likely to be a place</s>\n",
      "########\n",
      "*******\n",
      "question: What is required to go on vacation before anything else?\n",
      "answer: have money\n",
      "choices: ['pack', 'pay bills', 'save money', 'have money', 'reliable car']\n",
      "common expl list: ['Vacations often require the purchase of travel services, such as airline or hotel tickets.']\n"
     ]
    },
    {
     "name": "stderr",
     "output_type": "stream",
     "text": [
      "\r",
      "  2%|███▎                                                                                                                                                               | 20/986 [08:51<13:40:28, 50.96s/it]"
     ]
    },
    {
     "name": "stdout",
     "output_type": "stream",
     "text": [
      "generated explanation: <pad> <extra_id_0> Have money. Have money is required to go on vacation before anything else. This is the requirement for anyone to go on vacation before anything else. This is the requirement for anyone to have money to go on a vacation before anything else. This is the requirement for anyone to go on vacation before anything else. This is the requirement for a vacation. The requirement is that the person who has the money will be able to afford the money. The requirement is to have money in order to pay for the trip. The requirement is to have enough money to afford the trip. The requirement is a good reason. The requirement is to have money to go on a holiday. The requirement is to have money to go on a holiday. The requirement is to go on vacation before going to a short amount of money to be prepared to go on holiday. The requirement is to have enough money to go on vacation. The money to pay for a vacation to a vacation to spend it. The requirement is to have enough money to go on a vacation. Then, the money to go on vacation to spend the money to go on vacation to pay for a vacation to a vacation to spend the money to go on vacation to spend the money to pay for a vacation to stay at a vacation to spend it to go on vacation to spend it to spend it to make it to stay in a vacation to stay in a vacation. Then, then, then, then, then, then, then, then, then, then, the next day,</s>\n",
      "########\n",
      "*******\n",
      "question: The roadway passed a sign and gate house, what was behind the gatehouse?\n",
      "answer: subdivision\n",
      "choices: ['city', 'narnia', 'subdivision', 'neighborhood', 'countryside']\n",
      "common expl list: ['Subdivisions are residential areas that are often gated, and so, if you see a gatehouse, you might be in a subdivision.', 'A subdivision contains houses that formed around it; therefore, a subdivision has a gatehouse that controls who goes in and out.']\n"
     ]
    },
    {
     "name": "stderr",
     "output_type": "stream",
     "text": [
      "\r",
      "  2%|███▍                                                                                                                                                               | 21/986 [10:33<17:47:37, 66.38s/it]"
     ]
    },
    {
     "name": "stdout",
     "output_type": "stream",
     "text": [
      "generated explanation: <pad> a gatehouse was behind the gatehouse. a sign and gatehouse was behind the gatehouse. The sign and gatehouse were located on the north side of the road. The sign and gatehouse were located on the north side of the road. The gatehouse was located on the north side of the road. The gatehouse was located on the north side of the road, the gatehouse was located on the north side of the road. The gatehouse was located on the north side of the road. The gatehouse was located on the north side of the road. The gatehouse is located on the north side of the gatehouse is located on the south side of the gatehouse is located on the south side of the road. The gatehouse is located on the north side of the road was a gatehouse was located on the north side of the gatehouse was the gatehouse was located on the south side of the road. The gatehouse was located on the south side of the road. The gatehouse was located at the gatehouse was located on the north side of the gatehouse was located on the road. The gatehouse was the gatehouse was the gatehouse was the gatehouse was the gatehouse was the gatehouse was the gatehouse was the gatehouse was the gatehouse was the gatehouse was the gatehouse was the gatehouse was the gatehouse was the gatehouse was the gatehouse was the gatehouse was the gatehouse was the gate house was the gatehouse was the gatehouse was the gatehouse was the gatehouse was the gatehouse is the gatehouse is the gatehouse was</s>\n",
      "########\n",
      "*******\n",
      "question: The invasive A.I. was designed to scan the crowd, where most saw a mass of humanity the evil machine could pick out each what?\n",
      "answer: individual\n",
      "choices: ['solitary', 'single person', 'few people', 'crowd', 'individual']\n",
      "common expl list: [\"Machine intelligence is better able to find isolated individuals than crowded groups. Machines need to scan a large group of people to be able to find a single person--but when the single person doesn't blend in, it makes them easier to find.\"]\n"
     ]
    },
    {
     "name": "stderr",
     "output_type": "stream",
     "text": [
      "\r",
      "  2%|███▋                                                                                                                                                               | 22/986 [10:53<14:02:03, 52.41s/it]"
     ]
    },
    {
     "name": "stdout",
     "output_type": "stream",
     "text": [
      "generated explanation: <pad> <extra_id_0> : The A. I. The A. I. I. The A.I. Is a crowd-scanner, it was designed to scan the crowd, and scan the crowd. It was designed to scan the crowd, and scan the crowd. It was designed to scan the crowd, and to scan the crowd. It was designed to scan the crowd, and pick up the individual's fingerprints. It was designed to scan the crowd, and then scan the crowd. It was designed to scan the crowd and then scan the crowd. It was designed to scan the crowd was able to identify the individual was able to identify individuals, and could identify individuals could also identify individuals, and could identify individuals, and could identify individuals, and then they could identify individuals, and then identify individuals, and then it could be used to identify individuals, and then could also identify individuals, and then, the individual could be used to identify individuals.</s>\n",
      "########\n",
      "*******\n",
      "question: Is has been speculated that a aliens could be communicating by doing this?\n",
      "answer: thinking\n",
      "choices: ['effort', 'farting', 'thinking', 'laugh', 'medium']\n",
      "common expl list: ['Aliens could quite possibly be using thought as a way to communicate between themselves.']\n"
     ]
    },
    {
     "name": "stderr",
     "output_type": "stream",
     "text": [
      "\r",
      "  2%|███▊                                                                                                                                                              | 23/986 [15:26<31:43:01, 118.57s/it]"
     ]
    },
    {
     "name": "stdout",
     "output_type": "stream",
     "text": [
      "generated explanation: <pad> <extra_id_0> : aliens are communicating with humans by doing this. Aliens are communicating with humans by doing this, and they are communicating with humans. This is because aliens are communicating with humans through their language. They are also communicating with humans by doing this, and they are communicating with humans through their language. Aliens are communicating with humans through their language. Aliens are communicating with each other through their language. Aliens are communicating with humans by communicating with humans through their language. They are communicating with humans by doing this, and communicating with each other. Aliens are communicating with each other by doing this is called a alien being. Aliens are communicating with humans through their language. Aliens are communicating with humans through their language. Aliens are also communicating with humans by doing so, and they are communicating with the aliens by a human beings, and they are communicating with each other. Aliens are communicating with the aliens, and they are communicating with each other, and they are communicating with each other, and they are communicating with each other through their own language. Aliens are communicating with each other, and they are communicating with each other, and they are communicating with each other through their own language, and they are communicating with each other, and they are communicating with each other through communication. They are communicating with each other’s communication. They are communicating with each other through communication. They are communicating with each other. They may be communicating with each other through communication is a common language, a common language, they may be communicating with each other through their own language, and they may also be communicating with each other through the world through their own language. They may also be communicating with each other through the world through the world through the world through their own language, they may be communicating with each other through the world through their own language, they may also be communicating with each other. They may be communicating with each other, and may also be communicating with each other, they may also be communicating with each other. This is called a common language, and may be able to communicate through the language of language, and may also be able to communicate through the language, and may be able to communicate through the language, they may also be able to communicate through the language, and the language, and they may also be able to communicate through the language, and may also be able to communicate through the medium. The aliens, and they may be communicating through the language of\n",
      "########\n",
      "*******\n",
      "question: What can occur in fencing if you are not careful?\n",
      "answer: severe injuries\n",
      "choices: ['competition', 'severe injuries', 'fever', 'perspiration', 'small cuts']\n",
      "common expl list: ['The sport of fencing causes people to be hit by weapons, which may cause cuts or other wounds if someone is not careful.', 'Fencing is a sport, which involves hitting your opponent with a sharp piece of metal, which will almost certainly result in some physical pain.', 'Fencing is a sport that involves hitting your opponent with a sword, and if you are not careful, you can get injured.']\n"
     ]
    },
    {
     "name": "stderr",
     "output_type": "stream",
     "text": [
      "\r",
      "  2%|███▉                                                                                                                                                               | 24/986 [15:30<22:33:08, 84.40s/it]"
     ]
    },
    {
     "name": "stdout",
     "output_type": "stream",
     "text": [
      "generated explanation: <pad> <extra_id_0> : fencing can cause severe injuries if the fence is not properly maintained. The fencing is also a great way to get around the fence. It is also a great way to get around the fence without getting too close to the fence. It is also a great way to get around the fence and avoid the fence. It is also a great way to get around the fence and get the best results. It is also a great way to get rid of unwanted items. It is also a great way to get rid of unwanted items..</s>\n",
      "########\n",
      "*******\n",
      "question: If you stretch out your socks they will then have what kind of fit?\n",
      "answer: loose\n",
      "choices: ['cramped', 'loose', 'contract', 'park', 'compressing']\n",
      "common expl list: ['When stretched out, socks will be loose.']\n"
     ]
    },
    {
     "name": "stderr",
     "output_type": "stream",
     "text": [
      "\r",
      "  3%|████▏                                                                                                                                                              | 25/986 [15:35<16:09:24, 60.52s/it]"
     ]
    },
    {
     "name": "stdout",
     "output_type": "stream",
     "text": [
      "generated explanation: <pad> <extra_id_0> : If you stretch out your socks they will have a loose fit. This will allow you to wear them in a loose shape. It also allows you to wear them in a loose shape. It is also possible to wear them in a loose shape, such as a tight, loose fit. The answer: If you wear your socks in a loose shape, you will be able to wear them in a loose fit. The answer: If you stretch out your socks, you will be able to wear them in a loose shape.</s>\n",
      "########\n",
      "*******\n",
      "question: John ran out of pencils.  Where did  he go to get more?\n",
      "answer: office depot\n",
      "choices: ['desk drawer', 'cup', 'pencil case', 'shelf', 'office depot']\n",
      "common expl list: ['Pencils can be found at an office supply store, e.g., an office depot.', 'Office Depot is a store that sells office supplies, including pencils.', 'John can buy new pencils at an office depot.', 'Office Depot is a company that specializes in office furniture; it also sells pens and pencils.', 'When people need pencils (or pens), they often buy them at office depots.']\n"
     ]
    },
    {
     "name": "stderr",
     "output_type": "stream",
     "text": [
      "\r",
      "  3%|████▎                                                                                                                                                             | 26/986 [19:07<28:14:57, 105.93s/it]"
     ]
    },
    {
     "name": "stdout",
     "output_type": "stream",
     "text": [
      "generated explanation: <pad> <extra_id_0> John ran out of pencils. He went to the office depot to get more. The office Depot is located in the city of Chicago, where he worked. The office is located in the heart of the city. The office is located in the city of Chicago. The office is located in the city of Chicago, where John worked in the office. The office depot is located in the city of Chicago, where John worked in the office. The office is located in the city of Chicago, where John worked in the office. The office depot is the place he worked on his desk desk drawers and desks and pencils. The office supplies were not available. The office depot staff were able to supply his desks and computers, and the office Depot has a number of offices are also available for his desk drawers and desk desk drawers. The office depot is a place where he worked at the office. The office is the office is where John worked in the office. The office is the place where he worked in the office. The office depot is the place where he was able to store his office. The office is the office. The office is located in the office. The office is located in the office. The office is located in the office. The office supplies and supplies and supplies are located in the office is located in the office. The office is located in the office is the office. The office is also the office is the office of the office is located in the office. The office is located in the office. The office is the office of the office of the office supplies are located in the office of the office of the office of the office is the office of the office of the office is the office is the office is the office is the office is the office is the office is the office is the office of the office of the office of the office of the office of the office of the office of the office of the office of the office of the office of the office of the office of the office of the office of the office is the office is the office of the office</s>\n",
      "########\n",
      "*******\n",
      "question: What does a confident person do?\n",
      "answer: trust himself\n",
      "choices: ['feel important', 'own house', 'trust himself', 'know what time', 'cry']\n",
      "common expl list: ['A confident person is sure of his abilities and the trust in himself/herself to do things or accomplish goals.', 'People whose confidence is high tend to believe themselves more strongly, and so the confident person might believe in their own abilities and do things such as trust themselves.']\n"
     ]
    },
    {
     "name": "stderr",
     "output_type": "stream",
     "text": [
      "\r",
      "  3%|████▍                                                                                                                                                             | 27/986 [21:38<31:51:02, 119.56s/it]"
     ]
    },
    {
     "name": "stdout",
     "output_type": "stream",
     "text": [
      "generated explanation: <pad> <extra_id_0> Trust yourself. Confidentiality is the key to a person's ability to be successful. Invest in yourself and others. Confidence is the key to a person's ability to be confident in themselves and others. Invest in yourself is the key to a person's confidence. Confidence is the ability to trust himself and others. The confidence is the ability to trust himself. A confident person is someone who is confident in his own abilities and abilities. The confidence is the ability to trust himself and others. The confidence is the ability to trust yourself and others. The confidence is the ability to make a confident person's ability to make a confident person's confidence is the ability to make a confident person's ability to trust himself and others to make a confident person is able to make a confident person's ability to make a confident person's ability to trust himself and others...... a person's ability to make a confident person's confidence is the ability to make a person who can be a person's ability to make a confident person's confidence in his ability to make a confident person's ability to make a confident person's ability to be a confident person's confidence is a person's ability to make a confident person's confidence in himself and trust himself and his own confidence. Ultimately, trusting is the ability to be confident person's confidence in his ability to trust yourself and his confidence in himself and to trust himself to be confident in his confidence and trusting is the ability to trust his own trusting and confident person's trusting person's trusting is the ability to trust his own trusting</s>\n",
      "########\n",
      "*******\n",
      "question: James thought that analyzing all the data would help him learn more, but it did not.  It only gave him what?\n",
      "answer: headache\n",
      "choices: ['headache', 'better understanding', 'papercuts', 'enlightened', 'discovering truth']\n",
      "common expl list: ['Analysis requires a lot of thinking with maybe little reward, which can give one a headache.']\n"
     ]
    },
    {
     "name": "stderr",
     "output_type": "stream",
     "text": [
      "\r",
      "  3%|████▋                                                                                                                                                              | 28/986 [21:39<22:19:57, 83.92s/it]"
     ]
    },
    {
     "name": "stdout",
     "output_type": "stream",
     "text": [
      "generated explanation: <pad> <extra_id_0> : analyzing all the data did not help him learn more.</s>\n",
      "########\n",
      "*******\n",
      "question: What makes people happy when it is surprising and unexpected?\n",
      "answer: humor\n",
      "choices: ['joke', 'humor', 'frightened', 'fight', 'laughter']\n",
      "common expl list: ['A surprise is a stimulus that is not generally predicted before exposing it to a subject. It may be surprising things that cause laughter, or unexpected things that people see as funny.']\n"
     ]
    },
    {
     "name": "stderr",
     "output_type": "stream",
     "text": [
      "\r",
      "  3%|████▊                                                                                                                                                              | 29/986 [21:42<15:51:08, 59.63s/it]"
     ]
    },
    {
     "name": "stdout",
     "output_type": "stream",
     "text": [
      "generated explanation: <pad> <extra_id_0> : humor is the key to happiness. When people are surprised and surprised, humor is the key to happiness. When people are surprised and surprised, people are surprised and surprised. When people are surprised, people are surprised and surprised, people are surprised and happy. They are surprised and surprised by the humor and humor that they find funny and funny. They are surprised and surprised by humor and humor. They are also surprised by the humor and humor. They are also surprised by the humor and humor that makes people happy. They are surprised and surprised by the unexpected and unexpected.</s>\n",
      "########\n",
      "*******\n",
      "question: What is someone who wants a lot of money?\n",
      "answer: greedy\n",
      "choices: ['selfish', 'weird', 'greedy', 'ridiculous', 'hungry']\n",
      "common expl list: ['Greed is defined as \"the desire to obtain something, especially wealth, through selfish means, typically at the expense of others.', 'A person who is greedy wants more things that people typically take for granted, i.e., money, success, etc. This is a lot of stuff.', 'Greed is a strong desire to possess a lot of money; a greedy person therefore wants it a lot.']\n"
     ]
    },
    {
     "name": "stderr",
     "output_type": "stream",
     "text": [
      "\r",
      "  3%|████▉                                                                                                                                                             | 30/986 [26:36<34:27:33, 129.76s/it]"
     ]
    },
    {
     "name": "stdout",
     "output_type": "stream",
     "text": [
      "generated explanation: <pad> True and false, who is greedy and who is greedy is a person who is greedy and greedy. True and True and True, greedy is someone who is greedy and greedy. True and True and True, greedy is someone who is greedy and greedy and has a lot of money to spend. Desperate to spend a lot of money and make a lot of money. True and True, greedy people are people who are greedy and greedy and greedy. They are greedy and greedy people are people who are greedy money is someone who is greedy and greedy and greedy and greedy and greedy and greedy and greedy to make a person who makes a person who is greedy and greedy to make a person who is greedy and greedy and greedy to make a person who is greedy and greedy and greedy and greedy and greedy and greedy and greedy and greedy and greedy and greedy and greedy and greedy and greedy and greedy and greedy and greedy and greedy and greedy and greedy and greedy and greedy and greedy and greedy and greedy. a person is a person is a person is a person is greedy and a person is greedy and greedy and greedy and greedy and greedy and greedy and greedy and greedy and greedy and greedy and greedy and greedy and greedy and greedy and greedy and greedy and greedy and greedy and greedy and greedy and greedy and greedy and greedy and greedy and greedy and greedy and greedy and greedy and greedy and greedy and greedy and greedy and greedy and greedy and greedy and greedy and greedy and greedy and greedy and greedy and greedy and greedy and greedy and greedy and greedy and greedy and greedy. The greedy and greedy and greedy and greedy and greedy and greedy and greedy and greedy and greedy and greedy people are greedy people are greedy and greedy and greedy and greedy and greedy and greedy and greedy and greedy and greedy people are greedy people are greedy and greedy and greedy people are greedy and greedy people are greedy and greed\n",
      "########\n",
      "*******\n",
      "question: Where do you keep a book to read before bed?\n",
      "answer: bedside table\n",
      "choices: ['school room', 'allen key', 'classroom', 'bedside table', 'coffee table']\n",
      "common expl list: ['Bedside tables are where people keep things they use before bed, such as books, glasses, and water.', 'Bedside tables are convenient for keeping things, e.g., a book, reading materials, glasses, etc., that you wish to keep near your bed for regular access; particularly things.']\n"
     ]
    },
    {
     "name": "stderr",
     "output_type": "stream",
     "text": [
      "\r",
      "  3%|█████                                                                                                                                                             | 31/986 [31:16<46:25:59, 175.04s/it]"
     ]
    },
    {
     "name": "stdout",
     "output_type": "stream",
     "text": [
      "generated explanation: <pad> <extra_id_0>. A book is a book that you can read before bed. It is a book that you can read before bed. It is a book that you can read before bed and read before bed. It is a book that you can read before bed. It is a book that you can read before bed. It is a book that you can read before bed. It is a book that you can read before bed. It is a book that you can read before bed. It is a book that you can read before bedside table is a book that you can read before bedtime reading before bed. It is a book that you can read before bed to read before bed to read before you read before bed to read before bed to read before bed to read before bed to read before bed to read before you sleep. To read before bed to read before you sleep. To read before bed to read before bed to read before bed. To read before bed. To read before bed to read before bed. To read before bed to read before bed. To read before bed. To read before you sleep. To read before you sleep. To read before bed. To read before bed. To read before bed. To read before bed. To read before bedtime reading before bed. To read before bed. To read before bed. To read before bed. To read before bedtime reading before bed. To read before bed. To read before bed. To read before bed. To read before bed. To read before bed. Read before bed to read before bed. To read before bed. To read before bed. To read before bed, you read before bed, read before bed. To read before bed, you read before bed, you read before bedside table. To read before bed. To read before bed. To read before bed to avoid distractions to read a book before bed, read before bed, read before bed, read before bed, read before bed. To read before bed, read before bed, read before bed, read before bed. To read before bed, read before bed. To read before bed, read before bed, read before bed, read before bed. To read before bed, to read before bed, read before bed. To read before bed, read before bed. To read before bed, sleep, read before bed, read before bed, read before bed. To read before bed, read before bed, read before bed. To read before bed, read\n",
      "########\n",
      "*******\n",
      "question: Where is a knight likely to be found in the US?\n",
      "answer: chess set\n",
      "choices: ['middle ages', 'chess set', 'historical novel', 'castle', 'guarding the king']\n",
      "common expl list: ['A knight is a piece in the game of chess, which is played on a chess set.']\n"
     ]
    },
    {
     "name": "stderr",
     "output_type": "stream",
     "text": [
      "  3%|█████▍                                                                                                                                                             | 33/986 [31:20<22:55:30, 86.60s/it]"
     ]
    },
    {
     "name": "stdout",
     "output_type": "stream",
     "text": [
      "generated explanation: <pad> <extra_id_0> chess set is a popular game in the US. It is also a popular way to play chess in the US. It is a great way to learn how to play chess in the US. It is also a great way to learn how to play chess in the US. It is also a great way to learn how to play chess in the US. It is also a great way to learn how to play chess in the US. It is also a great way to learn chess set in the US.</s>\n",
      "########\n",
      "*******\n",
      "question: Jack saw little point to communicating beyond the basics.  To him, it was just a means to do what?\n",
      "answer: exchange information\n",
      "choices: ['go swimming', 'making friends', 'exchange information', 'people to think', 'confusion']\n",
      "common expl list: [\"Keeping the communication sparse would allow him to conserve energy by speaking less. Since communication is just a means to exchanging information, Jack would not see much 'point', to say, a conversation beyond the basics.\"]\n",
      "generated explanation: <pad> <extra_id_0> Jack saw little point to communicating beyond the basics.</s>\n",
      "########\n",
      "*******\n",
      "question: I as a person don't kill others, why do I not?\n",
      "answer: value life\n",
      "choices: ['experience pleasure', 'laws', 'value life', 'thank god', 'go into debt']\n",
      "common expl list: [\"Someone who does not kill might have a great deal of respect for life; as a person's life is valuable, the opposite is true about the act of taking a life.\"]\n"
     ]
    },
    {
     "name": "stderr",
     "output_type": "stream",
     "text": [
      "\r",
      "  3%|█████▌                                                                                                                                                             | 34/986 [31:23<16:13:30, 61.36s/it]"
     ]
    },
    {
     "name": "stdout",
     "output_type": "stream",
     "text": [
      "generated explanation: <pad> <extra_id_0> Value life is a journey of discovery and discovery. The human spirit is a way of expressing the feelings of the individual and the individual. The value life is a journey of discovery and discovery, a journey of discovery and discovery. The value life is a journey of discovery and discovery. The value life is a journey of discovery and discovery. The value life is a journey of discovery and discovery. The value life is a journey of discovery and discovery. The value life is a journey of discovery and discovery. The value life is a journey of discovery.</s>\n",
      "########\n",
      "*******\n",
      "question: What is likely to be a child's reaction to going to play?\n",
      "answer: happiness\n",
      "choices: ['happiness', 'tears', 'sit', 'being entertained', 'laugh']\n",
      "common expl list: ['Children like to play.']\n"
     ]
    },
    {
     "name": "stderr",
     "output_type": "stream",
     "text": [
      "\r",
      "  4%|█████▊                                                                                                                                                             | 35/986 [31:26<11:36:29, 43.94s/it]"
     ]
    },
    {
     "name": "stdout",
     "output_type": "stream",
     "text": [
      "generated explanation: <pad> <extra_id_0> : A child's reaction to playing is likely to be a child's happiness. The child's reaction to playing is likely to be a child's reaction to playing. The child's reaction to playing is likely to be a child's happiness or happiness. The child's reaction to playing is likely to be a positive or negative experience. The child's reaction to playing is likely to be a positive one. The child's reaction to playing is likely to be a positive one. The child is likely to be a child's reaction to playing is likely to be a positive one. The child's reaction to playing is likely to be positive.</s>\n",
      "########\n",
      "*******\n",
      "question: Where could you find multiple ruler that are owned by different people?\n",
      "answer: office\n",
      "choices: ['measure distance', 'england', 'office', 'drawer', 'desk']\n",
      "common expl list: ['Office buildings often have rulers.', 'When someone works in an office, even if it is part-time or freelance, they may be required to measure distances e.g., in departments or cubicles, and so, offices are a good place to find ruler.']\n"
     ]
    },
    {
     "name": "stderr",
     "output_type": "stream",
     "text": [
      "\r",
      "  4%|█████▉                                                                                                                                                              | 36/986 [31:26<8:08:22, 30.85s/it]"
     ]
    },
    {
     "name": "stdout",
     "output_type": "stream",
     "text": [
      "generated explanation: <pad> <extra_id_0> : Where could you find multiple rulers that are owned by different people?</s>\n",
      "########\n",
      "*******\n",
      "question: When remembering you referencing things that you have what?\n",
      "answer: prior knowledge of\n",
      "choices: ['memory cells', 'learning about', 'prior knowledge of', 'brain cells', 'nerve cells']\n",
      "common expl list: ['Most of the things a person knows come from learning in the past and usually have some recollection involved.']\n"
     ]
    },
    {
     "name": "stderr",
     "output_type": "stream",
     "text": [
      "\r",
      "  4%|██████                                                                                                                                                             | 37/986 [32:36<11:12:51, 42.54s/it]"
     ]
    },
    {
     "name": "stdout",
     "output_type": "stream",
     "text": [
      "generated explanation: <pad> <extra_id_0> s of things that you remember. You remembering things that you have to remember that you have a prior knowledge of explanations of things that you remember. This is because remembering things that you have forgotten is a good way to remember things. This is because remembering things is a good way to remember things. When remembering things that you remember is a good way to remember things. When remembering things that you remember is to remember them. Remembering things that you have forgotten is a good way to remembering them. Remembering them is an important thing to remembering them is a good memory. It is important to remembering them is a good memory. It is important to remember that you remembering them is a good memory is a good memory is important to remembering that you remember that you remember that you remember to remember that you remember to remember that you remember to remember to remember to remember to remember to remember to remembering things that you remember to remember that you remember that you remember that you remember to remember to remember to remember to remember to remember to remember to remember to remember to remember to remember to remember to remember to remember to remember to remember to remember to remember to remember memory to remember to remember</s>\n",
      "########\n",
      "*******\n",
      "question: After running twenty six miles he felt like he had lost twenty six pounds, this was from all the what?\n",
      "answer: sweat\n",
      "choices: ['exercise', 'sweat', 'pass out', 'collapse', 'drink water']\n",
      "common expl list: ['Sweating is a way to cool down the body, and so after running for a long time, a person might sweat a lot.']\n"
     ]
    },
    {
     "name": "stderr",
     "output_type": "stream",
     "text": [
      "\r",
      "  4%|██████▎                                                                                                                                                            | 38/986 [34:49<18:20:56, 69.68s/it]"
     ]
    },
    {
     "name": "stdout",
     "output_type": "stream",
     "text": [
      "generated explanation: <pad> <extra_id_0> After running twenty six miles he felt like he had lost twenty six pounds, this was from all the sweat. The sweat was a great way to lose weight and energy, and it was a great way to help him feel better. The sweat was a great way to help him lose weight. The sweat was a great way to help him lose twenty six pounds. The sweat was also a great way to help him feel better. The sweat was also a great way to help him lose weight. The sweat was a great deal of effort, it was a great deal of sweat was a great way to help him sweaty, sweaty, sweaty, sweaty, sweaty, sweaty, sweaty, sweaty, sweaty, sweaty, sweaty, sweaty, sweaty, sweaty, sweaty, sweaty, sweaty, sweaty, sweaty, sweaty, sweaty, sweaty, sweaty, sweaty, sweaty, sweaty, sweaty, sweaty, sweaty, sweaty, sweaty, sweaty, sweaty, sweaty, sweaty, sweaty, sweaty, sweaty, sweaty, sweaty, sweaty, sweaty, sweaty, sweaty, sweaty, sweaty, sweaty, sweaty, sweaty sweaty sweaty, sweaty sweaty sweaty sweaty sweating sweaty sweaty sweaty sweat sweaty sweat-y-the-weew-losing sweat-losing sweat-a-se-lose-lose-your-se-the-your-se-your-pro-e-your-petite</s>\n",
      "########\n",
      "*******\n",
      "question: In what western sate might one find a bald eagle?\n",
      "answer: colorado\n",
      "choices: ['captivity', 'colorado', 'zoo', 'canada', 'in washington']\n",
      "common expl list: ['Eagles are native to the western United States, and Colorado is a western state.']\n"
     ]
    },
    {
     "name": "stderr",
     "output_type": "stream",
     "text": [
      "\r",
      "  4%|██████▍                                                                                                                                                            | 39/986 [34:52<13:05:45, 49.78s/it]"
     ]
    },
    {
     "name": "stdout",
     "output_type": "stream",
     "text": [
      "generated explanation: <pad> <extra_id_0> a bald eagle is a bald eagle, which is found in the western sate of the United States. It is a rare bird that is found in the western sate of the United States. It is a bald eagle, which is found in the western sate of the United States. It is a bald eagle, which is found in the western sate of the United States. It is a bald eagle.</s>\n",
      "########\n",
      "*******\n",
      "question: When a retired person returns to work they likely need to do what?\n",
      "answer: earn money\n",
      "choices: ['key', 'earn money', 'get out of bed', 'need money', 'understand themselves']\n",
      "common expl list: ['When a person is retired, they probably are not making enough money through a pension benefit to support themselves after retirement, so they work again, perhaps full-time, in order to have enough money.(money key)']\n"
     ]
    },
    {
     "name": "stderr",
     "output_type": "stream",
     "text": [
      "\r",
      "  4%|██████▌                                                                                                                                                            | 40/986 [36:04<14:47:32, 56.29s/it]"
     ]
    },
    {
     "name": "stdout",
     "output_type": "stream",
     "text": [
      "generated explanation: <pad> <extra_id_0> Earnings: a retired person should earn money when they return to work. Earnings: Earnings: A retired person should earn money by working for a living, not for a living. A retired person should be able to earn money by working for a living. A retired person should be able to earn money by earning a living. Earnings: A retired person should earn money by earning a living. A retired person should be able to earn money by working for a living. A retired person should be able to earn money is able to earn money by earning a retired person should be able to earn money by earning money by earning a living. A retired person should be able to earn money by earning money by earning money by earning money by earning money by earning money by earning money by earning money by earning money by earning a living by earning money is able to earn a living by earning income of the ability to earn money by earning a living from the retirement age of the retirement age of the retirement of the retirement age of the retirement income of the retirement income of the retirement age of the retirement income of the retirement income of the retirement age of the retirement age of the retirement age of the retirement</s>\n",
      "########\n",
      "*******\n",
      "question: What can be the result of meeting people with similar attitudes?\n",
      "answer: making new friends\n",
      "choices: ['anxiety', 'being bored', 'love', 'making new friends', 'new job']\n",
      "common expl list: ['People with similar interests are likely to be friends, or familiars to each other, having many opportunities to meet each other and have things in common to discuss.', \"Friends often share some interests and/or attitudes, and when someone meets people with similar attires, that's a good indicator they might be good candidates for becoming friends.\"]\n"
     ]
    },
    {
     "name": "stderr",
     "output_type": "stream",
     "text": [
      "\r",
      "  4%|██████▊                                                                                                                                                            | 41/986 [36:10<10:48:01, 41.14s/it]"
     ]
    },
    {
     "name": "stdout",
     "output_type": "stream",
     "text": [
      "generated explanation: <pad> <extra_id_0> Making new friends can be the result of meeting people with similar attitudes. It can be a great way to meet people who have similar attitudes and values. It can be the result of meeting people with similar attitudes and values. It can be a great way to make new friends. It can also be a great way to meet people who have similar attitudes and values. It can be a great way to meet people who have similar attitudes and values. It can be a great way to meet people who have similar attitudes and beliefs. It can also be a great way to make new friends. It can be a great way to make new friends.</s>\n",
      "########\n",
      "*******\n",
      "question: Danny noticed a ceramic object on the table and picked a grape out of it.  What might have been on the table?\n",
      "answer: bowl of fruit\n",
      "choices: ['kitchen', 'painting of fruits', 'fruit basket', 'bowl of fruit', 'fruit stand']\n",
      "common expl list: ['A bowl of fruit is an appropriate item to put on a table, as it can hold many kinds of fruit.']\n"
     ]
    },
    {
     "name": "stderr",
     "output_type": "stream",
     "text": [
      "\r",
      "  4%|██████▉                                                                                                                                                            | 42/986 [37:30<13:54:39, 53.05s/it]"
     ]
    },
    {
     "name": "stdout",
     "output_type": "stream",
     "text": [
      "generated explanation: <pad> True Story: A bowl of fruit from a grape. True Story: A bowl of fruit from a grape. True Story: A bowl of fruit from a grape. True Story: A bowl of fruit from a grape. True Story: A grape is a fruit that is a grape. True Story: A bowl of fruit is a fruit that is a fruit that is a grape. True Story: A grape is a fruit that is a grape. It is a grape that is a grape that is a grape is a grape is a grape. True Story: A bowl of fruit is a grape is a grape is a grape is a grape is a grape is a grape is a grape is a grape is a grape is a grape is a grape is a grape is a grape is a grape is a grape is a grape is a grape is a grape is a grape is a grape is a grape is a grape is a grape is a grape is a grape is a grape is a grape is a grape is a grape is a grape is a grape is a grape is a grape is</s>\n",
      "########\n",
      "*******\n",
      "question: The nose dipped and alarms went off inside the what?\n",
      "answer: aircraft\n",
      "choices: ['car', 'sniff', 'aircraft', 'upper respiratory tract', 'missile']\n",
      "common expl list: ['The nose dips and alarms go off inside the cockpit of an aircraft when the nose of the aircraft dips too low.']\n"
     ]
    },
    {
     "name": "stderr",
     "output_type": "stream",
     "text": [
      "\r",
      "  4%|███████                                                                                                                                                            | 43/986 [37:34<10:02:03, 38.31s/it]"
     ]
    },
    {
     "name": "stdout",
     "output_type": "stream",
     "text": [
      "generated explanation: <pad> <extra_id_0> Aerator - Aerator - Aerator - Aerator - Aerator - Aerator - Aerator - Aerator - Aerator - Aerator - Aerator - Aerator - Aerator - Aerator - Aerator - Aerator - Aerator - Aerator - Aerator - Aerator - Aerator - Aerator - Aerator</s>\n",
      "########\n",
      "*******\n",
      "question: Where is a cord likely to be on a tent?\n",
      "answer: sporting goods store\n",
      "choices: ['inside tent', 'delivery room', 'hardware store', 'backpack', 'sporting goods store']\n",
      "common expl list: ['Sporting goods stores likely have tents on display which generally come with their cords.']\n"
     ]
    },
    {
     "name": "stderr",
     "output_type": "stream",
     "text": [
      "\r",
      "  4%|███████▎                                                                                                                                                           | 44/986 [38:37<11:56:47, 45.66s/it]"
     ]
    },
    {
     "name": "stdout",
     "output_type": "stream",
     "text": [
      "generated explanation: <pad> <extra_id_0> : tents are often used to carry a cord. A cord is used to carry a cord on a tent. A cord is used to carry a cord and is used to carry a cord. A cord is used to carry a cord on a tent to a tent. A cord is used to carry a cord around a tent. A cord is used to carry a cord. A cord is used to carry a cord and is used to carry a cord. A cord can be used to carry a cord is used to carry a tent. a sporting goods store or sporting goods store is used to carry a tent. A cord is used to carry a tent to carry a cord is used to carry a tent is used to carry a cord is used to carry a tent to carry a cord is used to carry a tent to carry a tent is used to carry a tent to carry a tent to carry a cord can be used to carry a tent to carry a tent to carry a cord to carry a tent to carry a tent to carry a tent to carry a tent to carry a cord when</s>\n",
      "########\n",
      "*******\n",
      "question: The man reduced the town to rubble out of hate, what was his goal?\n",
      "answer: destroy enemy\n",
      "choices: ['wage war', 'play nice', 'fight enemy', 'stab to death', 'destroy enemy']\n",
      "common expl list: ['someone who is completely obsessed with destroying an enemy (going so far as to want them completely obliterated from existance) is not a person who is playing nice.']\n"
     ]
    },
    {
     "name": "stderr",
     "output_type": "stream",
     "text": [
      "\r",
      "  5%|███████▍                                                                                                                                                            | 45/986 [38:38<8:23:53, 32.13s/it]"
     ]
    },
    {
     "name": "stdout",
     "output_type": "stream",
     "text": [
      "generated explanation: <pad> <extra_id_0> : destroy enemy. He reduced the town to rubble out of hatred, what was his goal?</s>\n",
      "########\n",
      "*******\n",
      "question: The toddler thought it would be fun to try eating breakfast in bed, what resulted?\n",
      "answer: mess\n",
      "choices: ['contentment', 'indigestion', 'vomiting', 'mess', 'catastrophe']\n",
      "common expl list: [\"Toddlers have poor coordination.  Even if they could somehow manage to not fall off the bed, it's likely that they would spill the food that they took with them to bed.  A mess would be made.\", \"Toddlers like to explore and test their own boundaries. They often don't know their limits, and it's common for their behavior to result in a mess. In the toddler's case, it involved getting breakfast on the bed due to his inexperience\"]\n"
     ]
    },
    {
     "name": "stderr",
     "output_type": "stream",
     "text": [
      "\r",
      "  5%|███████▋                                                                                                                                                            | 46/986 [38:39<5:57:01, 22.79s/it]"
     ]
    },
    {
     "name": "stdout",
     "output_type": "stream",
     "text": [
      "generated explanation: <pad> <extra_id_0> The toddler thought it would be fun to try eating breakfast in bed in the morning, what resulted was a mess?</s>\n",
      "########\n",
      "*******\n",
      "question: He had a hard time getting his father's attention, he hoped that the winning baseball game would finally get him some what?\n",
      "answer: recognition\n",
      "choices: ['confirmation', 'celebrating', 'pride', 'recognition', 'happiness']\n",
      "common expl list: ['One way to gain recognition from ones parents is by accomplishing things that they value. For example, children might hope to make their parents proud of them by excelling at sports.']\n"
     ]
    },
    {
     "name": "stderr",
     "output_type": "stream",
     "text": [
      "\r",
      "  5%|███████▊                                                                                                                                                            | 47/986 [38:44<4:35:40, 17.61s/it]"
     ]
    },
    {
     "name": "stdout",
     "output_type": "stream",
     "text": [
      "generated explanation: <pad> <extra_id_0> The winning baseball game was a big success, but he was unable to get his father's attention. He was unable to get his father to recognize him and his father's signature. He was able to recognize his father's name and identify his father's name and identify his father's name. He was able to recognize his father's name and identify him by his name. He was able to recognize his father's name and identify him with the winning baseball game. The winning baseball game was unable to recognize him and his father's name. It was difficult to get his father's name.</s>\n",
      "########\n",
      "*******\n",
      "question: The toddler is awaking from a nap, what doesn't he feel anymore?\n",
      "answer: tiredness\n",
      "choices: ['nervous', 'eyes opening', 'getting out of bed', 'tiredness', 'discomfort']\n",
      "common expl list: ['Children can easily get tired at their ontervall and a nap is an effective way for them to get over tiredness. Then when they wake up, they do not feel tiredness any longer.']\n"
     ]
    },
    {
     "name": "stderr",
     "output_type": "stream",
     "text": [
      "\r",
      "  5%|███████▉                                                                                                                                                            | 48/986 [38:48<3:30:22, 13.46s/it]"
     ]
    },
    {
     "name": "stdout",
     "output_type": "stream",
     "text": [
      "generated explanation: <pad> <extra_id_0> The toddler is waking from a nap. The toddler is awakening from a nap. The toddler is awaking from a nap and is tired. The toddler is tired and tired. The toddler is tired and tired. The toddler is tired and tired. The toddler is tired and tired. The toddler is tired and tired. The toddler is tired and tired. The toddler is tired and tired. The toddler is tired and tired. The toddler is tired and tired. The toddler is tired and tired. The toddler is tired and tired.</s>\n",
      "########\n",
      "*******\n",
      "question: John listened to music when he needed to focus.  It helped him achieve what?\n",
      "answer: quiet mind\n",
      "choices: ['express emotion', 'beautifull', 'irritate', 'bad environment', 'quiet mind']\n",
      "common expl list: ['Music can, at the very least, provide passive background noise as one works to help one focus. More specifically, music might have positive, uplifting or emotional qualities that are conducive to focus and concentration.', \"There's scientific evidence that listening to music can help people think better and concentrate easier.\", \"When one is trying to focus on a task, it's common to listen to music to help one focus.\"]\n"
     ]
    },
    {
     "name": "stderr",
     "output_type": "stream",
     "text": [
      "\r",
      "  5%|████████▏                                                                                                                                                           | 49/986 [39:28<5:34:19, 21.41s/it]"
     ]
    },
    {
     "name": "stdout",
     "output_type": "stream",
     "text": [
      "generated explanation: <pad> <extra_id_0> John listened to music when he needed to focus on his task. It helped him achieve what he wanted. It helped him achieve his goals. It helped him achieve his goals. It helped him achieve his goals. It helped him to focus on his work. It also helped him to focus on his work. It helped him achieve his goals. It helped him to focus on his work and his work. It helped him to focus and focus on his work. It helped him focus and focus on the task at hand. It helped him to focus on his work. It helped him to achieve his goals. It helped him to focus his work. It helped him to focus. It helped him to focus. It helped him to focus on his work was a better job of a better way of life. It also helped him achieve his goals. It also helped him achieve his goals. It helped him to focus on his work at a better way of thinking and focus. It also helped him achieve his goals. It also helped him achieve his goals.</s>\n",
      "########\n",
      "*******\n",
      "question: If I were to suffer from sudden illness I would be within reason to visit where?\n",
      "answer: hospital\n",
      "choices: ['nursing home', 'hospital', 'brain', 'elderly person', 'building']\n",
      "common expl list: ['Anyone can suffer a sudden illness, but hospitals are where the equipment and personnel exist to deal with sudden illnesses.', 'A hospital is a center for treatment and care of those suffering from illness.', 'A hospital is a place where people go to receive treatment for illnesses.', 'If you were suddenly suffering an illness, it would be a reasonable thing to go to the hospital for treatment of that illness.']\n"
     ]
    },
    {
     "name": "stderr",
     "output_type": "stream",
     "text": [
      "\r",
      "  5%|████████▎                                                                                                                                                           | 50/986 [39:32<4:12:16, 16.17s/it]"
     ]
    },
    {
     "name": "stdout",
     "output_type": "stream",
     "text": [
      "generated explanation: <pad> <extra_id_0> Hospital is the best place to visit if I were to suffer from sudden illness. I would visit a hospital if I were to suffer from sudden illness such as sudden illness, severe illness, or other serious illness. I would be able to visit a hospital for treatment and treatment of the illness. I would be able to visit a hospital for treatment and treatment. I would be able to visit a hospital for treatment and treatment. I would be able to visit a hospital for treatment and treatment. I would be </s>\n",
      "########\n",
      "*******\n",
      "question: John kept standing up.  He was afraid that if he were sitting down he might do something. What might he be afraid of?\n",
      "answer: fall asleep\n",
      "choices: ['fall asleep', 'being supported on chair', 'comfort', 'clowns', 'flatulence']\n",
      "common expl list: ['When standing, the chances of falling asleep abruptly would be much less (assuming that one is awake).', 'Sitting down makes one comfortable; sitting down with eyes closed makes one fall asleep.']\n"
     ]
    },
    {
     "name": "stderr",
     "output_type": "stream",
     "text": [
      "\r",
      "  5%|████████▍                                                                                                                                                           | 51/986 [40:30<7:30:16, 28.90s/it]"
     ]
    },
    {
     "name": "stdout",
     "output_type": "stream",
     "text": [
      "generated explanation: <pad> <extra_id_0> John kept standing up. He was afraid that if he were sitting down he might do something. He was afraid that if he were sitting down he might fall asleep. He was afraid that if he were sitting down he might fall asleep. He was afraid that if he were sitting down he would fall asleep. He was afraid that if he were sitting down he would fall asleep. He was afraid that if he were sitting down he would do something. He was afraid that if he would fall asleep. He was afraid that he would fall asleep he would fall asleep while he would fall asleep while he would fall asleep while he would fall asleep while he would fall asleep while he would be unable to fall asleep while he would fall asleep while he would fall asleep he would be unable to fall asleep he would be unable to fall asleep while he would be asleep while he would fall asleep while he would be awoke he would be unable to sleep he would be unable to</s>\n",
      "########\n",
      "*******\n",
      "question: He didn't know that good things can be posion in large doses.  He thought that he was just eating an essential what?\n",
      "answer: nutrient\n",
      "choices: ['antidote', 'consumable', 'nutrient', 'vitamin', 'medicine']\n",
      "common expl list: ['He thought that he was just eating an essential nutrient, but in large doses, it could be poisonous.']\n"
     ]
    },
    {
     "name": "stderr",
     "output_type": "stream",
     "text": [
      "\r",
      "  5%|████████▋                                                                                                                                                           | 52/986 [41:14<8:37:35, 33.25s/it]"
     ]
    },
    {
     "name": "stdout",
     "output_type": "stream",
     "text": [
      "generated explanation: <pad> <extra_id_0> : He didn't know that good things can be nutrient in large doses. He thought that he was just eating an essential food. He didn't know that he was eating a food that was a good source of nutrients. nutrients are a good source of energy, energy, and energy. He didn't know that he was eating a good amount of nutrients. He didn't know that nutrient is a good source of energy and energy. He didn't know that nutrients are a good thing. nutrients are a good thing, but he was eating a good thing. nutrients are nutrients are a good thing. nutrients are nutrients are essential for the body. They are also a good thing. nutrient is a good thing. nutrient is a good thing. nutrient is a good thing. nutrient is nutrient is a good thing.</s>\n",
      "########\n",
      "*******\n",
      "question: The police didn't pay any favors, their job was to what?\n",
      "answer: force law\n",
      "choices: ['force law', 'board vessels', 'arrest', 'arm weapons', 'direct traffic']\n",
      "common expl list: ['Police are usually tasked with upholding the law, and if they see a law being broken they will intervene (forceful intervention); moreover, they also coordinate with other officers (direct traffic and board vessels). These activities do not involve favors.']\n"
     ]
    },
    {
     "name": "stderr",
     "output_type": "stream",
     "text": [
      "\r",
      "  5%|████████▊                                                                                                                                                          | 53/986 [42:13<10:39:34, 41.13s/it]"
     ]
    },
    {
     "name": "stdout",
     "output_type": "stream",
     "text": [
      "generated explanation: <pad> <extra_id_0> force law was a force, not a force. It was a force that was not a force that was a force that was a force that was a force that was not a force. It was a force that was a force that was not a force to be reckoned with. It was a force that was not a force to be reckoned with. It was a force that was not a force to be used for any purpose, but to be used for anything. It was a force was used to be used for any purpose. It was a force that was a force that was a force that was a force that was a force that was a force that was a force that was a force that was a force that was a force that was a force that was a force that was a force that was a force that was a force that was a force that was a force that could be a force that could be a force that could be a force that could be a force that could be a force that could be</s>\n",
      "########\n",
      "*******\n",
      "question: The place specialized in colorful arrangements, but the also had a toy balloon or two where?\n",
      "answer: flower shop\n",
      "choices: ['see work', 'birthday party', 'flower shop', 'parade', 'toy store']\n",
      "common expl list: ['Batches of balloons are available at flower shops, where floral arrangements are sold, and rainbow contruction paper is usually found in art shops and classrooms.', 'Flower shops sell interesting arrangements made with colorful flowers.']\n"
     ]
    },
    {
     "name": "stderr",
     "output_type": "stream",
     "text": [
      "\r",
      "  5%|████████▉                                                                                                                                                          | 54/986 [42:56<10:47:57, 41.71s/it]"
     ]
    },
    {
     "name": "stdout",
     "output_type": "stream",
     "text": [
      "generated explanation: <pad> a flower shop was a colorful place that had a variety of colors and decorations. a flower shop was a flower shop that specialized in colorful arrangements and a flower balloon. A flower shop was a place to buy flowers and other accessories. A flower shop was a place to buy flowers and other items. A flower shop was a place to buy flowers and other items. A flower shop was a place to buy flowers and other items. A flower shop was a place to buy flowers and other items. A flower shop was a flower shop was a place to buy flowers and other items, and a flower shop was a flower shop was a place to buy flowers and other items, such as a place to purchase items and other items, and a flower shop was also a flower shop was a place to buy flowers and other items that were sold in a flower shop was also a flower shop was a place to buy flowers and other items, such as flowers, a flower shop was a place to buy flowers and a flower flower shop</s>\n",
      "########\n",
      "*******\n",
      "question: Where was there never any mammoth?\n",
      "answer: zoo\n",
      "choices: ['wild', 'north dakota', 'forest', 'movie', 'zoo']\n",
      "common expl list: ['Mammoths are extinct, and zoos are places where animals are kept for observation and study.']\n"
     ]
    },
    {
     "name": "stderr",
     "output_type": "stream",
     "text": [
      "\r",
      "  6%|█████████▏                                                                                                                                                          | 55/986 [42:57<7:35:04, 29.33s/it]"
     ]
    },
    {
     "name": "stdout",
     "output_type": "stream",
     "text": [
      "generated explanation: <pad> <extra_id_0> Where was there never any mammoth?</s>\n",
      "########\n",
      "*******\n",
      "question: Why do most people engage in chatting with friends?\n",
      "answer: fun\n",
      "choices: ['fun', 'love', 'answers', 'inspiration', 'relaxation']\n",
      "common expl list: ['Chats with friends are often fun, and thus people engage in them for that reason.']\n"
     ]
    },
    {
     "name": "stderr",
     "output_type": "stream",
     "text": [
      "\r",
      "  6%|█████████▎                                                                                                                                                         | 56/986 [47:01<24:13:50, 93.80s/it]"
     ]
    },
    {
     "name": "stdout",
     "output_type": "stream",
     "text": [
      "generated explanation: <pad> <extra_id_0> : People enjoy chatting with each other for a fun time. Among the reasons for this, chatting with friends is a fun way to make friends. Besides, it is a fun way to make friends. Also, it is a way to make friends. It is also a way to make friends. It is also a way to make friends. It is also a way to make friends. It is also a fun way to make new friends. It is also a way to make new friends. It is also a fun way of chatting with friends. It is also a fun way of chatting is a fun way to make new people laugh with each other and make new friends. chatting with new people meet new people who are a fun way to make new friends and new friends and to make new people laugh and to make new friends and to make new friends and make new friends. It is also a great way to make new friends and to make new friends and to make new friends and to make new friends and to make new friends. chatting with new people and to make new friends and to make new friends and to make new friends and to make new friends and to make new friends and to make new friends and to make new friends and to make new friends and to make new friends and to make new friends and to make new friends. It is a new friends and to make new friends. It is to make new friends and to make new friends and to make new friends and to make new friends and to make new friends and to make new friends. It is also a fun and new friends. It is a fun way to make new friends and to make new friends. It is also to make new friends. It is a new friends. It is a new friends. It is a new friends. a fun way to make new friends. a new friend. It is a fun activity. It is a fun activity. The fun fun activity that is fun. It is also a fun time to spend time with new friends. It is a great way to meet new people new people. A fun time to meet new people who are new ones. A fun time to meet new people who are new friends. It is a fun and exciting way to share ideas and experiences. It is also a great way to make friends. It is also a fun way to make new friends.\n",
      "########\n",
      "*******\n",
      "question: What could happen after discovering truth that you did not want to know?\n",
      "answer: pain\n",
      "choices: ['pain', 'relief', 'grey hair', 'understanding', 'enlightenment']\n",
      "common expl list: ['Truth can be painful, and discovering it can cause pain.']\n"
     ]
    },
    {
     "name": "stderr",
     "output_type": "stream",
     "text": [
      "\r",
      "  6%|█████████▍                                                                                                                                                         | 57/986 [47:04<17:09:18, 66.48s/it]"
     ]
    },
    {
     "name": "stdout",
     "output_type": "stream",
     "text": [
      "generated explanation: <pad> <extra_id_0> : You could be able to find a way to protect yourself from others. This is because you are protecting yourself from the risks of discovery. It is also because you are protecting yourself from the risks of being able to protect yourself from the risks of discovery. This is because you are protecting yourself from the risks. You could be able to protect yourself from the risks of discovering truth that you did not want to know. This is because you are protecting yourself from the risks of exposing your true identity to others. This is because you are protected against the risks of discovering truth is a life-threatening condition.</s>\n",
      "########\n",
      "*******\n",
      "question: What will an athlete do to warm up their legs?\n",
      "answer: jog\n",
      "choices: ['use heater', 'sprint', 'jog', 'run fast', 'compete']\n",
      "common expl list: ['When athletes warm up before swimming, running, riding a bike, or performing other physical activity, they generally will jog (which will help them loosen muscles in the legs).', 'warming up is a routine that is performed to either prepare for doing something new, or prepare for doing something which put strains on you, or which you have been out of practice doing.']\n"
     ]
    },
    {
     "name": "stderr",
     "output_type": "stream",
     "text": [
      "\r",
      "  6%|█████████▌                                                                                                                                                         | 58/986 [48:12<17:14:15, 66.87s/it]"
     ]
    },
    {
     "name": "stdout",
     "output_type": "stream",
     "text": [
      "generated explanation: <pad> <extra_id_0>. An athlete will jog their legs to warm up their legs. During the warm up period, an athlete will be able to use their legs to warm up their legs. The athlete will also need to jog their legs. This will help them to get a good workout. The athlete will also be able to use their legs to warm up their legs. jog is an exercise that will help them to get stronger and to keep them warm. Also, jog will help them to get better results. jog will also help them to warm up their legs. jog will help them to get stronger. jog will also help them to get stronger and to keep their legs warm up and warm up and to keep them warm up their legs. jog will help them to get a good workout, which will help them to get a good workout routine. jog to keep them warm up and keep them warm up and to keep them warm and to keep them warm up and to keep them warm up and to keep them warm up and to keep them warm and to keep them warm up and to keep them warm up and to keep them warm up and to keep them warm up and to keep them warm and to keep them warm and to keep them warm and to keep them warm and to keep them warm and to keep them warm and to keep them warm and to keep them warm.. a workout.</s>\n",
      "########\n",
      "*******\n",
      "question: Where can you keep your binder on your person between periods of instruction?\n",
      "answer: backpack\n",
      "choices: ['class room', 'car', 'office supply store', 'backpack', 'bookcase']\n",
      "common expl list: ['Usually binder users carry their binders from class to class outside of the classroom. Backpacks are often convenient, and are large enough to hold the binder.']\n"
     ]
    },
    {
     "name": "stderr",
     "output_type": "stream",
     "text": [
      "\r",
      "  6%|█████████▊                                                                                                                                                         | 59/986 [48:13<12:07:27, 47.08s/it]"
     ]
    },
    {
     "name": "stdout",
     "output_type": "stream",
     "text": [
      "generated explanation: <pad> <extra_id_0> :<extra_id_1> : A backpack is a good place to keep your binder. Between periods of instruction: Between periods of instruction, you can keep your binder in your backpack. The backpack is a great way to keep your binder on your person.</s>\n",
      "########\n",
      "*******\n",
      "question: In the middle of the day what will someone do because of being hungry?\n",
      "answer: have lunch\n",
      "choices: ['cook dinner', 'make bread', 'eat in restaurant', 'have lunch', 'make bread']\n",
      "common expl list: [\"It's common for folks to have lunch during the middle of the day.\", 'People often eat lunch at midday, and so, if they are hungry at midday, they might go to a restaurant to eat lunch.']\n"
     ]
    },
    {
     "name": "stderr",
     "output_type": "stream",
     "text": [
      "  6%|██████████▏                                                                                                                                                         | 61/986 [49:03<8:37:51, 33.59s/it]"
     ]
    },
    {
     "name": "stdout",
     "output_type": "stream",
     "text": [
      "generated explanation: <pad> eat lunch and have a snack. Have lunch or dinner and have a snack. Have lunch or dinner is a meal that is a meal that is eaten at a time. Having lunch is a way to get people to eat lunch and have a snack. It is important to have a snack before a meal. Lunch is a meal that is a meal and is a way to get the food they need.. Having a snack is a great way to get everyone to eat. Having lunch is a snack. Having lunch is a snack is a meal is a meal is a meal is a meal is a good meal is a good meal is a good reason to have a meal is a good meal is a good idea. It is a good way to get someone to eat something healthy and healthy. a healthy meal. Lunch is a healthy, healthy meal. Lunch is a good idea to help someone to eat healthy, healthy, healthy lunch is a good meal is a good meal is a good meal is a good meal is a good one-day-long-term snack. Lunch is a good meal is a good meal.</s>\n",
      "########\n",
      "*******\n",
      "question: Where is garbage brought to by garbagemen?\n",
      "answer: landfill\n",
      "choices: ['trashcan', 'landfill', 'television', 'computer', 'dumpster']\n",
      "common expl list: ['Landfills are where all the trash in the city go to.']\n",
      "generated explanation: <pad> <extra_id_0> : Where is garbage brought to by garbagemen?</s>\n",
      "########\n",
      "*******\n",
      "question: What are people doing when washing hands for a long time?\n",
      "answer: thinking\n",
      "choices: ['thinking', 'sleeping', 'use soap', 'irritation', 'cleaning dirt off']\n",
      "common expl list: ['People often think about things while they are washing their hands, and this is a good time to think about things.', 'People often just pause while washing their hands. It may be that they are thinking about something while this occurs naturally.']\n"
     ]
    },
    {
     "name": "stderr",
     "output_type": "stream",
     "text": [
      "\r",
      "  6%|██████████▎                                                                                                                                                         | 62/986 [49:03<6:02:58, 23.57s/it]"
     ]
    },
    {
     "name": "stdout",
     "output_type": "stream",
     "text": [
      "generated explanation: <pad> <extra_id_0> When washing hands for a long time?</s>\n",
      "########\n",
      "*******\n",
      "question: What would someone say about a tube television?\n",
      "answer: obsolete\n",
      "choices: ['obsolete', 'addictive', 'entertaining', 'bycone', 'legal']\n",
      "common expl list: ['Tube televisions are obsolete, meaning that they are old and was abolished by newer technology.', 'Tube televisions are no longer manufactured, and are therefore obsolete.']\n"
     ]
    },
    {
     "name": "stderr",
     "output_type": "stream",
     "text": [
      "\r",
      "  6%|██████████▍                                                                                                                                                         | 63/986 [50:11<9:29:50, 37.04s/it]"
     ]
    },
    {
     "name": "stdout",
     "output_type": "stream",
     "text": [
      "generated explanation: <pad> <extra_id_0> Tubes are a great way to get around the problem of a tube TV. Tube televisions are a great way to get around the problem of a tube TV. Tubes are a great way to get around the problem of a tube TV. Tubes are also a great way to get around the problem of a tube TV. Tubes are a great way to get around the problem of a tube TV. Tubes are also a great way to get around the problem of tube TVs. Tube TVs are also a tube TV shows that aren’t available to people who are not available to people who are not available to people who are able to see the world and the world. Tube TVs are also a tube TVs are not necessarily obsolete. Tube TVs are also a tube TVs are a tube TVs are also a tube TVs are a tube TVs are a tube TVs are also a tube TVs are a tube TVs are a tube TVs are a tube TVs are a tube TVs are a tube TVs are a tube TVs are a tube TVs are a tube TVs are a tube TVs are a tube TVs are a tube TVs are a tube TVs are a tube TV</s>\n",
      "########\n",
      "*******\n",
      "question: The man drank his coffee at work?\n",
      "answer: office\n",
      "choices: ['coffee shop', 'table', 'kitchen', 'office', 'chair']\n",
      "common expl list: ['People often drink coffee at offices, with other co-workers.', 'The man is likely to be at work, and offices often have kitchens where coffee is made.', 'The man probably works in an office where he could have a cup of coffee while behind his desk.']\n"
     ]
    },
    {
     "name": "stderr",
     "output_type": "stream",
     "text": [
      "\r",
      "  6%|██████████▋                                                                                                                                                         | 64/986 [50:14<6:49:09, 26.63s/it]"
     ]
    },
    {
     "name": "stdout",
     "output_type": "stream",
     "text": [
      "generated explanation: <pad> <extra_id_0> The man drank his coffee at work? answer The man drank his coffee at work? answer The man drank his coffee at work? answer The man drank his coffee at work? answer The man drank his coffee at work? answer The man drank his coffee at work? Answer The man drank his coffee at work? answer The man drank his coffee at work? answer The man drank his coffee at work? answer The man drank his coffee at work? answer The man</s>\n",
      "########\n",
      "*******\n",
      "question: What can he do to eliminate his ignorance?\n",
      "answer: learn new\n",
      "choices: ['find information', 'judge', 'do some research', 'find truth', 'learn new']\n",
      "common expl list: [\"Learning is a way to eliminate ignorance; for example, learning a foreign language is one way to eliminate ignorance of that language's grammar.\", 'Ignorance is the state of not knowing something, and to eliminate ignorance, one must learn new things.', 'In this context, ignorance refers to a lack of knowledge, and obtaining new knowledge is the best way to eliminate the ignorance.']\n"
     ]
    },
    {
     "name": "stderr",
     "output_type": "stream",
     "text": [
      "\r",
      "  7%|██████████▊                                                                                                                                                         | 65/986 [51:14<9:25:39, 36.85s/it]"
     ]
    },
    {
     "name": "stdout",
     "output_type": "stream",
     "text": [
      "generated explanation: <pad> <extra_id_0> s. The student is learning how to speak and write. The student is learning how to read and write. The student is learning how to write a sentence. The student can learn how to write a sentence in a sentence. The student can learn how to read and write a sentence in a sentence. The student can also learn how to read a sentence in a sentence. The student can also learn how to read and write a sentence in a sentence. The student can learn how to write a sentence in a sentence is also learning how to read a sentence. The student can also learn how to read a sentence in a sentence is a sentence. The student can also learn how to write a sentence in a sentence. The student can also learn how to write a sentence. The student can also learn how to write a sentence in a sentence in a sentence is a sentence. The student can also learn how to write a sentence in a sentence. The student can also learn how to write a sentence. The student can also learn how to write a sentence. The student can learn to write a sentence. The student can also learn to write a sentence. The student can also learn to write a sentence.</s>\n",
      "########\n",
      "*******\n",
      "question: What do humans do when in a race?\n",
      "answer: compete with each other\n",
      "choices: ['lay eggs', 'eat fruit', 'wrestle', 'compete with each other', 'draw pictures']\n",
      "common expl list: ['Humans are naturally athletic and competitive. On land, people will compete with each other by running or wrestling. Often humans race on water by swimming, or by boating with other people.']\n"
     ]
    },
    {
     "name": "stderr",
     "output_type": "stream",
     "text": [
      "\r",
      "  7%|██████████▉                                                                                                                                                         | 66/986 [51:20<7:00:26, 27.42s/it]"
     ]
    },
    {
     "name": "stdout",
     "output_type": "stream",
     "text": [
      "generated explanation: <pad> <extra_id_0> humans compete with each other when in a race. In a race, humans compete with each other when they are in a race. In a race, humans compete with each other to gain a competitive advantage. In a race, humans compete with each other to gain a competitive advantage. In a race, humans compete with each other to gain a competitive advantage. In a race, humans compete with each other to gain a competitive advantage. In a race, humans compete with each other to gain a competitive advantage. Competitors are the other's ability to gain a competitive advantage. In a race, they are competing for the ability to gain a competitive edge over other humans compete with each other to gain a competitive advantage. Competitors can compete with each other to gain a competitive advantage.</s>\n",
      "########\n",
      "*******\n",
      "question: She explained that you won't always get what you want with a goal, but you should still do what with it?\n",
      "answer: reach for\n",
      "choices: ['know how to find', 'work hard', 'remember where', 'reach for', 'purchase']\n",
      "common expl list: ['Reaching for attained goals is more beneficial than simply working towards them, at least in the short term. It significantly increases your chances of success.']\n"
     ]
    },
    {
     "name": "stderr",
     "output_type": "stream",
     "text": [
      "\r",
      "  7%|███████████▏                                                                                                                                                        | 67/986 [51:22<5:05:50, 19.97s/it]"
     ]
    },
    {
     "name": "stdout",
     "output_type": "stream",
     "text": [
      "generated explanation: <pad> <extra_id_0>. It is important to understand that you will never get what you want with a goal, and you should still do what you want to do with it. It is important to understand that you will not always get what you want with a goal. It is important to understand that you will never get what you want with a goal, and you should still do what with it. It is important to understand that goals are a tool that will help you achieve your goals. It is important to know that you will have a goal and have a goal will help you to achieve it. You should always reach for it.</s>\n",
      "########\n",
      "*******\n",
      "question: What happens when you eat hamburger too fast without swallowing?\n",
      "answer: choking\n",
      "choices: ['get full', 'drink', 'choking', 'hungry', 'getting fat']\n",
      "common expl list: [\"If you eat hamburger too fast, you might choke on it, because it's a solid food that can get stuck in your throat.\", 'Eating too fast can sometimes cause coughing / choking as food get stuck in your throat.', \"Choking can occur when you stick stuff in your mouth which can't go down your throat properly, so that you can't breath. Common causes can be eating too fast, or swallowing items that can't go down your throat, like liquids or large\", \"When you eat hamburger too fast, it can quickly turn into the consistency of a block, and when you can't swallow it, it can cause you to choke.\"]\n"
     ]
    },
    {
     "name": "stderr",
     "output_type": "stream",
     "text": [
      "\r",
      "  7%|███████████▏                                                                                                                                                       | 68/986 [54:34<18:11:40, 71.35s/it]"
     ]
    },
    {
     "name": "stdout",
     "output_type": "stream",
     "text": [
      "generated explanation: <pad> <extra_id_0> eat hamburger too fast without swallowing. hamburgers are a dangerous food and are often eaten by people who eat them. They are often eaten by people who eat hamburgers. They are often eaten in the same way as hamburgers. They are often eaten by people who eat them. They are also eat hamburgers and other foods. They are often eaten by people who eat them too fast. They are also known as hamburgers. They are often eaten too fast to eat. They are often a great way to eat a hamburger and a large amount of meat and poultry. Burgers are a great deal of meat meat is a large portion of meat is eaten too fast, a large portion of meat that is a large portion of hamburgers are a large portion of meat. Burgers are also a large portions of hamburgers are a large meal.. Burgers are a large portion of a large hamburgers that are often a small portion of meat. a small, fast, and are often eaten by adults. They are a large portion of the hamburgers are a large, fast, and are a large, and are often a large, and are a small, and are often a large, fast, and a large, fast, and are a large, and are a large, and are a small, and are a large, and are a large, and are a large portion of the same size. They are often a large, and are a large, and are a large, and are a large, hamburgers. They are a large, and are a small, and are a large, hamburger. They are a large, fast, large, and a large, fast, fast, burger.. a large, fast, fast, and a large, fast, and a fast, and can be a fast, and can be a fast, and can be a fast, a large, and can be a small, fast, and can be a fast, a large, fast, large, and can be a large, fast, and can be a fast, and can be a fast, fast, and can be a fast, and can be a fast, and can be a fast. a fast\n",
      "########\n",
      "*******\n",
      "question: John sat in a folding chair in a bit room with a stage.  What sort of room could that be?\n",
      "answer: auditorium\n",
      "choices: ['room', 'auditorium', 'meeting hall', 'school', 'church']\n",
      "common expl list: ['An auditorium is a large room that is used for public events, such as concerts, plays, and speeches.']\n"
     ]
    },
    {
     "name": "stderr",
     "output_type": "stream",
     "text": [
      "\r",
      "  7%|███████████▎                                                                                                                                                      | 69/986 [57:35<26:33:14, 104.25s/it]"
     ]
    },
    {
     "name": "stdout",
     "output_type": "stream",
     "text": [
      "generated explanation: <pad> <extra_id_0> John sat in a folding chair in a room with a stage. John sat in a folding chair in a room with a stage. Stage. Stage is a small space with a stage. Stage is a stage that is used to show the work of artists and musicians. The stage is a small space with a stage. The stage is a small room with a stage. The auditorium is a small room with a stage. The auditorium is a small room with a stage. The stage. The stage is a small stage. The stage is a small space with a stage. The stage is a small space that is used to house the stage. The stage is a small stage. The stage is a large space that is also a small stage. The stage is a stage that is a stage. The stage is a small stage. The stage is a small stage that is a small stage that is also a small stage. The stage is a stage. The stage is a small space that is a small stage. The stage is a small stage. The stage is a small stage that is a stage. The stage. The stage is a small stage. The stage is a stage. The stage is a small stage. The stage is a small stage. The stage. The stage is a small room with a small stage. The auditorium. The stage is a small stage. The stage is a stage. The auditorium is a small stage. The stage is a stage. The stage is a stage. The stage is a stage is a small stage. The stage is a small stage is a small stage is a small stage. The stage is a small stage. The stage is a stage is a small stage. The stage is a stage. The stage is a small stage is a small stage. The stage is a small stage is a small stage. The stage is a stage. The stage is a small stage. The stage is a small stage is a small stage. The stage is a small stage is a large stage is a small stage that is a stage. the stage is a stage. The stage is a stage that is a stage that is a stage is\n",
      "########\n",
      "*******\n",
      "question: What would an adult man do to get ready for work?\n",
      "answer: dress himself\n",
      "choices: ['dress herself', 'shower', 'dress himself', 'drink beer', 'drive train']\n",
      "common expl list: ['Adult males commonly wear suits to work. Men might get dressed in the morning, particularly if they plan on wearing a suit for work.', 'An adult man would dress himself for work: this includes putting on pants, shirts, and dresses, and typical choices are professional clothes, such as suit and tie.']\n"
     ]
    },
    {
     "name": "stderr",
     "output_type": "stream",
     "text": [
      "\r",
      "  7%|███████████▌                                                                                                                                                       | 70/986 [58:43<23:46:38, 93.45s/it]"
     ]
    },
    {
     "name": "stdout",
     "output_type": "stream",
     "text": [
      "generated explanation: <pad> <extra_id_0> He would be dressed up for work. He would be dressed to work, but would be dressed in a suit and tie. Then he would dress himself to work. Then he would dress himself to be ready for work. Then he would dress himself up to work. In the morning, he would be ready to go to work. Then he would dress himself to work. Then he would dress himself to work. Then he would dress himself up for work. Then he would dress himself to work. Then’t dress for work as a young man to be ready to go to work. Then he would dress himself in a suit and tie his suit and tie himself in a suit and tie himself in a suit and tie his suit and tie his hair. Then he would dress for work. Then he would dress himself in a suit and tie himself in a suit and tie-in a tie-in a tie-in a tie-in a tie-in a tie-in a tie-in a tie-in a tie-in a tie-in a tie-in a tie-in a tie-out a tie-in a tie-in a tie-in a tie-in a tie-in a tie-in </s>\n",
      "########\n",
      "*******\n",
      "question: What does one do at an office?\n",
      "answer: work\n",
      "choices: ['work', 'school building', 'workplace', 'skyscraper', 'public building']\n",
      "common expl list: ['One does work at the office', 'An office is a specific type of workplace.', 'An office is a place where people work.']\n"
     ]
    },
    {
     "name": "stderr",
     "output_type": "stream",
     "text": [
      "\r",
      "  7%|███████████▋                                                                                                                                                       | 71/986 [59:21<19:33:36, 76.96s/it]"
     ]
    },
    {
     "name": "stdout",
     "output_type": "stream",
     "text": [
      "generated explanation: <pad> <extra_id_0> One does work at an office. One does work at an office. It is a place to work and learn new skills. It is a place to work, learn and grow. It is a place where people can learn new skills and skills and learn new skills. It is a place where people can learn new skills and learn new skills. It is a place where people can learn new skills and learn new skills. Work is a place where people can learn new skills and skills. Work is a place where people can learn to work at an office. Work at an office is a place where people can learn to work at a job that is a place where people can learn new skills and knowledge. This is a place where people can learn new skills and learn how to work at a job. It is a place to work together. Work is a job is a place to work and learn new skills and skills that are used to work together, work together, and work together, and learn new skills and learn new skills and knowledge of work and learn new skills and learn new skills and learn new skills and knowledge.</s>\n",
      "########\n",
      "*******\n",
      "question: When a person is on trial for killing, what is a jury likely to decide?\n",
      "answer: punishment\n",
      "choices: ['execution', 'investigation', 'going to jail', 'retribution', 'punishment']\n",
      "common expl list: ['A person who has just killed another person often goes to trial, so the jury will likely have to decide what the most just punishment is.', 'A jury is likely to decide that the person is guilty of the crime, and punish them accordingly.', 'When a jury decides that someone is guilty of a crime, they typically hand down a punishment.']\n"
     ]
    },
    {
     "name": "stderr",
     "output_type": "stream",
     "text": [
      "\r",
      "  7%|███████████▉                                                                                                                                                       | 72/986 [59:23<13:50:31, 54.52s/it]"
     ]
    },
    {
     "name": "stdout",
     "output_type": "stream",
     "text": [
      "generated explanation: <pad> <extra_id_0> When a person is on trial for killing, what is a jury likely to decide? When a person is on trial for killing, what is a jury likely to decide? When a person is on trial for killing, what is a jury likely to decide? When a person is on trial for killing, what is a jury likely to decide? When a person is on trial for killing, what is a jury likely to decide? When a person is on trial for killing, what is a jury likely to</s>\n",
      "########\n",
      "*******\n",
      "question: Most adult Americans split their time between home and what?\n",
      "answer: work\n",
      "choices: ['tent', 'work', 'apartment', 'the office', 'foreign']\n",
      "common expl list: ['Most adults spend most of their time at work.', 'Home and work may be the two places where most adult Americans spend most of their waking hours.']\n"
     ]
    },
    {
     "name": "stderr",
     "output_type": "stream",
     "text": [
      "\r",
      "  7%|████████████▏                                                                                                                                                       | 73/986 [59:24<9:43:32, 38.35s/it]"
     ]
    },
    {
     "name": "stdout",
     "output_type": "stream",
     "text": [
      "generated explanation: <pad> During the summer, most adults split their time between home and work. This splits their time between home and work. The majority of Americans split their time between home and work.</s>\n",
      "########\n",
      "*******\n",
      "question: Professionally the fighters always maintained a level of respect, but personally they held each other in what for things that were said?\n",
      "answer: contempt\n",
      "choices: ['belittlement', 'humiliate', 'irreverence', 'contempt', 'love']\n",
      "common expl list: ['Despite the respect that was maintained by the respectful fighters, the feelings that they had for each other were always a sense of contempt for each others character.']\n"
     ]
    },
    {
     "name": "stderr",
     "output_type": "stream",
     "text": [
      "\r",
      "  8%|████████████▎                                                                                                                                                       | 74/986 [59:26<6:57:16, 27.45s/it]"
     ]
    },
    {
     "name": "stdout",
     "output_type": "stream",
     "text": [
      "generated explanation: <pad> <extra_id_0> The fighters always maintained a level of respect, but personally they held each other in contempt. The fighters always held respect for each other, but they always held each other in contempt. The fighters always held each other in contempt for things that were said. They always held each other in contempt for things that were said. They never held each other in contempt. The fighters always held each other in contempt for things that were said. The fighters always held each other accountable. They always held each other in contempt for each other.</s>\n",
      "########\n",
      "*******\n",
      "question: Where would you find many tables of silverware rolled into nice displayed napkins?\n",
      "answer: restaurant\n",
      "choices: ['silver', 'park', 'table', 'cupboard', 'restaurant']\n",
      "common expl list: ['Restaurants often have a lot of silverware, and they might roll it up and place it in a napkin to make it easier to store.', 'Restaurants often give used, rolled up silverware to customers, and they might keep them in nice, displayed napkins to make moving and storing them easier.', 'In a commercial establishment, silverware is expected to be clean because consumption of food is involved. So, a restaurant may well be where someone would expect to find silverware rolled into nice displayed napkins (i.e., fancy silverware).']\n"
     ]
    },
    {
     "name": "stderr",
     "output_type": "stream",
     "text": [
      "\r",
      "  8%|████████████▍                                                                                                                                                       | 75/986 [59:29<5:05:48, 20.14s/it]"
     ]
    },
    {
     "name": "stdout",
     "output_type": "stream",
     "text": [
      "generated explanation: <pad> <extra_id_0> Restaurants are places where you would find many tables of silverware rolled into nice displayed napkins. Restaurants are also often used to serve as a snack. The restaurant is a place where you can enjoy a meal, drink or snack while dining. Restaurants are also a place to visit for dinner, lunch or dinner. Restaurants are also a great place to enjoy a meal. The restaurant is a place where you can enjoy a meal and eat at a restaurant. Restaurants are a great place to find a variety of different kinds of food and drink, and a variety of different types of food would be a place to serve a variety of food and drink.</s>\n",
      "########\n",
      "*******\n",
      "question: He didn't believe fate controlled situations, what did he believe people did?\n",
      "answer: control events\n",
      "choices: ['control events', 'pray', 'dress themselves', 'talk to each other', 'think creatively']\n",
      "common expl list: ['If one believes in fate, then one would believe that fate controls events. If one believes in free will, then one would believe that people control events.', \"If one believes fate controls events, there's nothing to do but accept situation, perhaps to pray; in contrast, if one believed they had control over events, then they could act to change the situation.\"]\n"
     ]
    },
    {
     "name": "stderr",
     "output_type": "stream",
     "text": [
      "\r",
      "  8%|████████████▋                                                                                                                                                       | 76/986 [59:31<3:44:22, 14.79s/it]"
     ]
    },
    {
     "name": "stdout",
     "output_type": "stream",
     "text": [
      "generated explanation: <pad> <extra_id_0> He didn't believe fate controlled events, but people did. He believed people did not control events, but people did. They did not control events. They controlled events were not controlled by fate, but they did control events. They did not control events. He didn't believe people did. He believed people did not control events. He believed people did. He believed fate controlled events were events that were not controlled by fate. He believed people did not control events. They did not control events. He didn't believe people controlled situations. He believed people did.</s>\n",
      "########\n",
      "*******\n",
      "question: Polly didn't know her way around, so she navigated by landmark.  She used statues, stores, and distinctive building.  Where might she be?\n",
      "answer: city\n",
      "choices: ['countryside', 'national park', 'map', 'neighbourhood', 'city']\n",
      "common expl list: ['Landmarks are often located in cities, and so if a person was navigating by landmarks, they are likely to be in a city.', 'In a city, landmarks are often used to navigate. In the countryside or in national parks, landmarks may not be as distinct, as buildings and statues are less likely to be found.', \"She used distinctive buildings as landmarks, so it is likely she's in a city.\", 'Landmark navigation works best in populated areas because distinctive buildings and statues can be more easily seen.']\n"
     ]
    },
    {
     "name": "stderr",
     "output_type": "stream",
     "text": [
      "  8%|████████████▉                                                                                                                                                       | 78/986 [59:32<1:52:02,  7.40s/it]"
     ]
    },
    {
     "name": "stdout",
     "output_type": "stream",
     "text": [
      "generated explanation: <pad> <extra_id_0> Polly used landmarks to navigate the city. She used landmarks to navigate the city. Polly used landmarks to navigate the city.</s>\n",
      "########\n",
      "*******\n",
      "question: Some horses are white others are black, but many are this color which might lead some people to think their milk would taste like chocolate?\n",
      "answer: brown\n",
      "choices: ['big but gentle', 'kept in stables', 'cuddly', 'brown', 'running in herd']\n",
      "common expl list: [\"An individual brown-colored horse (particularly when cuddly) can resemble the color of chocolate. If a person were to guess based on the color, he might guess a horse's milk tasted similarly.\"]\n",
      "generated explanation: <pad> <extra_id_0> Some people think their milk would taste like chocolate?</s>\n",
      "########\n",
      "*******\n",
      "question: What is the one thing you cannot do if you're on the move?\n",
      "answer: stand still\n",
      "choices: ['sit still', 'stationary', 'running', 'stand still', 'stay still']\n",
      "common expl list: ['You must be in motion to be counted as on the move. (this rule exists to disallow the action of holding still)']\n"
     ]
    },
    {
     "name": "stderr",
     "output_type": "stream",
     "text": [
      "\r",
      "  8%|████████████▉                                                                                                                                                     | 79/986 [1:01:22<9:36:54, 38.16s/it]"
     ]
    },
    {
     "name": "stdout",
     "output_type": "stream",
     "text": [
      "generated explanation: <pad> <extra_id_0> Stand still, you're on the move. Stand still is the only thing you can do when you're on the move. Still is the only thing you can do when you're on the move? Stand still. Stand still is the only thing you can do when you're on the move. Stand still is the only thing you can do when you're on the move. Still, you can't do anything while you're on the move. Still, you can't do something that you can do when you're on the move, but you can still do it all day and night. Stillness is the only thing you can't do when you're on the move is to keep your eyes open if you're still, but you can't do something that you can't do when you're still, but you can't do something that you can't do when you can't do when you're on the move when you can't do when you can't move around and you can't move around the world. You can't do when you can't do it when you can't move around. You can't do it if you can't move around if you can't move around. Stand still. Stand still. Stand still. Stand still if you can't move around the world. You can't move around the world. Stand still. Stand still if you're still. Stand stillness is a lot of things you can't do something you can't move around the world. Stand still. You can't move around the world if you're still. You can't move around. Stand still. Stand still. Stand still. Stand still.</s>\n",
      "########\n",
      "*******\n",
      "question: Where does someone convicted of a petty crime likely spend time?\n",
      "answer: jail\n",
      "choices: ['sell drugs', 'jail', 'nightclub', 'prison', 'offer drugs']\n",
      "common expl list: ['Someone convicted of a petty crime probably spends some time in jail, and not in prison.', 'Someone convicted of a petty crime is likely to spend time in jail.']\n"
     ]
    },
    {
     "name": "stderr",
     "output_type": "stream",
     "text": [
      "\r",
      "  8%|█████████████▏                                                                                                                                                    | 80/986 [1:01:31<7:23:59, 29.40s/it]"
     ]
    },
    {
     "name": "stdout",
     "output_type": "stream",
     "text": [
      "generated explanation: <pad> <extra_id_0> jail is a place where a person convicted of a petty crime can spend time in jail.. a jail is a place where people can spend time in a jail or a jail without having to go to jail.. a petty crime is a serious crime committed in the United States and abroad. It is also where a petty crime occurs. a petty crime is a crime committed in the United States and abroad. the jail is a place where people convicted of a petty crimes are not necessarily in the country of their choice. petty crimes are likely to spend time in the country of their own. a place of their own. a place where they can spend time in order to be a petty crime is a petty crime is a petty crime.</s>\n",
      "########\n",
      "*******\n",
      "question: He would entertain with a pool party regularly, it was the best way to beat the what?\n",
      "answer: hot\n",
      "choices: ['please', 'hot', 'guest', 'bribe', 'liked']\n",
      "common expl list: ['Pool parties are a great way to beat the heat.']\n"
     ]
    },
    {
     "name": "stderr",
     "output_type": "stream",
     "text": [
      "\r",
      "  8%|█████████████▏                                                                                                                                                   | 81/986 [1:04:22<18:02:58, 71.80s/it]"
     ]
    },
    {
     "name": "stdout",
     "output_type": "stream",
     "text": [
      "generated explanation: <pad> a pool party was the best way to beat the heat, and it was the best way to beat the heat. The pool party was the best way to beat the heat, and it was the best way to beat the heat. The pool party was the best way to beat the heat. The pool party was the best way to beat the heat, and beat the heat. Pool parties were the best way to beat the heat, and it was the best way to beat the heat. The pool party was the best way to beat the heat. The pool party was the best way to beat the heat was to beat the heat of the heat of the heat to beat the heat. The pool partying was the best way to beat the heat. The pool party was the best way to beat the heat, the heat was the best way to beat the heat was to beat the heat, the heat was the perfect way to beat the heat and the heat was to beat the heat, and the heat was to beat the heat. The pool was the best way to beat the heat. The pool was the heat. The pool was a pool was to beat the heat of the heat, the cool of the pool was the best way to beat the heat was to beat the heat of the heat, the heat was to beat the heat, the pool was to beat the heat was to beat the heat of the heat, the heat of the heat of the heat of the heat of the heat of the heat of the heat of the heat of the heat of the heat of the heat of the heat of the heat of the heat of the heat of the heat of the heat of the heat of the heat. The heat of the heat was to beat the heat of the heat of the heat of the heat of the heat of the heat of the heat of the heat of the heat of the heat of the heat of the heat of the heat of the instant hot, the instant hot, the instant hot, the instant. The pool party was to beat the pool party was to beat the pool party was to beat the pool party was to beat the pool party. The pool party was to beat the pool was to beat the pool party was to beat the pool party was to beat the pool party was to beat the pool. The pool party was to beat the pool to beat the pool to beat the pool to beat the pool to beat the pool to beat the pool to beat the pool to beat the pool to beat the pool to beat the pool to beat the pool\n",
      "########\n",
      "*******\n",
      "question: If you wanted to confirm information that you had, you would do what to someone?\n",
      "answer: question\n",
      "choices: ['infirm', 'ask', 'deny', 'question', 'dispute']\n",
      "common expl list: ['If you wanted to confirm information that you had, you would ask someone.', \"Often information is ambiguous, and I can confirm it by asking pointed questions or by scrutinizing the other person's story till I can find a way to interrogate their position.\", 'To confirm something that your friends told you, you might need to ask those friends further questions to prove that the information was correct.', 'If you wanted to verify the truth, you might question the person who you got the alleged information from.']\n"
     ]
    },
    {
     "name": "stderr",
     "output_type": "stream",
     "text": [
      "\r",
      "  8%|█████████████▎                                                                                                                                                  | 82/986 [1:07:13<25:31:05, 101.62s/it]"
     ]
    },
    {
     "name": "stdout",
     "output_type": "stream",
     "text": [
      "generated explanation: <pad> True, but not necessarily true, questions are often asked to confirm information. True, if you want to confirm information, you would do so by confirming information that you have been given. True, True, and True, are the same information that you would give someone else. True True True, True, and True. True True, you would do something to confirm the information that you have. True True, True and True. True and True, True and True, but True, True and True. True or False, the answer is yes, you can confirm the information that you can confirm the information that you have a person's information that you have confirmed the information that you have been given the person's identity, True and True, True and True, True, True and True, True, True and True, True and True information that you have been given. True and True. True True True or True. True or True, True or False information that you can't. True or False information that you're a false or False information that you're True, True or False information that you're True or False information that you're True or False or True information that you're True or True information you're True or False information you're True or False information is true or True or True/False/False information is true or False information is true or False information is true or False information. True or True or False information is true or False information is true or False information is true or False information is true or False information is false or False information is false or false or False statements are false or False. False Information is true or false or false. False Information is false or false Information is false or false information is false or false information is false or false. False Information is true or false information is not true or false information is false or false information is false information is false or false information is false or false. False information is false or false information is false information is falsely false or false information is false or false or false information is false or false information is false or false information is false or false information is not true or false. False information is false or false information is false or false or false\n",
      "########\n",
      "*******\n",
      "question: Where is cheese likely to be dangerous for some creatures?\n",
      "answer: mouse trap\n",
      "choices: ['refrigerator', 'mouse trap', 'fridge', 'outside', 'plate']\n",
      "common expl list: ['cheese has been said to attract mice. Mice traps may contain cheese in order to attract them.']\n"
     ]
    },
    {
     "name": "stderr",
     "output_type": "stream",
     "text": [
      "\r",
      "  8%|█████████████▌                                                                                                                                                   | 83/986 [1:07:13<17:51:57, 71.23s/it]"
     ]
    },
    {
     "name": "stdout",
     "output_type": "stream",
     "text": [
      "generated explanation: <pad> <extra_id_0> Where is cheese likely to be dangerous for some creatures?</s>\n",
      "########\n",
      "*******\n",
      "question: He spent all work day at a computer, so he got a footstool for more comfort at his what?\n",
      "answer: desk\n",
      "choices: ['desk', 'bathroom', 'shoe shop', 'family room', 'living room']\n",
      "common expl list: ['A footstool is a small stool that is used to raise the height of a chair or table. If someone spends all day at a computer, they might need a footstool to raise their desk.']\n"
     ]
    },
    {
     "name": "stderr",
     "output_type": "stream",
     "text": [
      "\r",
      "  9%|█████████████▋                                                                                                                                                   | 84/986 [1:07:17<12:48:21, 51.11s/it]"
     ]
    },
    {
     "name": "stdout",
     "output_type": "stream",
     "text": [
      "generated explanation: <pad> <extra_id_0> He spent all day at a computer, so he got a footstool for more comfort at his desk. He spent all day at a computer, so he got a footstool for more comfort at his desk. He also got a footstool for his desk. He got a footstool because it was a great tool for him to relax and enjoy his day. He got a footstool to help him with his work. He got a footstool for his desk and a footstools for more comfortable at his desk. He got a footstool for his desk. He can get a footstool for his desk for more comfort at desk.</s>\n",
      "########\n",
      "*******\n",
      "question: How would grooming lead to bald spots?\n",
      "answer: mistakes\n",
      "choices: ['cleanliness', 'mistakes', 'brushing', 'beauty', 'satisfaction']\n",
      "common expl list: [\"If you accidentally over trim your hair, you'd likely end up with bald spots.\"]\n"
     ]
    },
    {
     "name": "stderr",
     "output_type": "stream",
     "text": [
      "  9%|██████████████▏                                                                                                                                                   | 86/986 [1:07:21<6:27:27, 25.83s/it]"
     ]
    },
    {
     "name": "stdout",
     "output_type": "stream",
     "text": [
      "generated explanation: <pad> <extra_id_0> bald spots are the most common bald spots in the world. bald spots are the most common bald spots in the world. bald spots are caused by poor grooming and poor grooming. The bald spots are caused by a variety of factors including: a lack of grooming, poor grooming, and poor grooming. The grooming can lead to bald spots, bald spots, and other problems. The bald spots can be caused by a variety of factors including age, gender, and age. The bald spots can be caused by bald spots are often the result of baldness.</s>\n",
      "########\n",
      "*******\n",
      "question: Where would a snake find a great hiding place in the United Kingdom?\n",
      "answer: kew gardens\n",
      "choices: ['ditch', 'terrarium', 'thick forest', 'kew gardens', 'feild']\n",
      "common expl list: ['Kew gardens is a large botanical garden in London, England, and snakes are often found in gardens.', 'Kew gardens is located in London, which has a great deal of green space in the form of parks.']\n",
      "generated explanation: <pad> <extra_id_0> of the Great Britain Snakes.</s>\n",
      "########\n",
      "*******\n",
      "question: After studying many self-help books, what did he feel in his heart?\n",
      "answer: inspiration\n",
      "choices: ['inspiration', 'dreams', 'more intelligence', 'understanding', 'knowing more']\n",
      "common expl list: ['Self-help books are written to inspire people to change their lives for the better.', \"Some people study self-help books because they've felt lost in their life and are looking for something to help them out. By reading many self-help books, such people might feel more inspired in their life.\", \"If John read about confidence, optimism, positive thinking, it's possible that he feels inspired.\"]\n",
      "generated explanation: <pad> Inspiration</s>\n",
      "########\n",
      "*******\n",
      "question: Where would you find teeth whitening bleachers?\n",
      "answer: pharmacy\n",
      "choices: ['gymnasium', 'soccer game', 'sporting event', 'pharmacy', 'soccer game']\n",
      "common expl list: ['Teeth whitening is a common practice, and pharmacies often sell the products used for it.']\n"
     ]
    },
    {
     "name": "stderr",
     "output_type": "stream",
     "text": [
      "\r",
      "  9%|██████████████▍                                                                                                                                                   | 88/986 [1:07:59<5:38:19, 22.61s/it]"
     ]
    },
    {
     "name": "stdout",
     "output_type": "stream",
     "text": [
      "generated explanation: <pad> <extra_id_0> s and information on the topic. The best place to find teeth whitening bleachers is in the United States. The bleachers are available in the US and Canada. The bleachers are also available in Canada. The bleachers are also available in the United States and Canada. The bleachers are also available in the United States. The bleachers are available in the United States and Canada. The bleachers are available in the United States and Canada. The bleachers are available in the United States and Canada. The bleachers are available in the United States and Canada. The bleachers are available in Canada are also available in the United States of America. The bleachers are also available in Canada. The bleachers are available in the United States and Canada. The bleachers are available in the United States. The bleachers are available in the United States and Canada. The bleachers are available in Canada. The bleachers are available in the United States and Canada. The bleachers are available in Canada. The bleachers are also available in Canada. The bleachers are available in the United States and Canada. The bleachers are available in Canada. The bleachers are available in the United States and Canada.</s>\n",
      "########\n",
      "*******\n",
      "question: While he had seen a koala in the zoo, he was looking forward to finding one in the what?\n",
      "answer: australian outback\n",
      "choices: ['australian outback', 'bamboo grove', 'wilderness', 'island', \"child's book\"]\n",
      "common expl list: ['Koalas live in Australia, and are not found in any other country in the North American continent.', 'Because Koalas are a native species to Australia, the safest place to see a Koala may be outback Australia.']\n"
     ]
    },
    {
     "name": "stderr",
     "output_type": "stream",
     "text": [
      "\r",
      "  9%|██████████████▌                                                                                                                                                   | 89/986 [1:08:12<5:03:09, 20.28s/it]"
     ]
    },
    {
     "name": "stdout",
     "output_type": "stream",
     "text": [
      "generated explanation: <pad> <extra_id_0> : He was looking forward to finding a koala in the outback. He was looking forward to finding a koala in the australian outback. He was looking forward to finding out that he had seen a koala in the zoo and was looking forward to finding one in the outback. It was a great opportunity to see a koala in the outback. He was excited to see a koala in the outback, a koalas in the outback koalas in the outback, and a koala in the zoo, and koalas in the zoo, and a koalas in the outback koalas in the zoo and zoo.</s>\n",
      "########\n",
      "*******\n",
      "question: Where can a child get a wagon?\n",
      "answer: toy store\n",
      "choices: ['field', 'garage', 'bookstore', 'backyard', 'toy store']\n",
      "common expl list: [\"A toy wagon is a child's toy. Toy wagons can be purchased from toy stores.\", 'Toy stores deal specifically in toys. Wagons are one of a variety of toys.']\n"
     ]
    },
    {
     "name": "stderr",
     "output_type": "stream",
     "text": [
      "\r",
      "  9%|██████████████▊                                                                                                                                                   | 90/986 [1:09:41<9:32:28, 38.33s/it]"
     ]
    },
    {
     "name": "stdout",
     "output_type": "stream",
     "text": [
      "generated explanation: <pad> <extra_id_0> Toy store. Toy store is a place to buy a toy. Toy store is a place where children can get a toy. Toy store is a place where children can buy toys and play equipment. Toy store is a place where children can buy toys and play equipment. Toy store is a place to store toys and play equipment. Toy store is a place to buy toys and play equipment. Toy store is a place where children can get toy wagons and other toys for their children. Toy store is a place where children can purchase toys and games. Toy store is a place to store is a place for children to buy toy store is a child can purchase toys and games. Toy store is a place to store items and games and games. Toy store is a place toy store is a place to store items and games. Toy store is a child can also purchase a toy store is a toy store is a place to buy a toy store is a place to store is a place to store. Toy store is a place to store items such as a place to store, toy store is a place to store items and toys, toy store is a place to store items and toy store is a place to store items and toy store is a place to store items that can be used to store toys toy store is a place to store them to store the children's toys.</s>\n",
      "########\n",
      "*******\n",
      "question: Being able to forgive is a way to be what?\n",
      "answer: nice to\n",
      "choices: ['learn', 'give hug', 'happiness', 'nice to', 'sex']\n",
      "common expl list: ['When you forgive people you are being nice to them.']\n"
     ]
    },
    {
     "name": "stderr",
     "output_type": "stream",
     "text": [
      "\r",
      "  9%|██████████████▉                                                                                                                                                   | 91/986 [1:10:16<9:16:22, 37.30s/it]"
     ]
    },
    {
     "name": "stdout",
     "output_type": "stream",
     "text": [
      "generated explanation: <pad> True to life, forgiveness is a way to be who you are. Having the ability to forgive is a way to be who you are. Having the ability to forgive is a way to be yourself. Having the ability to forgive is a way to be who you are. Having the ability to forgive is a way to be yourself. Having the ability to forgive is a way to be yourself. The forgiveness of your past is a way to be happy and happy. The ability to forgive is a way to be able to be able to be yourself. a good enough to forgive is a way to be able to be able to be able to forgive is a way to be able to be able to be able to be able to be yourself is able to be able to be able to be yourself is able to be able to be able to be able to be able to forgive is able to be able to be able to be able to be able to be able to be able to be able to</s>\n",
      "########\n",
      "*******\n",
      "question: What  is necessary to have when going fishing?\n",
      "answer: fishing rod\n",
      "choices: ['fishing rod', 'access to water', 'bate', 'three hands', 'tackle']\n",
      "common expl list: ['fishing rods are necessary component pieces that are held by fishermen to access and use when fishing', 'To go fishing requires a fishing rod.']\n"
     ]
    },
    {
     "name": "stderr",
     "output_type": "stream",
     "text": [
      "\r",
      "  9%|███████████████                                                                                                                                                   | 92/986 [1:10:19<6:53:09, 27.73s/it]"
     ]
    },
    {
     "name": "stdout",
     "output_type": "stream",
     "text": [
      "generated explanation: <pad> <extra_id_0> s fishing rods are essential for the sport of fishing. Fishing rods are also important for the sport of fishing. Fishing rods are also important for the sport of fishing. It is also important to have a good balance of weight and strength. Using a fishing rod is a great way to get the most out of your fishing experience. Using a rod is also a good way to get the most out of your fishing experience. Fishing rods are also a great way to get the most out of your fishing tackles.</s>\n",
      "########\n",
      "*******\n",
      "question: A weasel is cursed by a witch, where is the weasel stuck?\n",
      "answer: fairytale\n",
      "choices: ['corn fields', 'great outdoors', 'fairytale', 'imagination', 'chicken coop']\n",
      "common expl list: ['Being stuck in a fairytale suggests being cursed, and the curses that prevail in fairytales are usually cast by witches.']\n"
     ]
    },
    {
     "name": "stderr",
     "output_type": "stream",
     "text": [
      "\r",
      "  9%|███████████████▎                                                                                                                                                  | 93/986 [1:10:20<4:57:21, 19.98s/it]"
     ]
    },
    {
     "name": "stdout",
     "output_type": "stream",
     "text": [
      "generated explanation: <pad> <extra_id_0> of a weasel. A weasel is cursed by a witch, where is the weasel stuck?</s>\n",
      "########\n",
      "*******\n",
      "question: If you want to buy you must what?\n",
      "answer: spend money\n",
      "choices: ['spend money', 'go shopping', 'paying', 'have in mind', 'a shop']\n",
      "common expl list: ['To buy something, you must spend money.', 'To buy one needs money, and need money implies you have spent money.', 'If you want to buy something, you must spend money.']\n"
     ]
    },
    {
     "name": "stderr",
     "output_type": "stream",
     "text": [
      "\r",
      " 10%|███████████████▍                                                                                                                                                  | 94/986 [1:10:23<3:45:34, 15.17s/it]"
     ]
    },
    {
     "name": "stdout",
     "output_type": "stream",
     "text": [
      "generated explanation: <pad> <extra_id_0> Buying and Selling is a very expensive and expensive business. It is a very expensive business and it is very expensive to buy and sell. It is also very expensive to buy and sell. It is also a great way to save money. It is also a great way to save money and money on the go. It is also a great way to save money on the go. It is also a great way to save money. It is also a great way to save money on your purchases. It is a great way to save money on groceries. It is also a great way to save money on your own.</s>\n",
      "########\n",
      "*******\n",
      "question: What public celebration sometimes has a horse show?\n",
      "answer: state fair\n",
      "choices: ['state fair', 'indy 500', 'american southwest', 'canada', 'central park']\n",
      "common expl list: ['Horse shows are sometimes included in state fair celebrations, and these fairs frequently are held in public parks.', 'Horse shows are competitions that sometimes occur at public celebrations. Some fairgrounds include horse shows as part of their regularly scheduled events.', \"A state's fair is a public celebration that may include a horse show.\"]\n"
     ]
    },
    {
     "name": "stderr",
     "output_type": "stream",
     "text": [
      "\r",
      " 10%|███████████████▌                                                                                                                                                  | 95/986 [1:10:26<2:52:31, 11.62s/it]"
     ]
    },
    {
     "name": "stdout",
     "output_type": "stream",
     "text": [
      "generated explanation: <pad> <extra_id_0>. Horse show is a public event that is held in conjunction with the state fair. Horse show is a public event that is held at a public celebration of horse ownership. Horse show is a public event that is held in the form of a horse show. Horse show is a public event that is held at a public event.. It is also called a horse show. Horse show is a public event that is held at a public event. Horse show is a public event, which is usually held at a state fair, horse show-to-the public horse show, and horse show.</s>\n",
      "########\n",
      "*******\n",
      "question: There are many wage gaps being discussed, the most important of which is between the rich and what?\n",
      "answer: poor\n",
      "choices: ['plain', 'sleepy', 'poor', 'idle', 'needy']\n",
      "common expl list: ['The poor are a group which suffers from a wage gap, denoted as their earning less than others, especially the rich.']\n"
     ]
    },
    {
     "name": "stderr",
     "output_type": "stream",
     "text": [
      "\r",
      " 10%|███████████████▊                                                                                                                                                  | 96/986 [1:10:28<2:11:48,  8.89s/it]"
     ]
    },
    {
     "name": "stdout",
     "output_type": "stream",
     "text": [
      "generated explanation: <pad> <extra_id_0> of wage gaps. The most important gap is between the rich and the poor. The gap is between the rich and the poor, and between the poor and poor. The most important gap is between the rich and the poor. The most important gap is between the rich and poor, and between the poor and the poor. The wage gap is between the rich and the poor. The gap is between the poor and the rich. The gap is between the poor and the poor. The most important gap is between the rich and the poor. The wage gap is between the rich and poor.</s>\n",
      "########\n",
      "*******\n",
      "question: What city in a North American Country, that isn't the United States, would you expect to find a good french restaurant?\n",
      "answer: quebec\n",
      "choices: ['wine', 'nyc', 'quebec', 'manhattan', 'paris']\n",
      "common expl list: ['Quebec is said to have strong french-culture since it was originally french territory. This would make sense if quebec had a good french restaurant.', 'Quebec has a strong french heritage, and the french cuisine is actually quite popular in the United States.', 'Quebec is a province in Canada, and is known for its french culture.', 'Quebec is the only province that speaks French in North America, and you might expect to find a good french restaurant there.']\n"
     ]
    },
    {
     "name": "stderr",
     "output_type": "stream",
     "text": [
      "\r",
      " 10%|███████████████▉                                                                                                                                                  | 97/986 [1:10:46<2:52:00, 11.61s/it]"
     ]
    },
    {
     "name": "stdout",
     "output_type": "stream",
     "text": [
      "generated explanation: <pad> <extra_id_0> : \"A french restaurant is a good way to get a good meal\" \"A french restaurant is a good way to get a good meal,\" says a French chef. Quebec is a city in the North American Country, and is located in the United States. It is located in the city of Montreal, Quebec, Canada. It is located in the heart of Montreal. The city is located in the heart of the city. Quebec is located in the heart of the city. Quebec is located in the United States. Quebec is a place to get a good meal. Quebec is a place to eat in the United States. a good restaurant is a good place to eat in a place to eat in a city. a place to a city that is a good place to eat in a city that is a city that is a city that is a city.</s>\n",
      "########\n",
      "*******\n",
      "question: Care not to burn you hand on the handle of what small high-walled vessel?\n",
      "answer: saucepan\n",
      "choices: ['brush', 'carry object', 'walking stick', 'umbrella', 'saucepan']\n",
      "common expl list: ['A saucepan is a small, high-walled vessel, built for holding liquids and usually used in the kitchen.']\n"
     ]
    },
    {
     "name": "stderr",
     "output_type": "stream",
     "text": [
      "\r",
      " 10%|████████████████                                                                                                                                                  | 98/986 [1:10:50<2:14:49,  9.11s/it]"
     ]
    },
    {
     "name": "stdout",
     "output_type": "stream",
     "text": [
      "generated explanation: <pad> <extra_id_0> : You should burn your hand on the handle of a saucepan. A saucepan is a small high-walled vessel that has a single handle. It is a small high-walled vessel with a single handle. It is a very small, high-walled vessel with a single handle. It is a very large vessel with a single handle and is very easy to use. It is also a very useful and safe vessel for people who are unable to use it. It is also a very good safety precaution to burn your hand on the handle of a small saucepan.</s>\n",
      "########\n",
      "*******\n",
      "question: What container does peanut butter come in?\n",
      "answer: jar\n",
      "choices: ['cupboard', 'pantry', 'jar', 'bottle', 'supermarket']\n",
      "common expl list: ['Jars are often used to store food, and peanut butter is a food.', 'Jars, like those that pickles often come in, are suitable for food items that need to be kept fresh for long time. Jars can be resealed.', 'Peanut butter comes in glass jars, like many other food products.', 'Jars can keep food sealed without leaking, and often have lids. Peanut butter is sealed in a jar and could be kept in a house, kitchen, pantry, or cupboard.']\n"
     ]
    },
    {
     "name": "stderr",
     "output_type": "stream",
     "text": [
      "\r",
      " 10%|████████████████▎                                                                                                                                                 | 99/986 [1:10:52<1:46:04,  7.18s/it]"
     ]
    },
    {
     "name": "stdout",
     "output_type": "stream",
     "text": [
      "generated explanation: <pad> <extra_id_0> peanut butter comes in a jar. It is a container that is filled with peanut butter. It is a container that contains peanut butter. It is a container that can be opened and opened to ensure that peanut butter is safe. It is also a container that can hold peanut butter. It is a container that can hold peanut butter. It can also be used to store peanut butter in a container. It can also be used to store peanut butter in a container. It is a container that can be opened and used to store peanut butter and peanut butter products.</s>\n",
      "########\n",
      "*******\n",
      "question: Where are plants likely to be handled by a city employee?\n",
      "answer: park\n",
      "choices: ['park', 'windowsill', 'ground', 'office', 'garden']\n",
      "common expl list: ['Parks are where city employees are likely to handle plants.', 'A city employee might handle plants while working in a park.']\n"
     ]
    },
    {
     "name": "stderr",
     "output_type": "stream",
     "text": [
      "\r",
      " 10%|████████████████▎                                                                                                                                                | 100/986 [1:10:55<1:25:16,  5.77s/it]"
     ]
    },
    {
     "name": "stdout",
     "output_type": "stream",
     "text": [
      "generated explanation: <pad> <extra_id_0> s<extra_id_1> s<extra_id_2> s<extra_id_3> s plants that are likely to be handled by a city employee. Parks are also a place where employees work to help with the maintenance of parks. Parks are a place to work to help with maintenance of the parks. Parks are also a place to be able to work with a park employee. Parks are also a place to work with a city employee. Parks are also a great place to work with a city employee to maintain a park. Parks are a city employee.</s>\n",
      "########\n",
      "*******\n",
      "question: Trains tend to come on time, airplanes on the other hand tend to what?\n",
      "answer: arrive late\n",
      "choices: ['stall', 'take off', 'arrive late', 'catch on fire', 'carry freight']\n",
      "common expl list: ['Planes are carreid by more complicated mechanisms than trains, and therefore tend to be harder to operate exactly on time.', \"Planes aren't typically known for arriving on time (air traffic, weather, repairs, et. al.), whereas trains tend to be more reliable.\"]\n"
     ]
    },
    {
     "name": "stderr",
     "output_type": "stream",
     "text": [
      "\r",
      " 10%|████████████████▍                                                                                                                                                | 101/986 [1:10:57<1:10:32,  4.78s/it]"
     ]
    },
    {
     "name": "stdout",
     "output_type": "stream",
     "text": [
      "generated explanation: <pad> <extra_id_0> Trains tend to arrive on time, airplanes tend to arrive late, trains tend to arrive on time, airplanes tend to arrive late. Trains tend to arrive on time, airplanes arrive late, airplanes arrive late, trains tend to arrive late, airplanes arrive late, trains arrive late, airplanes arrive late, trains arrive late, airplanes arrive late, airplanes arrive late, trains arrive late, airplanes arrive late, trains arrive late, airplanes arrive late, airplanes arrive late, trains arrive late, airplanes arrive late, trains</s>\n",
      "########\n",
      "*******\n",
      "question: Where is glue well used?\n",
      "answer: art room\n",
      "choices: ['desk drawer', 'cabinet', 'art room', 'school', 'closed container']\n",
      "common expl list: ['Glue is used in art projects, and art rooms are where art projects are done.']\n"
     ]
    },
    {
     "name": "stderr",
     "output_type": "stream",
     "text": [
      "\r",
      " 10%|████████████████▋                                                                                                                                                | 102/986 [1:11:10<1:46:19,  7.22s/it]"
     ]
    },
    {
     "name": "stdout",
     "output_type": "stream",
     "text": [
      "generated explanation: <pad> <extra_id_0> of how to use glue in a room. Art room: Art room uses glue to create a piece of art. Art room: Art room uses glue to create a visual effect. Art room uses a variety of mediums to create art and create a visual effect. Art room uses glue to create a visual effect. Art room uses glue to create a visual effect. This is a great way to create a visual effect. Art room uses glue to create a visual effect. It is a great way to create a visual effect is important to the art room is a visual effect of the room is a visual effect of the room is a visual effect of the space is a visual effect. The space is a visual effect. The room is a visual effect of the space. It is a visual effect. The room is a visual effect of the space. It is a visual effect of the space.</s>\n",
      "########\n",
      "*******\n",
      "question: Billy loves science, history, and art but isn't very creative.  When he was visiting the museum, he felt a great deal of what emotion?\n",
      "answer: enjoyment\n",
      "choices: ['inspiration', 'fulfillment', 'wonder', 'boredom', 'enjoyment']\n",
      "common expl list: ['At a museum, Billy uses history to find science, and science to find art; by combining different loves, going to the museum has been fulfilling. To achieve fulfilment, Billy felt an enjoyable feeling.', 'When Billy visited a museum which had a lot of fields of interest, Billy enjoyed himself while he learned from the experience at the same time.']\n"
     ]
    },
    {
     "name": "stderr",
     "output_type": "stream",
     "text": [
      "\r",
      " 10%|████████████████▊                                                                                                                                                | 103/986 [1:11:13<1:27:24,  5.94s/it]"
     ]
    },
    {
     "name": "stdout",
     "output_type": "stream",
     "text": [
      "generated explanation: <pad> <extra_id_0> : He loves museums but is not very creative. He loves science, history, and art but is not creative. He loves to be able to express his feelings of satisfaction and satisfaction. He loves to see the world through the eyes of others and is able to see the world through his eyes. He loves to see the world through his eyes. He loves to see things that aren't cluttered. He loves to see the world through his eyes. He loves to see things that aren't cluttered. He loves to see things that aren't creative and creative. He loves to see things that aren't creative. This isn't creative.</s>\n",
      "########\n",
      "*******\n",
      "question: Sarah did much hard work, even though she was on vacation.  Her mother told her off and said what?\n",
      "answer: do nothing\n",
      "choices: ['unemployment', 'say something', 'earn money', 'do nothing', 'relaxation']\n",
      "common expl list: ['If one is on vacation, one is supposed to \"do nothing\" as opposed to working - the \"something\" that is discouraged. Many physically hard jobs involve getting the hands dirty.']\n"
     ]
    },
    {
     "name": "stderr",
     "output_type": "stream",
     "text": [
      "\r",
      " 11%|████████████████▉                                                                                                                                                | 104/986 [1:11:38<2:49:15, 11.51s/it]"
     ]
    },
    {
     "name": "stdout",
     "output_type": "stream",
     "text": [
      "generated explanation: <pad> <extra_id_0> Sarah did nothing hard work, even though she was on vacation. She was told she was going to be on vacation and had no time to do anything. She was also on vacation when she was told she was on vacation. Sarah's mother, Sarah, told her to do nothing. Sarah's mother, who was on vacation, told her to leave. Sarah's mother, Sarah, was on vacation when she was pregnant. Sarah was told she was on vacation and was on vacation when she returned. Sarah's mother, Sarah's mother, and Sarah's mother, Sarah's mother, Sarah's mother, Sarah's mother, Sarah's mother, and her mother, Sarah's mother, and her mother, Sarah, told her mother, Sarah's mother, Sarah's mother, Sarah's mother, Sarah's mother, Sarah's mother, Sarah's mother, Sarah's mother, Sarah's mother, Sarah's mother, Sarah's mother, Sarah's mother, Sarah's mother, Sarah'</s>\n",
      "########\n",
      "*******\n",
      "question: James walked barefoot on a something that was made hot by sunshine. What is he probably walking on?\n",
      "answer: street\n",
      "choices: ['desktop', 'summer', 'moon', 'meadow', 'street']\n",
      "common expl list: ['Because of the intense heat of summer, sunlight reflects off the pavement, causing a hot sensation when one walks barefoot in the summer.']\n"
     ]
    },
    {
     "name": "stderr",
     "output_type": "stream",
     "text": [
      "\r",
      " 11%|█████████████████                                                                                                                                               | 105/986 [1:14:27<14:22:50, 58.76s/it]"
     ]
    },
    {
     "name": "stdout",
     "output_type": "stream",
     "text": [
      "generated explanation: <pad> <extra_id_0> Street is a street that is made hot by sunshine. It is a street that is made hot by the sun. It is a street that is made hot by the sun. It is a street that is made hot by the sun. It is a street that is made hot by the sun. It is a street that is made hot by the sun. It is a street that is made hot by the sun. It is a street that is made hot by the sun. It is a street that is made hot by the sun. It is a street that is a street that is a street that is a street that is a street that is a street that is made hot by the sun. It is a street that is also a street that is a street that is also a street that is made hot by the sun. It is also a street that is a street that is a street that is a street that is also a street that is also a street that is a street that is a street that is a street that is hot by the sun's heat. The street that is hot by the sun. The sun. The sun is a street that is a street that is hot and hot and has a street that is a street that is a street that is hot and a street that is hot and sunny. It is a street that is hot and sunny and a street that is hot and hot and a street that is hot and humid and a hot and a hot and a hot and a street that is hot and a hot and a street that is hot and a hot and a hot and a hot and hot and a street that is hot and a hot and hot and hot and hot and hot and hot and hot and hot and hot and hot and hot and hot and hot and humid and hot and hot and hot and hot. This is hot and a street that is hot and hot and hot and hot. This hot and humid. This is a hot and humid and hot and hot. This is a hot and squanders the hot and humid and squally squally squallysquallys the sun is the hot. This is the hot. It is also a hot and squally hot. It is a\n",
      "########\n",
      "*******\n",
      "question: He grew tired of standing in the kitchen his whole shift, where was he?\n",
      "answer: restaurant\n",
      "choices: [\"neighbor's house\", \"friend's house\", 'restaurant', 'jail', 'fraternity house']\n",
      "common expl list: ['A restaurant would have a kitchen, where you would be required to stand while your shift is in session.', 'One can get tired standing in a kitchen if one is on their feet all day; kitchens are typically in restaurants.']\n"
     ]
    },
    {
     "name": "stderr",
     "output_type": "stream",
     "text": [
      "\r",
      " 11%|█████████████████▏                                                                                                                                              | 106/986 [1:14:27<10:05:16, 41.27s/it]"
     ]
    },
    {
     "name": "stdout",
     "output_type": "stream",
     "text": [
      "generated explanation: <pad> <extra_id_0> He grew tired of standing in the kitchen his whole shift, where was he?</s>\n",
      "########\n",
      "*******\n",
      "question: The children play cards often, but they make their own rules because they can't what the originals?\n",
      "answer: remember\n",
      "choices: ['bid', 'concentrate', 'winning', 'count', 'remember']\n",
      "common expl list: ['Children often play games that are similar to those played by adults, such as card games, but with slight variations to how they are played. This is most likely because children cannot remember the original rules of the card games. Smiling is a common expression', \"The children are making up their own rules because they can't remember the original rules.\"]\n"
     ]
    },
    {
     "name": "stderr",
     "output_type": "stream",
     "text": [
      "\r",
      " 11%|█████████████████▍                                                                                                                                               | 107/986 [1:14:30<7:16:58, 29.83s/it]"
     ]
    },
    {
     "name": "stdout",
     "output_type": "stream",
     "text": [
      "generated explanation: <pad> <extra_id_0> s of the cards, and the rules of the game. The children play cards often, but they make their own rules because they can't remember the originals. The children make their own rules because they can't remember the rules. The children play cards often, but they make their own rules because they can't remember the original rules. They play cards often, they play cards with their parents and friends. The children play cards often, but they make their own rules. They play cards to help them learn to understand the rules. They play cards to help them to learn to read them to read and play cards to play. They make their own rules, and they play cards to read them to play.</s>\n",
      "########\n",
      "*******\n",
      "question: On an average day, going to work could make you feel like what?\n",
      "answer: feeling good\n",
      "choices: ['feeling good', 'anger', 'revelation', 'being fired', 'tardiness']\n",
      "common expl list: ['People sometimes feel pride and accomplishment when they get things done at the office.', 'To fulfill a life purpose and to gain fulfillment, people often undertake gainful employment. Thus, the people who experience this data point might experience feelings of accomplishment/fulfillment.']\n"
     ]
    },
    {
     "name": "stderr",
     "output_type": "stream",
     "text": [
      "\r",
      " 11%|█████████████████▋                                                                                                                                               | 108/986 [1:14:34<5:21:04, 21.94s/it]"
     ]
    },
    {
     "name": "stdout",
     "output_type": "stream",
     "text": [
      "generated explanation: <pad> <extra_id_0>. Going to work could make you feel good. It could make you feel good about yourself and make you feel good about yourself. It could make you feel good about yourself and make you feel good about yourself. It could make you feel good about yourself and your work. It could also make you feel good about yourself and your life. It could also make you feel good about yourself. It could also make you feel good about yourself. It could make you feel good about yourself and your work. It could make you feel good about yourself and your work. It could make you feel good about yourself.</s>\n",
      "########\n",
      "*******\n",
      "question: What country has the carpathians and is the furthest in the direction of the side that won the U.S. Civil War?\n",
      "answer: poland\n",
      "choices: ['slovakia', 'slovenia', 'poland', 'ukraine', 'romania']\n",
      "common expl list: ['Poland is the only country that has the carpathian mountains, and it was the most distant in the direction from the side that won the U.S. Civil War (the North).']\n"
     ]
    },
    {
     "name": "stderr",
     "output_type": "stream",
     "text": [
      "\r",
      " 11%|█████████████████▋                                                                                                                                              | 109/986 [1:16:32<12:23:46, 50.89s/it]"
     ]
    },
    {
     "name": "stdout",
     "output_type": "stream",
     "text": [
      "generated explanation: <pad> <extra_id_0> poland is the country that won the U. Poland is the country that is the closest to the U.S. The carpathians are located in the southern part of the country that is the southernmost point of the country that won the Civil War. The carpathians are located in the southern part of the country that won the Civil War. In the southern part of the country, the carpathians are located in the direction of the U.S. The carpathians are located in the southern part of the country. The carpathians are located in the southern part of the country that is the southernmost point of the carpathians are located in the southern part of the country that is the southernmost point of the country. The carpathians are located in the southern part of the country that is located in the southern part of the country. The southern part of the country. The southern part of the country is located in the southern part of the country is located in the southern part of the southern part of the southern part of the country. The southern part of the country is located in the southern part of the southern part of the southern part of the southern part of the country. The southern part of the southern part of the southern part of the southern part of the southern part of the southern part of the southern part of the southern part of the southern part of the southern part of the southern part of the southern part of the southern part of the southern part of the southern part of the southern part of the southern part of the southern part of the southern part of the southern part of the southern part of the southern part of the southern part of the southern part of the southern part of the southern part of the southern part of the southern part of the southern part</s>\n",
      "########\n",
      "*******\n",
      "question: What would happen if you want to win a game?\n",
      "answer: competitiveness\n",
      "choices: ['competitiveness', 'satisfaction', 'learning', 'injuries', 'play']\n",
      "common expl list: ['If you want to win a game, you will try put your best effort to take your chances at winning over those of your opponents.', 'To win a game, you must be competitive.', 'Competitive athletes would want to win their games, whatever the cost; this desire to win leads to competitiveness and creates the desire to win over even long periods of time; it also often leads to brutal physical play --- such as by causing injuries to opposing r', \"Victory in a game requires one to make a maximum effort, and peoples' desire to win has to be rather competitive.\", 'After playing a game, a person would be likely compelled to win the game becasue they want a feeling of satisfaction from winning the game. In order to win, a person would need to be competitive.']\n"
     ]
    },
    {
     "name": "stderr",
     "output_type": "stream",
     "text": [
      "\r",
      " 11%|█████████████████▊                                                                                                                                              | 110/986 [1:17:10<11:25:57, 46.98s/it]"
     ]
    },
    {
     "name": "stdout",
     "output_type": "stream",
     "text": [
      "generated explanation: <pad> <extra_id_0> : It would be a game where you would be competitive. The game would be a game in which you would be competitive. The game would be a game in which you would be competitive. It would be a game where you would be competitive with your opponent. It would be a game where you would be competitive with other players. The game would be competitive because it would be a game of chance. The game would be a game of chance for you to win a game. The game would be a game of chance to win a game. The game would be a game of chance to win a game would be a game of chance to win a game. The game would be a game of your life. The game would be a game would be a game. The game would be a game of chance to win a game of your life. The game would be a game would be a game would be a game would be a game would be a game of your game would be a game would be a game of your game would be a game of your game.</s>\n",
      "########\n",
      "*******\n",
      "question: Where should watch to avoid being pinched by a crab?\n",
      "answer: sandy beach\n",
      "choices: ['eastern coast', 'sandy beach', 'fish market', 'north carolina', 'sand dunes']\n",
      "common expl list: ['Crabs live in sandy areas, and people who visit sandy beaches are likely to be pinched by crabs.', 'It is more common to find crabs living in sandy beach areas.']\n"
     ]
    },
    {
     "name": "stderr",
     "output_type": "stream",
     "text": [
      "\r",
      " 11%|██████████████████                                                                                                                                              | 111/986 [1:20:06<20:50:15, 85.73s/it]"
     ]
    },
    {
     "name": "stdout",
     "output_type": "stream",
     "text": [
      "generated explanation: <pad> <extra_id_0> Where should you watch to avoid being pinched by a crab? Beaches are great places to watch for crabs, but they are also great places to watch for crabs. Beaches are also great places to watch for crabs, especially those who are afraid of crabs, and crabs.. This is a great place to watch for crabs and crabs. This is a great place to watch for crabs and crabs.. Beaches are great for watching for crabs and crabs, and they are also great places to watch for crabs and crabs that are not sand beach crabs, and beaches that are not too far from the beach are not too far from the beach to avoid being a crabs and other crabs and crabs. The beach is a good place to watch for crabs and crabs, and the crabs. The crabs and crabs. The beach is a great place to watch for crabs and crabs, and the crabs that are not a good place to watch for crab bites, crab bites that are not a crab bites. The beach is a good place to catch crab bites that are dangerous. The crab bites that are a crabs and crabs. The beach is a good place to watch the crabs, and the crabs, and the beach is a good place to watch the crabs, and the crabs. The beach is a good place to watch for crabs. The crabs are not a crab bites are not dangerous, and the crabs are not dangerous, and the crabs. The beach is a good place to watch for crabs, and the crabs are not a good place to watch for crabs, and the crabs to watch the crabs are sand beach. The crabs are not allowed to catch crabs are not allowed to catch crabs. They are not allowed to catch crabs, and the crabs are not allowed to catch crabs can be caught on the beach. The crabs can be caught on the beach. The crabs can be caught on the beach. The crabs can be caught on the beach. The crabs can be caught on the beach. The beach is a crabs that can be a crabs that can catch crabs are not allowed to catch crabs. The crabs can catch\n",
      "########\n",
      "*******\n",
      "question: What is a large group of human beings?\n",
      "answer: civilisation\n",
      "choices: ['an infestation', 'civilisation', 'homes', 'graveyard', 'spacecraft']\n",
      "common expl list: ['Civilisation is generally used to refer to large populations of humans living together in a single area, responding to collective needs.']\n"
     ]
    },
    {
     "name": "stderr",
     "output_type": "stream",
     "text": [
      " 11%|██████████████████▎                                                                                                                                             | 113/986 [1:20:07<10:12:40, 42.11s/it]"
     ]
    },
    {
     "name": "stdout",
     "output_type": "stream",
     "text": [
      "generated explanation: <pad> <extra_id_0> What is a large group of human beings?</s>\n",
      "########\n",
      "*******\n",
      "question: What  is likely to happen to ice in the sun?\n",
      "answer: become water\n",
      "choices: ['cool water', 'cool drink', 'cool off', 'nothing', 'become water']\n",
      "common expl list: ['When ice is exposed to the sun, it melts, becoming water.', 'because hot melts cold, ice will melt if kept in the sun.']\n",
      "generated explanation: <pad> <extra_id_0> What is likely to happen to the sun?</s>\n",
      "########\n",
      "*******\n",
      "question: Where can travellers pull off the road to stretch their legs?\n",
      "answer: rest area\n",
      "choices: ['rest area', 'airport', 'train station', 'come home', 'bus depot']\n",
      "common expl list: ['Rest areas are places where people can pull off the road to stretch their legs, and they are often located near gas stations, which are frequented by travellers.', 'Rest areas generally allow travelers to spend time away from the roads, which are generally connecting points to large cities and particular highway names.', 'Rest areas are publicly provided spaces for drivers to get out of their cars for a break. Train stations, bus depots, come home, and airports are all places where one might catch a bus, train, taxi, or plane, or have arrived']\n"
     ]
    },
    {
     "name": "stderr",
     "output_type": "stream",
     "text": [
      "\r",
      " 12%|██████████████████▍                                                                                                                                             | 114/986 [1:23:01<19:49:23, 81.84s/it]"
     ]
    },
    {
     "name": "stdout",
     "output_type": "stream",
     "text": [
      "generated explanation: <pad> <extra_id_0> Travellers can stretch their legs in a rest area where they can stretch their legs. The rest area is a place where travellers can relax and stretch their legs. The rest area is a place where travellers can stretch their legs and stretch their legs. The rest area is a place where travellers can stretch their legs and stretch their legs. The rest area is a place where travellers can stretch their legs and stretch their legs. The rest area is a place where travellers can stretch their legs and stretch their legs. The rest area is a place to stretch their legs and stretch their legs while a place to stretch their legs and stretch their legs and stretch their legs and stretch their legs and stretch their legs and stretch their legs. The rest area is a place where travellers can also stretch their legs and stretch their legs and stretch their legs and stretch their bodies and muscles and muscles. The rest area is a place to stretch their legs and stretch their bodies and muscles and stretch their bodies and muscles are a place where travellers can stretch their bodies and minds can be a place to stretch their legs and joints and the body and the muscles can be a little longer distances can be a place to stretch their bodies and muscles. The rest area is a place to stretch their legs. The area can be a stretch their legs and stretch their legs and stretch their bodies and stretch their legs and stretch their bodies and stretch their legs. The area is a small distance from the road. The roadsides can be used to stretch their bodies and stretch their legs and stretch their legs and stretch their bodies and stretch their legs. The body can be used to stretch their legs and stretch their legs and stretch their bodies and stretch their legs and stretch their bodies and stretch their bodies and stretch their bodies and stretch their legs. The rest area is a stretch their legs and stretch their legs and stretch their legs. The rest area is a stretch their legs and stretch their legs and stretch their legs and stretch their bodies and stretch their legs and stretch their bodies and stretch their bodies and stretch their bodies and stretch their muscles and stretch their legs and stretch their bodies and stretch their legs and stretch their legs and stretch their legs. The stretch their muscles and stretch their muscles and stretch their bodies. Stretch their legs and stretch their legs and stretch their legs and stretch their legs and stretch their legs and stretch their legs and stretch their bodies and stretch their legs and stretch their legs.</s>\n",
      "########\n",
      "*******\n",
      "question: A poor family has no decorations in December, what would make a great gift?\n",
      "answer: christmas tree\n",
      "choices: ['food', 'specialty store', 'christmas tree', 'department store', 'christmas stocking']\n",
      "common expl list: ['A christmas tree is a traditional decoration for christmas.', 'The family is poor, so we might assume that they have nothing for decoration for their Christmas season. To help fix this, a Christmas tree would be the greatest gift.', 'In December, most families tend to put up christmas decorations. A christmas tree would make a good gift for a poor family.']\n"
     ]
    },
    {
     "name": "stderr",
     "output_type": "stream",
     "text": [
      "\r",
      " 12%|██████████████████▋                                                                                                                                             | 115/986 [1:23:18<15:04:40, 62.32s/it]"
     ]
    },
    {
     "name": "stdout",
     "output_type": "stream",
     "text": [
      "generated explanation: <pad> <extra_id_0>. Christmas tree is a great gift for a poor family. Christmas tree is a great way to give a family a Christmas gift. Christmas Tree is a great way to give a family a Christmas tree. Christmas tree is a great way to give a family a Christmas tree. Christmas tree is a great way to give a family a Christmas gift. Christmas tree is a great way to give a family Christmas tree. Christmas Trees are a great way to give a loved one a Christmas tree is a great way to give a family member to give a gift that they would be a great way to give a Christmas tree is a great way to give a Christmas tree is a great gift that will make a great gift that will be a great gift that will make a Christmas tree is a great gift that will make a great gift that will make a great gift that will make a Christmas tree is a great gift that will</s>\n",
      "########\n",
      "*******\n",
      "question: Where would you buy jeans in a place with a large number of indoor merchants?\n",
      "answer: shopping mall\n",
      "choices: ['shopping mall', 'laundromat', 'hospital', 'clothing store', 'thrift store']\n",
      "common expl list: ['Since malls (or indoor shopping centers in general) contain numerous merchants, including clothing stores, you could purchase jeans in one such store.', 'Shopping malls often have a large number of stores, including clothing stores.', 'Shopping malls usually contain a large variety of stores, including stores that sell clothes and jeans.']\n"
     ]
    },
    {
     "name": "stderr",
     "output_type": "stream",
     "text": [
      "\r",
      " 12%|██████████████████▊                                                                                                                                             | 116/986 [1:23:21<10:44:56, 44.48s/it]"
     ]
    },
    {
     "name": "stdout",
     "output_type": "stream",
     "text": [
      "generated explanation: <pad> <extra_id_0> where to buy jeans. Indoor merchants are the largest sources of clothing for women. They are also the largest source of income for women. They are also the largest source of income for men. They are also the largest source of income for women. They are the largest source of income for women. They are also the largest source of income for women. They are the largest source of income for women. They are the largest source of income for women. They are also the largest source of income for men. They are also the largest source of income for women. They are the largest source of income.</s>\n",
      "########\n",
      "*******\n",
      "question: If I wanted to get some oxygen, what will I get it from?\n",
      "answer: air\n",
      "choices: ['the sky', 'air', 'earth', 'space shuttle', 'water']\n",
      "common expl list: ['Oxygen is found in the air.']\n"
     ]
    },
    {
     "name": "stderr",
     "output_type": "stream",
     "text": [
      "\r",
      " 12%|███████████████████                                                                                                                                              | 117/986 [1:23:33<8:21:48, 34.65s/it]"
     ]
    },
    {
     "name": "stdout",
     "output_type": "stream",
     "text": [
      "generated explanation: <pad> <extra_id_0> oxygen is a natural source of oxygen. It is a natural product that is used to provide oxygen to the body and to the environment. It is also used to provide oxygen to the body and to the environment. It is also used to provide oxygen to the body and to provide oxygen to the body. It is also used to provide oxygen to the body and to provide a sense of security. It is also used to provide oxygen to the body. It is also used to provide oxygen to the body. It is also used to provide oxygen to the body. It is a good source of oxygen. It is used to provide oxygen is a good source of oxygen is a good source of oxygen is a good source of oxygen is a good source of oxygen is a good source of oxygen is oxygen is also used to provide oxygen to the body. It is a good source of oxygen can be used to provide oxygen to the body.</s>\n",
      "########\n",
      "*******\n",
      "question: What happens after having food too much?\n",
      "answer: getting fat\n",
      "choices: ['being full', 'laziness', 'weight gain', 'getting fat', 'will not starve']\n",
      "common expl list: ['People will become fat, and even obese from eating too much food.', 'Eating too much food causes one to become obese.', 'Eating too much food causes one to gain weight, and thus become fat.']\n"
     ]
    },
    {
     "name": "stderr",
     "output_type": "stream",
     "text": [
      "\r",
      " 12%|███████████████████▎                                                                                                                                             | 118/986 [1:23:35<6:02:49, 25.08s/it]"
     ]
    },
    {
     "name": "stdout",
     "output_type": "stream",
     "text": [
      "generated explanation: <pad> <extra_id_0> fat is a common occurrence after eating too much. Fat is a common symptom of eating too much and consuming too little. Fat is also a common cause of obesity and high cholesterol. It is also a risk of developing a condition called a metabolic syndrome. It is a condition that can cause the body to become fat and start to become fat. It is also a condition that can cause the body to become fat and become fat. It is also a condition that can cause the body to become fat and a condition that causes the body to lose fat</s>\n",
      "########\n",
      "*******\n",
      "question: It was the first time they had met their new niece, it was good to have everybody together at the annual what?\n",
      "answer: family reunion\n",
      "choices: [\"brother's house\", 'family picture book', 'family tree', 'family reunion', 'book']\n",
      "common expl list: ['A family reunion is called a family reunion because this is where all of the family members gather for the re-union.']\n"
     ]
    },
    {
     "name": "stderr",
     "output_type": "stream",
     "text": [
      "\r",
      " 12%|███████████████████▍                                                                                                                                             | 119/986 [1:23:48<5:09:27, 21.42s/it]"
     ]
    },
    {
     "name": "stdout",
     "output_type": "stream",
     "text": [
      "generated explanation: <pad> <extra_id_0> Family reunion is a family reunion that is a great way to get the family together and make memories. Family reunion is a family reunion is a family reunion that is a family reunion that is a family reunion that is a family reunion. It was good to have everyone together at the annual family reunion. It was good to have everyone together at the reunion. It was good to have everyone together at the annual family reunion. Family reunion is a family reunion, and it is a family reunion. Family reunion is a family reunion, and it is a family reunion, and it was a family reunion is a family reunion, and it was a family reunion, and it is a family reunion, and it is a family reunion, and it is a family reunion. It was a family reunion is a family reunion, and it was a family reunion, and it is a family reunion.</s>\n",
      "########\n",
      "*******\n",
      "question: If you're expressing yourself in a public forum, what may you experience?\n",
      "answer: stage fright\n",
      "choices: ['danger', 'embarrassment', 'stage fright', 'getting arrested', 'blank stares']\n",
      "common expl list: ['Stage fright is the feeling of embarrassment or nervousness at the thought of being in front of people, and being on stage for a performance is a good example of a place where one often experiences stage fright. In such a case, their performance might be', 'If you are expressing yourself in a public forum, you may experience stage fright, which is the fear of being embarrassed in front of a large audience.', 'A common example of expressing oneself in public is on stage. Members of an audience may stare and become bored, and at worst they may hiss or boo.']\n"
     ]
    },
    {
     "name": "stderr",
     "output_type": "stream",
     "text": [
      "\r",
      " 12%|███████████████████▍                                                                                                                                            | 120/986 [1:27:07<17:58:33, 74.73s/it]"
     ]
    },
    {
     "name": "stdout",
     "output_type": "stream",
     "text": [
      "generated explanation: <pad> <extra_id_0> If you're expressing yourself in a public forum, you may experience stage fright. If you're expressing yourself in a public forum, you may experience stage fright. Stage fright is a common fear of public speaking, but it can also be a sign of a phobia of public speaking. Stage Fright is a common fear of public speaking, and it can be a sign of a fear of speaking out in a public forum. Stage fright can be a stage fright can be a stage fright can be a stage fright, but it can also be a sign of a public forum can also be a sign of a person's public speaking is a sign of a public speaking or public speaking experience. Stage fright, or a public speaking ability to express yourself in a public speaking ability to express your own voice and/or a public speaking ability. Stage Fright can be a public speaking ability to express your own own or a public display your own voice that you're a public display your own stage is a public display your own personal statement to others. Stage a public forum, or a public forum, or a public forum, or a public forum, or a public forum, or a public forum, or a public forum, or a public forum, or a public forum, or a public forum, or a public forum, or a public forum, or a public forum, or a public forum, or a public forum, or a public forum, or a public forum, or a public forum, or a public forum, or a public forum, or a public forum, or a public forum, or a public forum, or a public forum, or a public forum, or a public forum, or a public forum, or a public forum, or a public forum, or a public forum, or a public forum, or a public forum, or a public forum, or even a public forum, a public forum, or a public forum, or a public forum, or a public forum, or a public forum, a public forum, or a public forum, or a public forum, a public\n",
      "########\n",
      "*******\n",
      "question: He was eating too much while no exercising enough, what did he suffer as a result?\n",
      "answer: gain weight\n",
      "choices: ['hungry', 'gas', 'obesity', 'gain weight', 'feeling full']\n",
      "common expl list: ['Excessive food consumption leads to accumulation of fat, which then results in a higher body weight, i.e., weight gain.', \"If you eat too much and don't exercise enough, you will gain weight.\", 'If you eat more than you burn, you gain weight.']\n"
     ]
    },
    {
     "name": "stderr",
     "output_type": "stream",
     "text": [
      "\r",
      " 12%|███████████████████▋                                                                                                                                            | 121/986 [1:27:50<15:36:56, 64.99s/it]"
     ]
    },
    {
     "name": "stdout",
     "output_type": "stream",
     "text": [
      "generated explanation: <pad> <extra_id_0> He was eating too much while no exercising enough. He suffered from gain weight gain. He was eating too much while no exercising enough. He was eating too much while exercising too much and was eating too much. He was eating too much while no exercising enough. He was eating too much while eating too much while no longer exercising enough. He was gaining weight and gained weight by gaining weight while not exercising. A man was gaining weight by eating too much and exercising too little. He was also gaining weight because he was eating too much.. Gain weight gain was gaining weight gain was due to his weight gain. gain was also gaining weight gain was due to gain weight gain was also gain gain was due to gain gained weight gain was due to gain gain gained weight gain gained weight gain was due to gain gain gain gained weight gain was due to gain gain gain was due to gain gain gain was gaining weight gain gain was due to gain gain gain gain gained weight gain gained gain gain gain gain gained weight gain gain gained weight gain gained weight gain was a person gain gain gained gain gained gain gained gain gain gained gain gain gain gain gain gain gain gain gain gain gain gain</s>\n",
      "########\n",
      "*******\n",
      "question: Randy was not doing housework.   His wife was raising two children, and this only increased her workload. It put her under a lot of stress.  What might this lead to?\n",
      "answer: arguments\n",
      "choices: ['asthma', 'more', 'boredom', 'headache', 'arguments']\n",
      "common expl list: ['Stress is often related to family life. Being under stress, the wife might verbally lash out at her husband, which could potentially lead to arguments']\n"
     ]
    },
    {
     "name": "stderr",
     "output_type": "stream",
     "text": [
      "\r",
      " 12%|███████████████████▋                                                                                                                                           | 122/986 [1:30:56<24:19:52, 101.38s/it]"
     ]
    },
    {
     "name": "stdout",
     "output_type": "stream",
     "text": [
      "generated explanation: <pad> <extra_id_0> Randy was not doing housework. He was raising two children, and this put her under stress. This put her under stress. This was a stressful time for her. This was also a time when she was not doing enough housework. This put her under stress. This put her under stress. Arguments are presented in the form of a sentence. Arguments are presented in the form of a sentence. Arguments are presented in the form of a sentence. Randy was not doing housework. Randy was raising two children and was raising two children at the same stress. Randy was raising two children at the same time. This put her workload increased the stress of course, and this increased her stress levels were also increased her stress levels. Arguments are presented in the form of stress. Arguments are presented in a lot of stress could have been a lot. In addition, Randy was also a lot of stress. In the stress of stress meant to be a stress. Stressed stress. In the stress of stress. Stress could also lead to stress. Stressed stress. Stressing was a stress. Stress could lead to stress. Stress could lead to stress. Stressed stress and stress. Stress could also lead to stress. Stress and stress. Stress could have a stress and stress. Stressed stress. Stressed stress. Stressed stress. Stress could also lead to stress and stress. Stress could lead to stress could lead to stress. Stress could lead to stress. Stress could lead to stress, stress, stress and stress. Stressed stress and stress. Stress could lead to stress. Stressed stress and stress could lead to stress and stress. Stress and stress and stress. Stressed Randy was also stress. Stress and stress. Stressed out Randy was under stress. Stressed stress. Stressed stress and stress. Stress was a stress. Stressed stress. Stress could lead to stress and stress. Stress could lead to stress, stress, and stress-related stress. Stressed stress and stress. Stress can lead to stress, and stress can lead to stress, stress, stress, stress and stress. Stressed-related stress. Stressed stress levels were high. Stress could lead to stress. Stressed stress, stress, and stress. Stress can lead to stress. Stressed stress. Stress can lead to stress and stress. Stressed husband and wife and wife stress\n",
      "########\n",
      "*******\n",
      "question: Where can you learn about a ferret with special abilities far beyond normal ferrets?\n",
      "answer: comic book\n",
      "choices: ['comic book', 'out of doors', 'great britain', 'redwall', 'north carolina']\n",
      "common expl list: ['ferrets are lovable pets that occasionally pop up in comic or animated shows and movies. Occasionally a ferret is rodent, but more often they are the companion of a hero.']\n"
     ]
    },
    {
     "name": "stderr",
     "output_type": "stream",
     "text": [
      "\r",
      " 12%|███████████████████▉                                                                                                                                            | 123/986 [1:30:59<17:15:16, 71.98s/it]"
     ]
    },
    {
     "name": "stdout",
     "output_type": "stream",
     "text": [
      "generated explanation: <pad> <extra_id_0> s and information about the characters. The ferrets are a ferret with special abilities beyond the normal ferrets. The ferrets are a ferret with special abilities and abilities that are not necessarily found in the ferret. The ferret is a ferret with special abilities and abilities. The ferret is a ferret with special abilities and abilities that are not found in ferrets. The ferret has special abilities and special abilities. The ferrets can be seen in comic books. The ferrets are also known as the ferret is a ferret has special abilities and abilities.</s>\n",
      "########\n",
      "*******\n",
      "question: When people have guests over, what do they often do for their guests?\n",
      "answer: cook food\n",
      "choices: ['talk to each other', 'learn from each other', 'demand justice', 'cook food', 'share food']\n",
      "common expl list: [\"When people have guests over, it's common for them to make food for their guests.\", 'People often cook food for their guests.', \"It's common to cook food for guests, which can feed everyone.\", \"People often prepare and share food because it's a way to welcome and appreciate each other.\", \"People who have guests (guests of any kind) over tend to cook them food. The food can either be pre-cooked, and ready to be served upon the guest's arrival, or consumed while the two of them have a conversation.\"]\n"
     ]
    },
    {
     "name": "stderr",
     "output_type": "stream",
     "text": [
      "\r",
      " 13%|███████████████████▉                                                                                                                                           | 124/986 [1:34:06<25:27:34, 106.33s/it]"
     ]
    },
    {
     "name": "stdout",
     "output_type": "stream",
     "text": [
      "generated explanation: <pad> <extra_id_0> Cook food and beverages. Cook food and beverages are often used to serve guests over. Guests are invited to the house to enjoy the evening. The cooks will prepare food and beverages for guests to enjoy. The cooks will also prepare food for guests to enjoy. The cooks will prepare food and beverages for guests to enjoy. The cooks will prepare food and beverages for guests to enjoy. The cooks will also prepare food and beverages for guests to enjoy. The cooks will also prepare food and beverages for guests to enjoy. The cooks will prepare the food and beverages for guests to enjoy the food and beverages. The cooks will prepare food and beverages will be prepared and prepare the food and beverages are prepared in a variety of food and beverages will be served. The cooks will also prepare the food and beverages will be prepared in a variety of dishes and beverages are prepared in advance. The cooks will prepare the food and beverages that they will prepare the food and beverages that are prepared in advance. The cooks will prepare food and beverages will prepare the food and drink. The cook the food and drink will be served. The cooks will be prepared in advance. The cook the food and drink will be served to the guests will prepare the food and drink. The guests will also prepare the food and drink will be served to the guests will be served to them. The food and beverages will be served to them. The cook the food and drink will be served to them. The guests will be served to their guests. The food and drink will be served to them. The food and beverages will be served to them. The food and beverages will be served to them. The food and drink will be served to them a variety of foods are prepared and serve them. The food and drink will be served to them. The guests will be served to them meals will be served to them a special dish. The guests will be served. The food will be served to them will be served to them. The cook the food will be served will be served to them. The cook the food will be served to them. The cook the food will be served to them. The food is prepared and served to them. The cook the food will be served to them. The food will be prepared to serve them. The food will be served to them. The food will be prepared and prepared in a variety of dishes to be served to them. The food will be served to them. The food will be prepared in\n",
      "########\n",
      "*******\n",
      "question: Talking to someone is pointless if they're doing what?\n",
      "answer: not listening\n",
      "choices: ['dry mouth', 'whispering', 'being heard', 'eye contact', 'not listening']\n",
      "common expl list: ['People who are not listening to you will obviously not be able to understand your communication.', 'To be engaged in a conversation--particularly a one-on-one conversation, both people must be listening attentively.']\n"
     ]
    },
    {
     "name": "stderr",
     "output_type": "stream",
     "text": [
      "\r",
      " 13%|████████████████████▎                                                                                                                                           | 125/986 [1:34:06<17:50:52, 74.63s/it]"
     ]
    },
    {
     "name": "stdout",
     "output_type": "stream",
     "text": [
      "generated explanation: <pad> <extra_id_0>. Not listening is not listening. Not listening is not listening to someone. Not listening is a good way to avoid talking to someone. Not listening is a good way to avoid talking to someone.</s>\n",
      "########\n",
      "*******\n",
      "question: If you are enjoying sunshine on the beach, what do you likely have views of?\n",
      "answer: sea\n",
      "choices: ['windowsill', 'sunbathers', 'disneyland', 'sea', 'summer']\n",
      "common expl list: ['To sunbathe, one would likely be found on a beach, where one would likely see the sea before anything else.', \"The beach is a place where people go to enjoy the sun, and so it's likely that the beach would have views of the sea.\", 'Seashores usually have views of the water (i.e., the \"sea\").']\n"
     ]
    },
    {
     "name": "stderr",
     "output_type": "stream",
     "text": [
      "\r",
      " 13%|████████████████████▍                                                                                                                                           | 126/986 [1:34:10<12:42:41, 53.21s/it]"
     ]
    },
    {
     "name": "stdout",
     "output_type": "stream",
     "text": [
      "generated explanation: <pad> During the summer months, you may have a view of the sea. The sun is reflected in the sun and the sea. The sun is a great place to enjoy the sun and the sun. The sun is a great place to enjoy the sun and the sea. The sun is also a great place to enjoy the sun and the fresh air. The sun is also a great place to enjoy the sun and the fresh air. The sun is a great place to relax and enjoy the sun. The beach is a great place to relax and enjoy the sun, and the sea is also a great place to enjoy the sea is also a great deal of marine life. The sunbae is also a great place to enjoy the sea.</s>\n",
      "########\n",
      "*******\n",
      "question: What does an actor do while acting?\n",
      "answer: pretend\n",
      "choices: ['branch out', 'eat curry', 'wear costume', 'pretend', 'sing songs']\n",
      "common expl list: ['Actors pretend certain things. While acting, they might pretend to be in a different location by going somewhere close to a stage feed. Actors might also pretend to possess particular materials while on stage by carrying props.']\n"
     ]
    },
    {
     "name": "stderr",
     "output_type": "stream",
     "text": [
      "\r",
      " 13%|████████████████████▋                                                                                                                                            | 127/986 [1:34:12<9:03:15, 37.95s/it]"
     ]
    },
    {
     "name": "stdout",
     "output_type": "stream",
     "text": [
      "generated explanation: <pad> <extra_id_0> Actors are portrayed as actors while acting. They act as actors are portrayed as actors who act as actors, acting and acting. They act as actors while acting, pretending to be acting, and pretend to be acting, acting and acting. They act as actors, pretend to be acting, pretend to be acting, pretend to be acting, and pretend to be a real person. They act as actors, pretend to be actors, pretend to be actors, pretend to be actors, pretend to be actors, and pretend to be acting, pretend to be actors, pretend to be</s>\n",
      "########\n",
      "*******\n",
      "question: Where is a ring binder likely to contain budgets?\n",
      "answer: office\n",
      "choices: ['office', 'notebook', 'school', 'stationary shop', 'desk']\n",
      "common expl list: ['An office setting is the most likely place where a manager would keep a collection of budgets.', 'A ring binder is likely to contain budgets in an office, as budgets are often prepared by office workers.']\n"
     ]
    },
    {
     "name": "stderr",
     "output_type": "stream",
     "text": [
      " 13%|████████████████████▉                                                                                                                                           | 129/986 [1:37:22<13:55:09, 58.47s/it]"
     ]
    },
    {
     "name": "stdout",
     "output_type": "stream",
     "text": [
      "generated explanation: <pad> <extra_id_0> Office budget binder is a ring binder that contains budgets. Office budget binder is a ring binder that contains budgets and other information. Office budget binder is a binder that contains budgets and other information. Office budgets are important to the office and are important to the office. Office budgets are important to the office and to the office. Office budgets are important because they are important to the office. Office budgets are important because they are a valuable tool. Office budget binder is a great way of containing budgets that are a business can be used to keep records of the budgets are a valuable tool that contains budgets are a ring binder is a budgeting tool that contains budgets are also a great way of keeping a budgeting tool that can be used to keep budgets are a good tool that can be used to keep a good thing. Office budgeting tool is a budgeting tool is a great way of storing budgeting tool that can be used to keep track of the budgeting tool that can be used to keep track of the budgeting tool that can be used to keep track of the budgeting tool. Office budgeting tool can be used to keep track track track record the budgeting tool that can be used to keep track of the budgets and the budgets and the budgets and the budgeting tool that can be used to keep track of the budgeting tool. Office budgeting tool that can be used to keep track of the budgeting tool to keep track of the budgeting tool to keep track of the budgeting tool to keep track of the budgeting tool to keep track of the budgets and tracking information. Office a budgets and tracking and tracking information is a record of the budgets and tracking information for the office’s information in a record. Office Offices and the office’s financial information in a budgets and the budgets and the budgets and budgets and the office’s financial information and the budgets and the budgets and the budgets and the budgets and the budgets and the budgets and the budgets and the budgets and the budgets and the budgets and the budgets and the budgets and budgets and budgets and budgets and budgets and budgets and budgets and budgets and budgets and budgets and budgets and budgets and budgets\n",
      "########\n",
      "*******\n",
      "question: Where do you go when you're about to board a vehicle on railing?\n",
      "answer: railway station\n",
      "choices: ['railway station', 'deck', 'flight of stairs', 'porch', 'bus station']\n",
      "common expl list: ['Railway stations are where you board trains, which are often on rails.', 'Trains and busses both commonly make use of rail transportation to facilitate their travel. Railway station is the station they are staking out to board at. Thus, railway station is where you would go if you need to board a vehicle on a']\n",
      "generated explanation: <pad> railway station explanation and application</s>\n",
      "########\n",
      "*******\n",
      "question: Where can I go to see a really big toy balloon floating at the top of a dome?\n",
      "answer: circus\n",
      "choices: ['parade', 'circus', 'amusement park', 'birthday party', 'magic show']\n",
      "common expl list: ['Circuses often have big inflatables on the top dome of a tent; inside, they could house various attractions such as clowns, acts, games, rides, food, drinks, etc.']\n"
     ]
    },
    {
     "name": "stderr",
     "output_type": "stream",
     "text": [
      "\r",
      " 13%|█████████████████████                                                                                                                                           | 130/986 [1:38:37<15:04:17, 63.38s/it]"
     ]
    },
    {
     "name": "stdout",
     "output_type": "stream",
     "text": [
      "generated explanation: <pad> <extra_id_0> of circus balloons. Toy balloons are a fun and exciting activity for kids and adults alike. Toy balloons are a fun and exciting way to get a taste of the circus. Toy balloons are a fun and exciting way to see a balloon in the sky. Toy balloons are a great way to see the world go by and help you make a great circus experience. Toy balloons are a great way to see a circus. Toy balloons are a great way to see the world through the world through the world through the world through the world through the world through the world through the world of balloons are a great way to see balloons are a great way to see a balloons are a great way of showing the world through the world of the world through the world through the world through the world through the world through the world through the world through the world through the world through the world. The world of the world through the world through the world of the world of the world, the world through the world through the world, the world through the world, the world through the world through the world, the world through the world, the world through the world through the world, the world through the world through the eyes, the world through the world, and the world through the world, the world through the world through the world, the world through the world, the world through the world, the world through the world, the world through the world, the</s>\n",
      "########\n",
      "*******\n",
      "question: They got to the door and it was locked, he reached in his jeans what to retrieve the key?\n",
      "answer: pocket\n",
      "choices: ['pocket', 'bus depot', 'lock', 'purse', 'front door']\n",
      "common expl list: ['People often keep their keys in their pockets.', 'Most people keep house keys in their pocket.']\n"
     ]
    },
    {
     "name": "stderr",
     "output_type": "stream",
     "text": [
      "\r",
      " 13%|█████████████████████▎                                                                                                                                          | 131/986 [1:39:03<12:26:00, 52.35s/it]"
     ]
    },
    {
     "name": "stdout",
     "output_type": "stream",
     "text": [
      "generated explanation: <pad> <extra_id_0> The key is located in the pocket of the jeans. The key is located in the pocket of the jeans. The key is located in the pocket of the jeans. The key is located in the pocket of the jeans. The key is located in the pocket of the jeans. The key is located in the pocket of the jeans and is a key to the pocket. The key is located in the pocket of the jeans. The key is located in the pocket of the jeans. The key is located in the pocket of the jeans. The key is located in the pocket of the pocket of the pocket of the jeans are located in the pocket is located in the pocket is located in the pocket is also located in the pocket is located in the pocket is located in the pocket is located in the pocket is located in the pocket is the key is located in the pocket is located in the pocket is also located in the pocket is located in the pocket is located in the pocket is located in the pocket is located in the pocket is located in the pocket is located in the pocket is also located in the pocket is</s>\n",
      "########\n",
      "*******\n",
      "question: The car was overheating, where was it located?\n",
      "answer: in phoenix\n",
      "choices: ['airport', \"neighbor's house\", 'in phoenix', 'repair shop', 'street corner']\n",
      "common expl list: ['Phoenix is a hot place, and cars often overheat there.']\n"
     ]
    },
    {
     "name": "stderr",
     "output_type": "stream",
     "text": [
      "\r",
      " 13%|█████████████████████▌                                                                                                                                           | 132/986 [1:39:04<8:43:22, 36.77s/it]"
     ]
    },
    {
     "name": "stdout",
     "output_type": "stream",
     "text": [
      "generated explanation: <pad> <extra_id_0> The car was overheating, where was it located? The car was overheating, where was it located?</s>\n",
      "########\n",
      "*******\n",
      "question: Where is likely to have a walk in type wardrobe?\n",
      "answer: mansion\n",
      "choices: ['recreational vehicle', 'clothes cupboard', 'house', 'mansion', 'bedroom']\n",
      "common expl list: ['A walk in wardrobe is a large type of closet that could be found in a mansion.', 'As I think of scenarios, the result I expect the most is that of a person with a lot of clothes, or a clothing designer, living in a mansion; these people might have the luxury of a walk in wardrobe.', 'A walk-in wardrobe is a large wardrobe that is usually found in a mansion.']\n"
     ]
    },
    {
     "name": "stderr",
     "output_type": "stream",
     "text": [
      "\r",
      " 13%|█████████████████████▋                                                                                                                                           | 133/986 [1:39:07<6:18:25, 26.62s/it]"
     ]
    },
    {
     "name": "stdout",
     "output_type": "stream",
     "text": [
      "generated explanation: <pad> <extra_id_0> The walk in type wardrobe is likely to be found in a mansion or in a house. The walk in wardrobe is likely to be found in a mansion or in a house. The walk in wardrobe is likely to be found in a mansion or in a house. The walk in wardrobe is likely to be found in a mansion or mansion. The walk in wardrobe is likely to be found in a mansion or house. The walk in wardrobe is likely to be found in a mansion or house. Walk in wardrobe is likely to have a walk in style.</s>\n",
      "########\n",
      "*******\n",
      "question: How bad is the punishment for someone who is over indulgent?\n",
      "answer: severe\n",
      "choices: ['severe', 'harsh', 'hard', 'strict', 'self denying']\n",
      "common expl list: ['Overindulgence in anything is bad, possibly leading to lethargy, poor health, overspending, and the like. As a result of this, a punishment for a person who is over-indulgent could be severe.']\n"
     ]
    },
    {
     "name": "stderr",
     "output_type": "stream",
     "text": [
      "\r",
      " 14%|█████████████████████▉                                                                                                                                           | 134/986 [1:39:30<6:05:43, 25.76s/it]"
     ]
    },
    {
     "name": "stdout",
     "output_type": "stream",
     "text": [
      "generated explanation: <pad> <extra_id_0>. The punishment for someone who is over indulgent is severe punishment. The punishment is severe because the person is over indulgent and over indulgent. The punishment is severe punishment for someone who is over indulgent and over indulgent. The punishment is severe punishment for someone who is over indulgent and over indulgent. The punishment is severe because the person is over indulgent and over indulgent in their indulgence. The punishment is severe. The punishment is severe and severe. The punishment is severe and the person is punished. The punishment is severe punishment is the person is punished for being over indulgent is punished. The person who is punished for over indulgent is punishable. The punishment is punished for excesses are punishable. The punishment is punishable and punished for excess indulgent is punishable to be punished for excess is a punishment for excess indulgence is punishable. The punishment is punishable in the case, and the person is punished is punishable.</s>\n",
      "########\n",
      "*******\n",
      "question: She was going to bed at 11 at night, what was she looking to do?\n",
      "answer: falling asleep\n",
      "choices: ['falling asleep', 'relaxing', 'rest', 'dreaming of', 'laziness']\n",
      "common expl list: ['Falling asleep is often a desired result when going to bed.', \"People go to bed when they're tired and want to sleep\"]\n"
     ]
    },
    {
     "name": "stderr",
     "output_type": "stream",
     "text": [
      "\r",
      " 14%|██████████████████████                                                                                                                                           | 135/986 [1:40:06<6:49:24, 28.87s/it]"
     ]
    },
    {
     "name": "stdout",
     "output_type": "stream",
     "text": [
      "generated explanation: <pad> <extra_id_0> Sleeping is a very important part of her life. It is also important to understand that she is not going to sleep at night. It is important to understand that she is going to sleep at night. It is important to understand that she is going to sleep at night. It is important to understand that she is going to sleep at night. It is important to understand that she is going to sleep at night. It is important to understand that she is going to sleep at night. It is important to understand that she is going to sleep at night. It is important to understand that she is going to sleep at night time, and that she is going to sleep at night. It is important to understand that she is going to sleep at night to be able to understand that she is going to sleep at night, and that she will also be able to understand that she will also be able to understand that she will also be able to understand that she will be able to understand that she will also be able to understand that she will be able to understand her feelings and emotions that she will also be able to understand her own way to do so.</s>\n",
      "########\n",
      "*******\n",
      "question: A company with the moniker of Big Sky Excavation would probably be found where?\n",
      "answer: montana\n",
      "choices: ['a forest', 'city', 'egypt', 'montana', 'desert']\n",
      "common expl list: ['Mountain ranges are often called \"big sky\"s. The term is popular for companies in Montana, a state with lots of mountians, including two major mountain ranges.']\n"
     ]
    },
    {
     "name": "stderr",
     "output_type": "stream",
     "text": [
      "\r",
      " 14%|██████████████████████▏                                                                                                                                          | 136/986 [1:40:07<4:48:06, 20.34s/it]"
     ]
    },
    {
     "name": "stdout",
     "output_type": "stream",
     "text": [
      "generated explanation: <pad> <extra_id_0> Why Big Sky Excavation would be found where? A company with the name Big Sky Excavation would probably be found where</s>\n",
      "########\n",
      "*******\n",
      "question: Which horseman of the apocalypse is often depicted next to death?\n",
      "answer: war\n",
      "choices: ['battlefield', 'the healer.', 'funeral', 'war', 'hospital']\n",
      "common expl list: ['A time of war is also often associated with someone dying.']\n"
     ]
    },
    {
     "name": "stderr",
     "output_type": "stream",
     "text": [
      "\r",
      " 14%|██████████████████████▎                                                                                                                                          | 137/986 [1:40:11<3:37:24, 15.36s/it]"
     ]
    },
    {
     "name": "stdout",
     "output_type": "stream",
     "text": [
      "generated explanation: <pad> <extra_id_0> s are often used to describe the wars that have taken place in the world. They are often depicted as the horseman of the apocalypse, apocalyptic wars, and the apocalypse. The horseman of the apocalypse is often depicted as the horseman of war. The horseman of war is often depicted next to death. The horseman of the apocalypse is often described as the horseman of war. The horseman of war. The horseman of war is also often depicted as the horseman of war. The horseman of war. The horseman of war. The horseman of war is often depicted next to death is the horseman of war.</s>\n",
      "########\n",
      "*******\n",
      "question: What could be used to write with a steel pen?\n",
      "answer: hand\n",
      "choices: ['warehouse', 'arm', 'hand', 'desk drawer', 'veterinary office']\n",
      "common expl list: ['you write with a steel pen using your hand.', 'Using a steel pen requires someone to hold it, and we associate writing with hands. Powder can be used with steel pens as a \"contrast medium.']\n"
     ]
    },
    {
     "name": "stderr",
     "output_type": "stream",
     "text": [
      "\r",
      " 14%|██████████████████████▍                                                                                                                                         | 138/986 [1:42:10<10:57:05, 46.49s/it]"
     ]
    },
    {
     "name": "stdout",
     "output_type": "stream",
     "text": [
      "generated explanation: <pad> <extra_id_0> A steel pen is a great tool to use when writing. It can be used to write with a steel pen. The steel pen is a steel pen that is used to write with a steel pen. The steel pen can be used to write with a steel pen. The steel pen is a steel pen that is used to write with a steel pen. The steel pen is used to write with a steel pen. The steel pen is used to write with a steel pen. The steel pen is used to write with a steel pen is used to write with a steel pen. The steel pen is also used to write with a steel pen is used to write with a steel pen is also used to write with a steel pen. The steel pen is used to write with a steel pen. The steel pen is used to write with a steel pen. The steel pen is used to write with a steel pen, which is used to write with a steel pen. The steel pen is used to write with a steel pen, which is used to write with a steel pen. Steel pen is also used to write with a steel pen. The steel pen is also used to write with a steel pen to write with a steel pen to write with a steel pen. The steel pen. The steel pen is used to write with a steel pen. Steel pen is used to write with a steel pen to write with a steel pen to write with a steel pen to write with a steel pen to write with a steel pen to write with a steel pen to write with a steel pen to write with a steel pen to write with a steel pen to write with a steel pen to write with a steel pen to write with a steel pen to write with a steel pen to write with a steel pen to write with a steel pen to write with </s>\n",
      "########\n",
      "*******\n",
      "question: I needed to find out how to contact a person with a certain name, where should I look?\n",
      "answer: phone book\n",
      "choices: ['directory', 'michigan', 'roster', 'phone book', 'certificate']\n",
      "common expl list: ['Phone books are usually a good source for finding phone numbers to call other people.', 'People are listed in phone books for easy access by callers.', \"Phone books are used to find people's phone numbers.\", 'A phone book is likely to have the phone numbers of nearby people.']\n"
     ]
    },
    {
     "name": "stderr",
     "output_type": "stream",
     "text": [
      "\r",
      " 14%|██████████████████████▋                                                                                                                                          | 139/986 [1:42:12<7:47:45, 33.14s/it]"
     ]
    },
    {
     "name": "stdout",
     "output_type": "stream",
     "text": [
      "generated explanation: <pad> <extra_id_0> A phone book is a great resource for anyone who wants to find out more about a person with a certain name. It is a great place to start a conversation about a certain topic, such as phone book, or a certain person. A phone book is a great tool to help you with this information. It is a great place to find out how to contact a person with a certain name. It is also a great place to find out how to contact a person with a certain name.</s>\n",
      "########\n",
      "*******\n",
      "question: What is important for a couple to do?\n",
      "answer: communicate\n",
      "choices: ['live together', 'row about', 'plan to marry', 'communicate', 'marry each other']\n",
      "common expl list: ['Communication is a key part of a healthy relationship and - often equally as important - is the commitment to communicate effectively.', \"To make a relationship work, it's very important to communicate with each other.\", 'Couples who communicate well are more likely to stay together, and thus, it is important for a couple to communicate.']\n"
     ]
    },
    {
     "name": "stderr",
     "output_type": "stream",
     "text": [
      "\r",
      " 14%|██████████████████████▊                                                                                                                                          | 140/986 [1:42:19<5:58:25, 25.42s/it]"
     ]
    },
    {
     "name": "stdout",
     "output_type": "stream",
     "text": [
      "generated explanation: <pad> <extra_id_0> s of what is important for a couple to do? Explain why a couple is important for a couple to do? Explain why a couple is important for a couple to do something. Explain why a couple is important for a couple to do something important. Explain why it is important for a couple to communicate. Explain why it is important for a couple to communicate their feelings and thoughts. Explain why a couple should communicate their feelings and thoughts to their spouse and friends. Explain why a couple should communicate their feelings and thoughts to their feelings. A couple should communicate their feelings and thoughts. A couple should be important for a couple to communicate their feelings and thoughts to their feelings and thoughts and feelings to each other and to be able to communicate their feelings and thoughts and feelings and thoughts and feelings and thoughts. a couple should be able to communicate their feelings and feelings and emotions.</s>\n",
      "########\n",
      "*******\n",
      "question: The botanist knew the plant was living, what did he observe that led him to know that?\n",
      "answer: respiration\n",
      "choices: ['interaction', 'death', 'respiration', 'expiration', 'chlorophyll']\n",
      "common expl list: [\"The teacher commonly noted that plants give off oxygen as a result of respiration, which helps fuel their energy and growth. This was evidence of a plant's life.\"]\n"
     ]
    },
    {
     "name": "stderr",
     "output_type": "stream",
     "text": [
      "\r",
      " 14%|███████████████████████                                                                                                                                          | 141/986 [1:43:05<7:25:59, 31.67s/it]"
     ]
    },
    {
     "name": "stdout",
     "output_type": "stream",
     "text": [
      "generated explanation: <pad> <extra_id_0> The botanist knew the plant was living. The plant was living. The plant was living, and the plant was living. The plant was living. The plant was living. The plant was living. The plant was living. The plant was living, and the plant was living. The plant was alive. The plant was living. The plant was living, and the plant was living. The plant was living. The plant was living. The plant was living. The plant was living. The plant was living. The plant was living, and the plant was living. The plant was living. The plant was living. The plant was breathing. The plant was living. The plant was living. The plant was living. The plant was living. The plant was living. The plant was living, breathing, and breathing. The plant was living. The plant was living. The plant was living. The plant was living. The plant was living. The plant was living. The plant was living. The plant was living. The plant was living. The plant was living. The plant was living. The plant was living. The plant was living. The plant was living. The plant was living. The plant was living, breathing, the plant was living. The plant was living.</s>\n",
      "########\n",
      "*******\n",
      "question: What is it called when teens are together not doing anything in particular?\n",
      "answer: hang out\n",
      "choices: ['smoke', 'homework', 'volunteer', 'party', 'hang out']\n",
      "common expl list: ['Hang out is a term that could be used for teens hanging out together, typically with no particular agenda.', 'Hanging out\" is used to describe events where people are socializing, doing nothing in particular. Other events include hanging out with a purpose (doing homework, studying outside, going shopping, etc.).']\n"
     ]
    },
    {
     "name": "stderr",
     "output_type": "stream",
     "text": [
      "\r",
      " 14%|███████████████████████▏                                                                                                                                         | 142/986 [1:43:52<8:27:23, 36.07s/it]"
     ]
    },
    {
     "name": "stdout",
     "output_type": "stream",
     "text": [
      "generated explanation: <pad> a hang out is a group of teens who are not doing anything. They are also known as hang outs because they are a group of teens who are not doing anything at all. They are also known as hangouts because they are friends and they are often friends. They are also known as hangouts because they are a group of teens who are together and not doing anything. Hangouts are often a form of social interaction where teens are able to communicate and have fun together. Hangouts are a group of teens who are not doing whatever they are doing. hangouts are a group of teens who are able to talk to each other and are a group of teens. They are often a group of teens. hang out with friends and are often a group of people who are able to communicate and are able to communicate and are often a group of friends and are a group of teens who are able to communicate and can be a group of teens who are able to make friends and are able to communicate and can also be able to communicate. Hang out as a group of teens and can be a group of teens and can be a group of teens.</s>\n",
      "########\n",
      "*******\n",
      "question: The saw was not necessary for car repair, so what wasn't it included with during pucrhase?\n",
      "answer: tool kit\n",
      "choices: ['tool shed', 'tool box', 'tool kit', 'hardware store', 'toolbox']\n",
      "common expl list: ['A saw is another name for a cutting tool, but they are often not included with a tool kit, because a kit is used for other repair needs (bolts, screws, bindings, etc.), and a saw is not required for a car repair']\n"
     ]
    },
    {
     "name": "stderr",
     "output_type": "stream",
     "text": [
      "\r",
      " 15%|███████████████████████▎                                                                                                                                         | 143/986 [1:43:52<5:56:04, 25.34s/it]"
     ]
    },
    {
     "name": "stdout",
     "output_type": "stream",
     "text": [
      "generated explanation: <pad> <extra_id_0> The saw was not necessary for car repair, so what was included in it?</s>\n",
      "########\n",
      "*******\n",
      "question: Where will my kid put their coin in their room?\n",
      "answer: piggy bank\n",
      "choices: ['piggy bank', 'wishing well', 'parking meter', 'under pillow', 'change purse']\n",
      "common expl list: ['Kids commonly save small amounts of money for later use, and these savings are often kept in piggy banks.', 'Piggy banks are often used to store coins.']\n"
     ]
    },
    {
     "name": "stderr",
     "output_type": "stream",
     "text": [
      "\r",
      " 15%|███████████████████████▎                                                                                                                                        | 144/986 [1:45:52<12:32:11, 53.60s/it]"
     ]
    },
    {
     "name": "stdout",
     "output_type": "stream",
     "text": [
      "generated explanation: <pad> <extra_id_0>. Coins are placed in the room of the child. They will be given a coin to use as a gift. The coin will be placed in the room of the child. The coin will be used to help them with homework and homework. The coin will be used to help them to make money and to make money. The coin will be used as a gift to help them to make money. The coin will be used to make money and to help them to make money. The coin will be used to make money and to help them to make money by using the coin to make money by being used to help them to be able to use their coin to make money by using the coin to make money and to make money by using it will help them to make money by using the coin to make their coin to help them to make money by a gift to help them to make money by a child to make money. The coin to help them to make their money. The coin to help them to make money. The coin to make a child's money to make their coin to make a child's future coin to make a child's money. The coin to help them to make their own money by a money by a home. The coin to make money. The coin to make a home. The coin to help them to make their coin to make their coin to make them a home. The coin to make their coin to make their money. The coin to make their coin to make their coin to make their coin to make their coin to make their coin to make their coin to make their coin to make their coin to make their coin to make their coin to make their coin to make their coin to make their coin to make their coin to make their coin to make their coin to make their coin to make their coin to make their coin to make their coin to make their coin to make their coin to make their coin to make their coin to make their coin to make their coin to make their coin to make their coin to make</s>\n",
      "########\n",
      "*******\n",
      "question: Where is a fire extinguisher likely to be found behind the seat?\n",
      "answer: school bus\n",
      "choices: ['school bus', 'house', 'garden', 'stairwell', 'garage']\n",
      "common expl list: ['Fire extinguishers are required on public-transit vehicles, such as school buses.']\n"
     ]
    },
    {
     "name": "stderr",
     "output_type": "stream",
     "text": [
      "\r",
      " 15%|███████████████████████▌                                                                                                                                        | 145/986 [1:48:17<18:56:06, 81.05s/it]"
     ]
    },
    {
     "name": "stdout",
     "output_type": "stream",
     "text": [
      "generated explanation: <pad> <extra_id_0> s school bus seats are often used for safety reasons. School bus seats are often used for safety reasons. School buses are often used for safety reasons. School bus fire extinguishers are found behind seats of seats. School bus seats are used for safety reasons. School buses are used for safety reasons. School buses are used for safety reasons. School buses are used for safety reasons. School buses are used for safety reasons. School buses are used for school bus seats. School buses are used for safety reasons. School buses are used for safety reasons. School buses are used for safety reasons. School bus seats are used for safety reasons. School bus seats are used for safety reasons, school buses are used for safety reasons, and school buses are used for safety reasons. School buses are used for safety reasons for safety reasons such as a school bus seats are used for safety reasons. School buses are used for school buses are used for school buses are used for safety reasons. School buses are used for safety reasons that school buses are used for safety reasons. School buses are used to be used to protect students’ safety is used to fire extinguishers are used to protect students’ children are also used to protect their children. School buses are used to protect children’s safety. School buses are used to protect children’s safety is used to protect children’s safety is used to protect students’ safety and security. School buses are used to protect students’ safety. School buses are used to protect children’s safety is used to protect their safety. School buses are used to protect students are used to keep students safe. School buses are used to be used to keep the bus is used to keep fire extinguishing fire extinguishing fire extinguishing fire extinguishing fire extinguishing fire extinguishing fire extinguishing fire extinguishing fire extinguishing fire extinguishing fire extinguishing fire extinguishing fire extinguishing fire extinguishing fires are used to protect the bus is</s>\n",
      "########\n",
      "*******\n",
      "question: His therapist said he had to get out there and begin socialising, it was the only was to start what?\n",
      "answer: friendships\n",
      "choices: ['conflicts', 'having fun', 'jealousy', 'getting out there', 'friendships']\n",
      "common expl list: ['Interacting with other people socially is likely to result in making new friends.', 'His therapist said that he needed to speak to people if he wanted to be less withdrawn. This would help him to get out of his shell.']\n"
     ]
    },
    {
     "name": "stderr",
     "output_type": "stream",
     "text": [
      "\r",
      " 15%|███████████████████████▋                                                                                                                                        | 146/986 [1:48:47<15:20:31, 65.75s/it]"
     ]
    },
    {
     "name": "stdout",
     "output_type": "stream",
     "text": [
      "generated explanation: <pad> therapists say he had to get out there and start socialising. He said he had to start socialising. He also said he had to start a friendship. This was the only way to start socialising. He was able to start socialising with people he knew. He was able to start socialising by putting people in groups and start socialising with others. It was the only way to start a friendship. He was able to start a friendship and start a friendship. It was the only way to start a friendships that he could start friendships that he could start a friendships that he could start a friendships that he could start a friendships that he could start friendships that he could start friendships that would be a friendships that would be able to start friendships that would be able to start friendships that would be able to start a friendships that would be able to start friendships that would be able to start friendships</s>\n",
      "########\n",
      "*******\n",
      "question: What is likely true about a dog that escapes regularly?\n",
      "answer: very smart\n",
      "choices: ['very smart', 'very loyal', 'tired', 'friendly', 'faithful']\n",
      "common expl list: ['Intelligent dogs (especially when concerned with food and treats) who are looking for some form of freedom will have the intelligence to escape regularly.']\n"
     ]
    },
    {
     "name": "stderr",
     "output_type": "stream",
     "text": [
      "\r",
      " 15%|███████████████████████▊                                                                                                                                        | 147/986 [1:48:52<11:04:54, 47.55s/it]"
     ]
    },
    {
     "name": "stdout",
     "output_type": "stream",
     "text": [
      "generated explanation: <pad> <extra_id_0> : A dog that escapes regularly is a very smart dog. Answer: A dog that escapes regularly is a smart dog. It is a smart dog. It is a smart dog that is very smart and has a good sense of humor. Answer: A dog that escapes regularly is a smart dog. It is also a smart dog. It is a dog that is smart and has a good temperament. It is a dog that is a dog that is able to manage his own territory. It is a dog that escapes regularly is able to manages to manage his behavior is able to manage his dog's behavior is able to manage his behavior and can be a smart dog.</s>\n",
      "########\n",
      "*******\n",
      "question: If you're going to a party in an alley, what is likely to happen?\n",
      "answer: doing drugs\n",
      "choices: ['call the police', 'doing drugs', 'new contacts', 'making new friends', 'plan']\n",
      "common expl list: ['People going to parties in an alley are often going to do drugs and vice.', 'Alleys are associated with crime; and, people performing illegal drugs at a party is illegal.', 'People often do drugs at parties, and alleys are often used for parties.']\n"
     ]
    },
    {
     "name": "stderr",
     "output_type": "stream",
     "text": [
      "\r",
      " 15%|████████████████████████▏                                                                                                                                        | 148/986 [1:48:52<7:46:17, 33.39s/it]"
     ]
    },
    {
     "name": "stdout",
     "output_type": "stream",
     "text": [
      "generated explanation: <pad> <extra_id_0> If you're going to an alley, what is likely to happen?</s>\n",
      "########\n",
      "*******\n",
      "question: The man was very tired and sore, he decided to stay in bed to what?\n",
      "answer: rest more\n",
      "choices: ['rest more', 'lazy', 'were sick', 'to be sick', \"you're sick\"]\n",
      "common expl list: ['The man was so tired and sore, he just wanted a break. His illness would keep him in bed.', 'The man was tired and sore, so he decided to rest more.', \"When people are sick, they tend to rest, as it's the most sensible thing.\"]\n"
     ]
    },
    {
     "name": "stderr",
     "output_type": "stream",
     "text": [
      "\r",
      " 15%|████████████████████████▏                                                                                                                                       | 149/986 [1:51:28<16:19:43, 70.23s/it]"
     ]
    },
    {
     "name": "stdout",
     "output_type": "stream",
     "text": [
      "generated explanation: <pad> <extra_id_0> : Rest more. Rest more is a good idea to stay in bed. Rest more is a good idea to stay in bed longer and to rest. The man was very tired and sore, he decided to stay in bed to rest. More rest more is a good idea to help reduce stress and anxiety. The man was very tired and sore, he decided to stay in bed. More rest more is a good idea to reduce stress and stress. Rest more is a good idea to have in bed. Rest more is a good idea to reduce stress and stress. a good idea to reduce stress and anxiety. The man is a good idea to rest and to rest and rest. It is a good idea to rest more. It is a good idea to sleep more. Rest more. Rest more rest more. Rest more rest more is a good thing to do when he will sleep more. Rest more sleep more. Rest more is the man will be more rest and rest and rest and rest and rest and to rest and rest and to rest and rest and rest and rest and rest and rest and rest and rest and rest and rest and rest and rest and rest and rest and rest and rest and rest and rest and rest and rest will help him to rest and rest and rest and rest and rest and rest and rest and rest and rest and rest and rest and rest and rest and rest and rest and rest and rest and rest and rest and rest and rest and rest and rest and rest and rest and rest and rest and rest and sleep. Rest and rest and rest and recovery and rest and recovery and recovery and recovery. Rest and recovery and recovery will be a day will be a day will be a day will be a day will be a night will be a day will be a day will be a day will be a night will be a night will be a night will be a night will be a night will be a night will be a day will be a night will be a night will be a day will be a night will be a night will be a night will be a night will</s>\n",
      "########\n",
      "*******\n",
      "question: He was back in his hometown, he was planning on having fun and doing what?\n",
      "answer: visiting friends\n",
      "choices: ['being understood', 'hug', 'rambling', 'kiss', 'visiting friends']\n",
      "common expl list: ['People usually visit their friends when they return to a town where they previously used to live, because their friends would have missed them.', 'If a person went back to their hometown, they might be glad to see their old friends, and visit them while they are there.', 'If a person is back in their hometown, they might visit their friends, who they might not see very often.']\n"
     ]
    },
    {
     "name": "stderr",
     "output_type": "stream",
     "text": [
      "\r",
      " 15%|████████████████████████▎                                                                                                                                       | 150/986 [1:51:31<11:34:46, 49.86s/it]"
     ]
    },
    {
     "name": "stdout",
     "output_type": "stream",
     "text": [
      "generated explanation: <pad> Lieuting in his hometown, he was planning on visiting friends to have fun and do some things. He was planning on visiting friends to visit his family and friends to visit their homes. He was planning on visiting friends for a few days and doing things he liked. He was planning on visiting friends for a few days. He was planning on having fun and doing something he liked. He was also planning on visiting his family and visiting friends. He was also planning on visiting friends in his hometown, and visiting friends in his hometown.</s>\n",
      "########\n",
      "*******\n",
      "question: Where is basketball court likely to be outdoors?\n",
      "answer: city\n",
      "choices: ['high school gymnasium', 'city', 'park', 'use', 'los angeles']\n",
      "common expl list: ['Basketball courts are often urban.', 'Basketball courts are likely to be at parks and recreational centers in cities.', 'Most American cities have basketball courts in public parks.', 'Basketball courts are often found in city parks.']\n"
     ]
    },
    {
     "name": "stderr",
     "output_type": "stream",
     "text": [
      "\r",
      " 15%|████████████████████████▋                                                                                                                                        | 151/986 [1:51:34<8:19:40, 35.90s/it]"
     ]
    },
    {
     "name": "stdout",
     "output_type": "stream",
     "text": [
      "generated explanation: <pad> <extra_id_0> s<extra_id_1> s. The court is likely to be outdoors. The court is likely to be located in the city of San Diego. The court is likely to be located in the city center. The court is likely to be located in the city of San Diego. The court is likely to be used for basketball games, and the city will be able to provide a great deal of entertainment for the visitors who visit the city. The court is likely to be used for games such as basketball, volleyball, and football. The court is likely to be used for games that are likely to be used for games that are used for games that are not.</s>\n",
      "########\n",
      "*******\n",
      "question: When you want to get the skin off of an apple, you do what to it?\n",
      "answer: peel\n",
      "choices: ['seeds inside', 'stems', 'peel', 'grocery store', 'green market']\n",
      "common expl list: ['Apples have a skin that can be peeled off.', 'Skin is something you peel from fruits like apples, peaches, oranges, kiwi, etc...']\n"
     ]
    },
    {
     "name": "stderr",
     "output_type": "stream",
     "text": [
      "\r",
      " 15%|████████████████████████▊                                                                                                                                        | 152/986 [1:52:04<7:53:09, 34.04s/it]"
     ]
    },
    {
     "name": "stdout",
     "output_type": "stream",
     "text": [
      "generated explanation: <pad> <extra_id_0> When you want to peel an apple, you do what to it. Peeling is a great way to get the skin off an apple. Peeling is a great way to remove a peeling apple from the skin. It is also a great way to remove the skin from the apple. Peeling is a great way to remove the skin from the apple and remove the peeling peel. Peeling is also a great way to remove the peeling skin of an apple. Peeling is a great way to remove the skin from the apple peeling is also a peeling apple peeling apple peeling apple peeling apple peeling apple peeling apples are a peeling apple peel is a great way to remove the peeling apple peeling apple peeling apple peeling apple peeling apples peeling apple peeling apple peeling apple peeling apple peeling apple peeling apple peeling apple peeling apple peeling apple peeling apple peeling apple peeling apple peeling apple peeling apple peeling apple peeling apples are a peeling apple peeling</s>\n",
      "########\n",
      "*******\n",
      "question: Where could you put some knives if you are planning to bring them outside with you?\n",
      "answer: backpack\n",
      "choices: ['purse', 'backpack', 'drawer', 'sporting goods store', 'kitchen']\n",
      "common expl list: [\"Knives are usually brought along if hiking, camping, fishing, or other outings, and backpacks make it easy to transport one's belongings.\", \"To carry knives on one's person, you need some small type of container to hold the knives. Perhaps the most likely place to carry a small container is a backpack.\"]\n"
     ]
    },
    {
     "name": "stderr",
     "output_type": "stream",
     "text": [
      " 16%|█████████████████████████▏                                                                                                                                       | 154/986 [1:52:08<4:03:58, 17.59s/it]"
     ]
    },
    {
     "name": "stdout",
     "output_type": "stream",
     "text": [
      "generated explanation: <pad> <extra_id_0> backpack is a backpack that can be used to carry knives. It is also a great place to carry them around with you when you are out and about. It can be a great place to bring knives with you. It is also a great place to bring a knife with you when you are out and about. It is also a great place to bring a knife with you when you are out and about. It is also a great place to put some knives in your backpack. It is also a great place to bring some knives to the back of your backpack. It is also a good place to bring knives with you when you are out and about. It is also a good place to bring a knife and a knife.</s>\n",
      "########\n",
      "*******\n",
      "question: John watches the well dressed people from a catwalk above the stage.  He listens to them speak rehearsed lines while the audience listens.  Where is he/\n",
      "answer: theatre\n",
      "choices: ['theatre', 'new york city', 'fashion show', 'construction site', 'school play']\n",
      "common expl list: ['Theatres have catwalks where people might observe and listen to actors.']\n",
      "generated explanation: <pad> <extra_id_0> of the story of John.</s>\n",
      "########\n",
      "*******\n",
      "question: If I am creating art and have completed it to satisfaction, what is my feeling?\n",
      "answer: enlightenment\n",
      "choices: ['enlightenment', 'tired', 'frustration', 'relax', 'controversy']\n",
      "common expl list: ['Enlightenment is the label for a moment of clarity, and the word is often applied to artists who have created something unique or daring.']\n"
     ]
    },
    {
     "name": "stderr",
     "output_type": "stream",
     "text": [
      "\r",
      " 16%|█████████████████████████▎                                                                                                                                       | 155/986 [1:52:12<3:05:19, 13.38s/it]"
     ]
    },
    {
     "name": "stdout",
     "output_type": "stream",
     "text": [
      "generated explanation: <pad> <extra_id_0> Art is created to be felt. It is created to be a means of expression, expression, and expression. It is a form of expression that is able to express itself in a way that is able to express itself in a way that is able to express itself in a way that is able to express itself in a way that is able to express itself in a way that is meaningful and satisfying. It is also a means of expression that is able to express itself in a way that is able to express my own individual experience and experience.</s>\n",
      "########\n",
      "*******\n",
      "question: He was serious and pragmatic, so why did he drive his car?\n",
      "answer: transportation\n",
      "choices: ['transportation', 'car crash', 'death', 'sleepy', 'stress']\n",
      "common expl list: ['People often drive cars to get from one place to another.', 'Because driving is the most practical mode of transportation judging by the time and distance required to do so.']\n"
     ]
    },
    {
     "name": "stderr",
     "output_type": "stream",
     "text": [
      "\r",
      " 16%|█████████████████████████▍                                                                                                                                       | 156/986 [1:52:12<2:11:07,  9.48s/it]"
     ]
    },
    {
     "name": "stdout",
     "output_type": "stream",
     "text": [
      "generated explanation: <pad> <extra_id_0> : He was a serious and pragmatic man. Why did he drive his car?</s>\n",
      "########\n",
      "*******\n",
      "question: What does god want people to do for money?\n",
      "answer: work in life\n",
      "choices: ['work in life', 'speak to people', 'everywhere', 'sitting ideal', 'care for people']\n",
      "common expl list: ['The scriptures explain that people should acquire money by providing good products or services, e.g., to bring value to other people and make a living.']\n"
     ]
    },
    {
     "name": "stderr",
     "output_type": "stream",
     "text": [
      "\r",
      " 16%|█████████████████████████▋                                                                                                                                       | 157/986 [1:52:30<2:45:41, 11.99s/it]"
     ]
    },
    {
     "name": "stdout",
     "output_type": "stream",
     "text": [
      "generated explanation: <pad> <extra_id_0> of god's plan for money. god wants people to do work for money. God wants people to do work for money. Money is a major source of income for people who want to make money. Money can help people make money by making money through the work of others. Money can help people make money by making money through the use of their money. Money can also help people make money by making money. Money can also help people make money by making money through the use of their money. Money can also help people make money by giving money back to people who want to make money by giving money to people who want to make money by making money by giving back to people who are willing to make money by giving money is a lot of money to make money by giving money can help people make money by giving money to help people make money by giving money to help people make money by giving money to help them make money by giving money to help them to help them to help them to make money.</s>\n",
      "########\n",
      "*******\n",
      "question: What can happen after doing housework that does not involve pain?\n",
      "answer: become tired\n",
      "choices: ['become tired', 'stress', 'put on shoes', 'backache', 'low pay']\n",
      "common expl list: ['Housework can be tiring, and so, after doing it, one might become tired.', 'Raking, sweeping, and dusting are common forms of housework. After all the physical labor of these activities, someone \\xa0might become tired and take time off from housework chores, but not have een doing any housework tasks that', 'Doing housework is likely to tire someone out. Being tired increases the likelihood of restlessness and uneasiness.']\n"
     ]
    },
    {
     "name": "stderr",
     "output_type": "stream",
     "text": [
      "\r",
      " 16%|█████████████████████████▊                                                                                                                                       | 158/986 [1:52:30<1:58:39,  8.60s/it]"
     ]
    },
    {
     "name": "stdout",
     "output_type": "stream",
     "text": [
      "generated explanation: <pad> <extra_id_0> : housework that does not involve pain can be done without pain. Having to do housework can be a good thing for a while, but it can also be a good thing for a while.</s>\n",
      "########\n",
      "*******\n",
      "question: James sat in a chair and listened to the speaker.  Where might James be?\n",
      "answer: auditorium\n",
      "choices: ['synagogue', 'grocery store', 'auditorium', 'confession', 'office']\n",
      "common expl list: ['James was likely in an auditorium, because he was listening to a speaker.']\n"
     ]
    },
    {
     "name": "stderr",
     "output_type": "stream",
     "text": [
      "\r",
      " 16%|█████████████████████████▉                                                                                                                                       | 159/986 [1:52:53<2:57:11, 12.86s/it]"
     ]
    },
    {
     "name": "stdout",
     "output_type": "stream",
     "text": [
      "generated explanation: <pad> <extra_id_0> James sat in a chair and listened to the speaker. The speaker was seated in a chair and James listened to the speaker. The speaker was sitting in a chair and James listened to the speaker. The speaker was James seated in a chair and listened to the speaker. The speaker was seated in a chair. The speaker was James James. The speaker was seated in a chair. The speaker was James sat in a chair and listened to the speaker. The speaker was sitting in a chair. The speaker was sitting in a chair. The speaker was sitting in a chair. The speaker was listening to the speaker. The speaker was listening to the speaker. The speaker was sitting in a chair. The speaker was James's seat. The speaker was James's chair. The speaker was James's seat. The speaker was James' seat was listening to James' seat. The speaker was James' seat was seated in a chair.</s>\n",
      "########\n",
      "*******\n",
      "question: John thought that Mary was beautiful despite her injury.  But Mary believed that she was what?\n",
      "answer: misshapen\n",
      "choices: ['wrong', 'overcast', 'homely', 'bad', 'misshapen']\n",
      "common expl list: [\"If Mary believes she doesn't look normal, but someone else thinks she is beautiful, perhaps she could feel like her form is misshapen.\"]\n"
     ]
    },
    {
     "name": "stderr",
     "output_type": "stream",
     "text": [
      "\r",
      " 16%|██████████████████████████▏                                                                                                                                      | 160/986 [1:53:26<4:20:33, 18.93s/it]"
     ]
    },
    {
     "name": "stdout",
     "output_type": "stream",
     "text": [
      "generated explanation: <pad> Mary believed that she was beautiful despite her injury. Mary believed that she was misshapen despite her injury. Despite her injuries, Mary believed that she was beautiful despite her injuries. Despite her injuries, Mary believed that she was beautiful despite her injuries. Mary believed that she was beautiful despite her injuries. Mary believed that she was beautiful despite her injuries. Mary believed that she was beautiful despite her injuries. Mary believed that she was beautiful despite her injuries. Mary believed that she was beautiful despite her injuries. Despite her injuries, Mary was misshapen despite her injuries were not beautiful despite her injuries, and was a beautiful despite her injuries, she was misshapen despite her injuries, and that she was beautiful despite her injuries were misshapen despite her injuries were misshapen despite her injuries were misshapen despite her injuries were misshapen despite her injuries were a beautiful despite her injuries were not despite her injuries were misshapen despite her injuries were not beautiful despite her injuries were her injuries were a misshapen </s>\n",
      "########\n",
      "*******\n",
      "question: Where does my body go after I am no longer living?\n",
      "answer: graveyard\n",
      "choices: ['zombie', 'bodycam', 'coffin', 'graveyard', 'funeral']\n",
      "common expl list: ['When one dies, their body is buried in a graveyard.', 'Corpses are buried in graveyards.', 'When a person dies, it is common to bury their bodies in locations called graveyards.']\n"
     ]
    },
    {
     "name": "stderr",
     "output_type": "stream",
     "text": [
      "\r",
      " 16%|██████████████████████████▎                                                                                                                                      | 161/986 [1:53:27<3:06:04, 13.53s/it]"
     ]
    },
    {
     "name": "stdout",
     "output_type": "stream",
     "text": [
      "generated explanation: <pad> True to form, my body is found in a graveyard after I have passed away. True to form is a graveyard of a graveyard. True to form, my body is buried in a graveyard.</s>\n",
      "########\n",
      "*******\n",
      "question: Where can you find a bar before traveling a long distance?\n",
      "answer: airport\n",
      "choices: ['las vegas', 'public house', 'airport', 'restaurant', 'michigan']\n",
      "common expl list: ['Bars are often located in airports, and so if a person was traveling a long distance, they might stop at an airport bar.']\n"
     ]
    },
    {
     "name": "stderr",
     "output_type": "stream",
     "text": [
      "\r",
      " 16%|██████████████████████████▍                                                                                                                                      | 162/986 [1:53:30<2:23:21, 10.44s/it]"
     ]
    },
    {
     "name": "stdout",
     "output_type": "stream",
     "text": [
      "generated explanation: <pad> <extra_id_0> s. a bar is a bar that is located in a hotel room. a bar is located in a hotel room. A bar is located in a hotel room. It is located in a nearby hotel. It is located in the center of the city. It is located in the center of the city, and is located in the center of the city. It is located in the city of San Francisco. It is located in the city of San Francisco. It is a great place to relax and enjoy a drink.</s>\n",
      "########\n",
      "*******\n",
      "question: Where might a small ball be bounced from?\n",
      "answer: child's hand\n",
      "choices: ['soccer game', 'street', 'toy store', \"child's hand\", 'on the sidewalk']\n",
      "common expl list: ['A ball much like a toy, and kids often play with them on the streets and sidewalks.', 'Since children enjoy bouncing balls, and they are also relatively small, they would bounce a ball from their hand.']\n"
     ]
    },
    {
     "name": "stderr",
     "output_type": "stream",
     "text": [
      "\r",
      " 17%|██████████████████████████▍                                                                                                                                     | 163/986 [1:56:37<14:25:56, 63.13s/it]"
     ]
    },
    {
     "name": "stdout",
     "output_type": "stream",
     "text": [
      "generated explanation: <pad> <extra_id_0>. Child's hand is a safe place for small balls to bounce from. They can bounce from a ball on a surface that is not a safe place for small balls to bounce from. The ball can bounce from a small area of a surface or a small surface. The ball can bounce from a small surface and can bounce from a small surface. It can bounce from a small surface. The ball can bounce from a small surface or a small surface. The ball can bounce from a small area of the hand can bounce from a small area of the hand and can bounce from the hand. The ball can bounce from one of the other hand and the ball can bounce from the hand. The ball can bounce from the hand and can bounce from the hand and the ball can bounce off the hand and the ball can bounce off the hand and the ball can bounce back and forth between the hand and the ball is bounced back and forth between the ball can bounce back and forth from the hand and the ball is a small ball and a small ball and back. The ball and the ball and bounce back and forth between the ball and the ball is a small ball and bounce back and forth between the ball and bounce back and forth between the ball and the ball is a small ball and the ball is a small ball is a small ball and the ball is a small ball and can bounce back and forth between the ball. The ball is bounce back and forth between the ball and the ball is a small ball and the ball is a small ball and the ball is a small ball. The ball is a small ball is a small ball is a small ball is a small ball is a small ball is a small ball is a small ball is a small ball is a small ball is a small ball is a small ball is a small ball is a small ball is a small ball is a small ball is a small ball is a small ball is a small ball is a small ball is a small ball is a small ball is a small ball is a small ball is a small ball a small ball a small ball is a small ball. A small ball is a small ball is a small ball is a small ball is a small ball is a small ball is a small ball a small\n",
      "########\n",
      "*******\n",
      "question: Where do families begin?\n",
      "answer: wedding\n",
      "choices: ['wedding', 'around dinner table', 'supermarket', 'dinner together', 'park']\n",
      "common expl list: ['A wedding is a ceremony in which two people get married, and thus a wedding is where a family begins.']\n"
     ]
    },
    {
     "name": "stderr",
     "output_type": "stream",
     "text": [
      "\r",
      " 17%|██████████████████████████▌                                                                                                                                     | 164/986 [1:56:40<10:19:51, 45.24s/it]"
     ]
    },
    {
     "name": "stdout",
     "output_type": "stream",
     "text": [
      "generated explanation: <pad> <extra_id_0> A family begins when families are engaged. They begin with a wedding, and then with a ceremony. This is where families begin to make a commitment to their families. This is where families begin to build their families. This is where families begin to build their families. They begin by preparing for the wedding of their first child, and then preparing for the wedding of their second child. They also begin with a ceremony, and then a ceremony. The ceremony is the first step in the process of a family wedding, and then they begin with a wedding day. The wedding is the first weddings are the first marriage, the first year of marriage, the first marriage is the first year of marriage.</s>\n",
      "########\n",
      "*******\n",
      "question: He enjoyed reading newspaper, he consider what a subscription?\n",
      "answer: buying\n",
      "choices: ['gifting', 'buying', 'money', 'literacy', 'knowing how to read']\n",
      "common expl list: ['Buying a subscription to a newspaper is a way to get the newspaper delivered to your home.']\n"
     ]
    },
    {
     "name": "stderr",
     "output_type": "stream",
     "text": [
      "\r",
      " 17%|██████████████████████████▊                                                                                                                                     | 165/986 [1:57:21<10:01:46, 43.98s/it]"
     ]
    },
    {
     "name": "stdout",
     "output_type": "stream",
     "text": [
      "generated explanation: <pad> <extra_id_0> he enjoyed reading newspaper, he consider a subscription. He consider a subscription to newspapers, he consider a subscription to a newspaper. A subscription is a subscription that covers the cost of a subscription. It is also a subscription that allows readers to read the newspaper. It is a subscription that allows readers to read the newspaper and to read the newspaper. It is also a subscription that allows readers to read the newspaper and read the newspaper. It is a subscription that allows readers to read the newspaper and read the newspaper. It is a subscription is a subscription is a subscription is a subscription is a subscription is a subscription is a subscription is a subscription is a subscription is a subscription is a subscription is a subscription is a subscription is a subscription is a subscription is a subscription is a subscription is a subscription is a subscription is a subscription is a subscription is a subscription is a subscription is a subscription is a subscription is a subscription is a subscription is a subscription is a subscription is a subscription is a subscription is a subscription is a subscription is a subscription is</s>\n",
      "########\n",
      "*******\n",
      "question: What does an animal do when it becomes old?\n",
      "answer: feel pain\n",
      "choices: ['live long', 'leave home', 'feel pain', 'eating', 'sense fear in human']\n",
      "common expl list: ['Ageing animals may have chronic pain as part of the body losing function as it ages.']\n"
     ]
    },
    {
     "name": "stderr",
     "output_type": "stream",
     "text": [
      "\r",
      " 17%|███████████████████████████                                                                                                                                      | 166/986 [1:57:23<7:10:14, 31.48s/it]"
     ]
    },
    {
     "name": "stdout",
     "output_type": "stream",
     "text": [
      "generated explanation: <pad> <extra_id_0> Feel pain. An animal that becomes old is a young animal that is a young animal that is older and a young animal. It is also known as a pain animal and can be a pain animal. It is also known as a pain animal. It can also feel the pain of being old. It can also feel pain when it is tired. It can also feel pain when it is tired. It can feel the pain of being old and weak. It can also feel the pain of being old. It can feel the pain of being old.</s>\n",
      "########\n",
      "*******\n",
      "question: What entity would have a fire extinguisher in their boardroom?\n",
      "answer: most businesses\n",
      "choices: ['boat', 'apartment', 'public building', 'most businesses', 'chemistry lab']\n",
      "common expl list: ['Most businesses would have a fire extinguisher in their boardroom, because they are likely to have a fire in their boardroom.']\n"
     ]
    },
    {
     "name": "stderr",
     "output_type": "stream",
     "text": [
      "\r",
      " 17%|███████████████████████████▎                                                                                                                                     | 167/986 [1:57:24<5:01:54, 22.12s/it]"
     ]
    },
    {
     "name": "stdout",
     "output_type": "stream",
     "text": [
      "generated explanation: <pad> <extra_id_0> Most businesses have a fire extinguisher in their boardroom.</s>\n",
      "########\n",
      "*******\n",
      "question: Where can someone go and buy cheese?\n",
      "answer: market\n",
      "choices: ['pizza', 'bar', 'fridge', 'market', 'refrigerator']\n",
      "common expl list: ['Cheese is sold at markets.', 'Cheese is a dairy product and can be purchased at markets, for the most part.']\n"
     ]
    },
    {
     "name": "stderr",
     "output_type": "stream",
     "text": [
      "\r",
      " 17%|███████████████████████████▍                                                                                                                                     | 168/986 [1:57:49<5:13:52, 23.02s/it]"
     ]
    },
    {
     "name": "stdout",
     "output_type": "stream",
     "text": [
      "generated explanation: <pad> <extra_id_0> Market is a place to buy cheese. Market is a place to buy cheese at a market. Markets are a place to buy cheese and cheese products from around the world. Markets are a place where people can buy their own cheese and cheese at a market. Markets are a place to buy cheese and cheese and cheese. Markets are a place to buy cheese, cheese and other products. They are a place to buy cheese and cheese. Markets are also a place to buy cheese and cheese. Markets are the market to buy cheese and cheese and cheese and cheese and cheese and cheese is a place to buy cheese and cheese market to buy cheese and cheese and cheese markets are a place to buy cheese and cheese and cheese markets are a place to buy cheese and cheese and cheese market to buy cheese markets are a place to buy cheese markets are also a market is a place to buy cheese market to buy cheese markets are also a market to buy cheese markets are also places to buy cheese markets are markets are also places to buy cheese</s>\n",
      "########\n",
      "*******\n",
      "question: Where would you carry food while on a long walk in the countryside?\n",
      "answer: backpack\n",
      "choices: ['backpack', 'table', 'jar', 'box', 'container']\n",
      "common expl list: ['Instead of carrying a jar or container, filling your backpack with food might not disrupt your movements as much when you are walking.', \"Because backpacks are designed to be carried on one's back, they are the most convenient way to carry food while on a long walk.\"]\n"
     ]
    },
    {
     "name": "stderr",
     "output_type": "stream",
     "text": [
      "\r",
      " 17%|███████████████████████████▌                                                                                                                                     | 169/986 [1:57:51<3:49:06, 16.83s/it]"
     ]
    },
    {
     "name": "stdout",
     "output_type": "stream",
     "text": [
      "generated explanation: <pad> <extra_id_0> backpacking is a great way to get around the world. It is also a great way to get around the world. It is also a great way to get around the world without having to travel to the same place. It is also a great way to get around the world. It is also a great way to get around the world without having to travel to other countries. It is also a great way to get around the world. It is also a great way to get around the world. It is also a great way to get around the world.</s>\n",
      "########\n",
      "*******\n",
      "question: What could a driver do that could distract him or her while he or she is in a driving car?\n",
      "answer: smoke\n",
      "choices: ['use mobile phone', 'car crash', 'smoke', 'backache', 'automobile accidents']\n",
      "common expl list: ['Smoking is a common activity that people do while driving, and it could distract them from driving.', 'It can be tricky to smoke and concentrate on driving at the same time, and research has found that smoking in a car with children present is very dangerous.']\n"
     ]
    },
    {
     "name": "stderr",
     "output_type": "stream",
     "text": [
      "\r",
      " 17%|███████████████████████████▊                                                                                                                                     | 170/986 [1:57:51<2:41:23, 11.87s/it]"
     ]
    },
    {
     "name": "stdout",
     "output_type": "stream",
     "text": [
      "generated explanation: <pad> <extra_id_0> :<extra_id_1> : What could distract a driver while he or she is driving?</s>\n",
      "########\n",
      "*******\n",
      "question: The fat man wanted to make a change in his life and make sure it stayed what?\n",
      "answer: permanent\n",
      "choices: ['concretely', 'permanent', 'remain stable', 'stagnant', 'constant']\n",
      "common expl list: ['In changing his life, he wants to make sure he remains in the new lifestyle choices, e.g., not become stagnant to bad choices and fall back into bad choices.', 'His making a decision to change and ensuring the decision is made permanent indicates a desire for a stable, permanent life, which does not change.']\n"
     ]
    },
    {
     "name": "stderr",
     "output_type": "stream",
     "text": [
      "\r",
      " 17%|███████████████████████████▋                                                                                                                                    | 171/986 [2:00:50<14:02:18, 62.01s/it]"
     ]
    },
    {
     "name": "stdout",
     "output_type": "stream",
     "text": [
      "generated explanation: <pad> <extra_id_0> The fat man wanted to make a change in his life and make sure it stayed what he wanted to make permanent. Permanent. Permanently, he wanted to make sure it stayed the same for a long time. This is the same fat man who wanted to make a change in his life. This is the fat man who wanted to make sure his life was permanent. This is the same fat man who wanted to make a permanent change in his life. This is the fat man who wanted to make a change in his life. Permanently. The fat man's life. The fat man wanted to make permanent. The fat man wanted to make sure it stayed the fat man's life. It was the fat man wanted to make sure it stayed the same fat man's life. The fat man wanted to make a permanent change in his life and make sure it was a permanent change in his life and make sure it was a permanent change in his life and make sure it was permanent change in his life and make sure it was permanent. It was also a permanent change in his life and make sure it was permanent. Permanent change in his life and make sure it was permanent. It was a permanent change in his life and make sure it was permanent. Permanent change in his life and make sure it was permanent. Permanent change in his life and make sure it was a permanent change in life and make sure it was permanent. Permanent change in his life and his life. He wanted to make sure it was permanent. He wanted to make sure it was permanent. He wanted to make sure it was permanent. He wanted to keep his life and make sure it was permanent. It was a permanent change in his life. He wanted to make sure it was permanent. He wanted to keep it was a permanent change in his life and wanted to keep it would be permanent. Permanent. Permanent change in his life. Permanent change in his life. He wanted to make sure it was permanent. It was a permanent change in his life. It was a permanent. It was a permanent change in his life. It was a permanent change in his life. It was a permanent change in his life. It was permanent change in his life. It was a permanent change in his life was a permanent change in his life. It was a permanent change in his life. It was a permanent change in his life. It was\n",
      "########\n",
      "*******\n",
      "question: where did many colonial kingdoms originate?\n",
      "answer: europe\n",
      "choices: ['saudi arabia', 'europe', 'united states', 'book', 'monarchy']\n",
      "common expl list: ['Colonies and kingdoms often originate in the mother countries of the colonial or kingdom builders, e.g., entities in the United Kingdom and the Netherlands.', 'Many colonial kingdoms in the past can be traced all the way back to their roots in Europe.']\n"
     ]
    },
    {
     "name": "stderr",
     "output_type": "stream",
     "text": [
      "\r",
      " 17%|████████████████████████████                                                                                                                                     | 172/986 [2:00:53<9:58:40, 44.13s/it]"
     ]
    },
    {
     "name": "stdout",
     "output_type": "stream",
     "text": [
      "generated explanation: <pad> <extra_id_0> : The colony of Europe was the largest and most populous in the world. The colonial kingdoms were primarily located in the north of the continent, the u. The colonial kingdoms were located in the north of the continent, the uk, and the u. The colonial kingdoms were located in the europe region, which was the center of the empire of the europe. The colonial kingdoms were located in the u. The colonial kingdoms were located in the uk, the uk.</s>\n",
      "########\n",
      "*******\n",
      "question: Where can a television be stored and hidden?\n",
      "answer: cabinet\n",
      "choices: ['apartment', 'living room', 'bedroom', 'kitchen', 'cabinet']\n",
      "common expl list: ['A television can be stored inside a cabinet.', 'A cabinet is a piece of furniture that is used to store items, and televisions are large, and thus, can be stored in cabinets.']\n"
     ]
    },
    {
     "name": "stderr",
     "output_type": "stream",
     "text": [
      "\r",
      " 18%|████████████████████████████▏                                                                                                                                    | 173/986 [2:01:03<7:37:51, 33.79s/it]"
     ]
    },
    {
     "name": "stdout",
     "output_type": "stream",
     "text": [
      "generated explanation: <pad> <extra_id_0> cabinet. Cabinets are used to store and hide televisions. Cabinets are used to store and hide televisions in cabinets. Cabinets can be used to store televisions in a cabinet, and to hide them in a cabinet. Cabinets can also be used to store and hide a television. Cabinets can be used to store and hide a television, and can be used to hide and retrieve televisions. They can also be used to store and hide televisions in a cabinet. Cabinets can be used to store and store televisions in the cabinet can be used to store televisions in the cabinetry can be used to store televisions in the cabinetry and to store televisions in the cabinetry, and to store televisions can also be used to store and store televisions can be used to store televisions can be used to store televisions can be used to store televisions to store televisions.</s>\n",
      "########\n",
      "*******\n",
      "question: what can get a prisoner in more trouble?\n",
      "answer: attempt to escape\n",
      "choices: ['dream of freedom', 'attempt to escape', 'do time', 'fast for days', 'scape jail']\n",
      "common expl list: ['Prisoners serve time, and when a prisoner attempts to escape, they generally serve extra time.']\n"
     ]
    },
    {
     "name": "stderr",
     "output_type": "stream",
     "text": [
      "\r",
      " 18%|████████████████████████████▍                                                                                                                                    | 174/986 [2:01:21<6:36:45, 29.32s/it]"
     ]
    },
    {
     "name": "stdout",
     "output_type": "stream",
     "text": [
      "generated explanation: <pad> <extra_id_0> : A prisoner can get into trouble if they attempt to escape. Prisoners can be released from prison, if they attempt to escape, they can get into trouble if they try to escape. Prisoners are released after being released from prisoner or prisoner for escaping. Prisoners are released after escaping from prison, and are held for a period of time. Prisoners are released after escaping prison for a period of time. Prisoners are released after being convicted of a crime, and are released after being held for a prisoner of a prisoner of a prison for up to a prisoner of a prisoner of the prisoner of a prisoner of a prisoner of prison for a prison sentenced to prison for a prisoner of prison for a prisoner of prison for a prisoner of prison for a period of time, prison for a prison for a prisoner of a prison term,</s>\n",
      "########\n",
      "*******\n",
      "question: The crab was separated from his compatriots out in the sea, where was he likely to be?\n",
      "answer: tide pool\n",
      "choices: ['fish market', 'cooking pot', 'tide pool', 'beach sand', 'farm']\n",
      "common expl list: ['Tide pools are regions of shallow, pooled water that are very exposed to air, making them appealing to crabs that have to breathe.']\n"
     ]
    },
    {
     "name": "stderr",
     "output_type": "stream",
     "text": [
      "\r",
      " 18%|████████████████████████████▍                                                                                                                                   | 175/986 [2:04:46<18:26:12, 81.84s/it]"
     ]
    },
    {
     "name": "stdout",
     "output_type": "stream",
     "text": [
      "generated explanation: <pad> <extra_id_0> The crab was separated from his compatriots out in the sea, where was he likely to be? The crab was likely to be in the sea, but was likely to be in the sea. The crab was likely to be in the sea at some point in the future. The crab was likely to be in the sea for a few days. The crab was likely to be in the sea for a few days. The crab was likely to be in the sea for a few days. The crab was likely to be in the sea. The crab was likely to be in the sea in the sea. The crab was likely to be in the sea, and was likely to be in the sea at some time in the sea at some time. The crab would be a few days. The crab would be in the sea at some time in the sea at some time in the sea at some time. The crab was likely to be in the sea at least a few days. The crab would be a few days. The crab would be in the sea at some time in the sea at some time out in the sea at some time in the sea at some time in the sea at some time in the sea at the sea at some time in the sea at some time in the sea at some time in the sea at some time in the sea at some time in the sea. The crab would be a few days in the sea. The crab would be in the sea at some time in the sea at some time in the sea at some time in the sea at the sea at some time in the sea at some time in the sea at some time in the sea at some time in the sea at some time in the sea at some time in the sea at some time in the sea at the sea at some time in the sea at some time in the sea at some time in the sea at some time in the sea at some time in the sea at some time in the sea at the time. The crab was in the sea at some time in the sea at some time in the sea at some time in the sea at some time in the sea at sea at the sea. The crab was in the sea at sea. The crab was in the sea at the time of the sea. The crab was also in the sea at the sea at the tide pool. The crab was in the sea at the sea at the sea at the sea at the sea at the sea at the time of the sea at the\n",
      "########\n",
      "*******\n",
      "question: What item is smelted out of minerals on the country side?\n",
      "answer: metal\n",
      "choices: ['urban city', 'france', 'metal', 'grass', 'state']\n",
      "common expl list: ['Products made by smelters tend to be made out of metals, and mining occurs at the country side.', 'Metals are extracted from mineral mines out in the country side.']\n"
     ]
    },
    {
     "name": "stderr",
     "output_type": "stream",
     "text": [
      "\r",
      " 18%|████████████████████████████▌                                                                                                                                   | 176/986 [2:05:28<15:45:14, 70.02s/it]"
     ]
    },
    {
     "name": "stdout",
     "output_type": "stream",
     "text": [
      "generated explanation: <pad> <extra_id_0> is a metal that is smelted into a metal. It is a metal that is smelted into a variety of materials. It is a metal that is melted into metal. It is a metal that is smelted into a metal. It is a metal that is smelted into a metal. It is a metal that is smelted into a variety of different materials. It is a metal that is smelted into a variety of different materials. It is smelted into a metal is smelted into a metal metal that is a metal that is smelted into metal. It is smelted into a metal product that is smelted into a metal product that is a metal that is a metal that is a metal that is a metal that is a metal that is a metal that is a metal that is a metal that is a metal that is a metal that is a metal that is a metal that is a metal that is a metal that is a metal that is a metal that is a metal that is a metal that is </s>\n",
      "########\n",
      "*******\n",
      "question: Where is a good place to store a saw?\n",
      "answer: toolbox\n",
      "choices: ['hardware store', 'tool shed', 'storage', 'tool kit', 'toolbox']\n",
      "common expl list: ['One might likely store a saw in a box with other tools.', 'A toolbox is a container for tools, and a saw is a tool.']\n"
     ]
    },
    {
     "name": "stderr",
     "output_type": "stream",
     "text": [
      "\r",
      " 18%|████████████████████████████▋                                                                                                                                   | 177/986 [2:05:32<11:14:55, 50.06s/it]"
     ]
    },
    {
     "name": "stdout",
     "output_type": "stream",
     "text": [
      "generated explanation: <pad> <extra_id_0> Toolbox is a great place to store saws. It is a great place to store saws. It is a good place to store a saw. It is a toolbox that is a great place to store a saw. It is a great place to store a saw. It is also a great place to store a saw. It is also a good place to store a toolbox. Toolbox is a toolbox that can be used for many different tasks. It is also a good place to store saws and tools.</s>\n",
      "########\n",
      "*******\n",
      "question: The jellyfish was pushed along by the water.  It was caught in what?\n",
      "answer: current\n",
      "choices: ['store', 'book', 'park', 'current', 'lake']\n",
      "common expl list: ['Jellyfish are often found in oceans, and oceans have currents.', \"Currents are fast-moving water, and jellyfish can't swim very well, so if caught in a current, it's likely to be being pushed along by the current.\"]\n"
     ]
    },
    {
     "name": "stderr",
     "output_type": "stream",
     "text": [
      "\r",
      " 18%|████████████████████████████▉                                                                                                                                   | 178/986 [2:07:52<17:16:52, 77.00s/it]"
     ]
    },
    {
     "name": "stdout",
     "output_type": "stream",
     "text": [
      "generated explanation: <pad> <extra_id_0> The jellyfish was caught in the water. The jellyfish was pushed along by the water. The jellyfish was pushed along by the water. The jellyfish was caught in the water and was eventually released into the water. The jellyfish was released into the sea and was pushed along by the jelly in the water. The jellyfish was released into the sea by the jellyfish and was released into the sea. The jellyfish was then pushed along by the jellyfish and pushed into the water. The jellyfish were pushed along the water. The jellyfish was pushed along the water. The jellyfish was discarded in the sea. The jellyfish was a large amount of water. The jellyfish was pushed along the jellyfish was discarded in the water. The jellyfish was then released to the sea. The jellyfish was pushed along the jellyfish was released to the sea. The jellyfish was then pushed along the jellyfish was a jellyfish were released to the water. The jellyfish was released to the water and the jellyfish was caught in the jellyfish was released to the water to be released to the sea. The jellyfish was soiled in the jellyfish was pushed along the jellyfish was released to the water. The jellyfish was released to the seabed. The jellyfish was released to the seabed and the jellyfish was released to the water. The jellyfish was released to the water. The jellyfish was then dragged in the jelly was dripped water and drained by the jelly was drained jellyfish. The jellyfish was drained jellyfish was drained jellyfish was drained jellyfish was drained jellyfish was released to the jelly was dripped jelly was drained jelly was released jellyfish was drained jelly was drained jelly was drained jelly was drained jelly was drained jelly was drained jelly was drained jelly was drained jelly was drained jelly was drained the jelly jelly was drained jelly was d</s>\n",
      "########\n",
      "*******\n",
      "question: The dime store was full of old donated goods, it reminded the customer of the what?\n",
      "answer: past\n",
      "choices: ['strip mall', 'past', 'shopping center', 'old movie', 'india']\n",
      "common expl list: ['Dime stores were more popular years ago than today. The sight of the old goods reminded the person of the past.']\n"
     ]
    },
    {
     "name": "stderr",
     "output_type": "stream",
     "text": [
      "\r",
      " 18%|█████████████████████████████                                                                                                                                   | 179/986 [2:07:54<12:15:55, 54.72s/it]"
     ]
    },
    {
     "name": "stdout",
     "output_type": "stream",
     "text": [
      "generated explanation: <pad> <extra_id_0> past items that were donated to the store. The dime store was full of old donated goods, it reminded the customer of the old goods. The dime store was full of old donated goods, it reminded the customer of the old items. The dime store was full of old donated goods, it reminded the customer of the old goods. The dime store was full of old donated items, it reminded the customer of the old items. The dime store was full of old donated goods, it reminded the customer of the old goods.</s>\n",
      "########\n",
      "*******\n",
      "question: Where would you put a saw if you do not need to use it soon and your house only has one floor?\n",
      "answer: tool shed\n",
      "choices: ['logging camp', 'in the vehicle', 'tool shed', 'toolbox', 'basement']\n",
      "common expl list: ['A tool shed is a common structure for organizing and storing tools that are infrequently used.', 'The shed is a good place for storing tools when those tools are not in use.', \"A tool shed is a place where tools are stored, and thus, a good place to store a saw if you don't need to use it soon.\"]\n"
     ]
    },
    {
     "name": "stderr",
     "output_type": "stream",
     "text": [
      "\r",
      " 18%|█████████████████████████████▏                                                                                                                                  | 180/986 [2:08:26<10:43:21, 47.89s/it]"
     ]
    },
    {
     "name": "stdout",
     "output_type": "stream",
     "text": [
      "generated explanation: <pad> <extra_id_0> : If you have one floor, you would not need one. A tool shed is a tool shed that is designed to be used for a short period of time. The tool shed is a tool shed that is designed to be used for a wide range of tasks. It is designed to be used for a wide range of tasks. It is designed to be used for a wide range of tasks. It is designed to be used for a wide range of tasks. It is designed to be used for a wide range of tasks. It is also a tool shed is designed to be used for a tool shed is a tool shed with a saw shed is a tool shed is a tool shed is a tool shed is a tool shed is a tool shed is a tool shed is a tool shed is a tool shed is a tool shed is a tool shed is a tool shed is a tool shed is a tool shed is a tool shed is a tool shed is a tool shed is a tool shed is</s>\n",
      "########\n",
      "*******\n",
      "question: A person might wear his yarmulke when going to where?\n",
      "answer: synagogue\n",
      "choices: ['demonstration', 'concert', 'garage', 'bus stop', 'synagogue']\n",
      "common expl list: ['Synagogue is a place commonly visited by religious Jews. Men wear yarmulkes (skullcaps) because faith requires that they uncover their heads when going before God.']\n"
     ]
    },
    {
     "name": "stderr",
     "output_type": "stream",
     "text": [
      "\r",
      " 18%|█████████████████████████████▌                                                                                                                                   | 181/986 [2:08:49<9:02:03, 40.40s/it]"
     ]
    },
    {
     "name": "stdout",
     "output_type": "stream",
     "text": [
      "generated explanation: <pad> <extra_id_0> A person might wear his yarmulke when going to a synagogue or synagogue. Falsely, a person might wear his yarmulke when going to a synagogue. False: A person might wear his yarmulke when going to a synagogue. Falsely, a person might wear his yarmulke while going to a synagogue. False: A person might wear his yarmulke when going to a synagogue when going to a synagogue might wear his yarmulke when going to a synagogue is not necessarily yarmulke when going to yarmulke when going to yarmulke is not wearing yarmulke when yarmulke when yarmulke when going to yarmulke when going to yarmulke when going to </s>\n",
      "########\n",
      "*******\n",
      "question: Someone takes up exercising to improve their what\n",
      "answer: physical fitness\n",
      "choices: ['losing weight', 'physical fitness', 'breathlessness', 'muscles', 'lost weight']\n",
      "common expl list: ['Typically people are motivated to exercise in order to become fit.', 'Exercising is a way to improve physical fitness.', 'Exercising helps people build their physical fitness.']\n"
     ]
    },
    {
     "name": "stderr",
     "output_type": "stream",
     "text": [
      "\r",
      " 18%|█████████████████████████████▋                                                                                                                                   | 182/986 [2:09:23<8:33:04, 38.29s/it]"
     ]
    },
    {
     "name": "stdout",
     "output_type": "stream",
     "text": [
      "generated explanation: <pad> a person takes up exercising to improve their physical fitness to improve their physical fitness. People take up exercising to improve their physical fitness to improve their physical fitness. People take up exercising to improve their physical fitness. People take up exercising to improve their physical fitness to improve their physical fitness. People take up exercising to improve their physical fitness to improve their physical fitness. People take up exercising to improve their physical fitness to improve their physical fitness. People exercise to improve their physical fitness to improve their overall health and overall health. People exercise to improve their physical fitness. People exercise to improve their physical fitness to improve their physical fitness to improve their physical fitness to improve their physical fitness to improve their physical fitness to improve their physical fitness to improve their physical fitness to improve their physical fitness to improve their physical fitness to improve their physical fitness to improve their physical fitness to improve their physical fitness to improve their physical fitness to improve their physical fitness to improve their physical fitness to improve their physical fitness to improve their physical fitness to improve their physical fitness to improve physical fitness to improve physical fitness to improve physical fitness to improve physical fitness to improve physical fitness to improve physical fitness</s>\n",
      "########\n",
      "*******\n",
      "question: Where could you see a sloth that is not real?\n",
      "answer: picture book\n",
      "choices: ['bad dream', 'picture book', 'another place', 'universe', 'zoo']\n",
      "common expl list: ['Reality is generally fractured into \"real\" and \"fusion.\" Sloths are real, meaning they exist (in some form) in reality; sloths are not real (in the way depicted) in a picture book.']\n"
     ]
    },
    {
     "name": "stderr",
     "output_type": "stream",
     "text": [
      "\r",
      " 19%|█████████████████████████████▉                                                                                                                                   | 183/986 [2:09:42<7:16:21, 32.60s/it]"
     ]
    },
    {
     "name": "stdout",
     "output_type": "stream",
     "text": [
      "generated explanation: <pad> <extra_id_0> Picture book is a great resource for learning. It is a great way to learn about animals and animals. It is also a great way to learn about the animals and their habitat. It is important to understand their habitat and how they are fed. It is important to understand that they are not real and are not real. They are not real. They are not real. They are not real. They are not real. They are not real. They are just a form of entertainment. They are not real. They are a kind of a picture book. Picture book is a picture book is a picture book that is not real life stories that are not real life is a picture book is a picture book is a picture book is a picture book is a picture book is a picture book is a picture book is a picture book is a picture book is a picture book is a picture book is a picture book is a picture book.</s>\n",
      "########\n",
      "*******\n",
      "question: Where are seats often plush?\n",
      "answer: opera\n",
      "choices: ['rest area', 'theater', 'hockey game', 'classroom', 'opera']\n",
      "common expl list: ['Plush seats are generally found in more comfortabe, well-off establishments, and opera is often performed in such, less strict teents of, elegance of the decor.', 'Opera is a high-class form of entertainment, and thus, the seats are often plush.']\n"
     ]
    },
    {
     "name": "stderr",
     "output_type": "stream",
     "text": [
      "\r",
      " 19%|██████████████████████████████                                                                                                                                   | 184/986 [2:09:45<5:16:22, 23.67s/it]"
     ]
    },
    {
     "name": "stdout",
     "output_type": "stream",
     "text": [
      "generated explanation: <pad> <extra_id_0> : The seats are often plush and the seats are usually plush. They are usually located in the middle of the room, or between the seats. They are often located in the middle of the room, or in the middle of the room. The seats are usually plush and are often arranged in a way that makes them feel like they are being used to hold a larger object. The seats are often arranged in a way that makes them feel more comfortable. A lot of people enjoy the experience of being in a room and can be used to make it easier to move around the room.</s>\n",
      "########\n",
      "*******\n",
      "question: The comforter was used constantly and treaded upon by everyone, where should it be placed?\n",
      "answer: washing machine\n",
      "choices: ['garbage', 'linen closet', 'bedroom', 'washing machine', 'livingroom']\n",
      "common expl list: ['When you use your comforter (or any other high-traffic fabric) often, you ought to wash it often too. Therefore it should be kept in the washing machine, to enable quick washing.', 'Linens are often used (i.e., the comforter) and washed frequently.', 'The comforter was used constantly, so it should be washed frequently. Linen closets are where people store their bed sheets and blankets.']\n"
     ]
    },
    {
     "name": "stderr",
     "output_type": "stream",
     "text": [
      "\r",
      " 19%|██████████████████████████████▏                                                                                                                                  | 185/986 [2:09:48<3:56:00, 17.68s/it]"
     ]
    },
    {
     "name": "stdout",
     "output_type": "stream",
     "text": [
      "generated explanation: <pad> <extra_id_0> : The comforter should be placed where it was used most often. It should be placed in a place where it is not used by the people who use it. It should be placed where it is used to sleep and is used to wash the clothes. It should be placed where it is placed and not sat on the floor. It should be placed in a place that is not too deep or too small to use. It should be placed in a place that is not too small. It should be placed in a place where it should be placed in a place to be used to be used to wash hands and feet.</s>\n",
      "########\n",
      "*******\n",
      "question: Joe bought a ficus.  He thought it would look good in what part of his home?\n",
      "answer: family room\n",
      "choices: ['family room', 'tropical forest', 'flower garden', 'movie theater', 'hair salon']\n",
      "common expl list: [\"The ficus is an indoor plant, such as a plant one would have in one's family room. The family room is the ideal location for an indoor plant like a houseplant.\"]\n"
     ]
    },
    {
     "name": "stderr",
     "output_type": "stream",
     "text": [
      "\r",
      " 19%|██████████████████████████████▎                                                                                                                                  | 186/986 [2:10:18<4:42:24, 21.18s/it]"
     ]
    },
    {
     "name": "stdout",
     "output_type": "stream",
     "text": [
      "generated explanation: <pad> ficus is a ficus that is used in a family room. It is a ficus that is designed to be used in the family room. It is also used in the family room. It is used in the family room. It is a ficus is a type of ficus that is used in the family room. It is a ficus that is used in the family room. It is used in the family room, the family room, the family room, and the living room. It is also used to display a ficus is a ficus is a ficus is a ficus is also used to display a ficus is a ficus is a ficus is a ficus is a ficus is a ficus is a ficus is a ficus is a ficus is a ficus is a ficus is also a ficus is a ficus is</s>\n",
      "########\n",
      "*******\n",
      "question: Family is always the best for devotion, but it is also nice if a person has what?\n",
      "answer: loyal friends\n",
      "choices: ['good review', 'headache', 'with cat', 'loyal friends', 'shoes']\n",
      "common expl list: ['We may have devoted friends who would be there for us if we had need.', \"Because times may come when a person would like to go out and have fun with some friends, and it's nice if that person may have friends that he is faithful to.\", 'Loyal friends are always there for you, and they will always be devoted to you.']\n"
     ]
    },
    {
     "name": "stderr",
     "output_type": "stream",
     "text": [
      "\r",
      " 19%|██████████████████████████████▌                                                                                                                                  | 187/986 [2:10:24<3:42:34, 16.71s/it]"
     ]
    },
    {
     "name": "stdout",
     "output_type": "stream",
     "text": [
      "generated explanation: <pad> <extra_id_0> Family is always the best way to give back and help others. It is also a great way to give back to a loved one. It is also a great way to give back to a loved one. It is also a great way to give back to a loved one. It is also a great way to give back to a loved one.. It is also a great way to give back to a loved one. It is also a great way to give back to a loved one. It is also a great way to give back to a loved one's family members and friends who are a person who are a person's family is a great way to give back to the person who is a person who is a great way to give back to the person who is a person's life.</s>\n",
      "########\n",
      "*******\n",
      "question: Rap is not usually associate with what music often performed by an orchestra?\n",
      "answer: classical\n",
      "choices: ['folk', 'rock', 'good music', 'country music', 'classical']\n",
      "common expl list: ['Rap is generally associated with hip-hop music, which is normally performed by a single artist. Orchestras tend to play classical music, which often is performes with real instruments, rather than manufactured ones.']\n"
     ]
    },
    {
     "name": "stderr",
     "output_type": "stream",
     "text": [
      "\r",
      " 19%|██████████████████████████████▌                                                                                                                                 | 188/986 [2:13:13<13:50:14, 62.42s/it]"
     ]
    },
    {
     "name": "stdout",
     "output_type": "stream",
     "text": [
      "generated explanation: <pad> <extra_id_0> : classical music is not usually associated with what music often performed by an orchestra. Rap is not usually associated with what music often performed by an orchestra. Typically, it is performed by an orchestra, which is usually a piece of music that is not performed by an orchestra. Typically, it is performed by an orchestra, which is a group of musicians who perform a piece of music. Rap is not usually associated with the music of an orchestra. It is also associated with classical music. It is not usually associated with the music of an orchestra. It is not associated with the music of an orchestra. It is also not usually performed by an orchestra. It is not performed by an orchestra. It is often performed by an orchestra, but is often performed by orchestra, but not necessarily a classical music, it is not necessarily a classically-acoustic music, but it is acoustic music. It is also often performed by an orchestra, it is not a concert, it is not acoustic music, it is acoustic music, it is not acoustic music, it is not a concert is not a concert is a concert is a concert is a concert is a concert is a concert is a concert is a concert is a concert is a concert is a concert is a concert is a concert is a concert. It is a concert is a concert is a concert of the concert is a concert is a concert of the concert is a concert concert is a concert is a concert is a concert is a concert is a concert is a concert is a concert is a concert is a concert is a concert is a concert is a concert is a concert is a concert is a concert is a concert is a concert. It is a concert is a concert is a concert is a concert is a concert is a concert is a concert is a concert is a concert is a concert is a concert is a concert is a concert is a concert in concert. a concert is a concert is a concert, a concert is a concert is a concert is a concert is a concert is a concert, it is a concert is a concert is a concert is\n",
      "########\n",
      "*******\n",
      "question: At what structure can you see people you use a puck professionally?\n",
      "answer: hockey rink\n",
      "choices: ['hockey rink', 'locker room', 'sporting goods store', 'used in hockey game', 'teachers']\n",
      "common expl list: ['Pucks are commonly used in ice hockey, which is a professional activity.']\n"
     ]
    },
    {
     "name": "stderr",
     "output_type": "stream",
     "text": [
      "\r",
      " 19%|██████████████████████████████▊                                                                                                                                  | 189/986 [2:13:13<9:41:32, 43.78s/it]"
     ]
    },
    {
     "name": "stdout",
     "output_type": "stream",
     "text": [
      "generated explanation: <pad> <extra_id_0> : At what structure can you see people you use a puck professionally?</s>\n",
      "########\n",
      "*******\n",
      "question: Even when not in flight a bald eagle likes to have a lay of the land, because of this you'll see them perched up where?\n",
      "answer: high places\n",
      "choices: ['colorado', 'natural habitat', 'everglades', 'high places', 'tree']\n",
      "common expl list: ['Eagles like to be high up, so they can see a large area.']\n"
     ]
    },
    {
     "name": "stderr",
     "output_type": "stream",
     "text": [
      "\r",
      " 19%|███████████████████████████████                                                                                                                                  | 190/986 [2:13:17<7:00:12, 31.67s/it]"
     ]
    },
    {
     "name": "stdout",
     "output_type": "stream",
     "text": [
      "generated explanation: <pad> <extra_id_0> : bald eagles like to have a lay of the land. high places are the places where they are perched on the ground. They are often perched on a high platform. bald eagles like to have a lay of the land and have a lay of the land. They are also known as \"sea bald eagles\" and are often seen in flight as they are perched on the ground. bald eagles like to have a lay of the land.</s>\n",
      "########\n",
      "*******\n",
      "question: When is good time for garlic bread?\n",
      "answer: dinner\n",
      "choices: ['refrigerator', 'dinner', 'jail', 'supermarket', 'going on a date']\n",
      "common expl list: ['Garlic bread is often served with dinner.', 'Typical garlic bread is served with a maincourse and wine or other alcoholic beverage, and both are commonly served with dinner.']\n"
     ]
    },
    {
     "name": "stderr",
     "output_type": "stream",
     "text": [
      "\r",
      " 19%|██████████████████████████████▉                                                                                                                                 | 191/986 [2:14:55<11:23:56, 51.62s/it]"
     ]
    },
    {
     "name": "stdout",
     "output_type": "stream",
     "text": [
      "generated explanation: <pad> <extra_id_0> s and dinners. Dinners are good times for garlic bread.. True garlic bread is a great way to enjoy a good meal. Even if you are not able to eat garlic bread, it is not a healthy snack. It is also a great way to enjoy a meal together. It is a good time to enjoy a good meal. It is also a good time to enjoy a meal with friends. It is a good time to enjoy garlic bread at home. It is also a good time to enjoy garlic bread is a good time to eat it is a good time to enjoy a meal. It is a meal, it is a meal, it is a good time to a meal. Besides, it is a great time to eat garlic bread is a meal to enjoy a meal. A good time to eat garlic bread is a good time to eat garlic bread is a good time to enjoy a good time to enjoy a meal. A good time to enjoy a good time to enjoy a meal. a good time to enjoy a good time to a good time to eat a good time to eat a good time to enjoy a good time to enjoy a good time to enjoy a good time to enjoy a good time to enjoy a good time to eat a good time to enjoy a good time to enjoy a good time to enjoy a good time to enjoy a good meal to enjoy a good time to enjoy a good time to a good meal to a good meal to a good</s>\n",
      "########\n",
      "*******\n",
      "question: Where is the sky fake?\n",
      "answer: planetarium\n",
      "choices: ['shed', 'atmosphere', 'photo', 'outdoors', 'planetarium']\n",
      "common expl list: ['Planetariums are places built to simulate the sky indoors; the opposite of outdoors.', 'Planetariums are buildings that simulate the sky.']\n"
     ]
    },
    {
     "name": "stderr",
     "output_type": "stream",
     "text": [
      "\r",
      " 19%|███████████████████████████████▏                                                                                                                                | 192/986 [2:16:54<15:51:48, 71.93s/it]"
     ]
    },
    {
     "name": "stdout",
     "output_type": "stream",
     "text": [
      "generated explanation: <pad> <extra_id_0> Planetarium is a fake space. Planetarium is a fake space. It is a fake space that is created by a spacecraft that is not a real space. It is a fake space. It is a fake spaceship that is created by a spacecraft that is used to create space and create space. It is a space station that is used to create space and create space. It is a fake spacecraft that can be used to create spaceships and to create a spaceship. This is a space station. This is the sky is also a space station that is also a space station that is used to create a space station that is used to create space. The spaceships are used to create space and can also be used to create spaceships are used to create spaceships are used to create space. It is used to create spaceships are used to create a space station to create spaceships are used to create spaceships are used to create space and to create space to create space. The sky is used to create spacecrafts are used to create spaceships are used to create space ships are used to create spaceships are used to create spaceships are used to create spaceships are used to create space ships and to create spaceships. The spaceships are used to create space ships and to create spacecrafts are used to create spaceships to create space ships and to create space ships and to create a spacecrafts that can be used to create space ships and to create space ships and to create space ships and to create space ships and to create space ships and to create space ships and to create space ships and to create space ships and to create space ships and to create space ships and to create spaceships and to create space ships and to create space ships and to create space</s>\n",
      "########\n",
      "*******\n",
      "question: Boats that aren't on the ocean travel across the surface of what?\n",
      "answer: lake\n",
      "choices: ['lake', 'ocean', 'tetrahedron', 'mirror', 'object']\n",
      "common expl list: [\"Lakes (and ponds) are bodies of fresh water surrounded by land, and boats exist on water, and thus, will tend to travel across lakes' surfaces.\"]\n"
     ]
    },
    {
     "name": "stderr",
     "output_type": "stream",
     "text": [
      "\r",
      " 20%|███████████████████████████████                                                                                                                                | 193/986 [2:19:47<22:29:30, 102.11s/it]"
     ]
    },
    {
     "name": "stdout",
     "output_type": "stream",
     "text": [
      "generated explanation: <pad> <extra_id_0> Lakes are not a lake. Lakes are a lake that is not a lake. It is a lake that is a lake that is a lake. It is a lake that is a lake that is a lake. It is a lake that is a lake that is a lake. It is a lake that is a lake that is a lake that is not on the water. It is a lake that is a lake that is not on the water. It is a lake is a lake is a lake, and it is a lake. It is a lake and is a lake. a lake is a lake. It is a lake. It is a lake. It is a lake. It is a lake is a lake that is a lake. Lakeside lake. Lakes are a lake. It is a lake. It is a lake. Lakes are a lake. Lakes are a lake. Lakes are a lake. Lakes are a lake is a lake. It is a lake is a lake. Lakes are a lake that is a lake. It is a lake is a lake. It is a lake. Lakes are a lake that is a lake. It is a lake that is a lake. It is a lake. Lakes are a lake. Lakes are a lake that is a lake. Lakes are a lake. Lakes are a lake that is a lake. Lakes are a lake that is a lake is a lake that is a lake. Lakes are a lake that is a lake is a lake that is the largest lake. Lakes are a lake is a lake. Lakes are a lake. a lake is a lake. a lake that is a lake that is a lake is a lake that is a lake. It is a lake that is a lake that is a lake that is a lake is a lake that is a lake that is a lake that is a lake that is a lake. Lake. Lake is a lake that is a lake that is a lake that is a lake that is a lake is a lake that is\n",
      "########\n",
      "*******\n",
      "question: A small dog lived with a a woman who loved him. Where might he have lived?\n",
      "answer: person's house\n",
      "choices: [\"person's house\", 'dog house', 'canada', 'illinois', 'basket']\n",
      "common expl list: ['Animals who live with humans are often in their homes.', \"Dogs are often kept as pets, and pets are often kept in their owners' homes.\"]\n"
     ]
    },
    {
     "name": "stderr",
     "output_type": "stream",
     "text": [
      "\r",
      " 20%|███████████████████████████████▍                                                                                                                                | 194/986 [2:20:26<18:19:14, 83.28s/it]"
     ]
    },
    {
     "name": "stdout",
     "output_type": "stream",
     "text": [
      "generated explanation: <pad> <extra_id_0> A small dog lived with a woman who loved him. A small dog lived in a house with a woman who loved him. A dog lived in a house where he would have lived if he had lived. A small dog lived in a house with a woman who loved him. A small dog lived in a house with a woman who loved him. A small dog lived in a small house with a woman who loved him. A small dog lived in a small house with a woman who loved him. A small dog lived in a small dog could have lived in a small house with a woman who loved him. A small dog would have lived there with a small dog would have lived a small dog. A small dog was a small dog was a small dog grew up in a small dog grew up in a small dog, a small dog in a small dog in a small house with a small house with a small dog. The dog's house with a small dog in a small dog, a small dog, a small dog, a small house with a small dog.</s>\n",
      "########\n",
      "*******\n",
      "question: There are usually four strings on what popular instrument?\n",
      "answer: guitar\n",
      "choices: ['trumpet', 'kite', 'quark', 'guitar', \"bird's nest\"]\n",
      "common expl list: ['A guitar is a stringed instrument with four strings.', 'Guitars have four strings.']\n"
     ]
    },
    {
     "name": "stderr",
     "output_type": "stream",
     "text": [
      "\r",
      " 20%|███████████████████████████████▋                                                                                                                                | 195/986 [2:20:36<13:26:06, 61.15s/it]"
     ]
    },
    {
     "name": "stdout",
     "output_type": "stream",
     "text": [
      "generated explanation: <pad> <extra_id_0> guitar is a popular instrument with a variety of strings. Guitar is a popular instrument for musicians to play music on the guitar. Guitars are usually composed of strings that are connected to the guitar. Guitars are usually made up of four strings. Guitars are often made up of two or more strings. Guitars are generally made up of two or more strings. Guitars are made up of two or more strings. They are usually made up of two or more strings. The strings are usually a string. The guitar is usually made up of four strings. The guitar is a guitar is a popular guitar is a popular instrument that is a popularly known as the guitar is a guitar is a guitar with a single string. The guitar is a guitar is a guitar has a guitar is a single strings are a guitar is a guitar is a single string.</s>\n",
      "########\n",
      "*******\n",
      "question: Where would you find a shelf with toys for young people learning?\n",
      "answer: school building\n",
      "choices: ['corner', 'school building', 'wall', 'library', 'bookstore']\n",
      "common expl list: ['A school building is a place where children learn, and so, a school building would have a shelf with toys for young people learning.', 'School buildings house school libraries, in which you would find shelfs of toys, games and puzzle for students to use while in school.']\n"
     ]
    },
    {
     "name": "stderr",
     "output_type": "stream",
     "text": [
      "\r",
      " 20%|████████████████████████████████                                                                                                                                 | 196/986 [2:20:39<9:35:22, 43.70s/it]"
     ]
    },
    {
     "name": "stdout",
     "output_type": "stream",
     "text": [
      "generated explanation: <pad> <extra_id_0> School shelf is a shelf for toys for young people learning. School shelf is a shelf for toys for young people learning to build. It is also a shelf for toys for young people learning to build. It is a shelf for toys for young people learning to build their own toys. It is a shelf for young people learning to build their own toys for learning. It is a shelf for learning about the world around us. It is a shelf for learning and teaching young people how to build their own toys. It is a shelf for learning.</s>\n",
      "########\n",
      "*******\n",
      "question: What can you get after drinking too much alcohol?\n",
      "answer: sickness\n",
      "choices: ['become drunk', 'have fun', 'active', 'frequent urination', 'sickness']\n",
      "common expl list: [\"Alcohol (e.g., beer, wine, etc.) is a chemical that alters people's consciousness, making them generally feel unpleasant; subsequently, over-consumption can lead to the vomiting of one's content inside one's stomach. Hence, being\", 'Alcohol is a diuretic, which means that it makes you urinate more frequently. This can lead to dehydration, which can cause sickness.', \"Drinking too much alchohol can impair the body and, consequently, one's ability to think straight. It can also cause sickness.\"]\n"
     ]
    },
    {
     "name": "stderr",
     "output_type": "stream",
     "text": [
      "\r",
      " 20%|████████████████████████████████▏                                                                                                                                | 197/986 [2:20:42<6:56:47, 31.70s/it]"
     ]
    },
    {
     "name": "stdout",
     "output_type": "stream",
     "text": [
      "generated explanation: <pad> <extra_id_0> sickness is a condition that can cause a person to die from alcoholism. It is a condition that can cause a person to experience severe symptoms of a disease or illness. It is also a condition that can cause a person to feel ill and be ill. It is also a condition that can cause a person to be ill. It is a condition that can cause a person to suffer from a health condition that can cause a person to become ill. It is a condition that can cause a person to be unable to function well and to suffer from a person to be unable to control.</s>\n",
      "########\n",
      "*******\n",
      "question: WHat is the central bank responding to when they are fighting inflation?\n",
      "answer: problems\n",
      "choices: ['deflation', 'problems', 'spend more', 'people', 'not noticeable']\n",
      "common expl list: ['Inflation is a function of having too much money in the economy. This may cause problems.', 'Periods of inflation cause problems for businesses and people. The central bank may take steps to fight inflation (reduce it) to respond to this problem. Reducing inflation also solves the overall issues.', 'Inflation is a problem, and the central bank is responding to it by fighting it.', 'In order to fight inflation, a central bank must respond to the problem, e.g., economic trouble, which if left alone, would cause inflation']\n"
     ]
    },
    {
     "name": "stderr",
     "output_type": "stream",
     "text": [
      "\r",
      " 20%|████████████████████████████████▎                                                                                                                                | 198/986 [2:20:45<5:02:27, 23.03s/it]"
     ]
    },
    {
     "name": "stdout",
     "output_type": "stream",
     "text": [
      "generated explanation: <pad> <extra_id_0> monetary policy is a complex and complex system that is designed to help solve problems such as inflation and the rate of interest. The central bank is able to manage its money by reducing the amount of interest and money borrowed. The central bank is able to manage the risk of inflation by reducing the risk of inflation and reducing the risk of inflation. The central bank is able to manage the risk of inflation by reducing the risk of inflation by reducing the risk of inflation. The central bank is able to manage the risk of inflation.</s>\n",
      "########\n",
      "*******\n",
      "question: What could a massive building be if it is not constructed well?\n",
      "answer: insubstantial\n",
      "choices: ['insubstantial', 'massless', 'dwarf', 'inconsequential', 'good']\n",
      "common expl list: ['Because the massive structure is so large, poor construction could render it largely inconsequential, or \"insubstantial\", as a structure.', 'A building is typically considered a sizable construction, therefore, if erected poorly, would be construed as being insubstantial.']\n"
     ]
    },
    {
     "name": "stderr",
     "output_type": "stream",
     "text": [
      "\r",
      " 20%|████████████████████████████████▍                                                                                                                                | 199/986 [2:21:36<6:52:16, 31.43s/it]"
     ]
    },
    {
     "name": "stdout",
     "output_type": "stream",
     "text": [
      "generated explanation: <pad> Insubstantial explanations are given to the building that is not constructed well. Insubstantial explanations are given to the building that is not constructed well. Insubstantial explanations are given to the building that is not constructed well. Insubstantial explanations are given to the building that is not constructed well. Insubstantial explanations are given to the building that is not constructed well. Insubstantial explanations are given to the building that is not constructed well. Insubstantial explanations are given to the building that is, the building that is not constructed well, if it is constructed well, if it is constructed well is constructed well, and the building is not constructed well, and the building is constructed well. Insubstantial or insubstantial or insubstantial and insubstantial explanations are also given to the building is also used to construct well, the building is used to construct well, the building is used to build well, the building is used to build well, the building is also used to construct poorly, the building is used to construct well, the building is used to construct well, and the building is used to construct well, and the building is used to construct a building is used to construct the building is used to construct </s>\n",
      "########\n",
      "*******\n",
      "question: If you rent a condominium in a glove-shaped state where are you?\n",
      "answer: michigan\n",
      "choices: ['great lake state', 'michigan', 'community', 'towels', 'complex']\n",
      "common expl list: ['A condominium is a type of housing that is often rented. Condominiums are often located in complexes, and Michigan is a state that is shaped like a mitten.']\n"
     ]
    },
    {
     "name": "stderr",
     "output_type": "stream",
     "text": [
      "\r",
      " 20%|████████████████████████████████▋                                                                                                                                | 200/986 [2:21:37<4:49:58, 22.14s/it]"
     ]
    },
    {
     "name": "stdout",
     "output_type": "stream",
     "text": [
      "generated explanation: <pad> <extra_id_0> If you rent a condominium in a glove-shaped state where you live, where are you?</s>\n",
      "########\n",
      "*******\n",
      "question: where do children play a game?\n",
      "answer: family room\n",
      "choices: ['toy store', 'bar', 'casino', 'table', 'family room']\n",
      "common expl list: ['A family room is a room in a house where family members can play games.', 'A family room is a room in many homes in which families can socialize, often through games. One such game is \"connect four.']\n"
     ]
    },
    {
     "name": "stderr",
     "output_type": "stream",
     "text": [
      "\r",
      " 20%|████████████████████████████████▋                                                                                                                                | 200/986 [2:21:58<9:17:56, 42.59s/it]"
     ]
    },
    {
     "name": "stdout",
     "output_type": "stream",
     "text": [
      "generated explanation: <pad> <extra_id_0> Family room is the place where children play a game. Playing a game is a way to encourage children to play a game.. Then, the children play a game of their own choosing. The children play a game in a family room, in which they can play with their friends, family, or friends. Then, the children can play a game of golf, for example, or play a game of their own. The children can also play a game of golf, for example, or play with their friends and family members can also play. The family room. The children can also play a game of the game of the game of cards, cards, cards, and other children can also play the game of the game of the game of the game, and the game of the game of the game of the game of the game of the game of the game of the game of the game of the game of the game of the game of the game of the game of the game of the game of the game.</s>\n",
      "########\n"
     ]
    },
    {
     "name": "stderr",
     "output_type": "stream",
     "text": [
      "\n"
     ]
    }
   ],
   "source": [
    "from tqdm import tqdm\n",
    "fse_csqa_dev_data_dict\n",
    "fse_csqa_train_data_dict\n",
    "rationale_pair_dev_data = []\n",
    "cc=0\n",
    "good_model = model\n",
    "for da in tqdm(our_data_splits['dev'], total=len(our_data_splits['dev'])):\n",
    "    print(\"*******\")\n",
    "    print(\"question: {}\".format(da['question']))\n",
    "    print(\"answer: {}\".format(da['answer']))\n",
    "    print(\"choices: {}\".format(da['choices']))\n",
    "    #print(\"our_explanation: {}\".format(da['our_explanation']))\n",
    "    id_ = da['id']\n",
    "    if id_ in fse_csqa_dev_data_dict.keys():\n",
    "        common_expl_list = fse_csqa_dev_data_dict[id_]['common_expl_list']\n",
    "    else:\n",
    "        common_expl_list = fse_csqa_train_data_dict[id_]['common_expl_list']\n",
    "    da[\"common_expl_list\"] = common_expl_list\n",
    "    print(\"common expl list: {}\".format(common_expl_list))\n",
    "    inp_ids = torch.tensor(da[\"input_ids\"], device=model.device).reshape(1, -1)\n",
    "    out = good_model.generate(\n",
    "                    inp_ids,\n",
    "                    max_length=512,\n",
    "                    pad_token_id=tokenizer.pad_token_id,\n",
    "                    eos_token_id=tokenizer.eos_token_id,\n",
    "                )\n",
    "    skip_special_tokens = False if \"infilling\" in data_args.io_format else True\n",
    "    words = tokenizer.decode(out[0].tolist(), skip_special_tokens=skip_special_tokens)\n",
    "    print(\"generated explanation: {}\".format(words))\n",
    "    da[\"generated_explanation\"] = words\n",
    "    print(\"########\")\n",
    "    rationale_pair_dev_data.append(da)\n",
    "    cc += 1\n",
    "    if cc > 200:\n",
    "        break\n",
    "    #pdb.set_trace()"
   ]
  },
  {
   "cell_type": "code",
   "execution_count": 1,
   "id": "a7a66b99",
   "metadata": {},
   "outputs": [
    {
     "ename": "NameError",
     "evalue": "name 'os' is not defined",
     "output_type": "error",
     "traceback": [
      "\u001b[0;31m---------------------------------------------------------------------------\u001b[0m",
      "\u001b[0;31mNameError\u001b[0m                                 Traceback (most recent call last)",
      "\u001b[0;32m/tmp/ipykernel_152646/3747204145.py\u001b[0m in \u001b[0;36m<module>\u001b[0;34m\u001b[0m\n\u001b[1;32m      1\u001b[0m \u001b[0;32mimport\u001b[0m \u001b[0mjson\u001b[0m\u001b[0;34m\u001b[0m\u001b[0m\n\u001b[0;32m----> 2\u001b[0;31m \u001b[0mrationale_pair_save_path\u001b[0m \u001b[0;34m=\u001b[0m \u001b[0mos\u001b[0m\u001b[0;34m.\u001b[0m\u001b[0mpath\u001b[0m\u001b[0;34m.\u001b[0m\u001b[0mjoin\u001b[0m\u001b[0;34m(\u001b[0m\u001b[0;34m\"./results\"\u001b[0m\u001b[0;34m,\u001b[0m \u001b[0;34m\"24shots_cose_t5_base_text003_200_250_rationales_generator_test_rationale_pair.json\"\u001b[0m\u001b[0;34m)\u001b[0m\u001b[0;34m\u001b[0m\u001b[0m\n\u001b[0m\u001b[1;32m      3\u001b[0m \u001b[0;32mwith\u001b[0m \u001b[0mopen\u001b[0m\u001b[0;34m(\u001b[0m\u001b[0mrationale_pair_save_path\u001b[0m\u001b[0;34m,\u001b[0m \u001b[0;34m'w'\u001b[0m\u001b[0;34m)\u001b[0m \u001b[0;32mas\u001b[0m \u001b[0mf\u001b[0m\u001b[0;34m:\u001b[0m\u001b[0;34m\u001b[0m\u001b[0m\n\u001b[1;32m      4\u001b[0m     \u001b[0mjson\u001b[0m\u001b[0;34m.\u001b[0m\u001b[0mdump\u001b[0m\u001b[0;34m(\u001b[0m\u001b[0mrationale_pair_dev_data\u001b[0m\u001b[0;34m,\u001b[0m \u001b[0mf\u001b[0m\u001b[0;34m)\u001b[0m\u001b[0;34m\u001b[0m\u001b[0m\n",
      "\u001b[0;31mNameError\u001b[0m: name 'os' is not defined"
     ]
    }
   ],
   "source": [
    "import json\n",
    "rationale_pair_save_path = os.path.join(\"./results\", \"24shots_cose_t5_base_text003_200_250_rationales_generator_test_rationale_pair.json\")\n",
    "with open(rationale_pair_save_path, 'w') as f:\n",
    "    json.dump(rationale_pair_dev_data, f)"
   ]
  },
  {
   "cell_type": "code",
   "execution_count": 52,
   "id": "33daef0f",
   "metadata": {},
   "outputs": [
    {
     "data": {
      "text/plain": [
       "dict_keys(['5b8a3081c3235d62bc77e2d15f3ad454', '07f108d5321a66f460685f5c7499ecb2', 'ff1bf2ec835c9df8695ae0cfb5281646', '33ea932a876ac0361c9eefeff1d24e92', '35ad89c198d5d6311a71c993bb7b6cba', 'a2aa95861ef74bf1ecfc55db505e3982', 'af3b9a8b1962cd3bcd19e644d873e7bc', '91e0f4ab62c9d2fd440d73a3f5308d96', 'cfc7fccb8449a2a950c9d2a50991420e', 'edbb57ac2f476679ae547f75ec2bef3e', '8555dd9667d010018961a2f7d1c22704', '8bdbb8caefcc607a9ec7579aa0c87cba', '549cf641318edfc0510fa7c7dbb359e1', 'd6c002d46d9bfa466637cec4a134f332', '3b9ccdcb1c932c46a38e040d3e6c7f5b', '54231f875bb7fe4d3e4afb6eae64387c', '668dc6bce771b10cbf6336f3ec76520a', '900492bd731f8f615ed7c08155737d44', '0b25bbd9e9aa976655e1975e31331709', '1729c737ff92cf558efecde2c6cafc5e', 'cc1a547bdfdcc95e4d632453af14bc96', 'c492b8b9754a181c924c1df19998cbc7', 'd31ee38f67d1173275e120b8ad36039c', '083861fc5ebb9226fff70544f3f83d2b', 'e1744fc698cffb574e5cf4b29a81ce76', '1f492f556fae64f72ce36b6caa242dd0', '27604394ccee83e089f9ffae1883cf07', 'b3dc6d6a5e2f9d7da8eb72816c80b3f8_1', '6bc3ebcfd04965c25bde71339955746c', '69335eb9bc5b7b5df840c38a086bf8b2', 'bc05bc6b4df7a3d25a361515fe8912ad', 'f7c005244d406b9bde48dc8c22003af1', 'f48528156632b9c5b18af9ce2095509b', 'b5baf77d3855935c87f01f5fb2216667', 'db1eb157671109bbb9113b0f71a6b957', '77ddc9134bb27f9962aa2ed5ec5a5ef9', '6abd34442438509b4a00c69d6fd24764', 'b67971747e95ba425a5b81e0ba8d0b28', 'bee2a6eadfaf7a4fa0a214e341ddbe5b', '8ce13c6e08bf38d4cd4af756b661e47c', '80930e9df9ac4ad752749a54e7fc124f_1', '3ffe67fb009529d9b0c49ccd7141ee4a', '8d3dc21a53523850ec80771daaa5ff20', '3310b5b24f03d67179fababf9ae95144', '998381f854f51da2a6ccde45909e5168', 'f427f9de6bf580314531baf86de8acbc', '18844d3aa4e52b331b5382c8244cf4db', '8af63d58cc35061dec38e5448c325988', '768fb09deab56046e1565b6a2556ad5c', '5655a3002dd9a6b7dabede1dd26a5893', '07ea8ff6ee916f2bf9aceab1e19ff99a', 'd35a8a3bd560fdd651ecf314878ed30f', '449de58e919975867255218484a9fc89', '7cf54544d54818d53e7088c0749a3eca', 'd29252ddaf7c7ef491abcce342d7bb98', '4a4f6408fae400ce0beb5bea0f9913e9', 'c306ab28498b67c53decb9dde1d78bd5', 'ba9132ebf2bc3ad21e6a0631dc4e0a77', '026cb9c07a583ec933f2c4c67ae73836', '2a21820a135e1a49883525c055c74a0b', '7c45033e9fd9f1a759923971b14390ed', 'dc964e4f6df6b70815e81e466d0ff717', '2a32b1e541b1daae04690d0d3a4b3310', '6c515b068b4d3aa88a5382224d9b866d', '6c84e79d0595efd99596faa07c4961d0', '42c46e28baf0fc617a07419286178c0a', 'c39131d979c9205c11d0e109e18188e4', 'c592258c88295756833e9796e881057b', '3526550b02d9594abd4fc43553010fc6', '637c710ec9582fd9b9e8eaa3f3fe83bb', '01f01cc3ad152773ef42b30e926912bf', 'c54ddc0f9d170ba65d9f4f2e0bb41d1c', 'ad37795fd9e3a65553683ff305b5113d', '7a3d0c94438a5c8a09364aaebb848a2c', '7c05e8d5a057085455eea243fbd1cd90', '4364b4b342fb7b44434bd6694bf8fd51', '99098375c7b651d524eebac72e358238', '1ddd239a2a6438a891cb411b82e7f450', 'f4bb8ecacb9ce89e040f5f76bc79afb3', '6b9221c1af583ffb43580857d6fde38a', 'cf8e30dd6956d03e3f0f0397112a8696', '456f2fb41cac8c028dcfe2f48637e473', 'c908d7c4633c5e6add9463bdd47cb27e', '2de08c7a518b7c226e19bdc8fc10ef1d', 'cd639cf3ff82f825ace7dd2b087562bd', 'e3c6d147f8a727d314046e70e9579ba0', 'b9b82aa4c236cd342ff95455b8516a42', 'e4976ee741cf4b28b8a42780ffb15774', '8d275acea05fd16295c659c504576a9b', '3bf06235a537adc9d85431846595b800', 'a7d51b753c2113d8b2dbd0ebb5375855_1', 'bcc5dd6292a64d8fa17cd07c360b335d', '46ba5d2b8cfc6708e5e2618568d8730e', '9f9ca9bb06d6afc31b19c365fb29a1c9', '3d9c3253e24fb108cea9083e8a853cf2', '3b8e1d236f5169b6c833a994d6d9c39a', '6ca8439d062de4d43d7d471c508b78db', 'ec86900559a0faf2aef066e511a4cfa6', '57e96118fee6e2bbac5f59790fc833c0', '520b0eea9148e3cb4d45aa69a55491eb', '6be05d227f4f6fe727218fc8be9df340', '113aaea2b1a27a976547f54e531d99bb', '2f0931adc3d0d422d9ab6264395e89d8', 'cce1b59f7c4f540a84a1a7d6d88548c4', '870b07a1c5af2e956673a9680da99852', '34005ef0caafefc8585c9fcd50e94557', '22458fdcead20e2def0df0d92d5806f6', 'ec224c1dbfb569cce7ec317fe987ae68', 'ede4d302fc2ffe07703158f83c1493f2', 'ecd32cc0c17d4738a27bba3399f04591', '5c171b9837af49211891ce40e4a10204', '801431167b8bff06b9870abe9721536b', 'b47d912136e3304cb5e5890b6b879551', 'd0bd5b5ee7319d1c4727e38d429dd54e', '78276a4eab6e8d6b9ae3749211816977', 'ec79ef747bb89281923edb89ba26786d', '0e80f2afe5c4f652e8720b52d7c06c87', '39572e0ba1db51fa74f7fc2d90c5ec7f', '56417ee33b44f0d916bedfb6fd99b0ec', 'f996430ce208606452868fd2e739d409', '858a5eaa587fe0e266722228671a6bd1', '273d0134e8ce53d4ebcf41ca7fde02af', '49e466b1782aa4837dae53ff891fcdee', '08d908ed723f813574992195d61386a2', '7192c9f5c513aac9042bad595ff5af9f', 'aa4c5d2d348796b8d7fa324f27f4c34f', '0e52659484f2f6d763cf0d38d4c5999d', '4423c006f2a43f222d4c4e97360c25d3', 'f4a75bf3f115b826a8097edfd0ff2781', '07b51b231a9d6a143d8a73e69121e1b1', 'c2a8c6814ed3e207771cfc23b3b42cf1', 'f13efb91090dd28fd2b3c1f4dde680fd', '985a4f1a3f31f1ba6654f4fc48f504df', '9e5ce2b7d9eb404cdf8c7317dd0b5a59', 'a400b9fd1e319f901471c4b42d401c52', '042898e0c71adac5d123aaa6221c9754', '29c194d032a266a7160bff6f546a4d9d', 'db0cfd52ca6b2bbfcf26d1a898fd929b', '2a0e82bbf1471290c93c8f2a11af197f', '49b4c9e1bd7946a819e173ce8fa4c7c9', '6cb895ce89995f6be422f7c4167c7638', 'df1bf6f3f87975aa0c1b6d6153d9ecef', '1bf4c6b5bd870b1a079106e1e97e5d09', '8ae24d3ff199077a59e0d970feb665b7', 'bb503ece4eac41dfe608a1dcb654e6bf', '6e77de03bee86d6c20780e14f00944d0', '5799089c131e26473697afc54d5f6964', '895aa97bb84d874d71b2aed572cebfdd', '23d97480fe45bace231503f8fc367a5b', 'a2977fd575faba162d04a490dabd1b9b', '5a1c8a9dbbb60e523cc1ba14a370729c', '5496c7293f653120e5a5213db2d7b103', '7044d82a456d0fa6f0210abb03cbf2c4', '15b090801256085ad465e74af47cbee9', 'aa984e2b487d08889bc0c73bab5ac945', '4302e727e47f464511d4d04f22bed0d2', 'b6b66d4519a84b8331ea55f84767e9df', '0e5c7c0cec5b693e52f74f5f879d84fb', 'e408a5a031caec33782cb3b3a005eecc', '96cb628fb7ed2f53245598f707ed2b80', '2067720531fc03c017af941cec2f6f40', '5b8d76889510384b38b72945e8d28f53', 'cf33e0f5891ce53a716432be06a46ee1', '24eebfa678112100803da16dde148b2d', '0c2fa15a02d0b6ca6707e98fac7589e4', 'c2c2a387fd9a6a26cff636008de21f71', 'f20d40bc4af588223e880e0bb58b27b8', 'b42ef8be1748c19fa5938de5396f8fad', '57b83653d82b27d32bc39228130f3516', '2192c5c2145a6e03755ad89a02e64055', '175e7dcdded13d5adafaebf2264c3abd', '8d4b0312f02be445e09a9462873d02bb', 'cfa081b5ba90dae4d7ddb5b7ad9d369a', 'd6bb990e8c409d2b3af37a2da198e01f', '20a3bb788cf408d9a3e25e610fe60905', 'af11faa29097b71141fe192ad019d1dd', '6915dfdefe3b1cd5fd8886c8bb84929a', '43ba9669564217f2f909f33acbedaf95', 'fce1c5d069758aea57a787fc98dcf7a9', '32758ab86d888be680845b0dfe7de35e', '7ea57ee4580042b0a6a40479c8ace3e4', '21fb76bd8349628b441c76f47c33e77b', '3fe45ab3bd4a844ea290050fc0ece8c1_1', '3dee8fc7f0a3fbf4de111b6686fca157', 'ceafca2445b1b974d085a8cce38e8e44', '42520bf3f93f8de23670044e019001a3', '5ea6b94d1a911365b06cf776919413e8', '2d3c9d3dff1a7a8253180cb3de1ceeea', 'a4892551cb4beb279653ae52d0de4c89', 'e050bce7048da1b3743a54153e91694e', 'eb50f536830ba18ab987c7ff652e2aba', '6386bcf080633bc3eeb3317a5435b7b7', '839f3c37622c1ed5eebc9cd0b9d658e8', '009a7aabffe0583fc2df46656b29c326', 'c82ed0c2a2e115452b4d596c5faafbcf', '01abce8c4964371d85a5be2019f75827', '7d937233b4a9043da0b976dbd42d141b', 'c611875b43b67b91030b889b267bbcb3', '7bc1198664b376f79d584725ad7f874b', '5e260e1d96187716888cbd968010bb65', 'fde48d43e27cefed6ed9c52514e0bb6d', '43ab0ff711e60d51f943bbd2cdd6515a', '1a8b3c2a46efabcbd506f9cf70886ed0', '48a315cfa3ce11f7a9d615bc854331d5', '095767956c500ca1af7cf7671556de5b', 'de54d03e69d9765872f95ff06ed21499', 'cbf3dd48b4d591fc872a53cd4b9dd3af', '35872be88df5f6c4a6600020266a5458', 'a90f9197a13c64089c9ba95bcba275ad', 'bd4e80fa6642a76c064d0bc924411fb0', '008b7ba0c039f6d0d542c6c90aae173c', 'ace8fa2943ba8414aebdb74b48906fae', '1caf93d6a22dc8190e19c14bbe1fafda', '7c8bc9c0e56389eef033bca40c88c151', '6195ed74cf445cb5d991e1076a080dde', '8086f022f2d4a4888ae1f8c7e4541ab9', '1e5a138b4c7d456c37abf4990b402bbe', '3f4b48708d08f8bf7bec796531023f9c', '60e92cd2f35c345872d1a898e1718d55', '9889e5389917d812c09d6e5d382d333d', '46351b3a6beb694c5f623583a3b1473d', '7b7941b883328ad39048d4dfb1eb5623', '7d7f7d7a8ae3b20ca9fc0da6efe467b4', 'c961578f4c5768b67b843e5d2ce18452', '514310637fb43a252bfadc8cbf79b277', '5279a2ea333ba8a5bf3a7637a7279da1', '5622e49306bb82ec1cec817ad0506c60', 'fcd39cfa321728fea069a6ae4285b06f', '26bd85f05d29863ed777a4f1a4b8fa63', '31487ab8b1e8f12e252590cc58bd19c2', 'ffd89796a9b09bef56c5803f188764c6', 'ba3a2b9ff289c106051163f840a6f5ba', 'b1f36d1c8ab7e5a28783cb38e8709c27', '5c2bc4335c8860342ec2d568ceb6ac6b', '36c1f50eec01c287b8ef6ffe69fe0528', '515834727e23e30ab7c8fe5ba7e9a765', 'a15d564d0be6996251b5d523ac62db2a', '8f01273422a370a8dbda6bf473a395a0', 'cabefb7063a728e77abd44d97397a2a4', '1bc986f8aea88d6927d8a45367855a94', '484f6e4fb8e6431b010c299490b72e3c', 'a7e3de0719fe30e7048f67426e29fdd1', 'a617eb4d27edea93e7fd630ce00c8219', '2c0030cc14a27be2401dcfdaa501f0fc', 'cf02cca40a47c2deefd8b2e5a5ff2f70', 'ea0e7771afd86a59fd9f7764b77e3fa4', 'c1aebf059c5102f4e773f7fe4afe13f0', '95a85df48902d23eb3fda25a99fca1a0', 'a4b44a986e7f9045432e20ea75611df4', '05490e6c191fbc3c2fe0033ed0bd8aa0'])"
      ]
     },
     "execution_count": 52,
     "metadata": {},
     "output_type": "execute_result"
    }
   ],
   "source": [
    "fse_csqa_dev_data_dict.keys()"
   ]
  },
  {
   "cell_type": "code",
   "execution_count": null,
   "id": "bd852d7d",
   "metadata": {},
   "outputs": [],
   "source": []
  }
 ],
 "metadata": {
  "kernelspec": {
   "display_name": "Python 3 (ipykernel)",
   "language": "python",
   "name": "python3"
  },
  "language_info": {
   "codemirror_mode": {
    "name": "ipython",
    "version": 3
   },
   "file_extension": ".py",
   "mimetype": "text/x-python",
   "name": "python",
   "nbconvert_exporter": "python",
   "pygments_lexer": "ipython3",
   "version": "3.7.0"
  }
 },
 "nbformat": 4,
 "nbformat_minor": 5
}
