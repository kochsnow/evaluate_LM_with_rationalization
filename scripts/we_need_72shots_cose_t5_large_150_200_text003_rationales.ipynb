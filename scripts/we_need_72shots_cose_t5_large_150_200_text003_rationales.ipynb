{
 "cells": [
  {
   "cell_type": "code",
   "execution_count": 1,
   "id": "f5286ba7",
   "metadata": {},
   "outputs": [
    {
     "name": "stderr",
     "output_type": "stream",
     "text": [
      "\u001b[34m\u001b[1mwandb\u001b[0m: Currently logged in as: \u001b[33mdengdenghuang\u001b[0m (\u001b[33mcuhk_lavilab\u001b[0m). Use \u001b[1m`wandb login --relogin`\u001b[0m to force relogin\n"
     ]
    },
    {
     "name": "stdout",
     "output_type": "stream",
     "text": [
      "env: WANDB_PROJECT=evaluate_LM_with_rationalization\n"
     ]
    }
   ],
   "source": [
    "import wandb\n",
    "wandb.login()\n",
    "\n",
    "%env WANDB_PROJECT=evaluate_LM_with_rationalization"
   ]
  },
  {
   "cell_type": "code",
   "execution_count": 2,
   "id": "30300ea6",
   "metadata": {},
   "outputs": [],
   "source": [
    "# import gpt3\n",
    "import logging\n",
    "import math\n",
    "import os\n",
    "\n",
    "from typing import List, Dict, Any, NewType\n",
    "\n",
    "InputDataClass = NewType(\"InputDataClass\", Any)\n",
    "os.environ[\"CUDA_VISIBLE_DEVICES\"] = \"6\"\n",
    "from transformers import (\n",
    "    T5Config,\n",
    "    T5ForConditionalGeneration,\n",
    "    T5Tokenizer,\n",
    "    HfArgumentParser,\n",
    "    TrainingArguments,\n",
    "    set_seed,\n",
    "    EarlyStoppingCallback\n",
    ")\n",
    "from transformers.trainer_utils import EvaluationStrategy\n",
    "from transformers.integrations import TensorBoardCallback\n",
    "import transformers\n",
    "from transformers import Trainer\n",
    "\n",
    "#from feature_conversion_methods import format_instance\n",
    "\n",
    "from custom_args import (\n",
    "    DataTrainingArguments,\n",
    "    ModelArguments\n",
    ")\n",
    "from metrics import evaluate\n",
    "import torch\n",
    "import datasets\n",
    "import git\n",
    "import time\n",
    "from datetime import datetime\n",
    "import sys\n",
    "from tqdm import trange\n",
    "import random \n",
    "import pandas as pd \n",
    "import jsonlines\n",
    "from copy import deepcopy \n",
    "\n",
    "logger = logging.getLogger(__name__)\n",
    "transformers.logging.set_verbosity_info()\n",
    "import re\n",
    "def set_global_logging_level(level=logging.ERROR, prefices=[\"\"]):\n",
    "    \"\"\"\n",
    "    Override logging levels of different modules based on their name as a prefix.\n",
    "    It needs to be invoked after the modules have been loaded so that their loggers have been initialized.\n",
    "\n",
    "    Args:\n",
    "        - level: desired level. e.g. logging.INFO. Optional. Default is logging.ERROR\n",
    "        - prefices: list of one or more str prefices to match (e.g. [\"transformers\", \"torch\"]). Optional.\n",
    "          Default is `[\"\"]` to match all active loggers.\n",
    "          The match is a case-sensitive `module_name.startswith(prefix)`\n",
    "    \"\"\"\n",
    "    prefix_re = re.compile(fr'^(?:{ \"|\".join(prefices) })')\n",
    "    for name in logging.root.manager.loggerDict:\n",
    "        if re.match(prefix_re, name):\n",
    "            logging.getLogger(name).setLevel(level)\n",
    "set_global_logging_level(logging.ERROR, [\"datasets\"])\n",
    "\n",
    "\n",
    "CONFIG_MAPPING = {\"t5\": T5Config}\n",
    "MODEL_MAPPING = {\"t5\": T5ForConditionalGeneration}\n",
    "TOKENIZER_MAPPING = {\"t5\": T5Tokenizer}\n",
    "\n",
    "\n",
    "def set_other_seeds(seed):\n",
    "    torch.backends.cudnn.benchmark = False\n",
    "    #torch.backends.cudnn.deterministic = True\n",
    "    os.environ['PYTHONHASHSEED'] = str(seed)\n",
    "\n",
    "# inspired by DefaultDataCollator from:\n",
    "# https://github.com/huggingface/transformers/blob/master/src/transformers/data/data_collator.py\n",
    "# modified to perform batch-level padding.\n",
    "class SequenceCollator:\n",
    "    def __init__(self, model, pad_token):\n",
    "        self.model = model\n",
    "        self.pad_token_mapping = {\n",
    "            \"labels\": -100,\n",
    "            \"attention_mask\": 0,\n",
    "            \"decoder_attention_mask\": 0,\n",
    "            \"input_ids\": pad_token,\n",
    "        }\n",
    "\n",
    "        self.columns = [\n",
    "            \"input_ids\",\n",
    "            \"attention_mask\",\n",
    "            \"labels\",\n",
    "            \"decoder_attention_mask\",\n",
    "        ]\n",
    "\n",
    "    def __call__(self, examples: List[Dict[str, InputDataClass]]) -> Dict[str, torch.Tensor]:\n",
    "        # re-format inputs for training\n",
    "        batch = {}\n",
    "        for key in examples[0].keys():\n",
    "            if key in self.columns:\n",
    "                tmp_list = []\n",
    "                for item in examples:\n",
    "                    tmp_list.append(item[key])\n",
    "\n",
    "                # pad lists to max length\n",
    "                if isinstance(tmp_list[0], list):\n",
    "                    max_length = max(map(len, tmp_list))\n",
    "                    tmp_list = [\n",
    "                        el + [self.pad_token_mapping[key]] * (max_length - len(el))\n",
    "                        for el in tmp_list\n",
    "                    ]\n",
    "\n",
    "                batch[key] = torch.tensor(tmp_list, dtype=torch.long)\n",
    "        return batch\n"
   ]
  },
  {
   "cell_type": "code",
   "execution_count": 3,
   "id": "2fa5a75a",
   "metadata": {},
   "outputs": [],
   "source": [
    "from collections import defaultdict\n",
    "import random\n",
    "\"\"\"\n",
    "Example-to-Feature conversion methods\n",
    "Modified from\n",
    "https://github.com/salesforce/cos-e/blob/master/code/generation/train_commonsenseqa_v1.0.py and \"\"_v1.11.py (identical)\n",
    "as well as Tensorflow code for WTF?: \n",
    "https://github.com/google-research/google-research/blob/master/wt5/wt5/preprocessors.py\n",
    "\"\"\"\n",
    "# This code is based on https://github.com/allenai/label_rationale_association/blob/main/feature_conversion_methods.py\n",
    "\n",
    "unified_qa_esnli_label_mapping = {0: 'yes', 1: 'maybe', 2: 'no'}\n",
    "unified_qa_esnli_label_mapping_upper = {0: 'Yes', 1: 'Maybe', 2: 'No'} \n",
    "wt5_esnli_label_mapping = {0: 'entailment', 1: 'neutral', 2: 'contradiction'} \n",
    "unified_qa_sbic_label_mapping = {\"offensive\": 'Yes', \"not offensive\": 'No'}\n",
    "\n",
    "def format_instance(\n",
    "        example,\n",
    "        tokenizer,\n",
    "        explanation_sep,\n",
    "        max_seq_length=None,\n",
    "        datasource=None,\n",
    "        io_format=None, \n",
    "):\n",
    "    assert datasource in {\"cos_e\", \"esnli\", \"sbic\", \"sensemaking\", \"ecqa\"}\n",
    "\n",
    "    if datasource in [\"cos_e\", \"ecqa\"]:\n",
    "        input_string, answer_string = cqa_formatting(example, io_format, explanation_sep, datasource)\n",
    "    elif datasource == \"esnli\":\n",
    "        input_string, answer_string = esnli_formatting(example, io_format, explanation_sep)\n",
    "    elif datasource == 'sbic':\n",
    "        input_string, answer_string = sbic_formatting(example, io_format, explanation_sep)\n",
    "    elif datasource == 'sensemaking':\n",
    "        input_string, answer_string = sensemaking_formatting(example, io_format, explanation_sep)\n",
    "    else:\n",
    "        raise ValueError(\"Unknown task. Currently supported: esnli, cos_e, sbic, sensemaking, ecqa.\")\n",
    "    \n",
    "    if 'unified' in io_format and 'unifew' not in io_format:\n",
    "        input_string += '</s>'\n",
    "\n",
    "    input_string = ' '.join(input_string.split())\n",
    "    answer_string = ' '.join(answer_string.split())\n",
    "\n",
    "    input_string = ' '.join(input_string.split())\n",
    "    answer_string = ' '.join(answer_string.split())\n",
    "\n",
    "    encodings = tokenizer.encode_plus(\n",
    "        input_string,\n",
    "        max_length=max_seq_length,\n",
    "        pad_to_max_length=False,\n",
    "        return_token_type_ids=False,\n",
    "        return_attention_mask=True,\n",
    "    )\n",
    "\n",
    "\n",
    "    # note even with \"lm_labels.shift_right()\", the decoder attention mask length is still correct since we remove the last token\n",
    "    dec = tokenizer.encode_plus(\n",
    "        answer_string,\n",
    "        max_length=max_seq_length,\n",
    "        pad_to_max_length=False,\n",
    "        return_token_type_ids=False,\n",
    "        return_attention_mask=True,\n",
    "    )\n",
    "\n",
    "    encodings[\"labels\"] = dec[\"input_ids\"]\n",
    "    encodings[\"decoder_attention_mask\"] = dec[\"attention_mask\"]\n",
    "    encodings[\"question_encoding\"] = encodings[\"input_ids\"]\n",
    "\n",
    "    #return encodings\n",
    "    return {**example, **encodings}\n",
    "\n",
    "#这里很简单 定义好输入输出string就可以的\n",
    "def cqa_formatting(item, io_format, explanation_sep, datasource):\n",
    "    question = item[\"question\"]\n",
    "    answer = item[\"answer\"]\n",
    "    abstr_expl = item[\"abstractive_explanation\"].lower() if datasource == 'cos_e' else item[\"explanation\"].lower()\n",
    "\n",
    "\n",
    "    if io_format == 't5_fewshot_infilling_with_choices':\n",
    "        input_string = f\"explain {datasource} question: {question} choice: \" + \" choice: \".join(item[\"choices\"]) + f\" <extra_id_0> {explanation_sep} <extra_id_1>\"\n",
    "        answer_string = f\"<extra_id_0> {answer} <extra_id_1> {abstr_expl} <extra_id_2>\"\n",
    "    elif io_format == 't5_fewshot_infilling_more_natural':\n",
    "        input_string = f\"explain {datasource} question: {question} choice: \" + \" choice: \".join(item[\"choices\"]) + f\" The answer is <extra_id_0> {explanation_sep} <extra_id_1>\"\n",
    "        answer_string = f\"<extra_id_0> {answer} <extra_id_1> {abstr_expl} <extra_id_2>\"\n",
    "    elif io_format == \"squad\": \n",
    "        input_string = f\"explain {datasource} question: {question} context: \" + ', '.join(item['choices']) # explain cos_e question: When getting in shape you need to have this in between workouts? context: give up, period of recovery, jogging\n",
    "        answer_string = f\"{answer} {explanation_sep} {abstr_expl}\" # period of recovery because without a period of recovery you will not get any gains.\n",
    "    elif io_format == \"record\": \n",
    "        # might not work because cos_e doesn't have a passage \n",
    "        input_string = f\"explain {datasource} query: {question} entities: \" + ', '.join(item['choices']) # explain cos_e query: When getting in shape you need to have this in between workouts? entities: give up, period of recovery, jogging\n",
    "        answer_string = f\"{answer} {explanation_sep} {abstr_expl}\" # period of recovery because without a period of recovery you will not get any gains.\n",
    "    elif io_format == 'unifiedqa_matching':\n",
    "        choice_ids = ['(A)', '(B)', '(C)', '(D)', '(E)']\n",
    "        input_string = f'explain {question.lower()} \\\\n'\n",
    "        for choice_id, choice in zip(choice_ids, item[\"choices\"]):\n",
    "            input_string += f' {choice_id} {choice.lower()}'\n",
    "        answer_string = f\"{answer.lower()} {explanation_sep} {abstr_expl.lower()}\"\n",
    "        answer_string = answer_string.lower()\n",
    "    elif io_format == 't5_fewshot_infilling_without_choices_use_refined_expl':\n",
    "        input_string = f\"explain {datasource} question: {question} choice: \" + \" choice: \".join(item[\"choices\"]) + f\" <extra_id_0> {explanation_sep} <extra_id_1>\"\n",
    "        input_string = f\"explain {datasource} question: {question} answer: {answer}\" + f\" {explanation_sep} <extra_id_0>\"\n",
    "        answer_string = f\"<extra_id_0> {item['our_explanation']} <extra_id_1>\"\n",
    "\n",
    "    else:\n",
    "        raise ValueError(\"The IO format is not supported. Choose `standard` or `masked_cause_generate`.\")\n",
    "    \n",
    "    return input_string, answer_string\n",
    "\n",
    "\n",
    "def esnli_formatting(item, io_format, explanation_sep):\n",
    "\n",
    "    premise = item[\"premise\"]\n",
    "    hypothesis = item[\"hypothesis\"]\n",
    "    answer = unified_qa_esnli_label_mapping[item[\"label\"]] if 'unified' in io_format else wt5_esnli_label_mapping[item[\"label\"]]\n",
    "    abstr_expl = item[\"explanation_1\"].lower() \n",
    "    # Dev/test instances have more than one explanation annotated; merge them into one sequence separated by [SEP] \n",
    "    for k in [2,3]:\n",
    "        if f\"explanation_{k}\" in item and item[f'explanation_{k}']!='': \n",
    "            abstr_expl += f\" [SEP] {item[f'explanation_{k}'].lower()}\"\n",
    "\n",
    "    if io_format == 'standard':\n",
    "        input_string = f\"explain nli hypothesis: {hypothesis} premise: {premise}\"\n",
    "        answer_string = f\"{answer} {explanation_sep} {abstr_expl}\"\n",
    "    elif io_format == 't5_fewshot_infilling':\n",
    "        input_string = f\"explain nli hypothesis: {hypothesis} premise: {premise} <extra_id_0> {explanation_sep} <extra_id_1>\"\n",
    "        answer_string = f\"<extra_id_0> {answer} <extra_id_1> {abstr_expl} <extra_id_2>\"\n",
    "    elif io_format == 't5_fewshot_infilling_more_natural':\n",
    "        input_string = f\"explain nli hypothesis: {hypothesis} premise: {premise} This is <extra_id_0> {explanation_sep} <extra_id_1>\"\n",
    "        answer_string = f\"<extra_id_0> {answer} <extra_id_1> {abstr_expl} <extra_id_2>\"\n",
    "    elif io_format == \"squad\": \n",
    "        input_string = f\"explain nli question: Is this entailment? context: {hypothesis} {premise}\"  \n",
    "        answer_ynm = unified_qa_esnli_label_mapping[item[\"label\"]]\n",
    "        answer_string = f\"{answer_ynm} {explanation_sep} {abstr_expl}\" \n",
    "    elif io_format == \"squad_endswith_what\":\n",
    "        input_string = f\"explain nli question: What is this? context: {hypothesis} {premise}\"  \n",
    "        answer_string = f\"{answer} {explanation_sep} {abstr_expl}\"  \n",
    "    elif io_format == \"squad_nli_mix\": \n",
    "        input_string = f\"explain nli question: Is this entailment? context: hypothesis: {hypothesis} premise: {premise}\"  \n",
    "        answer_ynm = unified_qa_esnli_label_mapping[item[\"label\"]]\n",
    "        answer_string = f\"{answer_ynm} {explanation_sep} {abstr_expl}\"  \n",
    "    elif io_format == \"squad_nli_mix_endswith_what\":  \n",
    "        input_string = f\"explain nli question: What is this? context: hypothesis: {hypothesis} premise: {premise}\"  \n",
    "        answer_string = f\"{answer} {explanation_sep} {abstr_expl}\"   \n",
    "    elif io_format == 'unifiedqa_unifew':\n",
    "        hypothesis = hypothesis.lower().rstrip('.')\n",
    "        unified_qa_esnli_label_mapping_upper = {0: 'Yes', 1: 'Maybe', 2: 'No'}\n",
    "        answer = unified_qa_esnli_label_mapping_upper[item[\"label\"]]\n",
    "        input_string = f'explain {premise} Is {hypothesis}? \\\\n (A) Yes (B) Maybe (C) No'\n",
    "        answer_string = f\"{answer} {explanation_sep} {abstr_expl}\"  \n",
    "    elif io_format == 'unifiedqa_unifew_nli_mix':\n",
    "        premise = premise.lower().rstrip('.')\n",
    "        unified_qa_esnli_label_mapping_upper = {0: 'Yes', 1: 'Maybe', 2: 'No'}\n",
    "        input_string = f'explain hypothesis: {hypothesis} Is premise: {premise}? \\\\n (A) Yes (B) Maybe (C) No'\n",
    "        answer_string = f\"{answer} {explanation_sep} {abstr_expl}\"  \n",
    "    elif io_format == 'unifiedqa_ynm': \n",
    "        input_string = f'explain is this entailment? \\\\n {hypothesis.lower()} {premise.lower()}'  \n",
    "        answer = unified_qa_esnli_label_mapping[item[\"label\"]]\n",
    "        answer_string = f\"{answer} {explanation_sep} {abstr_expl.lower()}\"  \n",
    "    elif io_format == 'unifiedqa_snli_mix_ynm': \n",
    "        input_string = f'explain is this entailment? \\\\n hypothesis: {hypothesis.lower()} premise: {premise.lower()}' \n",
    "        answer = unified_qa_esnli_label_mapping[item[\"label\"]]\n",
    "        answer_string = f\"{answer} {explanation_sep} {abstr_expl.lower()}\"  \n",
    "    elif io_format == 'unifiedqa_snli_mix_ynm_with_choices': \n",
    "        input_string = f'explain is this entailment? \\\\n (A) yes (B) maybe (C) no \\\\n hypothesis: {hypothesis.lower()} premise: {premise.lower()}'  \n",
    "        answer = unified_qa_esnli_label_mapping[item[\"label\"]]\n",
    "        answer_string = f\"{answer} {explanation_sep} {abstr_expl.lower()}\"  \n",
    "    elif io_format == 'unifiedqa_what_v2': \n",
    "        input_string = f'explain what is this? \\\\n {hypothesis.lower()} {premise.lower()}'  \n",
    "        answer = wt5_esnli_label_mapping[item[\"label\"]]\n",
    "        answer_string = f\"{answer} {explanation_sep} {abstr_expl.lower()}\"  \n",
    "    elif io_format == 'unifiedqa_snli_mix_what_v2': \n",
    "        input_string = f'explain what is this? \\\\n hypothesis: {hypothesis.lower()} premise: {premise.lower()}'  \n",
    "        answer = wt5_esnli_label_mapping[item[\"label\"]]\n",
    "        answer_string = f\"{answer} {explanation_sep} {abstr_expl.lower()}\"  \n",
    "    elif io_format == 'unifiedqa_snli_mix_what_with_choices_v2': \n",
    "        input_string = f'explain what is this? \\\\n (A) entailment (B) neutral (C) contradiction \\\\n hypothesis: {hypothesis.lower()} premise: {premise.lower()}'  \n",
    "        answer = wt5_esnli_label_mapping[item[\"label\"]]\n",
    "        answer_string = f\"{answer} {explanation_sep} {abstr_expl.lower()}\"     \n",
    "    else:\n",
    "        raise ValueError(\"The IO format is not supported.\")\n",
    "\n",
    "    return input_string, answer_string\n",
    "\n",
    "\n",
    "def sbic_formatting(item, io_format, explanation_sep):\n",
    "    # We pre-processed the SBIC dataset such that we join multiple implied statements with the [SEP] token for dev/test instances \n",
    "    # Each annotation in the training split is a separate instance\n",
    "    post = item['post']\n",
    "    answer = unified_qa_sbic_label_mapping[item[\"offensiveYN\"]] if 'unified' in io_format else item[\"offensiveYN\"].replace(\"not offensive\", \"not_offensive\")\n",
    "    abstr_expl = item[\"targetStereotype\"]\n",
    "    \n",
    "\n",
    "    if io_format == 'cola':\n",
    "        input_string = f\"explain sbic sentence: {post}\"\n",
    "        answer_string = f\"{answer} {explanation_sep} {abstr_expl}\"  \n",
    "    elif io_format == 't5_fewshot_infilling':\n",
    "        input_string = f\"explain sbic sentence: {post} <extra_id_0> {explanation_sep} <extra_id_1>\"\n",
    "        answer_string = f\"<extra_id_0> {answer} <extra_id_1> {abstr_expl} <extra_id_2>\"\n",
    "    elif io_format == 't5_fewshot_infilling_bool':\n",
    "        answer_bool = 'True' if item[\"offensiveYN\"] == 'offensive' else 'False'\n",
    "        input_string = f\"explain sbic sentence: {post} It is <extra_id_0> that this is offensive {explanation_sep} <extra_id_1>\"\n",
    "        answer_string = f\"<extra_id_0> {answer} <extra_id_1> {abstr_expl} <extra_id_2>\"\n",
    "    elif io_format == 't5_fewshot_infilling_more_natural':\n",
    "        input_string = f\"explain sbic sentence: {post} This is <extra_id_0> {explanation_sep} <extra_id_1>\"\n",
    "        answer_string = f\"<extra_id_0> {answer} <extra_id_1> {abstr_expl} <extra_id_2>\"\n",
    "    elif io_format == 'squad_yn': \n",
    "        input_string = f\"explain sbic question: Is this offensive? context: {post}\" # explain sbic question: Is this offensive? context: It's only happened to you like two times.\n",
    "        answer_yn = unified_qa_sbic_label_mapping[item[\"offensiveYN\"]] \n",
    "        answer_string = f\"{answer_yn} {explanation_sep} {abstr_expl}\" #  No because this post does not imply anything offensive\n",
    "    elif io_format == 'squad_yn_with_tags': \n",
    "        input_string = f\"explain sbic question: Is this offensive? context: post: {post}\" # explain sbic question: Is this offensive? context: It's only happened to you like two times.\n",
    "        answer_yn = unified_qa_sbic_label_mapping[item[\"offensiveYN\"]] \n",
    "        answer_string = f\"{answer_yn} {explanation_sep} {abstr_expl}\" #  No because this post does not imply anything offensive\n",
    "    elif io_format == 'squad_what': \n",
    "        input_string = f\"explain sbic question: What is this? context: {post}\" # explain sbic question: This is what? context: It's only happened to you like two times.\n",
    "        answer = item[\"offensiveYN\"].replace(\"not offensive\", \"not_offensive\")        \n",
    "        answer_string = f\"{answer} {explanation_sep} {abstr_expl}\" # not_offensive because this post does not imply anything offensive    \n",
    "    elif io_format == 'squad_what_with_tags': \n",
    "        input_string = f\"explain sbic question: What is this? context: post: {post}\" # explain sbic question: This is what? context: It's only happened to you like two times.\n",
    "        answer = item[\"offensiveYN\"].replace(\"not offensive\", \"not_offensive\")        \n",
    "        answer_string = f\"{answer} {explanation_sep} {abstr_expl}\" # not_offensive because this post does not imply anything offensive    \n",
    "    elif io_format == 'unified_qa_yn':\n",
    "        input_string = f'explain is this offensive? \\\\n {post.lower()}'\n",
    "        answer_string = f\"{answer} {explanation_sep} {abstr_expl.lower()}\" \n",
    "    elif io_format == 'unified_qa_yn_with_tags':\n",
    "        input_string = f'explain is this offensive? \\\\n post: {post.lower()}'\n",
    "        answer_string = f\"{answer} {explanation_sep} {abstr_expl.lower()}\"  \n",
    "    elif io_format == 'unified_qa_yn_with_choices':\n",
    "        input_string = f'explain is this offensive? \\\\n (A) yes (B) no \\\\n {post.lower()}'\n",
    "        answer_string = f\"{answer} {explanation_sep} {abstr_expl.lower()}\"\n",
    "    elif io_format == 'unified_qa_yn_with_choices_and_tags':\n",
    "        input_string = f'explain is this offensive? \\\\n (A) yes (B) no \\\\n post: {post.lower()}'\n",
    "        answer_string = f\"{answer} {explanation_sep} {abstr_expl.lower()}\"  \n",
    "    elif io_format == 'unified_qa_what':\n",
    "        input_string = f'explain what is this? \\\\n {post.lower()}'\n",
    "        answer = item[\"offensiveYN\"].replace(\"not offensive\", \"not_offensive\")\n",
    "        answer_string = f\"{answer} {explanation_sep} {abstr_expl.lower()}\"  \n",
    "    elif io_format == 'unified_qa_what_with_tags':\n",
    "        input_string = f'explain what is this? \\\\n post: {post.lower()}'\n",
    "        answer = item[\"offensiveYN\"].replace(\"not offensive\", \"not_offensive\")\n",
    "        answer_string = f\"{answer} {explanation_sep} {abstr_expl.lower()}\"  \n",
    "    elif io_format == 'unified_qa_what_with_choices':\n",
    "        input_string = f'explain what is this? \\\\n (A) offensive (B) not_offensive \\\\n {post.lower()}'\n",
    "        answer = item[\"offensiveYN\"].replace(\"not offensive\", \"not_offensive\")\n",
    "        answer_string = f\"{answer} {explanation_sep} {abstr_expl.lower()}\"\n",
    "    elif io_format == 'unified_qa_what_with_choices_and_tags':\n",
    "        input_string = f'explain what is this? \\\\n (A) offensive (B) not_offensive \\\\n post: {post.lower()}'\n",
    "        answer = item[\"offensiveYN\"].replace(\"not offensive\", \"not_offensive\")\n",
    "        answer_string = f\"{answer} {explanation_sep} {abstr_expl.lower()}\"  \n",
    "    elif io_format == 'unifiedqa_unifew':\n",
    "        input_string = f\"Topic? \\\\n (A) offensive (B) not_offensive \\\\n {post}\"\n",
    "        answer = item[\"offensiveYN\"].replace(\"not offensive\", \"not_offensive\")\n",
    "        answer_string = f\"{answer} {explanation_sep} {abstr_expl}\"\n",
    "    else:\n",
    "        raise ValueError(\"The IO format is not supported. Choose `standard` or `masked_cause_generate`.\")\n",
    "\n",
    "    input_string = ' '.join(input_string.split())\n",
    "    answer_string = ' '.join(answer_string.split())\n",
    "    return input_string, answer_string\n",
    "\n",
    "def sensemaking_formatting(item, io_format, explanation_sep):\n",
    "    # TODO: explore whether removing periods makes difference? \n",
    "    sent0 = item['sent0']\n",
    "    sent1 = item['sent1']\n",
    "    nonsensical_sentence = str(int(item['label'])+1)\n",
    "    explanation = item['explanation'].lower()\n",
    "\n",
    "    if io_format == 'copa_with_question':\n",
    "        input_string = f\"explain sensemaking choice1: {sent0} choice2: {sent1} question: nonsensical\"\n",
    "        answer_string = f\"choice{nonsensical_sentence} {explanation_sep} {explanation}\"\n",
    "    elif io_format == 'copa_bool':  \n",
    "        answer_bool = str(bool(int(item['label']))) # True if choice2 is more nonsensical    \n",
    "        input_string = f\"explain sensemaking choice1: {sent0} choice2: {sent1} Less common is choice2\"\n",
    "        answer_string = f\"{answer_bool} {explanation_sep} {explanation}\"\n",
    "    elif io_format == 't5_fewshot_infilling':  \n",
    "        input_string = f\"explain sensemaking choice1: {sent0} choice2: {sent1} <extra_id_0> {explanation_sep} <extra_id_1>\"\n",
    "        answer_string = f\"<extra_id_0> choice{nonsensical_sentence} <extra_id_1> {explanation} <extra_id_2>\"\n",
    "    elif io_format == 't5_fewshot_infilling_bool':  \n",
    "        answer_bool = str(bool(int(item['label']))) # True if choice2 is more nonsensical    \n",
    "        input_string = f\"explain sensemaking choice1: {sent0} choice2: {sent1} It is <extra_id_0> that choice2 is less common {explanation_sep} <extra_id_1>\"\n",
    "        answer_string = f\"<extra_id_0> {answer_bool} <extra_id_1> {explanation} <extra_id_2>\"\n",
    "    elif io_format == \"squad_yn\": \n",
    "        input_string = f\"explain sensemaking question: Is choice2 more nonsensical? context: choice1: {sent0} choice2: {sent1}\" # explain sensemaking question: What is nonsensical, choice1 or choice2? context: choice1: All state flowers are the scarlet carnation. choice2: The New Jersey state flower is the scarlet carnation\n",
    "        answer = \"Yes\" if bool(int(item['label'])) else \"No\"\n",
    "        answer_string = f\"{answer} {explanation_sep} {explanation}\" #  choice1 because state flowers are unique to each state.  \n",
    "    elif io_format == \"squad_yn_no_tags\": \n",
    "        input_string = f\"explain sensemaking question: Is choice2 more nonsensical? context: {sent0} {sent1}\" # explain sensemaking question: What is nonsensical, choice1 or choice2? context: choice1: All state flowers are the scarlet carnation. choice2: The New Jersey state flower is the scarlet carnation\n",
    "        answer = \"Yes\" if bool(int(item['label'])) else \"No\"\n",
    "        answer_string = f\"{answer} {explanation_sep} {explanation}\" #  choice1 because state flowers are unique to each state.  \n",
    "    elif io_format == \"squad_what\": \n",
    "        input_string = f\"explain sensemaking question: What is more nonsensical? context: choice1: {sent0} choice2: {sent1}\" # explain sensemaking question: What is nonsensical, choice1 or choice2? context: choice1: All state flowers are the scarlet carnation. choice2: The New Jersey state flower is the scarlet carnation\n",
    "        answer_string = f\"choice{nonsensical_sentence} {explanation_sep} {explanation}\" #  choice1 because state flowers are unique to each state.  \n",
    "    elif io_format == \"squad_what_no_tags\": \n",
    "        input_string = f\"explain sensemaking question: What is more nonsensical? context: {sent0} {sent1}\" # explain sensemaking question: What is nonsensical, choice1 or choice2? context: choice1: All state flowers are the scarlet carnation. choice2: The New Jersey state flower is the scarlet carnation\n",
    "        answer_string = f\"choice{nonsensical_sentence} {explanation_sep} {explanation}\" #  choice1 because state flowers are unique to each state.  \n",
    "    elif io_format == \"record\": \n",
    "        input_string = f\"explain sensemaking query: What is more nonsensical? entities: choice1, choice2 passage: choice1: {sent0} choice2: {sent1}\" # explain sensemaking query: What is nonsensical? entities: choice1, choice2 passage: choice1: All state flowers are the scarlet carnation. choice2: The New Jersey state flower is the scarlet carnation.\n",
    "        answer_string = f\"choice{nonsensical_sentence} {explanation_sep} {explanation}\" # choice1 because state flowers are unique to each state.\n",
    "    elif io_format == 'unifiedqa_yn_with_choices':\n",
    "        answer = \"yes\" if bool(int(item['label'])) else \"no\"\n",
    "        input_string = f'explain is choice2 more nonsensical? \\\\n (A) yes (B) no \\\\n choice1: {sent0.lower()} choice2: {sent1.lower()}'\n",
    "        answer_string = f\"{answer} {explanation_sep} {explanation.lower()}\" \n",
    "    elif io_format == 'unifiedqa_yn':\n",
    "        answer = \"yes\" if bool(int(item['label'])) else \"no\"\n",
    "        input_string = f'explain is choice2 more nonsensical? \\\\n choice1: {sent0.lower()} choice2: {sent1.lower()}'\n",
    "        answer_string = f\"{answer} {explanation_sep} {explanation.lower()}\"  \n",
    "    elif io_format == 'unifiedqa_yn_no_tags':\n",
    "        answer = \"yes\" if bool(int(item['label'])) else \"no\"\n",
    "        input_string = f'explain is choice2 more nonsensical? \\\\n {sent0.lower()} {sent1.lower()}'\n",
    "        answer_string = f\"{answer} {explanation_sep} {explanation.lower()}\"  \n",
    "    elif io_format == 'unifiedqa_what_with_choices':\n",
    "        nonsensical_sentence = str(int(item['label'])+1)\n",
    "        input_string = f'explain what is more nonsensical? \\\\n (A) choice1 (B) choice2 \\\\n choice1: {sent0.lower()} choice2: {sent1.lower()}'\n",
    "        answer_string = f\"choice{nonsensical_sentence} {explanation_sep} {explanation.lower()}\"  # use \" BECAUSE \"\n",
    "    elif io_format == 'unifiedqa_what':\n",
    "        nonsensical_sentence = str(int(item['label'])+1)\n",
    "        input_string = f'explain what is more nonsensical? \\\\n choice1: {sent0.lower()} choice2: {sent1.lower()}'\n",
    "        answer_string = f\"choice{nonsensical_sentence} {explanation_sep} {explanation.lower()}\"  # use \" BECAUSE \"\n",
    "    elif io_format == 'unifiedqa_what_no_tags':\n",
    "        nonsensical_sentence = str(int(item['label'])+1)\n",
    "        input_string = f'explain what is more nonsensical? \\\\n {sent0.lower()} {sent1.lower()}'\n",
    "        answer_string = f\"choice{nonsensical_sentence} {explanation_sep} {explanation.lower()}\"  # use \" BECAUSE \"\n",
    "\n",
    "\n",
    "    input_string = ' '.join(input_string.split())\n",
    "    answer_string = ' '.join(answer_string.split())\n",
    "    return input_string, answer_string"
   ]
  },
  {
   "cell_type": "code",
   "execution_count": 4,
   "id": "dde6c7e1",
   "metadata": {},
   "outputs": [
    {
     "name": "stderr",
     "output_type": "stream",
     "text": [
      "PyTorch: setting up devices\n",
      "The default value for the training argument `--report_to` will change in v5 (from all installed integrations to none). In v5, you will need to use `--report_to all` to get the same behavior as now. You should start updating your code and make this info disappear :-).\n",
      "01/12/2023 15:52:20 - WARNING - __main__ -   Process rank: -1, device: cuda:0, n_gpu: 1, distributed training: False, 16-bits training: False\n",
      "01/12/2023 15:52:20 - INFO - __main__ -   Save path: ./cos_e_output_t5_large/011223_155220\n",
      "01/12/2023 15:52:20 - INFO - __main__ -   Git branch: dev\n",
      "01/12/2023 15:52:20 - INFO - __main__ -   Git hash: 1cbb5c3b4e53baf31cbafc20d9655c63f091f901\n"
     ]
    }
   ],
   "source": [
    "og_start_time = time.time()\n",
    "\n",
    "#parser = HfArgumentParser(\n",
    "#    (ModelArguments, DataTrainingArguments, TrainingArguments)\n",
    "#)\n",
    "parser = HfArgumentParser(\n",
    "    (ModelArguments, DataTrainingArguments, TrainingArguments)\n",
    ")\n",
    "\n",
    "model_args, data_args, training_args, unused_args = parser.parse_args_into_dataclasses(\n",
    "    [\"--model_type\", \"t5-3b\",\n",
    "     \"--tokenizer_name\", \"t5-3b\",\n",
    "     \"--task_name\", \"cos_e\", \n",
    "     \"--output_dir\", \"./cos_e_output_t5_large\", \n",
    "     \"--n_shots\", \"10\",\n",
    "     \"--do_train\", \"True\"], return_remaining_strings=True)\n",
    "if unused_args != []:\n",
    "    raise ValueError(f\"Received unused arguments: {unused_args}\")\n",
    "# make sure only one dataset split pick if manually specifying evaluation file\n",
    "\n",
    "if model_args.use_gpt3:\n",
    "    assert training_args.do_train\n",
    "    assert not training_args.do_eval\n",
    "    assert data_args.generations_filepath is None\n",
    "    if data_args.gpt3_max_eval_size is not None:\n",
    "        assert data_args.gpt3_max_eval_size <= data_args.fewshot_eval_size\n",
    "        assert data_args.gpt3_max_eval_size % 2 == 0\n",
    "        assert data_args.gpt3_max_eval_size % 3 == 0\n",
    "\n",
    "if data_args.generations_filepath is not None:\n",
    "    training_args.do_train = False\n",
    "    training_args.do_eval = False\n",
    "    if \"train\" in data_args.generations_filepath:\n",
    "        data_args.train_predict = True\n",
    "        data_args.test_predict = False\n",
    "        data_args.dev_predict = False\n",
    "    elif \"test\" in data_args.generations_filepath:\n",
    "        data_args.train_predict = False\n",
    "        data_args.test_predict = True\n",
    "        data_args.dev_predict = False\n",
    "    elif \"validation\" in data_args.generations_filepath:\n",
    "        data_args.train_predict = False\n",
    "        data_args.test_predict = False\n",
    "        data_args.dev_predict = True\n",
    "\n",
    "if not training_args.do_train and data_args.generations_filepath is None:\n",
    "    if not model_args.pretrained_model_file:\n",
    "        raise Exception(\n",
    "            \"if not training a model from scratch, must specify a trained model to load for evaluation\"\n",
    "        )\n",
    "\n",
    "if training_args.do_train:\n",
    "    # create a save directory and a logfile\n",
    "    training_args.output_dir = os.path.join(\n",
    "        training_args.output_dir, datetime.now().strftime(\"%m%d%y_%H%M%S\")\n",
    "    )\n",
    "    training_args.logging_dir = training_args.output_dir\n",
    "    assert not os.path.exists(training_args.output_dir)\n",
    "    os.makedirs(training_args.output_dir)\n",
    "\n",
    "    if (\n",
    "            os.path.exists(training_args.output_dir)\n",
    "            and os.listdir(training_args.output_dir)\n",
    "            and training_args.do_train\n",
    "            and not training_args.overwrite_output_dir\n",
    "    ):\n",
    "        raise ValueError(\n",
    "            f\"Output directory ({training_args.output_dir}) already exists and is not empty. Use --overwrite_output_dir to overcome.\"\n",
    "        )\n",
    "    handlers = [\n",
    "        logging.FileHandler(os.path.join(training_args.output_dir, \"logger.log\")),\n",
    "        logging.StreamHandler(),\n",
    "    ]\n",
    "else:\n",
    "    # don't overwrite existing logfile or create new directory\n",
    "    training_args.output_dir = model_args.pretrained_model_file\n",
    "    handlers = [logging.StreamHandler()]\n",
    "\n",
    "# Setup logging\n",
    "logging.basicConfig(\n",
    "    format=\"%(asctime)s - %(levelname)s - %(name)s -   %(message)s\",\n",
    "    datefmt=\"%m/%d/%Y %H:%M:%S\",\n",
    "    level=logging.INFO if training_args.local_rank in [-1, 0] else logging.WARN,\n",
    "    handlers=handlers,\n",
    ")\n",
    "logger.warning(\n",
    "    \"Process rank: %s, device: %s, n_gpu: %s, distributed training: %s, 16-bits training: %s\",\n",
    "    training_args.local_rank,\n",
    "    training_args.device,\n",
    "    training_args.n_gpu,\n",
    "    bool(training_args.local_rank != -1),\n",
    "    training_args.fp16,\n",
    ")\n",
    "logger.info(\"Save path: %s\" % training_args.output_dir)\n",
    "\n",
    "# get git hash and branch where deployed\n",
    "repo = git.Repo(search_parent_directories=True)\n",
    "git_hash = repo.head.object.hexsha\n",
    "git_branch = repo.active_branch.name\n",
    "logger.info(\"Git branch: %s\" % git_branch)\n",
    "logger.info(\"Git hash: %s\" % git_hash)\n",
    "\n",
    "model_class = \"t5\"\n",
    "assert data_args.task_name in {\"cos_e\", \"esnli\", \"sbic\", \"sensemaking\", \"ecqa\"}\n",
    "\n",
    "if training_args.do_train:\n",
    "    # write command and args to file\n",
    "    with open(\n",
    "            os.path.join(training_args.output_dir, \"commandline_args.txt\"), \"w\"\n",
    "    ) as f:\n",
    "        f.write(\"Git branch: \" + git_branch + \"\\n\")\n",
    "        f.write(\"Git hash: \" + git_hash + \"\\n\")\n",
    "        f.write(\"Command:\\n\")\n",
    "        f.write(\"\\n\".join(sys.argv[1:]))\n",
    "\n",
    "# Set seed\n",
    "set_seed(training_args.seed)\n",
    "set_other_seeds(training_args.seed)\n",
    "\n",
    "# Load pretrained model and tokenizer\n",
    "#\n",
    "# Distributed training:\n",
    "# The .from_pretrained methods guarantee that only one local process can concurrently\n",
    "# download model & vocab."
   ]
  },
  {
   "cell_type": "code",
   "execution_count": 5,
   "id": "684646b4",
   "metadata": {},
   "outputs": [
    {
     "data": {
      "text/plain": [
       "device(type='cuda', index=0)"
      ]
     },
     "execution_count": 5,
     "metadata": {},
     "output_type": "execute_result"
    }
   ],
   "source": [
    "training_args.set_device = \"cuda:0\"\n",
    "training_args.device"
   ]
  },
  {
   "cell_type": "code",
   "execution_count": 6,
   "id": "18a3172a",
   "metadata": {},
   "outputs": [
    {
     "name": "stderr",
     "output_type": "stream",
     "text": [
      "01/12/2023 15:52:20 - INFO - __main__ -   Loading pretrained tokenizer...\n",
      "loading file https://huggingface.co/t5-large/resolve/main/spiece.model from cache at /home/huangyongfeng/.cache/huggingface/transformers/71ee551f54e246045a7b94dd449c33759924b864712e6d235bbba5245c9f6296.3b69006860e7b5d0a63ffdddc01ddcd6b7c318a6f4fd793596552c741734c62d\n",
      "loading file https://huggingface.co/t5-large/resolve/main/added_tokens.json from cache at None\n",
      "loading file https://huggingface.co/t5-large/resolve/main/special_tokens_map.json from cache at None\n",
      "loading file https://huggingface.co/t5-large/resolve/main/tokenizer_config.json from cache at None\n",
      "loading file https://huggingface.co/t5-large/resolve/main/tokenizer.json from cache at /home/huangyongfeng/.cache/huggingface/transformers/276094e085ecb12227136f2e755dc1f68be6f5da32df55ebfb104c791fbbc3c1.8627f1bd5d270a9fd2e5a51c8bec3223896587cc3cfe13edeabb0992ab43c529\n",
      "loading configuration file https://huggingface.co/t5-large/resolve/main/config.json from cache at /home/huangyongfeng/.cache/huggingface/transformers/1adb1f57c3579debfcce7b94ee03f6144e0ff7a0c2825e48b3f9cde9ce290c7d.75cc627adbf83d06473fdad6b036e8594b465394bf31d84bc54a373c9c5a5563\n",
      "Model config T5Config {\n",
      "  \"architectures\": [\n",
      "    \"T5ForConditionalGeneration\"\n",
      "  ],\n",
      "  \"d_ff\": 4096,\n",
      "  \"d_kv\": 64,\n",
      "  \"d_model\": 1024,\n",
      "  \"decoder_start_token_id\": 0,\n",
      "  \"dropout_rate\": 0.1,\n",
      "  \"eos_token_id\": 1,\n",
      "  \"feed_forward_proj\": \"relu\",\n",
      "  \"gradient_checkpointing\": false,\n",
      "  \"initializer_factor\": 1.0,\n",
      "  \"is_encoder_decoder\": true,\n",
      "  \"layer_norm_epsilon\": 1e-06,\n",
      "  \"model_type\": \"t5\",\n",
      "  \"n_positions\": 512,\n",
      "  \"num_decoder_layers\": 24,\n",
      "  \"num_heads\": 16,\n",
      "  \"num_layers\": 24,\n",
      "  \"output_past\": true,\n",
      "  \"pad_token_id\": 0,\n",
      "  \"relative_attention_num_buckets\": 32,\n",
      "  \"task_specific_params\": {\n",
      "    \"summarization\": {\n",
      "      \"early_stopping\": true,\n",
      "      \"length_penalty\": 2.0,\n",
      "      \"max_length\": 200,\n",
      "      \"min_length\": 30,\n",
      "      \"no_repeat_ngram_size\": 3,\n",
      "      \"num_beams\": 4,\n",
      "      \"prefix\": \"summarize: \"\n",
      "    },\n",
      "    \"translation_en_to_de\": {\n",
      "      \"early_stopping\": true,\n",
      "      \"max_length\": 300,\n",
      "      \"num_beams\": 4,\n",
      "      \"prefix\": \"translate English to German: \"\n",
      "    },\n",
      "    \"translation_en_to_fr\": {\n",
      "      \"early_stopping\": true,\n",
      "      \"max_length\": 300,\n",
      "      \"num_beams\": 4,\n",
      "      \"prefix\": \"translate English to French: \"\n",
      "    },\n",
      "    \"translation_en_to_ro\": {\n",
      "      \"early_stopping\": true,\n",
      "      \"max_length\": 300,\n",
      "      \"num_beams\": 4,\n",
      "      \"prefix\": \"translate English to Romanian: \"\n",
      "    }\n",
      "  },\n",
      "  \"transformers_version\": \"4.9.2\",\n",
      "  \"use_cache\": true,\n",
      "  \"vocab_size\": 32128\n",
      "}\n",
      "\n",
      "loading configuration file https://huggingface.co/t5-large/resolve/main/config.json from cache at /home/huangyongfeng/.cache/huggingface/transformers/1adb1f57c3579debfcce7b94ee03f6144e0ff7a0c2825e48b3f9cde9ce290c7d.75cc627adbf83d06473fdad6b036e8594b465394bf31d84bc54a373c9c5a5563\n",
      "Model config T5Config {\n",
      "  \"architectures\": [\n",
      "    \"T5ForConditionalGeneration\"\n",
      "  ],\n",
      "  \"d_ff\": 4096,\n",
      "  \"d_kv\": 64,\n",
      "  \"d_model\": 1024,\n",
      "  \"decoder_start_token_id\": 0,\n",
      "  \"dropout_rate\": 0.1,\n",
      "  \"eos_token_id\": 1,\n",
      "  \"feed_forward_proj\": \"relu\",\n",
      "  \"gradient_checkpointing\": false,\n",
      "  \"initializer_factor\": 1.0,\n",
      "  \"is_encoder_decoder\": true,\n",
      "  \"layer_norm_epsilon\": 1e-06,\n",
      "  \"model_type\": \"t5\",\n",
      "  \"n_positions\": 512,\n",
      "  \"num_decoder_layers\": 24,\n",
      "  \"num_heads\": 16,\n",
      "  \"num_layers\": 24,\n",
      "  \"output_past\": true,\n",
      "  \"pad_token_id\": 0,\n",
      "  \"relative_attention_num_buckets\": 32,\n",
      "  \"task_specific_params\": {\n",
      "    \"summarization\": {\n",
      "      \"early_stopping\": true,\n",
      "      \"length_penalty\": 2.0,\n",
      "      \"max_length\": 200,\n",
      "      \"min_length\": 30,\n",
      "      \"no_repeat_ngram_size\": 3,\n",
      "      \"num_beams\": 4,\n",
      "      \"prefix\": \"summarize: \"\n",
      "    },\n",
      "    \"translation_en_to_de\": {\n",
      "      \"early_stopping\": true,\n",
      "      \"max_length\": 300,\n",
      "      \"num_beams\": 4,\n",
      "      \"prefix\": \"translate English to German: \"\n",
      "    },\n",
      "    \"translation_en_to_fr\": {\n",
      "      \"early_stopping\": true,\n",
      "      \"max_length\": 300,\n",
      "      \"num_beams\": 4,\n",
      "      \"prefix\": \"translate English to French: \"\n",
      "    },\n",
      "    \"translation_en_to_ro\": {\n",
      "      \"early_stopping\": true,\n",
      "      \"max_length\": 300,\n",
      "      \"num_beams\": 4,\n",
      "      \"prefix\": \"translate English to Romanian: \"\n",
      "    }\n",
      "  },\n",
      "  \"transformers_version\": \"4.9.2\",\n",
      "  \"use_cache\": true,\n",
      "  \"vocab_size\": 32128\n",
      "}\n",
      "\n",
      "loading weights file https://huggingface.co/t5-large/resolve/main/pytorch_model.bin from cache at /home/huangyongfeng/.cache/huggingface/transformers/750feca8cedcd171eb121bd47c3ae16924a473d89f334c7d22f83bfa3a6c80f6.62fbd66ec15bdf6e5322f44f1546f0d475cf07a90caca0912ead31408a83a319\n",
      "All model checkpoint weights were used when initializing T5ForConditionalGeneration.\n",
      "\n",
      "All the weights of T5ForConditionalGeneration were initialized from the model checkpoint at t5-large.\n",
      "If your task is similar to the task the model of the checkpoint was trained on, you can already use T5ForConditionalGeneration for predictions without further training.\n"
     ]
    }
   ],
   "source": [
    "import logging\n",
    "logger = logging.getLogger(__name__)\n",
    "CONFIG_MAPPING = {\"t5\": T5Config}\n",
    "MODEL_MAPPING = {\"t5\": T5ForConditionalGeneration}\n",
    "TOKENIZER_MAPPING = {\"t5\": T5Tokenizer}\n",
    "model_class = \"t5\"\n",
    "tokenizer_name = TOKENIZER_MAPPING[model_class]\n",
    "logger.info(\"Loading pretrained tokenizer...\")\n",
    "model_args.tokenizer_name='t5-large'\n",
    "tokenizer = tokenizer_name.from_pretrained(model_args.tokenizer_name)#, cache_dir=model_args.cache_dir)\n",
    "\n",
    "model = T5ForConditionalGeneration.from_pretrained(\"t5-large\")"
   ]
  },
  {
   "cell_type": "code",
   "execution_count": 7,
   "id": "62eef1a8",
   "metadata": {},
   "outputs": [
    {
     "data": {
      "text/plain": [
       "DataTrainingArguments(task_name='cos_e', early_stopping_patience=10, overwrite_cache=False, train_predict=False, test_predict=False, dev_predict=False, version_name='v1.11', generations_filepath=None, n_shots=10, fewshot_eval_size=350, io_format='t5_fewshot_infilling_without_choices_use_refined_expl', explanation_sep='explanation', data_path=None, gpt3_max_eval_size=None)"
      ]
     },
     "execution_count": 7,
     "metadata": {},
     "output_type": "execute_result"
    }
   ],
   "source": [
    "data_splits = {'train': None, 'validation': None, 'test': None}\n",
    "original_data_splits = {'train': None, 'validation': None, 'test': None}  \n",
    "data_args.io_format=\"t5_fewshot_infilling_without_choices_use_refined_expl\"\n",
    "data_args"
   ]
  },
  {
   "cell_type": "code",
   "execution_count": 8,
   "id": "efc49c0c",
   "metadata": {},
   "outputs": [
    {
     "data": {
      "application/json": {
       "ascii": false,
       "bar_format": null,
       "colour": null,
       "elapsed": 0.014421701431274414,
       "initial": 0,
       "n": 0,
       "ncols": null,
       "nrows": 60,
       "postfix": null,
       "prefix": "",
       "rate": null,
       "total": 2,
       "unit": "it",
       "unit_divisor": 1000,
       "unit_scale": false
      },
      "application/vnd.jupyter.widget-view+json": {
       "model_id": "670d1563e51d45da9aee0692bd0d9433",
       "version_major": 2,
       "version_minor": 0
      },
      "text/plain": [
       "  0%|          | 0/2 [00:00<?, ?it/s]"
      ]
     },
     "metadata": {},
     "output_type": "display_data"
    },
    {
     "data": {
      "text/plain": [
       "dict_keys(['abstractive_explanation', 'id', 'extractive_explanation', 'choices', 'answer', 'question'])"
      ]
     },
     "execution_count": 8,
     "metadata": {},
     "output_type": "execute_result"
    }
   ],
   "source": [
    "dataset = datasets.load_dataset(data_args.task_name, data_args.version_name)\n",
    "train_ids_list=[x['id'] for x in dataset[\"train\"]]\n",
    "dataset['train'][0].keys()"
   ]
  },
  {
   "cell_type": "code",
   "execution_count": 9,
   "id": "294780bc",
   "metadata": {},
   "outputs": [
    {
     "data": {
      "application/json": {
       "ascii": false,
       "bar_format": null,
       "colour": null,
       "elapsed": 0.017278432846069336,
       "initial": 0,
       "n": 0,
       "ncols": null,
       "nrows": 60,
       "postfix": null,
       "prefix": "",
       "rate": null,
       "total": 1,
       "unit": "it",
       "unit_divisor": 1000,
       "unit_scale": false
      },
      "application/vnd.jupyter.widget-view+json": {
       "model_id": "11c45a5d799449cfbecfcd948007038e",
       "version_major": 2,
       "version_minor": 0
      },
      "text/plain": [
       "  0%|          | 0/1 [00:00<?, ?it/s]"
      ]
     },
     "metadata": {},
     "output_type": "display_data"
    },
    {
     "name": "stdout",
     "output_type": "stream",
     "text": [
      "[6723, 3269, 12, 6020, 7815, 0, 13, 7, 3556, 4587, 3166, 2607, 1999, 332, 8571, 2, 3520, 6, 1425, 2361, 3764, 7728, 8352, 1273, 5191, 496, 11, 8143, 6929, 4552, 4652, 7764, 6736, 401, 147, 8339, 3128, 5556, 8769, 4417, 8778, 7145, 1279, 6297, 7149, 5884, 10, 5747, 6273, 8, 9504, 8057, 1307, 2183, 1699, 88, 3228, 7178, 2140, 4048, 1041, 1, 3, 5868, 111, 7889, 5370, 8886, 2137, 6980, 9117, 1891, 7827, 1484, 14, 3668, 7090, 5, 7817, 6213, 4656, 5074, 7514, 5896, 4, 9, 7991, 58, 1887, 1598, 3994, 2212, 2274, 6830, 8826, 1604, 9008, 2013, 6521, 4793, 4338, 3923, 8091, 4904, 3938, 3900, 8156, 5806, 8363, 1787, 1496, 5753, 6351, 1104, 1222]\n"
     ]
    },
    {
     "data": {
      "text/plain": [
       "115"
      ]
     },
     "execution_count": 9,
     "metadata": {},
     "output_type": "execute_result"
    }
   ],
   "source": [
    "#rationale generation labeled data construction 115\n",
    "import pandas as pd\n",
    "scr_csqa_labeled_path=\"/cognitive_comp/huangyongfeng/evaluate_LM_with_rationalization/few_shot_explanations/data/handwritten_cose_v1.11_examples.csv\"\n",
    "scr_csqa_label_df=pd.read_csv(scr_csqa_labeled_path)\n",
    "scr_csqa_label_data=datasets.load_dataset('csv', data_files=scr_csqa_labeled_path)\n",
    "scr_csqa_label_ids_list=[x['id'] for x in scr_csqa_label_data['train']]\n",
    "scr_csqa_indexs_list=[train_ids_list.index(id_) for id_ in scr_csqa_label_ids_list]\n",
    "scr_csqa_label_our_explanations_list=[x['our_explanation'] for x in scr_csqa_label_data['train']]\n",
    "print(scr_csqa_indexs_list)\n",
    "data_splits={}\n",
    "data_splits['train']=dataset['train'].select(scr_csqa_indexs_list)\n",
    "\n",
    "refine_train_data=[]\n",
    "for kk, (ex,da) in enumerate(zip(scr_csqa_label_our_explanations_list, data_splits['train'])):\n",
    "#     print(da)\n",
    "    data_splits['train'][kk]['our_explanation']=ex\n",
    "    #print(type(data_splits['train'][kk]),data_splits['train'][kk].keys())\n",
    "    da['our_explanation']=ex\n",
    "    refine_train_data.append(da)\n",
    "\n",
    "len(data_splits['train'])"
   ]
  },
  {
   "cell_type": "code",
   "execution_count": 10,
   "id": "1d97f507",
   "metadata": {},
   "outputs": [
    {
     "data": {
      "application/json": {
       "ascii": false,
       "bar_format": null,
       "colour": null,
       "elapsed": 0.01390838623046875,
       "initial": 0,
       "n": 0,
       "ncols": null,
       "nrows": 60,
       "postfix": null,
       "prefix": "",
       "rate": null,
       "total": 1,
       "unit": "it",
       "unit_divisor": 1000,
       "unit_scale": false
      },
      "application/vnd.jupyter.widget-view+json": {
       "model_id": "92a1c9e18c0f454cbf436f14067b0876",
       "version_major": 2,
       "version_minor": 0
      },
      "text/plain": [
       "  0%|          | 0/1 [00:00<?, ?it/s]"
      ]
     },
     "metadata": {},
     "output_type": "display_data"
    },
    {
     "data": {
      "text/plain": [
       "{'id': '5b8a3081c3235d62bc77e2d15f3ad454',\n",
       " 'question': 'A town between two mountains is located in a what?',\n",
       " 'choices': ['valley', 'hospital', 'state', 'train station', 'michigan'],\n",
       " 'answer': 'valley',\n",
       " 'abstractive_explanation': 'valleys are always between two mountains',\n",
       " 'extractive_explanation': 'A town between two mountains',\n",
       " 'our_explanation': 'A valley is usually between two mountains, where it is located in the place where the mountains are closest to each other.'}"
      ]
     },
     "execution_count": 10,
     "metadata": {},
     "output_type": "execute_result"
    }
   ],
   "source": [
    "#rationale unlabeled data construction 991\n",
    "import pdb\n",
    "scr_csqa_unlabeled_test_file=\"/cognitive_comp/huangyongfeng/evaluate_LM_with_rationalization/few_shot_explanations/data/acceptability_annotations/commonsenseqa_test.csv\"\n",
    "fse_csqa_dev_dataset = datasets.load_dataset('csv', data_files=scr_csqa_unlabeled_test_file)\n",
    "scr_csqa_unlabeled_test_df=pd.read_csv(scr_csqa_unlabeled_test_file)\n",
    "fse_csqa_dev_data_dict={}\n",
    "for kk, da in enumerate(fse_csqa_dev_dataset['train']):\n",
    "    #pdb.set_trace()\n",
    "    id_=da['Input.id']\n",
    "    if da['Answer.acceptable']:\n",
    "        answer_accept=set(da['Answer.acceptable'].split('|'))\n",
    "    else:\n",
    "        answer_accept=set()\n",
    "    explanation_list=[da['Input.explanation_1'], \n",
    "                      da['Input.explanation_2'],\n",
    "                      da['Input.explanation_3'],\n",
    "                      da['Input.explanation_4'],\n",
    "                      da['Input.explanation_5']]\n",
    "    if id_ not in fse_csqa_dev_data_dict.keys():\n",
    "        fse_csqa_dev_data_dict[id_]={\"index\":kk,\"id\":id_,\n",
    "                                     \"question\":da[\"Input.question\"],\n",
    "                                     'answer':da['Input.gold_label'],\n",
    "                                     \"accept_set_list\":[answer_accept],\n",
    "                                     \"explanation_list\":explanation_list}\n",
    "        #[[kk, id_, answer_accept, explanation_list]]\n",
    "    else:\n",
    "        fse_csqa_dev_data_dict[id_][\"accept_set_list\"].append(answer_accept)\n",
    "    if len(fse_csqa_dev_data_dict[id_][\"accept_set_list\"])==3:\n",
    "        fse_csqa_dev_data_dict[id_][\"common_expl_list\"]=[]\n",
    "        common_accept_expl_sample=set.intersection(fse_csqa_dev_data_dict[id_][\"accept_set_list\"][0], \n",
    "                                                   fse_csqa_dev_data_dict[id_][\"accept_set_list\"][1], \n",
    "                                                   fse_csqa_dev_data_dict[id_][\"accept_set_list\"][2])\n",
    "        for idx in list(common_accept_expl_sample):\n",
    "            idx=int(idx)-1\n",
    "            fse_csqa_dev_data_dict[id_][\"common_expl_list\"].append(fse_csqa_dev_data_dict[id_][\"explanation_list\"][idx])\n",
    "        \n",
    "#discriminate 3/3 id\n",
    "id_accept_expl_list=[]\n",
    "our_accept_expl_list=[]\n",
    "id_unaccept_expl_list=[]\n",
    "for k,v in fse_csqa_dev_data_dict.items():\n",
    "    accept_set_list=v['accept_set_list']\n",
    "    assert len(accept_set_list)==3\n",
    "    #pdb.set_trace()\n",
    "    common_accept_expl_sample=set.intersection(accept_set_list[0], accept_set_list[1], accept_set_list[2])\n",
    "    #print(accept_set_list,common_accept_expl_sample)\n",
    "    #pdb.set_trace()\n",
    "    if common_accept_expl_sample:\n",
    "        id_accept_expl_list.append(k)\n",
    "        our_expl=\"\"\n",
    "        for idx in list(common_accept_expl_sample):\n",
    "            idx=int(idx)-1\n",
    "            if len(v['explanation_list'][idx]) > len(our_expl):\n",
    "                our_expl = v['explanation_list'][idx]\n",
    "                our_accept_expl_list.append(our_expl)\n",
    "    else:\n",
    "        id_unaccept_expl_list.append(k)\n",
    "\n",
    "dev_ids_list=[x['id'] for x in dataset['validation']]\n",
    "dev_accept_indexs_list=[dev_ids_list.index(id_) for id_ in id_accept_expl_list]\n",
    "dev_unaccpet_indexs_list=[dev_ids_list.index(id_) for id_ in id_unaccept_expl_list]\n",
    "dev_accept_data=dataset['validation'].select(dev_accept_indexs_list)\n",
    "dev_unaccept_data=dataset['validation'].select(dev_unaccpet_indexs_list)\n",
    "\n",
    "\n",
    "\n",
    "new_dev_accept_data=[]\n",
    "new_dev_unaccept_data=[]\n",
    "for oexp, da in zip(our_accept_expl_list,dev_accept_data):\n",
    "    da[\"our_explanation\"]=oexp\n",
    "    new_dev_accept_data.append(da)\n",
    "for da in dev_unaccept_data:\n",
    "    da[\"our_explanation\"]=oexp\n",
    "    new_dev_unaccept_data.append(da)\n",
    "        \n",
    "new_dev_accept_data[0]\n",
    "        "
   ]
  },
  {
   "cell_type": "code",
   "execution_count": 11,
   "id": "ffe13707",
   "metadata": {},
   "outputs": [
    {
     "data": {
      "text/plain": [
       "{'index': 0,\n",
       " 'id': '5b8a3081c3235d62bc77e2d15f3ad454',\n",
       " 'question': 'A town between two mountains is located in a what?',\n",
       " 'answer': 'valley',\n",
       " 'accept_set_list': [{'2', '4', '5'}, {'2', '4', '5'}, {'2', '4', '5'}],\n",
       " 'explanation_list': ['Because all of the mountains are to the left of this town, if one was looking on a map, one would be able to see the town in the valley.',\n",
       "  'A valley is usually between two mountains, where it is located in the place where the mountains are closest to each other.',\n",
       "  'Because rivers end in valleys; assuming the river is the one of interest, this sentence is likely referring to the geographical location of the town.',\n",
       "  'A town in between mountains presumably would be in a valley, in which case it is plausable that it would be surrounded by heights in every direction.',\n",
       "  'A valley is a low area between two mountains.'],\n",
       " 'common_expl_list': ['A valley is usually between two mountains, where it is located in the place where the mountains are closest to each other.',\n",
       "  'A town in between mountains presumably would be in a valley, in which case it is plausable that it would be surrounded by heights in every direction.',\n",
       "  'A valley is a low area between two mountains.']}"
      ]
     },
     "execution_count": 11,
     "metadata": {},
     "output_type": "execute_result"
    }
   ],
   "source": [
    "fse_csqa_dev_data_dict['5b8a3081c3235d62bc77e2d15f3ad454']\n"
   ]
  },
  {
   "cell_type": "code",
   "execution_count": 12,
   "id": "3161874f",
   "metadata": {},
   "outputs": [],
   "source": [
    "# for k,v in fse_csqa_dev_data_dict.items():\n",
    "#     #print(v.keys())\n",
    "#     print(\"******\")\n",
    "#     print(v['question'])\n",
    "#     print(v['answer'])\n",
    "#     print(v['common_expl_list'])\n",
    "#     print(\"******\")    \n",
    "# for k,v in fse_csqa_train_data_dict.items():\n",
    "#     #print(v.keys())\n",
    "#     print(\"******\")\n",
    "#     print(v['question'])\n",
    "#     print(v['answer'])\n",
    "#     print(v['common_expl_list'])\n",
    "#     print(\"******\") \n"
   ]
  },
  {
   "cell_type": "code",
   "execution_count": 13,
   "id": "3e0e8a2d",
   "metadata": {},
   "outputs": [
    {
     "data": {
      "application/json": {
       "ascii": false,
       "bar_format": null,
       "colour": null,
       "elapsed": 0.013731956481933594,
       "initial": 0,
       "n": 0,
       "ncols": null,
       "nrows": 60,
       "postfix": null,
       "prefix": "",
       "rate": null,
       "total": 1,
       "unit": "it",
       "unit_divisor": 1000,
       "unit_scale": false
      },
      "application/vnd.jupyter.widget-view+json": {
       "model_id": "89daa42d45f449cab9713e13a01cf295",
       "version_major": 2,
       "version_minor": 0
      },
      "text/plain": [
       "  0%|          | 0/1 [00:00<?, ?it/s]"
      ]
     },
     "metadata": {},
     "output_type": "display_data"
    },
    {
     "data": {
      "text/plain": [
       "{'id': 'ed53cbea1f21072fab892031b31192d1',\n",
       " 'question': 'Where can you likely buy many poems?',\n",
       " 'choices': ['book of poetry',\n",
       "  'literature book',\n",
       "  'book store',\n",
       "  'poetry book',\n",
       "  'bookshelf'],\n",
       " 'answer': 'book store',\n",
       " 'abstractive_explanation': 'book store book',\n",
       " 'extractive_explanation': 'buy many poems',\n",
       " 'our_explanation': 'A bookstore sells a variety of books, including poetry books; chains of bookstores sometimes specialize in categories such as poetry or literature.'}"
      ]
     },
     "execution_count": 13,
     "metadata": {},
     "output_type": "execute_result"
    }
   ],
   "source": [
    "#rationale unlabeled data construction 991\n",
    "import pdb\n",
    "scr_csqa_unlabeled_train_file=\"/cognitive_comp/huangyongfeng/evaluate_LM_with_rationalization/few_shot_explanations/data/acceptability_annotations/commonsenseqa_train.csv\"\n",
    "fse_csqa_train_dataset = datasets.load_dataset('csv', data_files=scr_csqa_unlabeled_train_file)\n",
    "scr_csqa_unlabeled_train_df=pd.read_csv(scr_csqa_unlabeled_train_file)\n",
    "fse_csqa_train_data_dict={}\n",
    "for kk, da in enumerate(fse_csqa_train_dataset['train']):\n",
    "    #pdb.set_trace()\n",
    "    id_=da['Input.id']\n",
    "    if da['Answer.acceptable']:\n",
    "        answer_accept=set(da['Answer.acceptable'].split('|'))\n",
    "    else:\n",
    "        answer_accept=set()\n",
    "    explanation_list=[da['Input.explanation_1'], \n",
    "                      da['Input.explanation_2'],\n",
    "                      da['Input.explanation_3'],\n",
    "                      da['Input.explanation_4'],\n",
    "                      da['Input.explanation_5']]\n",
    "    if id_ not in fse_csqa_train_data_dict.keys():\n",
    "        fse_csqa_train_data_dict[id_]={\"index\":kk,\"id\":id_,\n",
    "                                     \"question\":da[\"Input.question\"],\n",
    "                                     'answer':da['Input.gold_label'],\n",
    "                                     \"accept_set_list\":[answer_accept],\n",
    "                                     \"explanation_list\":explanation_list}\n",
    "        #[[kk, id_, answer_accept, explanation_list]]\n",
    "    else:\n",
    "        fse_csqa_train_data_dict[id_][\"accept_set_list\"].append(answer_accept)\n",
    "        \n",
    "    if len(fse_csqa_train_data_dict[id_][\"accept_set_list\"])==3:\n",
    "        fse_csqa_train_data_dict[id_][\"common_expl_list\"]=[]\n",
    "        common_accept_expl_sample=set.intersection(fse_csqa_train_data_dict[id_][\"accept_set_list\"][0], \n",
    "                                                   fse_csqa_train_data_dict[id_][\"accept_set_list\"][1], \n",
    "                                                   fse_csqa_train_data_dict[id_][\"accept_set_list\"][2])\n",
    "        for idx in list(common_accept_expl_sample):\n",
    "            idx=int(idx)-1\n",
    "            fse_csqa_train_data_dict[id_][\"common_expl_list\"].append(fse_csqa_train_data_dict[id_][\"explanation_list\"][idx])\n",
    "\n",
    "    \n",
    "#discriminate 3/3 id\n",
    "id_accept_expl_list=[]\n",
    "our_accept_expl_list=[]\n",
    "id_unaccept_expl_list=[]\n",
    "for k,v in fse_csqa_train_data_dict.items():\n",
    "    accept_set_list=v['accept_set_list']\n",
    "    assert len(accept_set_list)==3\n",
    "    #pdb.set_trace()\n",
    "    common_accept_expl_sample=set.intersection(accept_set_list[0], accept_set_list[1], accept_set_list[2])\n",
    "    #print(accept_set_list,common_accept_expl_sample)\n",
    "    #pdb.set_trace()\n",
    "    if common_accept_expl_sample:\n",
    "        id_accept_expl_list.append(k)\n",
    "        our_expl=\"\"\n",
    "        for idx in list(common_accept_expl_sample):\n",
    "            idx=int(idx)-1\n",
    "            if len(v['explanation_list'][idx]) > len(our_expl):\n",
    "                our_expl = v['explanation_list'][idx]\n",
    "                our_accept_expl_list.append(our_expl)\n",
    "    else:\n",
    "        id_unaccept_expl_list.append(k)\n",
    "\n",
    "train_ids_list=[x['id'] for x in dataset['train']]\n",
    "train_accept_indexs_list=[train_ids_list.index(id_) for id_ in id_accept_expl_list]\n",
    "train_unaccpet_indexs_list=[train_ids_list.index(id_) for id_ in id_unaccept_expl_list]\n",
    "train_accept_data=dataset['train'].select(train_accept_indexs_list)\n",
    "train_unaccept_data=dataset['train'].select(train_unaccpet_indexs_list)\n",
    "\n",
    "\n",
    "\n",
    "new_train_accept_data=[]\n",
    "new_train_unaccept_data=[]\n",
    "for oexp, da in zip(our_accept_expl_list,train_accept_data):\n",
    "    da[\"our_explanation\"]=oexp\n",
    "    new_train_accept_data.append(da)\n",
    "for da in train_unaccept_data:\n",
    "    da[\"our_explanation\"]=oexp\n",
    "    new_train_unaccept_data.append(da)\n",
    "        \n",
    "new_train_accept_data[0]"
   ]
  },
  {
   "cell_type": "code",
   "execution_count": 14,
   "id": "595b9453",
   "metadata": {},
   "outputs": [
    {
     "data": {
      "text/plain": [
       "(set(), set())"
      ]
     },
     "execution_count": 14,
     "metadata": {},
     "output_type": "execute_result"
    }
   ],
   "source": [
    "refine_train_data=refine_train_data\n",
    "refine_dev_data=new_train_accept_data + new_dev_accept_data\n",
    "refine_test_data=new_train_unaccept_data + new_dev_unaccept_data\n",
    "\n",
    "refine_train_ids_list=[x['id'] for x in refine_train_data]\n",
    "refine_dev_ids_list=[x['id'] for x in refine_dev_data]\n",
    "refine_test_ids_list=[x['id'] for x in refine_test_data]\n",
    "\n",
    "set(refine_train_ids_list).intersection(set(refine_dev_ids_list)),set(refine_train_ids_list).intersection(set(refine_test_ids_list))\n",
    "\n"
   ]
  },
  {
   "cell_type": "code",
   "execution_count": 15,
   "id": "48e4ec26",
   "metadata": {},
   "outputs": [
    {
     "data": {
      "text/plain": [
       "dict_keys(['id', 'question', 'choices', 'answer', 'abstractive_explanation', 'extractive_explanation', 'our_explanation'])"
      ]
     },
     "execution_count": 15,
     "metadata": {},
     "output_type": "execute_result"
    }
   ],
   "source": [
    "our_data_splits={}\n",
    "our_data_splits['train']=refine_train_data\n",
    "our_data_splits['dev']=refine_dev_data\n",
    "our_data_splits['test']=refine_test_data\n",
    "refine_train_data[0].keys()"
   ]
  },
  {
   "cell_type": "markdown",
   "id": "0fcdf34f",
   "metadata": {},
   "source": [
    "# shots number"
   ]
  },
  {
   "cell_type": "code",
   "execution_count": 16,
   "id": "bd43fe66",
   "metadata": {},
   "outputs": [],
   "source": [
    "id_list = [\n",
    " '71519c19654251cced50c5718fd527c1',\n",
    " '44195d210c81c8c550174d0edbd3ad5d',\n",
    " '5a5da37b685ec9c6f15228128ce30437',\n",
    " 'cabdfc174953b4bdb8bdcc89d6592c74',\n",
    " 'eac3a4080127e8924034651b57dfa289',\n",
    " 'c0013f31657294b9b5ad819123513ca7',\n",
    " '2681697be70cd5425899ed6deb84b18a',\n",
    " '47f60340b869552e795fa6782224f3d2',\n",
    " '7e8a6eac93147eb52d8151bab7b40003',\n",
    " 'f34267f498c8a78383e35057fbcfa2ce',\n",
    " 'f024f923d78e5c0a4c0c4baa3ddccf05',\n",
    " 'e148c710d0c26849cf1f15293481038b',\n",
    " 'bdf437d7498815f36c255f64a8e6571c',\n",
    " '2282e0c80be28aadadb79a822fec9dac',\n",
    " 'bdd05e96876342b4b5999709439a7f4e',\n",
    " '494b8316614fc64c5c27757aeaffce23_1',\n",
    " 'c4494b402264250dc70931613d482295',\n",
    " 'fcfbf207c5586294fdce33b645b613f1',\n",
    " '9c583bcbe68989a644433302545fb31e',\n",
    " '0e684d779d98e6eecda167c10af42bbb',\n",
    " 'ac0462d09b9fddd40c3c77aedf48a870',\n",
    " '1dbfb41e04a10bdbb085bfe667c0df99',\n",
    " 'cd0c0ef3b8ce0eb09ff26823f6059be6',\n",
    " 'e6b67184b99375d05d3f2887f684c684',\n",
    " 'ae9f6f1e17b3fdd3a86b494933809f45',\n",
    " 'f149604169936a30b7e4c8d599d604b5',\n",
    " 'd7c8377953e0175ef57d59f3a8e63a8e',\n",
    " '1837216ac7745121b82a6491b2318c09',\n",
    " 'b5fe238d45e55ca5d802b7823ad390ef',\n",
    " 'b2fbeb0b48bd5e575af0f7dc24cdd85d',\n",
    " '9bdfb101c487ac598f6e4686cf774703',\n",
    " '206c7116ee2246180fcc0c5a1d0e7205',\n",
    " '5cd7f44bbf730dfae5ef2a362d2e5149',\n",
    " '45d0ea781ffd49b07d6eae94d47a8945',\n",
    " '89afdea1d76272fda8e1538a7d3b7a3f',\n",
    " '38a514fe54108527e1d6e89d9812da93',\n",
    " 'ebf347934a3e90ea46d3d87726fb5d25',\n",
    " '90226a6ecd7308ae1e6220a15ae24bc6',\n",
    " '5cae8057e75e3adf5c338a43b3ba97fb',\n",
    " '388a363c49e1b0aca8eaf18ccdde0caf',\n",
    " '9ed3af82152dfcd7000bf4631b095f71',\n",
    " '2d5805d894bba224c5fe91e70b8c0f77',\n",
    " 'd5aa464a16b72c9b9f3091abd461e3ef',\n",
    " '381b11c54be4cc432a95053ca34cbf6b',\n",
    " '807a3a2dabdd50ed0c76052fd2612632',\n",
    " '5172041c750d22e9a5081cc024de0fa6',\n",
    " 'd32a45ab3b751110d0578a78e54c0e64',\n",
    " '28ca5cbe27774746c34f6ebe84fc6d0c']\n",
    "\n",
    "chatGPT_rationales = [\n",
    "    \"A cup is a common vessel used for holding and drinking liquids, such as water, coffee, or tea. When you want to get yourself a drink, you might typically get a cup from a cabinet or other storage area in order to hold the drink. A cup is a convenient and practical choice for getting a drink because it is easy to hold and use, and it can hold a reasonable amount of liquid. There are many different types of cups available, including ceramic, glass, plastic, and metal cups, each with their own unique features and benefits. Whether you are at home, at work, or out in public, a cup is a handy item to have on hand when you need to quench your thirst.\",\n",
    "    \"A front yard is the lawn that is typically located in front of a house, near the street. The front yard is the part of the property that is visible from the street and is often used for decorative purposes, such as landscaping or gardening. Many people take pride in their front yards and may spend time and resources maintaining and improving them. The front yard is often the first thing that visitors see when they arrive at a house, and it can make a strong impression on them. In contrast, the back yard is typically located behind the house and is often used for more practical purposes, such as outdoor recreation or gardening.\",\n",
    "    \"A swimming pool is a recreational water feature that is typically used for swimming and other aquatic activities. While shallow water, such as that found in a kiddie pool or a shallow end of a pool, can be enjoyable for some people, it may not be sufficient for many summer activities. A swimming pool that is deep enough for diving and other activities is more likely to provide more opportunities for summer fun. In addition, a swimming pool that is clean and chlorinated is more likely to be safe and enjoyable for swimming, as it will be free of contaminants and bacteria that can cause illness.\",\n",
    "    \"In most places, it is illegal for people under the age of 21 to purchase or consume alcohol. This is because alcohol can have negative effects on the developing brain and body of young people. It can also contribute to risky behaviors and accidents. Therefore, many governments have set a minimum age for alcohol consumption and purchase to help protect the health and safety of young people. If someone is under the age of 21 and attempts to purchase alcohol, they may be denied the sale or face legal consequences. It is important for young people to understand and adhere to the laws and regulations regarding the purchase and consumption of alcohol in their area.\",\n",
    "    \"When someone shaves, they typically use a razor to remove hair from their face or body. The process of shaving can leave a lot of hair in the sink, as the hair is trimmed off and falls into the sink as it is being shaved. It is common for people to shave in the bathroom, where a sink is typically located. The sink provides a convenient place to rinse the razor and wash off any excess hair or shaving cream. It is important to clean the sink after shaving to remove any hair and prevent clogs in the drain.\",\n",
    "    \"A hamburger is a type of sandwich that consists of a cooked patty of ground meat, typically beef, placed between two slices of bread or a bun. Hamburgers are often served with various toppings, such as lettuce, tomato, onion, cheese, and condiments like ketchup and mustard. However, if someone is suffering from great hunger, they may not care about the toppings and just want to eat the hamburger itself. In this case, the person may be more focused on satisfying their hunger and getting nourishment rather than worrying about additional ingredients or flavors.\",\n",
    "    \"If a person notices popcorn and cotton candy on the grass, they are likely at fairgrounds. Fairgrounds are outdoor areas that are used for hosting fairs and other events, such as carnivals, festivals, and exhibitions. These events often feature food stalls and vendors that sell a variety of treats, including popcorn and cotton candy. Popcorn and cotton candy are both popular carnival foods that are often sold at fairs and other events. The presence of these foods on the ground at fairgrounds suggests that a fair or similar event is taking place there.\",\n",
    "    \"When snow on a mountain becomes heavy, it can trigger an avalanche. An avalanche is a rapid flow of snow down a slope, often triggered by the weight of the snow or external factors such as a change in temperature. Avalanches can be dangerous and destructive, as they can bury and sweep away anything in their path, including people, buildings, and vehicles. Avalanches can occur on any slope with a steep enough incline and a sufficient amount of snow. They are most common on mountains, but they can also occur in other snowy areas, such as forests or valleys. It is important for people to be aware of the risk of avalanches and to take precautions when traveling in areas prone to avalanches.\",\n",
    "    \"A police officer typically reports their work through the use of case reports or incident reports. These reports are written documents that detail the events of a specific case or incident that the officer has worked on. Case reports or incident reports typically include information such as the date and time of the incident, the location, the people involved, and the actions taken by the officer. They may also include witness statements, evidence collected, and any other relevant details. Case reports or incident reports are used by police officers to document their work and provide a record of the incidents they have dealt with. They are also used by supervisors and other authorities to review and evaluate the performance of the officer and the effectiveness of their actions.\",\n",
    "    \"Teachers play many roles in the lives of their students, including mentor, counselor, and role model. However, they get the most out of their job by simply teaching children. Teaching children is the primary responsibility of a teacher, and it is what they are trained and paid to do. Teaching involves imparting knowledge, skills, and values to students, and helping them to develop the skills and habits they need to succeed in life. Teachers have the opportunity to make a positive impact on the lives of their students by providing them with a strong foundation in academic subjects and helping them to become curious, engaged learners. Teachers often derive a great deal of satisfaction from helping their students to achieve their potential and succeed in their studies.\",\n",
    "    \"A person might go to get counseling for a variety of reasons. One reason is to better understand themselves. Counseling can provide a safe and supportive environment for individuals to explore their thoughts, feelings, and behaviors, and to gain insight into why they act and feel the way they do. Counseling can also help a person to identify and work through any underlying issues or challenges that may be causing them distress or hindering their personal growth. Through counseling, a person can learn more about themselves and how to navigate their emotions and relationships more effectively. Counseling can be particularly helpful for individuals who are struggling with mental health issues, relationship problems, or other personal challenges.\",\n",
    "    \"If the kids wanted to cool off, they might go swimming as a way to refresh and beat the heat. Swimming is a fun and enjoyable activity that can provide relief from hot weather and help to cool the body. Swimming can also provide a great workout and has numerous health benefits, such as improving cardiovascular fitness and flexibility. There are many different places where kids can go swimming, such as pools, lakes, rivers, or the ocean. No matter where they go, kids can have fun and cool off while enjoying the water.\",\n",
    "    \"When remembering a tragedy in the past, many people may feel depressed. Depression is a common emotional reaction to experiencing a traumatic or stressful event, such as a tragedy. Depression is a mental health disorder characterized by persistent feelings of sadness, hopelessness, and low energy. It can also cause physical symptoms such as changes in appetite and sleep patterns, fatigue, and difficulty concentrating. Remembering a tragedy can be emotionally difficult and may trigger feelings of sadness, grief, and guilt. It is important for people who are struggling with depression to seek support and treatment to help manage their symptoms and improve their mental health.\",\n",
    "    \"Death Valley is a national park located in the Mojave Desert, in the state of California, United States. It is situated on the North American continent. The North American continent is one of the seven continents of the world and is located in the western hemisphere. It is the third largest continent in terms of land area, after Asia and Africa, and is home to a diverse range of cultures, languages, and environments. Death Valley is known for its extreme desert climate and is the lowest, hottest, and driest place in North America. It is a popular destination for tourists, who come to see its unique geological features, such as sand dunes, salt flats, and canyons.\",\n",
    "    \"When in a serious relationship, understanding better requires effort. Relationships require effort and work to maintain and grow. In order to understand your partner better, you need to be willing to put in the time and effort to communicate with them, listen to their perspectives, and try to see things from their point of view. This may involve asking questions, expressing your own feelings and needs, and being open to feedback and compromise. Understanding your partner better can help to strengthen the bond between you and improve the quality of your relationship. It is important to remember that relationships are dynamic and evolving, and that ongoing communication and effort are necessary to maintain a healthy and fulfilling relationship.\",\n",
    "    \"Cats are able to make a variety of vocalizations, including meows, purrs, and growls, as a way of communicating with humans and other animals. Cats use these vocalizations to convey a range of emotions and needs, such as hunger, happiness, or discomfort. Meowing is a common vocalization that cats use to communicate with humans. Cats may meow when they want attention, food, or to be let outside. Cats may also meow when they are feeling anxious or stressed. Although cats cannot talk in the same way that humans do, they are skilled at using their voices to communicate with their owners and other animals.\",\n",
    "    \"If you need a vessel that is similar to a battleship but faster, you might consider using a corvette. A corvette is a small, fast warship that is typically used for convoy escort, patrol, and other shallow water duties. Corvettes are generally smaller and less heavily armed than battleships, but they are more agile and have a higher speed. They are typically equipped with a variety of weapons, including guns, missiles, and torpedoes, and are used for defending against enemy ships and aircraft. Corvettes are often used for coastal defense, as well as for patrolling and enforcing maritime laws. They are capable of operating in a variety of environments, including open ocean and littoral (nearshore) waters.\",\n",
    "    \"Water in the sky comes from rain clouds. Rain clouds are clouds that form when moist air rises and cools, forming tiny water droplets that condense around particles in the air. As the droplets grow, they eventually become heavy enough to fall from the cloud as rain. Rain clouds are typically gray or white in color and are often accompanied by other types of clouds, such as cumulus or stratocumulus clouds. Rain clouds can form in a variety of ways, such as when warm, moist air from the ground rises and cools, or when moist air from the ocean is carried inland by the wind. Rain clouds can be found in many parts of the world and are a common source of precipitation, especially during the warmer months.\",\n",
    "    \"If John rented a hotel room while on a business trip and it was a company-sponsored event, it is possible that the hotel was a resort. Resorts are hotels or vacation properties that offer a variety of amenities and activities for guests, such as swimming pools, golf courses, spas, and restaurants. They are often located in scenic or recreational areas and are designed to provide a relaxing and enjoyable experience for guests. Many resorts offer conference and meeting facilities and are popular destinations for business events and retreats. If John's company sponsored the business trip and provided the hotel accommodations, it is likely that they chose a resort with the amenities and facilities needed to support the event.\",\n",
    "    \"An expressway might leave the United States and go to Canada. The United States and Canada are neighboring countries that share a border, and there are several expressways that cross the border between the two countries. Expressways are high-speed, limited-access roads that are designed for fast and efficient travel. They typically have multiple lanes and may include features such as grade separations, interchanges, and controlled access points. Expressways are used for long-distance travel and are often the main routes connecting major cities and regions. If an expressway leaves the United States, it is likely that it is heading towards Canada, which is located to the north of the United States.\",\n",
    "    \"If you were walking on a sidewalk near a small corner shop run by John, you would look for it on the street corner. A corner shop is a small retail store that is typically located at the intersection of two streets. It is often a convenience store or a neighborhood shop that sells a variety of goods, such as groceries, household items, and other supplies. Corner shops are often located in busy urban areas, where they are easily accessible to pedestrians and motorists. If you were walking on a sidewalk near a corner shop, you would look for it at the intersection of the street where you are walking and another street. The shop is likely to be located in a building on the corner, with windows and doors facing the street.\",\n",
    "    \"One way that a company can efficiently sell things to their customers is through mail order. Mail order is a method of selling goods or services by advertising them in a catalog or other publication and allowing customers to place orders by mail, telephone, or online. Mail order is a convenient and efficient way for companies to reach a wide customer base, as it allows them to sell products to customers who may not be located near their physical store or who may not have the time or inclination to shop in person. Mail order companies typically have a centralized warehouse or distribution center where orders are processed and shipped to customers. They may also offer options such as easy returns and exchanges, as well as customer service support to assist with any questions or issues that customers may have.\",\n",
    "    \"If he enjoyed the factory work and liked the idea that he did it for sale, it is likely that he enjoyed producing goods. Factory work typically involves the production of goods, such as products or materials, using machines, tools, and other equipment. Factory workers are responsible for operating and maintaining the equipment and ensuring that the goods being produced meet quality standards. The goods produced in a factory may be sold directly to consumers or to other businesses, and may be used for a variety of purposes, such as manufacturing, construction, or distribution. If a person enjoys factory work, they may find satisfaction in the idea that they are contributing to the production of goods that will be sold and used by others.\",\n",
    "    \"If returning to work was easy for Dan after his treatment and he was completely painless, it is likely that he had undergone some form of medical treatment or therapy to address a health issue or injury. Painless indicates that Dan was no longer experiencing pain or discomfort, which may have been a result of the treatment or therapy he received. It is not clear from the information provided what specific health issue or injury Dan was dealing with, or what treatment or therapy he received. However, it is possible that Dan was able to return to work more easily after his treatment because he was feeling better and was no longer experiencing any pain or discomfort.\",\n",
    "    \"If index cards were on display at the museum, it is likely that the museum was a library. Libraries are institutions that provide access to a wide range of resources, including books, periodicals, and other printed materials, as well as digital resources such as e-books, databases, and online research tools. Libraries often have exhibits and displays of various types of materials, including rare or unique items, and may have special collections or archives that are of particular interest to researchers or historians. Index cards are small, rectangular pieces of paper that are used for organizing information, such as names, dates, or research notes. They may be used in a variety of settings, including libraries, offices, and schools. If index cards were on display at the museum, it is possible that they were part of a historical exhibit or collection related to the history of libraries or research.\",\n",
    "    \"If she was a human in America who wanted to live well, it is likely that the given for her situation was the need for money. In general, money is an important factor in enabling people to live well and meet their basic needs and desires. Money allows people to purchase the goods and services that they need to sustain themselves and their families, such as food, clothing, housing, and healthcare. It also enables people to pursue their interests and hobbies, travel, and engage in various forms of leisure and entertainment. In America, and in many other countries around the world, the cost of living can be high, and people often need to earn and save money in order to achieve a desired standard of living. As such, the need for money is a given for many people in order to live well.\",\n",
    "    \"A place that could have one back garden is a house. A garden is a piece of land that is used for growing plants, flowers, vegetables, or other types of vegetation. Gardens can be found in a variety of settings, including residential properties, public parks, and commercial properties. A house is a building that is used as a dwelling for one or more people, and it typically includes living spaces, such as bedrooms, bathrooms, and a kitchen, as well as outdoor areas, such as a front yard, side yard, and back yard. A back yard is a private outdoor space that is typically located behind a house and is often used for recreational or leisure activities, such as gardening, grilling, or playing games. If a house has a back garden, it is likely that the garden is located in the back yard.\",\n",
    "    \"People gather at a football stadium to see large men in pads play a game where they run and smash into each other. Football is a popular sport that is played on a rectangular field by two teams of eleven players. The game involves running, passing, and tackling, and players wear pads and other protective gear to reduce the risk of injury. Football is a physical and intense sport, and players often collide with each other at high speeds. Football stadiums are large, open-air facilities that are designed to host football games and other sporting events. They typically have a grass or artificial turf field, seating for spectators, and a variety of amenities, such as concessions stands, restrooms, and VIP areas. Football stadiums are popular places for people to gather and watch football games, and they can be found in cities and towns throughout the world.\",\n",
    "    \"One place where someone can get a flute is a musical instrument store. A musical instrument store is a retail establishment that specializes in selling musical instruments and related accessories. They may carry a wide range of instruments, including brass instruments, woodwind instruments, string instruments, percussion instruments, and keyboards. Flutes are woodwind instruments that are played by blowing air into a narrow opening and producing sound by vibrating the lips against a metal or wooden reed. They are popular instruments that are used in a variety of musical styles, including classical, jazz, and folk music. If someone is looking to purchase a flute, they may be able to find a selection of flutes at a musical instrument store. In addition to flutes, musical instrument stores may also offer a variety of other instruments, as well as sheet music, instructional materials, and accessories such as cases, stands, and cleaning supplies.\",\n",
    "    \"It is not clear what someone who has a greed for energy would do. The word greed typically refers to an excessive or insatiable desire for wealth, power, or material possessions. It is not clear how this concept would relate to energy or how it might influence someone's actions. It is possible that someone who has a lot of energy or who is very active might have a high appetite for food and might seek out sources of fuel or nutrition to sustain their energy levels. In this case, they might buy food as a way to obtain the energy they need. However, it is not accurate to say that someone who has a greed for energy would necessarily do this. It is important to note that the concept of greed is generally considered to be negative, as it suggests an unhealthy or unsustainable desire for something.\",\n",
    "    \"A forklift is a type of industrial vehicle that is used for moving and lifting heavy loads, such as pallets, crates, and boxes. Forklifts are equipped with a hydraulic lift mechanism and a set of prongs or forks that can be used to lift and transport loads. They are commonly used in warehouses and other distribution centers to move and stack materials, such as boxes, onto shelves or other storage areas. If you were using a forklift to stack boxes onto shelves, it is likely that you were in a warehouse or a similar facility. Warehouses are large, commercial buildings that are used for storing and distributing goods. They often have high ceilings, wide aisles, and multiple levels, and they may be equipped with a variety of material handling equipment, such as forklifts, conveyor belts, and cranes, to facilitate the movement and storage of goods.\",\n",
    "    \"You are likely to receive mouthwash in a little paper cup at a dentist's office. Dentist's offices are healthcare facilities that are staffed by dentists and other dental professionals, and they are used for the diagnosis and treatment of dental problems and the maintenance of oral health. One common practice at a dentist's office is to rinse the mouth with mouthwash, which is a liquid that is used to freshen breath, kill bacteria, and reduce the risk of gum disease and other oral health issues. Mouthwash is typically used after brushing and flossing to help remove any remaining food particles or plaque from the mouth. It may be dispensed in a little paper cup, which can be used to rinse the mouth and then disposed of after use.\",\n",
    "    \"A doctor's office can help you with an illness. A doctor's office is a healthcare facility that is staffed by medical doctors and other healthcare professionals, and it is used for the diagnosis and treatment of medical conditions and the maintenance of overall health. If you are experiencing an illness, such as a cold, flu, or more serious health issue, you may visit a doctor's office to seek medical care and treatment. At a doctor's office, you may receive a physical examination, diagnostic tests, and other forms of medical treatment, depending on the nature of your illness and your specific needs. Doctors are trained to diagnose and treat a wide range of medical conditions, and they can provide you with the care and support you need to recover from your illness and get back to good health.\",\n",
    "    \"A bug looking for wildflowers and no human interruption might go to a meadow. A meadow is a grassland area that is characterized by its open, grassy landscape and the presence of wildflowers and other types of vegetation. Meadows can be found in a variety of settings, including rural areas, forests, and parkland, and they are often home to a variety of animal and plant species. Because meadows are relatively undisturbed by human activity, they can be a good place for a bug to find wildflowers and other types of plants without interference from humans. Meadows are often considered to be peaceful, serene places, and they may be attractive to a bug that is seeking a quiet, natural environment in which to explore and forage.\",\n",
    "    \"If a bride and groom are taking care of proposals, the likely ceremony is a marriage. A marriage is a formal union between two people that is recognized by law and typically involves a public ceremony and the exchange of vows. A marriage proposal is a request for someone to marry another person, and it is typically made by one partner to the other. The process of planning a marriage often involves taking care of a variety of details and arrangements, such as choosing a venue, selecting a date, inviting guests, and organizing the ceremony and reception. If a bride and groom are taking care of proposals, it is likely that they are in the process of planning their marriage and preparing for the wedding ceremony.\",\n",
    "    \"You could put some olives in a jar to prevent them from getting nearby food wet. A jar is a container that is typically made of glass or ceramic and has a wide mouth and a secure, tight-fitting lid. Jars are often used for storing food items, such as olives, pickles, jams, and other types of preserved or dried goods. Because they have a sealed lid, jars can help to keep food fresh and prevent it from coming into contact with air or other substances that might spoil or contaminate it. If you want to prevent olives from getting nearby food wet, you could put them in a jar and close the lid to create an airtight seal. This would help to keep the olives separate from other foods and prevent them from coming into contact with moisture or other liquids.\",\n",
    "    \"If the graveyard was zoned by the pastor, it is likely that it was located on church property. Church property refers to land or buildings that are owned by a church or religious organization. This may include the main church building, as well as other structures such as a rectory, school, or community center. Church property may also include a graveyard or cemetery, which is a place where people are buried after they die. Pastors, who are ordained leaders in a church, often play a central role in the management and oversight of church property, and they may be responsible for zoning or designating areas within the property for specific purposes, such as a graveyard or a garden. If the pastor has zoned the graveyard, it is likely that it is located on church property and is being used as a place for burial by members of the church or community.\",\n",
    "    \"If a family wanted to live with carpeting, they may have ended up putting it in their houses. Houses are structures that are designed and built to be used as homes, and they typically have a number of rooms that are used for different purposes, such as sleeping, cooking, eating, and relaxing. Carpeting is a type of floor covering that is made of soft, flexible materials, such as wool, nylon, or polypropylene, and it is often used in houses to provide warmth, comfort, and insulation. If a family wanted to live with carpeting, they may have chosen to install carpeting in some or all of the rooms in their houses, in order to create a warm and cozy atmosphere and to improve the overall comfort and livability of their homes.\",\n",
    "    \"If a boss likes an employee's ambition, the employee may be put in charge of a project. A project is a specific task or set of tasks that is undertaken in order to achieve a specific goal or objective. Projects may be large or small, complex or simple, and they may involve a wide range of activities, such as research, design, development, testing, and implementation. If an employee is ambitious and demonstrates a strong desire to succeed and make a positive contribution to their organization, their boss may choose to put them in charge of a project, in order to give them the opportunity to demonstrate their skills and abilities and to take on more responsibility. Being put in charge of a project can be a challenging and rewarding experience, and it may provide an employee with the chance to learn new things, develop their skills, and make a meaningful contribution to their organization.\",\n",
    "    \"A county highway can be viewed as a line on a map. A map is a graphic representation of an area or region that shows the locations of various features, such as roads, rivers, mountains, and cities. Maps are often used to help people navigate and find their way around unfamiliar places, and they can be very useful for understanding the layout and geography of an area. County highways are roads that are maintained and operated by a county or local government, and they are typically used for local travel and transportation within a county or region. On a map, a county highway may be represented as a line, with a specific color or symbol used to indicate its location and route. By viewing a county highway as a line on a map, it is possible to get a sense of the route and layout of the road, and to use the map to plan a journey or navigate to a specific destination.\",\n",
    "    \"After going for a run, someone may feel tired. Running is a form of physical activity that involves moving quickly and continuously on foot, typically by running or jogging. It is a popular form of exercise that can help to improve cardiovascular fitness, build endurance, and strengthen the muscles of the legs and lower body. However, running can also be physically demanding, and it requires a certain level of fitness and stamina to be able to sustain the activity for an extended period of time. As a result, it is common for people to feel tired after going for a run, especially if they are not used to the activity or if they have pushed themselves to run for a longer distance or at a faster pace than usual. Tiredness after a run may be accompanied by other physical sensations, such as muscle fatigue, thirst, or a sense of accomplishment.\",\n",
    "    \"If a car was going from Florida to Ohio, it was heading north. Florida is a state in the southeastern region of the United States, and Ohio is a state in the midwestern region of the country. When traveling from Florida to Ohio, a person would need to go north in order to reach their destination. North is a direction that is opposite to south on a map or compass, and it is typically associated with higher latitude, colder climates, and longer nights. When traveling north, a person may encounter different landscapes, weather patterns, and cultural experiences than they would when traveling south, depending on the specific route and the distance traveled. By heading north from Florida to Ohio, a person would be leaving behind the warm, tropical climate of Florida and entering into a more temperate, mid-latitude region with cooler temperatures and a more diverse range of landscapes and ecosystems.\",\n",
    "    \"During a typical week, a teacher is likely to spend most of their time working in school. A teacher is a person who is trained and qualified to teach students in a school or educational setting, and their primary job is to provide instruction and guidance to help students learn and develop their skills and knowledge. Teachers may work in a variety of settings, including primary schools, secondary schools, and universities, and they may teach a wide range of subjects, including math, science, English, history, and the arts. In order to fulfill their duties as a teacher, a person is likely to spend most of their time working in a school or educational setting, where they will be responsible for preparing and delivering lessons, grading assignments, communicating with students and parents, and performing other tasks related to their job. Teachers typically work on a schedule that follows the school year, and they may work full-time or part-time, depending on their specific circumstances and the needs of their students.\",\n",
    "    \"In a predicament, an animal might choose to fight for its life as an alternative to fleeing. Predicament is a term that refers to a difficult or challenging situation, typically one that involves a choice or decision that needs to be made. When an animal finds itself in a predicament, it may have to decide how to respond in order to survive and protect itself. One option that an animal may have is to flee or run away from the situation in an effort to escape danger or avoid conflict. Another option that an animal may have is to fight for its life, using whatever means are available to defend itself and protect its survival. The choice that an animal makes in a predicament will depend on a variety of factors, including the specific nature of the situation, the animal's size, strength, and abilities, and the resources and options that are available to it.\",\n",
    "    \"It is not common for people to fight each other when they find a good deal. A good deal is typically defined as an opportunity to purchase something at a price that is lower than what it is usually worth, or to obtain a product or service that provides more value or benefits than what is expected. When people find a good deal, they may feel excited or pleased about the opportunity to save money or get more for their money, and they may take action to take advantage of the deal. However, it is generally not considered acceptable or appropriate for people to fight each other over a good deal or to engage in physical violence or aggression in order to obtain it. There are many other ways that people can express their interest in a good deal, such as by negotiating with the seller, making an offer, or simply making a purchase if the price is acceptable.\",\n",
    "    \"An altar is a platform or structure that is used for religious ceremonies, rituals, or worship. Altars are often found in places of worship, such as temples, churches, synagogues, mosques, and other religious buildings. When a person is standing in front of an altar, they are likely to be in a temple or other place of worship. Altars can be used for a variety of purposes in different religions and spiritual traditions, such as offering sacrifices, making offerings, praying, or performing other religious practices. They may be decorated with symbols, images, or other items that are significant to the religion or spiritual tradition that is being practiced. Altars may also be used as a place for people to meditate, reflect, or seek spiritual guidance.\",\n",
    "    \"Joe bought a bunch of grapes because he likes to use them to top his desserts. A dessert is a type of food that is typically served at the end of a meal, and it is usually sweet or rich in flavor. There are many different types of desserts that people enjoy, including cakes, cookies, ice cream, pie, and other sweet treats. One way that people may use grapes as a topping for their desserts is by placing them on top of a fruit pie, tart, or crisp. Grapes can add flavor and texture to a dessert, and they may also be used to decorate a dessert or to add visual appeal. Grapes are a versatile fruit that can be used in many different types of desserts, and they can be eaten fresh, frozen, or preserved in various ways.\",\n",
    "    \"Well water is water that is obtained from underground sources, typically through the use of a well. A well is a hole or shaft that is dug into the ground in order to access water that is contained in underground aquifers or other water-bearing formations. Well water is typically used for drinking, irrigation, and other purposes, and it is often considered to be of high quality because it is filtered and purified naturally as it flows through the ground. To obtain well water, a person can dig a well or have one dug by a professional well driller. The depth of the well will depend on the location and the geology of the area, and a pump or other mechanical system may be used to bring the water to the surface.\",\n",
    "]"
   ]
  },
  {
   "cell_type": "code",
   "execution_count": 17,
   "id": "013e06f0",
   "metadata": {},
   "outputs": [],
   "source": [
    "import glob\n",
    "import json\n",
    "import pdb\n",
    "chatgpt_50_100_rationales_dir = \"./chatgpt_rationales/150_200_text003\"\n",
    "file_list = glob.glob(\"{}/*.json\".format(chatgpt_50_100_rationales_dir))\n",
    "chatgpt_rationales_dict = {}\n",
    "for file in file_list:\n",
    "    with open(file, 'r') as f:\n",
    "        da = json.load(f)\n",
    "        #print(da.keys())\n",
    "        chatgpt_rationales_dict[da['id']] = da['150_to_200_words']\n",
    "        #pdb.set_trace()"
   ]
  },
  {
   "cell_type": "code",
   "execution_count": 18,
   "id": "d9681ea9",
   "metadata": {},
   "outputs": [],
   "source": [
    "def list2dict(refine_data):\n",
    "    refine_data_dict={}\n",
    "    for key in refine_data[0].keys():\n",
    "        refine_data_dict[key]=[x[key] for x in refine_data]\n",
    "    return refine_data_dict\n",
    "\n",
    "select_refine_train_data = []\n",
    "for da in refine_train_data:\n",
    "    #pdb.set_trace()\n",
    "    if da['id'] in chatgpt_rationales_dict.keys():\n",
    "        da['our_explanation'] = chatgpt_rationales_dict[da['id']]\n",
    "        select_refine_train_data.append(da) \n",
    "        \n",
    "select_refine_train_data_dict = list2dict(select_refine_train_data)\n",
    "our_data_splits['train'] = datasets.Dataset.from_dict(select_refine_train_data_dict).shuffle().select(range(72))\n",
    "\n",
    "refine_dev_data_dict = list2dict(refine_dev_data)\n",
    "our_data_splits['dev'] = datasets.Dataset.from_dict(refine_dev_data_dict)\n",
    "\n",
    "refine_test_data_dict = list2dict(refine_test_data)\n",
    "our_data_splits['test'] = datasets.Dataset.from_dict(refine_test_data_dict)\n",
    "\n"
   ]
  },
  {
   "cell_type": "code",
   "execution_count": 19,
   "id": "53ab0e1a",
   "metadata": {},
   "outputs": [],
   "source": [
    "import datasets\n",
    "class SequenceCollator:\n",
    "    def __init__(self, pad_token):\n",
    "        # self.pad_token_mapping = {\n",
    "        #     \"lm_labels\": -100,\n",
    "        #     \"attention_mask\": 0,\n",
    "        #     \"decoder_attention_mask\": 0,\n",
    "        #     \"input_ids\": pad_token,\n",
    "        # }\n",
    "        # self.columns = [\n",
    "        #     \"input_ids\",\n",
    "        #     \"attention_mask\",\n",
    "        #     \"lm_labels\",\n",
    "        #     \"decoder_attention_mask\",\n",
    "        # ]\n",
    "        self.pad_token_mapping = {\n",
    "            \"labels\": -100,\n",
    "            \"attention_mask\": 0,\n",
    "            \"decoder_attention_mask\": 0,\n",
    "            \"input_ids\": pad_token,\n",
    "        }\n",
    "        self.columns = [\n",
    "            \"input_ids\",\n",
    "            \"attention_mask\",\n",
    "            \"labels\",\n",
    "            \"decoder_attention_mask\",\n",
    "        ]\n",
    "\n",
    "    def collate_batch(self, examples):\n",
    "\n",
    "        # batch inputs for training\n",
    "        batch = {}\n",
    "        for key in examples[0].keys():\n",
    "            if key in self.columns:\n",
    "                tmp_list = []\n",
    "                for item in examples:\n",
    "                    tmp_list.append(item[key])\n",
    "\n",
    "                # pad lists to max length\n",
    "                if isinstance(tmp_list[0], list):\n",
    "                    max_length = max(map(len, tmp_list))\n",
    "                    tmp_list = [\n",
    "                        el + [self.pad_token_mapping[key]] * (max_length - len(el))\n",
    "                        for el in tmp_list\n",
    "                    ]\n",
    "\n",
    "                batch[key] = torch.tensor(tmp_list, dtype=torch.long)\n",
    "        return batch\n",
    "    \n",
    "    def __call__(self, examples: List[Dict[str, InputDataClass]]) -> Dict[str, torch.Tensor]:\n",
    "        # re-format inputs for training\n",
    "        batch = {}\n",
    "        for key in examples[0].keys():\n",
    "            if key in self.columns:\n",
    "                tmp_list = []\n",
    "                for item in examples:\n",
    "                    tmp_list.append(item[key])\n",
    "\n",
    "                # pad lists to max length\n",
    "                if isinstance(tmp_list[0], list):\n",
    "                    max_length = max(map(len, tmp_list))\n",
    "                    tmp_list = [\n",
    "                        el + [self.pad_token_mapping[key]] * (max_length - len(el))\n",
    "                        for el in tmp_list\n",
    "                    ]\n",
    "\n",
    "                batch[key] = torch.tensor(tmp_list, dtype=torch.long)\n",
    "        return batch\n",
    "# dataset = datasets.load_dataset(data_args.task_name, data_args.version_name)"
   ]
  },
  {
   "cell_type": "code",
   "execution_count": 20,
   "id": "219866fe",
   "metadata": {},
   "outputs": [
    {
     "data": {
      "application/json": {
       "ascii": false,
       "bar_format": null,
       "colour": null,
       "elapsed": 0.0166318416595459,
       "initial": 0,
       "n": 0,
       "ncols": null,
       "nrows": 60,
       "postfix": null,
       "prefix": "",
       "rate": null,
       "total": 72,
       "unit": "ex",
       "unit_divisor": 1000,
       "unit_scale": false
      },
      "application/vnd.jupyter.widget-view+json": {
       "model_id": "da82f591209a4c79bb51db56382f619e",
       "version_major": 2,
       "version_minor": 0
      },
      "text/plain": [
       "  0%|          | 0/72 [00:00<?, ?ex/s]"
      ]
     },
     "metadata": {},
     "output_type": "display_data"
    },
    {
     "data": {
      "application/json": {
       "ascii": false,
       "bar_format": null,
       "colour": null,
       "elapsed": 0.013086557388305664,
       "initial": 0,
       "n": 0,
       "ncols": null,
       "nrows": 60,
       "postfix": null,
       "prefix": "",
       "rate": null,
       "total": 986,
       "unit": "ex",
       "unit_divisor": 1000,
       "unit_scale": false
      },
      "application/vnd.jupyter.widget-view+json": {
       "model_id": "09ecf1e301a6449e95106c0e7f484c52",
       "version_major": 2,
       "version_minor": 0
      },
      "text/plain": [
       "  0%|          | 0/986 [00:00<?, ?ex/s]"
      ]
     },
     "metadata": {},
     "output_type": "display_data"
    },
    {
     "data": {
      "application/json": {
       "ascii": false,
       "bar_format": null,
       "colour": null,
       "elapsed": 0.013393640518188477,
       "initial": 0,
       "n": 0,
       "ncols": null,
       "nrows": 60,
       "postfix": null,
       "prefix": "",
       "rate": null,
       "total": 255,
       "unit": "ex",
       "unit_divisor": 1000,
       "unit_scale": false
      },
      "application/vnd.jupyter.widget-view+json": {
       "model_id": "935d639e1d574cc69f48917c9c4ef83b",
       "version_major": 2,
       "version_minor": 0
      },
      "text/plain": [
       "  0%|          | 0/255 [00:00<?, ?ex/s]"
      ]
     },
     "metadata": {},
     "output_type": "display_data"
    }
   ],
   "source": [
    "# seq_collector = SequenceCollator(0)\n",
    "# train_ds = seq_collector.__call__(dataset['train'])\n",
    "# train_ds\n",
    "# dataset['train'][0].keys()\n",
    "for split in ['train','dev','test']:\n",
    "    our_data_splits[split] = our_data_splits[split].map(\n",
    "            lambda x: format_instance(\n",
    "                x,\n",
    "                tokenizer,\n",
    "                data_args.explanation_sep,\n",
    "                datasource=data_args.task_name,\n",
    "                io_format=data_args.io_format\n",
    "            ),\n",
    "            batched=False,\n",
    "            load_from_cache_file=False,\n",
    "        )"
   ]
  },
  {
   "cell_type": "code",
   "execution_count": null,
   "id": "0c120e04",
   "metadata": {},
   "outputs": [],
   "source": []
  },
  {
   "cell_type": "code",
   "execution_count": 21,
   "id": "81048fad",
   "metadata": {},
   "outputs": [],
   "source": [
    "chatGPT_rationales = [\n",
    "    \"A cup is a common vessel used for holding and drinking liquids, such as water, coffee, or tea. When you want to get yourself a drink, you might typically get a cup from a cabinet or other storage area in order to hold the drink. A cup is a convenient and practical choice for getting a drink because it is easy to hold and use, and it can hold a reasonable amount of liquid. There are many different types of cups available, including ceramic, glass, plastic, and metal cups, each with their own unique features and benefits. Whether you are at home, at work, or out in public, a cup is a handy item to have on hand when you need to quench your thirst.\",\n",
    "    \"A front yard is the lawn that is typically located in front of a house, near the street. The front yard is the part of the property that is visible from the street and is often used for decorative purposes, such as landscaping or gardening. Many people take pride in their front yards and may spend time and resources maintaining and improving them. The front yard is often the first thing that visitors see when they arrive at a house, and it can make a strong impression on them. In contrast, the back yard is typically located behind the house and is often used for more practical purposes, such as outdoor recreation or gardening.\",\n",
    "    \"A swimming pool is a recreational water feature that is typically used for swimming and other aquatic activities. While shallow water, such as that found in a kiddie pool or a shallow end of a pool, can be enjoyable for some people, it may not be sufficient for many summer activities. A swimming pool that is deep enough for diving and other activities is more likely to provide more opportunities for summer fun. In addition, a swimming pool that is clean and chlorinated is more likely to be safe and enjoyable for swimming, as it will be free of contaminants and bacteria that can cause illness.\",\n",
    "    \"In most places, it is illegal for people under the age of 21 to purchase or consume alcohol. This is because alcohol can have negative effects on the developing brain and body of young people. It can also contribute to risky behaviors and accidents. Therefore, many governments have set a minimum age for alcohol consumption and purchase to help protect the health and safety of young people. If someone is under the age of 21 and attempts to purchase alcohol, they may be denied the sale or face legal consequences. It is important for young people to understand and adhere to the laws and regulations regarding the purchase and consumption of alcohol in their area.\",\n",
    "    \"When someone shaves, they typically use a razor to remove hair from their face or body. The process of shaving can leave a lot of hair in the sink, as the hair is trimmed off and falls into the sink as it is being shaved. It is common for people to shave in the bathroom, where a sink is typically located. The sink provides a convenient place to rinse the razor and wash off any excess hair or shaving cream. It is important to clean the sink after shaving to remove any hair and prevent clogs in the drain.\",\n",
    "    \"A hamburger is a type of sandwich that consists of a cooked patty of ground meat, typically beef, placed between two slices of bread or a bun. Hamburgers are often served with various toppings, such as lettuce, tomato, onion, cheese, and condiments like ketchup and mustard. However, if someone is suffering from great hunger, they may not care about the toppings and just want to eat the hamburger itself. In this case, the person may be more focused on satisfying their hunger and getting nourishment rather than worrying about additional ingredients or flavors.\",\n",
    "    \"If a person notices popcorn and cotton candy on the grass, they are likely at fairgrounds. Fairgrounds are outdoor areas that are used for hosting fairs and other events, such as carnivals, festivals, and exhibitions. These events often feature food stalls and vendors that sell a variety of treats, including popcorn and cotton candy. Popcorn and cotton candy are both popular carnival foods that are often sold at fairs and other events. The presence of these foods on the ground at fairgrounds suggests that a fair or similar event is taking place there.\",\n",
    "    \"When snow on a mountain becomes heavy, it can trigger an avalanche. An avalanche is a rapid flow of snow down a slope, often triggered by the weight of the snow or external factors such as a change in temperature. Avalanches can be dangerous and destructive, as they can bury and sweep away anything in their path, including people, buildings, and vehicles. Avalanches can occur on any slope with a steep enough incline and a sufficient amount of snow. They are most common on mountains, but they can also occur in other snowy areas, such as forests or valleys. It is important for people to be aware of the risk of avalanches and to take precautions when traveling in areas prone to avalanches.\",\n",
    "    \"A police officer typically reports their work through the use of case reports or incident reports. These reports are written documents that detail the events of a specific case or incident that the officer has worked on. Case reports or incident reports typically include information such as the date and time of the incident, the location, the people involved, and the actions taken by the officer. They may also include witness statements, evidence collected, and any other relevant details. Case reports or incident reports are used by police officers to document their work and provide a record of the incidents they have dealt with. They are also used by supervisors and other authorities to review and evaluate the performance of the officer and the effectiveness of their actions.\",\n",
    "    \"Teachers play many roles in the lives of their students, including mentor, counselor, and role model. However, they get the most out of their job by simply teaching children. Teaching children is the primary responsibility of a teacher, and it is what they are trained and paid to do. Teaching involves imparting knowledge, skills, and values to students, and helping them to develop the skills and habits they need to succeed in life. Teachers have the opportunity to make a positive impact on the lives of their students by providing them with a strong foundation in academic subjects and helping them to become curious, engaged learners. Teachers often derive a great deal of satisfaction from helping their students to achieve their potential and succeed in their studies.\",\n",
    "    \"A person might go to get counseling for a variety of reasons. One reason is to better understand themselves. Counseling can provide a safe and supportive environment for individuals to explore their thoughts, feelings, and behaviors, and to gain insight into why they act and feel the way they do. Counseling can also help a person to identify and work through any underlying issues or challenges that may be causing them distress or hindering their personal growth. Through counseling, a person can learn more about themselves and how to navigate their emotions and relationships more effectively. Counseling can be particularly helpful for individuals who are struggling with mental health issues, relationship problems, or other personal challenges.\",\n",
    "    \"If the kids wanted to cool off, they might go swimming as a way to refresh and beat the heat. Swimming is a fun and enjoyable activity that can provide relief from hot weather and help to cool the body. Swimming can also provide a great workout and has numerous health benefits, such as improving cardiovascular fitness and flexibility. There are many different places where kids can go swimming, such as pools, lakes, rivers, or the ocean. No matter where they go, kids can have fun and cool off while enjoying the water.\",\n",
    "    \"When remembering a tragedy in the past, many people may feel depressed. Depression is a common emotional reaction to experiencing a traumatic or stressful event, such as a tragedy. Depression is a mental health disorder characterized by persistent feelings of sadness, hopelessness, and low energy. It can also cause physical symptoms such as changes in appetite and sleep patterns, fatigue, and difficulty concentrating. Remembering a tragedy can be emotionally difficult and may trigger feelings of sadness, grief, and guilt. It is important for people who are struggling with depression to seek support and treatment to help manage their symptoms and improve their mental health.\",\n",
    "    \"Death Valley is a national park located in the Mojave Desert, in the state of California, United States. It is situated on the North American continent. The North American continent is one of the seven continents of the world and is located in the western hemisphere. It is the third largest continent in terms of land area, after Asia and Africa, and is home to a diverse range of cultures, languages, and environments. Death Valley is known for its extreme desert climate and is the lowest, hottest, and driest place in North America. It is a popular destination for tourists, who come to see its unique geological features, such as sand dunes, salt flats, and canyons.\",\n",
    "    \"When in a serious relationship, understanding better requires effort. Relationships require effort and work to maintain and grow. In order to understand your partner better, you need to be willing to put in the time and effort to communicate with them, listen to their perspectives, and try to see things from their point of view. This may involve asking questions, expressing your own feelings and needs, and being open to feedback and compromise. Understanding your partner better can help to strengthen the bond between you and improve the quality of your relationship. It is important to remember that relationships are dynamic and evolving, and that ongoing communication and effort are necessary to maintain a healthy and fulfilling relationship.\",\n",
    "    \"Cats are able to make a variety of vocalizations, including meows, purrs, and growls, as a way of communicating with humans and other animals. Cats use these vocalizations to convey a range of emotions and needs, such as hunger, happiness, or discomfort. Meowing is a common vocalization that cats use to communicate with humans. Cats may meow when they want attention, food, or to be let outside. Cats may also meow when they are feeling anxious or stressed. Although cats cannot talk in the same way that humans do, they are skilled at using their voices to communicate with their owners and other animals.\",\n",
    "    \"If you need a vessel that is similar to a battleship but faster, you might consider using a corvette. A corvette is a small, fast warship that is typically used for convoy escort, patrol, and other shallow water duties. Corvettes are generally smaller and less heavily armed than battleships, but they are more agile and have a higher speed. They are typically equipped with a variety of weapons, including guns, missiles, and torpedoes, and are used for defending against enemy ships and aircraft. Corvettes are often used for coastal defense, as well as for patrolling and enforcing maritime laws. They are capable of operating in a variety of environments, including open ocean and littoral (nearshore) waters.\",\n",
    "    \"Water in the sky comes from rain clouds. Rain clouds are clouds that form when moist air rises and cools, forming tiny water droplets that condense around particles in the air. As the droplets grow, they eventually become heavy enough to fall from the cloud as rain. Rain clouds are typically gray or white in color and are often accompanied by other types of clouds, such as cumulus or stratocumulus clouds. Rain clouds can form in a variety of ways, such as when warm, moist air from the ground rises and cools, or when moist air from the ocean is carried inland by the wind. Rain clouds can be found in many parts of the world and are a common source of precipitation, especially during the warmer months.\",\n",
    "    \"If John rented a hotel room while on a business trip and it was a company-sponsored event, it is possible that the hotel was a resort. Resorts are hotels or vacation properties that offer a variety of amenities and activities for guests, such as swimming pools, golf courses, spas, and restaurants. They are often located in scenic or recreational areas and are designed to provide a relaxing and enjoyable experience for guests. Many resorts offer conference and meeting facilities and are popular destinations for business events and retreats. If John's company sponsored the business trip and provided the hotel accommodations, it is likely that they chose a resort with the amenities and facilities needed to support the event.\",\n",
    "    \"An expressway might leave the United States and go to Canada. The United States and Canada are neighboring countries that share a border, and there are several expressways that cross the border between the two countries. Expressways are high-speed, limited-access roads that are designed for fast and efficient travel. They typically have multiple lanes and may include features such as grade separations, interchanges, and controlled access points. Expressways are used for long-distance travel and are often the main routes connecting major cities and regions. If an expressway leaves the United States, it is likely that it is heading towards Canada, which is located to the north of the United States.\",\n",
    "    \"If you were walking on a sidewalk near a small corner shop run by John, you would look for it on the street corner. A corner shop is a small retail store that is typically located at the intersection of two streets. It is often a convenience store or a neighborhood shop that sells a variety of goods, such as groceries, household items, and other supplies. Corner shops are often located in busy urban areas, where they are easily accessible to pedestrians and motorists. If you were walking on a sidewalk near a corner shop, you would look for it at the intersection of the street where you are walking and another street. The shop is likely to be located in a building on the corner, with windows and doors facing the street.\",\n",
    "    \"One way that a company can efficiently sell things to their customers is through mail order. Mail order is a method of selling goods or services by advertising them in a catalog or other publication and allowing customers to place orders by mail, telephone, or online. Mail order is a convenient and efficient way for companies to reach a wide customer base, as it allows them to sell products to customers who may not be located near their physical store or who may not have the time or inclination to shop in person. Mail order companies typically have a centralized warehouse or distribution center where orders are processed and shipped to customers. They may also offer options such as easy returns and exchanges, as well as customer service support to assist with any questions or issues that customers may have.\",\n",
    "    \"If he enjoyed the factory work and liked the idea that he did it for sale, it is likely that he enjoyed producing goods. Factory work typically involves the production of goods, such as products or materials, using machines, tools, and other equipment. Factory workers are responsible for operating and maintaining the equipment and ensuring that the goods being produced meet quality standards. The goods produced in a factory may be sold directly to consumers or to other businesses, and may be used for a variety of purposes, such as manufacturing, construction, or distribution. If a person enjoys factory work, they may find satisfaction in the idea that they are contributing to the production of goods that will be sold and used by others.\",\n",
    "    \"If returning to work was easy for Dan after his treatment and he was completely painless, it is likely that he had undergone some form of medical treatment or therapy to address a health issue or injury. Painless indicates that Dan was no longer experiencing pain or discomfort, which may have been a result of the treatment or therapy he received. It is not clear from the information provided what specific health issue or injury Dan was dealing with, or what treatment or therapy he received. However, it is possible that Dan was able to return to work more easily after his treatment because he was feeling better and was no longer experiencing any pain or discomfort.\",\n",
    "    \"If index cards were on display at the museum, it is likely that the museum was a library. Libraries are institutions that provide access to a wide range of resources, including books, periodicals, and other printed materials, as well as digital resources such as e-books, databases, and online research tools. Libraries often have exhibits and displays of various types of materials, including rare or unique items, and may have special collections or archives that are of particular interest to researchers or historians. Index cards are small, rectangular pieces of paper that are used for organizing information, such as names, dates, or research notes. They may be used in a variety of settings, including libraries, offices, and schools. If index cards were on display at the museum, it is possible that they were part of a historical exhibit or collection related to the history of libraries or research.\",\n",
    "    \"If she was a human in America who wanted to live well, it is likely that the given for her situation was the need for money. In general, money is an important factor in enabling people to live well and meet their basic needs and desires. Money allows people to purchase the goods and services that they need to sustain themselves and their families, such as food, clothing, housing, and healthcare. It also enables people to pursue their interests and hobbies, travel, and engage in various forms of leisure and entertainment. In America, and in many other countries around the world, the cost of living can be high, and people often need to earn and save money in order to achieve a desired standard of living. As such, the need for money is a given for many people in order to live well.\",\n",
    "    \"A place that could have one back garden is a house. A garden is a piece of land that is used for growing plants, flowers, vegetables, or other types of vegetation. Gardens can be found in a variety of settings, including residential properties, public parks, and commercial properties. A house is a building that is used as a dwelling for one or more people, and it typically includes living spaces, such as bedrooms, bathrooms, and a kitchen, as well as outdoor areas, such as a front yard, side yard, and back yard. A back yard is a private outdoor space that is typically located behind a house and is often used for recreational or leisure activities, such as gardening, grilling, or playing games. If a house has a back garden, it is likely that the garden is located in the back yard.\",\n",
    "    \"People gather at a football stadium to see large men in pads play a game where they run and smash into each other. Football is a popular sport that is played on a rectangular field by two teams of eleven players. The game involves running, passing, and tackling, and players wear pads and other protective gear to reduce the risk of injury. Football is a physical and intense sport, and players often collide with each other at high speeds. Football stadiums are large, open-air facilities that are designed to host football games and other sporting events. They typically have a grass or artificial turf field, seating for spectators, and a variety of amenities, such as concessions stands, restrooms, and VIP areas. Football stadiums are popular places for people to gather and watch football games, and they can be found in cities and towns throughout the world.\",\n",
    "    \"One place where someone can get a flute is a musical instrument store. A musical instrument store is a retail establishment that specializes in selling musical instruments and related accessories. They may carry a wide range of instruments, including brass instruments, woodwind instruments, string instruments, percussion instruments, and keyboards. Flutes are woodwind instruments that are played by blowing air into a narrow opening and producing sound by vibrating the lips against a metal or wooden reed. They are popular instruments that are used in a variety of musical styles, including classical, jazz, and folk music. If someone is looking to purchase a flute, they may be able to find a selection of flutes at a musical instrument store. In addition to flutes, musical instrument stores may also offer a variety of other instruments, as well as sheet music, instructional materials, and accessories such as cases, stands, and cleaning supplies.\",\n",
    "    \"It is not clear what someone who has a greed for energy would do. The word greed typically refers to an excessive or insatiable desire for wealth, power, or material possessions. It is not clear how this concept would relate to energy or how it might influence someone's actions. It is possible that someone who has a lot of energy or who is very active might have a high appetite for food and might seek out sources of fuel or nutrition to sustain their energy levels. In this case, they might buy food as a way to obtain the energy they need. However, it is not accurate to say that someone who has a greed for energy would necessarily do this. It is important to note that the concept of greed is generally considered to be negative, as it suggests an unhealthy or unsustainable desire for something.\",\n",
    "    \"A forklift is a type of industrial vehicle that is used for moving and lifting heavy loads, such as pallets, crates, and boxes. Forklifts are equipped with a hydraulic lift mechanism and a set of prongs or forks that can be used to lift and transport loads. They are commonly used in warehouses and other distribution centers to move and stack materials, such as boxes, onto shelves or other storage areas. If you were using a forklift to stack boxes onto shelves, it is likely that you were in a warehouse or a similar facility. Warehouses are large, commercial buildings that are used for storing and distributing goods. They often have high ceilings, wide aisles, and multiple levels, and they may be equipped with a variety of material handling equipment, such as forklifts, conveyor belts, and cranes, to facilitate the movement and storage of goods.\",\n",
    "    \"You are likely to receive mouthwash in a little paper cup at a dentist's office. Dentist's offices are healthcare facilities that are staffed by dentists and other dental professionals, and they are used for the diagnosis and treatment of dental problems and the maintenance of oral health. One common practice at a dentist's office is to rinse the mouth with mouthwash, which is a liquid that is used to freshen breath, kill bacteria, and reduce the risk of gum disease and other oral health issues. Mouthwash is typically used after brushing and flossing to help remove any remaining food particles or plaque from the mouth. It may be dispensed in a little paper cup, which can be used to rinse the mouth and then disposed of after use.\",\n",
    "    \"A doctor's office can help you with an illness. A doctor's office is a healthcare facility that is staffed by medical doctors and other healthcare professionals, and it is used for the diagnosis and treatment of medical conditions and the maintenance of overall health. If you are experiencing an illness, such as a cold, flu, or more serious health issue, you may visit a doctor's office to seek medical care and treatment. At a doctor's office, you may receive a physical examination, diagnostic tests, and other forms of medical treatment, depending on the nature of your illness and your specific needs. Doctors are trained to diagnose and treat a wide range of medical conditions, and they can provide you with the care and support you need to recover from your illness and get back to good health.\",\n",
    "    \"A bug looking for wildflowers and no human interruption might go to a meadow. A meadow is a grassland area that is characterized by its open, grassy landscape and the presence of wildflowers and other types of vegetation. Meadows can be found in a variety of settings, including rural areas, forests, and parkland, and they are often home to a variety of animal and plant species. Because meadows are relatively undisturbed by human activity, they can be a good place for a bug to find wildflowers and other types of plants without interference from humans. Meadows are often considered to be peaceful, serene places, and they may be attractive to a bug that is seeking a quiet, natural environment in which to explore and forage.\",\n",
    "    \"If a bride and groom are taking care of proposals, the likely ceremony is a marriage. A marriage is a formal union between two people that is recognized by law and typically involves a public ceremony and the exchange of vows. A marriage proposal is a request for someone to marry another person, and it is typically made by one partner to the other. The process of planning a marriage often involves taking care of a variety of details and arrangements, such as choosing a venue, selecting a date, inviting guests, and organizing the ceremony and reception. If a bride and groom are taking care of proposals, it is likely that they are in the process of planning their marriage and preparing for the wedding ceremony.\",\n",
    "    \"You could put some olives in a jar to prevent them from getting nearby food wet. A jar is a container that is typically made of glass or ceramic and has a wide mouth and a secure, tight-fitting lid. Jars are often used for storing food items, such as olives, pickles, jams, and other types of preserved or dried goods. Because they have a sealed lid, jars can help to keep food fresh and prevent it from coming into contact with air or other substances that might spoil or contaminate it. If you want to prevent olives from getting nearby food wet, you could put them in a jar and close the lid to create an airtight seal. This would help to keep the olives separate from other foods and prevent them from coming into contact with moisture or other liquids.\",\n",
    "    \"If the graveyard was zoned by the pastor, it is likely that it was located on church property. Church property refers to land or buildings that are owned by a church or religious organization. This may include the main church building, as well as other structures such as a rectory, school, or community center. Church property may also include a graveyard or cemetery, which is a place where people are buried after they die. Pastors, who are ordained leaders in a church, often play a central role in the management and oversight of church property, and they may be responsible for zoning or designating areas within the property for specific purposes, such as a graveyard or a garden. If the pastor has zoned the graveyard, it is likely that it is located on church property and is being used as a place for burial by members of the church or community.\",\n",
    "    \"If a family wanted to live with carpeting, they may have ended up putting it in their houses. Houses are structures that are designed and built to be used as homes, and they typically have a number of rooms that are used for different purposes, such as sleeping, cooking, eating, and relaxing. Carpeting is a type of floor covering that is made of soft, flexible materials, such as wool, nylon, or polypropylene, and it is often used in houses to provide warmth, comfort, and insulation. If a family wanted to live with carpeting, they may have chosen to install carpeting in some or all of the rooms in their houses, in order to create a warm and cozy atmosphere and to improve the overall comfort and livability of their homes.\",\n",
    "    \"If a boss likes an employee's ambition, the employee may be put in charge of a project. A project is a specific task or set of tasks that is undertaken in order to achieve a specific goal or objective. Projects may be large or small, complex or simple, and they may involve a wide range of activities, such as research, design, development, testing, and implementation. If an employee is ambitious and demonstrates a strong desire to succeed and make a positive contribution to their organization, their boss may choose to put them in charge of a project, in order to give them the opportunity to demonstrate their skills and abilities and to take on more responsibility. Being put in charge of a project can be a challenging and rewarding experience, and it may provide an employee with the chance to learn new things, develop their skills, and make a meaningful contribution to their organization.\",\n",
    "    \"A county highway can be viewed as a line on a map. A map is a graphic representation of an area or region that shows the locations of various features, such as roads, rivers, mountains, and cities. Maps are often used to help people navigate and find their way around unfamiliar places, and they can be very useful for understanding the layout and geography of an area. County highways are roads that are maintained and operated by a county or local government, and they are typically used for local travel and transportation within a county or region. On a map, a county highway may be represented as a line, with a specific color or symbol used to indicate its location and route. By viewing a county highway as a line on a map, it is possible to get a sense of the route and layout of the road, and to use the map to plan a journey or navigate to a specific destination.\",\n",
    "    \"After going for a run, someone may feel tired. Running is a form of physical activity that involves moving quickly and continuously on foot, typically by running or jogging. It is a popular form of exercise that can help to improve cardiovascular fitness, build endurance, and strengthen the muscles of the legs and lower body. However, running can also be physically demanding, and it requires a certain level of fitness and stamina to be able to sustain the activity for an extended period of time. As a result, it is common for people to feel tired after going for a run, especially if they are not used to the activity or if they have pushed themselves to run for a longer distance or at a faster pace than usual. Tiredness after a run may be accompanied by other physical sensations, such as muscle fatigue, thirst, or a sense of accomplishment.\",\n",
    "    \"If a car was going from Florida to Ohio, it was heading north. Florida is a state in the southeastern region of the United States, and Ohio is a state in the midwestern region of the country. When traveling from Florida to Ohio, a person would need to go north in order to reach their destination. North is a direction that is opposite to south on a map or compass, and it is typically associated with higher latitude, colder climates, and longer nights. When traveling north, a person may encounter different landscapes, weather patterns, and cultural experiences than they would when traveling south, depending on the specific route and the distance traveled. By heading north from Florida to Ohio, a person would be leaving behind the warm, tropical climate of Florida and entering into a more temperate, mid-latitude region with cooler temperatures and a more diverse range of landscapes and ecosystems.\",\n",
    "    \"During a typical week, a teacher is likely to spend most of their time working in school. A teacher is a person who is trained and qualified to teach students in a school or educational setting, and their primary job is to provide instruction and guidance to help students learn and develop their skills and knowledge. Teachers may work in a variety of settings, including primary schools, secondary schools, and universities, and they may teach a wide range of subjects, including math, science, English, history, and the arts. In order to fulfill their duties as a teacher, a person is likely to spend most of their time working in a school or educational setting, where they will be responsible for preparing and delivering lessons, grading assignments, communicating with students and parents, and performing other tasks related to their job. Teachers typically work on a schedule that follows the school year, and they may work full-time or part-time, depending on their specific circumstances and the needs of their students.\",\n",
    "    \"In a predicament, an animal might choose to fight for its life as an alternative to fleeing. Predicament is a term that refers to a difficult or challenging situation, typically one that involves a choice or decision that needs to be made. When an animal finds itself in a predicament, it may have to decide how to respond in order to survive and protect itself. One option that an animal may have is to flee or run away from the situation in an effort to escape danger or avoid conflict. Another option that an animal may have is to fight for its life, using whatever means are available to defend itself and protect its survival. The choice that an animal makes in a predicament will depend on a variety of factors, including the specific nature of the situation, the animal's size, strength, and abilities, and the resources and options that are available to it.\",\n",
    "    \"It is not common for people to fight each other when they find a good deal. A good deal is typically defined as an opportunity to purchase something at a price that is lower than what it is usually worth, or to obtain a product or service that provides more value or benefits than what is expected. When people find a good deal, they may feel excited or pleased about the opportunity to save money or get more for their money, and they may take action to take advantage of the deal. However, it is generally not considered acceptable or appropriate for people to fight each other over a good deal or to engage in physical violence or aggression in order to obtain it. There are many other ways that people can express their interest in a good deal, such as by negotiating with the seller, making an offer, or simply making a purchase if the price is acceptable.\",\n",
    "    \"An altar is a platform or structure that is used for religious ceremonies, rituals, or worship. Altars are often found in places of worship, such as temples, churches, synagogues, mosques, and other religious buildings. When a person is standing in front of an altar, they are likely to be in a temple or other place of worship. Altars can be used for a variety of purposes in different religions and spiritual traditions, such as offering sacrifices, making offerings, praying, or performing other religious practices. They may be decorated with symbols, images, or other items that are significant to the religion or spiritual tradition that is being practiced. Altars may also be used as a place for people to meditate, reflect, or seek spiritual guidance.\",\n",
    "    \"Joe bought a bunch of grapes because he likes to use them to top his desserts. A dessert is a type of food that is typically served at the end of a meal, and it is usually sweet or rich in flavor. There are many different types of desserts that people enjoy, including cakes, cookies, ice cream, pie, and other sweet treats. One way that people may use grapes as a topping for their desserts is by placing them on top of a fruit pie, tart, or crisp. Grapes can add flavor and texture to a dessert, and they may also be used to decorate a dessert or to add visual appeal. Grapes are a versatile fruit that can be used in many different types of desserts, and they can be eaten fresh, frozen, or preserved in various ways.\",\n",
    "    \"Well water is water that is obtained from underground sources, typically through the use of a well. A well is a hole or shaft that is dug into the ground in order to access water that is contained in underground aquifers or other water-bearing formations. Well water is typically used for drinking, irrigation, and other purposes, and it is often considered to be of high quality because it is filtered and purified naturally as it flows through the ground. To obtain well water, a person can dig a well or have one dug by a professional well driller. The depth of the well will depend on the location and the geology of the area, and a pump or other mechanical system may be used to bring the water to the surface.\",\n",
    "]"
   ]
  },
  {
   "cell_type": "code",
   "execution_count": null,
   "id": "69fa8109",
   "metadata": {},
   "outputs": [],
   "source": []
  },
  {
   "cell_type": "code",
   "execution_count": 22,
   "id": "01fdee8d",
   "metadata": {},
   "outputs": [],
   "source": [
    "id_list = [\n",
    " '71519c19654251cced50c5718fd527c1',\n",
    " '44195d210c81c8c550174d0edbd3ad5d',\n",
    " '5a5da37b685ec9c6f15228128ce30437',\n",
    " 'cabdfc174953b4bdb8bdcc89d6592c74',\n",
    " 'eac3a4080127e8924034651b57dfa289',\n",
    " 'c0013f31657294b9b5ad819123513ca7',\n",
    " '2681697be70cd5425899ed6deb84b18a',\n",
    " '47f60340b869552e795fa6782224f3d2',\n",
    " '7e8a6eac93147eb52d8151bab7b40003',\n",
    " 'f34267f498c8a78383e35057fbcfa2ce',\n",
    " 'f024f923d78e5c0a4c0c4baa3ddccf05',\n",
    " 'e148c710d0c26849cf1f15293481038b',\n",
    " 'bdf437d7498815f36c255f64a8e6571c',\n",
    " '2282e0c80be28aadadb79a822fec9dac',\n",
    " 'bdd05e96876342b4b5999709439a7f4e',\n",
    " '494b8316614fc64c5c27757aeaffce23_1',\n",
    " 'c4494b402264250dc70931613d482295',\n",
    " 'fcfbf207c5586294fdce33b645b613f1',\n",
    " '9c583bcbe68989a644433302545fb31e',\n",
    " '0e684d779d98e6eecda167c10af42bbb',\n",
    " 'ac0462d09b9fddd40c3c77aedf48a870',\n",
    " '1dbfb41e04a10bdbb085bfe667c0df99',\n",
    " 'cd0c0ef3b8ce0eb09ff26823f6059be6',\n",
    " 'e6b67184b99375d05d3f2887f684c684',\n",
    " 'ae9f6f1e17b3fdd3a86b494933809f45',\n",
    " 'f149604169936a30b7e4c8d599d604b5',\n",
    " 'd7c8377953e0175ef57d59f3a8e63a8e',\n",
    " '1837216ac7745121b82a6491b2318c09',\n",
    " 'b5fe238d45e55ca5d802b7823ad390ef',\n",
    " 'b2fbeb0b48bd5e575af0f7dc24cdd85d',\n",
    " '9bdfb101c487ac598f6e4686cf774703',\n",
    " '206c7116ee2246180fcc0c5a1d0e7205',\n",
    " '5cd7f44bbf730dfae5ef2a362d2e5149',\n",
    " '45d0ea781ffd49b07d6eae94d47a8945',\n",
    " '89afdea1d76272fda8e1538a7d3b7a3f',\n",
    " '38a514fe54108527e1d6e89d9812da93',\n",
    " 'ebf347934a3e90ea46d3d87726fb5d25',\n",
    " '90226a6ecd7308ae1e6220a15ae24bc6',\n",
    " '5cae8057e75e3adf5c338a43b3ba97fb',\n",
    " '388a363c49e1b0aca8eaf18ccdde0caf',\n",
    " '9ed3af82152dfcd7000bf4631b095f71',\n",
    " '2d5805d894bba224c5fe91e70b8c0f77',\n",
    " 'd5aa464a16b72c9b9f3091abd461e3ef',\n",
    " '381b11c54be4cc432a95053ca34cbf6b',\n",
    " '807a3a2dabdd50ed0c76052fd2612632',\n",
    " '5172041c750d22e9a5081cc024de0fa6',\n",
    " 'd32a45ab3b751110d0578a78e54c0e64',\n",
    " '28ca5cbe27774746c34f6ebe84fc6d0c']"
   ]
  },
  {
   "cell_type": "code",
   "execution_count": null,
   "id": "51445c67",
   "metadata": {},
   "outputs": [],
   "source": []
  },
  {
   "cell_type": "code",
   "execution_count": 23,
   "id": "dabe3306",
   "metadata": {},
   "outputs": [],
   "source": [
    "# our_wrong_data_splits['dev']=[]\n",
    "# for x in our_data_splits['dev']:\n",
    "#     for ii in range(5):\n",
    "#         new_x={'id':x['id'], 'real_answer':x['answer'], \n",
    "#                'answer':x['choices'][ii], 'question':x['question'],\n",
    "#                'choices':x['choices'],\n",
    "#                'abstractive_explanation':x['abstractive_explanation'],\n",
    "#                'extractive_explanation':x['extractive_explanation'],\n",
    "#                'our_explanation':x['our_explanation']}\n",
    "#         our_wrong_data_splits['dev'].append(new_x)\n",
    "#     #print(x)\n",
    "#     #pdb.set_trace()\n",
    "# # wandb.init()\n",
    "# our_wrong_dev_data_dict = list2dict(our_wrong_data_splits['dev'])\n",
    "# our_wrong_data_splits['dev'] = datasets.Dataset.from_dict(our_wrong_dev_data_dict)"
   ]
  },
  {
   "cell_type": "code",
   "execution_count": 24,
   "id": "7b62bdf5",
   "metadata": {},
   "outputs": [],
   "source": [
    "# our_wrong_data_splits['train'][0],our_wrong_data_splits['train'][0].keys()\n",
    "# our_wrong_data_splits['train'] = our_wrong_data_splits['train'].map(\n",
    "#             lambda x: format_instance(\n",
    "#                 x,\n",
    "#                 tokenizer,\n",
    "#                 data_args.explanation_sep,\n",
    "#                 datasource=data_args.task_name,\n",
    "#                 io_format=data_args.io_format\n",
    "#             ),\n",
    "#             batched=False,\n",
    "#             load_from_cache_file=False,\n",
    "#         )"
   ]
  },
  {
   "cell_type": "code",
   "execution_count": 25,
   "id": "b421f892",
   "metadata": {},
   "outputs": [],
   "source": [
    "# for da in our_wrong_data_splits['dev']:\n",
    "#     print(\"*******\")\n",
    "#     print(\"question: {}\".format(da['question']))\n",
    "#     print(\"real_answer: {}\".format(da['real_answer']))\n",
    "#     print(\"answer: {}\".format(da['answer']))\n",
    "#     print(\"choices: {}\".format(da['choices']))\n",
    "#     print(\"our_explanation: {}\".format(da['our_explanation']))\n",
    "#     inp_ids = torch.tensor(da[\"input_ids\"], device=model.device).reshape(1, -1)\n",
    "#     out = model.generate(\n",
    "#                     inp_ids,\n",
    "#                     max_length=100,\n",
    "#                     pad_token_id=tokenizer.pad_token_id,\n",
    "#                     eos_token_id=tokenizer.eos_token_id,\n",
    "#                 )\n",
    "#     skip_special_tokens = False if \"infilling\" in data_args.io_format else True\n",
    "#     words = tokenizer.decode(out[0].tolist(), skip_special_tokens=skip_special_tokens)\n",
    "#     print(\"generated explanation: {}\".format(words))\n",
    "#     print(\"#######\")"
   ]
  },
  {
   "cell_type": "code",
   "execution_count": 26,
   "id": "dfa34701",
   "metadata": {},
   "outputs": [],
   "source": [
    "# our_wrong_data_splits['train'][0],our_wrong_data_splits['train'][0].keys()\n",
    "# our_wrong_data_splits['dev'] = our_wrong_data_splits['dev'].map(\n",
    "#             lambda x: format_instance(\n",
    "#                 x,\n",
    "#                 tokenizer,\n",
    "#                 data_args.explanation_sep,\n",
    "#                 datasource=data_args.task_name,\n",
    "#                 io_format=data_args.io_format\n",
    "#             ),\n",
    "#             batched=False,\n",
    "#             load_from_cache_file=False,\n",
    "#         )"
   ]
  },
  {
   "cell_type": "code",
   "execution_count": 27,
   "id": "2e6d6437",
   "metadata": {},
   "outputs": [],
   "source": [
    "# for da in our_wrong_data_splits['dev']:\n",
    "#     print(\"*******\")\n",
    "#     print(\"question: {}\".format(da['question']))\n",
    "#     print(\"real_answer: {}\".format(da['real_answer']))\n",
    "#     print(\"answer: {}\".format(da['answer']))\n",
    "#     print(\"choices: {}\".format(da['choices']))\n",
    "#     print(\"our_explanation: {}\".format(da['our_explanation']))\n",
    "#     inp_ids = torch.tensor(da[\"input_ids\"], device=model.device).reshape(1, -1)\n",
    "#     out = model.generate(\n",
    "#                     inp_ids,\n",
    "#                     max_length=100,\n",
    "#                     pad_token_id=tokenizer.pad_token_id,\n",
    "#                     eos_token_id=tokenizer.eos_token_id,\n",
    "#                 )\n",
    "#     skip_special_tokens = False if \"infilling\" in data_args.io_format else True\n",
    "#     words = tokenizer.decode(out[0].tolist(), skip_special_tokens=skip_special_tokens)\n",
    "#     print(\"generated explanation: {}\".format(words))\n",
    "#     print(\"#######\")"
   ]
  },
  {
   "cell_type": "code",
   "execution_count": 28,
   "id": "91605cfc",
   "metadata": {},
   "outputs": [],
   "source": [
    "# for da in our_wrong_data_splits['train']:\n",
    "#     print(\"*******\")\n",
    "#     print(\"question: {}\".format(da['question']))\n",
    "#     print(\"real_answer: {}\".format(da['real_answer']))\n",
    "#     print(\"answer: {}\".format(da['answer']))\n",
    "#     print(\"choices: {}\".format(da['choices']))\n",
    "#     print(\"our_explanation: {}\".format(da['our_explanation']))\n",
    "#     inp_ids = torch.tensor(da[\"input_ids\"], device=model.device).reshape(1, -1)\n",
    "#     out = model.generate(\n",
    "#                     inp_ids,\n",
    "#                     max_length=100,\n",
    "#                     pad_token_id=tokenizer.pad_token_id,\n",
    "#                     eos_token_id=tokenizer.eos_token_id,\n",
    "#                 )\n",
    "#     skip_special_tokens = False if \"infilling\" in data_args.io_format else True\n",
    "#     words = tokenizer.decode(out[0].tolist(), skip_special_tokens=skip_special_tokens)\n",
    "#     print(\"generated explanation: {}\".format(words))\n",
    "#     print(\"#######\")"
   ]
  },
  {
   "cell_type": "code",
   "execution_count": 29,
   "id": "cbc3e763",
   "metadata": {},
   "outputs": [],
   "source": [
    "# import wandb\n",
    "# training_args.run_name=\"\"\n",
    "training_args.logging_steps=3\n",
    "training_args.save_steps=5\n",
    "training_args.evaluation_strategy=\"epoch\"\n",
    "training_args.num_train_epochs=25\n",
    "training_args.do_eval=True"
   ]
  },
  {
   "cell_type": "code",
   "execution_count": 30,
   "id": "317de5d7",
   "metadata": {},
   "outputs": [
    {
     "data": {
      "text/plain": [
       "TrainingArguments(\n",
       "_n_gpu=1,\n",
       "adafactor=False,\n",
       "adam_beta1=0.9,\n",
       "adam_beta2=0.999,\n",
       "adam_epsilon=1e-08,\n",
       "dataloader_drop_last=False,\n",
       "dataloader_num_workers=0,\n",
       "dataloader_pin_memory=True,\n",
       "ddp_find_unused_parameters=None,\n",
       "debug=[],\n",
       "deepspeed=None,\n",
       "disable_tqdm=False,\n",
       "do_eval=True,\n",
       "do_predict=False,\n",
       "do_train=True,\n",
       "eval_accumulation_steps=None,\n",
       "eval_steps=None,\n",
       "evaluation_strategy=epoch,\n",
       "fp16=False,\n",
       "fp16_backend=auto,\n",
       "fp16_full_eval=False,\n",
       "fp16_opt_level=O1,\n",
       "gradient_accumulation_steps=1,\n",
       "greater_is_better=None,\n",
       "group_by_length=False,\n",
       "ignore_data_skip=False,\n",
       "label_names=None,\n",
       "label_smoothing_factor=0.0,\n",
       "learning_rate=5e-05,\n",
       "length_column_name=length,\n",
       "load_best_model_at_end=False,\n",
       "local_rank=-1,\n",
       "log_level=-1,\n",
       "log_level_replica=-1,\n",
       "log_on_each_node=True,\n",
       "logging_dir=./cos_e_output_t5_large/011223_155220,\n",
       "logging_first_step=False,\n",
       "logging_steps=3,\n",
       "logging_strategy=IntervalStrategy.STEPS,\n",
       "lr_scheduler_type=SchedulerType.LINEAR,\n",
       "max_grad_norm=1.0,\n",
       "max_steps=-1,\n",
       "metric_for_best_model=None,\n",
       "mp_parameters=,\n",
       "no_cuda=False,\n",
       "num_train_epochs=25,\n",
       "output_dir=./cos_e_output_t5_large/011223_155220,\n",
       "overwrite_output_dir=False,\n",
       "past_index=-1,\n",
       "per_device_eval_batch_size=8,\n",
       "per_device_train_batch_size=8,\n",
       "prediction_loss_only=False,\n",
       "push_to_hub=False,\n",
       "push_to_hub_model_id=cos_e_output_t5_large,\n",
       "push_to_hub_organization=None,\n",
       "push_to_hub_token=None,\n",
       "remove_unused_columns=True,\n",
       "report_to=['tensorboard', 'wandb'],\n",
       "resume_from_checkpoint=None,\n",
       "run_name=./cos_e_output_t5_large,\n",
       "save_on_each_node=False,\n",
       "save_steps=5,\n",
       "save_strategy=IntervalStrategy.STEPS,\n",
       "save_total_limit=None,\n",
       "seed=42,\n",
       "sharded_ddp=[],\n",
       "skip_memory_metrics=True,\n",
       "tpu_metrics_debug=False,\n",
       "tpu_num_cores=None,\n",
       "use_legacy_prediction_loop=False,\n",
       "warmup_ratio=0.0,\n",
       "warmup_steps=0,\n",
       "weight_decay=0.0,\n",
       ")"
      ]
     },
     "execution_count": 30,
     "metadata": {},
     "output_type": "execute_result"
    }
   ],
   "source": [
    "training_args"
   ]
  },
  {
   "cell_type": "code",
   "execution_count": 31,
   "id": "de79fb60",
   "metadata": {},
   "outputs": [
    {
     "data": {
      "text/plain": [
       "TrainingArguments(\n",
       "_n_gpu=1,\n",
       "adafactor=False,\n",
       "adam_beta1=0.9,\n",
       "adam_beta2=0.999,\n",
       "adam_epsilon=1e-08,\n",
       "dataloader_drop_last=False,\n",
       "dataloader_num_workers=0,\n",
       "dataloader_pin_memory=True,\n",
       "ddp_find_unused_parameters=None,\n",
       "debug=[],\n",
       "deepspeed=None,\n",
       "disable_tqdm=False,\n",
       "do_eval=True,\n",
       "do_predict=False,\n",
       "do_train=True,\n",
       "eval_accumulation_steps=None,\n",
       "eval_steps=None,\n",
       "evaluation_strategy=epoch,\n",
       "fp16=False,\n",
       "fp16_backend=auto,\n",
       "fp16_full_eval=False,\n",
       "fp16_opt_level=O1,\n",
       "gradient_accumulation_steps=1,\n",
       "greater_is_better=None,\n",
       "group_by_length=False,\n",
       "ignore_data_skip=False,\n",
       "label_names=None,\n",
       "label_smoothing_factor=0.0,\n",
       "learning_rate=5e-05,\n",
       "length_column_name=length,\n",
       "load_best_model_at_end=False,\n",
       "local_rank=-1,\n",
       "log_level=-1,\n",
       "log_level_replica=-1,\n",
       "log_on_each_node=True,\n",
       "logging_dir=./cos_e_output_t5_large/011223_155220,\n",
       "logging_first_step=False,\n",
       "logging_steps=3,\n",
       "logging_strategy=IntervalStrategy.STEPS,\n",
       "lr_scheduler_type=SchedulerType.LINEAR,\n",
       "max_grad_norm=1.0,\n",
       "max_steps=-1,\n",
       "metric_for_best_model=None,\n",
       "mp_parameters=,\n",
       "no_cuda=False,\n",
       "num_train_epochs=25,\n",
       "output_dir=./cos_e_output_t5_large/011223_155220,\n",
       "overwrite_output_dir=False,\n",
       "past_index=-1,\n",
       "per_device_eval_batch_size=8,\n",
       "per_device_train_batch_size=8,\n",
       "prediction_loss_only=False,\n",
       "push_to_hub=False,\n",
       "push_to_hub_model_id=cos_e_output_t5_large,\n",
       "push_to_hub_organization=None,\n",
       "push_to_hub_token=None,\n",
       "remove_unused_columns=True,\n",
       "report_to=['tensorboard', 'wandb'],\n",
       "resume_from_checkpoint=None,\n",
       "run_name=./cos_e_output_t5_large,\n",
       "save_on_each_node=False,\n",
       "save_steps=5,\n",
       "save_strategy=IntervalStrategy.STEPS,\n",
       "save_total_limit=None,\n",
       "seed=42,\n",
       "sharded_ddp=[],\n",
       "skip_memory_metrics=True,\n",
       "tpu_metrics_debug=False,\n",
       "tpu_num_cores=None,\n",
       "use_legacy_prediction_loop=False,\n",
       "warmup_ratio=0.0,\n",
       "warmup_steps=0,\n",
       "weight_decay=0.0,\n",
       ")"
      ]
     },
     "execution_count": 31,
     "metadata": {},
     "output_type": "execute_result"
    }
   ],
   "source": [
    "training_args.per_device_eval_batch_size=8\n",
    "training_args.per_device_train_batch_size=8\n",
    "training_args"
   ]
  },
  {
   "cell_type": "code",
   "execution_count": 32,
   "id": "e80480ec",
   "metadata": {},
   "outputs": [],
   "source": [
    "# data_splits = {'train': None, 'validation': None, 'test': None}\n",
    "# original_data_splits = {'train': None, 'validation': None, 'test': None}  \n",
    "# data_args.io_format=\"t5_fewshot_infilling_with_choices\"\n",
    "# # Data loading from huggingface's datasets\n",
    "# if data_args.task_name in {\"cos_e\", \"esnli\"}:\n",
    "#     version_arg = None\n",
    "#     if data_args.task_name == \"cos_e\":\n",
    "#         assert data_args.version_name in {\"v1.11\", \"v1.0\"}\n",
    "#         version_arg = data_args.version_name\n",
    "\n",
    "#     load_train = True\n",
    "#     if (not training_args.do_train\n",
    "#         and not training_args.do_eval\n",
    "#         and not data_args.train_predict\n",
    "#     ):\n",
    "#         # don't load training dataset\n",
    "#         dataset = {}\n",
    "#         dataset[\"train\"] = None\n",
    "#         dataset[\"validation\"] = datasets.load_dataset(\n",
    "#             data_args.task_name, version_arg, split=\"validation\"\n",
    "#         )\n",
    "#         data_splits['validation'] = dataset[\"validation\"]\n",
    "\n",
    "#         if data_args.task_name == \"esnli\":\n",
    "#             dataset[\"test\"] = datasets.load_dataset(data_args.task_name, split=\"test\")\n",
    "#             data_splits['test'] = dataset[\"test\"]\n",
    "#         load_train = False\n",
    "#     else:\n",
    "#         dataset = datasets.load_dataset(data_args.task_name, version_arg)\n",
    "\n",
    "#         if data_args.n_shots > 0: # Shots = number of training examples **per label** \n",
    "#             if data_args.task_name == 'esnli': # Construct a *balanced* random sample of the size `data_args.n_shots*len(labels)` (for train) or `data_args.fewshot_eval_size` (for eval)\n",
    "#                 for split in [\"train\", \"validation\", \"test\"]:\n",
    "#                     split_data = dataset[split]\n",
    "#                     label_subsets = []\n",
    "#                     labels = split_data.features['label'].names\n",
    "#                     sample_size = data_args.n_shots if split == \"train\" else int(data_args.fewshot_eval_size/len(labels))\n",
    "#                     if data_args.gpt3_max_eval_size is not None and split != 'train':\n",
    "#                         assert len(labels) == 3\n",
    "#                         sample_size = data_args.gpt3_max_eval_size // len(labels)\n",
    "#                     for label in labels:\n",
    "#                         # The following is a hack to only run on `neutral` labels of `esnli` to get data for human eval\n",
    "#                         # if data_args.gpt3_max_eval_size is not None and split != 'train' and label != 'neutral':\n",
    "#                         #     continue\n",
    "#                         label_int = split_data.features['label'].str2int(label)\n",
    "#                         label_set = split_data.filter(lambda example: example['label'] == label_int).shuffle() # all instances of labeled as `label`\n",
    "#                         label_subset = label_set.select(range(sample_size)) #select `sample_size` random instances labeled as `label`\n",
    "#                         label_subsets.append(label_subset)\n",
    "#                     dataset[split] = datasets.concatenate_datasets(label_subsets) #merge all label-specific instances\n",
    "#             elif data_args.task_name == 'cos_e': \n",
    "#                 for split in [\"train\", \"validation\"]: \n",
    "#                     split_data = dataset[split]\n",
    "#                     sample_size = data_args.n_shots if split == \"train\" else int(data_args.fewshot_eval_size) #Shots for QA are not label-specific, i.e., `n_shots` is the training data size\n",
    "#                     if data_args.gpt3_max_eval_size is not None and split != 'train':\n",
    "#                         sample_size = data_args.gpt3_max_eval_size\n",
    "#                     dataset[split] = split_data#.shuffle().select(range(sample_size)) # select `sample_size` random instances\n",
    "#             else: \n",
    "#                 raise ValueError('Only cos_e and esnli are supported by Huggingface datasets.')\n",
    "#     # Apply method, and format dataset to torch.Tensor outputs\n",
    "# #     fse_csqa_train_file=\"/cognitive_comp/huangyongfeng/evaluate_LM_with_rationalization/few_shot_explanations/data/acceptability_annotations/commonsenseqa_train.csv\"\n",
    "# #     fse_csqa_dev_file=\"/cognitive_comp/huangyongfeng/evaluate_LM_with_rationalization/few_shot_explanations/data/acceptability_annotations/commonsenseqa_test.csv\"\n",
    "# #     fse_csqa_train_dataset = datasets.load_dataset('csv', data_files=fse_csqa_train_file)\n",
    "# #     fse_csqa_dev_dataset = datasets.load_dataset('csv', data_files=fse_csqa_dev_file)\n",
    "# #     train_ids_list=[x['id'] for x in data_splits[\"train\"]]\n",
    "# #     dev_ids_list=[x['id'] for x in data_splits[\"validation\"]]\n",
    "# #     fse_train_ids_list=[x['Input.id'] for x in fse_csqa_train_dataset['train']]\n",
    "# #     fse_dev_ids_list=[x['Input.id'] for x in fse_csqa_dev_dataset['train']]\n",
    "# #     fse_train_indexs_list=[train_ids_list.index(id_) for id_ in fse_train_ids_list]\n",
    "# #     fse_dev_indexs_list=[dev_ids_list.index(id_) for id_ in fse_dev_ids_list]\n",
    "# #     print(len(fse_train_indexs_list), len(fse_dev_indexs_list))\n",
    "# #     # print(fse_train_indexs_list,fse_dev_indexs_list)\n",
    "# #     fse_data_splits={}\n",
    "# #     data_splits['train']=data_splits[\"train\"].select(fse_train_indexs_list)\n",
    "# #     data_splits['validation']=data_splits[\"validation\"].select(fse_train_indexs_list)\n",
    "#     for split in dataset.keys():\n",
    "#         if dataset[split] is not None:\n",
    "#             dataset[split] = dataset[split].map(\n",
    "#                 lambda x: format_instance(\n",
    "#                     x,\n",
    "#                     tokenizer,\n",
    "#                     data_args.explanation_sep,\n",
    "#                     datasource=data_args.task_name,\n",
    "#                     io_format=data_args.io_format\n",
    "#                 ),\n",
    "#                 batched=False,\n",
    "#                 load_from_cache_file=False,\n",
    "#             )\n",
    "#     data_splits[\"train\"] = deepcopy(dataset[\"train\"])\n",
    "#     data_splits[\"validation\"] = deepcopy(dataset[\"validation\"])\n",
    "#     if data_args.task_name == \"esnli\":\n",
    "#         data_splits[\"test\"] = deepcopy(dataset[\"test\"])\n",
    "\n",
    "#     original_data_splits[\"train\"] = deepcopy(dataset[\"train\"])\n",
    "#     original_data_splits[\"validation\"] = deepcopy(dataset[\"validation\"])\n",
    "#     if data_args.task_name == \"esnli\":\n",
    "#         original_data_splits[\"test\"] = deepcopy(dataset[\"test\"])"
   ]
  },
  {
   "cell_type": "code",
   "execution_count": 33,
   "id": "2f4cb867",
   "metadata": {},
   "outputs": [],
   "source": [
    "# import pandas as pd\n",
    "# # new_data_splits={'train': None, 'validation': None}\n",
    "# # new_data_splits['train']=deepcopy(dataset[\"train\"])\n",
    "# # new_data_splits['validation']=deepcopy(dataset[\"validation\"])\n",
    "# fse_csqa_train_file=\"/cognitive_comp/huangyongfeng/evaluate_LM_with_rationalization/few_shot_explanations/data/acceptability_annotations/commonsenseqa_train.csv\"\n",
    "# fse_csqa_dev_file=\"/cognitive_comp/huangyongfeng/evaluate_LM_with_rationalization/few_shot_explanations/data/acceptability_annotations/commonsenseqa_test.csv\"\n",
    "# # fse_csqa_train_dataset = datasets.load_dataset('csv', data_files=fse_csqa_train_file)\n",
    "# # fse_csqa_dev_dataset = datasets.load_dataset('csv', data_files=fse_csqa_dev_file)\n",
    "\n",
    "# train_df=pd.read_csv(fse_csqa_train_file)\n",
    "\n",
    "# dev_df=pd.read_csv(fse_csqa_dev_file)\n",
    "\n",
    "# dev_df\n"
   ]
  },
  {
   "cell_type": "code",
   "execution_count": 34,
   "id": "42739e9b",
   "metadata": {},
   "outputs": [],
   "source": [
    "# len(fse_train_ids_list),len(list(set(fse_train_ids_list)))"
   ]
  },
  {
   "cell_type": "code",
   "execution_count": 35,
   "id": "c78ea825",
   "metadata": {},
   "outputs": [],
   "source": [
    "# train_ids_list=[x['id'] for x in data_splits[\"train\"]]\n",
    "# dev_ids_list=[x['id'] for x in data_splits[\"validation\"]]\n",
    "# fse_train_ids_list=[x['Input.id'] for x in fse_csqa_train_dataset['train']]\n",
    "# fse_dev_ids_list=[x['Input.id'] for x in fse_csqa_dev_dataset['train']]\n"
   ]
  },
  {
   "cell_type": "code",
   "execution_count": 36,
   "id": "80395518",
   "metadata": {},
   "outputs": [],
   "source": [
    "# fse_train_indexs_list=[train_ids_list.index(id_) for id_ in fse_train_ids_list]\n",
    "# fse_dev_indexs_list=[dev_ids_list.index(id_) for id_ in fse_dev_ids_list]\n",
    "# print(len(fse_train_indexs_list), len(fse_dev_indexs_list))\n",
    "# # print(fse_train_indexs_list,fse_dev_indexs_list)\n",
    "# fse_data_splits={}\n",
    "# fse_data_splits['train']=data_splits[\"train\"].select(fse_train_indexs_list)\n",
    "# fse_data_splits['validation']=data_splits[\"validation\"].select(fse_train_indexs_list)"
   ]
  },
  {
   "cell_type": "code",
   "execution_count": 37,
   "id": "4d186954",
   "metadata": {},
   "outputs": [],
   "source": [
    "# fse_csqa_train_dataset['train'][0].keys()"
   ]
  },
  {
   "cell_type": "code",
   "execution_count": 38,
   "id": "66dd71d4",
   "metadata": {},
   "outputs": [],
   "source": [
    "class SequenceCollator:\n",
    "    def __init__(self, model, pad_token):\n",
    "        self.model = model\n",
    "        self.pad_token_mapping = {\n",
    "            \"labels\": -100,\n",
    "            \"attention_mask\": 0,\n",
    "            \"decoder_attention_mask\": 0,\n",
    "            \"input_ids\": pad_token,\n",
    "        }\n",
    "\n",
    "        self.columns = [\n",
    "            \"input_ids\",\n",
    "            \"attention_mask\",\n",
    "            \"labels\",\n",
    "            \"decoder_attention_mask\",\n",
    "        ]\n",
    "\n",
    "    def __call__(self, examples: List[Dict[str, InputDataClass]]) -> Dict[str, torch.Tensor]:\n",
    "        # re-format inputs for training\n",
    "        batch = {}\n",
    "        for key in examples[0].keys():\n",
    "            if key in self.columns:\n",
    "                tmp_list = []\n",
    "                for item in examples:\n",
    "                    tmp_list.append(item[key])\n",
    "\n",
    "                # pad lists to max length\n",
    "                if isinstance(tmp_list[0], list):\n",
    "                    max_length = max(map(len, tmp_list))\n",
    "                    tmp_list = [\n",
    "                        el + [self.pad_token_mapping[key]] * (max_length - len(el))\n",
    "                        for el in tmp_list\n",
    "                    ]\n",
    "\n",
    "                batch[key] = torch.tensor(tmp_list, dtype=torch.long)\n",
    "        return batch"
   ]
  },
  {
   "cell_type": "code",
   "execution_count": 39,
   "id": "f144515d",
   "metadata": {},
   "outputs": [
    {
     "name": "stderr",
     "output_type": "stream",
     "text": [
      "You are adding a <class 'transformers.integrations.TensorBoardCallback'> to the callbacks of this Trainer, but there is already one. The currentlist of callbacks is\n",
      ":DefaultFlowCallback\n",
      "TensorBoardCallback\n",
      "WandbCallback\n",
      "The following columns in the training set  don't have a corresponding argument in `T5ForConditionalGeneration.forward` and have been ignored: abstractive_explanation, id, extractive_explanation, our_explanation, choices, question_encoding, answer, question.\n",
      "***** Running training *****\n",
      "  Num examples = 72\n",
      "  Num Epochs = 25\n",
      "  Instantaneous batch size per device = 8\n",
      "  Total train batch size (w. parallel, distributed & accumulation) = 8\n",
      "  Gradient Accumulation steps = 1\n",
      "  Total optimization steps = 225\n",
      "Automatic Weights & Biases logging enabled, to disable set os.environ[\"WANDB_DISABLED\"] = \"true\"\n"
     ]
    },
    {
     "data": {
      "text/html": [
       "Changes to your `wandb` environment variables will be ignored because your `wandb` session has already started. For more information on how to modify your settings with `wandb.init()` arguments, please refer to <a href=\"https://wandb.me/wandb-init\" target=\"_blank\">the W&B docs</a>."
      ],
      "text/plain": [
       "<IPython.core.display.HTML object>"
      ]
     },
     "metadata": {},
     "output_type": "display_data"
    },
    {
     "data": {
      "text/html": [
       "wandb version 0.13.8 is available!  To upgrade, please run:\n",
       " $ pip install wandb --upgrade"
      ],
      "text/plain": [
       "<IPython.core.display.HTML object>"
      ]
     },
     "metadata": {},
     "output_type": "display_data"
    },
    {
     "data": {
      "text/html": [
       "Tracking run with wandb version 0.13.5"
      ],
      "text/plain": [
       "<IPython.core.display.HTML object>"
      ]
     },
     "metadata": {},
     "output_type": "display_data"
    },
    {
     "data": {
      "text/html": [
       "Run data is saved locally in <code>/cognitive_comp/huangyongfeng/evaluate_LM_with_rationalization/scripts/wandb/run-20230112_155247-2b4i1y1g</code>"
      ],
      "text/plain": [
       "<IPython.core.display.HTML object>"
      ]
     },
     "metadata": {},
     "output_type": "display_data"
    },
    {
     "data": {
      "text/html": [
       "Syncing run <strong><a href=\"https://wandb.ai/cuhk_lavilab/evaluate_LM_with_rationalization/runs/2b4i1y1g\" target=\"_blank\">./cos_e_output_t5_large</a></strong> to <a href=\"https://wandb.ai/cuhk_lavilab/evaluate_LM_with_rationalization\" target=\"_blank\">Weights & Biases</a> (<a href=\"https://wandb.me/run\" target=\"_blank\">docs</a>)<br/>"
      ],
      "text/plain": [
       "<IPython.core.display.HTML object>"
      ]
     },
     "metadata": {},
     "output_type": "display_data"
    },
    {
     "data": {
      "text/html": [
       "\n",
       "    <div>\n",
       "      \n",
       "      <progress value='225' max='225' style='width:300px; height:20px; vertical-align: middle;'></progress>\n",
       "      [225/225 08:35, Epoch 25/25]\n",
       "    </div>\n",
       "    <table border=\"1\" class=\"dataframe\">\n",
       "  <thead>\n",
       "    <tr style=\"text-align: left;\">\n",
       "      <th>Step</th>\n",
       "      <th>Training Loss</th>\n",
       "      <th>Validation Loss</th>\n",
       "    </tr>\n",
       "  </thead>\n",
       "  <tbody>\n",
       "  </tbody>\n",
       "</table><p>"
      ],
      "text/plain": [
       "<IPython.core.display.HTML object>"
      ]
     },
     "metadata": {},
     "output_type": "display_data"
    },
    {
     "name": "stderr",
     "output_type": "stream",
     "text": [
      "Saving model checkpoint to ./cos_e_output_t5_large/011223_155220/checkpoint-5\n",
      "Configuration saved in ./cos_e_output_t5_large/011223_155220/checkpoint-5/config.json\n",
      "Model weights saved in ./cos_e_output_t5_large/011223_155220/checkpoint-5/pytorch_model.bin\n",
      "Saving model checkpoint to ./cos_e_output_t5_large/011223_155220/checkpoint-10\n",
      "Configuration saved in ./cos_e_output_t5_large/011223_155220/checkpoint-10/config.json\n",
      "Model weights saved in ./cos_e_output_t5_large/011223_155220/checkpoint-10/pytorch_model.bin\n",
      "Saving model checkpoint to ./cos_e_output_t5_large/011223_155220/checkpoint-15\n",
      "Configuration saved in ./cos_e_output_t5_large/011223_155220/checkpoint-15/config.json\n",
      "Model weights saved in ./cos_e_output_t5_large/011223_155220/checkpoint-15/pytorch_model.bin\n",
      "Saving model checkpoint to ./cos_e_output_t5_large/011223_155220/checkpoint-20\n",
      "Configuration saved in ./cos_e_output_t5_large/011223_155220/checkpoint-20/config.json\n",
      "Model weights saved in ./cos_e_output_t5_large/011223_155220/checkpoint-20/pytorch_model.bin\n",
      "Saving model checkpoint to ./cos_e_output_t5_large/011223_155220/checkpoint-25\n",
      "Configuration saved in ./cos_e_output_t5_large/011223_155220/checkpoint-25/config.json\n",
      "Model weights saved in ./cos_e_output_t5_large/011223_155220/checkpoint-25/pytorch_model.bin\n",
      "Saving model checkpoint to ./cos_e_output_t5_large/011223_155220/checkpoint-30\n",
      "Configuration saved in ./cos_e_output_t5_large/011223_155220/checkpoint-30/config.json\n",
      "Model weights saved in ./cos_e_output_t5_large/011223_155220/checkpoint-30/pytorch_model.bin\n",
      "Saving model checkpoint to ./cos_e_output_t5_large/011223_155220/checkpoint-35\n",
      "Configuration saved in ./cos_e_output_t5_large/011223_155220/checkpoint-35/config.json\n",
      "Model weights saved in ./cos_e_output_t5_large/011223_155220/checkpoint-35/pytorch_model.bin\n",
      "Saving model checkpoint to ./cos_e_output_t5_large/011223_155220/checkpoint-40\n",
      "Configuration saved in ./cos_e_output_t5_large/011223_155220/checkpoint-40/config.json\n",
      "Model weights saved in ./cos_e_output_t5_large/011223_155220/checkpoint-40/pytorch_model.bin\n",
      "Saving model checkpoint to ./cos_e_output_t5_large/011223_155220/checkpoint-45\n",
      "Configuration saved in ./cos_e_output_t5_large/011223_155220/checkpoint-45/config.json\n",
      "Model weights saved in ./cos_e_output_t5_large/011223_155220/checkpoint-45/pytorch_model.bin\n",
      "Saving model checkpoint to ./cos_e_output_t5_large/011223_155220/checkpoint-50\n",
      "Configuration saved in ./cos_e_output_t5_large/011223_155220/checkpoint-50/config.json\n",
      "Model weights saved in ./cos_e_output_t5_large/011223_155220/checkpoint-50/pytorch_model.bin\n",
      "Saving model checkpoint to ./cos_e_output_t5_large/011223_155220/checkpoint-55\n",
      "Configuration saved in ./cos_e_output_t5_large/011223_155220/checkpoint-55/config.json\n",
      "Model weights saved in ./cos_e_output_t5_large/011223_155220/checkpoint-55/pytorch_model.bin\n",
      "Saving model checkpoint to ./cos_e_output_t5_large/011223_155220/checkpoint-60\n",
      "Configuration saved in ./cos_e_output_t5_large/011223_155220/checkpoint-60/config.json\n",
      "Model weights saved in ./cos_e_output_t5_large/011223_155220/checkpoint-60/pytorch_model.bin\n",
      "Saving model checkpoint to ./cos_e_output_t5_large/011223_155220/checkpoint-65\n",
      "Configuration saved in ./cos_e_output_t5_large/011223_155220/checkpoint-65/config.json\n",
      "Model weights saved in ./cos_e_output_t5_large/011223_155220/checkpoint-65/pytorch_model.bin\n",
      "Saving model checkpoint to ./cos_e_output_t5_large/011223_155220/checkpoint-70\n",
      "Configuration saved in ./cos_e_output_t5_large/011223_155220/checkpoint-70/config.json\n",
      "Model weights saved in ./cos_e_output_t5_large/011223_155220/checkpoint-70/pytorch_model.bin\n",
      "Saving model checkpoint to ./cos_e_output_t5_large/011223_155220/checkpoint-75\n",
      "Configuration saved in ./cos_e_output_t5_large/011223_155220/checkpoint-75/config.json\n",
      "Model weights saved in ./cos_e_output_t5_large/011223_155220/checkpoint-75/pytorch_model.bin\n",
      "Saving model checkpoint to ./cos_e_output_t5_large/011223_155220/checkpoint-80\n",
      "Configuration saved in ./cos_e_output_t5_large/011223_155220/checkpoint-80/config.json\n",
      "Model weights saved in ./cos_e_output_t5_large/011223_155220/checkpoint-80/pytorch_model.bin\n",
      "Saving model checkpoint to ./cos_e_output_t5_large/011223_155220/checkpoint-85\n",
      "Configuration saved in ./cos_e_output_t5_large/011223_155220/checkpoint-85/config.json\n",
      "Model weights saved in ./cos_e_output_t5_large/011223_155220/checkpoint-85/pytorch_model.bin\n",
      "Saving model checkpoint to ./cos_e_output_t5_large/011223_155220/checkpoint-90\n",
      "Configuration saved in ./cos_e_output_t5_large/011223_155220/checkpoint-90/config.json\n",
      "Model weights saved in ./cos_e_output_t5_large/011223_155220/checkpoint-90/pytorch_model.bin\n",
      "Saving model checkpoint to ./cos_e_output_t5_large/011223_155220/checkpoint-95\n",
      "Configuration saved in ./cos_e_output_t5_large/011223_155220/checkpoint-95/config.json\n",
      "Model weights saved in ./cos_e_output_t5_large/011223_155220/checkpoint-95/pytorch_model.bin\n",
      "Saving model checkpoint to ./cos_e_output_t5_large/011223_155220/checkpoint-100\n",
      "Configuration saved in ./cos_e_output_t5_large/011223_155220/checkpoint-100/config.json\n",
      "Model weights saved in ./cos_e_output_t5_large/011223_155220/checkpoint-100/pytorch_model.bin\n",
      "Saving model checkpoint to ./cos_e_output_t5_large/011223_155220/checkpoint-105\n",
      "Configuration saved in ./cos_e_output_t5_large/011223_155220/checkpoint-105/config.json\n",
      "Model weights saved in ./cos_e_output_t5_large/011223_155220/checkpoint-105/pytorch_model.bin\n",
      "Saving model checkpoint to ./cos_e_output_t5_large/011223_155220/checkpoint-110\n",
      "Configuration saved in ./cos_e_output_t5_large/011223_155220/checkpoint-110/config.json\n",
      "Model weights saved in ./cos_e_output_t5_large/011223_155220/checkpoint-110/pytorch_model.bin\n",
      "Saving model checkpoint to ./cos_e_output_t5_large/011223_155220/checkpoint-115\n",
      "Configuration saved in ./cos_e_output_t5_large/011223_155220/checkpoint-115/config.json\n",
      "Model weights saved in ./cos_e_output_t5_large/011223_155220/checkpoint-115/pytorch_model.bin\n",
      "Saving model checkpoint to ./cos_e_output_t5_large/011223_155220/checkpoint-120\n",
      "Configuration saved in ./cos_e_output_t5_large/011223_155220/checkpoint-120/config.json\n",
      "Model weights saved in ./cos_e_output_t5_large/011223_155220/checkpoint-120/pytorch_model.bin\n",
      "Saving model checkpoint to ./cos_e_output_t5_large/011223_155220/checkpoint-125\n",
      "Configuration saved in ./cos_e_output_t5_large/011223_155220/checkpoint-125/config.json\n",
      "Model weights saved in ./cos_e_output_t5_large/011223_155220/checkpoint-125/pytorch_model.bin\n",
      "Saving model checkpoint to ./cos_e_output_t5_large/011223_155220/checkpoint-130\n",
      "Configuration saved in ./cos_e_output_t5_large/011223_155220/checkpoint-130/config.json\n",
      "Model weights saved in ./cos_e_output_t5_large/011223_155220/checkpoint-130/pytorch_model.bin\n",
      "Saving model checkpoint to ./cos_e_output_t5_large/011223_155220/checkpoint-135\n",
      "Configuration saved in ./cos_e_output_t5_large/011223_155220/checkpoint-135/config.json\n",
      "Model weights saved in ./cos_e_output_t5_large/011223_155220/checkpoint-135/pytorch_model.bin\n",
      "Saving model checkpoint to ./cos_e_output_t5_large/011223_155220/checkpoint-140\n",
      "Configuration saved in ./cos_e_output_t5_large/011223_155220/checkpoint-140/config.json\n",
      "Model weights saved in ./cos_e_output_t5_large/011223_155220/checkpoint-140/pytorch_model.bin\n",
      "Saving model checkpoint to ./cos_e_output_t5_large/011223_155220/checkpoint-145\n",
      "Configuration saved in ./cos_e_output_t5_large/011223_155220/checkpoint-145/config.json\n",
      "Model weights saved in ./cos_e_output_t5_large/011223_155220/checkpoint-145/pytorch_model.bin\n",
      "Saving model checkpoint to ./cos_e_output_t5_large/011223_155220/checkpoint-150\n",
      "Configuration saved in ./cos_e_output_t5_large/011223_155220/checkpoint-150/config.json\n",
      "Model weights saved in ./cos_e_output_t5_large/011223_155220/checkpoint-150/pytorch_model.bin\n",
      "Saving model checkpoint to ./cos_e_output_t5_large/011223_155220/checkpoint-155\n",
      "Configuration saved in ./cos_e_output_t5_large/011223_155220/checkpoint-155/config.json\n",
      "Model weights saved in ./cos_e_output_t5_large/011223_155220/checkpoint-155/pytorch_model.bin\n",
      "Saving model checkpoint to ./cos_e_output_t5_large/011223_155220/checkpoint-160\n",
      "Configuration saved in ./cos_e_output_t5_large/011223_155220/checkpoint-160/config.json\n"
     ]
    },
    {
     "name": "stderr",
     "output_type": "stream",
     "text": [
      "Model weights saved in ./cos_e_output_t5_large/011223_155220/checkpoint-160/pytorch_model.bin\n",
      "Saving model checkpoint to ./cos_e_output_t5_large/011223_155220/checkpoint-165\n",
      "Configuration saved in ./cos_e_output_t5_large/011223_155220/checkpoint-165/config.json\n",
      "Model weights saved in ./cos_e_output_t5_large/011223_155220/checkpoint-165/pytorch_model.bin\n",
      "Saving model checkpoint to ./cos_e_output_t5_large/011223_155220/checkpoint-170\n",
      "Configuration saved in ./cos_e_output_t5_large/011223_155220/checkpoint-170/config.json\n",
      "Model weights saved in ./cos_e_output_t5_large/011223_155220/checkpoint-170/pytorch_model.bin\n",
      "Saving model checkpoint to ./cos_e_output_t5_large/011223_155220/checkpoint-175\n",
      "Configuration saved in ./cos_e_output_t5_large/011223_155220/checkpoint-175/config.json\n",
      "Model weights saved in ./cos_e_output_t5_large/011223_155220/checkpoint-175/pytorch_model.bin\n",
      "Saving model checkpoint to ./cos_e_output_t5_large/011223_155220/checkpoint-180\n",
      "Configuration saved in ./cos_e_output_t5_large/011223_155220/checkpoint-180/config.json\n",
      "Model weights saved in ./cos_e_output_t5_large/011223_155220/checkpoint-180/pytorch_model.bin\n",
      "Saving model checkpoint to ./cos_e_output_t5_large/011223_155220/checkpoint-185\n",
      "Configuration saved in ./cos_e_output_t5_large/011223_155220/checkpoint-185/config.json\n",
      "Model weights saved in ./cos_e_output_t5_large/011223_155220/checkpoint-185/pytorch_model.bin\n",
      "Saving model checkpoint to ./cos_e_output_t5_large/011223_155220/checkpoint-190\n",
      "Configuration saved in ./cos_e_output_t5_large/011223_155220/checkpoint-190/config.json\n",
      "Model weights saved in ./cos_e_output_t5_large/011223_155220/checkpoint-190/pytorch_model.bin\n",
      "Saving model checkpoint to ./cos_e_output_t5_large/011223_155220/checkpoint-195\n",
      "Configuration saved in ./cos_e_output_t5_large/011223_155220/checkpoint-195/config.json\n",
      "Model weights saved in ./cos_e_output_t5_large/011223_155220/checkpoint-195/pytorch_model.bin\n",
      "Saving model checkpoint to ./cos_e_output_t5_large/011223_155220/checkpoint-200\n",
      "Configuration saved in ./cos_e_output_t5_large/011223_155220/checkpoint-200/config.json\n",
      "Model weights saved in ./cos_e_output_t5_large/011223_155220/checkpoint-200/pytorch_model.bin\n",
      "Saving model checkpoint to ./cos_e_output_t5_large/011223_155220/checkpoint-205\n",
      "Configuration saved in ./cos_e_output_t5_large/011223_155220/checkpoint-205/config.json\n",
      "Model weights saved in ./cos_e_output_t5_large/011223_155220/checkpoint-205/pytorch_model.bin\n",
      "Saving model checkpoint to ./cos_e_output_t5_large/011223_155220/checkpoint-210\n",
      "Configuration saved in ./cos_e_output_t5_large/011223_155220/checkpoint-210/config.json\n",
      "Model weights saved in ./cos_e_output_t5_large/011223_155220/checkpoint-210/pytorch_model.bin\n",
      "Saving model checkpoint to ./cos_e_output_t5_large/011223_155220/checkpoint-215\n",
      "Configuration saved in ./cos_e_output_t5_large/011223_155220/checkpoint-215/config.json\n",
      "Model weights saved in ./cos_e_output_t5_large/011223_155220/checkpoint-215/pytorch_model.bin\n",
      "Saving model checkpoint to ./cos_e_output_t5_large/011223_155220/checkpoint-220\n",
      "Configuration saved in ./cos_e_output_t5_large/011223_155220/checkpoint-220/config.json\n",
      "Model weights saved in ./cos_e_output_t5_large/011223_155220/checkpoint-220/pytorch_model.bin\n",
      "Saving model checkpoint to ./cos_e_output_t5_large/011223_155220/checkpoint-225\n",
      "Configuration saved in ./cos_e_output_t5_large/011223_155220/checkpoint-225/config.json\n",
      "Model weights saved in ./cos_e_output_t5_large/011223_155220/checkpoint-225/pytorch_model.bin\n",
      "\n",
      "\n",
      "Training completed. Do not forget to share your model on huggingface.co/models =)\n",
      "\n",
      "\n"
     ]
    },
    {
     "data": {
      "text/html": [
       "Waiting for W&B process to finish... <strong style=\"color:green\">(success).</strong>"
      ],
      "text/plain": [
       "<IPython.core.display.HTML object>"
      ]
     },
     "metadata": {},
     "output_type": "display_data"
    },
    {
     "data": {
      "text/html": [
       "<style>\n",
       "    table.wandb td:nth-child(1) { padding: 0 10px; text-align: left ; width: auto;} td:nth-child(2) {text-align: left ; width: 100%}\n",
       "    .wandb-row { display: flex; flex-direction: row; flex-wrap: wrap; justify-content: flex-start; width: 100% }\n",
       "    .wandb-col { display: flex; flex-direction: column; flex-basis: 100%; flex: 1; padding: 10px; }\n",
       "    </style>\n",
       "<div class=\"wandb-row\"><div class=\"wandb-col\"><h3>Run history:</h3><br/><table class=\"wandb\"><tr><td>train/epoch</td><td>▁▁▁▁▂▂▂▂▂▃▃▃▃▃▃▄▄▄▄▄▅▅▅▅▅▆▆▆▆▆▆▇▇▇▇▇████</td></tr><tr><td>train/global_step</td><td>▁▁▁▁▂▂▂▂▂▃▃▃▃▃▃▄▄▄▄▄▅▅▅▅▅▆▆▆▆▆▆▇▇▇▇▇████</td></tr><tr><td>train/learning_rate</td><td>████▇▇▇▇▇▆▆▆▆▆▆▅▅▅▅▅▅▄▄▄▄▄▃▃▃▃▃▃▂▂▂▂▂▁▁▁</td></tr><tr><td>train/loss</td><td>█▄▃▃▂▂▂▂▂▂▂▂▂▂▂▁▁▁▁▁▁▁▁▁▁▁▁▁▁▁▁▁▁▁▁▁▁▁▁▁</td></tr><tr><td>train/total_flos</td><td>▁</td></tr><tr><td>train/train_loss</td><td>▁</td></tr><tr><td>train/train_runtime</td><td>▁</td></tr><tr><td>train/train_samples_per_second</td><td>▁</td></tr><tr><td>train/train_steps_per_second</td><td>▁</td></tr></table><br/></div><div class=\"wandb-col\"><h3>Run summary:</h3><br/><table class=\"wandb\"><tr><td>train/epoch</td><td>25.0</td></tr><tr><td>train/global_step</td><td>225</td></tr><tr><td>train/learning_rate</td><td>0.0</td></tr><tr><td>train/loss</td><td>1.2916</td></tr><tr><td>train/total_flos</td><td>297896976384000.0</td></tr><tr><td>train/train_loss</td><td>1.94681</td></tr><tr><td>train/train_runtime</td><td>523.8506</td></tr><tr><td>train/train_samples_per_second</td><td>3.436</td></tr><tr><td>train/train_steps_per_second</td><td>0.43</td></tr></table><br/></div></div>"
      ],
      "text/plain": [
       "<IPython.core.display.HTML object>"
      ]
     },
     "metadata": {},
     "output_type": "display_data"
    },
    {
     "data": {
      "text/html": [
       "Synced <strong style=\"color:#cdcd00\">./cos_e_output_t5_large</strong>: <a href=\"https://wandb.ai/cuhk_lavilab/evaluate_LM_with_rationalization/runs/2b4i1y1g\" target=\"_blank\">https://wandb.ai/cuhk_lavilab/evaluate_LM_with_rationalization/runs/2b4i1y1g</a><br/>Synced 6 W&B file(s), 0 media file(s), 0 artifact file(s) and 0 other file(s)"
      ],
      "text/plain": [
       "<IPython.core.display.HTML object>"
      ]
     },
     "metadata": {},
     "output_type": "display_data"
    },
    {
     "data": {
      "text/html": [
       "Find logs at: <code>./wandb/run-20230112_155247-2b4i1y1g/logs</code>"
      ],
      "text/plain": [
       "<IPython.core.display.HTML object>"
      ]
     },
     "metadata": {},
     "output_type": "display_data"
    }
   ],
   "source": [
    "# os.environ[\"WANDB_DISABLED\"] = \"True\"\n",
    "if data_args.generations_filepath is None:\n",
    "    callbacks = [TensorBoardCallback()]\n",
    "    if data_args.early_stopping_patience > 0:\n",
    "        callbacks.append(EarlyStoppingCallback(early_stopping_patience=data_args.early_stopping_patience))\n",
    "        training_args.load_best_model_at_end = True\n",
    "    else:\n",
    "        training_args.load_best_model_at_end = False  # use the last model state\n",
    "    training_args.metric_for_best_model = 'eval_loss'\n",
    "    training_args.greater_is_better = False\n",
    "    if training_args.eval_steps is None:\n",
    "        training_args.evaluation_strategy = EvaluationStrategy.EPOCH\n",
    "    else:\n",
    "        training_args.evaluation_strategy = EvaluationStrategy.STEPS\n",
    "\n",
    "    trainer = Trainer(\n",
    "        model=model,\n",
    "        args=training_args,\n",
    "        train_dataset=our_data_splits['train'],\n",
    "        eval_dataset=our_data_splits['dev'],\n",
    "        data_collator=SequenceCollator(\n",
    "            model=model_class, pad_token=tokenizer.pad_token_id\n",
    "        ),\n",
    "        callbacks=callbacks,\n",
    "    )\n",
    "\n",
    "# Training. Don't train if it is use_gpt3\n",
    "if training_args.do_train and not model_args.use_gpt3:\n",
    "    start_time = time.time()\n",
    "    trainer.train()\n",
    "    train_time = time.time() - start_time\n",
    "    model = trainer.model\n",
    "    wandb.finish()\n",
    "else:\n",
    "    start_time = time.time()\n",
    "    train_time = time.time() - start_time"
   ]
  },
  {
   "cell_type": "code",
   "execution_count": 40,
   "id": "ade3c632",
   "metadata": {},
   "outputs": [],
   "source": [
    "# print(our_data_splits['dev'][0]['our_explanation'])\n",
    "# inp_ids=torch.tensor(our_data_splits['dev'][0][\"input_ids\"], device=model.device).reshape(1, -1)\n",
    "# out = model.generate(\n",
    "#                     inp_ids,\n",
    "#                     max_length=100,\n",
    "#                     pad_token_id=tokenizer.pad_token_id,\n",
    "#                     eos_token_id=tokenizer.eos_token_id,\n",
    "#                 )\n",
    "# skip_special_tokens = False if \"infilling\" in data_args.io_format else True\n",
    "# words = tokenizer.decode(out[0].tolist(), skip_special_tokens=skip_special_tokens)\n",
    "# print(words)"
   ]
  },
  {
   "cell_type": "code",
   "execution_count": 41,
   "id": "b88935f8",
   "metadata": {},
   "outputs": [],
   "source": [
    "# len(our_data_splits['dev']),len(our_data_splits['train'])"
   ]
  },
  {
   "cell_type": "code",
   "execution_count": 42,
   "id": "8eda472b",
   "metadata": {},
   "outputs": [],
   "source": [
    "# our_data_splits['dev']"
   ]
  },
  {
   "cell_type": "code",
   "execution_count": 43,
   "id": "77c15190",
   "metadata": {},
   "outputs": [],
   "source": [
    "# for da in our_data_splits['train']:\n",
    "#     print(\"*******\")\n",
    "#     print(\"question: {}\".format(da['question']))\n",
    "#     print(\"answer: {}\".format(da['answer']))\n",
    "#     print(\"choices: {}\".format(da['choices']))\n",
    "#     print(\"our_explanation: {}\".format(da['our_explanation']))\n",
    "#     inp_ids = torch.tensor(da[\"input_ids\"], device=model.device).reshape(1, -1)\n",
    "#     out = model.generate(\n",
    "#                     inp_ids,\n",
    "#                     max_length=100,\n",
    "#                     pad_token_id=tokenizer.pad_token_id,\n",
    "#                     eos_token_id=tokenizer.eos_token_id,\n",
    "#                 )\n",
    "#     skip_special_tokens = False if \"infilling\" in data_args.io_format else True\n",
    "#     words = tokenizer.decode(out[0].tolist(), skip_special_tokens=skip_special_tokens)\n",
    "#     print(\"generated explanation: {}\".format(words))\n",
    "#     print(\"#######\")"
   ]
  },
  {
   "cell_type": "code",
   "execution_count": 44,
   "id": "2ca6cbe4",
   "metadata": {},
   "outputs": [],
   "source": [
    "# for da in our_data_splits['dev']:\n",
    "#     print(\"*******\")\n",
    "#     print(\"question: {}\".format(da['question']))\n",
    "#     print(\"answer: {}\".format(da['answer']))\n",
    "#     print(\"choices: {}\".format(da['choices']))\n",
    "#     print(\"our_explanation: {}\".format(da['our_explanation']))\n",
    "#     inp_ids = torch.tensor(da[\"input_ids\"], device=model.device).reshape(1, -1)\n",
    "#     out = model.generate(\n",
    "#                     inp_ids,\n",
    "#                     max_length=100,\n",
    "#                     pad_token_id=tokenizer.pad_token_id,\n",
    "#                     eos_token_id=tokenizer.eos_token_id,\n",
    "#                 )\n",
    "#     skip_special_tokens = False if \"infilling\" in data_args.io_format else True\n",
    "#     words = tokenizer.decode(out[0].tolist(), skip_special_tokens=skip_special_tokens)\n",
    "#     print(\"generated explanation: {}\".format(words))\n",
    "#     print(\"#######\")"
   ]
  },
  {
   "cell_type": "code",
   "execution_count": 45,
   "id": "69977540",
   "metadata": {},
   "outputs": [],
   "source": [
    "# good_model = T5ForConditionalGeneration.from_pretrained(\"./cos_e_output_t5_3b/112022_235539/checkpoint-30\")"
   ]
  },
  {
   "cell_type": "code",
   "execution_count": 46,
   "id": "62fca4b8",
   "metadata": {},
   "outputs": [],
   "source": [
    "# for da in our_data_splits['dev']:\n",
    "#     print(\"*******\")\n",
    "#     print(\"question: {}\".format(da['question']))\n",
    "#     print(\"answer: {}\".format(da['answer']))\n",
    "#     print(\"choices: {}\".format(da['choices']))\n",
    "#     print(\"our_explanation: {}\".format(da['our_explanation']))\n",
    "#     inp_ids = torch.tensor(da[\"input_ids\"], device=model.device).reshape(1, -1)\n",
    "#     out = good_model.generate(\n",
    "#                     inp_ids,\n",
    "#                     max_length=100,\n",
    "#                     pad_token_id=tokenizer.pad_token_id,\n",
    "#                     eos_token_id=tokenizer.eos_token_id,\n",
    "#                 )\n",
    "#     skip_special_tokens = False if \"infilling\" in data_args.io_format else True\n",
    "#     words = tokenizer.decode(out[0].tolist(), skip_special_tokens=skip_special_tokens)\n",
    "#     print(\"generated explanation: {}\".format(words))\n",
    "#     print(\"#######\")"
   ]
  },
  {
   "cell_type": "code",
   "execution_count": 47,
   "id": "3a7de102",
   "metadata": {},
   "outputs": [],
   "source": [
    "# train_output = trainer.evaluate(our_data_splits['train'].select([0,1,2,3,4]))\n",
    "# train_output"
   ]
  },
  {
   "cell_type": "code",
   "execution_count": 48,
   "id": "f43528ca",
   "metadata": {},
   "outputs": [],
   "source": [
    "# results = {}\n",
    "# if training_args.do_eval:\n",
    "#     start_time = time.time()\n",
    "#     logger.info(\"*** Evaluate on train set***\")\n",
    "#     logger.info(len(data_splits['train']))\n",
    "#     train_output = trainer.evaluate(our_data_splits['train'])\n",
    "#     perplexity = math.exp(train_output[\"eval_loss\"])\n",
    "#     results[\"perplexity_train\"] = perplexity\n",
    "\n",
    "#     # repeat\n",
    "#     logger.info(\"*** Evaluate on dev set***\")\n",
    "#     logger.info(len(data_splits['validation']))\n",
    "#     eval_output = trainer.evaluate(data_splits['validation'])\n",
    "#     perplexity = math.exp(eval_output[\"eval_loss\"])\n",
    "#     results[\"perplexity_validation\"] = perplexity"
   ]
  },
  {
   "cell_type": "markdown",
   "id": "3d2d2ec9",
   "metadata": {},
   "source": [
    "# Rationale Discriminator"
   ]
  },
  {
   "cell_type": "markdown",
   "id": "bd5eeaa4",
   "metadata": {},
   "source": [
    "## Construction of generated rationale and accepted rationale pairs\n"
   ]
  },
  {
   "cell_type": "code",
   "execution_count": 49,
   "id": "e7f1c257",
   "metadata": {},
   "outputs": [
    {
     "data": {
      "text/plain": [
       "250"
      ]
     },
     "execution_count": 49,
     "metadata": {},
     "output_type": "execute_result"
    }
   ],
   "source": [
    "len(fse_csqa_dev_data_dict)"
   ]
  },
  {
   "cell_type": "code",
   "execution_count": 50,
   "id": "c7bcb573",
   "metadata": {},
   "outputs": [
    {
     "name": "stderr",
     "output_type": "stream",
     "text": [
      "\r",
      "  0%|                                                                                                                                                                               | 0/986 [00:00<?, ?it/s]"
     ]
    },
    {
     "name": "stdout",
     "output_type": "stream",
     "text": [
      "*******\n",
      "question: Where can you likely buy many poems?\n",
      "answer: book store\n",
      "choices: ['book of poetry', 'literature book', 'book store', 'poetry book', 'bookshelf']\n",
      "common expl list: ['A bookstore sells a variety of books, including poetry books; chains of bookstores sometimes specialize in categories such as poetry or literature.', 'A book store is a place where you can buy books, including poetry books.']\n"
     ]
    },
    {
     "name": "stderr",
     "output_type": "stream",
     "text": [
      "\r",
      "  0%|▏                                                                                                                                                                    | 1/986 [00:11<3:16:02, 11.94s/it]"
     ]
    },
    {
     "name": "stdout",
     "output_type": "stream",
     "text": [
      "generated explanation: <pad> <extra_id_0> Book stores are a great place to find poetry for you to read and enjoy. Book stores often have a large selection of poetry, which makes it easy to find one you like. They also have a wide selection of titles, which makes it easy to find the perfect poem for your needs. Books are also a great source of inspiration for poetry projects, as they are usually inexpensive and have a wide variety of topics to choose from. Books are also often a great source of information about the author, the poem, and the poets. Additionally, they often have a variety of other books, which can be found in the world of poetry. Books are often also often a great source of information about the poem, and the poem. This is a great way to find many poems for your needs. Many of poems are available in bookstores, as well as online and in the real world. This is a great source of information, and can be found in many different types of different types of poetry. However, it is not always a great place to find a book store is the best place to find many of poems. This is a book store that will help you find many different types of poems, making it easier to find many different types of poems.</s>\n",
      "########\n",
      "*******\n",
      "question: What could bringing suit do to a rivalry?\n",
      "answer: aggravation\n",
      "choices: ['going to court', 'randomness', 'anger', 'aggravation', 'tensions']\n",
      "common expl list: ['Bringing suit against a rival could aggravate the rivalry.']\n"
     ]
    },
    {
     "name": "stderr",
     "output_type": "stream",
     "text": [
      "\r",
      "  0%|▎                                                                                                                                                                    | 2/986 [00:59<8:58:23, 32.83s/it]"
     ]
    },
    {
     "name": "stdout",
     "output_type": "stream",
     "text": [
      "generated explanation: <pad> <extra_id_0> A lawsuit can be a powerful tool in a rivalry, as it can be used to create a sense of urgency and urgency in a relationship. It can also create a sense of urgency and urgency in a relationship, which can be useful in a time of stress. Additionally, it can create a sense of urgency, which can be a valuable asset in a relationship. Finally, bringing suit can also create a sense of urgency and urgency that can be hard to escape from during a time of stress. This can lead to a sense of urgency and it can cause a sense of frustration and anger. For example, bringing suit can be used to a rivalry can also lead to a sense of urgency and urgency in a situation. Bringing suit can creates a sense of urgency and creates a sense of urgency and urgency, which can be a sense of urgency and urgency. Moreover, bringing suit can also lead to a sense of urgency, which can lead to a sense of urgency and urgency, a sense of urgency and urgency, as it can create a sense of urgency. Bringing suit can be a sense of urgency and urgency, as it can create a sense of urgency and urgency and urgency, which can be used to create a rivalry to create an urgency and create an urgency and urgency, as it can be a sense of urgency, and create an environment of urgency and urgency, which can lead to a sense of urgency and a sense of urgency and urgency, a sense of urgency and urgency and urgency, which can be used to create a sense of urgency and a sense of urgency and, of urgency, and anger and, therefore, anger and aggro bringing suit can create a sense of urgency, and a sense of urgency and a sense of urgency and a sense of a sense of urgency and a sense of urgency, and a sense of frustration.</s>\n",
      "########\n",
      "*******\n",
      "question: A person who yawns and paces to help pass the time is likely feeling what?\n",
      "answer: boredom\n",
      "choices: ['ridiculous', 'excitement', 'meanness', 'terrorism', 'boredom']\n",
      "common expl list: ['By yawning and pacing one shows signs of being bored.', 'A bored person would pace and yawn to make time go by faster.', 'Yawning and pacing is a sign of being bored, etc...']\n"
     ]
    },
    {
     "name": "stderr",
     "output_type": "stream",
     "text": [
      "\r",
      "  0%|▌                                                                                                                                                                    | 3/986 [01:20<7:32:32, 27.62s/it]"
     ]
    },
    {
     "name": "stdout",
     "output_type": "stream",
     "text": [
      "generated explanation: <pad> <extra_id_0> A person who yawns and paces is likely feeling bored. Boredom is a common feeling that can lead to a variety of actions, such as eating, sleeping, and doing chores. It can also be a sign that a person is bored, which can lead to a need to do something to pass the time. Boredom can also lead to depression, anxiety, and other mood swings. Boredom can also lead to depression, anxiety, and other mood swings. Boredom is often a person is bored, which can lead to a person to ya person to do something to do something to do something that helps to pass the time. Bore is often a person will do something to pass the time away from the other activities of the mind. a person may ya feeling of boredom. Bored is a sign of boredom. Bored is a person who is likely feeling of boredom, and other feelings of boredom. Bored is a sign of boredom is a person who is likely to do something to help pass the time.</s>\n",
      "########\n",
      "*******\n",
      "question: I only like fiction books, why should I read a non-fiction book?\n",
      "answer: knowledge\n",
      "choices: ['knowledge', 'been printed new', 'many words', 'for fun', 'cover']\n",
      "common expl list: ['Non-fiction books contain knowledge.']\n"
     ]
    },
    {
     "name": "stderr",
     "output_type": "stream",
     "text": [
      "\r",
      "  0%|▋                                                                                                                                                                    | 4/986 [01:35<6:08:14, 22.50s/it]"
     ]
    },
    {
     "name": "stdout",
     "output_type": "stream",
     "text": [
      "generated explanation: <pad> <extra_id_0> I only like fiction books, so why should I read a non-fiction book? Knowledge is the key ingredient in any book. Knowledge is the ability to gain knowledge, which is something that fiction books do not provide. Knowledge is the key ingredient in any book, and non-fiction books provide the same depth of knowledge that fiction books provide. Knowledge is the key to understanding a subject, and knowledge is the key to understanding a person. Knowledge is the key to understanding a person, and knowledge is the key to understanding them. Knowledge is what the world, and is the world. Knowledge is important for the future. Knowledge is the basis of information, and skills needed for the future. Knowledge is the key to understanding the world, and knowledge is important for the future. Knowledge is the key to understanding of the world, and the basis for the purpose of knowledge needed to make a difference between fiction and knowledge. Knowledge is the key to understanding of the knowledge required to make sense of the most important for a book. Knowledge is the key to understanding of the concept of knowledge that is important. Knowledge is the key to understanding and understanding that knowledge. Knowledge is the key to make the knowledge needed to make it important to make sense of the importance of the importance of knowledge of the book for the knowledge of the book. Knowledge is the key to a book for understanding and the knowledge that knowledge that knowledge that it is the key to understand the purpose of the knowledge that the knowledge is important for the future.</s>\n",
      "########\n",
      "*******\n",
      "question: An American might hike a mountain north to get to what?\n",
      "answer: canada\n",
      "choices: ['canada', 'switzerland', 'orlando', 'austria', 'surface of earth']\n",
      "common expl list: ['If an American hiked north, they would likely end up in Canada.']\n"
     ]
    },
    {
     "name": "stderr",
     "output_type": "stream",
     "text": [
      "\r",
      "  1%|▊                                                                                                                                                                    | 5/986 [02:18<8:09:07, 29.92s/it]"
     ]
    },
    {
     "name": "stdout",
     "output_type": "stream",
     "text": [
      "generated explanation: <pad> <extra_id_0> An American might hike a mountain north to get to canada because it is a more accessible route than the mountains in the south. The mountain is often higher than the mountains in the south, and therefore it is a more accessible route for an American to take. This is because the mountain is a great way to get to Canada, as it is a more accessible and accessible destination. Hiking a mountain north also allows for a more varied and varied landscape, and the American can experience more of the country’s natural beauty and diversity of climate, and wildlife, as well as the diversity of the country. It is also a great way to travel in the mountains of the north, as well as it offers an opportunity to explore the country, while also providing an opportunity to experience the outdoors. Furthermore, the mountains in Canada are also a great place to get to Canada, making it a great way to explore the natural beauty of the world, and to reach the Canadian mountains of the north, and explore the wilderness of the United States, and explore the north for the Americans to explore the north and the country’s cultural and geological diversity, and geological diversity, and geological landscapes. The American might hike to get to the north, and the north, and culture, and to explore the north of the world. The North American might also be a great way to see the mountains and wildlife are great place to see the north, and to get to see the north and the north, and to the north, and to see the country’s diversity and culture of the world, and to see, and to see the continent, and to see the country’s, and to see the country’s, and to see.</s>\n",
      "########\n",
      "*******\n",
      "question: Sam spent most of his time standing up.  His job was hectic and he never got any rest. But he was the best cashier at his workplace.    Where might he work?\n",
      "answer: supermarket\n",
      "choices: ['bookstore', 'count till', 'supermarket', 'shop', 'preschool']\n",
      "common expl list: ['Since one spends most of his time standing when working as a cashier, Sam probably works at a supermarket where groceries are sold. Because his workplace is full of activities and punten, he never gets any rest.', \"The best cashiers work setting up lines of products, yhis is usually done from being on one's feet. Supermarkets use till systems to swipe credit cards, thus cashiering is done by standing up.\"]\n"
     ]
    },
    {
     "name": "stderr",
     "output_type": "stream",
     "text": [
      "\r",
      "  1%|█                                                                                                                                                                    | 6/986 [02:32<6:42:20, 24.63s/it]"
     ]
    },
    {
     "name": "stdout",
     "output_type": "stream",
     "text": [
      "generated explanation: <pad> <extra_id_0> Sam worked in a supermarket because he was able to stand up and work in a fast-paced environment. He was able to stand up and work efficiently, ensuring that customers get the best service possible. He was also able to take advantage of the break periods that were offered to him, such as lunch and a snack. He was able to stay focused and focused on his job, which allowed him to stay alert and focused. He was also able to use his skills to make sure that customers were happy, which he worked in a fast food store, which helps to keep busy, and busy, which made him a great asset for the store, as he was able to stay on the shelves of the store and get the products he needed to keep his customers satisfied. He was also able to work in a supermarket, so that he could get a break from his job, and get rest. He was able to keep up all day, so that he could get a rest when he was a great cashier job, and a supermarket was the best at his job, because he was a great job, and was able to keep up and to get his job.</s>\n",
      "########\n",
      "*******\n",
      "question: James raked fallen leaves into a pile. Where might he leave the pile?\n",
      "answer: ground\n",
      "choices: ['forest', 'roof', 'garden', 'tree', 'ground']\n",
      "common expl list: ['Leaves are often raked into piles on the ground.']\n"
     ]
    },
    {
     "name": "stderr",
     "output_type": "stream",
     "text": [
      "\r",
      "  1%|█▏                                                                                                                                                                   | 7/986 [03:01<7:05:34, 26.08s/it]"
     ]
    },
    {
     "name": "stdout",
     "output_type": "stream",
     "text": [
      "generated explanation: <pad> <extra_id_0> James raked fallen leaves into a pile. The pile is made up of small pieces of fallen leaves that have been raked into a pile. The pieces are arranged in a pile on the ground and are often left on the ground to collect dust and water. The pile is usually left on the ground because it is a natural place to collect fallen leaves. The pile is often left on the ground because the ground is a good place to store them. The pile is usually left on the ground because it is a good place for the pile of leaves can cause damage to the ground. James may also cause the pile of fallen leaves could cause damage to the ground, which could lead to damage to the ground. The pile could also cause the pile could cause damage to the ground, as it could cause damage to the ground. James may leave the pile on the ground because it could cause damage to the ground, which could lead to damage to the pile. The pile is also a good place to collect the fallen leaves and to be left on the ground because it is a good place to leave the pile is a place to collect the pile. The pile is a place to collect the ground is a place to collect the leaves in the ground. The pile is a pile is a place to a mess. The pile is a place to leave the pile is a place to collect and<extra_id_27> </s>\n",
      "########\n",
      "*******\n",
      "question: What happens when we fail at something we attempt?\n",
      "answer: leave\n",
      "choices: ['leave', 'give up', 'trying', 'we get shunned', 'fail']\n",
      "common expl list: [\"If we engage in an activity, like a sport, and fail, we don't want to continue doing it. It's much easier simply to leave.\", 'If we fail at something, we usually leave (quit) that activity; failing is an action, while giving up and trying are both ways of not acting.']\n"
     ]
    },
    {
     "name": "stderr",
     "output_type": "stream",
     "text": [
      "\r",
      "  1%|█▎                                                                                                                                                                   | 8/986 [03:55<9:26:05, 34.73s/it]"
     ]
    },
    {
     "name": "stdout",
     "output_type": "stream",
     "text": [
      "generated explanation: <pad> <extra_id_0> When we fail at something, we are often left with a feeling of failure, of failure, of failure, of not being able to complete the task at hand, or of not being able to do it at all. This is because we are not able to complete the task at hand, and we are left with a feeling of failure that we have failed. This feeling of failure can lead to frustration, and it can lead to us feeling frustrated, of not being able to complete the task at hand. This feeling of failure can lead to frustration, which can cause us to take time to attempt to try again. This is because failure can lead to frustration, and frustration, which can cause us to try again. It can also lead to mistakes that can lead to a feeling of failure, and it is normal to take time for us to try again. Failure can also lead to take away from the failure, and ultimately lead to a sense of frustration and frustration, which can lead to a feeling of failure and ultimately lead to give up on the attempt. This can cause us to give up and even more time and a sense of failure. Having failed at a sense of failure, and of failure can lead to a sense of failure. It can lead to a feeling of frustration, and ultimately lead to a sense of failure, and a sense of frustration and of failure. It can also lead to us to feel like we have failed at a sense of failure, and<extra_id_27> </s>\n",
      "########\n",
      "*******\n",
      "question: The referee wasn't specialized in one thing. He refereed many games.  He was offered a job but wasn't sure what it would be.  What did he know it would be?\n",
      "answer: sporting event\n",
      "choices: ['side with opponent', 'football', 'hockey game', 'part two boxers', 'sporting event']\n",
      "common expl list: ['Referees are specialized in sports, and so, they would be expected to know how to referee a sporting event.']\n"
     ]
    },
    {
     "name": "stderr",
     "output_type": "stream",
     "text": [
      "\r",
      "  1%|█▌                                                                                                                                                                   | 9/986 [04:14<8:07:56, 29.97s/it]"
     ]
    },
    {
     "name": "stdout",
     "output_type": "stream",
     "text": [
      "generated explanation: <pad> <extra_id_0> The referee was a professional who was able to take on a variety of roles and<extra_id_2> He was a skilled referee who was able to take on a variety of roles and responsibilities. He was also able to use his knowledge and experience to make decisions that affected the game. He was able to make decisions based on the rules and regulations of the game. He was able to make decisions that affected the outcome of the game. He was able to make decisions based on the rules of the game. He was also a refereed event. He was also able to make decisions during the game. He was able to make decisions that would be able to make decisions that would be able to make decisions about the game. The job would have to refereed many different types of events and be specialized in one of the game. He was able to make decisions based on the game. This gave him the opportunity to gain experience and gain experience. He was a great job. He was a great refereed his skills and experience. He was able to make decisions in a team. He was a great experience and a great job.</s>\n",
      "########\n",
      "*******\n",
      "question: Susan threw the highly elastic ball at the wall.  The ball did what?\n",
      "answer: rebound\n",
      "choices: ['bounce', 'recoil', 'rebound', 'underwear', 'stretch']\n",
      "common expl list: ['Elastic balls collide with the wall, and boom bounce back after a collision.']\n"
     ]
    },
    {
     "name": "stderr",
     "output_type": "stream",
     "text": [
      "\r",
      "  1%|█▋                                                                                                                                                                 | 10/986 [05:25<11:34:48, 42.71s/it]"
     ]
    },
    {
     "name": "stdout",
     "output_type": "stream",
     "text": [
      "generated explanation: <pad> <extra_id_0> Susan threw the highly elastic ball at the wall. The rebound caused the ball to bounce back off the wall. This is because the ball is extremely elastic and has a high rebound rate. The rebound is a result of the ball being thrown at a high speed. The rebound caused the ball to rebound back off the wall, causing it to bounce back. The rebound also caused the ball to bounce back off the wall, causing it to bounce back. The rebound also caused the ball to rebound back to the wall, causing it to bounce back at the wall, which can cause it to rebound. The rebound caused by the ball hitting the wall, which caused the ball to rebound, a high velocity, which can cause the rebounding action. The rebounding effect of the elastic ball also caused the ball to bounce back, which can cause it rebounding action of the rebounding of the rebound. The rebounding action of the rebounding caused by the rebounding action of the rebound a rebound effect of the rebounding action of the rebounding action of the rebounding action of the ball to rebounding. The ball to rebound back on the wall. The rebound caused the rebounding action of the rebounding action of the ball to bounce of the wall. The rebound also caused the rebounding effect of the rebound caused the ball to rebound. The rebound can cause the rebounding action of the rebound was causing the rebound to be more powerfully elastic and the rebounding action of the rebound was resulting in the rebounding action of the ball being a rebounding action of the rebounding reacted as it had on the wall to rebound and rebounding action of the ball to be resulting in the rebounding action of the rebounding of the rebounding of the rebounding effect of the rebound was resulting rebounding force of the rebounding effect of the rebounding action of the rebounding of the rebounding effect of the rebounding action of the rebounding action of the ball being resulting in the rebound being resulting in the rebounding effect of rebounding of the rebounding action of the rebounding action of the rebounding action resulting in the rebound being rebounds of the rebounding of the rebounding action resulting in the rebounding action resulting rebounding of the rebounding resulting in the rebound resulting in resulting in the rebounding effects of the rebounding effects of the rebound being resulting in the rebound being resulting in the rebounding\n",
      "########\n",
      "*******\n",
      "question: John lived in a small island surrounded by flowing liquid H2O   Where might he live?\n",
      "answer: mississippi river\n",
      "choices: ['japan', 'hawaii', 'mississippi river', 'pacific ocean', 'body of water']\n",
      "common expl list: ['there are numerous islands in the mississippi river in the united states, making it possible that John may have lived on one.']\n"
     ]
    },
    {
     "name": "stderr",
     "output_type": "stream",
     "text": [
      "\r",
      "  1%|█▊                                                                                                                                                                 | 11/986 [05:58<10:43:05, 39.57s/it]"
     ]
    },
    {
     "name": "stdout",
     "output_type": "stream",
     "text": [
      "generated explanation: <pad> <extra_id_0> John might live surrounded by flowing liquid H2O. This is because flowing liquid H2O is a powerful force in the ecosystem, and it can be a powerful force in the atmosphere. The flow of liquid H2O can be a powerful force for the life of the people living in the area. The flow of liquid H2O can also be a force for the plants that live in the area, as it can create a powerful surge of water, causing the plants to produce a great deal of heat and a small island surrounded by the land. Water can also be found in the air, as it can be a powerful force for the water to creates a powerful current, and creates in the environment, which can also be a force in the air, and can also be a great source of water body of water, as it can be a powerful force for the people living in the area, as it can be a powerful force for people to get a great deal with the environment. The water is a great place to live in the air and can be a great deal of water for the environment, as it can be a powerful force for the water to flow, and it can be a great place to create a great environment for people.</s>\n",
      "########\n",
      "*******\n",
      "question: What will the student have to do on the test?\n",
      "answer: solve equation\n",
      "choices: ['finish college', 'begin teaching', 'write', 'answer question', 'solve equation']\n",
      "common expl list: ['A student has to solve equations to learn a given theory that is presented in class.']\n"
     ]
    },
    {
     "name": "stderr",
     "output_type": "stream",
     "text": [
      "\r",
      "  1%|█▉                                                                                                                                                                  | 12/986 [06:18<9:06:22, 33.66s/it]"
     ]
    },
    {
     "name": "stdout",
     "output_type": "stream",
     "text": [
      "generated explanation: <pad> <extra_id_0> The student will have to answer an equation that will be given to him/her to solve. The student will have to solve the equation in order to answer the question. The student will have to answer an equation that will be given to him/her to solve. The student will have to answer an equation that will be given to him/her to solve. The student will have to answer an equation that will help them to answer the question. The student will also have to answer a series of questions that will help them to understand the concept of time. The student will have to answer the test by using the answers. The student will have to answer the correct answer in order to pass the test. The student will have to answer an equation to solve the answer the question and answer an answer that will help the student to the questions that the test. The student will have to answer an answer to the question in order to find the answer. The student will have to answer a problem and answer an answer. The student will have to solve the answer the question that will have to answer an answer to the answer the answer.</s>\n",
      "########\n",
      "*******\n",
      "question: The tourists saw what they thought was a statue, but they soon discovered it was performance art went it began what?\n",
      "answer: moving\n",
      "choices: ['growing mold', 'moving', 'accent garden', 'green', 'painting']\n",
      "common expl list: ['Performance art is art that is performed, rather than being a static object. In this case, the statue was moving, which is a sign of performance art.']\n"
     ]
    },
    {
     "name": "stderr",
     "output_type": "stream",
     "text": [
      "\r",
      "  1%|██▏                                                                                                                                                                 | 13/986 [06:41<8:13:03, 30.40s/it]"
     ]
    },
    {
     "name": "stdout",
     "output_type": "stream",
     "text": [
      "generated explanation: <pad> <extra_id_0> Performance art is a form of art that involves movement. It is a form of art that is often interpreted as a statue, but is often interpreted as performance art. It is often performed in a variety of ways, including as a dance, music, or movement as a performance piece. It can be a dance, a song, a dance, or a performance piece. It can also be a performance piece, or a performance piece. Performance art is art that is performed in a variety of music, a performance piece of art, or even a sculpture, or live performance art, or live performance, or performed by a piece of moving. Performance art is a form of art that is a form of performance, and is a way to create a performance piece of art that is a performance, or performing, moving. Performance art is a form of art that is a performance, and is a form of art that is a way to express the perform a piece of a performance that is a performance that is performed in a way. Performance art is a way to create a form of moving, or even a piece of art.</s>\n",
      "########\n",
      "*******\n",
      "question: What is a good way to carry a small dog?\n",
      "answer: backpack\n",
      "choices: ['good hands', 'backpack', 'chinese food', 'grocery bag', 'basket']\n",
      "common expl list: ['Backpacks are a good way to carry things, and small dogs are things.']\n"
     ]
    },
    {
     "name": "stderr",
     "output_type": "stream",
     "text": [
      "\r",
      "  1%|██▎                                                                                                                                                                 | 14/986 [07:03<7:31:22, 27.86s/it]"
     ]
    },
    {
     "name": "stdout",
     "output_type": "stream",
     "text": [
      "generated explanation: <pad> <extra_id_0> A backpack is a great way to carry a small dog because it is easy to carry, and it can be carried in a backpack with a handlebar attached. This makes it easy to walk the dog, and it is easy to carry the dog around in a backpack. A backpack also provides a convenient way to carry the dog when it is not in use, and it is easy to carry the dog when it is needed. A backpack also allows the dog to be carried with both hands, which makes it easier to get to the dog around while on walks, and to train, and other important part of training. A backpack can be used for a good way to get to help keep the dog. It is also a great way to get to get to work and even when walking it is important to keep the dog safe and a dog. A backpack is also a great way to get to get around in and out of training. A backpack is a great way to get into a great option for a small dog to get away from the dog. A backpack is a good way to get to get towr a trip with a dog. A backpack is a great way to get to a dog to carry a dog easily and easily accessible a dog. A small dog can easily transport a dog.</s>\n",
      "########\n",
      "*******\n",
      "question: Both sides in World War I used what to cause death that is now banned?\n",
      "answer: poisonous gas\n",
      "choices: ['homicide', 'poisonous gas', 'cyanide', 'nuclear weapons', 'massive weapons']\n",
      "common expl list: ['Poison gas is a chemical known for its ability to kill (therefore, if both sides used it, people on both sides died from its use), and it has since gone on to be outlawed in many countries.']\n"
     ]
    },
    {
     "name": "stderr",
     "output_type": "stream",
     "text": [
      "\r",
      "  2%|██▍                                                                                                                                                                 | 15/986 [07:27<7:12:30, 26.73s/it]"
     ]
    },
    {
     "name": "stdout",
     "output_type": "stream",
     "text": [
      "generated explanation: <pad> <extra_id_0> Both sides in World War I used poisonous gas because it caused death in battle. Both sides in World War I used poisonous gas because it caused death in battle. It was used because it was cheap and it was easy to use. It also caused serious bodily harm to civilians, and it was the only thing that could have prevented the deaths that were caused by the gas. Today, poisonous gas is banned because it can cause serious bodily harm in war and can be used to prevent future deaths. It can also lead to increased mortality rates in war. It is also because it can lead to a significant increase in the number of deaths that can be reduced by using chemical weapons. It is believed that the gas is now banned because it is used to prevent the deaths of civilians from being used. Because of its use, it was banned in the war. It was used in the gas was banned in the gas used in the war and is now banned. It is now banned because it is now banned because it has been proven that it is now banned. It is believed that it was used in the cause of death in the first. It is now banned because it is now banned because it is now being used to prevent the death of the death of the death of gas is now banned. It is now banned because it is now banned because of its use. It is now banned because it is now banned because it is now banned because of its use in the gas that it was now banned because it is now banned because of its ability to cause of the gas being used</s>\n",
      "########\n",
      "*******\n",
      "question: Where is disease often spread but shouldn't be?\n",
      "answer: hospital\n",
      "choices: ['ghost town', 'third world country', 'human body', 'rug', 'hospital']\n",
      "common expl list: ['Hospitals are places where people go to get better, and therefore disease is often spread there.', 'Disease is spread most commonly in hospitals, where sick patients are treated and recovered hosts of disease are found.']\n"
     ]
    },
    {
     "name": "stderr",
     "output_type": "stream",
     "text": [
      "\r",
      "  2%|██▋                                                                                                                                                                 | 16/986 [07:51<6:56:58, 25.79s/it]"
     ]
    },
    {
     "name": "stdout",
     "output_type": "stream",
     "text": [
      "generated explanation: <pad> <extra_id_0> Hospitals are often the first place people go when they need help and are often the first place they go when they need help. They are often the first place they go when they need help with a medical issue, and they are often the first place they go when they need help. Hospitals are often the first place they go when they need help, and they are often the first place they go when they need help. Hospitals are also often the first place people go when they need to see a doctor, and they are often the first place to spread disease, which can also occur in the hospital, which can lead to complications later spread. Disease can spread to spread to other patients and if they are hospitalized. Because of the hospital, it is the most often the first place to spread disease. Hospitals are often the first place where it can be treated. They are often the first place people go when they need help with symptoms. They are often the first place where they need help to get to get help with the spread of a doctor's. Hospitals are often the first and the second place people who are treated. The first place is often the place where disease is treated.</s>\n",
      "########\n",
      "*******\n",
      "question: As things get colder, temperature does what?\n",
      "answer: drop to zero\n",
      "choices: ['increase', 'drop to zero', 'heat up', 'dropping quickly', 'arctic']\n",
      "common expl list: ['As things get colder, they get closer to zero degrees.']\n"
     ]
    },
    {
     "name": "stderr",
     "output_type": "stream",
     "text": [
      "\r",
      "  2%|██▊                                                                                                                                                                 | 17/986 [08:36<8:29:23, 31.54s/it]"
     ]
    },
    {
     "name": "stdout",
     "output_type": "stream",
     "text": [
      "generated explanation: <pad> <extra_id_0> As things get colder, temperature does what? Drop to zero. Temperature is the natural process of change that occurs in the environment. As temperature drops, it can cause things to lose heat and cold. As things get colder, temperature can also cause things to become colder, which can lead to a decrease in comfort and productivity. As temperature drops, temperature can also cause things to become less productive, and less attractive to the human eye. This can lead to the eyes being able to work and play, and the body to lose energy. It can also lead to more expensive and energy costs, which can result in the overall costs of heat loss of oxygen and moisture content of the environment. In the case, temperature drops to zero, reducing the human body’s heat and energy needed to keep up, and water content. This can lead to a decrease in the environment. This can lead to a decrease in the human activity, and equipment that can be reduced, leading to decrease in the overall temperature of the overall effect of the body. This can lead to decreased comfort and even greater levels. It can also lead to a decrease in the overall. This can lead to a decrease in the human activity. As things such as temperature. As things get cold, temperature also causes the human beings energy expenditures and a decrease in the environment. This can lead to decrease in the human being colder and therefore decrease in the human activity. This can lead to a decrease in the human being cold. This can cause things getting colder. This can lead to a decrease in the human being colder. This can lead to a decrease in the human being colder and less human being a decrease in the human experience. As temperatures of the human activity and the human beings.</s>\n",
      "########\n",
      "*******\n",
      "question: Where is one unlikely to get popcorn?\n",
      "answer: soccer game\n",
      "choices: ['restaurant', 'movie house', 'soccer game', 'carnival', 'movie theater']\n",
      "common expl list: ['Soccer games usually lack popcorn machines.', 'Soccer games are usually snacks-free affairs; snacks, including popcorn, tend to be present at more recreational venues, but less so in settings where food is unnecessary because there are translatable goods sellers, i.e., vendors that sell things like popcorn', 'Most soccer games lack concession stands, which are necessary to sell movie theaters popcorn.']\n"
     ]
    },
    {
     "name": "stderr",
     "output_type": "stream",
     "text": [
      "\r",
      "  2%|██▉                                                                                                                                                                 | 18/986 [09:21<9:36:42, 35.75s/it]"
     ]
    },
    {
     "name": "stdout",
     "output_type": "stream",
     "text": [
      "generated explanation: <pad> <extra_id_0> Soccer games are a great way to get popcorn, since they are a lot of fun and often involve a lot of action. Soccer games are a great way to get popcorn because they are a lot of fun and they are usually a lot of fun. However, soccer games are also a great way to get a good deal because they are usually held at a local park. This is because the popcorn is usually much cheaper than other snacks, and the popcorn is often a lot more filling and more affordable. In addition, popcorn is often found at a great way to get popcorn at a great way to get a great way to get popcorn at a great way to get popcorn is by providing a great way to get a great way to get a great way to get a great way to get a great way to get a good deal on the game. The popcorn can be a great way to get popcorn is a great way to get a great way to get a great deal on the most popular and is a great way to get a great way to get some games. Moreover, popcorn is a great way to get some great deal, and it is a great deal on a great way to get some great deal on some great deal. Moreover, popcorn is a great way to get some great deal on the right for a great deal on a great deal on a great deal on a great deal on a great deal on a great deal on popcorn and it is a great way to get some great deal. Additionally, it is a great value for a great deal on a great way to get some great deal on a great deal on a great way to get some extra special occasion. a great way to get some great deal on a great deal on a great deal on a great snack at a great way to get some extra fun and a great way to get popcorn.</s>\n",
      "########\n",
      "*******\n",
      "question: Where are files likely to be hanging?\n",
      "answer: filing cabinet\n",
      "choices: ['filing cabinet', 'tree', 'suitcase', 'computer', 'desk drawer']\n",
      "common expl list: ['Files are likely to be hanging in a filing cabinet, since they are often organized by topic, and filing cabinets are often used to organize files.', 'Filing cabinets are used to store files sometimes; these files can then be found by opening the filing cabinet and looking for hanging folders.']\n"
     ]
    },
    {
     "name": "stderr",
     "output_type": "stream",
     "text": [
      "\r",
      "  2%|███▏                                                                                                                                                                | 19/986 [09:53<9:15:22, 34.46s/it]"
     ]
    },
    {
     "name": "stdout",
     "output_type": "stream",
     "text": [
      "generated explanation: <pad> <extra_id_0> Files are typically stored in filing cabinets because they are a safe place for them to be<extra_id_1> n<extra_id_2> File cabinets are a safe place to store documents because they are<extra_id_3> File cabinets are usually made of a sturdy plastic material that is easy to clean and maintain. The cabinets are usually a single-board design, which makes them easy to clean and maintain, and provide a place for files to hang. They are also easy to access, and they are easy to access from any computer. File cabinets are usually a good place to store documents in order to keep them organized, and organized in a safe place to be easily accessible place, making it easier to access to documents. Additionally, filing cabinets are often made of a variety of different types of papers, which can be easily accessible, which makes it easier to hang files when they are needed. Finally, filing cabinets are often a convenient place for documents, and are often a safe place to store them, and are often found in a good place for files to hang them to access, which is a great place for documents. This makes it easier to access, as they can be easily removed and are a great place for documents.</s>\n",
      "########\n",
      "*******\n",
      "question: What is required to go on vacation before anything else?\n",
      "answer: have money\n",
      "choices: ['pack', 'pay bills', 'save money', 'have money', 'reliable car']\n",
      "common expl list: ['Vacations often require the purchase of travel services, such as airline or hotel tickets.']\n"
     ]
    },
    {
     "name": "stderr",
     "output_type": "stream",
     "text": [
      "\r",
      "  2%|███▎                                                                                                                                                               | 20/986 [11:03<12:06:17, 45.11s/it]"
     ]
    },
    {
     "name": "stdout",
     "output_type": "stream",
     "text": [
      "generated explanation: <pad> <extra_id_0> Having money is a must for any person to go on vacation. Having money is necessary because money is the only way to make sure that they have enough money to go on vacation. Having money can help you cover the cost of your vacation, such as airfare, hotel, and transportation. Money also helps to cover the cost of food, transportation, and other essentials such as parking, parking, and other necessary expenses. It also helps to have a plan in place in case something unexpected happens. Having money is also important to have enough to make a trip, and make it possible. Additionally, it is important to have enough money to live a vacation in order to take advantage of the trip. This is also important when taking advantage of the opportunity to enjoy your vacation. Money is also important for your vacation. In conclusion, having enough money to help you to enjoy your vacation. It is also important to have enough money to make sure that you are a great vacation. Having money can also help to make sure that you are aware of the trip. This is important to have enough money to take advantage of the trip. In addition, having enough money to make sure that you have enough money to take the trip. This is also important to plan and to have enough money to make sure that you are able to make sure that you have enough money to make sure that you can easily afford your vacation. This will help you to make sure that you have enough money to make sure that you have enough money to make sure that you have enough to make sure that you have enough money to make sure that you have enough to make sure that you have enough money to have enough to have enough to make sure that you have enough money to take out of the right to have enough money to take care of course.</s>\n",
      "########\n",
      "*******\n",
      "question: The roadway passed a sign and gate house, what was behind the gatehouse?\n",
      "answer: subdivision\n",
      "choices: ['city', 'narnia', 'subdivision', 'neighborhood', 'countryside']\n",
      "common expl list: ['Subdivisions are residential areas that are often gated, and so, if you see a gatehouse, you might be in a subdivision.', 'A subdivision contains houses that formed around it; therefore, a subdivision has a gatehouse that controls who goes in and out.']\n"
     ]
    },
    {
     "name": "stderr",
     "output_type": "stream",
     "text": [
      "\r",
      "  2%|███▍                                                                                                                                                                | 21/986 [11:06<8:44:13, 32.59s/it]"
     ]
    },
    {
     "name": "stdout",
     "output_type": "stream",
     "text": [
      "generated explanation: <pad> <extra_id_0> The roadway passed a sign and gate house behind a subdivision. Behind the sign and gate house, there was a sign that said \"Subdivision\" and a subdivision was behind it. The sign and gate house were located in the center of the subdivision. Behind the gatehouse was a sign that said \"Subdivision\" and a gate house. The sign and gate house were located in the middle of the subdivision. The sign and gate house were located in the middle of the subdivision, and the sign said \"Subd\"</s>\n",
      "########\n",
      "*******\n",
      "question: The invasive A.I. was designed to scan the crowd, where most saw a mass of humanity the evil machine could pick out each what?\n",
      "answer: individual\n",
      "choices: ['solitary', 'single person', 'few people', 'crowd', 'individual']\n",
      "common expl list: [\"Machine intelligence is better able to find isolated individuals than crowded groups. Machines need to scan a large group of people to be able to find a single person--but when the single person doesn't blend in, it makes them easier to find.\"]\n"
     ]
    },
    {
     "name": "stderr",
     "output_type": "stream",
     "text": [
      "\r",
      "  2%|███▋                                                                                                                                                               | 22/986 [12:25<12:28:26, 46.58s/it]"
     ]
    },
    {
     "name": "stdout",
     "output_type": "stream",
     "text": [
      "generated explanation: <pad> <extra_id_0> The<extra_id_1> e<extra_id_2> The<extra_id_3> The evil machine was designed to scan the masses of humanity, where most saw a mass of humanity, where most saw a mass of people, where most saw a mass of humanity, where most saw a mass of humanity, where most saw a mass of humanity, where most saw a mass of humanity, where most saw a mass of humanity. The evil machine was designed to scan the crowd, where most saw a mass of humanity, where most saw a mass of humanity, where most saw a a mass of humanity, allowing the machine to gain insight into the human race, and then use of the machine to find out the human race, so it can track down to find out the human race, and even the machine could be able to find out what it could find out the human race, and to find out the machine could find out the individual. The A. The evil machine was designed to picks out the human race, allowing it to find out the human population, and to find the machine was designed to find out the human population, s to find out the human race. This allowed the machine to gain access to the human race, and to gather to a human population. The A. The machine was designed to pick out the individual. The A. The machine was designed to gather information about the human race, and to gather information about the human race, so that it could be a human, and to find the machine could then use this information to gather the crowd, and to gather information about the race, and gather information about the human race, and to gather information about the machine could then use it to pick out about the individual, and to gather and gather information about the crowd, and to gather information about the human race, and gather information needed to gather information, and to gather information about the machine, and to gather the A.</s>\n",
      "########\n",
      "*******\n",
      "question: Is has been speculated that a aliens could be communicating by doing this?\n",
      "answer: thinking\n",
      "choices: ['effort', 'farting', 'thinking', 'laugh', 'medium']\n",
      "common expl list: ['Aliens could quite possibly be using thought as a way to communicate between themselves.']\n"
     ]
    },
    {
     "name": "stderr",
     "output_type": "stream",
     "text": [
      "\r",
      "  2%|███▊                                                                                                                                                               | 23/986 [13:19<13:04:34, 48.88s/it]"
     ]
    },
    {
     "name": "stdout",
     "output_type": "stream",
     "text": [
      "generated explanation: <pad> <extra_id_0> A thought is a thought that occurs when a person is thinking. This thought process is a form of thinking that occurs when the mind is engaged in a pattern of thought or action. This pattern of thought is thought to be a form of communication, and it is thought that the mind is in a state of deep thought. This thought process is thought to occur when the mind is active, and when the mind is still asleep, it is thought that the mind is communicating with the body. This thought process is thought to be a way that the body language that the mind. It is thought that the mind. It is thought that the aliens are thinking. This is thought that the aliens are thinking about their environment, and is a thought process that the mind is a way of communication that the mind is thought. It is thought that the mind and is a way that the mind can communicate with the mind. It is thought that a thought is thought process that the mind is thought is a way to communicate with the mind. It is thought that the mind is a way that the mind and it is thought. It is thought that the mind. It is thought that the mind is thinking. This is a form of the mind is thought process that the mind is thought process of a thought process that is thought. It is thought process and it is a form of thinking. It is thought</s>\n",
      "########\n",
      "*******\n",
      "question: What can occur in fencing if you are not careful?\n",
      "answer: severe injuries\n",
      "choices: ['competition', 'severe injuries', 'fever', 'perspiration', 'small cuts']\n",
      "common expl list: ['Fencing is a sport that involves hitting your opponent with a sword, and if you are not careful, you can get injured.', 'Fencing is a sport, which involves hitting your opponent with a sharp piece of metal, which will almost certainly result in some physical pain.', 'The sport of fencing causes people to be hit by weapons, which may cause cuts or other wounds if someone is not careful.']\n"
     ]
    },
    {
     "name": "stderr",
     "output_type": "stream",
     "text": [
      "\r",
      "  2%|███▉                                                                                                                                                                | 24/986 [13:25<9:36:15, 35.94s/it]"
     ]
    },
    {
     "name": "stdout",
     "output_type": "stream",
     "text": [
      "generated explanation: <pad> <extra_id_0> In fencing, the injuries that can occur are severe. For example, if you are not careful, you can cause severe injuries. This can occur if you are not careful, or if you are not aware of the dangers of your opponent. This can lead to a serious injury or death. Injuries can also occur when you are not paying attention and are not paying attention. For example, if you are not paying attention, you can become distracted and become distracted. This can lead to injuries that can be life-threatening. For example, if you are not careful, you can get into serious injuries. If you are not careful, you can also cause serious injuries. This can lead to serious injuries if you are not careful. Inju</s>\n",
      "########\n",
      "*******\n",
      "question: If you stretch out your socks they will then have what kind of fit?\n",
      "answer: loose\n",
      "choices: ['cramped', 'loose', 'contract', 'park', 'compressing']\n",
      "common expl list: ['When stretched out, socks will be loose.']\n"
     ]
    },
    {
     "name": "stderr",
     "output_type": "stream",
     "text": [
      "\r",
      "  3%|████▏                                                                                                                                                              | 25/986 [14:41<12:46:52, 47.88s/it]"
     ]
    },
    {
     "name": "stdout",
     "output_type": "stream",
     "text": [
      "generated explanation: <pad> <extra_id_0> If you stretch out your socks they will have a loose fit because the stretch out of the socks will cause the socks to have a loose fit. This is because the stretch of the socks allows the socks to stretch out and be more comfortable to wear. This is because the stretch of the socks allows the socks to breathe and stretch, allowing the socks to breathe more easily. Additionally, the loose fit of the socks will also allow the socks to breathe more freely, allowing the socks to breathe more easily. This is due to the stretch of the socks being more comfortable to the socks, which is a great feature that loose fit. The socks will also stretch out the socks will also allow for the socks to stretch out of the socks to breathe better fit of the socks to breathe better and will also help to breathe better. The loose fit of the socks will also help to breathe better, as they will also make the socks stretch out of the socks to breathe better fit. The socks will have a loose fit will also allow the socks to breathe better retain moisture and will allow the socks to stretch out of the socks to breathe. This is because the stretch out of the socks to be more comfortable to wear them. This allows for a more comfortable feel and the socks to stretch out of the socks to the socks to breathe. The loose fit of the socks will also help to improve the overall fit of the socks to stretch out of the socks to help to improve the overall fit of the socks and stretch the socks to improve the fit.</s>\n",
      "########\n",
      "*******\n",
      "question: John ran out of pencils.  Where did  he go to get more?\n",
      "answer: office depot\n",
      "choices: ['desk drawer', 'cup', 'pencil case', 'shelf', 'office depot']\n",
      "common expl list: ['Office Depot is a company that specializes in office furniture; it also sells pens and pencils.', 'John can buy new pencils at an office depot.', 'Pencils can be found at an office supply store, e.g., an office depot.', 'Office Depot is a store that sells office supplies, including pencils.', 'When people need pencils (or pens), they often buy them at office depots.']\n"
     ]
    },
    {
     "name": "stderr",
     "output_type": "stream",
     "text": [
      "\r",
      "  3%|████▎                                                                                                                                                               | 26/986 [14:45<9:13:57, 34.62s/it]"
     ]
    },
    {
     "name": "stdout",
     "output_type": "stream",
     "text": [
      "generated explanation: <pad> <extra_id_0> John ran out of pencils because office depot had more pencils than he needed. Office depot has a wide variety of pencils for students to choose from, and they are easy to find. Whether you are working on a project or writing a report, office depot has the right amount of pencils for the job. Office depot also has a large selection of other office supplies, such as paper, pens, and a selection of colored pencils. Office depot also has a large selection of pencils, so there is a great place to find the right place to find more. John</s>\n",
      "########\n",
      "*******\n",
      "question: What does a confident person do?\n",
      "answer: trust himself\n",
      "choices: ['feel important', 'own house', 'trust himself', 'know what time', 'cry']\n",
      "common expl list: ['A confident person is sure of his abilities and the trust in himself/herself to do things or accomplish goals.', 'People whose confidence is high tend to believe themselves more strongly, and so the confident person might believe in their own abilities and do things such as trust themselves.']\n"
     ]
    },
    {
     "name": "stderr",
     "output_type": "stream",
     "text": [
      "\r",
      "  3%|████▍                                                                                                                                                               | 27/986 [15:15<8:52:41, 33.33s/it]"
     ]
    },
    {
     "name": "stdout",
     "output_type": "stream",
     "text": [
      "generated explanation: <pad> <extra_id_0> A confident person is someone who has the confidence to make decisions and act upon them. He or she has the ability to make confident decisions and act on them. This confidence is a necessary ingredient for success. It is what makes a person feel safe and secure in their abilities. It is also a sign of self-assurance and a sign of a person who is willing to take risks. Being confident also allows the person to take risks and take risks that others may not take. Being confident also gives the person the confidence to take risks and take risks in themselves. It is important for a person to take risks and take risks. It is important to be confident in the people who take risks and take risks. In addition, it is important for a confident person to take risks and take risks. This is important for those who are willing to take risks and the confidence. This is important for a person to take the confidence and take risks. Finally, confidence is a key factor in the future. It is important to take risks that the right decisions and take risks. It is important to take risks and take risks.</s>\n",
      "########\n",
      "*******\n",
      "question: James thought that analyzing all the data would help him learn more, but it did not.  It only gave him what?\n",
      "answer: headache\n",
      "choices: ['headache', 'better understanding', 'papercuts', 'enlightened', 'discovering truth']\n",
      "common expl list: ['Analysis requires a lot of thinking with maybe little reward, which can give one a headache.']\n"
     ]
    },
    {
     "name": "stderr",
     "output_type": "stream",
     "text": [
      "\r",
      "  3%|████▋                                                                                                                                                               | 28/986 [15:59<9:44:29, 36.61s/it]"
     ]
    },
    {
     "name": "stdout",
     "output_type": "stream",
     "text": [
      "generated explanation: <pad> <extra_id_0> James thought that analyzing all the data would help him learn more, but it only gave him headaches. analyzing all the data did not help him learn anything. Rather, it gave him a sense of accomplishment and a sense of accomplishment. James thought that analyzing all the data would help him learn more, but it did not help him learn anything. Rather, it gave him a sense of accomplishment and accomplishment. James also thought that analyzing all the data would give him a sense of accomplishment and accomplishment, which is why he was not analyzing all the data did not help him to learn more. He was also worried that analyzing all of the data would lead to some misconceptions about the data. analyzing all the data would have been unable to understand the data will help him learn more, and will help him to learn more about the data. Moreover, it only gave him a sense of accomplishment and he learned. He thought that analyzing all of the data was a sense of accomplishment, and frustration and a sense of satisfaction, rather than he thought. Rather than he could have learned something.</s>\n",
      "########\n",
      "*******\n",
      "question: What makes people happy when it is surprising and unexpected?\n",
      "answer: humor\n",
      "choices: ['joke', 'humor', 'frightened', 'fight', 'laughter']\n",
      "common expl list: ['A surprise is a stimulus that is not generally predicted before exposing it to a subject. It may be surprising things that cause laughter, or unexpected things that people see as funny.']\n"
     ]
    },
    {
     "name": "stderr",
     "output_type": "stream",
     "text": [
      "\r",
      "  3%|████▊                                                                                                                                                              | 29/986 [16:51<10:56:35, 41.17s/it]"
     ]
    },
    {
     "name": "stdout",
     "output_type": "stream",
     "text": [
      "generated explanation: <pad> <extra_id_0> Humor is a form of entertainment that is often accompanied by a sense of humor. It is a form of entertainment that is often accompanied by a sense of dread, anticipation, and excitement. It is a form of play, a form of play that is meant to be enjoyed by all ages, and it is a form of entertainment that can be enjoyed by all. It can be a source of laughter, a source of energy, and a source of energy. It can also be used to make people feel good, and it is a great way to have fun. It is a way to be a great way to enjoy life. It can be shared with friends, and it can be a great way to share with others. It can be a great way to laugh and it can be shared and shared. It can be shared, and shared, or shared with others. It can be shared with others, and shared with them. It can be shared with others. It can be a great way to share and can be a good way to share and share. It can be shared. It can be shared with someone who is a great way to create a sense of a sense of excitement and is a great way to share. It can be shared with others. It can be shared with others. It can be a way to share and shared.</s>\n",
      "########\n",
      "*******\n",
      "question: What is someone who wants a lot of money?\n",
      "answer: greedy\n",
      "choices: ['selfish', 'weird', 'greedy', 'ridiculous', 'hungry']\n",
      "common expl list: ['Greed is defined as \"the desire to obtain something, especially wealth, through selfish means, typically at the expense of others.', 'Greed is a strong desire to possess a lot of money; a greedy person therefore wants it a lot.', 'A person who is greedy wants more things that people typically take for granted, i.e., money, success, etc. This is a lot of stuff.']\n"
     ]
    },
    {
     "name": "stderr",
     "output_type": "stream",
     "text": [
      "\r",
      "  3%|████▉                                                                                                                                                              | 30/986 [17:28<10:34:34, 39.83s/it]"
     ]
    },
    {
     "name": "stdout",
     "output_type": "stream",
     "text": [
      "generated explanation: <pad> <extra_id_0> Someone who wants a lot of money is greedy. Greed is a sign of a person’s desire to get more money, which can lead to a lot of financial problems. Greed is a sign of a person’s need to be able to buy things quickly and easily, which can lead to financial problems down the road. Greed is a sign of a person’s desire to be able to spend money quickly and easily. Greed is a sign of a person is looking for money, and other people. It is a person who is looking for money can lead to financial problems in the future. Greed money, greed can lead to financial problems that lead to financial problems. It can lead to financial problems, which can lead to financial problems when it’s easy to spend it’s not be a sign of a person. Gree is a sign of someone who is looking for money and is a sign of a person’s heart. Greed is a sign of a person who wants to spend money. Gree is a sign of a person’s desire for money and a lot of money.</s>\n",
      "########\n",
      "*******\n",
      "question: Where do you keep a book to read before bed?\n",
      "answer: bedside table\n",
      "choices: ['school room', 'allen key', 'classroom', 'bedside table', 'coffee table']\n",
      "common expl list: ['Bedside tables are where people keep things they use before bed, such as books, glasses, and water.', 'Bedside tables are convenient for keeping things, e.g., a book, reading materials, glasses, etc., that you wish to keep near your bed for regular access; particularly things.']\n"
     ]
    },
    {
     "name": "stderr",
     "output_type": "stream",
     "text": [
      "\r",
      "  3%|█████                                                                                                                                                              | 31/986 [18:41<13:14:27, 49.91s/it]"
     ]
    },
    {
     "name": "stdout",
     "output_type": "stream",
     "text": [
      "generated explanation: <pad> <extra_id_0> A bedside table is a great place to keep a book to read before bed. It is a great place to place a book to read before bed, as it provides a place for the book to rest and read before you go to sleep. It is also a great place to store a book for later reference. A bedside table is a great place to keep a book to read before bed, as it provides a place to rest and read before bed. It is a great place to store a book, and can easily be found on the side of the book, and can be easily accessible, making it easy to find a book easily accessible and easy to find a book. It is also a great way to keep a book to read before bed. Finally, a bedside table is a great place to read before you go to read before you sleep. A bedside table is a great place to keep a book to read before bed. It is a great place to keep a book to keep a book to read before you while you read before you are asleep. It is a great place to keep a book to read before you read before bed. It is a great place to read before you go to keep a book before bedside table is a great place to keep a book to read before you go to keep it is a bed.</s>\n",
      "########\n",
      "*******\n",
      "question: Where is a knight likely to be found in the US?\n",
      "answer: chess set\n",
      "choices: ['middle ages', 'chess set', 'historical novel', 'castle', 'guarding the king']\n",
      "common expl list: ['A knight is a piece in the game of chess, which is played on a chess set.']\n"
     ]
    },
    {
     "name": "stderr",
     "output_type": "stream",
     "text": [
      "\r",
      "  3%|█████▎                                                                                                                                                             | 32/986 [19:46<14:26:32, 54.50s/it]"
     ]
    },
    {
     "name": "stdout",
     "output_type": "stream",
     "text": [
      "generated explanation: <pad> <extra_id_0> A chess set is a set of chess pieces that are used to play chess. The pieces are usually arranged in a stacked order to create a chessboard. Each piece has a number of moves that can be used to create a winning combination. Each move can be used to move a piece of the board, such as attacking a checkerboard or attacking a board. This allows the player to move a knight around the board, allowing them to move in any direction. Finally, chess set can be used to play in a game of a knights, such as a a a a a a a knight in the US, such as a a a a a a knight in a a a a a a a queen, or a a a a a a a a a a king to move, a knight can move a a a a if a a king or a a a a a a a a a a a chessto play a a a a a a king or a a a a king's '</s>\n",
      "########\n",
      "*******\n",
      "question: Jack saw little point to communicating beyond the basics.  To him, it was just a means to do what?\n",
      "answer: exchange information\n",
      "choices: ['go swimming', 'making friends', 'exchange information', 'people to think', 'confusion']\n",
      "common expl list: [\"Keeping the communication sparse would allow him to conserve energy by speaking less. Since communication is just a means to exchanging information, Jack would not see much 'point', to say, a conversation beyond the basics.\"]\n"
     ]
    },
    {
     "name": "stderr",
     "output_type": "stream",
     "text": [
      "\r",
      "  3%|█████▍                                                                                                                                                             | 33/986 [19:59<11:08:16, 42.07s/it]"
     ]
    },
    {
     "name": "stdout",
     "output_type": "stream",
     "text": [
      "generated explanation: <pad> <extra_id_0> Jack saw little point to communicating beyond the basics. He saw little point to communicating beyond the basics because it was just a means to exchange information. Jack saw little point to communicating beyond the basics because it was just a means to exchange information. He also saw little point to communicating beyond the basics because it was just a means to exchange information. He also saw little point to communicating beyond the basics because it was just a means to exchange information. He saw no point to communicating beyond the basics because it was just a means to exchange information. He saw little point to communicating with others, and not being a way to communicate with others. He saw little point to communicate beyond the basics of communicating with others. He saw little point to exchange information because it was simply a means to exchange information with others. He saw little point to exchange information, and exchange information as a means to exchange information. Communication was a way to exchange information.</s>\n",
      "########\n",
      "*******\n",
      "question: I as a person don't kill others, why do I not?\n",
      "answer: value life\n",
      "choices: ['experience pleasure', 'laws', 'value life', 'thank god', 'go into debt']\n",
      "common expl list: [\"Someone who does not kill might have a great deal of respect for life; as a person's life is valuable, the opposite is true about the act of taking a life.\"]\n"
     ]
    },
    {
     "name": "stderr",
     "output_type": "stream",
     "text": [
      "\r",
      "  3%|█████▌                                                                                                                                                             | 34/986 [20:36<10:40:55, 40.39s/it]"
     ]
    },
    {
     "name": "stdout",
     "output_type": "stream",
     "text": [
      "generated explanation: <pad> <extra_id_0> I as a person don't kill others because I as a person don't value life. I value my life and the lives of others and I value my life more than anything else. I value my life because I believe it is the most valuable resource we have. It is the only way we can truly understand life and its value. I value life because it is the only way that I can know that it is the only way to know who we are as individuals and as a society. I value life because it is the only way to live a human beings and because of my own life and the only thing that I can do not kill others. Life is a way to live. I also value my own life because I believe in my life because it is a way to gain from which is a way to gain the ability to gain from the death of life. I believe that life is the only way to gain from the benefits of a person can gain from the benefits of death and the only way to gain the greatest life. I as a person who has a way to gain from the life that I can gain the life of being a person who has been given to</s>\n",
      "########\n",
      "*******\n",
      "question: What is likely to be a child's reaction to going to play?\n",
      "answer: happiness\n",
      "choices: ['happiness', 'tears', 'sit', 'being entertained', 'laugh']\n",
      "common expl list: ['Children like to play.']\n"
     ]
    },
    {
     "name": "stderr",
     "output_type": "stream",
     "text": [
      "\r",
      "  4%|█████▊                                                                                                                                                             | 35/986 [21:10<10:11:50, 38.60s/it]"
     ]
    },
    {
     "name": "stdout",
     "output_type": "stream",
     "text": [
      "generated explanation: <pad> <extra_id_0> A child's reaction to going to play is likely to be happiness. This is due to the fact that playing is a form of physical stimulation, and it can bring a sense of accomplishment and satisfaction. It can also help to build social skills, as well as a sense of belonging and belonging. Ultimately, playing is a form of exercise, and it is a way for children to develop social skills and develop their motor skills. It can also be a way for them to develop their communication and social skills. Play is also likely to create a sense of accomplishment and it is a sense of satisfaction and excitement, which can lead to a sense of self-regeneration and a positive feelings of accomplishment and confidence, and a sense of accomplishment. It is also a way to build a sense of accomplishment and to the joy that comes with the excitement and excitement of accomplishment, as they experience. It is a way to build on-and develop skills and confidence. It is a way to build self-confidence, as well-a sense of accomplishment and team building, which helps build self-</s>\n",
      "########\n",
      "*******\n",
      "question: Where could you find multiple ruler that are owned by different people?\n",
      "answer: office\n",
      "choices: ['measure distance', 'england', 'office', 'drawer', 'desk']\n",
      "common expl list: ['Office buildings often have rulers.', 'When someone works in an office, even if it is part-time or freelance, they may be required to measure distances e.g., in departments or cubicles, and so, offices are a good place to find ruler.']\n"
     ]
    },
    {
     "name": "stderr",
     "output_type": "stream",
     "text": [
      "\r",
      "  4%|█████▉                                                                                                                                                             | 36/986 [21:56<10:42:54, 40.60s/it]"
     ]
    },
    {
     "name": "stdout",
     "output_type": "stream",
     "text": [
      "generated explanation: <pad> <extra_id_0> Multiple rulers are typically found in an office setting, such as a desk, a chair, a desk desk, or a desk. Multiple rulers can be used to represent different people, such as a boss, a manager, or a homeowner. Multiple rulers can be used to represent different people, such as a business owner, a homeowner, or a business professional. Multiple rulers can be found in an office setting, such as a business office, home office, or any other place that has multiple people, such as a business, such as a business, or in an office. Multiple rulers can also be used to create or to help employees, as a business, or to help with different people. Furthermore, multiple people can be found in an office, such as a business, or in different departments. The office is a business owner can have multiple rulers in different departments, such as a business, such as a business owner, or an office. The office is a place where multiple ruler can be found in a business, or in an office. Multiple ruler can be found in a business office, or in an office, or in an office. This allows multiple people who can have different departments, such as an office.</s>\n",
      "########\n",
      "*******\n",
      "question: When remembering you referencing things that you have what?\n",
      "answer: prior knowledge of\n",
      "choices: ['memory cells', 'learning about', 'prior knowledge of', 'brain cells', 'nerve cells']\n",
      "common expl list: ['Most of the things a person knows come from learning in the past and usually have some recollection involved.']\n"
     ]
    },
    {
     "name": "stderr",
     "output_type": "stream",
     "text": [
      "\r",
      "  4%|██████                                                                                                                                                             | 37/986 [23:25<14:32:16, 55.15s/it]"
     ]
    },
    {
     "name": "stdout",
     "output_type": "stream",
     "text": [
      "generated explanation: <pad> <extra_id_0> When remembering you rely on your prior knowledge of something that you have done, seen, or experienced. This knowledge can help you recall the information in a meaningful way. For example, you may have remembered a specific piece of information that you were given, or a specific piece of information that you were told by someone else. This can help you recall the information in a meaningful way. Prior knowledge can also help you understand the context of the memory, and help you make better decisions. Prior knowledge can also help you remember things that you were able to make decisions, or recalling things that you have done. This can also help you remembering things that you have referring to recalling things that you have been given the context of the past. This can also help you to recall things that you have already know how to remembering them. Prior knowledge can help you remember things that you have done. This can help you recall things that you have used to remembering things that you have done in the future. This can also help you to recalling the past. This can help you have referencing things that you have been through the past. This can help you remember things that you have previously. It can help you to recall things that you have previously reference things that you have referencing things that you have. It can also help you remember what you have already remembered. It can also help you remembering you have referring to refer back to remember things that you have referencing them.</s>\n",
      "########\n",
      "*******\n",
      "question: After running twenty six miles he felt like he had lost twenty six pounds, this was from all the what?\n",
      "answer: sweat\n",
      "choices: ['exercise', 'sweat', 'pass out', 'collapse', 'drink water']\n",
      "common expl list: ['Sweating is a way to cool down the body, and so after running for a long time, a person might sweat a lot.']\n"
     ]
    },
    {
     "name": "stderr",
     "output_type": "stream",
     "text": [
      "\r",
      "  4%|██████▎                                                                                                                                                            | 38/986 [24:21<14:37:05, 55.51s/it]"
     ]
    },
    {
     "name": "stdout",
     "output_type": "stream",
     "text": [
      "generated explanation: <pad> <extra_id_0> After running twenty six miles he felt like he had lost twenty six pounds because of all the sweat he had produced. Sweating is the body’s natural response to physical stress, and it is a natural way to lose weight. Sweating is a natural detox and cleansing process that helps to regulate the body temperature, allowing it to function more effectively and efficiently. It also helps to regulate the body’s natural pH levels, allowing it to absorb more nutrients and metabolize waste products. This helps to flush away from the body to keep the body sweating and a constant flow of sweat throughout the body. It is also a great way to help to lose weight and it helps to gain muscle mass, which is a natural way to lose weight and help to sweat, which helps to lose weight. It also helps to lose weight by increasing the sweat content in the body to sweat, which helps to lose weight and helps to lose weight. The sweat helps to lose pounds and helps to lose weight. This is a natural way to lose weight, and it is a natural way to lose the sweat to help to lose the body to lose weight. This helps to increase sweat and reduce the body’s natural a man’s natural way to lose weight. This is due to the sweat and the way to lose weight and it helps to lose weight.</s>\n",
      "########\n",
      "*******\n",
      "question: In what western sate might one find a bald eagle?\n",
      "answer: colorado\n",
      "choices: ['captivity', 'colorado', 'zoo', 'canada', 'in washington']\n",
      "common expl list: ['Eagles are native to the western United States, and Colorado is a western state.']\n"
     ]
    },
    {
     "name": "stderr",
     "output_type": "stream",
     "text": [
      "\r",
      "  4%|██████▍                                                                                                                                                            | 39/986 [25:30<15:38:41, 59.47s/it]"
     ]
    },
    {
     "name": "stdout",
     "output_type": "stream",
     "text": [
      "generated explanation: <pad> <extra_id_0> A bald eagle is found in the state of Colorado, which is located in the western part of the United States. This is due to the fact that the eagle is a species of bird that is native to the area and is considered a species of special concern. Bald eagles are usually found in the northern part of the state, in the mountains and valleys, and in the deserts. Bald eagles are usually found in the mountains, but in the southwest, they are common in the wild in the wild in the wild in the wild. Bald a rare and in the wild in the wild, but can be found in the state. Bald els are found in the wild in the mountains and other side of the Rocky Mountains. Baldogles are often found in the mountains and the state. Baldogles are often found in the mountains and in the state of Colorado. Bald es can be seen in the mountains, and are often found in the west. Bald es live in the mountains of the Rocky Mountain West. Bald Eagles are often seen in the winter. Bald es are also known as a es can be seen in the mountains. Bald es are often seen in the mountains. The es are often seen in the wild in the mountains and often seen in the valleys.</s>\n",
      "########\n",
      "*******\n",
      "question: When a retired person returns to work they likely need to do what?\n",
      "answer: earn money\n",
      "choices: ['key', 'earn money', 'get out of bed', 'need money', 'understand themselves']\n",
      "common expl list: ['When a person is retired, they probably are not making enough money through a pension benefit to support themselves after retirement, so they work again, perhaps full-time, in order to have enough money.(money key)']\n"
     ]
    },
    {
     "name": "stderr",
     "output_type": "stream",
     "text": [
      "\r",
      "  4%|██████▌                                                                                                                                                            | 40/986 [27:34<20:44:59, 78.96s/it]"
     ]
    },
    {
     "name": "stdout",
     "output_type": "stream",
     "text": [
      "generated explanation: <pad> <extra_id_0> When a retired person returns to work, they likely need to earn money. Earning money is the primary reason a person returns to work, as it is the only way to provide for their family and provide for their loved ones. Earning money is also a way to provide for their own living expenses, such as heating, cooking, and transportation. Earning money is also a way to make ends meet and to keep a roof over their head. Earning money is a way to provide for their family and provide for their own personal growth, and to provide for their retirement. Earning money is a great way to help others. Earning money is also a person’s to provide for their retirement by earning money for their health, which can lead to further development. Additionally, a person’s health insurance and retirement can provide for their family and health care for their health care for their children and to provide for their future. Earning money can be used for medical care or for their retirement. Earning money can help to provide for their family and provide them with a sense of security and security. Earning money can provide a way to provide for their health and financial security. This way to provide a sense of security and security and security. Earning money can provide security and security. It is a way to provide for their health and security. Earning money can provide security and security for their health. Earning a means that they can provide for their family and security.</s>\n",
      "########\n",
      "*******\n",
      "question: What can be the result of meeting people with similar attitudes?\n",
      "answer: making new friends\n",
      "choices: ['anxiety', 'being bored', 'love', 'making new friends', 'new job']\n",
      "common expl list: ['People with similar interests are likely to be friends, or familiars to each other, having many opportunities to meet each other and have things in common to discuss.', \"Friends often share some interests and/or attitudes, and when someone meets people with similar attires, that's a good indicator they might be good candidates for becoming friends.\"]\n"
     ]
    },
    {
     "name": "stderr",
     "output_type": "stream",
     "text": [
      "\r",
      "  4%|██████▊                                                                                                                                                            | 41/986 [28:24<18:25:59, 70.22s/it]"
     ]
    },
    {
     "name": "stdout",
     "output_type": "stream",
     "text": [
      "generated explanation: <pad> <extra_id_0> Making new friends is a natural result of meeting people with similar attitudes. It can be a positive experience for both you and them. People with similar attitudes can share their experiences, ideas, and opinions. They can also share common interests and hobbies, such as sports, reading, and music. Having new friends can lead to new friendships, and new friendships can lead to new friendships. This can lead to new relationships and new friendships that can be formed as a result of meeting people with similar attitudes. Friendships can also lead to a new friendships, which can lead to new friends. This can lead to new friends and friendships that can lead to develop. It can also lead to a positive effect on the future. It can also lead to a new friendships that can lead to the process of friendships. Moreover, it can lead to make new friends through the introductions that it can lead to a new friendships and can lead to develop new friendships with people with similar attitudes. It can lead to a positive effect on the person.</s>\n",
      "########\n",
      "*******\n",
      "question: Danny noticed a ceramic object on the table and picked a grape out of it.  What might have been on the table?\n",
      "answer: bowl of fruit\n",
      "choices: ['kitchen', 'painting of fruits', 'fruit basket', 'bowl of fruit', 'fruit stand']\n",
      "common expl list: ['A bowl of fruit is an appropriate item to put on a table, as it can hold many kinds of fruit.']\n"
     ]
    },
    {
     "name": "stderr",
     "output_type": "stream",
     "text": [
      "\r",
      "  4%|██████▉                                                                                                                                                            | 42/986 [30:27<22:33:55, 86.05s/it]"
     ]
    },
    {
     "name": "stdout",
     "output_type": "stream",
     "text": [
      "generated explanation: <pad> <extra_id_0> Danny noticed a ceramic object on the table and picked a grape out of it. The fruit was picked up from the bowl because it was a bowl of fruit, and it was a bowl of fruit. The bowl of fruit is usually made of ceramic, which makes it a good choice for a snack or dinner plate. The bowl of fruit is usually made of ceramic, which makes it easier for Danny to pick the grapes from the bowl. The fruit is usually picked from the bowl because it is easier to pick the fruit from the table, which is often found on the table. The grapes are also a good choice for the table, as it was not necessarily a bowl of fruit, but also a fruit, so it was likely a fruit, which is a great idea for Danny to pick the bowl, as it was a great choice for a great way to pick a fruit bowl for a great choice for a gift for a birthday party or a great way to pick a great choice for a dessert. The bowl of fruit is a great way to pick a great choice for a great gift for someone who is a great choice for a gift for someone who knows what they are a great choice for someone who wants to pick it is a gift for someone who wants to pick out of a gift for a gift for someone who knows that Danny will make a great idea for a special occasion or just<extra_id_27> </s>\n",
      "########\n",
      "*******\n",
      "question: The nose dipped and alarms went off inside the what?\n",
      "answer: aircraft\n",
      "choices: ['car', 'sniff', 'aircraft', 'upper respiratory tract', 'missile']\n",
      "common expl list: ['The nose dips and alarms go off inside the cockpit of an aircraft when the nose of the aircraft dips too low.']\n"
     ]
    },
    {
     "name": "stderr",
     "output_type": "stream",
     "text": [
      "\r",
      "  4%|███████                                                                                                                                                            | 43/986 [31:13<19:24:14, 74.08s/it]"
     ]
    },
    {
     "name": "stdout",
     "output_type": "stream",
     "text": [
      "generated explanation: <pad> <extra_id_0> The nose dipped and alarms went off inside the aircraft. This is because the nose of the aircraft was dipping and the sensors were triggering. The sensors are triggering an alarm system that is activated when the nose dipped. This alarm system is activated when the aircraft is in motion and the aircraft is unable to keep up with the speed of the aircraft. This is because the sensors are unable to sense the temperature of the air, causing the nose to dip and the nose to dip. The nose dipped and this is a flight safety issue. The alarms went off because the nose aflight was not being able to be a flight. The nose dipped and alarms caused a number of alarms inside the aircraft to help to alerts to the pilots. The nose d and alarms went off in the cockpit. The nose dipped and alarms went off in the cockpit. The nose dipped and the nose docking the aircraft to alerts and<extra_id_26>. The nose dipped and alarm systems were able to send signals to the aircraft to<extra_id_27> of the nose dipped and alarms went off.</s>\n",
      "########\n",
      "*******\n",
      "question: Where is a cord likely to be on a tent?\n",
      "answer: sporting goods store\n",
      "choices: ['inside tent', 'delivery room', 'hardware store', 'backpack', 'sporting goods store']\n",
      "common expl list: ['Sporting goods stores likely have tents on display which generally come with their cords.']\n"
     ]
    },
    {
     "name": "stderr",
     "output_type": "stream",
     "text": [
      "\r",
      "  4%|███████▎                                                                                                                                                           | 44/986 [31:52<16:36:45, 63.49s/it]"
     ]
    },
    {
     "name": "stdout",
     "output_type": "stream",
     "text": [
      "generated explanation: <pad> <extra_id_0> A cord is a piece of equipment that is used to control the temperature and light levels in a tent. It is typically located in the top shelf of a sporting goods store. A cord is typically attached to a tent to provide a secure place to hang a tent or other portable equipment. It is also commonly found on other items such as lights, power cords, and other accessories. A cord can be attached to a stake or stake to provide stability and stability. A cord can also be attached to a stake or stakes for if needed to be secured to a tent or tent poles or other items such as a stake or stakes. A cords can be removed from a tent or other items, or simply removed. A cord is typically is replaced when it is replaced every year. A cord can be replaced with another cord can be replaced by a tent or other items. A cord can be found at sporting goods store can also be replaced by a simple replacement or replacement. A cord can also be replaced or a tent or other items.</s>\n",
      "########\n",
      "*******\n",
      "question: The man reduced the town to rubble out of hate, what was his goal?\n",
      "answer: destroy enemy\n",
      "choices: ['wage war', 'play nice', 'fight enemy', 'stab to death', 'destroy enemy']\n",
      "common expl list: ['someone who is completely obsessed with destroying an enemy (going so far as to want them completely obliterated from existance) is not a person who is playing nice.']\n"
     ]
    },
    {
     "name": "stderr",
     "output_type": "stream",
     "text": [
      "\r",
      "  5%|███████▍                                                                                                                                                           | 45/986 [31:56<11:55:21, 45.61s/it]"
     ]
    },
    {
     "name": "stdout",
     "output_type": "stream",
     "text": [
      "generated explanation: <pad> <extra_id_0> The man reduced the town to rubble out of hate. His goal was to destroy enemy towns and cities. This was his way of expressing his hatred. He wanted to destroy the towns and cities they occupied. He wanted to do this to show his power and to show that he was a hero. He wanted to show his respect and to show his loyalty. He wanted to show that he was a hero and to show his support for the people of the town. He wanted to show that he was a herot.</s>\n",
      "########\n",
      "*******\n",
      "question: The toddler thought it would be fun to try eating breakfast in bed, what resulted?\n",
      "answer: mess\n",
      "choices: ['contentment', 'indigestion', 'vomiting', 'mess', 'catastrophe']\n",
      "common expl list: [\"Toddlers have poor coordination.  Even if they could somehow manage to not fall off the bed, it's likely that they would spill the food that they took with them to bed.  A mess would be made.\", \"Toddlers like to explore and test their own boundaries. They often don't know their limits, and it's common for their behavior to result in a mess. In the toddler's case, it involved getting breakfast on the bed due to his inexperience\"]\n"
     ]
    },
    {
     "name": "stderr",
     "output_type": "stream",
     "text": [
      "\r",
      "  5%|███████▋                                                                                                                                                            | 46/986 [32:02<8:49:46, 33.81s/it]"
     ]
    },
    {
     "name": "stdout",
     "output_type": "stream",
     "text": [
      "generated explanation: <pad> <extra_id_0> The toddler thought it would be fun to eat breakfast in bed because it is a safe place for them to eat and play. It also allows them to explore their surroundings and make friends with other toddlers. Eating breakfast in bed is a great way for them to practice eating and playing together in a safe environment. It also allows them to explore their surroundings and make friends with other toddlers. Eating in bed can also lead to a lot of mess, which can lead to more serious health problems later on. Eating in the toddler can lead to a mess, which can lead to a mess. It is also a mess can lead to a toddler developing into a mess if they are given the mess.</s>\n",
      "########\n",
      "*******\n",
      "question: He had a hard time getting his father's attention, he hoped that the winning baseball game would finally get him some what?\n",
      "answer: recognition\n",
      "choices: ['confirmation', 'celebrating', 'pride', 'recognition', 'happiness']\n",
      "common expl list: ['One way to gain recognition from ones parents is by accomplishing things that they value. For example, children might hope to make their parents proud of them by excelling at sports.']\n"
     ]
    },
    {
     "name": "stderr",
     "output_type": "stream",
     "text": [
      "\r",
      "  5%|███████▊                                                                                                                                                            | 47/986 [32:27<8:06:12, 31.07s/it]"
     ]
    },
    {
     "name": "stdout",
     "output_type": "stream",
     "text": [
      "generated explanation: <pad> <extra_id_0> He had hoped that the winning baseball game would finally get his father's attention, he had a hard time getting his father's attention because he was always trying to get his attention. He had been trying to get his father's attention for years, but he was still struggling to get his father's attention. He was hoping that the winning baseball game would finally get him recognition, and he was right. The winning baseball game would hopefully get him the father's attention, and finally get him some recognition. The winning baseball game would also help him gain some recognition for his efforts to get his father's attention, and recognition. The winning baseball game would hopefully get his father's attention, and his son would be able to get his father's attention, and hoped that the winning baseball would get his father's attention. The winning baseball game would also help him get his son's father's attention, and he would finally get his father's attention.</s>\n",
      "########\n",
      "*******\n",
      "question: The toddler is awaking from a nap, what doesn't he feel anymore?\n",
      "answer: tiredness\n",
      "choices: ['nervous', 'eyes opening', 'getting out of bed', 'tiredness', 'discomfort']\n",
      "common expl list: ['Children can easily get tired at their ontervall and a nap is an effective way for them to get over tiredness. Then when they wake up, they do not feel tiredness any longer.']\n"
     ]
    },
    {
     "name": "stderr",
     "output_type": "stream",
     "text": [
      "\r",
      "  5%|███████▉                                                                                                                                                            | 48/986 [33:11<9:08:28, 35.08s/it]"
     ]
    },
    {
     "name": "stdout",
     "output_type": "stream",
     "text": [
      "generated explanation: <pad> <extra_id_0> The toddler is waking from a nap and he doesn't feel any more tired. This is because he is tired, and he has a lot of energy to burn. Therefore, he may feel a little tired, and he may also feel a little dizzy. This is because he has a lot of energy stored up, which can lead to fatigue. This is because his body is not used to the increased energy and oxygen that comes from the nap. This is because the toddler is tired because a toddler may feel fatigue, and he is tired. This is due to the toddler is tiredness, which can cause sleep. Additionally, the toddler may feel a little bit dizzizzzzzzzzzzzzzzzzzzzzzzzzzzzzzzzzzzzzzzzzzzzzzzzzzzzzzzzzzzzzzzzzzzzzzzzzzzzzzzzzzzzzzzzzzzzzzzzzzzzzzzzzzzzzzzzzzzzzzzzzzzzzzzzzzzzzzzzzzzzze azzzzzzzzzzzzzzzzzzzzzz szzezzzzzzzzzzzzzzzzzz.</s>\n",
      "########\n",
      "*******\n",
      "question: John listened to music when he needed to focus.  It helped him achieve what?\n",
      "answer: quiet mind\n",
      "choices: ['express emotion', 'beautifull', 'irritate', 'bad environment', 'quiet mind']\n",
      "common expl list: [\"When one is trying to focus on a task, it's common to listen to music to help one focus.\", 'Music can, at the very least, provide passive background noise as one works to help one focus. More specifically, music might have positive, uplifting or emotional qualities that are conducive to focus and concentration.', \"There's scientific evidence that listening to music can help people think better and concentrate easier.\"]\n"
     ]
    },
    {
     "name": "stderr",
     "output_type": "stream",
     "text": [
      "\r",
      "  5%|████████                                                                                                                                                           | 49/986 [34:09<10:53:04, 41.82s/it]"
     ]
    },
    {
     "name": "stdout",
     "output_type": "stream",
     "text": [
      "generated explanation: <pad> <extra_id_0> John listened to music when he needed to focus. Music helps him focus and focus in a quiet, focused environment. It also helps him to relax and unwind. John also found that listening to music when he needed to focus helped him to relax and unwind. Music also helps him to focus and unwind. Music can also help to relax and unwind the body, as it can help to relax the mind and calm the body. Music can also help to focus attention and relax the mind. This can be done by listening to music or allowing John to focus on oneself. Music can help him to achieve his goals. It can help him to achieve his goals. It can help him to achieve goals by helping to achieve a quiet mind and focus. It can help him to achieve his goals and achieve his goals. Music can also help him to focus his mind by providing a quiet mind and unwind. Music can help him to achieve his goals. It can help him to achieve his goals and focus his mind. It can help him to achieve his goals. Music can provide a quiet mind and focus on his day. It can help him to focus and focus his mind. Music can also help him to achieve his goals and focus on his goals and relax and focus his overall health.</s>\n",
      "########\n",
      "*******\n",
      "question: If I were to suffer from sudden illness I would be within reason to visit where?\n",
      "answer: hospital\n",
      "choices: ['nursing home', 'hospital', 'brain', 'elderly person', 'building']\n",
      "common expl list: ['Anyone can suffer a sudden illness, but hospitals are where the equipment and personnel exist to deal with sudden illnesses.', 'If you were suddenly suffering an illness, it would be a reasonable thing to go to the hospital for treatment of that illness.', 'A hospital is a place where people go to receive treatment for illnesses.', 'A hospital is a center for treatment and care of those suffering from illness.']\n"
     ]
    },
    {
     "name": "stderr",
     "output_type": "stream",
     "text": [
      "\r",
      "  5%|████████▎                                                                                                                                                          | 50/986 [35:37<14:29:12, 55.72s/it]"
     ]
    },
    {
     "name": "stdout",
     "output_type": "stream",
     "text": [
      "generated explanation: <pad> <extra_id_0> A hospital visit is the best place to go if you are suffering from sudden illness. Hospitals are a place where medical professionals can provide the care you need. They can provide the care you need and the expertise to help you through the difficult times. In addition, hospital visits are often a time for patients to seek treatment and get well. Hospitals are often staffed by doctors who have the necessary training and experience to provide the best care possible. This can help to ensure that the patient is given the best possible treatment and care. Hospital visits can be a hospital if necessary. Moreover, hospitals can provide the necessary to treat any sudden illness and emergency medical professionals who can provide the best care and help with any problems that can be easily diagnosed and treated. This is the best treatment and care. Furthermore, hospitals offer the best way to get the best treatment and care that is the best possible. This is the best way for patients to ensure that they are treated and treated. This is the best way to ensure that the patient is treated and treated. Hospital is the best care and is the best treatment. Furthermore, hospitals are the best way to ensure that the patient is a quick and safe and treatment. This is the best medical care and is a place for patients to get the best treatment. This is also a great option for patients. This is because it is a place to get treatment and care. This is an important part of a person and can provide the best treatment.</s>\n",
      "########\n",
      "*******\n",
      "question: John kept standing up.  He was afraid that if he were sitting down he might do something. What might he be afraid of?\n",
      "answer: fall asleep\n",
      "choices: ['fall asleep', 'being supported on chair', 'comfort', 'clowns', 'flatulence']\n",
      "common expl list: ['Sitting down makes one comfortable; sitting down with eyes closed makes one fall asleep.', 'When standing, the chances of falling asleep abruptly would be much less (assuming that one is awake).']\n"
     ]
    },
    {
     "name": "stderr",
     "output_type": "stream",
     "text": [
      "\r",
      "  5%|████████▍                                                                                                                                                          | 51/986 [36:54<16:08:24, 62.14s/it]"
     ]
    },
    {
     "name": "stdout",
     "output_type": "stream",
     "text": [
      "generated explanation: <pad> <extra_id_0> John was afraid that if he were sitting down he might do something. He was afraid that if he were sitting down he might do something and fall asleep. He was afraid that if he were sitting down he might do something and fall asleep. Falling asleep is a very normal process that occurs in the body, and it is a very natural process. It is a natural process that occurs in the body when we are awake and alert. Falling asleep is a natural process that occurs in the body and brain waves that help us sleep. John was afraid that he might do something and would cause him to fall asleep. This is because it is a natural response to the same way that can cause a very different actions that would cause him to fall asleep. Fall asleep is a fear that John was doing something that he was doing something that he would cause him to cause him to feel a change in his body. He was afraid that he would cause him to become more easily. Because of this, John was a natural process that occurs naturally in the body and it is a natural response to fall asleep. This is a natural response to make it is a natural and is a natural process that is a natural response. He was afraid of being if he was not doing something and a natural process that it would cause him to fall asleep.</s>\n",
      "########\n",
      "*******\n",
      "question: He didn't know that good things can be posion in large doses.  He thought that he was just eating an essential what?\n",
      "answer: nutrient\n",
      "choices: ['antidote', 'consumable', 'nutrient', 'vitamin', 'medicine']\n",
      "common expl list: ['He thought that he was just eating an essential nutrient, but in large doses, it could be poisonous.']\n"
     ]
    },
    {
     "name": "stderr",
     "output_type": "stream",
     "text": [
      "\r",
      "  5%|████████▌                                                                                                                                                          | 52/986 [37:36<14:33:53, 56.14s/it]"
     ]
    },
    {
     "name": "stdout",
     "output_type": "stream",
     "text": [
      "generated explanation: <pad> <extra_id_0> He thought that he was just eating an essential nutrient in large doses. Essential nutrients are essential nutrients that are essential for the health of the body. Essential nutrients are essential for the body and can be found in large doses in food. Essential nutrients include vitamins, minerals, and antioxidants. Essential nutrients are also essential for the body's overall function and maintenance of healthy cells. Essential nutrients are also essential for the body's overall health and development. Essential nutrients are found in foods such as whole grains, vegetables, and proteins. Essential nutrients are important for the body. Essential nutrients such as antioxidants, protein, calcium, iron, calcium, zinc, magnesium, iron, calcium, as well as calcium, and magnesium. The body can provide the body with essential nutrients that are essential nutrients in large doses of the body needs for energy, protein, as well as the body needs to support the growth and development of the brain, a healthy growth and development. In addition, the brain and development are essential for the body's overall health. Essential nutrients provide the energy, calcium, as well as vitamin and protein.</s>\n",
      "########\n",
      "*******\n",
      "question: The police didn't pay any favors, their job was to what?\n",
      "answer: force law\n",
      "choices: ['force law', 'board vessels', 'arrest', 'arm weapons', 'direct traffic']\n",
      "common expl list: ['Police are usually tasked with upholding the law, and if they see a law being broken they will intervene (forceful intervention); moreover, they also coordinate with other officers (direct traffic and board vessels). These activities do not involve favors.']\n"
     ]
    },
    {
     "name": "stderr",
     "output_type": "stream",
     "text": [
      "\r",
      "  5%|████████▊                                                                                                                                                          | 53/986 [39:10<17:27:33, 67.37s/it]"
     ]
    },
    {
     "name": "stdout",
     "output_type": "stream",
     "text": [
      "generated explanation: <pad> <extra_id_0> The police didn't pay any favors, their job was to<extra_id_1> They were there to enforce the law, and they were there to enforce the law. The police were there to enforce the law, and they were there to enforce the law. The police were there to ensure that the public was treated fairly and fairly. The police were there to ensure that the public was protected and that the law was followed. The police were there to ensure that the public was treated fairly and that the law was followed. The police were there to ensure that the public was not a crime was being committed, and that the public were not simply to make it clear that the public. The police were there to enforce the law, and to ensure that the public safety. The police were there to ensure that the public was not involved. The police were there to ensure that the public was treated fairly and that the law was applied to ensure that the public was not a fair chance to prevent any further. The police were there to ensure that the public was treated in a fair and that the same as they were not a way to ensure that the public. The police were there to ensure that the law was a fair and that the public was not a way to ensure that the public. The police were not there to ensure that the public was treated with a fair and that the public were able to ensure that the public was a fair and that the public was not used to ensure that the public. The police were there to ensure that the public was beings that the public was in a fairness and that the public were not</s>\n",
      "########\n",
      "*******\n",
      "question: The place specialized in colorful arrangements, but the also had a toy balloon or two where?\n",
      "answer: flower shop\n",
      "choices: ['see work', 'birthday party', 'flower shop', 'parade', 'toy store']\n",
      "common expl list: ['Batches of balloons are available at flower shops, where floral arrangements are sold, and rainbow contruction paper is usually found in art shops and classrooms.', 'Flower shops sell interesting arrangements made with colorful flowers.']\n"
     ]
    },
    {
     "name": "stderr",
     "output_type": "stream",
     "text": [
      "\r",
      "  5%|████████▉                                                                                                                                                          | 54/986 [40:06<16:35:37, 64.10s/it]"
     ]
    },
    {
     "name": "stdout",
     "output_type": "stream",
     "text": [
      "generated explanation: <pad> <extra_id_0> The place specialized in colorful arrangements, but also had a toy balloon or two or three. The shop specialized in flower arrangements, but also had a toy balloon or two or three or four or five toy balloons. The shop also had a toy balloon or two, which was a nice touch. The shop also had a toy balloon or two, which was a nice touch. The shop also had a toy balloon and a toy balloon set, which was a nice touch. The shop also had a toy balloons, which were a toy balloon or two. The place also had a toy balloons and balloons, which added toy balloons, which added to the fun. The shop was also had a toy balloons, which was a toy balloon or two. The place was specialized in colorful arrangements, and the balloons were a fun and were a toy balloon or two or two or three or two, and were a toy balloon or two. The flower shop also had a toy balloon, which was a toy balloon or two. The balloons were a fun way toy balloon or two or three or two.</s>\n",
      "########\n",
      "*******\n",
      "question: Where was there never any mammoth?\n",
      "answer: zoo\n",
      "choices: ['wild', 'north dakota', 'forest', 'movie', 'zoo']\n",
      "common expl list: ['Mammoths are extinct, and zoos are places where animals are kept for observation and study.']\n"
     ]
    },
    {
     "name": "stderr",
     "output_type": "stream",
     "text": [
      "\r",
      "  6%|█████████                                                                                                                                                          | 55/986 [40:46<14:42:16, 56.86s/it]"
     ]
    },
    {
     "name": "stdout",
     "output_type": "stream",
     "text": [
      "generated explanation: <pad> <extra_id_0> Mammoths are a feared animal that has been spotted in the wild for thousands of years. They are a common sight in many places around the world, including the zoos. They are often found in areas that are not prone to mammalian extinction, such as the Amazon rainforest, where there is a large population of the mammal, and the Amazon basin, where there is a smaller population of humans. Zoos are also known to have a large mammalian zoths, as they are often found in the wild animals, which are often found in a variety of animals that live in the wild, such as the Amazon, the wild animals, and their natural environment. Mamma zot could have been found in the wild, or in the past. Zoos also often contain animals that are often times of the mamma large enough to keep their natural environment. Zoos are also often have been seen in the wild, which is often zoos to keep mammo.</s>\n",
      "########\n",
      "*******\n",
      "question: Why do most people engage in chatting with friends?\n",
      "answer: fun\n",
      "choices: ['fun', 'love', 'answers', 'inspiration', 'relaxation']\n",
      "common expl list: ['Chats with friends are often fun, and thus people engage in them for that reason.']\n"
     ]
    },
    {
     "name": "stderr",
     "output_type": "stream",
     "text": [
      "\r",
      "  6%|█████████▎                                                                                                                                                         | 56/986 [42:16<17:17:09, 66.91s/it]"
     ]
    },
    {
     "name": "stdout",
     "output_type": "stream",
     "text": [
      "generated explanation: <pad> <extra_id_0> Chatting is a great way to have fun with friends and make new connections. It can be a great way to make new friends and make new ones. Chatting with friends is a great way to make new friends and make new ones. It can also be a way to make new ones and make new ones. Chatting with friends is a great way to make new connections and make new ones. Chatting with friends is a great way to make new friends and make new ones. It can also be a great way to make new people and make new people laugh and make new people and make new and share experiences. It is also a great way to make new people meet new people and make new things. Chatting with friends is also a great way to have fun and make new memories. Chat with friends is a great way to have fun and make new people laugh and enjoy new experiences. Chatting with friends can also be a great way to make new friends and make new friends. Chat with friends is fun and can be a great way to make new people feel comfortable and make new and make new friends. It is a great way to have fun and make new friends. Chat with friends and make new people feel good way to have fun. It can also be a way to have fun and make new friends. It is a great way to have fun and it is also a great way to make new friends and make new people. It can be a great way to make new friends and make new friends and make new friends and make new memories.</s>\n",
      "########\n",
      "*******\n",
      "question: What could happen after discovering truth that you did not want to know?\n",
      "answer: pain\n",
      "choices: ['pain', 'relief', 'grey hair', 'understanding', 'enlightenment']\n",
      "common expl list: ['Truth can be painful, and discovering it can cause pain.']\n"
     ]
    },
    {
     "name": "stderr",
     "output_type": "stream",
     "text": [
      "\r",
      "  6%|█████████▍                                                                                                                                                         | 57/986 [43:03<15:41:37, 60.82s/it]"
     ]
    },
    {
     "name": "stdout",
     "output_type": "stream",
     "text": [
      "generated explanation: <pad> <extra_id_0> Pain is the most common emotion experienced by people after discovering truth. It is a natural reaction to learning something new, but it can also be a source of frustration and anxiety. It can be a source of a sense of loss, or a feeling of being overwhelmed by the information you have discovered. It can be a feeling of being overwhelmed, of being overwhelmed, of being overwhelmed, of being overwhelmed, of feeling overwhelmed, of being alone, of being alone, or of being exposed to information that you had previously been denied. This is a common reaction to the realization that you have been exposed to the truth. This can cause you to feel the knowledge you have been exposed to information that you have been living for the truth. It can also be a sense of being forced to accept that you have discovered by learning and to accept the truth. This can cause you to suffer from the pain that comes with the realization that you have been blind to the truth and to accept the truth. This is a sense of being in the truth that you have been forced to accept the truth. This can lead to a sense of being forced to accept the truth that you have been forced to accept the knowledge that you have been exposed.</s>\n",
      "########\n",
      "*******\n",
      "question: What will an athlete do to warm up their legs?\n",
      "answer: jog\n",
      "choices: ['use heater', 'sprint', 'jog', 'run fast', 'compete']\n",
      "common expl list: ['When athletes warm up before swimming, running, riding a bike, or performing other physical activity, they generally will jog (which will help them loosen muscles in the legs).', 'warming up is a routine that is performed to either prepare for doing something new, or prepare for doing something which put strains on you, or which you have been out of practice doing.']\n"
     ]
    },
    {
     "name": "stderr",
     "output_type": "stream",
     "text": [
      "\r",
      "  6%|█████████▌                                                                                                                                                         | 58/986 [44:01<15:28:09, 60.01s/it]"
     ]
    },
    {
     "name": "stdout",
     "output_type": "stream",
     "text": [
      "generated explanation: <pad> <extra_id_0> A jog is a great way to warm up your legs. It is a great way to get your blood flowing and to get your muscles working. It is a great way to get your heart rate up and your blood flowing, which can help increase your heart rate. It also helps to get your blood flowing more quickly, which can help with recovery. Jogging is a great way to warm up your legs because it helps to warm up your legs and it also helps to get your heart rate up. This helps to increase your heart rate of your blood circulation, which helps to keep your muscles warm up. It is a great way to get your legs warm up and it will help to get your heart rate. It is also a great way to get your blood flowing and your legs are a good way to get your heart rate. It is a great way to get your heart rate and muscle toned. It is a great way to get your heart rate and to get your heart rate up your legs. It’s your muscles are a great way to get your blood flowing and to get your legs moving. It is a great way to get your heart rate. It is a great way to warm up your legs and improve your overall.</s>\n",
      "########\n",
      "*******\n",
      "question: Where can you keep your binder on your person between periods of instruction?\n",
      "answer: backpack\n",
      "choices: ['class room', 'car', 'office supply store', 'backpack', 'bookcase']\n",
      "common expl list: ['Usually binder users carry their binders from class to class outside of the classroom. Backpacks are often convenient, and are large enough to hold the binder.']\n"
     ]
    },
    {
     "name": "stderr",
     "output_type": "stream",
     "text": [
      "\r",
      "  6%|█████████▊                                                                                                                                                         | 59/986 [46:54<24:09:23, 93.81s/it]"
     ]
    },
    {
     "name": "stdout",
     "output_type": "stream",
     "text": [
      "generated explanation: <pad> <extra_id_0> A backpack is a great way to keep your binder organized and close to hand during instruction. It is a great way to keep your binder organized and close to hand when needed. It also allows you to easily access the binder’s contents from a variety of places, such as a desk, a purse, a pocketbook, or a mobile device. A backpack also allows you to easily access the contents of your binder while on the go, such as a smartphone, tablet, or computer. It also allows you to easily access to your binder while you are needed for quick access to the binder when you need of information quickly and easily accessible when you need to keep your binder on your person. A backpack is also allows you to access to easily access your binder, and easily access your binder from a variety of other items, such as a compact size, or a compact size, or even when you need to be easily and easily access your binder when you need to keep your binder on your person. It is easy to access to keep your binder when you need to access your binder. A backpack is a convenient way to store your binder on your person. A backpack can be a convenient way to access to a binder on your person, making it easy access to your binder, or for quick and convenient way to keep your binder on your personal or for quick access to your binder when you need it is needed. It is a binder when you need to access it needs it needs to access it needs to your binder on your personalize your binder or use a binder while you’t have it on your person can be a binder is required, or a backpack is a great way to keep your binder on your person or a backpack makes it a great way to keep your binder while a binder on your binder can be easily access your binder keeps your binder while you need to keep your person while if you have it is an important to keep your binder on your</s>\n",
      "########\n",
      "*******\n",
      "question: In the middle of the day what will someone do because of being hungry?\n",
      "answer: have lunch\n",
      "choices: ['cook dinner', 'make bread', 'eat in restaurant', 'have lunch', 'make bread']\n",
      "common expl list: ['People often eat lunch at midday, and so, if they are hungry at midday, they might go to a restaurant to eat lunch.', \"It's common for folks to have lunch during the middle of the day.\"]\n"
     ]
    },
    {
     "name": "stderr",
     "output_type": "stream",
     "text": [
      "\r",
      "  6%|█████████▉                                                                                                                                                         | 60/986 [47:31<19:45:41, 76.83s/it]"
     ]
    },
    {
     "name": "stdout",
     "output_type": "stream",
     "text": [
      "generated explanation: <pad> <extra_id_0> A person will be hungry in the middle of the day because they are tired and need to eat. Having lunch will help them stay full and avoid feeling hungry throughout the day. Lunch is a healthy meal that is usually prepared in advance, and it is usually served hot and cold. It is also a great way to get a quick snack before bed. This is because it is easy to prepare and eat and it is a great way to stay satiated throughout the day. It is also a great way to get a snack before bed, and can help them stay full until lunch. This can help people stay full and a hungry throughout the day. It is important to take breaks in the middle of the day, so that they can get enough for the day. This is a great way to stay in the middle of the day. During the day, it is important to have a good way to get a break and get a good opportunity to get a little bit of energy and get a little bit of a little bit of a little bit of the day. This can help people stay a little more relaxed and get a little bit of energy levels.</s>\n",
      "########\n",
      "*******\n",
      "question: Where is garbage brought to by garbagemen?\n",
      "answer: landfill\n",
      "choices: ['trashcan', 'landfill', 'television', 'computer', 'dumpster']\n",
      "common expl list: ['Landfills are where all the trash in the city go to.']\n"
     ]
    },
    {
     "name": "stderr",
     "output_type": "stream",
     "text": [
      "\r",
      "  6%|██████████                                                                                                                                                         | 61/986 [48:09<16:46:36, 65.29s/it]"
     ]
    },
    {
     "name": "stdout",
     "output_type": "stream",
     "text": [
      "generated explanation: <pad> <extra_id_0> Garbage is brought to landfills because they are able to transport it safely and efficiently. Garbage is often brought to landfills because they are able to store and dispose of it in a more organized manner than a regular garbage truck. This allows garbage to be recycled and is a great way for people to spend time outdoors and reduce their carbon footprint. Garbage from garbage trucks can be safely and efficiently transported to landfills because they are able to hold up to more garbage and can be recycled. Garbage from landfills can be brought to landfills and can be recycled. Waste is also brought to landfills are often placed in a landfills because they are able to provide clean, safe, and can be recycled. Waste can be recycled and can be brought to landfills because they are a great source of waste and can be recycled. Waste is also brought to create a place to recycle. Finally, landfills are a great source of waste can be a great source of clean, and safe place to be recycled. Waste can be recycled and recycled.</s>\n",
      "########\n",
      "*******\n",
      "question: What are people doing when washing hands for a long time?\n",
      "answer: thinking\n",
      "choices: ['thinking', 'sleeping', 'use soap', 'irritation', 'cleaning dirt off']\n",
      "common expl list: ['People often think about things while they are washing their hands, and this is a good time to think about things.', 'People often just pause while washing their hands. It may be that they are thinking about something while this occurs naturally.']\n"
     ]
    },
    {
     "name": "stderr",
     "output_type": "stream",
     "text": [
      "\r",
      "  6%|██████████▏                                                                                                                                                        | 62/986 [49:37<18:28:07, 71.96s/it]"
     ]
    },
    {
     "name": "stdout",
     "output_type": "stream",
     "text": [
      "generated explanation: <pad> <extra_id_0> People wash their hands for a long time because they are doing something mental. When they are doing this, they are thinking about the process of washing their hands, thinking about the results, and how the hands are being washed, and thinking about the actions that are being taken. This can be a very useful skill to have when washing hands for a long time. It can help to organize thoughts and organize the tasks that are being done, and to keep track of the time. This can help to organize and organize the activities that are being washea long time, and to keep their hands clean. This helps to keep up with the constant washing of the process of washing hands and a long time. It can also be quite stressful for some, which can help to keep the hands clean. This can cause some people to think about the time. It can help to keep the hands clean and to stay healthy and clean. This can help to keep hands and to stay clean. It can also help to keep the hands clean and help to keep the hands dry. It can also help to keep the hands clean. By thinking about the process, and to keep the process of washing hands clean. It can also help to keep the hands clean and it easier to keep up with the process of washing hands. It can help to keep hands clean and to keep them healthy. It can also help to keep the hands clean and keep them from getting a long time. It can also help to keep the hands clean.</s>\n",
      "########\n",
      "*******\n",
      "question: What would someone say about a tube television?\n",
      "answer: obsolete\n",
      "choices: ['obsolete', 'addictive', 'entertaining', 'bycone', 'legal']\n",
      "common expl list: ['Tube televisions are no longer manufactured, and are therefore obsolete.', 'Tube televisions are obsolete, meaning that they are old and was abolished by newer technology.']\n"
     ]
    },
    {
     "name": "stderr",
     "output_type": "stream",
     "text": [
      "\r",
      "  6%|██████████▍                                                                                                                                                        | 63/986 [51:09<20:00:42, 78.05s/it]"
     ]
    },
    {
     "name": "stdout",
     "output_type": "stream",
     "text": [
      "generated explanation: <pad> <extra_id_0> A tube television is an obsolete television because it is a flat screen television. This is because it is not a flat screen television, and it is not able to show any of the channels that are available on the tube. A tube television is a flat screen television that is able to display a wide variety of channels, which can be viewed on a large screen. It is also not able to show movies, sports, or other programs on the tube, which makes it difficult to watch. Additionally, the television is not compatible with other devices, which are not compatible with the tube television. It is therefore, obsolete and is obsolete. It is not a technology, and is not suitable for people who are concerned about the legacy of the tube television. It is not a modern technology, but rather than a television. It is also obsolete, which is a tube television, and obsolete. It is obsolete because it is not compatible with other devices, and is not compatible with the television. Tubes are not compatible with modern technology, which is not available on a tube television. It is not compatible with existing television, and is not compatible with modern television, which is not a television. It is not compatible with any of the current television, and is not suitable for modern. It is obsolete because it is not compatible with existing incompatible with other devices, and is not compatible with other devices, which are obsolete.</s>\n",
      "########\n",
      "*******\n",
      "question: The man drank his coffee at work?\n",
      "answer: office\n",
      "choices: ['coffee shop', 'table', 'kitchen', 'office', 'chair']\n",
      "common expl list: ['The man probably works in an office where he could have a cup of coffee while behind his desk.', 'People often drink coffee at offices, with other co-workers.', 'The man is likely to be at work, and offices often have kitchens where coffee is made.']\n"
     ]
    },
    {
     "name": "stderr",
     "output_type": "stream",
     "text": [
      "\r",
      "  6%|██████████▌                                                                                                                                                       | 64/986 [54:30<29:22:44, 114.71s/it]"
     ]
    },
    {
     "name": "stdout",
     "output_type": "stream",
     "text": [
      "generated explanation: <pad> <extra_id_0> The man drank his coffee at work because it was a common practice in the workplace. Coffee is a great source of energy, and it is a great way to stay alert and alert during a stressful day. It also provides a great way to stay alert and alert in the face of the day's challenges. It also helps to stay focused and focused, which is important in a fast-paced work environment. Coffee is a great source of energy, and it helps to keep a sharp head and a healthy way to stay focused and perform better in the office. Coffee is a great way to stay awake at home, and it is also a great way to stay awake and can be a great way to stay motivated and engaged in the office. Coffee is a great way to stay awake and helps to stay alert and alert and alert. It is also a great way to stay focused and focused and keep you and alert. Coffee is a great source of energy-friendly beverage, which is a great source of caffeine-dependent workplace. Coffee is an excellent source of caffeine and a healthy lifestyle. Coffee is a great source of caffeine-in and alert and healthy way to stay alert and is a healthy source of energy levels. It is a great source of energy levels and reduce stress. Coffee is a great source of energy source of caffeine-in the office and is a great source of caffeine-dependent on the day. It's the coffee invigor and alert and alert. It is a great source of energy source of caffeine-dependent of caffeine and alerting the day. It is a great source of caffeine and caffeine-conscious. Coffee is a great source of coffee-a great way to help with a great source of caffeine-free and a great way to keep employees. Coffee is a great source of caffeine-dependent activity. It is a great way to keep employees. Coffee is a great source of caffeine- and a great source of energy source of coffee, and a great source of caffeine and a great source of energy source of energy- and a great way to keep a great source of coffee and a great way to keep employees a coffee and a great coffee-in a great way to stay alert and alert.</s>\n",
      "########\n",
      "*******\n",
      "question: What can he do to eliminate his ignorance?\n",
      "answer: learn new\n",
      "choices: ['find information', 'judge', 'do some research', 'find truth', 'learn new']\n",
      "common expl list: ['In this context, ignorance refers to a lack of knowledge, and obtaining new knowledge is the best way to eliminate the ignorance.', \"Learning is a way to eliminate ignorance; for example, learning a foreign language is one way to eliminate ignorance of that language's grammar.\", 'Ignorance is the state of not knowing something, and to eliminate ignorance, one must learn new things.']\n"
     ]
    },
    {
     "name": "stderr",
     "output_type": "stream",
     "text": [
      "\r",
      "  7%|██████████▋                                                                                                                                                        | 65/986 [55:30<25:12:50, 98.56s/it]"
     ]
    },
    {
     "name": "stdout",
     "output_type": "stream",
     "text": [
      "generated explanation: <pad> <extra_id_0> He is learning new things and<extra_id_1> ed<extra_id_2> He is learning new things in order to<extra_id_3> ed. Learning new things is a great way to improve his knowledge and skills. It also helps him to understand the world around him and to develop a deeper understanding of the world. This helps him to make better decisions and to develop a greater sense of self. Learning new things helps him to make better decisions. Learning new things also helps him to develop new skills and knowledge that will help him to be more productive and productive in the future. Learning is also helps him to overcome his frustrations. This helps him to become more confident and confident in the future. Learning new things will help him to improve his ability to improve his knowledge and to increase his ability to eliminate his ignorance. Learning new information will help him to eliminate his ignorance and to eliminate his ignorance. He will be able to gain a better understanding of the world and to become more aware of the world around him. Furthermore, he will be able to gain a greater sense of his own understanding of the world. This will help him to become more confident in his knowledge and to gain a greater understanding of the world around him. Ultimately, the world will help him to become more confident in his knowledge and to gain a better understanding of the world around him.</s>\n",
      "########\n",
      "*******\n",
      "question: What do humans do when in a race?\n",
      "answer: compete with each other\n",
      "choices: ['lay eggs', 'eat fruit', 'wrestle', 'compete with each other', 'draw pictures']\n",
      "common expl list: ['Humans are naturally athletic and competitive. On land, people will compete with each other by running or wrestling. Often humans race on water by swimming, or by boating with other people.']\n"
     ]
    },
    {
     "name": "stderr",
     "output_type": "stream",
     "text": [
      "\r",
      "  7%|██████████▉                                                                                                                                                        | 66/986 [56:45<23:19:59, 91.30s/it]"
     ]
    },
    {
     "name": "stdout",
     "output_type": "stream",
     "text": [
      "generated explanation: <pad> <extra_id_0> Humans compete in a race because they are social creatures and they are able to communicate with each other. In a race, humans compete to win the most points. This is done in order to gain the most points and to win the most money. Humans also compete to win the most gear, such as food, water, and shelter. Humans compete to gain the most points and to win the most money. Humans also compete to win the most money. Humans compete to win the most money and the most power. Humans also compete with each other in a race to win. In a race, humans must compete to win the most efficiently. In addition, they must compete with each other to win the most time, and to win the most points. In addition, humans must compete with each other in order to win the most efficient way to win the most time. Humans must be competitive in order to win. In a race, humans must compete with each other to win the most resources. This is a competitive spirit and to win. Humans must be able to compete with each other in a race to win. Humans must compete in order to win. This is a race for the human race to win. Humans must compete to win. Humans must compete to win. To win, humans must compete with each other in a race, and win, and to win.</s>\n",
      "########\n",
      "*******\n",
      "question: She explained that you won't always get what you want with a goal, but you should still do what with it?\n",
      "answer: reach for\n",
      "choices: ['know how to find', 'work hard', 'remember where', 'reach for', 'purchase']\n",
      "common expl list: ['Reaching for attained goals is more beneficial than simply working towards them, at least in the short term. It significantly increases your chances of success.']\n"
     ]
    },
    {
     "name": "stderr",
     "output_type": "stream",
     "text": [
      "\r",
      "  7%|███████████                                                                                                                                                       | 67/986 [59:47<30:16:18, 118.58s/it]"
     ]
    },
    {
     "name": "stdout",
     "output_type": "stream",
     "text": [
      "generated explanation: <pad> <extra_id_0> She explained that you won't always get what you want with a goal, but you should still reach for it if you want to. This is because goals are meant to be attainable and are designed to be reached. They are meant to be achieved and accomplished in order to be able to reach for the goal. This is because goals are set with a goal in mind and are often attainable. They are set with a goal because they are important and they are meant to be reached for. By reaching for a goal, you can also, which can help you achieve your goal. By reaching for your goal, you can achieve it is often not always getting what you want. Reaching for the goal is a great opportunity to reach for the purpose of the goal can be a great opportunity to reach for the goal. This is a great motivating and to achieve your goal. Ultimately, reaching for the goal is a goal, but also a goal is a great way to reach for the end. Reaching for the goal is a goal is a goal because it is a goal is a great goal is a goal and reaching for the end goal is a great goal is a great goal is a great way to achieve it is a goal is a great goal. It is a great way to achieve it is a goal is a great way to reach for the end. Reaching for the goal is a great way to reach for the end of reaching for the end result of reaching for the end of reaching for the end goal is a great way to reach for the end of reaching for the end of reaching for the end of course of life and it is a goal. It is a great way to reach for the end. Reach for the end of reaching for the end of reaching for the end of reaching for the end. Reach for the end of reaching for the end of reaching for the end of reaching for reaching for the end of reaching for the end of reaching for the goal is a goal is a goal is a goal is a goal is a goal. Reach for the goal is a goal is a reach for the goal is a goal because it is an important goal. Reaching for the goal is an end of reaching for the end of reaching for the end of reaching for the goal is the goal that you are reaching for the end of the reach for\n",
      "########\n",
      "*******\n",
      "question: What happens when you eat hamburger too fast without swallowing?\n",
      "answer: choking\n",
      "choices: ['get full', 'drink', 'choking', 'hungry', 'getting fat']\n",
      "common expl list: [\"When you eat hamburger too fast, it can quickly turn into the consistency of a block, and when you can't swallow it, it can cause you to choke.\", \"Choking can occur when you stick stuff in your mouth which can't go down your throat properly, so that you can't breath. Common causes can be eating too fast, or swallowing items that can't go down your throat, like liquids or large\", \"If you eat hamburger too fast, you might choke on it, because it's a solid food that can get stuck in your throat.\", 'Eating too fast can sometimes cause coughing / choking as food get stuck in your throat.']\n"
     ]
    },
    {
     "name": "stderr",
     "output_type": "stream",
     "text": [
      "\r",
      "  7%|███████████                                                                                                                                                     | 68/986 [1:01:21<28:23:39, 111.35s/it]"
     ]
    },
    {
     "name": "stdout",
     "output_type": "stream",
     "text": [
      "generated explanation: <pad> <extra_id_0> When you eat hamburger too fast without swallowing, you can get a choking. This happens when you eat hamburger too fast without swallowing, which can lead to a choking. This is because the hamburger is a nutrient dense food, and it is often packed with salt, which can make it difficult to swallow. This can lead to a choking episode if the hamburger is too hot and too fast to eat. In addition, the salt can cause the hamburger to become very hot, resulting in the stomach empty space, and other food. This can lead to a choking risk of if the hamburger too hot and then. This can lead to a a choking. This can lead to a a choking episode of vomiting, which can lead to a a serious health issue for people who eat too fast. It can also lead to a if you eat too fast and to a eat too much of the hamburger too fast and burn a choking attack. This is due to a resulting intoxic to cause a serious health risk when a person to eat too much of the hamburger too fast and can lead to a sudden and sudden death. The hamburger can cause a severe headache and can lead to a sudden and can lead to a serious health risk of choking. This can lead to a person to a choking or if you eat too quickly a choking reaction. a hamburger too fast and can lead to choking.</s>\n",
      "########\n",
      "*******\n",
      "question: John sat in a folding chair in a bit room with a stage.  What sort of room could that be?\n",
      "answer: auditorium\n",
      "choices: ['room', 'auditorium', 'meeting hall', 'school', 'church']\n",
      "common expl list: ['An auditorium is a large room that is used for public events, such as concerts, plays, and speeches.']\n"
     ]
    },
    {
     "name": "stderr",
     "output_type": "stream",
     "text": [
      "\r",
      "  7%|███████████▎                                                                                                                                                     | 69/986 [1:02:11<23:36:14, 92.67s/it]"
     ]
    },
    {
     "name": "stdout",
     "output_type": "stream",
     "text": [
      "generated explanation: <pad> <extra_id_0> John was sitting in an auditorium because it was a large room that could accommodate a stage and a large audience. The stage was a stage set up to allow the audience to gather around and see the performance. The stage was a large, rectangular piece of furniture that was arranged in a circle. The stage is usually a stage with a stage curtain that covers the stage and the stage itself. The stage is usually a large, rectangular piece of furniture that is set up so that the audience can see the performers on stage. The audience is usually held in an auditoriums are often a stage and can be a bit of the audience. The stage is a bit of the audience is often a stage is often used to give the audience and to watch the performance. The auditorium is often used as a theater. The stage is also used to give the audience with a stage. The auditorium is often used to perform and to give the performance. The auditorium is often used to perform on a production or a production. The auditorium is often used for the production of a production. The auditorium is often used to give a show. The stage is a theatre.</s>\n",
      "########\n",
      "*******\n",
      "question: What would an adult man do to get ready for work?\n",
      "answer: dress himself\n",
      "choices: ['dress herself', 'shower', 'dress himself', 'drink beer', 'drive train']\n",
      "common expl list: ['Adult males commonly wear suits to work. Men might get dressed in the morning, particularly if they plan on wearing a suit for work.', 'An adult man would dress himself for work: this includes putting on pants, shirts, and dresses, and typical choices are professional clothes, such as suit and tie.']\n"
     ]
    },
    {
     "name": "stderr",
     "output_type": "stream",
     "text": [
      "\r",
      "  7%|███████████▍                                                                                                                                                     | 70/986 [1:02:17<17:01:32, 66.91s/it]"
     ]
    },
    {
     "name": "stdout",
     "output_type": "stream",
     "text": [
      "generated explanation: <pad> <extra_id_0> An adult man would dress himself for work in order to look his best. Having a professional-looking dress can help a man get ready for work and make the most of the opportunities that are presented to him. Having a professional-looking dress can help a man look his best at work, as it can help him look his best and be more productive. Having a professional-looking dress can also help a man feel more confident and more comfortable at work. Having a professional-looking dress can help a man look and make a man look and feel more comfortable. It is important for a man to be a man to dress for work and look his best so that he can feel confident and confidently.</s>\n",
      "########\n",
      "*******\n",
      "question: What does one do at an office?\n",
      "answer: work\n",
      "choices: ['work', 'school building', 'workplace', 'skyscraper', 'public building']\n",
      "common expl list: ['An office is a place where people work.', 'An office is a specific type of workplace.', 'One does work at the office']\n"
     ]
    },
    {
     "name": "stderr",
     "output_type": "stream",
     "text": [
      "\r",
      "  7%|███████████▌                                                                                                                                                     | 71/986 [1:03:21<16:46:03, 65.97s/it]"
     ]
    },
    {
     "name": "stdout",
     "output_type": "stream",
     "text": [
      "generated explanation: <pad> <extra_id_0> Work is a job that is required for a person to perform a job. It involves carrying out tasks such as typing, completing paperwork, and completing forms. This is because the work is done in a structured environment. This is because the work is done in a controlled environment, such as a workstation, a computer, or a computer. This is because the work is done to ensure that the work is completed in a timely manner. The work is also done to ensure that the work is completed efficiently and that the office is done in a professional environment is one can do at home. This is because it is often required for the company, which is the job. The office is also where the employees are trained and are required for job requirements of the job. This is because the environment is a place where the job is required to be done in a professional environment. This is because the work environment is a great place to work is done in an office. It is a great place to do their personal life. This is also a great way to get paid for company. This is because it is a great way for employees. It is also because it is a great way to get paid for people who work is a great place of pride and is a great job.</s>\n",
      "########\n",
      "*******\n",
      "question: When a person is on trial for killing, what is a jury likely to decide?\n",
      "answer: punishment\n",
      "choices: ['execution', 'investigation', 'going to jail', 'retribution', 'punishment']\n",
      "common expl list: ['When a jury decides that someone is guilty of a crime, they typically hand down a punishment.', 'A person who has just killed another person often goes to trial, so the jury will likely have to decide what the most just punishment is.', 'A jury is likely to decide that the person is guilty of the crime, and punish them accordingly.']\n"
     ]
    },
    {
     "name": "stderr",
     "output_type": "stream",
     "text": [
      "\r",
      "  7%|███████████▊                                                                                                                                                     | 72/986 [1:03:43<13:24:33, 52.82s/it]"
     ]
    },
    {
     "name": "stdout",
     "output_type": "stream",
     "text": [
      "generated explanation: <pad> <extra_id_0> A jury is likely to decide on a verdict for killing if the person is found guilty. This is because a jury is likely to be made up of people who have been charged with a crime and have the authority to make a decision about the punishment to be imposed. This is because a jury is likely to decide that a person is guilty and that the punishment should be severe enough to be imposed. Additionally, a jury is likely to be given a number of other factors, including the crime itself, such as a person's, the crime, or a sentence. Therefore, a person is likely to be punished for the crime, if they have been given a jury is satisfied with the case. a guilty verdict is likely to be given to be a case. A jury may also be a jury in a case, or a verdict could be a factor in the case. A jury could be a guilty party.</s>\n",
      "########\n",
      "*******\n",
      "question: Most adult Americans split their time between home and what?\n",
      "answer: work\n",
      "choices: ['tent', 'work', 'apartment', 'the office', 'foreign']\n",
      "common expl list: ['Most adults spend most of their time at work.', 'Home and work may be the two places where most adult Americans spend most of their waking hours.']\n"
     ]
    },
    {
     "name": "stderr",
     "output_type": "stream",
     "text": [
      "\r",
      "  7%|███████████▉                                                                                                                                                     | 73/986 [1:06:07<20:18:15, 80.06s/it]"
     ]
    },
    {
     "name": "stdout",
     "output_type": "stream",
     "text": [
      "generated explanation: <pad> <extra_id_0> Most Americans spend most of their time at work, working full time. Working full time is a split of time spent at home and at work, but most Americans also spend time at home on weekends, evenings, and weekends. Working at home is a time when most Americans spend the majority of their time, and the majority of their time is spent at work. Working at home is a time when most Americans spend most of their time at home, spending time with family and friends, and traveling. Working at work can also provide a sense of security and security at work, as it can be a variety of work. Working at home can also provide a sense of security of peace of mind that is often means spending time with a sense of security that most Americans spend their time at work. It can also help to keep the American life in a sense of security. It also allows Americans to take time when they are traveling for the job, which can be a source of security and security in the home. Working at work can be a sense of security of their family and security that they are also a sense of security conscious and are a sense of security and that work is a sense of belonging. This is a sense of security that is important part of the American family. It can also help them to stay in a sense of belonging and security that they are more time with family and security while they are a sense of security that they are a sense of belonging and are more time to focus on their work. In short-term and personal life. In addition, and personal security. work is a sense of belonging and a sense of security that they are in their time that they are responsible for the security that they are<extra_id_27> to the way for Americans to ensure that they can provide a sense of security and that work provides a sense of belonging. It is important to work is important to work is an important part of their daily lifelong-based social and appreciate. a sense of belonging.</s>\n",
      "########\n",
      "*******\n",
      "question: Professionally the fighters always maintained a level of respect, but personally they held each other in what for things that were said?\n",
      "answer: contempt\n",
      "choices: ['belittlement', 'humiliate', 'irreverence', 'contempt', 'love']\n",
      "common expl list: ['Despite the respect that was maintained by the respectful fighters, the feelings that they had for each other were always a sense of contempt for each others character.']\n"
     ]
    },
    {
     "name": "stderr",
     "output_type": "stream",
     "text": [
      "\r",
      "  8%|████████████                                                                                                                                                     | 74/986 [1:06:47<17:15:15, 68.11s/it]"
     ]
    },
    {
     "name": "stdout",
     "output_type": "stream",
     "text": [
      "generated explanation: <pad> <extra_id_0> The fighters were held in contempt for things said to each other. This is because they were not always respectful of each other and their words could be interpreted as disrespect. In fact, the words themselves could be interpreted as disrespect. This is because they were not always respectful of each other and when they were being said, they were expressing their opinion. This disrespect can be interpreted as a lack of respect or for being a lack of it. This can lead to a lack of respect for each other and could lead to a fight between themselves. This can lead to arguments and even violence. The fighters could also be held in their words and actions against one another's. This could lead to a lack of respect for their opponents, and their own personal actions. This is a form of their professional and personal. It is a way that the fighters were held in a lack of respect for things said or physically, and their personal attacks on the ground. The fighters were viewed as a personal attack. This is a form of a personal and not being a personal attack.</s>\n",
      "########\n",
      "*******\n",
      "question: Where would you find many tables of silverware rolled into nice displayed napkins?\n",
      "answer: restaurant\n",
      "choices: ['silver', 'park', 'table', 'cupboard', 'restaurant']\n",
      "common expl list: ['In a commercial establishment, silverware is expected to be clean because consumption of food is involved. So, a restaurant may well be where someone would expect to find silverware rolled into nice displayed napkins (i.e., fancy silverware).', 'Restaurants often have a lot of silverware, and they might roll it up and place it in a napkin to make it easier to store.', 'Restaurants often give used, rolled up silverware to customers, and they might keep them in nice, displayed napkins to make moving and storing them easier.']\n"
     ]
    },
    {
     "name": "stderr",
     "output_type": "stream",
     "text": [
      "\r",
      "  8%|████████████▏                                                                                                                                                    | 75/986 [1:07:12<13:56:56, 55.12s/it]"
     ]
    },
    {
     "name": "stdout",
     "output_type": "stream",
     "text": [
      "generated explanation: <pad> <extra_id_0> Restaurants are a great place to find a large selection of silverware rolled up into nice looking napkins. Typically, restaurants have a large selection of silverware rolled up into nice displayed napkins. This can be a great way to display silverware as it is a common sight in restaurants. Restaurants also have a large selection of napkins that can be rolled up into napkins. This can help to create a cohesive look in a restaurant. Restaurants also have a large selection of silverware, which can be displayed in different ways. It is also often displayed on tables, which makes it easier to create a cohesive look. Restaurants often have nice looking and display silverware displays. They also provide a great way to display silverware that is also a great way to create a cohesive look. Restaurants often feature a variety of different designs and colors. Restaurants also feature silverware rolled napkins, which make for guests to easily be seen.</s>\n",
      "########\n",
      "*******\n",
      "question: He didn't believe fate controlled situations, what did he believe people did?\n",
      "answer: control events\n",
      "choices: ['control events', 'pray', 'dress themselves', 'talk to each other', 'think creatively']\n",
      "common expl list: [\"If one believes fate controls events, there's nothing to do but accept situation, perhaps to pray; in contrast, if one believed they had control over events, then they could act to change the situation.\", 'If one believes in fate, then one would believe that fate controls events. If one believes in free will, then one would believe that people control events.']\n"
     ]
    },
    {
     "name": "stderr",
     "output_type": "stream",
     "text": [
      "\r",
      "  8%|████████████▍                                                                                                                                                    | 76/986 [1:09:13<18:54:48, 74.82s/it]"
     ]
    },
    {
     "name": "stdout",
     "output_type": "stream",
     "text": [
      "generated explanation: <pad> <extra_id_0> He didn't believe fate controlled situations because he believed people did not control events. People don't control events because they are not able to control them, but they are able to influence events. People can also control events through their actions, and actions can be a source of control for people. People can also control their actions through their words and actions. For example, a person can control their words, actions, and even their actions by using them to create a certain effect or mood. People can also control the actions of their actions, or words, actions, which can be used to create or to create a certain events, or even occur. People can also use their actions to create a sense of control events, or even take place. This can lead to a certain event to occur, or even be a situation, or even cause an event to occur. People can also use their actions to create a certain feeling or even cause an event or even create a certain type of events, which can cause an event. In addition, it is a common sense of control events, and the way that people can use their actions. This is a powerful and it can also be used to create a certain feeling of a certain mood or create an environment, or events. It is important because it can also be used to create a certain feeling of control events and create a certain mood. This can lead to create a certain type of events that can also create a certain feeling or mood. This can lead to create a certain feeling or a certain feeling or emotion, or a sense of control events, or perception of a feeling, or even create a certain feeling or a sense of control events. This is a sense of control events.</s>\n",
      "########\n",
      "*******\n",
      "question: Polly didn't know her way around, so she navigated by landmark.  She used statues, stores, and distinctive building.  Where might she be?\n",
      "answer: city\n",
      "choices: ['countryside', 'national park', 'map', 'neighbourhood', 'city']\n",
      "common expl list: ['Landmarks are often located in cities, and so if a person was navigating by landmarks, they are likely to be in a city.', 'Landmark navigation works best in populated areas because distinctive buildings and statues can be more easily seen.', \"She used distinctive buildings as landmarks, so it is likely she's in a city.\", 'In a city, landmarks are often used to navigate. In the countryside or in national parks, landmarks may not be as distinct, as buildings and statues are less likely to be found.']\n"
     ]
    },
    {
     "name": "stderr",
     "output_type": "stream",
     "text": [
      "\r",
      "  8%|████████████▌                                                                                                                                                    | 77/986 [1:09:21<13:49:09, 54.73s/it]"
     ]
    },
    {
     "name": "stdout",
     "output_type": "stream",
     "text": [
      "generated explanation: <pad> <extra_id_0> A city is a collection of landmarks that make it easy for people to find their way around. These landmarks can be found in many different cities, and each city has its own unique characteristics. For example, a city might have a number of landmarks that make it easy for people to find their way around. These landmarks include the Capitol Building, the United Nations building, the Cathedral, the National Gallery, and the State Department. These landmarks also serve as public landmarks, which make it easier for people to find their way around the city, such as the city's history, and the city, or visiting. a city is a city is often a city, or even a city. These landmarks can help people to find their way to find their way around the city.</s>\n",
      "########\n",
      "*******\n",
      "question: Some horses are white others are black, but many are this color which might lead some people to think their milk would taste like chocolate?\n",
      "answer: brown\n",
      "choices: ['big but gentle', 'kept in stables', 'cuddly', 'brown', 'running in herd']\n",
      "common expl list: [\"An individual brown-colored horse (particularly when cuddly) can resemble the color of chocolate. If a person were to guess based on the color, he might guess a horse's milk tasted similarly.\"]\n"
     ]
    },
    {
     "name": "stderr",
     "output_type": "stream",
     "text": [
      "\r",
      "  8%|████████████▋                                                                                                                                                    | 78/986 [1:10:17<13:56:41, 55.29s/it]"
     ]
    },
    {
     "name": "stdout",
     "output_type": "stream",
     "text": [
      "generated explanation: <pad> <extra_id_0> Horses are a color that is associated with chocolate. This is due to the fact that they are bred to produce milk that is dark brown in color. This is due to the fact that horses are bred to produce milk that is rich in calcium and protein. Calcium is a component of calcium and protein, which is important for the proper digestion of milk. Calcium is also important for the proper growth and development of the brain and the immune system. This is due to the fact that calcium is needed for proper development of the brain, which can be a sign of a color. Brown is also associated with chocolate because it is a color of chocolate, which is also common in chocolate. Brown is also a color of milk, which is a common color. It is also due to the fact that horses are bred to the color of milk, and is a flavorful and full of chocolate. It is also due to the fact that horses are a color, which is a color of the milk being a color of the horse, and protein in the horse's, which is a strong flavor and a color. This is due to the color of the protein and protein, which is a color, and it is also a color which is a brown.</s>\n",
      "########\n",
      "*******\n",
      "question: What is the one thing you cannot do if you're on the move?\n",
      "answer: stand still\n",
      "choices: ['sit still', 'stationary', 'running', 'stand still', 'stay still']\n",
      "common expl list: ['You must be in motion to be counted as on the move. (this rule exists to disallow the action of holding still)']\n"
     ]
    },
    {
     "name": "stderr",
     "output_type": "stream",
     "text": [
      "\r",
      "  8%|████████████▉                                                                                                                                                    | 79/986 [1:10:38<11:18:27, 44.88s/it]"
     ]
    },
    {
     "name": "stdout",
     "output_type": "stream",
     "text": [
      "generated explanation: <pad> <extra_id_0> If you're on the move, the one thing you cannot do is stand still. This is because standing still is a form of passive movement. It is a form of movement that requires the body to remain still. This is because standing still is a form of passive movement, and passive movement is a form of active participation. This is because standing still is a form of passive participation, and passive participation is not considered a form of active participation. Standing still is a form of passive participation, and passive participation does not allow you to perform any other activities, such as walking, or performing tasks. Standing still is a way of being in a way to get your attention. It is important to understand that you can't do not do when you are in the moment, and can help you to stay alert and alert. This is because it is not possible to get away from the moment's. This is because it is not possible to get away from distractions and can cause people to get away from each other.</s>\n",
      "########\n",
      "*******\n",
      "question: Where does someone convicted of a petty crime likely spend time?\n",
      "answer: jail\n",
      "choices: ['sell drugs', 'jail', 'nightclub', 'prison', 'offer drugs']\n",
      "common expl list: ['Someone convicted of a petty crime is likely to spend time in jail.', 'Someone convicted of a petty crime probably spends some time in jail, and not in prison.']\n"
     ]
    },
    {
     "name": "stderr",
     "output_type": "stream",
     "text": [
      "\r",
      "  8%|█████████████                                                                                                                                                    | 80/986 [1:11:35<12:12:59, 48.54s/it]"
     ]
    },
    {
     "name": "stdout",
     "output_type": "stream",
     "text": [
      "generated explanation: <pad> <extra_id_0> Someone convicted of a petty crime likely spends time in jail. Jails are typically located in a secure area, such as a cell or a cell block. Jails are also often used for community service, such as serving food or a job. Jails also provide a place to stay for those who are incarcerated for a petty crime. Jails also provide a safe environment for those who are unable to return home. Jails are also often used to house a person in convicted of a petty crime. They are often given the circumstances of the circumstances of the court system, so that they can get the justice they are protected from the outside of the community. Jails also provide a place to get justice. Jails are also often the only place of the person can leave the court room for those who are convicted of a a petty crime. Jails are often located in a place to stay inmates. Jails are often used for those petty crimes that are often petty crimes. Jails are often used for minors. Jails are often used to gain a conviction, and the person are likely to gain access to the court.<extra_id_26> </s>\n",
      "########\n",
      "*******\n",
      "question: He would entertain with a pool party regularly, it was the best way to beat the what?\n",
      "answer: hot\n",
      "choices: ['please', 'hot', 'guest', 'bribe', 'liked']\n",
      "common expl list: ['Pool parties are a great way to beat the heat.']\n"
     ]
    },
    {
     "name": "stderr",
     "output_type": "stream",
     "text": [
      "\r",
      "  8%|█████████████▏                                                                                                                                                   | 81/986 [1:12:17<11:43:23, 46.63s/it]"
     ]
    },
    {
     "name": "stdout",
     "output_type": "stream",
     "text": [
      "generated explanation: <pad> <extra_id_0> He would entertain with a pool party regularly, it was the best way to beat the heat. By having a pool party, he could keep the temperature down and keep the kids from getting bored. Additionally, he could also use the pool to play with friends and family, which was a great way to keep the kids entertained. Having a pool party is a great way to socialize with friends and family, and it can be a great way to get a good workout. Having a pool party can also help with a great way to keep the kids. Furthermore, a pool can be a great way to keep the kids from getting too much of stress and stress that can lead to a great way to entertain guests. Having a pool party is the best way to relax and entertain them to keep the kids a pool clean up with a pool is a great way to keep the kids from getting sick and sick. Keeping the kids from getting too hot weather can lead to a lot of stress and can help to keep the adults and their attention from getting to keep the kids a pool party.</s>\n",
      "########\n",
      "*******\n",
      "question: If you wanted to confirm information that you had, you would do what to someone?\n",
      "answer: question\n",
      "choices: ['infirm', 'ask', 'deny', 'question', 'dispute']\n",
      "common expl list: ['If you wanted to confirm information that you had, you would ask someone.', 'If you wanted to verify the truth, you might question the person who you got the alleged information from.', 'To confirm something that your friends told you, you might need to ask those friends further questions to prove that the information was correct.', \"Often information is ambiguous, and I can confirm it by asking pointed questions or by scrutinizing the other person's story till I can find a way to interrogate their position.\"]\n"
     ]
    },
    {
     "name": "stderr",
     "output_type": "stream",
     "text": [
      "\r",
      "  8%|█████████████▍                                                                                                                                                   | 82/986 [1:13:27<13:27:12, 53.58s/it]"
     ]
    },
    {
     "name": "stdout",
     "output_type": "stream",
     "text": [
      "generated explanation: <pad> <extra_id_0> If you wanted to confirm information that you had, you would probably do something to someone to confirm it. This is because people are more likely to share information that they have than not to share. For example, if you wanted to confirm information that you had, you would likely give the person the information that you had, which would be the most accurate way to do so. This is because people are more likely to share information that they have with someone else, which would be the most accurate way to do so. If you wanted to confirm information that you have, you would likely to provide the person with the information that you have, you would also confirm the information that you had previously, or had, you had, you would also provide the person with the information, which would provide you with the person, a person with the information that you have had. If you wanted to confirm information, you would provide the person with the information you had, you had, you would provide the person with the information that you had already provided, you would provide the person with the person with the person with the information that you had. If you wanted to confirm information that you had, you would provide the person with the person with the information that you had, you had, you would give someone the information that you had, and the person with the person with the information.</s>\n",
      "########\n",
      "*******\n",
      "question: Where is cheese likely to be dangerous for some creatures?\n",
      "answer: mouse trap\n",
      "choices: ['refrigerator', 'mouse trap', 'fridge', 'outside', 'plate']\n",
      "common expl list: ['cheese has been said to attract mice. Mice traps may contain cheese in order to attract them.']\n"
     ]
    },
    {
     "name": "stderr",
     "output_type": "stream",
     "text": [
      "\r",
      "  8%|█████████████▌                                                                                                                                                   | 83/986 [1:14:28<14:00:21, 55.84s/it]"
     ]
    },
    {
     "name": "stdout",
     "output_type": "stream",
     "text": [
      "generated explanation: <pad> <extra_id_0> A mouse trap is a trap that is designed to catch mice and other small animals. The trap is designed to catch the animals and other food sources, such as eggs, milk, and cheese. The trap is designed to catch the mice and other small animals, such as mice, rats, and other small animals. The trap is designed to capture the animals and other small animals, such as birds, mice, and other rodents. The trap is designed to catch the rodents and other animals, such as mice, rats, and other small, and traps. The goal is to prevent the rodents from being used to escape from the trap. The purpose of the mouse trap is to attract and to other rodents. The trap is designed to trap is a mouse trap, which is designed to attract and a mousetrap. The trap is designed to prevent mice from being used to traps. The mousetrap is a mousetrap is designed to prevent mice and other animals from being trapped in a mouse from getting into a mouse. The trap is designed to trap is designed to prevent mice from being used to traps. The trap is designed to prevent the mice from getting into a mouse from getting into a mouse and other species.</s>\n",
      "########\n",
      "*******\n",
      "question: He spent all work day at a computer, so he got a footstool for more comfort at his what?\n",
      "answer: desk\n",
      "choices: ['desk', 'bathroom', 'shoe shop', 'family room', 'living room']\n",
      "common expl list: ['A footstool is a small stool that is used to raise the height of a chair or table. If someone spends all day at a computer, they might need a footstool to raise their desk.']\n"
     ]
    },
    {
     "name": "stderr",
     "output_type": "stream",
     "text": [
      "\r",
      "  9%|█████████████▋                                                                                                                                                   | 84/986 [1:15:54<16:15:00, 64.86s/it]"
     ]
    },
    {
     "name": "stdout",
     "output_type": "stream",
     "text": [
      "generated explanation: <pad> <extra_id_0> He spent all work day at his computer, so he got a footstool for more comfort at his desk. A desk is a place where one can work, study, or simply sit and work. A footstool provides additional support and comfort to the user, allowing them to focus on the computer and work more efficiently. The footstool is a great way to provide additional support and help to the user during long work hours. The desk also provides additional storage space, which can be useful for other storage items, such as a computer, or even sitting. The footstool can also provide additional support and can be used to prevent sitting on the desk. It can also be used to sit on the computer, and to sit comfortably. The footstool is designed to provide more comfortable work for more work, and can be used to work, helping to be more easily accessible and easily. The footstool can also be used to prevent injuries or worsened from the back and kneestool can be used as a footstool. The footstoolstool can be used to keep the feet on the computer or at the desk. The footstoolstools can also be used to help with back, and other tasks. The footstool can also provide additional comfort and is designed to help users at the desk can also provide additional footstool can be used to help to increase the overall work day. It can also provide additional back and backstool can be used at the computer or at a footstool can be used to help them.</s>\n",
      "########\n",
      "*******\n",
      "question: How would grooming lead to bald spots?\n",
      "answer: mistakes\n",
      "choices: ['cleanliness', 'mistakes', 'brushing', 'beauty', 'satisfaction']\n",
      "common expl list: [\"If you accidentally over trim your hair, you'd likely end up with bald spots.\"]\n"
     ]
    },
    {
     "name": "stderr",
     "output_type": "stream",
     "text": [
      "\r",
      "  9%|█████████████▉                                                                                                                                                   | 85/986 [1:16:18<13:10:40, 52.65s/it]"
     ]
    },
    {
     "name": "stdout",
     "output_type": "stream",
     "text": [
      "generated explanation: <pad> <extra_id_0> Grooming can lead to bald spots because it can lead to a buildup of dead hair. This can lead to a buildup of dead hair that can lead to bald spots. This can lead to a rash of hair loss, which can lead to bald spots. Hair loss can also cause a person to develop alopecia, which is a bald spot on the head. Hair loss can also lead to alopecia due to the buildup of dead hair. This can cause the hair to get lost due to resulting in the head. Also, a lack of sleep can lead to resulting in the body. This can lead to alopes spots and resulting in the face. This can lead to a bald spots. It can lead to alope alope and can result in baldness. This can lead to alopes. This can lead to alope. Hair loss can lead to a alopelopes, alope. This can lead to alope alopes.</s>\n",
      "########\n",
      "*******\n",
      "question: Where would a snake find a great hiding place in the United Kingdom?\n",
      "answer: kew gardens\n",
      "choices: ['ditch', 'terrarium', 'thick forest', 'kew gardens', 'feild']\n",
      "common expl list: ['Kew gardens is located in London, which has a great deal of green space in the form of parks.', 'Kew gardens is a large botanical garden in London, England, and snakes are often found in gardens.']\n"
     ]
    },
    {
     "name": "stderr",
     "output_type": "stream",
     "text": [
      "\r",
      "  9%|██████████████                                                                                                                                                   | 86/986 [1:17:53<16:21:50, 65.46s/it]"
     ]
    },
    {
     "name": "stdout",
     "output_type": "stream",
     "text": [
      "generated explanation: <pad> <extra_id_0> A great hiding place in the United Kingdom is a kew gardens. Kew gardens are a natural hideout for snakes, which is why they are so popular with snakes. The gardens are located in the heart of London and are a great place to find a safe haven for the snakes to hide out in the sun. The gardens are also known as the \"home\" of the king's greatest snake, the king's snake, and are a popular tourist destination. The gardens are also a great place for snakes because they are also popular with tourists and other visitors. They are often visiting the snakes are looking for a great place to hide away from the crowds. The gardens are also a great place to hideout for the snakes to find a great place to hide in the sun and shade. The gardens are also a great place to find a great place to hide out of the a great place to find a great place to find a great place to find a great place to find a great place to find a great place to find a great place to hideaway. The gardens are also a great place for the snakes to find a great place to find a great place to find a great place to find a great place to find a great place to hide in the a great place to find a great place to find a great place to hide in the United Kingdom.</s>\n",
      "########\n",
      "*******\n",
      "question: After studying many self-help books, what did he feel in his heart?\n",
      "answer: inspiration\n",
      "choices: ['inspiration', 'dreams', 'more intelligence', 'understanding', 'knowing more']\n",
      "common expl list: ['Self-help books are written to inspire people to change their lives for the better.', \"If John read about confidence, optimism, positive thinking, it's possible that he feels inspired.\", \"Some people study self-help books because they've felt lost in their life and are looking for something to help them out. By reading many self-help books, such people might feel more inspired in their life.\"]\n"
     ]
    },
    {
     "name": "stderr",
     "output_type": "stream",
     "text": [
      "\r",
      "  9%|██████████████▏                                                                                                                                                  | 87/986 [1:18:45<15:19:19, 61.36s/it]"
     ]
    },
    {
     "name": "stdout",
     "output_type": "stream",
     "text": [
      "generated explanation: <pad> <extra_id_0> He felt inspired and motivated to become a better person. He was able to find the motivation and inspiration to achieve his goals. He was able to focus on his goals and to set goals that were within his reach. He was able to visualize his goals and plans in a way that was easy to understand and follow. He was able to visualize the results of his efforts and to make a plan of action that was able to be implemented. He was able to set goals and to set a course of action that would be a better person, which a better life. He was inspired by the books, and to achieve their goals. He was able to set downtime and to create a plan for the inspiration and to achieve his goals and to become a better person. This inspired him to become a better person, and to achieve their dreams. This was a great deal with the knowledge and the challenges that inspired and to achieve his goals and to achieve them. He was able to see the world, and to achieve his goals, and to achieve his own, and to find a better life. He was able to achieve his goals and to achieve his goals and to become a better life.</s>\n",
      "########\n",
      "*******\n",
      "question: Where would you find teeth whitening bleachers?\n",
      "answer: pharmacy\n",
      "choices: ['gymnasium', 'soccer game', 'sporting event', 'pharmacy', 'soccer game']\n",
      "common expl list: ['Teeth whitening is a common practice, and pharmacies often sell the products used for it.']\n"
     ]
    },
    {
     "name": "stderr",
     "output_type": "stream",
     "text": [
      "\r",
      "  9%|██████████████▎                                                                                                                                                  | 88/986 [1:19:19<13:16:08, 53.19s/it]"
     ]
    },
    {
     "name": "stdout",
     "output_type": "stream",
     "text": [
      "generated explanation: <pad> <extra_id_0> A pharmacy is the best place to find teeth whitening bleachers. The bleachers are used to lighten the shade of teeth. The bleachers are usually sold in a box, which makes them easier to use and are more convenient to use. The bleachers are usually sold in bulk, so they can be purchased in bulk. The bleachers are also available in a variety of sizes, and can be purchased at a pharmacy. The bleachers are also available in dental supply stores, which is why they are often easier to find in pharmacies. The bleaching bleaching agents are required to use in order to achieve the color of the whitener. The process of the bleachers can be purchased in a pharmacy is the best place to find teeth whitening bleachers in a variety of colors, and other ingredients. The bleachers are a safe and are also available at many different from other beauty products, so that they are also safe to use, and can be used to help prevent color from being removed from the bleachers from being used to be used in the most effective at home.</s>\n",
      "########\n",
      "*******\n",
      "question: While he had seen a koala in the zoo, he was looking forward to finding one in the what?\n",
      "answer: australian outback\n",
      "choices: ['australian outback', 'bamboo grove', 'wilderness', 'island', \"child's book\"]\n",
      "common expl list: ['Koalas live in Australia, and are not found in any other country in the North American continent.', 'Because Koalas are a native species to Australia, the safest place to see a Koala may be outback Australia.']\n"
     ]
    },
    {
     "name": "stderr",
     "output_type": "stream",
     "text": [
      "\r",
      "  9%|██████████████▌                                                                                                                                                   | 89/986 [1:19:23<9:35:08, 38.47s/it]"
     ]
    },
    {
     "name": "stdout",
     "output_type": "stream",
     "text": [
      "generated explanation: <pad> <extra_id_0> He had seen a koala in the zoo, but had never seen one in the outback. Koalas are a species of animal that are found in the outback of Australia. They are a relatively rare species, and it is thought that they live in the rainforests and deserts of the world’s largest continent, the Great Barrier Reef. Koalas are also known for their intelligence and intelligence, which makes them an ideal choice for tracking and identifying them. Koalas are known as the outback. They are often found in the outback, but are often found in the outback.</s>\n",
      "########\n",
      "*******\n",
      "question: Where can a child get a wagon?\n",
      "answer: toy store\n",
      "choices: ['field', 'garage', 'bookstore', 'backyard', 'toy store']\n",
      "common expl list: [\"A toy wagon is a child's toy. Toy wagons can be purchased from toy stores.\", 'Toy stores deal specifically in toys. Wagons are one of a variety of toys.']\n"
     ]
    },
    {
     "name": "stderr",
     "output_type": "stream",
     "text": [
      "\r",
      "  9%|██████████████▊                                                                                                                                                   | 90/986 [1:20:01<9:30:52, 38.23s/it]"
     ]
    },
    {
     "name": "stdout",
     "output_type": "stream",
     "text": [
      "generated explanation: <pad> <extra_id_0> A toy store is the best place to buy a wagon because it is a great toy for children to play with and play with. A wagon is a great way for children to have fun and learn new things. A wagon is a great way for a child to experience the outdoors, and it can be used to play with friends, play games, and have fun. It can also be used to transport objects like sticks, rocks, and rocks, and even climb on the wagon. A wagon can be customized to fit a child’s interest. A wagon can also be used toy store is a great place for children to buy a wagon. A wagon can be purchased from a variety of different colors, and size. A child can also get a wagon from a variety of different colors, and sizes, and colors. A child can also be used toy store can also be used toy store. A toy store can be used to play with a child can be used toy to play. A toy store can be used toy store is a variety of toys, and other toys.</s>\n",
      "########\n",
      "*******\n",
      "question: Being able to forgive is a way to be what?\n",
      "answer: nice to\n",
      "choices: ['learn', 'give hug', 'happiness', 'nice to', 'sex']\n",
      "common expl list: ['When you forgive people you are being nice to them.']\n"
     ]
    },
    {
     "name": "stderr",
     "output_type": "stream",
     "text": [
      "\r",
      "  9%|██████████████▊                                                                                                                                                  | 91/986 [1:21:05<11:23:44, 45.84s/it]"
     ]
    },
    {
     "name": "stdout",
     "output_type": "stream",
     "text": [
      "generated explanation: <pad> <extra_id_0> Forgiving is a way to be a kind person. It is a way to be a better person by allowing yourself to forgive others. Forgiving is a way to be a better person because it allows you to move beyond the pain and hurt you have caused. It is a way to be a better person by allowing yourself to move past the pain and hurt you have caused. Forgiving is a way to be a better person by allowing yourself to forgive and move on. It is a way to be a positive and positive outlook on life. It is a way to be a better person by helping others. It is a way to be able to be a way to be able to be a better person by allowing you to move forward. It is a way to be a better person to be able to be a better person because it allows you to move forward. It is also a way to be able to be able to accept and to be able to be a better person. It is a way to be a better person by being a better person. It is a way to be a better person because it is a way to be a better person by being a better person.</s>\n",
      "########\n",
      "*******\n",
      "question: What  is necessary to have when going fishing?\n",
      "answer: fishing rod\n",
      "choices: ['fishing rod', 'access to water', 'bate', 'three hands', 'tackle']\n",
      "common expl list: ['To go fishing requires a fishing rod.', 'fishing rods are necessary component pieces that are held by fishermen to access and use when fishing']\n"
     ]
    },
    {
     "name": "stderr",
     "output_type": "stream",
     "text": [
      "\r",
      "  9%|███████████████                                                                                                                                                  | 92/986 [1:22:24<13:52:28, 55.87s/it]"
     ]
    },
    {
     "name": "stdout",
     "output_type": "stream",
     "text": [
      "generated explanation: <pad> <extra_id_0> A fishing rod is necessary when going fishing because it is the primary tool that a fisherman uses to safely and effectively catch and release fish. A fishing rod is the most important piece of equipment that a fisherman needs to have when going fishing. It is the only tool that a fisherman needs to use to catch and release fish, and it is the only tool that can be used to do so without the use of any other tools. A fishing rod is a simple tool that can be used to retrieve and release fish. It is a fishing rod that can be used to retrieve and retrieve any other fish can be used to safely and safely. A fishing rod is also a great way to get the right fishing. A fishing rod can also be used to capture and provide a safe and enjoyable activity for all kinds of fisher can use of equipment that can provide a fishing experience. It is important to have a fishing rod that can be used to catch and safely and safely. It is also important to have a fishing rod is used to provide a fishing trip. A fishing rod is also a fishing rod can be used to safely and safely. A fishing rod is also a fishing rod is also a necessary piece of equipment that is used to capture and is also a fishing rod is also a fishing rod that is essential piece of equipment that is used to catch and safely.</s>\n",
      "########\n",
      "*******\n",
      "question: A weasel is cursed by a witch, where is the weasel stuck?\n",
      "answer: fairytale\n",
      "choices: ['corn fields', 'great outdoors', 'fairytale', 'imagination', 'chicken coop']\n",
      "common expl list: ['Being stuck in a fairytale suggests being cursed, and the curses that prevail in fairytales are usually cast by witches.']\n"
     ]
    },
    {
     "name": "stderr",
     "output_type": "stream",
     "text": [
      "\r",
      "  9%|███████████████▏                                                                                                                                                 | 93/986 [1:25:32<23:40:11, 95.42s/it]"
     ]
    },
    {
     "name": "stdout",
     "output_type": "stream",
     "text": [
      "generated explanation: <pad> <extra_id_0> A weasel is cursed by a witch because it is believed that the witch is the one who created the weasel. A witch is a person who creates a story that is both magical and dangerous. A witch is a person who creates a story that is based on a true story and who is therefore responsible for the outcome. The weasel is a creature of the night and is therefore unable to escape. As a result, the weasel is stuck in aweasel is a fairytale, which is a witch and thus, which is a way to get out of the wea witch. The wea witch can also be a wea witch, and magically a fairytale to get out of the wea wea wea fairytale, which is a witch. The wea witch is a fairytale, and a fairytale, and a wea witch can get stuck in a fairytale, but the witch can's's a witch's spells on the wea witch's a fairytale is a way to get away from the wea fairytale. The witch is a fairytale, and a fairytale, and the wea witch, and the wea witch, and a witch's spell, and a fairytale, and awed, and the wea witch, and a wea fairytale, and the wea fairytale, and the wea witch's's cursed wea wea witch's cursed, and thus, the weawea weawea wea wea witch's curse, a witch's, a fairytale<extra_id_26> s are stuck in a cursed by--s cursed by--s, and the witch's are<extra_id_27> of a wea witch's cursed by a fairytale, a wea witch's a wea wea wea wea witch's a wea wea wea wea fairytale, and a wea wea wea wea wea witch is cursed wea wea wea wea fairytale, and awe's'</s>\n",
      "########\n",
      "*******\n",
      "question: If you want to buy you must what?\n",
      "answer: spend money\n",
      "choices: ['spend money', 'go shopping', 'paying', 'have in mind', 'a shop']\n",
      "common expl list: ['If you want to buy something, you must spend money.', 'To buy something, you must spend money.', 'To buy one needs money, and need money implies you have spent money.']\n"
     ]
    },
    {
     "name": "stderr",
     "output_type": "stream",
     "text": [
      "\r",
      " 10%|███████████████▎                                                                                                                                                 | 94/986 [1:26:35<21:17:20, 85.92s/it]"
     ]
    },
    {
     "name": "stdout",
     "output_type": "stream",
     "text": [
      "generated explanation: <pad> <extra_id_0> If you want to buy something you must spend money. Money can be spent to purchase something that you want, such as a new car, a home, or a new home. It can also be used to make other purchases, such as furniture, clothing, or even a car. Spending money can help you to make a purchase that is both worthwhile and convenient. It can also help you to save money, as it can help you save money on other essentials such as food, clothing, and entertainment. Ultimately, spending money can help you to make a purchase something that will help you purchase something that you to make a purchase, or to make a decision. Ultimately, spending money can help you to make a purchase, as it will help you to make a purchase, or to make a purchase. Moreover, it can help you to make a purchase, which can help you to make a decision. By spending money can help you to make a purchase that you can make a purchase. It can also help you to make a purchase, which will help you to make a purchase, or even more money for you want to make a purchase. a purchase, or to make a purchase, or to make a purchase.</s>\n",
      "########\n",
      "*******\n",
      "question: What public celebration sometimes has a horse show?\n",
      "answer: state fair\n",
      "choices: ['state fair', 'indy 500', 'american southwest', 'canada', 'central park']\n",
      "common expl list: ['Horse shows are sometimes included in state fair celebrations, and these fairs frequently are held in public parks.', \"A state's fair is a public celebration that may include a horse show.\", 'Horse shows are competitions that sometimes occur at public celebrations. Some fairgrounds include horse shows as part of their regularly scheduled events.']\n"
     ]
    },
    {
     "name": "stderr",
     "output_type": "stream",
     "text": [
      "\r",
      " 10%|███████████████▌                                                                                                                                                 | 95/986 [1:27:15<17:51:45, 72.17s/it]"
     ]
    },
    {
     "name": "stdout",
     "output_type": "stream",
     "text": [
      "generated explanation: <pad> <extra_id_0> A state fair is a public celebration that often has a horse show. This is because the fair is a large, open-to-the-public event that includes rides, shows, and competitions. It is a great way to get involved in the community and to meet new people. During the fair, horses are allowed to roam freely and show their skills to spectators. This is because they are able to show off their talents and skills. Horse shows are also a great way to meet new people. They can also be a great time for families and are responsible and safety. Additionally, horse shows are also a great way to have fun and entertainment for all. This is also a great way to meet new friends and family. It is also a great way to meet new friends and to meet new people. This is a great way to meet new people and socialize with old friends and to meet new people. It is a great way to meet new people and meet new people. It is a great way to meet new people and gain insight into the horses and meet new people.</s>\n",
      "########\n",
      "*******\n",
      "question: There are many wage gaps being discussed, the most important of which is between the rich and what?\n",
      "answer: poor\n",
      "choices: ['plain', 'sleepy', 'poor', 'idle', 'needy']\n",
      "common expl list: ['The poor are a group which suffers from a wage gap, denoted as their earning less than others, especially the rich.']\n"
     ]
    },
    {
     "name": "stderr",
     "output_type": "stream",
     "text": [
      "\r",
      " 10%|███████████████▋                                                                                                                                                 | 96/986 [1:28:16<16:57:56, 68.63s/it]"
     ]
    },
    {
     "name": "stdout",
     "output_type": "stream",
     "text": [
      "generated explanation: <pad> <extra_id_0> The wealth gap is the most important wage gap being discussed because it is the most important wage gap between the rich and the poor. The rich have access to a variety of resources, including education, housing, transportation, and other services. This makes the gap between the rich and the poor the most important wage gap to discuss because it is the largest gap between the rich and the poor. The rich have access to a variety of services, including transportation, food, and other goods, and the poor have access to a wealthier pool of resources. The gap between the poor is also the most important because the gap between the poor and the most important one of the gap between the rich. The gap between the poor and the two groups in the United States, which is the most important factor in the gap between the poor. The poor are often the most important wage gaps between the poor. The gap between the poor is the most important because it is the most important. The gap in the two groups of the poor are the most important issue in the economic situation of the overall picture of the gap between the rich. The poor are the most important reason for the poor. The gap between the poor is the most important to discuss because the poor is the most important issue of the poor are the most important one.</s>\n",
      "########\n",
      "*******\n",
      "question: What city in a North American Country, that isn't the United States, would you expect to find a good french restaurant?\n",
      "answer: quebec\n",
      "choices: ['wine', 'nyc', 'quebec', 'manhattan', 'paris']\n",
      "common expl list: ['Quebec is said to have strong french-culture since it was originally french territory. This would make sense if quebec had a good french restaurant.', 'Quebec is the only province that speaks French in North America, and you might expect to find a good french restaurant there.', 'Quebec is a province in Canada, and is known for its french culture.', 'Quebec has a strong french heritage, and the french cuisine is actually quite popular in the United States.']\n"
     ]
    },
    {
     "name": "stderr",
     "output_type": "stream",
     "text": [
      "\r",
      " 10%|███████████████▊                                                                                                                                                 | 97/986 [1:28:56<14:48:52, 59.99s/it]"
     ]
    },
    {
     "name": "stdout",
     "output_type": "stream",
     "text": [
      "generated explanation: <pad> <extra_id_0> A good french restaurant is a must in any city in a North American Country that isn't the United States. It's a place where the french are welcome and where the food is prepared with care. The french are known for their bread, pastries, and cheeses. The food is also known for its presentation, which is a great way to showcase the cuisines of the region. The city of quebec is also known for its excellent selection of wines, which is why it is often a popular choice for tourists. The city of Canada is known for its french restaurants, and bars, and other countries. The city is also known for its french restaurants, and other countries, which are often found in the province of its main city of Montreal, which is known for its a great choice for those looking for a great place to visit. The city of restaurants in quebe it's true French cuisine and tradition of the country, and the country's culture, and tradition of the French are a great choice for those who love of the country. The a great place to enjoy a good french restaurant.</s>\n",
      "########\n",
      "*******\n",
      "question: Care not to burn you hand on the handle of what small high-walled vessel?\n",
      "answer: saucepan\n",
      "choices: ['brush', 'carry object', 'walking stick', 'umbrella', 'saucepan']\n",
      "common expl list: ['A saucepan is a small, high-walled vessel, built for holding liquids and usually used in the kitchen.']\n"
     ]
    },
    {
     "name": "stderr",
     "output_type": "stream",
     "text": [
      "\r",
      " 10%|████████████████                                                                                                                                                 | 98/986 [1:30:18<16:28:11, 66.77s/it]"
     ]
    },
    {
     "name": "stdout",
     "output_type": "stream",
     "text": [
      "generated explanation: <pad> <extra_id_0> A saucepan is a small high-walled vessel that is used to store food. It is<extra_id_2> A saucepan is a high-walled vessel that is used to store food and is a great way to store food safely. It is<extra_id_3> ed<extra_id_4> A saucepan is a great way to store food and<extra_id_5> A saucepan is a great way to store food safely and efficiently. It is<extra_id_6> a great way to keep food warm and safe. It is also a great way to keep your hands dry while cooking. A saucepan is a great way to keep your hands warm and safe place. It is a great way to keep your hands safe and safe while cooking. It is important to keep your hands away from the hot. The handle of the saucepan is a great way to prevents your hands from being burned hands and can be used to keep your hands away from the stove. The handle of a saucepan is a great way to keep your hands safe while cooking safely and safely. It is a great way to keep your hands from getting hot. It is a great way to keep your hands from burning. It is a great way to avoid burning your hand from getting a hand from being a hand. It can be used to keep your hand from burning your hand from the handle of the handle of the handle of the saucepan is a great way to keep your hand safe from being burn your hand from burning. It is important to keep your hand from burning your hand from burning your hand from being burned. It is important to keep your hand safe and<extra_id_27> </s>\n",
      "########\n",
      "*******\n",
      "question: What container does peanut butter come in?\n",
      "answer: jar\n",
      "choices: ['cupboard', 'pantry', 'jar', 'bottle', 'supermarket']\n",
      "common expl list: ['Jars are often used to store food, and peanut butter is a food.', 'Jars can keep food sealed without leaking, and often have lids. Peanut butter is sealed in a jar and could be kept in a house, kitchen, pantry, or cupboard.', 'Peanut butter comes in glass jars, like many other food products.', 'Jars, like those that pickles often come in, are suitable for food items that need to be kept fresh for long time. Jars can be resealed.']\n"
     ]
    },
    {
     "name": "stderr",
     "output_type": "stream",
     "text": [
      "\r",
      " 10%|████████████████▏                                                                                                                                                | 99/986 [1:32:20<20:29:11, 83.15s/it]"
     ]
    },
    {
     "name": "stdout",
     "output_type": "stream",
     "text": [
      "generated explanation: <pad> <extra_id_0> Peanut butter comes in a jar because it is a concentrated fat source that is essential to the production of good fats. It is a concentrated fat source that is essential for the proper breakdown of the fat into the nut. It is also a good source of protein, as it helps to provide the body with the energy it needs to function properly. It is also a great source of protein, as it is a good source of protein, and it is a great source of calcium, which helps to maintain a healthy fats and protein levels. It is also a a great source of protein, and it provides the perfect source of protein, which is important for the proper absorption. It is also a great source of peanut butter, as it comes in jar, and it provides the best possible for the peanuts to remain in the refrigerator for the freezer. It is a jar, as it is sealed, so it can be used to create a variety of peanut butter, which is a healthy and tasty peanut butter that is a variety of nutrients. It is a a great source of protein and a variety of nutrients, and protein, which can help to help to keep the body and healthy and maintain its moisture levels, and other nutrients, which are important for the body and the right container for the right amount of protein and can be used to make a variety of peanut butter and can be used to make a variety of different types of peanut butter and can be used to make a healthy snacking and a healthy snack. It is a great source of protein source of protein and can be used to make peanut butter to help maintain the right amount of protein, and it contains the right texture, providing the body and it provides the proper nutrients. a healthy snack. It is a healthy. Peanut butter that it. a healthy.</s>\n",
      "########\n",
      "*******\n",
      "question: Where are plants likely to be handled by a city employee?\n",
      "answer: park\n",
      "choices: ['park', 'windowsill', 'ground', 'office', 'garden']\n",
      "common expl list: ['Parks are where city employees are likely to handle plants.', 'A city employee might handle plants while working in a park.']\n"
     ]
    },
    {
     "name": "stderr",
     "output_type": "stream",
     "text": [
      "\r",
      " 10%|████████████████▏                                                                                                                                               | 100/986 [1:32:31<15:09:32, 61.59s/it]"
     ]
    },
    {
     "name": "stdout",
     "output_type": "stream",
     "text": [
      "generated explanation: <pad> <extra_id_0> A city employee is likely to be responsible for the management of a park because it is a public space, and therefore, it is important for the employee to be able to make decisions about where to go to work. Parks are often the first place that residents of the city go to find a plant to be removed from the site. They are also often the most vulnerable to natural disasters, such as flooding, drought, or other environmental hazards. Additionally, parks often have a limited number of employees, so it is important to ensure that the staff is knowledgeable about the hazards, and how to be handled. Additionally, the city is often called upon emergency situations, which can be dangerous for the public. In addition, a city employee can make an informed decision about the best to act. In addition, there is a city employee can be able to take action when dealing with any emergency.</s>\n",
      "########\n",
      "*******\n",
      "question: Trains tend to come on time, airplanes on the other hand tend to what?\n",
      "answer: arrive late\n",
      "choices: ['stall', 'take off', 'arrive late', 'catch on fire', 'carry freight']\n",
      "common expl list: [\"Planes aren't typically known for arriving on time (air traffic, weather, repairs, et. al.), whereas trains tend to be more reliable.\", 'Planes are carreid by more complicated mechanisms than trains, and therefore tend to be harder to operate exactly on time.']\n"
     ]
    },
    {
     "name": "stderr",
     "output_type": "stream",
     "text": [
      "\r",
      " 10%|████████████████▍                                                                                                                                               | 101/986 [1:33:07<13:17:12, 54.05s/it]"
     ]
    },
    {
     "name": "stdout",
     "output_type": "stream",
     "text": [
      "generated explanation: <pad> <extra_id_0> Trains tend to arrive on time, while airplanes tend to arrive late. This is due to the fact that airplanes are slower and have a longer travel time. Trains tend to arrive on time, while airplanes tend to arrive late. This can be due to the fact that airplanes are smaller and have a shorter travel time, making it difficult for passengers to board the planes on time. Additionally, airplanes tend to arrive late because they are not equipped with the necessary equipment. This can lead to delays and delays in the flight, which can also lead to a problem. Additionally, airplanes tend to arrive late in certain countries, if they are not equipped with the right equipment, making it difficult to plan and a flight delay. This can be done by a delay or even a problem. This can lead to delays and delays in the flight. This can lead to delays and delays. In addition, planes tend to arrive late train and other factors can lead to late arrivals. Additionally, airplanes tend to arrive latextrad on time, which can lead to a longer flight. This can lead to delays and delays.</s>\n",
      "########\n",
      "*******\n",
      "question: Where is glue well used?\n",
      "answer: art room\n",
      "choices: ['desk drawer', 'cabinet', 'art room', 'school', 'closed container']\n",
      "common expl list: ['Glue is used in art projects, and art rooms are where art projects are done.']\n"
     ]
    },
    {
     "name": "stderr",
     "output_type": "stream",
     "text": [
      "\r",
      " 10%|████████████████▌                                                                                                                                               | 102/986 [1:33:41<11:44:37, 47.83s/it]"
     ]
    },
    {
     "name": "stdout",
     "output_type": "stream",
     "text": [
      "generated explanation: <pad> <extra_id_0> Glue is a common product used in art rooms because it helps to create beautiful and durable objects. It is also a great way to add dimension to your creations. Glue can be used to create patterns, shapes, and textures that can be used to create a variety of effects. It can also be used to bond objects together, creating a strong bond between them. It can also be used to reinforce edges and create texture. Glue can also be used to create a variety of effects, such as adding texture, as well as paint, creating a design element that glue can be used to create a variety of different types of creative projects. It can also be used to create a variety of materials, from the design of the creative process. Glue is a great tool for a variety of applications, such as paper, and other creative process. It can be used to create a variety of materials. Glue is a versatile material that can be used to create a variety of designs, such as creating a variety of designs, such as paper, or even as.</s>\n",
      "########\n",
      "*******\n",
      "question: Billy loves science, history, and art but isn't very creative.  When he was visiting the museum, he felt a great deal of what emotion?\n",
      "answer: enjoyment\n",
      "choices: ['inspiration', 'fulfillment', 'wonder', 'boredom', 'enjoyment']\n",
      "common expl list: ['When Billy visited a museum which had a lot of fields of interest, Billy enjoyed himself while he learned from the experience at the same time.', 'At a museum, Billy uses history to find science, and science to find art; by combining different loves, going to the museum has been fulfilling. To achieve fulfilment, Billy felt an enjoyable feeling.']\n"
     ]
    },
    {
     "name": "stderr",
     "output_type": "stream",
     "text": [
      "\r",
      " 10%|████████████████▋                                                                                                                                               | 103/986 [1:34:28<11:41:31, 47.67s/it]"
     ]
    },
    {
     "name": "stdout",
     "output_type": "stream",
     "text": [
      "generated explanation: <pad> <extra_id_0> Billy was feeling a great deal of enjoyment when he visited the museum. He felt a great deal of enjoyment because he was able to observe and experience the different things that the museum had to offer. This was possible because the museum had a wide variety of exhibits, which included art, science, and history. The museum was also a great place to learn about the cultures of the area, as well as the history of the area. The museum was a great place to learn about the history of the area, which included the culture of the world. It was also a great deal of enjoyment because he was in the museum, which is a great deal of enjoyment is a great deal of enjoyment. This is because it is a great deal of enjoyment is a great deal of the museum is a great deal of the area of the museum is a great deal of the collection of objects, which is a great deal with the museum, which is a great deal of the collection. It was also a great place to see and to enjoy the museum is a great place to learn about the museum, which is a great place to see and feel a great deal of art, and a great place to enjoy.</s>\n",
      "########\n",
      "*******\n",
      "question: Sarah did much hard work, even though she was on vacation.  Her mother told her off and said what?\n",
      "answer: do nothing\n",
      "choices: ['unemployment', 'say something', 'earn money', 'do nothing', 'relaxation']\n",
      "common expl list: ['If one is on vacation, one is supposed to \"do nothing\" as opposed to working - the \"something\" that is discouraged. Many physically hard jobs involve getting the hands dirty.']\n"
     ]
    },
    {
     "name": "stderr",
     "output_type": "stream",
     "text": [
      "\r",
      " 11%|████████████████▉                                                                                                                                               | 104/986 [1:36:07<15:25:27, 62.96s/it]"
     ]
    },
    {
     "name": "stdout",
     "output_type": "stream",
     "text": [
      "generated explanation: <pad> <extra_id_0> Sarah did hard work even though she was on vacation. Her mother told her off because she was busy and she was off to do something else. She explained that her mother was telling her off because she was taking a vacation. She was telling her off because she was busy and she wanted to relax and enjoy herself. She was also telling her off because she was taking a break from her hard work and was on vacation. Her mother also told her off because she was taking a long weekend off. Her mother was telling Sarah off to do nothing because she was taking a vacation. Sarah was taking a vacation. Her mother was telling her off because she was taking care of her family and care of her mother was telling her off so that she was taking a vacation would not be able to take a vacation, and she was taking advantage of her vacation. Sarah was taking a vacation is a great way to get ready for work and she was on vacation. She was taking a lot of hard work, and taking care of her family. She was taking care of her mother and was telling her off. She was taking care of her daughter and taking care of her daughter, taking care of her mother was taking care of her daughter, which was taking care of her son, and taking care of her mother’s vacation. She was taking care of her mother’s off on vacation. She was taking care of her son was taking care of her son, and taking care of her mother’s son, and taking care of her son, and taking care of her daughter, and taking care of her son, and taking care of her son, and taking care of her mother, she told off from her son and taking care of her own.</s>\n",
      "########\n",
      "*******\n",
      "question: James walked barefoot on a something that was made hot by sunshine. What is he probably walking on?\n",
      "answer: street\n",
      "choices: ['desktop', 'summer', 'moon', 'meadow', 'street']\n",
      "common expl list: ['Because of the intense heat of summer, sunlight reflects off the pavement, causing a hot sensation when one walks barefoot in the summer.']\n"
     ]
    },
    {
     "name": "stderr",
     "output_type": "stream",
     "text": [
      "\r",
      " 11%|█████████████████                                                                                                                                               | 105/986 [1:36:32<12:40:29, 51.79s/it]"
     ]
    },
    {
     "name": "stdout",
     "output_type": "stream",
     "text": [
      "generated explanation: <pad> <extra_id_0> James probably walked barefoot on a street that was made hot by sunshine. This is because the surface of the street is heated by the sun, and the heat from the sun can make the surface of the street hot. The sun also heats the asphalt, which can make it very hot. This can make the surface of the street very hot, and it can also cause the asphalt to crack and crack under the sun. This can lead to a slippery surface, which can be dangerous for pedestrians. The pavement is usually made of asphalt, which can be dangerous for people walking on the street, as it is hot, and dangerous for pedestrians, especially dangerous for cyclists, as it can be dangerous for pedestrians to walk a car or other people. James walked a street on a hot surface that is made by the sun can be dangerous for people, and dangerous for anyone who wants to walk on the street. The surface is probably dangerous for people, and dangerous for pedestrians to get hot and become slippery. a pedestrian who wants to protect themselves from the sun.</s>\n",
      "########\n",
      "*******\n",
      "question: He grew tired of standing in the kitchen his whole shift, where was he?\n",
      "answer: restaurant\n",
      "choices: [\"neighbor's house\", \"friend's house\", 'restaurant', 'jail', 'fraternity house']\n",
      "common expl list: ['One can get tired standing in a kitchen if one is on their feet all day; kitchens are typically in restaurants.', 'A restaurant would have a kitchen, where you would be required to stand while your shift is in session.']\n"
     ]
    },
    {
     "name": "stderr",
     "output_type": "stream",
     "text": [
      "\r",
      " 11%|█████████████████▏                                                                                                                                              | 106/986 [1:38:24<17:04:00, 69.82s/it]"
     ]
    },
    {
     "name": "stdout",
     "output_type": "stream",
     "text": [
      "generated explanation: <pad> <extra_id_0> He grew tired of standing in the kitchen for the whole shift at a restaurant. He grew tired of standing in the kitchen because it was a constant motion. Standing in the kitchen was a constant motion, which meant that he was constantly being asked to move around the kitchen. Standing in the kitchen was a tedious task for a person who was used to doing repetitive tasks, and it was also a time-consuming process. He was constantly being asked to do repetitive tasks, and he was tired of being asked to move around the restaurant. Being in a restaurant is a place where a restaurant is a great place to work, which is a restaurant. Restaurants are a great place to work, and a great way to get to relax and enjoy the atmosphere. Standing in the kitchen, a restaurant is a great way to work, and a great place to relax and enjoy his job while working in a great way, and a restaurant is a great place to work. a place to work in a great place to relax and a great place where a restaurant is a great place to work is a great place to be a great place to work and a great place to work in a restaurant is a great place to work in a great place to work, a great place to work, a place to work and a restaurant is a great place to get out of work and to work, and enjoy the restaurant is a great place to do so that a great place to do is a great place to do, and get some time to relax and a person can work in a great place to be a great place to come together and a great place to be a great place to be in a restaurant, and a great place to work and a great place to be a great place to be a great place to do a great place to be a restaurant a great place to do a great job.</s>\n",
      "########\n",
      "*******\n",
      "question: The children play cards often, but they make their own rules because they can't what the originals?\n",
      "answer: remember\n",
      "choices: ['bid', 'concentrate', 'winning', 'count', 'remember']\n",
      "common expl list: ['Children often play games that are similar to those played by adults, such as card games, but with slight variations to how they are played. This is most likely because children cannot remember the original rules of the card games. Smiling is a common expression', \"The children are making up their own rules because they can't remember the original rules.\"]\n"
     ]
    },
    {
     "name": "stderr",
     "output_type": "stream",
     "text": [
      "\r",
      " 11%|█████████████████▎                                                                                                                                              | 107/986 [1:38:51<13:53:08, 56.87s/it]"
     ]
    },
    {
     "name": "stdout",
     "output_type": "stream",
     "text": [
      "generated explanation: <pad> <extra_id_0> The children play cards often because they make their own rules because they can't what the originals. This is because the originals are too complicated to be followed. The children make their own rules because they can't follow the originals. The rules are often based on the originals, and the originals are often too difficult to understand. The children make their own rules because they cannot follow the originals because they are too complex to understand. The children make their own rules to follow, and the original rules are too complex to follow. The children can also make their own rules because they can't remember the original rules of the originals. The children make their own rules because they have no way to follow the originals. The original rules are also often used in the game, and the originals are also often too complex to follow. The children make their own rules, and they can't follow the originals. They also make their own rules, and make their own rules, and they can't follow the originals. This is because they are too complex to follow. They make their own rules because they can't follow the originals.</s>\n",
      "########\n",
      "*******\n",
      "question: On an average day, going to work could make you feel like what?\n",
      "answer: feeling good\n",
      "choices: ['feeling good', 'anger', 'revelation', 'being fired', 'tardiness']\n",
      "common expl list: ['To fulfill a life purpose and to gain fulfillment, people often undertake gainful employment. Thus, the people who experience this data point might experience feelings of accomplishment/fulfillment.', 'People sometimes feel pride and accomplishment when they get things done at the office.']\n"
     ]
    },
    {
     "name": "stderr",
     "output_type": "stream",
     "text": [
      "\r",
      " 11%|█████████████████▌                                                                                                                                              | 108/986 [1:39:22<12:01:21, 49.30s/it]"
     ]
    },
    {
     "name": "stdout",
     "output_type": "stream",
     "text": [
      "generated explanation: <pad> <extra_id_0> On an average day, going to work could make you feel like what? Feeling good is a feeling that comes with being in a job environment. It is a feeling that comes with being a part of a team, being part of a team, and being a part of something bigger than just yourself. It is a feeling that comes with being a part of a team, and it is a feeling that comes with being part of a team. It is a feeling that is a result of being part of the stress that comes with the stress that comes with work environment, and stress levels. This can cause people to feel like they are working in a positive. It is a feeling good result of being in a team, and it is a team. It is a feeling good feeling good job can make you feel good overall. It is a positive environment that makes you feel good and it is a team. It is important to be a positive environment in a team. Having a team can make you feel good because it can make you feel good about your work. It is a positive and can make you feel good.</s>\n",
      "########\n",
      "*******\n",
      "question: What country has the carpathians and is the furthest in the direction of the side that won the U.S. Civil War?\n",
      "answer: poland\n",
      "choices: ['slovakia', 'slovenia', 'poland', 'ukraine', 'romania']\n",
      "common expl list: ['Poland is the only country that has the carpathian mountains, and it was the most distant in the direction from the side that won the U.S. Civil War (the North).']\n"
     ]
    },
    {
     "name": "stderr",
     "output_type": "stream",
     "text": [
      "\r",
      " 11%|█████████████████▋                                                                                                                                              | 109/986 [1:40:04<11:26:47, 46.99s/it]"
     ]
    },
    {
     "name": "stdout",
     "output_type": "stream",
     "text": [
      "generated explanation: <pad> <extra_id_0> The carpathians are a mountain range in central Europe that extends from the Alps to the Baltic Sea. The mountains are located in the Carpathians, which are a part of the Polish territory. The mountains are part of the Polish Empire, which is a European country with a long history of civil war. The mountains are a natural barrier to the sea, allowing for easy travel and navigation. The mountains also provide a natural backdrop for the countryside, which is important for the survival of the region. The mountains are also provide a great opportunity for the carpathians to the Union, which side that won the carpathians. The mountains are also a unique geographically diverse landscape and history, with the region providing a unique geologically diverse geographically diverse landscape. The carpathians are also a great geographic feature of the region, making it a great geographically diverse and culturally diverse and diverse landscape, and diverse. The mountains are also a unique geographically diverse and culturally diverse range of landscape and geographical features that make it unique geological heritage and historical interest in the carpath. The carpathians are also a unique geographically unique geologically unique geologically<extra_id_26> </s>\n",
      "########\n",
      "*******\n",
      "question: What would happen if you want to win a game?\n",
      "answer: competitiveness\n",
      "choices: ['competitiveness', 'satisfaction', 'learning', 'injuries', 'play']\n",
      "common expl list: [\"Victory in a game requires one to make a maximum effort, and peoples' desire to win has to be rather competitive.\", 'Competitive athletes would want to win their games, whatever the cost; this desire to win leads to competitiveness and creates the desire to win over even long periods of time; it also often leads to brutal physical play --- such as by causing injuries to opposing r', 'If you want to win a game, you will try put your best effort to take your chances at winning over those of your opponents.', 'To win a game, you must be competitive.', 'After playing a game, a person would be likely compelled to win the game becasue they want a feeling of satisfaction from winning the game. In order to win, a person would need to be competitive.']\n"
     ]
    },
    {
     "name": "stderr",
     "output_type": "stream",
     "text": [
      "\r",
      " 11%|█████████████████▉                                                                                                                                               | 110/986 [1:40:17<8:56:32, 36.75s/it]"
     ]
    },
    {
     "name": "stdout",
     "output_type": "stream",
     "text": [
      "generated explanation: <pad> <extra_id_0> Competitiveness is a key factor in winning a game. Competitiveness is the ability to be competitive and to win a game with the help of teammates and other players. It is a trait that is often overlooked in sports, but it is important to have in any competitive environment. It is important to have the right amount of competition to win a game. Competitiveness is a key factor in winning a game, as it helps to determine whether you will be able to win. It helps to have a competitive edge in a game, which helps to win the team and to win. It is important to win a competitive spirit and to win. It is important to have the ability to win a game, as it can help you gain the confidence and gain confidence to win a competitiveness. Competitiveness is also important to win a game. Competitiveness is important to win in a competitive spirit.</s>\n",
      "########\n",
      "*******\n",
      "question: Where should watch to avoid being pinched by a crab?\n",
      "answer: sandy beach\n",
      "choices: ['eastern coast', 'sandy beach', 'fish market', 'north carolina', 'sand dunes']\n",
      "common expl list: ['Crabs live in sandy areas, and people who visit sandy beaches are likely to be pinched by crabs.', 'It is more common to find crabs living in sandy beach areas.']\n"
     ]
    },
    {
     "name": "stderr",
     "output_type": "stream",
     "text": [
      "\r",
      " 11%|██████████████████                                                                                                                                               | 111/986 [1:40:45<8:17:30, 34.12s/it]"
     ]
    },
    {
     "name": "stdout",
     "output_type": "stream",
     "text": [
      "generated explanation: <pad> <extra_id_0> Watching for crabs on a sandy beach is the best way to protect yourself and your family. Sandals are often found along beaches and in shallow water, which makes them a great place to find crabs. However, crabs can be aggressive and can bite you in the face. Crabs can also bite you in the stomach, causing a boil or a puncture. This can result in a puncture wound, which can be life-threatening. Crabs can also be aggressive and can bite you in the stomach, a person being pinched. Additionally, crabs can be caught by being pinched. Crabs can be dangerous to people who are often in shallow water, and can be dangerous for people. Crabs can also be a sandy beach can be a sandy area, as they are often found in a variety of different shells and different species of shells. Crabs can also be dangerous for people and can be deadly if they are caught by a crab. Crabs are often found in shallow and can be pinched by a crab. Crabs can also be if they are caught in the shells, or a shellfish.</s>\n",
      "########\n",
      "*******\n",
      "question: What is a large group of human beings?\n",
      "answer: civilisation\n",
      "choices: ['an infestation', 'civilisation', 'homes', 'graveyard', 'spacecraft']\n",
      "common expl list: ['Civilisation is generally used to refer to large populations of humans living together in a single area, responding to collective needs.']\n"
     ]
    },
    {
     "name": "stderr",
     "output_type": "stream",
     "text": [
      "\r",
      " 11%|██████████████████▏                                                                                                                                             | 112/986 [1:42:24<13:00:41, 53.59s/it]"
     ]
    },
    {
     "name": "stdout",
     "output_type": "stream",
     "text": [
      "generated explanation: <pad> <extra_id_0> Civilisation is a large group of human beings that have come together to form a large civilisation. Civilisation is a group of human beings that have come together to form a large group of people, usually around the same goal: to live together in harmony. Civilisation is a term used to describe a group of people who have come together to form a civilised society. Civilisation is a group of people who have come together to form a civilised society. Civilisation is a group of people who have a common ground for all of human beings to live together to live together as a large group of people together to live in a common ground for mutual respect and to live together in a group of people, and work together to create a common common goal. Civilisation is a large group of people who have created a common goal to achieve common goal of a common goal. Civilisation is a group of human beings who have come together to form a large group of people who have come together to create a civilisation. Civilisation is a large group of human beings that has been created by a common goal of human beings who have been a common goal for human beings and have shared this goal: to create a large group of people. Civilisation is a large group of human beings who have come together to achieve this is a large group of human beings who have been around the world, and are a large group of people who have come together to achieve this is a large group of people who have come together to achieve this is a group of people who have been a large group of people who have achieved it is a large group of people who are a large group of people who have come together to form a group of people who are a large group of people who have a group of people who have reached a common goal of human beings who are a common goal is a large group of<extra_id_27> </s>\n",
      "########\n",
      "*******\n",
      "question: What  is likely to happen to ice in the sun?\n",
      "answer: become water\n",
      "choices: ['cool water', 'cool drink', 'cool off', 'nothing', 'become water']\n",
      "common expl list: ['because hot melts cold, ice will melt if kept in the sun.', 'When ice is exposed to the sun, it melts, becoming water.']\n"
     ]
    },
    {
     "name": "stderr",
     "output_type": "stream",
     "text": [
      "\r",
      " 11%|██████████████████▎                                                                                                                                             | 113/986 [1:43:48<15:12:46, 62.73s/it]"
     ]
    },
    {
     "name": "stdout",
     "output_type": "stream",
     "text": [
      "generated explanation: <pad> <extra_id_0> The sun is the most likely place for ice to form. It is the only place in the world where ice can be formed indefinitely. The sun can also create heat, which can lead to a cooling effect. This can occur when ice melts and cools, forming new ice crystals. This can lead to a rapid melting of ice, which can lead to a rapid rise in temperature. The sun also heats the ice crystals sufficiently to form a solid ice crystal, which can be formed in the sun. The sun can also change in the sun can cause the melting of the sun ice crystals, which can lead to melt and melts quickly, causing the melting of ice and melting. The sun also creates new ice crystals and melts resulting in the Earth's surface. The sun's heat is a process which can lead to the formation of a melting of the formation of ice and melting of resulting in the sun's surface, leading to the formation of a process. The sun's surface a chemical change of the resulting in the ice to become water and a change. The sun also creates a new ice formation in the sun, which can then become a further a new a process. The sun also creates a new ice crystals and melting of resulting in the sun is likely to become a second, which is likely to a second phase, which is likely to become water in the a second phase, which is likely to become a second, and then a second, which is a second, resulting in the a process, which is likely to become water in the sun's and become ice, and melting of resulting in the sun's first step.</s>\n",
      "########\n",
      "*******\n",
      "question: Where can travellers pull off the road to stretch their legs?\n",
      "answer: rest area\n",
      "choices: ['rest area', 'airport', 'train station', 'come home', 'bus depot']\n",
      "common expl list: ['Rest areas are places where people can pull off the road to stretch their legs, and they are often located near gas stations, which are frequented by travellers.', 'Rest areas are publicly provided spaces for drivers to get out of their cars for a break. Train stations, bus depots, come home, and airports are all places where one might catch a bus, train, taxi, or plane, or have arrived', 'Rest areas generally allow travelers to spend time away from the roads, which are generally connecting points to large cities and particular highway names.']\n"
     ]
    },
    {
     "name": "stderr",
     "output_type": "stream",
     "text": [
      "\r",
      " 12%|██████████████████▍                                                                                                                                             | 114/986 [1:44:30<13:40:32, 56.46s/it]"
     ]
    },
    {
     "name": "stdout",
     "output_type": "stream",
     "text": [
      "generated explanation: <pad> <extra_id_0> Travellers can pull off the road to stretch their legs to avoid traffic jams. By pulling off the road to stretch their legs, they are able to stretch their legs to a comfortable level. This allows them to take a break from the road and unwind. By pulling off the road, they can also take a break from the rush of the road and relax in a comfortable environment. By pulling off the road, they are able to take a break from the traffic and relax in a safe, comfortable environment. They can also use the opportunity to take advantage of the road for a break in the city. The road can also provide a place to unwind and to unwind. The rest area is ideal for travellers who want to take a break in the road, and can take a rest areas of the road to stretch their legs to stretch their legs to relax and take their tiredness. By pulling off the road, it is easier for travellers to take a rest and getting off the road, it is important to take their legs to take a break from the road and relax. In addition, the road can help travellers relax and take their tiredness. Moreover, rest area allows them to take a break from the road and to take a break from the road to take a break. It can also be used for those who are looking for a break.</s>\n",
      "########\n",
      "*******\n",
      "question: A poor family has no decorations in December, what would make a great gift?\n",
      "answer: christmas tree\n",
      "choices: ['food', 'specialty store', 'christmas tree', 'department store', 'christmas stocking']\n",
      "common expl list: ['In December, most families tend to put up christmas decorations. A christmas tree would make a good gift for a poor family.', 'The family is poor, so we might assume that they have nothing for decoration for their Christmas season. To help fix this, a Christmas tree would be the greatest gift.', 'A christmas tree is a traditional decoration for christmas.']\n"
     ]
    },
    {
     "name": "stderr",
     "output_type": "stream",
     "text": [
      "\r",
      " 12%|██████████████████▋                                                                                                                                             | 115/986 [1:45:16<12:54:35, 53.36s/it]"
     ]
    },
    {
     "name": "stdout",
     "output_type": "stream",
     "text": [
      "generated explanation: <pad> <extra_id_0> A poor family has no decorations in December. A christmas tree would be a great gift for a poor family because it would provide them with a Christmas tree to decorate their home. A christmas tree would provide a family with a warm and cozy environment to spend the holidays. A christmas tree also provides a source of entertainment for the family, as it provides entertainment and a source of food for the children. A christmas tree also provides a source of warmth and comfort for the family. A christmas tree can also be a source of entertainment for the holidays. Christmas decorations such as a Christmas trees can be a great gift for a family who can use it to provide a family with decorations in the home. Christmas tree also provides a great way to give the family with Christmas gifts for the whole year. Christmas tree can also be a great way to give a gift for a family. Christmas tree can be a great gift for a great gift for a poor family. It can be a great gift for a great gift for a great gift for a great gift for a poor family can be a great gift for a great Christmas tree. It can be a great gift for a family. It can be bought for a great gift for a great gift for a poor family.</s>\n",
      "########\n",
      "*******\n",
      "question: Where would you buy jeans in a place with a large number of indoor merchants?\n",
      "answer: shopping mall\n",
      "choices: ['shopping mall', 'laundromat', 'hospital', 'clothing store', 'thrift store']\n",
      "common expl list: ['Shopping malls usually contain a large variety of stores, including stores that sell clothes and jeans.', 'Since malls (or indoor shopping centers in general) contain numerous merchants, including clothing stores, you could purchase jeans in one such store.', 'Shopping malls often have a large number of stores, including clothing stores.']\n"
     ]
    },
    {
     "name": "stderr",
     "output_type": "stream",
     "text": [
      "\r",
      " 12%|██████████████████▊                                                                                                                                             | 116/986 [1:46:13<13:08:39, 54.39s/it]"
     ]
    },
    {
     "name": "stdout",
     "output_type": "stream",
     "text": [
      "generated explanation: <pad> <extra_id_0> Shopping malls are large indoor shopping centers that are filled with indoor merchants. This makes it easy for shoppers to find the right jeans in a shopping mall. Shopping malls also provide a variety of shopping options, such as clothing, shoes, accessories, and jewelry. In addition, shopping malls also provide a convenient way to spend time in a variety of indoor environments, such as in a shopping center, a mall, or a department store. In addition, shopping malls also provide a convenient way to shop for clothes, as they can be found in a variety of styles and prices. Shopping malls also provide a convenient way to store, making it easier for consumers to find the items they need. Shopping malls also provide a convenient way to get the convenience of shopping experience, as well as the convenience of being a central location, which makes it easier to find the right clothes. Shopping malls offer a variety of services, as well as a shopping experience. Shopping malls also provide a variety of services, which makes it easier for consumers to find the right to find the right clothes they need to find the right for the right fit for them. Shopping malls offer discounts on offer, and<extra_id_27> s for the customer. Shopping malls a convenient and<extra_id_27> of the convenience of shopping experience. Shopping malls offer discounts and services, which makes it easier for shoppers to find the right jeans.</s>\n",
      "########\n",
      "*******\n",
      "question: If I wanted to get some oxygen, what will I get it from?\n",
      "answer: air\n",
      "choices: ['the sky', 'air', 'earth', 'space shuttle', 'water']\n",
      "common expl list: ['Oxygen is found in the air.']\n"
     ]
    },
    {
     "name": "stderr",
     "output_type": "stream",
     "text": [
      "\r",
      " 12%|██████████████████▉                                                                                                                                             | 117/986 [1:46:59<12:32:36, 51.96s/it]"
     ]
    },
    {
     "name": "stdout",
     "output_type": "stream",
     "text": [
      "generated explanation: <pad> <extra_id_0> I would get oxygen from air because air is the most pure form of oxygen available. Air is a very clean and oxygen-rich gas. It is a gas that is derived from the atmosphere, which is a naturally occurring gas that is dissolved in water. It is a vital ingredient in many foods, such as fresh vegetables, meat, fish, and dairy products. It is also a great source of energy, helping to provide the body with the energy it needs to function. This helps to provide the body with the oxygen it needs oxygen that is necessary for breathing. It is important to ensure that the oxygen is provided by the air. It is a good source of oxygen, which is essential for breathing, as it is important for the body to ensure that the air has been a healthy environment, and safe source of oxygenated. It is also important to ensure that the body is able to provide the environment, and healthy environment. It is also important to ensure that the oxygen is produced in the body with the oxygen it needs. In addition, oxygen can be found in the air, such as breathing, and respiratory system. This is important for breathing because oxygen is important for the body. It is important to ensure that the body has enough oxygen is getting rid of any harmful substances that are not wasted. This means that the oxygen is needed to remain in the body needs. This is a necessary for the body to keep the body's oxygen supply of course.</s>\n",
      "########\n",
      "*******\n",
      "question: What happens after having food too much?\n",
      "answer: getting fat\n",
      "choices: ['being full', 'laziness', 'weight gain', 'getting fat', 'will not starve']\n",
      "common expl list: ['People will become fat, and even obese from eating too much food.', 'Eating too much food causes one to gain weight, and thus become fat.', 'Eating too much food causes one to become obese.']\n"
     ]
    },
    {
     "name": "stderr",
     "output_type": "stream",
     "text": [
      "\r",
      " 12%|███████████████████▏                                                                                                                                            | 118/986 [1:47:50<12:25:59, 51.57s/it]"
     ]
    },
    {
     "name": "stdout",
     "output_type": "stream",
     "text": [
      "generated explanation: <pad> <extra_id_0> After having food too much, it is easy to see why people get fat. Fat is a sign that your body is not producing enough energy to properly process the food that you eat. When you eat too much, your body begins to produce fat, which can lead to weight gain. This can be a sign that your body is not producing enough insulin, which can lead to an increase in body fat. In addition, eating too much can also lead to fat storage, which can lead to the body storing fat that is not as needed for energy. In addition, it can lead to gain weight loss. a number of calories, which can lead to a decrease in your body needs to the body, which can cause by eating too much. This can lead to lose muscle tissue, which can lead to gain weight loss. Getting fat is a process, which can lead to the body becoming fat storage. This can also lead to a decrease in your body, which can lead to a healthy weight gain. In addition, too much fat can lead to a decrease in your overall health. This can lead to a person being overweight, which can lead to a number of pounds in the body, and can lead to a person becoming overweight. a healthy weight gain, and can lead to a number of calories, and can lead to a person to a loss of fat, as well as it is likely to a decline. a person getting fat becomes fat and can lead to a sudden increase in weight, and therefore becoming obese over time.</s>\n",
      "########\n",
      "*******\n",
      "question: It was the first time they had met their new niece, it was good to have everybody together at the annual what?\n",
      "answer: family reunion\n",
      "choices: [\"brother's house\", 'family picture book', 'family tree', 'family reunion', 'book']\n",
      "common expl list: ['A family reunion is called a family reunion because this is where all of the family members gather for the re-union.']\n"
     ]
    },
    {
     "name": "stderr",
     "output_type": "stream",
     "text": [
      "\r",
      " 12%|███████████████████▎                                                                                                                                            | 119/986 [1:48:42<12:29:50, 51.89s/it]"
     ]
    },
    {
     "name": "stdout",
     "output_type": "stream",
     "text": [
      "generated explanation: <pad> <extra_id_0> The family reunion is an annual event that takes place every year. It is an event that brings together family members and friends. It is a time when everyone gets together to celebrate a special occasion, such as the birth of a new child, the birth of a new nephew, or the arrival of a new niece. It is also an opportunity for the family to reconnect and share stories and laughs. It is also an opportunity for the family to get together and share memories and experiences. The reunion is an annual event that brings together family members of the family, and it is an opportunity to share stories, share in the years, and to share their experiences. The reunion is an annual event that allows the family reunion. It is an opportunity to share stories, and celebrate the new person. The reunion is an annual event that the family gathers together to celebrate the new niece's birth, and their new niece's, and share in a special moment. The family reunion is an annual event that the reunion is an opportunity to share special memories with other members of the reunion. It is an annual event that allows the reunions to share in the family members of the reunion. It is an opportunity for the reunion. It is an opportunity to share in the joy of the bond between the family. It is an annual event that brings together. It is an opportunity for the reunion is an opportunity to share the joy and to be a special occasion. It is an opportunity for the reunion is a time of the family. It is an annual family reunion is an opportunity to be with the family, and to share the joy of the joy of the family. It is an opportunity to be shared and to share in the family. It is an annual reunion is an annual event that is an opportunity to be a special time with their new niece and to be together.</s>\n",
      "########\n",
      "*******\n",
      "question: If you're expressing yourself in a public forum, what may you experience?\n",
      "answer: stage fright\n",
      "choices: ['danger', 'embarrassment', 'stage fright', 'getting arrested', 'blank stares']\n",
      "common expl list: ['A common example of expressing oneself in public is on stage. Members of an audience may stare and become bored, and at worst they may hiss or boo.', 'Stage fright is the feeling of embarrassment or nervousness at the thought of being in front of people, and being on stage for a performance is a good example of a place where one often experiences stage fright. In such a case, their performance might be', 'If you are expressing yourself in a public forum, you may experience stage fright, which is the fear of being embarrassed in front of a large audience.']\n"
     ]
    },
    {
     "name": "stderr",
     "output_type": "stream",
     "text": [
      "\r",
      " 12%|███████████████████▌                                                                                                                                             | 120/986 [1:48:54<9:35:20, 39.86s/it]"
     ]
    },
    {
     "name": "stdout",
     "output_type": "stream",
     "text": [
      "generated explanation: <pad> <extra_id_0> Stage fright is a form of anxiety that can occur when expressing yourself in public. It can be a fear of public speaking, public speaking, or a fear of being judged. It can be a fear of being seen, or of being judged. It can also be a fear of being judged. It can be a feeling of being judged that comes with being judged, or of being judged. It can be a feeling of being judged, or of being judged. It can be threatening, or even harm to your life. It is important to have a healthy and healthy mind so that you are a person. It is important to be aware of the world. It is important to have a healthy and healthy lifestyle. It is important to be aware of your voice in public speaking, and to be used to communicate effectively and to be heard. It can be a fear of being judged. It can be a fear of being judged, and of your own voice. It can be a person's confidence. It is important to understand the difference between being judged and being judged. It is important to be aware of the emotions that come to have a healthy mind and<extra_id_26> </s>\n",
      "########\n",
      "*******\n",
      "question: He was eating too much while no exercising enough, what did he suffer as a result?\n",
      "answer: gain weight\n",
      "choices: ['hungry', 'gas', 'obesity', 'gain weight', 'feeling full']\n",
      "common expl list: ['If you eat more than you burn, you gain weight.', 'Excessive food consumption leads to accumulation of fat, which then results in a higher body weight, i.e., weight gain.', \"If you eat too much and don't exercise enough, you will gain weight.\"]\n"
     ]
    },
    {
     "name": "stderr",
     "output_type": "stream",
     "text": [
      "\r",
      " 12%|███████████████████▊                                                                                                                                             | 121/986 [1:49:01<7:10:59, 29.90s/it]"
     ]
    },
    {
     "name": "stdout",
     "output_type": "stream",
     "text": [
      "generated explanation: <pad> <extra_id_0> He was eating too much while not exercising enough, and as a result, he gained weight. Gaining weight is a result of eating too much and not exercising enough. Eating too much and not exercising enough can lead to weight gain. Losing weight can be a sign of a healthy lifestyle, as exercising enough can help you lose weight. Eating too much and not exercising enough can also increase your risk of developing a disease such as diabetes or heart disease. Losing weight can also lead to a person gaining weight gain. Having too much can lead to gain weight gain weight gain or even gain weight gain weight gain. Having too much of the person gained weight can cause a person to gain weight gain weight because of the foods resulting in the person to gain more calories, and body fat, which can lead to a person a person gain weight.</s>\n",
      "########\n",
      "*******\n",
      "question: Randy was not doing housework.   His wife was raising two children, and this only increased her workload. It put her under a lot of stress.  What might this lead to?\n",
      "answer: arguments\n",
      "choices: ['asthma', 'more', 'boredom', 'headache', 'arguments']\n",
      "common expl list: ['Stress is often related to family life. Being under stress, the wife might verbally lash out at her husband, which could potentially lead to arguments']\n"
     ]
    },
    {
     "name": "stderr",
     "output_type": "stream",
     "text": [
      "\r",
      " 12%|███████████████████▉                                                                                                                                             | 122/986 [1:49:28<6:59:47, 29.15s/it]"
     ]
    },
    {
     "name": "stdout",
     "output_type": "stream",
     "text": [
      "generated explanation: <pad> <extra_id_0> Randy was not doing housework, which only increased his wife’s workload. This could lead to a lot of stress for her and the children. Randy was not doing housework, which increased her workload and increased her stress. This could lead to a lot of arguments, including arguments about whether or not she was doing enough housework, and Randy was not doing enough housework to support his arguments. This could lead to Randy not doing enough housework, which could lead to arguments about whether or not his wife was doing enough housework to support his argument, as well as it could lead to the argument that stressors. Randy was not doing housework could lead to a lot of stress could lead to a lot of arguments, and even worsenize his family. This could lead to Randy’s stress, which could lead to a lot of time for his wife being overwhelmed, which could lead to arguments. This could lead to Randy’s wife and children being overwhelmed by their parents. This could lead to a lot of stress. It could lead to Randy’s wife and a lot of stress could lead to argue that his wife and children could be a lot of stress. This could lead to a lot of stress because of his wife and his family, and could lead to stress.</s>\n",
      "########\n",
      "*******\n",
      "question: Where can you learn about a ferret with special abilities far beyond normal ferrets?\n",
      "answer: comic book\n",
      "choices: ['comic book', 'out of doors', 'great britain', 'redwall', 'north carolina']\n",
      "common expl list: ['ferrets are lovable pets that occasionally pop up in comic or animated shows and movies. Occasionally a ferret is rodent, but more often they are the companion of a hero.']\n"
     ]
    },
    {
     "name": "stderr",
     "output_type": "stream",
     "text": [
      "\r",
      " 12%|████████████████████                                                                                                                                             | 123/986 [1:49:41<5:50:45, 24.39s/it]"
     ]
    },
    {
     "name": "stdout",
     "output_type": "stream",
     "text": [
      "generated explanation: <pad> <extra_id_0> A ferret has special abilities that far exceed normal ferrets. In comic books, ferrets are portrayed in a variety of ways, including their unique personalities, and their ability to adapt to situations. For example, a ferret can fly, jump, and turn into a wolf, a wolf, or even fly. This allows them to have a sense of intelligence and intelligence that is hard to duplicate in a human. This also allows them to develop powerful social skills, such as fighting, such as hunting, such as being able to their environment. Additionally, comic books often feature characters in comics, and their abilities, such as their personalities, and even have been shown in the way that they have special abilities. This allows them to develop their ability to learn new and develop new abilities, as hunting, and to gain a variety of abilities, such as they gain knowledge of their abilities, such as they have been given their abilities, such as their ability to communicate with other animals, and their abilities. This allows them to become more advanced abilities, as a powerful weaponized skin, and even fight off.</s>\n",
      "########\n",
      "*******\n",
      "question: When people have guests over, what do they often do for their guests?\n",
      "answer: cook food\n",
      "choices: ['talk to each other', 'learn from each other', 'demand justice', 'cook food', 'share food']\n",
      "common expl list: [\"People often prepare and share food because it's a way to welcome and appreciate each other.\", \"It's common to cook food for guests, which can feed everyone.\", \"When people have guests over, it's common for them to make food for their guests.\", 'People often cook food for their guests.', \"People who have guests (guests of any kind) over tend to cook them food. The food can either be pre-cooked, and ready to be served upon the guest's arrival, or consumed while the two of them have a conversation.\"]\n"
     ]
    },
    {
     "name": "stderr",
     "output_type": "stream",
     "text": [
      "\r",
      " 13%|████████████████████▏                                                                                                                                            | 124/986 [1:49:52<4:50:12, 20.20s/it]"
     ]
    },
    {
     "name": "stdout",
     "output_type": "stream",
     "text": [
      "generated explanation: <pad> <extra_id_0> People often cook food when they have guests over because it is a fun activity to do together and it allows them to share with their guests. Cooking food is a great way to spend time with family and friends and it can be a great way to spend time together. It can be a great way to bond and socialize with them and their guests. Cooking food can be a relaxing and enjoyable activity for everyone involved. It can be a fun and relaxing activity that can be enjoyed by everyone. People can also enjoy a great time with friends and family and friends and friends and family members. This can be a great way to bond with other people and share a meal with friends and to share with their guests. Cooking can be a great way to bonding with their guests and share with their guests. This is especially important for people to make it a memorable experience. It can be a fun activity that people can help them to relax and entertain them with their guests. It can also be a great way to share with others. This can be a great way to share with their guests and cook for them. This can help them to create a great way to share with their guests. It can be a great way to create a special someone special someone's with their own personalize with their guests.</s>\n",
      "########\n",
      "*******\n",
      "question: Talking to someone is pointless if they're doing what?\n",
      "answer: not listening\n",
      "choices: ['dry mouth', 'whispering', 'being heard', 'eye contact', 'not listening']\n",
      "common expl list: ['People who are not listening to you will obviously not be able to understand your communication.', 'To be engaged in a conversation--particularly a one-on-one conversation, both people must be listening attentively.']\n"
     ]
    },
    {
     "name": "stderr",
     "output_type": "stream",
     "text": [
      "\r",
      " 13%|████████████████████▍                                                                                                                                            | 125/986 [1:50:06<4:22:13, 18.27s/it]"
     ]
    },
    {
     "name": "stdout",
     "output_type": "stream",
     "text": [
      "generated explanation: <pad> <extra_id_0> Not listening is a sign that someone is not listening. They are not listening to you, and they are not listening to you. Not listening is a sign that someone is not listening to you. Listening is a sign that someone is not listening to you, and listening is a sign that someone is not listening to you. Listening is a sign that someone is listening to you, and listening is a sign that someone is listening to you. Listening is a sign that someone is not listening, and it is a sign that they are not listening is a sign that someone is not listening, and not listening is a sign of someone is not listening. Not listening is a sign of being heard. Talking is a sign that someone is not listening to you. This is a sign that someone is not listening. Listening is a sign that someone is not listening. This is a sign that someone is not listening to someone is not listening. It is a sign that someone is not listening to you are not a sign that someone is not listening to you are not listening to you are not listening. Listening is a sign of being a sign that someone is not listening. This is a sign that someone is not listening to someone is not listening because it's doing something that someone is not listening to you are not<extra_id_27> </s>\n",
      "########\n",
      "*******\n",
      "question: If you are enjoying sunshine on the beach, what do you likely have views of?\n",
      "answer: sea\n",
      "choices: ['windowsill', 'sunbathers', 'disneyland', 'sea', 'summer']\n",
      "common expl list: ['To sunbathe, one would likely be found on a beach, where one would likely see the sea before anything else.', 'Seashores usually have views of the water (i.e., the \"sea\").', \"The beach is a place where people go to enjoy the sun, and so it's likely that the beach would have views of the sea.\"]\n"
     ]
    },
    {
     "name": "stderr",
     "output_type": "stream",
     "text": [
      "\r",
      " 13%|████████████████████▌                                                                                                                                            | 126/986 [1:50:17<3:53:24, 16.28s/it]"
     ]
    },
    {
     "name": "stdout",
     "output_type": "stream",
     "text": [
      "generated explanation: <pad> <extra_id_0> If you are enjoying sunshine on the beach, what you likely have views of is the sea. The sea is a natural feature of the beach, and is often a sight to behold. Sea views are often accompanied by the sounds of waves crashing against the shoreline. This can be a great place to relax and unwind, as the waves crashing against the shoreline are a constant constant source of noise and excitement. The sea is also a great place to enjoy a refreshing swim, as the water is usually calm, allowing you to relax and enjoy the waves. The waves are also likely to be seen from the shore, as they are a great place to enjoy the sun. The waves are often the calm and are a great place to unspoken to relax and enjoy the sea, and the waves a great place to unwind, as they are often a great place to relax and enjoy the sun. The sea views of the ocean is a great place to enjoy the sun, and the sea, and to enjoy the sun. The sea is a natural and is a great place to enjoy the sea is a great place to enjoy the sea, and the waves are a great place to relax and enjoy the sun<extra_id_27> </s>\n",
      "########\n",
      "*******\n",
      "question: What does an actor do while acting?\n",
      "answer: pretend\n",
      "choices: ['branch out', 'eat curry', 'wear costume', 'pretend', 'sing songs']\n",
      "common expl list: ['Actors pretend certain things. While acting, they might pretend to be in a different location by going somewhere close to a stage feed. Actors might also pretend to possess particular materials while on stage by carrying props.']\n"
     ]
    },
    {
     "name": "stderr",
     "output_type": "stream",
     "text": [
      "\r",
      " 13%|████████████████████▋                                                                                                                                            | 127/986 [1:50:30<3:37:15, 15.18s/it]"
     ]
    },
    {
     "name": "stdout",
     "output_type": "stream",
     "text": [
      "generated explanation: <pad> <extra_id_0> An actor pretends to be someone else. During a performance, the actor may use one or more words to describe the scene. The actor may also use the words pretend to describe the character they are portraying. The actor may also use the word pretend to describe the character they are portraying, which is a common sense way to describe the character. Performing pretend acts is a form of acting that involves a variety of physical and mental actions. The actor may also use the word pretend to describe a scene, such as Performing, such as playing a character, or a character, or character, or performing pretending to be able to perform a character, or character, or character. The act out loud, the character is a pretending, a character, or perform a scene, which can be a different character, or even perform a role. The role of an actor is a a fun and enjoyable activity for the character. The act is a fun, as it is a great way to help the character’s to create a character’s, and to create a character’s, or to create a character. The act is a character’s pretending a role, or a character’s, or a character’s character’s a character’s a character’s character, or a character’s’</s>\n",
      "########\n",
      "*******\n",
      "question: Where is a ring binder likely to contain budgets?\n",
      "answer: office\n",
      "choices: ['office', 'notebook', 'school', 'stationary shop', 'desk']\n",
      "common expl list: ['An office setting is the most likely place where a manager would keep a collection of budgets.', 'A ring binder is likely to contain budgets in an office, as budgets are often prepared by office workers.']\n"
     ]
    },
    {
     "name": "stderr",
     "output_type": "stream",
     "text": [
      "\r",
      " 13%|████████████████████▉                                                                                                                                            | 128/986 [1:50:46<3:40:35, 15.43s/it]"
     ]
    },
    {
     "name": "stdout",
     "output_type": "stream",
     "text": [
      "generated explanation: <pad> <extra_id_0> A ring binder is a common office storage solution because it stores financial statements in a standardized way. It is easy to find, store, and transport. It is a great way to store important documents, such as budgets, time sheets, and other documents. It is a great way to organize and store important documents, such as budgets, time sheets, and other documents. It is also a great way to store and organize important documents, such as annual reports, notes, and other important documents. It is also a binder can be used for other purposes, such as a budget, such as annual report, or individual budgets, or an office budget can be used to keep tracker. A ring binder is a great way to organize documents, and budgets for future reference. It is a great way to store important tool, and easy to store and easily accessible. It is a great way to organize budgets and other important tool for storing important budgets. It is a great way to store and organize your budgets in a budget in an office because it is a great way to store them. It is a great way to keep track of all of the budget in an office. It is a simple to store all of documents in an easy to access and easily accessible way to access them. It is also ideal for a way to keep track of course of budget and other documents, such as a budget in an office, and easily access. Budgets and other documents, such as an office.</s>\n",
      "########\n",
      "*******\n",
      "question: Where do you go when you're about to board a vehicle on railing?\n",
      "answer: railway station\n",
      "choices: ['railway station', 'deck', 'flight of stairs', 'porch', 'bus station']\n",
      "common expl list: ['Trains and busses both commonly make use of rail transportation to facilitate their travel. Railway station is the station they are staking out to board at. Thus, railway station is where you would go if you need to board a vehicle on a', 'Railway stations are where you board trains, which are often on rails.']\n"
     ]
    },
    {
     "name": "stderr",
     "output_type": "stream",
     "text": [
      "\r",
      " 13%|█████████████████████                                                                                                                                            | 129/986 [1:51:01<3:40:09, 15.41s/it]"
     ]
    },
    {
     "name": "stdout",
     "output_type": "stream",
     "text": [
      "generated explanation: <pad> <extra_id_0> When you board a vehicle on railing, you must go to a railway station. A railway station is the most common place to go when you are approaching a railway station. It is the closest place to the vehicle and the nearest railing. It is also the closest place to the train station, which is often located near the train station. Train stations are often located near the train station, which makes it easier to get to the train station. Train stations are often located near the train station, which makes it easier to get to the train station. This is often the station because it is often the most convenient to get to the train at the train. It is the most convenient way to get to the train station. Railway stations are also often the closest railway station, making it a convenient place to get to the train. Trains also provide a safe place to board the train, which makes it easier for passengers to get off the train. Train Stations are often located in the train. Trains are also often located in the railway stations, which makes it easier to get to board a train. Train Stations make it easier to board a train and board boarding and unloads of the railing area. Train stations are often located in the closest to the railway station, making it easier to board a vehicle. Train stations are often the train station. Train stations are located in the railway station, and therefore more convenient for passengers. Train Station is often the closest to the station.</s>\n",
      "########\n",
      "*******\n",
      "question: Where can I go to see a really big toy balloon floating at the top of a dome?\n",
      "answer: circus\n",
      "choices: ['parade', 'circus', 'amusement park', 'birthday party', 'magic show']\n",
      "common expl list: ['Circuses often have big inflatables on the top dome of a tent; inside, they could house various attractions such as clowns, acts, games, rides, food, drinks, etc.']\n"
     ]
    },
    {
     "name": "stderr",
     "output_type": "stream",
     "text": [
      "\r",
      " 13%|█████████████████████▏                                                                                                                                           | 130/986 [1:51:14<3:28:02, 14.58s/it]"
     ]
    },
    {
     "name": "stdout",
     "output_type": "stream",
     "text": [
      "generated explanation: <pad> <extra_id_0> A circus is a place where you can see a toy balloon floating at the top of a dome. The circus is a place where you can see a toy balloon floating at the top of a dome. The circus is a place where you can see a toy balloon floating at the top of a dome. The circus is a type of circus where you can see a toy balloon floating at the top of a dome. The balloons are usually made of plastic and are attached to a circus. The circus is a place to see a toy balloons and toy balloons. The balloon is often used to entertain the crowd. The circus is a place toy balloon floating above a toy balloon in a circus. The balloon is a toy balloon being released into the top of a circus. The balloon is a great way toy balloon floating at a circus. The balloons are used toy balloons and are used toy balloons in a circus. The balloon is a circus toy balloons are used in a toy balloon is a circus toy balloons used toy balloons are used toy balloon toy balloon is used toy balloon is a circus and not a circus. The circus is a place toy balloon is used toy balloon is a circus because it is a circus is a toy balloon is used toy balloon is used toy balloon is a circus because it is a circus and it is a circus.</s>\n",
      "########\n",
      "*******\n",
      "question: They got to the door and it was locked, he reached in his jeans what to retrieve the key?\n",
      "answer: pocket\n",
      "choices: ['pocket', 'bus depot', 'lock', 'purse', 'front door']\n",
      "common expl list: ['Most people keep house keys in their pocket.', 'People often keep their keys in their pockets.']\n"
     ]
    },
    {
     "name": "stderr",
     "output_type": "stream",
     "text": [
      "\r",
      " 13%|█████████████████████▍                                                                                                                                           | 131/986 [1:51:25<3:12:36, 13.52s/it]"
     ]
    },
    {
     "name": "stdout",
     "output_type": "stream",
     "text": [
      "generated explanation: <pad> <extra_id_0> He reached in his jeans to retrieve the key, he reached in his pocket to open the door. He reached in his jeans to open the door and he reached in his jeans to retrieve the key. He reached in his jeans to open the door and retrieve the key, he reached in his jeans to open the door. He reached in his jeans to retrieve the key, he reached in his pockets to open the door, and he pulled the key from his pocket. He reached in his jeans to open the door and retrieve the key, he was able to retrieve the key from his jeans, by reaching in his jeans, he was able to retrieve the key from his jeans, he found the key in his jeans, and he found it in his jeans. The key was locked the door, he found in his jeans, and he reached in his jeans, the key in his jeans, he was able to retrieve the key, he could not be able to retrieve the key from his jeans, as he was able to retrieve the key, he was able to retrieve the door.</s>\n",
      "########\n",
      "*******\n",
      "question: The car was overheating, where was it located?\n",
      "answer: in phoenix\n",
      "choices: ['airport', \"neighbor's house\", 'in phoenix', 'repair shop', 'street corner']\n",
      "common expl list: ['Phoenix is a hot place, and cars often overheat there.']\n"
     ]
    },
    {
     "name": "stderr",
     "output_type": "stream",
     "text": [
      "\r",
      " 13%|█████████████████████▌                                                                                                                                           | 132/986 [1:51:59<4:38:47, 19.59s/it]"
     ]
    },
    {
     "name": "stdout",
     "output_type": "stream",
     "text": [
      "generated explanation: <pad> <extra_id_0> The car was overheating in phoenix, Arizona. It was located in a residential area of the city, near the Phoenix Skywalk, which is known for its beautiful scenery and abundant wildlife. The location is also known for its abundant water sources, which can help to prevent the car from overheating. Additionally, the area is known for its high altitude, which can lead to overheating. This can also lead to the car becoming overheated, which can lead to the car becoming uncontrollable. The car was also a little bit of heat, so it could be located in a residential area, which can help to prevent the car from overheating. Additionally, the location of the car from the heat, and a dry, as it can be a place to help with the car from overheating. The car is located in a great place for people, and can take care of the car in a lot, which is also a great place to take care of the car and be if the car overheating. The overheated car could be a dangerous. The car was overheating because of the car was located in a great place to help prevent the car from getting out of the car from getting hot. The car was a great place to prevent the car from getting out and is a great place to get the car from getting too hot or even more dangerously a great place to get the car and get to get the car from a great place to get the car from anywhere in a great place to get to a great place to get the car from the car.</s>\n",
      "########\n",
      "*******\n",
      "question: Where is likely to have a walk in type wardrobe?\n",
      "answer: mansion\n",
      "choices: ['recreational vehicle', 'clothes cupboard', 'house', 'mansion', 'bedroom']\n",
      "common expl list: ['A walk-in wardrobe is a large wardrobe that is usually found in a mansion.', 'As I think of scenarios, the result I expect the most is that of a person with a lot of clothes, or a clothing designer, living in a mansion; these people might have the luxury of a walk in wardrobe.', 'A walk in wardrobe is a large type of closet that could be found in a mansion.']\n"
     ]
    },
    {
     "name": "stderr",
     "output_type": "stream",
     "text": [
      "\r",
      " 13%|█████████████████████▋                                                                                                                                           | 133/986 [1:52:09<4:00:50, 16.94s/it]"
     ]
    },
    {
     "name": "stdout",
     "output_type": "stream",
     "text": [
      "generated explanation: <pad> <extra_id_0> A walk in type wardrobe is a wardrobe that is designed to be used in a home, office, hotel, or other large setting. It is a great way to store clothes, shoes, and other personal items. It can be used to store clothes, shoes, and other accessories, and it can be hung on the wall. It is also a great way to store clothing that you have already purchased. It is also a great way to store clothes that you have already purchased, such as a hat, scarf, or even a wardrobe is a great way to store clothes, and other items that you have a walk in your wardrobe, and access to the wardrobe for easy to access to the room, and access to other features of your home, such as a closet, a bathroom, or even a walk in the home. It is a great way to store clothes in a mansion, so that you can easily access to the bathroom, and even have a walk in a mansion, such as a walk in a mansion, or even a walk in a larger size, and space. It is also a manor a walk in a wardrobe that you can be easily accessible, or even a closet.</s>\n",
      "########\n",
      "*******\n",
      "question: How bad is the punishment for someone who is over indulgent?\n",
      "answer: severe\n",
      "choices: ['severe', 'harsh', 'hard', 'strict', 'self denying']\n",
      "common expl list: ['Overindulgence in anything is bad, possibly leading to lethargy, poor health, overspending, and the like. As a result of this, a punishment for a person who is over-indulgent could be severe.']\n"
     ]
    },
    {
     "name": "stderr",
     "output_type": "stream",
     "text": [
      "\r",
      " 14%|█████████████████████▉                                                                                                                                           | 134/986 [1:52:22<3:42:17, 15.65s/it]"
     ]
    },
    {
     "name": "stdout",
     "output_type": "stream",
     "text": [
      "generated explanation: <pad> <extra_id_0> Someone who is over indulgent is punished severely. Over indulgence is a form of self-indulgence, a behavior that can lead to serious consequences. It can lead to physical or mental harm, such as a broken heart, mental health problems, or even death. It can also lead to psychological damage, as it can lead to a person developing depression, anxiety, or addictions. It can also lead to physical or psychological damage, such as psychological damage or psychological damage. Physical harm can be caused by physical or mental health problems, such as depression, anxiety, anxiety, depression, or other punishment, this can lead to further. It can be severe, depending on the severity of the person’s addiction, as it can lead to a person’s health and mental health problems. It can lead to a person being a severe mental health problems, as depression, or emotional damage. It can also lead to mental health problems. It can lead to a person’s behavior. It can lead to physical or mental health problems, or mental health problems, which can lead to a serious mental health problems. It can also lead to mental health problems, such as depression, anxiety and depression.</s>\n",
      "########\n",
      "*******\n",
      "question: She was going to bed at 11 at night, what was she looking to do?\n",
      "answer: falling asleep\n",
      "choices: ['falling asleep', 'relaxing', 'rest', 'dreaming of', 'laziness']\n",
      "common expl list: ['Falling asleep is often a desired result when going to bed.', \"People go to bed when they're tired and want to sleep\"]\n"
     ]
    },
    {
     "name": "stderr",
     "output_type": "stream",
     "text": [
      "\r",
      " 14%|██████████████████████                                                                                                                                           | 135/986 [1:52:31<3:14:08, 13.69s/it]"
     ]
    },
    {
     "name": "stdout",
     "output_type": "stream",
     "text": [
      "generated explanation: <pad> <extra_id_0> She was going to bed at 11 at night, what was she looking to do? Falling asleep is one of the most common sleep disorders. It is a process of releasing energy and releasing endorphins, which are known to help reduce stress and anxiety. Getting to sleep is an important part of any sleep program, and falling asleep is the first step in any sleep program. Getting to sleep is a crucial part of any sleep program, and it can help you achieve a deeper sleep. Getting to sleep is a person can help you to sleep faster and more easily. Getting to fall asleep faster and faster. Sleep is a sleep better option than getting up and sleeping at 11 at night, which can help you relax and to relax. Getting to sleep can help you to fall asleep faster, which is a great way to help you sleep. Getting to get more comfortable and sleep is a great way to get to help you to stay awake and tired. Sleeping is a great way to get more reste and a better night. Getting to bedtime can also help you stay awake and more relaxed.</s>\n",
      "########\n",
      "*******\n",
      "question: A company with the moniker of Big Sky Excavation would probably be found where?\n",
      "answer: montana\n",
      "choices: ['a forest', 'city', 'egypt', 'montana', 'desert']\n",
      "common expl list: ['Mountain ranges are often called \"big sky\"s. The term is popular for companies in Montana, a state with lots of mountians, including two major mountain ranges.']\n"
     ]
    },
    {
     "name": "stderr",
     "output_type": "stream",
     "text": [
      "\r",
      " 14%|██████████████████████▏                                                                                                                                          | 136/986 [1:52:40<2:54:26, 12.31s/it]"
     ]
    },
    {
     "name": "stdout",
     "output_type": "stream",
     "text": [
      "generated explanation: <pad> <extra_id_0> Big Sky Excavation would be located in the mountains of Montana, which is a region of the United States that is known for its abundant resources of mineral resources. The company would probably be involved in the excavation of large areas of mountainous terrain, such as peaks and valleys. The company would also be involved in the transportation of materials, and would be involved in the construction of roads, bridges, and other infrastructure. Big Sky Excavation would be able to provide a variety of services, which would include hauling, as well as the company’s, and would be able to provide a wide variety of opportunities for its employees, as well as the company’s location. The company would be able to provide services to customers, and would be able to provide a variety of different types of industries, such as construction, as well as other services, and construction projects. Big Sky Exca company with a variety of projects, including, such as mining, and other services, such as</s>\n",
      "########\n",
      "*******\n",
      "question: Which horseman of the apocalypse is often depicted next to death?\n",
      "answer: war\n",
      "choices: ['battlefield', 'the healer.', 'funeral', 'war', 'hospital']\n",
      "common expl list: ['A time of war is also often associated with someone dying.']\n"
     ]
    },
    {
     "name": "stderr",
     "output_type": "stream",
     "text": [
      "\r",
      " 14%|██████████████████████▎                                                                                                                                          | 137/986 [1:52:59<3:19:49, 14.12s/it]"
     ]
    },
    {
     "name": "stdout",
     "output_type": "stream",
     "text": [
      "generated explanation: <pad> <extra_id_0> War is the most common form of apocalyptic imagery, often depicted as a horseman who is portrayed next to death. Death is often depicted as a horseman who is a horseman who is riding a horse, a horse, or a combination of both. Death is often depicted as a horseman who is portrayed next to death, as a symbol of the power of war. War is often portrayed as a horseman who is riding a woman, men who are often depicted in a horseman in a man who is often depicted as a man who is often depicted next to the a horseman who is often depicts the horseman in a war, or a horseman who is often depicts the horseman of the end of the final battles. War is a symbol of the horseman who is a horseman who is a horse and a horseman who is often depicting war as a horseman who is a horse and a war. Apoca horseman is often depicting a horseman who is a horseman who is a symbol of death. A horseman who is often depicted in a war. War is a symbol of death. A horseman is often depicted next to death.</s>\n",
      "########\n",
      "*******\n",
      "question: What could be used to write with a steel pen?\n",
      "answer: hand\n",
      "choices: ['warehouse', 'arm', 'hand', 'desk drawer', 'veterinary office']\n",
      "common expl list: ['you write with a steel pen using your hand.', 'Using a steel pen requires someone to hold it, and we associate writing with hands. Powder can be used with steel pens as a \"contrast medium.']\n"
     ]
    },
    {
     "name": "stderr",
     "output_type": "stream",
     "text": [
      "\r",
      " 14%|██████████████████████▌                                                                                                                                          | 138/986 [1:53:06<2:50:31, 12.06s/it]"
     ]
    },
    {
     "name": "stdout",
     "output_type": "stream",
     "text": [
      "generated explanation: <pad> <extra_id_0> A steel pen is a writing instrument that is used to write with a hand. It is made of a metal, and the steel is etched into the metal. The metal is made from a variety of materials, and the pen is made of a hard, durable plastic. The pen is made to be used with a variety of tools, including a pencil, a scribe's pen, a pencil tip, and a pen tip with a steel tip. The tip is usually attached to the pen with the pen, and is usually made of metal, which makes it easier to write with a pen, and is the most common with a pen. Pens are also a great tool for writing, as it is a great way to get the word. The pen is also a great tool for those who want to use a steel pen, and can write with a hand.</s>\n",
      "########\n",
      "*******\n",
      "question: I needed to find out how to contact a person with a certain name, where should I look?\n",
      "answer: phone book\n",
      "choices: ['directory', 'michigan', 'roster', 'phone book', 'certificate']\n",
      "common expl list: ['A phone book is likely to have the phone numbers of nearby people.', \"Phone books are used to find people's phone numbers.\", 'Phone books are usually a good source for finding phone numbers to call other people.', 'People are listed in phone books for easy access by callers.']\n"
     ]
    },
    {
     "name": "stderr",
     "output_type": "stream",
     "text": [
      "\r",
      " 14%|██████████████████████▋                                                                                                                                          | 139/986 [1:53:21<3:00:53, 12.81s/it]"
     ]
    },
    {
     "name": "stdout",
     "output_type": "stream",
     "text": [
      "generated explanation: <pad> <extra_id_0> I needed to find a way to contact a person with a certain name, I would look for a phone book. Phone books are a great way to find out how to contact a person with a certain name, such as a relative, friend, or relative. They can help me find out who is nearby, and what their business is, as well as other details about the person. Phone books can also be used to find out about businesses, schools, and other institutions that may be of interest to you. Phone books are a great way to find out how to contact someone with a phone book. The phone book is a great way to find out who is the most useful tool for people who are living in the world. Phone books also provide you with the information you need to contact someone with a certain name, and other information about the person’s, as well as well as it can be used to find out the right way to find the right person. Phone books are a great way to find out how to get in touch with them. Phone books are also a great way to find out of a person’s name and to find out how to contact someone with a certain name, or even find out how to find out how to contact a certain person’s name, especially useful for people with certain names, as they can help you need to find someone with the right to find a person’s name, such as the right person’s age, and how to contact them. Phone books can help you find out how to contact them, and to contact with a person’s, as they can help you find a certain name, and find people with the right person. Phone book can help you contact them. Phone books can help you find out how to contact them, and how to contact them, or even find a certain person.</s>\n",
      "########\n",
      "*******\n",
      "question: What is important for a couple to do?\n",
      "answer: communicate\n",
      "choices: ['live together', 'row about', 'plan to marry', 'communicate', 'marry each other']\n",
      "common expl list: ['Communication is a key part of a healthy relationship and - often equally as important - is the commitment to communicate effectively.', 'Couples who communicate well are more likely to stay together, and thus, it is important for a couple to communicate.', \"To make a relationship work, it's very important to communicate with each other.\"]\n"
     ]
    },
    {
     "name": "stderr",
     "output_type": "stream",
     "text": [
      "\r",
      " 14%|██████████████████████▊                                                                                                                                          | 140/986 [1:53:32<2:53:43, 12.32s/it]"
     ]
    },
    {
     "name": "stdout",
     "output_type": "stream",
     "text": [
      "generated explanation: <pad> <extra_id_0> A couple should communicate with each other in a way that is respectful, honest, and open. This can be done through communication, which can be difficult for some people. It can be difficult for others to understand, but it is important for a couple to do. Communication is important for a couple to do in order to be able to build trust and respect. It is also important to communicate with each other in a way that is honest, open, and honest. This can be done through a variety of ways, such as by using a variety of issues, and solutions, and solutions, and to problems, and together. This can be used to build a strong bond between two people, as they may have a common goal. Communication is important for a couple to build trust and respect each other, and to communicate with each other. It is also important for the couple to build a strong relationship. This can be used to build a strong bond, as well as well as it can be a strong bonding and a strong and strengthen the relationship. This is important for a couple to build a relationship and support each other. It can also help them to build a strong bond and support and support each other. It is important for the couple to build on each other and support from one another. It is important for a relationship.</s>\n",
      "########\n",
      "*******\n",
      "question: The botanist knew the plant was living, what did he observe that led him to know that?\n",
      "answer: respiration\n",
      "choices: ['interaction', 'death', 'respiration', 'expiration', 'chlorophyll']\n",
      "common expl list: [\"The teacher commonly noted that plants give off oxygen as a result of respiration, which helps fuel their energy and growth. This was evidence of a plant's life.\"]\n"
     ]
    },
    {
     "name": "stderr",
     "output_type": "stream",
     "text": [
      "\r",
      " 14%|███████████████████████                                                                                                                                          | 141/986 [1:53:40<2:37:44, 11.20s/it]"
     ]
    },
    {
     "name": "stdout",
     "output_type": "stream",
     "text": [
      "generated explanation: <pad> <extra_id_0> The botanist knew the plant was living, respiration was the primary way the plant metabolized oxygen in a living state. This is because the plant uses oxygen to produce energy, which the plant needs to survive. In addition, respiration provides oxygen to the cells, which is necessary for the plant to function. This oxygen supply is important for the plant to use for its own survival. In addition, respiration provides oxygen for the plant to use, which can be used to produce energy. This oxygen supply is important for the plant to use, which is important for the plant’s survival. Furthermore, respiration is a key component of life, which is important for the plant to live. This is important for the plant, as it is the primary way the plant’s ability to live. This is important for the plant to the plant to maintain its survival. This is important for the plant’s survival of the plant’s survival. It is important for the plant to maintain a healthy environment and to thrive.</s>\n",
      "########\n",
      "*******\n",
      "question: What is it called when teens are together not doing anything in particular?\n",
      "answer: hang out\n",
      "choices: ['smoke', 'homework', 'volunteer', 'party', 'hang out']\n",
      "common expl list: ['Hanging out\" is used to describe events where people are socializing, doing nothing in particular. Other events include hanging out with a purpose (doing homework, studying outside, going shopping, etc.).', 'Hang out is a term that could be used for teens hanging out together, typically with no particular agenda.']\n"
     ]
    },
    {
     "name": "stderr",
     "output_type": "stream",
     "text": [
      "\r",
      " 14%|███████████████████████▏                                                                                                                                         | 142/986 [1:53:57<2:59:33, 12.76s/it]"
     ]
    },
    {
     "name": "stdout",
     "output_type": "stream",
     "text": [
      "generated explanation: <pad> <extra_id_0> Teens often hang out together when they are not doing anything specific. This is a common social activity that involves spending time with other teens. It is a great way for them to bond and bond, and it can be a great way for them to socialize and make new friends. Hang outs are usually held in a group setting, such as a movie or a group of friends. This is because teens are often together without doing anything special and can easily become bonded over a common interest. It is also a great way to have fun and make it a great way to bond with each other. It is a great way to bonding with other people and to spend time with each other. It is a great way for them to bond and make new friends. Hang out with each other teens, and make it a great way to spend time with friends. It is a great way to make new friends. Teens also a great way to make new friends. It can also be a great way to have fun and have fun and have fun. It is a great way to bond with other people and have fun.</s>\n",
      "########\n",
      "*******\n",
      "question: The saw was not necessary for car repair, so what wasn't it included with during pucrhase?\n",
      "answer: tool kit\n",
      "choices: ['tool shed', 'tool box', 'tool kit', 'hardware store', 'toolbox']\n",
      "common expl list: ['A saw is another name for a cutting tool, but they are often not included with a tool kit, because a kit is used for other repair needs (bolts, screws, bindings, etc.), and a saw is not required for a car repair']\n"
     ]
    },
    {
     "name": "stderr",
     "output_type": "stream",
     "text": [
      "\r",
      " 15%|███████████████████████▎                                                                                                                                         | 143/986 [1:54:07<2:51:00, 12.17s/it]"
     ]
    },
    {
     "name": "stdout",
     "output_type": "stream",
     "text": [
      "generated explanation: <pad> <extra_id_0> The saw is not included with the tool kit during car repair because it is not necessary for car repair. The saw is not necessary for car repair because it is not included with the tool kit because it does not perform any tasks necessary for car repair. The saw also does not have the power to operate a drill, so it can only be used to cut metal objects. The saw is not necessary for car repair because it does not have the power to make cuts. It is also not included with the tool kit because it is not necessary for car repair because it is not included in the car repair kit. The saw is also not included in the tool kit because it is not necessary for car repair and is not included in the tool kit because it is not necessary for car repair. The saw is not included in the car repair, because it is not necessary for car repair, so it is not included in the tool kit. The saw is not included in the tool kit because it is not necessary for car repair, but also not necessary for car repair. It is not included in the tool kit because it is not included in the saw is not necessary for car repair. It is not included in the saw is not necessary for car repair because it is not necessary for car repair.</s>\n",
      "########\n",
      "*******\n",
      "question: Where will my kid put their coin in their room?\n",
      "answer: piggy bank\n",
      "choices: ['piggy bank', 'wishing well', 'parking meter', 'under pillow', 'change purse']\n",
      "common expl list: ['Kids commonly save small amounts of money for later use, and these savings are often kept in piggy banks.', 'Piggy banks are often used to store coins.']\n"
     ]
    },
    {
     "name": "stderr",
     "output_type": "stream",
     "text": [
      "\r",
      " 15%|███████████████████████▌                                                                                                                                         | 144/986 [1:54:17<2:39:00, 11.33s/it]"
     ]
    },
    {
     "name": "stdout",
     "output_type": "stream",
     "text": [
      "generated explanation: <pad> <extra_id_0> My kid will put their coin in their piggy bank in their room because it is a convenient way to store their coins. It is a safe and secure way to store their coins. It is also a great way to keep them safe and secure. A piggy bank is a great way to keep coins safe and secure. It can be placed in a piggy bank or a coin box, depending on the coin and the coin value. Coins can be stored in a piggy bank or a coin box, and safe. It is also a great way to keep their coins in the room. It is also a convenient way to keep coins in a safe place to keep track of the coins and other coins in the piggy bank in the room. It can be easily accessible and is a great way to keep track of coins in their room. It can be used to keep track of the coins in the room. The piggy bank is a great way to keep track of money can be easily accessible and easily accessible for them to keep their coins in their room.</s>\n",
      "########\n",
      "*******\n",
      "question: Where is a fire extinguisher likely to be found behind the seat?\n",
      "answer: school bus\n",
      "choices: ['school bus', 'house', 'garden', 'stairwell', 'garage']\n",
      "common expl list: ['Fire extinguishers are required on public-transit vehicles, such as school buses.']\n"
     ]
    },
    {
     "name": "stderr",
     "output_type": "stream",
     "text": [
      "\r",
      " 15%|███████████████████████▋                                                                                                                                         | 145/986 [1:54:28<2:37:05, 11.21s/it]"
     ]
    },
    {
     "name": "stdout",
     "output_type": "stream",
     "text": [
      "generated explanation: <pad> <extra_id_0> A fire extinguisher is likely to be found behind the seat of a school bus. It is located behind the seat because it is likely to be used to extinguish a fire. It is also likely to be used to extinguish smoke and heat from a vehicle. A school bus is a public transport vehicle that is used to transport people from one location to another. It is important to keep a fire extinguisher in the back of the bus. This is because the seat is where the emergency services. Additionally, ade is often not in the event that a fire extinguit is not present on the bus. Additionally, a school bus can be used to exting a fire extinguisher is likely to be used to be used to provide a fire extingued. The bus is also a great way to get to another way to help with fire. In addition, a fire extingueser is likely to be found behind the seat. a school bus is a safe environment.</s>\n",
      "########\n",
      "*******\n",
      "question: His therapist said he had to get out there and begin socialising, it was the only was to start what?\n",
      "answer: friendships\n",
      "choices: ['conflicts', 'having fun', 'jealousy', 'getting out there', 'friendships']\n",
      "common expl list: ['Interacting with other people socially is likely to result in making new friends.', 'His therapist said that he needed to speak to people if he wanted to be less withdrawn. This would help him to get out of his shell.']\n"
     ]
    },
    {
     "name": "stderr",
     "output_type": "stream",
     "text": [
      "\r",
      " 15%|███████████████████████▊                                                                                                                                         | 146/986 [1:54:39<2:38:53, 11.35s/it]"
     ]
    },
    {
     "name": "stdout",
     "output_type": "stream",
     "text": [
      "generated explanation: <pad> <extra_id_0> His therapist said he had to get out there and start socialising. He said it was the only way he could move forward in his life and that he had to start making friends and making new ones. He also said he had to start a group of friends, and that he had to do this in a group setting. This group of friends would be a great place to start, as it would be a great way to meet people and make new friends. This is important because socialising is important for a person’s development. It is important for him to make friends and develop new friends. It is also the only way to make new friends and make new friends. This is important because it can be a great way to make new connections and develop new friends. he would love and enjoy the company of his he would be able to make new friends and start making new friends would be able to make new and making new people and making new friends. It is important for him to start making new friends and making new friends. It is important for him to develop a healthy relationship with people he can develop new friends and develop new friends.</s>\n",
      "########\n",
      "*******\n",
      "question: What is likely true about a dog that escapes regularly?\n",
      "answer: very smart\n",
      "choices: ['very smart', 'very loyal', 'tired', 'friendly', 'faithful']\n",
      "common expl list: ['Intelligent dogs (especially when concerned with food and treats) who are looking for some form of freedom will have the intelligence to escape regularly.']\n"
     ]
    },
    {
     "name": "stderr",
     "output_type": "stream",
     "text": [
      "\r",
      " 15%|████████████████████████                                                                                                                                         | 147/986 [1:55:07<3:47:40, 16.28s/it]"
     ]
    },
    {
     "name": "stdout",
     "output_type": "stream",
     "text": [
      "generated explanation: <pad> <extra_id_0> A dog that escapes regularly is very smart because it is very smart and has a very high tolerance for danger. It is very likely that a dog that escapes regularly is very smart and has a high tolerance for danger. This is because dogs are innately smart and have a high tolerance for danger. This is because dogs are able to sense danger and take action quickly to stop it. This is because dogs are able to sense danger and respond quickly to danger, which can lead to unexpected situations. Dogs that are a dog are very smart and are naturally very sensitive to danger. The dog is also likely to take advantage of the presence of humans and other dogs. This is because dogs are also often able to detect and respond quickly to threats. Dogs that are very smart and are able to escape situations. In addition, dogs are able to avoid people and can detect when they are able to escapes. This makes it difficult for them to determine a dog that is able to escape. This is likely because it is very capable of a dog that is a dog that is very smart. This is likely because it is a dog that is a dog that innately and is very smart and he is a dog that is very smart and is also very smart and is a dog that is also very smart and can detect when it is very smart and is also very capable of a dog that is very intelligent and is very smart and is because dogs that are very sensitive and is likely that a dog that a dog that is likely that it is because a dog that a dog that escape is very smart and is a dog that is very smart and that a smart and very smart and that a dog that is very smart and that is a smart and very smart and very smart and is very smart and that a dog that is very smart and very smart and a dog that is a dog that is very smart and very smart and that a very smart and that is very smart.</s>\n",
      "########\n",
      "*******\n",
      "question: If you're going to a party in an alley, what is likely to happen?\n",
      "answer: doing drugs\n",
      "choices: ['call the police', 'doing drugs', 'new contacts', 'making new friends', 'plan']\n",
      "common expl list: ['People going to parties in an alley are often going to do drugs and vice.', 'People often do drugs at parties, and alleys are often used for parties.', 'Alleys are associated with crime; and, people performing illegal drugs at a party is illegal.']\n"
     ]
    },
    {
     "name": "stderr",
     "output_type": "stream",
     "text": [
      "\r",
      " 15%|████████████████████████▏                                                                                                                                        | 148/986 [1:55:26<3:59:09, 17.12s/it]"
     ]
    },
    {
     "name": "stdout",
     "output_type": "stream",
     "text": [
      "generated explanation: <pad> <extra_id_0> In an alley, people are likely to be doing drugs. This is because the drugs are often found in abundance in the area. In addition, people often have access to alcohol, which can make it difficult for them to stay safe. Additionally, the lack of police presence can make it difficult for people to stay safe, and the drugs can lead to a sense of edginess and a sense of security. In addition, people often take drugs to get through the night. In addition, there are laws that prohibit the sale of alcohol, which can lead to a party. Drugs can also lead to a lot of people taking drugs at parties. This can lead to a lot of people taking drugs and can make it harder to stay safe and a lot of people are likely to get drunk and other people are likely to get high. Because of the drugs, it is often difficult to get lost in an alley, and the party, and it is often hard to get away from the party. In addition, the drugs can lead to get high, and to a party. This can lead to people taking drugs at a lot of different levels of drugs, which can lead to a lot of people to a lot of alcohol, which can lead to a sense of a lot of alcohol, which can lead to a lot of people to get lost in an alley and are likely to get away with the drugs. This is because the drugs can lead to get drunk on the drugs and are often a sense of security, and are likely to get away from the drugs are likely to get away with the drugs.</s>\n",
      "########\n",
      "*******\n",
      "question: The man was very tired and sore, he decided to stay in bed to what?\n",
      "answer: rest more\n",
      "choices: ['rest more', 'lazy', 'were sick', 'to be sick', \"you're sick\"]\n",
      "common expl list: ['The man was so tired and sore, he just wanted a break. His illness would keep him in bed.', \"When people are sick, they tend to rest, as it's the most sensible thing.\", 'The man was tired and sore, so he decided to rest more.']\n"
     ]
    },
    {
     "name": "stderr",
     "output_type": "stream",
     "text": [
      "\r",
      " 15%|████████████████████████▎                                                                                                                                        | 149/986 [1:55:40<3:43:57, 16.05s/it]"
     ]
    },
    {
     "name": "stdout",
     "output_type": "stream",
     "text": [
      "generated explanation: <pad> <extra_id_0> The man decided to stay in bed to rest more because he was very tired and sore. He wanted to rest more because he was tired and sore and he needed to rest. He needed to rest because he was tired and sore and he needed to rest in order to recover. By resting, the man could relax and recover from his exhausting day. By resting, the man could relax and unwind and let his mind wander, allowing him to focus on his work and relax. He could also relax and take a napped on the morning and night, allowing him to sleep more energy for the day. By staying in bed, the man could get a better performance and feel more relaxed and relaxed and refreshed. By choosing to rest, the man decided to rest and recover from his tired and tired. The man was able to relax and get some time to unwind and unwind down. By staying in bed, the man could also get some quality of energy, allowing him to take his work and relax and rest, allowing him to relax and get more energy and relax. The man was able to take care for himself and his mental and physical activity.</s>\n",
      "########\n",
      "*******\n",
      "question: He was back in his hometown, he was planning on having fun and doing what?\n",
      "answer: visiting friends\n",
      "choices: ['being understood', 'hug', 'rambling', 'kiss', 'visiting friends']\n",
      "common expl list: ['People usually visit their friends when they return to a town where they previously used to live, because their friends would have missed them.', 'If a person is back in their hometown, they might visit their friends, who they might not see very often.', 'If a person went back to their hometown, they might be glad to see their old friends, and visit them while they are there.']\n"
     ]
    },
    {
     "name": "stderr",
     "output_type": "stream",
     "text": [
      "\r",
      " 15%|████████████████████████▍                                                                                                                                        | 150/986 [1:55:47<3:06:17, 13.37s/it]"
     ]
    },
    {
     "name": "stdout",
     "output_type": "stream",
     "text": [
      "generated explanation: <pad> <extra_id_0> He was planning on having fun with his friends in his hometown. He was planning on visiting friends in his hometown, and this was a great way to spend a few days. He was planning on having fun with his friends, and this was a great way to spend time with them. Visiting friends is a great way to spend time with family and friends, and to socialize with other people from the area. Visiting friends is a great way to spend time with friends and family, and to spend quality time together as a great way to spend a lot of fun with his hometown. This is a great way to spend quality time with his hometown. This is a great way to spend some fun with his hometown, and to spend some quality time with his family. He was planning on his friends and enjoy the company of the trip with his hometown, and to have fun with his friends, and enjoy the company of his hometown. </s>\n",
      "########\n",
      "*******\n",
      "question: Where is basketball court likely to be outdoors?\n",
      "answer: city\n",
      "choices: ['high school gymnasium', 'city', 'park', 'use', 'los angeles']\n",
      "common expl list: ['Basketball courts are often found in city parks.', 'Most American cities have basketball courts in public parks.', 'Basketball courts are often urban.', 'Basketball courts are likely to be at parks and recreational centers in cities.']\n"
     ]
    },
    {
     "name": "stderr",
     "output_type": "stream",
     "text": [
      "\r",
      " 15%|████████████████████████▋                                                                                                                                        | 151/986 [1:56:05<3:26:19, 14.83s/it]"
     ]
    },
    {
     "name": "stdout",
     "output_type": "stream",
     "text": [
      "generated explanation: <pad> <extra_id_0> Generally, basketball courts are found outdoors in cities where there is a lot of space for them to be located. This is because the city is a great place for a basketball court to be located, and the space is often more accessible than indoor courts. This is because cities are often located in the heart of the city, making it a great place to have a basketball court in the outdoors. In addition, the basketball court is often located in the middle of the city, so it is often located near public transportation routes, such as parks, in the city, which is often located in the heart of the city. Furthermore, outdoor basketball courts are often used for recreational purposes, as a city park, and other sports activities, such as concerts, festivals, or simply because of outdoor sports activities such as basketball courts. Furthermore, the basketball court is often located in a city, so it is often located in a park. The basketball court is likely to be located in a city is likely to be located in a city, such as parks, which is a great place to have a basketball court is often located in a city. It is also often located in a city because it is often located in a large number of activities, such as parks, such as playing games. This is because it is a great place to play, and is often found in a city is located in a city. It is also a great place to be located in a city or other areas, such as a city, such as</s>\n",
      "########\n",
      "*******\n",
      "question: When you want to get the skin off of an apple, you do what to it?\n",
      "answer: peel\n",
      "choices: ['seeds inside', 'stems', 'peel', 'grocery store', 'green market']\n",
      "common expl list: ['Apples have a skin that can be peeled off.', 'Skin is something you peel from fruits like apples, peaches, oranges, kiwi, etc...']\n"
     ]
    },
    {
     "name": "stderr",
     "output_type": "stream",
     "text": [
      "\r",
      " 15%|████████████████████████▊                                                                                                                                        | 152/986 [1:56:29<4:05:31, 17.66s/it]"
     ]
    },
    {
     "name": "stdout",
     "output_type": "stream",
     "text": [
      "generated explanation: <pad> <extra_id_0> Peeling an apple is a process that is used to remove the skin from an apple. Peeling an apple is a process that involves removing the outer layer of the skin from the apple. Peeling an apple is a great way to remove the outer layer of the apple, leaving the interior intact. Peeling an apple is a great way to remove the outer layer of the apple and remove the skin, which can be difficult to reach. Peeling an apple is a process that can be done quickly and easily, and it can help to get the skin off an apple quickly and easily done with the skin off the inside. Peeling an apple can help you get rid of the skin, which can be removed quickly and easily removed. It also a lot of the skin off the inside the inside of the apple, which can help you to get rid of the skin. This can help you get the skin off the inside of the core, and help you get the inside of the skin. Peeling an apple can be removed from the inside, and can help you to remove the inside of the outside of the inside of the inside of the inside of the inside of the inside of the skin off of the inside of the inside of the inside of the inside of the inside of the skin and easily remove the inside of the inside of the inside of the inside of the inside of the skin. Peeling process is a lot of the inside of the inside of the skin, and help you get rid of the skin. This makes it easier to remove the inside of the inside of the skin off of the inside of the inside and<extra_id_27> </s>\n",
      "########\n",
      "*******\n",
      "question: Where could you put some knives if you are planning to bring them outside with you?\n",
      "answer: backpack\n",
      "choices: ['purse', 'backpack', 'drawer', 'sporting goods store', 'kitchen']\n",
      "common expl list: [\"To carry knives on one's person, you need some small type of container to hold the knives. Perhaps the most likely place to carry a small container is a backpack.\", \"Knives are usually brought along if hiking, camping, fishing, or other outings, and backpacks make it easy to transport one's belongings.\"]\n"
     ]
    },
    {
     "name": "stderr",
     "output_type": "stream",
     "text": [
      "\r",
      " 16%|████████████████████████▉                                                                                                                                        | 153/986 [1:56:44<3:50:42, 16.62s/it]"
     ]
    },
    {
     "name": "stdout",
     "output_type": "stream",
     "text": [
      "generated explanation: <pad> <extra_id_0> A backpack is a great place to store knives if you are going to bring them outside with you. It is a great way to store them and keep them safe while traveling. A backpack can also be used to store other items such as books, magazines, and other small items. A backpack can also be used to carry small items such as keys, money, and keys. A backpack can also be used to carry a flashlight, a small knife, and other small items such as coins, bills, and other small items. A backpack can also hold some knives, and can also be used to protect your hands. A backpack can also be used to carry a great way to protect your knives. A backpacks can also provide a place to keep your knives safe and secure. A backpacks can also be used to keep your knives and other items such as a safe place for a knife. A backpack can also be used to keep knives safe and easily accessible. A backpack can be used to carry knives can be easily accessible, or even a safe place to carry around with you can be used to store your knives and other items, or even a safe place for your knives and other items, such as a knife or a safe place to keep your knives and other tools.</s>\n",
      "########\n",
      "*******\n",
      "question: John watches the well dressed people from a catwalk above the stage.  He listens to them speak rehearsed lines while the audience listens.  Where is he/\n",
      "answer: theatre\n",
      "choices: ['theatre', 'new york city', 'fashion show', 'construction site', 'school play']\n",
      "common expl list: ['Theatres have catwalks where people might observe and listen to actors.']\n"
     ]
    },
    {
     "name": "stderr",
     "output_type": "stream",
     "text": [
      "\r",
      " 16%|█████████████████████████▏                                                                                                                                       | 154/986 [1:56:52<3:15:09, 14.07s/it]"
     ]
    },
    {
     "name": "stdout",
     "output_type": "stream",
     "text": [
      "generated explanation: <pad> <extra_id_0> John is watching the actors from a catwalk above the stage. He is watching them speak rehearsed lines while the audience listens. John is watching the actors from a catwalk above the stage. He is watching them speak rehearsed lines while the audience listens. John is watching the actors speak rehearsed lines while the audience listens. John is watching the performers from a catwalk above the stage. The audience is listening to the actors speak rehearsed lines while the audience listens to the actors and actressed. John is watching the actors perform live on stage. He is watching the actors perform on stage while listening to the audience as they perform. John is a catwalk above the audience. He is watching the actors as they speak their lines while the audience listens to the actors. He is watching the actors as they speak and the audience. John is watching the actors perform. The audience is a catwalk above the stage while listening to the actors speak. The audience members are watching the actors as they perform.</s>\n",
      "########\n",
      "*******\n",
      "question: If I am creating art and have completed it to satisfaction, what is my feeling?\n",
      "answer: enlightenment\n",
      "choices: ['enlightenment', 'tired', 'frustration', 'relax', 'controversy']\n",
      "common expl list: ['Enlightenment is the label for a moment of clarity, and the word is often applied to artists who have created something unique or daring.']\n"
     ]
    },
    {
     "name": "stderr",
     "output_type": "stream",
     "text": [
      "\r",
      " 16%|█████████████████████████▎                                                                                                                                       | 155/986 [1:57:04<3:08:37, 13.62s/it]"
     ]
    },
    {
     "name": "stdout",
     "output_type": "stream",
     "text": [
      "generated explanation: <pad> <extra_id_0> When I am able to create art to a satisfying level, I feel a sense of enlightenment. This is because art is a form of expression that can be enjoyed by all. It can be a way to express oneself and express oneself in a creative way. It can also be a way to express oneself through language, sound, and image. When I am able to express myself through art, I am able to express myself in a more unified way. When I am able, it can also be a way, I feel a sense of satisfaction and a sense of peace and joy. This is because it is a way that I am in a way that I have achieved my art is a way to feel a sense of a sense of a sense of accomplishment. When I am enlightenment, I am able to create art, I can feel a sense of a sense of a sense of satisfaction and a sense of a sense of being. I am in a sense of satisfaction and a sense of being in a sense of satisfaction.</s>\n",
      "########\n",
      "*******\n",
      "question: He was serious and pragmatic, so why did he drive his car?\n",
      "answer: transportation\n",
      "choices: ['transportation', 'car crash', 'death', 'sleepy', 'stress']\n",
      "common expl list: ['People often drive cars to get from one place to another.', 'Because driving is the most practical mode of transportation judging by the time and distance required to do so.']\n"
     ]
    },
    {
     "name": "stderr",
     "output_type": "stream",
     "text": [
      "\r",
      " 16%|█████████████████████████▍                                                                                                                                       | 156/986 [1:57:22<3:25:50, 14.88s/it]"
     ]
    },
    {
     "name": "stdout",
     "output_type": "stream",
     "text": [
      "generated explanation: <pad> <extra_id_0> He drove his car to get to work. He was serious and pragmatic, so he drove his car to get to work. He was pragmatic, and he was pragmatic, and he was pragmatic in his decision to drive. He was pragmatic, and he was pragmatic because he was serious and pragmatic. He was pragmatic because he was serious and pragmatic, and he was pragmatic. He was pragmatic because he was serious and pragmatic in his decision-making. He was pragmatic because he was serious and pragmatic, and he was important to get to work, and home. He was serious and pragmatic, and pragmatic, and pragmatically, and pragmatic reasons for his car. He was serious and pragmatic, and pragmatic, and pragmatic, and pragmatic. He was pragmatic, and pragmatic because he was serious and pragmatic. He was serious and pragmatic, and pragmatic because he was serious and pragmatic, and pragmatic because he was serious and pragmatic because he was he was serious and pragmatic, and pragmatic, and pragmatic because he was serious and pragmatic. He was a serious and pragmatic, and pragmatically. He was serious and pragmatic in his car. He was</s>\n",
      "########\n",
      "*******\n",
      "question: What does god want people to do for money?\n",
      "answer: work in life\n",
      "choices: ['work in life', 'speak to people', 'everywhere', 'sitting ideal', 'care for people']\n",
      "common expl list: ['The scriptures explain that people should acquire money by providing good products or services, e.g., to bring value to other people and make a living.']\n"
     ]
    },
    {
     "name": "stderr",
     "output_type": "stream",
     "text": [
      "\r",
      " 16%|█████████████████████████▋                                                                                                                                       | 157/986 [1:57:35<3:17:51, 14.32s/it]"
     ]
    },
    {
     "name": "stdout",
     "output_type": "stream",
     "text": [
      "generated explanation: <pad> <extra_id_0> God wants people to work for money. Work is a way for people to earn money and to earn a living. It is a way for people to earn a living and to have a place to call their own. It is a way for people to gain experience and to make money. It is a way for people to gain knowledge and to make a living. It is a way for people to earn a living and to make a living. It is a way for people to gain knowledge and make money. It is a great way of life. It is a way for people to work is a way to earn money. Work is a way for people to earn a living and to earn money. It is a way of life and to earn money. It is a way of making a living and making money. It is a way for people to earn a living. It is a way of making money and to earn a way for people to earn a living and to earn a living. It is a way of life that people can earn a way of making money and to earn a living. It is a way of making money and making a way of making money. It is a way of making money that people can earn a way of making money for people to earn a way of life that people can earn money by making money. It is a way to make money because of making money for people to make money and making a way for people to earn a way to make money in a way for people to earn money making money.</s>\n",
      "########\n",
      "*******\n",
      "question: What can happen after doing housework that does not involve pain?\n",
      "answer: become tired\n",
      "choices: ['become tired', 'stress', 'put on shoes', 'backache', 'low pay']\n",
      "common expl list: ['Housework can be tiring, and so, after doing it, one might become tired.', 'Doing housework is likely to tire someone out. Being tired increases the likelihood of restlessness and uneasiness.', 'Raking, sweeping, and dusting are common forms of housework. After all the physical labor of these activities, someone \\xa0might become tired and take time off from housework chores, but not have een doing any housework tasks that']\n"
     ]
    },
    {
     "name": "stderr",
     "output_type": "stream",
     "text": [
      "\r",
      " 16%|█████████████████████████▊                                                                                                                                       | 158/986 [1:58:30<6:04:13, 26.39s/it]"
     ]
    },
    {
     "name": "stdout",
     "output_type": "stream",
     "text": [
      "generated explanation: <pad> <extra_id_0> After doing housework that does not involve pain, you may become tired and irritable. This is because the body is constantly working to prepare for the day ahead. This can lead to muscle soreness, muscle soreness, and fatigue. This can also lead to muscle spasms, a feeling of being tired can occur, which can lead to muscle strain and fatigue. This can be caused by doing housework that involves lifting heavy objects, such as books, magazines, or other forms of physical labor. This can lead to muscle soreflexible energy, which can cause you to become tired. This can cause physical pain, mental and physical fatigue can cause mental stress, which can cause physical pain and emotional exhaustion. Physical activity can also cause you to become tiredness, which can cause you to become tired after doing housework, which can cause insomnia, and depression, anxiety, depression, which can cause you to feel tired and can result in the body becomes tired. This can cause you to become tired and emotional stress and fatigue can cause you to become tired and physical exhaustion. This can cause you to feel tired and emotional stress and stress can cause physical and emotional stress because it can be a physical and emotional stress because it can cause you to become tired and emotional stress because it can also cause you to become tired and stress because it can cause you to become tired and emotional stress because it can cause you feel tired and physical fatigue. It can cause fatigue and physical stress can cause you to become tired and emotional and physical stress can cause depression and stress because it is a feeling of stress and emotional fatigue because it can also lead to physical pain and stress because it is often a feeling of stress and emotional stress and physical fatigue. This can also lead to you to become tired because it can lead to become tired and physical stress because it is a feeling of stress and become tired because it is a feeling of stress and stress. This is because it is a feeling of stress because of the physical stress that you become tired because it is a feeling of stress and it is a feeling of the body and it is a feeling of the body is a feeling of stress and it is a feeling of the body is a feeling of stress that you are doing housework that it is a feeling of a feeling of stress because it is a feeling of physical pain because of physical stress and it is a feeling of stress and because it is\n",
      "########\n",
      "*******\n",
      "question: James sat in a chair and listened to the speaker.  Where might James be?\n",
      "answer: auditorium\n",
      "choices: ['synagogue', 'grocery store', 'auditorium', 'confession', 'office']\n",
      "common expl list: ['James was likely in an auditorium, because he was listening to a speaker.']\n"
     ]
    },
    {
     "name": "stderr",
     "output_type": "stream",
     "text": [
      "\r",
      " 16%|█████████████████████████▉                                                                                                                                       | 159/986 [1:58:40<4:58:06, 21.63s/it]"
     ]
    },
    {
     "name": "stdout",
     "output_type": "stream",
     "text": [
      "generated explanation: <pad> <extra_id_0> James might be in an auditorium because it is a common place to gather for a lecture. Auditoriums are usually a large space that is used to hear speakers, and they are often larger than a classroom. This can make auditoriums a great place to gather information and listen to speakers. Auditoriums are often large enough to accommodate large groups of people, and can be a great place to relax and listen to a lecture or a presentation. Auditoriums are also often large enough to accommodate for a lecture or a lecture than a typical classroom. Additionally, auditorium is a great place to listen to hear the speaker, as it is a great place to hear the audience. The speaker may be speaking to listen to take notes and make his or a great place to gather in an audience. Auditorienium is a great place to sit down and to hear the speaker's talk or to hear the audience. The auditorium is also a great place to hear the speaker's's and to sit in a large group of people. It is a great place to listen to listen to a large group of people. This is a great place to sit in an auditorium is a great place to hear the speaker's words and to hear the speaker's words and understand the speaker's words and to understandable to understand the audience.</s>\n",
      "########\n",
      "*******\n",
      "question: John thought that Mary was beautiful despite her injury.  But Mary believed that she was what?\n",
      "answer: misshapen\n",
      "choices: ['wrong', 'overcast', 'homely', 'bad', 'misshapen']\n",
      "common expl list: [\"If Mary believes she doesn't look normal, but someone else thinks she is beautiful, perhaps she could feel like her form is misshapen.\"]\n"
     ]
    },
    {
     "name": "stderr",
     "output_type": "stream",
     "text": [
      "\r",
      " 16%|██████████████████████████▏                                                                                                                                      | 160/986 [1:58:49<4:06:24, 17.90s/it]"
     ]
    },
    {
     "name": "stdout",
     "output_type": "stream",
     "text": [
      "generated explanation: <pad> <extra_id_0> Mary believed that she was beautiful despite her injury. She believed that she was beautiful despite her injury. Mary believed that she was misshapen because she believed that she was not able to function properly and could not move well. Mary believed that she was beautiful because she believed that she was able to function effectively and could not perform at the level that John believed she could. She believed that she was beautiful because she could not move well and could not perform at the level that John believed she could. Mary believed that she was beautiful because she believed that John was not a physical impairment, but John was not convinced that she was not able to see her as beautiful because she was beautiful because she was unable to see her body. John was not able to see her as beautiful, but Mary believed that she was not capable of her physical and emotional impact on her perception of her own. Mary believed that she was missing a beautiful because it was missing out of her own beauty. She was missing something that John’s emotional and her. Mary was not able to see her beauty.</s>\n",
      "########\n",
      "*******\n",
      "question: Where does my body go after I am no longer living?\n",
      "answer: graveyard\n",
      "choices: ['zombie', 'bodycam', 'coffin', 'graveyard', 'funeral']\n",
      "common expl list: ['When a person dies, it is common to bury their bodies in locations called graveyards.', 'Corpses are buried in graveyards.', 'When one dies, their body is buried in a graveyard.']\n"
     ]
    },
    {
     "name": "stderr",
     "output_type": "stream",
     "text": [
      "\r",
      " 16%|██████████████████████████▎                                                                                                                                      | 161/986 [1:58:57<3:23:42, 14.82s/it]"
     ]
    },
    {
     "name": "stdout",
     "output_type": "stream",
     "text": [
      "generated explanation: <pad> <extra_id_0> My body goes to a graveyard after I am no longer living because it is the final resting place for my body after I am no longer living. The graveyard is the final resting place for my body after I am no longer living. It is the final place my body goes to after I no longer live because it is the last place my body goes to when I am no longer living. It is the final resting place for my body after I am no longer living. The body goes to the graveyard because it is the final rest of my life. The graveyard is the last place for my remains. Graveither way my body goes to the grave or cremated remains are buried. Graveyards are also places where my soul is taken from the last place. Graveyard is the final resting place for my soul after I am no longer living. Graves soul and are taken away from the last of my body goes to the last place for my body before being taken to be taken to be a grave. graveyard is the last place for my body is taken away from the last time. Graved gone.</s>\n",
      "########\n",
      "*******\n",
      "question: Where can you find a bar before traveling a long distance?\n",
      "answer: airport\n",
      "choices: ['las vegas', 'public house', 'airport', 'restaurant', 'michigan']\n",
      "common expl list: ['Bars are often located in airports, and so if a person was traveling a long distance, they might stop at an airport bar.']\n"
     ]
    },
    {
     "name": "stderr",
     "output_type": "stream",
     "text": [
      "\r",
      " 16%|██████████████████████████▍                                                                                                                                      | 162/986 [1:59:12<3:22:27, 14.74s/it]"
     ]
    },
    {
     "name": "stdout",
     "output_type": "stream",
     "text": [
      "generated explanation: <pad> <extra_id_0> Airports are a great place to find a bar before traveling a long distance. Airports are often a great place to find a bar before traveling a long distance. Airports are usually located near the airport, which makes it easy to find a bar near the airport. Bars are usually located in areas that are close to the departure gate, and are ideal for travelers who are traveling to different countries. Airports are also often equipped with bars that are open 24 hours a day. Airports also have a variety of bars, and are often a great place to find a bar near the airport, making it easy to find a bar at a place to relax before traveling. Additionally, airports often offer snacks and drinks, bars are often located in the city center of the airport. Bars are also often located in the heart of the airport, so travelers can find a bar before traveling. Airports are also often located near the city's, making it easy to find a bar at night. Alternatively, airports are often located in the airport, which makes it easier to find a bar in the city.</s>\n",
      "########\n",
      "*******\n",
      "question: Where might a small ball be bounced from?\n",
      "answer: child's hand\n",
      "choices: ['soccer game', 'street', 'toy store', \"child's hand\", 'on the sidewalk']\n",
      "common expl list: ['Since children enjoy bouncing balls, and they are also relatively small, they would bounce a ball from their hand.', 'A ball much like a toy, and kids often play with them on the streets and sidewalks.']\n"
     ]
    },
    {
     "name": "stderr",
     "output_type": "stream",
     "text": [
      "\r",
      " 17%|██████████████████████████▌                                                                                                                                      | 163/986 [1:59:21<2:58:14, 12.99s/it]"
     ]
    },
    {
     "name": "stdout",
     "output_type": "stream",
     "text": [
      "generated explanation: <pad> <extra_id_0> A child's hand is the most likely place to bounce a small ball from. It is the most likely place for a small ball to be bounced from because it is the most likely place for a ball to go. It is also the most likely place for a ball to go from because it is the most likely place for a ball to go. A child's hand is usually the easiest place to find a small ball to bounce from because it is the most likely place for a ball to go. This is because it is the most likely to get a small ball from the most likely to go back and then the ball back. The child's hand is the most likely to bounced from the ball will be thrown from the ball to go back and then bounced from the ball will be back and forth. This is the most likely the most likely to cause of the small ball to go back and a child will likely place for a small ball to go back. A small balls are usually located in the most likely place to bounce from the hand to be a small ball to return to the child to a ball to<extra_id_27> </s>\n",
      "########\n",
      "*******\n",
      "question: Where do families begin?\n",
      "answer: wedding\n",
      "choices: ['wedding', 'around dinner table', 'supermarket', 'dinner together', 'park']\n",
      "common expl list: ['A wedding is a ceremony in which two people get married, and thus a wedding is where a family begins.']\n"
     ]
    },
    {
     "name": "stderr",
     "output_type": "stream",
     "text": [
      "\r",
      " 17%|██████████████████████████▊                                                                                                                                      | 164/986 [1:59:37<3:14:00, 14.16s/it]"
     ]
    },
    {
     "name": "stdout",
     "output_type": "stream",
     "text": [
      "generated explanation: <pad> <extra_id_0> Families begin with weddings because weddings are a time for families to gather and bond. During a wedding, the family will gather in a central location in the home. This will allow them to gather around a common goal, such as a wedding. This will allow them to share in the celebration and to build lasting bonds. A wedding is a time for family unity, and it can be a time to celebrate the love and bonding that has developed over the years. It can also be a time to celebrate in the future generations, as they grow up through the life of the generations. This is an important part of a family's continued growth and development of their lives. It is a time that helps them to become closer, and to grow as they grow together. This is an important milestone in the life. It is important for families to grow and continue to their children's future generations. It can also be a time of celebration of the first step in their life. It is a time for the future generations to build on the foundation of the family. It is an important time for them to become a special occasion. It is a time to build and share in the life of the family. It is a time to create a strong and to build a strong bond that will continue to grow.</s>\n",
      "########\n",
      "*******\n",
      "question: He enjoyed reading newspaper, he consider what a subscription?\n",
      "answer: buying\n",
      "choices: ['gifting', 'buying', 'money', 'literacy', 'knowing how to read']\n",
      "common expl list: ['Buying a subscription to a newspaper is a way to get the newspaper delivered to your home.']\n"
     ]
    },
    {
     "name": "stderr",
     "output_type": "stream",
     "text": [
      "\r",
      " 17%|██████████████████████████▉                                                                                                                                      | 165/986 [1:59:47<2:54:59, 12.79s/it]"
     ]
    },
    {
     "name": "stdout",
     "output_type": "stream",
     "text": [
      "generated explanation: <pad> <extra_id_0> He enjoys reading newspaper, he consider buying a subscription<extra_id_1> Buying a subscription<extra_id_2> He enjoyed reading newspaper, a subscription is a way to get a subscription<extra_id_3> He enjoys reading newspaper, a subscription is a way to get a newspaper that is available on a regular basis, and it allows him to pay for the newspaper at a time when he feels the need to subscribe. Buying a subscription allows him to pay monthly or annually for newspaper access, which is a great way to save money on newspaper, and he also allows him to spend more time with more time reading, and money spent on newspaper subscriptions. A subscription also allows him to get the newspaper, and to read newspaper subscription allows him to pay for a better value for money, and a subscription is a great way to keep up the newspaper, and a subscription allows him to keep up to read newspapers, which can be a great way to read newspapers, and enjoy reading newspaper, and a subscription allows him to subscribe to read newspapers without spending money. Moreover, a subscription allows him to spend more time with his reading newspaper, and to enjoy reading newspaper without spending. In addition, he can also save on the newspaper, and read other newspapers, which is a better quality time with his reading, and more time with the newspaper.</s>\n",
      "########\n",
      "*******\n",
      "question: What does an animal do when it becomes old?\n",
      "answer: feel pain\n",
      "choices: ['live long', 'leave home', 'feel pain', 'eating', 'sense fear in human']\n",
      "common expl list: ['Ageing animals may have chronic pain as part of the body losing function as it ages.']\n"
     ]
    },
    {
     "name": "stderr",
     "output_type": "stream",
     "text": [
      "\r",
      " 17%|███████████████████████████                                                                                                                                      | 166/986 [2:00:12<3:45:44, 16.52s/it]"
     ]
    },
    {
     "name": "stdout",
     "output_type": "stream",
     "text": [
      "generated explanation: <pad> <extra_id_0> An animal that becomes old will feel pain when it is stressed or unable to function. This pain is caused by changes in its environment, such as changes in its diet, or changes in its activity. Animals that experience pain will have a harder time learning to use the muscles and organs that they use to function. This is because animals that have lost their ability to reproduce will have lost their ability to absorb nutrients and oxygen, and will have lost the ability to use their senses. Animals that have lost their ability to use their senses will have to deal with any changes in their lives. Animals that are suffering, and will eventually become old and eventually become sick. Animals that they will feel pain as they get older, and eventually die. This is a sign that they will eventually become old and will feel pain, and eventually become old animals. Animals that have to deal with stress and other animals will also feel pain when they become old. Animals become old will feel the pain and feel more vulnerable to take a break down when they are suffering. Animals will feel pain when they become old, and die. Animals will also feel pain in their sense of their surroundings, and a lot of pain. This is a sign that an animal is becoming old. This is a sign of its ability to take on its sense of a certain level of pain relief. Animals are a sign of the animal is experiencing a sense of pain when it becomes old. Animals a feeling of pain, and<extra_id_27> s it becomes pain. This is a sign of pain when it becomes old, and feel pain, such as a feeling of pain, such as a sign of pain, such as it becomes a sign of pain, and it is a sign of pain that it becomes old, and may be a sign of pain, or a sign of being a sign of pain.</s>\n",
      "########\n",
      "*******\n",
      "question: What entity would have a fire extinguisher in their boardroom?\n",
      "answer: most businesses\n",
      "choices: ['boat', 'apartment', 'public building', 'most businesses', 'chemistry lab']\n",
      "common expl list: ['Most businesses would have a fire extinguisher in their boardroom, because they are likely to have a fire in their boardroom.']\n"
     ]
    },
    {
     "name": "stderr",
     "output_type": "stream",
     "text": [
      "\r",
      " 17%|███████████████████████████▎                                                                                                                                     | 167/986 [2:00:24<3:25:42, 15.07s/it]"
     ]
    },
    {
     "name": "stdout",
     "output_type": "stream",
     "text": [
      "generated explanation: <pad> <extra_id_0> Most businesses have a fire extinguisher in their boardroom because fire extinguishers are used to extinguish fires in the workplace. Fire extinguishers are usually located in a boardroom or similar location where employees can quickly access the equipment. They are usually located in a central location, such as a conference room, boardroom, or other areas of the building. Fire extinguishers are typically used in public areas, such as public areas, boardrooms, or other areas of the business. Fire exting is a commonplace in the workplace, and can be used in the office. Fire extinguishing can be used to quickly and quickly responders are often needed in the event of an emergency. Fire extinguishers in a boardroom, or in an emergency, a business. Fire extinguishers are a critical safety feature of the boardroom, and can be used in a boardroom, or in the boardroom, or in a boardroom. Fire extinguishers can be used in a boardroom or in a boardroom. Fire exting a boardroom or in a boardroom or in a boardroom. Fire extinguestored in a boardroom or in a boardroom, or in a boardroom. Fire extingued in a business, or in a boardroom or in a business, and is a commonplace.</s>\n",
      "########\n",
      "*******\n",
      "question: Where can someone go and buy cheese?\n",
      "answer: market\n",
      "choices: ['pizza', 'bar', 'fridge', 'market', 'refrigerator']\n",
      "common expl list: ['Cheese is a dairy product and can be purchased at markets, for the most part.', 'Cheese is sold at markets.']\n"
     ]
    },
    {
     "name": "stderr",
     "output_type": "stream",
     "text": [
      "\r",
      " 17%|███████████████████████████▍                                                                                                                                     | 168/986 [2:00:38<3:21:24, 14.77s/it]"
     ]
    },
    {
     "name": "stdout",
     "output_type": "stream",
     "text": [
      "generated explanation: <pad> <extra_id_0> A market is a place where people can go to buy cheese. It is a place where they can go to find the best selection of cheese. Markets are usually a great place to buy cheese because they are usually stocked with a wide variety of cheeses and cheeses from around the world. They are also usually a great place to find a wide variety of cheeses, so it is important to shop around for the best selection. Markets are also a great place to find fresh produce, meat, eggs, and eggs, as well as well as they are often times. Therefore, market is the best place to buy cheeses from the best quality and taste. Markets are also an excellent place to find the best prices, as it is a great place to buy cheese. Cheese is often sold at a great place to find the best selection of cheese, as it is a great place to find the best selection of cheese. Markets quality and is a great place to find the best price. The cheese market is a great place to find the best quality and is a great place to find the best quality. It is a great place to buy cheese, and it is a great place to find the best prices. The best place to buy cheese is a great place to buy. Cheese is a great place to buy cheese is a great place to find the best selection of cheese, and quality. Market is a great place to find the best selection of cheese. Markets can be found in a great place to buy cheese is a great place to find a great place to buy it is a great place to buy it is a great place to buy it is a great place to buy it is a great place to buy cheese. It is a great place to buy it is a great place to buy cheese and buy cheese because it is a great place to buy cheese, and buy it is a great place to buy it is a great place to buy cheese.</s>\n",
      "########\n",
      "*******\n",
      "question: Where would you carry food while on a long walk in the countryside?\n",
      "answer: backpack\n",
      "choices: ['backpack', 'table', 'jar', 'box', 'container']\n",
      "common expl list: [\"Because backpacks are designed to be carried on one's back, they are the most convenient way to carry food while on a long walk.\", 'Instead of carrying a jar or container, filling your backpack with food might not disrupt your movements as much when you are walking.']\n"
     ]
    },
    {
     "name": "stderr",
     "output_type": "stream",
     "text": [
      "\r",
      " 17%|███████████████████████████▌                                                                                                                                     | 169/986 [2:00:50<3:07:44, 13.79s/it]"
     ]
    },
    {
     "name": "stdout",
     "output_type": "stream",
     "text": [
      "generated explanation: <pad> <extra_id_0> A backpack is a great way to carry food while on a long walk in the countryside. It can be a great way to carry food while on a long walk in the countryside because it is a convenient way to carry it. It is also a great way to keep your food organized and organized. A backpack can be filled with small items such as snacks, water, and other essentials like water, food, and other essentials such as toiletries, maps, and other items such as toiletries. It can also be a tent, or other items such as a backpack for hiking or camping, camping or hiking in the countryside for hiking trip. A backpack is a great way to carry food while on a long walk in the country. It is a backpack is a convenient way to carry food while on a long distances. Backpacks can also be a great way to carry a variety of items, such as a picnic, or for a short trips. It can be a backpack for a backpack for a trip. It is a great way to carry on a backpack for hiking, such as a hiking, or a backpack. It can be used to carry food or even a long distances. Backpacks can be used to carry on a backpack can be used to carry a long walk in the countryside for a trip, or it can be used to carry a convenient way to carry food while on a long walk in the countryside.</s>\n",
      "########\n",
      "*******\n",
      "question: What could a driver do that could distract him or her while he or she is in a driving car?\n",
      "answer: smoke\n",
      "choices: ['use mobile phone', 'car crash', 'smoke', 'backache', 'automobile accidents']\n",
      "common expl list: ['It can be tricky to smoke and concentrate on driving at the same time, and research has found that smoking in a car with children present is very dangerous.', 'Smoking is a common activity that people do while driving, and it could distract them from driving.']\n"
     ]
    },
    {
     "name": "stderr",
     "output_type": "stream",
     "text": [
      "\r",
      " 17%|███████████████████████████▊                                                                                                                                     | 170/986 [2:01:00<2:55:35, 12.91s/it]"
     ]
    },
    {
     "name": "stdout",
     "output_type": "stream",
     "text": [
      "generated explanation: <pad> <extra_id_0> Smoking can distract a driver while driving a car. Smoking can distract a driver from the task at hand and distract them from the distractions that can be involved in driving. Smoking can also be a distraction because it can make it difficult to focus and concentrate on the road. Smoking can also distract a driver because it can make it difficult to concentrate and focus, which can lead to distractions. Smoking can also cause a driver to lose concentration, which can lead to distractions while driving. Smoking can also cause a driver’s the driver’s attention and can easily drift away from the road. Smoke can also help to distract drivers from distractions while driving. It can also lead to distractions, which can lead to distractions, which can lead to distractions and can lead to distractions. Smoking can also lead to distractions, which can also lead to distractions drivers. It can also lead to distractions and other distractions, which can also lead to distractions while driving. Smokes can distract drivers and other distractions. It can also lead to distractions and can lead to distractions, which can lead to distractions. It can also lead to distractions, which can cause them to get in the driver to other drivers to distractions. Smoking can lead to accidents and can lead to distractions while driving.</s>\n",
      "########\n",
      "*******\n",
      "question: The fat man wanted to make a change in his life and make sure it stayed what?\n",
      "answer: permanent\n",
      "choices: ['concretely', 'permanent', 'remain stable', 'stagnant', 'constant']\n",
      "common expl list: ['His making a decision to change and ensuring the decision is made permanent indicates a desire for a stable, permanent life, which does not change.', 'In changing his life, he wants to make sure he remains in the new lifestyle choices, e.g., not become stagnant to bad choices and fall back into bad choices.']\n"
     ]
    },
    {
     "name": "stderr",
     "output_type": "stream",
     "text": [
      "\r",
      " 17%|███████████████████████████▉                                                                                                                                     | 171/986 [2:01:05<2:20:07, 10.32s/it]"
     ]
    },
    {
     "name": "stdout",
     "output_type": "stream",
     "text": [
      "generated explanation: <pad> <extra_id_0> The fat man wanted to make sure his change of life stayed permanent. Permanent change is a permanent change in life that stays with the person for the rest of their lives. Permanent change is the change that is made to an object to stay with it for the rest of its life. Permanent change means the change is permanent and it is a permanent change in life. Permanent change means the change is permanent and it stays with the person for the rest of their lives. Permanent change means the change is a permanent change in life that stays the same forever. Permanent Changes in life, which can be a permanent. Permanent means permanent change is a permanent change in the man’s life. Permanent change is a permanent change in his life. Permanent change in his life. Permanent changes can be permanent changes in his life.</s>\n",
      "########\n",
      "*******\n",
      "question: where did many colonial kingdoms originate?\n",
      "answer: europe\n",
      "choices: ['saudi arabia', 'europe', 'united states', 'book', 'monarchy']\n",
      "common expl list: ['Many colonial kingdoms in the past can be traced all the way back to their roots in Europe.', 'Colonies and kingdoms often originate in the mother countries of the colonial or kingdom builders, e.g., entities in the United Kingdom and the Netherlands.']\n"
     ]
    },
    {
     "name": "stderr",
     "output_type": "stream",
     "text": [
      "\r",
      " 17%|████████████████████████████                                                                                                                                     | 172/986 [2:01:13<2:13:47,  9.86s/it]"
     ]
    },
    {
     "name": "stdout",
     "output_type": "stream",
     "text": [
      "generated explanation: <pad> <extra_id_0> Many colonial kingdoms originated in Europe<extra_id_1> This is because Europe is the most stable and stable region in which to establish colonies. It also has the most natural resources, such as forests, lakes, rivers, and mountains, which make it an ideal place for settlement. It is also the most stable and stable place for trading, so the colonies are less likely to be influenced by external influences, such as religious or political beliefs, or political opinions. Europe also has the most diverse population, making it a great place to establish a strong and culturally, a great power in Europe, which was once a powerful and was the most likely to establish a colonial empires, as the most likely to become a powerful empires and a stronghold in Europe, and eventually a great power, and eventually spread, which eventually lead to the expansion of the colonial empires, and the colonies, which led to the empires. The colonial kingdoms were able to establish a stronghold on their coloni</s>\n",
      "########\n",
      "*******\n",
      "question: Where can a television be stored and hidden?\n",
      "answer: cabinet\n",
      "choices: ['apartment', 'living room', 'bedroom', 'kitchen', 'cabinet']\n",
      "common expl list: ['A television can be stored inside a cabinet.', 'A cabinet is a piece of furniture that is used to store items, and televisions are large, and thus, can be stored in cabinets.']\n"
     ]
    },
    {
     "name": "stderr",
     "output_type": "stream",
     "text": [
      "\r",
      " 18%|████████████████████████████▏                                                                                                                                    | 173/986 [2:01:29<2:37:19, 11.61s/it]"
     ]
    },
    {
     "name": "stdout",
     "output_type": "stream",
     "text": [
      "generated explanation: <pad> <extra_id_0> A television is usually stored in a cabinet to protect it from damage or damage caused by dust, dirt, dirt, or other foreign objects. Cabinets are typically made of a durable, hard-wood material, which helps to keep it safe and secure. Cabinets are usually able to accommodate a television set up in a room without exposing the contents. Cabinets are typically made to withstand wear and tear, and are usually made of a durable, hard-resistant material that is easy to clean and maintain. Cabinets are often made of the perfect place for television set up to safely and hide it from harm. Cabinets are often hidden in the television from damage. Cabinets can also be used to provide a safe place to keep the television from harm or accidental damage. Cabinets can also be used to store a television set up to be hidden away from children. Cabinets can also be used to hide a television from children or other items, and other items. Cabinets can be used to store and protect the television from the television. Cabinets can also be hidden or hidden in a television. Cabinets can also be used to keep a television hidden from children and adults. Cabinets can be used to hide if they are used to protect the television from damage. Cabinets can be used to hide a television from being opened and exposed to be hidden from children or hidden from children's or even a television. Cabinets can be easily removed and hidden from children. Cabinets can be used to hide a television or removed and hidden from children or hidden in an adult.</s>\n",
      "########\n",
      "*******\n",
      "question: what can get a prisoner in more trouble?\n",
      "answer: attempt to escape\n",
      "choices: ['dream of freedom', 'attempt to escape', 'do time', 'fast for days', 'scape jail']\n",
      "common expl list: ['Prisoners serve time, and when a prisoner attempts to escape, they generally serve extra time.']\n"
     ]
    },
    {
     "name": "stderr",
     "output_type": "stream",
     "text": [
      "\r",
      " 18%|████████████████████████████▍                                                                                                                                    | 174/986 [2:01:41<2:38:16, 11.70s/it]"
     ]
    },
    {
     "name": "stdout",
     "output_type": "stream",
     "text": [
      "generated explanation: <pad> <extra_id_0> Attempting to escape can lead to more trouble for a prisoner. Attempting to escape can be a dangerous and time-consuming process, as it involves a lot of physical and mental work. In addition, attempting to escape can put the prisoner in a dangerous situation, as it involves physical contact with other prisoners, and it can lead to physical and psychological harm. Escape attempts can also lead to physical injuries, such as broken bones, burns, and even death. Escape attempts can also lead to financial problems, as the prisoner may also lead to escape from justice, which can lead to serious mental health problems in the prisoner to health problems in the future. Escape plans can also lead to serious psychological harm or even suicide. Escape attempts to get them in a prisoner can lead to mental health issues, and mental health effects of the prisoner in a lot of psychological harm to take care of the prisoner’s mental health and wellbeing. escape from the prisoner’s mental health issues, and mental health risks. Escape can also lead to serious mental health and psychological stress levels, which can lead to mental health problems. Escape attempts to to a lot of the prisoner’s mental and physical and psychological effects of the prisoner to mental and psychological effects of a prisoner. a prisoner in a prisoner to a number of physical and mental health problems. Escape from prisoner. a prisoner in some sense of a lot of physical and mental health issues.</s>\n",
      "########\n",
      "*******\n",
      "question: The crab was separated from his compatriots out in the sea, where was he likely to be?\n",
      "answer: tide pool\n",
      "choices: ['fish market', 'cooking pot', 'tide pool', 'beach sand', 'farm']\n",
      "common expl list: ['Tide pools are regions of shallow, pooled water that are very exposed to air, making them appealing to crabs that have to breathe.']\n"
     ]
    },
    {
     "name": "stderr",
     "output_type": "stream",
     "text": [
      "\r",
      " 18%|████████████████████████████▌                                                                                                                                    | 175/986 [2:01:53<2:38:47, 11.75s/it]"
     ]
    },
    {
     "name": "stdout",
     "output_type": "stream",
     "text": [
      "generated explanation: <pad> <extra_id_0> The crab is likely to be separated from his compa­nyies out in the sea at a tide pool because he is likely to be in a calm environment. Tide pools are a place where water is calm and the temperature is relatively constant. This allows the crab to rest and recover from the stress of the sea. Tide pools also provide a place for crabs to play and socialize with other crabs and fish. Tide pools also provide a place for crabs to gather and play and socialize with other crabs. Additionally, tide pools provide an opportunity for the crab to escape from the sea. This allows the crab to find his friends and family. Additionally, tide pools provide a place to swim and to play with other crabs, as well as they can be found in a place to gather and to gather together. In addition, tide pools provide a place for crabs to gather and to gather in the ocean. The crab is likely to be in the ocean, as it is often a safe place to gather and socialize with other crabs. Additionally, tide pools are a place for crab to find a place to relax and socialize with other crabs. This allows the crab to stay together with his fellow crabs and to socialize with other crabs to gather and socialize with other crabs.</s>\n",
      "########\n",
      "*******\n",
      "question: What item is smelted out of minerals on the country side?\n",
      "answer: metal\n",
      "choices: ['urban city', 'france', 'metal', 'grass', 'state']\n",
      "common expl list: ['Metals are extracted from mineral mines out in the country side.', 'Products made by smelters tend to be made out of metals, and mining occurs at the country side.']\n"
     ]
    },
    {
     "name": "stderr",
     "output_type": "stream",
     "text": [
      "\r",
      " 18%|████████████████████████████▋                                                                                                                                    | 176/986 [2:02:06<2:45:49, 12.28s/it]"
     ]
    },
    {
     "name": "stdout",
     "output_type": "stream",
     "text": [
      "generated explanation: <pad> <extra_id_0> Metal is a product made from minerals. It is made from a combination of elements such as rock, sand, and molten salt. The metal is then smelted to create a form of metal, which is then used to make other metals such as aluminum, copper, and zinc. Metal is a common product made from metals because they are very durable and are able to withstand the elements. Metal is a good example of a durable product made from a variety of elements, such as silicon, iron, which is a popular metals, which is made from the minerals. Metal is also a product because it is a product, which is another common metals that are made from the result in the product. This allows for a variety of different alloyes, making it s melting point, making it a variety of different colors, shapes, and colors, making it a strong and durable. It is also made from a variety of minerals, making it a variety of different types of metals, and different types of metals, making it smelt from the different minerals, making it is a great example of metals, such as s, such as iron, because it is a great way to make, and because it is a great source of minerals, making metal, and it is a great source of metal, and is made from the metal, making it strong and is a great source of metals, and a great source of minerals, so that it is a great source of different types of minerals, so that it is produced from mines and it is a great source of metals, making it a great source of minerals because it is a great source of iron, and makes it is made from a great source of minerals are made from rocks, and<extra_id_27> </s>\n",
      "########\n",
      "*******\n",
      "question: Where is a good place to store a saw?\n",
      "answer: toolbox\n",
      "choices: ['hardware store', 'tool shed', 'storage', 'tool kit', 'toolbox']\n",
      "common expl list: ['One might likely store a saw in a box with other tools.', 'A toolbox is a container for tools, and a saw is a tool.']\n"
     ]
    },
    {
     "name": "stderr",
     "output_type": "stream",
     "text": [
      "\r",
      " 18%|████████████████████████████▉                                                                                                                                    | 177/986 [2:02:13<2:22:53, 10.60s/it]"
     ]
    },
    {
     "name": "stdout",
     "output_type": "stream",
     "text": [
      "generated explanation: <pad> <extra_id_0> A toolbox is a good place to store a saw because it can be used to store a saw in a variety of ways. It can be used to store tools such as a drill, saw, saw saw, and other tools. A toolbox is a great place to store a saw because it can be used to store it in a variety of ways. A toolbox can also be used to store other tools, such as a drill press, grinder, or other tools that are used to cut wood. A toolbox is also a great place to store a saw for storage space in the right place to keep a saw can be used to safely. A toolbox can be used to store a saw in a toolbox for quick access to it is a good place to the saw when needed. A toolbox can be used to store a saw in a safe and easily accessible for anyone with a saw.</s>\n",
      "########\n",
      "*******\n",
      "question: The jellyfish was pushed along by the water.  It was caught in what?\n",
      "answer: current\n",
      "choices: ['store', 'book', 'park', 'current', 'lake']\n",
      "common expl list: ['Jellyfish are often found in oceans, and oceans have currents.', \"Currents are fast-moving water, and jellyfish can't swim very well, so if caught in a current, it's likely to be being pushed along by the current.\"]\n"
     ]
    },
    {
     "name": "stderr",
     "output_type": "stream",
     "text": [
      "\r",
      " 18%|█████████████████████████████                                                                                                                                    | 178/986 [2:02:27<2:34:03, 11.44s/it]"
     ]
    },
    {
     "name": "stdout",
     "output_type": "stream",
     "text": [
      "generated explanation: <pad> <extra_id_0> The jellyfish was caught in the current. Currents are the forces of the water that push the jellyfish along. They are the forces that push the jellyfish along. Currents are the forces that push the jellyfish along the water's surface. This causes the jellyfish to move along the water's surface and be pulled along by the currents. The jellyfish is caught in the currents because the jellyfish is pushed along by the water's currents. This is because currents are pushed along by the water and can be caught in the current. This is because currents can be pushed along the jellyfish in the water and can be pushed along by the jellyfish. Currents can be pulled along with the jellyfish being pushed along by the water. The jellyfish is pushed along by the water, causing the jellyfish to get away from the water, which can then be released. The jellyfish is pushed along the currents are pushed along by the currents. The jellyfish is caught in the currents, which is pushed along by the water. The currents are a powerful jellyfish and can be pushed along by the jellyfish. The jellyfish is a powerful force of the water, making it. The jellyfish is caught in the current.</s>\n",
      "########\n",
      "*******\n",
      "question: The dime store was full of old donated goods, it reminded the customer of the what?\n",
      "answer: past\n",
      "choices: ['strip mall', 'past', 'shopping center', 'old movie', 'india']\n",
      "common expl list: ['Dime stores were more popular years ago than today. The sight of the old goods reminded the person of the past.']\n"
     ]
    },
    {
     "name": "stderr",
     "output_type": "stream",
     "text": [
      "\r",
      " 18%|█████████████████████████████▏                                                                                                                                   | 179/986 [2:02:45<3:02:10, 13.54s/it]"
     ]
    },
    {
     "name": "stdout",
     "output_type": "stream",
     "text": [
      "generated explanation: <pad> <extra_id_0> The old donated goods reminded the customer of the past because they were full of old donated goods. Old donated goods are goods that have been donated to the store in the past. This could be anything from old toys and games, to clothes, shoes, toys, and other items that were no longer in use. Old donated goods are also items that are often used to make new purchases, such as clothes, shoes, and other accessories. Old donated goods are also often used to make new purchases, such as toys, clothes, and other items that are worn out of the customer, such as the store was full of old donated goods, which could be used to make a person, or a purchase. Old donated goods can also be used to create a nostalgic atmosphere, as they were used to remember the customer of the store, or other items that the customer could use the customer, or even be used to provide a nostalgic experience. Old donated goods can be used to provide a sense of the customer with the past. This could also be used to create a sense of nostalgia for the customer, as they were used to be used in the store. The customer could also be used to provide a sense of nostalgia. It could also provide a sense of nostalgia, and could be used to create a sense of the past. old donated goods were used to be a nostalgic feeling of the customer.</s>\n",
      "########\n",
      "*******\n",
      "question: Where would you put a saw if you do not need to use it soon and your house only has one floor?\n",
      "answer: tool shed\n",
      "choices: ['logging camp', 'in the vehicle', 'tool shed', 'toolbox', 'basement']\n",
      "common expl list: ['A tool shed is a common structure for organizing and storing tools that are infrequently used.', \"A tool shed is a place where tools are stored, and thus, a good place to store a saw if you don't need to use it soon.\", 'The shed is a good place for storing tools when those tools are not in use.']\n"
     ]
    },
    {
     "name": "stderr",
     "output_type": "stream",
     "text": [
      "\r",
      " 18%|█████████████████████████████▍                                                                                                                                   | 180/986 [2:02:56<2:53:46, 12.94s/it]"
     ]
    },
    {
     "name": "stdout",
     "output_type": "stream",
     "text": [
      "generated explanation: <pad> <extra_id_0> A tool shed is a great place to put a saw if you do not need to use it soon and your house only has one floor. Tool sheds are usually built to accommodate a variety of tools, including hand saws, circular saws, circular saws, and power tools. The shed is a great place to store tools if you do not plan to use them often or if you do not have the space to store them all in one place. The shed is a great place to store tools that can be used for the future, as they can be used for many tasks like a wood, or a power tool for the saw a second floor. It is also a great place to store tools, and a saw in the shed is a great place to store it. The shed is a tool shed is a great place to store a saw if you do not need to use it often. The shed is also a great place to put a saw a saw if you have a saw a power tool to store a saw if you do it is not need to use it often. It is also a great place to store a tool if you need to store a saw a saw a power tool a power saw a great place to store a saw a great place to store a tool shed is also a saw if you are looking for a tool a tool shed because it is a great place to store a saw </s>\n",
      "########\n",
      "*******\n",
      "question: A person might wear his yarmulke when going to where?\n",
      "answer: synagogue\n",
      "choices: ['demonstration', 'concert', 'garage', 'bus stop', 'synagogue']\n",
      "common expl list: ['Synagogue is a place commonly visited by religious Jews. Men wear yarmulkes (skullcaps) because faith requires that they uncover their heads when going before God.']\n"
     ]
    },
    {
     "name": "stderr",
     "output_type": "stream",
     "text": [
      "\r",
      " 18%|█████████████████████████████▌                                                                                                                                   | 181/986 [2:03:12<3:05:35, 13.83s/it]"
     ]
    },
    {
     "name": "stdout",
     "output_type": "stream",
     "text": [
      "generated explanation: <pad> <extra_id_0> A person might wear his yarmulke when going to a synagogue because it is a religious symbol. It is worn to symbolize the Jewish people's religious identity, and it is a symbol of Jewish identity. It is a symbol of peace, and unity, and it is a symbol of unity and peace. It is also a symbol of Jewish pride, and is a symbol of unity and peace. It is a symbol of religious affiliation, and it is a symbol of religious faith. It is a Jewish identity, and it is a religious ritual, and it is a religious service or memorial. It is also a symbol of Jewish identity, and a religious identity, and it is a symbol of Jewish identity. It is a symbol of unity and a religious identity, and a Jewish identity. It is a symbol of peace and it is a symbol of Jewish identity, and of Jewish identity, and it is a symbol of Jewish identity, and it is a symbol of religious identity. It is a symbol of Jewish identity, and identity. It is a religious symbol of Jewish identity, and it is a symbol of Jewish tradition, and it is a symbol of Jewish identity. It is a symbol of Jewish identity, and it is a symbol of Jewish identity. It is a symbol of Jewish identity, and it is a symbol of Jewish identity, and it is a symbol of Jewish identity. It is a symbol of Jewish identity, and a symbol of Jewish identity, and a way to represent Jewish identity. It is a way of Jewish identity, and it is a way to symbolizes and it is a symbol of Jewish identity. It is a way of being Jewish identity. It is a way of Jewish identity, and it is a way to make Jewish identity. It is a way of peace, and a symbol of peace and symbol of Jewish identity.</s>\n",
      "########\n",
      "*******\n",
      "question: Someone takes up exercising to improve their what\n",
      "answer: physical fitness\n",
      "choices: ['losing weight', 'physical fitness', 'breathlessness', 'muscles', 'lost weight']\n",
      "common expl list: ['Exercising helps people build their physical fitness.', 'Typically people are motivated to exercise in order to become fit.', 'Exercising is a way to improve physical fitness.']\n"
     ]
    },
    {
     "name": "stderr",
     "output_type": "stream",
     "text": [
      "\r",
      " 18%|█████████████████████████████▋                                                                                                                                   | 182/986 [2:03:23<2:53:43, 12.97s/it]"
     ]
    },
    {
     "name": "stdout",
     "output_type": "stream",
     "text": [
      "generated explanation: <pad> <extra_id_0> Physical fitness is the process of improving one’s physical fitness. It is the process of improving one’s overall fitness, mental and physical health, and overall well-being. Physical fitness is the most important aspect of physical fitness, and it is the most important aspect of a person’s overall well-being. Physical fitness is the ability to move freely and safely, as well as to improve one’s overall well-being and overall health. It is the most important aspect of physical fitness, and it is the most important aspect of a person’s health, as it helps to improve their overall well-being, as well as well as well as well as it helps to improve one’s overall well-being, and overall health. Physical fitness is the most important aspect of physical fitness, and it is the most important to improve one’s overall fitness, as it can help improve one’s health, and to improve one’s overall well-being. Physical fitness can help to improve one’s overall health, and overall fitness, as it can help to achieve a better health and overall well-being. Physical fitness is important to improve one’s overall well-being, as well as improving one’s overall health. Physical fitness can help to improve one’s overall well-being and overall health, as it can help to improve one’s life-long-being, as a person’s overall well-being. Physical fitness and improve their overall well as well as their overall well as improving their overall well as they are a healthy lifestyle, and overall well as a person’s overall well as they live, and overall wellbeing.</s>\n",
      "########\n",
      "*******\n",
      "question: Where could you see a sloth that is not real?\n",
      "answer: picture book\n",
      "choices: ['bad dream', 'picture book', 'another place', 'universe', 'zoo']\n",
      "common expl list: ['Reality is generally fractured into \"real\" and \"fusion.\" Sloths are real, meaning they exist (in some form) in reality; sloths are not real (in the way depicted) in a picture book.']\n"
     ]
    },
    {
     "name": "stderr",
     "output_type": "stream",
     "text": [
      "\r",
      " 19%|█████████████████████████████▉                                                                                                                                   | 183/986 [2:03:53<3:59:17, 17.88s/it]"
     ]
    },
    {
     "name": "stdout",
     "output_type": "stream",
     "text": [
      "generated explanation: <pad> <extra_id_0> A picture book is a great place to see a sloth that is not real. Picture books often have pictures of animals that are not real, such as a raccoon, a fox, or a rat. These books often have pictures of sloths, but they are not always accurate to the animal. This is because picture books often have pictures of animals that are not real, such as a fox, a rat, or a giraffe. Picture books can also have pictures of sloths, which can also be used to make up for a sloth. Picture books often contain stories, and stories that the animals, such as a real sloth stories, and characters. Picture books often contain a sloth, and other animals that are not real. The stories of a sloth are also often used in movies, as a book can also contain a story, and stories about the characters in a sloth. The characters in a real sloth, such as a a real and a sloth, and a real. This is a great way to see a sloth in a book, such as a book. The stories, such as a sloth, or a picture book, and stories. This is a great way to see a sloth is a real. It is a sloth is a real and is a great way to tell a real sloth. The story of a sloth is a book also a picture book can help readers to get into a book, or a picture book can be a sloth that they are not real story, and therefore, book is not real---s are not real book, and a picture book can help to see a real sloth that is not real sloth is a great way to see a real book that book is a great way to see a book that it is a book that it is a great way for children and a way to see a real sloth that a book that children can be seen a real-</s>\n",
      "########\n",
      "*******\n",
      "question: Where are seats often plush?\n",
      "answer: opera\n",
      "choices: ['rest area', 'theater', 'hockey game', 'classroom', 'opera']\n",
      "common expl list: ['Opera is a high-class form of entertainment, and thus, the seats are often plush.', 'Plush seats are generally found in more comfortabe, well-off establishments, and opera is often performed in such, less strict teents of, elegance of the decor.']\n"
     ]
    },
    {
     "name": "stderr",
     "output_type": "stream",
     "text": [
      "\r",
      " 19%|██████████████████████████████                                                                                                                                   | 184/986 [2:04:09<3:54:20, 17.53s/it]"
     ]
    },
    {
     "name": "stdout",
     "output_type": "stream",
     "text": [
      "generated explanation: <pad> <extra_id_0> Plush seats are often found at operas because they are plush and comfortable. This is due to the fact that operas are often held in large halls and require a lot of seating. Plush seats are also a great way to get a good seat in a large auditorium. Plush seats are also more likely to be found at smaller venues, such as clubs, restaurants, and clubs. Plush seats also provide a great place to watch the action, and they are often a great way to relax after a long periods. Plush seats at opera are also a great way to get a good way to enjoy the music, and enjoy the opera. Plush seats are also often a great way to get a great way to enjoy the great way to enjoy the company of the opera. Plush seats make for the way to relax and enjoy the company of the company of the opera. Plush seats are also a great way to ensure that you are comfortable and that you can enjoy the opera. Plush seats are also plush seats at the show off- the opera are also great way to get a great way to get to get a great way to get to get a great deal of comfort and are also more comfortable and also a great way to get to enjoy the opera while also a great view of the mainstage. Plush seats are also a great way to relax and provide a great view of the performances. The plush seats are also great way to get a great view of the opera experience. Furthermore, plushy seats at the opera are also a great way to get the view of the audience and comfortable while watching the performance.</s>\n",
      "########\n",
      "*******\n",
      "question: The comforter was used constantly and treaded upon by everyone, where should it be placed?\n",
      "answer: washing machine\n",
      "choices: ['garbage', 'linen closet', 'bedroom', 'washing machine', 'livingroom']\n",
      "common expl list: ['The comforter was used constantly, so it should be washed frequently. Linen closets are where people store their bed sheets and blankets.', 'When you use your comforter (or any other high-traffic fabric) often, you ought to wash it often too. Therefore it should be kept in the washing machine, to enable quick washing.', 'Linens are often used (i.e., the comforter) and washed frequently.']\n"
     ]
    },
    {
     "name": "stderr",
     "output_type": "stream",
     "text": [
      "\r",
      " 19%|██████████████████████████████▏                                                                                                                                  | 185/986 [2:04:20<3:24:57, 15.35s/it]"
     ]
    },
    {
     "name": "stdout",
     "output_type": "stream",
     "text": [
      "generated explanation: <pad> <extra_id_0> The comforter was used constantly and treaded on by everyone, so it was important to place it in a washing machine. The washing machine is a great way to clean the comforter and keep it clean. It also allows the comforter to dry and be able to be washed in the sink. It also allows the comforter to be removed easily if needed. Additionally, the comforter can be washed in the washing machine without the need for additional care. The washing machine also helps to remove any dust and debris from the comforter and other items. The comforter can be placed in the washing machine, making it an ideal place for the comforter. The washing machine is also a great way to keep the comforter clean and comfortable. In addition, the comforter can be removed from the washing machine. This is an important way to ensure that the comforter is always in the comforter. The comforter can be removed from the comforter while it is removed. The comforter can be cleaned and replaced when it is also a washing machine. It is a great way to keep the comforter clean and is always in the comforter.</s>\n",
      "########\n",
      "*******\n",
      "question: Joe bought a ficus.  He thought it would look good in what part of his home?\n",
      "answer: family room\n",
      "choices: ['family room', 'tropical forest', 'flower garden', 'movie theater', 'hair salon']\n",
      "common expl list: [\"The ficus is an indoor plant, such as a plant one would have in one's family room. The family room is the ideal location for an indoor plant like a houseplant.\"]\n"
     ]
    },
    {
     "name": "stderr",
     "output_type": "stream",
     "text": [
      "\r",
      " 19%|██████████████████████████████▎                                                                                                                                  | 186/986 [2:04:24<2:42:12, 12.17s/it]"
     ]
    },
    {
     "name": "stdout",
     "output_type": "stream",
     "text": [
      "generated explanation: <pad> <extra_id_0> Joe thought a ficus would look good in the family room because it would add visual interest to the room. A ficus would add interest to a room by adding interest and interest to the room. It would also add interest to the family room by providing a focal point for the family and visitors. A ficus would also add interest to the family room by adding visual interest and interest to the room. By placing it in the family room, Joe would be able to add interest and interest to the family and guests. By purchasing a ficus, Joe would also help create a cohesive look throughout the room. It would also add to the family room, as it would be a focal point for guests and look. Finally, a a ficus in the family room, it would create a cohesive and elegant look.<extra_id_1> </s>\n",
      "########\n",
      "*******\n",
      "question: Family is always the best for devotion, but it is also nice if a person has what?\n",
      "answer: loyal friends\n",
      "choices: ['good review', 'headache', 'with cat', 'loyal friends', 'shoes']\n",
      "common expl list: ['We may have devoted friends who would be there for us if we had need.', 'Loyal friends are always there for you, and they will always be devoted to you.', \"Because times may come when a person would like to go out and have fun with some friends, and it's nice if that person may have friends that he is faithful to.\"]\n"
     ]
    },
    {
     "name": "stderr",
     "output_type": "stream",
     "text": [
      "\r",
      " 19%|██████████████████████████████▌                                                                                                                                  | 187/986 [2:04:33<2:28:50, 11.18s/it]"
     ]
    },
    {
     "name": "stdout",
     "output_type": "stream",
     "text": [
      "generated explanation: <pad> <extra_id_0> A loyal friend is a person who is loyal to a person. They are loyal because they are<extra_id_1> loyal because they are<extra_id_2> A loyal friend is a person who is loyal to a person and will always be there for them when they need them. They are loyal because they are loyal because they are loyal to the person and to the community. They are also loyal because they are willing to put up with the sacrifices that a person makes in order to be loyal to their family. They are willing to sacrifice themselves for their family and will always be there is the opportunity to make a person feel valued and appreciated by being with others who can also be a great source of support and a person’s needs. They are also a great source of encouragement and support. They are also a great source of support and support from their faith. They can be a great source of encouragement and support. They are also able to share their faith and a great source of support and can be a person. They are also a true devotion and they can be a person, and can be a great source of support and can be a true friend. It is a great source of a person. This is a great source of faith. It is also important to show that a person.</s>\n",
      "########\n",
      "*******\n",
      "question: Rap is not usually associate with what music often performed by an orchestra?\n",
      "answer: classical\n",
      "choices: ['folk', 'rock', 'good music', 'country music', 'classical']\n",
      "common expl list: ['Rap is generally associated with hip-hop music, which is normally performed by a single artist. Orchestras tend to play classical music, which often is performes with real instruments, rather than manufactured ones.']\n"
     ]
    },
    {
     "name": "stderr",
     "output_type": "stream",
     "text": [
      "\r",
      " 19%|██████████████████████████████▋                                                                                                                                  | 188/986 [2:04:44<2:26:52, 11.04s/it]"
     ]
    },
    {
     "name": "stdout",
     "output_type": "stream",
     "text": [
      "generated explanation: <pad> <extra_id_0> Rap is not usually associated with classical music often performed by an orchestra because it is not usually associated with classical music because it is not usually associated with that type of music. Classical music is typically performed by an orchestra, and it is often accompanied by a choir or string section. This is because classical music is often a more meditative and relaxing sound than rap, and is often accompanied by a string quartet or orchestra. This is because classical music is often performed by an orchestra, and it is usually accompanied by a lot of energy and creativity that comes from the music that is a variety of styles, and is often associated with classical music, and is often performed by a variety of styles, and is often associated with a more commercially produced by an orchestra. This is because classical music is often more accessible than a more traditional a large scale and is often performed by an a more intimate experience. It is often associated with a more intimate and a more intimate setting than with classical music is often performed by an orchestra. This is often performed by an orchestra. It is often performed by an orchestra. It is often associated with a contemporary style that is often associated with a strong and is often associated with a more intimate setting. It is often associated with a different style. It is often associated with a more relaxed and more than contemporary music. This is often associated with a more personal and is a more than just rap.</s>\n",
      "########\n",
      "*******\n",
      "question: At what structure can you see people you use a puck professionally?\n",
      "answer: hockey rink\n",
      "choices: ['hockey rink', 'locker room', 'sporting goods store', 'used in hockey game', 'teachers']\n",
      "common expl list: ['Pucks are commonly used in ice hockey, which is a professional activity.']\n"
     ]
    },
    {
     "name": "stderr",
     "output_type": "stream",
     "text": [
      "\r",
      " 19%|██████████████████████████████▊                                                                                                                                  | 189/986 [2:04:52<2:13:39, 10.06s/it]"
     ]
    },
    {
     "name": "stdout",
     "output_type": "stream",
     "text": [
      "generated explanation: <pad> <extra_id_0> At a hockey rink, you can see people who are professionally using a puck. This is because the rink is located in a building that is designed to provide a professional atmosphere for hockey players. The rink is located in a building that is equipped with a goal post, which allows them to see the ice in real time. This allows them to see who is playing and how to play the game. This is because the goal posts are designed to provide a safe environment for the players to practice and play together. It also allows them to play together, which makes it easier for them to play. It is also because it is a a great way to watch people and play together. This is because it is also a great place to watch the sport of the physicality of the game. It also because it is a great place to practice and can be a great place to watch and play together. It is a great place to get away from the game. This is because it is a great place to see and can also be used in a a great place to watch the other players and play. This is also a great place to see them and watch them play.</s>\n",
      "########\n",
      "*******\n",
      "question: Even when not in flight a bald eagle likes to have a lay of the land, because of this you'll see them perched up where?\n",
      "answer: high places\n",
      "choices: ['colorado', 'natural habitat', 'everglades', 'high places', 'tree']\n",
      "common expl list: ['Eagles like to be high up, so they can see a large area.']\n"
     ]
    },
    {
     "name": "stderr",
     "output_type": "stream",
     "text": [
      "\r",
      " 19%|███████████████████████████████                                                                                                                                  | 190/986 [2:04:56<1:49:52,  8.28s/it]"
     ]
    },
    {
     "name": "stdout",
     "output_type": "stream",
     "text": [
      "generated explanation: <pad> <extra_id_0> Bald eagles like to perch up in high places to get a good view of the land. This can be done by soaring high above the surrounding area or by perching on a rock or tree. This allows them to get a good view of the land without having to move too much. They also like to get a good view of the surrounding area as they are more mobile and can see further ahead than they would otherwise. They also like to get a good look at the surrounding area before taking off. This can also help them to get a good view of the birds. This is a great place to get a good look out of the sky or even when they are in flight. This is why they like to get a high places.</s>\n",
      "########\n",
      "*******\n",
      "question: When is good time for garlic bread?\n",
      "answer: dinner\n",
      "choices: ['refrigerator', 'dinner', 'jail', 'supermarket', 'going on a date']\n",
      "common expl list: ['Garlic bread is often served with dinner.', 'Typical garlic bread is served with a maincourse and wine or other alcoholic beverage, and both are commonly served with dinner.']\n"
     ]
    },
    {
     "name": "stderr",
     "output_type": "stream",
     "text": [
      "\r",
      " 19%|███████████████████████████████▏                                                                                                                                 | 191/986 [2:05:11<2:16:21, 10.29s/it]"
     ]
    },
    {
     "name": "stdout",
     "output_type": "stream",
     "text": [
      "generated explanation: <pad> <extra_id_0> A good time for garlic bread is when it is warm and warm, especially at dinner. This is because the bread is warm and tender, and the butter is a good addition to the bread. Garlic bread is a great addition to any meal, and it is a great way to add a little spice to the meal. Garlic bread is a great addition to any meal, and is often served with a side of salad or a side of a sandwich. Garlic bread is also great for dipping, as it can be served with a delicious and a great addition to any meal. It is also a great addition to make garlic bread for dinner, and perfect timing for making garlic bread, making it is a perfect time to serve it at any meal, and is a great addition to any dinner. Moreover, it is a great addition to any meal. It is a great way to add flavor to any dinner time. It is also a great addition to any meal. It is also a great way to add to any of your dinner. It is a great way to make it. It is a great addition to any of flavor. It is a great addition to any meal.</s>\n",
      "########\n",
      "*******\n",
      "question: Where is the sky fake?\n",
      "answer: planetarium\n",
      "choices: ['shed', 'atmosphere', 'photo', 'outdoors', 'planetarium']\n",
      "common expl list: ['Planetariums are places built to simulate the sky indoors; the opposite of outdoors.', 'Planetariums are buildings that simulate the sky.']\n"
     ]
    },
    {
     "name": "stderr",
     "output_type": "stream",
     "text": [
      "\r",
      " 19%|███████████████████████████████▎                                                                                                                                 | 192/986 [2:05:26<2:34:20, 11.66s/it]"
     ]
    },
    {
     "name": "stdout",
     "output_type": "stream",
     "text": [
      "generated explanation: <pad> <extra_id_0> The sky is a very large area of sky, and the planetarium is the most common place to see the sky. The planetarium is a great place to view the sky, as it is the only real place that can provide accurate views of the sky. It is also the only place that can provide accurate views of the sky, as it is the only place that can provide accurate representations of the sky. The sky is also the only place that can provide a clear view of the Earth, which is impossible to achieve without a telescope, which is the sky is also very rare. The planeta telescope is also the only place where you can observe the stars and planeta telescope. The sky is also very expensive, and the telescopes are not suitable for amateurs. The telescope is also the only place that can provide accurate view of the moon and other features. The planeta telescope is the only place that can provide accurate representation of the sky. The telescope is also not the only place that can provide a clear view of the moon and the planeta telescope, and moon and stars. The planeta telescope is also a real telescope. The planeta telescope is the only place that allows for amateurs to see the stars. The planeta telescope is also a great place for viewing. The telescope is the only place that can see the only place that allows for amateurs that is not a telescope, which allows you to see the sky is not a planeta telescope. It is also the only place that you can view of the only place that is a planeta real sky is not a real- and the only place to see the sky is not an important part of the only place that can view of the only place that allows you to see the sky and to see the planeta telescope is a telescope, and only place to see the only place to see the sky is not a planeta telescope, and that you can see the sky is not only planeta planeta telescope is a planeta planeta planeta telescope.</s>\n",
      "########\n",
      "*******\n",
      "question: Boats that aren't on the ocean travel across the surface of what?\n",
      "answer: lake\n",
      "choices: ['lake', 'ocean', 'tetrahedron', 'mirror', 'object']\n",
      "common expl list: [\"Lakes (and ponds) are bodies of fresh water surrounded by land, and boats exist on water, and thus, will tend to travel across lakes' surfaces.\"]\n"
     ]
    },
    {
     "name": "stderr",
     "output_type": "stream",
     "text": [
      "\r",
      " 20%|███████████████████████████████▌                                                                                                                                 | 193/986 [2:05:33<2:17:42, 10.42s/it]"
     ]
    },
    {
     "name": "stdout",
     "output_type": "stream",
     "text": [
      "generated explanation: <pad> <extra_id_0> Boats that aren't on the ocean travel across the surface of a lake. This is because the lake is a relatively flat surface, so it is relatively stable. However, the water is often a bit rougher than the ocean, making it difficult for boats to navigate. As a result, the boats that aren't on the ocean travel across the surface of a lake. This can be a problem for the boat as the water can be rough, which can make it difficult to maneuver and can lead to a lot of trouble. In addition, the water can be dangerous for the surface of a lake, which can lead to problems when they encounter other obstacles, which can cause accidents. This can also cause accidents and can lead to accidents, which can lead to accidents and even boating on the water. The boats that are also a place where they can cross the surface of a lot of water, which can cause accidents. For this reason, the boats are also more stable than the surface of the ocean.</s>\n",
      "########\n",
      "*******\n",
      "question: A small dog lived with a a woman who loved him. Where might he have lived?\n",
      "answer: person's house\n",
      "choices: [\"person's house\", 'dog house', 'canada', 'illinois', 'basket']\n",
      "common expl list: ['Animals who live with humans are often in their homes.', \"Dogs are often kept as pets, and pets are often kept in their owners' homes.\"]\n"
     ]
    },
    {
     "name": "stderr",
     "output_type": "stream",
     "text": [
      "\r",
      " 20%|███████████████████████████████▋                                                                                                                                 | 194/986 [2:05:44<2:17:12, 10.39s/it]"
     ]
    },
    {
     "name": "stdout",
     "output_type": "stream",
     "text": [
      "generated explanation: <pad> <extra_id_0> A small dog lived with a person in their home because they were able to see each other and interact with each other. This would have allowed the dog to feel safe and secure. The dog would have had a place to hide and be close to the person and the dog would have had a place to be safe. The dog would have had a safe place to live and would have been able to exercise and play with other dogs. This would have been a great way for the dog to get a good rest and get used to live in a home. The person would have a small dog would have lived with the person and would have a house would have been able to stay with the dog. The dog would have been a safe and loved by the person who was looking for a small dog would have been a place to feel safe and loved by the people who would have been a dog would have been able to play with him and play with other dogs. The dog would have been a good way for the dog to get along with a person.</s>\n",
      "########\n",
      "*******\n",
      "question: There are usually four strings on what popular instrument?\n",
      "answer: guitar\n",
      "choices: ['trumpet', 'kite', 'quark', 'guitar', \"bird's nest\"]\n",
      "common expl list: ['Guitars have four strings.', 'A guitar is a stringed instrument with four strings.']\n"
     ]
    },
    {
     "name": "stderr",
     "output_type": "stream",
     "text": [
      "\r",
      " 20%|███████████████████████████████▊                                                                                                                                 | 195/986 [2:05:54<2:15:15, 10.26s/it]"
     ]
    },
    {
     "name": "stdout",
     "output_type": "stream",
     "text": [
      "generated explanation: <pad> <extra_id_0> There are usually four strings on the guitar. Guitar is a popular instrument because it is used to play rhythm guitar. There are usually four strings on guitar because it is a highly complex instrument. Guitar has four strings, each with its own unique set of characteristics. The guitar has four distinct parts, each with a different sound and a different pitch. The four strings are arranged in a series of struts called a string. This is because the guitar has a series of different parts, each with its own unique sound. The four strings are used to create a harmony. The guitar has four strings are the perfect harmony and rhythm of the guitar. This is because it is because of the instruments have four strings. This is a popular instrument and it is a true four-tone guitar. Additionally, there are four strings on each string. Additionally, there are usually a different sound. This is because it is a popular guitar. Because of this, there are four different types of different types of music, each string is a distinct sound. This is a unique sound and is due to the different pitches. It is important because it is a musical instrument. The guitar has four different tunings are usually a variety of different from one string a guitar has different sound and sound.</s>\n",
      "########\n",
      "*******\n",
      "question: Where would you find a shelf with toys for young people learning?\n",
      "answer: school building\n",
      "choices: ['corner', 'school building', 'wall', 'library', 'bookstore']\n",
      "common expl list: ['A school building is a place where children learn, and so, a school building would have a shelf with toys for young people learning.', 'School buildings house school libraries, in which you would find shelfs of toys, games and puzzle for students to use while in school.']\n"
     ]
    },
    {
     "name": "stderr",
     "output_type": "stream",
     "text": [
      "\r",
      " 20%|████████████████████████████████                                                                                                                                 | 196/986 [2:06:10<2:37:31, 11.96s/it]"
     ]
    },
    {
     "name": "stdout",
     "output_type": "stream",
     "text": [
      "generated explanation: <pad> <extra_id_0> A shelf with toys for young people learning is a great way to get them excited about learning and engaging in play. It can be found in a school building, library, or any other public place where children can play and learn. It can be found in a variety of settings, such as a nursery, preschool, or a playroom. It can also be found in classrooms, in libraries, in rooms that are shared by parents and siblings, or in a room that is designated for children. It can also be found in a classroom, or in a school building, or in a library, or other activities. It can be found in a variety of toys for children learning, and other toys that they can be used to help them learn, or even play. The toys can be used to teach children and help them develop their learning experience and develop. It is also important to be found in a place where they can be found in a school building or in a library, or in a building. It can be used for learning and can be found in a classroom, or in a library. It can be used to help children develop their learning. It can be used to teach them, or even in a school. It can be used to teach them how to develop their development. It can be used to develop their learning activities and play. It can also be used in the learning process. It can be used in a way to help them develop their learning and engage with their development. It can be used in a classroom, or used as a learning space for learning. It can be used as a place where they can be used in a classroom, or in a school, or even be used as a learning process. The shelf can be used to help young people learn and engage in a learning process. It can be used as a shelf with learning. It can be used in a learning process. It can be used as a shelf in a learning process, or to develop a learning experience.</s>\n",
      "########\n",
      "*******\n",
      "question: What can you get after drinking too much alcohol?\n",
      "answer: sickness\n",
      "choices: ['become drunk', 'have fun', 'active', 'frequent urination', 'sickness']\n",
      "common expl list: [\"Drinking too much alchohol can impair the body and, consequently, one's ability to think straight. It can also cause sickness.\", 'Alcohol is a diuretic, which means that it makes you urinate more frequently. This can lead to dehydration, which can cause sickness.', \"Alcohol (e.g., beer, wine, etc.) is a chemical that alters people's consciousness, making them generally feel unpleasant; subsequently, over-consumption can lead to the vomiting of one's content inside one's stomach. Hence, being\"]\n"
     ]
    },
    {
     "name": "stderr",
     "output_type": "stream",
     "text": [
      "\r",
      " 20%|████████████████████████████████▏                                                                                                                                | 197/986 [2:06:22<2:39:59, 12.17s/it]"
     ]
    },
    {
     "name": "stdout",
     "output_type": "stream",
     "text": [
      "generated explanation: <pad> <extra_id_0> After drinking too much alcohol, you can get a variety of different illnesses. The most common sickness is a hangover, which is a reaction to alcohol consumption. This is due to the body storing alcohol in the brain, which causes it to process it differently than it normally does. This increases the risk of developing a cold or flu-like illness. This can also lead to an increase in the risk of developing certain diseases, such as cancer. In addition, alcohol consumption can also increase the risk of developing certain types of cancer, which can cause of the body. In addition, alcohol can also cause some people to take drugs, which can cause serious health problems, such as liver, and kidney stones, heart problems, which can lead to a sudden increase in their metabolism. This can lead to a wide variety of symptoms, which can lead to a cold or even lead to a variety of these symptoms. In addition, alcohol can also cause a wide range of symptoms. In addition, alcohol can also lead to a person suffering from these effects. This can lead to a variety of illnesses.</s>\n",
      "########\n",
      "*******\n",
      "question: WHat is the central bank responding to when they are fighting inflation?\n",
      "answer: problems\n",
      "choices: ['deflation', 'problems', 'spend more', 'people', 'not noticeable']\n",
      "common expl list: ['Inflation is a function of having too much money in the economy. This may cause problems.', 'In order to fight inflation, a central bank must respond to the problem, e.g., economic trouble, which if left alone, would cause inflation', 'Inflation is a problem, and the central bank is responding to it by fighting it.', 'Periods of inflation cause problems for businesses and people. The central bank may take steps to fight inflation (reduce it) to respond to this problem. Reducing inflation also solves the overall issues.']\n"
     ]
    },
    {
     "name": "stderr",
     "output_type": "stream",
     "text": [
      "\r",
      " 20%|████████████████████████████████▎                                                                                                                                | 198/986 [2:06:38<2:54:12, 13.26s/it]"
     ]
    },
    {
     "name": "stdout",
     "output_type": "stream",
     "text": [
      "generated explanation: <pad> <extra_id_0> The central bank is responding to a problem when they are fighting inflation. In this case, the central bank is responding to a problem when they are trying to fight inflation by reducing the amount of money they lend to individuals and businesses. This is because the money is being spent to support the economy, not to support the banks’ profits. Therefore, the central bank is responding to a problem when they are trying to reduce the amount of money they lend to businesses and individuals. This is because the money they are lending is not being used to fund the government, which is unable to effectively, as a crisis, the central bank is not able to respond to the need to the central bank can be used to prevent inflation from being used to fight against inflation. This is because inflation is often a variety of factors that can be used to provide a variety of different types of inflation. The central bank can also respond to a problem by a number of different ways to different ways to different ways to address inflation. In addition, the central bank can take a crisis when they are trying to prevent inflation from being a central bank. This can be a problem because of the central bank is not a central bank is not providing the central bank with the ability to respond to a variety of economic situation. This is a problem when they are fighting inflation. In addition, the central bank can be a problem when they are responsible for inflation. This is a problem because the central bank is responsible for a central bank to solve inflation. In this, the bank can provide a crisis by providing a central bank can provide a solution to help the bank to reduce inflation by a solution to help the bank and a problem, the bank can help the central bank to help the central bank to help consumers and the central bank to help the consumer and provide a solution to help the central bank to help the bank to the central bank can help the bank to solve a problem because the central bank to the a bank because they are a solution to solve it is a problem because of the central bank is a problem that they are a problem because of the central bank is a solution to the central bank is a solution to the central bank is a problem.</s>\n",
      "########\n",
      "*******\n",
      "question: What could a massive building be if it is not constructed well?\n",
      "answer: insubstantial\n",
      "choices: ['insubstantial', 'massless', 'dwarf', 'inconsequential', 'good']\n",
      "common expl list: ['Because the massive structure is so large, poor construction could render it largely inconsequential, or \"insubstantial\", as a structure.', 'A building is typically considered a sizable construction, therefore, if erected poorly, would be construed as being insubstantial.']\n"
     ]
    },
    {
     "name": "stderr",
     "output_type": "stream",
     "text": [
      "\r",
      " 20%|████████████████████████████████▍                                                                                                                                | 199/986 [2:06:47<2:36:56, 11.96s/it]"
     ]
    },
    {
     "name": "stdout",
     "output_type": "stream",
     "text": [
      "generated explanation: <pad> <extra_id_0> A massive building is a massive structure that is built to last. It is important to understand the construction of a building and how it is constructed. Buildings are meant to be large and complex, and to be able to hold a large load, such as people or cargo, can be stacked, lowered, and lowered. If the building is not constructed well, it could be prone to collapse, cracking, or other problems that could result in its insubstantial size. This could lead to its collapse, or even collapse of the structure. Buildings can also be damaged, or even collapse, if not constructed well-constructed, which could lead to collapse. Additionally, if the structure is not constructed well, the structure is not constructed well, and maintained, which could lead to a massive structure being if it is not constructed well-designed and built to be able to survive. Consequently, it is important to be constructed well-designed and constructed properly designed and constructed.</s>\n",
      "########\n",
      "*******\n",
      "question: If you rent a condominium in a glove-shaped state where are you?\n",
      "answer: michigan\n",
      "choices: ['great lake state', 'michigan', 'community', 'towels', 'complex']\n",
      "common expl list: ['A condominium is a type of housing that is often rented. Condominiums are often located in complexes, and Michigan is a state that is shaped like a mitten.']\n"
     ]
    },
    {
     "name": "stderr",
     "output_type": "stream",
     "text": [
      "\r",
      " 20%|████████████████████████████████▋                                                                                                                                | 200/986 [2:07:06<3:04:06, 14.05s/it]"
     ]
    },
    {
     "name": "stdout",
     "output_type": "stream",
     "text": [
      "generated explanation: <pad> <extra_id_0> If you rent a condominium in a glove-shaped state, where are you? Michigan is a state that has a lot of diversity, which is why it is often a great place to live. The state has a wide variety of housing options, which can be found in a variety of locations, including in downtown michigan, in suburban areas, and in the suburbs. This means that you can find a great deal of housing options for your needs in a variety of neighborhoods, which can help you find the perfect place to rent a condo in a glove-shaped state. Additionally, the state of michigan has a large city, which is also a great place to rent a condominium market for those who want to rent a condo in the city of downtown area, and the city of downtown, making it the perfect place to do sober the city. Furthermore, the state of the glove-shaped condos are not as it is a great place to rent a condo in a great place to live in a glove-shaped state, which is ideal for someone looking for a vacation in a glove-shaped state because of its residents can affordably priced, and are a great place to rent a condo in a great place to stay in the city, and a condominium in a condominium in a glove-shaped state that is a glove-shaped state. The glove-shaped state is also known for its unique and its unique because it is a great place to rent a convenient location. Michigan is a great place to rent a convenient location, making it easy for someone who wants to rent a condo rental.<extra_id_26> </s>\n",
      "########\n",
      "*******\n",
      "question: where do children play a game?\n",
      "answer: family room\n",
      "choices: ['toy store', 'bar', 'casino', 'table', 'family room']\n",
      "common expl list: ['A family room is a room in a house where family members can play games.', 'A family room is a room in many homes in which families can socialize, often through games. One such game is \"connect four.']\n"
     ]
    },
    {
     "name": "stderr",
     "output_type": "stream",
     "text": [
      "\r",
      " 20%|████████████████████████████████▋                                                                                                                                | 200/986 [2:07:29<8:21:01, 38.25s/it]"
     ]
    },
    {
     "name": "stdout",
     "output_type": "stream",
     "text": [
      "generated explanation: <pad> <extra_id_0> A family room is a great place for children to play a game. It is a safe place for them to play and interact with each other. It is also a great place for parents to sit and talk with their children and have fun while they are playing a game. Having a game in the family room can be a great way to bond and bond with each other. It can also help to have a discussion about the game and the rules. This can help the children learn new skills and develop social skills. It can also help parents and to create a great place for children to play together. It can be a great place for them to play with their friends and family. It can also help to bond with their parents to spend time with their friends and play together. This can be a great place for children to play games with each other. It can also be a great place for them to interact and learn new skills. Furthermore, the game can help the parents and help them develop a great place for children to develop a sense of community. It can be a great place for them to develop their skills and develop their confidence. It is a great place for them to develop their skills and develop a great place to learn new skills and develop as they are playing with each other. It can be a great place for them to have fun and can be a great place to play with other children to learn and grow up with their peers and learn from each other. It can be a great way to bond with each other and develop their skills and develop in a team. It can be a great way to bond with other and develop. It can be a great way to develop and learn.</s>\n",
      "########\n"
     ]
    },
    {
     "name": "stderr",
     "output_type": "stream",
     "text": [
      "\n"
     ]
    }
   ],
   "source": [
    "from tqdm import tqdm\n",
    "fse_csqa_dev_data_dict\n",
    "fse_csqa_train_data_dict\n",
    "rationale_pair_dev_data = []\n",
    "cc=0\n",
    "good_model = model\n",
    "for da in tqdm(our_data_splits['dev'], total=len(our_data_splits['dev'])):\n",
    "    print(\"*******\")\n",
    "    print(\"question: {}\".format(da['question']))\n",
    "    print(\"answer: {}\".format(da['answer']))\n",
    "    print(\"choices: {}\".format(da['choices']))\n",
    "    #print(\"our_explanation: {}\".format(da['our_explanation']))\n",
    "    id_ = da['id']\n",
    "    if id_ in fse_csqa_dev_data_dict.keys():\n",
    "        common_expl_list = fse_csqa_dev_data_dict[id_]['common_expl_list']\n",
    "    else:\n",
    "        common_expl_list = fse_csqa_train_data_dict[id_]['common_expl_list']\n",
    "    da[\"common_expl_list\"] = common_expl_list\n",
    "    print(\"common expl list: {}\".format(common_expl_list))\n",
    "    inp_ids = torch.tensor(da[\"input_ids\"], device=model.device).reshape(1, -1)\n",
    "    out = good_model.generate(\n",
    "                    inp_ids,\n",
    "                    max_length=512,\n",
    "                    pad_token_id=tokenizer.pad_token_id,\n",
    "                    eos_token_id=tokenizer.eos_token_id,\n",
    "                )\n",
    "    skip_special_tokens = False if \"infilling\" in data_args.io_format else True\n",
    "    words = tokenizer.decode(out[0].tolist(), skip_special_tokens=skip_special_tokens)\n",
    "    print(\"generated explanation: {}\".format(words))\n",
    "    da[\"generated_explanation\"] = words\n",
    "    print(\"########\")\n",
    "    rationale_pair_dev_data.append(da)\n",
    "    cc += 1\n",
    "    if cc > 200:\n",
    "        break\n",
    "    #pdb.set_trace()"
   ]
  },
  {
   "cell_type": "code",
   "execution_count": 53,
   "id": "a7a66b99",
   "metadata": {},
   "outputs": [],
   "source": [
    "import json\n",
    "rationale_pair_save_path = os.path.join(\"./results\", \"72shots_cose_t5_large_text003_150_200_rationales_generator_test_rationale_pair.json\")\n",
    "with open(rationale_pair_save_path, 'w') as f:\n",
    "    json.dump(rationale_pair_dev_data, f)"
   ]
  },
  {
   "cell_type": "code",
   "execution_count": 52,
   "id": "33daef0f",
   "metadata": {},
   "outputs": [
    {
     "data": {
      "text/plain": [
       "dict_keys(['5b8a3081c3235d62bc77e2d15f3ad454', '07f108d5321a66f460685f5c7499ecb2', 'ff1bf2ec835c9df8695ae0cfb5281646', '33ea932a876ac0361c9eefeff1d24e92', '35ad89c198d5d6311a71c993bb7b6cba', 'a2aa95861ef74bf1ecfc55db505e3982', 'af3b9a8b1962cd3bcd19e644d873e7bc', '91e0f4ab62c9d2fd440d73a3f5308d96', 'cfc7fccb8449a2a950c9d2a50991420e', 'edbb57ac2f476679ae547f75ec2bef3e', '8555dd9667d010018961a2f7d1c22704', '8bdbb8caefcc607a9ec7579aa0c87cba', '549cf641318edfc0510fa7c7dbb359e1', 'd6c002d46d9bfa466637cec4a134f332', '3b9ccdcb1c932c46a38e040d3e6c7f5b', '54231f875bb7fe4d3e4afb6eae64387c', '668dc6bce771b10cbf6336f3ec76520a', '900492bd731f8f615ed7c08155737d44', '0b25bbd9e9aa976655e1975e31331709', '1729c737ff92cf558efecde2c6cafc5e', 'cc1a547bdfdcc95e4d632453af14bc96', 'c492b8b9754a181c924c1df19998cbc7', 'd31ee38f67d1173275e120b8ad36039c', '083861fc5ebb9226fff70544f3f83d2b', 'e1744fc698cffb574e5cf4b29a81ce76', '1f492f556fae64f72ce36b6caa242dd0', '27604394ccee83e089f9ffae1883cf07', 'b3dc6d6a5e2f9d7da8eb72816c80b3f8_1', '6bc3ebcfd04965c25bde71339955746c', '69335eb9bc5b7b5df840c38a086bf8b2', 'bc05bc6b4df7a3d25a361515fe8912ad', 'f7c005244d406b9bde48dc8c22003af1', 'f48528156632b9c5b18af9ce2095509b', 'b5baf77d3855935c87f01f5fb2216667', 'db1eb157671109bbb9113b0f71a6b957', '77ddc9134bb27f9962aa2ed5ec5a5ef9', '6abd34442438509b4a00c69d6fd24764', 'b67971747e95ba425a5b81e0ba8d0b28', 'bee2a6eadfaf7a4fa0a214e341ddbe5b', '8ce13c6e08bf38d4cd4af756b661e47c', '80930e9df9ac4ad752749a54e7fc124f_1', '3ffe67fb009529d9b0c49ccd7141ee4a', '8d3dc21a53523850ec80771daaa5ff20', '3310b5b24f03d67179fababf9ae95144', '998381f854f51da2a6ccde45909e5168', 'f427f9de6bf580314531baf86de8acbc', '18844d3aa4e52b331b5382c8244cf4db', '8af63d58cc35061dec38e5448c325988', '768fb09deab56046e1565b6a2556ad5c', '5655a3002dd9a6b7dabede1dd26a5893', '07ea8ff6ee916f2bf9aceab1e19ff99a', 'd35a8a3bd560fdd651ecf314878ed30f', '449de58e919975867255218484a9fc89', '7cf54544d54818d53e7088c0749a3eca', 'd29252ddaf7c7ef491abcce342d7bb98', '4a4f6408fae400ce0beb5bea0f9913e9', 'c306ab28498b67c53decb9dde1d78bd5', 'ba9132ebf2bc3ad21e6a0631dc4e0a77', '026cb9c07a583ec933f2c4c67ae73836', '2a21820a135e1a49883525c055c74a0b', '7c45033e9fd9f1a759923971b14390ed', 'dc964e4f6df6b70815e81e466d0ff717', '2a32b1e541b1daae04690d0d3a4b3310', '6c515b068b4d3aa88a5382224d9b866d', '6c84e79d0595efd99596faa07c4961d0', '42c46e28baf0fc617a07419286178c0a', 'c39131d979c9205c11d0e109e18188e4', 'c592258c88295756833e9796e881057b', '3526550b02d9594abd4fc43553010fc6', '637c710ec9582fd9b9e8eaa3f3fe83bb', '01f01cc3ad152773ef42b30e926912bf', 'c54ddc0f9d170ba65d9f4f2e0bb41d1c', 'ad37795fd9e3a65553683ff305b5113d', '7a3d0c94438a5c8a09364aaebb848a2c', '7c05e8d5a057085455eea243fbd1cd90', '4364b4b342fb7b44434bd6694bf8fd51', '99098375c7b651d524eebac72e358238', '1ddd239a2a6438a891cb411b82e7f450', 'f4bb8ecacb9ce89e040f5f76bc79afb3', '6b9221c1af583ffb43580857d6fde38a', 'cf8e30dd6956d03e3f0f0397112a8696', '456f2fb41cac8c028dcfe2f48637e473', 'c908d7c4633c5e6add9463bdd47cb27e', '2de08c7a518b7c226e19bdc8fc10ef1d', 'cd639cf3ff82f825ace7dd2b087562bd', 'e3c6d147f8a727d314046e70e9579ba0', 'b9b82aa4c236cd342ff95455b8516a42', 'e4976ee741cf4b28b8a42780ffb15774', '8d275acea05fd16295c659c504576a9b', '3bf06235a537adc9d85431846595b800', 'a7d51b753c2113d8b2dbd0ebb5375855_1', 'bcc5dd6292a64d8fa17cd07c360b335d', '46ba5d2b8cfc6708e5e2618568d8730e', '9f9ca9bb06d6afc31b19c365fb29a1c9', '3d9c3253e24fb108cea9083e8a853cf2', '3b8e1d236f5169b6c833a994d6d9c39a', '6ca8439d062de4d43d7d471c508b78db', 'ec86900559a0faf2aef066e511a4cfa6', '57e96118fee6e2bbac5f59790fc833c0', '520b0eea9148e3cb4d45aa69a55491eb', '6be05d227f4f6fe727218fc8be9df340', '113aaea2b1a27a976547f54e531d99bb', '2f0931adc3d0d422d9ab6264395e89d8', 'cce1b59f7c4f540a84a1a7d6d88548c4', '870b07a1c5af2e956673a9680da99852', '34005ef0caafefc8585c9fcd50e94557', '22458fdcead20e2def0df0d92d5806f6', 'ec224c1dbfb569cce7ec317fe987ae68', 'ede4d302fc2ffe07703158f83c1493f2', 'ecd32cc0c17d4738a27bba3399f04591', '5c171b9837af49211891ce40e4a10204', '801431167b8bff06b9870abe9721536b', 'b47d912136e3304cb5e5890b6b879551', 'd0bd5b5ee7319d1c4727e38d429dd54e', '78276a4eab6e8d6b9ae3749211816977', 'ec79ef747bb89281923edb89ba26786d', '0e80f2afe5c4f652e8720b52d7c06c87', '39572e0ba1db51fa74f7fc2d90c5ec7f', '56417ee33b44f0d916bedfb6fd99b0ec', 'f996430ce208606452868fd2e739d409', '858a5eaa587fe0e266722228671a6bd1', '273d0134e8ce53d4ebcf41ca7fde02af', '49e466b1782aa4837dae53ff891fcdee', '08d908ed723f813574992195d61386a2', '7192c9f5c513aac9042bad595ff5af9f', 'aa4c5d2d348796b8d7fa324f27f4c34f', '0e52659484f2f6d763cf0d38d4c5999d', '4423c006f2a43f222d4c4e97360c25d3', 'f4a75bf3f115b826a8097edfd0ff2781', '07b51b231a9d6a143d8a73e69121e1b1', 'c2a8c6814ed3e207771cfc23b3b42cf1', 'f13efb91090dd28fd2b3c1f4dde680fd', '985a4f1a3f31f1ba6654f4fc48f504df', '9e5ce2b7d9eb404cdf8c7317dd0b5a59', 'a400b9fd1e319f901471c4b42d401c52', '042898e0c71adac5d123aaa6221c9754', '29c194d032a266a7160bff6f546a4d9d', 'db0cfd52ca6b2bbfcf26d1a898fd929b', '2a0e82bbf1471290c93c8f2a11af197f', '49b4c9e1bd7946a819e173ce8fa4c7c9', '6cb895ce89995f6be422f7c4167c7638', 'df1bf6f3f87975aa0c1b6d6153d9ecef', '1bf4c6b5bd870b1a079106e1e97e5d09', '8ae24d3ff199077a59e0d970feb665b7', 'bb503ece4eac41dfe608a1dcb654e6bf', '6e77de03bee86d6c20780e14f00944d0', '5799089c131e26473697afc54d5f6964', '895aa97bb84d874d71b2aed572cebfdd', '23d97480fe45bace231503f8fc367a5b', 'a2977fd575faba162d04a490dabd1b9b', '5a1c8a9dbbb60e523cc1ba14a370729c', '5496c7293f653120e5a5213db2d7b103', '7044d82a456d0fa6f0210abb03cbf2c4', '15b090801256085ad465e74af47cbee9', 'aa984e2b487d08889bc0c73bab5ac945', '4302e727e47f464511d4d04f22bed0d2', 'b6b66d4519a84b8331ea55f84767e9df', '0e5c7c0cec5b693e52f74f5f879d84fb', 'e408a5a031caec33782cb3b3a005eecc', '96cb628fb7ed2f53245598f707ed2b80', '2067720531fc03c017af941cec2f6f40', '5b8d76889510384b38b72945e8d28f53', 'cf33e0f5891ce53a716432be06a46ee1', '24eebfa678112100803da16dde148b2d', '0c2fa15a02d0b6ca6707e98fac7589e4', 'c2c2a387fd9a6a26cff636008de21f71', 'f20d40bc4af588223e880e0bb58b27b8', 'b42ef8be1748c19fa5938de5396f8fad', '57b83653d82b27d32bc39228130f3516', '2192c5c2145a6e03755ad89a02e64055', '175e7dcdded13d5adafaebf2264c3abd', '8d4b0312f02be445e09a9462873d02bb', 'cfa081b5ba90dae4d7ddb5b7ad9d369a', 'd6bb990e8c409d2b3af37a2da198e01f', '20a3bb788cf408d9a3e25e610fe60905', 'af11faa29097b71141fe192ad019d1dd', '6915dfdefe3b1cd5fd8886c8bb84929a', '43ba9669564217f2f909f33acbedaf95', 'fce1c5d069758aea57a787fc98dcf7a9', '32758ab86d888be680845b0dfe7de35e', '7ea57ee4580042b0a6a40479c8ace3e4', '21fb76bd8349628b441c76f47c33e77b', '3fe45ab3bd4a844ea290050fc0ece8c1_1', '3dee8fc7f0a3fbf4de111b6686fca157', 'ceafca2445b1b974d085a8cce38e8e44', '42520bf3f93f8de23670044e019001a3', '5ea6b94d1a911365b06cf776919413e8', '2d3c9d3dff1a7a8253180cb3de1ceeea', 'a4892551cb4beb279653ae52d0de4c89', 'e050bce7048da1b3743a54153e91694e', 'eb50f536830ba18ab987c7ff652e2aba', '6386bcf080633bc3eeb3317a5435b7b7', '839f3c37622c1ed5eebc9cd0b9d658e8', '009a7aabffe0583fc2df46656b29c326', 'c82ed0c2a2e115452b4d596c5faafbcf', '01abce8c4964371d85a5be2019f75827', '7d937233b4a9043da0b976dbd42d141b', 'c611875b43b67b91030b889b267bbcb3', '7bc1198664b376f79d584725ad7f874b', '5e260e1d96187716888cbd968010bb65', 'fde48d43e27cefed6ed9c52514e0bb6d', '43ab0ff711e60d51f943bbd2cdd6515a', '1a8b3c2a46efabcbd506f9cf70886ed0', '48a315cfa3ce11f7a9d615bc854331d5', '095767956c500ca1af7cf7671556de5b', 'de54d03e69d9765872f95ff06ed21499', 'cbf3dd48b4d591fc872a53cd4b9dd3af', '35872be88df5f6c4a6600020266a5458', 'a90f9197a13c64089c9ba95bcba275ad', 'bd4e80fa6642a76c064d0bc924411fb0', '008b7ba0c039f6d0d542c6c90aae173c', 'ace8fa2943ba8414aebdb74b48906fae', '1caf93d6a22dc8190e19c14bbe1fafda', '7c8bc9c0e56389eef033bca40c88c151', '6195ed74cf445cb5d991e1076a080dde', '8086f022f2d4a4888ae1f8c7e4541ab9', '1e5a138b4c7d456c37abf4990b402bbe', '3f4b48708d08f8bf7bec796531023f9c', '60e92cd2f35c345872d1a898e1718d55', '9889e5389917d812c09d6e5d382d333d', '46351b3a6beb694c5f623583a3b1473d', '7b7941b883328ad39048d4dfb1eb5623', '7d7f7d7a8ae3b20ca9fc0da6efe467b4', 'c961578f4c5768b67b843e5d2ce18452', '514310637fb43a252bfadc8cbf79b277', '5279a2ea333ba8a5bf3a7637a7279da1', '5622e49306bb82ec1cec817ad0506c60', 'fcd39cfa321728fea069a6ae4285b06f', '26bd85f05d29863ed777a4f1a4b8fa63', '31487ab8b1e8f12e252590cc58bd19c2', 'ffd89796a9b09bef56c5803f188764c6', 'ba3a2b9ff289c106051163f840a6f5ba', 'b1f36d1c8ab7e5a28783cb38e8709c27', '5c2bc4335c8860342ec2d568ceb6ac6b', '36c1f50eec01c287b8ef6ffe69fe0528', '515834727e23e30ab7c8fe5ba7e9a765', 'a15d564d0be6996251b5d523ac62db2a', '8f01273422a370a8dbda6bf473a395a0', 'cabefb7063a728e77abd44d97397a2a4', '1bc986f8aea88d6927d8a45367855a94', '484f6e4fb8e6431b010c299490b72e3c', 'a7e3de0719fe30e7048f67426e29fdd1', 'a617eb4d27edea93e7fd630ce00c8219', '2c0030cc14a27be2401dcfdaa501f0fc', 'cf02cca40a47c2deefd8b2e5a5ff2f70', 'ea0e7771afd86a59fd9f7764b77e3fa4', 'c1aebf059c5102f4e773f7fe4afe13f0', '95a85df48902d23eb3fda25a99fca1a0', 'a4b44a986e7f9045432e20ea75611df4', '05490e6c191fbc3c2fe0033ed0bd8aa0'])"
      ]
     },
     "execution_count": 52,
     "metadata": {},
     "output_type": "execute_result"
    }
   ],
   "source": [
    "fse_csqa_dev_data_dict.keys()"
   ]
  },
  {
   "cell_type": "code",
   "execution_count": null,
   "id": "bd852d7d",
   "metadata": {},
   "outputs": [],
   "source": []
  },
  {
   "cell_type": "code",
   "execution_count": null,
   "id": "dd4e3a42",
   "metadata": {},
   "outputs": [],
   "source": []
  },
  {
   "cell_type": "code",
   "execution_count": null,
   "id": "422aecc8",
   "metadata": {},
   "outputs": [],
   "source": []
  }
 ],
 "metadata": {
  "kernelspec": {
   "display_name": "Python 3 (ipykernel)",
   "language": "python",
   "name": "python3"
  },
  "language_info": {
   "codemirror_mode": {
    "name": "ipython",
    "version": 3
   },
   "file_extension": ".py",
   "mimetype": "text/x-python",
   "name": "python",
   "nbconvert_exporter": "python",
   "pygments_lexer": "ipython3",
   "version": "3.7.0"
  }
 },
 "nbformat": 4,
 "nbformat_minor": 5
}
