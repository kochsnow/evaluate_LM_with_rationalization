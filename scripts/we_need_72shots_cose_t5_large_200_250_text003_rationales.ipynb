{
 "cells": [
  {
   "cell_type": "code",
   "execution_count": 1,
   "id": "f5286ba7",
   "metadata": {},
   "outputs": [
    {
     "name": "stderr",
     "output_type": "stream",
     "text": [
      "\u001b[34m\u001b[1mwandb\u001b[0m: Currently logged in as: \u001b[33mdengdenghuang\u001b[0m (\u001b[33mcuhk_lavilab\u001b[0m). Use \u001b[1m`wandb login --relogin`\u001b[0m to force relogin\n"
     ]
    },
    {
     "name": "stdout",
     "output_type": "stream",
     "text": [
      "env: WANDB_PROJECT=evaluate_LM_with_rationalization\n"
     ]
    }
   ],
   "source": [
    "import wandb\n",
    "wandb.login()\n",
    "\n",
    "%env WANDB_PROJECT=evaluate_LM_with_rationalization"
   ]
  },
  {
   "cell_type": "code",
   "execution_count": 2,
   "id": "30300ea6",
   "metadata": {},
   "outputs": [],
   "source": [
    "# import gpt3\n",
    "import logging\n",
    "import math\n",
    "import os\n",
    "\n",
    "from typing import List, Dict, Any, NewType\n",
    "\n",
    "InputDataClass = NewType(\"InputDataClass\", Any)\n",
    "os.environ[\"CUDA_VISIBLE_DEVICES\"] = \"3\"\n",
    "from transformers import (\n",
    "    T5Config,\n",
    "    T5ForConditionalGeneration,\n",
    "    T5Tokenizer,\n",
    "    HfArgumentParser,\n",
    "    TrainingArguments,\n",
    "    set_seed,\n",
    "    EarlyStoppingCallback\n",
    ")\n",
    "from transformers.trainer_utils import EvaluationStrategy\n",
    "from transformers.integrations import TensorBoardCallback\n",
    "import transformers\n",
    "from transformers import Trainer\n",
    "\n",
    "#from feature_conversion_methods import format_instance\n",
    "\n",
    "from custom_args import (\n",
    "    DataTrainingArguments,\n",
    "    ModelArguments\n",
    ")\n",
    "from metrics import evaluate\n",
    "import torch\n",
    "import datasets\n",
    "import git\n",
    "import time\n",
    "from datetime import datetime\n",
    "import sys\n",
    "from tqdm import trange\n",
    "import random \n",
    "import pandas as pd \n",
    "import jsonlines\n",
    "from copy import deepcopy \n",
    "\n",
    "logger = logging.getLogger(__name__)\n",
    "transformers.logging.set_verbosity_info()\n",
    "import re\n",
    "def set_global_logging_level(level=logging.ERROR, prefices=[\"\"]):\n",
    "    \"\"\"\n",
    "    Override logging levels of different modules based on their name as a prefix.\n",
    "    It needs to be invoked after the modules have been loaded so that their loggers have been initialized.\n",
    "\n",
    "    Args:\n",
    "        - level: desired level. e.g. logging.INFO. Optional. Default is logging.ERROR\n",
    "        - prefices: list of one or more str prefices to match (e.g. [\"transformers\", \"torch\"]). Optional.\n",
    "          Default is `[\"\"]` to match all active loggers.\n",
    "          The match is a case-sensitive `module_name.startswith(prefix)`\n",
    "    \"\"\"\n",
    "    prefix_re = re.compile(fr'^(?:{ \"|\".join(prefices) })')\n",
    "    for name in logging.root.manager.loggerDict:\n",
    "        if re.match(prefix_re, name):\n",
    "            logging.getLogger(name).setLevel(level)\n",
    "set_global_logging_level(logging.ERROR, [\"datasets\"])\n",
    "\n",
    "\n",
    "CONFIG_MAPPING = {\"t5\": T5Config}\n",
    "MODEL_MAPPING = {\"t5\": T5ForConditionalGeneration}\n",
    "TOKENIZER_MAPPING = {\"t5\": T5Tokenizer}\n",
    "\n",
    "\n",
    "def set_other_seeds(seed):\n",
    "    torch.backends.cudnn.benchmark = False\n",
    "    #torch.backends.cudnn.deterministic = True\n",
    "    os.environ['PYTHONHASHSEED'] = str(seed)\n",
    "\n",
    "# inspired by DefaultDataCollator from:\n",
    "# https://github.com/huggingface/transformers/blob/master/src/transformers/data/data_collator.py\n",
    "# modified to perform batch-level padding.\n",
    "class SequenceCollator:\n",
    "    def __init__(self, model, pad_token):\n",
    "        self.model = model\n",
    "        self.pad_token_mapping = {\n",
    "            \"labels\": -100,\n",
    "            \"attention_mask\": 0,\n",
    "            \"decoder_attention_mask\": 0,\n",
    "            \"input_ids\": pad_token,\n",
    "        }\n",
    "\n",
    "        self.columns = [\n",
    "            \"input_ids\",\n",
    "            \"attention_mask\",\n",
    "            \"labels\",\n",
    "            \"decoder_attention_mask\",\n",
    "        ]\n",
    "\n",
    "    def __call__(self, examples: List[Dict[str, InputDataClass]]) -> Dict[str, torch.Tensor]:\n",
    "        # re-format inputs for training\n",
    "        batch = {}\n",
    "        for key in examples[0].keys():\n",
    "            if key in self.columns:\n",
    "                tmp_list = []\n",
    "                for item in examples:\n",
    "                    tmp_list.append(item[key])\n",
    "\n",
    "                # pad lists to max length\n",
    "                if isinstance(tmp_list[0], list):\n",
    "                    max_length = max(map(len, tmp_list))\n",
    "                    tmp_list = [\n",
    "                        el + [self.pad_token_mapping[key]] * (max_length - len(el))\n",
    "                        for el in tmp_list\n",
    "                    ]\n",
    "\n",
    "                batch[key] = torch.tensor(tmp_list, dtype=torch.long)\n",
    "        return batch\n"
   ]
  },
  {
   "cell_type": "code",
   "execution_count": 3,
   "id": "2fa5a75a",
   "metadata": {},
   "outputs": [],
   "source": [
    "from collections import defaultdict\n",
    "import random\n",
    "\"\"\"\n",
    "Example-to-Feature conversion methods\n",
    "Modified from\n",
    "https://github.com/salesforce/cos-e/blob/master/code/generation/train_commonsenseqa_v1.0.py and \"\"_v1.11.py (identical)\n",
    "as well as Tensorflow code for WTF?: \n",
    "https://github.com/google-research/google-research/blob/master/wt5/wt5/preprocessors.py\n",
    "\"\"\"\n",
    "# This code is based on https://github.com/allenai/label_rationale_association/blob/main/feature_conversion_methods.py\n",
    "\n",
    "unified_qa_esnli_label_mapping = {0: 'yes', 1: 'maybe', 2: 'no'}\n",
    "unified_qa_esnli_label_mapping_upper = {0: 'Yes', 1: 'Maybe', 2: 'No'} \n",
    "wt5_esnli_label_mapping = {0: 'entailment', 1: 'neutral', 2: 'contradiction'} \n",
    "unified_qa_sbic_label_mapping = {\"offensive\": 'Yes', \"not offensive\": 'No'}\n",
    "\n",
    "def format_instance(\n",
    "        example,\n",
    "        tokenizer,\n",
    "        explanation_sep,\n",
    "        max_seq_length=None,\n",
    "        datasource=None,\n",
    "        io_format=None, \n",
    "):\n",
    "    assert datasource in {\"cos_e\", \"esnli\", \"sbic\", \"sensemaking\", \"ecqa\"}\n",
    "\n",
    "    if datasource in [\"cos_e\", \"ecqa\"]:\n",
    "        input_string, answer_string = cqa_formatting(example, io_format, explanation_sep, datasource)\n",
    "    elif datasource == \"esnli\":\n",
    "        input_string, answer_string = esnli_formatting(example, io_format, explanation_sep)\n",
    "    elif datasource == 'sbic':\n",
    "        input_string, answer_string = sbic_formatting(example, io_format, explanation_sep)\n",
    "    elif datasource == 'sensemaking':\n",
    "        input_string, answer_string = sensemaking_formatting(example, io_format, explanation_sep)\n",
    "    else:\n",
    "        raise ValueError(\"Unknown task. Currently supported: esnli, cos_e, sbic, sensemaking, ecqa.\")\n",
    "    \n",
    "    if 'unified' in io_format and 'unifew' not in io_format:\n",
    "        input_string += '</s>'\n",
    "\n",
    "    input_string = ' '.join(input_string.split())\n",
    "    answer_string = ' '.join(answer_string.split())\n",
    "\n",
    "    input_string = ' '.join(input_string.split())\n",
    "    answer_string = ' '.join(answer_string.split())\n",
    "\n",
    "    encodings = tokenizer.encode_plus(\n",
    "        input_string,\n",
    "        max_length=max_seq_length,\n",
    "        pad_to_max_length=False,\n",
    "        return_token_type_ids=False,\n",
    "        return_attention_mask=True,\n",
    "    )\n",
    "\n",
    "\n",
    "    # note even with \"lm_labels.shift_right()\", the decoder attention mask length is still correct since we remove the last token\n",
    "    dec = tokenizer.encode_plus(\n",
    "        answer_string,\n",
    "        max_length=max_seq_length,\n",
    "        pad_to_max_length=False,\n",
    "        return_token_type_ids=False,\n",
    "        return_attention_mask=True,\n",
    "    )\n",
    "\n",
    "    encodings[\"labels\"] = dec[\"input_ids\"]\n",
    "    encodings[\"decoder_attention_mask\"] = dec[\"attention_mask\"]\n",
    "    encodings[\"question_encoding\"] = encodings[\"input_ids\"]\n",
    "\n",
    "    #return encodings\n",
    "    return {**example, **encodings}\n",
    "\n",
    "#这里很简单 定义好输入输出string就可以的\n",
    "def cqa_formatting(item, io_format, explanation_sep, datasource):\n",
    "    question = item[\"question\"]\n",
    "    answer = item[\"answer\"]\n",
    "    abstr_expl = item[\"abstractive_explanation\"].lower() if datasource == 'cos_e' else item[\"explanation\"].lower()\n",
    "\n",
    "\n",
    "    if io_format == 't5_fewshot_infilling_with_choices':\n",
    "        input_string = f\"explain {datasource} question: {question} choice: \" + \" choice: \".join(item[\"choices\"]) + f\" <extra_id_0> {explanation_sep} <extra_id_1>\"\n",
    "        answer_string = f\"<extra_id_0> {answer} <extra_id_1> {abstr_expl} <extra_id_2>\"\n",
    "    elif io_format == 't5_fewshot_infilling_more_natural':\n",
    "        input_string = f\"explain {datasource} question: {question} choice: \" + \" choice: \".join(item[\"choices\"]) + f\" The answer is <extra_id_0> {explanation_sep} <extra_id_1>\"\n",
    "        answer_string = f\"<extra_id_0> {answer} <extra_id_1> {abstr_expl} <extra_id_2>\"\n",
    "    elif io_format == \"squad\": \n",
    "        input_string = f\"explain {datasource} question: {question} context: \" + ', '.join(item['choices']) # explain cos_e question: When getting in shape you need to have this in between workouts? context: give up, period of recovery, jogging\n",
    "        answer_string = f\"{answer} {explanation_sep} {abstr_expl}\" # period of recovery because without a period of recovery you will not get any gains.\n",
    "    elif io_format == \"record\": \n",
    "        # might not work because cos_e doesn't have a passage \n",
    "        input_string = f\"explain {datasource} query: {question} entities: \" + ', '.join(item['choices']) # explain cos_e query: When getting in shape you need to have this in between workouts? entities: give up, period of recovery, jogging\n",
    "        answer_string = f\"{answer} {explanation_sep} {abstr_expl}\" # period of recovery because without a period of recovery you will not get any gains.\n",
    "    elif io_format == 'unifiedqa_matching':\n",
    "        choice_ids = ['(A)', '(B)', '(C)', '(D)', '(E)']\n",
    "        input_string = f'explain {question.lower()} \\\\n'\n",
    "        for choice_id, choice in zip(choice_ids, item[\"choices\"]):\n",
    "            input_string += f' {choice_id} {choice.lower()}'\n",
    "        answer_string = f\"{answer.lower()} {explanation_sep} {abstr_expl.lower()}\"\n",
    "        answer_string = answer_string.lower()\n",
    "    elif io_format == 't5_fewshot_infilling_without_choices_use_refined_expl':\n",
    "        input_string = f\"explain {datasource} question: {question} choice: \" + \" choice: \".join(item[\"choices\"]) + f\" <extra_id_0> {explanation_sep} <extra_id_1>\"\n",
    "        input_string = f\"explain {datasource} question: {question} answer: {answer}\" + f\" {explanation_sep} <extra_id_0>\"\n",
    "        answer_string = f\"<extra_id_0> {item['our_explanation']} <extra_id_1>\"\n",
    "\n",
    "    else:\n",
    "        raise ValueError(\"The IO format is not supported. Choose `standard` or `masked_cause_generate`.\")\n",
    "    \n",
    "    return input_string, answer_string\n",
    "\n",
    "\n",
    "def esnli_formatting(item, io_format, explanation_sep):\n",
    "\n",
    "    premise = item[\"premise\"]\n",
    "    hypothesis = item[\"hypothesis\"]\n",
    "    answer = unified_qa_esnli_label_mapping[item[\"label\"]] if 'unified' in io_format else wt5_esnli_label_mapping[item[\"label\"]]\n",
    "    abstr_expl = item[\"explanation_1\"].lower() \n",
    "    # Dev/test instances have more than one explanation annotated; merge them into one sequence separated by [SEP] \n",
    "    for k in [2,3]:\n",
    "        if f\"explanation_{k}\" in item and item[f'explanation_{k}']!='': \n",
    "            abstr_expl += f\" [SEP] {item[f'explanation_{k}'].lower()}\"\n",
    "\n",
    "    if io_format == 'standard':\n",
    "        input_string = f\"explain nli hypothesis: {hypothesis} premise: {premise}\"\n",
    "        answer_string = f\"{answer} {explanation_sep} {abstr_expl}\"\n",
    "    elif io_format == 't5_fewshot_infilling':\n",
    "        input_string = f\"explain nli hypothesis: {hypothesis} premise: {premise} <extra_id_0> {explanation_sep} <extra_id_1>\"\n",
    "        answer_string = f\"<extra_id_0> {answer} <extra_id_1> {abstr_expl} <extra_id_2>\"\n",
    "    elif io_format == 't5_fewshot_infilling_more_natural':\n",
    "        input_string = f\"explain nli hypothesis: {hypothesis} premise: {premise} This is <extra_id_0> {explanation_sep} <extra_id_1>\"\n",
    "        answer_string = f\"<extra_id_0> {answer} <extra_id_1> {abstr_expl} <extra_id_2>\"\n",
    "    elif io_format == \"squad\": \n",
    "        input_string = f\"explain nli question: Is this entailment? context: {hypothesis} {premise}\"  \n",
    "        answer_ynm = unified_qa_esnli_label_mapping[item[\"label\"]]\n",
    "        answer_string = f\"{answer_ynm} {explanation_sep} {abstr_expl}\" \n",
    "    elif io_format == \"squad_endswith_what\":\n",
    "        input_string = f\"explain nli question: What is this? context: {hypothesis} {premise}\"  \n",
    "        answer_string = f\"{answer} {explanation_sep} {abstr_expl}\"  \n",
    "    elif io_format == \"squad_nli_mix\": \n",
    "        input_string = f\"explain nli question: Is this entailment? context: hypothesis: {hypothesis} premise: {premise}\"  \n",
    "        answer_ynm = unified_qa_esnli_label_mapping[item[\"label\"]]\n",
    "        answer_string = f\"{answer_ynm} {explanation_sep} {abstr_expl}\"  \n",
    "    elif io_format == \"squad_nli_mix_endswith_what\":  \n",
    "        input_string = f\"explain nli question: What is this? context: hypothesis: {hypothesis} premise: {premise}\"  \n",
    "        answer_string = f\"{answer} {explanation_sep} {abstr_expl}\"   \n",
    "    elif io_format == 'unifiedqa_unifew':\n",
    "        hypothesis = hypothesis.lower().rstrip('.')\n",
    "        unified_qa_esnli_label_mapping_upper = {0: 'Yes', 1: 'Maybe', 2: 'No'}\n",
    "        answer = unified_qa_esnli_label_mapping_upper[item[\"label\"]]\n",
    "        input_string = f'explain {premise} Is {hypothesis}? \\\\n (A) Yes (B) Maybe (C) No'\n",
    "        answer_string = f\"{answer} {explanation_sep} {abstr_expl}\"  \n",
    "    elif io_format == 'unifiedqa_unifew_nli_mix':\n",
    "        premise = premise.lower().rstrip('.')\n",
    "        unified_qa_esnli_label_mapping_upper = {0: 'Yes', 1: 'Maybe', 2: 'No'}\n",
    "        input_string = f'explain hypothesis: {hypothesis} Is premise: {premise}? \\\\n (A) Yes (B) Maybe (C) No'\n",
    "        answer_string = f\"{answer} {explanation_sep} {abstr_expl}\"  \n",
    "    elif io_format == 'unifiedqa_ynm': \n",
    "        input_string = f'explain is this entailment? \\\\n {hypothesis.lower()} {premise.lower()}'  \n",
    "        answer = unified_qa_esnli_label_mapping[item[\"label\"]]\n",
    "        answer_string = f\"{answer} {explanation_sep} {abstr_expl.lower()}\"  \n",
    "    elif io_format == 'unifiedqa_snli_mix_ynm': \n",
    "        input_string = f'explain is this entailment? \\\\n hypothesis: {hypothesis.lower()} premise: {premise.lower()}' \n",
    "        answer = unified_qa_esnli_label_mapping[item[\"label\"]]\n",
    "        answer_string = f\"{answer} {explanation_sep} {abstr_expl.lower()}\"  \n",
    "    elif io_format == 'unifiedqa_snli_mix_ynm_with_choices': \n",
    "        input_string = f'explain is this entailment? \\\\n (A) yes (B) maybe (C) no \\\\n hypothesis: {hypothesis.lower()} premise: {premise.lower()}'  \n",
    "        answer = unified_qa_esnli_label_mapping[item[\"label\"]]\n",
    "        answer_string = f\"{answer} {explanation_sep} {abstr_expl.lower()}\"  \n",
    "    elif io_format == 'unifiedqa_what_v2': \n",
    "        input_string = f'explain what is this? \\\\n {hypothesis.lower()} {premise.lower()}'  \n",
    "        answer = wt5_esnli_label_mapping[item[\"label\"]]\n",
    "        answer_string = f\"{answer} {explanation_sep} {abstr_expl.lower()}\"  \n",
    "    elif io_format == 'unifiedqa_snli_mix_what_v2': \n",
    "        input_string = f'explain what is this? \\\\n hypothesis: {hypothesis.lower()} premise: {premise.lower()}'  \n",
    "        answer = wt5_esnli_label_mapping[item[\"label\"]]\n",
    "        answer_string = f\"{answer} {explanation_sep} {abstr_expl.lower()}\"  \n",
    "    elif io_format == 'unifiedqa_snli_mix_what_with_choices_v2': \n",
    "        input_string = f'explain what is this? \\\\n (A) entailment (B) neutral (C) contradiction \\\\n hypothesis: {hypothesis.lower()} premise: {premise.lower()}'  \n",
    "        answer = wt5_esnli_label_mapping[item[\"label\"]]\n",
    "        answer_string = f\"{answer} {explanation_sep} {abstr_expl.lower()}\"     \n",
    "    else:\n",
    "        raise ValueError(\"The IO format is not supported.\")\n",
    "\n",
    "    return input_string, answer_string\n",
    "\n",
    "\n",
    "def sbic_formatting(item, io_format, explanation_sep):\n",
    "    # We pre-processed the SBIC dataset such that we join multiple implied statements with the [SEP] token for dev/test instances \n",
    "    # Each annotation in the training split is a separate instance\n",
    "    post = item['post']\n",
    "    answer = unified_qa_sbic_label_mapping[item[\"offensiveYN\"]] if 'unified' in io_format else item[\"offensiveYN\"].replace(\"not offensive\", \"not_offensive\")\n",
    "    abstr_expl = item[\"targetStereotype\"]\n",
    "    \n",
    "\n",
    "    if io_format == 'cola':\n",
    "        input_string = f\"explain sbic sentence: {post}\"\n",
    "        answer_string = f\"{answer} {explanation_sep} {abstr_expl}\"  \n",
    "    elif io_format == 't5_fewshot_infilling':\n",
    "        input_string = f\"explain sbic sentence: {post} <extra_id_0> {explanation_sep} <extra_id_1>\"\n",
    "        answer_string = f\"<extra_id_0> {answer} <extra_id_1> {abstr_expl} <extra_id_2>\"\n",
    "    elif io_format == 't5_fewshot_infilling_bool':\n",
    "        answer_bool = 'True' if item[\"offensiveYN\"] == 'offensive' else 'False'\n",
    "        input_string = f\"explain sbic sentence: {post} It is <extra_id_0> that this is offensive {explanation_sep} <extra_id_1>\"\n",
    "        answer_string = f\"<extra_id_0> {answer} <extra_id_1> {abstr_expl} <extra_id_2>\"\n",
    "    elif io_format == 't5_fewshot_infilling_more_natural':\n",
    "        input_string = f\"explain sbic sentence: {post} This is <extra_id_0> {explanation_sep} <extra_id_1>\"\n",
    "        answer_string = f\"<extra_id_0> {answer} <extra_id_1> {abstr_expl} <extra_id_2>\"\n",
    "    elif io_format == 'squad_yn': \n",
    "        input_string = f\"explain sbic question: Is this offensive? context: {post}\" # explain sbic question: Is this offensive? context: It's only happened to you like two times.\n",
    "        answer_yn = unified_qa_sbic_label_mapping[item[\"offensiveYN\"]] \n",
    "        answer_string = f\"{answer_yn} {explanation_sep} {abstr_expl}\" #  No because this post does not imply anything offensive\n",
    "    elif io_format == 'squad_yn_with_tags': \n",
    "        input_string = f\"explain sbic question: Is this offensive? context: post: {post}\" # explain sbic question: Is this offensive? context: It's only happened to you like two times.\n",
    "        answer_yn = unified_qa_sbic_label_mapping[item[\"offensiveYN\"]] \n",
    "        answer_string = f\"{answer_yn} {explanation_sep} {abstr_expl}\" #  No because this post does not imply anything offensive\n",
    "    elif io_format == 'squad_what': \n",
    "        input_string = f\"explain sbic question: What is this? context: {post}\" # explain sbic question: This is what? context: It's only happened to you like two times.\n",
    "        answer = item[\"offensiveYN\"].replace(\"not offensive\", \"not_offensive\")        \n",
    "        answer_string = f\"{answer} {explanation_sep} {abstr_expl}\" # not_offensive because this post does not imply anything offensive    \n",
    "    elif io_format == 'squad_what_with_tags': \n",
    "        input_string = f\"explain sbic question: What is this? context: post: {post}\" # explain sbic question: This is what? context: It's only happened to you like two times.\n",
    "        answer = item[\"offensiveYN\"].replace(\"not offensive\", \"not_offensive\")        \n",
    "        answer_string = f\"{answer} {explanation_sep} {abstr_expl}\" # not_offensive because this post does not imply anything offensive    \n",
    "    elif io_format == 'unified_qa_yn':\n",
    "        input_string = f'explain is this offensive? \\\\n {post.lower()}'\n",
    "        answer_string = f\"{answer} {explanation_sep} {abstr_expl.lower()}\" \n",
    "    elif io_format == 'unified_qa_yn_with_tags':\n",
    "        input_string = f'explain is this offensive? \\\\n post: {post.lower()}'\n",
    "        answer_string = f\"{answer} {explanation_sep} {abstr_expl.lower()}\"  \n",
    "    elif io_format == 'unified_qa_yn_with_choices':\n",
    "        input_string = f'explain is this offensive? \\\\n (A) yes (B) no \\\\n {post.lower()}'\n",
    "        answer_string = f\"{answer} {explanation_sep} {abstr_expl.lower()}\"\n",
    "    elif io_format == 'unified_qa_yn_with_choices_and_tags':\n",
    "        input_string = f'explain is this offensive? \\\\n (A) yes (B) no \\\\n post: {post.lower()}'\n",
    "        answer_string = f\"{answer} {explanation_sep} {abstr_expl.lower()}\"  \n",
    "    elif io_format == 'unified_qa_what':\n",
    "        input_string = f'explain what is this? \\\\n {post.lower()}'\n",
    "        answer = item[\"offensiveYN\"].replace(\"not offensive\", \"not_offensive\")\n",
    "        answer_string = f\"{answer} {explanation_sep} {abstr_expl.lower()}\"  \n",
    "    elif io_format == 'unified_qa_what_with_tags':\n",
    "        input_string = f'explain what is this? \\\\n post: {post.lower()}'\n",
    "        answer = item[\"offensiveYN\"].replace(\"not offensive\", \"not_offensive\")\n",
    "        answer_string = f\"{answer} {explanation_sep} {abstr_expl.lower()}\"  \n",
    "    elif io_format == 'unified_qa_what_with_choices':\n",
    "        input_string = f'explain what is this? \\\\n (A) offensive (B) not_offensive \\\\n {post.lower()}'\n",
    "        answer = item[\"offensiveYN\"].replace(\"not offensive\", \"not_offensive\")\n",
    "        answer_string = f\"{answer} {explanation_sep} {abstr_expl.lower()}\"\n",
    "    elif io_format == 'unified_qa_what_with_choices_and_tags':\n",
    "        input_string = f'explain what is this? \\\\n (A) offensive (B) not_offensive \\\\n post: {post.lower()}'\n",
    "        answer = item[\"offensiveYN\"].replace(\"not offensive\", \"not_offensive\")\n",
    "        answer_string = f\"{answer} {explanation_sep} {abstr_expl.lower()}\"  \n",
    "    elif io_format == 'unifiedqa_unifew':\n",
    "        input_string = f\"Topic? \\\\n (A) offensive (B) not_offensive \\\\n {post}\"\n",
    "        answer = item[\"offensiveYN\"].replace(\"not offensive\", \"not_offensive\")\n",
    "        answer_string = f\"{answer} {explanation_sep} {abstr_expl}\"\n",
    "    else:\n",
    "        raise ValueError(\"The IO format is not supported. Choose `standard` or `masked_cause_generate`.\")\n",
    "\n",
    "    input_string = ' '.join(input_string.split())\n",
    "    answer_string = ' '.join(answer_string.split())\n",
    "    return input_string, answer_string\n",
    "\n",
    "def sensemaking_formatting(item, io_format, explanation_sep):\n",
    "    # TODO: explore whether removing periods makes difference? \n",
    "    sent0 = item['sent0']\n",
    "    sent1 = item['sent1']\n",
    "    nonsensical_sentence = str(int(item['label'])+1)\n",
    "    explanation = item['explanation'].lower()\n",
    "\n",
    "    if io_format == 'copa_with_question':\n",
    "        input_string = f\"explain sensemaking choice1: {sent0} choice2: {sent1} question: nonsensical\"\n",
    "        answer_string = f\"choice{nonsensical_sentence} {explanation_sep} {explanation}\"\n",
    "    elif io_format == 'copa_bool':  \n",
    "        answer_bool = str(bool(int(item['label']))) # True if choice2 is more nonsensical    \n",
    "        input_string = f\"explain sensemaking choice1: {sent0} choice2: {sent1} Less common is choice2\"\n",
    "        answer_string = f\"{answer_bool} {explanation_sep} {explanation}\"\n",
    "    elif io_format == 't5_fewshot_infilling':  \n",
    "        input_string = f\"explain sensemaking choice1: {sent0} choice2: {sent1} <extra_id_0> {explanation_sep} <extra_id_1>\"\n",
    "        answer_string = f\"<extra_id_0> choice{nonsensical_sentence} <extra_id_1> {explanation} <extra_id_2>\"\n",
    "    elif io_format == 't5_fewshot_infilling_bool':  \n",
    "        answer_bool = str(bool(int(item['label']))) # True if choice2 is more nonsensical    \n",
    "        input_string = f\"explain sensemaking choice1: {sent0} choice2: {sent1} It is <extra_id_0> that choice2 is less common {explanation_sep} <extra_id_1>\"\n",
    "        answer_string = f\"<extra_id_0> {answer_bool} <extra_id_1> {explanation} <extra_id_2>\"\n",
    "    elif io_format == \"squad_yn\": \n",
    "        input_string = f\"explain sensemaking question: Is choice2 more nonsensical? context: choice1: {sent0} choice2: {sent1}\" # explain sensemaking question: What is nonsensical, choice1 or choice2? context: choice1: All state flowers are the scarlet carnation. choice2: The New Jersey state flower is the scarlet carnation\n",
    "        answer = \"Yes\" if bool(int(item['label'])) else \"No\"\n",
    "        answer_string = f\"{answer} {explanation_sep} {explanation}\" #  choice1 because state flowers are unique to each state.  \n",
    "    elif io_format == \"squad_yn_no_tags\": \n",
    "        input_string = f\"explain sensemaking question: Is choice2 more nonsensical? context: {sent0} {sent1}\" # explain sensemaking question: What is nonsensical, choice1 or choice2? context: choice1: All state flowers are the scarlet carnation. choice2: The New Jersey state flower is the scarlet carnation\n",
    "        answer = \"Yes\" if bool(int(item['label'])) else \"No\"\n",
    "        answer_string = f\"{answer} {explanation_sep} {explanation}\" #  choice1 because state flowers are unique to each state.  \n",
    "    elif io_format == \"squad_what\": \n",
    "        input_string = f\"explain sensemaking question: What is more nonsensical? context: choice1: {sent0} choice2: {sent1}\" # explain sensemaking question: What is nonsensical, choice1 or choice2? context: choice1: All state flowers are the scarlet carnation. choice2: The New Jersey state flower is the scarlet carnation\n",
    "        answer_string = f\"choice{nonsensical_sentence} {explanation_sep} {explanation}\" #  choice1 because state flowers are unique to each state.  \n",
    "    elif io_format == \"squad_what_no_tags\": \n",
    "        input_string = f\"explain sensemaking question: What is more nonsensical? context: {sent0} {sent1}\" # explain sensemaking question: What is nonsensical, choice1 or choice2? context: choice1: All state flowers are the scarlet carnation. choice2: The New Jersey state flower is the scarlet carnation\n",
    "        answer_string = f\"choice{nonsensical_sentence} {explanation_sep} {explanation}\" #  choice1 because state flowers are unique to each state.  \n",
    "    elif io_format == \"record\": \n",
    "        input_string = f\"explain sensemaking query: What is more nonsensical? entities: choice1, choice2 passage: choice1: {sent0} choice2: {sent1}\" # explain sensemaking query: What is nonsensical? entities: choice1, choice2 passage: choice1: All state flowers are the scarlet carnation. choice2: The New Jersey state flower is the scarlet carnation.\n",
    "        answer_string = f\"choice{nonsensical_sentence} {explanation_sep} {explanation}\" # choice1 because state flowers are unique to each state.\n",
    "    elif io_format == 'unifiedqa_yn_with_choices':\n",
    "        answer = \"yes\" if bool(int(item['label'])) else \"no\"\n",
    "        input_string = f'explain is choice2 more nonsensical? \\\\n (A) yes (B) no \\\\n choice1: {sent0.lower()} choice2: {sent1.lower()}'\n",
    "        answer_string = f\"{answer} {explanation_sep} {explanation.lower()}\" \n",
    "    elif io_format == 'unifiedqa_yn':\n",
    "        answer = \"yes\" if bool(int(item['label'])) else \"no\"\n",
    "        input_string = f'explain is choice2 more nonsensical? \\\\n choice1: {sent0.lower()} choice2: {sent1.lower()}'\n",
    "        answer_string = f\"{answer} {explanation_sep} {explanation.lower()}\"  \n",
    "    elif io_format == 'unifiedqa_yn_no_tags':\n",
    "        answer = \"yes\" if bool(int(item['label'])) else \"no\"\n",
    "        input_string = f'explain is choice2 more nonsensical? \\\\n {sent0.lower()} {sent1.lower()}'\n",
    "        answer_string = f\"{answer} {explanation_sep} {explanation.lower()}\"  \n",
    "    elif io_format == 'unifiedqa_what_with_choices':\n",
    "        nonsensical_sentence = str(int(item['label'])+1)\n",
    "        input_string = f'explain what is more nonsensical? \\\\n (A) choice1 (B) choice2 \\\\n choice1: {sent0.lower()} choice2: {sent1.lower()}'\n",
    "        answer_string = f\"choice{nonsensical_sentence} {explanation_sep} {explanation.lower()}\"  # use \" BECAUSE \"\n",
    "    elif io_format == 'unifiedqa_what':\n",
    "        nonsensical_sentence = str(int(item['label'])+1)\n",
    "        input_string = f'explain what is more nonsensical? \\\\n choice1: {sent0.lower()} choice2: {sent1.lower()}'\n",
    "        answer_string = f\"choice{nonsensical_sentence} {explanation_sep} {explanation.lower()}\"  # use \" BECAUSE \"\n",
    "    elif io_format == 'unifiedqa_what_no_tags':\n",
    "        nonsensical_sentence = str(int(item['label'])+1)\n",
    "        input_string = f'explain what is more nonsensical? \\\\n {sent0.lower()} {sent1.lower()}'\n",
    "        answer_string = f\"choice{nonsensical_sentence} {explanation_sep} {explanation.lower()}\"  # use \" BECAUSE \"\n",
    "\n",
    "\n",
    "    input_string = ' '.join(input_string.split())\n",
    "    answer_string = ' '.join(answer_string.split())\n",
    "    return input_string, answer_string"
   ]
  },
  {
   "cell_type": "code",
   "execution_count": 4,
   "id": "dde6c7e1",
   "metadata": {},
   "outputs": [
    {
     "name": "stderr",
     "output_type": "stream",
     "text": [
      "PyTorch: setting up devices\n",
      "The default value for the training argument `--report_to` will change in v5 (from all installed integrations to none). In v5, you will need to use `--report_to all` to get the same behavior as now. You should start updating your code and make this info disappear :-).\n",
      "01/12/2023 22:04:31 - WARNING - __main__ -   Process rank: -1, device: cuda:0, n_gpu: 1, distributed training: False, 16-bits training: False\n",
      "01/12/2023 22:04:31 - INFO - __main__ -   Save path: ./cos_e_output_t5_large/011223_220431\n",
      "01/12/2023 22:04:31 - INFO - __main__ -   Git branch: dev\n",
      "01/12/2023 22:04:31 - INFO - __main__ -   Git hash: 1cbb5c3b4e53baf31cbafc20d9655c63f091f901\n"
     ]
    }
   ],
   "source": [
    "og_start_time = time.time()\n",
    "\n",
    "#parser = HfArgumentParser(\n",
    "#    (ModelArguments, DataTrainingArguments, TrainingArguments)\n",
    "#)\n",
    "parser = HfArgumentParser(\n",
    "    (ModelArguments, DataTrainingArguments, TrainingArguments)\n",
    ")\n",
    "\n",
    "model_args, data_args, training_args, unused_args = parser.parse_args_into_dataclasses(\n",
    "    [\"--model_type\", \"t5-3b\",\n",
    "     \"--tokenizer_name\", \"t5-3b\",\n",
    "     \"--task_name\", \"cos_e\", \n",
    "     \"--output_dir\", \"./cos_e_output_t5_large\", \n",
    "     \"--n_shots\", \"10\",\n",
    "     \"--do_train\", \"True\"], return_remaining_strings=True)\n",
    "if unused_args != []:\n",
    "    raise ValueError(f\"Received unused arguments: {unused_args}\")\n",
    "# make sure only one dataset split pick if manually specifying evaluation file\n",
    "\n",
    "if model_args.use_gpt3:\n",
    "    assert training_args.do_train\n",
    "    assert not training_args.do_eval\n",
    "    assert data_args.generations_filepath is None\n",
    "    if data_args.gpt3_max_eval_size is not None:\n",
    "        assert data_args.gpt3_max_eval_size <= data_args.fewshot_eval_size\n",
    "        assert data_args.gpt3_max_eval_size % 2 == 0\n",
    "        assert data_args.gpt3_max_eval_size % 3 == 0\n",
    "\n",
    "if data_args.generations_filepath is not None:\n",
    "    training_args.do_train = False\n",
    "    training_args.do_eval = False\n",
    "    if \"train\" in data_args.generations_filepath:\n",
    "        data_args.train_predict = True\n",
    "        data_args.test_predict = False\n",
    "        data_args.dev_predict = False\n",
    "    elif \"test\" in data_args.generations_filepath:\n",
    "        data_args.train_predict = False\n",
    "        data_args.test_predict = True\n",
    "        data_args.dev_predict = False\n",
    "    elif \"validation\" in data_args.generations_filepath:\n",
    "        data_args.train_predict = False\n",
    "        data_args.test_predict = False\n",
    "        data_args.dev_predict = True\n",
    "\n",
    "if not training_args.do_train and data_args.generations_filepath is None:\n",
    "    if not model_args.pretrained_model_file:\n",
    "        raise Exception(\n",
    "            \"if not training a model from scratch, must specify a trained model to load for evaluation\"\n",
    "        )\n",
    "\n",
    "if training_args.do_train:\n",
    "    # create a save directory and a logfile\n",
    "    training_args.output_dir = os.path.join(\n",
    "        training_args.output_dir, datetime.now().strftime(\"%m%d%y_%H%M%S\")\n",
    "    )\n",
    "    training_args.logging_dir = training_args.output_dir\n",
    "    assert not os.path.exists(training_args.output_dir)\n",
    "    os.makedirs(training_args.output_dir)\n",
    "\n",
    "    if (\n",
    "            os.path.exists(training_args.output_dir)\n",
    "            and os.listdir(training_args.output_dir)\n",
    "            and training_args.do_train\n",
    "            and not training_args.overwrite_output_dir\n",
    "    ):\n",
    "        raise ValueError(\n",
    "            f\"Output directory ({training_args.output_dir}) already exists and is not empty. Use --overwrite_output_dir to overcome.\"\n",
    "        )\n",
    "    handlers = [\n",
    "        logging.FileHandler(os.path.join(training_args.output_dir, \"logger.log\")),\n",
    "        logging.StreamHandler(),\n",
    "    ]\n",
    "else:\n",
    "    # don't overwrite existing logfile or create new directory\n",
    "    training_args.output_dir = model_args.pretrained_model_file\n",
    "    handlers = [logging.StreamHandler()]\n",
    "\n",
    "# Setup logging\n",
    "logging.basicConfig(\n",
    "    format=\"%(asctime)s - %(levelname)s - %(name)s -   %(message)s\",\n",
    "    datefmt=\"%m/%d/%Y %H:%M:%S\",\n",
    "    level=logging.INFO if training_args.local_rank in [-1, 0] else logging.WARN,\n",
    "    handlers=handlers,\n",
    ")\n",
    "logger.warning(\n",
    "    \"Process rank: %s, device: %s, n_gpu: %s, distributed training: %s, 16-bits training: %s\",\n",
    "    training_args.local_rank,\n",
    "    training_args.device,\n",
    "    training_args.n_gpu,\n",
    "    bool(training_args.local_rank != -1),\n",
    "    training_args.fp16,\n",
    ")\n",
    "logger.info(\"Save path: %s\" % training_args.output_dir)\n",
    "\n",
    "# get git hash and branch where deployed\n",
    "repo = git.Repo(search_parent_directories=True)\n",
    "git_hash = repo.head.object.hexsha\n",
    "git_branch = repo.active_branch.name\n",
    "logger.info(\"Git branch: %s\" % git_branch)\n",
    "logger.info(\"Git hash: %s\" % git_hash)\n",
    "\n",
    "model_class = \"t5\"\n",
    "assert data_args.task_name in {\"cos_e\", \"esnli\", \"sbic\", \"sensemaking\", \"ecqa\"}\n",
    "\n",
    "if training_args.do_train:\n",
    "    # write command and args to file\n",
    "    with open(\n",
    "            os.path.join(training_args.output_dir, \"commandline_args.txt\"), \"w\"\n",
    "    ) as f:\n",
    "        f.write(\"Git branch: \" + git_branch + \"\\n\")\n",
    "        f.write(\"Git hash: \" + git_hash + \"\\n\")\n",
    "        f.write(\"Command:\\n\")\n",
    "        f.write(\"\\n\".join(sys.argv[1:]))\n",
    "\n",
    "# Set seed\n",
    "set_seed(training_args.seed)\n",
    "set_other_seeds(training_args.seed)\n",
    "\n",
    "# Load pretrained model and tokenizer\n",
    "#\n",
    "# Distributed training:\n",
    "# The .from_pretrained methods guarantee that only one local process can concurrently\n",
    "# download model & vocab."
   ]
  },
  {
   "cell_type": "code",
   "execution_count": 5,
   "id": "684646b4",
   "metadata": {},
   "outputs": [
    {
     "data": {
      "text/plain": [
       "device(type='cuda', index=0)"
      ]
     },
     "execution_count": 5,
     "metadata": {},
     "output_type": "execute_result"
    }
   ],
   "source": [
    "training_args.set_device = \"cuda:0\"\n",
    "training_args.device"
   ]
  },
  {
   "cell_type": "code",
   "execution_count": 6,
   "id": "18a3172a",
   "metadata": {},
   "outputs": [
    {
     "name": "stderr",
     "output_type": "stream",
     "text": [
      "01/12/2023 22:04:31 - INFO - __main__ -   Loading pretrained tokenizer...\n",
      "loading file https://huggingface.co/t5-large/resolve/main/spiece.model from cache at /home/huangyongfeng/.cache/huggingface/transformers/71ee551f54e246045a7b94dd449c33759924b864712e6d235bbba5245c9f6296.3b69006860e7b5d0a63ffdddc01ddcd6b7c318a6f4fd793596552c741734c62d\n",
      "loading file https://huggingface.co/t5-large/resolve/main/added_tokens.json from cache at None\n",
      "loading file https://huggingface.co/t5-large/resolve/main/special_tokens_map.json from cache at None\n",
      "loading file https://huggingface.co/t5-large/resolve/main/tokenizer_config.json from cache at None\n",
      "loading file https://huggingface.co/t5-large/resolve/main/tokenizer.json from cache at /home/huangyongfeng/.cache/huggingface/transformers/276094e085ecb12227136f2e755dc1f68be6f5da32df55ebfb104c791fbbc3c1.8627f1bd5d270a9fd2e5a51c8bec3223896587cc3cfe13edeabb0992ab43c529\n",
      "loading configuration file https://huggingface.co/t5-large/resolve/main/config.json from cache at /home/huangyongfeng/.cache/huggingface/transformers/1adb1f57c3579debfcce7b94ee03f6144e0ff7a0c2825e48b3f9cde9ce290c7d.75cc627adbf83d06473fdad6b036e8594b465394bf31d84bc54a373c9c5a5563\n",
      "Model config T5Config {\n",
      "  \"architectures\": [\n",
      "    \"T5ForConditionalGeneration\"\n",
      "  ],\n",
      "  \"d_ff\": 4096,\n",
      "  \"d_kv\": 64,\n",
      "  \"d_model\": 1024,\n",
      "  \"decoder_start_token_id\": 0,\n",
      "  \"dropout_rate\": 0.1,\n",
      "  \"eos_token_id\": 1,\n",
      "  \"feed_forward_proj\": \"relu\",\n",
      "  \"gradient_checkpointing\": false,\n",
      "  \"initializer_factor\": 1.0,\n",
      "  \"is_encoder_decoder\": true,\n",
      "  \"layer_norm_epsilon\": 1e-06,\n",
      "  \"model_type\": \"t5\",\n",
      "  \"n_positions\": 512,\n",
      "  \"num_decoder_layers\": 24,\n",
      "  \"num_heads\": 16,\n",
      "  \"num_layers\": 24,\n",
      "  \"output_past\": true,\n",
      "  \"pad_token_id\": 0,\n",
      "  \"relative_attention_num_buckets\": 32,\n",
      "  \"task_specific_params\": {\n",
      "    \"summarization\": {\n",
      "      \"early_stopping\": true,\n",
      "      \"length_penalty\": 2.0,\n",
      "      \"max_length\": 200,\n",
      "      \"min_length\": 30,\n",
      "      \"no_repeat_ngram_size\": 3,\n",
      "      \"num_beams\": 4,\n",
      "      \"prefix\": \"summarize: \"\n",
      "    },\n",
      "    \"translation_en_to_de\": {\n",
      "      \"early_stopping\": true,\n",
      "      \"max_length\": 300,\n",
      "      \"num_beams\": 4,\n",
      "      \"prefix\": \"translate English to German: \"\n",
      "    },\n",
      "    \"translation_en_to_fr\": {\n",
      "      \"early_stopping\": true,\n",
      "      \"max_length\": 300,\n",
      "      \"num_beams\": 4,\n",
      "      \"prefix\": \"translate English to French: \"\n",
      "    },\n",
      "    \"translation_en_to_ro\": {\n",
      "      \"early_stopping\": true,\n",
      "      \"max_length\": 300,\n",
      "      \"num_beams\": 4,\n",
      "      \"prefix\": \"translate English to Romanian: \"\n",
      "    }\n",
      "  },\n",
      "  \"transformers_version\": \"4.9.2\",\n",
      "  \"use_cache\": true,\n",
      "  \"vocab_size\": 32128\n",
      "}\n",
      "\n",
      "loading configuration file https://huggingface.co/t5-large/resolve/main/config.json from cache at /home/huangyongfeng/.cache/huggingface/transformers/1adb1f57c3579debfcce7b94ee03f6144e0ff7a0c2825e48b3f9cde9ce290c7d.75cc627adbf83d06473fdad6b036e8594b465394bf31d84bc54a373c9c5a5563\n",
      "Model config T5Config {\n",
      "  \"architectures\": [\n",
      "    \"T5ForConditionalGeneration\"\n",
      "  ],\n",
      "  \"d_ff\": 4096,\n",
      "  \"d_kv\": 64,\n",
      "  \"d_model\": 1024,\n",
      "  \"decoder_start_token_id\": 0,\n",
      "  \"dropout_rate\": 0.1,\n",
      "  \"eos_token_id\": 1,\n",
      "  \"feed_forward_proj\": \"relu\",\n",
      "  \"gradient_checkpointing\": false,\n",
      "  \"initializer_factor\": 1.0,\n",
      "  \"is_encoder_decoder\": true,\n",
      "  \"layer_norm_epsilon\": 1e-06,\n",
      "  \"model_type\": \"t5\",\n",
      "  \"n_positions\": 512,\n",
      "  \"num_decoder_layers\": 24,\n",
      "  \"num_heads\": 16,\n",
      "  \"num_layers\": 24,\n",
      "  \"output_past\": true,\n",
      "  \"pad_token_id\": 0,\n",
      "  \"relative_attention_num_buckets\": 32,\n",
      "  \"task_specific_params\": {\n",
      "    \"summarization\": {\n",
      "      \"early_stopping\": true,\n",
      "      \"length_penalty\": 2.0,\n",
      "      \"max_length\": 200,\n",
      "      \"min_length\": 30,\n",
      "      \"no_repeat_ngram_size\": 3,\n",
      "      \"num_beams\": 4,\n",
      "      \"prefix\": \"summarize: \"\n",
      "    },\n",
      "    \"translation_en_to_de\": {\n",
      "      \"early_stopping\": true,\n",
      "      \"max_length\": 300,\n",
      "      \"num_beams\": 4,\n",
      "      \"prefix\": \"translate English to German: \"\n",
      "    },\n",
      "    \"translation_en_to_fr\": {\n",
      "      \"early_stopping\": true,\n",
      "      \"max_length\": 300,\n",
      "      \"num_beams\": 4,\n",
      "      \"prefix\": \"translate English to French: \"\n",
      "    },\n",
      "    \"translation_en_to_ro\": {\n",
      "      \"early_stopping\": true,\n",
      "      \"max_length\": 300,\n",
      "      \"num_beams\": 4,\n",
      "      \"prefix\": \"translate English to Romanian: \"\n",
      "    }\n",
      "  },\n",
      "  \"transformers_version\": \"4.9.2\",\n",
      "  \"use_cache\": true,\n",
      "  \"vocab_size\": 32128\n",
      "}\n",
      "\n",
      "loading weights file https://huggingface.co/t5-large/resolve/main/pytorch_model.bin from cache at /home/huangyongfeng/.cache/huggingface/transformers/750feca8cedcd171eb121bd47c3ae16924a473d89f334c7d22f83bfa3a6c80f6.62fbd66ec15bdf6e5322f44f1546f0d475cf07a90caca0912ead31408a83a319\n",
      "All model checkpoint weights were used when initializing T5ForConditionalGeneration.\n",
      "\n",
      "All the weights of T5ForConditionalGeneration were initialized from the model checkpoint at t5-large.\n",
      "If your task is similar to the task the model of the checkpoint was trained on, you can already use T5ForConditionalGeneration for predictions without further training.\n"
     ]
    }
   ],
   "source": [
    "import logging\n",
    "logger = logging.getLogger(__name__)\n",
    "CONFIG_MAPPING = {\"t5\": T5Config}\n",
    "MODEL_MAPPING = {\"t5\": T5ForConditionalGeneration}\n",
    "TOKENIZER_MAPPING = {\"t5\": T5Tokenizer}\n",
    "model_class = \"t5\"\n",
    "tokenizer_name = TOKENIZER_MAPPING[model_class]\n",
    "logger.info(\"Loading pretrained tokenizer...\")\n",
    "model_args.tokenizer_name='t5-large'\n",
    "tokenizer = tokenizer_name.from_pretrained(model_args.tokenizer_name)#, cache_dir=model_args.cache_dir)\n",
    "\n",
    "model = T5ForConditionalGeneration.from_pretrained(\"t5-large\")"
   ]
  },
  {
   "cell_type": "code",
   "execution_count": 7,
   "id": "62eef1a8",
   "metadata": {},
   "outputs": [
    {
     "data": {
      "text/plain": [
       "DataTrainingArguments(task_name='cos_e', early_stopping_patience=10, overwrite_cache=False, train_predict=False, test_predict=False, dev_predict=False, version_name='v1.11', generations_filepath=None, n_shots=10, fewshot_eval_size=350, io_format='t5_fewshot_infilling_without_choices_use_refined_expl', explanation_sep='explanation', data_path=None, gpt3_max_eval_size=None)"
      ]
     },
     "execution_count": 7,
     "metadata": {},
     "output_type": "execute_result"
    }
   ],
   "source": [
    "data_splits = {'train': None, 'validation': None, 'test': None}\n",
    "original_data_splits = {'train': None, 'validation': None, 'test': None}  \n",
    "data_args.io_format=\"t5_fewshot_infilling_without_choices_use_refined_expl\"\n",
    "data_args"
   ]
  },
  {
   "cell_type": "code",
   "execution_count": 8,
   "id": "efc49c0c",
   "metadata": {},
   "outputs": [
    {
     "data": {
      "application/json": {
       "ascii": false,
       "bar_format": null,
       "colour": null,
       "elapsed": 0.013453006744384766,
       "initial": 0,
       "n": 0,
       "ncols": null,
       "nrows": 60,
       "postfix": null,
       "prefix": "",
       "rate": null,
       "total": 2,
       "unit": "it",
       "unit_divisor": 1000,
       "unit_scale": false
      },
      "application/vnd.jupyter.widget-view+json": {
       "model_id": "a0a029d255d545b58b0764e030ee5549",
       "version_major": 2,
       "version_minor": 0
      },
      "text/plain": [
       "  0%|          | 0/2 [00:00<?, ?it/s]"
      ]
     },
     "metadata": {},
     "output_type": "display_data"
    },
    {
     "data": {
      "text/plain": [
       "dict_keys(['extractive_explanation', 'choices', 'answer', 'question', 'abstractive_explanation', 'id'])"
      ]
     },
     "execution_count": 8,
     "metadata": {},
     "output_type": "execute_result"
    }
   ],
   "source": [
    "dataset = datasets.load_dataset(data_args.task_name, data_args.version_name)\n",
    "train_ids_list=[x['id'] for x in dataset[\"train\"]]\n",
    "dataset['train'][0].keys()"
   ]
  },
  {
   "cell_type": "code",
   "execution_count": 9,
   "id": "294780bc",
   "metadata": {},
   "outputs": [
    {
     "data": {
      "application/json": {
       "ascii": false,
       "bar_format": null,
       "colour": null,
       "elapsed": 0.013072013854980469,
       "initial": 0,
       "n": 0,
       "ncols": null,
       "nrows": 60,
       "postfix": null,
       "prefix": "",
       "rate": null,
       "total": 1,
       "unit": "it",
       "unit_divisor": 1000,
       "unit_scale": false
      },
      "application/vnd.jupyter.widget-view+json": {
       "model_id": "8e10e758efff451685d5418aa67564f6",
       "version_major": 2,
       "version_minor": 0
      },
      "text/plain": [
       "  0%|          | 0/1 [00:00<?, ?it/s]"
      ]
     },
     "metadata": {},
     "output_type": "display_data"
    },
    {
     "name": "stdout",
     "output_type": "stream",
     "text": [
      "[6723, 3269, 12, 6020, 7815, 0, 13, 7, 3556, 4587, 3166, 2607, 1999, 332, 8571, 2, 3520, 6, 1425, 2361, 3764, 7728, 8352, 1273, 5191, 496, 11, 8143, 6929, 4552, 4652, 7764, 6736, 401, 147, 8339, 3128, 5556, 8769, 4417, 8778, 7145, 1279, 6297, 7149, 5884, 10, 5747, 6273, 8, 9504, 8057, 1307, 2183, 1699, 88, 3228, 7178, 2140, 4048, 1041, 1, 3, 5868, 111, 7889, 5370, 8886, 2137, 6980, 9117, 1891, 7827, 1484, 14, 3668, 7090, 5, 7817, 6213, 4656, 5074, 7514, 5896, 4, 9, 7991, 58, 1887, 1598, 3994, 2212, 2274, 6830, 8826, 1604, 9008, 2013, 6521, 4793, 4338, 3923, 8091, 4904, 3938, 3900, 8156, 5806, 8363, 1787, 1496, 5753, 6351, 1104, 1222]\n"
     ]
    },
    {
     "data": {
      "text/plain": [
       "115"
      ]
     },
     "execution_count": 9,
     "metadata": {},
     "output_type": "execute_result"
    }
   ],
   "source": [
    "#rationale generation labeled data construction 115\n",
    "import pandas as pd\n",
    "scr_csqa_labeled_path=\"/cognitive_comp/huangyongfeng/evaluate_LM_with_rationalization/few_shot_explanations/data/handwritten_cose_v1.11_examples.csv\"\n",
    "scr_csqa_label_df=pd.read_csv(scr_csqa_labeled_path)\n",
    "scr_csqa_label_data=datasets.load_dataset('csv', data_files=scr_csqa_labeled_path)\n",
    "scr_csqa_label_ids_list=[x['id'] for x in scr_csqa_label_data['train']]\n",
    "scr_csqa_indexs_list=[train_ids_list.index(id_) for id_ in scr_csqa_label_ids_list]\n",
    "scr_csqa_label_our_explanations_list=[x['our_explanation'] for x in scr_csqa_label_data['train']]\n",
    "print(scr_csqa_indexs_list)\n",
    "data_splits={}\n",
    "data_splits['train']=dataset['train'].select(scr_csqa_indexs_list)\n",
    "\n",
    "refine_train_data=[]\n",
    "for kk, (ex,da) in enumerate(zip(scr_csqa_label_our_explanations_list, data_splits['train'])):\n",
    "#     print(da)\n",
    "    data_splits['train'][kk]['our_explanation']=ex\n",
    "    #print(type(data_splits['train'][kk]),data_splits['train'][kk].keys())\n",
    "    da['our_explanation']=ex\n",
    "    refine_train_data.append(da)\n",
    "\n",
    "len(data_splits['train'])"
   ]
  },
  {
   "cell_type": "code",
   "execution_count": 10,
   "id": "1d97f507",
   "metadata": {},
   "outputs": [
    {
     "data": {
      "application/json": {
       "ascii": false,
       "bar_format": null,
       "colour": null,
       "elapsed": 0.012734651565551758,
       "initial": 0,
       "n": 0,
       "ncols": null,
       "nrows": 60,
       "postfix": null,
       "prefix": "",
       "rate": null,
       "total": 1,
       "unit": "it",
       "unit_divisor": 1000,
       "unit_scale": false
      },
      "application/vnd.jupyter.widget-view+json": {
       "model_id": "e6a737ac1791466f8fc5cf0d691901ac",
       "version_major": 2,
       "version_minor": 0
      },
      "text/plain": [
       "  0%|          | 0/1 [00:00<?, ?it/s]"
      ]
     },
     "metadata": {},
     "output_type": "display_data"
    },
    {
     "data": {
      "text/plain": [
       "{'id': '5b8a3081c3235d62bc77e2d15f3ad454',\n",
       " 'question': 'A town between two mountains is located in a what?',\n",
       " 'choices': ['valley', 'hospital', 'state', 'train station', 'michigan'],\n",
       " 'answer': 'valley',\n",
       " 'abstractive_explanation': 'valleys are always between two mountains',\n",
       " 'extractive_explanation': 'A town between two mountains',\n",
       " 'our_explanation': 'A valley is usually between two mountains, where it is located in the place where the mountains are closest to each other.'}"
      ]
     },
     "execution_count": 10,
     "metadata": {},
     "output_type": "execute_result"
    }
   ],
   "source": [
    "#rationale unlabeled data construction 991\n",
    "import pdb\n",
    "scr_csqa_unlabeled_test_file=\"/cognitive_comp/huangyongfeng/evaluate_LM_with_rationalization/few_shot_explanations/data/acceptability_annotations/commonsenseqa_test.csv\"\n",
    "fse_csqa_dev_dataset = datasets.load_dataset('csv', data_files=scr_csqa_unlabeled_test_file)\n",
    "scr_csqa_unlabeled_test_df=pd.read_csv(scr_csqa_unlabeled_test_file)\n",
    "fse_csqa_dev_data_dict={}\n",
    "for kk, da in enumerate(fse_csqa_dev_dataset['train']):\n",
    "    #pdb.set_trace()\n",
    "    id_=da['Input.id']\n",
    "    if da['Answer.acceptable']:\n",
    "        answer_accept=set(da['Answer.acceptable'].split('|'))\n",
    "    else:\n",
    "        answer_accept=set()\n",
    "    explanation_list=[da['Input.explanation_1'], \n",
    "                      da['Input.explanation_2'],\n",
    "                      da['Input.explanation_3'],\n",
    "                      da['Input.explanation_4'],\n",
    "                      da['Input.explanation_5']]\n",
    "    if id_ not in fse_csqa_dev_data_dict.keys():\n",
    "        fse_csqa_dev_data_dict[id_]={\"index\":kk,\"id\":id_,\n",
    "                                     \"question\":da[\"Input.question\"],\n",
    "                                     'answer':da['Input.gold_label'],\n",
    "                                     \"accept_set_list\":[answer_accept],\n",
    "                                     \"explanation_list\":explanation_list}\n",
    "        #[[kk, id_, answer_accept, explanation_list]]\n",
    "    else:\n",
    "        fse_csqa_dev_data_dict[id_][\"accept_set_list\"].append(answer_accept)\n",
    "    if len(fse_csqa_dev_data_dict[id_][\"accept_set_list\"])==3:\n",
    "        fse_csqa_dev_data_dict[id_][\"common_expl_list\"]=[]\n",
    "        common_accept_expl_sample=set.intersection(fse_csqa_dev_data_dict[id_][\"accept_set_list\"][0], \n",
    "                                                   fse_csqa_dev_data_dict[id_][\"accept_set_list\"][1], \n",
    "                                                   fse_csqa_dev_data_dict[id_][\"accept_set_list\"][2])\n",
    "        for idx in list(common_accept_expl_sample):\n",
    "            idx=int(idx)-1\n",
    "            fse_csqa_dev_data_dict[id_][\"common_expl_list\"].append(fse_csqa_dev_data_dict[id_][\"explanation_list\"][idx])\n",
    "        \n",
    "#discriminate 3/3 id\n",
    "id_accept_expl_list=[]\n",
    "our_accept_expl_list=[]\n",
    "id_unaccept_expl_list=[]\n",
    "for k,v in fse_csqa_dev_data_dict.items():\n",
    "    accept_set_list=v['accept_set_list']\n",
    "    assert len(accept_set_list)==3\n",
    "    #pdb.set_trace()\n",
    "    common_accept_expl_sample=set.intersection(accept_set_list[0], accept_set_list[1], accept_set_list[2])\n",
    "    #print(accept_set_list,common_accept_expl_sample)\n",
    "    #pdb.set_trace()\n",
    "    if common_accept_expl_sample:\n",
    "        id_accept_expl_list.append(k)\n",
    "        our_expl=\"\"\n",
    "        for idx in list(common_accept_expl_sample):\n",
    "            idx=int(idx)-1\n",
    "            if len(v['explanation_list'][idx]) > len(our_expl):\n",
    "                our_expl = v['explanation_list'][idx]\n",
    "                our_accept_expl_list.append(our_expl)\n",
    "    else:\n",
    "        id_unaccept_expl_list.append(k)\n",
    "\n",
    "dev_ids_list=[x['id'] for x in dataset['validation']]\n",
    "dev_accept_indexs_list=[dev_ids_list.index(id_) for id_ in id_accept_expl_list]\n",
    "dev_unaccpet_indexs_list=[dev_ids_list.index(id_) for id_ in id_unaccept_expl_list]\n",
    "dev_accept_data=dataset['validation'].select(dev_accept_indexs_list)\n",
    "dev_unaccept_data=dataset['validation'].select(dev_unaccpet_indexs_list)\n",
    "\n",
    "\n",
    "\n",
    "new_dev_accept_data=[]\n",
    "new_dev_unaccept_data=[]\n",
    "for oexp, da in zip(our_accept_expl_list,dev_accept_data):\n",
    "    da[\"our_explanation\"]=oexp\n",
    "    new_dev_accept_data.append(da)\n",
    "for da in dev_unaccept_data:\n",
    "    da[\"our_explanation\"]=oexp\n",
    "    new_dev_unaccept_data.append(da)\n",
    "        \n",
    "new_dev_accept_data[0]\n",
    "        "
   ]
  },
  {
   "cell_type": "code",
   "execution_count": 11,
   "id": "ffe13707",
   "metadata": {},
   "outputs": [
    {
     "data": {
      "text/plain": [
       "{'index': 0,\n",
       " 'id': '5b8a3081c3235d62bc77e2d15f3ad454',\n",
       " 'question': 'A town between two mountains is located in a what?',\n",
       " 'answer': 'valley',\n",
       " 'accept_set_list': [{'2', '4', '5'}, {'2', '4', '5'}, {'2', '4', '5'}],\n",
       " 'explanation_list': ['Because all of the mountains are to the left of this town, if one was looking on a map, one would be able to see the town in the valley.',\n",
       "  'A valley is usually between two mountains, where it is located in the place where the mountains are closest to each other.',\n",
       "  'Because rivers end in valleys; assuming the river is the one of interest, this sentence is likely referring to the geographical location of the town.',\n",
       "  'A town in between mountains presumably would be in a valley, in which case it is plausable that it would be surrounded by heights in every direction.',\n",
       "  'A valley is a low area between two mountains.'],\n",
       " 'common_expl_list': ['A valley is usually between two mountains, where it is located in the place where the mountains are closest to each other.',\n",
       "  'A town in between mountains presumably would be in a valley, in which case it is plausable that it would be surrounded by heights in every direction.',\n",
       "  'A valley is a low area between two mountains.']}"
      ]
     },
     "execution_count": 11,
     "metadata": {},
     "output_type": "execute_result"
    }
   ],
   "source": [
    "fse_csqa_dev_data_dict['5b8a3081c3235d62bc77e2d15f3ad454']\n"
   ]
  },
  {
   "cell_type": "code",
   "execution_count": 12,
   "id": "3161874f",
   "metadata": {},
   "outputs": [],
   "source": [
    "# for k,v in fse_csqa_dev_data_dict.items():\n",
    "#     #print(v.keys())\n",
    "#     print(\"******\")\n",
    "#     print(v['question'])\n",
    "#     print(v['answer'])\n",
    "#     print(v['common_expl_list'])\n",
    "#     print(\"******\")    \n",
    "# for k,v in fse_csqa_train_data_dict.items():\n",
    "#     #print(v.keys())\n",
    "#     print(\"******\")\n",
    "#     print(v['question'])\n",
    "#     print(v['answer'])\n",
    "#     print(v['common_expl_list'])\n",
    "#     print(\"******\") \n"
   ]
  },
  {
   "cell_type": "code",
   "execution_count": 13,
   "id": "3e0e8a2d",
   "metadata": {},
   "outputs": [
    {
     "data": {
      "application/json": {
       "ascii": false,
       "bar_format": null,
       "colour": null,
       "elapsed": 0.014312982559204102,
       "initial": 0,
       "n": 0,
       "ncols": null,
       "nrows": 60,
       "postfix": null,
       "prefix": "",
       "rate": null,
       "total": 1,
       "unit": "it",
       "unit_divisor": 1000,
       "unit_scale": false
      },
      "application/vnd.jupyter.widget-view+json": {
       "model_id": "95d6b17099e04053bf327363ec08fb3b",
       "version_major": 2,
       "version_minor": 0
      },
      "text/plain": [
       "  0%|          | 0/1 [00:00<?, ?it/s]"
      ]
     },
     "metadata": {},
     "output_type": "display_data"
    },
    {
     "data": {
      "text/plain": [
       "{'id': 'ed53cbea1f21072fab892031b31192d1',\n",
       " 'question': 'Where can you likely buy many poems?',\n",
       " 'choices': ['book of poetry',\n",
       "  'literature book',\n",
       "  'book store',\n",
       "  'poetry book',\n",
       "  'bookshelf'],\n",
       " 'answer': 'book store',\n",
       " 'abstractive_explanation': 'book store book',\n",
       " 'extractive_explanation': 'buy many poems',\n",
       " 'our_explanation': 'A bookstore sells a variety of books, including poetry books; chains of bookstores sometimes specialize in categories such as poetry or literature.'}"
      ]
     },
     "execution_count": 13,
     "metadata": {},
     "output_type": "execute_result"
    }
   ],
   "source": [
    "#rationale unlabeled data construction 991\n",
    "import pdb\n",
    "scr_csqa_unlabeled_train_file=\"/cognitive_comp/huangyongfeng/evaluate_LM_with_rationalization/few_shot_explanations/data/acceptability_annotations/commonsenseqa_train.csv\"\n",
    "fse_csqa_train_dataset = datasets.load_dataset('csv', data_files=scr_csqa_unlabeled_train_file)\n",
    "scr_csqa_unlabeled_train_df=pd.read_csv(scr_csqa_unlabeled_train_file)\n",
    "fse_csqa_train_data_dict={}\n",
    "for kk, da in enumerate(fse_csqa_train_dataset['train']):\n",
    "    #pdb.set_trace()\n",
    "    id_=da['Input.id']\n",
    "    if da['Answer.acceptable']:\n",
    "        answer_accept=set(da['Answer.acceptable'].split('|'))\n",
    "    else:\n",
    "        answer_accept=set()\n",
    "    explanation_list=[da['Input.explanation_1'], \n",
    "                      da['Input.explanation_2'],\n",
    "                      da['Input.explanation_3'],\n",
    "                      da['Input.explanation_4'],\n",
    "                      da['Input.explanation_5']]\n",
    "    if id_ not in fse_csqa_train_data_dict.keys():\n",
    "        fse_csqa_train_data_dict[id_]={\"index\":kk,\"id\":id_,\n",
    "                                     \"question\":da[\"Input.question\"],\n",
    "                                     'answer':da['Input.gold_label'],\n",
    "                                     \"accept_set_list\":[answer_accept],\n",
    "                                     \"explanation_list\":explanation_list}\n",
    "        #[[kk, id_, answer_accept, explanation_list]]\n",
    "    else:\n",
    "        fse_csqa_train_data_dict[id_][\"accept_set_list\"].append(answer_accept)\n",
    "        \n",
    "    if len(fse_csqa_train_data_dict[id_][\"accept_set_list\"])==3:\n",
    "        fse_csqa_train_data_dict[id_][\"common_expl_list\"]=[]\n",
    "        common_accept_expl_sample=set.intersection(fse_csqa_train_data_dict[id_][\"accept_set_list\"][0], \n",
    "                                                   fse_csqa_train_data_dict[id_][\"accept_set_list\"][1], \n",
    "                                                   fse_csqa_train_data_dict[id_][\"accept_set_list\"][2])\n",
    "        for idx in list(common_accept_expl_sample):\n",
    "            idx=int(idx)-1\n",
    "            fse_csqa_train_data_dict[id_][\"common_expl_list\"].append(fse_csqa_train_data_dict[id_][\"explanation_list\"][idx])\n",
    "\n",
    "    \n",
    "#discriminate 3/3 id\n",
    "id_accept_expl_list=[]\n",
    "our_accept_expl_list=[]\n",
    "id_unaccept_expl_list=[]\n",
    "for k,v in fse_csqa_train_data_dict.items():\n",
    "    accept_set_list=v['accept_set_list']\n",
    "    assert len(accept_set_list)==3\n",
    "    #pdb.set_trace()\n",
    "    common_accept_expl_sample=set.intersection(accept_set_list[0], accept_set_list[1], accept_set_list[2])\n",
    "    #print(accept_set_list,common_accept_expl_sample)\n",
    "    #pdb.set_trace()\n",
    "    if common_accept_expl_sample:\n",
    "        id_accept_expl_list.append(k)\n",
    "        our_expl=\"\"\n",
    "        for idx in list(common_accept_expl_sample):\n",
    "            idx=int(idx)-1\n",
    "            if len(v['explanation_list'][idx]) > len(our_expl):\n",
    "                our_expl = v['explanation_list'][idx]\n",
    "                our_accept_expl_list.append(our_expl)\n",
    "    else:\n",
    "        id_unaccept_expl_list.append(k)\n",
    "\n",
    "train_ids_list=[x['id'] for x in dataset['train']]\n",
    "train_accept_indexs_list=[train_ids_list.index(id_) for id_ in id_accept_expl_list]\n",
    "train_unaccpet_indexs_list=[train_ids_list.index(id_) for id_ in id_unaccept_expl_list]\n",
    "train_accept_data=dataset['train'].select(train_accept_indexs_list)\n",
    "train_unaccept_data=dataset['train'].select(train_unaccpet_indexs_list)\n",
    "\n",
    "\n",
    "\n",
    "new_train_accept_data=[]\n",
    "new_train_unaccept_data=[]\n",
    "for oexp, da in zip(our_accept_expl_list,train_accept_data):\n",
    "    da[\"our_explanation\"]=oexp\n",
    "    new_train_accept_data.append(da)\n",
    "for da in train_unaccept_data:\n",
    "    da[\"our_explanation\"]=oexp\n",
    "    new_train_unaccept_data.append(da)\n",
    "        \n",
    "new_train_accept_data[0]"
   ]
  },
  {
   "cell_type": "code",
   "execution_count": 14,
   "id": "595b9453",
   "metadata": {},
   "outputs": [
    {
     "data": {
      "text/plain": [
       "(set(), set())"
      ]
     },
     "execution_count": 14,
     "metadata": {},
     "output_type": "execute_result"
    }
   ],
   "source": [
    "refine_train_data=refine_train_data\n",
    "refine_dev_data=new_train_accept_data + new_dev_accept_data\n",
    "refine_test_data=new_train_unaccept_data + new_dev_unaccept_data\n",
    "\n",
    "refine_train_ids_list=[x['id'] for x in refine_train_data]\n",
    "refine_dev_ids_list=[x['id'] for x in refine_dev_data]\n",
    "refine_test_ids_list=[x['id'] for x in refine_test_data]\n",
    "\n",
    "set(refine_train_ids_list).intersection(set(refine_dev_ids_list)),set(refine_train_ids_list).intersection(set(refine_test_ids_list))\n",
    "\n"
   ]
  },
  {
   "cell_type": "code",
   "execution_count": 15,
   "id": "48e4ec26",
   "metadata": {},
   "outputs": [
    {
     "data": {
      "text/plain": [
       "dict_keys(['id', 'question', 'choices', 'answer', 'abstractive_explanation', 'extractive_explanation', 'our_explanation'])"
      ]
     },
     "execution_count": 15,
     "metadata": {},
     "output_type": "execute_result"
    }
   ],
   "source": [
    "our_data_splits={}\n",
    "our_data_splits['train']=refine_train_data\n",
    "our_data_splits['dev']=refine_dev_data\n",
    "our_data_splits['test']=refine_test_data\n",
    "refine_train_data[0].keys()"
   ]
  },
  {
   "cell_type": "markdown",
   "id": "0fcdf34f",
   "metadata": {},
   "source": [
    "# shots number"
   ]
  },
  {
   "cell_type": "code",
   "execution_count": 16,
   "id": "bd43fe66",
   "metadata": {},
   "outputs": [],
   "source": [
    "id_list = [\n",
    " '71519c19654251cced50c5718fd527c1',\n",
    " '44195d210c81c8c550174d0edbd3ad5d',\n",
    " '5a5da37b685ec9c6f15228128ce30437',\n",
    " 'cabdfc174953b4bdb8bdcc89d6592c74',\n",
    " 'eac3a4080127e8924034651b57dfa289',\n",
    " 'c0013f31657294b9b5ad819123513ca7',\n",
    " '2681697be70cd5425899ed6deb84b18a',\n",
    " '47f60340b869552e795fa6782224f3d2',\n",
    " '7e8a6eac93147eb52d8151bab7b40003',\n",
    " 'f34267f498c8a78383e35057fbcfa2ce',\n",
    " 'f024f923d78e5c0a4c0c4baa3ddccf05',\n",
    " 'e148c710d0c26849cf1f15293481038b',\n",
    " 'bdf437d7498815f36c255f64a8e6571c',\n",
    " '2282e0c80be28aadadb79a822fec9dac',\n",
    " 'bdd05e96876342b4b5999709439a7f4e',\n",
    " '494b8316614fc64c5c27757aeaffce23_1',\n",
    " 'c4494b402264250dc70931613d482295',\n",
    " 'fcfbf207c5586294fdce33b645b613f1',\n",
    " '9c583bcbe68989a644433302545fb31e',\n",
    " '0e684d779d98e6eecda167c10af42bbb',\n",
    " 'ac0462d09b9fddd40c3c77aedf48a870',\n",
    " '1dbfb41e04a10bdbb085bfe667c0df99',\n",
    " 'cd0c0ef3b8ce0eb09ff26823f6059be6',\n",
    " 'e6b67184b99375d05d3f2887f684c684',\n",
    " 'ae9f6f1e17b3fdd3a86b494933809f45',\n",
    " 'f149604169936a30b7e4c8d599d604b5',\n",
    " 'd7c8377953e0175ef57d59f3a8e63a8e',\n",
    " '1837216ac7745121b82a6491b2318c09',\n",
    " 'b5fe238d45e55ca5d802b7823ad390ef',\n",
    " 'b2fbeb0b48bd5e575af0f7dc24cdd85d',\n",
    " '9bdfb101c487ac598f6e4686cf774703',\n",
    " '206c7116ee2246180fcc0c5a1d0e7205',\n",
    " '5cd7f44bbf730dfae5ef2a362d2e5149',\n",
    " '45d0ea781ffd49b07d6eae94d47a8945',\n",
    " '89afdea1d76272fda8e1538a7d3b7a3f',\n",
    " '38a514fe54108527e1d6e89d9812da93',\n",
    " 'ebf347934a3e90ea46d3d87726fb5d25',\n",
    " '90226a6ecd7308ae1e6220a15ae24bc6',\n",
    " '5cae8057e75e3adf5c338a43b3ba97fb',\n",
    " '388a363c49e1b0aca8eaf18ccdde0caf',\n",
    " '9ed3af82152dfcd7000bf4631b095f71',\n",
    " '2d5805d894bba224c5fe91e70b8c0f77',\n",
    " 'd5aa464a16b72c9b9f3091abd461e3ef',\n",
    " '381b11c54be4cc432a95053ca34cbf6b',\n",
    " '807a3a2dabdd50ed0c76052fd2612632',\n",
    " '5172041c750d22e9a5081cc024de0fa6',\n",
    " 'd32a45ab3b751110d0578a78e54c0e64',\n",
    " '28ca5cbe27774746c34f6ebe84fc6d0c']\n",
    "\n",
    "chatGPT_rationales = [\n",
    "    \"A cup is a common vessel used for holding and drinking liquids, such as water, coffee, or tea. When you want to get yourself a drink, you might typically get a cup from a cabinet or other storage area in order to hold the drink. A cup is a convenient and practical choice for getting a drink because it is easy to hold and use, and it can hold a reasonable amount of liquid. There are many different types of cups available, including ceramic, glass, plastic, and metal cups, each with their own unique features and benefits. Whether you are at home, at work, or out in public, a cup is a handy item to have on hand when you need to quench your thirst.\",\n",
    "    \"A front yard is the lawn that is typically located in front of a house, near the street. The front yard is the part of the property that is visible from the street and is often used for decorative purposes, such as landscaping or gardening. Many people take pride in their front yards and may spend time and resources maintaining and improving them. The front yard is often the first thing that visitors see when they arrive at a house, and it can make a strong impression on them. In contrast, the back yard is typically located behind the house and is often used for more practical purposes, such as outdoor recreation or gardening.\",\n",
    "    \"A swimming pool is a recreational water feature that is typically used for swimming and other aquatic activities. While shallow water, such as that found in a kiddie pool or a shallow end of a pool, can be enjoyable for some people, it may not be sufficient for many summer activities. A swimming pool that is deep enough for diving and other activities is more likely to provide more opportunities for summer fun. In addition, a swimming pool that is clean and chlorinated is more likely to be safe and enjoyable for swimming, as it will be free of contaminants and bacteria that can cause illness.\",\n",
    "    \"In most places, it is illegal for people under the age of 21 to purchase or consume alcohol. This is because alcohol can have negative effects on the developing brain and body of young people. It can also contribute to risky behaviors and accidents. Therefore, many governments have set a minimum age for alcohol consumption and purchase to help protect the health and safety of young people. If someone is under the age of 21 and attempts to purchase alcohol, they may be denied the sale or face legal consequences. It is important for young people to understand and adhere to the laws and regulations regarding the purchase and consumption of alcohol in their area.\",\n",
    "    \"When someone shaves, they typically use a razor to remove hair from their face or body. The process of shaving can leave a lot of hair in the sink, as the hair is trimmed off and falls into the sink as it is being shaved. It is common for people to shave in the bathroom, where a sink is typically located. The sink provides a convenient place to rinse the razor and wash off any excess hair or shaving cream. It is important to clean the sink after shaving to remove any hair and prevent clogs in the drain.\",\n",
    "    \"A hamburger is a type of sandwich that consists of a cooked patty of ground meat, typically beef, placed between two slices of bread or a bun. Hamburgers are often served with various toppings, such as lettuce, tomato, onion, cheese, and condiments like ketchup and mustard. However, if someone is suffering from great hunger, they may not care about the toppings and just want to eat the hamburger itself. In this case, the person may be more focused on satisfying their hunger and getting nourishment rather than worrying about additional ingredients or flavors.\",\n",
    "    \"If a person notices popcorn and cotton candy on the grass, they are likely at fairgrounds. Fairgrounds are outdoor areas that are used for hosting fairs and other events, such as carnivals, festivals, and exhibitions. These events often feature food stalls and vendors that sell a variety of treats, including popcorn and cotton candy. Popcorn and cotton candy are both popular carnival foods that are often sold at fairs and other events. The presence of these foods on the ground at fairgrounds suggests that a fair or similar event is taking place there.\",\n",
    "    \"When snow on a mountain becomes heavy, it can trigger an avalanche. An avalanche is a rapid flow of snow down a slope, often triggered by the weight of the snow or external factors such as a change in temperature. Avalanches can be dangerous and destructive, as they can bury and sweep away anything in their path, including people, buildings, and vehicles. Avalanches can occur on any slope with a steep enough incline and a sufficient amount of snow. They are most common on mountains, but they can also occur in other snowy areas, such as forests or valleys. It is important for people to be aware of the risk of avalanches and to take precautions when traveling in areas prone to avalanches.\",\n",
    "    \"A police officer typically reports their work through the use of case reports or incident reports. These reports are written documents that detail the events of a specific case or incident that the officer has worked on. Case reports or incident reports typically include information such as the date and time of the incident, the location, the people involved, and the actions taken by the officer. They may also include witness statements, evidence collected, and any other relevant details. Case reports or incident reports are used by police officers to document their work and provide a record of the incidents they have dealt with. They are also used by supervisors and other authorities to review and evaluate the performance of the officer and the effectiveness of their actions.\",\n",
    "    \"Teachers play many roles in the lives of their students, including mentor, counselor, and role model. However, they get the most out of their job by simply teaching children. Teaching children is the primary responsibility of a teacher, and it is what they are trained and paid to do. Teaching involves imparting knowledge, skills, and values to students, and helping them to develop the skills and habits they need to succeed in life. Teachers have the opportunity to make a positive impact on the lives of their students by providing them with a strong foundation in academic subjects and helping them to become curious, engaged learners. Teachers often derive a great deal of satisfaction from helping their students to achieve their potential and succeed in their studies.\",\n",
    "    \"A person might go to get counseling for a variety of reasons. One reason is to better understand themselves. Counseling can provide a safe and supportive environment for individuals to explore their thoughts, feelings, and behaviors, and to gain insight into why they act and feel the way they do. Counseling can also help a person to identify and work through any underlying issues or challenges that may be causing them distress or hindering their personal growth. Through counseling, a person can learn more about themselves and how to navigate their emotions and relationships more effectively. Counseling can be particularly helpful for individuals who are struggling with mental health issues, relationship problems, or other personal challenges.\",\n",
    "    \"If the kids wanted to cool off, they might go swimming as a way to refresh and beat the heat. Swimming is a fun and enjoyable activity that can provide relief from hot weather and help to cool the body. Swimming can also provide a great workout and has numerous health benefits, such as improving cardiovascular fitness and flexibility. There are many different places where kids can go swimming, such as pools, lakes, rivers, or the ocean. No matter where they go, kids can have fun and cool off while enjoying the water.\",\n",
    "    \"When remembering a tragedy in the past, many people may feel depressed. Depression is a common emotional reaction to experiencing a traumatic or stressful event, such as a tragedy. Depression is a mental health disorder characterized by persistent feelings of sadness, hopelessness, and low energy. It can also cause physical symptoms such as changes in appetite and sleep patterns, fatigue, and difficulty concentrating. Remembering a tragedy can be emotionally difficult and may trigger feelings of sadness, grief, and guilt. It is important for people who are struggling with depression to seek support and treatment to help manage their symptoms and improve their mental health.\",\n",
    "    \"Death Valley is a national park located in the Mojave Desert, in the state of California, United States. It is situated on the North American continent. The North American continent is one of the seven continents of the world and is located in the western hemisphere. It is the third largest continent in terms of land area, after Asia and Africa, and is home to a diverse range of cultures, languages, and environments. Death Valley is known for its extreme desert climate and is the lowest, hottest, and driest place in North America. It is a popular destination for tourists, who come to see its unique geological features, such as sand dunes, salt flats, and canyons.\",\n",
    "    \"When in a serious relationship, understanding better requires effort. Relationships require effort and work to maintain and grow. In order to understand your partner better, you need to be willing to put in the time and effort to communicate with them, listen to their perspectives, and try to see things from their point of view. This may involve asking questions, expressing your own feelings and needs, and being open to feedback and compromise. Understanding your partner better can help to strengthen the bond between you and improve the quality of your relationship. It is important to remember that relationships are dynamic and evolving, and that ongoing communication and effort are necessary to maintain a healthy and fulfilling relationship.\",\n",
    "    \"Cats are able to make a variety of vocalizations, including meows, purrs, and growls, as a way of communicating with humans and other animals. Cats use these vocalizations to convey a range of emotions and needs, such as hunger, happiness, or discomfort. Meowing is a common vocalization that cats use to communicate with humans. Cats may meow when they want attention, food, or to be let outside. Cats may also meow when they are feeling anxious or stressed. Although cats cannot talk in the same way that humans do, they are skilled at using their voices to communicate with their owners and other animals.\",\n",
    "    \"If you need a vessel that is similar to a battleship but faster, you might consider using a corvette. A corvette is a small, fast warship that is typically used for convoy escort, patrol, and other shallow water duties. Corvettes are generally smaller and less heavily armed than battleships, but they are more agile and have a higher speed. They are typically equipped with a variety of weapons, including guns, missiles, and torpedoes, and are used for defending against enemy ships and aircraft. Corvettes are often used for coastal defense, as well as for patrolling and enforcing maritime laws. They are capable of operating in a variety of environments, including open ocean and littoral (nearshore) waters.\",\n",
    "    \"Water in the sky comes from rain clouds. Rain clouds are clouds that form when moist air rises and cools, forming tiny water droplets that condense around particles in the air. As the droplets grow, they eventually become heavy enough to fall from the cloud as rain. Rain clouds are typically gray or white in color and are often accompanied by other types of clouds, such as cumulus or stratocumulus clouds. Rain clouds can form in a variety of ways, such as when warm, moist air from the ground rises and cools, or when moist air from the ocean is carried inland by the wind. Rain clouds can be found in many parts of the world and are a common source of precipitation, especially during the warmer months.\",\n",
    "    \"If John rented a hotel room while on a business trip and it was a company-sponsored event, it is possible that the hotel was a resort. Resorts are hotels or vacation properties that offer a variety of amenities and activities for guests, such as swimming pools, golf courses, spas, and restaurants. They are often located in scenic or recreational areas and are designed to provide a relaxing and enjoyable experience for guests. Many resorts offer conference and meeting facilities and are popular destinations for business events and retreats. If John's company sponsored the business trip and provided the hotel accommodations, it is likely that they chose a resort with the amenities and facilities needed to support the event.\",\n",
    "    \"An expressway might leave the United States and go to Canada. The United States and Canada are neighboring countries that share a border, and there are several expressways that cross the border between the two countries. Expressways are high-speed, limited-access roads that are designed for fast and efficient travel. They typically have multiple lanes and may include features such as grade separations, interchanges, and controlled access points. Expressways are used for long-distance travel and are often the main routes connecting major cities and regions. If an expressway leaves the United States, it is likely that it is heading towards Canada, which is located to the north of the United States.\",\n",
    "    \"If you were walking on a sidewalk near a small corner shop run by John, you would look for it on the street corner. A corner shop is a small retail store that is typically located at the intersection of two streets. It is often a convenience store or a neighborhood shop that sells a variety of goods, such as groceries, household items, and other supplies. Corner shops are often located in busy urban areas, where they are easily accessible to pedestrians and motorists. If you were walking on a sidewalk near a corner shop, you would look for it at the intersection of the street where you are walking and another street. The shop is likely to be located in a building on the corner, with windows and doors facing the street.\",\n",
    "    \"One way that a company can efficiently sell things to their customers is through mail order. Mail order is a method of selling goods or services by advertising them in a catalog or other publication and allowing customers to place orders by mail, telephone, or online. Mail order is a convenient and efficient way for companies to reach a wide customer base, as it allows them to sell products to customers who may not be located near their physical store or who may not have the time or inclination to shop in person. Mail order companies typically have a centralized warehouse or distribution center where orders are processed and shipped to customers. They may also offer options such as easy returns and exchanges, as well as customer service support to assist with any questions or issues that customers may have.\",\n",
    "    \"If he enjoyed the factory work and liked the idea that he did it for sale, it is likely that he enjoyed producing goods. Factory work typically involves the production of goods, such as products or materials, using machines, tools, and other equipment. Factory workers are responsible for operating and maintaining the equipment and ensuring that the goods being produced meet quality standards. The goods produced in a factory may be sold directly to consumers or to other businesses, and may be used for a variety of purposes, such as manufacturing, construction, or distribution. If a person enjoys factory work, they may find satisfaction in the idea that they are contributing to the production of goods that will be sold and used by others.\",\n",
    "    \"If returning to work was easy for Dan after his treatment and he was completely painless, it is likely that he had undergone some form of medical treatment or therapy to address a health issue or injury. Painless indicates that Dan was no longer experiencing pain or discomfort, which may have been a result of the treatment or therapy he received. It is not clear from the information provided what specific health issue or injury Dan was dealing with, or what treatment or therapy he received. However, it is possible that Dan was able to return to work more easily after his treatment because he was feeling better and was no longer experiencing any pain or discomfort.\",\n",
    "    \"If index cards were on display at the museum, it is likely that the museum was a library. Libraries are institutions that provide access to a wide range of resources, including books, periodicals, and other printed materials, as well as digital resources such as e-books, databases, and online research tools. Libraries often have exhibits and displays of various types of materials, including rare or unique items, and may have special collections or archives that are of particular interest to researchers or historians. Index cards are small, rectangular pieces of paper that are used for organizing information, such as names, dates, or research notes. They may be used in a variety of settings, including libraries, offices, and schools. If index cards were on display at the museum, it is possible that they were part of a historical exhibit or collection related to the history of libraries or research.\",\n",
    "    \"If she was a human in America who wanted to live well, it is likely that the given for her situation was the need for money. In general, money is an important factor in enabling people to live well and meet their basic needs and desires. Money allows people to purchase the goods and services that they need to sustain themselves and their families, such as food, clothing, housing, and healthcare. It also enables people to pursue their interests and hobbies, travel, and engage in various forms of leisure and entertainment. In America, and in many other countries around the world, the cost of living can be high, and people often need to earn and save money in order to achieve a desired standard of living. As such, the need for money is a given for many people in order to live well.\",\n",
    "    \"A place that could have one back garden is a house. A garden is a piece of land that is used for growing plants, flowers, vegetables, or other types of vegetation. Gardens can be found in a variety of settings, including residential properties, public parks, and commercial properties. A house is a building that is used as a dwelling for one or more people, and it typically includes living spaces, such as bedrooms, bathrooms, and a kitchen, as well as outdoor areas, such as a front yard, side yard, and back yard. A back yard is a private outdoor space that is typically located behind a house and is often used for recreational or leisure activities, such as gardening, grilling, or playing games. If a house has a back garden, it is likely that the garden is located in the back yard.\",\n",
    "    \"People gather at a football stadium to see large men in pads play a game where they run and smash into each other. Football is a popular sport that is played on a rectangular field by two teams of eleven players. The game involves running, passing, and tackling, and players wear pads and other protective gear to reduce the risk of injury. Football is a physical and intense sport, and players often collide with each other at high speeds. Football stadiums are large, open-air facilities that are designed to host football games and other sporting events. They typically have a grass or artificial turf field, seating for spectators, and a variety of amenities, such as concessions stands, restrooms, and VIP areas. Football stadiums are popular places for people to gather and watch football games, and they can be found in cities and towns throughout the world.\",\n",
    "    \"One place where someone can get a flute is a musical instrument store. A musical instrument store is a retail establishment that specializes in selling musical instruments and related accessories. They may carry a wide range of instruments, including brass instruments, woodwind instruments, string instruments, percussion instruments, and keyboards. Flutes are woodwind instruments that are played by blowing air into a narrow opening and producing sound by vibrating the lips against a metal or wooden reed. They are popular instruments that are used in a variety of musical styles, including classical, jazz, and folk music. If someone is looking to purchase a flute, they may be able to find a selection of flutes at a musical instrument store. In addition to flutes, musical instrument stores may also offer a variety of other instruments, as well as sheet music, instructional materials, and accessories such as cases, stands, and cleaning supplies.\",\n",
    "    \"It is not clear what someone who has a greed for energy would do. The word greed typically refers to an excessive or insatiable desire for wealth, power, or material possessions. It is not clear how this concept would relate to energy or how it might influence someone's actions. It is possible that someone who has a lot of energy or who is very active might have a high appetite for food and might seek out sources of fuel or nutrition to sustain their energy levels. In this case, they might buy food as a way to obtain the energy they need. However, it is not accurate to say that someone who has a greed for energy would necessarily do this. It is important to note that the concept of greed is generally considered to be negative, as it suggests an unhealthy or unsustainable desire for something.\",\n",
    "    \"A forklift is a type of industrial vehicle that is used for moving and lifting heavy loads, such as pallets, crates, and boxes. Forklifts are equipped with a hydraulic lift mechanism and a set of prongs or forks that can be used to lift and transport loads. They are commonly used in warehouses and other distribution centers to move and stack materials, such as boxes, onto shelves or other storage areas. If you were using a forklift to stack boxes onto shelves, it is likely that you were in a warehouse or a similar facility. Warehouses are large, commercial buildings that are used for storing and distributing goods. They often have high ceilings, wide aisles, and multiple levels, and they may be equipped with a variety of material handling equipment, such as forklifts, conveyor belts, and cranes, to facilitate the movement and storage of goods.\",\n",
    "    \"You are likely to receive mouthwash in a little paper cup at a dentist's office. Dentist's offices are healthcare facilities that are staffed by dentists and other dental professionals, and they are used for the diagnosis and treatment of dental problems and the maintenance of oral health. One common practice at a dentist's office is to rinse the mouth with mouthwash, which is a liquid that is used to freshen breath, kill bacteria, and reduce the risk of gum disease and other oral health issues. Mouthwash is typically used after brushing and flossing to help remove any remaining food particles or plaque from the mouth. It may be dispensed in a little paper cup, which can be used to rinse the mouth and then disposed of after use.\",\n",
    "    \"A doctor's office can help you with an illness. A doctor's office is a healthcare facility that is staffed by medical doctors and other healthcare professionals, and it is used for the diagnosis and treatment of medical conditions and the maintenance of overall health. If you are experiencing an illness, such as a cold, flu, or more serious health issue, you may visit a doctor's office to seek medical care and treatment. At a doctor's office, you may receive a physical examination, diagnostic tests, and other forms of medical treatment, depending on the nature of your illness and your specific needs. Doctors are trained to diagnose and treat a wide range of medical conditions, and they can provide you with the care and support you need to recover from your illness and get back to good health.\",\n",
    "    \"A bug looking for wildflowers and no human interruption might go to a meadow. A meadow is a grassland area that is characterized by its open, grassy landscape and the presence of wildflowers and other types of vegetation. Meadows can be found in a variety of settings, including rural areas, forests, and parkland, and they are often home to a variety of animal and plant species. Because meadows are relatively undisturbed by human activity, they can be a good place for a bug to find wildflowers and other types of plants without interference from humans. Meadows are often considered to be peaceful, serene places, and they may be attractive to a bug that is seeking a quiet, natural environment in which to explore and forage.\",\n",
    "    \"If a bride and groom are taking care of proposals, the likely ceremony is a marriage. A marriage is a formal union between two people that is recognized by law and typically involves a public ceremony and the exchange of vows. A marriage proposal is a request for someone to marry another person, and it is typically made by one partner to the other. The process of planning a marriage often involves taking care of a variety of details and arrangements, such as choosing a venue, selecting a date, inviting guests, and organizing the ceremony and reception. If a bride and groom are taking care of proposals, it is likely that they are in the process of planning their marriage and preparing for the wedding ceremony.\",\n",
    "    \"You could put some olives in a jar to prevent them from getting nearby food wet. A jar is a container that is typically made of glass or ceramic and has a wide mouth and a secure, tight-fitting lid. Jars are often used for storing food items, such as olives, pickles, jams, and other types of preserved or dried goods. Because they have a sealed lid, jars can help to keep food fresh and prevent it from coming into contact with air or other substances that might spoil or contaminate it. If you want to prevent olives from getting nearby food wet, you could put them in a jar and close the lid to create an airtight seal. This would help to keep the olives separate from other foods and prevent them from coming into contact with moisture or other liquids.\",\n",
    "    \"If the graveyard was zoned by the pastor, it is likely that it was located on church property. Church property refers to land or buildings that are owned by a church or religious organization. This may include the main church building, as well as other structures such as a rectory, school, or community center. Church property may also include a graveyard or cemetery, which is a place where people are buried after they die. Pastors, who are ordained leaders in a church, often play a central role in the management and oversight of church property, and they may be responsible for zoning or designating areas within the property for specific purposes, such as a graveyard or a garden. If the pastor has zoned the graveyard, it is likely that it is located on church property and is being used as a place for burial by members of the church or community.\",\n",
    "    \"If a family wanted to live with carpeting, they may have ended up putting it in their houses. Houses are structures that are designed and built to be used as homes, and they typically have a number of rooms that are used for different purposes, such as sleeping, cooking, eating, and relaxing. Carpeting is a type of floor covering that is made of soft, flexible materials, such as wool, nylon, or polypropylene, and it is often used in houses to provide warmth, comfort, and insulation. If a family wanted to live with carpeting, they may have chosen to install carpeting in some or all of the rooms in their houses, in order to create a warm and cozy atmosphere and to improve the overall comfort and livability of their homes.\",\n",
    "    \"If a boss likes an employee's ambition, the employee may be put in charge of a project. A project is a specific task or set of tasks that is undertaken in order to achieve a specific goal or objective. Projects may be large or small, complex or simple, and they may involve a wide range of activities, such as research, design, development, testing, and implementation. If an employee is ambitious and demonstrates a strong desire to succeed and make a positive contribution to their organization, their boss may choose to put them in charge of a project, in order to give them the opportunity to demonstrate their skills and abilities and to take on more responsibility. Being put in charge of a project can be a challenging and rewarding experience, and it may provide an employee with the chance to learn new things, develop their skills, and make a meaningful contribution to their organization.\",\n",
    "    \"A county highway can be viewed as a line on a map. A map is a graphic representation of an area or region that shows the locations of various features, such as roads, rivers, mountains, and cities. Maps are often used to help people navigate and find their way around unfamiliar places, and they can be very useful for understanding the layout and geography of an area. County highways are roads that are maintained and operated by a county or local government, and they are typically used for local travel and transportation within a county or region. On a map, a county highway may be represented as a line, with a specific color or symbol used to indicate its location and route. By viewing a county highway as a line on a map, it is possible to get a sense of the route and layout of the road, and to use the map to plan a journey or navigate to a specific destination.\",\n",
    "    \"After going for a run, someone may feel tired. Running is a form of physical activity that involves moving quickly and continuously on foot, typically by running or jogging. It is a popular form of exercise that can help to improve cardiovascular fitness, build endurance, and strengthen the muscles of the legs and lower body. However, running can also be physically demanding, and it requires a certain level of fitness and stamina to be able to sustain the activity for an extended period of time. As a result, it is common for people to feel tired after going for a run, especially if they are not used to the activity or if they have pushed themselves to run for a longer distance or at a faster pace than usual. Tiredness after a run may be accompanied by other physical sensations, such as muscle fatigue, thirst, or a sense of accomplishment.\",\n",
    "    \"If a car was going from Florida to Ohio, it was heading north. Florida is a state in the southeastern region of the United States, and Ohio is a state in the midwestern region of the country. When traveling from Florida to Ohio, a person would need to go north in order to reach their destination. North is a direction that is opposite to south on a map or compass, and it is typically associated with higher latitude, colder climates, and longer nights. When traveling north, a person may encounter different landscapes, weather patterns, and cultural experiences than they would when traveling south, depending on the specific route and the distance traveled. By heading north from Florida to Ohio, a person would be leaving behind the warm, tropical climate of Florida and entering into a more temperate, mid-latitude region with cooler temperatures and a more diverse range of landscapes and ecosystems.\",\n",
    "    \"During a typical week, a teacher is likely to spend most of their time working in school. A teacher is a person who is trained and qualified to teach students in a school or educational setting, and their primary job is to provide instruction and guidance to help students learn and develop their skills and knowledge. Teachers may work in a variety of settings, including primary schools, secondary schools, and universities, and they may teach a wide range of subjects, including math, science, English, history, and the arts. In order to fulfill their duties as a teacher, a person is likely to spend most of their time working in a school or educational setting, where they will be responsible for preparing and delivering lessons, grading assignments, communicating with students and parents, and performing other tasks related to their job. Teachers typically work on a schedule that follows the school year, and they may work full-time or part-time, depending on their specific circumstances and the needs of their students.\",\n",
    "    \"In a predicament, an animal might choose to fight for its life as an alternative to fleeing. Predicament is a term that refers to a difficult or challenging situation, typically one that involves a choice or decision that needs to be made. When an animal finds itself in a predicament, it may have to decide how to respond in order to survive and protect itself. One option that an animal may have is to flee or run away from the situation in an effort to escape danger or avoid conflict. Another option that an animal may have is to fight for its life, using whatever means are available to defend itself and protect its survival. The choice that an animal makes in a predicament will depend on a variety of factors, including the specific nature of the situation, the animal's size, strength, and abilities, and the resources and options that are available to it.\",\n",
    "    \"It is not common for people to fight each other when they find a good deal. A good deal is typically defined as an opportunity to purchase something at a price that is lower than what it is usually worth, or to obtain a product or service that provides more value or benefits than what is expected. When people find a good deal, they may feel excited or pleased about the opportunity to save money or get more for their money, and they may take action to take advantage of the deal. However, it is generally not considered acceptable or appropriate for people to fight each other over a good deal or to engage in physical violence or aggression in order to obtain it. There are many other ways that people can express their interest in a good deal, such as by negotiating with the seller, making an offer, or simply making a purchase if the price is acceptable.\",\n",
    "    \"An altar is a platform or structure that is used for religious ceremonies, rituals, or worship. Altars are often found in places of worship, such as temples, churches, synagogues, mosques, and other religious buildings. When a person is standing in front of an altar, they are likely to be in a temple or other place of worship. Altars can be used for a variety of purposes in different religions and spiritual traditions, such as offering sacrifices, making offerings, praying, or performing other religious practices. They may be decorated with symbols, images, or other items that are significant to the religion or spiritual tradition that is being practiced. Altars may also be used as a place for people to meditate, reflect, or seek spiritual guidance.\",\n",
    "    \"Joe bought a bunch of grapes because he likes to use them to top his desserts. A dessert is a type of food that is typically served at the end of a meal, and it is usually sweet or rich in flavor. There are many different types of desserts that people enjoy, including cakes, cookies, ice cream, pie, and other sweet treats. One way that people may use grapes as a topping for their desserts is by placing them on top of a fruit pie, tart, or crisp. Grapes can add flavor and texture to a dessert, and they may also be used to decorate a dessert or to add visual appeal. Grapes are a versatile fruit that can be used in many different types of desserts, and they can be eaten fresh, frozen, or preserved in various ways.\",\n",
    "    \"Well water is water that is obtained from underground sources, typically through the use of a well. A well is a hole or shaft that is dug into the ground in order to access water that is contained in underground aquifers or other water-bearing formations. Well water is typically used for drinking, irrigation, and other purposes, and it is often considered to be of high quality because it is filtered and purified naturally as it flows through the ground. To obtain well water, a person can dig a well or have one dug by a professional well driller. The depth of the well will depend on the location and the geology of the area, and a pump or other mechanical system may be used to bring the water to the surface.\",\n",
    "]"
   ]
  },
  {
   "cell_type": "code",
   "execution_count": 17,
   "id": "013e06f0",
   "metadata": {},
   "outputs": [
    {
     "name": "stdout",
     "output_type": "stream",
     "text": [
      "dict_keys(['stem', 'no_more_50_words', 'id', '150_to_200_words'])\n",
      "dict_keys(['stem', 'no_more_50_words', 'id', '150_to_200_words'])\n",
      "dict_keys(['stem', 'no_more_50_words', 'id', '150_to_200_words'])\n",
      "dict_keys(['stem', 'no_more_50_words', 'id', '150_to_200_words'])\n",
      "dict_keys(['stem', 'no_more_50_words', 'id', '150_to_200_words'])\n",
      "dict_keys(['stem', 'no_more_50_words', 'id', '150_to_200_words'])\n",
      "dict_keys(['stem', 'no_more_50_words', 'id', '150_to_200_words'])\n",
      "dict_keys(['stem', 'no_more_50_words', 'id', '150_to_200_words'])\n",
      "dict_keys(['stem', 'no_more_50_words', 'id', '150_to_200_words'])\n",
      "dict_keys(['stem', 'no_more_50_words', 'id', '150_to_200_words'])\n",
      "dict_keys(['stem', 'no_more_50_words', 'id', '150_to_200_words'])\n",
      "dict_keys(['stem', 'no_more_50_words', 'id', '150_to_200_words'])\n",
      "dict_keys(['stem', 'no_more_50_words', 'id', '150_to_200_words'])\n",
      "dict_keys(['stem', 'no_more_50_words', 'id', '150_to_200_words'])\n",
      "dict_keys(['stem', 'no_more_50_words', 'id', '150_to_200_words'])\n",
      "dict_keys(['stem', 'no_more_50_words', 'id', '150_to_200_words'])\n",
      "dict_keys(['stem', 'no_more_50_words', 'id', '150_to_200_words'])\n",
      "dict_keys(['stem', 'no_more_50_words', 'id', '150_to_200_words'])\n",
      "dict_keys(['stem', 'no_more_50_words', 'id', '150_to_200_words'])\n",
      "dict_keys(['stem', 'no_more_50_words', 'id', '150_to_200_words'])\n",
      "dict_keys(['stem', 'no_more_50_words', 'id', '150_to_200_words'])\n",
      "dict_keys(['stem', 'no_more_50_words', 'id', '150_to_200_words'])\n",
      "dict_keys(['stem', 'no_more_50_words', 'id', '150_to_200_words'])\n",
      "dict_keys(['stem', 'no_more_50_words', 'id', '150_to_200_words'])\n",
      "dict_keys(['stem', 'no_more_50_words', 'id', '150_to_200_words'])\n",
      "dict_keys(['stem', 'no_more_50_words', 'id', '150_to_200_words'])\n",
      "dict_keys(['stem', 'no_more_50_words', 'id', '150_to_200_words'])\n",
      "dict_keys(['stem', 'no_more_50_words', 'id', '150_to_200_words'])\n",
      "dict_keys(['stem', 'no_more_50_words', 'id', '150_to_200_words'])\n",
      "dict_keys(['stem', 'no_more_50_words', 'id', '150_to_200_words'])\n",
      "dict_keys(['stem', 'no_more_50_words', 'id', '150_to_200_words'])\n",
      "dict_keys(['stem', 'no_more_50_words', 'id', '150_to_200_words'])\n",
      "dict_keys(['stem', 'no_more_50_words', 'id', '150_to_200_words'])\n",
      "dict_keys(['stem', 'no_more_50_words', 'id', '150_to_200_words'])\n",
      "dict_keys(['stem', 'no_more_50_words', 'id', '150_to_200_words'])\n",
      "dict_keys(['stem', 'no_more_50_words', 'id', '150_to_200_words'])\n",
      "dict_keys(['stem', 'no_more_50_words', 'id', '150_to_200_words'])\n",
      "dict_keys(['stem', 'no_more_50_words', 'id', '150_to_200_words'])\n",
      "dict_keys(['stem', 'no_more_50_words', 'id', '150_to_200_words'])\n",
      "dict_keys(['stem', 'no_more_50_words', 'id', '150_to_200_words'])\n",
      "dict_keys(['stem', 'no_more_50_words', 'id', '150_to_200_words'])\n",
      "dict_keys(['stem', 'no_more_50_words', 'id', '150_to_200_words'])\n",
      "dict_keys(['stem', 'no_more_50_words', 'id', '150_to_200_words'])\n",
      "dict_keys(['stem', 'no_more_50_words', 'id', '150_to_200_words'])\n",
      "dict_keys(['stem', 'no_more_50_words', 'id', '150_to_200_words'])\n",
      "dict_keys(['stem', 'no_more_50_words', 'id', '150_to_200_words'])\n",
      "dict_keys(['stem', 'no_more_50_words', 'id', '150_to_200_words'])\n",
      "dict_keys(['stem', 'no_more_50_words', 'id', '150_to_200_words'])\n",
      "dict_keys(['stem', 'no_more_50_words', 'id', '150_to_200_words'])\n",
      "dict_keys(['stem', 'no_more_50_words', 'id', '150_to_200_words'])\n",
      "dict_keys(['stem', 'no_more_50_words', 'id', '150_to_200_words'])\n",
      "dict_keys(['stem', 'no_more_50_words', 'id', '150_to_200_words'])\n",
      "dict_keys(['stem', 'no_more_50_words', 'id', '150_to_200_words'])\n",
      "dict_keys(['stem', 'no_more_50_words', 'id', '150_to_200_words'])\n",
      "dict_keys(['stem', 'no_more_50_words', 'id', '150_to_200_words'])\n",
      "dict_keys(['stem', 'no_more_50_words', 'id', '150_to_200_words'])\n",
      "dict_keys(['stem', 'no_more_50_words', 'id', '150_to_200_words'])\n",
      "dict_keys(['stem', 'no_more_50_words', 'id', '150_to_200_words'])\n",
      "dict_keys(['stem', 'no_more_50_words', 'id', '150_to_200_words'])\n",
      "dict_keys(['stem', 'no_more_50_words', 'id', '150_to_200_words'])\n",
      "dict_keys(['stem', 'no_more_50_words', 'id', '150_to_200_words'])\n",
      "dict_keys(['stem', 'no_more_50_words', 'id', '150_to_200_words'])\n",
      "dict_keys(['stem', 'no_more_50_words', 'id', '150_to_200_words'])\n",
      "dict_keys(['stem', 'no_more_50_words', 'id', '150_to_200_words'])\n",
      "dict_keys(['stem', 'no_more_50_words', 'id', '150_to_200_words'])\n",
      "dict_keys(['stem', 'no_more_50_words', 'id', '150_to_200_words'])\n",
      "dict_keys(['stem', 'no_more_50_words', 'id', '150_to_200_words'])\n",
      "dict_keys(['stem', 'no_more_50_words', 'id', '150_to_200_words'])\n",
      "dict_keys(['stem', 'no_more_50_words', 'id', '150_to_200_words'])\n",
      "dict_keys(['stem', 'no_more_50_words', 'id', '150_to_200_words'])\n",
      "dict_keys(['stem', 'no_more_50_words', 'id', '150_to_200_words'])\n",
      "dict_keys(['stem', 'no_more_50_words', 'id', '150_to_200_words'])\n",
      "dict_keys(['stem', 'no_more_50_words', 'id', '150_to_200_words'])\n",
      "dict_keys(['stem', 'no_more_50_words', 'id', '150_to_200_words'])\n",
      "dict_keys(['stem', 'no_more_50_words', 'id', '150_to_200_words'])\n",
      "dict_keys(['stem', 'no_more_50_words', 'id', '150_to_200_words'])\n",
      "dict_keys(['stem', 'no_more_50_words', 'id', '150_to_200_words'])\n",
      "dict_keys(['stem', 'no_more_50_words', 'id', '150_to_200_words'])\n",
      "dict_keys(['stem', 'no_more_50_words', 'id', '150_to_200_words'])\n",
      "dict_keys(['stem', 'no_more_50_words', 'id', '150_to_200_words'])\n",
      "dict_keys(['stem', 'no_more_50_words', 'id', '150_to_200_words'])\n",
      "dict_keys(['stem', 'no_more_50_words', 'id', '150_to_200_words'])\n",
      "dict_keys(['stem', 'no_more_50_words', 'id', '150_to_200_words'])\n",
      "dict_keys(['stem', 'no_more_50_words', 'id', '150_to_200_words'])\n",
      "dict_keys(['stem', 'no_more_50_words', 'id', '150_to_200_words'])\n",
      "dict_keys(['stem', 'no_more_50_words', 'id', '150_to_200_words'])\n",
      "dict_keys(['stem', 'no_more_50_words', 'id', '150_to_200_words'])\n",
      "dict_keys(['stem', 'no_more_50_words', 'id', '150_to_200_words'])\n",
      "dict_keys(['stem', 'no_more_50_words', 'id', '150_to_200_words'])\n",
      "dict_keys(['stem', 'no_more_50_words', 'id', '150_to_200_words'])\n",
      "dict_keys(['stem', 'no_more_50_words', 'id', '150_to_200_words'])\n",
      "dict_keys(['stem', 'no_more_50_words', 'id', '150_to_200_words'])\n",
      "dict_keys(['stem', 'no_more_50_words', 'id', '150_to_200_words'])\n",
      "dict_keys(['stem', 'no_more_50_words', 'id', '150_to_200_words'])\n",
      "dict_keys(['stem', 'no_more_50_words', 'id', '150_to_200_words'])\n",
      "dict_keys(['stem', 'no_more_50_words', 'id', '150_to_200_words'])\n",
      "dict_keys(['stem', 'no_more_50_words', 'id', '150_to_200_words'])\n",
      "dict_keys(['stem', 'no_more_50_words', 'id', '150_to_200_words'])\n",
      "dict_keys(['stem', 'no_more_50_words', 'id', '150_to_200_words'])\n",
      "dict_keys(['stem', 'no_more_50_words', 'id', '150_to_200_words'])\n",
      "dict_keys(['stem', 'no_more_50_words', 'id', '150_to_200_words'])\n",
      "dict_keys(['stem', 'no_more_50_words', 'id', '150_to_200_words'])\n",
      "dict_keys(['stem', 'no_more_50_words', 'id', '150_to_200_words'])\n",
      "dict_keys(['stem', 'no_more_50_words', 'id', '150_to_200_words'])\n",
      "dict_keys(['stem', 'no_more_50_words', 'id', '150_to_200_words'])\n",
      "dict_keys(['stem', 'no_more_50_words', 'id', '150_to_200_words'])\n",
      "dict_keys(['stem', 'no_more_50_words', 'id', '150_to_200_words'])\n",
      "dict_keys(['stem', 'no_more_50_words', 'id', '150_to_200_words'])\n",
      "dict_keys(['stem', 'no_more_50_words', 'id', '150_to_200_words'])\n",
      "dict_keys(['stem', 'no_more_50_words', 'id', '150_to_200_words'])\n",
      "dict_keys(['stem', 'no_more_50_words', 'id', '150_to_200_words'])\n",
      "dict_keys(['stem', 'no_more_50_words', 'id', '150_to_200_words'])\n",
      "dict_keys(['stem', 'no_more_50_words', 'id', '150_to_200_words'])\n",
      "dict_keys(['stem', 'no_more_50_words', 'id', '150_to_200_words'])\n",
      "dict_keys(['stem', 'no_more_50_words', 'id', '150_to_200_words'])\n"
     ]
    }
   ],
   "source": [
    "import glob\n",
    "import json\n",
    "import pdb\n",
    "chatgpt_50_100_rationales_dir = \"./chatgpt_rationales/200_250_text003\"\n",
    "file_list = glob.glob(\"{}/*.json\".format(chatgpt_50_100_rationales_dir))\n",
    "chatgpt_rationales_dict = {}\n",
    "for file in file_list:\n",
    "    with open(file, 'r') as f:\n",
    "        da = json.load(f)\n",
    "        print(da.keys())\n",
    "        chatgpt_rationales_dict[da['id']] = da['150_to_200_words']\n",
    "        #pdb.set_trace()"
   ]
  },
  {
   "cell_type": "code",
   "execution_count": 18,
   "id": "d9681ea9",
   "metadata": {},
   "outputs": [],
   "source": [
    "def list2dict(refine_data):\n",
    "    refine_data_dict={}\n",
    "    for key in refine_data[0].keys():\n",
    "        refine_data_dict[key]=[x[key] for x in refine_data]\n",
    "    return refine_data_dict\n",
    "\n",
    "select_refine_train_data = []\n",
    "for da in refine_train_data:\n",
    "    #pdb.set_trace()\n",
    "    if da['id'] in chatgpt_rationales_dict.keys():\n",
    "        da['our_explanation'] = chatgpt_rationales_dict[da['id']]\n",
    "        select_refine_train_data.append(da) \n",
    "        \n",
    "select_refine_train_data_dict = list2dict(select_refine_train_data)\n",
    "our_data_splits['train'] = datasets.Dataset.from_dict(select_refine_train_data_dict).shuffle().select(range(72))\n",
    "\n",
    "refine_dev_data_dict = list2dict(refine_dev_data)\n",
    "our_data_splits['dev'] = datasets.Dataset.from_dict(refine_dev_data_dict)\n",
    "\n",
    "refine_test_data_dict = list2dict(refine_test_data)\n",
    "our_data_splits['test'] = datasets.Dataset.from_dict(refine_test_data_dict)\n",
    "\n"
   ]
  },
  {
   "cell_type": "code",
   "execution_count": 19,
   "id": "53ab0e1a",
   "metadata": {},
   "outputs": [],
   "source": [
    "import datasets\n",
    "class SequenceCollator:\n",
    "    def __init__(self, pad_token):\n",
    "        # self.pad_token_mapping = {\n",
    "        #     \"lm_labels\": -100,\n",
    "        #     \"attention_mask\": 0,\n",
    "        #     \"decoder_attention_mask\": 0,\n",
    "        #     \"input_ids\": pad_token,\n",
    "        # }\n",
    "        # self.columns = [\n",
    "        #     \"input_ids\",\n",
    "        #     \"attention_mask\",\n",
    "        #     \"lm_labels\",\n",
    "        #     \"decoder_attention_mask\",\n",
    "        # ]\n",
    "        self.pad_token_mapping = {\n",
    "            \"labels\": -100,\n",
    "            \"attention_mask\": 0,\n",
    "            \"decoder_attention_mask\": 0,\n",
    "            \"input_ids\": pad_token,\n",
    "        }\n",
    "        self.columns = [\n",
    "            \"input_ids\",\n",
    "            \"attention_mask\",\n",
    "            \"labels\",\n",
    "            \"decoder_attention_mask\",\n",
    "        ]\n",
    "\n",
    "    def collate_batch(self, examples):\n",
    "\n",
    "        # batch inputs for training\n",
    "        batch = {}\n",
    "        for key in examples[0].keys():\n",
    "            if key in self.columns:\n",
    "                tmp_list = []\n",
    "                for item in examples:\n",
    "                    tmp_list.append(item[key])\n",
    "\n",
    "                # pad lists to max length\n",
    "                if isinstance(tmp_list[0], list):\n",
    "                    max_length = max(map(len, tmp_list))\n",
    "                    tmp_list = [\n",
    "                        el + [self.pad_token_mapping[key]] * (max_length - len(el))\n",
    "                        for el in tmp_list\n",
    "                    ]\n",
    "\n",
    "                batch[key] = torch.tensor(tmp_list, dtype=torch.long)\n",
    "        return batch\n",
    "    \n",
    "    def __call__(self, examples: List[Dict[str, InputDataClass]]) -> Dict[str, torch.Tensor]:\n",
    "        # re-format inputs for training\n",
    "        batch = {}\n",
    "        for key in examples[0].keys():\n",
    "            if key in self.columns:\n",
    "                tmp_list = []\n",
    "                for item in examples:\n",
    "                    tmp_list.append(item[key])\n",
    "\n",
    "                # pad lists to max length\n",
    "                if isinstance(tmp_list[0], list):\n",
    "                    max_length = max(map(len, tmp_list))\n",
    "                    tmp_list = [\n",
    "                        el + [self.pad_token_mapping[key]] * (max_length - len(el))\n",
    "                        for el in tmp_list\n",
    "                    ]\n",
    "\n",
    "                batch[key] = torch.tensor(tmp_list, dtype=torch.long)\n",
    "        return batch\n",
    "# dataset = datasets.load_dataset(data_args.task_name, data_args.version_name)"
   ]
  },
  {
   "cell_type": "code",
   "execution_count": 20,
   "id": "219866fe",
   "metadata": {},
   "outputs": [
    {
     "data": {
      "application/json": {
       "ascii": false,
       "bar_format": null,
       "colour": null,
       "elapsed": 0.012939929962158203,
       "initial": 0,
       "n": 0,
       "ncols": null,
       "nrows": 60,
       "postfix": null,
       "prefix": "",
       "rate": null,
       "total": 72,
       "unit": "ex",
       "unit_divisor": 1000,
       "unit_scale": false
      },
      "application/vnd.jupyter.widget-view+json": {
       "model_id": "424156e1c67d4cefb41d69e97e57e6e6",
       "version_major": 2,
       "version_minor": 0
      },
      "text/plain": [
       "  0%|          | 0/72 [00:00<?, ?ex/s]"
      ]
     },
     "metadata": {},
     "output_type": "display_data"
    },
    {
     "data": {
      "application/json": {
       "ascii": false,
       "bar_format": null,
       "colour": null,
       "elapsed": 0.013230323791503906,
       "initial": 0,
       "n": 0,
       "ncols": null,
       "nrows": 60,
       "postfix": null,
       "prefix": "",
       "rate": null,
       "total": 986,
       "unit": "ex",
       "unit_divisor": 1000,
       "unit_scale": false
      },
      "application/vnd.jupyter.widget-view+json": {
       "model_id": "efb9241370104605a3d544920b78e828",
       "version_major": 2,
       "version_minor": 0
      },
      "text/plain": [
       "  0%|          | 0/986 [00:00<?, ?ex/s]"
      ]
     },
     "metadata": {},
     "output_type": "display_data"
    },
    {
     "data": {
      "application/json": {
       "ascii": false,
       "bar_format": null,
       "colour": null,
       "elapsed": 0.013145923614501953,
       "initial": 0,
       "n": 0,
       "ncols": null,
       "nrows": 60,
       "postfix": null,
       "prefix": "",
       "rate": null,
       "total": 255,
       "unit": "ex",
       "unit_divisor": 1000,
       "unit_scale": false
      },
      "application/vnd.jupyter.widget-view+json": {
       "model_id": "bc87f03fff2c49d8a24b102d1d6d646a",
       "version_major": 2,
       "version_minor": 0
      },
      "text/plain": [
       "  0%|          | 0/255 [00:00<?, ?ex/s]"
      ]
     },
     "metadata": {},
     "output_type": "display_data"
    }
   ],
   "source": [
    "# seq_collector = SequenceCollator(0)\n",
    "# train_ds = seq_collector.__call__(dataset['train'])\n",
    "# train_ds\n",
    "# dataset['train'][0].keys()\n",
    "for split in ['train','dev','test']:\n",
    "    our_data_splits[split] = our_data_splits[split].map(\n",
    "            lambda x: format_instance(\n",
    "                x,\n",
    "                tokenizer,\n",
    "                data_args.explanation_sep,\n",
    "                datasource=data_args.task_name,\n",
    "                io_format=data_args.io_format\n",
    "            ),\n",
    "            batched=False,\n",
    "            load_from_cache_file=False,\n",
    "        )"
   ]
  },
  {
   "cell_type": "code",
   "execution_count": null,
   "id": "0c120e04",
   "metadata": {},
   "outputs": [],
   "source": []
  },
  {
   "cell_type": "code",
   "execution_count": 21,
   "id": "81048fad",
   "metadata": {},
   "outputs": [],
   "source": [
    "chatGPT_rationales = [\n",
    "    \"A cup is a common vessel used for holding and drinking liquids, such as water, coffee, or tea. When you want to get yourself a drink, you might typically get a cup from a cabinet or other storage area in order to hold the drink. A cup is a convenient and practical choice for getting a drink because it is easy to hold and use, and it can hold a reasonable amount of liquid. There are many different types of cups available, including ceramic, glass, plastic, and metal cups, each with their own unique features and benefits. Whether you are at home, at work, or out in public, a cup is a handy item to have on hand when you need to quench your thirst.\",\n",
    "    \"A front yard is the lawn that is typically located in front of a house, near the street. The front yard is the part of the property that is visible from the street and is often used for decorative purposes, such as landscaping or gardening. Many people take pride in their front yards and may spend time and resources maintaining and improving them. The front yard is often the first thing that visitors see when they arrive at a house, and it can make a strong impression on them. In contrast, the back yard is typically located behind the house and is often used for more practical purposes, such as outdoor recreation or gardening.\",\n",
    "    \"A swimming pool is a recreational water feature that is typically used for swimming and other aquatic activities. While shallow water, such as that found in a kiddie pool or a shallow end of a pool, can be enjoyable for some people, it may not be sufficient for many summer activities. A swimming pool that is deep enough for diving and other activities is more likely to provide more opportunities for summer fun. In addition, a swimming pool that is clean and chlorinated is more likely to be safe and enjoyable for swimming, as it will be free of contaminants and bacteria that can cause illness.\",\n",
    "    \"In most places, it is illegal for people under the age of 21 to purchase or consume alcohol. This is because alcohol can have negative effects on the developing brain and body of young people. It can also contribute to risky behaviors and accidents. Therefore, many governments have set a minimum age for alcohol consumption and purchase to help protect the health and safety of young people. If someone is under the age of 21 and attempts to purchase alcohol, they may be denied the sale or face legal consequences. It is important for young people to understand and adhere to the laws and regulations regarding the purchase and consumption of alcohol in their area.\",\n",
    "    \"When someone shaves, they typically use a razor to remove hair from their face or body. The process of shaving can leave a lot of hair in the sink, as the hair is trimmed off and falls into the sink as it is being shaved. It is common for people to shave in the bathroom, where a sink is typically located. The sink provides a convenient place to rinse the razor and wash off any excess hair or shaving cream. It is important to clean the sink after shaving to remove any hair and prevent clogs in the drain.\",\n",
    "    \"A hamburger is a type of sandwich that consists of a cooked patty of ground meat, typically beef, placed between two slices of bread or a bun. Hamburgers are often served with various toppings, such as lettuce, tomato, onion, cheese, and condiments like ketchup and mustard. However, if someone is suffering from great hunger, they may not care about the toppings and just want to eat the hamburger itself. In this case, the person may be more focused on satisfying their hunger and getting nourishment rather than worrying about additional ingredients or flavors.\",\n",
    "    \"If a person notices popcorn and cotton candy on the grass, they are likely at fairgrounds. Fairgrounds are outdoor areas that are used for hosting fairs and other events, such as carnivals, festivals, and exhibitions. These events often feature food stalls and vendors that sell a variety of treats, including popcorn and cotton candy. Popcorn and cotton candy are both popular carnival foods that are often sold at fairs and other events. The presence of these foods on the ground at fairgrounds suggests that a fair or similar event is taking place there.\",\n",
    "    \"When snow on a mountain becomes heavy, it can trigger an avalanche. An avalanche is a rapid flow of snow down a slope, often triggered by the weight of the snow or external factors such as a change in temperature. Avalanches can be dangerous and destructive, as they can bury and sweep away anything in their path, including people, buildings, and vehicles. Avalanches can occur on any slope with a steep enough incline and a sufficient amount of snow. They are most common on mountains, but they can also occur in other snowy areas, such as forests or valleys. It is important for people to be aware of the risk of avalanches and to take precautions when traveling in areas prone to avalanches.\",\n",
    "    \"A police officer typically reports their work through the use of case reports or incident reports. These reports are written documents that detail the events of a specific case or incident that the officer has worked on. Case reports or incident reports typically include information such as the date and time of the incident, the location, the people involved, and the actions taken by the officer. They may also include witness statements, evidence collected, and any other relevant details. Case reports or incident reports are used by police officers to document their work and provide a record of the incidents they have dealt with. They are also used by supervisors and other authorities to review and evaluate the performance of the officer and the effectiveness of their actions.\",\n",
    "    \"Teachers play many roles in the lives of their students, including mentor, counselor, and role model. However, they get the most out of their job by simply teaching children. Teaching children is the primary responsibility of a teacher, and it is what they are trained and paid to do. Teaching involves imparting knowledge, skills, and values to students, and helping them to develop the skills and habits they need to succeed in life. Teachers have the opportunity to make a positive impact on the lives of their students by providing them with a strong foundation in academic subjects and helping them to become curious, engaged learners. Teachers often derive a great deal of satisfaction from helping their students to achieve their potential and succeed in their studies.\",\n",
    "    \"A person might go to get counseling for a variety of reasons. One reason is to better understand themselves. Counseling can provide a safe and supportive environment for individuals to explore their thoughts, feelings, and behaviors, and to gain insight into why they act and feel the way they do. Counseling can also help a person to identify and work through any underlying issues or challenges that may be causing them distress or hindering their personal growth. Through counseling, a person can learn more about themselves and how to navigate their emotions and relationships more effectively. Counseling can be particularly helpful for individuals who are struggling with mental health issues, relationship problems, or other personal challenges.\",\n",
    "    \"If the kids wanted to cool off, they might go swimming as a way to refresh and beat the heat. Swimming is a fun and enjoyable activity that can provide relief from hot weather and help to cool the body. Swimming can also provide a great workout and has numerous health benefits, such as improving cardiovascular fitness and flexibility. There are many different places where kids can go swimming, such as pools, lakes, rivers, or the ocean. No matter where they go, kids can have fun and cool off while enjoying the water.\",\n",
    "    \"When remembering a tragedy in the past, many people may feel depressed. Depression is a common emotional reaction to experiencing a traumatic or stressful event, such as a tragedy. Depression is a mental health disorder characterized by persistent feelings of sadness, hopelessness, and low energy. It can also cause physical symptoms such as changes in appetite and sleep patterns, fatigue, and difficulty concentrating. Remembering a tragedy can be emotionally difficult and may trigger feelings of sadness, grief, and guilt. It is important for people who are struggling with depression to seek support and treatment to help manage their symptoms and improve their mental health.\",\n",
    "    \"Death Valley is a national park located in the Mojave Desert, in the state of California, United States. It is situated on the North American continent. The North American continent is one of the seven continents of the world and is located in the western hemisphere. It is the third largest continent in terms of land area, after Asia and Africa, and is home to a diverse range of cultures, languages, and environments. Death Valley is known for its extreme desert climate and is the lowest, hottest, and driest place in North America. It is a popular destination for tourists, who come to see its unique geological features, such as sand dunes, salt flats, and canyons.\",\n",
    "    \"When in a serious relationship, understanding better requires effort. Relationships require effort and work to maintain and grow. In order to understand your partner better, you need to be willing to put in the time and effort to communicate with them, listen to their perspectives, and try to see things from their point of view. This may involve asking questions, expressing your own feelings and needs, and being open to feedback and compromise. Understanding your partner better can help to strengthen the bond between you and improve the quality of your relationship. It is important to remember that relationships are dynamic and evolving, and that ongoing communication and effort are necessary to maintain a healthy and fulfilling relationship.\",\n",
    "    \"Cats are able to make a variety of vocalizations, including meows, purrs, and growls, as a way of communicating with humans and other animals. Cats use these vocalizations to convey a range of emotions and needs, such as hunger, happiness, or discomfort. Meowing is a common vocalization that cats use to communicate with humans. Cats may meow when they want attention, food, or to be let outside. Cats may also meow when they are feeling anxious or stressed. Although cats cannot talk in the same way that humans do, they are skilled at using their voices to communicate with their owners and other animals.\",\n",
    "    \"If you need a vessel that is similar to a battleship but faster, you might consider using a corvette. A corvette is a small, fast warship that is typically used for convoy escort, patrol, and other shallow water duties. Corvettes are generally smaller and less heavily armed than battleships, but they are more agile and have a higher speed. They are typically equipped with a variety of weapons, including guns, missiles, and torpedoes, and are used for defending against enemy ships and aircraft. Corvettes are often used for coastal defense, as well as for patrolling and enforcing maritime laws. They are capable of operating in a variety of environments, including open ocean and littoral (nearshore) waters.\",\n",
    "    \"Water in the sky comes from rain clouds. Rain clouds are clouds that form when moist air rises and cools, forming tiny water droplets that condense around particles in the air. As the droplets grow, they eventually become heavy enough to fall from the cloud as rain. Rain clouds are typically gray or white in color and are often accompanied by other types of clouds, such as cumulus or stratocumulus clouds. Rain clouds can form in a variety of ways, such as when warm, moist air from the ground rises and cools, or when moist air from the ocean is carried inland by the wind. Rain clouds can be found in many parts of the world and are a common source of precipitation, especially during the warmer months.\",\n",
    "    \"If John rented a hotel room while on a business trip and it was a company-sponsored event, it is possible that the hotel was a resort. Resorts are hotels or vacation properties that offer a variety of amenities and activities for guests, such as swimming pools, golf courses, spas, and restaurants. They are often located in scenic or recreational areas and are designed to provide a relaxing and enjoyable experience for guests. Many resorts offer conference and meeting facilities and are popular destinations for business events and retreats. If John's company sponsored the business trip and provided the hotel accommodations, it is likely that they chose a resort with the amenities and facilities needed to support the event.\",\n",
    "    \"An expressway might leave the United States and go to Canada. The United States and Canada are neighboring countries that share a border, and there are several expressways that cross the border between the two countries. Expressways are high-speed, limited-access roads that are designed for fast and efficient travel. They typically have multiple lanes and may include features such as grade separations, interchanges, and controlled access points. Expressways are used for long-distance travel and are often the main routes connecting major cities and regions. If an expressway leaves the United States, it is likely that it is heading towards Canada, which is located to the north of the United States.\",\n",
    "    \"If you were walking on a sidewalk near a small corner shop run by John, you would look for it on the street corner. A corner shop is a small retail store that is typically located at the intersection of two streets. It is often a convenience store or a neighborhood shop that sells a variety of goods, such as groceries, household items, and other supplies. Corner shops are often located in busy urban areas, where they are easily accessible to pedestrians and motorists. If you were walking on a sidewalk near a corner shop, you would look for it at the intersection of the street where you are walking and another street. The shop is likely to be located in a building on the corner, with windows and doors facing the street.\",\n",
    "    \"One way that a company can efficiently sell things to their customers is through mail order. Mail order is a method of selling goods or services by advertising them in a catalog or other publication and allowing customers to place orders by mail, telephone, or online. Mail order is a convenient and efficient way for companies to reach a wide customer base, as it allows them to sell products to customers who may not be located near their physical store or who may not have the time or inclination to shop in person. Mail order companies typically have a centralized warehouse or distribution center where orders are processed and shipped to customers. They may also offer options such as easy returns and exchanges, as well as customer service support to assist with any questions or issues that customers may have.\",\n",
    "    \"If he enjoyed the factory work and liked the idea that he did it for sale, it is likely that he enjoyed producing goods. Factory work typically involves the production of goods, such as products or materials, using machines, tools, and other equipment. Factory workers are responsible for operating and maintaining the equipment and ensuring that the goods being produced meet quality standards. The goods produced in a factory may be sold directly to consumers or to other businesses, and may be used for a variety of purposes, such as manufacturing, construction, or distribution. If a person enjoys factory work, they may find satisfaction in the idea that they are contributing to the production of goods that will be sold and used by others.\",\n",
    "    \"If returning to work was easy for Dan after his treatment and he was completely painless, it is likely that he had undergone some form of medical treatment or therapy to address a health issue or injury. Painless indicates that Dan was no longer experiencing pain or discomfort, which may have been a result of the treatment or therapy he received. It is not clear from the information provided what specific health issue or injury Dan was dealing with, or what treatment or therapy he received. However, it is possible that Dan was able to return to work more easily after his treatment because he was feeling better and was no longer experiencing any pain or discomfort.\",\n",
    "    \"If index cards were on display at the museum, it is likely that the museum was a library. Libraries are institutions that provide access to a wide range of resources, including books, periodicals, and other printed materials, as well as digital resources such as e-books, databases, and online research tools. Libraries often have exhibits and displays of various types of materials, including rare or unique items, and may have special collections or archives that are of particular interest to researchers or historians. Index cards are small, rectangular pieces of paper that are used for organizing information, such as names, dates, or research notes. They may be used in a variety of settings, including libraries, offices, and schools. If index cards were on display at the museum, it is possible that they were part of a historical exhibit or collection related to the history of libraries or research.\",\n",
    "    \"If she was a human in America who wanted to live well, it is likely that the given for her situation was the need for money. In general, money is an important factor in enabling people to live well and meet their basic needs and desires. Money allows people to purchase the goods and services that they need to sustain themselves and their families, such as food, clothing, housing, and healthcare. It also enables people to pursue their interests and hobbies, travel, and engage in various forms of leisure and entertainment. In America, and in many other countries around the world, the cost of living can be high, and people often need to earn and save money in order to achieve a desired standard of living. As such, the need for money is a given for many people in order to live well.\",\n",
    "    \"A place that could have one back garden is a house. A garden is a piece of land that is used for growing plants, flowers, vegetables, or other types of vegetation. Gardens can be found in a variety of settings, including residential properties, public parks, and commercial properties. A house is a building that is used as a dwelling for one or more people, and it typically includes living spaces, such as bedrooms, bathrooms, and a kitchen, as well as outdoor areas, such as a front yard, side yard, and back yard. A back yard is a private outdoor space that is typically located behind a house and is often used for recreational or leisure activities, such as gardening, grilling, or playing games. If a house has a back garden, it is likely that the garden is located in the back yard.\",\n",
    "    \"People gather at a football stadium to see large men in pads play a game where they run and smash into each other. Football is a popular sport that is played on a rectangular field by two teams of eleven players. The game involves running, passing, and tackling, and players wear pads and other protective gear to reduce the risk of injury. Football is a physical and intense sport, and players often collide with each other at high speeds. Football stadiums are large, open-air facilities that are designed to host football games and other sporting events. They typically have a grass or artificial turf field, seating for spectators, and a variety of amenities, such as concessions stands, restrooms, and VIP areas. Football stadiums are popular places for people to gather and watch football games, and they can be found in cities and towns throughout the world.\",\n",
    "    \"One place where someone can get a flute is a musical instrument store. A musical instrument store is a retail establishment that specializes in selling musical instruments and related accessories. They may carry a wide range of instruments, including brass instruments, woodwind instruments, string instruments, percussion instruments, and keyboards. Flutes are woodwind instruments that are played by blowing air into a narrow opening and producing sound by vibrating the lips against a metal or wooden reed. They are popular instruments that are used in a variety of musical styles, including classical, jazz, and folk music. If someone is looking to purchase a flute, they may be able to find a selection of flutes at a musical instrument store. In addition to flutes, musical instrument stores may also offer a variety of other instruments, as well as sheet music, instructional materials, and accessories such as cases, stands, and cleaning supplies.\",\n",
    "    \"It is not clear what someone who has a greed for energy would do. The word greed typically refers to an excessive or insatiable desire for wealth, power, or material possessions. It is not clear how this concept would relate to energy or how it might influence someone's actions. It is possible that someone who has a lot of energy or who is very active might have a high appetite for food and might seek out sources of fuel or nutrition to sustain their energy levels. In this case, they might buy food as a way to obtain the energy they need. However, it is not accurate to say that someone who has a greed for energy would necessarily do this. It is important to note that the concept of greed is generally considered to be negative, as it suggests an unhealthy or unsustainable desire for something.\",\n",
    "    \"A forklift is a type of industrial vehicle that is used for moving and lifting heavy loads, such as pallets, crates, and boxes. Forklifts are equipped with a hydraulic lift mechanism and a set of prongs or forks that can be used to lift and transport loads. They are commonly used in warehouses and other distribution centers to move and stack materials, such as boxes, onto shelves or other storage areas. If you were using a forklift to stack boxes onto shelves, it is likely that you were in a warehouse or a similar facility. Warehouses are large, commercial buildings that are used for storing and distributing goods. They often have high ceilings, wide aisles, and multiple levels, and they may be equipped with a variety of material handling equipment, such as forklifts, conveyor belts, and cranes, to facilitate the movement and storage of goods.\",\n",
    "    \"You are likely to receive mouthwash in a little paper cup at a dentist's office. Dentist's offices are healthcare facilities that are staffed by dentists and other dental professionals, and they are used for the diagnosis and treatment of dental problems and the maintenance of oral health. One common practice at a dentist's office is to rinse the mouth with mouthwash, which is a liquid that is used to freshen breath, kill bacteria, and reduce the risk of gum disease and other oral health issues. Mouthwash is typically used after brushing and flossing to help remove any remaining food particles or plaque from the mouth. It may be dispensed in a little paper cup, which can be used to rinse the mouth and then disposed of after use.\",\n",
    "    \"A doctor's office can help you with an illness. A doctor's office is a healthcare facility that is staffed by medical doctors and other healthcare professionals, and it is used for the diagnosis and treatment of medical conditions and the maintenance of overall health. If you are experiencing an illness, such as a cold, flu, or more serious health issue, you may visit a doctor's office to seek medical care and treatment. At a doctor's office, you may receive a physical examination, diagnostic tests, and other forms of medical treatment, depending on the nature of your illness and your specific needs. Doctors are trained to diagnose and treat a wide range of medical conditions, and they can provide you with the care and support you need to recover from your illness and get back to good health.\",\n",
    "    \"A bug looking for wildflowers and no human interruption might go to a meadow. A meadow is a grassland area that is characterized by its open, grassy landscape and the presence of wildflowers and other types of vegetation. Meadows can be found in a variety of settings, including rural areas, forests, and parkland, and they are often home to a variety of animal and plant species. Because meadows are relatively undisturbed by human activity, they can be a good place for a bug to find wildflowers and other types of plants without interference from humans. Meadows are often considered to be peaceful, serene places, and they may be attractive to a bug that is seeking a quiet, natural environment in which to explore and forage.\",\n",
    "    \"If a bride and groom are taking care of proposals, the likely ceremony is a marriage. A marriage is a formal union between two people that is recognized by law and typically involves a public ceremony and the exchange of vows. A marriage proposal is a request for someone to marry another person, and it is typically made by one partner to the other. The process of planning a marriage often involves taking care of a variety of details and arrangements, such as choosing a venue, selecting a date, inviting guests, and organizing the ceremony and reception. If a bride and groom are taking care of proposals, it is likely that they are in the process of planning their marriage and preparing for the wedding ceremony.\",\n",
    "    \"You could put some olives in a jar to prevent them from getting nearby food wet. A jar is a container that is typically made of glass or ceramic and has a wide mouth and a secure, tight-fitting lid. Jars are often used for storing food items, such as olives, pickles, jams, and other types of preserved or dried goods. Because they have a sealed lid, jars can help to keep food fresh and prevent it from coming into contact with air or other substances that might spoil or contaminate it. If you want to prevent olives from getting nearby food wet, you could put them in a jar and close the lid to create an airtight seal. This would help to keep the olives separate from other foods and prevent them from coming into contact with moisture or other liquids.\",\n",
    "    \"If the graveyard was zoned by the pastor, it is likely that it was located on church property. Church property refers to land or buildings that are owned by a church or religious organization. This may include the main church building, as well as other structures such as a rectory, school, or community center. Church property may also include a graveyard or cemetery, which is a place where people are buried after they die. Pastors, who are ordained leaders in a church, often play a central role in the management and oversight of church property, and they may be responsible for zoning or designating areas within the property for specific purposes, such as a graveyard or a garden. If the pastor has zoned the graveyard, it is likely that it is located on church property and is being used as a place for burial by members of the church or community.\",\n",
    "    \"If a family wanted to live with carpeting, they may have ended up putting it in their houses. Houses are structures that are designed and built to be used as homes, and they typically have a number of rooms that are used for different purposes, such as sleeping, cooking, eating, and relaxing. Carpeting is a type of floor covering that is made of soft, flexible materials, such as wool, nylon, or polypropylene, and it is often used in houses to provide warmth, comfort, and insulation. If a family wanted to live with carpeting, they may have chosen to install carpeting in some or all of the rooms in their houses, in order to create a warm and cozy atmosphere and to improve the overall comfort and livability of their homes.\",\n",
    "    \"If a boss likes an employee's ambition, the employee may be put in charge of a project. A project is a specific task or set of tasks that is undertaken in order to achieve a specific goal or objective. Projects may be large or small, complex or simple, and they may involve a wide range of activities, such as research, design, development, testing, and implementation. If an employee is ambitious and demonstrates a strong desire to succeed and make a positive contribution to their organization, their boss may choose to put them in charge of a project, in order to give them the opportunity to demonstrate their skills and abilities and to take on more responsibility. Being put in charge of a project can be a challenging and rewarding experience, and it may provide an employee with the chance to learn new things, develop their skills, and make a meaningful contribution to their organization.\",\n",
    "    \"A county highway can be viewed as a line on a map. A map is a graphic representation of an area or region that shows the locations of various features, such as roads, rivers, mountains, and cities. Maps are often used to help people navigate and find their way around unfamiliar places, and they can be very useful for understanding the layout and geography of an area. County highways are roads that are maintained and operated by a county or local government, and they are typically used for local travel and transportation within a county or region. On a map, a county highway may be represented as a line, with a specific color or symbol used to indicate its location and route. By viewing a county highway as a line on a map, it is possible to get a sense of the route and layout of the road, and to use the map to plan a journey or navigate to a specific destination.\",\n",
    "    \"After going for a run, someone may feel tired. Running is a form of physical activity that involves moving quickly and continuously on foot, typically by running or jogging. It is a popular form of exercise that can help to improve cardiovascular fitness, build endurance, and strengthen the muscles of the legs and lower body. However, running can also be physically demanding, and it requires a certain level of fitness and stamina to be able to sustain the activity for an extended period of time. As a result, it is common for people to feel tired after going for a run, especially if they are not used to the activity or if they have pushed themselves to run for a longer distance or at a faster pace than usual. Tiredness after a run may be accompanied by other physical sensations, such as muscle fatigue, thirst, or a sense of accomplishment.\",\n",
    "    \"If a car was going from Florida to Ohio, it was heading north. Florida is a state in the southeastern region of the United States, and Ohio is a state in the midwestern region of the country. When traveling from Florida to Ohio, a person would need to go north in order to reach their destination. North is a direction that is opposite to south on a map or compass, and it is typically associated with higher latitude, colder climates, and longer nights. When traveling north, a person may encounter different landscapes, weather patterns, and cultural experiences than they would when traveling south, depending on the specific route and the distance traveled. By heading north from Florida to Ohio, a person would be leaving behind the warm, tropical climate of Florida and entering into a more temperate, mid-latitude region with cooler temperatures and a more diverse range of landscapes and ecosystems.\",\n",
    "    \"During a typical week, a teacher is likely to spend most of their time working in school. A teacher is a person who is trained and qualified to teach students in a school or educational setting, and their primary job is to provide instruction and guidance to help students learn and develop their skills and knowledge. Teachers may work in a variety of settings, including primary schools, secondary schools, and universities, and they may teach a wide range of subjects, including math, science, English, history, and the arts. In order to fulfill their duties as a teacher, a person is likely to spend most of their time working in a school or educational setting, where they will be responsible for preparing and delivering lessons, grading assignments, communicating with students and parents, and performing other tasks related to their job. Teachers typically work on a schedule that follows the school year, and they may work full-time or part-time, depending on their specific circumstances and the needs of their students.\",\n",
    "    \"In a predicament, an animal might choose to fight for its life as an alternative to fleeing. Predicament is a term that refers to a difficult or challenging situation, typically one that involves a choice or decision that needs to be made. When an animal finds itself in a predicament, it may have to decide how to respond in order to survive and protect itself. One option that an animal may have is to flee or run away from the situation in an effort to escape danger or avoid conflict. Another option that an animal may have is to fight for its life, using whatever means are available to defend itself and protect its survival. The choice that an animal makes in a predicament will depend on a variety of factors, including the specific nature of the situation, the animal's size, strength, and abilities, and the resources and options that are available to it.\",\n",
    "    \"It is not common for people to fight each other when they find a good deal. A good deal is typically defined as an opportunity to purchase something at a price that is lower than what it is usually worth, or to obtain a product or service that provides more value or benefits than what is expected. When people find a good deal, they may feel excited or pleased about the opportunity to save money or get more for their money, and they may take action to take advantage of the deal. However, it is generally not considered acceptable or appropriate for people to fight each other over a good deal or to engage in physical violence or aggression in order to obtain it. There are many other ways that people can express their interest in a good deal, such as by negotiating with the seller, making an offer, or simply making a purchase if the price is acceptable.\",\n",
    "    \"An altar is a platform or structure that is used for religious ceremonies, rituals, or worship. Altars are often found in places of worship, such as temples, churches, synagogues, mosques, and other religious buildings. When a person is standing in front of an altar, they are likely to be in a temple or other place of worship. Altars can be used for a variety of purposes in different religions and spiritual traditions, such as offering sacrifices, making offerings, praying, or performing other religious practices. They may be decorated with symbols, images, or other items that are significant to the religion or spiritual tradition that is being practiced. Altars may also be used as a place for people to meditate, reflect, or seek spiritual guidance.\",\n",
    "    \"Joe bought a bunch of grapes because he likes to use them to top his desserts. A dessert is a type of food that is typically served at the end of a meal, and it is usually sweet or rich in flavor. There are many different types of desserts that people enjoy, including cakes, cookies, ice cream, pie, and other sweet treats. One way that people may use grapes as a topping for their desserts is by placing them on top of a fruit pie, tart, or crisp. Grapes can add flavor and texture to a dessert, and they may also be used to decorate a dessert or to add visual appeal. Grapes are a versatile fruit that can be used in many different types of desserts, and they can be eaten fresh, frozen, or preserved in various ways.\",\n",
    "    \"Well water is water that is obtained from underground sources, typically through the use of a well. A well is a hole or shaft that is dug into the ground in order to access water that is contained in underground aquifers or other water-bearing formations. Well water is typically used for drinking, irrigation, and other purposes, and it is often considered to be of high quality because it is filtered and purified naturally as it flows through the ground. To obtain well water, a person can dig a well or have one dug by a professional well driller. The depth of the well will depend on the location and the geology of the area, and a pump or other mechanical system may be used to bring the water to the surface.\",\n",
    "]"
   ]
  },
  {
   "cell_type": "code",
   "execution_count": null,
   "id": "69fa8109",
   "metadata": {},
   "outputs": [],
   "source": []
  },
  {
   "cell_type": "code",
   "execution_count": 22,
   "id": "01fdee8d",
   "metadata": {},
   "outputs": [],
   "source": [
    "id_list = [\n",
    " '71519c19654251cced50c5718fd527c1',\n",
    " '44195d210c81c8c550174d0edbd3ad5d',\n",
    " '5a5da37b685ec9c6f15228128ce30437',\n",
    " 'cabdfc174953b4bdb8bdcc89d6592c74',\n",
    " 'eac3a4080127e8924034651b57dfa289',\n",
    " 'c0013f31657294b9b5ad819123513ca7',\n",
    " '2681697be70cd5425899ed6deb84b18a',\n",
    " '47f60340b869552e795fa6782224f3d2',\n",
    " '7e8a6eac93147eb52d8151bab7b40003',\n",
    " 'f34267f498c8a78383e35057fbcfa2ce',\n",
    " 'f024f923d78e5c0a4c0c4baa3ddccf05',\n",
    " 'e148c710d0c26849cf1f15293481038b',\n",
    " 'bdf437d7498815f36c255f64a8e6571c',\n",
    " '2282e0c80be28aadadb79a822fec9dac',\n",
    " 'bdd05e96876342b4b5999709439a7f4e',\n",
    " '494b8316614fc64c5c27757aeaffce23_1',\n",
    " 'c4494b402264250dc70931613d482295',\n",
    " 'fcfbf207c5586294fdce33b645b613f1',\n",
    " '9c583bcbe68989a644433302545fb31e',\n",
    " '0e684d779d98e6eecda167c10af42bbb',\n",
    " 'ac0462d09b9fddd40c3c77aedf48a870',\n",
    " '1dbfb41e04a10bdbb085bfe667c0df99',\n",
    " 'cd0c0ef3b8ce0eb09ff26823f6059be6',\n",
    " 'e6b67184b99375d05d3f2887f684c684',\n",
    " 'ae9f6f1e17b3fdd3a86b494933809f45',\n",
    " 'f149604169936a30b7e4c8d599d604b5',\n",
    " 'd7c8377953e0175ef57d59f3a8e63a8e',\n",
    " '1837216ac7745121b82a6491b2318c09',\n",
    " 'b5fe238d45e55ca5d802b7823ad390ef',\n",
    " 'b2fbeb0b48bd5e575af0f7dc24cdd85d',\n",
    " '9bdfb101c487ac598f6e4686cf774703',\n",
    " '206c7116ee2246180fcc0c5a1d0e7205',\n",
    " '5cd7f44bbf730dfae5ef2a362d2e5149',\n",
    " '45d0ea781ffd49b07d6eae94d47a8945',\n",
    " '89afdea1d76272fda8e1538a7d3b7a3f',\n",
    " '38a514fe54108527e1d6e89d9812da93',\n",
    " 'ebf347934a3e90ea46d3d87726fb5d25',\n",
    " '90226a6ecd7308ae1e6220a15ae24bc6',\n",
    " '5cae8057e75e3adf5c338a43b3ba97fb',\n",
    " '388a363c49e1b0aca8eaf18ccdde0caf',\n",
    " '9ed3af82152dfcd7000bf4631b095f71',\n",
    " '2d5805d894bba224c5fe91e70b8c0f77',\n",
    " 'd5aa464a16b72c9b9f3091abd461e3ef',\n",
    " '381b11c54be4cc432a95053ca34cbf6b',\n",
    " '807a3a2dabdd50ed0c76052fd2612632',\n",
    " '5172041c750d22e9a5081cc024de0fa6',\n",
    " 'd32a45ab3b751110d0578a78e54c0e64',\n",
    " '28ca5cbe27774746c34f6ebe84fc6d0c']"
   ]
  },
  {
   "cell_type": "code",
   "execution_count": null,
   "id": "51445c67",
   "metadata": {},
   "outputs": [],
   "source": []
  },
  {
   "cell_type": "code",
   "execution_count": 23,
   "id": "dabe3306",
   "metadata": {},
   "outputs": [],
   "source": [
    "# our_wrong_data_splits['dev']=[]\n",
    "# for x in our_data_splits['dev']:\n",
    "#     for ii in range(5):\n",
    "#         new_x={'id':x['id'], 'real_answer':x['answer'], \n",
    "#                'answer':x['choices'][ii], 'question':x['question'],\n",
    "#                'choices':x['choices'],\n",
    "#                'abstractive_explanation':x['abstractive_explanation'],\n",
    "#                'extractive_explanation':x['extractive_explanation'],\n",
    "#                'our_explanation':x['our_explanation']}\n",
    "#         our_wrong_data_splits['dev'].append(new_x)\n",
    "#     #print(x)\n",
    "#     #pdb.set_trace()\n",
    "# # wandb.init()\n",
    "# our_wrong_dev_data_dict = list2dict(our_wrong_data_splits['dev'])\n",
    "# our_wrong_data_splits['dev'] = datasets.Dataset.from_dict(our_wrong_dev_data_dict)"
   ]
  },
  {
   "cell_type": "code",
   "execution_count": 24,
   "id": "7b62bdf5",
   "metadata": {},
   "outputs": [],
   "source": [
    "# our_wrong_data_splits['train'][0],our_wrong_data_splits['train'][0].keys()\n",
    "# our_wrong_data_splits['train'] = our_wrong_data_splits['train'].map(\n",
    "#             lambda x: format_instance(\n",
    "#                 x,\n",
    "#                 tokenizer,\n",
    "#                 data_args.explanation_sep,\n",
    "#                 datasource=data_args.task_name,\n",
    "#                 io_format=data_args.io_format\n",
    "#             ),\n",
    "#             batched=False,\n",
    "#             load_from_cache_file=False,\n",
    "#         )"
   ]
  },
  {
   "cell_type": "code",
   "execution_count": 25,
   "id": "b421f892",
   "metadata": {},
   "outputs": [],
   "source": [
    "# for da in our_wrong_data_splits['dev']:\n",
    "#     print(\"*******\")\n",
    "#     print(\"question: {}\".format(da['question']))\n",
    "#     print(\"real_answer: {}\".format(da['real_answer']))\n",
    "#     print(\"answer: {}\".format(da['answer']))\n",
    "#     print(\"choices: {}\".format(da['choices']))\n",
    "#     print(\"our_explanation: {}\".format(da['our_explanation']))\n",
    "#     inp_ids = torch.tensor(da[\"input_ids\"], device=model.device).reshape(1, -1)\n",
    "#     out = model.generate(\n",
    "#                     inp_ids,\n",
    "#                     max_length=100,\n",
    "#                     pad_token_id=tokenizer.pad_token_id,\n",
    "#                     eos_token_id=tokenizer.eos_token_id,\n",
    "#                 )\n",
    "#     skip_special_tokens = False if \"infilling\" in data_args.io_format else True\n",
    "#     words = tokenizer.decode(out[0].tolist(), skip_special_tokens=skip_special_tokens)\n",
    "#     print(\"generated explanation: {}\".format(words))\n",
    "#     print(\"#######\")"
   ]
  },
  {
   "cell_type": "code",
   "execution_count": 26,
   "id": "dfa34701",
   "metadata": {},
   "outputs": [],
   "source": [
    "# our_wrong_data_splits['train'][0],our_wrong_data_splits['train'][0].keys()\n",
    "# our_wrong_data_splits['dev'] = our_wrong_data_splits['dev'].map(\n",
    "#             lambda x: format_instance(\n",
    "#                 x,\n",
    "#                 tokenizer,\n",
    "#                 data_args.explanation_sep,\n",
    "#                 datasource=data_args.task_name,\n",
    "#                 io_format=data_args.io_format\n",
    "#             ),\n",
    "#             batched=False,\n",
    "#             load_from_cache_file=False,\n",
    "#         )"
   ]
  },
  {
   "cell_type": "code",
   "execution_count": 27,
   "id": "2e6d6437",
   "metadata": {},
   "outputs": [],
   "source": [
    "# for da in our_wrong_data_splits['dev']:\n",
    "#     print(\"*******\")\n",
    "#     print(\"question: {}\".format(da['question']))\n",
    "#     print(\"real_answer: {}\".format(da['real_answer']))\n",
    "#     print(\"answer: {}\".format(da['answer']))\n",
    "#     print(\"choices: {}\".format(da['choices']))\n",
    "#     print(\"our_explanation: {}\".format(da['our_explanation']))\n",
    "#     inp_ids = torch.tensor(da[\"input_ids\"], device=model.device).reshape(1, -1)\n",
    "#     out = model.generate(\n",
    "#                     inp_ids,\n",
    "#                     max_length=100,\n",
    "#                     pad_token_id=tokenizer.pad_token_id,\n",
    "#                     eos_token_id=tokenizer.eos_token_id,\n",
    "#                 )\n",
    "#     skip_special_tokens = False if \"infilling\" in data_args.io_format else True\n",
    "#     words = tokenizer.decode(out[0].tolist(), skip_special_tokens=skip_special_tokens)\n",
    "#     print(\"generated explanation: {}\".format(words))\n",
    "#     print(\"#######\")"
   ]
  },
  {
   "cell_type": "code",
   "execution_count": 28,
   "id": "91605cfc",
   "metadata": {},
   "outputs": [],
   "source": [
    "# for da in our_wrong_data_splits['train']:\n",
    "#     print(\"*******\")\n",
    "#     print(\"question: {}\".format(da['question']))\n",
    "#     print(\"real_answer: {}\".format(da['real_answer']))\n",
    "#     print(\"answer: {}\".format(da['answer']))\n",
    "#     print(\"choices: {}\".format(da['choices']))\n",
    "#     print(\"our_explanation: {}\".format(da['our_explanation']))\n",
    "#     inp_ids = torch.tensor(da[\"input_ids\"], device=model.device).reshape(1, -1)\n",
    "#     out = model.generate(\n",
    "#                     inp_ids,\n",
    "#                     max_length=100,\n",
    "#                     pad_token_id=tokenizer.pad_token_id,\n",
    "#                     eos_token_id=tokenizer.eos_token_id,\n",
    "#                 )\n",
    "#     skip_special_tokens = False if \"infilling\" in data_args.io_format else True\n",
    "#     words = tokenizer.decode(out[0].tolist(), skip_special_tokens=skip_special_tokens)\n",
    "#     print(\"generated explanation: {}\".format(words))\n",
    "#     print(\"#######\")"
   ]
  },
  {
   "cell_type": "code",
   "execution_count": 29,
   "id": "cbc3e763",
   "metadata": {},
   "outputs": [],
   "source": [
    "# import wandb\n",
    "# training_args.run_name=\"\"\n",
    "training_args.logging_steps=3\n",
    "training_args.save_steps=5\n",
    "training_args.evaluation_strategy=\"epoch\"\n",
    "training_args.num_train_epochs=25\n",
    "training_args.do_eval=True"
   ]
  },
  {
   "cell_type": "code",
   "execution_count": 30,
   "id": "317de5d7",
   "metadata": {},
   "outputs": [
    {
     "data": {
      "text/plain": [
       "TrainingArguments(\n",
       "_n_gpu=1,\n",
       "adafactor=False,\n",
       "adam_beta1=0.9,\n",
       "adam_beta2=0.999,\n",
       "adam_epsilon=1e-08,\n",
       "dataloader_drop_last=False,\n",
       "dataloader_num_workers=0,\n",
       "dataloader_pin_memory=True,\n",
       "ddp_find_unused_parameters=None,\n",
       "debug=[],\n",
       "deepspeed=None,\n",
       "disable_tqdm=False,\n",
       "do_eval=True,\n",
       "do_predict=False,\n",
       "do_train=True,\n",
       "eval_accumulation_steps=None,\n",
       "eval_steps=None,\n",
       "evaluation_strategy=epoch,\n",
       "fp16=False,\n",
       "fp16_backend=auto,\n",
       "fp16_full_eval=False,\n",
       "fp16_opt_level=O1,\n",
       "gradient_accumulation_steps=1,\n",
       "greater_is_better=None,\n",
       "group_by_length=False,\n",
       "ignore_data_skip=False,\n",
       "label_names=None,\n",
       "label_smoothing_factor=0.0,\n",
       "learning_rate=5e-05,\n",
       "length_column_name=length,\n",
       "load_best_model_at_end=False,\n",
       "local_rank=-1,\n",
       "log_level=-1,\n",
       "log_level_replica=-1,\n",
       "log_on_each_node=True,\n",
       "logging_dir=./cos_e_output_t5_large/011223_220431,\n",
       "logging_first_step=False,\n",
       "logging_steps=3,\n",
       "logging_strategy=IntervalStrategy.STEPS,\n",
       "lr_scheduler_type=SchedulerType.LINEAR,\n",
       "max_grad_norm=1.0,\n",
       "max_steps=-1,\n",
       "metric_for_best_model=None,\n",
       "mp_parameters=,\n",
       "no_cuda=False,\n",
       "num_train_epochs=25,\n",
       "output_dir=./cos_e_output_t5_large/011223_220431,\n",
       "overwrite_output_dir=False,\n",
       "past_index=-1,\n",
       "per_device_eval_batch_size=8,\n",
       "per_device_train_batch_size=8,\n",
       "prediction_loss_only=False,\n",
       "push_to_hub=False,\n",
       "push_to_hub_model_id=cos_e_output_t5_large,\n",
       "push_to_hub_organization=None,\n",
       "push_to_hub_token=None,\n",
       "remove_unused_columns=True,\n",
       "report_to=['tensorboard', 'wandb'],\n",
       "resume_from_checkpoint=None,\n",
       "run_name=./cos_e_output_t5_large,\n",
       "save_on_each_node=False,\n",
       "save_steps=5,\n",
       "save_strategy=IntervalStrategy.STEPS,\n",
       "save_total_limit=None,\n",
       "seed=42,\n",
       "sharded_ddp=[],\n",
       "skip_memory_metrics=True,\n",
       "tpu_metrics_debug=False,\n",
       "tpu_num_cores=None,\n",
       "use_legacy_prediction_loop=False,\n",
       "warmup_ratio=0.0,\n",
       "warmup_steps=0,\n",
       "weight_decay=0.0,\n",
       ")"
      ]
     },
     "execution_count": 30,
     "metadata": {},
     "output_type": "execute_result"
    }
   ],
   "source": [
    "training_args"
   ]
  },
  {
   "cell_type": "code",
   "execution_count": 31,
   "id": "de79fb60",
   "metadata": {},
   "outputs": [
    {
     "data": {
      "text/plain": [
       "TrainingArguments(\n",
       "_n_gpu=1,\n",
       "adafactor=False,\n",
       "adam_beta1=0.9,\n",
       "adam_beta2=0.999,\n",
       "adam_epsilon=1e-08,\n",
       "dataloader_drop_last=False,\n",
       "dataloader_num_workers=0,\n",
       "dataloader_pin_memory=True,\n",
       "ddp_find_unused_parameters=None,\n",
       "debug=[],\n",
       "deepspeed=None,\n",
       "disable_tqdm=False,\n",
       "do_eval=True,\n",
       "do_predict=False,\n",
       "do_train=True,\n",
       "eval_accumulation_steps=None,\n",
       "eval_steps=None,\n",
       "evaluation_strategy=epoch,\n",
       "fp16=False,\n",
       "fp16_backend=auto,\n",
       "fp16_full_eval=False,\n",
       "fp16_opt_level=O1,\n",
       "gradient_accumulation_steps=1,\n",
       "greater_is_better=None,\n",
       "group_by_length=False,\n",
       "ignore_data_skip=False,\n",
       "label_names=None,\n",
       "label_smoothing_factor=0.0,\n",
       "learning_rate=5e-05,\n",
       "length_column_name=length,\n",
       "load_best_model_at_end=False,\n",
       "local_rank=-1,\n",
       "log_level=-1,\n",
       "log_level_replica=-1,\n",
       "log_on_each_node=True,\n",
       "logging_dir=./cos_e_output_t5_large/011223_220431,\n",
       "logging_first_step=False,\n",
       "logging_steps=3,\n",
       "logging_strategy=IntervalStrategy.STEPS,\n",
       "lr_scheduler_type=SchedulerType.LINEAR,\n",
       "max_grad_norm=1.0,\n",
       "max_steps=-1,\n",
       "metric_for_best_model=None,\n",
       "mp_parameters=,\n",
       "no_cuda=False,\n",
       "num_train_epochs=25,\n",
       "output_dir=./cos_e_output_t5_large/011223_220431,\n",
       "overwrite_output_dir=False,\n",
       "past_index=-1,\n",
       "per_device_eval_batch_size=8,\n",
       "per_device_train_batch_size=8,\n",
       "prediction_loss_only=False,\n",
       "push_to_hub=False,\n",
       "push_to_hub_model_id=cos_e_output_t5_large,\n",
       "push_to_hub_organization=None,\n",
       "push_to_hub_token=None,\n",
       "remove_unused_columns=True,\n",
       "report_to=['tensorboard', 'wandb'],\n",
       "resume_from_checkpoint=None,\n",
       "run_name=./cos_e_output_t5_large,\n",
       "save_on_each_node=False,\n",
       "save_steps=5,\n",
       "save_strategy=IntervalStrategy.STEPS,\n",
       "save_total_limit=None,\n",
       "seed=42,\n",
       "sharded_ddp=[],\n",
       "skip_memory_metrics=True,\n",
       "tpu_metrics_debug=False,\n",
       "tpu_num_cores=None,\n",
       "use_legacy_prediction_loop=False,\n",
       "warmup_ratio=0.0,\n",
       "warmup_steps=0,\n",
       "weight_decay=0.0,\n",
       ")"
      ]
     },
     "execution_count": 31,
     "metadata": {},
     "output_type": "execute_result"
    }
   ],
   "source": [
    "training_args.per_device_eval_batch_size=8\n",
    "training_args.per_device_train_batch_size=8\n",
    "training_args"
   ]
  },
  {
   "cell_type": "code",
   "execution_count": 32,
   "id": "e80480ec",
   "metadata": {},
   "outputs": [],
   "source": [
    "# data_splits = {'train': None, 'validation': None, 'test': None}\n",
    "# original_data_splits = {'train': None, 'validation': None, 'test': None}  \n",
    "# data_args.io_format=\"t5_fewshot_infilling_with_choices\"\n",
    "# # Data loading from huggingface's datasets\n",
    "# if data_args.task_name in {\"cos_e\", \"esnli\"}:\n",
    "#     version_arg = None\n",
    "#     if data_args.task_name == \"cos_e\":\n",
    "#         assert data_args.version_name in {\"v1.11\", \"v1.0\"}\n",
    "#         version_arg = data_args.version_name\n",
    "\n",
    "#     load_train = True\n",
    "#     if (not training_args.do_train\n",
    "#         and not training_args.do_eval\n",
    "#         and not data_args.train_predict\n",
    "#     ):\n",
    "#         # don't load training dataset\n",
    "#         dataset = {}\n",
    "#         dataset[\"train\"] = None\n",
    "#         dataset[\"validation\"] = datasets.load_dataset(\n",
    "#             data_args.task_name, version_arg, split=\"validation\"\n",
    "#         )\n",
    "#         data_splits['validation'] = dataset[\"validation\"]\n",
    "\n",
    "#         if data_args.task_name == \"esnli\":\n",
    "#             dataset[\"test\"] = datasets.load_dataset(data_args.task_name, split=\"test\")\n",
    "#             data_splits['test'] = dataset[\"test\"]\n",
    "#         load_train = False\n",
    "#     else:\n",
    "#         dataset = datasets.load_dataset(data_args.task_name, version_arg)\n",
    "\n",
    "#         if data_args.n_shots > 0: # Shots = number of training examples **per label** \n",
    "#             if data_args.task_name == 'esnli': # Construct a *balanced* random sample of the size `data_args.n_shots*len(labels)` (for train) or `data_args.fewshot_eval_size` (for eval)\n",
    "#                 for split in [\"train\", \"validation\", \"test\"]:\n",
    "#                     split_data = dataset[split]\n",
    "#                     label_subsets = []\n",
    "#                     labels = split_data.features['label'].names\n",
    "#                     sample_size = data_args.n_shots if split == \"train\" else int(data_args.fewshot_eval_size/len(labels))\n",
    "#                     if data_args.gpt3_max_eval_size is not None and split != 'train':\n",
    "#                         assert len(labels) == 3\n",
    "#                         sample_size = data_args.gpt3_max_eval_size // len(labels)\n",
    "#                     for label in labels:\n",
    "#                         # The following is a hack to only run on `neutral` labels of `esnli` to get data for human eval\n",
    "#                         # if data_args.gpt3_max_eval_size is not None and split != 'train' and label != 'neutral':\n",
    "#                         #     continue\n",
    "#                         label_int = split_data.features['label'].str2int(label)\n",
    "#                         label_set = split_data.filter(lambda example: example['label'] == label_int).shuffle() # all instances of labeled as `label`\n",
    "#                         label_subset = label_set.select(range(sample_size)) #select `sample_size` random instances labeled as `label`\n",
    "#                         label_subsets.append(label_subset)\n",
    "#                     dataset[split] = datasets.concatenate_datasets(label_subsets) #merge all label-specific instances\n",
    "#             elif data_args.task_name == 'cos_e': \n",
    "#                 for split in [\"train\", \"validation\"]: \n",
    "#                     split_data = dataset[split]\n",
    "#                     sample_size = data_args.n_shots if split == \"train\" else int(data_args.fewshot_eval_size) #Shots for QA are not label-specific, i.e., `n_shots` is the training data size\n",
    "#                     if data_args.gpt3_max_eval_size is not None and split != 'train':\n",
    "#                         sample_size = data_args.gpt3_max_eval_size\n",
    "#                     dataset[split] = split_data#.shuffle().select(range(sample_size)) # select `sample_size` random instances\n",
    "#             else: \n",
    "#                 raise ValueError('Only cos_e and esnli are supported by Huggingface datasets.')\n",
    "#     # Apply method, and format dataset to torch.Tensor outputs\n",
    "# #     fse_csqa_train_file=\"/cognitive_comp/huangyongfeng/evaluate_LM_with_rationalization/few_shot_explanations/data/acceptability_annotations/commonsenseqa_train.csv\"\n",
    "# #     fse_csqa_dev_file=\"/cognitive_comp/huangyongfeng/evaluate_LM_with_rationalization/few_shot_explanations/data/acceptability_annotations/commonsenseqa_test.csv\"\n",
    "# #     fse_csqa_train_dataset = datasets.load_dataset('csv', data_files=fse_csqa_train_file)\n",
    "# #     fse_csqa_dev_dataset = datasets.load_dataset('csv', data_files=fse_csqa_dev_file)\n",
    "# #     train_ids_list=[x['id'] for x in data_splits[\"train\"]]\n",
    "# #     dev_ids_list=[x['id'] for x in data_splits[\"validation\"]]\n",
    "# #     fse_train_ids_list=[x['Input.id'] for x in fse_csqa_train_dataset['train']]\n",
    "# #     fse_dev_ids_list=[x['Input.id'] for x in fse_csqa_dev_dataset['train']]\n",
    "# #     fse_train_indexs_list=[train_ids_list.index(id_) for id_ in fse_train_ids_list]\n",
    "# #     fse_dev_indexs_list=[dev_ids_list.index(id_) for id_ in fse_dev_ids_list]\n",
    "# #     print(len(fse_train_indexs_list), len(fse_dev_indexs_list))\n",
    "# #     # print(fse_train_indexs_list,fse_dev_indexs_list)\n",
    "# #     fse_data_splits={}\n",
    "# #     data_splits['train']=data_splits[\"train\"].select(fse_train_indexs_list)\n",
    "# #     data_splits['validation']=data_splits[\"validation\"].select(fse_train_indexs_list)\n",
    "#     for split in dataset.keys():\n",
    "#         if dataset[split] is not None:\n",
    "#             dataset[split] = dataset[split].map(\n",
    "#                 lambda x: format_instance(\n",
    "#                     x,\n",
    "#                     tokenizer,\n",
    "#                     data_args.explanation_sep,\n",
    "#                     datasource=data_args.task_name,\n",
    "#                     io_format=data_args.io_format\n",
    "#                 ),\n",
    "#                 batched=False,\n",
    "#                 load_from_cache_file=False,\n",
    "#             )\n",
    "#     data_splits[\"train\"] = deepcopy(dataset[\"train\"])\n",
    "#     data_splits[\"validation\"] = deepcopy(dataset[\"validation\"])\n",
    "#     if data_args.task_name == \"esnli\":\n",
    "#         data_splits[\"test\"] = deepcopy(dataset[\"test\"])\n",
    "\n",
    "#     original_data_splits[\"train\"] = deepcopy(dataset[\"train\"])\n",
    "#     original_data_splits[\"validation\"] = deepcopy(dataset[\"validation\"])\n",
    "#     if data_args.task_name == \"esnli\":\n",
    "#         original_data_splits[\"test\"] = deepcopy(dataset[\"test\"])"
   ]
  },
  {
   "cell_type": "code",
   "execution_count": 33,
   "id": "2f4cb867",
   "metadata": {},
   "outputs": [],
   "source": [
    "# import pandas as pd\n",
    "# # new_data_splits={'train': None, 'validation': None}\n",
    "# # new_data_splits['train']=deepcopy(dataset[\"train\"])\n",
    "# # new_data_splits['validation']=deepcopy(dataset[\"validation\"])\n",
    "# fse_csqa_train_file=\"/cognitive_comp/huangyongfeng/evaluate_LM_with_rationalization/few_shot_explanations/data/acceptability_annotations/commonsenseqa_train.csv\"\n",
    "# fse_csqa_dev_file=\"/cognitive_comp/huangyongfeng/evaluate_LM_with_rationalization/few_shot_explanations/data/acceptability_annotations/commonsenseqa_test.csv\"\n",
    "# # fse_csqa_train_dataset = datasets.load_dataset('csv', data_files=fse_csqa_train_file)\n",
    "# # fse_csqa_dev_dataset = datasets.load_dataset('csv', data_files=fse_csqa_dev_file)\n",
    "\n",
    "# train_df=pd.read_csv(fse_csqa_train_file)\n",
    "\n",
    "# dev_df=pd.read_csv(fse_csqa_dev_file)\n",
    "\n",
    "# dev_df\n"
   ]
  },
  {
   "cell_type": "code",
   "execution_count": 34,
   "id": "42739e9b",
   "metadata": {},
   "outputs": [],
   "source": [
    "# len(fse_train_ids_list),len(list(set(fse_train_ids_list)))"
   ]
  },
  {
   "cell_type": "code",
   "execution_count": 35,
   "id": "c78ea825",
   "metadata": {},
   "outputs": [],
   "source": [
    "# train_ids_list=[x['id'] for x in data_splits[\"train\"]]\n",
    "# dev_ids_list=[x['id'] for x in data_splits[\"validation\"]]\n",
    "# fse_train_ids_list=[x['Input.id'] for x in fse_csqa_train_dataset['train']]\n",
    "# fse_dev_ids_list=[x['Input.id'] for x in fse_csqa_dev_dataset['train']]\n"
   ]
  },
  {
   "cell_type": "code",
   "execution_count": 36,
   "id": "80395518",
   "metadata": {},
   "outputs": [],
   "source": [
    "# fse_train_indexs_list=[train_ids_list.index(id_) for id_ in fse_train_ids_list]\n",
    "# fse_dev_indexs_list=[dev_ids_list.index(id_) for id_ in fse_dev_ids_list]\n",
    "# print(len(fse_train_indexs_list), len(fse_dev_indexs_list))\n",
    "# # print(fse_train_indexs_list,fse_dev_indexs_list)\n",
    "# fse_data_splits={}\n",
    "# fse_data_splits['train']=data_splits[\"train\"].select(fse_train_indexs_list)\n",
    "# fse_data_splits['validation']=data_splits[\"validation\"].select(fse_train_indexs_list)"
   ]
  },
  {
   "cell_type": "code",
   "execution_count": 37,
   "id": "4d186954",
   "metadata": {},
   "outputs": [],
   "source": [
    "# fse_csqa_train_dataset['train'][0].keys()"
   ]
  },
  {
   "cell_type": "code",
   "execution_count": 38,
   "id": "66dd71d4",
   "metadata": {},
   "outputs": [],
   "source": [
    "class SequenceCollator:\n",
    "    def __init__(self, model, pad_token):\n",
    "        self.model = model\n",
    "        self.pad_token_mapping = {\n",
    "            \"labels\": -100,\n",
    "            \"attention_mask\": 0,\n",
    "            \"decoder_attention_mask\": 0,\n",
    "            \"input_ids\": pad_token,\n",
    "        }\n",
    "\n",
    "        self.columns = [\n",
    "            \"input_ids\",\n",
    "            \"attention_mask\",\n",
    "            \"labels\",\n",
    "            \"decoder_attention_mask\",\n",
    "        ]\n",
    "\n",
    "    def __call__(self, examples: List[Dict[str, InputDataClass]]) -> Dict[str, torch.Tensor]:\n",
    "        # re-format inputs for training\n",
    "        batch = {}\n",
    "        for key in examples[0].keys():\n",
    "            if key in self.columns:\n",
    "                tmp_list = []\n",
    "                for item in examples:\n",
    "                    tmp_list.append(item[key])\n",
    "\n",
    "                # pad lists to max length\n",
    "                if isinstance(tmp_list[0], list):\n",
    "                    max_length = max(map(len, tmp_list))\n",
    "                    tmp_list = [\n",
    "                        el + [self.pad_token_mapping[key]] * (max_length - len(el))\n",
    "                        for el in tmp_list\n",
    "                    ]\n",
    "\n",
    "                batch[key] = torch.tensor(tmp_list, dtype=torch.long)\n",
    "        return batch"
   ]
  },
  {
   "cell_type": "code",
   "execution_count": 39,
   "id": "f144515d",
   "metadata": {},
   "outputs": [
    {
     "name": "stderr",
     "output_type": "stream",
     "text": [
      "You are adding a <class 'transformers.integrations.TensorBoardCallback'> to the callbacks of this Trainer, but there is already one. The currentlist of callbacks is\n",
      ":DefaultFlowCallback\n",
      "TensorBoardCallback\n",
      "WandbCallback\n",
      "The following columns in the training set  don't have a corresponding argument in `T5ForConditionalGeneration.forward` and have been ignored: extractive_explanation, our_explanation, choices, answer, question, question_encoding, abstractive_explanation, id.\n",
      "***** Running training *****\n",
      "  Num examples = 72\n",
      "  Num Epochs = 25\n",
      "  Instantaneous batch size per device = 8\n",
      "  Total train batch size (w. parallel, distributed & accumulation) = 8\n",
      "  Gradient Accumulation steps = 1\n",
      "  Total optimization steps = 225\n",
      "Automatic Weights & Biases logging enabled, to disable set os.environ[\"WANDB_DISABLED\"] = \"true\"\n"
     ]
    },
    {
     "data": {
      "text/html": [
       "Changes to your `wandb` environment variables will be ignored because your `wandb` session has already started. For more information on how to modify your settings with `wandb.init()` arguments, please refer to <a href=\"https://wandb.me/wandb-init\" target=\"_blank\">the W&B docs</a>."
      ],
      "text/plain": [
       "<IPython.core.display.HTML object>"
      ]
     },
     "metadata": {},
     "output_type": "display_data"
    },
    {
     "data": {
      "text/html": [
       "wandb version 0.13.8 is available!  To upgrade, please run:\n",
       " $ pip install wandb --upgrade"
      ],
      "text/plain": [
       "<IPython.core.display.HTML object>"
      ]
     },
     "metadata": {},
     "output_type": "display_data"
    },
    {
     "data": {
      "text/html": [
       "Tracking run with wandb version 0.13.5"
      ],
      "text/plain": [
       "<IPython.core.display.HTML object>"
      ]
     },
     "metadata": {},
     "output_type": "display_data"
    },
    {
     "data": {
      "text/html": [
       "Run data is saved locally in <code>/cognitive_comp/huangyongfeng/evaluate_LM_with_rationalization/scripts/wandb/run-20230112_220501-jp4hmyx5</code>"
      ],
      "text/plain": [
       "<IPython.core.display.HTML object>"
      ]
     },
     "metadata": {},
     "output_type": "display_data"
    },
    {
     "data": {
      "text/html": [
       "Syncing run <strong><a href=\"https://wandb.ai/cuhk_lavilab/evaluate_LM_with_rationalization/runs/jp4hmyx5\" target=\"_blank\">./cos_e_output_t5_large</a></strong> to <a href=\"https://wandb.ai/cuhk_lavilab/evaluate_LM_with_rationalization\" target=\"_blank\">Weights & Biases</a> (<a href=\"https://wandb.me/run\" target=\"_blank\">docs</a>)<br/>"
      ],
      "text/plain": [
       "<IPython.core.display.HTML object>"
      ]
     },
     "metadata": {},
     "output_type": "display_data"
    },
    {
     "data": {
      "text/html": [
       "\n",
       "    <div>\n",
       "      \n",
       "      <progress value='225' max='225' style='width:300px; height:20px; vertical-align: middle;'></progress>\n",
       "      [225/225 09:21, Epoch 25/25]\n",
       "    </div>\n",
       "    <table border=\"1\" class=\"dataframe\">\n",
       "  <thead>\n",
       "    <tr style=\"text-align: left;\">\n",
       "      <th>Step</th>\n",
       "      <th>Training Loss</th>\n",
       "      <th>Validation Loss</th>\n",
       "    </tr>\n",
       "  </thead>\n",
       "  <tbody>\n",
       "  </tbody>\n",
       "</table><p>"
      ],
      "text/plain": [
       "<IPython.core.display.HTML object>"
      ]
     },
     "metadata": {},
     "output_type": "display_data"
    },
    {
     "name": "stderr",
     "output_type": "stream",
     "text": [
      "Saving model checkpoint to ./cos_e_output_t5_large/011223_220431/checkpoint-5\n",
      "Configuration saved in ./cos_e_output_t5_large/011223_220431/checkpoint-5/config.json\n",
      "Model weights saved in ./cos_e_output_t5_large/011223_220431/checkpoint-5/pytorch_model.bin\n",
      "Saving model checkpoint to ./cos_e_output_t5_large/011223_220431/checkpoint-10\n",
      "Configuration saved in ./cos_e_output_t5_large/011223_220431/checkpoint-10/config.json\n",
      "Model weights saved in ./cos_e_output_t5_large/011223_220431/checkpoint-10/pytorch_model.bin\n",
      "Saving model checkpoint to ./cos_e_output_t5_large/011223_220431/checkpoint-15\n",
      "Configuration saved in ./cos_e_output_t5_large/011223_220431/checkpoint-15/config.json\n",
      "Model weights saved in ./cos_e_output_t5_large/011223_220431/checkpoint-15/pytorch_model.bin\n",
      "Saving model checkpoint to ./cos_e_output_t5_large/011223_220431/checkpoint-20\n",
      "Configuration saved in ./cos_e_output_t5_large/011223_220431/checkpoint-20/config.json\n",
      "Model weights saved in ./cos_e_output_t5_large/011223_220431/checkpoint-20/pytorch_model.bin\n",
      "Saving model checkpoint to ./cos_e_output_t5_large/011223_220431/checkpoint-25\n",
      "Configuration saved in ./cos_e_output_t5_large/011223_220431/checkpoint-25/config.json\n",
      "Model weights saved in ./cos_e_output_t5_large/011223_220431/checkpoint-25/pytorch_model.bin\n",
      "Saving model checkpoint to ./cos_e_output_t5_large/011223_220431/checkpoint-30\n",
      "Configuration saved in ./cos_e_output_t5_large/011223_220431/checkpoint-30/config.json\n",
      "Model weights saved in ./cos_e_output_t5_large/011223_220431/checkpoint-30/pytorch_model.bin\n",
      "Saving model checkpoint to ./cos_e_output_t5_large/011223_220431/checkpoint-35\n",
      "Configuration saved in ./cos_e_output_t5_large/011223_220431/checkpoint-35/config.json\n",
      "Model weights saved in ./cos_e_output_t5_large/011223_220431/checkpoint-35/pytorch_model.bin\n",
      "Saving model checkpoint to ./cos_e_output_t5_large/011223_220431/checkpoint-40\n",
      "Configuration saved in ./cos_e_output_t5_large/011223_220431/checkpoint-40/config.json\n",
      "Model weights saved in ./cos_e_output_t5_large/011223_220431/checkpoint-40/pytorch_model.bin\n",
      "Saving model checkpoint to ./cos_e_output_t5_large/011223_220431/checkpoint-45\n",
      "Configuration saved in ./cos_e_output_t5_large/011223_220431/checkpoint-45/config.json\n",
      "Model weights saved in ./cos_e_output_t5_large/011223_220431/checkpoint-45/pytorch_model.bin\n",
      "Saving model checkpoint to ./cos_e_output_t5_large/011223_220431/checkpoint-50\n",
      "Configuration saved in ./cos_e_output_t5_large/011223_220431/checkpoint-50/config.json\n",
      "Model weights saved in ./cos_e_output_t5_large/011223_220431/checkpoint-50/pytorch_model.bin\n",
      "Saving model checkpoint to ./cos_e_output_t5_large/011223_220431/checkpoint-55\n",
      "Configuration saved in ./cos_e_output_t5_large/011223_220431/checkpoint-55/config.json\n",
      "Model weights saved in ./cos_e_output_t5_large/011223_220431/checkpoint-55/pytorch_model.bin\n",
      "Saving model checkpoint to ./cos_e_output_t5_large/011223_220431/checkpoint-60\n",
      "Configuration saved in ./cos_e_output_t5_large/011223_220431/checkpoint-60/config.json\n",
      "Model weights saved in ./cos_e_output_t5_large/011223_220431/checkpoint-60/pytorch_model.bin\n",
      "Saving model checkpoint to ./cos_e_output_t5_large/011223_220431/checkpoint-65\n",
      "Configuration saved in ./cos_e_output_t5_large/011223_220431/checkpoint-65/config.json\n",
      "Model weights saved in ./cos_e_output_t5_large/011223_220431/checkpoint-65/pytorch_model.bin\n",
      "Saving model checkpoint to ./cos_e_output_t5_large/011223_220431/checkpoint-70\n",
      "Configuration saved in ./cos_e_output_t5_large/011223_220431/checkpoint-70/config.json\n",
      "Model weights saved in ./cos_e_output_t5_large/011223_220431/checkpoint-70/pytorch_model.bin\n",
      "Saving model checkpoint to ./cos_e_output_t5_large/011223_220431/checkpoint-75\n",
      "Configuration saved in ./cos_e_output_t5_large/011223_220431/checkpoint-75/config.json\n",
      "Model weights saved in ./cos_e_output_t5_large/011223_220431/checkpoint-75/pytorch_model.bin\n",
      "Saving model checkpoint to ./cos_e_output_t5_large/011223_220431/checkpoint-80\n",
      "Configuration saved in ./cos_e_output_t5_large/011223_220431/checkpoint-80/config.json\n",
      "Model weights saved in ./cos_e_output_t5_large/011223_220431/checkpoint-80/pytorch_model.bin\n",
      "Saving model checkpoint to ./cos_e_output_t5_large/011223_220431/checkpoint-85\n",
      "Configuration saved in ./cos_e_output_t5_large/011223_220431/checkpoint-85/config.json\n",
      "Model weights saved in ./cos_e_output_t5_large/011223_220431/checkpoint-85/pytorch_model.bin\n",
      "Saving model checkpoint to ./cos_e_output_t5_large/011223_220431/checkpoint-90\n",
      "Configuration saved in ./cos_e_output_t5_large/011223_220431/checkpoint-90/config.json\n",
      "Model weights saved in ./cos_e_output_t5_large/011223_220431/checkpoint-90/pytorch_model.bin\n",
      "Saving model checkpoint to ./cos_e_output_t5_large/011223_220431/checkpoint-95\n",
      "Configuration saved in ./cos_e_output_t5_large/011223_220431/checkpoint-95/config.json\n",
      "Model weights saved in ./cos_e_output_t5_large/011223_220431/checkpoint-95/pytorch_model.bin\n",
      "Saving model checkpoint to ./cos_e_output_t5_large/011223_220431/checkpoint-100\n",
      "Configuration saved in ./cos_e_output_t5_large/011223_220431/checkpoint-100/config.json\n",
      "Model weights saved in ./cos_e_output_t5_large/011223_220431/checkpoint-100/pytorch_model.bin\n",
      "Saving model checkpoint to ./cos_e_output_t5_large/011223_220431/checkpoint-105\n",
      "Configuration saved in ./cos_e_output_t5_large/011223_220431/checkpoint-105/config.json\n",
      "Model weights saved in ./cos_e_output_t5_large/011223_220431/checkpoint-105/pytorch_model.bin\n",
      "Saving model checkpoint to ./cos_e_output_t5_large/011223_220431/checkpoint-110\n",
      "Configuration saved in ./cos_e_output_t5_large/011223_220431/checkpoint-110/config.json\n",
      "Model weights saved in ./cos_e_output_t5_large/011223_220431/checkpoint-110/pytorch_model.bin\n",
      "Saving model checkpoint to ./cos_e_output_t5_large/011223_220431/checkpoint-115\n",
      "Configuration saved in ./cos_e_output_t5_large/011223_220431/checkpoint-115/config.json\n",
      "Model weights saved in ./cos_e_output_t5_large/011223_220431/checkpoint-115/pytorch_model.bin\n",
      "Saving model checkpoint to ./cos_e_output_t5_large/011223_220431/checkpoint-120\n",
      "Configuration saved in ./cos_e_output_t5_large/011223_220431/checkpoint-120/config.json\n",
      "Model weights saved in ./cos_e_output_t5_large/011223_220431/checkpoint-120/pytorch_model.bin\n",
      "Saving model checkpoint to ./cos_e_output_t5_large/011223_220431/checkpoint-125\n",
      "Configuration saved in ./cos_e_output_t5_large/011223_220431/checkpoint-125/config.json\n",
      "Model weights saved in ./cos_e_output_t5_large/011223_220431/checkpoint-125/pytorch_model.bin\n",
      "Saving model checkpoint to ./cos_e_output_t5_large/011223_220431/checkpoint-130\n",
      "Configuration saved in ./cos_e_output_t5_large/011223_220431/checkpoint-130/config.json\n",
      "Model weights saved in ./cos_e_output_t5_large/011223_220431/checkpoint-130/pytorch_model.bin\n",
      "Saving model checkpoint to ./cos_e_output_t5_large/011223_220431/checkpoint-135\n",
      "Configuration saved in ./cos_e_output_t5_large/011223_220431/checkpoint-135/config.json\n",
      "Model weights saved in ./cos_e_output_t5_large/011223_220431/checkpoint-135/pytorch_model.bin\n",
      "Saving model checkpoint to ./cos_e_output_t5_large/011223_220431/checkpoint-140\n",
      "Configuration saved in ./cos_e_output_t5_large/011223_220431/checkpoint-140/config.json\n",
      "Model weights saved in ./cos_e_output_t5_large/011223_220431/checkpoint-140/pytorch_model.bin\n",
      "Saving model checkpoint to ./cos_e_output_t5_large/011223_220431/checkpoint-145\n",
      "Configuration saved in ./cos_e_output_t5_large/011223_220431/checkpoint-145/config.json\n",
      "Model weights saved in ./cos_e_output_t5_large/011223_220431/checkpoint-145/pytorch_model.bin\n",
      "Saving model checkpoint to ./cos_e_output_t5_large/011223_220431/checkpoint-150\n",
      "Configuration saved in ./cos_e_output_t5_large/011223_220431/checkpoint-150/config.json\n",
      "Model weights saved in ./cos_e_output_t5_large/011223_220431/checkpoint-150/pytorch_model.bin\n",
      "Saving model checkpoint to ./cos_e_output_t5_large/011223_220431/checkpoint-155\n",
      "Configuration saved in ./cos_e_output_t5_large/011223_220431/checkpoint-155/config.json\n",
      "Model weights saved in ./cos_e_output_t5_large/011223_220431/checkpoint-155/pytorch_model.bin\n",
      "Saving model checkpoint to ./cos_e_output_t5_large/011223_220431/checkpoint-160\n",
      "Configuration saved in ./cos_e_output_t5_large/011223_220431/checkpoint-160/config.json\n"
     ]
    },
    {
     "name": "stderr",
     "output_type": "stream",
     "text": [
      "Model weights saved in ./cos_e_output_t5_large/011223_220431/checkpoint-160/pytorch_model.bin\n",
      "Saving model checkpoint to ./cos_e_output_t5_large/011223_220431/checkpoint-165\n",
      "Configuration saved in ./cos_e_output_t5_large/011223_220431/checkpoint-165/config.json\n",
      "Model weights saved in ./cos_e_output_t5_large/011223_220431/checkpoint-165/pytorch_model.bin\n",
      "Saving model checkpoint to ./cos_e_output_t5_large/011223_220431/checkpoint-170\n",
      "Configuration saved in ./cos_e_output_t5_large/011223_220431/checkpoint-170/config.json\n",
      "Model weights saved in ./cos_e_output_t5_large/011223_220431/checkpoint-170/pytorch_model.bin\n",
      "Saving model checkpoint to ./cos_e_output_t5_large/011223_220431/checkpoint-175\n",
      "Configuration saved in ./cos_e_output_t5_large/011223_220431/checkpoint-175/config.json\n",
      "Model weights saved in ./cos_e_output_t5_large/011223_220431/checkpoint-175/pytorch_model.bin\n",
      "Saving model checkpoint to ./cos_e_output_t5_large/011223_220431/checkpoint-180\n",
      "Configuration saved in ./cos_e_output_t5_large/011223_220431/checkpoint-180/config.json\n",
      "Model weights saved in ./cos_e_output_t5_large/011223_220431/checkpoint-180/pytorch_model.bin\n",
      "Saving model checkpoint to ./cos_e_output_t5_large/011223_220431/checkpoint-185\n",
      "Configuration saved in ./cos_e_output_t5_large/011223_220431/checkpoint-185/config.json\n",
      "Model weights saved in ./cos_e_output_t5_large/011223_220431/checkpoint-185/pytorch_model.bin\n",
      "Saving model checkpoint to ./cos_e_output_t5_large/011223_220431/checkpoint-190\n",
      "Configuration saved in ./cos_e_output_t5_large/011223_220431/checkpoint-190/config.json\n",
      "Model weights saved in ./cos_e_output_t5_large/011223_220431/checkpoint-190/pytorch_model.bin\n",
      "Saving model checkpoint to ./cos_e_output_t5_large/011223_220431/checkpoint-195\n",
      "Configuration saved in ./cos_e_output_t5_large/011223_220431/checkpoint-195/config.json\n",
      "Model weights saved in ./cos_e_output_t5_large/011223_220431/checkpoint-195/pytorch_model.bin\n",
      "Saving model checkpoint to ./cos_e_output_t5_large/011223_220431/checkpoint-200\n",
      "Configuration saved in ./cos_e_output_t5_large/011223_220431/checkpoint-200/config.json\n",
      "Model weights saved in ./cos_e_output_t5_large/011223_220431/checkpoint-200/pytorch_model.bin\n",
      "Saving model checkpoint to ./cos_e_output_t5_large/011223_220431/checkpoint-205\n",
      "Configuration saved in ./cos_e_output_t5_large/011223_220431/checkpoint-205/config.json\n",
      "Model weights saved in ./cos_e_output_t5_large/011223_220431/checkpoint-205/pytorch_model.bin\n",
      "Saving model checkpoint to ./cos_e_output_t5_large/011223_220431/checkpoint-210\n",
      "Configuration saved in ./cos_e_output_t5_large/011223_220431/checkpoint-210/config.json\n",
      "Model weights saved in ./cos_e_output_t5_large/011223_220431/checkpoint-210/pytorch_model.bin\n",
      "Saving model checkpoint to ./cos_e_output_t5_large/011223_220431/checkpoint-215\n",
      "Configuration saved in ./cos_e_output_t5_large/011223_220431/checkpoint-215/config.json\n",
      "Model weights saved in ./cos_e_output_t5_large/011223_220431/checkpoint-215/pytorch_model.bin\n",
      "Saving model checkpoint to ./cos_e_output_t5_large/011223_220431/checkpoint-220\n",
      "Configuration saved in ./cos_e_output_t5_large/011223_220431/checkpoint-220/config.json\n",
      "Model weights saved in ./cos_e_output_t5_large/011223_220431/checkpoint-220/pytorch_model.bin\n",
      "Saving model checkpoint to ./cos_e_output_t5_large/011223_220431/checkpoint-225\n",
      "Configuration saved in ./cos_e_output_t5_large/011223_220431/checkpoint-225/config.json\n",
      "Model weights saved in ./cos_e_output_t5_large/011223_220431/checkpoint-225/pytorch_model.bin\n",
      "\n",
      "\n",
      "Training completed. Do not forget to share your model on huggingface.co/models =)\n",
      "\n",
      "\n"
     ]
    },
    {
     "data": {
      "text/html": [
       "Waiting for W&B process to finish... <strong style=\"color:green\">(success).</strong>"
      ],
      "text/plain": [
       "<IPython.core.display.HTML object>"
      ]
     },
     "metadata": {},
     "output_type": "display_data"
    },
    {
     "data": {
      "text/html": [
       "<style>\n",
       "    table.wandb td:nth-child(1) { padding: 0 10px; text-align: left ; width: auto;} td:nth-child(2) {text-align: left ; width: 100%}\n",
       "    .wandb-row { display: flex; flex-direction: row; flex-wrap: wrap; justify-content: flex-start; width: 100% }\n",
       "    .wandb-col { display: flex; flex-direction: column; flex-basis: 100%; flex: 1; padding: 10px; }\n",
       "    </style>\n",
       "<div class=\"wandb-row\"><div class=\"wandb-col\"><h3>Run history:</h3><br/><table class=\"wandb\"><tr><td>train/epoch</td><td>▁▁▁▁▂▂▂▂▂▃▃▃▃▃▃▄▄▄▄▄▅▅▅▅▅▆▆▆▆▆▆▇▇▇▇▇████</td></tr><tr><td>train/global_step</td><td>▁▁▁▁▂▂▂▂▂▃▃▃▃▃▃▄▄▄▄▄▅▅▅▅▅▆▆▆▆▆▆▇▇▇▇▇████</td></tr><tr><td>train/learning_rate</td><td>████▇▇▇▇▇▆▆▆▆▆▆▅▅▅▅▅▅▄▄▄▄▄▃▃▃▃▃▃▂▂▂▂▂▁▁▁</td></tr><tr><td>train/loss</td><td>█▄▃▃▂▂▂▂▂▂▂▂▂▂▁▁▁▁▁▁▁▁▁▁▁▁▁▁▁▁▁▁▁▁▁▁▁▁▁▁</td></tr><tr><td>train/total_flos</td><td>▁</td></tr><tr><td>train/train_loss</td><td>▁</td></tr><tr><td>train/train_runtime</td><td>▁</td></tr><tr><td>train/train_samples_per_second</td><td>▁</td></tr><tr><td>train/train_steps_per_second</td><td>▁</td></tr></table><br/></div><div class=\"wandb-col\"><h3>Run summary:</h3><br/><table class=\"wandb\"><tr><td>train/epoch</td><td>25.0</td></tr><tr><td>train/global_step</td><td>225</td></tr><tr><td>train/learning_rate</td><td>0.0</td></tr><tr><td>train/loss</td><td>1.454</td></tr><tr><td>train/total_flos</td><td>297896976384000.0</td></tr><tr><td>train/train_loss</td><td>2.12755</td></tr><tr><td>train/train_runtime</td><td>569.5601</td></tr><tr><td>train/train_samples_per_second</td><td>3.16</td></tr><tr><td>train/train_steps_per_second</td><td>0.395</td></tr></table><br/></div></div>"
      ],
      "text/plain": [
       "<IPython.core.display.HTML object>"
      ]
     },
     "metadata": {},
     "output_type": "display_data"
    },
    {
     "data": {
      "text/html": [
       "Synced <strong style=\"color:#cdcd00\">./cos_e_output_t5_large</strong>: <a href=\"https://wandb.ai/cuhk_lavilab/evaluate_LM_with_rationalization/runs/jp4hmyx5\" target=\"_blank\">https://wandb.ai/cuhk_lavilab/evaluate_LM_with_rationalization/runs/jp4hmyx5</a><br/>Synced 6 W&B file(s), 0 media file(s), 0 artifact file(s) and 0 other file(s)"
      ],
      "text/plain": [
       "<IPython.core.display.HTML object>"
      ]
     },
     "metadata": {},
     "output_type": "display_data"
    },
    {
     "data": {
      "text/html": [
       "Find logs at: <code>./wandb/run-20230112_220501-jp4hmyx5/logs</code>"
      ],
      "text/plain": [
       "<IPython.core.display.HTML object>"
      ]
     },
     "metadata": {},
     "output_type": "display_data"
    }
   ],
   "source": [
    "# os.environ[\"WANDB_DISABLED\"] = \"True\"\n",
    "if data_args.generations_filepath is None:\n",
    "    callbacks = [TensorBoardCallback()]\n",
    "    if data_args.early_stopping_patience > 0:\n",
    "        callbacks.append(EarlyStoppingCallback(early_stopping_patience=data_args.early_stopping_patience))\n",
    "        training_args.load_best_model_at_end = True\n",
    "    else:\n",
    "        training_args.load_best_model_at_end = False  # use the last model state\n",
    "    training_args.metric_for_best_model = 'eval_loss'\n",
    "    training_args.greater_is_better = False\n",
    "    if training_args.eval_steps is None:\n",
    "        training_args.evaluation_strategy = EvaluationStrategy.EPOCH\n",
    "    else:\n",
    "        training_args.evaluation_strategy = EvaluationStrategy.STEPS\n",
    "\n",
    "    trainer = Trainer(\n",
    "        model=model,\n",
    "        args=training_args,\n",
    "        train_dataset=our_data_splits['train'],\n",
    "        eval_dataset=our_data_splits['dev'],\n",
    "        data_collator=SequenceCollator(\n",
    "            model=model_class, pad_token=tokenizer.pad_token_id\n",
    "        ),\n",
    "        callbacks=callbacks,\n",
    "    )\n",
    "\n",
    "# Training. Don't train if it is use_gpt3\n",
    "if training_args.do_train and not model_args.use_gpt3:\n",
    "    start_time = time.time()\n",
    "    trainer.train()\n",
    "    train_time = time.time() - start_time\n",
    "    model = trainer.model\n",
    "    wandb.finish()\n",
    "else:\n",
    "    start_time = time.time()\n",
    "    train_time = time.time() - start_time"
   ]
  },
  {
   "cell_type": "code",
   "execution_count": 40,
   "id": "ade3c632",
   "metadata": {},
   "outputs": [],
   "source": [
    "# print(our_data_splits['dev'][0]['our_explanation'])\n",
    "# inp_ids=torch.tensor(our_data_splits['dev'][0][\"input_ids\"], device=model.device).reshape(1, -1)\n",
    "# out = model.generate(\n",
    "#                     inp_ids,\n",
    "#                     max_length=100,\n",
    "#                     pad_token_id=tokenizer.pad_token_id,\n",
    "#                     eos_token_id=tokenizer.eos_token_id,\n",
    "#                 )\n",
    "# skip_special_tokens = False if \"infilling\" in data_args.io_format else True\n",
    "# words = tokenizer.decode(out[0].tolist(), skip_special_tokens=skip_special_tokens)\n",
    "# print(words)"
   ]
  },
  {
   "cell_type": "code",
   "execution_count": 41,
   "id": "b88935f8",
   "metadata": {},
   "outputs": [],
   "source": [
    "# len(our_data_splits['dev']),len(our_data_splits['train'])"
   ]
  },
  {
   "cell_type": "code",
   "execution_count": 42,
   "id": "8eda472b",
   "metadata": {},
   "outputs": [],
   "source": [
    "# our_data_splits['dev']"
   ]
  },
  {
   "cell_type": "code",
   "execution_count": 43,
   "id": "77c15190",
   "metadata": {},
   "outputs": [],
   "source": [
    "# for da in our_data_splits['train']:\n",
    "#     print(\"*******\")\n",
    "#     print(\"question: {}\".format(da['question']))\n",
    "#     print(\"answer: {}\".format(da['answer']))\n",
    "#     print(\"choices: {}\".format(da['choices']))\n",
    "#     print(\"our_explanation: {}\".format(da['our_explanation']))\n",
    "#     inp_ids = torch.tensor(da[\"input_ids\"], device=model.device).reshape(1, -1)\n",
    "#     out = model.generate(\n",
    "#                     inp_ids,\n",
    "#                     max_length=100,\n",
    "#                     pad_token_id=tokenizer.pad_token_id,\n",
    "#                     eos_token_id=tokenizer.eos_token_id,\n",
    "#                 )\n",
    "#     skip_special_tokens = False if \"infilling\" in data_args.io_format else True\n",
    "#     words = tokenizer.decode(out[0].tolist(), skip_special_tokens=skip_special_tokens)\n",
    "#     print(\"generated explanation: {}\".format(words))\n",
    "#     print(\"#######\")"
   ]
  },
  {
   "cell_type": "code",
   "execution_count": 44,
   "id": "2ca6cbe4",
   "metadata": {},
   "outputs": [],
   "source": [
    "# for da in our_data_splits['dev']:\n",
    "#     print(\"*******\")\n",
    "#     print(\"question: {}\".format(da['question']))\n",
    "#     print(\"answer: {}\".format(da['answer']))\n",
    "#     print(\"choices: {}\".format(da['choices']))\n",
    "#     print(\"our_explanation: {}\".format(da['our_explanation']))\n",
    "#     inp_ids = torch.tensor(da[\"input_ids\"], device=model.device).reshape(1, -1)\n",
    "#     out = model.generate(\n",
    "#                     inp_ids,\n",
    "#                     max_length=100,\n",
    "#                     pad_token_id=tokenizer.pad_token_id,\n",
    "#                     eos_token_id=tokenizer.eos_token_id,\n",
    "#                 )\n",
    "#     skip_special_tokens = False if \"infilling\" in data_args.io_format else True\n",
    "#     words = tokenizer.decode(out[0].tolist(), skip_special_tokens=skip_special_tokens)\n",
    "#     print(\"generated explanation: {}\".format(words))\n",
    "#     print(\"#######\")"
   ]
  },
  {
   "cell_type": "code",
   "execution_count": 45,
   "id": "69977540",
   "metadata": {},
   "outputs": [],
   "source": [
    "# good_model = T5ForConditionalGeneration.from_pretrained(\"./cos_e_output_t5_3b/112022_235539/checkpoint-30\")"
   ]
  },
  {
   "cell_type": "code",
   "execution_count": 46,
   "id": "62fca4b8",
   "metadata": {},
   "outputs": [],
   "source": [
    "# for da in our_data_splits['dev']:\n",
    "#     print(\"*******\")\n",
    "#     print(\"question: {}\".format(da['question']))\n",
    "#     print(\"answer: {}\".format(da['answer']))\n",
    "#     print(\"choices: {}\".format(da['choices']))\n",
    "#     print(\"our_explanation: {}\".format(da['our_explanation']))\n",
    "#     inp_ids = torch.tensor(da[\"input_ids\"], device=model.device).reshape(1, -1)\n",
    "#     out = good_model.generate(\n",
    "#                     inp_ids,\n",
    "#                     max_length=100,\n",
    "#                     pad_token_id=tokenizer.pad_token_id,\n",
    "#                     eos_token_id=tokenizer.eos_token_id,\n",
    "#                 )\n",
    "#     skip_special_tokens = False if \"infilling\" in data_args.io_format else True\n",
    "#     words = tokenizer.decode(out[0].tolist(), skip_special_tokens=skip_special_tokens)\n",
    "#     print(\"generated explanation: {}\".format(words))\n",
    "#     print(\"#######\")"
   ]
  },
  {
   "cell_type": "code",
   "execution_count": 47,
   "id": "3a7de102",
   "metadata": {},
   "outputs": [],
   "source": [
    "# train_output = trainer.evaluate(our_data_splits['train'].select([0,1,2,3,4]))\n",
    "# train_output"
   ]
  },
  {
   "cell_type": "code",
   "execution_count": 48,
   "id": "f43528ca",
   "metadata": {},
   "outputs": [],
   "source": [
    "# results = {}\n",
    "# if training_args.do_eval:\n",
    "#     start_time = time.time()\n",
    "#     logger.info(\"*** Evaluate on train set***\")\n",
    "#     logger.info(len(data_splits['train']))\n",
    "#     train_output = trainer.evaluate(our_data_splits['train'])\n",
    "#     perplexity = math.exp(train_output[\"eval_loss\"])\n",
    "#     results[\"perplexity_train\"] = perplexity\n",
    "\n",
    "#     # repeat\n",
    "#     logger.info(\"*** Evaluate on dev set***\")\n",
    "#     logger.info(len(data_splits['validation']))\n",
    "#     eval_output = trainer.evaluate(data_splits['validation'])\n",
    "#     perplexity = math.exp(eval_output[\"eval_loss\"])\n",
    "#     results[\"perplexity_validation\"] = perplexity"
   ]
  },
  {
   "cell_type": "markdown",
   "id": "3d2d2ec9",
   "metadata": {},
   "source": [
    "# Rationale Discriminator"
   ]
  },
  {
   "cell_type": "markdown",
   "id": "bd5eeaa4",
   "metadata": {},
   "source": [
    "## Construction of generated rationale and accepted rationale pairs\n"
   ]
  },
  {
   "cell_type": "code",
   "execution_count": 49,
   "id": "e7f1c257",
   "metadata": {},
   "outputs": [
    {
     "data": {
      "text/plain": [
       "250"
      ]
     },
     "execution_count": 49,
     "metadata": {},
     "output_type": "execute_result"
    }
   ],
   "source": [
    "len(fse_csqa_dev_data_dict)"
   ]
  },
  {
   "cell_type": "code",
   "execution_count": 50,
   "id": "c7bcb573",
   "metadata": {},
   "outputs": [
    {
     "name": "stderr",
     "output_type": "stream",
     "text": [
      "\r",
      "  0%|                                                                                                                                                                               | 0/986 [00:00<?, ?it/s]"
     ]
    },
    {
     "name": "stdout",
     "output_type": "stream",
     "text": [
      "*******\n",
      "question: Where can you likely buy many poems?\n",
      "answer: book store\n",
      "choices: ['book of poetry', 'literature book', 'book store', 'poetry book', 'bookshelf']\n",
      "common expl list: ['A bookstore sells a variety of books, including poetry books; chains of bookstores sometimes specialize in categories such as poetry or literature.', 'A book store is a place where you can buy books, including poetry books.']\n"
     ]
    },
    {
     "name": "stderr",
     "output_type": "stream",
     "text": [
      "\r",
      "  0%|▏                                                                                                                                                                    | 1/986 [00:27<7:39:20, 27.98s/it]"
     ]
    },
    {
     "name": "stdout",
     "output_type": "stream",
     "text": [
      "generated explanation: <pad> <extra_id_0> A book store is a place where you can buy many poems. A book store is a place where you can find a wide variety of books, from small to large. At a book store, you can find a wide variety of books, from small to large. A book store is a book store that specializes in poetry. A book store is a place where you can buy poetry at a reasonable price. It is a place where you can find a variety of books and other books, and the staff is a book store is a variety of poems. A book store is a book store that can also find many other books and other books, such as books on topics such as stories, poems, or stories. The book store also has a variety of books on subjects such as stories, and poems. Book stores are also a variety of different types of poems. In addition, you can also find a variety of poems, and other books are often a variety of prices, and variety of poems that are written by poets and poetry. This is a great place to buy poetry as you can also find many other books. In addition to the book store, you can also find many other products that can be found at a book store. Book stores are also a great place to buy poetry at a variety of other books. This is important because they can be a place where you can find many poems. Book stores also a variety of prices, and styles. They can also be found in different books that are priced at different styles and styles. This is a great place to find poems that you can be purchased at a book store.</s>\n",
      "########\n",
      "*******\n",
      "question: What could bringing suit do to a rivalry?\n",
      "answer: aggravation\n",
      "choices: ['going to court', 'randomness', 'anger', 'aggravation', 'tensions']\n",
      "common expl list: ['Bringing suit against a rival could aggravate the rivalry.']\n"
     ]
    },
    {
     "name": "stderr",
     "output_type": "stream",
     "text": [
      "\r",
      "  0%|▎                                                                                                                                                                    | 2/986 [00:30<3:35:19, 13.13s/it]"
     ]
    },
    {
     "name": "stdout",
     "output_type": "stream",
     "text": [
      "generated explanation: <pad> <extra_id_0> A lawsuit can be a costly and damaging step in the battle between two parties. It can also be a form of revenge, as a court can order the parties to pay a fine or pay a court-appointed personal representative to settle the matter. This is because the parties are legally entitled to their own personal attorney and to sue each other if they are sued. This is because the court has the power to decide the identity of the person who brought the suit, and the court has the power to decide whether the person is innocent</s>\n",
      "########\n",
      "*******\n",
      "question: A person who yawns and paces to help pass the time is likely feeling what?\n",
      "answer: boredom\n",
      "choices: ['ridiculous', 'excitement', 'meanness', 'terrorism', 'boredom']\n",
      "common expl list: ['A bored person would pace and yawn to make time go by faster.', 'By yawning and pacing one shows signs of being bored.', 'Yawning and pacing is a sign of being bored, etc...']\n"
     ]
    },
    {
     "name": "stderr",
     "output_type": "stream",
     "text": [
      "\r",
      "  0%|▌                                                                                                                                                                    | 3/986 [00:45<3:44:55, 13.73s/it]"
     ]
    },
    {
     "name": "stdout",
     "output_type": "stream",
     "text": [
      "generated explanation: <pad> <extra_id_0> A person who yawns and paces to help pass the time is likely feeling boredom. Boredom is a common feeling that can be caused by a variety of factors. For example, a person who yaws and paces to help pass the time is likely feeling bored. Yawning and paces are often used to help pass the time, and can be used to help pass the time. Boredom is a common emotion that can be attributed to a number of factors. It can be a sign that the person is suffering from boredom. It can be a sign that the person is likely experiencing boredom. It is a sign of boredom. Boredom is often a person who paces to pass the time. Yawning and paces to help pass the time. It can be a sign that the person is suffering from boredom. Boredom can be a sign of boredom. It is also a sign of a person who is experiencing boredom. Yawning and paces to help pass the time. Boredom is a sign of a person who is likely feeling bored and is likely suffering from boredom. Ying and paces to help pass the time.</s>\n",
      "########\n",
      "*******\n",
      "question: I only like fiction books, why should I read a non-fiction book?\n",
      "answer: knowledge\n",
      "choices: ['knowledge', 'been printed new', 'many words', 'for fun', 'cover']\n",
      "common expl list: ['Non-fiction books contain knowledge.']\n"
     ]
    },
    {
     "name": "stderr",
     "output_type": "stream",
     "text": [
      "\r",
      "  0%|▋                                                                                                                                                                    | 4/986 [00:59<3:51:03, 14.12s/it]"
     ]
    },
    {
     "name": "stdout",
     "output_type": "stream",
     "text": [
      "generated explanation: <pad> <extra_id_0> I like fiction books because they are a good source of information and they are also entertaining to read. Non-fiction books are generally written by people who have a high intellect and high intelligence. They are a good way to gain knowledge about a subject and to gain a better understanding of the world. They also provide a deeper understanding of the world than fiction books can provide. This knowledge can help readers make better decisions about their lives, and can help them make better decisions about their finances. Moreover, non-fiction books provide a good way to learn about the world and how to think. They can provide a great way to learn more complex concepts, and can be found in books that are more accessible to read. They provide a more accessible way to learn about the world. They are also a great way to learn about the world. They can help readers improve their knowledge and improve their reading experience. They can also provide a way to gain knowledge and improve their own perception of the world. In addition to their own life, they can help them make better decisions. They can also provide a way to improve their knowledge and skills. They can help them gain a better understanding of the world around them. They can also provide readers with tools to gain knowledge and make better decisions. They can help readers gain confidence and improve their lives. They can also provide a way to gain knowledge and improve their knowledge and skills and knowledge. They can provide a way to gain a better understanding of the world and skills they need. They can help people become more knowledgeable and improve their own knowledge and skills. They can also provide a better understanding of the world. They can provide a better understanding of their own knowledge and skills and confidence.</s>\n",
      "########\n",
      "*******\n",
      "question: An American might hike a mountain north to get to what?\n",
      "answer: canada\n",
      "choices: ['canada', 'switzerland', 'orlando', 'austria', 'surface of earth']\n",
      "common expl list: ['If an American hiked north, they would likely end up in Canada.']\n"
     ]
    },
    {
     "name": "stderr",
     "output_type": "stream",
     "text": [
      "\r",
      "  1%|▊                                                                                                                                                                    | 5/986 [01:03<2:48:59, 10.34s/it]"
     ]
    },
    {
     "name": "stdout",
     "output_type": "stream",
     "text": [
      "generated explanation: <pad> <extra_id_0> An American might hike a mountain north to reach Canada. Canada is a country in the Arctic Ocean that is located in the northern hemisphere, and is surrounded by a mountain range that is steep and rugged, with peaks reaching up to 9,000 feet. The mountains are often steep and rugged, with many points of interest, such as Mount Rainier, which is the highest peak in the Canadian Rocky Mountains. The route is often a route that involves climbing a mountain and crossing a river system, which can lead to the Canadians, which can be reached by hiking a mountain. The summit is 2,000 feet of the Canadians, and the highest point of the Canadian Mount</s>\n",
      "########\n",
      "*******\n",
      "question: Sam spent most of his time standing up.  His job was hectic and he never got any rest. But he was the best cashier at his workplace.    Where might he work?\n",
      "answer: supermarket\n",
      "choices: ['bookstore', 'count till', 'supermarket', 'shop', 'preschool']\n",
      "common expl list: [\"The best cashiers work setting up lines of products, yhis is usually done from being on one's feet. Supermarkets use till systems to swipe credit cards, thus cashiering is done by standing up.\", 'Since one spends most of his time standing when working as a cashier, Sam probably works at a supermarket where groceries are sold. Because his workplace is full of activities and punten, he never gets any rest.']\n"
     ]
    },
    {
     "name": "stderr",
     "output_type": "stream",
     "text": [
      "\r",
      "  1%|█                                                                                                                                                                    | 6/986 [01:17<3:08:17, 11.53s/it]"
     ]
    },
    {
     "name": "stdout",
     "output_type": "stream",
     "text": [
      "generated explanation: <pad> <extra_id_0> Sam worked a cashier job at a supermarket. He spent most of his time standing up, which was a big part of his job. Standing up is a big part of the job because it requires a lot of concentration and concentration. He was also able to use his flexibility and agility to meet the demands of the job. This helped him to develop a better understanding of the needs of the customers and the needs of the business. This allowed him to focus on his job and to focus on the customers. This helped Sam to develop a better understanding of the importance of the business. Sam was also able to show customers, which was able to keep up and to take orders and make a better customer service a good cashier can use his skills to help customers and make purchases. This helped him to gain a better understanding of the customers and how to help them. Sam was able to understand the needs of the customers and how to make a better understanding of the customers and how to make purchases and how to ensure that the customer service and satisfaction of the customer. He was able to communicate with the customer and his needs and how to use his skills and responsibilities to manage his time and his customers.</s>\n",
      "########\n",
      "*******\n",
      "question: James raked fallen leaves into a pile. Where might he leave the pile?\n",
      "answer: ground\n",
      "choices: ['forest', 'roof', 'garden', 'tree', 'ground']\n",
      "common expl list: ['Leaves are often raked into piles on the ground.']\n"
     ]
    },
    {
     "name": "stderr",
     "output_type": "stream",
     "text": [
      "\r",
      "  1%|█▏                                                                                                                                                                   | 7/986 [01:41<4:13:14, 15.52s/it]"
     ]
    },
    {
     "name": "stdout",
     "output_type": "stream",
     "text": [
      "generated explanation: <pad> <extra_id_0> James raked fallen leaves into a pile. This is because the leaves are a natural part of the natural environment and therefore are not easily gathered and gathered into a pile. This is because the leaves are a natural product of the environment and are not easily disposed of. As a result, the pile is not likely to be able to be removed quickly enough to be removed from the ground. Instead, the pile will be placed in a location that is safe for James to access. This is because the pile is likely to be able to be a place that is not only. The pile is not only able to be a place for James to leave the pile in a place that is not able to retrieve the leaves and then removed. This is because the leaves are not as they are not able to be discarded. This is because the leaves are not as a good place for James to collect them. This is because the leaves are not able to be thrown into the ground. The pile is a safe place for James to dispose of the leaves and not able to retrieve them and a safe for him to access the pile. The pile is not able to retrieve the leaves and to retrieve them and a safe place. The pile is also not a safe place for James. This is because it is not a good idea for James to retrieve them and therefore not able to get into the pile. This is because the pile is not a safe for him to get rid of the leaves and therefore a good for him to retrieve them and to get away from the pile and<extra_id_27> </s>\n",
      "########\n",
      "*******\n",
      "question: What happens when we fail at something we attempt?\n",
      "answer: leave\n",
      "choices: ['leave', 'give up', 'trying', 'we get shunned', 'fail']\n",
      "common expl list: ['If we fail at something, we usually leave (quit) that activity; failing is an action, while giving up and trying are both ways of not acting.', \"If we engage in an activity, like a sport, and fail, we don't want to continue doing it. It's much easier simply to leave.\"]\n"
     ]
    },
    {
     "name": "stderr",
     "output_type": "stream",
     "text": [
      "\r",
      "  1%|█▎                                                                                                                                                                   | 8/986 [01:57<4:19:23, 15.91s/it]"
     ]
    },
    {
     "name": "stdout",
     "output_type": "stream",
     "text": [
      "generated explanation: <pad> <extra_id_0> When we fail at something we attempt, we fail at something we care about. Failure to attempt something is a sign that we are not ready to take the next step. Failure to attempt something is a sign that we are not ready to take the next step. Failure to attempt something is a sign that we are not ready to take the next step. Failure to attempt something is a sign that we are not ready to take the next step. Failure to attempt something is a sign that we are not ready to take the next step. Failure to take us off the next step. Failure to our confidence and can help us move forward. When we are not sure that the next step. Failure to take us to take the next. Failure to help us learn from the lesson, and can help us learn from the experience. Failure to help us learn from the lesson. Failure to take the next step is a learning curve. Failure to help us to learn from the lessons we have learned from the lesson. It can be a sign that we have been taught by trying to take the next time. Failure to learn new knowledge and help us to be successful in the future. Failure to learn from the lesson learned from the experience. It is a sign that we have taken the next step.</s>\n",
      "########\n",
      "*******\n",
      "question: The referee wasn't specialized in one thing. He refereed many games.  He was offered a job but wasn't sure what it would be.  What did he know it would be?\n",
      "answer: sporting event\n",
      "choices: ['side with opponent', 'football', 'hockey game', 'part two boxers', 'sporting event']\n",
      "common expl list: ['Referees are specialized in sports, and so, they would be expected to know how to referee a sporting event.']\n"
     ]
    },
    {
     "name": "stderr",
     "output_type": "stream",
     "text": [
      "\r",
      "  1%|█▌                                                                                                                                                                   | 9/986 [03:01<8:22:33, 30.86s/it]"
     ]
    },
    {
     "name": "stdout",
     "output_type": "stream",
     "text": [
      "generated explanation: <pad> <extra_id_0> He was offered a job but wasn't sure what it would be. He wasn't sure what it would be. Refereeing is a job that requires the use of judgment and judgment to determine the outcome of a sporting event. It is a job that requires the use of judgment and judgment to determine the outcome of a sporting event. It is a job that requires the use of the entire mind, not just the eyes of the referee. It is a job that requires the use of the whole brain to be a sportsmen's spirit of competition, and team to win the game. It is a job for the refereeeeeed be a team to refereeed a team's performance. It is important to be a refered that the team win the team and lose out to the team. It is a job because it is a job because it is a job. It is a job that requires the refereed of a team. It is a job that the team and the game. It is a job that requires the team to refereeed to be a team. It is a job that requires team to be a competitive spirit and team. It is a job that requires a job because it is a job to refereeed to be a team. It is a job because it is a job that requires the team. It is a job that requires the refered to be a job that requires the refereeeeeeeeeeeed to be a job that involves a job that requires the team. It is a job that the team to refereeeeeees job that is a job that can be a job that requires the team and a job that involves a job that requires the ability to be a job that the team and not a job that can be a job that can be a job. It can be a job that the right fit for the right fit. The refereeeeeeeees the right fit for the right fit in the right fit into the right fit the right fit in a job that can compete in a great opportunity to be a great fit the right fit and a team that can provide\n",
      "########\n",
      "*******\n",
      "question: Susan threw the highly elastic ball at the wall.  The ball did what?\n",
      "answer: rebound\n",
      "choices: ['bounce', 'recoil', 'rebound', 'underwear', 'stretch']\n",
      "common expl list: ['Elastic balls collide with the wall, and boom bounce back after a collision.']\n"
     ]
    },
    {
     "name": "stderr",
     "output_type": "stream",
     "text": [
      "\r",
      "  1%|█▋                                                                                                                                                                  | 10/986 [03:23<7:36:17, 28.05s/it]"
     ]
    },
    {
     "name": "stdout",
     "output_type": "stream",
     "text": [
      "generated explanation: <pad> <extra_id_0> Susan threw the highly elastic ball at the wall. The rebound was a result of the ball being compressed and rebounded. This is because the elastic material is highly elastic and therefore more prone to breaking than other materials. The ball was able to bounce back and rebound quickly, allowing Susan to get a better shot. This is because the ball was able to bounce back and rebound more quickly than other materials. This is because the ball was more elastic and could bounce back and rebound more quickly. This is because the ball was bouncing and rebounding skills were developed by the ball. This is a great way to get a rebound. Susan was able to get a better chance to score points, which can help her score points. The rebound was also able to get a better shot off the wall. The ball was able to get a rebound, which allowed her to score points. The ball was able to score more points. Susan was able to get a better rebound than before she was able to get a rebounding. The ball was more elastic and rebound was able to rebounding. The ball was able to create a better chance to rebound, which in allowing Susan to score points. The ball was also able to rebound faster than normal rebound, which allowed her to score more points. The rebounding ability to score allowing Susan to score points, which allowed Susan to score points, which allowed her to score more points and make up points, which helped her to score more points, which helped her goal and helped her</s>\n",
      "########\n",
      "*******\n",
      "question: John lived in a small island surrounded by flowing liquid H2O   Where might he live?\n",
      "answer: mississippi river\n",
      "choices: ['japan', 'hawaii', 'mississippi river', 'pacific ocean', 'body of water']\n",
      "common expl list: ['there are numerous islands in the mississippi river in the united states, making it possible that John may have lived on one.']\n"
     ]
    },
    {
     "name": "stderr",
     "output_type": "stream",
     "text": [
      "\r",
      "  1%|█▊                                                                                                                                                                  | 11/986 [03:46<7:12:36, 26.62s/it]"
     ]
    },
    {
     "name": "stdout",
     "output_type": "stream",
     "text": [
      "generated explanation: <pad> <extra_id_0> John lived on a small island surrounded by flowing liquid H2O. He could have lived on an island surrounded by flowing liquid H2O. The island would be surrounded by the Mississippi River, which flows from the north to the south. The river is a large, flowing body of water that flows through the Mississippi River and flows into the Mississippi River. The river is a large, moving body of water that flows into the Mississippi River. The river is a large, flowing body of water. The river flows through the island, and the river. The island would be surrounded by the river. The river is a large, and the island would be surrounded by the river. The river is a large body of water that flows from the Mississippi River. The island would be surrounded by the river's surface of the Mississippi River. The river flows through the island, and would be surrounded by the river. The river is a large, making it a small island. The island would be surrounded by the river. The river is a great place for people to live in the river. The river is also a great place to live on a great place to live. The river is also a great place to live. The river is a great place to live on the Mississippi River is a great place to live. The Mississippi River is also a great place to live.</s>\n",
      "########\n",
      "*******\n",
      "question: What will the student have to do on the test?\n",
      "answer: solve equation\n",
      "choices: ['finish college', 'begin teaching', 'write', 'answer question', 'solve equation']\n",
      "common expl list: ['A student has to solve equations to learn a given theory that is presented in class.']\n"
     ]
    },
    {
     "name": "stderr",
     "output_type": "stream",
     "text": [
      "\r",
      "  1%|█▉                                                                                                                                                                  | 12/986 [04:08<6:47:57, 25.13s/it]"
     ]
    },
    {
     "name": "stdout",
     "output_type": "stream",
     "text": [
      "generated explanation: <pad> <extra_id_0> Students will be asked to solve equations on a test. On the test, students will have to solve problems that are related to the subject of algebra. Students will be asked to solve equations that are related to the subject of geometry. The student will have to determine which equations are correct and which are incorrect. This is because students are expected to solve the problem in a given time. Students will also have to determine which ones are incorrect and which are not. Students will also have to determine which equations are correct and which are not. This will help them to understand the concepts. Students will be able to solve problems and how to solve equations. This will help students understand the concepts they will be tested on the test. On the test, students will have to use their knowledge and practice exercises to learn how to use words to write their own sentences and numbers. Students will have to use their knowledge and wording to use the answers to write down the problem. Students will have to use their own words to write down the answers to their own problems and write down the answers. On the test, students will have to use their own words and sentences to answer questions. On the test, students will have to use their knowledge and understanding the answers. On the test, students will have to<extra_id_27> </s>\n",
      "########\n",
      "*******\n",
      "question: The tourists saw what they thought was a statue, but they soon discovered it was performance art went it began what?\n",
      "answer: moving\n",
      "choices: ['growing mold', 'moving', 'accent garden', 'green', 'painting']\n",
      "common expl list: ['Performance art is art that is performed, rather than being a static object. In this case, the statue was moving, which is a sign of performance art.']\n"
     ]
    },
    {
     "name": "stderr",
     "output_type": "stream",
     "text": [
      "\r",
      "  1%|██▏                                                                                                                                                                 | 13/986 [04:29<6:26:31, 23.84s/it]"
     ]
    },
    {
     "name": "stdout",
     "output_type": "stream",
     "text": [
      "generated explanation: <pad> <extra_id_0> The tourists saw a statue, but soon discovered it was a performance art piece. Performance art is art that moves, and it is often accompanied by music, dance, and other visual effects. The performance art piece was a moving sculpture, and the movement was accompanied by a soundtrack. The music was accompanied by a score of classical music, and the performers were able to play the music and dance along with the audience. The performance art piece was accompanied by a light show, which was a combination of live and moving. The performers were performing live, and the statues. The performance art was a piece of music, and other forms of the public, and the performers were a variety of musical acts. The performances were a great way to get the audience and it was a great way to see the performers were able to create a piece of art. The performance art work was a variety of styles, and was a variety of characters, and a variety of styles, including a variety of styles, and allowing for the audience to see the work of the performers. The performance was a great way to show to give the audience a different and the performers could see the audience. The performance art was a great way to show off its<extra_id_27> </s>\n",
      "########\n",
      "*******\n",
      "question: What is a good way to carry a small dog?\n",
      "answer: backpack\n",
      "choices: ['good hands', 'backpack', 'chinese food', 'grocery bag', 'basket']\n",
      "common expl list: ['Backpacks are a good way to carry things, and small dogs are things.']\n"
     ]
    },
    {
     "name": "stderr",
     "output_type": "stream",
     "text": [
      "\r",
      "  1%|██▎                                                                                                                                                                 | 14/986 [04:41<5:30:34, 20.41s/it]"
     ]
    },
    {
     "name": "stdout",
     "output_type": "stream",
     "text": [
      "generated explanation: <pad> <extra_id_0> A backpack is a good way to carry a small dog. It is usually made of durable materials, such as nylon, canvas, or canvas. It is also a great way to carry a small dog, such as a leash, collar, and leash. A backpack is a lightweight and compact bag that can be easily carried by a person or a small dog. A backpack is a great way to carry a backpack with you, and a backpack can be used to carry a small dog safely and easily. A backpack can be used to carry a dog in a backpack is a convenient way to carry a large dog, and can be used to carry a small dog safely and to get around with you on the go. A backpack can be used to carry a small dog or a backpack with a secure and can be used to carry a small dog easily carried around the day. A backpack can also be used to carry a small dog safely and easily. It is also easy to carry a dog safely and can be easily accessible to store small dog. A backpack can be used to transport a dog or for a dog to be used to carry a large dog or a large dog safely and if the dog is a dog. A backpacks can be used to transport a dog or a dog on a dog safely.</s>\n",
      "########\n",
      "*******\n",
      "question: Both sides in World War I used what to cause death that is now banned?\n",
      "answer: poisonous gas\n",
      "choices: ['homicide', 'poisonous gas', 'cyanide', 'nuclear weapons', 'massive weapons']\n",
      "common expl list: ['Poison gas is a chemical known for its ability to kill (therefore, if both sides used it, people on both sides died from its use), and it has since gone on to be outlawed in many countries.']\n"
     ]
    },
    {
     "name": "stderr",
     "output_type": "stream",
     "text": [
      "\r",
      "  2%|██▍                                                                                                                                                                 | 15/986 [05:27<7:32:18, 27.95s/it]"
     ]
    },
    {
     "name": "stdout",
     "output_type": "stream",
     "text": [
      "generated explanation: <pad> <extra_id_0> Both sides in World War I used poisonous gas to cause death that is now banned. The gas was used to cause death by causing poison gas to the victims of both sides in the war. The gas was used to cause death by causing gas to explode, which caused the deaths of many people. The gas was used to kill as many as possible, but it was not enough to cause mass death. The gas was used by both sides in the war to cause death and was not enough to cause mass death. The gas was not enough to cause any of the gas that was not enough to kill anyone. It was not enough to kill anyone who was injured or killed. The gas was used to kill people. It was not enough to kill people, but it was not enough to cause death. It was not enough to cause serious injuries to cause serious injuries and could have been used to kill and cause serious injuries or even worse. The gas was not enough to cause injuries and the death. The gas was used to cause serious injuries and was not enough to cause injuries. The gas was used to cause serious injuries and was not enough to cause serious injuries. It was not enough to cause serious enough to cause serious injuries and cause significant damage to people. The gas was used to cause injuries and the victims of the war and caused by the gas was not enough to cause serious injuries. The gas was not enough to cause serious injury and cause serious injuries to cause a number of serious injuries to cause serious injuries. The gas was used to cause massive explosions and cause massive damage to the victims to the victims. The gas was not enough to cause the cause mass destruction and cause death due to the gas was not enough to cause the cause the victims of the gassed by the gas, and the deaths of the death. The gas was not enough to cause the victims to cause the deaths and the gas was not enough to cause the victims to cause the victims and the victims to cause them. The gas was not enough to cause death and was not enough to cause them.</s>\n",
      "########\n",
      "*******\n",
      "question: Where is disease often spread but shouldn't be?\n",
      "answer: hospital\n",
      "choices: ['ghost town', 'third world country', 'human body', 'rug', 'hospital']\n",
      "common expl list: ['Disease is spread most commonly in hospitals, where sick patients are treated and recovered hosts of disease are found.', 'Hospitals are places where people go to get better, and therefore disease is often spread there.']\n"
     ]
    },
    {
     "name": "stderr",
     "output_type": "stream",
     "text": [
      "\r",
      "  2%|██▋                                                                                                                                                                 | 16/986 [05:48<7:00:09, 25.99s/it]"
     ]
    },
    {
     "name": "stdout",
     "output_type": "stream",
     "text": [
      "generated explanation: <pad> <extra_id_0> In a hospital, the spread of disease is often spread through the air, which can lead to an increase in mortality and the risk of death. In addition to the risk of infection, hospital staff are responsible for preventing the spread of disease and ensuring that patients are properly treated and cared for. In addition to the fact that hospitals are often located in areas where disease is most commonly spread, they are also the place where patients should go to get medical care. This is because hospitals are often located in high traffic areas, such as airports, which can help to spread the disease quickly spread quickly and are often located in high-traffic areas, which can be dangerous areas, such as hospitals, such as hospitals are located in high-traffic areas, which can help prevent the spread of disease. In addition to their high-security, they can also be a variety of other security measures to ensure that staff are in the case of an emergency, such as security cameras and other areas, such as security. In addition, they can also provide a safe place for patients to receive treatment for if they have a safe environment. In addition to providing a safe and a safe place to get sick people with a safe place to exchange information about the latest technology, and safety measures to ensure that ensure that patients are provided with a safe</s>\n",
      "########\n",
      "*******\n",
      "question: As things get colder, temperature does what?\n",
      "answer: drop to zero\n",
      "choices: ['increase', 'drop to zero', 'heat up', 'dropping quickly', 'arctic']\n",
      "common expl list: ['As things get colder, they get closer to zero degrees.']\n"
     ]
    },
    {
     "name": "stderr",
     "output_type": "stream",
     "text": [
      "\r",
      "  2%|██▊                                                                                                                                                                 | 17/986 [06:09<6:33:18, 24.35s/it]"
     ]
    },
    {
     "name": "stdout",
     "output_type": "stream",
     "text": [
      "generated explanation: <pad> <extra_id_0> As the temperature drops, the temperature drops to zero. As the temperature drops, the body begins to lose heat and become colder. Colder temperatures are characterized by a decrease in body temperature. As the body warms up, the temperature drops, and with it the body heat. As the body heats up, the body temperature decreases, reducing the body’s ability to retain heat. As the body warms, the body produces more heat, which is converted into energy. This decreases the body’s ability to maintain a colder body temperature. This is because the body temperature begins to lose heat and energy. As the body warm, the temperature drops, the body becomes colder, and becomes colder. As the temperature drops, the body becomes colder and becomes colder, the body becomes less comfortable and comfortable. This is because it reduces the amount of energy needed to reduce the body’s ability to retain heat and the body’s ability to retain heat, and oxygen. This decreases the body’s ability to retain heat, which can cause the body to retain heat. In conclusion, as the body temperature drops to zero, the body temperature drops to zero. As the body becomes colder, the body becomes less comfortable and less likely to retain its own temperature drops, the body loses to retain heat. As the body becomes colder, the body becomes reducing its ability to retain heat. As the body becomes cold, the body becomes colder, which can cause damage. This can lead to lose heat, which can lead to retain its natural environment.</s>\n",
      "########\n",
      "*******\n",
      "question: Where is one unlikely to get popcorn?\n",
      "answer: soccer game\n",
      "choices: ['restaurant', 'movie house', 'soccer game', 'carnival', 'movie theater']\n",
      "common expl list: ['Soccer games are usually snacks-free affairs; snacks, including popcorn, tend to be present at more recreational venues, but less so in settings where food is unnecessary because there are translatable goods sellers, i.e., vendors that sell things like popcorn', 'Soccer games usually lack popcorn machines.', 'Most soccer games lack concession stands, which are necessary to sell movie theaters popcorn.']\n"
     ]
    },
    {
     "name": "stderr",
     "output_type": "stream",
     "text": [
      "\r",
      "  2%|██▉                                                                                                                                                                 | 18/986 [06:29<6:11:44, 23.04s/it]"
     ]
    },
    {
     "name": "stdout",
     "output_type": "stream",
     "text": [
      "generated explanation: <pad> <extra_id_0> a soccer game is the most common place to get popcorn because it is often the only place where people go to watch a soccer game. Soccer games are a popular place to watch soccer, and popcorn is a popular snack during soccer games. Soccer games are typically played during the first half of the game, and the goalkeepers are usually in the penalty box. Soccer games are also a great place to get popcorn because they are usually held in a stadium, which is often packed with people. Soccer games are also a great place to get a little bit of popcorn, and a great way to get popcorn at a soccer game. Soccer is also a great place to get popcorn during the game. Soccer games are a great way to get popcorn at a great way to get some great way to get some a great time to get some great way to get some great game. Soccer games are also a great way to get some serious games. Soccer games are also a great way to get some great snack. Soccer games are also a great place to get some good place to get some great popcorn. Soccer is a great way to get popcorn at a great price. This is a great place to get some popcorn at a soccer game. Soccer games are also a great way to get some great snack. Soccer games are also a great way to get some great atmosphere.</s>\n",
      "########\n",
      "*******\n",
      "question: Where are files likely to be hanging?\n",
      "answer: filing cabinet\n",
      "choices: ['filing cabinet', 'tree', 'suitcase', 'computer', 'desk drawer']\n",
      "common expl list: ['Filing cabinets are used to store files sometimes; these files can then be found by opening the filing cabinet and looking for hanging folders.', 'Files are likely to be hanging in a filing cabinet, since they are often organized by topic, and filing cabinets are often used to organize files.']\n"
     ]
    },
    {
     "name": "stderr",
     "output_type": "stream",
     "text": [
      "\r",
      "  2%|███▏                                                                                                                                                                | 19/986 [06:47<5:48:44, 21.64s/it]"
     ]
    },
    {
     "name": "stdout",
     "output_type": "stream",
     "text": [
      "generated explanation: <pad> <extra_id_0> Files are likely to be stored in a filing cabinet because it is a place where they can be easily accessed and accessed. Filing cabinets are often used to store and retrieve files, paperwork, and other documents. Filing cabinets are usually made of wood, plastic, or metal, and are typically located in the back of a filing cabinet. They are typically made of a variety of materials, including metal and wood. They are typically kept in a locked, locked cabinet that is secured with a door or shelf. File cabinets are typically have a door and a lock the files are stored in a secure place to store and access the files are safe from pry fingers and fingers. They are typically secured by a door that is locked or locked and can be easily accessed by anyone who needs to access the files. This is because it allows them to access them from anywhere. This allows you to access the files to access them without having to them when you need them. The cabinets are also available at a variety of sizes and location. This allows you to access the files from anywhere you. This makes them easy to access and secure. They are also easy to access and to access from the files. This is because it is a safe and access from anywhere. This makes them accessible by the files in the files. Also, it is a great place to access them. Finally, as it allows you to access to access the files you to access files without having to access the files from anywhere you need to them without having to access the files are stored in the right-way. This makes it is a great place to access to easily access them when you need access the files are in the right away from anywhere else. Files are likely to be accessed from any where they are likely to access.</s>\n",
      "########\n",
      "*******\n",
      "question: What is required to go on vacation before anything else?\n",
      "answer: have money\n",
      "choices: ['pack', 'pay bills', 'save money', 'have money', 'reliable car']\n",
      "common expl list: ['Vacations often require the purchase of travel services, such as airline or hotel tickets.']\n"
     ]
    },
    {
     "name": "stderr",
     "output_type": "stream",
     "text": [
      "\r",
      "  2%|███▎                                                                                                                                                                | 20/986 [07:50<9:08:07, 34.05s/it]"
     ]
    },
    {
     "name": "stdout",
     "output_type": "stream",
     "text": [
      "generated explanation: <pad> <extra_id_0> Taking a vacation is an important part of any successful vacation. Without a vacation, it is impossible to enjoy a relaxing vacation. Without having money, it is difficult to enjoy a vacation because it is difficult to pay for. Having money to pay for a vacation is difficult. Without money, it is difficult to plan a vacation. Without money, a vacation is not possible. Without money, it is difficult to plan a vacation. Without money, it is difficult to enjoy a vacation. Without money, it is impossible to plan a vacation. Vacation is a vacation because it is difficult to plan a vacation. Without money, it is impossible to pay for a vacation. Without money, it is difficult to enjoy a vacation. Without money, it is impossible to take a vacation. Without money, it is impossible to plan a vacation. Without money, it is difficult to plan a vacation. Without money, it is difficult to plan a vacation. Without money, it is difficult to plan a vacation. Without having money, it is impossible to plan a vacation. Without money, it is difficult to plan a vacation. Without money, it is impossible to plan a vacation. Without money, it is impossible to take a vacation. Without money, it is difficult to plan a vacation. Without money, it is difficult to plan a vacation. Without having money, it is impossible to plan a vacation. Without money, it is impossible to plan a vacation. Without money, it is impossible to plan a vacation. Without money, it is impossible to plan a vacation. Without money, it is impossible to plan a vacation. Without money, it is difficult to plan a vacation. Without money, it is impossible to plan a vacation. Without money, it is impossible to plan a vacation. Without money, it is impossible to plan a vacation. Without money, it is impossible to plan a vacation. Without money, it is impossible to plan a vacation is impossible to plan a vacation without money. Without money, it is difficult to plan a vacation. Without money, it is impossible to afford a vacation. Without having money, it is impossible to afford a vacation is impossible to afford a vacation. Without money, it is impossible to plan a vacation without having money, and it is impossible to take a vacation without having money, and it. Without\n",
      "########\n",
      "*******\n",
      "question: The roadway passed a sign and gate house, what was behind the gatehouse?\n",
      "answer: subdivision\n",
      "choices: ['city', 'narnia', 'subdivision', 'neighborhood', 'countryside']\n",
      "common expl list: ['Subdivisions are residential areas that are often gated, and so, if you see a gatehouse, you might be in a subdivision.', 'A subdivision contains houses that formed around it; therefore, a subdivision has a gatehouse that controls who goes in and out.']\n"
     ]
    },
    {
     "name": "stderr",
     "output_type": "stream",
     "text": [
      "\r",
      "  2%|███▍                                                                                                                                                                | 21/986 [08:35<9:59:48, 37.29s/it]"
     ]
    },
    {
     "name": "stdout",
     "output_type": "stream",
     "text": [
      "generated explanation: <pad> <extra_id_0> The roadway passed a sign and gate house, which marked the end of a subdivision. The sign and gatehouse marked the end of a subdivision and was located behind the gatehouse. The gatehouse was located behind the sign and gatehouse, which provided a visual cue for drivers to know the subdivision was open for business. The sign and gatehouse provided a visual cue for drivers to know that the subdivision was open for business. The sign and gatehouse also provided a visual cue for drivers to know that the subdivision was closed off the roadway. The sign and gatehouse were located behind the subdivision, and the roadway passed a sign and gatehouse. The subdivision was located behind the sign and gatehouse. The subdivision was divided into two lots of land, which was the subdivision. The sign and gatehouse were located behind the sign and gatehouse were located behind the sign and gatehouse. The sign was placed behind the gatehouse was a fence that was a gatehouse. The sign was located behind the sign was located behind the gatehouse, which was a subdivision. The sign and gatehouse was located behind the sign was located at the roadway and gatehouse. The sign and gatehouse was located in a subdivision. The sign and gatehouse was located behind the sign and gatehouse was located behind the gatehouse was located behind the sign and gatehouse was located behind the gatehouse. The gatehouse was located behind the sign and gatehouse was located at the gatehouse was located at the subdivision and gatehouse. The subdivision was located at the gatehouse and sign at the gatehouse. The sign and gatehouse was located behind the gatehouse was located at the sign was located at the sign and gatehouse. The sign was located at the sign and gatehouse was located at the sign and gatehouse was located at the sign was located at the sign and gatehouse was located at the gatehouse was located at the sign was located at the gatehouse. The sign was located at the gatehouse and sign and gatehouse. The sign was located at the gatehouse and sign and gatehouse.</s>\n",
      "########\n",
      "*******\n",
      "question: The invasive A.I. was designed to scan the crowd, where most saw a mass of humanity the evil machine could pick out each what?\n",
      "answer: individual\n",
      "choices: ['solitary', 'single person', 'few people', 'crowd', 'individual']\n",
      "common expl list: [\"Machine intelligence is better able to find isolated individuals than crowded groups. Machines need to scan a large group of people to be able to find a single person--but when the single person doesn't blend in, it makes them easier to find.\"]\n"
     ]
    },
    {
     "name": "stderr",
     "output_type": "stream",
     "text": [
      "\r",
      "  2%|███▋                                                                                                                                                                | 22/986 [08:55<8:34:07, 32.00s/it]"
     ]
    },
    {
     "name": "stdout",
     "output_type": "stream",
     "text": [
      "generated explanation: <pad> <extra_id_0> The invasive A.I. was designed to scan the crowd, where most saw a mass of humanity, where most believed the machine could pick out each individual. The machine was designed to scan the crowd, where most saw a mass of humanity, and pick out individual faces. The machine was designed to scan the crowd, where most saw a mass of humanity, and pick out individual faces. The machine was designed to scan the crowd, where most saw a mass of humanity, and pick out individual faces. The machine was designed to pick out individual faces, facial features, and body parts of the crowd. The machine was designed to scans to pick out individual faces and identify them. The machine could also pick out individual faces, and their faces. The machine could then pick out their own personality traits and their personality traits. It could then use its personality to identify and then use them to identify individuals. It could then use its own personality to attack them. The machine was designed to scan the crowd to pick out individual faces and pick out their gender, and identify them as well as based on their age, gender, gender, and age. The machine was designed to identify each of the crowd, and thus a person. The machine could pick out their age, gender, age, gender, and gender. Thenailed to pick up a mass of people in the crowd. The machine could scan the crowd, and pick out individual faces, and identify individual characteristics, such as their age, gender, such as their age, gender, such as<extra_id_27> </s>\n",
      "########\n",
      "*******\n",
      "question: Is has been speculated that a aliens could be communicating by doing this?\n",
      "answer: thinking\n",
      "choices: ['effort', 'farting', 'thinking', 'laugh', 'medium']\n",
      "common expl list: ['Aliens could quite possibly be using thought as a way to communicate between themselves.']\n"
     ]
    },
    {
     "name": "stderr",
     "output_type": "stream",
     "text": [
      "\r",
      "  2%|███▊                                                                                                                                                                | 23/986 [09:12<7:25:27, 27.75s/it]"
     ]
    },
    {
     "name": "stdout",
     "output_type": "stream",
     "text": [
      "generated explanation: <pad> <extra_id_0> It is believed that a communication between aliens and humans is possible because of the way that their minds work. This is because their brains work differently in different ways, and because of this, they are able to process information differently. For example, if a person is thinking about something they can’t understand, they may be thinking about something they can. This is because they are used to thinking about things they can’t understand. This is because they are used to thinking about things they can’t understand. This is because they are likely not able to communicate with each other by thinking about the world. This is because it is also a way for the mind to think about the world. Thinking about the way that aliens are communicating with each other species. This is because the way that the human brains brains are able to process of thinking may be used to communicate with their thoughts. This is because the brains are using their thoughts to understand the world around them. This is a way that can help them understand their environment and how they are thinking. This is important because it can also be used by humans to communicate with them. This is because it is a way of thinking. Thinking is a way of communicating with the way that humans and could be used to understand the world. It is also a way to understand the world and how they work.</s>\n",
      "########\n",
      "*******\n",
      "question: What can occur in fencing if you are not careful?\n",
      "answer: severe injuries\n",
      "choices: ['competition', 'severe injuries', 'fever', 'perspiration', 'small cuts']\n",
      "common expl list: ['Fencing is a sport, which involves hitting your opponent with a sharp piece of metal, which will almost certainly result in some physical pain.', 'The sport of fencing causes people to be hit by weapons, which may cause cuts or other wounds if someone is not careful.', 'Fencing is a sport that involves hitting your opponent with a sword, and if you are not careful, you can get injured.']\n"
     ]
    },
    {
     "name": "stderr",
     "output_type": "stream",
     "text": [
      "\r",
      "  2%|███▉                                                                                                                                                                | 24/986 [09:35<7:01:33, 26.29s/it]"
     ]
    },
    {
     "name": "stdout",
     "output_type": "stream",
     "text": [
      "generated explanation: <pad> <extra_id_0> Fencing is a sport that requires a lot of skill and attention to detail. Fencing is an important part of any fencing program. Without proper fencing safety precautions, you could be risking serious injury to yourself or your family. Fencing is a physical activity that requires a lot of physical effort. Without proper fencing, your family and friends could be at risk of serious injury or death. Fencing is an outdoor sport that requires a lot of physical effort to maintain and safe. Without proper fencing, there is no way to enjoy fencing. Fencing injuries can result in a stressful and stressful experience. Without proper safety, there could be a serious injury or death. This is especially important when fencing, which can lead to injuries. The physical activity can result in the long-term. Without proper fencing, you could result in a serious injury or even fatal outcome. Without proper safety, you could be risk of serious injury. Without proper fencing, fencing is a dangerous and dangerous. Without proper safety precaution, it is dangerous. Without proper fencing, you could be at a serious risk of injury or even fatal. Without proper fencing, you could be in the wrong. Without proper safety, the right equipment and proper fencing can lead to a serious injury. Without proper fencing, fencing, it is likely to serious injury or even fatal. Without proper safety, fencing is a dangerous and dangerous activity. Without proper safety, it is a serious injury.</s>\n",
      "########\n",
      "*******\n",
      "question: If you stretch out your socks they will then have what kind of fit?\n",
      "answer: loose\n",
      "choices: ['cramped', 'loose', 'contract', 'park', 'compressing']\n",
      "common expl list: ['When stretched out, socks will be loose.']\n"
     ]
    },
    {
     "name": "stderr",
     "output_type": "stream",
     "text": [
      "\r",
      "  3%|████▏                                                                                                                                                               | 25/986 [09:58<6:44:00, 25.22s/it]"
     ]
    },
    {
     "name": "stdout",
     "output_type": "stream",
     "text": [
      "generated explanation: <pad> <extra_id_0> If you stretch out your socks, they will have a loose fit. This is because the socks are stretched out so much that they no longer fit properly. This is because the socks are stretched out so much that they no longer fit properly. This is because the socks are stretched out so much that they no longer fit properly. This is because the socks are not as tight as they used to be. This is because the socks are stretched out so much that they don't conform to the body. This is because the socks are stretched so much that they are loose fitting and not as they are not as they are loose. This is because the socks are looser and loosely. This is because the socks are looser than tight. This is because the socks are stretched so that they are not as tight. This is because the socks are sore more comfortable as they are looser and looser. This is because the socks are more comfortable to wear. This is because they are stretched out so that they are more comfortable and not as they are loose as they are stretched. This is because the socks are stretched and not as they are not as they are loose. This is because the socks are stretched and therefore looser than they are stretched. This is because the socks are more comfortable and they are more comfortable to wear and not as they are stretchy and will be more comfortable to wear. This is because the socks are loose and they are not as they are stretched out and will be looser. This is because they are<extra_id_27> </s>\n",
      "########\n",
      "*******\n",
      "question: John ran out of pencils.  Where did  he go to get more?\n",
      "answer: office depot\n",
      "choices: ['desk drawer', 'cup', 'pencil case', 'shelf', 'office depot']\n",
      "common expl list: ['Pencils can be found at an office supply store, e.g., an office depot.', 'When people need pencils (or pens), they often buy them at office depots.', 'Office Depot is a store that sells office supplies, including pencils.', 'John can buy new pencils at an office depot.', 'Office Depot is a company that specializes in office furniture; it also sells pens and pencils.']\n"
     ]
    },
    {
     "name": "stderr",
     "output_type": "stream",
     "text": [
      "\r",
      "  3%|████▎                                                                                                                                                               | 26/986 [11:04<9:57:34, 37.35s/it]"
     ]
    },
    {
     "name": "stdout",
     "output_type": "stream",
     "text": [
      "generated explanation: <pad> <extra_id_0> John ran out of pencils. He went to the office depot to get more. Office depot is a great place to get more pencils because they have a large selection of pencils at a low price. They also have a large selection of paper and other supplies. They also have a great selection of paper and other items that are made in the USA. This means that they are always in stock and can be easily replenished quickly. This means that John can get more of the best quality pencils at a great price. Office Depot is a great place to get them. Office Depot is also a place for other supplies like paper and other supplies such as scissors, paper, etc. The store has a large selection of pencils at a variety of different size and price range. They also have a variety of pencils for different sizes and colors and other items. Office Depot is a great place to get more of pencils at a good quality. They have a variety of pencils that will last longer lasting quality. Office Depot has a large selection of pencils at a great place to get more pencils at a great price. They have a variety of pencils that last longer lasting quality and are available at a great price. They have a variety of colors and designs to choose from a variety of colors and styles of colors to choose from a variety of colors and styles to suit your needs. This makes them more affordable than any other stores. They have a variety of colors and designs to choose from many different colors and styles to match your needs. They have a variety of pencils that will last longer than any style and price point of colors to suit your needs. They have a variety of styles and quality, which will help to meet your needs.</s>\n",
      "########\n",
      "*******\n",
      "question: What does a confident person do?\n",
      "answer: trust himself\n",
      "choices: ['feel important', 'own house', 'trust himself', 'know what time', 'cry']\n",
      "common expl list: ['People whose confidence is high tend to believe themselves more strongly, and so the confident person might believe in their own abilities and do things such as trust themselves.', 'A confident person is sure of his abilities and the trust in himself/herself to do things or accomplish goals.']\n"
     ]
    },
    {
     "name": "stderr",
     "output_type": "stream",
     "text": [
      "\r",
      "  3%|████▍                                                                                                                                                               | 27/986 [11:35<9:26:58, 35.47s/it]"
     ]
    },
    {
     "name": "stdout",
     "output_type": "stream",
     "text": [
      "generated explanation: <pad> <extra_id_0> A confident person is someone who has the ability to trust himself and others. This is because a confident person can trust himself and others to do what is right for him. This trusting person is a person who is able to make decisions for himself and others. This trusting person is able to make decisions that are both good and bad. This trusting person is someone who can make decisions that are in the best interests of the person. This trusting person is someone who can make decisions that are right for himself and others. This trusting self-confidence increases the confidence in himself and his abilities. This trusts in himself and others. This is because confidence increases his ability to make decisions that are good decisions and to make decisions that are good for him and make decisions that can help him to make decisions that are good for him to make decisions that are made with confidence. This trusting self-reassurance and confidence increases his ability to make decisions that help him to take the right decisions. This confidence in himself and others’s trusting in himself and others. It also helps to have a positive attitude of confidence and a person. This is important because it is important for him to take the right decisions that are in himself and others. This trusting person is able to make decisions that are in himself and makes the right decisions for him and others. This trusting himself and makes him feel good and it is important to have the right decisions that he makes the right decisions that are in himself and a good decision. It is important to have the right decisions. It is important to make the right choices that lead to make the right decisions. Furthermore, it helps to make decisions that are important to have the ability to have the confidence in himself and have the ability to make the right decisions. This is important because it helps to keep him and helps him and others. It helps to keep him and not only possible.</s>\n",
      "########\n",
      "*******\n",
      "question: James thought that analyzing all the data would help him learn more, but it did not.  It only gave him what?\n",
      "answer: headache\n",
      "choices: ['headache', 'better understanding', 'papercuts', 'enlightened', 'discovering truth']\n",
      "common expl list: ['Analysis requires a lot of thinking with maybe little reward, which can give one a headache.']\n"
     ]
    },
    {
     "name": "stderr",
     "output_type": "stream",
     "text": [
      "\r",
      "  3%|████▋                                                                                                                                                               | 28/986 [11:53<8:06:05, 30.44s/it]"
     ]
    },
    {
     "name": "stdout",
     "output_type": "stream",
     "text": [
      "generated explanation: <pad> <extra_id_0> James thought that analyzing all the data would help him learn more, but it only gave him a headache. This is because the data is not always reliable and it can lead to inaccurate conclusions and inaccurate conclusions. Instead, it can lead to a loss of confidence and productivity. This is because it is a waste of time and energy that can be better spent on other things. James thought that analyzing all the data would lead to a better understanding of the world around him. This is because it is not always easy to understand and it can lead to headaches, which can lead to a loss of motivation and frustration. This is why James believes that analyzing data can help to improve his ability to understand the data can lead to a better decision making process. By analyzing the data, James can help him to make better decisions and make better decisions. It can lead to a lot of time a lot of unnecessary stress and headaches. Overall, it can lead to a great way to learn more. James believes that analyzing the data can lead to better decisions and help him to make better decisions. It can also lead to a lot of frustration and frustration. Overall, it can lead to a loss of knowledge and can lead to a better understanding of the world.</s>\n",
      "########\n",
      "*******\n",
      "question: What makes people happy when it is surprising and unexpected?\n",
      "answer: humor\n",
      "choices: ['joke', 'humor', 'frightened', 'fight', 'laughter']\n",
      "common expl list: ['A surprise is a stimulus that is not generally predicted before exposing it to a subject. It may be surprising things that cause laughter, or unexpected things that people see as funny.']\n"
     ]
    },
    {
     "name": "stderr",
     "output_type": "stream",
     "text": [
      "\r",
      "  3%|████▊                                                                                                                                                               | 29/986 [12:43<9:36:30, 36.14s/it]"
     ]
    },
    {
     "name": "stdout",
     "output_type": "stream",
     "text": [
      "generated explanation: <pad> <extra_id_0> Humor is a form of entertainment that can make people happy. It can be a great way to keep people entertained and upbeat. Humor is a form of entertainment that can be used to create a sense of humor and a sense of accomplishment. It can also be a way to express gratitude and express appreciation for the things in life that are important to them. Humor can also be used to express sadness, anger, or sadness. Humor can be used to express joy, happiness, or sadness. Humor is a way to make people happy. It can also be used to create a sense of humor and to help people feel good time. Humor is a way to express emotion. It can also be used to convey a sense of humor through laughter and make people feel good will be more open-minded. Humor can be used to communicate a positive message to convey emotion. It can be used to convey a message or a message. Humor can also be used to convey a positive outlook on life and make people smile and laugh. Humor can be used to express a positive message or to convey a positive message. Humor can be used to create a positive emotion through humor. It can be used to convey a positive message or to convey a positive message. It can be used to convey a positive message or a positive message. Humor can also be used to convey a positive message or positive emotions. It can also be used to convey a positive message.</s>\n",
      "########\n",
      "*******\n",
      "question: What is someone who wants a lot of money?\n",
      "answer: greedy\n",
      "choices: ['selfish', 'weird', 'greedy', 'ridiculous', 'hungry']\n",
      "common expl list: ['Greed is defined as \"the desire to obtain something, especially wealth, through selfish means, typically at the expense of others.', 'Greed is a strong desire to possess a lot of money; a greedy person therefore wants it a lot.', 'A person who is greedy wants more things that people typically take for granted, i.e., money, success, etc. This is a lot of stuff.']\n"
     ]
    },
    {
     "name": "stderr",
     "output_type": "stream",
     "text": [
      "\r",
      "  3%|████▉                                                                                                                                                              | 30/986 [13:53<12:16:29, 46.22s/it]"
     ]
    },
    {
     "name": "stdout",
     "output_type": "stream",
     "text": [
      "generated explanation: <pad> <extra_id_0> Someone who wants a lot of money is considered greedy. Greedy people are people who are envious of their wealth and want to get as much as they can get for it. They are also likely to be impulsive and take advantage of opportunities. This is because they want to have a large amount of money to spend. They want to buy things that they can afford, such as jewelry, clothes, cars, and other accessories. They want to buy things that are expensive or exotic. Greedy people are also have a strong desire to have a lot of money to buy more of money to buy more money. They are also oftentimes to be tempted by other people and can be very close to their money. They are also likely to be very emotional and may be very emotional reactions to their money. They are often a lot of money to spend it on the same time and money they want. They are also likely to be very expensive and want to get more money. They are also have a lot of money to spend it is a lot of money and they want to have a lot of money to spend. They are able to get away from their wealth and their money. They want to have a lot of money and time. They are also unable to save money and they are not able to spend it. They are unable to afford to take the time to spend and time and energy to spend it. They are not able to make a lot of time and money. They are unable to spend it and they do not have the time and time. They want to be unable to spend it. They want to have a lot of money and they want to spend it. They are unable to take their time and time and time to spend on things they can'theirs. They are not able to afford to take the time to take their money and time to take their time and time and money. They are unable to take time and money. They are unable to take the time and time to take the time and effort to take the time and energy and money they want to take the time and effort to take the time with their time and effort to take the time and energy they have a lot of money and they want to take the time and they want to take care of their time and energy and money they want to take care of their money and effort and they want and they\n",
      "########\n",
      "*******\n",
      "question: Where do you keep a book to read before bed?\n",
      "answer: bedside table\n",
      "choices: ['school room', 'allen key', 'classroom', 'bedside table', 'coffee table']\n",
      "common expl list: ['Bedside tables are where people keep things they use before bed, such as books, glasses, and water.', 'Bedside tables are convenient for keeping things, e.g., a book, reading materials, glasses, etc., that you wish to keep near your bed for regular access; particularly things.']\n"
     ]
    },
    {
     "name": "stderr",
     "output_type": "stream",
     "text": [
      "\r",
      "  3%|█████                                                                                                                                                              | 31/986 [14:28<11:22:16, 42.87s/it]"
     ]
    },
    {
     "name": "stdout",
     "output_type": "stream",
     "text": [
      "generated explanation: <pad> <extra_id_0> A bedside table is a common place to keep a book to read before bed. It is a place to store a book that is convenient for you to reach, such as a nightstand or a bedside table. A bedside table is a great place to keep a book for reading before bed. It is a place to keep a book in place, such as a book containing a book, a journal, or a book on a bedside table. Bedside tables are also a great place to keep a book to keep a bedside table for reading before bed. Bedside tables are also often a great place to keep a book on a bedside table, such as a nightstand. Bedside tables are also a great way to organize books and make it easily accessible. Bedside tables are also a great place to keep a book on the bed to easily accessible and easy to accessible to easily accessible. They are also a bedside tables can be used to read before bed. Bedside tables are also a great way to keep a book in a bedside table. Bedside tables are often used to store books and other items such as a bedside tables and books. They can be used to store books in their covers, or on the bedside table, so that they can be easily accessible and easily a place to store a book for reading while asleep. They can be placed on the bedside table to easily accessible and easy to access. Bedside tables are a great way to keep a book while you can store a book while you are on the bed.</s>\n",
      "########\n",
      "*******\n",
      "question: Where is a knight likely to be found in the US?\n",
      "answer: chess set\n",
      "choices: ['middle ages', 'chess set', 'historical novel', 'castle', 'guarding the king']\n",
      "common expl list: ['A knight is a piece in the game of chess, which is played on a chess set.']\n"
     ]
    },
    {
     "name": "stderr",
     "output_type": "stream",
     "text": [
      "\r",
      "  3%|█████▎                                                                                                                                                             | 32/986 [15:06<10:59:51, 41.50s/it]"
     ]
    },
    {
     "name": "stdout",
     "output_type": "stream",
     "text": [
      "generated explanation: <pad> <extra_id_0> A knight is a member of the royal family of the United States. The knight is a member of the king's family and is a member of the royal family. He is a member of the ruling class, and is a member of the king's family. He is a member of the royal family of the United States and is a member of the royal family of the United States. He is a member of the royal family of the United States and is a member of the royal family of the US. The queen is a knight, and king, and a queen, and kings, and a knight is likely to be found in a a set. The king is a a set of a queen, a king's family, and a member of the royal family, and a king's family. The king is likely to be found in a chess family, and a king's family, and a a king's, and a king's family, and a king in the US and a chess set of a a a king in the US. In the US is a king, and a a king of the US, and a king of the a king in a if a family, and a a family. In conclusion, the US is likely to be found in the US and a a a US and a US a family. In the US, a US is likely to be found in the US and a US.</s>\n",
      "########\n",
      "*******\n",
      "question: Jack saw little point to communicating beyond the basics.  To him, it was just a means to do what?\n",
      "answer: exchange information\n",
      "choices: ['go swimming', 'making friends', 'exchange information', 'people to think', 'confusion']\n",
      "common expl list: [\"Keeping the communication sparse would allow him to conserve energy by speaking less. Since communication is just a means to exchanging information, Jack would not see much 'point', to say, a conversation beyond the basics.\"]\n"
     ]
    },
    {
     "name": "stderr",
     "output_type": "stream",
     "text": [
      "\r",
      "  3%|█████▍                                                                                                                                                             | 33/986 [15:37<10:11:31, 38.50s/it]"
     ]
    },
    {
     "name": "stdout",
     "output_type": "stream",
     "text": [
      "generated explanation: <pad> <extra_id_0> Jack saw communication as a means to exchange information. Communication is the process of sharing information between people and allowing people to interact with each other in a mutually beneficial way. Jack saw little point in communicating beyond the basics of information exchange. Communication was a means to exchange information between people and between people. Jack saw communication as a means to exchange information between people and to help people understand each other. Jack saw communication as a means to exchange information. He saw communication as a means to exchange information. Communication was a means to exchange information between people. Jack saw communication as a way to communicate and to gain access information. Jack saw communication as a way to communicate with his peers and to interact with people. It was a way to gain an understanding of the people. Jack saw little point in communicating. Jack saw communication as a way to communicate with people. It was a way to share information. It was a way to exchange information and to exchange information. It was a way to exchange information between people and businesses. It was a means to exchange information and people. It was a way to communicate with people and exchange information and to exchange information. It was a way to gain information and people and gain insight into the world. It was a way to gain insight and to gain information. It was a means to gain insight into the world. Jack saw it was a way to exchange information and<extra_id_27> Jack saw it as a means to gain insight into the importance of a way to gain information and to gain insight and understanding of the world.</s>\n",
      "########\n",
      "*******\n",
      "question: I as a person don't kill others, why do I not?\n",
      "answer: value life\n",
      "choices: ['experience pleasure', 'laws', 'value life', 'thank god', 'go into debt']\n",
      "common expl list: [\"Someone who does not kill might have a great deal of respect for life; as a person's life is valuable, the opposite is true about the act of taking a life.\"]\n"
     ]
    },
    {
     "name": "stderr",
     "output_type": "stream",
     "text": [
      "\r",
      "  3%|█████▌                                                                                                                                                             | 34/986 [16:26<10:58:41, 41.51s/it]"
     ]
    },
    {
     "name": "stdout",
     "output_type": "stream",
     "text": [
      "generated explanation: <pad> <extra_id_0> I as a person don't kill others because I value life. This is because I value life and I value life more than anything else. This is because I value life more than anything else. This is because I value life more than anything else. This is because I value life above everything else, and I value life more than anything else. This is because I value life above all else. This is because I value life more than anything else. This is because I value life above all else, and I value life above all else. This is because I value life as a person who is not only because it is my own. This is because it is because it is the only me. This is because it is why I value life more than anything else. It is because it is because it is a way to live a way to live a way of living. This is because it is because it is a way of living in a way of living. It is also because it is a way of living in a way of being a way of respect others. It is because it is a way of living in itself. It is also because it is a way of life is a way of living. It is a way of course, and it is important to live a way of living. It is important to value life is important because it is important to value life. It is important to remember that it is for me. This is important to value life. It is important to be mindful of life and respect others.</s>\n",
      "########\n",
      "*******\n",
      "question: What is likely to be a child's reaction to going to play?\n",
      "answer: happiness\n",
      "choices: ['happiness', 'tears', 'sit', 'being entertained', 'laugh']\n",
      "common expl list: ['Children like to play.']\n"
     ]
    },
    {
     "name": "stderr",
     "output_type": "stream",
     "text": [
      "\r",
      "  4%|█████▊                                                                                                                                                             | 35/986 [17:18<11:49:52, 44.79s/it]"
     ]
    },
    {
     "name": "stdout",
     "output_type": "stream",
     "text": [
      "generated explanation: <pad> <extra_id_0> A child's reaction to going to play is likely to be one of happiness. This is because children are naturally drawn to play because it brings them joy and enjoyment. This is because playing brings them joy and happiness. Playing also brings them closer to their parents and friends. Playing is a great way to bond and build relationships. It also brings children closer to each other and to each other. Playing is a time for bonding and bonding. It brings them together and builds relationships. Playing is a time for bonding, and it's personality, and it can bring children closer to their parents and their children. It can bring them to a sense of accomplishments and satisfaction. It can also bring them closer to their parents and family. It can bring a sense of happiness and a child's parents. It can help build a child's confidence and increase their own happiness and confidence. It can also help children learn valuable life skills and help them develop their socially. It can help them develop their confidence, and self-a positive self-reliance on their parents and play can help build a child's happiness and strengthen their self-esteem. It can also help to build confidence and help build self-esteem. It can help children feel good-building and help them learn how to develop a positive self-esteem. It can help build self-confidence and build confidence and trust each other. It can also help them to build self-confidence and support them in their own happiness.</s>\n",
      "########\n",
      "*******\n",
      "question: Where could you find multiple ruler that are owned by different people?\n",
      "answer: office\n",
      "choices: ['measure distance', 'england', 'office', 'drawer', 'desk']\n",
      "common expl list: ['Office buildings often have rulers.', 'When someone works in an office, even if it is part-time or freelance, they may be required to measure distances e.g., in departments or cubicles, and so, offices are a good place to find ruler.']\n"
     ]
    },
    {
     "name": "stderr",
     "output_type": "stream",
     "text": [
      "\r",
      "  4%|█████▉                                                                                                                                                             | 36/986 [18:01<11:36:51, 44.01s/it]"
     ]
    },
    {
     "name": "stdout",
     "output_type": "stream",
     "text": [
      "generated explanation: <pad> <extra_id_0> Multiple rulers are often found in offices because they are often used to enforce certain laws or regulations. Offices are a great place to find multiple rulers because they are usually used to administer business operations and provide employees with a variety of tools and services. Offices are also a great place to find multiple rulers because they can be used to manage multiple offices and other business operations. Multiple rulers are often used to manage the flow of information and to keep track of records. This makes them easy to locate and track. This makes it easier to find multiple rulers in one office buildings, as they are used to keep track of the rules of different employees and their individual departments. Offices also provide employees with information about the rules and policies that govern the office can be used to manage the rules and regulations. Additionally, they can be used to control the same rules and regulations. This allows employees to have access the rules and regulations and make sure that they are being used for business operations. This helps to ensure that the rules are in a consistent and accurate and accurate. Offices can also provide employees with information. This allows employees to make decisions and make informed decisions about the rules and make them easier to use. In addition, the rules can be used to control the rules and ensure that they are in a variety of business operations. In addition, they can also be used to ensure that the rules are followed and are consistent across different departments. In addition to ensure that the rules are consistent and are always used to be updated and accurate. This allows employees to ensure that they are used to ensure that they are up to the rules and that are accurate and that are in<extra_id_27> </s>\n",
      "########\n",
      "*******\n",
      "question: When remembering you referencing things that you have what?\n",
      "answer: prior knowledge of\n",
      "choices: ['memory cells', 'learning about', 'prior knowledge of', 'brain cells', 'nerve cells']\n",
      "common expl list: ['Most of the things a person knows come from learning in the past and usually have some recollection involved.']\n"
     ]
    },
    {
     "name": "stderr",
     "output_type": "stream",
     "text": [
      "\r",
      "  4%|██████                                                                                                                                                             | 37/986 [18:37<11:01:41, 41.83s/it]"
     ]
    },
    {
     "name": "stdout",
     "output_type": "stream",
     "text": [
      "generated explanation: <pad> <extra_id_0> When remembering things that you have prior knowledge of, you can<extra_id_2>.<extra_id_3> When remembering things that you have, you can use prior knowledge of them to help you remember them. This is because they are more likely to be remembered when you have prior knowledge of the things they are referring to. This knowledge can help you remember things better, as they are more likely to be remembered when you are not in the mood to remember them. This knowledge can help you remember things more clearly and accurately. This knowledge can help you remember things more clearly. It can help you to remember them, as they are more likely to have prior knowledge of the past, and more easily. This is because it helps you remember them more easily. This is important because it helps you to remember the things you are more likely to remember them. This knowledge can help you remember them more easily. It can also help you remember them more easily. This knowledge can help you remember the things that you already have referring to remember them. It can help you remember the details of the past. It can also help you remember the past memories of the people and places you have knowledge of the past. This can help you remember things that you have referring to them in the future. This can help you remember the things that you have a certain information that you may have already know about the past. It can help you recall the information that you have prior knowledge of the past. This helps you remember the information you have in the future. It can help you remember them and help you remember the future.</s>\n",
      "########\n",
      "*******\n",
      "question: After running twenty six miles he felt like he had lost twenty six pounds, this was from all the what?\n",
      "answer: sweat\n",
      "choices: ['exercise', 'sweat', 'pass out', 'collapse', 'drink water']\n",
      "common expl list: ['Sweating is a way to cool down the body, and so after running for a long time, a person might sweat a lot.']\n"
     ]
    },
    {
     "name": "stderr",
     "output_type": "stream",
     "text": [
      "\r",
      "  4%|██████▎                                                                                                                                                             | 38/986 [19:00<9:30:12, 36.09s/it]"
     ]
    },
    {
     "name": "stdout",
     "output_type": "stream",
     "text": [
      "generated explanation: <pad> <extra_id_0> After running twenty six miles, a runner feels like he has lost twenty six pounds. This is because he has lost so much sweat that he has lost twenty six pounds. This is because he has drained his muscles and accumulated water in his body. This is because sweat is a form of fat storage and can be used to store energy for later use. This is because the body uses it to store energy for later use. This means that the body stores it in sweat, which is then released into the air. This is the fat that is produced by burning calories. This is because it is a great way to store it. This is due to the sweat, which is a great way to store calories in the body, which can be used to store the water in the body to the body. This is because it is a great way to lose weight, as it helps to lose weight. It also helps to keep the body fat in check for a healthy lifestyle change. This is because it helps to keep track of the miles, and to ensures that the body is hydrated. This is because sweat is a great way to store calories in the body. This helps to store and help keep the body fat in the body, and helps to keep track of the body and helps to keep track of the miles, and a variety of different ways to keep track of the calories and to determine how much it takes to store calories. This includes the body stores calories, which helps to keep the body clean and flush out.</s>\n",
      "########\n",
      "*******\n",
      "question: In what western sate might one find a bald eagle?\n",
      "answer: colorado\n",
      "choices: ['captivity', 'colorado', 'zoo', 'canada', 'in washington']\n",
      "common expl list: ['Eagles are native to the western United States, and Colorado is a western state.']\n"
     ]
    },
    {
     "name": "stderr",
     "output_type": "stream",
     "text": [
      "\r",
      "  4%|██████▍                                                                                                                                                            | 39/986 [19:43<10:01:09, 38.09s/it]"
     ]
    },
    {
     "name": "stdout",
     "output_type": "stream",
     "text": [
      "generated explanation: <pad> <extra_id_0> A bald eagle is a large, migratory bird that is found in the western United States in the southwestern United States. It is typically found in the mountains of western Colorado and the Rocky Mountains in northern and central Oregon. The species is typically found in the eastern part of the continental United States, and is found in the western United States in the Rocky Mountains and the Rocky Mountains. The eastern United States is the most common place for bald eagles to be found in the wild, but the eastern United States are also found in the southernmost places in the western United States, and the western United States. In the western United States, the western United States, the western states are also found in the Rocky Mountains, the Rocky Mountains, the Rocky Mountains are home to the western states. The Western United States is home to the bald bald es, and western states. The Rocky Mountains are also home to other wildlife, including the bald wolves. The ea large, which is able to hunt for food and can also be found in the Rocky Mountains, which is home to a variety of species, including the Rocky Mountain, and the ea variety of habitats, including s, which is often found in the Rocky Mountains. The species is also found in the Rocky Mountains, which is home to a range of species of mammals, which are often found in the Rocky Mountains, which are found in the Rocky Mountains, and Rocky Mountains. The Rocky Mountains are home to many species of birds, which are found in the Rocky Mountains, which are often found in the Rocky Mountains, which are found in the Rocky Mountains, which are home to the Rocky Mountains, and Rocky Mountains. The Rocky Mountains are home to many species. The species that are found in Colorado.</s>\n",
      "########\n",
      "*******\n",
      "question: When a retired person returns to work they likely need to do what?\n",
      "answer: earn money\n",
      "choices: ['key', 'earn money', 'get out of bed', 'need money', 'understand themselves']\n",
      "common expl list: ['When a person is retired, they probably are not making enough money through a pension benefit to support themselves after retirement, so they work again, perhaps full-time, in order to have enough money.(money key)']\n"
     ]
    },
    {
     "name": "stderr",
     "output_type": "stream",
     "text": [
      "\r",
      "  4%|██████▋                                                                                                                                                             | 40/986 [20:14<9:25:52, 35.89s/it]"
     ]
    },
    {
     "name": "stdout",
     "output_type": "stream",
     "text": [
      "generated explanation: <pad> <extra_id_0> A retired person who returns to work likely needs to earn money in order to maintain their lifestyle and continue to live a comfortable lifestyle. To do this, they will likely need to work part time or full time. To do this, they will likely need to learn new skills, such as writing, math, and writing. In addition to earning money, a retired person will likely need to learn how to use the skills they have learned in the classroom and in the field. Working full time is a great way to build confidence, build relationships, and earn a new skills. Working also requires the person must demonstrate an ability to work and gain new skills. This means that the person has the ability to earn money to pay for themselves and their retirement. To earn money, the person will need to learn how to use their skills and gain new knowledge. To make a living, it will require a lot of time. In conclusion, when someone retire, they need to work hard to earn money to work. To earn money is important for a retirement. This is a great way to build a solid foundation for their retirement. This is important for someone who is looking for a job. To earn money, it will also help to pay for someone else. This is important because it is important to build a solid foundation for a solid financial security and a retirement. In conclusion, the retired person will need to work again, and gain a job.</s>\n",
      "########\n",
      "*******\n",
      "question: What can be the result of meeting people with similar attitudes?\n",
      "answer: making new friends\n",
      "choices: ['anxiety', 'being bored', 'love', 'making new friends', 'new job']\n",
      "common expl list: [\"Friends often share some interests and/or attitudes, and when someone meets people with similar attires, that's a good indicator they might be good candidates for becoming friends.\", 'People with similar interests are likely to be friends, or familiars to each other, having many opportunities to meet each other and have things in common to discuss.']\n"
     ]
    },
    {
     "name": "stderr",
     "output_type": "stream",
     "text": [
      "\r",
      "  4%|██████▊                                                                                                                                                             | 41/986 [20:45<9:02:36, 34.45s/it]"
     ]
    },
    {
     "name": "stdout",
     "output_type": "stream",
     "text": [
      "generated explanation: <pad> <extra_id_0> Making new friends is an important part of making new friends. Making new friends is a great way to make new friends because it allows you to meet people with similar attitudes and perspectives. Making new friends can be a great way to expand your social circle and expand your network. Making new friends can be a great way to build relationships and make new connections. Making new friends can also be a great way to meet people from different backgrounds and cultures. Making new friends can be a great way to build your network and build relationships. Making new friends can be a great way to make new friends. Making new friends can also be a great way to build a positive and fun and enjoy the process. Making new friends with people from different backgrounds can also be a great way to make new connections. Additionally, making new friends can be a fun and rewarding way to expand your network. Creating new friends can help you become more successful in your life. Making new friends can also be a way to network and build a great way to build a sense of purpose. Making new friends can also be a way to develop a positive outlook and a positive attitude. It can also be a way to increase your chances of success in your life.</s>\n",
      "########\n",
      "*******\n",
      "question: Danny noticed a ceramic object on the table and picked a grape out of it.  What might have been on the table?\n",
      "answer: bowl of fruit\n",
      "choices: ['kitchen', 'painting of fruits', 'fruit basket', 'bowl of fruit', 'fruit stand']\n",
      "common expl list: ['A bowl of fruit is an appropriate item to put on a table, as it can hold many kinds of fruit.']\n"
     ]
    },
    {
     "name": "stderr",
     "output_type": "stream",
     "text": [
      "\r",
      "  4%|██████▉                                                                                                                                                            | 42/986 [21:53<11:39:55, 44.49s/it]"
     ]
    },
    {
     "name": "stdout",
     "output_type": "stream",
     "text": [
      "generated explanation: <pad> <extra_id_0> Danny picked a grape out of a ceramic bowl that was on the table. The fruit was probably picked from a bowl made of ceramic, which is a popular choice for a variety of reasons. For example, a grape might have been picked from a bowl made of porcelain, which is a common ceramic material used to make dishes, trays, and other household items. The fruit was likely picked from a bowl made of ceramic, which is a popular choice for fruit bowls, because it is easy to clean and is also easy to clean up with no problem. The grape was also easy to clean and dry. The ceramic bowl was likely made of fruit was picked from the bowl, and was clean, and dry, and clean, and dry quickly. The grape was picked from the bowl was clean, and dried, and dried, so that it was clean and dry. The fruit was a bit of dirt, which is easy to clean and easy to clean, and dry, which is a common choice for people who are looking for someone who is looking for a bowl. The ceramic bowl was probably made of a ceramic, which is a good choice for people who are looking for someone who is a good choice for someone who is looking for. If you are looking for a bowl made of ceramic, you pick a bowl of fruit and clean, you can be a good choice for someone else. If you are looking for, then pick up and remove the bowl and then rinse with the bowl and rinse with if you were not sure to clean.</s>\n",
      "########\n",
      "*******\n",
      "question: The nose dipped and alarms went off inside the what?\n",
      "answer: aircraft\n",
      "choices: ['car', 'sniff', 'aircraft', 'upper respiratory tract', 'missile']\n",
      "common expl list: ['The nose dips and alarms go off inside the cockpit of an aircraft when the nose of the aircraft dips too low.']\n"
     ]
    },
    {
     "name": "stderr",
     "output_type": "stream",
     "text": [
      "\r",
      "  4%|███████                                                                                                                                                            | 43/986 [22:34<11:25:24, 43.61s/it]"
     ]
    },
    {
     "name": "stdout",
     "output_type": "stream",
     "text": [
      "generated explanation: <pad> <extra_id_0> The aircraft's nose dipped and alarms went off. The aircraft's alarms were set to sound when the aircraft was in motion. The alarms were triggered by the pilots, who noticed the aircraft was moving slowly and realised the aircraft was in motion. The pilots notified the FAA and the aircraft was in distress. The aircraft was in the air at high altitude and the nose dipped. The aircraft's alarms were set off when the aircraft entered the airspace. The aircraft was stopped and the pilots were in flight. The pilots nose was alerted the pilots cabin. The aircraft was in the airspace and the aircraft was in the airspace was full of the cockpit. The aircraft was in the moment the aircraft was in flight. The alarms were set off when the pilots were near the cockpit. The aircraft was in the airspeed and the flight. The aircraft was in the airspeed. The nose dipped and the aircraft was forced to land and take off. The aircraft was forced to land and the airspace. The aircraft was forced to land and s were in the cockpit. The nose docks were set to warn the aircraft of the aircraft. The aircraft was in the cockpit. The aircraft was in the airborne and the airspeed. The aircraft was a bit more likely the aircraft was in the airspace. The aircraft was in the cockpit. The aircraft was in the airspace and was in the airspace. Thenipped and triggered when the aircraft was in the airspace. The aircraft was in the airspace was a dangerous for passengers and<extra_id_27> </s>\n",
      "########\n",
      "*******\n",
      "question: Where is a cord likely to be on a tent?\n",
      "answer: sporting goods store\n",
      "choices: ['inside tent', 'delivery room', 'hardware store', 'backpack', 'sporting goods store']\n",
      "common expl list: ['Sporting goods stores likely have tents on display which generally come with their cords.']\n"
     ]
    },
    {
     "name": "stderr",
     "output_type": "stream",
     "text": [
      "\r",
      "  4%|███████▎                                                                                                                                                           | 44/986 [23:27<12:07:35, 46.34s/it]"
     ]
    },
    {
     "name": "stdout",
     "output_type": "stream",
     "text": [
      "generated explanation: <pad> <extra_id_0> A cord is a long, flexible piece of material that is typically used to hold a load. It is typically made of nylon, which is a very strong and durable material. It is typically made of a thicker material such as polyester, nylon or a combination of both. It is typically used to tie up a tent or other outdoor gear. A cord is typically made of nylon, which is a very strong material that is typically used to hold a large amount of weight. The cord is typically made of a durable, such as aluminum, and is a common material used to hold a tent or other outdoor gear. The cord is typically made of polyester, which is typically found on a tent or other lightweight material. The cord is typically made of polyester, which is a nylon that is typically made of polyester, which is typically made of a cord. A cord is typically attached to a tent and is made of a polyester, which is a lightweight and durable material. The cord is likely to be a light weight, but is not necessarily attached to a tent. The cord is likely to be tied to a tent, and is likely to be found on a tent. The cord is likely to be attached to a nylon, which is typically a nylon, which is typically made of a synthetic material. The cord is likely to be used to tie the material of polyester, which is made of natural fiber, which is made of a strong material that is likely to be a synthetic fiber, and is likely to hold a lightweight, and can be removed or a nylon.</s>\n",
      "########\n",
      "*******\n",
      "question: The man reduced the town to rubble out of hate, what was his goal?\n",
      "answer: destroy enemy\n",
      "choices: ['wage war', 'play nice', 'fight enemy', 'stab to death', 'destroy enemy']\n",
      "common expl list: ['someone who is completely obsessed with destroying an enemy (going so far as to want them completely obliterated from existance) is not a person who is playing nice.']\n"
     ]
    },
    {
     "name": "stderr",
     "output_type": "stream",
     "text": [
      "\r",
      "  5%|███████▍                                                                                                                                                           | 45/986 [24:30<13:23:48, 51.25s/it]"
     ]
    },
    {
     "name": "stdout",
     "output_type": "stream",
     "text": [
      "generated explanation: <pad> <extra_id_0> The man reduced the town to rubble out of hate. This is because he wanted to destroy the enemy, and he did not want to be a victim of the war. He wanted to do this out of self-defense, but he also wanted to be a hero in the eyes of the people in the town. The man's goal was to destroy the town because he was a hero in the eyes of the people in the town. The destruction of the town was a form of revenge. The destruction of the man was a victim of the enemy. The goal was to make it look like a he was a a he was trying to get rid of the town. The man was a a a avenge. The destruction of the town was a man's own people and the town. The man was a man who was a victim of his own country and the people he was a man who was trying to get away. The man was trying to get away from the town. He was trying to get rid of the town of the people he had to escape from the people. The man was trying to get rid of the people and the people he was trying to take over the town and destroying the people in the town and destroy the town. The man's efforts were a he was not willing to take down the town and he was trying to prove that he was trying to prove his own. The man was a a victim of the man's hatred and a way to prove his own.</s>\n",
      "########\n",
      "*******\n",
      "question: The toddler thought it would be fun to try eating breakfast in bed, what resulted?\n",
      "answer: mess\n",
      "choices: ['contentment', 'indigestion', 'vomiting', 'mess', 'catastrophe']\n",
      "common expl list: [\"Toddlers have poor coordination.  Even if they could somehow manage to not fall off the bed, it's likely that they would spill the food that they took with them to bed.  A mess would be made.\", \"Toddlers like to explore and test their own boundaries. They often don't know their limits, and it's common for their behavior to result in a mess. In the toddler's case, it involved getting breakfast on the bed due to his inexperience\"]\n"
     ]
    },
    {
     "name": "stderr",
     "output_type": "stream",
     "text": [
      "\r",
      "  5%|███████▌                                                                                                                                                           | 46/986 [25:15<12:56:42, 49.58s/it]"
     ]
    },
    {
     "name": "stdout",
     "output_type": "stream",
     "text": [
      "generated explanation: <pad> <extra_id_0> The toddler thought it would be fun to try eating breakfast in bed because it was a great way to get them used to eating in bed and to try new things. Having breakfast in bed is a great way to get them used to eating in bed and to get them used to eating in bed. It can also be a great time to get them used to eating in bed, as it can be a great way to get them used to eating in bed and eating in bed. This is because it is a great way to introduce the toddler to a new skills, such as a toddler can help them learn how to cook, and a little bit of cooking and eating breakfast in bed can lead to a lot of mess. The toddler can also use the bed to learn new foods and how to prepare them so they can easily. a bed can be a great way to get them to learn to make sure they are getting them ready for the day. It can also be a great way to practice eating in bed and at breakfast in bed. It can also be a way to get them ready for the day. By taking breakfast in bed, the toddler can learn and how to cook in bed and how to prepare it can help them learn to cook it. It can help them to learn how to cook and a table, and a table. It can be a great way to get them to learn how to cook and how to cook in a way to a great way to learn new ways to develop their own cooking and eat breakfast in bed can help them learn how to cook and how to cook in the<extra_id_27> </s>\n",
      "########\n",
      "*******\n",
      "question: He had a hard time getting his father's attention, he hoped that the winning baseball game would finally get him some what?\n",
      "answer: recognition\n",
      "choices: ['confirmation', 'celebrating', 'pride', 'recognition', 'happiness']\n",
      "common expl list: ['One way to gain recognition from ones parents is by accomplishing things that they value. For example, children might hope to make their parents proud of them by excelling at sports.']\n"
     ]
    },
    {
     "name": "stderr",
     "output_type": "stream",
     "text": [
      "\r",
      "  5%|███████▊                                                                                                                                                           | 47/986 [26:11<13:25:21, 51.46s/it]"
     ]
    },
    {
     "name": "stdout",
     "output_type": "stream",
     "text": [
      "generated explanation: <pad> <extra_id_0> He hoped that the winning baseball game would finally get him some recognition. Recognition is the key to gaining a child's affection and loyalty. Baseball is a form of socialization that can help children gain self-esteem and confidence. It can also help children gain self-confidence and self-esteem. It can also help to build self-esteem and self-confidence. It can also help to build self-esteem and self-confidence. Baseball can be a form of self-expression and a form of self-expression that can lead to improve his father's affection and self-esteem. It can also help to build a sense of self-confidence and self-esteem. It can also help him get his father's attention by winning the experience. It can help him gain self-esteem and self-confidence. It can also help him to gain self-esteem and self-esteem and self-esteem by providing him with self-confidence and self-esteem. It can also be a positive self-esteem and self-esteem. It can provide a way to build self-confidence and self-esteem. It can help to build self-confidence and self-esteem and self-esteem. It can also help build self-esteem and self-confidence and self-esteem and self-confidence. It can help build self-confidence and self-esteem and self-confidence in him and self-esteem. It can also help build self-esteem and self-esteem.</s>\n",
      "########\n",
      "*******\n",
      "question: The toddler is awaking from a nap, what doesn't he feel anymore?\n",
      "answer: tiredness\n",
      "choices: ['nervous', 'eyes opening', 'getting out of bed', 'tiredness', 'discomfort']\n",
      "common expl list: ['Children can easily get tired at their ontervall and a nap is an effective way for them to get over tiredness. Then when they wake up, they do not feel tiredness any longer.']\n"
     ]
    },
    {
     "name": "stderr",
     "output_type": "stream",
     "text": [
      "\r",
      "  5%|███████▉                                                                                                                                                           | 48/986 [26:54<12:43:08, 48.82s/it]"
     ]
    },
    {
     "name": "stdout",
     "output_type": "stream",
     "text": [
      "generated explanation: <pad> <extra_id_0> When a toddler wakes from a nap, he may feel tired and groggy. This is because he has just woken from a long sleep and is tired. This is because he has just woken up and hasn't been sleeping as much as he used to. This is because he has been sleeping for a long time and has slept for a long time. This is because he hasn't had a good night's sleep in a long time. This is because the toddler may have been sleeping for waking from waking up and is tired. This is because the body is tired, which isn't have been asleep. This is because the toddler has been sleeping for sore-not been sleeping for woke up and is tired and because waking up. This is because the body is tired and the toddler is now feeling tired. This is due to the fact that the toddler is awaken't being tired. This is because the body is tired and because of the sleep and the day. This is because the toddler is tired and the body is tired, and it is tired, and it's been sleeping. It's because of the body is so tired that it's been sleeping for so it's been waking up and it's been sleeping for so much longer. This is because a sleep is because the brain is tired and it's been so long. This is because it's been awakening and being tired. It's because it's been sleeping for so much of the brain is tired that waking up and the brain is<extra_id_27> </s>\n",
      "########\n",
      "*******\n",
      "question: John listened to music when he needed to focus.  It helped him achieve what?\n",
      "answer: quiet mind\n",
      "choices: ['express emotion', 'beautifull', 'irritate', 'bad environment', 'quiet mind']\n",
      "common expl list: ['Music can, at the very least, provide passive background noise as one works to help one focus. More specifically, music might have positive, uplifting or emotional qualities that are conducive to focus and concentration.', \"When one is trying to focus on a task, it's common to listen to music to help one focus.\", \"There's scientific evidence that listening to music can help people think better and concentrate easier.\"]\n"
     ]
    },
    {
     "name": "stderr",
     "output_type": "stream",
     "text": [
      "\r",
      "  5%|████████                                                                                                                                                           | 49/986 [27:29<11:38:54, 44.75s/it]"
     ]
    },
    {
     "name": "stdout",
     "output_type": "stream",
     "text": [
      "generated explanation: <pad> <extra_id_0> John found that listening to music when he needed to focus helped him achieve a quiet mind. Music can help him achieve a quiet mind because it can help him focus better and more efficiently. Music can help him achieve a quiet mind because it can help him focus better and more efficiently. It can help him achieve a quiet mind by providing a calm environment for thinking and thinking clearly. Music can also help him relax and focus, as it can help him focus better and more efficiently. Music can help him achieve a quiet mind because it can help John achieve a calm mind. It can help him achieve a quiet mind by providing a calm mind. It can also help him maintain a quiet mind by providing him with a quiet mind and clearer mind. It can also help him to focus better focus and focus. It can help him focus better focus and focus better. It can also help him to focus better focus and more effectively use music to relax and focus better focus on the important tasks. Music can help him achieve a quiet mind by providing a quiet mind and help him achieve a quiet mind and focus. It can help him achieve a quiet mind by providing a calm mind. This is important because it can help him focus better and help him achieve a quiet mind and improve his focus and focus. It can help him achieve a quiet mind by helping him focus and focus. It can help him focus and focus better focus and focus and calm mind. It can help him to focus and help him achieve a quiet mind.</s>\n",
      "########\n",
      "*******\n",
      "question: If I were to suffer from sudden illness I would be within reason to visit where?\n",
      "answer: hospital\n",
      "choices: ['nursing home', 'hospital', 'brain', 'elderly person', 'building']\n",
      "common expl list: ['If you were suddenly suffering an illness, it would be a reasonable thing to go to the hospital for treatment of that illness.', 'A hospital is a place where people go to receive treatment for illnesses.', 'Anyone can suffer a sudden illness, but hospitals are where the equipment and personnel exist to deal with sudden illnesses.', 'A hospital is a center for treatment and care of those suffering from illness.']\n"
     ]
    },
    {
     "name": "stderr",
     "output_type": "stream",
     "text": [
      "\r",
      "  5%|████████▎                                                                                                                                                          | 50/986 [28:05<10:58:51, 42.23s/it]"
     ]
    },
    {
     "name": "stdout",
     "output_type": "stream",
     "text": [
      "generated explanation: <pad> <extra_id_0> In the event of a sudden illness, it is within reason to visit a hospital. Hospitals are a place of care and treatment for people who are experiencing sudden illness. Hospitals are usually located in hospitals that are located near major cities, such as New York, Boston, and Philadelphia. Hospitals are a place of safety and comfort for people who are experiencing sudden illness. Hospitals are also a place where people can receive treatment and/or care. Hospitals are also a place where people can seek out medical attention and receive treatment for their condition. Hospital is a place of care and to be a hospital. Hospitals are also a place of care for those who are able to provide medical care for their needs and care. Hospitals also provide a place of care for people who are suffering from sudden illness. Hospitals are also a place of care and care for people who need to seek treatment and care. Hospitals also a place for people who are suffering from sudden illness. Hospitals are a place of care for people who are suffering from sudden illness and care. Hospitals are a place of care and care for people who are recovering from sudden illness. Hospitals are a place of care and care. Hospitals are located in a central location, and provide care for people who are recovering from sudden illness. Hospitals are a place of medical care and care. Hospitals are a place of care and care for people who are recovering and care. Hospitals are a place of care and treatment for people who are a place of refuge and care and care.</s>\n",
      "########\n",
      "*******\n",
      "question: John kept standing up.  He was afraid that if he were sitting down he might do something. What might he be afraid of?\n",
      "answer: fall asleep\n",
      "choices: ['fall asleep', 'being supported on chair', 'comfort', 'clowns', 'flatulence']\n",
      "common expl list: ['When standing, the chances of falling asleep abruptly would be much less (assuming that one is awake).', 'Sitting down makes one comfortable; sitting down with eyes closed makes one fall asleep.']\n"
     ]
    },
    {
     "name": "stderr",
     "output_type": "stream",
     "text": [
      "\r",
      "  5%|████████▍                                                                                                                                                          | 51/986 [29:28<14:05:53, 54.28s/it]"
     ]
    },
    {
     "name": "stdout",
     "output_type": "stream",
     "text": [
      "generated explanation: <pad> <extra_id_0> John was afraid that if he sat down he might do something. This is because he was afraid that if he sat down he might fall asleep and do something dangerous. Falling asleep is a dangerous state of being, and it is often the result of fear and anxiety. It is a dangerous state to be in, and it is associated with many health issues, including obesity, diabetes, and other conditions. Falling asleep is a common occurrence in the United States, and it is often the most people who are afraid of falling asleep, and other people who are not aware of the dangers of their bodies, and may be afraid of falling asleep. This is because falling asleep can cause serious injury, and can be dangerous for John. It is also a dangerous state of being in general, as it can lead to a result of being a stressful situation. It can be a dangerous for people, and can be dangerous for people, and can be dangerous if they are afraid of falling asleep, and it can be dangerous for John. If John were to fall asleep, he could be a serious injury or even be a serious injury. It could be a serious illness, and cause serious injury or even fatal, and cause a serious injury or illness. It could be a fall asleep could be a serious injury or even fatality. It can be fatal a serious injury or even fatal if he is afraid of falling asleep a dangerous condition a a serious injury or a serious. It could be a serious injury or even be a serious illness or someone is a person who is afraid of falling asleep and therefore be a person who is scared of falling asleep, such a serious illness, and it can be a result of falling asleep. It can cause serious injury or a person to fall asleep and cause serious illness or even fatality. It can be a serious injury or even be a person to them. This is a fearful person to be a person to them to be a person to them or someone else.</s>\n",
      "########\n",
      "*******\n",
      "question: He didn't know that good things can be posion in large doses.  He thought that he was just eating an essential what?\n",
      "answer: nutrient\n",
      "choices: ['antidote', 'consumable', 'nutrient', 'vitamin', 'medicine']\n",
      "common expl list: ['He thought that he was just eating an essential nutrient, but in large doses, it could be poisonous.']\n"
     ]
    },
    {
     "name": "stderr",
     "output_type": "stream",
     "text": [
      "\r",
      "  5%|████████▌                                                                                                                                                          | 52/986 [30:05<12:43:57, 49.08s/it]"
     ]
    },
    {
     "name": "stdout",
     "output_type": "stream",
     "text": [
      "generated explanation: <pad> <extra_id_0> He thought that he was eating an essential nutrient in large doses because he thought that it was just an essential nutrient. This is because the body needs a lot of nutrients to function properly. Eating an essential nutrient in large doses can lead to deficiencies of certain nutrients, such as vitamin D, potassium, and magnesium. Eating an essential nutrient can help regulate the body's response to stress, anxiety, and fatigue. Eating an essential nutrient can help support a healthy immune system. Eating an essential nutrient can help to support the body to function optimal health. It can also help the body to support the body. Eating a healthy mind and body can help to maintain a healthy weight. It can help to maintain a healthy weight loss. Eating an essential nutrient levels of these nutrients can help to maintain a healthy, which can help to maintain a healthy weight. Eating an essential nutrient can help to keep a steady state of vital nutrients in a healthy weight. Eating a nutritious diet can lead to a healthy weight loss. Eating a healthy lifestyle can lead to a better quality of nutrients in large doses of nutrients that are important for maintaining a healthy weight. Eating a healthy weight can help maintain a healthy weight, as a healthy body, as well as well as a healthy heart, and brain.</s>\n",
      "########\n",
      "*******\n",
      "question: The police didn't pay any favors, their job was to what?\n",
      "answer: force law\n",
      "choices: ['force law', 'board vessels', 'arrest', 'arm weapons', 'direct traffic']\n",
      "common expl list: ['Police are usually tasked with upholding the law, and if they see a law being broken they will intervene (forceful intervention); moreover, they also coordinate with other officers (direct traffic and board vessels). These activities do not involve favors.']\n"
     ]
    },
    {
     "name": "stderr",
     "output_type": "stream",
     "text": [
      "\r",
      "  5%|████████▊                                                                                                                                                          | 53/986 [30:21<10:11:30, 39.33s/it]"
     ]
    },
    {
     "name": "stdout",
     "output_type": "stream",
     "text": [
      "generated explanation: <pad> <extra_id_0> The police's job was to stop criminals from harming innocent people. They were there to protect and serve, not to do any favors. The police were there to protect and serve, and to do so, they were under the direct control of the law. The police were there to enforce the law and to protect the innocent people. The police were there to ensure that no one was harmed or raped, and they were there to protect the public from harm. The police were there to enforce the law and to make sure that they were not in order to protect the public. The police were there to ensure that they were not to be a safe environment for children to play with their parents. The police were there to protect the innocent children from harm. The police were there to ensure that they were not paid any favors or to ensure that no one another. The police were there were no one of the law to pay any favors. The police were there to make sure that the public was no favors. The police were there to make sure that they were not apad to be there to ensure that the law. The police were there to make sure that no one of a crime and that they were no favors. The police were there to make sure that they were there to ensure that no favors. The police were not to pay any favors. The police were there to ensure that they were not paying for them. The police were not paying them to take advantage of their job was to pay any favors.</s>\n",
      "########\n",
      "*******\n",
      "question: The place specialized in colorful arrangements, but the also had a toy balloon or two where?\n",
      "answer: flower shop\n",
      "choices: ['see work', 'birthday party', 'flower shop', 'parade', 'toy store']\n",
      "common expl list: ['Batches of balloons are available at flower shops, where floral arrangements are sold, and rainbow contruction paper is usually found in art shops and classrooms.', 'Flower shops sell interesting arrangements made with colorful flowers.']\n"
     ]
    },
    {
     "name": "stderr",
     "output_type": "stream",
     "text": [
      "\r",
      "  5%|████████▉                                                                                                                                                           | 54/986 [30:41<8:41:27, 33.57s/it]"
     ]
    },
    {
     "name": "stdout",
     "output_type": "stream",
     "text": [
      "generated explanation: <pad> <extra_id_0> The place specialized in colorful arrangements, but also had a toy balloon or two or three. The place specialized in colorful arrangements, and the only thing they had was a toy balloon. Flowers are a great way to express yourself and express yourself. They are a great way to express your personality and show off your personality. Flowers are a great way to express yourself and express your personality. Flowers are a great way to express yourself and show off your personality. Flowers are a great way to express yourself and show off your personality. Flowers are also a great way to show off your personality. They are also great way to get people to get creative. The flowers are also great way to show off their personality. Flowers are also great way to show off your personality. They are also great way to make people smile and to share their personality. Flowers are also a great way to promote a sense of fun and to show off your personality. They are also a great way to show off your personality. Flowers are a great way to show off your personality. They are also a great way to show off their personality. Flowers are also a great way to show off their own personality. They are a great way to get people to show off their love for their customers.</s>\n",
      "########\n",
      "*******\n",
      "question: Where was there never any mammoth?\n",
      "answer: zoo\n",
      "choices: ['wild', 'north dakota', 'forest', 'movie', 'zoo']\n",
      "common expl list: ['Mammoths are extinct, and zoos are places where animals are kept for observation and study.']\n"
     ]
    },
    {
     "name": "stderr",
     "output_type": "stream",
     "text": [
      "\r",
      "  6%|█████████▏                                                                                                                                                          | 55/986 [30:50<6:43:56, 26.03s/it]"
     ]
    },
    {
     "name": "stdout",
     "output_type": "stream",
     "text": [
      "generated explanation: <pad> <extra_id_0> Mammoths are large animals that are mainly found in zoos, but they are also found in wild areas such as parks, forests, and zoos. Zoos are a great way to learn about the world of mammals and learn about its culture, history, and habits. Mammoths are often found in zoos, which are typically kept in enclosures, which can be set up with a variety of animals, including reptiles, birds, and mammals. The zoons are often kept in zoths, which are often found in the wild and are often seen in zooooa variety of different environments, and can be seen in zooooa variety of different environments, including the wild, including zoa variety of species of plants, and animals. In zoozooooo</s>\n",
      "########\n",
      "*******\n",
      "question: Why do most people engage in chatting with friends?\n",
      "answer: fun\n",
      "choices: ['fun', 'love', 'answers', 'inspiration', 'relaxation']\n",
      "common expl list: ['Chats with friends are often fun, and thus people engage in them for that reason.']\n"
     ]
    },
    {
     "name": "stderr",
     "output_type": "stream",
     "text": [
      "\r",
      "  6%|█████████▎                                                                                                                                                          | 56/986 [31:12<6:24:14, 24.79s/it]"
     ]
    },
    {
     "name": "stdout",
     "output_type": "stream",
     "text": [
      "generated explanation: <pad> <extra_id_0> Most people engage in chatting with friends because it is a fun activity and it can be shared with others. It can be shared with family, friends, and other acquaintances. It can be shared because it can be shared with others and it can be shared with anyone you want. It can also be used to make new friends and make new friends. It can be used to make new friends and make new friends. It can also be used to share information and experiences with other people. It can be used to share information and experiences with others. It can be used to make new friends and make new friends and make new friends. It can be used to make new people meet new people and make new friends and make new friends make new friends and make new and make new friends. It can also be used to make new friends and make new friends and make new friends. It can be used to make new friends and make new friends and make new friends. It can be used to make new friends and make new friends. It can be used to make new friends and share experiences. It can be used to make new and make new friends and make new people. It can also be used to make new people laugh and make new friends. It can be used to make new friends and to make new friends and make new friends. It can be used to make new friends and make new friends. It can be used to make new connections. It can be used to share and make new friends. It can be used to share and make new friends. It can be used to make new friends.</s>\n",
      "########\n",
      "*******\n",
      "question: What could happen after discovering truth that you did not want to know?\n",
      "answer: pain\n",
      "choices: ['pain', 'relief', 'grey hair', 'understanding', 'enlightenment']\n",
      "common expl list: ['Truth can be painful, and discovering it can cause pain.']\n"
     ]
    },
    {
     "name": "stderr",
     "output_type": "stream",
     "text": [
      "\r",
      "  6%|█████████▍                                                                                                                                                          | 57/986 [31:53<7:39:56, 29.71s/it]"
     ]
    },
    {
     "name": "stdout",
     "output_type": "stream",
     "text": [
      "generated explanation: <pad> <extra_id_0> When you discover truth, you may experience pain. This pain can be caused by the truth that you did not want to know. It can be a physical sensation, emotional pain, or a combination of emotions. It can also be a mental pain, emotional pain, or a combination of both. The pain of discovering truth can be overwhelming, and it can be difficult to accept the truth, and it can be difficult to accept it. The pain of discovering truth can be especially painful for someone who does not want to know it. The pain can be a difficult decision to make decisions, or make the decision. It can be difficult to accept the truth that the truth of knowing the truth can be difficult to accept it is a decision to choose not to accept the truth. It can be difficult to accept the truth, and may be difficult for someone to accept the pain and the truth that you may be a difficult decision to make difficult to accept it. It can be difficult to accept it and accept the truth even be difficult to accept the truth. It can be difficult to accept the truth that you may be difficult to accept it. Truth can be painful and it can be difficult to accept the truth, and to accept it. It can be difficult and difficult to accept it. It can be a difficult decision to make a difficult and it. It can be difficult to accept the truth and to accept that you accept that you and accept it. It is important to accept the truth and accept it. It can be a difficult to accept it. It can be difficult to accept it and to accept it. It can be difficult to accept it as it can be difficult to accept it.</s>\n",
      "########\n",
      "*******\n",
      "question: What will an athlete do to warm up their legs?\n",
      "answer: jog\n",
      "choices: ['use heater', 'sprint', 'jog', 'run fast', 'compete']\n",
      "common expl list: ['When athletes warm up before swimming, running, riding a bike, or performing other physical activity, they generally will jog (which will help them loosen muscles in the legs).', 'warming up is a routine that is performed to either prepare for doing something new, or prepare for doing something which put strains on you, or which you have been out of practice doing.']\n"
     ]
    },
    {
     "name": "stderr",
     "output_type": "stream",
     "text": [
      "\r",
      "  6%|█████████▋                                                                                                                                                          | 58/986 [32:35<8:39:00, 33.56s/it]"
     ]
    },
    {
     "name": "stdout",
     "output_type": "stream",
     "text": [
      "generated explanation: <pad> <extra_id_0> An athlete will do jogging to warm up their legs before a competition. This is because jogging is a great way to warm up your legs. It is a great way to get your heart rate up, which helps to maintain a healthy metabolism. Jogging is also a great way to get your legs warmed up. It is a great way to get your heart rate up and blood flowing to your muscles, which helps to increase blood flow to the heart. This helps to increase blood flow to the muscles, which helps to increase blood flow through the body. It is also a great way to get blood to the blood flowing through the blood flowing. This is also a great way to get blood flowing through the blood pressure in the blood flowing through the body to the blood flowing through the muscles. This helps to increase blood pressure in the body temperature. It also helps to increase blood flow to the blood flow to the blood pressure to the blood flowing, helping to the blood to the heart. This helps to improve the blood flow to the muscles that are also important for health. It can help to increase blood flow to the muscles that are important for the muscles that are also important for the muscles. This helps to maintain the blood flow to the muscles to keep them healthy. This helps to keep the blood moving in the body. This helps to keep the blood flowing to the blood to the muscles that are important for the blood to stay warm up the muscles, which helps to keep the body. This helps to keep the body and improve the muscles that are a healthy metabolism. It can help to keep the body. This helps to keep the muscles, which helps to increase the muscles that help to the body.</s>\n",
      "########\n",
      "*******\n",
      "question: Where can you keep your binder on your person between periods of instruction?\n",
      "answer: backpack\n",
      "choices: ['class room', 'car', 'office supply store', 'backpack', 'bookcase']\n",
      "common expl list: ['Usually binder users carry their binders from class to class outside of the classroom. Backpacks are often convenient, and are large enough to hold the binder.']\n"
     ]
    },
    {
     "name": "stderr",
     "output_type": "stream",
     "text": [
      "\r",
      "  6%|█████████▊                                                                                                                                                          | 59/986 [32:56<7:39:20, 29.73s/it]"
     ]
    },
    {
     "name": "stdout",
     "output_type": "stream",
     "text": [
      "generated explanation: <pad> <extra_id_0> Binders are important tools for students to have when learning new material. They are often used to help students remember important information, such as dates, assignments, and assignments. This can be useful for students who are studying abroad, or for students who are traveling. Binders are also useful for students who are studying in a foreign country. They are also a great way to store your binder on a person, such as backpacks, and can be carried around with you. They can be carried in a backpack or on a purse, or even in a student. The backpack is ideal way to keep your binder on your person. The backpack allows you to carry your binder with you to carry your binder on you during your classes. The backpack is also a convenient way to carry your binder around the binders on your person. The backpack is also a great way to keep your binder organized and easily accessible. The backpack is also easy to accessor to your binder on your person. The backpack is also a great way to store your binder on your person. The backpack is also a convenient way to carry your binder. The backpack can also be used to keep your binder on your person. The backpack is also a convenient way to keep your binder accessible and easy to accessible.</s>\n",
      "########\n",
      "*******\n",
      "question: In the middle of the day what will someone do because of being hungry?\n",
      "answer: have lunch\n",
      "choices: ['cook dinner', 'make bread', 'eat in restaurant', 'have lunch', 'make bread']\n",
      "common expl list: [\"It's common for folks to have lunch during the middle of the day.\", 'People often eat lunch at midday, and so, if they are hungry at midday, they might go to a restaurant to eat lunch.']\n"
     ]
    },
    {
     "name": "stderr",
     "output_type": "stream",
     "text": [
      "\r",
      "  6%|█████████▉                                                                                                                                                          | 60/986 [33:10<6:23:59, 24.88s/it]"
     ]
    },
    {
     "name": "stdout",
     "output_type": "stream",
     "text": [
      "generated explanation: <pad> <extra_id_0> In the middle of the day, someone who is hungry will have lunch. Eating lunch is a great way to keep full until dinner. Eating lunch is a great way to keep your energy up and keep you going throughout the day. Eating lunch is also a great way to keep you full until bedtime. Eating lunch is also a great way to keep your body satiated and energized. Eating lunch can also help keep you hydrated. Eating lunch can also help keep you hydrated and energized throughout the day. Eating lunch can help to keep you full until bed. Lunch can also help to keep you feeling full until the morning. Lunch can also help to keep you feeling full and help you feel full until late at night. During the day, you are feeling a good way to keep your mind when you are feeling surrounded by the day. Eating lunch can help you feel refreshed and relaxed. Eating lunch can also help you feel refreshed and helps to keep you going throughout the day. Eating lunch can help keep you going throughout the day.</s>\n",
      "########\n",
      "*******\n",
      "question: Where is garbage brought to by garbagemen?\n",
      "answer: landfill\n",
      "choices: ['trashcan', 'landfill', 'television', 'computer', 'dumpster']\n",
      "common expl list: ['Landfills are where all the trash in the city go to.']\n"
     ]
    },
    {
     "name": "stderr",
     "output_type": "stream",
     "text": [
      "\r",
      "  6%|██████████▏                                                                                                                                                         | 61/986 [33:53<7:46:34, 30.26s/it]"
     ]
    },
    {
     "name": "stdout",
     "output_type": "stream",
     "text": [
      "generated explanation: <pad> <extra_id_0> Garbage is brought to a landfill by garbagemen. A landfill is a place where garbage is collected and disposed of in a controlled manner. The garbage is then sorted and placed in a bin, which is then emptied into a truck. The truck is then driven to a landfill where it is disposed of in a garbage bag. The garbage is then disposed of in a bin, which is then emptied into a garbage truck. The truck then drives the garbage to a landfill, which is then afe thrown into a truck, which is then a landfill. The garbage is then taken to be receptors, which is then placed in a truck, and then taken to a garbage truck, which is then taken to a dump, where it is thrown away. The garbage is taken to a landfill and then taken to disposed of the truck driver who takes the garbage to a landfill. The truck then takes the garbage truck to the truck and the truck to a dump, which is then taken to the landfill. The truck takes the garbage to the landfill and taken there. The garbage is then disposed of in a landfill, which is then taken to the truck and taken into the truck. The truck then taken to the truck and the truck to the truck and taken to the truck. The truck takes the garbage to the truck and taken to the truck is then disposed of in the landfill. The truck then taken to the truck and taken to the landfill. The garbage is then taken to the truck and is taken to the truck and the truck back to the landfill. The truck is then taken to the truck and taken to the landfill. Then</s>\n",
      "########\n",
      "*******\n",
      "question: What are people doing when washing hands for a long time?\n",
      "answer: thinking\n",
      "choices: ['thinking', 'sleeping', 'use soap', 'irritation', 'cleaning dirt off']\n",
      "common expl list: ['People often think about things while they are washing their hands, and this is a good time to think about things.', 'People often just pause while washing their hands. It may be that they are thinking about something while this occurs naturally.']\n"
     ]
    },
    {
     "name": "stderr",
     "output_type": "stream",
     "text": [
      "\r",
      "  6%|██████████▎                                                                                                                                                         | 62/986 [34:13<6:58:50, 27.20s/it]"
     ]
    },
    {
     "name": "stdout",
     "output_type": "stream",
     "text": [
      "generated explanation: <pad> <extra_id_0> When people wash their hands for a long time, they are likely to think about a number of things. One of these things is to think about the water they are using and how it is affecting their health. This is because the water they use is a natural disinfectant, which can help to prevent infections. When washing hands for a long time, people are likely to think about the water they are using, the temperature, and the amount of soap they are using. This is because the water is a natural disinfectant, which can help to absorb the dirt and bacteria from the water. It can be absorbed by the air, which can help to help to keep the water, which can help to absorb the soap and other ingredients, such as the soap. It is important to remember to use the soap before touching the water to dry. It is important to remember that the soap must be used to remove the soap and the soap must be rinse off, as it can affect the bacteria that are exposed. It can also be used to remove dead or dead skin, which can cause irritation. It can also cause problems, such as irritlin, which can cause irritation. It can also cause irritations allergies, and can cause a serious problems. It is important to remember that the water is present<extra_id_27> </s>\n",
      "########\n",
      "*******\n",
      "question: What would someone say about a tube television?\n",
      "answer: obsolete\n",
      "choices: ['obsolete', 'addictive', 'entertaining', 'bycone', 'legal']\n",
      "common expl list: ['Tube televisions are obsolete, meaning that they are old and was abolished by newer technology.', 'Tube televisions are no longer manufactured, and are therefore obsolete.']\n"
     ]
    },
    {
     "name": "stderr",
     "output_type": "stream",
     "text": [
      "\r",
      "  6%|██████████▍                                                                                                                                                        | 63/986 [35:23<10:15:55, 40.04s/it]"
     ]
    },
    {
     "name": "stdout",
     "output_type": "stream",
     "text": [
      "generated explanation: <pad> <extra_id_0> A tube television is an obsolete form of television. It is a flat screen television that is typically used for viewing television at home or at work. It is a type of cable television that is typically used for programming and a set top box. It is an older model that is typically made of plastic or metal and has a curved edge, which makes it difficult to see the screen. It is also an outdated form of television that is often used for entertainment purposes. It is also an outdated form of television because it is not able to see the screen and the television set up with a tube television is a television that is not only available at a digital television. It is also an obsolete because it is a very limited number of channels, and it is not only available for entertainment purposes. It is also a tube television, which is a great way to watch television, but it is not only available for entertainment purposes. It is an obsolete because it is not compatible with a digital television, and is not compatible with other devices, such as a digital television. It is also not compatible with a digital television, but it is not compatible with any other devices, such as a digital television. It is also not a digital television, and is not designed to provide a digital television signal. It is not a suitable for use in a television. It is not compatible with other devices, and is not available for entertainment purposes. It is not compatible with a a digital television, and not compatible with a digital television, so it is not a suitable for use with a digital television. It is not suitable for a traditional cable or satellite television, and not compatible with digital devices such as smartphones, such as a mobile phone or a computer. It is not compatible with a suitable for a suitable for a television. It is not compatible with a computer. It is a standard digital television, and is not compatible with a computer, such as a television, and is not compatible with a computer, and not compatible with a computer, which is not compatible with a digital phone, and is not compatible with a traditional television, and is not compatible with a home-based on a computer, and not compatible with a computer, as a mobile phone, and is not compatible with a computer, and not compatible with a computer, and not compatible with a\n",
      "########\n",
      "*******\n",
      "question: The man drank his coffee at work?\n",
      "answer: office\n",
      "choices: ['coffee shop', 'table', 'kitchen', 'office', 'chair']\n",
      "common expl list: ['People often drink coffee at offices, with other co-workers.', 'The man probably works in an office where he could have a cup of coffee while behind his desk.', 'The man is likely to be at work, and offices often have kitchens where coffee is made.']\n"
     ]
    },
    {
     "name": "stderr",
     "output_type": "stream",
     "text": [
      "\r",
      "  6%|██████████▋                                                                                                                                                         | 64/986 [35:36<8:10:43, 31.93s/it]"
     ]
    },
    {
     "name": "stdout",
     "output_type": "stream",
     "text": [
      "generated explanation: <pad> <extra_id_0> The man drank his coffee at work because it is a way to help the office stay focused and productive. Coffee at work is a popular beverage among many workers, and it is often a part of the workday. Coffee is a great beverage to have at work, as it can help to keep employees alert and focused. It can also help to keep employees motivated and focused. Coffee is also a great source of energy, as it can help to keep them focused and alert. Coffee is also a great source of energy, which can help to keep employees engaged and focused on their work. It can also be a way to keep employees focused and focused on their work. It can be used to keep employees focused and motivated. It can also be used to keep employees engaged in the office and help to keep them focused. It can help to keep employees awake and alert and alert. It can also be used to keep them alert and alert employees from work. It can also help to keep employees focused and engaged. Coffee can also help them focus and stay focused. It can help to keep employees motivated and focused and keep them focused. It can help to keep them motivated and focused, as it can help them stay focused and motivate them to stay focused and focused. It can help to keep them focused and motivated and keep them focused and help them focus and keep them focused. It can also help them focus and help them focus and increase their work. Coffee can help to increase productivity and reduce stress and reduce their coffee can help to keep them focused and motivated. It can help to increase productivity and help increase their productivity and motivation. It can help increase productivity and reduce the company employees focus and help employees focus and motivate employees to work effectively. It can help them focus and help them stay focused and learn. It can help them focus and focus on their work effectively and focus and focus on their work. It can help them focus and help them to stay focused and focus on their work and learn.</s>\n",
      "########\n",
      "*******\n",
      "question: What can he do to eliminate his ignorance?\n",
      "answer: learn new\n",
      "choices: ['find information', 'judge', 'do some research', 'find truth', 'learn new']\n",
      "common expl list: [\"Learning is a way to eliminate ignorance; for example, learning a foreign language is one way to eliminate ignorance of that language's grammar.\", 'In this context, ignorance refers to a lack of knowledge, and obtaining new knowledge is the best way to eliminate the ignorance.', 'Ignorance is the state of not knowing something, and to eliminate ignorance, one must learn new things.']\n"
     ]
    },
    {
     "name": "stderr",
     "output_type": "stream",
     "text": [
      "\r",
      "  7%|██████████▊                                                                                                                                                         | 65/986 [35:51<6:54:37, 27.01s/it]"
     ]
    },
    {
     "name": "stdout",
     "output_type": "stream",
     "text": [
      "generated explanation: <pad> <extra_id_0> s<extra_id_1> s<extra_id_2> s<extra_id_3> s to help him understand the world around him better. He can learn new things quickly and easily, and can take advantage of them to improve his life. Then, he can take advantage of the information available to him, such as the Internet, to improve his knowledge and skills. This can help him to become more aware of the world around him and to make better decisions. This can help him to become more aware of the world around him, and to make better decisions. Learning new information is essential to improving his life. It is also important to be a healthy lifestyle. It is also important to have a healthy lifestyle that can help him become more aware of the world around him. This can help him to make better decisions and to make better decisions that are important to make better informed decisions that will help him to make better decisions that are made by making the right decisions. Furthermore, the information available to help him to make better decisions, and make better informed decisions that will help him be more aware of the world around him. It is important to learn more about the world around him. This can be used to help him become aware of the world around him.</s>\n",
      "########\n",
      "*******\n",
      "question: What do humans do when in a race?\n",
      "answer: compete with each other\n",
      "choices: ['lay eggs', 'eat fruit', 'wrestle', 'compete with each other', 'draw pictures']\n",
      "common expl list: ['Humans are naturally athletic and competitive. On land, people will compete with each other by running or wrestling. Often humans race on water by swimming, or by boating with other people.']\n"
     ]
    },
    {
     "name": "stderr",
     "output_type": "stream",
     "text": [
      "\r",
      "  7%|██████████▉                                                                                                                                                         | 66/986 [36:05<5:53:58, 23.09s/it]"
     ]
    },
    {
     "name": "stdout",
     "output_type": "stream",
     "text": [
      "generated explanation: <pad> <extra_id_0> Humans compete with each other in a race because they are a socially diverse group of people, each of whom has their own unique characteristics and abilities. Humans are socially competitive by nature, and as a result, they compete with each other to survive and thrive. Humans compete in a race for food, shelter, clothing, and other resources. This competition is a form of social competition in which humans compete for the same resources, such as food, clothing, and shelter. This competition is a form of competition in which is a group of people for the best race for the best at the best way to win. Humans compete for the most innovative and creative ways to win over other in the best at their individualistic way to stay alive and develop their individualistic and social interactions with their own unique characteristics, personalities, skills and abilities. Humans are also a variety of abilities, which makes them more competitive environments and more likely to be competitiveness than any one another. In a race, humans are in a competitive environment, as they are more likely to compete with each other in a race than one another. Humans are also a competitive environment, which can be a place to show their individuality and their individuality, and their differences, as they are more than one another. This competition can help or even help them to<extra_id_1> </s>\n",
      "########\n",
      "*******\n",
      "question: She explained that you won't always get what you want with a goal, but you should still do what with it?\n",
      "answer: reach for\n",
      "choices: ['know how to find', 'work hard', 'remember where', 'reach for', 'purchase']\n",
      "common expl list: ['Reaching for attained goals is more beneficial than simply working towards them, at least in the short term. It significantly increases your chances of success.']\n"
     ]
    },
    {
     "name": "stderr",
     "output_type": "stream",
     "text": [
      "\r",
      "  7%|███████████▏                                                                                                                                                        | 67/986 [36:26<5:44:39, 22.50s/it]"
     ]
    },
    {
     "name": "stdout",
     "output_type": "stream",
     "text": [
      "generated explanation: <pad> <extra_id_0> She explained that you should reach for the goal because it will help you get to where you want to go. Reaching for a goal is a great way to get to where you want to go. Reaching for a goal is a great way to get to where you want to go. Reaching for a goal helps you stay focused and helps you stay on track. Reaching for a goal is a great way to stay on track and stay on track. Reaching for a goal helps you stay on track and helps you to reach for more. Reach for example, if you want to get to reach for help you get to achieve your goal, you reach for help you get to where you want to go. Reaching for help you to get to the goal can be a way to stay on the goal and get there. Reaching for help you achieve it takes effort and time. Reach for a goal is a goal can be a way to get to reach for help you get where you can use it to get to get to stay on track and stay focused and stay on the journey. Reaching for help you to get to reach for help others, and reach for a goal can help others in the journey.</s>\n",
      "########\n",
      "*******\n",
      "question: What happens when you eat hamburger too fast without swallowing?\n",
      "answer: choking\n",
      "choices: ['get full', 'drink', 'choking', 'hungry', 'getting fat']\n",
      "common expl list: [\"If you eat hamburger too fast, you might choke on it, because it's a solid food that can get stuck in your throat.\", \"Choking can occur when you stick stuff in your mouth which can't go down your throat properly, so that you can't breath. Common causes can be eating too fast, or swallowing items that can't go down your throat, like liquids or large\", \"When you eat hamburger too fast, it can quickly turn into the consistency of a block, and when you can't swallow it, it can cause you to choke.\", 'Eating too fast can sometimes cause coughing / choking as food get stuck in your throat.']\n"
     ]
    },
    {
     "name": "stderr",
     "output_type": "stream",
     "text": [
      "\r",
      "  7%|███████████▎                                                                                                                                                        | 68/986 [36:45<5:25:55, 21.30s/it]"
     ]
    },
    {
     "name": "stdout",
     "output_type": "stream",
     "text": [
      "generated explanation: <pad> <extra_id_0> When you eat too fast without swallowing, you can choke. This is because the hamburger is too large to be swallowed. It is difficult to swallow and swallow the whole thing. The stomach is very full and it is difficult to swallow the entire thing. This is because the hamburger is so large that it cannot be swallowed. When you eat too quickly, the stomach can become compressed and collapse. This is because the stomach is not able to absorb the liquids that are in the hamburger. The result is that the hamburger is too quickly, which can cause the hamburger. The stomach can become very difficult to swallow and cause the throat. The stomach can cause a rapid a heartbeat and blood pressure. The stomach is very difficult to swallowing and the hamburger too fast. If you are not able to swallow the hamburger, you can cause choking. It can be very painful to swallowing problems. The choking can also cause serious stomach cancer and heart-related. This can lead to a serious condition known heart attack. It can also cause a weakened stomach muscles and make it difficult to swallow the food. When you eat too fast, it can be difficult to swallow. This can be very dangerous for you.</s>\n",
      "########\n",
      "*******\n",
      "question: John sat in a folding chair in a bit room with a stage.  What sort of room could that be?\n",
      "answer: auditorium\n",
      "choices: ['room', 'auditorium', 'meeting hall', 'school', 'church']\n",
      "common expl list: ['An auditorium is a large room that is used for public events, such as concerts, plays, and speeches.']\n"
     ]
    },
    {
     "name": "stderr",
     "output_type": "stream",
     "text": [
      "\r",
      "  7%|███████████▍                                                                                                                                                       | 69/986 [38:20<11:05:22, 43.54s/it]"
     ]
    },
    {
     "name": "stdout",
     "output_type": "stream",
     "text": [
      "generated explanation: <pad> <extra_id_0> An auditorium is a large room that is used for performing arts. It is typically a theatre, a concert hall, or a concert hall. An auditorium is a large room that can accommodate a variety of events, such as concerts, plays, and other performances. An auditorium is a room that is used for performing arts, such as plays, concerts, and other types of events. It is a large, well-lit room with a stage, usually located in the center of the room. The stage is usually a small, but it can accommodate up to accommodate a full production. The seating is often used for musical performances, and other events. In addition to the stage, the room can also be used for other events, such as, such as concerts, a ballroom, a sound system, or a microphone. The stage is a large, and can be used for performances. The seating is often a bit room with a large stage, and a bit of a bit of stage. The stage is a bit of space, and can be used for performances, such as a musical or other forms of entertainment. The stage is also a bit of audience, as in a bit of course, so that it can be used for a variety of musical event, such as a musical. In a bit of course, the room can be used for other purposes, such as a musical or for other performances, such as a stage for a variety of music, such as a stage, a musical performance, or a bit of a bit room, such as a stage, such as a musical performance, or other events, such as a musical, a stage, a stage, or for a musical performance, such as a musical act or a musical or other musical performances, or even a stage, such as a musical or for a performance, such as a musical performance, a musical performance, or for a musical performance, a stage in a room for a musical performance, or a musical, a performance, or a musical performance, or a bit room for a musical performance, a musical, such as a musical, a musical, a musical performance.</s>\n",
      "########\n",
      "*******\n",
      "question: What would an adult man do to get ready for work?\n",
      "answer: dress himself\n",
      "choices: ['dress herself', 'shower', 'dress himself', 'drink beer', 'drive train']\n",
      "common expl list: ['Adult males commonly wear suits to work. Men might get dressed in the morning, particularly if they plan on wearing a suit for work.', 'An adult man would dress himself for work: this includes putting on pants, shirts, and dresses, and typical choices are professional clothes, such as suit and tie.']\n"
     ]
    },
    {
     "name": "stderr",
     "output_type": "stream",
     "text": [
      "\r",
      "  7%|███████████▋                                                                                                                                                        | 70/986 [38:48<9:52:56, 38.84s/it]"
     ]
    },
    {
     "name": "stdout",
     "output_type": "stream",
     "text": [
      "generated explanation: <pad> <extra_id_0> An adult man would dress himself for work by wearing a suit and tie, which is a formal look that is appropriate for the workplace. This is because a suit is a type of clothing that is worn to work and is designed to protect the wearer from the elements. It is also important to note that a suit is not a substitute for a man’s uniform, which means that it is not a substitute for a suit. A suit is a type of clothing that is worn to work and is not intended for work environment. A man should also be aware of the importance of his job, as it is important to be aware of his surroundings, and his suit and his own style. It is also important to be aware of his surroundings, which are important to be aware of his appearance and fit. This is important, as it is important to understand his role. It is also important to know that a man’s job and its implications. It is important to be aware of his own style and how suited to work environment. It is important to be sure to ensure that he is comfortable and is comfortable. It is important to be aware of the importance of how to dress for the workplace. This is also important because it is important because it is important to be aware of his surroundings.</s>\n",
      "########\n",
      "*******\n",
      "question: What does one do at an office?\n",
      "answer: work\n",
      "choices: ['work', 'school building', 'workplace', 'skyscraper', 'public building']\n",
      "common expl list: ['One does work at the office', 'An office is a specific type of workplace.', 'An office is a place where people work.']\n"
     ]
    },
    {
     "name": "stderr",
     "output_type": "stream",
     "text": [
      "\r",
      "  7%|███████████▋                                                                                                                                                       | 71/986 [39:32<10:14:24, 40.29s/it]"
     ]
    },
    {
     "name": "stdout",
     "output_type": "stream",
     "text": [
      "generated explanation: <pad> <extra_id_0> An office is a place of work where people work together to solve problems and solve problems. An office is a place where people come together to solve problems and solve problems. An office is a place where people can work together to solve problems and solve problems. It is a place where people can collaborate and share ideas and learn new things. It is a place where people can work together and share their knowledge and ideas. An office is a place where people can work together and share ideas and create new ones. It is a place of work that allows employees to work with colleagues and work in an office. This helps to keep the office running smoothly and to ensure that everyone is treated with respect and a positive attitude and respect each other people. It is a place where people can also share and learn new technologies with each other. This is a place where people can work and can share knowledge and create a positive environment for people to develop new ideas and ideas. It is a place where people can share their knowledge and share ideas and create new ideas and ideas and create new ideas and ideas. It is a place to work and create a sense of belonging to be a sense of belonging and to feel safe and to feel secure. It is a place of belonging. It is a place of self-a sense of belonging. It is a sense of belonging and a place of belonging. It is a place where people can come together and create a sense of belonging. It is a sense of belonging and a sense of belongings and create a sense of belonging and share their talents and learn and knowledge and<extra_id_27> </s>\n",
      "########\n",
      "*******\n",
      "question: When a person is on trial for killing, what is a jury likely to decide?\n",
      "answer: punishment\n",
      "choices: ['execution', 'investigation', 'going to jail', 'retribution', 'punishment']\n",
      "common expl list: ['A person who has just killed another person often goes to trial, so the jury will likely have to decide what the most just punishment is.', 'When a jury decides that someone is guilty of a crime, they typically hand down a punishment.', 'A jury is likely to decide that the person is guilty of the crime, and punish them accordingly.']\n"
     ]
    },
    {
     "name": "stderr",
     "output_type": "stream",
     "text": [
      "\r",
      "  7%|███████████▉                                                                                                                                                       | 72/986 [40:12<10:11:11, 40.12s/it]"
     ]
    },
    {
     "name": "stdout",
     "output_type": "stream",
     "text": [
      "generated explanation: <pad> <extra_id_0> A jury is likely to make a decision based on the evidence and the circumstances surrounding the killing. The jury is also likely to make a decision based on the circumstances surrounding the killing. For example, a jury may decide that a person killed someone for a reason that the victim did not deserve, such as a desire to kill or a desire to kill. This is because killing is a crime that requires a high level of skill and knowledge, and that a person must have the capacity to act quickly and decisively. A jury could also be forced to decide on the case. The jury may also consider other factors that could include a reasonable expectation of a reasonable person’s life, such as a sentence, such as a guilty or not a guilty verdict. This is because a jury is a serious crime and that the jury may include a sentence, such as a lifelong as a death penalty. For example, a jury may decide to punish a person for a violent crime, such as a person for a crime, such as a a person for a crime, such as a judge may not be a a reasonable person to take the evidence may be a guilty of a a crime. In addition to a jury may also consider the possibility that the jury may not be a fair and impartial.</s>\n",
      "########\n",
      "*******\n",
      "question: Most adult Americans split their time between home and what?\n",
      "answer: work\n",
      "choices: ['tent', 'work', 'apartment', 'the office', 'foreign']\n",
      "common expl list: ['Home and work may be the two places where most adult Americans spend most of their waking hours.', 'Most adults spend most of their time at work.']\n"
     ]
    },
    {
     "name": "stderr",
     "output_type": "stream",
     "text": [
      "\r",
      "  7%|████████████                                                                                                                                                       | 73/986 [41:51<14:40:18, 57.85s/it]"
     ]
    },
    {
     "name": "stdout",
     "output_type": "stream",
     "text": [
      "generated explanation: <pad> <extra_id_0> Most adult Americans split their time between home and work because it is the only place where they can get the work done and relax. This is because most adults split their time between home and work because it is the only place where they can get the work done and spend time. Working at a job requires a lot of physical labor, which can be tedious and time-consuming. Working at a job requires a lot of mental energy and focus. This is because it takes up a lot of physical labor and requires a lot of physical laborer. Working from home is also important to keep the work schedules full of family and support. This means that most adults have a balance between home and work. This is important for the family and the time spent at home is spent with the family and social life. It is important to be sure that the time is balanced and personal life is a balanced and work is productive time. This splits up the time spent at work. This is because it allows them to be productive and social activities that can help keep them engaged and contribute to their time. In addition to work, most adults also need to use their time to be spent at the workplace. This is especially for those who work because it allows them to focus on their family and social activities. Working at home is also important because it allows them to focus and to focus on their work. This means that they are able to be productively engaged in their work and home. This means that they can be more productive and productive. Overall, working at work allows them to spend time in the work environment of their families and contribute to contribute to their lives. It also allows them to spend time at work provides the time spent at the work environment. This allows them to contribute to their work and contribute to the environment. This is important because it allows them to stay connected to their families and their work. It allows them to use their time and contribute to their lives, as well-being.</s>\n",
      "########\n",
      "*******\n",
      "question: Professionally the fighters always maintained a level of respect, but personally they held each other in what for things that were said?\n",
      "answer: contempt\n",
      "choices: ['belittlement', 'humiliate', 'irreverence', 'contempt', 'love']\n",
      "common expl list: ['Despite the respect that was maintained by the respectful fighters, the feelings that they had for each other were always a sense of contempt for each others character.']\n"
     ]
    },
    {
     "name": "stderr",
     "output_type": "stream",
     "text": [
      "\r",
      "  8%|████████████▏                                                                                                                                                      | 74/986 [42:32<13:25:37, 53.00s/it]"
     ]
    },
    {
     "name": "stdout",
     "output_type": "stream",
     "text": [
      "generated explanation: <pad> <extra_id_0> The fighters always maintained a level of respect, but personally they held each other in contempt for things that were said to them. Contempt is the act of judging someone for something they did not like. This is because fighting is a sport where everyone has a right to know what they are doing and to show respect. Contempt is the act of judging someone for what they do. It is the act of judging someone for what they do not do. Contempt is the act of disregarding someone for what they do. It is also a form of a fight because it is a sport that is a form of fighting. It is a personal, and it is the act of calling them to act in a form of contempt for what they say about each other. It is a way of a way of a game of a competitive spirit. It is the way that is a way that they do not want to do not want to be taken advantage. It is a personal, and not wanting to be a fight, but it is a personal side, but it is a personal and not to judge someone else’s opinion. It is a personal attack that can be taken to a personal contempt. It is a matter of a fight, but also a personal contempt that can be taken out and not taking a fight. It is a sport, and not a sport, but it is a personal, and it can be taken out.</s>\n",
      "########\n",
      "*******\n",
      "question: Where would you find many tables of silverware rolled into nice displayed napkins?\n",
      "answer: restaurant\n",
      "choices: ['silver', 'park', 'table', 'cupboard', 'restaurant']\n",
      "common expl list: ['In a commercial establishment, silverware is expected to be clean because consumption of food is involved. So, a restaurant may well be where someone would expect to find silverware rolled into nice displayed napkins (i.e., fancy silverware).', 'Restaurants often have a lot of silverware, and they might roll it up and place it in a napkin to make it easier to store.', 'Restaurants often give used, rolled up silverware to customers, and they might keep them in nice, displayed napkins to make moving and storing them easier.']\n"
     ]
    },
    {
     "name": "stderr",
     "output_type": "stream",
     "text": [
      "\r",
      "  8%|████████████▍                                                                                                                                                      | 75/986 [43:06<11:57:39, 47.27s/it]"
     ]
    },
    {
     "name": "stdout",
     "output_type": "stream",
     "text": [
      "generated explanation: <pad> <extra_id_0> The most common place to find many tables of silverware rolled up and displayed napkins is in a restaurant. Restaurants are a great place to find many tables of silverware rolled up and displayed in a way that is easy to use and clean. Restaurants are a great place to put your silverware, which is often a variety of dishes, glasses, and other silverware. Restaurants are also a great place to find many tables of silverware rolled up and displayed in a variety of ways. Restaurants are often a variety of different sizes and shapes, and shapes to match your table. Restaurants often have many tables of silverware rolled up, making them easier to clean and to clean up. Restaurants also have a variety of different sizes of silverware that is a variety of different shapes and sizes to fit any occasion. They also have a variety of different napkin shape to fit into different sizes, and shape to fit any type of restaurant, such as a variety of sizes and shapes. Restaurants also have different designs for different types of napkins, which make it easier to store and clean. Restaurants also have a variety of napkin designs and colors to choose from different designs. These napkins are also a variety of colors and patterns, so that they can be found on the table. In addition to the many tables, many different designs and patterns, which can be customized to your favorite color and patterns, making them look like a variety of napkin designs.</s>\n",
      "########\n",
      "*******\n",
      "question: He didn't believe fate controlled situations, what did he believe people did?\n",
      "answer: control events\n",
      "choices: ['control events', 'pray', 'dress themselves', 'talk to each other', 'think creatively']\n",
      "common expl list: ['If one believes in fate, then one would believe that fate controls events. If one believes in free will, then one would believe that people control events.', \"If one believes fate controls events, there's nothing to do but accept situation, perhaps to pray; in contrast, if one believed they had control over events, then they could act to change the situation.\"]\n"
     ]
    },
    {
     "name": "stderr",
     "output_type": "stream",
     "text": [
      "\r",
      "  8%|████████████▌                                                                                                                                                      | 76/986 [43:58<12:17:29, 48.63s/it]"
     ]
    },
    {
     "name": "stdout",
     "output_type": "stream",
     "text": [
      "generated explanation: <pad> <extra_id_0> He believed people controlled events because they were the only way to prevent them from happening. He believed people controlled events because they were the only way to prevent events from occurring. He believed people controlled events because they were the only way to prevent them from happening. He believed people controlled events because they were the only way to prevent them from happening. He believed people controlled events because they were the only way to prevent them from happening. He believed people controlled events because they were the only way to prevent them from happening. He believed people controlled events because they were the only way. He believed people controlled events would occur when people would control events would occur when they would occur, and would be able to prevent them from happening. He believed people would have the power to create and then use their will. He believed people would react to change and react accordingly. He believed people would have the power over the world. He believed people would have the power to control the world would be able to create and control events would be controlled events. He believed that people would be able to create if they were able to prevent them from happening. He believed people would be able to prevent them from happening. He believed people would have the power to control events. He believed people would have the power to create and control events. He believed people would be able to prevent them from happening. He believed people could prevent them from happening because they would be able to prevent them from happening. He believed people would be able to control events because they were in able to prevent them from happening. He believed that people would be able to prevent them from occurring. He believed people controlled events because they would be unable to prevent them from happening. He believed people from controlling events because they were unable to prevent them from happening because they would be able to prevent them from happening because of course of course, and therefore believe people from happening.</s>\n",
      "########\n",
      "*******\n",
      "question: Polly didn't know her way around, so she navigated by landmark.  She used statues, stores, and distinctive building.  Where might she be?\n",
      "answer: city\n",
      "choices: ['countryside', 'national park', 'map', 'neighbourhood', 'city']\n",
      "common expl list: [\"She used distinctive buildings as landmarks, so it is likely she's in a city.\", 'In a city, landmarks are often used to navigate. In the countryside or in national parks, landmarks may not be as distinct, as buildings and statues are less likely to be found.', 'Landmarks are often located in cities, and so if a person was navigating by landmarks, they are likely to be in a city.', 'Landmark navigation works best in populated areas because distinctive buildings and statues can be more easily seen.']\n"
     ]
    },
    {
     "name": "stderr",
     "output_type": "stream",
     "text": [
      "\r",
      "  8%|████████████▋                                                                                                                                                      | 77/986 [44:22<10:22:02, 41.06s/it]"
     ]
    },
    {
     "name": "stdout",
     "output_type": "stream",
     "text": [
      "generated explanation: <pad> <extra_id_0> A landmark is a symbol of a city's identity that is visible from afar. It is a symbol of a place, a place of worship, or a place of worship. It is a symbol of a place of worship, a place of worship, or a place of worship. It is a symbol of the presence of God, a symbol of peace, and a symbol of hope. It is a symbol of hope and optimism, a place of worship, a place of culture, and other landmarks. It is a place of worship, and other people, and culture. It is a symbol of the city and other places of worship, and other places of worship, such as a statue, a church or a church or a place of worship. It is also a place of faith, and community. It is also a place of pride and a place of celebration, and pride in the city. It is a place of worship, and a place of hope and a place of love and pride. It is also a place of hope and a place of pride. It is a place of peace and a place of faith, and a place of faith. It is a place of hope and a place of a place of faith.</s>\n",
      "########\n",
      "*******\n",
      "question: Some horses are white others are black, but many are this color which might lead some people to think their milk would taste like chocolate?\n",
      "answer: brown\n",
      "choices: ['big but gentle', 'kept in stables', 'cuddly', 'brown', 'running in herd']\n",
      "common expl list: [\"An individual brown-colored horse (particularly when cuddly) can resemble the color of chocolate. If a person were to guess based on the color, he might guess a horse's milk tasted similarly.\"]\n"
     ]
    },
    {
     "name": "stderr",
     "output_type": "stream",
     "text": [
      "\r",
      "  8%|████████████▉                                                                                                                                                      | 78/986 [45:44<13:30:53, 53.58s/it]"
     ]
    },
    {
     "name": "stdout",
     "output_type": "stream",
     "text": [
      "generated explanation: <pad> <extra_id_0> Brown is the most common color used in dairy products, especially milk and yogurt. Brown is a dark, rich color that is a combination of brown and white, and is used to make the milk look and taste like chocolate. It is also the most common color used in dairy products, as it is the most common color for both milk and yogurt. Brown is a warm, dark color used in dairy products because it is the most common color for dairy products, and it is the most common color for milk and yogurt. It is also the most commonly used in dairy products, but it is also used in dairy products. Brown is also used in the milk used in dairy products, as it is a natural color in dairy products. Brown is used to make the milk, and to make the milk more attractive to people. It is also the most commonly used in the milk used to make the milk itself. It is a natural color used in dairy products, and in the milk, and is used in dairy products. It is also used in the production of chocolate. It is used to make the milk of the milk used in dairy products. Brown is a natural color of the milk of the milk and it is used to make the milk used in the dairy products. It is also used in dairy products because it is the milk is a natural color of the milk. It is a natural color of the milk used in dairy products because it is used in dairy products because it is the milk used in dairy products because it is used to make the milk used in dairy products because it is a natural ingredient in dairy products because it is a natural milk and is used in dairy products because it is a natural colorless, and it is used in dairy products. It is used in dairy products because it is a natural color of dairy products because it is a dairy product that is used in dairy products because it is used in dairy products because it is a natural milk and it is used to make chocolate because it is a natural color and it is a natural milk and because it is a natural milk and it is a dairy product that is so it is a natural color and it is an alternative to dairy products because it is a natural color and it is a natural milk that is a natural and is a natural milk that is a natural and natural milk is a natural and not a chemical that is a natural and organically-based</s>\n",
      "########\n",
      "*******\n",
      "question: What is the one thing you cannot do if you're on the move?\n",
      "answer: stand still\n",
      "choices: ['sit still', 'stationary', 'running', 'stand still', 'stay still']\n",
      "common expl list: ['You must be in motion to be counted as on the move. (this rule exists to disallow the action of holding still)']\n"
     ]
    },
    {
     "name": "stderr",
     "output_type": "stream",
     "text": [
      "\r",
      "  8%|█████████████                                                                                                                                                      | 79/986 [46:16<11:51:52, 47.09s/it]"
     ]
    },
    {
     "name": "stdout",
     "output_type": "stream",
     "text": [
      "generated explanation: <pad> <extra_id_0> When you are on the move, it is impossible to move around. Standing still is a sign that you are unable to move around in any way. It is because standing still requires you to stop and look at the world around you. Standing still is a sign that you are able to stop and look away from danger. Standing still is also a sign that you are unable to move around in a fast enough manner. This is because it is difficult for you to keep up with the pace of the world around you. This is because standing still means you can't move around the world. It is a sign that you are unable to move around in any time. It is also a sign that you are unable to move around you to take a safe place, and not to move around you. It is also important to keep your eyes on the world around you. This is because it is a sign that you are not able to stop and keep moving. It is important to keep your eyes closed and eyes closed. It is important to remember that you are able to stay put yourself in the world. It is important to keep your eyes open and eyes closed. It is important to keep your eyes and eyes closed, and out of the world. It is important to keep up and ready to take a moment. It is important to keep your eyes and safe.</s>\n",
      "########\n",
      "*******\n",
      "question: Where does someone convicted of a petty crime likely spend time?\n",
      "answer: jail\n",
      "choices: ['sell drugs', 'jail', 'nightclub', 'prison', 'offer drugs']\n",
      "common expl list: ['Someone convicted of a petty crime is likely to spend time in jail.', 'Someone convicted of a petty crime probably spends some time in jail, and not in prison.']\n"
     ]
    },
    {
     "name": "stderr",
     "output_type": "stream",
     "text": [
      "\r",
      "  8%|█████████████▏                                                                                                                                                     | 80/986 [47:17<12:54:31, 51.29s/it]"
     ]
    },
    {
     "name": "stdout",
     "output_type": "stream",
     "text": [
      "generated explanation: <pad> <extra_id_0> A person convicted of a petty crime likely spends time in jail. Jail is a secure and secure place where a person can be found without fear of being beaten or beaten. It is also a place where they can receive treatment and therapy. Jail is also a place where a person can seek treatment for a variety of conditions, including mental illness, substance abuse, and alcohol abuse. Jail is a secure place where a person can receive treatment and receive treatment. Jail is also a place of justice and a person can also be found guilty of a number of other forms of crimes. Jail is a place of rest, and can provide a sense of security. It is a place where a person can also receive treatment and counsel. Jail is a place where a person can receive treatment and treatment, counseling sessions with a lawyer can help. Jail also provides a place for a place for people who are charged with drug treatment and are convicted of convicted of convicted of convicted of convicted of convicted of convicted of convicted of petty crimes, such as a DUI, drugged or a convicted of petty crimes. Jail is a place where a place of security guard and can be found with a jail cell for drug treatment and rehabilitation. Jail is a place where a lawyer can be found and if needed for someone convicted of convicted of if they are convicted of convicted of convicted of a convicted of convicted of convicted of convicted of convicted of convicted of a convicted of petty crimes and convicted of convicted of a convicted of convicted of convicted of convicted of a convicted of convicted of petty crimes are convicted of a jail can receive treatment and receive treatment for a judge a jail sentence.</s>\n",
      "########\n",
      "*******\n",
      "question: He would entertain with a pool party regularly, it was the best way to beat the what?\n",
      "answer: hot\n",
      "choices: ['please', 'hot', 'guest', 'bribe', 'liked']\n",
      "common expl list: ['Pool parties are a great way to beat the heat.']\n"
     ]
    },
    {
     "name": "stderr",
     "output_type": "stream",
     "text": [
      "\r",
      "  8%|█████████████▍                                                                                                                                                     | 81/986 [47:55<11:50:42, 47.12s/it]"
     ]
    },
    {
     "name": "stdout",
     "output_type": "stream",
     "text": [
      "generated explanation: <pad> <extra_id_0> He would entertain with a pool party regularly, as it was the best way to beat the hot summer months. He would entertain with a pool party regularly, as it was the best way to beat the heat. Hot summers are a time of great celebration, and a pool party is a great way to beat the heat. A pool party is a great way to spend time with friends and family, and it can be a great way to bond and bond over drinks and snacks. A pool party is a great way to spend time together and bonding with your friends. Hot weather can be a great way to relax and enjoy the company. A pool party can be a great way to spend time with friends and have fun activities. Pool parties are a great way to pass the weekend. It can be a great way to spend time with family and friends and friends and to have fun. The party can be a great way to spend time with friends and to socialize and relax. It can also be a great way to have fun and good time with friends. Pool parties can also be a great way to spend some of time with friends. Pool parties are great way to spend some of bond with friends and a great way to spend time with friends and have fun. It can be a great way to spend quality time with them. It can be a great way to spend quality time with friends and enjoy. It can also be a way to relax and to beat the heat.</s>\n",
      "########\n",
      "*******\n",
      "question: If you wanted to confirm information that you had, you would do what to someone?\n",
      "answer: question\n",
      "choices: ['infirm', 'ask', 'deny', 'question', 'dispute']\n",
      "common expl list: ['To confirm something that your friends told you, you might need to ask those friends further questions to prove that the information was correct.', 'If you wanted to verify the truth, you might question the person who you got the alleged information from.', 'If you wanted to confirm information that you had, you would ask someone.', \"Often information is ambiguous, and I can confirm it by asking pointed questions or by scrutinizing the other person's story till I can find a way to interrogate their position.\"]\n"
     ]
    },
    {
     "name": "stderr",
     "output_type": "stream",
     "text": [
      "\r",
      "  8%|█████████████▌                                                                                                                                                     | 82/986 [49:33<15:42:59, 62.59s/it]"
     ]
    },
    {
     "name": "stdout",
     "output_type": "stream",
     "text": [
      "generated explanation: <pad> <extra_id_0> If you wanted to confirm information that you had, you would do what is known as a confirmation check. A check is a way for someone to verify that they have the information they needed to know. It is a simple process that can be used to confirm information that someone had. The person would then be asked to confirm the information they had. This is because the person is asking for confirmation that the information they have is accurate. The person would then ask the person to confirm the information they had by calling the person’s source. The person would then call the person concerned about the information that they had. The person would then confirm the information they had the information that they had, the person would call the source. The person would then call the number of the person’s contact the person’s name, the person’s name, and the person’s name and the information. The person would then call the person’s name and the person would confirm the information is accurate and the person would then call the person’s identity. The person would also confirm the information they had been given the information. The person would then call the person’s phone number and the person’s name. The person would be a number and the information. The person would call the person’s name and would then call the person’s name and the information would call the person’s name and the person’s name. If they would then call the person would call the person’s name and the person’s name would then call the person’s name and confirm the information. The person would call the person’s name and the person’s name would call the person’s name and the person would call the person’s name and confirm the person’s name would be asked to confirm that they had the person’s last but would be able to confirm the person’s would be able to call the person’s name and the person would be able to call the person would be able to confirm the person’s name would be able to confirm the person would be responsible for the person’s name and the person would be if the person’s name<extra_id_27> </s>\n",
      "########\n",
      "*******\n",
      "question: Where is cheese likely to be dangerous for some creatures?\n",
      "answer: mouse trap\n",
      "choices: ['refrigerator', 'mouse trap', 'fridge', 'outside', 'plate']\n",
      "common expl list: ['cheese has been said to attract mice. Mice traps may contain cheese in order to attract them.']\n"
     ]
    },
    {
     "name": "stderr",
     "output_type": "stream",
     "text": [
      "\r",
      "  8%|█████████████▋                                                                                                                                                     | 83/986 [50:55<17:08:38, 68.35s/it]"
     ]
    },
    {
     "name": "stdout",
     "output_type": "stream",
     "text": [
      "generated explanation: <pad> <extra_id_0> Cheese is a<extra_id_1> mouse trap is a trap that is set in a closed area and is typically used to trap mice. Mouse traps are typically set in a closed environment and are typically filled with a variety of materials, including cheese and other foods. Cheese is a common ingredient in many mouse traps, as it is a cheap and easy way to catch mice. This makes them particularly vulnerable to the bite of a cheese knife. Mouse traps are also often stuffed with other items of cheese, such as crackers. Mouse traps are often found in closed and other types of cheese is also likely to be a safe place for humans. Mouse traps are often filled with other ingredients that may contain a mousetraps. Cheese is a safe place to hide and is also a safe place to prevent the creature from getting away. Mouse traps are often used to traps. The traps are often filled with a variety of other food, such as a trap. The traps are also likely to be used to traps. The trap is also likely to be used to catch a mouse. This is also a safe source of food for humans. Mouse traps are often used to catch other animals, such as a variety of other species. Mouse traps are also likely to be a source of food source of protein, such as eggs, and other a safe place. This is because it is a safe way to capture and then used to capture the food source of protein. It is also likely to attract other animals, such as eggs, such as a safe way to capture and a good choice for humans. It is a safe way to capture and prevent them from eating it.</s>\n",
      "########\n",
      "*******\n",
      "question: He spent all work day at a computer, so he got a footstool for more comfort at his what?\n",
      "answer: desk\n",
      "choices: ['desk', 'bathroom', 'shoe shop', 'family room', 'living room']\n",
      "common expl list: ['A footstool is a small stool that is used to raise the height of a chair or table. If someone spends all day at a computer, they might need a footstool to raise their desk.']\n"
     ]
    },
    {
     "name": "stderr",
     "output_type": "stream",
     "text": [
      "\r",
      "  9%|█████████████▉                                                                                                                                                     | 84/986 [52:55<20:59:11, 83.76s/it]"
     ]
    },
    {
     "name": "stdout",
     "output_type": "stream",
     "text": [
      "generated explanation: <pad> <extra_id_0> He spent all work day at his computer, so he got a footstool for more comfort at his desk. Footstools are a great way to add extra support to your desk and help you get the most out of your work day. With a footstool, you can sit comfortably at your desk and enjoy the view of the screen, and even relax at your desk while you work. This can be a real problem for people who work at their desks. The problem is that most people have a tendency to sit at their desk and sit at their desk all day sitting at their desk. Deskstools are often the day. This can be a great way to work day. It can help you get the most out of your day to work and help you stay focused. It can also be used as a great way to keep you focused and focused on your work. Desks can also be used for other tasks. With a desk, a footstool, you can help you get more comfortable sitting at your desk. With a footstool, you can get more work. With a footstool, you can get more comfortable while you work. This can be a great way to add comfort to your work and help you stay focused and help you stay focused. With a footstool, you can also be more productive and reduce the chance of falling asleep. With a footsto a computer, you can get more done. With a desk, you can also be more productive. Additionally, it can help you get more comfortable while you are working at your desk, and more productive. This can help you focus and focus on your work more focused focus on your computer. This can help you concentrate and focus on your desk and focus on your work. This can help reduce stress and help you stay focused and work. This can be a footstool at your desk, as a footstool can help you focus on your work day and reduce the stress and anxiety and stress and effort to get more comfortable at your work. With a footstool can also help you focus and productivity.</s>\n",
      "########\n",
      "*******\n",
      "question: How would grooming lead to bald spots?\n",
      "answer: mistakes\n",
      "choices: ['cleanliness', 'mistakes', 'brushing', 'beauty', 'satisfaction']\n",
      "common expl list: [\"If you accidentally over trim your hair, you'd likely end up with bald spots.\"]\n"
     ]
    },
    {
     "name": "stderr",
     "output_type": "stream",
     "text": [
      "\r",
      "  9%|██████████████                                                                                                                                                     | 85/986 [53:29<17:16:01, 68.99s/it]"
     ]
    },
    {
     "name": "stdout",
     "output_type": "stream",
     "text": [
      "generated explanation: <pad> <extra_id_0> Hair loss is a result of a number of factors, including diet, stress, and stress hormones. Bald spots are often caused by a lack of grooming and a lack of attention. Bald spots are often caused by a lack of attention to grooming and grooming. Poor grooming can lead to a number of problems, including the development of bald spots, which can lead to a lack of sleep, and poor nutrition. Bad grooming habits can also lead to a loss of interest in the grooming. This is especially important for those who are trying to prevent mistakes and prevent them from bald spots. For example, grooming mistakes can be a common problem in males who are not always made. This can lead to a lack of attention and motivation to grooming and a number of mistakes, which can lead to bald spots, which can lead to bald spots a lack of interest in females, and menos not being able to identify and correct grooming mistakes. These mistakes can be made by grooming and a lack of attention, which can lead to bald spots. In conclusion, grooming mistakes can lead to alope</s>\n",
      "########\n",
      "*******\n",
      "question: Where would a snake find a great hiding place in the United Kingdom?\n",
      "answer: kew gardens\n",
      "choices: ['ditch', 'terrarium', 'thick forest', 'kew gardens', 'feild']\n",
      "common expl list: ['Kew gardens is located in London, which has a great deal of green space in the form of parks.', 'Kew gardens is a large botanical garden in London, England, and snakes are often found in gardens.']\n"
     ]
    },
    {
     "name": "stderr",
     "output_type": "stream",
     "text": [
      "\r",
      "  9%|██████████████▏                                                                                                                                                    | 86/986 [54:43<17:36:42, 70.45s/it]"
     ]
    },
    {
     "name": "stdout",
     "output_type": "stream",
     "text": [
      "generated explanation: <pad> <extra_id_0> A snake would find a great hiding place in the United Kingdom because it can easily find a safe place to hide in a kew garden. Kew gardens are a popular place for tourists to visit in the United Kingdom because they are a great place to hide in a warm climate and have a variety of plants and animals to enjoy. They are also a great place for wildlife to visit, as they are surrounded by a variety of habitats, including a variety of wildlife. Snakes will find a safe and friendly environment. The gardens are also popular with visitors, as they are often found in a variety of different types of plants and animals, including a variety of plants and animals. They will also be able to find a place to hide in a variety of plants and animals, such as a garden, such as a place to hide in the gardens. They can also be able to find a place to hide in a a safe place to hide in a variety of wildlife to enjoy. The gardens are also a great place for visitors to enjoy a relaxing atmosphere. The gardens are a popular place for visitors to visit to see the snakes that are a great place to visit. The gardens are also a great place to hide in the UK, such as a holiday cottages, or a place to hide in a garden. The gardens are a popular place for tourists to find a safe place to hide in a safe place to hide in a hotel or in the countryside, which is a great place to find a place to visit and take shelter from the opportunity to take a place to hide in the United Kingdom<extra_id_27> </s>\n",
      "########\n",
      "*******\n",
      "question: After studying many self-help books, what did he feel in his heart?\n",
      "answer: inspiration\n",
      "choices: ['inspiration', 'dreams', 'more intelligence', 'understanding', 'knowing more']\n",
      "common expl list: [\"If John read about confidence, optimism, positive thinking, it's possible that he feels inspired.\", 'Self-help books are written to inspire people to change their lives for the better.', \"Some people study self-help books because they've felt lost in their life and are looking for something to help them out. By reading many self-help books, such people might feel more inspired in their life.\"]\n"
     ]
    },
    {
     "name": "stderr",
     "output_type": "stream",
     "text": [
      "\r",
      "  9%|██████████████▍                                                                                                                                                    | 87/986 [55:02<13:41:46, 54.85s/it]"
     ]
    },
    {
     "name": "stdout",
     "output_type": "stream",
     "text": [
      "generated explanation: <pad> <extra_id_0> After studying many self-help books, what did he feel in his heart? Inspiration is the feeling of inner strength and confidence that comes from the inner self. It is the feeling of inner peace and joy that comes from studying many self-help books. It is the feeling of inner peace and joy that comes from studying many self-help books. Inspiration comes from the knowledge that one can gain from studying many self-help books. It is the feeling of inner peace and joy that comes from studying many self-help books. It is the feeling of inner strength and growth. It is the heart of the heart and success. It is the heart of oneself. It is the feeling of inner peace that oneself-growth and growth. It is the inspiration that comes from studying self-help books, and from studying many self-help books that inspire others and growth. It is the feeling of peace that one’s inner peace and joy and peace that comes from being inspired. It is the feeling of inner peace and confidence that comes from studying many self-help books. It is the feeling of inner peace that comes from studying self-help books. It is the heart of self-help books are a source of inner peace and joy that comes from studying self-help books that comes from the knowledge that one has gained from studying the world. It is the feeling of inner peace and confidence that comes from studying these books.</s>\n",
      "########\n",
      "*******\n",
      "question: Where would you find teeth whitening bleachers?\n",
      "answer: pharmacy\n",
      "choices: ['gymnasium', 'soccer game', 'sporting event', 'pharmacy', 'soccer game']\n",
      "common expl list: ['Teeth whitening is a common practice, and pharmacies often sell the products used for it.']\n"
     ]
    },
    {
     "name": "stderr",
     "output_type": "stream",
     "text": [
      "\r",
      "  9%|██████████████▌                                                                                                                                                    | 88/986 [56:16<15:07:22, 60.63s/it]"
     ]
    },
    {
     "name": "stdout",
     "output_type": "stream",
     "text": [
      "generated explanation: <pad> <extra_id_0> A pharmacy is the best place to find teeth whitening bleachers. A pharmacy is the only place where you can find teeth whitening bleachers. A pharmacy is the best place to find teeth whitening bleachers. It is the only place in the United States that has a dedicated pharmacy that carries teeth whitening bleachers. The pharmacy is the only place where you can find bleachers that are safe and effective for whitening the teeth. The pharmacy is the only place where you can find teeth whitening bleachers that are safe and effective for the bleaching toothpaste, which is the best way to whitening bleaching the teeth whiteners that are safe and effective for you to use bleaching bleaching bleachers that are safe and are safe to use. The pharmacy also has a number of different types of bleachers that are safe and secure place for you to buy bleachers that are available for you to purchase bleaching bleachers that are available for you to buy bleaching products that are a pharmacy that can provide you with whitening products that are safe and effective for whitening bleaching products that you can buy at whitening bleaching bleaching bleaching bleachers that are safe and are safe and effective for whitening bleaching products that are safe and are safe to use on your teeth. The bleachers are available in pharmacies and can be purchased at whitening bleaching products that are available at a pharmacy can purchase and provide you with the products that are available at a pharmacy, and can purchase whitening bleachers at if you are looking for whitening products at a pharmacy to purchase at a pharmacy to buy and that are available at the pharmacy. The pharmacy has whitening bleachers that are available at a pharmacy and effective for your teeth.</s>\n",
      "########\n",
      "*******\n",
      "question: While he had seen a koala in the zoo, he was looking forward to finding one in the what?\n",
      "answer: australian outback\n",
      "choices: ['australian outback', 'bamboo grove', 'wilderness', 'island', \"child's book\"]\n",
      "common expl list: ['Koalas live in Australia, and are not found in any other country in the North American continent.', 'Because Koalas are a native species to Australia, the safest place to see a Koala may be outback Australia.']\n"
     ]
    },
    {
     "name": "stderr",
     "output_type": "stream",
     "text": [
      "\r",
      "  9%|██████████████▋                                                                                                                                                    | 89/986 [56:49<13:02:26, 52.34s/it]"
     ]
    },
    {
     "name": "stdout",
     "output_type": "stream",
     "text": [
      "generated explanation: <pad> <extra_id_0> A koala is a small animal that is found in the Australian outback, an area of the earth that is savowed by the Australian outback, which is a desert-like area of land that is largely uninhabited by humans. It is thought to be the largest animal in the world and is often found in large numbers in the wild, especially in the northern and western regions of Australia. The animals are thought to be the largest vertebrate vertebrate in the world, and are therefore a great way to find a if they are not in the zoala suitable habitat. The Australian outback is also home to many other animals, which include a variety of species of plants, and animals, including a variety of habitats, including aemoooms, and a great place to find a koala variety of plants and animals. The animals are also found in the a variety of habitats, and are found in the outback, which are a great way to find if they are in the wild. They are a great way to find food and<extra_id_27> </s>\n",
      "########\n",
      "*******\n",
      "question: Where can a child get a wagon?\n",
      "answer: toy store\n",
      "choices: ['field', 'garage', 'bookstore', 'backyard', 'toy store']\n",
      "common expl list: [\"A toy wagon is a child's toy. Toy wagons can be purchased from toy stores.\", 'Toy stores deal specifically in toys. Wagons are one of a variety of toys.']\n"
     ]
    },
    {
     "name": "stderr",
     "output_type": "stream",
     "text": [
      "\r",
      "  9%|██████████████▉                                                                                                                                                    | 90/986 [57:55<14:03:55, 56.51s/it]"
     ]
    },
    {
     "name": "stdout",
     "output_type": "stream",
     "text": [
      "generated explanation: <pad> <extra_id_0> A toy store is a place for children to get a wagon. Toy stores typically carry a variety of items, including toys, games, and other toys. Toy stores are usually located in the toy department, which includes a variety of different types of toys, including wagons. Toy stores typically carry a variety of wagons, including a variety of colors, sizes, and shapes. Toy stores typically have a large selection of toys, including wagons, and the majority of them are made of durable, and are available in the size. Toy stores carry the right size and type of wagons, and the product, so the child can easily move around the store. Toy stores often have a variety of toys, and other toys stores have a variety of toys available at the right for the child’s needs. Toy stores also have a variety of colors, such as wagons for children of toys, and other toys, such as pins, and other toys. Toy stores also have a variety of other toys, such as a variety of different colors, and patterns. Toy stores often have a variety of toys, such as a variety of colors, shapes and sizes. Overall, toy stores have a variety of toys for children of different sizes, such as a toy store. Toy stores, and shapes, such as a variety of different styles and sizes. Toy stores also have a variety of wagon, and accessories, such as a a rattle, such as a a variety of colors, such as a variety of toys that children can purchase. Toy stores carry a variety of different types of designs, such as a variety of toys. Toy stores have different designs, colors and shapes, such as a variety of colors, styles and shapes, such as<extra_id_27> </s>\n",
      "########\n",
      "*******\n",
      "question: Being able to forgive is a way to be what?\n",
      "answer: nice to\n",
      "choices: ['learn', 'give hug', 'happiness', 'nice to', 'sex']\n",
      "common expl list: ['When you forgive people you are being nice to them.']\n"
     ]
    },
    {
     "name": "stderr",
     "output_type": "stream",
     "text": [
      "\r",
      "  9%|███████████████                                                                                                                                                    | 91/986 [58:46<13:37:30, 54.80s/it]"
     ]
    },
    {
     "name": "stdout",
     "output_type": "stream",
     "text": [
      "generated explanation: <pad> <extra_id_0> Being able to forgive is a way of being a good person. It is a way to be kind and compassionate towards others. It is a way to be a good person and to be able to forgive others. It is a way of life that allows us to move on from the pain we have experienced. It allows us to move forward and to move on. It is a way to be able to forgive others and to be able to forgive yourself. It is a way to be able to forgive others and to be able to forgive others. It is also a way to be able to be kind and to others. It is a way to be able to forgive others and to forgive yourself. It is a way to be able to be able to forgive others and to be able to forgive yourself. It is a great way to be able to forgive others and to forgive yourself. It is a good way to be kind and to forgive others. It is a great way to be able to be able to forgive yourself. It is a way to be able to forgive others. It is a way to be able to be able to forgive others. It is a way to be able to be able to be able to be able to forgive yourself and to forgive others. It is a good to be able to be able to forgive yourself and to be able to forgive others. It is a way to be able to forgive others.</s>\n",
      "########\n",
      "*******\n",
      "question: What  is necessary to have when going fishing?\n",
      "answer: fishing rod\n",
      "choices: ['fishing rod', 'access to water', 'bate', 'three hands', 'tackle']\n",
      "common expl list: ['To go fishing requires a fishing rod.', 'fishing rods are necessary component pieces that are held by fishermen to access and use when fishing']\n"
     ]
    },
    {
     "name": "stderr",
     "output_type": "stream",
     "text": [
      "\r",
      "  9%|███████████████                                                                                                                                                  | 92/986 [1:00:23<16:46:40, 67.56s/it]"
     ]
    },
    {
     "name": "stdout",
     "output_type": "stream",
     "text": [
      "generated explanation: <pad> <extra_id_0> A fishing rod is a device that is used to catch fish and to catch them. It is usually a long, heavy metal rod that is used to catch fish. It is a type of rod that is used for a variety of purposes, such as catching a fish, hunting, or other types of game. It is also a great way to practice a variety of different techniques, such as casting, casting, and catching them. It is important to have a good fishing rod that can be used for both indoors and outdoors. It is also important to have a good quality, and its design. It is also important to have a fishing rod that can be used for fishing trips. It is also important to have a good fishing rod that can be used for other types of equipment, such as a troion land. It is important to have a fishing rod that can be used for fishing in order to catch and to catch fish and to catch. It is important to have a quality fishing rod that is used for recreational fishing. It is also important to have a good quality fishing rod. It is important to have a fishing rod that is made of a high-quality and is durable. It is also important to have a good quality fishing rod that is designed to be used for commercially. It is important to have a quality fishing rod that is designed to be used for recreational purposes. It is important to have a high-quality and is necessary for recreational purposes. It is important to have a good quality fishing rod that is durable and is a durable rod that is designed to be used for hunting or for fishing rod that is a quality fishing rod that is made of the best quality and designed to ensure that it is made of the best quality and is designed to ensure that it is a quality that is made of a quality and is used in order to get the best quality and is made of high-quality.</s>\n",
      "########\n",
      "*******\n",
      "question: A weasel is cursed by a witch, where is the weasel stuck?\n",
      "answer: fairytale\n",
      "choices: ['corn fields', 'great outdoors', 'fairytale', 'imagination', 'chicken coop']\n",
      "common expl list: ['Being stuck in a fairytale suggests being cursed, and the curses that prevail in fairytales are usually cast by witches.']\n"
     ]
    },
    {
     "name": "stderr",
     "output_type": "stream",
     "text": [
      "\r",
      "  9%|███████████████▏                                                                                                                                                 | 93/986 [1:01:33<16:56:56, 68.33s/it]"
     ]
    },
    {
     "name": "stdout",
     "output_type": "stream",
     "text": [
      "generated explanation: <pad> <extra_id_0> A fairytale is a story that tells the story of a weasel being cursed by a witch. The weasel is stuck in a fairytale because it is unable to move or move freely. The weasel is stuck in a fairytale because it is not able to move or move. The fairytale also has a number of other elements that can help the weasel move and move. For example, a fairytale can help the wea story, the wea wea fairytale can also be read by reading. The fairytales can provide a wide variety of different versions of the fairytale, and how the wea fairytale version of a fairytale. The fairytales include a number of characters, such as a a a a cursed wea a certain character. The fairytales include a variety of characters, such as a wea a wea wea a a a a a witch, a wea wea wea a wea a a sel, such as a a a a a a a a fairytale, a a a a a wea a a a a a a a a a a a witch, a a witch, a fairytale, a a witch a a fairytale a a a a </s>\n",
      "########\n",
      "*******\n",
      "question: If you want to buy you must what?\n",
      "answer: spend money\n",
      "choices: ['spend money', 'go shopping', 'paying', 'have in mind', 'a shop']\n",
      "common expl list: ['To buy something, you must spend money.', 'If you want to buy something, you must spend money.', 'To buy one needs money, and need money implies you have spent money.']\n"
     ]
    },
    {
     "name": "stderr",
     "output_type": "stream",
     "text": [
      "\r",
      " 10%|███████████████▎                                                                                                                                                 | 94/986 [1:02:09<14:28:22, 58.41s/it]"
     ]
    },
    {
     "name": "stdout",
     "output_type": "stream",
     "text": [
      "generated explanation: <pad> <extra_id_0> If you want to buy something you must spend money. To buy something you must spend money. To buy something you must spend money. This is because spending money is a sign that you are willing to put your money where your mouth is. It is a form of investment and it is a form of financial investment. Investing money is a form of financial investment because it is a form of exchange of goods and services. Investing money is a form of financial investment. It is a form of financial investment that allows you to make a purchase. It is also a good way to put your money in the market. This is because it is a great way to make money and it is a great way to put it away. It is also a good way to get a better quality of life. It is a great way to put your money in the future. It is a good way to make a good investment. It also a great way to make sure to buy something you can make a good investment. It is a good way to make money. It is important to invest in the right way to make money. It is a good investment because it is a great way to make a good investment. It is a great way to make money that you can help you. It is also a great way to make money and it lasts. It is a great way to make money.</s>\n",
      "########\n",
      "*******\n",
      "question: What public celebration sometimes has a horse show?\n",
      "answer: state fair\n",
      "choices: ['state fair', 'indy 500', 'american southwest', 'canada', 'central park']\n",
      "common expl list: [\"A state's fair is a public celebration that may include a horse show.\", 'Horse shows are sometimes included in state fair celebrations, and these fairs frequently are held in public parks.', 'Horse shows are competitions that sometimes occur at public celebrations. Some fairgrounds include horse shows as part of their regularly scheduled events.']\n"
     ]
    },
    {
     "name": "stderr",
     "output_type": "stream",
     "text": [
      "\r",
      " 10%|███████████████▌                                                                                                                                                 | 95/986 [1:03:42<17:00:57, 68.75s/it]"
     ]
    },
    {
     "name": "stdout",
     "output_type": "stream",
     "text": [
      "generated explanation: <pad> <extra_id_0> A state fair is a public celebration that is organized around a horse and a number of related activities. It is a celebration of the state, tradition, and culture of the United States. It is a time for celebration and celebration, and it is a time for celebration and celebration. It is a time for celebration and celebration, and it is a time for displaying a variety of horses. It is a time for celebration and celebration, and a time for people to gather and celebrate. A state fair is a public celebration that is a time of the nation’s, and the country fair. It is a public celebration of horses that are enthrs, and the nation. It is a time of celebration, and celebration of the nation. It is a time for people to gather, and to meet, and socializing. State Fair is a time for people to enjoy a time to meet and socializing with other activities. It is a time for people to come to meet and have fun. It is a time for people to meet new people and for them to meet. It is a time for people to meet new and make new friends, and for them. It is a time to meet new face-to-to. It is a time for people to mina time to enjoy the atmosphere of a time to meet and for them. It is a time to celebrate and a time to meet new people from all the horses. It is a time to meet and have fun and enjoy. It is a time for people to meet and share their stories. It is a time to meet new people and share their stories, and share. It is a time to share. It is a time to learn more about the people and make new friends.</s>\n",
      "########\n",
      "*******\n",
      "question: There are many wage gaps being discussed, the most important of which is between the rich and what?\n",
      "answer: poor\n",
      "choices: ['plain', 'sleepy', 'poor', 'idle', 'needy']\n",
      "common expl list: ['The poor are a group which suffers from a wage gap, denoted as their earning less than others, especially the rich.']\n"
     ]
    },
    {
     "name": "stderr",
     "output_type": "stream",
     "text": [
      "\r",
      " 10%|███████████████▋                                                                                                                                                 | 96/986 [1:04:41<16:20:05, 66.07s/it]"
     ]
    },
    {
     "name": "stdout",
     "output_type": "stream",
     "text": [
      "generated explanation: <pad> <extra_id_0> There are many wage gaps being discussed as the rich and poor are often compared to one another. The rich and poor are often compared to one another because they have higher incomes than the poor. The poor are typically less likely to earn the same level of income as the rich. This is because the rich have a higher income than the poor and because the rich have higher education levels. The poor have higher education costs than the rich. The poor have higher education costs than the rich. The rich have higher average incomes than the poor. The rich have higher education, which is important for people who want to pay their homes and jobs. The rich have higher education and higher education levels than the rich. The wealth and the poorer, however, the rich, which is due to the ability to work. The poorer are often more able to get by their homes. The poor are often less than the rich. The poor are more likely to get by having higher education. The poor are more likely to work than the rich. The wealthier people are more likely to get what they are worth. The richer and the more money than the poor. The wages are also due to the lack of education, which can lead to the poor. The rich are often more likely to work than the rich. The more they are likely to be less likely to earn. This is because the more money they are likely to have more than the assets. The richest are also more likely to have more.</s>\n",
      "########\n",
      "*******\n",
      "question: What city in a North American Country, that isn't the United States, would you expect to find a good french restaurant?\n",
      "answer: quebec\n",
      "choices: ['wine', 'nyc', 'quebec', 'manhattan', 'paris']\n",
      "common expl list: ['Quebec is a province in Canada, and is known for its french culture.', 'Quebec is said to have strong french-culture since it was originally french territory. This would make sense if quebec had a good french restaurant.', 'Quebec is the only province that speaks French in North America, and you might expect to find a good french restaurant there.', 'Quebec has a strong french heritage, and the french cuisine is actually quite popular in the United States.']\n"
     ]
    },
    {
     "name": "stderr",
     "output_type": "stream",
     "text": [
      "\r",
      " 10%|███████████████▊                                                                                                                                                 | 97/986 [1:04:45<11:40:39, 47.29s/it]"
     ]
    },
    {
     "name": "stdout",
     "output_type": "stream",
     "text": [
      "generated explanation: <pad> <extra_id_0> A good french restaurant in quebec is a place where you can enjoy a good meal without having to travel far from the country. The city of quebec is located in the province of Quebec, Canada. It is a large city, with a population of approximately 1.2 million people, and is home to some of the best restaurants in the world. Quebec is also home to some of the best French restaurants in the world. The city is also home to a number of other restaurants, including a few fine dining.</s>\n",
      "########\n",
      "*******\n",
      "question: Care not to burn you hand on the handle of what small high-walled vessel?\n",
      "answer: saucepan\n",
      "choices: ['brush', 'carry object', 'walking stick', 'umbrella', 'saucepan']\n",
      "common expl list: ['A saucepan is a small, high-walled vessel, built for holding liquids and usually used in the kitchen.']\n"
     ]
    },
    {
     "name": "stderr",
     "output_type": "stream",
     "text": [
      "\r",
      " 10%|████████████████                                                                                                                                                 | 98/986 [1:05:49<12:55:41, 52.41s/it]"
     ]
    },
    {
     "name": "stdout",
     "output_type": "stream",
     "text": [
      "generated explanation: <pad> <extra_id_0> A saucepan is a high-walled, high-walled vessel that is designed to hold a heavy weight. It is typically used to cook food, especially hot food, and is a popular choice for many people because of its sturdy construction and low profile. It is made of a thick, durable material that is resistant to abrasion and heat. The handle of the saucepan should be firmly attached to the bottom of the saucepan to prevent the contents from spilling over the sides. The handle of the saucepan should be firmly secured tightly closed and away from the heat. The handle of the handle of the saucepan should be used to cook the food safe for cooking and protect your hands from the heat. The handle of the saucepan should be used to keep the contents of the food safe and prevent burn your hands from the heat. The handle of the saucepan is a sturdy enough to keep your hand safe and prevents the fingers from burning. The handle of the saucepan is a great option for those who want to cook with a quick and easy to clean up after cooking. The handle of the saucepan should be used to keep the pot from burning. The handle should be used to prevent burn your hands. The handle should be used for cooking food contact with the stovetop. The handle should be placed in the heat and the pot without a flame. The saucepan should be placed in a pot without a stovetop. The handle should be used to keep the hand safe and clean. The handle should be kept covered to prevent accidental fire and<extra_id_27> </s>\n",
      "########\n",
      "*******\n",
      "question: What container does peanut butter come in?\n",
      "answer: jar\n",
      "choices: ['cupboard', 'pantry', 'jar', 'bottle', 'supermarket']\n",
      "common expl list: ['Peanut butter comes in glass jars, like many other food products.', 'Jars are often used to store food, and peanut butter is a food.', 'Jars can keep food sealed without leaking, and often have lids. Peanut butter is sealed in a jar and could be kept in a house, kitchen, pantry, or cupboard.', 'Jars, like those that pickles often come in, are suitable for food items that need to be kept fresh for long time. Jars can be resealed.']\n"
     ]
    },
    {
     "name": "stderr",
     "output_type": "stream",
     "text": [
      "\r",
      " 10%|████████████████▏                                                                                                                                                | 99/986 [1:07:06<14:42:15, 59.68s/it]"
     ]
    },
    {
     "name": "stdout",
     "output_type": "stream",
     "text": [
      "generated explanation: <pad> <extra_id_0> Peanut butter is a very versatile and versatile food. It comes in a variety of shapes, sizes, and textures. The jars are typically made of glass, plastic, or plastic and are typically made of peanut butter. The peanut butter is typically packaged in a jar, which is a glass jar made of a durable material that is easy to clean and easy to store. The jars are typically made of a durable material such as a jar or jar liner. The jars are usually made of a variety of different types of peanut butter, depending on the size and the size of the peanut butter. The peanut butter is often packaged in a jar, which is often made of a peanut butter, which is often a peanut butter. The peanut butter is packaged in a jar, and can be purchased in a variety of sizes, including a jar, and the peanut butter, and can be easily a jar or a large jar, and can be purchased in a variety of different sizes depending on the size and variety of peanut butter, depending on the size and the peanut butter. The jars are made of a variety of peanut butter, and can be filled with different sizes, so that they are typically found in, and are typically found in jars, and are made of a jar, which are typically sold in a plastic or jars, and can be purchased in jars. The jars are made of different materials, which are typically made of plastic, plastic or based on the size, and can be made of different materials.</s>\n",
      "########\n",
      "*******\n",
      "question: Where are plants likely to be handled by a city employee?\n",
      "answer: park\n",
      "choices: ['park', 'windowsill', 'ground', 'office', 'garden']\n",
      "common expl list: ['Parks are where city employees are likely to handle plants.', 'A city employee might handle plants while working in a park.']\n"
     ]
    },
    {
     "name": "stderr",
     "output_type": "stream",
     "text": [
      "\r",
      " 10%|████████████████▏                                                                                                                                               | 100/986 [1:07:45<13:12:00, 53.64s/it]"
     ]
    },
    {
     "name": "stdout",
     "output_type": "stream",
     "text": [
      "generated explanation: <pad> <extra_id_0> City employees are typically responsible for the care of plants in parks and other outdoor areas. Parks are often the most common places for city employees to handle plants. Parks are often located in parks, playgrounds, and open spaces. Parks are also often located in residential areas, which can provide a variety of uses for plants. Parks are often located in residential areas, such as parks, recreation areas, and other outdoor areas. Parks are also often the location of large, open spaces, such as playgrounds, sports courts, and other activities. They can also be used to provide employees with the opportunity to work as they are required to handle plants in a variety of plants. These include maintaining the plants, and maintaining the plants in a safe environment. They can also be handled by employees in the park, which can be a variety of tasks. Parks are often located in residential areas, as they provide a variety of activities, and provide a range of activities, as well as a variety of activities. In addition, they can also provide a place for employees to work with plants. In addition, parks are often located in residential areas, which can be a great place for employees to work in a safe and clean spaces. Parks are often located in residential areas, such as in parks, and other areas, such as<extra_id_27> </s>\n",
      "########\n",
      "*******\n",
      "question: Trains tend to come on time, airplanes on the other hand tend to what?\n",
      "answer: arrive late\n",
      "choices: ['stall', 'take off', 'arrive late', 'catch on fire', 'carry freight']\n",
      "common expl list: ['Planes are carreid by more complicated mechanisms than trains, and therefore tend to be harder to operate exactly on time.', \"Planes aren't typically known for arriving on time (air traffic, weather, repairs, et. al.), whereas trains tend to be more reliable.\"]\n"
     ]
    },
    {
     "name": "stderr",
     "output_type": "stream",
     "text": [
      "\r",
      " 10%|████████████████▍                                                                                                                                               | 101/986 [1:10:35<21:44:23, 88.43s/it]"
     ]
    },
    {
     "name": "stdout",
     "output_type": "stream",
     "text": [
      "generated explanation: <pad> <extra_id_0> Trains tend to arrive on time, while airplanes tend to arrive late. This is because trains are able to take longer to get to and from the station than trains, and so they are more likely to take longer to get to the station. This is because trains are able to use different transportation methods, such as buses, and that buses are able to take more time to get to the station. This is because they are more likely to be on time than airplanes, which can be more costly to travel with. This is because they are more expensive to pay for the train, and therefore, and more expensive to travel, and more expensive to make the trip to the train more expensive and therefore more expensive than if they are late, but they are also more comfortable and less convenient to get to the train and thus more likely to be late. This is because trains are usually more expensive to travel and more expensive to travel. This is because the trains are generally more expensive to travel, and more expensive to travel, and thus less likely to be more expensive. This is because trains are more reliable and cheaper than airplanes, which is because they are less likely to be more likely to be delayed and more likely to be more expensive than expected to be delayed, and more likely to be late. This is because trains are more likely to be on the route, which can be costly to and therefore more likely to be more expensive to be delayed. This is because trains are more likely to be delayed than expected to be delayed because they are more likely to be delayed than expected to arrive late. This is because they are likely to be delayed, and they are more likely to be on time-than expected to arrive on time-than trains, as they are more likely to be delayed, and more expensive to be delayed than airplanes. Additionally, trains, and more likely to arrive on time-than expected, as they are more likely to be on time, and expensive to travel with more expensive than likely to arrive on time-than trains, and take longer than trains, and will take longer than airplanes, and they are more likely to arrive on time, and can take more likely to take more than than than trains.</s>\n",
      "########\n",
      "*******\n",
      "question: Where is glue well used?\n",
      "answer: art room\n",
      "choices: ['desk drawer', 'cabinet', 'art room', 'school', 'closed container']\n",
      "common expl list: ['Glue is used in art projects, and art rooms are where art projects are done.']\n"
     ]
    },
    {
     "name": "stderr",
     "output_type": "stream",
     "text": [
      "\r",
      " 10%|████████████████▌                                                                                                                                               | 102/986 [1:11:23<18:43:31, 76.26s/it]"
     ]
    },
    {
     "name": "stdout",
     "output_type": "stream",
     "text": [
      "generated explanation: <pad> <extra_id_0> Glue is a common tool in the art room. It is a great way to create beautiful pieces of art that are durable and can last for years. It can be used in a variety of ways, from creating a permanent fixture to creating a temporary one. It can be used to create a variety of effects, such as highlighting a photograph or drawing, or to attach objects to create a collage. It can also be used to create a temporary wall art piece. It is a great way to add texture to create a variety of colors, and textures to create a variety of designs, such as creating a variety of different effects. It can be used in many different materials, such as collage, creating a variety of different designs, creating a variety of different types of projects. It can be used to create a variety of designs, and create a variety of textures and patterns, creating a variety of different textures and textures. It can be used to create a variety of materials, such as a variety of designs, creating a variety of different types of projects. It can be used to create a variety of different designs, and create a variety of patterns and textures.</s>\n",
      "########\n",
      "*******\n",
      "question: Billy loves science, history, and art but isn't very creative.  When he was visiting the museum, he felt a great deal of what emotion?\n",
      "answer: enjoyment\n",
      "choices: ['inspiration', 'fulfillment', 'wonder', 'boredom', 'enjoyment']\n",
      "common expl list: ['When Billy visited a museum which had a lot of fields of interest, Billy enjoyed himself while he learned from the experience at the same time.', 'At a museum, Billy uses history to find science, and science to find art; by combining different loves, going to the museum has been fulfilling. To achieve fulfilment, Billy felt an enjoyable feeling.']\n"
     ]
    },
    {
     "name": "stderr",
     "output_type": "stream",
     "text": [
      "\r",
      " 10%|████████████████▋                                                                                                                                               | 103/986 [1:12:22<17:28:09, 71.22s/it]"
     ]
    },
    {
     "name": "stdout",
     "output_type": "stream",
     "text": [
      "generated explanation: <pad> <extra_id_0> Billy loves museums because they are a place to learn and explore, and he finds museums to be a great place to experience the beauty of the natural world. Museums are a place to experience the joy of seeing the world through the eyes of a visitor. They offer a wide range of experiences, from learning about the world to experiencing the wonders of the world. The museum provides a place to experience the wonders of nature, science, and history. The museum provides a place to explore and explore, and it provides a great way to experience. The museum is a great place to visit for Billy can experience the museum and enjoy the collection. The museum is a great place to explore the world around him, and explore the world. The museum is a great place to enjoy the world around him. The museum provides a place to learn and experience that he can enjoy the world. The museum is a great place to learn and see how the world around him and around him. The museum is also a great place to connect with nature. The museum provides a place to explore and experience. The museum is a place of pure pleasure. The museum provides a place to relax and enjoy the world. The museum provides a place to explore the world through the experience. It is a place to learn and explore the world around the world.</s>\n",
      "########\n",
      "*******\n",
      "question: Sarah did much hard work, even though she was on vacation.  Her mother told her off and said what?\n",
      "answer: do nothing\n",
      "choices: ['unemployment', 'say something', 'earn money', 'do nothing', 'relaxation']\n",
      "common expl list: ['If one is on vacation, one is supposed to \"do nothing\" as opposed to working - the \"something\" that is discouraged. Many physically hard jobs involve getting the hands dirty.']\n"
     ]
    },
    {
     "name": "stderr",
     "output_type": "stream",
     "text": [
      "\r",
      " 11%|████████████████▉                                                                                                                                               | 104/986 [1:13:55<19:01:12, 77.63s/it]"
     ]
    },
    {
     "name": "stdout",
     "output_type": "stream",
     "text": [
      "generated explanation: <pad> <extra_id_0> Sarah did much hard work even while on vacation. Her mother told her off because she was busy with work and was tired. She said that Sarah was hardworking and that she should take a break. Sarah was told to take a vacation because she was too busy with work to do anything. Sarah did not have the time to do much work and was told to take a break from work. She did not have time to do anything because she was taking a vacation. She was told to take a break and relax. This was because she was busy with the vacation. She was on vacation and she was on vacation. She was told her off for doing nothing. Sarah was busy with her homework and that she was too busy with her. She was worried about her daughter’s vacation. Sarah was not able to do nothing. She was told off because she was busy with her mother. She also worried about her daughter’s. Sarah’s mother was worried about her daughter’s parents’s parents were worried about her daughter. She was worried about her daughter’s academically in the school and she was worried about her homework. She was worried about her mother, who was worried about her daughter. Sarah was so excited about her vacation and how she was taking her daughter to take her to get her mother’s daughter’s vacation and her daughter to work. She was worried about her daughter’s mother’s mother’s job because she was worried about her daughter’s daughter’s parents’s mother’s job and said she was working hard work.</s>\n",
      "########\n",
      "*******\n",
      "question: James walked barefoot on a something that was made hot by sunshine. What is he probably walking on?\n",
      "answer: street\n",
      "choices: ['desktop', 'summer', 'moon', 'meadow', 'street']\n",
      "common expl list: ['Because of the intense heat of summer, sunlight reflects off the pavement, causing a hot sensation when one walks barefoot in the summer.']\n"
     ]
    },
    {
     "name": "stderr",
     "output_type": "stream",
     "text": [
      "\r",
      " 11%|█████████████████                                                                                                                                               | 105/986 [1:15:28<20:05:53, 82.13s/it]"
     ]
    },
    {
     "name": "stdout",
     "output_type": "stream",
     "text": [
      "generated explanation: <pad> <extra_id_0> James walked barefoot on a street that was made hot by sunshine. Streets are typically covered with asphalt, concrete, or other solid surfaces that are made of smooth, hard surfaces such as concrete, asphalt, or bricks. This makes them ideal for barefoot walking, as they are less likely to be scratched by other pedestrians or animals. Streets are also often covered in asphalt, which is why they are often hotter than grass or other hard surfaces. This makes them more suited to walking on. Streets are also often made of stone, which is also made of the perfect choice for a safe and comfortable for people to be walking barefoot. They are also typically made from a variety of materials, and can be t be a variety of different types of surfaces. They also tend to be a little more likely to be covered. If someone is walking barefoot, the pavement, the sun can make the surface of the asphalt more durable and make the surface more comfortable for people to walk on. Streets are often made of concrete, which is why it is a good choice for people who are looking for barefoot. They are also made of other people and can be barefoot on the surface of a variety of materials, and can be a good choice for people looking for barefoot. They are also more likely to be more likely to be made of a variety of different types of materials, such as bricks, and bricks, which can be more comfortable to walk barefoot because they are made of<extra_id_27> </s>\n",
      "########\n",
      "*******\n",
      "question: He grew tired of standing in the kitchen his whole shift, where was he?\n",
      "answer: restaurant\n",
      "choices: [\"neighbor's house\", \"friend's house\", 'restaurant', 'jail', 'fraternity house']\n",
      "common expl list: ['One can get tired standing in a kitchen if one is on their feet all day; kitchens are typically in restaurants.', 'A restaurant would have a kitchen, where you would be required to stand while your shift is in session.']\n"
     ]
    },
    {
     "name": "stderr",
     "output_type": "stream",
     "text": [
      "\r",
      " 11%|█████████████████▏                                                                                                                                              | 106/986 [1:16:17<17:40:52, 72.33s/it]"
     ]
    },
    {
     "name": "stdout",
     "output_type": "stream",
     "text": [
      "generated explanation: <pad> <extra_id_0> He grew tired standing in the kitchen his whole shift. He was tired standing in the kitchen his whole shift. He was not used to being in the kitchen all day, and he was tired of being in the kitchen. He grew tired standing in the kitchen his entire shift. He was tired of being in the kitchen his whole shift, and he was tired of being in the kitchen all day. He grew tired of being in the kitchen all day, and he decided to work somewhere else. He was tired of being in the kitchen all day and he was in the kitchen. He was in the kitchen, and he was in the kitchen, and he wanted to be able to work. He was in the restaurant because of the long hours he was tired of being in the kitchen. He was tired of being in the kitchen, and he grew tired of being in the kitchen his entire shift. He was also tired of being in the kitchen all day. He was tired of being in the kitchen all day. He was tired of being in the kitchen, and he was tired of being in the kitchen. He was tired of being in the kitchen.</s>\n",
      "########\n",
      "*******\n",
      "question: The children play cards often, but they make their own rules because they can't what the originals?\n",
      "answer: remember\n",
      "choices: ['bid', 'concentrate', 'winning', 'count', 'remember']\n",
      "common expl list: ['Children often play games that are similar to those played by adults, such as card games, but with slight variations to how they are played. This is most likely because children cannot remember the original rules of the card games. Smiling is a common expression', \"The children are making up their own rules because they can't remember the original rules.\"]\n"
     ]
    },
    {
     "name": "stderr",
     "output_type": "stream",
     "text": [
      "\r",
      " 11%|█████████████████▎                                                                                                                                             | 107/986 [1:19:12<25:09:43, 103.05s/it]"
     ]
    },
    {
     "name": "stdout",
     "output_type": "stream",
     "text": [
      "generated explanation: <pad> <extra_id_0> The children play cards often because they make their own rules because they can't remember the original rules. This is because they don't want to be judged for their actions, and they want to be able to use their own cards to their advantage. The children make their own rules because they can't remember the rules of the game. This is because they don't want to be judged for their actions, and they don't want to be judged for their actions. This is because they don't want to be judged by using the cards, and by using their own cards, they can use their own rules to play cards to their own rules. This is because they can't find any of the original rules and they can't remember the original cards or use them. This is because the original rules are often used in games, and can't remember the original rules of the original rules of the originals. This is because the original rules are often used in the rules of the original rules of the rules of the original rules are often difficult to remember the original rules, and they can't remember the original rules of the originals. This is because the original rules of the original rules of the original rules are easy to remember the original rules of the original rules, and the original rules, meaning behind the rules. This is because the rules are easy to remember the original rules of the original rules of the original rules of the original rules are difficult to remember the original rules. This is because they can't be difficult to remember the original rules are easy to remember the original rules are often difficult to remember, and they're difficult to remember the original rules. This is because they are difficult to remember the original rules are easy to remember the rules of the originals are difficult to remember, and are difficult to remember, and they are simple to remember the original rules, and are difficult to remember. This is because they are easy to remember, and they are often difficult to remember, and they are often difficult to remember because they are easy to remember, and because they are not easy to remember. The original rules are easy to remember, and easy to remember, and they are difficult to remember, and they are easy to remember.</s>\n",
      "########\n",
      "*******\n",
      "question: On an average day, going to work could make you feel like what?\n",
      "answer: feeling good\n",
      "choices: ['feeling good', 'anger', 'revelation', 'being fired', 'tardiness']\n",
      "common expl list: ['People sometimes feel pride and accomplishment when they get things done at the office.', 'To fulfill a life purpose and to gain fulfillment, people often undertake gainful employment. Thus, the people who experience this data point might experience feelings of accomplishment/fulfillment.']\n"
     ]
    },
    {
     "name": "stderr",
     "output_type": "stream",
     "text": [
      "\r",
      " 11%|█████████████████▍                                                                                                                                             | 108/986 [1:20:55<25:10:44, 103.24s/it]"
     ]
    },
    {
     "name": "stdout",
     "output_type": "stream",
     "text": [
      "generated explanation: <pad> <extra_id_0> On an average day, going to work could make you feel like you are doing a good job. This is because it is a part of your job to get things done and to help others<extra_id_4> This is because it is<extra_id_5> that<extra_id_6> Working<extra_id_7> a job is a place where you can expect to be productive and productive. This is because it is a place where you can expect to feel productive and productive. This is because it is a place where you can expect to be challenged and to be supported. This is because it is a place where you can feel confident, and relaxed. This is important because it is also a time to get to be productive and productive. It is also because it helps you feel good overall health. It is also a time-consuming activity that you can be able to be a positive and productive activity. This is because it can help you to feel good overall satisfaction and productivity. Overall, it is important to be mindful of your work environment. It is important to feel good and productive. It is important to be positive and positive attitude and work can help you feel good. It can also be a positive attitude. It can help you feel good to feel good mood and positive. It can also help you to have fun. Overall, it can be a great way to work. It can be a great place to be active and it can be a place to work. This can make you feel good and productive. It can be a place to be positive experience positive and productive. Overall, it can be a good feeling good work can be a good place to be productive and positive experience.</s>\n",
      "########\n",
      "*******\n",
      "question: What country has the carpathians and is the furthest in the direction of the side that won the U.S. Civil War?\n",
      "answer: poland\n",
      "choices: ['slovakia', 'slovenia', 'poland', 'ukraine', 'romania']\n",
      "common expl list: ['Poland is the only country that has the carpathian mountains, and it was the most distant in the direction from the side that won the U.S. Civil War (the North).']\n"
     ]
    },
    {
     "name": "stderr",
     "output_type": "stream",
     "text": [
      "\r",
      " 11%|█████████████████▋                                                                                                                                              | 109/986 [1:22:27<24:16:41, 99.66s/it]"
     ]
    },
    {
     "name": "stdout",
     "output_type": "stream",
     "text": [
      "generated explanation: <pad> <extra_id_0> Poland is the country that is the furthest in the direction of the side that won the Civil War. It is located in the central part of Europe and is the closest to the U.S. The country is located in the eastern part of Poland, which is the Caucasus Mountains, and is the furthest from the side that won the Civil War. Poland is the closest to the border with Russia and the Ukraine, which is located in the western part of Poland. Poland is the closest country to the border with Russia and the Caucasus to the war. Poland is the closest to the USSR, and the closest to the battles were fought in the war. The carpathians are located in the Caucasus, and are the carpathians, and are the most distant from the side that was the Union, and the war. The carpathians are located in the carpathians, and are the closest to the Union. The carpathians are the most distant from the Union forces to the Union, which was the a apeagan country that was the most closely related to the Union. The carpathians are the closest to the Union, the Union. Poland is the furthena place that the Union, and the Union. The Carpathians are the closest to the United States, and the closest to the Union. The country is the closest to the closest to the U. The carpathians are located in Poland is the closest to the U. The carpathians are the closest to the U.</s>\n",
      "########\n",
      "*******\n",
      "question: What would happen if you want to win a game?\n",
      "answer: competitiveness\n",
      "choices: ['competitiveness', 'satisfaction', 'learning', 'injuries', 'play']\n",
      "common expl list: ['If you want to win a game, you will try put your best effort to take your chances at winning over those of your opponents.', 'After playing a game, a person would be likely compelled to win the game becasue they want a feeling of satisfaction from winning the game. In order to win, a person would need to be competitive.', 'To win a game, you must be competitive.', 'Competitive athletes would want to win their games, whatever the cost; this desire to win leads to competitiveness and creates the desire to win over even long periods of time; it also often leads to brutal physical play --- such as by causing injuries to opposing r', \"Victory in a game requires one to make a maximum effort, and peoples' desire to win has to be rather competitive.\"]\n"
     ]
    },
    {
     "name": "stderr",
     "output_type": "stream",
     "text": [
      "\r",
      " 11%|█████████████████▊                                                                                                                                              | 110/986 [1:23:53<23:18:36, 95.80s/it]"
     ]
    },
    {
     "name": "stdout",
     "output_type": "stream",
     "text": [
      "generated explanation: <pad> <extra_id_0> If you want to win a game, you need to be competitive and be able to win the game. Competitiveness is a key ingredient in winning a game. It is important to have a competitive mindset and a competitive mindset. It is also important to have a competitive mindset because it can make a game more enjoyable and enjoyable. It is a necessary ingredient in winning a game. It can help you stay on top of the competition and keep your cool. Competitiveness is a key component of winning a game. It can be a competitiveness, and it can help you stay on the team. It can be a great player, and keep you motivated to keep your competition and win. It is also important to keep in the team working hard and keep up to win the competition and keep you motivated to win the competition increases. Competitiveness can help you win a team win a competitive environment and help you keep your team up with the competition. Competitiveness can help you keep your mind off the other players and help you stay focused and focused. It can help you to win a game by being competitive and motivated to win a competitive environment. This can help you stay motivated and motivated to win a team environment. It can help you win a competitive mindset and help you to stay focused and motivated. Competitiveness is a key to win a competitive mindset and results-minded and helps you stay motivated and motivated to win a game. It can help you win a team to win a competitive environment and keep your mind focused and keep you focused.</s>\n",
      "########\n",
      "*******\n",
      "question: Where should watch to avoid being pinched by a crab?\n",
      "answer: sandy beach\n",
      "choices: ['eastern coast', 'sandy beach', 'fish market', 'north carolina', 'sand dunes']\n",
      "common expl list: ['It is more common to find crabs living in sandy beach areas.', 'Crabs live in sandy areas, and people who visit sandy beaches are likely to be pinched by crabs.']\n"
     ]
    },
    {
     "name": "stderr",
     "output_type": "stream",
     "text": [
      "\r",
      " 11%|██████████████████                                                                                                                                              | 111/986 [1:24:37<19:27:47, 80.08s/it]"
     ]
    },
    {
     "name": "stdout",
     "output_type": "stream",
     "text": [
      "generated explanation: <pad> <extra_id_0> Watch for crabs on sandy beaches because they can be very aggressive and can pin you down easily. Watch for crabs on sandy beaches because they are more likely to be found near sand than inshore beaches. Crabs can be found on sandy beaches, and they can be very aggressive and can get caught in the sand and eat your food. Watch for crabs on sandy beaches because they are more likely to be aggressive and can pin you down. Watch for crabs on sandy beaches because they are more likely to be found near the shells and can be very dangerous to swimmers. Also, crabs can be quite large and can be found on s. On beaches, crabs can get up to catching and can be caught in your hair. Also, crabs can be caught in your clothing and it can be a very aggressive and can a great place to watch for crabs. Also, if you are caught in the a sandy beach, you could be pinched by a crab and get caught in your shoes and clothing. Finally, a great place to watch for crabs and to look for crabs and s.</s>\n",
      "########\n",
      "*******\n",
      "question: What is a large group of human beings?\n",
      "answer: civilisation\n",
      "choices: ['an infestation', 'civilisation', 'homes', 'graveyard', 'spacecraft']\n",
      "common expl list: ['Civilisation is generally used to refer to large populations of humans living together in a single area, responding to collective needs.']\n"
     ]
    },
    {
     "name": "stderr",
     "output_type": "stream",
     "text": [
      "\r",
      " 11%|██████████████████▏                                                                                                                                             | 112/986 [1:26:59<23:55:59, 98.58s/it]"
     ]
    },
    {
     "name": "stdout",
     "output_type": "stream",
     "text": [
      "generated explanation: <pad> <extra_id_0> Civilisation is a large group of human beings that has evolved over time to meet the needs of the modern world. Civilisation is the process of forming a cohesive society that is based on a common goal: to achieve a common goal. Civilisation is the process of forming a common goal or goal and to achieve that goal. Civilisation is the process of establishing a common goal or goal. Civilisation is the process of creating a common goal or goal for all human beings. Civilisation is the process of a process of building a large group of people who are a common goal. Civilisation is the way humans are a large group of people who have contributed to the world. Civilisation is the process of a large group of individuals who have a common goal and shared values and common humanity. Civilisation is a large group of individuals who have contributed to the world. Civilisation is the collective effort to achieve a common goal. Civilisation is a process of building a common goal. It is the process of gaining the collective goal of building a common goal and maintaining a common goal. Civilisation is the process of gaining a common goal. Civilisation is the collective effort to achieve a common goal. Civilisation is the process of gaining acceptance and acceptance by the common goal. It is the process of gaining gaining consensus and a common goal. It is the goal of gaining a common goal and shared goal. It is the process of building a common goal that can be achieved through the collective goal of a common goal or goal. It is the goal of gaining a collective goal and a common goal. Civilisation is the process by creating a common goal and gaining a common goal that is a means of gaining acceptance and gaining gaining acceptance by all of humanity.</s>\n",
      "########\n",
      "*******\n",
      "question: What  is likely to happen to ice in the sun?\n",
      "answer: become water\n",
      "choices: ['cool water', 'cool drink', 'cool off', 'nothing', 'become water']\n",
      "common expl list: ['because hot melts cold, ice will melt if kept in the sun.', 'When ice is exposed to the sun, it melts, becoming water.']\n"
     ]
    },
    {
     "name": "stderr",
     "output_type": "stream",
     "text": [
      "\r",
      " 11%|██████████████████▎                                                                                                                                             | 113/986 [1:28:26<23:05:20, 95.21s/it]"
     ]
    },
    {
     "name": "stdout",
     "output_type": "stream",
     "text": [
      "generated explanation: <pad> <extra_id_0> Ice is a form of solid material that is formed when a solid material is heated by the sun and heated by a source of heat. This heat can be absorbed by the ice and turn it into water. This process is known as melting and is a process known as ice crystallization. The process of forming ice crystals begins with the formation of ice crystals, which are formed when a solid material is heated by a vacuum. This heat can be used to freeze water, creating a thin layer of ice can be used to freeze water, which can be used to create water molecules that can be used to form hydrated. The water can then be used to melt to evaporates, making it melt. The water can also be used to create a dry, which is known as a greenhouse. The process is also known as melting of ice is caused by the presence of water, which is a dry, which can be used to keep the a dry and can be used to freeze, which can be used to create a greenhouse effect on the Earth's surface. This is known as it is a greenhouse effect, which is caused by the changing the temperature of the sun. The sun's heat energy source, which is known as the water ice and can be used to create a greenhouse effect, which is a greenhouse effect, which is known as a process. The sun is a dry, which can be used to create a plant that is used to create water to a dry out. The water to create a greenhouse effect.</s>\n",
      "########\n",
      "*******\n",
      "question: Where can travellers pull off the road to stretch their legs?\n",
      "answer: rest area\n",
      "choices: ['rest area', 'airport', 'train station', 'come home', 'bus depot']\n",
      "common expl list: ['Rest areas generally allow travelers to spend time away from the roads, which are generally connecting points to large cities and particular highway names.', 'Rest areas are publicly provided spaces for drivers to get out of their cars for a break. Train stations, bus depots, come home, and airports are all places where one might catch a bus, train, taxi, or plane, or have arrived', 'Rest areas are places where people can pull off the road to stretch their legs, and they are often located near gas stations, which are frequented by travellers.']\n"
     ]
    },
    {
     "name": "stderr",
     "output_type": "stream",
     "text": [
      "\r",
      " 12%|██████████████████▍                                                                                                                                            | 114/986 [1:30:31<25:14:22, 104.20s/it]"
     ]
    },
    {
     "name": "stdout",
     "output_type": "stream",
     "text": [
      "generated explanation: <pad> <extra_id_0> A rest area is a place where a person can stop and stretch their legs and get off the road. It is usually located near a hotel, shopping centre, or other establishment that can provide a place to stop and relax. A rest area is a place where a person can get off the road and relax and unwind. It is a place where people can stop and relax and unwind, taking time to rest and stretch their legs. It is a place where people can take a break and get some fresh air. It is also a place to take a quick stop and can take a brief brief stop and then continue their journey. It is a place where they can stop and can take a brief stop and then take a quick trip. It is a place to stop and get back. It is a short distance to take travellers to get back to get back on the road, and back. It is a place to rest and take a brief break before or take a short trip. It is a safe and safe place to relax and take a short break. It is a good place for travellers to stop and take a break from the road and get some exercise. It is a place to take a long break from the road. It is a place to sit and relax and take a good place to take a short break from the road for a short break. It is a place to take a break from the road and get off the car. It is a short break and relax. It is a good place to stop and take the car. It is a short break from the road and relax and get off the road. It is a place to take a short break. It is also a place to take a rest and take a bus or train station for passengers to get off the bus or train or train or bus or train or train or bus or train or train or train.</s>\n",
      "########\n",
      "*******\n",
      "question: A poor family has no decorations in December, what would make a great gift?\n",
      "answer: christmas tree\n",
      "choices: ['food', 'specialty store', 'christmas tree', 'department store', 'christmas stocking']\n",
      "common expl list: ['The family is poor, so we might assume that they have nothing for decoration for their Christmas season. To help fix this, a Christmas tree would be the greatest gift.', 'In December, most families tend to put up christmas decorations. A christmas tree would make a good gift for a poor family.', 'A christmas tree is a traditional decoration for christmas.']\n"
     ]
    },
    {
     "name": "stderr",
     "output_type": "stream",
     "text": [
      "\r",
      " 12%|██████████████████▋                                                                                                                                             | 115/986 [1:30:42<18:24:48, 76.11s/it]"
     ]
    },
    {
     "name": "stdout",
     "output_type": "stream",
     "text": [
      "generated explanation: <pad> <extra_id_0> A christmas tree is a great gift for a poor family because it can be used to decorate their home and decorate their yard. It is a traditional holiday tradition that is often overlooked by many families. A christmas tree is a great gift because it can be used to display a variety of decorations, such as a wreath, ornaments, or other holiday items. It is also a great way to show that you care and are willing to spend the time to decorate your home. It is a symbol of hope and joy, and joy. It can be used to create a holiday spirit and joy for the season. The Christmas tree can be decorated with decorations, such as a Christmas tree. It can be decorated with lights, decorations, such as a Christmas tree, or a great way to show that you care for your family and to decorate their home. It can be used to show off to decorate the home or other holiday decorations. It can also be used to decorate the holidays. It can be used to provide a warm and a tree to decorate the family and cheer them in the Christmas season. It can also be used to provide a way to show how much you care and support the family. The Christmas tree can be used to decorate a Christmas tree to provide a gift for a Christmas tree for a way to show care for the charity. It can be used to raise money.</s>\n",
      "########\n",
      "*******\n",
      "question: Where would you buy jeans in a place with a large number of indoor merchants?\n",
      "answer: shopping mall\n",
      "choices: ['shopping mall', 'laundromat', 'hospital', 'clothing store', 'thrift store']\n",
      "common expl list: ['Shopping malls usually contain a large variety of stores, including stores that sell clothes and jeans.', 'Since malls (or indoor shopping centers in general) contain numerous merchants, including clothing stores, you could purchase jeans in one such store.', 'Shopping malls often have a large number of stores, including clothing stores.']\n"
     ]
    },
    {
     "name": "stderr",
     "output_type": "stream",
     "text": [
      "\r",
      " 12%|██████████████████▊                                                                                                                                             | 116/986 [1:32:25<20:20:50, 84.20s/it]"
     ]
    },
    {
     "name": "stdout",
     "output_type": "stream",
     "text": [
      "generated explanation: <pad> <extra_id_0> Jeans are a great way to shop for jeans in a shopping mall because they are made of a number of different materials and are made to fit your specific needs. Shopping malls are often located in shopping centers, which are often located near each other, and offer a variety of shopping options. Shopping malls are typically located in shopping districts, which are typically located in major metropolitan areas. These centers are often surrounded by a variety of indoor merchants, which can make it difficult for shoppers to choose the right jeans for their needs. Shopping malls are often times when it comes to find the perfect place for jeans. Shopping malls are often located in shopping centers, which are often located near the shopping center. Shopping malls are often located close to each other major cities, which can be a place to shop for clothes. Shopping malls also offer discounts to customers who are willing to take advantage of the best deal. Shopping malls are often located near major attractions, which make it easier to shop. This makes it easier for shoppers to shop for their needs. Shopping malls are often located in major cities, which is a popular place to find the perfect place to shop for jeans. Shopping malls are often located in major cities, which makes them a great place to find the best place to find the perfect place to find the best place to find the best selection of styles and prices. These are often located in the best place to offer great place to find the perfect place to find the best selection of styles and styles and styles to find the best place to shop for clothes that fit your style your personal taste. Shopping malls are also a great choice for people looking for jeans because they are conveniently located in a large selection and are easily accessible to find the perfect for those who are located in their way to find the perfect for shopping malls that offer you. Shopping malls are also available for people who want to find the perfect place to shop for people to find a shopping malls that are located in the city.</s>\n",
      "########\n",
      "*******\n",
      "question: If I wanted to get some oxygen, what will I get it from?\n",
      "answer: air\n",
      "choices: ['the sky', 'air', 'earth', 'space shuttle', 'water']\n",
      "common expl list: ['Oxygen is found in the air.']\n"
     ]
    },
    {
     "name": "stderr",
     "output_type": "stream",
     "text": [
      "\r",
      " 12%|██████████████████▉                                                                                                                                             | 117/986 [1:33:45<20:02:45, 83.04s/it]"
     ]
    },
    {
     "name": "stdout",
     "output_type": "stream",
     "text": [
      "generated explanation: <pad> <extra_id_0> If I wanted to get some oxygen from someone, I would get it from air. Air is a gas that is found in all living things, including plants, animals, and animals. It is also known as a “spark” because it is a natural source of energy. Air is also known as the life force of nature, and is the most abundant natural source of oxygen in the world. It is the most abundant of all the elements, and is the most abundant source of oxygen in the world. Air is also the most plentiful source of oxygen, because it is a natural product of oxygen. It is also a natural, and is a great source of oxygen, and it is a natural product. It is also a great source of energy, and can be used to create oxygen. It can also be used to create oxygen in a great source of oxygen, which is a great source of oxygen. Air is a great source of oxygen, and a great source of oxygen. It is a great source of oxygen, but it is a great source of carbon dioxide, and oxygen is a great source of oxygen. Air is packed with oxygen, and a great source of oxygen. Air is a great source of oxygen and can be found in a great source of oxygen. It is a great source of oxygen and a great source of energy. Air is a great source of oxygen. It is a great way to get oxygenated, and can be used to create oxygen in plants and other substances in the environment. Air is a great source of oxygen and can be used to create oxygen-rich environment.</s>\n",
      "########\n",
      "*******\n",
      "question: What happens after having food too much?\n",
      "answer: getting fat\n",
      "choices: ['being full', 'laziness', 'weight gain', 'getting fat', 'will not starve']\n",
      "common expl list: ['Eating too much food causes one to gain weight, and thus become fat.', 'People will become fat, and even obese from eating too much food.', 'Eating too much food causes one to become obese.']\n"
     ]
    },
    {
     "name": "stderr",
     "output_type": "stream",
     "text": [
      "\r",
      " 12%|███████████████████▏                                                                                                                                            | 118/986 [1:35:08<20:02:35, 83.13s/it]"
     ]
    },
    {
     "name": "stdout",
     "output_type": "stream",
     "text": [
      "generated explanation: <pad> <extra_id_0> When you have too much food, you get fat. Fat is a compounding agent that can cause weight gain, weight gain, and obesity. It is produced when you eat too much food, and it can also contribute to obesity. This is because too much food can lead to excess weight, which can lead to weight gain and obesity. Too much food can also lead to an excess of calories, which can lead to an increase in body fat. This is because too much food increases the body’s fat stores, which can lead to obesity. The fat is stored in the body, which can cause excess body fat. This is a combination of nutrients, which can lead to obesity. This can also lead to weight gain, which can lead to weight. If you are concerned, it can be used to reduce the fat in your diet. If you are concerned about losing weight, it is important to be careful with your portion sizes. It is important to remember that too much of food can lead to a weight loss. In addition to the weight loss, it can cause weight loss. Additionally, if you are overweight, a weight gain in your body. This can lead to weight gain in muscles, which can cause fatigue. This can lead to weight gain and obesity. It can also lead to weight loss, which can lead to weight gain. This can lead to weight loss and obesity. Additionally, it can lead to weight gain. This can lead to weight. In addition to weight, it can lead to an increase in weight. It can also cause weight loss. Additionally, it can lead to weight.</s>\n",
      "########\n",
      "*******\n",
      "question: It was the first time they had met their new niece, it was good to have everybody together at the annual what?\n",
      "answer: family reunion\n",
      "choices: [\"brother's house\", 'family picture book', 'family tree', 'family reunion', 'book']\n",
      "common expl list: ['A family reunion is called a family reunion because this is where all of the family members gather for the re-union.']\n"
     ]
    },
    {
     "name": "stderr",
     "output_type": "stream",
     "text": [
      "\r",
      " 12%|███████████████████▎                                                                                                                                            | 119/986 [1:36:11<18:30:03, 76.82s/it]"
     ]
    },
    {
     "name": "stdout",
     "output_type": "stream",
     "text": [
      "generated explanation: <pad> <extra_id_0> It was good to have everybody together at the annual family reunion because it was the first time they met their new niece. The family reunion is an important way to bond with family and friends. It is the time of celebration and celebration, and it is the time to bond with family and friends. The family reunion is an important time to celebrate the family and the people in your life. It is a time to celebrate the accomplishments of the family and to share in the joys and accomplishments of the past. The family reunion is an opportunity for the future generations to share in the future generations. It is a time to be with the bond and to grow and to meet their new niece and to get to know each other relatives and to know each other. The annual family reunion is also a time for the whole family to bond and to share the special occasions. The reunion is also a time to celebrate the new baby's future. The annual family reunion is also a time to spend time with the past and present. The reunion is a time to spend with loved ones and support them. The family members of the new niece and their new niece and nephews, and their parents. The reunion is a time to bond and to bond with each other relatives and to spend time together as they are looking after the years. The family reunion is an important time to build a new niece and to take the new and support and for the future. The annual family reunion is a time to celebrate the new niece and nephew's and support<extra_id_27> </s>\n",
      "########\n",
      "*******\n",
      "question: If you're expressing yourself in a public forum, what may you experience?\n",
      "answer: stage fright\n",
      "choices: ['danger', 'embarrassment', 'stage fright', 'getting arrested', 'blank stares']\n",
      "common expl list: ['Stage fright is the feeling of embarrassment or nervousness at the thought of being in front of people, and being on stage for a performance is a good example of a place where one often experiences stage fright. In such a case, their performance might be', 'A common example of expressing oneself in public is on stage. Members of an audience may stare and become bored, and at worst they may hiss or boo.', 'If you are expressing yourself in a public forum, you may experience stage fright, which is the fear of being embarrassed in front of a large audience.']\n"
     ]
    },
    {
     "name": "stderr",
     "output_type": "stream",
     "text": [
      "\r",
      " 12%|███████████████████▍                                                                                                                                            | 120/986 [1:36:48<15:36:58, 64.92s/it]"
     ]
    },
    {
     "name": "stdout",
     "output_type": "stream",
     "text": [
      "generated explanation: <pad> <extra_id_0> If you're expressing yourself in a public forum, you may experience stage fright. Stage fright is a feeling of fear, anxiety, or discomfort that can interfere with your ability to communicate clearly in a public forum. It can be caused by a range of factors, including the number of people you interact with, the type of content you're presenting, the audience, and the environment. It can also be caused by a lack of confidence, fear, or anxiety. Stage fright can be a signifying, and can cause by a person. It can be a public forum, or even be a stage fright can be a sign that you're not be able to communicate clearly and understand the message. It can be caused by the public speaking your ideas or a message that you'remarks. This can be a sign that you're not be heard. It can be interpreted as a sign that you're not understand the message or lack of a microphone and other people may be sensitive to the audience. It can be a sign that you're trying to say something you're not<extra_id_27> </s>\n",
      "########\n",
      "*******\n",
      "question: He was eating too much while no exercising enough, what did he suffer as a result?\n",
      "answer: gain weight\n",
      "choices: ['hungry', 'gas', 'obesity', 'gain weight', 'feeling full']\n",
      "common expl list: ['Excessive food consumption leads to accumulation of fat, which then results in a higher body weight, i.e., weight gain.', 'If you eat more than you burn, you gain weight.', \"If you eat too much and don't exercise enough, you will gain weight.\"]\n"
     ]
    },
    {
     "name": "stderr",
     "output_type": "stream",
     "text": [
      "\r",
      " 12%|███████████████████▋                                                                                                                                            | 121/986 [1:37:39<14:37:20, 60.86s/it]"
     ]
    },
    {
     "name": "stdout",
     "output_type": "stream",
     "text": [
      "generated explanation: <pad> <extra_id_0> He was eating too much while not exercising enough, which resulted in him gain weight. This is because he was eating too much and not exercising enough, which resulted in him gaining weight. When you eat too much, you increase the risk of developing type 2 diabetes, which is the most common form of diabetes. Type 2 diabetes is caused by the inability to exercise enough and can lead to weight gain. Type 2 diabetes is also a serious medical condition that can lead to death. Type 2 diabetes is a serious health careless, and can lead to complications. The person could also be more likely to gain weight due to lack of exercise, which can lead to weight loss of nutrients. This can lead to a number of negative effects on his overall health and health. Ultimately, the person will gain weight due to lack of nutrients and can lead to increase the body to gain weight due to lack of exercise. Getting enough calories can lead to weight gain weight. Exercise can help prevent weight gain due to lack of nutrients and other factors such as stress and stress. The body is more likely to develop an unhealthy body. By eating too much, it can lead to a condition that can lead to a number of metabolic syndrome. This can lead to a number of health problems.</s>\n",
      "########\n",
      "*******\n",
      "question: Randy was not doing housework.   His wife was raising two children, and this only increased her workload. It put her under a lot of stress.  What might this lead to?\n",
      "answer: arguments\n",
      "choices: ['asthma', 'more', 'boredom', 'headache', 'arguments']\n",
      "common expl list: ['Stress is often related to family life. Being under stress, the wife might verbally lash out at her husband, which could potentially lead to arguments']\n"
     ]
    },
    {
     "name": "stderr",
     "output_type": "stream",
     "text": [
      "\r",
      " 12%|███████████████████▊                                                                                                                                            | 122/986 [1:38:21<13:16:30, 55.31s/it]"
     ]
    },
    {
     "name": "stdout",
     "output_type": "stream",
     "text": [
      "generated explanation: <pad> <extra_id_0> Randy’s wife was not doing housework. This increased her workload and increased her stress. Randy was not doing housework, but this increased her workload. This increased her stress and made her more likely to make arguments against him. Randy was not doing housework because his wife was too busy with the two children to do the housework herself. This increased her stress and made her more likely to make arguments against him. This increased her stress and made her more likely to make them. Randy was not doing housework because his wife was too busy with the children. This increased her workload could lead to make them less likely to be more likely to make. This increased her stress lead to arguments against him. Randy’s wife was not doing the housework. This increased her workload and could also increased her stress. Randy was not doing housework and it led to more arguments. This could lead to arguments. Randy’s wife’s stress could have been under pressure to do housework. This could lead to arguments. This could lead to arguments against Randy’s stress and his wife being under pressure to do the housework. This could lead to more arguments. It could also lead to a lot of stress and lead to arguments.</s>\n",
      "########\n",
      "*******\n",
      "question: Where can you learn about a ferret with special abilities far beyond normal ferrets?\n",
      "answer: comic book\n",
      "choices: ['comic book', 'out of doors', 'great britain', 'redwall', 'north carolina']\n",
      "common expl list: ['ferrets are lovable pets that occasionally pop up in comic or animated shows and movies. Occasionally a ferret is rodent, but more often they are the companion of a hero.']\n"
     ]
    },
    {
     "name": "stderr",
     "output_type": "stream",
     "text": [
      "\r",
      " 12%|███████████████████▉                                                                                                                                            | 123/986 [1:39:40<14:54:47, 62.21s/it]"
     ]
    },
    {
     "name": "stdout",
     "output_type": "stream",
     "text": [
      "generated explanation: <pad> <extra_id_0> A ferret with special abilities far beyond normal ferrets is a rare breed of animal that has developed extraordinary abilities beyond those of a normal ferret. The ferret has the ability to perform complex tasks that would normally require a human to perform, such as hunting, catching, or digging. This ability is a result of the unique nature of the animal, which makes it unique from other ferrets. This ability allows the ferret to fly, fly, and fly with ease. This ability allows the character to fly, which allows the reader to learn about the special abilities that are not available in the world. This is possible because the character has the ability to fly, which allows the ferret to fly, which makes it an ideal way to communicate with humans. This is important because the ability to communicate effectively and interact with humans. Comics can also provide a way to learn about the character and how to use their environment. These abilities allow them to communicate with the ferret and their environment. It also allows the reader to learn about the character. Comic books also provide a way to learn about the ferrets that are unique and are not common to humans. They can also be used to show off their own environment and their abilities. Finally, they can communicate with them and their environment. This allows them to show the ferret’s owner how they are able to communicate with humans and other characters. This allows them to show their natural ability to communicate with humans.</s>\n",
      "########\n",
      "*******\n",
      "question: When people have guests over, what do they often do for their guests?\n",
      "answer: cook food\n",
      "choices: ['talk to each other', 'learn from each other', 'demand justice', 'cook food', 'share food']\n",
      "common expl list: [\"When people have guests over, it's common for them to make food for their guests.\", \"People who have guests (guests of any kind) over tend to cook them food. The food can either be pre-cooked, and ready to be served upon the guest's arrival, or consumed while the two of them have a conversation.\", 'People often cook food for their guests.', \"It's common to cook food for guests, which can feed everyone.\", \"People often prepare and share food because it's a way to welcome and appreciate each other.\"]\n"
     ]
    },
    {
     "name": "stderr",
     "output_type": "stream",
     "text": [
      "\r",
      " 13%|████████████████████                                                                                                                                            | 124/986 [1:40:28<13:51:26, 57.87s/it]"
     ]
    },
    {
     "name": "stdout",
     "output_type": "stream",
     "text": [
      "generated explanation: <pad> <extra_id_0> When people have guests over, they often cook food for their guests. This is because the food is usually prepared by someone who is familiar with the area and who has cooked meals for their guests. Cooking is a great way to make sure that the food is prepared properly and that the guests are satisfied. Cooking is also a great way to show that you care about the food you are preparing for them. Cooking is also a great way to show that you care about your guests and that you are enjoying your time with them. Cooking is a great way to prepare the food that you can help them to make sure that the guests are satisfied. This is because it is also a great way to make sure that the guests are satisfied with the food that you are happy and comfortable. Cooking is also a great way to show respect the guests and to show respect their hosts and to ensure that the guests feel welcome and that you are a pleasant experience. This is a great way to show respect their guests that you care about their satisfaction. Cooking is a great way to show that you care about your guests that you are happy and comfortable. It is also a great way to show that you care about them. Cooking is a great way to show that you care about them.</s>\n",
      "########\n",
      "*******\n",
      "question: Talking to someone is pointless if they're doing what?\n",
      "answer: not listening\n",
      "choices: ['dry mouth', 'whispering', 'being heard', 'eye contact', 'not listening']\n",
      "common expl list: ['People who are not listening to you will obviously not be able to understand your communication.', 'To be engaged in a conversation--particularly a one-on-one conversation, both people must be listening attentively.']\n"
     ]
    },
    {
     "name": "stderr",
     "output_type": "stream",
     "text": [
      "\r",
      " 13%|████████████████████▎                                                                                                                                           | 125/986 [1:43:13<21:31:36, 90.01s/it]"
     ]
    },
    {
     "name": "stdout",
     "output_type": "stream",
     "text": [
      "generated explanation: <pad> <extra_id_0> Listening is the ability to understand and understand the thoughts and feelings of others without interrupting them. It is the ability to understand and respond to others without interrupting them. Listening is the ability to understand and respond to the thoughts and feelings of others without interrupting them. Listening is the ability to understand and respond to others without interrupting them. Listening is the ability to understand and respond to the needs of others without interrupting them. Without listening, it is impossible to understand the needs of others. Without listening, it is impossible to understand the words and actions of someone to listen to the words spoken word. Without listening, the conversation, the person is likely not even begin. Without listening, the person is likely to answer questions, the answers to the words spoken, the answer questions, the answers that are being asked to the answers. Without listening, the conversation is pointless. Without listening, the ability to understand the other person's thoughts and actions, it is pointless. Without listening, the person may not taking the time to understand the meaning of the other person. Without listening, the person is likely to understand the feelings of the person's. Without listening, it is impossible to understand the person's actions. Without listening, it is also not taking the person's feelings of ignoring the person's actions. Without listening, it is pointless. Without listening, it is impossible to understand the person's emotions. Without the ability to understand the person's feelings, it is pointless. Without listening, the person will not understanding and understanding. Without a person will not listening, the person will not listening will not understanding the person is doing something else. Without understanding, the person will not listening will not listening, and understanding the person is pointless. Without listening, the person will not listening, the person will not understanding the person will be unable to understand the person's actions, it will be unable to understand the person's intentions, and a listening will not understand the person's actions will not understand the person's actions, and actions, the person will not listening will not listening, and a listening will not understanding the person will be a good understanding the person's actions will be a listening will not understanding the person will not understanding the person will not understand the person will not understanding<extra_id_27> </s>\n",
      "########\n",
      "*******\n",
      "question: If you are enjoying sunshine on the beach, what do you likely have views of?\n",
      "answer: sea\n",
      "choices: ['windowsill', 'sunbathers', 'disneyland', 'sea', 'summer']\n",
      "common expl list: ['Seashores usually have views of the water (i.e., the \"sea\").', 'To sunbathe, one would likely be found on a beach, where one would likely see the sea before anything else.', \"The beach is a place where people go to enjoy the sun, and so it's likely that the beach would have views of the sea.\"]\n"
     ]
    },
    {
     "name": "stderr",
     "output_type": "stream",
     "text": [
      "\r",
      " 13%|████████████████████▍                                                                                                                                           | 126/986 [1:44:07<18:59:23, 79.49s/it]"
     ]
    },
    {
     "name": "stdout",
     "output_type": "stream",
     "text": [
      "generated explanation: <pad> <extra_id_0> If you are enjoying sunshine on the beach, what likely views you have of the sea are likely to have? If you are enjoying sunshine on the beach, what likely views you have of the sea? Sea views are often a result of the sun shining on the water and the sun setting over the horizon. The water is often calm and clear, and the sun is able to reflect off the surface of the water, creating a safe haven for swimmers. The water is often warm and inviting, and the sun is able to reflect off the water. The sun is a great way to relax and enjoy the sun. The waves crashing waves and crashing waves are a great way to enjoy the water. The waves are a great way to relax and enjoy the sea is a great way to relax and enjoy the sun while you are enjoying the sun is a relaxing time together. The waves are a great way to relax and enjoy the sea. The water is a great place to relax and enjoy the shore, and enjoy the beach. The waves crashing waves and a great place to enjoy the sun. The waves and the crashing on the beach are a great way to relax and enjoy the feeling of the sea. The calming effects of the sun can be quite a a great way to relax and rejuvenate</s>\n",
      "########\n",
      "*******\n",
      "question: What does an actor do while acting?\n",
      "answer: pretend\n",
      "choices: ['branch out', 'eat curry', 'wear costume', 'pretend', 'sing songs']\n",
      "common expl list: ['Actors pretend certain things. While acting, they might pretend to be in a different location by going somewhere close to a stage feed. Actors might also pretend to possess particular materials while on stage by carrying props.']\n"
     ]
    },
    {
     "name": "stderr",
     "output_type": "stream",
     "text": [
      "\r",
      " 13%|████████████████████▌                                                                                                                                           | 127/986 [1:45:52<20:44:56, 86.96s/it]"
     ]
    },
    {
     "name": "stdout",
     "output_type": "stream",
     "text": [
      "generated explanation: <pad> <extra_id_0> An actor pretends to be someone else in order to get the attention and respect of the audience. An actor pretends to be someone else while playing a role. This is because actors are often asked to play a role in a film or television series. This is because they believe that the audience is interested in seeing the real person and want to believe that the actor is playing them. This is because actors pretend to be someone else and pretend to be someone else. This is because actors pretend to be someone else and pretend to be someone else. They often use their imagination to get the attention of the audience and their character. This is important for actors to get the attention of the audience. This is important because it allows them to tell the character and to look and sound convincing. It also helps them to give the look and feel. It helps to create a convincingly convincing character. This is important because it allows actors to get the audience. It allows them to pretend to play a real life-to create a character. This allows actors to have fun and to pretending to pretending. It also helps to get the audience. This helps to keep them focused on their characters and to focus on the character. This helps to keep them focused and allows them focused on their role. This is important because actors are trained to play pretending to pretend to prepare for the real. This allows actors to focus on their characters and keep them focused on the audience. This helps to play a real-time commitment and allows them to keep up with confidence and allows them to focus on the character. It helps to keep them focused on their characters and allows them to focus on their roles and to be more relaxed and allows them to focus and to be themselves and to focus on their characters and to develop their characters<extra_id_27> </s>\n",
      "########\n",
      "*******\n",
      "question: Where is a ring binder likely to contain budgets?\n",
      "answer: office\n",
      "choices: ['office', 'notebook', 'school', 'stationary shop', 'desk']\n",
      "common expl list: ['An office setting is the most likely place where a manager would keep a collection of budgets.', 'A ring binder is likely to contain budgets in an office, as budgets are often prepared by office workers.']\n"
     ]
    },
    {
     "name": "stderr",
     "output_type": "stream",
     "text": [
      "\r",
      " 13%|████████████████████▊                                                                                                                                           | 128/986 [1:47:25<21:11:09, 88.89s/it]"
     ]
    },
    {
     "name": "stdout",
     "output_type": "stream",
     "text": [
      "generated explanation: <pad> <extra_id_0> A ring binder is a type of document holder designed for storing documents such as budgets. It is typically used to store documents such as letters, invoices, bills, credit cards, and other important documents. Ring binders are typically found in an office supply store, such as a hardware store, but can also be found in a home or business office. Offices typically have a variety of sizes, styles, and materials, so a ring binder is a great way to store documents, photos, and other important information. Budgets are also a great way to organize documents, and can be used to store documents. The ring binders are typically found in a ring binder, but can be used to store documents, such as a budget, or a budget in a cabinet or a cabinet or in a cabinet or a cabinet. Ring binder is a great way to organize documents, and to create a tidy and easily accessible, and easily accessible, and can be used to access them. It can also be used to organize documents, such as a cabinet or ring binder can be used to store documents in a cabinet or other areas of the budgets, such as a cabinet, or for a cabinet, such as a a cabinet, a desk, or ring binder, or ring binder. This can be used to store documents, or ring binder for ring binder is a great way to store documents, such as a file, or as a ring binder can be used to store documents, such as</s>\n",
      "########\n",
      "*******\n",
      "question: Where do you go when you're about to board a vehicle on railing?\n",
      "answer: railway station\n",
      "choices: ['railway station', 'deck', 'flight of stairs', 'porch', 'bus station']\n",
      "common expl list: ['Trains and busses both commonly make use of rail transportation to facilitate their travel. Railway station is the station they are staking out to board at. Thus, railway station is where you would go if you need to board a vehicle on a', 'Railway stations are where you board trains, which are often on rails.']\n"
     ]
    },
    {
     "name": "stderr",
     "output_type": "stream",
     "text": [
      "\r",
      " 13%|████████████████████▊                                                                                                                                          | 129/986 [1:49:53<25:21:48, 106.54s/it]"
     ]
    },
    {
     "name": "stdout",
     "output_type": "stream",
     "text": [
      "generated explanation: <pad> <extra_id_0> A railway station is a place where passengers can board a train or a vehicle on railings. A railway station is a public place where people can get off and board a train or a vehicle on railings. It is usually located near a railway station, which is usually a large public space, and is a place where passengers can wait for their train or vehicle to arrive. A railway station is usually a place where people wait for their turn to enter the train or vehicle. The station is usually located near a train station is a place where passengers can board a train or train and board a train. The railway station is also a place where people can get off at a train and board a train or bus station. A railway stations are often located in the city, which is a railway station is a place where passengers can wait for their train or other attractions. A railway station is a place to go to board a vehicle on railing a train or a train or bus stop. The station is a place where people can also be a place of refuge from the world's's and conduct a train. A railway stations are usually located in the city, and the station, a station. Stations are often located in the city, which are often located in the city. Stations are often located in the city's, which are located in the centre. Stations are also often used to get information about the route and other services, such as the railway station, or a train, such as stations. Trains depart from the station, which are often a place of interest to get to board a vehicle, or for people to wait for them. This is a place where people can wait for them to wait for their way to get off. The station is a place where they can wait for passengers to get their train and can wait for passengers. The station is a place where they can get off-off-railing station is a convenient place to wait for passengers, and a place to get off-time-of the railway stations are usually located in the city. The railway stations are often closed during the city and the train station, and the city. The station is a place to get a place to wait for them to wait for them to wait for them to wait for them to wait for them to get off the train to\n",
      "########\n",
      "*******\n",
      "question: Where can I go to see a really big toy balloon floating at the top of a dome?\n",
      "answer: circus\n",
      "choices: ['parade', 'circus', 'amusement park', 'birthday party', 'magic show']\n",
      "common expl list: ['Circuses often have big inflatables on the top dome of a tent; inside, they could house various attractions such as clowns, acts, games, rides, food, drinks, etc.']\n"
     ]
    },
    {
     "name": "stderr",
     "output_type": "stream",
     "text": [
      "\r",
      " 13%|█████████████████████                                                                                                                                           | 130/986 [1:50:44<21:23:47, 89.99s/it]"
     ]
    },
    {
     "name": "stdout",
     "output_type": "stream",
     "text": [
      "generated explanation: <pad> <extra_id_0> A circus is an excellent place to see a toy balloon floating in a dome at the top of a building. A circus is an excellent place to see a toy balloon floating at the top of a dome. Circuses are usually held at large venues such as the Circus and the O2 arena, which are usually surrounded by other performers and sights. The biggest toy balloons are usually about the size of a large football. The domes are usually covered in a variety of colors and have a variety of different themes. The circus usually has a large toy balloons are usually set up at large toy toy balloons in the middle of the sun and moonlit nightly show the rings and the performers. The circus also has a variety of other attractions such as live performances and other attractions. For example, the dome is usually a large toyra live entertainment show. The circus offers a variety of activities such as shows, concerts, shows, shows, shows, shows, such as a clown. The toy balloons are inflated by the performers. The toy balloons are a great way to see a variety of different colors and shapes. To see a toy balloons, you can visit a variety of attractions, including the circus shows.</s>\n",
      "########\n",
      "*******\n",
      "question: They got to the door and it was locked, he reached in his jeans what to retrieve the key?\n",
      "answer: pocket\n",
      "choices: ['pocket', 'bus depot', 'lock', 'purse', 'front door']\n",
      "common expl list: ['People often keep their keys in their pockets.', 'Most people keep house keys in their pocket.']\n"
     ]
    },
    {
     "name": "stderr",
     "output_type": "stream",
     "text": [
      "\r",
      " 13%|█████████████████████▎                                                                                                                                          | 131/986 [1:52:01<20:27:01, 86.11s/it]"
     ]
    },
    {
     "name": "stdout",
     "output_type": "stream",
     "text": [
      "generated explanation: <pad> <extra_id_0> He reached into his jeans to retrieve the key. When he reached in his jeans, he found the key in the pocket of his jacket. The key was in the pocket of his jacket, which was a slim jeans with a ripped material that was ripped from the inside of the jeans. The key was a small plastic disc with a metal faceplate, which was attached to the back of the jacket. The key was in the pocket of his jeans, which is a slim fit, lightweight material that is easy to carry and can be carried in the pocket of the key in a key. The key was in the pocket of his jeans, which is a pocket of his jeans, which is a smart way to retrieve the key is in the pocket. The key is a small plastic case, which is a convenient way to retrieve the key from the door. The key is in the pocket of a compact design, making it easy to find. The key is also easy to retrieve, making it is also a great way to get the key from the pocket, making it easy to find the key in a locked door. The key is also easy to carry, making it a great way to get into a purse, and making it a pocket. The key is easy to retrieve the key in a purse or purse, and is placed in the key to retrieve the key in the pocket of a safe and secure place. The key is also easy to carry, making it a<extra_id_27> :</s>\n",
      "########\n",
      "*******\n",
      "question: The car was overheating, where was it located?\n",
      "answer: in phoenix\n",
      "choices: ['airport', \"neighbor's house\", 'in phoenix', 'repair shop', 'street corner']\n",
      "common expl list: ['Phoenix is a hot place, and cars often overheat there.']\n"
     ]
    },
    {
     "name": "stderr",
     "output_type": "stream",
     "text": [
      "\r",
      " 13%|█████████████████████▍                                                                                                                                          | 132/986 [1:53:36<21:03:11, 88.75s/it]"
     ]
    },
    {
     "name": "stdout",
     "output_type": "stream",
     "text": [
      "generated explanation: <pad> <extra_id_0> The car overheated in phoenix, AZ, at a local service station. The service station is a large, modern facility that is located in a central location in Phoenix, Arizona. It is a popular choice for those who need to keep their cars cool during the summer months. The service station is located in a central location in Phoenix, Arizona, and is located near several major highways, shopping centers, and other major attractions. The service station is a central location for many local businesses, restaurants, and other local attractions, such as a car was overheating. The car was in Phoenix, a central location in phoenix, Arizona, and is a great place to take your car to the car and to the car to the station to take advantage of the car in a central location, and save money. The service station is a central location, and is a great place to get car repaired and replace the car in a variety of places, including a central station, which is a convenient to get to the area. The service station is a great choice for owners and for those who want to get the best service station. The service station is also a great place to get the car repaired and for those who need to get their car repaired. The car is also a great choice for those who need to get repairing and replacing the car. The car in a central location in a safe and comfortable place for those who want to get the car in a safe place to get a safe and enjoy the car. The car is located in a safe and a safe place to get the car while driving experience.</s>\n",
      "########\n",
      "*******\n",
      "question: Where is likely to have a walk in type wardrobe?\n",
      "answer: mansion\n",
      "choices: ['recreational vehicle', 'clothes cupboard', 'house', 'mansion', 'bedroom']\n",
      "common expl list: ['As I think of scenarios, the result I expect the most is that of a person with a lot of clothes, or a clothing designer, living in a mansion; these people might have the luxury of a walk in wardrobe.', 'A walk-in wardrobe is a large wardrobe that is usually found in a mansion.', 'A walk in wardrobe is a large type of closet that could be found in a mansion.']\n"
     ]
    },
    {
     "name": "stderr",
     "output_type": "stream",
     "text": [
      "\r",
      " 13%|█████████████████████▍                                                                                                                                         | 133/986 [1:56:02<25:05:04, 105.87s/it]"
     ]
    },
    {
     "name": "stdout",
     "output_type": "stream",
     "text": [
      "generated explanation: <pad> <extra_id_0> A walk in wardrobe is a type of wardrobe that is typically found in a mansion or other similar setting. It is a type of wardrobe that is typically made of wood, metal, or other materials, such as wood, metal mesh, or plastic. It is typically found in large spaces such as mansions, castles, and grand mansions. It is a type of wardrobe that is typically made of wood, metal, or other materials, and is typically located in a mansion or other similar setting. It is a mansion or estate that is likely to have a walk in the wardrobe in a mansion or other spaces in a mansion or other buildings in a mansion or other places such as a grander space. The wardrobe is often located in a large open to the room. The walk in a mansion is likely to accommodate guests and guests. The mansion is also likely to have a large number of different styles of décor and features a mansion. The walk in a mansion is likely to have a walk in a mansion or other types of mansion. In a mansion, the walk in a mansion is likely to have a larger size than a mansion or a mansion. The walk in a mansion is likely to have a mansion or other rooms in a mansion or other features such as a mansion or a mansion or other similar features such as a mansion or other features such as a separate entrance, a walk in the mansion is likely to have a larger space, such as a large room, or a mansion or a mansion, the walk in a mansion is likely to have a larger space, such as a mansion in a mansion, the walk in a mansion or other mansion is likely to have a mansion is likely to have a mansion, such as a large mansion, such as a large, such as a large<extra_id_27> </s>\n",
      "########\n",
      "*******\n",
      "question: How bad is the punishment for someone who is over indulgent?\n",
      "answer: severe\n",
      "choices: ['severe', 'harsh', 'hard', 'strict', 'self denying']\n",
      "common expl list: ['Overindulgence in anything is bad, possibly leading to lethargy, poor health, overspending, and the like. As a result of this, a punishment for a person who is over-indulgent could be severe.']\n"
     ]
    },
    {
     "name": "stderr",
     "output_type": "stream",
     "text": [
      "\r",
      " 14%|█████████████████████▋                                                                                                                                          | 134/986 [1:57:24<23:21:16, 98.68s/it]"
     ]
    },
    {
     "name": "stdout",
     "output_type": "stream",
     "text": [
      "generated explanation: <pad> <extra_id_0> : The punishment for someone who is over indulgent is severe. It can be as severe as a death sentence, prison time, or even death by hanging. The punishment for someone who is over indulgent can be as severe as a life sentence, with the possibility of both. The punishment for someone who is over indulgent can range from a fine to life in prison. The punishment for someone who is over indulgent can be as severe as a death sentence, or it can be as mild as a fine. The punishment for someone who is over indulgent can be severe as a life-times can include a life sentence or even a life sentence. The punishment for someone who is over indulgent is overindulentired can include a life sentence, or a prison term. The punishment for someone who is over indulgent can be severe depending on how much they are able to cope with the temptations of the need to cope with the temptation. The punishment for someone who is over indulgent is overindunt be severe because it can be a life-time. The punishment for someone who is over indulgent is likely to be severe. The punishment for someone who is over indulgent is likely to suffer from a serious and suffering. The punishment for someone who is over indulgent is over indulgent is likely to suffer. The punishment for someone who is over indulgent is over indulgent is likely to over a severe punishment for someone who is over indulgent is likely to get rid of the need to live.</s>\n",
      "########\n",
      "*******\n",
      "question: She was going to bed at 11 at night, what was she looking to do?\n",
      "answer: falling asleep\n",
      "choices: ['falling asleep', 'relaxing', 'rest', 'dreaming of', 'laziness']\n",
      "common expl list: ['Falling asleep is often a desired result when going to bed.', \"People go to bed when they're tired and want to sleep\"]\n"
     ]
    },
    {
     "name": "stderr",
     "output_type": "stream",
     "text": [
      "\r",
      " 14%|█████████████████████▉                                                                                                                                          | 135/986 [1:58:17<20:06:52, 85.09s/it]"
     ]
    },
    {
     "name": "stdout",
     "output_type": "stream",
     "text": [
      "generated explanation: <pad> <extra_id_0> She was going to bed at 11 at night because she was looking for something to do that was not as difficult as falling asleep. Falling asleep is a natural process that can be initiated by the body and mind. It is a process that can be initiated by the body and is a natural response to the environment. It is a natural process that can be initiated by the mind and body. It is a natural process that can be initiated by the body and the mind. It can be initiated by the body and the mind. It can be a good habit. It can be difficult for women to get to sleep at night because it is difficult to get to sleep. It is a difficult task for women who are going to fall asleep at 11 at night. It can be a difficult to get to get to sleep at night. It is a process that takes time. It can also take time for them to get to get to sleep. It can take some time for women who are going to get up and ready to fall asleep quickly. It can also be difficult for women who are going to sleep at night. It can be a difficult for them to get to get to get to fall asleep. It can be a time to get to fall asleep and a good time to get into a lot of emotions.</s>\n",
      "########\n",
      "*******\n",
      "question: A company with the moniker of Big Sky Excavation would probably be found where?\n",
      "answer: montana\n",
      "choices: ['a forest', 'city', 'egypt', 'montana', 'desert']\n",
      "common expl list: ['Mountain ranges are often called \"big sky\"s. The term is popular for companies in Montana, a state with lots of mountians, including two major mountain ranges.']\n"
     ]
    },
    {
     "name": "stderr",
     "output_type": "stream",
     "text": [
      "\r",
      " 14%|██████████████████████                                                                                                                                          | 136/986 [1:59:14<18:02:25, 76.41s/it]"
     ]
    },
    {
     "name": "stdout",
     "output_type": "stream",
     "text": [
      "generated explanation: <pad> <extra_id_0> Big Sky Excavation is a company that specializes in the excavation of mountain peaks and other natural resources in the Rocky Mountains of North America. The company would be based in Big Sky, which is located in the western part of the state of Montana. The company would be based in the town of Big Sky, which is located in the northern part of the state. The town of Big Sky is a mountainous area in the western United States, and is home to the Rocky Mountain National Park, which is home to the highest a few other state. The company would be found in the state of Montana, which is home to the state of the Rocky Mountaineology of the western United States. The mountains of the western region of the western portion of the western United States. The mountaines are located in the western United States, and the western United States. The state is home to a variety of geological and geologically rich in the region, which is home to many other parts of the western United States. The state of Montana is home to many of the western part of the Rocky Mountains, which is home to many of the western part of the United States. The company is also home to several other mining and mining opportunities for tourism. The company is also located in the western United States, which is home to many other national parks, which is home to many of the state.</s>\n",
      "########\n",
      "*******\n",
      "question: Which horseman of the apocalypse is often depicted next to death?\n",
      "answer: war\n",
      "choices: ['battlefield', 'the healer.', 'funeral', 'war', 'hospital']\n",
      "common expl list: ['A time of war is also often associated with someone dying.']\n"
     ]
    },
    {
     "name": "stderr",
     "output_type": "stream",
     "text": [
      "\r",
      " 14%|██████████████████████▏                                                                                                                                         | 137/986 [2:00:07<16:22:20, 69.42s/it]"
     ]
    },
    {
     "name": "stdout",
     "output_type": "stream",
     "text": [
      "generated explanation: <pad> <extra_id_0> The horseman of the apocalypse is often depicted next to death because of his role in the war and the end of the world. In the movie, the horseman of the apocalypse is a horseman who is a symbol of death and destruction. The horseman of the apocalypse is often depicted next to death because of his role in the end of the world and the end of the world. The horseman of the a war is a symbol of death and the end of the world. The horseman of the world war is often depicted as apoca war. The horseman of the end of the end of the world is apocapocapocapocapocapocapocapocapocapocapocapocadopese, apocapoca apocapocapocapocapocapocapocapocapocapocapocapocapoca war and death. The horseman of apocapocapocapocapocapocapocapocapocapocapocapocapocapocapocapocapocapoca</s>\n",
      "########\n",
      "*******\n",
      "question: What could be used to write with a steel pen?\n",
      "answer: hand\n",
      "choices: ['warehouse', 'arm', 'hand', 'desk drawer', 'veterinary office']\n",
      "common expl list: ['Using a steel pen requires someone to hold it, and we associate writing with hands. Powder can be used with steel pens as a \"contrast medium.', 'you write with a steel pen using your hand.']\n"
     ]
    },
    {
     "name": "stderr",
     "output_type": "stream",
     "text": [
      "\r",
      " 14%|██████████████████████▍                                                                                                                                         | 138/986 [2:01:36<17:43:44, 75.27s/it]"
     ]
    },
    {
     "name": "stdout",
     "output_type": "stream",
     "text": [
      "generated explanation: <pad> <extra_id_0> A steel pen is a type of writing instrument that is typically used in industrial settings. It is typically used to write with a pencil or ballpoint pen. It is also used to write with a mechanical pencil, which is a type of writing instrument that is typically made of steel. It is typically used to write with a pencil or ballpoint pen, which is typically made of plastic or metal. It is typically used to write on paper, but it can also be used to write with a pencil or ballpoint pen. It is a writing instrument that is also used to write with a steel pen. It is a pen that is usually used to write with a pencil or pencil is used to write with a pen is a steel pen that is usually made of steel, or a mechanically made of steel, such as a pen. It is usually used to write with a steel pen that is made of metal, which is made of steel. It is a type of steel pen that is made of a steel pen that is made of a steel a pen made of metal and is usually made of steel. Steel pen is a pen is a type of steel pen and is made of steel, and is made of steel, and is typically made of steel, which is made of steel. It is made of steel, and is made of steel, which is made of steel, which is made of steel. It is made of steel and is made of metal, which is made of plastic, which is made of steel and is made of plastic, which is made of steel, which is made of steel, which is made of steel.</s>\n",
      "########\n",
      "*******\n",
      "question: I needed to find out how to contact a person with a certain name, where should I look?\n",
      "answer: phone book\n",
      "choices: ['directory', 'michigan', 'roster', 'phone book', 'certificate']\n",
      "common expl list: [\"Phone books are used to find people's phone numbers.\", 'Phone books are usually a good source for finding phone numbers to call other people.', 'A phone book is likely to have the phone numbers of nearby people.', 'People are listed in phone books for easy access by callers.']\n"
     ]
    },
    {
     "name": "stderr",
     "output_type": "stream",
     "text": [
      "\r",
      " 14%|██████████████████████▌                                                                                                                                         | 139/986 [2:03:47<21:40:09, 92.10s/it]"
     ]
    },
    {
     "name": "stdout",
     "output_type": "stream",
     "text": [
      "generated explanation: <pad> <extra_id_0> The phone book is a great place to find a contact person with a certain name. It is a great way to find out how to contact a certain person with a certain name. Phone books are a great way to find out who a person is and how to contact them. Phone books are a great way to find out who a person is by contacting them by phone. Phone books are a great way to find out who a person is by calling the number provided by the phone book. Phone books are a great way to find out who is who is who is who is calling you can call. Phone books are also a great way to find out how to contact someone by using the phone book. Phone books are also a great way to find out how to contact someone with if they are able to find out who is who is a person by using the phone book. Phone books can also be used to find out who is who is who is who is who is who is who is who is a certain name. Phone books can also be used to find out who is a good way to find out who is known by a certain name. Phone books are also a great way to find out who is known by a person by if they are a good way to find out who is known by if they are known by a certain person by their name. Phone books can be used to find out how to contact a person by calling them by using the phone book to find out who is calling and who is calling. They can also be a phone book can provide if they are looking for information about them by the person by their name and their name. Phone books can be used to find out who they are anonymous and how to contact someone by if they are not a person by their name, and how to contact someone by their name. Phone books are responsible for a person's name and how to call them, who they are calling someone who is calling someone by name, and how to call them.</s>\n",
      "########\n",
      "*******\n",
      "question: What is important for a couple to do?\n",
      "answer: communicate\n",
      "choices: ['live together', 'row about', 'plan to marry', 'communicate', 'marry each other']\n",
      "common expl list: ['Couples who communicate well are more likely to stay together, and thus, it is important for a couple to communicate.', 'Communication is a key part of a healthy relationship and - often equally as important - is the commitment to communicate effectively.', \"To make a relationship work, it's very important to communicate with each other.\"]\n"
     ]
    },
    {
     "name": "stderr",
     "output_type": "stream",
     "text": [
      "\r",
      " 14%|██████████████████████▋                                                                                                                                         | 140/986 [2:05:12<21:10:38, 90.12s/it]"
     ]
    },
    {
     "name": "stdout",
     "output_type": "stream",
     "text": [
      "generated explanation: <pad> <extra_id_0> Communicate is an important part of a healthy relationship. It is important for couples to take time to understand each other and each other. It is important to take time to understand each other and to communicate their needs and wants. It is also important for couples to remember that communication is important for a healthy relationship. Communication is the key to a healthy relationship. It is important for couples to understand each other and to be able to recognize each other’s needs and wants. Communication is important for couples because it allows them to better understand each other. It is also important for couples to understand each other’s needs and how to make decisions. It is important for couples to understand their differences and to communicate their needs. It is important for couples to understand each other and to understand each other. Communication is important for couples to understand each other’s needs and how they are important for them to support each other. It is important to remember that they are a healthy relationship because it allows them to feel secure and support each other’s needs. It is also important for couples to recognize each other’s wellbeing and support each other’s needs. It is important to understand each other’s needs and wants. It is important to communicate with each other’s needs and wants and needs. It is important for couples to understand each other and wants. It is important to remember that we are together because it helps to keep them safe and supports each other. It is important to communicate and supports each other. It is also important to communicate with each other and support each other. It is important to communicate and needs. It is important to remember that communication is important to understand each other and to understand each other and wants. It helps to understand each other and<extra_id_27> </s>\n",
      "########\n",
      "*******\n",
      "question: The botanist knew the plant was living, what did he observe that led him to know that?\n",
      "answer: respiration\n",
      "choices: ['interaction', 'death', 'respiration', 'expiration', 'chlorophyll']\n",
      "common expl list: [\"The teacher commonly noted that plants give off oxygen as a result of respiration, which helps fuel their energy and growth. This was evidence of a plant's life.\"]\n"
     ]
    },
    {
     "name": "stderr",
     "output_type": "stream",
     "text": [
      "\r",
      " 14%|██████████████████████▉                                                                                                                                         | 141/986 [2:05:44<17:00:46, 72.48s/it]"
     ]
    },
    {
     "name": "stdout",
     "output_type": "stream",
     "text": [
      "generated explanation: <pad> <extra_id_0> The botanist knew the plant was living because he observed breathing. Breathing is the process of oxygen passing through the plant's body and transferring oxygen to the atmosphere. When plants breathe, they are breathing. Breathing is the process of transferring oxygen from one place to another. This process is referred to as respiration. The process of respiration is a sign that the plant is breathing. It is the process of transferring oxygen from one place to another. When a plant breathes, it is breathing. It is a signifying plant is breathing. This is because it is the plant is breathing is alive. It is the plant is breathing is the process of the oxygen being breathes oxygen reaching the atmosphere. This is a sign that the plant is breathing. It is a sign that the plant is breathing and registering the plant is breathing. It is also a sign that the plant is breathing. This is a sign that the plant is breathing and is alive. The plant is breathing is a sign that the plant is alive. It is also known as a living plant is breathing.</s>\n",
      "########\n",
      "*******\n",
      "question: What is it called when teens are together not doing anything in particular?\n",
      "answer: hang out\n",
      "choices: ['smoke', 'homework', 'volunteer', 'party', 'hang out']\n",
      "common expl list: ['Hanging out\" is used to describe events where people are socializing, doing nothing in particular. Other events include hanging out with a purpose (doing homework, studying outside, going shopping, etc.).', 'Hang out is a term that could be used for teens hanging out together, typically with no particular agenda.']\n"
     ]
    },
    {
     "name": "stderr",
     "output_type": "stream",
     "text": [
      "\r",
      " 14%|███████████████████████                                                                                                                                         | 142/986 [2:06:27<14:56:32, 63.73s/it]"
     ]
    },
    {
     "name": "stdout",
     "output_type": "stream",
     "text": [
      "generated explanation: <pad> <extra_id_0> Hanging out is when teens are together not doing anything in particular not doing anything special. It is a form of socializing that teens use to bond and have fun. Hanging out is a form of socializing that teens use to have fun and have fun together. Hanging out is a form of socializing that teens use to have fun and have fun. It is a social activity that teens engage in together, and it is a form of bonding. It is a time for teens to be together without doing anything specific. It is a form of bonding activity that teens use to have fun activities such as games, movies, sports, or a fun activity. It is a form of a social activity that teens can be used to have fun and have fun activities such as playing video games, or playing games. It is a form of a social time spent together. It is a time of a socializing and helps them to have fun. It is also a form of communication between teens. Hanging out is a time of bonding and can be used to have fun and enjoyable time with each other activities such as sports, playing, playing games, or just being with friends. Hang out is a time of time to spend together and socializing. It is a great way to have fun and bonding with their friends. It is a great way to spend quality time with friends and to have fun and make new memories.</s>\n",
      "########\n",
      "*******\n",
      "question: The saw was not necessary for car repair, so what wasn't it included with during pucrhase?\n",
      "answer: tool kit\n",
      "choices: ['tool shed', 'tool box', 'tool kit', 'hardware store', 'toolbox']\n",
      "common expl list: ['A saw is another name for a cutting tool, but they are often not included with a tool kit, because a kit is used for other repair needs (bolts, screws, bindings, etc.), and a saw is not required for a car repair']\n"
     ]
    },
    {
     "name": "stderr",
     "output_type": "stream",
     "text": [
      "\r",
      " 15%|███████████████████████▏                                                                                                                                        | 143/986 [2:07:03<12:56:38, 55.28s/it]"
     ]
    },
    {
     "name": "stdout",
     "output_type": "stream",
     "text": [
      "generated explanation: <pad> <extra_id_0> The saw is not necessary for car repair, so it was not included with tool kit during pucrhases. Tool kits are designed to help you make the most of your time and money when doing car repair. The saw is a powerful and versatile tool that can be used to cut, saw, and cut<extra_id_2> The saw is designed to be used in a variety of applications, including automotive repair, construction, and other types of work. It can also be used to cut metal, plastic, and other materials. The saw is easy to use to work and to carry around with you. It is not necessary for car repair and can be used to cut metal, and is important for any car repair. It can be used to cut metals, and used to cut, and other tools used in a variety of different types, and is available for car repairs. It can be used to cut metal, or used to cut any other parts that can be used to cut metal, or other types of wood, such as table saws, and other types of tools. It can be used to cut through metal or to cut through the material. It can be used to cut through various types of wood, including replaces, such as abrake, or to cut metal.</s>\n",
      "########\n",
      "*******\n",
      "question: Where will my kid put their coin in their room?\n",
      "answer: piggy bank\n",
      "choices: ['piggy bank', 'wishing well', 'parking meter', 'under pillow', 'change purse']\n",
      "common expl list: ['Kids commonly save small amounts of money for later use, and these savings are often kept in piggy banks.', 'Piggy banks are often used to store coins.']\n"
     ]
    },
    {
     "name": "stderr",
     "output_type": "stream",
     "text": [
      "\r",
      " 15%|███████████████████████▎                                                                                                                                        | 144/986 [2:08:01<13:07:25, 56.11s/it]"
     ]
    },
    {
     "name": "stdout",
     "output_type": "stream",
     "text": [
      "generated explanation: <pad> <extra_id_0> Kids love to put their coin in a piggy bank in their room because it is a convenient way to store their money and it is easy to access from any room. Kids can put their coin in a piggy bank in their room and it is easy to access from any device. Kids can also put their coin in a coin purse or coin purse. Kids can also put their coin in a piggy bank in their room to keep track of how much money they have earned. Kids love to put coins in their piggy banks because they can easily access their money and easily find it. Piggy banks are also convenient to keep their money safe and clean up after they have been a clean and dry. The money they can also be a piggy bank in their room and safe place. They can also be stored in their room. The money in their room, they can easily access from the outside of their room. The piggy bank can be used to keep their money in their room for use to spend. The money can be easily access from their room. The money can also be used to save their future purchases. The money can be used to make purchases and to make a gift or to make purchases. The money can be used to make purchases or to make a purchase a variety of different coins that can be used to make purchases or to make a variety of games, crafts, or as a piggy bank can be used to make purchases or to make a piggy bank. The money can be transferred from room to make purchases or used to buy new toys, or to make a variety of different types of games, such as a laptop, or a variety of toys, or for other activities. If your child’s school supplies, or make a piggy bank for futures or a variety of activities.</s>\n",
      "########\n",
      "*******\n",
      "question: Where is a fire extinguisher likely to be found behind the seat?\n",
      "answer: school bus\n",
      "choices: ['school bus', 'house', 'garden', 'stairwell', 'garage']\n",
      "common expl list: ['Fire extinguishers are required on public-transit vehicles, such as school buses.']\n"
     ]
    },
    {
     "name": "stderr",
     "output_type": "stream",
     "text": [
      "\r",
      " 15%|███████████████████████▌                                                                                                                                        | 145/986 [2:08:31<11:16:37, 48.27s/it]"
     ]
    },
    {
     "name": "stdout",
     "output_type": "stream",
     "text": [
      "generated explanation: <pad> <extra_id_0> A fire extinguisher is likely to be found behind the seat of a school bus because it is a convenient and convenient way to extinguish a fire. School buses are designed to be safe and secure, and to provide a sense of security. A fire extinguisher is a necessary tool for keeping a fire under control. A fire extinguisher is typically located behind the seat of a school bus. This is because school buses are often crowded, and the need for a fire is often occurs when a school bus is needed to extinguishing a fire extingut be found behind the seat of the school bus is a school bus is a school bus is a school bus. The school bus is often a school bus, and safety feature such as a fire extingedos. The school bus seats are often parked school buses, and other features such as a fire exting a school bus, which is a school bus with a school bus that is a school bus that is a school. The school bus is a school bus because it is a school bus, and a school bus is a school bus because of the school bus is often a school. The school bus is a school bus because it is a school bus that is a school bus that is a school bus. The school bus is a school bus<extra_id_27> </s>\n",
      "########\n",
      "*******\n",
      "question: His therapist said he had to get out there and begin socialising, it was the only was to start what?\n",
      "answer: friendships\n",
      "choices: ['conflicts', 'having fun', 'jealousy', 'getting out there', 'friendships']\n",
      "common expl list: ['Interacting with other people socially is likely to result in making new friends.', 'His therapist said that he needed to speak to people if he wanted to be less withdrawn. This would help him to get out of his shell.']\n"
     ]
    },
    {
     "name": "stderr",
     "output_type": "stream",
     "text": [
      "\r",
      " 15%|███████████████████████▊                                                                                                                                         | 146/986 [2:08:55<9:37:10, 41.23s/it]"
     ]
    },
    {
     "name": "stdout",
     "output_type": "stream",
     "text": [
      "generated explanation: <pad> <extra_id_0> He was told to get out there and start socialising because it was the only way to start building relationships and making new ones. He was told to do this because it was the only way to start building a relationship and making new connections. This is because it is the only way to start building new friendships and making new relationships. This is because it is the only way to start building new relationships and making new friends. This is because it is the only way to start building new friendships and making new connections. It is the only way to start conversations with people and to start making new friends and making new friends and making new friends. This is important because it is the only way to start building new friends and to start building new friends. It is the only way to start building new relationships and making new friends. This is the only way to start building new friendships and making new friends. It is the only way to start building new friends and making new friends. This is the only way to start building new friendships. It is the only way to start building new relationships and making new friends. It is the only way to start building new friendships. It is the only way to start building new friends. It is the only way to start building new friendships and making new friends. It is the only way to start building new friendships. It is the only way to start building new relationships and making new friends. It is the only way to start building new friendships and making new friends. It is the only way to start building new connections and making new ones. It is the only way to start building new friendships and a new<extra_id_27> </s>\n",
      "########\n",
      "*******\n",
      "question: What is likely true about a dog that escapes regularly?\n",
      "answer: very smart\n",
      "choices: ['very smart', 'very loyal', 'tired', 'friendly', 'faithful']\n",
      "common expl list: ['Intelligent dogs (especially when concerned with food and treats) who are looking for some form of freedom will have the intelligence to escape regularly.']\n"
     ]
    },
    {
     "name": "stderr",
     "output_type": "stream",
     "text": [
      "\r",
      " 15%|████████████████████████                                                                                                                                         | 147/986 [2:09:06<7:25:48, 31.88s/it]"
     ]
    },
    {
     "name": "stdout",
     "output_type": "stream",
     "text": [
      "generated explanation: <pad> <extra_id_0> A dog that ekes out a routine escape is a very smart and responsible dog. It is a very intelligent dog that is likely to be a good watchdog and a good watchdog. A dog that escapes regularly is likely to be very intelligent, and this intelligence can be used to predict the direction of an approaching vehicle or person. It can also be used to escape from a home or another place. This intelligence can be used to predict the direction of an approaching vehicle or person. This intelligence can be used to predict the dog’s behavior. It is important for dogs that are a very smart dog that are likely to be very smart. It is important to keep dogs from being chase or chase other dogs away from being surrounded. It is also important for dogs that are a good watchdog’s attention and to be very smart. It can be used to keep an eye on them and to avoid danger. It is important to ensure that the dog is safe and secure. This intelligence is important because it can be used to prevent a dog from being a responsible dog from being displaced or other animals. It is also important to keep dogs that are not a dog from being distracted. This is important because it can be used to keep an eye on them and can also be used to track and can be used to prevent them from being displaced. It can be used to keep them safe and secure. This helps to keep them safe and vigilant and secure. It is also important to keep them safe and secure. This is important because dogs that are<extra_id_27> </s>\n",
      "########\n",
      "*******\n",
      "question: If you're going to a party in an alley, what is likely to happen?\n",
      "answer: doing drugs\n",
      "choices: ['call the police', 'doing drugs', 'new contacts', 'making new friends', 'plan']\n",
      "common expl list: ['Alleys are associated with crime; and, people performing illegal drugs at a party is illegal.', 'People going to parties in an alley are often going to do drugs and vice.', 'People often do drugs at parties, and alleys are often used for parties.']\n"
     ]
    },
    {
     "name": "stderr",
     "output_type": "stream",
     "text": [
      "\r",
      " 15%|████████████████████████▏                                                                                                                                        | 148/986 [2:09:28<6:46:09, 29.08s/it]"
     ]
    },
    {
     "name": "stdout",
     "output_type": "stream",
     "text": [
      "generated explanation: <pad> <extra_id_0> Having a party in an alley is a common way for people to get high. Having a party in an alley is a great way to get high and avoid the temptation of taking drugs. Having a party in an alley is a great way to stay safe and enjoy yourself. Having a party in an alley is a great way to keep yourself and your friends safe and active. Having a party in an alley is a great way to stay safe and active while having a great way to get high. a party in an alley is also a great way to get high. Getting high is also a great way to get high level of fun. a good time of drinking is also a great way to get high and get high. During a party in an alley is a great way to get high and get high. The drugs can also make you feel good time and make it easier to get high. Getting high is a great way to get high on the night. It's also makes it a great way to get high and stay in the moment. It's important to remember that you can make sure you stay safe and safe. a good way to keep you safe and a high and keep you safe and safe. Since you are in an alley, it is a good way to keep you safe and a safe and happy.</s>\n",
      "########\n",
      "*******\n",
      "question: The man was very tired and sore, he decided to stay in bed to what?\n",
      "answer: rest more\n",
      "choices: ['rest more', 'lazy', 'were sick', 'to be sick', \"you're sick\"]\n",
      "common expl list: ['The man was tired and sore, so he decided to rest more.', \"When people are sick, they tend to rest, as it's the most sensible thing.\", 'The man was so tired and sore, he just wanted a break. His illness would keep him in bed.']\n"
     ]
    },
    {
     "name": "stderr",
     "output_type": "stream",
     "text": [
      "\r",
      " 15%|████████████████████████▎                                                                                                                                        | 149/986 [2:09:46<5:57:20, 25.62s/it]"
     ]
    },
    {
     "name": "stdout",
     "output_type": "stream",
     "text": [
      "generated explanation: <pad> <extra_id_0> The man decided to stay in bed to rest more because he was very tired and sore. Resting is important for everyone, and a man can get a lot of benefit from it. Resting is important for everyone, but it can also lead to depression and anxiety. It can also help to reduce stress and anxiety. Getting enough rest can help reduce the risk of developing a heart attack, stroke, or stroke. Getting enough rest can help to reduce the risk of developing a stroke. Getting enough rest can help to help the man to recover faster and less stress can help reduce the chances of injury. Rest helps to relax and reduce stress and reduce fatigue. Rest is also important for everyone as it can help to reduce stress and reduce stress and reduce stress and anxiety. It can also be used to help to reduce stress and anxiety. It can also help to reduce stress and help to reduce stress. It can also help to reduce stress and anxiety and stress and help to reduce stress and depression. Rest can help ease stress and improve mood and health. It can also help to reduce the stress and reduce the stress and fatigue. It can also be a person’s mood swings and helps to regain energy and fatigue. It can also help to reduce depression and anxiety. It can also help to relax and reduce stress and stress.</s>\n",
      "########\n",
      "*******\n",
      "question: He was back in his hometown, he was planning on having fun and doing what?\n",
      "answer: visiting friends\n",
      "choices: ['being understood', 'hug', 'rambling', 'kiss', 'visiting friends']\n",
      "common expl list: ['If a person went back to their hometown, they might be glad to see their old friends, and visit them while they are there.', 'If a person is back in their hometown, they might visit their friends, who they might not see very often.', 'People usually visit their friends when they return to a town where they previously used to live, because their friends would have missed them.']\n"
     ]
    },
    {
     "name": "stderr",
     "output_type": "stream",
     "text": [
      "\r",
      " 15%|████████████████████████▍                                                                                                                                        | 150/986 [2:09:54<4:43:20, 20.33s/it]"
     ]
    },
    {
     "name": "stdout",
     "output_type": "stream",
     "text": [
      "generated explanation: <pad> <extra_id_0> He was back in his hometown, planning on having fun with his friends. Visiting friends is a great way to meet new people and spend time with them. Visiting friends is a great way to reconnect with old friends and make new ones. Visiting friends is a great way to spend time with new people and make new friends. Visiting friends allows you to spend time with new people and make new connections. Visiting friends allows you to spend more time with the people you care about. Visiting friends allows you to spend more time with them. It also allows you to meet up with new friends and making new people. During the weekend, he can enjoy the city and visit with friends. During his trip, he can enjoy the city. During his trip, he can also enjoy the sights of the city and visit with new sights and sounds of the city. During his hometown, he can enjoy the sights of the city. During his trip, he can enjoy the sights of his hometown and enjoy the sights. While a relaxing and the city, he can also enjoy the sights and sounds of the city. The trip ended with friends can enjoy the sights of their hometown and share stories.</s>\n",
      "########\n",
      "*******\n",
      "question: Where is basketball court likely to be outdoors?\n",
      "answer: city\n",
      "choices: ['high school gymnasium', 'city', 'park', 'use', 'los angeles']\n",
      "common expl list: ['Basketball courts are often urban.', 'Most American cities have basketball courts in public parks.', 'Basketball courts are often found in city parks.', 'Basketball courts are likely to be at parks and recreational centers in cities.']\n"
     ]
    },
    {
     "name": "stderr",
     "output_type": "stream",
     "text": [
      "\r",
      " 15%|████████████████████████▋                                                                                                                                        | 151/986 [2:10:58<7:45:23, 33.44s/it]"
     ]
    },
    {
     "name": "stdout",
     "output_type": "stream",
     "text": [
      "generated explanation: <pad> <extra_id_0> A basketball court is a surface that is typically constructed outdoors, in a city or urban environment. It is often located in a public area such as a park, playground, or park, and is often located outdoors. This makes the court a more attractive option for many people, especially those with limited outdoor space. The court is located in a city or park because it is usually located in an area such as a city or park. The court is typically located in an open area, such as a street or park, and is often located in a city. The court is usually located in a city or in a city is located in a city, and is often located in a suburb. In a city, the basketball court is often located in a city, the court is often located in a court. In addition, the court is often located in a park, and is also often located in a neighborhood. The court is often located in a suburb or city. The court is often located in a city or in a large city. In a city, the court is often located in a residential area, with a large number of people using the court. The court is often located in a busy street, or in a large urban area, such as a suburb. In a city, the court is often located in a city or in a large park or in a residential area where the park. The court is often located in a large area such as a suburb. The court is located in a park, which is often located in a city, or in a large area where the court is typically located in a large area where it is often located in a city or a city, such as a shopping area, or park, such as a park, or a park, a city, such as a large city, or park or park. In a city, the court is located in a park, the court is located.</s>\n",
      "########\n",
      "*******\n",
      "question: When you want to get the skin off of an apple, you do what to it?\n",
      "answer: peel\n",
      "choices: ['seeds inside', 'stems', 'peel', 'grocery store', 'green market']\n",
      "common expl list: ['Apples have a skin that can be peeled off.', 'Skin is something you peel from fruits like apples, peaches, oranges, kiwi, etc...']\n"
     ]
    },
    {
     "name": "stderr",
     "output_type": "stream",
     "text": [
      "\r",
      " 15%|████████████████████████▊                                                                                                                                        | 152/986 [2:11:09<6:11:15, 26.71s/it]"
     ]
    },
    {
     "name": "stdout",
     "output_type": "stream",
     "text": [
      "generated explanation: <pad> <extra_id_0> Peeling an apple is a popular and effective method of removing the skin from an apple. It is a quick and easy way to remove the skin from an apple, allowing you to remove the core of the apple and its core, as well as the skin. The peeling process is a quick and easy way to remove the skin from an apple. The peeling process involves a number of steps, including removing the skin, the flesh, and the outer layer of the skin. The peeling process involves removing the skin, which is a number of steps. The skin is a simple process, and it is a method of removing the skin off an apple. The peeling process of removing the skin is a simple process. The skin is removed the flesh, removing the skin of an apple and a simple process. The peeling process is a safe and easy way to remove the skin from an apple, and the skin from an apple’s skin. The peeling process involves removing the skin from the apple’s removing the skin and removing the skin from the removing the re removing the skin from the inside of the apple. Peeling is a safe and safe for your family and your apple’s’s a safe and </s>\n",
      "########\n",
      "*******\n",
      "question: Where could you put some knives if you are planning to bring them outside with you?\n",
      "answer: backpack\n",
      "choices: ['purse', 'backpack', 'drawer', 'sporting goods store', 'kitchen']\n",
      "common expl list: [\"To carry knives on one's person, you need some small type of container to hold the knives. Perhaps the most likely place to carry a small container is a backpack.\", \"Knives are usually brought along if hiking, camping, fishing, or other outings, and backpacks make it easy to transport one's belongings.\"]\n"
     ]
    },
    {
     "name": "stderr",
     "output_type": "stream",
     "text": [
      "\r",
      " 16%|████████████████████████▉                                                                                                                                        | 153/986 [2:11:37<6:17:45, 27.21s/it]"
     ]
    },
    {
     "name": "stdout",
     "output_type": "stream",
     "text": [
      "generated explanation: <pad> <extra_id_0> A backpack is a great way to store knives if you are planning to take them outside. Backpacks are usually made of a durable material that is easy to carry and clean. They are also lightweight and easy to store. Knives are often used to cut vegetables, fruits, and other small objects. Backpacks are also ideal for storing small items such as small items like fruit, nuts, and other small items. Backpacks are also a great way to store items such as small jewelry, clothing, and other small pockets. Additionally, backpacks are also a great way to store knives. They are also easy to carry and can be easily transported with you. They can also be easily stored in a variety of different materials, making them easily accessible. They are also a great way to store knives and other small items like scissors, and other items such as a backpack. They can be easily carried with you to carry them with you when you are planning to get them with you to carry them with you on the go when you are planning to take them with you. They can also be used to carry them with you if you are planning to take them with you. This is a great option if you are planning to bring knives with you to take them with you to carry them with you. Backpacks can be used to carry other items such as if you are planning to carry them with you. They can be used to store other items such as a purse, or a backpack or even be used for other items such as knives.</s>\n",
      "########\n",
      "*******\n",
      "question: John watches the well dressed people from a catwalk above the stage.  He listens to them speak rehearsed lines while the audience listens.  Where is he/\n",
      "answer: theatre\n",
      "choices: ['theatre', 'new york city', 'fashion show', 'construction site', 'school play']\n",
      "common expl list: ['Theatres have catwalks where people might observe and listen to actors.']\n"
     ]
    },
    {
     "name": "stderr",
     "output_type": "stream",
     "text": [
      "\r",
      " 16%|█████████████████████████▏                                                                                                                                       | 154/986 [2:11:56<5:41:23, 24.62s/it]"
     ]
    },
    {
     "name": "stdout",
     "output_type": "stream",
     "text": [
      "generated explanation: <pad> <extra_id_0> John is watching the actors from a catwalk above the stage. The audience watches the actors from the catwalk above the stage as they speak rehearsed lines while the audience listens. The actors are all wearing well-dressed costumes and putting on their best performances. The actors are all well-dressed and well-dressed. The audience is the audience and John is watching from a catwalk above the stage. The audience is the audience and John is watching from the catwalk. The audience is the actors perform their lines. The actors are all well dressed and are giving the actors as they perform. John is watching the actors as they perform and the scenes. The actors are all performing their lines and are all over the audience. The actors are all wearing costumes, and are all performing in the roles. The actors are all well-dressed and well-dressed. The actors are all performing their best and are well-dressed. The actors are well dressed and well-dressed. The audience is watching the actors as they are speaking lines. The actors are well-dressed and look good-known for their well-dressed. The actors are well-dressed</s>\n",
      "########\n",
      "*******\n",
      "question: If I am creating art and have completed it to satisfaction, what is my feeling?\n",
      "answer: enlightenment\n",
      "choices: ['enlightenment', 'tired', 'frustration', 'relax', 'controversy']\n",
      "common expl list: ['Enlightenment is the label for a moment of clarity, and the word is often applied to artists who have created something unique or daring.']\n"
     ]
    },
    {
     "name": "stderr",
     "output_type": "stream",
     "text": [
      "\r",
      " 16%|█████████████████████████▎                                                                                                                                       | 155/986 [2:12:29<6:16:24, 27.18s/it]"
     ]
    },
    {
     "name": "stdout",
     "output_type": "stream",
     "text": [
      "generated explanation: <pad> <extra_id_0> When I am creating art, I am experiencing a sense of enlightenment. This feeling is a result of my efforts and the satisfaction I feel when I am finished with it. It is a feeling of having achieved my goal. It is a feeling of accomplishment and knowing that I have achieved something. It is a feeling of accomplishment and knowing that I have achieved something. It is a feeling of accomplishment and fulfillment that comes from having completed an art project. It is a feeling of accomplishment and accomplishment that comes from having completed to have achieved my art. This is a feeling of satisfaction and confidence that I have achieved something. It is a feeling of satisfaction and accomplishment. It is a feeling of accomplishment and satisfaction and satisfaction. It is a feeling of accomplishment and accomplishment. It is a feeling of accomplishment and satisfaction that comes from creating art. It is a sense of accomplishment and a sense of accomplishment. It is a feeling of accomplishment and satisfaction that I have achieved something. It is a feeling of knowing that I have achieved something that I have achieved something that I have accomplished something. It is a feeling of accomplishment that comes from creating art. It is a feeling of satisfaction and satisfaction. It is a feeling of accomplishment and satisfaction. It is a feeling of accomplishment. It is a feeling of accomplishment and satisfaction that I have achieved my art and that I have achieved something that I am creating art.</s>\n",
      "########\n",
      "*******\n",
      "question: He was serious and pragmatic, so why did he drive his car?\n",
      "answer: transportation\n",
      "choices: ['transportation', 'car crash', 'death', 'sleepy', 'stress']\n",
      "common expl list: ['People often drive cars to get from one place to another.', 'Because driving is the most practical mode of transportation judging by the time and distance required to do so.']\n"
     ]
    },
    {
     "name": "stderr",
     "output_type": "stream",
     "text": [
      "\r",
      " 16%|█████████████████████████▍                                                                                                                                       | 156/986 [2:12:49<5:45:42, 24.99s/it]"
     ]
    },
    {
     "name": "stdout",
     "output_type": "stream",
     "text": [
      "generated explanation: <pad> <extra_id_0> He drove his car because it was a practical option for him to use for transportation. Using a car is a form of transportation that allows him to get around easily and quickly. Using a car also allows him to have control of his surroundings, which is important for business purposes. Having a car also allows him to concentrate on other tasks at hand, such as shopping, work, and school. Using a car allows him to stay focused on the task at hand, which is important for him to accomplish. Having a car allows him to be more productive and productive. It also allows him to concentrate on other important tasks, such as shopping, or working. Additionally, it allows him to be more time to get around the world. It also allows him to be more time spent on other aspects of the world. It also allows him to be more time away from the world. It also allows him to stay connected to the world. Additionally, it also allows him to focus on the needs of the environment and ensure that he is in able to remain focused and not be distracted. Finally, driving enables him to be more productive and efficient. Overall, driving a pragmatic approach to make decisions and communicate effectively and communicate with others. It also allows him to focus on the things in the world. It also allows him to focus on other people to be more productive and social issues.</s>\n",
      "########\n",
      "*******\n",
      "question: What does god want people to do for money?\n",
      "answer: work in life\n",
      "choices: ['work in life', 'speak to people', 'everywhere', 'sitting ideal', 'care for people']\n",
      "common expl list: ['The scriptures explain that people should acquire money by providing good products or services, e.g., to bring value to other people and make a living.']\n"
     ]
    },
    {
     "name": "stderr",
     "output_type": "stream",
     "text": [
      "\r",
      " 16%|█████████████████████████▋                                                                                                                                       | 157/986 [2:13:19<6:06:05, 26.50s/it]"
     ]
    },
    {
     "name": "stdout",
     "output_type": "stream",
     "text": [
      "generated explanation: <pad> <extra_id_0> God wants people to work for money. Work is a way to earn money and it is a necessary part of a healthy lifestyle. It is a way to earn money and it is a way to earn extra cash. It is a way to earn extra money and it can be used to purchase other goods and services such as cars, homes, clothing, and other items. It can also be a way to earn extra money for charity or to help others. It can also be a way to make extra money for yourself. It is important to remember that God is not only looking for money is important to earn money is important to make money to be honest and earn money for the right choice for people to make sure that they are not a way to earn more than they can get paid for it is important to work hard to earn money to make extra money for the right decisions and make money. It is important to remember that God wants people to work for themselves and for the right to make ends up for themselves. It is important to work hard to earn a place of security and to earn money for the right. It is important to remember that work is important to have a way of life. It is a way to earn money and it is a way to make a way of life. It is important to be honest and to make money for the right choice because it is important to work. It is important to be honest and to have a good life. It is important to be honest and not to make money because it is not only human being a way to earn money. It is important to remember that is a way of life. It is important to remember that we are not to make a way to live a way of life. It is important to remember that we are called for us to live in life. It is important to remember that we are a way to make money.</s>\n",
      "########\n",
      "*******\n",
      "question: What can happen after doing housework that does not involve pain?\n",
      "answer: become tired\n",
      "choices: ['become tired', 'stress', 'put on shoes', 'backache', 'low pay']\n",
      "common expl list: ['Doing housework is likely to tire someone out. Being tired increases the likelihood of restlessness and uneasiness.', 'Raking, sweeping, and dusting are common forms of housework. After all the physical labor of these activities, someone \\xa0might become tired and take time off from housework chores, but not have een doing any housework tasks that', 'Housework can be tiring, and so, after doing it, one might become tired.']\n"
     ]
    },
    {
     "name": "stderr",
     "output_type": "stream",
     "text": [
      "\r",
      " 16%|█████████████████████████▊                                                                                                                                       | 158/986 [2:13:46<6:10:22, 26.84s/it]"
     ]
    },
    {
     "name": "stdout",
     "output_type": "stream",
     "text": [
      "generated explanation: <pad> <extra_id_0> After doing housework, it is easy to become tired. This is because the work is repetitive and the physical demands of the job are often overlooked. This can lead to fatigue, a feeling of being overworked, and stress. This can lead to a lack of motivation to do the work, which can make it difficult to concentrate and stay focused. This can lead to depression, anxiety, and depression can also lead to a lack of motivation to do the housework. This can lead to depression, anxiety, and depression can lead to a decrease in the housework. This is because the physical fatigue and physical stressing the job can cause the body to work can also cause fatigue. This can make it difficult to keep up with the physical demands of the housework. This can make it easier to do the physical work more difficult to keep up with the housework. This can lead to fatigue. It can also make it harder to keep the houseworker for the house and keep up with a steady, and reduce the physical strain on a healthy lifestyle. This can lead to a feeling tiredness, which can be a sign of physical stress. This can make it harder to take the house and help to reducing the amount of physical work. This can lead to a lack of motivation to complete. It can also cause fatigue and cause insomnia. This can be a result in a lack of motivation and reduce stress. It can be difficult to keep up with the mental demands of the physical work, and mental fatigue. This can lead to a lack of mental stress and physical demands on the body, which can make it difficult to keep up, which can lead to reducing the focus, and helplessness.</s>\n",
      "########\n",
      "*******\n",
      "question: James sat in a chair and listened to the speaker.  Where might James be?\n",
      "answer: auditorium\n",
      "choices: ['synagogue', 'grocery store', 'auditorium', 'confession', 'office']\n",
      "common expl list: ['James was likely in an auditorium, because he was listening to a speaker.']\n"
     ]
    },
    {
     "name": "stderr",
     "output_type": "stream",
     "text": [
      "\r",
      " 16%|█████████████████████████▉                                                                                                                                       | 159/986 [2:14:18<6:31:22, 28.39s/it]"
     ]
    },
    {
     "name": "stdout",
     "output_type": "stream",
     "text": [
      "generated explanation: <pad> <extra_id_0> James might be in an auditorium because it is a large, open space where the speaker can speak. In an auditorium, the speaker can sit in a chair and listen to the speaker. In an auditorium, the speaker can speak in a very formal and formal manner, and he can also take notes. In an auditorium, the speaker can present a number of topics, such as a speech, a demonstration, or a demonstration. In an auditorium, the speaker can speak in a formal and formal attire, or a formal event, but James would be in a formal setting, or a formal dress coded room, so James could take a seat and listen to the audience. In an auditorium, James could also take a seat, so that he could be in the back of the chair. In an auditorium, James could be in a chair or a formal environment, or even a formal setting, and listen to the speaker. In an auditorium, the speaker could also be a formal or formal setting, such as a formal setting, or a formal setting. In an auditorium, the speaker could also be present in a formal setting, or a formal manner, or a formal setting, such as in a formal setting, or formal setting, the speaker could be seated in a formal setting, or a formal setting, such as a formal event, or in a formal setting.</s>\n",
      "########\n",
      "*******\n",
      "question: John thought that Mary was beautiful despite her injury.  But Mary believed that she was what?\n",
      "answer: misshapen\n",
      "choices: ['wrong', 'overcast', 'homely', 'bad', 'misshapen']\n",
      "common expl list: [\"If Mary believes she doesn't look normal, but someone else thinks she is beautiful, perhaps she could feel like her form is misshapen.\"]\n"
     ]
    },
    {
     "name": "stderr",
     "output_type": "stream",
     "text": [
      "\r",
      " 16%|██████████████████████████▏                                                                                                                                      | 160/986 [2:14:30<5:23:03, 23.47s/it]"
     ]
    },
    {
     "name": "stdout",
     "output_type": "stream",
     "text": [
      "generated explanation: <pad> <extra_id_0> Mary believed that John thought that she was beautiful despite her injury. But Mary believed that John was right because John believed that Mary was beautiful despite her injury. Mary believed that John was right because she was physically and psychologically damaged. She believed that she was physically damaged because of an injury. This is because she was injured and she was not able to move as she should. This is because Mary was injured because of an accident that occurred in her teens. This injury caused her to fall down and fall over, which caused her to fall over and she was unable to walk. Mary believed that John was beautiful because of the injury. Mary was injured and she was not able to see her as beautiful because it was unable to compensate for her physical appearance. She was also not as unable to see her as unable to see her beauty. Mary believed that she was beautiful because of her injuries. Mary was missing able to see her as beautiful because of her injuries. She was unable to see her as beautiful because of her injuries. She believed that she was missing a beautiful because she was not unable to see her body as beautiful. She believed that John was beautiful despite her injury. She believed that John was beautiful because she was beautiful because of the injuries that she was injured. But Mary believed that John was beautiful because she was missing able to see the damage. She believed that she was beautiful because of the injuries that she was damaged because of the injuries that she was damaged.</s>\n",
      "########\n",
      "*******\n",
      "question: Where does my body go after I am no longer living?\n",
      "answer: graveyard\n",
      "choices: ['zombie', 'bodycam', 'coffin', 'graveyard', 'funeral']\n",
      "common expl list: ['Corpses are buried in graveyards.', 'When a person dies, it is common to bury their bodies in locations called graveyards.', 'When one dies, their body is buried in a graveyard.']\n"
     ]
    },
    {
     "name": "stderr",
     "output_type": "stream",
     "text": [
      "\r",
      " 16%|██████████████████████████▎                                                                                                                                      | 161/986 [2:14:52<5:17:00, 23.06s/it]"
     ]
    },
    {
     "name": "stdout",
     "output_type": "stream",
     "text": [
      "generated explanation: <pad> <extra_id_0> After I am no longer living, my body goes to a graveyard. A graveyard is a place where my body is buried, where it remains until it is disposed of. Graveyards are typically located near major cities, such as Los Angeles, Los Angeles, and Las Vegas. Graveyards are typically located near major highways, and are often located near major cities, such as the one that leads to them. Graveyards are typically located near major highways, and are often surrounded by other bodies, like those that are no longer living. They are often located in a graveyard, and are often located near the graveyard. Graveyards are often buried near the graveyard, and where the body is buried. Graveyards are usually located in a cemetery, and are often located near major cities. Graveyards are often accompanied by other places, such as the body is buried. Graveyards are often located in or near major roads, and are often located in rural areas, such as the United States. For example, the body is buried in a graveyard. Graveyards are often located near major cities, such as the graveyards, which can be a graveyard. Graveyards are often located in rural areas where the body is buried in rural areas such as in rural areas such as rural areas or in rural areas. For example, the United States, such as churches, hospitals, or other burial grounds. In some cases, but they are often located in rural areas. For example, in rural areas that are located in the dead or rural areas. Forks in rural areas of rural areas, such as in rural areas or in rural areas, where they are often located in areas that they are often located in rural areas, or in the countryside. For more rural areas that are located in rural areas where they are often located.</s>\n",
      "########\n",
      "*******\n",
      "question: Where can you find a bar before traveling a long distance?\n",
      "answer: airport\n",
      "choices: ['las vegas', 'public house', 'airport', 'restaurant', 'michigan']\n",
      "common expl list: ['Bars are often located in airports, and so if a person was traveling a long distance, they might stop at an airport bar.']\n"
     ]
    },
    {
     "name": "stderr",
     "output_type": "stream",
     "text": [
      "\r",
      " 16%|██████████████████████████▍                                                                                                                                      | 162/986 [2:15:05<4:31:41, 19.78s/it]"
     ]
    },
    {
     "name": "stdout",
     "output_type": "stream",
     "text": [
      "generated explanation: <pad> <extra_id_0> Airports are often the most convenient places to find a bar before traveling long distances. Airports are also the most popular places for people to find a bar before traveling long distances. Airports are often located in the vicinity of major cities, such as Los Angeles and San Francisco. Airports are also the most convenient places to find a bar before traveling long distances. Airports are usually located near airports and other major airports. Airports are also often the most popular places to find a bar because they are often located in the city. Airports are often the most convenient places to find a bar near the terminal. Airports are also often located in the center of the airport. Airports are also often the most popular places to find a bar at the terminal, which are often located near the security. Airports are also often located in the city's and are often located near the airport. Airports are often located in the airport, which is a short distance from the terminal. Airports are often located in the terminal, which means that the bar is located at the airport. Airports are often located in the terminal. Airports are often located in the city, which are often located in the best place to find a bar when traveling. Airports are also often located in the city. Airports are also often located in the heart of the best place to find a bar in the airport. This makes it is a great place to find a great place to get if you are in the area, and are located in the airports are also a good place to find a great place to hang out and a great place to get a great place to get a great place to get a great place to get drinks and have a great place to get a great place to get a good place to get a good place to get a great place to find if you are in the area, especially if you are looking for you<extra_id_27> </s>\n",
      "########\n",
      "*******\n",
      "question: Where might a small ball be bounced from?\n",
      "answer: child's hand\n",
      "choices: ['soccer game', 'street', 'toy store', \"child's hand\", 'on the sidewalk']\n",
      "common expl list: ['A ball much like a toy, and kids often play with them on the streets and sidewalks.', 'Since children enjoy bouncing balls, and they are also relatively small, they would bounce a ball from their hand.']\n"
     ]
    },
    {
     "name": "stderr",
     "output_type": "stream",
     "text": [
      "\r",
      " 17%|██████████████████████████▌                                                                                                                                      | 163/986 [2:15:14<3:49:04, 16.70s/it]"
     ]
    },
    {
     "name": "stdout",
     "output_type": "stream",
     "text": [
      "generated explanation: <pad> <extra_id_0> A small ball is a very common way for a child to play. It is often bounced from a child's hand because it is the closest thing the child can get to the ball. The hand is also often the closest thing to the ball. This is because children's hands are often the most likely places for a ball to land. A child's hand is often the most effective place for a ball to land on. The hand is also the most likely place for a ball to land on. The hand is also a child to play with the ball to drop into the hand. The ball is usually held by the hand and then dropped into the hand. The ball is often held in the hand. The hand is usually the ball is then placed in the hand. The ball is then held in the child's hand is placed on the child's hand. The ball is then bounced back and forth. The child's hand is the ball is placed in the hand and the hand is in the child's hand is held in the hand, and is often held by the child's hand. The ball is usually placed in the hand, but it is also a child's hand is often placed in the hand is a child's hand is a good place for a child to play with. The hand is a safe place to be thrown by a child's hand and the ball is a safe place for the child's hand is a safe place to land and<extra_id_27> </s>\n",
      "########\n",
      "*******\n",
      "question: Where do families begin?\n",
      "answer: wedding\n",
      "choices: ['wedding', 'around dinner table', 'supermarket', 'dinner together', 'park']\n",
      "common expl list: ['A wedding is a ceremony in which two people get married, and thus a wedding is where a family begins.']\n"
     ]
    },
    {
     "name": "stderr",
     "output_type": "stream",
     "text": [
      "\r",
      " 17%|██████████████████████████▊                                                                                                                                      | 164/986 [2:15:23<3:18:41, 14.50s/it]"
     ]
    },
    {
     "name": "stdout",
     "output_type": "stream",
     "text": [
      "generated explanation: <pad> <extra_id_0> Where do families begin? Weddings are a great way to start a family and start a new life. They are a time when families begin to build relationships and begin to build a new life together. Weddings are a great way to start a new chapter in a family's life. They are also a great way to start a new chapter in a new chapter in a family's life. Weddings are a great way to start a new chapter in a new life. They are a great way to get to celebrate the day of the day of the day. They are a special day to celebrate the day of their marriage. They are also a great way to start a new life together. They are also a great way to start a new life together and start off on the day. They are a way to start a new life and begin their new life. They are a way to make new families and start off on a new life together. They are also a way to build a new life together. They are a great way to start new relationships. They are a great way to start a new life. They are also a great way to start a new life. They are also a great way to start off on a new life with new life together. This way to start a new chapter in a new life. They are a new chapter in a new chapter in a new life.</s>\n",
      "########\n",
      "*******\n",
      "question: He enjoyed reading newspaper, he consider what a subscription?\n",
      "answer: buying\n",
      "choices: ['gifting', 'buying', 'money', 'literacy', 'knowing how to read']\n",
      "common expl list: ['Buying a subscription to a newspaper is a way to get the newspaper delivered to your home.']\n"
     ]
    },
    {
     "name": "stderr",
     "output_type": "stream",
     "text": [
      "\r",
      " 17%|██████████████████████████▉                                                                                                                                      | 165/986 [2:15:35<3:04:47, 13.51s/it]"
     ]
    },
    {
     "name": "stdout",
     "output_type": "stream",
     "text": [
      "generated explanation: <pad> <extra_id_0> A newspaper subscription is a form of<extra_id_1> that is used to provide a continuous stream of news and information to the general population. A newspaper subscription is a form of subscription that is purchased by a company or individual for a set period of time. A newspaper subscription is a type of subscription that is used to provide a newspaper with a continuous stream of news and information, including the latest news, sports, and entertainment. Subscribers to newspapers are able to access a variety of news and information, including articles, sports, including sports, and other sports, entertainment, as well as well as a source of news and entertainment. Subscribers also provide a means of news and feature articles, which are published on a daily, and other news. In addition, a subscription to a means of keeping up to the latest news and other articles, and other publications. Additionally, newspapers are available to subscribers to provide an uninterrupted flow of information, including current events, and other news, as well as a source of news, and entertainment, as well as well as a source of information. In addition to this, subscriptions to provide subscribers to access to other publications, as well as access to the newspaper subscriptions. This allows them to cover stories, sports, and other topics, such as weather, and other articles. Additionally, subscriptions to purchase a newspaper is a great way to get information, such as sports, entertainment, and other articles, such as magazines, and other articles, and news, such as articles, and other news. This allows for you to access to other features, and news, and other articles, and other articles, which are available online and online, so that you can be used to provide access to online, and to online content.</s>\n",
      "########\n",
      "*******\n",
      "question: What does an animal do when it becomes old?\n",
      "answer: feel pain\n",
      "choices: ['live long', 'leave home', 'feel pain', 'eating', 'sense fear in human']\n",
      "common expl list: ['Ageing animals may have chronic pain as part of the body losing function as it ages.']\n"
     ]
    },
    {
     "name": "stderr",
     "output_type": "stream",
     "text": [
      "\r",
      " 17%|███████████████████████████                                                                                                                                      | 166/986 [2:15:45<2:52:55, 12.65s/it]"
     ]
    },
    {
     "name": "stdout",
     "output_type": "stream",
     "text": [
      "generated explanation: <pad> <extra_id_0> When an animal becomes old, it may feel pain. This is because the animal is physically and mentally less capable of handling the stress of old age. When an animal becomes old, it may begin to feel pain. This is because the animal is less likely to be able to cope with the demands of daily life and may become more dependent on food sources. This is because the animal is less likely to be able to eat as well as to move around freely. This is because the animal is less likely to become dependent on external sources of stimulation, such as a dog or a human being old. When an animal feels pain, it may also feel pain. This is not a sign that the animal is old, it is vulnerable to aging. The animal is more likely to feel pain than a younger. This is because the animal is less likely to have a healthy adult animal to have to unable to feel pain. When an animal becomes old, it may feel pain. When an animal feels pain, it may feel pain, it can be a sign that the animal is old. When an animal becomes old, it can feel pain. This is due to the animal aging and the animal being old, it may feel pain. If it is old, it will feel pain. If the animal is old, it is more likely to become old and may feel pain. It may also be unable to feel the animal will not have the ability to feel the stress and worry about the environment. In addition, it may feel pain. This is unable to feel pain. This is because it is less likely that it is old, and it will be unable to feel pain. If the animal becomes old, it may be unable to feel pain.</s>\n",
      "########\n",
      "*******\n",
      "question: What entity would have a fire extinguisher in their boardroom?\n",
      "answer: most businesses\n",
      "choices: ['boat', 'apartment', 'public building', 'most businesses', 'chemistry lab']\n",
      "common expl list: ['Most businesses would have a fire extinguisher in their boardroom, because they are likely to have a fire in their boardroom.']\n"
     ]
    },
    {
     "name": "stderr",
     "output_type": "stream",
     "text": [
      "\r",
      " 17%|███████████████████████████▎                                                                                                                                     | 167/986 [2:15:54<2:35:46, 11.41s/it]"
     ]
    },
    {
     "name": "stdout",
     "output_type": "stream",
     "text": [
      "generated explanation: <pad> <extra_id_0> A fire extinguisher is a vital part of any business, especially one that is used to protect the building and its contents. It is a necessary tool for protecting the building and its contents, as it can be used to put out a fire or put out a blaze. It is also a good idea to have a fire extinguisher in the boardroom, as it can be used to put out a fire or put out a blaze. Businesses typically have a fire extinguit in the boardroom, as it is a business and can use it to put out of smoke and smoke can be a fire in the boardroom, which can be used to put out quickly and quickly. The fire extingues can be easily put out a a fire or put out quickly and easily if a fire is a hazard in the boardroom, and a fire, a fire extinguit can be used to put out a fire in a fire in the boardroom or in the boardroom, as it can be a safety if a business or other emergencies or in the boardroom. The fire extinguitee</s>\n",
      "########\n",
      "*******\n",
      "question: Where can someone go and buy cheese?\n",
      "answer: market\n",
      "choices: ['pizza', 'bar', 'fridge', 'market', 'refrigerator']\n",
      "common expl list: ['Cheese is sold at markets.', 'Cheese is a dairy product and can be purchased at markets, for the most part.']\n"
     ]
    },
    {
     "name": "stderr",
     "output_type": "stream",
     "text": [
      "\r",
      " 17%|███████████████████████████▍                                                                                                                                     | 168/986 [2:16:02<2:20:38, 10.32s/it]"
     ]
    },
    {
     "name": "stdout",
     "output_type": "stream",
     "text": [
      "generated explanation: <pad> <extra_id_0> Cheese is a popular food item in many countries around the world. Cheese is a popular choice of food because it is easy to find, affordable, and easy to prepare. It is also a great way to support local farmers and local businesses. Cheese is a staple of many cultures, and a market is a great place to buy cheese. It is a great way to get your hands on quality cheese. The market is a great place to get your hands on quality cheese. It is a great way to try new flavors and textures, and aroma, and taste. Cheese is a great way to make it. It is a great way to buy fresh and can be sliced and sliced into different flavors and textures. Cheese is a great way to make a great snack. Markets are also a great way to get a variety of flavors and aromas. The market is a great place to buy cheese at a great way to buy cheese. The best way to buy cheese is by a place to buy fresh and a variety of cheeses and other products. You can also find out in a local, as you can be found in the city.</s>\n",
      "########\n",
      "*******\n",
      "question: Where would you carry food while on a long walk in the countryside?\n",
      "answer: backpack\n",
      "choices: ['backpack', 'table', 'jar', 'box', 'container']\n",
      "common expl list: [\"Because backpacks are designed to be carried on one's back, they are the most convenient way to carry food while on a long walk.\", 'Instead of carrying a jar or container, filling your backpack with food might not disrupt your movements as much when you are walking.']\n"
     ]
    },
    {
     "name": "stderr",
     "output_type": "stream",
     "text": [
      "\r",
      " 17%|███████████████████████████▌                                                                                                                                     | 169/986 [2:16:14<2:29:15, 10.96s/it]"
     ]
    },
    {
     "name": "stdout",
     "output_type": "stream",
     "text": [
      "generated explanation: <pad> <extra_id_0> A backpack is a great way to carry food while on a long walk in the countryside. It can be used to carry a variety of items, such as snacks, water, and other items. A backpack is also a great way to carry water and other items such as tools, clothing, and other gear. A backpack is a lightweight, compact, and breathable bag that can be easily carried by a person of any size. It can also be used to carry other items, such as water bottles, flashlights, and other necessities, such as a backpack can be used to carry food. It can also be used to store food and other items, such as a stove, or other items, such as a knife, or a a backpack, or a compact backpack with you can easily carry a camera, sunglasses, etc. Backpacks are also a convenient way to carry food and other items such as a camera, a camera, a camera, and other items, such as a compact design. Backpacks are also a great way to transport items, and easily carried, and easily carried. They can also be used to carry other items such as a backpack, such as a camera, or a backpack or other items, a book, a backpack, a knife, or other items, such as a small amount of food, or other items such as a backpack, a backpack, or even a small amount of clothing. They can be used to carry other items such as a small items, such as a backpack, or other items, such as a backpack that can be used to carry food and other items such as a a camera, such as sunglasses, such as a camera, such as a book, or other items such as a camera, or a camera, or a small phone, a a laptop, or a camera.</s>\n",
      "########\n",
      "*******\n",
      "question: What could a driver do that could distract him or her while he or she is in a driving car?\n",
      "answer: smoke\n",
      "choices: ['use mobile phone', 'car crash', 'smoke', 'backache', 'automobile accidents']\n",
      "common expl list: ['Smoking is a common activity that people do while driving, and it could distract them from driving.', 'It can be tricky to smoke and concentrate on driving at the same time, and research has found that smoking in a car with children present is very dangerous.']\n"
     ]
    },
    {
     "name": "stderr",
     "output_type": "stream",
     "text": [
      "\r",
      " 17%|███████████████████████████▊                                                                                                                                     | 170/986 [2:16:24<2:23:34, 10.56s/it]"
     ]
    },
    {
     "name": "stdout",
     "output_type": "stream",
     "text": [
      "generated explanation: <pad> <extra_id_0> Smoking is a natural distraction that can be used by a driver to distract them while driving. Smoking is a byproduct of the combustion of carbon dioxide, a greenhouse gas that is responsible for the formation of methane. It is a very common and harmful byproduct of the combustion of carbon dioxide. It is a byproduct of combustion and is a potent source of oxygen to the body. It can also be used to provide a visual distraction to drivers, as it can be a visual distraction to the car. Smoking is a natural by the air quality. It is a safe and is not likely to the driver. It can also be used to provide a safe and a distraction to the car. It can be used by drivers to keep them busy while they are driving. Smoking can also be used to provide a safe environment for drivers to be sure the car is safe for everyone involved. It can be used to provide a safe place for drivers to keep them safe for passengers. It can be used to provide a sense of security for drivers and ensure that the car is not a danger to anyone who is not be a distraction to anyone in the car. Smoke can be used to distract drivers and help them to keep their eyes off the car and distract them from the distraction that the driver distracted. It can also be used to provide a distraction by the driver with a distraction while driving. It can also be used to help keep the driver safe and<extra_id_27> </s>\n",
      "########\n",
      "*******\n",
      "question: The fat man wanted to make a change in his life and make sure it stayed what?\n",
      "answer: permanent\n",
      "choices: ['concretely', 'permanent', 'remain stable', 'stagnant', 'constant']\n",
      "common expl list: ['In changing his life, he wants to make sure he remains in the new lifestyle choices, e.g., not become stagnant to bad choices and fall back into bad choices.', 'His making a decision to change and ensuring the decision is made permanent indicates a desire for a stable, permanent life, which does not change.']\n"
     ]
    },
    {
     "name": "stderr",
     "output_type": "stream",
     "text": [
      "\r",
      " 17%|███████████████████████████▉                                                                                                                                     | 171/986 [2:16:33<2:19:02, 10.24s/it]"
     ]
    },
    {
     "name": "stdout",
     "output_type": "stream",
     "text": [
      "generated explanation: <pad> <extra_id_0> The fat man wanted to make sure it stayed that way. He wanted to make sure that his life remained that way. He wanted to make sure that it stayed that way because he wanted to make sure that it stayed that way for as long as possible. The fat man wanted to make sure that his life stayed that way because he wanted to make sure that it stayed that way for as long as possible. To do this, he needed to make sure that his life stayed that way. This change was to make sure that his life and that his way. He needed to make sure that his life a permanent change. The fat man needed to make sure that his life stayed that it stayed that it stayed that his weight was not just a permanent. It was important to make sure that his lifestyle change so that his life stayed that his life was not only temporary, but also meant that his life remained in place. This was important for the fat man to make sure that it stayed that his lifestyle and that way of living. The fat man wanted to make sure that it stayed that it was permanent. The fat man wanted to make sure that his life stayed that it stayed in his life was not to make sure that his life was permanent.</s>\n",
      "########\n",
      "*******\n",
      "question: where did many colonial kingdoms originate?\n",
      "answer: europe\n",
      "choices: ['saudi arabia', 'europe', 'united states', 'book', 'monarchy']\n",
      "common expl list: ['Colonies and kingdoms often originate in the mother countries of the colonial or kingdom builders, e.g., entities in the United Kingdom and the Netherlands.', 'Many colonial kingdoms in the past can be traced all the way back to their roots in Europe.']\n"
     ]
    },
    {
     "name": "stderr",
     "output_type": "stream",
     "text": [
      "\r",
      " 17%|████████████████████████████                                                                                                                                     | 172/986 [2:16:46<2:28:01, 10.91s/it]"
     ]
    },
    {
     "name": "stdout",
     "output_type": "stream",
     "text": [
      "generated explanation: <pad> <extra_id_0> Many colonial kingdoms originated in europe due to the proximity of the Mediterranean Sea to the equator. This relationship has been a source of great prosperity for the Europeans and their ability to control their own territories and control their own affairs. The colonies that were formed in europe were often a result of a combination of factors, including trade, industry, and education. The colonies were often a result of trade and commerce that was conducted in a manner that was compatible with the needs of the time. The colonies also a significant part of the a number of colonies were formed in the region. The colonies were formed by the sea and a variety of different cultures, and their varying degrees of land, and their own laws, and regulations. They were created by the need to protect their territory from the sun and sea. The colonies were able to control their territories and able to maintain their independence from the sea. The colonies were also a time period of their independence from the British and a more stable and more than ever since they were created. The colonies were a result of the introduction of a more than a single-time. The colonies were formed in the sea and were a region that was a result of a time. The colonies were able to control their territories and control over their own resources and their own resources and their own resources. The colonies were also able to control and influence by the colonies. The colonies in a more stable and able to control and influence. The colonies were a time when they were able to expand and expand. The colonies were able to control their own. The colonies were a variety of different types of activities. The colonies were created by the colonies, and their own resources. The colonies were often a time-sensitive and<extra_id_27> They were able to control their own resources, and control over their territory, and control, and control their territory, and control, and a more powerful than they could control.</s>\n",
      "########\n",
      "*******\n",
      "question: Where can a television be stored and hidden?\n",
      "answer: cabinet\n",
      "choices: ['apartment', 'living room', 'bedroom', 'kitchen', 'cabinet']\n",
      "common expl list: ['A cabinet is a piece of furniture that is used to store items, and televisions are large, and thus, can be stored in cabinets.', 'A television can be stored inside a cabinet.']\n"
     ]
    },
    {
     "name": "stderr",
     "output_type": "stream",
     "text": [
      "\r",
      " 18%|████████████████████████████▏                                                                                                                                    | 173/986 [2:16:57<2:29:40, 11.05s/it]"
     ]
    },
    {
     "name": "stdout",
     "output_type": "stream",
     "text": [
      "generated explanation: <pad> <extra_id_0> A television is a large piece of equipment that is often used in the home and is often stored in a cabinet. Cabinets are designed to be a place of safety and security, allowing the television to be hidden from view and out of sight. Cabinets are typically made of metal and are typically made of a variety of materials, including wood, metal, plastic, and foam. Cabinets are also typically made of a high-quality, durable plastic, which allows them to be easily stored and hidden. Cabinets are typically designed to be used to store televisions safely and safely hidden away. Cabinets can be used to store and hidden behind a television in a cabinet, which can be opened and closed, which can be opened or closed, if needed. Cabinets are designed to be used to store a television safely and easily reached by a cabinet, which can be locked or locked, locked, which can be locked, or locked, which can be locked, if needed. Cabinets can be locked, which can be opened and closed, which can be used to store a television easily if it is not a secure lockable to be locked, and locked, and can be locked, so it can be locked or if needed. Cabinets can be locked, so that the television can be locked or opened, which can be locked, or opened and closed, and locked, and opened, or closed, a television can be locked, which can be locked, and locked, or locked. Cabinets can be locked, and locked, which can be opened and closed, or locked, so that it is a combination of any other items, such as accessed from outside, or accessed from outside, and hidden.</s>\n",
      "########\n",
      "*******\n",
      "question: what can get a prisoner in more trouble?\n",
      "answer: attempt to escape\n",
      "choices: ['dream of freedom', 'attempt to escape', 'do time', 'fast for days', 'scape jail']\n",
      "common expl list: ['Prisoners serve time, and when a prisoner attempts to escape, they generally serve extra time.']\n"
     ]
    },
    {
     "name": "stderr",
     "output_type": "stream",
     "text": [
      "\r",
      " 18%|████████████████████████████▍                                                                                                                                    | 174/986 [2:17:06<2:19:34, 10.31s/it]"
     ]
    },
    {
     "name": "stdout",
     "output_type": "stream",
     "text": [
      "generated explanation: <pad> <extra_id_0> An attempt to escape can get a prisoner in more trouble because it can get them in more trouble. Escape attempts are often made with the intent of escaping from the prison, but they can also be used to try to gain access to the outside world. This can lead to serious consequences, including the loss of life and the possibility of serious injury. Attempting to escape can lead to serious injury or even death. This can include the use of force, threatening violence, and even suicide. This can lead to a prisoner being placed in a prisoner being a prisoner with a prisoner being in a situation where they are in danger. It can also lead to a prisoner to be in a prisoner into a range of problems, including a firearm, which can lead to serious problems. This can lead to serious problems with the prisoner. It can also be a prisoner getting into a serious health problems. This can result in serious health problems and physical and mental health issues. Additionally, a prisoner being in a mental health problems. It can lead to mental health problems and psychological problems. Additionally, it can also be a mental health issues. It can be a prisoner’s that are not being in a state of mental health care. Finally, the prisoner may be unable to escape and health problems.</s>\n",
      "########\n",
      "*******\n",
      "question: The crab was separated from his compatriots out in the sea, where was he likely to be?\n",
      "answer: tide pool\n",
      "choices: ['fish market', 'cooking pot', 'tide pool', 'beach sand', 'farm']\n",
      "common expl list: ['Tide pools are regions of shallow, pooled water that are very exposed to air, making them appealing to crabs that have to breathe.']\n"
     ]
    },
    {
     "name": "stderr",
     "output_type": "stream",
     "text": [
      "\r",
      " 18%|████████████████████████████▌                                                                                                                                    | 175/986 [2:17:14<2:10:39,  9.67s/it]"
     ]
    },
    {
     "name": "stdout",
     "output_type": "stream",
     "text": [
      "generated explanation: <pad> <extra_id_0> A tide pool is a large, open area of water in the ocean that is used for swimming and catching fish and crabs. It is a place where crabs can relax and enjoy the benefits of the sun, wind, and water. It is also a place where crabs can find shelter from the cold and the elements. This is because tide pools are often shallow and contain a variety of vegetation, including plants, trees, and other organisms. This means that the crabs can easily access the water and get to the surface. The tide pool is a place to find shelter from the crabs and can easily be found in a river. The crab can also be found in a tide pool is often a place to hide from the cold and can provide a safe place for the crabs to be able to get a freshwater supply of food and shelter. The tide pool is a great place for the crabs to get away from the sun and heat. The crabs can also be able to get away from the elements and a freshwater environment. The crab can also be found in a tide pool, which is a great place for them to get back and if needed when they were to get trapped in a storm or storm.</s>\n",
      "########\n",
      "*******\n",
      "question: What item is smelted out of minerals on the country side?\n",
      "answer: metal\n",
      "choices: ['urban city', 'france', 'metal', 'grass', 'state']\n",
      "common expl list: ['Metals are extracted from mineral mines out in the country side.', 'Products made by smelters tend to be made out of metals, and mining occurs at the country side.']\n"
     ]
    },
    {
     "name": "stderr",
     "output_type": "stream",
     "text": [
      "\r",
      " 18%|████████████████████████████▋                                                                                                                                    | 176/986 [2:17:23<2:08:40,  9.53s/it]"
     ]
    },
    {
     "name": "stdout",
     "output_type": "stream",
     "text": [
      "generated explanation: <pad> <extra_id_0> Metal is a type of material that is made from molten rock, a type of rock that is found in the ground and is smelted to make into a product. Metal is a valuable resource that is found in abundance in the United States and is a great way to make products that can be used in a variety of ways. Metal is a byproduct of the breakdown of minerals, which are found in nature and are extracted from the earth through processes such as smelting. Smelting is a process, which involves the production of metals, which are used to be used to make products. Metal is also a way to produce electricity, which is a great way to make products that can be used to make products, such as a conductive process that can be used to make them into a variety of metalsula variety of applications. Metal is a byproduct of copper, which is used to make a variety of materials, such as copper, nickel, or zinc, which can be used in the production of many different types of metals. This allows for manufacturing to be used to make products that are a wide range of materials that can be used in a variety of other metals that can be used in the production of other minerals, such as iron or steel, which can be used to make other metals. This is a great way to make<extra_id_27> </s>\n",
      "########\n",
      "*******\n",
      "question: Where is a good place to store a saw?\n",
      "answer: toolbox\n",
      "choices: ['hardware store', 'tool shed', 'storage', 'tool kit', 'toolbox']\n",
      "common expl list: ['One might likely store a saw in a box with other tools.', 'A toolbox is a container for tools, and a saw is a tool.']\n"
     ]
    },
    {
     "name": "stderr",
     "output_type": "stream",
     "text": [
      "\r",
      " 18%|████████████████████████████▉                                                                                                                                    | 177/986 [2:17:34<2:15:14, 10.03s/it]"
     ]
    },
    {
     "name": "stdout",
     "output_type": "stream",
     "text": [
      "generated explanation: <pad> <extra_id_0> A toolbox is a good place to store a saw because it allows you to carry it easily and safely from one place to another. Toolboxes are usually made of metal and are typically topped with a lid to prevent damage from falling objects. This allows you to easily access the saw without having to open the lid. A toolbox is also a great place to store tools that can be removed quickly and easily. A toolbox is a sturdy, durable container that can be locked away from the elements. A toolbox is also a convenient place to store tools and can also be used to store tools. It can be used for cutting and other equipment. It can also be used to store other tools and accessories. A toolbox can be used to store tools and accessories. It can also be used to store tools and accessories such as a drill press the blades and the blades and handle the saw easily. It can be used to store a variety of accessories. It can be used to carry tools and other items. It can be used to store tools or for other purposes. It can be used for cutting and its contents. It can also be used to store other tools in it. This allows you to store tools in a toolbox or in a toolbox in a toolbox for other items such as screws, or other accessories such as a toolbox for storing tools and accessories such as a toolbox for other accessories in it. It can be used for other tools such as a toolbox for storage options such as storing tools such as a toolbox for storing tools and a saw in a toolbox or a toolbox, such as a toolbox for other tools and accessories such as a toolbox for a toolbox for other items such as if needed.</s>\n",
      "########\n",
      "*******\n",
      "question: The jellyfish was pushed along by the water.  It was caught in what?\n",
      "answer: current\n",
      "choices: ['store', 'book', 'park', 'current', 'lake']\n",
      "common expl list: [\"Currents are fast-moving water, and jellyfish can't swim very well, so if caught in a current, it's likely to be being pushed along by the current.\", 'Jellyfish are often found in oceans, and oceans have currents.']\n"
     ]
    },
    {
     "name": "stderr",
     "output_type": "stream",
     "text": [
      "\r",
      " 18%|█████████████████████████████                                                                                                                                    | 178/986 [2:17:45<2:19:07, 10.33s/it]"
     ]
    },
    {
     "name": "stdout",
     "output_type": "stream",
     "text": [
      "generated explanation: <pad> <extra_id_0> The jellyfish was pushed along by the water because it was pushed along by the water. The jellyfish was pushed along by the water because it was pushed along by the current. The jellyfish was pushed along by the water because it was a large jellyfish, and it was pushed along by the current. The jellyfish was caught in the water because it was a large jellyfish, and it was pushed along by the current. The jellyfish was pushed along by the water because it was pushed along by the currents and the currents. The current was a shallower than the jellyfish would have been caught in the water. The jellyfish was pushed along by the current. The jellyfish were caught in the water and were pushed along by the current, and the jellyfish was pushed along by the current. The jellyfish was caught in the water because it was pushed along by the water, and was pushed along by the current. The jellyfish was pushed along the water, and was a great way to get out of the water. The current was pushed along by the jellyfish, and it was pushed along by the jellyfish. The jellyfish was pushed along by the current. The jellyfish was pushed along by the current, pushed along by the water, and the water. The jellyfish was pushed along by the water. The jellyfish was pushed along by the current, and was pushed along by the water. The jellyfish was pushed along by the current, and was pushed along by the current. The jellyfish was pushed along by the current, and was pushed along by the water.</s>\n",
      "########\n",
      "*******\n",
      "question: The dime store was full of old donated goods, it reminded the customer of the what?\n",
      "answer: past\n",
      "choices: ['strip mall', 'past', 'shopping center', 'old movie', 'india']\n",
      "common expl list: ['Dime stores were more popular years ago than today. The sight of the old goods reminded the person of the past.']\n"
     ]
    },
    {
     "name": "stderr",
     "output_type": "stream",
     "text": [
      "\r",
      " 18%|█████████████████████████████▏                                                                                                                                   | 179/986 [2:17:48<1:48:25,  8.06s/it]"
     ]
    },
    {
     "name": "stdout",
     "output_type": "stream",
     "text": [
      "generated explanation: <pad> <extra_id_0> The<extra_id_1> The<extra_id_2> The old donated goods in the dime store were<extra_id_3> The<extra_id_4> was full of old donated goods, which reminded the customer of the past. Old donated goods were<extra_id_5> The<extra_id_6> old donated goods were<extra_id_7> donated from<extra_id_8> old<extra_id_9>. The donated goods in the dime store were all<extra_id_10> donated or donated<extra_id_11>. The<extra_id_12> re<extra_id_13> The<extra_id_14> donated goods were all old<extra_id_15> It reminded the customer<extra_id_16>. The customer was reminded that the past<extra_id_17> and<extra_id_18> the customer<extra_id_19> reminded of the past<extra_id_20> The<extra_id_21> The past<extra_id_22> was </s>\n",
      "########\n",
      "*******\n",
      "question: Where would you put a saw if you do not need to use it soon and your house only has one floor?\n",
      "answer: tool shed\n",
      "choices: ['logging camp', 'in the vehicle', 'tool shed', 'toolbox', 'basement']\n",
      "common expl list: ['The shed is a good place for storing tools when those tools are not in use.', 'A tool shed is a common structure for organizing and storing tools that are infrequently used.', \"A tool shed is a place where tools are stored, and thus, a good place to store a saw if you don't need to use it soon.\"]\n"
     ]
    },
    {
     "name": "stderr",
     "output_type": "stream",
     "text": [
      "\r",
      " 18%|█████████████████████████████▍                                                                                                                                   | 180/986 [2:17:58<1:58:20,  8.81s/it]"
     ]
    },
    {
     "name": "stdout",
     "output_type": "stream",
     "text": [
      "generated explanation: <pad> <extra_id_0> A saw shed is a great place to store a saw because it is a large, heavy-duty building that can be used for a variety of purposes. It is typically located on one floor, making it easy to access and use. It is typically located on the ground floor, which is usually the ground floor, and can be built on to any structure, including a wall or a roof. A tool shed is a great place to store a saw because it is a heavy-duty building that can be used for a tool shed is a great place to store a saw shed is a great option for a large saw that can be stored in a large capacity. It can also be used to cut through the blades and other components. It can be used for a variety of tasks, such as a fence or a deck. It is a great place to store a tool shed. It is a great place to store a saw is a tool shed that can be used for storing a tool shed. It can be used for a variety of tasks such as a tree or a saw. It can be used to cut or to create a number of different sizes and the shed. It can be used to cut wood or a variety of materials, such as a wood, or metal, such as a fence, or a beam or a saw. It can be used to remove a tree or a stump or a stump or a stump or a stump. It can be used to remove a saw and stored in a tool shed or a tool shed. It can be used for a variety of things such as<extra_id_27> </s>\n",
      "########\n",
      "*******\n",
      "question: A person might wear his yarmulke when going to where?\n",
      "answer: synagogue\n",
      "choices: ['demonstration', 'concert', 'garage', 'bus stop', 'synagogue']\n",
      "common expl list: ['Synagogue is a place commonly visited by religious Jews. Men wear yarmulkes (skullcaps) because faith requires that they uncover their heads when going before God.']\n"
     ]
    },
    {
     "name": "stderr",
     "output_type": "stream",
     "text": [
      "\r",
      " 18%|█████████████████████████████▌                                                                                                                                   | 181/986 [2:18:07<1:57:52,  8.79s/it]"
     ]
    },
    {
     "name": "stdout",
     "output_type": "stream",
     "text": [
      "generated explanation: <pad> <extra_id_0> A person might wear his yarmulke when going to a synagogue because it is a symbol of faith and spirituality. It is a symbol of religious worship and a symbol of unity. It is often worn by members of the Jewish community to mark their Jewish heritage and to show their respect for the Jewish people. It is also a symbol of religious devotion and a symbol of Jewish unity. It is a symbol of religious unity and a symbol of Jewish identity. It is also a symbol of religious heritage and tradition. The Jewish tradition of religious ceremonies and services. The tradition of wearing a yarsana traditional dress is a place of worship and a Jewish culture. The yarmulke is a place of worship. The yarllections and the Jewish holiday and the year of the year of the year of the Jewish people of the holiday of the Jewish year of the holiday season. The a time of the Jewish tradition and observance. It is a time of the holiday season. It is a time of the holiday and a time of the holiday. The yarmulkehlosa time of peace and of the Jewish holiday season. The yarmulcheetiana symbol of the Jewish faith.</s>\n",
      "########\n",
      "*******\n",
      "question: Someone takes up exercising to improve their what\n",
      "answer: physical fitness\n",
      "choices: ['losing weight', 'physical fitness', 'breathlessness', 'muscles', 'lost weight']\n",
      "common expl list: ['Exercising helps people build their physical fitness.', 'Typically people are motivated to exercise in order to become fit.', 'Exercising is a way to improve physical fitness.']\n"
     ]
    },
    {
     "name": "stderr",
     "output_type": "stream",
     "text": [
      "\r",
      " 18%|█████████████████████████████▋                                                                                                                                   | 182/986 [2:18:16<1:58:58,  8.88s/it]"
     ]
    },
    {
     "name": "stdout",
     "output_type": "stream",
     "text": [
      "generated explanation: <pad> <extra_id_0> Someone who takes up exercising to improve their physical fitness is taking advantage of a number of benefits. Physical fitness is the ability to maintain a healthy lifestyle and to improve their overall health. It can help to improve overall fitness and overall health. Physical fitness is the ability to exercise to improve your health and fitness. Physical fitness is the key to a healthy lifestyle. Physical fitness is the ability to perform physical activities safely and effectively. Physical fitness can be a combination of mental fitness, physical fitness, and social fitness. Physical fitness can also be used to help to improve your health and fitness. Physical fitness can help to improve your overall fitness and overall fitness. It can help you to improve your overall health and overall fitness levels. Physical fitness can help to improve overall fitness and overall health. Physical fitness can help to improve overall health and happiness. It can help to improve overall health and happiness. Physical fitness can help you achieve fitness and a lifetime. Physical fitness can also help to help you achieve your goals. Physical fitness can help you achieve your overall fitness and overall fitness. Physical fitness can also help you to improve your overall health and well-being. Physical fitness can help you to improve your overall health. Physical fitness can help you achieve your personal fitness goals and motivation.</s>\n",
      "########\n",
      "*******\n",
      "question: Where could you see a sloth that is not real?\n",
      "answer: picture book\n",
      "choices: ['bad dream', 'picture book', 'another place', 'universe', 'zoo']\n",
      "common expl list: ['Reality is generally fractured into \"real\" and \"fusion.\" Sloths are real, meaning they exist (in some form) in reality; sloths are not real (in the way depicted) in a picture book.']\n"
     ]
    },
    {
     "name": "stderr",
     "output_type": "stream",
     "text": [
      "\r",
      " 19%|█████████████████████████████▉                                                                                                                                   | 183/986 [2:18:24<1:53:09,  8.46s/it]"
     ]
    },
    {
     "name": "stdout",
     "output_type": "stream",
     "text": [
      "generated explanation: <pad> <extra_id_0> A picture book is a great way to see a sloth that is not real. Sloths are a common sight in animal care products and pet stores. Picture books are a great way to see a sloth in action, as they are often stuffed with toys, food, and clothing. Picture books are also a great way to learn about the animal and its habits. Sloths are also a great way to learn about the animal’s habitat and how it lives. Picture books are a great way to learn about the sloths behavior of the sloth and how it moves. They are also very cute and friendly to pet owners, and can also be a great way to learn more about the animal and how to care for them. Picture books also provide a chance to see a sloth in a real sloth. Picture books also provide a great way to learn about the animal and its behavior. The pictures of sloths are also a great way to learn about its characteristics. They are also a great way to learn about the environment around them. They are also a way to learn about the animal’s behavior and how to<extra_id_27> </s>\n",
      "########\n",
      "*******\n",
      "question: Where are seats often plush?\n",
      "answer: opera\n",
      "choices: ['rest area', 'theater', 'hockey game', 'classroom', 'opera']\n",
      "common expl list: ['Plush seats are generally found in more comfortabe, well-off establishments, and opera is often performed in such, less strict teents of, elegance of the decor.', 'Opera is a high-class form of entertainment, and thus, the seats are often plush.']\n"
     ]
    },
    {
     "name": "stderr",
     "output_type": "stream",
     "text": [
      "\r",
      " 19%|██████████████████████████████                                                                                                                                   | 184/986 [2:18:32<1:53:21,  8.48s/it]"
     ]
    },
    {
     "name": "stdout",
     "output_type": "stream",
     "text": [
      "generated explanation: <pad> <extra_id_0> Plush seats are often found at operas and other venues where seating is a high-level of comfort and convenience. They are often located at the front of the theater, near the front of the house, or near the front of the stage. They are often upholstered with soft fabrics, which provide a more comfortable and inviting environment for sitting. At an opera, the plush seats are often used to create a feeling of space and comfort. They are often upholstered with a combination of soft fabric and leather, which is a great way to create a great atmosphere and ambiance. They are also often a great way to enjoy the company of being able to make the experience. Plush seats provide a more comfortable and a more relaxing time for the company. They are also often a great way to sit, as they can provide a sense of luxury. They are also often more comfortable, making them more comfortable than traditional seats. They also provide a sense of luxury, and comfort and luxury. Plush seats are often used to make them more comfortable. Plush seats are often a more luxurious look and feel. They are also more comfortable and comfortable than standard seats. They are also less expensive, which can be found in hotels and restaurants.</s>\n",
      "########\n",
      "*******\n",
      "question: The comforter was used constantly and treaded upon by everyone, where should it be placed?\n",
      "answer: washing machine\n",
      "choices: ['garbage', 'linen closet', 'bedroom', 'washing machine', 'livingroom']\n",
      "common expl list: ['When you use your comforter (or any other high-traffic fabric) often, you ought to wash it often too. Therefore it should be kept in the washing machine, to enable quick washing.', 'The comforter was used constantly, so it should be washed frequently. Linen closets are where people store their bed sheets and blankets.', 'Linens are often used (i.e., the comforter) and washed frequently.']\n"
     ]
    },
    {
     "name": "stderr",
     "output_type": "stream",
     "text": [
      "\r",
      " 19%|██████████████████████████████▏                                                                                                                                  | 185/986 [2:18:40<1:49:45,  8.22s/it]"
     ]
    },
    {
     "name": "stdout",
     "output_type": "stream",
     "text": [
      "generated explanation: <pad> <extra_id_0> The comforter should be placed in the washing machine because it is a large piece of furniture and is used by everyone. The comforter is placed in the washing machine because it is a large piece of furniture that is used daily and is often moved around the house. The washing machine is a convenient way to store and clean the comforter, as it is able to be emptied and washed in it. The washing machine is also a great place to store and store your comforter, as it can be used to wash your machine, which can be placed in the comforter in the washer or dryer. The machine is a great place to store your comforter, as it is often used daily. The comforter is also a great way to store and can be placed in a place to be washea place to keep it clean, and can be used to keep it clean. The washer is also a great place to store your comforter and dry your clothes. The washer can be used to help keep your comforter clean, and dry quickly and easily accessible. The comforter can be placed in the washing machine. The washer can be used to dry the comforter, or to dry your bed.</s>\n",
      "########\n",
      "*******\n",
      "question: Joe bought a ficus.  He thought it would look good in what part of his home?\n",
      "answer: family room\n",
      "choices: ['family room', 'tropical forest', 'flower garden', 'movie theater', 'hair salon']\n",
      "common expl list: [\"The ficus is an indoor plant, such as a plant one would have in one's family room. The family room is the ideal location for an indoor plant like a houseplant.\"]\n"
     ]
    },
    {
     "name": "stderr",
     "output_type": "stream",
     "text": [
      "\r",
      " 19%|██████████████████████████████▎                                                                                                                                  | 186/986 [2:18:49<1:53:15,  8.49s/it]"
     ]
    },
    {
     "name": "stdout",
     "output_type": "stream",
     "text": [
      "generated explanation: <pad> <extra_id_0> Joe bought a ficus because he thought it would look good in the family room because it is a living plant that produces a lot of energy and can be used to create a relaxing atmosphere in a home. A ficus is a type of plant that is usually used in a family room because it is a plant that produces a lot of energy and can be used to create a sense of calm and relaxation in a home. A ficus is a plant that produces a lot of energy and can be used to create a a family room or in a home. It can also be used for decorating ideas for a room. A ficus can be used to create a relaxing atmosphere in a room, a relaxing a relaxing atmosphere in a home. It can be used in a living room or in a a living space where it can be used to create a relaxing atmosphere in a family time together. It can be used to create a a a living space in a family room or a living room. A ficus can be used to create a relaxing space in a family room. A ficus can be used to create a relaxing atmosphere in a family room or as a decorative element in a room. It can be used to create a<extra_id_27> </s>\n",
      "########\n",
      "*******\n",
      "question: Family is always the best for devotion, but it is also nice if a person has what?\n",
      "answer: loyal friends\n",
      "choices: ['good review', 'headache', 'with cat', 'loyal friends', 'shoes']\n",
      "common expl list: [\"Because times may come when a person would like to go out and have fun with some friends, and it's nice if that person may have friends that he is faithful to.\", 'We may have devoted friends who would be there for us if we had need.', 'Loyal friends are always there for you, and they will always be devoted to you.']\n"
     ]
    },
    {
     "name": "stderr",
     "output_type": "stream",
     "text": [
      "\r",
      " 19%|██████████████████████████████▌                                                                                                                                  | 187/986 [2:18:58<1:54:14,  8.58s/it]"
     ]
    },
    {
     "name": "stdout",
     "output_type": "stream",
     "text": [
      "generated explanation: <pad> <extra_id_0> Family is always the best for devotion, but the best for devotion is always to have a group of people that are loyal to one another. This group of people are usually close in age and have a similar outlook on life. Loyal friends are people who are loyal to one another and will always be there for a person if they need something. This group of people are loyal to one another and will always be there for a person if they need it. Loyal friends are people who will always be there for a person and will always be there to have a person who is loyal to have someone else when they need something. This is because they will always be there for them to support and will always be there when it comes to have to have a person’s needs. They will always be there for support and will always be there for a person when he needs. They are also always there to turn to be if needed. They will always be there for a person when they need help them and can be a person’s needs. This is a loyal friend is always there for if they need help and support. They are always there for people to trust and will always be there for them. They will always be there for them when they need them and will be there for them when they are away. They will always be there for them when they need someone.</s>\n",
      "########\n",
      "*******\n",
      "question: Rap is not usually associate with what music often performed by an orchestra?\n",
      "answer: classical\n",
      "choices: ['folk', 'rock', 'good music', 'country music', 'classical']\n",
      "common expl list: ['Rap is generally associated with hip-hop music, which is normally performed by a single artist. Orchestras tend to play classical music, which often is performes with real instruments, rather than manufactured ones.']\n"
     ]
    },
    {
     "name": "stderr",
     "output_type": "stream",
     "text": [
      "\r",
      " 19%|██████████████████████████████▋                                                                                                                                  | 188/986 [2:19:09<2:06:10,  9.49s/it]"
     ]
    },
    {
     "name": "stdout",
     "output_type": "stream",
     "text": [
      "generated explanation: <pad> <extra_id_0> Rap is not usually associated with what music is often performed by an orchestra. Rap is a form of music that is typically associated with classical music because it is not typically associated with classical music. It is a type of music that is typically associated with classical music. It is a form of music that is typically performed by an orchestra and is typically composed of a wide range of instruments and harmonies. It is a form of music that is typically associated with a particular style of music. It is often performed by a string quartet or orchestra. It is usually composed by a string quartet. It is also not usually performed by a lot of instruments, which are often acouture. It is also not usually performed by a lot of vocals. It is often performed by acourang a rap music that is usually composed of a lot of vocals and rhythmic and acousongs. It is a more melodiedances. It is also not usually performed by a string quartet or orchestra. It is usually performed by a a large orchestra. It is usually performed by a large, and a large orchestra. It is usually a a more a chorus, and rap is not usually a more a soloist. It is usually a more a soloist. It is often performed by a soloist, and a soloist. It is often performed by a a a a a a a soloist, and a soloist, and a solo, or a a more a soloist. It is a a solo, and soloist, and a chamber orchestra, and a live orchestra. It is a live, and a live performance, and a live band.</s>\n",
      "########\n",
      "*******\n",
      "question: At what structure can you see people you use a puck professionally?\n",
      "answer: hockey rink\n",
      "choices: ['hockey rink', 'locker room', 'sporting goods store', 'used in hockey game', 'teachers']\n",
      "common expl list: ['Pucks are commonly used in ice hockey, which is a professional activity.']\n"
     ]
    },
    {
     "name": "stderr",
     "output_type": "stream",
     "text": [
      "\r",
      " 19%|██████████████████████████████▊                                                                                                                                  | 189/986 [2:19:20<2:08:39,  9.69s/it]"
     ]
    },
    {
     "name": "stdout",
     "output_type": "stream",
     "text": [
      "generated explanation: <pad> <extra_id_0> At a hockey rink, you will see people using a puck professionally. A hockey rink is a structure that is used for hockey and hockey related activities. It is a crowded, enclosed space, with a hockey stick and a net. A rink is a large, indoor structure that can accommodate a large number of people. A rink is a place where people can gather and play hockey. A rink is a place where players can gather and play hockey. A rink is a place to play hockey. A hockey rink is a place to see people and coaches, as well as it is a place where players can see people using a puck. It is a place where people can see them using a puck and other players. A a rink is a place where the players can see people using rink. It is a place where players can see people who can see the crowd and the puck. It is a place where players can see the players and watch them play. Hockey rinks are also a place where they can see the puck and watch the players. Hockey players are able to see the puck being used by the puck and watch the puck. It is a place where people can watch and watch them use the puck. It is a place to watch the players and watch the puck being played. It is a place to watch and players and the puck is used to watch the puck is a place where the puck is a place to see the players and the puck.</s>\n",
      "########\n",
      "*******\n",
      "question: Even when not in flight a bald eagle likes to have a lay of the land, because of this you'll see them perched up where?\n",
      "answer: high places\n",
      "choices: ['colorado', 'natural habitat', 'everglades', 'high places', 'tree']\n",
      "common expl list: ['Eagles like to be high up, so they can see a large area.']\n"
     ]
    },
    {
     "name": "stderr",
     "output_type": "stream",
     "text": [
      "\r",
      " 19%|███████████████████████████████                                                                                                                                  | 190/986 [2:19:27<2:01:20,  9.15s/it]"
     ]
    },
    {
     "name": "stdout",
     "output_type": "stream",
     "text": [
      "generated explanation: <pad> <extra_id_0> A bald eagle is a bird that likes to have a lay of the land when it's not in flight. This is because they like to have a lay of the land when they're not in flight. This is because they like to have a lay of the land when they're not in flight. This is because they like to have a lay of the land when they're not in flight. This is because they like to have a lay of the land when they're not in the air. This is why they like to have a place to have a lay of the land to have a view of the sky. This is because it's a great way to get a bird without having to see the sky. This is also a great way to see the sky and to see the moon. This is because it's a great way to see the sky and the stars. This is because it's a high places like to have a view of the sky. This is because it's a higher places to look down and up close to the sky. This is because they are able to see the stars and have a good look at the sky.</s>\n",
      "########\n",
      "*******\n",
      "question: When is good time for garlic bread?\n",
      "answer: dinner\n",
      "choices: ['refrigerator', 'dinner', 'jail', 'supermarket', 'going on a date']\n",
      "common expl list: ['Garlic bread is often served with dinner.', 'Typical garlic bread is served with a maincourse and wine or other alcoholic beverage, and both are commonly served with dinner.']\n"
     ]
    },
    {
     "name": "stderr",
     "output_type": "stream",
     "text": [
      "\r",
      " 19%|███████████████████████████████▏                                                                                                                                 | 191/986 [2:19:37<2:03:57,  9.36s/it]"
     ]
    },
    {
     "name": "stdout",
     "output_type": "stream",
     "text": [
      "generated explanation: <pad> <extra_id_0> Garlic bread is a great way to add flavor to your meal and keep you full for longer. Garlic bread is a great addition to any meal, and it is especially good for a light lunch or dinner. Garlic bread is also a great way to add flavor to a meal. It is a great way to add texture and flavor to your meal and is a great addition to any meal. It is a great way to add flavor and texture to your meal and is a great addition to any meal. It can be served during a great way to make it into your dinner. It can be served warm or cold. It can also be served at any event. For example, a great appetizer or during a meal. It can be served with a variety of meats, eggs, cheese, or eggs. It is also a great way to add flavor to your meal. It can be served at any time of your guests are likely to serve guests. It can be served with a hearty, or a meal. It can be served during the meal or as a great way to add flavor to any meal. It can be served with any meal, or as a great way to add flavor to your dinner, or appetizer. It can be served with a great way to add flavor to your meal. For example, if you are planning ahead, or serving garlic bread during a special occasion. Serve it at dinner, or as a great way to add variety of flavor to your dinner.</s>\n",
      "########\n",
      "*******\n",
      "question: Where is the sky fake?\n",
      "answer: planetarium\n",
      "choices: ['shed', 'atmosphere', 'photo', 'outdoors', 'planetarium']\n",
      "common expl list: ['Planetariums are places built to simulate the sky indoors; the opposite of outdoors.', 'Planetariums are buildings that simulate the sky.']\n"
     ]
    },
    {
     "name": "stderr",
     "output_type": "stream",
     "text": [
      "\r",
      " 19%|███████████████████████████████▎                                                                                                                                 | 192/986 [2:19:50<2:15:43, 10.26s/it]"
     ]
    },
    {
     "name": "stdout",
     "output_type": "stream",
     "text": [
      "generated explanation: <pad> <extra_id_0> The sky is a very interesting place to visit, especially if you are interested in seeing the sky in person. Planetariums are a great way to see the sky in a new way. They are a great way to learn about the world around you and to see the stars from a distance. They are also a great way to see the Earth from space. The sky is a very interesting place to visit because it is a place of wonder and wonderment. Planetariums are usually located in remote locations. The sky is often used to show the Earth's atmosphere. The planeta a place to see the Earth's atmosphere and the Earth's atmosphere. The sky is also a place of peace and tranquil atmosphere of the Earth's atmosphere of the Earth's atmosphere of the Earth's atmosphere of the Earth's distant and the Earth's atmosphere of space. The atmosphere is a place of mystery and the Earth's atmosphere of the sky is a place of safety and security. The planeta safe and is a safe place where the sky is a place of excitement and<extra_id_27> and a place of safety and excitement. The sky is a place of a place of peace and quiet, and a place of adventure. The planetarium is a place of safety and security. The sky is a place of peace and calm. The atmosphere is a place of calm and security. The atmosphere at night is a place of tranquility and tranquilland a place where people and peace. The sky is a place of a place of tranquilland peace and security and calm and tranquility. The sky is a place where people can gather and a place of peace and a place of peace and joy. The sky is a place of a place of discovery and joy. The planeta place of beauty and a place of peace and joy. The sky is a place of adventure and joy and tranquilland<extra_id_27> </s>\n",
      "########\n",
      "*******\n",
      "question: Boats that aren't on the ocean travel across the surface of what?\n",
      "answer: lake\n",
      "choices: ['lake', 'ocean', 'tetrahedron', 'mirror', 'object']\n",
      "common expl list: [\"Lakes (and ponds) are bodies of fresh water surrounded by land, and boats exist on water, and thus, will tend to travel across lakes' surfaces.\"]\n"
     ]
    },
    {
     "name": "stderr",
     "output_type": "stream",
     "text": [
      "\r",
      " 20%|███████████████████████████████▌                                                                                                                                 | 193/986 [2:19:58<2:05:56,  9.53s/it]"
     ]
    },
    {
     "name": "stdout",
     "output_type": "stream",
     "text": [
      "generated explanation: <pad> <extra_id_0> Boats that aren't on the ocean travel across the surface of lakes because lakes are a type of land that is surrounded by water and is a great place to enjoy a boat ride. Lakes are also great places for water sports, fishing, and other water-related activities. Lakes are large bodies of water that are surrounded by a variety of habitats, including forests, lakes, rivers, and other bodies of water. Lakes are also great places for boating enthusiasts to enjoy a day on the water. Lakes are also a great way to spend time on the water. The lakes are also a great way to get to the water level of the water and can be used for recreation. In addition to the lakes, lakes are also great places to enjoy the sights of the ocean. They are also a great place for boaters to spend the day. The boats are also great way to enjoy the scenery. They can also be used to explore the wildlife. They can also be used to get away from the water and explore the sights and other attractions. Lakes are also great places to enjoy the sights and activities. They can also be used for activities like fishing and for recreation. They can also be used for recreational activities.</s>\n",
      "########\n",
      "*******\n",
      "question: A small dog lived with a a woman who loved him. Where might he have lived?\n",
      "answer: person's house\n",
      "choices: [\"person's house\", 'dog house', 'canada', 'illinois', 'basket']\n",
      "common expl list: ['Animals who live with humans are often in their homes.', \"Dogs are often kept as pets, and pets are often kept in their owners' homes.\"]\n"
     ]
    },
    {
     "name": "stderr",
     "output_type": "stream",
     "text": [
      "\r",
      " 20%|███████████████████████████████▋                                                                                                                                 | 194/986 [2:20:06<2:02:55,  9.31s/it]"
     ]
    },
    {
     "name": "stdout",
     "output_type": "stream",
     "text": [
      "generated explanation: <pad> <extra_id_0> A small dog lived with a woman who loved him. A woman might have had a house to live in, which is a great place for a dog to live. A house is a place where a dog can go to rest, play, and have fun. A house is a place where a dog can go to rest and rest and have a break from the outside world. A house is a place where a dog can live with a woman who loves him and who is willing to take care of him. A dog can also be a place to play, and can be a good time with the dog. A dog can also be found in a house if the woman is a house is a good place for a dog to sleep and play. A dog can be found in a place where a woman can also be a place for a woman who is a place for a woman who is a place where a dog can also be a place for if she is a woman who is willing to take care of the dog and be a place for her dog and care for the dog. A dog can be taken in a place where if she is a house or a house is a safe place for him and care for him and for him.</s>\n",
      "########\n",
      "*******\n",
      "question: There are usually four strings on what popular instrument?\n",
      "answer: guitar\n",
      "choices: ['trumpet', 'kite', 'quark', 'guitar', \"bird's nest\"]\n",
      "common expl list: ['A guitar is a stringed instrument with four strings.', 'Guitars have four strings.']\n"
     ]
    },
    {
     "name": "stderr",
     "output_type": "stream",
     "text": [
      "\r",
      " 20%|███████████████████████████████▊                                                                                                                                 | 195/986 [2:20:18<2:11:25,  9.97s/it]"
     ]
    },
    {
     "name": "stdout",
     "output_type": "stream",
     "text": [
      "generated explanation: <pad> <extra_id_0> The guitar has four strings, which are made up of wood and a metal body. The strings on the guitar are made of a soft material, which is astringent and flexible. The strings are attached to a wooden body and are attached to the end of the guitar. The strings are made up of metal and are attached to the body with a metal nut. The guitar has four strings, which are attached to the end of the guitar and are attached to the side of the body. The strings are made of a combination of strings, which are usually connected by either a metal or a metal plate. The guitar is also made up of the top, which is usually made of steel. The guitar has four strings, which are attached to the top of the strings. The guitar has two sides and two sides. The guitar is also made of a number of strings, which are connected by a nylon strings. The strings are made of metal and are attached to the sides of the body. The strings are held by a metal nut. The strings are connected by the sides of the guitar. The strings are held by a bridge and the strings. The guitar is made of steel and are attached to the neck. The strings are attached to the guitar. The guitar is made of a steel and are made of the strings. The strings are made of metal and are made of the strings. The strings are made of the guitar body and the strings. The strings are made of the body and the back and are made of the strings. The strings are made of the guitar. The strings are attached to the neck and are made of the sides. The strings are made of the strings, which are made of the guitar. The strings are made of the guitar. The guitar is made of the guitar made of the guitar.</s>\n",
      "########\n",
      "*******\n",
      "question: Where would you find a shelf with toys for young people learning?\n",
      "answer: school building\n",
      "choices: ['corner', 'school building', 'wall', 'library', 'bookstore']\n",
      "common expl list: ['A school building is a place where children learn, and so, a school building would have a shelf with toys for young people learning.', 'School buildings house school libraries, in which you would find shelfs of toys, games and puzzle for students to use while in school.']\n"
     ]
    },
    {
     "name": "stderr",
     "output_type": "stream",
     "text": [
      "\r",
      " 20%|████████████████████████████████                                                                                                                                 | 196/986 [2:20:26<2:04:58,  9.49s/it]"
     ]
    },
    {
     "name": "stdout",
     "output_type": "stream",
     "text": [
      "generated explanation: <pad> <extra_id_0> A shelf with toys for young people learning is an important part of any school building. It can be found in a variety of locations, including classrooms, libraries, and day care centers. Schools are often places where young people can find a wide variety of toys that can be used to support their learning. This can include classrooms, libraries, and other learning environments. This can include classrooms, classrooms, and other learning environments. Schools are often places where young people can find toys that can be used for learning. Schools are also places where they can find a variety of toys that can be used for teaching children how to use their hands. This is important because toys can be used by students to help them learn. They can also be used to help students with their learning activities and activities. This can help them develop their thinking and develop their imagination. Schools are also places where they can find toys that can be used to use them. Schools can also be a place where they can find a variety of learning spaces and other learning activities. Additionally, schools may have access to rent or lease a range of toys that can be found in schools. In addition, schools may have a variety of toys that can be used to help young people learn. This can be rented for short-term trips, or for<extra_id_27> </s>\n",
      "########\n",
      "*******\n",
      "question: What can you get after drinking too much alcohol?\n",
      "answer: sickness\n",
      "choices: ['become drunk', 'have fun', 'active', 'frequent urination', 'sickness']\n",
      "common expl list: [\"Alcohol (e.g., beer, wine, etc.) is a chemical that alters people's consciousness, making them generally feel unpleasant; subsequently, over-consumption can lead to the vomiting of one's content inside one's stomach. Hence, being\", 'Alcohol is a diuretic, which means that it makes you urinate more frequently. This can lead to dehydration, which can cause sickness.', \"Drinking too much alchohol can impair the body and, consequently, one's ability to think straight. It can also cause sickness.\"]\n"
     ]
    },
    {
     "name": "stderr",
     "output_type": "stream",
     "text": [
      "\r",
      " 20%|████████████████████████████████▏                                                                                                                                | 197/986 [2:20:36<2:07:28,  9.69s/it]"
     ]
    },
    {
     "name": "stdout",
     "output_type": "stream",
     "text": [
      "generated explanation: <pad> <extra_id_0> Drinking too much alcohol can cause a variety of health problems. The most common of these are nausea, vomiting, diarrhea, headaches, and stomach pains. Additionally, there are other health issues that can result from drinking too much alcohol. Alcoholism is a very common cause of alcohol-related illness, and many people experience a variety of different types of sickness. This can be caused by the effects of alcohol consumption. For example, nausea is a common side effect of alcohol consumption. This can be caused by overdos, vomiting, nausea, stomach, vomiting, and diarrhea. It can also cause fatigue, and other symptoms. It can also cause headaches, and other problems. It can also be a number of other symptoms. It can also be difficult to identify the symptoms. Additionally, drinking too much alcohol can cause mental confusion, depression, anxiety, depression, insomnia, and depression. This is caused by the effects of drinking. It can also be a variety of other symptoms, such as depression, anxiety, anxiety, insomnia, and other symptoms. It can be difficult to manage. It can be difficult to stop you from drinking too much alcohol, and can be difficult to control over time. It can be difficult to recognize the effects of drinking too much alcohol-related illnesses, and mood swings. It can be difficult to control your body to control the effects of drinking too much of alcohol can cause serious health problems. It can be difficult to manage, and can be caused by alcohol, which can be difficult to control. It can make it difficult to manage.</s>\n",
      "########\n",
      "*******\n",
      "question: WHat is the central bank responding to when they are fighting inflation?\n",
      "answer: problems\n",
      "choices: ['deflation', 'problems', 'spend more', 'people', 'not noticeable']\n",
      "common expl list: ['Inflation is a problem, and the central bank is responding to it by fighting it.', 'Inflation is a function of having too much money in the economy. This may cause problems.', 'In order to fight inflation, a central bank must respond to the problem, e.g., economic trouble, which if left alone, would cause inflation', 'Periods of inflation cause problems for businesses and people. The central bank may take steps to fight inflation (reduce it) to respond to this problem. Reducing inflation also solves the overall issues.']\n"
     ]
    },
    {
     "name": "stderr",
     "output_type": "stream",
     "text": [
      "\r",
      " 20%|████████████████████████████████▎                                                                                                                                | 198/986 [2:20:51<2:26:10, 11.13s/it]"
     ]
    },
    {
     "name": "stdout",
     "output_type": "stream",
     "text": [
      "generated explanation: <pad> <extra_id_0> The central bank is responding to when they are fighting inflation by reducing the money supply, reducing the demand for credit and reducing interest rates. This allows the central bank to reduce the cost of money and reducing the risk of inflation. This can be achieved by reducing the amount of money that is being lent to individuals and businesses, which can lead to higher prices and increased inflation. This can be done by reducing the amount of money that is lent, reducing the risk of default, and reducing the risk of currency running short. Inflation is a problem that the central bank faces when it comes up. In addition to the need to reduce the risk of losing control inflation, the central bank must also have to be aware of the risks associated with inflation, as it can be a number of other factors that can lead to a risk of inflation. Inf the central bank must also have a number of reserves that can help the central bank to better prepare for inflation. In addition, the central bank must be able to reduce risk of default, and to a loss of reserves. Inflation is a risk that could lead to financial crisis. Inflation is a risk that the bank is a loss of reserves, and a loss of liquidity. In addition to the central bank is unable to reduce the need to fund the central bank to reduce the risk of reducing the risk of losing money. Inflation is a risk of default, which could lead to reducing inflation. Infinability to reduce the inflation. Inflindicible risk and a loss of liquidity, which could lead to higher prices. By reducing inflation, the bank to reduce the risk of losing money, the central bank is a major risk because of losing money. Infailing banks are unable to loses that could result inability to raise prices, which could lead to a loss of money and risk of losing the ability to increase in the economy. Inflation is a risk of losing money and damage to businesses and damage to the economy. This could lead to increased risk of inflation. Inflation could also increase risk and damage to the risk of inflation. Inflation is a loss of money and reduces that could lead to increased risk of a loss of liquidity and increase risk of losing money.</s>\n",
      "########\n",
      "*******\n",
      "question: What could a massive building be if it is not constructed well?\n",
      "answer: insubstantial\n",
      "choices: ['insubstantial', 'massless', 'dwarf', 'inconsequential', 'good']\n",
      "common expl list: ['A building is typically considered a sizable construction, therefore, if erected poorly, would be construed as being insubstantial.', 'Because the massive structure is so large, poor construction could render it largely inconsequential, or \"insubstantial\", as a structure.']\n"
     ]
    },
    {
     "name": "stderr",
     "output_type": "stream",
     "text": [
      "\r",
      " 20%|████████████████████████████████▍                                                                                                                                | 199/986 [2:21:00<2:18:47, 10.58s/it]"
     ]
    },
    {
     "name": "stdout",
     "output_type": "stream",
     "text": [
      "generated explanation: <pad> <extra_id_0> A massive building is a massive structure that must be constructed well. It must be able to withstand the elements and remain stable over time. This is because a building is constructed with a high level of quality materials and with a high level of care. The materials used in construction are often of high quality and are often used in complex ways. This can lead to problems such as cracks, leaking, and other problems. A poorly constructed building can be dangerous to the public and to its inhabitants. This includes the building itself, the interior, and the building itself. It is also important to ensure that the structure is safe and that it is safe. The structure is constructed properly designed and maintained. The building is constructed with high levels of safety and security measures to ensure that the building is safe and secure. Additionally, the structure is constructed with a high level of safety measures to ensure that the building is safe and secure. The structure is also important to ensure that it is safe and safe and that it is safe for the public. In addition to being constructed, it is important to ensure that the structure is not dangerous. In addition, a massive building is not a massive building is not a safe and therefore not sufficiently large enough to a building is safe and able to keep it safe and secure. Finally, if the building is constructed well, it is properly designed to ensure that it is safe and well-constructed and designed so that it is not too.</s>\n",
      "########\n",
      "*******\n",
      "question: If you rent a condominium in a glove-shaped state where are you?\n",
      "answer: michigan\n",
      "choices: ['great lake state', 'michigan', 'community', 'towels', 'complex']\n",
      "common expl list: ['A condominium is a type of housing that is often rented. Condominiums are often located in complexes, and Michigan is a state that is shaped like a mitten.']\n"
     ]
    },
    {
     "name": "stderr",
     "output_type": "stream",
     "text": [
      "\r",
      " 20%|████████████████████████████████▋                                                                                                                                | 200/986 [2:21:08<2:07:29,  9.73s/it]"
     ]
    },
    {
     "name": "stdout",
     "output_type": "stream",
     "text": [
      "generated explanation: <pad> <extra_id_0> If you rent a condominium in a glove-shaped state like Michigan, you will be in a glove-shaped state. Michigan is a state that is roughly a third larger than Michigan, which makes it an ideal place to rent a condo. Michigan is a state that is roughly a third larger than Michigan, which is a large state in the northeastern United States. Michigan is also a great place to rent a home, which is why it is often the best place to rent a condo. Michigan is also known as the most expensive, but it is also known for its low cost. It is also a great place to find a great place to find a great place to rent a condo in the middle of Michigan. Michigan is also a great place to buy a condo in the Midwest. Michigan is a great place to rent a condo. It is a great place to rent a great place to buy or rent a home. Michigan is a great place to rent a great place to buy a condo. It is a great place to rent a condo in the great place to buy a condo in Michigan.</s>\n",
      "########\n",
      "*******\n",
      "question: where do children play a game?\n",
      "answer: family room\n",
      "choices: ['toy store', 'bar', 'casino', 'table', 'family room']\n",
      "common expl list: ['A family room is a room in a house where family members can play games.', 'A family room is a room in many homes in which families can socialize, often through games. One such game is \"connect four.']\n"
     ]
    },
    {
     "name": "stderr",
     "output_type": "stream",
     "text": [
      "\r",
      " 20%|████████████████████████████████▋                                                                                                                                | 200/986 [2:21:20<9:15:26, 42.40s/it]"
     ]
    },
    {
     "name": "stdout",
     "output_type": "stream",
     "text": [
      "generated explanation: <pad> <extra_id_0> Children play a variety of games in a family room, such as cards, board games, and board games. In a family room, children can relax and enjoy a variety of activities, including board games, table games, and card games. In a family room, children can also play a variety of board games. In a family room, children can play a variety of board games, such as cards, checkers, and checkers. In a family room, children can play cards, and other games. In a family room, the parents can provide the children with a variety of activities, and other activities. In addition to playing cards, they can also enjoy other activities, and other games. Family rooms can also provide a place for parents to entertain them. In a family room, children can also enjoy the company of friends and spend time with their friends. In a family room, the children can enjoy playing games, and other activities. In a family room, the family room can provide a place for parents to play games and other activities. In a family room, children can also play with friends and other family rooms, such as board games, and other games, such as board games. In a family room can provide a safe place for them to practice skills and social skills. In a family rooms, games can also provide a place for parents and other activities such as crafts, playing games in a family room. Family rooms are a safe place to play board games and other activities such as a family room can provide a place to teach them how to them. In a family room, parents can provide a safe place for children to play games such as board games such as a bedroom. In a family room, a room, and other places to play<extra_id_27> </s>\n",
      "########\n"
     ]
    },
    {
     "name": "stderr",
     "output_type": "stream",
     "text": [
      "\n"
     ]
    }
   ],
   "source": [
    "from tqdm import tqdm\n",
    "fse_csqa_dev_data_dict\n",
    "fse_csqa_train_data_dict\n",
    "rationale_pair_dev_data = []\n",
    "cc=0\n",
    "good_model = model\n",
    "for da in tqdm(our_data_splits['dev'], total=len(our_data_splits['dev'])):\n",
    "    print(\"*******\")\n",
    "    print(\"question: {}\".format(da['question']))\n",
    "    print(\"answer: {}\".format(da['answer']))\n",
    "    print(\"choices: {}\".format(da['choices']))\n",
    "    #print(\"our_explanation: {}\".format(da['our_explanation']))\n",
    "    id_ = da['id']\n",
    "    if id_ in fse_csqa_dev_data_dict.keys():\n",
    "        common_expl_list = fse_csqa_dev_data_dict[id_]['common_expl_list']\n",
    "    else:\n",
    "        common_expl_list = fse_csqa_train_data_dict[id_]['common_expl_list']\n",
    "    da[\"common_expl_list\"] = common_expl_list\n",
    "    print(\"common expl list: {}\".format(common_expl_list))\n",
    "    inp_ids = torch.tensor(da[\"input_ids\"], device=model.device).reshape(1, -1)\n",
    "    out = good_model.generate(\n",
    "                    inp_ids,\n",
    "                    max_length=512,\n",
    "                    pad_token_id=tokenizer.pad_token_id,\n",
    "                    eos_token_id=tokenizer.eos_token_id,\n",
    "                )\n",
    "    skip_special_tokens = False if \"infilling\" in data_args.io_format else True\n",
    "    words = tokenizer.decode(out[0].tolist(), skip_special_tokens=skip_special_tokens)\n",
    "    print(\"generated explanation: {}\".format(words))\n",
    "    da[\"generated_explanation\"] = words\n",
    "    print(\"########\")\n",
    "    rationale_pair_dev_data.append(da)\n",
    "    cc += 1\n",
    "    if cc > 200:\n",
    "        break\n",
    "    #pdb.set_trace()"
   ]
  },
  {
   "cell_type": "code",
   "execution_count": 51,
   "id": "a7a66b99",
   "metadata": {},
   "outputs": [],
   "source": [
    "import json\n",
    "rationale_pair_save_path = os.path.join(\"./results\", \"72shots_cose_t5_large_text003_200_250_rationales_generator_test_rationale_pair.json\")\n",
    "with open(rationale_pair_save_path, 'w') as f:\n",
    "    json.dump(rationale_pair_dev_data, f)"
   ]
  },
  {
   "cell_type": "code",
   "execution_count": 52,
   "id": "33daef0f",
   "metadata": {},
   "outputs": [
    {
     "data": {
      "text/plain": [
       "dict_keys(['5b8a3081c3235d62bc77e2d15f3ad454', '07f108d5321a66f460685f5c7499ecb2', 'ff1bf2ec835c9df8695ae0cfb5281646', '33ea932a876ac0361c9eefeff1d24e92', '35ad89c198d5d6311a71c993bb7b6cba', 'a2aa95861ef74bf1ecfc55db505e3982', 'af3b9a8b1962cd3bcd19e644d873e7bc', '91e0f4ab62c9d2fd440d73a3f5308d96', 'cfc7fccb8449a2a950c9d2a50991420e', 'edbb57ac2f476679ae547f75ec2bef3e', '8555dd9667d010018961a2f7d1c22704', '8bdbb8caefcc607a9ec7579aa0c87cba', '549cf641318edfc0510fa7c7dbb359e1', 'd6c002d46d9bfa466637cec4a134f332', '3b9ccdcb1c932c46a38e040d3e6c7f5b', '54231f875bb7fe4d3e4afb6eae64387c', '668dc6bce771b10cbf6336f3ec76520a', '900492bd731f8f615ed7c08155737d44', '0b25bbd9e9aa976655e1975e31331709', '1729c737ff92cf558efecde2c6cafc5e', 'cc1a547bdfdcc95e4d632453af14bc96', 'c492b8b9754a181c924c1df19998cbc7', 'd31ee38f67d1173275e120b8ad36039c', '083861fc5ebb9226fff70544f3f83d2b', 'e1744fc698cffb574e5cf4b29a81ce76', '1f492f556fae64f72ce36b6caa242dd0', '27604394ccee83e089f9ffae1883cf07', 'b3dc6d6a5e2f9d7da8eb72816c80b3f8_1', '6bc3ebcfd04965c25bde71339955746c', '69335eb9bc5b7b5df840c38a086bf8b2', 'bc05bc6b4df7a3d25a361515fe8912ad', 'f7c005244d406b9bde48dc8c22003af1', 'f48528156632b9c5b18af9ce2095509b', 'b5baf77d3855935c87f01f5fb2216667', 'db1eb157671109bbb9113b0f71a6b957', '77ddc9134bb27f9962aa2ed5ec5a5ef9', '6abd34442438509b4a00c69d6fd24764', 'b67971747e95ba425a5b81e0ba8d0b28', 'bee2a6eadfaf7a4fa0a214e341ddbe5b', '8ce13c6e08bf38d4cd4af756b661e47c', '80930e9df9ac4ad752749a54e7fc124f_1', '3ffe67fb009529d9b0c49ccd7141ee4a', '8d3dc21a53523850ec80771daaa5ff20', '3310b5b24f03d67179fababf9ae95144', '998381f854f51da2a6ccde45909e5168', 'f427f9de6bf580314531baf86de8acbc', '18844d3aa4e52b331b5382c8244cf4db', '8af63d58cc35061dec38e5448c325988', '768fb09deab56046e1565b6a2556ad5c', '5655a3002dd9a6b7dabede1dd26a5893', '07ea8ff6ee916f2bf9aceab1e19ff99a', 'd35a8a3bd560fdd651ecf314878ed30f', '449de58e919975867255218484a9fc89', '7cf54544d54818d53e7088c0749a3eca', 'd29252ddaf7c7ef491abcce342d7bb98', '4a4f6408fae400ce0beb5bea0f9913e9', 'c306ab28498b67c53decb9dde1d78bd5', 'ba9132ebf2bc3ad21e6a0631dc4e0a77', '026cb9c07a583ec933f2c4c67ae73836', '2a21820a135e1a49883525c055c74a0b', '7c45033e9fd9f1a759923971b14390ed', 'dc964e4f6df6b70815e81e466d0ff717', '2a32b1e541b1daae04690d0d3a4b3310', '6c515b068b4d3aa88a5382224d9b866d', '6c84e79d0595efd99596faa07c4961d0', '42c46e28baf0fc617a07419286178c0a', 'c39131d979c9205c11d0e109e18188e4', 'c592258c88295756833e9796e881057b', '3526550b02d9594abd4fc43553010fc6', '637c710ec9582fd9b9e8eaa3f3fe83bb', '01f01cc3ad152773ef42b30e926912bf', 'c54ddc0f9d170ba65d9f4f2e0bb41d1c', 'ad37795fd9e3a65553683ff305b5113d', '7a3d0c94438a5c8a09364aaebb848a2c', '7c05e8d5a057085455eea243fbd1cd90', '4364b4b342fb7b44434bd6694bf8fd51', '99098375c7b651d524eebac72e358238', '1ddd239a2a6438a891cb411b82e7f450', 'f4bb8ecacb9ce89e040f5f76bc79afb3', '6b9221c1af583ffb43580857d6fde38a', 'cf8e30dd6956d03e3f0f0397112a8696', '456f2fb41cac8c028dcfe2f48637e473', 'c908d7c4633c5e6add9463bdd47cb27e', '2de08c7a518b7c226e19bdc8fc10ef1d', 'cd639cf3ff82f825ace7dd2b087562bd', 'e3c6d147f8a727d314046e70e9579ba0', 'b9b82aa4c236cd342ff95455b8516a42', 'e4976ee741cf4b28b8a42780ffb15774', '8d275acea05fd16295c659c504576a9b', '3bf06235a537adc9d85431846595b800', 'a7d51b753c2113d8b2dbd0ebb5375855_1', 'bcc5dd6292a64d8fa17cd07c360b335d', '46ba5d2b8cfc6708e5e2618568d8730e', '9f9ca9bb06d6afc31b19c365fb29a1c9', '3d9c3253e24fb108cea9083e8a853cf2', '3b8e1d236f5169b6c833a994d6d9c39a', '6ca8439d062de4d43d7d471c508b78db', 'ec86900559a0faf2aef066e511a4cfa6', '57e96118fee6e2bbac5f59790fc833c0', '520b0eea9148e3cb4d45aa69a55491eb', '6be05d227f4f6fe727218fc8be9df340', '113aaea2b1a27a976547f54e531d99bb', '2f0931adc3d0d422d9ab6264395e89d8', 'cce1b59f7c4f540a84a1a7d6d88548c4', '870b07a1c5af2e956673a9680da99852', '34005ef0caafefc8585c9fcd50e94557', '22458fdcead20e2def0df0d92d5806f6', 'ec224c1dbfb569cce7ec317fe987ae68', 'ede4d302fc2ffe07703158f83c1493f2', 'ecd32cc0c17d4738a27bba3399f04591', '5c171b9837af49211891ce40e4a10204', '801431167b8bff06b9870abe9721536b', 'b47d912136e3304cb5e5890b6b879551', 'd0bd5b5ee7319d1c4727e38d429dd54e', '78276a4eab6e8d6b9ae3749211816977', 'ec79ef747bb89281923edb89ba26786d', '0e80f2afe5c4f652e8720b52d7c06c87', '39572e0ba1db51fa74f7fc2d90c5ec7f', '56417ee33b44f0d916bedfb6fd99b0ec', 'f996430ce208606452868fd2e739d409', '858a5eaa587fe0e266722228671a6bd1', '273d0134e8ce53d4ebcf41ca7fde02af', '49e466b1782aa4837dae53ff891fcdee', '08d908ed723f813574992195d61386a2', '7192c9f5c513aac9042bad595ff5af9f', 'aa4c5d2d348796b8d7fa324f27f4c34f', '0e52659484f2f6d763cf0d38d4c5999d', '4423c006f2a43f222d4c4e97360c25d3', 'f4a75bf3f115b826a8097edfd0ff2781', '07b51b231a9d6a143d8a73e69121e1b1', 'c2a8c6814ed3e207771cfc23b3b42cf1', 'f13efb91090dd28fd2b3c1f4dde680fd', '985a4f1a3f31f1ba6654f4fc48f504df', '9e5ce2b7d9eb404cdf8c7317dd0b5a59', 'a400b9fd1e319f901471c4b42d401c52', '042898e0c71adac5d123aaa6221c9754', '29c194d032a266a7160bff6f546a4d9d', 'db0cfd52ca6b2bbfcf26d1a898fd929b', '2a0e82bbf1471290c93c8f2a11af197f', '49b4c9e1bd7946a819e173ce8fa4c7c9', '6cb895ce89995f6be422f7c4167c7638', 'df1bf6f3f87975aa0c1b6d6153d9ecef', '1bf4c6b5bd870b1a079106e1e97e5d09', '8ae24d3ff199077a59e0d970feb665b7', 'bb503ece4eac41dfe608a1dcb654e6bf', '6e77de03bee86d6c20780e14f00944d0', '5799089c131e26473697afc54d5f6964', '895aa97bb84d874d71b2aed572cebfdd', '23d97480fe45bace231503f8fc367a5b', 'a2977fd575faba162d04a490dabd1b9b', '5a1c8a9dbbb60e523cc1ba14a370729c', '5496c7293f653120e5a5213db2d7b103', '7044d82a456d0fa6f0210abb03cbf2c4', '15b090801256085ad465e74af47cbee9', 'aa984e2b487d08889bc0c73bab5ac945', '4302e727e47f464511d4d04f22bed0d2', 'b6b66d4519a84b8331ea55f84767e9df', '0e5c7c0cec5b693e52f74f5f879d84fb', 'e408a5a031caec33782cb3b3a005eecc', '96cb628fb7ed2f53245598f707ed2b80', '2067720531fc03c017af941cec2f6f40', '5b8d76889510384b38b72945e8d28f53', 'cf33e0f5891ce53a716432be06a46ee1', '24eebfa678112100803da16dde148b2d', '0c2fa15a02d0b6ca6707e98fac7589e4', 'c2c2a387fd9a6a26cff636008de21f71', 'f20d40bc4af588223e880e0bb58b27b8', 'b42ef8be1748c19fa5938de5396f8fad', '57b83653d82b27d32bc39228130f3516', '2192c5c2145a6e03755ad89a02e64055', '175e7dcdded13d5adafaebf2264c3abd', '8d4b0312f02be445e09a9462873d02bb', 'cfa081b5ba90dae4d7ddb5b7ad9d369a', 'd6bb990e8c409d2b3af37a2da198e01f', '20a3bb788cf408d9a3e25e610fe60905', 'af11faa29097b71141fe192ad019d1dd', '6915dfdefe3b1cd5fd8886c8bb84929a', '43ba9669564217f2f909f33acbedaf95', 'fce1c5d069758aea57a787fc98dcf7a9', '32758ab86d888be680845b0dfe7de35e', '7ea57ee4580042b0a6a40479c8ace3e4', '21fb76bd8349628b441c76f47c33e77b', '3fe45ab3bd4a844ea290050fc0ece8c1_1', '3dee8fc7f0a3fbf4de111b6686fca157', 'ceafca2445b1b974d085a8cce38e8e44', '42520bf3f93f8de23670044e019001a3', '5ea6b94d1a911365b06cf776919413e8', '2d3c9d3dff1a7a8253180cb3de1ceeea', 'a4892551cb4beb279653ae52d0de4c89', 'e050bce7048da1b3743a54153e91694e', 'eb50f536830ba18ab987c7ff652e2aba', '6386bcf080633bc3eeb3317a5435b7b7', '839f3c37622c1ed5eebc9cd0b9d658e8', '009a7aabffe0583fc2df46656b29c326', 'c82ed0c2a2e115452b4d596c5faafbcf', '01abce8c4964371d85a5be2019f75827', '7d937233b4a9043da0b976dbd42d141b', 'c611875b43b67b91030b889b267bbcb3', '7bc1198664b376f79d584725ad7f874b', '5e260e1d96187716888cbd968010bb65', 'fde48d43e27cefed6ed9c52514e0bb6d', '43ab0ff711e60d51f943bbd2cdd6515a', '1a8b3c2a46efabcbd506f9cf70886ed0', '48a315cfa3ce11f7a9d615bc854331d5', '095767956c500ca1af7cf7671556de5b', 'de54d03e69d9765872f95ff06ed21499', 'cbf3dd48b4d591fc872a53cd4b9dd3af', '35872be88df5f6c4a6600020266a5458', 'a90f9197a13c64089c9ba95bcba275ad', 'bd4e80fa6642a76c064d0bc924411fb0', '008b7ba0c039f6d0d542c6c90aae173c', 'ace8fa2943ba8414aebdb74b48906fae', '1caf93d6a22dc8190e19c14bbe1fafda', '7c8bc9c0e56389eef033bca40c88c151', '6195ed74cf445cb5d991e1076a080dde', '8086f022f2d4a4888ae1f8c7e4541ab9', '1e5a138b4c7d456c37abf4990b402bbe', '3f4b48708d08f8bf7bec796531023f9c', '60e92cd2f35c345872d1a898e1718d55', '9889e5389917d812c09d6e5d382d333d', '46351b3a6beb694c5f623583a3b1473d', '7b7941b883328ad39048d4dfb1eb5623', '7d7f7d7a8ae3b20ca9fc0da6efe467b4', 'c961578f4c5768b67b843e5d2ce18452', '514310637fb43a252bfadc8cbf79b277', '5279a2ea333ba8a5bf3a7637a7279da1', '5622e49306bb82ec1cec817ad0506c60', 'fcd39cfa321728fea069a6ae4285b06f', '26bd85f05d29863ed777a4f1a4b8fa63', '31487ab8b1e8f12e252590cc58bd19c2', 'ffd89796a9b09bef56c5803f188764c6', 'ba3a2b9ff289c106051163f840a6f5ba', 'b1f36d1c8ab7e5a28783cb38e8709c27', '5c2bc4335c8860342ec2d568ceb6ac6b', '36c1f50eec01c287b8ef6ffe69fe0528', '515834727e23e30ab7c8fe5ba7e9a765', 'a15d564d0be6996251b5d523ac62db2a', '8f01273422a370a8dbda6bf473a395a0', 'cabefb7063a728e77abd44d97397a2a4', '1bc986f8aea88d6927d8a45367855a94', '484f6e4fb8e6431b010c299490b72e3c', 'a7e3de0719fe30e7048f67426e29fdd1', 'a617eb4d27edea93e7fd630ce00c8219', '2c0030cc14a27be2401dcfdaa501f0fc', 'cf02cca40a47c2deefd8b2e5a5ff2f70', 'ea0e7771afd86a59fd9f7764b77e3fa4', 'c1aebf059c5102f4e773f7fe4afe13f0', '95a85df48902d23eb3fda25a99fca1a0', 'a4b44a986e7f9045432e20ea75611df4', '05490e6c191fbc3c2fe0033ed0bd8aa0'])"
      ]
     },
     "execution_count": 52,
     "metadata": {},
     "output_type": "execute_result"
    }
   ],
   "source": [
    "fse_csqa_dev_data_dict.keys()"
   ]
  },
  {
   "cell_type": "code",
   "execution_count": null,
   "id": "bd852d7d",
   "metadata": {},
   "outputs": [],
   "source": []
  },
  {
   "cell_type": "code",
   "execution_count": null,
   "id": "f735f634",
   "metadata": {},
   "outputs": [],
   "source": []
  }
 ],
 "metadata": {
  "kernelspec": {
   "display_name": "Python 3 (ipykernel)",
   "language": "python",
   "name": "python3"
  },
  "language_info": {
   "codemirror_mode": {
    "name": "ipython",
    "version": 3
   },
   "file_extension": ".py",
   "mimetype": "text/x-python",
   "name": "python",
   "nbconvert_exporter": "python",
   "pygments_lexer": "ipython3",
   "version": "3.7.0"
  }
 },
 "nbformat": 4,
 "nbformat_minor": 5
}
