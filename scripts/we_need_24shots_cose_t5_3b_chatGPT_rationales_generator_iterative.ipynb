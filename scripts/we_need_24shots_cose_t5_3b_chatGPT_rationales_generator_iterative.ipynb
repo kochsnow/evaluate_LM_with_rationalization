{
 "cells": [
  {
   "cell_type": "code",
   "execution_count": 1,
   "id": "f5286ba7",
   "metadata": {},
   "outputs": [
    {
     "name": "stderr",
     "output_type": "stream",
     "text": [
      "\u001b[34m\u001b[1mwandb\u001b[0m: Currently logged in as: \u001b[33mdengdenghuang\u001b[0m (\u001b[33mcuhk_lavilab\u001b[0m). Use \u001b[1m`wandb login --relogin`\u001b[0m to force relogin\n"
     ]
    },
    {
     "name": "stdout",
     "output_type": "stream",
     "text": [
      "env: WANDB_PROJECT=evaluate_LM_with_rationalization\n"
     ]
    }
   ],
   "source": [
    "import wandb\n",
    "wandb.login()\n",
    "\n",
    "%env WANDB_PROJECT=evaluate_LM_with_rationalization"
   ]
  },
  {
   "cell_type": "code",
   "execution_count": 2,
   "id": "30300ea6",
   "metadata": {},
   "outputs": [],
   "source": [
    "# import gpt3\n",
    "import logging\n",
    "import math\n",
    "import os\n",
    "\n",
    "from typing import List, Dict, Any, NewType\n",
    "\n",
    "InputDataClass = NewType(\"InputDataClass\", Any)\n",
    "os.environ[\"CUDA_VISIBLE_DEVICES\"] = \"\"\n",
    "from transformers import (\n",
    "    T5Config,\n",
    "    T5ForConditionalGeneration,\n",
    "    T5Tokenizer,\n",
    "    HfArgumentParser,\n",
    "    TrainingArguments,\n",
    "    set_seed,\n",
    "    EarlyStoppingCallback\n",
    ")\n",
    "from transformers.trainer_utils import EvaluationStrategy\n",
    "from transformers.integrations import TensorBoardCallback\n",
    "import transformers\n",
    "from transformers import Trainer\n",
    "\n",
    "#from feature_conversion_methods import format_instance\n",
    "\n",
    "from custom_args import (\n",
    "    DataTrainingArguments,\n",
    "    ModelArguments\n",
    ")\n",
    "from metrics import evaluate\n",
    "import torch\n",
    "import datasets\n",
    "import git\n",
    "import time\n",
    "from datetime import datetime\n",
    "import sys\n",
    "from tqdm import trange\n",
    "import random \n",
    "import pandas as pd \n",
    "import jsonlines\n",
    "from copy import deepcopy \n",
    "\n",
    "logger = logging.getLogger(__name__)\n",
    "transformers.logging.set_verbosity_info()\n",
    "import re\n",
    "def set_global_logging_level(level=logging.ERROR, prefices=[\"\"]):\n",
    "    \"\"\"\n",
    "    Override logging levels of different modules based on their name as a prefix.\n",
    "    It needs to be invoked after the modules have been loaded so that their loggers have been initialized.\n",
    "\n",
    "    Args:\n",
    "        - level: desired level. e.g. logging.INFO. Optional. Default is logging.ERROR\n",
    "        - prefices: list of one or more str prefices to match (e.g. [\"transformers\", \"torch\"]). Optional.\n",
    "          Default is `[\"\"]` to match all active loggers.\n",
    "          The match is a case-sensitive `module_name.startswith(prefix)`\n",
    "    \"\"\"\n",
    "    prefix_re = re.compile(fr'^(?:{ \"|\".join(prefices) })')\n",
    "    for name in logging.root.manager.loggerDict:\n",
    "        if re.match(prefix_re, name):\n",
    "            logging.getLogger(name).setLevel(level)\n",
    "set_global_logging_level(logging.ERROR, [\"datasets\"])\n",
    "\n",
    "\n",
    "CONFIG_MAPPING = {\"t5\": T5Config}\n",
    "MODEL_MAPPING = {\"t5\": T5ForConditionalGeneration}\n",
    "TOKENIZER_MAPPING = {\"t5\": T5Tokenizer}\n",
    "\n",
    "\n",
    "def set_other_seeds(seed):\n",
    "    torch.backends.cudnn.benchmark = False\n",
    "    #torch.backends.cudnn.deterministic = True\n",
    "    os.environ['PYTHONHASHSEED'] = str(seed)\n",
    "\n",
    "# inspired by DefaultDataCollator from:\n",
    "# https://github.com/huggingface/transformers/blob/master/src/transformers/data/data_collator.py\n",
    "# modified to perform batch-level padding.\n",
    "class SequenceCollator:\n",
    "    def __init__(self, model, pad_token):\n",
    "        self.model = model\n",
    "        self.pad_token_mapping = {\n",
    "            \"labels\": -100,\n",
    "            \"attention_mask\": 0,\n",
    "            \"decoder_attention_mask\": 0,\n",
    "            \"input_ids\": pad_token,\n",
    "        }\n",
    "\n",
    "        self.columns = [\n",
    "            \"input_ids\",\n",
    "            \"attention_mask\",\n",
    "            \"labels\",\n",
    "            \"decoder_attention_mask\",\n",
    "        ]\n",
    "\n",
    "    def __call__(self, examples: List[Dict[str, InputDataClass]]) -> Dict[str, torch.Tensor]:\n",
    "        # re-format inputs for training\n",
    "        batch = {}\n",
    "        for key in examples[0].keys():\n",
    "            if key in self.columns:\n",
    "                tmp_list = []\n",
    "                for item in examples:\n",
    "                    tmp_list.append(item[key])\n",
    "\n",
    "                # pad lists to max length\n",
    "                if isinstance(tmp_list[0], list):\n",
    "                    max_length = max(map(len, tmp_list))\n",
    "                    tmp_list = [\n",
    "                        el + [self.pad_token_mapping[key]] * (max_length - len(el))\n",
    "                        for el in tmp_list\n",
    "                    ]\n",
    "\n",
    "                batch[key] = torch.tensor(tmp_list, dtype=torch.long)\n",
    "        return batch\n"
   ]
  },
  {
   "cell_type": "code",
   "execution_count": 3,
   "id": "2fa5a75a",
   "metadata": {},
   "outputs": [],
   "source": [
    "from collections import defaultdict\n",
    "import random\n",
    "\"\"\"\n",
    "Example-to-Feature conversion methods\n",
    "Modified from\n",
    "https://github.com/salesforce/cos-e/blob/master/code/generation/train_commonsenseqa_v1.0.py and \"\"_v1.11.py (identical)\n",
    "as well as Tensorflow code for WTF?: \n",
    "https://github.com/google-research/google-research/blob/master/wt5/wt5/preprocessors.py\n",
    "\"\"\"\n",
    "# This code is based on https://github.com/allenai/label_rationale_association/blob/main/feature_conversion_methods.py\n",
    "\n",
    "unified_qa_esnli_label_mapping = {0: 'yes', 1: 'maybe', 2: 'no'}\n",
    "unified_qa_esnli_label_mapping_upper = {0: 'Yes', 1: 'Maybe', 2: 'No'} \n",
    "wt5_esnli_label_mapping = {0: 'entailment', 1: 'neutral', 2: 'contradiction'} \n",
    "unified_qa_sbic_label_mapping = {\"offensive\": 'Yes', \"not offensive\": 'No'}\n",
    "\n",
    "def format_instance(\n",
    "        example,\n",
    "        tokenizer,\n",
    "        explanation_sep,\n",
    "        max_seq_length=None,\n",
    "        datasource=None,\n",
    "        io_format=None, \n",
    "):\n",
    "    assert datasource in {\"cos_e\", \"esnli\", \"sbic\", \"sensemaking\", \"ecqa\"}\n",
    "\n",
    "    if datasource in [\"cos_e\", \"ecqa\"]:\n",
    "        input_string, answer_string = cqa_formatting(example, io_format, explanation_sep, datasource)\n",
    "    elif datasource == \"esnli\":\n",
    "        input_string, answer_string = esnli_formatting(example, io_format, explanation_sep)\n",
    "    elif datasource == 'sbic':\n",
    "        input_string, answer_string = sbic_formatting(example, io_format, explanation_sep)\n",
    "    elif datasource == 'sensemaking':\n",
    "        input_string, answer_string = sensemaking_formatting(example, io_format, explanation_sep)\n",
    "    else:\n",
    "        raise ValueError(\"Unknown task. Currently supported: esnli, cos_e, sbic, sensemaking, ecqa.\")\n",
    "    \n",
    "    if 'unified' in io_format and 'unifew' not in io_format:\n",
    "        input_string += '</s>'\n",
    "\n",
    "    input_string = ' '.join(input_string.split())\n",
    "    answer_string = ' '.join(answer_string.split())\n",
    "\n",
    "    input_string = ' '.join(input_string.split())\n",
    "    answer_string = ' '.join(answer_string.split())\n",
    "\n",
    "    encodings = tokenizer.encode_plus(\n",
    "        input_string,\n",
    "        max_length=max_seq_length,\n",
    "        pad_to_max_length=False,\n",
    "        return_token_type_ids=False,\n",
    "        return_attention_mask=True,\n",
    "    )\n",
    "\n",
    "\n",
    "    # note even with \"lm_labels.shift_right()\", the decoder attention mask length is still correct since we remove the last token\n",
    "    dec = tokenizer.encode_plus(\n",
    "        answer_string,\n",
    "        max_length=max_seq_length,\n",
    "        pad_to_max_length=False,\n",
    "        return_token_type_ids=False,\n",
    "        return_attention_mask=True,\n",
    "    )\n",
    "\n",
    "    encodings[\"labels\"] = dec[\"input_ids\"]\n",
    "    encodings[\"decoder_attention_mask\"] = dec[\"attention_mask\"]\n",
    "    encodings[\"question_encoding\"] = encodings[\"input_ids\"]\n",
    "\n",
    "    #return encodings\n",
    "    return {**example, **encodings}\n",
    "\n",
    "#这里很简单 定义好输入输出string就可以的\n",
    "def cqa_formatting(item, io_format, explanation_sep, datasource):\n",
    "    question = item[\"question\"]\n",
    "    answer = item[\"answer\"]\n",
    "    abstr_expl = item[\"abstractive_explanation\"].lower() if datasource == 'cos_e' else item[\"explanation\"].lower()\n",
    "\n",
    "\n",
    "    if io_format == 't5_fewshot_infilling_with_choices':\n",
    "        input_string = f\"explain {datasource} question: {question} choice: \" + \" choice: \".join(item[\"choices\"]) + f\" <extra_id_0> {explanation_sep} <extra_id_1>\"\n",
    "        answer_string = f\"<extra_id_0> {answer} <extra_id_1> {abstr_expl} <extra_id_2>\"\n",
    "    elif io_format == 't5_fewshot_infilling_more_natural':\n",
    "        input_string = f\"explain {datasource} question: {question} choice: \" + \" choice: \".join(item[\"choices\"]) + f\" The answer is <extra_id_0> {explanation_sep} <extra_id_1>\"\n",
    "        answer_string = f\"<extra_id_0> {answer} <extra_id_1> {abstr_expl} <extra_id_2>\"\n",
    "    elif io_format == \"squad\": \n",
    "        input_string = f\"explain {datasource} question: {question} context: \" + ', '.join(item['choices']) # explain cos_e question: When getting in shape you need to have this in between workouts? context: give up, period of recovery, jogging\n",
    "        answer_string = f\"{answer} {explanation_sep} {abstr_expl}\" # period of recovery because without a period of recovery you will not get any gains.\n",
    "    elif io_format == \"record\": \n",
    "        # might not work because cos_e doesn't have a passage \n",
    "        input_string = f\"explain {datasource} query: {question} entities: \" + ', '.join(item['choices']) # explain cos_e query: When getting in shape you need to have this in between workouts? entities: give up, period of recovery, jogging\n",
    "        answer_string = f\"{answer} {explanation_sep} {abstr_expl}\" # period of recovery because without a period of recovery you will not get any gains.\n",
    "    elif io_format == 'unifiedqa_matching':\n",
    "        choice_ids = ['(A)', '(B)', '(C)', '(D)', '(E)']\n",
    "        input_string = f'explain {question.lower()} \\\\n'\n",
    "        for choice_id, choice in zip(choice_ids, item[\"choices\"]):\n",
    "            input_string += f' {choice_id} {choice.lower()}'\n",
    "        answer_string = f\"{answer.lower()} {explanation_sep} {abstr_expl.lower()}\"\n",
    "        answer_string = answer_string.lower()\n",
    "    elif io_format == 't5_fewshot_infilling_without_choices_use_refined_expl':\n",
    "        input_string = f\"explain {datasource} question: {question} choice: \" + \" choice: \".join(item[\"choices\"]) + f\" <extra_id_0> {explanation_sep} <extra_id_1>\"\n",
    "        input_string = f\"explain {datasource} question: {question} answer: {answer}\" + f\" {explanation_sep} <extra_id_0>\"\n",
    "        answer_string = f\"<extra_id_0> {item['our_explanation']} <extra_id_1>\"\n",
    "\n",
    "    else:\n",
    "        raise ValueError(\"The IO format is not supported. Choose `standard` or `masked_cause_generate`.\")\n",
    "    \n",
    "    return input_string, answer_string\n",
    "\n",
    "\n",
    "def esnli_formatting(item, io_format, explanation_sep):\n",
    "\n",
    "    premise = item[\"premise\"]\n",
    "    hypothesis = item[\"hypothesis\"]\n",
    "    answer = unified_qa_esnli_label_mapping[item[\"label\"]] if 'unified' in io_format else wt5_esnli_label_mapping[item[\"label\"]]\n",
    "    abstr_expl = item[\"explanation_1\"].lower() \n",
    "    # Dev/test instances have more than one explanation annotated; merge them into one sequence separated by [SEP] \n",
    "    for k in [2,3]:\n",
    "        if f\"explanation_{k}\" in item and item[f'explanation_{k}']!='': \n",
    "            abstr_expl += f\" [SEP] {item[f'explanation_{k}'].lower()}\"\n",
    "\n",
    "    if io_format == 'standard':\n",
    "        input_string = f\"explain nli hypothesis: {hypothesis} premise: {premise}\"\n",
    "        answer_string = f\"{answer} {explanation_sep} {abstr_expl}\"\n",
    "    elif io_format == 't5_fewshot_infilling':\n",
    "        input_string = f\"explain nli hypothesis: {hypothesis} premise: {premise} <extra_id_0> {explanation_sep} <extra_id_1>\"\n",
    "        answer_string = f\"<extra_id_0> {answer} <extra_id_1> {abstr_expl} <extra_id_2>\"\n",
    "    elif io_format == 't5_fewshot_infilling_more_natural':\n",
    "        input_string = f\"explain nli hypothesis: {hypothesis} premise: {premise} This is <extra_id_0> {explanation_sep} <extra_id_1>\"\n",
    "        answer_string = f\"<extra_id_0> {answer} <extra_id_1> {abstr_expl} <extra_id_2>\"\n",
    "    elif io_format == \"squad\": \n",
    "        input_string = f\"explain nli question: Is this entailment? context: {hypothesis} {premise}\"  \n",
    "        answer_ynm = unified_qa_esnli_label_mapping[item[\"label\"]]\n",
    "        answer_string = f\"{answer_ynm} {explanation_sep} {abstr_expl}\" \n",
    "    elif io_format == \"squad_endswith_what\":\n",
    "        input_string = f\"explain nli question: What is this? context: {hypothesis} {premise}\"  \n",
    "        answer_string = f\"{answer} {explanation_sep} {abstr_expl}\"  \n",
    "    elif io_format == \"squad_nli_mix\": \n",
    "        input_string = f\"explain nli question: Is this entailment? context: hypothesis: {hypothesis} premise: {premise}\"  \n",
    "        answer_ynm = unified_qa_esnli_label_mapping[item[\"label\"]]\n",
    "        answer_string = f\"{answer_ynm} {explanation_sep} {abstr_expl}\"  \n",
    "    elif io_format == \"squad_nli_mix_endswith_what\":  \n",
    "        input_string = f\"explain nli question: What is this? context: hypothesis: {hypothesis} premise: {premise}\"  \n",
    "        answer_string = f\"{answer} {explanation_sep} {abstr_expl}\"   \n",
    "    elif io_format == 'unifiedqa_unifew':\n",
    "        hypothesis = hypothesis.lower().rstrip('.')\n",
    "        unified_qa_esnli_label_mapping_upper = {0: 'Yes', 1: 'Maybe', 2: 'No'}\n",
    "        answer = unified_qa_esnli_label_mapping_upper[item[\"label\"]]\n",
    "        input_string = f'explain {premise} Is {hypothesis}? \\\\n (A) Yes (B) Maybe (C) No'\n",
    "        answer_string = f\"{answer} {explanation_sep} {abstr_expl}\"  \n",
    "    elif io_format == 'unifiedqa_unifew_nli_mix':\n",
    "        premise = premise.lower().rstrip('.')\n",
    "        unified_qa_esnli_label_mapping_upper = {0: 'Yes', 1: 'Maybe', 2: 'No'}\n",
    "        input_string = f'explain hypothesis: {hypothesis} Is premise: {premise}? \\\\n (A) Yes (B) Maybe (C) No'\n",
    "        answer_string = f\"{answer} {explanation_sep} {abstr_expl}\"  \n",
    "    elif io_format == 'unifiedqa_ynm': \n",
    "        input_string = f'explain is this entailment? \\\\n {hypothesis.lower()} {premise.lower()}'  \n",
    "        answer = unified_qa_esnli_label_mapping[item[\"label\"]]\n",
    "        answer_string = f\"{answer} {explanation_sep} {abstr_expl.lower()}\"  \n",
    "    elif io_format == 'unifiedqa_snli_mix_ynm': \n",
    "        input_string = f'explain is this entailment? \\\\n hypothesis: {hypothesis.lower()} premise: {premise.lower()}' \n",
    "        answer = unified_qa_esnli_label_mapping[item[\"label\"]]\n",
    "        answer_string = f\"{answer} {explanation_sep} {abstr_expl.lower()}\"  \n",
    "    elif io_format == 'unifiedqa_snli_mix_ynm_with_choices': \n",
    "        input_string = f'explain is this entailment? \\\\n (A) yes (B) maybe (C) no \\\\n hypothesis: {hypothesis.lower()} premise: {premise.lower()}'  \n",
    "        answer = unified_qa_esnli_label_mapping[item[\"label\"]]\n",
    "        answer_string = f\"{answer} {explanation_sep} {abstr_expl.lower()}\"  \n",
    "    elif io_format == 'unifiedqa_what_v2': \n",
    "        input_string = f'explain what is this? \\\\n {hypothesis.lower()} {premise.lower()}'  \n",
    "        answer = wt5_esnli_label_mapping[item[\"label\"]]\n",
    "        answer_string = f\"{answer} {explanation_sep} {abstr_expl.lower()}\"  \n",
    "    elif io_format == 'unifiedqa_snli_mix_what_v2': \n",
    "        input_string = f'explain what is this? \\\\n hypothesis: {hypothesis.lower()} premise: {premise.lower()}'  \n",
    "        answer = wt5_esnli_label_mapping[item[\"label\"]]\n",
    "        answer_string = f\"{answer} {explanation_sep} {abstr_expl.lower()}\"  \n",
    "    elif io_format == 'unifiedqa_snli_mix_what_with_choices_v2': \n",
    "        input_string = f'explain what is this? \\\\n (A) entailment (B) neutral (C) contradiction \\\\n hypothesis: {hypothesis.lower()} premise: {premise.lower()}'  \n",
    "        answer = wt5_esnli_label_mapping[item[\"label\"]]\n",
    "        answer_string = f\"{answer} {explanation_sep} {abstr_expl.lower()}\"     \n",
    "    else:\n",
    "        raise ValueError(\"The IO format is not supported.\")\n",
    "\n",
    "    return input_string, answer_string\n",
    "\n",
    "\n",
    "def sbic_formatting(item, io_format, explanation_sep):\n",
    "    # We pre-processed the SBIC dataset such that we join multiple implied statements with the [SEP] token for dev/test instances \n",
    "    # Each annotation in the training split is a separate instance\n",
    "    post = item['post']\n",
    "    answer = unified_qa_sbic_label_mapping[item[\"offensiveYN\"]] if 'unified' in io_format else item[\"offensiveYN\"].replace(\"not offensive\", \"not_offensive\")\n",
    "    abstr_expl = item[\"targetStereotype\"]\n",
    "    \n",
    "\n",
    "    if io_format == 'cola':\n",
    "        input_string = f\"explain sbic sentence: {post}\"\n",
    "        answer_string = f\"{answer} {explanation_sep} {abstr_expl}\"  \n",
    "    elif io_format == 't5_fewshot_infilling':\n",
    "        input_string = f\"explain sbic sentence: {post} <extra_id_0> {explanation_sep} <extra_id_1>\"\n",
    "        answer_string = f\"<extra_id_0> {answer} <extra_id_1> {abstr_expl} <extra_id_2>\"\n",
    "    elif io_format == 't5_fewshot_infilling_bool':\n",
    "        answer_bool = 'True' if item[\"offensiveYN\"] == 'offensive' else 'False'\n",
    "        input_string = f\"explain sbic sentence: {post} It is <extra_id_0> that this is offensive {explanation_sep} <extra_id_1>\"\n",
    "        answer_string = f\"<extra_id_0> {answer} <extra_id_1> {abstr_expl} <extra_id_2>\"\n",
    "    elif io_format == 't5_fewshot_infilling_more_natural':\n",
    "        input_string = f\"explain sbic sentence: {post} This is <extra_id_0> {explanation_sep} <extra_id_1>\"\n",
    "        answer_string = f\"<extra_id_0> {answer} <extra_id_1> {abstr_expl} <extra_id_2>\"\n",
    "    elif io_format == 'squad_yn': \n",
    "        input_string = f\"explain sbic question: Is this offensive? context: {post}\" # explain sbic question: Is this offensive? context: It's only happened to you like two times.\n",
    "        answer_yn = unified_qa_sbic_label_mapping[item[\"offensiveYN\"]] \n",
    "        answer_string = f\"{answer_yn} {explanation_sep} {abstr_expl}\" #  No because this post does not imply anything offensive\n",
    "    elif io_format == 'squad_yn_with_tags': \n",
    "        input_string = f\"explain sbic question: Is this offensive? context: post: {post}\" # explain sbic question: Is this offensive? context: It's only happened to you like two times.\n",
    "        answer_yn = unified_qa_sbic_label_mapping[item[\"offensiveYN\"]] \n",
    "        answer_string = f\"{answer_yn} {explanation_sep} {abstr_expl}\" #  No because this post does not imply anything offensive\n",
    "    elif io_format == 'squad_what': \n",
    "        input_string = f\"explain sbic question: What is this? context: {post}\" # explain sbic question: This is what? context: It's only happened to you like two times.\n",
    "        answer = item[\"offensiveYN\"].replace(\"not offensive\", \"not_offensive\")        \n",
    "        answer_string = f\"{answer} {explanation_sep} {abstr_expl}\" # not_offensive because this post does not imply anything offensive    \n",
    "    elif io_format == 'squad_what_with_tags': \n",
    "        input_string = f\"explain sbic question: What is this? context: post: {post}\" # explain sbic question: This is what? context: It's only happened to you like two times.\n",
    "        answer = item[\"offensiveYN\"].replace(\"not offensive\", \"not_offensive\")        \n",
    "        answer_string = f\"{answer} {explanation_sep} {abstr_expl}\" # not_offensive because this post does not imply anything offensive    \n",
    "    elif io_format == 'unified_qa_yn':\n",
    "        input_string = f'explain is this offensive? \\\\n {post.lower()}'\n",
    "        answer_string = f\"{answer} {explanation_sep} {abstr_expl.lower()}\" \n",
    "    elif io_format == 'unified_qa_yn_with_tags':\n",
    "        input_string = f'explain is this offensive? \\\\n post: {post.lower()}'\n",
    "        answer_string = f\"{answer} {explanation_sep} {abstr_expl.lower()}\"  \n",
    "    elif io_format == 'unified_qa_yn_with_choices':\n",
    "        input_string = f'explain is this offensive? \\\\n (A) yes (B) no \\\\n {post.lower()}'\n",
    "        answer_string = f\"{answer} {explanation_sep} {abstr_expl.lower()}\"\n",
    "    elif io_format == 'unified_qa_yn_with_choices_and_tags':\n",
    "        input_string = f'explain is this offensive? \\\\n (A) yes (B) no \\\\n post: {post.lower()}'\n",
    "        answer_string = f\"{answer} {explanation_sep} {abstr_expl.lower()}\"  \n",
    "    elif io_format == 'unified_qa_what':\n",
    "        input_string = f'explain what is this? \\\\n {post.lower()}'\n",
    "        answer = item[\"offensiveYN\"].replace(\"not offensive\", \"not_offensive\")\n",
    "        answer_string = f\"{answer} {explanation_sep} {abstr_expl.lower()}\"  \n",
    "    elif io_format == 'unified_qa_what_with_tags':\n",
    "        input_string = f'explain what is this? \\\\n post: {post.lower()}'\n",
    "        answer = item[\"offensiveYN\"].replace(\"not offensive\", \"not_offensive\")\n",
    "        answer_string = f\"{answer} {explanation_sep} {abstr_expl.lower()}\"  \n",
    "    elif io_format == 'unified_qa_what_with_choices':\n",
    "        input_string = f'explain what is this? \\\\n (A) offensive (B) not_offensive \\\\n {post.lower()}'\n",
    "        answer = item[\"offensiveYN\"].replace(\"not offensive\", \"not_offensive\")\n",
    "        answer_string = f\"{answer} {explanation_sep} {abstr_expl.lower()}\"\n",
    "    elif io_format == 'unified_qa_what_with_choices_and_tags':\n",
    "        input_string = f'explain what is this? \\\\n (A) offensive (B) not_offensive \\\\n post: {post.lower()}'\n",
    "        answer = item[\"offensiveYN\"].replace(\"not offensive\", \"not_offensive\")\n",
    "        answer_string = f\"{answer} {explanation_sep} {abstr_expl.lower()}\"  \n",
    "    elif io_format == 'unifiedqa_unifew':\n",
    "        input_string = f\"Topic? \\\\n (A) offensive (B) not_offensive \\\\n {post}\"\n",
    "        answer = item[\"offensiveYN\"].replace(\"not offensive\", \"not_offensive\")\n",
    "        answer_string = f\"{answer} {explanation_sep} {abstr_expl}\"\n",
    "    else:\n",
    "        raise ValueError(\"The IO format is not supported. Choose `standard` or `masked_cause_generate`.\")\n",
    "\n",
    "    input_string = ' '.join(input_string.split())\n",
    "    answer_string = ' '.join(answer_string.split())\n",
    "    return input_string, answer_string\n",
    "\n",
    "def sensemaking_formatting(item, io_format, explanation_sep):\n",
    "    # TODO: explore whether removing periods makes difference? \n",
    "    sent0 = item['sent0']\n",
    "    sent1 = item['sent1']\n",
    "    nonsensical_sentence = str(int(item['label'])+1)\n",
    "    explanation = item['explanation'].lower()\n",
    "\n",
    "    if io_format == 'copa_with_question':\n",
    "        input_string = f\"explain sensemaking choice1: {sent0} choice2: {sent1} question: nonsensical\"\n",
    "        answer_string = f\"choice{nonsensical_sentence} {explanation_sep} {explanation}\"\n",
    "    elif io_format == 'copa_bool':  \n",
    "        answer_bool = str(bool(int(item['label']))) # True if choice2 is more nonsensical    \n",
    "        input_string = f\"explain sensemaking choice1: {sent0} choice2: {sent1} Less common is choice2\"\n",
    "        answer_string = f\"{answer_bool} {explanation_sep} {explanation}\"\n",
    "    elif io_format == 't5_fewshot_infilling':  \n",
    "        input_string = f\"explain sensemaking choice1: {sent0} choice2: {sent1} <extra_id_0> {explanation_sep} <extra_id_1>\"\n",
    "        answer_string = f\"<extra_id_0> choice{nonsensical_sentence} <extra_id_1> {explanation} <extra_id_2>\"\n",
    "    elif io_format == 't5_fewshot_infilling_bool':  \n",
    "        answer_bool = str(bool(int(item['label']))) # True if choice2 is more nonsensical    \n",
    "        input_string = f\"explain sensemaking choice1: {sent0} choice2: {sent1} It is <extra_id_0> that choice2 is less common {explanation_sep} <extra_id_1>\"\n",
    "        answer_string = f\"<extra_id_0> {answer_bool} <extra_id_1> {explanation} <extra_id_2>\"\n",
    "    elif io_format == \"squad_yn\": \n",
    "        input_string = f\"explain sensemaking question: Is choice2 more nonsensical? context: choice1: {sent0} choice2: {sent1}\" # explain sensemaking question: What is nonsensical, choice1 or choice2? context: choice1: All state flowers are the scarlet carnation. choice2: The New Jersey state flower is the scarlet carnation\n",
    "        answer = \"Yes\" if bool(int(item['label'])) else \"No\"\n",
    "        answer_string = f\"{answer} {explanation_sep} {explanation}\" #  choice1 because state flowers are unique to each state.  \n",
    "    elif io_format == \"squad_yn_no_tags\": \n",
    "        input_string = f\"explain sensemaking question: Is choice2 more nonsensical? context: {sent0} {sent1}\" # explain sensemaking question: What is nonsensical, choice1 or choice2? context: choice1: All state flowers are the scarlet carnation. choice2: The New Jersey state flower is the scarlet carnation\n",
    "        answer = \"Yes\" if bool(int(item['label'])) else \"No\"\n",
    "        answer_string = f\"{answer} {explanation_sep} {explanation}\" #  choice1 because state flowers are unique to each state.  \n",
    "    elif io_format == \"squad_what\": \n",
    "        input_string = f\"explain sensemaking question: What is more nonsensical? context: choice1: {sent0} choice2: {sent1}\" # explain sensemaking question: What is nonsensical, choice1 or choice2? context: choice1: All state flowers are the scarlet carnation. choice2: The New Jersey state flower is the scarlet carnation\n",
    "        answer_string = f\"choice{nonsensical_sentence} {explanation_sep} {explanation}\" #  choice1 because state flowers are unique to each state.  \n",
    "    elif io_format == \"squad_what_no_tags\": \n",
    "        input_string = f\"explain sensemaking question: What is more nonsensical? context: {sent0} {sent1}\" # explain sensemaking question: What is nonsensical, choice1 or choice2? context: choice1: All state flowers are the scarlet carnation. choice2: The New Jersey state flower is the scarlet carnation\n",
    "        answer_string = f\"choice{nonsensical_sentence} {explanation_sep} {explanation}\" #  choice1 because state flowers are unique to each state.  \n",
    "    elif io_format == \"record\": \n",
    "        input_string = f\"explain sensemaking query: What is more nonsensical? entities: choice1, choice2 passage: choice1: {sent0} choice2: {sent1}\" # explain sensemaking query: What is nonsensical? entities: choice1, choice2 passage: choice1: All state flowers are the scarlet carnation. choice2: The New Jersey state flower is the scarlet carnation.\n",
    "        answer_string = f\"choice{nonsensical_sentence} {explanation_sep} {explanation}\" # choice1 because state flowers are unique to each state.\n",
    "    elif io_format == 'unifiedqa_yn_with_choices':\n",
    "        answer = \"yes\" if bool(int(item['label'])) else \"no\"\n",
    "        input_string = f'explain is choice2 more nonsensical? \\\\n (A) yes (B) no \\\\n choice1: {sent0.lower()} choice2: {sent1.lower()}'\n",
    "        answer_string = f\"{answer} {explanation_sep} {explanation.lower()}\" \n",
    "    elif io_format == 'unifiedqa_yn':\n",
    "        answer = \"yes\" if bool(int(item['label'])) else \"no\"\n",
    "        input_string = f'explain is choice2 more nonsensical? \\\\n choice1: {sent0.lower()} choice2: {sent1.lower()}'\n",
    "        answer_string = f\"{answer} {explanation_sep} {explanation.lower()}\"  \n",
    "    elif io_format == 'unifiedqa_yn_no_tags':\n",
    "        answer = \"yes\" if bool(int(item['label'])) else \"no\"\n",
    "        input_string = f'explain is choice2 more nonsensical? \\\\n {sent0.lower()} {sent1.lower()}'\n",
    "        answer_string = f\"{answer} {explanation_sep} {explanation.lower()}\"  \n",
    "    elif io_format == 'unifiedqa_what_with_choices':\n",
    "        nonsensical_sentence = str(int(item['label'])+1)\n",
    "        input_string = f'explain what is more nonsensical? \\\\n (A) choice1 (B) choice2 \\\\n choice1: {sent0.lower()} choice2: {sent1.lower()}'\n",
    "        answer_string = f\"choice{nonsensical_sentence} {explanation_sep} {explanation.lower()}\"  # use \" BECAUSE \"\n",
    "    elif io_format == 'unifiedqa_what':\n",
    "        nonsensical_sentence = str(int(item['label'])+1)\n",
    "        input_string = f'explain what is more nonsensical? \\\\n choice1: {sent0.lower()} choice2: {sent1.lower()}'\n",
    "        answer_string = f\"choice{nonsensical_sentence} {explanation_sep} {explanation.lower()}\"  # use \" BECAUSE \"\n",
    "    elif io_format == 'unifiedqa_what_no_tags':\n",
    "        nonsensical_sentence = str(int(item['label'])+1)\n",
    "        input_string = f'explain what is more nonsensical? \\\\n {sent0.lower()} {sent1.lower()}'\n",
    "        answer_string = f\"choice{nonsensical_sentence} {explanation_sep} {explanation.lower()}\"  # use \" BECAUSE \"\n",
    "\n",
    "\n",
    "    input_string = ' '.join(input_string.split())\n",
    "    answer_string = ' '.join(answer_string.split())\n",
    "    return input_string, answer_string"
   ]
  },
  {
   "cell_type": "code",
   "execution_count": 4,
   "id": "dde6c7e1",
   "metadata": {},
   "outputs": [
    {
     "name": "stderr",
     "output_type": "stream",
     "text": [
      "PyTorch: setting up devices\n",
      "The default value for the training argument `--report_to` will change in v5 (from all installed integrations to none). In v5, you will need to use `--report_to all` to get the same behavior as now. You should start updating your code and make this info disappear :-).\n",
      "01/07/2023 19:32:46 - WARNING - __main__ -   Process rank: -1, device: cpu, n_gpu: 0, distributed training: False, 16-bits training: False\n",
      "01/07/2023 19:32:46 - INFO - __main__ -   Save path: ./cos_e_output_t5_3b/010723_193246\n",
      "01/07/2023 19:32:46 - INFO - __main__ -   Git branch: dev\n",
      "01/07/2023 19:32:46 - INFO - __main__ -   Git hash: 1cbb5c3b4e53baf31cbafc20d9655c63f091f901\n"
     ]
    }
   ],
   "source": [
    "og_start_time = time.time()\n",
    "\n",
    "#parser = HfArgumentParser(\n",
    "#    (ModelArguments, DataTrainingArguments, TrainingArguments)\n",
    "#)\n",
    "parser = HfArgumentParser(\n",
    "    (ModelArguments, DataTrainingArguments, TrainingArguments)\n",
    ")\n",
    "\n",
    "model_args, data_args, training_args, unused_args = parser.parse_args_into_dataclasses(\n",
    "    [\"--model_type\", \"t5-3b\",\n",
    "     \"--tokenizer_name\", \"t5-3b\",\n",
    "     \"--task_name\", \"cos_e\", \n",
    "     \"--output_dir\", \"./cos_e_output_t5_3b\", \n",
    "     \"--n_shots\", \"10\",\n",
    "     \"--do_train\", \"True\"], return_remaining_strings=True)\n",
    "if unused_args != []:\n",
    "    raise ValueError(f\"Received unused arguments: {unused_args}\")\n",
    "# make sure only one dataset split pick if manually specifying evaluation file\n",
    "\n",
    "if model_args.use_gpt3:\n",
    "    assert training_args.do_train\n",
    "    assert not training_args.do_eval\n",
    "    assert data_args.generations_filepath is None\n",
    "    if data_args.gpt3_max_eval_size is not None:\n",
    "        assert data_args.gpt3_max_eval_size <= data_args.fewshot_eval_size\n",
    "        assert data_args.gpt3_max_eval_size % 2 == 0\n",
    "        assert data_args.gpt3_max_eval_size % 3 == 0\n",
    "\n",
    "if data_args.generations_filepath is not None:\n",
    "    training_args.do_train = False\n",
    "    training_args.do_eval = False\n",
    "    if \"train\" in data_args.generations_filepath:\n",
    "        data_args.train_predict = True\n",
    "        data_args.test_predict = False\n",
    "        data_args.dev_predict = False\n",
    "    elif \"test\" in data_args.generations_filepath:\n",
    "        data_args.train_predict = False\n",
    "        data_args.test_predict = True\n",
    "        data_args.dev_predict = False\n",
    "    elif \"validation\" in data_args.generations_filepath:\n",
    "        data_args.train_predict = False\n",
    "        data_args.test_predict = False\n",
    "        data_args.dev_predict = True\n",
    "\n",
    "if not training_args.do_train and data_args.generations_filepath is None:\n",
    "    if not model_args.pretrained_model_file:\n",
    "        raise Exception(\n",
    "            \"if not training a model from scratch, must specify a trained model to load for evaluation\"\n",
    "        )\n",
    "\n",
    "if training_args.do_train:\n",
    "    # create a save directory and a logfile\n",
    "    training_args.output_dir = os.path.join(\n",
    "        training_args.output_dir, datetime.now().strftime(\"%m%d%y_%H%M%S\")\n",
    "    )\n",
    "    training_args.logging_dir = training_args.output_dir\n",
    "    assert not os.path.exists(training_args.output_dir)\n",
    "    os.makedirs(training_args.output_dir)\n",
    "\n",
    "    if (\n",
    "            os.path.exists(training_args.output_dir)\n",
    "            and os.listdir(training_args.output_dir)\n",
    "            and training_args.do_train\n",
    "            and not training_args.overwrite_output_dir\n",
    "    ):\n",
    "        raise ValueError(\n",
    "            f\"Output directory ({training_args.output_dir}) already exists and is not empty. Use --overwrite_output_dir to overcome.\"\n",
    "        )\n",
    "    handlers = [\n",
    "        logging.FileHandler(os.path.join(training_args.output_dir, \"logger.log\")),\n",
    "        logging.StreamHandler(),\n",
    "    ]\n",
    "else:\n",
    "    # don't overwrite existing logfile or create new directory\n",
    "    training_args.output_dir = model_args.pretrained_model_file\n",
    "    handlers = [logging.StreamHandler()]\n",
    "\n",
    "# Setup logging\n",
    "logging.basicConfig(\n",
    "    format=\"%(asctime)s - %(levelname)s - %(name)s -   %(message)s\",\n",
    "    datefmt=\"%m/%d/%Y %H:%M:%S\",\n",
    "    level=logging.INFO if training_args.local_rank in [-1, 0] else logging.WARN,\n",
    "    handlers=handlers,\n",
    ")\n",
    "logger.warning(\n",
    "    \"Process rank: %s, device: %s, n_gpu: %s, distributed training: %s, 16-bits training: %s\",\n",
    "    training_args.local_rank,\n",
    "    training_args.device,\n",
    "    training_args.n_gpu,\n",
    "    bool(training_args.local_rank != -1),\n",
    "    training_args.fp16,\n",
    ")\n",
    "logger.info(\"Save path: %s\" % training_args.output_dir)\n",
    "\n",
    "# get git hash and branch where deployed\n",
    "repo = git.Repo(search_parent_directories=True)\n",
    "git_hash = repo.head.object.hexsha\n",
    "git_branch = repo.active_branch.name\n",
    "logger.info(\"Git branch: %s\" % git_branch)\n",
    "logger.info(\"Git hash: %s\" % git_hash)\n",
    "\n",
    "model_class = \"t5\"\n",
    "assert data_args.task_name in {\"cos_e\", \"esnli\", \"sbic\", \"sensemaking\", \"ecqa\"}\n",
    "\n",
    "if training_args.do_train:\n",
    "    # write command and args to file\n",
    "    with open(\n",
    "            os.path.join(training_args.output_dir, \"commandline_args.txt\"), \"w\"\n",
    "    ) as f:\n",
    "        f.write(\"Git branch: \" + git_branch + \"\\n\")\n",
    "        f.write(\"Git hash: \" + git_hash + \"\\n\")\n",
    "        f.write(\"Command:\\n\")\n",
    "        f.write(\"\\n\".join(sys.argv[1:]))\n",
    "\n",
    "# Set seed\n",
    "set_seed(training_args.seed)\n",
    "set_other_seeds(training_args.seed)\n",
    "\n",
    "# Load pretrained model and tokenizer\n",
    "#\n",
    "# Distributed training:\n",
    "# The .from_pretrained methods guarantee that only one local process can concurrently\n",
    "# download model & vocab."
   ]
  },
  {
   "cell_type": "code",
   "execution_count": 5,
   "id": "684646b4",
   "metadata": {},
   "outputs": [
    {
     "data": {
      "text/plain": [
       "device(type='cpu')"
      ]
     },
     "execution_count": 5,
     "metadata": {},
     "output_type": "execute_result"
    }
   ],
   "source": [
    "training_args.device"
   ]
  },
  {
   "cell_type": "code",
   "execution_count": 6,
   "id": "18a3172a",
   "metadata": {},
   "outputs": [
    {
     "name": "stderr",
     "output_type": "stream",
     "text": [
      "01/07/2023 19:32:46 - INFO - __main__ -   Loading pretrained tokenizer...\n",
      "loading file https://huggingface.co/t5-3b/resolve/main/spiece.model from cache at /home/huangyongfeng/.cache/huggingface/transformers/529487bfb232bc6331b488e0e3f011af7d700beb874529a38613f0c162994f36.3b69006860e7b5d0a63ffdddc01ddcd6b7c318a6f4fd793596552c741734c62d\n",
      "loading file https://huggingface.co/t5-3b/resolve/main/added_tokens.json from cache at None\n",
      "loading file https://huggingface.co/t5-3b/resolve/main/special_tokens_map.json from cache at None\n",
      "loading file https://huggingface.co/t5-3b/resolve/main/tokenizer_config.json from cache at None\n",
      "loading file https://huggingface.co/t5-3b/resolve/main/tokenizer.json from cache at /home/huangyongfeng/.cache/huggingface/transformers/8cc0c6618e070737993bd96f1f5251e1cc850a347fa1ff28c378c89c66e66c80.8627f1bd5d270a9fd2e5a51c8bec3223896587cc3cfe13edeabb0992ab43c529\n",
      "loading configuration file https://huggingface.co/t5-3b/resolve/main/config.json from cache at /home/huangyongfeng/.cache/huggingface/transformers/9548aafe2574163cda830b603f9821f06bbded327f57ecf09d4ad292d00f4b09.9872b28381f35eb45b1f1f839ef14943e64a0a448f611993c2e987c4d3e0844c\n",
      "Model config T5Config {\n",
      "  \"architectures\": [\n",
      "    \"T5WithLMHeadModel\"\n",
      "  ],\n",
      "  \"d_ff\": 16384,\n",
      "  \"d_kv\": 128,\n",
      "  \"d_model\": 1024,\n",
      "  \"decoder_start_token_id\": 0,\n",
      "  \"dropout_rate\": 0.1,\n",
      "  \"eos_token_id\": 1,\n",
      "  \"feed_forward_proj\": \"relu\",\n",
      "  \"gradient_checkpointing\": false,\n",
      "  \"initializer_factor\": 1.0,\n",
      "  \"is_encoder_decoder\": true,\n",
      "  \"layer_norm_epsilon\": 1e-06,\n",
      "  \"model_type\": \"t5\",\n",
      "  \"n_positions\": 512,\n",
      "  \"num_decoder_layers\": 24,\n",
      "  \"num_heads\": 32,\n",
      "  \"num_layers\": 24,\n",
      "  \"output_past\": true,\n",
      "  \"pad_token_id\": 0,\n",
      "  \"relative_attention_num_buckets\": 32,\n",
      "  \"task_specific_params\": {\n",
      "    \"summarization\": {\n",
      "      \"early_stopping\": true,\n",
      "      \"length_penalty\": 2.0,\n",
      "      \"max_length\": 200,\n",
      "      \"min_length\": 30,\n",
      "      \"no_repeat_ngram_size\": 3,\n",
      "      \"num_beams\": 4,\n",
      "      \"prefix\": \"summarize: \"\n",
      "    },\n",
      "    \"translation_en_to_de\": {\n",
      "      \"early_stopping\": true,\n",
      "      \"max_length\": 300,\n",
      "      \"num_beams\": 4,\n",
      "      \"prefix\": \"translate English to German: \"\n",
      "    },\n",
      "    \"translation_en_to_fr\": {\n",
      "      \"early_stopping\": true,\n",
      "      \"max_length\": 300,\n",
      "      \"num_beams\": 4,\n",
      "      \"prefix\": \"translate English to French: \"\n",
      "    },\n",
      "    \"translation_en_to_ro\": {\n",
      "      \"early_stopping\": true,\n",
      "      \"max_length\": 300,\n",
      "      \"num_beams\": 4,\n",
      "      \"prefix\": \"translate English to Romanian: \"\n",
      "    }\n",
      "  },\n",
      "  \"transformers_version\": \"4.9.2\",\n",
      "  \"use_cache\": true,\n",
      "  \"vocab_size\": 32128\n",
      "}\n",
      "\n",
      "loading configuration file https://huggingface.co/t5-3b/resolve/main/config.json from cache at /home/huangyongfeng/.cache/huggingface/transformers/9548aafe2574163cda830b603f9821f06bbded327f57ecf09d4ad292d00f4b09.9872b28381f35eb45b1f1f839ef14943e64a0a448f611993c2e987c4d3e0844c\n",
      "Model config T5Config {\n",
      "  \"architectures\": [\n",
      "    \"T5WithLMHeadModel\"\n",
      "  ],\n",
      "  \"d_ff\": 16384,\n",
      "  \"d_kv\": 128,\n",
      "  \"d_model\": 1024,\n",
      "  \"decoder_start_token_id\": 0,\n",
      "  \"dropout_rate\": 0.1,\n",
      "  \"eos_token_id\": 1,\n",
      "  \"feed_forward_proj\": \"relu\",\n",
      "  \"gradient_checkpointing\": false,\n",
      "  \"initializer_factor\": 1.0,\n",
      "  \"is_encoder_decoder\": true,\n",
      "  \"layer_norm_epsilon\": 1e-06,\n",
      "  \"model_type\": \"t5\",\n",
      "  \"n_positions\": 512,\n",
      "  \"num_decoder_layers\": 24,\n",
      "  \"num_heads\": 32,\n",
      "  \"num_layers\": 24,\n",
      "  \"output_past\": true,\n",
      "  \"pad_token_id\": 0,\n",
      "  \"relative_attention_num_buckets\": 32,\n",
      "  \"task_specific_params\": {\n",
      "    \"summarization\": {\n",
      "      \"early_stopping\": true,\n",
      "      \"length_penalty\": 2.0,\n",
      "      \"max_length\": 200,\n",
      "      \"min_length\": 30,\n",
      "      \"no_repeat_ngram_size\": 3,\n",
      "      \"num_beams\": 4,\n",
      "      \"prefix\": \"summarize: \"\n",
      "    },\n",
      "    \"translation_en_to_de\": {\n",
      "      \"early_stopping\": true,\n",
      "      \"max_length\": 300,\n",
      "      \"num_beams\": 4,\n",
      "      \"prefix\": \"translate English to German: \"\n",
      "    },\n",
      "    \"translation_en_to_fr\": {\n",
      "      \"early_stopping\": true,\n",
      "      \"max_length\": 300,\n",
      "      \"num_beams\": 4,\n",
      "      \"prefix\": \"translate English to French: \"\n",
      "    },\n",
      "    \"translation_en_to_ro\": {\n",
      "      \"early_stopping\": true,\n",
      "      \"max_length\": 300,\n",
      "      \"num_beams\": 4,\n",
      "      \"prefix\": \"translate English to Romanian: \"\n",
      "    }\n",
      "  },\n",
      "  \"transformers_version\": \"4.9.2\",\n",
      "  \"use_cache\": true,\n",
      "  \"vocab_size\": 32128\n",
      "}\n",
      "\n",
      "loading weights file https://huggingface.co/t5-3b/resolve/main/pytorch_model.bin from cache at /home/huangyongfeng/.cache/huggingface/transformers/289687014f876f6cef27445bdc8175fd03dc36a99201b68d8e925957e4987b4f.885f97e8ec826518534b45f8b52caea4ca553494390d587dcf49492d95732676\n",
      "All model checkpoint weights were used when initializing T5ForConditionalGeneration.\n",
      "\n",
      "All the weights of T5ForConditionalGeneration were initialized from the model checkpoint at t5-3b.\n",
      "If your task is similar to the task the model of the checkpoint was trained on, you can already use T5ForConditionalGeneration for predictions without further training.\n"
     ]
    }
   ],
   "source": [
    "import logging\n",
    "logger = logging.getLogger(__name__)\n",
    "CONFIG_MAPPING = {\"t5\": T5Config}\n",
    "MODEL_MAPPING = {\"t5\": T5ForConditionalGeneration}\n",
    "TOKENIZER_MAPPING = {\"t5\": T5Tokenizer}\n",
    "model_class = \"t5\"\n",
    "tokenizer_name = TOKENIZER_MAPPING[model_class]\n",
    "logger.info(\"Loading pretrained tokenizer...\")\n",
    "model_args.tokenizer_name='t5-3b'\n",
    "tokenizer = tokenizer_name.from_pretrained(model_args.tokenizer_name)#, cache_dir=model_args.cache_dir)\n",
    "\n",
    "model = T5ForConditionalGeneration.from_pretrained(\"t5-3b\")"
   ]
  },
  {
   "cell_type": "code",
   "execution_count": 7,
   "id": "62eef1a8",
   "metadata": {},
   "outputs": [
    {
     "data": {
      "text/plain": [
       "DataTrainingArguments(task_name='cos_e', early_stopping_patience=10, overwrite_cache=False, train_predict=False, test_predict=False, dev_predict=False, version_name='v1.11', generations_filepath=None, n_shots=10, fewshot_eval_size=350, io_format='t5_fewshot_infilling_without_choices_use_refined_expl', explanation_sep='explanation', data_path=None, gpt3_max_eval_size=None)"
      ]
     },
     "execution_count": 7,
     "metadata": {},
     "output_type": "execute_result"
    }
   ],
   "source": [
    "data_splits = {'train': None, 'validation': None, 'test': None}\n",
    "original_data_splits = {'train': None, 'validation': None, 'test': None}  \n",
    "data_args.io_format=\"t5_fewshot_infilling_without_choices_use_refined_expl\"\n",
    "data_args"
   ]
  },
  {
   "cell_type": "code",
   "execution_count": 8,
   "id": "efc49c0c",
   "metadata": {},
   "outputs": [
    {
     "data": {
      "application/json": {
       "ascii": false,
       "bar_format": null,
       "colour": null,
       "elapsed": 0.013696432113647461,
       "initial": 0,
       "n": 0,
       "ncols": null,
       "nrows": 60,
       "postfix": null,
       "prefix": "",
       "rate": null,
       "total": 2,
       "unit": "it",
       "unit_divisor": 1000,
       "unit_scale": false
      },
      "application/vnd.jupyter.widget-view+json": {
       "model_id": "b5ae04bc1ca44351939611464c7879b1",
       "version_major": 2,
       "version_minor": 0
      },
      "text/plain": [
       "  0%|          | 0/2 [00:00<?, ?it/s]"
      ]
     },
     "metadata": {},
     "output_type": "display_data"
    },
    {
     "data": {
      "text/plain": [
       "dict_keys(['choices', 'extractive_explanation', 'answer', 'abstractive_explanation', 'id', 'question'])"
      ]
     },
     "execution_count": 8,
     "metadata": {},
     "output_type": "execute_result"
    }
   ],
   "source": [
    "dataset = datasets.load_dataset(data_args.task_name, data_args.version_name)\n",
    "train_ids_list=[x['id'] for x in dataset[\"train\"]]\n",
    "dataset['train'][0].keys()"
   ]
  },
  {
   "cell_type": "code",
   "execution_count": 9,
   "id": "294780bc",
   "metadata": {},
   "outputs": [
    {
     "data": {
      "application/json": {
       "ascii": false,
       "bar_format": null,
       "colour": null,
       "elapsed": 0.02586507797241211,
       "initial": 0,
       "n": 0,
       "ncols": null,
       "nrows": 60,
       "postfix": null,
       "prefix": "",
       "rate": null,
       "total": 1,
       "unit": "it",
       "unit_divisor": 1000,
       "unit_scale": false
      },
      "application/vnd.jupyter.widget-view+json": {
       "model_id": "bb214f02c5874b23b9bbd61ee8115719",
       "version_major": 2,
       "version_minor": 0
      },
      "text/plain": [
       "  0%|          | 0/1 [00:00<?, ?it/s]"
      ]
     },
     "metadata": {},
     "output_type": "display_data"
    },
    {
     "name": "stdout",
     "output_type": "stream",
     "text": [
      "[6723, 3269, 12, 6020, 7815, 0, 13, 7, 3556, 4587, 3166, 2607, 1999, 332, 8571, 2, 3520, 6, 1425, 2361, 3764, 7728, 8352, 1273, 5191, 496, 11, 8143, 6929, 4552, 4652, 7764, 6736, 401, 147, 8339, 3128, 5556, 8769, 4417, 8778, 7145, 1279, 6297, 7149, 5884, 10, 5747, 6273, 8, 9504, 8057, 1307, 2183, 1699, 88, 3228, 7178, 2140, 4048, 1041, 1, 3, 5868, 111, 7889, 5370, 8886, 2137, 6980, 9117, 1891, 7827, 1484, 14, 3668, 7090, 5, 7817, 6213, 4656, 5074, 7514, 5896, 4, 9, 7991, 58, 1887, 1598, 3994, 2212, 2274, 6830, 8826, 1604, 9008, 2013, 6521, 4793, 4338, 3923, 8091, 4904, 3938, 3900, 8156, 5806, 8363, 1787, 1496, 5753, 6351, 1104, 1222]\n"
     ]
    },
    {
     "data": {
      "text/plain": [
       "115"
      ]
     },
     "execution_count": 9,
     "metadata": {},
     "output_type": "execute_result"
    }
   ],
   "source": [
    "#rationale generation labeled data construction 115\n",
    "import pandas as pd\n",
    "scr_csqa_labeled_path=\"/cognitive_comp/huangyongfeng/evaluate_LM_with_rationalization/few_shot_explanations/data/handwritten_cose_v1.11_examples.csv\"\n",
    "scr_csqa_label_df=pd.read_csv(scr_csqa_labeled_path)\n",
    "scr_csqa_label_data=datasets.load_dataset('csv', data_files=scr_csqa_labeled_path)\n",
    "scr_csqa_label_ids_list=[x['id'] for x in scr_csqa_label_data['train']]\n",
    "scr_csqa_indexs_list=[train_ids_list.index(id_) for id_ in scr_csqa_label_ids_list]\n",
    "scr_csqa_label_our_explanations_list=[x['our_explanation'] for x in scr_csqa_label_data['train']]\n",
    "print(scr_csqa_indexs_list)\n",
    "data_splits={}\n",
    "data_splits['train']=dataset['train'].select(scr_csqa_indexs_list)\n",
    "\n",
    "refine_train_data=[]\n",
    "for kk, (ex,da) in enumerate(zip(scr_csqa_label_our_explanations_list, data_splits['train'])):\n",
    "#     print(da)\n",
    "    data_splits['train'][kk]['our_explanation']=ex\n",
    "    #print(type(data_splits['train'][kk]),data_splits['train'][kk].keys())\n",
    "    da['our_explanation']=ex\n",
    "    refine_train_data.append(da)\n",
    "\n",
    "len(data_splits['train'])"
   ]
  },
  {
   "cell_type": "code",
   "execution_count": 10,
   "id": "1d97f507",
   "metadata": {},
   "outputs": [
    {
     "data": {
      "application/json": {
       "ascii": false,
       "bar_format": null,
       "colour": null,
       "elapsed": 0.024303913116455078,
       "initial": 0,
       "n": 0,
       "ncols": null,
       "nrows": 60,
       "postfix": null,
       "prefix": "",
       "rate": null,
       "total": 1,
       "unit": "it",
       "unit_divisor": 1000,
       "unit_scale": false
      },
      "application/vnd.jupyter.widget-view+json": {
       "model_id": "f656b417013147498603510c2ee5d571",
       "version_major": 2,
       "version_minor": 0
      },
      "text/plain": [
       "  0%|          | 0/1 [00:00<?, ?it/s]"
      ]
     },
     "metadata": {},
     "output_type": "display_data"
    },
    {
     "data": {
      "text/plain": [
       "{'id': '5b8a3081c3235d62bc77e2d15f3ad454',\n",
       " 'question': 'A town between two mountains is located in a what?',\n",
       " 'choices': ['valley', 'hospital', 'state', 'train station', 'michigan'],\n",
       " 'answer': 'valley',\n",
       " 'abstractive_explanation': 'valleys are always between two mountains',\n",
       " 'extractive_explanation': 'A town between two mountains',\n",
       " 'our_explanation': 'A town in between mountains presumably would be in a valley, in which case it is plausable that it would be surrounded by heights in every direction.'}"
      ]
     },
     "execution_count": 10,
     "metadata": {},
     "output_type": "execute_result"
    }
   ],
   "source": [
    "#rationale unlabeled data construction 991\n",
    "import pdb\n",
    "scr_csqa_unlabeled_test_file=\"/cognitive_comp/huangyongfeng/evaluate_LM_with_rationalization/few_shot_explanations/data/acceptability_annotations/commonsenseqa_test.csv\"\n",
    "fse_csqa_dev_dataset = datasets.load_dataset('csv', data_files=scr_csqa_unlabeled_test_file)\n",
    "scr_csqa_unlabeled_test_df=pd.read_csv(scr_csqa_unlabeled_test_file)\n",
    "fse_csqa_dev_data_dict={}\n",
    "for kk, da in enumerate(fse_csqa_dev_dataset['train']):\n",
    "    #pdb.set_trace()\n",
    "    id_=da['Input.id']\n",
    "    if da['Answer.acceptable']:\n",
    "        answer_accept=set(da['Answer.acceptable'].split('|'))\n",
    "    else:\n",
    "        answer_accept=set()\n",
    "    explanation_list=[da['Input.explanation_1'], \n",
    "                      da['Input.explanation_2'],\n",
    "                      da['Input.explanation_3'],\n",
    "                      da['Input.explanation_4'],\n",
    "                      da['Input.explanation_5']]\n",
    "    if id_ not in fse_csqa_dev_data_dict.keys():\n",
    "        fse_csqa_dev_data_dict[id_]={\"index\":kk,\"id\":id_,\n",
    "                                     \"question\":da[\"Input.question\"],\n",
    "                                     'answer':da['Input.gold_label'],\n",
    "                                     \"accept_set_list\":[answer_accept],\n",
    "                                     \"explanation_list\":explanation_list}\n",
    "        #[[kk, id_, answer_accept, explanation_list]]\n",
    "    else:\n",
    "        fse_csqa_dev_data_dict[id_][\"accept_set_list\"].append(answer_accept)\n",
    "    if len(fse_csqa_dev_data_dict[id_][\"accept_set_list\"])==3:\n",
    "        fse_csqa_dev_data_dict[id_][\"common_expl_list\"]=[]\n",
    "        common_accept_expl_sample=set.intersection(fse_csqa_dev_data_dict[id_][\"accept_set_list\"][0], \n",
    "                                                   fse_csqa_dev_data_dict[id_][\"accept_set_list\"][1], \n",
    "                                                   fse_csqa_dev_data_dict[id_][\"accept_set_list\"][2])\n",
    "        for idx in list(common_accept_expl_sample):\n",
    "            idx=int(idx)-1\n",
    "            fse_csqa_dev_data_dict[id_][\"common_expl_list\"].append(fse_csqa_dev_data_dict[id_][\"explanation_list\"][idx])\n",
    "        \n",
    "#discriminate 3/3 id\n",
    "id_accept_expl_list=[]\n",
    "our_accept_expl_list=[]\n",
    "id_unaccept_expl_list=[]\n",
    "for k,v in fse_csqa_dev_data_dict.items():\n",
    "    accept_set_list=v['accept_set_list']\n",
    "    assert len(accept_set_list)==3\n",
    "    #pdb.set_trace()\n",
    "    common_accept_expl_sample=set.intersection(accept_set_list[0], accept_set_list[1], accept_set_list[2])\n",
    "    #print(accept_set_list,common_accept_expl_sample)\n",
    "    #pdb.set_trace()\n",
    "    if common_accept_expl_sample:\n",
    "        id_accept_expl_list.append(k)\n",
    "        our_expl=\"\"\n",
    "        for idx in list(common_accept_expl_sample):\n",
    "            idx=int(idx)-1\n",
    "            if len(v['explanation_list'][idx]) > len(our_expl):\n",
    "                our_expl = v['explanation_list'][idx]\n",
    "                our_accept_expl_list.append(our_expl)\n",
    "    else:\n",
    "        id_unaccept_expl_list.append(k)\n",
    "\n",
    "dev_ids_list=[x['id'] for x in dataset['validation']]\n",
    "dev_accept_indexs_list=[dev_ids_list.index(id_) for id_ in id_accept_expl_list]\n",
    "dev_unaccpet_indexs_list=[dev_ids_list.index(id_) for id_ in id_unaccept_expl_list]\n",
    "dev_accept_data=dataset['validation'].select(dev_accept_indexs_list)\n",
    "dev_unaccept_data=dataset['validation'].select(dev_unaccpet_indexs_list)\n",
    "\n",
    "\n",
    "\n",
    "new_dev_accept_data=[]\n",
    "new_dev_unaccept_data=[]\n",
    "for oexp, da in zip(our_accept_expl_list,dev_accept_data):\n",
    "    da[\"our_explanation\"]=oexp\n",
    "    new_dev_accept_data.append(da)\n",
    "for da in dev_unaccept_data:\n",
    "    da[\"our_explanation\"]=oexp\n",
    "    new_dev_unaccept_data.append(da)\n",
    "        \n",
    "new_dev_accept_data[0]\n",
    "        "
   ]
  },
  {
   "cell_type": "code",
   "execution_count": 11,
   "id": "ffe13707",
   "metadata": {},
   "outputs": [
    {
     "data": {
      "text/plain": [
       "{'index': 0,\n",
       " 'id': '5b8a3081c3235d62bc77e2d15f3ad454',\n",
       " 'question': 'A town between two mountains is located in a what?',\n",
       " 'answer': 'valley',\n",
       " 'accept_set_list': [{'2', '4', '5'}, {'2', '4', '5'}, {'2', '4', '5'}],\n",
       " 'explanation_list': ['Because all of the mountains are to the left of this town, if one was looking on a map, one would be able to see the town in the valley.',\n",
       "  'A valley is usually between two mountains, where it is located in the place where the mountains are closest to each other.',\n",
       "  'Because rivers end in valleys; assuming the river is the one of interest, this sentence is likely referring to the geographical location of the town.',\n",
       "  'A town in between mountains presumably would be in a valley, in which case it is plausable that it would be surrounded by heights in every direction.',\n",
       "  'A valley is a low area between two mountains.'],\n",
       " 'common_expl_list': ['A town in between mountains presumably would be in a valley, in which case it is plausable that it would be surrounded by heights in every direction.',\n",
       "  'A valley is usually between two mountains, where it is located in the place where the mountains are closest to each other.',\n",
       "  'A valley is a low area between two mountains.']}"
      ]
     },
     "execution_count": 11,
     "metadata": {},
     "output_type": "execute_result"
    }
   ],
   "source": [
    "fse_csqa_dev_data_dict['5b8a3081c3235d62bc77e2d15f3ad454']\n"
   ]
  },
  {
   "cell_type": "code",
   "execution_count": 12,
   "id": "3161874f",
   "metadata": {},
   "outputs": [],
   "source": [
    "# for k,v in fse_csqa_dev_data_dict.items():\n",
    "#     #print(v.keys())\n",
    "#     print(\"******\")\n",
    "#     print(v['question'])\n",
    "#     print(v['answer'])\n",
    "#     print(v['common_expl_list'])\n",
    "#     print(\"******\")    \n",
    "# for k,v in fse_csqa_train_data_dict.items():\n",
    "#     #print(v.keys())\n",
    "#     print(\"******\")\n",
    "#     print(v['question'])\n",
    "#     print(v['answer'])\n",
    "#     print(v['common_expl_list'])\n",
    "#     print(\"******\") \n"
   ]
  },
  {
   "cell_type": "code",
   "execution_count": 13,
   "id": "3e0e8a2d",
   "metadata": {},
   "outputs": [
    {
     "data": {
      "application/json": {
       "ascii": false,
       "bar_format": null,
       "colour": null,
       "elapsed": 0.020235776901245117,
       "initial": 0,
       "n": 0,
       "ncols": null,
       "nrows": 60,
       "postfix": null,
       "prefix": "",
       "rate": null,
       "total": 1,
       "unit": "it",
       "unit_divisor": 1000,
       "unit_scale": false
      },
      "application/vnd.jupyter.widget-view+json": {
       "model_id": "2517017f383d44d08d5f99f93289a462",
       "version_major": 2,
       "version_minor": 0
      },
      "text/plain": [
       "  0%|          | 0/1 [00:00<?, ?it/s]"
      ]
     },
     "metadata": {},
     "output_type": "display_data"
    },
    {
     "data": {
      "text/plain": [
       "{'id': 'ed53cbea1f21072fab892031b31192d1',\n",
       " 'question': 'Where can you likely buy many poems?',\n",
       " 'choices': ['book of poetry',\n",
       "  'literature book',\n",
       "  'book store',\n",
       "  'poetry book',\n",
       "  'bookshelf'],\n",
       " 'answer': 'book store',\n",
       " 'abstractive_explanation': 'book store book',\n",
       " 'extractive_explanation': 'buy many poems',\n",
       " 'our_explanation': 'A bookstore sells a variety of books, including poetry books; chains of bookstores sometimes specialize in categories such as poetry or literature.'}"
      ]
     },
     "execution_count": 13,
     "metadata": {},
     "output_type": "execute_result"
    }
   ],
   "source": [
    "#rationale unlabeled data construction 991\n",
    "import pdb\n",
    "scr_csqa_unlabeled_train_file=\"/cognitive_comp/huangyongfeng/evaluate_LM_with_rationalization/few_shot_explanations/data/acceptability_annotations/commonsenseqa_train.csv\"\n",
    "fse_csqa_train_dataset = datasets.load_dataset('csv', data_files=scr_csqa_unlabeled_train_file)\n",
    "scr_csqa_unlabeled_train_df=pd.read_csv(scr_csqa_unlabeled_train_file)\n",
    "fse_csqa_train_data_dict={}\n",
    "for kk, da in enumerate(fse_csqa_train_dataset['train']):\n",
    "    #pdb.set_trace()\n",
    "    id_=da['Input.id']\n",
    "    if da['Answer.acceptable']:\n",
    "        answer_accept=set(da['Answer.acceptable'].split('|'))\n",
    "    else:\n",
    "        answer_accept=set()\n",
    "    explanation_list=[da['Input.explanation_1'], \n",
    "                      da['Input.explanation_2'],\n",
    "                      da['Input.explanation_3'],\n",
    "                      da['Input.explanation_4'],\n",
    "                      da['Input.explanation_5']]\n",
    "    if id_ not in fse_csqa_train_data_dict.keys():\n",
    "        fse_csqa_train_data_dict[id_]={\"index\":kk,\"id\":id_,\n",
    "                                     \"question\":da[\"Input.question\"],\n",
    "                                     'answer':da['Input.gold_label'],\n",
    "                                     \"accept_set_list\":[answer_accept],\n",
    "                                     \"explanation_list\":explanation_list}\n",
    "        #[[kk, id_, answer_accept, explanation_list]]\n",
    "    else:\n",
    "        fse_csqa_train_data_dict[id_][\"accept_set_list\"].append(answer_accept)\n",
    "        \n",
    "    if len(fse_csqa_train_data_dict[id_][\"accept_set_list\"])==3:\n",
    "        fse_csqa_train_data_dict[id_][\"common_expl_list\"]=[]\n",
    "        common_accept_expl_sample=set.intersection(fse_csqa_train_data_dict[id_][\"accept_set_list\"][0], \n",
    "                                                   fse_csqa_train_data_dict[id_][\"accept_set_list\"][1], \n",
    "                                                   fse_csqa_train_data_dict[id_][\"accept_set_list\"][2])\n",
    "        for idx in list(common_accept_expl_sample):\n",
    "            idx=int(idx)-1\n",
    "            fse_csqa_train_data_dict[id_][\"common_expl_list\"].append(fse_csqa_train_data_dict[id_][\"explanation_list\"][idx])\n",
    "\n",
    "    \n",
    "#discriminate 3/3 id\n",
    "id_accept_expl_list=[]\n",
    "our_accept_expl_list=[]\n",
    "id_unaccept_expl_list=[]\n",
    "for k,v in fse_csqa_train_data_dict.items():\n",
    "    accept_set_list=v['accept_set_list']\n",
    "    assert len(accept_set_list)==3\n",
    "    #pdb.set_trace()\n",
    "    common_accept_expl_sample=set.intersection(accept_set_list[0], accept_set_list[1], accept_set_list[2])\n",
    "    #print(accept_set_list,common_accept_expl_sample)\n",
    "    #pdb.set_trace()\n",
    "    if common_accept_expl_sample:\n",
    "        id_accept_expl_list.append(k)\n",
    "        our_expl=\"\"\n",
    "        for idx in list(common_accept_expl_sample):\n",
    "            idx=int(idx)-1\n",
    "            if len(v['explanation_list'][idx]) > len(our_expl):\n",
    "                our_expl = v['explanation_list'][idx]\n",
    "                our_accept_expl_list.append(our_expl)\n",
    "    else:\n",
    "        id_unaccept_expl_list.append(k)\n",
    "\n",
    "train_ids_list=[x['id'] for x in dataset['train']]\n",
    "train_accept_indexs_list=[train_ids_list.index(id_) for id_ in id_accept_expl_list]\n",
    "train_unaccpet_indexs_list=[train_ids_list.index(id_) for id_ in id_unaccept_expl_list]\n",
    "train_accept_data=dataset['train'].select(train_accept_indexs_list)\n",
    "train_unaccept_data=dataset['train'].select(train_unaccpet_indexs_list)\n",
    "\n",
    "\n",
    "\n",
    "new_train_accept_data=[]\n",
    "new_train_unaccept_data=[]\n",
    "for oexp, da in zip(our_accept_expl_list,train_accept_data):\n",
    "    da[\"our_explanation\"]=oexp\n",
    "    new_train_accept_data.append(da)\n",
    "for da in train_unaccept_data:\n",
    "    da[\"our_explanation\"]=oexp\n",
    "    new_train_unaccept_data.append(da)\n",
    "        \n",
    "new_train_accept_data[0]"
   ]
  },
  {
   "cell_type": "code",
   "execution_count": 14,
   "id": "595b9453",
   "metadata": {},
   "outputs": [
    {
     "data": {
      "text/plain": [
       "(set(), set())"
      ]
     },
     "execution_count": 14,
     "metadata": {},
     "output_type": "execute_result"
    }
   ],
   "source": [
    "refine_train_data=refine_train_data\n",
    "refine_dev_data=new_train_accept_data + new_dev_accept_data\n",
    "refine_test_data=new_train_unaccept_data + new_dev_unaccept_data\n",
    "\n",
    "refine_train_ids_list=[x['id'] for x in refine_train_data]\n",
    "refine_dev_ids_list=[x['id'] for x in refine_dev_data]\n",
    "refine_test_ids_list=[x['id'] for x in refine_test_data]\n",
    "\n",
    "set(refine_train_ids_list).intersection(set(refine_dev_ids_list)),set(refine_train_ids_list).intersection(set(refine_test_ids_list))\n",
    "\n"
   ]
  },
  {
   "cell_type": "code",
   "execution_count": 15,
   "id": "48e4ec26",
   "metadata": {},
   "outputs": [
    {
     "data": {
      "text/plain": [
       "dict_keys(['id', 'question', 'choices', 'answer', 'abstractive_explanation', 'extractive_explanation', 'our_explanation'])"
      ]
     },
     "execution_count": 15,
     "metadata": {},
     "output_type": "execute_result"
    }
   ],
   "source": [
    "our_data_splits={}\n",
    "our_data_splits['train']=refine_train_data\n",
    "our_data_splits['dev']=refine_dev_data\n",
    "our_data_splits['test']=refine_test_data\n",
    "refine_train_data[0].keys()"
   ]
  },
  {
   "cell_type": "markdown",
   "id": "0fcdf34f",
   "metadata": {},
   "source": [
    "# shots number"
   ]
  },
  {
   "cell_type": "code",
   "execution_count": 16,
   "id": "486c2796",
   "metadata": {},
   "outputs": [],
   "source": [
    "id_list = [\n",
    " '71519c19654251cced50c5718fd527c1',\n",
    " '44195d210c81c8c550174d0edbd3ad5d',\n",
    " '5a5da37b685ec9c6f15228128ce30437',\n",
    " 'cabdfc174953b4bdb8bdcc89d6592c74',\n",
    " 'eac3a4080127e8924034651b57dfa289',\n",
    " 'c0013f31657294b9b5ad819123513ca7',\n",
    " '2681697be70cd5425899ed6deb84b18a',\n",
    " '47f60340b869552e795fa6782224f3d2',\n",
    " '7e8a6eac93147eb52d8151bab7b40003',\n",
    " 'f34267f498c8a78383e35057fbcfa2ce',\n",
    " 'f024f923d78e5c0a4c0c4baa3ddccf05',\n",
    " 'e148c710d0c26849cf1f15293481038b',\n",
    " 'bdf437d7498815f36c255f64a8e6571c',\n",
    " '2282e0c80be28aadadb79a822fec9dac',\n",
    " 'bdd05e96876342b4b5999709439a7f4e',\n",
    " '494b8316614fc64c5c27757aeaffce23_1',\n",
    " 'c4494b402264250dc70931613d482295',\n",
    " 'fcfbf207c5586294fdce33b645b613f1',\n",
    " '9c583bcbe68989a644433302545fb31e',\n",
    " '0e684d779d98e6eecda167c10af42bbb',\n",
    " 'ac0462d09b9fddd40c3c77aedf48a870',\n",
    " '1dbfb41e04a10bdbb085bfe667c0df99',\n",
    " 'cd0c0ef3b8ce0eb09ff26823f6059be6',\n",
    " 'e6b67184b99375d05d3f2887f684c684',\n",
    " 'ae9f6f1e17b3fdd3a86b494933809f45',\n",
    " 'f149604169936a30b7e4c8d599d604b5',\n",
    " 'd7c8377953e0175ef57d59f3a8e63a8e',\n",
    " '1837216ac7745121b82a6491b2318c09',\n",
    " 'b5fe238d45e55ca5d802b7823ad390ef',\n",
    " 'b2fbeb0b48bd5e575af0f7dc24cdd85d',\n",
    " '9bdfb101c487ac598f6e4686cf774703',\n",
    " '206c7116ee2246180fcc0c5a1d0e7205',\n",
    " '5cd7f44bbf730dfae5ef2a362d2e5149',\n",
    " '45d0ea781ffd49b07d6eae94d47a8945',\n",
    " '89afdea1d76272fda8e1538a7d3b7a3f',\n",
    " '38a514fe54108527e1d6e89d9812da93',\n",
    " 'ebf347934a3e90ea46d3d87726fb5d25',\n",
    " '90226a6ecd7308ae1e6220a15ae24bc6',\n",
    " '5cae8057e75e3adf5c338a43b3ba97fb',\n",
    " '388a363c49e1b0aca8eaf18ccdde0caf',\n",
    " '9ed3af82152dfcd7000bf4631b095f71',\n",
    " '2d5805d894bba224c5fe91e70b8c0f77',\n",
    " 'd5aa464a16b72c9b9f3091abd461e3ef',\n",
    " '381b11c54be4cc432a95053ca34cbf6b',\n",
    " '807a3a2dabdd50ed0c76052fd2612632',\n",
    " '5172041c750d22e9a5081cc024de0fa6',\n",
    " 'd32a45ab3b751110d0578a78e54c0e64',\n",
    " '28ca5cbe27774746c34f6ebe84fc6d0c']\n",
    "\n",
    "chatGPT_rationales = [\n",
    "    \"A cup is a common vessel used for holding and drinking liquids, such as water, coffee, or tea. When you want to get yourself a drink, you might typically get a cup from a cabinet or other storage area in order to hold the drink. A cup is a convenient and practical choice for getting a drink because it is easy to hold and use, and it can hold a reasonable amount of liquid. There are many different types of cups available, including ceramic, glass, plastic, and metal cups, each with their own unique features and benefits. Whether you are at home, at work, or out in public, a cup is a handy item to have on hand when you need to quench your thirst.\",\n",
    "    \"A front yard is the lawn that is typically located in front of a house, near the street. The front yard is the part of the property that is visible from the street and is often used for decorative purposes, such as landscaping or gardening. Many people take pride in their front yards and may spend time and resources maintaining and improving them. The front yard is often the first thing that visitors see when they arrive at a house, and it can make a strong impression on them. In contrast, the back yard is typically located behind the house and is often used for more practical purposes, such as outdoor recreation or gardening.\",\n",
    "    \"A swimming pool is a recreational water feature that is typically used for swimming and other aquatic activities. While shallow water, such as that found in a kiddie pool or a shallow end of a pool, can be enjoyable for some people, it may not be sufficient for many summer activities. A swimming pool that is deep enough for diving and other activities is more likely to provide more opportunities for summer fun. In addition, a swimming pool that is clean and chlorinated is more likely to be safe and enjoyable for swimming, as it will be free of contaminants and bacteria that can cause illness.\",\n",
    "    \"In most places, it is illegal for people under the age of 21 to purchase or consume alcohol. This is because alcohol can have negative effects on the developing brain and body of young people. It can also contribute to risky behaviors and accidents. Therefore, many governments have set a minimum age for alcohol consumption and purchase to help protect the health and safety of young people. If someone is under the age of 21 and attempts to purchase alcohol, they may be denied the sale or face legal consequences. It is important for young people to understand and adhere to the laws and regulations regarding the purchase and consumption of alcohol in their area.\",\n",
    "    \"When someone shaves, they typically use a razor to remove hair from their face or body. The process of shaving can leave a lot of hair in the sink, as the hair is trimmed off and falls into the sink as it is being shaved. It is common for people to shave in the bathroom, where a sink is typically located. The sink provides a convenient place to rinse the razor and wash off any excess hair or shaving cream. It is important to clean the sink after shaving to remove any hair and prevent clogs in the drain.\",\n",
    "    \"A hamburger is a type of sandwich that consists of a cooked patty of ground meat, typically beef, placed between two slices of bread or a bun. Hamburgers are often served with various toppings, such as lettuce, tomato, onion, cheese, and condiments like ketchup and mustard. However, if someone is suffering from great hunger, they may not care about the toppings and just want to eat the hamburger itself. In this case, the person may be more focused on satisfying their hunger and getting nourishment rather than worrying about additional ingredients or flavors.\",\n",
    "    \"If a person notices popcorn and cotton candy on the grass, they are likely at fairgrounds. Fairgrounds are outdoor areas that are used for hosting fairs and other events, such as carnivals, festivals, and exhibitions. These events often feature food stalls and vendors that sell a variety of treats, including popcorn and cotton candy. Popcorn and cotton candy are both popular carnival foods that are often sold at fairs and other events. The presence of these foods on the ground at fairgrounds suggests that a fair or similar event is taking place there.\",\n",
    "    \"When snow on a mountain becomes heavy, it can trigger an avalanche. An avalanche is a rapid flow of snow down a slope, often triggered by the weight of the snow or external factors such as a change in temperature. Avalanches can be dangerous and destructive, as they can bury and sweep away anything in their path, including people, buildings, and vehicles. Avalanches can occur on any slope with a steep enough incline and a sufficient amount of snow. They are most common on mountains, but they can also occur in other snowy areas, such as forests or valleys. It is important for people to be aware of the risk of avalanches and to take precautions when traveling in areas prone to avalanches.\",\n",
    "    \"A police officer typically reports their work through the use of case reports or incident reports. These reports are written documents that detail the events of a specific case or incident that the officer has worked on. Case reports or incident reports typically include information such as the date and time of the incident, the location, the people involved, and the actions taken by the officer. They may also include witness statements, evidence collected, and any other relevant details. Case reports or incident reports are used by police officers to document their work and provide a record of the incidents they have dealt with. They are also used by supervisors and other authorities to review and evaluate the performance of the officer and the effectiveness of their actions.\",\n",
    "    \"Teachers play many roles in the lives of their students, including mentor, counselor, and role model. However, they get the most out of their job by simply teaching children. Teaching children is the primary responsibility of a teacher, and it is what they are trained and paid to do. Teaching involves imparting knowledge, skills, and values to students, and helping them to develop the skills and habits they need to succeed in life. Teachers have the opportunity to make a positive impact on the lives of their students by providing them with a strong foundation in academic subjects and helping them to become curious, engaged learners. Teachers often derive a great deal of satisfaction from helping their students to achieve their potential and succeed in their studies.\",\n",
    "    \"A person might go to get counseling for a variety of reasons. One reason is to better understand themselves. Counseling can provide a safe and supportive environment for individuals to explore their thoughts, feelings, and behaviors, and to gain insight into why they act and feel the way they do. Counseling can also help a person to identify and work through any underlying issues or challenges that may be causing them distress or hindering their personal growth. Through counseling, a person can learn more about themselves and how to navigate their emotions and relationships more effectively. Counseling can be particularly helpful for individuals who are struggling with mental health issues, relationship problems, or other personal challenges.\",\n",
    "    \"If the kids wanted to cool off, they might go swimming as a way to refresh and beat the heat. Swimming is a fun and enjoyable activity that can provide relief from hot weather and help to cool the body. Swimming can also provide a great workout and has numerous health benefits, such as improving cardiovascular fitness and flexibility. There are many different places where kids can go swimming, such as pools, lakes, rivers, or the ocean. No matter where they go, kids can have fun and cool off while enjoying the water.\",\n",
    "    \"When remembering a tragedy in the past, many people may feel depressed. Depression is a common emotional reaction to experiencing a traumatic or stressful event, such as a tragedy. Depression is a mental health disorder characterized by persistent feelings of sadness, hopelessness, and low energy. It can also cause physical symptoms such as changes in appetite and sleep patterns, fatigue, and difficulty concentrating. Remembering a tragedy can be emotionally difficult and may trigger feelings of sadness, grief, and guilt. It is important for people who are struggling with depression to seek support and treatment to help manage their symptoms and improve their mental health.\",\n",
    "    \"Death Valley is a national park located in the Mojave Desert, in the state of California, United States. It is situated on the North American continent. The North American continent is one of the seven continents of the world and is located in the western hemisphere. It is the third largest continent in terms of land area, after Asia and Africa, and is home to a diverse range of cultures, languages, and environments. Death Valley is known for its extreme desert climate and is the lowest, hottest, and driest place in North America. It is a popular destination for tourists, who come to see its unique geological features, such as sand dunes, salt flats, and canyons.\",\n",
    "    \"When in a serious relationship, understanding better requires effort. Relationships require effort and work to maintain and grow. In order to understand your partner better, you need to be willing to put in the time and effort to communicate with them, listen to their perspectives, and try to see things from their point of view. This may involve asking questions, expressing your own feelings and needs, and being open to feedback and compromise. Understanding your partner better can help to strengthen the bond between you and improve the quality of your relationship. It is important to remember that relationships are dynamic and evolving, and that ongoing communication and effort are necessary to maintain a healthy and fulfilling relationship.\",\n",
    "    \"Cats are able to make a variety of vocalizations, including meows, purrs, and growls, as a way of communicating with humans and other animals. Cats use these vocalizations to convey a range of emotions and needs, such as hunger, happiness, or discomfort. Meowing is a common vocalization that cats use to communicate with humans. Cats may meow when they want attention, food, or to be let outside. Cats may also meow when they are feeling anxious or stressed. Although cats cannot talk in the same way that humans do, they are skilled at using their voices to communicate with their owners and other animals.\",\n",
    "    \"If you need a vessel that is similar to a battleship but faster, you might consider using a corvette. A corvette is a small, fast warship that is typically used for convoy escort, patrol, and other shallow water duties. Corvettes are generally smaller and less heavily armed than battleships, but they are more agile and have a higher speed. They are typically equipped with a variety of weapons, including guns, missiles, and torpedoes, and are used for defending against enemy ships and aircraft. Corvettes are often used for coastal defense, as well as for patrolling and enforcing maritime laws. They are capable of operating in a variety of environments, including open ocean and littoral (nearshore) waters.\",\n",
    "    \"Water in the sky comes from rain clouds. Rain clouds are clouds that form when moist air rises and cools, forming tiny water droplets that condense around particles in the air. As the droplets grow, they eventually become heavy enough to fall from the cloud as rain. Rain clouds are typically gray or white in color and are often accompanied by other types of clouds, such as cumulus or stratocumulus clouds. Rain clouds can form in a variety of ways, such as when warm, moist air from the ground rises and cools, or when moist air from the ocean is carried inland by the wind. Rain clouds can be found in many parts of the world and are a common source of precipitation, especially during the warmer months.\",\n",
    "    \"If John rented a hotel room while on a business trip and it was a company-sponsored event, it is possible that the hotel was a resort. Resorts are hotels or vacation properties that offer a variety of amenities and activities for guests, such as swimming pools, golf courses, spas, and restaurants. They are often located in scenic or recreational areas and are designed to provide a relaxing and enjoyable experience for guests. Many resorts offer conference and meeting facilities and are popular destinations for business events and retreats. If John's company sponsored the business trip and provided the hotel accommodations, it is likely that they chose a resort with the amenities and facilities needed to support the event.\",\n",
    "    \"An expressway might leave the United States and go to Canada. The United States and Canada are neighboring countries that share a border, and there are several expressways that cross the border between the two countries. Expressways are high-speed, limited-access roads that are designed for fast and efficient travel. They typically have multiple lanes and may include features such as grade separations, interchanges, and controlled access points. Expressways are used for long-distance travel and are often the main routes connecting major cities and regions. If an expressway leaves the United States, it is likely that it is heading towards Canada, which is located to the north of the United States.\",\n",
    "    \"If you were walking on a sidewalk near a small corner shop run by John, you would look for it on the street corner. A corner shop is a small retail store that is typically located at the intersection of two streets. It is often a convenience store or a neighborhood shop that sells a variety of goods, such as groceries, household items, and other supplies. Corner shops are often located in busy urban areas, where they are easily accessible to pedestrians and motorists. If you were walking on a sidewalk near a corner shop, you would look for it at the intersection of the street where you are walking and another street. The shop is likely to be located in a building on the corner, with windows and doors facing the street.\",\n",
    "    \"One way that a company can efficiently sell things to their customers is through mail order. Mail order is a method of selling goods or services by advertising them in a catalog or other publication and allowing customers to place orders by mail, telephone, or online. Mail order is a convenient and efficient way for companies to reach a wide customer base, as it allows them to sell products to customers who may not be located near their physical store or who may not have the time or inclination to shop in person. Mail order companies typically have a centralized warehouse or distribution center where orders are processed and shipped to customers. They may also offer options such as easy returns and exchanges, as well as customer service support to assist with any questions or issues that customers may have.\",\n",
    "    \"If he enjoyed the factory work and liked the idea that he did it for sale, it is likely that he enjoyed producing goods. Factory work typically involves the production of goods, such as products or materials, using machines, tools, and other equipment. Factory workers are responsible for operating and maintaining the equipment and ensuring that the goods being produced meet quality standards. The goods produced in a factory may be sold directly to consumers or to other businesses, and may be used for a variety of purposes, such as manufacturing, construction, or distribution. If a person enjoys factory work, they may find satisfaction in the idea that they are contributing to the production of goods that will be sold and used by others.\",\n",
    "    \"If returning to work was easy for Dan after his treatment and he was completely painless, it is likely that he had undergone some form of medical treatment or therapy to address a health issue or injury. Painless indicates that Dan was no longer experiencing pain or discomfort, which may have been a result of the treatment or therapy he received. It is not clear from the information provided what specific health issue or injury Dan was dealing with, or what treatment or therapy he received. However, it is possible that Dan was able to return to work more easily after his treatment because he was feeling better and was no longer experiencing any pain or discomfort.\",\n",
    "    \"If index cards were on display at the museum, it is likely that the museum was a library. Libraries are institutions that provide access to a wide range of resources, including books, periodicals, and other printed materials, as well as digital resources such as e-books, databases, and online research tools. Libraries often have exhibits and displays of various types of materials, including rare or unique items, and may have special collections or archives that are of particular interest to researchers or historians. Index cards are small, rectangular pieces of paper that are used for organizing information, such as names, dates, or research notes. They may be used in a variety of settings, including libraries, offices, and schools. If index cards were on display at the museum, it is possible that they were part of a historical exhibit or collection related to the history of libraries or research.\",\n",
    "    \"If she was a human in America who wanted to live well, it is likely that the given for her situation was the need for money. In general, money is an important factor in enabling people to live well and meet their basic needs and desires. Money allows people to purchase the goods and services that they need to sustain themselves and their families, such as food, clothing, housing, and healthcare. It also enables people to pursue their interests and hobbies, travel, and engage in various forms of leisure and entertainment. In America, and in many other countries around the world, the cost of living can be high, and people often need to earn and save money in order to achieve a desired standard of living. As such, the need for money is a given for many people in order to live well.\",\n",
    "    \"A place that could have one back garden is a house. A garden is a piece of land that is used for growing plants, flowers, vegetables, or other types of vegetation. Gardens can be found in a variety of settings, including residential properties, public parks, and commercial properties. A house is a building that is used as a dwelling for one or more people, and it typically includes living spaces, such as bedrooms, bathrooms, and a kitchen, as well as outdoor areas, such as a front yard, side yard, and back yard. A back yard is a private outdoor space that is typically located behind a house and is often used for recreational or leisure activities, such as gardening, grilling, or playing games. If a house has a back garden, it is likely that the garden is located in the back yard.\",\n",
    "    \"People gather at a football stadium to see large men in pads play a game where they run and smash into each other. Football is a popular sport that is played on a rectangular field by two teams of eleven players. The game involves running, passing, and tackling, and players wear pads and other protective gear to reduce the risk of injury. Football is a physical and intense sport, and players often collide with each other at high speeds. Football stadiums are large, open-air facilities that are designed to host football games and other sporting events. They typically have a grass or artificial turf field, seating for spectators, and a variety of amenities, such as concessions stands, restrooms, and VIP areas. Football stadiums are popular places for people to gather and watch football games, and they can be found in cities and towns throughout the world.\",\n",
    "    \"One place where someone can get a flute is a musical instrument store. A musical instrument store is a retail establishment that specializes in selling musical instruments and related accessories. They may carry a wide range of instruments, including brass instruments, woodwind instruments, string instruments, percussion instruments, and keyboards. Flutes are woodwind instruments that are played by blowing air into a narrow opening and producing sound by vibrating the lips against a metal or wooden reed. They are popular instruments that are used in a variety of musical styles, including classical, jazz, and folk music. If someone is looking to purchase a flute, they may be able to find a selection of flutes at a musical instrument store. In addition to flutes, musical instrument stores may also offer a variety of other instruments, as well as sheet music, instructional materials, and accessories such as cases, stands, and cleaning supplies.\",\n",
    "    \"It is not clear what someone who has a greed for energy would do. The word greed typically refers to an excessive or insatiable desire for wealth, power, or material possessions. It is not clear how this concept would relate to energy or how it might influence someone's actions. It is possible that someone who has a lot of energy or who is very active might have a high appetite for food and might seek out sources of fuel or nutrition to sustain their energy levels. In this case, they might buy food as a way to obtain the energy they need. However, it is not accurate to say that someone who has a greed for energy would necessarily do this. It is important to note that the concept of greed is generally considered to be negative, as it suggests an unhealthy or unsustainable desire for something.\",\n",
    "    \"A forklift is a type of industrial vehicle that is used for moving and lifting heavy loads, such as pallets, crates, and boxes. Forklifts are equipped with a hydraulic lift mechanism and a set of prongs or forks that can be used to lift and transport loads. They are commonly used in warehouses and other distribution centers to move and stack materials, such as boxes, onto shelves or other storage areas. If you were using a forklift to stack boxes onto shelves, it is likely that you were in a warehouse or a similar facility. Warehouses are large, commercial buildings that are used for storing and distributing goods. They often have high ceilings, wide aisles, and multiple levels, and they may be equipped with a variety of material handling equipment, such as forklifts, conveyor belts, and cranes, to facilitate the movement and storage of goods.\",\n",
    "    \"You are likely to receive mouthwash in a little paper cup at a dentist's office. Dentist's offices are healthcare facilities that are staffed by dentists and other dental professionals, and they are used for the diagnosis and treatment of dental problems and the maintenance of oral health. One common practice at a dentist's office is to rinse the mouth with mouthwash, which is a liquid that is used to freshen breath, kill bacteria, and reduce the risk of gum disease and other oral health issues. Mouthwash is typically used after brushing and flossing to help remove any remaining food particles or plaque from the mouth. It may be dispensed in a little paper cup, which can be used to rinse the mouth and then disposed of after use.\",\n",
    "    \"A doctor's office can help you with an illness. A doctor's office is a healthcare facility that is staffed by medical doctors and other healthcare professionals, and it is used for the diagnosis and treatment of medical conditions and the maintenance of overall health. If you are experiencing an illness, such as a cold, flu, or more serious health issue, you may visit a doctor's office to seek medical care and treatment. At a doctor's office, you may receive a physical examination, diagnostic tests, and other forms of medical treatment, depending on the nature of your illness and your specific needs. Doctors are trained to diagnose and treat a wide range of medical conditions, and they can provide you with the care and support you need to recover from your illness and get back to good health.\",\n",
    "    \"A bug looking for wildflowers and no human interruption might go to a meadow. A meadow is a grassland area that is characterized by its open, grassy landscape and the presence of wildflowers and other types of vegetation. Meadows can be found in a variety of settings, including rural areas, forests, and parkland, and they are often home to a variety of animal and plant species. Because meadows are relatively undisturbed by human activity, they can be a good place for a bug to find wildflowers and other types of plants without interference from humans. Meadows are often considered to be peaceful, serene places, and they may be attractive to a bug that is seeking a quiet, natural environment in which to explore and forage.\",\n",
    "    \"If a bride and groom are taking care of proposals, the likely ceremony is a marriage. A marriage is a formal union between two people that is recognized by law and typically involves a public ceremony and the exchange of vows. A marriage proposal is a request for someone to marry another person, and it is typically made by one partner to the other. The process of planning a marriage often involves taking care of a variety of details and arrangements, such as choosing a venue, selecting a date, inviting guests, and organizing the ceremony and reception. If a bride and groom are taking care of proposals, it is likely that they are in the process of planning their marriage and preparing for the wedding ceremony.\",\n",
    "    \"You could put some olives in a jar to prevent them from getting nearby food wet. A jar is a container that is typically made of glass or ceramic and has a wide mouth and a secure, tight-fitting lid. Jars are often used for storing food items, such as olives, pickles, jams, and other types of preserved or dried goods. Because they have a sealed lid, jars can help to keep food fresh and prevent it from coming into contact with air or other substances that might spoil or contaminate it. If you want to prevent olives from getting nearby food wet, you could put them in a jar and close the lid to create an airtight seal. This would help to keep the olives separate from other foods and prevent them from coming into contact with moisture or other liquids.\",\n",
    "    \"If the graveyard was zoned by the pastor, it is likely that it was located on church property. Church property refers to land or buildings that are owned by a church or religious organization. This may include the main church building, as well as other structures such as a rectory, school, or community center. Church property may also include a graveyard or cemetery, which is a place where people are buried after they die. Pastors, who are ordained leaders in a church, often play a central role in the management and oversight of church property, and they may be responsible for zoning or designating areas within the property for specific purposes, such as a graveyard or a garden. If the pastor has zoned the graveyard, it is likely that it is located on church property and is being used as a place for burial by members of the church or community.\",\n",
    "    \"If a family wanted to live with carpeting, they may have ended up putting it in their houses. Houses are structures that are designed and built to be used as homes, and they typically have a number of rooms that are used for different purposes, such as sleeping, cooking, eating, and relaxing. Carpeting is a type of floor covering that is made of soft, flexible materials, such as wool, nylon, or polypropylene, and it is often used in houses to provide warmth, comfort, and insulation. If a family wanted to live with carpeting, they may have chosen to install carpeting in some or all of the rooms in their houses, in order to create a warm and cozy atmosphere and to improve the overall comfort and livability of their homes.\",\n",
    "    \"If a boss likes an employee's ambition, the employee may be put in charge of a project. A project is a specific task or set of tasks that is undertaken in order to achieve a specific goal or objective. Projects may be large or small, complex or simple, and they may involve a wide range of activities, such as research, design, development, testing, and implementation. If an employee is ambitious and demonstrates a strong desire to succeed and make a positive contribution to their organization, their boss may choose to put them in charge of a project, in order to give them the opportunity to demonstrate their skills and abilities and to take on more responsibility. Being put in charge of a project can be a challenging and rewarding experience, and it may provide an employee with the chance to learn new things, develop their skills, and make a meaningful contribution to their organization.\",\n",
    "    \"A county highway can be viewed as a line on a map. A map is a graphic representation of an area or region that shows the locations of various features, such as roads, rivers, mountains, and cities. Maps are often used to help people navigate and find their way around unfamiliar places, and they can be very useful for understanding the layout and geography of an area. County highways are roads that are maintained and operated by a county or local government, and they are typically used for local travel and transportation within a county or region. On a map, a county highway may be represented as a line, with a specific color or symbol used to indicate its location and route. By viewing a county highway as a line on a map, it is possible to get a sense of the route and layout of the road, and to use the map to plan a journey or navigate to a specific destination.\",\n",
    "    \"After going for a run, someone may feel tired. Running is a form of physical activity that involves moving quickly and continuously on foot, typically by running or jogging. It is a popular form of exercise that can help to improve cardiovascular fitness, build endurance, and strengthen the muscles of the legs and lower body. However, running can also be physically demanding, and it requires a certain level of fitness and stamina to be able to sustain the activity for an extended period of time. As a result, it is common for people to feel tired after going for a run, especially if they are not used to the activity or if they have pushed themselves to run for a longer distance or at a faster pace than usual. Tiredness after a run may be accompanied by other physical sensations, such as muscle fatigue, thirst, or a sense of accomplishment.\",\n",
    "    \"If a car was going from Florida to Ohio, it was heading north. Florida is a state in the southeastern region of the United States, and Ohio is a state in the midwestern region of the country. When traveling from Florida to Ohio, a person would need to go north in order to reach their destination. North is a direction that is opposite to south on a map or compass, and it is typically associated with higher latitude, colder climates, and longer nights. When traveling north, a person may encounter different landscapes, weather patterns, and cultural experiences than they would when traveling south, depending on the specific route and the distance traveled. By heading north from Florida to Ohio, a person would be leaving behind the warm, tropical climate of Florida and entering into a more temperate, mid-latitude region with cooler temperatures and a more diverse range of landscapes and ecosystems.\",\n",
    "    \"During a typical week, a teacher is likely to spend most of their time working in school. A teacher is a person who is trained and qualified to teach students in a school or educational setting, and their primary job is to provide instruction and guidance to help students learn and develop their skills and knowledge. Teachers may work in a variety of settings, including primary schools, secondary schools, and universities, and they may teach a wide range of subjects, including math, science, English, history, and the arts. In order to fulfill their duties as a teacher, a person is likely to spend most of their time working in a school or educational setting, where they will be responsible for preparing and delivering lessons, grading assignments, communicating with students and parents, and performing other tasks related to their job. Teachers typically work on a schedule that follows the school year, and they may work full-time or part-time, depending on their specific circumstances and the needs of their students.\",\n",
    "    \"In a predicament, an animal might choose to fight for its life as an alternative to fleeing. Predicament is a term that refers to a difficult or challenging situation, typically one that involves a choice or decision that needs to be made. When an animal finds itself in a predicament, it may have to decide how to respond in order to survive and protect itself. One option that an animal may have is to flee or run away from the situation in an effort to escape danger or avoid conflict. Another option that an animal may have is to fight for its life, using whatever means are available to defend itself and protect its survival. The choice that an animal makes in a predicament will depend on a variety of factors, including the specific nature of the situation, the animal's size, strength, and abilities, and the resources and options that are available to it.\",\n",
    "    \"It is not common for people to fight each other when they find a good deal. A good deal is typically defined as an opportunity to purchase something at a price that is lower than what it is usually worth, or to obtain a product or service that provides more value or benefits than what is expected. When people find a good deal, they may feel excited or pleased about the opportunity to save money or get more for their money, and they may take action to take advantage of the deal. However, it is generally not considered acceptable or appropriate for people to fight each other over a good deal or to engage in physical violence or aggression in order to obtain it. There are many other ways that people can express their interest in a good deal, such as by negotiating with the seller, making an offer, or simply making a purchase if the price is acceptable.\",\n",
    "    \"An altar is a platform or structure that is used for religious ceremonies, rituals, or worship. Altars are often found in places of worship, such as temples, churches, synagogues, mosques, and other religious buildings. When a person is standing in front of an altar, they are likely to be in a temple or other place of worship. Altars can be used for a variety of purposes in different religions and spiritual traditions, such as offering sacrifices, making offerings, praying, or performing other religious practices. They may be decorated with symbols, images, or other items that are significant to the religion or spiritual tradition that is being practiced. Altars may also be used as a place for people to meditate, reflect, or seek spiritual guidance.\",\n",
    "    \"Joe bought a bunch of grapes because he likes to use them to top his desserts. A dessert is a type of food that is typically served at the end of a meal, and it is usually sweet or rich in flavor. There are many different types of desserts that people enjoy, including cakes, cookies, ice cream, pie, and other sweet treats. One way that people may use grapes as a topping for their desserts is by placing them on top of a fruit pie, tart, or crisp. Grapes can add flavor and texture to a dessert, and they may also be used to decorate a dessert or to add visual appeal. Grapes are a versatile fruit that can be used in many different types of desserts, and they can be eaten fresh, frozen, or preserved in various ways.\",\n",
    "    \"Well water is water that is obtained from underground sources, typically through the use of a well. A well is a hole or shaft that is dug into the ground in order to access water that is contained in underground aquifers or other water-bearing formations. Well water is typically used for drinking, irrigation, and other purposes, and it is often considered to be of high quality because it is filtered and purified naturally as it flows through the ground. To obtain well water, a person can dig a well or have one dug by a professional well driller. The depth of the well will depend on the location and the geology of the area, and a pump or other mechanical system may be used to bring the water to the surface.\",\n",
    "]"
   ]
  },
  {
   "cell_type": "code",
   "execution_count": 17,
   "id": "d9681ea9",
   "metadata": {},
   "outputs": [],
   "source": [
    "def list2dict(refine_data):\n",
    "    refine_data_dict={}\n",
    "    for key in refine_data[0].keys():\n",
    "        refine_data_dict[key]=[x[key] for x in refine_data]\n",
    "    return refine_data_dict\n",
    "\n",
    "select_refine_train_data = []\n",
    "for da in refine_train_data:\n",
    "    if da['id'] in id_list:\n",
    "        da['our_explanation'] = chatGPT_rationales[id_list.index(da['id'])]\n",
    "        select_refine_train_data.append(da) \n",
    "        \n",
    "select_refine_train_data_dict = list2dict(select_refine_train_data)\n",
    "our_data_splits['train'] = datasets.Dataset.from_dict(select_refine_train_data_dict).shuffle().select(range(24))\n",
    "\n",
    "refine_dev_data_dict = list2dict(refine_dev_data)\n",
    "our_data_splits['dev'] = datasets.Dataset.from_dict(refine_dev_data_dict)\n",
    "\n",
    "refine_test_data_dict = list2dict(refine_test_data)\n",
    "our_data_splits['test'] = datasets.Dataset.from_dict(refine_test_data_dict)\n",
    "\n"
   ]
  },
  {
   "cell_type": "code",
   "execution_count": 18,
   "id": "53ab0e1a",
   "metadata": {},
   "outputs": [],
   "source": [
    "import datasets\n",
    "class SequenceCollator:\n",
    "    def __init__(self, pad_token):\n",
    "        # self.pad_token_mapping = {\n",
    "        #     \"lm_labels\": -100,\n",
    "        #     \"attention_mask\": 0,\n",
    "        #     \"decoder_attention_mask\": 0,\n",
    "        #     \"input_ids\": pad_token,\n",
    "        # }\n",
    "        # self.columns = [\n",
    "        #     \"input_ids\",\n",
    "        #     \"attention_mask\",\n",
    "        #     \"lm_labels\",\n",
    "        #     \"decoder_attention_mask\",\n",
    "        # ]\n",
    "        self.pad_token_mapping = {\n",
    "            \"labels\": -100,\n",
    "            \"attention_mask\": 0,\n",
    "            \"decoder_attention_mask\": 0,\n",
    "            \"input_ids\": pad_token,\n",
    "        }\n",
    "        self.columns = [\n",
    "            \"input_ids\",\n",
    "            \"attention_mask\",\n",
    "            \"labels\",\n",
    "            \"decoder_attention_mask\",\n",
    "        ]\n",
    "\n",
    "    def collate_batch(self, examples):\n",
    "\n",
    "        # batch inputs for training\n",
    "        batch = {}\n",
    "        for key in examples[0].keys():\n",
    "            if key in self.columns:\n",
    "                tmp_list = []\n",
    "                for item in examples:\n",
    "                    tmp_list.append(item[key])\n",
    "\n",
    "                # pad lists to max length\n",
    "                if isinstance(tmp_list[0], list):\n",
    "                    max_length = max(map(len, tmp_list))\n",
    "                    tmp_list = [\n",
    "                        el + [self.pad_token_mapping[key]] * (max_length - len(el))\n",
    "                        for el in tmp_list\n",
    "                    ]\n",
    "\n",
    "                batch[key] = torch.tensor(tmp_list, dtype=torch.long)\n",
    "        return batch\n",
    "    \n",
    "    def __call__(self, examples: List[Dict[str, InputDataClass]]) -> Dict[str, torch.Tensor]:\n",
    "        # re-format inputs for training\n",
    "        batch = {}\n",
    "        for key in examples[0].keys():\n",
    "            if key in self.columns:\n",
    "                tmp_list = []\n",
    "                for item in examples:\n",
    "                    tmp_list.append(item[key])\n",
    "\n",
    "                # pad lists to max length\n",
    "                if isinstance(tmp_list[0], list):\n",
    "                    max_length = max(map(len, tmp_list))\n",
    "                    tmp_list = [\n",
    "                        el + [self.pad_token_mapping[key]] * (max_length - len(el))\n",
    "                        for el in tmp_list\n",
    "                    ]\n",
    "\n",
    "                batch[key] = torch.tensor(tmp_list, dtype=torch.long)\n",
    "        return batch\n",
    "# dataset = datasets.load_dataset(data_args.task_name, data_args.version_name)"
   ]
  },
  {
   "cell_type": "code",
   "execution_count": 19,
   "id": "219866fe",
   "metadata": {},
   "outputs": [
    {
     "data": {
      "application/json": {
       "ascii": false,
       "bar_format": null,
       "colour": null,
       "elapsed": 0.01522517204284668,
       "initial": 0,
       "n": 0,
       "ncols": null,
       "nrows": 60,
       "postfix": null,
       "prefix": "",
       "rate": null,
       "total": 24,
       "unit": "ex",
       "unit_divisor": 1000,
       "unit_scale": false
      },
      "application/vnd.jupyter.widget-view+json": {
       "model_id": "4e7d91db11934457996a5dda7ed2b072",
       "version_major": 2,
       "version_minor": 0
      },
      "text/plain": [
       "  0%|          | 0/24 [00:00<?, ?ex/s]"
      ]
     },
     "metadata": {},
     "output_type": "display_data"
    },
    {
     "data": {
      "application/json": {
       "ascii": false,
       "bar_format": null,
       "colour": null,
       "elapsed": 0.014255046844482422,
       "initial": 0,
       "n": 0,
       "ncols": null,
       "nrows": 60,
       "postfix": null,
       "prefix": "",
       "rate": null,
       "total": 986,
       "unit": "ex",
       "unit_divisor": 1000,
       "unit_scale": false
      },
      "application/vnd.jupyter.widget-view+json": {
       "model_id": "7a5ea18b8f0d4d719e25711ef7a4ab0f",
       "version_major": 2,
       "version_minor": 0
      },
      "text/plain": [
       "  0%|          | 0/986 [00:00<?, ?ex/s]"
      ]
     },
     "metadata": {},
     "output_type": "display_data"
    },
    {
     "data": {
      "application/json": {
       "ascii": false,
       "bar_format": null,
       "colour": null,
       "elapsed": 0.01303863525390625,
       "initial": 0,
       "n": 0,
       "ncols": null,
       "nrows": 60,
       "postfix": null,
       "prefix": "",
       "rate": null,
       "total": 255,
       "unit": "ex",
       "unit_divisor": 1000,
       "unit_scale": false
      },
      "application/vnd.jupyter.widget-view+json": {
       "model_id": "21337d81885d41eabfa803402659c68f",
       "version_major": 2,
       "version_minor": 0
      },
      "text/plain": [
       "  0%|          | 0/255 [00:00<?, ?ex/s]"
      ]
     },
     "metadata": {},
     "output_type": "display_data"
    }
   ],
   "source": [
    "# seq_collector = SequenceCollator(0)\n",
    "# train_ds = seq_collector.__call__(dataset['train'])\n",
    "# train_ds\n",
    "# dataset['train'][0].keys()\n",
    "for split in ['train','dev','test']:\n",
    "    our_data_splits[split] = our_data_splits[split].map(\n",
    "            lambda x: format_instance(\n",
    "                x,\n",
    "                tokenizer,\n",
    "                data_args.explanation_sep,\n",
    "                datasource=data_args.task_name,\n",
    "                io_format=data_args.io_format\n",
    "            ),\n",
    "            batched=False,\n",
    "            load_from_cache_file=False,\n",
    "        )"
   ]
  },
  {
   "cell_type": "code",
   "execution_count": null,
   "id": "ca7ff6d0",
   "metadata": {},
   "outputs": [],
   "source": []
  },
  {
   "cell_type": "code",
   "execution_count": 20,
   "id": "6061b5a7",
   "metadata": {},
   "outputs": [],
   "source": [
    "chatGPT_rationales = [\n",
    "    \"A cup is a common vessel used for holding and drinking liquids, such as water, coffee, or tea. When you want to get yourself a drink, you might typically get a cup from a cabinet or other storage area in order to hold the drink. A cup is a convenient and practical choice for getting a drink because it is easy to hold and use, and it can hold a reasonable amount of liquid. There are many different types of cups available, including ceramic, glass, plastic, and metal cups, each with their own unique features and benefits. Whether you are at home, at work, or out in public, a cup is a handy item to have on hand when you need to quench your thirst.\",\n",
    "    \"A front yard is the lawn that is typically located in front of a house, near the street. The front yard is the part of the property that is visible from the street and is often used for decorative purposes, such as landscaping or gardening. Many people take pride in their front yards and may spend time and resources maintaining and improving them. The front yard is often the first thing that visitors see when they arrive at a house, and it can make a strong impression on them. In contrast, the back yard is typically located behind the house and is often used for more practical purposes, such as outdoor recreation or gardening.\",\n",
    "    \"A swimming pool is a recreational water feature that is typically used for swimming and other aquatic activities. While shallow water, such as that found in a kiddie pool or a shallow end of a pool, can be enjoyable for some people, it may not be sufficient for many summer activities. A swimming pool that is deep enough for diving and other activities is more likely to provide more opportunities for summer fun. In addition, a swimming pool that is clean and chlorinated is more likely to be safe and enjoyable for swimming, as it will be free of contaminants and bacteria that can cause illness.\",\n",
    "    \"In most places, it is illegal for people under the age of 21 to purchase or consume alcohol. This is because alcohol can have negative effects on the developing brain and body of young people. It can also contribute to risky behaviors and accidents. Therefore, many governments have set a minimum age for alcohol consumption and purchase to help protect the health and safety of young people. If someone is under the age of 21 and attempts to purchase alcohol, they may be denied the sale or face legal consequences. It is important for young people to understand and adhere to the laws and regulations regarding the purchase and consumption of alcohol in their area.\",\n",
    "    \"When someone shaves, they typically use a razor to remove hair from their face or body. The process of shaving can leave a lot of hair in the sink, as the hair is trimmed off and falls into the sink as it is being shaved. It is common for people to shave in the bathroom, where a sink is typically located. The sink provides a convenient place to rinse the razor and wash off any excess hair or shaving cream. It is important to clean the sink after shaving to remove any hair and prevent clogs in the drain.\",\n",
    "    \"A hamburger is a type of sandwich that consists of a cooked patty of ground meat, typically beef, placed between two slices of bread or a bun. Hamburgers are often served with various toppings, such as lettuce, tomato, onion, cheese, and condiments like ketchup and mustard. However, if someone is suffering from great hunger, they may not care about the toppings and just want to eat the hamburger itself. In this case, the person may be more focused on satisfying their hunger and getting nourishment rather than worrying about additional ingredients or flavors.\",\n",
    "    \"If a person notices popcorn and cotton candy on the grass, they are likely at fairgrounds. Fairgrounds are outdoor areas that are used for hosting fairs and other events, such as carnivals, festivals, and exhibitions. These events often feature food stalls and vendors that sell a variety of treats, including popcorn and cotton candy. Popcorn and cotton candy are both popular carnival foods that are often sold at fairs and other events. The presence of these foods on the ground at fairgrounds suggests that a fair or similar event is taking place there.\",\n",
    "    \"When snow on a mountain becomes heavy, it can trigger an avalanche. An avalanche is a rapid flow of snow down a slope, often triggered by the weight of the snow or external factors such as a change in temperature. Avalanches can be dangerous and destructive, as they can bury and sweep away anything in their path, including people, buildings, and vehicles. Avalanches can occur on any slope with a steep enough incline and a sufficient amount of snow. They are most common on mountains, but they can also occur in other snowy areas, such as forests or valleys. It is important for people to be aware of the risk of avalanches and to take precautions when traveling in areas prone to avalanches.\",\n",
    "    \"A police officer typically reports their work through the use of case reports or incident reports. These reports are written documents that detail the events of a specific case or incident that the officer has worked on. Case reports or incident reports typically include information such as the date and time of the incident, the location, the people involved, and the actions taken by the officer. They may also include witness statements, evidence collected, and any other relevant details. Case reports or incident reports are used by police officers to document their work and provide a record of the incidents they have dealt with. They are also used by supervisors and other authorities to review and evaluate the performance of the officer and the effectiveness of their actions.\",\n",
    "    \"Teachers play many roles in the lives of their students, including mentor, counselor, and role model. However, they get the most out of their job by simply teaching children. Teaching children is the primary responsibility of a teacher, and it is what they are trained and paid to do. Teaching involves imparting knowledge, skills, and values to students, and helping them to develop the skills and habits they need to succeed in life. Teachers have the opportunity to make a positive impact on the lives of their students by providing them with a strong foundation in academic subjects and helping them to become curious, engaged learners. Teachers often derive a great deal of satisfaction from helping their students to achieve their potential and succeed in their studies.\",\n",
    "    \"A person might go to get counseling for a variety of reasons. One reason is to better understand themselves. Counseling can provide a safe and supportive environment for individuals to explore their thoughts, feelings, and behaviors, and to gain insight into why they act and feel the way they do. Counseling can also help a person to identify and work through any underlying issues or challenges that may be causing them distress or hindering their personal growth. Through counseling, a person can learn more about themselves and how to navigate their emotions and relationships more effectively. Counseling can be particularly helpful for individuals who are struggling with mental health issues, relationship problems, or other personal challenges.\",\n",
    "    \"If the kids wanted to cool off, they might go swimming as a way to refresh and beat the heat. Swimming is a fun and enjoyable activity that can provide relief from hot weather and help to cool the body. Swimming can also provide a great workout and has numerous health benefits, such as improving cardiovascular fitness and flexibility. There are many different places where kids can go swimming, such as pools, lakes, rivers, or the ocean. No matter where they go, kids can have fun and cool off while enjoying the water.\",\n",
    "    \"When remembering a tragedy in the past, many people may feel depressed. Depression is a common emotional reaction to experiencing a traumatic or stressful event, such as a tragedy. Depression is a mental health disorder characterized by persistent feelings of sadness, hopelessness, and low energy. It can also cause physical symptoms such as changes in appetite and sleep patterns, fatigue, and difficulty concentrating. Remembering a tragedy can be emotionally difficult and may trigger feelings of sadness, grief, and guilt. It is important for people who are struggling with depression to seek support and treatment to help manage their symptoms and improve their mental health.\",\n",
    "    \"Death Valley is a national park located in the Mojave Desert, in the state of California, United States. It is situated on the North American continent. The North American continent is one of the seven continents of the world and is located in the western hemisphere. It is the third largest continent in terms of land area, after Asia and Africa, and is home to a diverse range of cultures, languages, and environments. Death Valley is known for its extreme desert climate and is the lowest, hottest, and driest place in North America. It is a popular destination for tourists, who come to see its unique geological features, such as sand dunes, salt flats, and canyons.\",\n",
    "    \"When in a serious relationship, understanding better requires effort. Relationships require effort and work to maintain and grow. In order to understand your partner better, you need to be willing to put in the time and effort to communicate with them, listen to their perspectives, and try to see things from their point of view. This may involve asking questions, expressing your own feelings and needs, and being open to feedback and compromise. Understanding your partner better can help to strengthen the bond between you and improve the quality of your relationship. It is important to remember that relationships are dynamic and evolving, and that ongoing communication and effort are necessary to maintain a healthy and fulfilling relationship.\",\n",
    "    \"Cats are able to make a variety of vocalizations, including meows, purrs, and growls, as a way of communicating with humans and other animals. Cats use these vocalizations to convey a range of emotions and needs, such as hunger, happiness, or discomfort. Meowing is a common vocalization that cats use to communicate with humans. Cats may meow when they want attention, food, or to be let outside. Cats may also meow when they are feeling anxious or stressed. Although cats cannot talk in the same way that humans do, they are skilled at using their voices to communicate with their owners and other animals.\",\n",
    "    \"If you need a vessel that is similar to a battleship but faster, you might consider using a corvette. A corvette is a small, fast warship that is typically used for convoy escort, patrol, and other shallow water duties. Corvettes are generally smaller and less heavily armed than battleships, but they are more agile and have a higher speed. They are typically equipped with a variety of weapons, including guns, missiles, and torpedoes, and are used for defending against enemy ships and aircraft. Corvettes are often used for coastal defense, as well as for patrolling and enforcing maritime laws. They are capable of operating in a variety of environments, including open ocean and littoral (nearshore) waters.\",\n",
    "    \"Water in the sky comes from rain clouds. Rain clouds are clouds that form when moist air rises and cools, forming tiny water droplets that condense around particles in the air. As the droplets grow, they eventually become heavy enough to fall from the cloud as rain. Rain clouds are typically gray or white in color and are often accompanied by other types of clouds, such as cumulus or stratocumulus clouds. Rain clouds can form in a variety of ways, such as when warm, moist air from the ground rises and cools, or when moist air from the ocean is carried inland by the wind. Rain clouds can be found in many parts of the world and are a common source of precipitation, especially during the warmer months.\",\n",
    "    \"If John rented a hotel room while on a business trip and it was a company-sponsored event, it is possible that the hotel was a resort. Resorts are hotels or vacation properties that offer a variety of amenities and activities for guests, such as swimming pools, golf courses, spas, and restaurants. They are often located in scenic or recreational areas and are designed to provide a relaxing and enjoyable experience for guests. Many resorts offer conference and meeting facilities and are popular destinations for business events and retreats. If John's company sponsored the business trip and provided the hotel accommodations, it is likely that they chose a resort with the amenities and facilities needed to support the event.\",\n",
    "    \"An expressway might leave the United States and go to Canada. The United States and Canada are neighboring countries that share a border, and there are several expressways that cross the border between the two countries. Expressways are high-speed, limited-access roads that are designed for fast and efficient travel. They typically have multiple lanes and may include features such as grade separations, interchanges, and controlled access points. Expressways are used for long-distance travel and are often the main routes connecting major cities and regions. If an expressway leaves the United States, it is likely that it is heading towards Canada, which is located to the north of the United States.\",\n",
    "    \"If you were walking on a sidewalk near a small corner shop run by John, you would look for it on the street corner. A corner shop is a small retail store that is typically located at the intersection of two streets. It is often a convenience store or a neighborhood shop that sells a variety of goods, such as groceries, household items, and other supplies. Corner shops are often located in busy urban areas, where they are easily accessible to pedestrians and motorists. If you were walking on a sidewalk near a corner shop, you would look for it at the intersection of the street where you are walking and another street. The shop is likely to be located in a building on the corner, with windows and doors facing the street.\",\n",
    "    \"One way that a company can efficiently sell things to their customers is through mail order. Mail order is a method of selling goods or services by advertising them in a catalog or other publication and allowing customers to place orders by mail, telephone, or online. Mail order is a convenient and efficient way for companies to reach a wide customer base, as it allows them to sell products to customers who may not be located near their physical store or who may not have the time or inclination to shop in person. Mail order companies typically have a centralized warehouse or distribution center where orders are processed and shipped to customers. They may also offer options such as easy returns and exchanges, as well as customer service support to assist with any questions or issues that customers may have.\",\n",
    "    \"If he enjoyed the factory work and liked the idea that he did it for sale, it is likely that he enjoyed producing goods. Factory work typically involves the production of goods, such as products or materials, using machines, tools, and other equipment. Factory workers are responsible for operating and maintaining the equipment and ensuring that the goods being produced meet quality standards. The goods produced in a factory may be sold directly to consumers or to other businesses, and may be used for a variety of purposes, such as manufacturing, construction, or distribution. If a person enjoys factory work, they may find satisfaction in the idea that they are contributing to the production of goods that will be sold and used by others.\",\n",
    "    \"If returning to work was easy for Dan after his treatment and he was completely painless, it is likely that he had undergone some form of medical treatment or therapy to address a health issue or injury. Painless indicates that Dan was no longer experiencing pain or discomfort, which may have been a result of the treatment or therapy he received. It is not clear from the information provided what specific health issue or injury Dan was dealing with, or what treatment or therapy he received. However, it is possible that Dan was able to return to work more easily after his treatment because he was feeling better and was no longer experiencing any pain or discomfort.\",\n",
    "    \"If index cards were on display at the museum, it is likely that the museum was a library. Libraries are institutions that provide access to a wide range of resources, including books, periodicals, and other printed materials, as well as digital resources such as e-books, databases, and online research tools. Libraries often have exhibits and displays of various types of materials, including rare or unique items, and may have special collections or archives that are of particular interest to researchers or historians. Index cards are small, rectangular pieces of paper that are used for organizing information, such as names, dates, or research notes. They may be used in a variety of settings, including libraries, offices, and schools. If index cards were on display at the museum, it is possible that they were part of a historical exhibit or collection related to the history of libraries or research.\",\n",
    "    \"If she was a human in America who wanted to live well, it is likely that the given for her situation was the need for money. In general, money is an important factor in enabling people to live well and meet their basic needs and desires. Money allows people to purchase the goods and services that they need to sustain themselves and their families, such as food, clothing, housing, and healthcare. It also enables people to pursue their interests and hobbies, travel, and engage in various forms of leisure and entertainment. In America, and in many other countries around the world, the cost of living can be high, and people often need to earn and save money in order to achieve a desired standard of living. As such, the need for money is a given for many people in order to live well.\",\n",
    "    \"A place that could have one back garden is a house. A garden is a piece of land that is used for growing plants, flowers, vegetables, or other types of vegetation. Gardens can be found in a variety of settings, including residential properties, public parks, and commercial properties. A house is a building that is used as a dwelling for one or more people, and it typically includes living spaces, such as bedrooms, bathrooms, and a kitchen, as well as outdoor areas, such as a front yard, side yard, and back yard. A back yard is a private outdoor space that is typically located behind a house and is often used for recreational or leisure activities, such as gardening, grilling, or playing games. If a house has a back garden, it is likely that the garden is located in the back yard.\",\n",
    "    \"People gather at a football stadium to see large men in pads play a game where they run and smash into each other. Football is a popular sport that is played on a rectangular field by two teams of eleven players. The game involves running, passing, and tackling, and players wear pads and other protective gear to reduce the risk of injury. Football is a physical and intense sport, and players often collide with each other at high speeds. Football stadiums are large, open-air facilities that are designed to host football games and other sporting events. They typically have a grass or artificial turf field, seating for spectators, and a variety of amenities, such as concessions stands, restrooms, and VIP areas. Football stadiums are popular places for people to gather and watch football games, and they can be found in cities and towns throughout the world.\",\n",
    "    \"One place where someone can get a flute is a musical instrument store. A musical instrument store is a retail establishment that specializes in selling musical instruments and related accessories. They may carry a wide range of instruments, including brass instruments, woodwind instruments, string instruments, percussion instruments, and keyboards. Flutes are woodwind instruments that are played by blowing air into a narrow opening and producing sound by vibrating the lips against a metal or wooden reed. They are popular instruments that are used in a variety of musical styles, including classical, jazz, and folk music. If someone is looking to purchase a flute, they may be able to find a selection of flutes at a musical instrument store. In addition to flutes, musical instrument stores may also offer a variety of other instruments, as well as sheet music, instructional materials, and accessories such as cases, stands, and cleaning supplies.\",\n",
    "    \"It is not clear what someone who has a greed for energy would do. The word greed typically refers to an excessive or insatiable desire for wealth, power, or material possessions. It is not clear how this concept would relate to energy or how it might influence someone's actions. It is possible that someone who has a lot of energy or who is very active might have a high appetite for food and might seek out sources of fuel or nutrition to sustain their energy levels. In this case, they might buy food as a way to obtain the energy they need. However, it is not accurate to say that someone who has a greed for energy would necessarily do this. It is important to note that the concept of greed is generally considered to be negative, as it suggests an unhealthy or unsustainable desire for something.\",\n",
    "    \"A forklift is a type of industrial vehicle that is used for moving and lifting heavy loads, such as pallets, crates, and boxes. Forklifts are equipped with a hydraulic lift mechanism and a set of prongs or forks that can be used to lift and transport loads. They are commonly used in warehouses and other distribution centers to move and stack materials, such as boxes, onto shelves or other storage areas. If you were using a forklift to stack boxes onto shelves, it is likely that you were in a warehouse or a similar facility. Warehouses are large, commercial buildings that are used for storing and distributing goods. They often have high ceilings, wide aisles, and multiple levels, and they may be equipped with a variety of material handling equipment, such as forklifts, conveyor belts, and cranes, to facilitate the movement and storage of goods.\",\n",
    "    \"You are likely to receive mouthwash in a little paper cup at a dentist's office. Dentist's offices are healthcare facilities that are staffed by dentists and other dental professionals, and they are used for the diagnosis and treatment of dental problems and the maintenance of oral health. One common practice at a dentist's office is to rinse the mouth with mouthwash, which is a liquid that is used to freshen breath, kill bacteria, and reduce the risk of gum disease and other oral health issues. Mouthwash is typically used after brushing and flossing to help remove any remaining food particles or plaque from the mouth. It may be dispensed in a little paper cup, which can be used to rinse the mouth and then disposed of after use.\",\n",
    "    \"A doctor's office can help you with an illness. A doctor's office is a healthcare facility that is staffed by medical doctors and other healthcare professionals, and it is used for the diagnosis and treatment of medical conditions and the maintenance of overall health. If you are experiencing an illness, such as a cold, flu, or more serious health issue, you may visit a doctor's office to seek medical care and treatment. At a doctor's office, you may receive a physical examination, diagnostic tests, and other forms of medical treatment, depending on the nature of your illness and your specific needs. Doctors are trained to diagnose and treat a wide range of medical conditions, and they can provide you with the care and support you need to recover from your illness and get back to good health.\",\n",
    "    \"A bug looking for wildflowers and no human interruption might go to a meadow. A meadow is a grassland area that is characterized by its open, grassy landscape and the presence of wildflowers and other types of vegetation. Meadows can be found in a variety of settings, including rural areas, forests, and parkland, and they are often home to a variety of animal and plant species. Because meadows are relatively undisturbed by human activity, they can be a good place for a bug to find wildflowers and other types of plants without interference from humans. Meadows are often considered to be peaceful, serene places, and they may be attractive to a bug that is seeking a quiet, natural environment in which to explore and forage.\",\n",
    "    \"If a bride and groom are taking care of proposals, the likely ceremony is a marriage. A marriage is a formal union between two people that is recognized by law and typically involves a public ceremony and the exchange of vows. A marriage proposal is a request for someone to marry another person, and it is typically made by one partner to the other. The process of planning a marriage often involves taking care of a variety of details and arrangements, such as choosing a venue, selecting a date, inviting guests, and organizing the ceremony and reception. If a bride and groom are taking care of proposals, it is likely that they are in the process of planning their marriage and preparing for the wedding ceremony.\",\n",
    "    \"You could put some olives in a jar to prevent them from getting nearby food wet. A jar is a container that is typically made of glass or ceramic and has a wide mouth and a secure, tight-fitting lid. Jars are often used for storing food items, such as olives, pickles, jams, and other types of preserved or dried goods. Because they have a sealed lid, jars can help to keep food fresh and prevent it from coming into contact with air or other substances that might spoil or contaminate it. If you want to prevent olives from getting nearby food wet, you could put them in a jar and close the lid to create an airtight seal. This would help to keep the olives separate from other foods and prevent them from coming into contact with moisture or other liquids.\",\n",
    "    \"If the graveyard was zoned by the pastor, it is likely that it was located on church property. Church property refers to land or buildings that are owned by a church or religious organization. This may include the main church building, as well as other structures such as a rectory, school, or community center. Church property may also include a graveyard or cemetery, which is a place where people are buried after they die. Pastors, who are ordained leaders in a church, often play a central role in the management and oversight of church property, and they may be responsible for zoning or designating areas within the property for specific purposes, such as a graveyard or a garden. If the pastor has zoned the graveyard, it is likely that it is located on church property and is being used as a place for burial by members of the church or community.\",\n",
    "    \"If a family wanted to live with carpeting, they may have ended up putting it in their houses. Houses are structures that are designed and built to be used as homes, and they typically have a number of rooms that are used for different purposes, such as sleeping, cooking, eating, and relaxing. Carpeting is a type of floor covering that is made of soft, flexible materials, such as wool, nylon, or polypropylene, and it is often used in houses to provide warmth, comfort, and insulation. If a family wanted to live with carpeting, they may have chosen to install carpeting in some or all of the rooms in their houses, in order to create a warm and cozy atmosphere and to improve the overall comfort and livability of their homes.\",\n",
    "    \"If a boss likes an employee's ambition, the employee may be put in charge of a project. A project is a specific task or set of tasks that is undertaken in order to achieve a specific goal or objective. Projects may be large or small, complex or simple, and they may involve a wide range of activities, such as research, design, development, testing, and implementation. If an employee is ambitious and demonstrates a strong desire to succeed and make a positive contribution to their organization, their boss may choose to put them in charge of a project, in order to give them the opportunity to demonstrate their skills and abilities and to take on more responsibility. Being put in charge of a project can be a challenging and rewarding experience, and it may provide an employee with the chance to learn new things, develop their skills, and make a meaningful contribution to their organization.\",\n",
    "    \"A county highway can be viewed as a line on a map. A map is a graphic representation of an area or region that shows the locations of various features, such as roads, rivers, mountains, and cities. Maps are often used to help people navigate and find their way around unfamiliar places, and they can be very useful for understanding the layout and geography of an area. County highways are roads that are maintained and operated by a county or local government, and they are typically used for local travel and transportation within a county or region. On a map, a county highway may be represented as a line, with a specific color or symbol used to indicate its location and route. By viewing a county highway as a line on a map, it is possible to get a sense of the route and layout of the road, and to use the map to plan a journey or navigate to a specific destination.\",\n",
    "    \"After going for a run, someone may feel tired. Running is a form of physical activity that involves moving quickly and continuously on foot, typically by running or jogging. It is a popular form of exercise that can help to improve cardiovascular fitness, build endurance, and strengthen the muscles of the legs and lower body. However, running can also be physically demanding, and it requires a certain level of fitness and stamina to be able to sustain the activity for an extended period of time. As a result, it is common for people to feel tired after going for a run, especially if they are not used to the activity or if they have pushed themselves to run for a longer distance or at a faster pace than usual. Tiredness after a run may be accompanied by other physical sensations, such as muscle fatigue, thirst, or a sense of accomplishment.\",\n",
    "    \"If a car was going from Florida to Ohio, it was heading north. Florida is a state in the southeastern region of the United States, and Ohio is a state in the midwestern region of the country. When traveling from Florida to Ohio, a person would need to go north in order to reach their destination. North is a direction that is opposite to south on a map or compass, and it is typically associated with higher latitude, colder climates, and longer nights. When traveling north, a person may encounter different landscapes, weather patterns, and cultural experiences than they would when traveling south, depending on the specific route and the distance traveled. By heading north from Florida to Ohio, a person would be leaving behind the warm, tropical climate of Florida and entering into a more temperate, mid-latitude region with cooler temperatures and a more diverse range of landscapes and ecosystems.\",\n",
    "    \"During a typical week, a teacher is likely to spend most of their time working in school. A teacher is a person who is trained and qualified to teach students in a school or educational setting, and their primary job is to provide instruction and guidance to help students learn and develop their skills and knowledge. Teachers may work in a variety of settings, including primary schools, secondary schools, and universities, and they may teach a wide range of subjects, including math, science, English, history, and the arts. In order to fulfill their duties as a teacher, a person is likely to spend most of their time working in a school or educational setting, where they will be responsible for preparing and delivering lessons, grading assignments, communicating with students and parents, and performing other tasks related to their job. Teachers typically work on a schedule that follows the school year, and they may work full-time or part-time, depending on their specific circumstances and the needs of their students.\",\n",
    "    \"In a predicament, an animal might choose to fight for its life as an alternative to fleeing. Predicament is a term that refers to a difficult or challenging situation, typically one that involves a choice or decision that needs to be made. When an animal finds itself in a predicament, it may have to decide how to respond in order to survive and protect itself. One option that an animal may have is to flee or run away from the situation in an effort to escape danger or avoid conflict. Another option that an animal may have is to fight for its life, using whatever means are available to defend itself and protect its survival. The choice that an animal makes in a predicament will depend on a variety of factors, including the specific nature of the situation, the animal's size, strength, and abilities, and the resources and options that are available to it.\",\n",
    "    \"It is not common for people to fight each other when they find a good deal. A good deal is typically defined as an opportunity to purchase something at a price that is lower than what it is usually worth, or to obtain a product or service that provides more value or benefits than what is expected. When people find a good deal, they may feel excited or pleased about the opportunity to save money or get more for their money, and they may take action to take advantage of the deal. However, it is generally not considered acceptable or appropriate for people to fight each other over a good deal or to engage in physical violence or aggression in order to obtain it. There are many other ways that people can express their interest in a good deal, such as by negotiating with the seller, making an offer, or simply making a purchase if the price is acceptable.\",\n",
    "    \"An altar is a platform or structure that is used for religious ceremonies, rituals, or worship. Altars are often found in places of worship, such as temples, churches, synagogues, mosques, and other religious buildings. When a person is standing in front of an altar, they are likely to be in a temple or other place of worship. Altars can be used for a variety of purposes in different religions and spiritual traditions, such as offering sacrifices, making offerings, praying, or performing other religious practices. They may be decorated with symbols, images, or other items that are significant to the religion or spiritual tradition that is being practiced. Altars may also be used as a place for people to meditate, reflect, or seek spiritual guidance.\",\n",
    "    \"Joe bought a bunch of grapes because he likes to use them to top his desserts. A dessert is a type of food that is typically served at the end of a meal, and it is usually sweet or rich in flavor. There are many different types of desserts that people enjoy, including cakes, cookies, ice cream, pie, and other sweet treats. One way that people may use grapes as a topping for their desserts is by placing them on top of a fruit pie, tart, or crisp. Grapes can add flavor and texture to a dessert, and they may also be used to decorate a dessert or to add visual appeal. Grapes are a versatile fruit that can be used in many different types of desserts, and they can be eaten fresh, frozen, or preserved in various ways.\",\n",
    "    \"Well water is water that is obtained from underground sources, typically through the use of a well. A well is a hole or shaft that is dug into the ground in order to access water that is contained in underground aquifers or other water-bearing formations. Well water is typically used for drinking, irrigation, and other purposes, and it is often considered to be of high quality because it is filtered and purified naturally as it flows through the ground. To obtain well water, a person can dig a well or have one dug by a professional well driller. The depth of the well will depend on the location and the geology of the area, and a pump or other mechanical system may be used to bring the water to the surface.\",\n",
    "]"
   ]
  },
  {
   "cell_type": "code",
   "execution_count": 21,
   "id": "f56877dd",
   "metadata": {},
   "outputs": [
    {
     "name": "stdout",
     "output_type": "stream",
     "text": [
      "****\n",
      "0\n",
      "explain cos_e question: How does a police officer report his work? answer: case explanation<extra_id_0> </s>\n",
      "A police officer typically reports their work through the use of case reports or incident reports. These reports are written documents that detail the events of a specific case or incident that the officer has worked on. Case reports or incident reports typically include information such as the date and time of the incident, the location, the people involved, and the actions taken by the officer. They may also include witness statements, evidence collected, and any other relevant details. Case reports or incident reports are used by police officers to document their work and provide a record of the incidents they have dealt with. They are also used by supervisors and other authorities to review and evaluate the performance of the officer and the effectiveness of their actions.\n",
      "####\n",
      "****\n",
      "1\n",
      "explain cos_e question: What does someone who has a greed for energy do? answer: buy food explanation<extra_id_0> </s>\n",
      "It is not clear what someone who has a greed for energy would do. The word greed typically refers to an excessive or insatiable desire for wealth, power, or material possessions. It is not clear how this concept would relate to energy or how it might influence someone's actions. It is possible that someone who has a lot of energy or who is very active might have a high appetite for food and might seek out sources of fuel or nutrition to sustain their energy levels. In this case, they might buy food as a way to obtain the energy they need. However, it is not accurate to say that someone who has a greed for energy would necessarily do this. It is important to note that the concept of greed is generally considered to be negative, as it suggests an unhealthy or unsustainable desire for something.\n",
      "####\n",
      "****\n",
      "2\n",
      "explain cos_e question: She was a human in America who wanted to live well, what was a given for her situation? answer: need money explanation<extra_id_0> </s>\n",
      "If she was a human in America who wanted to live well, it is likely that the given for her situation was the need for money. In general, money is an important factor in enabling people to live well and meet their basic needs and desires. Money allows people to purchase the goods and services that they need to sustain themselves and their families, such as food, clothing, housing, and healthcare. It also enables people to pursue their interests and hobbies, travel, and engage in various forms of leisure and entertainment. In America, and in many other countries around the world, the cost of living can be high, and people often need to earn and save money in order to achieve a desired standard of living. As such, the need for money is a given for many people in order to live well.\n",
      "####\n",
      "****\n",
      "3\n",
      "explain cos_e question: A bride and groom are taking care of proposals, what is the likely ceremony? answer: marriage explanation<extra_id_0> </s>\n",
      "If a bride and groom are taking care of proposals, the likely ceremony is a marriage. A marriage is a formal union between two people that is recognized by law and typically involves a public ceremony and the exchange of vows. A marriage proposal is a request for someone to marry another person, and it is typically made by one partner to the other. The process of planning a marriage often involves taking care of a variety of details and arrangements, such as choosing a venue, selecting a date, inviting guests, and organizing the ceremony and reception. If a bride and groom are taking care of proposals, it is likely that they are in the process of planning their marriage and preparing for the wedding ceremony.\n",
      "####\n",
      "****\n",
      "4\n",
      "explain cos_e question: When a person is looking at an altar, where might they be standing? answer: temple explanation<extra_id_0> </s>\n",
      "An altar is a platform or structure that is used for religious ceremonies, rituals, or worship. Altars are often found in places of worship, such as temples, churches, synagogues, mosques, and other religious buildings. When a person is standing in front of an altar, they are likely to be in a temple or other place of worship. Altars can be used for a variety of purposes in different religions and spiritual traditions, such as offering sacrifices, making offerings, praying, or performing other religious practices. They may be decorated with symbols, images, or other items that are significant to the religion or spiritual tradition that is being practiced. Altars may also be used as a place for people to meditate, reflect, or seek spiritual guidance.\n",
      "####\n",
      "****\n",
      "5\n",
      "explain cos_e question: Index cards were on display at the museum, what kind of museum was it? answer: library explanation<extra_id_0> </s>\n",
      "If index cards were on display at the museum, it is likely that the museum was a library. Libraries are institutions that provide access to a wide range of resources, including books, periodicals, and other printed materials, as well as digital resources such as e-books, databases, and online research tools. Libraries often have exhibits and displays of various types of materials, including rare or unique items, and may have special collections or archives that are of particular interest to researchers or historians. Index cards are small, rectangular pieces of paper that are used for organizing information, such as names, dates, or research notes. They may be used in a variety of settings, including libraries, offices, and schools. If index cards were on display at the museum, it is possible that they were part of a historical exhibit or collection related to the history of libraries or research.\n",
      "####\n",
      "****\n",
      "6\n",
      "explain cos_e question: Where does water in the sky come from? answer: rain cloud explanation<extra_id_0> </s>\n",
      "Water in the sky comes from rain clouds. Rain clouds are clouds that form when moist air rises and cools, forming tiny water droplets that condense around particles in the air. As the droplets grow, they eventually become heavy enough to fall from the cloud as rain. Rain clouds are typically gray or white in color and are often accompanied by other types of clouds, such as cumulus or stratocumulus clouds. Rain clouds can form in a variety of ways, such as when warm, moist air from the ground rises and cools, or when moist air from the ocean is carried inland by the wind. Rain clouds can be found in many parts of the world and are a common source of precipitation, especially during the warmer months.\n",
      "####\n",
      "****\n",
      "7\n",
      "explain cos_e question: When remembering a tragedy in the past, what do many people feel? answer: depression explanation<extra_id_0> </s>\n",
      "When remembering a tragedy in the past, many people may feel depressed. Depression is a common emotional reaction to experiencing a traumatic or stressful event, such as a tragedy. Depression is a mental health disorder characterized by persistent feelings of sadness, hopelessness, and low energy. It can also cause physical symptoms such as changes in appetite and sleep patterns, fatigue, and difficulty concentrating. Remembering a tragedy can be emotionally difficult and may trigger feelings of sadness, grief, and guilt. It is important for people who are struggling with depression to seek support and treatment to help manage their symptoms and improve their mental health.\n",
      "####\n",
      "****\n",
      "8\n",
      "explain cos_e question: Why might a person go to get counseling? answer: understand themselves explanation<extra_id_0> </s>\n",
      "A person might go to get counseling for a variety of reasons. One reason is to better understand themselves. Counseling can provide a safe and supportive environment for individuals to explore their thoughts, feelings, and behaviors, and to gain insight into why they act and feel the way they do. Counseling can also help a person to identify and work through any underlying issues or challenges that may be causing them distress or hindering their personal growth. Through counseling, a person can learn more about themselves and how to navigate their emotions and relationships more effectively. Counseling can be particularly helpful for individuals who are struggling with mental health issues, relationship problems, or other personal challenges.\n",
      "####\n",
      "****\n",
      "9\n",
      "explain cos_e question: What place could have one back garden? answer: house explanation<extra_id_0> </s>\n",
      "A place that could have one back garden is a house. A garden is a piece of land that is used for growing plants, flowers, vegetables, or other types of vegetation. Gardens can be found in a variety of settings, including residential properties, public parks, and commercial properties. A house is a building that is used as a dwelling for one or more people, and it typically includes living spaces, such as bedrooms, bathrooms, and a kitchen, as well as outdoor areas, such as a front yard, side yard, and back yard. A back yard is a private outdoor space that is typically located behind a house and is often used for recreational or leisure activities, such as gardening, grilling, or playing games. If a house has a back garden, it is likely that the garden is located in the back yard.\n",
      "####\n",
      "****\n",
      "10\n",
      "explain cos_e question: Where might an expressway leave the Us to go? answer: canada explanation<extra_id_0> </s>\n",
      "An expressway might leave the United States and go to Canada. The United States and Canada are neighboring countries that share a border, and there are several expressways that cross the border between the two countries. Expressways are high-speed, limited-access roads that are designed for fast and efficient travel. They typically have multiple lanes and may include features such as grade separations, interchanges, and controlled access points. Expressways are used for long-distance travel and are often the main routes connecting major cities and regions. If an expressway leaves the United States, it is likely that it is heading towards Canada, which is located to the north of the United States.\n",
      "####\n",
      "****\n",
      "11\n",
      "explain cos_e question: How can a company efficiently sell things to their customer? answer: mail order explanation<extra_id_0> </s>\n",
      "One way that a company can efficiently sell things to their customers is through mail order. Mail order is a method of selling goods or services by advertising them in a catalog or other publication and allowing customers to place orders by mail, telephone, or online. Mail order is a convenient and efficient way for companies to reach a wide customer base, as it allows them to sell products to customers who may not be located near their physical store or who may not have the time or inclination to shop in person. Mail order companies typically have a centralized warehouse or distribution center where orders are processed and shipped to customers. They may also offer options such as easy returns and exchanges, as well as customer service support to assist with any questions or issues that customers may have.\n",
      "####\n",
      "****\n",
      "12\n",
      "explain cos_e question: What do people do sometimes when they find a good deal? answer: fight each other explanation<extra_id_0> </s>\n",
      "It is not common for people to fight each other when they find a good deal. A good deal is typically defined as an opportunity to purchase something at a price that is lower than what it is usually worth, or to obtain a product or service that provides more value or benefits than what is expected. When people find a good deal, they may feel excited or pleased about the opportunity to save money or get more for their money, and they may take action to take advantage of the deal. However, it is generally not considered acceptable or appropriate for people to fight each other over a good deal or to engage in physical violence or aggression in order to obtain it. There are many other ways that people can express their interest in a good deal, such as by negotiating with the seller, making an offer, or simply making a purchase if the price is acceptable.\n",
      "####\n",
      "****\n",
      "13\n",
      "explain cos_e question: Death Valley is in the North American what? answer: continent explanation<extra_id_0> </s>\n",
      "Death Valley is a national park located in the Mojave Desert, in the state of California, United States. It is situated on the North American continent. The North American continent is one of the seven continents of the world and is located in the western hemisphere. It is the third largest continent in terms of land area, after Asia and Africa, and is home to a diverse range of cultures, languages, and environments. Death Valley is known for its extreme desert climate and is the lowest, hottest, and driest place in North America. It is a popular destination for tourists, who come to see its unique geological features, such as sand dunes, salt flats, and canyons.\n",
      "####\n",
      "****\n",
      "14\n",
      "explain cos_e question: A boss may like an employee's ambition, so the employee may get put what? answer: in charge of project explanation<extra_id_0> </s>\n",
      "If a boss likes an employee's ambition, the employee may be put in charge of a project. A project is a specific task or set of tasks that is undertaken in order to achieve a specific goal or objective. Projects may be large or small, complex or simple, and they may involve a wide range of activities, such as research, design, development, testing, and implementation. If an employee is ambitious and demonstrates a strong desire to succeed and make a positive contribution to their organization, their boss may choose to put them in charge of a project, in order to give them the opportunity to demonstrate their skills and abilities and to take on more responsibility. Being put in charge of a project can be a challenging and rewarding experience, and it may provide an employee with the chance to learn new things, develop their skills, and make a meaningful contribution to their organization.\n",
      "####\n",
      "****\n",
      "15\n",
      "explain cos_e question: The family wanted to live with carpeting, so where did they end up putting it? answer: houses explanation<extra_id_0> </s>\n",
      "If a family wanted to live with carpeting, they may have ended up putting it in their houses. Houses are structures that are designed and built to be used as homes, and they typically have a number of rooms that are used for different purposes, such as sleeping, cooking, eating, and relaxing. Carpeting is a type of floor covering that is made of soft, flexible materials, such as wool, nylon, or polypropylene, and it is often used in houses to provide warmth, comfort, and insulation. If a family wanted to live with carpeting, they may have chosen to install carpeting in some or all of the rooms in their houses, in order to create a warm and cozy atmosphere and to improve the overall comfort and livability of their homes.\n",
      "####\n",
      "****\n",
      "16\n",
      "explain cos_e question: Where can someone get well water? answer: ground explanation<extra_id_0> </s>\n",
      "Well water is water that is obtained from underground sources, typically through the use of a well. A well is a hole or shaft that is dug into the ground in order to access water that is contained in underground aquifers or other water-bearing formations. Well water is typically used for drinking, irrigation, and other purposes, and it is often considered to be of high quality because it is filtered and purified naturally as it flows through the ground. To obtain well water, a person can dig a well or have one dug by a professional well driller. The depth of the well will depend on the location and the geology of the area, and a pump or other mechanical system may be used to bring the water to the surface.\n",
      "####\n",
      "****\n",
      "17\n",
      "explain cos_e question: Where could you put some olives to prevent them from getting nearby food wet? answer: jar explanation<extra_id_0> </s>\n",
      "You could put some olives in a jar to prevent them from getting nearby food wet. A jar is a container that is typically made of glass or ceramic and has a wide mouth and a secure, tight-fitting lid. Jars are often used for storing food items, such as olives, pickles, jams, and other types of preserved or dried goods. Because they have a sealed lid, jars can help to keep food fresh and prevent it from coming into contact with air or other substances that might spoil or contaminate it. If you want to prevent olives from getting nearby food wet, you could put them in a jar and close the lid to create an airtight seal. This would help to keep the olives separate from other foods and prevent them from coming into contact with moisture or other liquids.\n",
      "####\n",
      "****\n",
      "18\n",
      "explain cos_e question: When in a serious relationship understanding better requires what? answer: effort explanation<extra_id_0> </s>\n",
      "When in a serious relationship, understanding better requires effort. Relationships require effort and work to maintain and grow. In order to understand your partner better, you need to be willing to put in the time and effort to communicate with them, listen to their perspectives, and try to see things from their point of view. This may involve asking questions, expressing your own feelings and needs, and being open to feedback and compromise. Understanding your partner better can help to strengthen the bond between you and improve the quality of your relationship. It is important to remember that relationships are dynamic and evolving, and that ongoing communication and effort are necessary to maintain a healthy and fulfilling relationship.\n",
      "####\n",
      "****\n",
      "19\n",
      "explain cos_e question: The kids wanted to cool off so they all went to what? answer: go swimming explanation<extra_id_0> </s>\n",
      "If the kids wanted to cool off, they might go swimming as a way to refresh and beat the heat. Swimming is a fun and enjoyable activity that can provide relief from hot weather and help to cool the body. Swimming can also provide a great workout and has numerous health benefits, such as improving cardiovascular fitness and flexibility. There are many different places where kids can go swimming, such as pools, lakes, rivers, or the ocean. No matter where they go, kids can have fun and cool off while enjoying the water.\n",
      "####\n",
      "****\n",
      "20\n",
      "explain cos_e question: How would someone feel after going for run? answer: get tired explanation<extra_id_0> </s>\n",
      "After going for a run, someone may feel tired. Running is a form of physical activity that involves moving quickly and continuously on foot, typically by running or jogging. It is a popular form of exercise that can help to improve cardiovascular fitness, build endurance, and strengthen the muscles of the legs and lower body. However, running can also be physically demanding, and it requires a certain level of fitness and stamina to be able to sustain the activity for an extended period of time. As a result, it is common for people to feel tired after going for a run, especially if they are not used to the activity or if they have pushed themselves to run for a longer distance or at a faster pace than usual. Tiredness after a run may be accompanied by other physical sensations, such as muscle fatigue, thirst, or a sense of accomplishment.\n",
      "####\n",
      "****\n",
      "21\n",
      "explain cos_e question: A person notices popcorn, cotton candy on the grass, where is he likely? answer: fairgrounds explanation<extra_id_0> </s>\n",
      "If a person notices popcorn and cotton candy on the grass, they are likely at fairgrounds. Fairgrounds are outdoor areas that are used for hosting fairs and other events, such as carnivals, festivals, and exhibitions. These events often feature food stalls and vendors that sell a variety of treats, including popcorn and cotton candy. Popcorn and cotton candy are both popular carnival foods that are often sold at fairs and other events. The presence of these foods on the ground at fairgrounds suggests that a fair or similar event is taking place there.\n",
      "####\n",
      "****\n",
      "22\n",
      "explain cos_e question: The graveyard was zoned by the pastor, where was it located? answer: church property explanation<extra_id_0> </s>\n",
      "If the graveyard was zoned by the pastor, it is likely that it was located on church property. Church property refers to land or buildings that are owned by a church or religious organization. This may include the main church building, as well as other structures such as a rectory, school, or community center. Church property may also include a graveyard or cemetery, which is a place where people are buried after they die. Pastors, who are ordained leaders in a church, often play a central role in the management and oversight of church property, and they may be responsible for zoning or designating areas within the property for specific purposes, such as a graveyard or a garden. If the pastor has zoned the graveyard, it is likely that it is located on church property and is being used as a place for burial by members of the church or community.\n",
      "####\n",
      "****\n",
      "23\n",
      "explain cos_e question: What can help you with an illness? answer: doctor's office explanation<extra_id_0> </s>\n",
      "A doctor's office can help you with an illness. A doctor's office is a healthcare facility that is staffed by medical doctors and other healthcare professionals, and it is used for the diagnosis and treatment of medical conditions and the maintenance of overall health. If you are experiencing an illness, such as a cold, flu, or more serious health issue, you may visit a doctor's office to seek medical care and treatment. At a doctor's office, you may receive a physical examination, diagnostic tests, and other forms of medical treatment, depending on the nature of your illness and your specific needs. Doctors are trained to diagnose and treat a wide range of medical conditions, and they can provide you with the care and support you need to recover from your illness and get back to good health.\n",
      "####\n"
     ]
    }
   ],
   "source": [
    "id_list = []\n",
    "for kk, da in enumerate(our_data_splits['train']):\n",
    "    print(\"****\")\n",
    "    print(kk)\n",
    "    print(tokenizer.decode(da['input_ids']))\n",
    "    print(da['our_explanation'])\n",
    "    print(\"####\")\n",
    "# tokenizer.decode(our_data_splits['train'][0]['input_ids'])"
   ]
  },
  {
   "cell_type": "code",
   "execution_count": 22,
   "id": "01fdee8d",
   "metadata": {},
   "outputs": [],
   "source": [
    "id_list = [\n",
    " '71519c19654251cced50c5718fd527c1',\n",
    " '44195d210c81c8c550174d0edbd3ad5d',\n",
    " '5a5da37b685ec9c6f15228128ce30437',\n",
    " 'cabdfc174953b4bdb8bdcc89d6592c74',\n",
    " 'eac3a4080127e8924034651b57dfa289',\n",
    " 'c0013f31657294b9b5ad819123513ca7',\n",
    " '2681697be70cd5425899ed6deb84b18a',\n",
    " '47f60340b869552e795fa6782224f3d2',\n",
    " '7e8a6eac93147eb52d8151bab7b40003',\n",
    " 'f34267f498c8a78383e35057fbcfa2ce',\n",
    " 'f024f923d78e5c0a4c0c4baa3ddccf05',\n",
    " 'e148c710d0c26849cf1f15293481038b',\n",
    " 'bdf437d7498815f36c255f64a8e6571c',\n",
    " '2282e0c80be28aadadb79a822fec9dac',\n",
    " 'bdd05e96876342b4b5999709439a7f4e',\n",
    " '494b8316614fc64c5c27757aeaffce23_1',\n",
    " 'c4494b402264250dc70931613d482295',\n",
    " 'fcfbf207c5586294fdce33b645b613f1',\n",
    " '9c583bcbe68989a644433302545fb31e',\n",
    " '0e684d779d98e6eecda167c10af42bbb',\n",
    " 'ac0462d09b9fddd40c3c77aedf48a870',\n",
    " '1dbfb41e04a10bdbb085bfe667c0df99',\n",
    " 'cd0c0ef3b8ce0eb09ff26823f6059be6',\n",
    " 'e6b67184b99375d05d3f2887f684c684',\n",
    " 'ae9f6f1e17b3fdd3a86b494933809f45',\n",
    " 'f149604169936a30b7e4c8d599d604b5',\n",
    " 'd7c8377953e0175ef57d59f3a8e63a8e',\n",
    " '1837216ac7745121b82a6491b2318c09',\n",
    " 'b5fe238d45e55ca5d802b7823ad390ef',\n",
    " 'b2fbeb0b48bd5e575af0f7dc24cdd85d',\n",
    " '9bdfb101c487ac598f6e4686cf774703',\n",
    " '206c7116ee2246180fcc0c5a1d0e7205',\n",
    " '5cd7f44bbf730dfae5ef2a362d2e5149',\n",
    " '45d0ea781ffd49b07d6eae94d47a8945',\n",
    " '89afdea1d76272fda8e1538a7d3b7a3f',\n",
    " '38a514fe54108527e1d6e89d9812da93',\n",
    " 'ebf347934a3e90ea46d3d87726fb5d25',\n",
    " '90226a6ecd7308ae1e6220a15ae24bc6',\n",
    " '5cae8057e75e3adf5c338a43b3ba97fb',\n",
    " '388a363c49e1b0aca8eaf18ccdde0caf',\n",
    " '9ed3af82152dfcd7000bf4631b095f71',\n",
    " '2d5805d894bba224c5fe91e70b8c0f77',\n",
    " 'd5aa464a16b72c9b9f3091abd461e3ef',\n",
    " '381b11c54be4cc432a95053ca34cbf6b',\n",
    " '807a3a2dabdd50ed0c76052fd2612632',\n",
    " '5172041c750d22e9a5081cc024de0fa6',\n",
    " 'd32a45ab3b751110d0578a78e54c0e64',\n",
    " '28ca5cbe27774746c34f6ebe84fc6d0c']"
   ]
  },
  {
   "cell_type": "code",
   "execution_count": 23,
   "id": "a5115acd",
   "metadata": {},
   "outputs": [
    {
     "name": "stdout",
     "output_type": "stream",
     "text": [
      "Loading model: this will run only once.\n",
      "../few_shot_explanations/pretrained_models/csqa_models/valloss=0.28925~model=t5-3b~lr=0.0001~seed=1~labelagg=0_just_weights.pt\n"
     ]
    },
    {
     "name": "stderr",
     "output_type": "stream",
     "text": [
      "01/07/2023 19:33:49 - INFO - faiss.loader -   Loading faiss with AVX2 support.\n",
      "01/07/2023 19:33:49 - INFO - faiss.loader -   Could not load library with AVX2 support due to:\n",
      "ModuleNotFoundError(\"No module named 'faiss.swigfaiss_avx2'\")\n",
      "01/07/2023 19:33:49 - INFO - faiss.loader -   Loading faiss.\n",
      "01/07/2023 19:33:51 - INFO - faiss.loader -   Successfully loaded faiss.\n",
      "loading configuration file https://huggingface.co/t5-3b/resolve/main/config.json from cache at /home/huangyongfeng/.cache/huggingface/transformers/9548aafe2574163cda830b603f9821f06bbded327f57ecf09d4ad292d00f4b09.9872b28381f35eb45b1f1f839ef14943e64a0a448f611993c2e987c4d3e0844c\n",
      "Model config T5Config {\n",
      "  \"architectures\": [\n",
      "    \"T5WithLMHeadModel\"\n",
      "  ],\n",
      "  \"d_ff\": 16384,\n",
      "  \"d_kv\": 128,\n",
      "  \"d_model\": 1024,\n",
      "  \"decoder_start_token_id\": 0,\n",
      "  \"dropout_rate\": 0.1,\n",
      "  \"eos_token_id\": 1,\n",
      "  \"feed_forward_proj\": \"relu\",\n",
      "  \"gradient_checkpointing\": false,\n",
      "  \"initializer_factor\": 1.0,\n",
      "  \"is_encoder_decoder\": true,\n",
      "  \"layer_norm_epsilon\": 1e-06,\n",
      "  \"model_type\": \"t5\",\n",
      "  \"n_positions\": 512,\n",
      "  \"num_decoder_layers\": 24,\n",
      "  \"num_heads\": 32,\n",
      "  \"num_layers\": 24,\n",
      "  \"output_past\": true,\n",
      "  \"pad_token_id\": 0,\n",
      "  \"relative_attention_num_buckets\": 32,\n",
      "  \"task_specific_params\": {\n",
      "    \"summarization\": {\n",
      "      \"early_stopping\": true,\n",
      "      \"length_penalty\": 2.0,\n",
      "      \"max_length\": 200,\n",
      "      \"min_length\": 30,\n",
      "      \"no_repeat_ngram_size\": 3,\n",
      "      \"num_beams\": 4,\n",
      "      \"prefix\": \"summarize: \"\n",
      "    },\n",
      "    \"translation_en_to_de\": {\n",
      "      \"early_stopping\": true,\n",
      "      \"max_length\": 300,\n",
      "      \"num_beams\": 4,\n",
      "      \"prefix\": \"translate English to German: \"\n",
      "    },\n",
      "    \"translation_en_to_fr\": {\n",
      "      \"early_stopping\": true,\n",
      "      \"max_length\": 300,\n",
      "      \"num_beams\": 4,\n",
      "      \"prefix\": \"translate English to French: \"\n",
      "    },\n",
      "    \"translation_en_to_ro\": {\n",
      "      \"early_stopping\": true,\n",
      "      \"max_length\": 300,\n",
      "      \"num_beams\": 4,\n",
      "      \"prefix\": \"translate English to Romanian: \"\n",
      "    }\n",
      "  },\n",
      "  \"transformers_version\": \"4.9.2\",\n",
      "  \"use_cache\": true,\n",
      "  \"vocab_size\": 32128\n",
      "}\n",
      "\n",
      "loading weights file https://huggingface.co/t5-3b/resolve/main/pytorch_model.bin from cache at /home/huangyongfeng/.cache/huggingface/transformers/289687014f876f6cef27445bdc8175fd03dc36a99201b68d8e925957e4987b4f.885f97e8ec826518534b45f8b52caea4ca553494390d587dcf49492d95732676\n",
      "All model checkpoint weights were used when initializing T5ForConditionalGeneration.\n",
      "\n",
      "All the weights of T5ForConditionalGeneration were initialized from the model checkpoint at t5-3b.\n",
      "If your task is similar to the task the model of the checkpoint was trained on, you can already use T5ForConditionalGeneration for predictions without further training.\n"
     ]
    }
   ],
   "source": [
    "'''\n",
    "A (hopefully) Simple API for serving explanation score requests.\n",
    "\n",
    "input_string = (\n",
    "    f\"{question} answer: {gold_label}. \"\n",
    "    + f\" explanation: {abstr_expl}.\"\n",
    ")\n",
    "\n",
    "here are some example input strings:\n",
    "\n",
    "If you feel like everything is spinning while climbing you are experiencing what? answer: vertigo. explanation: Vertigo is often experienced while climbing or at heights.\n",
    "Where do you get clothes in a shopping bag? answer: retail store. explanation: For any large item where convenience is beneficial, one might go to a retail store, either a regular one or a big-box store like walmart.\n",
    "Where should a cat be in a house? answer: floor. explanation: A cat should be on the floor, not on a rug.\n",
    "'''\n",
    "import pdb\n",
    "import argparse\n",
    "import torch\n",
    "import transformers\n",
    "import os\n",
    "import tqdm\n",
    "import numpy as np\n",
    "\n",
    "_model, _tokenizer = None, None\n",
    "\n",
    "model2url = {\n",
    "    'large': 'https://storage.googleapis.com/ai2-mosaic-public/projects/few-shot-explanations/pretrained_models/commonsense_qa/valloss%3D0.28665~model%3Dt5-large~lr%3D0.0001~seed%3D1~labelagg%3D0_just_weights.pt',\n",
    "    '3b': 'https://storage.googleapis.com/ai2-mosaic-public/projects/few-shot-explanations/pretrained_models/commonsense_qa/valloss%3D0.28925~model%3Dt5-3b~lr%3D0.0001~seed%3D1~labelagg%3D0_just_weights.pt',\n",
    "    '11b': 'https://storage.googleapis.com/ai2-mosaic-public/projects/few-shot-explanations/pretrained_models/commonsense_qa/cose_deepspeed_valloss%3D0.00000~model%3Dt5-11b~lr%3D0.00001~seed%3D1~labelagg%3D0.pt',\n",
    "}\n",
    "\n",
    "def get_model(model_type, device=None):\n",
    "    global _model, model2url\n",
    "    if model_type not in {'11b', '3b', 'large'}:\n",
    "        raise NotImplementedError('{} is not a valid model please use \"3b\" or \"large\"'.format(model_type))\n",
    "\n",
    "    if _model is None:\n",
    "        hf_model_name = 't5-' + model_type\n",
    "        print('Loading model: this will run only once.')\n",
    "\n",
    "        if model_type == 'large':\n",
    "            model_path = '../few_shot_explanations/pretrained_models/csqa_models/t5-large.pt'\n",
    "        elif model_type == '3b':\n",
    "            \n",
    "            model_path = '../few_shot_explanations/pretrained_models/csqa_models/valloss=0.28925~model=t5-3b~lr=0.0001~seed=1~labelagg=0_just_weights.pt'\n",
    "            print(model_path)\n",
    "        elif model_type == '11b':\n",
    "            model_path = '../few_shot_explanations/pretrained_models/csqa_models/cose_deepspeed_valloss=0.00000~model=t5-11b~lr=0.00001~seed=1~labelagg=0.pt'\n",
    "\n",
    "        if not os.path.exists(model_path):\n",
    "            print('Please download weights for {} model and put in current directory.'.format(model_path))\n",
    "            print('for example, wget {}'.format(model2url[model_type]))\n",
    "            quit()\n",
    "\n",
    "        state = torch.load(model_path, map_location=torch.device('cpu'))\n",
    "        if 'model_state_dict' in state:\n",
    "            state = state['model_state_dict']\n",
    "\n",
    "        _model = transformers.AutoModelForSeq2SeqLM.from_pretrained(hf_model_name)\n",
    "        if model_type == '11b': # need to resize due to deepspeed, these entires are not accessed.\n",
    "            _model.resize_token_embeddings(len(transformers.AutoTokenizer.from_pretrained(hf_model_name)))\n",
    "        _model.load_state_dict(state)\n",
    "        _model.eval()\n",
    "        if device is not None:\n",
    "            _model = _model.to(device)\n",
    "\n",
    "    return _model\n",
    "\n",
    "\n",
    "def get_tokenizer(model_type):\n",
    "    global _tokenizer\n",
    "    if model_type not in {'3b', 'large', '11b'}:\n",
    "        raise NotImplementedError('{} is not a valid model please use \"3b\" or \"large\" or \"11b\"'.format(model_type))\n",
    "\n",
    "    if _tokenizer is None:\n",
    "        hf_model_name = 't5-' + model_type\n",
    "        _tokenizer = transformers.T5TokenizerFast.from_pretrained(hf_model_name)\n",
    "\n",
    "    return _tokenizer\n",
    "\n",
    "\n",
    "class T5Dataset(torch.utils.data.Dataset):\n",
    "    def __init__(self, data, tokenizer):\n",
    "        self.data = data\n",
    "        self.tokenizer = tokenizer\n",
    "\n",
    "    def __getitem__(self, idx):\n",
    "        res = self.tokenizer(self.data[idx]['input'], truncation=True)\n",
    "        res['labels'] = self.tokenizer(self.data[idx]['label']).input_ids\n",
    "        return res\n",
    "\n",
    "    def __len__(self):\n",
    "        return len(self.data)\n",
    "\n",
    "\n",
    "def get_scores(inputs, model_type, model, tokenizer, device=None, batch_size=32, verbose=False):\n",
    "    '''\n",
    "    Inputs:\n",
    "      - a list of explanations to score, e.g.,:\n",
    "        premise: A man getting a tattoo on his back. hypothesis: A woman is getting a tattoo. answer: contradiction. explanation: Because the tattoo artist is a man, the person getting the tattoo is not a woman.\n",
    "      - model type, either \"3b\" or \"large\" or \"11b\"\n",
    "      - device: which torch device to load model on, e.g., \"cuda:3\"\n",
    "    Outputs:\n",
    "      - P(good explanation); higher is better\n",
    "    '''\n",
    "    \n",
    "\n",
    "    score_itr = T5Dataset([{'input': inp, 'label': 'x'} for inp in inputs], tokenizer) # dummy labels for inference\n",
    "    data_collator = transformers.DataCollatorForSeq2Seq(\n",
    "        tokenizer,\n",
    "        model=model,\n",
    "        label_pad_token_id=-100,\n",
    "#         return_tensors='pt'\n",
    "    )\n",
    "    score_itr = torch.utils.data.DataLoader(score_itr, shuffle=False, collate_fn=data_collator, batch_size=batch_size)\n",
    "    score_itr = score_itr if not verbose else tqdm.tqdm(score_itr, total=len(score_itr))\n",
    "\n",
    "    good_idx, bad_idx = tokenizer('good').input_ids[0], tokenizer('bad').input_ids[0]\n",
    "    scores = []\n",
    "    \n",
    "    with torch.no_grad():\n",
    "        for batch in score_itr:\n",
    "            if device is not None:\n",
    "                input_ids, attention_mask, targets = batch['input_ids'].to(device), batch['attention_mask'].to(device), batch['labels'].to(device)\n",
    "            model_output = model(input_ids=input_ids, attention_mask=attention_mask, labels=targets)\n",
    "            logits_pos = model_output['logits'][:, 0, good_idx].cpu().numpy()\n",
    "            logits_neg = model_output['logits'][:, 0, bad_idx].cpu().numpy()\n",
    "            exp_logit_pos, exp_logit_neg = np.exp(logits_pos), np.exp(logits_neg)\n",
    "            score = list([float(x) for x in exp_logit_pos / (exp_logit_pos + exp_logit_neg)])\n",
    "            #pdb.set_trace()\n",
    "            scores.extend(score)\n",
    "    return scores\n",
    "\n",
    "model_type = '3b'\n",
    "device='cpu'\n",
    "assert model_type in {'large', '3b', '11b'}\n",
    "\n",
    "# if isinstance(inputs, str):\n",
    "#     inputs = [inputs]\n",
    "\n",
    "score_model = get_model(model_type, device='cpu')\n"
   ]
  },
  {
   "cell_type": "code",
   "execution_count": 24,
   "id": "6c10b7fe",
   "metadata": {},
   "outputs": [],
   "source": [
    "score_tokenizer = tokenizer#get_tokenizer(model_type)"
   ]
  },
  {
   "cell_type": "code",
   "execution_count": 25,
   "id": "d6f0c67f",
   "metadata": {},
   "outputs": [
    {
     "name": "stderr",
     "output_type": "stream",
     "text": [
      "loading configuration file ./cos_e_output_t5_3b/010223_215708/checkpoint-75/config.json\n",
      "Model config T5Config {\n",
      "  \"_name_or_path\": \"t5-3b\",\n",
      "  \"architectures\": [\n",
      "    \"T5ForConditionalGeneration\"\n",
      "  ],\n",
      "  \"d_ff\": 16384,\n",
      "  \"d_kv\": 128,\n",
      "  \"d_model\": 1024,\n",
      "  \"decoder_start_token_id\": 0,\n",
      "  \"dropout_rate\": 0.1,\n",
      "  \"eos_token_id\": 1,\n",
      "  \"feed_forward_proj\": \"relu\",\n",
      "  \"gradient_checkpointing\": false,\n",
      "  \"initializer_factor\": 1.0,\n",
      "  \"is_encoder_decoder\": true,\n",
      "  \"layer_norm_epsilon\": 1e-06,\n",
      "  \"model_type\": \"t5\",\n",
      "  \"n_positions\": 512,\n",
      "  \"num_decoder_layers\": 24,\n",
      "  \"num_heads\": 32,\n",
      "  \"num_layers\": 24,\n",
      "  \"output_past\": true,\n",
      "  \"pad_token_id\": 0,\n",
      "  \"relative_attention_num_buckets\": 32,\n",
      "  \"task_specific_params\": {\n",
      "    \"summarization\": {\n",
      "      \"early_stopping\": true,\n",
      "      \"length_penalty\": 2.0,\n",
      "      \"max_length\": 200,\n",
      "      \"min_length\": 30,\n",
      "      \"no_repeat_ngram_size\": 3,\n",
      "      \"num_beams\": 4,\n",
      "      \"prefix\": \"summarize: \"\n",
      "    },\n",
      "    \"translation_en_to_de\": {\n",
      "      \"early_stopping\": true,\n",
      "      \"max_length\": 300,\n",
      "      \"num_beams\": 4,\n",
      "      \"prefix\": \"translate English to German: \"\n",
      "    },\n",
      "    \"translation_en_to_fr\": {\n",
      "      \"early_stopping\": true,\n",
      "      \"max_length\": 300,\n",
      "      \"num_beams\": 4,\n",
      "      \"prefix\": \"translate English to French: \"\n",
      "    },\n",
      "    \"translation_en_to_ro\": {\n",
      "      \"early_stopping\": true,\n",
      "      \"max_length\": 300,\n",
      "      \"num_beams\": 4,\n",
      "      \"prefix\": \"translate English to Romanian: \"\n",
      "    }\n",
      "  },\n",
      "  \"torch_dtype\": \"float32\",\n",
      "  \"transformers_version\": \"4.9.2\",\n",
      "  \"use_cache\": true,\n",
      "  \"vocab_size\": 32128\n",
      "}\n",
      "\n",
      "loading weights file ./cos_e_output_t5_3b/010223_215708/checkpoint-75/pytorch_model.bin\n",
      "All model checkpoint weights were used when initializing T5ForConditionalGeneration.\n",
      "\n",
      "All the weights of T5ForConditionalGeneration were initialized from the model checkpoint at ./cos_e_output_t5_3b/010223_215708/checkpoint-75.\n",
      "If your task is similar to the task the model of the checkpoint was trained on, you can already use T5ForConditionalGeneration for predictions without further training.\n"
     ]
    }
   ],
   "source": [
    "good_model = T5ForConditionalGeneration.from_pretrained(\"./cos_e_output_t5_3b/010223_215708/checkpoint-75\")"
   ]
  },
  {
   "cell_type": "code",
   "execution_count": 26,
   "id": "027c0050",
   "metadata": {},
   "outputs": [],
   "source": [
    "# from tqdm import tqdm\n",
    "# fse_csqa_dev_data_dict\n",
    "# fse_csqa_train_data_dict\n",
    "# rationale_pair_dev_data = []\n",
    "# score_list = []\n",
    "# cc=0\n",
    "# # good_model = model\n",
    "# for da in tqdm(our_data_splits['dev'], total=len(our_data_splits['dev'])):\n",
    "#     if cc < 200:\n",
    "#         cc += 1\n",
    "#         continue\n",
    "#     print(\"*******\")\n",
    "#     print(\"question: {}\".format(da['question']))\n",
    "#     print(\"answer: {}\".format(da['answer']))\n",
    "#     print(\"choices: {}\".format(da['choices']))\n",
    "#     #print(\"our_explanation: {}\".format(da['our_explanation']))\n",
    "#     id_ = da['id']\n",
    "#     if id_ in fse_csqa_dev_data_dict.keys():\n",
    "#         common_expl_list = fse_csqa_dev_data_dict[id_]['common_expl_list']\n",
    "#     else:\n",
    "#         common_expl_list = fse_csqa_train_data_dict[id_]['common_expl_list']\n",
    "#         #print(1)\n",
    "#     da[\"common_expl_list\"] = common_expl_list\n",
    "#     print(\"common expl list: {}\".format(common_expl_list))\n",
    "#     inp_ids = torch.tensor(da[\"input_ids\"], device=model.device).reshape(1, -1)\n",
    "#     out = good_model.generate(\n",
    "#                     inp_ids,\n",
    "#                     max_length=100,\n",
    "#                     pad_token_id=tokenizer.pad_token_id,\n",
    "#                     eos_token_id=tokenizer.eos_token_id,\n",
    "#                 )\n",
    "#     skip_special_tokens = False if \"infilling\" in data_args.io_format else True\n",
    "#     words = tokenizer.decode(out[0].tolist(), skip_special_tokens=skip_special_tokens)\n",
    "#     print(\"generated explanation: {}\".format(words))\n",
    "#     da[\"generated_explanation\"] = words\n",
    "    \n",
    "#     rationale_pair_dev_data.append(da)\n",
    "    \n",
    "#     qae = \"{} answer: {} explanation: {}\".format(da['question'], \n",
    "#                                                  da['answer'], \n",
    "#                                                  da['generated_explanation'])\n",
    "#     scores = get_scores(\n",
    "#         [qae],\n",
    "#         '3b',\n",
    "#         score_model,\n",
    "#         score_tokenizer,\n",
    "#         device='cpu',\n",
    "#         batch_size=1,\n",
    "#         verbose=False)\n",
    "#     score_list.append(scores[0])\n",
    "#     print(\"score: {}\".format(scores[0]))\n",
    "#     print(\"########\")\n",
    "\n",
    "import json\n",
    "rationale_pair_save_with_score_path = os.path.join(\"./results\", \"24shots_cose_t5_3b_chatgpt_rationales_generator_test_rationale_pair_iter_score.json\")\n",
    "with open(rationale_pair_save_with_score_path, 'r') as f:\n",
    "    rationale_pair_dev_data = json.load(f)"
   ]
  },
  {
   "cell_type": "code",
   "execution_count": 27,
   "id": "dabe3306",
   "metadata": {},
   "outputs": [],
   "source": [
    "# score_list\n",
    "# import json\n",
    "# for kk in range(len(score_list)):\n",
    "#     rationale_pair_dev_data[kk]['score_3b'] = score_list[kk]\n",
    "# print(rationale_pair_dev_data[0]['score_3b'])\n",
    "# # import json\n",
    "# # rationale_pair_save_with_score_path = os.path.join(\"./results\", \"48shots_cose_t5_3b_authorwritten_rationales_generator_test_rationale_pair_with_score.json\")\n",
    "# # with open(rationale_pair_save_with_score_path, 'w') as f:\n",
    "# #     json.dump(rationale_pair_dev_data, f)\n",
    "\n",
    "# rationale_pair_save_path = os.path.join(\"./results\", \"24shots_cose_t5_3b_chatgpt_rationales_generator_test_rationale_pair_iter_score.json\")\n",
    "# with open(rationale_pair_save_path, 'w') as f:\n",
    "#     json.dump(rationale_pair_dev_data, f)"
   ]
  },
  {
   "cell_type": "code",
   "execution_count": 28,
   "id": "f9e8f886",
   "metadata": {},
   "outputs": [
    {
     "name": "stdout",
     "output_type": "stream",
     "text": [
      "*******\n",
      "id: e640201136dc1f4fb681c55ec0cbe8aa, score: 0.839391827583313\n",
      "question: What is a person using their whole body for work likely to complain of?\n",
      "answer: sore muscles\n",
      "choices: ['aching back', 'make mistakes', 'big muscles', 'lower back pain', 'sore muscles']\n",
      "generated explanation: <pad> <extra_id_0> A person using their whole body for work is likely to complain of sore muscles. Sore muscles are muscles that are strained or damaged as a result of prolonged physical activity or repetitive motion. When muscles are strained or damaged, they may become tender or sore, and they may cause pain or discomfort. If a person uses their whole body for work, they may experience sore muscles as a result of the strain or use of their muscles. When a person\n",
      "*******\n",
      "id: d5498755cacf43f5bc65bb6197cd868a, score: 0.8654621839523315\n",
      "question: Wanting to listen to the radio, what did the man do to it?\n",
      "answer: turn on\n",
      "choices: ['play music', 'turn on', 'train', 'blaring', 'radiotracking']\n",
      "generated explanation: <pad> <extra_id_0> A man wanted to listen to the radio. He turned on the radio. The radio is a device that is used for listening to audio content, such as music, news, and talk shows. When a man wants to listen to the radio, he may turn on the radio in order to do so. The radio may be turned on in order to enable the user to hear what is being said on the radio. If a man wants to listen to the radio,\n",
      "*******\n",
      "id: e73cc17829d1b7ec861c362414a13aad, score: 0.8454834818840027\n",
      "question: Where can you find pamphlets regarding diseases and ailments?\n",
      "answer: health department\n",
      "choices: ['theaters', 'health department', 'library', 'drawer', 'mail box']\n",
      "generated explanation: <pad> <extra_id_0> You can find pamphlets regarding diseases and ailments at the health department. The health department is a government agency that is responsible for maintaining the health and welfare of the public. It is the responsibility of the health department to provide information and services related to the prevention and treatment of disease and the management of health conditions. Pamphlets are written documents that provide general information about specific diseases and ailments, and they may include photographs, illustrations, and written information about the symptoms and causes of those\n",
      "*******\n",
      "id: 47abbb775aa617433cc9337edd851049, score: 0.8653349280357361\n",
      "question: Where might a t-shirt be kept?\n",
      "answer: drawer\n",
      "choices: ['suitcase', 'underground', 'shirtdress', 'closet', 'drawer']\n",
      "generated explanation: <pad> <extra_id_0> A t-shirt might be kept in a drawer. A drawer is a container that is used for storing items, such as clothing, linens, and other items. Drawers are typically used for storing items such as clothing, linens, and other items, such as shirts, sweatshirts, and other types of clothing. T-shirts can be kept in a drawer or other container that is used for storing items such as clothing, linens\n",
      "*******\n",
      "id: 97121fb37cd8495751c6edbc31bee471, score: 0.8470665216445923\n",
      "question: James went to outer space for the first time.  He packed everything, including his peanut butter, into a single object.  Where might his things be?\n",
      "answer: suitcase\n",
      "choices: ['universe', 'jar', 'box', 'closet', 'suitcase']\n",
      "generated explanation: <pad> <extra_id_0> If James went to outer space for the first time, and he packed everything, including his peanut butter, into a single object, it is likely that his things would be in a suitcase. A suitcase is a container that is used for carrying items, such as clothing, food, and other items, such as peanut butter and jelly, and other types of spreads. A suitcase is a container that is used for carrying items such as clothing, food, and other\n",
      "*******\n",
      "id: be95cda47ad187e6b3c1ffdc8a08647b, score: 0.8597215414047241\n",
      "question: What would you use if you wanted to play music?\n",
      "answer: cassettes\n",
      "choices: ['opera', 'movie', 'theatre', 'elevator', 'cassettes']\n",
      "generated explanation: <pad> <extra_id_0> If you wanted to play music, you would use cassettes. Cassettes are small, flexible discs that are used for storing and playing music. They are often used in portable audio players and other audio devices, such as mobile phones, iPods, and other digital music players. They are often used for storing and playing music, and they are often used for playing back music or other types of audio files. Cassettes can be used in a variety\n",
      "*******\n",
      "id: 371f22b6bf7c922f4f3a3ed182992656, score: 0.8641281723976135\n",
      "question: If you did well on the test, you might get an A as a what?\n",
      "answer: school grade\n",
      "choices: ['see work', 'practice', 'quiz', 'school grade', 'homework']\n",
      "generated explanation: <pad> <extra_id_0> If you did well on the test, you might get an A as a school grade. A school grade is a letter grade that is awarded to students who have completed a particular course or set of courses. School grades are generally considered to be a measure of academic achievement and are used as a benchmark for measuring student progress and achievement. A school grade is a letter grade that is used to measure student progress and achievement in a particular subject or area of study.\n",
      "*******\n",
      "id: 629f0241200ad76e018db1357c43a394, score: 0.839065670967102\n",
      "question: Where would you keep paper files you're currently working on?\n",
      "answer: desk\n",
      "choices: ['desk', 'filing cabinet', 'harddisk', 'drawer', 'computers']\n",
      "generated explanation: <pad> <extra_id_0> If you're currently working on paper files, you may keep them on your desk. A desk is a surface or furniture that is used as a work area and is used for storing items, such as documents, files, and other types of materials. Desks are typically used as offices or as a place for people to sit and work, and they typically have a variety of storage options, such as filing cabinets, desk drawers, and shelves. Desks\n",
      "*******\n",
      "id: 33fe2a4abf39fe6c1b667a7cf924213a, score: 0.8657205700874329\n",
      "question: Where can someone level up?\n",
      "answer: video game\n",
      "choices: ['video game', 'garage', 'food court', \"carpenter's shop\", 'building']\n",
      "generated explanation: <pad> <extra_id_0> Leveling up is a process in which players gain experience and progress in a video game. As a player, they can earn points and achievements that allow them to advance in the game. Leveling up is a common way for players to improve their skills and abilities in various aspects of the game. Leveling up is a common way for players to improve their skills and abilities in various aspects of the game, such as combat, strategy, and exploration. Leveling up\n",
      "*******\n",
      "id: ed9dd19c46e2312a5c700dd0a03f3114, score: 0.8386581540107727\n",
      "question: Where does a person usually plant a rosebush?\n",
      "answer: flower bed\n",
      "choices: ['ballpark', 'flower bed', 'park', 'backyard', 'outdoors']\n",
      "generated explanation: <pad> <extra_id_0> A person usually plants a rosebush in a flower bed. A flower bed is a place where flowers are grown for ornamental purposes, such as for landscaping, for example. Rosebushes are typically planted in flower beds because they provide a beautiful backdrop for other plants and flowers. Rosebushes are also popular landscaping plants because they provide a natural look and feel to a yard or garden. Rosebushes are often used as hedges, screening plants, or as\n",
      "*******\n",
      "id: 6435a28a5d2eca7131dd5dc029cc485e_1, score: 0.8471584320068359\n",
      "question: If one needed peas and shopped local, where might they go?\n",
      "answer: farmer's market\n",
      "choices: ['supermarket', 'fridge', 'grocery store', \"farmer's market\", 'freezer']\n",
      "generated explanation: <pad> <extra_id_0> If one needed peas and shopped local, they might go to a farmer's market. A farmer's market is a market that is organized and operated by local farmers and other vendors. These markets typically have a wide variety of fresh produce, including vegetables, fruits, and meats. Peas are often sold at farmer's markets and other local markets, and they often have a variety of vendors who sell their products at competitive prices.\n",
      "*******\n",
      "id: 8f25d837442574fb0ecaae9ebcb03c9a, score: 0.8338091373443604\n",
      "question: Why would you be getting in shape?\n",
      "answer: good health\n",
      "choices: ['good health', 'jogging', 'exercise', 'sweat', 'feel better']\n",
      "generated explanation: <pad> <extra_id_0> You would be getting in shape for a variety of reasons, including good health. Good health is defined as the state of being physically fit and having a healthy body. It is important to maintain a healthy weight and to maintain a healthy body composition. Getting in shape can help you achieve a healthy body weight and improve your overall health. It is important to maintain a healthy body weight and to maintain a healthy body composition. Getting in shape can help you\n",
      "*******\n",
      "id: 56b4e5f2da0f6b59b468b203d1c01373, score: 0.8830426931381226\n",
      "question: Where can you buy opera glasses that are old?\n",
      "answer: antique store\n",
      "choices: ['museum', \"woman's purse\", 'supermarket', 'antique store', 'theater']\n",
      "generated explanation: <pad> <extra_id_0> If you want to buy opera glasses that are old, you can go to an antique store. An antique store is a store that sells a variety of antiques, including furniture, decorative items, and other types of antiques. Antique stores often have a variety of opera glasses for sale, including antique opera glasses, as well as other types of antique glassware. Antique stores often have a variety of opera glasses for sale, including antique opera glasses, as well as\n",
      "*******\n",
      "id: 07c9effceb6fa9c88a834cbb97f59ea6, score: 0.8778896331787109\n",
      "question: Where can you buy a binder?\n",
      "answer: office supply store\n",
      "choices: ['college dorm', 'back pack', 'class room', 'backpack', 'office supply store']\n",
      "generated explanation: <pad> <extra_id_0> You can buy a binder at an office supply store. An office supply store is a store that sells a variety of office supplies, including binders, folders, and other storage products. Binders are commonly used for organizing documents, such as documents, reports, and other types of paper. Binders can be found in a variety of sizes and styles, including clear, opaque, and ring-bound, and they are often sold in\n",
      "*******\n",
      "id: 85d2ff0fc5569fb154d90d265ab5ca15, score: 0.835458517074585\n",
      "question: Where might a person store pamphlets?\n",
      "answer: drawer\n",
      "choices: ['health department', 'drawer', 'bookstore', 'library', 'desk']\n",
      "generated explanation: <pad> <extra_id_0> A person might store pamphlets in a drawer. A drawer is a container that is used for storing items such as documents, books, and other types of small items. Pamphlets are often used for a variety of purposes, such as organizing and storing information, such as storing important documents, such as birth certificates, marriage certificates, and other legal documents, as well as storing loose leaflets and other small items. Pamphlets can be folded\n",
      "*******\n",
      "id: c20f4bfe27a5a32ee0375a969b5059e3, score: 0.8707780838012695\n",
      "question: What are you likely to see on Independence Day?\n",
      "answer: fireworks display\n",
      "choices: ['groundhog', 'construction site', 'landmine', 'army', 'fireworks display']\n",
      "generated explanation: <pad> <extra_id_0> On Independence Day, you are likely to see fireworks displays. Fireworks displays are displays that use explosives to create a loud, dazzling display of light and sound. These displays are often accompanied by music and other forms of entertainment, such as dancing, singing, and drumming. Independence Day is a national holiday that is celebrated each year on the Fourth of July. Fireworks displays are popular forms of entertainment that are often seen at celebrations and events across the country\n",
      "*******\n",
      "id: 2c33d0863ae765a238f35c6778a94df4, score: 0.8487721681594849\n",
      "question: Where  might someone find lots of homes with a balcony railing?\n",
      "answer: apartment complex\n",
      "choices: ['theater', 'hotel', 'new orleans', 'theatre', 'apartment complex']\n",
      "generated explanation: <pad> <extra_id_0> One place where someone might find lots of homes with a balcony railing is an apartment complex. Apartment complexes are communities that are designed and built to be used as homes, and they typically have a variety of floor plans and features, including balconies, patios, and other outdoor areas. Many apartment complexes have balconies that are used as outdoor living spaces, and they often have railings that are used for a variety of purposes, such as entertaining\n",
      "*******\n",
      "id: 7c2d5dd8d69a94c40f5b17a168bc43d4, score: 0.8468859195709229\n",
      "question: The paper sign had notice of a civic meeting, where should it be posted?\n",
      "answer: public place\n",
      "choices: ['hallway', 'store window', 'pole', 'public place', 'shop window']\n",
      "generated explanation: <pad> <extra_id_0> If a paper sign had notice of a civic meeting, it should be posted in a public place. A public place is a place that is open to the public and where people can go to receive information about local events, such as civic meetings, community events, and local government meetings. A public place is a place that is open to the public and where people can gather to discuss important issues and concerns. A public place is a place that is open to the\n",
      "*******\n",
      "id: cfdd7683578d568936fbe383eeabf59f, score: 0.8308311700820923\n",
      "question: Where are floors kept clean for holy purposes?\n",
      "answer: synagogue\n",
      "choices: ['restaurant', 'basement', 'all buildings', 'carpet', 'synagogue']\n",
      "generated explanation: <pad> <extra_id_0> Synagogues are places of worship that are traditionally associated with Jewish religion and practice. They are places where people gather to pray, study, and worship. The floors of synagogues are often kept clean for holy purposes, such as for ritual washings, offering of incense, and other religious practices. In synagogues, floors are kept clean for holy purposes, such as for religious ceremonies, singing, and other religious activities. In synagogues,\n",
      "*******\n",
      "id: f9fe4a20c64c77cf0031caaabcfd562d, score: 0.8374701142311096\n",
      "question: In a lot of Asian restaurants food is eaten in a?\n",
      "answer: bowl\n",
      "choices: ['fork', 'zoo', 'spoon', 'bowl', 'kitchen']\n",
      "generated explanation: <pad> <extra_id_0> In a lot of Asian restaurants food is eaten in a bowl. A bowl is a container that is used for holding food and is typically made of ceramic or glass. Bowls are often used in Asian restaurants as they provide a convenient and attractive way for customers to enjoy their meals. Bowls can be used for storing food, serving food, or serving drinks. Bowls can be used for storing food and are often used in Asian restaurants as they provide a\n",
      "*******\n",
      "id: 4ffc2e1655e21d986559d600e1edbf3c, score: 0.8635327219963074\n",
      "question: What do children often do to express happiness?\n",
      "answer: sing\n",
      "choices: ['sing', 'play games', 'start fighting', 'fiddle', 'spread']\n",
      "generated explanation: <pad> <extra_id_0> Children often sing to express happiness. Singing is a common way for children to express happiness and joy. Singing is a fun and expressive way for children to express themselves and their feelings. It is a common way for children to express themselves and their feelings, and it is often used as a means of self-expression and communication. Children often sing for various reasons, including to express their happiness, to express their feelings, and to express their emotions. S\n",
      "*******\n",
      "id: 3532dfacc16aef1b83589b1af8f14c9f, score: 0.8316511511802673\n",
      "question: What is good way to break boredom for kids?\n",
      "answer: play games\n",
      "choices: ['play chess', 'play games', 'play basket', 'play cards', 'watch film']\n",
      "generated explanation: <pad> <extra_id_0> Playing games is a good way to break boredom for kids. Games are fun and engaging activities that can help to pass the time and keep kids entertained. Games can also be used as a way to develop skills and reinforce concepts, such as teamwork and cooperation, and they can help to improve motor skills and coordination. Games can also be used as a way to learn new things and develop new abilities, such as problem solving and communication. Games can also be used as\n",
      "*******\n",
      "id: fbacd3a0f5e6b7014dd4e63225b65bff, score: 0.8304278254508972\n",
      "question: Billy bought coffee and waited for his wife to arrive from  France.  Where might he have been?\n",
      "answer: train station\n",
      "choices: ['airport', 'grocery store', 'internet cafe', 'supermarket', 'train station']\n",
      "generated explanation: <pad> <extra_id_0> Billy bought coffee and waited for his wife to arrive from France. He might have been at a train station. A train station is a place where people wait for their loved ones to arrive by train from another country, such as France, and where they may have bought coffee and waited for her to arrive from France. Train stations are places where people wait for their loved ones to arrive by train from another country, such as France, and where they may have bought coffee and\n",
      "*******\n",
      "id: 3cebb729ba5cf1213b34387b2901b988, score: 0.8444143533706665\n",
      "question: Where can a lady store a writing instrument while away from home?\n",
      "answer: purse\n",
      "choices: ['office supply store', 'in her shoe', 'classroom', 'purse', 'stationery store']\n",
      "generated explanation: <pad> <extra_id_0> A lady can store a writing instrument while away from home in a purse. A purse is a small, leather bag that is typically carried by a woman and often has a zipper or snap closure. Purses are often used by women to carry small items, such as writing instruments, cosmetics, and other small items. Purses can also be used as a place to store small items, such as coins, keys, and other small items. Purses can\n",
      "*******\n",
      "id: fd9db0df25cc2eb0ca47047369fcf685, score: 0.8316073417663574\n",
      "question: A builder looking for wood to build a new home is likely to visit what location?\n",
      "answer: lumberyard\n",
      "choices: ['own home', 'grocery store', 'boat', 'carpet', 'lumberyard']\n",
      "generated explanation: <pad> <extra_id_0> A builder looking for wood to build a new home is likely to visit a lumberyard. A lumberyard is a location where wood is sold for use in construction, such as for the framing of a home or for the construction of other structures, such as a deck or fence. Wood is used in construction because it is strong and durable, and it is often used in construction projects such as home construction and furniture. A builder looking for wood to\n",
      "*******\n",
      "id: 5166f2816be1853ffa2f7c2328620573, score: 0.8710566759109497\n",
      "question: How would chicken be served?\n",
      "answer: plate\n",
      "choices: ['freezer', 'eaten', 'plate', 'fast food restaurant', 'dish']\n",
      "generated explanation: <pad> <extra_id_0> Chicken is a common dish that is served in many different ways, including on a plate. A plate is a large, flat surface that is used to hold food, such as rice, vegetables, or other types of food. Plates are typically made of ceramic or porcelain and are used for holding food items such as chicken, fish, or vegetables. Plates can be used to hold a variety of different types of food, such as chicken, fish, or vegetables,\n",
      "*******\n",
      "id: 3e0311ba5cb375fd47bd8f1e0624a375, score: 0.8444903492927551\n",
      "question: What does a computer have to do before a program can exist?\n",
      "answer: compile\n",
      "choices: ['write code', 'executable file', 'compile', 'think logically', 'get frustrated']\n",
      "generated explanation: <pad> <extra_id_0> A computer has to do before a program can exist. A program has to be compiled before it can exist. This process involves the compilation of source code into a single file that contains all the instructions and data that make up the program. This process is known as compiling, and it is the first step in creating a program. Before a program can exist, it must first be compiled into a single file, which is known as a program file\n",
      "*******\n",
      "id: 3651cf2b29f1e8281c8032c73a43e91e, score: 0.9127441048622131\n",
      "question: The people wanted to do a demonstration, where did they decide to do it?\n",
      "answer: public place\n",
      "choices: ['supermarket', 'public place', 'demolition', 'space shuttle', 'roadblock']\n",
      "generated explanation: <pad> <extra_id_0> If the people wanted to do a demonstration, they may have decided to do it in a public place. A public place is a place that is open to the public and where people can gather to discuss issues, hold discussions, or hold a demonstration. Demonstrations often take place in public places, such as parks, streets, or other public spaces. Demonstrations often take place in public places because they are open to the public and where people can gather\n",
      "*******\n",
      "id: c6c3f4ed53fa6adcda6d180490badfca, score: 0.8467430472373962\n",
      "question: The college freshmen was set on getting a fresh start, he was determined on making friends so did lots of what?\n",
      "answer: talking\n",
      "choices: ['smile', 'farting', 'falling in love', 'nice to', 'talking']\n",
      "generated explanation: <pad> <extra_id_0> The college freshmen was set on getting a fresh start, he was determined on making friends so he did lots of talking. Talking is a way of communicating with other people, usually by talking to them face to face. It is a common way for people to get to know each other and develop relationships. When a college freshmen is determined on getting a fresh start, he is likely to do lots of talking in order to make friends and build\n",
      "*******\n",
      "id: 8341f99912df1da9cb87de14c6f1e05f, score: 0.8779664635658264\n",
      "question: Where can a person use pencils to keep score?\n",
      "answer: bowling alley\n",
      "choices: ['restaurant', 'cabinet', 'backpack', 'bowling alley', 'classroom']\n",
      "generated explanation: <pad> <extra_id_0> A person can use pencils to keep score at a bowling alley. A bowling alley is a facility that is used for bowling and other forms of recreation. Pencils are used as a scoring device and are used to keep track of a person's score at a game or tournament. Pencils can be used to keep score at a bowling alley and are used to keep track of a person's progress in\n",
      "*******\n",
      "id: 3dc70ebc2b5e6fc970edc96d662f7450, score: 0.8455427289009094\n",
      "question: The man passed out from drinking alcohol, what did his brain suffer from?\n",
      "answer: toxicity\n",
      "choices: ['get pregnant', 'throwing up', 'tumor', 'toxicity', 'frequent urination']\n",
      "generated explanation: <pad> <extra_id_0> If the man passed out from drinking alcohol, his brain suffered from toxicity. Brain toxicity is the term used to describe the damage that occurs when the brain becomes damaged due to the effects of alcohol on the body. When a person drinks alcohol, their brains become damaged and they may suffer from various types of damage, including oxidative stress, inflammation, and other types of damage. When a person drinks alcohol, their brains may suffer from various types of damage,\n",
      "*******\n",
      "id: 9711ec6535e52fdf1adcbc5a392cd12d_1, score: 0.8870187997817993\n",
      "question: Where can you find cord along side nails and bolts?\n",
      "answer: hardware store\n",
      "choices: ['delivery room', 'garage', 'sporting goods store', 'office', 'hardware store']\n",
      "generated explanation: <pad> <extra_id_0> You can find cord along side nails and bolts at hardware stores. Hardware stores are places that sell a wide variety of hardware products, including nails, bolts, and screws. Cord is often used for connecting different types of hardware, such as cabinets, drawers, and shelving units. Cord is often used for connecting different types of hardware, such as nails, bolts, and screws, and it is often found in hardware stores alongside other types of fasteners, such as\n",
      "*******\n",
      "id: e6b5dee67cb32daff982e69ed3f7cd71, score: 0.8499031066894531\n",
      "question: Where is a automobile likely to go after an accident?\n",
      "answer: repair shop\n",
      "choices: ['corner store', 'driveway', 'repair shop', 'exit ramp', 'freeway']\n",
      "generated explanation: <pad> <extra_id_0> An automobile likely to go after an accident is to a repair shop. A repair shop is a place where an automobile is taken to have its mechanical systems repaired or replaced. Repair shops are places where an automobile is taken to have its mechanical systems repaired or replaced. Repair shops are places where an automobile is taken after an accident and where it is repaired or rebuilt. After an accident, an automobile may go to a repair shop in order to have its mechanical systems repaired or replaced.\n",
      "*******\n",
      "id: 29c03f7753025ff7a04816ccdcc6e3c4, score: 0.8546832203865051\n",
      "question: A human wants to go shopping in a dense urban area.  Where might be a good place for a person to go shopping?\n",
      "answer: downtown\n",
      "choices: ['detroit', 'elevator', 'workplace', 'downtown', 'mall']\n",
      "generated explanation: <pad> <extra_id_0> If a human wants to go shopping in a dense urban area, a good place to go might be downtown. Downtown is a dense urban area that is located in the heart of a city and is a good place to go shopping because it is a place where people congregate and do their shopping. Downtown is a place where people congregate and do their shopping, and it is often a good place to go shopping because it is a\n",
      "*******\n",
      "id: 7914facfac0229988dbd1f08de595257, score: 0.8345385789871216\n",
      "question: what happens to a company when it is bankrupt?\n",
      "answer: liquidated\n",
      "choices: ['liquidated', 'own resources', 'branch out', 'commit crime', 'game over']\n",
      "generated explanation: <pad> <extra_id_0> A company that is bankrupt is a company that has filed for bankruptcy protection. Bankruptcy is the legal term for the situation where a company has declared itself insolvent and is unable to pay its debts or meet its operating obligations. When a company is declared bankrupt, it is likely that it will be liquidated and its assets will be sold or otherwise disposed of in order to repay creditors or meet other obligations. Bankruptcy is the\n",
      "*******\n",
      "id: 0ab9d480d96cfaf75afc6203b59db19c, score: 0.8715206980705261\n",
      "question: The teacher told the class they would be taking a lot of notes this semester, he recommended buying a what just for this class?\n",
      "answer: notebook\n",
      "choices: ['school', 'meeting', 'notebook', 'meeting', 'desk']\n",
      "generated explanation: <pad> <extra_id_0> If the teacher told the class they would be taking a lot of notes this semester, he recommended buying a notebook just for this class. A notebook is a small, portable book that is used for keeping track of important information, such as class notes, homework, and other important details. Notebooks are often used for keeping track of important details, such as class assignments, homework, and other important details. If the teacher told the class they would be taking a lot\n",
      "*******\n",
      "id: f3ff95e09bfab7de16e797c0477494c9, score: 0.873435914516449\n",
      "question: Where might a traveler keep their comb?\n",
      "answer: suitcase\n",
      "choices: ['shoe', 'pocket', 'suitcase', 'barber shop', 'medicine cabinet']\n",
      "generated explanation: <pad> <extra_id_0> A traveler might keep their comb in their suitcase. A suitcase is a container that is used for storing items, such as clothing, toiletries, and other personal items. It is common for travelers to keep combs in their suitcases as a means of organizing their belongings and storing small items such as hair brushes, toothpaste, and other personal items. A suitcase is a container that is used for storing small items, such as combs\n",
      "*******\n",
      "id: 0a88cabd74ec6f40247dae2976cf8656, score: 0.8402069807052612\n",
      "question: Where can you buy clothing, sporting goods, and housewares?\n",
      "answer: department store\n",
      "choices: ['backpack', 'house', 'department store', 'mall', 'table']\n",
      "generated explanation: <pad> <extra_id_0> Department stores are stores that sell a wide variety of goods, such as clothing, sporting goods, and housewares. Department stores typically have a variety of departments that sell a wide variety of products, such as clothing, sporting goods, and housewares. Department stores typically have a wide selection of products that are sold in a variety of sizes, styles, and colors. Department stores typically have a wide variety of products that are sold in a variety of\n",
      "*******\n",
      "id: a15a562d117f1edc00e9e2ea5bfb5eb1, score: 0.8758791089057922\n",
      "question: If a person wants to make sure their lemonade is the most refreshing, where might they store it?\n",
      "answer: refrigerator\n",
      "choices: ['carnival', 'refrigerator', 'fairgrounds', 'summer', 'freezer']\n",
      "generated explanation: <pad> <extra_id_0> If a person wants to make sure their lemonade is the most refreshing, they might store it in the refrigerator. The refrigerator is a place in the home that is specifically designed for storing food, such as fresh produce, food products, and other perishable items. Lemonade is often served chilled, so it is important for it to be stored in the refrigerator to ensure that it is at its most refreshing and most refreshing state. The refrigerator is a place\n",
      "*******\n",
      "id: e1744fc698cffb574e5cf4b29a81ce76, score: 0.8415965437889099\n",
      "question: A computer user working on an important work assignment is located in what structure?\n",
      "answer: office building\n",
      "choices: ['office building', 'internet cafe', 'house', 'school', 'internet cafe']\n",
      "generated explanation: <pad> <extra_id_0> A computer user working on an important work assignment is located in an office building. An office building is a structure that is used as a place of business, where people gather to conduct business and conduct other types of business, such as meetings, conferences, workshops, and other forms of business activity. Computer users often work in offices, which are typically located in larger cities or towns. Office buildings often have a variety of uses, such as housing, offices, and conference rooms.\n",
      "*******\n",
      "id: 8ce13c6e08bf38d4cd4af756b661e47c, score: 0.8378034234046936\n",
      "question: Where would you put pans if you want to bring them with you?\n",
      "answer: backpack\n",
      "choices: ['cooking', 'cook food', 'kitchen', 'backpack', 'drawer']\n",
      "generated explanation: <pad> <extra_id_0> If you want to bring pans with you, you would put them in a backpack. A backpack is a container that is designed for carrying items, such as clothing, books, and other small items. Pans are often used for cooking and baking, and they are often used in restaurants and other settings. Backpacks are often used for carrying items such as pots, pans, and pan sets, and they often have a variety of compartments for different types\n",
      "*******\n",
      "id: 3ffe67fb009529d9b0c49ccd7141ee4a, score: 0.8632242679595947\n",
      "question: At a grocery store they sell individual potatoes, where does the grocery clerk likely put the potato?\n",
      "answer: paper bag\n",
      "choices: ['boiling water', 'root cellar', 'rocket ship', 'paper bag', 'underground']\n",
      "generated explanation: <pad> <extra_id_0> If a grocery clerk sells individual potatoes, the clerk likely puts the potato in a paper bag. A paper bag is a container that is typically made of paper or another lightweight material. Paper bags are often used in grocery stores for storing items such as produce, meat, and dairy products. When a grocery clerk sells individual potatoes, the clerk likely puts the potato in a paper bag or similar container. Paper bags are often used in grocery stores for storing\n",
      "*******\n",
      "id: ba9132ebf2bc3ad21e6a0631dc4e0a77, score: 0.8365647196769714\n",
      "question: They needed grape juice for their party, they went to buy it and other snacks at the what?\n",
      "answer: food store\n",
      "choices: ['field', 'restaurant', 'salad', 'market', 'food store']\n",
      "generated explanation: <pad> <extra_id_0> If they needed grape juice for their party, they went to buy it and other snacks at the food store. A food store is a store that sells a variety of foods and beverages, such as juice, snacks, and beverages. If they needed grape juice for their party, they may have gone to a food store to buy it and other snacks, such as crackers, cheese, and crackers, as well as other party supplies and foods. If they needed grape\n",
      "*******\n",
      "id: 026cb9c07a583ec933f2c4c67ae73836, score: 0.8535112738609314\n",
      "question: Where are horses judged on appearance?\n",
      "answer: fair\n",
      "choices: ['race track', 'fair', 'raised by humans', 'in a field', 'countryside']\n",
      "generated explanation: <pad> <extra_id_0> Horses are judged on appearance at fairs. Fairs are events where horses are judged on appearance, such as conformation, movement, and general appearance. At fairs, horses are judged on their appearance, such as their coat, color, and conformation. Horses are also judged on their ability to perform certain tasks, such as jumping, running, and jumping over obstacles. At fairs, horses are given a score based on their appearance and\n",
      "*******\n",
      "id: 8d275acea05fd16295c659c504576a9b, score: 0.8498907685279846\n",
      "question: Where can you buy jeans at one of may indoor merchants?\n",
      "answer: shopping mall\n",
      "choices: ['gap', 'shopping mall', 'bedroom', 'laundromat', 'bathroom']\n",
      "generated explanation: <pad> <extra_id_0> You can buy jeans at one of many indoor merchants, such as shopping malls. Shopping malls are indoor venues that typically have a variety of merchants, such as clothing stores, furniture stores, and specialty stores. These merchants often have a variety of products and services on offer, such as jeans, shoes, and accessories. If you are looking for jeans, you may find them at one of many indoor merchants, such as shopping malls, which are indoor\n",
      "*******\n",
      "id: 34005ef0caafefc8585c9fcd50e94557, score: 0.8373107314109802\n",
      "question: When are people buying products more?\n",
      "answer: economic boom\n",
      "choices: ['debt', 'economic boom', 'being able to use', 'disagreements', 'trading']\n",
      "generated explanation: <pad> <extra_id_0> When people are buying more products, it is usually because there is an economic boom. An economic boom is a period of time during which the economy is experiencing a significant increase in activity and spending, leading to an increase in consumer spending and the purchase of a wide range of goods and services. During an economic boom, people are buying more products and services, leading to an increase in demand for those products and services. During an economic boom, people are buying more products\n",
      "*******\n",
      "id: aa4c5d2d348796b8d7fa324f27f4c34f, score: 0.8723679780960083\n",
      "question: Where would you store a pillow case that is not in use?\n",
      "answer: drawer\n",
      "choices: ['kitchen cupboard', 'bedding store', 'england', 'drawer', 'bedroom']\n",
      "generated explanation: <pad> <extra_id_0> A pillow case that is not in use would be stored in a drawer. A drawer is a container that is used for storing items, such as pillows, blankets, and other bedding items. A pillow case is a small, rectangular piece of fabric that is typically made of cotton or linen and is used for storing items such as pillows, blankets, and other bedding items. When a pillow case is not in use, it is typically placed in a\n",
      "*******\n",
      "id: 175e7dcdded13d5adafaebf2264c3abd, score: 0.8422338962554932\n",
      "question: Where will a cheap book be found?\n",
      "answer: discount store\n",
      "choices: ['bookstore', 'classroom', 'discount store', 'school room', 'bedside table']\n",
      "generated explanation: <pad> <extra_id_0> A cheap book can be found at a discount store. A discount store is a store that sells items at a discounted price. These stores typically have a wide selection of books, including popular titles, and they often have a wide selection of genres and subject matter. Books can be found in a variety of formats, including hardcover, paperback, and electronic editions. Discount stores typically have a wide selection of books in different categories, such as\n",
      "*******\n",
      "id: fce1c5d069758aea57a787fc98dcf7a9, score: 0.8390880823135376\n",
      "question: Where is a great place to buy fresh fruit?\n",
      "answer: market\n",
      "choices: ['san francisco', 'refrigerator', 'big box retailer', 'tree', 'market']\n",
      "generated explanation: <pad> <extra_id_0> A great place to buy fresh fruit is at a market. A market is a place where fresh fruit is sold, typically in bulk, and is a place where buyers can find a wide variety of fresh produce, such as fruit, vegetables, flowers, nuts, and other types of fresh produce, as well as other types of fresh goods, such as meat, fish, and dairy products. Markets are places where buyers can find a wide variety of fresh produce,\n",
      "*******\n",
      "id: 7c8bc9c0e56389eef033bca40c88c151, score: 0.8524588942527771\n",
      "question: Where is a good place to have a fireplace in a house?\n",
      "answer: living room\n",
      "choices: ['big house', 'train', 'cabin', 'living room', 'home']\n",
      "generated explanation: <pad> <extra_id_0> A good place to have a fireplace in a house is in the living room. The living room is a room that is typically used for entertaining and relaxing, and it is often the place where people gather to relax and socialize. Fireplaces can provide a warm, cosy atmosphere and are a popular feature in many homes. They can provide a focal point for the room and provide a warm, cosy atmosphere. A fireplace can also provide a warm\n",
      "50\n"
     ]
    }
   ],
   "source": [
    "semi_train_data = []\n",
    "cc = 0\n",
    "for da in rationale_pair_dev_data:\n",
    "    if da['score_3b'] > 0.83:\n",
    "        cc += 1\n",
    "        print(\"*******\")\n",
    "        print(\"id: {}, score: {}\".format(da['id'], da['score_3b']))\n",
    "        print(\"question: {}\".format(da['question']))\n",
    "        print(\"answer: {}\".format(da['answer']))\n",
    "        print(\"choices: {}\".format(da['choices']))\n",
    "        print(\"generated explanation: {}\".format(da['generated_explanation']))\n",
    "        da['our_explanation'] = da['generated_explanation']\n",
    "        semi_train_data.append(da)\n",
    "print(cc)"
   ]
  },
  {
   "cell_type": "code",
   "execution_count": 29,
   "id": "7b62bdf5",
   "metadata": {},
   "outputs": [],
   "source": [
    "ori_train = [da for da in our_data_splits['train']]\n",
    "new_train = ori_train + semi_train_data\n",
    "new_train_dict = list2dict(new_train)\n",
    "our_data_splits['train'] = datasets.Dataset.from_dict(new_train_dict)\n"
   ]
  },
  {
   "cell_type": "code",
   "execution_count": 30,
   "id": "b421f892",
   "metadata": {},
   "outputs": [
    {
     "name": "stdout",
     "output_type": "stream",
     "text": [
      "74 986 255\n"
     ]
    }
   ],
   "source": [
    "print(len(our_data_splits['train']), len(our_data_splits['dev']), len(our_data_splits['test']))"
   ]
  },
  {
   "cell_type": "code",
   "execution_count": 31,
   "id": "dfa34701",
   "metadata": {},
   "outputs": [
    {
     "name": "stdout",
     "output_type": "stream",
     "text": [
      "question: Wanting to listen to the radio, what did the man do to it?\n",
      "answer: turn on\n",
      "choices: ['play music', 'turn on', 'train', 'blaring', 'radiotracking']\n",
      "our explanation: <pad> <extra_id_0> A man wanted to listen to the radio. He turned on the radio. The radio is a device that is used for listening to audio content, such as music, news, and talk shows. When a man wants to listen to the radio, he may turn on the radio in order to do so. The radio may be turned on in order to enable the user to hear what is being said on the radio. If a man wants to listen to the radio,\n",
      "question: Where can you find pamphlets regarding diseases and ailments?\n",
      "answer: health department\n",
      "choices: ['theaters', 'health department', 'library', 'drawer', 'mail box']\n",
      "our explanation: <pad> <extra_id_0> You can find pamphlets regarding diseases and ailments at the health department. The health department is a government agency that is responsible for maintaining the health and welfare of the public. It is the responsibility of the health department to provide information and services related to the prevention and treatment of disease and the management of health conditions. Pamphlets are written documents that provide general information about specific diseases and ailments, and they may include photographs, illustrations, and written information about the symptoms and causes of those\n",
      "question: Where might a t-shirt be kept?\n",
      "answer: drawer\n",
      "choices: ['suitcase', 'underground', 'shirtdress', 'closet', 'drawer']\n",
      "our explanation: <pad> <extra_id_0> A t-shirt might be kept in a drawer. A drawer is a container that is used for storing items, such as clothing, linens, and other items. Drawers are typically used for storing items such as clothing, linens, and other items, such as shirts, sweatshirts, and other types of clothing. T-shirts can be kept in a drawer or other container that is used for storing items such as clothing, linens\n",
      "question: James went to outer space for the first time.  He packed everything, including his peanut butter, into a single object.  Where might his things be?\n",
      "answer: suitcase\n",
      "choices: ['universe', 'jar', 'box', 'closet', 'suitcase']\n",
      "our explanation: <pad> <extra_id_0> If James went to outer space for the first time, and he packed everything, including his peanut butter, into a single object, it is likely that his things would be in a suitcase. A suitcase is a container that is used for carrying items, such as clothing, food, and other items, such as peanut butter and jelly, and other types of spreads. A suitcase is a container that is used for carrying items such as clothing, food, and other\n",
      "question: What would you use if you wanted to play music?\n",
      "answer: cassettes\n",
      "choices: ['opera', 'movie', 'theatre', 'elevator', 'cassettes']\n",
      "our explanation: <pad> <extra_id_0> If you wanted to play music, you would use cassettes. Cassettes are small, flexible discs that are used for storing and playing music. They are often used in portable audio players and other audio devices, such as mobile phones, iPods, and other digital music players. They are often used for storing and playing music, and they are often used for playing back music or other types of audio files. Cassettes can be used in a variety\n",
      "question: If you did well on the test, you might get an A as a what?\n",
      "answer: school grade\n",
      "choices: ['see work', 'practice', 'quiz', 'school grade', 'homework']\n",
      "our explanation: <pad> <extra_id_0> If you did well on the test, you might get an A as a school grade. A school grade is a letter grade that is awarded to students who have completed a particular course or set of courses. School grades are generally considered to be a measure of academic achievement and are used as a benchmark for measuring student progress and achievement. A school grade is a letter grade that is used to measure student progress and achievement in a particular subject or area of study.\n",
      "question: Where would you keep paper files you're currently working on?\n",
      "answer: desk\n",
      "choices: ['desk', 'filing cabinet', 'harddisk', 'drawer', 'computers']\n",
      "our explanation: <pad> <extra_id_0> If you're currently working on paper files, you may keep them on your desk. A desk is a surface or furniture that is used as a work area and is used for storing items, such as documents, files, and other types of materials. Desks are typically used as offices or as a place for people to sit and work, and they typically have a variety of storage options, such as filing cabinets, desk drawers, and shelves. Desks\n",
      "question: Where can someone level up?\n",
      "answer: video game\n",
      "choices: ['video game', 'garage', 'food court', \"carpenter's shop\", 'building']\n",
      "our explanation: <pad> <extra_id_0> Leveling up is a process in which players gain experience and progress in a video game. As a player, they can earn points and achievements that allow them to advance in the game. Leveling up is a common way for players to improve their skills and abilities in various aspects of the game. Leveling up is a common way for players to improve their skills and abilities in various aspects of the game, such as combat, strategy, and exploration. Leveling up\n",
      "question: Where does a person usually plant a rosebush?\n",
      "answer: flower bed\n",
      "choices: ['ballpark', 'flower bed', 'park', 'backyard', 'outdoors']\n",
      "our explanation: <pad> <extra_id_0> A person usually plants a rosebush in a flower bed. A flower bed is a place where flowers are grown for ornamental purposes, such as for landscaping, for example. Rosebushes are typically planted in flower beds because they provide a beautiful backdrop for other plants and flowers. Rosebushes are also popular landscaping plants because they provide a natural look and feel to a yard or garden. Rosebushes are often used as hedges, screening plants, or as\n",
      "question: If one needed peas and shopped local, where might they go?\n",
      "answer: farmer's market\n",
      "choices: ['supermarket', 'fridge', 'grocery store', \"farmer's market\", 'freezer']\n",
      "our explanation: <pad> <extra_id_0> If one needed peas and shopped local, they might go to a farmer's market. A farmer's market is a market that is organized and operated by local farmers and other vendors. These markets typically have a wide variety of fresh produce, including vegetables, fruits, and meats. Peas are often sold at farmer's markets and other local markets, and they often have a variety of vendors who sell their products at competitive prices.\n",
      "question: Why would you be getting in shape?\n",
      "answer: good health\n",
      "choices: ['good health', 'jogging', 'exercise', 'sweat', 'feel better']\n",
      "our explanation: <pad> <extra_id_0> You would be getting in shape for a variety of reasons, including good health. Good health is defined as the state of being physically fit and having a healthy body. It is important to maintain a healthy weight and to maintain a healthy body composition. Getting in shape can help you achieve a healthy body weight and improve your overall health. It is important to maintain a healthy body weight and to maintain a healthy body composition. Getting in shape can help you\n",
      "question: Where can you buy opera glasses that are old?\n",
      "answer: antique store\n",
      "choices: ['museum', \"woman's purse\", 'supermarket', 'antique store', 'theater']\n",
      "our explanation: <pad> <extra_id_0> If you want to buy opera glasses that are old, you can go to an antique store. An antique store is a store that sells a variety of antiques, including furniture, decorative items, and other types of antiques. Antique stores often have a variety of opera glasses for sale, including antique opera glasses, as well as other types of antique glassware. Antique stores often have a variety of opera glasses for sale, including antique opera glasses, as well as\n",
      "question: Where can you buy a binder?\n",
      "answer: office supply store\n",
      "choices: ['college dorm', 'back pack', 'class room', 'backpack', 'office supply store']\n",
      "our explanation: <pad> <extra_id_0> You can buy a binder at an office supply store. An office supply store is a store that sells a variety of office supplies, including binders, folders, and other storage products. Binders are commonly used for organizing documents, such as documents, reports, and other types of paper. Binders can be found in a variety of sizes and styles, including clear, opaque, and ring-bound, and they are often sold in\n",
      "question: Where might a person store pamphlets?\n",
      "answer: drawer\n",
      "choices: ['health department', 'drawer', 'bookstore', 'library', 'desk']\n",
      "our explanation: <pad> <extra_id_0> A person might store pamphlets in a drawer. A drawer is a container that is used for storing items such as documents, books, and other types of small items. Pamphlets are often used for a variety of purposes, such as organizing and storing information, such as storing important documents, such as birth certificates, marriage certificates, and other legal documents, as well as storing loose leaflets and other small items. Pamphlets can be folded\n",
      "question: What are you likely to see on Independence Day?\n",
      "answer: fireworks display\n",
      "choices: ['groundhog', 'construction site', 'landmine', 'army', 'fireworks display']\n",
      "our explanation: <pad> <extra_id_0> On Independence Day, you are likely to see fireworks displays. Fireworks displays are displays that use explosives to create a loud, dazzling display of light and sound. These displays are often accompanied by music and other forms of entertainment, such as dancing, singing, and drumming. Independence Day is a national holiday that is celebrated each year on the Fourth of July. Fireworks displays are popular forms of entertainment that are often seen at celebrations and events across the country\n",
      "question: Where  might someone find lots of homes with a balcony railing?\n",
      "answer: apartment complex\n",
      "choices: ['theater', 'hotel', 'new orleans', 'theatre', 'apartment complex']\n",
      "our explanation: <pad> <extra_id_0> One place where someone might find lots of homes with a balcony railing is an apartment complex. Apartment complexes are communities that are designed and built to be used as homes, and they typically have a variety of floor plans and features, including balconies, patios, and other outdoor areas. Many apartment complexes have balconies that are used as outdoor living spaces, and they often have railings that are used for a variety of purposes, such as entertaining\n",
      "question: The paper sign had notice of a civic meeting, where should it be posted?\n",
      "answer: public place\n",
      "choices: ['hallway', 'store window', 'pole', 'public place', 'shop window']\n",
      "our explanation: <pad> <extra_id_0> If a paper sign had notice of a civic meeting, it should be posted in a public place. A public place is a place that is open to the public and where people can go to receive information about local events, such as civic meetings, community events, and local government meetings. A public place is a place that is open to the public and where people can gather to discuss important issues and concerns. A public place is a place that is open to the\n",
      "question: Where are floors kept clean for holy purposes?\n",
      "answer: synagogue\n",
      "choices: ['restaurant', 'basement', 'all buildings', 'carpet', 'synagogue']\n",
      "our explanation: <pad> <extra_id_0> Synagogues are places of worship that are traditionally associated with Jewish religion and practice. They are places where people gather to pray, study, and worship. The floors of synagogues are often kept clean for holy purposes, such as for ritual washings, offering of incense, and other religious practices. In synagogues, floors are kept clean for holy purposes, such as for religious ceremonies, singing, and other religious activities. In synagogues,\n",
      "question: In a lot of Asian restaurants food is eaten in a?\n",
      "answer: bowl\n",
      "choices: ['fork', 'zoo', 'spoon', 'bowl', 'kitchen']\n",
      "our explanation: <pad> <extra_id_0> In a lot of Asian restaurants food is eaten in a bowl. A bowl is a container that is used for holding food and is typically made of ceramic or glass. Bowls are often used in Asian restaurants as they provide a convenient and attractive way for customers to enjoy their meals. Bowls can be used for storing food, serving food, or serving drinks. Bowls can be used for storing food and are often used in Asian restaurants as they provide a\n",
      "question: What do children often do to express happiness?\n",
      "answer: sing\n",
      "choices: ['sing', 'play games', 'start fighting', 'fiddle', 'spread']\n",
      "our explanation: <pad> <extra_id_0> Children often sing to express happiness. Singing is a common way for children to express happiness and joy. Singing is a fun and expressive way for children to express themselves and their feelings. It is a common way for children to express themselves and their feelings, and it is often used as a means of self-expression and communication. Children often sing for various reasons, including to express their happiness, to express their feelings, and to express their emotions. S\n",
      "question: What is good way to break boredom for kids?\n",
      "answer: play games\n",
      "choices: ['play chess', 'play games', 'play basket', 'play cards', 'watch film']\n",
      "our explanation: <pad> <extra_id_0> Playing games is a good way to break boredom for kids. Games are fun and engaging activities that can help to pass the time and keep kids entertained. Games can also be used as a way to develop skills and reinforce concepts, such as teamwork and cooperation, and they can help to improve motor skills and coordination. Games can also be used as a way to learn new things and develop new abilities, such as problem solving and communication. Games can also be used as\n",
      "question: Billy bought coffee and waited for his wife to arrive from  France.  Where might he have been?\n",
      "answer: train station\n",
      "choices: ['airport', 'grocery store', 'internet cafe', 'supermarket', 'train station']\n",
      "our explanation: <pad> <extra_id_0> Billy bought coffee and waited for his wife to arrive from France. He might have been at a train station. A train station is a place where people wait for their loved ones to arrive by train from another country, such as France, and where they may have bought coffee and waited for her to arrive from France. Train stations are places where people wait for their loved ones to arrive by train from another country, such as France, and where they may have bought coffee and\n",
      "question: Where can a lady store a writing instrument while away from home?\n",
      "answer: purse\n",
      "choices: ['office supply store', 'in her shoe', 'classroom', 'purse', 'stationery store']\n",
      "our explanation: <pad> <extra_id_0> A lady can store a writing instrument while away from home in a purse. A purse is a small, leather bag that is typically carried by a woman and often has a zipper or snap closure. Purses are often used by women to carry small items, such as writing instruments, cosmetics, and other small items. Purses can also be used as a place to store small items, such as coins, keys, and other small items. Purses can\n",
      "question: A builder looking for wood to build a new home is likely to visit what location?\n",
      "answer: lumberyard\n",
      "choices: ['own home', 'grocery store', 'boat', 'carpet', 'lumberyard']\n",
      "our explanation: <pad> <extra_id_0> A builder looking for wood to build a new home is likely to visit a lumberyard. A lumberyard is a location where wood is sold for use in construction, such as for the framing of a home or for the construction of other structures, such as a deck or fence. Wood is used in construction because it is strong and durable, and it is often used in construction projects such as home construction and furniture. A builder looking for wood to\n",
      "question: How would chicken be served?\n",
      "answer: plate\n",
      "choices: ['freezer', 'eaten', 'plate', 'fast food restaurant', 'dish']\n",
      "our explanation: <pad> <extra_id_0> Chicken is a common dish that is served in many different ways, including on a plate. A plate is a large, flat surface that is used to hold food, such as rice, vegetables, or other types of food. Plates are typically made of ceramic or porcelain and are used for holding food items such as chicken, fish, or vegetables. Plates can be used to hold a variety of different types of food, such as chicken, fish, or vegetables,\n",
      "question: What does a computer have to do before a program can exist?\n",
      "answer: compile\n",
      "choices: ['write code', 'executable file', 'compile', 'think logically', 'get frustrated']\n",
      "our explanation: <pad> <extra_id_0> A computer has to do before a program can exist. A program has to be compiled before it can exist. This process involves the compilation of source code into a single file that contains all the instructions and data that make up the program. This process is known as compiling, and it is the first step in creating a program. Before a program can exist, it must first be compiled into a single file, which is known as a program file\n",
      "question: The people wanted to do a demonstration, where did they decide to do it?\n",
      "answer: public place\n",
      "choices: ['supermarket', 'public place', 'demolition', 'space shuttle', 'roadblock']\n",
      "our explanation: <pad> <extra_id_0> If the people wanted to do a demonstration, they may have decided to do it in a public place. A public place is a place that is open to the public and where people can gather to discuss issues, hold discussions, or hold a demonstration. Demonstrations often take place in public places, such as parks, streets, or other public spaces. Demonstrations often take place in public places because they are open to the public and where people can gather\n",
      "question: The college freshmen was set on getting a fresh start, he was determined on making friends so did lots of what?\n",
      "answer: talking\n",
      "choices: ['smile', 'farting', 'falling in love', 'nice to', 'talking']\n",
      "our explanation: <pad> <extra_id_0> The college freshmen was set on getting a fresh start, he was determined on making friends so he did lots of talking. Talking is a way of communicating with other people, usually by talking to them face to face. It is a common way for people to get to know each other and develop relationships. When a college freshmen is determined on getting a fresh start, he is likely to do lots of talking in order to make friends and build\n",
      "question: Where can a person use pencils to keep score?\n",
      "answer: bowling alley\n",
      "choices: ['restaurant', 'cabinet', 'backpack', 'bowling alley', 'classroom']\n",
      "our explanation: <pad> <extra_id_0> A person can use pencils to keep score at a bowling alley. A bowling alley is a facility that is used for bowling and other forms of recreation. Pencils are used as a scoring device and are used to keep track of a person's score at a game or tournament. Pencils can be used to keep score at a bowling alley and are used to keep track of a person's progress in\n",
      "question: The man passed out from drinking alcohol, what did his brain suffer from?\n",
      "answer: toxicity\n",
      "choices: ['get pregnant', 'throwing up', 'tumor', 'toxicity', 'frequent urination']\n",
      "our explanation: <pad> <extra_id_0> If the man passed out from drinking alcohol, his brain suffered from toxicity. Brain toxicity is the term used to describe the damage that occurs when the brain becomes damaged due to the effects of alcohol on the body. When a person drinks alcohol, their brains become damaged and they may suffer from various types of damage, including oxidative stress, inflammation, and other types of damage. When a person drinks alcohol, their brains may suffer from various types of damage,\n",
      "question: Where can you find cord along side nails and bolts?\n",
      "answer: hardware store\n",
      "choices: ['delivery room', 'garage', 'sporting goods store', 'office', 'hardware store']\n",
      "our explanation: <pad> <extra_id_0> You can find cord along side nails and bolts at hardware stores. Hardware stores are places that sell a wide variety of hardware products, including nails, bolts, and screws. Cord is often used for connecting different types of hardware, such as cabinets, drawers, and shelving units. Cord is often used for connecting different types of hardware, such as nails, bolts, and screws, and it is often found in hardware stores alongside other types of fasteners, such as\n",
      "question: Where is a automobile likely to go after an accident?\n",
      "answer: repair shop\n",
      "choices: ['corner store', 'driveway', 'repair shop', 'exit ramp', 'freeway']\n",
      "our explanation: <pad> <extra_id_0> An automobile likely to go after an accident is to a repair shop. A repair shop is a place where an automobile is taken to have its mechanical systems repaired or replaced. Repair shops are places where an automobile is taken to have its mechanical systems repaired or replaced. Repair shops are places where an automobile is taken after an accident and where it is repaired or rebuilt. After an accident, an automobile may go to a repair shop in order to have its mechanical systems repaired or replaced.\n",
      "question: A human wants to go shopping in a dense urban area.  Where might be a good place for a person to go shopping?\n",
      "answer: downtown\n",
      "choices: ['detroit', 'elevator', 'workplace', 'downtown', 'mall']\n",
      "our explanation: <pad> <extra_id_0> If a human wants to go shopping in a dense urban area, a good place to go might be downtown. Downtown is a dense urban area that is located in the heart of a city and is a good place to go shopping because it is a place where people congregate and do their shopping. Downtown is a place where people congregate and do their shopping, and it is often a good place to go shopping because it is a\n",
      "question: what happens to a company when it is bankrupt?\n",
      "answer: liquidated\n",
      "choices: ['liquidated', 'own resources', 'branch out', 'commit crime', 'game over']\n",
      "our explanation: <pad> <extra_id_0> A company that is bankrupt is a company that has filed for bankruptcy protection. Bankruptcy is the legal term for the situation where a company has declared itself insolvent and is unable to pay its debts or meet its operating obligations. When a company is declared bankrupt, it is likely that it will be liquidated and its assets will be sold or otherwise disposed of in order to repay creditors or meet other obligations. Bankruptcy is the\n",
      "question: The teacher told the class they would be taking a lot of notes this semester, he recommended buying a what just for this class?\n",
      "answer: notebook\n",
      "choices: ['school', 'meeting', 'notebook', 'meeting', 'desk']\n",
      "our explanation: <pad> <extra_id_0> If the teacher told the class they would be taking a lot of notes this semester, he recommended buying a notebook just for this class. A notebook is a small, portable book that is used for keeping track of important information, such as class notes, homework, and other important details. Notebooks are often used for keeping track of important details, such as class assignments, homework, and other important details. If the teacher told the class they would be taking a lot\n",
      "question: Where might a traveler keep their comb?\n",
      "answer: suitcase\n",
      "choices: ['shoe', 'pocket', 'suitcase', 'barber shop', 'medicine cabinet']\n",
      "our explanation: <pad> <extra_id_0> A traveler might keep their comb in their suitcase. A suitcase is a container that is used for storing items, such as clothing, toiletries, and other personal items. It is common for travelers to keep combs in their suitcases as a means of organizing their belongings and storing small items such as hair brushes, toothpaste, and other personal items. A suitcase is a container that is used for storing small items, such as combs\n",
      "question: Where can you buy clothing, sporting goods, and housewares?\n",
      "answer: department store\n",
      "choices: ['backpack', 'house', 'department store', 'mall', 'table']\n",
      "our explanation: <pad> <extra_id_0> Department stores are stores that sell a wide variety of goods, such as clothing, sporting goods, and housewares. Department stores typically have a variety of departments that sell a wide variety of products, such as clothing, sporting goods, and housewares. Department stores typically have a wide selection of products that are sold in a variety of sizes, styles, and colors. Department stores typically have a wide variety of products that are sold in a variety of\n",
      "question: If a person wants to make sure their lemonade is the most refreshing, where might they store it?\n",
      "answer: refrigerator\n",
      "choices: ['carnival', 'refrigerator', 'fairgrounds', 'summer', 'freezer']\n",
      "our explanation: <pad> <extra_id_0> If a person wants to make sure their lemonade is the most refreshing, they might store it in the refrigerator. The refrigerator is a place in the home that is specifically designed for storing food, such as fresh produce, food products, and other perishable items. Lemonade is often served chilled, so it is important for it to be stored in the refrigerator to ensure that it is at its most refreshing and most refreshing state. The refrigerator is a place\n",
      "question: A computer user working on an important work assignment is located in what structure?\n",
      "answer: office building\n",
      "choices: ['office building', 'internet cafe', 'house', 'school', 'internet cafe']\n",
      "our explanation: <pad> <extra_id_0> A computer user working on an important work assignment is located in an office building. An office building is a structure that is used as a place of business, where people gather to conduct business and conduct other types of business, such as meetings, conferences, workshops, and other forms of business activity. Computer users often work in offices, which are typically located in larger cities or towns. Office buildings often have a variety of uses, such as housing, offices, and conference rooms.\n",
      "question: Where would you put pans if you want to bring them with you?\n",
      "answer: backpack\n",
      "choices: ['cooking', 'cook food', 'kitchen', 'backpack', 'drawer']\n",
      "our explanation: <pad> <extra_id_0> If you want to bring pans with you, you would put them in a backpack. A backpack is a container that is designed for carrying items, such as clothing, books, and other small items. Pans are often used for cooking and baking, and they are often used in restaurants and other settings. Backpacks are often used for carrying items such as pots, pans, and pan sets, and they often have a variety of compartments for different types\n",
      "question: At a grocery store they sell individual potatoes, where does the grocery clerk likely put the potato?\n",
      "answer: paper bag\n",
      "choices: ['boiling water', 'root cellar', 'rocket ship', 'paper bag', 'underground']\n",
      "our explanation: <pad> <extra_id_0> If a grocery clerk sells individual potatoes, the clerk likely puts the potato in a paper bag. A paper bag is a container that is typically made of paper or another lightweight material. Paper bags are often used in grocery stores for storing items such as produce, meat, and dairy products. When a grocery clerk sells individual potatoes, the clerk likely puts the potato in a paper bag or similar container. Paper bags are often used in grocery stores for storing\n",
      "question: They needed grape juice for their party, they went to buy it and other snacks at the what?\n",
      "answer: food store\n",
      "choices: ['field', 'restaurant', 'salad', 'market', 'food store']\n",
      "our explanation: <pad> <extra_id_0> If they needed grape juice for their party, they went to buy it and other snacks at the food store. A food store is a store that sells a variety of foods and beverages, such as juice, snacks, and beverages. If they needed grape juice for their party, they may have gone to a food store to buy it and other snacks, such as crackers, cheese, and crackers, as well as other party supplies and foods. If they needed grape\n",
      "question: Where are horses judged on appearance?\n",
      "answer: fair\n",
      "choices: ['race track', 'fair', 'raised by humans', 'in a field', 'countryside']\n",
      "our explanation: <pad> <extra_id_0> Horses are judged on appearance at fairs. Fairs are events where horses are judged on appearance, such as conformation, movement, and general appearance. At fairs, horses are judged on their appearance, such as their coat, color, and conformation. Horses are also judged on their ability to perform certain tasks, such as jumping, running, and jumping over obstacles. At fairs, horses are given a score based on their appearance and\n",
      "question: Where can you buy jeans at one of may indoor merchants?\n",
      "answer: shopping mall\n",
      "choices: ['gap', 'shopping mall', 'bedroom', 'laundromat', 'bathroom']\n",
      "our explanation: <pad> <extra_id_0> You can buy jeans at one of many indoor merchants, such as shopping malls. Shopping malls are indoor venues that typically have a variety of merchants, such as clothing stores, furniture stores, and specialty stores. These merchants often have a variety of products and services on offer, such as jeans, shoes, and accessories. If you are looking for jeans, you may find them at one of many indoor merchants, such as shopping malls, which are indoor\n",
      "question: When are people buying products more?\n",
      "answer: economic boom\n",
      "choices: ['debt', 'economic boom', 'being able to use', 'disagreements', 'trading']\n",
      "our explanation: <pad> <extra_id_0> When people are buying more products, it is usually because there is an economic boom. An economic boom is a period of time during which the economy is experiencing a significant increase in activity and spending, leading to an increase in consumer spending and the purchase of a wide range of goods and services. During an economic boom, people are buying more products and services, leading to an increase in demand for those products and services. During an economic boom, people are buying more products\n",
      "question: Where would you store a pillow case that is not in use?\n",
      "answer: drawer\n",
      "choices: ['kitchen cupboard', 'bedding store', 'england', 'drawer', 'bedroom']\n",
      "our explanation: <pad> <extra_id_0> A pillow case that is not in use would be stored in a drawer. A drawer is a container that is used for storing items, such as pillows, blankets, and other bedding items. A pillow case is a small, rectangular piece of fabric that is typically made of cotton or linen and is used for storing items such as pillows, blankets, and other bedding items. When a pillow case is not in use, it is typically placed in a\n",
      "question: Where will a cheap book be found?\n",
      "answer: discount store\n",
      "choices: ['bookstore', 'classroom', 'discount store', 'school room', 'bedside table']\n",
      "our explanation: <pad> <extra_id_0> A cheap book can be found at a discount store. A discount store is a store that sells items at a discounted price. These stores typically have a wide selection of books, including popular titles, and they often have a wide selection of genres and subject matter. Books can be found in a variety of formats, including hardcover, paperback, and electronic editions. Discount stores typically have a wide selection of books in different categories, such as\n",
      "question: Where is a great place to buy fresh fruit?\n",
      "answer: market\n",
      "choices: ['san francisco', 'refrigerator', 'big box retailer', 'tree', 'market']\n",
      "our explanation: <pad> <extra_id_0> A great place to buy fresh fruit is at a market. A market is a place where fresh fruit is sold, typically in bulk, and is a place where buyers can find a wide variety of fresh produce, such as fruit, vegetables, flowers, nuts, and other types of fresh produce, as well as other types of fresh goods, such as meat, fish, and dairy products. Markets are places where buyers can find a wide variety of fresh produce,\n",
      "question: Where is a good place to have a fireplace in a house?\n",
      "answer: living room\n",
      "choices: ['big house', 'train', 'cabin', 'living room', 'home']\n",
      "our explanation: <pad> <extra_id_0> A good place to have a fireplace in a house is in the living room. The living room is a room that is typically used for entertaining and relaxing, and it is often the place where people gather to relax and socialize. Fireplaces can provide a warm, cosy atmosphere and are a popular feature in many homes. They can provide a focal point for the room and provide a warm, cosy atmosphere. A fireplace can also provide a warm\n"
     ]
    }
   ],
   "source": [
    "kk = 0\n",
    "for da in our_data_splits['train']:\n",
    "    if kk > 24:\n",
    "        print(\"question: {}\".format(da['question']))\n",
    "        print(\"answer: {}\".format(da['answer']))\n",
    "        print(\"choices: {}\".format(da['choices']))\n",
    "    #     print(da.keys())\n",
    "        print(\"our explanation: {}\".format(da['our_explanation']))\n",
    "    kk+=1"
   ]
  },
  {
   "cell_type": "code",
   "execution_count": 32,
   "id": "2e6d6437",
   "metadata": {},
   "outputs": [],
   "source": [
    "\n",
    "# for da in our_wrong_data_splits['dev']:\n",
    "#     print(\"*******\")\n",
    "#     print(\"question: {}\".format(da['question']))\n",
    "#     print(\"real_answer: {}\".format(da['real_answer']))\n",
    "#     print(\"answer: {}\".format(da['answer']))\n",
    "#     print(\"choices: {}\".format(da['choices']))\n",
    "#     print(\"our_explanation: {}\".format(da['our_explanation']))\n",
    "#     inp_ids = torch.tensor(da[\"input_ids\"], device=model.device).reshape(1, -1)\n",
    "#     out = model.generate(\n",
    "#                     inp_ids,\n",
    "#                     max_length=100,\n",
    "#                     pad_token_id=tokenizer.pad_token_id,\n",
    "#                     eos_token_id=tokenizer.eos_token_id,\n",
    "#                 )\n",
    "#     skip_special_tokens = False if \"infilling\" in data_args.io_format else True\n",
    "#     words = tokenizer.decode(out[0].tolist(), skip_special_tokens=skip_special_tokens)\n",
    "#     print(\"generated explanation: {}\".format(words))\n",
    "#     print(\"#######\")"
   ]
  },
  {
   "cell_type": "code",
   "execution_count": 33,
   "id": "91605cfc",
   "metadata": {},
   "outputs": [],
   "source": [
    "# for da in our_wrong_data_splits['train']:\n",
    "#     print(\"*******\")\n",
    "#     print(\"question: {}\".format(da['question']))\n",
    "#     print(\"real_answer: {}\".format(da['real_answer']))\n",
    "#     print(\"answer: {}\".format(da['answer']))\n",
    "#     print(\"choices: {}\".format(da['choices']))\n",
    "#     print(\"our_explanation: {}\".format(da['our_explanation']))\n",
    "#     inp_ids = torch.tensor(da[\"input_ids\"], device=model.device).reshape(1, -1)\n",
    "#     out = model.generate(\n",
    "#                     inp_ids,\n",
    "#                     max_length=100,\n",
    "#                     pad_token_id=tokenizer.pad_token_id,\n",
    "#                     eos_token_id=tokenizer.eos_token_id,\n",
    "#                 )\n",
    "#     skip_special_tokens = False if \"infilling\" in data_args.io_format else True\n",
    "#     words = tokenizer.decode(out[0].tolist(), skip_special_tokens=skip_special_tokens)\n",
    "#     print(\"generated explanation: {}\".format(words))\n",
    "#     print(\"#######\")"
   ]
  },
  {
   "cell_type": "code",
   "execution_count": 34,
   "id": "cbc3e763",
   "metadata": {},
   "outputs": [],
   "source": [
    "# import wandb\n",
    "# training_args.run_name=\"\"\n",
    "training_args.logging_steps=3\n",
    "training_args.save_steps=5\n",
    "training_args.evaluation_strategy=\"epoch\"\n",
    "training_args.num_train_epochs=25\n",
    "training_args.do_eval=True"
   ]
  },
  {
   "cell_type": "code",
   "execution_count": 35,
   "id": "317de5d7",
   "metadata": {},
   "outputs": [
    {
     "data": {
      "text/plain": [
       "TrainingArguments(\n",
       "_n_gpu=0,\n",
       "adafactor=False,\n",
       "adam_beta1=0.9,\n",
       "adam_beta2=0.999,\n",
       "adam_epsilon=1e-08,\n",
       "dataloader_drop_last=False,\n",
       "dataloader_num_workers=0,\n",
       "dataloader_pin_memory=True,\n",
       "ddp_find_unused_parameters=None,\n",
       "debug=[],\n",
       "deepspeed=None,\n",
       "disable_tqdm=False,\n",
       "do_eval=True,\n",
       "do_predict=False,\n",
       "do_train=True,\n",
       "eval_accumulation_steps=None,\n",
       "eval_steps=None,\n",
       "evaluation_strategy=epoch,\n",
       "fp16=False,\n",
       "fp16_backend=auto,\n",
       "fp16_full_eval=False,\n",
       "fp16_opt_level=O1,\n",
       "gradient_accumulation_steps=1,\n",
       "greater_is_better=None,\n",
       "group_by_length=False,\n",
       "ignore_data_skip=False,\n",
       "label_names=None,\n",
       "label_smoothing_factor=0.0,\n",
       "learning_rate=5e-05,\n",
       "length_column_name=length,\n",
       "load_best_model_at_end=False,\n",
       "local_rank=-1,\n",
       "log_level=-1,\n",
       "log_level_replica=-1,\n",
       "log_on_each_node=True,\n",
       "logging_dir=./cos_e_output_t5_3b/010723_193246,\n",
       "logging_first_step=False,\n",
       "logging_steps=3,\n",
       "logging_strategy=IntervalStrategy.STEPS,\n",
       "lr_scheduler_type=SchedulerType.LINEAR,\n",
       "max_grad_norm=1.0,\n",
       "max_steps=-1,\n",
       "metric_for_best_model=None,\n",
       "mp_parameters=,\n",
       "no_cuda=False,\n",
       "num_train_epochs=25,\n",
       "output_dir=./cos_e_output_t5_3b/010723_193246,\n",
       "overwrite_output_dir=False,\n",
       "past_index=-1,\n",
       "per_device_eval_batch_size=8,\n",
       "per_device_train_batch_size=8,\n",
       "prediction_loss_only=False,\n",
       "push_to_hub=False,\n",
       "push_to_hub_model_id=cos_e_output_t5_3b,\n",
       "push_to_hub_organization=None,\n",
       "push_to_hub_token=None,\n",
       "remove_unused_columns=True,\n",
       "report_to=['tensorboard', 'wandb'],\n",
       "resume_from_checkpoint=None,\n",
       "run_name=./cos_e_output_t5_3b,\n",
       "save_on_each_node=False,\n",
       "save_steps=5,\n",
       "save_strategy=IntervalStrategy.STEPS,\n",
       "save_total_limit=None,\n",
       "seed=42,\n",
       "sharded_ddp=[],\n",
       "skip_memory_metrics=True,\n",
       "tpu_metrics_debug=False,\n",
       "tpu_num_cores=None,\n",
       "use_legacy_prediction_loop=False,\n",
       "warmup_ratio=0.0,\n",
       "warmup_steps=0,\n",
       "weight_decay=0.0,\n",
       ")"
      ]
     },
     "execution_count": 35,
     "metadata": {},
     "output_type": "execute_result"
    }
   ],
   "source": [
    "training_args"
   ]
  },
  {
   "cell_type": "code",
   "execution_count": 36,
   "id": "de79fb60",
   "metadata": {},
   "outputs": [
    {
     "data": {
      "text/plain": [
       "TrainingArguments(\n",
       "_n_gpu=0,\n",
       "adafactor=False,\n",
       "adam_beta1=0.9,\n",
       "adam_beta2=0.999,\n",
       "adam_epsilon=1e-08,\n",
       "dataloader_drop_last=False,\n",
       "dataloader_num_workers=0,\n",
       "dataloader_pin_memory=True,\n",
       "ddp_find_unused_parameters=None,\n",
       "debug=[],\n",
       "deepspeed=None,\n",
       "disable_tqdm=False,\n",
       "do_eval=True,\n",
       "do_predict=False,\n",
       "do_train=True,\n",
       "eval_accumulation_steps=None,\n",
       "eval_steps=None,\n",
       "evaluation_strategy=epoch,\n",
       "fp16=False,\n",
       "fp16_backend=auto,\n",
       "fp16_full_eval=False,\n",
       "fp16_opt_level=O1,\n",
       "gradient_accumulation_steps=1,\n",
       "greater_is_better=None,\n",
       "group_by_length=False,\n",
       "ignore_data_skip=False,\n",
       "label_names=None,\n",
       "label_smoothing_factor=0.0,\n",
       "learning_rate=5e-05,\n",
       "length_column_name=length,\n",
       "load_best_model_at_end=False,\n",
       "local_rank=-1,\n",
       "log_level=-1,\n",
       "log_level_replica=-1,\n",
       "log_on_each_node=True,\n",
       "logging_dir=./cos_e_output_t5_3b/010723_193246,\n",
       "logging_first_step=False,\n",
       "logging_steps=3,\n",
       "logging_strategy=IntervalStrategy.STEPS,\n",
       "lr_scheduler_type=SchedulerType.LINEAR,\n",
       "max_grad_norm=1.0,\n",
       "max_steps=-1,\n",
       "metric_for_best_model=None,\n",
       "mp_parameters=,\n",
       "no_cuda=False,\n",
       "num_train_epochs=25,\n",
       "output_dir=./cos_e_output_t5_3b/010723_193246,\n",
       "overwrite_output_dir=False,\n",
       "past_index=-1,\n",
       "per_device_eval_batch_size=8,\n",
       "per_device_train_batch_size=8,\n",
       "prediction_loss_only=False,\n",
       "push_to_hub=False,\n",
       "push_to_hub_model_id=cos_e_output_t5_3b,\n",
       "push_to_hub_organization=None,\n",
       "push_to_hub_token=None,\n",
       "remove_unused_columns=True,\n",
       "report_to=['tensorboard', 'wandb'],\n",
       "resume_from_checkpoint=None,\n",
       "run_name=./cos_e_output_t5_3b,\n",
       "save_on_each_node=False,\n",
       "save_steps=5,\n",
       "save_strategy=IntervalStrategy.STEPS,\n",
       "save_total_limit=None,\n",
       "seed=42,\n",
       "sharded_ddp=[],\n",
       "skip_memory_metrics=True,\n",
       "tpu_metrics_debug=False,\n",
       "tpu_num_cores=None,\n",
       "use_legacy_prediction_loop=False,\n",
       "warmup_ratio=0.0,\n",
       "warmup_steps=0,\n",
       "weight_decay=0.0,\n",
       ")"
      ]
     },
     "execution_count": 36,
     "metadata": {},
     "output_type": "execute_result"
    }
   ],
   "source": [
    "training_args.per_device_eval_batch_size=8\n",
    "training_args.per_device_train_batch_size=8\n",
    "training_args"
   ]
  },
  {
   "cell_type": "code",
   "execution_count": 37,
   "id": "e80480ec",
   "metadata": {},
   "outputs": [],
   "source": [
    "# data_splits = {'train': None, 'validation': None, 'test': None}\n",
    "# original_data_splits = {'train': None, 'validation': None, 'test': None}  \n",
    "# data_args.io_format=\"t5_fewshot_infilling_with_choices\"\n",
    "# # Data loading from huggingface's datasets\n",
    "# if data_args.task_name in {\"cos_e\", \"esnli\"}:\n",
    "#     version_arg = None\n",
    "#     if data_args.task_name == \"cos_e\":\n",
    "#         assert data_args.version_name in {\"v1.11\", \"v1.0\"}\n",
    "#         version_arg = data_args.version_name\n",
    "\n",
    "#     load_train = True\n",
    "#     if (not training_args.do_train\n",
    "#         and not training_args.do_eval\n",
    "#         and not data_args.train_predict\n",
    "#     ):\n",
    "#         # don't load training dataset\n",
    "#         dataset = {}\n",
    "#         dataset[\"train\"] = None\n",
    "#         dataset[\"validation\"] = datasets.load_dataset(\n",
    "#             data_args.task_name, version_arg, split=\"validation\"\n",
    "#         )\n",
    "#         data_splits['validation'] = dataset[\"validation\"]\n",
    "\n",
    "#         if data_args.task_name == \"esnli\":\n",
    "#             dataset[\"test\"] = datasets.load_dataset(data_args.task_name, split=\"test\")\n",
    "#             data_splits['test'] = dataset[\"test\"]\n",
    "#         load_train = False\n",
    "#     else:\n",
    "#         dataset = datasets.load_dataset(data_args.task_name, version_arg)\n",
    "\n",
    "#         if data_args.n_shots > 0: # Shots = number of training examples **per label** \n",
    "#             if data_args.task_name == 'esnli': # Construct a *balanced* random sample of the size `data_args.n_shots*len(labels)` (for train) or `data_args.fewshot_eval_size` (for eval)\n",
    "#                 for split in [\"train\", \"validation\", \"test\"]:\n",
    "#                     split_data = dataset[split]\n",
    "#                     label_subsets = []\n",
    "#                     labels = split_data.features['label'].names\n",
    "#                     sample_size = data_args.n_shots if split == \"train\" else int(data_args.fewshot_eval_size/len(labels))\n",
    "#                     if data_args.gpt3_max_eval_size is not None and split != 'train':\n",
    "#                         assert len(labels) == 3\n",
    "#                         sample_size = data_args.gpt3_max_eval_size // len(labels)\n",
    "#                     for label in labels:\n",
    "#                         # The following is a hack to only run on `neutral` labels of `esnli` to get data for human eval\n",
    "#                         # if data_args.gpt3_max_eval_size is not None and split != 'train' and label != 'neutral':\n",
    "#                         #     continue\n",
    "#                         label_int = split_data.features['label'].str2int(label)\n",
    "#                         label_set = split_data.filter(lambda example: example['label'] == label_int).shuffle() # all instances of labeled as `label`\n",
    "#                         label_subset = label_set.select(range(sample_size)) #select `sample_size` random instances labeled as `label`\n",
    "#                         label_subsets.append(label_subset)\n",
    "#                     dataset[split] = datasets.concatenate_datasets(label_subsets) #merge all label-specific instances\n",
    "#             elif data_args.task_name == 'cos_e': \n",
    "#                 for split in [\"train\", \"validation\"]: \n",
    "#                     split_data = dataset[split]\n",
    "#                     sample_size = data_args.n_shots if split == \"train\" else int(data_args.fewshot_eval_size) #Shots for QA are not label-specific, i.e., `n_shots` is the training data size\n",
    "#                     if data_args.gpt3_max_eval_size is not None and split != 'train':\n",
    "#                         sample_size = data_args.gpt3_max_eval_size\n",
    "#                     dataset[split] = split_data#.shuffle().select(range(sample_size)) # select `sample_size` random instances\n",
    "#             else: \n",
    "#                 raise ValueError('Only cos_e and esnli are supported by Huggingface datasets.')\n",
    "#     # Apply method, and format dataset to torch.Tensor outputs\n",
    "# #     fse_csqa_train_file=\"/cognitive_comp/huangyongfeng/evaluate_LM_with_rationalization/few_shot_explanations/data/acceptability_annotations/commonsenseqa_train.csv\"\n",
    "# #     fse_csqa_dev_file=\"/cognitive_comp/huangyongfeng/evaluate_LM_with_rationalization/few_shot_explanations/data/acceptability_annotations/commonsenseqa_test.csv\"\n",
    "# #     fse_csqa_train_dataset = datasets.load_dataset('csv', data_files=fse_csqa_train_file)\n",
    "# #     fse_csqa_dev_dataset = datasets.load_dataset('csv', data_files=fse_csqa_dev_file)\n",
    "# #     train_ids_list=[x['id'] for x in data_splits[\"train\"]]\n",
    "# #     dev_ids_list=[x['id'] for x in data_splits[\"validation\"]]\n",
    "# #     fse_train_ids_list=[x['Input.id'] for x in fse_csqa_train_dataset['train']]\n",
    "# #     fse_dev_ids_list=[x['Input.id'] for x in fse_csqa_dev_dataset['train']]\n",
    "# #     fse_train_indexs_list=[train_ids_list.index(id_) for id_ in fse_train_ids_list]\n",
    "# #     fse_dev_indexs_list=[dev_ids_list.index(id_) for id_ in fse_dev_ids_list]\n",
    "# #     print(len(fse_train_indexs_list), len(fse_dev_indexs_list))\n",
    "# #     # print(fse_train_indexs_list,fse_dev_indexs_list)\n",
    "# #     fse_data_splits={}\n",
    "# #     data_splits['train']=data_splits[\"train\"].select(fse_train_indexs_list)\n",
    "# #     data_splits['validation']=data_splits[\"validation\"].select(fse_train_indexs_list)\n",
    "#     for split in dataset.keys():\n",
    "#         if dataset[split] is not None:\n",
    "#             dataset[split] = dataset[split].map(\n",
    "#                 lambda x: format_instance(\n",
    "#                     x,\n",
    "#                     tokenizer,\n",
    "#                     data_args.explanation_sep,\n",
    "#                     datasource=data_args.task_name,\n",
    "#                     io_format=data_args.io_format\n",
    "#                 ),\n",
    "#                 batched=False,\n",
    "#                 load_from_cache_file=False,\n",
    "#             )\n",
    "#     data_splits[\"train\"] = deepcopy(dataset[\"train\"])\n",
    "#     data_splits[\"validation\"] = deepcopy(dataset[\"validation\"])\n",
    "#     if data_args.task_name == \"esnli\":\n",
    "#         data_splits[\"test\"] = deepcopy(dataset[\"test\"])\n",
    "\n",
    "#     original_data_splits[\"train\"] = deepcopy(dataset[\"train\"])\n",
    "#     original_data_splits[\"validation\"] = deepcopy(dataset[\"validation\"])\n",
    "#     if data_args.task_name == \"esnli\":\n",
    "#         original_data_splits[\"test\"] = deepcopy(dataset[\"test\"])"
   ]
  },
  {
   "cell_type": "code",
   "execution_count": 38,
   "id": "2f4cb867",
   "metadata": {},
   "outputs": [],
   "source": [
    "# import pandas as pd\n",
    "# # new_data_splits={'train': None, 'validation': None}\n",
    "# # new_data_splits['train']=deepcopy(dataset[\"train\"])\n",
    "# # new_data_splits['validation']=deepcopy(dataset[\"validation\"])\n",
    "# fse_csqa_train_file=\"/cognitive_comp/huangyongfeng/evaluate_LM_with_rationalization/few_shot_explanations/data/acceptability_annotations/commonsenseqa_train.csv\"\n",
    "# fse_csqa_dev_file=\"/cognitive_comp/huangyongfeng/evaluate_LM_with_rationalization/few_shot_explanations/data/acceptability_annotations/commonsenseqa_test.csv\"\n",
    "# # fse_csqa_train_dataset = datasets.load_dataset('csv', data_files=fse_csqa_train_file)\n",
    "# # fse_csqa_dev_dataset = datasets.load_dataset('csv', data_files=fse_csqa_dev_file)\n",
    "\n",
    "# train_df=pd.read_csv(fse_csqa_train_file)\n",
    "\n",
    "# dev_df=pd.read_csv(fse_csqa_dev_file)\n",
    "\n",
    "# dev_df\n"
   ]
  },
  {
   "cell_type": "code",
   "execution_count": 39,
   "id": "42739e9b",
   "metadata": {},
   "outputs": [],
   "source": [
    "# len(fse_train_ids_list),len(list(set(fse_train_ids_list)))"
   ]
  },
  {
   "cell_type": "code",
   "execution_count": 40,
   "id": "c78ea825",
   "metadata": {},
   "outputs": [],
   "source": [
    "# train_ids_list=[x['id'] for x in data_splits[\"train\"]]\n",
    "# dev_ids_list=[x['id'] for x in data_splits[\"validation\"]]\n",
    "# fse_train_ids_list=[x['Input.id'] for x in fse_csqa_train_dataset['train']]\n",
    "# fse_dev_ids_list=[x['Input.id'] for x in fse_csqa_dev_dataset['train']]\n"
   ]
  },
  {
   "cell_type": "code",
   "execution_count": 41,
   "id": "80395518",
   "metadata": {},
   "outputs": [],
   "source": [
    "# fse_train_indexs_list=[train_ids_list.index(id_) for id_ in fse_train_ids_list]\n",
    "# fse_dev_indexs_list=[dev_ids_list.index(id_) for id_ in fse_dev_ids_list]\n",
    "# print(len(fse_train_indexs_list), len(fse_dev_indexs_list))\n",
    "# # print(fse_train_indexs_list,fse_dev_indexs_list)\n",
    "# fse_data_splits={}\n",
    "# fse_data_splits['train']=data_splits[\"train\"].select(fse_train_indexs_list)\n",
    "# fse_data_splits['validation']=data_splits[\"validation\"].select(fse_train_indexs_list)"
   ]
  },
  {
   "cell_type": "code",
   "execution_count": 42,
   "id": "4d186954",
   "metadata": {},
   "outputs": [],
   "source": [
    "# fse_csqa_train_dataset['train'][0].keys()"
   ]
  },
  {
   "cell_type": "code",
   "execution_count": 43,
   "id": "66dd71d4",
   "metadata": {},
   "outputs": [],
   "source": [
    "class SequenceCollator:\n",
    "    def __init__(self, model, pad_token):\n",
    "        self.model = model\n",
    "        self.pad_token_mapping = {\n",
    "            \"labels\": -100,\n",
    "            \"attention_mask\": 0,\n",
    "            \"decoder_attention_mask\": 0,\n",
    "            \"input_ids\": pad_token,\n",
    "        }\n",
    "\n",
    "        self.columns = [\n",
    "            \"input_ids\",\n",
    "            \"attention_mask\",\n",
    "            \"labels\",\n",
    "            \"decoder_attention_mask\",\n",
    "        ]\n",
    "\n",
    "    def __call__(self, examples: List[Dict[str, InputDataClass]]) -> Dict[str, torch.Tensor]:\n",
    "        # re-format inputs for training\n",
    "        batch = {}\n",
    "        for key in examples[0].keys():\n",
    "            if key in self.columns:\n",
    "                tmp_list = []\n",
    "                for item in examples:\n",
    "                    tmp_list.append(item[key])\n",
    "\n",
    "                # pad lists to max length\n",
    "                if isinstance(tmp_list[0], list):\n",
    "                    max_length = max(map(len, tmp_list))\n",
    "                    tmp_list = [\n",
    "                        el + [self.pad_token_mapping[key]] * (max_length - len(el))\n",
    "                        for el in tmp_list\n",
    "                    ]\n",
    "\n",
    "                batch[key] = torch.tensor(tmp_list, dtype=torch.long)\n",
    "        return batch"
   ]
  },
  {
   "cell_type": "code",
   "execution_count": 44,
   "id": "f144515d",
   "metadata": {},
   "outputs": [
    {
     "name": "stderr",
     "output_type": "stream",
     "text": [
      "You are adding a <class 'transformers.integrations.TensorBoardCallback'> to the callbacks of this Trainer, but there is already one. The currentlist of callbacks is\n",
      ":DefaultFlowCallback\n",
      "TensorBoardCallback\n",
      "WandbCallback\n",
      "The following columns in the training set  don't have a corresponding argument in `T5ForConditionalGeneration.forward` and have been ignored: question_encoding, choices, our_explanation, extractive_explanation, answer, abstractive_explanation, id, question.\n",
      "***** Running training *****\n",
      "  Num examples = 74\n",
      "  Num Epochs = 25\n",
      "  Instantaneous batch size per device = 8\n",
      "  Total train batch size (w. parallel, distributed & accumulation) = 8\n",
      "  Gradient Accumulation steps = 1\n",
      "  Total optimization steps = 250\n",
      "Automatic Weights & Biases logging enabled, to disable set os.environ[\"WANDB_DISABLED\"] = \"true\"\n"
     ]
    },
    {
     "data": {
      "text/html": [
       "Changes to your `wandb` environment variables will be ignored because your `wandb` session has already started. For more information on how to modify your settings with `wandb.init()` arguments, please refer to <a href=\"https://wandb.me/wandb-init\" target=\"_blank\">the W&B docs</a>."
      ],
      "text/plain": [
       "<IPython.core.display.HTML object>"
      ]
     },
     "metadata": {},
     "output_type": "display_data"
    },
    {
     "data": {
      "text/html": [
       "wandb version 0.13.7 is available!  To upgrade, please run:\n",
       " $ pip install wandb --upgrade"
      ],
      "text/plain": [
       "<IPython.core.display.HTML object>"
      ]
     },
     "metadata": {},
     "output_type": "display_data"
    },
    {
     "data": {
      "text/html": [
       "Tracking run with wandb version 0.13.5"
      ],
      "text/plain": [
       "<IPython.core.display.HTML object>"
      ]
     },
     "metadata": {},
     "output_type": "display_data"
    },
    {
     "data": {
      "text/html": [
       "Run data is saved locally in <code>/cognitive_comp/huangyongfeng/evaluate_LM_with_rationalization/scripts/wandb/run-20230107_193519-3rra65fi</code>"
      ],
      "text/plain": [
       "<IPython.core.display.HTML object>"
      ]
     },
     "metadata": {},
     "output_type": "display_data"
    },
    {
     "data": {
      "text/html": [
       "Syncing run <strong><a href=\"https://wandb.ai/cuhk_lavilab/evaluate_LM_with_rationalization/runs/3rra65fi\" target=\"_blank\">./cos_e_output_t5_3b</a></strong> to <a href=\"https://wandb.ai/cuhk_lavilab/evaluate_LM_with_rationalization\" target=\"_blank\">Weights & Biases</a> (<a href=\"https://wandb.me/run\" target=\"_blank\">docs</a>)<br/>"
      ],
      "text/plain": [
       "<IPython.core.display.HTML object>"
      ]
     },
     "metadata": {},
     "output_type": "display_data"
    },
    {
     "data": {
      "text/html": [
       "\n",
       "    <div>\n",
       "      \n",
       "      <progress value='250' max='250' style='width:300px; height:20px; vertical-align: middle;'></progress>\n",
       "      [250/250 19:29:05, Epoch 25/25]\n",
       "    </div>\n",
       "    <table border=\"1\" class=\"dataframe\">\n",
       "  <thead>\n",
       "    <tr style=\"text-align: left;\">\n",
       "      <th>Step</th>\n",
       "      <th>Training Loss</th>\n",
       "      <th>Validation Loss</th>\n",
       "    </tr>\n",
       "  </thead>\n",
       "  <tbody>\n",
       "  </tbody>\n",
       "</table><p>"
      ],
      "text/plain": [
       "<IPython.core.display.HTML object>"
      ]
     },
     "metadata": {},
     "output_type": "display_data"
    },
    {
     "name": "stderr",
     "output_type": "stream",
     "text": [
      "Saving model checkpoint to ./cos_e_output_t5_3b/010723_193246/checkpoint-5\n",
      "Configuration saved in ./cos_e_output_t5_3b/010723_193246/checkpoint-5/config.json\n",
      "Model weights saved in ./cos_e_output_t5_3b/010723_193246/checkpoint-5/pytorch_model.bin\n",
      "Saving model checkpoint to ./cos_e_output_t5_3b/010723_193246/checkpoint-10\n",
      "Configuration saved in ./cos_e_output_t5_3b/010723_193246/checkpoint-10/config.json\n",
      "Model weights saved in ./cos_e_output_t5_3b/010723_193246/checkpoint-10/pytorch_model.bin\n",
      "Saving model checkpoint to ./cos_e_output_t5_3b/010723_193246/checkpoint-15\n",
      "Configuration saved in ./cos_e_output_t5_3b/010723_193246/checkpoint-15/config.json\n",
      "Model weights saved in ./cos_e_output_t5_3b/010723_193246/checkpoint-15/pytorch_model.bin\n",
      "Saving model checkpoint to ./cos_e_output_t5_3b/010723_193246/checkpoint-20\n",
      "Configuration saved in ./cos_e_output_t5_3b/010723_193246/checkpoint-20/config.json\n",
      "Model weights saved in ./cos_e_output_t5_3b/010723_193246/checkpoint-20/pytorch_model.bin\n",
      "Saving model checkpoint to ./cos_e_output_t5_3b/010723_193246/checkpoint-25\n",
      "Configuration saved in ./cos_e_output_t5_3b/010723_193246/checkpoint-25/config.json\n",
      "Model weights saved in ./cos_e_output_t5_3b/010723_193246/checkpoint-25/pytorch_model.bin\n",
      "Saving model checkpoint to ./cos_e_output_t5_3b/010723_193246/checkpoint-30\n",
      "Configuration saved in ./cos_e_output_t5_3b/010723_193246/checkpoint-30/config.json\n",
      "Model weights saved in ./cos_e_output_t5_3b/010723_193246/checkpoint-30/pytorch_model.bin\n",
      "Saving model checkpoint to ./cos_e_output_t5_3b/010723_193246/checkpoint-35\n",
      "Configuration saved in ./cos_e_output_t5_3b/010723_193246/checkpoint-35/config.json\n",
      "Model weights saved in ./cos_e_output_t5_3b/010723_193246/checkpoint-35/pytorch_model.bin\n",
      "Saving model checkpoint to ./cos_e_output_t5_3b/010723_193246/checkpoint-40\n",
      "Configuration saved in ./cos_e_output_t5_3b/010723_193246/checkpoint-40/config.json\n",
      "Model weights saved in ./cos_e_output_t5_3b/010723_193246/checkpoint-40/pytorch_model.bin\n",
      "Saving model checkpoint to ./cos_e_output_t5_3b/010723_193246/checkpoint-45\n",
      "Configuration saved in ./cos_e_output_t5_3b/010723_193246/checkpoint-45/config.json\n",
      "Model weights saved in ./cos_e_output_t5_3b/010723_193246/checkpoint-45/pytorch_model.bin\n",
      "Saving model checkpoint to ./cos_e_output_t5_3b/010723_193246/checkpoint-50\n",
      "Configuration saved in ./cos_e_output_t5_3b/010723_193246/checkpoint-50/config.json\n",
      "Model weights saved in ./cos_e_output_t5_3b/010723_193246/checkpoint-50/pytorch_model.bin\n",
      "Saving model checkpoint to ./cos_e_output_t5_3b/010723_193246/checkpoint-55\n",
      "Configuration saved in ./cos_e_output_t5_3b/010723_193246/checkpoint-55/config.json\n",
      "Model weights saved in ./cos_e_output_t5_3b/010723_193246/checkpoint-55/pytorch_model.bin\n",
      "Saving model checkpoint to ./cos_e_output_t5_3b/010723_193246/checkpoint-60\n",
      "Configuration saved in ./cos_e_output_t5_3b/010723_193246/checkpoint-60/config.json\n",
      "Model weights saved in ./cos_e_output_t5_3b/010723_193246/checkpoint-60/pytorch_model.bin\n",
      "Saving model checkpoint to ./cos_e_output_t5_3b/010723_193246/checkpoint-65\n",
      "Configuration saved in ./cos_e_output_t5_3b/010723_193246/checkpoint-65/config.json\n",
      "Model weights saved in ./cos_e_output_t5_3b/010723_193246/checkpoint-65/pytorch_model.bin\n",
      "Saving model checkpoint to ./cos_e_output_t5_3b/010723_193246/checkpoint-70\n",
      "Configuration saved in ./cos_e_output_t5_3b/010723_193246/checkpoint-70/config.json\n",
      "Model weights saved in ./cos_e_output_t5_3b/010723_193246/checkpoint-70/pytorch_model.bin\n",
      "Saving model checkpoint to ./cos_e_output_t5_3b/010723_193246/checkpoint-75\n",
      "Configuration saved in ./cos_e_output_t5_3b/010723_193246/checkpoint-75/config.json\n",
      "Model weights saved in ./cos_e_output_t5_3b/010723_193246/checkpoint-75/pytorch_model.bin\n",
      "Saving model checkpoint to ./cos_e_output_t5_3b/010723_193246/checkpoint-80\n",
      "Configuration saved in ./cos_e_output_t5_3b/010723_193246/checkpoint-80/config.json\n",
      "Model weights saved in ./cos_e_output_t5_3b/010723_193246/checkpoint-80/pytorch_model.bin\n",
      "Saving model checkpoint to ./cos_e_output_t5_3b/010723_193246/checkpoint-85\n",
      "Configuration saved in ./cos_e_output_t5_3b/010723_193246/checkpoint-85/config.json\n",
      "Model weights saved in ./cos_e_output_t5_3b/010723_193246/checkpoint-85/pytorch_model.bin\n",
      "Saving model checkpoint to ./cos_e_output_t5_3b/010723_193246/checkpoint-90\n",
      "Configuration saved in ./cos_e_output_t5_3b/010723_193246/checkpoint-90/config.json\n",
      "Model weights saved in ./cos_e_output_t5_3b/010723_193246/checkpoint-90/pytorch_model.bin\n",
      "Saving model checkpoint to ./cos_e_output_t5_3b/010723_193246/checkpoint-95\n",
      "Configuration saved in ./cos_e_output_t5_3b/010723_193246/checkpoint-95/config.json\n",
      "Model weights saved in ./cos_e_output_t5_3b/010723_193246/checkpoint-95/pytorch_model.bin\n",
      "Saving model checkpoint to ./cos_e_output_t5_3b/010723_193246/checkpoint-100\n",
      "Configuration saved in ./cos_e_output_t5_3b/010723_193246/checkpoint-100/config.json\n",
      "Model weights saved in ./cos_e_output_t5_3b/010723_193246/checkpoint-100/pytorch_model.bin\n",
      "Saving model checkpoint to ./cos_e_output_t5_3b/010723_193246/checkpoint-105\n",
      "Configuration saved in ./cos_e_output_t5_3b/010723_193246/checkpoint-105/config.json\n",
      "Model weights saved in ./cos_e_output_t5_3b/010723_193246/checkpoint-105/pytorch_model.bin\n",
      "Saving model checkpoint to ./cos_e_output_t5_3b/010723_193246/checkpoint-110\n",
      "Configuration saved in ./cos_e_output_t5_3b/010723_193246/checkpoint-110/config.json\n",
      "Model weights saved in ./cos_e_output_t5_3b/010723_193246/checkpoint-110/pytorch_model.bin\n",
      "Saving model checkpoint to ./cos_e_output_t5_3b/010723_193246/checkpoint-115\n",
      "Configuration saved in ./cos_e_output_t5_3b/010723_193246/checkpoint-115/config.json\n",
      "Model weights saved in ./cos_e_output_t5_3b/010723_193246/checkpoint-115/pytorch_model.bin\n",
      "Saving model checkpoint to ./cos_e_output_t5_3b/010723_193246/checkpoint-120\n",
      "Configuration saved in ./cos_e_output_t5_3b/010723_193246/checkpoint-120/config.json\n",
      "Model weights saved in ./cos_e_output_t5_3b/010723_193246/checkpoint-120/pytorch_model.bin\n",
      "Saving model checkpoint to ./cos_e_output_t5_3b/010723_193246/checkpoint-125\n",
      "Configuration saved in ./cos_e_output_t5_3b/010723_193246/checkpoint-125/config.json\n",
      "Model weights saved in ./cos_e_output_t5_3b/010723_193246/checkpoint-125/pytorch_model.bin\n",
      "Saving model checkpoint to ./cos_e_output_t5_3b/010723_193246/checkpoint-130\n",
      "Configuration saved in ./cos_e_output_t5_3b/010723_193246/checkpoint-130/config.json\n",
      "Model weights saved in ./cos_e_output_t5_3b/010723_193246/checkpoint-130/pytorch_model.bin\n",
      "Saving model checkpoint to ./cos_e_output_t5_3b/010723_193246/checkpoint-135\n",
      "Configuration saved in ./cos_e_output_t5_3b/010723_193246/checkpoint-135/config.json\n",
      "Model weights saved in ./cos_e_output_t5_3b/010723_193246/checkpoint-135/pytorch_model.bin\n",
      "Saving model checkpoint to ./cos_e_output_t5_3b/010723_193246/checkpoint-140\n",
      "Configuration saved in ./cos_e_output_t5_3b/010723_193246/checkpoint-140/config.json\n",
      "Model weights saved in ./cos_e_output_t5_3b/010723_193246/checkpoint-140/pytorch_model.bin\n",
      "Saving model checkpoint to ./cos_e_output_t5_3b/010723_193246/checkpoint-145\n",
      "Configuration saved in ./cos_e_output_t5_3b/010723_193246/checkpoint-145/config.json\n",
      "Model weights saved in ./cos_e_output_t5_3b/010723_193246/checkpoint-145/pytorch_model.bin\n",
      "Saving model checkpoint to ./cos_e_output_t5_3b/010723_193246/checkpoint-150\n",
      "Configuration saved in ./cos_e_output_t5_3b/010723_193246/checkpoint-150/config.json\n",
      "Model weights saved in ./cos_e_output_t5_3b/010723_193246/checkpoint-150/pytorch_model.bin\n",
      "Saving model checkpoint to ./cos_e_output_t5_3b/010723_193246/checkpoint-155\n",
      "Configuration saved in ./cos_e_output_t5_3b/010723_193246/checkpoint-155/config.json\n",
      "Model weights saved in ./cos_e_output_t5_3b/010723_193246/checkpoint-155/pytorch_model.bin\n",
      "Saving model checkpoint to ./cos_e_output_t5_3b/010723_193246/checkpoint-160\n",
      "Configuration saved in ./cos_e_output_t5_3b/010723_193246/checkpoint-160/config.json\n",
      "Model weights saved in ./cos_e_output_t5_3b/010723_193246/checkpoint-160/pytorch_model.bin\n",
      "Saving model checkpoint to ./cos_e_output_t5_3b/010723_193246/checkpoint-165\n",
      "Configuration saved in ./cos_e_output_t5_3b/010723_193246/checkpoint-165/config.json\n"
     ]
    },
    {
     "name": "stderr",
     "output_type": "stream",
     "text": [
      "Model weights saved in ./cos_e_output_t5_3b/010723_193246/checkpoint-165/pytorch_model.bin\n",
      "Saving model checkpoint to ./cos_e_output_t5_3b/010723_193246/checkpoint-170\n",
      "Configuration saved in ./cos_e_output_t5_3b/010723_193246/checkpoint-170/config.json\n",
      "Model weights saved in ./cos_e_output_t5_3b/010723_193246/checkpoint-170/pytorch_model.bin\n",
      "Saving model checkpoint to ./cos_e_output_t5_3b/010723_193246/checkpoint-175\n",
      "Configuration saved in ./cos_e_output_t5_3b/010723_193246/checkpoint-175/config.json\n",
      "Model weights saved in ./cos_e_output_t5_3b/010723_193246/checkpoint-175/pytorch_model.bin\n",
      "Saving model checkpoint to ./cos_e_output_t5_3b/010723_193246/checkpoint-180\n",
      "Configuration saved in ./cos_e_output_t5_3b/010723_193246/checkpoint-180/config.json\n",
      "Model weights saved in ./cos_e_output_t5_3b/010723_193246/checkpoint-180/pytorch_model.bin\n",
      "Saving model checkpoint to ./cos_e_output_t5_3b/010723_193246/checkpoint-185\n",
      "Configuration saved in ./cos_e_output_t5_3b/010723_193246/checkpoint-185/config.json\n",
      "Model weights saved in ./cos_e_output_t5_3b/010723_193246/checkpoint-185/pytorch_model.bin\n",
      "Saving model checkpoint to ./cos_e_output_t5_3b/010723_193246/checkpoint-190\n",
      "Configuration saved in ./cos_e_output_t5_3b/010723_193246/checkpoint-190/config.json\n",
      "Model weights saved in ./cos_e_output_t5_3b/010723_193246/checkpoint-190/pytorch_model.bin\n",
      "Saving model checkpoint to ./cos_e_output_t5_3b/010723_193246/checkpoint-195\n",
      "Configuration saved in ./cos_e_output_t5_3b/010723_193246/checkpoint-195/config.json\n",
      "Model weights saved in ./cos_e_output_t5_3b/010723_193246/checkpoint-195/pytorch_model.bin\n",
      "Saving model checkpoint to ./cos_e_output_t5_3b/010723_193246/checkpoint-200\n",
      "Configuration saved in ./cos_e_output_t5_3b/010723_193246/checkpoint-200/config.json\n",
      "Model weights saved in ./cos_e_output_t5_3b/010723_193246/checkpoint-200/pytorch_model.bin\n",
      "Saving model checkpoint to ./cos_e_output_t5_3b/010723_193246/checkpoint-205\n",
      "Configuration saved in ./cos_e_output_t5_3b/010723_193246/checkpoint-205/config.json\n",
      "Model weights saved in ./cos_e_output_t5_3b/010723_193246/checkpoint-205/pytorch_model.bin\n",
      "Saving model checkpoint to ./cos_e_output_t5_3b/010723_193246/checkpoint-210\n",
      "Configuration saved in ./cos_e_output_t5_3b/010723_193246/checkpoint-210/config.json\n",
      "Model weights saved in ./cos_e_output_t5_3b/010723_193246/checkpoint-210/pytorch_model.bin\n",
      "Saving model checkpoint to ./cos_e_output_t5_3b/010723_193246/checkpoint-215\n",
      "Configuration saved in ./cos_e_output_t5_3b/010723_193246/checkpoint-215/config.json\n",
      "Model weights saved in ./cos_e_output_t5_3b/010723_193246/checkpoint-215/pytorch_model.bin\n",
      "Saving model checkpoint to ./cos_e_output_t5_3b/010723_193246/checkpoint-220\n",
      "Configuration saved in ./cos_e_output_t5_3b/010723_193246/checkpoint-220/config.json\n",
      "Model weights saved in ./cos_e_output_t5_3b/010723_193246/checkpoint-220/pytorch_model.bin\n",
      "Saving model checkpoint to ./cos_e_output_t5_3b/010723_193246/checkpoint-225\n",
      "Configuration saved in ./cos_e_output_t5_3b/010723_193246/checkpoint-225/config.json\n",
      "Model weights saved in ./cos_e_output_t5_3b/010723_193246/checkpoint-225/pytorch_model.bin\n",
      "Saving model checkpoint to ./cos_e_output_t5_3b/010723_193246/checkpoint-230\n",
      "Configuration saved in ./cos_e_output_t5_3b/010723_193246/checkpoint-230/config.json\n",
      "Model weights saved in ./cos_e_output_t5_3b/010723_193246/checkpoint-230/pytorch_model.bin\n",
      "Saving model checkpoint to ./cos_e_output_t5_3b/010723_193246/checkpoint-235\n",
      "Configuration saved in ./cos_e_output_t5_3b/010723_193246/checkpoint-235/config.json\n",
      "Model weights saved in ./cos_e_output_t5_3b/010723_193246/checkpoint-235/pytorch_model.bin\n",
      "Saving model checkpoint to ./cos_e_output_t5_3b/010723_193246/checkpoint-240\n",
      "Configuration saved in ./cos_e_output_t5_3b/010723_193246/checkpoint-240/config.json\n",
      "Model weights saved in ./cos_e_output_t5_3b/010723_193246/checkpoint-240/pytorch_model.bin\n",
      "Saving model checkpoint to ./cos_e_output_t5_3b/010723_193246/checkpoint-245\n",
      "Configuration saved in ./cos_e_output_t5_3b/010723_193246/checkpoint-245/config.json\n",
      "Model weights saved in ./cos_e_output_t5_3b/010723_193246/checkpoint-245/pytorch_model.bin\n",
      "Saving model checkpoint to ./cos_e_output_t5_3b/010723_193246/checkpoint-250\n",
      "Configuration saved in ./cos_e_output_t5_3b/010723_193246/checkpoint-250/config.json\n",
      "Model weights saved in ./cos_e_output_t5_3b/010723_193246/checkpoint-250/pytorch_model.bin\n",
      "\n",
      "\n",
      "Training completed. Do not forget to share your model on huggingface.co/models =)\n",
      "\n",
      "\n"
     ]
    },
    {
     "data": {
      "text/html": [
       "Waiting for W&B process to finish... <strong style=\"color:green\">(success).</strong>"
      ],
      "text/plain": [
       "<IPython.core.display.HTML object>"
      ]
     },
     "metadata": {},
     "output_type": "display_data"
    },
    {
     "data": {
      "text/html": [
       "<style>\n",
       "    table.wandb td:nth-child(1) { padding: 0 10px; text-align: left ; width: auto;} td:nth-child(2) {text-align: left ; width: 100%}\n",
       "    .wandb-row { display: flex; flex-direction: row; flex-wrap: wrap; justify-content: flex-start; width: 100% }\n",
       "    .wandb-col { display: flex; flex-direction: column; flex-basis: 100%; flex: 1; padding: 10px; }\n",
       "    </style>\n",
       "<div class=\"wandb-row\"><div class=\"wandb-col\"><h3>Run history:</h3><br/><table class=\"wandb\"><tr><td>train/epoch</td><td>▁▁▁▂▂▂▂▂▂▃▃▃▃▃▃▄▄▄▄▄▅▅▅▅▅▆▆▆▆▆▆▇▇▇▇▇▇███</td></tr><tr><td>train/global_step</td><td>▁▁▁▂▂▂▂▂▂▃▃▃▃▃▃▄▄▄▄▄▅▅▅▅▅▆▆▆▆▆▆▇▇▇▇▇▇███</td></tr><tr><td>train/learning_rate</td><td>███▇▇▇▇▇▇▆▆▆▆▆▆▅▅▅▅▅▄▄▄▄▄▄▃▃▃▃▃▂▂▂▂▂▂▁▁▁</td></tr><tr><td>train/loss</td><td>█▄▃▃▂▂▂▂▂▂▂▂▁▁▁▁▁▁▁▁▁▁▁▁▁▁▁▁▁▁▁▁▁▁▁▁▁▁▁▁</td></tr><tr><td>train/total_flos</td><td>▁</td></tr><tr><td>train/train_loss</td><td>▁</td></tr><tr><td>train/train_runtime</td><td>▁</td></tr><tr><td>train/train_samples_per_second</td><td>▁</td></tr><tr><td>train/train_steps_per_second</td><td>▁</td></tr></table><br/></div><div class=\"wandb-col\"><h3>Run summary:</h3><br/><table class=\"wandb\"><tr><td>train/epoch</td><td>25.0</td></tr><tr><td>train/global_step</td><td>250</td></tr><tr><td>train/learning_rate</td><td>0.0</td></tr><tr><td>train/loss</td><td>0.1172</td></tr><tr><td>train/total_flos</td><td>1138595828219904.0</td></tr><tr><td>train/train_loss</td><td>0.77039</td></tr><tr><td>train/train_runtime</td><td>70489.9669</td></tr><tr><td>train/train_samples_per_second</td><td>0.026</td></tr><tr><td>train/train_steps_per_second</td><td>0.004</td></tr></table><br/></div></div>"
      ],
      "text/plain": [
       "<IPython.core.display.HTML object>"
      ]
     },
     "metadata": {},
     "output_type": "display_data"
    },
    {
     "data": {
      "text/html": [
       "Synced <strong style=\"color:#cdcd00\">./cos_e_output_t5_3b</strong>: <a href=\"https://wandb.ai/cuhk_lavilab/evaluate_LM_with_rationalization/runs/3rra65fi\" target=\"_blank\">https://wandb.ai/cuhk_lavilab/evaluate_LM_with_rationalization/runs/3rra65fi</a><br/>Synced 6 W&B file(s), 0 media file(s), 0 artifact file(s) and 0 other file(s)"
      ],
      "text/plain": [
       "<IPython.core.display.HTML object>"
      ]
     },
     "metadata": {},
     "output_type": "display_data"
    },
    {
     "data": {
      "text/html": [
       "Find logs at: <code>./wandb/run-20230107_193519-3rra65fi/logs</code>"
      ],
      "text/plain": [
       "<IPython.core.display.HTML object>"
      ]
     },
     "metadata": {},
     "output_type": "display_data"
    }
   ],
   "source": [
    "# os.environ[\"WANDB_DISABLED\"] = \"True\"\n",
    "if data_args.generations_filepath is None:\n",
    "    callbacks = [TensorBoardCallback()]\n",
    "    if data_args.early_stopping_patience > 0:\n",
    "        callbacks.append(EarlyStoppingCallback(early_stopping_patience=data_args.early_stopping_patience))\n",
    "        training_args.load_best_model_at_end = True\n",
    "    else:\n",
    "        training_args.load_best_model_at_end = False  # use the last model state\n",
    "    training_args.metric_for_best_model = 'eval_loss'\n",
    "    training_args.greater_is_better = False\n",
    "    if training_args.eval_steps is None:\n",
    "        training_args.evaluation_strategy = EvaluationStrategy.EPOCH\n",
    "    else:\n",
    "        training_args.evaluation_strategy = EvaluationStrategy.STEPS\n",
    "\n",
    "    trainer = Trainer(\n",
    "        model=model,\n",
    "        args=training_args,\n",
    "        train_dataset=our_data_splits['train'],\n",
    "        eval_dataset=our_data_splits['dev'],\n",
    "        data_collator=SequenceCollator(\n",
    "            model=model_class, pad_token=tokenizer.pad_token_id\n",
    "        ),\n",
    "        callbacks=callbacks,\n",
    "    )\n",
    "\n",
    "# Training. Don't train if it is use_gpt3\n",
    "if training_args.do_train and not model_args.use_gpt3:\n",
    "    start_time = time.time()\n",
    "    trainer.train()\n",
    "    train_time = time.time() - start_time\n",
    "    model = trainer.model\n",
    "    wandb.finish()\n",
    "else:\n",
    "    start_time = time.time()\n",
    "    train_time = time.time() - start_time"
   ]
  },
  {
   "cell_type": "code",
   "execution_count": 45,
   "id": "ade3c632",
   "metadata": {},
   "outputs": [],
   "source": [
    "# print(our_data_splits['dev'][0]['our_explanation'])\n",
    "# inp_ids=torch.tensor(our_data_splits['dev'][0][\"input_ids\"], device=model.device).reshape(1, -1)\n",
    "# out = model.generate(\n",
    "#                     inp_ids,\n",
    "#                     max_length=100,\n",
    "#                     pad_token_id=tokenizer.pad_token_id,\n",
    "#                     eos_token_id=tokenizer.eos_token_id,\n",
    "#                 )\n",
    "# skip_special_tokens = False if \"infilling\" in data_args.io_format else True\n",
    "# words = tokenizer.decode(out[0].tolist(), skip_special_tokens=skip_special_tokens)\n",
    "# print(words)"
   ]
  },
  {
   "cell_type": "code",
   "execution_count": 46,
   "id": "b88935f8",
   "metadata": {},
   "outputs": [],
   "source": [
    "# len(our_data_splits['dev']),len(our_data_splits['train'])"
   ]
  },
  {
   "cell_type": "code",
   "execution_count": 47,
   "id": "8eda472b",
   "metadata": {},
   "outputs": [],
   "source": [
    "# our_data_splits['dev']"
   ]
  },
  {
   "cell_type": "code",
   "execution_count": 48,
   "id": "77c15190",
   "metadata": {},
   "outputs": [],
   "source": [
    "# for da in our_data_splits['train']:\n",
    "#     print(\"*******\")\n",
    "#     print(\"question: {}\".format(da['question']))\n",
    "#     print(\"answer: {}\".format(da['answer']))\n",
    "#     print(\"choices: {}\".format(da['choices']))\n",
    "#     print(\"our_explanation: {}\".format(da['our_explanation']))\n",
    "#     inp_ids = torch.tensor(da[\"input_ids\"], device=model.device).reshape(1, -1)\n",
    "#     out = model.generate(\n",
    "#                     inp_ids,\n",
    "#                     max_length=100,\n",
    "#                     pad_token_id=tokenizer.pad_token_id,\n",
    "#                     eos_token_id=tokenizer.eos_token_id,\n",
    "#                 )\n",
    "#     skip_special_tokens = False if \"infilling\" in data_args.io_format else True\n",
    "#     words = tokenizer.decode(out[0].tolist(), skip_special_tokens=skip_special_tokens)\n",
    "#     print(\"generated explanation: {}\".format(words))\n",
    "#     print(\"#######\")"
   ]
  },
  {
   "cell_type": "code",
   "execution_count": 49,
   "id": "2ca6cbe4",
   "metadata": {},
   "outputs": [],
   "source": [
    "# for da in our_data_splits['dev']:\n",
    "#     print(\"*******\")\n",
    "#     print(\"question: {}\".format(da['question']))\n",
    "#     print(\"answer: {}\".format(da['answer']))\n",
    "#     print(\"choices: {}\".format(da['choices']))\n",
    "#     print(\"our_explanation: {}\".format(da['our_explanation']))\n",
    "#     inp_ids = torch.tensor(da[\"input_ids\"], device=model.device).reshape(1, -1)\n",
    "#     out = model.generate(\n",
    "#                     inp_ids,\n",
    "#                     max_length=100,\n",
    "#                     pad_token_id=tokenizer.pad_token_id,\n",
    "#                     eos_token_id=tokenizer.eos_token_id,\n",
    "#                 )\n",
    "#     skip_special_tokens = False if \"infilling\" in data_args.io_format else True\n",
    "#     words = tokenizer.decode(out[0].tolist(), skip_special_tokens=skip_special_tokens)\n",
    "#     print(\"generated explanation: {}\".format(words))\n",
    "#     print(\"#######\")"
   ]
  },
  {
   "cell_type": "code",
   "execution_count": 50,
   "id": "69977540",
   "metadata": {},
   "outputs": [],
   "source": [
    "# good_model = T5ForConditionalGeneration.from_pretrained(\"./cos_e_output_t5_3b/112022_235539/checkpoint-30\")"
   ]
  },
  {
   "cell_type": "code",
   "execution_count": 51,
   "id": "62fca4b8",
   "metadata": {},
   "outputs": [],
   "source": [
    "# for da in our_data_splits['dev']:\n",
    "#     print(\"*******\")\n",
    "#     print(\"question: {}\".format(da['question']))\n",
    "#     print(\"answer: {}\".format(da['answer']))\n",
    "#     print(\"choices: {}\".format(da['choices']))\n",
    "#     print(\"our_explanation: {}\".format(da['our_explanation']))\n",
    "#     inp_ids = torch.tensor(da[\"input_ids\"], device=model.device).reshape(1, -1)\n",
    "#     out = good_model.generate(\n",
    "#                     inp_ids,\n",
    "#                     max_length=100,\n",
    "#                     pad_token_id=tokenizer.pad_token_id,\n",
    "#                     eos_token_id=tokenizer.eos_token_id,\n",
    "#                 )\n",
    "#     skip_special_tokens = False if \"infilling\" in data_args.io_format else True\n",
    "#     words = tokenizer.decode(out[0].tolist(), skip_special_tokens=skip_special_tokens)\n",
    "#     print(\"generated explanation: {}\".format(words))\n",
    "#     print(\"#######\")"
   ]
  },
  {
   "cell_type": "code",
   "execution_count": 52,
   "id": "3a7de102",
   "metadata": {},
   "outputs": [],
   "source": [
    "# train_output = trainer.evaluate(our_data_splits['train'].select([0,1,2,3,4]))\n",
    "# train_output"
   ]
  },
  {
   "cell_type": "code",
   "execution_count": 53,
   "id": "f43528ca",
   "metadata": {},
   "outputs": [],
   "source": [
    "# results = {}\n",
    "# if training_args.do_eval:\n",
    "#     start_time = time.time()\n",
    "#     logger.info(\"*** Evaluate on train set***\")\n",
    "#     logger.info(len(data_splits['train']))\n",
    "#     train_output = trainer.evaluate(our_data_splits['train'])\n",
    "#     perplexity = math.exp(train_output[\"eval_loss\"])\n",
    "#     results[\"perplexity_train\"] = perplexity\n",
    "\n",
    "#     # repeat\n",
    "#     logger.info(\"*** Evaluate on dev set***\")\n",
    "#     logger.info(len(data_splits['validation']))\n",
    "#     eval_output = trainer.evaluate(data_splits['validation'])\n",
    "#     perplexity = math.exp(eval_output[\"eval_loss\"])\n",
    "#     results[\"perplexity_validation\"] = perplexity"
   ]
  },
  {
   "cell_type": "markdown",
   "id": "3d2d2ec9",
   "metadata": {},
   "source": [
    "# Rationale Discriminator"
   ]
  },
  {
   "cell_type": "markdown",
   "id": "bd5eeaa4",
   "metadata": {},
   "source": [
    "## Construction of generated rationale and accepted rationale pairs\n"
   ]
  },
  {
   "cell_type": "code",
   "execution_count": 54,
   "id": "e7f1c257",
   "metadata": {},
   "outputs": [
    {
     "data": {
      "text/plain": [
       "250"
      ]
     },
     "execution_count": 54,
     "metadata": {},
     "output_type": "execute_result"
    }
   ],
   "source": [
    "len(fse_csqa_dev_data_dict)"
   ]
  },
  {
   "cell_type": "code",
   "execution_count": 55,
   "id": "c7bcb573",
   "metadata": {
    "scrolled": false
   },
   "outputs": [
    {
     "name": "stderr",
     "output_type": "stream",
     "text": [
      "\r",
      "  0%|                                                                                                                                                                               | 0/986 [00:00<?, ?it/s]"
     ]
    },
    {
     "name": "stdout",
     "output_type": "stream",
     "text": [
      "*******\n",
      "question: Where can you likely buy many poems?\n",
      "answer: book store\n",
      "choices: ['book of poetry', 'literature book', 'book store', 'poetry book', 'bookshelf']\n",
      "common expl list: ['A bookstore sells a variety of books, including poetry books; chains of bookstores sometimes specialize in categories such as poetry or literature.', 'A book store is a place where you can buy books, including poetry books.']\n"
     ]
    },
    {
     "name": "stderr",
     "output_type": "stream",
     "text": [
      "\r",
      "  0%|▏                                                                                                                                                                  | 1/986 [01:56<31:56:34, 116.75s/it]"
     ]
    },
    {
     "name": "stdout",
     "output_type": "stream",
     "text": [
      "generated explanation: <pad> <extra_id_0> If you go to a book store, you can likely find many different kinds of books, including poetry books. Poems are pieces of writing that are intended for a specific purpose, such as entertainment, education, or just plain entertainment.<extra_id_1> </s>\n",
      "########\n",
      "*******\n",
      "question: What could bringing suit do to a rivalry?\n",
      "answer: aggravation\n",
      "choices: ['going to court', 'randomness', 'anger', 'aggravation', 'tensions']\n",
      "common expl list: ['Bringing suit against a rival could aggravate the rivalry.']\n"
     ]
    },
    {
     "name": "stderr",
     "output_type": "stream",
     "text": [
      "\r",
      "  0%|▎                                                                                                                                                                  | 2/986 [05:10<44:21:12, 162.27s/it]"
     ]
    },
    {
     "name": "stdout",
     "output_type": "stream",
     "text": [
      "generated explanation: <pad> <extra_id_0> A lawsuit could cause a rivalry to escalate. A lawsuit is a legal action that is taken in order to obtain legal relief or compensation. The goal of a lawsuit is to obtain a court order or judgment that allows the plaintiff or defendant to pursue legal action against another party. When bringing suit, the plaintiff or defendant may seek to have the other party removed from the situation or to obtain a remedy against the other party. A lawsuit can cause a negative impact on the relationship between the parties and may result in the loss of a mutually-relationship.<extra_id_1> </s>\n",
      "########\n",
      "*******\n",
      "question: A person who yawns and paces to help pass the time is likely feeling what?\n",
      "answer: boredom\n",
      "choices: ['ridiculous', 'excitement', 'meanness', 'terrorism', 'boredom']\n",
      "common expl list: ['By yawning and pacing one shows signs of being bored.', 'A bored person would pace and yawn to make time go by faster.', 'Yawning and pacing is a sign of being bored, etc...']\n"
     ]
    },
    {
     "name": "stderr",
     "output_type": "stream",
     "text": [
      "\r",
      "  0%|▍                                                                                                                                                                  | 3/986 [07:11<39:08:15, 143.33s/it]"
     ]
    },
    {
     "name": "stdout",
     "output_type": "stream",
     "text": [
      "generated explanation: <pad> <extra_id_0> Boredom is a common emotional state that can affect anyone. It is characterized by feelings of restlessness, discomfort, and/or low energy levels. It is common for people to experience boredom when they are in a waiting area or other situation that is relatively quiet and without much activity. To help alleviate boredom, people may engage in activities such as walking, talking, or playing games to help pass the time. In many cultures, people use physical activity as a way to combat boredom and to pass the time.<extra_id_1> </s>\n",
      "########\n",
      "*******\n",
      "question: I only like fiction books, why should I read a non-fiction book?\n",
      "answer: knowledge\n",
      "choices: ['knowledge', 'been printed new', 'many words', 'for fun', 'cover']\n",
      "common expl list: ['Non-fiction books contain knowledge.']\n"
     ]
    },
    {
     "name": "stderr",
     "output_type": "stream",
     "text": [
      "\r",
      "  0%|▋                                                                                                                                                                  | 4/986 [10:27<44:42:15, 163.89s/it]"
     ]
    },
    {
     "name": "stdout",
     "output_type": "stream",
     "text": [
      "generated explanation: <pad> <extra_id_0> If I only like fiction books, why should I read a non-fiction book? Knowledge is the most important benefit of reading non-fiction books. They provide a deeper understanding of a topic or theme, and they can help to develop your critical thinking skills. Non-fiction books often focus on a specific subject or issue, and they often provide insights and information that are useful in the real world. Because they are written in a clear and precise manner, they can be used to enhance your understanding of a subject or issue. If you are a person who does not like</s>\n",
      "########\n",
      "*******\n",
      "question: An American might hike a mountain north to get to what?\n",
      "answer: canada\n",
      "choices: ['canada', 'switzerland', 'orlando', 'austria', 'surface of earth']\n",
      "common expl list: ['If an American hiked north, they would likely end up in Canada.']\n"
     ]
    },
    {
     "name": "stderr",
     "output_type": "stream",
     "text": [
      "\r",
      "  1%|▊                                                                                                                                                                  | 5/986 [11:16<33:26:07, 122.70s/it]"
     ]
    },
    {
     "name": "stdout",
     "output_type": "stream",
     "text": [
      "generated explanation: <pad> <extra_id_0> A mountain is a large, flat area of land that is typically covered by mountains.<extra_id_1> </s>\n",
      "########\n",
      "*******\n",
      "question: Sam spent most of his time standing up.  His job was hectic and he never got any rest. But he was the best cashier at his workplace.    Where might he work?\n",
      "answer: supermarket\n",
      "choices: ['bookstore', 'count till', 'supermarket', 'shop', 'preschool']\n",
      "common expl list: [\"The best cashiers work setting up lines of products, yhis is usually done from being on one's feet. Supermarkets use till systems to swipe credit cards, thus cashiering is done by standing up.\", 'Since one spends most of his time standing when working as a cashier, Sam probably works at a supermarket where groceries are sold. Because his workplace is full of activities and punten, he never gets any rest.']\n"
     ]
    },
    {
     "name": "stderr",
     "output_type": "stream",
     "text": [
      "\r",
      "  1%|▉                                                                                                                                                                   | 6/986 [12:00<26:08:04, 96.00s/it]"
     ]
    },
    {
     "name": "stdout",
     "output_type": "stream",
     "text": [
      "generated explanation: <pad> <extra_id_0> People who live in cities often have to travel for work.<extra_id_1> </s>\n",
      "########\n",
      "*******\n",
      "question: James raked fallen leaves into a pile. Where might he leave the pile?\n",
      "answer: ground\n",
      "choices: ['forest', 'roof', 'garden', 'tree', 'ground']\n",
      "common expl list: ['Leaves are often raked into piles on the ground.']\n"
     ]
    },
    {
     "name": "stderr",
     "output_type": "stream",
     "text": [
      "\r",
      "  1%|█▏                                                                                                                                                                  | 7/986 [12:34<20:35:35, 75.73s/it]"
     ]
    },
    {
     "name": "stdout",
     "output_type": "stream",
     "text": [
      "generated explanation: <pad> <extra_id_0> People often eat breakfast in bed.<extra_id_1> </s>\n",
      "########\n",
      "*******\n",
      "question: What happens when we fail at something we attempt?\n",
      "answer: leave\n",
      "choices: ['leave', 'give up', 'trying', 'we get shunned', 'fail']\n",
      "common expl list: [\"If we engage in an activity, like a sport, and fail, we don't want to continue doing it. It's much easier simply to leave.\", 'If we fail at something, we usually leave (quit) that activity; failing is an action, while giving up and trying are both ways of not acting.']\n"
     ]
    },
    {
     "name": "stderr",
     "output_type": "stream",
     "text": [
      "\r",
      "  1%|█▎                                                                                                                                                                  | 8/986 [13:29<18:46:07, 69.09s/it]"
     ]
    },
    {
     "name": "stdout",
     "output_type": "stream",
     "text": [
      "generated explanation: <pad> <extra_id_0> When we fail at something, we usually leave the situation as is.<extra_id_1> </s>\n",
      "########\n",
      "*******\n",
      "question: The referee wasn't specialized in one thing. He refereed many games.  He was offered a job but wasn't sure what it would be.  What did he know it would be?\n",
      "answer: sporting event\n",
      "choices: ['side with opponent', 'football', 'hockey game', 'part two boxers', 'sporting event']\n",
      "common expl list: ['Referees are specialized in sports, and so, they would be expected to know how to referee a sporting event.']\n"
     ]
    },
    {
     "name": "stderr",
     "output_type": "stream",
     "text": [
      "\r",
      "  1%|█▍                                                                                                                                                                 | 9/986 [17:57<35:37:15, 131.25s/it]"
     ]
    },
    {
     "name": "stdout",
     "output_type": "stream",
     "text": [
      "generated explanation: <pad> <extra_id_0> A referee refers to a person who refers to a game or other type of competition taking place in a sports arena. A referee is a person who is trained to oversee a sporting event, such as a soccer match, basketball game, or hockey game. A referee is a person who is trained to oversee a sporting event taking place in a sports arena, such as a hockey game, basketball game, or other type of sporting event. A referee is a person who has specialized knowledge and experience to make decisions about whether to accept the job.<extra_id_1> </s>\n",
      "########\n",
      "*******\n",
      "question: Susan threw the highly elastic ball at the wall.  The ball did what?\n",
      "answer: rebound\n",
      "choices: ['bounce', 'recoil', 'rebound', 'underwear', 'stretch']\n",
      "common expl list: ['Elastic balls collide with the wall, and boom bounce back after a collision.']\n"
     ]
    },
    {
     "name": "stderr",
     "output_type": "stream",
     "text": [
      "\r",
      "  1%|█▋                                                                                                                                                                | 10/986 [20:46<38:44:31, 142.90s/it]"
     ]
    },
    {
     "name": "stdout",
     "output_type": "stream",
     "text": [
      "generated explanation: <pad> <extra_id_0> A ball is an object that is thrown against a solid surface, such as a wall or a door. The ball may then bounce back off the surface and continue its journey. Rebounding refers to the action of hitting something with another object or pushing against something. This may cause the ball to bounce back and forth, or it may roll backwards and forwards along the surface.<extra_id_1> </s>\n",
      "########\n",
      "*******\n",
      "question: John lived in a small island surrounded by flowing liquid H2O   Where might he live?\n",
      "answer: mississippi river\n",
      "choices: ['japan', 'hawaii', 'mississippi river', 'pacific ocean', 'body of water']\n",
      "common expl list: ['there are numerous islands in the mississippi river in the united states, making it possible that John may have lived on one.']\n"
     ]
    },
    {
     "name": "stderr",
     "output_type": "stream",
     "text": [
      "\r",
      "  1%|█▊                                                                                                                                                                | 11/986 [22:29<35:21:17, 130.54s/it]"
     ]
    },
    {
     "name": "stdout",
     "output_type": "stream",
     "text": [
      "generated explanation: <pad> <extra_id_0> If John lived in a small island surrounded by flowing liquid H2O, he might have lived in the Mississippi River. The Mississippi River is a large, flowing body of water that is located in the southeastern United States. It is the largest river in the United States. It is the second largest river in the United States and is located in the state of Mississippi.<extra_id_1> </s>\n",
      "########\n",
      "*******\n",
      "question: What will the student have to do on the test?\n",
      "answer: solve equation\n",
      "choices: ['finish college', 'begin teaching', 'write', 'answer question', 'solve equation']\n",
      "common expl list: ['A student has to solve equations to learn a given theory that is presented in class.']\n"
     ]
    },
    {
     "name": "stderr",
     "output_type": "stream",
     "text": [
      "\r",
      "  1%|█▉                                                                                                                                                                | 12/986 [26:54<46:25:57, 171.62s/it]"
     ]
    },
    {
     "name": "stdout",
     "output_type": "stream",
     "text": [
      "generated explanation: <pad> <extra_id_0> Solve equations are a type of task that requires a set of mathematical operations to be performed in order to arrive at a solution. Solving equations requires a certain level of mathematical knowledge and ability to apply the operations to real-world situations and to make sound, accurate decisions. Solving equations requires the student to be able to demonstrate their understanding of the concepts involved, as well as to apply them to real-world situations. Solving equations can be challenging because it requires the student to think critically and critically analyze data to find the solution to a given monetary value and a monetary amount of money to be spent on the test.<extra_id_1> </s>\n",
      "########\n",
      "*******\n",
      "question: The tourists saw what they thought was a statue, but they soon discovered it was performance art went it began what?\n",
      "answer: moving\n",
      "choices: ['growing mold', 'moving', 'accent garden', 'green', 'painting']\n",
      "common expl list: ['Performance art is art that is performed, rather than being a static object. In this case, the statue was moving, which is a sign of performance art.']\n"
     ]
    },
    {
     "name": "stderr",
     "output_type": "stream",
     "text": [
      "\r",
      "  1%|██▏                                                                                                                                                               | 13/986 [27:24<34:45:57, 128.63s/it]"
     ]
    },
    {
     "name": "stdout",
     "output_type": "stream",
     "text": [
      "generated explanation: <pad> <extra_id_0> When the tourists first saw the statue, they may have thought it was a statue.<extra_id_1> </s>\n",
      "########\n",
      "*******\n",
      "question: What is a good way to carry a small dog?\n",
      "answer: backpack\n",
      "choices: ['good hands', 'backpack', 'chinese food', 'grocery bag', 'basket']\n",
      "common expl list: ['Backpacks are a good way to carry things, and small dogs are things.']\n"
     ]
    },
    {
     "name": "stderr",
     "output_type": "stream",
     "text": [
      "\r",
      "  1%|██▎                                                                                                                                                               | 14/986 [32:59<51:32:02, 190.87s/it]"
     ]
    },
    {
     "name": "stdout",
     "output_type": "stream",
     "text": [
      "generated explanation: <pad> <extra_id_0> A backpack is a type of carry-all that is designed for people who are traveling on foot or by bicycle. It is typically made of cloth and has a main compartment for carrying things, such as a book, a jacket, a camera, and other personal items. It is typically worn on the hips or shoulders and has a secure, adjustable strap system that allows it to be worn comfortably around the body. A backpack is often used for carrying small items such as keys, cash, and other small items. It is typically made of sturdy materials and has a comfortable fit and is designed to accommodate the dog's body and is designed to be carried in a way that allows for easy handling and is comfortable for the owner to maintain the dog's health and safety.<extra_id_1> </s>\n",
      "########\n",
      "*******\n",
      "question: Both sides in World War I used what to cause death that is now banned?\n",
      "answer: poisonous gas\n",
      "choices: ['homicide', 'poisonous gas', 'cyanide', 'nuclear weapons', 'massive weapons']\n",
      "common expl list: ['Poison gas is a chemical known for its ability to kill (therefore, if both sides used it, people on both sides died from its use), and it has since gone on to be outlawed in many countries.']\n"
     ]
    },
    {
     "name": "stderr",
     "output_type": "stream",
     "text": [
      "\r",
      "  2%|██▍                                                                                                                                                               | 15/986 [39:20<66:59:30, 248.37s/it]"
     ]
    },
    {
     "name": "stdout",
     "output_type": "stream",
     "text": [
      "generated explanation: <pad> <extra_id_0> Both sides in the Great War used poisonous gas as a means of causing death. Poisonous gas is a type of gas that is known to cause death through exposure to its fumes, which are typically produced in large quantities and stored in underground or buried storage facilities. Gases such as mustard gas, radon, cyanide, sulfur, and arsenic were commonly used during the war, and both sides in the conflict used it to cause death. Since then, there have been several major international agreements that have been adopted as a global agreement to ban the use of certain types of gas in order to improve the safety and health of the United States and other countries have adopted the use of gas as a tactic in order to reduce the risk of exposure to toxic or dangerous weapons, and the production and storage of weapons and other substances that could be used to a variety of weapons and chemical weapons.<extra_id_1> </s>\n",
      "########\n",
      "*******\n",
      "question: Where is disease often spread but shouldn't be?\n",
      "answer: hospital\n",
      "choices: ['ghost town', 'third world country', 'human body', 'rug', 'hospital']\n",
      "common expl list: ['Hospitals are places where people go to get better, and therefore disease is often spread there.', 'Disease is spread most commonly in hospitals, where sick patients are treated and recovered hosts of disease are found.']\n"
     ]
    },
    {
     "name": "stderr",
     "output_type": "stream",
     "text": [
      "\r",
      "  2%|██▋                                                                                                                                                               | 16/986 [39:27<47:21:17, 175.75s/it]"
     ]
    },
    {
     "name": "stdout",
     "output_type": "stream",
     "text": [
      "generated explanation: <pad> <extra_id_0> Soaking up moisture can cause condensation on surfaces.<extra_id_1> </s>\n",
      "########\n",
      "*******\n",
      "question: As things get colder, temperature does what?\n",
      "answer: drop to zero\n",
      "choices: ['increase', 'drop to zero', 'heat up', 'dropping quickly', 'arctic']\n",
      "common expl list: ['As things get colder, they get closer to zero degrees.']\n"
     ]
    },
    {
     "name": "stderr",
     "output_type": "stream",
     "text": [
      "\r",
      "  2%|██▊                                                                                                                                                               | 17/986 [39:38<33:58:28, 126.22s/it]"
     ]
    },
    {
     "name": "stdout",
     "output_type": "stream",
     "text": [
      "generated explanation: <pad> <extra_id_0> As things get colder, the temperature naturally drops. As things get colder, the temperature naturally<extra_id_1> </s>\n",
      "########\n",
      "*******\n",
      "question: Where is one unlikely to get popcorn?\n",
      "answer: soccer game\n",
      "choices: ['restaurant', 'movie house', 'soccer game', 'carnival', 'movie theater']\n",
      "common expl list: ['Soccer games are usually snacks-free affairs; snacks, including popcorn, tend to be present at more recreational venues, but less so in settings where food is unnecessary because there are translatable goods sellers, i.e., vendors that sell things like popcorn', 'Soccer games usually lack popcorn machines.', 'Most soccer games lack concession stands, which are necessary to sell movie theaters popcorn.']\n"
     ]
    },
    {
     "name": "stderr",
     "output_type": "stream",
     "text": [
      "\r",
      "  2%|██▉                                                                                                                                                               | 18/986 [40:19<27:01:33, 100.51s/it]"
     ]
    },
    {
     "name": "stdout",
     "output_type": "stream",
     "text": [
      "generated explanation: <pad> <extra_id_0> A soccer game is a sporting event where players run around the field playing soccer-like games.<extra_id_1> </s>\n",
      "########\n",
      "*******\n",
      "question: Where are files likely to be hanging?\n",
      "answer: filing cabinet\n",
      "choices: ['filing cabinet', 'tree', 'suitcase', 'computer', 'desk drawer']\n",
      "common expl list: ['Filing cabinets are used to store files sometimes; these files can then be found by opening the filing cabinet and looking for hanging folders.', 'Files are likely to be hanging in a filing cabinet, since they are often organized by topic, and filing cabinets are often used to organize files.']\n"
     ]
    },
    {
     "name": "stderr",
     "output_type": "stream",
     "text": [
      "\r",
      "  2%|███                                                                                                                                                               | 19/986 [44:46<40:24:10, 150.41s/it]"
     ]
    },
    {
     "name": "stdout",
     "output_type": "stream",
     "text": [
      "generated explanation: <pad> <extra_id_0> A wall or a door is a place where things are stored, such as documents, files, and records. Files may be stored in a filing cabinet, which is a type of storage facility that is used for storing documents, such as hard copies of documents, electronic records, and even physical items such as photos, documents, and other items. Files may be stored in a filing cabinet, which is a place where documents are kept and organized in a physical file cabinet. The storage of files typically takes the form of either a filing cabinet or a room or room where they are stored, depending on the location, or by type of storage. If you have a filing cabinet, it is likely that you will have access to files and a place where you can access to files and documents.<extra_id_1> </s>\n",
      "########\n",
      "*******\n",
      "question: What is required to go on vacation before anything else?\n",
      "answer: have money\n",
      "choices: ['pack', 'pay bills', 'save money', 'have money', 'reliable car']\n",
      "common expl list: ['Vacations often require the purchase of travel services, such as airline or hotel tickets.']\n"
     ]
    },
    {
     "name": "stderr",
     "output_type": "stream",
     "text": [
      "\r",
      "  2%|███▎                                                                                                                                                              | 20/986 [45:56<33:53:04, 126.28s/it]"
     ]
    },
    {
     "name": "stdout",
     "output_type": "stream",
     "text": [
      "generated explanation: <pad> <extra_id_0> A family vacation is a vacation where family members or friends are gathered to enjoy the company of each other.<extra_id_1> </s>\n",
      "########\n",
      "*******\n",
      "question: The roadway passed a sign and gate house, what was behind the gatehouse?\n",
      "answer: subdivision\n",
      "choices: ['city', 'narnia', 'subdivision', 'neighborhood', 'countryside']\n",
      "common expl list: ['A subdivision contains houses that formed around it; therefore, a subdivision has a gatehouse that controls who goes in and out.', 'Subdivisions are residential areas that are often gated, and so, if you see a gatehouse, you might be in a subdivision.']\n"
     ]
    },
    {
     "name": "stderr",
     "output_type": "stream",
     "text": [
      "\r",
      "  2%|███▍                                                                                                                                                              | 21/986 [47:46<32:32:15, 121.38s/it]"
     ]
    },
    {
     "name": "stdout",
     "output_type": "stream",
     "text": [
      "generated explanation: <pad> <extra_id_0> A gatehouse is a structure that is located behind a fence or wall. Gatehouses are often used as a way for people to enter a community or to leave a business.<extra_id_1> </s>\n",
      "########\n",
      "*******\n",
      "question: The invasive A.I. was designed to scan the crowd, where most saw a mass of humanity the evil machine could pick out each what?\n",
      "answer: individual\n",
      "choices: ['solitary', 'single person', 'few people', 'crowd', 'individual']\n",
      "common expl list: [\"Machine intelligence is better able to find isolated individuals than crowded groups. Machines need to scan a large group of people to be able to find a single person--but when the single person doesn't blend in, it makes them easier to find.\"]\n"
     ]
    },
    {
     "name": "stderr",
     "output_type": "stream",
     "text": [
      "\r",
      "  2%|███▋                                                                                                                                                               | 22/986 [48:03<24:06:34, 90.04s/it]"
     ]
    },
    {
     "name": "stdout",
     "output_type": "stream",
     "text": [
      "generated explanation: <pad> <extra_id_0> A machine that can read minds is a machine that can read minds.<extra_id_1> </s>\n",
      "########\n",
      "*******\n",
      "question: Is has been speculated that a aliens could be communicating by doing this?\n",
      "answer: thinking\n",
      "choices: ['effort', 'farting', 'thinking', 'laugh', 'medium']\n",
      "common expl list: ['Aliens could quite possibly be using thought as a way to communicate between themselves.']\n"
     ]
    },
    {
     "name": "stderr",
     "output_type": "stream",
     "text": [
      "\r",
      "  2%|███▊                                                                                                                                                              | 23/986 [52:07<36:28:57, 136.38s/it]"
     ]
    },
    {
     "name": "stdout",
     "output_type": "stream",
     "text": [
      "generated explanation: <pad> <extra_id_0> It is possible that a spaceship might be used by aliens to communicate with Earth. Spaceships are typically designed for short trips and are typically equipped with a variety of sensors and communication systems, including cameras, radios, and microphones. These systems allow for the transmission of signals between ships and their respective control stations, as well as data and messages between them. As such, it is possible that aliens could be communicating with Earth through the use of radio waves, which are carried on the air around the world by various means, including communication, as well as other forms of communication, such as the development of a spacecraft could be used to communicate with other planets, such as spacecraft or spacecraft would be able to detect and respond to the presence of a spacecraft and/or communications systems, and may be able to identify and/or a spacecraft, and/or craft<extra_id_1> </s>\n",
      "########\n",
      "*******\n",
      "question: What can occur in fencing if you are not careful?\n",
      "answer: severe injuries\n",
      "choices: ['competition', 'severe injuries', 'fever', 'perspiration', 'small cuts']\n",
      "common expl list: ['Fencing is a sport that involves hitting your opponent with a sword, and if you are not careful, you can get injured.', 'The sport of fencing causes people to be hit by weapons, which may cause cuts or other wounds if someone is not careful.', 'Fencing is a sport, which involves hitting your opponent with a sharp piece of metal, which will almost certainly result in some physical pain.']\n"
     ]
    },
    {
     "name": "stderr",
     "output_type": "stream",
     "text": [
      "\r",
      "  2%|███▉                                                                                                                                                              | 24/986 [55:38<42:23:26, 158.63s/it]"
     ]
    },
    {
     "name": "stdout",
     "output_type": "stream",
     "text": [
      "generated explanation: <pad> <extra_id_0> If you are not careful, it is possible for you to suffer severe injuries. These types of injuries can include broken bones, severed fingers, toes, and more serious head injuries. In fencing, the risks of injury are greatest when you are not careful and can cause permanent physical and mental damage. In fencing, you must be very careful to avoid getting injured and to remain focused. This can cause you to lose your focus and concentration, which can lead to a loss of coordination and coordination, as well as serious physical harm. In fencing, you must be careful to avoid any potential risks and take appropriate precautions to prevent yourself from harm. If you are not careful, it is important to be careful to avoid any possible injuries and injuries. If you are not careful, it is possible to avoid any obstacle.<extra_id_1> </s>\n",
      "########\n",
      "*******\n",
      "question: If you stretch out your socks they will then have what kind of fit?\n",
      "answer: loose\n",
      "choices: ['cramped', 'loose', 'contract', 'park', 'compressing']\n",
      "common expl list: ['When stretched out, socks will be loose.']\n"
     ]
    },
    {
     "name": "stderr",
     "output_type": "stream",
     "text": [
      "\r",
      "  3%|████                                                                                                                                                              | 25/986 [58:13<42:03:54, 157.58s/it]"
     ]
    },
    {
     "name": "stdout",
     "output_type": "stream",
     "text": [
      "generated explanation: <pad> <extra_id_0> If you stretch your legs, you will be able to fit more clothes into them. This is because your muscles are more flexible and can accommodate more movement. As a result, your legs will be more flexible and will be able to accommodate more activities. This is because your muscles are more flexible and can accommodate more movement. Therefore, stretching your legs will allow you to fit more clothes into them, and you will be able to wear more clothing items. However, because stretching your legs can be physically demanding, it is not recommended that you stretch your socks to have a tight fit in order to ensure that they are comfortable fit.<extra_id_1> </s>\n",
      "########\n",
      "*******\n",
      "question: John ran out of pencils.  Where did  he go to get more?\n",
      "answer: office depot\n",
      "choices: ['desk drawer', 'cup', 'pencil case', 'shelf', 'office depot']\n",
      "common expl list: ['When people need pencils (or pens), they often buy them at office depots.', 'Office Depot is a store that sells office supplies, including pencils.', 'John can buy new pencils at an office depot.', 'Pencils can be found at an office supply store, e.g., an office depot.', 'Office Depot is a company that specializes in office furniture; it also sells pens and pencils.']\n"
     ]
    },
    {
     "name": "stderr",
     "output_type": "stream",
     "text": [
      "\r",
      "  3%|████▎                                                                                                                                                             | 26/986 [58:32<30:56:16, 116.02s/it]"
     ]
    },
    {
     "name": "stdout",
     "output_type": "stream",
     "text": [
      "generated explanation: <pad> <extra_id_0> When a person is sick, they typically go to their doctor to obtain more supplies.<extra_id_1> </s>\n",
      "########\n",
      "*******\n",
      "question: What does a confident person do?\n",
      "answer: trust himself\n",
      "choices: ['feel important', 'own house', 'trust himself', 'know what time', 'cry']\n",
      "common expl list: ['People whose confidence is high tend to believe themselves more strongly, and so the confident person might believe in their own abilities and do things such as trust themselves.', 'A confident person is sure of his abilities and the trust in himself/herself to do things or accomplish goals.']\n"
     ]
    },
    {
     "name": "stderr",
     "output_type": "stream",
     "text": [
      "\r",
      "  3%|████▍                                                                                                                                                           | 27/986 [1:01:23<35:19:40, 132.62s/it]"
     ]
    },
    {
     "name": "stdout",
     "output_type": "stream",
     "text": [
      "generated explanation: <pad> <extra_id_0> A confident person is someone who is able to overcome obstacles and challenges. Confidence is the ability to make decisions and take calculated risks. It is important for a person to be able to make these decisions for themselves and to feel secure in their decisions. Confidence is the ability to persist in the face of challenges and to remain focused on the goal of achieving a positive outcome. It is important for a person to be able to make these decisions and to feel secure in their decisions. Being confident means being able to take the risk of failure and executing a variety of other possible outcomes. A person who is confident is able to take risks and execute his own ideas.<extra_id_1> </s>\n",
      "########\n",
      "*******\n",
      "question: James thought that analyzing all the data would help him learn more, but it did not.  It only gave him what?\n",
      "answer: headache\n",
      "choices: ['headache', 'better understanding', 'papercuts', 'enlightened', 'discovering truth']\n",
      "common expl list: ['Analysis requires a lot of thinking with maybe little reward, which can give one a headache.']\n"
     ]
    },
    {
     "name": "stderr",
     "output_type": "stream",
     "text": [
      "\r",
      "  3%|████▌                                                                                                                                                            | 28/986 [1:01:36<25:40:54, 96.51s/it]"
     ]
    },
    {
     "name": "stdout",
     "output_type": "stream",
     "text": [
      "generated explanation: <pad> <extra_id_0> Many people keep journals to record their thoughts and experiences.<extra_id_1> </s>\n",
      "########\n",
      "*******\n",
      "question: What makes people happy when it is surprising and unexpected?\n",
      "answer: humor\n",
      "choices: ['joke', 'humor', 'frightened', 'fight', 'laughter']\n",
      "common expl list: ['A surprise is a stimulus that is not generally predicted before exposing it to a subject. It may be surprising things that cause laughter, or unexpected things that people see as funny.']\n"
     ]
    },
    {
     "name": "stderr",
     "output_type": "stream",
     "text": [
      "\r",
      "  3%|████▋                                                                                                                                                            | 29/986 [1:02:10<20:42:21, 77.89s/it]"
     ]
    },
    {
     "name": "stdout",
     "output_type": "stream",
     "text": [
      "generated explanation: <pad> <extra_id_0> People are often surprised by unexpected events, such as the appearance of a familiar face or the sound of familiar music.<extra_id_1> </s>\n",
      "########\n",
      "*******\n",
      "question: What is someone who wants a lot of money?\n",
      "answer: greedy\n",
      "choices: ['selfish', 'weird', 'greedy', 'ridiculous', 'hungry']\n",
      "common expl list: ['Greed is a strong desire to possess a lot of money; a greedy person therefore wants it a lot.', 'A person who is greedy wants more things that people typically take for granted, i.e., money, success, etc. This is a lot of stuff.', 'Greed is defined as \"the desire to obtain something, especially wealth, through selfish means, typically at the expense of others.']\n"
     ]
    },
    {
     "name": "stderr",
     "output_type": "stream",
     "text": [
      "\r",
      "  3%|████▊                                                                                                                                                           | 30/986 [1:05:04<28:20:03, 106.70s/it]"
     ]
    },
    {
     "name": "stdout",
     "output_type": "stream",
     "text": [
      "generated explanation: <pad> <extra_id_0> A person who is greedy is someone who wants a lot of money. It is not clear what someone who is greedy would do in order to obtain a lot of money. It is possible that someone who is very wealthy or very rich would be considered to be very wealthy or very wealthy. It is possible that someone who is very wealthy or very wealthy might be considered to be very wealthy, and thus very wealthy. It is also possible that someone who is very poor might be considered to be very poor. In either case, it is likely that they are not the best investment option available.<extra_id_1> </s>\n",
      "########\n",
      "*******\n",
      "question: Where do you keep a book to read before bed?\n",
      "answer: bedside table\n",
      "choices: ['school room', 'allen key', 'classroom', 'bedside table', 'coffee table']\n",
      "common expl list: ['Bedside tables are convenient for keeping things, e.g., a book, reading materials, glasses, etc., that you wish to keep near your bed for regular access; particularly things.', 'Bedside tables are where people keep things they use before bed, such as books, glasses, and water.']\n"
     ]
    },
    {
     "name": "stderr",
     "output_type": "stream",
     "text": [
      "\r",
      "  3%|█████                                                                                                                                                            | 31/986 [1:05:29<21:50:46, 82.35s/it]"
     ]
    },
    {
     "name": "stdout",
     "output_type": "stream",
     "text": [
      "generated explanation: <pad> <extra_id_0> Firewood is typically burned in fires, and it is often heated in open fires.<extra_id_1> </s>\n",
      "########\n",
      "*******\n",
      "question: Where is a knight likely to be found in the US?\n",
      "answer: chess set\n",
      "choices: ['middle ages', 'chess set', 'historical novel', 'castle', 'guarding the king']\n",
      "common expl list: ['A knight is a piece in the game of chess, which is played on a chess set.']\n"
     ]
    },
    {
     "name": "stderr",
     "output_type": "stream",
     "text": [
      "\r",
      "  3%|█████▏                                                                                                                                                          | 32/986 [1:07:59<27:10:21, 102.54s/it]"
     ]
    },
    {
     "name": "stdout",
     "output_type": "stream",
     "text": [
      "generated explanation: <pad> <extra_id_0> A chess set is a board game that is typically played by two players at a time. It is typically accompanied by a set of playing pieces, or pieces, and a king. The king and queen are represented by the black and white chess pieces. The queen and knight are the white pieces, and they are the symbols of majesty and power. They are typically used in tournament play and are popular amongst sports fans.<extra_id_1> </s>\n",
      "########\n",
      "*******\n",
      "question: Jack saw little point to communicating beyond the basics.  To him, it was just a means to do what?\n",
      "answer: exchange information\n",
      "choices: ['go swimming', 'making friends', 'exchange information', 'people to think', 'confusion']\n",
      "common expl list: [\"Keeping the communication sparse would allow him to conserve energy by speaking less. Since communication is just a means to exchanging information, Jack would not see much 'point', to say, a conversation beyond the basics.\"]\n"
     ]
    },
    {
     "name": "stderr",
     "output_type": "stream",
     "text": [
      "\r",
      "  3%|█████▍                                                                                                                                                           | 33/986 [1:08:33<21:40:58, 81.91s/it]"
     ]
    },
    {
     "name": "stdout",
     "output_type": "stream",
     "text": [
      "generated explanation: <pad> <extra_id_0> Paper is commonly stored in drawers, and hence physical letters are also likely stored in drawers.<extra_id_1> </s>\n",
      "########\n",
      "*******\n",
      "question: I as a person don't kill others, why do I not?\n",
      "answer: value life\n",
      "choices: ['experience pleasure', 'laws', 'value life', 'thank god', 'go into debt']\n",
      "common expl list: [\"Someone who does not kill might have a great deal of respect for life; as a person's life is valuable, the opposite is true about the act of taking a life.\"]\n"
     ]
    },
    {
     "name": "stderr",
     "output_type": "stream",
     "text": [
      "\r",
      "  3%|█████▌                                                                                                                                                           | 34/986 [1:09:06<17:45:37, 67.16s/it]"
     ]
    },
    {
     "name": "stdout",
     "output_type": "stream",
     "text": [
      "generated explanation: <pad> <extra_id_0> If I as a person don't kill others, why do I not?<extra_id_1> </s>\n",
      "########\n",
      "*******\n",
      "question: What is likely to be a child's reaction to going to play?\n",
      "answer: happiness\n",
      "choices: ['happiness', 'tears', 'sit', 'being entertained', 'laugh']\n",
      "common expl list: ['Children like to play.']\n"
     ]
    },
    {
     "name": "stderr",
     "output_type": "stream",
     "text": [
      "\r",
      "  4%|█████▋                                                                                                                                                           | 35/986 [1:10:43<20:06:43, 76.13s/it]"
     ]
    },
    {
     "name": "stdout",
     "output_type": "stream",
     "text": [
      "generated explanation: <pad> <extra_id_0> If a child is likely to be a child's reaction to going to play, it is likely that they will experience happiness. The reason for this is that children enjoy playing with their friends and siblings and are often very happy to go along for the ride.<extra_id_1> </s>\n",
      "########\n",
      "*******\n",
      "question: Where could you find multiple ruler that are owned by different people?\n",
      "answer: office\n",
      "choices: ['measure distance', 'england', 'office', 'drawer', 'desk']\n",
      "common expl list: ['When someone works in an office, even if it is part-time or freelance, they may be required to measure distances e.g., in departments or cubicles, and so, offices are a good place to find ruler.', 'Office buildings often have rulers.']\n"
     ]
    },
    {
     "name": "stderr",
     "output_type": "stream",
     "text": [
      "\r",
      "  4%|█████▉                                                                                                                                                           | 36/986 [1:11:13<16:25:40, 62.25s/it]"
     ]
    },
    {
     "name": "stdout",
     "output_type": "stream",
     "text": [
      "generated explanation: <pad> <extra_id_0> A room or rooms could contain multiple people, and a room or room could contain multiple people, and multiple people could be found in a room.<extra_id_1> </s>\n",
      "########\n",
      "*******\n",
      "question: When remembering you referencing things that you have what?\n",
      "answer: prior knowledge of\n",
      "choices: ['memory cells', 'learning about', 'prior knowledge of', 'brain cells', 'nerve cells']\n",
      "common expl list: ['Most of the things a person knows come from learning in the past and usually have some recollection involved.']\n"
     ]
    },
    {
     "name": "stderr",
     "output_type": "stream",
     "text": [
      "\r",
      "  4%|██████                                                                                                                                                          | 37/986 [1:14:24<26:35:39, 100.88s/it]"
     ]
    },
    {
     "name": "stdout",
     "output_type": "stream",
     "text": [
      "generated explanation: <pad> <extra_id_0> When remembering things that you have a prior knowledge of, you are referring to things that you have previously learned, either from school or from another source. Prior knowledge is the knowledge that you already have about a subject or topic that you are familiar with and that you can draw on to help you with memory or to help you remember things. Prior knowledge is the knowledge that you already have about a subject or topic that you are familiar with and that you can draw on to enhance your memory or recall of specific details or information. Prior knowledge is the ability to draw from, or to make connections between different things, such as a single memory or experience with a particular subject or perspective in order to clarify or to use a memory or to bring to your mind, or to use to help you with your memory or to a specific task or to use your memory to<extra_id_1> </s>\n",
      "########\n",
      "*******\n",
      "question: After running twenty six miles he felt like he had lost twenty six pounds, this was from all the what?\n",
      "answer: sweat\n",
      "choices: ['exercise', 'sweat', 'pass out', 'collapse', 'drink water']\n",
      "common expl list: ['Sweating is a way to cool down the body, and so after running for a long time, a person might sweat a lot.']\n"
     ]
    },
    {
     "name": "stderr",
     "output_type": "stream",
     "text": [
      "\r",
      "  4%|██████▏                                                                                                                                                         | 38/986 [1:16:57<30:42:04, 116.59s/it]"
     ]
    },
    {
     "name": "stdout",
     "output_type": "stream",
     "text": [
      "generated explanation: <pad> <extra_id_0> After running twenty six miles, he felt like he lost twenty six pounds. This was because he felt like he lost twenty six pounds of sweat. Sweat is a type of fluid that is produced when you are exercising and it is responsible for releasing carbon dioxide (CO2) into the bloodstream. When you sweat, you lose water weight and expand your blood vessels, causing you to lose weight. This process of losing weight and expanding your blood vessels occurs as a result of the action of taking in oxygen and water. As a result of running, it is common for runners to experience the effects of sweating, especially during the end of a run.<extra_id_1> </s>\n",
      "########\n",
      "*******\n",
      "question: In what western sate might one find a bald eagle?\n",
      "answer: colorado\n",
      "choices: ['captivity', 'colorado', 'zoo', 'canada', 'in washington']\n",
      "common expl list: ['Eagles are native to the western United States, and Colorado is a western state.']\n"
     ]
    },
    {
     "name": "stderr",
     "output_type": "stream",
     "text": [
      "\r",
      "  4%|██████▎                                                                                                                                                          | 39/986 [1:17:49<25:36:38, 97.36s/it]"
     ]
    },
    {
     "name": "stdout",
     "output_type": "stream",
     "text": [
      "generated explanation: <pad> <extra_id_0> A bald eagle is a bird of prey that is found in North America and Europe. It is primarily found in North America and Europe, and is often found in the United States and Canada.<extra_id_1> </s>\n",
      "########\n",
      "*******\n",
      "question: When a retired person returns to work they likely need to do what?\n",
      "answer: earn money\n",
      "choices: ['key', 'earn money', 'get out of bed', 'need money', 'understand themselves']\n",
      "common expl list: ['When a person is retired, they probably are not making enough money through a pension benefit to support themselves after retirement, so they work again, perhaps full-time, in order to have enough money.(money key)']\n"
     ]
    },
    {
     "name": "stderr",
     "output_type": "stream",
     "text": [
      "\r",
      "  4%|██████▌                                                                                                                                                          | 40/986 [1:18:47<22:27:53, 85.49s/it]"
     ]
    },
    {
     "name": "stdout",
     "output_type": "stream",
     "text": [
      "generated explanation: <pad> <extra_id_0> People who are retired often need to return to work in order to support themselves and their families. Working in a retirement community can provide a unique set of challenges and opportunities that cannot be fulfilled by simply going back to school or finding a job.<extra_id_1> </s>\n",
      "########\n",
      "*******\n",
      "question: What can be the result of meeting people with similar attitudes?\n",
      "answer: making new friends\n",
      "choices: ['anxiety', 'being bored', 'love', 'making new friends', 'new job']\n",
      "common expl list: [\"Friends often share some interests and/or attitudes, and when someone meets people with similar attires, that's a good indicator they might be good candidates for becoming friends.\", 'People with similar interests are likely to be friends, or familiars to each other, having many opportunities to meet each other and have things in common to discuss.']\n"
     ]
    },
    {
     "name": "stderr",
     "output_type": "stream",
     "text": [
      "\r",
      "  4%|██████▋                                                                                                                                                          | 41/986 [1:20:32<23:58:27, 91.33s/it]"
     ]
    },
    {
     "name": "stdout",
     "output_type": "stream",
     "text": [
      "generated explanation: <pad> <extra_id_0> Having similar attitudes can be a result of meeting people with similar attitudes. People with similar attitudes are people who have similar values and goals, interests, and hobbies. When they meet other people with similar attitudes, it is likely that they will form a close personal relationship, and they may become close friends for life. As such, it is possible that they may become close friends, and that they may even become close friends with someone they know. This can be a positive outcome, as it can lead to more meaningful interactions and deeper connections between them.<extra_id_1> </s>\n",
      "########\n",
      "*******\n",
      "question: Danny noticed a ceramic object on the table and picked a grape out of it.  What might have been on the table?\n",
      "answer: bowl of fruit\n",
      "choices: ['kitchen', 'painting of fruits', 'fruit basket', 'bowl of fruit', 'fruit stand']\n",
      "common expl list: ['A bowl of fruit is an appropriate item to put on a table, as it can hold many kinds of fruit.']\n"
     ]
    },
    {
     "name": "stderr",
     "output_type": "stream",
     "text": [
      "\r",
      "  4%|██████▊                                                                                                                                                          | 42/986 [1:21:58<23:31:16, 89.70s/it]"
     ]
    },
    {
     "name": "stdout",
     "output_type": "stream",
     "text": [
      "generated explanation: <pad> <extra_id_0> A bowl of fruit might have been on the table if Danny noticed a grape on it. A grape is a type of fruit that is commonly eaten fresh from the bowl. It is often served at restaurants and other gatherings and is often accompanied by other fruits and nuts. If a grape is found on a table, it is likely that it was there because it was in a bowl or container.<extra_id_1> </s>\n",
      "########\n",
      "*******\n",
      "question: The nose dipped and alarms went off inside the what?\n",
      "answer: aircraft\n",
      "choices: ['car', 'sniff', 'aircraft', 'upper respiratory tract', 'missile']\n",
      "common expl list: ['The nose dips and alarms go off inside the cockpit of an aircraft when the nose of the aircraft dips too low.']\n"
     ]
    },
    {
     "name": "stderr",
     "output_type": "stream",
     "text": [
      "\r",
      "  4%|██████▉                                                                                                                                                         | 43/986 [1:25:00<30:46:31, 117.49s/it]"
     ]
    },
    {
     "name": "stdout",
     "output_type": "stream",
     "text": [
      "generated explanation: <pad> <extra_id_0> The nose dipped and alarms went off inside the aircraft. An aircraft is a vehicle that is designed to transport passengers and cargo, and it typically consists of a wide variety of components, including fuel, passengers, and cargo. The main components of an aircraft are its structure, its systems, and its controls. The aircraft's main components are its hull and its internal organs, such as its engine, transmission, and its avionics. The nose dipped and the aircraft's internal organs began to lose altitude, and the pilots were notified. The flight was a dangerous maneuver, and the pilots were required to land safely, and to land on the ground.<extra_id_1> </s>\n",
      "########\n",
      "*******\n",
      "question: Where is a cord likely to be on a tent?\n",
      "answer: sporting goods store\n",
      "choices: ['inside tent', 'delivery room', 'hardware store', 'backpack', 'sporting goods store']\n",
      "common expl list: ['Sporting goods stores likely have tents on display which generally come with their cords.']\n"
     ]
    },
    {
     "name": "stderr",
     "output_type": "stream",
     "text": [
      "\r",
      "  4%|███████▏                                                                                                                                                        | 44/986 [1:26:28<28:26:21, 108.69s/it]"
     ]
    },
    {
     "name": "stdout",
     "output_type": "stream",
     "text": [
      "generated explanation: <pad> <extra_id_0> A tent is a piece of furniture that is used for sleeping, relaxing, and other types of recreation. Tents are traditionally made of heavy-duty materials, such as wood, canvas, and nylon.<extra_id_1> </s>\n",
      "########\n",
      "*******\n",
      "question: The man reduced the town to rubble out of hate, what was his goal?\n",
      "answer: destroy enemy\n",
      "choices: ['wage war', 'play nice', 'fight enemy', 'stab to death', 'destroy enemy']\n",
      "common expl list: ['someone who is completely obsessed with destroying an enemy (going so far as to want them completely obliterated from existance) is not a person who is playing nice.']\n"
     ]
    },
    {
     "name": "stderr",
     "output_type": "stream",
     "text": [
      "\r",
      "  5%|███████▎                                                                                                                                                        | 45/986 [1:32:33<48:29:52, 185.54s/it]"
     ]
    },
    {
     "name": "stdout",
     "output_type": "stream",
     "text": [
      "generated explanation: <pad> <extra_id_0> If a man reduced a town to rubble out of hatred for an enemy, his goal was to destroy the enemy. An enemy is an individual or group of individuals who intentionally or recklessly harms another person or group of people, usually in order to gain their advantage or benefit. Such actions may be taken against an individual or group of individuals, and may include things such as destroying property, attacking people, or causing physical harm to them. Hate crimes are crimes committed against others for the purpose of causing harm or causing distress and other undesirable things.<extra_id_1> </s>\n",
      "########\n",
      "*******\n",
      "question: The toddler thought it would be fun to try eating breakfast in bed, what resulted?\n",
      "answer: mess\n",
      "choices: ['contentment', 'indigestion', 'vomiting', 'mess', 'catastrophe']\n",
      "common expl list: [\"Toddlers like to explore and test their own boundaries. They often don't know their limits, and it's common for their behavior to result in a mess. In the toddler's case, it involved getting breakfast on the bed due to his inexperience\", \"Toddlers have poor coordination.  Even if they could somehow manage to not fall off the bed, it's likely that they would spill the food that they took with them to bed.  A mess would be made.\"]\n"
     ]
    },
    {
     "name": "stderr",
     "output_type": "stream",
     "text": [
      "\r",
      "  5%|███████▍                                                                                                                                                        | 46/986 [1:40:13<69:54:11, 267.71s/it]"
     ]
    },
    {
     "name": "stdout",
     "output_type": "stream",
     "text": [
      "generated explanation: <pad> <extra_id_0> If a toddler thought it would be fun to try eating breakfast in bed, it is likely that a mess would result. When a toddler thinks it would be fun to try eating breakfast in bed, it is likely that a mess will result. A toddler might make a mess in bed when they are trying to eat breakfast in bed, and this mess could include food, liquids, and debris. If a toddler makes a mess in bed while they are trying to eat breakfast, it is likely that a mess will be created and a a toddler would probably not be a very pleasant experience for the parent or child.<extra_id_1> </s>\n",
      "########\n",
      "*******\n",
      "question: He had a hard time getting his father's attention, he hoped that the winning baseball game would finally get him some what?\n",
      "answer: recognition\n",
      "choices: ['confirmation', 'celebrating', 'pride', 'recognition', 'happiness']\n",
      "common expl list: ['One way to gain recognition from ones parents is by accomplishing things that they value. For example, children might hope to make their parents proud of them by excelling at sports.']\n"
     ]
    },
    {
     "name": "stderr",
     "output_type": "stream",
     "text": [
      "\r",
      "  5%|███████▋                                                                                                                                                        | 47/986 [1:50:16<96:05:49, 368.42s/it]"
     ]
    },
    {
     "name": "stdout",
     "output_type": "stream",
     "text": [
      "generated explanation: <pad> <extra_id_0> If he had a hard time getting his father's attention, he might have hoped that winning the game would finally get him some recognition. Recognition is the act of receiving some form of reward or recognition for performing a particular action, such as playing a sport. Recognition can be achieved through receiving a prize or award, such as a gold medal, a commission, or other form of financial reward. It may also be achieved through performing a particular action, such as winning a game or competing in a contest; or other means of gaining access to a parent or other family members of the child's interests. If the child is interested in the child's interests, the parent or other parent's attention or by providing him with some additional attention or attention, such as by allowing him to play baseball.<extra_id_1> </s>\n",
      "########\n",
      "*******\n",
      "question: The toddler is awaking from a nap, what doesn't he feel anymore?\n",
      "answer: tiredness\n",
      "choices: ['nervous', 'eyes opening', 'getting out of bed', 'tiredness', 'discomfort']\n",
      "common expl list: ['Children can easily get tired at their ontervall and a nap is an effective way for them to get over tiredness. Then when they wake up, they do not feel tiredness any longer.']\n"
     ]
    },
    {
     "name": "stderr",
     "output_type": "stream",
     "text": [
      "\r",
      "  5%|███████▊                                                                                                                                                        | 48/986 [1:54:24<86:32:44, 332.16s/it]"
     ]
    },
    {
     "name": "stdout",
     "output_type": "stream",
     "text": [
      "generated explanation: <pad> <extra_id_0> If a child is waking up from a nap, he may not feel any tiredness. Napping can provide a sense of calm and serenity, which can help to restore and restore the body's natural equilibrium. However, it is important to remember that naps are not intended to replace sleep and that children should not be forced to take them.<extra_id_1> </s>\n",
      "########\n",
      "*******\n",
      "question: John listened to music when he needed to focus.  It helped him achieve what?\n",
      "answer: quiet mind\n",
      "choices: ['express emotion', 'beautifull', 'irritate', 'bad environment', 'quiet mind']\n",
      "common expl list: [\"When one is trying to focus on a task, it's common to listen to music to help one focus.\", 'Music can, at the very least, provide passive background noise as one works to help one focus. More specifically, music might have positive, uplifting or emotional qualities that are conducive to focus and concentration.', \"There's scientific evidence that listening to music can help people think better and concentrate easier.\"]\n"
     ]
    },
    {
     "name": "stderr",
     "output_type": "stream",
     "text": [
      "\r",
      "  5%|███████▉                                                                                                                                                        | 49/986 [1:57:19<74:11:25, 285.04s/it]"
     ]
    },
    {
     "name": "stdout",
     "output_type": "stream",
     "text": [
      "generated explanation: <pad> <extra_id_0> John listened to music when he needed to focus. It helped him achieve a quiet mind. Music is a form of expression that can be enjoyed by a wide range of people, and it often helps to relax the mind.<extra_id_1> </s>\n",
      "########\n",
      "*******\n",
      "question: If I were to suffer from sudden illness I would be within reason to visit where?\n",
      "answer: hospital\n",
      "choices: ['nursing home', 'hospital', 'brain', 'elderly person', 'building']\n",
      "common expl list: ['A hospital is a place where people go to receive treatment for illnesses.', 'If you were suddenly suffering an illness, it would be a reasonable thing to go to the hospital for treatment of that illness.', 'Anyone can suffer a sudden illness, but hospitals are where the equipment and personnel exist to deal with sudden illnesses.', 'A hospital is a center for treatment and care of those suffering from illness.']\n"
     ]
    },
    {
     "name": "stderr",
     "output_type": "stream",
     "text": [
      "\r",
      "  5%|████████                                                                                                                                                        | 50/986 [2:04:08<83:46:35, 322.22s/it]"
     ]
    },
    {
     "name": "stdout",
     "output_type": "stream",
     "text": [
      "generated explanation: <pad> <extra_id_0> If I were to suffer a sudden illness, I would be within reason to visit a hospital. A hospital is a place where people go to receive medical care and treatment, and where they can receive a wide range of medical services, including the provision of sterile instruments and other medical supplies, as well as psychological care and support. A hospital visit is a time when a person is taken to a medical facility for treatment of a specific medical condition or to receive care and treatment for an existing medical condition. It is a place where people often go to recover from their illnesses and to recover from their injuries.<extra_id_1> </s>\n",
      "########\n",
      "*******\n",
      "question: John kept standing up.  He was afraid that if he were sitting down he might do something. What might he be afraid of?\n",
      "answer: fall asleep\n",
      "choices: ['fall asleep', 'being supported on chair', 'comfort', 'clowns', 'flatulence']\n",
      "common expl list: ['Sitting down makes one comfortable; sitting down with eyes closed makes one fall asleep.', 'When standing, the chances of falling asleep abruptly would be much less (assuming that one is awake).']\n"
     ]
    },
    {
     "name": "stderr",
     "output_type": "stream",
     "text": [
      "\r",
      "  5%|████████▏                                                                                                                                                      | 51/986 [2:13:11<100:53:07, 388.44s/it]"
     ]
    },
    {
     "name": "stdout",
     "output_type": "stream",
     "text": [
      "generated explanation: <pad> <extra_id_0> If John kept standing up, he might be afraid of falling asleep. Falling asleep is a common fear that causes people to become unconscious. It occurs when a person is unconsciously groggy and does not realize that they are asleep. When this happens, the person may feel dizzy and disoriented. To help the person understand this fear, they may think about what might happen if he were to sit down and take a nap. A person may also be afraid of falling asleep because they are unconsciously unconscious and do not enough to make a good night'sworth. To help with his fears, John'smother, is likely that John's favorite pastime to be a dangerous activity, since it is common for people to get comfortable and comfortable.<extra_id_1> </s>\n",
      "########\n",
      "*******\n",
      "question: He didn't know that good things can be posion in large doses.  He thought that he was just eating an essential what?\n",
      "answer: nutrient\n",
      "choices: ['antidote', 'consumable', 'nutrient', 'vitamin', 'medicine']\n",
      "common expl list: ['He thought that he was just eating an essential nutrient, but in large doses, it could be poisonous.']\n"
     ]
    },
    {
     "name": "stderr",
     "output_type": "stream",
     "text": [
      "\r",
      "  5%|████████▍                                                                                                                                                       | 52/986 [2:14:37<77:18:01, 297.95s/it]"
     ]
    },
    {
     "name": "stdout",
     "output_type": "stream",
     "text": [
      "generated explanation: <pad> <extra_id_0> There are many different types of nutrient, and each type has a different function.<extra_id_1> </s>\n",
      "########\n",
      "*******\n",
      "question: The police didn't pay any favors, their job was to what?\n",
      "answer: force law\n",
      "choices: ['force law', 'board vessels', 'arrest', 'arm weapons', 'direct traffic']\n",
      "common expl list: ['Police are usually tasked with upholding the law, and if they see a law being broken they will intervene (forceful intervention); moreover, they also coordinate with other officers (direct traffic and board vessels). These activities do not involve favors.']\n"
     ]
    },
    {
     "name": "stderr",
     "output_type": "stream",
     "text": [
      "\r",
      "  5%|████████▌                                                                                                                                                       | 53/986 [2:21:13<84:48:59, 327.27s/it]"
     ]
    },
    {
     "name": "stdout",
     "output_type": "stream",
     "text": [
      "generated explanation: <pad> <extra_id_0> The police didn't pay favors, their job was to enforce the law. The law is a set of written rules that specify how certain actions must be performed in order to achieve a specific goal or objective. It is the goal of law enforcement officers to uphold the law and prevent crime from occurring. The law enforcement officers' job was to enforce the law and prevent crime from happening. The law enforcement officers' job was to do this by enforcing the law and maintaining order. They also had the responsibility of protecting the public from harm and to prevent crime.<extra_id_1> </s>\n",
      "########\n",
      "*******\n",
      "question: The place specialized in colorful arrangements, but the also had a toy balloon or two where?\n",
      "answer: flower shop\n",
      "choices: ['see work', 'birthday party', 'flower shop', 'parade', 'toy store']\n",
      "common expl list: ['Flower shops sell interesting arrangements made with colorful flowers.', 'Batches of balloons are available at flower shops, where floral arrangements are sold, and rainbow contruction paper is usually found in art shops and classrooms.']\n"
     ]
    },
    {
     "name": "stderr",
     "output_type": "stream",
     "text": [
      "\r",
      "  5%|████████▊                                                                                                                                                       | 54/986 [2:23:51<71:34:10, 276.45s/it]"
     ]
    },
    {
     "name": "stdout",
     "output_type": "stream",
     "text": [
      "generated explanation: <pad> <extra_id_0> A place specialized in colorful arrangements, but the place also had a toy balloon or two. A flower shop is a place that sells flowers and other items such as plants, plantsers, and flowers.<extra_id_1> </s>\n",
      "########\n",
      "*******\n",
      "question: Where was there never any mammoth?\n",
      "answer: zoo\n",
      "choices: ['wild', 'north dakota', 'forest', 'movie', 'zoo']\n",
      "common expl list: ['Mammoths are extinct, and zoos are places where animals are kept for observation and study.']\n"
     ]
    },
    {
     "name": "stderr",
     "output_type": "stream",
     "text": [
      "\r",
      "  6%|████████▉                                                                                                                                                       | 55/986 [2:26:38<62:58:07, 243.49s/it]"
     ]
    },
    {
     "name": "stdout",
     "output_type": "stream",
     "text": [
      "generated explanation: <pad> <extra_id_0> If there were never any mammoths in a zoo, then a zoo would be a place where animals are kept in cages and are kept in a natural environment.<extra_id_1> </s>\n",
      "########\n",
      "*******\n",
      "question: Why do most people engage in chatting with friends?\n",
      "answer: fun\n",
      "choices: ['fun', 'love', 'answers', 'inspiration', 'relaxation']\n",
      "common expl list: ['Chats with friends are often fun, and thus people engage in them for that reason.']\n"
     ]
    },
    {
     "name": "stderr",
     "output_type": "stream",
     "text": [
      "\r",
      "  6%|█████████                                                                                                                                                       | 56/986 [2:32:03<69:14:51, 268.06s/it]"
     ]
    },
    {
     "name": "stdout",
     "output_type": "stream",
     "text": [
      "generated explanation: <pad> <extra_id_0> Most people engage in chatting with friends as a way to pass the time and to get to know each other better. Chatting can be a fun and social activity that can provide a variety of benefits, such as learning more about other people and their interests, making new friends, and getting to know their personal histories and cultures. Chatting can also provide a valuable social outlet for people to express their thoughts and feelings, share information, and learn more about the people around them.<extra_id_1> </s>\n",
      "########\n",
      "*******\n",
      "question: What could happen after discovering truth that you did not want to know?\n",
      "answer: pain\n",
      "choices: ['pain', 'relief', 'grey hair', 'understanding', 'enlightenment']\n",
      "common expl list: ['Truth can be painful, and discovering it can cause pain.']\n"
     ]
    },
    {
     "name": "stderr",
     "output_type": "stream",
     "text": [
      "\r",
      "  6%|█████████▏                                                                                                                                                      | 57/986 [2:33:54<57:02:22, 221.04s/it]"
     ]
    },
    {
     "name": "stdout",
     "output_type": "stream",
     "text": [
      "generated explanation: <pad> <extra_id_0> A lecturer might give a lecture on a certain topic, and students might be asked to give an example.<extra_id_1> </s>\n",
      "########\n",
      "*******\n",
      "question: What will an athlete do to warm up their legs?\n",
      "answer: jog\n",
      "choices: ['use heater', 'sprint', 'jog', 'run fast', 'compete']\n",
      "common expl list: ['warming up is a routine that is performed to either prepare for doing something new, or prepare for doing something which put strains on you, or which you have been out of practice doing.', 'When athletes warm up before swimming, running, riding a bike, or performing other physical activity, they generally will jog (which will help them loosen muscles in the legs).']\n"
     ]
    },
    {
     "name": "stderr",
     "output_type": "stream",
     "text": [
      "\r",
      "  6%|█████████▍                                                                                                                                                      | 58/986 [2:39:21<65:07:29, 252.64s/it]"
     ]
    },
    {
     "name": "stdout",
     "output_type": "stream",
     "text": [
      "generated explanation: <pad> <extra_id_0> Warming up means moving quickly and continuously in order to achieve a state of physical fitness. Jogging is a popular form of physical activity that can help to improve cardiovascular fitness and endurance. It is a popular activity that can help to improve cardiovascular fitness and flexibility, and it can also help to improve balance and flexibility. By jogging, an athlete can increase their heart rate and flexibility, and it can improve their overall health and fitness.<extra_id_1> </s>\n",
      "########\n",
      "*******\n",
      "question: Where can you keep your binder on your person between periods of instruction?\n",
      "answer: backpack\n",
      "choices: ['class room', 'car', 'office supply store', 'backpack', 'bookcase']\n",
      "common expl list: ['Usually binder users carry their binders from class to class outside of the classroom. Backpacks are often convenient, and are large enough to hold the binder.']\n"
     ]
    },
    {
     "name": "stderr",
     "output_type": "stream",
     "text": [
      "\r",
      "  6%|█████████▌                                                                                                                                                      | 59/986 [2:40:47<52:13:34, 202.82s/it]"
     ]
    },
    {
     "name": "stdout",
     "output_type": "stream",
     "text": [
      "generated explanation: <pad> <extra_id_0> People who are overweight often want to lose weight, and they exercise in order to do so.<extra_id_1> </s>\n",
      "########\n",
      "*******\n",
      "question: In the middle of the day what will someone do because of being hungry?\n",
      "answer: have lunch\n",
      "choices: ['cook dinner', 'make bread', 'eat in restaurant', 'have lunch', 'make bread']\n",
      "common expl list: ['People often eat lunch at midday, and so, if they are hungry at midday, they might go to a restaurant to eat lunch.', \"It's common for folks to have lunch during the middle of the day.\"]\n"
     ]
    },
    {
     "name": "stderr",
     "output_type": "stream",
     "text": [
      "\r",
      "  6%|█████████▋                                                                                                                                                      | 60/986 [2:42:20<43:42:14, 169.91s/it]"
     ]
    },
    {
     "name": "stdout",
     "output_type": "stream",
     "text": [
      "generated explanation: <pad> <extra_id_0> If someone is hungry, they will typically go to the kitchen to get something to eat.<extra_id_1> </s>\n",
      "########\n",
      "*******\n",
      "question: Where is garbage brought to by garbagemen?\n",
      "answer: landfill\n",
      "choices: ['trashcan', 'landfill', 'television', 'computer', 'dumpster']\n",
      "common expl list: ['Landfills are where all the trash in the city go to.']\n"
     ]
    },
    {
     "name": "stderr",
     "output_type": "stream",
     "text": [
      "\r",
      "  6%|█████████▉                                                                                                                                                      | 61/986 [2:53:52<83:53:44, 326.51s/it]"
     ]
    },
    {
     "name": "stdout",
     "output_type": "stream",
     "text": [
      "generated explanation: <pad> <extra_id_0> Garbage is typically brought to a landfill by garbage trucks. Garbage trucks are trucks that are specially designed to move garbage from one place to another. The garbage trucks that are used for this purpose are often called 'graveyard trucks' because they are designed to move large amounts of waste material, such as old tires, furniture, and other types of waste, to be disposed of in a controlled environment. These trucks are typically equipped with electronic equipment, such as gas detectors, and other types of cameras, and they can be used to dispose of the waste materials that are not fit for recycling or for other purposes, and instead are used to transport the garbage they collect from the local landfill. If you want to know more about the process of recycling, please visit our page or visit our landfills to learn more about the benefits of recycling or recycling your local recycling center, or to find out how to bring your recyclables, please click here.<extra_id_1> </s>\n",
      "########\n",
      "*******\n",
      "question: What are people doing when washing hands for a long time?\n",
      "answer: thinking\n",
      "choices: ['thinking', 'sleeping', 'use soap', 'irritation', 'cleaning dirt off']\n",
      "common expl list: ['People often just pause while washing their hands. It may be that they are thinking about something while this occurs naturally.', 'People often think about things while they are washing their hands, and this is a good time to think about things.']\n"
     ]
    },
    {
     "name": "stderr",
     "output_type": "stream",
     "text": [
      "\r",
      "  6%|██████████                                                                                                                                                      | 62/986 [2:56:29<70:44:21, 275.61s/it]"
     ]
    },
    {
     "name": "stdout",
     "output_type": "stream",
     "text": [
      "generated explanation: <pad> <extra_id_0> It is not clear what people are doing when washing hands for a long time. It is possible that they are either thinking about something or they may be doing something else entirely.<extra_id_1> </s>\n",
      "########\n",
      "*******\n",
      "question: What would someone say about a tube television?\n",
      "answer: obsolete\n",
      "choices: ['obsolete', 'addictive', 'entertaining', 'bycone', 'legal']\n",
      "common expl list: ['Tube televisions are no longer manufactured, and are therefore obsolete.', 'Tube televisions are obsolete, meaning that they are old and was abolished by newer technology.']\n"
     ]
    },
    {
     "name": "stderr",
     "output_type": "stream",
     "text": [
      "\r",
      "  6%|██████████▏                                                                                                                                                     | 63/986 [2:59:51<65:00:13, 253.54s/it]"
     ]
    },
    {
     "name": "stdout",
     "output_type": "stream",
     "text": [
      "generated explanation: <pad> <extra_id_0> A ball pit is a large, hollow pit used for storage of various types of balls. Balls are typically round or square in shape, and are used for a variety of purposes, including playing basketball. Balls are typically painted white or silver and have a smooth exterior finish.<extra_id_1> </s>\n",
      "########\n",
      "*******\n",
      "question: The man drank his coffee at work?\n",
      "answer: office\n",
      "choices: ['coffee shop', 'table', 'kitchen', 'office', 'chair']\n",
      "common expl list: ['People often drink coffee at offices, with other co-workers.', 'The man probably works in an office where he could have a cup of coffee while behind his desk.', 'The man is likely to be at work, and offices often have kitchens where coffee is made.']\n"
     ]
    },
    {
     "name": "stderr",
     "output_type": "stream",
     "text": [
      "\r",
      "  6%|██████████▍                                                                                                                                                     | 64/986 [3:11:09<97:32:35, 380.86s/it]"
     ]
    },
    {
     "name": "stdout",
     "output_type": "stream",
     "text": [
      "generated explanation: <pad> <extra_id_0> If the man drank his coffee at work, he probably drank it in an office. An office is a place where people are organized and where they work, and they often have set hours during which they are in their respective offices. Offices are often used for a variety of purposes, such as conducting business, conducting research, or working in a creative or artistic capacity. In an office, there are many different types of people, and they may have different working hours and different schedules. In an office, people may have different levels of authority and authority, and they may be able to influence the way they are perceived by the other employees. If the man is in an office, he probably drank his coffee at work, and they may have different types of staff and are often in a variety of different things like a variety of tasks and tasks that they are performing at their jobs and/or performing various tasks.<extra_id_1> </s>\n",
      "########\n",
      "*******\n",
      "question: What can he do to eliminate his ignorance?\n",
      "answer: learn new\n",
      "choices: ['find information', 'judge', 'do some research', 'find truth', 'learn new']\n",
      "common expl list: ['In this context, ignorance refers to a lack of knowledge, and obtaining new knowledge is the best way to eliminate the ignorance.', \"Learning is a way to eliminate ignorance; for example, learning a foreign language is one way to eliminate ignorance of that language's grammar.\", 'Ignorance is the state of not knowing something, and to eliminate ignorance, one must learn new things.']\n"
     ]
    },
    {
     "name": "stderr",
     "output_type": "stream",
     "text": [
      "\r",
      "  7%|██████████▌                                                                                                                                                     | 65/986 [3:15:52<89:55:58, 351.53s/it]"
     ]
    },
    {
     "name": "stdout",
     "output_type": "stream",
     "text": [
      "generated explanation: <pad> <extra_id_0> Eliminating his ignorance is the best way to eliminate his ignorance. He can do this by learning new things, taking classes, attending lectures, reading, or taking courses in order to improve his knowledge and understanding of the world. In order to eliminate his ignorance, he must first learn new things, practice new skills, and seek out guidance from others who are more experienced and knowledgeable than him.<extra_id_1> </s>\n",
      "########\n",
      "*******\n",
      "question: What do humans do when in a race?\n",
      "answer: compete with each other\n",
      "choices: ['lay eggs', 'eat fruit', 'wrestle', 'compete with each other', 'draw pictures']\n",
      "common expl list: ['Humans are naturally athletic and competitive. On land, people will compete with each other by running or wrestling. Often humans race on water by swimming, or by boating with other people.']\n"
     ]
    },
    {
     "name": "stderr",
     "output_type": "stream",
     "text": [
      "\r",
      "  7%|██████████▋                                                                                                                                                     | 66/986 [3:17:21<69:39:54, 272.60s/it]"
     ]
    },
    {
     "name": "stdout",
     "output_type": "stream",
     "text": [
      "generated explanation: <pad> <extra_id_0> When in a race, people typically wear different clothes to distinguish themselves from one another.<extra_id_1> </s>\n",
      "########\n",
      "*******\n",
      "question: She explained that you won't always get what you want with a goal, but you should still do what with it?\n",
      "answer: reach for\n",
      "choices: ['know how to find', 'work hard', 'remember where', 'reach for', 'purchase']\n",
      "common expl list: ['Reaching for attained goals is more beneficial than simply working towards them, at least in the short term. It significantly increases your chances of success.']\n"
     ]
    },
    {
     "name": "stderr",
     "output_type": "stream",
     "text": [
      "\r",
      "  7%|██████████▊                                                                                                                                                     | 67/986 [3:25:14<84:58:34, 332.88s/it]"
     ]
    },
    {
     "name": "stdout",
     "output_type": "stream",
     "text": [
      "generated explanation: <pad> <extra_id_0> If someone tells you that they are going to do something, reaching for that goal is like reaching for a prize. With a goal, you are setting a specific objective or target that you want to achieve. A goal is a target that you have set for yourself and that you want to achieve. It is a way for you to work toward achieving a specific goal or outcome, and it provides you with a sense of direction and purpose in your life. It is important to remember that goals are just that—a goal or other forms of fulfillment. They may be challenging, but they are still very motivating and inspiring others to pursue their own personal best.<extra_id_1> </s>\n",
      "########\n",
      "*******\n",
      "question: What happens when you eat hamburger too fast without swallowing?\n",
      "answer: choking\n",
      "choices: ['get full', 'drink', 'choking', 'hungry', 'getting fat']\n",
      "common expl list: [\"When you eat hamburger too fast, it can quickly turn into the consistency of a block, and when you can't swallow it, it can cause you to choke.\", \"If you eat hamburger too fast, you might choke on it, because it's a solid food that can get stuck in your throat.\", \"Choking can occur when you stick stuff in your mouth which can't go down your throat properly, so that you can't breath. Common causes can be eating too fast, or swallowing items that can't go down your throat, like liquids or large\", 'Eating too fast can sometimes cause coughing / choking as food get stuck in your throat.']\n"
     ]
    },
    {
     "name": "stderr",
     "output_type": "stream",
     "text": [
      "\r",
      "  7%|███████████                                                                                                                                                     | 68/986 [3:32:18<91:52:38, 360.30s/it]"
     ]
    },
    {
     "name": "stdout",
     "output_type": "stream",
     "text": [
      "generated explanation: <pad> <extra_id_0> When you eat hamburger too fast without swallowing, you may choke on the hamburger. Choking is a condition that occurs when you swallow food too quickly without<extra_id_6> clearing your throat and causing you to pass air. If you eat hamburger too fast without swallowing, you may experience choking. Choking is a condition that occurs when you pass air quickly without clearing your throat and without swallowing it. Choking is a condition that occurs when you pass air quickly and without clearing your throat. It occurs when you pass gas and/or other food items, such as hamburgers, and you may choke on the bun.<extra_id_1> </s>\n",
      "########\n",
      "*******\n",
      "question: John sat in a folding chair in a bit room with a stage.  What sort of room could that be?\n",
      "answer: auditorium\n",
      "choices: ['room', 'auditorium', 'meeting hall', 'school', 'church']\n",
      "common expl list: ['An auditorium is a large room that is used for public events, such as concerts, plays, and speeches.']\n"
     ]
    },
    {
     "name": "stderr",
     "output_type": "stream",
     "text": [
      "\r",
      "  7%|███████████▏                                                                                                                                                   | 69/986 [3:44:17<119:08:19, 467.72s/it]"
     ]
    },
    {
     "name": "stdout",
     "output_type": "stream",
     "text": [
      "generated explanation: <pad> <extra_id_0> A stage is a platform on which performers or other performers perform. It is used for performances or other events, such as concerts, plays, or other performances. An auditorium is a large room that is used for performances or other events, such as plays, concerts, or other performances. An auditorium is often described as a \"black box\" or \"black box,\" and it is often used for performances or other events, such as plays, concerts, or other events. The word \"auditorium\" refers to a room with a stage and a sound system to provide the sound and visual effects of a live audience to hear and see the performances. In some cases, the music may be played on the side, or the stage, or the audience is seated in a seating area, or other types of sound and/or a person or group of people who are listening to a performance, or to a live performance. \", or a live performance.\"<extra_id_1> </s>\n",
      "########\n",
      "*******\n",
      "question: What would an adult man do to get ready for work?\n",
      "answer: dress himself\n",
      "choices: ['dress herself', 'shower', 'dress himself', 'drink beer', 'drive train']\n",
      "common expl list: ['Adult males commonly wear suits to work. Men might get dressed in the morning, particularly if they plan on wearing a suit for work.', 'An adult man would dress himself for work: this includes putting on pants, shirts, and dresses, and typical choices are professional clothes, such as suit and tie.']\n"
     ]
    },
    {
     "name": "stderr",
     "output_type": "stream",
     "text": [
      "\r",
      "  7%|███████████▎                                                                                                                                                    | 70/986 [3:45:26<88:35:33, 348.18s/it]"
     ]
    },
    {
     "name": "stdout",
     "output_type": "stream",
     "text": [
      "generated explanation: <pad> <extra_id_0> A child would play a game to get ready for play.<extra_id_1> </s>\n",
      "########\n",
      "*******\n",
      "question: What does one do at an office?\n",
      "answer: work\n",
      "choices: ['work', 'school building', 'workplace', 'skyscraper', 'public building']\n",
      "common expl list: ['An office is a place where people work.', 'One does work at the office', 'An office is a specific type of workplace.']\n"
     ]
    },
    {
     "name": "stderr",
     "output_type": "stream",
     "text": [
      "\r",
      "  7%|███████████▍                                                                                                                                                   | 71/986 [3:57:05<115:15:19, 453.46s/it]"
     ]
    },
    {
     "name": "stdout",
     "output_type": "stream",
     "text": [
      "generated explanation: <pad> <extra_id_0> One might say that one works at an office if one is employed in the private sector. Offices typically have a combination of staff and/or clients who are either employees or independent contractors. Offices often have a structured layout and a set of rules and procedures that are followed in order to achieve certain goals or objectives. These guidelines and procedures are known as “office policies” and “office procedures”. In the case of an office, employees typically have access to a variety of tools and resources that allow them to perform various types of tasks and functions, and managers and/team members of staff to work in order to achieve a specific task or function. They may also be a place where they can be part of a larger organization or community. Offices may be located in a city or a regional or regional office location. Office hours are usually Monday through Friday. Whether or not, offices often have a close premises and are located in a modern office setting, or in a </s>\n",
      "########\n",
      "*******\n",
      "question: When a person is on trial for killing, what is a jury likely to decide?\n",
      "answer: punishment\n",
      "choices: ['execution', 'investigation', 'going to jail', 'retribution', 'punishment']\n",
      "common expl list: ['A person who has just killed another person often goes to trial, so the jury will likely have to decide what the most just punishment is.', 'When a jury decides that someone is guilty of a crime, they typically hand down a punishment.', 'A jury is likely to decide that the person is guilty of the crime, and punish them accordingly.']\n"
     ]
    },
    {
     "name": "stderr",
     "output_type": "stream",
     "text": [
      "\r",
      "  7%|███████████▋                                                                                                                                                    | 72/986 [3:59:59<93:48:59, 369.52s/it]"
     ]
    },
    {
     "name": "stdout",
     "output_type": "stream",
     "text": [
      "generated explanation: <pad> <extra_id_0> If a person is tried for killing, a jury likely to decide on punishment. Punishment is the action or consequence that is given to a person for the act of killing another person. It may also include the punishment of death, such as the death penalty, or it may include other factors. Depending on the circumstances, a jury may also decide on the type of punishment that is given, such as a financial fine or prison sentence. If a jury finds that the person is guilty of murder, it is likely that the person will be sentenced to death. This is a common form of justice and is a way for the government to obtain the information needed to make decisions about the case, however, in order to obtain information about the case and to make a decision about whether to find the person guilty or not guilty.<extra_id_1> </s>\n",
      "########\n",
      "*******\n",
      "question: Most adult Americans split their time between home and what?\n",
      "answer: work\n",
      "choices: ['tent', 'work', 'apartment', 'the office', 'foreign']\n",
      "common expl list: ['Home and work may be the two places where most adult Americans spend most of their waking hours.', 'Most adults spend most of their time at work.']\n"
     ]
    },
    {
     "name": "stderr",
     "output_type": "stream",
     "text": [
      "\r",
      "  7%|███████████▊                                                                                                                                                    | 73/986 [4:00:23<67:26:18, 265.91s/it]"
     ]
    },
    {
     "name": "stdout",
     "output_type": "stream",
     "text": [
      "generated explanation: <pad> <extra_id_0> Most Americans spend most of their time at home.<extra_id_1> </s>\n",
      "########\n",
      "*******\n",
      "question: Professionally the fighters always maintained a level of respect, but personally they held each other in what for things that were said?\n",
      "answer: contempt\n",
      "choices: ['belittlement', 'humiliate', 'irreverence', 'contempt', 'love']\n",
      "common expl list: ['Despite the respect that was maintained by the respectful fighters, the feelings that they had for each other were always a sense of contempt for each others character.']\n"
     ]
    },
    {
     "name": "stderr",
     "output_type": "stream",
     "text": [
      "\r",
      "  8%|████████████                                                                                                                                                    | 74/986 [4:02:02<54:40:54, 215.85s/it]"
     ]
    },
    {
     "name": "stdout",
     "output_type": "stream",
     "text": [
      "generated explanation: <pad> <extra_id_0> The fighters held each other in a level of respect, but personally they held each other in a level of contempt. Contempt is the negative emotion that is caused by another person or thing, such as the desire for revenge or the desire for revenge itself. Contempt is a negative emotion that is caused by the desire for revenge or the desire to harm another person. It is important for fighters to understand that their actions have an impact on others and that their actions have an impact on others. It is important for fighters to respect each other and to avoid getting into fights with each other.<extra_id_1> </s>\n",
      "########\n",
      "*******\n",
      "question: Where would you find many tables of silverware rolled into nice displayed napkins?\n",
      "answer: restaurant\n",
      "choices: ['silver', 'park', 'table', 'cupboard', 'restaurant']\n",
      "common expl list: ['Restaurants often have a lot of silverware, and they might roll it up and place it in a napkin to make it easier to store.', 'In a commercial establishment, silverware is expected to be clean because consumption of food is involved. So, a restaurant may well be where someone would expect to find silverware rolled into nice displayed napkins (i.e., fancy silverware).', 'Restaurants often give used, rolled up silverware to customers, and they might keep them in nice, displayed napkins to make moving and storing them easier.']\n"
     ]
    },
    {
     "name": "stderr",
     "output_type": "stream",
     "text": [
      "\r",
      "  8%|████████████▏                                                                                                                                                   | 75/986 [4:06:34<58:50:50, 232.55s/it]"
     ]
    },
    {
     "name": "stdout",
     "output_type": "stream",
     "text": [
      "generated explanation: <pad> <extra_id_0> Typical restaurant napkins are made of paper and are usually white or light colored. They are typically used in restaurants as a way to break up the texture of the food being served. Silverware is often used in restaurants to serve food and beverages, and is often displayed in a variety of ways, such as rolls, baskets, and other forms of service ware. Silverware is often used in restaurants as a way to present food to customers, and to present it in a beautiful way. If you are unsure about the best way to roll your napkins, or any other type of service, restaurant settings, such as a restaurant, you may find that you can find many different types of restaurants, and they may be decorated with a variety of foods, such as chicken or seafood, or even a specific dishwashed with a variety of options, and you may find yourself in a variety of styles, restaurants, or at a restaurant, in a restaurant, in a restaurant, or in a restaurant, or even</s>\n",
      "########\n",
      "*******\n",
      "question: He didn't believe fate controlled situations, what did he believe people did?\n",
      "answer: control events\n",
      "choices: ['control events', 'pray', 'dress themselves', 'talk to each other', 'think creatively']\n",
      "common expl list: [\"If one believes fate controls events, there's nothing to do but accept situation, perhaps to pray; in contrast, if one believed they had control over events, then they could act to change the situation.\", 'If one believes in fate, then one would believe that fate controls events. If one believes in free will, then one would believe that people control events.']\n"
     ]
    },
    {
     "name": "stderr",
     "output_type": "stream",
     "text": [
      "\r",
      "  8%|████████████▎                                                                                                                                                   | 76/986 [4:07:12<44:04:38, 174.37s/it]"
     ]
    },
    {
     "name": "stdout",
     "output_type": "stream",
     "text": [
      "generated explanation: <pad> <extra_id_0> If he didn't believe people controlled situations, what did he believe people did?<extra_id_1> </s>\n",
      "########\n",
      "*******\n",
      "question: Polly didn't know her way around, so she navigated by landmark.  She used statues, stores, and distinctive building.  Where might she be?\n",
      "answer: city\n",
      "choices: ['countryside', 'national park', 'map', 'neighbourhood', 'city']\n",
      "common expl list: ['Landmark navigation works best in populated areas because distinctive buildings and statues can be more easily seen.', 'In a city, landmarks are often used to navigate. In the countryside or in national parks, landmarks may not be as distinct, as buildings and statues are less likely to be found.', \"She used distinctive buildings as landmarks, so it is likely she's in a city.\", 'Landmarks are often located in cities, and so if a person was navigating by landmarks, they are likely to be in a city.']\n"
     ]
    },
    {
     "name": "stderr",
     "output_type": "stream",
     "text": [
      "\r",
      "  8%|████████████▍                                                                                                                                                   | 77/986 [4:08:39<37:23:36, 148.09s/it]"
     ]
    },
    {
     "name": "stdout",
     "output_type": "stream",
     "text": [
      "generated explanation: <pad> <extra_id_0> If Polly didn't know where she was, she might have been navigating by landmark. A landmark is a visible structure in a place that is recognizable to people. Landmarks are often found in cities and other urban areas and are often used as a point of reference for locating specific places or things. If Polly didn't know where she was, she might have been in a city or urban area that is well known for its architectural features and distinctive buildings.<extra_id_1> </s>\n",
      "########\n",
      "*******\n",
      "question: Some horses are white others are black, but many are this color which might lead some people to think their milk would taste like chocolate?\n",
      "answer: brown\n",
      "choices: ['big but gentle', 'kept in stables', 'cuddly', 'brown', 'running in herd']\n",
      "common expl list: [\"An individual brown-colored horse (particularly when cuddly) can resemble the color of chocolate. If a person were to guess based on the color, he might guess a horse's milk tasted similarly.\"]\n"
     ]
    },
    {
     "name": "stderr",
     "output_type": "stream",
     "text": [
      "\r",
      "  8%|████████████▋                                                                                                                                                   | 78/986 [4:09:13<28:43:16, 113.87s/it]"
     ]
    },
    {
     "name": "stdout",
     "output_type": "stream",
     "text": [
      "generated explanation: <pad> <extra_id_0> If some horses are white and some are black, many might think that their milk would taste like chocolate. White horses are typically more than one color and are typically more than one shade of white.<extra_id_1> </s>\n",
      "########\n",
      "*******\n",
      "question: What is the one thing you cannot do if you're on the move?\n",
      "answer: stand still\n",
      "choices: ['sit still', 'stationary', 'running', 'stand still', 'stay still']\n",
      "common expl list: ['You must be in motion to be counted as on the move. (this rule exists to disallow the action of holding still)']\n"
     ]
    },
    {
     "name": "stderr",
     "output_type": "stream",
     "text": [
      "\r",
      "  8%|████████████▊                                                                                                                                                   | 79/986 [4:11:38<31:00:38, 123.09s/it]"
     ]
    },
    {
     "name": "stdout",
     "output_type": "stream",
     "text": [
      "generated explanation: <pad> <extra_id_0> Being on the move is a lot like being in a moving vehicle. You can move around and do different things, but you cannot stand still. If you're on the move, you are constantly on the move and you are constantly trying to keep up with your surroundings. This means that you are constantly on the move. If you're on the move, you are constantly trying to keep up with your surroundings and trying to find a place to sit, stand, or move. This is because being on the move means you're constantly moving. It is impossible to do certain things, such as standing still.<extra_id_1> </s>\n",
      "########\n",
      "*******\n",
      "question: Where does someone convicted of a petty crime likely spend time?\n",
      "answer: jail\n",
      "choices: ['sell drugs', 'jail', 'nightclub', 'prison', 'offer drugs']\n",
      "common expl list: ['Someone convicted of a petty crime is likely to spend time in jail.', 'Someone convicted of a petty crime probably spends some time in jail, and not in prison.']\n"
     ]
    },
    {
     "name": "stderr",
     "output_type": "stream",
     "text": [
      "\r",
      "  8%|████████████▉                                                                                                                                                   | 80/986 [4:12:53<27:22:11, 108.75s/it]"
     ]
    },
    {
     "name": "stdout",
     "output_type": "stream",
     "text": [
      "generated explanation: <pad> <extra_id_0> People who are convicted of petty crimes often commit other crimes as well, such as stealing, burglary, and theft.<extra_id_1> </s>\n",
      "########\n",
      "*******\n",
      "question: He would entertain with a pool party regularly, it was the best way to beat the what?\n",
      "answer: hot\n",
      "choices: ['please', 'hot', 'guest', 'bribe', 'liked']\n",
      "common expl list: ['Pool parties are a great way to beat the heat.']\n"
     ]
    },
    {
     "name": "stderr",
     "output_type": "stream",
     "text": [
      "\r",
      "  8%|█████████████▏                                                                                                                                                   | 81/986 [4:13:11<20:31:34, 81.65s/it]"
     ]
    },
    {
     "name": "stdout",
     "output_type": "stream",
     "text": [
      "generated explanation: <pad> <extra_id_0> As a child, playing in a pool was a popular way for children to cool off.<extra_id_1> </s>\n",
      "########\n",
      "*******\n",
      "question: If you wanted to confirm information that you had, you would do what to someone?\n",
      "answer: question\n",
      "choices: ['infirm', 'ask', 'deny', 'question', 'dispute']\n",
      "common expl list: ['To confirm something that your friends told you, you might need to ask those friends further questions to prove that the information was correct.', 'If you wanted to verify the truth, you might question the person who you got the alleged information from.', \"Often information is ambiguous, and I can confirm it by asking pointed questions or by scrutinizing the other person's story till I can find a way to interrogate their position.\", 'If you wanted to confirm information that you had, you would ask someone.']\n"
     ]
    },
    {
     "name": "stderr",
     "output_type": "stream",
     "text": [
      "\r",
      "  8%|█████████████▎                                                                                                                                                  | 82/986 [4:26:48<75:52:28, 302.15s/it]"
     ]
    },
    {
     "name": "stdout",
     "output_type": "stream",
     "text": [
      "generated explanation: <pad> <extra_id_0> If you wanted to confirm information you had heard about, you would go to the source and ask them. This is known as confirming the information with the source, and it is this process that allows you to verify the information you heard or read, and verify whether the information is accurate or not. You would ask the source, and they would respond with their own version of the story, or they might contact you directly to get the information they need. This would involve asking them directly for the details of the story or information they heard, and they would provide you with the opportunity to confirm the information you wanted to confirm the information you wanted to confirm information with another person or to obtain it from another person, such as a government agency, or to obtain information you had a valid license to do so. If you wanted to confirm information with someone, you would seek their own personal information, such as a formal formal statement, orally, orally, orally, orally, orally, orally, orally, orally, orally, orally, you might be a, orally, orally, orally, orally, orally, orally, orally, orally, orally, orally, orally, orally, orally, or ado, or a a formal, orally, or a formal, confirming, or a formal, confirming, orally, or by phone, a formal, formally, and a formally, as a person, orally, orally or otherwise, formally, a a, a personally orally,ally, orally, orally, a written, formally, a, a, a, ly, formally, orally, a, formally, orally, orally, or</s>\n",
      "########\n",
      "*******\n",
      "question: Where is cheese likely to be dangerous for some creatures?\n",
      "answer: mouse trap\n",
      "choices: ['refrigerator', 'mouse trap', 'fridge', 'outside', 'plate']\n",
      "common expl list: ['cheese has been said to attract mice. Mice traps may contain cheese in order to attract them.']\n"
     ]
    },
    {
     "name": "stderr",
     "output_type": "stream",
     "text": [
      "\r",
      "  8%|█████████████▍                                                                                                                                                  | 83/986 [4:27:26<55:56:23, 223.02s/it]"
     ]
    },
    {
     "name": "stdout",
     "output_type": "stream",
     "text": [
      "generated explanation: <pad> <extra_id_0> It is not clear how cheese might be dangerous for some creatures.<extra_id_1> </s>\n",
      "########\n",
      "*******\n",
      "question: He spent all work day at a computer, so he got a footstool for more comfort at his what?\n",
      "answer: desk\n",
      "choices: ['desk', 'bathroom', 'shoe shop', 'family room', 'living room']\n",
      "common expl list: ['A footstool is a small stool that is used to raise the height of a chair or table. If someone spends all day at a computer, they might need a footstool to raise their desk.']\n"
     ]
    },
    {
     "name": "stderr",
     "output_type": "stream",
     "text": [
      "\r",
      "  9%|█████████████▋                                                                                                                                                  | 84/986 [4:29:11<47:00:16, 187.60s/it]"
     ]
    },
    {
     "name": "stdout",
     "output_type": "stream",
     "text": [
      "generated explanation: <pad> <extra_id_0> A footstool is a stool that is used for sitting. It is usually made of wood or other durable material and is used for supporting your weight. It is typically used for sitting at a desk or table and is often used for different purposes, such as reading, writing, or computing. Footstools are also used for supporting your feet while you are standing or sitting up, and they can provide extra support for your legs. They are often used for supporting your legs while standing or sitting, and they can provide additional comfort when you are tired or if you are planning to get one for your desk.<extra_id_1> </s>\n",
      "########\n",
      "*******\n",
      "question: How would grooming lead to bald spots?\n",
      "answer: mistakes\n",
      "choices: ['cleanliness', 'mistakes', 'brushing', 'beauty', 'satisfaction']\n",
      "common expl list: [\"If you accidentally over trim your hair, you'd likely end up with bald spots.\"]\n"
     ]
    },
    {
     "name": "stderr",
     "output_type": "stream",
     "text": [
      "\r",
      "  9%|█████████████▊                                                                                                                                                  | 85/986 [4:30:56<40:45:29, 162.85s/it]"
     ]
    },
    {
     "name": "stdout",
     "output_type": "stream",
     "text": [
      "generated explanation: <pad> <extra_id_0> If you were balding and your hair was falling out, you may have noticed some bald spots on your head. This is a normal occurrence and is often the result of a lack of maintenance or improper grooming. It is important to note that proper grooming can help to prevent bald spots and ensure a smooth appearance. However, it is important to note that balding can also lead to further hair loss and therefore it is important to maintain a healthy and attractive appearance.<extra_id_1> </s>\n",
      "########\n",
      "*******\n",
      "question: Where would a snake find a great hiding place in the United Kingdom?\n",
      "answer: kew gardens\n",
      "choices: ['ditch', 'terrarium', 'thick forest', 'kew gardens', 'feild']\n",
      "common expl list: ['Kew gardens is located in London, which has a great deal of green space in the form of parks.', 'Kew gardens is a large botanical garden in London, England, and snakes are often found in gardens.']\n"
     ]
    },
    {
     "name": "stderr",
     "output_type": "stream",
     "text": [
      "\r",
      "  9%|█████████████▉                                                                                                                                                  | 86/986 [4:33:03<38:01:24, 152.09s/it]"
     ]
    },
    {
     "name": "stdout",
     "output_type": "stream",
     "text": [
      "generated explanation: <pad> <extra_id_0> A great place for a snake to find a great hiding place in the United Kingdom is kew gardens. Kew gardens are large gardens in the United Kingdom that are home to a variety of plants and animals, including snakes, lizards, and other snakes. The plants and animals in kew gardens are native to the United Kingdom and are found in a variety of habitats, including water, soil, and rock formations. The gardens are known for their diversity and are home to a variety of different species, including snakes, which are often used for their habitat, and they may seek out suitable places to hide in order to avoid detection.<extra_id_1> </s>\n",
      "########\n",
      "*******\n",
      "question: After studying many self-help books, what did he feel in his heart?\n",
      "answer: inspiration\n",
      "choices: ['inspiration', 'dreams', 'more intelligence', 'understanding', 'knowing more']\n",
      "common expl list: [\"If John read about confidence, optimism, positive thinking, it's possible that he feels inspired.\", \"Some people study self-help books because they've felt lost in their life and are looking for something to help them out. By reading many self-help books, such people might feel more inspired in their life.\", 'Self-help books are written to inspire people to change their lives for the better.']\n"
     ]
    },
    {
     "name": "stderr",
     "output_type": "stream",
     "text": [
      "\r",
      "  9%|██████████████                                                                                                                                                  | 87/986 [4:35:05<35:41:27, 142.92s/it]"
     ]
    },
    {
     "name": "stdout",
     "output_type": "stream",
     "text": [
      "generated explanation: <pad> <extra_id_0> After studying many self-help books, he felt in his heart that inspiration. Inspiration is a feeling or state of being that is felt in the heart and is often associated with feelings of inspiration, hope, and joy. It is a feeling that can be evoked through contemplation or by reading about others' experiences. Inspiration is a feeling or state of being that can be evoked through contemplation or by reading about their personal growth and development. It is a feeling that is often associated with a sense of being inspired. It is a feeling that can be a catalyst for change in the reader's life.<extra_id_1> </s>\n",
      "########\n",
      "*******\n",
      "question: Where would you find teeth whitening bleachers?\n",
      "answer: pharmacy\n",
      "choices: ['gymnasium', 'soccer game', 'sporting event', 'pharmacy', 'soccer game']\n",
      "common expl list: ['Teeth whitening is a common practice, and pharmacies often sell the products used for it.']\n"
     ]
    },
    {
     "name": "stderr",
     "output_type": "stream",
     "text": [
      "\r",
      "  9%|██████████████▎                                                                                                                                                 | 88/986 [4:36:18<30:27:33, 122.11s/it]"
     ]
    },
    {
     "name": "stdout",
     "output_type": "stream",
     "text": [
      "generated explanation: <pad> <extra_id_0> People who are overweight often want to lose weight and stop smoking. Smoking cigarettes is a form of tobacco use that is controlled and monitored, and it is often considered a sign of healthy living.<extra_id_1> </s>\n",
      "########\n",
      "*******\n",
      "question: While he had seen a koala in the zoo, he was looking forward to finding one in the what?\n",
      "answer: australian outback\n",
      "choices: ['australian outback', 'bamboo grove', 'wilderness', 'island', \"child's book\"]\n",
      "common expl list: ['Because Koalas are a native species to Australia, the safest place to see a Koala may be outback Australia.', 'Koalas live in Australia, and are not found in any other country in the North American continent.']\n"
     ]
    },
    {
     "name": "stderr",
     "output_type": "stream",
     "text": [
      "\r",
      "  9%|██████████████▍                                                                                                                                                 | 89/986 [4:37:31<26:41:07, 107.10s/it]"
     ]
    },
    {
     "name": "stdout",
     "output_type": "stream",
     "text": [
      "generated explanation: <pad> <extra_id_0> A koala is a small, furry animal that lives in the savannah grasslands of Australia. They are often found in groups, often in packs, and are often found in the wild.<extra_id_1> </s>\n",
      "########\n",
      "*******\n",
      "question: Where can a child get a wagon?\n",
      "answer: toy store\n",
      "choices: ['field', 'garage', 'bookstore', 'backyard', 'toy store']\n",
      "common expl list: ['Toy stores deal specifically in toys. Wagons are one of a variety of toys.', \"A toy wagon is a child's toy. Toy wagons can be purchased from toy stores.\"]\n"
     ]
    },
    {
     "name": "stderr",
     "output_type": "stream",
     "text": [
      "\r",
      "  9%|██████████████▌                                                                                                                                                 | 90/986 [4:39:43<28:31:18, 114.60s/it]"
     ]
    },
    {
     "name": "stdout",
     "output_type": "stream",
     "text": [
      "generated explanation: <pad> <extra_id_0> A child can get a wagon at a toy store. A toy store is a place where toys and other items are sold for use by children. The items in the store are often called “toys” or “games” and they often have different themes and names. A child can go to a toy store and buy various items such as trains, dolls, and other toys,” according to the National Library of Medicine. A child can also get a wagon at a toy store, if the parent or other child is interested in purchasing a wagon for their child. They may also go to a local retailer or online retailer to find out what they need.<extra_id_1> </s>\n",
      "########\n",
      "*******\n",
      "question: Being able to forgive is a way to be what?\n",
      "answer: nice to\n",
      "choices: ['learn', 'give hug', 'happiness', 'nice to', 'sex']\n",
      "common expl list: ['When you forgive people you are being nice to them.']\n"
     ]
    },
    {
     "name": "stderr",
     "output_type": "stream",
     "text": [
      "\r",
      "  9%|██████████████▊                                                                                                                                                 | 91/986 [4:42:50<33:54:06, 136.36s/it]"
     ]
    },
    {
     "name": "stdout",
     "output_type": "stream",
     "text": [
      "generated explanation: <pad> <extra_id_0> Being able to forgive is a way to be nice to someone. Forgiveness is the act of allowing someone to accept responsibility for their actions, whether they were wrong or not, and it is often a sign of strength and character, and it shows a lack of personal responsibility on the part of the person being forgiven. It is important to remember that forgiveness is not a sign of weakness or weakness in the person being forgiven, but rather of a desire for justice and equality for all parties involved. It is important to remember that forgiveness is a way to be able to accept others as well as to be able to forgive someone who has done something wrong. It is not a way to be able to express regret, and to be able to make amends as a way to move on and to express regret.<extra_id_1> </s>\n",
      "########\n",
      "*******\n",
      "question: What  is necessary to have when going fishing?\n",
      "answer: fishing rod\n",
      "choices: ['fishing rod', 'access to water', 'bate', 'three hands', 'tackle']\n",
      "common expl list: ['To go fishing requires a fishing rod.', 'fishing rods are necessary component pieces that are held by fishermen to access and use when fishing']\n"
     ]
    },
    {
     "name": "stderr",
     "output_type": "stream",
     "text": [
      "\r",
      "  9%|██████████████▉                                                                                                                                                 | 92/986 [4:43:18<25:48:33, 103.93s/it]"
     ]
    },
    {
     "name": "stdout",
     "output_type": "stream",
     "text": [
      "generated explanation: <pad> <extra_id_0> A map is a tool that can be used to locate points of interest.<extra_id_1> </s>\n",
      "########\n",
      "*******\n",
      "question: A weasel is cursed by a witch, where is the weasel stuck?\n",
      "answer: fairytale\n",
      "choices: ['corn fields', 'great outdoors', 'fairytale', 'imagination', 'chicken coop']\n",
      "common expl list: ['Being stuck in a fairytale suggests being cursed, and the curses that prevail in fairytales are usually cast by witches.']\n"
     ]
    },
    {
     "name": "stderr",
     "output_type": "stream",
     "text": [
      "\r",
      "  9%|███████████████▏                                                                                                                                                 | 93/986 [4:43:52<20:35:31, 83.01s/it]"
     ]
    },
    {
     "name": "stdout",
     "output_type": "stream",
     "text": [
      "generated explanation: <pad> <extra_id_0> A weasel is a small, furry animal that is commonly found in woodlands and grasslands. When a weasel is bitten by a spider, it becomes stuck to the spider's body.<extra_id_1> </s>\n",
      "########\n",
      "*******\n",
      "question: If you want to buy you must what?\n",
      "answer: spend money\n",
      "choices: ['spend money', 'go shopping', 'paying', 'have in mind', 'a shop']\n",
      "common expl list: ['If you want to buy something, you must spend money.', 'To buy something, you must spend money.', 'To buy one needs money, and need money implies you have spent money.']\n"
     ]
    },
    {
     "name": "stderr",
     "output_type": "stream",
     "text": [
      "\r",
      " 10%|███████████████▎                                                                                                                                                | 94/986 [4:47:04<28:40:57, 115.76s/it]"
     ]
    },
    {
     "name": "stdout",
     "output_type": "stream",
     "text": [
      "generated explanation: <pad> <extra_id_0> If you want to buy something, you must first have money to buy it. Money is a resource that is used for a variety of purposes, such as paying bills, making purchases, and storing goods in a bank or other financial institution, and making payments for goods and services. Money can also be used to obtain goods and services, such as buying food, clothing, furniture, and rental properties. Purchasing goods and services requires the payment of a fee, and it is typically in the form of a check or money order, and the item is usually required to be in the form of a credit card or other form of payment, and you can use it as a payment method, such as by banking or by credit card. If you want to spend money, you can use your credit or debit card to make a purchase, and you can then use your credit card to make the purchase.<extra_id_1> </s>\n",
      "########\n",
      "*******\n",
      "question: What public celebration sometimes has a horse show?\n",
      "answer: state fair\n",
      "choices: ['state fair', 'indy 500', 'american southwest', 'canada', 'central park']\n",
      "common expl list: [\"A state's fair is a public celebration that may include a horse show.\", 'Horse shows are competitions that sometimes occur at public celebrations. Some fairgrounds include horse shows as part of their regularly scheduled events.', 'Horse shows are sometimes included in state fair celebrations, and these fairs frequently are held in public parks.']\n"
     ]
    },
    {
     "name": "stderr",
     "output_type": "stream",
     "text": [
      "\r",
      " 10%|███████████████▌                                                                                                                                                 | 95/986 [4:47:34<22:15:10, 89.91s/it]"
     ]
    },
    {
     "name": "stdout",
     "output_type": "stream",
     "text": [
      "generated explanation: <pad> <extra_id_0> Horses are often seen as symbols of status and wealth.<extra_id_1> </s>\n",
      "########\n",
      "*******\n",
      "question: There are many wage gaps being discussed, the most important of which is between the rich and what?\n",
      "answer: poor\n",
      "choices: ['plain', 'sleepy', 'poor', 'idle', 'needy']\n",
      "common expl list: ['The poor are a group which suffers from a wage gap, denoted as their earning less than others, especially the rich.']\n"
     ]
    },
    {
     "name": "stderr",
     "output_type": "stream",
     "text": [
      "\r",
      " 10%|███████████████▋                                                                                                                                                 | 96/986 [4:49:20<23:27:03, 94.86s/it]"
     ]
    },
    {
     "name": "stdout",
     "output_type": "stream",
     "text": [
      "generated explanation: <pad> <extra_id_0> There are many different reasons why people earn more money than others. One common reason is that they have more money than other people. Pay gaps are a common problem in society and can cause many social and economic problems for people. For example, the rich often have more money than other people and the poor often have less money than they do. Pay gaps can cause many different problems for people and can lead to inequality and social problems.<extra_id_1> </s>\n",
      "########\n",
      "*******\n",
      "question: What city in a North American Country, that isn't the United States, would you expect to find a good french restaurant?\n",
      "answer: quebec\n",
      "choices: ['wine', 'nyc', 'quebec', 'manhattan', 'paris']\n",
      "common expl list: ['Quebec is the only province that speaks French in North America, and you might expect to find a good french restaurant there.', 'Quebec is a province in Canada, and is known for its french culture.', 'Quebec has a strong french heritage, and the french cuisine is actually quite popular in the United States.', 'Quebec is said to have strong french-culture since it was originally french territory. This would make sense if quebec had a good french restaurant.']\n"
     ]
    },
    {
     "name": "stderr",
     "output_type": "stream",
     "text": [
      "\r",
      " 10%|███████████████▋                                                                                                                                                | 97/986 [4:51:17<25:02:04, 101.38s/it]"
     ]
    },
    {
     "name": "stdout",
     "output_type": "stream",
     "text": [
      "generated explanation: <pad> <extra_id_0> If you were to travel to a city in North America, that is not the United States, you would find yourself in a country called Canada. Canada is a landlocked country in North America and is located in the western hemisphere. Canada has a diverse population, and is home to a diverse range of cultures, languages, and environments. As a result, Canada has a rich cultural heritage and a diverse food culture, and is home to a diverse range of cultures, languages, and cuisines.<extra_id_1> </s>\n",
      "########\n",
      "*******\n",
      "question: Care not to burn you hand on the handle of what small high-walled vessel?\n",
      "answer: saucepan\n",
      "choices: ['brush', 'carry object', 'walking stick', 'umbrella', 'saucepan']\n",
      "common expl list: ['A saucepan is a small, high-walled vessel, built for holding liquids and usually used in the kitchen.']\n"
     ]
    },
    {
     "name": "stderr",
     "output_type": "stream",
     "text": [
      "\r",
      " 10%|████████████████                                                                                                                                                 | 98/986 [4:51:53<20:09:42, 81.74s/it]"
     ]
    },
    {
     "name": "stdout",
     "output_type": "stream",
     "text": [
      "generated explanation: <pad> <extra_id_0> If you are using a lighter, be sure to place it on a heat-resistant surface, such as glass or ceramic.<extra_id_1> </s>\n",
      "########\n",
      "*******\n",
      "question: What container does peanut butter come in?\n",
      "answer: jar\n",
      "choices: ['cupboard', 'pantry', 'jar', 'bottle', 'supermarket']\n",
      "common expl list: ['Jars can keep food sealed without leaking, and often have lids. Peanut butter is sealed in a jar and could be kept in a house, kitchen, pantry, or cupboard.', 'Peanut butter comes in glass jars, like many other food products.', 'Jars, like those that pickles often come in, are suitable for food items that need to be kept fresh for long time. Jars can be resealed.', 'Jars are often used to store food, and peanut butter is a food.']\n"
     ]
    },
    {
     "name": "stderr",
     "output_type": "stream",
     "text": [
      "\r",
      " 10%|████████████████▏                                                                                                                                                | 99/986 [4:52:36<17:17:17, 70.17s/it]"
     ]
    },
    {
     "name": "stdout",
     "output_type": "stream",
     "text": [
      "generated explanation: <pad> <extra_id_0> Jellyfish are often found in oceans, and oceans have currents.<extra_id_1> </s>\n",
      "########\n",
      "*******\n",
      "question: Where are plants likely to be handled by a city employee?\n",
      "answer: park\n",
      "choices: ['park', 'windowsill', 'ground', 'office', 'garden']\n",
      "common expl list: ['Parks are where city employees are likely to handle plants.', 'A city employee might handle plants while working in a park.']\n"
     ]
    },
    {
     "name": "stderr",
     "output_type": "stream",
     "text": [
      "\r",
      " 10%|████████████████▏                                                                                                                                               | 100/986 [4:53:23<15:35:16, 63.34s/it]"
     ]
    },
    {
     "name": "stdout",
     "output_type": "stream",
     "text": [
      "generated explanation: <pad> <extra_id_0> Trees are likely to be handled by a city employee. Trees are typically found in parks and other places where people gather to relax and unwind.<extra_id_1> </s>\n",
      "########\n",
      "*******\n",
      "question: Trains tend to come on time, airplanes on the other hand tend to what?\n",
      "answer: arrive late\n",
      "choices: ['stall', 'take off', 'arrive late', 'catch on fire', 'carry freight']\n",
      "common expl list: [\"Planes aren't typically known for arriving on time (air traffic, weather, repairs, et. al.), whereas trains tend to be more reliable.\", 'Planes are carreid by more complicated mechanisms than trains, and therefore tend to be harder to operate exactly on time.']\n"
     ]
    },
    {
     "name": "stderr",
     "output_type": "stream",
     "text": [
      "\r",
      " 10%|████████████████▍                                                                                                                                               | 101/986 [4:54:26<15:31:18, 63.14s/it]"
     ]
    },
    {
     "name": "stdout",
     "output_type": "stream",
     "text": [
      "generated explanation: <pad> <extra_id_0> When trains tend to come on time, airplanes tend to come on time. When airplanes tend to come on time, trains tend to come on time. Conversely, if trains tend to come on time, airplanes tend to come on time.<extra_id_1> </s>\n",
      "########\n",
      "*******\n",
      "question: Where is glue well used?\n",
      "answer: art room\n",
      "choices: ['desk drawer', 'cabinet', 'art room', 'school', 'closed container']\n",
      "common expl list: ['Glue is used in art projects, and art rooms are where art projects are done.']\n"
     ]
    },
    {
     "name": "stderr",
     "output_type": "stream",
     "text": [
      "\r",
      " 10%|████████████████▍                                                                                                                                              | 102/986 [4:57:45<25:30:24, 103.87s/it]"
     ]
    },
    {
     "name": "stdout",
     "output_type": "stream",
     "text": [
      "generated explanation: <pad> <extra_id_0> Glue is a type of adhesive, often used in the creation of art. Glue is a type of material that is used in the production of painted or stained objects, such as landscapes, portraits, etc. When used in the art studio, glue is often used to create a permanent bond between two surfaces, such as a wall or a piece of furniture. It is often used in conjunction with other mediums, such as paint, acrylic paint, or other types of<extra_id_1> s. Typically, glue is a specific purpose and application in the creation of the artist or craft project. It is a permanent fixture and is typically used for temporary or permanent bonding agent. If a student is working on an art project, they may wish to use the material to create something, whether it is to fill in an art project, or to improve their skills and knowledge of a specific project or to achieve a certain effect.<extra_id_1> </s>\n",
      "########\n",
      "*******\n",
      "question: Billy loves science, history, and art but isn't very creative.  When he was visiting the museum, he felt a great deal of what emotion?\n",
      "answer: enjoyment\n",
      "choices: ['inspiration', 'fulfillment', 'wonder', 'boredom', 'enjoyment']\n",
      "common expl list: ['When Billy visited a museum which had a lot of fields of interest, Billy enjoyed himself while he learned from the experience at the same time.', 'At a museum, Billy uses history to find science, and science to find art; by combining different loves, going to the museum has been fulfilling. To achieve fulfilment, Billy felt an enjoyable feeling.']\n"
     ]
    },
    {
     "name": "stderr",
     "output_type": "stream",
     "text": [
      "\r",
      " 10%|████████████████▋                                                                                                                                               | 103/986 [4:58:12<19:49:23, 80.82s/it]"
     ]
    },
    {
     "name": "stdout",
     "output_type": "stream",
     "text": [
      "generated explanation: <pad> <extra_id_0> Seeing a museum is an exciting experience, and it's a great way for children to learn about different subjects and cultures.<extra_id_1> </s>\n",
      "########\n",
      "*******\n",
      "question: Sarah did much hard work, even though she was on vacation.  Her mother told her off and said what?\n",
      "answer: do nothing\n",
      "choices: ['unemployment', 'say something', 'earn money', 'do nothing', 'relaxation']\n",
      "common expl list: ['If one is on vacation, one is supposed to \"do nothing\" as opposed to working - the \"something\" that is discouraged. Many physically hard jobs involve getting the hands dirty.']\n"
     ]
    },
    {
     "name": "stderr",
     "output_type": "stream",
     "text": [
      "\r",
      " 11%|████████████████▉                                                                                                                                               | 104/986 [4:59:24<19:08:50, 78.15s/it]"
     ]
    },
    {
     "name": "stdout",
     "output_type": "stream",
     "text": [
      "generated explanation: <pad> <extra_id_0> If Sarah was on vacation, her mother might have told her to do nothing. This would violate the principle of least effort and would violate the principle of moderation. Vacations are times when people take time off from work to relax and unwind. They are also times when people take time off from work to recharge their batteries.<extra_id_1> </s>\n",
      "########\n",
      "*******\n",
      "question: James walked barefoot on a something that was made hot by sunshine. What is he probably walking on?\n",
      "answer: street\n",
      "choices: ['desktop', 'summer', 'moon', 'meadow', 'street']\n",
      "common expl list: ['Because of the intense heat of summer, sunlight reflects off the pavement, causing a hot sensation when one walks barefoot in the summer.']\n"
     ]
    },
    {
     "name": "stderr",
     "output_type": "stream",
     "text": [
      "\r",
      " 11%|█████████████████                                                                                                                                               | 105/986 [5:00:13<17:00:57, 69.53s/it]"
     ]
    },
    {
     "name": "stdout",
     "output_type": "stream",
     "text": [
      "generated explanation: <pad> <extra_id_0> If James was barefoot, he probably walked on a street that was made hot by sunshine. A street is a path or surface that is used for traveling on foot. Streets are often made hot by the sun’s rays, and they can be particularly sticky.<extra_id_1> </s>\n",
      "########\n",
      "*******\n",
      "question: He grew tired of standing in the kitchen his whole shift, where was he?\n",
      "answer: restaurant\n",
      "choices: [\"neighbor's house\", \"friend's house\", 'restaurant', 'jail', 'fraternity house']\n",
      "common expl list: ['One can get tired standing in a kitchen if one is on their feet all day; kitchens are typically in restaurants.', 'A restaurant would have a kitchen, where you would be required to stand while your shift is in session.']\n"
     ]
    },
    {
     "name": "stderr",
     "output_type": "stream",
     "text": [
      "\r",
      " 11%|█████████████████▏                                                                                                                                              | 106/986 [5:02:39<22:34:46, 92.37s/it]"
     ]
    },
    {
     "name": "stdout",
     "output_type": "stream",
     "text": [
      "generated explanation: <pad> <extra_id_0> When a man grew tired of standing in the kitchen, he was likely working in a restaurant. In a restaurant, workers typically stand in the kitchen all day to prepare food for their customers. This can be tiring work, and men often want to sit down and relax. However, many men do not like to stand still for long periods of time, and they prefer to sit down instead. This is because standing still requires them to use their muscles to lift heavy objects, such as pots and pans, and most men prefer to work in a chair. In order to avoid fatigue, they may be given a chair to help provide support and/or seat.<extra_id_1> </s>\n",
      "########\n",
      "*******\n",
      "question: The children play cards often, but they make their own rules because they can't what the originals?\n",
      "answer: remember\n",
      "choices: ['bid', 'concentrate', 'winning', 'count', 'remember']\n",
      "common expl list: [\"The children are making up their own rules because they can't remember the original rules.\", 'Children often play games that are similar to those played by adults, such as card games, but with slight variations to how they are played. This is most likely because children cannot remember the original rules of the card games. Smiling is a common expression']\n"
     ]
    },
    {
     "name": "stderr",
     "output_type": "stream",
     "text": [
      "\r",
      " 11%|█████████████████▎                                                                                                                                              | 107/986 [5:04:20<23:08:28, 94.78s/it]"
     ]
    },
    {
     "name": "stdout",
     "output_type": "stream",
     "text": [
      "generated explanation: <pad> <extra_id_0> If the children play cards often, they make their own rules because they can't remember the original rules. The original rules for playing cards were set down in ancient Greek law and were considered to be sacred writings. They were thought to be the basis for all other forms of writing, including the language used in the original languages of Greece and Rome. The rule of thumb for playing cards is to follow suit and follow the suit of the king or queen.<extra_id_1> </s>\n",
      "########\n",
      "*******\n",
      "question: On an average day, going to work could make you feel like what?\n",
      "answer: feeling good\n",
      "choices: ['feeling good', 'anger', 'revelation', 'being fired', 'tardiness']\n",
      "common expl list: ['To fulfill a life purpose and to gain fulfillment, people often undertake gainful employment. Thus, the people who experience this data point might experience feelings of accomplishment/fulfillment.', 'People sometimes feel pride and accomplishment when they get things done at the office.']\n"
     ]
    },
    {
     "name": "stderr",
     "output_type": "stream",
     "text": [
      "\r",
      " 11%|█████████████████▌                                                                                                                                              | 108/986 [5:04:49<18:18:08, 75.04s/it]"
     ]
    },
    {
     "name": "stdout",
     "output_type": "stream",
     "text": [
      "generated explanation: <pad> <extra_id_0> A trip to the mall could make you feel good. Going to the mall is a common way for people to feel good.<extra_id_1> </s>\n",
      "########\n",
      "*******\n",
      "question: What country has the carpathians and is the furthest in the direction of the side that won the U.S. Civil War?\n",
      "answer: poland\n",
      "choices: ['slovakia', 'slovenia', 'poland', 'ukraine', 'romania']\n",
      "common expl list: ['Poland is the only country that has the carpathian mountains, and it was the most distant in the direction from the side that won the U.S. Civil War (the North).']\n"
     ]
    },
    {
     "name": "stderr",
     "output_type": "stream",
     "text": [
      "\r",
      " 11%|█████████████████▌                                                                                                                                             | 109/986 [5:09:05<31:32:27, 129.47s/it]"
     ]
    },
    {
     "name": "stdout",
     "output_type": "stream",
     "text": [
      "generated explanation: <pad> <extra_id_0> The carpathians are a mountain range in eastern Europe that is located in the Balkans. It is a mountain range that is located in central Europe and is known for its dramatic landscape, including mountains, valleys, and lakes. The carpathians are a mountain range that is located in eastern Europe and is famous for its scenic landscapes, such as the Carpathian Mountains, the Tatra Mountains, and the Tatra Mountains. Poland is a country in eastern Europe and is known for its beautiful scenery, including the Carpath Mountains, which are located in the region. It is a mountain range that is located in the country of pola, which is a historical region, and is located in the western European Union, and is located in the a geographic location, making it a popular destination for tourists, especially a popular tourist destination due to its many attractions, such as the National Park, which is a popular tourist destination, and its many attractions, such as the re, a popular destination, and a popular tourist destination for its unique, and a vic, and a..<extra_id_1> </s>\n",
      "########\n",
      "*******\n",
      "question: What would happen if you want to win a game?\n",
      "answer: competitiveness\n",
      "choices: ['competitiveness', 'satisfaction', 'learning', 'injuries', 'play']\n",
      "common expl list: ['After playing a game, a person would be likely compelled to win the game becasue they want a feeling of satisfaction from winning the game. In order to win, a person would need to be competitive.', 'To win a game, you must be competitive.', 'Competitive athletes would want to win their games, whatever the cost; this desire to win leads to competitiveness and creates the desire to win over even long periods of time; it also often leads to brutal physical play --- such as by causing injuries to opposing r', 'If you want to win a game, you will try put your best effort to take your chances at winning over those of your opponents.', \"Victory in a game requires one to make a maximum effort, and peoples' desire to win has to be rather competitive.\"]\n"
     ]
    },
    {
     "name": "stderr",
     "output_type": "stream",
     "text": [
      "\r",
      " 11%|█████████████████▋                                                                                                                                             | 110/986 [5:10:27<28:02:20, 115.23s/it]"
     ]
    },
    {
     "name": "stdout",
     "output_type": "stream",
     "text": [
      "generated explanation: <pad> <extra_id_0> Playing a game requires a certain level of skill, attention, and patience. To succeed, a player must possess certain qualities, such as persistence, attention, fair play, and a competitive spirit. To achieve this level of skill, players must possess certain qualities, such as grit, determination, and perseverance. These qualities are necessary for success in any sport, and they are often exhibited in competitive sports, such as soccer, basketball, or volleyball. To succeed in a game, players must possess certain characteristics, such as motivation, and motivation.<extra_id_1> </s>\n",
      "########\n",
      "*******\n",
      "question: Where should watch to avoid being pinched by a crab?\n",
      "answer: sandy beach\n",
      "choices: ['eastern coast', 'sandy beach', 'fish market', 'north carolina', 'sand dunes']\n",
      "common expl list: ['It is more common to find crabs living in sandy beach areas.', 'Crabs live in sandy areas, and people who visit sandy beaches are likely to be pinched by crabs.']\n"
     ]
    },
    {
     "name": "stderr",
     "output_type": "stream",
     "text": [
      "\r",
      " 11%|█████████████████▉                                                                                                                                             | 111/986 [5:15:15<40:34:52, 166.96s/it]"
     ]
    },
    {
     "name": "stdout",
     "output_type": "stream",
     "text": [
      "generated explanation: <pad> <extra_id_0> If you want to avoid being pinched by a crab, you should stay away from a sandy beach. Sand, like sand, is a type of surface that is often covered with tiny creatures, such as tiny crabs, shrimp, and other types of fish. These creatures are often found on beaches, and they often attract other animals, such as birds, fish, and other types of fish. If you want to avoid being pinched by a crab, you should stay away from sandy beaches and look for rocky areas with a rough surface or a crowded with a large number of people walking on it is a good idea to avoid a sandy beach to avoid a rough surface and rough water currents may be present, such as a rip currents may be present, such as a rocky shoreline, and watch the water’s edge, and watch the water to prevent it from becoming too a popular ten, and rocky, s, and a crab, causing you to a a a sand, a rocky, or even, a good idea to, a crab, or,the,the, surf, or,a, or,, or,,a,the, a, or, a,, or, a,,, a, a rocky,,,,,a sandy,,,,,,,,,,,,,,,,,,,,,,,,,,,,,,,,, a,,,,,,,,,,,,,,, or,,,,,,,,,,,,,,,,,,,,,,,,,,,,,,,,,,,,,,,,,,,,,\n",
      "########\n",
      "*******\n",
      "question: What is a large group of human beings?\n",
      "answer: civilisation\n",
      "choices: ['an infestation', 'civilisation', 'homes', 'graveyard', 'spacecraft']\n",
      "common expl list: ['Civilisation is generally used to refer to large populations of humans living together in a single area, responding to collective needs.']\n"
     ]
    },
    {
     "name": "stderr",
     "output_type": "stream",
     "text": [
      "\r",
      " 11%|██████████████████                                                                                                                                             | 112/986 [5:16:39<34:31:24, 142.20s/it]"
     ]
    },
    {
     "name": "stdout",
     "output_type": "stream",
     "text": [
      "generated explanation: <pad> <extra_id_0> A large group of human beings is a group of human beings. A group of human beings is a group of people who come together to live together in harmony and pursue their own interests and passions. Civilisation is the practice of living together in a community or community of people in order to achieve a common goal or purpose. It is a social system that is characterized by a shared culture and language, and it is this culture that is responsible for defining who we are as a society and how we live together as a common language or common language, or cultural differences between groups or cultures and the evolution of the human race.<extra_id_1> </s>\n",
      "########\n",
      "*******\n",
      "question: What  is likely to happen to ice in the sun?\n",
      "answer: become water\n",
      "choices: ['cool water', 'cool drink', 'cool off', 'nothing', 'become water']\n",
      "common expl list: ['because hot melts cold, ice will melt if kept in the sun.', 'When ice is exposed to the sun, it melts, becoming water.']\n"
     ]
    },
    {
     "name": "stderr",
     "output_type": "stream",
     "text": [
      "\r",
      " 11%|██████████████████▏                                                                                                                                            | 113/986 [5:17:59<29:57:55, 123.57s/it]"
     ]
    },
    {
     "name": "stdout",
     "output_type": "stream",
     "text": [
      "generated explanation: <pad> <extra_id_0> Ice, when exposed to the sun, is likely to melt and become water. Water has the properties of both solid and liquid and is often used in cooking, as well as in other products. When ice is exposed to the sun, it can become water and thereby lose its freezing ability. As a result, it loses its ability to freeze and become water. As a result, it melts and becomes water, and is then used in other products. As water is a natural substance, it has the properties of both solid and liquid forms, and is likely that the ice will become melted and therefore, and will likely become more likely than not be lost.<extra_id_1> </s>\n",
      "########\n",
      "*******\n",
      "question: Where can travellers pull off the road to stretch their legs?\n",
      "answer: rest area\n",
      "choices: ['rest area', 'airport', 'train station', 'come home', 'bus depot']\n",
      "common expl list: ['Rest areas generally allow travelers to spend time away from the roads, which are generally connecting points to large cities and particular highway names.', 'Rest areas are publicly provided spaces for drivers to get out of their cars for a break. Train stations, bus depots, come home, and airports are all places where one might catch a bus, train, taxi, or plane, or have arrived', 'Rest areas are places where people can pull off the road to stretch their legs, and they are often located near gas stations, which are frequented by travellers.']\n"
     ]
    },
    {
     "name": "stderr",
     "output_type": "stream",
     "text": [
      "\r",
      " 12%|██████████████████▍                                                                                                                                            | 114/986 [5:19:27<27:18:23, 112.73s/it]"
     ]
    },
    {
     "name": "stdout",
     "output_type": "stream",
     "text": [
      "generated explanation: <pad> <extra_id_0> It is not common for people to stop and rest in rest areas. Rest areas are places that have been designated as places where people can go to relax and enjoy the peace and quiet of the outdoors. Rest areas typically have seating areas and tables, and they provide a comfortable place for people to sit and read a newspaper or magazine. Rest areas are also known as pit stops, and they allow travellers to take a break from the road to stretch their legs and enjoy the view. Rest areas often have seating areas and tables, and they provide a safe and secure place to go.<extra_id_1> </s>\n",
      "########\n",
      "*******\n",
      "question: A poor family has no decorations in December, what would make a great gift?\n",
      "answer: christmas tree\n",
      "choices: ['food', 'specialty store', 'christmas tree', 'department store', 'christmas stocking']\n",
      "common expl list: ['In December, most families tend to put up christmas decorations. A christmas tree would make a good gift for a poor family.', 'The family is poor, so we might assume that they have nothing for decoration for their Christmas season. To help fix this, a Christmas tree would be the greatest gift.', 'A christmas tree is a traditional decoration for christmas.']\n"
     ]
    },
    {
     "name": "stderr",
     "output_type": "stream",
     "text": [
      "\r",
      " 12%|██████████████████▋                                                                                                                                             | 115/986 [5:20:03<21:42:46, 89.74s/it]"
     ]
    },
    {
     "name": "stdout",
     "output_type": "stream",
     "text": [
      "generated explanation: <pad> <extra_id_0> If a poor family has no decorations for the holidays, a gift of a Christmas tree would be a great gift to give them. Trees are great holiday decorations that provide a warm atmosphere and a sense of family togetherness.<extra_id_1> </s>\n",
      "########\n",
      "*******\n",
      "question: Where would you buy jeans in a place with a large number of indoor merchants?\n",
      "answer: shopping mall\n",
      "choices: ['shopping mall', 'laundromat', 'hospital', 'clothing store', 'thrift store']\n",
      "common expl list: ['Since malls (or indoor shopping centers in general) contain numerous merchants, including clothing stores, you could purchase jeans in one such store.', 'Shopping malls usually contain a large variety of stores, including stores that sell clothes and jeans.', 'Shopping malls often have a large number of stores, including clothing stores.']\n"
     ]
    },
    {
     "name": "stderr",
     "output_type": "stream",
     "text": [
      "\r",
      " 12%|██████████████████▊                                                                                                                                             | 116/986 [5:21:19<20:42:03, 85.66s/it]"
     ]
    },
    {
     "name": "stdout",
     "output_type": "stream",
     "text": [
      "generated explanation: <pad> <extra_id_0> A place where you would buy jeans is a shopping mall. A shopping mall is a large indoor building that is located in a city or town. A shopping mall is a place where merchants sell goods and services to customers in a variety of stores, restaurants, and other types of stores. In a shopping mall, customers can browse through a variety of stores and services, such as clothing, jewelry, home goods, and more. There are many different types of shopping malls, and each one has its own unique characteristics and offerings.<extra_id_1> </s>\n",
      "########\n",
      "*******\n",
      "question: If I wanted to get some oxygen, what will I get it from?\n",
      "answer: air\n",
      "choices: ['the sky', 'air', 'earth', 'space shuttle', 'water']\n",
      "common expl list: ['Oxygen is found in the air.']\n"
     ]
    },
    {
     "name": "stderr",
     "output_type": "stream",
     "text": [
      "\r",
      " 12%|██████████████████▉                                                                                                                                             | 117/986 [5:22:57<21:35:09, 89.42s/it]"
     ]
    },
    {
     "name": "stdout",
     "output_type": "stream",
     "text": [
      "generated explanation: <pad> <extra_id_0> If you wanted to get some oxygen, you would need to breathe air. Air is a gas that is naturally occurring in the air. It is a colorless, odorless fluid that is found in all forms of life, and it can be found in many different forms, including as part of the human body. When you breathe in, you are taking in oxygen, which is a very important part of our bodies' systems and functions. Oxygen is a very important part of our bodies and is essential for maintaining healthy and active life. It is therefore, and therefore, in order to get some oxygen from the air around us. We are able to get our bodies and our bodies. Oxygen is a key element that is required to maintain our health and fitness.<extra_id_1> </s>\n",
      "########\n",
      "*******\n",
      "question: What happens after having food too much?\n",
      "answer: getting fat\n",
      "choices: ['being full', 'laziness', 'weight gain', 'getting fat', 'will not starve']\n",
      "common expl list: ['Eating too much food causes one to gain weight, and thus become fat.', 'People will become fat, and even obese from eating too much food.', 'Eating too much food causes one to become obese.']\n"
     ]
    },
    {
     "name": "stderr",
     "output_type": "stream",
     "text": [
      "\r",
      " 12%|███████████████████▏                                                                                                                                            | 118/986 [5:23:06<15:43:50, 65.24s/it]"
     ]
    },
    {
     "name": "stdout",
     "output_type": "stream",
     "text": [
      "generated explanation: <pad> <extra_id_0> Getting too much of anything can lead to weight gain.<extra_id_1> </s>\n",
      "########\n",
      "*******\n",
      "question: It was the first time they had met their new niece, it was good to have everybody together at the annual what?\n",
      "answer: family reunion\n",
      "choices: [\"brother's house\", 'family picture book', 'family tree', 'family reunion', 'book']\n",
      "common expl list: ['A family reunion is called a family reunion because this is where all of the family members gather for the re-union.']\n"
     ]
    },
    {
     "name": "stderr",
     "output_type": "stream",
     "text": [
      "\r",
      " 12%|███████████████████▎                                                                                                                                            | 119/986 [5:23:30<12:46:06, 53.02s/it]"
     ]
    },
    {
     "name": "stdout",
     "output_type": "stream",
     "text": [
      "generated explanation: <pad> <extra_id_0> If it was the first time meeting their new niece, it was likely that she would be nervous. Being around new people, especially when they are your first time meeting them, can be a source of excitement and joy.<extra_id_1> </s>\n",
      "########\n",
      "*******\n",
      "question: If you're expressing yourself in a public forum, what may you experience?\n",
      "answer: stage fright\n",
      "choices: ['danger', 'embarrassment', 'stage fright', 'getting arrested', 'blank stares']\n",
      "common expl list: ['Stage fright is the feeling of embarrassment or nervousness at the thought of being in front of people, and being on stage for a performance is a good example of a place where one often experiences stage fright. In such a case, their performance might be', 'A common example of expressing oneself in public is on stage. Members of an audience may stare and become bored, and at worst they may hiss or boo.', 'If you are expressing yourself in a public forum, you may experience stage fright, which is the fear of being embarrassed in front of a large audience.']\n"
     ]
    },
    {
     "name": "stderr",
     "output_type": "stream",
     "text": [
      "\r",
      " 12%|███████████████████▌                                                                                                                                             | 120/986 [5:23:42<9:44:43, 40.51s/it]"
     ]
    },
    {
     "name": "stdout",
     "output_type": "stream",
     "text": [
      "generated explanation: <pad> <extra_id_0> Playing a musical instrument can be a lot of fun, and it can also be very relaxing.<extra_id_1> </s>\n",
      "########\n",
      "*******\n",
      "question: He was eating too much while no exercising enough, what did he suffer as a result?\n",
      "answer: gain weight\n",
      "choices: ['hungry', 'gas', 'obesity', 'gain weight', 'feeling full']\n",
      "common expl list: ['If you eat more than you burn, you gain weight.', 'Excessive food consumption leads to accumulation of fat, which then results in a higher body weight, i.e., weight gain.', \"If you eat too much and don't exercise enough, you will gain weight.\"]\n"
     ]
    },
    {
     "name": "stderr",
     "output_type": "stream",
     "text": [
      "\r",
      " 12%|███████████████████▋                                                                                                                                            | 121/986 [5:24:54<12:02:34, 50.12s/it]"
     ]
    },
    {
     "name": "stdout",
     "output_type": "stream",
     "text": [
      "generated explanation: <pad> <extra_id_0> If a person is overweight and does not exercise, they may suffer from weight gain. Weight gain is a result of a person’s inability to control their eating habits and exercise regularly. As a result, they may suffer from increased hunger and a desire to eat more food. This may result in them gaining weight and experiencing physical discomfort. Weight gain can also cause physical discomfort and may interfere with normal daily activities such as walking and playing sports. In addition, it is possible for someone who is overweight to experience physical discomfort and suffer from health problems such as diabetes, heart disease, and diabetes.<extra_id_1> </s>\n",
      "########\n",
      "*******\n",
      "question: Randy was not doing housework.   His wife was raising two children, and this only increased her workload. It put her under a lot of stress.  What might this lead to?\n",
      "answer: arguments\n",
      "choices: ['asthma', 'more', 'boredom', 'headache', 'arguments']\n",
      "common expl list: ['Stress is often related to family life. Being under stress, the wife might verbally lash out at her husband, which could potentially lead to arguments']\n"
     ]
    },
    {
     "name": "stderr",
     "output_type": "stream",
     "text": [
      "\r",
      " 12%|███████████████████▊                                                                                                                                            | 122/986 [5:26:06<13:35:40, 56.64s/it]"
     ]
    },
    {
     "name": "stdout",
     "output_type": "stream",
     "text": [
      "generated explanation: <pad> <extra_id_0> When Randy was not doing housework, it might lead to arguments. His wife was raising four children, and she was very busy with her work. As a result, her stress level was high, and she was feeling very stressed. This stressed her out, and it may have led to arguments. Stress can lead to various problems, such as arguments over money, and it can lead to physical problems, such as a sore throat or chest infection. Stress can also lead to mental health problems, such as depression. Stress can also cause physical symptoms, such as a person's emotional response to stressful situations.<extra_id_1> </s>\n",
      "########\n",
      "*******\n",
      "question: Where can you learn about a ferret with special abilities far beyond normal ferrets?\n",
      "answer: comic book\n",
      "choices: ['comic book', 'out of doors', 'great britain', 'redwall', 'north carolina']\n",
      "common expl list: ['ferrets are lovable pets that occasionally pop up in comic or animated shows and movies. Occasionally a ferret is rodent, but more often they are the companion of a hero.']\n"
     ]
    },
    {
     "name": "stderr",
     "output_type": "stream",
     "text": [
      "\r",
      " 12%|███████████████████▉                                                                                                                                            | 123/986 [5:26:45<12:16:16, 51.19s/it]"
     ]
    },
    {
     "name": "stdout",
     "output_type": "stream",
     "text": [
      "generated explanation: <pad> <extra_id_0> A comic book is a type of book that is published in a magazine or on the Internet. Comic books are written by professional writers and artists and feature stories that are intended to entertain and inform readers. They often feature characters from a variety of backgrounds, including celebrities, sports figures, and other famous figures.<extra_id_1> </s>\n",
      "########\n",
      "*******\n",
      "question: When people have guests over, what do they often do for their guests?\n",
      "answer: cook food\n",
      "choices: ['talk to each other', 'learn from each other', 'demand justice', 'cook food', 'share food']\n",
      "common expl list: [\"People who have guests (guests of any kind) over tend to cook them food. The food can either be pre-cooked, and ready to be served upon the guest's arrival, or consumed while the two of them have a conversation.\", 'People often cook food for their guests.', \"It's common to cook food for guests, which can feed everyone.\", \"When people have guests over, it's common for them to make food for their guests.\", \"People often prepare and share food because it's a way to welcome and appreciate each other.\"]\n"
     ]
    },
    {
     "name": "stderr",
     "output_type": "stream",
     "text": [
      "\r",
      " 13%|████████████████████                                                                                                                                            | 124/986 [5:28:05<14:21:19, 59.95s/it]"
     ]
    },
    {
     "name": "stdout",
     "output_type": "stream",
     "text": [
      "generated explanation: <pad> <extra_id_0> When people have guests over, they often prepare food for the guests. Food is a common source of nourishment and comfort for many people, and it is often the main focus of their attention and attention when they are with their friends and family. When people have guests over, they often prepare food for the guests in order to provide them with a warm, welcoming environment and to provide them with the comforts of home. However, when people have guests over, they may also choose to serve other types of food, such as drinks, snacks, or a meal. If they are preparing food, they may also choose to prepare a meal for themselves and the guests.<extra_id_1> </s>\n",
      "########\n",
      "*******\n",
      "question: Talking to someone is pointless if they're doing what?\n",
      "answer: not listening\n",
      "choices: ['dry mouth', 'whispering', 'being heard', 'eye contact', 'not listening']\n",
      "common expl list: ['To be engaged in a conversation--particularly a one-on-one conversation, both people must be listening attentively.', 'People who are not listening to you will obviously not be able to understand your communication.']\n"
     ]
    },
    {
     "name": "stderr",
     "output_type": "stream",
     "text": [
      "\r",
      " 13%|████████████████████▎                                                                                                                                           | 125/986 [5:29:15<15:03:55, 62.99s/it]"
     ]
    },
    {
     "name": "stdout",
     "output_type": "stream",
     "text": [
      "generated explanation: <pad> <extra_id_0> It is pointless to talk to someone if they're not listening. Listening is the act of paying attention to what someone is saying or doing. It is important to remember that listening is a two-way process, and it involves actively paying attention to the other person. When someone is not listening, they are either not paying attention to what you are saying or are not giving you their full attention. This can lead to misunderstandings, misunderstandings, or even worse, rude behavior. Therefore, it is important to pay attention to the speaker's voice or body language.<extra_id_1> </s>\n",
      "########\n",
      "*******\n",
      "question: If you are enjoying sunshine on the beach, what do you likely have views of?\n",
      "answer: sea\n",
      "choices: ['windowsill', 'sunbathers', 'disneyland', 'sea', 'summer']\n",
      "common expl list: ['Seashores usually have views of the water (i.e., the \"sea\").', \"The beach is a place where people go to enjoy the sun, and so it's likely that the beach would have views of the sea.\", 'To sunbathe, one would likely be found on a beach, where one would likely see the sea before anything else.']\n"
     ]
    },
    {
     "name": "stderr",
     "output_type": "stream",
     "text": [
      "\r",
      " 13%|████████████████████▍                                                                                                                                           | 126/986 [5:29:31<11:39:08, 48.78s/it]"
     ]
    },
    {
     "name": "stdout",
     "output_type": "stream",
     "text": [
      "generated explanation: <pad> <extra_id_0> A beach is a place where water meets land. It is a place where people go to relax and enjoy the warm weather.<extra_id_1> </s>\n",
      "########\n",
      "*******\n",
      "question: What does an actor do while acting?\n",
      "answer: pretend\n",
      "choices: ['branch out', 'eat curry', 'wear costume', 'pretend', 'sing songs']\n",
      "common expl list: ['Actors pretend certain things. While acting, they might pretend to be in a different location by going somewhere close to a stage feed. Actors might also pretend to possess particular materials while on stage by carrying props.']\n"
     ]
    },
    {
     "name": "stderr",
     "output_type": "stream",
     "text": [
      "\r",
      " 13%|████████████████████▍                                                                                                                                          | 127/986 [5:34:08<28:01:24, 117.44s/it]"
     ]
    },
    {
     "name": "stdout",
     "output_type": "stream",
     "text": [
      "generated explanation: <pad> <extra_id_0> When an actor is acting, they are essentially playing a part that they have been hired to play. They typically wear a variety of clothing and make-up in order to convey a specific image or persona. They may also be required to perform certain tasks, such as delivering a speech, speaking a line, or moving around a set of keys. The act of acting requires them to be physically fit and in good health in order to be able to sustain the emotional and physical demands of the role. If an actor is a professional, they may also work with a script to convey their knowledge and experience in order to be able to accurately portray a character or story, such as a character, to the audience to understand the circumstances, or to convey a certain emotion, such as a character, to be able to understand the storyline, or to convey a storyline or dialogue, or to convey a character, by a character'sightly evoke certain emotions, knowledge of their character, or to convey a particular scene, or to actor, acting is considered to be acting a certain amount of emotional, or acting recurring, broader, or to act a certain amount of recurring events, or acting a broader, emotional, or to act in order to act a certain acting characterization is important or characterization, or to use, or to a certain amount of emotional or a certain type of acting experience, acting, or to be a certain a certain types of a recognizable enough to be a particular a certain a certain a certain a certain kind of a certain, a certain a broader, or a certain a certain a certain<extra_id_15>, a a a a certain<extra_id_16>, or a specific a certain a representative of a certain<extra_id_16>, or a certain degree, of a certain a a certain pheno<extra_id_17>, and acting a certain level of emotion<extra_id_16>, or a real-, or ada recurring, of a certain a certain<extra_id_16> a certain level of emotional or more subtle a person, of what is being addressed by an actor is, or a certain<extra_id_17>, or a certain types of a certain kind of essentially, a certain<extra_id_16>., or a real-time\n",
      "########\n",
      "*******\n",
      "question: Where is a ring binder likely to contain budgets?\n",
      "answer: office\n",
      "choices: ['office', 'notebook', 'school', 'stationary shop', 'desk']\n",
      "common expl list: ['A ring binder is likely to contain budgets in an office, as budgets are often prepared by office workers.', 'An office setting is the most likely place where a manager would keep a collection of budgets.']\n"
     ]
    },
    {
     "name": "stderr",
     "output_type": "stream",
     "text": [
      "\r",
      " 13%|████████████████████▋                                                                                                                                          | 128/986 [5:35:56<27:16:00, 114.41s/it]"
     ]
    },
    {
     "name": "stdout",
     "output_type": "stream",
     "text": [
      "generated explanation: <pad> <extra_id_0> A ring binder is likely to contain budgets. A budget is a set of financial documents, such as a list of expenses or a schedule of revenues and expenditures that are used to determine how much money should be allocated to various categories in order to achieve a specific goal or objective. Budgets are used to track and manage a company’s finances and to track progress toward achieving a specific goal or objective. In order to do this, the budgeting process must consider a variety of factors, such as the budget, as well as any other documents, such as a desk, a desk, or other office equipment. If a budget is used in an office, it is likely that it contains budget information, such as a ring binder, or other similar document, such as a general ledger, or other financial statements, in order to organize and track<extra_id_1> </s>\n",
      "########\n",
      "*******\n",
      "question: Where do you go when you're about to board a vehicle on railing?\n",
      "answer: railway station\n",
      "choices: ['railway station', 'deck', 'flight of stairs', 'porch', 'bus station']\n",
      "common expl list: ['Trains and busses both commonly make use of rail transportation to facilitate their travel. Railway station is the station they are staking out to board at. Thus, railway station is where you would go if you need to board a vehicle on a', 'Railway stations are where you board trains, which are often on rails.']\n"
     ]
    },
    {
     "name": "stderr",
     "output_type": "stream",
     "text": [
      "\r",
      " 13%|████████████████████▉                                                                                                                                           | 129/986 [5:36:13<20:19:14, 85.36s/it]"
     ]
    },
    {
     "name": "stdout",
     "output_type": "stream",
     "text": [
      "generated explanation: <pad> <extra_id_0> A train is a vehicle that runs on tracks. Rail tracks are used for the safe and efficient transportation of goods and passengers between points on land and sea.<extra_id_1> </s>\n",
      "########\n",
      "*******\n",
      "question: Where can I go to see a really big toy balloon floating at the top of a dome?\n",
      "answer: circus\n",
      "choices: ['parade', 'circus', 'amusement park', 'birthday party', 'magic show']\n",
      "common expl list: ['Circuses often have big inflatables on the top dome of a tent; inside, they could house various attractions such as clowns, acts, games, rides, food, drinks, etc.']\n"
     ]
    },
    {
     "name": "stderr",
     "output_type": "stream",
     "text": [
      "\r",
      " 13%|█████████████████████                                                                                                                                           | 130/986 [5:36:24<14:59:26, 63.04s/it]"
     ]
    },
    {
     "name": "stdout",
     "output_type": "stream",
     "text": [
      "generated explanation: <pad> <extra_id_0> A circus is a place where people go to see performers and exhibits.<extra_id_1> </s>\n",
      "########\n",
      "*******\n",
      "question: They got to the door and it was locked, he reached in his jeans what to retrieve the key?\n",
      "answer: pocket\n",
      "choices: ['pocket', 'bus depot', 'lock', 'purse', 'front door']\n",
      "common expl list: ['Most people keep house keys in their pocket.', 'People often keep their keys in their pockets.']\n"
     ]
    },
    {
     "name": "stderr",
     "output_type": "stream",
     "text": [
      "\r",
      " 13%|█████████████████████▎                                                                                                                                          | 131/986 [5:36:38<11:27:18, 48.23s/it]"
     ]
    },
    {
     "name": "stdout",
     "output_type": "stream",
     "text": [
      "generated explanation: <pad> <extra_id_0> A ballerina's skirt is made of tight, fitted fabric, and is typically red with white trim.<extra_id_1> </s>\n",
      "########\n",
      "*******\n",
      "question: The car was overheating, where was it located?\n",
      "answer: in phoenix\n",
      "choices: ['airport', \"neighbor's house\", 'in phoenix', 'repair shop', 'street corner']\n",
      "common expl list: ['Phoenix is a hot place, and cars often overheat there.']\n"
     ]
    },
    {
     "name": "stderr",
     "output_type": "stream",
     "text": [
      "\r",
      " 13%|█████████████████████▍                                                                                                                                          | 132/986 [5:37:06<10:01:11, 42.24s/it]"
     ]
    },
    {
     "name": "stdout",
     "output_type": "stream",
     "text": [
      "generated explanation: <pad> <extra_id_0> If the car was overheating, it is likely that it was located in phoenix, Arizona. Phoenix is a city located in the state of Arizona. It is the third largest city in Arizona, after Los Angeles and Phoenix.<extra_id_1> </s>\n",
      "########\n",
      "*******\n",
      "question: Where is likely to have a walk in type wardrobe?\n",
      "answer: mansion\n",
      "choices: ['recreational vehicle', 'clothes cupboard', 'house', 'mansion', 'bedroom']\n",
      "common expl list: ['A walk-in wardrobe is a large wardrobe that is usually found in a mansion.', 'As I think of scenarios, the result I expect the most is that of a person with a lot of clothes, or a clothing designer, living in a mansion; these people might have the luxury of a walk in wardrobe.', 'A walk in wardrobe is a large type of closet that could be found in a mansion.']\n"
     ]
    },
    {
     "name": "stderr",
     "output_type": "stream",
     "text": [
      "\r",
      " 13%|█████████████████████▋                                                                                                                                           | 133/986 [5:37:18<7:51:32, 33.17s/it]"
     ]
    },
    {
     "name": "stdout",
     "output_type": "stream",
     "text": [
      "generated explanation: <pad> <extra_id_0> People who are overweight often want to lose weight, and they go to the gym to do so.<extra_id_1> </s>\n",
      "########\n",
      "*******\n",
      "question: How bad is the punishment for someone who is over indulgent?\n",
      "answer: severe\n",
      "choices: ['severe', 'harsh', 'hard', 'strict', 'self denying']\n",
      "common expl list: ['Overindulgence in anything is bad, possibly leading to lethargy, poor health, overspending, and the like. As a result of this, a punishment for a person who is over-indulgent could be severe.']\n"
     ]
    },
    {
     "name": "stderr",
     "output_type": "stream",
     "text": [
      "\r",
      " 14%|█████████████████████▉                                                                                                                                           | 134/986 [5:37:43<7:15:39, 30.68s/it]"
     ]
    },
    {
     "name": "stdout",
     "output_type": "stream",
     "text": [
      "generated explanation: <pad> <extra_id_0> If someone is over indulgent, they are liable to be punished severely. This can include being taken away from food, having their property taken away, or having their money seized by the government.<extra_id_1> </s>\n",
      "########\n",
      "*******\n",
      "question: She was going to bed at 11 at night, what was she looking to do?\n",
      "answer: falling asleep\n",
      "choices: ['falling asleep', 'relaxing', 'rest', 'dreaming of', 'laziness']\n",
      "common expl list: ['Falling asleep is often a desired result when going to bed.', \"People go to bed when they're tired and want to sleep\"]\n"
     ]
    },
    {
     "name": "stderr",
     "output_type": "stream",
     "text": [
      "\r",
      " 14%|██████████████████████                                                                                                                                           | 135/986 [5:38:51<9:52:13, 41.75s/it]"
     ]
    },
    {
     "name": "stdout",
     "output_type": "stream",
     "text": [
      "generated explanation: <pad> <extra_id_0> If she was going to bed at 11, she was looking for a way to relax and wind down. Relaxation can be achieved through a variety of different activities, such as reading, watching television, or listening to music. These activities can help to reduce stress and improve sleep quality. As a result of the above, when a person goes to bed at 11 p.m., they may experience a lack of energy and drift off to sleep. This could lead to insomnia or sleep apnea, which is a state of relaxation and sleepiness.<extra_id_1> </s>\n",
      "########\n",
      "*******\n",
      "question: A company with the moniker of Big Sky Excavation would probably be found where?\n",
      "answer: montana\n",
      "choices: ['a forest', 'city', 'egypt', 'montana', 'desert']\n",
      "common expl list: ['Mountain ranges are often called \"big sky\"s. The term is popular for companies in Montana, a state with lots of mountians, including two major mountain ranges.']\n"
     ]
    },
    {
     "name": "stderr",
     "output_type": "stream",
     "text": [
      "\r",
      " 14%|██████████████████████                                                                                                                                          | 136/986 [5:40:03<12:03:28, 51.07s/it]"
     ]
    },
    {
     "name": "stdout",
     "output_type": "stream",
     "text": [
      "generated explanation: <pad> <extra_id_0> A company named Big Sky Excavating is likely to be found in the state of Montana. The state of montana is located in the western United States, and is known for its beautiful mountains, wide open spaces, and friendly people. The name Big Sky Excavating is a company that is based in the state of Montana and offers a variety of services and products, including mining, drilling, and excavation. The company's services and products include providing access to underground storage tanks, underground tunnels, and other underground facilities, as well as other services and services.<extra_id_1> </s>\n",
      "########\n",
      "*******\n",
      "question: Which horseman of the apocalypse is often depicted next to death?\n",
      "answer: war\n",
      "choices: ['battlefield', 'the healer.', 'funeral', 'war', 'hospital']\n",
      "common expl list: ['A time of war is also often associated with someone dying.']\n"
     ]
    },
    {
     "name": "stderr",
     "output_type": "stream",
     "text": [
      "\r",
      " 14%|██████████████████████▏                                                                                                                                         | 137/986 [5:41:21<13:53:07, 58.88s/it]"
     ]
    },
    {
     "name": "stdout",
     "output_type": "stream",
     "text": [
      "generated explanation: <pad> <extra_id_0> The horseman of the apocalypse is often depicted next to death. Death is often depicted as a violent act, such as murder, suicide, or assault. The horseman represents conflict and is often depicted as a man in battle. War is a major source of conflict and violence in many cultures, and it is often associated with violence and death. It is not clear what exactly causes death, but it is generally believed that it is the act of fighting that causes the most deaths, and therefore, with the horseman of the seven signs of the seven seals represent the seven deadly arts and sciences.<extra_id_1> </s>\n",
      "########\n",
      "*******\n",
      "question: What could be used to write with a steel pen?\n",
      "answer: hand\n",
      "choices: ['warehouse', 'arm', 'hand', 'desk drawer', 'veterinary office']\n",
      "common expl list: ['Using a steel pen requires someone to hold it, and we associate writing with hands. Powder can be used with steel pens as a \"contrast medium.', 'you write with a steel pen using your hand.']\n"
     ]
    },
    {
     "name": "stderr",
     "output_type": "stream",
     "text": [
      "\r",
      " 14%|██████████████████████▍                                                                                                                                         | 138/986 [5:42:55<16:22:55, 69.55s/it]"
     ]
    },
    {
     "name": "stdout",
     "output_type": "stream",
     "text": [
      "generated explanation: <pad> <extra_id_0> A steel pen is a type of writing instrument that is typically carried in a wallet or purse and is attached to a belt. The purpose of a steel pen is to allow the user to write with a pen or pencil while being protected from harm. The typical steel pen is made of a variety of materials, including steel, plastic, and rubber, and can be used for a variety of purposes, including letter writing, note taking, and gaming. The typical steel pen is typically cylindrical in shape, and it is designed to be used in a variety of ways, including handwriting, or a computerized device that is used in a computerized system, such as a tablet or laptop computer, or even a handwriting device, such as a tablet or laptop computer.<extra_id_1> </s>\n",
      "########\n",
      "*******\n",
      "question: I needed to find out how to contact a person with a certain name, where should I look?\n",
      "answer: phone book\n",
      "choices: ['directory', 'michigan', 'roster', 'phone book', 'certificate']\n",
      "common expl list: ['A phone book is likely to have the phone numbers of nearby people.', 'Phone books are usually a good source for finding phone numbers to call other people.', \"Phone books are used to find people's phone numbers.\", 'People are listed in phone books for easy access by callers.']\n"
     ]
    },
    {
     "name": "stderr",
     "output_type": "stream",
     "text": [
      "\r",
      " 14%|██████████████████████▌                                                                                                                                         | 139/986 [5:43:56<15:45:46, 67.00s/it]"
     ]
    },
    {
     "name": "stdout",
     "output_type": "stream",
     "text": [
      "generated explanation: <pad> <extra_id_0> If I needed to find out how to contact a certain person with a certain name, I would look in the phone book. The phone book is a publication that lists telephone numbers and the addresses of individuals. It is often used as a source of information about a person's location and contacts, and it is often used as a means of locating people who live in a certain area or who have recently moved there. The phone book contains information about local phone numbers and addresses, as well as information about nearby cities and towns.<extra_id_1> </s>\n",
      "########\n",
      "*******\n",
      "question: What is important for a couple to do?\n",
      "answer: communicate\n",
      "choices: ['live together', 'row about', 'plan to marry', 'communicate', 'marry each other']\n",
      "common expl list: ['Couples who communicate well are more likely to stay together, and thus, it is important for a couple to communicate.', 'Communication is a key part of a healthy relationship and - often equally as important - is the commitment to communicate effectively.', \"To make a relationship work, it's very important to communicate with each other.\"]\n"
     ]
    },
    {
     "name": "stderr",
     "output_type": "stream",
     "text": [
      "\r",
      " 14%|██████████████████████▋                                                                                                                                         | 140/986 [5:45:04<15:48:51, 67.29s/it]"
     ]
    },
    {
     "name": "stdout",
     "output_type": "stream",
     "text": [
      "generated explanation: <pad> <extra_id_0> It is important for a couple to communicate in order to establish and maintain a healthy relationship. Communication is the act of exchanging written or spoken words between two people, and it is the basis for any relationship. In order to effectively communicate with each other, it is important for a couple to be able to listen to each other’s perspectives, feelings, and needs, and to be able to make decisions together that will benefit their relationship. When a couple is in a healthy relationship, they should try to find ways to understand each other, find ways to enhance their relationship.<extra_id_1> </s>\n",
      "########\n",
      "*******\n",
      "question: The botanist knew the plant was living, what did he observe that led him to know that?\n",
      "answer: respiration\n",
      "choices: ['interaction', 'death', 'respiration', 'expiration', 'chlorophyll']\n",
      "common expl list: [\"The teacher commonly noted that plants give off oxygen as a result of respiration, which helps fuel their energy and growth. This was evidence of a plant's life.\"]\n"
     ]
    },
    {
     "name": "stderr",
     "output_type": "stream",
     "text": [
      "\r",
      " 14%|██████████████████████▉                                                                                                                                         | 141/986 [5:46:23<16:36:28, 70.76s/it]"
     ]
    },
    {
     "name": "stdout",
     "output_type": "stream",
     "text": [
      "generated explanation: <pad> <extra_id_0> If a botanist knew the plant was living, he would have observed respiration as a sign that the plant was living. Respiration is the process by which plants get their energy from consuming carbon dioxide and other organic substances. As the plant grows, it produces more oxygen than it takes in through photosynthesis. As a result, the plant is able to sustain itself by consuming carbon dioxide and other organic compounds. In order for the plant to remain alive, it must produce enough oxygen to sustain its life and to carry out its environment. If the plant is living, it is important for it to have a healthy and vibrant environment. A plant’s environment.<extra_id_1> </s>\n",
      "########\n",
      "*******\n",
      "question: What is it called when teens are together not doing anything in particular?\n",
      "answer: hang out\n",
      "choices: ['smoke', 'homework', 'volunteer', 'party', 'hang out']\n",
      "common expl list: ['Hanging out\" is used to describe events where people are socializing, doing nothing in particular. Other events include hanging out with a purpose (doing homework, studying outside, going shopping, etc.).', 'Hang out is a term that could be used for teens hanging out together, typically with no particular agenda.']\n"
     ]
    },
    {
     "name": "stderr",
     "output_type": "stream",
     "text": [
      "\r",
      " 14%|███████████████████████                                                                                                                                         | 142/986 [5:47:20<15:38:44, 66.73s/it]"
     ]
    },
    {
     "name": "stdout",
     "output_type": "stream",
     "text": [
      "generated explanation: <pad> <extra_id_0> When teens are together not doing anything, it is called hanging out. Hanging out is a term used to describe a situation or a behavior that involves teens being together and doing nothing. It is a common occurrence for teens to hang out with friends and hang out without doing anything specific. Teens often meet up with friends to hang out and talk about their days, their interests, and hobbies. Teens may also hang out together to meet new people, exchange ideas, and plan future plans.<extra_id_1> </s>\n",
      "########\n",
      "*******\n",
      "question: The saw was not necessary for car repair, so what wasn't it included with during pucrhase?\n",
      "answer: tool kit\n",
      "choices: ['tool shed', 'tool box', 'tool kit', 'hardware store', 'toolbox']\n",
      "common expl list: ['A saw is another name for a cutting tool, but they are often not included with a tool kit, because a kit is used for other repair needs (bolts, screws, bindings, etc.), and a saw is not required for a car repair']\n"
     ]
    },
    {
     "name": "stderr",
     "output_type": "stream",
     "text": [
      "\r",
      " 15%|███████████████████████▏                                                                                                                                        | 143/986 [5:47:28<11:28:53, 49.03s/it]"
     ]
    },
    {
     "name": "stdout",
     "output_type": "stream",
     "text": [
      "generated explanation: <pad> <extra_id_0> The tool kit was not included with the tool kit during the play.<extra_id_1> </s>\n",
      "########\n",
      "*******\n",
      "question: Where will my kid put their coin in their room?\n",
      "answer: piggy bank\n",
      "choices: ['piggy bank', 'wishing well', 'parking meter', 'under pillow', 'change purse']\n",
      "common expl list: ['Piggy banks are often used to store coins.', 'Kids commonly save small amounts of money for later use, and these savings are often kept in piggy banks.']\n"
     ]
    },
    {
     "name": "stderr",
     "output_type": "stream",
     "text": [
      "\r",
      " 15%|███████████████████████▎                                                                                                                                        | 144/986 [5:48:03<10:31:01, 44.97s/it]"
     ]
    },
    {
     "name": "stdout",
     "output_type": "stream",
     "text": [
      "generated explanation: <pad> <extra_id_0> A piggy bank is a container that is typically filled with small items, such as pennies, nickels, dimes, quarters, and dimes. These items are often stored in a child's room and are often used for storing small amounts of money, such as change, quarters, and bills.<extra_id_1> </s>\n",
      "########\n",
      "*******\n",
      "question: Where is a fire extinguisher likely to be found behind the seat?\n",
      "answer: school bus\n",
      "choices: ['school bus', 'house', 'garden', 'stairwell', 'garage']\n",
      "common expl list: ['Fire extinguishers are required on public-transit vehicles, such as school buses.']\n"
     ]
    },
    {
     "name": "stderr",
     "output_type": "stream",
     "text": [
      "\r",
      " 15%|███████████████████████▋                                                                                                                                         | 145/986 [5:48:25<8:50:21, 37.84s/it]"
     ]
    },
    {
     "name": "stdout",
     "output_type": "stream",
     "text": [
      "generated explanation: <pad> <extra_id_0> A fire extinguisher is likely to be found behind the seat of a school bus. School buses are large, yellow, and have a black exterior and a red interior.<extra_id_1> </s>\n",
      "########\n",
      "*******\n",
      "question: His therapist said he had to get out there and begin socialising, it was the only was to start what?\n",
      "answer: friendships\n",
      "choices: ['conflicts', 'having fun', 'jealousy', 'getting out there', 'friendships']\n",
      "common expl list: ['His therapist said that he needed to speak to people if he wanted to be less withdrawn. This would help him to get out of his shell.', 'Interacting with other people socially is likely to result in making new friends.']\n"
     ]
    },
    {
     "name": "stderr",
     "output_type": "stream",
     "text": [
      "\r",
      " 15%|███████████████████████▊                                                                                                                                         | 146/986 [5:48:35<6:54:09, 29.58s/it]"
     ]
    },
    {
     "name": "stdout",
     "output_type": "stream",
     "text": [
      "generated explanation: <pad> <extra_id_0> When a person is depressed, they may not feel like socialising.<extra_id_1> </s>\n",
      "########\n",
      "*******\n",
      "question: What is likely true about a dog that escapes regularly?\n",
      "answer: very smart\n",
      "choices: ['very smart', 'very loyal', 'tired', 'friendly', 'faithful']\n",
      "common expl list: ['Intelligent dogs (especially when concerned with food and treats) who are looking for some form of freedom will have the intelligence to escape regularly.']\n"
     ]
    },
    {
     "name": "stderr",
     "output_type": "stream",
     "text": [
      "\r",
      " 15%|████████████████████████                                                                                                                                         | 147/986 [5:48:50<5:51:42, 25.15s/it]"
     ]
    },
    {
     "name": "stdout",
     "output_type": "stream",
     "text": [
      "generated explanation: <pad> <extra_id_0> A dog that escapes regularly is likely to be very smart. A dog that is very smart is likely to be very aware of its surroundings,<extra_id_1> </s>\n",
      "########\n",
      "*******\n",
      "question: If you're going to a party in an alley, what is likely to happen?\n",
      "answer: doing drugs\n",
      "choices: ['call the police', 'doing drugs', 'new contacts', 'making new friends', 'plan']\n",
      "common expl list: ['People often do drugs at parties, and alleys are often used for parties.', 'Alleys are associated with crime; and, people performing illegal drugs at a party is illegal.', 'People going to parties in an alley are often going to do drugs and vice.']\n"
     ]
    },
    {
     "name": "stderr",
     "output_type": "stream",
     "text": [
      "\r",
      " 15%|████████████████████████▏                                                                                                                                        | 148/986 [5:49:05<5:10:24, 22.22s/it]"
     ]
    },
    {
     "name": "stdout",
     "output_type": "stream",
     "text": [
      "generated explanation: <pad> <extra_id_0> An alley is a small, enclosed space that is typically used for outdoor activities, such as watching football or playing ping-pong.<extra_id_1> </s>\n",
      "########\n",
      "*******\n",
      "question: The man was very tired and sore, he decided to stay in bed to what?\n",
      "answer: rest more\n",
      "choices: ['rest more', 'lazy', 'were sick', 'to be sick', \"you're sick\"]\n",
      "common expl list: ['The man was tired and sore, so he decided to rest more.', \"When people are sick, they tend to rest, as it's the most sensible thing.\", 'The man was so tired and sore, he just wanted a break. His illness would keep him in bed.']\n"
     ]
    },
    {
     "name": "stderr",
     "output_type": "stream",
     "text": [
      "\r",
      " 15%|████████████████████████▎                                                                                                                                        | 149/986 [5:50:26<9:13:34, 39.68s/it]"
     ]
    },
    {
     "name": "stdout",
     "output_type": "stream",
     "text": [
      "generated explanation: <pad> <extra_id_0> If the man was very tired, he decided to stay in bed to rest more. Rest is a general term used to describe a period of time during which a person is physically and mentally tired. It is not a common thing for people to stay in bed for extended periods of time in order to receive adequate rest and rejuvenation. However, sometimes staying in bed can cause a person to become physically tired and, as a result, may cause them to become irritable and in need of more sleep or time to recover. Rest is a good way to improve health. It is important to note that a person to receive adequate sleep and to achieve a sense of calm and relaxation.<extra_id_1> </s>\n",
      "########\n",
      "*******\n",
      "question: He was back in his hometown, he was planning on having fun and doing what?\n",
      "answer: visiting friends\n",
      "choices: ['being understood', 'hug', 'rambling', 'kiss', 'visiting friends']\n",
      "common expl list: ['If a person went back to their hometown, they might be glad to see their old friends, and visit them while they are there.', 'If a person is back in their hometown, they might visit their friends, who they might not see very often.', 'People usually visit their friends when they return to a town where they previously used to live, because their friends would have missed them.']\n"
     ]
    },
    {
     "name": "stderr",
     "output_type": "stream",
     "text": [
      "\r",
      " 15%|████████████████████████▍                                                                                                                                        | 150/986 [5:50:49<8:03:22, 34.69s/it]"
     ]
    },
    {
     "name": "stdout",
     "output_type": "stream",
     "text": [
      "generated explanation: <pad> <extra_id_0> If he was back in his hometown, he was planning on having fun and doing things that he loves. He was planning on visiting friends to have fun and have a relaxing time.<extra_id_1> </s>\n",
      "########\n",
      "*******\n",
      "question: Where is basketball court likely to be outdoors?\n",
      "answer: city\n",
      "choices: ['high school gymnasium', 'city', 'park', 'use', 'los angeles']\n",
      "common expl list: ['Basketball courts are often found in city parks.', 'Basketball courts are often urban.', 'Most American cities have basketball courts in public parks.', 'Basketball courts are likely to be at parks and recreational centers in cities.']\n"
     ]
    },
    {
     "name": "stderr",
     "output_type": "stream",
     "text": [
      "\r",
      " 15%|████████████████████████▋                                                                                                                                        | 151/986 [5:51:01<6:30:41, 28.07s/it]"
     ]
    },
    {
     "name": "stdout",
     "output_type": "stream",
     "text": [
      "generated explanation: <pad> <extra_id_0> A basketball court is likely to be outdoors because it is a sport that requires a large, open space to play.<extra_id_1> </s>\n",
      "########\n",
      "*******\n",
      "question: When you want to get the skin off of an apple, you do what to it?\n",
      "answer: peel\n",
      "choices: ['seeds inside', 'stems', 'peel', 'grocery store', 'green market']\n",
      "common expl list: ['Apples have a skin that can be peeled off.', 'Skin is something you peel from fruits like apples, peaches, oranges, kiwi, etc...']\n"
     ]
    },
    {
     "name": "stderr",
     "output_type": "stream",
     "text": [
      "\r",
      " 15%|████████████████████████▊                                                                                                                                        | 152/986 [5:52:08<9:11:55, 39.71s/it]"
     ]
    },
    {
     "name": "stdout",
     "output_type": "stream",
     "text": [
      "generated explanation: <pad> <extra_id_0> When you want to get the skin off an apple, you may do so by peeling the apple. Peeling an apple is a process that involves removing the outer layer of the fruit, such as the outer layer of skin, and then removing the flesh from the flesh beneath. When you peel an apple, you may do so by either removing the flesh from the apple or by squeezing it. This will allow you to see the apple's core, which is the center layer of the fruit, or by squeezing it with your</s>\n",
      "########\n",
      "*******\n",
      "question: Where could you put some knives if you are planning to bring them outside with you?\n",
      "answer: backpack\n",
      "choices: ['purse', 'backpack', 'drawer', 'sporting goods store', 'kitchen']\n",
      "common expl list: [\"To carry knives on one's person, you need some small type of container to hold the knives. Perhaps the most likely place to carry a small container is a backpack.\", \"Knives are usually brought along if hiking, camping, fishing, or other outings, and backpacks make it easy to transport one's belongings.\"]\n"
     ]
    },
    {
     "name": "stderr",
     "output_type": "stream",
     "text": [
      "\r",
      " 16%|████████████████████████▊                                                                                                                                       | 153/986 [5:53:43<13:01:34, 56.30s/it]"
     ]
    },
    {
     "name": "stdout",
     "output_type": "stream",
     "text": [
      "generated explanation: <pad> <extra_id_0> You could put some knives in a backpack if you are planning to bring them outside. A backpack is a container that can be worn as a backpack and stored inside a bag. Backpacks are commonly used for storing things like clothes, keys, and other small items, and they often come with pockets for storing things like money, keys, and other small items. If you plan to bring some knives outside, you may want to put them in a backpack because it is a convenient place to store small items like a backpack or other container to keep them safe and secure. If you want to carry them, you could put them in a pocket or other pouch and insert them into the pocket or compartment to create a pocket to keep them safe and secure.<extra_id_1> </s>\n",
      "########\n",
      "*******\n",
      "question: John watches the well dressed people from a catwalk above the stage.  He listens to them speak rehearsed lines while the audience listens.  Where is he/\n",
      "answer: theatre\n",
      "choices: ['theatre', 'new york city', 'fashion show', 'construction site', 'school play']\n",
      "common expl list: ['Theatres have catwalks where people might observe and listen to actors.']\n"
     ]
    },
    {
     "name": "stderr",
     "output_type": "stream",
     "text": [
      "\r",
      " 16%|████████████████████████▉                                                                                                                                       | 154/986 [5:54:12<11:08:56, 48.24s/it]"
     ]
    },
    {
     "name": "stdout",
     "output_type": "stream",
     "text": [
      "generated explanation: <pad> <extra_id_0> When a person is watching someone from a catwalk, they are likely to be in a theatre. Theatres are large, open spaces that are used for performances, performances that are often accompanied by other performances, such as plays or concerts.<extra_id_1> </s>\n",
      "########\n",
      "*******\n",
      "question: If I am creating art and have completed it to satisfaction, what is my feeling?\n",
      "answer: enlightenment\n",
      "choices: ['enlightenment', 'tired', 'frustration', 'relax', 'controversy']\n",
      "common expl list: ['Enlightenment is the label for a moment of clarity, and the word is often applied to artists who have created something unique or daring.']\n"
     ]
    },
    {
     "name": "stderr",
     "output_type": "stream",
     "text": [
      "\r",
      " 16%|█████████████████████████▏                                                                                                                                      | 155/986 [5:55:20<12:29:29, 54.11s/it]"
     ]
    },
    {
     "name": "stdout",
     "output_type": "stream",
     "text": [
      "generated explanation: <pad> <extra_id_0> If I am creating art, then my feeling is enlightenment. Enlightenment is a state of complete happiness and fulfillment that results from the pursuit of one's interests and talents. Artistic expression is a way for people to express themselves and to express their thoughts and feelings about the world around them. It is a process that requires effort and commitment, and it often involves the exploration of new ideas and concepts. If I am creating art, then my feeling is enlightenment, which is a positive emotion, or satisfaction.<extra_id_1> </s>\n",
      "########\n",
      "*******\n",
      "question: He was serious and pragmatic, so why did he drive his car?\n",
      "answer: transportation\n",
      "choices: ['transportation', 'car crash', 'death', 'sleepy', 'stress']\n",
      "common expl list: ['People often drive cars to get from one place to another.', 'Because driving is the most practical mode of transportation judging by the time and distance required to do so.']\n"
     ]
    },
    {
     "name": "stderr",
     "output_type": "stream",
     "text": [
      "\r",
      " 16%|█████████████████████████▎                                                                                                                                      | 156/986 [5:55:49<10:44:57, 46.62s/it]"
     ]
    },
    {
     "name": "stdout",
     "output_type": "stream",
     "text": [
      "generated explanation: <pad> <extra_id_0> If he was serious and pragmatic, he would drive his car. Driving a car provides the opportunity for independent exploration and exploration. It is a safe and convenient way to travel and explore, and it is also a very efficient way to get around.<extra_id_1> </s>\n",
      "########\n",
      "*******\n",
      "question: What does god want people to do for money?\n",
      "answer: work in life\n",
      "choices: ['work in life', 'speak to people', 'everywhere', 'sitting ideal', 'care for people']\n",
      "common expl list: ['The scriptures explain that people should acquire money by providing good products or services, e.g., to bring value to other people and make a living.']\n"
     ]
    },
    {
     "name": "stderr",
     "output_type": "stream",
     "text": [
      "\r",
      " 16%|█████████████████████████▋                                                                                                                                       | 157/986 [5:55:55<7:54:00, 34.31s/it]"
     ]
    },
    {
     "name": "stdout",
     "output_type": "stream",
     "text": [
      "generated explanation: <pad> <extra_id_0> Garlic bread is often served with dinner.<extra_id_1> </s>\n",
      "########\n",
      "*******\n",
      "question: What can happen after doing housework that does not involve pain?\n",
      "answer: become tired\n",
      "choices: ['become tired', 'stress', 'put on shoes', 'backache', 'low pay']\n",
      "common expl list: ['Raking, sweeping, and dusting are common forms of housework. After all the physical labor of these activities, someone \\xa0might become tired and take time off from housework chores, but not have een doing any housework tasks that', 'Doing housework is likely to tire someone out. Being tired increases the likelihood of restlessness and uneasiness.', 'Housework can be tiring, and so, after doing it, one might become tired.']\n"
     ]
    },
    {
     "name": "stderr",
     "output_type": "stream",
     "text": [
      "\r",
      " 16%|█████████████████████████▊                                                                                                                                       | 158/986 [5:56:59<9:55:56, 43.18s/it]"
     ]
    },
    {
     "name": "stdout",
     "output_type": "stream",
     "text": [
      "generated explanation: <pad> <extra_id_0> It is not clear what happens after doing housework that causes someone to become tired. Tiredness is a feeling that a person may feel after doing something they enjoy, such as cleaning their house or doing yard work. It is possible that tiredness may be a normal physical response to doing housework, such as cleaning their house or doing yard work. Being tired can cause one to feel tired and may trigger feelings of being overwhelmed by work or other obligations. Being tired may cause someone to lose focus and become less motivated to complete their tasks and/or frustrated.<extra_id_1> </s>\n",
      "########\n",
      "*******\n",
      "question: James sat in a chair and listened to the speaker.  Where might James be?\n",
      "answer: auditorium\n",
      "choices: ['synagogue', 'grocery store', 'auditorium', 'confession', 'office']\n",
      "common expl list: ['James was likely in an auditorium, because he was listening to a speaker.']\n"
     ]
    },
    {
     "name": "stderr",
     "output_type": "stream",
     "text": [
      "\r",
      " 16%|█████████████████████████▉                                                                                                                                       | 159/986 [5:57:12<7:49:12, 34.04s/it]"
     ]
    },
    {
     "name": "stdout",
     "output_type": "stream",
     "text": [
      "generated explanation: <pad> <extra_id_0> Playing a board game can be a fun and relaxing activity that can help relieve stress and improve focus.<extra_id_1> </s>\n",
      "########\n",
      "*******\n",
      "question: John thought that Mary was beautiful despite her injury.  But Mary believed that she was what?\n",
      "answer: misshapen\n",
      "choices: ['wrong', 'overcast', 'homely', 'bad', 'misshapen']\n",
      "common expl list: [\"If Mary believes she doesn't look normal, but someone else thinks she is beautiful, perhaps she could feel like her form is misshapen.\"]\n"
     ]
    },
    {
     "name": "stderr",
     "output_type": "stream",
     "text": [
      "\r",
      " 16%|██████████████████████████▏                                                                                                                                      | 160/986 [5:57:23<6:15:58, 27.31s/it]"
     ]
    },
    {
     "name": "stdout",
     "output_type": "stream",
     "text": [
      "generated explanation: <pad> <extra_id_0> If John thought that Mary was beautiful despite her injury, Mary likely would have said the same.<extra_id_1> </s>\n",
      "########\n",
      "*******\n",
      "question: Where does my body go after I am no longer living?\n",
      "answer: graveyard\n",
      "choices: ['zombie', 'bodycam', 'coffin', 'graveyard', 'funeral']\n",
      "common expl list: ['When a person dies, it is common to bury their bodies in locations called graveyards.', 'Corpses are buried in graveyards.', 'When one dies, their body is buried in a graveyard.']\n"
     ]
    },
    {
     "name": "stderr",
     "output_type": "stream",
     "text": [
      "\r",
      " 16%|██████████████████████████▎                                                                                                                                      | 161/986 [5:58:38<9:30:09, 41.47s/it]"
     ]
    },
    {
     "name": "stdout",
     "output_type": "stream",
     "text": [
      "generated explanation: <pad> <extra_id_0> My body usually goes to a graveyard when I die. A graveyard is a place where bodies are buried after they die. They are typically accompanied by other remains, such as a skull, a neck, a heart, or other organs. When someone dies, their body parts typically fall to the ground and are covered with dirt or dirt. This type of ground is called a graveyard, and it is used for a variety of purposes, such as storing bodies, preserving organs, or other body parts.<extra_id_1> </s>\n",
      "########\n",
      "*******\n",
      "question: Where can you find a bar before traveling a long distance?\n",
      "answer: airport\n",
      "choices: ['las vegas', 'public house', 'airport', 'restaurant', 'michigan']\n",
      "common expl list: ['Bars are often located in airports, and so if a person was traveling a long distance, they might stop at an airport bar.']\n"
     ]
    },
    {
     "name": "stderr",
     "output_type": "stream",
     "text": [
      "\r",
      " 16%|██████████████████████████▍                                                                                                                                      | 162/986 [5:58:51<7:32:18, 32.94s/it]"
     ]
    },
    {
     "name": "stdout",
     "output_type": "stream",
     "text": [
      "generated explanation: <pad> <extra_id_0> A ballroom can be a place where people go to dance, for example, before a game of basketball.<extra_id_1> </s>\n",
      "########\n",
      "*******\n",
      "question: Where might a small ball be bounced from?\n",
      "answer: child's hand\n",
      "choices: ['soccer game', 'street', 'toy store', \"child's hand\", 'on the sidewalk']\n",
      "common expl list: ['Since children enjoy bouncing balls, and they are also relatively small, they would bounce a ball from their hand.', 'A ball much like a toy, and kids often play with them on the streets and sidewalks.']\n"
     ]
    },
    {
     "name": "stderr",
     "output_type": "stream",
     "text": [
      "\r",
      " 17%|██████████████████████████▌                                                                                                                                      | 163/986 [5:59:03<6:04:41, 26.59s/it]"
     ]
    },
    {
     "name": "stdout",
     "output_type": "stream",
     "text": [
      "generated explanation: <pad> <extra_id_0> A small ball might be thrown by a child, and it might be caught in their hand.<extra_id_1> </s>\n",
      "########\n",
      "*******\n",
      "question: Where do families begin?\n",
      "answer: wedding\n",
      "choices: ['wedding', 'around dinner table', 'supermarket', 'dinner together', 'park']\n",
      "common expl list: ['A wedding is a ceremony in which two people get married, and thus a wedding is where a family begins.']\n"
     ]
    },
    {
     "name": "stderr",
     "output_type": "stream",
     "text": [
      "\r",
      " 17%|██████████████████████████▊                                                                                                                                      | 164/986 [5:59:24<5:41:36, 24.93s/it]"
     ]
    },
    {
     "name": "stdout",
     "output_type": "stream",
     "text": [
      "generated explanation: <pad> <extra_id_0> The family is a group of people who are related to each other by blood or by marriage. Families have been around for a long time and are often close friends or relatives.<extra_id_1> </s>\n",
      "########\n",
      "*******\n",
      "question: He enjoyed reading newspaper, he consider what a subscription?\n",
      "answer: buying\n",
      "choices: ['gifting', 'buying', 'money', 'literacy', 'knowing how to read']\n",
      "common expl list: ['Buying a subscription to a newspaper is a way to get the newspaper delivered to your home.']\n"
     ]
    },
    {
     "name": "stderr",
     "output_type": "stream",
     "text": [
      "\r",
      " 17%|██████████████████████████▉                                                                                                                                      | 165/986 [6:00:47<9:42:46, 42.59s/it]"
     ]
    },
    {
     "name": "stdout",
     "output_type": "stream",
     "text": [
      "generated explanation: <pad> <extra_id_0> If a man enjoyed reading newspaper, he might consider that a subscription to a newspaper is a good idea. A subscription is a regular payment that is made to a publisher, and it is typically made once a week or more often. Subscriptions are typically made in advance and are generally considered to be a one-time transaction. A person might consider a subscription to a newspaper as a way of enjoying a particular publication or series of publications. They may also be considered a recurring payment that is made to the publication or series of newspapers, or other media. If a person is interested in reading, he might consider a subscription as a way to keep abrising.<extra_id_1> </s>\n",
      "########\n",
      "*******\n",
      "question: What does an animal do when it becomes old?\n",
      "answer: feel pain\n",
      "choices: ['live long', 'leave home', 'feel pain', 'eating', 'sense fear in human']\n",
      "common expl list: ['Ageing animals may have chronic pain as part of the body losing function as it ages.']\n"
     ]
    },
    {
     "name": "stderr",
     "output_type": "stream",
     "text": [
      "\r",
      " 17%|██████████████████████████▉                                                                                                                                     | 166/986 [6:01:51<11:07:12, 48.82s/it]"
     ]
    },
    {
     "name": "stdout",
     "output_type": "stream",
     "text": [
      "generated explanation: <pad> <extra_id_0> When an animal becomes old, it is likely that it will experience pain. Pain is a common sensation that is felt when an animal becomes older. Pain is a feeling of discomfort or distress that is often associated with aging and is often associated with emotional distress and frustration. Pain can also be a sign of physical aging and a process that occurs over time, such as aging and the natural aging process. It is important for animals to understand that pain is a normal and normal part of aging and that it is a<extra_id_1> </s>\n",
      "########\n",
      "*******\n",
      "question: What entity would have a fire extinguisher in their boardroom?\n",
      "answer: most businesses\n",
      "choices: ['boat', 'apartment', 'public building', 'most businesses', 'chemistry lab']\n",
      "common expl list: ['Most businesses would have a fire extinguisher in their boardroom, because they are likely to have a fire in their boardroom.']\n"
     ]
    },
    {
     "name": "stderr",
     "output_type": "stream",
     "text": [
      "\r",
      " 17%|███████████████████████████▎                                                                                                                                     | 167/986 [6:02:10<9:03:12, 39.80s/it]"
     ]
    },
    {
     "name": "stdout",
     "output_type": "stream",
     "text": [
      "generated explanation: <pad> <extra_id_0> Most businesses have a boardroom in their boardroom. The boardroom is a room in a building where executives can make decisions and make decisions.<extra_id_1> </s>\n",
      "########\n",
      "*******\n",
      "question: Where can someone go and buy cheese?\n",
      "answer: market\n",
      "choices: ['pizza', 'bar', 'fridge', 'market', 'refrigerator']\n",
      "common expl list: ['Cheese is sold at markets.', 'Cheese is a dairy product and can be purchased at markets, for the most part.']\n"
     ]
    },
    {
     "name": "stderr",
     "output_type": "stream",
     "text": [
      "\r",
      " 17%|███████████████████████████▎                                                                                                                                    | 168/986 [6:03:16<10:50:09, 47.69s/it]"
     ]
    },
    {
     "name": "stdout",
     "output_type": "stream",
     "text": [
      "generated explanation: <pad> <extra_id_0> If someone wants to buy cheese, they can go to a market. A market is a place where different types of vendors sell their wares and services, such as cheese. Cheese is a type of food that can be sold at markets and other locations, and it is often the case that people who are interested in buying cheese will go to markets in order to find different types of cheese, such as goat cheese, mozzarella, and other similar types of cheese. When someone wants to buy cheese, they can go to a market and find a place where they can go to buy it.<extra_id_1> </s>\n",
      "########\n",
      "*******\n",
      "question: Where would you carry food while on a long walk in the countryside?\n",
      "answer: backpack\n",
      "choices: ['backpack', 'table', 'jar', 'box', 'container']\n",
      "common expl list: ['Instead of carrying a jar or container, filling your backpack with food might not disrupt your movements as much when you are walking.', \"Because backpacks are designed to be carried on one's back, they are the most convenient way to carry food while on a long walk.\"]\n"
     ]
    },
    {
     "name": "stderr",
     "output_type": "stream",
     "text": [
      "\r",
      " 17%|███████████████████████████▌                                                                                                                                     | 169/986 [6:03:27<8:21:35, 36.84s/it]"
     ]
    },
    {
     "name": "stdout",
     "output_type": "stream",
     "text": [
      "generated explanation: <pad> <extra_id_0> A person might go for a walk in the countryside, and they might carry food with them.<extra_id_1> </s>\n",
      "########\n",
      "*******\n",
      "question: What could a driver do that could distract him or her while he or she is in a driving car?\n",
      "answer: smoke\n",
      "choices: ['use mobile phone', 'car crash', 'smoke', 'backache', 'automobile accidents']\n",
      "common expl list: ['Smoking is a common activity that people do while driving, and it could distract them from driving.', 'It can be tricky to smoke and concentrate on driving at the same time, and research has found that smoking in a car with children present is very dangerous.']\n"
     ]
    },
    {
     "name": "stderr",
     "output_type": "stream",
     "text": [
      "\r",
      " 17%|███████████████████████████▊                                                                                                                                     | 170/986 [6:04:20<9:27:43, 41.74s/it]"
     ]
    },
    {
     "name": "stdout",
     "output_type": "stream",
     "text": [
      "generated explanation: <pad> <extra_id_0> A person could be distracted by smoking while they are driving a car. Smoking is a form of distraction that can be caused by a variety of factors, including the presence of outside smoke, the use of electronic devices, and the presence of passengers in a car. Smoking can be a very dangerous activity and is not recommended while driving a car. It is important for drivers to understand that smoking is a dangerous activity and that it should be avoided at all costs.<extra_id_1> </s>\n",
      "########\n",
      "*******\n",
      "question: The fat man wanted to make a change in his life and make sure it stayed what?\n",
      "answer: permanent\n",
      "choices: ['concretely', 'permanent', 'remain stable', 'stagnant', 'constant']\n",
      "common expl list: ['His making a decision to change and ensuring the decision is made permanent indicates a desire for a stable, permanent life, which does not change.', 'In changing his life, he wants to make sure he remains in the new lifestyle choices, e.g., not become stagnant to bad choices and fall back into bad choices.']\n"
     ]
    },
    {
     "name": "stderr",
     "output_type": "stream",
     "text": [
      "\r",
      " 17%|███████████████████████████▉                                                                                                                                     | 171/986 [6:04:31<7:19:05, 32.33s/it]"
     ]
    },
    {
     "name": "stdout",
     "output_type": "stream",
     "text": [
      "generated explanation: <pad> <extra_id_0> The fat man wanted to make a change in his life and make sure it stayed<extra_id_1> </s>\n",
      "########\n",
      "*******\n",
      "question: where did many colonial kingdoms originate?\n",
      "answer: europe\n",
      "choices: ['saudi arabia', 'europe', 'united states', 'book', 'monarchy']\n",
      "common expl list: ['Many colonial kingdoms in the past can be traced all the way back to their roots in Europe.', 'Colonies and kingdoms often originate in the mother countries of the colonial or kingdom builders, e.g., entities in the United Kingdom and the Netherlands.']\n"
     ]
    },
    {
     "name": "stderr",
     "output_type": "stream",
     "text": [
      "\r",
      " 17%|████████████████████████████                                                                                                                                     | 172/986 [6:04:38<5:36:51, 24.83s/it]"
     ]
    },
    {
     "name": "stdout",
     "output_type": "stream",
     "text": [
      "generated explanation: <pad> <extra_id_0> Many colonial kingdoms originated in europe.<extra_id_1> </s>\n",
      "########\n",
      "*******\n",
      "question: Where can a television be stored and hidden?\n",
      "answer: cabinet\n",
      "choices: ['apartment', 'living room', 'bedroom', 'kitchen', 'cabinet']\n",
      "common expl list: ['A cabinet is a piece of furniture that is used to store items, and televisions are large, and thus, can be stored in cabinets.', 'A television can be stored inside a cabinet.']\n"
     ]
    },
    {
     "name": "stderr",
     "output_type": "stream",
     "text": [
      "\r",
      " 18%|████████████████████████████▏                                                                                                                                    | 173/986 [6:05:09<6:00:39, 26.62s/it]"
     ]
    },
    {
     "name": "stdout",
     "output_type": "stream",
     "text": [
      "generated explanation: <pad> <extra_id_0> A television can be stored in a cabinet, which is a place that is typically made of wood or metal and has a number of different drawers and shelves that can be used to store items, such as video games, remote controls, and tapes and other media.<extra_id_1> </s>\n",
      "########\n",
      "*******\n",
      "question: what can get a prisoner in more trouble?\n",
      "answer: attempt to escape\n",
      "choices: ['dream of freedom', 'attempt to escape', 'do time', 'fast for days', 'scape jail']\n",
      "common expl list: ['Prisoners serve time, and when a prisoner attempts to escape, they generally serve extra time.']\n"
     ]
    },
    {
     "name": "stderr",
     "output_type": "stream",
     "text": [
      "\r",
      " 18%|████████████████████████████▏                                                                                                                                   | 174/986 [6:07:01<11:48:19, 52.34s/it]"
     ]
    },
    {
     "name": "stdout",
     "output_type": "stream",
     "text": [
      "generated explanation: <pad> <extra_id_0> As a prisoner, it is important to know that you are on a strict strict probation or parole and that you are not allowed to leave the prison grounds unless you have a court order allowing you to do so. A court order is a court order that allows a person to leave their prison or other penal institution and is designed to prevent a person from leaving their home or place of imprisonment. A court order can be used to order a person to leave their home or place of imprisonment and to seek asylum in another country. If a prisoner is convicted of a crime, attempt to commit a crime, or engage in other serious offenses, such as a violent or threatening behavior, such as a break-in-friendly prisoner or to engage in a dangerous or illegal act that is intended to get away from the prisoner, or to engage in criminal behavior that is considered by others, it is considered by the convicted criminal</s>\n",
      "########\n",
      "*******\n",
      "question: The crab was separated from his compatriots out in the sea, where was he likely to be?\n",
      "answer: tide pool\n",
      "choices: ['fish market', 'cooking pot', 'tide pool', 'beach sand', 'farm']\n",
      "common expl list: ['Tide pools are regions of shallow, pooled water that are very exposed to air, making them appealing to crabs that have to breathe.']\n"
     ]
    },
    {
     "name": "stderr",
     "output_type": "stream",
     "text": [
      "\r",
      " 18%|████████████████████████████▏                                                                                                                                  | 175/986 [6:10:39<22:56:58, 101.87s/it]"
     ]
    },
    {
     "name": "stdout",
     "output_type": "stream",
     "text": [
      "generated explanation: <pad> <extra_id_0> If the crab was separated from his compatriots out at sea, he was likely to be in a tide pool. A tide pool is a body of water that forms during the day when the weather is conducive to swimming and exploring. Tide pools are often used as a refuge for marine life and provide a safe haven for fish, shellfish, and other marine life. They provide a safe haven for small animals and humans alike, and they provide a unique opportunity for exploration and learning. If the crab was separated from his friends, he may have been in a tide pool or other aquatic environment. If the crab was in a tide pool, it is possible that he was in a tidepool or other aquatic environment that is similar to a tide pool is a place where the tide is a calmer, more aesthetically pleasing and environmentally friendly environment, as well as other marine life, a thriving environment for wildlife, or a place where he is likely to be a safe place to swim and a tide, or he was a more a small, he was a a great deal of a a he is a a a a a a a a a a a a a a a a he could be a a a a a a a a a a a very a a tide pool or a a tide pool, a small, and a a small, a, or a small, he may be a small, or a good opportunity to explore a little bit of a little more adr dr dr dr </s>\n",
      "########\n",
      "*******\n",
      "question: What item is smelted out of minerals on the country side?\n",
      "answer: metal\n",
      "choices: ['urban city', 'france', 'metal', 'grass', 'state']\n",
      "common expl list: ['Metals are extracted from mineral mines out in the country side.', 'Products made by smelters tend to be made out of metals, and mining occurs at the country side.']\n"
     ]
    },
    {
     "name": "stderr",
     "output_type": "stream",
     "text": [
      "\r",
      " 18%|████████████████████████████▌                                                                                                                                   | 176/986 [6:12:11<22:18:15, 99.13s/it]"
     ]
    },
    {
     "name": "stdout",
     "output_type": "stream",
     "text": [
      "generated explanation: <pad> <extra_id_0> People who live in rural areas often have access to a variety of resources, including metals, which can be used in a variety of products. Smelting can be a relatively simple process and involves heating up molten metal (usually iron or steel) in order to create new metals. Metals can be used in a variety of ways, including making jewelry, making repairs, and creating new items. However, it is important to note that metals can be very corrosive and can easily corrode if they are not properly alloyed. This process can take place in order to produce a variety of products, including the most common metals, as well as other materials, such as iron ore.<extra_id_1> </s>\n",
      "########\n",
      "*******\n",
      "question: Where is a good place to store a saw?\n",
      "answer: toolbox\n",
      "choices: ['hardware store', 'tool shed', 'storage', 'tool kit', 'toolbox']\n",
      "common expl list: ['A toolbox is a container for tools, and a saw is a tool.', 'One might likely store a saw in a box with other tools.']\n"
     ]
    },
    {
     "name": "stderr",
     "output_type": "stream",
     "text": [
      "\r",
      " 18%|████████████████████████████▋                                                                                                                                   | 177/986 [6:13:47<22:04:19, 98.22s/it]"
     ]
    },
    {
     "name": "stdout",
     "output_type": "stream",
     "text": [
      "generated explanation: <pad> <extra_id_0> A good place to store a saw is a toolbox. A toolbox is a container that is used for storing tools, such as tools, hardware, and equipment. Toolboxes are often used for storing a wide variety of different types of tools, such as hand tools, power tools, and so on. Toolboxes can be found in a variety of settings, such as at workbenchs, in shops, and in other places around the home. They can be used for storing small items, such as a saw or other power tool. If you want to store a saw in a safe and secure place to keep your saw, it is likely that you will want to keep it in a secure and safe place to keep it during the day.<extra_id_1> </s>\n",
      "########\n",
      "*******\n",
      "question: The jellyfish was pushed along by the water.  It was caught in what?\n",
      "answer: current\n",
      "choices: ['store', 'book', 'park', 'current', 'lake']\n",
      "common expl list: [\"Currents are fast-moving water, and jellyfish can't swim very well, so if caught in a current, it's likely to be being pushed along by the current.\", 'Jellyfish are often found in oceans, and oceans have currents.']\n"
     ]
    },
    {
     "name": "stderr",
     "output_type": "stream",
     "text": [
      "\r",
      " 18%|████████████████████████████▉                                                                                                                                   | 178/986 [6:14:29<18:14:55, 81.31s/it]"
     ]
    },
    {
     "name": "stdout",
     "output_type": "stream",
     "text": [
      "generated explanation: <pad> <extra_id_0> A jellyfish is a mollusk, and it is often found in oceans, rivers, and lakes. Jellyfish are mollusks that are found in water and are often found in reefs and other marine environments. They are often found in warm, freshwater environments and are often found in marine environments.<extra_id_1> </s>\n",
      "########\n",
      "*******\n",
      "question: The dime store was full of old donated goods, it reminded the customer of the what?\n",
      "answer: past\n",
      "choices: ['strip mall', 'past', 'shopping center', 'old movie', 'india']\n",
      "common expl list: ['Dime stores were more popular years ago than today. The sight of the old goods reminded the person of the past.']\n"
     ]
    },
    {
     "name": "stderr",
     "output_type": "stream",
     "text": [
      "\r",
      " 18%|█████████████████████████████                                                                                                                                   | 179/986 [6:15:17<15:57:22, 71.18s/it]"
     ]
    },
    {
     "name": "stdout",
     "output_type": "stream",
     "text": [
      "generated explanation: <pad> <extra_id_0> Donations are gifts that people give to charity to help others. The goods that are donated are typically items that people have lying around their homes that are no longer wanted or needed. Donations can be made in the form of money, food items, household items, or other items that can be used as currency or as a store deposit for other items.<extra_id_1> </s>\n",
      "########\n",
      "*******\n",
      "question: Where would you put a saw if you do not need to use it soon and your house only has one floor?\n",
      "answer: tool shed\n",
      "choices: ['logging camp', 'in the vehicle', 'tool shed', 'toolbox', 'basement']\n",
      "common expl list: [\"A tool shed is a place where tools are stored, and thus, a good place to store a saw if you don't need to use it soon.\", 'The shed is a good place for storing tools when those tools are not in use.', 'A tool shed is a common structure for organizing and storing tools that are infrequently used.']\n"
     ]
    },
    {
     "name": "stderr",
     "output_type": "stream",
     "text": [
      "\r",
      " 18%|█████████████████████████████▏                                                                                                                                  | 180/986 [6:15:30<12:02:52, 53.81s/it]"
     ]
    },
    {
     "name": "stdout",
     "output_type": "stream",
     "text": [
      "generated explanation: <pad> <extra_id_0> A tree can be cut down for wood, and it is typically left outside to grow.<extra_id_1> </s>\n",
      "########\n",
      "*******\n",
      "question: A person might wear his yarmulke when going to where?\n",
      "answer: synagogue\n",
      "choices: ['demonstration', 'concert', 'garage', 'bus stop', 'synagogue']\n",
      "common expl list: ['Synagogue is a place commonly visited by religious Jews. Men wear yarmulkes (skullcaps) because faith requires that they uncover their heads when going before God.']\n"
     ]
    },
    {
     "name": "stderr",
     "output_type": "stream",
     "text": [
      "\r",
      " 18%|█████████████████████████████▎                                                                                                                                  | 181/986 [6:16:59<14:23:59, 64.40s/it]"
     ]
    },
    {
     "name": "stdout",
     "output_type": "stream",
     "text": [
      "generated explanation: <pad> <extra_id_0> A person might wear a yarmulke when going to a synagogue. A synagogue is a place where Jews gather to worship. The practice of wearing a yarmulke, or head covering, is a Jewish tradition that dates back to the Middle Ages. It is believed that wearing a yarmulke is a sign of respect for the Jewish heritage and the traditions of its members. It is believed that wearing a yarmulke represents a commitment to faith or other place of worship. A person may go to a synag or other religious service.<extra_id_1> </s>\n",
      "########\n",
      "*******\n",
      "question: Someone takes up exercising to improve their what\n",
      "answer: physical fitness\n",
      "choices: ['losing weight', 'physical fitness', 'breathlessness', 'muscles', 'lost weight']\n",
      "common expl list: ['Typically people are motivated to exercise in order to become fit.', 'Exercising helps people build their physical fitness.', 'Exercising is a way to improve physical fitness.']\n"
     ]
    },
    {
     "name": "stderr",
     "output_type": "stream",
     "text": [
      "\r",
      " 18%|█████████████████████████████▌                                                                                                                                  | 182/986 [6:18:30<16:07:50, 72.23s/it]"
     ]
    },
    {
     "name": "stdout",
     "output_type": "stream",
     "text": [
      "generated explanation: <pad> <extra_id_0> If someone were to take up exercising, it would improve their physical fitness. Exercise is a form of physical activity that involves moving and performing various kinds of exercises in order to improve one's physical fitness and health. Physical fitness is the improvement of one's physical abilities and health, and it is considered a form of health and wellness activity that can help to improve overall health and well-being. It is important for people to stay active and healthy in order to maintain a healthy lifestyle, and to maintain a fit body and mind. In order to improve their physical fitness, someone would need to exercise regularly to maintain a healthy lifestyle and maintain a fit body and to achieve a fit and healthy lifestyle.<extra_id_1> </s>\n",
      "########\n",
      "*******\n",
      "question: Where could you see a sloth that is not real?\n",
      "answer: picture book\n",
      "choices: ['bad dream', 'picture book', 'another place', 'universe', 'zoo']\n",
      "common expl list: ['Reality is generally fractured into \"real\" and \"fusion.\" Sloths are real, meaning they exist (in some form) in reality; sloths are not real (in the way depicted) in a picture book.']\n"
     ]
    },
    {
     "name": "stderr",
     "output_type": "stream",
     "text": [
      "\r",
      " 19%|█████████████████████████████▋                                                                                                                                  | 183/986 [6:18:55<12:58:50, 58.19s/it]"
     ]
    },
    {
     "name": "stdout",
     "output_type": "stream",
     "text": [
      "generated explanation: <pad> <extra_id_0> A sloth is a small animal that is often depicted in pictures. Sloths are often found in nature, and are often found in forests and other places where trees grow naturally.<extra_id_1> </s>\n",
      "########\n",
      "*******\n",
      "question: Where are seats often plush?\n",
      "answer: opera\n",
      "choices: ['rest area', 'theater', 'hockey game', 'classroom', 'opera']\n",
      "common expl list: ['Plush seats are generally found in more comfortabe, well-off establishments, and opera is often performed in such, less strict teents of, elegance of the decor.', 'Opera is a high-class form of entertainment, and thus, the seats are often plush.']\n"
     ]
    },
    {
     "name": "stderr",
     "output_type": "stream",
     "text": [
      "\r",
      " 19%|█████████████████████████████▊                                                                                                                                  | 184/986 [6:19:10<10:05:16, 45.28s/it]"
     ]
    },
    {
     "name": "stdout",
     "output_type": "stream",
     "text": [
      "generated explanation: <pad> <extra_id_0> To describe someone, something that is typically described as plush is often described as having a plush appearance, or being very plush.<extra_id_1> </s>\n",
      "########\n",
      "*******\n",
      "question: The comforter was used constantly and treaded upon by everyone, where should it be placed?\n",
      "answer: washing machine\n",
      "choices: ['garbage', 'linen closet', 'bedroom', 'washing machine', 'livingroom']\n",
      "common expl list: ['The comforter was used constantly, so it should be washed frequently. Linen closets are where people store their bed sheets and blankets.', 'When you use your comforter (or any other high-traffic fabric) often, you ought to wash it often too. Therefore it should be kept in the washing machine, to enable quick washing.', 'Linens are often used (i.e., the comforter) and washed frequently.']\n"
     ]
    },
    {
     "name": "stderr",
     "output_type": "stream",
     "text": [
      "\r",
      " 19%|██████████████████████████████                                                                                                                                  | 185/986 [6:20:39<12:58:08, 58.29s/it]"
     ]
    },
    {
     "name": "stdout",
     "output_type": "stream",
     "text": [
      "generated explanation: <pad> <extra_id_0> If a comforter was used constantly, it should be placed in the washing machine. The washing machine is a mechanical device that is designed to wash and clean items, such as sheets, comforters, and rugs. It is designed to remove dirt and other particles from items, such as dirt, sweat, and other body oils. Because comforters are soft and comfortable to sleep on, they are often used for long periods of time and are therefore frequently subjected to heavy use. Because of this, it is important that they be washed in order to restore their original state. If the comforter is dirty or if it is in good condition, you should wash and stains or reorder.<extra_id_1> </s>\n",
      "########\n",
      "*******\n",
      "question: Joe bought a ficus.  He thought it would look good in what part of his home?\n",
      "answer: family room\n",
      "choices: ['family room', 'tropical forest', 'flower garden', 'movie theater', 'hair salon']\n",
      "common expl list: [\"The ficus is an indoor plant, such as a plant one would have in one's family room. The family room is the ideal location for an indoor plant like a houseplant.\"]\n"
     ]
    },
    {
     "name": "stderr",
     "output_type": "stream",
     "text": [
      "\r",
      " 19%|██████████████████████████████▏                                                                                                                                 | 186/986 [6:21:16<11:31:28, 51.86s/it]"
     ]
    },
    {
     "name": "stdout",
     "output_type": "stream",
     "text": [
      "generated explanation: <pad> <extra_id_0> If Joe bought a ficus, he thought it would look good in his family room. A family room is a room in a home where people can gather to play games and watch television. It is a room where people can relax and enjoy themselves, talk, and interact with one another.<extra_id_1> </s>\n",
      "########\n",
      "*******\n",
      "question: Family is always the best for devotion, but it is also nice if a person has what?\n",
      "answer: loyal friends\n",
      "choices: ['good review', 'headache', 'with cat', 'loyal friends', 'shoes']\n",
      "common expl list: ['Loyal friends are always there for you, and they will always be devoted to you.', \"Because times may come when a person would like to go out and have fun with some friends, and it's nice if that person may have friends that he is faithful to.\", 'We may have devoted friends who would be there for us if we had need.']\n"
     ]
    },
    {
     "name": "stderr",
     "output_type": "stream",
     "text": [
      "\r",
      " 19%|██████████████████████████████▌                                                                                                                                  | 187/986 [6:21:23<8:31:41, 38.42s/it]"
     ]
    },
    {
     "name": "stdout",
     "output_type": "stream",
     "text": [
      "generated explanation: <pad> <extra_id_0> Having loyal friends is a way to show your<extra_id_1> </s>\n",
      "########\n",
      "*******\n",
      "question: Rap is not usually associate with what music often performed by an orchestra?\n",
      "answer: classical\n",
      "choices: ['folk', 'rock', 'good music', 'country music', 'classical']\n",
      "common expl list: ['Rap is generally associated with hip-hop music, which is normally performed by a single artist. Orchestras tend to play classical music, which often is performes with real instruments, rather than manufactured ones.']\n"
     ]
    },
    {
     "name": "stderr",
     "output_type": "stream",
     "text": [
      "\r",
      " 19%|██████████████████████████████▋                                                                                                                                  | 188/986 [6:21:35<6:44:11, 30.39s/it]"
     ]
    },
    {
     "name": "stdout",
     "output_type": "stream",
     "text": [
      "generated explanation: <pad> <extra_id_0> People who are overweight or obese may find it difficult to lose weight, and they may not exercise enough.<extra_id_1> </s>\n",
      "########\n",
      "*******\n",
      "question: At what structure can you see people you use a puck professionally?\n",
      "answer: hockey rink\n",
      "choices: ['hockey rink', 'locker room', 'sporting goods store', 'used in hockey game', 'teachers']\n",
      "common expl list: ['Pucks are commonly used in ice hockey, which is a professional activity.']\n"
     ]
    },
    {
     "name": "stderr",
     "output_type": "stream",
     "text": [
      "\r",
      " 19%|██████████████████████████████▋                                                                                                                                 | 189/986 [6:22:54<10:01:08, 45.26s/it]"
     ]
    },
    {
     "name": "stdout",
     "output_type": "stream",
     "text": [
      "generated explanation: <pad> <extra_id_0> A hockey rink is a structure where people play hockey professionally. A hockey rink is a structure where people can see and use a puck professionally. A puck is a small, round object that is used for playing hockey. It is typically made of plastic and has a small, round head that is used for striking the ball. The goal of playing hockey is to score goals and advance the puck along the ice. The goal of playing hockey is to score goals on a team and to score points for a team. To learn more about the history of hockey, visit your local league or organization or organization that has a hockey program or league.<extra_id_1> </s>\n",
      "########\n",
      "*******\n",
      "question: Even when not in flight a bald eagle likes to have a lay of the land, because of this you'll see them perched up where?\n",
      "answer: high places\n",
      "choices: ['colorado', 'natural habitat', 'everglades', 'high places', 'tree']\n",
      "common expl list: ['Eagles like to be high up, so they can see a large area.']\n"
     ]
    },
    {
     "name": "stderr",
     "output_type": "stream",
     "text": [
      "\r",
      " 19%|██████████████████████████████▊                                                                                                                                 | 190/986 [6:23:51<10:46:18, 48.72s/it]"
     ]
    },
    {
     "name": "stdout",
     "output_type": "stream",
     "text": [
      "generated explanation: <pad> <extra_id_0> A bald eagle likes to have a lay of the land, because of this they often perch up in high places. High places are places that are relatively flat and have a lot of space, such as mountains, valleys, and other high places. The reason for this is that a bald eagle likes to have a good view of the land and can get a good view of the surrounding area from there.<extra_id_1> </s>\n",
      "########\n",
      "*******\n",
      "question: When is good time for garlic bread?\n",
      "answer: dinner\n",
      "choices: ['refrigerator', 'dinner', 'jail', 'supermarket', 'going on a date']\n",
      "common expl list: ['Garlic bread is often served with dinner.', 'Typical garlic bread is served with a maincourse and wine or other alcoholic beverage, and both are commonly served with dinner.']\n"
     ]
    },
    {
     "name": "stderr",
     "output_type": "stream",
     "text": [
      "\r",
      " 19%|██████████████████████████████▉                                                                                                                                 | 191/986 [6:25:00<12:03:44, 54.62s/it]"
     ]
    },
    {
     "name": "stdout",
     "output_type": "stream",
     "text": [
      "generated explanation: <pad> <extra_id_0> Garlic bread is a type of bread that is often served at a restaurant or food court. It is typically served with a variety of sauces, toppings, and grains, and it is often accompanied by other types of food such as salads, pastas, and sandwiches. Garlic bread is often served with a main course, such as chicken or beef, and it is often served with vegetables such as broccoli, carrots, and onions. It is typically served with a variety of different types of pastas, and it is typically served with dinner.<extra_id_1> </s>\n",
      "########\n",
      "*******\n",
      "question: Where is the sky fake?\n",
      "answer: planetarium\n",
      "choices: ['shed', 'atmosphere', 'photo', 'outdoors', 'planetarium']\n",
      "common expl list: ['Planetariums are places built to simulate the sky indoors; the opposite of outdoors.', 'Planetariums are buildings that simulate the sky.']\n"
     ]
    },
    {
     "name": "stderr",
     "output_type": "stream",
     "text": [
      "\r",
      " 19%|███████████████████████████████▎                                                                                                                                 | 192/986 [6:25:13<9:18:43, 42.22s/it]"
     ]
    },
    {
     "name": "stdout",
     "output_type": "stream",
     "text": [
      "generated explanation: <pad> <extra_id_0> A planetarium is a place where the sky is simulated, or simulated, in order to study the universe.<extra_id_1> </s>\n",
      "########\n",
      "*******\n",
      "question: Boats that aren't on the ocean travel across the surface of what?\n",
      "answer: lake\n",
      "choices: ['lake', 'ocean', 'tetrahedron', 'mirror', 'object']\n",
      "common expl list: [\"Lakes (and ponds) are bodies of fresh water surrounded by land, and boats exist on water, and thus, will tend to travel across lakes' surfaces.\"]\n"
     ]
    },
    {
     "name": "stderr",
     "output_type": "stream",
     "text": [
      "\r",
      " 20%|███████████████████████████████▌                                                                                                                                 | 193/986 [6:25:21<7:03:49, 32.07s/it]"
     ]
    },
    {
     "name": "stdout",
     "output_type": "stream",
     "text": [
      "generated explanation: <pad> <extra_id_0> People sometimes get into boats to travel across the surface of the ocean.<extra_id_1> </s>\n",
      "########\n",
      "*******\n",
      "question: A small dog lived with a a woman who loved him. Where might he have lived?\n",
      "answer: person's house\n",
      "choices: [\"person's house\", 'dog house', 'canada', 'illinois', 'basket']\n",
      "common expl list: ['Animals who live with humans are often in their homes.', \"Dogs are often kept as pets, and pets are often kept in their owners' homes.\"]\n"
     ]
    },
    {
     "name": "stderr",
     "output_type": "stream",
     "text": [
      "\r",
      " 20%|███████████████████████████████▋                                                                                                                                 | 194/986 [6:25:39<6:05:32, 27.69s/it]"
     ]
    },
    {
     "name": "stdout",
     "output_type": "stream",
     "text": [
      "generated explanation: <pad> <extra_id_0> A small dog might have lived with a woman who loved him. He may have lived in a house or other building that was shared by two people.<extra_id_1> </s>\n",
      "########\n",
      "*******\n",
      "question: There are usually four strings on what popular instrument?\n",
      "answer: guitar\n",
      "choices: ['trumpet', 'kite', 'quark', 'guitar', \"bird's nest\"]\n",
      "common expl list: ['A guitar is a stringed instrument with four strings.', 'Guitars have four strings.']\n"
     ]
    },
    {
     "name": "stderr",
     "output_type": "stream",
     "text": [
      "\r",
      " 20%|███████████████████████████████▊                                                                                                                                 | 195/986 [6:26:49<8:51:31, 40.32s/it]"
     ]
    },
    {
     "name": "stdout",
     "output_type": "stream",
     "text": [
      "generated explanation: <pad> <extra_id_0> A banjo is a type of stringed instrument that has four strings and is played with a plectra (stick) as the fretboard. The string(s) on a banjo is the soundboard, and it is used for delivering musical notes and other signals. The strings on a guitar are typically made of nylon or steel, and they are shaped like a horsehair. The name of the instrument comes from the fact that it has four strings, and the four strings are used to produce the sound of the instrument.<extra_id_1> </s>\n",
      "########\n",
      "*******\n",
      "question: Where would you find a shelf with toys for young people learning?\n",
      "answer: school building\n",
      "choices: ['corner', 'school building', 'wall', 'library', 'bookstore']\n",
      "common expl list: ['School buildings house school libraries, in which you would find shelfs of toys, games and puzzle for students to use while in school.', 'A school building is a place where children learn, and so, a school building would have a shelf with toys for young people learning.']\n"
     ]
    },
    {
     "name": "stderr",
     "output_type": "stream",
     "text": [
      "\r",
      " 20%|███████████████████████████████▊                                                                                                                                | 196/986 [6:28:14<11:47:07, 53.71s/it]"
     ]
    },
    {
     "name": "stdout",
     "output_type": "stream",
     "text": [
      "generated explanation: <pad> <extra_id_0> You would find a shelf with toys for young children in a school building. A school building is a building that is used for educational purposes, such as providing instruction, training, or classroom space for students. Toys are small objects, such as balls, dominoes, or other items, that are used for playing games or for stimulating the mind. They are often placed in classrooms and classroom areas, and they are often used as part of the learning process. In a school building, students may find that they can play on the shelves of their favorite things, or on a shelf with toys for young children to learn about the world around them.<extra_id_1> </s>\n",
      "########\n",
      "*******\n",
      "question: What can you get after drinking too much alcohol?\n",
      "answer: sickness\n",
      "choices: ['become drunk', 'have fun', 'active', 'frequent urination', 'sickness']\n",
      "common expl list: [\"Drinking too much alchohol can impair the body and, consequently, one's ability to think straight. It can also cause sickness.\", \"Alcohol (e.g., beer, wine, etc.) is a chemical that alters people's consciousness, making them generally feel unpleasant; subsequently, over-consumption can lead to the vomiting of one's content inside one's stomach. Hence, being\", 'Alcohol is a diuretic, which means that it makes you urinate more frequently. This can lead to dehydration, which can cause sickness.']\n"
     ]
    },
    {
     "name": "stderr",
     "output_type": "stream",
     "text": [
      "\r",
      " 20%|████████████████████████████████▏                                                                                                                                | 197/986 [6:28:25<8:58:25, 40.95s/it]"
     ]
    },
    {
     "name": "stdout",
     "output_type": "stream",
     "text": [
      "generated explanation: <pad> <extra_id_0> Alcohol is a depressant, meaning that it causes discomfort and nausea.<extra_id_1> </s>\n",
      "########\n",
      "*******\n",
      "question: WHat is the central bank responding to when they are fighting inflation?\n",
      "answer: problems\n",
      "choices: ['deflation', 'problems', 'spend more', 'people', 'not noticeable']\n",
      "common expl list: ['In order to fight inflation, a central bank must respond to the problem, e.g., economic trouble, which if left alone, would cause inflation', 'Inflation is a problem, and the central bank is responding to it by fighting it.', 'Periods of inflation cause problems for businesses and people. The central bank may take steps to fight inflation (reduce it) to respond to this problem. Reducing inflation also solves the overall issues.', 'Inflation is a function of having too much money in the economy. This may cause problems.']\n"
     ]
    },
    {
     "name": "stderr",
     "output_type": "stream",
     "text": [
      "\r",
      " 20%|████████████████████████████████▏                                                                                                                               | 198/986 [6:29:51<11:57:52, 54.66s/it]"
     ]
    },
    {
     "name": "stdout",
     "output_type": "stream",
     "text": [
      "generated explanation: <pad> <extra_id_0> When the central bank is fighting inflation, they are responding to problems that the central bank has identified, such as high inflation, low savings rates, and other financial stability issues. When the central bank is responding to these problems, they may take steps to reduce or eliminate the level of inflation that is occurring in the country. Inflation is a measure of the rate at which a country’s currency or other assets have fallen below a certain level, and it is often used as a measure of how much money or other valuable assets are in the country’s economy and financial stability. It is important to note that the country’s central bank may be experiencing high levels of inflation and other financial institutions.<extra_id_11> <extra_id_12>.<extra_id_13>.<extra_id_14>.<extra_id_15>.<extra_id_16>.<extra_id_1> </s>\n",
      "########\n",
      "*******\n",
      "question: What could a massive building be if it is not constructed well?\n",
      "answer: insubstantial\n",
      "choices: ['insubstantial', 'massless', 'dwarf', 'inconsequential', 'good']\n",
      "common expl list: ['A building is typically considered a sizable construction, therefore, if erected poorly, would be construed as being insubstantial.', 'Because the massive structure is so large, poor construction could render it largely inconsequential, or \"insubstantial\", as a structure.']\n"
     ]
    },
    {
     "name": "stderr",
     "output_type": "stream",
     "text": [
      "\r",
      " 20%|████████████████████████████████▎                                                                                                                               | 199/986 [6:30:55<12:33:08, 57.42s/it]"
     ]
    },
    {
     "name": "stdout",
     "output_type": "stream",
     "text": [
      "generated explanation: <pad> <extra_id_0> A building that is not constructed well may not be as strong or as durable as it should be. If a building is not constructed well, it may not be as durable or as strong as it should be. This is because the materials used to construct the building may not be as strong or as durable as they should be. If a building is not constructed well, it may be difficult or impossible for it to remain strong and durable over time. If a building is not constructed well, it may become less durable and less safe than it should be.<extra_id_1> </s>\n",
      "########\n",
      "*******\n",
      "question: If you rent a condominium in a glove-shaped state where are you?\n",
      "answer: michigan\n",
      "choices: ['great lake state', 'michigan', 'community', 'towels', 'complex']\n",
      "common expl list: ['A condominium is a type of housing that is often rented. Condominiums are often located in complexes, and Michigan is a state that is shaped like a mitten.']\n"
     ]
    },
    {
     "name": "stderr",
     "output_type": "stream",
     "text": [
      "\r",
      " 20%|████████████████████████████████▍                                                                                                                               | 200/986 [6:33:00<16:55:16, 77.50s/it]"
     ]
    },
    {
     "name": "stdout",
     "output_type": "stream",
     "text": [
      "generated explanation: <pad> <extra_id_0> If you rent a condominium in a glove-shaped state, you are located in a state that is shaped like a giant hand. The state of Michigan is a large state that is bordered by three states and one province, and it is the largest state in terms of land area. The state of Michigan is known for its lakes, rivers, and lakes, and it is home to a diverse population of people. There are many different neighborhoods and cities in Michigan, and there are many different neighborhoods that are home to a variety of residential properties that are located in a glove-shaped state and thus, and thus, you may be renting a condominium in a condominium in a glove-shaped state, such as a condominium, a residential building, or a residential development that is typically located in a residential neighborhood or other types of housing types and sizes that are available for rent, and affordable, and/or a second home or a rented-renovational or permanent residences.<extra_id_1> </s>\n",
      "########\n",
      "*******\n",
      "question: where do children play a game?\n",
      "answer: family room\n",
      "choices: ['toy store', 'bar', 'casino', 'table', 'family room']\n",
      "common expl list: ['A family room is a room in many homes in which families can socialize, often through games. One such game is \"connect four.', 'A family room is a room in a house where family members can play games.']\n"
     ]
    },
    {
     "name": "stderr",
     "output_type": "stream",
     "text": [
      "\r",
      " 20%|████████████████████████████████▎                                                                                                                              | 200/986 [6:34:13<25:49:17, 118.27s/it]"
     ]
    },
    {
     "name": "stdout",
     "output_type": "stream",
     "text": [
      "generated explanation: <pad> <extra_id_0> Games are played in a variety of settings, including in the home, school, and community settings. Children often play a variety of games, including those that require strategy and planning, as well as the use of various types of equipment and materials. Games are a fun and engaging way for children to learn how to interact with others and to learn new skills. In addition to playing games, children can also learn how to read and write. Games can also be used to teach children important life skills, such as how to interact with others, how to play with others, and to learn new things, and explore their interests.<extra_id_1> </s>\n",
      "########\n"
     ]
    },
    {
     "name": "stderr",
     "output_type": "stream",
     "text": [
      "\n"
     ]
    }
   ],
   "source": [
    "from tqdm import tqdm\n",
    "fse_csqa_dev_data_dict\n",
    "fse_csqa_train_data_dict\n",
    "rationale_pair_dev_data = []\n",
    "cc=0\n",
    "good_model = model\n",
    "for da in tqdm(our_data_splits['dev'], total=len(our_data_splits['dev'])):\n",
    "    print(\"*******\")\n",
    "    print(\"question: {}\".format(da['question']))\n",
    "    print(\"answer: {}\".format(da['answer']))\n",
    "    print(\"choices: {}\".format(da['choices']))\n",
    "    #print(\"our_explanation: {}\".format(da['our_explanation']))\n",
    "    id_ = da['id']\n",
    "    if id_ in fse_csqa_dev_data_dict.keys():\n",
    "        common_expl_list = fse_csqa_dev_data_dict[id_]['common_expl_list']\n",
    "    else:\n",
    "        common_expl_list = fse_csqa_train_data_dict[id_]['common_expl_list']\n",
    "    da[\"common_expl_list\"] = common_expl_list\n",
    "    print(\"common expl list: {}\".format(common_expl_list))\n",
    "    inp_ids = torch.tensor(da[\"input_ids\"], device=model.device).reshape(1, -1)\n",
    "    out = good_model.generate(\n",
    "                    inp_ids,\n",
    "                    max_length=512,\n",
    "                    pad_token_id=tokenizer.pad_token_id,\n",
    "                    eos_token_id=tokenizer.eos_token_id,\n",
    "                )\n",
    "    skip_special_tokens = False if \"infilling\" in data_args.io_format else True\n",
    "    words = tokenizer.decode(out[0].tolist(), skip_special_tokens=skip_special_tokens)\n",
    "    print(\"generated explanation: {}\".format(words))\n",
    "    da[\"generated_explanation\"] = words\n",
    "    print(\"########\")\n",
    "    rationale_pair_dev_data.append(da)\n",
    "    cc += 1\n",
    "    if cc > 200:\n",
    "        break\n",
    "    #pdb.set_trace()"
   ]
  },
  {
   "cell_type": "code",
   "execution_count": 56,
   "id": "a7a66b99",
   "metadata": {},
   "outputs": [],
   "source": [
    "import json\n",
    "rationale_pair_save_path = os.path.join(\"./results\", \"24shots_cose_t5_3b_chatgpt_rationales_generator_test_rationale_pair_iter.json\")\n",
    "with open(rationale_pair_save_path, 'w') as f:\n",
    "    json.dump(rationale_pair_dev_data, f)"
   ]
  },
  {
   "cell_type": "code",
   "execution_count": 57,
   "id": "33daef0f",
   "metadata": {},
   "outputs": [
    {
     "data": {
      "text/plain": [
       "dict_keys(['5b8a3081c3235d62bc77e2d15f3ad454', '07f108d5321a66f460685f5c7499ecb2', 'ff1bf2ec835c9df8695ae0cfb5281646', '33ea932a876ac0361c9eefeff1d24e92', '35ad89c198d5d6311a71c993bb7b6cba', 'a2aa95861ef74bf1ecfc55db505e3982', 'af3b9a8b1962cd3bcd19e644d873e7bc', '91e0f4ab62c9d2fd440d73a3f5308d96', 'cfc7fccb8449a2a950c9d2a50991420e', 'edbb57ac2f476679ae547f75ec2bef3e', '8555dd9667d010018961a2f7d1c22704', '8bdbb8caefcc607a9ec7579aa0c87cba', '549cf641318edfc0510fa7c7dbb359e1', 'd6c002d46d9bfa466637cec4a134f332', '3b9ccdcb1c932c46a38e040d3e6c7f5b', '54231f875bb7fe4d3e4afb6eae64387c', '668dc6bce771b10cbf6336f3ec76520a', '900492bd731f8f615ed7c08155737d44', '0b25bbd9e9aa976655e1975e31331709', '1729c737ff92cf558efecde2c6cafc5e', 'cc1a547bdfdcc95e4d632453af14bc96', 'c492b8b9754a181c924c1df19998cbc7', 'd31ee38f67d1173275e120b8ad36039c', '083861fc5ebb9226fff70544f3f83d2b', 'e1744fc698cffb574e5cf4b29a81ce76', '1f492f556fae64f72ce36b6caa242dd0', '27604394ccee83e089f9ffae1883cf07', 'b3dc6d6a5e2f9d7da8eb72816c80b3f8_1', '6bc3ebcfd04965c25bde71339955746c', '69335eb9bc5b7b5df840c38a086bf8b2', 'bc05bc6b4df7a3d25a361515fe8912ad', 'f7c005244d406b9bde48dc8c22003af1', 'f48528156632b9c5b18af9ce2095509b', 'b5baf77d3855935c87f01f5fb2216667', 'db1eb157671109bbb9113b0f71a6b957', '77ddc9134bb27f9962aa2ed5ec5a5ef9', '6abd34442438509b4a00c69d6fd24764', 'b67971747e95ba425a5b81e0ba8d0b28', 'bee2a6eadfaf7a4fa0a214e341ddbe5b', '8ce13c6e08bf38d4cd4af756b661e47c', '80930e9df9ac4ad752749a54e7fc124f_1', '3ffe67fb009529d9b0c49ccd7141ee4a', '8d3dc21a53523850ec80771daaa5ff20', '3310b5b24f03d67179fababf9ae95144', '998381f854f51da2a6ccde45909e5168', 'f427f9de6bf580314531baf86de8acbc', '18844d3aa4e52b331b5382c8244cf4db', '8af63d58cc35061dec38e5448c325988', '768fb09deab56046e1565b6a2556ad5c', '5655a3002dd9a6b7dabede1dd26a5893', '07ea8ff6ee916f2bf9aceab1e19ff99a', 'd35a8a3bd560fdd651ecf314878ed30f', '449de58e919975867255218484a9fc89', '7cf54544d54818d53e7088c0749a3eca', 'd29252ddaf7c7ef491abcce342d7bb98', '4a4f6408fae400ce0beb5bea0f9913e9', 'c306ab28498b67c53decb9dde1d78bd5', 'ba9132ebf2bc3ad21e6a0631dc4e0a77', '026cb9c07a583ec933f2c4c67ae73836', '2a21820a135e1a49883525c055c74a0b', '7c45033e9fd9f1a759923971b14390ed', 'dc964e4f6df6b70815e81e466d0ff717', '2a32b1e541b1daae04690d0d3a4b3310', '6c515b068b4d3aa88a5382224d9b866d', '6c84e79d0595efd99596faa07c4961d0', '42c46e28baf0fc617a07419286178c0a', 'c39131d979c9205c11d0e109e18188e4', 'c592258c88295756833e9796e881057b', '3526550b02d9594abd4fc43553010fc6', '637c710ec9582fd9b9e8eaa3f3fe83bb', '01f01cc3ad152773ef42b30e926912bf', 'c54ddc0f9d170ba65d9f4f2e0bb41d1c', 'ad37795fd9e3a65553683ff305b5113d', '7a3d0c94438a5c8a09364aaebb848a2c', '7c05e8d5a057085455eea243fbd1cd90', '4364b4b342fb7b44434bd6694bf8fd51', '99098375c7b651d524eebac72e358238', '1ddd239a2a6438a891cb411b82e7f450', 'f4bb8ecacb9ce89e040f5f76bc79afb3', '6b9221c1af583ffb43580857d6fde38a', 'cf8e30dd6956d03e3f0f0397112a8696', '456f2fb41cac8c028dcfe2f48637e473', 'c908d7c4633c5e6add9463bdd47cb27e', '2de08c7a518b7c226e19bdc8fc10ef1d', 'cd639cf3ff82f825ace7dd2b087562bd', 'e3c6d147f8a727d314046e70e9579ba0', 'b9b82aa4c236cd342ff95455b8516a42', 'e4976ee741cf4b28b8a42780ffb15774', '8d275acea05fd16295c659c504576a9b', '3bf06235a537adc9d85431846595b800', 'a7d51b753c2113d8b2dbd0ebb5375855_1', 'bcc5dd6292a64d8fa17cd07c360b335d', '46ba5d2b8cfc6708e5e2618568d8730e', '9f9ca9bb06d6afc31b19c365fb29a1c9', '3d9c3253e24fb108cea9083e8a853cf2', '3b8e1d236f5169b6c833a994d6d9c39a', '6ca8439d062de4d43d7d471c508b78db', 'ec86900559a0faf2aef066e511a4cfa6', '57e96118fee6e2bbac5f59790fc833c0', '520b0eea9148e3cb4d45aa69a55491eb', '6be05d227f4f6fe727218fc8be9df340', '113aaea2b1a27a976547f54e531d99bb', '2f0931adc3d0d422d9ab6264395e89d8', 'cce1b59f7c4f540a84a1a7d6d88548c4', '870b07a1c5af2e956673a9680da99852', '34005ef0caafefc8585c9fcd50e94557', '22458fdcead20e2def0df0d92d5806f6', 'ec224c1dbfb569cce7ec317fe987ae68', 'ede4d302fc2ffe07703158f83c1493f2', 'ecd32cc0c17d4738a27bba3399f04591', '5c171b9837af49211891ce40e4a10204', '801431167b8bff06b9870abe9721536b', 'b47d912136e3304cb5e5890b6b879551', 'd0bd5b5ee7319d1c4727e38d429dd54e', '78276a4eab6e8d6b9ae3749211816977', 'ec79ef747bb89281923edb89ba26786d', '0e80f2afe5c4f652e8720b52d7c06c87', '39572e0ba1db51fa74f7fc2d90c5ec7f', '56417ee33b44f0d916bedfb6fd99b0ec', 'f996430ce208606452868fd2e739d409', '858a5eaa587fe0e266722228671a6bd1', '273d0134e8ce53d4ebcf41ca7fde02af', '49e466b1782aa4837dae53ff891fcdee', '08d908ed723f813574992195d61386a2', '7192c9f5c513aac9042bad595ff5af9f', 'aa4c5d2d348796b8d7fa324f27f4c34f', '0e52659484f2f6d763cf0d38d4c5999d', '4423c006f2a43f222d4c4e97360c25d3', 'f4a75bf3f115b826a8097edfd0ff2781', '07b51b231a9d6a143d8a73e69121e1b1', 'c2a8c6814ed3e207771cfc23b3b42cf1', 'f13efb91090dd28fd2b3c1f4dde680fd', '985a4f1a3f31f1ba6654f4fc48f504df', '9e5ce2b7d9eb404cdf8c7317dd0b5a59', 'a400b9fd1e319f901471c4b42d401c52', '042898e0c71adac5d123aaa6221c9754', '29c194d032a266a7160bff6f546a4d9d', 'db0cfd52ca6b2bbfcf26d1a898fd929b', '2a0e82bbf1471290c93c8f2a11af197f', '49b4c9e1bd7946a819e173ce8fa4c7c9', '6cb895ce89995f6be422f7c4167c7638', 'df1bf6f3f87975aa0c1b6d6153d9ecef', '1bf4c6b5bd870b1a079106e1e97e5d09', '8ae24d3ff199077a59e0d970feb665b7', 'bb503ece4eac41dfe608a1dcb654e6bf', '6e77de03bee86d6c20780e14f00944d0', '5799089c131e26473697afc54d5f6964', '895aa97bb84d874d71b2aed572cebfdd', '23d97480fe45bace231503f8fc367a5b', 'a2977fd575faba162d04a490dabd1b9b', '5a1c8a9dbbb60e523cc1ba14a370729c', '5496c7293f653120e5a5213db2d7b103', '7044d82a456d0fa6f0210abb03cbf2c4', '15b090801256085ad465e74af47cbee9', 'aa984e2b487d08889bc0c73bab5ac945', '4302e727e47f464511d4d04f22bed0d2', 'b6b66d4519a84b8331ea55f84767e9df', '0e5c7c0cec5b693e52f74f5f879d84fb', 'e408a5a031caec33782cb3b3a005eecc', '96cb628fb7ed2f53245598f707ed2b80', '2067720531fc03c017af941cec2f6f40', '5b8d76889510384b38b72945e8d28f53', 'cf33e0f5891ce53a716432be06a46ee1', '24eebfa678112100803da16dde148b2d', '0c2fa15a02d0b6ca6707e98fac7589e4', 'c2c2a387fd9a6a26cff636008de21f71', 'f20d40bc4af588223e880e0bb58b27b8', 'b42ef8be1748c19fa5938de5396f8fad', '57b83653d82b27d32bc39228130f3516', '2192c5c2145a6e03755ad89a02e64055', '175e7dcdded13d5adafaebf2264c3abd', '8d4b0312f02be445e09a9462873d02bb', 'cfa081b5ba90dae4d7ddb5b7ad9d369a', 'd6bb990e8c409d2b3af37a2da198e01f', '20a3bb788cf408d9a3e25e610fe60905', 'af11faa29097b71141fe192ad019d1dd', '6915dfdefe3b1cd5fd8886c8bb84929a', '43ba9669564217f2f909f33acbedaf95', 'fce1c5d069758aea57a787fc98dcf7a9', '32758ab86d888be680845b0dfe7de35e', '7ea57ee4580042b0a6a40479c8ace3e4', '21fb76bd8349628b441c76f47c33e77b', '3fe45ab3bd4a844ea290050fc0ece8c1_1', '3dee8fc7f0a3fbf4de111b6686fca157', 'ceafca2445b1b974d085a8cce38e8e44', '42520bf3f93f8de23670044e019001a3', '5ea6b94d1a911365b06cf776919413e8', '2d3c9d3dff1a7a8253180cb3de1ceeea', 'a4892551cb4beb279653ae52d0de4c89', 'e050bce7048da1b3743a54153e91694e', 'eb50f536830ba18ab987c7ff652e2aba', '6386bcf080633bc3eeb3317a5435b7b7', '839f3c37622c1ed5eebc9cd0b9d658e8', '009a7aabffe0583fc2df46656b29c326', 'c82ed0c2a2e115452b4d596c5faafbcf', '01abce8c4964371d85a5be2019f75827', '7d937233b4a9043da0b976dbd42d141b', 'c611875b43b67b91030b889b267bbcb3', '7bc1198664b376f79d584725ad7f874b', '5e260e1d96187716888cbd968010bb65', 'fde48d43e27cefed6ed9c52514e0bb6d', '43ab0ff711e60d51f943bbd2cdd6515a', '1a8b3c2a46efabcbd506f9cf70886ed0', '48a315cfa3ce11f7a9d615bc854331d5', '095767956c500ca1af7cf7671556de5b', 'de54d03e69d9765872f95ff06ed21499', 'cbf3dd48b4d591fc872a53cd4b9dd3af', '35872be88df5f6c4a6600020266a5458', 'a90f9197a13c64089c9ba95bcba275ad', 'bd4e80fa6642a76c064d0bc924411fb0', '008b7ba0c039f6d0d542c6c90aae173c', 'ace8fa2943ba8414aebdb74b48906fae', '1caf93d6a22dc8190e19c14bbe1fafda', '7c8bc9c0e56389eef033bca40c88c151', '6195ed74cf445cb5d991e1076a080dde', '8086f022f2d4a4888ae1f8c7e4541ab9', '1e5a138b4c7d456c37abf4990b402bbe', '3f4b48708d08f8bf7bec796531023f9c', '60e92cd2f35c345872d1a898e1718d55', '9889e5389917d812c09d6e5d382d333d', '46351b3a6beb694c5f623583a3b1473d', '7b7941b883328ad39048d4dfb1eb5623', '7d7f7d7a8ae3b20ca9fc0da6efe467b4', 'c961578f4c5768b67b843e5d2ce18452', '514310637fb43a252bfadc8cbf79b277', '5279a2ea333ba8a5bf3a7637a7279da1', '5622e49306bb82ec1cec817ad0506c60', 'fcd39cfa321728fea069a6ae4285b06f', '26bd85f05d29863ed777a4f1a4b8fa63', '31487ab8b1e8f12e252590cc58bd19c2', 'ffd89796a9b09bef56c5803f188764c6', 'ba3a2b9ff289c106051163f840a6f5ba', 'b1f36d1c8ab7e5a28783cb38e8709c27', '5c2bc4335c8860342ec2d568ceb6ac6b', '36c1f50eec01c287b8ef6ffe69fe0528', '515834727e23e30ab7c8fe5ba7e9a765', 'a15d564d0be6996251b5d523ac62db2a', '8f01273422a370a8dbda6bf473a395a0', 'cabefb7063a728e77abd44d97397a2a4', '1bc986f8aea88d6927d8a45367855a94', '484f6e4fb8e6431b010c299490b72e3c', 'a7e3de0719fe30e7048f67426e29fdd1', 'a617eb4d27edea93e7fd630ce00c8219', '2c0030cc14a27be2401dcfdaa501f0fc', 'cf02cca40a47c2deefd8b2e5a5ff2f70', 'ea0e7771afd86a59fd9f7764b77e3fa4', 'c1aebf059c5102f4e773f7fe4afe13f0', '95a85df48902d23eb3fda25a99fca1a0', 'a4b44a986e7f9045432e20ea75611df4', '05490e6c191fbc3c2fe0033ed0bd8aa0'])"
      ]
     },
     "execution_count": 57,
     "metadata": {},
     "output_type": "execute_result"
    }
   ],
   "source": [
    "fse_csqa_dev_data_dict.keys()"
   ]
  },
  {
   "cell_type": "code",
   "execution_count": null,
   "id": "557d40fd",
   "metadata": {},
   "outputs": [],
   "source": []
  },
  {
   "cell_type": "code",
   "execution_count": null,
   "id": "773c5d68",
   "metadata": {},
   "outputs": [],
   "source": []
  }
 ],
 "metadata": {
  "kernelspec": {
   "display_name": "Python 3 (ipykernel)",
   "language": "python",
   "name": "python3"
  },
  "language_info": {
   "codemirror_mode": {
    "name": "ipython",
    "version": 3
   },
   "file_extension": ".py",
   "mimetype": "text/x-python",
   "name": "python",
   "nbconvert_exporter": "python",
   "pygments_lexer": "ipython3",
   "version": "3.7.0"
  }
 },
 "nbformat": 4,
 "nbformat_minor": 5
}
