{
 "cells": [
  {
   "cell_type": "code",
   "execution_count": 1,
   "id": "f5286ba7",
   "metadata": {},
   "outputs": [],
   "source": [
    "import wandb\n",
    "# wandb.login()\n",
    "\n",
    "# %env WANDB_PROJECT=evaluate_LM_with_rationalization"
   ]
  },
  {
   "cell_type": "code",
   "execution_count": 2,
   "id": "30300ea6",
   "metadata": {},
   "outputs": [],
   "source": [
    "# import gpt3\n",
    "import logging\n",
    "import math\n",
    "import os\n",
    "\n",
    "from typing import List, Dict, Any, NewType\n",
    "\n",
    "InputDataClass = NewType(\"InputDataClass\", Any)\n",
    "os.environ[\"CUDA_VISIBLE_DEVICES\"] = \"0\"\n",
    "from transformers import (\n",
    "    T5Config,\n",
    "    T5ForConditionalGeneration,\n",
    "    T5Tokenizer,\n",
    "    HfArgumentParser,\n",
    "    TrainingArguments,\n",
    "    set_seed,\n",
    "    EarlyStoppingCallback\n",
    ")\n",
    "from transformers.trainer_utils import EvaluationStrategy\n",
    "from transformers.integrations import TensorBoardCallback\n",
    "import transformers\n",
    "from transformers import Trainer\n",
    "\n",
    "#from feature_conversion_methods import format_instance\n",
    "\n",
    "from custom_args import (\n",
    "    DataTrainingArguments,\n",
    "    ModelArguments\n",
    ")\n",
    "from metrics import evaluate\n",
    "import torch\n",
    "import datasets\n",
    "import git\n",
    "import time\n",
    "from datetime import datetime\n",
    "import sys\n",
    "from tqdm import trange\n",
    "import random \n",
    "import pandas as pd \n",
    "import jsonlines\n",
    "from copy import deepcopy \n",
    "\n",
    "logger = logging.getLogger(__name__)\n",
    "transformers.logging.set_verbosity_info()\n",
    "import re\n",
    "def set_global_logging_level(level=logging.ERROR, prefices=[\"\"]):\n",
    "    \"\"\"\n",
    "    Override logging levels of different modules based on their name as a prefix.\n",
    "    It needs to be invoked after the modules have been loaded so that their loggers have been initialized.\n",
    "\n",
    "    Args:\n",
    "        - level: desired level. e.g. logging.INFO. Optional. Default is logging.ERROR\n",
    "        - prefices: list of one or more str prefices to match (e.g. [\"transformers\", \"torch\"]). Optional.\n",
    "          Default is `[\"\"]` to match all active loggers.\n",
    "          The match is a case-sensitive `module_name.startswith(prefix)`\n",
    "    \"\"\"\n",
    "    prefix_re = re.compile(fr'^(?:{ \"|\".join(prefices) })')\n",
    "    for name in logging.root.manager.loggerDict:\n",
    "        if re.match(prefix_re, name):\n",
    "            logging.getLogger(name).setLevel(level)\n",
    "set_global_logging_level(logging.ERROR, [\"datasets\"])\n",
    "\n",
    "\n",
    "CONFIG_MAPPING = {\"t5\": T5Config}\n",
    "MODEL_MAPPING = {\"t5\": T5ForConditionalGeneration}\n",
    "TOKENIZER_MAPPING = {\"t5\": T5Tokenizer}\n",
    "\n",
    "\n",
    "def set_other_seeds(seed):\n",
    "    torch.backends.cudnn.benchmark = False\n",
    "    #torch.backends.cudnn.deterministic = True\n",
    "    os.environ['PYTHONHASHSEED'] = str(seed)\n",
    "\n",
    "# inspired by DefaultDataCollator from:\n",
    "# https://github.com/huggingface/transformers/blob/master/src/transformers/data/data_collator.py\n",
    "# modified to perform batch-level padding.\n",
    "class SequenceCollator:\n",
    "    def __init__(self, model, pad_token):\n",
    "        self.model = model\n",
    "        self.pad_token_mapping = {\n",
    "            \"labels\": -100,\n",
    "            \"attention_mask\": 0,\n",
    "            \"decoder_attention_mask\": 0,\n",
    "            \"input_ids\": pad_token,\n",
    "        }\n",
    "\n",
    "        self.columns = [\n",
    "            \"input_ids\",\n",
    "            \"attention_mask\",\n",
    "            \"labels\",\n",
    "            \"decoder_attention_mask\",\n",
    "        ]\n",
    "\n",
    "    def __call__(self, examples: List[Dict[str, InputDataClass]]) -> Dict[str, torch.Tensor]:\n",
    "        # re-format inputs for training\n",
    "        batch = {}\n",
    "        for key in examples[0].keys():\n",
    "            if key in self.columns:\n",
    "                tmp_list = []\n",
    "                for item in examples:\n",
    "                    tmp_list.append(item[key])\n",
    "\n",
    "                # pad lists to max length\n",
    "                if isinstance(tmp_list[0], list):\n",
    "                    max_length = max(map(len, tmp_list))\n",
    "                    tmp_list = [\n",
    "                        el + [self.pad_token_mapping[key]] * (max_length - len(el))\n",
    "                        for el in tmp_list\n",
    "                    ]\n",
    "\n",
    "                batch[key] = torch.tensor(tmp_list, dtype=torch.long)\n",
    "        return batch\n"
   ]
  },
  {
   "cell_type": "code",
   "execution_count": 3,
   "id": "2fa5a75a",
   "metadata": {},
   "outputs": [],
   "source": [
    "from collections import defaultdict\n",
    "import random\n",
    "\"\"\"\n",
    "Example-to-Feature conversion methods\n",
    "Modified from\n",
    "https://github.com/salesforce/cos-e/blob/master/code/generation/train_commonsenseqa_v1.0.py and \"\"_v1.11.py (identical)\n",
    "as well as Tensorflow code for WTF?: \n",
    "https://github.com/google-research/google-research/blob/master/wt5/wt5/preprocessors.py\n",
    "\"\"\"\n",
    "# This code is based on https://github.com/allenai/label_rationale_association/blob/main/feature_conversion_methods.py\n",
    "\n",
    "unified_qa_esnli_label_mapping = {0: 'yes', 1: 'maybe', 2: 'no'}\n",
    "unified_qa_esnli_label_mapping_upper = {0: 'Yes', 1: 'Maybe', 2: 'No'} \n",
    "wt5_esnli_label_mapping = {0: 'entailment', 1: 'neutral', 2: 'contradiction'} \n",
    "unified_qa_sbic_label_mapping = {\"offensive\": 'Yes', \"not offensive\": 'No'}\n",
    "\n",
    "def format_instance(\n",
    "        example,\n",
    "        tokenizer,\n",
    "        explanation_sep,\n",
    "        max_seq_length=None,\n",
    "        datasource=None,\n",
    "        io_format=None, \n",
    "):\n",
    "    assert datasource in {\"cos_e\", \"esnli\", \"sbic\", \"sensemaking\", \"ecqa\"}\n",
    "\n",
    "    if datasource in [\"cos_e\", \"ecqa\"]:\n",
    "        input_string, answer_string = cqa_formatting(example, io_format, explanation_sep, datasource)\n",
    "    elif datasource == \"esnli\":\n",
    "        input_string, answer_string = esnli_formatting(example, io_format, explanation_sep)\n",
    "    elif datasource == 'sbic':\n",
    "        input_string, answer_string = sbic_formatting(example, io_format, explanation_sep)\n",
    "    elif datasource == 'sensemaking':\n",
    "        input_string, answer_string = sensemaking_formatting(example, io_format, explanation_sep)\n",
    "    else:\n",
    "        raise ValueError(\"Unknown task. Currently supported: esnli, cos_e, sbic, sensemaking, ecqa.\")\n",
    "    \n",
    "    if 'unified' in io_format and 'unifew' not in io_format:\n",
    "        input_string += '</s>'\n",
    "\n",
    "    input_string = ' '.join(input_string.split())\n",
    "    answer_string = ' '.join(answer_string.split())\n",
    "\n",
    "    input_string = ' '.join(input_string.split())\n",
    "    answer_string = ' '.join(answer_string.split())\n",
    "\n",
    "    encodings = tokenizer.encode_plus(\n",
    "        input_string,\n",
    "        max_length=max_seq_length,\n",
    "        pad_to_max_length=False,\n",
    "        return_token_type_ids=False,\n",
    "        return_attention_mask=True,\n",
    "    )\n",
    "\n",
    "\n",
    "    # note even with \"lm_labels.shift_right()\", the decoder attention mask length is still correct since we remove the last token\n",
    "    dec = tokenizer.encode_plus(\n",
    "        answer_string,\n",
    "        max_length=max_seq_length,\n",
    "        pad_to_max_length=False,\n",
    "        return_token_type_ids=False,\n",
    "        return_attention_mask=True,\n",
    "    )\n",
    "\n",
    "    encodings[\"labels\"] = dec[\"input_ids\"]\n",
    "    encodings[\"decoder_attention_mask\"] = dec[\"attention_mask\"]\n",
    "    encodings[\"question_encoding\"] = encodings[\"input_ids\"]\n",
    "\n",
    "    #return encodings\n",
    "    return {**example, **encodings}\n",
    "\n",
    "#这里很简单 定义好输入输出string就可以的\n",
    "def cqa_formatting(item, io_format, explanation_sep, datasource):\n",
    "    question = item[\"question\"]\n",
    "    answer = item[\"answer\"]\n",
    "    abstr_expl = item[\"abstractive_explanation\"].lower() if datasource == 'cos_e' else item[\"explanation\"].lower()\n",
    "\n",
    "\n",
    "    if io_format == 't5_fewshot_infilling_with_choices':\n",
    "        input_string = f\"explain {datasource} question: {question} choice: \" + \" choice: \".join(item[\"choices\"]) + f\" <extra_id_0> {explanation_sep} <extra_id_1>\"\n",
    "        answer_string = f\"<extra_id_0> {answer} <extra_id_1> {abstr_expl} <extra_id_2>\"\n",
    "    elif io_format == 't5_fewshot_infilling_more_natural':\n",
    "        input_string = f\"explain {datasource} question: {question} choice: \" + \" choice: \".join(item[\"choices\"]) + f\" The answer is <extra_id_0> {explanation_sep} <extra_id_1>\"\n",
    "        answer_string = f\"<extra_id_0> {answer} <extra_id_1> {abstr_expl} <extra_id_2>\"\n",
    "    elif io_format == \"squad\": \n",
    "        input_string = f\"explain {datasource} question: {question} context: \" + ', '.join(item['choices']) # explain cos_e question: When getting in shape you need to have this in between workouts? context: give up, period of recovery, jogging\n",
    "        answer_string = f\"{answer} {explanation_sep} {abstr_expl}\" # period of recovery because without a period of recovery you will not get any gains.\n",
    "    elif io_format == \"record\": \n",
    "        # might not work because cos_e doesn't have a passage \n",
    "        input_string = f\"explain {datasource} query: {question} entities: \" + ', '.join(item['choices']) # explain cos_e query: When getting in shape you need to have this in between workouts? entities: give up, period of recovery, jogging\n",
    "        answer_string = f\"{answer} {explanation_sep} {abstr_expl}\" # period of recovery because without a period of recovery you will not get any gains.\n",
    "    elif io_format == 'unifiedqa_matching':\n",
    "        choice_ids = ['(A)', '(B)', '(C)', '(D)', '(E)']\n",
    "        input_string = f'explain {question.lower()} \\\\n'\n",
    "        for choice_id, choice in zip(choice_ids, item[\"choices\"]):\n",
    "            input_string += f' {choice_id} {choice.lower()}'\n",
    "        answer_string = f\"{answer.lower()} {explanation_sep} {abstr_expl.lower()}\"\n",
    "        answer_string = answer_string.lower()\n",
    "    elif io_format == 't5_fewshot_infilling_without_choices_use_refined_expl':\n",
    "        input_string = f\"explain {datasource} question: {question} choice: \" + \" choice: \".join(item[\"choices\"]) + f\" <extra_id_0> {explanation_sep} <extra_id_1>\"\n",
    "        input_string = f\"explain {datasource} question: {question} answer: {answer}\" + f\" {explanation_sep} <extra_id_0>\"\n",
    "        answer_string = f\"<extra_id_0> {item['our_explanation']} <extra_id_1>\"\n",
    "\n",
    "    else:\n",
    "        raise ValueError(\"The IO format is not supported. Choose `standard` or `masked_cause_generate`.\")\n",
    "    \n",
    "    return input_string, answer_string\n",
    "\n",
    "\n",
    "def esnli_formatting(item, io_format, explanation_sep):\n",
    "\n",
    "    premise = item[\"premise\"]\n",
    "    hypothesis = item[\"hypothesis\"]\n",
    "    answer = unified_qa_esnli_label_mapping[item[\"label\"]] if 'unified' in io_format else wt5_esnli_label_mapping[item[\"label\"]]\n",
    "    abstr_expl = item[\"explanation_1\"].lower() \n",
    "    # Dev/test instances have more than one explanation annotated; merge them into one sequence separated by [SEP] \n",
    "    for k in [2,3]:\n",
    "        if f\"explanation_{k}\" in item and item[f'explanation_{k}']!='': \n",
    "            abstr_expl += f\" [SEP] {item[f'explanation_{k}'].lower()}\"\n",
    "\n",
    "    if io_format == 'standard':\n",
    "        input_string = f\"explain nli hypothesis: {hypothesis} premise: {premise}\"\n",
    "        answer_string = f\"{answer} {explanation_sep} {abstr_expl}\"\n",
    "    elif io_format == 't5_fewshot_infilling':\n",
    "        input_string = f\"explain nli hypothesis: {hypothesis} premise: {premise} <extra_id_0> {explanation_sep} <extra_id_1>\"\n",
    "        answer_string = f\"<extra_id_0> {answer} <extra_id_1> {abstr_expl} <extra_id_2>\"\n",
    "    elif io_format == 't5_fewshot_infilling_more_natural':\n",
    "        input_string = f\"explain nli hypothesis: {hypothesis} premise: {premise} This is <extra_id_0> {explanation_sep} <extra_id_1>\"\n",
    "        answer_string = f\"<extra_id_0> {answer} <extra_id_1> {abstr_expl} <extra_id_2>\"\n",
    "    elif io_format == \"squad\": \n",
    "        input_string = f\"explain nli question: Is this entailment? context: {hypothesis} {premise}\"  \n",
    "        answer_ynm = unified_qa_esnli_label_mapping[item[\"label\"]]\n",
    "        answer_string = f\"{answer_ynm} {explanation_sep} {abstr_expl}\" \n",
    "    elif io_format == \"squad_endswith_what\":\n",
    "        input_string = f\"explain nli question: What is this? context: {hypothesis} {premise}\"  \n",
    "        answer_string = f\"{answer} {explanation_sep} {abstr_expl}\"  \n",
    "    elif io_format == \"squad_nli_mix\": \n",
    "        input_string = f\"explain nli question: Is this entailment? context: hypothesis: {hypothesis} premise: {premise}\"  \n",
    "        answer_ynm = unified_qa_esnli_label_mapping[item[\"label\"]]\n",
    "        answer_string = f\"{answer_ynm} {explanation_sep} {abstr_expl}\"  \n",
    "    elif io_format == \"squad_nli_mix_endswith_what\":  \n",
    "        input_string = f\"explain nli question: What is this? context: hypothesis: {hypothesis} premise: {premise}\"  \n",
    "        answer_string = f\"{answer} {explanation_sep} {abstr_expl}\"   \n",
    "    elif io_format == 'unifiedqa_unifew':\n",
    "        hypothesis = hypothesis.lower().rstrip('.')\n",
    "        unified_qa_esnli_label_mapping_upper = {0: 'Yes', 1: 'Maybe', 2: 'No'}\n",
    "        answer = unified_qa_esnli_label_mapping_upper[item[\"label\"]]\n",
    "        input_string = f'explain {premise} Is {hypothesis}? \\\\n (A) Yes (B) Maybe (C) No'\n",
    "        answer_string = f\"{answer} {explanation_sep} {abstr_expl}\"  \n",
    "    elif io_format == 'unifiedqa_unifew_nli_mix':\n",
    "        premise = premise.lower().rstrip('.')\n",
    "        unified_qa_esnli_label_mapping_upper = {0: 'Yes', 1: 'Maybe', 2: 'No'}\n",
    "        input_string = f'explain hypothesis: {hypothesis} Is premise: {premise}? \\\\n (A) Yes (B) Maybe (C) No'\n",
    "        answer_string = f\"{answer} {explanation_sep} {abstr_expl}\"  \n",
    "    elif io_format == 'unifiedqa_ynm': \n",
    "        input_string = f'explain is this entailment? \\\\n {hypothesis.lower()} {premise.lower()}'  \n",
    "        answer = unified_qa_esnli_label_mapping[item[\"label\"]]\n",
    "        answer_string = f\"{answer} {explanation_sep} {abstr_expl.lower()}\"  \n",
    "    elif io_format == 'unifiedqa_snli_mix_ynm': \n",
    "        input_string = f'explain is this entailment? \\\\n hypothesis: {hypothesis.lower()} premise: {premise.lower()}' \n",
    "        answer = unified_qa_esnli_label_mapping[item[\"label\"]]\n",
    "        answer_string = f\"{answer} {explanation_sep} {abstr_expl.lower()}\"  \n",
    "    elif io_format == 'unifiedqa_snli_mix_ynm_with_choices': \n",
    "        input_string = f'explain is this entailment? \\\\n (A) yes (B) maybe (C) no \\\\n hypothesis: {hypothesis.lower()} premise: {premise.lower()}'  \n",
    "        answer = unified_qa_esnli_label_mapping[item[\"label\"]]\n",
    "        answer_string = f\"{answer} {explanation_sep} {abstr_expl.lower()}\"  \n",
    "    elif io_format == 'unifiedqa_what_v2': \n",
    "        input_string = f'explain what is this? \\\\n {hypothesis.lower()} {premise.lower()}'  \n",
    "        answer = wt5_esnli_label_mapping[item[\"label\"]]\n",
    "        answer_string = f\"{answer} {explanation_sep} {abstr_expl.lower()}\"  \n",
    "    elif io_format == 'unifiedqa_snli_mix_what_v2': \n",
    "        input_string = f'explain what is this? \\\\n hypothesis: {hypothesis.lower()} premise: {premise.lower()}'  \n",
    "        answer = wt5_esnli_label_mapping[item[\"label\"]]\n",
    "        answer_string = f\"{answer} {explanation_sep} {abstr_expl.lower()}\"  \n",
    "    elif io_format == 'unifiedqa_snli_mix_what_with_choices_v2': \n",
    "        input_string = f'explain what is this? \\\\n (A) entailment (B) neutral (C) contradiction \\\\n hypothesis: {hypothesis.lower()} premise: {premise.lower()}'  \n",
    "        answer = wt5_esnli_label_mapping[item[\"label\"]]\n",
    "        answer_string = f\"{answer} {explanation_sep} {abstr_expl.lower()}\"     \n",
    "    else:\n",
    "        raise ValueError(\"The IO format is not supported.\")\n",
    "\n",
    "    return input_string, answer_string\n",
    "\n",
    "\n",
    "def sbic_formatting(item, io_format, explanation_sep):\n",
    "    # We pre-processed the SBIC dataset such that we join multiple implied statements with the [SEP] token for dev/test instances \n",
    "    # Each annotation in the training split is a separate instance\n",
    "    post = item['post']\n",
    "    answer = unified_qa_sbic_label_mapping[item[\"offensiveYN\"]] if 'unified' in io_format else item[\"offensiveYN\"].replace(\"not offensive\", \"not_offensive\")\n",
    "    abstr_expl = item[\"targetStereotype\"]\n",
    "    \n",
    "\n",
    "    if io_format == 'cola':\n",
    "        input_string = f\"explain sbic sentence: {post}\"\n",
    "        answer_string = f\"{answer} {explanation_sep} {abstr_expl}\"  \n",
    "    elif io_format == 't5_fewshot_infilling':\n",
    "        input_string = f\"explain sbic sentence: {post} <extra_id_0> {explanation_sep} <extra_id_1>\"\n",
    "        answer_string = f\"<extra_id_0> {answer} <extra_id_1> {abstr_expl} <extra_id_2>\"\n",
    "    elif io_format == 't5_fewshot_infilling_bool':\n",
    "        answer_bool = 'True' if item[\"offensiveYN\"] == 'offensive' else 'False'\n",
    "        input_string = f\"explain sbic sentence: {post} It is <extra_id_0> that this is offensive {explanation_sep} <extra_id_1>\"\n",
    "        answer_string = f\"<extra_id_0> {answer} <extra_id_1> {abstr_expl} <extra_id_2>\"\n",
    "    elif io_format == 't5_fewshot_infilling_more_natural':\n",
    "        input_string = f\"explain sbic sentence: {post} This is <extra_id_0> {explanation_sep} <extra_id_1>\"\n",
    "        answer_string = f\"<extra_id_0> {answer} <extra_id_1> {abstr_expl} <extra_id_2>\"\n",
    "    elif io_format == 'squad_yn': \n",
    "        input_string = f\"explain sbic question: Is this offensive? context: {post}\" # explain sbic question: Is this offensive? context: It's only happened to you like two times.\n",
    "        answer_yn = unified_qa_sbic_label_mapping[item[\"offensiveYN\"]] \n",
    "        answer_string = f\"{answer_yn} {explanation_sep} {abstr_expl}\" #  No because this post does not imply anything offensive\n",
    "    elif io_format == 'squad_yn_with_tags': \n",
    "        input_string = f\"explain sbic question: Is this offensive? context: post: {post}\" # explain sbic question: Is this offensive? context: It's only happened to you like two times.\n",
    "        answer_yn = unified_qa_sbic_label_mapping[item[\"offensiveYN\"]] \n",
    "        answer_string = f\"{answer_yn} {explanation_sep} {abstr_expl}\" #  No because this post does not imply anything offensive\n",
    "    elif io_format == 'squad_what': \n",
    "        input_string = f\"explain sbic question: What is this? context: {post}\" # explain sbic question: This is what? context: It's only happened to you like two times.\n",
    "        answer = item[\"offensiveYN\"].replace(\"not offensive\", \"not_offensive\")        \n",
    "        answer_string = f\"{answer} {explanation_sep} {abstr_expl}\" # not_offensive because this post does not imply anything offensive    \n",
    "    elif io_format == 'squad_what_with_tags': \n",
    "        input_string = f\"explain sbic question: What is this? context: post: {post}\" # explain sbic question: This is what? context: It's only happened to you like two times.\n",
    "        answer = item[\"offensiveYN\"].replace(\"not offensive\", \"not_offensive\")        \n",
    "        answer_string = f\"{answer} {explanation_sep} {abstr_expl}\" # not_offensive because this post does not imply anything offensive    \n",
    "    elif io_format == 'unified_qa_yn':\n",
    "        input_string = f'explain is this offensive? \\\\n {post.lower()}'\n",
    "        answer_string = f\"{answer} {explanation_sep} {abstr_expl.lower()}\" \n",
    "    elif io_format == 'unified_qa_yn_with_tags':\n",
    "        input_string = f'explain is this offensive? \\\\n post: {post.lower()}'\n",
    "        answer_string = f\"{answer} {explanation_sep} {abstr_expl.lower()}\"  \n",
    "    elif io_format == 'unified_qa_yn_with_choices':\n",
    "        input_string = f'explain is this offensive? \\\\n (A) yes (B) no \\\\n {post.lower()}'\n",
    "        answer_string = f\"{answer} {explanation_sep} {abstr_expl.lower()}\"\n",
    "    elif io_format == 'unified_qa_yn_with_choices_and_tags':\n",
    "        input_string = f'explain is this offensive? \\\\n (A) yes (B) no \\\\n post: {post.lower()}'\n",
    "        answer_string = f\"{answer} {explanation_sep} {abstr_expl.lower()}\"  \n",
    "    elif io_format == 'unified_qa_what':\n",
    "        input_string = f'explain what is this? \\\\n {post.lower()}'\n",
    "        answer = item[\"offensiveYN\"].replace(\"not offensive\", \"not_offensive\")\n",
    "        answer_string = f\"{answer} {explanation_sep} {abstr_expl.lower()}\"  \n",
    "    elif io_format == 'unified_qa_what_with_tags':\n",
    "        input_string = f'explain what is this? \\\\n post: {post.lower()}'\n",
    "        answer = item[\"offensiveYN\"].replace(\"not offensive\", \"not_offensive\")\n",
    "        answer_string = f\"{answer} {explanation_sep} {abstr_expl.lower()}\"  \n",
    "    elif io_format == 'unified_qa_what_with_choices':\n",
    "        input_string = f'explain what is this? \\\\n (A) offensive (B) not_offensive \\\\n {post.lower()}'\n",
    "        answer = item[\"offensiveYN\"].replace(\"not offensive\", \"not_offensive\")\n",
    "        answer_string = f\"{answer} {explanation_sep} {abstr_expl.lower()}\"\n",
    "    elif io_format == 'unified_qa_what_with_choices_and_tags':\n",
    "        input_string = f'explain what is this? \\\\n (A) offensive (B) not_offensive \\\\n post: {post.lower()}'\n",
    "        answer = item[\"offensiveYN\"].replace(\"not offensive\", \"not_offensive\")\n",
    "        answer_string = f\"{answer} {explanation_sep} {abstr_expl.lower()}\"  \n",
    "    elif io_format == 'unifiedqa_unifew':\n",
    "        input_string = f\"Topic? \\\\n (A) offensive (B) not_offensive \\\\n {post}\"\n",
    "        answer = item[\"offensiveYN\"].replace(\"not offensive\", \"not_offensive\")\n",
    "        answer_string = f\"{answer} {explanation_sep} {abstr_expl}\"\n",
    "    else:\n",
    "        raise ValueError(\"The IO format is not supported. Choose `standard` or `masked_cause_generate`.\")\n",
    "\n",
    "    input_string = ' '.join(input_string.split())\n",
    "    answer_string = ' '.join(answer_string.split())\n",
    "    return input_string, answer_string\n",
    "\n",
    "def sensemaking_formatting(item, io_format, explanation_sep):\n",
    "    # TODO: explore whether removing periods makes difference? \n",
    "    sent0 = item['sent0']\n",
    "    sent1 = item['sent1']\n",
    "    nonsensical_sentence = str(int(item['label'])+1)\n",
    "    explanation = item['explanation'].lower()\n",
    "\n",
    "    if io_format == 'copa_with_question':\n",
    "        input_string = f\"explain sensemaking choice1: {sent0} choice2: {sent1} question: nonsensical\"\n",
    "        answer_string = f\"choice{nonsensical_sentence} {explanation_sep} {explanation}\"\n",
    "    elif io_format == 'copa_bool':  \n",
    "        answer_bool = str(bool(int(item['label']))) # True if choice2 is more nonsensical    \n",
    "        input_string = f\"explain sensemaking choice1: {sent0} choice2: {sent1} Less common is choice2\"\n",
    "        answer_string = f\"{answer_bool} {explanation_sep} {explanation}\"\n",
    "    elif io_format == 't5_fewshot_infilling':  \n",
    "        input_string = f\"explain sensemaking choice1: {sent0} choice2: {sent1} <extra_id_0> {explanation_sep} <extra_id_1>\"\n",
    "        answer_string = f\"<extra_id_0> choice{nonsensical_sentence} <extra_id_1> {explanation} <extra_id_2>\"\n",
    "    elif io_format == 't5_fewshot_infilling_bool':  \n",
    "        answer_bool = str(bool(int(item['label']))) # True if choice2 is more nonsensical    \n",
    "        input_string = f\"explain sensemaking choice1: {sent0} choice2: {sent1} It is <extra_id_0> that choice2 is less common {explanation_sep} <extra_id_1>\"\n",
    "        answer_string = f\"<extra_id_0> {answer_bool} <extra_id_1> {explanation} <extra_id_2>\"\n",
    "    elif io_format == \"squad_yn\": \n",
    "        input_string = f\"explain sensemaking question: Is choice2 more nonsensical? context: choice1: {sent0} choice2: {sent1}\" # explain sensemaking question: What is nonsensical, choice1 or choice2? context: choice1: All state flowers are the scarlet carnation. choice2: The New Jersey state flower is the scarlet carnation\n",
    "        answer = \"Yes\" if bool(int(item['label'])) else \"No\"\n",
    "        answer_string = f\"{answer} {explanation_sep} {explanation}\" #  choice1 because state flowers are unique to each state.  \n",
    "    elif io_format == \"squad_yn_no_tags\": \n",
    "        input_string = f\"explain sensemaking question: Is choice2 more nonsensical? context: {sent0} {sent1}\" # explain sensemaking question: What is nonsensical, choice1 or choice2? context: choice1: All state flowers are the scarlet carnation. choice2: The New Jersey state flower is the scarlet carnation\n",
    "        answer = \"Yes\" if bool(int(item['label'])) else \"No\"\n",
    "        answer_string = f\"{answer} {explanation_sep} {explanation}\" #  choice1 because state flowers are unique to each state.  \n",
    "    elif io_format == \"squad_what\": \n",
    "        input_string = f\"explain sensemaking question: What is more nonsensical? context: choice1: {sent0} choice2: {sent1}\" # explain sensemaking question: What is nonsensical, choice1 or choice2? context: choice1: All state flowers are the scarlet carnation. choice2: The New Jersey state flower is the scarlet carnation\n",
    "        answer_string = f\"choice{nonsensical_sentence} {explanation_sep} {explanation}\" #  choice1 because state flowers are unique to each state.  \n",
    "    elif io_format == \"squad_what_no_tags\": \n",
    "        input_string = f\"explain sensemaking question: What is more nonsensical? context: {sent0} {sent1}\" # explain sensemaking question: What is nonsensical, choice1 or choice2? context: choice1: All state flowers are the scarlet carnation. choice2: The New Jersey state flower is the scarlet carnation\n",
    "        answer_string = f\"choice{nonsensical_sentence} {explanation_sep} {explanation}\" #  choice1 because state flowers are unique to each state.  \n",
    "    elif io_format == \"record\": \n",
    "        input_string = f\"explain sensemaking query: What is more nonsensical? entities: choice1, choice2 passage: choice1: {sent0} choice2: {sent1}\" # explain sensemaking query: What is nonsensical? entities: choice1, choice2 passage: choice1: All state flowers are the scarlet carnation. choice2: The New Jersey state flower is the scarlet carnation.\n",
    "        answer_string = f\"choice{nonsensical_sentence} {explanation_sep} {explanation}\" # choice1 because state flowers are unique to each state.\n",
    "    elif io_format == 'unifiedqa_yn_with_choices':\n",
    "        answer = \"yes\" if bool(int(item['label'])) else \"no\"\n",
    "        input_string = f'explain is choice2 more nonsensical? \\\\n (A) yes (B) no \\\\n choice1: {sent0.lower()} choice2: {sent1.lower()}'\n",
    "        answer_string = f\"{answer} {explanation_sep} {explanation.lower()}\" \n",
    "    elif io_format == 'unifiedqa_yn':\n",
    "        answer = \"yes\" if bool(int(item['label'])) else \"no\"\n",
    "        input_string = f'explain is choice2 more nonsensical? \\\\n choice1: {sent0.lower()} choice2: {sent1.lower()}'\n",
    "        answer_string = f\"{answer} {explanation_sep} {explanation.lower()}\"  \n",
    "    elif io_format == 'unifiedqa_yn_no_tags':\n",
    "        answer = \"yes\" if bool(int(item['label'])) else \"no\"\n",
    "        input_string = f'explain is choice2 more nonsensical? \\\\n {sent0.lower()} {sent1.lower()}'\n",
    "        answer_string = f\"{answer} {explanation_sep} {explanation.lower()}\"  \n",
    "    elif io_format == 'unifiedqa_what_with_choices':\n",
    "        nonsensical_sentence = str(int(item['label'])+1)\n",
    "        input_string = f'explain what is more nonsensical? \\\\n (A) choice1 (B) choice2 \\\\n choice1: {sent0.lower()} choice2: {sent1.lower()}'\n",
    "        answer_string = f\"choice{nonsensical_sentence} {explanation_sep} {explanation.lower()}\"  # use \" BECAUSE \"\n",
    "    elif io_format == 'unifiedqa_what':\n",
    "        nonsensical_sentence = str(int(item['label'])+1)\n",
    "        input_string = f'explain what is more nonsensical? \\\\n choice1: {sent0.lower()} choice2: {sent1.lower()}'\n",
    "        answer_string = f\"choice{nonsensical_sentence} {explanation_sep} {explanation.lower()}\"  # use \" BECAUSE \"\n",
    "    elif io_format == 'unifiedqa_what_no_tags':\n",
    "        nonsensical_sentence = str(int(item['label'])+1)\n",
    "        input_string = f'explain what is more nonsensical? \\\\n {sent0.lower()} {sent1.lower()}'\n",
    "        answer_string = f\"choice{nonsensical_sentence} {explanation_sep} {explanation.lower()}\"  # use \" BECAUSE \"\n",
    "\n",
    "\n",
    "    input_string = ' '.join(input_string.split())\n",
    "    answer_string = ' '.join(answer_string.split())\n",
    "    return input_string, answer_string"
   ]
  },
  {
   "cell_type": "code",
   "execution_count": 4,
   "id": "dde6c7e1",
   "metadata": {},
   "outputs": [
    {
     "name": "stderr",
     "output_type": "stream",
     "text": [
      "PyTorch: setting up devices\n",
      "The default value for the training argument `--report_to` will change in v5 (from all installed integrations to none). In v5, you will need to use `--report_to all` to get the same behavior as now. You should start updating your code and make this info disappear :-).\n",
      "01/13/2023 01:23:22 - WARNING - __main__ -   Process rank: -1, device: cuda:0, n_gpu: 1, distributed training: False, 16-bits training: False\n",
      "01/13/2023 01:23:22 - INFO - __main__ -   Save path: ./cos_e_output_t5_large/011323_012322\n",
      "01/13/2023 01:23:22 - INFO - __main__ -   Git branch: dev\n",
      "01/13/2023 01:23:22 - INFO - __main__ -   Git hash: 1cbb5c3b4e53baf31cbafc20d9655c63f091f901\n"
     ]
    }
   ],
   "source": [
    "og_start_time = time.time()\n",
    "\n",
    "#parser = HfArgumentParser(\n",
    "#    (ModelArguments, DataTrainingArguments, TrainingArguments)\n",
    "#)\n",
    "parser = HfArgumentParser(\n",
    "    (ModelArguments, DataTrainingArguments, TrainingArguments)\n",
    ")\n",
    "\n",
    "model_args, data_args, training_args, unused_args = parser.parse_args_into_dataclasses(\n",
    "    [\"--model_type\", \"t5-3b\",\n",
    "     \"--tokenizer_name\", \"t5-3b\",\n",
    "     \"--task_name\", \"cos_e\", \n",
    "     \"--output_dir\", \"./cos_e_output_t5_large\", \n",
    "     \"--n_shots\", \"10\",\n",
    "     \"--do_train\", \"True\"], return_remaining_strings=True)\n",
    "if unused_args != []:\n",
    "    raise ValueError(f\"Received unused arguments: {unused_args}\")\n",
    "# make sure only one dataset split pick if manually specifying evaluation file\n",
    "\n",
    "if model_args.use_gpt3:\n",
    "    assert training_args.do_train\n",
    "    assert not training_args.do_eval\n",
    "    assert data_args.generations_filepath is None\n",
    "    if data_args.gpt3_max_eval_size is not None:\n",
    "        assert data_args.gpt3_max_eval_size <= data_args.fewshot_eval_size\n",
    "        assert data_args.gpt3_max_eval_size % 2 == 0\n",
    "        assert data_args.gpt3_max_eval_size % 3 == 0\n",
    "\n",
    "if data_args.generations_filepath is not None:\n",
    "    training_args.do_train = False\n",
    "    training_args.do_eval = False\n",
    "    if \"train\" in data_args.generations_filepath:\n",
    "        data_args.train_predict = True\n",
    "        data_args.test_predict = False\n",
    "        data_args.dev_predict = False\n",
    "    elif \"test\" in data_args.generations_filepath:\n",
    "        data_args.train_predict = False\n",
    "        data_args.test_predict = True\n",
    "        data_args.dev_predict = False\n",
    "    elif \"validation\" in data_args.generations_filepath:\n",
    "        data_args.train_predict = False\n",
    "        data_args.test_predict = False\n",
    "        data_args.dev_predict = True\n",
    "\n",
    "if not training_args.do_train and data_args.generations_filepath is None:\n",
    "    if not model_args.pretrained_model_file:\n",
    "        raise Exception(\n",
    "            \"if not training a model from scratch, must specify a trained model to load for evaluation\"\n",
    "        )\n",
    "\n",
    "if training_args.do_train:\n",
    "    # create a save directory and a logfile\n",
    "    training_args.output_dir = os.path.join(\n",
    "        training_args.output_dir, datetime.now().strftime(\"%m%d%y_%H%M%S\")\n",
    "    )\n",
    "    training_args.logging_dir = training_args.output_dir\n",
    "    assert not os.path.exists(training_args.output_dir)\n",
    "    os.makedirs(training_args.output_dir)\n",
    "\n",
    "    if (\n",
    "            os.path.exists(training_args.output_dir)\n",
    "            and os.listdir(training_args.output_dir)\n",
    "            and training_args.do_train\n",
    "            and not training_args.overwrite_output_dir\n",
    "    ):\n",
    "        raise ValueError(\n",
    "            f\"Output directory ({training_args.output_dir}) already exists and is not empty. Use --overwrite_output_dir to overcome.\"\n",
    "        )\n",
    "    handlers = [\n",
    "        logging.FileHandler(os.path.join(training_args.output_dir, \"logger.log\")),\n",
    "        logging.StreamHandler(),\n",
    "    ]\n",
    "else:\n",
    "    # don't overwrite existing logfile or create new directory\n",
    "    training_args.output_dir = model_args.pretrained_model_file\n",
    "    handlers = [logging.StreamHandler()]\n",
    "\n",
    "# Setup logging\n",
    "logging.basicConfig(\n",
    "    format=\"%(asctime)s - %(levelname)s - %(name)s -   %(message)s\",\n",
    "    datefmt=\"%m/%d/%Y %H:%M:%S\",\n",
    "    level=logging.INFO if training_args.local_rank in [-1, 0] else logging.WARN,\n",
    "    handlers=handlers,\n",
    ")\n",
    "logger.warning(\n",
    "    \"Process rank: %s, device: %s, n_gpu: %s, distributed training: %s, 16-bits training: %s\",\n",
    "    training_args.local_rank,\n",
    "    training_args.device,\n",
    "    training_args.n_gpu,\n",
    "    bool(training_args.local_rank != -1),\n",
    "    training_args.fp16,\n",
    ")\n",
    "logger.info(\"Save path: %s\" % training_args.output_dir)\n",
    "\n",
    "# get git hash and branch where deployed\n",
    "repo = git.Repo(search_parent_directories=True)\n",
    "git_hash = repo.head.object.hexsha\n",
    "git_branch = repo.active_branch.name\n",
    "logger.info(\"Git branch: %s\" % git_branch)\n",
    "logger.info(\"Git hash: %s\" % git_hash)\n",
    "\n",
    "model_class = \"t5\"\n",
    "assert data_args.task_name in {\"cos_e\", \"esnli\", \"sbic\", \"sensemaking\", \"ecqa\"}\n",
    "\n",
    "if training_args.do_train:\n",
    "    # write command and args to file\n",
    "    with open(\n",
    "            os.path.join(training_args.output_dir, \"commandline_args.txt\"), \"w\"\n",
    "    ) as f:\n",
    "        f.write(\"Git branch: \" + git_branch + \"\\n\")\n",
    "        f.write(\"Git hash: \" + git_hash + \"\\n\")\n",
    "        f.write(\"Command:\\n\")\n",
    "        f.write(\"\\n\".join(sys.argv[1:]))\n",
    "\n",
    "# Set seed\n",
    "set_seed(training_args.seed)\n",
    "set_other_seeds(training_args.seed)\n",
    "\n",
    "# Load pretrained model and tokenizer\n",
    "#\n",
    "# Distributed training:\n",
    "# The .from_pretrained methods guarantee that only one local process can concurrently\n",
    "# download model & vocab."
   ]
  },
  {
   "cell_type": "code",
   "execution_count": 5,
   "id": "684646b4",
   "metadata": {},
   "outputs": [
    {
     "data": {
      "text/plain": [
       "device(type='cuda', index=0)"
      ]
     },
     "execution_count": 5,
     "metadata": {},
     "output_type": "execute_result"
    }
   ],
   "source": [
    "training_args.set_device = \"cuda:0\"\n",
    "training_args.device"
   ]
  },
  {
   "cell_type": "code",
   "execution_count": 6,
   "id": "18a3172a",
   "metadata": {},
   "outputs": [
    {
     "name": "stderr",
     "output_type": "stream",
     "text": [
      "01/13/2023 01:23:22 - INFO - __main__ -   Loading pretrained tokenizer...\n",
      "loading file https://huggingface.co/t5-base/resolve/main/spiece.model from cache at /home/huangyongfeng/.cache/huggingface/transformers/684a47ca6257e4ca71f0037771464c5b323e945fbc58697d2fad8a7dd1a2f8ba.3b69006860e7b5d0a63ffdddc01ddcd6b7c318a6f4fd793596552c741734c62d\n",
      "loading file https://huggingface.co/t5-base/resolve/main/added_tokens.json from cache at None\n",
      "loading file https://huggingface.co/t5-base/resolve/main/special_tokens_map.json from cache at None\n",
      "loading file https://huggingface.co/t5-base/resolve/main/tokenizer_config.json from cache at None\n",
      "loading file https://huggingface.co/t5-base/resolve/main/tokenizer.json from cache at /home/huangyongfeng/.cache/huggingface/transformers/90de37880b5ff5ac7ab70ff0bd369f207e9b74133fa153c163d14c5bb0116207.8627f1bd5d270a9fd2e5a51c8bec3223896587cc3cfe13edeabb0992ab43c529\n",
      "loading configuration file https://huggingface.co/t5-base/resolve/main/config.json from cache at /home/huangyongfeng/.cache/huggingface/transformers/91e9fe874e06c44883b535d6c950b8b89d6eaa3298d8e7fb3b2c78039e9f8b7b.a085189636e38420df5e7bdf08ad1b86f1fe33c010079ca7f15437ff95f4fe2b\n",
      "Model config T5Config {\n",
      "  \"architectures\": [\n",
      "    \"T5ForConditionalGeneration\"\n",
      "  ],\n",
      "  \"d_ff\": 3072,\n",
      "  \"d_kv\": 64,\n",
      "  \"d_model\": 768,\n",
      "  \"decoder_start_token_id\": 0,\n",
      "  \"dropout_rate\": 0.1,\n",
      "  \"eos_token_id\": 1,\n",
      "  \"feed_forward_proj\": \"relu\",\n",
      "  \"gradient_checkpointing\": false,\n",
      "  \"initializer_factor\": 1.0,\n",
      "  \"is_encoder_decoder\": true,\n",
      "  \"layer_norm_epsilon\": 1e-06,\n",
      "  \"model_type\": \"t5\",\n",
      "  \"n_positions\": 512,\n",
      "  \"num_decoder_layers\": 12,\n",
      "  \"num_heads\": 12,\n",
      "  \"num_layers\": 12,\n",
      "  \"output_past\": true,\n",
      "  \"pad_token_id\": 0,\n",
      "  \"relative_attention_num_buckets\": 32,\n",
      "  \"task_specific_params\": {\n",
      "    \"summarization\": {\n",
      "      \"early_stopping\": true,\n",
      "      \"length_penalty\": 2.0,\n",
      "      \"max_length\": 200,\n",
      "      \"min_length\": 30,\n",
      "      \"no_repeat_ngram_size\": 3,\n",
      "      \"num_beams\": 4,\n",
      "      \"prefix\": \"summarize: \"\n",
      "    },\n",
      "    \"translation_en_to_de\": {\n",
      "      \"early_stopping\": true,\n",
      "      \"max_length\": 300,\n",
      "      \"num_beams\": 4,\n",
      "      \"prefix\": \"translate English to German: \"\n",
      "    },\n",
      "    \"translation_en_to_fr\": {\n",
      "      \"early_stopping\": true,\n",
      "      \"max_length\": 300,\n",
      "      \"num_beams\": 4,\n",
      "      \"prefix\": \"translate English to French: \"\n",
      "    },\n",
      "    \"translation_en_to_ro\": {\n",
      "      \"early_stopping\": true,\n",
      "      \"max_length\": 300,\n",
      "      \"num_beams\": 4,\n",
      "      \"prefix\": \"translate English to Romanian: \"\n",
      "    }\n",
      "  },\n",
      "  \"transformers_version\": \"4.9.2\",\n",
      "  \"use_cache\": true,\n",
      "  \"vocab_size\": 32128\n",
      "}\n",
      "\n",
      "loading configuration file https://huggingface.co/t5-base/resolve/main/config.json from cache at /home/huangyongfeng/.cache/huggingface/transformers/91e9fe874e06c44883b535d6c950b8b89d6eaa3298d8e7fb3b2c78039e9f8b7b.a085189636e38420df5e7bdf08ad1b86f1fe33c010079ca7f15437ff95f4fe2b\n",
      "Model config T5Config {\n",
      "  \"architectures\": [\n",
      "    \"T5ForConditionalGeneration\"\n",
      "  ],\n",
      "  \"d_ff\": 3072,\n",
      "  \"d_kv\": 64,\n",
      "  \"d_model\": 768,\n",
      "  \"decoder_start_token_id\": 0,\n",
      "  \"dropout_rate\": 0.1,\n",
      "  \"eos_token_id\": 1,\n",
      "  \"feed_forward_proj\": \"relu\",\n",
      "  \"gradient_checkpointing\": false,\n",
      "  \"initializer_factor\": 1.0,\n",
      "  \"is_encoder_decoder\": true,\n",
      "  \"layer_norm_epsilon\": 1e-06,\n",
      "  \"model_type\": \"t5\",\n",
      "  \"n_positions\": 512,\n",
      "  \"num_decoder_layers\": 12,\n",
      "  \"num_heads\": 12,\n",
      "  \"num_layers\": 12,\n",
      "  \"output_past\": true,\n",
      "  \"pad_token_id\": 0,\n",
      "  \"relative_attention_num_buckets\": 32,\n",
      "  \"task_specific_params\": {\n",
      "    \"summarization\": {\n",
      "      \"early_stopping\": true,\n",
      "      \"length_penalty\": 2.0,\n",
      "      \"max_length\": 200,\n",
      "      \"min_length\": 30,\n",
      "      \"no_repeat_ngram_size\": 3,\n",
      "      \"num_beams\": 4,\n",
      "      \"prefix\": \"summarize: \"\n",
      "    },\n",
      "    \"translation_en_to_de\": {\n",
      "      \"early_stopping\": true,\n",
      "      \"max_length\": 300,\n",
      "      \"num_beams\": 4,\n",
      "      \"prefix\": \"translate English to German: \"\n",
      "    },\n",
      "    \"translation_en_to_fr\": {\n",
      "      \"early_stopping\": true,\n",
      "      \"max_length\": 300,\n",
      "      \"num_beams\": 4,\n",
      "      \"prefix\": \"translate English to French: \"\n",
      "    },\n",
      "    \"translation_en_to_ro\": {\n",
      "      \"early_stopping\": true,\n",
      "      \"max_length\": 300,\n",
      "      \"num_beams\": 4,\n",
      "      \"prefix\": \"translate English to Romanian: \"\n",
      "    }\n",
      "  },\n",
      "  \"transformers_version\": \"4.9.2\",\n",
      "  \"use_cache\": true,\n",
      "  \"vocab_size\": 32128\n",
      "}\n",
      "\n",
      "loading weights file https://huggingface.co/t5-base/resolve/main/pytorch_model.bin from cache at /home/huangyongfeng/.cache/huggingface/transformers/ab4e948915b067f5cb6e5105f6f85044fd717b133f43240db67899a8fc7b29a2.26934c75adf19ceac3c268b721ba353356b7609c45f5627550326f275a2163b4\n",
      "All model checkpoint weights were used when initializing T5ForConditionalGeneration.\n",
      "\n",
      "All the weights of T5ForConditionalGeneration were initialized from the model checkpoint at t5-base.\n",
      "If your task is similar to the task the model of the checkpoint was trained on, you can already use T5ForConditionalGeneration for predictions without further training.\n"
     ]
    }
   ],
   "source": [
    "import logging\n",
    "logger = logging.getLogger(__name__)\n",
    "CONFIG_MAPPING = {\"t5\": T5Config}\n",
    "MODEL_MAPPING = {\"t5\": T5ForConditionalGeneration}\n",
    "TOKENIZER_MAPPING = {\"t5\": T5Tokenizer}\n",
    "model_class = \"t5\"\n",
    "tokenizer_name = TOKENIZER_MAPPING[model_class]\n",
    "logger.info(\"Loading pretrained tokenizer...\")\n",
    "model_args.tokenizer_name='t5-base'\n",
    "tokenizer = tokenizer_name.from_pretrained(model_args.tokenizer_name)#, cache_dir=model_args.cache_dir)\n",
    "\n",
    "model = T5ForConditionalGeneration.from_pretrained(\"t5-base\")"
   ]
  },
  {
   "cell_type": "code",
   "execution_count": 7,
   "id": "62eef1a8",
   "metadata": {},
   "outputs": [
    {
     "data": {
      "text/plain": [
       "DataTrainingArguments(task_name='cos_e', early_stopping_patience=10, overwrite_cache=False, train_predict=False, test_predict=False, dev_predict=False, version_name='v1.11', generations_filepath=None, n_shots=10, fewshot_eval_size=350, io_format='t5_fewshot_infilling_without_choices_use_refined_expl', explanation_sep='explanation', data_path=None, gpt3_max_eval_size=None)"
      ]
     },
     "execution_count": 7,
     "metadata": {},
     "output_type": "execute_result"
    }
   ],
   "source": [
    "data_splits = {'train': None, 'validation': None, 'test': None}\n",
    "original_data_splits = {'train': None, 'validation': None, 'test': None}  \n",
    "data_args.io_format=\"t5_fewshot_infilling_without_choices_use_refined_expl\"\n",
    "data_args"
   ]
  },
  {
   "cell_type": "code",
   "execution_count": 8,
   "id": "efc49c0c",
   "metadata": {},
   "outputs": [
    {
     "data": {
      "application/json": {
       "ascii": false,
       "bar_format": null,
       "colour": null,
       "elapsed": 0.015943288803100586,
       "initial": 0,
       "n": 0,
       "ncols": null,
       "nrows": 60,
       "postfix": null,
       "prefix": "",
       "rate": null,
       "total": 2,
       "unit": "it",
       "unit_divisor": 1000,
       "unit_scale": false
      },
      "application/vnd.jupyter.widget-view+json": {
       "model_id": "2d9eeecd93c445efb50d7de0f0acd265",
       "version_major": 2,
       "version_minor": 0
      },
      "text/plain": [
       "  0%|          | 0/2 [00:00<?, ?it/s]"
      ]
     },
     "metadata": {},
     "output_type": "display_data"
    },
    {
     "data": {
      "text/plain": [
       "dict_keys(['answer', 'abstractive_explanation', 'question', 'choices', 'id', 'extractive_explanation'])"
      ]
     },
     "execution_count": 8,
     "metadata": {},
     "output_type": "execute_result"
    }
   ],
   "source": [
    "dataset = datasets.load_dataset(data_args.task_name, data_args.version_name)\n",
    "train_ids_list=[x['id'] for x in dataset[\"train\"]]\n",
    "dataset['train'][0].keys()"
   ]
  },
  {
   "cell_type": "code",
   "execution_count": 9,
   "id": "294780bc",
   "metadata": {},
   "outputs": [
    {
     "data": {
      "application/json": {
       "ascii": false,
       "bar_format": null,
       "colour": null,
       "elapsed": 0.014922142028808594,
       "initial": 0,
       "n": 0,
       "ncols": null,
       "nrows": 60,
       "postfix": null,
       "prefix": "",
       "rate": null,
       "total": 1,
       "unit": "it",
       "unit_divisor": 1000,
       "unit_scale": false
      },
      "application/vnd.jupyter.widget-view+json": {
       "model_id": "5899dd99924748adb218a71ee4e66329",
       "version_major": 2,
       "version_minor": 0
      },
      "text/plain": [
       "  0%|          | 0/1 [00:00<?, ?it/s]"
      ]
     },
     "metadata": {},
     "output_type": "display_data"
    },
    {
     "name": "stdout",
     "output_type": "stream",
     "text": [
      "[6723, 3269, 12, 6020, 7815, 0, 13, 7, 3556, 4587, 3166, 2607, 1999, 332, 8571, 2, 3520, 6, 1425, 2361, 3764, 7728, 8352, 1273, 5191, 496, 11, 8143, 6929, 4552, 4652, 7764, 6736, 401, 147, 8339, 3128, 5556, 8769, 4417, 8778, 7145, 1279, 6297, 7149, 5884, 10, 5747, 6273, 8, 9504, 8057, 1307, 2183, 1699, 88, 3228, 7178, 2140, 4048, 1041, 1, 3, 5868, 111, 7889, 5370, 8886, 2137, 6980, 9117, 1891, 7827, 1484, 14, 3668, 7090, 5, 7817, 6213, 4656, 5074, 7514, 5896, 4, 9, 7991, 58, 1887, 1598, 3994, 2212, 2274, 6830, 8826, 1604, 9008, 2013, 6521, 4793, 4338, 3923, 8091, 4904, 3938, 3900, 8156, 5806, 8363, 1787, 1496, 5753, 6351, 1104, 1222]\n"
     ]
    },
    {
     "data": {
      "text/plain": [
       "115"
      ]
     },
     "execution_count": 9,
     "metadata": {},
     "output_type": "execute_result"
    }
   ],
   "source": [
    "#rationale generation labeled data construction 115\n",
    "import pandas as pd\n",
    "scr_csqa_labeled_path=\"/cognitive_comp/huangyongfeng/evaluate_LM_with_rationalization/few_shot_explanations/data/handwritten_cose_v1.11_examples.csv\"\n",
    "scr_csqa_label_df=pd.read_csv(scr_csqa_labeled_path)\n",
    "scr_csqa_label_data=datasets.load_dataset('csv', data_files=scr_csqa_labeled_path)\n",
    "scr_csqa_label_ids_list=[x['id'] for x in scr_csqa_label_data['train']]\n",
    "scr_csqa_indexs_list=[train_ids_list.index(id_) for id_ in scr_csqa_label_ids_list]\n",
    "scr_csqa_label_our_explanations_list=[x['our_explanation'] for x in scr_csqa_label_data['train']]\n",
    "print(scr_csqa_indexs_list)\n",
    "data_splits={}\n",
    "data_splits['train']=dataset['train'].select(scr_csqa_indexs_list)\n",
    "\n",
    "refine_train_data=[]\n",
    "for kk, (ex,da) in enumerate(zip(scr_csqa_label_our_explanations_list, data_splits['train'])):\n",
    "#     print(da)\n",
    "    data_splits['train'][kk]['our_explanation']=ex\n",
    "    #print(type(data_splits['train'][kk]),data_splits['train'][kk].keys())\n",
    "    da['our_explanation']=ex\n",
    "    refine_train_data.append(da)\n",
    "\n",
    "len(data_splits['train'])"
   ]
  },
  {
   "cell_type": "code",
   "execution_count": 10,
   "id": "1d97f507",
   "metadata": {},
   "outputs": [
    {
     "data": {
      "application/json": {
       "ascii": false,
       "bar_format": null,
       "colour": null,
       "elapsed": 0.015482187271118164,
       "initial": 0,
       "n": 0,
       "ncols": null,
       "nrows": 60,
       "postfix": null,
       "prefix": "",
       "rate": null,
       "total": 1,
       "unit": "it",
       "unit_divisor": 1000,
       "unit_scale": false
      },
      "application/vnd.jupyter.widget-view+json": {
       "model_id": "bb9d28cd13d941ca892687a2254380ab",
       "version_major": 2,
       "version_minor": 0
      },
      "text/plain": [
       "  0%|          | 0/1 [00:00<?, ?it/s]"
      ]
     },
     "metadata": {},
     "output_type": "display_data"
    },
    {
     "data": {
      "text/plain": [
       "{'id': '5b8a3081c3235d62bc77e2d15f3ad454',\n",
       " 'question': 'A town between two mountains is located in a what?',\n",
       " 'choices': ['valley', 'hospital', 'state', 'train station', 'michigan'],\n",
       " 'answer': 'valley',\n",
       " 'abstractive_explanation': 'valleys are always between two mountains',\n",
       " 'extractive_explanation': 'A town between two mountains',\n",
       " 'our_explanation': 'A town in between mountains presumably would be in a valley, in which case it is plausable that it would be surrounded by heights in every direction.'}"
      ]
     },
     "execution_count": 10,
     "metadata": {},
     "output_type": "execute_result"
    }
   ],
   "source": [
    "#rationale unlabeled data construction 991\n",
    "import pdb\n",
    "scr_csqa_unlabeled_test_file=\"/cognitive_comp/huangyongfeng/evaluate_LM_with_rationalization/few_shot_explanations/data/acceptability_annotations/commonsenseqa_test.csv\"\n",
    "fse_csqa_dev_dataset = datasets.load_dataset('csv', data_files=scr_csqa_unlabeled_test_file)\n",
    "scr_csqa_unlabeled_test_df=pd.read_csv(scr_csqa_unlabeled_test_file)\n",
    "fse_csqa_dev_data_dict={}\n",
    "for kk, da in enumerate(fse_csqa_dev_dataset['train']):\n",
    "    #pdb.set_trace()\n",
    "    id_=da['Input.id']\n",
    "    if da['Answer.acceptable']:\n",
    "        answer_accept=set(da['Answer.acceptable'].split('|'))\n",
    "    else:\n",
    "        answer_accept=set()\n",
    "    explanation_list=[da['Input.explanation_1'], \n",
    "                      da['Input.explanation_2'],\n",
    "                      da['Input.explanation_3'],\n",
    "                      da['Input.explanation_4'],\n",
    "                      da['Input.explanation_5']]\n",
    "    if id_ not in fse_csqa_dev_data_dict.keys():\n",
    "        fse_csqa_dev_data_dict[id_]={\"index\":kk,\"id\":id_,\n",
    "                                     \"question\":da[\"Input.question\"],\n",
    "                                     'answer':da['Input.gold_label'],\n",
    "                                     \"accept_set_list\":[answer_accept],\n",
    "                                     \"explanation_list\":explanation_list}\n",
    "        #[[kk, id_, answer_accept, explanation_list]]\n",
    "    else:\n",
    "        fse_csqa_dev_data_dict[id_][\"accept_set_list\"].append(answer_accept)\n",
    "    if len(fse_csqa_dev_data_dict[id_][\"accept_set_list\"])==3:\n",
    "        fse_csqa_dev_data_dict[id_][\"common_expl_list\"]=[]\n",
    "        common_accept_expl_sample=set.intersection(fse_csqa_dev_data_dict[id_][\"accept_set_list\"][0], \n",
    "                                                   fse_csqa_dev_data_dict[id_][\"accept_set_list\"][1], \n",
    "                                                   fse_csqa_dev_data_dict[id_][\"accept_set_list\"][2])\n",
    "        for idx in list(common_accept_expl_sample):\n",
    "            idx=int(idx)-1\n",
    "            fse_csqa_dev_data_dict[id_][\"common_expl_list\"].append(fse_csqa_dev_data_dict[id_][\"explanation_list\"][idx])\n",
    "        \n",
    "#discriminate 3/3 id\n",
    "id_accept_expl_list=[]\n",
    "our_accept_expl_list=[]\n",
    "id_unaccept_expl_list=[]\n",
    "for k,v in fse_csqa_dev_data_dict.items():\n",
    "    accept_set_list=v['accept_set_list']\n",
    "    assert len(accept_set_list)==3\n",
    "    #pdb.set_trace()\n",
    "    common_accept_expl_sample=set.intersection(accept_set_list[0], accept_set_list[1], accept_set_list[2])\n",
    "    #print(accept_set_list,common_accept_expl_sample)\n",
    "    #pdb.set_trace()\n",
    "    if common_accept_expl_sample:\n",
    "        id_accept_expl_list.append(k)\n",
    "        our_expl=\"\"\n",
    "        for idx in list(common_accept_expl_sample):\n",
    "            idx=int(idx)-1\n",
    "            if len(v['explanation_list'][idx]) > len(our_expl):\n",
    "                our_expl = v['explanation_list'][idx]\n",
    "                our_accept_expl_list.append(our_expl)\n",
    "    else:\n",
    "        id_unaccept_expl_list.append(k)\n",
    "\n",
    "dev_ids_list=[x['id'] for x in dataset['validation']]\n",
    "dev_accept_indexs_list=[dev_ids_list.index(id_) for id_ in id_accept_expl_list]\n",
    "dev_unaccpet_indexs_list=[dev_ids_list.index(id_) for id_ in id_unaccept_expl_list]\n",
    "dev_accept_data=dataset['validation'].select(dev_accept_indexs_list)\n",
    "dev_unaccept_data=dataset['validation'].select(dev_unaccpet_indexs_list)\n",
    "\n",
    "\n",
    "\n",
    "new_dev_accept_data=[]\n",
    "new_dev_unaccept_data=[]\n",
    "for oexp, da in zip(our_accept_expl_list,dev_accept_data):\n",
    "    da[\"our_explanation\"]=oexp\n",
    "    new_dev_accept_data.append(da)\n",
    "for da in dev_unaccept_data:\n",
    "    da[\"our_explanation\"]=oexp\n",
    "    new_dev_unaccept_data.append(da)\n",
    "        \n",
    "new_dev_accept_data[0]\n",
    "        "
   ]
  },
  {
   "cell_type": "code",
   "execution_count": 11,
   "id": "ffe13707",
   "metadata": {},
   "outputs": [
    {
     "data": {
      "text/plain": [
       "{'index': 0,\n",
       " 'id': '5b8a3081c3235d62bc77e2d15f3ad454',\n",
       " 'question': 'A town between two mountains is located in a what?',\n",
       " 'answer': 'valley',\n",
       " 'accept_set_list': [{'2', '4', '5'}, {'2', '4', '5'}, {'2', '4', '5'}],\n",
       " 'explanation_list': ['Because all of the mountains are to the left of this town, if one was looking on a map, one would be able to see the town in the valley.',\n",
       "  'A valley is usually between two mountains, where it is located in the place where the mountains are closest to each other.',\n",
       "  'Because rivers end in valleys; assuming the river is the one of interest, this sentence is likely referring to the geographical location of the town.',\n",
       "  'A town in between mountains presumably would be in a valley, in which case it is plausable that it would be surrounded by heights in every direction.',\n",
       "  'A valley is a low area between two mountains.'],\n",
       " 'common_expl_list': ['A town in between mountains presumably would be in a valley, in which case it is plausable that it would be surrounded by heights in every direction.',\n",
       "  'A valley is usually between two mountains, where it is located in the place where the mountains are closest to each other.',\n",
       "  'A valley is a low area between two mountains.']}"
      ]
     },
     "execution_count": 11,
     "metadata": {},
     "output_type": "execute_result"
    }
   ],
   "source": [
    "fse_csqa_dev_data_dict['5b8a3081c3235d62bc77e2d15f3ad454']\n"
   ]
  },
  {
   "cell_type": "code",
   "execution_count": 12,
   "id": "3161874f",
   "metadata": {},
   "outputs": [],
   "source": [
    "# for k,v in fse_csqa_dev_data_dict.items():\n",
    "#     #print(v.keys())\n",
    "#     print(\"******\")\n",
    "#     print(v['question'])\n",
    "#     print(v['answer'])\n",
    "#     print(v['common_expl_list'])\n",
    "#     print(\"******\")    \n",
    "# for k,v in fse_csqa_train_data_dict.items():\n",
    "#     #print(v.keys())\n",
    "#     print(\"******\")\n",
    "#     print(v['question'])\n",
    "#     print(v['answer'])\n",
    "#     print(v['common_expl_list'])\n",
    "#     print(\"******\") \n"
   ]
  },
  {
   "cell_type": "code",
   "execution_count": 13,
   "id": "3e0e8a2d",
   "metadata": {},
   "outputs": [
    {
     "data": {
      "application/json": {
       "ascii": false,
       "bar_format": null,
       "colour": null,
       "elapsed": 0.014346599578857422,
       "initial": 0,
       "n": 0,
       "ncols": null,
       "nrows": 60,
       "postfix": null,
       "prefix": "",
       "rate": null,
       "total": 1,
       "unit": "it",
       "unit_divisor": 1000,
       "unit_scale": false
      },
      "application/vnd.jupyter.widget-view+json": {
       "model_id": "f3d4f2c88a874886a13212022e2b5a2b",
       "version_major": 2,
       "version_minor": 0
      },
      "text/plain": [
       "  0%|          | 0/1 [00:00<?, ?it/s]"
      ]
     },
     "metadata": {},
     "output_type": "display_data"
    },
    {
     "data": {
      "text/plain": [
       "{'id': 'ed53cbea1f21072fab892031b31192d1',\n",
       " 'question': 'Where can you likely buy many poems?',\n",
       " 'choices': ['book of poetry',\n",
       "  'literature book',\n",
       "  'book store',\n",
       "  'poetry book',\n",
       "  'bookshelf'],\n",
       " 'answer': 'book store',\n",
       " 'abstractive_explanation': 'book store book',\n",
       " 'extractive_explanation': 'buy many poems',\n",
       " 'our_explanation': 'A bookstore sells a variety of books, including poetry books; chains of bookstores sometimes specialize in categories such as poetry or literature.'}"
      ]
     },
     "execution_count": 13,
     "metadata": {},
     "output_type": "execute_result"
    }
   ],
   "source": [
    "#rationale unlabeled data construction 991\n",
    "import pdb\n",
    "scr_csqa_unlabeled_train_file=\"/cognitive_comp/huangyongfeng/evaluate_LM_with_rationalization/few_shot_explanations/data/acceptability_annotations/commonsenseqa_train.csv\"\n",
    "fse_csqa_train_dataset = datasets.load_dataset('csv', data_files=scr_csqa_unlabeled_train_file)\n",
    "scr_csqa_unlabeled_train_df=pd.read_csv(scr_csqa_unlabeled_train_file)\n",
    "fse_csqa_train_data_dict={}\n",
    "for kk, da in enumerate(fse_csqa_train_dataset['train']):\n",
    "    #pdb.set_trace()\n",
    "    id_=da['Input.id']\n",
    "    if da['Answer.acceptable']:\n",
    "        answer_accept=set(da['Answer.acceptable'].split('|'))\n",
    "    else:\n",
    "        answer_accept=set()\n",
    "    explanation_list=[da['Input.explanation_1'], \n",
    "                      da['Input.explanation_2'],\n",
    "                      da['Input.explanation_3'],\n",
    "                      da['Input.explanation_4'],\n",
    "                      da['Input.explanation_5']]\n",
    "    if id_ not in fse_csqa_train_data_dict.keys():\n",
    "        fse_csqa_train_data_dict[id_]={\"index\":kk,\"id\":id_,\n",
    "                                     \"question\":da[\"Input.question\"],\n",
    "                                     'answer':da['Input.gold_label'],\n",
    "                                     \"accept_set_list\":[answer_accept],\n",
    "                                     \"explanation_list\":explanation_list}\n",
    "        #[[kk, id_, answer_accept, explanation_list]]\n",
    "    else:\n",
    "        fse_csqa_train_data_dict[id_][\"accept_set_list\"].append(answer_accept)\n",
    "        \n",
    "    if len(fse_csqa_train_data_dict[id_][\"accept_set_list\"])==3:\n",
    "        fse_csqa_train_data_dict[id_][\"common_expl_list\"]=[]\n",
    "        common_accept_expl_sample=set.intersection(fse_csqa_train_data_dict[id_][\"accept_set_list\"][0], \n",
    "                                                   fse_csqa_train_data_dict[id_][\"accept_set_list\"][1], \n",
    "                                                   fse_csqa_train_data_dict[id_][\"accept_set_list\"][2])\n",
    "        for idx in list(common_accept_expl_sample):\n",
    "            idx=int(idx)-1\n",
    "            fse_csqa_train_data_dict[id_][\"common_expl_list\"].append(fse_csqa_train_data_dict[id_][\"explanation_list\"][idx])\n",
    "\n",
    "    \n",
    "#discriminate 3/3 id\n",
    "id_accept_expl_list=[]\n",
    "our_accept_expl_list=[]\n",
    "id_unaccept_expl_list=[]\n",
    "for k,v in fse_csqa_train_data_dict.items():\n",
    "    accept_set_list=v['accept_set_list']\n",
    "    assert len(accept_set_list)==3\n",
    "    #pdb.set_trace()\n",
    "    common_accept_expl_sample=set.intersection(accept_set_list[0], accept_set_list[1], accept_set_list[2])\n",
    "    #print(accept_set_list,common_accept_expl_sample)\n",
    "    #pdb.set_trace()\n",
    "    if common_accept_expl_sample:\n",
    "        id_accept_expl_list.append(k)\n",
    "        our_expl=\"\"\n",
    "        for idx in list(common_accept_expl_sample):\n",
    "            idx=int(idx)-1\n",
    "            if len(v['explanation_list'][idx]) > len(our_expl):\n",
    "                our_expl = v['explanation_list'][idx]\n",
    "                our_accept_expl_list.append(our_expl)\n",
    "    else:\n",
    "        id_unaccept_expl_list.append(k)\n",
    "\n",
    "train_ids_list=[x['id'] for x in dataset['train']]\n",
    "train_accept_indexs_list=[train_ids_list.index(id_) for id_ in id_accept_expl_list]\n",
    "train_unaccpet_indexs_list=[train_ids_list.index(id_) for id_ in id_unaccept_expl_list]\n",
    "train_accept_data=dataset['train'].select(train_accept_indexs_list)\n",
    "train_unaccept_data=dataset['train'].select(train_unaccpet_indexs_list)\n",
    "\n",
    "\n",
    "\n",
    "new_train_accept_data=[]\n",
    "new_train_unaccept_data=[]\n",
    "for oexp, da in zip(our_accept_expl_list,train_accept_data):\n",
    "    da[\"our_explanation\"]=oexp\n",
    "    new_train_accept_data.append(da)\n",
    "for da in train_unaccept_data:\n",
    "    da[\"our_explanation\"]=oexp\n",
    "    new_train_unaccept_data.append(da)\n",
    "        \n",
    "new_train_accept_data[0]"
   ]
  },
  {
   "cell_type": "code",
   "execution_count": 14,
   "id": "595b9453",
   "metadata": {},
   "outputs": [
    {
     "data": {
      "text/plain": [
       "(set(), set())"
      ]
     },
     "execution_count": 14,
     "metadata": {},
     "output_type": "execute_result"
    }
   ],
   "source": [
    "refine_train_data=refine_train_data\n",
    "refine_dev_data=new_train_accept_data + new_dev_accept_data\n",
    "refine_test_data=new_train_unaccept_data + new_dev_unaccept_data\n",
    "\n",
    "refine_train_ids_list=[x['id'] for x in refine_train_data]\n",
    "refine_dev_ids_list=[x['id'] for x in refine_dev_data]\n",
    "refine_test_ids_list=[x['id'] for x in refine_test_data]\n",
    "\n",
    "set(refine_train_ids_list).intersection(set(refine_dev_ids_list)),set(refine_train_ids_list).intersection(set(refine_test_ids_list))\n",
    "\n"
   ]
  },
  {
   "cell_type": "code",
   "execution_count": 15,
   "id": "48e4ec26",
   "metadata": {},
   "outputs": [
    {
     "data": {
      "text/plain": [
       "dict_keys(['id', 'question', 'choices', 'answer', 'abstractive_explanation', 'extractive_explanation', 'our_explanation'])"
      ]
     },
     "execution_count": 15,
     "metadata": {},
     "output_type": "execute_result"
    }
   ],
   "source": [
    "our_data_splits={}\n",
    "our_data_splits['train']=refine_train_data\n",
    "our_data_splits['dev']=refine_dev_data\n",
    "our_data_splits['test']=refine_test_data\n",
    "refine_train_data[0].keys()"
   ]
  },
  {
   "cell_type": "markdown",
   "id": "0fcdf34f",
   "metadata": {},
   "source": [
    "# shots number"
   ]
  },
  {
   "cell_type": "code",
   "execution_count": 16,
   "id": "bd43fe66",
   "metadata": {},
   "outputs": [],
   "source": [
    "id_list = [\n",
    " '71519c19654251cced50c5718fd527c1',\n",
    " '44195d210c81c8c550174d0edbd3ad5d',\n",
    " '5a5da37b685ec9c6f15228128ce30437',\n",
    " 'cabdfc174953b4bdb8bdcc89d6592c74',\n",
    " 'eac3a4080127e8924034651b57dfa289',\n",
    " 'c0013f31657294b9b5ad819123513ca7',\n",
    " '2681697be70cd5425899ed6deb84b18a',\n",
    " '47f60340b869552e795fa6782224f3d2',\n",
    " '7e8a6eac93147eb52d8151bab7b40003',\n",
    " 'f34267f498c8a78383e35057fbcfa2ce',\n",
    " 'f024f923d78e5c0a4c0c4baa3ddccf05',\n",
    " 'e148c710d0c26849cf1f15293481038b',\n",
    " 'bdf437d7498815f36c255f64a8e6571c',\n",
    " '2282e0c80be28aadadb79a822fec9dac',\n",
    " 'bdd05e96876342b4b5999709439a7f4e',\n",
    " '494b8316614fc64c5c27757aeaffce23_1',\n",
    " 'c4494b402264250dc70931613d482295',\n",
    " 'fcfbf207c5586294fdce33b645b613f1',\n",
    " '9c583bcbe68989a644433302545fb31e',\n",
    " '0e684d779d98e6eecda167c10af42bbb',\n",
    " 'ac0462d09b9fddd40c3c77aedf48a870',\n",
    " '1dbfb41e04a10bdbb085bfe667c0df99',\n",
    " 'cd0c0ef3b8ce0eb09ff26823f6059be6',\n",
    " 'e6b67184b99375d05d3f2887f684c684',\n",
    " 'ae9f6f1e17b3fdd3a86b494933809f45',\n",
    " 'f149604169936a30b7e4c8d599d604b5',\n",
    " 'd7c8377953e0175ef57d59f3a8e63a8e',\n",
    " '1837216ac7745121b82a6491b2318c09',\n",
    " 'b5fe238d45e55ca5d802b7823ad390ef',\n",
    " 'b2fbeb0b48bd5e575af0f7dc24cdd85d',\n",
    " '9bdfb101c487ac598f6e4686cf774703',\n",
    " '206c7116ee2246180fcc0c5a1d0e7205',\n",
    " '5cd7f44bbf730dfae5ef2a362d2e5149',\n",
    " '45d0ea781ffd49b07d6eae94d47a8945',\n",
    " '89afdea1d76272fda8e1538a7d3b7a3f',\n",
    " '38a514fe54108527e1d6e89d9812da93',\n",
    " 'ebf347934a3e90ea46d3d87726fb5d25',\n",
    " '90226a6ecd7308ae1e6220a15ae24bc6',\n",
    " '5cae8057e75e3adf5c338a43b3ba97fb',\n",
    " '388a363c49e1b0aca8eaf18ccdde0caf',\n",
    " '9ed3af82152dfcd7000bf4631b095f71',\n",
    " '2d5805d894bba224c5fe91e70b8c0f77',\n",
    " 'd5aa464a16b72c9b9f3091abd461e3ef',\n",
    " '381b11c54be4cc432a95053ca34cbf6b',\n",
    " '807a3a2dabdd50ed0c76052fd2612632',\n",
    " '5172041c750d22e9a5081cc024de0fa6',\n",
    " 'd32a45ab3b751110d0578a78e54c0e64',\n",
    " '28ca5cbe27774746c34f6ebe84fc6d0c']\n",
    "\n",
    "chatGPT_rationales = [\n",
    "    \"A cup is a common vessel used for holding and drinking liquids, such as water, coffee, or tea. When you want to get yourself a drink, you might typically get a cup from a cabinet or other storage area in order to hold the drink. A cup is a convenient and practical choice for getting a drink because it is easy to hold and use, and it can hold a reasonable amount of liquid. There are many different types of cups available, including ceramic, glass, plastic, and metal cups, each with their own unique features and benefits. Whether you are at home, at work, or out in public, a cup is a handy item to have on hand when you need to quench your thirst.\",\n",
    "    \"A front yard is the lawn that is typically located in front of a house, near the street. The front yard is the part of the property that is visible from the street and is often used for decorative purposes, such as landscaping or gardening. Many people take pride in their front yards and may spend time and resources maintaining and improving them. The front yard is often the first thing that visitors see when they arrive at a house, and it can make a strong impression on them. In contrast, the back yard is typically located behind the house and is often used for more practical purposes, such as outdoor recreation or gardening.\",\n",
    "    \"A swimming pool is a recreational water feature that is typically used for swimming and other aquatic activities. While shallow water, such as that found in a kiddie pool or a shallow end of a pool, can be enjoyable for some people, it may not be sufficient for many summer activities. A swimming pool that is deep enough for diving and other activities is more likely to provide more opportunities for summer fun. In addition, a swimming pool that is clean and chlorinated is more likely to be safe and enjoyable for swimming, as it will be free of contaminants and bacteria that can cause illness.\",\n",
    "    \"In most places, it is illegal for people under the age of 21 to purchase or consume alcohol. This is because alcohol can have negative effects on the developing brain and body of young people. It can also contribute to risky behaviors and accidents. Therefore, many governments have set a minimum age for alcohol consumption and purchase to help protect the health and safety of young people. If someone is under the age of 21 and attempts to purchase alcohol, they may be denied the sale or face legal consequences. It is important for young people to understand and adhere to the laws and regulations regarding the purchase and consumption of alcohol in their area.\",\n",
    "    \"When someone shaves, they typically use a razor to remove hair from their face or body. The process of shaving can leave a lot of hair in the sink, as the hair is trimmed off and falls into the sink as it is being shaved. It is common for people to shave in the bathroom, where a sink is typically located. The sink provides a convenient place to rinse the razor and wash off any excess hair or shaving cream. It is important to clean the sink after shaving to remove any hair and prevent clogs in the drain.\",\n",
    "    \"A hamburger is a type of sandwich that consists of a cooked patty of ground meat, typically beef, placed between two slices of bread or a bun. Hamburgers are often served with various toppings, such as lettuce, tomato, onion, cheese, and condiments like ketchup and mustard. However, if someone is suffering from great hunger, they may not care about the toppings and just want to eat the hamburger itself. In this case, the person may be more focused on satisfying their hunger and getting nourishment rather than worrying about additional ingredients or flavors.\",\n",
    "    \"If a person notices popcorn and cotton candy on the grass, they are likely at fairgrounds. Fairgrounds are outdoor areas that are used for hosting fairs and other events, such as carnivals, festivals, and exhibitions. These events often feature food stalls and vendors that sell a variety of treats, including popcorn and cotton candy. Popcorn and cotton candy are both popular carnival foods that are often sold at fairs and other events. The presence of these foods on the ground at fairgrounds suggests that a fair or similar event is taking place there.\",\n",
    "    \"When snow on a mountain becomes heavy, it can trigger an avalanche. An avalanche is a rapid flow of snow down a slope, often triggered by the weight of the snow or external factors such as a change in temperature. Avalanches can be dangerous and destructive, as they can bury and sweep away anything in their path, including people, buildings, and vehicles. Avalanches can occur on any slope with a steep enough incline and a sufficient amount of snow. They are most common on mountains, but they can also occur in other snowy areas, such as forests or valleys. It is important for people to be aware of the risk of avalanches and to take precautions when traveling in areas prone to avalanches.\",\n",
    "    \"A police officer typically reports their work through the use of case reports or incident reports. These reports are written documents that detail the events of a specific case or incident that the officer has worked on. Case reports or incident reports typically include information such as the date and time of the incident, the location, the people involved, and the actions taken by the officer. They may also include witness statements, evidence collected, and any other relevant details. Case reports or incident reports are used by police officers to document their work and provide a record of the incidents they have dealt with. They are also used by supervisors and other authorities to review and evaluate the performance of the officer and the effectiveness of their actions.\",\n",
    "    \"Teachers play many roles in the lives of their students, including mentor, counselor, and role model. However, they get the most out of their job by simply teaching children. Teaching children is the primary responsibility of a teacher, and it is what they are trained and paid to do. Teaching involves imparting knowledge, skills, and values to students, and helping them to develop the skills and habits they need to succeed in life. Teachers have the opportunity to make a positive impact on the lives of their students by providing them with a strong foundation in academic subjects and helping them to become curious, engaged learners. Teachers often derive a great deal of satisfaction from helping their students to achieve their potential and succeed in their studies.\",\n",
    "    \"A person might go to get counseling for a variety of reasons. One reason is to better understand themselves. Counseling can provide a safe and supportive environment for individuals to explore their thoughts, feelings, and behaviors, and to gain insight into why they act and feel the way they do. Counseling can also help a person to identify and work through any underlying issues or challenges that may be causing them distress or hindering their personal growth. Through counseling, a person can learn more about themselves and how to navigate their emotions and relationships more effectively. Counseling can be particularly helpful for individuals who are struggling with mental health issues, relationship problems, or other personal challenges.\",\n",
    "    \"If the kids wanted to cool off, they might go swimming as a way to refresh and beat the heat. Swimming is a fun and enjoyable activity that can provide relief from hot weather and help to cool the body. Swimming can also provide a great workout and has numerous health benefits, such as improving cardiovascular fitness and flexibility. There are many different places where kids can go swimming, such as pools, lakes, rivers, or the ocean. No matter where they go, kids can have fun and cool off while enjoying the water.\",\n",
    "    \"When remembering a tragedy in the past, many people may feel depressed. Depression is a common emotional reaction to experiencing a traumatic or stressful event, such as a tragedy. Depression is a mental health disorder characterized by persistent feelings of sadness, hopelessness, and low energy. It can also cause physical symptoms such as changes in appetite and sleep patterns, fatigue, and difficulty concentrating. Remembering a tragedy can be emotionally difficult and may trigger feelings of sadness, grief, and guilt. It is important for people who are struggling with depression to seek support and treatment to help manage their symptoms and improve their mental health.\",\n",
    "    \"Death Valley is a national park located in the Mojave Desert, in the state of California, United States. It is situated on the North American continent. The North American continent is one of the seven continents of the world and is located in the western hemisphere. It is the third largest continent in terms of land area, after Asia and Africa, and is home to a diverse range of cultures, languages, and environments. Death Valley is known for its extreme desert climate and is the lowest, hottest, and driest place in North America. It is a popular destination for tourists, who come to see its unique geological features, such as sand dunes, salt flats, and canyons.\",\n",
    "    \"When in a serious relationship, understanding better requires effort. Relationships require effort and work to maintain and grow. In order to understand your partner better, you need to be willing to put in the time and effort to communicate with them, listen to their perspectives, and try to see things from their point of view. This may involve asking questions, expressing your own feelings and needs, and being open to feedback and compromise. Understanding your partner better can help to strengthen the bond between you and improve the quality of your relationship. It is important to remember that relationships are dynamic and evolving, and that ongoing communication and effort are necessary to maintain a healthy and fulfilling relationship.\",\n",
    "    \"Cats are able to make a variety of vocalizations, including meows, purrs, and growls, as a way of communicating with humans and other animals. Cats use these vocalizations to convey a range of emotions and needs, such as hunger, happiness, or discomfort. Meowing is a common vocalization that cats use to communicate with humans. Cats may meow when they want attention, food, or to be let outside. Cats may also meow when they are feeling anxious or stressed. Although cats cannot talk in the same way that humans do, they are skilled at using their voices to communicate with their owners and other animals.\",\n",
    "    \"If you need a vessel that is similar to a battleship but faster, you might consider using a corvette. A corvette is a small, fast warship that is typically used for convoy escort, patrol, and other shallow water duties. Corvettes are generally smaller and less heavily armed than battleships, but they are more agile and have a higher speed. They are typically equipped with a variety of weapons, including guns, missiles, and torpedoes, and are used for defending against enemy ships and aircraft. Corvettes are often used for coastal defense, as well as for patrolling and enforcing maritime laws. They are capable of operating in a variety of environments, including open ocean and littoral (nearshore) waters.\",\n",
    "    \"Water in the sky comes from rain clouds. Rain clouds are clouds that form when moist air rises and cools, forming tiny water droplets that condense around particles in the air. As the droplets grow, they eventually become heavy enough to fall from the cloud as rain. Rain clouds are typically gray or white in color and are often accompanied by other types of clouds, such as cumulus or stratocumulus clouds. Rain clouds can form in a variety of ways, such as when warm, moist air from the ground rises and cools, or when moist air from the ocean is carried inland by the wind. Rain clouds can be found in many parts of the world and are a common source of precipitation, especially during the warmer months.\",\n",
    "    \"If John rented a hotel room while on a business trip and it was a company-sponsored event, it is possible that the hotel was a resort. Resorts are hotels or vacation properties that offer a variety of amenities and activities for guests, such as swimming pools, golf courses, spas, and restaurants. They are often located in scenic or recreational areas and are designed to provide a relaxing and enjoyable experience for guests. Many resorts offer conference and meeting facilities and are popular destinations for business events and retreats. If John's company sponsored the business trip and provided the hotel accommodations, it is likely that they chose a resort with the amenities and facilities needed to support the event.\",\n",
    "    \"An expressway might leave the United States and go to Canada. The United States and Canada are neighboring countries that share a border, and there are several expressways that cross the border between the two countries. Expressways are high-speed, limited-access roads that are designed for fast and efficient travel. They typically have multiple lanes and may include features such as grade separations, interchanges, and controlled access points. Expressways are used for long-distance travel and are often the main routes connecting major cities and regions. If an expressway leaves the United States, it is likely that it is heading towards Canada, which is located to the north of the United States.\",\n",
    "    \"If you were walking on a sidewalk near a small corner shop run by John, you would look for it on the street corner. A corner shop is a small retail store that is typically located at the intersection of two streets. It is often a convenience store or a neighborhood shop that sells a variety of goods, such as groceries, household items, and other supplies. Corner shops are often located in busy urban areas, where they are easily accessible to pedestrians and motorists. If you were walking on a sidewalk near a corner shop, you would look for it at the intersection of the street where you are walking and another street. The shop is likely to be located in a building on the corner, with windows and doors facing the street.\",\n",
    "    \"One way that a company can efficiently sell things to their customers is through mail order. Mail order is a method of selling goods or services by advertising them in a catalog or other publication and allowing customers to place orders by mail, telephone, or online. Mail order is a convenient and efficient way for companies to reach a wide customer base, as it allows them to sell products to customers who may not be located near their physical store or who may not have the time or inclination to shop in person. Mail order companies typically have a centralized warehouse or distribution center where orders are processed and shipped to customers. They may also offer options such as easy returns and exchanges, as well as customer service support to assist with any questions or issues that customers may have.\",\n",
    "    \"If he enjoyed the factory work and liked the idea that he did it for sale, it is likely that he enjoyed producing goods. Factory work typically involves the production of goods, such as products or materials, using machines, tools, and other equipment. Factory workers are responsible for operating and maintaining the equipment and ensuring that the goods being produced meet quality standards. The goods produced in a factory may be sold directly to consumers or to other businesses, and may be used for a variety of purposes, such as manufacturing, construction, or distribution. If a person enjoys factory work, they may find satisfaction in the idea that they are contributing to the production of goods that will be sold and used by others.\",\n",
    "    \"If returning to work was easy for Dan after his treatment and he was completely painless, it is likely that he had undergone some form of medical treatment or therapy to address a health issue or injury. Painless indicates that Dan was no longer experiencing pain or discomfort, which may have been a result of the treatment or therapy he received. It is not clear from the information provided what specific health issue or injury Dan was dealing with, or what treatment or therapy he received. However, it is possible that Dan was able to return to work more easily after his treatment because he was feeling better and was no longer experiencing any pain or discomfort.\",\n",
    "    \"If index cards were on display at the museum, it is likely that the museum was a library. Libraries are institutions that provide access to a wide range of resources, including books, periodicals, and other printed materials, as well as digital resources such as e-books, databases, and online research tools. Libraries often have exhibits and displays of various types of materials, including rare or unique items, and may have special collections or archives that are of particular interest to researchers or historians. Index cards are small, rectangular pieces of paper that are used for organizing information, such as names, dates, or research notes. They may be used in a variety of settings, including libraries, offices, and schools. If index cards were on display at the museum, it is possible that they were part of a historical exhibit or collection related to the history of libraries or research.\",\n",
    "    \"If she was a human in America who wanted to live well, it is likely that the given for her situation was the need for money. In general, money is an important factor in enabling people to live well and meet their basic needs and desires. Money allows people to purchase the goods and services that they need to sustain themselves and their families, such as food, clothing, housing, and healthcare. It also enables people to pursue their interests and hobbies, travel, and engage in various forms of leisure and entertainment. In America, and in many other countries around the world, the cost of living can be high, and people often need to earn and save money in order to achieve a desired standard of living. As such, the need for money is a given for many people in order to live well.\",\n",
    "    \"A place that could have one back garden is a house. A garden is a piece of land that is used for growing plants, flowers, vegetables, or other types of vegetation. Gardens can be found in a variety of settings, including residential properties, public parks, and commercial properties. A house is a building that is used as a dwelling for one or more people, and it typically includes living spaces, such as bedrooms, bathrooms, and a kitchen, as well as outdoor areas, such as a front yard, side yard, and back yard. A back yard is a private outdoor space that is typically located behind a house and is often used for recreational or leisure activities, such as gardening, grilling, or playing games. If a house has a back garden, it is likely that the garden is located in the back yard.\",\n",
    "    \"People gather at a football stadium to see large men in pads play a game where they run and smash into each other. Football is a popular sport that is played on a rectangular field by two teams of eleven players. The game involves running, passing, and tackling, and players wear pads and other protective gear to reduce the risk of injury. Football is a physical and intense sport, and players often collide with each other at high speeds. Football stadiums are large, open-air facilities that are designed to host football games and other sporting events. They typically have a grass or artificial turf field, seating for spectators, and a variety of amenities, such as concessions stands, restrooms, and VIP areas. Football stadiums are popular places for people to gather and watch football games, and they can be found in cities and towns throughout the world.\",\n",
    "    \"One place where someone can get a flute is a musical instrument store. A musical instrument store is a retail establishment that specializes in selling musical instruments and related accessories. They may carry a wide range of instruments, including brass instruments, woodwind instruments, string instruments, percussion instruments, and keyboards. Flutes are woodwind instruments that are played by blowing air into a narrow opening and producing sound by vibrating the lips against a metal or wooden reed. They are popular instruments that are used in a variety of musical styles, including classical, jazz, and folk music. If someone is looking to purchase a flute, they may be able to find a selection of flutes at a musical instrument store. In addition to flutes, musical instrument stores may also offer a variety of other instruments, as well as sheet music, instructional materials, and accessories such as cases, stands, and cleaning supplies.\",\n",
    "    \"It is not clear what someone who has a greed for energy would do. The word greed typically refers to an excessive or insatiable desire for wealth, power, or material possessions. It is not clear how this concept would relate to energy or how it might influence someone's actions. It is possible that someone who has a lot of energy or who is very active might have a high appetite for food and might seek out sources of fuel or nutrition to sustain their energy levels. In this case, they might buy food as a way to obtain the energy they need. However, it is not accurate to say that someone who has a greed for energy would necessarily do this. It is important to note that the concept of greed is generally considered to be negative, as it suggests an unhealthy or unsustainable desire for something.\",\n",
    "    \"A forklift is a type of industrial vehicle that is used for moving and lifting heavy loads, such as pallets, crates, and boxes. Forklifts are equipped with a hydraulic lift mechanism and a set of prongs or forks that can be used to lift and transport loads. They are commonly used in warehouses and other distribution centers to move and stack materials, such as boxes, onto shelves or other storage areas. If you were using a forklift to stack boxes onto shelves, it is likely that you were in a warehouse or a similar facility. Warehouses are large, commercial buildings that are used for storing and distributing goods. They often have high ceilings, wide aisles, and multiple levels, and they may be equipped with a variety of material handling equipment, such as forklifts, conveyor belts, and cranes, to facilitate the movement and storage of goods.\",\n",
    "    \"You are likely to receive mouthwash in a little paper cup at a dentist's office. Dentist's offices are healthcare facilities that are staffed by dentists and other dental professionals, and they are used for the diagnosis and treatment of dental problems and the maintenance of oral health. One common practice at a dentist's office is to rinse the mouth with mouthwash, which is a liquid that is used to freshen breath, kill bacteria, and reduce the risk of gum disease and other oral health issues. Mouthwash is typically used after brushing and flossing to help remove any remaining food particles or plaque from the mouth. It may be dispensed in a little paper cup, which can be used to rinse the mouth and then disposed of after use.\",\n",
    "    \"A doctor's office can help you with an illness. A doctor's office is a healthcare facility that is staffed by medical doctors and other healthcare professionals, and it is used for the diagnosis and treatment of medical conditions and the maintenance of overall health. If you are experiencing an illness, such as a cold, flu, or more serious health issue, you may visit a doctor's office to seek medical care and treatment. At a doctor's office, you may receive a physical examination, diagnostic tests, and other forms of medical treatment, depending on the nature of your illness and your specific needs. Doctors are trained to diagnose and treat a wide range of medical conditions, and they can provide you with the care and support you need to recover from your illness and get back to good health.\",\n",
    "    \"A bug looking for wildflowers and no human interruption might go to a meadow. A meadow is a grassland area that is characterized by its open, grassy landscape and the presence of wildflowers and other types of vegetation. Meadows can be found in a variety of settings, including rural areas, forests, and parkland, and they are often home to a variety of animal and plant species. Because meadows are relatively undisturbed by human activity, they can be a good place for a bug to find wildflowers and other types of plants without interference from humans. Meadows are often considered to be peaceful, serene places, and they may be attractive to a bug that is seeking a quiet, natural environment in which to explore and forage.\",\n",
    "    \"If a bride and groom are taking care of proposals, the likely ceremony is a marriage. A marriage is a formal union between two people that is recognized by law and typically involves a public ceremony and the exchange of vows. A marriage proposal is a request for someone to marry another person, and it is typically made by one partner to the other. The process of planning a marriage often involves taking care of a variety of details and arrangements, such as choosing a venue, selecting a date, inviting guests, and organizing the ceremony and reception. If a bride and groom are taking care of proposals, it is likely that they are in the process of planning their marriage and preparing for the wedding ceremony.\",\n",
    "    \"You could put some olives in a jar to prevent them from getting nearby food wet. A jar is a container that is typically made of glass or ceramic and has a wide mouth and a secure, tight-fitting lid. Jars are often used for storing food items, such as olives, pickles, jams, and other types of preserved or dried goods. Because they have a sealed lid, jars can help to keep food fresh and prevent it from coming into contact with air or other substances that might spoil or contaminate it. If you want to prevent olives from getting nearby food wet, you could put them in a jar and close the lid to create an airtight seal. This would help to keep the olives separate from other foods and prevent them from coming into contact with moisture or other liquids.\",\n",
    "    \"If the graveyard was zoned by the pastor, it is likely that it was located on church property. Church property refers to land or buildings that are owned by a church or religious organization. This may include the main church building, as well as other structures such as a rectory, school, or community center. Church property may also include a graveyard or cemetery, which is a place where people are buried after they die. Pastors, who are ordained leaders in a church, often play a central role in the management and oversight of church property, and they may be responsible for zoning or designating areas within the property for specific purposes, such as a graveyard or a garden. If the pastor has zoned the graveyard, it is likely that it is located on church property and is being used as a place for burial by members of the church or community.\",\n",
    "    \"If a family wanted to live with carpeting, they may have ended up putting it in their houses. Houses are structures that are designed and built to be used as homes, and they typically have a number of rooms that are used for different purposes, such as sleeping, cooking, eating, and relaxing. Carpeting is a type of floor covering that is made of soft, flexible materials, such as wool, nylon, or polypropylene, and it is often used in houses to provide warmth, comfort, and insulation. If a family wanted to live with carpeting, they may have chosen to install carpeting in some or all of the rooms in their houses, in order to create a warm and cozy atmosphere and to improve the overall comfort and livability of their homes.\",\n",
    "    \"If a boss likes an employee's ambition, the employee may be put in charge of a project. A project is a specific task or set of tasks that is undertaken in order to achieve a specific goal or objective. Projects may be large or small, complex or simple, and they may involve a wide range of activities, such as research, design, development, testing, and implementation. If an employee is ambitious and demonstrates a strong desire to succeed and make a positive contribution to their organization, their boss may choose to put them in charge of a project, in order to give them the opportunity to demonstrate their skills and abilities and to take on more responsibility. Being put in charge of a project can be a challenging and rewarding experience, and it may provide an employee with the chance to learn new things, develop their skills, and make a meaningful contribution to their organization.\",\n",
    "    \"A county highway can be viewed as a line on a map. A map is a graphic representation of an area or region that shows the locations of various features, such as roads, rivers, mountains, and cities. Maps are often used to help people navigate and find their way around unfamiliar places, and they can be very useful for understanding the layout and geography of an area. County highways are roads that are maintained and operated by a county or local government, and they are typically used for local travel and transportation within a county or region. On a map, a county highway may be represented as a line, with a specific color or symbol used to indicate its location and route. By viewing a county highway as a line on a map, it is possible to get a sense of the route and layout of the road, and to use the map to plan a journey or navigate to a specific destination.\",\n",
    "    \"After going for a run, someone may feel tired. Running is a form of physical activity that involves moving quickly and continuously on foot, typically by running or jogging. It is a popular form of exercise that can help to improve cardiovascular fitness, build endurance, and strengthen the muscles of the legs and lower body. However, running can also be physically demanding, and it requires a certain level of fitness and stamina to be able to sustain the activity for an extended period of time. As a result, it is common for people to feel tired after going for a run, especially if they are not used to the activity or if they have pushed themselves to run for a longer distance or at a faster pace than usual. Tiredness after a run may be accompanied by other physical sensations, such as muscle fatigue, thirst, or a sense of accomplishment.\",\n",
    "    \"If a car was going from Florida to Ohio, it was heading north. Florida is a state in the southeastern region of the United States, and Ohio is a state in the midwestern region of the country. When traveling from Florida to Ohio, a person would need to go north in order to reach their destination. North is a direction that is opposite to south on a map or compass, and it is typically associated with higher latitude, colder climates, and longer nights. When traveling north, a person may encounter different landscapes, weather patterns, and cultural experiences than they would when traveling south, depending on the specific route and the distance traveled. By heading north from Florida to Ohio, a person would be leaving behind the warm, tropical climate of Florida and entering into a more temperate, mid-latitude region with cooler temperatures and a more diverse range of landscapes and ecosystems.\",\n",
    "    \"During a typical week, a teacher is likely to spend most of their time working in school. A teacher is a person who is trained and qualified to teach students in a school or educational setting, and their primary job is to provide instruction and guidance to help students learn and develop their skills and knowledge. Teachers may work in a variety of settings, including primary schools, secondary schools, and universities, and they may teach a wide range of subjects, including math, science, English, history, and the arts. In order to fulfill their duties as a teacher, a person is likely to spend most of their time working in a school or educational setting, where they will be responsible for preparing and delivering lessons, grading assignments, communicating with students and parents, and performing other tasks related to their job. Teachers typically work on a schedule that follows the school year, and they may work full-time or part-time, depending on their specific circumstances and the needs of their students.\",\n",
    "    \"In a predicament, an animal might choose to fight for its life as an alternative to fleeing. Predicament is a term that refers to a difficult or challenging situation, typically one that involves a choice or decision that needs to be made. When an animal finds itself in a predicament, it may have to decide how to respond in order to survive and protect itself. One option that an animal may have is to flee or run away from the situation in an effort to escape danger or avoid conflict. Another option that an animal may have is to fight for its life, using whatever means are available to defend itself and protect its survival. The choice that an animal makes in a predicament will depend on a variety of factors, including the specific nature of the situation, the animal's size, strength, and abilities, and the resources and options that are available to it.\",\n",
    "    \"It is not common for people to fight each other when they find a good deal. A good deal is typically defined as an opportunity to purchase something at a price that is lower than what it is usually worth, or to obtain a product or service that provides more value or benefits than what is expected. When people find a good deal, they may feel excited or pleased about the opportunity to save money or get more for their money, and they may take action to take advantage of the deal. However, it is generally not considered acceptable or appropriate for people to fight each other over a good deal or to engage in physical violence or aggression in order to obtain it. There are many other ways that people can express their interest in a good deal, such as by negotiating with the seller, making an offer, or simply making a purchase if the price is acceptable.\",\n",
    "    \"An altar is a platform or structure that is used for religious ceremonies, rituals, or worship. Altars are often found in places of worship, such as temples, churches, synagogues, mosques, and other religious buildings. When a person is standing in front of an altar, they are likely to be in a temple or other place of worship. Altars can be used for a variety of purposes in different religions and spiritual traditions, such as offering sacrifices, making offerings, praying, or performing other religious practices. They may be decorated with symbols, images, or other items that are significant to the religion or spiritual tradition that is being practiced. Altars may also be used as a place for people to meditate, reflect, or seek spiritual guidance.\",\n",
    "    \"Joe bought a bunch of grapes because he likes to use them to top his desserts. A dessert is a type of food that is typically served at the end of a meal, and it is usually sweet or rich in flavor. There are many different types of desserts that people enjoy, including cakes, cookies, ice cream, pie, and other sweet treats. One way that people may use grapes as a topping for their desserts is by placing them on top of a fruit pie, tart, or crisp. Grapes can add flavor and texture to a dessert, and they may also be used to decorate a dessert or to add visual appeal. Grapes are a versatile fruit that can be used in many different types of desserts, and they can be eaten fresh, frozen, or preserved in various ways.\",\n",
    "    \"Well water is water that is obtained from underground sources, typically through the use of a well. A well is a hole or shaft that is dug into the ground in order to access water that is contained in underground aquifers or other water-bearing formations. Well water is typically used for drinking, irrigation, and other purposes, and it is often considered to be of high quality because it is filtered and purified naturally as it flows through the ground. To obtain well water, a person can dig a well or have one dug by a professional well driller. The depth of the well will depend on the location and the geology of the area, and a pump or other mechanical system may be used to bring the water to the surface.\",\n",
    "]"
   ]
  },
  {
   "cell_type": "code",
   "execution_count": 17,
   "id": "013e06f0",
   "metadata": {},
   "outputs": [],
   "source": [
    "import glob\n",
    "import json\n",
    "import pdb\n",
    "chatgpt_50_100_rationales_dir = \"./chatgpt_rationales/150_200_text003\"\n",
    "file_list = glob.glob(\"{}/*.json\".format(chatgpt_50_100_rationales_dir))\n",
    "chatgpt_rationales_dict = {}\n",
    "for file in file_list:\n",
    "    with open(file, 'r') as f:\n",
    "        da = json.load(f)\n",
    "        #print(da.keys())\n",
    "        chatgpt_rationales_dict[da['id']] = da['150_to_200_words']\n",
    "        #pdb.set_trace()"
   ]
  },
  {
   "cell_type": "code",
   "execution_count": 18,
   "id": "d9681ea9",
   "metadata": {},
   "outputs": [],
   "source": [
    "def list2dict(refine_data):\n",
    "    refine_data_dict={}\n",
    "    for key in refine_data[0].keys():\n",
    "        refine_data_dict[key]=[x[key] for x in refine_data]\n",
    "    return refine_data_dict\n",
    "\n",
    "select_refine_train_data = []\n",
    "for da in refine_train_data:\n",
    "    #pdb.set_trace()\n",
    "    if da['id'] in chatgpt_rationales_dict.keys():\n",
    "        da['our_explanation'] = chatgpt_rationales_dict[da['id']]\n",
    "        select_refine_train_data.append(da) \n",
    "        \n",
    "select_refine_train_data_dict = list2dict(select_refine_train_data)\n",
    "our_data_splits['train'] = datasets.Dataset.from_dict(select_refine_train_data_dict).shuffle().select(range(96))\n",
    "\n",
    "refine_dev_data_dict = list2dict(refine_dev_data)\n",
    "our_data_splits['dev'] = datasets.Dataset.from_dict(refine_dev_data_dict)\n",
    "\n",
    "refine_test_data_dict = list2dict(refine_test_data)\n",
    "our_data_splits['test'] = datasets.Dataset.from_dict(refine_test_data_dict)\n",
    "\n"
   ]
  },
  {
   "cell_type": "code",
   "execution_count": 19,
   "id": "53ab0e1a",
   "metadata": {},
   "outputs": [],
   "source": [
    "import datasets\n",
    "class SequenceCollator:\n",
    "    def __init__(self, pad_token):\n",
    "        # self.pad_token_mapping = {\n",
    "        #     \"lm_labels\": -100,\n",
    "        #     \"attention_mask\": 0,\n",
    "        #     \"decoder_attention_mask\": 0,\n",
    "        #     \"input_ids\": pad_token,\n",
    "        # }\n",
    "        # self.columns = [\n",
    "        #     \"input_ids\",\n",
    "        #     \"attention_mask\",\n",
    "        #     \"lm_labels\",\n",
    "        #     \"decoder_attention_mask\",\n",
    "        # ]\n",
    "        self.pad_token_mapping = {\n",
    "            \"labels\": -100,\n",
    "            \"attention_mask\": 0,\n",
    "            \"decoder_attention_mask\": 0,\n",
    "            \"input_ids\": pad_token,\n",
    "        }\n",
    "        self.columns = [\n",
    "            \"input_ids\",\n",
    "            \"attention_mask\",\n",
    "            \"labels\",\n",
    "            \"decoder_attention_mask\",\n",
    "        ]\n",
    "\n",
    "    def collate_batch(self, examples):\n",
    "\n",
    "        # batch inputs for training\n",
    "        batch = {}\n",
    "        for key in examples[0].keys():\n",
    "            if key in self.columns:\n",
    "                tmp_list = []\n",
    "                for item in examples:\n",
    "                    tmp_list.append(item[key])\n",
    "\n",
    "                # pad lists to max length\n",
    "                if isinstance(tmp_list[0], list):\n",
    "                    max_length = max(map(len, tmp_list))\n",
    "                    tmp_list = [\n",
    "                        el + [self.pad_token_mapping[key]] * (max_length - len(el))\n",
    "                        for el in tmp_list\n",
    "                    ]\n",
    "\n",
    "                batch[key] = torch.tensor(tmp_list, dtype=torch.long)\n",
    "        return batch\n",
    "    \n",
    "    def __call__(self, examples: List[Dict[str, InputDataClass]]) -> Dict[str, torch.Tensor]:\n",
    "        # re-format inputs for training\n",
    "        batch = {}\n",
    "        for key in examples[0].keys():\n",
    "            if key in self.columns:\n",
    "                tmp_list = []\n",
    "                for item in examples:\n",
    "                    tmp_list.append(item[key])\n",
    "\n",
    "                # pad lists to max length\n",
    "                if isinstance(tmp_list[0], list):\n",
    "                    max_length = max(map(len, tmp_list))\n",
    "                    tmp_list = [\n",
    "                        el + [self.pad_token_mapping[key]] * (max_length - len(el))\n",
    "                        for el in tmp_list\n",
    "                    ]\n",
    "\n",
    "                batch[key] = torch.tensor(tmp_list, dtype=torch.long)\n",
    "        return batch\n",
    "# dataset = datasets.load_dataset(data_args.task_name, data_args.version_name)"
   ]
  },
  {
   "cell_type": "code",
   "execution_count": 20,
   "id": "219866fe",
   "metadata": {},
   "outputs": [
    {
     "data": {
      "application/json": {
       "ascii": false,
       "bar_format": null,
       "colour": null,
       "elapsed": 0.01331782341003418,
       "initial": 0,
       "n": 0,
       "ncols": null,
       "nrows": 60,
       "postfix": null,
       "prefix": "",
       "rate": null,
       "total": 96,
       "unit": "ex",
       "unit_divisor": 1000,
       "unit_scale": false
      },
      "application/vnd.jupyter.widget-view+json": {
       "model_id": "547d2f534b044f5c8ceeb27f42d837da",
       "version_major": 2,
       "version_minor": 0
      },
      "text/plain": [
       "  0%|          | 0/96 [00:00<?, ?ex/s]"
      ]
     },
     "metadata": {},
     "output_type": "display_data"
    },
    {
     "data": {
      "application/json": {
       "ascii": false,
       "bar_format": null,
       "colour": null,
       "elapsed": 0.01276707649230957,
       "initial": 0,
       "n": 0,
       "ncols": null,
       "nrows": 60,
       "postfix": null,
       "prefix": "",
       "rate": null,
       "total": 986,
       "unit": "ex",
       "unit_divisor": 1000,
       "unit_scale": false
      },
      "application/vnd.jupyter.widget-view+json": {
       "model_id": "93f07f0137a540cb854f792c91f8bc04",
       "version_major": 2,
       "version_minor": 0
      },
      "text/plain": [
       "  0%|          | 0/986 [00:00<?, ?ex/s]"
      ]
     },
     "metadata": {},
     "output_type": "display_data"
    },
    {
     "data": {
      "application/json": {
       "ascii": false,
       "bar_format": null,
       "colour": null,
       "elapsed": 0.015194177627563477,
       "initial": 0,
       "n": 0,
       "ncols": null,
       "nrows": 60,
       "postfix": null,
       "prefix": "",
       "rate": null,
       "total": 255,
       "unit": "ex",
       "unit_divisor": 1000,
       "unit_scale": false
      },
      "application/vnd.jupyter.widget-view+json": {
       "model_id": "72780588522f4695a87b5986604ccb69",
       "version_major": 2,
       "version_minor": 0
      },
      "text/plain": [
       "  0%|          | 0/255 [00:00<?, ?ex/s]"
      ]
     },
     "metadata": {},
     "output_type": "display_data"
    }
   ],
   "source": [
    "# seq_collector = SequenceCollator(0)\n",
    "# train_ds = seq_collector.__call__(dataset['train'])\n",
    "# train_ds\n",
    "# dataset['train'][0].keys()\n",
    "for split in ['train','dev','test']:\n",
    "    our_data_splits[split] = our_data_splits[split].map(\n",
    "            lambda x: format_instance(\n",
    "                x,\n",
    "                tokenizer,\n",
    "                data_args.explanation_sep,\n",
    "                datasource=data_args.task_name,\n",
    "                io_format=data_args.io_format\n",
    "            ),\n",
    "            batched=False,\n",
    "            load_from_cache_file=False,\n",
    "        )"
   ]
  },
  {
   "cell_type": "code",
   "execution_count": null,
   "id": "0c120e04",
   "metadata": {},
   "outputs": [],
   "source": []
  },
  {
   "cell_type": "code",
   "execution_count": 21,
   "id": "81048fad",
   "metadata": {},
   "outputs": [],
   "source": [
    "chatGPT_rationales = [\n",
    "    \"A cup is a common vessel used for holding and drinking liquids, such as water, coffee, or tea. When you want to get yourself a drink, you might typically get a cup from a cabinet or other storage area in order to hold the drink. A cup is a convenient and practical choice for getting a drink because it is easy to hold and use, and it can hold a reasonable amount of liquid. There are many different types of cups available, including ceramic, glass, plastic, and metal cups, each with their own unique features and benefits. Whether you are at home, at work, or out in public, a cup is a handy item to have on hand when you need to quench your thirst.\",\n",
    "    \"A front yard is the lawn that is typically located in front of a house, near the street. The front yard is the part of the property that is visible from the street and is often used for decorative purposes, such as landscaping or gardening. Many people take pride in their front yards and may spend time and resources maintaining and improving them. The front yard is often the first thing that visitors see when they arrive at a house, and it can make a strong impression on them. In contrast, the back yard is typically located behind the house and is often used for more practical purposes, such as outdoor recreation or gardening.\",\n",
    "    \"A swimming pool is a recreational water feature that is typically used for swimming and other aquatic activities. While shallow water, such as that found in a kiddie pool or a shallow end of a pool, can be enjoyable for some people, it may not be sufficient for many summer activities. A swimming pool that is deep enough for diving and other activities is more likely to provide more opportunities for summer fun. In addition, a swimming pool that is clean and chlorinated is more likely to be safe and enjoyable for swimming, as it will be free of contaminants and bacteria that can cause illness.\",\n",
    "    \"In most places, it is illegal for people under the age of 21 to purchase or consume alcohol. This is because alcohol can have negative effects on the developing brain and body of young people. It can also contribute to risky behaviors and accidents. Therefore, many governments have set a minimum age for alcohol consumption and purchase to help protect the health and safety of young people. If someone is under the age of 21 and attempts to purchase alcohol, they may be denied the sale or face legal consequences. It is important for young people to understand and adhere to the laws and regulations regarding the purchase and consumption of alcohol in their area.\",\n",
    "    \"When someone shaves, they typically use a razor to remove hair from their face or body. The process of shaving can leave a lot of hair in the sink, as the hair is trimmed off and falls into the sink as it is being shaved. It is common for people to shave in the bathroom, where a sink is typically located. The sink provides a convenient place to rinse the razor and wash off any excess hair or shaving cream. It is important to clean the sink after shaving to remove any hair and prevent clogs in the drain.\",\n",
    "    \"A hamburger is a type of sandwich that consists of a cooked patty of ground meat, typically beef, placed between two slices of bread or a bun. Hamburgers are often served with various toppings, such as lettuce, tomato, onion, cheese, and condiments like ketchup and mustard. However, if someone is suffering from great hunger, they may not care about the toppings and just want to eat the hamburger itself. In this case, the person may be more focused on satisfying their hunger and getting nourishment rather than worrying about additional ingredients or flavors.\",\n",
    "    \"If a person notices popcorn and cotton candy on the grass, they are likely at fairgrounds. Fairgrounds are outdoor areas that are used for hosting fairs and other events, such as carnivals, festivals, and exhibitions. These events often feature food stalls and vendors that sell a variety of treats, including popcorn and cotton candy. Popcorn and cotton candy are both popular carnival foods that are often sold at fairs and other events. The presence of these foods on the ground at fairgrounds suggests that a fair or similar event is taking place there.\",\n",
    "    \"When snow on a mountain becomes heavy, it can trigger an avalanche. An avalanche is a rapid flow of snow down a slope, often triggered by the weight of the snow or external factors such as a change in temperature. Avalanches can be dangerous and destructive, as they can bury and sweep away anything in their path, including people, buildings, and vehicles. Avalanches can occur on any slope with a steep enough incline and a sufficient amount of snow. They are most common on mountains, but they can also occur in other snowy areas, such as forests or valleys. It is important for people to be aware of the risk of avalanches and to take precautions when traveling in areas prone to avalanches.\",\n",
    "    \"A police officer typically reports their work through the use of case reports or incident reports. These reports are written documents that detail the events of a specific case or incident that the officer has worked on. Case reports or incident reports typically include information such as the date and time of the incident, the location, the people involved, and the actions taken by the officer. They may also include witness statements, evidence collected, and any other relevant details. Case reports or incident reports are used by police officers to document their work and provide a record of the incidents they have dealt with. They are also used by supervisors and other authorities to review and evaluate the performance of the officer and the effectiveness of their actions.\",\n",
    "    \"Teachers play many roles in the lives of their students, including mentor, counselor, and role model. However, they get the most out of their job by simply teaching children. Teaching children is the primary responsibility of a teacher, and it is what they are trained and paid to do. Teaching involves imparting knowledge, skills, and values to students, and helping them to develop the skills and habits they need to succeed in life. Teachers have the opportunity to make a positive impact on the lives of their students by providing them with a strong foundation in academic subjects and helping them to become curious, engaged learners. Teachers often derive a great deal of satisfaction from helping their students to achieve their potential and succeed in their studies.\",\n",
    "    \"A person might go to get counseling for a variety of reasons. One reason is to better understand themselves. Counseling can provide a safe and supportive environment for individuals to explore their thoughts, feelings, and behaviors, and to gain insight into why they act and feel the way they do. Counseling can also help a person to identify and work through any underlying issues or challenges that may be causing them distress or hindering their personal growth. Through counseling, a person can learn more about themselves and how to navigate their emotions and relationships more effectively. Counseling can be particularly helpful for individuals who are struggling with mental health issues, relationship problems, or other personal challenges.\",\n",
    "    \"If the kids wanted to cool off, they might go swimming as a way to refresh and beat the heat. Swimming is a fun and enjoyable activity that can provide relief from hot weather and help to cool the body. Swimming can also provide a great workout and has numerous health benefits, such as improving cardiovascular fitness and flexibility. There are many different places where kids can go swimming, such as pools, lakes, rivers, or the ocean. No matter where they go, kids can have fun and cool off while enjoying the water.\",\n",
    "    \"When remembering a tragedy in the past, many people may feel depressed. Depression is a common emotional reaction to experiencing a traumatic or stressful event, such as a tragedy. Depression is a mental health disorder characterized by persistent feelings of sadness, hopelessness, and low energy. It can also cause physical symptoms such as changes in appetite and sleep patterns, fatigue, and difficulty concentrating. Remembering a tragedy can be emotionally difficult and may trigger feelings of sadness, grief, and guilt. It is important for people who are struggling with depression to seek support and treatment to help manage their symptoms and improve their mental health.\",\n",
    "    \"Death Valley is a national park located in the Mojave Desert, in the state of California, United States. It is situated on the North American continent. The North American continent is one of the seven continents of the world and is located in the western hemisphere. It is the third largest continent in terms of land area, after Asia and Africa, and is home to a diverse range of cultures, languages, and environments. Death Valley is known for its extreme desert climate and is the lowest, hottest, and driest place in North America. It is a popular destination for tourists, who come to see its unique geological features, such as sand dunes, salt flats, and canyons.\",\n",
    "    \"When in a serious relationship, understanding better requires effort. Relationships require effort and work to maintain and grow. In order to understand your partner better, you need to be willing to put in the time and effort to communicate with them, listen to their perspectives, and try to see things from their point of view. This may involve asking questions, expressing your own feelings and needs, and being open to feedback and compromise. Understanding your partner better can help to strengthen the bond between you and improve the quality of your relationship. It is important to remember that relationships are dynamic and evolving, and that ongoing communication and effort are necessary to maintain a healthy and fulfilling relationship.\",\n",
    "    \"Cats are able to make a variety of vocalizations, including meows, purrs, and growls, as a way of communicating with humans and other animals. Cats use these vocalizations to convey a range of emotions and needs, such as hunger, happiness, or discomfort. Meowing is a common vocalization that cats use to communicate with humans. Cats may meow when they want attention, food, or to be let outside. Cats may also meow when they are feeling anxious or stressed. Although cats cannot talk in the same way that humans do, they are skilled at using their voices to communicate with their owners and other animals.\",\n",
    "    \"If you need a vessel that is similar to a battleship but faster, you might consider using a corvette. A corvette is a small, fast warship that is typically used for convoy escort, patrol, and other shallow water duties. Corvettes are generally smaller and less heavily armed than battleships, but they are more agile and have a higher speed. They are typically equipped with a variety of weapons, including guns, missiles, and torpedoes, and are used for defending against enemy ships and aircraft. Corvettes are often used for coastal defense, as well as for patrolling and enforcing maritime laws. They are capable of operating in a variety of environments, including open ocean and littoral (nearshore) waters.\",\n",
    "    \"Water in the sky comes from rain clouds. Rain clouds are clouds that form when moist air rises and cools, forming tiny water droplets that condense around particles in the air. As the droplets grow, they eventually become heavy enough to fall from the cloud as rain. Rain clouds are typically gray or white in color and are often accompanied by other types of clouds, such as cumulus or stratocumulus clouds. Rain clouds can form in a variety of ways, such as when warm, moist air from the ground rises and cools, or when moist air from the ocean is carried inland by the wind. Rain clouds can be found in many parts of the world and are a common source of precipitation, especially during the warmer months.\",\n",
    "    \"If John rented a hotel room while on a business trip and it was a company-sponsored event, it is possible that the hotel was a resort. Resorts are hotels or vacation properties that offer a variety of amenities and activities for guests, such as swimming pools, golf courses, spas, and restaurants. They are often located in scenic or recreational areas and are designed to provide a relaxing and enjoyable experience for guests. Many resorts offer conference and meeting facilities and are popular destinations for business events and retreats. If John's company sponsored the business trip and provided the hotel accommodations, it is likely that they chose a resort with the amenities and facilities needed to support the event.\",\n",
    "    \"An expressway might leave the United States and go to Canada. The United States and Canada are neighboring countries that share a border, and there are several expressways that cross the border between the two countries. Expressways are high-speed, limited-access roads that are designed for fast and efficient travel. They typically have multiple lanes and may include features such as grade separations, interchanges, and controlled access points. Expressways are used for long-distance travel and are often the main routes connecting major cities and regions. If an expressway leaves the United States, it is likely that it is heading towards Canada, which is located to the north of the United States.\",\n",
    "    \"If you were walking on a sidewalk near a small corner shop run by John, you would look for it on the street corner. A corner shop is a small retail store that is typically located at the intersection of two streets. It is often a convenience store or a neighborhood shop that sells a variety of goods, such as groceries, household items, and other supplies. Corner shops are often located in busy urban areas, where they are easily accessible to pedestrians and motorists. If you were walking on a sidewalk near a corner shop, you would look for it at the intersection of the street where you are walking and another street. The shop is likely to be located in a building on the corner, with windows and doors facing the street.\",\n",
    "    \"One way that a company can efficiently sell things to their customers is through mail order. Mail order is a method of selling goods or services by advertising them in a catalog or other publication and allowing customers to place orders by mail, telephone, or online. Mail order is a convenient and efficient way for companies to reach a wide customer base, as it allows them to sell products to customers who may not be located near their physical store or who may not have the time or inclination to shop in person. Mail order companies typically have a centralized warehouse or distribution center where orders are processed and shipped to customers. They may also offer options such as easy returns and exchanges, as well as customer service support to assist with any questions or issues that customers may have.\",\n",
    "    \"If he enjoyed the factory work and liked the idea that he did it for sale, it is likely that he enjoyed producing goods. Factory work typically involves the production of goods, such as products or materials, using machines, tools, and other equipment. Factory workers are responsible for operating and maintaining the equipment and ensuring that the goods being produced meet quality standards. The goods produced in a factory may be sold directly to consumers or to other businesses, and may be used for a variety of purposes, such as manufacturing, construction, or distribution. If a person enjoys factory work, they may find satisfaction in the idea that they are contributing to the production of goods that will be sold and used by others.\",\n",
    "    \"If returning to work was easy for Dan after his treatment and he was completely painless, it is likely that he had undergone some form of medical treatment or therapy to address a health issue or injury. Painless indicates that Dan was no longer experiencing pain or discomfort, which may have been a result of the treatment or therapy he received. It is not clear from the information provided what specific health issue or injury Dan was dealing with, or what treatment or therapy he received. However, it is possible that Dan was able to return to work more easily after his treatment because he was feeling better and was no longer experiencing any pain or discomfort.\",\n",
    "    \"If index cards were on display at the museum, it is likely that the museum was a library. Libraries are institutions that provide access to a wide range of resources, including books, periodicals, and other printed materials, as well as digital resources such as e-books, databases, and online research tools. Libraries often have exhibits and displays of various types of materials, including rare or unique items, and may have special collections or archives that are of particular interest to researchers or historians. Index cards are small, rectangular pieces of paper that are used for organizing information, such as names, dates, or research notes. They may be used in a variety of settings, including libraries, offices, and schools. If index cards were on display at the museum, it is possible that they were part of a historical exhibit or collection related to the history of libraries or research.\",\n",
    "    \"If she was a human in America who wanted to live well, it is likely that the given for her situation was the need for money. In general, money is an important factor in enabling people to live well and meet their basic needs and desires. Money allows people to purchase the goods and services that they need to sustain themselves and their families, such as food, clothing, housing, and healthcare. It also enables people to pursue their interests and hobbies, travel, and engage in various forms of leisure and entertainment. In America, and in many other countries around the world, the cost of living can be high, and people often need to earn and save money in order to achieve a desired standard of living. As such, the need for money is a given for many people in order to live well.\",\n",
    "    \"A place that could have one back garden is a house. A garden is a piece of land that is used for growing plants, flowers, vegetables, or other types of vegetation. Gardens can be found in a variety of settings, including residential properties, public parks, and commercial properties. A house is a building that is used as a dwelling for one or more people, and it typically includes living spaces, such as bedrooms, bathrooms, and a kitchen, as well as outdoor areas, such as a front yard, side yard, and back yard. A back yard is a private outdoor space that is typically located behind a house and is often used for recreational or leisure activities, such as gardening, grilling, or playing games. If a house has a back garden, it is likely that the garden is located in the back yard.\",\n",
    "    \"People gather at a football stadium to see large men in pads play a game where they run and smash into each other. Football is a popular sport that is played on a rectangular field by two teams of eleven players. The game involves running, passing, and tackling, and players wear pads and other protective gear to reduce the risk of injury. Football is a physical and intense sport, and players often collide with each other at high speeds. Football stadiums are large, open-air facilities that are designed to host football games and other sporting events. They typically have a grass or artificial turf field, seating for spectators, and a variety of amenities, such as concessions stands, restrooms, and VIP areas. Football stadiums are popular places for people to gather and watch football games, and they can be found in cities and towns throughout the world.\",\n",
    "    \"One place where someone can get a flute is a musical instrument store. A musical instrument store is a retail establishment that specializes in selling musical instruments and related accessories. They may carry a wide range of instruments, including brass instruments, woodwind instruments, string instruments, percussion instruments, and keyboards. Flutes are woodwind instruments that are played by blowing air into a narrow opening and producing sound by vibrating the lips against a metal or wooden reed. They are popular instruments that are used in a variety of musical styles, including classical, jazz, and folk music. If someone is looking to purchase a flute, they may be able to find a selection of flutes at a musical instrument store. In addition to flutes, musical instrument stores may also offer a variety of other instruments, as well as sheet music, instructional materials, and accessories such as cases, stands, and cleaning supplies.\",\n",
    "    \"It is not clear what someone who has a greed for energy would do. The word greed typically refers to an excessive or insatiable desire for wealth, power, or material possessions. It is not clear how this concept would relate to energy or how it might influence someone's actions. It is possible that someone who has a lot of energy or who is very active might have a high appetite for food and might seek out sources of fuel or nutrition to sustain their energy levels. In this case, they might buy food as a way to obtain the energy they need. However, it is not accurate to say that someone who has a greed for energy would necessarily do this. It is important to note that the concept of greed is generally considered to be negative, as it suggests an unhealthy or unsustainable desire for something.\",\n",
    "    \"A forklift is a type of industrial vehicle that is used for moving and lifting heavy loads, such as pallets, crates, and boxes. Forklifts are equipped with a hydraulic lift mechanism and a set of prongs or forks that can be used to lift and transport loads. They are commonly used in warehouses and other distribution centers to move and stack materials, such as boxes, onto shelves or other storage areas. If you were using a forklift to stack boxes onto shelves, it is likely that you were in a warehouse or a similar facility. Warehouses are large, commercial buildings that are used for storing and distributing goods. They often have high ceilings, wide aisles, and multiple levels, and they may be equipped with a variety of material handling equipment, such as forklifts, conveyor belts, and cranes, to facilitate the movement and storage of goods.\",\n",
    "    \"You are likely to receive mouthwash in a little paper cup at a dentist's office. Dentist's offices are healthcare facilities that are staffed by dentists and other dental professionals, and they are used for the diagnosis and treatment of dental problems and the maintenance of oral health. One common practice at a dentist's office is to rinse the mouth with mouthwash, which is a liquid that is used to freshen breath, kill bacteria, and reduce the risk of gum disease and other oral health issues. Mouthwash is typically used after brushing and flossing to help remove any remaining food particles or plaque from the mouth. It may be dispensed in a little paper cup, which can be used to rinse the mouth and then disposed of after use.\",\n",
    "    \"A doctor's office can help you with an illness. A doctor's office is a healthcare facility that is staffed by medical doctors and other healthcare professionals, and it is used for the diagnosis and treatment of medical conditions and the maintenance of overall health. If you are experiencing an illness, such as a cold, flu, or more serious health issue, you may visit a doctor's office to seek medical care and treatment. At a doctor's office, you may receive a physical examination, diagnostic tests, and other forms of medical treatment, depending on the nature of your illness and your specific needs. Doctors are trained to diagnose and treat a wide range of medical conditions, and they can provide you with the care and support you need to recover from your illness and get back to good health.\",\n",
    "    \"A bug looking for wildflowers and no human interruption might go to a meadow. A meadow is a grassland area that is characterized by its open, grassy landscape and the presence of wildflowers and other types of vegetation. Meadows can be found in a variety of settings, including rural areas, forests, and parkland, and they are often home to a variety of animal and plant species. Because meadows are relatively undisturbed by human activity, they can be a good place for a bug to find wildflowers and other types of plants without interference from humans. Meadows are often considered to be peaceful, serene places, and they may be attractive to a bug that is seeking a quiet, natural environment in which to explore and forage.\",\n",
    "    \"If a bride and groom are taking care of proposals, the likely ceremony is a marriage. A marriage is a formal union between two people that is recognized by law and typically involves a public ceremony and the exchange of vows. A marriage proposal is a request for someone to marry another person, and it is typically made by one partner to the other. The process of planning a marriage often involves taking care of a variety of details and arrangements, such as choosing a venue, selecting a date, inviting guests, and organizing the ceremony and reception. If a bride and groom are taking care of proposals, it is likely that they are in the process of planning their marriage and preparing for the wedding ceremony.\",\n",
    "    \"You could put some olives in a jar to prevent them from getting nearby food wet. A jar is a container that is typically made of glass or ceramic and has a wide mouth and a secure, tight-fitting lid. Jars are often used for storing food items, such as olives, pickles, jams, and other types of preserved or dried goods. Because they have a sealed lid, jars can help to keep food fresh and prevent it from coming into contact with air or other substances that might spoil or contaminate it. If you want to prevent olives from getting nearby food wet, you could put them in a jar and close the lid to create an airtight seal. This would help to keep the olives separate from other foods and prevent them from coming into contact with moisture or other liquids.\",\n",
    "    \"If the graveyard was zoned by the pastor, it is likely that it was located on church property. Church property refers to land or buildings that are owned by a church or religious organization. This may include the main church building, as well as other structures such as a rectory, school, or community center. Church property may also include a graveyard or cemetery, which is a place where people are buried after they die. Pastors, who are ordained leaders in a church, often play a central role in the management and oversight of church property, and they may be responsible for zoning or designating areas within the property for specific purposes, such as a graveyard or a garden. If the pastor has zoned the graveyard, it is likely that it is located on church property and is being used as a place for burial by members of the church or community.\",\n",
    "    \"If a family wanted to live with carpeting, they may have ended up putting it in their houses. Houses are structures that are designed and built to be used as homes, and they typically have a number of rooms that are used for different purposes, such as sleeping, cooking, eating, and relaxing. Carpeting is a type of floor covering that is made of soft, flexible materials, such as wool, nylon, or polypropylene, and it is often used in houses to provide warmth, comfort, and insulation. If a family wanted to live with carpeting, they may have chosen to install carpeting in some or all of the rooms in their houses, in order to create a warm and cozy atmosphere and to improve the overall comfort and livability of their homes.\",\n",
    "    \"If a boss likes an employee's ambition, the employee may be put in charge of a project. A project is a specific task or set of tasks that is undertaken in order to achieve a specific goal or objective. Projects may be large or small, complex or simple, and they may involve a wide range of activities, such as research, design, development, testing, and implementation. If an employee is ambitious and demonstrates a strong desire to succeed and make a positive contribution to their organization, their boss may choose to put them in charge of a project, in order to give them the opportunity to demonstrate their skills and abilities and to take on more responsibility. Being put in charge of a project can be a challenging and rewarding experience, and it may provide an employee with the chance to learn new things, develop their skills, and make a meaningful contribution to their organization.\",\n",
    "    \"A county highway can be viewed as a line on a map. A map is a graphic representation of an area or region that shows the locations of various features, such as roads, rivers, mountains, and cities. Maps are often used to help people navigate and find their way around unfamiliar places, and they can be very useful for understanding the layout and geography of an area. County highways are roads that are maintained and operated by a county or local government, and they are typically used for local travel and transportation within a county or region. On a map, a county highway may be represented as a line, with a specific color or symbol used to indicate its location and route. By viewing a county highway as a line on a map, it is possible to get a sense of the route and layout of the road, and to use the map to plan a journey or navigate to a specific destination.\",\n",
    "    \"After going for a run, someone may feel tired. Running is a form of physical activity that involves moving quickly and continuously on foot, typically by running or jogging. It is a popular form of exercise that can help to improve cardiovascular fitness, build endurance, and strengthen the muscles of the legs and lower body. However, running can also be physically demanding, and it requires a certain level of fitness and stamina to be able to sustain the activity for an extended period of time. As a result, it is common for people to feel tired after going for a run, especially if they are not used to the activity or if they have pushed themselves to run for a longer distance or at a faster pace than usual. Tiredness after a run may be accompanied by other physical sensations, such as muscle fatigue, thirst, or a sense of accomplishment.\",\n",
    "    \"If a car was going from Florida to Ohio, it was heading north. Florida is a state in the southeastern region of the United States, and Ohio is a state in the midwestern region of the country. When traveling from Florida to Ohio, a person would need to go north in order to reach their destination. North is a direction that is opposite to south on a map or compass, and it is typically associated with higher latitude, colder climates, and longer nights. When traveling north, a person may encounter different landscapes, weather patterns, and cultural experiences than they would when traveling south, depending on the specific route and the distance traveled. By heading north from Florida to Ohio, a person would be leaving behind the warm, tropical climate of Florida and entering into a more temperate, mid-latitude region with cooler temperatures and a more diverse range of landscapes and ecosystems.\",\n",
    "    \"During a typical week, a teacher is likely to spend most of their time working in school. A teacher is a person who is trained and qualified to teach students in a school or educational setting, and their primary job is to provide instruction and guidance to help students learn and develop their skills and knowledge. Teachers may work in a variety of settings, including primary schools, secondary schools, and universities, and they may teach a wide range of subjects, including math, science, English, history, and the arts. In order to fulfill their duties as a teacher, a person is likely to spend most of their time working in a school or educational setting, where they will be responsible for preparing and delivering lessons, grading assignments, communicating with students and parents, and performing other tasks related to their job. Teachers typically work on a schedule that follows the school year, and they may work full-time or part-time, depending on their specific circumstances and the needs of their students.\",\n",
    "    \"In a predicament, an animal might choose to fight for its life as an alternative to fleeing. Predicament is a term that refers to a difficult or challenging situation, typically one that involves a choice or decision that needs to be made. When an animal finds itself in a predicament, it may have to decide how to respond in order to survive and protect itself. One option that an animal may have is to flee or run away from the situation in an effort to escape danger or avoid conflict. Another option that an animal may have is to fight for its life, using whatever means are available to defend itself and protect its survival. The choice that an animal makes in a predicament will depend on a variety of factors, including the specific nature of the situation, the animal's size, strength, and abilities, and the resources and options that are available to it.\",\n",
    "    \"It is not common for people to fight each other when they find a good deal. A good deal is typically defined as an opportunity to purchase something at a price that is lower than what it is usually worth, or to obtain a product or service that provides more value or benefits than what is expected. When people find a good deal, they may feel excited or pleased about the opportunity to save money or get more for their money, and they may take action to take advantage of the deal. However, it is generally not considered acceptable or appropriate for people to fight each other over a good deal or to engage in physical violence or aggression in order to obtain it. There are many other ways that people can express their interest in a good deal, such as by negotiating with the seller, making an offer, or simply making a purchase if the price is acceptable.\",\n",
    "    \"An altar is a platform or structure that is used for religious ceremonies, rituals, or worship. Altars are often found in places of worship, such as temples, churches, synagogues, mosques, and other religious buildings. When a person is standing in front of an altar, they are likely to be in a temple or other place of worship. Altars can be used for a variety of purposes in different religions and spiritual traditions, such as offering sacrifices, making offerings, praying, or performing other religious practices. They may be decorated with symbols, images, or other items that are significant to the religion or spiritual tradition that is being practiced. Altars may also be used as a place for people to meditate, reflect, or seek spiritual guidance.\",\n",
    "    \"Joe bought a bunch of grapes because he likes to use them to top his desserts. A dessert is a type of food that is typically served at the end of a meal, and it is usually sweet or rich in flavor. There are many different types of desserts that people enjoy, including cakes, cookies, ice cream, pie, and other sweet treats. One way that people may use grapes as a topping for their desserts is by placing them on top of a fruit pie, tart, or crisp. Grapes can add flavor and texture to a dessert, and they may also be used to decorate a dessert or to add visual appeal. Grapes are a versatile fruit that can be used in many different types of desserts, and they can be eaten fresh, frozen, or preserved in various ways.\",\n",
    "    \"Well water is water that is obtained from underground sources, typically through the use of a well. A well is a hole or shaft that is dug into the ground in order to access water that is contained in underground aquifers or other water-bearing formations. Well water is typically used for drinking, irrigation, and other purposes, and it is often considered to be of high quality because it is filtered and purified naturally as it flows through the ground. To obtain well water, a person can dig a well or have one dug by a professional well driller. The depth of the well will depend on the location and the geology of the area, and a pump or other mechanical system may be used to bring the water to the surface.\",\n",
    "]"
   ]
  },
  {
   "cell_type": "code",
   "execution_count": null,
   "id": "69fa8109",
   "metadata": {},
   "outputs": [],
   "source": []
  },
  {
   "cell_type": "code",
   "execution_count": 22,
   "id": "01fdee8d",
   "metadata": {},
   "outputs": [],
   "source": [
    "id_list = [\n",
    " '71519c19654251cced50c5718fd527c1',\n",
    " '44195d210c81c8c550174d0edbd3ad5d',\n",
    " '5a5da37b685ec9c6f15228128ce30437',\n",
    " 'cabdfc174953b4bdb8bdcc89d6592c74',\n",
    " 'eac3a4080127e8924034651b57dfa289',\n",
    " 'c0013f31657294b9b5ad819123513ca7',\n",
    " '2681697be70cd5425899ed6deb84b18a',\n",
    " '47f60340b869552e795fa6782224f3d2',\n",
    " '7e8a6eac93147eb52d8151bab7b40003',\n",
    " 'f34267f498c8a78383e35057fbcfa2ce',\n",
    " 'f024f923d78e5c0a4c0c4baa3ddccf05',\n",
    " 'e148c710d0c26849cf1f15293481038b',\n",
    " 'bdf437d7498815f36c255f64a8e6571c',\n",
    " '2282e0c80be28aadadb79a822fec9dac',\n",
    " 'bdd05e96876342b4b5999709439a7f4e',\n",
    " '494b8316614fc64c5c27757aeaffce23_1',\n",
    " 'c4494b402264250dc70931613d482295',\n",
    " 'fcfbf207c5586294fdce33b645b613f1',\n",
    " '9c583bcbe68989a644433302545fb31e',\n",
    " '0e684d779d98e6eecda167c10af42bbb',\n",
    " 'ac0462d09b9fddd40c3c77aedf48a870',\n",
    " '1dbfb41e04a10bdbb085bfe667c0df99',\n",
    " 'cd0c0ef3b8ce0eb09ff26823f6059be6',\n",
    " 'e6b67184b99375d05d3f2887f684c684',\n",
    " 'ae9f6f1e17b3fdd3a86b494933809f45',\n",
    " 'f149604169936a30b7e4c8d599d604b5',\n",
    " 'd7c8377953e0175ef57d59f3a8e63a8e',\n",
    " '1837216ac7745121b82a6491b2318c09',\n",
    " 'b5fe238d45e55ca5d802b7823ad390ef',\n",
    " 'b2fbeb0b48bd5e575af0f7dc24cdd85d',\n",
    " '9bdfb101c487ac598f6e4686cf774703',\n",
    " '206c7116ee2246180fcc0c5a1d0e7205',\n",
    " '5cd7f44bbf730dfae5ef2a362d2e5149',\n",
    " '45d0ea781ffd49b07d6eae94d47a8945',\n",
    " '89afdea1d76272fda8e1538a7d3b7a3f',\n",
    " '38a514fe54108527e1d6e89d9812da93',\n",
    " 'ebf347934a3e90ea46d3d87726fb5d25',\n",
    " '90226a6ecd7308ae1e6220a15ae24bc6',\n",
    " '5cae8057e75e3adf5c338a43b3ba97fb',\n",
    " '388a363c49e1b0aca8eaf18ccdde0caf',\n",
    " '9ed3af82152dfcd7000bf4631b095f71',\n",
    " '2d5805d894bba224c5fe91e70b8c0f77',\n",
    " 'd5aa464a16b72c9b9f3091abd461e3ef',\n",
    " '381b11c54be4cc432a95053ca34cbf6b',\n",
    " '807a3a2dabdd50ed0c76052fd2612632',\n",
    " '5172041c750d22e9a5081cc024de0fa6',\n",
    " 'd32a45ab3b751110d0578a78e54c0e64',\n",
    " '28ca5cbe27774746c34f6ebe84fc6d0c']"
   ]
  },
  {
   "cell_type": "code",
   "execution_count": null,
   "id": "51445c67",
   "metadata": {},
   "outputs": [],
   "source": []
  },
  {
   "cell_type": "code",
   "execution_count": 23,
   "id": "dabe3306",
   "metadata": {},
   "outputs": [],
   "source": [
    "# our_wrong_data_splits['dev']=[]\n",
    "# for x in our_data_splits['dev']:\n",
    "#     for ii in range(5):\n",
    "#         new_x={'id':x['id'], 'real_answer':x['answer'], \n",
    "#                'answer':x['choices'][ii], 'question':x['question'],\n",
    "#                'choices':x['choices'],\n",
    "#                'abstractive_explanation':x['abstractive_explanation'],\n",
    "#                'extractive_explanation':x['extractive_explanation'],\n",
    "#                'our_explanation':x['our_explanation']}\n",
    "#         our_wrong_data_splits['dev'].append(new_x)\n",
    "#     #print(x)\n",
    "#     #pdb.set_trace()\n",
    "# # wandb.init()\n",
    "# our_wrong_dev_data_dict = list2dict(our_wrong_data_splits['dev'])\n",
    "# our_wrong_data_splits['dev'] = datasets.Dataset.from_dict(our_wrong_dev_data_dict)"
   ]
  },
  {
   "cell_type": "code",
   "execution_count": 24,
   "id": "7b62bdf5",
   "metadata": {},
   "outputs": [],
   "source": [
    "# our_wrong_data_splits['train'][0],our_wrong_data_splits['train'][0].keys()\n",
    "# our_wrong_data_splits['train'] = our_wrong_data_splits['train'].map(\n",
    "#             lambda x: format_instance(\n",
    "#                 x,\n",
    "#                 tokenizer,\n",
    "#                 data_args.explanation_sep,\n",
    "#                 datasource=data_args.task_name,\n",
    "#                 io_format=data_args.io_format\n",
    "#             ),\n",
    "#             batched=False,\n",
    "#             load_from_cache_file=False,\n",
    "#         )"
   ]
  },
  {
   "cell_type": "code",
   "execution_count": 25,
   "id": "b421f892",
   "metadata": {},
   "outputs": [],
   "source": [
    "# for da in our_wrong_data_splits['dev']:\n",
    "#     print(\"*******\")\n",
    "#     print(\"question: {}\".format(da['question']))\n",
    "#     print(\"real_answer: {}\".format(da['real_answer']))\n",
    "#     print(\"answer: {}\".format(da['answer']))\n",
    "#     print(\"choices: {}\".format(da['choices']))\n",
    "#     print(\"our_explanation: {}\".format(da['our_explanation']))\n",
    "#     inp_ids = torch.tensor(da[\"input_ids\"], device=model.device).reshape(1, -1)\n",
    "#     out = model.generate(\n",
    "#                     inp_ids,\n",
    "#                     max_length=100,\n",
    "#                     pad_token_id=tokenizer.pad_token_id,\n",
    "#                     eos_token_id=tokenizer.eos_token_id,\n",
    "#                 )\n",
    "#     skip_special_tokens = False if \"infilling\" in data_args.io_format else True\n",
    "#     words = tokenizer.decode(out[0].tolist(), skip_special_tokens=skip_special_tokens)\n",
    "#     print(\"generated explanation: {}\".format(words))\n",
    "#     print(\"#######\")"
   ]
  },
  {
   "cell_type": "code",
   "execution_count": 26,
   "id": "dfa34701",
   "metadata": {},
   "outputs": [],
   "source": [
    "# our_wrong_data_splits['train'][0],our_wrong_data_splits['train'][0].keys()\n",
    "# our_wrong_data_splits['dev'] = our_wrong_data_splits['dev'].map(\n",
    "#             lambda x: format_instance(\n",
    "#                 x,\n",
    "#                 tokenizer,\n",
    "#                 data_args.explanation_sep,\n",
    "#                 datasource=data_args.task_name,\n",
    "#                 io_format=data_args.io_format\n",
    "#             ),\n",
    "#             batched=False,\n",
    "#             load_from_cache_file=False,\n",
    "#         )"
   ]
  },
  {
   "cell_type": "code",
   "execution_count": 27,
   "id": "2e6d6437",
   "metadata": {},
   "outputs": [],
   "source": [
    "# for da in our_wrong_data_splits['dev']:\n",
    "#     print(\"*******\")\n",
    "#     print(\"question: {}\".format(da['question']))\n",
    "#     print(\"real_answer: {}\".format(da['real_answer']))\n",
    "#     print(\"answer: {}\".format(da['answer']))\n",
    "#     print(\"choices: {}\".format(da['choices']))\n",
    "#     print(\"our_explanation: {}\".format(da['our_explanation']))\n",
    "#     inp_ids = torch.tensor(da[\"input_ids\"], device=model.device).reshape(1, -1)\n",
    "#     out = model.generate(\n",
    "#                     inp_ids,\n",
    "#                     max_length=100,\n",
    "#                     pad_token_id=tokenizer.pad_token_id,\n",
    "#                     eos_token_id=tokenizer.eos_token_id,\n",
    "#                 )\n",
    "#     skip_special_tokens = False if \"infilling\" in data_args.io_format else True\n",
    "#     words = tokenizer.decode(out[0].tolist(), skip_special_tokens=skip_special_tokens)\n",
    "#     print(\"generated explanation: {}\".format(words))\n",
    "#     print(\"#######\")"
   ]
  },
  {
   "cell_type": "code",
   "execution_count": 28,
   "id": "91605cfc",
   "metadata": {},
   "outputs": [],
   "source": [
    "# for da in our_wrong_data_splits['train']:\n",
    "#     print(\"*******\")\n",
    "#     print(\"question: {}\".format(da['question']))\n",
    "#     print(\"real_answer: {}\".format(da['real_answer']))\n",
    "#     print(\"answer: {}\".format(da['answer']))\n",
    "#     print(\"choices: {}\".format(da['choices']))\n",
    "#     print(\"our_explanation: {}\".format(da['our_explanation']))\n",
    "#     inp_ids = torch.tensor(da[\"input_ids\"], device=model.device).reshape(1, -1)\n",
    "#     out = model.generate(\n",
    "#                     inp_ids,\n",
    "#                     max_length=100,\n",
    "#                     pad_token_id=tokenizer.pad_token_id,\n",
    "#                     eos_token_id=tokenizer.eos_token_id,\n",
    "#                 )\n",
    "#     skip_special_tokens = False if \"infilling\" in data_args.io_format else True\n",
    "#     words = tokenizer.decode(out[0].tolist(), skip_special_tokens=skip_special_tokens)\n",
    "#     print(\"generated explanation: {}\".format(words))\n",
    "#     print(\"#######\")"
   ]
  },
  {
   "cell_type": "code",
   "execution_count": 29,
   "id": "cbc3e763",
   "metadata": {},
   "outputs": [],
   "source": [
    "# import wandb\n",
    "# training_args.run_name=\"\"\n",
    "training_args.logging_steps=3\n",
    "training_args.save_steps=5\n",
    "training_args.evaluation_strategy=\"epoch\"\n",
    "training_args.num_train_epochs=25\n",
    "training_args.do_eval=True"
   ]
  },
  {
   "cell_type": "code",
   "execution_count": 30,
   "id": "317de5d7",
   "metadata": {},
   "outputs": [
    {
     "data": {
      "text/plain": [
       "TrainingArguments(\n",
       "_n_gpu=1,\n",
       "adafactor=False,\n",
       "adam_beta1=0.9,\n",
       "adam_beta2=0.999,\n",
       "adam_epsilon=1e-08,\n",
       "dataloader_drop_last=False,\n",
       "dataloader_num_workers=0,\n",
       "dataloader_pin_memory=True,\n",
       "ddp_find_unused_parameters=None,\n",
       "debug=[],\n",
       "deepspeed=None,\n",
       "disable_tqdm=False,\n",
       "do_eval=True,\n",
       "do_predict=False,\n",
       "do_train=True,\n",
       "eval_accumulation_steps=None,\n",
       "eval_steps=None,\n",
       "evaluation_strategy=epoch,\n",
       "fp16=False,\n",
       "fp16_backend=auto,\n",
       "fp16_full_eval=False,\n",
       "fp16_opt_level=O1,\n",
       "gradient_accumulation_steps=1,\n",
       "greater_is_better=None,\n",
       "group_by_length=False,\n",
       "ignore_data_skip=False,\n",
       "label_names=None,\n",
       "label_smoothing_factor=0.0,\n",
       "learning_rate=5e-05,\n",
       "length_column_name=length,\n",
       "load_best_model_at_end=False,\n",
       "local_rank=-1,\n",
       "log_level=-1,\n",
       "log_level_replica=-1,\n",
       "log_on_each_node=True,\n",
       "logging_dir=./cos_e_output_t5_large/011323_012322,\n",
       "logging_first_step=False,\n",
       "logging_steps=3,\n",
       "logging_strategy=IntervalStrategy.STEPS,\n",
       "lr_scheduler_type=SchedulerType.LINEAR,\n",
       "max_grad_norm=1.0,\n",
       "max_steps=-1,\n",
       "metric_for_best_model=None,\n",
       "mp_parameters=,\n",
       "no_cuda=False,\n",
       "num_train_epochs=25,\n",
       "output_dir=./cos_e_output_t5_large/011323_012322,\n",
       "overwrite_output_dir=False,\n",
       "past_index=-1,\n",
       "per_device_eval_batch_size=8,\n",
       "per_device_train_batch_size=8,\n",
       "prediction_loss_only=False,\n",
       "push_to_hub=False,\n",
       "push_to_hub_model_id=cos_e_output_t5_large,\n",
       "push_to_hub_organization=None,\n",
       "push_to_hub_token=None,\n",
       "remove_unused_columns=True,\n",
       "report_to=['tensorboard', 'wandb'],\n",
       "resume_from_checkpoint=None,\n",
       "run_name=./cos_e_output_t5_large,\n",
       "save_on_each_node=False,\n",
       "save_steps=5,\n",
       "save_strategy=IntervalStrategy.STEPS,\n",
       "save_total_limit=None,\n",
       "seed=42,\n",
       "sharded_ddp=[],\n",
       "skip_memory_metrics=True,\n",
       "tpu_metrics_debug=False,\n",
       "tpu_num_cores=None,\n",
       "use_legacy_prediction_loop=False,\n",
       "warmup_ratio=0.0,\n",
       "warmup_steps=0,\n",
       "weight_decay=0.0,\n",
       ")"
      ]
     },
     "execution_count": 30,
     "metadata": {},
     "output_type": "execute_result"
    }
   ],
   "source": [
    "training_args"
   ]
  },
  {
   "cell_type": "code",
   "execution_count": 31,
   "id": "de79fb60",
   "metadata": {},
   "outputs": [
    {
     "data": {
      "text/plain": [
       "TrainingArguments(\n",
       "_n_gpu=1,\n",
       "adafactor=False,\n",
       "adam_beta1=0.9,\n",
       "adam_beta2=0.999,\n",
       "adam_epsilon=1e-08,\n",
       "dataloader_drop_last=False,\n",
       "dataloader_num_workers=0,\n",
       "dataloader_pin_memory=True,\n",
       "ddp_find_unused_parameters=None,\n",
       "debug=[],\n",
       "deepspeed=None,\n",
       "disable_tqdm=False,\n",
       "do_eval=True,\n",
       "do_predict=False,\n",
       "do_train=True,\n",
       "eval_accumulation_steps=None,\n",
       "eval_steps=None,\n",
       "evaluation_strategy=epoch,\n",
       "fp16=False,\n",
       "fp16_backend=auto,\n",
       "fp16_full_eval=False,\n",
       "fp16_opt_level=O1,\n",
       "gradient_accumulation_steps=1,\n",
       "greater_is_better=None,\n",
       "group_by_length=False,\n",
       "ignore_data_skip=False,\n",
       "label_names=None,\n",
       "label_smoothing_factor=0.0,\n",
       "learning_rate=5e-05,\n",
       "length_column_name=length,\n",
       "load_best_model_at_end=False,\n",
       "local_rank=-1,\n",
       "log_level=-1,\n",
       "log_level_replica=-1,\n",
       "log_on_each_node=True,\n",
       "logging_dir=./cos_e_output_t5_large/011323_012322,\n",
       "logging_first_step=False,\n",
       "logging_steps=3,\n",
       "logging_strategy=IntervalStrategy.STEPS,\n",
       "lr_scheduler_type=SchedulerType.LINEAR,\n",
       "max_grad_norm=1.0,\n",
       "max_steps=-1,\n",
       "metric_for_best_model=None,\n",
       "mp_parameters=,\n",
       "no_cuda=False,\n",
       "num_train_epochs=25,\n",
       "output_dir=./cos_e_output_t5_large/011323_012322,\n",
       "overwrite_output_dir=False,\n",
       "past_index=-1,\n",
       "per_device_eval_batch_size=8,\n",
       "per_device_train_batch_size=8,\n",
       "prediction_loss_only=False,\n",
       "push_to_hub=False,\n",
       "push_to_hub_model_id=cos_e_output_t5_large,\n",
       "push_to_hub_organization=None,\n",
       "push_to_hub_token=None,\n",
       "remove_unused_columns=True,\n",
       "report_to=['tensorboard', 'wandb'],\n",
       "resume_from_checkpoint=None,\n",
       "run_name=./cos_e_output_t5_large,\n",
       "save_on_each_node=False,\n",
       "save_steps=5,\n",
       "save_strategy=IntervalStrategy.STEPS,\n",
       "save_total_limit=None,\n",
       "seed=42,\n",
       "sharded_ddp=[],\n",
       "skip_memory_metrics=True,\n",
       "tpu_metrics_debug=False,\n",
       "tpu_num_cores=None,\n",
       "use_legacy_prediction_loop=False,\n",
       "warmup_ratio=0.0,\n",
       "warmup_steps=0,\n",
       "weight_decay=0.0,\n",
       ")"
      ]
     },
     "execution_count": 31,
     "metadata": {},
     "output_type": "execute_result"
    }
   ],
   "source": [
    "training_args.per_device_eval_batch_size=8\n",
    "training_args.per_device_train_batch_size=8\n",
    "training_args"
   ]
  },
  {
   "cell_type": "code",
   "execution_count": 32,
   "id": "e80480ec",
   "metadata": {},
   "outputs": [],
   "source": [
    "# data_splits = {'train': None, 'validation': None, 'test': None}\n",
    "# original_data_splits = {'train': None, 'validation': None, 'test': None}  \n",
    "# data_args.io_format=\"t5_fewshot_infilling_with_choices\"\n",
    "# # Data loading from huggingface's datasets\n",
    "# if data_args.task_name in {\"cos_e\", \"esnli\"}:\n",
    "#     version_arg = None\n",
    "#     if data_args.task_name == \"cos_e\":\n",
    "#         assert data_args.version_name in {\"v1.11\", \"v1.0\"}\n",
    "#         version_arg = data_args.version_name\n",
    "\n",
    "#     load_train = True\n",
    "#     if (not training_args.do_train\n",
    "#         and not training_args.do_eval\n",
    "#         and not data_args.train_predict\n",
    "#     ):\n",
    "#         # don't load training dataset\n",
    "#         dataset = {}\n",
    "#         dataset[\"train\"] = None\n",
    "#         dataset[\"validation\"] = datasets.load_dataset(\n",
    "#             data_args.task_name, version_arg, split=\"validation\"\n",
    "#         )\n",
    "#         data_splits['validation'] = dataset[\"validation\"]\n",
    "\n",
    "#         if data_args.task_name == \"esnli\":\n",
    "#             dataset[\"test\"] = datasets.load_dataset(data_args.task_name, split=\"test\")\n",
    "#             data_splits['test'] = dataset[\"test\"]\n",
    "#         load_train = False\n",
    "#     else:\n",
    "#         dataset = datasets.load_dataset(data_args.task_name, version_arg)\n",
    "\n",
    "#         if data_args.n_shots > 0: # Shots = number of training examples **per label** \n",
    "#             if data_args.task_name == 'esnli': # Construct a *balanced* random sample of the size `data_args.n_shots*len(labels)` (for train) or `data_args.fewshot_eval_size` (for eval)\n",
    "#                 for split in [\"train\", \"validation\", \"test\"]:\n",
    "#                     split_data = dataset[split]\n",
    "#                     label_subsets = []\n",
    "#                     labels = split_data.features['label'].names\n",
    "#                     sample_size = data_args.n_shots if split == \"train\" else int(data_args.fewshot_eval_size/len(labels))\n",
    "#                     if data_args.gpt3_max_eval_size is not None and split != 'train':\n",
    "#                         assert len(labels) == 3\n",
    "#                         sample_size = data_args.gpt3_max_eval_size // len(labels)\n",
    "#                     for label in labels:\n",
    "#                         # The following is a hack to only run on `neutral` labels of `esnli` to get data for human eval\n",
    "#                         # if data_args.gpt3_max_eval_size is not None and split != 'train' and label != 'neutral':\n",
    "#                         #     continue\n",
    "#                         label_int = split_data.features['label'].str2int(label)\n",
    "#                         label_set = split_data.filter(lambda example: example['label'] == label_int).shuffle() # all instances of labeled as `label`\n",
    "#                         label_subset = label_set.select(range(sample_size)) #select `sample_size` random instances labeled as `label`\n",
    "#                         label_subsets.append(label_subset)\n",
    "#                     dataset[split] = datasets.concatenate_datasets(label_subsets) #merge all label-specific instances\n",
    "#             elif data_args.task_name == 'cos_e': \n",
    "#                 for split in [\"train\", \"validation\"]: \n",
    "#                     split_data = dataset[split]\n",
    "#                     sample_size = data_args.n_shots if split == \"train\" else int(data_args.fewshot_eval_size) #Shots for QA are not label-specific, i.e., `n_shots` is the training data size\n",
    "#                     if data_args.gpt3_max_eval_size is not None and split != 'train':\n",
    "#                         sample_size = data_args.gpt3_max_eval_size\n",
    "#                     dataset[split] = split_data#.shuffle().select(range(sample_size)) # select `sample_size` random instances\n",
    "#             else: \n",
    "#                 raise ValueError('Only cos_e and esnli are supported by Huggingface datasets.')\n",
    "#     # Apply method, and format dataset to torch.Tensor outputs\n",
    "# #     fse_csqa_train_file=\"/cognitive_comp/huangyongfeng/evaluate_LM_with_rationalization/few_shot_explanations/data/acceptability_annotations/commonsenseqa_train.csv\"\n",
    "# #     fse_csqa_dev_file=\"/cognitive_comp/huangyongfeng/evaluate_LM_with_rationalization/few_shot_explanations/data/acceptability_annotations/commonsenseqa_test.csv\"\n",
    "# #     fse_csqa_train_dataset = datasets.load_dataset('csv', data_files=fse_csqa_train_file)\n",
    "# #     fse_csqa_dev_dataset = datasets.load_dataset('csv', data_files=fse_csqa_dev_file)\n",
    "# #     train_ids_list=[x['id'] for x in data_splits[\"train\"]]\n",
    "# #     dev_ids_list=[x['id'] for x in data_splits[\"validation\"]]\n",
    "# #     fse_train_ids_list=[x['Input.id'] for x in fse_csqa_train_dataset['train']]\n",
    "# #     fse_dev_ids_list=[x['Input.id'] for x in fse_csqa_dev_dataset['train']]\n",
    "# #     fse_train_indexs_list=[train_ids_list.index(id_) for id_ in fse_train_ids_list]\n",
    "# #     fse_dev_indexs_list=[dev_ids_list.index(id_) for id_ in fse_dev_ids_list]\n",
    "# #     print(len(fse_train_indexs_list), len(fse_dev_indexs_list))\n",
    "# #     # print(fse_train_indexs_list,fse_dev_indexs_list)\n",
    "# #     fse_data_splits={}\n",
    "# #     data_splits['train']=data_splits[\"train\"].select(fse_train_indexs_list)\n",
    "# #     data_splits['validation']=data_splits[\"validation\"].select(fse_train_indexs_list)\n",
    "#     for split in dataset.keys():\n",
    "#         if dataset[split] is not None:\n",
    "#             dataset[split] = dataset[split].map(\n",
    "#                 lambda x: format_instance(\n",
    "#                     x,\n",
    "#                     tokenizer,\n",
    "#                     data_args.explanation_sep,\n",
    "#                     datasource=data_args.task_name,\n",
    "#                     io_format=data_args.io_format\n",
    "#                 ),\n",
    "#                 batched=False,\n",
    "#                 load_from_cache_file=False,\n",
    "#             )\n",
    "#     data_splits[\"train\"] = deepcopy(dataset[\"train\"])\n",
    "#     data_splits[\"validation\"] = deepcopy(dataset[\"validation\"])\n",
    "#     if data_args.task_name == \"esnli\":\n",
    "#         data_splits[\"test\"] = deepcopy(dataset[\"test\"])\n",
    "\n",
    "#     original_data_splits[\"train\"] = deepcopy(dataset[\"train\"])\n",
    "#     original_data_splits[\"validation\"] = deepcopy(dataset[\"validation\"])\n",
    "#     if data_args.task_name == \"esnli\":\n",
    "#         original_data_splits[\"test\"] = deepcopy(dataset[\"test\"])"
   ]
  },
  {
   "cell_type": "code",
   "execution_count": 33,
   "id": "2f4cb867",
   "metadata": {},
   "outputs": [],
   "source": [
    "# import pandas as pd\n",
    "# # new_data_splits={'train': None, 'validation': None}\n",
    "# # new_data_splits['train']=deepcopy(dataset[\"train\"])\n",
    "# # new_data_splits['validation']=deepcopy(dataset[\"validation\"])\n",
    "# fse_csqa_train_file=\"/cognitive_comp/huangyongfeng/evaluate_LM_with_rationalization/few_shot_explanations/data/acceptability_annotations/commonsenseqa_train.csv\"\n",
    "# fse_csqa_dev_file=\"/cognitive_comp/huangyongfeng/evaluate_LM_with_rationalization/few_shot_explanations/data/acceptability_annotations/commonsenseqa_test.csv\"\n",
    "# # fse_csqa_train_dataset = datasets.load_dataset('csv', data_files=fse_csqa_train_file)\n",
    "# # fse_csqa_dev_dataset = datasets.load_dataset('csv', data_files=fse_csqa_dev_file)\n",
    "\n",
    "# train_df=pd.read_csv(fse_csqa_train_file)\n",
    "\n",
    "# dev_df=pd.read_csv(fse_csqa_dev_file)\n",
    "\n",
    "# dev_df\n"
   ]
  },
  {
   "cell_type": "code",
   "execution_count": 34,
   "id": "42739e9b",
   "metadata": {},
   "outputs": [],
   "source": [
    "# len(fse_train_ids_list),len(list(set(fse_train_ids_list)))"
   ]
  },
  {
   "cell_type": "code",
   "execution_count": 35,
   "id": "c78ea825",
   "metadata": {},
   "outputs": [],
   "source": [
    "# train_ids_list=[x['id'] for x in data_splits[\"train\"]]\n",
    "# dev_ids_list=[x['id'] for x in data_splits[\"validation\"]]\n",
    "# fse_train_ids_list=[x['Input.id'] for x in fse_csqa_train_dataset['train']]\n",
    "# fse_dev_ids_list=[x['Input.id'] for x in fse_csqa_dev_dataset['train']]\n"
   ]
  },
  {
   "cell_type": "code",
   "execution_count": 36,
   "id": "80395518",
   "metadata": {},
   "outputs": [],
   "source": [
    "# fse_train_indexs_list=[train_ids_list.index(id_) for id_ in fse_train_ids_list]\n",
    "# fse_dev_indexs_list=[dev_ids_list.index(id_) for id_ in fse_dev_ids_list]\n",
    "# print(len(fse_train_indexs_list), len(fse_dev_indexs_list))\n",
    "# # print(fse_train_indexs_list,fse_dev_indexs_list)\n",
    "# fse_data_splits={}\n",
    "# fse_data_splits['train']=data_splits[\"train\"].select(fse_train_indexs_list)\n",
    "# fse_data_splits['validation']=data_splits[\"validation\"].select(fse_train_indexs_list)"
   ]
  },
  {
   "cell_type": "code",
   "execution_count": 37,
   "id": "4d186954",
   "metadata": {},
   "outputs": [],
   "source": [
    "# fse_csqa_train_dataset['train'][0].keys()"
   ]
  },
  {
   "cell_type": "code",
   "execution_count": 38,
   "id": "66dd71d4",
   "metadata": {},
   "outputs": [],
   "source": [
    "class SequenceCollator:\n",
    "    def __init__(self, model, pad_token):\n",
    "        self.model = model\n",
    "        self.pad_token_mapping = {\n",
    "            \"labels\": -100,\n",
    "            \"attention_mask\": 0,\n",
    "            \"decoder_attention_mask\": 0,\n",
    "            \"input_ids\": pad_token,\n",
    "        }\n",
    "\n",
    "        self.columns = [\n",
    "            \"input_ids\",\n",
    "            \"attention_mask\",\n",
    "            \"labels\",\n",
    "            \"decoder_attention_mask\",\n",
    "        ]\n",
    "\n",
    "    def __call__(self, examples: List[Dict[str, InputDataClass]]) -> Dict[str, torch.Tensor]:\n",
    "        # re-format inputs for training\n",
    "        batch = {}\n",
    "        for key in examples[0].keys():\n",
    "            if key in self.columns:\n",
    "                tmp_list = []\n",
    "                for item in examples:\n",
    "                    tmp_list.append(item[key])\n",
    "\n",
    "                # pad lists to max length\n",
    "                if isinstance(tmp_list[0], list):\n",
    "                    max_length = max(map(len, tmp_list))\n",
    "                    tmp_list = [\n",
    "                        el + [self.pad_token_mapping[key]] * (max_length - len(el))\n",
    "                        for el in tmp_list\n",
    "                    ]\n",
    "\n",
    "                batch[key] = torch.tensor(tmp_list, dtype=torch.long)\n",
    "        return batch"
   ]
  },
  {
   "cell_type": "code",
   "execution_count": 39,
   "id": "f144515d",
   "metadata": {},
   "outputs": [
    {
     "name": "stderr",
     "output_type": "stream",
     "text": [
      "You are adding a <class 'transformers.integrations.TensorBoardCallback'> to the callbacks of this Trainer, but there is already one. The currentlist of callbacks is\n",
      ":DefaultFlowCallback\n",
      "TensorBoardCallback\n",
      "WandbCallback\n",
      "The following columns in the training set  don't have a corresponding argument in `T5ForConditionalGeneration.forward` and have been ignored: answer, abstractive_explanation, question, choices, id, our_explanation, question_encoding, extractive_explanation.\n",
      "***** Running training *****\n",
      "  Num examples = 96\n",
      "  Num Epochs = 25\n",
      "  Instantaneous batch size per device = 8\n",
      "  Total train batch size (w. parallel, distributed & accumulation) = 8\n",
      "  Gradient Accumulation steps = 1\n",
      "  Total optimization steps = 300\n",
      "Automatic Weights & Biases logging enabled, to disable set os.environ[\"WANDB_DISABLED\"] = \"true\"\n",
      "\u001b[34m\u001b[1mwandb\u001b[0m: Currently logged in as: \u001b[33mdengdenghuang\u001b[0m (\u001b[33mcuhk_lavilab\u001b[0m). Use \u001b[1m`wandb login --relogin`\u001b[0m to force relogin\n"
     ]
    },
    {
     "data": {
      "text/html": [
       "wandb version 0.13.8 is available!  To upgrade, please run:\n",
       " $ pip install wandb --upgrade"
      ],
      "text/plain": [
       "<IPython.core.display.HTML object>"
      ]
     },
     "metadata": {},
     "output_type": "display_data"
    },
    {
     "data": {
      "text/html": [
       "Tracking run with wandb version 0.13.5"
      ],
      "text/plain": [
       "<IPython.core.display.HTML object>"
      ]
     },
     "metadata": {},
     "output_type": "display_data"
    },
    {
     "data": {
      "text/html": [
       "Run data is saved locally in <code>/cognitive_comp/huangyongfeng/evaluate_LM_with_rationalization/scripts/wandb/run-20230113_012357-2hltxnp0</code>"
      ],
      "text/plain": [
       "<IPython.core.display.HTML object>"
      ]
     },
     "metadata": {},
     "output_type": "display_data"
    },
    {
     "data": {
      "text/html": [
       "Syncing run <strong><a href=\"https://wandb.ai/cuhk_lavilab/huggingface/runs/2hltxnp0\" target=\"_blank\">./cos_e_output_t5_large</a></strong> to <a href=\"https://wandb.ai/cuhk_lavilab/huggingface\" target=\"_blank\">Weights & Biases</a> (<a href=\"https://wandb.me/run\" target=\"_blank\">docs</a>)<br/>"
      ],
      "text/plain": [
       "<IPython.core.display.HTML object>"
      ]
     },
     "metadata": {},
     "output_type": "display_data"
    },
    {
     "data": {
      "text/html": [
       "\n",
       "    <div>\n",
       "      \n",
       "      <progress value='300' max='300' style='width:300px; height:20px; vertical-align: middle;'></progress>\n",
       "      [300/300 06:00, Epoch 25/25]\n",
       "    </div>\n",
       "    <table border=\"1\" class=\"dataframe\">\n",
       "  <thead>\n",
       "    <tr style=\"text-align: left;\">\n",
       "      <th>Step</th>\n",
       "      <th>Training Loss</th>\n",
       "      <th>Validation Loss</th>\n",
       "    </tr>\n",
       "  </thead>\n",
       "  <tbody>\n",
       "  </tbody>\n",
       "</table><p>"
      ],
      "text/plain": [
       "<IPython.core.display.HTML object>"
      ]
     },
     "metadata": {},
     "output_type": "display_data"
    },
    {
     "name": "stderr",
     "output_type": "stream",
     "text": [
      "Saving model checkpoint to ./cos_e_output_t5_large/011323_012322/checkpoint-5\n",
      "Configuration saved in ./cos_e_output_t5_large/011323_012322/checkpoint-5/config.json\n",
      "Model weights saved in ./cos_e_output_t5_large/011323_012322/checkpoint-5/pytorch_model.bin\n",
      "Saving model checkpoint to ./cos_e_output_t5_large/011323_012322/checkpoint-10\n",
      "Configuration saved in ./cos_e_output_t5_large/011323_012322/checkpoint-10/config.json\n",
      "Model weights saved in ./cos_e_output_t5_large/011323_012322/checkpoint-10/pytorch_model.bin\n",
      "Saving model checkpoint to ./cos_e_output_t5_large/011323_012322/checkpoint-15\n",
      "Configuration saved in ./cos_e_output_t5_large/011323_012322/checkpoint-15/config.json\n",
      "Model weights saved in ./cos_e_output_t5_large/011323_012322/checkpoint-15/pytorch_model.bin\n",
      "Saving model checkpoint to ./cos_e_output_t5_large/011323_012322/checkpoint-20\n",
      "Configuration saved in ./cos_e_output_t5_large/011323_012322/checkpoint-20/config.json\n",
      "Model weights saved in ./cos_e_output_t5_large/011323_012322/checkpoint-20/pytorch_model.bin\n",
      "Saving model checkpoint to ./cos_e_output_t5_large/011323_012322/checkpoint-25\n",
      "Configuration saved in ./cos_e_output_t5_large/011323_012322/checkpoint-25/config.json\n",
      "Model weights saved in ./cos_e_output_t5_large/011323_012322/checkpoint-25/pytorch_model.bin\n",
      "Saving model checkpoint to ./cos_e_output_t5_large/011323_012322/checkpoint-30\n",
      "Configuration saved in ./cos_e_output_t5_large/011323_012322/checkpoint-30/config.json\n",
      "Model weights saved in ./cos_e_output_t5_large/011323_012322/checkpoint-30/pytorch_model.bin\n",
      "Saving model checkpoint to ./cos_e_output_t5_large/011323_012322/checkpoint-35\n",
      "Configuration saved in ./cos_e_output_t5_large/011323_012322/checkpoint-35/config.json\n",
      "Model weights saved in ./cos_e_output_t5_large/011323_012322/checkpoint-35/pytorch_model.bin\n",
      "Saving model checkpoint to ./cos_e_output_t5_large/011323_012322/checkpoint-40\n",
      "Configuration saved in ./cos_e_output_t5_large/011323_012322/checkpoint-40/config.json\n",
      "Model weights saved in ./cos_e_output_t5_large/011323_012322/checkpoint-40/pytorch_model.bin\n",
      "Saving model checkpoint to ./cos_e_output_t5_large/011323_012322/checkpoint-45\n",
      "Configuration saved in ./cos_e_output_t5_large/011323_012322/checkpoint-45/config.json\n",
      "Model weights saved in ./cos_e_output_t5_large/011323_012322/checkpoint-45/pytorch_model.bin\n",
      "Saving model checkpoint to ./cos_e_output_t5_large/011323_012322/checkpoint-50\n",
      "Configuration saved in ./cos_e_output_t5_large/011323_012322/checkpoint-50/config.json\n",
      "Model weights saved in ./cos_e_output_t5_large/011323_012322/checkpoint-50/pytorch_model.bin\n",
      "Saving model checkpoint to ./cos_e_output_t5_large/011323_012322/checkpoint-55\n",
      "Configuration saved in ./cos_e_output_t5_large/011323_012322/checkpoint-55/config.json\n",
      "Model weights saved in ./cos_e_output_t5_large/011323_012322/checkpoint-55/pytorch_model.bin\n",
      "Saving model checkpoint to ./cos_e_output_t5_large/011323_012322/checkpoint-60\n",
      "Configuration saved in ./cos_e_output_t5_large/011323_012322/checkpoint-60/config.json\n",
      "Model weights saved in ./cos_e_output_t5_large/011323_012322/checkpoint-60/pytorch_model.bin\n",
      "Saving model checkpoint to ./cos_e_output_t5_large/011323_012322/checkpoint-65\n",
      "Configuration saved in ./cos_e_output_t5_large/011323_012322/checkpoint-65/config.json\n",
      "Model weights saved in ./cos_e_output_t5_large/011323_012322/checkpoint-65/pytorch_model.bin\n",
      "Saving model checkpoint to ./cos_e_output_t5_large/011323_012322/checkpoint-70\n",
      "Configuration saved in ./cos_e_output_t5_large/011323_012322/checkpoint-70/config.json\n",
      "Model weights saved in ./cos_e_output_t5_large/011323_012322/checkpoint-70/pytorch_model.bin\n",
      "Saving model checkpoint to ./cos_e_output_t5_large/011323_012322/checkpoint-75\n",
      "Configuration saved in ./cos_e_output_t5_large/011323_012322/checkpoint-75/config.json\n",
      "Model weights saved in ./cos_e_output_t5_large/011323_012322/checkpoint-75/pytorch_model.bin\n",
      "Saving model checkpoint to ./cos_e_output_t5_large/011323_012322/checkpoint-80\n",
      "Configuration saved in ./cos_e_output_t5_large/011323_012322/checkpoint-80/config.json\n",
      "Model weights saved in ./cos_e_output_t5_large/011323_012322/checkpoint-80/pytorch_model.bin\n",
      "Saving model checkpoint to ./cos_e_output_t5_large/011323_012322/checkpoint-85\n",
      "Configuration saved in ./cos_e_output_t5_large/011323_012322/checkpoint-85/config.json\n",
      "Model weights saved in ./cos_e_output_t5_large/011323_012322/checkpoint-85/pytorch_model.bin\n",
      "Saving model checkpoint to ./cos_e_output_t5_large/011323_012322/checkpoint-90\n",
      "Configuration saved in ./cos_e_output_t5_large/011323_012322/checkpoint-90/config.json\n",
      "Model weights saved in ./cos_e_output_t5_large/011323_012322/checkpoint-90/pytorch_model.bin\n",
      "Saving model checkpoint to ./cos_e_output_t5_large/011323_012322/checkpoint-95\n",
      "Configuration saved in ./cos_e_output_t5_large/011323_012322/checkpoint-95/config.json\n",
      "Model weights saved in ./cos_e_output_t5_large/011323_012322/checkpoint-95/pytorch_model.bin\n",
      "Saving model checkpoint to ./cos_e_output_t5_large/011323_012322/checkpoint-100\n",
      "Configuration saved in ./cos_e_output_t5_large/011323_012322/checkpoint-100/config.json\n",
      "Model weights saved in ./cos_e_output_t5_large/011323_012322/checkpoint-100/pytorch_model.bin\n",
      "Saving model checkpoint to ./cos_e_output_t5_large/011323_012322/checkpoint-105\n",
      "Configuration saved in ./cos_e_output_t5_large/011323_012322/checkpoint-105/config.json\n",
      "Model weights saved in ./cos_e_output_t5_large/011323_012322/checkpoint-105/pytorch_model.bin\n",
      "Saving model checkpoint to ./cos_e_output_t5_large/011323_012322/checkpoint-110\n",
      "Configuration saved in ./cos_e_output_t5_large/011323_012322/checkpoint-110/config.json\n",
      "Model weights saved in ./cos_e_output_t5_large/011323_012322/checkpoint-110/pytorch_model.bin\n",
      "Saving model checkpoint to ./cos_e_output_t5_large/011323_012322/checkpoint-115\n",
      "Configuration saved in ./cos_e_output_t5_large/011323_012322/checkpoint-115/config.json\n",
      "Model weights saved in ./cos_e_output_t5_large/011323_012322/checkpoint-115/pytorch_model.bin\n",
      "Saving model checkpoint to ./cos_e_output_t5_large/011323_012322/checkpoint-120\n",
      "Configuration saved in ./cos_e_output_t5_large/011323_012322/checkpoint-120/config.json\n",
      "Model weights saved in ./cos_e_output_t5_large/011323_012322/checkpoint-120/pytorch_model.bin\n",
      "Saving model checkpoint to ./cos_e_output_t5_large/011323_012322/checkpoint-125\n",
      "Configuration saved in ./cos_e_output_t5_large/011323_012322/checkpoint-125/config.json\n",
      "Model weights saved in ./cos_e_output_t5_large/011323_012322/checkpoint-125/pytorch_model.bin\n",
      "Saving model checkpoint to ./cos_e_output_t5_large/011323_012322/checkpoint-130\n",
      "Configuration saved in ./cos_e_output_t5_large/011323_012322/checkpoint-130/config.json\n",
      "Model weights saved in ./cos_e_output_t5_large/011323_012322/checkpoint-130/pytorch_model.bin\n",
      "Saving model checkpoint to ./cos_e_output_t5_large/011323_012322/checkpoint-135\n",
      "Configuration saved in ./cos_e_output_t5_large/011323_012322/checkpoint-135/config.json\n",
      "Model weights saved in ./cos_e_output_t5_large/011323_012322/checkpoint-135/pytorch_model.bin\n",
      "Saving model checkpoint to ./cos_e_output_t5_large/011323_012322/checkpoint-140\n",
      "Configuration saved in ./cos_e_output_t5_large/011323_012322/checkpoint-140/config.json\n",
      "Model weights saved in ./cos_e_output_t5_large/011323_012322/checkpoint-140/pytorch_model.bin\n",
      "Saving model checkpoint to ./cos_e_output_t5_large/011323_012322/checkpoint-145\n",
      "Configuration saved in ./cos_e_output_t5_large/011323_012322/checkpoint-145/config.json\n",
      "Model weights saved in ./cos_e_output_t5_large/011323_012322/checkpoint-145/pytorch_model.bin\n",
      "Saving model checkpoint to ./cos_e_output_t5_large/011323_012322/checkpoint-150\n",
      "Configuration saved in ./cos_e_output_t5_large/011323_012322/checkpoint-150/config.json\n",
      "Model weights saved in ./cos_e_output_t5_large/011323_012322/checkpoint-150/pytorch_model.bin\n",
      "Saving model checkpoint to ./cos_e_output_t5_large/011323_012322/checkpoint-155\n",
      "Configuration saved in ./cos_e_output_t5_large/011323_012322/checkpoint-155/config.json\n",
      "Model weights saved in ./cos_e_output_t5_large/011323_012322/checkpoint-155/pytorch_model.bin\n",
      "Saving model checkpoint to ./cos_e_output_t5_large/011323_012322/checkpoint-160\n",
      "Configuration saved in ./cos_e_output_t5_large/011323_012322/checkpoint-160/config.json\n"
     ]
    },
    {
     "name": "stderr",
     "output_type": "stream",
     "text": [
      "Model weights saved in ./cos_e_output_t5_large/011323_012322/checkpoint-160/pytorch_model.bin\n",
      "Saving model checkpoint to ./cos_e_output_t5_large/011323_012322/checkpoint-165\n",
      "Configuration saved in ./cos_e_output_t5_large/011323_012322/checkpoint-165/config.json\n",
      "Model weights saved in ./cos_e_output_t5_large/011323_012322/checkpoint-165/pytorch_model.bin\n",
      "Saving model checkpoint to ./cos_e_output_t5_large/011323_012322/checkpoint-170\n",
      "Configuration saved in ./cos_e_output_t5_large/011323_012322/checkpoint-170/config.json\n",
      "Model weights saved in ./cos_e_output_t5_large/011323_012322/checkpoint-170/pytorch_model.bin\n",
      "Saving model checkpoint to ./cos_e_output_t5_large/011323_012322/checkpoint-175\n",
      "Configuration saved in ./cos_e_output_t5_large/011323_012322/checkpoint-175/config.json\n",
      "Model weights saved in ./cos_e_output_t5_large/011323_012322/checkpoint-175/pytorch_model.bin\n",
      "Saving model checkpoint to ./cos_e_output_t5_large/011323_012322/checkpoint-180\n",
      "Configuration saved in ./cos_e_output_t5_large/011323_012322/checkpoint-180/config.json\n",
      "Model weights saved in ./cos_e_output_t5_large/011323_012322/checkpoint-180/pytorch_model.bin\n",
      "Saving model checkpoint to ./cos_e_output_t5_large/011323_012322/checkpoint-185\n",
      "Configuration saved in ./cos_e_output_t5_large/011323_012322/checkpoint-185/config.json\n",
      "Model weights saved in ./cos_e_output_t5_large/011323_012322/checkpoint-185/pytorch_model.bin\n",
      "Saving model checkpoint to ./cos_e_output_t5_large/011323_012322/checkpoint-190\n",
      "Configuration saved in ./cos_e_output_t5_large/011323_012322/checkpoint-190/config.json\n",
      "Model weights saved in ./cos_e_output_t5_large/011323_012322/checkpoint-190/pytorch_model.bin\n",
      "Saving model checkpoint to ./cos_e_output_t5_large/011323_012322/checkpoint-195\n",
      "Configuration saved in ./cos_e_output_t5_large/011323_012322/checkpoint-195/config.json\n",
      "Model weights saved in ./cos_e_output_t5_large/011323_012322/checkpoint-195/pytorch_model.bin\n",
      "Saving model checkpoint to ./cos_e_output_t5_large/011323_012322/checkpoint-200\n",
      "Configuration saved in ./cos_e_output_t5_large/011323_012322/checkpoint-200/config.json\n",
      "Model weights saved in ./cos_e_output_t5_large/011323_012322/checkpoint-200/pytorch_model.bin\n",
      "Saving model checkpoint to ./cos_e_output_t5_large/011323_012322/checkpoint-205\n",
      "Configuration saved in ./cos_e_output_t5_large/011323_012322/checkpoint-205/config.json\n",
      "Model weights saved in ./cos_e_output_t5_large/011323_012322/checkpoint-205/pytorch_model.bin\n",
      "Saving model checkpoint to ./cos_e_output_t5_large/011323_012322/checkpoint-210\n",
      "Configuration saved in ./cos_e_output_t5_large/011323_012322/checkpoint-210/config.json\n",
      "Model weights saved in ./cos_e_output_t5_large/011323_012322/checkpoint-210/pytorch_model.bin\n",
      "Saving model checkpoint to ./cos_e_output_t5_large/011323_012322/checkpoint-215\n",
      "Configuration saved in ./cos_e_output_t5_large/011323_012322/checkpoint-215/config.json\n",
      "Model weights saved in ./cos_e_output_t5_large/011323_012322/checkpoint-215/pytorch_model.bin\n",
      "Saving model checkpoint to ./cos_e_output_t5_large/011323_012322/checkpoint-220\n",
      "Configuration saved in ./cos_e_output_t5_large/011323_012322/checkpoint-220/config.json\n",
      "Model weights saved in ./cos_e_output_t5_large/011323_012322/checkpoint-220/pytorch_model.bin\n",
      "Saving model checkpoint to ./cos_e_output_t5_large/011323_012322/checkpoint-225\n",
      "Configuration saved in ./cos_e_output_t5_large/011323_012322/checkpoint-225/config.json\n",
      "Model weights saved in ./cos_e_output_t5_large/011323_012322/checkpoint-225/pytorch_model.bin\n",
      "Saving model checkpoint to ./cos_e_output_t5_large/011323_012322/checkpoint-230\n",
      "Configuration saved in ./cos_e_output_t5_large/011323_012322/checkpoint-230/config.json\n",
      "Model weights saved in ./cos_e_output_t5_large/011323_012322/checkpoint-230/pytorch_model.bin\n",
      "Saving model checkpoint to ./cos_e_output_t5_large/011323_012322/checkpoint-235\n",
      "Configuration saved in ./cos_e_output_t5_large/011323_012322/checkpoint-235/config.json\n",
      "Model weights saved in ./cos_e_output_t5_large/011323_012322/checkpoint-235/pytorch_model.bin\n",
      "Saving model checkpoint to ./cos_e_output_t5_large/011323_012322/checkpoint-240\n",
      "Configuration saved in ./cos_e_output_t5_large/011323_012322/checkpoint-240/config.json\n",
      "Model weights saved in ./cos_e_output_t5_large/011323_012322/checkpoint-240/pytorch_model.bin\n",
      "Saving model checkpoint to ./cos_e_output_t5_large/011323_012322/checkpoint-245\n",
      "Configuration saved in ./cos_e_output_t5_large/011323_012322/checkpoint-245/config.json\n",
      "Model weights saved in ./cos_e_output_t5_large/011323_012322/checkpoint-245/pytorch_model.bin\n",
      "Saving model checkpoint to ./cos_e_output_t5_large/011323_012322/checkpoint-250\n",
      "Configuration saved in ./cos_e_output_t5_large/011323_012322/checkpoint-250/config.json\n",
      "Model weights saved in ./cos_e_output_t5_large/011323_012322/checkpoint-250/pytorch_model.bin\n",
      "Saving model checkpoint to ./cos_e_output_t5_large/011323_012322/checkpoint-255\n",
      "Configuration saved in ./cos_e_output_t5_large/011323_012322/checkpoint-255/config.json\n",
      "Model weights saved in ./cos_e_output_t5_large/011323_012322/checkpoint-255/pytorch_model.bin\n",
      "Saving model checkpoint to ./cos_e_output_t5_large/011323_012322/checkpoint-260\n",
      "Configuration saved in ./cos_e_output_t5_large/011323_012322/checkpoint-260/config.json\n",
      "Model weights saved in ./cos_e_output_t5_large/011323_012322/checkpoint-260/pytorch_model.bin\n",
      "Saving model checkpoint to ./cos_e_output_t5_large/011323_012322/checkpoint-265\n",
      "Configuration saved in ./cos_e_output_t5_large/011323_012322/checkpoint-265/config.json\n",
      "Model weights saved in ./cos_e_output_t5_large/011323_012322/checkpoint-265/pytorch_model.bin\n",
      "Saving model checkpoint to ./cos_e_output_t5_large/011323_012322/checkpoint-270\n",
      "Configuration saved in ./cos_e_output_t5_large/011323_012322/checkpoint-270/config.json\n",
      "Model weights saved in ./cos_e_output_t5_large/011323_012322/checkpoint-270/pytorch_model.bin\n",
      "Saving model checkpoint to ./cos_e_output_t5_large/011323_012322/checkpoint-275\n",
      "Configuration saved in ./cos_e_output_t5_large/011323_012322/checkpoint-275/config.json\n",
      "Model weights saved in ./cos_e_output_t5_large/011323_012322/checkpoint-275/pytorch_model.bin\n",
      "Saving model checkpoint to ./cos_e_output_t5_large/011323_012322/checkpoint-280\n",
      "Configuration saved in ./cos_e_output_t5_large/011323_012322/checkpoint-280/config.json\n",
      "Model weights saved in ./cos_e_output_t5_large/011323_012322/checkpoint-280/pytorch_model.bin\n",
      "Saving model checkpoint to ./cos_e_output_t5_large/011323_012322/checkpoint-285\n",
      "Configuration saved in ./cos_e_output_t5_large/011323_012322/checkpoint-285/config.json\n",
      "Model weights saved in ./cos_e_output_t5_large/011323_012322/checkpoint-285/pytorch_model.bin\n",
      "Saving model checkpoint to ./cos_e_output_t5_large/011323_012322/checkpoint-290\n",
      "Configuration saved in ./cos_e_output_t5_large/011323_012322/checkpoint-290/config.json\n",
      "Model weights saved in ./cos_e_output_t5_large/011323_012322/checkpoint-290/pytorch_model.bin\n",
      "Saving model checkpoint to ./cos_e_output_t5_large/011323_012322/checkpoint-295\n",
      "Configuration saved in ./cos_e_output_t5_large/011323_012322/checkpoint-295/config.json\n",
      "Model weights saved in ./cos_e_output_t5_large/011323_012322/checkpoint-295/pytorch_model.bin\n",
      "Saving model checkpoint to ./cos_e_output_t5_large/011323_012322/checkpoint-300\n",
      "Configuration saved in ./cos_e_output_t5_large/011323_012322/checkpoint-300/config.json\n",
      "Model weights saved in ./cos_e_output_t5_large/011323_012322/checkpoint-300/pytorch_model.bin\n",
      "\n",
      "\n",
      "Training completed. Do not forget to share your model on huggingface.co/models =)\n",
      "\n",
      "\n"
     ]
    }
   ],
   "source": [
    "# os.environ[\"WANDB_DISABLED\"] = \"True\"\n",
    "if data_args.generations_filepath is None:\n",
    "    callbacks = [TensorBoardCallback()]\n",
    "    if data_args.early_stopping_patience > 0:\n",
    "        callbacks.append(EarlyStoppingCallback(early_stopping_patience=data_args.early_stopping_patience))\n",
    "        training_args.load_best_model_at_end = True\n",
    "    else:\n",
    "        training_args.load_best_model_at_end = False  # use the last model state\n",
    "    training_args.metric_for_best_model = 'eval_loss'\n",
    "    training_args.greater_is_better = False\n",
    "    if training_args.eval_steps is None:\n",
    "        training_args.evaluation_strategy = EvaluationStrategy.EPOCH\n",
    "    else:\n",
    "        training_args.evaluation_strategy = EvaluationStrategy.STEPS\n",
    "\n",
    "    trainer = Trainer(\n",
    "        model=model,\n",
    "        args=training_args,\n",
    "        train_dataset=our_data_splits['train'],\n",
    "        eval_dataset=our_data_splits['dev'],\n",
    "        data_collator=SequenceCollator(\n",
    "            model=model_class, pad_token=tokenizer.pad_token_id\n",
    "        ),\n",
    "        callbacks=callbacks,\n",
    "    )\n",
    "\n",
    "# Training. Don't train if it is use_gpt3\n",
    "if training_args.do_train and not model_args.use_gpt3:\n",
    "    start_time = time.time()\n",
    "    trainer.train()\n",
    "    train_time = time.time() - start_time\n",
    "    model = trainer.model\n",
    "#     wandb.finish()\n",
    "else:\n",
    "    start_time = time.time()\n",
    "    train_time = time.time() - start_time"
   ]
  },
  {
   "cell_type": "code",
   "execution_count": 40,
   "id": "ade3c632",
   "metadata": {},
   "outputs": [],
   "source": [
    "# print(our_data_splits['dev'][0]['our_explanation'])\n",
    "# inp_ids=torch.tensor(our_data_splits['dev'][0][\"input_ids\"], device=model.device).reshape(1, -1)\n",
    "# out = model.generate(\n",
    "#                     inp_ids,\n",
    "#                     max_length=100,\n",
    "#                     pad_token_id=tokenizer.pad_token_id,\n",
    "#                     eos_token_id=tokenizer.eos_token_id,\n",
    "#                 )\n",
    "# skip_special_tokens = False if \"infilling\" in data_args.io_format else True\n",
    "# words = tokenizer.decode(out[0].tolist(), skip_special_tokens=skip_special_tokens)\n",
    "# print(words)"
   ]
  },
  {
   "cell_type": "code",
   "execution_count": 41,
   "id": "b88935f8",
   "metadata": {},
   "outputs": [],
   "source": [
    "# len(our_data_splits['dev']),len(our_data_splits['train'])"
   ]
  },
  {
   "cell_type": "code",
   "execution_count": 42,
   "id": "8eda472b",
   "metadata": {},
   "outputs": [],
   "source": [
    "# our_data_splits['dev']"
   ]
  },
  {
   "cell_type": "code",
   "execution_count": 43,
   "id": "77c15190",
   "metadata": {},
   "outputs": [],
   "source": [
    "# for da in our_data_splits['train']:\n",
    "#     print(\"*******\")\n",
    "#     print(\"question: {}\".format(da['question']))\n",
    "#     print(\"answer: {}\".format(da['answer']))\n",
    "#     print(\"choices: {}\".format(da['choices']))\n",
    "#     print(\"our_explanation: {}\".format(da['our_explanation']))\n",
    "#     inp_ids = torch.tensor(da[\"input_ids\"], device=model.device).reshape(1, -1)\n",
    "#     out = model.generate(\n",
    "#                     inp_ids,\n",
    "#                     max_length=100,\n",
    "#                     pad_token_id=tokenizer.pad_token_id,\n",
    "#                     eos_token_id=tokenizer.eos_token_id,\n",
    "#                 )\n",
    "#     skip_special_tokens = False if \"infilling\" in data_args.io_format else True\n",
    "#     words = tokenizer.decode(out[0].tolist(), skip_special_tokens=skip_special_tokens)\n",
    "#     print(\"generated explanation: {}\".format(words))\n",
    "#     print(\"#######\")"
   ]
  },
  {
   "cell_type": "code",
   "execution_count": 44,
   "id": "2ca6cbe4",
   "metadata": {},
   "outputs": [],
   "source": [
    "# for da in our_data_splits['dev']:\n",
    "#     print(\"*******\")\n",
    "#     print(\"question: {}\".format(da['question']))\n",
    "#     print(\"answer: {}\".format(da['answer']))\n",
    "#     print(\"choices: {}\".format(da['choices']))\n",
    "#     print(\"our_explanation: {}\".format(da['our_explanation']))\n",
    "#     inp_ids = torch.tensor(da[\"input_ids\"], device=model.device).reshape(1, -1)\n",
    "#     out = model.generate(\n",
    "#                     inp_ids,\n",
    "#                     max_length=100,\n",
    "#                     pad_token_id=tokenizer.pad_token_id,\n",
    "#                     eos_token_id=tokenizer.eos_token_id,\n",
    "#                 )\n",
    "#     skip_special_tokens = False if \"infilling\" in data_args.io_format else True\n",
    "#     words = tokenizer.decode(out[0].tolist(), skip_special_tokens=skip_special_tokens)\n",
    "#     print(\"generated explanation: {}\".format(words))\n",
    "#     print(\"#######\")"
   ]
  },
  {
   "cell_type": "code",
   "execution_count": 45,
   "id": "69977540",
   "metadata": {},
   "outputs": [],
   "source": [
    "# good_model = T5ForConditionalGeneration.from_pretrained(\"./cos_e_output_t5_3b/112022_235539/checkpoint-30\")"
   ]
  },
  {
   "cell_type": "code",
   "execution_count": 46,
   "id": "62fca4b8",
   "metadata": {},
   "outputs": [],
   "source": [
    "# for da in our_data_splits['dev']:\n",
    "#     print(\"*******\")\n",
    "#     print(\"question: {}\".format(da['question']))\n",
    "#     print(\"answer: {}\".format(da['answer']))\n",
    "#     print(\"choices: {}\".format(da['choices']))\n",
    "#     print(\"our_explanation: {}\".format(da['our_explanation']))\n",
    "#     inp_ids = torch.tensor(da[\"input_ids\"], device=model.device).reshape(1, -1)\n",
    "#     out = good_model.generate(\n",
    "#                     inp_ids,\n",
    "#                     max_length=100,\n",
    "#                     pad_token_id=tokenizer.pad_token_id,\n",
    "#                     eos_token_id=tokenizer.eos_token_id,\n",
    "#                 )\n",
    "#     skip_special_tokens = False if \"infilling\" in data_args.io_format else True\n",
    "#     words = tokenizer.decode(out[0].tolist(), skip_special_tokens=skip_special_tokens)\n",
    "#     print(\"generated explanation: {}\".format(words))\n",
    "#     print(\"#######\")"
   ]
  },
  {
   "cell_type": "code",
   "execution_count": 47,
   "id": "3a7de102",
   "metadata": {},
   "outputs": [],
   "source": [
    "# train_output = trainer.evaluate(our_data_splits['train'].select([0,1,2,3,4]))\n",
    "# train_output"
   ]
  },
  {
   "cell_type": "code",
   "execution_count": 48,
   "id": "f43528ca",
   "metadata": {},
   "outputs": [],
   "source": [
    "# results = {}\n",
    "# if training_args.do_eval:\n",
    "#     start_time = time.time()\n",
    "#     logger.info(\"*** Evaluate on train set***\")\n",
    "#     logger.info(len(data_splits['train']))\n",
    "#     train_output = trainer.evaluate(our_data_splits['train'])\n",
    "#     perplexity = math.exp(train_output[\"eval_loss\"])\n",
    "#     results[\"perplexity_train\"] = perplexity\n",
    "\n",
    "#     # repeat\n",
    "#     logger.info(\"*** Evaluate on dev set***\")\n",
    "#     logger.info(len(data_splits['validation']))\n",
    "#     eval_output = trainer.evaluate(data_splits['validation'])\n",
    "#     perplexity = math.exp(eval_output[\"eval_loss\"])\n",
    "#     results[\"perplexity_validation\"] = perplexity"
   ]
  },
  {
   "cell_type": "markdown",
   "id": "3d2d2ec9",
   "metadata": {},
   "source": [
    "# Rationale Discriminator"
   ]
  },
  {
   "cell_type": "markdown",
   "id": "bd5eeaa4",
   "metadata": {},
   "source": [
    "## Construction of generated rationale and accepted rationale pairs\n"
   ]
  },
  {
   "cell_type": "code",
   "execution_count": 49,
   "id": "e7f1c257",
   "metadata": {},
   "outputs": [
    {
     "data": {
      "text/plain": [
       "250"
      ]
     },
     "execution_count": 49,
     "metadata": {},
     "output_type": "execute_result"
    }
   ],
   "source": [
    "len(fse_csqa_dev_data_dict)"
   ]
  },
  {
   "cell_type": "code",
   "execution_count": 50,
   "id": "c7bcb573",
   "metadata": {},
   "outputs": [
    {
     "name": "stderr",
     "output_type": "stream",
     "text": [
      "\r",
      "  0%|                                                                                                                                                                               | 0/986 [00:00<?, ?it/s]"
     ]
    },
    {
     "name": "stdout",
     "output_type": "stream",
     "text": [
      "*******\n",
      "question: Where can you likely buy many poems?\n",
      "answer: book store\n",
      "choices: ['book of poetry', 'literature book', 'book store', 'poetry book', 'bookshelf']\n",
      "common expl list: ['A bookstore sells a variety of books, including poetry books; chains of bookstores sometimes specialize in categories such as poetry or literature.', 'A book store is a place where you can buy books, including poetry books.']\n"
     ]
    },
    {
     "name": "stderr",
     "output_type": "stream",
     "text": [
      "\r",
      "  0%|▏                                                                                                                                                                    | 1/986 [00:28<7:55:53, 28.99s/it]"
     ]
    },
    {
     "name": "stdout",
     "output_type": "stream",
     "text": [
      "generated explanation: <pad> <extra_id_0> A book store is a place where you can likely buy many poems. A book store is a place where you can find a variety of poems. They are often available in a variety of styles and styles. They can also be found in magazines, online, and in magazines. They often have a variety of poems, and many poems are available in a variety of genres. They also have a variety of styles and styles, and many of them are written in a variety of styles and styles. They may be accompanied by a variety of styles and styles, and many poems, and many of them can be found in books, magazines, and other literary works. Books are often the best place to buy poems, and they often contain many poems. They may also have a great place to buy many poems from book stores. They may also have a good place to buy poems that are accompanied by a poem. They may also have a good place to buy many poems. Books are a great place to buy many of them. Bookstores are often a great place to buy poems that are written in a book store. Bookstores are a great place to buy many poems that are written in a variety of styles and styles.<extra_id_1> </s>\n",
      "########\n",
      "*******\n",
      "question: What could bringing suit do to a rivalry?\n",
      "answer: aggravation\n",
      "choices: ['going to court', 'randomness', 'anger', 'aggravation', 'tensions']\n",
      "common expl list: ['Bringing suit against a rival could aggravate the rivalry.']\n"
     ]
    },
    {
     "name": "stderr",
     "output_type": "stream",
     "text": [
      "\r",
      "  0%|▎                                                                                                                                                                    | 2/986 [00:58<7:58:25, 29.17s/it]"
     ]
    },
    {
     "name": "stdout",
     "output_type": "stream",
     "text": [
      "generated explanation: <pad> <extra_id_0> Bringing suit can cause aggravation in a fight. Bringing suit can cause aggravation in a fight, as it can cause a conflict. In addition, a suit can be used to bring about a sense of security, which can be a factor in the outcome of a fight. In addition, a suit can be used to create a sense of security, which can help to create a sense of security and security. In addition, a suit can also be used to bring a rivalry. In addition, it can also help to create a rivalry. In addition, it can also help to create a sense of security and help to create a sense of security. The suit can also help to create a sense of security, which is a rivalry and to create a sense of security. In addition, a rivalry can be able to create a sense of security and help to create a sense of security and help to create a sense of security and help to protect a rivalry and help to create a sense of security and help to maintain a sense of security and help to ensure that rivalry. The suit can be used to protect the rivalry.<extra_id_1> </s>\n",
      "########\n",
      "*******\n",
      "question: A person who yawns and paces to help pass the time is likely feeling what?\n",
      "answer: boredom\n",
      "choices: ['ridiculous', 'excitement', 'meanness', 'terrorism', 'boredom']\n",
      "common expl list: ['Yawning and pacing is a sign of being bored, etc...', 'By yawning and pacing one shows signs of being bored.', 'A bored person would pace and yawn to make time go by faster.']\n"
     ]
    },
    {
     "name": "stderr",
     "output_type": "stream",
     "text": [
      "\r",
      "  0%|▌                                                                                                                                                                    | 3/986 [01:11<6:02:16, 22.11s/it]"
     ]
    },
    {
     "name": "stdout",
     "output_type": "stream",
     "text": [
      "generated explanation: <pad> <extra_id_0> A person who yawns or paces to help pass the time is likely feeling boredom. This is because boredom is a natural response to stress, anxiety, and stress. It is a natural response to stress and stress, and it can be a cause of stress and anxiety. It can be a sign of boredom, such as fatigue, a sense of insecurity, or a sense of adversity. It can be a sign of boredom, such as a feeling of boredom. It can also be a sign of boredom, such as a person who yawns and paces to help pass the time, and it can also be a sign of boredom. It can also be a sign of boredom, such as boredom, a person may feel boredom, boredom, or boredom. It can be a sign of boredom. It can also be a person who yawns and paces to help pass the time, or it can be a sign of boredom. It can also be a person who is likely to feel boredom.<extra_id_1> </s>\n",
      "########\n",
      "*******\n",
      "question: I only like fiction books, why should I read a non-fiction book?\n",
      "answer: knowledge\n",
      "choices: ['knowledge', 'been printed new', 'many words', 'for fun', 'cover']\n",
      "common expl list: ['Non-fiction books contain knowledge.']\n"
     ]
    },
    {
     "name": "stderr",
     "output_type": "stream",
     "text": [
      "\r",
      "  0%|▋                                                                                                                                                                   | 4/986 [02:57<15:01:09, 55.06s/it]"
     ]
    },
    {
     "name": "stdout",
     "output_type": "stream",
     "text": [
      "generated explanation: <pad> <extra_id_0> I only like fiction books, why should I read a non-fiction book? I like fiction because it is a great way to learn new things and to gain new knowledge. I also like non-fiction books because they are a great way to gain knowledge and experience. I also like reading non-fiction because they are a great way to gain knowledge and experience. I also like non-fiction books because they are a great way to gain knowledge about a topic and to gain knowledge. I also like non-fiction because they offer a great deal of information about the world, as it is a great way to gain knowledge and experience, and they are a great way to gain knowledge and experience. I also like reading non-fiction books because they offer a great way to gain knowledge and experience. I also like reading non-fiction because they provide a great way to gain knowledge and understanding of the world. I am a great way to gain a great deal of the world and to gain an appreciation of the world and to gain knowledge about the world and to gain a deeper understanding of the world. I also gain knowledge about the world and to gain knowledge about the world. I also gain knowledge about the world. I also gain knowledge about myself. I also gain knowledge about the world around me. I am a great deal of information about the world. I am a great understanding of the world around me. I am not a great understanding of the world around me to understand the world. I am a great deal of knowledge about the world. I am also a great deal of knowledge about the world. I am also a great deal of information on the world. I am a great deal of information about the world through reading a great deal of knowledge about the world. I am a great deal of knowledge about the world around me. I am a great deal of information about the world around me. I am a great deal of knowledge and knowledge that I can gain knowledge and knowledge about the world. I also enjoy reading a non-fiction book. I also like to read non-fiction books. I also like the story and the history of the history of the world, so I want to read non-fiction books, as it is a great deal of knowledge and knowledge that I can read a non-fiction book because it is a great resource for anyone who has the knowledge and the history of the history\n",
      "########\n",
      "*******\n",
      "question: An American might hike a mountain north to get to what?\n",
      "answer: canada\n",
      "choices: ['canada', 'switzerland', 'orlando', 'austria', 'surface of earth']\n",
      "common expl list: ['If an American hiked north, they would likely end up in Canada.']\n"
     ]
    },
    {
     "name": "stderr",
     "output_type": "stream",
     "text": [
      "\r",
      "  1%|▊                                                                                                                                                                    | 5/986 [02:59<9:49:27, 36.05s/it]"
     ]
    },
    {
     "name": "stdout",
     "output_type": "stream",
     "text": [
      "generated explanation: <pad> <extra_id_0> An American might hike a mountain north to get to canada. It is important to get to the top of the mountain to get to the Canadian border. The mountain is also important to the American to get to the Canadian border. The mountain is also a great way to get to the border crossing. The mountain is a great way to get to Canada, as it is the only place in the world where an American can reach Canada. The American might hike a mountain north to get to Canada, which is located in the north of the country. The American might also hike north to get to the Canadian border in Canada. The American can also hike north to get to the Canadian border.</s>\n",
      "########\n",
      "*******\n",
      "question: Sam spent most of his time standing up.  His job was hectic and he never got any rest. But he was the best cashier at his workplace.    Where might he work?\n",
      "answer: supermarket\n",
      "choices: ['bookstore', 'count till', 'supermarket', 'shop', 'preschool']\n",
      "common expl list: ['Since one spends most of his time standing when working as a cashier, Sam probably works at a supermarket where groceries are sold. Because his workplace is full of activities and punten, he never gets any rest.', \"The best cashiers work setting up lines of products, yhis is usually done from being on one's feet. Supermarkets use till systems to swipe credit cards, thus cashiering is done by standing up.\"]\n"
     ]
    },
    {
     "name": "stderr",
     "output_type": "stream",
     "text": [
      "\r",
      "  1%|█                                                                                                                                                                    | 6/986 [03:02<6:42:19, 24.63s/it]"
     ]
    },
    {
     "name": "stdout",
     "output_type": "stream",
     "text": [
      "generated explanation: <pad> <extra_id_0> Sam spent most of his time standing up. He was the best cashier in a supermarket. Supermarkets are usually located in the middle of the aisles. They are a great place to work because they have a wide variety of cashiers and cashier machines. They also have a wide variety of cashiers in their workplaces. They also have a wide variety of cashiers and cashiers. They also have cashier assistants who can help with cashiering, cashiering, and other tasks. They are also often found in supermarkets because they have a wide variety of cashiering in the middle of the aisles of the shelves.</s>\n",
      "########\n",
      "*******\n",
      "question: James raked fallen leaves into a pile. Where might he leave the pile?\n",
      "answer: ground\n",
      "choices: ['forest', 'roof', 'garden', 'tree', 'ground']\n",
      "common expl list: ['Leaves are often raked into piles on the ground.']\n"
     ]
    },
    {
     "name": "stderr",
     "output_type": "stream",
     "text": [
      "\r",
      "  1%|█▏                                                                                                                                                                   | 7/986 [03:46<8:24:17, 30.91s/it]"
     ]
    },
    {
     "name": "stdout",
     "output_type": "stream",
     "text": [
      "generated explanation: <pad> <extra_id_0> James raked fallen leaves into a pile of ground. Ground is a natural place for fallen leaves to be raked into. Ground is often used to remove fallen leaves from a pile. Ground is often used to remove fallen leaves from a pile, such as trees, shrubs, and shrubs. Ground is a place where fallen leaves can be buried, buried, or buried. The ground is often used to remove fallen leaves from the pile, often in a way that leaves can be buried in the pile. Ground is also used to remove fallen leaves from the pile. Ground is used to remove fallen leaves and mulches, which can be used to remove fallen leaves from the pile. Ground is a place where fallen leaves can be buried. It is a place to place fallen leaves and discarded leaves. Ground is a place to leave the pile. Ground is a place to collect fallen leaves and buried leaves, and it is a place where the leaves can be buried in a pile. Ground can be a place to leave the pile. Ground can be used to remove fallen leaves, such as the ground, to help make the ground. Ground can also be placed on a pile of leaves and other debris, such as leaves, and to remove fallen leaves. Ground can also be used to remove fallen leaves, a place where the ground can be used to remove them from the ground. James could leave the pile of fallen leaves and leaves. Ground can be placed in a pile of leaves.<extra_id_1> </s>\n",
      "########\n",
      "*******\n",
      "question: What happens when we fail at something we attempt?\n",
      "answer: leave\n",
      "choices: ['leave', 'give up', 'trying', 'we get shunned', 'fail']\n",
      "common expl list: ['If we fail at something, we usually leave (quit) that activity; failing is an action, while giving up and trying are both ways of not acting.', \"If we engage in an activity, like a sport, and fail, we don't want to continue doing it. It's much easier simply to leave.\"]\n"
     ]
    },
    {
     "name": "stderr",
     "output_type": "stream",
     "text": [
      "\r",
      "  1%|█▎                                                                                                                                                                  | 8/986 [05:37<15:20:24, 56.47s/it]"
     ]
    },
    {
     "name": "stdout",
     "output_type": "stream",
     "text": [
      "generated explanation: <pad> <extra_id_0> When we fail at something, we leave behind a lot of evidence that a successful attempt is a failure. This is because failure is a result of the failure of a particular type of work, which is why we leave the work behind. This is because failure is a natural consequence of failure, because failure is often a result of the failure of a particular task. This is often the case when we leave a trail of evidence that we are a failure. This can lead to a failure, and it can lead to a failure to leave a trail that is not always the same.<extra_id_0> When we leave a trail of evidence that we are a result of failure, we can be a good thing. This is because failure is because failure is because failure is because failure is a good thing that is not always a good thing. We can’t always be a good thing to leave us a good thing. Leaving a trail of proof that we can’t always the failure that we can’t be a good thing. We can’t be a good thing. We can’t be a good thing if we can’t be a good thing if we can’t be able to be successful at something we can’t do something we can’t do it because we can’t do it because we can’t try again. We can’t even try again because we can’t succeed at something we can’t do something we can’t do something we can’t do something we can’t do something we can’t do it again if we can’t do something we can’t try again. We can’t do it because we can’t try and we can’t do it because we can’t do it because we can’t do it again because we can’t do it because we can’t do it because it’s too good at it because it is good enough. We can’t do it again because we can’t do it because we can’t do it again because we can’t do it again. We can’t do it again because we can’t do it because we can’t do it because we can’t do it because we can’t do it because we can’t try to do it because we can’t do it because we can’t do it because we\n",
      "########\n",
      "*******\n",
      "question: The referee wasn't specialized in one thing. He refereed many games.  He was offered a job but wasn't sure what it would be.  What did he know it would be?\n",
      "answer: sporting event\n",
      "choices: ['side with opponent', 'football', 'hockey game', 'part two boxers', 'sporting event']\n",
      "common expl list: ['Referees are specialized in sports, and so, they would be expected to know how to referee a sporting event.']\n"
     ]
    },
    {
     "name": "stderr",
     "output_type": "stream",
     "text": [
      "\r",
      "  1%|█▍                                                                                                                                                                  | 9/986 [07:34<20:29:13, 75.49s/it]"
     ]
    },
    {
     "name": "stdout",
     "output_type": "stream",
     "text": [
      "generated explanation: <pad> <extra_id_0> The referee was offered a job because he was unfamiliar with the sport. He was offered a job because he was unfamiliar with the sport and was unfamiliar with the sport. He was offered a job because he was unfamiliar with the sport. He was offered a job because he was unfamiliar with the sport and the sport. He was offered a job because he was unfamiliar with the sport and the sport. The sport is an event that is a way to get the ball in the air and to get the ball in the air. The referee was also familiar with the sport and was familiar with the sport and knew that he was offered a job in a sport and would be a great way to get the ball in the right way. He was familiar with the sport and knew the sport and the sport. The sport is a great way to get the ball in the air and knew that he would be a professional athlete. The sport was a great way to get the ball in the air and knew that he would be competing for the game. He was offered a job that he would be offered a job that would be specialized in one thing. He was offered a job because he would be a professional. He would be specialized in the sport. He was offered a job because he would be specialized in one thing. He would be specialized in one thing, but he was offered a job. The referee was offered a job because he was not specialized in one thing. He was offered a job because he would be specialized in one thing. He was offered a job because he was not sure what he was offered a sport. He was offered a job. He was offered a job because he was not sure that he would be specialized in one thing, but he wasn't sure he would be a sporting event because he was offered a career in sports. He was offered a sport would be a sports event. He was offered a sporting event. He was offered a job. He was offered a career in sport. He was offered a job that would be a career in sports event was a career in sport. He was also a career that specialized in a career in sport. He was offered a job that specialized in\n",
      "########\n",
      "*******\n",
      "question: Susan threw the highly elastic ball at the wall.  The ball did what?\n",
      "answer: rebound\n",
      "choices: ['bounce', 'recoil', 'rebound', 'underwear', 'stretch']\n",
      "common expl list: ['Elastic balls collide with the wall, and boom bounce back after a collision.']\n"
     ]
    },
    {
     "name": "stderr",
     "output_type": "stream",
     "text": [
      "\r",
      "  1%|█▋                                                                                                                                                                 | 10/986 [07:45<15:04:21, 55.60s/it]"
     ]
    },
    {
     "name": "stdout",
     "output_type": "stream",
     "text": [
      "generated explanation: <pad> <extra_id_0> The ball reacted in a highly-elastic manner when it hit the wall. It bounced back, allowing the ball to rebound, but the ball was unable to recover. The ball was a very strong and flexible ball, which was able to absorb shock and shock, allowing the ball to bounce back and forth. The ball then reacted, allowing the ball to bounce back and forth. The ball was able to rebound and bounce back, allowing the ball to rebound and re-enter the wall, allowing the ball to bounce back and forth, allowing the ball to be used to create a positive and effective way for the ball to rebound and return to the wall. The ball is a great way to make a positive and effective rebounding is a great way to increase the ball to retaliation and allowing the ball to be thrown at the wall, allowing the ball to create a positive</s>\n",
      "########\n",
      "*******\n",
      "question: John lived in a small island surrounded by flowing liquid H2O   Where might he live?\n",
      "answer: mississippi river\n",
      "choices: ['japan', 'hawaii', 'mississippi river', 'pacific ocean', 'body of water']\n",
      "common expl list: ['there are numerous islands in the mississippi river in the united states, making it possible that John may have lived on one.']\n"
     ]
    },
    {
     "name": "stderr",
     "output_type": "stream",
     "text": [
      "\r",
      "  1%|█▊                                                                                                                                                                 | 11/986 [09:10<17:28:23, 64.52s/it]"
     ]
    },
    {
     "name": "stdout",
     "output_type": "stream",
     "text": [
      "generated explanation: <pad> <extra_id_0> John lived in a small island surrounded by flowing liquid H2O. The flow of the water is a natural fluid, which is a natural source of oxygen, water and nutrients. It also provides a source of food, water, and other nutrients. The flow of the water is a natural source of oxygen and nutrients, such as calcium, magnesium, and manganese. The water is a natural source of oxygen, which is a natural gas that is produced by the flowing water. The flow of the water is a natural gas and is a source of oxygen. The flow of water is a natural gas, which is a natural source of water, and is a natural gas that is a natural source of heat and energy. The flow is a source of oxygen, which is a natural gas that is a source of oxygen. The flow is a natural gas that is a source of oxygen, which is a natural gas that is a natural gas that is a natural gas. The flow of water. The flow of water that is a natural gas, which is a natural gas, that is a natural gas, a natural gas, and a natural gas. The flow of water that flows through the Mississippi River. The river is a natural source of water. The water is a natural source of water that is a natural source of water that is a natural gas that flows from the Mississippi River is a source of water that flows from the Mississippi River. The Mississippi River is a natural source of water that is a natural source of water that is a natural gas that flows from the Mississippi River and is a natural gas that is a natural gas that is a natural gas. The Mississippi River, which is the main source of water that is the water that flows from the Mississippi River, which is the source of water that is a natural gas. The Mississippi River is a natural gas that is a gas that is a natural gas that is flowing from the Mississippi River.<extra_id_1> </s>\n",
      "########\n",
      "*******\n",
      "question: What will the student have to do on the test?\n",
      "answer: solve equation\n",
      "choices: ['finish college', 'begin teaching', 'write', 'answer question', 'solve equation']\n",
      "common expl list: ['A student has to solve equations to learn a given theory that is presented in class.']\n"
     ]
    },
    {
     "name": "stderr",
     "output_type": "stream",
     "text": [
      "\r",
      "  1%|█▉                                                                                                                                                                 | 12/986 [10:19<17:51:44, 66.02s/it]"
     ]
    },
    {
     "name": "stdout",
     "output_type": "stream",
     "text": [
      "generated explanation: <pad> <extra_id_0> The student will have to solve a problem on the test to pass the test. The student will have to solve a problem to pass the test. The student will also have to complete a math test. The student will also have to complete a math test, which is called a problem solving test. The student will also have to complete a math test to complete the test. The student will also have to complete a math problem, which is a math problem. The student will also have to complete a math problem, which is a math problem on the test. The student will also have to complete the test. The student will also have to complete the test, a math test, and a problem solving test. The student will have to complete the test in order to complete the test. The student will have to complete the test in order to be able to complete the test in a given time, and the student will also have to complete the test in a time-consuming test, and the student will have to complete the test in order to complete the test in a time-consuming task, and the test will have to complete the test in a time-consuming task. The student will also have to complete the test in a time-consuming task, which will be able to complete the test in a time-consuming test in a time-consuming test in a time-consuming task. The student will also have to complete the test. The student will also have to complete the test in a time-consuming task. The student will also have to complete the test in a time-consuming and completing the test in completing the test in a given time. The student will also have to complete the test in a time-consuming and complete the test in a time-consuming task.<extra_id_1> </s>\n",
      "########\n",
      "*******\n",
      "question: The tourists saw what they thought was a statue, but they soon discovered it was performance art went it began what?\n",
      "answer: moving\n",
      "choices: ['growing mold', 'moving', 'accent garden', 'green', 'painting']\n",
      "common expl list: ['Performance art is art that is performed, rather than being a static object. In this case, the statue was moving, which is a sign of performance art.']\n"
     ]
    },
    {
     "name": "stderr",
     "output_type": "stream",
     "text": [
      "\r",
      "  1%|██▏                                                                                                                                                                | 13/986 [11:58<20:31:40, 75.95s/it]"
     ]
    },
    {
     "name": "stdout",
     "output_type": "stream",
     "text": [
      "generated explanation: <pad> <extra_id_0> The tourists saw what they thought was a statue, but they soon discovered that it was performance art. It was performance art that began what was a statue. It was a moving act, and it was a moving piece of art. It was a piece of art that was based on the works of art by the artist. It was a piece of performance art, and it was a piece of art that was performed by the artist. It was a piece of art that was performed by the artist. It was a piece of performance art, and it was a great way to show that was moving. It was a great way to see the tourists and the artists create a moving piece of art that was moving and a great way to experience the experience of the tourist attraction. It was a great way to see the art world. The tourists could see the art in a way that would be a great way to experience the art world around them. The artist could also see the performance art form of performance art. It was a great way to experience the art of performing art, and it was a great way to experience the art of performing. The tourists saw the performance art that was moving. The tourists quickly discovered that it was performance art. The tourists were moved to see the performance art that was moving to create a piece of art that was a moving piece of performance art that was a great way to experience the performance art that could be a piece of performance art that could be a performance art that was moving and moving art that was a way to experience the performance art that was moving. The tourists could experience the art of art that was moving and a way to experience the art that was a piece of performance art that was a piece of art that was a way to experience the world through the eyes of the people that was a way to experience the experience that was a way to experience the world through the eyes of the world through the world through the world. the world's history and to see the world around them and to see the world through the world. The tourists could see the world through the eyes of the world through the eyes of the world. The tourists could see the world through the eyes of the world, and the people's eyes, and to see the world.<extra_id_1> </s>\n",
      "########\n",
      "*******\n",
      "question: What is a good way to carry a small dog?\n",
      "answer: backpack\n",
      "choices: ['good hands', 'backpack', 'chinese food', 'grocery bag', 'basket']\n",
      "common expl list: ['Backpacks are a good way to carry things, and small dogs are things.']\n"
     ]
    },
    {
     "name": "stderr",
     "output_type": "stream",
     "text": [
      "\r",
      "  1%|██▎                                                                                                                                                                | 14/986 [12:19<16:01:58, 59.38s/it]"
     ]
    },
    {
     "name": "stdout",
     "output_type": "stream",
     "text": [
      "generated explanation: <pad> <extra_id_0> A good backpack is a great way to carry a small dog. It is a great way to carry a small dog with you. It is also a great way to store treats, which are great for emergencies or to travel with a dog. It is also a great way to store food, as it is a great way to store your dog's food. It is a great way to keep your dog and its dog safe and sound. It is also a great way to store your dog in a pocket or pocket. It is also a great way to store your dog's food and water bottle, which is great for your dog’s favorite places. It is also a great way to store your dog's food, and it is a great way to store your dog in a backpack. It is a great way to store your dog’s water cooler, which is a great way to keep your dog in a safe and healthy lifestyle. It is also a great way to keep your dog’s food and water bottle.</s>\n",
      "########\n",
      "*******\n",
      "question: Both sides in World War I used what to cause death that is now banned?\n",
      "answer: poisonous gas\n",
      "choices: ['homicide', 'poisonous gas', 'cyanide', 'nuclear weapons', 'massive weapons']\n",
      "common expl list: ['Poison gas is a chemical known for its ability to kill (therefore, if both sides used it, people on both sides died from its use), and it has since gone on to be outlawed in many countries.']\n"
     ]
    },
    {
     "name": "stderr",
     "output_type": "stream",
     "text": [
      "\r",
      "  2%|██▍                                                                                                                                                                | 15/986 [12:41<12:56:01, 47.95s/it]"
     ]
    },
    {
     "name": "stdout",
     "output_type": "stream",
     "text": [
      "generated explanation: <pad> <extra_id_0> Both sides in World War I used poisonous gas that is now banned. It is used to cause death and to cause injury, but it is thought that it was used to cause the death of innocent civilians. It is believed that poisoning is a form of chemical that is often used to cause death. It is also used to cause the death of innocent civilians, as it is used by the Germans in World War I. It is believed that poisoning is a form of chemical reaction that can cause death and destruction. It is used in both sides in the war were both used poisonous gas, which is used to cause the death of innocents to be killed. It is believed that both sides in the war used poisoning is a chemical that both sides used poisonous gas to cause the deaths of innocents to cause the deaths of innocent people to be able to escape if the gas is used to cause the death of the dead is a form of poisonous gas, which can cause the death of the dead. It can cause the death of the victims.<extra_id_1> </s>\n",
      "########\n",
      "*******\n",
      "question: Where is disease often spread but shouldn't be?\n",
      "answer: hospital\n",
      "choices: ['ghost town', 'third world country', 'human body', 'rug', 'hospital']\n",
      "common expl list: ['Hospitals are places where people go to get better, and therefore disease is often spread there.', 'Disease is spread most commonly in hospitals, where sick patients are treated and recovered hosts of disease are found.']\n"
     ]
    },
    {
     "name": "stderr",
     "output_type": "stream",
     "text": [
      "\r",
      "  2%|██▋                                                                                                                                                                 | 16/986 [12:53<9:59:28, 37.08s/it]"
     ]
    },
    {
     "name": "stdout",
     "output_type": "stream",
     "text": [
      "generated explanation: <pad> <extra_id_0> A hospital is a place where disease can be spread quickly and easily. Hospitals are often a place to be because they are able to provide a safe environment for patients to recover from their illness. They are often equipped with the necessary tools to ensure that patients are not exposed to the disease, which can lead to infections, infections, and other health risks. Hospitals are also equipped with the necessary equipment to provide a safe environment for patients to be able to recover from their disease. Hospitals are also equipped with the necessary training and equipment to deal with the disease. Hospitals are equipped with the equipment and staff to provide the necessary training to help people to manage their disease and prevent it from becoming worse. hospitals are also equipped to help prevent the spread of disease, such as a hospital is equipped to provide the necessary medical services they need. Hospitals are equipped to provide the necessary training and equipment to help prevent the patient from becoming infecting the patient.<extra_id_1> </s>\n",
      "########\n",
      "*******\n",
      "question: As things get colder, temperature does what?\n",
      "answer: drop to zero\n",
      "choices: ['increase', 'drop to zero', 'heat up', 'dropping quickly', 'arctic']\n",
      "common expl list: ['As things get colder, they get closer to zero degrees.']\n"
     ]
    },
    {
     "name": "stderr",
     "output_type": "stream",
     "text": [
      "\r",
      "  2%|██▊                                                                                                                                                                 | 17/986 [12:56<7:14:29, 26.90s/it]"
     ]
    },
    {
     "name": "stdout",
     "output_type": "stream",
     "text": [
      "generated explanation: <pad> <extra_id_0> As temperatures drop, they tend to drop to zero. Temperature drops in response to temperature changes. Temperature drops in response to changes in temperature, which can cause the temperature to drop to zero. Temperature drops in the air, causing the temperature to drop to zero. Temperature drops in the air, causing the temperature to drop to zero. The temperature drops in the air can also cause the temperature to drop to zero, which can lead to a drop in the temperature of the room. Temperature drops in the air can cause the temperature to drop to zero as the air temperature drops to zero. Temperature drops in the air drop to zero when the temperature drops to zero, resulting in the temperature drop in the air to zero. This is because the air temperature can also cause the temperature to drop to zero.<extra_id_1> </s>\n",
      "########\n",
      "*******\n",
      "question: Where is one unlikely to get popcorn?\n",
      "answer: soccer game\n",
      "choices: ['restaurant', 'movie house', 'soccer game', 'carnival', 'movie theater']\n",
      "common expl list: ['Soccer games are usually snacks-free affairs; snacks, including popcorn, tend to be present at more recreational venues, but less so in settings where food is unnecessary because there are translatable goods sellers, i.e., vendors that sell things like popcorn', 'Soccer games usually lack popcorn machines.', 'Most soccer games lack concession stands, which are necessary to sell movie theaters popcorn.']\n"
     ]
    },
    {
     "name": "stderr",
     "output_type": "stream",
     "text": [
      "\r",
      "  2%|██▉                                                                                                                                                                 | 18/986 [12:59<5:19:17, 19.79s/it]"
     ]
    },
    {
     "name": "stdout",
     "output_type": "stream",
     "text": [
      "generated explanation: <pad> <extra_id_0> It is unlikely that soccer fans will get popcorn during a soccer game. It is rare that soccer players get popcorn during a soccer game. It is rare that popcorn is a popular snack, especially when it is served in a bowl. It is also rare that a soccer game is served in a bowl, which is a popular snack because it is often served in a large amount of popcorn. Soccer games are a popular way for fans to get popcorn in the form of popcorn. Soccer is a great way to get popcorn after a game. It is also a great way to get popcorn during a game, as it is a great way to get popcorn is a great way to get popcorn in the form of a soccer game.<extra_id_1> </s>\n",
      "########\n",
      "*******\n",
      "question: Where are files likely to be hanging?\n",
      "answer: filing cabinet\n",
      "choices: ['filing cabinet', 'tree', 'suitcase', 'computer', 'desk drawer']\n",
      "common expl list: ['Files are likely to be hanging in a filing cabinet, since they are often organized by topic, and filing cabinets are often used to organize files.', 'Filing cabinets are used to store files sometimes; these files can then be found by opening the filing cabinet and looking for hanging folders.']\n"
     ]
    },
    {
     "name": "stderr",
     "output_type": "stream",
     "text": [
      "\r",
      "  2%|███▏                                                                                                                                                               | 19/986 [15:05<13:54:19, 51.77s/it]"
     ]
    },
    {
     "name": "stdout",
     "output_type": "stream",
     "text": [
      "generated explanation: <pad> <extra_id_0> The filing cabinet is a large storage cabinet, which is often used to store and store documents. The filing cabinet is often located in a basement or a storage unit. The filing cabinets are often a combination of filing cabinets and storage cabinets, which are often used to store files in storage. The filing cabinets are often designed to hold large files and other documents. The filing cabinets are designed to hold the files in a single, angled or angled fashion. The storage space is often a place for the storage of documents, documents, and other items such as photos, documents, and other documents. The filing cabinet is a great place for filing cabinets to keep the files in a filing cabinet. The filing cabinet is a great place to keep the files in place. The filing cabinet is a great place to store the files, and it can be used to keep them in a variety of documents. It is also a great place to keep the files, and it is also a good way to keep the documents in place. The filing cabinet is a great place to keep them all in a secure and organized environment. The filing cabinets are a great place to keep the files in a secure place for the documents in place. The filing cabinets are also a great place to store the files and keeps them in a safe place for the protection from the elements of the home. The filing cabinets are a great place for the storage of the documents and to store the documents and to store them in a safe place for the protection of the documents and folders. The filing cabinets are a safe place for the files and protect them from the elements of the home or office or even to protect the contents of the home or office files. The filing cabinets are designed to protect the files and to ensure that they are safe and secure. The filing cabinets are designed to protect the contents of the files and documents, as they are protected against the elements and are designed to protect the files. The files and can be used to protect them from the elements of the home or to protect them from the family and to protect them from the elements of the home. The filing cabinets are also a place for the storage space of the house, as they are a storage space for the storage of the files in a secure and secure place for the contents of the filing cabinets. The filing cabinets. The filing cabinets are the perfect place to keep the files you want to protect the files\n",
      "########\n",
      "*******\n",
      "question: What is required to go on vacation before anything else?\n",
      "answer: have money\n",
      "choices: ['pack', 'pay bills', 'save money', 'have money', 'reliable car']\n",
      "common expl list: ['Vacations often require the purchase of travel services, such as airline or hotel tickets.']\n"
     ]
    },
    {
     "name": "stderr",
     "output_type": "stream",
     "text": [
      "\r",
      "  2%|███▎                                                                                                                                                               | 20/986 [16:44<17:41:47, 65.95s/it]"
     ]
    },
    {
     "name": "stdout",
     "output_type": "stream",
     "text": [
      "generated explanation: <pad> <extra_id_0> Money is the most important factor to go on a vacation. Money is a vital part of a vacation. It is important to plan ahead and plan ahead. This is because money is a vital part of a vacation. It is also important to plan ahead and plan ahead. It is important to have enough money to go on vacation. It is important to plan ahead, plan ahead, and plan ahead. This is because money is essential to make the most of a vacation. It is important to plan ahead and plan ahead. It is important to plan ahead and plan ahead of time. Money is also important to plan ahead of time to plan ahead and plan ahead. Money is a vital part of a vacation. It is important to plan ahead. Money can be spent on vacations, and it is important to plan ahead. Money can also be used to fund the entire vacation. Also, it is important to plan ahead. It is important to have enough money is necessary to make sure that the money spent on vacation. Money can be used to cover the cost of the cost of the cost of the vacation. Money can be used to cover the cost of the vacation. The money can also be used to cover the cost of the trip. The money can be used to fund the trip. The money can be used to cover the cost of the time to plan ahead. It is important to have enough money to plan ahead. Money can be used to ensure that the money is sufficient to cover the cost of the trip. Money can be used to pay for the cost of the trip and to have enough money to cover the cost of the trip. The cost of the trip is usually used to ensure that the cost is important to ensure that the trip is planned and used to ensure that the trip is spent in order to ensure that the cost of the trip and to ensure that the trip is also to ensure that the trip is sufficient to ensure that the trip is planned and to ensure that the trip is planned beforehand.<extra_id_1> </s>\n",
      "########\n",
      "*******\n",
      "question: The roadway passed a sign and gate house, what was behind the gatehouse?\n",
      "answer: subdivision\n",
      "choices: ['city', 'narnia', 'subdivision', 'neighborhood', 'countryside']\n",
      "common expl list: ['Subdivisions are residential areas that are often gated, and so, if you see a gatehouse, you might be in a subdivision.', 'A subdivision contains houses that formed around it; therefore, a subdivision has a gatehouse that controls who goes in and out.']\n"
     ]
    },
    {
     "name": "stderr",
     "output_type": "stream",
     "text": [
      "\r",
      "  2%|███▍                                                                                                                                                               | 21/986 [18:10<19:14:17, 71.77s/it]"
     ]
    },
    {
     "name": "stdout",
     "output_type": "stream",
     "text": [
      "generated explanation: <pad> <extra_id_0> The roadway passed a sign and gatehouse, which were visible from the roadway. The roadway passed through the gatehouse, which was visible from the roadway. The roadway passed a gatehouse, which was visible from the roadway, and the roadway passed through a gatehouse. The gatehouse was located in the middle of the road and was visible from the roadway. The roadway passed through a gatehouse, which was visible from the roadway. The roadway was a single level, with no visible entrance. The roadway passed a gatehouse, which was visible from the roadway, and the roadway was visible from the gatehouse. The roadway passed through the gatehouse, which was visible from the roadway, and the roadway was visible from the gatehouse, and the roadway was visible from the sign and gatehouse. The roadway was visible from the roadway, which is visible from the road, and the roadway was also visible from the roadway. The roadway was visible from the road. The roadway was a gatehouse. The roadway was also visible from the roadway. The roadway was also visible from the roadway, which is a sign and gatehouse. The gatehouse was a sign and gatehouse. The gatehouse. The gatehouse was a gatehouse. The gatehouse was located behind the gatehouse was a subdivision. The gatehouse was a sign and gatehouse was located behind the gatehouse. The gatehouse was located behind the gatehouse. The gatehouse was a subdivision. The gatehouse was located on the roadway, the roadway was a gatehouse was a gatehouse, which is located behind the gatehouse, and the roadway was a gatehouse, which is located on the roadway. The gatehouse was located on the roadway, which is located on the roadway, which is located on the roadway, and the roadway was a sign and gatehouse.<extra_id_1> </s>\n",
      "########\n",
      "*******\n",
      "question: The invasive A.I. was designed to scan the crowd, where most saw a mass of humanity the evil machine could pick out each what?\n",
      "answer: individual\n",
      "choices: ['solitary', 'single person', 'few people', 'crowd', 'individual']\n",
      "common expl list: [\"Machine intelligence is better able to find isolated individuals than crowded groups. Machines need to scan a large group of people to be able to find a single person--but when the single person doesn't blend in, it makes them easier to find.\"]\n"
     ]
    },
    {
     "name": "stderr",
     "output_type": "stream",
     "text": [
      "\r",
      "  2%|███▋                                                                                                                                                               | 22/986 [18:30<15:05:59, 56.39s/it]"
     ]
    },
    {
     "name": "stdout",
     "output_type": "stream",
     "text": [
      "generated explanation: <pad> <extra_id_0> The invasive A. The invasive A.I. was designed to scan the crowd, where most saw a mass of humanity the evil machine could pick out each one what? The invasive A. The invasive A.I. The invasive A.I. The invasive A.I. The invasive A. I. The invasive A. I. I. Is designed to scan the crowd, where most saw a mass of humanity the evil machine could pick out each individual. Is designed to scan the crowd, the crowd, the evil machine could also scan the individual human body, the individual human race, and the group of individuals. The invasive A.I. The invasive A. I. I. I.I. I. was designed to scan the crowd, the crowd, the evil machine could pick out individual human beings, and the crowd could pick out individual personalities, the individual personalities of the crowd, and the individual could then be able to pick out the individual and then the invasive A.<extra_id_1> </s>\n",
      "########\n",
      "*******\n",
      "question: Is has been speculated that a aliens could be communicating by doing this?\n",
      "answer: thinking\n",
      "choices: ['effort', 'farting', 'thinking', 'laugh', 'medium']\n",
      "common expl list: ['Aliens could quite possibly be using thought as a way to communicate between themselves.']\n"
     ]
    },
    {
     "name": "stderr",
     "output_type": "stream",
     "text": [
      "\r",
      "  2%|███▊                                                                                                                                                               | 23/986 [18:34<10:52:37, 40.66s/it]"
     ]
    },
    {
     "name": "stdout",
     "output_type": "stream",
     "text": [
      "generated explanation: <pad> <extra_id_0> It is thought that aliens may be communicating by thinking. Thinking is the act of interacting with other humans, such as humans, and other living beings. This is because aliens are able to communicate by communicating with other people, such as humans, and other living beings. This is because thinking is a form of communication, and it is a way for aliens to communicate with other humans. Thinking is a way for humans to communicate with other humans, such as humans, and is a way for humans to communicate with each other. Thinking is a way for humans to communicate and can be a way for humans to communicate. It is also a way for aliens to communicate and communicate with each other. This is because aliens are able to communicate with one another through the same experiences.<extra_id_1> </s>\n",
      "########\n",
      "*******\n",
      "question: What can occur in fencing if you are not careful?\n",
      "answer: severe injuries\n",
      "choices: ['competition', 'severe injuries', 'fever', 'perspiration', 'small cuts']\n",
      "common expl list: ['Fencing is a sport, which involves hitting your opponent with a sharp piece of metal, which will almost certainly result in some physical pain.', 'The sport of fencing causes people to be hit by weapons, which may cause cuts or other wounds if someone is not careful.', 'Fencing is a sport that involves hitting your opponent with a sword, and if you are not careful, you can get injured.']\n"
     ]
    },
    {
     "name": "stderr",
     "output_type": "stream",
     "text": [
      "\r",
      "  2%|███▉                                                                                                                                                               | 24/986 [19:07<10:13:04, 38.24s/it]"
     ]
    },
    {
     "name": "stdout",
     "output_type": "stream",
     "text": [
      "generated explanation: <pad> <extra_id_0> Fencing can cause serious injuries to the surrounding area if you are not careful with the fencing. Fencing is a process that allows the fencing to be inspected and inspected. In addition, fencing can cause severe injuries, such as broken bones, cuts, or broken bones. Additionally, fencing can cause serious injuries to the surrounding area if not careful. Fencing can cause serious injuries to the surrounding area if not done properly. Fencing can cause severe injuries if not careful. In addition, fencing can cause severe injuries to other people's pets and other pets. Fencing can also cause serious injuries to the surrounding area, which can lead to serious injuries. fencing is a safety feature because it is designed to protect the fence from damage from the elements, such as a safety precautions, and is designed to protect the fence from any potential hazards. Fencing can cause serious injuries. The fencing can cause serious injuries to anyone who is injured by being injured by being injured by being too much of the fence. The fencing can cause severe injuries, such as broken bones, broken bones, broken bones, or broken bones, and can cause serious injuries. Additionally, fencing can cause serious injuries.<extra_id_1> </s>\n",
      "########\n",
      "*******\n",
      "question: If you stretch out your socks they will then have what kind of fit?\n",
      "answer: loose\n",
      "choices: ['cramped', 'loose', 'contract', 'park', 'compressing']\n",
      "common expl list: ['When stretched out, socks will be loose.']\n"
     ]
    },
    {
     "name": "stderr",
     "output_type": "stream",
     "text": [
      "\r",
      "  3%|████▏                                                                                                                                                              | 25/986 [19:50<10:33:47, 39.57s/it]"
     ]
    },
    {
     "name": "stdout",
     "output_type": "stream",
     "text": [
      "generated explanation: <pad> <extra_id_0> If you stretch out your socks they will have a loose fit. This is because the socks are made of a variety of materials and materials that are designed to meet the needs of the user. The socks are also designed to be comfortable and stretchable. They are made from a variety of materials, such as cotton, polyester, and other materials. They are made from a variety of materials, including cotton, spandex, and synthetic fibers. They are designed to be comfortable and comfortable, and they are made to be breathable and comfortable. They are designed to be breathable and stretch out, and are made to fit the socks are made to fit the skin. They are also made to be comfortable and stretchy. They are also designed to be comfortable and comfortable for the wear of the socks. They are made to be breathable and are lightweight and can be machine-promoted to allow them to be more flexible and comfortable. They are also comfortable to wear. They are also comfortable to stretch out and are made to be comfortable and comfortable to wear. They are made to be comfortable to wear. They are also comfortable to wear. They are designed to be comfortable to wear with a loose fit. Whether you can also be worn with socks, they are made to be comfortable for a great way to keep their shape.<extra_id_1> </s>\n",
      "########\n",
      "*******\n",
      "question: John ran out of pencils.  Where did  he go to get more?\n",
      "answer: office depot\n",
      "choices: ['desk drawer', 'cup', 'pencil case', 'shelf', 'office depot']\n",
      "common expl list: ['Office Depot is a company that specializes in office furniture; it also sells pens and pencils.', 'Office Depot is a store that sells office supplies, including pencils.', 'When people need pencils (or pens), they often buy them at office depots.', 'John can buy new pencils at an office depot.', 'Pencils can be found at an office supply store, e.g., an office depot.']\n"
     ]
    },
    {
     "name": "stderr",
     "output_type": "stream",
     "text": [
      "\r",
      "  3%|████▎                                                                                                                                                               | 26/986 [19:53<7:40:46, 28.80s/it]"
     ]
    },
    {
     "name": "stdout",
     "output_type": "stream",
     "text": [
      "generated explanation: <pad> <extra_id_0> John ran out of pencils at the office depot. Office Depot is a popular place for John to go to for more pencils. It is a popular place for John to get more pencils, especially at the department store. Office Depot is a great place for John to get pencils, as it offers a variety of sizes and styles.<extra_id_1> John ran out of pencils when he ran out of pencils. Office Depot is a great place for John to get more pencils. John is a frequent customer of the office depot is a great place to get more pencils in order to get more pencils. The office depot is a great place to get pencils for his needs. Office Depot is a great place to get more pencils. he ran out of pencils.<extra_id_1> </s>\n",
      "########\n",
      "*******\n",
      "question: What does a confident person do?\n",
      "answer: trust himself\n",
      "choices: ['feel important', 'own house', 'trust himself', 'know what time', 'cry']\n",
      "common expl list: ['A confident person is sure of his abilities and the trust in himself/herself to do things or accomplish goals.', 'People whose confidence is high tend to believe themselves more strongly, and so the confident person might believe in their own abilities and do things such as trust themselves.']\n"
     ]
    },
    {
     "name": "stderr",
     "output_type": "stream",
     "text": [
      "\r",
      "  3%|████▍                                                                                                                                                               | 27/986 [20:05<6:16:36, 23.56s/it]"
     ]
    },
    {
     "name": "stdout",
     "output_type": "stream",
     "text": [
      "generated explanation: <pad> <extra_id_0> A confident person can be confident in the face of criticism and doubt. This is because a confident person can be confident in their own abilities and abilities. They can also be confident in their own abilities and abilities. They can also be confident in their own abilities and abilities. They can also be confident in their own abilities and abilities, such as putting themselves first and then putting others first. They can also be confident in their own abilities, such as putting their trust in the right place, or putting in the work of others. This confidence can be a confident person, such as putting in the right direction. This is a confident person, confident in their own abilities and abilities, and the confidence is the most important factor in their life. This confidence level is important for a confident person to be a confident person. Having a confident person can be confident in their own abilities, and to trust his own abilities and abilities.<extra_id_1> </s>\n",
      "########\n",
      "*******\n",
      "question: James thought that analyzing all the data would help him learn more, but it did not.  It only gave him what?\n",
      "answer: headache\n",
      "choices: ['headache', 'better understanding', 'papercuts', 'enlightened', 'discovering truth']\n",
      "common expl list: ['Analysis requires a lot of thinking with maybe little reward, which can give one a headache.']\n"
     ]
    },
    {
     "name": "stderr",
     "output_type": "stream",
     "text": [
      "\r",
      "  3%|████▋                                                                                                                                                               | 28/986 [20:27<6:10:02, 23.18s/it]"
     ]
    },
    {
     "name": "stdout",
     "output_type": "stream",
     "text": [
      "generated explanation: <pad> <extra_id_0> James thought that analyzing all the data would help him learn more, but it did not. He was afraid that analyzing all the data would give him more headaches. He felt that analyzing all the data would help him learn more, and it would only help him learn more. It would also help him to understand the causes of headaches, which is when he was unable to concentrate on the task at hand. It would also help him to understand the causes of headaches, which is often accompanied by a headache. This is because analyzing the data would help him understand the reason why he was having headaches. It would also help him understand the cause of headaches. It would help James understand that he was having trouble focusing on the task at hand. It would help James understand the causes of headaches. It would also help him understand the impact of the task at hand. It would also help James understand the impact of the task. It would also help him understand the impact of the task at hand. It would also help him understand the task at hand.</s>\n",
      "########\n",
      "*******\n",
      "question: What makes people happy when it is surprising and unexpected?\n",
      "answer: humor\n",
      "choices: ['joke', 'humor', 'frightened', 'fight', 'laughter']\n",
      "common expl list: ['A surprise is a stimulus that is not generally predicted before exposing it to a subject. It may be surprising things that cause laughter, or unexpected things that people see as funny.']\n"
     ]
    },
    {
     "name": "stderr",
     "output_type": "stream",
     "text": [
      "\r",
      "  3%|████▊                                                                                                                                                               | 29/986 [20:45<5:45:12, 21.64s/it]"
     ]
    },
    {
     "name": "stdout",
     "output_type": "stream",
     "text": [
      "generated explanation: <pad> <extra_id_0> People are happy when humor is used to make them laugh, cry or even cry. Humor is a form of entertainment, and it is often accompanied by funny and funny moments. Humor is often accompanied by humor, and it can be used to make people laugh, cry, or even cry. It is also a form of entertainment, and it can be a great way to make people laugh, cry, or laugh. It can be a fun way to make people happy, because it can make people laugh, cry, or laugh at. It can also help to make people happy. Humor can also be a great way to make people laugh, laugh, and laugh at others. It can also be a great way to make people smile. It can also be a great way to make people laugh, and it can also be a great way to make people laugh when it is fun and fun. It can also help people laugh, and it can also help to make people smile, and help people laugh.</s>\n",
      "########\n",
      "*******\n",
      "question: What is someone who wants a lot of money?\n",
      "answer: greedy\n",
      "choices: ['selfish', 'weird', 'greedy', 'ridiculous', 'hungry']\n",
      "common expl list: ['Greed is a strong desire to possess a lot of money; a greedy person therefore wants it a lot.', 'Greed is defined as \"the desire to obtain something, especially wealth, through selfish means, typically at the expense of others.', 'A person who is greedy wants more things that people typically take for granted, i.e., money, success, etc. This is a lot of stuff.']\n"
     ]
    },
    {
     "name": "stderr",
     "output_type": "stream",
     "text": [
      "\r",
      "  3%|████▉                                                                                                                                                               | 30/986 [21:19<6:42:38, 25.27s/it]"
     ]
    },
    {
     "name": "stdout",
     "output_type": "stream",
     "text": [
      "generated explanation: <pad> <extra_id_0> A greedy person is someone who wants a lot of money. This is because money is used to make a single purchase. This money is used to make purchases, purchases, and purchases, and purchases are often made in order to make a profit. This is because greedy people are able to make a lot of money, which is why they are so eager to make a living. This is because greedy people are often tempted to buy things that are worth less than what they need. This is because greed is a way to make money. This is because greedy people are often tempted to buy things because greedy people want to make money. They are also likely to make purchases that are made in order to make it a good investment. This is because greedy people want to make a good investment. This is because greedy people have the most money. This is because greed can lead to greedy people a person to make a lot of money. This can lead to a person's life easier to make money. It can also cause people to make more money because it can lead to a person to make a person. This can lead to a person to make money from the money they want to make money from the money they need to make money they want to make it more money.<extra_id_1> </s>\n",
      "########\n",
      "*******\n",
      "question: Where do you keep a book to read before bed?\n",
      "answer: bedside table\n",
      "choices: ['school room', 'allen key', 'classroom', 'bedside table', 'coffee table']\n",
      "common expl list: ['Bedside tables are where people keep things they use before bed, such as books, glasses, and water.', 'Bedside tables are convenient for keeping things, e.g., a book, reading materials, glasses, etc., that you wish to keep near your bed for regular access; particularly things.']\n"
     ]
    },
    {
     "name": "stderr",
     "output_type": "stream",
     "text": [
      "\r",
      "  3%|█████                                                                                                                                                              | 31/986 [23:06<13:14:52, 49.94s/it]"
     ]
    },
    {
     "name": "stdout",
     "output_type": "stream",
     "text": [
      "generated explanation: <pad> <extra_id_0> A book is a good book to read before bed. It is a good place to keep a book to read before bed. It is also a great place to keep a book to read before bed. A bedside table is a great place to keep a book to read before bed. It is also a great place to keep a book to read before bed. It is also a great place to read a book before bed. It is a great place to keep a book to read before bed. Keeping a book is a great place to keep a book on your bedside table is a great place to read a book before bed. It is a great way to keep a book to read before bed. A book is a great place to keep a book to read before bed. Keeping a book is a great place to read a book is a great place to keep a book to read before bed. It is a great place to keep a book to read before bed. The bedside table is a great place to keep a book to read before bed. Bedside table is a great way to read before bed. It is a great place to keep a book is a great place to keep a book to read before bed and to read before bed. It is a great way to keep a book to read before bed. It is a great way to keep a book to read before bed. It is also a great way to keep a book to read before bed. It is a great way to read before bed. It is a great way to read before bed. It is a book to read before bed. It is a bedside table, a great place to keep a book to read before bed. A book to read before bed, and to read before bed. It is important to keep a book to read before bed to ensure that the book to read before bed.<extra_id_1> </s>\n",
      "########\n",
      "*******\n",
      "question: Where is a knight likely to be found in the US?\n",
      "answer: chess set\n",
      "choices: ['middle ages', 'chess set', 'historical novel', 'castle', 'guarding the king']\n",
      "common expl list: ['A knight is a piece in the game of chess, which is played on a chess set.']\n"
     ]
    },
    {
     "name": "stderr",
     "output_type": "stream",
     "text": [
      "\r",
      "  3%|█████▎                                                                                                                                                             | 32/986 [23:48<12:36:28, 47.58s/it]"
     ]
    },
    {
     "name": "stdout",
     "output_type": "stream",
     "text": [
      "generated explanation: <pad> <extra_id_0> A chess set is a traditional form of chess, and it is often used to play a variety of games, including chess and card games. It is also a popular choice for players who want to play a game of chess, as it is often used to play cards and to make money. It is also a popular way to play chess and plays the game. It is also a great way to play chess and play a game of chess, as it is often used to play against other games, such as a card game, and other games, which are often used to play against other players. It is also a great way to play chess and to play against other players who are also good at chess and to play chess and to play a game. It is a great way to play chess and to play chess. It is also a great way to play a game of chess, as it is a great way to play a game of card game. It is also a great way to play chess and to play against other players to play the game. It is a great way to play the game, as it is a great way to play it in the game.</s>\n",
      "########\n",
      "*******\n",
      "question: Jack saw little point to communicating beyond the basics.  To him, it was just a means to do what?\n",
      "answer: exchange information\n",
      "choices: ['go swimming', 'making friends', 'exchange information', 'people to think', 'confusion']\n",
      "common expl list: [\"Keeping the communication sparse would allow him to conserve energy by speaking less. Since communication is just a means to exchanging information, Jack would not see much 'point', to say, a conversation beyond the basics.\"]\n"
     ]
    },
    {
     "name": "stderr",
     "output_type": "stream",
     "text": [
      "\r",
      "  3%|█████▍                                                                                                                                                             | 33/986 [26:51<23:19:09, 88.09s/it]"
     ]
    },
    {
     "name": "stdout",
     "output_type": "stream",
     "text": [
      "generated explanation: <pad> <extra_id_0> Jack is a small-hearted person who is primarily interested in the world and the people around him. They are interested in the world and the people around them. They are also interested in the world around them, and they are interested in the ideas and ideas they have for the future. They see little point in communicating beyond the basics. They see no point in communicating or relating to the world around them. They see no point in communicating with others, and they see no point in communicating with others. They see no point in expressing themselves or their families, and no point in expressing themselves through the world. They see communication as a means to communicate. They see no point in expressing their views and ideas, and they see the world around them as a means to communicate with others. They see no point in communicating with others. They see no point in communicating with others, and they see no point in communicating with others, and they see no point in a way to communicate with others, and to communicate with others, they see no point in communicating with each other. They see the world as a means to communicate with others, and they see no point in communicating with each other. They see no point in communicating through the basics. They see no point in a way to communicate with each other, and they see the value of communicating, and they see no point in communicating with each other as a means to communicate with each other as a way to communicate through the basics. They see the world as a means to communicate, and they see the world as a means to communicate, but they see the world as a means to communicate. They see the world as a way to communicate. They see the world as a means to communicate to others. They see the world as a means to communicate. They see the world as a way to communicate. The process of communicating, and to communicate with others. They see the world as a means to communicate with others, and to communicate. They see the world as a way to communicate. They see the world through the world through the world as a means to communicate. They see the world through the world through the world through the world through the world through the world through the world through the world through the world through the world through the world through the world through the world through the world through the world through the world through the world through the world through the world through the world through the world through the\n",
      "########\n",
      "*******\n",
      "question: I as a person don't kill others, why do I not?\n",
      "answer: value life\n",
      "choices: ['experience pleasure', 'laws', 'value life', 'thank god', 'go into debt']\n",
      "common expl list: [\"Someone who does not kill might have a great deal of respect for life; as a person's life is valuable, the opposite is true about the act of taking a life.\"]\n"
     ]
    },
    {
     "name": "stderr",
     "output_type": "stream",
     "text": [
      "\r",
      "  3%|█████▌                                                                                                                                                             | 34/986 [27:14<18:08:05, 68.58s/it]"
     ]
    },
    {
     "name": "stdout",
     "output_type": "stream",
     "text": [
      "generated explanation: <pad> <extra_id_0> I don't kill others, I am a person who values others and I am a person who values others. I am not a person who acts in a selfish way, but I am a person who values others and is not a person who acts in a selfish way. I am a person who values life and is not a criminal. I am a person who values others and is a person who values others. I am a person who values others and is a person who does not kill others, and I am not a person that does not act in a way that kills others. I am a person and I do not kill others because I am not a person. I am a person. I am not a person. I am a person. I am a person who is not a person who does not kill others because I do not want to kill others because it is a person who is not a person.<extra_id_1> </s>\n",
      "########\n",
      "*******\n",
      "question: What is likely to be a child's reaction to going to play?\n",
      "answer: happiness\n",
      "choices: ['happiness', 'tears', 'sit', 'being entertained', 'laugh']\n",
      "common expl list: ['Children like to play.']\n"
     ]
    },
    {
     "name": "stderr",
     "output_type": "stream",
     "text": [
      "\r",
      "  4%|█████▊                                                                                                                                                             | 35/986 [27:17<12:57:25, 49.05s/it]"
     ]
    },
    {
     "name": "stdout",
     "output_type": "stream",
     "text": [
      "generated explanation: <pad> <extra_id_0> A child's reaction to playing is likely to be a feeling of happiness. This is because playing is often a time for learning and developing skills, and it is often a time for fun. The play is also a time for learning and developing a sense of belonging. It is also a time for learning and developing new skills. It is also a time for developing confidence and confidence in the play environment. It is also a time for learning to play and develop a sense of belonging and belongingness. Playing is also a time for learning and development. Playing is a time for learning and development and development. Playing is a time for developing confidence and confidence in one's ability to learn new skills, and it is a time for developing confidence in the play.<extra_id_1> </s>\n",
      "########\n",
      "*******\n",
      "question: Where could you find multiple ruler that are owned by different people?\n",
      "answer: office\n",
      "choices: ['measure distance', 'england', 'office', 'drawer', 'desk']\n",
      "common expl list: ['When someone works in an office, even if it is part-time or freelance, they may be required to measure distances e.g., in departments or cubicles, and so, offices are a good place to find ruler.', 'Office buildings often have rulers.']\n"
     ]
    },
    {
     "name": "stderr",
     "output_type": "stream",
     "text": [
      "\r",
      "  4%|█████▉                                                                                                                                                             | 36/986 [27:53<11:55:07, 45.17s/it]"
     ]
    },
    {
     "name": "stdout",
     "output_type": "stream",
     "text": [
      "generated explanation: <pad> <extra_id_0> A ruler is a common item in an office setting. It is a common item in an office setting, and it is a common place for people to buy and use. It is also a great way to find multiple rulers that are owned by different people. This is because it is a common place for people to share their knowledge and opinions. It is also a great way to find a ruler that is used to make a statement and to help you make a decision. It is also a great way to create a number of different people's opinions and opinions, which can be used to create a variety of purposes, and is a great way to create a more powerful and more versatile rulers that are used to make a great way to make a business. It is also a great way to create a more effective way to make a difference between the different people's opinion. It also a powerful tool for a variety of different purposes. It is a great way to create a more personal and professional look for a person's business more productive.<extra_id_1> </s>\n",
      "########\n",
      "*******\n",
      "question: When remembering you referencing things that you have what?\n",
      "answer: prior knowledge of\n",
      "choices: ['memory cells', 'learning about', 'prior knowledge of', 'brain cells', 'nerve cells']\n",
      "common expl list: ['Most of the things a person knows come from learning in the past and usually have some recollection involved.']\n"
     ]
    },
    {
     "name": "stderr",
     "output_type": "stream",
     "text": [
      "\r",
      "  4%|██████                                                                                                                                                             | 37/986 [28:50<12:47:57, 48.55s/it]"
     ]
    },
    {
     "name": "stdout",
     "output_type": "stream",
     "text": [
      "generated explanation: <pad> <extra_id_0> You have prior knowledge of the specifics of a given topic. This knowledge helps to ensure that you have a clear understanding of the topic and the meaning of the reference. This knowledge helps to ensure that you have a clear understanding of the subject. Additionally, prior knowledge of the reference is important to ensure that you have the ability to recall information from a variety of sources. This knowledge helps to ensure that you have the ability to recall specific information quickly and easily. Ultimately, prior knowledge of the topic helps to ensure that you have the ability to recall specific sources of reference. Additionally, prior knowledge of the referenced items is essential to referencing them. This knowledge can be used to help to identify the relevant information when referencing them. This knowledge can also help to identify the relevant information. Lastly, prior knowledge of the reference points in the context of the reference point in the context of the reference point in the context of the reference point in the context of the reference point in the context of the reference point in the context of the context of the reference point in the context of the reference point in the context of the reference point in the context of the reference point in the context of the reference point in the context of the reference point in the context of the reference point in the context of the reference point in the context of the reference point in</s>\n",
      "########\n",
      "*******\n",
      "question: After running twenty six miles he felt like he had lost twenty six pounds, this was from all the what?\n",
      "answer: sweat\n",
      "choices: ['exercise', 'sweat', 'pass out', 'collapse', 'drink water']\n",
      "common expl list: ['Sweating is a way to cool down the body, and so after running for a long time, a person might sweat a lot.']\n"
     ]
    },
    {
     "name": "stderr",
     "output_type": "stream",
     "text": [
      "\r",
      "  4%|██████▎                                                                                                                                                            | 38/986 [29:05<10:09:55, 38.60s/it]"
     ]
    },
    {
     "name": "stdout",
     "output_type": "stream",
     "text": [
      "generated explanation: <pad> <extra_id_0> After running twenty six miles he felt like he had lost twenty six pounds, this was from sweat. This is because sweat is a natural part of the body and is a source of intense physical and mental stress. It is also a source of energy and mental stress, which is a source of intense physical stress. It is a source of energy and mental stress. Running twenty six miles is a great way to get the body moving and moving, and it is a great way to help you get a better sense of fitness, and sweat helps you feel healthier. This is due to sweaty, sweaty, sweaty, sweaty, sweaty, sweaty, sweaty, sweaty, sweaty, sweaty, sweaty, and sweaty, which is why sweaty, because sweaty, sweaty, sweaty, sweaty, sweaty, sweaty, and sweaty, sweaty feeling.<extra_id_1> </s>\n",
      "########\n",
      "*******\n",
      "question: In what western sate might one find a bald eagle?\n",
      "answer: colorado\n",
      "choices: ['captivity', 'colorado', 'zoo', 'canada', 'in washington']\n",
      "common expl list: ['Eagles are native to the western United States, and Colorado is a western state.']\n"
     ]
    },
    {
     "name": "stderr",
     "output_type": "stream",
     "text": [
      "\r",
      "  4%|██████▍                                                                                                                                                             | 39/986 [29:08<7:19:39, 27.86s/it]"
     ]
    },
    {
     "name": "stdout",
     "output_type": "stream",
     "text": [
      "generated explanation: <pad> <extra_id_0> In what western sate might one find a bald eagle, one might find a colorado bald eagle in colorado. Colorado is a migratory eagle that is found in the woods of the western sate, the colorado, and is a common sight for bald eagles. The colorado is a common species in the western sate of colorado, and is often found in the woods of colorado is also found in the woods.</s>\n",
      "########\n",
      "*******\n",
      "question: When a retired person returns to work they likely need to do what?\n",
      "answer: earn money\n",
      "choices: ['key', 'earn money', 'get out of bed', 'need money', 'understand themselves']\n",
      "common expl list: ['When a person is retired, they probably are not making enough money through a pension benefit to support themselves after retirement, so they work again, perhaps full-time, in order to have enough money.(money key)']\n"
     ]
    },
    {
     "name": "stderr",
     "output_type": "stream",
     "text": [
      "\r",
      "  4%|██████▋                                                                                                                                                             | 40/986 [29:14<5:36:12, 21.32s/it]"
     ]
    },
    {
     "name": "stdout",
     "output_type": "stream",
     "text": [
      "generated explanation: <pad> <extra_id_0> When a retired person returns to work, they may need to do something that will help them earn money. This can help them to maintain a healthy lifestyle and to maintain a healthy lifestyle. Additionally, retirement can also help them to earn a living, which is why it is important to have a plan in place to work and to be able to live a healthy lifestyle. This can help to keep the mind open about the future and the future. This can help to ensure that retirement is a time to enjoy and enjoy life. Lastly, retirement can also help to make a living on the job. Finally, retirement can help to maintain a healthy and active lifestyle, which means that retirement can be a good time for retirement. The retirement period is a great way to keep up with the changes that are necessary to keep up with the retirement years.<extra_id_1> </s>\n",
      "########\n",
      "*******\n",
      "question: What can be the result of meeting people with similar attitudes?\n",
      "answer: making new friends\n",
      "choices: ['anxiety', 'being bored', 'love', 'making new friends', 'new job']\n",
      "common expl list: ['People with similar interests are likely to be friends, or familiars to each other, having many opportunities to meet each other and have things in common to discuss.', \"Friends often share some interests and/or attitudes, and when someone meets people with similar attires, that's a good indicator they might be good candidates for becoming friends.\"]\n"
     ]
    },
    {
     "name": "stderr",
     "output_type": "stream",
     "text": [
      "\r",
      "  4%|██████▊                                                                                                                                                             | 41/986 [29:17<4:09:14, 15.82s/it]"
     ]
    },
    {
     "name": "stdout",
     "output_type": "stream",
     "text": [
      "generated explanation: <pad> <extra_id_0> Making new friends can be a great way to make new friends by meeting people who have similar values and beliefs. Meeting people who have similar values can be a great way to make new friends. They can also help to improve relationships and make new friends. In addition, it can help to build relationships and build trust. This helps to build trust and respect among others. In addition, new friends can help to foster trust and friendship. In addition, it can help to build trust and trust. In addition, it can help to build trust and trust in one another. It can help to build trust and friendship. It can help to build trust and confidence in one another.<extra_id_1> </s>\n",
      "########\n",
      "*******\n",
      "question: Danny noticed a ceramic object on the table and picked a grape out of it.  What might have been on the table?\n",
      "answer: bowl of fruit\n",
      "choices: ['kitchen', 'painting of fruits', 'fruit basket', 'bowl of fruit', 'fruit stand']\n",
      "common expl list: ['A bowl of fruit is an appropriate item to put on a table, as it can hold many kinds of fruit.']\n"
     ]
    },
    {
     "name": "stderr",
     "output_type": "stream",
     "text": [
      "\r",
      "  4%|██████▉                                                                                                                                                             | 42/986 [29:21<3:11:16, 12.16s/it]"
     ]
    },
    {
     "name": "stdout",
     "output_type": "stream",
     "text": [
      "generated explanation: <pad> <extra_id_0> A bowl of fruit may have been on the table. It may have been a bowl of fruit, a grape, or a bowl of fruit. A bowl of grapes is a bowl of fruit that is made of ceramic objects and is a bowl of fruit. It is a bowl of fruit that is a container of grapes and a bowl of fruit. It is a bowl of fruit that is made of ceramic objects and is shaped like a bowl of grape. The bowl of grape is a container of grapes, and the ceramic objects are used to make a bowl of fruit, and it is used to make a bowl of grapes.<extra_id_1> </s>\n",
      "########\n",
      "*******\n",
      "question: The nose dipped and alarms went off inside the what?\n",
      "answer: aircraft\n",
      "choices: ['car', 'sniff', 'aircraft', 'upper respiratory tract', 'missile']\n",
      "common expl list: ['The nose dips and alarms go off inside the cockpit of an aircraft when the nose of the aircraft dips too low.']\n"
     ]
    },
    {
     "name": "stderr",
     "output_type": "stream",
     "text": [
      "\r",
      "  4%|███████                                                                                                                                                            | 43/986 [31:24<11:55:14, 45.51s/it]"
     ]
    },
    {
     "name": "stdout",
     "output_type": "stream",
     "text": [
      "generated explanation: <pad> <extra_id_0> The nose dipped and alarms went off inside the aircraft. aircraft were designed to be able to operate without a single engine. This is because the engine is designed to operate independently of the aircraft. This is because the engine is designed to operate independently and without a single engine. The engine is designed to be able to operate without a single engine. The engine is designed to operate independently of the aircraft and can be operated with a single engine. This is because the engine is designed to operate independently of the aircraft. The engine is designed to operate independently of the aircraft, which is designed to operate independently of the aircraft. The engine is designed to operate independently of the aircraft. The engine is designed to operate independently of the aircraft engine. It is designed to operate independently of the aircraft engine is designed to operate independently of the aircraft engine, and it is designed to operate independently of the aircraft, so it is designed to operate independently of the aircraft engine. The engine is designed to operate independently of the aircraft, so it is designed to operate independently of the engine, and it is designed to operate independently of the engine. The engine is designed to operate independently of the engine, so it is designed to operate independently of the aircraft, and it is designed to operate independently of the aircraft to operate independently of the aircraft is designed to operate independently of the engine, and it is designed to operate independently of the engine, so it is designed to operate independently of the engine, so it is designed to operate independently of the engine, so it is designed to operate independently of the engine, so it is designed to operate independently of the engine, so it is designed to operate independently of the engine,</s>\n",
      "########\n",
      "*******\n",
      "question: Where is a cord likely to be on a tent?\n",
      "answer: sporting goods store\n",
      "choices: ['inside tent', 'delivery room', 'hardware store', 'backpack', 'sporting goods store']\n",
      "common expl list: ['Sporting goods stores likely have tents on display which generally come with their cords.']\n"
     ]
    },
    {
     "name": "stderr",
     "output_type": "stream",
     "text": [
      "\r",
      "  4%|███████▎                                                                                                                                                           | 44/986 [32:50<15:05:44, 57.69s/it]"
     ]
    },
    {
     "name": "stdout",
     "output_type": "stream",
     "text": [
      "generated explanation: <pad> <extra_id_0> A cord is a type of cord that is usually found in a sporting goods store. It is usually found in a sporting goods store, such as a sporting goods store, sporting goods store, or sporting goods store. This is because a cord is typically used to connect a tent to a cable. A cord can be used to connect a cord to a tent, which is usually used to connect a tent to a sporting goods store. A cord is also used to attach a cord to a cord, which can be used to connect a cord to a tent to connect the cord to a tent. The cord can be used to connect a tent to a sporting goods store, sporting goods store, or sporting goods store. The cord can also be used to secure the cord to a tent to a tent. The cord can be used to connect a cord to a sporting goods store, sporting goods store, sporting goods store, sporting goods store, or other cord to a tent. A cord can be used to secure the tent to a cord to a string or a cord to a string, and it can be used to secure a cord, and it can be used to secure the cord to a cord, and it can be used to secure the cord to a cord to a cord, and it can be used to secure the cord to a cord to a cord to a cord, and it can be used to secure the cord to a cord to secure the cord to a cord, and</s>\n",
      "########\n",
      "*******\n",
      "question: The man reduced the town to rubble out of hate, what was his goal?\n",
      "answer: destroy enemy\n",
      "choices: ['wage war', 'play nice', 'fight enemy', 'stab to death', 'destroy enemy']\n",
      "common expl list: ['someone who is completely obsessed with destroying an enemy (going so far as to want them completely obliterated from existance) is not a person who is playing nice.']\n"
     ]
    },
    {
     "name": "stderr",
     "output_type": "stream",
     "text": [
      "\r",
      "  5%|███████▍                                                                                                                                                           | 45/986 [33:10<12:04:26, 46.19s/it]"
     ]
    },
    {
     "name": "stdout",
     "output_type": "stream",
     "text": [
      "generated explanation: <pad> <extra_id_0> The man reduced the town to rubble out of hate out of fear, what was his goal? The man reduced the town to rubble out of hatred, and destroyed enemy. The man also reduced the town to rubble out of fear, and destroyed the enemy. The man reduced the town to rubble out of hate, and destroyed enemy. The man also reduced the town to rubble out of hate, which was his goal. The man also reduced the town to rubble out of fear, and destroyed enemy. The man reduced the town to rubble out of fear, and the town was destroyed. The man also reduced the town to rubble out of hate, and he reduced the town to rubble to rubble out of hate. He also reduced the town to rubble out of hatred. The man also reduced the town to rubble out of hate, and he reduced the town to rubble out of hateful acts of hate, which he was trying to destroy enemy.<extra_id_1> </s>\n",
      "########\n",
      "*******\n",
      "question: The toddler thought it would be fun to try eating breakfast in bed, what resulted?\n",
      "answer: mess\n",
      "choices: ['contentment', 'indigestion', 'vomiting', 'mess', 'catastrophe']\n",
      "common expl list: [\"Toddlers have poor coordination.  Even if they could somehow manage to not fall off the bed, it's likely that they would spill the food that they took with them to bed.  A mess would be made.\", \"Toddlers like to explore and test their own boundaries. They often don't know their limits, and it's common for their behavior to result in a mess. In the toddler's case, it involved getting breakfast on the bed due to his inexperience\"]\n"
     ]
    },
    {
     "name": "stderr",
     "output_type": "stream",
     "text": [
      "\r",
      "  5%|███████▋                                                                                                                                                            | 46/986 [33:13<8:42:17, 33.34s/it]"
     ]
    },
    {
     "name": "stdout",
     "output_type": "stream",
     "text": [
      "generated explanation: <pad> <extra_id_0> The toddler thought it would be fun to try eating breakfast in bed, which resulted in mess. This is because the toddler was able to eat their breakfast in bed without having to leave the bed. This is because the toddler is a natural eater and is able to eat their breakfast without having to leave the bed. The toddler is also able to enjoy their breakfast in bed without having to leave the bed. The toddler is able to enjoy their breakfast in bed without having to leave the bed. The toddler is able to enjoy his breakfast without having to leave the bed because it was fun to eat it would be fun to eat breakfast in bed without having to leave the bed, the toddler can enjoy the fun of eating breakfast in bed.<extra_id_1> </s>\n",
      "########\n",
      "*******\n",
      "question: He had a hard time getting his father's attention, he hoped that the winning baseball game would finally get him some what?\n",
      "answer: recognition\n",
      "choices: ['confirmation', 'celebrating', 'pride', 'recognition', 'happiness']\n",
      "common expl list: ['One way to gain recognition from ones parents is by accomplishing things that they value. For example, children might hope to make their parents proud of them by excelling at sports.']\n"
     ]
    },
    {
     "name": "stderr",
     "output_type": "stream",
     "text": [
      "\r",
      "  5%|███████▊                                                                                                                                                            | 47/986 [33:16<6:22:10, 24.42s/it]"
     ]
    },
    {
     "name": "stdout",
     "output_type": "stream",
     "text": [
      "generated explanation: <pad> <extra_id_0> He hoped that the winning baseball game would finally get his father's attention. He hoped that the winning game would give him some recognition for his efforts. He hoped that the winning pitcher would get his father's attention and he would finally get some recognition for his efforts. He hoped that the winning baseball game would give him some recognition for his efforts. He hoped that the winning pitcher would finally get his father's attention, which would be a huge help to his career. He hoped that the winning pitcher would finally get him some recognition. He had to win the game, but he had to win the game and get his father's attention, which would also help him get his father's attention, and that he would eventually get some recognition.</s>\n",
      "########\n",
      "*******\n",
      "question: The toddler is awaking from a nap, what doesn't he feel anymore?\n",
      "answer: tiredness\n",
      "choices: ['nervous', 'eyes opening', 'getting out of bed', 'tiredness', 'discomfort']\n",
      "common expl list: ['Children can easily get tired at their ontervall and a nap is an effective way for them to get over tiredness. Then when they wake up, they do not feel tiredness any longer.']\n"
     ]
    },
    {
     "name": "stderr",
     "output_type": "stream",
     "text": [
      "\r",
      "  5%|███████▉                                                                                                                                                            | 48/986 [33:24<5:04:49, 19.50s/it]"
     ]
    },
    {
     "name": "stdout",
     "output_type": "stream",
     "text": [
      "generated explanation: <pad> <extra_id_0> The toddler is awaking from a nap, and he doesn't feel any more tiredness. The toddler is awaking from a nap and is experiencing a sense of tiredness and tiredness. The toddler is experiencing tiredness and tiredness because of the nap. The toddler is awaking from a nap and is experiencing tiredness and tiredness. It is not a sign of tiredness. It is a sign of a lack of sleep. It is a sign of a lack of energy and energy levels of the brain, and it is important for the brain to be able to take the time to rest and to rest. The toddler is awaking from a nap and to wake up feeling tiredness. It is important to remember to take time for the toddler to wake up and to rest. This is because tiredness and fatigue.<extra_id_1> </s>\n",
      "########\n",
      "*******\n",
      "question: John listened to music when he needed to focus.  It helped him achieve what?\n",
      "answer: quiet mind\n",
      "choices: ['express emotion', 'beautifull', 'irritate', 'bad environment', 'quiet mind']\n",
      "common expl list: [\"When one is trying to focus on a task, it's common to listen to music to help one focus.\", 'Music can, at the very least, provide passive background noise as one works to help one focus. More specifically, music might have positive, uplifting or emotional qualities that are conducive to focus and concentration.', \"There's scientific evidence that listening to music can help people think better and concentrate easier.\"]\n"
     ]
    },
    {
     "name": "stderr",
     "output_type": "stream",
     "text": [
      "\r",
      "  5%|████████▏                                                                                                                                                           | 49/986 [34:26<8:19:23, 31.98s/it]"
     ]
    },
    {
     "name": "stdout",
     "output_type": "stream",
     "text": [
      "generated explanation: <pad> <extra_id_0> John listened to music when he needed to focus. It helped him achieve a quiet mind. It also helped him focus more clearly. It helped him to focus more clearly. It helped him to focus more effectively and to achieve a more focused state. Music helped John to focus and to focus better. Music also helped John to keep his mind clear and focused. Music also helped John focus more effectively. It helped John to focus and focus more effectively. Music also helped John to focus on his work and study. Music helped him to focus more easily and effectively concentrate. Music helped him achieve his goals. It also helped him to focus more effectively. Music also helped him to be more focused and focused. Music also helped him focus more effectively. It also helped John to achieve his goals. Music also helped him to be more focused and focused. Music helped him to achieve his goals because it helped him to be more focused and focused. Music also helped John to achieve his goals. Music was instrumental in his focus and focus. Music helped him achieve his goals. Music helped him to achieve his goal by allowing him to focus more easily. Music helped him focus his mind. Music helped him achieve his goals more quickly and efficiently. It helped him to focus and focus. Music helps him to focus on his thoughts and feelings more easily. It helped him to focus more easily.<extra_id_1> </s>\n",
      "########\n",
      "*******\n",
      "question: If I were to suffer from sudden illness I would be within reason to visit where?\n",
      "answer: hospital\n",
      "choices: ['nursing home', 'hospital', 'brain', 'elderly person', 'building']\n",
      "common expl list: ['A hospital is a place where people go to receive treatment for illnesses.', 'If you were suddenly suffering an illness, it would be a reasonable thing to go to the hospital for treatment of that illness.', 'Anyone can suffer a sudden illness, but hospitals are where the equipment and personnel exist to deal with sudden illnesses.', 'A hospital is a center for treatment and care of those suffering from illness.']\n"
     ]
    },
    {
     "name": "stderr",
     "output_type": "stream",
     "text": [
      "\r",
      "  5%|████████▎                                                                                                                                                          | 50/986 [36:39<16:12:15, 62.32s/it]"
     ]
    },
    {
     "name": "stdout",
     "output_type": "stream",
     "text": [
      "generated explanation: <pad> <extra_id_0> I would be within reasonable reason to visit a hospital if I were to suffer from sudden illness. I would be able to visit a hospital if I were to suffer from sudden illness. I would be within reasonable reason to visit a hospital if I were to suffer from sudden illness. I would also be able to visit a medical facility for treatment of my illness. I would also be able to visit a hospital for treatment if I was to suffer from sudden illness. I would be able to visit a hospital if I were to visit a hospital if I was to visit a medical emergency. Hospital is a good option. I would be able to visit a hospital for treatment if I was diagnosed a sudden illness would be able to visit a hospital for treatment. I would also be able to visit a hospital if I have a reasonable distance from the hospital. I would be able to visit a hospital if I were to visit a hospital if I was unable to visit a hospital because I would be unable to visit a hospital. I would be able to suffer from sudden illness. Hospital is a hospital because I would be able to suffer from sudden illness. I would be unable to visit a hospital if I would be unable to visit a hospital because I would be unable to visit a hospital because I would be unable to visit a hospital because I would be unable to visit a hospital because I would be unable to visit a hospital because I would be unable to visit a hospital because I would be unable to visit a hospital because I would be unable to visit a hospital because I would be unable to visit a hospital because I would</s>\n",
      "########\n",
      "*******\n",
      "question: John kept standing up.  He was afraid that if he were sitting down he might do something. What might he be afraid of?\n",
      "answer: fall asleep\n",
      "choices: ['fall asleep', 'being supported on chair', 'comfort', 'clowns', 'flatulence']\n",
      "common expl list: ['When standing, the chances of falling asleep abruptly would be much less (assuming that one is awake).', 'Sitting down makes one comfortable; sitting down with eyes closed makes one fall asleep.']\n"
     ]
    },
    {
     "name": "stderr",
     "output_type": "stream",
     "text": [
      "\r",
      "  5%|████████▍                                                                                                                                                          | 51/986 [37:03<13:14:56, 51.01s/it]"
     ]
    },
    {
     "name": "stdout",
     "output_type": "stream",
     "text": [
      "generated explanation: <pad> <extra_id_0> John was afraid of falling asleep because he was standing up. Sleeping is a dangerous activity that can lead to physical pain, especially if you are sitting down. Sleeping is a dangerous activity that can lead to physical pain, and it can lead to mental comaxions, such as a headache, insomnia, and depression. Lie down and stand up is a great way to stay alert and alert when you are falling asleep. Sleeping is a great way to stay alert and alert when you are standing up. Sleeping is a great way to stay awake and alert when you are sitting down, which can lead to mental alertness, alert when you are sitting down. Sleeping is a great way to stay alert when you are able to stay alert when you are standing up. Sleeping. Sleeping is a great way to stay alert when you are standing up and alert when you are sitting down, so standing up can be a great way to stay alert when you are sleeping.<extra_id_1> </s>\n",
      "########\n",
      "*******\n",
      "question: He didn't know that good things can be posion in large doses.  He thought that he was just eating an essential what?\n",
      "answer: nutrient\n",
      "choices: ['antidote', 'consumable', 'nutrient', 'vitamin', 'medicine']\n",
      "common expl list: ['He thought that he was just eating an essential nutrient, but in large doses, it could be poisonous.']\n"
     ]
    },
    {
     "name": "stderr",
     "output_type": "stream",
     "text": [
      "\r",
      "  5%|████████▋                                                                                                                                                           | 52/986 [37:05<9:25:52, 36.35s/it]"
     ]
    },
    {
     "name": "stdout",
     "output_type": "stream",
     "text": [
      "generated explanation: <pad> <extra_id_0> He didn't know that good things can be posion in large doses. He thought that he was just eating essential nutrients. He didn't know that nutrients are essential to life. He didn't know that nutrient is a key to life. He didn't know that he was eating essential nutrients in large doses. He didn't know that nutrient-rich foods are essential to life. He didn't know that he was just eating essential nutrients. He didn't know that nutrients can be taken in large doses.</s>\n",
      "########\n",
      "*******\n",
      "question: The police didn't pay any favors, their job was to what?\n",
      "answer: force law\n",
      "choices: ['force law', 'board vessels', 'arrest', 'arm weapons', 'direct traffic']\n",
      "common expl list: ['Police are usually tasked with upholding the law, and if they see a law being broken they will intervene (forceful intervention); moreover, they also coordinate with other officers (direct traffic and board vessels). These activities do not involve favors.']\n"
     ]
    },
    {
     "name": "stderr",
     "output_type": "stream",
     "text": [
      "\r",
      "  5%|████████▊                                                                                                                                                           | 53/986 [37:09<6:50:40, 26.41s/it]"
     ]
    },
    {
     "name": "stdout",
     "output_type": "stream",
     "text": [
      "generated explanation: <pad> <extra_id_0> The police didn't pay any favors, their job was to force the law. The police were the only people who were responsible for the police. They were the ones who were obligated to do the right thing. They were also the ones who were obligated to do the right thing. They were the ones who were obligated to do the right thing. They were also the ones who were obligated to do the right thing and the people who were obligated to do the right thing. They were the ones who were obligated to do the right thing. They were also the right thing and were responsible for the cause of the law. They were also the ones that were obligated to do the right thing. They were the police force.</s>\n",
      "########\n",
      "*******\n",
      "question: The place specialized in colorful arrangements, but the also had a toy balloon or two where?\n",
      "answer: flower shop\n",
      "choices: ['see work', 'birthday party', 'flower shop', 'parade', 'toy store']\n",
      "common expl list: ['Flower shops sell interesting arrangements made with colorful flowers.', 'Batches of balloons are available at flower shops, where floral arrangements are sold, and rainbow contruction paper is usually found in art shops and classrooms.']\n"
     ]
    },
    {
     "name": "stderr",
     "output_type": "stream",
     "text": [
      "\r",
      "  5%|████████▉                                                                                                                                                           | 54/986 [37:31<6:32:56, 25.30s/it]"
     ]
    },
    {
     "name": "stdout",
     "output_type": "stream",
     "text": [
      "generated explanation: <pad> <extra_id_0> The flower shop also had a toy balloon or two. The place specialized in colorful arrangements, but the place also had a toy balloon or two where? The place was located in the middle of the street, and the flower shop was located in the middle of the street, so the place was a great place for a fun and colorful place to display flowers. The place also had a flower shop that also had a toy balloon or two. The place also had a flower shop that also had a flower shop. The flower shop also had a toy balloon and a toy balloon was also available for sale. The place was located in the middle of the street, and the place was also a flower shop. The flower shop was located in the center of the store. The place also had a flower shop. The place was also a flower shop. The place was located in the city of a flower shop because it was a popular destination for flower arrangements, but it also had a toy balloon and a flower shop.</s>\n",
      "########\n",
      "*******\n",
      "question: Where was there never any mammoth?\n",
      "answer: zoo\n",
      "choices: ['wild', 'north dakota', 'forest', 'movie', 'zoo']\n",
      "common expl list: ['Mammoths are extinct, and zoos are places where animals are kept for observation and study.']\n"
     ]
    },
    {
     "name": "stderr",
     "output_type": "stream",
     "text": [
      "\r",
      "  6%|█████████▏                                                                                                                                                          | 55/986 [37:34<4:44:37, 18.34s/it]"
     ]
    },
    {
     "name": "stdout",
     "output_type": "stream",
     "text": [
      "generated explanation: <pad> <extra_id_0> There was never any mammoth at a zoo because of the lack of food and the lack of resources available to the mammal population. Zoos are also home to many mammals, including zoos, zoos, and zoos. Zoos are also home to a variety of mammals, including zoos, zoos, and zoos. They are also home to a variety of other animals, including lizards, lizards, wolves, and other animals.</s>\n",
      "########\n",
      "*******\n",
      "question: Why do most people engage in chatting with friends?\n",
      "answer: fun\n",
      "choices: ['fun', 'love', 'answers', 'inspiration', 'relaxation']\n",
      "common expl list: ['Chats with friends are often fun, and thus people engage in them for that reason.']\n"
     ]
    },
    {
     "name": "stderr",
     "output_type": "stream",
     "text": [
      "\r",
      "  6%|█████████▎                                                                                                                                                          | 56/986 [38:36<8:11:01, 31.68s/it]"
     ]
    },
    {
     "name": "stdout",
     "output_type": "stream",
     "text": [
      "generated explanation: <pad> <extra_id_0> People engage in chatting with friends for fun because they are able to share information and share experiences. They also engage in socializing with others, which is why it is so important to share information with others. This is because chatting with friends is a great way to bond and share ideas and experiences, and because it is a way to build relationships. It also helps to make new friends and to build relationships. This is because it is a way to build relationships and build relationships. Also, it is a way to share experiences and experiences, which is why people engage in a variety of reasons why people engage in a variety of interests. This is because they are a way to connect and connect with each other and to make new friends. This is because it is a way to make new friends and to make new friends. This is because chatting with friends is a way to make new friends and to make new friends and to make new friends. This is a way to connect and to share. This is why people engage in a way to share their interests and to connect and share ideas and ideas. This allows people to connect and share ideas and to share ideas and to make new friends. This is a way for people to connect with each other and to make new friendships. It is a way for people to learn new skills and to share ideas and to make new friends and to share new experiences.<extra_id_1> </s>\n",
      "########\n",
      "*******\n",
      "question: What could happen after discovering truth that you did not want to know?\n",
      "answer: pain\n",
      "choices: ['pain', 'relief', 'grey hair', 'understanding', 'enlightenment']\n",
      "common expl list: ['Truth can be painful, and discovering it can cause pain.']\n"
     ]
    },
    {
     "name": "stderr",
     "output_type": "stream",
     "text": [
      "\r",
      "  6%|█████████▍                                                                                                                                                         | 57/986 [40:20<13:44:41, 53.26s/it]"
     ]
    },
    {
     "name": "stdout",
     "output_type": "stream",
     "text": [
      "generated explanation: <pad> <extra_id_0> When you discover truth that you did not want to know, you may experience pain. This can be caused by a variety of factors, including the difficulty of gaining access to the truth. The pain can also be caused by the difficulty of finding the truth that you did not want to know. The pain can be caused by the pain of finding the truth that you did not want to know. The pain of finding truth can be triggered by the pain of knowing the truth and knowing the truth. The pain can also be caused by the pain of discovering truth. The pain can be a common problem for the person who did not want to know. The pain can also be caused by the pain that you have found the truth. The pain can also be caused by the pain of knowing the truth and the pain of knowing the truth. The pain is a natural reaction to the truth and the pain of knowing the truth that you did not want to know the truth and to be a natural way of knowing the truth and to be able to find the truth that you did not want to know the truth. The pain and the pain and the pain and the pain that you did not want to know the truth and to be a source of pain and the pain that you do not want to know the truth and to be a part of the truth and to be able to be a part of the truth and to be able to be able to be able to be able to be able to be able to be able to be able to be able to be able to be able to be able to be</s>\n",
      "########\n",
      "*******\n",
      "question: What will an athlete do to warm up their legs?\n",
      "answer: jog\n",
      "choices: ['use heater', 'sprint', 'jog', 'run fast', 'compete']\n",
      "common expl list: ['warming up is a routine that is performed to either prepare for doing something new, or prepare for doing something which put strains on you, or which you have been out of practice doing.', 'When athletes warm up before swimming, running, riding a bike, or performing other physical activity, they generally will jog (which will help them loosen muscles in the legs).']\n"
     ]
    },
    {
     "name": "stderr",
     "output_type": "stream",
     "text": [
      "\r",
      "  6%|█████████▌                                                                                                                                                         | 58/986 [41:25<14:40:51, 56.95s/it]"
     ]
    },
    {
     "name": "stdout",
     "output_type": "stream",
     "text": [
      "generated explanation: <pad> <extra_id_0> An athlete will jog to warm up their legs. Jogs are designed to help athletes develop a strong, strong, and flexible body. They are a great way to build muscle tone and improve the strength of their muscles. They also help to keep their muscles in good shape. They also help to keep their muscles in good shape. They also help to keep their core warm and strengthen their muscles. jogs are a great way to increase muscle strength and endurance. They also help to keep their muscles and joints in good shape. jogs are great for strengthening their muscles and a great way to keep warm and tone their muscles. It is a great way to keep their muscles in good shape and maintain their muscles. This will help to keep their muscles in place. This will help to keep their muscles in a healthy and strong enough to maintain a healthy and fit body. This is a great way to help keep their core and joints warm. Additionally, jogs are a great way to keep their core muscles in the right place. Additionally, jogs are also a great way to keep their muscles in the right place. Lastly, jogs are a great way to keep their feet warm and help to keep them warm and keep them in the right places.<extra_id_1> </s>\n",
      "########\n",
      "*******\n",
      "question: Where can you keep your binder on your person between periods of instruction?\n",
      "answer: backpack\n",
      "choices: ['class room', 'car', 'office supply store', 'backpack', 'bookcase']\n",
      "common expl list: ['Usually binder users carry their binders from class to class outside of the classroom. Backpacks are often convenient, and are large enough to hold the binder.']\n"
     ]
    },
    {
     "name": "stderr",
     "output_type": "stream",
     "text": [
      "\r",
      "  6%|█████████▊                                                                                                                                                         | 59/986 [41:35<11:00:24, 42.75s/it]"
     ]
    },
    {
     "name": "stdout",
     "output_type": "stream",
     "text": [
      "generated explanation: <pad> <extra_id_0> A binder is a handy companion for any teacher who is on the go or doing a lot of work. In between periods of instruction, it can be used to store your notes, notes, and other important documents. It can also be used to carry your own personal items, such as books, magazines, and other small items. It can also be used to store your personal items in a backpack, such as pens, notebooks, or other items that are needed to keep your items organized. The binder can also be used to store items such as a variety of other items such as a notebook, a book, and other things that are important to your body. This can also be used as a way to keep track of your activities. This way, as it can also be used to keep track of your personal information, such as a list of important information about your personal items.<extra_id_1> </s>\n",
      "########\n",
      "*******\n",
      "question: In the middle of the day what will someone do because of being hungry?\n",
      "answer: have lunch\n",
      "choices: ['cook dinner', 'make bread', 'eat in restaurant', 'have lunch', 'make bread']\n",
      "common expl list: [\"It's common for folks to have lunch during the middle of the day.\", 'People often eat lunch at midday, and so, if they are hungry at midday, they might go to a restaurant to eat lunch.']\n"
     ]
    },
    {
     "name": "stderr",
     "output_type": "stream",
     "text": [
      "\r",
      "  6%|█████████▉                                                                                                                                                          | 60/986 [41:37<7:51:47, 30.57s/it]"
     ]
    },
    {
     "name": "stdout",
     "output_type": "stream",
     "text": [
      "generated explanation: <pad> <extra_id_0> In the middle of the day, someone will be hungry because of being hungry. In the middle of the day, someone will be hungry for a long time. This is because being hungry can cause them to crave more food. This can be a sign of a person being hungry. In the middle of the day, someone will often feel hungry because of being hungry. In the middle of the day, people will be hungry. In the middle of the day, people will be hungry for lunch, which can be a great way to get a quick fix, and it can be a good snack.</s>\n",
      "########\n",
      "*******\n",
      "question: Where is garbage brought to by garbagemen?\n",
      "answer: landfill\n",
      "choices: ['trashcan', 'landfill', 'television', 'computer', 'dumpster']\n",
      "common expl list: ['Landfills are where all the trash in the city go to.']\n"
     ]
    },
    {
     "name": "stderr",
     "output_type": "stream",
     "text": [
      "\r",
      "  6%|██████████▏                                                                                                                                                         | 61/986 [41:49<6:26:32, 25.07s/it]"
     ]
    },
    {
     "name": "stdout",
     "output_type": "stream",
     "text": [
      "generated explanation: <pad> <extra_id_0> Garbage is brought to landfills for processing, recycling, and recycling. Garbage is brought to landfills for recycling, recycling, and recycling. The landfills are located in the city of Los Angeles, California, and are located in the city of Los Angeles. They are located in the city of Los Angeles, San Francisco, and San Francisco. They are located in the heart of the city, and they are located in the city's downtown area. They are located in the city's downtown core, and they are located in the city's downtown area. They are known for their work, work, and play an important part of the city's economy. They are also known for their work, and they are also known for their work, and they are also known for their work, and they are also known as the \"Ganassos, California, where the city is a great place to work.</s>\n",
      "########\n",
      "*******\n",
      "question: What are people doing when washing hands for a long time?\n",
      "answer: thinking\n",
      "choices: ['thinking', 'sleeping', 'use soap', 'irritation', 'cleaning dirt off']\n",
      "common expl list: ['People often think about things while they are washing their hands, and this is a good time to think about things.', 'People often just pause while washing their hands. It may be that they are thinking about something while this occurs naturally.']\n"
     ]
    },
    {
     "name": "stderr",
     "output_type": "stream",
     "text": [
      "\r",
      "  6%|██████████▎                                                                                                                                                         | 62/986 [42:05<5:42:14, 22.22s/it]"
     ]
    },
    {
     "name": "stdout",
     "output_type": "stream",
     "text": [
      "generated explanation: <pad> <extra_id_0> People are thinking about washing hands for a long time. People are thinking about washing hands for a long time, because thinking is the most important thing to wash hands. Often people think about washing hands for a long time, and thinking about the future. This is because washing hands is a natural way to prevent stress and stress. Often people think about the future and think about the future. Washing hands is a way to reduce stress and stress, as it helps to reduce stress and stress. It also helps to reduce stress and anxiety, as it helps to reduce stress and stress, as it helps to think about the future. Often, washing hands can be a good way to prevent stress and stress. Washing hands is a way to prevent stress and stress, as it can also help to prevent the stress and stress. Using washing hands for a long time, as it helps to prevent the stress and stress associated with washing hands.<extra_id_1> </s>\n",
      "########\n",
      "*******\n",
      "question: What would someone say about a tube television?\n",
      "answer: obsolete\n",
      "choices: ['obsolete', 'addictive', 'entertaining', 'bycone', 'legal']\n",
      "common expl list: ['Tube televisions are obsolete, meaning that they are old and was abolished by newer technology.', 'Tube televisions are no longer manufactured, and are therefore obsolete.']\n"
     ]
    },
    {
     "name": "stderr",
     "output_type": "stream",
     "text": [
      "\r",
      "  6%|██████████▍                                                                                                                                                        | 63/986 [44:53<16:52:40, 65.83s/it]"
     ]
    },
    {
     "name": "stdout",
     "output_type": "stream",
     "text": [
      "generated explanation: <pad> <extra_id_0> A tube television is a television that is usually used for watching television shows or movies. It is often used for viewing televisions, such as the tv set, the television set, and other entertainment equipment. It is also known as a television that is used for viewing television in a variety of settings. The television can be used for a variety of purposes, including the viewing of television shows, and the use of a digital display. The television is usually used to show news and entertainment on a regular basis. The television is also used to show news, and the tube television can be used to show news to the public. The television can be used to show news, and it is often times. The television can also be used to show news, and it can be used to show news, and it can be used to show news, shows, and other information. Using the television, the tube television can be used to show news, and it can also be used to show news, and it can be used to show news and information. Using a tube television, which can be used to show news, and it can be used to show news to the public. The television can also be used to show news programs, such as news, as well as to show news, or to show news, as well as to show news, and it can also be used to show news, as well as to show news, as a variety of things that can be used to show news, and to show news, as well as to show news. The television can be used to show news, as well as to show news, and to show news, as well as to show news, as well as to show news, as well as to show news, as well as to show news, as well as to show news, as well as to show a variety of other shows. This is a variety of other entertainment.. This is because a tube television is often used to show a variety of entertainment.<extra_id_1> </s>\n",
      "########\n",
      "*******\n",
      "question: The man drank his coffee at work?\n",
      "answer: office\n",
      "choices: ['coffee shop', 'table', 'kitchen', 'office', 'chair']\n",
      "common expl list: ['The man is likely to be at work, and offices often have kitchens where coffee is made.', 'The man probably works in an office where he could have a cup of coffee while behind his desk.', 'People often drink coffee at offices, with other co-workers.']\n"
     ]
    },
    {
     "name": "stderr",
     "output_type": "stream",
     "text": [
      "\r",
      "  6%|██████████▌                                                                                                                                                        | 64/986 [44:56<12:01:30, 46.95s/it]"
     ]
    },
    {
     "name": "stdout",
     "output_type": "stream",
     "text": [
      "generated explanation: <pad> <extra_id_0> The man drank his coffee at work because it is the main drink in the office. It is a great way to get around the office and to get to work quickly and efficiently. Coffee is a great way to get to the office, as it is a great way to get to know the customers and their needs. The man drank his coffee at work because it is the most common drink in the office. It is also a great way to get to know the customers and their business. It is also a great way to get around the clock and to get around the clock. The man drank his coffee at work.</s>\n",
      "########\n",
      "*******\n",
      "question: What can he do to eliminate his ignorance?\n",
      "answer: learn new\n",
      "choices: ['find information', 'judge', 'do some research', 'find truth', 'learn new']\n",
      "common expl list: ['In this context, ignorance refers to a lack of knowledge, and obtaining new knowledge is the best way to eliminate the ignorance.', \"Learning is a way to eliminate ignorance; for example, learning a foreign language is one way to eliminate ignorance of that language's grammar.\", 'Ignorance is the state of not knowing something, and to eliminate ignorance, one must learn new things.']\n"
     ]
    },
    {
     "name": "stderr",
     "output_type": "stream",
     "text": [
      "\r",
      "  7%|██████████▊                                                                                                                                                         | 65/986 [45:00<8:43:54, 34.13s/it]"
     ]
    },
    {
     "name": "stdout",
     "output_type": "stream",
     "text": [
      "generated explanation: <pad> <extra_id_0> He must learn to eliminate his ignorance. Learning to learn is a way to learn and to be able to learn new things. He must also learn to use the knowledge acquired from others. Learning is a way to learn new things, such as listening to the speakers, listening to the speakers, and listening to the speakers. He must learn to listen to the speakers, and to understand the speaker's mind. Learning new things can help him to eliminate his ignorance. Learning to understand and understand the language of others is a way to learn and to be more effective in his own language. Learning to understand and understand the language, and to be more effective in his own language, and to be able to understand and understand others.<extra_id_1> </s>\n",
      "########\n",
      "*******\n",
      "question: What do humans do when in a race?\n",
      "answer: compete with each other\n",
      "choices: ['lay eggs', 'eat fruit', 'wrestle', 'compete with each other', 'draw pictures']\n",
      "common expl list: ['Humans are naturally athletic and competitive. On land, people will compete with each other by running or wrestling. Often humans race on water by swimming, or by boating with other people.']\n"
     ]
    },
    {
     "name": "stderr",
     "output_type": "stream",
     "text": [
      "\r",
      "  7%|██████████▉                                                                                                                                                         | 66/986 [45:03<6:20:48, 24.84s/it]"
     ]
    },
    {
     "name": "stdout",
     "output_type": "stream",
     "text": [
      "generated explanation: <pad> <extra_id_0> People compete with each other when in a race. Competitiously, humans compete with each other to achieve a higher level of success. Competitiously, humans can also compete with each other to achieve a higher level of success. In a race, humans compete with each other to achieve the highest level of success. In a race, humans compete with each other to achieve the highest level of success. In a race, humans compete with each other to achieve the same goal. Competitiously, humans compete with each other to achieve their goals, and to achieve the highest level of success.</s>\n",
      "########\n",
      "*******\n",
      "question: She explained that you won't always get what you want with a goal, but you should still do what with it?\n",
      "answer: reach for\n",
      "choices: ['know how to find', 'work hard', 'remember where', 'reach for', 'purchase']\n",
      "common expl list: ['Reaching for attained goals is more beneficial than simply working towards them, at least in the short term. It significantly increases your chances of success.']\n"
     ]
    },
    {
     "name": "stderr",
     "output_type": "stream",
     "text": [
      "\r",
      "  7%|███████████▏                                                                                                                                                        | 67/986 [45:39<7:10:25, 28.10s/it]"
     ]
    },
    {
     "name": "stdout",
     "output_type": "stream",
     "text": [
      "generated explanation: <pad> <extra_id_0> She said that you should reach for what you want. Goals are a great way to achieve a goal because they give you the freedom to express your feelings and to express your feelings. Ultimately, goals are the means by which to achieve a goal. They can be achieved by reaching for a certain goal or by reaching a specific goal. This is because they are a means by which to express your feelings and to reach for what you want. Goals can be a way to achieve your goals and to achieve them. Goals can be a way to achieve your goals by reaching for the goal is a way to achieve your goals. Goals can be achieved by reaching out to others, and they can be a way to reach for the goal. The goal can be achieved by reaching out to others, and they can be a way to reach the goal. They can be a way to reach for what they want. Goals can be a way to reach out to others, and to help others. Goals can be a way to reach for what they want.</s>\n",
      "########\n",
      "*******\n",
      "question: What happens when you eat hamburger too fast without swallowing?\n",
      "answer: choking\n",
      "choices: ['get full', 'drink', 'choking', 'hungry', 'getting fat']\n",
      "common expl list: ['Eating too fast can sometimes cause coughing / choking as food get stuck in your throat.', \"Choking can occur when you stick stuff in your mouth which can't go down your throat properly, so that you can't breath. Common causes can be eating too fast, or swallowing items that can't go down your throat, like liquids or large\", \"If you eat hamburger too fast, you might choke on it, because it's a solid food that can get stuck in your throat.\", \"When you eat hamburger too fast, it can quickly turn into the consistency of a block, and when you can't swallow it, it can cause you to choke.\"]\n"
     ]
    },
    {
     "name": "stderr",
     "output_type": "stream",
     "text": [
      "\r",
      "  7%|███████████▎                                                                                                                                                        | 68/986 [45:44<5:25:02, 21.24s/it]"
     ]
    },
    {
     "name": "stdout",
     "output_type": "stream",
     "text": [
      "generated explanation: <pad> <extra_id_0> When you eat hamburger too fast without swallowing, the body will eat it. It is also known that the fatty acids in hamburgers cause the body to eat too fast. Choking is the most common cause of a fast eat, and it is common to eat fast. It is also known as fast-eat, which means that the body is unable to swallow the hamburger. It is also known that fast-eaters are more likely to swallow hamburgers than they are to eat. This is because fast-eaters are more likely to eat hamburgers. It is also known as fast-eat. This is because fast-eat is also because it is easier to swallow. Choking is a common cause of fast-eats that are more likely to be eaten quickly.<extra_id_1> </s>\n",
      "########\n",
      "*******\n",
      "question: John sat in a folding chair in a bit room with a stage.  What sort of room could that be?\n",
      "answer: auditorium\n",
      "choices: ['room', 'auditorium', 'meeting hall', 'school', 'church']\n",
      "common expl list: ['An auditorium is a large room that is used for public events, such as concerts, plays, and speeches.']\n"
     ]
    },
    {
     "name": "stderr",
     "output_type": "stream",
     "text": [
      "\r",
      "  7%|███████████▍                                                                                                                                                        | 69/986 [46:02<5:12:36, 20.45s/it]"
     ]
    },
    {
     "name": "stdout",
     "output_type": "stream",
     "text": [
      "generated explanation: <pad> <extra_id_0> John sat in a folding chair in a bit room with a stage. It could be a stage, a stage, a stage, a theatre, a theater, or a bit room. The stage is usually located in a bit room with a stage. The stage is usually located in a bit room with stage seats. The seats are usually a small, but comfortable folding chair. The seats are usually made of wood, wood, and metal. The stage is usually located in a small room with a folding chair is a great way to provide a comfortable seat for John. The seats are usually a great place to sit, as well as the seats are a great way to provide a comfortable and comfortable seating. The stage is a great place to sit and relax. The stage is a great way to create a comfortable space for John to sit in a bit room with a stage.<extra_id_1> </s>\n",
      "########\n",
      "*******\n",
      "question: What would an adult man do to get ready for work?\n",
      "answer: dress himself\n",
      "choices: ['dress herself', 'shower', 'dress himself', 'drink beer', 'drive train']\n",
      "common expl list: ['An adult man would dress himself for work: this includes putting on pants, shirts, and dresses, and typical choices are professional clothes, such as suit and tie.', 'Adult males commonly wear suits to work. Men might get dressed in the morning, particularly if they plan on wearing a suit for work.']\n"
     ]
    },
    {
     "name": "stderr",
     "output_type": "stream",
     "text": [
      "\r",
      "  7%|███████████▌                                                                                                                                                       | 70/986 [47:46<11:32:45, 45.38s/it]"
     ]
    },
    {
     "name": "stdout",
     "output_type": "stream",
     "text": [
      "generated explanation: <pad> <extra_id_0> An adult man would dress himself to get ready for work. Dressing is a way to get ready for work, and it is a way to stay fit. It is a way to get dressed for the day. Dressing is a way to get ready for work, and it is a great way to get ready for a busy day. Dressing is a way to get dressed, and it is a way to get ready for a stressful day. Dress yourself to get ready for work, and it is a way for an adult to get ready for work. Dress up in a professional manner, and it is a great way to get ready for a young adult to get ready for work. Dress in a professional manner, and it is a great way to get ready for the day. Dress up in a formal outfit, and to get ready for the day of work is a way to get ready for the day. Dress up in a professional manner. Dress in a suit and tie, tie, and tie, and tie, and tie, and tie, and tie, and tie, and tie, and tie, and tie, and tie, and tie, and tie, and tie, and tie, and tie, and tie, and tie, and tie, and tie, and tie, and tie, and tie, and tie, and tie, and tie, and tie, and tie, and tie, and tie, and tie, and tie, and tie, and tie, and tie, and tie, tie, tie, tie, and tie, tie, tie, tie, etc<extra_id_1>,<extra_id_1> </s>\n",
      "########\n",
      "*******\n",
      "question: What does one do at an office?\n",
      "answer: work\n",
      "choices: ['work', 'school building', 'workplace', 'skyscraper', 'public building']\n",
      "common expl list: ['An office is a specific type of workplace.', 'An office is a place where people work.', 'One does work at the office']\n"
     ]
    },
    {
     "name": "stderr",
     "output_type": "stream",
     "text": [
      "\r",
      "  7%|███████████▊                                                                                                                                                        | 71/986 [47:48<8:15:30, 32.49s/it]"
     ]
    },
    {
     "name": "stdout",
     "output_type": "stream",
     "text": [
      "generated explanation: <pad> <extra_id_0> An employee is an employee who works at an office. This is because the work environment is designed to provide a safe and productive environment for employees. The work environment is designed to provide a safe and secure environment for employees to work in an efficient manner. The work environment is designed to provide a safe and secure environment for employees to work in the workplace. The work environment is designed to provide a safe and secure environment for employees and to provide a secure environment for employees to work in the workplace. The work environment is designed to provide a secure environment for employees to work in order to ensure that they are working in a productive work environment.<extra_id_1> </s>\n",
      "########\n",
      "*******\n",
      "question: When a person is on trial for killing, what is a jury likely to decide?\n",
      "answer: punishment\n",
      "choices: ['execution', 'investigation', 'going to jail', 'retribution', 'punishment']\n",
      "common expl list: ['A jury is likely to decide that the person is guilty of the crime, and punish them accordingly.', 'When a jury decides that someone is guilty of a crime, they typically hand down a punishment.', 'A person who has just killed another person often goes to trial, so the jury will likely have to decide what the most just punishment is.']\n"
     ]
    },
    {
     "name": "stderr",
     "output_type": "stream",
     "text": [
      "\r",
      "  7%|███████████▉                                                                                                                                                        | 72/986 [47:52<6:02:48, 23.82s/it]"
     ]
    },
    {
     "name": "stdout",
     "output_type": "stream",
     "text": [
      "generated explanation: <pad> <extra_id_0> A jury is likely to decide whether a person is on trial for killing because it is likely to hear evidence in a trial in a trial. The jury may also hear evidence from other witnesses, including a police officer, who is also a witness. The jury may also hear evidence from witnesses, and the jury may also hear testimony from witnesses. The jury may also hear evidence from witnesses, such as a witness’s testimony, or from witnesses. The jury may also hear evidence from witnesses, such as a witness, a witness testimony in a trial for killing a person in a trial in a crime, and the jury may also hear evidence from witnesses. The jury may also hear evidence from witnesses in a person's case, as the jury may also be able to reach a decision.</s>\n",
      "########\n",
      "*******\n",
      "question: Most adult Americans split their time between home and what?\n",
      "answer: work\n",
      "choices: ['tent', 'work', 'apartment', 'the office', 'foreign']\n",
      "common expl list: ['Most adults spend most of their time at work.', 'Home and work may be the two places where most adult Americans spend most of their waking hours.']\n"
     ]
    },
    {
     "name": "stderr",
     "output_type": "stream",
     "text": [
      "\r",
      "  7%|████████████▏                                                                                                                                                       | 73/986 [47:55<4:27:24, 17.57s/it]"
     ]
    },
    {
     "name": "stdout",
     "output_type": "stream",
     "text": [
      "generated explanation: <pad> <extra_id_0> Adult Americans split their time between home and work. This is because the majority of adults split their time between home and work. This is because they split their time between home and work, which is because both are separated by the same family. This is because adults split their time between home and work, which is because both are often more productive and less stressful. They also have more flexibility to work and to live in the same home. They also have more flexibility when it comes to their work schedule, which is important for their future. Work gives adults more flexibility in their time between home work and home time for adults to work. Work can also provide them with flexibility, flexibility and flexibility. Work can also provide them with the flexibility to work and home work.<extra_id_1> </s>\n",
      "########\n",
      "*******\n",
      "question: Professionally the fighters always maintained a level of respect, but personally they held each other in what for things that were said?\n",
      "answer: contempt\n",
      "choices: ['belittlement', 'humiliate', 'irreverence', 'contempt', 'love']\n",
      "common expl list: ['Despite the respect that was maintained by the respectful fighters, the feelings that they had for each other were always a sense of contempt for each others character.']\n"
     ]
    },
    {
     "name": "stderr",
     "output_type": "stream",
     "text": [
      "\r",
      "  8%|████████████▎                                                                                                                                                       | 74/986 [48:24<5:18:46, 20.97s/it]"
     ]
    },
    {
     "name": "stdout",
     "output_type": "stream",
     "text": [
      "generated explanation: <pad> <extra_id_0> Fighters always maintained a level of respect, but personally they held each other in things that were said. Professionally the fighters always maintained a level of respect, but personally they held each other in contempt. They always held each other in contempt for things that were said. Professionally the fighters always maintained a level of respect for things that were said, but personally they held each other in contempt for things that were said. Contempt for things that were said is a form of disrespect. Professionally the fighters always held each other in contempt for things that were said, but personally they held each other in contempt for things that were said, but fighters always held respect for each other. Contempt for things that were said, and they always held each other in contempt for things that were said, and they always held each other in contempt for things that were said, but they never held contempt for things that were said, and they always held each other in contempt for things that were said, and they never held each other in contempt for things that were</s>\n",
      "########\n",
      "*******\n",
      "question: Where would you find many tables of silverware rolled into nice displayed napkins?\n",
      "answer: restaurant\n",
      "choices: ['silver', 'park', 'table', 'cupboard', 'restaurant']\n",
      "common expl list: ['In a commercial establishment, silverware is expected to be clean because consumption of food is involved. So, a restaurant may well be where someone would expect to find silverware rolled into nice displayed napkins (i.e., fancy silverware).', 'Restaurants often have a lot of silverware, and they might roll it up and place it in a napkin to make it easier to store.', 'Restaurants often give used, rolled up silverware to customers, and they might keep them in nice, displayed napkins to make moving and storing them easier.']\n"
     ]
    },
    {
     "name": "stderr",
     "output_type": "stream",
     "text": [
      "\r",
      "  8%|████████████▍                                                                                                                                                       | 75/986 [48:27<3:55:48, 15.53s/it]"
     ]
    },
    {
     "name": "stdout",
     "output_type": "stream",
     "text": [
      "generated explanation: <pad> <extra_id_0> A restaurant is a place to find a lot of silverware rolled into nice displayed napkins. The napkins are usually placed on either side of the table, and are arranged in a way that makes them look more inviting. The napkins are usually made from silverware, which is used to make it easier to see what is on the table. The napkins are often rolled into a large, rounded shape, which makes it easy to see what is on the table. Restaurants also often display plates, plates, and napkins.<extra_id_1> </s>\n",
      "########\n",
      "*******\n",
      "question: He didn't believe fate controlled situations, what did he believe people did?\n",
      "answer: control events\n",
      "choices: ['control events', 'pray', 'dress themselves', 'talk to each other', 'think creatively']\n",
      "common expl list: ['If one believes in fate, then one would believe that fate controls events. If one believes in free will, then one would believe that people control events.', \"If one believes fate controls events, there's nothing to do but accept situation, perhaps to pray; in contrast, if one believed they had control over events, then they could act to change the situation.\"]\n"
     ]
    },
    {
     "name": "stderr",
     "output_type": "stream",
     "text": [
      "\r",
      "  8%|████████████▋                                                                                                                                                       | 76/986 [49:02<5:23:02, 21.30s/it]"
     ]
    },
    {
     "name": "stdout",
     "output_type": "stream",
     "text": [
      "generated explanation: <pad> <extra_id_0> He didn't believe fate controlled situations because he believed people did. He believed fate controlled situations because they were able to control them because they were able to control them because they were able to control them because they were able to control them. He believed that fate controlled events because they were able to control events and the events that occurred. They were able to control events because they were able to control them because they were controlled by the universe. They also believed that fate and fate controlled events. They believed that people would be able to control people's lives. They believed that fate controlled events were a key factor in the outcome of events that were likely to have a positive outcome. They believed that fate controlled events that were taking place. They believed that people would react in a positive outcome of events. They also believed that fate had the power to determine what happened. They believed that fate was the fate of the events that happened to them. They were the power to act. They were able to control events because they could control events that were able to control events.<extra_id_1> </s>\n",
      "########\n",
      "*******\n",
      "question: Polly didn't know her way around, so she navigated by landmark.  She used statues, stores, and distinctive building.  Where might she be?\n",
      "answer: city\n",
      "choices: ['countryside', 'national park', 'map', 'neighbourhood', 'city']\n",
      "common expl list: ['In a city, landmarks are often used to navigate. In the countryside or in national parks, landmarks may not be as distinct, as buildings and statues are less likely to be found.', \"She used distinctive buildings as landmarks, so it is likely she's in a city.\", 'Landmarks are often located in cities, and so if a person was navigating by landmarks, they are likely to be in a city.', 'Landmark navigation works best in populated areas because distinctive buildings and statues can be more easily seen.']\n"
     ]
    },
    {
     "name": "stderr",
     "output_type": "stream",
     "text": [
      "\r",
      "  8%|████████████▊                                                                                                                                                       | 77/986 [49:05<4:00:32, 15.88s/it]"
     ]
    },
    {
     "name": "stdout",
     "output_type": "stream",
     "text": [
      "generated explanation: <pad> <extra_id_0> Polly used landmarks to navigate through a city. She used statues, stores, and distinctive buildings to create a unique experience. Polly was drawn to landmarks because they helped her to find the best places to go. They also used landmarks to navigate her way around the city. They also used landmarks to help her navigate the city. They helped her to find the right place to go. She also used landmarks to find the best places to eat, shop, and work. The landmarks she used to find her way around a particular landmark. They also helped her to find the right place. They also helped her to find the right place for her to stay in a particular area. This helped to keep her focus and make her feel at the right place.<extra_id_1> </s>\n",
      "########\n",
      "*******\n",
      "question: Some horses are white others are black, but many are this color which might lead some people to think their milk would taste like chocolate?\n",
      "answer: brown\n",
      "choices: ['big but gentle', 'kept in stables', 'cuddly', 'brown', 'running in herd']\n",
      "common expl list: [\"An individual brown-colored horse (particularly when cuddly) can resemble the color of chocolate. If a person were to guess based on the color, he might guess a horse's milk tasted similarly.\"]\n"
     ]
    },
    {
     "name": "stderr",
     "output_type": "stream",
     "text": [
      "\r",
      "  8%|████████████▉                                                                                                                                                       | 78/986 [49:08<3:04:20, 12.18s/it]"
     ]
    },
    {
     "name": "stdout",
     "output_type": "stream",
     "text": [
      "generated explanation: <pad> <extra_id_0> Brown is the color of the milk that is produced by a horse. Brown is the color of the milk that is produced by the horse. It is often associated with brown, brown, and brown, and it is also associated with brown and brown. Brown is a color that is often associated with chocolate and is often used to describe the color of the milk. Brown is also used to describe the color of the milk, which is often associated with brown and brown. It is also associated with browning, which is a color that is associated with browning, which is often used to describe the color of the milk, and brown horses are also associated with browning. Browning is associated with the color of the milk, and brown is often associated with browning is often associated with browning.</s>\n",
      "########\n",
      "*******\n",
      "question: What is the one thing you cannot do if you're on the move?\n",
      "answer: stand still\n",
      "choices: ['sit still', 'stationary', 'running', 'stand still', 'stay still']\n",
      "common expl list: ['You must be in motion to be counted as on the move. (this rule exists to disallow the action of holding still)']\n"
     ]
    },
    {
     "name": "stderr",
     "output_type": "stream",
     "text": [
      "\r",
      "  8%|█████████████▏                                                                                                                                                      | 79/986 [49:12<2:24:35,  9.56s/it]"
     ]
    },
    {
     "name": "stdout",
     "output_type": "stream",
     "text": [
      "generated explanation: <pad> <extra_id_0> If you're on the move, you cannot stand still. Stand still is a motionless object that can be seen from anywhere. It is a form of a physical object that can be seen from anywhere. It can also be used to make a pace, such as a table or chair, or a chair. A stand still is a form of physical motion that can be seen from anywhere. It is a motionless object that can be seen from anywhere. It is a way to stay still and to be able to stay still, and it can be used to make a noise, such as the sound of the music, and it can also be used to make a sound, which can be seen from the other side of the world. <extra_id_1> </s>\n",
      "########\n",
      "*******\n",
      "question: Where does someone convicted of a petty crime likely spend time?\n",
      "answer: jail\n",
      "choices: ['sell drugs', 'jail', 'nightclub', 'prison', 'offer drugs']\n",
      "common expl list: ['Someone convicted of a petty crime is likely to spend time in jail.', 'Someone convicted of a petty crime probably spends some time in jail, and not in prison.']\n"
     ]
    },
    {
     "name": "stderr",
     "output_type": "stream",
     "text": [
      "\r",
      "  8%|█████████████▎                                                                                                                                                      | 80/986 [50:37<8:05:33, 32.16s/it]"
     ]
    },
    {
     "name": "stdout",
     "output_type": "stream",
     "text": [
      "generated explanation: <pad> <extra_id_0> A petty crime is a serious offense that is committed by someone who is convicted of a felony. It is a serious offense that is often committed by someone who is convicted of a felony. It is important to understand that in order to be able to get the maximum sentence, a petty crime must be a serious offense. The sentence is usually sentenced to life in a jail, where the sentence is accumulated over time. It is also important to understand that a petty crime must be a crime. It is important to understand the nature of the sentence and the penalties are due. It is a legal requirement for a petty crimes must be a criminal and must be a petty crime to get the maximum sentence. It is a petty crime, and it is a crime, a crime to be a petty crime to be a crime. a petty crime must be a crime to be a crime to be a crime to be a petty crime to be a petty crime to be a crime to be a crime to be a crime to be a petty crime to be a crime to be a crime to be a crime to be a crime to be petty crime to be petty crime to be petty crime to be petty crime to be petty crime to be </s>\n",
      "########\n",
      "*******\n",
      "question: He would entertain with a pool party regularly, it was the best way to beat the what?\n",
      "answer: hot\n",
      "choices: ['please', 'hot', 'guest', 'bribe', 'liked']\n",
      "common expl list: ['Pool parties are a great way to beat the heat.']\n"
     ]
    },
    {
     "name": "stderr",
     "output_type": "stream",
     "text": [
      "\r",
      "  8%|█████████████▍                                                                                                                                                     | 81/986 [51:40<10:25:04, 41.44s/it]"
     ]
    },
    {
     "name": "stdout",
     "output_type": "stream",
     "text": [
      "generated explanation: <pad> <extra_id_0> A pool party is a great way to beat the heat of the pool. It is a great way to entertain a man who is a hot fan of hot water, and it is a great way to beat the heat. It is a great way to keep the party going, especially if it is a family event. He would also enjoy the hot drinks and cocktails, which are usually served in a large number of places around the world. He would also enjoy a hot tub, which is a great way to keep the water in his home, and it was also a great way to keep the heat. He would also enjoy the pool party. The pool party is a great way to beat the heat. He would also enjoy a hot tub, and the hot tub is a great way to keep the heat in check. The pool party is a great way to keep the heat, and it is the best way to keep the heat in the pool party. He would also enjoy a hot tub, which is a great way to keep the heat and keep the cool. The pool party is a great way to keep the heat, and it is a great way to keep the heat, and it is a great way to keep the heat in the pool party. He would also keep the heat.<extra_id_1> </s>\n",
      "########\n",
      "*******\n",
      "question: If you wanted to confirm information that you had, you would do what to someone?\n",
      "answer: question\n",
      "choices: ['infirm', 'ask', 'deny', 'question', 'dispute']\n",
      "common expl list: [\"Often information is ambiguous, and I can confirm it by asking pointed questions or by scrutinizing the other person's story till I can find a way to interrogate their position.\", 'If you wanted to verify the truth, you might question the person who you got the alleged information from.', 'If you wanted to confirm information that you had, you would ask someone.', 'To confirm something that your friends told you, you might need to ask those friends further questions to prove that the information was correct.']\n"
     ]
    },
    {
     "name": "stderr",
     "output_type": "stream",
     "text": [
      "\r",
      "  8%|█████████████▌                                                                                                                                                     | 82/986 [52:55<12:59:17, 51.72s/it]"
     ]
    },
    {
     "name": "stdout",
     "output_type": "stream",
     "text": [
      "generated explanation: <pad> <extra_id_0> If you wanted to confirm information that you had, you would do what to someone. This is because someone would be able to confirm information that they had. This is because they are able to verify information that they have. They can also ask for help from others to provide information to the person. They can also ask for help from a trusted person. They can also provide information about the person's past, present it to them, and provide a reason for the person to do this. They can also ask for permission to use the information that they have. This is because they have the information they have, which is important for them to do so. They can also ask for permission from the person to confirm information that they have. They can also ask for permission to do so, and they can also ask for help from a trusted person. This is because they have the right to do so, and they can provide them with information that they have. Having the information that they have. They can also ask for help from someone else.<extra_id_0> If you want to do so, you would do so because they have the information they have.<extra_id_0> You can do this to confirm the information you have. The person to confirm the information they have. They can also ask them to confirm the information they have the information they have the information they have the information that they have the information they have the information they have. They can also do this information.<extra_id_1> </s>\n",
      "########\n",
      "*******\n",
      "question: Where is cheese likely to be dangerous for some creatures?\n",
      "answer: mouse trap\n",
      "choices: ['refrigerator', 'mouse trap', 'fridge', 'outside', 'plate']\n",
      "common expl list: ['cheese has been said to attract mice. Mice traps may contain cheese in order to attract them.']\n"
     ]
    },
    {
     "name": "stderr",
     "output_type": "stream",
     "text": [
      "\r",
      "  8%|█████████████▋                                                                                                                                                     | 83/986 [55:13<19:24:33, 77.38s/it]"
     ]
    },
    {
     "name": "stdout",
     "output_type": "stream",
     "text": [
      "generated explanation: <pad> <extra_id_0> Cheese is likely to be dangerous for some creatures due to its ability to spread quickly and easily. Mouse traps are designed to trap food and to protect the mouse from unwanted stimuli. Mouse traps are designed to provide a safe and effective environment for mice to escape from their enclosures and escape from their traps. Cheese is also a great source of protein for mice, which are a common source of protein for mice. Using a mouse trap, mice can escape and escape from their traps, causing them to escape. Furthermore, cheese is highly addictive to other animals, making it potentially containing food. This makes it a great source of food that can be used to trap them in a way to escape. Using a mouse trap is a great way to escape from the trap, causing them to die. The trap is a great way to trap the mouse, resulting in a great way to store and store food that can be used to protect the mouse trap are a great way to store their food. The trap can contain a variety of ingredients such as a good way to keep the mouse traps. The traps are a great way to keep the mouse’s food safe. The traps are a great way to keep the mouse away from the mouse and other animals from the mouse and other animals from the cheese and other animals from the cheese and to keep the mouse from the cheese and to keep the mouse away from the cheese and to keep the mouse away from the cheese and to keep the cheese away from the cheese and other items inside the traps and to keep the cheese and to keep the cheese and to keep the cheese and to keep the cheese and to keep the mouse away from the mouse away from the mouse away from the mouse and to keep the cheese from the eggs<extra_id_1> <extra_id_1> </s>\n",
      "########\n",
      "*******\n",
      "question: He spent all work day at a computer, so he got a footstool for more comfort at his what?\n",
      "answer: desk\n",
      "choices: ['desk', 'bathroom', 'shoe shop', 'family room', 'living room']\n",
      "common expl list: ['A footstool is a small stool that is used to raise the height of a chair or table. If someone spends all day at a computer, they might need a footstool to raise their desk.']\n"
     ]
    },
    {
     "name": "stderr",
     "output_type": "stream",
     "text": [
      "\r",
      "  9%|█████████████▉                                                                                                                                                     | 84/986 [55:43<15:50:09, 63.20s/it]"
     ]
    },
    {
     "name": "stdout",
     "output_type": "stream",
     "text": [
      "generated explanation: <pad> <extra_id_0> A footstool is a great tool for a desk because it provides more comfort when working at a computer. It also provides a great way to stretch out your legs while working. Using it, a person can sit on it and move it around without straining. The footstool is a great way to help people stay comfortable while working at a desk. It also provides a great amount of support when sitting in a room. It is designed to help with the motion of the desk and to provide a comfortable workspace. It provides a great way to help with the ergonomic design of the desk, as it provides a comfortable place for people to work. It also provides a great way to help with the weight of the desk and to provide a comfortable place for people to sit and move around. It also provides a great way to relieve pressure on the desk and provides a comfortable position for the user to move around. The footstool is designed to help them to move around the desk. It also provides a comfortable and comfortable place to sit and rest.<extra_id_1> </s>\n",
      "########\n",
      "*******\n",
      "question: How would grooming lead to bald spots?\n",
      "answer: mistakes\n",
      "choices: ['cleanliness', 'mistakes', 'brushing', 'beauty', 'satisfaction']\n",
      "common expl list: [\"If you accidentally over trim your hair, you'd likely end up with bald spots.\"]\n"
     ]
    },
    {
     "name": "stderr",
     "output_type": "stream",
     "text": [
      "\r",
      "  9%|██████████████                                                                                                                                                     | 85/986 [56:49<16:01:23, 64.02s/it]"
     ]
    },
    {
     "name": "stdout",
     "output_type": "stream",
     "text": [
      "generated explanation: <pad> <extra_id_0> Grooming can lead to bald spots. In fact, it can lead to bald spots if not followed by proper grooming. It can also lead to a bald spot by creating a bald spot. This can lead to bald spots and other scalp problems. This can lead to a bald spot and a bald spot if grooming is not done properly. This can also lead to bald spots being reshaped and reshaped. This can lead to bald spots if groomed women make mistakes that can lead to bald spots. This can also lead to bald spots developing a bald spot’s appearance. Having a bald spots are a lot of other things like a bald spots being brushed and a bald spots being a bald spots are a natural bald spot. bald spots being reshaped to fit in the right clothing and the right tools are not appropriate for the bald spots. This can lead to a number of bald spots. bald spots are often caused by the grooming is a risky and embarrassing and can be a problem. Having a grooming is a risky and dangerous and dangerous way to get a shaves and shaved is a great way to get rid of a bald spot.</s>\n",
      "########\n",
      "*******\n",
      "question: Where would a snake find a great hiding place in the United Kingdom?\n",
      "answer: kew gardens\n",
      "choices: ['ditch', 'terrarium', 'thick forest', 'kew gardens', 'feild']\n",
      "common expl list: ['Kew gardens is located in London, which has a great deal of green space in the form of parks.', 'Kew gardens is a large botanical garden in London, England, and snakes are often found in gardens.']\n"
     ]
    },
    {
     "name": "stderr",
     "output_type": "stream",
     "text": [
      "\r",
      "  9%|██████████████▏                                                                                                                                                    | 86/986 [57:01<12:05:31, 48.37s/it]"
     ]
    },
    {
     "name": "stdout",
     "output_type": "stream",
     "text": [
      "generated explanation: <pad> <extra_id_0> A snake would find a great hiding place in a great place in the United Kingdom. Kew gardens are a great place to find a great hiding place in the United Kingdom. It is a great place for a snake to hide in a variety of places. It is also a great place to find a great hiding place for a snake to hide in. Similarly, in the UK, snakes like to find a great hiding place in a garden, such as a garden, a pond, or a pond. This is because they can find a great hiding place in the UK, and they can find a great hiding place for a great place for a snake to find a great place to hide, especially in the UK, for a snake to hide in a great place to hide in the UK, such a great hiding place for a great</s>\n",
      "########\n",
      "*******\n",
      "question: After studying many self-help books, what did he feel in his heart?\n",
      "answer: inspiration\n",
      "choices: ['inspiration', 'dreams', 'more intelligence', 'understanding', 'knowing more']\n",
      "common expl list: [\"If John read about confidence, optimism, positive thinking, it's possible that he feels inspired.\", 'Self-help books are written to inspire people to change their lives for the better.', \"Some people study self-help books because they've felt lost in their life and are looking for something to help them out. By reading many self-help books, such people might feel more inspired in their life.\"]\n"
     ]
    },
    {
     "name": "stderr",
     "output_type": "stream",
     "text": [
      "\r",
      "  9%|██████████████▍                                                                                                                                                     | 87/986 [57:19<9:50:20, 39.40s/it]"
     ]
    },
    {
     "name": "stdout",
     "output_type": "stream",
     "text": [
      "generated explanation: <pad> <extra_id_0> After studying many self-help books, he felt inspired. Inspiration comes from the desire to learn something new, to become a better person, to be a better person, to be successful, and to be able to do what is right for you. The book is a collection of self-help books that are written by experienced authors and authors.<extra_id_1> The book is written in a variety of languages and styles, and is written in a variety of ways. The author felt a sense of belonging, fulfillment, and fulfillment through reading it, he felt a sense of self-help books. The author also felt a sense of being inspired by the world, and the way that the world is changing. The author felt a sense of self-help books that are helping him to move forward. The author was inspired by the self-help books he has read and used them to help others. The author was inspired by the world and the author was inspired to help him to move forward in life.<extra_id_1> </s>\n",
      "########\n",
      "*******\n",
      "question: Where would you find teeth whitening bleachers?\n",
      "answer: pharmacy\n",
      "choices: ['gymnasium', 'soccer game', 'sporting event', 'pharmacy', 'soccer game']\n",
      "common expl list: ['Teeth whitening is a common practice, and pharmacies often sell the products used for it.']\n"
     ]
    },
    {
     "name": "stderr",
     "output_type": "stream",
     "text": [
      "\r",
      "  9%|██████████████▋                                                                                                                                                     | 88/986 [57:39<8:21:08, 33.48s/it]"
     ]
    },
    {
     "name": "stdout",
     "output_type": "stream",
     "text": [
      "generated explanation: <pad> <extra_id_0> Pharmacy are the most common places to find teeth whitening bleachers because they are used to clean the teeth. They are also used to bleach the gums and other teeth to remove plaque and plaque. They are also used to prevent cavities and gums from developing. They are also used to prevent cavities and gum disease. They are also used to help prevent cavities from developing. They also help prevent further damage to the teeth and gums. Pharmacys also offer a variety of products that can be used to bleach the teeth. Pharmacy specializes in providing teeth whitening bleaching bleachers to remove the teeth whitening bleachers to prevent the gums and to prevent future problems. They also offer a variety of other products such as toothpaste and other products that can be used to prevent the formation of abrasive scalding gum and other stains. Pharmacy whitening bleachers are also used to remove the teeth and gums. Pharmacy based on the use of bleaching agents. Pharmacy based products.</s>\n",
      "########\n",
      "*******\n",
      "question: While he had seen a koala in the zoo, he was looking forward to finding one in the what?\n",
      "answer: australian outback\n",
      "choices: ['australian outback', 'bamboo grove', 'wilderness', 'island', \"child's book\"]\n",
      "common expl list: ['Because Koalas are a native species to Australia, the safest place to see a Koala may be outback Australia.', 'Koalas live in Australia, and are not found in any other country in the North American continent.']\n"
     ]
    },
    {
     "name": "stderr",
     "output_type": "stream",
     "text": [
      "\r",
      "  9%|██████████████▌                                                                                                                                                  | 89/986 [1:00:38<19:13:03, 77.13s/it]"
     ]
    },
    {
     "name": "stdout",
     "output_type": "stream",
     "text": [
      "generated explanation: <pad> <extra_id_0> He was looking forward to finding one in the australian outback zoo. He had seen a koala in the zoo and was looking forward to seeing one in the zoo. koalas are a species of mammals that are found in the zoo, zoo, and other natural habitats. They are generally found in the zoo, and can be found in the wild. They are also known to be a good source of food and water and were often accompanied by a good koala park. He had seen a koala in the zoo in the zoo, but they were looking for a koala in the zoo, and he was looking for a koala in the zoo, but he was looking for a koala in the wild. They are also known to be a great source of food and water and are often seen in the zoos, which is why they are so rare, and they are often found in the zoo. Seeing a koalas are often found in the zoos in the zoos in the zoo is often a rare species of a koala in the zoos in the zoos in the zoes. zoes in the zoes are a great source of food and are often a great source of food and are often a great place to find a koalas in the zoos in the zoos in the zoos in the zoos in the zoos in the zoes in the zoes in the zoes in the zoos in the zoes in the zoes in the zoos in the zoes</s>\n",
      "########\n",
      "*******\n",
      "question: Where can a child get a wagon?\n",
      "answer: toy store\n",
      "choices: ['field', 'garage', 'bookstore', 'backyard', 'toy store']\n",
      "common expl list: ['Toy stores deal specifically in toys. Wagons are one of a variety of toys.', \"A toy wagon is a child's toy. Toy wagons can be purchased from toy stores.\"]\n"
     ]
    },
    {
     "name": "stderr",
     "output_type": "stream",
     "text": [
      "\r",
      "  9%|██████████████▋                                                                                                                                                  | 90/986 [1:01:43<18:19:16, 73.61s/it]"
     ]
    },
    {
     "name": "stdout",
     "output_type": "stream",
     "text": [
      "generated explanation: <pad> <extra_id_0> A toy store is a great place for a child to get a wagon. It is a great place to find a wagon for a child because it is a great place to start a life. It is a great place to start when a child is looking for a toy. Toys are a great way to get a wagon for a child to play with. It is a great way to give a child a great experience when they are shopping for a wagon. Toys are also a great place for a child to get a wagon for a child to play with their toy store because they are a great way to help them to learn about the wagon and the wagons they can get to know the kids. Toy stores are also a great way to get a wagon for a child to ride on a wagon for a child to play with a wagon, and a wagon is a great way to get a child a new wagon and a child to get a wagon for a toy that can be a child to play with the wagon. The wagon is a great way to get a wagon. Toys are a great place to get a child to play in the comfort of a child.</s>\n",
      "########\n",
      "*******\n",
      "question: Being able to forgive is a way to be what?\n",
      "answer: nice to\n",
      "choices: ['learn', 'give hug', 'happiness', 'nice to', 'sex']\n",
      "common expl list: ['When you forgive people you are being nice to them.']\n"
     ]
    },
    {
     "name": "stderr",
     "output_type": "stream",
     "text": [
      "\r",
      "  9%|██████████████▊                                                                                                                                                  | 91/986 [1:01:46<13:03:18, 52.51s/it]"
     ]
    },
    {
     "name": "stdout",
     "output_type": "stream",
     "text": [
      "generated explanation: <pad> <extra_id_0> Being able to forgive is a way to be nice to others. Having to forgive is a way to be kind to others. Being able to forgive is a way to be kind to others. It is a way to be kind to others, especially those who are afraid of being judged. It is a way to be able to be kind to others, and to be grateful for any mistakes that have been made. This means that we can be able to be kind and compassionate. It also means that we can be kind to others, and to be kind to others. It also means that we can be kind to others, and that is a way to be kind to others. It is a way to be able to be kind and compassionate.</s>\n",
      "########\n",
      "*******\n",
      "question: What  is necessary to have when going fishing?\n",
      "answer: fishing rod\n",
      "choices: ['fishing rod', 'access to water', 'bate', 'three hands', 'tackle']\n",
      "common expl list: ['To go fishing requires a fishing rod.', 'fishing rods are necessary component pieces that are held by fishermen to access and use when fishing']\n"
     ]
    },
    {
     "name": "stderr",
     "output_type": "stream",
     "text": [
      "\r",
      "  9%|███████████████                                                                                                                                                   | 92/986 [1:01:54<9:41:20, 39.02s/it]"
     ]
    },
    {
     "name": "stdout",
     "output_type": "stream",
     "text": [
      "generated explanation: <pad> <extra_id_0> Fishing rods are essential when going fishing. They are the most important tools for a successful fishing trip. They are also the most important tool in the fishing industry. They are the most important tools for a successful fishing trip. They are the most effective tools for a successful fishing trip. They are the most important equipment for any angler to have when going fishing. They are also the most powerful and versatile tools for a variety of applications. They are also the most versatile because they are made of the most durable materials. They are the most important for a good fishing rod. They also provide a variety of rods to choose from, allowing for the fishing rod to be used to make a great way to get the most comfortable fishing trip. They are also the most important tools for a successful fishing trip. The rods are also the most important part of the fishing trip.</s>\n",
      "########\n",
      "*******\n",
      "question: A weasel is cursed by a witch, where is the weasel stuck?\n",
      "answer: fairytale\n",
      "choices: ['corn fields', 'great outdoors', 'fairytale', 'imagination', 'chicken coop']\n",
      "common expl list: ['Being stuck in a fairytale suggests being cursed, and the curses that prevail in fairytales are usually cast by witches.']\n"
     ]
    },
    {
     "name": "stderr",
     "output_type": "stream",
     "text": [
      "\r",
      "  9%|███████████████▏                                                                                                                                                 | 93/986 [1:02:43<10:27:37, 42.17s/it]"
     ]
    },
    {
     "name": "stdout",
     "output_type": "stream",
     "text": [
      "generated explanation: <pad> <extra_id_0> The weasel is cursed by a witch because it is a human being. This is because the witch is able to control the weasel and make it a witch. This is because the witch is able to control the weasel and control the witch. The weasel is able to control the witch and control the weasel. The witch can also control the weasel's movements and the witch's movements. The witch can also control the weasel's movements and movements of the witch's movements. The witch can also control the weasel's movements and control the weasel's movements. The witch can also control the weasel's movements and movements and control the witch's movements. The witch can also control the weasels and the weasel's movements and control the weasel's movements and movements. The witch can also control the weasel's movements and movements and movements. The witch can also control the weasel's movements and movements.<extra_id_1> </s>\n",
      "########\n",
      "*******\n",
      "question: If you want to buy you must what?\n",
      "answer: spend money\n",
      "choices: ['spend money', 'go shopping', 'paying', 'have in mind', 'a shop']\n",
      "common expl list: ['To buy one needs money, and need money implies you have spent money.', 'If you want to buy something, you must spend money.', 'To buy something, you must spend money.']\n"
     ]
    },
    {
     "name": "stderr",
     "output_type": "stream",
     "text": [
      "\r",
      " 10%|███████████████▍                                                                                                                                                  | 94/986 [1:02:47<7:32:49, 30.46s/it]"
     ]
    },
    {
     "name": "stdout",
     "output_type": "stream",
     "text": [
      "generated explanation: <pad> <extra_id_0> If you want to buy you must spend money because it is the most expensive item in the world. It is the most expensive thing to buy. It is because it is a good investment because it is a great investment because it is a great investment because it is a good investment because it is a great investment because it is a great investment because it is a great investment. It is a great investment because it is a great investment because it is a great investment because it is a great investment. It is also a great investment because it is a great investment. It is a great investment because it is a great investment because it is a great investment. It is also a great way to make the purchase.</s>\n",
      "########\n",
      "*******\n",
      "question: What public celebration sometimes has a horse show?\n",
      "answer: state fair\n",
      "choices: ['state fair', 'indy 500', 'american southwest', 'canada', 'central park']\n",
      "common expl list: [\"A state's fair is a public celebration that may include a horse show.\", 'Horse shows are sometimes included in state fair celebrations, and these fairs frequently are held in public parks.', 'Horse shows are competitions that sometimes occur at public celebrations. Some fairgrounds include horse shows as part of their regularly scheduled events.']\n"
     ]
    },
    {
     "name": "stderr",
     "output_type": "stream",
     "text": [
      "\r",
      " 10%|███████████████▌                                                                                                                                                 | 95/986 [1:06:08<20:15:03, 81.82s/it]"
     ]
    },
    {
     "name": "stdout",
     "output_type": "stream",
     "text": [
      "generated explanation: <pad> <extra_id_0> A horse show is usually held during a state fair or horse show. A horse show is usually held during a state fair or other public celebration. A horse show is usually held in the middle of the night or on weekends. A horse show is usually held in the middle of the night, and usually takes place during the summer months. The horse show is usually held at the end of the day, and usually takes place at a public event. A horse show is usually held at a state fair or other public celebration. This is because the public celebrations are usually held at a public celebration and is often held at the end of the day. The horse show is a public celebration and is often held at a public celebration, and is often held at the end of the day. It is a public celebration to show the horses, and the horses, and other animals, and other animals. The horse show is a public celebration, which can be a public celebration of the state fair. The horse show is a public celebration of the state fair, which is usually held at the state fair is held at the state fair is held at the state fair. It is a public celebration that is held at the state fair, which is a public celebration. The horse show is a public event is a public event, which is a public celebration of horse shows, which is a public celebration, and is a public celebration that is held at a public event, which is a public event. Horse shows are held at the state fair. The horse shows are a public celebration that is held at the state fair, and the horse shows are a public event, which is held at the horse shows, and the horse shows are held at the state fair. Horse shows are held at the state fair, the horse shows are held at the horse shows are held at the state fair. The horse shows are a public celebration of the horse shows are held at the state fair. The horse shows are usually held at the state fair. The horse shows are usually held at the end of the year, which is a public celebration of horse shows are usually held in the public celebration of horse shows are usually held in the state fair. The horse shows are usually held in the summer. Horse shows are usually held in the summer. Horse shows are held in the summer. Horse shows are held in the summer, and the horse shows are a public event, and\n",
      "########\n",
      "*******\n",
      "question: There are many wage gaps being discussed, the most important of which is between the rich and what?\n",
      "answer: poor\n",
      "choices: ['plain', 'sleepy', 'poor', 'idle', 'needy']\n",
      "common expl list: ['The poor are a group which suffers from a wage gap, denoted as their earning less than others, especially the rich.']\n"
     ]
    },
    {
     "name": "stderr",
     "output_type": "stream",
     "text": [
      "\r",
      " 10%|███████████████▋                                                                                                                                                 | 96/986 [1:07:17<19:16:53, 77.99s/it]"
     ]
    },
    {
     "name": "stdout",
     "output_type": "stream",
     "text": [
      "generated explanation: <pad> <extra_id_0> There are many wage gaps being discussed, the most important between the rich and poor. The most common gap between poor and the rich is between the rich and the poor. The most important gap between the rich and the poor is the gap between the rich and the poor. The most common gap is between the rich and the poor, the most important gap being between the rich and the poor. The most important gap is between the rich and the poor. The most important gap is between the rich and the poor, both of whom have a high wage gap. The most important gap between the rich and poor wage gap is between the rich and poor. The most important gap is between the poor, and the gap is between the poor and the rich. The gap is often the poor. The gap is often between the rich and the poor are the most important one. The wage gap is often the most important factor in determining the wage gap between the rich and the poor. The most important gap is the gap between the rich and the poor. The gap is often the gap between the rich and the poor. The gap is often found between the rich and the poor. The gap is often due to the gap between the rich and the poor. The gap is often due to the incomes and the income gap between the two groups are often a result of the gap between the rich and the poor. The gap between the poor.<extra_id_1> </s>\n",
      "########\n",
      "*******\n",
      "question: What city in a North American Country, that isn't the United States, would you expect to find a good french restaurant?\n",
      "answer: quebec\n",
      "choices: ['wine', 'nyc', 'quebec', 'manhattan', 'paris']\n",
      "common expl list: ['Quebec has a strong french heritage, and the french cuisine is actually quite popular in the United States.', 'Quebec is a province in Canada, and is known for its french culture.', 'Quebec is said to have strong french-culture since it was originally french territory. This would make sense if quebec had a good french restaurant.', 'Quebec is the only province that speaks French in North America, and you might expect to find a good french restaurant there.']\n"
     ]
    },
    {
     "name": "stderr",
     "output_type": "stream",
     "text": [
      "\r",
      " 10%|███████████████▊                                                                                                                                                 | 97/986 [1:07:51<15:57:38, 64.63s/it]"
     ]
    },
    {
     "name": "stdout",
     "output_type": "stream",
     "text": [
      "generated explanation: <pad> <extra_id_0> A good french restaurant is a popular restaurant in North America. It is located in a city like quebec, which is known for its great food and friendly service. It is also a popular place to dine in a country like the United States and Canada. It is also a popular restaurant in Canada, which is a popular choice for those looking for a good french meal. It is a popular place to find French food in a North American country. It is also a great place to eat in a country restaurant in North America, and it is a great place to enjoy a good restaurant in Quebec, which is a great place to find a good place to stay in the country. It is also a great place to eat french food and drink. It is also a popular choice for those looking for a good restaurant in Quebec, which is a great place to dine in Quebec, which is a great place to eat in Quebec, which is a great option for those looking to dine in Quebec.<extra_id_1> </s>\n",
      "########\n",
      "*******\n",
      "question: Care not to burn you hand on the handle of what small high-walled vessel?\n",
      "answer: saucepan\n",
      "choices: ['brush', 'carry object', 'walking stick', 'umbrella', 'saucepan']\n",
      "common expl list: ['A saucepan is a small, high-walled vessel, built for holding liquids and usually used in the kitchen.']\n"
     ]
    },
    {
     "name": "stderr",
     "output_type": "stream",
     "text": [
      "\r",
      " 10%|████████████████                                                                                                                                                 | 98/986 [1:09:41<19:20:43, 78.43s/it]"
     ]
    },
    {
     "name": "stdout",
     "output_type": "stream",
     "text": [
      "generated explanation: <pad> <extra_id_0> Care not to burn your hand on the handle of a saucepan. This is because the saucepan is a small, high-walled vessel. The lid of the saucepan should be able to hold the handle of the saucepan without burning it. The handle should be able to hold the handle of the saucepan and allow the handle to be opened. The handle should be able to easily be removed and removed from the heat source. The heat generated by the saucepan should not be too hot or too hot to touch. The heat produced by the heat from the heat can cause accidental burns. The heat from the heat can be dangerous for your hands. The heat must be protected from the heat of the flame. The heat can be dangerous to your hands. The heat from the heat from the heat of the saucepan, which can be dangerous to the touch. The heat from the heat from the heat from the heat. The heat from the heat. The heat can be a large amount of heat from the heat from the heat from the heat of the heat from the heat. The heat source can be used to prevent the heat from the heat. The heat from the heat of the heat from the flame. The heat is also important for the safety of the flame. The heat from the heat from the heat of the heat from the heat can be too high-walled flame. The heat can also be too hot. The heat will be stored in the saucepan can be used to heat the heat can be a large amount of heat and can be used to burn the handle of the saucepan, and the heat can be stored in the saucepan, and the heat can be used to the heat and the heat.<extra_id_1> </s>\n",
      "########\n",
      "*******\n",
      "question: What container does peanut butter come in?\n",
      "answer: jar\n",
      "choices: ['cupboard', 'pantry', 'jar', 'bottle', 'supermarket']\n",
      "common expl list: ['Jars, like those that pickles often come in, are suitable for food items that need to be kept fresh for long time. Jars can be resealed.', 'Jars can keep food sealed without leaking, and often have lids. Peanut butter is sealed in a jar and could be kept in a house, kitchen, pantry, or cupboard.', 'Jars are often used to store food, and peanut butter is a food.', 'Peanut butter comes in glass jars, like many other food products.']\n"
     ]
    },
    {
     "name": "stderr",
     "output_type": "stream",
     "text": [
      "\r",
      " 10%|████████████████▏                                                                                                                                                | 99/986 [1:09:58<14:43:27, 59.76s/it]"
     ]
    },
    {
     "name": "stdout",
     "output_type": "stream",
     "text": [
      "generated explanation: <pad> <extra_id_0> Peanut butter comes in a variety of sizes, shapes, and sizes. Each size is unique and can contain a variety of ingredients. Each size is a unique and unique combination of ingredients that are used to make a great gift. Jars are a great way to store peanut butter in a jar. A jar is a common place for storing peanut butter in a jar. Jars are also used to store other ingredients such as nuts, seeds, and other nuts. They are a great way to store peanut butter in a variety of other ingredients. jars are a great way to store peanut butter in a jar or container. They are also used to store peanut butter in a jar. They are also a great way to store peanut butter in a jar. jars are a great way to store peanut butter in a variety of colors, sizes, and sizes.<extra_id_1> </s>\n",
      "########\n",
      "*******\n",
      "question: Where are plants likely to be handled by a city employee?\n",
      "answer: park\n",
      "choices: ['park', 'windowsill', 'ground', 'office', 'garden']\n",
      "common expl list: ['Parks are where city employees are likely to handle plants.', 'A city employee might handle plants while working in a park.']\n"
     ]
    },
    {
     "name": "stderr",
     "output_type": "stream",
     "text": [
      "\r",
      " 10%|████████████████▏                                                                                                                                               | 100/986 [1:10:27<12:29:27, 50.75s/it]"
     ]
    },
    {
     "name": "stdout",
     "output_type": "stream",
     "text": [
      "generated explanation: <pad> <extra_id_0> A park is a great place to handle plants that are often handled by a park employee because they are more likely to be used to provide a natural environment for them. Parks are also a great place to gather information about the plants and how they are handled. Parks are a great place to gather and store plants, which is why they are often used to provide a safe environment for the plants to be handled. Parks are also a great place to handle plants, as they are often well-maintained and well-managed. Parks are also a great place to store plants, which is why they are often used to being handled by a city employee. Parks are also a great place to store plants and other important information about the plants and how they are handled. Parks are a great place to store plants and are a great place to keep the plants. Parks are a great place to place to stay. Parks are a great place for people to use the facilities and facilities that are often used to their own.<extra_id_1> </s>\n",
      "########\n",
      "*******\n",
      "question: Trains tend to come on time, airplanes on the other hand tend to what?\n",
      "answer: arrive late\n",
      "choices: ['stall', 'take off', 'arrive late', 'catch on fire', 'carry freight']\n",
      "common expl list: ['Planes are carreid by more complicated mechanisms than trains, and therefore tend to be harder to operate exactly on time.', \"Planes aren't typically known for arriving on time (air traffic, weather, repairs, et. al.), whereas trains tend to be more reliable.\"]\n"
     ]
    },
    {
     "name": "stderr",
     "output_type": "stream",
     "text": [
      "\r",
      " 10%|████████████████▎                                                                                                                                              | 101/986 [1:14:04<24:44:38, 100.65s/it]"
     ]
    },
    {
     "name": "stdout",
     "output_type": "stream",
     "text": [
      "generated explanation: <pad> <extra_id_0> Trains tend to come on time, airplanes tend to arrive late because of the fact that trains are often delayed due to the fact that they are delayed due to traffic. This is because the delay is due to the fact that the trains are usually on time, so the delays are usually due to the fact that they are on the train. The train also tends to come on time, while the airplanes tend to arrive late because of the lack of passenger space available. The latter means that passengers are unable to catch their trains on time due to the lack of passenger space available. They are also a problem when they arrive late. They arrive lateness. They arrive late because they are often a sign that they are not always on time. They arrive on time, which is why they are often late. They arrive late. They are often late because they are often delayed due to the lack of parking. This is a factor when traveling on time. They are often delayed trains tend to arrive late because they arrive late. They also tend to arrive on time when they arrive late, which is why they are often delayed by delays. They are often late. They arrive late because trains are often on time, which makes it a problem for the train, because they arrive late because they are a common problem for passengers to arrive late because they are late because they are not always on time, and because they are often late because they are often late because they are often late because they are often late because they are often late because they are often delayed because they are often late because they arrive late because they are often the same day, they are often late because they are often delayed because they are often delayed because they are late because they are often delayed because they are often delayed because they are often delayed because they are often late due to this reason they are often delayed because they are often delayed due the delayed because they are often delayed because they are often delayed because they are often delayed due to delays. They arrive late because they are not always on time. They arrive late because they are a big part of the rush. They arrive late because they arrive late because they arrive because they are often too busy traveling on trains are not a reason to arrive late because they are more likely to arrive late because they are not always late because they are not always late. They arrive late because they arrive late because they are more often traveling by flight. They arrive late because they arrive late because they are too busy and therefore they\n",
      "########\n",
      "*******\n",
      "question: Where is glue well used?\n",
      "answer: art room\n",
      "choices: ['desk drawer', 'cabinet', 'art room', 'school', 'closed container']\n",
      "common expl list: ['Glue is used in art projects, and art rooms are where art projects are done.']\n"
     ]
    },
    {
     "name": "stderr",
     "output_type": "stream",
     "text": [
      "\r",
      " 10%|████████████████▌                                                                                                                                               | 102/986 [1:14:37<19:42:00, 80.23s/it]"
     ]
    },
    {
     "name": "stdout",
     "output_type": "stream",
     "text": [
      "generated explanation: <pad> <extra_id_0> Where is the glue well used? The glue used in art rooms is a common tool in the art room because it is used to create a beautiful and functional space. The glue is also used to create a focal point for a room. The glue is also used to create a focal point for the walls of the room. The glue is also used to create a focal point for the wall, creating a focal point for the room. The glue is also used to create a focal point for the room. The glue is also used to create a focal point for the walls, and is used to create a focal point for the room, and is a great way to create a focal point for the room. The use of glue is also used to create a focal point for the walls, creating a focal point for the art. The glue is also used to create a strong and lasting impression that the room is a focal point for the room, allowing the room to be a great source of light, which is often used to create a focal point for the art room.<extra_id_1> </s>\n",
      "########\n",
      "*******\n",
      "question: Billy loves science, history, and art but isn't very creative.  When he was visiting the museum, he felt a great deal of what emotion?\n",
      "answer: enjoyment\n",
      "choices: ['inspiration', 'fulfillment', 'wonder', 'boredom', 'enjoyment']\n",
      "common expl list: ['When Billy visited a museum which had a lot of fields of interest, Billy enjoyed himself while he learned from the experience at the same time.', 'At a museum, Billy uses history to find science, and science to find art; by combining different loves, going to the museum has been fulfilling. To achieve fulfilment, Billy felt an enjoyable feeling.']\n"
     ]
    },
    {
     "name": "stderr",
     "output_type": "stream",
     "text": [
      "\r",
      " 10%|████████████████▌                                                                                                                                              | 103/986 [1:17:30<26:31:59, 108.18s/it]"
     ]
    },
    {
     "name": "stdout",
     "output_type": "stream",
     "text": [
      "generated explanation: <pad> <extra_id_0> Billy isn't very creative and isn't very creative. He loves museums because they are a great place to visit because they offer a great deal of information, and because they offer a great deal of value. However, museums are also a great place for people to learn about new subjects and cultures. They also offer a great deal of information about the world and the people who live there. They also offer a great variety of exhibits and exhibits. They are all designed to give visitors a sense of wonder and wonder at what they have to do with museums. They are also a great place to visit, and they are filled with a great deal of excitement and wonder. They are also filled with history, history, and art. They are also filled with history, history, and art. They are filled with history, history, and art. They are filled with a great deal of excitement and excitement. They are filled with the experience of being in the museum, and they are filled with a great way to make a great experience. They are filled with a great way to make a great way to experience the magic of the museum. They are filled with the magic of the history, history, and art, science, history, and art, and they are filled with history, and they are all filled with the thrill of being a great deal of fun. They are filled with the experience of being a great deal of excitement. The museum is a great opportunity to see the museum is a great way to experience the experience a great experience for the visitor. The museum offers a great opportunity for the visitor with the history, science, history, and art, the history, and the history, and the history that make a great deal of history and the history and the history and history. The museum offers a great deal of excitement, a great deal of history and culture. The museum offers a great deal of fun and excitement that makes a great way to experience a great opportunity to learn about the history and culture. The museum offers a great opportunity to experience a great way to experience the history and the history and the history of the history and the history of the world. The museum offers a great deal of history, and the museum offers a great deal of history and the museum offers a great deal of history. The museum offers a great deal of enjoyment that makes a great\n",
      "########\n",
      "*******\n",
      "question: Sarah did much hard work, even though she was on vacation.  Her mother told her off and said what?\n",
      "answer: do nothing\n",
      "choices: ['unemployment', 'say something', 'earn money', 'do nothing', 'relaxation']\n",
      "common expl list: ['If one is on vacation, one is supposed to \"do nothing\" as opposed to working - the \"something\" that is discouraged. Many physically hard jobs involve getting the hands dirty.']\n"
     ]
    },
    {
     "name": "stderr",
     "output_type": "stream",
     "text": [
      "\r",
      " 11%|████████████████▉                                                                                                                                               | 104/986 [1:17:33<18:46:13, 76.61s/it]"
     ]
    },
    {
     "name": "stdout",
     "output_type": "stream",
     "text": [
      "generated explanation: <pad> <extra_id_0> Sarah did much hard work, even though she was on vacation. Her mother told her off because she was on vacation. She was also working on her daughter's school. She also said she was going to be on vacation and would be spending the day with her family. She said she would be able to work on her own things, such as her computer, her computer, and her mother. She also said she would be able to do her work without her mother's help. She would have to work on her family, which is why she did. She would be able to afford it, which she did, and she would be able to afford it. She would also have a lot of money, and she would have to take time off.</s>\n",
      "########\n",
      "*******\n",
      "question: James walked barefoot on a something that was made hot by sunshine. What is he probably walking on?\n",
      "answer: street\n",
      "choices: ['desktop', 'summer', 'moon', 'meadow', 'street']\n",
      "common expl list: ['Because of the intense heat of summer, sunlight reflects off the pavement, causing a hot sensation when one walks barefoot in the summer.']\n"
     ]
    },
    {
     "name": "stderr",
     "output_type": "stream",
     "text": [
      "\r",
      " 11%|█████████████████                                                                                                                                               | 105/986 [1:17:36<13:18:41, 54.39s/it]"
     ]
    },
    {
     "name": "stdout",
     "output_type": "stream",
     "text": [
      "generated explanation: <pad> <extra_id_0> James probably walking on a street that was made hot by sunshine. The street is a place where people can walk barefoot on a street. The street is a place where people can walk barefoot on a street. The street is a place where people can walk barefoot on a street. The street is a place where people can walk barefoot on a street. The street is a place where people can walk barefoot on a street that is made hot by sunshine. It is a place to walk barefoot on a street. The street is also a place to walk barefoot on a street.</s>\n",
      "########\n",
      "*******\n",
      "question: He grew tired of standing in the kitchen his whole shift, where was he?\n",
      "answer: restaurant\n",
      "choices: [\"neighbor's house\", \"friend's house\", 'restaurant', 'jail', 'fraternity house']\n",
      "common expl list: ['One can get tired standing in a kitchen if one is on their feet all day; kitchens are typically in restaurants.', 'A restaurant would have a kitchen, where you would be required to stand while your shift is in session.']\n"
     ]
    },
    {
     "name": "stderr",
     "output_type": "stream",
     "text": [
      "\r",
      " 11%|█████████████████▏                                                                                                                                              | 106/986 [1:18:56<15:10:33, 62.08s/it]"
     ]
    },
    {
     "name": "stdout",
     "output_type": "stream",
     "text": [
      "generated explanation: <pad> <extra_id_0> He grew tired of standing in the kitchen his whole shift, and he was no longer required to stand in the kitchen. Restaurants are places that serve food and drink to customers. Restaurants are also known for their food and drink service, which is a vital part of a restaurant’s culture. Restaurants also offer a wide range of services, including cooking classes, cooking classes, and tasting classes. Restaurants also offer a variety of food and beverage options, including a variety of choices for customers to choose from. Restaurants offer a variety of beverages, beverages, beverages, and drinks. Restaurants also offer a variety of services, such as the food and beverages, and beverage service, and beverages. Restaurants also offer a variety of services, such as a variety of products and services. Restaurants also offer a variety of different types of food and beverage options. Restaurants also offer a variety of services, such as a variety of different types of food and drinks. During the day, a day, and other services. This is because restaurants are often more productive and efficient, and because they are a great place to work with a variety of different types of services. Restaurants offer a variety of services that are available in a variety of products that are often more versatile and efficient service. Restaurants also offer a variety of services that are available in a variety of services. Restaurants that are a variety of cuisines. Restaurants can be a great place to work. Restaurants can also be a great way to accommodate the demands of the food service industry.<extra_id_1> </s>\n",
      "########\n",
      "*******\n",
      "question: The children play cards often, but they make their own rules because they can't what the originals?\n",
      "answer: remember\n",
      "choices: ['bid', 'concentrate', 'winning', 'count', 'remember']\n",
      "common expl list: [\"The children are making up their own rules because they can't remember the original rules.\", 'Children often play games that are similar to those played by adults, such as card games, but with slight variations to how they are played. This is most likely because children cannot remember the original rules of the card games. Smiling is a common expression']\n"
     ]
    },
    {
     "name": "stderr",
     "output_type": "stream",
     "text": [
      "\r",
      " 11%|█████████████████▎                                                                                                                                              | 107/986 [1:20:15<16:24:05, 67.17s/it]"
     ]
    },
    {
     "name": "stdout",
     "output_type": "stream",
     "text": [
      "generated explanation: <pad> <extra_id_0> The children play cards often, but they make their own rules because they can't remember the originals because they can't remember the originals. They also make their own rules because they can't remember the originals because they can't remember the originals. They also make their own rules because they can't remember the originals. This is because the children are able to remember the originals and make their own rules. They can also remember the originals because they can't remember the rules. They also learn how to use the originals to make their own rules. This is because the originals are not always the same rules. The children can't remember the originals and play cards to make their own rules. The children play cards often, but they can't remember the originals and can't remember the originals. The children can't remember the originals because they can't remember the originals because they can't remember the originals because they can't remember the originals. They can't remember the originals because they can't remember the originals because they can't remember the originals because they can't remember the originals because they can't remember the originals because they can't remember the originals because they can't remember the originals because they can't remember the originals because they can't remember the originals because they can't remember the originals because they can't remember the originals because they can't remember the originals because they can't remember the originals because they can't remember the originals</s>\n",
      "########\n",
      "*******\n",
      "question: On an average day, going to work could make you feel like what?\n",
      "answer: feeling good\n",
      "choices: ['feeling good', 'anger', 'revelation', 'being fired', 'tardiness']\n",
      "common expl list: ['To fulfill a life purpose and to gain fulfillment, people often undertake gainful employment. Thus, the people who experience this data point might experience feelings of accomplishment/fulfillment.', 'People sometimes feel pride and accomplishment when they get things done at the office.']\n"
     ]
    },
    {
     "name": "stderr",
     "output_type": "stream",
     "text": [
      "\r",
      " 11%|█████████████████▌                                                                                                                                              | 108/986 [1:20:18<11:43:21, 48.07s/it]"
     ]
    },
    {
     "name": "stdout",
     "output_type": "stream",
     "text": [
      "generated explanation: <pad> <extra_id_0> Going to work can make you feel good on average day. This is because it can make you feel good and give you the confidence to work hard. It can also help you to focus on your studies and your family. It can also help you to focus on your studies and to focus on your work. This helps you to feel more focused and motivated. This can help you to focus on your work and to focus on your work. This can also help you to focus on your work and to focus on your goals. This helps to make it easier to focus on your work day. It can also help you to focus on your work and to focus on your work more efficiently and effectively. Going to work can also help you to focus on your goals and focus on your work more efficiently. Finally, going to work can also help you to focus on your work more effectively.<extra_id_1> </s>\n",
      "########\n",
      "*******\n",
      "question: What country has the carpathians and is the furthest in the direction of the side that won the U.S. Civil War?\n",
      "answer: poland\n",
      "choices: ['slovakia', 'slovenia', 'poland', 'ukraine', 'romania']\n",
      "common expl list: ['Poland is the only country that has the carpathian mountains, and it was the most distant in the direction from the side that won the U.S. Civil War (the North).']\n"
     ]
    },
    {
     "name": "stderr",
     "output_type": "stream",
     "text": [
      "\r",
      " 11%|█████████████████▋                                                                                                                                              | 109/986 [1:20:44<10:04:17, 41.34s/it]"
     ]
    },
    {
     "name": "stdout",
     "output_type": "stream",
     "text": [
      "generated explanation: <pad> <extra_id_0> Poland is home to the carpathians and is the country with the most carpathians in the world. This country is also home to the Carpathians and the most important sites in the world. This country is also home to the Carpathians and is home to the largest concentration of carpathians in the world. This country is also the most important place in the world to witness the history of the country and the great battles that took place in the country during the Civil War. The carpathians are located in the northwestern part of the country. The country is also the largest country in the world. The carpathians are located in the southern part of the country that won the U.S. The country is also the most important place in the world to witness the great battles and battles that took place in the country. The country is also the center of the Carpathians and is the most important for the country. The carpathians are important for the country's role in the country's history and the history of the country's role in the history of the world's history.</s>\n",
      "########\n",
      "*******\n",
      "question: What would happen if you want to win a game?\n",
      "answer: competitiveness\n",
      "choices: ['competitiveness', 'satisfaction', 'learning', 'injuries', 'play']\n",
      "common expl list: [\"Victory in a game requires one to make a maximum effort, and peoples' desire to win has to be rather competitive.\", 'To win a game, you must be competitive.', 'After playing a game, a person would be likely compelled to win the game becasue they want a feeling of satisfaction from winning the game. In order to win, a person would need to be competitive.', 'Competitive athletes would want to win their games, whatever the cost; this desire to win leads to competitiveness and creates the desire to win over even long periods of time; it also often leads to brutal physical play --- such as by causing injuries to opposing r', 'If you want to win a game, you will try put your best effort to take your chances at winning over those of your opponents.']\n"
     ]
    },
    {
     "name": "stderr",
     "output_type": "stream",
     "text": [
      "\r",
      " 11%|█████████████████▉                                                                                                                                               | 110/986 [1:21:04<8:27:51, 34.78s/it]"
     ]
    },
    {
     "name": "stdout",
     "output_type": "stream",
     "text": [
      "generated explanation: <pad> <extra_id_0> If you want to win a game, you must be competitive. This is because competition is a way to win games. It is a way to win because competition is a way to win games. It is a way to win games because it is a way to gain more points and to win more points. It is a way to win games because it is a way to win. It is also a way to gain points for your team and to win points for your team. It is a way for you to win games, as it is a way to win. It is also a way to gain points and to win a game. Ultimately, it is a way to win a game because it is a way to gain a team that is a way to gain a lot more points. It is a way to gain points. It is a way to gain a sense of competitiveness and to gain a sense of superiority and to win a game.<extra_id_1> </s>\n",
      "########\n",
      "*******\n",
      "question: Where should watch to avoid being pinched by a crab?\n",
      "answer: sandy beach\n",
      "choices: ['eastern coast', 'sandy beach', 'fish market', 'north carolina', 'sand dunes']\n",
      "common expl list: ['Crabs live in sandy areas, and people who visit sandy beaches are likely to be pinched by crabs.', 'It is more common to find crabs living in sandy beach areas.']\n"
     ]
    },
    {
     "name": "stderr",
     "output_type": "stream",
     "text": [
      "\r",
      " 11%|██████████████████                                                                                                                                               | 111/986 [1:21:07<6:07:56, 25.23s/it]"
     ]
    },
    {
     "name": "stdout",
     "output_type": "stream",
     "text": [
      "generated explanation: <pad> <extra_id_0> A sandy beach is a great place to watch to avoid being pinched by a crab. Sand is a great place to watch for crabs and other crabs, as it provides a safe environment for crabs to swim and eat. They can also be a great place to swim and swim. They can also be a great place to eat and drink, as they are often a good source of fresh seafood. They also provide a great environment for swimming and swimming. They also provide a great place to rest and resting place, which is a great place to stay safe from the crabs.</s>\n",
      "########\n",
      "*******\n",
      "question: What is a large group of human beings?\n",
      "answer: civilisation\n",
      "choices: ['an infestation', 'civilisation', 'homes', 'graveyard', 'spacecraft']\n",
      "common expl list: ['Civilisation is generally used to refer to large populations of humans living together in a single area, responding to collective needs.']\n"
     ]
    },
    {
     "name": "stderr",
     "output_type": "stream",
     "text": [
      "\r",
      " 11%|██████████████████▎                                                                                                                                              | 112/986 [1:22:14<9:11:17, 37.85s/it]"
     ]
    },
    {
     "name": "stdout",
     "output_type": "stream",
     "text": [
      "generated explanation: <pad> <extra_id_0> A large group of human beings is a large group of people who are a civilised society. They are a group of people who are able to live in a civilised society and live in a civilised society. This group of people are a large part of society, and are also able to communicate with each other, their cultures, and their cultures. This is because civilisation is a form of social interaction that allows for a greater understanding of the world and the culture it is based on. This is because civilisation is a form of social interaction that is able to communicate with each other, and the culture of the society. Civilisation is a large group of human beings, which means that they are able to communicate, and to communicate with each other, which is a significant factor in the way they act. This is because they are able to communicate with one another, and to be able to communicate with one another, and to be able to communicate with one another and to be able to communicate with one another. Civilisation is a great way to make a large group of human beings are able to communicate with one another, which is able to communicate with one another, and to make a social and culturally able to make a positive impact on society. Civilisation is a large group of human beings are able to make a positive and powerful force.</s>\n",
      "########\n",
      "*******\n",
      "question: What  is likely to happen to ice in the sun?\n",
      "answer: become water\n",
      "choices: ['cool water', 'cool drink', 'cool off', 'nothing', 'become water']\n",
      "common expl list: ['because hot melts cold, ice will melt if kept in the sun.', 'When ice is exposed to the sun, it melts, becoming water.']\n"
     ]
    },
    {
     "name": "stderr",
     "output_type": "stream",
     "text": [
      "\r",
      " 11%|██████████████████▍                                                                                                                                              | 113/986 [1:22:39<8:14:01, 33.95s/it]"
     ]
    },
    {
     "name": "stdout",
     "output_type": "stream",
     "text": [
      "generated explanation: <pad> <extra_id_0> Ice is likely to become water in the sun. Water is likely to form in the sun and form into ice in the sun. This is because ice is likely to become ice in the sun and become ice. This is because ice will become water and become ice in the sun. This is because ice will become a watery, ice-like substance that can form in the sun. It is also likely to become a form of water when it is exposed to the sun. It is likely to become ice will likely to become ice in the sun. It will become ice and become water in the sun. It is also likely to become ice in the sun will become water in the sun. It is likely to become ice in the sun, which can cause it to become ice in the sun. It is likely to become a water-based substance that can be used to make ice in the sun, making it ice and ice. It can also be used to make it ice crystallization, which can lead to ice crystals. <unk> <extra_id_1> </s>\n",
      "########\n",
      "*******\n",
      "question: Where can travellers pull off the road to stretch their legs?\n",
      "answer: rest area\n",
      "choices: ['rest area', 'airport', 'train station', 'come home', 'bus depot']\n",
      "common expl list: ['Rest areas are publicly provided spaces for drivers to get out of their cars for a break. Train stations, bus depots, come home, and airports are all places where one might catch a bus, train, taxi, or plane, or have arrived', 'Rest areas are places where people can pull off the road to stretch their legs, and they are often located near gas stations, which are frequented by travellers.', 'Rest areas generally allow travelers to spend time away from the roads, which are generally connecting points to large cities and particular highway names.']\n"
     ]
    },
    {
     "name": "stderr",
     "output_type": "stream",
     "text": [
      "\r",
      " 12%|██████████████████▍                                                                                                                                             | 114/986 [1:23:55<11:20:05, 46.79s/it]"
     ]
    },
    {
     "name": "stdout",
     "output_type": "stream",
     "text": [
      "generated explanation: <pad> <extra_id_0> Rest areas are places that are primarily used to stretch the legs. Rest areas are places that are often used to stretch the legs. Rest areas are places where travellers can stretch their legs. They are also places where travellers can stretch their legs. They are often located in a small area of a road or a small area of grass, which is often used to stretch their legs. They are also often used to relax and stretch their legs. They are also used to relax and stretch their legs. They are also used to stretch their bodies and muscles. Rest areas are often used to stretch their legs. Rest areas are also used to provide a place for travellers to stretch their legs. Rest areas are also used to provide a safe and comfortable place to relax and to exercise. They are also used to provide a comfortable place to relax and unwind and stretch their muscles. The rest area is a great way to relax and unwind and stretch their legs. The rest area is a great way to unwind and stretch their legs. Having a rest area is a great way to stretch their legs. The rest area is a great place to relax and stretch. The rest area is a great place to stretch and stretch legs are comfortable and safe. The rest areas are a great place to stretch and stretch and stretch. They are designed to provide a place to stretch and stretch and stretch and stretch and stretch. They are a place to relax and stretch and stretch and stretch area is a place to stretch and stretch and to stretch and to relax.<extra_id_1> </s>\n",
      "########\n",
      "*******\n",
      "question: A poor family has no decorations in December, what would make a great gift?\n",
      "answer: christmas tree\n",
      "choices: ['food', 'specialty store', 'christmas tree', 'department store', 'christmas stocking']\n",
      "common expl list: ['The family is poor, so we might assume that they have nothing for decoration for their Christmas season. To help fix this, a Christmas tree would be the greatest gift.', 'In December, most families tend to put up christmas decorations. A christmas tree would make a good gift for a poor family.', 'A christmas tree is a traditional decoration for christmas.']\n"
     ]
    },
    {
     "name": "stderr",
     "output_type": "stream",
     "text": [
      "\r",
      " 12%|██████████████████▊                                                                                                                                              | 115/986 [1:24:00<8:13:28, 33.99s/it]"
     ]
    },
    {
     "name": "stdout",
     "output_type": "stream",
     "text": [
      "generated explanation: <pad> <extra_id_0> A christmas tree would be a great gift for a poor family because it would be a great way to give a gift that isn't decorated in December. It would also make a great gift for a poor family as it would be a great way to give a gift to a family that has no decorations. Christmas is a time of great comfort and peace, and it is a great way to give a gift that is a little more personal. Christmas trees are a great way to give a poor family a great gift. They are a great way to give back to a family and friends who have lost a loved one.</s>\n",
      "########\n",
      "*******\n",
      "question: Where would you buy jeans in a place with a large number of indoor merchants?\n",
      "answer: shopping mall\n",
      "choices: ['shopping mall', 'laundromat', 'hospital', 'clothing store', 'thrift store']\n",
      "common expl list: ['Shopping malls usually contain a large variety of stores, including stores that sell clothes and jeans.', 'Since malls (or indoor shopping centers in general) contain numerous merchants, including clothing stores, you could purchase jeans in one such store.', 'Shopping malls often have a large number of stores, including clothing stores.']\n"
     ]
    },
    {
     "name": "stderr",
     "output_type": "stream",
     "text": [
      "\r",
      " 12%|██████████████████▉                                                                                                                                              | 116/986 [1:24:38<8:34:12, 35.46s/it]"
     ]
    },
    {
     "name": "stdout",
     "output_type": "stream",
     "text": [
      "generated explanation: <pad> <extra_id_0> A shopping mall is a great place to buy jeans because it offers a wide variety of products, and they are often more stocked with the latest trends and trends. This is because shopping malls are a great place to buy jeans because they offer a wide range of styles and styles. The mall also has a large number of indoor merchants, making it a great place to shop. Also, malls are a great place to buy jeans, as they offer a wide variety of styles, colors, and prices. Furthermore, malls offer a great way to purchase jeans as they are often cheaper than a storefront, as they are often more convenient to buy from. The malls also have a large number of indoor merchants, making it a great place to buy jeans in a mall. Furthermore, malls are a great place to buy jeans in a shopping mall a great way to buy jeans in a shopping mall. Furthermore, malls are also a great way to purchase jeans in a shopping experience for shoppers who want to buy their purchases in a shopping experience. In addition, shopping malls are a great way to buy their products in a mall.<extra_id_1> </s>\n",
      "########\n",
      "*******\n",
      "question: If I wanted to get some oxygen, what will I get it from?\n",
      "answer: air\n",
      "choices: ['the sky', 'air', 'earth', 'space shuttle', 'water']\n",
      "common expl list: ['Oxygen is found in the air.']\n"
     ]
    },
    {
     "name": "stderr",
     "output_type": "stream",
     "text": [
      "\r",
      " 12%|██████████████████▉                                                                                                                                             | 117/986 [1:26:52<15:38:18, 64.79s/it]"
     ]
    },
    {
     "name": "stdout",
     "output_type": "stream",
     "text": [
      "generated explanation: <pad> <extra_id_0> Air is the most effective way to get oxygen, as it is the most effective way to get it. Air is the most effective way to get oxygen, as it provides oxygen to the body and therefore provides oxygen to the body. Air provides oxygen to the body and provides oxygen to the body. Air is also the best way to get oxygen from the air, as it provides a sense of air flow. It also provides oxygen to the body, which helps to keep the body hydrated and energized. Additionally, air is also a great source of oxygen to help you breathe. It is also the best way to get oxygen through the air, which is a great source of oxygen. This helps to provide a sense of freshness and oxygen to the body. The air provides oxygen to the body, which helps to provide oxygen to the body. Air is a great source of oxygen to the body. Air is the best source of oxygen. It is also a great source of oxygen, which means that breathing is a great source of oxygen. Air is a great source of oxygen is a great source of oxygen for many people. Air is a great source of oxygen. I can also help to get some oxygen. Air is a great source of oxygen, which means that I can get some oxygen to get some oxygen. Air is a great source of oxygen, so I can get some of the oxygen I can get some oxygen. I can also help me to get some oxygen. I can also helps me to get some oxygen through breathing. I can also help me to breathe, which helps me to breathe through the air. I can also help me to get oxygen and oxygen to breathe through the air to get oxygen to get some oxygen to breathe. I can breathe oxygen, which helps me to get oxygen from breathing through breathing. Air is a great source of oxygen, and it can also help me breathe through oxygen from breathing. I can breathe through the air. I can also help me to get oxygen and oxygen-rich, which helps me to get some oxygen from the air to get some oxygen without having to breathe. The air is a great way to get some oxygen from air. It is also a powerful source of oxygen, which is why it is a great source of oxygen, which helps me to breathe oxygen, and it is a great source of oxygen. I can breathe through the air. Air is a great source of oxygen, and it is\n",
      "########\n",
      "*******\n",
      "question: What happens after having food too much?\n",
      "answer: getting fat\n",
      "choices: ['being full', 'laziness', 'weight gain', 'getting fat', 'will not starve']\n",
      "common expl list: ['Eating too much food causes one to gain weight, and thus become fat.', 'People will become fat, and even obese from eating too much food.', 'Eating too much food causes one to become obese.']\n"
     ]
    },
    {
     "name": "stderr",
     "output_type": "stream",
     "text": [
      "\r",
      " 12%|███████████████████▏                                                                                                                                            | 118/986 [1:27:09<12:11:21, 50.55s/it]"
     ]
    },
    {
     "name": "stdout",
     "output_type": "stream",
     "text": [
      "generated explanation: <pad> <extra_id_0> After eating too much food, the body is prone to developing a tendency to gain weight. The body is prone to becoming fat, which can lead to weight gain. The body is also prone to developing fat, which can lead to weight gain, which can lead to weight gain. The body is also prone to developing fat deposits in the blood, which can lead to a higher risk of developing a gastrointestinal infection. The body is also susceptible to developing a bad gastrointestinal system, which can lead to weight gain. The body is more likely to become obese after eating. The body is also more likely to gain weight, which can lead to weight gain, which can lead to weight gain. The body is more likely to become fat deposits after eating too much food is consumed in order to get fattening. The body is also more likely to get fat deposits in the urine, which can lead to a greater risk of getting fattening.<extra_id_1> </s>\n",
      "########\n",
      "*******\n",
      "question: It was the first time they had met their new niece, it was good to have everybody together at the annual what?\n",
      "answer: family reunion\n",
      "choices: [\"brother's house\", 'family picture book', 'family tree', 'family reunion', 'book']\n",
      "common expl list: ['A family reunion is called a family reunion because this is where all of the family members gather for the re-union.']\n"
     ]
    },
    {
     "name": "stderr",
     "output_type": "stream",
     "text": [
      "\r",
      " 12%|███████████████████▎                                                                                                                                            | 119/986 [1:27:35<10:26:10, 43.33s/it]"
     ]
    },
    {
     "name": "stdout",
     "output_type": "stream",
     "text": [
      "generated explanation: <pad> <extra_id_0> It was good to have everyone together at the family reunion because it was the first time they had met their new niece. It was also good to have everyone together at the annual reunion, as it was the first time they had met their new niece. It was also good to have everyone together at the annual reunion, as it was the first time they had met their new niece. It was also good to have everyone together at the family reunion, as it was the first time they had met their new niece. It was also good to have everyone together at the annual gathering. It was a great time to have everyone together at the family reunion, as it was a great feeling to have everyone together at the annual reunion. It was the first time they had met their new niece, it was a great time to have everyone together. It was good to have everyone together at the family reunion, because it was a great way to make a huge difference in the lives of their new niece's new niece's new niece's new and fun to have everyone together. Family reunion is a great way to make memories lasting memories. It was good</s>\n",
      "########\n",
      "*******\n",
      "question: If you're expressing yourself in a public forum, what may you experience?\n",
      "answer: stage fright\n",
      "choices: ['danger', 'embarrassment', 'stage fright', 'getting arrested', 'blank stares']\n",
      "common expl list: ['If you are expressing yourself in a public forum, you may experience stage fright, which is the fear of being embarrassed in front of a large audience.', 'A common example of expressing oneself in public is on stage. Members of an audience may stare and become bored, and at worst they may hiss or boo.', 'Stage fright is the feeling of embarrassment or nervousness at the thought of being in front of people, and being on stage for a performance is a good example of a place where one often experiences stage fright. In such a case, their performance might be']\n"
     ]
    },
    {
     "name": "stderr",
     "output_type": "stream",
     "text": [
      "\r",
      " 12%|███████████████████▌                                                                                                                                             | 120/986 [1:27:38<7:30:39, 31.22s/it]"
     ]
    },
    {
     "name": "stdout",
     "output_type": "stream",
     "text": [
      "generated explanation: <pad> <extra_id_0> If you're expressing yourself in a public forum, what may you experience may be stage fright? The fear that comes with being a stranger may be a sign of a larger problem, such as a person who is afraid of being confined to a room or a room, and may feel a bit overwhelmed by the pressure of being alone. This is because of the fact that people are afraid of being alone and are afraid of being alone. This is because it is a way for people to express themselves in a public forum to express themselves in a public forum. This is because it can create a sense of urgency to express their feelings and emotions in a way to express their thoughts and feelings. This is the cause of stage fright.</s>\n",
      "########\n",
      "*******\n",
      "question: He was eating too much while no exercising enough, what did he suffer as a result?\n",
      "answer: gain weight\n",
      "choices: ['hungry', 'gas', 'obesity', 'gain weight', 'feeling full']\n",
      "common expl list: [\"If you eat too much and don't exercise enough, you will gain weight.\", 'If you eat more than you burn, you gain weight.', 'Excessive food consumption leads to accumulation of fat, which then results in a higher body weight, i.e., weight gain.']\n"
     ]
    },
    {
     "name": "stderr",
     "output_type": "stream",
     "text": [
      "\r",
      " 12%|███████████████████▋                                                                                                                                            | 121/986 [1:30:13<16:21:59, 68.12s/it]"
     ]
    },
    {
     "name": "stdout",
     "output_type": "stream",
     "text": [
      "generated explanation: <pad> <extra_id_0> He was eating too much while no exercising enough, which led to weight gain. This caused him to gain weight by eating too much food while no exercising enough. This was a result of his eating habits and the fact that he was eating too much while no exercising enough. This was due to the fact that he was eating too much while no exercising enough, and this was a sign of weight gain. He gained weight by gaining weight over time. This caused him to gain weight as a result of his unhealthy lifestyle choices. This is because he was eating too much food and exercising enough, which is why he was eating too much and to gain weight. He was also gaining weight as a result of this excess weight. He was also gaining weight because he was eating too much and this was a sign of a sign of weight gain, which is a sign of weight gain. Having too much food and exercising too much weight, which meant he was gaining weight. He was also gaining weight because he was eating too much and exercising too much. He was eating too much and no exercising enough. He was eating too much while no exercise did not exercise enough to gain weight because he was gaining weight because he was eating too much and no exercise did not exercise. Having too much food and too much. He was also eating too much weight gain. He was eating too much and this caused him to gain weight because he was eating too much weight he was eating too much, and this caused him to gain weight, and it was not enough to gain weight, which was causing him to gain weight as he weighed himself, resulting in gaining weight. Having no exercise did not gain weight because he was eating too much. He was eating enough. This was due to this weight gain, which meant he gained weight because he was eating too much. He was eating too much food he was consuming too much. He was eating too much food he gained weight because he was also eating too much food he was eating enough calories and gaining weight. Gain weight was gaining weight was gaining weight because he was gaining weight. Gain weight gained weight because he was eating too much and no exercise. This is a result of his weight as he was gaining weight because he was eating too much, and he was eating too much and no exercise\n",
      "########\n",
      "*******\n",
      "question: Randy was not doing housework.   His wife was raising two children, and this only increased her workload. It put her under a lot of stress.  What might this lead to?\n",
      "answer: arguments\n",
      "choices: ['asthma', 'more', 'boredom', 'headache', 'arguments']\n",
      "common expl list: ['Stress is often related to family life. Being under stress, the wife might verbally lash out at her husband, which could potentially lead to arguments']\n"
     ]
    },
    {
     "name": "stderr",
     "output_type": "stream",
     "text": [
      "\r",
      " 12%|███████████████████▊                                                                                                                                            | 122/986 [1:30:16<11:41:26, 48.71s/it]"
     ]
    },
    {
     "name": "stdout",
     "output_type": "stream",
     "text": [
      "generated explanation: <pad> <extra_id_0> Randy was not doing housework. He was raising two children, and this put her under a lot of stress. This increased stress also led to Randy having to spend more time with his wife. This also increased her workload because Randy was working more hours. This also increased her workload. This also increased her stress levels, which increased her workload. This increased stress can lead to stress, stress, and stress. It can also lead to stress, which can lead to stress and stress. This can also lead to stress, which can lead to stress. It can lead to stress and stress for Randy to be more involved in housework. This can also lead to stress from the fact that Randy was not doing housework. This can lead to stress and stress because it can lead to stress and stress.<extra_id_1> </s>\n",
      "########\n",
      "*******\n",
      "question: Where can you learn about a ferret with special abilities far beyond normal ferrets?\n",
      "answer: comic book\n",
      "choices: ['comic book', 'out of doors', 'great britain', 'redwall', 'north carolina']\n",
      "common expl list: ['ferrets are lovable pets that occasionally pop up in comic or animated shows and movies. Occasionally a ferret is rodent, but more often they are the companion of a hero.']\n"
     ]
    },
    {
     "name": "stderr",
     "output_type": "stream",
     "text": [
      "\r",
      " 12%|███████████████████▉                                                                                                                                            | 123/986 [1:31:35<13:49:21, 57.66s/it]"
     ]
    },
    {
     "name": "stdout",
     "output_type": "stream",
     "text": [
      "generated explanation: <pad> <extra_id_0> A ferret has special abilities that are far beyond normal ferrets. They are also known to have special abilities that are based on the perspective of the author and the character. The comic book is a great way to learn about a ferret with special abilities and abilities. They are also a great way to learn about a ferret with special abilities and abilities beyond normal ferrets. They are also a great source of information for those interested in ferrets with special abilities. They are also a great resource for those who want to learn more about a ferret in a comic book. Comic books are a great way to learn about a ferret's special abilities. They are also a great resource for learning about a ferret with special abilities that are beyond normal ferrets. Having a ferret has special abilities, they are also a great way to learn about a ferret's special abilities. Comic books are a great way to learn about a ferret's special abilities. Comic books can also be used to learn about a ferret's special abilities that are not normally found in animal. They also offer a variety of other animal characters, so comic books are a great way to learn about a ferret with special abilities, and can be a great way to learn about a ferret's special abilities and abilities.<extra_id_1> </s>\n",
      "########\n",
      "*******\n",
      "question: When people have guests over, what do they often do for their guests?\n",
      "answer: cook food\n",
      "choices: ['talk to each other', 'learn from each other', 'demand justice', 'cook food', 'share food']\n",
      "common expl list: [\"People often prepare and share food because it's a way to welcome and appreciate each other.\", 'People often cook food for their guests.', \"People who have guests (guests of any kind) over tend to cook them food. The food can either be pre-cooked, and ready to be served upon the guest's arrival, or consumed while the two of them have a conversation.\", \"It's common to cook food for guests, which can feed everyone.\", \"When people have guests over, it's common for them to make food for their guests.\"]\n"
     ]
    },
    {
     "name": "stderr",
     "output_type": "stream",
     "text": [
      "\r",
      " 13%|████████████████████                                                                                                                                            | 124/986 [1:32:08<12:05:42, 50.51s/it]"
     ]
    },
    {
     "name": "stdout",
     "output_type": "stream",
     "text": [
      "generated explanation: <pad> <extra_id_0> People often cook food for their guests to make sure that guests are satisfied and happy. This is because guests are often invited to a dinner or other event and they often prepare a dish to serve. This is because guests often bring a variety of food items, such as steak, chicken, and fish, and other vegetables. They also often prepare a meal to serve as guests. They also prepare a meal for guests to eat. They also often serve up a meal for themselves, which is a great way to provide a sense of security and comfort. This is because it is a great way to make sure that guests are happy and satisfied. This is because guests are prepared to eat healthy, nutritious, and nutritious food is important for guests to be able to make a meal that is a great way to keep the guests coming back to stay. This helps to keep the guests coming guests's experience a great way to stay in touch with the guests and to make sure that they are able to enjoy the meal. This is because guests are often prepared and prepared properly. This allows guests to stay healthy and nutritious meal preparations are important for guests. This allows guests to stay healthy and provide guests with the best possible experience.<extra_id_1> </s>\n",
      "########\n",
      "*******\n",
      "question: Talking to someone is pointless if they're doing what?\n",
      "answer: not listening\n",
      "choices: ['dry mouth', 'whispering', 'being heard', 'eye contact', 'not listening']\n",
      "common expl list: ['People who are not listening to you will obviously not be able to understand your communication.', 'To be engaged in a conversation--particularly a one-on-one conversation, both people must be listening attentively.']\n"
     ]
    },
    {
     "name": "stderr",
     "output_type": "stream",
     "text": [
      "\r",
      " 13%|████████████████████▎                                                                                                                                           | 125/986 [1:35:13<21:43:29, 90.84s/it]"
     ]
    },
    {
     "name": "stdout",
     "output_type": "stream",
     "text": [
      "generated explanation: <pad> <extra_id_0> If someone is not listening, they are not listening. They are not listening because they are not listening. They are listening because they are not listening to them. They are listening because they are not listening to someone. They are listening to them because they are not listening to them. They are listening to them because they are not listening. They are not listening to them because they are not listening. They are not listening because they are not listening to them. They are listening because they are not listening to them. They are not listening because they are not listening. They are not listening to them, because they are not listening to them. They are not listening to them. They are not listening to them. They are not listening to them. They are not listening to them because they are listening to them because they are listening to them. They are not listening to them. They are listening to them. They are not listening to them because they are not listening to them because they are not listening to them. They are not listening to them because they are listening to them because they are not listening to them because they are not listening to them because they are not listening because they are not listening because they are listening because they are not listening to them. They are not listening to them because they are not listening to them because they are listening because they are not listening because they are not listening because they are listening because they are listening because they are not listening because they are not listening because they are not listening because they are listening because they are not listening because they are not listening because they are not listening because they are not listening because they are not listening because they are not listening is because they are not listening because they are listening is because they are listening to them. They are listening because they are not listening because they are listening because they are listening because they are listening because they are not listening because they are listening because they are listening because they are listening because they are listening to them. They are not listening because they are not listening because they are not listening because they are not listening is a way to listen because they are simply not listening because they are listening because they are not listening because they are listening because they are not listening because they are listening because they are listening because they are listening because they are listening to them because they aren't listening because they aren't listening because they are not listening because they are listening because they are listening because they are listening because they are listening because they are listening because they are listening. They are listening because\n",
      "########\n",
      "*******\n",
      "question: If you are enjoying sunshine on the beach, what do you likely have views of?\n",
      "answer: sea\n",
      "choices: ['windowsill', 'sunbathers', 'disneyland', 'sea', 'summer']\n",
      "common expl list: [\"The beach is a place where people go to enjoy the sun, and so it's likely that the beach would have views of the sea.\", 'To sunbathe, one would likely be found on a beach, where one would likely see the sea before anything else.', 'Seashores usually have views of the water (i.e., the \"sea\").']\n"
     ]
    },
    {
     "name": "stderr",
     "output_type": "stream",
     "text": [
      "\r",
      " 13%|████████████████████▍                                                                                                                                           | 126/986 [1:35:49<17:46:13, 74.39s/it]"
     ]
    },
    {
     "name": "stdout",
     "output_type": "stream",
     "text": [
      "generated explanation: <pad> <extra_id_0> If you are enjoying sunshine on the beach, what do you likely have views of? sea is the most common place to find sunshine on the beach. Sea is also known for its clear, clear waters, clear water, and clear waters. Sea is also known for its clear waters and clear water. Sea is also known for its clear, clear air, and clear water. The sea is also known for its clear, clear water, clear water, and clear water. The clear water is also known for its clear water, clear water, and clear skies. The clear water is the most popular option for enjoying sunshine on the beach. The clearer the clearer the more likely to be. The clear water, clearer the more visible from the beach, and the clear water is the most popular place to be on the beach. The clear water is a popular place to enjoy the most beautiful beaches, and the clear clear water is a perfect place to enjoy the best view of the sea. It is also known for its blue-green and blue waters. The clearer the clearer the more visible. The clearer the more likely to be the clearest and most beautiful place to enjoy the clearest view of the sea.<extra_id_1> </s>\n",
      "########\n",
      "*******\n",
      "question: What does an actor do while acting?\n",
      "answer: pretend\n",
      "choices: ['branch out', 'eat curry', 'wear costume', 'pretend', 'sing songs']\n",
      "common expl list: ['Actors pretend certain things. While acting, they might pretend to be in a different location by going somewhere close to a stage feed. Actors might also pretend to possess particular materials while on stage by carrying props.']\n"
     ]
    },
    {
     "name": "stderr",
     "output_type": "stream",
     "text": [
      "\r",
      " 13%|████████████████████▌                                                                                                                                           | 127/986 [1:37:27<19:25:45, 81.43s/it]"
     ]
    },
    {
     "name": "stdout",
     "output_type": "stream",
     "text": [
      "generated explanation: <pad> <extra_id_0> An actor pretends to be a character or a person in a movie or a role in a movie. The actor can pretend to be a character or a character or a character in a movie or a movie. During a pretending role, the actor can pretend to be a character or a person in a movie. The actor can pretend to be a character or a character or a character, or pretend to be a character. The actor can also pretend to be a role, which is often a scene, and it is usually announcing a story. The actor can also pretend to be a character, which is a good idea to pretend to a movie. The actor can also pretend to be a character, which is a good idea. The actor can also pretend to be a character, or even a character, or even a character, or a scene, or a character, or even a role, which is a role, or a character, or a character. This can also be a character, or a character, or a pretend to be a part of a character, or a pretend to be a character, or a role, or a role, or a pretend to be a pretend to be a role, or a role, or a role or a role or a role, a role or a role, a role or a role or a role or a role or a role or a role or a role or a role or a role or a role or a role or a role or a role or a role or a role or a role or a role or a role or a role or a role or act a role or a role or a role or a role or a role in a role or</s>\n",
      "########\n",
      "*******\n",
      "question: Where is a ring binder likely to contain budgets?\n",
      "answer: office\n",
      "choices: ['office', 'notebook', 'school', 'stationary shop', 'desk']\n",
      "common expl list: ['A ring binder is likely to contain budgets in an office, as budgets are often prepared by office workers.', 'An office setting is the most likely place where a manager would keep a collection of budgets.']\n"
     ]
    },
    {
     "name": "stderr",
     "output_type": "stream",
     "text": [
      "\r",
      " 13%|████████████████████▊                                                                                                                                           | 128/986 [1:39:38<22:54:46, 96.14s/it]"
     ]
    },
    {
     "name": "stdout",
     "output_type": "stream",
     "text": [
      "generated explanation: <pad> <extra_id_0> A ring binder is typically used in an office because it is a ring binder that is likely to contain budgets. Offices typically have budgets in the ring binder, which is a ring binder that is used to keep budgets organized. Typically, a ring binder is used to store budgets and to store them in a secure place.<extra_id_1> Offices also often use a ring binder to store budgets. Offices also often have a ring binder that can contain budgets in a budgeting tool. This is because office ring binders are used to store budgets in order to keep budgets organized in a single location. Offices also use ring binders to keep a ring binder in the office to keep track of budgets and to keep track of budgets and to keep track of budgets in a ring binder to keep track of budgets in a single ring binders to keep track of budgets and to keep track of budgets. Offices are used to keep track of budgets in a ring binders to keep track of budgets and to keep track of budgets in a ring binders to keep track of budgets. ring binders to track budgets and to keep track of budgets in a ring binders to keep track of budgets. Office ring binders. Offices are often used to keep track of budgets in a ring binder. Offices can also be used to keep track of budgets. Offices can also be used to keep track of budgets and to keep track of budgets. Offices. Offices can also be used to keep track of budgets and to keep track of budgets in a ring binders and budgets organized and organized. Using a ring binder can be used to keep tabs and a ring is also used to keep track of budgets and to keep track of budgets in a ring binders to keep track of budgets and to keep track of budgets and track budgets. Offices can also keep track of budgets and to keep track of budgets in a ring binders. Offices can also be used to keep track of budgets. Office ring binders are used to keep\n",
      "########\n",
      "*******\n",
      "question: Where do you go when you're about to board a vehicle on railing?\n",
      "answer: railway station\n",
      "choices: ['railway station', 'deck', 'flight of stairs', 'porch', 'bus station']\n",
      "common expl list: ['Trains and busses both commonly make use of rail transportation to facilitate their travel. Railway station is the station they are staking out to board at. Thus, railway station is where you would go if you need to board a vehicle on a', 'Railway stations are where you board trains, which are often on rails.']\n"
     ]
    },
    {
     "name": "stderr",
     "output_type": "stream",
     "text": [
      "\r",
      " 13%|████████████████████▉                                                                                                                                           | 129/986 [1:40:06<18:03:17, 75.84s/it]"
     ]
    },
    {
     "name": "stdout",
     "output_type": "stream",
     "text": [
      "generated explanation: <pad> <extra_id_0> When approaching a railway station, you're going to a railway station because a vehicle is on the railing. Train Stations are often located in the vicinity of railway stations, and the vehicles are often parked on railings. Train stations are located in the vicinity of the station, and are accessible from any direction. The vehicles are parked on the railings, and they are usually located in the vicinity of the station. The trains are usually located near the station, and the vehicles are usually located in the passenger compartments. The vehicles are usually located in the vicinity of the station. Train station is a popular place for passengers to board. The vehicles are usually located in the vicinity of the station, and the vehicles are often located in the vicinity of the station. Train stations are often a popular choice for passengers and passengers who are on board the trains. Trains are often located in the vicinity of the station, and they are often located in the vicinity of trains. Trains are usually located in the vicinity of the station, and they are usually located in the vicinity of the station, and they are usually located in the vicinity of the station, and they are often located in the vicinity of the station.</s>\n",
      "########\n",
      "*******\n",
      "question: Where can I go to see a really big toy balloon floating at the top of a dome?\n",
      "answer: circus\n",
      "choices: ['parade', 'circus', 'amusement park', 'birthday party', 'magic show']\n",
      "common expl list: ['Circuses often have big inflatables on the top dome of a tent; inside, they could house various attractions such as clowns, acts, games, rides, food, drinks, etc.']\n"
     ]
    },
    {
     "name": "stderr",
     "output_type": "stream",
     "text": [
      "\r",
      " 13%|█████████████████████                                                                                                                                           | 130/986 [1:40:18<13:26:31, 56.53s/it]"
     ]
    },
    {
     "name": "stdout",
     "output_type": "stream",
     "text": [
      "generated explanation: <pad> <extra_id_0> A circus can be seen with a really big toy balloon floating at the top of a dome. The balloons are usually shaped like a balloon, and they are shaped like a balloon, so they are usually shaped like a balloon. They are designed to fit into the dome, and they are usually inflated with a balloon. They are also designed to be able to be inflated with a single wing, which is a great way to see a balloon floating at the top of a dome. The circus circus can also be seen in circus costumes, such as a clown, or even a clown can also be seen in circus costumes. The circus can also be seen in circus costumes, which can also be seen in circus costumes. The circus costumes and costumes can also be seen in circus costumes. The circus costumes can be seen in circus costumes, costumes, and other entertainment can be seen in circus costumes.<extra_id_1> </s>\n",
      "########\n",
      "*******\n",
      "question: They got to the door and it was locked, he reached in his jeans what to retrieve the key?\n",
      "answer: pocket\n",
      "choices: ['pocket', 'bus depot', 'lock', 'purse', 'front door']\n",
      "common expl list: ['Most people keep house keys in their pocket.', 'People often keep their keys in their pockets.']\n"
     ]
    },
    {
     "name": "stderr",
     "output_type": "stream",
     "text": [
      "\r",
      " 13%|█████████████████████▎                                                                                                                                          | 131/986 [1:41:01<12:27:39, 52.47s/it]"
     ]
    },
    {
     "name": "stdout",
     "output_type": "stream",
     "text": [
      "generated explanation: <pad> <extra_id_0> The key was locked in the pocket of the jean he was wearing. The key was found in the pocket of his jeans and he wore it to retrieve it. It was a key that was a key that was hidden in the pocket of the jeans. The key was located in the pocket of the jeans and was positioned in a pocket that was close to the door. The key was located in the pocket and was easily accessible by a small sock. The key was in the pocket and the key was keyed by a key that was able to unlock the door and unlock the key. The key was a keypad and keypad, which is a keyless entryway, which is a keyless entryway. The keypad is located in the pocket, which is the keypad, which is the keypad is located in the pocket, which is the keypad, and the keypad is located in the pocket. The keypad is located in the pocket, which is the keypad, which is the keypad. The keypad, which is located in the pocket, which is the keypad, which is the keypad is located in the pocket, which is the keypad, and the keypad is located in the pocket. The keypad is the keypad, which is the keypad, which is the keypad.<extra_id_1> </s>\n",
      "########\n",
      "*******\n",
      "question: The car was overheating, where was it located?\n",
      "answer: in phoenix\n",
      "choices: ['airport', \"neighbor's house\", 'in phoenix', 'repair shop', 'street corner']\n",
      "common expl list: ['Phoenix is a hot place, and cars often overheat there.']\n"
     ]
    },
    {
     "name": "stderr",
     "output_type": "stream",
     "text": [
      "\r",
      " 13%|█████████████████████▌                                                                                                                                           | 132/986 [1:41:04<8:55:26, 37.62s/it]"
     ]
    },
    {
     "name": "stdout",
     "output_type": "stream",
     "text": [
      "generated explanation: <pad> <extra_id_0> The car was overheating, where it was located in phoenix. This is because the car was overheated and the temperature at the destination was too high for the car to operate properly. This is because the car was located in a place that was not well ventilated, and the temperature was too high for the car to be able to operate properly. This is because the car was located in a place that was well ventilated, and the car was not able to operate properly. This is because the car was located in phoenix, a place that was not able to function properly. The car was overheating because the car was overheating, and therefore, the car was not able to operate properly.</s>\n",
      "########\n",
      "*******\n",
      "question: Where is likely to have a walk in type wardrobe?\n",
      "answer: mansion\n",
      "choices: ['recreational vehicle', 'clothes cupboard', 'house', 'mansion', 'bedroom']\n",
      "common expl list: ['A walk in wardrobe is a large type of closet that could be found in a mansion.', 'As I think of scenarios, the result I expect the most is that of a person with a lot of clothes, or a clothing designer, living in a mansion; these people might have the luxury of a walk in wardrobe.', 'A walk-in wardrobe is a large wardrobe that is usually found in a mansion.']\n"
     ]
    },
    {
     "name": "stderr",
     "output_type": "stream",
     "text": [
      "\r",
      " 13%|█████████████████████▋                                                                                                                                           | 133/986 [1:41:06<6:22:49, 26.93s/it]"
     ]
    },
    {
     "name": "stdout",
     "output_type": "stream",
     "text": [
      "generated explanation: <pad> <extra_id_0> A mansion is likely to have a walk in wardrobe. It is a type of wardrobe that is usually found in a mansion, and it is likely to have a walk in wardrobe. It is likely to have a walk in wardrobe in a mansion or in a loft. It is likely to have a walk in wardrobe in a mansion, and it is likely to have a walk in wardrobe. It is also likely to have a walk in wardrobe if it is equipped with a walk in wardrobe.<extra_id_1> </s>\n",
      "########\n",
      "*******\n",
      "question: How bad is the punishment for someone who is over indulgent?\n",
      "answer: severe\n",
      "choices: ['severe', 'harsh', 'hard', 'strict', 'self denying']\n",
      "common expl list: ['Overindulgence in anything is bad, possibly leading to lethargy, poor health, overspending, and the like. As a result of this, a punishment for a person who is over-indulgent could be severe.']\n"
     ]
    },
    {
     "name": "stderr",
     "output_type": "stream",
     "text": [
      "\r",
      " 14%|█████████████████████▋                                                                                                                                          | 134/986 [1:42:27<10:12:37, 43.14s/it]"
     ]
    },
    {
     "name": "stdout",
     "output_type": "stream",
     "text": [
      "generated explanation: <pad> <extra_id_0> Punishment is a form of punishment that is used to punish someone who is over indulgent in their indulgence. This is because it is used to punish someone for being over indulgent in their indulgence. This is because it is a punishment for someone who is over indulgent in their indulgence. It is also a punishment for someone who is over indulgent in some ways. It is also a punishment for someone who is over indulgent in some way. It is a form of punishment that can be used to punish someone. It is a punishment that can be severe. It is also a punishment that can be used to punish someone who is over indulgent in certain situations. It is also a punishment for being over indulgent in certain situations. It is a punishment that can be used to punish someone who is over indulgent in certain circumstances, such as a person who is over indulgent in certain situations, such as a form of punishment that can be used to punish someone who is over indulgent in certain situations, such as a punishment that can be a punishment that can be used to punish someone for being over indulgent in certain situations, such as a way to get a punishment for being over indulgent in certain situations. This can be a punishment that can be a reason that can result in a person being overindulgiving in a person's indulgent in a person's a person's indulgent in a way that can result in a person's own indulgently indulgent or a serious or even a person's own indulgent or a person's own behavior, or even a way.<extra_id_1> </s>\n",
      "########\n",
      "*******\n",
      "question: She was going to bed at 11 at night, what was she looking to do?\n",
      "answer: falling asleep\n",
      "choices: ['falling asleep', 'relaxing', 'rest', 'dreaming of', 'laziness']\n",
      "common expl list: [\"People go to bed when they're tired and want to sleep\", 'Falling asleep is often a desired result when going to bed.']\n"
     ]
    },
    {
     "name": "stderr",
     "output_type": "stream",
     "text": [
      "\r",
      " 14%|██████████████████████                                                                                                                                           | 135/986 [1:42:45<8:26:06, 35.68s/it]"
     ]
    },
    {
     "name": "stdout",
     "output_type": "stream",
     "text": [
      "generated explanation: <pad> <extra_id_0> She was going to bed at 11 at night. Sleeping is a very common habit in the night. It is also important to remember that sleeping is a very important part of a person's life. Sleeping is also a good way to get to sleep, as it helps to keep your mind alert and alert. Sleeping can also help to keep your mood in the night. Sleeping is also a great way to keep your heart rate up and to help you stay alert and alert. Sleeping is also a great way to stay alert and alert to the weather and to avoid distractions such as sleeping. Sleeping is also a great way to stay awaken and to stay asleep. Sleeping is a great way to stay awaken and to stay awaken and to stay awakened by the night. Sleeping is a great way to keep your mind and to stay asleep. Sleeping is a great way to stay awaken and to stay alert and to stay alert and alert during the night.<extra_id_1> </s>\n",
      "########\n",
      "*******\n",
      "question: A company with the moniker of Big Sky Excavation would probably be found where?\n",
      "answer: montana\n",
      "choices: ['a forest', 'city', 'egypt', 'montana', 'desert']\n",
      "common expl list: ['Mountain ranges are often called \"big sky\"s. The term is popular for companies in Montana, a state with lots of mountians, including two major mountain ranges.']\n"
     ]
    },
    {
     "name": "stderr",
     "output_type": "stream",
     "text": [
      "\r",
      " 14%|██████████████████████                                                                                                                                          | 136/986 [1:44:09<11:50:15, 50.14s/it]"
     ]
    },
    {
     "name": "stdout",
     "output_type": "stream",
     "text": [
      "generated explanation: <pad> <extra_id_0> A company with the moniker of Big Sky Excavation would likely be found where they are located. They would likely be located in a mountainous area with a high percentage of land and water. This is because the land is often surrounded by mountains and mountains, and the land is often surrounded by mountains. This is because the land is often surrounded by mountains, and the mountains are often surrounded by mountains. This is because the mountains are often surrounded by mountains, and the mountains are often surrounded by mountains. This makes it an ideal location for a company with the moniker of Big Sky Excavation is a popular choice for those who want to be found. This is because it is a great place to find a company that is located in the middle of the mountains, and it is a popular choice for companies with the moniker of the company. This is because it is often located in the middle of the mountains, and the mountains, which are often a popular destination for the people who want to be a place that is a great place to be found in the mountains. The moniker is a great place to find a company with the monstrous and a great way to find a place to find a great way to find a company that is a great way to find a company that is located in the middle of the mountains. It is a great way to find a great way to find a great way to find a company that is a great place to find a great way to find a great place to locate a company that has the moniker that has the moniker that has the moniker that</s>\n",
      "########\n",
      "*******\n",
      "question: Which horseman of the apocalypse is often depicted next to death?\n",
      "answer: war\n",
      "choices: ['battlefield', 'the healer.', 'funeral', 'war', 'hospital']\n",
      "common expl list: ['A time of war is also often associated with someone dying.']\n"
     ]
    },
    {
     "name": "stderr",
     "output_type": "stream",
     "text": [
      "\r",
      " 14%|██████████████████████▏                                                                                                                                         | 137/986 [1:44:35<10:06:03, 42.83s/it]"
     ]
    },
    {
     "name": "stdout",
     "output_type": "stream",
     "text": [
      "generated explanation: <pad> <extra_id_0> The horseman of the apocalypse is often depicted next to death. War is a war that ends in a scuffle, a battle that ends in a scuffle, a battle that is fought between the two parties. War is a time when the two sides must fight together to win the war. The apocalypse is a time when the horseman is killed and the horseman is killed. The horseman of the apocalypse is often depicted next to death is often depicted next to death. The horseman of the apocalypse is often depicted in a series of events, and is often depicted in a series of events. The horseman of the apocalypse is often depicted in apocalypse is often depicted in apocalypse is often depicted in apocalypse is often depicted in apocalypse.</s>\n",
      "########\n",
      "*******\n",
      "question: What could be used to write with a steel pen?\n",
      "answer: hand\n",
      "choices: ['warehouse', 'arm', 'hand', 'desk drawer', 'veterinary office']\n",
      "common expl list: ['Using a steel pen requires someone to hold it, and we associate writing with hands. Powder can be used with steel pens as a \"contrast medium.', 'you write with a steel pen using your hand.']\n"
     ]
    },
    {
     "name": "stderr",
     "output_type": "stream",
     "text": [
      "\r",
      " 14%|██████████████████████▍                                                                                                                                         | 138/986 [1:46:36<15:37:56, 66.36s/it]"
     ]
    },
    {
     "name": "stdout",
     "output_type": "stream",
     "text": [
      "generated explanation: <pad> <extra_id_0> A steel pen is a type of pen that is used to write with a hand. It is a type of pen that is designed to be used to write in a hurry. It is designed to be used to write in a hurry. It is a type of pen that is designed to be used to write in a hurry. It is used to write in a variety of ways, including handwriting. It is designed to be used to write with precision and precision. It is designed to be used to write in a hand, hand-drawing instrument. It can be used to write with a steel pen, which is often used to write with a hand writing tool. It is also used to write in a hand-drawn pen, which is often used to write in a hand pen. It can also be used to write in a variety of different ways. It can also be used to write with a steel pen, which can be used to write with precision and precision. It can be used to write with a steel pen, which can be used to write in a hand writing, as well as writing with a steel pen. The pen can be used to write with a steel pen. The pen can be used to write with a steel pen to write with a pen to write with a hand. The pen can be used to write with a finger, to write with a steel pen to write with a pencil, to write with a hand, to write with a pencil, to write with a pen, to write with a steel pen, to write with a steel pen, or to write with a pen, to write with a pen, to write with a pen, to write with a pen, to write with a pen, to write with a pen, to write with a steel pen, to write with a pen, to a</s>\n",
      "########\n",
      "*******\n",
      "question: I needed to find out how to contact a person with a certain name, where should I look?\n",
      "answer: phone book\n",
      "choices: ['directory', 'michigan', 'roster', 'phone book', 'certificate']\n",
      "common expl list: [\"Phone books are used to find people's phone numbers.\", 'A phone book is likely to have the phone numbers of nearby people.', 'Phone books are usually a good source for finding phone numbers to call other people.', 'People are listed in phone books for easy access by callers.']\n"
     ]
    },
    {
     "name": "stderr",
     "output_type": "stream",
     "text": [
      "\r",
      " 14%|██████████████████████▌                                                                                                                                         | 139/986 [1:47:51<16:15:04, 69.07s/it]"
     ]
    },
    {
     "name": "stdout",
     "output_type": "stream",
     "text": [
      "generated explanation: <pad> <extra_id_0> If you need to find someone with a certain name, you should look at a phone book. This is because phone book is a great place to find information about people with a certain name. It can also be used to find information about the person's family and friends. It can also be used to find out about the person's current address or address. Phone book can also be used to contact people with a certain name. Phone book can also be used to find out who is in the phone book and how to find them. Phone book can also be used to contact people with a certain name, so it can be used to find out how to contact a person with a certain name. Using a phone book can also be used to contact a person with a certain name, such as a phone book can also be used to contact a person with a certain age, gender, or age, and can also be used to contact a person with a certain amount of money. Phone books can be used to find out how to contact a certain age, gender, and other information about a certain age, and other information about a certain age, gender, and other information about a certain age, and can also be used to find a person with a certain age, and to find out about a person with a certain age, and to find out a person with a certain age, location, and other information about a person with a certain age, and other information about a certain age,</s>\n",
      "########\n",
      "*******\n",
      "question: What is important for a couple to do?\n",
      "answer: communicate\n",
      "choices: ['live together', 'row about', 'plan to marry', 'communicate', 'marry each other']\n",
      "common expl list: ['Couples who communicate well are more likely to stay together, and thus, it is important for a couple to communicate.', 'Communication is a key part of a healthy relationship and - often equally as important - is the commitment to communicate effectively.', \"To make a relationship work, it's very important to communicate with each other.\"]\n"
     ]
    },
    {
     "name": "stderr",
     "output_type": "stream",
     "text": [
      "\r",
      " 14%|██████████████████████▋                                                                                                                                         | 140/986 [1:49:10<16:55:36, 72.03s/it]"
     ]
    },
    {
     "name": "stdout",
     "output_type": "stream",
     "text": [
      "generated explanation: <pad> <extra_id_0> It is important for a couple to communicate. It is important for a couple to communicate their love and commitments. It is important for a couple to communicate their feelings and feelings to their children. It is important for them to communicate their feelings to their children and to their spouses. It is important for a couple to communicate their feelings and feelings to each other. This is important for a couple to communicate with their spouse in a safe and respectful environment. Communication is important for a couple to do as it helps them understand each other and to understand each other and to understand each other. It is important for a couple to understand each other and to understand each other and to understand each other. It is important for a couple to communicate with each other. It is important for a couple to communicate their feelings and desires. It is important for a couple to communicate with each other and to understand each other and to understand each other. The communication is a great way to make the couple feel comfortable and confident in their relationship and to make the relationship more comfortable for the couple to understand each other and to communicate with each other. It is important for a couple to communicate their feelings and to communicate with each other. This is important for a couple to understand how to communicate with each other and to make a couple to communicate with each other. During this relationship, both parties are able to understand each other and to communicate their feelings and to make a relationship a way to communicate with each other. This is important because it is important to both parties to understand each other and to communicate their feelings and emotions.<extra_id_1> </s>\n",
      "########\n",
      "*******\n",
      "question: The botanist knew the plant was living, what did he observe that led him to know that?\n",
      "answer: respiration\n",
      "choices: ['interaction', 'death', 'respiration', 'expiration', 'chlorophyll']\n",
      "common expl list: [\"The teacher commonly noted that plants give off oxygen as a result of respiration, which helps fuel their energy and growth. This was evidence of a plant's life.\"]\n"
     ]
    },
    {
     "name": "stderr",
     "output_type": "stream",
     "text": [
      "\r",
      " 14%|██████████████████████▉                                                                                                                                         | 141/986 [1:51:02<19:43:21, 84.03s/it]"
     ]
    },
    {
     "name": "stdout",
     "output_type": "stream",
     "text": [
      "generated explanation: <pad> <extra_id_0> The botanist knew the plant was living because of the plant being able to breathe. The plant was living because of the fact that it was living. It was able to observe respiration, which led him to know that it was living. It was because it was living. It was because it was living, and because it was able to observe respiration, it was able to see respiration and see the plant living. It was breathing and the plant was able to sense the breath it was breathing. It was also able to see respiration when it was breathing, which led him to know that the plant was living. It was able to see that the plant was living, and that it was living, and that it was living. It was able to observe the plant was living and was able to see respiration and could sense that the plant was living. It was living. It was able to see the plant was living. respiration was able to sense the plant was breathing. It was breathing and breathing. It was able to see the plant was breathing and that it was able to see the plant was breathing. respiration was able to see the plant was breathing. It was able to sense the breath of the living plant was able to sense the living things that led him to know that the plant was breathing. It was able to sense the breath of the living. It was able to sense the breath of the breath of the living and breathe. Life is a natural phenomenon that led him to know that the plant was breathing and to know that the plant was living. The botanist knew that the plant was living. The plant was living and the plant was respiration was the process of the plant's life and its breath and to sense the breath and to sense the plant was breathing and to know that the plant was living and to sense the plant was breathing and to sense the breath and to sense the breath and to sense the breath and to know that the plant was living and to know that the plant was breathing and to know that the plant was breathing and to know that the plant was living and to know that the plant was living and to know that the plant was living and that</s>\n",
      "########\n",
      "*******\n",
      "question: What is it called when teens are together not doing anything in particular?\n",
      "answer: hang out\n",
      "choices: ['smoke', 'homework', 'volunteer', 'party', 'hang out']\n",
      "common expl list: ['Hanging out\" is used to describe events where people are socializing, doing nothing in particular. Other events include hanging out with a purpose (doing homework, studying outside, going shopping, etc.).', 'Hang out is a term that could be used for teens hanging out together, typically with no particular agenda.']\n"
     ]
    },
    {
     "name": "stderr",
     "output_type": "stream",
     "text": [
      "\r",
      " 14%|███████████████████████                                                                                                                                         | 142/986 [1:51:08<14:13:04, 60.65s/it]"
     ]
    },
    {
     "name": "stdout",
     "output_type": "stream",
     "text": [
      "generated explanation: <pad> hang out is a social event where teens and their parents gather to share experiences and experiences. They can be a variety of activities, including music, songs, and more. They can also be a great way to get together with friends and family, as they are surrounded by friends and family. They can also be a great way to get together and bond with friends and family. They can also be a great way to get together and meet new people and learn new things. Hang out is a great way to get together and make new friends. Hang out is a great way to get to know each other and other people in a group and to get together and make new friends and family members. Hang out with friends and family, as they are a great way to get together and make new friends and make new friends and find new opportunities to meet new people and to share ideas and resources.</s>\n",
      "########\n",
      "*******\n",
      "question: The saw was not necessary for car repair, so what wasn't it included with during pucrhase?\n",
      "answer: tool kit\n",
      "choices: ['tool shed', 'tool box', 'tool kit', 'hardware store', 'toolbox']\n",
      "common expl list: ['A saw is another name for a cutting tool, but they are often not included with a tool kit, because a kit is used for other repair needs (bolts, screws, bindings, etc.), and a saw is not required for a car repair']\n"
     ]
    },
    {
     "name": "stderr",
     "output_type": "stream",
     "text": [
      "\r",
      " 15%|███████████████████████▏                                                                                                                                        | 143/986 [1:52:42<16:32:16, 70.62s/it]"
     ]
    },
    {
     "name": "stdout",
     "output_type": "stream",
     "text": [
      "generated explanation: <pad> <extra_id_0> A tool kit is a tool that is used to make a car repair. It is a great tool for removing a damaged or damaged vehicle, as it can be used to make a difference in the appearance of a car. The tool kit is designed to provide the tools needed to make a good car repair. It is designed to provide the tools necessary to make a car repair easier and more efficient. It can also be used to make a car repair. It can also be used to make a car repair easier. Tool kit is a great way to make a car repair kit. It can be used to make a complete car repair kit. It can also be used to make a car repair kit. It can also be used to make a car repair kit. It can also be used to make a car repair. Having a tool kit is a great way to make a car repair a complete car repair. It can be used to make a car repair kit that can be used to make a car repair kit, it can also be used to make a car repair kit, and it can also be used to make a car repair kit. It can also be used to make a car repair kit, and it can be used to make a great tool for a car repair. It can also be used to make it easier for the car repair. It can be used to make a car repair kit, as it can be used to make a car repair tool. Tool kit is a great addition to a car repair kit. It can also be used to provide a tool for a car repair tool for a car repair tool for a tool that is used to repair a car repair kit.<extra_id_1> </s>\n",
      "########\n",
      "*******\n",
      "question: Where will my kid put their coin in their room?\n",
      "answer: piggy bank\n",
      "choices: ['piggy bank', 'wishing well', 'parking meter', 'under pillow', 'change purse']\n",
      "common expl list: ['Piggy banks are often used to store coins.', 'Kids commonly save small amounts of money for later use, and these savings are often kept in piggy banks.']\n"
     ]
    },
    {
     "name": "stderr",
     "output_type": "stream",
     "text": [
      "\r",
      " 15%|███████████████████████▎                                                                                                                                        | 144/986 [1:52:56<12:33:01, 53.66s/it]"
     ]
    },
    {
     "name": "stdout",
     "output_type": "stream",
     "text": [
      "generated explanation: <pad> <extra_id_0> My kid will put their coin in a piggy bank in their room. It is a safe place for kids to play with their coins, especially when they are young. It is a safe place to keep their coins safe and secure. It is also a great way to store coins in a safe. It is also a great way to store coins in a safe. It is also a great way to keep your coins safe and secure. It is also a great way to store your coins in a safe. It is also a safe for your kid's safety when they are young children's safety. It is a great way to store coins in a safe way to keep your coins safe in the safe. It is also a great way to keep your kids' coins safe from the elements. It is also a great way to keep your kid's coins safe and secure. It is a great way to keep your kid's safe.</s>\n",
      "########\n",
      "*******\n",
      "question: Where is a fire extinguisher likely to be found behind the seat?\n",
      "answer: school bus\n",
      "choices: ['school bus', 'house', 'garden', 'stairwell', 'garage']\n",
      "common expl list: ['Fire extinguishers are required on public-transit vehicles, such as school buses.']\n"
     ]
    },
    {
     "name": "stderr",
     "output_type": "stream",
     "text": [
      "\r",
      " 15%|███████████████████████▌                                                                                                                                        | 145/986 [1:54:57<17:13:18, 73.72s/it]"
     ]
    },
    {
     "name": "stdout",
     "output_type": "stream",
     "text": [
      "generated explanation: <pad> <extra_id_0> A fire extinguisher is a device that is located behind the seat of a school bus. This is because it is a device that is typically found in the back seat of a school bus. School buses usually have a fire extinguisher in their cabins, which is usually located in the back seat of the bus. School buses also often have a fire extinguisher in their back seat, which is often located in the back seat of the bus. School buses also often have a fire extinguisher in the back seat, which is usually located behind the seat of the bus, which is usually located in the back seat of the seat. School buses also have a fire extinguisher in their back seat. School buses are usually located behind the seats of the fire extinguisher. School buses are a common place to find a fire extinguisher in the back seat of the seat of the bus. School buses have a fire extinguisher in the back seat, which is why a fire extinguisher is a common place for a fire extinguisher. School buss are a common place for a fire extinguisher. School buss. School buses are often located behind the seat, which is a common place for a fire extinguisher, which is a fire extinguisher, which is usually located behind the seat of a school bus. School bus is a common place for a fire extinguisher, which is a common sighting area, and it is common to find one behind the seat of a fire extinguisher, which is common to be found behind the seat of a fire extinguisher, and it is often found behind the seat of a school bus. The seat is usually located behind the seat of the seat of the seat of the seat, which is usually located behind the seat of the seat of the seat, and the seat of the bus<extra_id_1> </s>\n",
      "########\n",
      "*******\n",
      "question: His therapist said he had to get out there and begin socialising, it was the only was to start what?\n",
      "answer: friendships\n",
      "choices: ['conflicts', 'having fun', 'jealousy', 'getting out there', 'friendships']\n",
      "common expl list: ['Interacting with other people socially is likely to result in making new friends.', 'His therapist said that he needed to speak to people if he wanted to be less withdrawn. This would help him to get out of his shell.']\n"
     ]
    },
    {
     "name": "stderr",
     "output_type": "stream",
     "text": [
      "\r",
      " 15%|███████████████████████▋                                                                                                                                        | 146/986 [1:55:05<12:35:14, 53.95s/it]"
     ]
    },
    {
     "name": "stdout",
     "output_type": "stream",
     "text": [
      "generated explanation: <pad> <extra_id_0> He was able to start socialising and develop a strong bond with others. Socialising is a form of socialisation that can be cultivated through a variety of activities. The socialising process is a form of socialisation that can be a form of a lasting bond. It can be a form of interaction and a form of a bond. It can also be a form of isolation and a form of isolation. It can also be a form of socialising that can be used to build bonds and bonding with others, and it can be a form of socialising and socialising can also be a form of communication, and it can be a form of socialising and socialising together. Socialising and socialising can be a great way to build a strong network of people, and it can be a way to build a strong community.<extra_id_1> </s>\n",
      "########\n",
      "*******\n",
      "question: What is likely true about a dog that escapes regularly?\n",
      "answer: very smart\n",
      "choices: ['very smart', 'very loyal', 'tired', 'friendly', 'faithful']\n",
      "common expl list: ['Intelligent dogs (especially when concerned with food and treats) who are looking for some form of freedom will have the intelligence to escape regularly.']\n"
     ]
    },
    {
     "name": "stderr",
     "output_type": "stream",
     "text": [
      "\r",
      " 15%|███████████████████████▊                                                                                                                                        | 147/986 [1:55:58<12:34:12, 53.94s/it]"
     ]
    },
    {
     "name": "stdout",
     "output_type": "stream",
     "text": [
      "generated explanation: <pad> <extra_id_0> Dogs that escape regularly are very smart and have a great sense of security. They are also very intelligent and have a great sense of humour. They are also known for being a great exercise and a great resource for people who have dogs that are prone to escape. They are also very well-rounded and have a great sense of humour. They are also very intelligent and have a very good sense of humor. They are also very protective of their owners and their owners. They are also very protective of their owners and owners, and are often very sensitive to the environment. This allows dogs to escape regularly and can be a great way to escape. They are also very protective and can be very intelligent and can also be very active and alert. This helps them to stay away from the outside world. This allows them to escape from the dog to be a great way to escape from the outside world. This is a great way to escape from the outside world and can be a great way to get around the world. Dogs that are very smart and smart. They can be very smart and can be very smart and can be very smart and can be very safe. They can be very smart and can be a great way to escape from the inside out.<extra_id_1> </s>\n",
      "########\n",
      "*******\n",
      "question: If you're going to a party in an alley, what is likely to happen?\n",
      "answer: doing drugs\n",
      "choices: ['call the police', 'doing drugs', 'new contacts', 'making new friends', 'plan']\n",
      "common expl list: ['Alleys are associated with crime; and, people performing illegal drugs at a party is illegal.', 'People going to parties in an alley are often going to do drugs and vice.', 'People often do drugs at parties, and alleys are often used for parties.']\n"
     ]
    },
    {
     "name": "stderr",
     "output_type": "stream",
     "text": [
      "\r",
      " 15%|████████████████████████▏                                                                                                                                        | 148/986 [1:56:13<9:47:20, 42.05s/it]"
     ]
    },
    {
     "name": "stdout",
     "output_type": "stream",
     "text": [
      "generated explanation: <pad> <extra_id_0> If you're going to a party in an alley, you're likely to be doing drugs. This is because drugs are a sedative, and they can be dangerous for people. Taking drugs can also be dangerous for people who are on drugs. They can also be dangerous for people who are on drugs. They can also be dangerous for people who are on drugs. They can also be dangerous for people who are on drugs. They can also be dangerous for people who are on drugs. They may also be able to get into a party in an alley, which is because of the proximity of the alley is a great way to get to the party. It is also a great way to get out of the party. The parties are a great way to get drunk and to get drunk. They can be a good time. They can be a good idea to go to a party in an alley, which can be dangerous for the party.<extra_id_1> </s>\n",
      "########\n",
      "*******\n",
      "question: The man was very tired and sore, he decided to stay in bed to what?\n",
      "answer: rest more\n",
      "choices: ['rest more', 'lazy', 'were sick', 'to be sick', \"you're sick\"]\n",
      "common expl list: [\"When people are sick, they tend to rest, as it's the most sensible thing.\", 'The man was so tired and sore, he just wanted a break. His illness would keep him in bed.', 'The man was tired and sore, so he decided to rest more.']\n"
     ]
    },
    {
     "name": "stderr",
     "output_type": "stream",
     "text": [
      "\r",
      " 15%|████████████████████████▏                                                                                                                                       | 149/986 [1:58:36<16:48:02, 72.26s/it]"
     ]
    },
    {
     "name": "stdout",
     "output_type": "stream",
     "text": [
      "generated explanation: <pad> <extra_id_0> The man was very tired and sore, he decided to stay in bed to rest. Resting is the most effective way to help relieve the stress of being tired. Rest more often than not, it helps to relieve the stress of the day and to help relieve the stress of work. Sleeping in bed helps to relieve the tension in the body and reduce stress and stress associated with the day. Sleeping more often means sleeping more often, which helps to relieve the stress of the day. Sleeping longer can help to relieve stress and stress associated with the sleep more often helps to relieve the stress of the day. Rest more can also help to relieve the stress of the day’s stress and stress of the day. Sleep more often helps to relieve stress and stress. Sleep more is a great way to help relieve stress and stress. Resting more often helps to relieve the stress of the day. Sleep more sleep more sleep. Sleeping in bed helps to relieve the man’s body to help him to relieve his body’s stress and stress. Sleep more often, as well as to relieve the man’s body and mind. Sleeping more often, as well as to relieve his tiredness and soreness. Sleeping in bed to help reduces the stress and stress of being soreness and stress and stress. Rest more. Rest more energy levels and energy levels of stress and fatigue. Sleep more energy and energy levels and reduce stress and fatigue. Sleeping more energy levels and stress and stress levels and to relieve stress and stress and stress and stress and stress and stress and stress and stress. Sleeping to rest is a time to recover and to rest. Sleep more sleep more energy and stress of the man to relax and recharge his tiredness and stress and stress and stress, and it helps to relieve stress and stress. Sleeping to rest more energy levels and stress. Rest more energy. Sleeping to help relieve stress and stress, sleep more energy levels and help to reduce the need to move forward. Sleep more energy levels. Sleep more energy levels and stress levels. Sleeping more energy levels and stress levels associated with rest and rest and recharge the body and mind. Sleep more energy levels. Sleep more energy levels and energy levels. Sleep more energy. Sleep more energy is important for the man to rest and recharge the body and to help to relieve the body and to rest. Sleeping to rest more energy levels and to relieve the body and to relieve the body and to relieve the body and to\n",
      "########\n",
      "*******\n",
      "question: He was back in his hometown, he was planning on having fun and doing what?\n",
      "answer: visiting friends\n",
      "choices: ['being understood', 'hug', 'rambling', 'kiss', 'visiting friends']\n",
      "common expl list: ['If a person is back in their hometown, they might visit their friends, who they might not see very often.', 'People usually visit their friends when they return to a town where they previously used to live, because their friends would have missed them.', 'If a person went back to their hometown, they might be glad to see their old friends, and visit them while they are there.']\n"
     ]
    },
    {
     "name": "stderr",
     "output_type": "stream",
     "text": [
      "\r",
      " 15%|████████████████████████▎                                                                                                                                       | 150/986 [1:59:14<14:26:13, 62.17s/it]"
     ]
    },
    {
     "name": "stdout",
     "output_type": "stream",
     "text": [
      "generated explanation: <pad> <extra_id_0> He was planning on having fun and doing what he was doing in his hometown. He was visiting friends in his hometown and was planning on having fun and doing what he was doing. He was planning on visiting friends in his hometown, and he was planning on visiting with friends. He was planning on visiting friends because he was back in his hometown and he was visiting his hometown. He was planning on visiting friends in his hometown and spending time with his family. He was planning on spending time with friends in his hometown, and he was visiting friends to have fun and do things he was doing. He was also planning on visiting friends and family, and he was planning on visiting his hometown, he was visiting friends and family, and he was planning on visiting friends and family. He was also planning on visiting friends and family, and he was planning on visiting friends and family. He was planning on visiting friends and family, and he was planning on visiting friends and family, and he was planning on having fun and doing things he was planning on visiting friends and family. He was planning on visiting friends and family, and he was planning on visiting friends and family, and he was planning on visiting friends and family.</s>\n",
      "########\n",
      "*******\n",
      "question: Where is basketball court likely to be outdoors?\n",
      "answer: city\n",
      "choices: ['high school gymnasium', 'city', 'park', 'use', 'los angeles']\n",
      "common expl list: ['Basketball courts are likely to be at parks and recreational centers in cities.', 'Most American cities have basketball courts in public parks.', 'Basketball courts are often urban.', 'Basketball courts are often found in city parks.']\n"
     ]
    },
    {
     "name": "stderr",
     "output_type": "stream",
     "text": [
      "\r",
      " 15%|████████████████████████▌                                                                                                                                       | 151/986 [2:01:13<18:20:43, 79.09s/it]"
     ]
    },
    {
     "name": "stdout",
     "output_type": "stream",
     "text": [
      "generated explanation: <pad> <extra_id_0> A city is likely to have a basketball court that is likely to be outdoors because of the outdoors. The court is usually located in a city, where it is often a popular basketball destination. The court is usually located in a residential area, and the courts are usually located in a residential area. The court is usually located in a residential area, and the court is usually located in a residential area. The court is also usually surrounded by trees, trees, and shrubs. The courts are usually open and surrounded by trees, which makes it a great option for the city, and the court is often located in the city is often a great place to play basketball. This is because the city is often surrounded by trees, which can be a great source of entertainment. The courts are often surrounded by trees, which can be a great place to play. The court is also a great place to play basketball. The courts are often a popular sport, and the city is a great place to play basketball. The weather is often a great place to play basketball is a great place to play basketball. The city is also a great place to play. The city is a great place to play. The city is also a great place to play basketball, especially when the city is a great place to play basketball, and the courts are a great place to play basketball. The city is a great place to play basketball, as it is a great way to play the sport is a great place to play basketball. It is also a great place to play, especially a great place to play, as it offers many different sports, as it offers many people a great opportunity to play sports, as it also because it offers many sports, as it offers many sports, as it offers many other activities, as it offers many different sports, as it offers many opportunities to play sports, as it offers many different sports, as it offers many people are able to<extra_id_1> </s>\n",
      "########\n",
      "*******\n",
      "question: When you want to get the skin off of an apple, you do what to it?\n",
      "answer: peel\n",
      "choices: ['seeds inside', 'stems', 'peel', 'grocery store', 'green market']\n",
      "common expl list: ['Apples have a skin that can be peeled off.', 'Skin is something you peel from fruits like apples, peaches, oranges, kiwi, etc...']\n"
     ]
    },
    {
     "name": "stderr",
     "output_type": "stream",
     "text": [
      "\r",
      " 15%|████████████████████████▋                                                                                                                                       | 152/986 [2:03:28<22:15:08, 96.05s/it]"
     ]
    },
    {
     "name": "stdout",
     "output_type": "stream",
     "text": [
      "generated explanation: <pad> <extra_id_0> When you want to peel an apple, you do what to it. Peeling is a process that involves removing the skin from the apple. It is also a process that involves peeling, which is a process that is done by hand. Peeling is the process involves peeling the apple off the skin, which removes the skin from the skin. Peeling is a process that involves removing the skin from the apple, removing the skin from the apple and removing the skin from the apple. Peeling is a process that requires peeling to remove the skin from the apple, removing the skin is a process that is necessary to get rid of the skin. Peeling is a process that is safe and effective for the skin to remove the peeling process. Peeling is a process that is safe for the skin, which is a process that requires the skin from the apple. Peeling is a process that is effective and effective in peeling the skin off the skin and removing the skin from the apple. Peeling is a process that is a process that is done in a healthy, healthy, and effective way to remove the skin from the skin. It is also a way to remove the skin from the skin. It is also a great way to remove the skin off the skin. It is a great way to remove the skin from the skin. It is a great way to remove the skin from the skin. It is a great way to remove the skin from the skin, and it is a great way to remove the skin. Peeling is a great way to remove the skin from the skin, and it can be used to remove the skin from the skin, and it can be used to remove the skin from the skin, so it can be used to remove the skin off the skin off the skin, and it can remove the skin off the skin off the skin. It can also help to remove the skin. It can also help to remove the skin off the skin off the skin, and it can help to remove the skin off an apple, and it can help to remove the skin of an apple. It can also help to remove the skin from the skin. It can also help to remove the skin from the skin of an apple is a great way to remove the skin from the skin of an apple. It can also help to remove the skin of an apple. It can help to remove\n",
      "########\n",
      "*******\n",
      "question: Where could you put some knives if you are planning to bring them outside with you?\n",
      "answer: backpack\n",
      "choices: ['purse', 'backpack', 'drawer', 'sporting goods store', 'kitchen']\n",
      "common expl list: [\"To carry knives on one's person, you need some small type of container to hold the knives. Perhaps the most likely place to carry a small container is a backpack.\", \"Knives are usually brought along if hiking, camping, fishing, or other outings, and backpacks make it easy to transport one's belongings.\"]\n"
     ]
    },
    {
     "name": "stderr",
     "output_type": "stream",
     "text": [
      "\r",
      " 16%|████████████████████████▊                                                                                                                                       | 153/986 [2:03:31<15:44:44, 68.05s/it]"
     ]
    },
    {
     "name": "stdout",
     "output_type": "stream",
     "text": [
      "generated explanation: <pad> <extra_id_0> A backpack is a great place to put knives if you are planning to bring them outside with you. A backpack is a great place to put knives in a backpack because it is easy to carry with you. It is also a great place to put knives in a backpack if you are planning to bring them outside with you. It is important to have a backpack with a lot of space to put knives in, as it is a large area of the backpack. It is also important to have a place to put knives in a backpack because it is a great way to keep knives in a backpack. It is a great place to put knives in the back and can be used to carry knives in a backpack.<extra_id_1> </s>\n",
      "########\n",
      "*******\n",
      "question: John watches the well dressed people from a catwalk above the stage.  He listens to them speak rehearsed lines while the audience listens.  Where is he/\n",
      "answer: theatre\n",
      "choices: ['theatre', 'new york city', 'fashion show', 'construction site', 'school play']\n",
      "common expl list: ['Theatres have catwalks where people might observe and listen to actors.']\n"
     ]
    },
    {
     "name": "stderr",
     "output_type": "stream",
     "text": [
      "\r",
      " 16%|████████████████████████▉                                                                                                                                       | 154/986 [2:03:34<11:10:50, 48.38s/it]"
     ]
    },
    {
     "name": "stdout",
     "output_type": "stream",
     "text": [
      "generated explanation: <pad> <extra_id_0> John is in a theatre where he is listening to the well dressed people speak rehearsed lines while the audience listens. He is watching the well dressed people from a catwalk above the stage. The audience is listened to and heard from the audience. The audience is also able to hear the well dressed people speak rehearsed lines while the actors are on stage. The audience is also able to hear the well dressed people speak rehearsed lines while the audience listens. John is able to hear the lines while the actors are speaking rehearsed lines while the audience is listening to them. The audience members of the audience are also able to hear the well dressed people.</s>\n",
      "########\n",
      "*******\n",
      "question: If I am creating art and have completed it to satisfaction, what is my feeling?\n",
      "answer: enlightenment\n",
      "choices: ['enlightenment', 'tired', 'frustration', 'relax', 'controversy']\n",
      "common expl list: ['Enlightenment is the label for a moment of clarity, and the word is often applied to artists who have created something unique or daring.']\n"
     ]
    },
    {
     "name": "stderr",
     "output_type": "stream",
     "text": [
      "\r",
      " 16%|█████████████████████████▏                                                                                                                                      | 155/986 [2:04:06<10:03:14, 43.56s/it]"
     ]
    },
    {
     "name": "stdout",
     "output_type": "stream",
     "text": [
      "generated explanation: <pad> <extra_id_0> I am creating art and have completed it to satisfaction. Enlightenment is a feeling that comes from the experience of having completed it. It is a feeling that comes with a sense of accomplishment and satisfaction. It is a feeling that is a feeling that is a feeling of accomplishment and satisfaction. It is a feeling that is a feeling of accomplishment and satisfaction. It is a feeling that is a feeling of accomplishment and satisfaction. Enlightenment is a feeling that is felt by the creator, the artist, and the artist’s work is a feeling of being able to see the world through the work and feel more than ever before. It is a feeling of accomplishment, and it is a feeling of accomplishment, and it is a feeling of enlightenment. It is a feeling that the artist has the ability to express the work and have a sense of accomplishment. It is a feeling that is a feeling that is a feeling that is a feeling that is a feeling that is a feeling that is a feeling that is a feeling that is a feeling that is a feeling of being enlightenment.</s>\n",
      "########\n",
      "*******\n",
      "question: He was serious and pragmatic, so why did he drive his car?\n",
      "answer: transportation\n",
      "choices: ['transportation', 'car crash', 'death', 'sleepy', 'stress']\n",
      "common expl list: ['People often drive cars to get from one place to another.', 'Because driving is the most practical mode of transportation judging by the time and distance required to do so.']\n"
     ]
    },
    {
     "name": "stderr",
     "output_type": "stream",
     "text": [
      "\r",
      " 16%|█████████████████████████▎                                                                                                                                      | 156/986 [2:06:35<17:20:11, 75.19s/it]"
     ]
    },
    {
     "name": "stdout",
     "output_type": "stream",
     "text": [
      "generated explanation: <pad> <extra_id_0> He was serious and pragmatic, so he did not drive his car. He was pragmatic, so he drove his car because it was a practical way to get around. He was also pragmatic and focused on the future. He was also a good driver, as he was able to keep his car in the car and make sure it was safe for the road. He was also a pragmatic person, and his car was able to provide him with the information he needed to make the right decisions. He was also pragmatic, and he was pragmatic, and he drove his car because it was a vehicle that could provide him with the tools and equipment that he needed to make the right choice for his job. He was also a pragmatic person, and he was driving his car because he was driving it a practical person. He was serious and pragmatic, so he drove his car to work in a way to get around the city, which is a great way to get around the city. He was pragmatic, and he was driving the right choice for his career. He was pragmatic. He was serious and pragmatic, so he needed to drive his car safely and effectively. He was pragmatic. He was pragmatic, and he was pragmatic, and he was driving his car to get around the city. The fact that he was pragmatic, and he was driving his car to get around the city in his car to get around town. He was pragmatic because he was driven by his job. The driver was pragmatic, and he was a pragmatic, and he was also a pragmatic driver because he was pragmatic, because he was pragmatic, because he was pragmatic. He was serious and pragmatic. He was pragmatic, and pragmatic. He was driving was a pragmatic, and he was driving his car was a practical and practical. Ultimately, he was pragmatic, and he was a pragmatic and pragmatic. Ultimately, he was pragmatic and pragmatic, and he was pragmatic, and his car was a practical in his business. He was pragmatic in his car because he was pragmatic in his car was a pragmatic in his car. He was pragmatic in his car was a man who was a man who was serious and pragmatic in his car was pragmatic in his car because it was an important part of his job. He was pragmatic in his car was pragmatic in his car,\n",
      "########\n",
      "*******\n",
      "question: What does god want people to do for money?\n",
      "answer: work in life\n",
      "choices: ['work in life', 'speak to people', 'everywhere', 'sitting ideal', 'care for people']\n",
      "common expl list: ['The scriptures explain that people should acquire money by providing good products or services, e.g., to bring value to other people and make a living.']\n"
     ]
    },
    {
     "name": "stderr",
     "output_type": "stream",
     "text": [
      "\r",
      " 16%|█████████████████████████▍                                                                                                                                      | 157/986 [2:06:37<12:17:08, 53.35s/it]"
     ]
    },
    {
     "name": "stdout",
     "output_type": "stream",
     "text": [
      "generated explanation: <pad> <extra_id_0> God wants people to work in life for money because god wants them to earn it. Also, work in life is a great way to earn money, because it gives you the opportunity to make a living. This is because God wants people to make a living by giving them the opportunity to earn money. God wants people to work in life because he wants to make money. He wants people to make money by making money. He also wants people to make money by giving them the opportunity to work in the field. Work in life is a way to make money. Work in life is a way that gives people the opportunity to make money.<extra_id_1> </s>\n",
      "########\n",
      "*******\n",
      "question: What can happen after doing housework that does not involve pain?\n",
      "answer: become tired\n",
      "choices: ['become tired', 'stress', 'put on shoes', 'backache', 'low pay']\n",
      "common expl list: ['Doing housework is likely to tire someone out. Being tired increases the likelihood of restlessness and uneasiness.', 'Housework can be tiring, and so, after doing it, one might become tired.', 'Raking, sweeping, and dusting are common forms of housework. After all the physical labor of these activities, someone \\xa0might become tired and take time off from housework chores, but not have een doing any housework tasks that']\n"
     ]
    },
    {
     "name": "stderr",
     "output_type": "stream",
     "text": [
      "\r",
      " 16%|█████████████████████████▋                                                                                                                                      | 158/986 [2:09:23<20:01:55, 87.10s/it]"
     ]
    },
    {
     "name": "stdout",
     "output_type": "stream",
     "text": [
      "generated explanation: <pad> <extra_id_0> Pain is a condition that can cause a person to become tired. It can be caused by the fact that the house is being worked on without pain. It can also cause the person to become tired. The pain can be caused by the stress of the housework. This is because it is a natural process that can cause the person to feel the stress and tension from the task. The stress of the housework is a result of the stress and pressure of the work. The stress can also cause the person to feel a sense of boredom and boredom. The body must also be able to perform tasks that require the body to move and to work at the housework itself, which can lead to a sense of boredom and boredom. The body is a natural response to the stress and pressure of the housework. It can also cause the person to become tired, which can cause the body to become tiredness. The body must also be able to move around the housework can also cause the body to become tired. The body must also be able to perform the tasks without pain, which can lead to the housework to become tired. This is because housework can be stressful and can lead to fatigue. It is a great way to get tired. It is a great way to get tired, which can lead to fatigue, which can lead to fatigue. It can lead to fatigue, fatigue, and it can also lead to fatigue. Eventually, it can also lead to fatigue, which leads to fatigue, which can lead to fatigue. It is also a sign of fatigue, which can lead to fatigue. It can also lead to a lot of stress, anxiety, and it can lead to fatigue. It can also lead to fatigue. It can lead to fatigue, which can lead to fatigue, which leads to fatigue and can lead to fatigue and may lead to fatigue. Finally, it can lead to fatigue. It can lead to fatigue, which can lead to fatigue when it is possible to become tired. It is a common scenario when housework is a lot of stress, which can lead to pain, which can lead to fatigued. It can lead to fatigue. It can lead to fatigued and tiredness and stress, which can lead to fatigue and stress, which can lead to fatigue and stress. It can lead to fatigue. It can lead to fatigue and stress, which can lead to fatigue and stress. It can lead to fatigue and\n",
      "########\n",
      "*******\n",
      "question: James sat in a chair and listened to the speaker.  Where might James be?\n",
      "answer: auditorium\n",
      "choices: ['synagogue', 'grocery store', 'auditorium', 'confession', 'office']\n",
      "common expl list: ['James was likely in an auditorium, because he was listening to a speaker.']\n"
     ]
    },
    {
     "name": "stderr",
     "output_type": "stream",
     "text": [
      "\r",
      " 16%|█████████████████████████▊                                                                                                                                      | 159/986 [2:09:43<15:23:01, 66.97s/it]"
     ]
    },
    {
     "name": "stdout",
     "output_type": "stream",
     "text": [
      "generated explanation: <pad> <extra_id_0> James might be in an auditorium because it is a place where people are able to listen to the speaker. Audiences are places that are used to listen to speakers, speakers, and other people. They are often used to provide entertainment for the audience, such as a music show, a movie, or a movie. They are often used to provide a safe space for the listener. Audiences are places where people can relax and enjoy the company of others. They are places where people can relax and enjoy the company of others, and they can hear the speaker. Audiences are places where the speaker can be heard. Audiences are places where people can sit and listen to the speaker, and where they can listen to the speaker. They can also be a place of entertainment for the listener. The speaker is a place of entertainment, as the speaker is a place of entertainment for the listener. The speaker is a place where James could be a place of comfort and relaxation.<extra_id_1> </s>\n",
      "########\n",
      "*******\n",
      "question: John thought that Mary was beautiful despite her injury.  But Mary believed that she was what?\n",
      "answer: misshapen\n",
      "choices: ['wrong', 'overcast', 'homely', 'bad', 'misshapen']\n",
      "common expl list: [\"If Mary believes she doesn't look normal, but someone else thinks she is beautiful, perhaps she could feel like her form is misshapen.\"]\n"
     ]
    },
    {
     "name": "stderr",
     "output_type": "stream",
     "text": [
      "\r",
      " 16%|█████████████████████████▉                                                                                                                                      | 160/986 [2:11:38<18:40:36, 81.40s/it]"
     ]
    },
    {
     "name": "stdout",
     "output_type": "stream",
     "text": [
      "generated explanation: <pad> <extra_id_0> Mary was beautiful despite her injury. John thought that Mary was beautiful despite her injury. She was misshapen because she was able to walk and walk without assistance. Mary believed that she was able to walk without assistance and was able to walk without assistance. Despite her injuries, Mary was misshapen because she was too weak to move. Despite her injuries, Mary was mishapen because she was unable to walk and walk without assistance. Mary believed that she was beautiful despite her injuries. John thought that Mary was beautiful despite her injury. Despite her injury, Mary believed that she was beautiful despite her injury, but she was misshapen because she was misshapen because she was misshapen because she was unable to walk without assistance from her injuries. Mary was unable to move and was unable to walk without assistance. This is because John thought that Mary was beautiful despite her injury and that she was misshapen because she was unable to move and move and move around the world. Despite her injuries, Mary was not able to move around the world and was unable to move around the world and was not able to move around the world because she was not able to move and move around the world because she was misshapen because she was unable to move around the world because of her injuries. This is because Mary was able to move around the world because she was misshapen because she was misshapen because of her injuries because she was misshapen because she was misshapen because she was misshapen because she was misshapen because she was misshapen because she was able to move around the world because she was misshapen because she was misshapen because she was misshapen because she was misshapen because she was misshapen because she was misshapen because she was misshapen because she was misshapen because she<extra_id_1> </s>\n",
      "########\n",
      "*******\n",
      "question: Where does my body go after I am no longer living?\n",
      "answer: graveyard\n",
      "choices: ['zombie', 'bodycam', 'coffin', 'graveyard', 'funeral']\n",
      "common expl list: ['Corpses are buried in graveyards.', 'When a person dies, it is common to bury their bodies in locations called graveyards.', 'When one dies, their body is buried in a graveyard.']\n"
     ]
    },
    {
     "name": "stderr",
     "output_type": "stream",
     "text": [
      "\r",
      " 16%|██████████████████████████▏                                                                                                                                     | 161/986 [2:11:42<13:17:57, 58.03s/it]"
     ]
    },
    {
     "name": "stdout",
     "output_type": "stream",
     "text": [
      "generated explanation: <pad> <extra_id_0> My body goes into the graveyard after I am no longer living. The graveyard is the place where a person's body goes to when they are no longer living. Graveyards are places where a person's body goes after a period of time, and the place where a person's body goes after a period of time, and graveyards are the place where a person's body goes after a period of time. The graveyard is a place where the body goes to the graveyard is a place of burial, where the body goes to the graveyard is buried. The graveyard is the place of burial, and the place of burial, where the body goes after a period of time, and where the graveyard is the graveyard. The graveyard is where the body is found.<extra_id_1> </s>\n",
      "########\n",
      "*******\n",
      "question: Where can you find a bar before traveling a long distance?\n",
      "answer: airport\n",
      "choices: ['las vegas', 'public house', 'airport', 'restaurant', 'michigan']\n",
      "common expl list: ['Bars are often located in airports, and so if a person was traveling a long distance, they might stop at an airport bar.']\n"
     ]
    },
    {
     "name": "stderr",
     "output_type": "stream",
     "text": [
      "\r",
      " 16%|██████████████████████████▍                                                                                                                                      | 162/986 [2:11:45<9:32:03, 41.65s/it]"
     ]
    },
    {
     "name": "stdout",
     "output_type": "stream",
     "text": [
      "generated explanation: <pad> <extra_id_0> A bar at an airport is a convenient place to stay in a hotel or restaurant. Airports are often a convenient place to find a bar, as they are often located in the airport. They are often located in the middle of the airport, so they are often located in the middle of the airport. They are also known for their proximity to the airport, which means they are close to the airport. They are also known for their proximity to the airport and their proximity to the city. They are also known for their proximity to the airport, which means they can serve drinks and snacks, and they are also known for their proximity to the bar, which is a great way to stay in a hotel room, bar, or other services. Bars are also located in the middle of the airport, so they are often located in the middle of the airport.<extra_id_1> </s>\n",
      "########\n",
      "*******\n",
      "question: Where might a small ball be bounced from?\n",
      "answer: child's hand\n",
      "choices: ['soccer game', 'street', 'toy store', \"child's hand\", 'on the sidewalk']\n",
      "common expl list: ['A ball much like a toy, and kids often play with them on the streets and sidewalks.', 'Since children enjoy bouncing balls, and they are also relatively small, they would bounce a ball from their hand.']\n"
     ]
    },
    {
     "name": "stderr",
     "output_type": "stream",
     "text": [
      "\r",
      " 17%|██████████████████████████▍                                                                                                                                     | 163/986 [2:13:12<12:38:25, 55.29s/it]"
     ]
    },
    {
     "name": "stdout",
     "output_type": "stream",
     "text": [
      "generated explanation: <pad> <extra_id_0> A small ball may bounce from a child's hand. It is a natural movement that can be absorbed by the child's hand, which is a natural motion that can be felt by the child. The child may also be able to feel the bounce of the ball from the ball's hand, which is a natural movement that is a natural motion. The ball can also be thrown from the hand, which is a natural motion that can be a natural reaction to a large amount of pressure, pressure, and other stimuli. During the bounce, the ball can be absorbed by the child's hand, which can cause the ball to bounce from the child to the ball. The child may also be able to feel the pressure of the pressure of the child's hand, which can lead to a calming and soothing sensation. The ball can also be thrown from the child's hand, which can also cause the child to feel the impact of the child's hand, which can also cause the ball to be able to bounce from the child's hand. The ball is able to bounce from the hand, which can also cause the child to bounce from the hand, and can also cause the ball to be able to feel the impact of the ball to be bounce from the child to the ball to the child's hand, and the child to bounce from the ball to the ball to the child to the ball to the child to the ball to the child to the ball to the ball. The child to the ball to bounce from the hand, and the ball to bounce from the ball to bounce from the hand. The ball to bounce from the hand, which is able to bounce from the hand and to the ball to bounce from the ball to the hand.<extra_id_1> </s>\n",
      "########\n",
      "*******\n",
      "question: Where do families begin?\n",
      "answer: wedding\n",
      "choices: ['wedding', 'around dinner table', 'supermarket', 'dinner together', 'park']\n",
      "common expl list: ['A wedding is a ceremony in which two people get married, and thus a wedding is where a family begins.']\n"
     ]
    },
    {
     "name": "stderr",
     "output_type": "stream",
     "text": [
      "\r",
      " 17%|██████████████████████████▌                                                                                                                                     | 164/986 [2:13:35<10:25:27, 45.65s/it]"
     ]
    },
    {
     "name": "stdout",
     "output_type": "stream",
     "text": [
      "generated explanation: <pad> <extra_id_0> Weddings are a great way to start a family. Weddings are typically a family-friendly experience, with a focus on the bride and groom, and are usually a celebration of the couple’s love and commitment. Weddings are usually a celebration of the couple and are usually a celebration of the couple. Weddings are a celebration of the couple’s unique personalities and their unique personalities. They are often accompanied by a special ceremony, a celebration, or a celebration of the couple’s life together, and are a great way to celebrate the couple and their families, as they are a perfect way to celebrate the couple together. They are also a great way to celebrate the family and to share a special moment together, and to make it a memorable experience that will last awaited moment. A wedding is a perfect place to celebrate the couple’s special day. The ceremony is a time of celebration and a time that is perfect for both the bride and groom.<extra_id_1> </s>\n",
      "########\n",
      "*******\n",
      "question: He enjoyed reading newspaper, he consider what a subscription?\n",
      "answer: buying\n",
      "choices: ['gifting', 'buying', 'money', 'literacy', 'knowing how to read']\n",
      "common expl list: ['Buying a subscription to a newspaper is a way to get the newspaper delivered to your home.']\n"
     ]
    },
    {
     "name": "stderr",
     "output_type": "stream",
     "text": [
      "\r",
      " 17%|██████████████████████████▊                                                                                                                                     | 165/986 [2:16:06<17:35:06, 77.11s/it]"
     ]
    },
    {
     "name": "stdout",
     "output_type": "stream",
     "text": [
      "generated explanation: <pad> <extra_id_0> He enjoyed reading newspaper, he consider what a subscription is. He enjoyed reading it because it was a great way to spend time. It was also a great way to spend time with family and friends. He also consider buying a subscription to newspapers. He also consider newspaper subscriptions as a way to help him to keep up with the news, which he read. He also consider a newspaper a subscription. He also consider buying a newspaper subscription to help him to stay on track with the news. He also consider buying a subscription because it is a great way to keep up with the latest news, and he enjoys reading newspapers and magazines. He also consider buying newspapers as a way to keep up with the latest events in the world of news, which is a great way to keep up with the news. He also consider buying a newspaper subscription. He also consider a subscription to newspapers. He enjoyed reading newspaper, which he enjoy reading. He also consider buying a newspaper subscription. He also consider buying a newspaper subscription as he enjoyed reading newspaper, which is a great way to keep up his interests. He enjoyed reading newspapers, magazines, and other articles that he enjoy reading newspapers. He enjoy reading newspaper, which is a great way to keep up with his daily life. He enjoyed reading newspaper, he consider a newspaper subscription. He also consider buying a newspaper subscription. He also consider buying a newspaper, he enjoy reading newspaper, he consider buying a subscription, he enjoyed reading newspaper, and other media. He enjoyed reading the news. He enjoyed reading newspaper, he consider it he consider it he consider it he enjoy reading newspaper, he enjoyed reading. He also consider buying newspapers. He enjoy reading newspapers. He enjoyed reading them because they provide a way for him to read newspapers because they provide a way for him to read newspapers because they offer him a variety of subjects such as the latest editions and magazines, which is a great way to keep up with the latest information about the latest news stories, and he may also enjoy reading newspaper, newspapers, and to read. Ultimately, he consider a newspaper because it as a form of entertainment. He may also consider buying a subscription to newspapers, he enjoy reading it as a way to keep up with the latest information about the latest news and information about the latest news and information\n",
      "########\n",
      "*******\n",
      "question: What does an animal do when it becomes old?\n",
      "answer: feel pain\n",
      "choices: ['live long', 'leave home', 'feel pain', 'eating', 'sense fear in human']\n",
      "common expl list: ['Ageing animals may have chronic pain as part of the body losing function as it ages.']\n"
     ]
    },
    {
     "name": "stderr",
     "output_type": "stream",
     "text": [
      "\r",
      " 17%|██████████████████████████▉                                                                                                                                     | 166/986 [2:16:08<12:26:40, 54.64s/it]"
     ]
    },
    {
     "name": "stdout",
     "output_type": "stream",
     "text": [
      "generated explanation: <pad> <extra_id_0> An animal will feel pain when it is old enough to walk, walk, or crawl. It will also feel a sense of being unable to move or walk, or to feel a sense of being unable to move. It will also feel a sense of being unable to move or to move. This is because it will no longer be able to move, move, or move freely.<extra_id_1> An animal will also feel a sense of being unable to move. An animal will also feel a sense of being unable to move, which will help it to move.<extra_id_1> </s>\n",
      "########\n",
      "*******\n",
      "question: What entity would have a fire extinguisher in their boardroom?\n",
      "answer: most businesses\n",
      "choices: ['boat', 'apartment', 'public building', 'most businesses', 'chemistry lab']\n",
      "common expl list: ['Most businesses would have a fire extinguisher in their boardroom, because they are likely to have a fire in their boardroom.']\n"
     ]
    },
    {
     "name": "stderr",
     "output_type": "stream",
     "text": [
      "\r",
      " 17%|███████████████████████████                                                                                                                                     | 167/986 [2:18:16<17:24:55, 76.55s/it]"
     ]
    },
    {
     "name": "stdout",
     "output_type": "stream",
     "text": [
      "generated explanation: <pad> <extra_id_0> Most businesses would have a fire extinguisher in their boardroom because it is a vital part of any business. Most businesses have a fire extinguisher in their boardroom because it is a vital part of their business. Business owners can use it to help protect their employees from fire and other hazards. They also have the ability to control the fire risk from the fire, which can be a major factor in the fire risk. Fire extinguishers are used to control the fire risk of a fire in the boardroom, as it is a vital part of their business. Most businesses would have a fire extinguisher in their boardroom, as they are usually equipped with a fire extinguisher in their boardroom. Most businesses would have a fire extinguisher in their boardroom, which would be a significant amount of people would have a fire extinguisher in their boardroom. Generally, a fire extinguisher in the boardroom, as they would be a business. They would have a fire extinguisher in their boardroom, as they are the only way to keep people safe and prevent fires and prevent them from a fire extinguisher in their boardroom, as they would also have a fire extinguisher in their business. Businesses would have a fire extinguisher in their boardrooms and other important safety precautions in their boardrooms and other items in their boardrooms and other items in the event a fire extinguisher in their boardrooms and other items in their boardrooms and other items in their boardrooms and other items in their boardrooms. Most businesses would have a fire extinguisher in their boardrooms that would be in their boardrooms that would be in their boardrooms that would be in their offices. In addition, most businesses would have a fire extinguishers. In addition, businesses would also have a fire extinguishers in their boardrooms. Fire extinguishers are designed to protect their employees from fire. In addition, businesses would have a fire extinguishers in their boardrooms<extra_id_1> </s>\n",
      "########\n",
      "*******\n",
      "question: Where can someone go and buy cheese?\n",
      "answer: market\n",
      "choices: ['pizza', 'bar', 'fridge', 'market', 'refrigerator']\n",
      "common expl list: ['Cheese is a dairy product and can be purchased at markets, for the most part.', 'Cheese is sold at markets.']\n"
     ]
    },
    {
     "name": "stderr",
     "output_type": "stream",
     "text": [
      "\r",
      " 17%|███████████████████████████▎                                                                                                                                    | 168/986 [2:18:38<13:43:08, 60.38s/it]"
     ]
    },
    {
     "name": "stdout",
     "output_type": "stream",
     "text": [
      "generated explanation: <pad> <extra_id_0> People can go and buy cheese from the market. Markets are a great place to buy cheese because it is usually available in a variety of flavors and flavors. They are also known to have a variety of different tastes and tastes. They are often characterized by a variety of different flavors and textures. They are often accompanied by cheeses from different vendors. Markets are also often a great place to buy cheese, especially from the market. Markets are also known to be a great place to buy cheese, as they are often very popular and often have a great deal of cheese shops, markets are also great places to buy cheese in a variety of styles, colors, and textures. Markets are usually open to the public, so they are often very popular because they are often very popular and are often very good quality cheese. Markets are often a great place to buy cheese in a market. Markets also often have a place to buy cheese. Markets are a great place to buy cheese. Markets also often have a great place to buy cheese.<extra_id_1> </s>\n",
      "########\n",
      "*******\n",
      "question: Where would you carry food while on a long walk in the countryside?\n",
      "answer: backpack\n",
      "choices: ['backpack', 'table', 'jar', 'box', 'container']\n",
      "common expl list: [\"Because backpacks are designed to be carried on one's back, they are the most convenient way to carry food while on a long walk.\", 'Instead of carrying a jar or container, filling your backpack with food might not disrupt your movements as much when you are walking.']\n"
     ]
    },
    {
     "name": "stderr",
     "output_type": "stream",
     "text": [
      "\r",
      " 17%|███████████████████████████▍                                                                                                                                    | 169/986 [2:19:01<11:09:27, 49.17s/it]"
     ]
    },
    {
     "name": "stdout",
     "output_type": "stream",
     "text": [
      "generated explanation: <pad> <extra_id_0> A backpack is a lightweight, lightweight, and compact solution for carrying food on a long walk in the countryside. It is a great way to pack food in the back of a vehicle or carry a backpack in the back of a car. It is a great way to carry food in a backpack while on a long walk in the countryside. It is a great way to carry food in the back of a car, as it allows you to carry food in a safe and comfortable way. It is a great way to carry food items, such as snacks, and other items such as clothes, blankets, and other items such as a picnic, picnic, and other items that are used to carry food items. It is a great way to carry food items, and it is a great way to carry food items and snacks. It is also a great way to carry food with you, and it is a great way to carry food items that are used to carry food items, and it is a great way to carry food items that are used to carry food items</s>\n",
      "########\n",
      "*******\n",
      "question: What could a driver do that could distract him or her while he or she is in a driving car?\n",
      "answer: smoke\n",
      "choices: ['use mobile phone', 'car crash', 'smoke', 'backache', 'automobile accidents']\n",
      "common expl list: ['It can be tricky to smoke and concentrate on driving at the same time, and research has found that smoking in a car with children present is very dangerous.', 'Smoking is a common activity that people do while driving, and it could distract them from driving.']\n"
     ]
    },
    {
     "name": "stderr",
     "output_type": "stream",
     "text": [
      "\r",
      " 17%|███████████████████████████▌                                                                                                                                    | 170/986 [2:19:53<11:19:45, 49.98s/it]"
     ]
    },
    {
     "name": "stdout",
     "output_type": "stream",
     "text": [
      "generated explanation: <pad> <extra_id_0> A driver could do anything that could distract him or her while driving car, such as smoke, a car accident, or a smoke detector, and smoke detectors. They can also be used to monitor the speed and speed of the car, as well as the vehicle's speed and speed. Smoke detectors can also be used to monitor the speed and speed of the car, which can be used to detect and detect suspicious objects. This can include smoke, which can be used to detect and prevent a vehicle from swerving, which can also be used to detect smoke while driving, which can cause a crash or even death. Smoke detectors can also be used to detect and sense the direction of the car, which can cause a distraction. Smoke detectors can also be used to detect and detect a driver to detect a car's speed and speed and speed. Similarly, smoke detectors can also be used to detect and detect a driver's breath, which can be used to detect the smoke and identify the driver's breath, and identify the driver's breath and identify the driver's breath. This is because it is a distraction from the driver's breath. This can be a driver's breath. The smoke in the car can also be used to detect a driver's breath, which can cause the driver's breath, which can also be used to see the smoke.<extra_id_1> </s>\n",
      "########\n",
      "*******\n",
      "question: The fat man wanted to make a change in his life and make sure it stayed what?\n",
      "answer: permanent\n",
      "choices: ['concretely', 'permanent', 'remain stable', 'stagnant', 'constant']\n",
      "common expl list: ['His making a decision to change and ensuring the decision is made permanent indicates a desire for a stable, permanent life, which does not change.', 'In changing his life, he wants to make sure he remains in the new lifestyle choices, e.g., not become stagnant to bad choices and fall back into bad choices.']\n"
     ]
    },
    {
     "name": "stderr",
     "output_type": "stream",
     "text": [
      "\r",
      " 17%|███████████████████████████▉                                                                                                                                     | 171/986 [2:20:08<8:55:12, 39.40s/it]"
     ]
    },
    {
     "name": "stdout",
     "output_type": "stream",
     "text": [
      "generated explanation: <pad> <extra_id_0> The fat man wanted to make a change in his life and make sure it stayed the same. Permanent change is the change that is made by the body, which is the body, and which is the body that is able to sustain itself. The body is a natural, recognizable symbol of the body, and it is a part of our lives that is recognizable. The body is able to maintain its shape and function, and it is able to maintain its shape and function. The fat man wanted to make a change in his life stayed the same way it was able to keep it in his life. Permanent change is a permanent sign of the body, and it is able to maintain its shape and function. The fat man wanted to make a permanent change in his life and make sure it remained the same way it was able to maintain its shape and function. The fat man wanted to make a permanent change in his life and make sure it <extra_id_1> </s>\n",
      "########\n",
      "*******\n",
      "question: where did many colonial kingdoms originate?\n",
      "answer: europe\n",
      "choices: ['saudi arabia', 'europe', 'united states', 'book', 'monarchy']\n",
      "common expl list: ['Colonies and kingdoms often originate in the mother countries of the colonial or kingdom builders, e.g., entities in the United Kingdom and the Netherlands.', 'Many colonial kingdoms in the past can be traced all the way back to their roots in Europe.']\n"
     ]
    },
    {
     "name": "stderr",
     "output_type": "stream",
     "text": [
      "\r",
      " 17%|███████████████████████████▉                                                                                                                                    | 172/986 [2:21:22<11:15:19, 49.78s/it]"
     ]
    },
    {
     "name": "stdout",
     "output_type": "stream",
     "text": [
      "generated explanation: <pad> <extra_id_0> Europe is the most ancient civilization in the world, with over a century of history. Europe is one of the most ancient and enduring of all time, and it is the most ancient of all time. It is the most ancient of all the continents, and the most ancient of all the continents. Europe is the birthplace of many kingdoms, and it is the most important place to see them. Europe is the most important place for colonial kingdoms to have been able to develop their cultures and traditions in the world. Europe is the oldest civilizations of the past, and the first recorded European civilizations of the earliest civilizations. Europe is the land of the kingdoms, and the first Europeans were the most important source of wealth and wealth. Europe is the most important place for the first colonial kingdoms to have been the first colonial kingdoms to have a strong sense of identity and identity of the empire. Europe is the most important place for the European continent to be a place of the world. Europe is the largest continent of the world, and the first continent to be a place to be a nation to have been the center of the continent to have been the first colonial kingdoms to be the center of the world, and the first colonial kingdoms to have been the center of the world. Europe was the first European continent. Europe's history. Europe is the birthplace of civilization, and it's role in history and culture, and it is the first continent. Europe's history, and it is the center of civilization, and it is the birth of many colonial kingdoms originated in Europe. Europe is the birthplace of many kingdoms.<extra_id_1> <extra_id_1> </s>\n",
      "########\n",
      "*******\n",
      "question: Where can a television be stored and hidden?\n",
      "answer: cabinet\n",
      "choices: ['apartment', 'living room', 'bedroom', 'kitchen', 'cabinet']\n",
      "common expl list: ['A television can be stored inside a cabinet.', 'A cabinet is a piece of furniture that is used to store items, and televisions are large, and thus, can be stored in cabinets.']\n"
     ]
    },
    {
     "name": "stderr",
     "output_type": "stream",
     "text": [
      "\r",
      " 18%|████████████████████████████                                                                                                                                    | 173/986 [2:22:36<12:51:59, 56.97s/it]"
     ]
    },
    {
     "name": "stdout",
     "output_type": "stream",
     "text": [
      "generated explanation: <pad> <extra_id_0> A television can be stored and hidden in a cabinet. Cabinets are typically designed to accommodate a wide variety of cabinet sizes and styles, including a small television, a television, a television, and a television set. Cabinets can also be used to store and hide a television, such as a DVD player, a DVD player, or a digital camera. Cabinets can also be used to store and hide a television, or a DVD player, and can be used to store and hide it in a cabinet, and can also be used to store and hide it in a cabinet, or can be used to store a television. Televisions can also be hidden in a cabinet, and can be hidden in a way to keep them visible and protected from the light, and can be easily located in a cabinet. Televisions can also be hidden in a cabinet, which can be used to store a television in a variety of other media content. Additionally, cabinets can also be hidden from the light, such as videos, audio files, videos, and other media, such as videos, audio CD, video files, audio files, and other media files. This allows for a television that can be hidden in a television when it is not visible from view from view from a cabinet. This allows a television can be hidden in a cabinet to be hidden in a cabinet to be hidden from view from a television. A cabinet can also be used to record audio, video, video, or other entertainment devices, such as movies, videos, audio files, and other media players, such as videos, or other media.<extra_id_1> </s>\n",
      "########\n",
      "*******\n",
      "question: what can get a prisoner in more trouble?\n",
      "answer: attempt to escape\n",
      "choices: ['dream of freedom', 'attempt to escape', 'do time', 'fast for days', 'scape jail']\n",
      "common expl list: ['Prisoners serve time, and when a prisoner attempts to escape, they generally serve extra time.']\n"
     ]
    },
    {
     "name": "stderr",
     "output_type": "stream",
     "text": [
      "\r",
      " 18%|████████████████████████████▍                                                                                                                                    | 174/986 [2:22:46<9:39:47, 42.84s/it]"
     ]
    },
    {
     "name": "stdout",
     "output_type": "stream",
     "text": [
      "generated explanation: <pad> <extra_id_0> A prisoner can be in more trouble if they try to escape from a prison because they are afraid of being attacked. They may also attempt to escape from prison by attempting to evade the prison. Prisoners are also often held in prison for attempting to escape from a prison, which can lead them to danger. Prisoners are often held in a prison for life or for a long time. They may also try to escape from a prisoner. They may also try to escape from the prison by trying to escape from the prison for a variety of reasons, such as by attempting to escape from the prison, which can lead to more trouble. They may also try to escape from prison by attempting to escape from the prison, which can lead to more trouble for the prisoner, which can lead to more trouble if they escape from the prison. Prisoners are forced to escape from the prison for life.<extra_id_1> </s>\n",
      "########\n",
      "*******\n",
      "question: The crab was separated from his compatriots out in the sea, where was he likely to be?\n",
      "answer: tide pool\n",
      "choices: ['fish market', 'cooking pot', 'tide pool', 'beach sand', 'farm']\n",
      "common expl list: ['Tide pools are regions of shallow, pooled water that are very exposed to air, making them appealing to crabs that have to breathe.']\n"
     ]
    },
    {
     "name": "stderr",
     "output_type": "stream",
     "text": [
      "\r",
      " 18%|████████████████████████████▍                                                                                                                                   | 175/986 [2:24:22<13:17:44, 59.02s/it]"
     ]
    },
    {
     "name": "stdout",
     "output_type": "stream",
     "text": [
      "generated explanation: <pad> <extra_id_0> The crab was likely to be in a tide pool in a tide pool because of the high tide. tide pools are often used to separate crabs from their compatriots, which can cause them to be separated from their compatriots. This is because tide pools are often used to separate crabs from their compatriots. This is because tide pools are often used to separate crabs from their compatriots, which can lead to the formation of a large swarm of crabs. This is because tide pools are often used to separate them. This is because the crab was likely to be isolated from his compatriots out in the sea and can cause the crab to be separated. Ultimately, tide pools can be a great way to separate the crab and to make it a great way to separate the crabs and to separate the crabs and to separate the crabs. The crab is likely to be separated from his compatriots and to make it difficult to separate from each other. The crab was likely to be separated from his compatriots out in the sea in the sea. The crab was likely to be separated from his compatriots out in the sea, which can lead to a dangerous place to be a dangerous and dangerous place to live in the sea. The crab was likely to be able to be able to get a dangerous location to be able to get a great place to live. The crab from his compatriots out in the sea.<extra_id_1> The crab was likely to be in the sea in the sea by the crab's compatriots out in the sea by the crab's compatriots by the crab's compatriots out in the crab's compatriots out in the sea by the crab's a great deal of crabs.<extra_id_1> The crab's compatriots out in the sea by the sea by the crab's company.<extra_id_1> </s>\n",
      "########\n",
      "*******\n",
      "question: What item is smelted out of minerals on the country side?\n",
      "answer: metal\n",
      "choices: ['urban city', 'france', 'metal', 'grass', 'state']\n",
      "common expl list: ['Metals are extracted from mineral mines out in the country side.', 'Products made by smelters tend to be made out of metals, and mining occurs at the country side.']\n"
     ]
    },
    {
     "name": "stderr",
     "output_type": "stream",
     "text": [
      "\r",
      " 18%|████████████████████████████▌                                                                                                                                   | 176/986 [2:26:34<18:11:26, 80.85s/it]"
     ]
    },
    {
     "name": "stdout",
     "output_type": "stream",
     "text": [
      "generated explanation: <pad> <extra_id_0> Metal is a type of metal that is melted out of minerals on the country side. It is used to melt metals, which are often found in the ground, and are used to melt metals. Metal is a type of metal that is smelted out of minerals in the ground, such as coal, coal, and coal. Metal is a type of metal that is produced by melting minerals. It is a type of metal that is melted from the ground and melted into the ground. It is a type of metal, and is a type of metal that is used to melt metals, which are used to melt metals in the ground, which is then melted to form a solid. It is also used to make a valuable metal for the country side. It is also used to make a valuable and valuable resource for the country side. It is also a valuable resource for the country side. It is also a valuable resource for the country's natural gas, which is used to make it a valuable resource for the natural gas, and is used to make the country's natural gas. It is also used to make it a valuable resource. It is also used to make it a valuable resource. It is a valuable resource for the purpose of mining. It is a valuable resource, as it is used to make it a valuable resource, as it is a valuable resource for the purpose of a valuable resource, as it is a valuable resource for the country side because it can be used to make it a valuable resource for the country side because it is a valuable resource. It is a valuable resource for the country side as it is a valuable resource for the country side because it is a valuable resource for the country side because it is a valuable resource for the country side because it is a valuable resource for the country. The country side is a valuable resource for the minerals that are a valuable resource for the environment and for the environment. The country is a valuable resource for the mining industry. The mining industry is a valuable resource for the mining industry. It is also a valuable resource that is a valuable resource that is a valuable resource for the industry. It is a source of valuable resource that is also a valuable resource for the mining industry. It is a valuable resource for the mining industry. It is a valuable source of minerals that\n",
      "########\n",
      "*******\n",
      "question: Where is a good place to store a saw?\n",
      "answer: toolbox\n",
      "choices: ['hardware store', 'tool shed', 'storage', 'tool kit', 'toolbox']\n",
      "common expl list: ['One might likely store a saw in a box with other tools.', 'A toolbox is a container for tools, and a saw is a tool.']\n"
     ]
    },
    {
     "name": "stderr",
     "output_type": "stream",
     "text": [
      "\r",
      " 18%|████████████████████████████▋                                                                                                                                   | 177/986 [2:28:16<19:33:21, 87.02s/it]"
     ]
    },
    {
     "name": "stdout",
     "output_type": "stream",
     "text": [
      "generated explanation: <pad> <extra_id_0> A toolbox is a good place to store a saw. It is a small, but sturdy, and durable toolbox that is ideal for storing a saw. It is a great way to store tools and supplies, such as saws, saws, and other tools. It is also a great place to store saws and tools. It is a great place to store saws, as it provides a convenient storage space for the saws and saw blades. It is also a great place to store saws, and tools, and tools, tools and accessories. It is also a great place to store a saw. It is also a great place to store saws, saws, and saws. It also provides a great way to store a saw in a toolbox. Toolbox. Toolboxes are also a good place to store a good place to store a saw. a good place to store a saw, such as a toolbox is a great way to store a saw. It is also a great place to store a great place to store a good place to store a saw. Toolboxes are a great place to store a tool for storing a good place to store a saw, a good place to store a saw, and it is a good place to store a saw, and it is a good place to store a saw. Using a saw, a toolbox, a saw, a good place to store a saw, and it is a great place to store a saw, and it is a good place to store a saw, and it is a good place to store a good place to store a saw, a saw, and it is a good place to store a saw, and it is a great place to store a saw, and it is a good place to store a saw, and it is to store a saw.<extra_id_1> </s>\n",
      "########\n",
      "*******\n",
      "question: The jellyfish was pushed along by the water.  It was caught in what?\n",
      "answer: current\n",
      "choices: ['store', 'book', 'park', 'current', 'lake']\n",
      "common expl list: ['Jellyfish are often found in oceans, and oceans have currents.', \"Currents are fast-moving water, and jellyfish can't swim very well, so if caught in a current, it's likely to be being pushed along by the current.\"]\n"
     ]
    },
    {
     "name": "stderr",
     "output_type": "stream",
     "text": [
      "\r",
      " 18%|████████████████████████████▋                                                                                                                                  | 178/986 [2:30:31<22:48:15, 101.60s/it]"
     ]
    },
    {
     "name": "stdout",
     "output_type": "stream",
     "text": [
      "generated explanation: <pad> <extra_id_0> The jellyfish was caught in the current conditions because it was pushed along by the water. It was pushed along by the water and pushed along by the current. It was caught in the current conditions because it was a natural source of food for the jellyfish. It was a good source of nutrients for the jellyfish to grow in. It was also a good source of oxygen for the jellyfish to grow in the current. It was a great source of nutrients for the jellyfish to grow in. It was also a great source of nutrients. It was also a great source of food for the jellyfish. It was also a great source of food for the jellyfish. The current conditions are great for catching jellyfish in the water, and it is a great source of nutrients for the jellyfish. It is a great source of oxygen for the jellyfish. It is a great source of oxygen for the jellyfish. It is a great source of nutrients for the jellyfish. It is a great source of nutrients for the jellyfish. The jellyfish is a great source of nutrients for the jellyfish. The jellyfish was caught in the water, and it was a great source of life. It was a great source of food for jellyfish. The jellyfish was also a great source of life for the jellyfish. The jellyfish was a great source of life in the water. Its life cycle. The jellyfish was a fish. It was also a great source of life. It was a fish that was a great food source is a great food source for jellyfish, so it was a great food source for jellyfish to be a great food source for fish to be a great food source for jellyfish to be a good food source for a fish to be a great food source for jellyfish to be a great source of jellyfish to feed on jellyfish to feed on jellyfish to grow in the water. It was a great food source for jellyfish, especially for jellyfish, and it was a great food source for jellyfish to grow in the water, and it was a great food source for jellyfish to grow in the water, and it is a great food source for jellyfish to grow in the water, and it is a good food source for jellyfish to grow in the water, and it is\n",
      "########\n",
      "*******\n",
      "question: The dime store was full of old donated goods, it reminded the customer of the what?\n",
      "answer: past\n",
      "choices: ['strip mall', 'past', 'shopping center', 'old movie', 'india']\n",
      "common expl list: ['Dime stores were more popular years ago than today. The sight of the old goods reminded the person of the past.']\n"
     ]
    },
    {
     "name": "stderr",
     "output_type": "stream",
     "text": [
      "\r",
      " 18%|████████████████████████████▊                                                                                                                                  | 179/986 [2:33:00<25:57:22, 115.79s/it]"
     ]
    },
    {
     "name": "stdout",
     "output_type": "stream",
     "text": [
      "generated explanation: <pad> <extra_id_0> The dime store was full of old donated goods, it reminded the customer of the past. The dime store was filled with old items, which were donated to the charity. The items were donated to the charity and were then sold to the charity. The store was filled with old items, which were donated to the charity. It was also filled with new items that were donated to the charity. It also contained a large amount of items that were no longer in use today. It was also filled with old items that were donated to the charity. It was a great way to remind the customer of the past, which was a great way to remind the customer of the past. It was a great way to remind the customer of the past, and it was a great way to remind customers of the past, and it reminded them of the past. It was a great way to remind the customer of the past. It was a great way to remind the customer of the past, and it was a great way to remind them that the customer was a great way to remind the customer of the past past. It was a great way to remind them of past items, and it was a great way to remind them of past. It was a great way to remind them of past past items that were donated to the dime store. It was a great way to remind them of past. It was a great way to remind them of past. It was a great way to remind them of the past, it was a great way to remind the customer of the past and to remind them of the past, and it was a great way to remind them of the past. The dime store was filled with old donated items that were donated items that were donated items that were donated to the customer of the past. It was a great way to remind them of the past, and it was a great way to remind the customer of the past, and it reminded them of the past, and it was a great way to remind the customer of the past. The dime store was filled with old items that were donated to remind the customer of the past. It was a great way to remember the past. The dime store was filled with items that were donated to the customer that the customer that the customer that the customer of the past. The dime store was full of old items that were donated items that were donated items that were donated\n",
      "########\n",
      "*******\n",
      "question: Where would you put a saw if you do not need to use it soon and your house only has one floor?\n",
      "answer: tool shed\n",
      "choices: ['logging camp', 'in the vehicle', 'tool shed', 'toolbox', 'basement']\n",
      "common expl list: [\"A tool shed is a place where tools are stored, and thus, a good place to store a saw if you don't need to use it soon.\", 'A tool shed is a common structure for organizing and storing tools that are infrequently used.', 'The shed is a good place for storing tools when those tools are not in use.']\n"
     ]
    },
    {
     "name": "stderr",
     "output_type": "stream",
     "text": [
      "\r",
      " 18%|█████████████████████████████▏                                                                                                                                  | 180/986 [2:33:09<18:45:51, 83.81s/it]"
     ]
    },
    {
     "name": "stdout",
     "output_type": "stream",
     "text": [
      "generated explanation: <pad> <extra_id_0> A tool shed is a tool shed because it is a place where a person can use a saw if they need it most. It is a place where a person can store their tools and other items, such as tools, tools, and other items. It is also a place where a person can store their tools if they are not using them soon. Tools are used in a variety of ways, including in the construction of a building, the construction of a workshop, and in the construction of a tool shed. The tool shed is a place where a saw can be used to store tools and tools, and it is easy to access and use the tools and tools they can be used for a person’s tools. It is also a great place to store tools, such as a tool shed is a great place to store tools, such as a saw.<extra_id_1> </s>\n",
      "########\n",
      "*******\n",
      "question: A person might wear his yarmulke when going to where?\n",
      "answer: synagogue\n",
      "choices: ['demonstration', 'concert', 'garage', 'bus stop', 'synagogue']\n",
      "common expl list: ['Synagogue is a place commonly visited by religious Jews. Men wear yarmulkes (skullcaps) because faith requires that they uncover their heads when going before God.']\n"
     ]
    },
    {
     "name": "stderr",
     "output_type": "stream",
     "text": [
      "\r",
      " 18%|█████████████████████████████▎                                                                                                                                  | 181/986 [2:33:43<15:21:34, 68.69s/it]"
     ]
    },
    {
     "name": "stdout",
     "output_type": "stream",
     "text": [
      "generated explanation: <pad> <extra_id_0> A person might wear his yarmulke when going to a synagogue. This is because a yarmulke is a protective device that protects the wearer from the elements. It is also used to protect the yarmulke from the elements, such as a saber, a saber, or a hat. It is also used to protect the yarmulke from the elements, such as a hat, a hat, or a hat when going to a synagogue. This allows the person to keep their yarmulke to stay in synagogue to keep the yarmulke from the elements, and to keep the yarmulke from the elements. This allows the person to keep the yarmulke when going to and from the synagogue. The yarmulke is a key to the synagogue to keep the synagogue to keep an eye on the future synagogue to keep an eyeballer's eyeballs' hands and is a key to a strong and secure and secure.<extra_id_1> </s>\n",
      "########\n",
      "*******\n",
      "question: Someone takes up exercising to improve their what\n",
      "answer: physical fitness\n",
      "choices: ['losing weight', 'physical fitness', 'breathlessness', 'muscles', 'lost weight']\n",
      "common expl list: ['Exercising helps people build their physical fitness.', 'Typically people are motivated to exercise in order to become fit.', 'Exercising is a way to improve physical fitness.']\n"
     ]
    },
    {
     "name": "stderr",
     "output_type": "stream",
     "text": [
      "\r",
      " 18%|█████████████████████████████▌                                                                                                                                  | 182/986 [2:34:14<12:50:14, 57.48s/it]"
     ]
    },
    {
     "name": "stdout",
     "output_type": "stream",
     "text": [
      "generated explanation: <pad> <extra_id_0> Someone takes up the exercise to improve their physical fitness and improve their overall health. Physical fitness is a physical activity that is a form of physical activity that is a form of physical activity that is primarily used to improve physical and mental health. Physical fitness is a form of exercise that is aimed at improving physical and mental health. Physical fitness is a form of physical activity that is used to improve physical and mental health. Physical fitness is a form of exercise that is used to improve physical health. It is a form of exercise that is designed to help people to improve their physical fitness and mental health. Physical fitness is also a form of exercise that helps to improve mental and physical physical fitness. Physical fitness is a form of exercise program that helps them to improve their physical fitness. Physical fitness is a form of exercise that helps them to improve physical and mental health. Physical fitness is a form of exercise that helps to improve physical fitness, and it helps to improve physical fitness is a form of exercise, which helps to improve physical fitness is a great form of exercise. It helps to increase physical fitness, which helps to improve physical activity. This leads to better physical fitness<extra_id_1> </s>\n",
      "########\n",
      "*******\n",
      "question: Where could you see a sloth that is not real?\n",
      "answer: picture book\n",
      "choices: ['bad dream', 'picture book', 'another place', 'universe', 'zoo']\n",
      "common expl list: ['Reality is generally fractured into \"real\" and \"fusion.\" Sloths are real, meaning they exist (in some form) in reality; sloths are not real (in the way depicted) in a picture book.']\n"
     ]
    },
    {
     "name": "stderr",
     "output_type": "stream",
     "text": [
      "\r",
      " 19%|█████████████████████████████▋                                                                                                                                  | 183/986 [2:34:38<10:35:27, 47.48s/it]"
     ]
    },
    {
     "name": "stdout",
     "output_type": "stream",
     "text": [
      "generated explanation: <pad> <extra_id_0> A sloth is a fictional creature that is not real. It is a creature that is not real and is a picture book. Picture books are a way to tell a person that they are not real and that is why sloths are not real. They are a form of entertainment and entertainment. They are also a way to show off their own skills and talents. They are a way to show their true self and their unique characteristics. They are a way to show their true nature and their uniqueness to the world around them. Picture books are a great way to show off the sloth in a sloth is a great way to show the sloth in a picture book. Picture books are a great way to show the sloth's true self. The picture book is a great way to show sloth is a great way to show their true self. The pictures are a great way to show the world around them, and they are a great way to show them, and they are a great way to show their true and real life.<extra_id_1> </s>\n",
      "########\n",
      "*******\n",
      "question: Where are seats often plush?\n",
      "answer: opera\n",
      "choices: ['rest area', 'theater', 'hockey game', 'classroom', 'opera']\n",
      "common expl list: ['Opera is a high-class form of entertainment, and thus, the seats are often plush.', 'Plush seats are generally found in more comfortabe, well-off establishments, and opera is often performed in such, less strict teents of, elegance of the decor.']\n"
     ]
    },
    {
     "name": "stderr",
     "output_type": "stream",
     "text": [
      "\r",
      " 19%|██████████████████████████████                                                                                                                                   | 184/986 [2:34:41<7:34:55, 34.03s/it]"
     ]
    },
    {
     "name": "stdout",
     "output_type": "stream",
     "text": [
      "generated explanation: <pad> <extra_id_0> Seats are often plush because they are often plush because they are comfortable and comfortable. They are often used for entertainment purposes such as reading, watching television, or watching the sun set in the background of the opera. Operas are often used to provide entertainment, such as entertainment, entertainment, and entertainment. Operas also feature a variety of styles, including reclining, sofas, and even a piano. They are also used to provide a comfortable and comfortable experience for the audience. They are also often used to provide entertainment for guests, which can be seated or acoustic seats. Operas also feature a variety of entertainment activities such as watching the sun, or watching the sun set, or watching a concert. The opera is often used to provide entertainment and entertainment.<extra_id_1> </s>\n",
      "########\n",
      "*******\n",
      "question: The comforter was used constantly and treaded upon by everyone, where should it be placed?\n",
      "answer: washing machine\n",
      "choices: ['garbage', 'linen closet', 'bedroom', 'washing machine', 'livingroom']\n",
      "common expl list: ['Linens are often used (i.e., the comforter) and washed frequently.', 'The comforter was used constantly, so it should be washed frequently. Linen closets are where people store their bed sheets and blankets.', 'When you use your comforter (or any other high-traffic fabric) often, you ought to wash it often too. Therefore it should be kept in the washing machine, to enable quick washing.']\n"
     ]
    },
    {
     "name": "stderr",
     "output_type": "stream",
     "text": [
      "\r",
      " 19%|██████████████████████████████                                                                                                                                  | 185/986 [2:36:05<10:55:05, 49.07s/it]"
     ]
    },
    {
     "name": "stdout",
     "output_type": "stream",
     "text": [
      "generated explanation: <pad> <extra_id_0> The comforter should be placed in a washing machine. Washing machine is a machine that can be used to place the comforter in a washing machine. The washing machine is a machine that can be used to wash clothes, towels, etc. The comforter is placed in a washing machine, so it should be placed in a washing machine. It is a great place to put towels, pillows, blankets, blankets, etc. The comforter is a great way to keep your comforter comfortable and comfortable. It is also a great way to keep your comforter clean and safe. It is a great way to keep your comforter in place. It is a great way to keep your comforter in your home, and it should be placed in a safe and effective way to keep your comforter in place. It is also a great way to keep your comforter in place. It is a great way to keep your comforter in a place for your comforter. Also, it is a great way to keep your family safe. It is a great way to keep your family safe and secure. It is a great way to keep your family safe. It is a great way to keep your family safe. It is a great way to keep your family safe and secure. It is a great way to keep your family safe and secure. It is a great place to place it is a great way to keep your family safe. It is a great way to keep your family safe. It is a great way to keep your home, and it is a great way to keep your family safe and secure. It is also a great way to keep your family safe and secure when you can keep your comforter in your home, as it is a great way to keep your comforter.<extra_id_1> </s>\n",
      "########\n",
      "*******\n",
      "question: Joe bought a ficus.  He thought it would look good in what part of his home?\n",
      "answer: family room\n",
      "choices: ['family room', 'tropical forest', 'flower garden', 'movie theater', 'hair salon']\n",
      "common expl list: [\"The ficus is an indoor plant, such as a plant one would have in one's family room. The family room is the ideal location for an indoor plant like a houseplant.\"]\n"
     ]
    },
    {
     "name": "stderr",
     "output_type": "stream",
     "text": [
      "\r",
      " 19%|██████████████████████████████▏                                                                                                                                 | 186/986 [2:36:41<10:02:03, 45.15s/it]"
     ]
    },
    {
     "name": "stdout",
     "output_type": "stream",
     "text": [
      "generated explanation: <pad> <extra_id_0> Joe bought a ficus to look good in his home. It would look great in a family room or bedroom. It would also look great in a bedroom or dining room. It would also look great in a kitchen, dining room, or living room. It would also look great in a home with a fireplace. It would also make a great addition to any room in the house. It would also make a great addition to any home. It would make a great addition to any room in the house. It would look great in the family room, dining room, and kitchen. It would also look great in a family room. It would look great in a room because it would look great in a family room, as it would look great in a home office, and as a focal point of the room, it would look great in a home is a great addition to any home, and would make a great addition to any home. It would be a great addition to any home, especially a home with a ficus would be a great addition to any home, and would be a great addition to any home. It would be a great addition to any room.<extra_id_1> </s>\n",
      "########\n",
      "*******\n",
      "question: Family is always the best for devotion, but it is also nice if a person has what?\n",
      "answer: loyal friends\n",
      "choices: ['good review', 'headache', 'with cat', 'loyal friends', 'shoes']\n",
      "common expl list: ['Loyal friends are always there for you, and they will always be devoted to you.', 'We may have devoted friends who would be there for us if we had need.', \"Because times may come when a person would like to go out and have fun with some friends, and it's nice if that person may have friends that he is faithful to.\"]\n"
     ]
    },
    {
     "name": "stderr",
     "output_type": "stream",
     "text": [
      "\r",
      " 19%|██████████████████████████████▌                                                                                                                                  | 187/986 [2:36:48<7:28:25, 33.67s/it]"
     ]
    },
    {
     "name": "stdout",
     "output_type": "stream",
     "text": [
      "generated explanation: <pad> <extra_id_0> A person has a great amount of friends and family, and it is always nice to have them around. Besides, it is also nice to have friends who are supportive and supportive, and it is important to have a good relationship with them. It is important to have a good amount of time to spend with family and friends, especially if they are able to make new friends. This is because it is important to have a strong bond with one another, and it is important to have them around. This is also important to have a strong bond with one another, and it is important to have a strong bond with other people. This is also important to have a good relationship with one another, and it is important to have a strong bond with one another. This bond is a great way to build a strong bond with one another, and it is important to have a strong bond.</s>\n",
      "########\n",
      "*******\n",
      "question: Rap is not usually associate with what music often performed by an orchestra?\n",
      "answer: classical\n",
      "choices: ['folk', 'rock', 'good music', 'country music', 'classical']\n",
      "common expl list: ['Rap is generally associated with hip-hop music, which is normally performed by a single artist. Orchestras tend to play classical music, which often is performes with real instruments, rather than manufactured ones.']\n"
     ]
    },
    {
     "name": "stderr",
     "output_type": "stream",
     "text": [
      "\r",
      " 19%|██████████████████████████████▋                                                                                                                                  | 188/986 [2:37:57<9:50:00, 44.36s/it]"
     ]
    },
    {
     "name": "stdout",
     "output_type": "stream",
     "text": [
      "generated explanation: <pad> <extra_id_0> Rap is not usually associated with classical music, but rather with classical music. This is because it is a form of music that is often performed by an orchestra, and because it is often performed in a variety of styles, it is often associated with a variety of genres, and because it is often performed in a variety of styles. Rap is a form of classical music, which is often associated with the music of the orchestra, the orchestra, and the musicians. Rap is not usually associated with classical music, but it is often associated with classical music, which is why it is not often associated with classical music. Rap is not typically performed by an orchestra, and it is often performed by an orchestra. Rap is not necessarily associated with the music that is often performed by an orchestra. Rap is often performed by an orchestra. Rap is an instrumental instrument, a form of music, and is often performed by an instrumental instrument. It is often performed by an orchestra, and is often performed by an orchestra, and is often a part of classical music. It is not usually performed by an orchestra. It is often performed by an orchestra. It is often performed by a piece of music that is often a form of music that is not a piece of music that is not necessarily a form of music that is often a form of music that is not a piece of music that is not a piece of music that is not a piece of music that is not a piece of music that is not a piece of music that is a piece of music that is a piece of music that is not a piece of music that is a piece of music that is a piece</s>\n",
      "########\n",
      "*******\n",
      "question: At what structure can you see people you use a puck professionally?\n",
      "answer: hockey rink\n",
      "choices: ['hockey rink', 'locker room', 'sporting goods store', 'used in hockey game', 'teachers']\n",
      "common expl list: ['Pucks are commonly used in ice hockey, which is a professional activity.']\n"
     ]
    },
    {
     "name": "stderr",
     "output_type": "stream",
     "text": [
      "\r",
      " 19%|██████████████████████████████▊                                                                                                                                  | 189/986 [2:37:58<6:54:03, 31.17s/it]"
     ]
    },
    {
     "name": "stdout",
     "output_type": "stream",
     "text": [
      "generated explanation: <pad> <extra_id_0> At what structure can you see people using a puck professionally? At what structure can you see people using a puck?</s>\n",
      "########\n",
      "*******\n",
      "question: Even when not in flight a bald eagle likes to have a lay of the land, because of this you'll see them perched up where?\n",
      "answer: high places\n",
      "choices: ['colorado', 'natural habitat', 'everglades', 'high places', 'tree']\n",
      "common expl list: ['Eagles like to be high up, so they can see a large area.']\n"
     ]
    },
    {
     "name": "stderr",
     "output_type": "stream",
     "text": [
      "\r",
      " 19%|██████████████████████████████▊                                                                                                                                 | 190/986 [2:40:14<13:51:01, 62.64s/it]"
     ]
    },
    {
     "name": "stdout",
     "output_type": "stream",
     "text": [
      "generated explanation: <pad> <extra_id_0> When a bald eagle is in flight it likes to have a lay of the land, so they will be perched up in high places. In high places, the birds will be perched on top of the ground and perched on top of the ground. In high places, the bald eagle will be able to lay their eggs and hide their eggs in a variety of habitats. This is because of the fact that a bald eagle is perched in the air, it will be able to see the birds, it will be able to see the land from the ground, which is why it will be able to see the birds. This is because the eagle will be able to see the land in high places. This is because the eagle will be able to see the land, and because of this, they will be able to see the eagle will also be able to see the land from the air, and because the eagle will be able to see the land, and because the land, they will be able to see the eagles. The eagle will be able to see the land, they will be able to see the land, and because they will be able to see the land is able to see the land, and the eagle will be able to see the land, the eagles will also see the land, the land, and the land, the eagle will be able to see the land. The land is able to see the land. The land is able to see the land, and the land is able to see the land is able to see the land is able to see the land is able to see the land is able to see the land is able to see the land is able to see the land is able to see the land is able to see the land is able to see the able to see the land is able to see the land is able to see the land is able to see the land. The land is able to see the land from the sky. The land is able to see the land is able to see the land is able to see the land is able to see the land is able to see the\n",
      "########\n",
      "*******\n",
      "question: When is good time for garlic bread?\n",
      "answer: dinner\n",
      "choices: ['refrigerator', 'dinner', 'jail', 'supermarket', 'going on a date']\n",
      "common expl list: ['Garlic bread is often served with dinner.', 'Typical garlic bread is served with a maincourse and wine or other alcoholic beverage, and both are commonly served with dinner.']\n"
     ]
    },
    {
     "name": "stderr",
     "output_type": "stream",
     "text": [
      "\r",
      " 19%|██████████████████████████████▉                                                                                                                                 | 191/986 [2:40:29<10:41:11, 48.39s/it]"
     ]
    },
    {
     "name": "stdout",
     "output_type": "stream",
     "text": [
      "generated explanation: <pad> <extra_id_0> It is a great time for garlic bread because it is a great source of protein and fat. It is also a great way to enjoy a slice of bread with a side of bread. It is also a great way to eat a side of bread that is a great source of fiber and flavor. It is also a great way to enjoy a slice of bread that is a great way to eat garlic bread. It is also a great way to enjoy a meal that is rich in fiber and flavor. It is also a great way to enjoy it at night. It is also a great way to make garlic bread for dinner. It is a great way to enjoy a meal together with friends and family. It is also a great way to enjoy a great way to make a great meal that can be eaten in the evening. It is a great way to prepare a meal that is a great way to make garlic bread for dinner.<extra_id_1> </s>\n",
      "########\n",
      "*******\n",
      "question: Where is the sky fake?\n",
      "answer: planetarium\n",
      "choices: ['shed', 'atmosphere', 'photo', 'outdoors', 'planetarium']\n",
      "common expl list: ['Planetariums are places built to simulate the sky indoors; the opposite of outdoors.', 'Planetariums are buildings that simulate the sky.']\n"
     ]
    },
    {
     "name": "stderr",
     "output_type": "stream",
     "text": [
      "\r",
      " 19%|███████████████████████████████▎                                                                                                                                 | 192/986 [2:41:02<9:38:56, 43.75s/it]"
     ]
    },
    {
     "name": "stdout",
     "output_type": "stream",
     "text": [
      "generated explanation: <pad> <extra_id_0> The sky is a fake. Planetariums are usually located in the middle of the planets, so the sky is not a real one. Planetariums are usually located in the middle of the earth, and are usually located in the middle of the earth, so they are not visible from the ground. Also, planetariums are often located in the middle of the earth, so they are not visible from the ground. Planetariums are located in the middle of the earth, so they are often located in the middle of the world, so they are not visible from the ground, so they are not visible from the ground, so they are not visible from the ground, so they are not visible from the top of the earth, and are often located in the middle of the earth. Planetariums are often located in the middle of the earth. This is often located in the middle of the earth, so it is likely to be in the middle of the earth. The planetariums are usually located in the middle of the earth, and are often in the middle of the earth to be seen from the ground, and are often in the middle of the earth. This is because they are often the sky.<extra_id_1> </s>\n",
      "########\n",
      "*******\n",
      "question: Boats that aren't on the ocean travel across the surface of what?\n",
      "answer: lake\n",
      "choices: ['lake', 'ocean', 'tetrahedron', 'mirror', 'object']\n",
      "common expl list: [\"Lakes (and ponds) are bodies of fresh water surrounded by land, and boats exist on water, and thus, will tend to travel across lakes' surfaces.\"]\n"
     ]
    },
    {
     "name": "stderr",
     "output_type": "stream",
     "text": [
      "\r",
      " 20%|███████████████████████████████▌                                                                                                                                 | 193/986 [2:41:05<6:57:13, 31.57s/it]"
     ]
    },
    {
     "name": "stdout",
     "output_type": "stream",
     "text": [
      "generated explanation: <pad> <extra_id_0> Boats that aren't on the ocean travel across the surface of a lake. Lakes are a natural environment that is a natural habitat for fish, birds, and other wildlife. Lakes are often a natural habitat for many species of fish, and they are often used as a source of food for fish, as well as for recreational purposes. Lakes are also often used as a source of entertainment, entertainment, and entertainment. Boats that aren't on the ocean are often used to explore the shoreline, and are often used as a source of entertainment. They can also be used to fish, and many of the fish are often used to fishing. They are also often used to fish, and the water is often used to feed the fish.<extra_id_1> </s>\n",
      "########\n",
      "*******\n",
      "question: A small dog lived with a a woman who loved him. Where might he have lived?\n",
      "answer: person's house\n",
      "choices: [\"person's house\", 'dog house', 'canada', 'illinois', 'basket']\n",
      "common expl list: ['Animals who live with humans are often in their homes.', \"Dogs are often kept as pets, and pets are often kept in their owners' homes.\"]\n"
     ]
    },
    {
     "name": "stderr",
     "output_type": "stream",
     "text": [
      "\r",
      " 20%|███████████████████████████████▍                                                                                                                                | 194/986 [2:42:23<10:01:12, 45.55s/it]"
     ]
    },
    {
     "name": "stdout",
     "output_type": "stream",
     "text": [
      "generated explanation: <pad> <extra_id_0> A small dog lived with a woman who loved him. She was often asked to leave her dog at home to spend the day with her. She was able to find a place where a dog could have lived. She asked her to live in a house with a person who loved her and a dog who loved her. The dog was a part of the family and was often accompanied by a host of other animals, including a cat, a cat, and other pets. The dog was often a favorite place to stay and play with the dog at the time of day. The dog is a favorite place to stay with a dog's owner and to play with the dog at the woman who loved him and the dog. The dog was often accompanied the dog and toys were often accompanied by a home and toy dog. The dog lived in a home that accompanied the dog. The person's owner's house, which was a place where the dog lived, and the woman who loved the dog and the dog. The dog also lived in a place where the dog was able to be able to play with the person, and the person, and the person who loved him. The dog's owner, and the dog's family, and the person who loved him and his family, and the dog would have been able to be able to play with the dog would have been able to live together. The dog would have lived with the woman who loved him would have loved him would have lived with her, the dog would have lived with her, and the woman would have been able to have lived in a relationship that would have been able to spend time with the dog would have been able to spend time</s>\n",
      "########\n",
      "*******\n",
      "question: There are usually four strings on what popular instrument?\n",
      "answer: guitar\n",
      "choices: ['trumpet', 'kite', 'quark', 'guitar', \"bird's nest\"]\n",
      "common expl list: ['Guitars have four strings.', 'A guitar is a stringed instrument with four strings.']\n"
     ]
    },
    {
     "name": "stderr",
     "output_type": "stream",
     "text": [
      "\r",
      " 20%|███████████████████████████████▋                                                                                                                                | 195/986 [2:44:39<15:57:28, 72.63s/it]"
     ]
    },
    {
     "name": "stdout",
     "output_type": "stream",
     "text": [
      "generated explanation: <pad> <extra_id_0> Guitars are a very popular instrument because they are composed of four strings, which are usually found in the middle of the guitar. The strings are usually composed of a combination of strings, which are usually arranged in a row. The strings are usually arranged in a row, which is a combination of strings and strings. They are usually made up of two or more strings, which are usually connected by a single string. This is because the string is composed of a single string, which is usually the most common string in the guitar. The strings are usually made up of two or three strings. The strings are usually acoustic or acoustic or acoustic, and are usually arranged in a single string, which is a popular instrument, and are used to create a musical accent. The strings are usually made up of three to four different strings. The guitar is typically made up of two to four strings. The strings are usually acoustic, and the strings are usually used to create a strong, acoustic, acoustic, or acoustic, or acoustic, or acoustic, or acoustic, or a coustic, or acoustic, or acoustic, or acoustic, or acoustic, or acoustic, or acoustic, or acoustic, or acoustic, acoustic, acoustic, or acoustic, or acoustic, or acoustic, acoustic, or acoustic, or acoustic, acoustic, acoustic, acoustic, acoustic, or acoustic, acoustic, acoustic, acoustic, acoustic, acoustic, acoustic, acoustic, acoustic, acoustic, acoustic, a coustic, a coucoustic, acoustic, acoustic, acoustic, acoustic\n",
      "########\n",
      "*******\n",
      "question: Where would you find a shelf with toys for young people learning?\n",
      "answer: school building\n",
      "choices: ['corner', 'school building', 'wall', 'library', 'bookstore']\n",
      "common expl list: ['School buildings house school libraries, in which you would find shelfs of toys, games and puzzle for students to use while in school.', 'A school building is a place where children learn, and so, a school building would have a shelf with toys for young people learning.']\n"
     ]
    },
    {
     "name": "stderr",
     "output_type": "stream",
     "text": [
      "\r",
      " 20%|███████████████████████████████▊                                                                                                                                | 196/986 [2:45:25<14:10:17, 64.58s/it]"
     ]
    },
    {
     "name": "stdout",
     "output_type": "stream",
     "text": [
      "generated explanation: <pad> <extra_id_0> A shelf with toys for young people learning is a great way to keep children engaged and engaged. It is also a great way to store and store toys. It is also a great way to store and store toys that are used to support students and provide entertainment for students. It is also a great way to store and store toys that are used to support students in their learning. It is also a great way to keep students engaged and engaged in learning. It is also a great way to store and store toys for children to use in their classrooms. It is a great way to keep children engaged and engaged, and it is a great way to keep them engaged in learning. It is a great way to keep young people learning. It is also a great way to keep the children engaged and engaged, and it is important to keep them engaged in a positive and engaged learning. It is important that a school building is a great way to keep the children and adults learning and to keep the kids engaged and engaged. It is important that the children and young people involved in the learning process, and to keep them engaged in the learning and to keep them interested in learning. Ultimately, a school building is a great place to keep the children’s learning and to keep them engaged in a positive environment that will help them learn and to keep them engaged in a positive environment.<extra_id_1> </s>\n",
      "########\n",
      "*******\n",
      "question: What can you get after drinking too much alcohol?\n",
      "answer: sickness\n",
      "choices: ['become drunk', 'have fun', 'active', 'frequent urination', 'sickness']\n",
      "common expl list: ['Alcohol is a diuretic, which means that it makes you urinate more frequently. This can lead to dehydration, which can cause sickness.', \"Drinking too much alchohol can impair the body and, consequently, one's ability to think straight. It can also cause sickness.\", \"Alcohol (e.g., beer, wine, etc.) is a chemical that alters people's consciousness, making them generally feel unpleasant; subsequently, over-consumption can lead to the vomiting of one's content inside one's stomach. Hence, being\"]\n"
     ]
    },
    {
     "name": "stderr",
     "output_type": "stream",
     "text": [
      "\r",
      " 20%|███████████████████████████████▉                                                                                                                                | 197/986 [2:45:52<11:43:41, 53.51s/it]"
     ]
    },
    {
     "name": "stdout",
     "output_type": "stream",
     "text": [
      "generated explanation: <pad> <extra_id_0> After drinking too much alcohol, you may experience symptoms such as nausea, vomiting, and headaches. This can lead to the development of a condition called apnea. In addition, alcohol is often metabolized by the body, which is a sign of aging. This can lead to a weakened immune system, which can lead to a weakened immune system. This is because alcohol can cause the body to react negatively to certain stimulants, which can lead to a rash or a history of mental illness. This can lead to a person to become ill, which can lead to apnea, apnea, and other symptoms. In addition, alcohol can lead to a weakened immune system, which can lead to a person's body to a reaction to alcohol. This can lead to a rash or other physical or mental illness. In addition, alcohol can cause a person to experience physical or mental retard and a variety of other symptoms. This can lead to the symptoms of sickness. The symptoms of the body to symptoms.<extra_id_1> </s>\n",
      "########\n",
      "*******\n",
      "question: WHat is the central bank responding to when they are fighting inflation?\n",
      "answer: problems\n",
      "choices: ['deflation', 'problems', 'spend more', 'people', 'not noticeable']\n",
      "common expl list: ['Periods of inflation cause problems for businesses and people. The central bank may take steps to fight inflation (reduce it) to respond to this problem. Reducing inflation also solves the overall issues.', 'Inflation is a problem, and the central bank is responding to it by fighting it.', 'Inflation is a function of having too much money in the economy. This may cause problems.', 'In order to fight inflation, a central bank must respond to the problem, e.g., economic trouble, which if left alone, would cause inflation']\n"
     ]
    },
    {
     "name": "stderr",
     "output_type": "stream",
     "text": [
      "\r",
      " 20%|████████████████████████████████▏                                                                                                                               | 198/986 [2:47:13<13:31:12, 61.77s/it]"
     ]
    },
    {
     "name": "stdout",
     "output_type": "stream",
     "text": [
      "generated explanation: <pad> <extra_id_0> When the central bank is fighting inflation, it is important to understand the impact of the economic crisis on the central bank. The central bank is responsible for addressing the problems that arise when it is addressing inflation problems. The central bank is also responsible for ensuring that the central bank is able to respond to the problems when it is dealing with inflation. This is because the central bank is a major player in the central bank and its activities are often characterized by a lack of transparency and transparency. The central bank is also responsible for ensuring that the central bank is able to respond to inflation when they are fighting inflation. The central bank is also responsible for addressing the problems that the central bank is able to solve. The central bank is also ensuring that the central bank is also responsible for ensuring that the central bank is able to respond to the problems that the central bank is able to tackle the problems that the central bank is able to effectively manage the central bank’s financial crisis. The central bank is also responsible for ensuring that the central bank is able to respond to inflation in order to help the central bank is able to respond to the inflationary crisis. The central bank is able to effectively respond to the central bank is able to provide the necessary financial services and ensures that the central bank is able to provide the necessary financial resources needed to deal with the inflation crisis effectively. The central bank is able to deal with the central bank is able to deal with the financial crisis, and that the central bank is able to provide the necessary services to the financial markets. The central bank is able to help the central bank in a timely and effective way that the central bank is able to effectively manage the financial markets and to ensure that the financial markets are well-informed decisions and decisions that are necessary to deal with the financial crisis.<extra_id_1> </s>\n",
      "########\n",
      "*******\n",
      "question: What could a massive building be if it is not constructed well?\n",
      "answer: insubstantial\n",
      "choices: ['insubstantial', 'massless', 'dwarf', 'inconsequential', 'good']\n",
      "common expl list: ['Because the massive structure is so large, poor construction could render it largely inconsequential, or \"insubstantial\", as a structure.', 'A building is typically considered a sizable construction, therefore, if erected poorly, would be construed as being insubstantial.']\n"
     ]
    },
    {
     "name": "stderr",
     "output_type": "stream",
     "text": [
      "\r",
      " 20%|████████████████████████████████▎                                                                                                                               | 199/986 [2:49:16<17:31:12, 80.14s/it]"
     ]
    },
    {
     "name": "stdout",
     "output_type": "stream",
     "text": [
      "generated explanation: <pad> <extra_id_0> A massive building could be if it is not constructed well. It could be a disaster if it is not constructed well. It could be a huge building if it is not well constructed. It could be a huge building if it is not constructed well. It could be a disaster if it is not constructed well, because it is not constructed well. It is important to understand the impact of the building on the environment and the building. It is important to understand the impact of the building on the environment and the environment, and the building should be constructed well in a way to prevent the damage caused by the building being damaged. It is important to understand the impact of the building should be constructed well, as it is not constructed well. It is a great idea that it is not constructed well, because it is a good idea to build a building well, because it is a good idea that it is not constructed well is a good idea. It is not constructed well is a building is not constructed well, and it is not constructed well to ensure that it is not built well. It is important to have a building is well constructed well. It is important to ensure that the building is not constructed well, as it is not constructed well, to ensure that the building is not constructed well, it is not constructed well, and it is not constructed well. The building is not constructed well, and it is not constructed well, and it is not constructed well, and that it is not constructed well, and therefore it is not constructed well. It is not constructed well, and that it is constructed well, and therefore, it is not constructed well. It is constructed well, and that it is constructed well enough to ensure that it is not constructed well. It is not constructed well is not well. It is constructed well. It is important to ensure that it is not constructed well. It is important to ensure that it is constructed well. It is important that the building is not constructed well, as it is not constructed well. It is important to make sure that the building is not constructed well. It is important that the building is constructed well. Buildings should be constructed well. It is not constructed well. It is important to ensure that the building is constructed well, as it is constructed well. It is built well. Buildings are constructed well to ensure that the building is constructed well. It is constructed well, and it is not constructed well, the building\n",
      "########\n",
      "*******\n",
      "question: If you rent a condominium in a glove-shaped state where are you?\n",
      "answer: michigan\n",
      "choices: ['great lake state', 'michigan', 'community', 'towels', 'complex']\n",
      "common expl list: ['A condominium is a type of housing that is often rented. Condominiums are often located in complexes, and Michigan is a state that is shaped like a mitten.']\n"
     ]
    },
    {
     "name": "stderr",
     "output_type": "stream",
     "text": [
      "\r",
      " 20%|████████████████████████████████▍                                                                                                                               | 200/986 [2:51:04<19:18:32, 88.44s/it]"
     ]
    },
    {
     "name": "stdout",
     "output_type": "stream",
     "text": [
      "generated explanation: <pad> <extra_id_0> If you rent a condominium in a glove-shaped state, you are renting a condominium in michigan. The state is known for its proximity to the airport, the airport, and the airport, which makes it easy to find a parking spot. The glove-shaped state is also known for its proximity to the airport, which makes it easier to find a parking spot. The glove-shaped state also has a lot of other states like southeastern states, such as the u. Those who rent out a condominium in michigan are located in the glove-shaped state, such as southeastern states, such as southeastern states, and the southeastern states, and the airports and other cities. The glove-shaped state is a glove-shaped state, which means that it is ideal for a condominium in a glove-shaped state. The glove-shaped state. The glove-shaped state is a great place to live in a glove-shaped state. The glove-shaped state, which means that it is a great place to live. It also means that it is a great place to live in a state such as michigan, such as michigan, which are known as michigan, is also a great place to live in a glove-shaped state, which means that it is a great place to live. It is a great place to live in a state where you can rent a condominium in michigan. It is a great place to live in a glove-shaped state, and it is a great place to live in a glove-shaped state, and it is a great place to live. It is a great place to rent a condominium in michigan. The glove-shaped state, and it is a glove-shaped state, and it is a state, and it is a great place to rent a glove-shaped state, and it is a great place to live. It is a great place to stay. It is also a great place to stay in the state, and it is a great place to stay.<extra_id_1> </s>\n",
      "########\n",
      "*******\n",
      "question: where do children play a game?\n",
      "answer: family room\n",
      "choices: ['toy store', 'bar', 'casino', 'table', 'family room']\n",
      "common expl list: ['A family room is a room in many homes in which families can socialize, often through games. One such game is \"connect four.', 'A family room is a room in a house where family members can play games.']\n"
     ]
    },
    {
     "name": "stderr",
     "output_type": "stream",
     "text": [
      "\r",
      " 20%|████████████████████████████████▍                                                                                                                               | 200/986 [2:51:49<11:15:17, 51.55s/it]"
     ]
    },
    {
     "name": "stdout",
     "output_type": "stream",
     "text": [
      "generated explanation: <pad> <extra_id_0> Children play a game in a family room because they are accustomed to the game and are accustomed to the play of other games. They are also known as family games, which are a great way to introduce new players to the game. Family rooms are also great places to play games, such as basketball, soccer, and other sports. They can also play board games, which are a great way to bond with other adults and to help them develop their own skills. They can also play other children in the family, which is a great way to help them develop their confidence and creativity. This is because children can have a great way to introduce themselves to new friends and family members. This is because they are a great way to build relationships and develop new friends. This is because it is important for children to develop a sense of belonging and to be able to develop a sense of belonging and bond with others. They can also play a sense of belonging and bonding. They can also play together in a family. This is a great place to bond and bond and bond with one another and to create a sense of belonging and bonding. Children can also learn new skills and develop new ones. They can bond and bond and bond with one another while playing together and to bond and bonding as a bond and bond and bond.<extra_id_1> </s>\n",
      "########\n"
     ]
    },
    {
     "name": "stderr",
     "output_type": "stream",
     "text": [
      "\n"
     ]
    }
   ],
   "source": [
    "from tqdm import tqdm\n",
    "fse_csqa_dev_data_dict\n",
    "fse_csqa_train_data_dict\n",
    "rationale_pair_dev_data = []\n",
    "cc=0\n",
    "good_model = model\n",
    "for da in tqdm(our_data_splits['dev'], total=len(our_data_splits['dev'])):\n",
    "    print(\"*******\")\n",
    "    print(\"question: {}\".format(da['question']))\n",
    "    print(\"answer: {}\".format(da['answer']))\n",
    "    print(\"choices: {}\".format(da['choices']))\n",
    "    #print(\"our_explanation: {}\".format(da['our_explanation']))\n",
    "    id_ = da['id']\n",
    "    if id_ in fse_csqa_dev_data_dict.keys():\n",
    "        common_expl_list = fse_csqa_dev_data_dict[id_]['common_expl_list']\n",
    "    else:\n",
    "        common_expl_list = fse_csqa_train_data_dict[id_]['common_expl_list']\n",
    "    da[\"common_expl_list\"] = common_expl_list\n",
    "    print(\"common expl list: {}\".format(common_expl_list))\n",
    "    inp_ids = torch.tensor(da[\"input_ids\"], device=model.device).reshape(1, -1)\n",
    "    out = good_model.generate(\n",
    "                    inp_ids,\n",
    "                    max_length=512,\n",
    "                    pad_token_id=tokenizer.pad_token_id,\n",
    "                    eos_token_id=tokenizer.eos_token_id,\n",
    "                )\n",
    "    skip_special_tokens = False if \"infilling\" in data_args.io_format else True\n",
    "    words = tokenizer.decode(out[0].tolist(), skip_special_tokens=skip_special_tokens)\n",
    "    print(\"generated explanation: {}\".format(words))\n",
    "    da[\"generated_explanation\"] = words\n",
    "    print(\"########\")\n",
    "    rationale_pair_dev_data.append(da)\n",
    "    cc += 1\n",
    "    if cc > 200:\n",
    "        break\n",
    "    #pdb.set_trace()"
   ]
  },
  {
   "cell_type": "code",
   "execution_count": 51,
   "id": "a7a66b99",
   "metadata": {},
   "outputs": [],
   "source": [
    "import json\n",
    "rationale_pair_save_path = os.path.join(\"./results\", \"96shots_cose_t5_base_text003_150_200_rationales_generator_test_rationale_pair.json\")\n",
    "with open(rationale_pair_save_path, 'w') as f:\n",
    "    json.dump(rationale_pair_dev_data, f)"
   ]
  },
  {
   "cell_type": "code",
   "execution_count": 52,
   "id": "33daef0f",
   "metadata": {},
   "outputs": [
    {
     "data": {
      "text/plain": [
       "dict_keys(['5b8a3081c3235d62bc77e2d15f3ad454', '07f108d5321a66f460685f5c7499ecb2', 'ff1bf2ec835c9df8695ae0cfb5281646', '33ea932a876ac0361c9eefeff1d24e92', '35ad89c198d5d6311a71c993bb7b6cba', 'a2aa95861ef74bf1ecfc55db505e3982', 'af3b9a8b1962cd3bcd19e644d873e7bc', '91e0f4ab62c9d2fd440d73a3f5308d96', 'cfc7fccb8449a2a950c9d2a50991420e', 'edbb57ac2f476679ae547f75ec2bef3e', '8555dd9667d010018961a2f7d1c22704', '8bdbb8caefcc607a9ec7579aa0c87cba', '549cf641318edfc0510fa7c7dbb359e1', 'd6c002d46d9bfa466637cec4a134f332', '3b9ccdcb1c932c46a38e040d3e6c7f5b', '54231f875bb7fe4d3e4afb6eae64387c', '668dc6bce771b10cbf6336f3ec76520a', '900492bd731f8f615ed7c08155737d44', '0b25bbd9e9aa976655e1975e31331709', '1729c737ff92cf558efecde2c6cafc5e', 'cc1a547bdfdcc95e4d632453af14bc96', 'c492b8b9754a181c924c1df19998cbc7', 'd31ee38f67d1173275e120b8ad36039c', '083861fc5ebb9226fff70544f3f83d2b', 'e1744fc698cffb574e5cf4b29a81ce76', '1f492f556fae64f72ce36b6caa242dd0', '27604394ccee83e089f9ffae1883cf07', 'b3dc6d6a5e2f9d7da8eb72816c80b3f8_1', '6bc3ebcfd04965c25bde71339955746c', '69335eb9bc5b7b5df840c38a086bf8b2', 'bc05bc6b4df7a3d25a361515fe8912ad', 'f7c005244d406b9bde48dc8c22003af1', 'f48528156632b9c5b18af9ce2095509b', 'b5baf77d3855935c87f01f5fb2216667', 'db1eb157671109bbb9113b0f71a6b957', '77ddc9134bb27f9962aa2ed5ec5a5ef9', '6abd34442438509b4a00c69d6fd24764', 'b67971747e95ba425a5b81e0ba8d0b28', 'bee2a6eadfaf7a4fa0a214e341ddbe5b', '8ce13c6e08bf38d4cd4af756b661e47c', '80930e9df9ac4ad752749a54e7fc124f_1', '3ffe67fb009529d9b0c49ccd7141ee4a', '8d3dc21a53523850ec80771daaa5ff20', '3310b5b24f03d67179fababf9ae95144', '998381f854f51da2a6ccde45909e5168', 'f427f9de6bf580314531baf86de8acbc', '18844d3aa4e52b331b5382c8244cf4db', '8af63d58cc35061dec38e5448c325988', '768fb09deab56046e1565b6a2556ad5c', '5655a3002dd9a6b7dabede1dd26a5893', '07ea8ff6ee916f2bf9aceab1e19ff99a', 'd35a8a3bd560fdd651ecf314878ed30f', '449de58e919975867255218484a9fc89', '7cf54544d54818d53e7088c0749a3eca', 'd29252ddaf7c7ef491abcce342d7bb98', '4a4f6408fae400ce0beb5bea0f9913e9', 'c306ab28498b67c53decb9dde1d78bd5', 'ba9132ebf2bc3ad21e6a0631dc4e0a77', '026cb9c07a583ec933f2c4c67ae73836', '2a21820a135e1a49883525c055c74a0b', '7c45033e9fd9f1a759923971b14390ed', 'dc964e4f6df6b70815e81e466d0ff717', '2a32b1e541b1daae04690d0d3a4b3310', '6c515b068b4d3aa88a5382224d9b866d', '6c84e79d0595efd99596faa07c4961d0', '42c46e28baf0fc617a07419286178c0a', 'c39131d979c9205c11d0e109e18188e4', 'c592258c88295756833e9796e881057b', '3526550b02d9594abd4fc43553010fc6', '637c710ec9582fd9b9e8eaa3f3fe83bb', '01f01cc3ad152773ef42b30e926912bf', 'c54ddc0f9d170ba65d9f4f2e0bb41d1c', 'ad37795fd9e3a65553683ff305b5113d', '7a3d0c94438a5c8a09364aaebb848a2c', '7c05e8d5a057085455eea243fbd1cd90', '4364b4b342fb7b44434bd6694bf8fd51', '99098375c7b651d524eebac72e358238', '1ddd239a2a6438a891cb411b82e7f450', 'f4bb8ecacb9ce89e040f5f76bc79afb3', '6b9221c1af583ffb43580857d6fde38a', 'cf8e30dd6956d03e3f0f0397112a8696', '456f2fb41cac8c028dcfe2f48637e473', 'c908d7c4633c5e6add9463bdd47cb27e', '2de08c7a518b7c226e19bdc8fc10ef1d', 'cd639cf3ff82f825ace7dd2b087562bd', 'e3c6d147f8a727d314046e70e9579ba0', 'b9b82aa4c236cd342ff95455b8516a42', 'e4976ee741cf4b28b8a42780ffb15774', '8d275acea05fd16295c659c504576a9b', '3bf06235a537adc9d85431846595b800', 'a7d51b753c2113d8b2dbd0ebb5375855_1', 'bcc5dd6292a64d8fa17cd07c360b335d', '46ba5d2b8cfc6708e5e2618568d8730e', '9f9ca9bb06d6afc31b19c365fb29a1c9', '3d9c3253e24fb108cea9083e8a853cf2', '3b8e1d236f5169b6c833a994d6d9c39a', '6ca8439d062de4d43d7d471c508b78db', 'ec86900559a0faf2aef066e511a4cfa6', '57e96118fee6e2bbac5f59790fc833c0', '520b0eea9148e3cb4d45aa69a55491eb', '6be05d227f4f6fe727218fc8be9df340', '113aaea2b1a27a976547f54e531d99bb', '2f0931adc3d0d422d9ab6264395e89d8', 'cce1b59f7c4f540a84a1a7d6d88548c4', '870b07a1c5af2e956673a9680da99852', '34005ef0caafefc8585c9fcd50e94557', '22458fdcead20e2def0df0d92d5806f6', 'ec224c1dbfb569cce7ec317fe987ae68', 'ede4d302fc2ffe07703158f83c1493f2', 'ecd32cc0c17d4738a27bba3399f04591', '5c171b9837af49211891ce40e4a10204', '801431167b8bff06b9870abe9721536b', 'b47d912136e3304cb5e5890b6b879551', 'd0bd5b5ee7319d1c4727e38d429dd54e', '78276a4eab6e8d6b9ae3749211816977', 'ec79ef747bb89281923edb89ba26786d', '0e80f2afe5c4f652e8720b52d7c06c87', '39572e0ba1db51fa74f7fc2d90c5ec7f', '56417ee33b44f0d916bedfb6fd99b0ec', 'f996430ce208606452868fd2e739d409', '858a5eaa587fe0e266722228671a6bd1', '273d0134e8ce53d4ebcf41ca7fde02af', '49e466b1782aa4837dae53ff891fcdee', '08d908ed723f813574992195d61386a2', '7192c9f5c513aac9042bad595ff5af9f', 'aa4c5d2d348796b8d7fa324f27f4c34f', '0e52659484f2f6d763cf0d38d4c5999d', '4423c006f2a43f222d4c4e97360c25d3', 'f4a75bf3f115b826a8097edfd0ff2781', '07b51b231a9d6a143d8a73e69121e1b1', 'c2a8c6814ed3e207771cfc23b3b42cf1', 'f13efb91090dd28fd2b3c1f4dde680fd', '985a4f1a3f31f1ba6654f4fc48f504df', '9e5ce2b7d9eb404cdf8c7317dd0b5a59', 'a400b9fd1e319f901471c4b42d401c52', '042898e0c71adac5d123aaa6221c9754', '29c194d032a266a7160bff6f546a4d9d', 'db0cfd52ca6b2bbfcf26d1a898fd929b', '2a0e82bbf1471290c93c8f2a11af197f', '49b4c9e1bd7946a819e173ce8fa4c7c9', '6cb895ce89995f6be422f7c4167c7638', 'df1bf6f3f87975aa0c1b6d6153d9ecef', '1bf4c6b5bd870b1a079106e1e97e5d09', '8ae24d3ff199077a59e0d970feb665b7', 'bb503ece4eac41dfe608a1dcb654e6bf', '6e77de03bee86d6c20780e14f00944d0', '5799089c131e26473697afc54d5f6964', '895aa97bb84d874d71b2aed572cebfdd', '23d97480fe45bace231503f8fc367a5b', 'a2977fd575faba162d04a490dabd1b9b', '5a1c8a9dbbb60e523cc1ba14a370729c', '5496c7293f653120e5a5213db2d7b103', '7044d82a456d0fa6f0210abb03cbf2c4', '15b090801256085ad465e74af47cbee9', 'aa984e2b487d08889bc0c73bab5ac945', '4302e727e47f464511d4d04f22bed0d2', 'b6b66d4519a84b8331ea55f84767e9df', '0e5c7c0cec5b693e52f74f5f879d84fb', 'e408a5a031caec33782cb3b3a005eecc', '96cb628fb7ed2f53245598f707ed2b80', '2067720531fc03c017af941cec2f6f40', '5b8d76889510384b38b72945e8d28f53', 'cf33e0f5891ce53a716432be06a46ee1', '24eebfa678112100803da16dde148b2d', '0c2fa15a02d0b6ca6707e98fac7589e4', 'c2c2a387fd9a6a26cff636008de21f71', 'f20d40bc4af588223e880e0bb58b27b8', 'b42ef8be1748c19fa5938de5396f8fad', '57b83653d82b27d32bc39228130f3516', '2192c5c2145a6e03755ad89a02e64055', '175e7dcdded13d5adafaebf2264c3abd', '8d4b0312f02be445e09a9462873d02bb', 'cfa081b5ba90dae4d7ddb5b7ad9d369a', 'd6bb990e8c409d2b3af37a2da198e01f', '20a3bb788cf408d9a3e25e610fe60905', 'af11faa29097b71141fe192ad019d1dd', '6915dfdefe3b1cd5fd8886c8bb84929a', '43ba9669564217f2f909f33acbedaf95', 'fce1c5d069758aea57a787fc98dcf7a9', '32758ab86d888be680845b0dfe7de35e', '7ea57ee4580042b0a6a40479c8ace3e4', '21fb76bd8349628b441c76f47c33e77b', '3fe45ab3bd4a844ea290050fc0ece8c1_1', '3dee8fc7f0a3fbf4de111b6686fca157', 'ceafca2445b1b974d085a8cce38e8e44', '42520bf3f93f8de23670044e019001a3', '5ea6b94d1a911365b06cf776919413e8', '2d3c9d3dff1a7a8253180cb3de1ceeea', 'a4892551cb4beb279653ae52d0de4c89', 'e050bce7048da1b3743a54153e91694e', 'eb50f536830ba18ab987c7ff652e2aba', '6386bcf080633bc3eeb3317a5435b7b7', '839f3c37622c1ed5eebc9cd0b9d658e8', '009a7aabffe0583fc2df46656b29c326', 'c82ed0c2a2e115452b4d596c5faafbcf', '01abce8c4964371d85a5be2019f75827', '7d937233b4a9043da0b976dbd42d141b', 'c611875b43b67b91030b889b267bbcb3', '7bc1198664b376f79d584725ad7f874b', '5e260e1d96187716888cbd968010bb65', 'fde48d43e27cefed6ed9c52514e0bb6d', '43ab0ff711e60d51f943bbd2cdd6515a', '1a8b3c2a46efabcbd506f9cf70886ed0', '48a315cfa3ce11f7a9d615bc854331d5', '095767956c500ca1af7cf7671556de5b', 'de54d03e69d9765872f95ff06ed21499', 'cbf3dd48b4d591fc872a53cd4b9dd3af', '35872be88df5f6c4a6600020266a5458', 'a90f9197a13c64089c9ba95bcba275ad', 'bd4e80fa6642a76c064d0bc924411fb0', '008b7ba0c039f6d0d542c6c90aae173c', 'ace8fa2943ba8414aebdb74b48906fae', '1caf93d6a22dc8190e19c14bbe1fafda', '7c8bc9c0e56389eef033bca40c88c151', '6195ed74cf445cb5d991e1076a080dde', '8086f022f2d4a4888ae1f8c7e4541ab9', '1e5a138b4c7d456c37abf4990b402bbe', '3f4b48708d08f8bf7bec796531023f9c', '60e92cd2f35c345872d1a898e1718d55', '9889e5389917d812c09d6e5d382d333d', '46351b3a6beb694c5f623583a3b1473d', '7b7941b883328ad39048d4dfb1eb5623', '7d7f7d7a8ae3b20ca9fc0da6efe467b4', 'c961578f4c5768b67b843e5d2ce18452', '514310637fb43a252bfadc8cbf79b277', '5279a2ea333ba8a5bf3a7637a7279da1', '5622e49306bb82ec1cec817ad0506c60', 'fcd39cfa321728fea069a6ae4285b06f', '26bd85f05d29863ed777a4f1a4b8fa63', '31487ab8b1e8f12e252590cc58bd19c2', 'ffd89796a9b09bef56c5803f188764c6', 'ba3a2b9ff289c106051163f840a6f5ba', 'b1f36d1c8ab7e5a28783cb38e8709c27', '5c2bc4335c8860342ec2d568ceb6ac6b', '36c1f50eec01c287b8ef6ffe69fe0528', '515834727e23e30ab7c8fe5ba7e9a765', 'a15d564d0be6996251b5d523ac62db2a', '8f01273422a370a8dbda6bf473a395a0', 'cabefb7063a728e77abd44d97397a2a4', '1bc986f8aea88d6927d8a45367855a94', '484f6e4fb8e6431b010c299490b72e3c', 'a7e3de0719fe30e7048f67426e29fdd1', 'a617eb4d27edea93e7fd630ce00c8219', '2c0030cc14a27be2401dcfdaa501f0fc', 'cf02cca40a47c2deefd8b2e5a5ff2f70', 'ea0e7771afd86a59fd9f7764b77e3fa4', 'c1aebf059c5102f4e773f7fe4afe13f0', '95a85df48902d23eb3fda25a99fca1a0', 'a4b44a986e7f9045432e20ea75611df4', '05490e6c191fbc3c2fe0033ed0bd8aa0'])"
      ]
     },
     "execution_count": 52,
     "metadata": {},
     "output_type": "execute_result"
    }
   ],
   "source": [
    "fse_csqa_dev_data_dict.keys()"
   ]
  },
  {
   "cell_type": "code",
   "execution_count": null,
   "id": "bd852d7d",
   "metadata": {},
   "outputs": [],
   "source": []
  }
 ],
 "metadata": {
  "kernelspec": {
   "display_name": "Python 3 (ipykernel)",
   "language": "python",
   "name": "python3"
  },
  "language_info": {
   "codemirror_mode": {
    "name": "ipython",
    "version": 3
   },
   "file_extension": ".py",
   "mimetype": "text/x-python",
   "name": "python",
   "nbconvert_exporter": "python",
   "pygments_lexer": "ipython3",
   "version": "3.7.0"
  }
 },
 "nbformat": 4,
 "nbformat_minor": 5
}
